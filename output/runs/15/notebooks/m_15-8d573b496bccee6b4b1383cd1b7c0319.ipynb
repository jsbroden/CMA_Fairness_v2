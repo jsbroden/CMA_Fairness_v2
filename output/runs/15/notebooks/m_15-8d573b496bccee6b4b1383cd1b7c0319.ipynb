{
 "cells": [
  {
   "cell_type": "code",
   "execution_count": 1,
   "id": "f159f837-637b-42ba-96b5-ec9a68c44524",
   "metadata": {
    "execution": {
     "iopub.execute_input": "2025-08-05T16:26:26.947227Z",
     "iopub.status.busy": "2025-08-05T16:26:26.946344Z",
     "iopub.status.idle": "2025-08-05T16:26:26.961422Z",
     "shell.execute_reply": "2025-08-05T16:26:26.960387Z"
    },
    "papermill": {
     "duration": 0.037611,
     "end_time": "2025-08-05T16:26:26.963406",
     "exception": false,
     "start_time": "2025-08-05T16:26:26.925795",
     "status": "completed"
    },
    "tags": []
   },
   "outputs": [
    {
     "name": "stdout",
     "output_type": "stream",
     "text": [
      "/dss/dsshome1/0C/ra93lal2/cma/CMA_Fairness_v2\n"
     ]
    },
    {
     "name": "stderr",
     "output_type": "stream",
     "text": [
      "/dss/dsshome1/0C/ra93lal2/.local/share/virtualenvs/CMA_Fairness_v2-3j10GkSs/lib/python3.10/site-packages/IPython/core/magics/osm.py:393: UserWarning: This is now an optional IPython functionality, using bookmarks requires you to install the `pickleshare` library.\n",
      "  bkms = self.shell.db.get('bookmarks', {})\n",
      "/dss/dsshome1/0C/ra93lal2/.local/share/virtualenvs/CMA_Fairness_v2-3j10GkSs/lib/python3.10/site-packages/IPython/core/magics/osm.py:417: UserWarning: This is now an optional IPython functionality, setting dhist requires you to install the `pickleshare` library.\n",
      "  self.shell.db['dhist'] = compress_dhist(dhist)[-100:]\n"
     ]
    }
   ],
   "source": [
    "%cd ~/cma/CMA_Fairness_v2"
   ]
  },
  {
   "cell_type": "markdown",
   "id": "de2603b9",
   "metadata": {
    "papermill": {
     "duration": 0.018436,
     "end_time": "2025-08-05T16:26:27.001269",
     "exception": false,
     "start_time": "2025-08-05T16:26:26.982833",
     "status": "completed"
    },
    "tags": []
   },
   "source": [
    "The following cell holds the definition of our parameters, these values can be overriden by rendering the with e.g. the following command:\n",
    "\n",
    "papermill -p alpha 0.2 -p ratio 0.3 universe_analysis.ipynb output/test_run.ipynb"
   ]
  },
  {
   "cell_type": "code",
   "execution_count": 2,
   "id": "a80968a0-40bb-4fa9-85ef-2d5eefb01975",
   "metadata": {
    "execution": {
     "iopub.execute_input": "2025-08-05T16:26:27.041772Z",
     "iopub.status.busy": "2025-08-05T16:26:27.039741Z",
     "iopub.status.idle": "2025-08-05T16:26:27.047373Z",
     "shell.execute_reply": "2025-08-05T16:26:27.045878Z"
    },
    "papermill": {
     "duration": 0.029337,
     "end_time": "2025-08-05T16:26:27.049100",
     "exception": false,
     "start_time": "2025-08-05T16:26:27.019763",
     "status": "completed"
    },
    "tags": []
   },
   "outputs": [
    {
     "name": "stdout",
     "output_type": "stream",
     "text": [
      "Current working directory: /dss/dsshome1/0C/ra93lal2/cma/CMA_Fairness_v2\n"
     ]
    }
   ],
   "source": [
    "import os\n",
    "print(\"Current working directory:\", os.getcwd())"
   ]
  },
  {
   "cell_type": "code",
   "execution_count": 3,
   "id": "2dce4c03",
   "metadata": {
    "execution": {
     "iopub.execute_input": "2025-08-05T16:26:27.088868Z",
     "iopub.status.busy": "2025-08-05T16:26:27.088112Z",
     "iopub.status.idle": "2025-08-05T16:26:27.095379Z",
     "shell.execute_reply": "2025-08-05T16:26:27.094368Z"
    },
    "papermill": {
     "duration": 0.029223,
     "end_time": "2025-08-05T16:26:27.097182",
     "exception": false,
     "start_time": "2025-08-05T16:26:27.067959",
     "status": "completed"
    },
    "tags": [
     "parameters"
    ]
   },
   "outputs": [],
   "source": [
    "run_no = 0\n",
    "universe_id = \"test\"\n",
    "universe = {\n",
    "    \"training_size\": \"25k\", # \"25k\", \"5k\", \"1k\"\n",
    "    \"training_year\": \"2014\", # \"2014\", \"2012_14\", \"2010_14\"\n",
    "    \"scale\": \"scale\", # \"scale\", \"do-not-scale\",\n",
    "    \"model\": \"elasticnet\", # \"logreg\", \"penalized_logreg\", \"rf\", \"gbm\", \"elasticnet\"\n",
    "    \"cutoff\": [\"quantile_0.15\", \"quantile_0.30\"],\n",
    "    \"exclude_features\": \"age\", # \"none\", \"nationality\", \"sex\", \"nationality-sex\", \"age\"\n",
    "    \"exclude_subgroups\": \"keep-all\", # \"keep-all\", \"drop-non-german\"\n",
    "    \"eval_fairness_grouping\": [\"majority-minority\", \"nationality-all\"]\n",
    "}\n",
    "\n",
    "output_dir=\"./output\"\n",
    "seed=0"
   ]
  },
  {
   "cell_type": "code",
   "execution_count": 4,
   "id": "60d6d57b",
   "metadata": {
    "execution": {
     "iopub.execute_input": "2025-08-05T16:26:27.141648Z",
     "iopub.status.busy": "2025-08-05T16:26:27.140876Z",
     "iopub.status.idle": "2025-08-05T16:26:27.147376Z",
     "shell.execute_reply": "2025-08-05T16:26:27.146339Z"
    },
    "papermill": {
     "duration": 0.03101,
     "end_time": "2025-08-05T16:26:27.149201",
     "exception": false,
     "start_time": "2025-08-05T16:26:27.118191",
     "status": "completed"
    },
    "tags": [
     "injected-parameters"
    ]
   },
   "outputs": [],
   "source": [
    "# Parameters\n",
    "universe_id = \"8d573b496bccee6b4b1383cd1b7c0319\"\n",
    "run_no = \"15\"\n",
    "universe = \"{\\\"cutoff\\\": [\\\"quantile_0.1\\\", \\\"quantile_0.25\\\"], \\\"eval_fairness_grouping\\\": [\\\"majority-minority\\\", \\\"nationality-all\\\"], \\\"exclude_features\\\": \\\"nationality\\\", \\\"exclude_subgroups\\\": \\\"keep-all\\\", \\\"model\\\": \\\"rf\\\", \\\"scale\\\": \\\"do-not-scale\\\", \\\"training_size\\\": \\\"1k\\\", \\\"training_year\\\": \\\"2012_14\\\"}\"\n",
    "output_dir = \"output\"\n",
    "seed = \"2023\"\n"
   ]
  },
  {
   "cell_type": "code",
   "execution_count": 5,
   "id": "1650acaf",
   "metadata": {
    "execution": {
     "iopub.execute_input": "2025-08-05T16:26:27.193612Z",
     "iopub.status.busy": "2025-08-05T16:26:27.192570Z",
     "iopub.status.idle": "2025-08-05T16:26:27.197918Z",
     "shell.execute_reply": "2025-08-05T16:26:27.196940Z"
    },
    "papermill": {
     "duration": 0.029439,
     "end_time": "2025-08-05T16:26:27.199635",
     "exception": false,
     "start_time": "2025-08-05T16:26:27.170196",
     "status": "completed"
    },
    "tags": []
   },
   "outputs": [],
   "source": [
    "import json\n",
    "if isinstance(universe, str):\n",
    "    universe = json.loads(universe)"
   ]
  },
  {
   "cell_type": "code",
   "execution_count": 6,
   "id": "16620c48",
   "metadata": {
    "execution": {
     "iopub.execute_input": "2025-08-05T16:26:27.245230Z",
     "iopub.status.busy": "2025-08-05T16:26:27.244575Z",
     "iopub.status.idle": "2025-08-05T16:26:27.298325Z",
     "shell.execute_reply": "2025-08-05T16:26:27.297293Z"
    },
    "papermill": {
     "duration": 0.079741,
     "end_time": "2025-08-05T16:26:27.300462",
     "exception": false,
     "start_time": "2025-08-05T16:26:27.220721",
     "status": "completed"
    },
    "tags": []
   },
   "outputs": [],
   "source": [
    "# Auto-reload the custom package\n",
    "%load_ext autoreload\n",
    "%autoreload 1\n",
    "%aimport fairness_multiverse"
   ]
  },
  {
   "cell_type": "code",
   "execution_count": 7,
   "id": "01c5c9f3",
   "metadata": {
    "execution": {
     "iopub.execute_input": "2025-08-05T16:26:27.347356Z",
     "iopub.status.busy": "2025-08-05T16:26:27.346618Z",
     "iopub.status.idle": "2025-08-05T16:26:29.697574Z",
     "shell.execute_reply": "2025-08-05T16:26:29.696388Z"
    },
    "papermill": {
     "duration": 2.376419,
     "end_time": "2025-08-05T16:26:29.699772",
     "exception": false,
     "start_time": "2025-08-05T16:26:27.323353",
     "status": "completed"
    },
    "tags": []
   },
   "outputs": [],
   "source": [
    "from fairness_multiverse.universe import UniverseAnalysis\n",
    "\n",
    "universe_analysis = UniverseAnalysis(\n",
    "    run_no = run_no,\n",
    "    universe_id = universe_id,\n",
    "    universe = universe,\n",
    "    output_dir=output_dir,\n",
    ")"
   ]
  },
  {
   "cell_type": "code",
   "execution_count": 8,
   "id": "106241f5",
   "metadata": {
    "execution": {
     "iopub.execute_input": "2025-08-05T16:26:29.743513Z",
     "iopub.status.busy": "2025-08-05T16:26:29.742321Z",
     "iopub.status.idle": "2025-08-05T16:26:29.750423Z",
     "shell.execute_reply": "2025-08-05T16:26:29.749199Z"
    },
    "papermill": {
     "duration": 0.031849,
     "end_time": "2025-08-05T16:26:29.752337",
     "exception": false,
     "start_time": "2025-08-05T16:26:29.720488",
     "status": "completed"
    },
    "tags": []
   },
   "outputs": [
    {
     "name": "stdout",
     "output_type": "stream",
     "text": [
      "Using Seed: 2023\n"
     ]
    }
   ],
   "source": [
    "import numpy as np\n",
    "parsed_seed = int(seed)\n",
    "np.random.seed(parsed_seed)\n",
    "print(f\"Using Seed: {parsed_seed}\")"
   ]
  },
  {
   "cell_type": "markdown",
   "id": "e0ebdc57",
   "metadata": {
    "papermill": {
     "duration": 0.020489,
     "end_time": "2025-08-05T16:26:29.792609",
     "exception": false,
     "start_time": "2025-08-05T16:26:29.772120",
     "status": "completed"
    },
    "tags": []
   },
   "source": [
    "# Loading Data"
   ]
  },
  {
   "cell_type": "code",
   "execution_count": 9,
   "id": "f0496b8a",
   "metadata": {
    "execution": {
     "iopub.execute_input": "2025-08-05T16:26:29.833991Z",
     "iopub.status.busy": "2025-08-05T16:26:29.833318Z",
     "iopub.status.idle": "2025-08-05T16:26:41.662835Z",
     "shell.execute_reply": "2025-08-05T16:26:41.661558Z"
    },
    "papermill": {
     "duration": 11.852043,
     "end_time": "2025-08-05T16:26:41.664407",
     "exception": false,
     "start_time": "2025-08-05T16:26:29.812364",
     "status": "completed"
    },
    "tags": []
   },
   "outputs": [
    {
     "name": "stdout",
     "output_type": "stream",
     "text": [
      "Loading SIAB data from cache: data/siab_cached.csv.gz\n"
     ]
    },
    {
     "name": "stdout",
     "output_type": "stream",
     "text": [
      "(643690, 164)\n"
     ]
    }
   ],
   "source": [
    "from pathlib import Path\n",
    "import pandas as pd\n",
    "\n",
    "# File paths\n",
    "raw_file = Path(\"data/raw/siab.csv\")\n",
    "cache_file = Path(\"data/siab_cached.csv.gz\")\n",
    "\n",
    "# Ensure cache directory exists\n",
    "cache_file.parent.mkdir(parents=True, exist_ok=True)\n",
    "\n",
    "# Load with simple caching\n",
    "if cache_file.exists():\n",
    "    print(f\"Loading SIAB data from cache: {cache_file}\")\n",
    "    siab = pd.read_csv(cache_file, compression='gzip')\n",
    "else:\n",
    "    print(f\"Cache not found. Reading raw SIAB data: {raw_file}\")\n",
    "    siab = pd.read_csv(raw_file)\n",
    "    siab.to_csv(cache_file, index=False, compression='gzip')\n",
    "    print(f\"Cached SIAB data to: {cache_file}\")\n",
    "\n",
    "print(siab.shape)"
   ]
  },
  {
   "cell_type": "code",
   "execution_count": 10,
   "id": "db0ca512-5f53-4dba-abdb-a2888bca41ba",
   "metadata": {
    "execution": {
     "iopub.execute_input": "2025-08-05T16:26:41.692187Z",
     "iopub.status.busy": "2025-08-05T16:26:41.691403Z",
     "iopub.status.idle": "2025-08-05T16:26:41.697265Z",
     "shell.execute_reply": "2025-08-05T16:26:41.696320Z"
    },
    "papermill": {
     "duration": 0.020033,
     "end_time": "2025-08-05T16:26:41.698828",
     "exception": false,
     "start_time": "2025-08-05T16:26:41.678795",
     "status": "completed"
    },
    "tags": []
   },
   "outputs": [],
   "source": [
    "#siab"
   ]
  },
  {
   "cell_type": "markdown",
   "id": "997051c5-15bd-4b69-9786-c3001a3ce484",
   "metadata": {
    "papermill": {
     "duration": 0.011114,
     "end_time": "2025-08-05T16:26:41.721834",
     "exception": false,
     "start_time": "2025-08-05T16:26:41.710720",
     "status": "completed"
    },
    "tags": []
   },
   "source": [
    "# Splitting Data and Setting Training Data Size"
   ]
  },
  {
   "cell_type": "code",
   "execution_count": 11,
   "id": "aea9c6ef-6f46-42c8-85eb-5a62025c1508",
   "metadata": {
    "execution": {
     "iopub.execute_input": "2025-08-05T16:26:41.746181Z",
     "iopub.status.busy": "2025-08-05T16:26:41.745292Z",
     "iopub.status.idle": "2025-08-05T16:26:42.316246Z",
     "shell.execute_reply": "2025-08-05T16:26:42.315359Z"
    },
    "papermill": {
     "duration": 0.58493,
     "end_time": "2025-08-05T16:26:42.317944",
     "exception": false,
     "start_time": "2025-08-05T16:26:41.733014",
     "status": "completed"
    },
    "tags": []
   },
   "outputs": [],
   "source": [
    "from fairness_multiverse.universe import sample_by_year_size\n",
    "\n",
    "siab_train = sample_by_year_size(siab,\n",
    "                               training_year=universe[\"training_year\"],\n",
    "                               training_size=universe[\"training_size\"])"
   ]
  },
  {
   "cell_type": "code",
   "execution_count": 12,
   "id": "8d3afb32-789d-442c-8d5d-9f5aa8dd2eed",
   "metadata": {
    "execution": {
     "iopub.execute_input": "2025-08-05T16:26:42.342450Z",
     "iopub.status.busy": "2025-08-05T16:26:42.342027Z",
     "iopub.status.idle": "2025-08-05T16:26:42.347618Z",
     "shell.execute_reply": "2025-08-05T16:26:42.346813Z"
    },
    "papermill": {
     "duration": 0.019422,
     "end_time": "2025-08-05T16:26:42.349158",
     "exception": false,
     "start_time": "2025-08-05T16:26:42.329736",
     "status": "completed"
    },
    "tags": []
   },
   "outputs": [],
   "source": [
    "#siab_train.shape"
   ]
  },
  {
   "cell_type": "code",
   "execution_count": 13,
   "id": "d582db68-1a4c-47fb-84fc-08518dc1975a",
   "metadata": {
    "execution": {
     "iopub.execute_input": "2025-08-05T16:26:42.374060Z",
     "iopub.status.busy": "2025-08-05T16:26:42.373211Z",
     "iopub.status.idle": "2025-08-05T16:26:42.378374Z",
     "shell.execute_reply": "2025-08-05T16:26:42.377459Z"
    },
    "papermill": {
     "duration": 0.018926,
     "end_time": "2025-08-05T16:26:42.379909",
     "exception": false,
     "start_time": "2025-08-05T16:26:42.360983",
     "status": "completed"
    },
    "tags": []
   },
   "outputs": [],
   "source": [
    "#display(siab_train.groupby(\"year\").size())"
   ]
  },
  {
   "cell_type": "code",
   "execution_count": 14,
   "id": "a561edb4-d032-42cb-8256-22eac1111c64",
   "metadata": {
    "execution": {
     "iopub.execute_input": "2025-08-05T16:26:42.404924Z",
     "iopub.status.busy": "2025-08-05T16:26:42.404246Z",
     "iopub.status.idle": "2025-08-05T16:26:42.653511Z",
     "shell.execute_reply": "2025-08-05T16:26:42.652619Z"
    },
    "papermill": {
     "duration": 0.263441,
     "end_time": "2025-08-05T16:26:42.655261",
     "exception": false,
     "start_time": "2025-08-05T16:26:42.391820",
     "status": "completed"
    },
    "tags": []
   },
   "outputs": [],
   "source": [
    "#siab_train = siab_s[siab_s.year < 2015]\n",
    "siab_calib = siab[siab.year == 2015]\n",
    "siab_test = siab[siab.year == 2016]"
   ]
  },
  {
   "cell_type": "code",
   "execution_count": 15,
   "id": "472de16f-c3db-4916-846b-1f0de9cf1746",
   "metadata": {
    "execution": {
     "iopub.execute_input": "2025-08-05T16:26:42.680086Z",
     "iopub.status.busy": "2025-08-05T16:26:42.679636Z",
     "iopub.status.idle": "2025-08-05T16:26:42.686003Z",
     "shell.execute_reply": "2025-08-05T16:26:42.684866Z"
    },
    "papermill": {
     "duration": 0.020184,
     "end_time": "2025-08-05T16:26:42.687475",
     "exception": false,
     "start_time": "2025-08-05T16:26:42.667291",
     "status": "completed"
    },
    "tags": []
   },
   "outputs": [],
   "source": [
    "X_train = siab_train.iloc[:,4:164]\n",
    "y_train = siab_train.iloc[:, [3]]"
   ]
  },
  {
   "cell_type": "code",
   "execution_count": 16,
   "id": "828c96af-f43a-4ed6-ba47-8ac73a47d56c",
   "metadata": {
    "execution": {
     "iopub.execute_input": "2025-08-05T16:26:42.712880Z",
     "iopub.status.busy": "2025-08-05T16:26:42.712047Z",
     "iopub.status.idle": "2025-08-05T16:26:42.779416Z",
     "shell.execute_reply": "2025-08-05T16:26:42.778548Z"
    },
    "papermill": {
     "duration": 0.081527,
     "end_time": "2025-08-05T16:26:42.781039",
     "exception": false,
     "start_time": "2025-08-05T16:26:42.699512",
     "status": "completed"
    },
    "tags": []
   },
   "outputs": [],
   "source": [
    "X_calib = siab_calib.iloc[:,4:164]\n",
    "y_calib = siab_calib.iloc[:, [3]]"
   ]
  },
  {
   "cell_type": "code",
   "execution_count": 17,
   "id": "c34be9c3-6bd6-476e-acd3-845840e303be",
   "metadata": {
    "execution": {
     "iopub.execute_input": "2025-08-05T16:26:42.806128Z",
     "iopub.status.busy": "2025-08-05T16:26:42.805211Z",
     "iopub.status.idle": "2025-08-05T16:26:42.859583Z",
     "shell.execute_reply": "2025-08-05T16:26:42.858596Z"
    },
    "papermill": {
     "duration": 0.068076,
     "end_time": "2025-08-05T16:26:42.861123",
     "exception": false,
     "start_time": "2025-08-05T16:26:42.793047",
     "status": "completed"
    },
    "tags": []
   },
   "outputs": [],
   "source": [
    "X_test = siab_test.iloc[:,4:164]\n",
    "y_true = siab_test.iloc[:, [3]]"
   ]
  },
  {
   "cell_type": "code",
   "execution_count": 18,
   "id": "e6c733c5",
   "metadata": {
    "execution": {
     "iopub.execute_input": "2025-08-05T16:26:42.886583Z",
     "iopub.status.busy": "2025-08-05T16:26:42.885894Z",
     "iopub.status.idle": "2025-08-05T16:26:42.984815Z",
     "shell.execute_reply": "2025-08-05T16:26:42.983900Z"
    },
    "papermill": {
     "duration": 0.113094,
     "end_time": "2025-08-05T16:26:42.986585",
     "exception": false,
     "start_time": "2025-08-05T16:26:42.873491",
     "status": "completed"
    },
    "tags": []
   },
   "outputs": [],
   "source": [
    "# Auxiliary data needed downstream in the pipeline\n",
    "\n",
    "org_train = X_train.copy()\n",
    "org_test = X_test.copy()\n",
    "org_calib = X_calib.copy()"
   ]
  },
  {
   "cell_type": "markdown",
   "id": "0a4a1b33",
   "metadata": {
    "papermill": {
     "duration": 0.011282,
     "end_time": "2025-08-05T16:26:43.009927",
     "exception": false,
     "start_time": "2025-08-05T16:26:42.998645",
     "status": "completed"
    },
    "tags": []
   },
   "source": [
    "# Preprocessing Data"
   ]
  },
  {
   "cell_type": "code",
   "execution_count": 19,
   "id": "ca879031",
   "metadata": {
    "execution": {
     "iopub.execute_input": "2025-08-05T16:26:43.034631Z",
     "iopub.status.busy": "2025-08-05T16:26:43.033594Z",
     "iopub.status.idle": "2025-08-05T16:26:43.039612Z",
     "shell.execute_reply": "2025-08-05T16:26:43.038788Z"
    },
    "papermill": {
     "duration": 0.020013,
     "end_time": "2025-08-05T16:26:43.041149",
     "exception": false,
     "start_time": "2025-08-05T16:26:43.021136",
     "status": "completed"
    },
    "tags": []
   },
   "outputs": [],
   "source": [
    "# EXCLUDE PROTECTED FEATURES\n",
    "# ----------------------\n",
    "# \"exclude_features\": \"none\", # \"nationality\", \"sex\", \"nationality-sex\"\n",
    "\n",
    "excluded_features = universe[\"exclude_features\"].split(\"-\") # split, e.g.: \"nationality-sex\" -> [\"nationality\", \"sex\"]\n",
    "excluded_features_dictionary = {\n",
    "    \"nationality\": [\"maxdeutsch1\", \"maxdeutsch.Missing.\"],\n",
    "    \"sex\": [\"frau1\"],\n",
    "    \"age\": [\"age\"],\n",
    "}"
   ]
  },
  {
   "cell_type": "code",
   "execution_count": 20,
   "id": "b745ac60",
   "metadata": {
    "execution": {
     "iopub.execute_input": "2025-08-05T16:26:43.066415Z",
     "iopub.status.busy": "2025-08-05T16:26:43.065697Z",
     "iopub.status.idle": "2025-08-05T16:26:43.071469Z",
     "shell.execute_reply": "2025-08-05T16:26:43.070571Z"
    },
    "papermill": {
     "duration": 0.019797,
     "end_time": "2025-08-05T16:26:43.072982",
     "exception": false,
     "start_time": "2025-08-05T16:26:43.053185",
     "status": "completed"
    },
    "tags": []
   },
   "outputs": [],
   "source": [
    "# Code nice names to column names\n",
    "\n",
    "excluded_features_columns = [\n",
    "    excluded_features_dictionary[f] for f in excluded_features if len(f) > 0 and f != \"none\"\n",
    "]"
   ]
  },
  {
   "cell_type": "code",
   "execution_count": 21,
   "id": "f84f73a2",
   "metadata": {
    "execution": {
     "iopub.execute_input": "2025-08-05T16:26:43.098686Z",
     "iopub.status.busy": "2025-08-05T16:26:43.097767Z",
     "iopub.status.idle": "2025-08-05T16:26:43.104127Z",
     "shell.execute_reply": "2025-08-05T16:26:43.103241Z"
    },
    "papermill": {
     "duration": 0.020565,
     "end_time": "2025-08-05T16:26:43.105689",
     "exception": false,
     "start_time": "2025-08-05T16:26:43.085124",
     "status": "completed"
    },
    "tags": []
   },
   "outputs": [],
   "source": [
    "from utils import flatten_once\n",
    "\n",
    "excluded_features_columns = flatten_once(excluded_features_columns)"
   ]
  },
  {
   "cell_type": "code",
   "execution_count": 22,
   "id": "884dea22",
   "metadata": {
    "execution": {
     "iopub.execute_input": "2025-08-05T16:26:43.131295Z",
     "iopub.status.busy": "2025-08-05T16:26:43.130695Z",
     "iopub.status.idle": "2025-08-05T16:26:43.138482Z",
     "shell.execute_reply": "2025-08-05T16:26:43.137502Z"
    },
    "papermill": {
     "duration": 0.022152,
     "end_time": "2025-08-05T16:26:43.139997",
     "exception": false,
     "start_time": "2025-08-05T16:26:43.117845",
     "status": "completed"
    },
    "tags": []
   },
   "outputs": [
    {
     "name": "stdout",
     "output_type": "stream",
     "text": [
      "Dropping features: ['maxdeutsch1', 'maxdeutsch.Missing.']\n"
     ]
    }
   ],
   "source": [
    "if len(excluded_features_columns) > 0:\n",
    "    print(f\"Dropping features: {excluded_features_columns}\")\n",
    "    X_train.drop(excluded_features_columns, axis=1, inplace=True)"
   ]
  },
  {
   "cell_type": "code",
   "execution_count": 23,
   "id": "95ab8b16",
   "metadata": {
    "execution": {
     "iopub.execute_input": "2025-08-05T16:26:43.165633Z",
     "iopub.status.busy": "2025-08-05T16:26:43.164790Z",
     "iopub.status.idle": "2025-08-05T16:26:43.218648Z",
     "shell.execute_reply": "2025-08-05T16:26:43.217684Z"
    },
    "papermill": {
     "duration": 0.067905,
     "end_time": "2025-08-05T16:26:43.220200",
     "exception": false,
     "start_time": "2025-08-05T16:26:43.152295",
     "status": "completed"
    },
    "tags": []
   },
   "outputs": [
    {
     "name": "stdout",
     "output_type": "stream",
     "text": [
      "Dropping features: ['maxdeutsch1', 'maxdeutsch.Missing.']\n"
     ]
    }
   ],
   "source": [
    "if len(excluded_features_columns) > 0:\n",
    "    print(f\"Dropping features: {excluded_features_columns}\")\n",
    "    X_test.drop(excluded_features_columns, axis=1, inplace=True)"
   ]
  },
  {
   "cell_type": "code",
   "execution_count": 24,
   "id": "1853aaf5-fb9f-46cb-a2b5-8ea4ae2237e4",
   "metadata": {
    "execution": {
     "iopub.execute_input": "2025-08-05T16:26:43.246623Z",
     "iopub.status.busy": "2025-08-05T16:26:43.245723Z",
     "iopub.status.idle": "2025-08-05T16:26:43.299331Z",
     "shell.execute_reply": "2025-08-05T16:26:43.298436Z"
    },
    "papermill": {
     "duration": 0.068079,
     "end_time": "2025-08-05T16:26:43.300858",
     "exception": false,
     "start_time": "2025-08-05T16:26:43.232779",
     "status": "completed"
    },
    "tags": []
   },
   "outputs": [
    {
     "name": "stdout",
     "output_type": "stream",
     "text": [
      "Dropping features: ['maxdeutsch1', 'maxdeutsch.Missing.']\n"
     ]
    }
   ],
   "source": [
    "if len(excluded_features_columns) > 0:\n",
    "    print(f\"Dropping features: {excluded_features_columns}\")\n",
    "    X_calib.drop(excluded_features_columns, axis=1, inplace=True)"
   ]
  },
  {
   "cell_type": "code",
   "execution_count": 25,
   "id": "76c4dc6d",
   "metadata": {
    "execution": {
     "iopub.execute_input": "2025-08-05T16:26:43.327602Z",
     "iopub.status.busy": "2025-08-05T16:26:43.326786Z",
     "iopub.status.idle": "2025-08-05T16:26:43.332446Z",
     "shell.execute_reply": "2025-08-05T16:26:43.331539Z"
    },
    "papermill": {
     "duration": 0.020188,
     "end_time": "2025-08-05T16:26:43.333954",
     "exception": false,
     "start_time": "2025-08-05T16:26:43.313766",
     "status": "completed"
    },
    "tags": []
   },
   "outputs": [],
   "source": [
    "# EXCLUDE CERTAIN SUBGROUPS\n",
    "# ----------------------\n",
    "\n",
    "mode = universe.get(\"exclude_subgroups\", \"keep-all\") \n",
    "# Fetches the exclude_subgroups setting from the universe dict.\n",
    "# Defaults to \"keep-all\" if the key is missing."
   ]
  },
  {
   "cell_type": "code",
   "execution_count": 26,
   "id": "21994072",
   "metadata": {
    "execution": {
     "iopub.execute_input": "2025-08-05T16:26:43.360696Z",
     "iopub.status.busy": "2025-08-05T16:26:43.359834Z",
     "iopub.status.idle": "2025-08-05T16:26:43.366447Z",
     "shell.execute_reply": "2025-08-05T16:26:43.365456Z"
    },
    "papermill": {
     "duration": 0.021261,
     "end_time": "2025-08-05T16:26:43.368044",
     "exception": false,
     "start_time": "2025-08-05T16:26:43.346783",
     "status": "completed"
    },
    "tags": []
   },
   "outputs": [],
   "source": [
    "if mode == \"keep-all\":\n",
    "    keep_mask = pd.Series(True, index=org_train.index)\n",
    "\n",
    "# org_train contains the original feature columns from features_org (in Simson)\n",
    "# features_org contains unprocessed features, for me X_train at beginning ???\n",
    "# For keep-all, creates a boolean Series (keep_mask) of all True, so no rows are removed.\n",
    "\n",
    "elif mode == \"drop-non-german\":\n",
    "    keep_mask = org_train[\"maxdeutsch1\"] == 1 # ??? what about missing values?\n",
    "\n",
    "else:\n",
    "    raise ValueError(f\"Unsupported mode for exclude_subgroups: {mode}\")"
   ]
  },
  {
   "cell_type": "code",
   "execution_count": 27,
   "id": "71651440",
   "metadata": {
    "execution": {
     "iopub.execute_input": "2025-08-05T16:26:43.394408Z",
     "iopub.status.busy": "2025-08-05T16:26:43.393929Z",
     "iopub.status.idle": "2025-08-05T16:26:43.399862Z",
     "shell.execute_reply": "2025-08-05T16:26:43.398927Z"
    },
    "papermill": {
     "duration": 0.020517,
     "end_time": "2025-08-05T16:26:43.401428",
     "exception": false,
     "start_time": "2025-08-05T16:26:43.380911",
     "status": "completed"
    },
    "tags": []
   },
   "outputs": [],
   "source": [
    "n_drop = (~keep_mask).sum() # Calculates how many rows are set to be dropped\n",
    "if n_drop > 0:\n",
    "    pct = n_drop / len(keep_mask) * 100\n",
    "    print(f\"Dropping {n_drop} rows ({pct:.2f}%) where mode='{mode}'\")"
   ]
  },
  {
   "cell_type": "code",
   "execution_count": 28,
   "id": "5fb8eee5",
   "metadata": {
    "execution": {
     "iopub.execute_input": "2025-08-05T16:26:43.428210Z",
     "iopub.status.busy": "2025-08-05T16:26:43.427272Z",
     "iopub.status.idle": "2025-08-05T16:26:43.433474Z",
     "shell.execute_reply": "2025-08-05T16:26:43.432681Z"
    },
    "papermill": {
     "duration": 0.020838,
     "end_time": "2025-08-05T16:26:43.435029",
     "exception": false,
     "start_time": "2025-08-05T16:26:43.414191",
     "status": "completed"
    },
    "tags": []
   },
   "outputs": [],
   "source": [
    "X_train = X_train[keep_mask]"
   ]
  },
  {
   "cell_type": "code",
   "execution_count": 29,
   "id": "b202bb3a",
   "metadata": {
    "execution": {
     "iopub.execute_input": "2025-08-05T16:26:43.461713Z",
     "iopub.status.busy": "2025-08-05T16:26:43.460904Z",
     "iopub.status.idle": "2025-08-05T16:26:43.466688Z",
     "shell.execute_reply": "2025-08-05T16:26:43.465874Z"
    },
    "papermill": {
     "duration": 0.020414,
     "end_time": "2025-08-05T16:26:43.468229",
     "exception": false,
     "start_time": "2025-08-05T16:26:43.447815",
     "status": "completed"
    },
    "tags": []
   },
   "outputs": [],
   "source": [
    "y_train = y_train[keep_mask]"
   ]
  },
  {
   "cell_type": "markdown",
   "id": "493e2ac3",
   "metadata": {
    "papermill": {
     "duration": 0.011894,
     "end_time": "2025-08-05T16:26:43.492772",
     "exception": false,
     "start_time": "2025-08-05T16:26:43.480878",
     "status": "completed"
    },
    "tags": []
   },
   "source": [
    "# Model Training"
   ]
  },
  {
   "cell_type": "code",
   "execution_count": 30,
   "id": "679e1268",
   "metadata": {
    "execution": {
     "iopub.execute_input": "2025-08-05T16:26:43.518417Z",
     "iopub.status.busy": "2025-08-05T16:26:43.517921Z",
     "iopub.status.idle": "2025-08-05T16:26:43.612354Z",
     "shell.execute_reply": "2025-08-05T16:26:43.611442Z"
    },
    "papermill": {
     "duration": 0.109278,
     "end_time": "2025-08-05T16:26:43.614110",
     "exception": false,
     "start_time": "2025-08-05T16:26:43.504832",
     "status": "completed"
    },
    "tags": []
   },
   "outputs": [],
   "source": [
    "from sklearn.linear_model import LogisticRegression\n",
    "from sklearn.ensemble import GradientBoostingClassifier, RandomForestClassifier\n",
    "\n",
    "if (universe[\"model\"] == \"logreg\"):\n",
    "    model = LogisticRegression() #penalty=\"none\", solver=\"newton-cg\", max_iter=1) # include random_state=19 ?\n",
    "elif (universe[\"model\"] == \"penalized_logreg\"):\n",
    "    model = LogisticRegression(penalty=\"l2\", C=0.1) #, solver=\"newton-cg\", max_iter=1)\n",
    "elif (universe[\"model\"] == \"rf\"):\n",
    "    model = RandomForestClassifier() # n_estimators=100, n_jobs=-1\n",
    "elif (universe[\"model\"] == \"gbm\"):\n",
    "    model = GradientBoostingClassifier()\n",
    "elif (universe[\"model\"] == \"elasticnet\"):\n",
    "    model = LogisticRegression(penalty = 'elasticnet', solver = 'saga', l1_ratio = 0.5) # max_iter=5000\n",
    "else:\n",
    "    raise \"Unsupported universe.model\""
   ]
  },
  {
   "cell_type": "code",
   "execution_count": 31,
   "id": "0cc8f744",
   "metadata": {
    "execution": {
     "iopub.execute_input": "2025-08-05T16:26:43.649972Z",
     "iopub.status.busy": "2025-08-05T16:26:43.649373Z",
     "iopub.status.idle": "2025-08-05T16:26:43.657265Z",
     "shell.execute_reply": "2025-08-05T16:26:43.656004Z"
    },
    "papermill": {
     "duration": 0.031945,
     "end_time": "2025-08-05T16:26:43.658738",
     "exception": false,
     "start_time": "2025-08-05T16:26:43.626793",
     "status": "completed"
    },
    "tags": []
   },
   "outputs": [],
   "source": [
    "import numpy as np\n",
    "from sklearn.pipeline import Pipeline\n",
    "from sklearn.preprocessing import StandardScaler\n",
    "\n",
    "model = Pipeline([\n",
    "    #(\"continuous_processor\", continuous_processor),\n",
    "    #(\"categorical_preprocessor\", categorical_preprocessor),\n",
    "    (\"scale\", StandardScaler() if universe[\"scale\"] == \"scale\" else None), \n",
    "    (\"model\", model),\n",
    "])"
   ]
  },
  {
   "cell_type": "code",
   "execution_count": 32,
   "id": "9442c04d",
   "metadata": {
    "execution": {
     "iopub.execute_input": "2025-08-05T16:26:43.684322Z",
     "iopub.status.busy": "2025-08-05T16:26:43.684055Z",
     "iopub.status.idle": "2025-08-05T16:26:44.059419Z",
     "shell.execute_reply": "2025-08-05T16:26:44.058502Z"
    },
    "papermill": {
     "duration": 0.389731,
     "end_time": "2025-08-05T16:26:44.060925",
     "exception": false,
     "start_time": "2025-08-05T16:26:43.671194",
     "status": "completed"
    },
    "tags": []
   },
   "outputs": [
    {
     "data": {
      "text/html": [
       "<style>#sk-container-id-1 {color: black;background-color: white;}#sk-container-id-1 pre{padding: 0;}#sk-container-id-1 div.sk-toggleable {background-color: white;}#sk-container-id-1 label.sk-toggleable__label {cursor: pointer;display: block;width: 100%;margin-bottom: 0;padding: 0.3em;box-sizing: border-box;text-align: center;}#sk-container-id-1 label.sk-toggleable__label-arrow:before {content: \"▸\";float: left;margin-right: 0.25em;color: #696969;}#sk-container-id-1 label.sk-toggleable__label-arrow:hover:before {color: black;}#sk-container-id-1 div.sk-estimator:hover label.sk-toggleable__label-arrow:before {color: black;}#sk-container-id-1 div.sk-toggleable__content {max-height: 0;max-width: 0;overflow: hidden;text-align: left;background-color: #f0f8ff;}#sk-container-id-1 div.sk-toggleable__content pre {margin: 0.2em;color: black;border-radius: 0.25em;background-color: #f0f8ff;}#sk-container-id-1 input.sk-toggleable__control:checked~div.sk-toggleable__content {max-height: 200px;max-width: 100%;overflow: auto;}#sk-container-id-1 input.sk-toggleable__control:checked~label.sk-toggleable__label-arrow:before {content: \"▾\";}#sk-container-id-1 div.sk-estimator input.sk-toggleable__control:checked~label.sk-toggleable__label {background-color: #d4ebff;}#sk-container-id-1 div.sk-label input.sk-toggleable__control:checked~label.sk-toggleable__label {background-color: #d4ebff;}#sk-container-id-1 input.sk-hidden--visually {border: 0;clip: rect(1px 1px 1px 1px);clip: rect(1px, 1px, 1px, 1px);height: 1px;margin: -1px;overflow: hidden;padding: 0;position: absolute;width: 1px;}#sk-container-id-1 div.sk-estimator {font-family: monospace;background-color: #f0f8ff;border: 1px dotted black;border-radius: 0.25em;box-sizing: border-box;margin-bottom: 0.5em;}#sk-container-id-1 div.sk-estimator:hover {background-color: #d4ebff;}#sk-container-id-1 div.sk-parallel-item::after {content: \"\";width: 100%;border-bottom: 1px solid gray;flex-grow: 1;}#sk-container-id-1 div.sk-label:hover label.sk-toggleable__label {background-color: #d4ebff;}#sk-container-id-1 div.sk-serial::before {content: \"\";position: absolute;border-left: 1px solid gray;box-sizing: border-box;top: 0;bottom: 0;left: 50%;z-index: 0;}#sk-container-id-1 div.sk-serial {display: flex;flex-direction: column;align-items: center;background-color: white;padding-right: 0.2em;padding-left: 0.2em;position: relative;}#sk-container-id-1 div.sk-item {position: relative;z-index: 1;}#sk-container-id-1 div.sk-parallel {display: flex;align-items: stretch;justify-content: center;background-color: white;position: relative;}#sk-container-id-1 div.sk-item::before, #sk-container-id-1 div.sk-parallel-item::before {content: \"\";position: absolute;border-left: 1px solid gray;box-sizing: border-box;top: 0;bottom: 0;left: 50%;z-index: -1;}#sk-container-id-1 div.sk-parallel-item {display: flex;flex-direction: column;z-index: 1;position: relative;background-color: white;}#sk-container-id-1 div.sk-parallel-item:first-child::after {align-self: flex-end;width: 50%;}#sk-container-id-1 div.sk-parallel-item:last-child::after {align-self: flex-start;width: 50%;}#sk-container-id-1 div.sk-parallel-item:only-child::after {width: 0;}#sk-container-id-1 div.sk-dashed-wrapped {border: 1px dashed gray;margin: 0 0.4em 0.5em 0.4em;box-sizing: border-box;padding-bottom: 0.4em;background-color: white;}#sk-container-id-1 div.sk-label label {font-family: monospace;font-weight: bold;display: inline-block;line-height: 1.2em;}#sk-container-id-1 div.sk-label-container {text-align: center;}#sk-container-id-1 div.sk-container {/* jupyter's `normalize.less` sets `[hidden] { display: none; }` but bootstrap.min.css set `[hidden] { display: none !important; }` so we also need the `!important` here to be able to override the default hidden behavior on the sphinx rendered scikit-learn.org. See: https://github.com/scikit-learn/scikit-learn/issues/21755 */display: inline-block !important;position: relative;}#sk-container-id-1 div.sk-text-repr-fallback {display: none;}</style><div id=\"sk-container-id-1\" class=\"sk-top-container\"><div class=\"sk-text-repr-fallback\"><pre>Pipeline(steps=[(&#x27;scale&#x27;, None), (&#x27;model&#x27;, RandomForestClassifier())])</pre><b>In a Jupyter environment, please rerun this cell to show the HTML representation or trust the notebook. <br />On GitHub, the HTML representation is unable to render, please try loading this page with nbviewer.org.</b></div><div class=\"sk-container\" hidden><div class=\"sk-item sk-dashed-wrapped\"><div class=\"sk-label-container\"><div class=\"sk-label sk-toggleable\"><input class=\"sk-toggleable__control sk-hidden--visually\" id=\"sk-estimator-id-1\" type=\"checkbox\" ><label for=\"sk-estimator-id-1\" class=\"sk-toggleable__label sk-toggleable__label-arrow\">Pipeline</label><div class=\"sk-toggleable__content\"><pre>Pipeline(steps=[(&#x27;scale&#x27;, None), (&#x27;model&#x27;, RandomForestClassifier())])</pre></div></div></div><div class=\"sk-serial\"><div class=\"sk-item\"><div class=\"sk-estimator sk-toggleable\"><input class=\"sk-toggleable__control sk-hidden--visually\" id=\"sk-estimator-id-2\" type=\"checkbox\" ><label for=\"sk-estimator-id-2\" class=\"sk-toggleable__label sk-toggleable__label-arrow\">None</label><div class=\"sk-toggleable__content\"><pre>None</pre></div></div></div><div class=\"sk-item\"><div class=\"sk-estimator sk-toggleable\"><input class=\"sk-toggleable__control sk-hidden--visually\" id=\"sk-estimator-id-3\" type=\"checkbox\" ><label for=\"sk-estimator-id-3\" class=\"sk-toggleable__label sk-toggleable__label-arrow\">RandomForestClassifier</label><div class=\"sk-toggleable__content\"><pre>RandomForestClassifier()</pre></div></div></div></div></div></div></div>"
      ],
      "text/plain": [
       "Pipeline(steps=[('scale', None), ('model', RandomForestClassifier())])"
      ]
     },
     "execution_count": 32,
     "metadata": {},
     "output_type": "execute_result"
    }
   ],
   "source": [
    "model.fit(X_train, y_train.values.ravel())"
   ]
  },
  {
   "cell_type": "code",
   "execution_count": 33,
   "id": "af59f8c0",
   "metadata": {
    "execution": {
     "iopub.execute_input": "2025-08-05T16:26:44.088506Z",
     "iopub.status.busy": "2025-08-05T16:26:44.087624Z",
     "iopub.status.idle": "2025-08-05T16:26:44.092878Z",
     "shell.execute_reply": "2025-08-05T16:26:44.091966Z"
    },
    "papermill": {
     "duration": 0.020185,
     "end_time": "2025-08-05T16:26:44.094357",
     "exception": false,
     "start_time": "2025-08-05T16:26:44.074172",
     "status": "completed"
    },
    "tags": []
   },
   "outputs": [],
   "source": [
    "from fairness_multiverse.universe import predict_w_threshold"
   ]
  },
  {
   "cell_type": "code",
   "execution_count": 34,
   "id": "a7cf2e16",
   "metadata": {
    "execution": {
     "iopub.execute_input": "2025-08-05T16:26:44.121624Z",
     "iopub.status.busy": "2025-08-05T16:26:44.120863Z",
     "iopub.status.idle": "2025-08-05T16:26:45.816063Z",
     "shell.execute_reply": "2025-08-05T16:26:45.814962Z"
    },
    "papermill": {
     "duration": 1.7108,
     "end_time": "2025-08-05T16:26:45.818174",
     "exception": false,
     "start_time": "2025-08-05T16:26:44.107374",
     "status": "completed"
    },
    "tags": []
   },
   "outputs": [
    {
     "data": {
      "text/plain": [
       "0.8611526028313454"
      ]
     },
     "execution_count": 34,
     "metadata": {},
     "output_type": "execute_result"
    }
   ],
   "source": [
    "probs_test = model.predict_proba(X_test)\n",
    "\n",
    "'''\n",
    "Below code returns a boolean array (or binary 0/1 array depending on how it’s used) where each element \n",
    "is True if the probability of class 1 is greater than or equal to the threshold, and False otherwise.\n",
    "'''\n",
    "y_pred_default = predict_w_threshold(probs_test, 0.5)\n",
    "\n",
    "from sklearn.metrics import accuracy_score\n",
    "\n",
    "# Naive prediction\n",
    "accuracy_score(y_true = y_true, y_pred = y_pred_default)"
   ]
  },
  {
   "cell_type": "code",
   "execution_count": 35,
   "id": "081964c3",
   "metadata": {
    "execution": {
     "iopub.execute_input": "2025-08-05T16:26:45.872193Z",
     "iopub.status.busy": "2025-08-05T16:26:45.871656Z",
     "iopub.status.idle": "2025-08-05T16:26:47.659607Z",
     "shell.execute_reply": "2025-08-05T16:26:47.658535Z"
    },
    "papermill": {
     "duration": 1.816096,
     "end_time": "2025-08-05T16:26:47.661484",
     "exception": false,
     "start_time": "2025-08-05T16:26:45.845388",
     "status": "completed"
    },
    "tags": []
   },
   "outputs": [
    {
     "data": {
      "text/plain": [
       "array([0, 0, 0, ..., 0, 0, 0])"
      ]
     },
     "execution_count": 35,
     "metadata": {},
     "output_type": "execute_result"
    }
   ],
   "source": [
    "model.predict(X_test)"
   ]
  },
  {
   "cell_type": "markdown",
   "id": "56c9705b",
   "metadata": {
    "papermill": {
     "duration": 0.025059,
     "end_time": "2025-08-05T16:26:47.713208",
     "exception": false,
     "start_time": "2025-08-05T16:26:47.688149",
     "status": "completed"
    },
    "tags": []
   },
   "source": [
    "# Conformal Prediction"
   ]
  },
  {
   "cell_type": "code",
   "execution_count": 36,
   "id": "160ec6ff",
   "metadata": {
    "execution": {
     "iopub.execute_input": "2025-08-05T16:26:47.764254Z",
     "iopub.status.busy": "2025-08-05T16:26:47.763665Z",
     "iopub.status.idle": "2025-08-05T16:26:47.770522Z",
     "shell.execute_reply": "2025-08-05T16:26:47.769486Z"
    },
    "papermill": {
     "duration": 0.034442,
     "end_time": "2025-08-05T16:26:47.772521",
     "exception": false,
     "start_time": "2025-08-05T16:26:47.738079",
     "status": "completed"
    },
    "tags": []
   },
   "outputs": [],
   "source": [
    "# Miscoverage level for conformal prediction (10% allowed error rate => 90% target coverage)\n",
    "alpha = 0.1"
   ]
  },
  {
   "cell_type": "code",
   "execution_count": 37,
   "id": "eadf4555-3dd3-440e-8e35-f82a4ad9f855",
   "metadata": {
    "execution": {
     "iopub.execute_input": "2025-08-05T16:26:47.825880Z",
     "iopub.status.busy": "2025-08-05T16:26:47.824866Z",
     "iopub.status.idle": "2025-08-05T16:26:49.763548Z",
     "shell.execute_reply": "2025-08-05T16:26:49.762492Z"
    },
    "papermill": {
     "duration": 1.967832,
     "end_time": "2025-08-05T16:26:49.765665",
     "exception": false,
     "start_time": "2025-08-05T16:26:47.797833",
     "status": "completed"
    },
    "tags": []
   },
   "outputs": [],
   "source": [
    "probs_calib = model.predict_proba(X_calib)"
   ]
  },
  {
   "cell_type": "code",
   "execution_count": 38,
   "id": "2ed93547-6d5d-4983-9b36-1ecb300da49a",
   "metadata": {
    "execution": {
     "iopub.execute_input": "2025-08-05T16:26:49.812892Z",
     "iopub.status.busy": "2025-08-05T16:26:49.812353Z",
     "iopub.status.idle": "2025-08-05T16:26:49.818990Z",
     "shell.execute_reply": "2025-08-05T16:26:49.817719Z"
    },
    "papermill": {
     "duration": 0.032113,
     "end_time": "2025-08-05T16:26:49.820812",
     "exception": false,
     "start_time": "2025-08-05T16:26:49.788699",
     "status": "completed"
    },
    "tags": []
   },
   "outputs": [],
   "source": [
    "y_calib = y_calib.values.ravel().astype(int)"
   ]
  },
  {
   "cell_type": "code",
   "execution_count": 39,
   "id": "65d1320d-f588-4b38-9072-62af1ae97f7d",
   "metadata": {
    "execution": {
     "iopub.execute_input": "2025-08-05T16:26:49.867748Z",
     "iopub.status.busy": "2025-08-05T16:26:49.867041Z",
     "iopub.status.idle": "2025-08-05T16:26:49.875380Z",
     "shell.execute_reply": "2025-08-05T16:26:49.874131Z"
    },
    "papermill": {
     "duration": 0.033573,
     "end_time": "2025-08-05T16:26:49.877127",
     "exception": false,
     "start_time": "2025-08-05T16:26:49.843554",
     "status": "completed"
    },
    "tags": []
   },
   "outputs": [],
   "source": [
    "from fairness_multiverse.conformal import compute_nc_scores\n",
    "\n",
    "# Compute nonconformity scores on calibration set (1 - probability of true class)\n",
    "nc_scores = compute_nc_scores(probs_calib, y_calib)"
   ]
  },
  {
   "cell_type": "code",
   "execution_count": 40,
   "id": "df3b8ca3-53b7-43d5-9667-7c85da7aeda2",
   "metadata": {
    "execution": {
     "iopub.execute_input": "2025-08-05T16:26:49.923851Z",
     "iopub.status.busy": "2025-08-05T16:26:49.923250Z",
     "iopub.status.idle": "2025-08-05T16:26:49.931045Z",
     "shell.execute_reply": "2025-08-05T16:26:49.929900Z"
    },
    "papermill": {
     "duration": 0.033383,
     "end_time": "2025-08-05T16:26:49.932878",
     "exception": false,
     "start_time": "2025-08-05T16:26:49.899495",
     "status": "completed"
    },
    "tags": []
   },
   "outputs": [],
   "source": [
    "from fairness_multiverse.conformal import find_threshold\n",
    "\n",
    "# Find conformal threshold q_hat for the given alpha (split conformal method)\n",
    "q_hat = find_threshold(nc_scores, alpha)"
   ]
  },
  {
   "cell_type": "code",
   "execution_count": 41,
   "id": "4d29e6c1-0ef6-4aa4-b8fe-4fe79b0d033a",
   "metadata": {
    "execution": {
     "iopub.execute_input": "2025-08-05T16:26:49.979818Z",
     "iopub.status.busy": "2025-08-05T16:26:49.979263Z",
     "iopub.status.idle": "2025-08-05T16:26:49.988731Z",
     "shell.execute_reply": "2025-08-05T16:26:49.987647Z"
    },
    "papermill": {
     "duration": 0.034868,
     "end_time": "2025-08-05T16:26:49.990499",
     "exception": false,
     "start_time": "2025-08-05T16:26:49.955631",
     "status": "completed"
    },
    "tags": []
   },
   "outputs": [
    {
     "data": {
      "text/plain": [
       "0.6699999999999999"
      ]
     },
     "execution_count": 41,
     "metadata": {},
     "output_type": "execute_result"
    }
   ],
   "source": [
    "q_hat"
   ]
  },
  {
   "cell_type": "code",
   "execution_count": 42,
   "id": "92460794-cdac-4be2-ba28-f28c0515a6fb",
   "metadata": {
    "execution": {
     "iopub.execute_input": "2025-08-05T16:26:50.038172Z",
     "iopub.status.busy": "2025-08-05T16:26:50.036934Z",
     "iopub.status.idle": "2025-08-05T16:26:52.764664Z",
     "shell.execute_reply": "2025-08-05T16:26:52.763266Z"
    },
    "papermill": {
     "duration": 2.754184,
     "end_time": "2025-08-05T16:26:52.767572",
     "exception": false,
     "start_time": "2025-08-05T16:26:50.013388",
     "status": "completed"
    },
    "tags": []
   },
   "outputs": [],
   "source": [
    "from fairness_multiverse.conformal import predict_conformal_sets\n",
    "\n",
    "# Generate prediction sets for each test example\n",
    "pred_sets = predict_conformal_sets(model, X_test, q_hat)"
   ]
  },
  {
   "cell_type": "code",
   "execution_count": 43,
   "id": "d90c9a65-e6db-4f5d-80cd-e68fb7e46829",
   "metadata": {
    "execution": {
     "iopub.execute_input": "2025-08-05T16:26:52.835065Z",
     "iopub.status.busy": "2025-08-05T16:26:52.834667Z",
     "iopub.status.idle": "2025-08-05T16:26:52.842053Z",
     "shell.execute_reply": "2025-08-05T16:26:52.840441Z"
    },
    "papermill": {
     "duration": 0.042743,
     "end_time": "2025-08-05T16:26:52.844557",
     "exception": false,
     "start_time": "2025-08-05T16:26:52.801814",
     "status": "completed"
    },
    "tags": []
   },
   "outputs": [],
   "source": [
    "y_true = y_true.squeeze()"
   ]
  },
  {
   "cell_type": "code",
   "execution_count": 44,
   "id": "3a58a54a-1e68-46b9-927a-df01f18aebc8",
   "metadata": {
    "execution": {
     "iopub.execute_input": "2025-08-05T16:26:52.907061Z",
     "iopub.status.busy": "2025-08-05T16:26:52.906631Z",
     "iopub.status.idle": "2025-08-05T16:26:53.956099Z",
     "shell.execute_reply": "2025-08-05T16:26:53.955106Z"
    },
    "papermill": {
     "duration": 1.082876,
     "end_time": "2025-08-05T16:26:53.958179",
     "exception": false,
     "start_time": "2025-08-05T16:26:52.875303",
     "status": "completed"
    },
    "tags": []
   },
   "outputs": [],
   "source": [
    "from fairness_multiverse.conformal import evaluate_sets\n",
    "\n",
    "# Evaluate coverage and average set size on test data\n",
    "metrics = evaluate_sets(pred_sets, y_true)"
   ]
  },
  {
   "cell_type": "markdown",
   "id": "2b569c12-9aaa-4c88-98c9-bbcd0cf3ebb8",
   "metadata": {
    "papermill": {
     "duration": 0.022153,
     "end_time": "2025-08-05T16:26:54.003360",
     "exception": false,
     "start_time": "2025-08-05T16:26:53.981207",
     "status": "completed"
    },
    "tags": []
   },
   "source": [
    "# CP Metrics"
   ]
  },
  {
   "cell_type": "code",
   "execution_count": 45,
   "id": "5ce0a5cb-201f-45a0-ade5-94c7f0bd6095",
   "metadata": {
    "execution": {
     "iopub.execute_input": "2025-08-05T16:26:54.051345Z",
     "iopub.status.busy": "2025-08-05T16:26:54.050769Z",
     "iopub.status.idle": "2025-08-05T16:26:54.059336Z",
     "shell.execute_reply": "2025-08-05T16:26:54.058056Z"
    },
    "papermill": {
     "duration": 0.036253,
     "end_time": "2025-08-05T16:26:54.061588",
     "exception": false,
     "start_time": "2025-08-05T16:26:54.025335",
     "status": "completed"
    },
    "tags": []
   },
   "outputs": [
    {
     "data": {
      "text/plain": [
       "{'coverage': 0.9165979266525471, 'avg_size': 1.157997993534723}"
      ]
     },
     "execution_count": 45,
     "metadata": {},
     "output_type": "execute_result"
    }
   ],
   "source": [
    "metrics"
   ]
  },
  {
   "cell_type": "code",
   "execution_count": 46,
   "id": "9b9a838d-31c9-430b-ae14-12baee460d17",
   "metadata": {
    "execution": {
     "iopub.execute_input": "2025-08-05T16:26:54.119759Z",
     "iopub.status.busy": "2025-08-05T16:26:54.119010Z",
     "iopub.status.idle": "2025-08-05T16:26:54.129635Z",
     "shell.execute_reply": "2025-08-05T16:26:54.125587Z"
    },
    "papermill": {
     "duration": 0.042586,
     "end_time": "2025-08-05T16:26:54.132295",
     "exception": false,
     "start_time": "2025-08-05T16:26:54.089709",
     "status": "completed"
    },
    "tags": []
   },
   "outputs": [],
   "source": [
    "example_universe = universe.copy()\n",
    "universe_training_year = example_universe.get(\"training_year\")\n",
    "universe_training_size = example_universe.get(\"training_size\")\n",
    "universe_scale = example_universe.get(\"scale\")\n",
    "universe_model = example_universe.get(\"model\")\n",
    "universe_exclude_features = example_universe.get(\"exclude_features\")\n",
    "universe_exclude_subgroups = example_universe.get(\"exclude_subgroups\")"
   ]
  },
  {
   "cell_type": "code",
   "execution_count": 47,
   "id": "f4b6a8ac-9dc0-4245-8a91-5b3b5999c4f9",
   "metadata": {
    "execution": {
     "iopub.execute_input": "2025-08-05T16:26:54.188253Z",
     "iopub.status.busy": "2025-08-05T16:26:54.187424Z",
     "iopub.status.idle": "2025-08-05T16:26:54.194759Z",
     "shell.execute_reply": "2025-08-05T16:26:54.193476Z"
    },
    "papermill": {
     "duration": 0.035578,
     "end_time": "2025-08-05T16:26:54.196552",
     "exception": false,
     "start_time": "2025-08-05T16:26:54.160974",
     "status": "completed"
    },
    "tags": []
   },
   "outputs": [],
   "source": [
    "cp_metrics_dict = {\n",
    "    \"universe_id\": [universe_id],\n",
    "    \"universe_training_year\": [universe_training_year],\n",
    "    \"universe_training_size\": [universe_training_size],\n",
    "    \"universe_scale\": [universe_scale],\n",
    "    \"universe_model\": [universe_model],\n",
    "    \"universe_exclude_features\": [universe_exclude_features],\n",
    "    \"universe_exclude_subgroups\": [universe_exclude_subgroups],\n",
    "    \"q_hat\": [q_hat],\n",
    "    \"coverage\": [metrics[\"coverage\"]],\n",
    "    \"avg_size\": [metrics[\"avg_size\"]],\n",
    "}"
   ]
  },
  {
   "cell_type": "code",
   "execution_count": 48,
   "id": "908acbb1-0371-4915-85ca-3fa520d2efe2",
   "metadata": {
    "execution": {
     "iopub.execute_input": "2025-08-05T16:26:54.237014Z",
     "iopub.status.busy": "2025-08-05T16:26:54.236550Z",
     "iopub.status.idle": "2025-08-05T16:26:54.243885Z",
     "shell.execute_reply": "2025-08-05T16:26:54.242962Z"
    },
    "papermill": {
     "duration": 0.025394,
     "end_time": "2025-08-05T16:26:54.245380",
     "exception": false,
     "start_time": "2025-08-05T16:26:54.219986",
     "status": "completed"
    },
    "tags": []
   },
   "outputs": [
    {
     "data": {
      "text/plain": [
       "{'universe_id': ['8d573b496bccee6b4b1383cd1b7c0319'],\n",
       " 'universe_training_year': ['2012_14'],\n",
       " 'universe_training_size': ['1k'],\n",
       " 'universe_scale': ['do-not-scale'],\n",
       " 'universe_model': ['rf'],\n",
       " 'universe_exclude_features': ['nationality'],\n",
       " 'universe_exclude_subgroups': ['keep-all'],\n",
       " 'q_hat': [0.6699999999999999],\n",
       " 'coverage': [0.9165979266525471],\n",
       " 'avg_size': [1.157997993534723]}"
      ]
     },
     "execution_count": 48,
     "metadata": {},
     "output_type": "execute_result"
    }
   ],
   "source": [
    "cp_metrics_dict"
   ]
  },
  {
   "cell_type": "code",
   "execution_count": 49,
   "id": "33007efc-14e9-4ec6-97ac-56a455c82265",
   "metadata": {
    "execution": {
     "iopub.execute_input": "2025-08-05T16:26:54.272204Z",
     "iopub.status.busy": "2025-08-05T16:26:54.271739Z",
     "iopub.status.idle": "2025-08-05T16:26:54.279093Z",
     "shell.execute_reply": "2025-08-05T16:26:54.277900Z"
    },
    "papermill": {
     "duration": 0.024498,
     "end_time": "2025-08-05T16:26:54.282010",
     "exception": false,
     "start_time": "2025-08-05T16:26:54.257512",
     "status": "completed"
    },
    "tags": []
   },
   "outputs": [],
   "source": [
    "cp_metrics_df = pd.DataFrame(cp_metrics_dict)"
   ]
  },
  {
   "cell_type": "code",
   "execution_count": 50,
   "id": "db12611b-57b2-4910-b9d0-355adfd6e7bf",
   "metadata": {
    "execution": {
     "iopub.execute_input": "2025-08-05T16:26:54.336955Z",
     "iopub.status.busy": "2025-08-05T16:26:54.336423Z",
     "iopub.status.idle": "2025-08-05T16:26:54.357571Z",
     "shell.execute_reply": "2025-08-05T16:26:54.356179Z"
    },
    "papermill": {
     "duration": 0.043042,
     "end_time": "2025-08-05T16:26:54.359154",
     "exception": false,
     "start_time": "2025-08-05T16:26:54.316112",
     "status": "completed"
    },
    "tags": []
   },
   "outputs": [
    {
     "data": {
      "text/html": [
       "<div>\n",
       "<style scoped>\n",
       "    .dataframe tbody tr th:only-of-type {\n",
       "        vertical-align: middle;\n",
       "    }\n",
       "\n",
       "    .dataframe tbody tr th {\n",
       "        vertical-align: top;\n",
       "    }\n",
       "\n",
       "    .dataframe thead th {\n",
       "        text-align: right;\n",
       "    }\n",
       "</style>\n",
       "<table border=\"1\" class=\"dataframe\">\n",
       "  <thead>\n",
       "    <tr style=\"text-align: right;\">\n",
       "      <th></th>\n",
       "      <th>universe_id</th>\n",
       "      <th>universe_training_year</th>\n",
       "      <th>universe_training_size</th>\n",
       "      <th>universe_scale</th>\n",
       "      <th>universe_model</th>\n",
       "      <th>universe_exclude_features</th>\n",
       "      <th>universe_exclude_subgroups</th>\n",
       "      <th>q_hat</th>\n",
       "      <th>coverage</th>\n",
       "      <th>avg_size</th>\n",
       "    </tr>\n",
       "  </thead>\n",
       "  <tbody>\n",
       "    <tr>\n",
       "      <th>0</th>\n",
       "      <td>8d573b496bccee6b4b1383cd1b7c0319</td>\n",
       "      <td>2012_14</td>\n",
       "      <td>1k</td>\n",
       "      <td>do-not-scale</td>\n",
       "      <td>rf</td>\n",
       "      <td>nationality</td>\n",
       "      <td>keep-all</td>\n",
       "      <td>0.67</td>\n",
       "      <td>0.916598</td>\n",
       "      <td>1.157998</td>\n",
       "    </tr>\n",
       "  </tbody>\n",
       "</table>\n",
       "</div>"
      ],
      "text/plain": [
       "                        universe_id universe_training_year  \\\n",
       "0  8d573b496bccee6b4b1383cd1b7c0319                2012_14   \n",
       "\n",
       "  universe_training_size universe_scale universe_model  \\\n",
       "0                     1k   do-not-scale             rf   \n",
       "\n",
       "  universe_exclude_features universe_exclude_subgroups  q_hat  coverage  \\\n",
       "0               nationality                   keep-all   0.67  0.916598   \n",
       "\n",
       "   avg_size  \n",
       "0  1.157998  "
      ]
     },
     "execution_count": 50,
     "metadata": {},
     "output_type": "execute_result"
    }
   ],
   "source": [
    "cp_metrics_df"
   ]
  },
  {
   "cell_type": "code",
   "execution_count": 51,
   "id": "b7fbde55-a0a1-47e4-9af6-fe4a17fa8c61",
   "metadata": {
    "execution": {
     "iopub.execute_input": "2025-08-05T16:26:54.419467Z",
     "iopub.status.busy": "2025-08-05T16:26:54.418967Z",
     "iopub.status.idle": "2025-08-05T16:26:54.423293Z",
     "shell.execute_reply": "2025-08-05T16:26:54.422455Z"
    },
    "papermill": {
     "duration": 0.037266,
     "end_time": "2025-08-05T16:26:54.424587",
     "exception": false,
     "start_time": "2025-08-05T16:26:54.387321",
     "status": "completed"
    },
    "tags": []
   },
   "outputs": [],
   "source": [
    "# Conditional Coverage & looking at subgroups"
   ]
  },
  {
   "cell_type": "code",
   "execution_count": 52,
   "id": "027ae886-68dd-4141-96c7-805a5450e1ef",
   "metadata": {
    "execution": {
     "iopub.execute_input": "2025-08-05T16:26:54.451942Z",
     "iopub.status.busy": "2025-08-05T16:26:54.451247Z",
     "iopub.status.idle": "2025-08-05T16:26:54.678690Z",
     "shell.execute_reply": "2025-08-05T16:26:54.677848Z"
    },
    "papermill": {
     "duration": 0.242098,
     "end_time": "2025-08-05T16:26:54.680227",
     "exception": false,
     "start_time": "2025-08-05T16:26:54.438129",
     "status": "completed"
    },
    "tags": []
   },
   "outputs": [],
   "source": [
    "from fairness_multiverse.conformal import build_cp_groups\n",
    "\n",
    "cp_groups_df = build_cp_groups(pred_sets, y_true, X_test.index, org_test)\n",
    "#needs universe_id and setting"
   ]
  },
  {
   "cell_type": "code",
   "execution_count": 53,
   "id": "6cbdab96-b2b2-45af-ad54-d0516db2e28d",
   "metadata": {
    "execution": {
     "iopub.execute_input": "2025-08-05T16:26:54.708617Z",
     "iopub.status.busy": "2025-08-05T16:26:54.707844Z",
     "iopub.status.idle": "2025-08-05T16:26:55.917581Z",
     "shell.execute_reply": "2025-08-05T16:26:55.916319Z"
    },
    "papermill": {
     "duration": 1.227345,
     "end_time": "2025-08-05T16:26:55.919456",
     "exception": false,
     "start_time": "2025-08-05T16:26:54.692111",
     "status": "completed"
    },
    "tags": []
   },
   "outputs": [],
   "source": [
    "# Define covered = 1 if true_label is in the predicted set\n",
    "cp_groups_df['covered'] = cp_groups_df.apply(\n",
    "    lambda r: int(r['true_label'] in r['pred_set']),\n",
    "    axis=1\n",
    ")"
   ]
  },
  {
   "cell_type": "code",
   "execution_count": 54,
   "id": "338ff529-1a6b-4b87-a931-8e4788d52aad",
   "metadata": {
    "execution": {
     "iopub.execute_input": "2025-08-05T16:26:55.974809Z",
     "iopub.status.busy": "2025-08-05T16:26:55.974292Z",
     "iopub.status.idle": "2025-08-05T16:26:55.979566Z",
     "shell.execute_reply": "2025-08-05T16:26:55.978485Z"
    },
    "papermill": {
     "duration": 0.036989,
     "end_time": "2025-08-05T16:26:55.981634",
     "exception": false,
     "start_time": "2025-08-05T16:26:55.944645",
     "status": "completed"
    },
    "tags": []
   },
   "outputs": [],
   "source": [
    "#cp_groups_df"
   ]
  },
  {
   "cell_type": "code",
   "execution_count": 55,
   "id": "90032e27-66df-4540-9169-4e89cfbaa758",
   "metadata": {
    "execution": {
     "iopub.execute_input": "2025-08-05T16:26:56.024667Z",
     "iopub.status.busy": "2025-08-05T16:26:56.024244Z",
     "iopub.status.idle": "2025-08-05T16:26:56.033126Z",
     "shell.execute_reply": "2025-08-05T16:26:56.032442Z"
    },
    "papermill": {
     "duration": 0.02739,
     "end_time": "2025-08-05T16:26:56.034571",
     "exception": false,
     "start_time": "2025-08-05T16:26:56.007181",
     "status": "completed"
    },
    "tags": []
   },
   "outputs": [],
   "source": [
    "subgroups = ['frau1','nongerman','nongerman_male','nongerman_female']\n",
    "\n",
    "# Conditional coverage for subgroup==1\n",
    "cond_coverage = {\n",
    "    g: cp_groups_df.loc[cp_groups_df[g]==1, 'covered'].mean()\n",
    "    for g in subgroups\n",
    "}"
   ]
  },
  {
   "cell_type": "code",
   "execution_count": 56,
   "id": "1e348fb1-b9c3-45bc-ba23-f016827a7e0d",
   "metadata": {
    "execution": {
     "iopub.execute_input": "2025-08-05T16:26:56.092852Z",
     "iopub.status.busy": "2025-08-05T16:26:56.092433Z",
     "iopub.status.idle": "2025-08-05T16:26:56.101950Z",
     "shell.execute_reply": "2025-08-05T16:26:56.100639Z"
    },
    "papermill": {
     "duration": 0.043618,
     "end_time": "2025-08-05T16:26:56.104407",
     "exception": false,
     "start_time": "2025-08-05T16:26:56.060789",
     "status": "completed"
    },
    "tags": []
   },
   "outputs": [
    {
     "data": {
      "text/plain": [
       "{'frau1': 0.9154872624342903,\n",
       " 'nongerman': 0.9086060742154606,\n",
       " 'nongerman_male': 0.924795100423309,\n",
       " 'nongerman_female': 0.8818181818181818}"
      ]
     },
     "execution_count": 56,
     "metadata": {},
     "output_type": "execute_result"
    }
   ],
   "source": [
    "cond_coverage"
   ]
  },
  {
   "cell_type": "code",
   "execution_count": 57,
   "id": "f5093324-c3dd-4d63-bc4c-8d945e5c8bbb",
   "metadata": {
    "execution": {
     "iopub.execute_input": "2025-08-05T16:26:56.177477Z",
     "iopub.status.busy": "2025-08-05T16:26:56.176978Z",
     "iopub.status.idle": "2025-08-05T16:26:56.184819Z",
     "shell.execute_reply": "2025-08-05T16:26:56.183749Z"
    },
    "papermill": {
     "duration": 0.046562,
     "end_time": "2025-08-05T16:26:56.187083",
     "exception": false,
     "start_time": "2025-08-05T16:26:56.140521",
     "status": "completed"
    },
    "tags": []
   },
   "outputs": [],
   "source": [
    "for subgroup, cov in cond_coverage.items():\n",
    "    cp_metrics_df[f\"cov_{subgroup}\"] = cov"
   ]
  },
  {
   "cell_type": "code",
   "execution_count": 58,
   "id": "6e872e10-dbe5-49e8-b554-5030c98ff75d",
   "metadata": {
    "execution": {
     "iopub.execute_input": "2025-08-05T16:26:56.235786Z",
     "iopub.status.busy": "2025-08-05T16:26:56.234898Z",
     "iopub.status.idle": "2025-08-05T16:26:56.254738Z",
     "shell.execute_reply": "2025-08-05T16:26:56.253767Z"
    },
    "papermill": {
     "duration": 0.045202,
     "end_time": "2025-08-05T16:26:56.256611",
     "exception": false,
     "start_time": "2025-08-05T16:26:56.211409",
     "status": "completed"
    },
    "tags": []
   },
   "outputs": [
    {
     "data": {
      "text/html": [
       "<div>\n",
       "<style scoped>\n",
       "    .dataframe tbody tr th:only-of-type {\n",
       "        vertical-align: middle;\n",
       "    }\n",
       "\n",
       "    .dataframe tbody tr th {\n",
       "        vertical-align: top;\n",
       "    }\n",
       "\n",
       "    .dataframe thead th {\n",
       "        text-align: right;\n",
       "    }\n",
       "</style>\n",
       "<table border=\"1\" class=\"dataframe\">\n",
       "  <thead>\n",
       "    <tr style=\"text-align: right;\">\n",
       "      <th></th>\n",
       "      <th>universe_id</th>\n",
       "      <th>universe_training_year</th>\n",
       "      <th>universe_training_size</th>\n",
       "      <th>universe_scale</th>\n",
       "      <th>universe_model</th>\n",
       "      <th>universe_exclude_features</th>\n",
       "      <th>universe_exclude_subgroups</th>\n",
       "      <th>q_hat</th>\n",
       "      <th>coverage</th>\n",
       "      <th>avg_size</th>\n",
       "      <th>cov_frau1</th>\n",
       "      <th>cov_nongerman</th>\n",
       "      <th>cov_nongerman_male</th>\n",
       "      <th>cov_nongerman_female</th>\n",
       "    </tr>\n",
       "  </thead>\n",
       "  <tbody>\n",
       "    <tr>\n",
       "      <th>0</th>\n",
       "      <td>8d573b496bccee6b4b1383cd1b7c0319</td>\n",
       "      <td>2012_14</td>\n",
       "      <td>1k</td>\n",
       "      <td>do-not-scale</td>\n",
       "      <td>rf</td>\n",
       "      <td>nationality</td>\n",
       "      <td>keep-all</td>\n",
       "      <td>0.67</td>\n",
       "      <td>0.916598</td>\n",
       "      <td>1.157998</td>\n",
       "      <td>0.915487</td>\n",
       "      <td>0.908606</td>\n",
       "      <td>0.924795</td>\n",
       "      <td>0.881818</td>\n",
       "    </tr>\n",
       "  </tbody>\n",
       "</table>\n",
       "</div>"
      ],
      "text/plain": [
       "                        universe_id universe_training_year  \\\n",
       "0  8d573b496bccee6b4b1383cd1b7c0319                2012_14   \n",
       "\n",
       "  universe_training_size universe_scale universe_model  \\\n",
       "0                     1k   do-not-scale             rf   \n",
       "\n",
       "  universe_exclude_features universe_exclude_subgroups  q_hat  coverage  \\\n",
       "0               nationality                   keep-all   0.67  0.916598   \n",
       "\n",
       "   avg_size  cov_frau1  cov_nongerman  cov_nongerman_male  \\\n",
       "0  1.157998   0.915487       0.908606            0.924795   \n",
       "\n",
       "   cov_nongerman_female  \n",
       "0              0.881818  "
      ]
     },
     "execution_count": 58,
     "metadata": {},
     "output_type": "execute_result"
    }
   ],
   "source": [
    "cp_metrics_df"
   ]
  },
  {
   "cell_type": "markdown",
   "id": "33774451",
   "metadata": {
    "papermill": {
     "duration": 0.024257,
     "end_time": "2025-08-05T16:26:56.304654",
     "exception": false,
     "start_time": "2025-08-05T16:26:56.280397",
     "status": "completed"
    },
    "tags": []
   },
   "source": [
    "# (Fairness) Metrics"
   ]
  },
  {
   "cell_type": "code",
   "execution_count": 59,
   "id": "debc5d62",
   "metadata": {
    "execution": {
     "iopub.execute_input": "2025-08-05T16:26:56.352338Z",
     "iopub.status.busy": "2025-08-05T16:26:56.351698Z",
     "iopub.status.idle": "2025-08-05T16:26:56.372796Z",
     "shell.execute_reply": "2025-08-05T16:26:56.371901Z"
    },
    "papermill": {
     "duration": 0.046882,
     "end_time": "2025-08-05T16:26:56.374706",
     "exception": false,
     "start_time": "2025-08-05T16:26:56.327824",
     "status": "completed"
    },
    "tags": []
   },
   "outputs": [],
   "source": [
    "# do I need to include maxdeutsch1.missing?\n",
    "\n",
    "import numpy as np\n",
    "\n",
    "colname_to_bin = \"maxdeutsch1\"\n",
    "majority_value = org_train[colname_to_bin].mode()[0]\n",
    "\n",
    "org_test[\"majmin\"] = np.where(org_test[colname_to_bin] == majority_value, \"majority\", \"minority\")"
   ]
  },
  {
   "cell_type": "code",
   "execution_count": 60,
   "id": "06a50de5",
   "metadata": {
    "execution": {
     "iopub.execute_input": "2025-08-05T16:26:56.423320Z",
     "iopub.status.busy": "2025-08-05T16:26:56.422672Z",
     "iopub.status.idle": "2025-08-05T16:26:59.361812Z",
     "shell.execute_reply": "2025-08-05T16:26:59.360363Z"
    },
    "papermill": {
     "duration": 2.965498,
     "end_time": "2025-08-05T16:26:59.364111",
     "exception": false,
     "start_time": "2025-08-05T16:26:56.398613",
     "status": "completed"
    },
    "tags": []
   },
   "outputs": [],
   "source": [
    "example_universe = universe.copy()\n",
    "example_universe[\"cutoff\"] = example_universe[\"cutoff\"][0]\n",
    "example_universe[\"eval_fairness_grouping\"] = example_universe[\"eval_fairness_grouping\"][0]\n",
    "fairness_dict, metric_frame = universe_analysis.compute_metrics(\n",
    "    example_universe,\n",
    "    y_pred_prob=probs_test,\n",
    "    y_test=y_true,\n",
    "    org_test=org_test,\n",
    ")"
   ]
  },
  {
   "cell_type": "markdown",
   "id": "f95d4e02",
   "metadata": {
    "papermill": {
     "duration": 0.025843,
     "end_time": "2025-08-05T16:26:59.419047",
     "exception": false,
     "start_time": "2025-08-05T16:26:59.393204",
     "status": "completed"
    },
    "tags": []
   },
   "source": [
    "# Overall"
   ]
  },
  {
   "cell_type": "markdown",
   "id": "bdee4871",
   "metadata": {
    "papermill": {
     "duration": 0.025414,
     "end_time": "2025-08-05T16:26:59.470412",
     "exception": false,
     "start_time": "2025-08-05T16:26:59.444998",
     "status": "completed"
    },
    "tags": []
   },
   "source": [
    "Fairness\n",
    "Main fairness target: Equalized Odds. Seems to be a better fit than equal opportunity, since we're not only interested in Y = 1. Seems to be a better fit than demographic parity, since we also care about accuracy, not just equal distribution of preds.\n",
    "\n",
    "Pick column for computation of fairness metrics\n",
    "\n",
    "Performance\n",
    "Overall performance measures, most interesting in relation to the measures split by group below"
   ]
  },
  {
   "cell_type": "code",
   "execution_count": 61,
   "id": "c4e067c6",
   "metadata": {
    "execution": {
     "iopub.execute_input": "2025-08-05T16:26:59.525009Z",
     "iopub.status.busy": "2025-08-05T16:26:59.523998Z",
     "iopub.status.idle": "2025-08-05T16:26:59.534778Z",
     "shell.execute_reply": "2025-08-05T16:26:59.533161Z"
    },
    "papermill": {
     "duration": 0.040256,
     "end_time": "2025-08-05T16:26:59.536804",
     "exception": false,
     "start_time": "2025-08-05T16:26:59.496548",
     "status": "completed"
    },
    "tags": []
   },
   "outputs": [
    {
     "data": {
      "text/plain": [
       "accuracy                   0.196355\n",
       "balanced accuracy          0.531598\n",
       "f1                         0.238774\n",
       "precision                  0.135900\n",
       "false positive rate        0.919337\n",
       "false negative rate        0.017466\n",
       "selection rate             0.927444\n",
       "count                  89710.000000\n",
       "dtype: float64"
      ]
     },
     "execution_count": 61,
     "metadata": {},
     "output_type": "execute_result"
    }
   ],
   "source": [
    "metric_frame.overall"
   ]
  },
  {
   "cell_type": "markdown",
   "id": "e968fe9d",
   "metadata": {
    "papermill": {
     "duration": 0.032198,
     "end_time": "2025-08-05T16:26:59.601821",
     "exception": false,
     "start_time": "2025-08-05T16:26:59.569623",
     "status": "completed"
    },
    "tags": []
   },
   "source": [
    "By Group"
   ]
  },
  {
   "cell_type": "code",
   "execution_count": 62,
   "id": "ec325bce",
   "metadata": {
    "execution": {
     "iopub.execute_input": "2025-08-05T16:26:59.668431Z",
     "iopub.status.busy": "2025-08-05T16:26:59.667704Z",
     "iopub.status.idle": "2025-08-05T16:26:59.687870Z",
     "shell.execute_reply": "2025-08-05T16:26:59.686660Z"
    },
    "papermill": {
     "duration": 0.056062,
     "end_time": "2025-08-05T16:26:59.689926",
     "exception": false,
     "start_time": "2025-08-05T16:26:59.633864",
     "status": "completed"
    },
    "tags": []
   },
   "outputs": [
    {
     "data": {
      "text/html": [
       "<div>\n",
       "<style scoped>\n",
       "    .dataframe tbody tr th:only-of-type {\n",
       "        vertical-align: middle;\n",
       "    }\n",
       "\n",
       "    .dataframe tbody tr th {\n",
       "        vertical-align: top;\n",
       "    }\n",
       "\n",
       "    .dataframe thead th {\n",
       "        text-align: right;\n",
       "    }\n",
       "</style>\n",
       "<table border=\"1\" class=\"dataframe\">\n",
       "  <thead>\n",
       "    <tr style=\"text-align: right;\">\n",
       "      <th></th>\n",
       "      <th>accuracy</th>\n",
       "      <th>balanced accuracy</th>\n",
       "      <th>f1</th>\n",
       "      <th>precision</th>\n",
       "      <th>false positive rate</th>\n",
       "      <th>false negative rate</th>\n",
       "      <th>selection rate</th>\n",
       "      <th>count</th>\n",
       "    </tr>\n",
       "    <tr>\n",
       "      <th>majmin</th>\n",
       "      <th></th>\n",
       "      <th></th>\n",
       "      <th></th>\n",
       "      <th></th>\n",
       "      <th></th>\n",
       "      <th></th>\n",
       "      <th></th>\n",
       "      <th></th>\n",
       "    </tr>\n",
       "  </thead>\n",
       "  <tbody>\n",
       "    <tr>\n",
       "      <th>majority</th>\n",
       "      <td>0.201735</td>\n",
       "      <td>0.535459</td>\n",
       "      <td>0.246671</td>\n",
       "      <td>0.140907</td>\n",
       "      <td>0.918141</td>\n",
       "      <td>0.010941</td>\n",
       "      <td>0.927512</td>\n",
       "      <td>69170.0</td>\n",
       "    </tr>\n",
       "    <tr>\n",
       "      <th>minority</th>\n",
       "      <td>0.178238</td>\n",
       "      <td>0.517030</td>\n",
       "      <td>0.211741</td>\n",
       "      <td>0.119034</td>\n",
       "      <td>0.923289</td>\n",
       "      <td>0.042652</td>\n",
       "      <td>0.927215</td>\n",
       "      <td>20540.0</td>\n",
       "    </tr>\n",
       "  </tbody>\n",
       "</table>\n",
       "</div>"
      ],
      "text/plain": [
       "          accuracy  balanced accuracy        f1  precision  \\\n",
       "majmin                                                       \n",
       "majority  0.201735           0.535459  0.246671   0.140907   \n",
       "minority  0.178238           0.517030  0.211741   0.119034   \n",
       "\n",
       "          false positive rate  false negative rate  selection rate    count  \n",
       "majmin                                                                       \n",
       "majority             0.918141             0.010941        0.927512  69170.0  \n",
       "minority             0.923289             0.042652        0.927215  20540.0  "
      ]
     },
     "execution_count": 62,
     "metadata": {},
     "output_type": "execute_result"
    }
   ],
   "source": [
    "metric_frame.by_group"
   ]
  },
  {
   "cell_type": "code",
   "execution_count": 63,
   "id": "a9ddbe63",
   "metadata": {
    "execution": {
     "iopub.execute_input": "2025-08-05T16:26:59.758226Z",
     "iopub.status.busy": "2025-08-05T16:26:59.757407Z",
     "iopub.status.idle": "2025-08-05T16:27:02.461374Z",
     "shell.execute_reply": "2025-08-05T16:27:02.460207Z"
    },
    "papermill": {
     "duration": 2.740216,
     "end_time": "2025-08-05T16:27:02.463361",
     "exception": false,
     "start_time": "2025-08-05T16:26:59.723145",
     "status": "completed"
    },
    "tags": []
   },
   "outputs": [
    {
     "data": {
      "text/plain": [
       "array([[<Axes: title={'center': 'accuracy'}, xlabel='majmin'>,\n",
       "        <Axes: title={'center': 'balanced accuracy'}, xlabel='majmin'>,\n",
       "        <Axes: title={'center': 'f1'}, xlabel='majmin'>],\n",
       "       [<Axes: title={'center': 'precision'}, xlabel='majmin'>,\n",
       "        <Axes: title={'center': 'false positive rate'}, xlabel='majmin'>,\n",
       "        <Axes: title={'center': 'false negative rate'}, xlabel='majmin'>],\n",
       "       [<Axes: title={'center': 'selection rate'}, xlabel='majmin'>,\n",
       "        <Axes: title={'center': 'count'}, xlabel='majmin'>,\n",
       "        <Axes: xlabel='majmin'>]], dtype=object)"
      ]
     },
     "execution_count": 63,
     "metadata": {},
     "output_type": "execute_result"
    },
    {
     "data": {
      "image/png": "[encoded data removed]",
      "text/plain": [
       "<Figure size 1200x800 with 9 Axes>"
      ]
     },
     "metadata": {},
     "output_type": "display_data"
    }
   ],
   "source": [
    "# In a graphic\n",
    "metric_frame.by_group.plot.bar(\n",
    "    subplots=True,\n",
    "    layout=[3, 3],\n",
    "    legend=False,\n",
    "    figsize=[12, 8],\n",
    "    title=\"Show all metrics\",\n",
    ")"
   ]
  },
  {
   "cell_type": "markdown",
   "id": "f57a0bac",
   "metadata": {
    "papermill": {
     "duration": 0.033061,
     "end_time": "2025-08-05T16:27:02.528320",
     "exception": false,
     "start_time": "2025-08-05T16:27:02.495259",
     "status": "completed"
    },
    "tags": []
   },
   "source": [
    "# Final Output"
   ]
  },
  {
   "cell_type": "code",
   "execution_count": 64,
   "id": "96d280a3",
   "metadata": {
    "execution": {
     "iopub.execute_input": "2025-08-05T16:27:02.595071Z",
     "iopub.status.busy": "2025-08-05T16:27:02.594449Z",
     "iopub.status.idle": "2025-08-05T16:27:02.603933Z",
     "shell.execute_reply": "2025-08-05T16:27:02.602820Z"
    },
    "papermill": {
     "duration": 0.045491,
     "end_time": "2025-08-05T16:27:02.605811",
     "exception": false,
     "start_time": "2025-08-05T16:27:02.560320",
     "status": "completed"
    },
    "tags": []
   },
   "outputs": [
    {
     "data": {
      "text/plain": [
       "4"
      ]
     },
     "execution_count": 64,
     "metadata": {},
     "output_type": "execute_result"
    }
   ],
   "source": [
    "sub_universes = universe_analysis.generate_sub_universes()\n",
    "len(sub_universes)"
   ]
  },
  {
   "cell_type": "code",
   "execution_count": 65,
   "id": "92adf7ba",
   "metadata": {
    "execution": {
     "iopub.execute_input": "2025-08-05T16:27:02.674162Z",
     "iopub.status.busy": "2025-08-05T16:27:02.673267Z",
     "iopub.status.idle": "2025-08-05T16:27:02.681071Z",
     "shell.execute_reply": "2025-08-05T16:27:02.679877Z"
    },
    "papermill": {
     "duration": 0.044008,
     "end_time": "2025-08-05T16:27:02.683150",
     "exception": false,
     "start_time": "2025-08-05T16:27:02.639142",
     "status": "completed"
    },
    "tags": []
   },
   "outputs": [],
   "source": [
    "def filter_sub_universe_data(sub_universe, org_test):\n",
    "    # Keep all rows — no filtering\n",
    "    keep_rows_mask = np.ones(org_test.shape[0], dtype=bool)\n",
    "\n",
    "    print(f\"[INFO] Keeping all rows: {keep_rows_mask.sum()} rows retained.\")\n",
    "    return keep_rows_mask"
   ]
  },
  {
   "cell_type": "code",
   "execution_count": 66,
   "id": "4a759155",
   "metadata": {
    "execution": {
     "iopub.execute_input": "2025-08-05T16:27:02.751292Z",
     "iopub.status.busy": "2025-08-05T16:27:02.750703Z",
     "iopub.status.idle": "2025-08-05T16:27:14.151599Z",
     "shell.execute_reply": "2025-08-05T16:27:14.150544Z"
    },
    "papermill": {
     "duration": 11.435473,
     "end_time": "2025-08-05T16:27:14.153177",
     "exception": false,
     "start_time": "2025-08-05T16:27:02.717704",
     "status": "completed"
    },
    "tags": []
   },
   "outputs": [
    {
     "name": "stdout",
     "output_type": "stream",
     "text": [
      "Stopping execution_time clock.\n",
      "[INFO] Keeping all rows: 89710 rows retained.\n"
     ]
    },
    {
     "name": "stdout",
     "output_type": "stream",
     "text": [
      "[INFO] Keeping all rows: 89710 rows retained.\n"
     ]
    },
    {
     "name": "stdout",
     "output_type": "stream",
     "text": [
      "[INFO] Keeping all rows: 89710 rows retained.\n"
     ]
    },
    {
     "name": "stdout",
     "output_type": "stream",
     "text": [
      "[INFO] Keeping all rows: 89710 rows retained.\n"
     ]
    },
    {
     "data": {
      "text/html": [
       "<div>\n",
       "<style scoped>\n",
       "    .dataframe tbody tr th:only-of-type {\n",
       "        vertical-align: middle;\n",
       "    }\n",
       "\n",
       "    .dataframe tbody tr th {\n",
       "        vertical-align: top;\n",
       "    }\n",
       "\n",
       "    .dataframe thead th {\n",
       "        text-align: right;\n",
       "    }\n",
       "</style>\n",
       "<table border=\"1\" class=\"dataframe\">\n",
       "  <thead>\n",
       "    <tr style=\"text-align: right;\">\n",
       "      <th></th>\n",
       "      <th>run_no</th>\n",
       "      <th>universe_id</th>\n",
       "      <th>universe_settings</th>\n",
       "      <th>execution_time</th>\n",
       "      <th>test_size_n</th>\n",
       "      <th>test_size_frac</th>\n",
       "      <th>fair_main_equalized_odds_difference</th>\n",
       "      <th>fair_main_equalized_odds_ratio</th>\n",
       "      <th>fair_main_demographic_parity_difference</th>\n",
       "      <th>fair_main_demographic_parity_ratio</th>\n",
       "      <th>...</th>\n",
       "      <th>perf_grp_precision_0</th>\n",
       "      <th>perf_grp_precision_1</th>\n",
       "      <th>perf_grp_false positive rate_0</th>\n",
       "      <th>perf_grp_false positive rate_1</th>\n",
       "      <th>perf_grp_false negative rate_0</th>\n",
       "      <th>perf_grp_false negative rate_1</th>\n",
       "      <th>perf_grp_selection rate_0</th>\n",
       "      <th>perf_grp_selection rate_1</th>\n",
       "      <th>perf_grp_count_0</th>\n",
       "      <th>perf_grp_count_1</th>\n",
       "    </tr>\n",
       "  </thead>\n",
       "  <tbody>\n",
       "    <tr>\n",
       "      <th>0</th>\n",
       "      <td>15</td>\n",
       "      <td>8d573b496bccee6b4b1383cd1b7c0319</td>\n",
       "      <td>{\"cutoff\": \"quantile_0.1\", \"eval_fairness_grou...</td>\n",
       "      <td>33.128358</td>\n",
       "      <td>89710</td>\n",
       "      <td>1.0</td>\n",
       "      <td>0.031711</td>\n",
       "      <td>0.967938</td>\n",
       "      <td>0.000297</td>\n",
       "      <td>0.999680</td>\n",
       "      <td>...</td>\n",
       "      <td>NaN</td>\n",
       "      <td>NaN</td>\n",
       "      <td>NaN</td>\n",
       "      <td>NaN</td>\n",
       "      <td>NaN</td>\n",
       "      <td>NaN</td>\n",
       "      <td>NaN</td>\n",
       "      <td>NaN</td>\n",
       "      <td>NaN</td>\n",
       "      <td>NaN</td>\n",
       "    </tr>\n",
       "    <tr>\n",
       "      <th>0</th>\n",
       "      <td>15</td>\n",
       "      <td>8d573b496bccee6b4b1383cd1b7c0319</td>\n",
       "      <td>{\"cutoff\": \"quantile_0.1\", \"eval_fairness_grou...</td>\n",
       "      <td>33.128358</td>\n",
       "      <td>89710</td>\n",
       "      <td>1.0</td>\n",
       "      <td>0.031711</td>\n",
       "      <td>0.967938</td>\n",
       "      <td>0.000297</td>\n",
       "      <td>0.999680</td>\n",
       "      <td>...</td>\n",
       "      <td>0.119034</td>\n",
       "      <td>0.140907</td>\n",
       "      <td>0.923289</td>\n",
       "      <td>0.918141</td>\n",
       "      <td>0.042652</td>\n",
       "      <td>0.010941</td>\n",
       "      <td>0.927215</td>\n",
       "      <td>0.927512</td>\n",
       "      <td>20540.0</td>\n",
       "      <td>69170.0</td>\n",
       "    </tr>\n",
       "    <tr>\n",
       "      <th>0</th>\n",
       "      <td>15</td>\n",
       "      <td>8d573b496bccee6b4b1383cd1b7c0319</td>\n",
       "      <td>{\"cutoff\": \"quantile_0.25\", \"eval_fairness_gro...</td>\n",
       "      <td>33.128358</td>\n",
       "      <td>89710</td>\n",
       "      <td>1.0</td>\n",
       "      <td>0.096948</td>\n",
       "      <td>0.897263</td>\n",
       "      <td>0.021790</td>\n",
       "      <td>0.971937</td>\n",
       "      <td>...</td>\n",
       "      <td>NaN</td>\n",
       "      <td>NaN</td>\n",
       "      <td>NaN</td>\n",
       "      <td>NaN</td>\n",
       "      <td>NaN</td>\n",
       "      <td>NaN</td>\n",
       "      <td>NaN</td>\n",
       "      <td>NaN</td>\n",
       "      <td>NaN</td>\n",
       "      <td>NaN</td>\n",
       "    </tr>\n",
       "    <tr>\n",
       "      <th>0</th>\n",
       "      <td>15</td>\n",
       "      <td>8d573b496bccee6b4b1383cd1b7c0319</td>\n",
       "      <td>{\"cutoff\": \"quantile_0.25\", \"eval_fairness_gro...</td>\n",
       "      <td>33.128358</td>\n",
       "      <td>89710</td>\n",
       "      <td>1.0</td>\n",
       "      <td>0.096948</td>\n",
       "      <td>0.897263</td>\n",
       "      <td>0.021790</td>\n",
       "      <td>0.971937</td>\n",
       "      <td>...</td>\n",
       "      <td>0.129346</td>\n",
       "      <td>0.160591</td>\n",
       "      <td>0.742681</td>\n",
       "      <td>0.751008</td>\n",
       "      <td>0.153294</td>\n",
       "      <td>0.056346</td>\n",
       "      <td>0.754674</td>\n",
       "      <td>0.776464</td>\n",
       "      <td>20540.0</td>\n",
       "      <td>69170.0</td>\n",
       "    </tr>\n",
       "  </tbody>\n",
       "</table>\n",
       "<p>4 rows × 50 columns</p>\n",
       "</div>"
      ],
      "text/plain": [
       "  run_no                       universe_id  \\\n",
       "0     15  8d573b496bccee6b4b1383cd1b7c0319   \n",
       "0     15  8d573b496bccee6b4b1383cd1b7c0319   \n",
       "0     15  8d573b496bccee6b4b1383cd1b7c0319   \n",
       "0     15  8d573b496bccee6b4b1383cd1b7c0319   \n",
       "\n",
       "                                   universe_settings  execution_time  \\\n",
       "0  {\"cutoff\": \"quantile_0.1\", \"eval_fairness_grou...       33.128358   \n",
       "0  {\"cutoff\": \"quantile_0.1\", \"eval_fairness_grou...       33.128358   \n",
       "0  {\"cutoff\": \"quantile_0.25\", \"eval_fairness_gro...       33.128358   \n",
       "0  {\"cutoff\": \"quantile_0.25\", \"eval_fairness_gro...       33.128358   \n",
       "\n",
       "   test_size_n  test_size_frac  fair_main_equalized_odds_difference  \\\n",
       "0        89710             1.0                             0.031711   \n",
       "0        89710             1.0                             0.031711   \n",
       "0        89710             1.0                             0.096948   \n",
       "0        89710             1.0                             0.096948   \n",
       "\n",
       "   fair_main_equalized_odds_ratio  fair_main_demographic_parity_difference  \\\n",
       "0                        0.967938                                 0.000297   \n",
       "0                        0.967938                                 0.000297   \n",
       "0                        0.897263                                 0.021790   \n",
       "0                        0.897263                                 0.021790   \n",
       "\n",
       "   fair_main_demographic_parity_ratio  ...  perf_grp_precision_0  \\\n",
       "0                            0.999680  ...                   NaN   \n",
       "0                            0.999680  ...              0.119034   \n",
       "0                            0.971937  ...                   NaN   \n",
       "0                            0.971937  ...              0.129346   \n",
       "\n",
       "   perf_grp_precision_1  perf_grp_false positive rate_0  \\\n",
       "0                   NaN                             NaN   \n",
       "0              0.140907                        0.923289   \n",
       "0                   NaN                             NaN   \n",
       "0              0.160591                        0.742681   \n",
       "\n",
       "   perf_grp_false positive rate_1  perf_grp_false negative rate_0  \\\n",
       "0                             NaN                             NaN   \n",
       "0                        0.918141                        0.042652   \n",
       "0                             NaN                             NaN   \n",
       "0                        0.751008                        0.153294   \n",
       "\n",
       "   perf_grp_false negative rate_1  perf_grp_selection rate_0  \\\n",
       "0                             NaN                        NaN   \n",
       "0                        0.010941                   0.927215   \n",
       "0                             NaN                        NaN   \n",
       "0                        0.056346                   0.754674   \n",
       "\n",
       "   perf_grp_selection rate_1  perf_grp_count_0  perf_grp_count_1  \n",
       "0                        NaN               NaN               NaN  \n",
       "0                   0.927512           20540.0           69170.0  \n",
       "0                        NaN               NaN               NaN  \n",
       "0                   0.776464           20540.0           69170.0  \n",
       "\n",
       "[4 rows x 50 columns]"
      ]
     },
     "execution_count": 66,
     "metadata": {},
     "output_type": "execute_result"
    }
   ],
   "source": [
    "final_output = universe_analysis.generate_final_output(\n",
    "    y_pred_prob=probs_test,\n",
    "    y_test=y_true,\n",
    "    org_test=org_test,\n",
    "    filter_data=filter_sub_universe_data,\n",
    "    cp_metrics_df=cp_metrics_df,\n",
    "    save=True,\n",
    ")\n",
    "final_output"
   ]
  }
 ],
 "metadata": {
  "celltoolbar": "Tags",
  "kernelspec": {
   "display_name": "Python (CMA Fairness)",
   "language": "python",
   "name": "cma_fair_env"
  },
  "language_info": {
   "codemirror_mode": {
    "name": "ipython",
    "version": 3
   },
   "file_extension": ".py",
   "mimetype": "text/x-python",
   "name": "python",
   "nbconvert_exporter": "python",
   "pygments_lexer": "ipython3",
   "version": "3.10.12"
  },
  "papermill": {
   "default_parameters": {},
   "duration": 49.138964,
   "end_time": "2025-08-05T16:27:14.989170",
   "environment_variables": {},
   "exception": null,
   "input_path": "universe_analysis.ipynb",
   "output_path": "output/runs/15/notebooks/m_15-8d573b496bccee6b4b1383cd1b7c0319.ipynb",
   "parameters": {
    "output_dir": "output",
    "run_no": "15",
    "seed": "2023",
    "universe": "{\"cutoff\": [\"quantile_0.1\", \"quantile_0.25\"], \"eval_fairness_grouping\": [\"majority-minority\", \"nationality-all\"], \"exclude_features\": \"nationality\", \"exclude_subgroups\": \"keep-all\", \"model\": \"rf\", \"scale\": \"do-not-scale\", \"training_size\": \"1k\", \"training_year\": \"2012_14\"}",
    "universe_id": "8d573b496bccee6b4b1383cd1b7c0319"
   },
   "start_time": "2025-08-05T16:26:25.850206",
   "version": "2.6.0"
  }
 },
 "nbformat": 4,
 "nbformat_minor": 5
}