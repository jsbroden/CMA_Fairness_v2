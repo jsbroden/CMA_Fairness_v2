{
 "cells": [
  {
   "cell_type": "code",
   "execution_count": 1,
   "id": "f159f837-637b-42ba-96b5-ec9a68c44524",
   "metadata": {
    "execution": {
     "iopub.execute_input": "2025-08-05T16:08:55.163573Z",
     "iopub.status.busy": "2025-08-05T16:08:55.163099Z",
     "iopub.status.idle": "2025-08-05T16:08:55.177058Z",
     "shell.execute_reply": "2025-08-05T16:08:55.175964Z"
    },
    "papermill": {
     "duration": 0.032799,
     "end_time": "2025-08-05T16:08:55.178604",
     "exception": false,
     "start_time": "2025-08-05T16:08:55.145805",
     "status": "completed"
    },
    "tags": []
   },
   "outputs": [
    {
     "name": "stdout",
     "output_type": "stream",
     "text": [
      "/dss/dsshome1/0C/ra93lal2/cma/CMA_Fairness_v2\n"
     ]
    },
    {
     "name": "stderr",
     "output_type": "stream",
     "text": [
      "/dss/dsshome1/0C/ra93lal2/.local/share/virtualenvs/CMA_Fairness_v2-3j10GkSs/lib/python3.10/site-packages/IPython/core/magics/osm.py:393: UserWarning: This is now an optional IPython functionality, using bookmarks requires you to install the `pickleshare` library.\n",
      "  bkms = self.shell.db.get('bookmarks', {})\n",
      "/dss/dsshome1/0C/ra93lal2/.local/share/virtualenvs/CMA_Fairness_v2-3j10GkSs/lib/python3.10/site-packages/IPython/core/magics/osm.py:417: UserWarning: This is now an optional IPython functionality, setting dhist requires you to install the `pickleshare` library.\n",
      "  self.shell.db['dhist'] = compress_dhist(dhist)[-100:]\n"
     ]
    }
   ],
   "source": [
    "%cd ~/cma/CMA_Fairness_v2"
   ]
  },
  {
   "cell_type": "markdown",
   "id": "de2603b9",
   "metadata": {
    "papermill": {
     "duration": 0.014876,
     "end_time": "2025-08-05T16:08:55.210330",
     "exception": false,
     "start_time": "2025-08-05T16:08:55.195454",
     "status": "completed"
    },
    "tags": []
   },
   "source": [
    "The following cell holds the definition of our parameters, these values can be overriden by rendering the with e.g. the following command:\n",
    "\n",
    "papermill -p alpha 0.2 -p ratio 0.3 universe_analysis.ipynb output/test_run.ipynb"
   ]
  },
  {
   "cell_type": "code",
   "execution_count": 2,
   "id": "a80968a0-40bb-4fa9-85ef-2d5eefb01975",
   "metadata": {
    "execution": {
     "iopub.execute_input": "2025-08-05T16:08:55.241666Z",
     "iopub.status.busy": "2025-08-05T16:08:55.240936Z",
     "iopub.status.idle": "2025-08-05T16:08:55.246457Z",
     "shell.execute_reply": "2025-08-05T16:08:55.245566Z"
    },
    "papermill": {
     "duration": 0.022944,
     "end_time": "2025-08-05T16:08:55.248015",
     "exception": false,
     "start_time": "2025-08-05T16:08:55.225071",
     "status": "completed"
    },
    "tags": []
   },
   "outputs": [
    {
     "name": "stdout",
     "output_type": "stream",
     "text": [
      "Current working directory: /dss/dsshome1/0C/ra93lal2/cma/CMA_Fairness_v2\n"
     ]
    }
   ],
   "source": [
    "import os\n",
    "print(\"Current working directory:\", os.getcwd())"
   ]
  },
  {
   "cell_type": "code",
   "execution_count": 3,
   "id": "2dce4c03",
   "metadata": {
    "execution": {
     "iopub.execute_input": "2025-08-05T16:08:55.282379Z",
     "iopub.status.busy": "2025-08-05T16:08:55.281699Z",
     "iopub.status.idle": "2025-08-05T16:08:55.287495Z",
     "shell.execute_reply": "2025-08-05T16:08:55.286582Z"
    },
    "papermill": {
     "duration": 0.024004,
     "end_time": "2025-08-05T16:08:55.289218",
     "exception": false,
     "start_time": "2025-08-05T16:08:55.265214",
     "status": "completed"
    },
    "tags": [
     "parameters"
    ]
   },
   "outputs": [],
   "source": [
    "run_no = 0\n",
    "universe_id = \"test\"\n",
    "universe = {\n",
    "    \"training_size\": \"25k\", # \"25k\", \"5k\", \"1k\"\n",
    "    \"training_year\": \"2014\", # \"2014\", \"2012_14\", \"2010_14\"\n",
    "    \"scale\": \"scale\", # \"scale\", \"do-not-scale\",\n",
    "    \"model\": \"elasticnet\", # \"logreg\", \"penalized_logreg\", \"rf\", \"gbm\", \"elasticnet\"\n",
    "    \"cutoff\": [\"quantile_0.15\", \"quantile_0.30\"],\n",
    "    \"exclude_features\": \"age\", # \"none\", \"nationality\", \"sex\", \"nationality-sex\", \"age\"\n",
    "    \"exclude_subgroups\": \"keep-all\", # \"keep-all\", \"drop-non-german\"\n",
    "    \"eval_fairness_grouping\": [\"majority-minority\", \"nationality-all\"]\n",
    "}\n",
    "\n",
    "output_dir=\"./output\"\n",
    "seed=0"
   ]
  },
  {
   "cell_type": "code",
   "execution_count": 4,
   "id": "cd2738c4",
   "metadata": {
    "execution": {
     "iopub.execute_input": "2025-08-05T16:08:55.321914Z",
     "iopub.status.busy": "2025-08-05T16:08:55.321314Z",
     "iopub.status.idle": "2025-08-05T16:08:55.326315Z",
     "shell.execute_reply": "2025-08-05T16:08:55.325371Z"
    },
    "papermill": {
     "duration": 0.022619,
     "end_time": "2025-08-05T16:08:55.328035",
     "exception": false,
     "start_time": "2025-08-05T16:08:55.305416",
     "status": "completed"
    },
    "tags": [
     "injected-parameters"
    ]
   },
   "outputs": [],
   "source": [
    "# Parameters\n",
    "universe_id = \"e1a9119fd608c72be697566b91ecafe9\"\n",
    "run_no = \"15\"\n",
    "universe = \"{\\\"cutoff\\\": [\\\"quantile_0.1\\\", \\\"quantile_0.25\\\"], \\\"eval_fairness_grouping\\\": [\\\"majority-minority\\\", \\\"nationality-all\\\"], \\\"exclude_features\\\": \\\"sex\\\", \\\"exclude_subgroups\\\": \\\"keep-all\\\", \\\"model\\\": \\\"logreg\\\", \\\"scale\\\": \\\"do-not-scale\\\", \\\"training_size\\\": \\\"1k\\\", \\\"training_year\\\": \\\"2014\\\"}\"\n",
    "output_dir = \"output\"\n",
    "seed = \"2023\"\n"
   ]
  },
  {
   "cell_type": "code",
   "execution_count": 5,
   "id": "1650acaf",
   "metadata": {
    "execution": {
     "iopub.execute_input": "2025-08-05T16:08:55.360899Z",
     "iopub.status.busy": "2025-08-05T16:08:55.360264Z",
     "iopub.status.idle": "2025-08-05T16:08:55.365362Z",
     "shell.execute_reply": "2025-08-05T16:08:55.364409Z"
    },
    "papermill": {
     "duration": 0.023057,
     "end_time": "2025-08-05T16:08:55.366987",
     "exception": false,
     "start_time": "2025-08-05T16:08:55.343930",
     "status": "completed"
    },
    "tags": []
   },
   "outputs": [],
   "source": [
    "import json\n",
    "if isinstance(universe, str):\n",
    "    universe = json.loads(universe)"
   ]
  },
  {
   "cell_type": "code",
   "execution_count": 6,
   "id": "16620c48",
   "metadata": {
    "execution": {
     "iopub.execute_input": "2025-08-05T16:08:55.399656Z",
     "iopub.status.busy": "2025-08-05T16:08:55.399007Z",
     "iopub.status.idle": "2025-08-05T16:08:55.442852Z",
     "shell.execute_reply": "2025-08-05T16:08:55.442067Z"
    },
    "papermill": {
     "duration": 0.061605,
     "end_time": "2025-08-05T16:08:55.444434",
     "exception": false,
     "start_time": "2025-08-05T16:08:55.382829",
     "status": "completed"
    },
    "tags": []
   },
   "outputs": [],
   "source": [
    "# Auto-reload the custom package\n",
    "%load_ext autoreload\n",
    "%autoreload 1\n",
    "%aimport fairness_multiverse"
   ]
  },
  {
   "cell_type": "code",
   "execution_count": 7,
   "id": "01c5c9f3",
   "metadata": {
    "execution": {
     "iopub.execute_input": "2025-08-05T16:08:55.477233Z",
     "iopub.status.busy": "2025-08-05T16:08:55.476365Z",
     "iopub.status.idle": "2025-08-05T16:08:57.373787Z",
     "shell.execute_reply": "2025-08-05T16:08:57.372782Z"
    },
    "papermill": {
     "duration": 1.915641,
     "end_time": "2025-08-05T16:08:57.375676",
     "exception": false,
     "start_time": "2025-08-05T16:08:55.460035",
     "status": "completed"
    },
    "tags": []
   },
   "outputs": [],
   "source": [
    "from fairness_multiverse.universe import UniverseAnalysis\n",
    "\n",
    "universe_analysis = UniverseAnalysis(\n",
    "    run_no = run_no,\n",
    "    universe_id = universe_id,\n",
    "    universe = universe,\n",
    "    output_dir=output_dir,\n",
    ")"
   ]
  },
  {
   "cell_type": "code",
   "execution_count": 8,
   "id": "106241f5",
   "metadata": {
    "execution": {
     "iopub.execute_input": "2025-08-05T16:08:57.410986Z",
     "iopub.status.busy": "2025-08-05T16:08:57.410574Z",
     "iopub.status.idle": "2025-08-05T16:08:57.416804Z",
     "shell.execute_reply": "2025-08-05T16:08:57.415813Z"
    },
    "papermill": {
     "duration": 0.02685,
     "end_time": "2025-08-05T16:08:57.419722",
     "exception": false,
     "start_time": "2025-08-05T16:08:57.392872",
     "status": "completed"
    },
    "tags": []
   },
   "outputs": [
    {
     "name": "stdout",
     "output_type": "stream",
     "text": [
      "Using Seed: 2023\n"
     ]
    }
   ],
   "source": [
    "import numpy as np\n",
    "parsed_seed = int(seed)\n",
    "np.random.seed(parsed_seed)\n",
    "print(f\"Using Seed: {parsed_seed}\")"
   ]
  },
  {
   "cell_type": "markdown",
   "id": "e0ebdc57",
   "metadata": {
    "papermill": {
     "duration": 0.015946,
     "end_time": "2025-08-05T16:08:57.452799",
     "exception": false,
     "start_time": "2025-08-05T16:08:57.436853",
     "status": "completed"
    },
    "tags": []
   },
   "source": [
    "# Loading Data"
   ]
  },
  {
   "cell_type": "code",
   "execution_count": 9,
   "id": "f0496b8a",
   "metadata": {
    "execution": {
     "iopub.execute_input": "2025-08-05T16:08:57.488643Z",
     "iopub.status.busy": "2025-08-05T16:08:57.487817Z",
     "iopub.status.idle": "2025-08-05T16:09:09.041777Z",
     "shell.execute_reply": "2025-08-05T16:09:09.040516Z"
    },
    "papermill": {
     "duration": 11.573705,
     "end_time": "2025-08-05T16:09:09.043489",
     "exception": false,
     "start_time": "2025-08-05T16:08:57.469784",
     "status": "completed"
    },
    "tags": []
   },
   "outputs": [
    {
     "name": "stdout",
     "output_type": "stream",
     "text": [
      "Loading SIAB data from cache: data/siab_cached.csv.gz\n"
     ]
    },
    {
     "name": "stdout",
     "output_type": "stream",
     "text": [
      "(643690, 164)\n"
     ]
    }
   ],
   "source": [
    "from pathlib import Path\n",
    "import pandas as pd\n",
    "\n",
    "# File paths\n",
    "raw_file = Path(\"data/raw/siab.csv\")\n",
    "cache_file = Path(\"data/siab_cached.csv.gz\")\n",
    "\n",
    "# Ensure cache directory exists\n",
    "cache_file.parent.mkdir(parents=True, exist_ok=True)\n",
    "\n",
    "# Load with simple caching\n",
    "if cache_file.exists():\n",
    "    print(f\"Loading SIAB data from cache: {cache_file}\")\n",
    "    siab = pd.read_csv(cache_file, compression='gzip')\n",
    "else:\n",
    "    print(f\"Cache not found. Reading raw SIAB data: {raw_file}\")\n",
    "    siab = pd.read_csv(raw_file)\n",
    "    siab.to_csv(cache_file, index=False, compression='gzip')\n",
    "    print(f\"Cached SIAB data to: {cache_file}\")\n",
    "\n",
    "print(siab.shape)"
   ]
  },
  {
   "cell_type": "code",
   "execution_count": 10,
   "id": "db0ca512-5f53-4dba-abdb-a2888bca41ba",
   "metadata": {
    "execution": {
     "iopub.execute_input": "2025-08-05T16:09:09.081565Z",
     "iopub.status.busy": "2025-08-05T16:09:09.081030Z",
     "iopub.status.idle": "2025-08-05T16:09:09.087044Z",
     "shell.execute_reply": "2025-08-05T16:09:09.086030Z"
    },
    "papermill": {
     "duration": 0.02537,
     "end_time": "2025-08-05T16:09:09.088930",
     "exception": false,
     "start_time": "2025-08-05T16:09:09.063560",
     "status": "completed"
    },
    "tags": []
   },
   "outputs": [],
   "source": [
    "#siab"
   ]
  },
  {
   "cell_type": "markdown",
   "id": "997051c5-15bd-4b69-9786-c3001a3ce484",
   "metadata": {
    "papermill": {
     "duration": 0.018638,
     "end_time": "2025-08-05T16:09:09.128287",
     "exception": false,
     "start_time": "2025-08-05T16:09:09.109649",
     "status": "completed"
    },
    "tags": []
   },
   "source": [
    "# Splitting Data and Setting Training Data Size"
   ]
  },
  {
   "cell_type": "code",
   "execution_count": 11,
   "id": "aea9c6ef-6f46-42c8-85eb-5a62025c1508",
   "metadata": {
    "execution": {
     "iopub.execute_input": "2025-08-05T16:09:09.168170Z",
     "iopub.status.busy": "2025-08-05T16:09:09.167270Z",
     "iopub.status.idle": "2025-08-05T16:09:09.329409Z",
     "shell.execute_reply": "2025-08-05T16:09:09.328670Z"
    },
    "papermill": {
     "duration": 0.183615,
     "end_time": "2025-08-05T16:09:09.330880",
     "exception": false,
     "start_time": "2025-08-05T16:09:09.147265",
     "status": "completed"
    },
    "tags": []
   },
   "outputs": [],
   "source": [
    "from fairness_multiverse.universe import sample_by_year_size\n",
    "\n",
    "siab_train = sample_by_year_size(siab,\n",
    "                               training_year=universe[\"training_year\"],\n",
    "                               training_size=universe[\"training_size\"])"
   ]
  },
  {
   "cell_type": "code",
   "execution_count": 12,
   "id": "8d3afb32-789d-442c-8d5d-9f5aa8dd2eed",
   "metadata": {
    "execution": {
     "iopub.execute_input": "2025-08-05T16:09:09.370048Z",
     "iopub.status.busy": "2025-08-05T16:09:09.369505Z",
     "iopub.status.idle": "2025-08-05T16:09:09.374899Z",
     "shell.execute_reply": "2025-08-05T16:09:09.373876Z"
    },
    "papermill": {
     "duration": 0.027431,
     "end_time": "2025-08-05T16:09:09.377020",
     "exception": false,
     "start_time": "2025-08-05T16:09:09.349589",
     "status": "completed"
    },
    "tags": []
   },
   "outputs": [],
   "source": [
    "#siab_train.shape"
   ]
  },
  {
   "cell_type": "code",
   "execution_count": 13,
   "id": "d582db68-1a4c-47fb-84fc-08518dc1975a",
   "metadata": {
    "execution": {
     "iopub.execute_input": "2025-08-05T16:09:09.416148Z",
     "iopub.status.busy": "2025-08-05T16:09:09.415520Z",
     "iopub.status.idle": "2025-08-05T16:09:09.420617Z",
     "shell.execute_reply": "2025-08-05T16:09:09.419552Z"
    },
    "papermill": {
     "duration": 0.02639,
     "end_time": "2025-08-05T16:09:09.422784",
     "exception": false,
     "start_time": "2025-08-05T16:09:09.396394",
     "status": "completed"
    },
    "tags": []
   },
   "outputs": [],
   "source": [
    "#display(siab_train.groupby(\"year\").size())"
   ]
  },
  {
   "cell_type": "code",
   "execution_count": 14,
   "id": "a561edb4-d032-42cb-8256-22eac1111c64",
   "metadata": {
    "execution": {
     "iopub.execute_input": "2025-08-05T16:09:09.461965Z",
     "iopub.status.busy": "2025-08-05T16:09:09.461484Z",
     "iopub.status.idle": "2025-08-05T16:09:09.677080Z",
     "shell.execute_reply": "2025-08-05T16:09:09.676101Z"
    },
    "papermill": {
     "duration": 0.236901,
     "end_time": "2025-08-05T16:09:09.679121",
     "exception": false,
     "start_time": "2025-08-05T16:09:09.442220",
     "status": "completed"
    },
    "tags": []
   },
   "outputs": [],
   "source": [
    "#siab_train = siab_s[siab_s.year < 2015]\n",
    "siab_calib = siab[siab.year == 2015]\n",
    "siab_test = siab[siab.year == 2016]"
   ]
  },
  {
   "cell_type": "code",
   "execution_count": 15,
   "id": "472de16f-c3db-4916-846b-1f0de9cf1746",
   "metadata": {
    "execution": {
     "iopub.execute_input": "2025-08-05T16:09:09.717894Z",
     "iopub.status.busy": "2025-08-05T16:09:09.717294Z",
     "iopub.status.idle": "2025-08-05T16:09:09.724429Z",
     "shell.execute_reply": "2025-08-05T16:09:09.723418Z"
    },
    "papermill": {
     "duration": 0.028202,
     "end_time": "2025-08-05T16:09:09.726367",
     "exception": false,
     "start_time": "2025-08-05T16:09:09.698165",
     "status": "completed"
    },
    "tags": []
   },
   "outputs": [],
   "source": [
    "X_train = siab_train.iloc[:,4:164]\n",
    "y_train = siab_train.iloc[:, [3]]"
   ]
  },
  {
   "cell_type": "code",
   "execution_count": 16,
   "id": "828c96af-f43a-4ed6-ba47-8ac73a47d56c",
   "metadata": {
    "execution": {
     "iopub.execute_input": "2025-08-05T16:09:09.766206Z",
     "iopub.status.busy": "2025-08-05T16:09:09.765454Z",
     "iopub.status.idle": "2025-08-05T16:09:09.819116Z",
     "shell.execute_reply": "2025-08-05T16:09:09.818038Z"
    },
    "papermill": {
     "duration": 0.075263,
     "end_time": "2025-08-05T16:09:09.821438",
     "exception": false,
     "start_time": "2025-08-05T16:09:09.746175",
     "status": "completed"
    },
    "tags": []
   },
   "outputs": [],
   "source": [
    "X_calib = siab_calib.iloc[:,4:164]\n",
    "y_calib = siab_calib.iloc[:, [3]]"
   ]
  },
  {
   "cell_type": "code",
   "execution_count": 17,
   "id": "c34be9c3-6bd6-476e-acd3-845840e303be",
   "metadata": {
    "execution": {
     "iopub.execute_input": "2025-08-05T16:09:09.862209Z",
     "iopub.status.busy": "2025-08-05T16:09:09.861306Z",
     "iopub.status.idle": "2025-08-05T16:09:09.916734Z",
     "shell.execute_reply": "2025-08-05T16:09:09.915642Z"
    },
    "papermill": {
     "duration": 0.076937,
     "end_time": "2025-08-05T16:09:09.918667",
     "exception": false,
     "start_time": "2025-08-05T16:09:09.841730",
     "status": "completed"
    },
    "tags": []
   },
   "outputs": [],
   "source": [
    "X_test = siab_test.iloc[:,4:164]\n",
    "y_true = siab_test.iloc[:, [3]]"
   ]
  },
  {
   "cell_type": "code",
   "execution_count": 18,
   "id": "e6c733c5",
   "metadata": {
    "execution": {
     "iopub.execute_input": "2025-08-05T16:09:09.962697Z",
     "iopub.status.busy": "2025-08-05T16:09:09.962322Z",
     "iopub.status.idle": "2025-08-05T16:09:10.064805Z",
     "shell.execute_reply": "2025-08-05T16:09:10.063854Z"
    },
    "papermill": {
     "duration": 0.131164,
     "end_time": "2025-08-05T16:09:10.066652",
     "exception": false,
     "start_time": "2025-08-05T16:09:09.935488",
     "status": "completed"
    },
    "tags": []
   },
   "outputs": [],
   "source": [
    "# Auxiliary data needed downstream in the pipeline\n",
    "\n",
    "org_train = X_train.copy()\n",
    "org_test = X_test.copy()\n",
    "org_calib = X_calib.copy()"
   ]
  },
  {
   "cell_type": "markdown",
   "id": "0a4a1b33",
   "metadata": {
    "papermill": {
     "duration": 0.018008,
     "end_time": "2025-08-05T16:09:10.101145",
     "exception": false,
     "start_time": "2025-08-05T16:09:10.083137",
     "status": "completed"
    },
    "tags": []
   },
   "source": [
    "# Preprocessing Data"
   ]
  },
  {
   "cell_type": "code",
   "execution_count": 19,
   "id": "ca879031",
   "metadata": {
    "execution": {
     "iopub.execute_input": "2025-08-05T16:09:10.136139Z",
     "iopub.status.busy": "2025-08-05T16:09:10.135359Z",
     "iopub.status.idle": "2025-08-05T16:09:10.141662Z",
     "shell.execute_reply": "2025-08-05T16:09:10.140697Z"
    },
    "papermill": {
     "duration": 0.023847,
     "end_time": "2025-08-05T16:09:10.143380",
     "exception": false,
     "start_time": "2025-08-05T16:09:10.119533",
     "status": "completed"
    },
    "tags": []
   },
   "outputs": [],
   "source": [
    "# EXCLUDE PROTECTED FEATURES\n",
    "# ----------------------\n",
    "# \"exclude_features\": \"none\", # \"nationality\", \"sex\", \"nationality-sex\"\n",
    "\n",
    "excluded_features = universe[\"exclude_features\"].split(\"-\") # split, e.g.: \"nationality-sex\" -> [\"nationality\", \"sex\"]\n",
    "excluded_features_dictionary = {\n",
    "    \"nationality\": [\"maxdeutsch1\", \"maxdeutsch.Missing.\"],\n",
    "    \"sex\": [\"frau1\"],\n",
    "    \"age\": [\"age\"],\n",
    "}"
   ]
  },
  {
   "cell_type": "code",
   "execution_count": 20,
   "id": "b745ac60",
   "metadata": {
    "execution": {
     "iopub.execute_input": "2025-08-05T16:09:10.180742Z",
     "iopub.status.busy": "2025-08-05T16:09:10.179664Z",
     "iopub.status.idle": "2025-08-05T16:09:10.185642Z",
     "shell.execute_reply": "2025-08-05T16:09:10.184578Z"
    },
    "papermill": {
     "duration": 0.024453,
     "end_time": "2025-08-05T16:09:10.187480",
     "exception": false,
     "start_time": "2025-08-05T16:09:10.163027",
     "status": "completed"
    },
    "tags": []
   },
   "outputs": [],
   "source": [
    "# Code nice names to column names\n",
    "\n",
    "excluded_features_columns = [\n",
    "    excluded_features_dictionary[f] for f in excluded_features if len(f) > 0 and f != \"none\"\n",
    "]"
   ]
  },
  {
   "cell_type": "code",
   "execution_count": 21,
   "id": "f84f73a2",
   "metadata": {
    "execution": {
     "iopub.execute_input": "2025-08-05T16:09:10.227909Z",
     "iopub.status.busy": "2025-08-05T16:09:10.226933Z",
     "iopub.status.idle": "2025-08-05T16:09:10.236344Z",
     "shell.execute_reply": "2025-08-05T16:09:10.235222Z"
    },
    "papermill": {
     "duration": 0.031415,
     "end_time": "2025-08-05T16:09:10.238797",
     "exception": false,
     "start_time": "2025-08-05T16:09:10.207382",
     "status": "completed"
    },
    "tags": []
   },
   "outputs": [],
   "source": [
    "from utils import flatten_once\n",
    "\n",
    "excluded_features_columns = flatten_once(excluded_features_columns)"
   ]
  },
  {
   "cell_type": "code",
   "execution_count": 22,
   "id": "884dea22",
   "metadata": {
    "execution": {
     "iopub.execute_input": "2025-08-05T16:09:10.266586Z",
     "iopub.status.busy": "2025-08-05T16:09:10.265993Z",
     "iopub.status.idle": "2025-08-05T16:09:10.272842Z",
     "shell.execute_reply": "2025-08-05T16:09:10.272004Z"
    },
    "papermill": {
     "duration": 0.019123,
     "end_time": "2025-08-05T16:09:10.274366",
     "exception": false,
     "start_time": "2025-08-05T16:09:10.255243",
     "status": "completed"
    },
    "tags": []
   },
   "outputs": [
    {
     "name": "stdout",
     "output_type": "stream",
     "text": [
      "Dropping features: ['frau1']\n"
     ]
    }
   ],
   "source": [
    "if len(excluded_features_columns) > 0:\n",
    "    print(f\"Dropping features: {excluded_features_columns}\")\n",
    "    X_train.drop(excluded_features_columns, axis=1, inplace=True)"
   ]
  },
  {
   "cell_type": "code",
   "execution_count": 23,
   "id": "95ab8b16",
   "metadata": {
    "execution": {
     "iopub.execute_input": "2025-08-05T16:09:10.295091Z",
     "iopub.status.busy": "2025-08-05T16:09:10.294502Z",
     "iopub.status.idle": "2025-08-05T16:09:10.347665Z",
     "shell.execute_reply": "2025-08-05T16:09:10.346587Z"
    },
    "papermill": {
     "duration": 0.064472,
     "end_time": "2025-08-05T16:09:10.349108",
     "exception": false,
     "start_time": "2025-08-05T16:09:10.284636",
     "status": "completed"
    },
    "tags": []
   },
   "outputs": [
    {
     "name": "stdout",
     "output_type": "stream",
     "text": [
      "Dropping features: ['frau1']\n"
     ]
    }
   ],
   "source": [
    "if len(excluded_features_columns) > 0:\n",
    "    print(f\"Dropping features: {excluded_features_columns}\")\n",
    "    X_test.drop(excluded_features_columns, axis=1, inplace=True)"
   ]
  },
  {
   "cell_type": "code",
   "execution_count": 24,
   "id": "1853aaf5-fb9f-46cb-a2b5-8ea4ae2237e4",
   "metadata": {
    "execution": {
     "iopub.execute_input": "2025-08-05T16:09:10.387522Z",
     "iopub.status.busy": "2025-08-05T16:09:10.387080Z",
     "iopub.status.idle": "2025-08-05T16:09:10.441050Z",
     "shell.execute_reply": "2025-08-05T16:09:10.440011Z"
    },
    "papermill": {
     "duration": 0.076531,
     "end_time": "2025-08-05T16:09:10.443210",
     "exception": false,
     "start_time": "2025-08-05T16:09:10.366679",
     "status": "completed"
    },
    "tags": []
   },
   "outputs": [
    {
     "name": "stdout",
     "output_type": "stream",
     "text": [
      "Dropping features: ['frau1']\n"
     ]
    }
   ],
   "source": [
    "if len(excluded_features_columns) > 0:\n",
    "    print(f\"Dropping features: {excluded_features_columns}\")\n",
    "    X_calib.drop(excluded_features_columns, axis=1, inplace=True)"
   ]
  },
  {
   "cell_type": "code",
   "execution_count": 25,
   "id": "76c4dc6d",
   "metadata": {
    "execution": {
     "iopub.execute_input": "2025-08-05T16:09:10.483090Z",
     "iopub.status.busy": "2025-08-05T16:09:10.482360Z",
     "iopub.status.idle": "2025-08-05T16:09:10.488393Z",
     "shell.execute_reply": "2025-08-05T16:09:10.487377Z"
    },
    "papermill": {
     "duration": 0.027668,
     "end_time": "2025-08-05T16:09:10.490422",
     "exception": false,
     "start_time": "2025-08-05T16:09:10.462754",
     "status": "completed"
    },
    "tags": []
   },
   "outputs": [],
   "source": [
    "# EXCLUDE CERTAIN SUBGROUPS\n",
    "# ----------------------\n",
    "\n",
    "mode = universe.get(\"exclude_subgroups\", \"keep-all\") \n",
    "# Fetches the exclude_subgroups setting from the universe dict.\n",
    "# Defaults to \"keep-all\" if the key is missing."
   ]
  },
  {
   "cell_type": "code",
   "execution_count": 26,
   "id": "21994072",
   "metadata": {
    "execution": {
     "iopub.execute_input": "2025-08-05T16:09:10.531221Z",
     "iopub.status.busy": "2025-08-05T16:09:10.530319Z",
     "iopub.status.idle": "2025-08-05T16:09:10.537341Z",
     "shell.execute_reply": "2025-08-05T16:09:10.536433Z"
    },
    "papermill": {
     "duration": 0.028631,
     "end_time": "2025-08-05T16:09:10.539280",
     "exception": false,
     "start_time": "2025-08-05T16:09:10.510649",
     "status": "completed"
    },
    "tags": []
   },
   "outputs": [],
   "source": [
    "if mode == \"keep-all\":\n",
    "    keep_mask = pd.Series(True, index=org_train.index)\n",
    "\n",
    "# org_train contains the original feature columns from features_org (in Simson)\n",
    "# features_org contains unprocessed features, for me X_train at beginning ???\n",
    "# For keep-all, creates a boolean Series (keep_mask) of all True, so no rows are removed.\n",
    "\n",
    "elif mode == \"drop-non-german\":\n",
    "    keep_mask = org_train[\"maxdeutsch1\"] == 1 # ??? what about missing values?\n",
    "\n",
    "else:\n",
    "    raise ValueError(f\"Unsupported mode for exclude_subgroups: {mode}\")"
   ]
  },
  {
   "cell_type": "code",
   "execution_count": 27,
   "id": "71651440",
   "metadata": {
    "execution": {
     "iopub.execute_input": "2025-08-05T16:09:10.581331Z",
     "iopub.status.busy": "2025-08-05T16:09:10.580276Z",
     "iopub.status.idle": "2025-08-05T16:09:10.587518Z",
     "shell.execute_reply": "2025-08-05T16:09:10.586540Z"
    },
    "papermill": {
     "duration": 0.030064,
     "end_time": "2025-08-05T16:09:10.589607",
     "exception": false,
     "start_time": "2025-08-05T16:09:10.559543",
     "status": "completed"
    },
    "tags": []
   },
   "outputs": [],
   "source": [
    "n_drop = (~keep_mask).sum() # Calculates how many rows are set to be dropped\n",
    "if n_drop > 0:\n",
    "    pct = n_drop / len(keep_mask) * 100\n",
    "    print(f\"Dropping {n_drop} rows ({pct:.2f}%) where mode='{mode}'\")"
   ]
  },
  {
   "cell_type": "code",
   "execution_count": 28,
   "id": "5fb8eee5",
   "metadata": {
    "execution": {
     "iopub.execute_input": "2025-08-05T16:09:10.613104Z",
     "iopub.status.busy": "2025-08-05T16:09:10.612698Z",
     "iopub.status.idle": "2025-08-05T16:09:10.619306Z",
     "shell.execute_reply": "2025-08-05T16:09:10.618526Z"
    },
    "papermill": {
     "duration": 0.018267,
     "end_time": "2025-08-05T16:09:10.620752",
     "exception": false,
     "start_time": "2025-08-05T16:09:10.602485",
     "status": "completed"
    },
    "tags": []
   },
   "outputs": [],
   "source": [
    "X_train = X_train[keep_mask]"
   ]
  },
  {
   "cell_type": "code",
   "execution_count": 29,
   "id": "b202bb3a",
   "metadata": {
    "execution": {
     "iopub.execute_input": "2025-08-05T16:09:10.643814Z",
     "iopub.status.busy": "2025-08-05T16:09:10.643445Z",
     "iopub.status.idle": "2025-08-05T16:09:10.649620Z",
     "shell.execute_reply": "2025-08-05T16:09:10.648669Z"
    },
    "papermill": {
     "duration": 0.020042,
     "end_time": "2025-08-05T16:09:10.651382",
     "exception": false,
     "start_time": "2025-08-05T16:09:10.631340",
     "status": "completed"
    },
    "tags": []
   },
   "outputs": [],
   "source": [
    "y_train = y_train[keep_mask]"
   ]
  },
  {
   "cell_type": "markdown",
   "id": "493e2ac3",
   "metadata": {
    "papermill": {
     "duration": 0.020703,
     "end_time": "2025-08-05T16:09:10.695489",
     "exception": false,
     "start_time": "2025-08-05T16:09:10.674786",
     "status": "completed"
    },
    "tags": []
   },
   "source": [
    "# Model Training"
   ]
  },
  {
   "cell_type": "code",
   "execution_count": 30,
   "id": "679e1268",
   "metadata": {
    "execution": {
     "iopub.execute_input": "2025-08-05T16:09:10.738184Z",
     "iopub.status.busy": "2025-08-05T16:09:10.737260Z",
     "iopub.status.idle": "2025-08-05T16:09:10.840840Z",
     "shell.execute_reply": "2025-08-05T16:09:10.839859Z"
    },
    "papermill": {
     "duration": 0.127384,
     "end_time": "2025-08-05T16:09:10.843118",
     "exception": false,
     "start_time": "2025-08-05T16:09:10.715734",
     "status": "completed"
    },
    "tags": []
   },
   "outputs": [],
   "source": [
    "from sklearn.linear_model import LogisticRegression\n",
    "from sklearn.ensemble import GradientBoostingClassifier, RandomForestClassifier\n",
    "\n",
    "if (universe[\"model\"] == \"logreg\"):\n",
    "    model = LogisticRegression() #penalty=\"none\", solver=\"newton-cg\", max_iter=1) # include random_state=19 ?\n",
    "elif (universe[\"model\"] == \"penalized_logreg\"):\n",
    "    model = LogisticRegression(penalty=\"l2\", C=0.1) #, solver=\"newton-cg\", max_iter=1)\n",
    "elif (universe[\"model\"] == \"rf\"):\n",
    "    model = RandomForestClassifier() # n_estimators=100, n_jobs=-1\n",
    "elif (universe[\"model\"] == \"gbm\"):\n",
    "    model = GradientBoostingClassifier()\n",
    "elif (universe[\"model\"] == \"elasticnet\"):\n",
    "    model = LogisticRegression(penalty = 'elasticnet', solver = 'saga', l1_ratio = 0.5) # max_iter=5000\n",
    "else:\n",
    "    raise \"Unsupported universe.model\""
   ]
  },
  {
   "cell_type": "code",
   "execution_count": 31,
   "id": "0cc8f744",
   "metadata": {
    "execution": {
     "iopub.execute_input": "2025-08-05T16:09:10.886287Z",
     "iopub.status.busy": "2025-08-05T16:09:10.885575Z",
     "iopub.status.idle": "2025-08-05T16:09:10.892183Z",
     "shell.execute_reply": "2025-08-05T16:09:10.891115Z"
    },
    "papermill": {
     "duration": 0.029828,
     "end_time": "2025-08-05T16:09:10.894138",
     "exception": false,
     "start_time": "2025-08-05T16:09:10.864310",
     "status": "completed"
    },
    "tags": []
   },
   "outputs": [],
   "source": [
    "import numpy as np\n",
    "from sklearn.pipeline import Pipeline\n",
    "from sklearn.preprocessing import StandardScaler\n",
    "\n",
    "model = Pipeline([\n",
    "    #(\"continuous_processor\", continuous_processor),\n",
    "    #(\"categorical_preprocessor\", categorical_preprocessor),\n",
    "    (\"scale\", StandardScaler() if universe[\"scale\"] == \"scale\" else None), \n",
    "    (\"model\", model),\n",
    "])"
   ]
  },
  {
   "cell_type": "code",
   "execution_count": 32,
   "id": "9442c04d",
   "metadata": {
    "execution": {
     "iopub.execute_input": "2025-08-05T16:09:10.938154Z",
     "iopub.status.busy": "2025-08-05T16:09:10.937301Z",
     "iopub.status.idle": "2025-08-05T16:09:11.008753Z",
     "shell.execute_reply": "2025-08-05T16:09:11.007844Z"
    },
    "papermill": {
     "duration": 0.095406,
     "end_time": "2025-08-05T16:09:11.011413",
     "exception": false,
     "start_time": "2025-08-05T16:09:10.916007",
     "status": "completed"
    },
    "tags": []
   },
   "outputs": [
    {
     "name": "stderr",
     "output_type": "stream",
     "text": [
      "/dss/dsshome1/0C/ra93lal2/.local/share/virtualenvs/CMA_Fairness_v2-3j10GkSs/lib/python3.10/site-packages/sklearn/linear_model/_logistic.py:444: ConvergenceWarning: lbfgs failed to converge (status=1):\n",
      "STOP: TOTAL NO. of ITERATIONS REACHED LIMIT.\n",
      "\n",
      "Increase the number of iterations (max_iter) or scale the data as shown in:\n",
      "    https://scikit-learn.org/stable/modules/preprocessing.html\n",
      "Please also refer to the documentation for alternative solver options:\n",
      "    https://scikit-learn.org/stable/modules/linear_model.html#logistic-regression\n",
      "  n_iter_i = _check_optimize_result(\n"
     ]
    },
    {
     "data": {
      "text/html": [
       "<style>#sk-container-id-1 {color: black;background-color: white;}#sk-container-id-1 pre{padding: 0;}#sk-container-id-1 div.sk-toggleable {background-color: white;}#sk-container-id-1 label.sk-toggleable__label {cursor: pointer;display: block;width: 100%;margin-bottom: 0;padding: 0.3em;box-sizing: border-box;text-align: center;}#sk-container-id-1 label.sk-toggleable__label-arrow:before {content: \"▸\";float: left;margin-right: 0.25em;color: #696969;}#sk-container-id-1 label.sk-toggleable__label-arrow:hover:before {color: black;}#sk-container-id-1 div.sk-estimator:hover label.sk-toggleable__label-arrow:before {color: black;}#sk-container-id-1 div.sk-toggleable__content {max-height: 0;max-width: 0;overflow: hidden;text-align: left;background-color: #f0f8ff;}#sk-container-id-1 div.sk-toggleable__content pre {margin: 0.2em;color: black;border-radius: 0.25em;background-color: #f0f8ff;}#sk-container-id-1 input.sk-toggleable__control:checked~div.sk-toggleable__content {max-height: 200px;max-width: 100%;overflow: auto;}#sk-container-id-1 input.sk-toggleable__control:checked~label.sk-toggleable__label-arrow:before {content: \"▾\";}#sk-container-id-1 div.sk-estimator input.sk-toggleable__control:checked~label.sk-toggleable__label {background-color: #d4ebff;}#sk-container-id-1 div.sk-label input.sk-toggleable__control:checked~label.sk-toggleable__label {background-color: #d4ebff;}#sk-container-id-1 input.sk-hidden--visually {border: 0;clip: rect(1px 1px 1px 1px);clip: rect(1px, 1px, 1px, 1px);height: 1px;margin: -1px;overflow: hidden;padding: 0;position: absolute;width: 1px;}#sk-container-id-1 div.sk-estimator {font-family: monospace;background-color: #f0f8ff;border: 1px dotted black;border-radius: 0.25em;box-sizing: border-box;margin-bottom: 0.5em;}#sk-container-id-1 div.sk-estimator:hover {background-color: #d4ebff;}#sk-container-id-1 div.sk-parallel-item::after {content: \"\";width: 100%;border-bottom: 1px solid gray;flex-grow: 1;}#sk-container-id-1 div.sk-label:hover label.sk-toggleable__label {background-color: #d4ebff;}#sk-container-id-1 div.sk-serial::before {content: \"\";position: absolute;border-left: 1px solid gray;box-sizing: border-box;top: 0;bottom: 0;left: 50%;z-index: 0;}#sk-container-id-1 div.sk-serial {display: flex;flex-direction: column;align-items: center;background-color: white;padding-right: 0.2em;padding-left: 0.2em;position: relative;}#sk-container-id-1 div.sk-item {position: relative;z-index: 1;}#sk-container-id-1 div.sk-parallel {display: flex;align-items: stretch;justify-content: center;background-color: white;position: relative;}#sk-container-id-1 div.sk-item::before, #sk-container-id-1 div.sk-parallel-item::before {content: \"\";position: absolute;border-left: 1px solid gray;box-sizing: border-box;top: 0;bottom: 0;left: 50%;z-index: -1;}#sk-container-id-1 div.sk-parallel-item {display: flex;flex-direction: column;z-index: 1;position: relative;background-color: white;}#sk-container-id-1 div.sk-parallel-item:first-child::after {align-self: flex-end;width: 50%;}#sk-container-id-1 div.sk-parallel-item:last-child::after {align-self: flex-start;width: 50%;}#sk-container-id-1 div.sk-parallel-item:only-child::after {width: 0;}#sk-container-id-1 div.sk-dashed-wrapped {border: 1px dashed gray;margin: 0 0.4em 0.5em 0.4em;box-sizing: border-box;padding-bottom: 0.4em;background-color: white;}#sk-container-id-1 div.sk-label label {font-family: monospace;font-weight: bold;display: inline-block;line-height: 1.2em;}#sk-container-id-1 div.sk-label-container {text-align: center;}#sk-container-id-1 div.sk-container {/* jupyter's `normalize.less` sets `[hidden] { display: none; }` but bootstrap.min.css set `[hidden] { display: none !important; }` so we also need the `!important` here to be able to override the default hidden behavior on the sphinx rendered scikit-learn.org. See: https://github.com/scikit-learn/scikit-learn/issues/21755 */display: inline-block !important;position: relative;}#sk-container-id-1 div.sk-text-repr-fallback {display: none;}</style><div id=\"sk-container-id-1\" class=\"sk-top-container\"><div class=\"sk-text-repr-fallback\"><pre>Pipeline(steps=[(&#x27;scale&#x27;, None), (&#x27;model&#x27;, LogisticRegression())])</pre><b>In a Jupyter environment, please rerun this cell to show the HTML representation or trust the notebook. <br />On GitHub, the HTML representation is unable to render, please try loading this page with nbviewer.org.</b></div><div class=\"sk-container\" hidden><div class=\"sk-item sk-dashed-wrapped\"><div class=\"sk-label-container\"><div class=\"sk-label sk-toggleable\"><input class=\"sk-toggleable__control sk-hidden--visually\" id=\"sk-estimator-id-1\" type=\"checkbox\" ><label for=\"sk-estimator-id-1\" class=\"sk-toggleable__label sk-toggleable__label-arrow\">Pipeline</label><div class=\"sk-toggleable__content\"><pre>Pipeline(steps=[(&#x27;scale&#x27;, None), (&#x27;model&#x27;, LogisticRegression())])</pre></div></div></div><div class=\"sk-serial\"><div class=\"sk-item\"><div class=\"sk-estimator sk-toggleable\"><input class=\"sk-toggleable__control sk-hidden--visually\" id=\"sk-estimator-id-2\" type=\"checkbox\" ><label for=\"sk-estimator-id-2\" class=\"sk-toggleable__label sk-toggleable__label-arrow\">None</label><div class=\"sk-toggleable__content\"><pre>None</pre></div></div></div><div class=\"sk-item\"><div class=\"sk-estimator sk-toggleable\"><input class=\"sk-toggleable__control sk-hidden--visually\" id=\"sk-estimator-id-3\" type=\"checkbox\" ><label for=\"sk-estimator-id-3\" class=\"sk-toggleable__label sk-toggleable__label-arrow\">LogisticRegression</label><div class=\"sk-toggleable__content\"><pre>LogisticRegression()</pre></div></div></div></div></div></div></div>"
      ],
      "text/plain": [
       "Pipeline(steps=[('scale', None), ('model', LogisticRegression())])"
      ]
     },
     "execution_count": 32,
     "metadata": {},
     "output_type": "execute_result"
    }
   ],
   "source": [
    "model.fit(X_train, y_train.values.ravel())"
   ]
  },
  {
   "cell_type": "code",
   "execution_count": 33,
   "id": "af59f8c0",
   "metadata": {
    "execution": {
     "iopub.execute_input": "2025-08-05T16:09:11.051939Z",
     "iopub.status.busy": "2025-08-05T16:09:11.051135Z",
     "iopub.status.idle": "2025-08-05T16:09:11.056588Z",
     "shell.execute_reply": "2025-08-05T16:09:11.055511Z"
    },
    "papermill": {
     "duration": 0.027889,
     "end_time": "2025-08-05T16:09:11.058614",
     "exception": false,
     "start_time": "2025-08-05T16:09:11.030725",
     "status": "completed"
    },
    "tags": []
   },
   "outputs": [],
   "source": [
    "from fairness_multiverse.universe import predict_w_threshold"
   ]
  },
  {
   "cell_type": "code",
   "execution_count": 34,
   "id": "a7cf2e16",
   "metadata": {
    "execution": {
     "iopub.execute_input": "2025-08-05T16:09:11.103842Z",
     "iopub.status.busy": "2025-08-05T16:09:11.102960Z",
     "iopub.status.idle": "2025-08-05T16:09:11.204028Z",
     "shell.execute_reply": "2025-08-05T16:09:11.203113Z"
    },
    "papermill": {
     "duration": 0.124933,
     "end_time": "2025-08-05T16:09:11.205824",
     "exception": false,
     "start_time": "2025-08-05T16:09:11.080891",
     "status": "completed"
    },
    "tags": []
   },
   "outputs": [
    {
     "data": {
      "text/plain": [
       "0.8492475755211236"
      ]
     },
     "execution_count": 34,
     "metadata": {},
     "output_type": "execute_result"
    }
   ],
   "source": [
    "probs_test = model.predict_proba(X_test)\n",
    "\n",
    "'''\n",
    "Below code returns a boolean array (or binary 0/1 array depending on how it’s used) where each element \n",
    "is True if the probability of class 1 is greater than or equal to the threshold, and False otherwise.\n",
    "'''\n",
    "y_pred_default = predict_w_threshold(probs_test, 0.5)\n",
    "\n",
    "from sklearn.metrics import accuracy_score\n",
    "\n",
    "# Naive prediction\n",
    "accuracy_score(y_true = y_true, y_pred = y_pred_default)"
   ]
  },
  {
   "cell_type": "code",
   "execution_count": 35,
   "id": "081964c3",
   "metadata": {
    "execution": {
     "iopub.execute_input": "2025-08-05T16:09:11.251388Z",
     "iopub.status.busy": "2025-08-05T16:09:11.250605Z",
     "iopub.status.idle": "2025-08-05T16:09:11.337040Z",
     "shell.execute_reply": "2025-08-05T16:09:11.336041Z"
    },
    "papermill": {
     "duration": 0.111009,
     "end_time": "2025-08-05T16:09:11.339032",
     "exception": false,
     "start_time": "2025-08-05T16:09:11.228023",
     "status": "completed"
    },
    "tags": []
   },
   "outputs": [
    {
     "data": {
      "text/plain": [
       "array([0, 0, 0, ..., 0, 0, 0])"
      ]
     },
     "execution_count": 35,
     "metadata": {},
     "output_type": "execute_result"
    }
   ],
   "source": [
    "model.predict(X_test)"
   ]
  },
  {
   "cell_type": "markdown",
   "id": "56c9705b",
   "metadata": {
    "papermill": {
     "duration": 0.021266,
     "end_time": "2025-08-05T16:09:11.382716",
     "exception": false,
     "start_time": "2025-08-05T16:09:11.361450",
     "status": "completed"
    },
    "tags": []
   },
   "source": [
    "# Conformal Prediction"
   ]
  },
  {
   "cell_type": "code",
   "execution_count": 36,
   "id": "160ec6ff",
   "metadata": {
    "execution": {
     "iopub.execute_input": "2025-08-05T16:09:11.427552Z",
     "iopub.status.busy": "2025-08-05T16:09:11.426607Z",
     "iopub.status.idle": "2025-08-05T16:09:11.432136Z",
     "shell.execute_reply": "2025-08-05T16:09:11.431173Z"
    },
    "papermill": {
     "duration": 0.029778,
     "end_time": "2025-08-05T16:09:11.433847",
     "exception": false,
     "start_time": "2025-08-05T16:09:11.404069",
     "status": "completed"
    },
    "tags": []
   },
   "outputs": [],
   "source": [
    "# Miscoverage level for conformal prediction (10% allowed error rate => 90% target coverage)\n",
    "alpha = 0.1"
   ]
  },
  {
   "cell_type": "code",
   "execution_count": 37,
   "id": "eadf4555-3dd3-440e-8e35-f82a4ad9f855",
   "metadata": {
    "execution": {
     "iopub.execute_input": "2025-08-05T16:09:11.480132Z",
     "iopub.status.busy": "2025-08-05T16:09:11.479289Z",
     "iopub.status.idle": "2025-08-05T16:09:11.563155Z",
     "shell.execute_reply": "2025-08-05T16:09:11.562159Z"
    },
    "papermill": {
     "duration": 0.108434,
     "end_time": "2025-08-05T16:09:11.565204",
     "exception": false,
     "start_time": "2025-08-05T16:09:11.456770",
     "status": "completed"
    },
    "tags": []
   },
   "outputs": [],
   "source": [
    "probs_calib = model.predict_proba(X_calib)"
   ]
  },
  {
   "cell_type": "code",
   "execution_count": 38,
   "id": "2ed93547-6d5d-4983-9b36-1ecb300da49a",
   "metadata": {
    "execution": {
     "iopub.execute_input": "2025-08-05T16:09:11.610843Z",
     "iopub.status.busy": "2025-08-05T16:09:11.609961Z",
     "iopub.status.idle": "2025-08-05T16:09:11.615643Z",
     "shell.execute_reply": "2025-08-05T16:09:11.614723Z"
    },
    "papermill": {
     "duration": 0.029681,
     "end_time": "2025-08-05T16:09:11.617252",
     "exception": false,
     "start_time": "2025-08-05T16:09:11.587571",
     "status": "completed"
    },
    "tags": []
   },
   "outputs": [],
   "source": [
    "y_calib = y_calib.values.ravel().astype(int)"
   ]
  },
  {
   "cell_type": "code",
   "execution_count": 39,
   "id": "65d1320d-f588-4b38-9072-62af1ae97f7d",
   "metadata": {
    "execution": {
     "iopub.execute_input": "2025-08-05T16:09:11.660535Z",
     "iopub.status.busy": "2025-08-05T16:09:11.659568Z",
     "iopub.status.idle": "2025-08-05T16:09:11.667005Z",
     "shell.execute_reply": "2025-08-05T16:09:11.665961Z"
    },
    "papermill": {
     "duration": 0.030125,
     "end_time": "2025-08-05T16:09:11.668785",
     "exception": false,
     "start_time": "2025-08-05T16:09:11.638660",
     "status": "completed"
    },
    "tags": []
   },
   "outputs": [],
   "source": [
    "from fairness_multiverse.conformal import compute_nc_scores\n",
    "\n",
    "# Compute nonconformity scores on calibration set (1 - probability of true class)\n",
    "nc_scores = compute_nc_scores(probs_calib, y_calib)"
   ]
  },
  {
   "cell_type": "code",
   "execution_count": 40,
   "id": "df3b8ca3-53b7-43d5-9667-7c85da7aeda2",
   "metadata": {
    "execution": {
     "iopub.execute_input": "2025-08-05T16:09:11.710867Z",
     "iopub.status.busy": "2025-08-05T16:09:11.710188Z",
     "iopub.status.idle": "2025-08-05T16:09:11.717953Z",
     "shell.execute_reply": "2025-08-05T16:09:11.716813Z"
    },
    "papermill": {
     "duration": 0.03095,
     "end_time": "2025-08-05T16:09:11.719999",
     "exception": false,
     "start_time": "2025-08-05T16:09:11.689049",
     "status": "completed"
    },
    "tags": []
   },
   "outputs": [],
   "source": [
    "from fairness_multiverse.conformal import find_threshold\n",
    "\n",
    "# Find conformal threshold q_hat for the given alpha (split conformal method)\n",
    "q_hat = find_threshold(nc_scores, alpha)"
   ]
  },
  {
   "cell_type": "code",
   "execution_count": 41,
   "id": "4d29e6c1-0ef6-4aa4-b8fe-4fe79b0d033a",
   "metadata": {
    "execution": {
     "iopub.execute_input": "2025-08-05T16:09:11.766173Z",
     "iopub.status.busy": "2025-08-05T16:09:11.765600Z",
     "iopub.status.idle": "2025-08-05T16:09:11.773602Z",
     "shell.execute_reply": "2025-08-05T16:09:11.772511Z"
    },
    "papermill": {
     "duration": 0.0327,
     "end_time": "2025-08-05T16:09:11.775534",
     "exception": false,
     "start_time": "2025-08-05T16:09:11.742834",
     "status": "completed"
    },
    "tags": []
   },
   "outputs": [
    {
     "data": {
      "text/plain": [
       "0.6897516705343434"
      ]
     },
     "execution_count": 41,
     "metadata": {},
     "output_type": "execute_result"
    }
   ],
   "source": [
    "q_hat"
   ]
  },
  {
   "cell_type": "code",
   "execution_count": 42,
   "id": "92460794-cdac-4be2-ba28-f28c0515a6fb",
   "metadata": {
    "execution": {
     "iopub.execute_input": "2025-08-05T16:09:11.822074Z",
     "iopub.status.busy": "2025-08-05T16:09:11.821393Z",
     "iopub.status.idle": "2025-08-05T16:09:12.636683Z",
     "shell.execute_reply": "2025-08-05T16:09:12.635692Z"
    },
    "papermill": {
     "duration": 0.840022,
     "end_time": "2025-08-05T16:09:12.638588",
     "exception": false,
     "start_time": "2025-08-05T16:09:11.798566",
     "status": "completed"
    },
    "tags": []
   },
   "outputs": [],
   "source": [
    "from fairness_multiverse.conformal import predict_conformal_sets\n",
    "\n",
    "# Generate prediction sets for each test example\n",
    "pred_sets = predict_conformal_sets(model, X_test, q_hat)"
   ]
  },
  {
   "cell_type": "code",
   "execution_count": 43,
   "id": "d90c9a65-e6db-4f5d-80cd-e68fb7e46829",
   "metadata": {
    "execution": {
     "iopub.execute_input": "2025-08-05T16:09:12.679625Z",
     "iopub.status.busy": "2025-08-05T16:09:12.678702Z",
     "iopub.status.idle": "2025-08-05T16:09:12.684459Z",
     "shell.execute_reply": "2025-08-05T16:09:12.683594Z"
    },
    "papermill": {
     "duration": 0.027629,
     "end_time": "2025-08-05T16:09:12.686170",
     "exception": false,
     "start_time": "2025-08-05T16:09:12.658541",
     "status": "completed"
    },
    "tags": []
   },
   "outputs": [],
   "source": [
    "y_true = y_true.squeeze()"
   ]
  },
  {
   "cell_type": "code",
   "execution_count": 44,
   "id": "3a58a54a-1e68-46b9-927a-df01f18aebc8",
   "metadata": {
    "execution": {
     "iopub.execute_input": "2025-08-05T16:09:12.728478Z",
     "iopub.status.busy": "2025-08-05T16:09:12.727623Z",
     "iopub.status.idle": "2025-08-05T16:09:13.620422Z",
     "shell.execute_reply": "2025-08-05T16:09:13.619449Z"
    },
    "papermill": {
     "duration": 0.914935,
     "end_time": "2025-08-05T16:09:13.622296",
     "exception": false,
     "start_time": "2025-08-05T16:09:12.707361",
     "status": "completed"
    },
    "tags": []
   },
   "outputs": [],
   "source": [
    "from fairness_multiverse.conformal import evaluate_sets\n",
    "\n",
    "# Evaluate coverage and average set size on test data\n",
    "metrics = evaluate_sets(pred_sets, y_true)"
   ]
  },
  {
   "cell_type": "markdown",
   "id": "2b569c12-9aaa-4c88-98c9-bbcd0cf3ebb8",
   "metadata": {
    "papermill": {
     "duration": 0.021279,
     "end_time": "2025-08-05T16:09:13.665374",
     "exception": false,
     "start_time": "2025-08-05T16:09:13.644095",
     "status": "completed"
    },
    "tags": []
   },
   "source": [
    "# CP Metrics"
   ]
  },
  {
   "cell_type": "code",
   "execution_count": 45,
   "id": "5ce0a5cb-201f-45a0-ade5-94c7f0bd6095",
   "metadata": {
    "execution": {
     "iopub.execute_input": "2025-08-05T16:09:13.710172Z",
     "iopub.status.busy": "2025-08-05T16:09:13.709198Z",
     "iopub.status.idle": "2025-08-05T16:09:13.716722Z",
     "shell.execute_reply": "2025-08-05T16:09:13.715674Z"
    },
    "papermill": {
     "duration": 0.03233,
     "end_time": "2025-08-05T16:09:13.719016",
     "exception": false,
     "start_time": "2025-08-05T16:09:13.686686",
     "status": "completed"
    },
    "tags": []
   },
   "outputs": [
    {
     "data": {
      "text/plain": [
       "{'coverage': 0.9095975922416676, 'avg_size': 1.2224947051610746}"
      ]
     },
     "execution_count": 45,
     "metadata": {},
     "output_type": "execute_result"
    }
   ],
   "source": [
    "metrics"
   ]
  },
  {
   "cell_type": "code",
   "execution_count": 46,
   "id": "9b9a838d-31c9-430b-ae14-12baee460d17",
   "metadata": {
    "execution": {
     "iopub.execute_input": "2025-08-05T16:09:13.747283Z",
     "iopub.status.busy": "2025-08-05T16:09:13.746468Z",
     "iopub.status.idle": "2025-08-05T16:09:13.751738Z",
     "shell.execute_reply": "2025-08-05T16:09:13.751059Z"
    },
    "papermill": {
     "duration": 0.018814,
     "end_time": "2025-08-05T16:09:13.753137",
     "exception": false,
     "start_time": "2025-08-05T16:09:13.734323",
     "status": "completed"
    },
    "tags": []
   },
   "outputs": [],
   "source": [
    "example_universe = universe.copy()\n",
    "universe_training_year = example_universe.get(\"training_year\")\n",
    "universe_training_size = example_universe.get(\"training_size\")\n",
    "universe_scale = example_universe.get(\"scale\")\n",
    "universe_model = example_universe.get(\"model\")\n",
    "universe_exclude_features = example_universe.get(\"exclude_features\")\n",
    "universe_exclude_subgroups = example_universe.get(\"exclude_subgroups\")"
   ]
  },
  {
   "cell_type": "code",
   "execution_count": 47,
   "id": "f4b6a8ac-9dc0-4245-8a91-5b3b5999c4f9",
   "metadata": {
    "execution": {
     "iopub.execute_input": "2025-08-05T16:09:13.778330Z",
     "iopub.status.busy": "2025-08-05T16:09:13.777801Z",
     "iopub.status.idle": "2025-08-05T16:09:13.783232Z",
     "shell.execute_reply": "2025-08-05T16:09:13.782538Z"
    },
    "papermill": {
     "duration": 0.018885,
     "end_time": "2025-08-05T16:09:13.784601",
     "exception": false,
     "start_time": "2025-08-05T16:09:13.765716",
     "status": "completed"
    },
    "tags": []
   },
   "outputs": [],
   "source": [
    "cp_metrics_dict = {\n",
    "    \"universe_id\": [universe_id],\n",
    "    \"universe_training_year\": [universe_training_year],\n",
    "    \"universe_training_size\": [universe_training_size],\n",
    "    \"universe_scale\": [universe_scale],\n",
    "    \"universe_model\": [universe_model],\n",
    "    \"universe_exclude_features\": [universe_exclude_features],\n",
    "    \"universe_exclude_subgroups\": [universe_exclude_subgroups],\n",
    "    \"q_hat\": [q_hat],\n",
    "    \"coverage\": [metrics[\"coverage\"]],\n",
    "    \"avg_size\": [metrics[\"avg_size\"]],\n",
    "}"
   ]
  },
  {
   "cell_type": "code",
   "execution_count": 48,
   "id": "908acbb1-0371-4915-85ca-3fa520d2efe2",
   "metadata": {
    "execution": {
     "iopub.execute_input": "2025-08-05T16:09:13.808876Z",
     "iopub.status.busy": "2025-08-05T16:09:13.808201Z",
     "iopub.status.idle": "2025-08-05T16:09:13.814527Z",
     "shell.execute_reply": "2025-08-05T16:09:13.813648Z"
    },
    "papermill": {
     "duration": 0.019116,
     "end_time": "2025-08-05T16:09:13.816069",
     "exception": false,
     "start_time": "2025-08-05T16:09:13.796953",
     "status": "completed"
    },
    "tags": []
   },
   "outputs": [
    {
     "data": {
      "text/plain": [
       "{'universe_id': ['e1a9119fd608c72be697566b91ecafe9'],\n",
       " 'universe_training_year': ['2014'],\n",
       " 'universe_training_size': ['1k'],\n",
       " 'universe_scale': ['do-not-scale'],\n",
       " 'universe_model': ['logreg'],\n",
       " 'universe_exclude_features': ['sex'],\n",
       " 'universe_exclude_subgroups': ['keep-all'],\n",
       " 'q_hat': [0.6897516705343434],\n",
       " 'coverage': [0.9095975922416676],\n",
       " 'avg_size': [1.2224947051610746]}"
      ]
     },
     "execution_count": 48,
     "metadata": {},
     "output_type": "execute_result"
    }
   ],
   "source": [
    "cp_metrics_dict"
   ]
  },
  {
   "cell_type": "code",
   "execution_count": 49,
   "id": "33007efc-14e9-4ec6-97ac-56a455c82265",
   "metadata": {
    "execution": {
     "iopub.execute_input": "2025-08-05T16:09:13.850827Z",
     "iopub.status.busy": "2025-08-05T16:09:13.850015Z",
     "iopub.status.idle": "2025-08-05T16:09:13.855577Z",
     "shell.execute_reply": "2025-08-05T16:09:13.854886Z"
    },
    "papermill": {
     "duration": 0.027147,
     "end_time": "2025-08-05T16:09:13.857016",
     "exception": false,
     "start_time": "2025-08-05T16:09:13.829869",
     "status": "completed"
    },
    "tags": []
   },
   "outputs": [],
   "source": [
    "cp_metrics_df = pd.DataFrame(cp_metrics_dict)"
   ]
  },
  {
   "cell_type": "code",
   "execution_count": 50,
   "id": "db12611b-57b2-4910-b9d0-355adfd6e7bf",
   "metadata": {
    "execution": {
     "iopub.execute_input": "2025-08-05T16:09:13.882154Z",
     "iopub.status.busy": "2025-08-05T16:09:13.881634Z",
     "iopub.status.idle": "2025-08-05T16:09:13.897670Z",
     "shell.execute_reply": "2025-08-05T16:09:13.895874Z"
    },
    "papermill": {
     "duration": 0.030027,
     "end_time": "2025-08-05T16:09:13.899703",
     "exception": false,
     "start_time": "2025-08-05T16:09:13.869676",
     "status": "completed"
    },
    "tags": []
   },
   "outputs": [
    {
     "data": {
      "text/html": [
       "<div>\n",
       "<style scoped>\n",
       "    .dataframe tbody tr th:only-of-type {\n",
       "        vertical-align: middle;\n",
       "    }\n",
       "\n",
       "    .dataframe tbody tr th {\n",
       "        vertical-align: top;\n",
       "    }\n",
       "\n",
       "    .dataframe thead th {\n",
       "        text-align: right;\n",
       "    }\n",
       "</style>\n",
       "<table border=\"1\" class=\"dataframe\">\n",
       "  <thead>\n",
       "    <tr style=\"text-align: right;\">\n",
       "      <th></th>\n",
       "      <th>universe_id</th>\n",
       "      <th>universe_training_year</th>\n",
       "      <th>universe_training_size</th>\n",
       "      <th>universe_scale</th>\n",
       "      <th>universe_model</th>\n",
       "      <th>universe_exclude_features</th>\n",
       "      <th>universe_exclude_subgroups</th>\n",
       "      <th>q_hat</th>\n",
       "      <th>coverage</th>\n",
       "      <th>avg_size</th>\n",
       "    </tr>\n",
       "  </thead>\n",
       "  <tbody>\n",
       "    <tr>\n",
       "      <th>0</th>\n",
       "      <td>e1a9119fd608c72be697566b91ecafe9</td>\n",
       "      <td>2014</td>\n",
       "      <td>1k</td>\n",
       "      <td>do-not-scale</td>\n",
       "      <td>logreg</td>\n",
       "      <td>sex</td>\n",
       "      <td>keep-all</td>\n",
       "      <td>0.689752</td>\n",
       "      <td>0.909598</td>\n",
       "      <td>1.222495</td>\n",
       "    </tr>\n",
       "  </tbody>\n",
       "</table>\n",
       "</div>"
      ],
      "text/plain": [
       "                        universe_id universe_training_year  \\\n",
       "0  e1a9119fd608c72be697566b91ecafe9                   2014   \n",
       "\n",
       "  universe_training_size universe_scale universe_model  \\\n",
       "0                     1k   do-not-scale         logreg   \n",
       "\n",
       "  universe_exclude_features universe_exclude_subgroups     q_hat  coverage  \\\n",
       "0                       sex                   keep-all  0.689752  0.909598   \n",
       "\n",
       "   avg_size  \n",
       "0  1.222495  "
      ]
     },
     "execution_count": 50,
     "metadata": {},
     "output_type": "execute_result"
    }
   ],
   "source": [
    "cp_metrics_df"
   ]
  },
  {
   "cell_type": "code",
   "execution_count": 51,
   "id": "b7fbde55-a0a1-47e4-9af6-fe4a17fa8c61",
   "metadata": {
    "execution": {
     "iopub.execute_input": "2025-08-05T16:09:13.945483Z",
     "iopub.status.busy": "2025-08-05T16:09:13.945031Z",
     "iopub.status.idle": "2025-08-05T16:09:13.950376Z",
     "shell.execute_reply": "2025-08-05T16:09:13.949412Z"
    },
    "papermill": {
     "duration": 0.029363,
     "end_time": "2025-08-05T16:09:13.951820",
     "exception": false,
     "start_time": "2025-08-05T16:09:13.922457",
     "status": "completed"
    },
    "tags": []
   },
   "outputs": [],
   "source": [
    "# Conditional Coverage & looking at subgroups"
   ]
  },
  {
   "cell_type": "code",
   "execution_count": 52,
   "id": "027ae886-68dd-4141-96c7-805a5450e1ef",
   "metadata": {
    "execution": {
     "iopub.execute_input": "2025-08-05T16:09:13.977358Z",
     "iopub.status.busy": "2025-08-05T16:09:13.977013Z",
     "iopub.status.idle": "2025-08-05T16:09:14.171353Z",
     "shell.execute_reply": "2025-08-05T16:09:14.170304Z"
    },
    "papermill": {
     "duration": 0.208159,
     "end_time": "2025-08-05T16:09:14.173319",
     "exception": false,
     "start_time": "2025-08-05T16:09:13.965160",
     "status": "completed"
    },
    "tags": []
   },
   "outputs": [],
   "source": [
    "from fairness_multiverse.conformal import build_cp_groups\n",
    "\n",
    "cp_groups_df = build_cp_groups(pred_sets, y_true, X_test.index, org_test)\n",
    "#needs universe_id and setting"
   ]
  },
  {
   "cell_type": "code",
   "execution_count": 53,
   "id": "6cbdab96-b2b2-45af-ad54-d0516db2e28d",
   "metadata": {
    "execution": {
     "iopub.execute_input": "2025-08-05T16:09:14.201865Z",
     "iopub.status.busy": "2025-08-05T16:09:14.201191Z",
     "iopub.status.idle": "2025-08-05T16:09:15.469977Z",
     "shell.execute_reply": "2025-08-05T16:09:15.469178Z"
    },
    "papermill": {
     "duration": 1.283177,
     "end_time": "2025-08-05T16:09:15.471859",
     "exception": false,
     "start_time": "2025-08-05T16:09:14.188682",
     "status": "completed"
    },
    "tags": []
   },
   "outputs": [],
   "source": [
    "# Define covered = 1 if true_label is in the predicted set\n",
    "cp_groups_df['covered'] = cp_groups_df.apply(\n",
    "    lambda r: int(r['true_label'] in r['pred_set']),\n",
    "    axis=1\n",
    ")"
   ]
  },
  {
   "cell_type": "code",
   "execution_count": 54,
   "id": "338ff529-1a6b-4b87-a931-8e4788d52aad",
   "metadata": {
    "execution": {
     "iopub.execute_input": "2025-08-05T16:09:15.523653Z",
     "iopub.status.busy": "2025-08-05T16:09:15.523005Z",
     "iopub.status.idle": "2025-08-05T16:09:15.529823Z",
     "shell.execute_reply": "2025-08-05T16:09:15.528416Z"
    },
    "papermill": {
     "duration": 0.034977,
     "end_time": "2025-08-05T16:09:15.532151",
     "exception": false,
     "start_time": "2025-08-05T16:09:15.497174",
     "status": "completed"
    },
    "tags": []
   },
   "outputs": [],
   "source": [
    "#cp_groups_df"
   ]
  },
  {
   "cell_type": "code",
   "execution_count": 55,
   "id": "90032e27-66df-4540-9169-4e89cfbaa758",
   "metadata": {
    "execution": {
     "iopub.execute_input": "2025-08-05T16:09:15.587015Z",
     "iopub.status.busy": "2025-08-05T16:09:15.585650Z",
     "iopub.status.idle": "2025-08-05T16:09:15.602059Z",
     "shell.execute_reply": "2025-08-05T16:09:15.600673Z"
    },
    "papermill": {
     "duration": 0.044494,
     "end_time": "2025-08-05T16:09:15.604210",
     "exception": false,
     "start_time": "2025-08-05T16:09:15.559716",
     "status": "completed"
    },
    "tags": []
   },
   "outputs": [],
   "source": [
    "subgroups = ['frau1','nongerman','nongerman_male','nongerman_female']\n",
    "\n",
    "# Conditional coverage for subgroup==1\n",
    "cond_coverage = {\n",
    "    g: cp_groups_df.loc[cp_groups_df[g]==1, 'covered'].mean()\n",
    "    for g in subgroups\n",
    "}"
   ]
  },
  {
   "cell_type": "code",
   "execution_count": 56,
   "id": "1e348fb1-b9c3-45bc-ba23-f016827a7e0d",
   "metadata": {
    "execution": {
     "iopub.execute_input": "2025-08-05T16:09:15.656781Z",
     "iopub.status.busy": "2025-08-05T16:09:15.656293Z",
     "iopub.status.idle": "2025-08-05T16:09:15.664130Z",
     "shell.execute_reply": "2025-08-05T16:09:15.662878Z"
    },
    "papermill": {
     "duration": 0.035771,
     "end_time": "2025-08-05T16:09:15.666349",
     "exception": false,
     "start_time": "2025-08-05T16:09:15.630578",
     "status": "completed"
    },
    "tags": []
   },
   "outputs": [
    {
     "data": {
      "text/plain": [
       "{'frau1': 0.9075077503706699,\n",
       " 'nongerman': 0.9299388087351934,\n",
       " 'nongerman_male': 0.9434387102584887,\n",
       " 'nongerman_female': 0.9076005961251863}"
      ]
     },
     "execution_count": 56,
     "metadata": {},
     "output_type": "execute_result"
    }
   ],
   "source": [
    "cond_coverage"
   ]
  },
  {
   "cell_type": "code",
   "execution_count": 57,
   "id": "f5093324-c3dd-4d63-bc4c-8d945e5c8bbb",
   "metadata": {
    "execution": {
     "iopub.execute_input": "2025-08-05T16:09:15.694271Z",
     "iopub.status.busy": "2025-08-05T16:09:15.693932Z",
     "iopub.status.idle": "2025-08-05T16:09:15.699577Z",
     "shell.execute_reply": "2025-08-05T16:09:15.698889Z"
    },
    "papermill": {
     "duration": 0.019745,
     "end_time": "2025-08-05T16:09:15.700955",
     "exception": false,
     "start_time": "2025-08-05T16:09:15.681210",
     "status": "completed"
    },
    "tags": []
   },
   "outputs": [],
   "source": [
    "for subgroup, cov in cond_coverage.items():\n",
    "    cp_metrics_df[f\"cov_{subgroup}\"] = cov"
   ]
  },
  {
   "cell_type": "code",
   "execution_count": 58,
   "id": "6e872e10-dbe5-49e8-b554-5030c98ff75d",
   "metadata": {
    "execution": {
     "iopub.execute_input": "2025-08-05T16:09:15.730271Z",
     "iopub.status.busy": "2025-08-05T16:09:15.729871Z",
     "iopub.status.idle": "2025-08-05T16:09:15.744253Z",
     "shell.execute_reply": "2025-08-05T16:09:15.743462Z"
    },
    "papermill": {
     "duration": 0.031802,
     "end_time": "2025-08-05T16:09:15.745717",
     "exception": false,
     "start_time": "2025-08-05T16:09:15.713915",
     "status": "completed"
    },
    "tags": []
   },
   "outputs": [
    {
     "data": {
      "text/html": [
       "<div>\n",
       "<style scoped>\n",
       "    .dataframe tbody tr th:only-of-type {\n",
       "        vertical-align: middle;\n",
       "    }\n",
       "\n",
       "    .dataframe tbody tr th {\n",
       "        vertical-align: top;\n",
       "    }\n",
       "\n",
       "    .dataframe thead th {\n",
       "        text-align: right;\n",
       "    }\n",
       "</style>\n",
       "<table border=\"1\" class=\"dataframe\">\n",
       "  <thead>\n",
       "    <tr style=\"text-align: right;\">\n",
       "      <th></th>\n",
       "      <th>universe_id</th>\n",
       "      <th>universe_training_year</th>\n",
       "      <th>universe_training_size</th>\n",
       "      <th>universe_scale</th>\n",
       "      <th>universe_model</th>\n",
       "      <th>universe_exclude_features</th>\n",
       "      <th>universe_exclude_subgroups</th>\n",
       "      <th>q_hat</th>\n",
       "      <th>coverage</th>\n",
       "      <th>avg_size</th>\n",
       "      <th>cov_frau1</th>\n",
       "      <th>cov_nongerman</th>\n",
       "      <th>cov_nongerman_male</th>\n",
       "      <th>cov_nongerman_female</th>\n",
       "    </tr>\n",
       "  </thead>\n",
       "  <tbody>\n",
       "    <tr>\n",
       "      <th>0</th>\n",
       "      <td>e1a9119fd608c72be697566b91ecafe9</td>\n",
       "      <td>2014</td>\n",
       "      <td>1k</td>\n",
       "      <td>do-not-scale</td>\n",
       "      <td>logreg</td>\n",
       "      <td>sex</td>\n",
       "      <td>keep-all</td>\n",
       "      <td>0.689752</td>\n",
       "      <td>0.909598</td>\n",
       "      <td>1.222495</td>\n",
       "      <td>0.907508</td>\n",
       "      <td>0.929939</td>\n",
       "      <td>0.943439</td>\n",
       "      <td>0.907601</td>\n",
       "    </tr>\n",
       "  </tbody>\n",
       "</table>\n",
       "</div>"
      ],
      "text/plain": [
       "                        universe_id universe_training_year  \\\n",
       "0  e1a9119fd608c72be697566b91ecafe9                   2014   \n",
       "\n",
       "  universe_training_size universe_scale universe_model  \\\n",
       "0                     1k   do-not-scale         logreg   \n",
       "\n",
       "  universe_exclude_features universe_exclude_subgroups     q_hat  coverage  \\\n",
       "0                       sex                   keep-all  0.689752  0.909598   \n",
       "\n",
       "   avg_size  cov_frau1  cov_nongerman  cov_nongerman_male  \\\n",
       "0  1.222495   0.907508       0.929939            0.943439   \n",
       "\n",
       "   cov_nongerman_female  \n",
       "0              0.907601  "
      ]
     },
     "execution_count": 58,
     "metadata": {},
     "output_type": "execute_result"
    }
   ],
   "source": [
    "cp_metrics_df"
   ]
  },
  {
   "cell_type": "markdown",
   "id": "33774451",
   "metadata": {
    "papermill": {
     "duration": 0.011364,
     "end_time": "2025-08-05T16:09:15.769891",
     "exception": false,
     "start_time": "2025-08-05T16:09:15.758527",
     "status": "completed"
    },
    "tags": []
   },
   "source": [
    "# (Fairness) Metrics"
   ]
  },
  {
   "cell_type": "code",
   "execution_count": 59,
   "id": "debc5d62",
   "metadata": {
    "execution": {
     "iopub.execute_input": "2025-08-05T16:09:15.799156Z",
     "iopub.status.busy": "2025-08-05T16:09:15.798661Z",
     "iopub.status.idle": "2025-08-05T16:09:15.820055Z",
     "shell.execute_reply": "2025-08-05T16:09:15.819040Z"
    },
    "papermill": {
     "duration": 0.036094,
     "end_time": "2025-08-05T16:09:15.822166",
     "exception": false,
     "start_time": "2025-08-05T16:09:15.786072",
     "status": "completed"
    },
    "tags": []
   },
   "outputs": [],
   "source": [
    "# do I need to include maxdeutsch1.missing?\n",
    "\n",
    "import numpy as np\n",
    "\n",
    "colname_to_bin = \"maxdeutsch1\"\n",
    "majority_value = org_train[colname_to_bin].mode()[0]\n",
    "\n",
    "org_test[\"majmin\"] = np.where(org_test[colname_to_bin] == majority_value, \"majority\", \"minority\")"
   ]
  },
  {
   "cell_type": "code",
   "execution_count": 60,
   "id": "06a50de5",
   "metadata": {
    "execution": {
     "iopub.execute_input": "2025-08-05T16:09:15.875644Z",
     "iopub.status.busy": "2025-08-05T16:09:15.874266Z",
     "iopub.status.idle": "2025-08-05T16:09:18.132258Z",
     "shell.execute_reply": "2025-08-05T16:09:18.131516Z"
    },
    "papermill": {
     "duration": 2.28517,
     "end_time": "2025-08-05T16:09:18.133659",
     "exception": false,
     "start_time": "2025-08-05T16:09:15.848489",
     "status": "completed"
    },
    "tags": []
   },
   "outputs": [],
   "source": [
    "example_universe = universe.copy()\n",
    "example_universe[\"cutoff\"] = example_universe[\"cutoff\"][0]\n",
    "example_universe[\"eval_fairness_grouping\"] = example_universe[\"eval_fairness_grouping\"][0]\n",
    "fairness_dict, metric_frame = universe_analysis.compute_metrics(\n",
    "    example_universe,\n",
    "    y_pred_prob=probs_test,\n",
    "    y_test=y_true,\n",
    "    org_test=org_test,\n",
    ")"
   ]
  },
  {
   "cell_type": "markdown",
   "id": "f95d4e02",
   "metadata": {
    "papermill": {
     "duration": 0.011113,
     "end_time": "2025-08-05T16:09:18.156767",
     "exception": false,
     "start_time": "2025-08-05T16:09:18.145654",
     "status": "completed"
    },
    "tags": []
   },
   "source": [
    "# Overall"
   ]
  },
  {
   "cell_type": "markdown",
   "id": "bdee4871",
   "metadata": {
    "papermill": {
     "duration": 0.012504,
     "end_time": "2025-08-05T16:09:18.185606",
     "exception": false,
     "start_time": "2025-08-05T16:09:18.173102",
     "status": "completed"
    },
    "tags": []
   },
   "source": [
    "Fairness\n",
    "Main fairness target: Equalized Odds. Seems to be a better fit than equal opportunity, since we're not only interested in Y = 1. Seems to be a better fit than demographic parity, since we also care about accuracy, not just equal distribution of preds.\n",
    "\n",
    "Pick column for computation of fairness metrics\n",
    "\n",
    "Performance\n",
    "Overall performance measures, most interesting in relation to the measures split by group below"
   ]
  },
  {
   "cell_type": "code",
   "execution_count": 61,
   "id": "c4e067c6",
   "metadata": {
    "execution": {
     "iopub.execute_input": "2025-08-05T16:09:18.209411Z",
     "iopub.status.busy": "2025-08-05T16:09:18.209028Z",
     "iopub.status.idle": "2025-08-05T16:09:18.216303Z",
     "shell.execute_reply": "2025-08-05T16:09:18.215487Z"
    },
    "papermill": {
     "duration": 0.021038,
     "end_time": "2025-08-05T16:09:18.217861",
     "exception": false,
     "start_time": "2025-08-05T16:09:18.196823",
     "status": "completed"
    },
    "tags": []
   },
   "outputs": [
    {
     "data": {
      "text/plain": [
       "accuracy                   0.218136\n",
       "balanced accuracy          0.534680\n",
       "f1                         0.239639\n",
       "precision                  0.136898\n",
       "false positive rate        0.891103\n",
       "false negative rate        0.039538\n",
       "selection rate             0.900000\n",
       "count                  89710.000000\n",
       "dtype: float64"
      ]
     },
     "execution_count": 61,
     "metadata": {},
     "output_type": "execute_result"
    }
   ],
   "source": [
    "metric_frame.overall"
   ]
  },
  {
   "cell_type": "markdown",
   "id": "e968fe9d",
   "metadata": {
    "papermill": {
     "duration": 0.016851,
     "end_time": "2025-08-05T16:09:18.247358",
     "exception": false,
     "start_time": "2025-08-05T16:09:18.230507",
     "status": "completed"
    },
    "tags": []
   },
   "source": [
    "By Group"
   ]
  },
  {
   "cell_type": "code",
   "execution_count": 62,
   "id": "ec325bce",
   "metadata": {
    "execution": {
     "iopub.execute_input": "2025-08-05T16:09:18.272706Z",
     "iopub.status.busy": "2025-08-05T16:09:18.272359Z",
     "iopub.status.idle": "2025-08-05T16:09:18.284422Z",
     "shell.execute_reply": "2025-08-05T16:09:18.283600Z"
    },
    "papermill": {
     "duration": 0.026275,
     "end_time": "2025-08-05T16:09:18.285990",
     "exception": false,
     "start_time": "2025-08-05T16:09:18.259715",
     "status": "completed"
    },
    "tags": []
   },
   "outputs": [
    {
     "data": {
      "text/html": [
       "<div>\n",
       "<style scoped>\n",
       "    .dataframe tbody tr th:only-of-type {\n",
       "        vertical-align: middle;\n",
       "    }\n",
       "\n",
       "    .dataframe tbody tr th {\n",
       "        vertical-align: top;\n",
       "    }\n",
       "\n",
       "    .dataframe thead th {\n",
       "        text-align: right;\n",
       "    }\n",
       "</style>\n",
       "<table border=\"1\" class=\"dataframe\">\n",
       "  <thead>\n",
       "    <tr style=\"text-align: right;\">\n",
       "      <th></th>\n",
       "      <th>accuracy</th>\n",
       "      <th>balanced accuracy</th>\n",
       "      <th>f1</th>\n",
       "      <th>precision</th>\n",
       "      <th>false positive rate</th>\n",
       "      <th>false negative rate</th>\n",
       "      <th>selection rate</th>\n",
       "      <th>count</th>\n",
       "    </tr>\n",
       "    <tr>\n",
       "      <th>majmin</th>\n",
       "      <th></th>\n",
       "      <th></th>\n",
       "      <th></th>\n",
       "      <th></th>\n",
       "      <th></th>\n",
       "      <th></th>\n",
       "      <th></th>\n",
       "      <th></th>\n",
       "    </tr>\n",
       "  </thead>\n",
       "  <tbody>\n",
       "    <tr>\n",
       "      <th>majority</th>\n",
       "      <td>0.239468</td>\n",
       "      <td>0.543007</td>\n",
       "      <td>0.249279</td>\n",
       "      <td>0.143335</td>\n",
       "      <td>0.869565</td>\n",
       "      <td>0.044420</td>\n",
       "      <td>0.880931</td>\n",
       "      <td>69170.0</td>\n",
       "    </tr>\n",
       "    <tr>\n",
       "      <th>minority</th>\n",
       "      <td>0.146300</td>\n",
       "      <td>0.508529</td>\n",
       "      <td>0.209173</td>\n",
       "      <td>0.117092</td>\n",
       "      <td>0.962250</td>\n",
       "      <td>0.020693</td>\n",
       "      <td>0.964216</td>\n",
       "      <td>20540.0</td>\n",
       "    </tr>\n",
       "  </tbody>\n",
       "</table>\n",
       "</div>"
      ],
      "text/plain": [
       "          accuracy  balanced accuracy        f1  precision  \\\n",
       "majmin                                                       \n",
       "majority  0.239468           0.543007  0.249279   0.143335   \n",
       "minority  0.146300           0.508529  0.209173   0.117092   \n",
       "\n",
       "          false positive rate  false negative rate  selection rate    count  \n",
       "majmin                                                                       \n",
       "majority             0.869565             0.044420        0.880931  69170.0  \n",
       "minority             0.962250             0.020693        0.964216  20540.0  "
      ]
     },
     "execution_count": 62,
     "metadata": {},
     "output_type": "execute_result"
    }
   ],
   "source": [
    "metric_frame.by_group"
   ]
  },
  {
   "cell_type": "code",
   "execution_count": 63,
   "id": "a9ddbe63",
   "metadata": {
    "execution": {
     "iopub.execute_input": "2025-08-05T16:09:18.315253Z",
     "iopub.status.busy": "2025-08-05T16:09:18.313937Z",
     "iopub.status.idle": "2025-08-05T16:09:20.759149Z",
     "shell.execute_reply": "2025-08-05T16:09:20.758208Z"
    },
    "papermill": {
     "duration": 2.462215,
     "end_time": "2025-08-05T16:09:20.760932",
     "exception": false,
     "start_time": "2025-08-05T16:09:18.298717",
     "status": "completed"
    },
    "tags": []
   },
   "outputs": [
    {
     "data": {
      "text/plain": [
       "array([[<Axes: title={'center': 'accuracy'}, xlabel='majmin'>,\n",
       "        <Axes: title={'center': 'balanced accuracy'}, xlabel='majmin'>,\n",
       "        <Axes: title={'center': 'f1'}, xlabel='majmin'>],\n",
       "       [<Axes: title={'center': 'precision'}, xlabel='majmin'>,\n",
       "        <Axes: title={'center': 'false positive rate'}, xlabel='majmin'>,\n",
       "        <Axes: title={'center': 'false negative rate'}, xlabel='majmin'>],\n",
       "       [<Axes: title={'center': 'selection rate'}, xlabel='majmin'>,\n",
       "        <Axes: title={'center': 'count'}, xlabel='majmin'>,\n",
       "        <Axes: xlabel='majmin'>]], dtype=object)"
      ]
     },
     "execution_count": 63,
     "metadata": {},
     "output_type": "execute_result"
    },
    {
     "data": {
      "image/png": "[encoded data removed]",
      "text/plain": [
       "<Figure size 1200x800 with 9 Axes>"
      ]
     },
     "metadata": {},
     "output_type": "display_data"
    }
   ],
   "source": [
    "# In a graphic\n",
    "metric_frame.by_group.plot.bar(\n",
    "    subplots=True,\n",
    "    layout=[3, 3],\n",
    "    legend=False,\n",
    "    figsize=[12, 8],\n",
    "    title=\"Show all metrics\",\n",
    ")"
   ]
  },
  {
   "cell_type": "markdown",
   "id": "f57a0bac",
   "metadata": {
    "papermill": {
     "duration": 0.026837,
     "end_time": "2025-08-05T16:09:20.817184",
     "exception": false,
     "start_time": "2025-08-05T16:09:20.790347",
     "status": "completed"
    },
    "tags": []
   },
   "source": [
    "# Final Output"
   ]
  },
  {
   "cell_type": "code",
   "execution_count": 64,
   "id": "96d280a3",
   "metadata": {
    "execution": {
     "iopub.execute_input": "2025-08-05T16:09:20.873358Z",
     "iopub.status.busy": "2025-08-05T16:09:20.872772Z",
     "iopub.status.idle": "2025-08-05T16:09:20.880640Z",
     "shell.execute_reply": "2025-08-05T16:09:20.879633Z"
    },
    "papermill": {
     "duration": 0.038453,
     "end_time": "2025-08-05T16:09:20.882569",
     "exception": false,
     "start_time": "2025-08-05T16:09:20.844116",
     "status": "completed"
    },
    "tags": []
   },
   "outputs": [
    {
     "data": {
      "text/plain": [
       "4"
      ]
     },
     "execution_count": 64,
     "metadata": {},
     "output_type": "execute_result"
    }
   ],
   "source": [
    "sub_universes = universe_analysis.generate_sub_universes()\n",
    "len(sub_universes)"
   ]
  },
  {
   "cell_type": "code",
   "execution_count": 65,
   "id": "92adf7ba",
   "metadata": {
    "execution": {
     "iopub.execute_input": "2025-08-05T16:09:20.938944Z",
     "iopub.status.busy": "2025-08-05T16:09:20.938615Z",
     "iopub.status.idle": "2025-08-05T16:09:20.943947Z",
     "shell.execute_reply": "2025-08-05T16:09:20.942866Z"
    },
    "papermill": {
     "duration": 0.035414,
     "end_time": "2025-08-05T16:09:20.945985",
     "exception": false,
     "start_time": "2025-08-05T16:09:20.910571",
     "status": "completed"
    },
    "tags": []
   },
   "outputs": [],
   "source": [
    "def filter_sub_universe_data(sub_universe, org_test):\n",
    "    # Keep all rows — no filtering\n",
    "    keep_rows_mask = np.ones(org_test.shape[0], dtype=bool)\n",
    "\n",
    "    print(f\"[INFO] Keeping all rows: {keep_rows_mask.sum()} rows retained.\")\n",
    "    return keep_rows_mask"
   ]
  },
  {
   "cell_type": "code",
   "execution_count": 66,
   "id": "4a759155",
   "metadata": {
    "execution": {
     "iopub.execute_input": "2025-08-05T16:09:21.003219Z",
     "iopub.status.busy": "2025-08-05T16:09:21.002443Z",
     "iopub.status.idle": "2025-08-05T16:09:30.512389Z",
     "shell.execute_reply": "2025-08-05T16:09:30.511409Z"
    },
    "papermill": {
     "duration": 9.540032,
     "end_time": "2025-08-05T16:09:30.514113",
     "exception": false,
     "start_time": "2025-08-05T16:09:20.974081",
     "status": "completed"
    },
    "tags": []
   },
   "outputs": [
    {
     "name": "stdout",
     "output_type": "stream",
     "text": [
      "Stopping execution_time clock.\n",
      "[INFO] Keeping all rows: 89710 rows retained.\n"
     ]
    },
    {
     "name": "stdout",
     "output_type": "stream",
     "text": [
      "[INFO] Keeping all rows: 89710 rows retained.\n"
     ]
    },
    {
     "name": "stdout",
     "output_type": "stream",
     "text": [
      "[INFO] Keeping all rows: 89710 rows retained.\n"
     ]
    },
    {
     "name": "stdout",
     "output_type": "stream",
     "text": [
      "[INFO] Keeping all rows: 89710 rows retained.\n"
     ]
    },
    {
     "data": {
      "text/html": [
       "<div>\n",
       "<style scoped>\n",
       "    .dataframe tbody tr th:only-of-type {\n",
       "        vertical-align: middle;\n",
       "    }\n",
       "\n",
       "    .dataframe tbody tr th {\n",
       "        vertical-align: top;\n",
       "    }\n",
       "\n",
       "    .dataframe thead th {\n",
       "        text-align: right;\n",
       "    }\n",
       "</style>\n",
       "<table border=\"1\" class=\"dataframe\">\n",
       "  <thead>\n",
       "    <tr style=\"text-align: right;\">\n",
       "      <th></th>\n",
       "      <th>run_no</th>\n",
       "      <th>universe_id</th>\n",
       "      <th>universe_settings</th>\n",
       "      <th>execution_time</th>\n",
       "      <th>test_size_n</th>\n",
       "      <th>test_size_frac</th>\n",
       "      <th>fair_main_equalized_odds_difference</th>\n",
       "      <th>fair_main_equalized_odds_ratio</th>\n",
       "      <th>fair_main_demographic_parity_difference</th>\n",
       "      <th>fair_main_demographic_parity_ratio</th>\n",
       "      <th>...</th>\n",
       "      <th>perf_grp_precision_0</th>\n",
       "      <th>perf_grp_precision_1</th>\n",
       "      <th>perf_grp_false positive rate_0</th>\n",
       "      <th>perf_grp_false positive rate_1</th>\n",
       "      <th>perf_grp_false negative rate_0</th>\n",
       "      <th>perf_grp_false negative rate_1</th>\n",
       "      <th>perf_grp_selection rate_0</th>\n",
       "      <th>perf_grp_selection rate_1</th>\n",
       "      <th>perf_grp_count_0</th>\n",
       "      <th>perf_grp_count_1</th>\n",
       "    </tr>\n",
       "  </thead>\n",
       "  <tbody>\n",
       "    <tr>\n",
       "      <th>0</th>\n",
       "      <td>15</td>\n",
       "      <td>e1a9119fd608c72be697566b91ecafe9</td>\n",
       "      <td>{\"cutoff\": \"quantile_0.1\", \"eval_fairness_grou...</td>\n",
       "      <td>23.686455</td>\n",
       "      <td>89710</td>\n",
       "      <td>1.0</td>\n",
       "      <td>0.092684</td>\n",
       "      <td>0.903679</td>\n",
       "      <td>0.083285</td>\n",
       "      <td>0.913624</td>\n",
       "      <td>...</td>\n",
       "      <td>NaN</td>\n",
       "      <td>NaN</td>\n",
       "      <td>NaN</td>\n",
       "      <td>NaN</td>\n",
       "      <td>NaN</td>\n",
       "      <td>NaN</td>\n",
       "      <td>NaN</td>\n",
       "      <td>NaN</td>\n",
       "      <td>NaN</td>\n",
       "      <td>NaN</td>\n",
       "    </tr>\n",
       "    <tr>\n",
       "      <th>0</th>\n",
       "      <td>15</td>\n",
       "      <td>e1a9119fd608c72be697566b91ecafe9</td>\n",
       "      <td>{\"cutoff\": \"quantile_0.1\", \"eval_fairness_grou...</td>\n",
       "      <td>23.686455</td>\n",
       "      <td>89710</td>\n",
       "      <td>1.0</td>\n",
       "      <td>0.092684</td>\n",
       "      <td>0.903679</td>\n",
       "      <td>0.083285</td>\n",
       "      <td>0.913624</td>\n",
       "      <td>...</td>\n",
       "      <td>0.117092</td>\n",
       "      <td>0.143335</td>\n",
       "      <td>0.962250</td>\n",
       "      <td>0.869565</td>\n",
       "      <td>0.020693</td>\n",
       "      <td>0.044420</td>\n",
       "      <td>0.964216</td>\n",
       "      <td>0.880931</td>\n",
       "      <td>20540.0</td>\n",
       "      <td>69170.0</td>\n",
       "    </tr>\n",
       "    <tr>\n",
       "      <th>0</th>\n",
       "      <td>15</td>\n",
       "      <td>e1a9119fd608c72be697566b91ecafe9</td>\n",
       "      <td>{\"cutoff\": \"quantile_0.25\", \"eval_fairness_gro...</td>\n",
       "      <td>23.686455</td>\n",
       "      <td>89710</td>\n",
       "      <td>1.0</td>\n",
       "      <td>0.206436</td>\n",
       "      <td>0.768234</td>\n",
       "      <td>0.188677</td>\n",
       "      <td>0.789298</td>\n",
       "      <td>...</td>\n",
       "      <td>NaN</td>\n",
       "      <td>NaN</td>\n",
       "      <td>NaN</td>\n",
       "      <td>NaN</td>\n",
       "      <td>NaN</td>\n",
       "      <td>NaN</td>\n",
       "      <td>NaN</td>\n",
       "      <td>NaN</td>\n",
       "      <td>NaN</td>\n",
       "      <td>NaN</td>\n",
       "    </tr>\n",
       "    <tr>\n",
       "      <th>0</th>\n",
       "      <td>15</td>\n",
       "      <td>e1a9119fd608c72be697566b91ecafe9</td>\n",
       "      <td>{\"cutoff\": \"quantile_0.25\", \"eval_fairness_gro...</td>\n",
       "      <td>23.686455</td>\n",
       "      <td>89710</td>\n",
       "      <td>1.0</td>\n",
       "      <td>0.206436</td>\n",
       "      <td>0.768234</td>\n",
       "      <td>0.188677</td>\n",
       "      <td>0.789298</td>\n",
       "      <td>...</td>\n",
       "      <td>0.119991</td>\n",
       "      <td>0.159791</td>\n",
       "      <td>0.890711</td>\n",
       "      <td>0.684275</td>\n",
       "      <td>0.067990</td>\n",
       "      <td>0.145295</td>\n",
       "      <td>0.895472</td>\n",
       "      <td>0.706795</td>\n",
       "      <td>20540.0</td>\n",
       "      <td>69170.0</td>\n",
       "    </tr>\n",
       "  </tbody>\n",
       "</table>\n",
       "<p>4 rows × 50 columns</p>\n",
       "</div>"
      ],
      "text/plain": [
       "  run_no                       universe_id  \\\n",
       "0     15  e1a9119fd608c72be697566b91ecafe9   \n",
       "0     15  e1a9119fd608c72be697566b91ecafe9   \n",
       "0     15  e1a9119fd608c72be697566b91ecafe9   \n",
       "0     15  e1a9119fd608c72be697566b91ecafe9   \n",
       "\n",
       "                                   universe_settings  execution_time  \\\n",
       "0  {\"cutoff\": \"quantile_0.1\", \"eval_fairness_grou...       23.686455   \n",
       "0  {\"cutoff\": \"quantile_0.1\", \"eval_fairness_grou...       23.686455   \n",
       "0  {\"cutoff\": \"quantile_0.25\", \"eval_fairness_gro...       23.686455   \n",
       "0  {\"cutoff\": \"quantile_0.25\", \"eval_fairness_gro...       23.686455   \n",
       "\n",
       "   test_size_n  test_size_frac  fair_main_equalized_odds_difference  \\\n",
       "0        89710             1.0                             0.092684   \n",
       "0        89710             1.0                             0.092684   \n",
       "0        89710             1.0                             0.206436   \n",
       "0        89710             1.0                             0.206436   \n",
       "\n",
       "   fair_main_equalized_odds_ratio  fair_main_demographic_parity_difference  \\\n",
       "0                        0.903679                                 0.083285   \n",
       "0                        0.903679                                 0.083285   \n",
       "0                        0.768234                                 0.188677   \n",
       "0                        0.768234                                 0.188677   \n",
       "\n",
       "   fair_main_demographic_parity_ratio  ...  perf_grp_precision_0  \\\n",
       "0                            0.913624  ...                   NaN   \n",
       "0                            0.913624  ...              0.117092   \n",
       "0                            0.789298  ...                   NaN   \n",
       "0                            0.789298  ...              0.119991   \n",
       "\n",
       "   perf_grp_precision_1  perf_grp_false positive rate_0  \\\n",
       "0                   NaN                             NaN   \n",
       "0              0.143335                        0.962250   \n",
       "0                   NaN                             NaN   \n",
       "0              0.159791                        0.890711   \n",
       "\n",
       "   perf_grp_false positive rate_1  perf_grp_false negative rate_0  \\\n",
       "0                             NaN                             NaN   \n",
       "0                        0.869565                        0.020693   \n",
       "0                             NaN                             NaN   \n",
       "0                        0.684275                        0.067990   \n",
       "\n",
       "   perf_grp_false negative rate_1  perf_grp_selection rate_0  \\\n",
       "0                             NaN                        NaN   \n",
       "0                        0.044420                   0.964216   \n",
       "0                             NaN                        NaN   \n",
       "0                        0.145295                   0.895472   \n",
       "\n",
       "   perf_grp_selection rate_1  perf_grp_count_0  perf_grp_count_1  \n",
       "0                        NaN               NaN               NaN  \n",
       "0                   0.880931           20540.0           69170.0  \n",
       "0                        NaN               NaN               NaN  \n",
       "0                   0.706795           20540.0           69170.0  \n",
       "\n",
       "[4 rows x 50 columns]"
      ]
     },
     "execution_count": 66,
     "metadata": {},
     "output_type": "execute_result"
    }
   ],
   "source": [
    "final_output = universe_analysis.generate_final_output(\n",
    "    y_pred_prob=probs_test,\n",
    "    y_test=y_true,\n",
    "    org_test=org_test,\n",
    "    filter_data=filter_sub_universe_data,\n",
    "    cp_metrics_df=cp_metrics_df,\n",
    "    save=True,\n",
    ")\n",
    "final_output"
   ]
  }
 ],
 "metadata": {
  "celltoolbar": "Tags",
  "kernelspec": {
   "display_name": "Python (CMA Fairness)",
   "language": "python",
   "name": "cma_fair_env"
  },
  "language_info": {
   "codemirror_mode": {
    "name": "ipython",
    "version": 3
   },
   "file_extension": ".py",
   "mimetype": "text/x-python",
   "name": "python",
   "nbconvert_exporter": "python",
   "pygments_lexer": "ipython3",
   "version": "3.10.12"
  },
  "papermill": {
   "default_parameters": {},
   "duration": 37.209556,
   "end_time": "2025-08-05T16:09:31.261053",
   "environment_variables": {},
   "exception": null,
   "input_path": "universe_analysis.ipynb",
   "output_path": "output/runs/15/notebooks/m_15-e1a9119fd608c72be697566b91ecafe9.ipynb",
   "parameters": {
    "output_dir": "output",
    "run_no": "15",
    "seed": "2023",
    "universe": "{\"cutoff\": [\"quantile_0.1\", \"quantile_0.25\"], \"eval_fairness_grouping\": [\"majority-minority\", \"nationality-all\"], \"exclude_features\": \"sex\", \"exclude_subgroups\": \"keep-all\", \"model\": \"logreg\", \"scale\": \"do-not-scale\", \"training_size\": \"1k\", \"training_year\": \"2014\"}",
    "universe_id": "e1a9119fd608c72be697566b91ecafe9"
   },
   "start_time": "2025-08-05T16:08:54.051497",
   "version": "2.6.0"
  }
 },
 "nbformat": 4,
 "nbformat_minor": 5
}