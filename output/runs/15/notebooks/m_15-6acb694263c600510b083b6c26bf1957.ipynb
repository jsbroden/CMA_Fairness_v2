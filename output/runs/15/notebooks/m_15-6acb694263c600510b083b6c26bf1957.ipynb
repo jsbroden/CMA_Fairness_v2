{
 "cells": [
  {
   "cell_type": "code",
   "execution_count": 1,
   "id": "f159f837-637b-42ba-96b5-ec9a68c44524",
   "metadata": {
    "execution": {
     "iopub.execute_input": "2025-08-05T16:22:49.323542Z",
     "iopub.status.busy": "2025-08-05T16:22:49.322577Z",
     "iopub.status.idle": "2025-08-05T16:22:49.339915Z",
     "shell.execute_reply": "2025-08-05T16:22:49.338721Z"
    },
    "papermill": {
     "duration": 0.04336,
     "end_time": "2025-08-05T16:22:49.342013",
     "exception": false,
     "start_time": "2025-08-05T16:22:49.298653",
     "status": "completed"
    },
    "tags": []
   },
   "outputs": [
    {
     "name": "stdout",
     "output_type": "stream",
     "text": [
      "/dss/dsshome1/0C/ra93lal2/cma/CMA_Fairness_v2\n"
     ]
    },
    {
     "name": "stderr",
     "output_type": "stream",
     "text": [
      "/dss/dsshome1/0C/ra93lal2/.local/share/virtualenvs/CMA_Fairness_v2-3j10GkSs/lib/python3.10/site-packages/IPython/core/magics/osm.py:393: UserWarning: This is now an optional IPython functionality, using bookmarks requires you to install the `pickleshare` library.\n",
      "  bkms = self.shell.db.get('bookmarks', {})\n",
      "/dss/dsshome1/0C/ra93lal2/.local/share/virtualenvs/CMA_Fairness_v2-3j10GkSs/lib/python3.10/site-packages/IPython/core/magics/osm.py:417: UserWarning: This is now an optional IPython functionality, setting dhist requires you to install the `pickleshare` library.\n",
      "  self.shell.db['dhist'] = compress_dhist(dhist)[-100:]\n"
     ]
    }
   ],
   "source": [
    "%cd ~/cma/CMA_Fairness_v2"
   ]
  },
  {
   "cell_type": "markdown",
   "id": "de2603b9",
   "metadata": {
    "papermill": {
     "duration": 0.021409,
     "end_time": "2025-08-05T16:22:49.386652",
     "exception": false,
     "start_time": "2025-08-05T16:22:49.365243",
     "status": "completed"
    },
    "tags": []
   },
   "source": [
    "The following cell holds the definition of our parameters, these values can be overriden by rendering the with e.g. the following command:\n",
    "\n",
    "papermill -p alpha 0.2 -p ratio 0.3 universe_analysis.ipynb output/test_run.ipynb"
   ]
  },
  {
   "cell_type": "code",
   "execution_count": 2,
   "id": "a80968a0-40bb-4fa9-85ef-2d5eefb01975",
   "metadata": {
    "execution": {
     "iopub.execute_input": "2025-08-05T16:22:49.434090Z",
     "iopub.status.busy": "2025-08-05T16:22:49.433428Z",
     "iopub.status.idle": "2025-08-05T16:22:49.439979Z",
     "shell.execute_reply": "2025-08-05T16:22:49.438900Z"
    },
    "papermill": {
     "duration": 0.032352,
     "end_time": "2025-08-05T16:22:49.441667",
     "exception": false,
     "start_time": "2025-08-05T16:22:49.409315",
     "status": "completed"
    },
    "tags": []
   },
   "outputs": [
    {
     "name": "stdout",
     "output_type": "stream",
     "text": [
      "Current working directory: /dss/dsshome1/0C/ra93lal2/cma/CMA_Fairness_v2\n"
     ]
    }
   ],
   "source": [
    "import os\n",
    "print(\"Current working directory:\", os.getcwd())"
   ]
  },
  {
   "cell_type": "code",
   "execution_count": 3,
   "id": "2dce4c03",
   "metadata": {
    "execution": {
     "iopub.execute_input": "2025-08-05T16:22:49.488597Z",
     "iopub.status.busy": "2025-08-05T16:22:49.487641Z",
     "iopub.status.idle": "2025-08-05T16:22:49.495445Z",
     "shell.execute_reply": "2025-08-05T16:22:49.494293Z"
    },
    "papermill": {
     "duration": 0.033853,
     "end_time": "2025-08-05T16:22:49.497465",
     "exception": false,
     "start_time": "2025-08-05T16:22:49.463612",
     "status": "completed"
    },
    "tags": [
     "parameters"
    ]
   },
   "outputs": [],
   "source": [
    "run_no = 0\n",
    "universe_id = \"test\"\n",
    "universe = {\n",
    "    \"training_size\": \"25k\", # \"25k\", \"5k\", \"1k\"\n",
    "    \"training_year\": \"2014\", # \"2014\", \"2012_14\", \"2010_14\"\n",
    "    \"scale\": \"scale\", # \"scale\", \"do-not-scale\",\n",
    "    \"model\": \"elasticnet\", # \"logreg\", \"penalized_logreg\", \"rf\", \"gbm\", \"elasticnet\"\n",
    "    \"cutoff\": [\"quantile_0.15\", \"quantile_0.30\"],\n",
    "    \"exclude_features\": \"age\", # \"none\", \"nationality\", \"sex\", \"nationality-sex\", \"age\"\n",
    "    \"exclude_subgroups\": \"keep-all\", # \"keep-all\", \"drop-non-german\"\n",
    "    \"eval_fairness_grouping\": [\"majority-minority\", \"nationality-all\"]\n",
    "}\n",
    "\n",
    "output_dir=\"./output\"\n",
    "seed=0"
   ]
  },
  {
   "cell_type": "code",
   "execution_count": 4,
   "id": "063ea02b",
   "metadata": {
    "execution": {
     "iopub.execute_input": "2025-08-05T16:22:49.545154Z",
     "iopub.status.busy": "2025-08-05T16:22:49.544185Z",
     "iopub.status.idle": "2025-08-05T16:22:49.550968Z",
     "shell.execute_reply": "2025-08-05T16:22:49.549817Z"
    },
    "papermill": {
     "duration": 0.031781,
     "end_time": "2025-08-05T16:22:49.552899",
     "exception": false,
     "start_time": "2025-08-05T16:22:49.521118",
     "status": "completed"
    },
    "tags": [
     "injected-parameters"
    ]
   },
   "outputs": [],
   "source": [
    "# Parameters\n",
    "universe_id = \"6acb694263c600510b083b6c26bf1957\"\n",
    "run_no = \"15\"\n",
    "universe = \"{\\\"cutoff\\\": [\\\"quantile_0.1\\\", \\\"quantile_0.25\\\"], \\\"eval_fairness_grouping\\\": [\\\"majority-minority\\\", \\\"nationality-all\\\"], \\\"exclude_features\\\": \\\"age\\\", \\\"exclude_subgroups\\\": \\\"drop-non-german\\\", \\\"model\\\": \\\"elasticnet\\\", \\\"scale\\\": \\\"scale\\\", \\\"training_size\\\": \\\"1k\\\", \\\"training_year\\\": \\\"2012_14\\\"}\"\n",
    "output_dir = \"output\"\n",
    "seed = \"2023\"\n"
   ]
  },
  {
   "cell_type": "code",
   "execution_count": 5,
   "id": "1650acaf",
   "metadata": {
    "execution": {
     "iopub.execute_input": "2025-08-05T16:22:49.600776Z",
     "iopub.status.busy": "2025-08-05T16:22:49.600033Z",
     "iopub.status.idle": "2025-08-05T16:22:49.605833Z",
     "shell.execute_reply": "2025-08-05T16:22:49.604699Z"
    },
    "papermill": {
     "duration": 0.031679,
     "end_time": "2025-08-05T16:22:49.607777",
     "exception": false,
     "start_time": "2025-08-05T16:22:49.576098",
     "status": "completed"
    },
    "tags": []
   },
   "outputs": [],
   "source": [
    "import json\n",
    "if isinstance(universe, str):\n",
    "    universe = json.loads(universe)"
   ]
  },
  {
   "cell_type": "code",
   "execution_count": 6,
   "id": "16620c48",
   "metadata": {
    "execution": {
     "iopub.execute_input": "2025-08-05T16:22:49.655503Z",
     "iopub.status.busy": "2025-08-05T16:22:49.654735Z",
     "iopub.status.idle": "2025-08-05T16:22:49.706551Z",
     "shell.execute_reply": "2025-08-05T16:22:49.705413Z"
    },
    "papermill": {
     "duration": 0.078909,
     "end_time": "2025-08-05T16:22:49.708997",
     "exception": false,
     "start_time": "2025-08-05T16:22:49.630088",
     "status": "completed"
    },
    "tags": []
   },
   "outputs": [],
   "source": [
    "# Auto-reload the custom package\n",
    "%load_ext autoreload\n",
    "%autoreload 1\n",
    "%aimport fairness_multiverse"
   ]
  },
  {
   "cell_type": "code",
   "execution_count": 7,
   "id": "01c5c9f3",
   "metadata": {
    "execution": {
     "iopub.execute_input": "2025-08-05T16:22:49.757058Z",
     "iopub.status.busy": "2025-08-05T16:22:49.756061Z",
     "iopub.status.idle": "2025-08-05T16:22:52.030992Z",
     "shell.execute_reply": "2025-08-05T16:22:52.029794Z"
    },
    "papermill": {
     "duration": 2.300125,
     "end_time": "2025-08-05T16:22:52.033170",
     "exception": false,
     "start_time": "2025-08-05T16:22:49.733045",
     "status": "completed"
    },
    "tags": []
   },
   "outputs": [],
   "source": [
    "from fairness_multiverse.universe import UniverseAnalysis\n",
    "\n",
    "universe_analysis = UniverseAnalysis(\n",
    "    run_no = run_no,\n",
    "    universe_id = universe_id,\n",
    "    universe = universe,\n",
    "    output_dir=output_dir,\n",
    ")"
   ]
  },
  {
   "cell_type": "code",
   "execution_count": 8,
   "id": "106241f5",
   "metadata": {
    "execution": {
     "iopub.execute_input": "2025-08-05T16:22:52.074693Z",
     "iopub.status.busy": "2025-08-05T16:22:52.074110Z",
     "iopub.status.idle": "2025-08-05T16:22:52.082028Z",
     "shell.execute_reply": "2025-08-05T16:22:52.080781Z"
    },
    "papermill": {
     "duration": 0.030386,
     "end_time": "2025-08-05T16:22:52.084008",
     "exception": false,
     "start_time": "2025-08-05T16:22:52.053622",
     "status": "completed"
    },
    "tags": []
   },
   "outputs": [
    {
     "name": "stdout",
     "output_type": "stream",
     "text": [
      "Using Seed: 2023\n"
     ]
    }
   ],
   "source": [
    "import numpy as np\n",
    "parsed_seed = int(seed)\n",
    "np.random.seed(parsed_seed)\n",
    "print(f\"Using Seed: {parsed_seed}\")"
   ]
  },
  {
   "cell_type": "markdown",
   "id": "e0ebdc57",
   "metadata": {
    "papermill": {
     "duration": 0.019077,
     "end_time": "2025-08-05T16:22:52.122643",
     "exception": false,
     "start_time": "2025-08-05T16:22:52.103566",
     "status": "completed"
    },
    "tags": []
   },
   "source": [
    "# Loading Data"
   ]
  },
  {
   "cell_type": "code",
   "execution_count": 9,
   "id": "f0496b8a",
   "metadata": {
    "execution": {
     "iopub.execute_input": "2025-08-05T16:22:52.163137Z",
     "iopub.status.busy": "2025-08-05T16:22:52.162179Z",
     "iopub.status.idle": "2025-08-05T16:23:07.031888Z",
     "shell.execute_reply": "2025-08-05T16:23:07.030491Z"
    },
    "papermill": {
     "duration": 14.891412,
     "end_time": "2025-08-05T16:23:07.033965",
     "exception": false,
     "start_time": "2025-08-05T16:22:52.142553",
     "status": "completed"
    },
    "tags": []
   },
   "outputs": [
    {
     "name": "stdout",
     "output_type": "stream",
     "text": [
      "Loading SIAB data from cache: data/siab_cached.csv.gz\n"
     ]
    },
    {
     "name": "stdout",
     "output_type": "stream",
     "text": [
      "(643690, 164)\n"
     ]
    }
   ],
   "source": [
    "from pathlib import Path\n",
    "import pandas as pd\n",
    "\n",
    "# File paths\n",
    "raw_file = Path(\"data/raw/siab.csv\")\n",
    "cache_file = Path(\"data/siab_cached.csv.gz\")\n",
    "\n",
    "# Ensure cache directory exists\n",
    "cache_file.parent.mkdir(parents=True, exist_ok=True)\n",
    "\n",
    "# Load with simple caching\n",
    "if cache_file.exists():\n",
    "    print(f\"Loading SIAB data from cache: {cache_file}\")\n",
    "    siab = pd.read_csv(cache_file, compression='gzip')\n",
    "else:\n",
    "    print(f\"Cache not found. Reading raw SIAB data: {raw_file}\")\n",
    "    siab = pd.read_csv(raw_file)\n",
    "    siab.to_csv(cache_file, index=False, compression='gzip')\n",
    "    print(f\"Cached SIAB data to: {cache_file}\")\n",
    "\n",
    "print(siab.shape)"
   ]
  },
  {
   "cell_type": "code",
   "execution_count": 10,
   "id": "db0ca512-5f53-4dba-abdb-a2888bca41ba",
   "metadata": {
    "execution": {
     "iopub.execute_input": "2025-08-05T16:23:07.079426Z",
     "iopub.status.busy": "2025-08-05T16:23:07.078679Z",
     "iopub.status.idle": "2025-08-05T16:23:07.086348Z",
     "shell.execute_reply": "2025-08-05T16:23:07.084892Z"
    },
    "papermill": {
     "duration": 0.032485,
     "end_time": "2025-08-05T16:23:07.091299",
     "exception": false,
     "start_time": "2025-08-05T16:23:07.058814",
     "status": "completed"
    },
    "tags": []
   },
   "outputs": [],
   "source": [
    "#siab"
   ]
  },
  {
   "cell_type": "markdown",
   "id": "997051c5-15bd-4b69-9786-c3001a3ce484",
   "metadata": {
    "papermill": {
     "duration": 0.021213,
     "end_time": "2025-08-05T16:23:07.133940",
     "exception": false,
     "start_time": "2025-08-05T16:23:07.112727",
     "status": "completed"
    },
    "tags": []
   },
   "source": [
    "# Splitting Data and Setting Training Data Size"
   ]
  },
  {
   "cell_type": "code",
   "execution_count": 11,
   "id": "aea9c6ef-6f46-42c8-85eb-5a62025c1508",
   "metadata": {
    "execution": {
     "iopub.execute_input": "2025-08-05T16:23:07.180545Z",
     "iopub.status.busy": "2025-08-05T16:23:07.179693Z",
     "iopub.status.idle": "2025-08-05T16:23:07.770540Z",
     "shell.execute_reply": "2025-08-05T16:23:07.769698Z"
    },
    "papermill": {
     "duration": 0.616323,
     "end_time": "2025-08-05T16:23:07.772463",
     "exception": false,
     "start_time": "2025-08-05T16:23:07.156140",
     "status": "completed"
    },
    "tags": []
   },
   "outputs": [],
   "source": [
    "from fairness_multiverse.universe import sample_by_year_size\n",
    "\n",
    "siab_train = sample_by_year_size(siab,\n",
    "                               training_year=universe[\"training_year\"],\n",
    "                               training_size=universe[\"training_size\"])"
   ]
  },
  {
   "cell_type": "code",
   "execution_count": 12,
   "id": "8d3afb32-789d-442c-8d5d-9f5aa8dd2eed",
   "metadata": {
    "execution": {
     "iopub.execute_input": "2025-08-05T16:23:07.810547Z",
     "iopub.status.busy": "2025-08-05T16:23:07.809085Z",
     "iopub.status.idle": "2025-08-05T16:23:07.815237Z",
     "shell.execute_reply": "2025-08-05T16:23:07.814050Z"
    },
    "papermill": {
     "duration": 0.02708,
     "end_time": "2025-08-05T16:23:07.817560",
     "exception": false,
     "start_time": "2025-08-05T16:23:07.790480",
     "status": "completed"
    },
    "tags": []
   },
   "outputs": [],
   "source": [
    "#siab_train.shape"
   ]
  },
  {
   "cell_type": "code",
   "execution_count": 13,
   "id": "d582db68-1a4c-47fb-84fc-08518dc1975a",
   "metadata": {
    "execution": {
     "iopub.execute_input": "2025-08-05T16:23:07.860352Z",
     "iopub.status.busy": "2025-08-05T16:23:07.859532Z",
     "iopub.status.idle": "2025-08-05T16:23:07.865217Z",
     "shell.execute_reply": "2025-08-05T16:23:07.864097Z"
    },
    "papermill": {
     "duration": 0.03146,
     "end_time": "2025-08-05T16:23:07.870074",
     "exception": false,
     "start_time": "2025-08-05T16:23:07.838614",
     "status": "completed"
    },
    "tags": []
   },
   "outputs": [],
   "source": [
    "#display(siab_train.groupby(\"year\").size())"
   ]
  },
  {
   "cell_type": "code",
   "execution_count": 14,
   "id": "a561edb4-d032-42cb-8256-22eac1111c64",
   "metadata": {
    "execution": {
     "iopub.execute_input": "2025-08-05T16:23:07.912313Z",
     "iopub.status.busy": "2025-08-05T16:23:07.911522Z",
     "iopub.status.idle": "2025-08-05T16:23:08.160827Z",
     "shell.execute_reply": "2025-08-05T16:23:08.159792Z"
    },
    "papermill": {
     "duration": 0.272805,
     "end_time": "2025-08-05T16:23:08.163253",
     "exception": false,
     "start_time": "2025-08-05T16:23:07.890448",
     "status": "completed"
    },
    "tags": []
   },
   "outputs": [],
   "source": [
    "#siab_train = siab_s[siab_s.year < 2015]\n",
    "siab_calib = siab[siab.year == 2015]\n",
    "siab_test = siab[siab.year == 2016]"
   ]
  },
  {
   "cell_type": "code",
   "execution_count": 15,
   "id": "472de16f-c3db-4916-846b-1f0de9cf1746",
   "metadata": {
    "execution": {
     "iopub.execute_input": "2025-08-05T16:23:08.205547Z",
     "iopub.status.busy": "2025-08-05T16:23:08.204606Z",
     "iopub.status.idle": "2025-08-05T16:23:08.211743Z",
     "shell.execute_reply": "2025-08-05T16:23:08.210666Z"
    },
    "papermill": {
     "duration": 0.030024,
     "end_time": "2025-08-05T16:23:08.214025",
     "exception": false,
     "start_time": "2025-08-05T16:23:08.184001",
     "status": "completed"
    },
    "tags": []
   },
   "outputs": [],
   "source": [
    "X_train = siab_train.iloc[:,4:164]\n",
    "y_train = siab_train.iloc[:, [3]]"
   ]
  },
  {
   "cell_type": "code",
   "execution_count": 16,
   "id": "828c96af-f43a-4ed6-ba47-8ac73a47d56c",
   "metadata": {
    "execution": {
     "iopub.execute_input": "2025-08-05T16:23:08.253821Z",
     "iopub.status.busy": "2025-08-05T16:23:08.253289Z",
     "iopub.status.idle": "2025-08-05T16:23:08.311956Z",
     "shell.execute_reply": "2025-08-05T16:23:08.310704Z"
    },
    "papermill": {
     "duration": 0.080093,
     "end_time": "2025-08-05T16:23:08.314148",
     "exception": false,
     "start_time": "2025-08-05T16:23:08.234055",
     "status": "completed"
    },
    "tags": []
   },
   "outputs": [],
   "source": [
    "X_calib = siab_calib.iloc[:,4:164]\n",
    "y_calib = siab_calib.iloc[:, [3]]"
   ]
  },
  {
   "cell_type": "code",
   "execution_count": 17,
   "id": "c34be9c3-6bd6-476e-acd3-845840e303be",
   "metadata": {
    "execution": {
     "iopub.execute_input": "2025-08-05T16:23:08.352524Z",
     "iopub.status.busy": "2025-08-05T16:23:08.352024Z",
     "iopub.status.idle": "2025-08-05T16:23:08.406706Z",
     "shell.execute_reply": "2025-08-05T16:23:08.405475Z"
    },
    "papermill": {
     "duration": 0.075739,
     "end_time": "2025-08-05T16:23:08.409127",
     "exception": false,
     "start_time": "2025-08-05T16:23:08.333388",
     "status": "completed"
    },
    "tags": []
   },
   "outputs": [],
   "source": [
    "X_test = siab_test.iloc[:,4:164]\n",
    "y_true = siab_test.iloc[:, [3]]"
   ]
  },
  {
   "cell_type": "code",
   "execution_count": 18,
   "id": "e6c733c5",
   "metadata": {
    "execution": {
     "iopub.execute_input": "2025-08-05T16:23:08.447827Z",
     "iopub.status.busy": "2025-08-05T16:23:08.447337Z",
     "iopub.status.idle": "2025-08-05T16:23:08.549281Z",
     "shell.execute_reply": "2025-08-05T16:23:08.548272Z"
    },
    "papermill": {
     "duration": 0.122582,
     "end_time": "2025-08-05T16:23:08.551272",
     "exception": false,
     "start_time": "2025-08-05T16:23:08.428690",
     "status": "completed"
    },
    "tags": []
   },
   "outputs": [],
   "source": [
    "# Auxiliary data needed downstream in the pipeline\n",
    "\n",
    "org_train = X_train.copy()\n",
    "org_test = X_test.copy()\n",
    "org_calib = X_calib.copy()"
   ]
  },
  {
   "cell_type": "markdown",
   "id": "0a4a1b33",
   "metadata": {
    "papermill": {
     "duration": 0.016707,
     "end_time": "2025-08-05T16:23:08.586968",
     "exception": false,
     "start_time": "2025-08-05T16:23:08.570261",
     "status": "completed"
    },
    "tags": []
   },
   "source": [
    "# Preprocessing Data"
   ]
  },
  {
   "cell_type": "code",
   "execution_count": 19,
   "id": "ca879031",
   "metadata": {
    "execution": {
     "iopub.execute_input": "2025-08-05T16:23:08.624308Z",
     "iopub.status.busy": "2025-08-05T16:23:08.623621Z",
     "iopub.status.idle": "2025-08-05T16:23:08.631061Z",
     "shell.execute_reply": "2025-08-05T16:23:08.629899Z"
    },
    "papermill": {
     "duration": 0.028342,
     "end_time": "2025-08-05T16:23:08.632747",
     "exception": false,
     "start_time": "2025-08-05T16:23:08.604405",
     "status": "completed"
    },
    "tags": []
   },
   "outputs": [],
   "source": [
    "# EXCLUDE PROTECTED FEATURES\n",
    "# ----------------------\n",
    "# \"exclude_features\": \"none\", # \"nationality\", \"sex\", \"nationality-sex\"\n",
    "\n",
    "excluded_features = universe[\"exclude_features\"].split(\"-\") # split, e.g.: \"nationality-sex\" -> [\"nationality\", \"sex\"]\n",
    "excluded_features_dictionary = {\n",
    "    \"nationality\": [\"maxdeutsch1\", \"maxdeutsch.Missing.\"],\n",
    "    \"sex\": [\"frau1\"],\n",
    "    \"age\": [\"age\"],\n",
    "}"
   ]
  },
  {
   "cell_type": "code",
   "execution_count": 20,
   "id": "b745ac60",
   "metadata": {
    "execution": {
     "iopub.execute_input": "2025-08-05T16:23:08.673684Z",
     "iopub.status.busy": "2025-08-05T16:23:08.672959Z",
     "iopub.status.idle": "2025-08-05T16:23:08.678775Z",
     "shell.execute_reply": "2025-08-05T16:23:08.677794Z"
    },
    "papermill": {
     "duration": 0.027271,
     "end_time": "2025-08-05T16:23:08.680510",
     "exception": false,
     "start_time": "2025-08-05T16:23:08.653239",
     "status": "completed"
    },
    "tags": []
   },
   "outputs": [],
   "source": [
    "# Code nice names to column names\n",
    "\n",
    "excluded_features_columns = [\n",
    "    excluded_features_dictionary[f] for f in excluded_features if len(f) > 0 and f != \"none\"\n",
    "]"
   ]
  },
  {
   "cell_type": "code",
   "execution_count": 21,
   "id": "f84f73a2",
   "metadata": {
    "execution": {
     "iopub.execute_input": "2025-08-05T16:23:08.720119Z",
     "iopub.status.busy": "2025-08-05T16:23:08.719566Z",
     "iopub.status.idle": "2025-08-05T16:23:08.725467Z",
     "shell.execute_reply": "2025-08-05T16:23:08.724508Z"
    },
    "papermill": {
     "duration": 0.027085,
     "end_time": "2025-08-05T16:23:08.727212",
     "exception": false,
     "start_time": "2025-08-05T16:23:08.700127",
     "status": "completed"
    },
    "tags": []
   },
   "outputs": [],
   "source": [
    "from utils import flatten_once\n",
    "\n",
    "excluded_features_columns = flatten_once(excluded_features_columns)"
   ]
  },
  {
   "cell_type": "code",
   "execution_count": 22,
   "id": "884dea22",
   "metadata": {
    "execution": {
     "iopub.execute_input": "2025-08-05T16:23:08.766794Z",
     "iopub.status.busy": "2025-08-05T16:23:08.766132Z",
     "iopub.status.idle": "2025-08-05T16:23:08.776170Z",
     "shell.execute_reply": "2025-08-05T16:23:08.775142Z"
    },
    "papermill": {
     "duration": 0.031555,
     "end_time": "2025-08-05T16:23:08.778140",
     "exception": false,
     "start_time": "2025-08-05T16:23:08.746585",
     "status": "completed"
    },
    "tags": []
   },
   "outputs": [
    {
     "name": "stdout",
     "output_type": "stream",
     "text": [
      "Dropping features: ['age']\n"
     ]
    }
   ],
   "source": [
    "if len(excluded_features_columns) > 0:\n",
    "    print(f\"Dropping features: {excluded_features_columns}\")\n",
    "    X_train.drop(excluded_features_columns, axis=1, inplace=True)"
   ]
  },
  {
   "cell_type": "code",
   "execution_count": 23,
   "id": "95ab8b16",
   "metadata": {
    "execution": {
     "iopub.execute_input": "2025-08-05T16:23:08.818004Z",
     "iopub.status.busy": "2025-08-05T16:23:08.817501Z",
     "iopub.status.idle": "2025-08-05T16:23:08.875186Z",
     "shell.execute_reply": "2025-08-05T16:23:08.874254Z"
    },
    "papermill": {
     "duration": 0.079682,
     "end_time": "2025-08-05T16:23:08.877081",
     "exception": false,
     "start_time": "2025-08-05T16:23:08.797399",
     "status": "completed"
    },
    "tags": []
   },
   "outputs": [
    {
     "name": "stdout",
     "output_type": "stream",
     "text": [
      "Dropping features: ['age']\n"
     ]
    }
   ],
   "source": [
    "if len(excluded_features_columns) > 0:\n",
    "    print(f\"Dropping features: {excluded_features_columns}\")\n",
    "    X_test.drop(excluded_features_columns, axis=1, inplace=True)"
   ]
  },
  {
   "cell_type": "code",
   "execution_count": 24,
   "id": "1853aaf5-fb9f-46cb-a2b5-8ea4ae2237e4",
   "metadata": {
    "execution": {
     "iopub.execute_input": "2025-08-05T16:23:08.915891Z",
     "iopub.status.busy": "2025-08-05T16:23:08.914328Z",
     "iopub.status.idle": "2025-08-05T16:23:08.969057Z",
     "shell.execute_reply": "2025-08-05T16:23:08.967814Z"
    },
    "papermill": {
     "duration": 0.075707,
     "end_time": "2025-08-05T16:23:08.971086",
     "exception": false,
     "start_time": "2025-08-05T16:23:08.895379",
     "status": "completed"
    },
    "tags": []
   },
   "outputs": [
    {
     "name": "stdout",
     "output_type": "stream",
     "text": [
      "Dropping features: ['age']\n"
     ]
    }
   ],
   "source": [
    "if len(excluded_features_columns) > 0:\n",
    "    print(f\"Dropping features: {excluded_features_columns}\")\n",
    "    X_calib.drop(excluded_features_columns, axis=1, inplace=True)"
   ]
  },
  {
   "cell_type": "code",
   "execution_count": 25,
   "id": "76c4dc6d",
   "metadata": {
    "execution": {
     "iopub.execute_input": "2025-08-05T16:23:09.013207Z",
     "iopub.status.busy": "2025-08-05T16:23:09.012724Z",
     "iopub.status.idle": "2025-08-05T16:23:09.019054Z",
     "shell.execute_reply": "2025-08-05T16:23:09.018150Z"
    },
    "papermill": {
     "duration": 0.030492,
     "end_time": "2025-08-05T16:23:09.020818",
     "exception": false,
     "start_time": "2025-08-05T16:23:08.990326",
     "status": "completed"
    },
    "tags": []
   },
   "outputs": [],
   "source": [
    "# EXCLUDE CERTAIN SUBGROUPS\n",
    "# ----------------------\n",
    "\n",
    "mode = universe.get(\"exclude_subgroups\", \"keep-all\") \n",
    "# Fetches the exclude_subgroups setting from the universe dict.\n",
    "# Defaults to \"keep-all\" if the key is missing."
   ]
  },
  {
   "cell_type": "code",
   "execution_count": 26,
   "id": "21994072",
   "metadata": {
    "execution": {
     "iopub.execute_input": "2025-08-05T16:23:09.059822Z",
     "iopub.status.busy": "2025-08-05T16:23:09.059089Z",
     "iopub.status.idle": "2025-08-05T16:23:09.066292Z",
     "shell.execute_reply": "2025-08-05T16:23:09.065022Z"
    },
    "papermill": {
     "duration": 0.028362,
     "end_time": "2025-08-05T16:23:09.068238",
     "exception": false,
     "start_time": "2025-08-05T16:23:09.039876",
     "status": "completed"
    },
    "tags": []
   },
   "outputs": [],
   "source": [
    "if mode == \"keep-all\":\n",
    "    keep_mask = pd.Series(True, index=org_train.index)\n",
    "\n",
    "# org_train contains the original feature columns from features_org (in Simson)\n",
    "# features_org contains unprocessed features, for me X_train at beginning ???\n",
    "# For keep-all, creates a boolean Series (keep_mask) of all True, so no rows are removed.\n",
    "\n",
    "elif mode == \"drop-non-german\":\n",
    "    keep_mask = org_train[\"maxdeutsch1\"] == 1 # ??? what about missing values?\n",
    "\n",
    "else:\n",
    "    raise ValueError(f\"Unsupported mode for exclude_subgroups: {mode}\")"
   ]
  },
  {
   "cell_type": "code",
   "execution_count": 27,
   "id": "71651440",
   "metadata": {
    "execution": {
     "iopub.execute_input": "2025-08-05T16:23:09.109276Z",
     "iopub.status.busy": "2025-08-05T16:23:09.109040Z",
     "iopub.status.idle": "2025-08-05T16:23:09.115501Z",
     "shell.execute_reply": "2025-08-05T16:23:09.114570Z"
    },
    "papermill": {
     "duration": 0.028185,
     "end_time": "2025-08-05T16:23:09.117291",
     "exception": false,
     "start_time": "2025-08-05T16:23:09.089106",
     "status": "completed"
    },
    "tags": []
   },
   "outputs": [
    {
     "name": "stdout",
     "output_type": "stream",
     "text": [
      "Dropping 147 rows (14.70%) where mode='drop-non-german'\n"
     ]
    }
   ],
   "source": [
    "n_drop = (~keep_mask).sum() # Calculates how many rows are set to be dropped\n",
    "if n_drop > 0:\n",
    "    pct = n_drop / len(keep_mask) * 100\n",
    "    print(f\"Dropping {n_drop} rows ({pct:.2f}%) where mode='{mode}'\")"
   ]
  },
  {
   "cell_type": "code",
   "execution_count": 28,
   "id": "5fb8eee5",
   "metadata": {
    "execution": {
     "iopub.execute_input": "2025-08-05T16:23:09.160144Z",
     "iopub.status.busy": "2025-08-05T16:23:09.159351Z",
     "iopub.status.idle": "2025-08-05T16:23:09.165512Z",
     "shell.execute_reply": "2025-08-05T16:23:09.164829Z"
    },
    "papermill": {
     "duration": 0.029214,
     "end_time": "2025-08-05T16:23:09.167030",
     "exception": false,
     "start_time": "2025-08-05T16:23:09.137816",
     "status": "completed"
    },
    "tags": []
   },
   "outputs": [],
   "source": [
    "X_train = X_train[keep_mask]"
   ]
  },
  {
   "cell_type": "code",
   "execution_count": 29,
   "id": "b202bb3a",
   "metadata": {
    "execution": {
     "iopub.execute_input": "2025-08-05T16:23:09.192486Z",
     "iopub.status.busy": "2025-08-05T16:23:09.192241Z",
     "iopub.status.idle": "2025-08-05T16:23:09.197300Z",
     "shell.execute_reply": "2025-08-05T16:23:09.196494Z"
    },
    "papermill": {
     "duration": 0.021012,
     "end_time": "2025-08-05T16:23:09.198753",
     "exception": false,
     "start_time": "2025-08-05T16:23:09.177741",
     "status": "completed"
    },
    "tags": []
   },
   "outputs": [],
   "source": [
    "y_train = y_train[keep_mask]"
   ]
  },
  {
   "cell_type": "markdown",
   "id": "493e2ac3",
   "metadata": {
    "papermill": {
     "duration": 0.019096,
     "end_time": "2025-08-05T16:23:09.230674",
     "exception": false,
     "start_time": "2025-08-05T16:23:09.211578",
     "status": "completed"
    },
    "tags": []
   },
   "source": [
    "# Model Training"
   ]
  },
  {
   "cell_type": "code",
   "execution_count": 30,
   "id": "679e1268",
   "metadata": {
    "execution": {
     "iopub.execute_input": "2025-08-05T16:23:09.263651Z",
     "iopub.status.busy": "2025-08-05T16:23:09.263076Z",
     "iopub.status.idle": "2025-08-05T16:23:09.371950Z",
     "shell.execute_reply": "2025-08-05T16:23:09.370726Z"
    },
    "papermill": {
     "duration": 0.126622,
     "end_time": "2025-08-05T16:23:09.373875",
     "exception": false,
     "start_time": "2025-08-05T16:23:09.247253",
     "status": "completed"
    },
    "tags": []
   },
   "outputs": [],
   "source": [
    "from sklearn.linear_model import LogisticRegression\n",
    "from sklearn.ensemble import GradientBoostingClassifier, RandomForestClassifier\n",
    "\n",
    "if (universe[\"model\"] == \"logreg\"):\n",
    "    model = LogisticRegression() #penalty=\"none\", solver=\"newton-cg\", max_iter=1) # include random_state=19 ?\n",
    "elif (universe[\"model\"] == \"penalized_logreg\"):\n",
    "    model = LogisticRegression(penalty=\"l2\", C=0.1) #, solver=\"newton-cg\", max_iter=1)\n",
    "elif (universe[\"model\"] == \"rf\"):\n",
    "    model = RandomForestClassifier() # n_estimators=100, n_jobs=-1\n",
    "elif (universe[\"model\"] == \"gbm\"):\n",
    "    model = GradientBoostingClassifier()\n",
    "elif (universe[\"model\"] == \"elasticnet\"):\n",
    "    model = LogisticRegression(penalty = 'elasticnet', solver = 'saga', l1_ratio = 0.5) # max_iter=5000\n",
    "else:\n",
    "    raise \"Unsupported universe.model\""
   ]
  },
  {
   "cell_type": "code",
   "execution_count": 31,
   "id": "0cc8f744",
   "metadata": {
    "execution": {
     "iopub.execute_input": "2025-08-05T16:23:09.416694Z",
     "iopub.status.busy": "2025-08-05T16:23:09.415772Z",
     "iopub.status.idle": "2025-08-05T16:23:09.422682Z",
     "shell.execute_reply": "2025-08-05T16:23:09.421613Z"
    },
    "papermill": {
     "duration": 0.029686,
     "end_time": "2025-08-05T16:23:09.424759",
     "exception": false,
     "start_time": "2025-08-05T16:23:09.395073",
     "status": "completed"
    },
    "tags": []
   },
   "outputs": [],
   "source": [
    "import numpy as np\n",
    "from sklearn.pipeline import Pipeline\n",
    "from sklearn.preprocessing import StandardScaler\n",
    "\n",
    "model = Pipeline([\n",
    "    #(\"continuous_processor\", continuous_processor),\n",
    "    #(\"categorical_preprocessor\", categorical_preprocessor),\n",
    "    (\"scale\", StandardScaler() if universe[\"scale\"] == \"scale\" else None), \n",
    "    (\"model\", model),\n",
    "])"
   ]
  },
  {
   "cell_type": "code",
   "execution_count": 32,
   "id": "9442c04d",
   "metadata": {
    "execution": {
     "iopub.execute_input": "2025-08-05T16:23:09.474435Z",
     "iopub.status.busy": "2025-08-05T16:23:09.473509Z",
     "iopub.status.idle": "2025-08-05T16:23:09.834419Z",
     "shell.execute_reply": "2025-08-05T16:23:09.833464Z"
    },
    "papermill": {
     "duration": 0.387437,
     "end_time": "2025-08-05T16:23:09.836147",
     "exception": false,
     "start_time": "2025-08-05T16:23:09.448710",
     "status": "completed"
    },
    "tags": []
   },
   "outputs": [
    {
     "name": "stderr",
     "output_type": "stream",
     "text": [
      "/dss/dsshome1/0C/ra93lal2/.local/share/virtualenvs/CMA_Fairness_v2-3j10GkSs/lib/python3.10/site-packages/sklearn/linear_model/_sag.py:350: ConvergenceWarning: The max_iter was reached which means the coef_ did not converge\n",
      "  warnings.warn(\n"
     ]
    },
    {
     "data": {
      "text/html": [
       "<style>#sk-container-id-1 {color: black;background-color: white;}#sk-container-id-1 pre{padding: 0;}#sk-container-id-1 div.sk-toggleable {background-color: white;}#sk-container-id-1 label.sk-toggleable__label {cursor: pointer;display: block;width: 100%;margin-bottom: 0;padding: 0.3em;box-sizing: border-box;text-align: center;}#sk-container-id-1 label.sk-toggleable__label-arrow:before {content: \"▸\";float: left;margin-right: 0.25em;color: #696969;}#sk-container-id-1 label.sk-toggleable__label-arrow:hover:before {color: black;}#sk-container-id-1 div.sk-estimator:hover label.sk-toggleable__label-arrow:before {color: black;}#sk-container-id-1 div.sk-toggleable__content {max-height: 0;max-width: 0;overflow: hidden;text-align: left;background-color: #f0f8ff;}#sk-container-id-1 div.sk-toggleable__content pre {margin: 0.2em;color: black;border-radius: 0.25em;background-color: #f0f8ff;}#sk-container-id-1 input.sk-toggleable__control:checked~div.sk-toggleable__content {max-height: 200px;max-width: 100%;overflow: auto;}#sk-container-id-1 input.sk-toggleable__control:checked~label.sk-toggleable__label-arrow:before {content: \"▾\";}#sk-container-id-1 div.sk-estimator input.sk-toggleable__control:checked~label.sk-toggleable__label {background-color: #d4ebff;}#sk-container-id-1 div.sk-label input.sk-toggleable__control:checked~label.sk-toggleable__label {background-color: #d4ebff;}#sk-container-id-1 input.sk-hidden--visually {border: 0;clip: rect(1px 1px 1px 1px);clip: rect(1px, 1px, 1px, 1px);height: 1px;margin: -1px;overflow: hidden;padding: 0;position: absolute;width: 1px;}#sk-container-id-1 div.sk-estimator {font-family: monospace;background-color: #f0f8ff;border: 1px dotted black;border-radius: 0.25em;box-sizing: border-box;margin-bottom: 0.5em;}#sk-container-id-1 div.sk-estimator:hover {background-color: #d4ebff;}#sk-container-id-1 div.sk-parallel-item::after {content: \"\";width: 100%;border-bottom: 1px solid gray;flex-grow: 1;}#sk-container-id-1 div.sk-label:hover label.sk-toggleable__label {background-color: #d4ebff;}#sk-container-id-1 div.sk-serial::before {content: \"\";position: absolute;border-left: 1px solid gray;box-sizing: border-box;top: 0;bottom: 0;left: 50%;z-index: 0;}#sk-container-id-1 div.sk-serial {display: flex;flex-direction: column;align-items: center;background-color: white;padding-right: 0.2em;padding-left: 0.2em;position: relative;}#sk-container-id-1 div.sk-item {position: relative;z-index: 1;}#sk-container-id-1 div.sk-parallel {display: flex;align-items: stretch;justify-content: center;background-color: white;position: relative;}#sk-container-id-1 div.sk-item::before, #sk-container-id-1 div.sk-parallel-item::before {content: \"\";position: absolute;border-left: 1px solid gray;box-sizing: border-box;top: 0;bottom: 0;left: 50%;z-index: -1;}#sk-container-id-1 div.sk-parallel-item {display: flex;flex-direction: column;z-index: 1;position: relative;background-color: white;}#sk-container-id-1 div.sk-parallel-item:first-child::after {align-self: flex-end;width: 50%;}#sk-container-id-1 div.sk-parallel-item:last-child::after {align-self: flex-start;width: 50%;}#sk-container-id-1 div.sk-parallel-item:only-child::after {width: 0;}#sk-container-id-1 div.sk-dashed-wrapped {border: 1px dashed gray;margin: 0 0.4em 0.5em 0.4em;box-sizing: border-box;padding-bottom: 0.4em;background-color: white;}#sk-container-id-1 div.sk-label label {font-family: monospace;font-weight: bold;display: inline-block;line-height: 1.2em;}#sk-container-id-1 div.sk-label-container {text-align: center;}#sk-container-id-1 div.sk-container {/* jupyter's `normalize.less` sets `[hidden] { display: none; }` but bootstrap.min.css set `[hidden] { display: none !important; }` so we also need the `!important` here to be able to override the default hidden behavior on the sphinx rendered scikit-learn.org. See: https://github.com/scikit-learn/scikit-learn/issues/21755 */display: inline-block !important;position: relative;}#sk-container-id-1 div.sk-text-repr-fallback {display: none;}</style><div id=\"sk-container-id-1\" class=\"sk-top-container\"><div class=\"sk-text-repr-fallback\"><pre>Pipeline(steps=[(&#x27;scale&#x27;, StandardScaler()),\n",
       "                (&#x27;model&#x27;,\n",
       "                 LogisticRegression(l1_ratio=0.5, penalty=&#x27;elasticnet&#x27;,\n",
       "                                    solver=&#x27;saga&#x27;))])</pre><b>In a Jupyter environment, please rerun this cell to show the HTML representation or trust the notebook. <br />On GitHub, the HTML representation is unable to render, please try loading this page with nbviewer.org.</b></div><div class=\"sk-container\" hidden><div class=\"sk-item sk-dashed-wrapped\"><div class=\"sk-label-container\"><div class=\"sk-label sk-toggleable\"><input class=\"sk-toggleable__control sk-hidden--visually\" id=\"sk-estimator-id-1\" type=\"checkbox\" ><label for=\"sk-estimator-id-1\" class=\"sk-toggleable__label sk-toggleable__label-arrow\">Pipeline</label><div class=\"sk-toggleable__content\"><pre>Pipeline(steps=[(&#x27;scale&#x27;, StandardScaler()),\n",
       "                (&#x27;model&#x27;,\n",
       "                 LogisticRegression(l1_ratio=0.5, penalty=&#x27;elasticnet&#x27;,\n",
       "                                    solver=&#x27;saga&#x27;))])</pre></div></div></div><div class=\"sk-serial\"><div class=\"sk-item\"><div class=\"sk-estimator sk-toggleable\"><input class=\"sk-toggleable__control sk-hidden--visually\" id=\"sk-estimator-id-2\" type=\"checkbox\" ><label for=\"sk-estimator-id-2\" class=\"sk-toggleable__label sk-toggleable__label-arrow\">StandardScaler</label><div class=\"sk-toggleable__content\"><pre>StandardScaler()</pre></div></div></div><div class=\"sk-item\"><div class=\"sk-estimator sk-toggleable\"><input class=\"sk-toggleable__control sk-hidden--visually\" id=\"sk-estimator-id-3\" type=\"checkbox\" ><label for=\"sk-estimator-id-3\" class=\"sk-toggleable__label sk-toggleable__label-arrow\">LogisticRegression</label><div class=\"sk-toggleable__content\"><pre>LogisticRegression(l1_ratio=0.5, penalty=&#x27;elasticnet&#x27;, solver=&#x27;saga&#x27;)</pre></div></div></div></div></div></div></div>"
      ],
      "text/plain": [
       "Pipeline(steps=[('scale', StandardScaler()),\n",
       "                ('model',\n",
       "                 LogisticRegression(l1_ratio=0.5, penalty='elasticnet',\n",
       "                                    solver='saga'))])"
      ]
     },
     "execution_count": 32,
     "metadata": {},
     "output_type": "execute_result"
    }
   ],
   "source": [
    "model.fit(X_train, y_train.values.ravel())"
   ]
  },
  {
   "cell_type": "code",
   "execution_count": 33,
   "id": "af59f8c0",
   "metadata": {
    "execution": {
     "iopub.execute_input": "2025-08-05T16:23:09.880437Z",
     "iopub.status.busy": "2025-08-05T16:23:09.879923Z",
     "iopub.status.idle": "2025-08-05T16:23:09.885963Z",
     "shell.execute_reply": "2025-08-05T16:23:09.884692Z"
    },
    "papermill": {
     "duration": 0.030108,
     "end_time": "2025-08-05T16:23:09.887920",
     "exception": false,
     "start_time": "2025-08-05T16:23:09.857812",
     "status": "completed"
    },
    "tags": []
   },
   "outputs": [],
   "source": [
    "from fairness_multiverse.universe import predict_w_threshold"
   ]
  },
  {
   "cell_type": "code",
   "execution_count": 34,
   "id": "a7cf2e16",
   "metadata": {
    "execution": {
     "iopub.execute_input": "2025-08-05T16:23:09.934533Z",
     "iopub.status.busy": "2025-08-05T16:23:09.933721Z",
     "iopub.status.idle": "2025-08-05T16:23:10.128792Z",
     "shell.execute_reply": "2025-08-05T16:23:10.127831Z"
    },
    "papermill": {
     "duration": 0.219722,
     "end_time": "2025-08-05T16:23:10.130600",
     "exception": false,
     "start_time": "2025-08-05T16:23:09.910878",
     "status": "completed"
    },
    "tags": []
   },
   "outputs": [
    {
     "data": {
      "text/plain": [
       "0.8333184706275778"
      ]
     },
     "execution_count": 34,
     "metadata": {},
     "output_type": "execute_result"
    }
   ],
   "source": [
    "probs_test = model.predict_proba(X_test)\n",
    "\n",
    "'''\n",
    "Below code returns a boolean array (or binary 0/1 array depending on how it’s used) where each element \n",
    "is True if the probability of class 1 is greater than or equal to the threshold, and False otherwise.\n",
    "'''\n",
    "y_pred_default = predict_w_threshold(probs_test, 0.5)\n",
    "\n",
    "from sklearn.metrics import accuracy_score\n",
    "\n",
    "# Naive prediction\n",
    "accuracy_score(y_true = y_true, y_pred = y_pred_default)"
   ]
  },
  {
   "cell_type": "code",
   "execution_count": 35,
   "id": "081964c3",
   "metadata": {
    "execution": {
     "iopub.execute_input": "2025-08-05T16:23:10.176749Z",
     "iopub.status.busy": "2025-08-05T16:23:10.175792Z",
     "iopub.status.idle": "2025-08-05T16:23:10.380923Z",
     "shell.execute_reply": "2025-08-05T16:23:10.379771Z"
    },
    "papermill": {
     "duration": 0.230253,
     "end_time": "2025-08-05T16:23:10.383072",
     "exception": false,
     "start_time": "2025-08-05T16:23:10.152819",
     "status": "completed"
    },
    "tags": []
   },
   "outputs": [
    {
     "data": {
      "text/plain": [
       "array([0, 0, 0, ..., 0, 0, 0])"
      ]
     },
     "execution_count": 35,
     "metadata": {},
     "output_type": "execute_result"
    }
   ],
   "source": [
    "model.predict(X_test)"
   ]
  },
  {
   "cell_type": "markdown",
   "id": "56c9705b",
   "metadata": {
    "papermill": {
     "duration": 0.027186,
     "end_time": "2025-08-05T16:23:10.437671",
     "exception": false,
     "start_time": "2025-08-05T16:23:10.410485",
     "status": "completed"
    },
    "tags": []
   },
   "source": [
    "# Conformal Prediction"
   ]
  },
  {
   "cell_type": "code",
   "execution_count": 36,
   "id": "160ec6ff",
   "metadata": {
    "execution": {
     "iopub.execute_input": "2025-08-05T16:23:10.486091Z",
     "iopub.status.busy": "2025-08-05T16:23:10.485407Z",
     "iopub.status.idle": "2025-08-05T16:23:10.491982Z",
     "shell.execute_reply": "2025-08-05T16:23:10.490704Z"
    },
    "papermill": {
     "duration": 0.029148,
     "end_time": "2025-08-05T16:23:10.494137",
     "exception": false,
     "start_time": "2025-08-05T16:23:10.464989",
     "status": "completed"
    },
    "tags": []
   },
   "outputs": [],
   "source": [
    "# Miscoverage level for conformal prediction (10% allowed error rate => 90% target coverage)\n",
    "alpha = 0.1"
   ]
  },
  {
   "cell_type": "code",
   "execution_count": 37,
   "id": "eadf4555-3dd3-440e-8e35-f82a4ad9f855",
   "metadata": {
    "execution": {
     "iopub.execute_input": "2025-08-05T16:23:10.548298Z",
     "iopub.status.busy": "2025-08-05T16:23:10.547788Z",
     "iopub.status.idle": "2025-08-05T16:23:10.749326Z",
     "shell.execute_reply": "2025-08-05T16:23:10.748359Z"
    },
    "papermill": {
     "duration": 0.229299,
     "end_time": "2025-08-05T16:23:10.751414",
     "exception": false,
     "start_time": "2025-08-05T16:23:10.522115",
     "status": "completed"
    },
    "tags": []
   },
   "outputs": [],
   "source": [
    "probs_calib = model.predict_proba(X_calib)"
   ]
  },
  {
   "cell_type": "code",
   "execution_count": 38,
   "id": "2ed93547-6d5d-4983-9b36-1ecb300da49a",
   "metadata": {
    "execution": {
     "iopub.execute_input": "2025-08-05T16:23:10.790395Z",
     "iopub.status.busy": "2025-08-05T16:23:10.789878Z",
     "iopub.status.idle": "2025-08-05T16:23:10.797307Z",
     "shell.execute_reply": "2025-08-05T16:23:10.796058Z"
    },
    "papermill": {
     "duration": 0.033247,
     "end_time": "2025-08-05T16:23:10.799813",
     "exception": false,
     "start_time": "2025-08-05T16:23:10.766566",
     "status": "completed"
    },
    "tags": []
   },
   "outputs": [],
   "source": [
    "y_calib = y_calib.values.ravel().astype(int)"
   ]
  },
  {
   "cell_type": "code",
   "execution_count": 39,
   "id": "65d1320d-f588-4b38-9072-62af1ae97f7d",
   "metadata": {
    "execution": {
     "iopub.execute_input": "2025-08-05T16:23:10.851072Z",
     "iopub.status.busy": "2025-08-05T16:23:10.850622Z",
     "iopub.status.idle": "2025-08-05T16:23:10.857888Z",
     "shell.execute_reply": "2025-08-05T16:23:10.856949Z"
    },
    "papermill": {
     "duration": 0.030572,
     "end_time": "2025-08-05T16:23:10.859438",
     "exception": false,
     "start_time": "2025-08-05T16:23:10.828866",
     "status": "completed"
    },
    "tags": []
   },
   "outputs": [],
   "source": [
    "from fairness_multiverse.conformal import compute_nc_scores\n",
    "\n",
    "# Compute nonconformity scores on calibration set (1 - probability of true class)\n",
    "nc_scores = compute_nc_scores(probs_calib, y_calib)"
   ]
  },
  {
   "cell_type": "code",
   "execution_count": 40,
   "id": "df3b8ca3-53b7-43d5-9667-7c85da7aeda2",
   "metadata": {
    "execution": {
     "iopub.execute_input": "2025-08-05T16:23:10.888074Z",
     "iopub.status.busy": "2025-08-05T16:23:10.887287Z",
     "iopub.status.idle": "2025-08-05T16:23:10.894593Z",
     "shell.execute_reply": "2025-08-05T16:23:10.893646Z"
    },
    "papermill": {
     "duration": 0.02635,
     "end_time": "2025-08-05T16:23:10.899426",
     "exception": false,
     "start_time": "2025-08-05T16:23:10.873076",
     "status": "completed"
    },
    "tags": []
   },
   "outputs": [],
   "source": [
    "from fairness_multiverse.conformal import find_threshold\n",
    "\n",
    "# Find conformal threshold q_hat for the given alpha (split conformal method)\n",
    "q_hat = find_threshold(nc_scores, alpha)"
   ]
  },
  {
   "cell_type": "code",
   "execution_count": 41,
   "id": "4d29e6c1-0ef6-4aa4-b8fe-4fe79b0d033a",
   "metadata": {
    "execution": {
     "iopub.execute_input": "2025-08-05T16:23:10.948396Z",
     "iopub.status.busy": "2025-08-05T16:23:10.947880Z",
     "iopub.status.idle": "2025-08-05T16:23:10.954632Z",
     "shell.execute_reply": "2025-08-05T16:23:10.953797Z"
    },
    "papermill": {
     "duration": 0.041665,
     "end_time": "2025-08-05T16:23:10.965079",
     "exception": false,
     "start_time": "2025-08-05T16:23:10.923414",
     "status": "completed"
    },
    "tags": []
   },
   "outputs": [
    {
     "data": {
      "text/plain": [
       "0.7792739909203498"
      ]
     },
     "execution_count": 41,
     "metadata": {},
     "output_type": "execute_result"
    }
   ],
   "source": [
    "q_hat"
   ]
  },
  {
   "cell_type": "code",
   "execution_count": 42,
   "id": "92460794-cdac-4be2-ba28-f28c0515a6fb",
   "metadata": {
    "execution": {
     "iopub.execute_input": "2025-08-05T16:23:11.027586Z",
     "iopub.status.busy": "2025-08-05T16:23:11.026789Z",
     "iopub.status.idle": "2025-08-05T16:23:12.391952Z",
     "shell.execute_reply": "2025-08-05T16:23:12.390780Z"
    },
    "papermill": {
     "duration": 1.393027,
     "end_time": "2025-08-05T16:23:12.394419",
     "exception": false,
     "start_time": "2025-08-05T16:23:11.001392",
     "status": "completed"
    },
    "tags": []
   },
   "outputs": [],
   "source": [
    "from fairness_multiverse.conformal import predict_conformal_sets\n",
    "\n",
    "# Generate prediction sets for each test example\n",
    "pred_sets = predict_conformal_sets(model, X_test, q_hat)"
   ]
  },
  {
   "cell_type": "code",
   "execution_count": 43,
   "id": "d90c9a65-e6db-4f5d-80cd-e68fb7e46829",
   "metadata": {
    "execution": {
     "iopub.execute_input": "2025-08-05T16:23:12.454492Z",
     "iopub.status.busy": "2025-08-05T16:23:12.453491Z",
     "iopub.status.idle": "2025-08-05T16:23:12.460958Z",
     "shell.execute_reply": "2025-08-05T16:23:12.459776Z"
    },
    "papermill": {
     "duration": 0.039638,
     "end_time": "2025-08-05T16:23:12.463002",
     "exception": false,
     "start_time": "2025-08-05T16:23:12.423364",
     "status": "completed"
    },
    "tags": []
   },
   "outputs": [],
   "source": [
    "y_true = y_true.squeeze()"
   ]
  },
  {
   "cell_type": "code",
   "execution_count": 44,
   "id": "3a58a54a-1e68-46b9-927a-df01f18aebc8",
   "metadata": {
    "execution": {
     "iopub.execute_input": "2025-08-05T16:23:12.522843Z",
     "iopub.status.busy": "2025-08-05T16:23:12.522043Z",
     "iopub.status.idle": "2025-08-05T16:23:13.650203Z",
     "shell.execute_reply": "2025-08-05T16:23:13.649264Z"
    },
    "papermill": {
     "duration": 1.160121,
     "end_time": "2025-08-05T16:23:13.651959",
     "exception": false,
     "start_time": "2025-08-05T16:23:12.491838",
     "status": "completed"
    },
    "tags": []
   },
   "outputs": [],
   "source": [
    "from fairness_multiverse.conformal import evaluate_sets\n",
    "\n",
    "# Evaluate coverage and average set size on test data\n",
    "metrics = evaluate_sets(pred_sets, y_true)"
   ]
  },
  {
   "cell_type": "markdown",
   "id": "2b569c12-9aaa-4c88-98c9-bbcd0cf3ebb8",
   "metadata": {
    "papermill": {
     "duration": 0.024692,
     "end_time": "2025-08-05T16:23:13.703787",
     "exception": false,
     "start_time": "2025-08-05T16:23:13.679095",
     "status": "completed"
    },
    "tags": []
   },
   "source": [
    "# CP Metrics"
   ]
  },
  {
   "cell_type": "code",
   "execution_count": 45,
   "id": "5ce0a5cb-201f-45a0-ade5-94c7f0bd6095",
   "metadata": {
    "execution": {
     "iopub.execute_input": "2025-08-05T16:23:13.756259Z",
     "iopub.status.busy": "2025-08-05T16:23:13.755701Z",
     "iopub.status.idle": "2025-08-05T16:23:13.763572Z",
     "shell.execute_reply": "2025-08-05T16:23:13.762768Z"
    },
    "papermill": {
     "duration": 0.036526,
     "end_time": "2025-08-05T16:23:13.765117",
     "exception": false,
     "start_time": "2025-08-05T16:23:13.728591",
     "status": "completed"
    },
    "tags": []
   },
   "outputs": [
    {
     "data": {
      "text/plain": [
       "{'coverage': 0.9109352357596701, 'avg_size': 1.2293835692787871}"
      ]
     },
     "execution_count": 45,
     "metadata": {},
     "output_type": "execute_result"
    }
   ],
   "source": [
    "metrics"
   ]
  },
  {
   "cell_type": "code",
   "execution_count": 46,
   "id": "9b9a838d-31c9-430b-ae14-12baee460d17",
   "metadata": {
    "execution": {
     "iopub.execute_input": "2025-08-05T16:23:13.792640Z",
     "iopub.status.busy": "2025-08-05T16:23:13.792063Z",
     "iopub.status.idle": "2025-08-05T16:23:13.798174Z",
     "shell.execute_reply": "2025-08-05T16:23:13.797361Z"
    },
    "papermill": {
     "duration": 0.021308,
     "end_time": "2025-08-05T16:23:13.799653",
     "exception": false,
     "start_time": "2025-08-05T16:23:13.778345",
     "status": "completed"
    },
    "tags": []
   },
   "outputs": [],
   "source": [
    "example_universe = universe.copy()\n",
    "universe_training_year = example_universe.get(\"training_year\")\n",
    "universe_training_size = example_universe.get(\"training_size\")\n",
    "universe_scale = example_universe.get(\"scale\")\n",
    "universe_model = example_universe.get(\"model\")\n",
    "universe_exclude_features = example_universe.get(\"exclude_features\")\n",
    "universe_exclude_subgroups = example_universe.get(\"exclude_subgroups\")"
   ]
  },
  {
   "cell_type": "code",
   "execution_count": 47,
   "id": "f4b6a8ac-9dc0-4245-8a91-5b3b5999c4f9",
   "metadata": {
    "execution": {
     "iopub.execute_input": "2025-08-05T16:23:13.849324Z",
     "iopub.status.busy": "2025-08-05T16:23:13.848808Z",
     "iopub.status.idle": "2025-08-05T16:23:13.856024Z",
     "shell.execute_reply": "2025-08-05T16:23:13.854895Z"
    },
    "papermill": {
     "duration": 0.035651,
     "end_time": "2025-08-05T16:23:13.857944",
     "exception": false,
     "start_time": "2025-08-05T16:23:13.822293",
     "status": "completed"
    },
    "tags": []
   },
   "outputs": [],
   "source": [
    "cp_metrics_dict = {\n",
    "    \"universe_id\": [universe_id],\n",
    "    \"universe_training_year\": [universe_training_year],\n",
    "    \"universe_training_size\": [universe_training_size],\n",
    "    \"universe_scale\": [universe_scale],\n",
    "    \"universe_model\": [universe_model],\n",
    "    \"universe_exclude_features\": [universe_exclude_features],\n",
    "    \"universe_exclude_subgroups\": [universe_exclude_subgroups],\n",
    "    \"q_hat\": [q_hat],\n",
    "    \"coverage\": [metrics[\"coverage\"]],\n",
    "    \"avg_size\": [metrics[\"avg_size\"]],\n",
    "}"
   ]
  },
  {
   "cell_type": "code",
   "execution_count": 48,
   "id": "908acbb1-0371-4915-85ca-3fa520d2efe2",
   "metadata": {
    "execution": {
     "iopub.execute_input": "2025-08-05T16:23:13.911505Z",
     "iopub.status.busy": "2025-08-05T16:23:13.910618Z",
     "iopub.status.idle": "2025-08-05T16:23:13.919811Z",
     "shell.execute_reply": "2025-08-05T16:23:13.918701Z"
    },
    "papermill": {
     "duration": 0.038696,
     "end_time": "2025-08-05T16:23:13.921991",
     "exception": false,
     "start_time": "2025-08-05T16:23:13.883295",
     "status": "completed"
    },
    "tags": []
   },
   "outputs": [
    {
     "data": {
      "text/plain": [
       "{'universe_id': ['6acb694263c600510b083b6c26bf1957'],\n",
       " 'universe_training_year': ['2012_14'],\n",
       " 'universe_training_size': ['1k'],\n",
       " 'universe_scale': ['scale'],\n",
       " 'universe_model': ['elasticnet'],\n",
       " 'universe_exclude_features': ['age'],\n",
       " 'universe_exclude_subgroups': ['drop-non-german'],\n",
       " 'q_hat': [0.7792739909203498],\n",
       " 'coverage': [0.9109352357596701],\n",
       " 'avg_size': [1.2293835692787871]}"
      ]
     },
     "execution_count": 48,
     "metadata": {},
     "output_type": "execute_result"
    }
   ],
   "source": [
    "cp_metrics_dict"
   ]
  },
  {
   "cell_type": "code",
   "execution_count": 49,
   "id": "33007efc-14e9-4ec6-97ac-56a455c82265",
   "metadata": {
    "execution": {
     "iopub.execute_input": "2025-08-05T16:23:13.950416Z",
     "iopub.status.busy": "2025-08-05T16:23:13.949984Z",
     "iopub.status.idle": "2025-08-05T16:23:13.956042Z",
     "shell.execute_reply": "2025-08-05T16:23:13.955235Z"
    },
    "papermill": {
     "duration": 0.02161,
     "end_time": "2025-08-05T16:23:13.957593",
     "exception": false,
     "start_time": "2025-08-05T16:23:13.935983",
     "status": "completed"
    },
    "tags": []
   },
   "outputs": [],
   "source": [
    "cp_metrics_df = pd.DataFrame(cp_metrics_dict)"
   ]
  },
  {
   "cell_type": "code",
   "execution_count": 50,
   "id": "db12611b-57b2-4910-b9d0-355adfd6e7bf",
   "metadata": {
    "execution": {
     "iopub.execute_input": "2025-08-05T16:23:13.989973Z",
     "iopub.status.busy": "2025-08-05T16:23:13.989439Z",
     "iopub.status.idle": "2025-08-05T16:23:14.004771Z",
     "shell.execute_reply": "2025-08-05T16:23:14.003965Z"
    },
    "papermill": {
     "duration": 0.035103,
     "end_time": "2025-08-05T16:23:14.006210",
     "exception": false,
     "start_time": "2025-08-05T16:23:13.971107",
     "status": "completed"
    },
    "tags": []
   },
   "outputs": [
    {
     "data": {
      "text/html": [
       "<div>\n",
       "<style scoped>\n",
       "    .dataframe tbody tr th:only-of-type {\n",
       "        vertical-align: middle;\n",
       "    }\n",
       "\n",
       "    .dataframe tbody tr th {\n",
       "        vertical-align: top;\n",
       "    }\n",
       "\n",
       "    .dataframe thead th {\n",
       "        text-align: right;\n",
       "    }\n",
       "</style>\n",
       "<table border=\"1\" class=\"dataframe\">\n",
       "  <thead>\n",
       "    <tr style=\"text-align: right;\">\n",
       "      <th></th>\n",
       "      <th>universe_id</th>\n",
       "      <th>universe_training_year</th>\n",
       "      <th>universe_training_size</th>\n",
       "      <th>universe_scale</th>\n",
       "      <th>universe_model</th>\n",
       "      <th>universe_exclude_features</th>\n",
       "      <th>universe_exclude_subgroups</th>\n",
       "      <th>q_hat</th>\n",
       "      <th>coverage</th>\n",
       "      <th>avg_size</th>\n",
       "    </tr>\n",
       "  </thead>\n",
       "  <tbody>\n",
       "    <tr>\n",
       "      <th>0</th>\n",
       "      <td>6acb694263c600510b083b6c26bf1957</td>\n",
       "      <td>2012_14</td>\n",
       "      <td>1k</td>\n",
       "      <td>scale</td>\n",
       "      <td>elasticnet</td>\n",
       "      <td>age</td>\n",
       "      <td>drop-non-german</td>\n",
       "      <td>0.779274</td>\n",
       "      <td>0.910935</td>\n",
       "      <td>1.229384</td>\n",
       "    </tr>\n",
       "  </tbody>\n",
       "</table>\n",
       "</div>"
      ],
      "text/plain": [
       "                        universe_id universe_training_year  \\\n",
       "0  6acb694263c600510b083b6c26bf1957                2012_14   \n",
       "\n",
       "  universe_training_size universe_scale universe_model  \\\n",
       "0                     1k          scale     elasticnet   \n",
       "\n",
       "  universe_exclude_features universe_exclude_subgroups     q_hat  coverage  \\\n",
       "0                       age            drop-non-german  0.779274  0.910935   \n",
       "\n",
       "   avg_size  \n",
       "0  1.229384  "
      ]
     },
     "execution_count": 50,
     "metadata": {},
     "output_type": "execute_result"
    }
   ],
   "source": [
    "cp_metrics_df"
   ]
  },
  {
   "cell_type": "code",
   "execution_count": 51,
   "id": "b7fbde55-a0a1-47e4-9af6-fe4a17fa8c61",
   "metadata": {
    "execution": {
     "iopub.execute_input": "2025-08-05T16:23:14.034799Z",
     "iopub.status.busy": "2025-08-05T16:23:14.034123Z",
     "iopub.status.idle": "2025-08-05T16:23:14.045586Z",
     "shell.execute_reply": "2025-08-05T16:23:14.037947Z"
    },
    "papermill": {
     "duration": 0.027655,
     "end_time": "2025-08-05T16:23:14.047557",
     "exception": false,
     "start_time": "2025-08-05T16:23:14.019902",
     "status": "completed"
    },
    "tags": []
   },
   "outputs": [],
   "source": [
    "# Conditional Coverage & looking at subgroups"
   ]
  },
  {
   "cell_type": "code",
   "execution_count": 52,
   "id": "027ae886-68dd-4141-96c7-805a5450e1ef",
   "metadata": {
    "execution": {
     "iopub.execute_input": "2025-08-05T16:23:14.110681Z",
     "iopub.status.busy": "2025-08-05T16:23:14.109708Z",
     "iopub.status.idle": "2025-08-05T16:23:14.433231Z",
     "shell.execute_reply": "2025-08-05T16:23:14.432038Z"
    },
    "papermill": {
     "duration": 0.356933,
     "end_time": "2025-08-05T16:23:14.435527",
     "exception": false,
     "start_time": "2025-08-05T16:23:14.078594",
     "status": "completed"
    },
    "tags": []
   },
   "outputs": [],
   "source": [
    "from fairness_multiverse.conformal import build_cp_groups\n",
    "\n",
    "cp_groups_df = build_cp_groups(pred_sets, y_true, X_test.index, org_test)\n",
    "#needs universe_id and setting"
   ]
  },
  {
   "cell_type": "code",
   "execution_count": 53,
   "id": "6cbdab96-b2b2-45af-ad54-d0516db2e28d",
   "metadata": {
    "execution": {
     "iopub.execute_input": "2025-08-05T16:23:14.486966Z",
     "iopub.status.busy": "2025-08-05T16:23:14.486101Z",
     "iopub.status.idle": "2025-08-05T16:23:16.497288Z",
     "shell.execute_reply": "2025-08-05T16:23:16.496037Z"
    },
    "papermill": {
     "duration": 2.042021,
     "end_time": "2025-08-05T16:23:16.499546",
     "exception": false,
     "start_time": "2025-08-05T16:23:14.457525",
     "status": "completed"
    },
    "tags": []
   },
   "outputs": [],
   "source": [
    "# Define covered = 1 if true_label is in the predicted set\n",
    "cp_groups_df['covered'] = cp_groups_df.apply(\n",
    "    lambda r: int(r['true_label'] in r['pred_set']),\n",
    "    axis=1\n",
    ")"
   ]
  },
  {
   "cell_type": "code",
   "execution_count": 54,
   "id": "338ff529-1a6b-4b87-a931-8e4788d52aad",
   "metadata": {
    "execution": {
     "iopub.execute_input": "2025-08-05T16:23:16.562119Z",
     "iopub.status.busy": "2025-08-05T16:23:16.561696Z",
     "iopub.status.idle": "2025-08-05T16:23:16.567272Z",
     "shell.execute_reply": "2025-08-05T16:23:16.566027Z"
    },
    "papermill": {
     "duration": 0.038496,
     "end_time": "2025-08-05T16:23:16.569305",
     "exception": false,
     "start_time": "2025-08-05T16:23:16.530809",
     "status": "completed"
    },
    "tags": []
   },
   "outputs": [],
   "source": [
    "#cp_groups_df"
   ]
  },
  {
   "cell_type": "code",
   "execution_count": 55,
   "id": "90032e27-66df-4540-9169-4e89cfbaa758",
   "metadata": {
    "execution": {
     "iopub.execute_input": "2025-08-05T16:23:16.631846Z",
     "iopub.status.busy": "2025-08-05T16:23:16.631034Z",
     "iopub.status.idle": "2025-08-05T16:23:16.644027Z",
     "shell.execute_reply": "2025-08-05T16:23:16.642901Z"
    },
    "papermill": {
     "duration": 0.046674,
     "end_time": "2025-08-05T16:23:16.646325",
     "exception": false,
     "start_time": "2025-08-05T16:23:16.599651",
     "status": "completed"
    },
    "tags": []
   },
   "outputs": [],
   "source": [
    "subgroups = ['frau1','nongerman','nongerman_male','nongerman_female']\n",
    "\n",
    "# Conditional coverage for subgroup==1\n",
    "cond_coverage = {\n",
    "    g: cp_groups_df.loc[cp_groups_df[g]==1, 'covered'].mean()\n",
    "    for g in subgroups\n",
    "}"
   ]
  },
  {
   "cell_type": "code",
   "execution_count": 56,
   "id": "1e348fb1-b9c3-45bc-ba23-f016827a7e0d",
   "metadata": {
    "execution": {
     "iopub.execute_input": "2025-08-05T16:23:16.708346Z",
     "iopub.status.busy": "2025-08-05T16:23:16.707659Z",
     "iopub.status.idle": "2025-08-05T16:23:16.716033Z",
     "shell.execute_reply": "2025-08-05T16:23:16.714807Z"
    },
    "papermill": {
     "duration": 0.041674,
     "end_time": "2025-08-05T16:23:16.718232",
     "exception": false,
     "start_time": "2025-08-05T16:23:16.676558",
     "status": "completed"
    },
    "tags": []
   },
   "outputs": [
    {
     "data": {
      "text/plain": [
       "{'frau1': 0.9011996225906457,\n",
       " 'nongerman': 0.9148374782462246,\n",
       " 'nongerman_male': 0.9354228586868414,\n",
       " 'nongerman_female': 0.8807749627421758}"
      ]
     },
     "execution_count": 56,
     "metadata": {},
     "output_type": "execute_result"
    }
   ],
   "source": [
    "cond_coverage"
   ]
  },
  {
   "cell_type": "code",
   "execution_count": 57,
   "id": "f5093324-c3dd-4d63-bc4c-8d945e5c8bbb",
   "metadata": {
    "execution": {
     "iopub.execute_input": "2025-08-05T16:23:16.781229Z",
     "iopub.status.busy": "2025-08-05T16:23:16.780586Z",
     "iopub.status.idle": "2025-08-05T16:23:16.789692Z",
     "shell.execute_reply": "2025-08-05T16:23:16.788400Z"
    },
    "papermill": {
     "duration": 0.043242,
     "end_time": "2025-08-05T16:23:16.791852",
     "exception": false,
     "start_time": "2025-08-05T16:23:16.748610",
     "status": "completed"
    },
    "tags": []
   },
   "outputs": [],
   "source": [
    "for subgroup, cov in cond_coverage.items():\n",
    "    cp_metrics_df[f\"cov_{subgroup}\"] = cov"
   ]
  },
  {
   "cell_type": "code",
   "execution_count": 58,
   "id": "6e872e10-dbe5-49e8-b554-5030c98ff75d",
   "metadata": {
    "execution": {
     "iopub.execute_input": "2025-08-05T16:23:16.859528Z",
     "iopub.status.busy": "2025-08-05T16:23:16.858410Z",
     "iopub.status.idle": "2025-08-05T16:23:16.882868Z",
     "shell.execute_reply": "2025-08-05T16:23:16.881503Z"
    },
    "papermill": {
     "duration": 0.060309,
     "end_time": "2025-08-05T16:23:16.885121",
     "exception": false,
     "start_time": "2025-08-05T16:23:16.824812",
     "status": "completed"
    },
    "tags": []
   },
   "outputs": [
    {
     "data": {
      "text/html": [
       "<div>\n",
       "<style scoped>\n",
       "    .dataframe tbody tr th:only-of-type {\n",
       "        vertical-align: middle;\n",
       "    }\n",
       "\n",
       "    .dataframe tbody tr th {\n",
       "        vertical-align: top;\n",
       "    }\n",
       "\n",
       "    .dataframe thead th {\n",
       "        text-align: right;\n",
       "    }\n",
       "</style>\n",
       "<table border=\"1\" class=\"dataframe\">\n",
       "  <thead>\n",
       "    <tr style=\"text-align: right;\">\n",
       "      <th></th>\n",
       "      <th>universe_id</th>\n",
       "      <th>universe_training_year</th>\n",
       "      <th>universe_training_size</th>\n",
       "      <th>universe_scale</th>\n",
       "      <th>universe_model</th>\n",
       "      <th>universe_exclude_features</th>\n",
       "      <th>universe_exclude_subgroups</th>\n",
       "      <th>q_hat</th>\n",
       "      <th>coverage</th>\n",
       "      <th>avg_size</th>\n",
       "      <th>cov_frau1</th>\n",
       "      <th>cov_nongerman</th>\n",
       "      <th>cov_nongerman_male</th>\n",
       "      <th>cov_nongerman_female</th>\n",
       "    </tr>\n",
       "  </thead>\n",
       "  <tbody>\n",
       "    <tr>\n",
       "      <th>0</th>\n",
       "      <td>6acb694263c600510b083b6c26bf1957</td>\n",
       "      <td>2012_14</td>\n",
       "      <td>1k</td>\n",
       "      <td>scale</td>\n",
       "      <td>elasticnet</td>\n",
       "      <td>age</td>\n",
       "      <td>drop-non-german</td>\n",
       "      <td>0.779274</td>\n",
       "      <td>0.910935</td>\n",
       "      <td>1.229384</td>\n",
       "      <td>0.9012</td>\n",
       "      <td>0.914837</td>\n",
       "      <td>0.935423</td>\n",
       "      <td>0.880775</td>\n",
       "    </tr>\n",
       "  </tbody>\n",
       "</table>\n",
       "</div>"
      ],
      "text/plain": [
       "                        universe_id universe_training_year  \\\n",
       "0  6acb694263c600510b083b6c26bf1957                2012_14   \n",
       "\n",
       "  universe_training_size universe_scale universe_model  \\\n",
       "0                     1k          scale     elasticnet   \n",
       "\n",
       "  universe_exclude_features universe_exclude_subgroups     q_hat  coverage  \\\n",
       "0                       age            drop-non-german  0.779274  0.910935   \n",
       "\n",
       "   avg_size  cov_frau1  cov_nongerman  cov_nongerman_male  \\\n",
       "0  1.229384     0.9012       0.914837            0.935423   \n",
       "\n",
       "   cov_nongerman_female  \n",
       "0              0.880775  "
      ]
     },
     "execution_count": 58,
     "metadata": {},
     "output_type": "execute_result"
    }
   ],
   "source": [
    "cp_metrics_df"
   ]
  },
  {
   "cell_type": "markdown",
   "id": "33774451",
   "metadata": {
    "papermill": {
     "duration": 0.031107,
     "end_time": "2025-08-05T16:23:16.949202",
     "exception": false,
     "start_time": "2025-08-05T16:23:16.918095",
     "status": "completed"
    },
    "tags": []
   },
   "source": [
    "# (Fairness) Metrics"
   ]
  },
  {
   "cell_type": "code",
   "execution_count": 59,
   "id": "debc5d62",
   "metadata": {
    "execution": {
     "iopub.execute_input": "2025-08-05T16:23:17.004072Z",
     "iopub.status.busy": "2025-08-05T16:23:17.003054Z",
     "iopub.status.idle": "2025-08-05T16:23:17.028480Z",
     "shell.execute_reply": "2025-08-05T16:23:17.027118Z"
    },
    "papermill": {
     "duration": 0.05318,
     "end_time": "2025-08-05T16:23:17.029991",
     "exception": false,
     "start_time": "2025-08-05T16:23:16.976811",
     "status": "completed"
    },
    "tags": []
   },
   "outputs": [],
   "source": [
    "# do I need to include maxdeutsch1.missing?\n",
    "\n",
    "import numpy as np\n",
    "\n",
    "colname_to_bin = \"maxdeutsch1\"\n",
    "majority_value = org_train[colname_to_bin].mode()[0]\n",
    "\n",
    "org_test[\"majmin\"] = np.where(org_test[colname_to_bin] == majority_value, \"majority\", \"minority\")"
   ]
  },
  {
   "cell_type": "code",
   "execution_count": 60,
   "id": "06a50de5",
   "metadata": {
    "execution": {
     "iopub.execute_input": "2025-08-05T16:23:17.061944Z",
     "iopub.status.busy": "2025-08-05T16:23:17.061449Z",
     "iopub.status.idle": "2025-08-05T16:23:19.182466Z",
     "shell.execute_reply": "2025-08-05T16:23:19.181615Z"
    },
    "papermill": {
     "duration": 2.137468,
     "end_time": "2025-08-05T16:23:19.184097",
     "exception": false,
     "start_time": "2025-08-05T16:23:17.046629",
     "status": "completed"
    },
    "tags": []
   },
   "outputs": [],
   "source": [
    "example_universe = universe.copy()\n",
    "example_universe[\"cutoff\"] = example_universe[\"cutoff\"][0]\n",
    "example_universe[\"eval_fairness_grouping\"] = example_universe[\"eval_fairness_grouping\"][0]\n",
    "fairness_dict, metric_frame = universe_analysis.compute_metrics(\n",
    "    example_universe,\n",
    "    y_pred_prob=probs_test,\n",
    "    y_test=y_true,\n",
    "    org_test=org_test,\n",
    ")"
   ]
  },
  {
   "cell_type": "markdown",
   "id": "f95d4e02",
   "metadata": {
    "papermill": {
     "duration": 0.023846,
     "end_time": "2025-08-05T16:23:19.223067",
     "exception": false,
     "start_time": "2025-08-05T16:23:19.199221",
     "status": "completed"
    },
    "tags": []
   },
   "source": [
    "# Overall"
   ]
  },
  {
   "cell_type": "markdown",
   "id": "bdee4871",
   "metadata": {
    "papermill": {
     "duration": 0.029121,
     "end_time": "2025-08-05T16:23:19.282012",
     "exception": false,
     "start_time": "2025-08-05T16:23:19.252891",
     "status": "completed"
    },
    "tags": []
   },
   "source": [
    "Fairness\n",
    "Main fairness target: Equalized Odds. Seems to be a better fit than equal opportunity, since we're not only interested in Y = 1. Seems to be a better fit than demographic parity, since we also care about accuracy, not just equal distribution of preds.\n",
    "\n",
    "Pick column for computation of fairness metrics\n",
    "\n",
    "Performance\n",
    "Overall performance measures, most interesting in relation to the measures split by group below"
   ]
  },
  {
   "cell_type": "code",
   "execution_count": 61,
   "id": "c4e067c6",
   "metadata": {
    "execution": {
     "iopub.execute_input": "2025-08-05T16:23:19.340688Z",
     "iopub.status.busy": "2025-08-05T16:23:19.340261Z",
     "iopub.status.idle": "2025-08-05T16:23:19.349379Z",
     "shell.execute_reply": "2025-08-05T16:23:19.348386Z"
    },
    "papermill": {
     "duration": 0.040406,
     "end_time": "2025-08-05T16:23:19.351230",
     "exception": false,
     "start_time": "2025-08-05T16:23:19.310824",
     "status": "completed"
    },
    "tags": []
   },
   "outputs": [
    {
     "data": {
      "text/plain": [
       "accuracy                   0.217936\n",
       "balanced accuracy          0.534231\n",
       "f1                         0.239444\n",
       "precision                  0.136786\n",
       "false positive rate        0.891218\n",
       "false negative rate        0.040320\n",
       "selection rate             0.900000\n",
       "count                  89710.000000\n",
       "dtype: float64"
      ]
     },
     "execution_count": 61,
     "metadata": {},
     "output_type": "execute_result"
    }
   ],
   "source": [
    "metric_frame.overall"
   ]
  },
  {
   "cell_type": "markdown",
   "id": "e968fe9d",
   "metadata": {
    "papermill": {
     "duration": 0.029005,
     "end_time": "2025-08-05T16:23:19.409660",
     "exception": false,
     "start_time": "2025-08-05T16:23:19.380655",
     "status": "completed"
    },
    "tags": []
   },
   "source": [
    "By Group"
   ]
  },
  {
   "cell_type": "code",
   "execution_count": 62,
   "id": "ec325bce",
   "metadata": {
    "execution": {
     "iopub.execute_input": "2025-08-05T16:23:19.464789Z",
     "iopub.status.busy": "2025-08-05T16:23:19.464059Z",
     "iopub.status.idle": "2025-08-05T16:23:19.484216Z",
     "shell.execute_reply": "2025-08-05T16:23:19.483199Z"
    },
    "papermill": {
     "duration": 0.05246,
     "end_time": "2025-08-05T16:23:19.486656",
     "exception": false,
     "start_time": "2025-08-05T16:23:19.434196",
     "status": "completed"
    },
    "tags": []
   },
   "outputs": [
    {
     "data": {
      "text/html": [
       "<div>\n",
       "<style scoped>\n",
       "    .dataframe tbody tr th:only-of-type {\n",
       "        vertical-align: middle;\n",
       "    }\n",
       "\n",
       "    .dataframe tbody tr th {\n",
       "        vertical-align: top;\n",
       "    }\n",
       "\n",
       "    .dataframe thead th {\n",
       "        text-align: right;\n",
       "    }\n",
       "</style>\n",
       "<table border=\"1\" class=\"dataframe\">\n",
       "  <thead>\n",
       "    <tr style=\"text-align: right;\">\n",
       "      <th></th>\n",
       "      <th>accuracy</th>\n",
       "      <th>balanced accuracy</th>\n",
       "      <th>f1</th>\n",
       "      <th>precision</th>\n",
       "      <th>false positive rate</th>\n",
       "      <th>false negative rate</th>\n",
       "      <th>selection rate</th>\n",
       "      <th>count</th>\n",
       "    </tr>\n",
       "    <tr>\n",
       "      <th>majmin</th>\n",
       "      <th></th>\n",
       "      <th></th>\n",
       "      <th></th>\n",
       "      <th></th>\n",
       "      <th></th>\n",
       "      <th></th>\n",
       "      <th></th>\n",
       "      <th></th>\n",
       "    </tr>\n",
       "  </thead>\n",
       "  <tbody>\n",
       "    <tr>\n",
       "      <th>majority</th>\n",
       "      <td>0.233309</td>\n",
       "      <td>0.539134</td>\n",
       "      <td>0.247624</td>\n",
       "      <td>0.142259</td>\n",
       "      <td>0.876545</td>\n",
       "      <td>0.045186</td>\n",
       "      <td>0.886887</td>\n",
       "      <td>69170.0</td>\n",
       "    </tr>\n",
       "    <tr>\n",
       "      <th>minority</th>\n",
       "      <td>0.166164</td>\n",
       "      <td>0.519388</td>\n",
       "      <td>0.212950</td>\n",
       "      <td>0.119476</td>\n",
       "      <td>0.939687</td>\n",
       "      <td>0.021537</td>\n",
       "      <td>0.944158</td>\n",
       "      <td>20540.0</td>\n",
       "    </tr>\n",
       "  </tbody>\n",
       "</table>\n",
       "</div>"
      ],
      "text/plain": [
       "          accuracy  balanced accuracy        f1  precision  \\\n",
       "majmin                                                       \n",
       "majority  0.233309           0.539134  0.247624   0.142259   \n",
       "minority  0.166164           0.519388  0.212950   0.119476   \n",
       "\n",
       "          false positive rate  false negative rate  selection rate    count  \n",
       "majmin                                                                       \n",
       "majority             0.876545             0.045186        0.886887  69170.0  \n",
       "minority             0.939687             0.021537        0.944158  20540.0  "
      ]
     },
     "execution_count": 62,
     "metadata": {},
     "output_type": "execute_result"
    }
   ],
   "source": [
    "metric_frame.by_group"
   ]
  },
  {
   "cell_type": "code",
   "execution_count": 63,
   "id": "a9ddbe63",
   "metadata": {
    "execution": {
     "iopub.execute_input": "2025-08-05T16:23:19.559775Z",
     "iopub.status.busy": "2025-08-05T16:23:19.558532Z",
     "iopub.status.idle": "2025-08-05T16:23:22.360194Z",
     "shell.execute_reply": "2025-08-05T16:23:22.359004Z"
    },
    "papermill": {
     "duration": 2.841709,
     "end_time": "2025-08-05T16:23:22.362637",
     "exception": false,
     "start_time": "2025-08-05T16:23:19.520928",
     "status": "completed"
    },
    "tags": []
   },
   "outputs": [
    {
     "data": {
      "text/plain": [
       "array([[<Axes: title={'center': 'accuracy'}, xlabel='majmin'>,\n",
       "        <Axes: title={'center': 'balanced accuracy'}, xlabel='majmin'>,\n",
       "        <Axes: title={'center': 'f1'}, xlabel='majmin'>],\n",
       "       [<Axes: title={'center': 'precision'}, xlabel='majmin'>,\n",
       "        <Axes: title={'center': 'false positive rate'}, xlabel='majmin'>,\n",
       "        <Axes: title={'center': 'false negative rate'}, xlabel='majmin'>],\n",
       "       [<Axes: title={'center': 'selection rate'}, xlabel='majmin'>,\n",
       "        <Axes: title={'center': 'count'}, xlabel='majmin'>,\n",
       "        <Axes: xlabel='majmin'>]], dtype=object)"
      ]
     },
     "execution_count": 63,
     "metadata": {},
     "output_type": "execute_result"
    },
    {
     "data": {
      "image/png": "[encoded data removed]",
      "text/plain": [
       "<Figure size 1200x800 with 9 Axes>"
      ]
     },
     "metadata": {},
     "output_type": "display_data"
    }
   ],
   "source": [
    "# In a graphic\n",
    "metric_frame.by_group.plot.bar(\n",
    "    subplots=True,\n",
    "    layout=[3, 3],\n",
    "    legend=False,\n",
    "    figsize=[12, 8],\n",
    "    title=\"Show all metrics\",\n",
    ")"
   ]
  },
  {
   "cell_type": "markdown",
   "id": "f57a0bac",
   "metadata": {
    "papermill": {
     "duration": 0.030895,
     "end_time": "2025-08-05T16:23:22.427393",
     "exception": false,
     "start_time": "2025-08-05T16:23:22.396498",
     "status": "completed"
    },
    "tags": []
   },
   "source": [
    "# Final Output"
   ]
  },
  {
   "cell_type": "code",
   "execution_count": 64,
   "id": "96d280a3",
   "metadata": {
    "execution": {
     "iopub.execute_input": "2025-08-05T16:23:22.491883Z",
     "iopub.status.busy": "2025-08-05T16:23:22.491206Z",
     "iopub.status.idle": "2025-08-05T16:23:22.500973Z",
     "shell.execute_reply": "2025-08-05T16:23:22.499956Z"
    },
    "papermill": {
     "duration": 0.042864,
     "end_time": "2025-08-05T16:23:22.502785",
     "exception": false,
     "start_time": "2025-08-05T16:23:22.459921",
     "status": "completed"
    },
    "tags": []
   },
   "outputs": [
    {
     "data": {
      "text/plain": [
       "4"
      ]
     },
     "execution_count": 64,
     "metadata": {},
     "output_type": "execute_result"
    }
   ],
   "source": [
    "sub_universes = universe_analysis.generate_sub_universes()\n",
    "len(sub_universes)"
   ]
  },
  {
   "cell_type": "code",
   "execution_count": 65,
   "id": "92adf7ba",
   "metadata": {
    "execution": {
     "iopub.execute_input": "2025-08-05T16:23:22.567971Z",
     "iopub.status.busy": "2025-08-05T16:23:22.567212Z",
     "iopub.status.idle": "2025-08-05T16:23:22.574090Z",
     "shell.execute_reply": "2025-08-05T16:23:22.572995Z"
    },
    "papermill": {
     "duration": 0.04126,
     "end_time": "2025-08-05T16:23:22.575962",
     "exception": false,
     "start_time": "2025-08-05T16:23:22.534702",
     "status": "completed"
    },
    "tags": []
   },
   "outputs": [],
   "source": [
    "def filter_sub_universe_data(sub_universe, org_test):\n",
    "    # Keep all rows — no filtering\n",
    "    keep_rows_mask = np.ones(org_test.shape[0], dtype=bool)\n",
    "\n",
    "    print(f\"[INFO] Keeping all rows: {keep_rows_mask.sum()} rows retained.\")\n",
    "    return keep_rows_mask"
   ]
  },
  {
   "cell_type": "code",
   "execution_count": 66,
   "id": "4a759155",
   "metadata": {
    "execution": {
     "iopub.execute_input": "2025-08-05T16:23:22.642771Z",
     "iopub.status.busy": "2025-08-05T16:23:22.641843Z",
     "iopub.status.idle": "2025-08-05T16:23:33.613975Z",
     "shell.execute_reply": "2025-08-05T16:23:33.612674Z"
    },
    "papermill": {
     "duration": 11.007808,
     "end_time": "2025-08-05T16:23:33.615748",
     "exception": false,
     "start_time": "2025-08-05T16:23:22.607940",
     "status": "completed"
    },
    "tags": []
   },
   "outputs": [
    {
     "name": "stdout",
     "output_type": "stream",
     "text": [
      "Stopping execution_time clock.\n",
      "[INFO] Keeping all rows: 89710 rows retained.\n"
     ]
    },
    {
     "name": "stdout",
     "output_type": "stream",
     "text": [
      "[INFO] Keeping all rows: 89710 rows retained.\n"
     ]
    },
    {
     "name": "stdout",
     "output_type": "stream",
     "text": [
      "[INFO] Keeping all rows: 89710 rows retained.\n"
     ]
    },
    {
     "name": "stdout",
     "output_type": "stream",
     "text": [
      "[INFO] Keeping all rows: 89710 rows retained.\n"
     ]
    },
    {
     "data": {
      "text/html": [
       "<div>\n",
       "<style scoped>\n",
       "    .dataframe tbody tr th:only-of-type {\n",
       "        vertical-align: middle;\n",
       "    }\n",
       "\n",
       "    .dataframe tbody tr th {\n",
       "        vertical-align: top;\n",
       "    }\n",
       "\n",
       "    .dataframe thead th {\n",
       "        text-align: right;\n",
       "    }\n",
       "</style>\n",
       "<table border=\"1\" class=\"dataframe\">\n",
       "  <thead>\n",
       "    <tr style=\"text-align: right;\">\n",
       "      <th></th>\n",
       "      <th>run_no</th>\n",
       "      <th>universe_id</th>\n",
       "      <th>universe_settings</th>\n",
       "      <th>execution_time</th>\n",
       "      <th>test_size_n</th>\n",
       "      <th>test_size_frac</th>\n",
       "      <th>fair_main_equalized_odds_difference</th>\n",
       "      <th>fair_main_equalized_odds_ratio</th>\n",
       "      <th>fair_main_demographic_parity_difference</th>\n",
       "      <th>fair_main_demographic_parity_ratio</th>\n",
       "      <th>...</th>\n",
       "      <th>perf_grp_precision_0</th>\n",
       "      <th>perf_grp_precision_1</th>\n",
       "      <th>perf_grp_false positive rate_0</th>\n",
       "      <th>perf_grp_false positive rate_1</th>\n",
       "      <th>perf_grp_false negative rate_0</th>\n",
       "      <th>perf_grp_false negative rate_1</th>\n",
       "      <th>perf_grp_selection rate_0</th>\n",
       "      <th>perf_grp_selection rate_1</th>\n",
       "      <th>perf_grp_count_0</th>\n",
       "      <th>perf_grp_count_1</th>\n",
       "    </tr>\n",
       "  </thead>\n",
       "  <tbody>\n",
       "    <tr>\n",
       "      <th>0</th>\n",
       "      <td>15</td>\n",
       "      <td>6acb694263c600510b083b6c26bf1957</td>\n",
       "      <td>{\"cutoff\": \"quantile_0.1\", \"eval_fairness_grou...</td>\n",
       "      <td>30.686759</td>\n",
       "      <td>89710</td>\n",
       "      <td>1.0</td>\n",
       "      <td>0.063142</td>\n",
       "      <td>0.932805</td>\n",
       "      <td>0.05727</td>\n",
       "      <td>0.939342</td>\n",
       "      <td>...</td>\n",
       "      <td>NaN</td>\n",
       "      <td>NaN</td>\n",
       "      <td>NaN</td>\n",
       "      <td>NaN</td>\n",
       "      <td>NaN</td>\n",
       "      <td>NaN</td>\n",
       "      <td>NaN</td>\n",
       "      <td>NaN</td>\n",
       "      <td>NaN</td>\n",
       "      <td>NaN</td>\n",
       "    </tr>\n",
       "    <tr>\n",
       "      <th>0</th>\n",
       "      <td>15</td>\n",
       "      <td>6acb694263c600510b083b6c26bf1957</td>\n",
       "      <td>{\"cutoff\": \"quantile_0.1\", \"eval_fairness_grou...</td>\n",
       "      <td>30.686759</td>\n",
       "      <td>89710</td>\n",
       "      <td>1.0</td>\n",
       "      <td>0.063142</td>\n",
       "      <td>0.932805</td>\n",
       "      <td>0.05727</td>\n",
       "      <td>0.939342</td>\n",
       "      <td>...</td>\n",
       "      <td>0.119476</td>\n",
       "      <td>0.142259</td>\n",
       "      <td>0.939687</td>\n",
       "      <td>0.876545</td>\n",
       "      <td>0.021537</td>\n",
       "      <td>0.045186</td>\n",
       "      <td>0.944158</td>\n",
       "      <td>0.886887</td>\n",
       "      <td>20540.0</td>\n",
       "      <td>69170.0</td>\n",
       "    </tr>\n",
       "    <tr>\n",
       "      <th>0</th>\n",
       "      <td>15</td>\n",
       "      <td>6acb694263c600510b083b6c26bf1957</td>\n",
       "      <td>{\"cutoff\": \"quantile_0.25\", \"eval_fairness_gro...</td>\n",
       "      <td>30.686759</td>\n",
       "      <td>89710</td>\n",
       "      <td>1.0</td>\n",
       "      <td>0.143361</td>\n",
       "      <td>0.829450</td>\n",
       "      <td>0.13027</td>\n",
       "      <td>0.846820</td>\n",
       "      <td>...</td>\n",
       "      <td>NaN</td>\n",
       "      <td>NaN</td>\n",
       "      <td>NaN</td>\n",
       "      <td>NaN</td>\n",
       "      <td>NaN</td>\n",
       "      <td>NaN</td>\n",
       "      <td>NaN</td>\n",
       "      <td>NaN</td>\n",
       "      <td>NaN</td>\n",
       "      <td>NaN</td>\n",
       "    </tr>\n",
       "    <tr>\n",
       "      <th>0</th>\n",
       "      <td>15</td>\n",
       "      <td>6acb694263c600510b083b6c26bf1957</td>\n",
       "      <td>{\"cutoff\": \"quantile_0.25\", \"eval_fairness_gro...</td>\n",
       "      <td>30.686759</td>\n",
       "      <td>89710</td>\n",
       "      <td>1.0</td>\n",
       "      <td>0.143361</td>\n",
       "      <td>0.829450</td>\n",
       "      <td>0.13027</td>\n",
       "      <td>0.846820</td>\n",
       "      <td>...</td>\n",
       "      <td>0.125544</td>\n",
       "      <td>0.159794</td>\n",
       "      <td>0.840579</td>\n",
       "      <td>0.697218</td>\n",
       "      <td>0.073902</td>\n",
       "      <td>0.129103</td>\n",
       "      <td>0.850438</td>\n",
       "      <td>0.720168</td>\n",
       "      <td>20540.0</td>\n",
       "      <td>69170.0</td>\n",
       "    </tr>\n",
       "  </tbody>\n",
       "</table>\n",
       "<p>4 rows × 50 columns</p>\n",
       "</div>"
      ],
      "text/plain": [
       "  run_no                       universe_id  \\\n",
       "0     15  6acb694263c600510b083b6c26bf1957   \n",
       "0     15  6acb694263c600510b083b6c26bf1957   \n",
       "0     15  6acb694263c600510b083b6c26bf1957   \n",
       "0     15  6acb694263c600510b083b6c26bf1957   \n",
       "\n",
       "                                   universe_settings  execution_time  \\\n",
       "0  {\"cutoff\": \"quantile_0.1\", \"eval_fairness_grou...       30.686759   \n",
       "0  {\"cutoff\": \"quantile_0.1\", \"eval_fairness_grou...       30.686759   \n",
       "0  {\"cutoff\": \"quantile_0.25\", \"eval_fairness_gro...       30.686759   \n",
       "0  {\"cutoff\": \"quantile_0.25\", \"eval_fairness_gro...       30.686759   \n",
       "\n",
       "   test_size_n  test_size_frac  fair_main_equalized_odds_difference  \\\n",
       "0        89710             1.0                             0.063142   \n",
       "0        89710             1.0                             0.063142   \n",
       "0        89710             1.0                             0.143361   \n",
       "0        89710             1.0                             0.143361   \n",
       "\n",
       "   fair_main_equalized_odds_ratio  fair_main_demographic_parity_difference  \\\n",
       "0                        0.932805                                  0.05727   \n",
       "0                        0.932805                                  0.05727   \n",
       "0                        0.829450                                  0.13027   \n",
       "0                        0.829450                                  0.13027   \n",
       "\n",
       "   fair_main_demographic_parity_ratio  ...  perf_grp_precision_0  \\\n",
       "0                            0.939342  ...                   NaN   \n",
       "0                            0.939342  ...              0.119476   \n",
       "0                            0.846820  ...                   NaN   \n",
       "0                            0.846820  ...              0.125544   \n",
       "\n",
       "   perf_grp_precision_1  perf_grp_false positive rate_0  \\\n",
       "0                   NaN                             NaN   \n",
       "0              0.142259                        0.939687   \n",
       "0                   NaN                             NaN   \n",
       "0              0.159794                        0.840579   \n",
       "\n",
       "   perf_grp_false positive rate_1  perf_grp_false negative rate_0  \\\n",
       "0                             NaN                             NaN   \n",
       "0                        0.876545                        0.021537   \n",
       "0                             NaN                             NaN   \n",
       "0                        0.697218                        0.073902   \n",
       "\n",
       "   perf_grp_false negative rate_1  perf_grp_selection rate_0  \\\n",
       "0                             NaN                        NaN   \n",
       "0                        0.045186                   0.944158   \n",
       "0                             NaN                        NaN   \n",
       "0                        0.129103                   0.850438   \n",
       "\n",
       "   perf_grp_selection rate_1  perf_grp_count_0  perf_grp_count_1  \n",
       "0                        NaN               NaN               NaN  \n",
       "0                   0.886887           20540.0           69170.0  \n",
       "0                        NaN               NaN               NaN  \n",
       "0                   0.720168           20540.0           69170.0  \n",
       "\n",
       "[4 rows x 50 columns]"
      ]
     },
     "execution_count": 66,
     "metadata": {},
     "output_type": "execute_result"
    }
   ],
   "source": [
    "final_output = universe_analysis.generate_final_output(\n",
    "    y_pred_prob=probs_test,\n",
    "    y_test=y_true,\n",
    "    org_test=org_test,\n",
    "    filter_data=filter_sub_universe_data,\n",
    "    cp_metrics_df=cp_metrics_df,\n",
    "    save=True,\n",
    ")\n",
    "final_output"
   ]
  }
 ],
 "metadata": {
  "celltoolbar": "Tags",
  "kernelspec": {
   "display_name": "Python (CMA Fairness)",
   "language": "python",
   "name": "cma_fair_env"
  },
  "language_info": {
   "codemirror_mode": {
    "name": "ipython",
    "version": 3
   },
   "file_extension": ".py",
   "mimetype": "text/x-python",
   "name": "python",
   "nbconvert_exporter": "python",
   "pygments_lexer": "ipython3",
   "version": "3.10.12"
  },
  "papermill": {
   "default_parameters": {},
   "duration": 46.295017,
   "end_time": "2025-08-05T16:23:34.467152",
   "environment_variables": {},
   "exception": null,
   "input_path": "universe_analysis.ipynb",
   "output_path": "output/runs/15/notebooks/m_15-6acb694263c600510b083b6c26bf1957.ipynb",
   "parameters": {
    "output_dir": "output",
    "run_no": "15",
    "seed": "2023",
    "universe": "{\"cutoff\": [\"quantile_0.1\", \"quantile_0.25\"], \"eval_fairness_grouping\": [\"majority-minority\", \"nationality-all\"], \"exclude_features\": \"age\", \"exclude_subgroups\": \"drop-non-german\", \"model\": \"elasticnet\", \"scale\": \"scale\", \"training_size\": \"1k\", \"training_year\": \"2012_14\"}",
    "universe_id": "6acb694263c600510b083b6c26bf1957"
   },
   "start_time": "2025-08-05T16:22:48.172135",
   "version": "2.6.0"
  }
 },
 "nbformat": 4,
 "nbformat_minor": 5
}