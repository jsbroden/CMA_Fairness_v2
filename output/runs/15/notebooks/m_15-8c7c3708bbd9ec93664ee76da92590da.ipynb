{
 "cells": [
  {
   "cell_type": "code",
   "execution_count": 1,
   "id": "f159f837-637b-42ba-96b5-ec9a68c44524",
   "metadata": {
    "execution": {
     "iopub.execute_input": "2025-08-05T15:28:18.657267Z",
     "iopub.status.busy": "2025-08-05T15:28:18.656789Z",
     "iopub.status.idle": "2025-08-05T15:28:18.670692Z",
     "shell.execute_reply": "2025-08-05T15:28:18.669594Z"
    },
    "papermill": {
     "duration": 0.034295,
     "end_time": "2025-08-05T15:28:18.672496",
     "exception": false,
     "start_time": "2025-08-05T15:28:18.638201",
     "status": "completed"
    },
    "tags": []
   },
   "outputs": [
    {
     "name": "stdout",
     "output_type": "stream",
     "text": [
      "/dss/dsshome1/0C/ra93lal2/cma/CMA_Fairness_v2\n"
     ]
    },
    {
     "name": "stderr",
     "output_type": "stream",
     "text": [
      "/dss/dsshome1/0C/ra93lal2/.local/share/virtualenvs/CMA_Fairness_v2-3j10GkSs/lib/python3.10/site-packages/IPython/core/magics/osm.py:393: UserWarning: This is now an optional IPython functionality, using bookmarks requires you to install the `pickleshare` library.\n",
      "  bkms = self.shell.db.get('bookmarks', {})\n",
      "/dss/dsshome1/0C/ra93lal2/.local/share/virtualenvs/CMA_Fairness_v2-3j10GkSs/lib/python3.10/site-packages/IPython/core/magics/osm.py:417: UserWarning: This is now an optional IPython functionality, setting dhist requires you to install the `pickleshare` library.\n",
      "  self.shell.db['dhist'] = compress_dhist(dhist)[-100:]\n"
     ]
    }
   ],
   "source": [
    "%cd ~/cma/CMA_Fairness_v2"
   ]
  },
  {
   "cell_type": "markdown",
   "id": "de2603b9",
   "metadata": {
    "papermill": {
     "duration": 0.015389,
     "end_time": "2025-08-05T15:28:18.704005",
     "exception": false,
     "start_time": "2025-08-05T15:28:18.688616",
     "status": "completed"
    },
    "tags": []
   },
   "source": [
    "The following cell holds the definition of our parameters, these values can be overriden by rendering the with e.g. the following command:\n",
    "\n",
    "papermill -p alpha 0.2 -p ratio 0.3 universe_analysis.ipynb output/test_run.ipynb"
   ]
  },
  {
   "cell_type": "code",
   "execution_count": 2,
   "id": "a80968a0-40bb-4fa9-85ef-2d5eefb01975",
   "metadata": {
    "execution": {
     "iopub.execute_input": "2025-08-05T15:28:18.738171Z",
     "iopub.status.busy": "2025-08-05T15:28:18.737375Z",
     "iopub.status.idle": "2025-08-05T15:28:18.743430Z",
     "shell.execute_reply": "2025-08-05T15:28:18.742434Z"
    },
    "papermill": {
     "duration": 0.024797,
     "end_time": "2025-08-05T15:28:18.745033",
     "exception": false,
     "start_time": "2025-08-05T15:28:18.720236",
     "status": "completed"
    },
    "tags": []
   },
   "outputs": [
    {
     "name": "stdout",
     "output_type": "stream",
     "text": [
      "Current working directory: /dss/dsshome1/0C/ra93lal2/cma/CMA_Fairness_v2\n"
     ]
    }
   ],
   "source": [
    "import os\n",
    "print(\"Current working directory:\", os.getcwd())"
   ]
  },
  {
   "cell_type": "code",
   "execution_count": 3,
   "id": "2dce4c03",
   "metadata": {
    "execution": {
     "iopub.execute_input": "2025-08-05T15:28:18.779806Z",
     "iopub.status.busy": "2025-08-05T15:28:18.779061Z",
     "iopub.status.idle": "2025-08-05T15:28:18.785283Z",
     "shell.execute_reply": "2025-08-05T15:28:18.784183Z"
    },
    "papermill": {
     "duration": 0.025774,
     "end_time": "2025-08-05T15:28:18.787322",
     "exception": false,
     "start_time": "2025-08-05T15:28:18.761548",
     "status": "completed"
    },
    "tags": [
     "parameters"
    ]
   },
   "outputs": [],
   "source": [
    "run_no = 0\n",
    "universe_id = \"test\"\n",
    "universe = {\n",
    "    \"training_size\": \"25k\", # \"25k\", \"5k\", \"1k\"\n",
    "    \"training_year\": \"2014\", # \"2014\", \"2012_14\", \"2010_14\"\n",
    "    \"scale\": \"scale\", # \"scale\", \"do-not-scale\",\n",
    "    \"model\": \"elasticnet\", # \"logreg\", \"penalized_logreg\", \"rf\", \"gbm\", \"elasticnet\"\n",
    "    \"cutoff\": [\"quantile_0.15\", \"quantile_0.30\"],\n",
    "    \"exclude_features\": \"age\", # \"none\", \"nationality\", \"sex\", \"nationality-sex\", \"age\"\n",
    "    \"exclude_subgroups\": \"keep-all\", # \"keep-all\", \"drop-non-german\"\n",
    "    \"eval_fairness_grouping\": [\"majority-minority\", \"nationality-all\"]\n",
    "}\n",
    "\n",
    "output_dir=\"./output\"\n",
    "seed=0"
   ]
  },
  {
   "cell_type": "code",
   "execution_count": 4,
   "id": "6abc661a",
   "metadata": {
    "execution": {
     "iopub.execute_input": "2025-08-05T15:28:18.822801Z",
     "iopub.status.busy": "2025-08-05T15:28:18.821916Z",
     "iopub.status.idle": "2025-08-05T15:28:18.827600Z",
     "shell.execute_reply": "2025-08-05T15:28:18.826620Z"
    },
    "papermill": {
     "duration": 0.024721,
     "end_time": "2025-08-05T15:28:18.829278",
     "exception": false,
     "start_time": "2025-08-05T15:28:18.804557",
     "status": "completed"
    },
    "tags": [
     "injected-parameters"
    ]
   },
   "outputs": [],
   "source": [
    "# Parameters\n",
    "universe_id = \"8c7c3708bbd9ec93664ee76da92590da\"\n",
    "run_no = \"15\"\n",
    "universe = \"{\\\"cutoff\\\": [\\\"quantile_0.1\\\", \\\"quantile_0.25\\\"], \\\"eval_fairness_grouping\\\": [\\\"majority-minority\\\", \\\"nationality-all\\\"], \\\"exclude_features\\\": \\\"none\\\", \\\"exclude_subgroups\\\": \\\"drop-non-german\\\", \\\"model\\\": \\\"penalized_logreg\\\", \\\"scale\\\": \\\"do-not-scale\\\", \\\"training_size\\\": \\\"5k\\\", \\\"training_year\\\": \\\"2014\\\"}\"\n",
    "output_dir = \"output\"\n",
    "seed = \"2023\"\n"
   ]
  },
  {
   "cell_type": "code",
   "execution_count": 5,
   "id": "1650acaf",
   "metadata": {
    "execution": {
     "iopub.execute_input": "2025-08-05T15:28:18.865675Z",
     "iopub.status.busy": "2025-08-05T15:28:18.864794Z",
     "iopub.status.idle": "2025-08-05T15:28:18.870201Z",
     "shell.execute_reply": "2025-08-05T15:28:18.869176Z"
    },
    "papermill": {
     "duration": 0.024814,
     "end_time": "2025-08-05T15:28:18.872067",
     "exception": false,
     "start_time": "2025-08-05T15:28:18.847253",
     "status": "completed"
    },
    "tags": []
   },
   "outputs": [],
   "source": [
    "import json\n",
    "if isinstance(universe, str):\n",
    "    universe = json.loads(universe)"
   ]
  },
  {
   "cell_type": "code",
   "execution_count": 6,
   "id": "16620c48",
   "metadata": {
    "execution": {
     "iopub.execute_input": "2025-08-05T15:28:18.906358Z",
     "iopub.status.busy": "2025-08-05T15:28:18.905609Z",
     "iopub.status.idle": "2025-08-05T15:28:18.948801Z",
     "shell.execute_reply": "2025-08-05T15:28:18.947903Z"
    },
    "papermill": {
     "duration": 0.061519,
     "end_time": "2025-08-05T15:28:18.950602",
     "exception": false,
     "start_time": "2025-08-05T15:28:18.889083",
     "status": "completed"
    },
    "tags": []
   },
   "outputs": [],
   "source": [
    "# Auto-reload the custom package\n",
    "%load_ext autoreload\n",
    "%autoreload 1\n",
    "%aimport fairness_multiverse"
   ]
  },
  {
   "cell_type": "code",
   "execution_count": 7,
   "id": "01c5c9f3",
   "metadata": {
    "execution": {
     "iopub.execute_input": "2025-08-05T15:28:18.986681Z",
     "iopub.status.busy": "2025-08-05T15:28:18.985880Z",
     "iopub.status.idle": "2025-08-05T15:28:20.876701Z",
     "shell.execute_reply": "2025-08-05T15:28:20.875694Z"
    },
    "papermill": {
     "duration": 1.910441,
     "end_time": "2025-08-05T15:28:20.878744",
     "exception": false,
     "start_time": "2025-08-05T15:28:18.968303",
     "status": "completed"
    },
    "tags": []
   },
   "outputs": [],
   "source": [
    "from fairness_multiverse.universe import UniverseAnalysis\n",
    "\n",
    "universe_analysis = UniverseAnalysis(\n",
    "    run_no = run_no,\n",
    "    universe_id = universe_id,\n",
    "    universe = universe,\n",
    "    output_dir=output_dir,\n",
    ")"
   ]
  },
  {
   "cell_type": "code",
   "execution_count": 8,
   "id": "106241f5",
   "metadata": {
    "execution": {
     "iopub.execute_input": "2025-08-05T15:28:20.914861Z",
     "iopub.status.busy": "2025-08-05T15:28:20.914218Z",
     "iopub.status.idle": "2025-08-05T15:28:20.920981Z",
     "shell.execute_reply": "2025-08-05T15:28:20.919998Z"
    },
    "papermill": {
     "duration": 0.026445,
     "end_time": "2025-08-05T15:28:20.923013",
     "exception": false,
     "start_time": "2025-08-05T15:28:20.896568",
     "status": "completed"
    },
    "tags": []
   },
   "outputs": [
    {
     "name": "stdout",
     "output_type": "stream",
     "text": [
      "Using Seed: 2023\n"
     ]
    }
   ],
   "source": [
    "import numpy as np\n",
    "parsed_seed = int(seed)\n",
    "np.random.seed(parsed_seed)\n",
    "print(f\"Using Seed: {parsed_seed}\")"
   ]
  },
  {
   "cell_type": "markdown",
   "id": "e0ebdc57",
   "metadata": {
    "papermill": {
     "duration": 0.016669,
     "end_time": "2025-08-05T15:28:20.956838",
     "exception": false,
     "start_time": "2025-08-05T15:28:20.940169",
     "status": "completed"
    },
    "tags": []
   },
   "source": [
    "# Loading Data"
   ]
  },
  {
   "cell_type": "code",
   "execution_count": 9,
   "id": "f0496b8a",
   "metadata": {
    "execution": {
     "iopub.execute_input": "2025-08-05T15:28:20.991615Z",
     "iopub.status.busy": "2025-08-05T15:28:20.990878Z",
     "iopub.status.idle": "2025-08-05T15:28:33.437174Z",
     "shell.execute_reply": "2025-08-05T15:28:33.435883Z"
    },
    "papermill": {
     "duration": 12.46551,
     "end_time": "2025-08-05T15:28:33.439095",
     "exception": false,
     "start_time": "2025-08-05T15:28:20.973585",
     "status": "completed"
    },
    "tags": []
   },
   "outputs": [
    {
     "name": "stdout",
     "output_type": "stream",
     "text": [
      "Loading SIAB data from cache: data/siab_cached.csv.gz\n"
     ]
    },
    {
     "name": "stdout",
     "output_type": "stream",
     "text": [
      "(643690, 164)\n"
     ]
    }
   ],
   "source": [
    "from pathlib import Path\n",
    "import pandas as pd\n",
    "\n",
    "# File paths\n",
    "raw_file = Path(\"data/raw/siab.csv\")\n",
    "cache_file = Path(\"data/siab_cached.csv.gz\")\n",
    "\n",
    "# Ensure cache directory exists\n",
    "cache_file.parent.mkdir(parents=True, exist_ok=True)\n",
    "\n",
    "# Load with simple caching\n",
    "if cache_file.exists():\n",
    "    print(f\"Loading SIAB data from cache: {cache_file}\")\n",
    "    siab = pd.read_csv(cache_file, compression='gzip')\n",
    "else:\n",
    "    print(f\"Cache not found. Reading raw SIAB data: {raw_file}\")\n",
    "    siab = pd.read_csv(raw_file)\n",
    "    siab.to_csv(cache_file, index=False, compression='gzip')\n",
    "    print(f\"Cached SIAB data to: {cache_file}\")\n",
    "\n",
    "print(siab.shape)"
   ]
  },
  {
   "cell_type": "code",
   "execution_count": 10,
   "id": "db0ca512-5f53-4dba-abdb-a2888bca41ba",
   "metadata": {
    "execution": {
     "iopub.execute_input": "2025-08-05T15:28:33.480313Z",
     "iopub.status.busy": "2025-08-05T15:28:33.479752Z",
     "iopub.status.idle": "2025-08-05T15:28:33.485785Z",
     "shell.execute_reply": "2025-08-05T15:28:33.484791Z"
    },
    "papermill": {
     "duration": 0.028416,
     "end_time": "2025-08-05T15:28:33.487898",
     "exception": false,
     "start_time": "2025-08-05T15:28:33.459482",
     "status": "completed"
    },
    "tags": []
   },
   "outputs": [],
   "source": [
    "#siab"
   ]
  },
  {
   "cell_type": "markdown",
   "id": "997051c5-15bd-4b69-9786-c3001a3ce484",
   "metadata": {
    "papermill": {
     "duration": 0.016368,
     "end_time": "2025-08-05T15:28:33.522554",
     "exception": false,
     "start_time": "2025-08-05T15:28:33.506186",
     "status": "completed"
    },
    "tags": []
   },
   "source": [
    "# Splitting Data and Setting Training Data Size"
   ]
  },
  {
   "cell_type": "code",
   "execution_count": 11,
   "id": "aea9c6ef-6f46-42c8-85eb-5a62025c1508",
   "metadata": {
    "execution": {
     "iopub.execute_input": "2025-08-05T15:28:33.559307Z",
     "iopub.status.busy": "2025-08-05T15:28:33.558668Z",
     "iopub.status.idle": "2025-08-05T15:28:33.824726Z",
     "shell.execute_reply": "2025-08-05T15:28:33.823695Z"
    },
    "papermill": {
     "duration": 0.287175,
     "end_time": "2025-08-05T15:28:33.826957",
     "exception": false,
     "start_time": "2025-08-05T15:28:33.539782",
     "status": "completed"
    },
    "tags": []
   },
   "outputs": [],
   "source": [
    "from fairness_multiverse.universe import sample_by_year_size\n",
    "\n",
    "siab_train = sample_by_year_size(siab,\n",
    "                               training_year=universe[\"training_year\"],\n",
    "                               training_size=universe[\"training_size\"])"
   ]
  },
  {
   "cell_type": "code",
   "execution_count": 12,
   "id": "8d3afb32-789d-442c-8d5d-9f5aa8dd2eed",
   "metadata": {
    "execution": {
     "iopub.execute_input": "2025-08-05T15:28:33.870252Z",
     "iopub.status.busy": "2025-08-05T15:28:33.869244Z",
     "iopub.status.idle": "2025-08-05T15:28:33.874617Z",
     "shell.execute_reply": "2025-08-05T15:28:33.873576Z"
    },
    "papermill": {
     "duration": 0.029104,
     "end_time": "2025-08-05T15:28:33.876511",
     "exception": false,
     "start_time": "2025-08-05T15:28:33.847407",
     "status": "completed"
    },
    "tags": []
   },
   "outputs": [],
   "source": [
    "#siab_train.shape"
   ]
  },
  {
   "cell_type": "code",
   "execution_count": 13,
   "id": "d582db68-1a4c-47fb-84fc-08518dc1975a",
   "metadata": {
    "execution": {
     "iopub.execute_input": "2025-08-05T15:28:33.916096Z",
     "iopub.status.busy": "2025-08-05T15:28:33.915614Z",
     "iopub.status.idle": "2025-08-05T15:28:33.920506Z",
     "shell.execute_reply": "2025-08-05T15:28:33.919477Z"
    },
    "papermill": {
     "duration": 0.025206,
     "end_time": "2025-08-05T15:28:33.922656",
     "exception": false,
     "start_time": "2025-08-05T15:28:33.897450",
     "status": "completed"
    },
    "tags": []
   },
   "outputs": [],
   "source": [
    "#display(siab_train.groupby(\"year\").size())"
   ]
  },
  {
   "cell_type": "code",
   "execution_count": 14,
   "id": "a561edb4-d032-42cb-8256-22eac1111c64",
   "metadata": {
    "execution": {
     "iopub.execute_input": "2025-08-05T15:28:33.960596Z",
     "iopub.status.busy": "2025-08-05T15:28:33.959822Z",
     "iopub.status.idle": "2025-08-05T15:28:34.206205Z",
     "shell.execute_reply": "2025-08-05T15:28:34.205099Z"
    },
    "papermill": {
     "duration": 0.265828,
     "end_time": "2025-08-05T15:28:34.208276",
     "exception": false,
     "start_time": "2025-08-05T15:28:33.942448",
     "status": "completed"
    },
    "tags": []
   },
   "outputs": [],
   "source": [
    "#siab_train = siab_s[siab_s.year < 2015]\n",
    "siab_calib = siab[siab.year == 2015]\n",
    "siab_test = siab[siab.year == 2016]"
   ]
  },
  {
   "cell_type": "code",
   "execution_count": 15,
   "id": "472de16f-c3db-4916-846b-1f0de9cf1746",
   "metadata": {
    "execution": {
     "iopub.execute_input": "2025-08-05T15:28:34.247602Z",
     "iopub.status.busy": "2025-08-05T15:28:34.247076Z",
     "iopub.status.idle": "2025-08-05T15:28:34.255930Z",
     "shell.execute_reply": "2025-08-05T15:28:34.254719Z"
    },
    "papermill": {
     "duration": 0.030809,
     "end_time": "2025-08-05T15:28:34.258158",
     "exception": false,
     "start_time": "2025-08-05T15:28:34.227349",
     "status": "completed"
    },
    "tags": []
   },
   "outputs": [],
   "source": [
    "X_train = siab_train.iloc[:,4:164]\n",
    "y_train = siab_train.iloc[:, [3]]"
   ]
  },
  {
   "cell_type": "code",
   "execution_count": 16,
   "id": "828c96af-f43a-4ed6-ba47-8ac73a47d56c",
   "metadata": {
    "execution": {
     "iopub.execute_input": "2025-08-05T15:28:34.295907Z",
     "iopub.status.busy": "2025-08-05T15:28:34.295194Z",
     "iopub.status.idle": "2025-08-05T15:28:34.345916Z",
     "shell.execute_reply": "2025-08-05T15:28:34.344658Z"
    },
    "papermill": {
     "duration": 0.070798,
     "end_time": "2025-08-05T15:28:34.347910",
     "exception": false,
     "start_time": "2025-08-05T15:28:34.277112",
     "status": "completed"
    },
    "tags": []
   },
   "outputs": [],
   "source": [
    "X_calib = siab_calib.iloc[:,4:164]\n",
    "y_calib = siab_calib.iloc[:, [3]]"
   ]
  },
  {
   "cell_type": "code",
   "execution_count": 17,
   "id": "c34be9c3-6bd6-476e-acd3-845840e303be",
   "metadata": {
    "execution": {
     "iopub.execute_input": "2025-08-05T15:28:34.385619Z",
     "iopub.status.busy": "2025-08-05T15:28:34.384729Z",
     "iopub.status.idle": "2025-08-05T15:28:34.436917Z",
     "shell.execute_reply": "2025-08-05T15:28:34.435809Z"
    },
    "papermill": {
     "duration": 0.072801,
     "end_time": "2025-08-05T15:28:34.439113",
     "exception": false,
     "start_time": "2025-08-05T15:28:34.366312",
     "status": "completed"
    },
    "tags": []
   },
   "outputs": [],
   "source": [
    "X_test = siab_test.iloc[:,4:164]\n",
    "y_true = siab_test.iloc[:, [3]]"
   ]
  },
  {
   "cell_type": "code",
   "execution_count": 18,
   "id": "e6c733c5",
   "metadata": {
    "execution": {
     "iopub.execute_input": "2025-08-05T15:28:34.477651Z",
     "iopub.status.busy": "2025-08-05T15:28:34.476844Z",
     "iopub.status.idle": "2025-08-05T15:28:34.571526Z",
     "shell.execute_reply": "2025-08-05T15:28:34.570524Z"
    },
    "papermill": {
     "duration": 0.114606,
     "end_time": "2025-08-05T15:28:34.573320",
     "exception": false,
     "start_time": "2025-08-05T15:28:34.458714",
     "status": "completed"
    },
    "tags": []
   },
   "outputs": [],
   "source": [
    "# Auxiliary data needed downstream in the pipeline\n",
    "\n",
    "org_train = X_train.copy()\n",
    "org_test = X_test.copy()\n",
    "org_calib = X_calib.copy()"
   ]
  },
  {
   "cell_type": "markdown",
   "id": "0a4a1b33",
   "metadata": {
    "papermill": {
     "duration": 0.017444,
     "end_time": "2025-08-05T15:28:34.608431",
     "exception": false,
     "start_time": "2025-08-05T15:28:34.590987",
     "status": "completed"
    },
    "tags": []
   },
   "source": [
    "# Preprocessing Data"
   ]
  },
  {
   "cell_type": "code",
   "execution_count": 19,
   "id": "ca879031",
   "metadata": {
    "execution": {
     "iopub.execute_input": "2025-08-05T15:28:34.645040Z",
     "iopub.status.busy": "2025-08-05T15:28:34.644394Z",
     "iopub.status.idle": "2025-08-05T15:28:34.650660Z",
     "shell.execute_reply": "2025-08-05T15:28:34.649543Z"
    },
    "papermill": {
     "duration": 0.026379,
     "end_time": "2025-08-05T15:28:34.652726",
     "exception": false,
     "start_time": "2025-08-05T15:28:34.626347",
     "status": "completed"
    },
    "tags": []
   },
   "outputs": [],
   "source": [
    "# EXCLUDE PROTECTED FEATURES\n",
    "# ----------------------\n",
    "# \"exclude_features\": \"none\", # \"nationality\", \"sex\", \"nationality-sex\"\n",
    "\n",
    "excluded_features = universe[\"exclude_features\"].split(\"-\") # split, e.g.: \"nationality-sex\" -> [\"nationality\", \"sex\"]\n",
    "excluded_features_dictionary = {\n",
    "    \"nationality\": [\"maxdeutsch1\", \"maxdeutsch.Missing.\"],\n",
    "    \"sex\": [\"frau1\"],\n",
    "    \"age\": [\"age\"],\n",
    "}"
   ]
  },
  {
   "cell_type": "code",
   "execution_count": 20,
   "id": "b745ac60",
   "metadata": {
    "execution": {
     "iopub.execute_input": "2025-08-05T15:28:34.690766Z",
     "iopub.status.busy": "2025-08-05T15:28:34.689980Z",
     "iopub.status.idle": "2025-08-05T15:28:34.695324Z",
     "shell.execute_reply": "2025-08-05T15:28:34.694362Z"
    },
    "papermill": {
     "duration": 0.026042,
     "end_time": "2025-08-05T15:28:34.697242",
     "exception": false,
     "start_time": "2025-08-05T15:28:34.671200",
     "status": "completed"
    },
    "tags": []
   },
   "outputs": [],
   "source": [
    "# Code nice names to column names\n",
    "\n",
    "excluded_features_columns = [\n",
    "    excluded_features_dictionary[f] for f in excluded_features if len(f) > 0 and f != \"none\"\n",
    "]"
   ]
  },
  {
   "cell_type": "code",
   "execution_count": 21,
   "id": "f84f73a2",
   "metadata": {
    "execution": {
     "iopub.execute_input": "2025-08-05T15:28:34.734696Z",
     "iopub.status.busy": "2025-08-05T15:28:34.734225Z",
     "iopub.status.idle": "2025-08-05T15:28:34.741696Z",
     "shell.execute_reply": "2025-08-05T15:28:34.740482Z"
    },
    "papermill": {
     "duration": 0.028453,
     "end_time": "2025-08-05T15:28:34.743671",
     "exception": false,
     "start_time": "2025-08-05T15:28:34.715218",
     "status": "completed"
    },
    "tags": []
   },
   "outputs": [],
   "source": [
    "from utils import flatten_once\n",
    "\n",
    "excluded_features_columns = flatten_once(excluded_features_columns)"
   ]
  },
  {
   "cell_type": "code",
   "execution_count": 22,
   "id": "884dea22",
   "metadata": {
    "execution": {
     "iopub.execute_input": "2025-08-05T15:28:34.781987Z",
     "iopub.status.busy": "2025-08-05T15:28:34.781392Z",
     "iopub.status.idle": "2025-08-05T15:28:34.786809Z",
     "shell.execute_reply": "2025-08-05T15:28:34.785742Z"
    },
    "papermill": {
     "duration": 0.026544,
     "end_time": "2025-08-05T15:28:34.788855",
     "exception": false,
     "start_time": "2025-08-05T15:28:34.762311",
     "status": "completed"
    },
    "tags": []
   },
   "outputs": [],
   "source": [
    "if len(excluded_features_columns) > 0:\n",
    "    print(f\"Dropping features: {excluded_features_columns}\")\n",
    "    X_train.drop(excluded_features_columns, axis=1, inplace=True)"
   ]
  },
  {
   "cell_type": "code",
   "execution_count": 23,
   "id": "95ab8b16",
   "metadata": {
    "execution": {
     "iopub.execute_input": "2025-08-05T15:28:34.828531Z",
     "iopub.status.busy": "2025-08-05T15:28:34.827875Z",
     "iopub.status.idle": "2025-08-05T15:28:34.833400Z",
     "shell.execute_reply": "2025-08-05T15:28:34.832424Z"
    },
    "papermill": {
     "duration": 0.026422,
     "end_time": "2025-08-05T15:28:34.835291",
     "exception": false,
     "start_time": "2025-08-05T15:28:34.808869",
     "status": "completed"
    },
    "tags": []
   },
   "outputs": [],
   "source": [
    "if len(excluded_features_columns) > 0:\n",
    "    print(f\"Dropping features: {excluded_features_columns}\")\n",
    "    X_test.drop(excluded_features_columns, axis=1, inplace=True)"
   ]
  },
  {
   "cell_type": "code",
   "execution_count": 24,
   "id": "1853aaf5-fb9f-46cb-a2b5-8ea4ae2237e4",
   "metadata": {
    "execution": {
     "iopub.execute_input": "2025-08-05T15:28:34.874242Z",
     "iopub.status.busy": "2025-08-05T15:28:34.873825Z",
     "iopub.status.idle": "2025-08-05T15:28:34.879935Z",
     "shell.execute_reply": "2025-08-05T15:28:34.878930Z"
    },
    "papermill": {
     "duration": 0.026192,
     "end_time": "2025-08-05T15:28:34.881635",
     "exception": false,
     "start_time": "2025-08-05T15:28:34.855443",
     "status": "completed"
    },
    "tags": []
   },
   "outputs": [],
   "source": [
    "if len(excluded_features_columns) > 0:\n",
    "    print(f\"Dropping features: {excluded_features_columns}\")\n",
    "    X_calib.drop(excluded_features_columns, axis=1, inplace=True)"
   ]
  },
  {
   "cell_type": "code",
   "execution_count": 25,
   "id": "76c4dc6d",
   "metadata": {
    "execution": {
     "iopub.execute_input": "2025-08-05T15:28:34.920575Z",
     "iopub.status.busy": "2025-08-05T15:28:34.920294Z",
     "iopub.status.idle": "2025-08-05T15:28:34.924775Z",
     "shell.execute_reply": "2025-08-05T15:28:34.923961Z"
    },
    "papermill": {
     "duration": 0.024535,
     "end_time": "2025-08-05T15:28:34.926175",
     "exception": false,
     "start_time": "2025-08-05T15:28:34.901640",
     "status": "completed"
    },
    "tags": []
   },
   "outputs": [],
   "source": [
    "# EXCLUDE CERTAIN SUBGROUPS\n",
    "# ----------------------\n",
    "\n",
    "mode = universe.get(\"exclude_subgroups\", \"keep-all\") \n",
    "# Fetches the exclude_subgroups setting from the universe dict.\n",
    "# Defaults to \"keep-all\" if the key is missing."
   ]
  },
  {
   "cell_type": "code",
   "execution_count": 26,
   "id": "21994072",
   "metadata": {
    "execution": {
     "iopub.execute_input": "2025-08-05T15:28:34.948328Z",
     "iopub.status.busy": "2025-08-05T15:28:34.947829Z",
     "iopub.status.idle": "2025-08-05T15:28:34.953306Z",
     "shell.execute_reply": "2025-08-05T15:28:34.952470Z"
    },
    "papermill": {
     "duration": 0.018005,
     "end_time": "2025-08-05T15:28:34.955227",
     "exception": false,
     "start_time": "2025-08-05T15:28:34.937222",
     "status": "completed"
    },
    "tags": []
   },
   "outputs": [],
   "source": [
    "if mode == \"keep-all\":\n",
    "    keep_mask = pd.Series(True, index=org_train.index)\n",
    "\n",
    "# org_train contains the original feature columns from features_org (in Simson)\n",
    "# features_org contains unprocessed features, for me X_train at beginning ???\n",
    "# For keep-all, creates a boolean Series (keep_mask) of all True, so no rows are removed.\n",
    "\n",
    "elif mode == \"drop-non-german\":\n",
    "    keep_mask = org_train[\"maxdeutsch1\"] == 1 # ??? what about missing values?\n",
    "\n",
    "else:\n",
    "    raise ValueError(f\"Unsupported mode for exclude_subgroups: {mode}\")"
   ]
  },
  {
   "cell_type": "code",
   "execution_count": 27,
   "id": "71651440",
   "metadata": {
    "execution": {
     "iopub.execute_input": "2025-08-05T15:28:34.975828Z",
     "iopub.status.busy": "2025-08-05T15:28:34.975331Z",
     "iopub.status.idle": "2025-08-05T15:28:34.982720Z",
     "shell.execute_reply": "2025-08-05T15:28:34.981694Z"
    },
    "papermill": {
     "duration": 0.01868,
     "end_time": "2025-08-05T15:28:34.984301",
     "exception": false,
     "start_time": "2025-08-05T15:28:34.965621",
     "status": "completed"
    },
    "tags": []
   },
   "outputs": [
    {
     "name": "stdout",
     "output_type": "stream",
     "text": [
      "Dropping 741 rows (14.82%) where mode='drop-non-german'\n"
     ]
    }
   ],
   "source": [
    "n_drop = (~keep_mask).sum() # Calculates how many rows are set to be dropped\n",
    "if n_drop > 0:\n",
    "    pct = n_drop / len(keep_mask) * 100\n",
    "    print(f\"Dropping {n_drop} rows ({pct:.2f}%) where mode='{mode}'\")"
   ]
  },
  {
   "cell_type": "code",
   "execution_count": 28,
   "id": "5fb8eee5",
   "metadata": {
    "execution": {
     "iopub.execute_input": "2025-08-05T15:28:35.004918Z",
     "iopub.status.busy": "2025-08-05T15:28:35.004407Z",
     "iopub.status.idle": "2025-08-05T15:28:35.011129Z",
     "shell.execute_reply": "2025-08-05T15:28:35.010093Z"
    },
    "papermill": {
     "duration": 0.018375,
     "end_time": "2025-08-05T15:28:35.012789",
     "exception": false,
     "start_time": "2025-08-05T15:28:34.994414",
     "status": "completed"
    },
    "tags": []
   },
   "outputs": [],
   "source": [
    "X_train = X_train[keep_mask]"
   ]
  },
  {
   "cell_type": "code",
   "execution_count": 29,
   "id": "b202bb3a",
   "metadata": {
    "execution": {
     "iopub.execute_input": "2025-08-05T15:28:35.045381Z",
     "iopub.status.busy": "2025-08-05T15:28:35.045074Z",
     "iopub.status.idle": "2025-08-05T15:28:35.050170Z",
     "shell.execute_reply": "2025-08-05T15:28:35.049377Z"
    },
    "papermill": {
     "duration": 0.020731,
     "end_time": "2025-08-05T15:28:35.051628",
     "exception": false,
     "start_time": "2025-08-05T15:28:35.030897",
     "status": "completed"
    },
    "tags": []
   },
   "outputs": [],
   "source": [
    "y_train = y_train[keep_mask]"
   ]
  },
  {
   "cell_type": "markdown",
   "id": "493e2ac3",
   "metadata": {
    "papermill": {
     "duration": 0.019856,
     "end_time": "2025-08-05T15:28:35.082507",
     "exception": false,
     "start_time": "2025-08-05T15:28:35.062651",
     "status": "completed"
    },
    "tags": []
   },
   "source": [
    "# Model Training"
   ]
  },
  {
   "cell_type": "code",
   "execution_count": 30,
   "id": "679e1268",
   "metadata": {
    "execution": {
     "iopub.execute_input": "2025-08-05T15:28:35.124207Z",
     "iopub.status.busy": "2025-08-05T15:28:35.123753Z",
     "iopub.status.idle": "2025-08-05T15:28:35.209557Z",
     "shell.execute_reply": "2025-08-05T15:28:35.208770Z"
    },
    "papermill": {
     "duration": 0.10797,
     "end_time": "2025-08-05T15:28:35.210945",
     "exception": false,
     "start_time": "2025-08-05T15:28:35.102975",
     "status": "completed"
    },
    "tags": []
   },
   "outputs": [],
   "source": [
    "from sklearn.linear_model import LogisticRegression\n",
    "from sklearn.ensemble import GradientBoostingClassifier, RandomForestClassifier\n",
    "\n",
    "if (universe[\"model\"] == \"logreg\"):\n",
    "    model = LogisticRegression() #penalty=\"none\", solver=\"newton-cg\", max_iter=1) # include random_state=19 ?\n",
    "elif (universe[\"model\"] == \"penalized_logreg\"):\n",
    "    model = LogisticRegression(penalty=\"l2\", C=0.1) #, solver=\"newton-cg\", max_iter=1)\n",
    "elif (universe[\"model\"] == \"rf\"):\n",
    "    model = RandomForestClassifier() # n_estimators=100, n_jobs=-1\n",
    "elif (universe[\"model\"] == \"gbm\"):\n",
    "    model = GradientBoostingClassifier()\n",
    "elif (universe[\"model\"] == \"elasticnet\"):\n",
    "    model = LogisticRegression(penalty = 'elasticnet', solver = 'saga', l1_ratio = 0.5) # max_iter=5000\n",
    "else:\n",
    "    raise \"Unsupported universe.model\""
   ]
  },
  {
   "cell_type": "code",
   "execution_count": 31,
   "id": "0cc8f744",
   "metadata": {
    "execution": {
     "iopub.execute_input": "2025-08-05T15:28:35.232553Z",
     "iopub.status.busy": "2025-08-05T15:28:35.231906Z",
     "iopub.status.idle": "2025-08-05T15:28:35.237091Z",
     "shell.execute_reply": "2025-08-05T15:28:35.236336Z"
    },
    "papermill": {
     "duration": 0.017567,
     "end_time": "2025-08-05T15:28:35.238694",
     "exception": false,
     "start_time": "2025-08-05T15:28:35.221127",
     "status": "completed"
    },
    "tags": []
   },
   "outputs": [],
   "source": [
    "import numpy as np\n",
    "from sklearn.pipeline import Pipeline\n",
    "from sklearn.preprocessing import StandardScaler\n",
    "\n",
    "model = Pipeline([\n",
    "    #(\"continuous_processor\", continuous_processor),\n",
    "    #(\"categorical_preprocessor\", categorical_preprocessor),\n",
    "    (\"scale\", StandardScaler() if universe[\"scale\"] == \"scale\" else None), \n",
    "    (\"model\", model),\n",
    "])"
   ]
  },
  {
   "cell_type": "code",
   "execution_count": 32,
   "id": "9442c04d",
   "metadata": {
    "execution": {
     "iopub.execute_input": "2025-08-05T15:28:35.260432Z",
     "iopub.status.busy": "2025-08-05T15:28:35.260044Z",
     "iopub.status.idle": "2025-08-05T15:28:35.352100Z",
     "shell.execute_reply": "2025-08-05T15:28:35.351216Z"
    },
    "papermill": {
     "duration": 0.104431,
     "end_time": "2025-08-05T15:28:35.354147",
     "exception": false,
     "start_time": "2025-08-05T15:28:35.249716",
     "status": "completed"
    },
    "tags": []
   },
   "outputs": [
    {
     "name": "stderr",
     "output_type": "stream",
     "text": [
      "/dss/dsshome1/0C/ra93lal2/.local/share/virtualenvs/CMA_Fairness_v2-3j10GkSs/lib/python3.10/site-packages/sklearn/linear_model/_logistic.py:444: ConvergenceWarning: lbfgs failed to converge (status=1):\n",
      "STOP: TOTAL NO. of ITERATIONS REACHED LIMIT.\n",
      "\n",
      "Increase the number of iterations (max_iter) or scale the data as shown in:\n",
      "    https://scikit-learn.org/stable/modules/preprocessing.html\n",
      "Please also refer to the documentation for alternative solver options:\n",
      "    https://scikit-learn.org/stable/modules/linear_model.html#logistic-regression\n",
      "  n_iter_i = _check_optimize_result(\n"
     ]
    },
    {
     "data": {
      "text/html": [
       "<style>#sk-container-id-1 {color: black;background-color: white;}#sk-container-id-1 pre{padding: 0;}#sk-container-id-1 div.sk-toggleable {background-color: white;}#sk-container-id-1 label.sk-toggleable__label {cursor: pointer;display: block;width: 100%;margin-bottom: 0;padding: 0.3em;box-sizing: border-box;text-align: center;}#sk-container-id-1 label.sk-toggleable__label-arrow:before {content: \"▸\";float: left;margin-right: 0.25em;color: #696969;}#sk-container-id-1 label.sk-toggleable__label-arrow:hover:before {color: black;}#sk-container-id-1 div.sk-estimator:hover label.sk-toggleable__label-arrow:before {color: black;}#sk-container-id-1 div.sk-toggleable__content {max-height: 0;max-width: 0;overflow: hidden;text-align: left;background-color: #f0f8ff;}#sk-container-id-1 div.sk-toggleable__content pre {margin: 0.2em;color: black;border-radius: 0.25em;background-color: #f0f8ff;}#sk-container-id-1 input.sk-toggleable__control:checked~div.sk-toggleable__content {max-height: 200px;max-width: 100%;overflow: auto;}#sk-container-id-1 input.sk-toggleable__control:checked~label.sk-toggleable__label-arrow:before {content: \"▾\";}#sk-container-id-1 div.sk-estimator input.sk-toggleable__control:checked~label.sk-toggleable__label {background-color: #d4ebff;}#sk-container-id-1 div.sk-label input.sk-toggleable__control:checked~label.sk-toggleable__label {background-color: #d4ebff;}#sk-container-id-1 input.sk-hidden--visually {border: 0;clip: rect(1px 1px 1px 1px);clip: rect(1px, 1px, 1px, 1px);height: 1px;margin: -1px;overflow: hidden;padding: 0;position: absolute;width: 1px;}#sk-container-id-1 div.sk-estimator {font-family: monospace;background-color: #f0f8ff;border: 1px dotted black;border-radius: 0.25em;box-sizing: border-box;margin-bottom: 0.5em;}#sk-container-id-1 div.sk-estimator:hover {background-color: #d4ebff;}#sk-container-id-1 div.sk-parallel-item::after {content: \"\";width: 100%;border-bottom: 1px solid gray;flex-grow: 1;}#sk-container-id-1 div.sk-label:hover label.sk-toggleable__label {background-color: #d4ebff;}#sk-container-id-1 div.sk-serial::before {content: \"\";position: absolute;border-left: 1px solid gray;box-sizing: border-box;top: 0;bottom: 0;left: 50%;z-index: 0;}#sk-container-id-1 div.sk-serial {display: flex;flex-direction: column;align-items: center;background-color: white;padding-right: 0.2em;padding-left: 0.2em;position: relative;}#sk-container-id-1 div.sk-item {position: relative;z-index: 1;}#sk-container-id-1 div.sk-parallel {display: flex;align-items: stretch;justify-content: center;background-color: white;position: relative;}#sk-container-id-1 div.sk-item::before, #sk-container-id-1 div.sk-parallel-item::before {content: \"\";position: absolute;border-left: 1px solid gray;box-sizing: border-box;top: 0;bottom: 0;left: 50%;z-index: -1;}#sk-container-id-1 div.sk-parallel-item {display: flex;flex-direction: column;z-index: 1;position: relative;background-color: white;}#sk-container-id-1 div.sk-parallel-item:first-child::after {align-self: flex-end;width: 50%;}#sk-container-id-1 div.sk-parallel-item:last-child::after {align-self: flex-start;width: 50%;}#sk-container-id-1 div.sk-parallel-item:only-child::after {width: 0;}#sk-container-id-1 div.sk-dashed-wrapped {border: 1px dashed gray;margin: 0 0.4em 0.5em 0.4em;box-sizing: border-box;padding-bottom: 0.4em;background-color: white;}#sk-container-id-1 div.sk-label label {font-family: monospace;font-weight: bold;display: inline-block;line-height: 1.2em;}#sk-container-id-1 div.sk-label-container {text-align: center;}#sk-container-id-1 div.sk-container {/* jupyter's `normalize.less` sets `[hidden] { display: none; }` but bootstrap.min.css set `[hidden] { display: none !important; }` so we also need the `!important` here to be able to override the default hidden behavior on the sphinx rendered scikit-learn.org. See: https://github.com/scikit-learn/scikit-learn/issues/21755 */display: inline-block !important;position: relative;}#sk-container-id-1 div.sk-text-repr-fallback {display: none;}</style><div id=\"sk-container-id-1\" class=\"sk-top-container\"><div class=\"sk-text-repr-fallback\"><pre>Pipeline(steps=[(&#x27;scale&#x27;, None), (&#x27;model&#x27;, LogisticRegression(C=0.1))])</pre><b>In a Jupyter environment, please rerun this cell to show the HTML representation or trust the notebook. <br />On GitHub, the HTML representation is unable to render, please try loading this page with nbviewer.org.</b></div><div class=\"sk-container\" hidden><div class=\"sk-item sk-dashed-wrapped\"><div class=\"sk-label-container\"><div class=\"sk-label sk-toggleable\"><input class=\"sk-toggleable__control sk-hidden--visually\" id=\"sk-estimator-id-1\" type=\"checkbox\" ><label for=\"sk-estimator-id-1\" class=\"sk-toggleable__label sk-toggleable__label-arrow\">Pipeline</label><div class=\"sk-toggleable__content\"><pre>Pipeline(steps=[(&#x27;scale&#x27;, None), (&#x27;model&#x27;, LogisticRegression(C=0.1))])</pre></div></div></div><div class=\"sk-serial\"><div class=\"sk-item\"><div class=\"sk-estimator sk-toggleable\"><input class=\"sk-toggleable__control sk-hidden--visually\" id=\"sk-estimator-id-2\" type=\"checkbox\" ><label for=\"sk-estimator-id-2\" class=\"sk-toggleable__label sk-toggleable__label-arrow\">None</label><div class=\"sk-toggleable__content\"><pre>None</pre></div></div></div><div class=\"sk-item\"><div class=\"sk-estimator sk-toggleable\"><input class=\"sk-toggleable__control sk-hidden--visually\" id=\"sk-estimator-id-3\" type=\"checkbox\" ><label for=\"sk-estimator-id-3\" class=\"sk-toggleable__label sk-toggleable__label-arrow\">LogisticRegression</label><div class=\"sk-toggleable__content\"><pre>LogisticRegression(C=0.1)</pre></div></div></div></div></div></div></div>"
      ],
      "text/plain": [
       "Pipeline(steps=[('scale', None), ('model', LogisticRegression(C=0.1))])"
      ]
     },
     "execution_count": 32,
     "metadata": {},
     "output_type": "execute_result"
    }
   ],
   "source": [
    "model.fit(X_train, y_train.values.ravel())"
   ]
  },
  {
   "cell_type": "code",
   "execution_count": 33,
   "id": "af59f8c0",
   "metadata": {
    "execution": {
     "iopub.execute_input": "2025-08-05T15:28:35.375089Z",
     "iopub.status.busy": "2025-08-05T15:28:35.374792Z",
     "iopub.status.idle": "2025-08-05T15:28:35.379185Z",
     "shell.execute_reply": "2025-08-05T15:28:35.378454Z"
    },
    "papermill": {
     "duration": 0.016513,
     "end_time": "2025-08-05T15:28:35.380809",
     "exception": false,
     "start_time": "2025-08-05T15:28:35.364296",
     "status": "completed"
    },
    "tags": []
   },
   "outputs": [],
   "source": [
    "from fairness_multiverse.universe import predict_w_threshold"
   ]
  },
  {
   "cell_type": "code",
   "execution_count": 34,
   "id": "a7cf2e16",
   "metadata": {
    "execution": {
     "iopub.execute_input": "2025-08-05T15:28:35.402744Z",
     "iopub.status.busy": "2025-08-05T15:28:35.402239Z",
     "iopub.status.idle": "2025-08-05T15:28:35.484676Z",
     "shell.execute_reply": "2025-08-05T15:28:35.483768Z"
    },
    "papermill": {
     "duration": 0.094195,
     "end_time": "2025-08-05T15:28:35.486089",
     "exception": false,
     "start_time": "2025-08-05T15:28:35.391894",
     "status": "completed"
    },
    "tags": []
   },
   "outputs": [
    {
     "data": {
      "text/plain": [
       "0.8591572845836585"
      ]
     },
     "execution_count": 34,
     "metadata": {},
     "output_type": "execute_result"
    }
   ],
   "source": [
    "probs_test = model.predict_proba(X_test)\n",
    "\n",
    "'''\n",
    "Below code returns a boolean array (or binary 0/1 array depending on how it’s used) where each element \n",
    "is True if the probability of class 1 is greater than or equal to the threshold, and False otherwise.\n",
    "'''\n",
    "y_pred_default = predict_w_threshold(probs_test, 0.5)\n",
    "\n",
    "from sklearn.metrics import accuracy_score\n",
    "\n",
    "# Naive prediction\n",
    "accuracy_score(y_true = y_true, y_pred = y_pred_default)"
   ]
  },
  {
   "cell_type": "code",
   "execution_count": 35,
   "id": "081964c3",
   "metadata": {
    "execution": {
     "iopub.execute_input": "2025-08-05T15:28:35.507413Z",
     "iopub.status.busy": "2025-08-05T15:28:35.507124Z",
     "iopub.status.idle": "2025-08-05T15:28:35.582794Z",
     "shell.execute_reply": "2025-08-05T15:28:35.581903Z"
    },
    "papermill": {
     "duration": 0.087623,
     "end_time": "2025-08-05T15:28:35.584232",
     "exception": false,
     "start_time": "2025-08-05T15:28:35.496609",
     "status": "completed"
    },
    "tags": []
   },
   "outputs": [
    {
     "data": {
      "text/plain": [
       "array([0, 0, 0, ..., 0, 0, 0])"
      ]
     },
     "execution_count": 35,
     "metadata": {},
     "output_type": "execute_result"
    }
   ],
   "source": [
    "model.predict(X_test)"
   ]
  },
  {
   "cell_type": "markdown",
   "id": "56c9705b",
   "metadata": {
    "papermill": {
     "duration": 0.010148,
     "end_time": "2025-08-05T15:28:35.605117",
     "exception": false,
     "start_time": "2025-08-05T15:28:35.594969",
     "status": "completed"
    },
    "tags": []
   },
   "source": [
    "# Conformal Prediction"
   ]
  },
  {
   "cell_type": "code",
   "execution_count": 36,
   "id": "160ec6ff",
   "metadata": {
    "execution": {
     "iopub.execute_input": "2025-08-05T15:28:35.625909Z",
     "iopub.status.busy": "2025-08-05T15:28:35.625593Z",
     "iopub.status.idle": "2025-08-05T15:28:35.629762Z",
     "shell.execute_reply": "2025-08-05T15:28:35.628880Z"
    },
    "papermill": {
     "duration": 0.016464,
     "end_time": "2025-08-05T15:28:35.631366",
     "exception": false,
     "start_time": "2025-08-05T15:28:35.614902",
     "status": "completed"
    },
    "tags": []
   },
   "outputs": [],
   "source": [
    "# Miscoverage level for conformal prediction (10% allowed error rate => 90% target coverage)\n",
    "alpha = 0.1"
   ]
  },
  {
   "cell_type": "code",
   "execution_count": 37,
   "id": "eadf4555-3dd3-440e-8e35-f82a4ad9f855",
   "metadata": {
    "execution": {
     "iopub.execute_input": "2025-08-05T15:28:35.654200Z",
     "iopub.status.busy": "2025-08-05T15:28:35.653666Z",
     "iopub.status.idle": "2025-08-05T15:28:35.726673Z",
     "shell.execute_reply": "2025-08-05T15:28:35.725865Z"
    },
    "papermill": {
     "duration": 0.085021,
     "end_time": "2025-08-05T15:28:35.728207",
     "exception": false,
     "start_time": "2025-08-05T15:28:35.643186",
     "status": "completed"
    },
    "tags": []
   },
   "outputs": [],
   "source": [
    "probs_calib = model.predict_proba(X_calib)"
   ]
  },
  {
   "cell_type": "code",
   "execution_count": 38,
   "id": "2ed93547-6d5d-4983-9b36-1ecb300da49a",
   "metadata": {
    "execution": {
     "iopub.execute_input": "2025-08-05T15:28:35.750171Z",
     "iopub.status.busy": "2025-08-05T15:28:35.749882Z",
     "iopub.status.idle": "2025-08-05T15:28:35.754947Z",
     "shell.execute_reply": "2025-08-05T15:28:35.754100Z"
    },
    "papermill": {
     "duration": 0.017637,
     "end_time": "2025-08-05T15:28:35.756650",
     "exception": false,
     "start_time": "2025-08-05T15:28:35.739013",
     "status": "completed"
    },
    "tags": []
   },
   "outputs": [],
   "source": [
    "y_calib = y_calib.values.ravel().astype(int)"
   ]
  },
  {
   "cell_type": "code",
   "execution_count": 39,
   "id": "65d1320d-f588-4b38-9072-62af1ae97f7d",
   "metadata": {
    "execution": {
     "iopub.execute_input": "2025-08-05T15:28:35.779550Z",
     "iopub.status.busy": "2025-08-05T15:28:35.779047Z",
     "iopub.status.idle": "2025-08-05T15:28:35.785042Z",
     "shell.execute_reply": "2025-08-05T15:28:35.784132Z"
    },
    "papermill": {
     "duration": 0.018362,
     "end_time": "2025-08-05T15:28:35.786732",
     "exception": false,
     "start_time": "2025-08-05T15:28:35.768370",
     "status": "completed"
    },
    "tags": []
   },
   "outputs": [],
   "source": [
    "from fairness_multiverse.conformal import compute_nc_scores\n",
    "\n",
    "# Compute nonconformity scores on calibration set (1 - probability of true class)\n",
    "nc_scores = compute_nc_scores(probs_calib, y_calib)"
   ]
  },
  {
   "cell_type": "code",
   "execution_count": 40,
   "id": "df3b8ca3-53b7-43d5-9667-7c85da7aeda2",
   "metadata": {
    "execution": {
     "iopub.execute_input": "2025-08-05T15:28:35.808660Z",
     "iopub.status.busy": "2025-08-05T15:28:35.808149Z",
     "iopub.status.idle": "2025-08-05T15:28:35.813991Z",
     "shell.execute_reply": "2025-08-05T15:28:35.813011Z"
    },
    "papermill": {
     "duration": 0.018158,
     "end_time": "2025-08-05T15:28:35.815601",
     "exception": false,
     "start_time": "2025-08-05T15:28:35.797443",
     "status": "completed"
    },
    "tags": []
   },
   "outputs": [],
   "source": [
    "from fairness_multiverse.conformal import find_threshold\n",
    "\n",
    "# Find conformal threshold q_hat for the given alpha (split conformal method)\n",
    "q_hat = find_threshold(nc_scores, alpha)"
   ]
  },
  {
   "cell_type": "code",
   "execution_count": 41,
   "id": "4d29e6c1-0ef6-4aa4-b8fe-4fe79b0d033a",
   "metadata": {
    "execution": {
     "iopub.execute_input": "2025-08-05T15:28:35.838003Z",
     "iopub.status.busy": "2025-08-05T15:28:35.837368Z",
     "iopub.status.idle": "2025-08-05T15:28:35.844157Z",
     "shell.execute_reply": "2025-08-05T15:28:35.843158Z"
    },
    "papermill": {
     "duration": 0.019013,
     "end_time": "2025-08-05T15:28:35.845801",
     "exception": false,
     "start_time": "2025-08-05T15:28:35.826788",
     "status": "completed"
    },
    "tags": []
   },
   "outputs": [
    {
     "data": {
      "text/plain": [
       "0.6703877567272596"
      ]
     },
     "execution_count": 41,
     "metadata": {},
     "output_type": "execute_result"
    }
   ],
   "source": [
    "q_hat"
   ]
  },
  {
   "cell_type": "code",
   "execution_count": 42,
   "id": "92460794-cdac-4be2-ba28-f28c0515a6fb",
   "metadata": {
    "execution": {
     "iopub.execute_input": "2025-08-05T15:28:35.868181Z",
     "iopub.status.busy": "2025-08-05T15:28:35.867535Z",
     "iopub.status.idle": "2025-08-05T15:28:36.794992Z",
     "shell.execute_reply": "2025-08-05T15:28:36.794199Z"
    },
    "papermill": {
     "duration": 0.939797,
     "end_time": "2025-08-05T15:28:36.796451",
     "exception": false,
     "start_time": "2025-08-05T15:28:35.856654",
     "status": "completed"
    },
    "tags": []
   },
   "outputs": [],
   "source": [
    "from fairness_multiverse.conformal import predict_conformal_sets\n",
    "\n",
    "# Generate prediction sets for each test example\n",
    "pred_sets = predict_conformal_sets(model, X_test, q_hat)"
   ]
  },
  {
   "cell_type": "code",
   "execution_count": 43,
   "id": "d90c9a65-e6db-4f5d-80cd-e68fb7e46829",
   "metadata": {
    "execution": {
     "iopub.execute_input": "2025-08-05T15:28:36.819584Z",
     "iopub.status.busy": "2025-08-05T15:28:36.818897Z",
     "iopub.status.idle": "2025-08-05T15:28:36.823927Z",
     "shell.execute_reply": "2025-08-05T15:28:36.823182Z"
    },
    "papermill": {
     "duration": 0.017758,
     "end_time": "2025-08-05T15:28:36.825704",
     "exception": false,
     "start_time": "2025-08-05T15:28:36.807946",
     "status": "completed"
    },
    "tags": []
   },
   "outputs": [],
   "source": [
    "y_true = y_true.squeeze()"
   ]
  },
  {
   "cell_type": "code",
   "execution_count": 44,
   "id": "3a58a54a-1e68-46b9-927a-df01f18aebc8",
   "metadata": {
    "execution": {
     "iopub.execute_input": "2025-08-05T15:28:36.849558Z",
     "iopub.status.busy": "2025-08-05T15:28:36.848892Z",
     "iopub.status.idle": "2025-08-05T15:28:37.935716Z",
     "shell.execute_reply": "2025-08-05T15:28:37.934776Z"
    },
    "papermill": {
     "duration": 1.099617,
     "end_time": "2025-08-05T15:28:37.937523",
     "exception": false,
     "start_time": "2025-08-05T15:28:36.837906",
     "status": "completed"
    },
    "tags": []
   },
   "outputs": [],
   "source": [
    "from fairness_multiverse.conformal import evaluate_sets\n",
    "\n",
    "# Evaluate coverage and average set size on test data\n",
    "metrics = evaluate_sets(pred_sets, y_true)"
   ]
  },
  {
   "cell_type": "markdown",
   "id": "2b569c12-9aaa-4c88-98c9-bbcd0cf3ebb8",
   "metadata": {
    "papermill": {
     "duration": 0.019247,
     "end_time": "2025-08-05T15:28:37.975921",
     "exception": false,
     "start_time": "2025-08-05T15:28:37.956674",
     "status": "completed"
    },
    "tags": []
   },
   "source": [
    "# CP Metrics"
   ]
  },
  {
   "cell_type": "code",
   "execution_count": 45,
   "id": "5ce0a5cb-201f-45a0-ade5-94c7f0bd6095",
   "metadata": {
    "execution": {
     "iopub.execute_input": "2025-08-05T15:28:38.016396Z",
     "iopub.status.busy": "2025-08-05T15:28:38.015262Z",
     "iopub.status.idle": "2025-08-05T15:28:38.025207Z",
     "shell.execute_reply": "2025-08-05T15:28:38.024303Z"
    },
    "papermill": {
     "duration": 0.031974,
     "end_time": "2025-08-05T15:28:38.027165",
     "exception": false,
     "start_time": "2025-08-05T15:28:37.995191",
     "status": "completed"
    },
    "tags": []
   },
   "outputs": [
    {
     "data": {
      "text/plain": [
       "{'coverage': 0.9113030877271208, 'avg_size': 1.218704715193401}"
      ]
     },
     "execution_count": 45,
     "metadata": {},
     "output_type": "execute_result"
    }
   ],
   "source": [
    "metrics"
   ]
  },
  {
   "cell_type": "code",
   "execution_count": 46,
   "id": "9b9a838d-31c9-430b-ae14-12baee460d17",
   "metadata": {
    "execution": {
     "iopub.execute_input": "2025-08-05T15:28:38.070393Z",
     "iopub.status.busy": "2025-08-05T15:28:38.069480Z",
     "iopub.status.idle": "2025-08-05T15:28:38.076076Z",
     "shell.execute_reply": "2025-08-05T15:28:38.075044Z"
    },
    "papermill": {
     "duration": 0.029208,
     "end_time": "2025-08-05T15:28:38.078207",
     "exception": false,
     "start_time": "2025-08-05T15:28:38.048999",
     "status": "completed"
    },
    "tags": []
   },
   "outputs": [],
   "source": [
    "example_universe = universe.copy()\n",
    "universe_training_year = example_universe.get(\"training_year\")\n",
    "universe_training_size = example_universe.get(\"training_size\")\n",
    "universe_scale = example_universe.get(\"scale\")\n",
    "universe_model = example_universe.get(\"model\")\n",
    "universe_exclude_features = example_universe.get(\"exclude_features\")\n",
    "universe_exclude_subgroups = example_universe.get(\"exclude_subgroups\")"
   ]
  },
  {
   "cell_type": "code",
   "execution_count": 47,
   "id": "f4b6a8ac-9dc0-4245-8a91-5b3b5999c4f9",
   "metadata": {
    "execution": {
     "iopub.execute_input": "2025-08-05T15:28:38.129266Z",
     "iopub.status.busy": "2025-08-05T15:28:38.128799Z",
     "iopub.status.idle": "2025-08-05T15:28:38.135524Z",
     "shell.execute_reply": "2025-08-05T15:28:38.134653Z"
    },
    "papermill": {
     "duration": 0.034099,
     "end_time": "2025-08-05T15:28:38.138028",
     "exception": false,
     "start_time": "2025-08-05T15:28:38.103929",
     "status": "completed"
    },
    "tags": []
   },
   "outputs": [],
   "source": [
    "cp_metrics_dict = {\n",
    "    \"universe_id\": [universe_id],\n",
    "    \"universe_training_year\": [universe_training_year],\n",
    "    \"universe_training_size\": [universe_training_size],\n",
    "    \"universe_scale\": [universe_scale],\n",
    "    \"universe_model\": [universe_model],\n",
    "    \"universe_exclude_features\": [universe_exclude_features],\n",
    "    \"universe_exclude_subgroups\": [universe_exclude_subgroups],\n",
    "    \"q_hat\": [q_hat],\n",
    "    \"coverage\": [metrics[\"coverage\"]],\n",
    "    \"avg_size\": [metrics[\"avg_size\"]],\n",
    "}"
   ]
  },
  {
   "cell_type": "code",
   "execution_count": 48,
   "id": "908acbb1-0371-4915-85ca-3fa520d2efe2",
   "metadata": {
    "execution": {
     "iopub.execute_input": "2025-08-05T15:28:38.188599Z",
     "iopub.status.busy": "2025-08-05T15:28:38.188115Z",
     "iopub.status.idle": "2025-08-05T15:28:38.196803Z",
     "shell.execute_reply": "2025-08-05T15:28:38.195642Z"
    },
    "papermill": {
     "duration": 0.036187,
     "end_time": "2025-08-05T15:28:38.199368",
     "exception": false,
     "start_time": "2025-08-05T15:28:38.163181",
     "status": "completed"
    },
    "tags": []
   },
   "outputs": [
    {
     "data": {
      "text/plain": [
       "{'universe_id': ['8c7c3708bbd9ec93664ee76da92590da'],\n",
       " 'universe_training_year': ['2014'],\n",
       " 'universe_training_size': ['5k'],\n",
       " 'universe_scale': ['do-not-scale'],\n",
       " 'universe_model': ['penalized_logreg'],\n",
       " 'universe_exclude_features': ['none'],\n",
       " 'universe_exclude_subgroups': ['drop-non-german'],\n",
       " 'q_hat': [0.6703877567272596],\n",
       " 'coverage': [0.9113030877271208],\n",
       " 'avg_size': [1.218704715193401]}"
      ]
     },
     "execution_count": 48,
     "metadata": {},
     "output_type": "execute_result"
    }
   ],
   "source": [
    "cp_metrics_dict"
   ]
  },
  {
   "cell_type": "code",
   "execution_count": 49,
   "id": "33007efc-14e9-4ec6-97ac-56a455c82265",
   "metadata": {
    "execution": {
     "iopub.execute_input": "2025-08-05T15:28:38.261177Z",
     "iopub.status.busy": "2025-08-05T15:28:38.260169Z",
     "iopub.status.idle": "2025-08-05T15:28:38.266942Z",
     "shell.execute_reply": "2025-08-05T15:28:38.265827Z"
    },
    "papermill": {
     "duration": 0.039926,
     "end_time": "2025-08-05T15:28:38.269494",
     "exception": false,
     "start_time": "2025-08-05T15:28:38.229568",
     "status": "completed"
    },
    "tags": []
   },
   "outputs": [],
   "source": [
    "cp_metrics_df = pd.DataFrame(cp_metrics_dict)"
   ]
  },
  {
   "cell_type": "code",
   "execution_count": 50,
   "id": "db12611b-57b2-4910-b9d0-355adfd6e7bf",
   "metadata": {
    "execution": {
     "iopub.execute_input": "2025-08-05T15:28:38.330505Z",
     "iopub.status.busy": "2025-08-05T15:28:38.329776Z",
     "iopub.status.idle": "2025-08-05T15:28:38.350244Z",
     "shell.execute_reply": "2025-08-05T15:28:38.349021Z"
    },
    "papermill": {
     "duration": 0.053006,
     "end_time": "2025-08-05T15:28:38.352587",
     "exception": false,
     "start_time": "2025-08-05T15:28:38.299581",
     "status": "completed"
    },
    "tags": []
   },
   "outputs": [
    {
     "data": {
      "text/html": [
       "<div>\n",
       "<style scoped>\n",
       "    .dataframe tbody tr th:only-of-type {\n",
       "        vertical-align: middle;\n",
       "    }\n",
       "\n",
       "    .dataframe tbody tr th {\n",
       "        vertical-align: top;\n",
       "    }\n",
       "\n",
       "    .dataframe thead th {\n",
       "        text-align: right;\n",
       "    }\n",
       "</style>\n",
       "<table border=\"1\" class=\"dataframe\">\n",
       "  <thead>\n",
       "    <tr style=\"text-align: right;\">\n",
       "      <th></th>\n",
       "      <th>universe_id</th>\n",
       "      <th>universe_training_year</th>\n",
       "      <th>universe_training_size</th>\n",
       "      <th>universe_scale</th>\n",
       "      <th>universe_model</th>\n",
       "      <th>universe_exclude_features</th>\n",
       "      <th>universe_exclude_subgroups</th>\n",
       "      <th>q_hat</th>\n",
       "      <th>coverage</th>\n",
       "      <th>avg_size</th>\n",
       "    </tr>\n",
       "  </thead>\n",
       "  <tbody>\n",
       "    <tr>\n",
       "      <th>0</th>\n",
       "      <td>8c7c3708bbd9ec93664ee76da92590da</td>\n",
       "      <td>2014</td>\n",
       "      <td>5k</td>\n",
       "      <td>do-not-scale</td>\n",
       "      <td>penalized_logreg</td>\n",
       "      <td>none</td>\n",
       "      <td>drop-non-german</td>\n",
       "      <td>0.670388</td>\n",
       "      <td>0.911303</td>\n",
       "      <td>1.218705</td>\n",
       "    </tr>\n",
       "  </tbody>\n",
       "</table>\n",
       "</div>"
      ],
      "text/plain": [
       "                        universe_id universe_training_year  \\\n",
       "0  8c7c3708bbd9ec93664ee76da92590da                   2014   \n",
       "\n",
       "  universe_training_size universe_scale    universe_model  \\\n",
       "0                     5k   do-not-scale  penalized_logreg   \n",
       "\n",
       "  universe_exclude_features universe_exclude_subgroups     q_hat  coverage  \\\n",
       "0                      none            drop-non-german  0.670388  0.911303   \n",
       "\n",
       "   avg_size  \n",
       "0  1.218705  "
      ]
     },
     "execution_count": 50,
     "metadata": {},
     "output_type": "execute_result"
    }
   ],
   "source": [
    "cp_metrics_df"
   ]
  },
  {
   "cell_type": "code",
   "execution_count": 51,
   "id": "b7fbde55-a0a1-47e4-9af6-fe4a17fa8c61",
   "metadata": {
    "execution": {
     "iopub.execute_input": "2025-08-05T15:28:38.414822Z",
     "iopub.status.busy": "2025-08-05T15:28:38.414442Z",
     "iopub.status.idle": "2025-08-05T15:28:38.419665Z",
     "shell.execute_reply": "2025-08-05T15:28:38.418513Z"
    },
    "papermill": {
     "duration": 0.039421,
     "end_time": "2025-08-05T15:28:38.422328",
     "exception": false,
     "start_time": "2025-08-05T15:28:38.382907",
     "status": "completed"
    },
    "tags": []
   },
   "outputs": [],
   "source": [
    "# Conditional Coverage & looking at subgroups"
   ]
  },
  {
   "cell_type": "code",
   "execution_count": 52,
   "id": "027ae886-68dd-4141-96c7-805a5450e1ef",
   "metadata": {
    "execution": {
     "iopub.execute_input": "2025-08-05T15:28:38.485240Z",
     "iopub.status.busy": "2025-08-05T15:28:38.484351Z",
     "iopub.status.idle": "2025-08-05T15:28:38.760432Z",
     "shell.execute_reply": "2025-08-05T15:28:38.759378Z"
    },
    "papermill": {
     "duration": 0.309393,
     "end_time": "2025-08-05T15:28:38.762478",
     "exception": false,
     "start_time": "2025-08-05T15:28:38.453085",
     "status": "completed"
    },
    "tags": []
   },
   "outputs": [],
   "source": [
    "from fairness_multiverse.conformal import build_cp_groups\n",
    "\n",
    "cp_groups_df = build_cp_groups(pred_sets, y_true, X_test.index, org_test)\n",
    "#needs universe_id and setting"
   ]
  },
  {
   "cell_type": "code",
   "execution_count": 53,
   "id": "6cbdab96-b2b2-45af-ad54-d0516db2e28d",
   "metadata": {
    "execution": {
     "iopub.execute_input": "2025-08-05T15:28:38.807590Z",
     "iopub.status.busy": "2025-08-05T15:28:38.807129Z",
     "iopub.status.idle": "2025-08-05T15:28:40.360230Z",
     "shell.execute_reply": "2025-08-05T15:28:40.359361Z"
    },
    "papermill": {
     "duration": 1.578612,
     "end_time": "2025-08-05T15:28:40.362131",
     "exception": false,
     "start_time": "2025-08-05T15:28:38.783519",
     "status": "completed"
    },
    "tags": []
   },
   "outputs": [],
   "source": [
    "# Define covered = 1 if true_label is in the predicted set\n",
    "cp_groups_df['covered'] = cp_groups_df.apply(\n",
    "    lambda r: int(r['true_label'] in r['pred_set']),\n",
    "    axis=1\n",
    ")"
   ]
  },
  {
   "cell_type": "code",
   "execution_count": 54,
   "id": "338ff529-1a6b-4b87-a931-8e4788d52aad",
   "metadata": {
    "execution": {
     "iopub.execute_input": "2025-08-05T15:28:40.404138Z",
     "iopub.status.busy": "2025-08-05T15:28:40.403565Z",
     "iopub.status.idle": "2025-08-05T15:28:40.408831Z",
     "shell.execute_reply": "2025-08-05T15:28:40.407661Z"
    },
    "papermill": {
     "duration": 0.027933,
     "end_time": "2025-08-05T15:28:40.410777",
     "exception": false,
     "start_time": "2025-08-05T15:28:40.382844",
     "status": "completed"
    },
    "tags": []
   },
   "outputs": [],
   "source": [
    "#cp_groups_df"
   ]
  },
  {
   "cell_type": "code",
   "execution_count": 55,
   "id": "90032e27-66df-4540-9169-4e89cfbaa758",
   "metadata": {
    "execution": {
     "iopub.execute_input": "2025-08-05T15:28:40.453233Z",
     "iopub.status.busy": "2025-08-05T15:28:40.452915Z",
     "iopub.status.idle": "2025-08-05T15:28:40.463982Z",
     "shell.execute_reply": "2025-08-05T15:28:40.463038Z"
    },
    "papermill": {
     "duration": 0.033278,
     "end_time": "2025-08-05T15:28:40.465940",
     "exception": false,
     "start_time": "2025-08-05T15:28:40.432662",
     "status": "completed"
    },
    "tags": []
   },
   "outputs": [],
   "source": [
    "subgroups = ['frau1','nongerman','nongerman_male','nongerman_female']\n",
    "\n",
    "# Conditional coverage for subgroup==1\n",
    "cond_coverage = {\n",
    "    g: cp_groups_df.loc[cp_groups_df[g]==1, 'covered'].mean()\n",
    "    for g in subgroups\n",
    "}"
   ]
  },
  {
   "cell_type": "code",
   "execution_count": 56,
   "id": "1e348fb1-b9c3-45bc-ba23-f016827a7e0d",
   "metadata": {
    "execution": {
     "iopub.execute_input": "2025-08-05T15:28:40.515189Z",
     "iopub.status.busy": "2025-08-05T15:28:40.514696Z",
     "iopub.status.idle": "2025-08-05T15:28:40.522134Z",
     "shell.execute_reply": "2025-08-05T15:28:40.521170Z"
    },
    "papermill": {
     "duration": 0.031771,
     "end_time": "2025-08-05T15:28:40.523790",
     "exception": false,
     "start_time": "2025-08-05T15:28:40.492019",
     "status": "completed"
    },
    "tags": []
   },
   "outputs": [
    {
     "data": {
      "text/plain": [
       "{'frau1': 0.9086399784337512,\n",
       " 'nongerman': 0.9370122943917364,\n",
       " 'nongerman_male': 0.9494731153742232,\n",
       " 'nongerman_female': 0.9163934426229509}"
      ]
     },
     "execution_count": 56,
     "metadata": {},
     "output_type": "execute_result"
    }
   ],
   "source": [
    "cond_coverage"
   ]
  },
  {
   "cell_type": "code",
   "execution_count": 57,
   "id": "f5093324-c3dd-4d63-bc4c-8d945e5c8bbb",
   "metadata": {
    "execution": {
     "iopub.execute_input": "2025-08-05T15:28:40.574012Z",
     "iopub.status.busy": "2025-08-05T15:28:40.573680Z",
     "iopub.status.idle": "2025-08-05T15:28:40.580462Z",
     "shell.execute_reply": "2025-08-05T15:28:40.579458Z"
    },
    "papermill": {
     "duration": 0.033636,
     "end_time": "2025-08-05T15:28:40.582528",
     "exception": false,
     "start_time": "2025-08-05T15:28:40.548892",
     "status": "completed"
    },
    "tags": []
   },
   "outputs": [],
   "source": [
    "for subgroup, cov in cond_coverage.items():\n",
    "    cp_metrics_df[f\"cov_{subgroup}\"] = cov"
   ]
  },
  {
   "cell_type": "code",
   "execution_count": 58,
   "id": "6e872e10-dbe5-49e8-b554-5030c98ff75d",
   "metadata": {
    "execution": {
     "iopub.execute_input": "2025-08-05T15:28:40.629120Z",
     "iopub.status.busy": "2025-08-05T15:28:40.628733Z",
     "iopub.status.idle": "2025-08-05T15:28:40.647811Z",
     "shell.execute_reply": "2025-08-05T15:28:40.646978Z"
    },
    "papermill": {
     "duration": 0.045313,
     "end_time": "2025-08-05T15:28:40.649246",
     "exception": false,
     "start_time": "2025-08-05T15:28:40.603933",
     "status": "completed"
    },
    "tags": []
   },
   "outputs": [
    {
     "data": {
      "text/html": [
       "<div>\n",
       "<style scoped>\n",
       "    .dataframe tbody tr th:only-of-type {\n",
       "        vertical-align: middle;\n",
       "    }\n",
       "\n",
       "    .dataframe tbody tr th {\n",
       "        vertical-align: top;\n",
       "    }\n",
       "\n",
       "    .dataframe thead th {\n",
       "        text-align: right;\n",
       "    }\n",
       "</style>\n",
       "<table border=\"1\" class=\"dataframe\">\n",
       "  <thead>\n",
       "    <tr style=\"text-align: right;\">\n",
       "      <th></th>\n",
       "      <th>universe_id</th>\n",
       "      <th>universe_training_year</th>\n",
       "      <th>universe_training_size</th>\n",
       "      <th>universe_scale</th>\n",
       "      <th>universe_model</th>\n",
       "      <th>universe_exclude_features</th>\n",
       "      <th>universe_exclude_subgroups</th>\n",
       "      <th>q_hat</th>\n",
       "      <th>coverage</th>\n",
       "      <th>avg_size</th>\n",
       "      <th>cov_frau1</th>\n",
       "      <th>cov_nongerman</th>\n",
       "      <th>cov_nongerman_male</th>\n",
       "      <th>cov_nongerman_female</th>\n",
       "    </tr>\n",
       "  </thead>\n",
       "  <tbody>\n",
       "    <tr>\n",
       "      <th>0</th>\n",
       "      <td>8c7c3708bbd9ec93664ee76da92590da</td>\n",
       "      <td>2014</td>\n",
       "      <td>5k</td>\n",
       "      <td>do-not-scale</td>\n",
       "      <td>penalized_logreg</td>\n",
       "      <td>none</td>\n",
       "      <td>drop-non-german</td>\n",
       "      <td>0.670388</td>\n",
       "      <td>0.911303</td>\n",
       "      <td>1.218705</td>\n",
       "      <td>0.90864</td>\n",
       "      <td>0.937012</td>\n",
       "      <td>0.949473</td>\n",
       "      <td>0.916393</td>\n",
       "    </tr>\n",
       "  </tbody>\n",
       "</table>\n",
       "</div>"
      ],
      "text/plain": [
       "                        universe_id universe_training_year  \\\n",
       "0  8c7c3708bbd9ec93664ee76da92590da                   2014   \n",
       "\n",
       "  universe_training_size universe_scale    universe_model  \\\n",
       "0                     5k   do-not-scale  penalized_logreg   \n",
       "\n",
       "  universe_exclude_features universe_exclude_subgroups     q_hat  coverage  \\\n",
       "0                      none            drop-non-german  0.670388  0.911303   \n",
       "\n",
       "   avg_size  cov_frau1  cov_nongerman  cov_nongerman_male  \\\n",
       "0  1.218705    0.90864       0.937012            0.949473   \n",
       "\n",
       "   cov_nongerman_female  \n",
       "0              0.916393  "
      ]
     },
     "execution_count": 58,
     "metadata": {},
     "output_type": "execute_result"
    }
   ],
   "source": [
    "cp_metrics_df"
   ]
  },
  {
   "cell_type": "markdown",
   "id": "33774451",
   "metadata": {
    "papermill": {
     "duration": 0.025674,
     "end_time": "2025-08-05T15:28:40.701404",
     "exception": false,
     "start_time": "2025-08-05T15:28:40.675730",
     "status": "completed"
    },
    "tags": []
   },
   "source": [
    "# (Fairness) Metrics"
   ]
  },
  {
   "cell_type": "code",
   "execution_count": 59,
   "id": "debc5d62",
   "metadata": {
    "execution": {
     "iopub.execute_input": "2025-08-05T15:28:40.736559Z",
     "iopub.status.busy": "2025-08-05T15:28:40.736170Z",
     "iopub.status.idle": "2025-08-05T15:28:40.752310Z",
     "shell.execute_reply": "2025-08-05T15:28:40.751359Z"
    },
    "papermill": {
     "duration": 0.031859,
     "end_time": "2025-08-05T15:28:40.753963",
     "exception": false,
     "start_time": "2025-08-05T15:28:40.722104",
     "status": "completed"
    },
    "tags": []
   },
   "outputs": [],
   "source": [
    "# do I need to include maxdeutsch1.missing?\n",
    "\n",
    "import numpy as np\n",
    "\n",
    "colname_to_bin = \"maxdeutsch1\"\n",
    "majority_value = org_train[colname_to_bin].mode()[0]\n",
    "\n",
    "org_test[\"majmin\"] = np.where(org_test[colname_to_bin] == majority_value, \"majority\", \"minority\")"
   ]
  },
  {
   "cell_type": "code",
   "execution_count": 60,
   "id": "06a50de5",
   "metadata": {
    "execution": {
     "iopub.execute_input": "2025-08-05T15:28:40.780914Z",
     "iopub.status.busy": "2025-08-05T15:28:40.780391Z",
     "iopub.status.idle": "2025-08-05T15:28:42.593084Z",
     "shell.execute_reply": "2025-08-05T15:28:42.592312Z"
    },
    "papermill": {
     "duration": 1.827712,
     "end_time": "2025-08-05T15:28:42.594551",
     "exception": false,
     "start_time": "2025-08-05T15:28:40.766839",
     "status": "completed"
    },
    "tags": []
   },
   "outputs": [],
   "source": [
    "example_universe = universe.copy()\n",
    "example_universe[\"cutoff\"] = example_universe[\"cutoff\"][0]\n",
    "example_universe[\"eval_fairness_grouping\"] = example_universe[\"eval_fairness_grouping\"][0]\n",
    "fairness_dict, metric_frame = universe_analysis.compute_metrics(\n",
    "    example_universe,\n",
    "    y_pred_prob=probs_test,\n",
    "    y_test=y_true,\n",
    "    org_test=org_test,\n",
    ")"
   ]
  },
  {
   "cell_type": "markdown",
   "id": "f95d4e02",
   "metadata": {
    "papermill": {
     "duration": 0.011216,
     "end_time": "2025-08-05T15:28:42.617925",
     "exception": false,
     "start_time": "2025-08-05T15:28:42.606709",
     "status": "completed"
    },
    "tags": []
   },
   "source": [
    "# Overall"
   ]
  },
  {
   "cell_type": "markdown",
   "id": "bdee4871",
   "metadata": {
    "papermill": {
     "duration": 0.011249,
     "end_time": "2025-08-05T15:28:42.640442",
     "exception": false,
     "start_time": "2025-08-05T15:28:42.629193",
     "status": "completed"
    },
    "tags": []
   },
   "source": [
    "Fairness\n",
    "Main fairness target: Equalized Odds. Seems to be a better fit than equal opportunity, since we're not only interested in Y = 1. Seems to be a better fit than demographic parity, since we also care about accuracy, not just equal distribution of preds.\n",
    "\n",
    "Pick column for computation of fairness metrics\n",
    "\n",
    "Performance\n",
    "Overall performance measures, most interesting in relation to the measures split by group below"
   ]
  },
  {
   "cell_type": "code",
   "execution_count": 61,
   "id": "c4e067c6",
   "metadata": {
    "execution": {
     "iopub.execute_input": "2025-08-05T15:28:42.664341Z",
     "iopub.status.busy": "2025-08-05T15:28:42.663675Z",
     "iopub.status.idle": "2025-08-05T15:28:42.670835Z",
     "shell.execute_reply": "2025-08-05T15:28:42.669982Z"
    },
    "papermill": {
     "duration": 0.020751,
     "end_time": "2025-08-05T15:28:42.672500",
     "exception": false,
     "start_time": "2025-08-05T15:28:42.651749",
     "status": "completed"
    },
    "tags": []
   },
   "outputs": [
    {
     "data": {
      "text/plain": [
       "accuracy                   0.217401\n",
       "balanced accuracy          0.533035\n",
       "f1                         0.238924\n",
       "precision                  0.136489\n",
       "false positive rate        0.891525\n",
       "false negative rate        0.042405\n",
       "selection rate             0.900000\n",
       "count                  89710.000000\n",
       "dtype: float64"
      ]
     },
     "execution_count": 61,
     "metadata": {},
     "output_type": "execute_result"
    }
   ],
   "source": [
    "metric_frame.overall"
   ]
  },
  {
   "cell_type": "markdown",
   "id": "e968fe9d",
   "metadata": {
    "papermill": {
     "duration": 0.011477,
     "end_time": "2025-08-05T15:28:42.696375",
     "exception": false,
     "start_time": "2025-08-05T15:28:42.684898",
     "status": "completed"
    },
    "tags": []
   },
   "source": [
    "By Group"
   ]
  },
  {
   "cell_type": "code",
   "execution_count": 62,
   "id": "ec325bce",
   "metadata": {
    "execution": {
     "iopub.execute_input": "2025-08-05T15:28:42.720554Z",
     "iopub.status.busy": "2025-08-05T15:28:42.719934Z",
     "iopub.status.idle": "2025-08-05T15:28:42.732102Z",
     "shell.execute_reply": "2025-08-05T15:28:42.731063Z"
    },
    "papermill": {
     "duration": 0.025773,
     "end_time": "2025-08-05T15:28:42.733638",
     "exception": false,
     "start_time": "2025-08-05T15:28:42.707865",
     "status": "completed"
    },
    "tags": []
   },
   "outputs": [
    {
     "data": {
      "text/html": [
       "<div>\n",
       "<style scoped>\n",
       "    .dataframe tbody tr th:only-of-type {\n",
       "        vertical-align: middle;\n",
       "    }\n",
       "\n",
       "    .dataframe tbody tr th {\n",
       "        vertical-align: top;\n",
       "    }\n",
       "\n",
       "    .dataframe thead th {\n",
       "        text-align: right;\n",
       "    }\n",
       "</style>\n",
       "<table border=\"1\" class=\"dataframe\">\n",
       "  <thead>\n",
       "    <tr style=\"text-align: right;\">\n",
       "      <th></th>\n",
       "      <th>accuracy</th>\n",
       "      <th>balanced accuracy</th>\n",
       "      <th>f1</th>\n",
       "      <th>precision</th>\n",
       "      <th>false positive rate</th>\n",
       "      <th>false negative rate</th>\n",
       "      <th>selection rate</th>\n",
       "      <th>count</th>\n",
       "    </tr>\n",
       "    <tr>\n",
       "      <th>majmin</th>\n",
       "      <th></th>\n",
       "      <th></th>\n",
       "      <th></th>\n",
       "      <th></th>\n",
       "      <th></th>\n",
       "      <th></th>\n",
       "      <th></th>\n",
       "      <th></th>\n",
       "    </tr>\n",
       "  </thead>\n",
       "  <tbody>\n",
       "    <tr>\n",
       "      <th>majority</th>\n",
       "      <td>0.239107</td>\n",
       "      <td>0.540898</td>\n",
       "      <td>0.248311</td>\n",
       "      <td>0.142796</td>\n",
       "      <td>0.869299</td>\n",
       "      <td>0.048906</td>\n",
       "      <td>0.880107</td>\n",
       "      <td>69170.0</td>\n",
       "    </tr>\n",
       "    <tr>\n",
       "      <th>minority</th>\n",
       "      <td>0.144304</td>\n",
       "      <td>0.508870</td>\n",
       "      <td>0.209357</td>\n",
       "      <td>0.117158</td>\n",
       "      <td>0.964946</td>\n",
       "      <td>0.017314</td>\n",
       "      <td>0.966991</td>\n",
       "      <td>20540.0</td>\n",
       "    </tr>\n",
       "  </tbody>\n",
       "</table>\n",
       "</div>"
      ],
      "text/plain": [
       "          accuracy  balanced accuracy        f1  precision  \\\n",
       "majmin                                                       \n",
       "majority  0.239107           0.540898  0.248311   0.142796   \n",
       "minority  0.144304           0.508870  0.209357   0.117158   \n",
       "\n",
       "          false positive rate  false negative rate  selection rate    count  \n",
       "majmin                                                                       \n",
       "majority             0.869299             0.048906        0.880107  69170.0  \n",
       "minority             0.964946             0.017314        0.966991  20540.0  "
      ]
     },
     "execution_count": 62,
     "metadata": {},
     "output_type": "execute_result"
    }
   ],
   "source": [
    "metric_frame.by_group"
   ]
  },
  {
   "cell_type": "code",
   "execution_count": 63,
   "id": "a9ddbe63",
   "metadata": {
    "execution": {
     "iopub.execute_input": "2025-08-05T15:28:42.758726Z",
     "iopub.status.busy": "2025-08-05T15:28:42.758230Z",
     "iopub.status.idle": "2025-08-05T15:28:45.003528Z",
     "shell.execute_reply": "2025-08-05T15:28:45.002510Z"
    },
    "papermill": {
     "duration": 2.258804,
     "end_time": "2025-08-05T15:28:45.004959",
     "exception": false,
     "start_time": "2025-08-05T15:28:42.746155",
     "status": "completed"
    },
    "tags": []
   },
   "outputs": [
    {
     "data": {
      "text/plain": [
       "array([[<Axes: title={'center': 'accuracy'}, xlabel='majmin'>,\n",
       "        <Axes: title={'center': 'balanced accuracy'}, xlabel='majmin'>,\n",
       "        <Axes: title={'center': 'f1'}, xlabel='majmin'>],\n",
       "       [<Axes: title={'center': 'precision'}, xlabel='majmin'>,\n",
       "        <Axes: title={'center': 'false positive rate'}, xlabel='majmin'>,\n",
       "        <Axes: title={'center': 'false negative rate'}, xlabel='majmin'>],\n",
       "       [<Axes: title={'center': 'selection rate'}, xlabel='majmin'>,\n",
       "        <Axes: title={'center': 'count'}, xlabel='majmin'>,\n",
       "        <Axes: xlabel='majmin'>]], dtype=object)"
      ]
     },
     "execution_count": 63,
     "metadata": {},
     "output_type": "execute_result"
    },
    {
     "data": {
      "image/png": "[encoded data removed]",
      "text/plain": [
       "<Figure size 1200x800 with 9 Axes>"
      ]
     },
     "metadata": {},
     "output_type": "display_data"
    }
   ],
   "source": [
    "# In a graphic\n",
    "metric_frame.by_group.plot.bar(\n",
    "    subplots=True,\n",
    "    layout=[3, 3],\n",
    "    legend=False,\n",
    "    figsize=[12, 8],\n",
    "    title=\"Show all metrics\",\n",
    ")"
   ]
  },
  {
   "cell_type": "markdown",
   "id": "f57a0bac",
   "metadata": {
    "papermill": {
     "duration": 0.026924,
     "end_time": "2025-08-05T15:28:45.054690",
     "exception": false,
     "start_time": "2025-08-05T15:28:45.027766",
     "status": "completed"
    },
    "tags": []
   },
   "source": [
    "# Final Output"
   ]
  },
  {
   "cell_type": "code",
   "execution_count": 64,
   "id": "96d280a3",
   "metadata": {
    "execution": {
     "iopub.execute_input": "2025-08-05T15:28:45.110208Z",
     "iopub.status.busy": "2025-08-05T15:28:45.109269Z",
     "iopub.status.idle": "2025-08-05T15:28:45.118493Z",
     "shell.execute_reply": "2025-08-05T15:28:45.117102Z"
    },
    "papermill": {
     "duration": 0.038672,
     "end_time": "2025-08-05T15:28:45.120142",
     "exception": false,
     "start_time": "2025-08-05T15:28:45.081470",
     "status": "completed"
    },
    "tags": []
   },
   "outputs": [
    {
     "data": {
      "text/plain": [
       "4"
      ]
     },
     "execution_count": 64,
     "metadata": {},
     "output_type": "execute_result"
    }
   ],
   "source": [
    "sub_universes = universe_analysis.generate_sub_universes()\n",
    "len(sub_universes)"
   ]
  },
  {
   "cell_type": "code",
   "execution_count": 65,
   "id": "92adf7ba",
   "metadata": {
    "execution": {
     "iopub.execute_input": "2025-08-05T15:28:45.168455Z",
     "iopub.status.busy": "2025-08-05T15:28:45.168103Z",
     "iopub.status.idle": "2025-08-05T15:28:45.172945Z",
     "shell.execute_reply": "2025-08-05T15:28:45.172211Z"
    },
    "papermill": {
     "duration": 0.030147,
     "end_time": "2025-08-05T15:28:45.174378",
     "exception": false,
     "start_time": "2025-08-05T15:28:45.144231",
     "status": "completed"
    },
    "tags": []
   },
   "outputs": [],
   "source": [
    "def filter_sub_universe_data(sub_universe, org_test):\n",
    "    # Keep all rows — no filtering\n",
    "    keep_rows_mask = np.ones(org_test.shape[0], dtype=bool)\n",
    "\n",
    "    print(f\"[INFO] Keeping all rows: {keep_rows_mask.sum()} rows retained.\")\n",
    "    return keep_rows_mask"
   ]
  },
  {
   "cell_type": "code",
   "execution_count": 66,
   "id": "4a759155",
   "metadata": {
    "execution": {
     "iopub.execute_input": "2025-08-05T15:28:45.202928Z",
     "iopub.status.busy": "2025-08-05T15:28:45.202535Z",
     "iopub.status.idle": "2025-08-05T15:28:52.168266Z",
     "shell.execute_reply": "2025-08-05T15:28:52.167245Z"
    },
    "papermill": {
     "duration": 6.981707,
     "end_time": "2025-08-05T15:28:52.170154",
     "exception": false,
     "start_time": "2025-08-05T15:28:45.188447",
     "status": "completed"
    },
    "tags": []
   },
   "outputs": [
    {
     "name": "stdout",
     "output_type": "stream",
     "text": [
      "Stopping execution_time clock.\n",
      "[INFO] Keeping all rows: 89710 rows retained.\n"
     ]
    },
    {
     "name": "stdout",
     "output_type": "stream",
     "text": [
      "[INFO] Keeping all rows: 89710 rows retained.\n"
     ]
    },
    {
     "name": "stdout",
     "output_type": "stream",
     "text": [
      "[INFO] Keeping all rows: 89710 rows retained.\n"
     ]
    },
    {
     "name": "stdout",
     "output_type": "stream",
     "text": [
      "[INFO] Keeping all rows: 89710 rows retained.\n"
     ]
    },
    {
     "data": {
      "text/html": [
       "<div>\n",
       "<style scoped>\n",
       "    .dataframe tbody tr th:only-of-type {\n",
       "        vertical-align: middle;\n",
       "    }\n",
       "\n",
       "    .dataframe tbody tr th {\n",
       "        vertical-align: top;\n",
       "    }\n",
       "\n",
       "    .dataframe thead th {\n",
       "        text-align: right;\n",
       "    }\n",
       "</style>\n",
       "<table border=\"1\" class=\"dataframe\">\n",
       "  <thead>\n",
       "    <tr style=\"text-align: right;\">\n",
       "      <th></th>\n",
       "      <th>run_no</th>\n",
       "      <th>universe_id</th>\n",
       "      <th>universe_settings</th>\n",
       "      <th>execution_time</th>\n",
       "      <th>test_size_n</th>\n",
       "      <th>test_size_frac</th>\n",
       "      <th>fair_main_equalized_odds_difference</th>\n",
       "      <th>fair_main_equalized_odds_ratio</th>\n",
       "      <th>fair_main_demographic_parity_difference</th>\n",
       "      <th>fair_main_demographic_parity_ratio</th>\n",
       "      <th>...</th>\n",
       "      <th>perf_grp_precision_0</th>\n",
       "      <th>perf_grp_precision_1</th>\n",
       "      <th>perf_grp_false positive rate_0</th>\n",
       "      <th>perf_grp_false positive rate_1</th>\n",
       "      <th>perf_grp_false negative rate_0</th>\n",
       "      <th>perf_grp_false negative rate_1</th>\n",
       "      <th>perf_grp_selection rate_0</th>\n",
       "      <th>perf_grp_selection rate_1</th>\n",
       "      <th>perf_grp_count_0</th>\n",
       "      <th>perf_grp_count_1</th>\n",
       "    </tr>\n",
       "  </thead>\n",
       "  <tbody>\n",
       "    <tr>\n",
       "      <th>0</th>\n",
       "      <td>15</td>\n",
       "      <td>8c7c3708bbd9ec93664ee76da92590da</td>\n",
       "      <td>{\"cutoff\": \"quantile_0.1\", \"eval_fairness_grou...</td>\n",
       "      <td>24.385679</td>\n",
       "      <td>89710</td>\n",
       "      <td>1.0</td>\n",
       "      <td>0.095647</td>\n",
       "      <td>0.900878</td>\n",
       "      <td>0.086884</td>\n",
       "      <td>0.910150</td>\n",
       "      <td>...</td>\n",
       "      <td>NaN</td>\n",
       "      <td>NaN</td>\n",
       "      <td>NaN</td>\n",
       "      <td>NaN</td>\n",
       "      <td>NaN</td>\n",
       "      <td>NaN</td>\n",
       "      <td>NaN</td>\n",
       "      <td>NaN</td>\n",
       "      <td>NaN</td>\n",
       "      <td>NaN</td>\n",
       "    </tr>\n",
       "    <tr>\n",
       "      <th>0</th>\n",
       "      <td>15</td>\n",
       "      <td>8c7c3708bbd9ec93664ee76da92590da</td>\n",
       "      <td>{\"cutoff\": \"quantile_0.1\", \"eval_fairness_grou...</td>\n",
       "      <td>24.385679</td>\n",
       "      <td>89710</td>\n",
       "      <td>1.0</td>\n",
       "      <td>0.095647</td>\n",
       "      <td>0.900878</td>\n",
       "      <td>0.086884</td>\n",
       "      <td>0.910150</td>\n",
       "      <td>...</td>\n",
       "      <td>0.117158</td>\n",
       "      <td>0.142796</td>\n",
       "      <td>0.964946</td>\n",
       "      <td>0.869299</td>\n",
       "      <td>0.017314</td>\n",
       "      <td>0.048906</td>\n",
       "      <td>0.966991</td>\n",
       "      <td>0.880107</td>\n",
       "      <td>20540.0</td>\n",
       "      <td>69170.0</td>\n",
       "    </tr>\n",
       "    <tr>\n",
       "      <th>0</th>\n",
       "      <td>15</td>\n",
       "      <td>8c7c3708bbd9ec93664ee76da92590da</td>\n",
       "      <td>{\"cutoff\": \"quantile_0.25\", \"eval_fairness_gro...</td>\n",
       "      <td>24.385679</td>\n",
       "      <td>89710</td>\n",
       "      <td>1.0</td>\n",
       "      <td>0.218499</td>\n",
       "      <td>0.756825</td>\n",
       "      <td>0.200296</td>\n",
       "      <td>0.778539</td>\n",
       "      <td>...</td>\n",
       "      <td>NaN</td>\n",
       "      <td>NaN</td>\n",
       "      <td>NaN</td>\n",
       "      <td>NaN</td>\n",
       "      <td>NaN</td>\n",
       "      <td>NaN</td>\n",
       "      <td>NaN</td>\n",
       "      <td>NaN</td>\n",
       "      <td>NaN</td>\n",
       "      <td>NaN</td>\n",
       "    </tr>\n",
       "    <tr>\n",
       "      <th>0</th>\n",
       "      <td>15</td>\n",
       "      <td>8c7c3708bbd9ec93664ee76da92590da</td>\n",
       "      <td>{\"cutoff\": \"quantile_0.25\", \"eval_fairness_gro...</td>\n",
       "      <td>24.385679</td>\n",
       "      <td>89710</td>\n",
       "      <td>1.0</td>\n",
       "      <td>0.218499</td>\n",
       "      <td>0.756825</td>\n",
       "      <td>0.200296</td>\n",
       "      <td>0.778539</td>\n",
       "      <td>...</td>\n",
       "      <td>0.121064</td>\n",
       "      <td>0.161852</td>\n",
       "      <td>0.898525</td>\n",
       "      <td>0.680027</td>\n",
       "      <td>0.050253</td>\n",
       "      <td>0.137527</td>\n",
       "      <td>0.904430</td>\n",
       "      <td>0.704135</td>\n",
       "      <td>20540.0</td>\n",
       "      <td>69170.0</td>\n",
       "    </tr>\n",
       "  </tbody>\n",
       "</table>\n",
       "<p>4 rows × 50 columns</p>\n",
       "</div>"
      ],
      "text/plain": [
       "  run_no                       universe_id  \\\n",
       "0     15  8c7c3708bbd9ec93664ee76da92590da   \n",
       "0     15  8c7c3708bbd9ec93664ee76da92590da   \n",
       "0     15  8c7c3708bbd9ec93664ee76da92590da   \n",
       "0     15  8c7c3708bbd9ec93664ee76da92590da   \n",
       "\n",
       "                                   universe_settings  execution_time  \\\n",
       "0  {\"cutoff\": \"quantile_0.1\", \"eval_fairness_grou...       24.385679   \n",
       "0  {\"cutoff\": \"quantile_0.1\", \"eval_fairness_grou...       24.385679   \n",
       "0  {\"cutoff\": \"quantile_0.25\", \"eval_fairness_gro...       24.385679   \n",
       "0  {\"cutoff\": \"quantile_0.25\", \"eval_fairness_gro...       24.385679   \n",
       "\n",
       "   test_size_n  test_size_frac  fair_main_equalized_odds_difference  \\\n",
       "0        89710             1.0                             0.095647   \n",
       "0        89710             1.0                             0.095647   \n",
       "0        89710             1.0                             0.218499   \n",
       "0        89710             1.0                             0.218499   \n",
       "\n",
       "   fair_main_equalized_odds_ratio  fair_main_demographic_parity_difference  \\\n",
       "0                        0.900878                                 0.086884   \n",
       "0                        0.900878                                 0.086884   \n",
       "0                        0.756825                                 0.200296   \n",
       "0                        0.756825                                 0.200296   \n",
       "\n",
       "   fair_main_demographic_parity_ratio  ...  perf_grp_precision_0  \\\n",
       "0                            0.910150  ...                   NaN   \n",
       "0                            0.910150  ...              0.117158   \n",
       "0                            0.778539  ...                   NaN   \n",
       "0                            0.778539  ...              0.121064   \n",
       "\n",
       "   perf_grp_precision_1  perf_grp_false positive rate_0  \\\n",
       "0                   NaN                             NaN   \n",
       "0              0.142796                        0.964946   \n",
       "0                   NaN                             NaN   \n",
       "0              0.161852                        0.898525   \n",
       "\n",
       "   perf_grp_false positive rate_1  perf_grp_false negative rate_0  \\\n",
       "0                             NaN                             NaN   \n",
       "0                        0.869299                        0.017314   \n",
       "0                             NaN                             NaN   \n",
       "0                        0.680027                        0.050253   \n",
       "\n",
       "   perf_grp_false negative rate_1  perf_grp_selection rate_0  \\\n",
       "0                             NaN                        NaN   \n",
       "0                        0.048906                   0.966991   \n",
       "0                             NaN                        NaN   \n",
       "0                        0.137527                   0.904430   \n",
       "\n",
       "   perf_grp_selection rate_1  perf_grp_count_0  perf_grp_count_1  \n",
       "0                        NaN               NaN               NaN  \n",
       "0                   0.880107           20540.0           69170.0  \n",
       "0                        NaN               NaN               NaN  \n",
       "0                   0.704135           20540.0           69170.0  \n",
       "\n",
       "[4 rows x 50 columns]"
      ]
     },
     "execution_count": 66,
     "metadata": {},
     "output_type": "execute_result"
    }
   ],
   "source": [
    "final_output = universe_analysis.generate_final_output(\n",
    "    y_pred_prob=probs_test,\n",
    "    y_test=y_true,\n",
    "    org_test=org_test,\n",
    "    filter_data=filter_sub_universe_data,\n",
    "    cp_metrics_df=cp_metrics_df,\n",
    "    save=True,\n",
    ")\n",
    "final_output"
   ]
  }
 ],
 "metadata": {
  "celltoolbar": "Tags",
  "kernelspec": {
   "display_name": "Python (CMA Fairness)",
   "language": "python",
   "name": "cma_fair_env"
  },
  "language_info": {
   "codemirror_mode": {
    "name": "ipython",
    "version": 3
   },
   "file_extension": ".py",
   "mimetype": "text/x-python",
   "name": "python",
   "nbconvert_exporter": "python",
   "pygments_lexer": "ipython3",
   "version": "3.10.12"
  },
  "papermill": {
   "default_parameters": {},
   "duration": 35.165074,
   "end_time": "2025-08-05T15:28:52.921150",
   "environment_variables": {},
   "exception": null,
   "input_path": "universe_analysis.ipynb",
   "output_path": "output/runs/15/notebooks/m_15-8c7c3708bbd9ec93664ee76da92590da.ipynb",
   "parameters": {
    "output_dir": "output",
    "run_no": "15",
    "seed": "2023",
    "universe": "{\"cutoff\": [\"quantile_0.1\", \"quantile_0.25\"], \"eval_fairness_grouping\": [\"majority-minority\", \"nationality-all\"], \"exclude_features\": \"none\", \"exclude_subgroups\": \"drop-non-german\", \"model\": \"penalized_logreg\", \"scale\": \"do-not-scale\", \"training_size\": \"5k\", \"training_year\": \"2014\"}",
    "universe_id": "8c7c3708bbd9ec93664ee76da92590da"
   },
   "start_time": "2025-08-05T15:28:17.756076",
   "version": "2.6.0"
  }
 },
 "nbformat": 4,
 "nbformat_minor": 5
}