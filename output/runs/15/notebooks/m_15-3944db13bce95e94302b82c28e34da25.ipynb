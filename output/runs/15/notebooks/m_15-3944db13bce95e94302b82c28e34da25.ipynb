{
 "cells": [
  {
   "cell_type": "code",
   "execution_count": 1,
   "id": "f159f837-637b-42ba-96b5-ec9a68c44524",
   "metadata": {
    "execution": {
     "iopub.execute_input": "2025-08-05T15:57:07.402810Z",
     "iopub.status.busy": "2025-08-05T15:57:07.402362Z",
     "iopub.status.idle": "2025-08-05T15:57:07.416153Z",
     "shell.execute_reply": "2025-08-05T15:57:07.415069Z"
    },
    "papermill": {
     "duration": 0.03368,
     "end_time": "2025-08-05T15:57:07.417891",
     "exception": false,
     "start_time": "2025-08-05T15:57:07.384211",
     "status": "completed"
    },
    "tags": []
   },
   "outputs": [
    {
     "name": "stdout",
     "output_type": "stream",
     "text": [
      "/dss/dsshome1/0C/ra93lal2/cma/CMA_Fairness_v2\n"
     ]
    },
    {
     "name": "stderr",
     "output_type": "stream",
     "text": [
      "/dss/dsshome1/0C/ra93lal2/.local/share/virtualenvs/CMA_Fairness_v2-3j10GkSs/lib/python3.10/site-packages/IPython/core/magics/osm.py:393: UserWarning: This is now an optional IPython functionality, using bookmarks requires you to install the `pickleshare` library.\n",
      "  bkms = self.shell.db.get('bookmarks', {})\n",
      "/dss/dsshome1/0C/ra93lal2/.local/share/virtualenvs/CMA_Fairness_v2-3j10GkSs/lib/python3.10/site-packages/IPython/core/magics/osm.py:417: UserWarning: This is now an optional IPython functionality, setting dhist requires you to install the `pickleshare` library.\n",
      "  self.shell.db['dhist'] = compress_dhist(dhist)[-100:]\n"
     ]
    }
   ],
   "source": [
    "%cd ~/cma/CMA_Fairness_v2"
   ]
  },
  {
   "cell_type": "markdown",
   "id": "de2603b9",
   "metadata": {
    "papermill": {
     "duration": 0.018412,
     "end_time": "2025-08-05T15:57:07.452847",
     "exception": false,
     "start_time": "2025-08-05T15:57:07.434435",
     "status": "completed"
    },
    "tags": []
   },
   "source": [
    "The following cell holds the definition of our parameters, these values can be overriden by rendering the with e.g. the following command:\n",
    "\n",
    "papermill -p alpha 0.2 -p ratio 0.3 universe_analysis.ipynb output/test_run.ipynb"
   ]
  },
  {
   "cell_type": "code",
   "execution_count": 2,
   "id": "a80968a0-40bb-4fa9-85ef-2d5eefb01975",
   "metadata": {
    "execution": {
     "iopub.execute_input": "2025-08-05T15:57:07.488075Z",
     "iopub.status.busy": "2025-08-05T15:57:07.487412Z",
     "iopub.status.idle": "2025-08-05T15:57:07.493041Z",
     "shell.execute_reply": "2025-08-05T15:57:07.491928Z"
    },
    "papermill": {
     "duration": 0.025547,
     "end_time": "2025-08-05T15:57:07.494948",
     "exception": false,
     "start_time": "2025-08-05T15:57:07.469401",
     "status": "completed"
    },
    "tags": []
   },
   "outputs": [
    {
     "name": "stdout",
     "output_type": "stream",
     "text": [
      "Current working directory: /dss/dsshome1/0C/ra93lal2/cma/CMA_Fairness_v2\n"
     ]
    }
   ],
   "source": [
    "import os\n",
    "print(\"Current working directory:\", os.getcwd())"
   ]
  },
  {
   "cell_type": "code",
   "execution_count": 3,
   "id": "2dce4c03",
   "metadata": {
    "execution": {
     "iopub.execute_input": "2025-08-05T15:57:07.532316Z",
     "iopub.status.busy": "2025-08-05T15:57:07.531276Z",
     "iopub.status.idle": "2025-08-05T15:57:07.538161Z",
     "shell.execute_reply": "2025-08-05T15:57:07.536950Z"
    },
    "papermill": {
     "duration": 0.028089,
     "end_time": "2025-08-05T15:57:07.540354",
     "exception": false,
     "start_time": "2025-08-05T15:57:07.512265",
     "status": "completed"
    },
    "tags": [
     "parameters"
    ]
   },
   "outputs": [],
   "source": [
    "run_no = 0\n",
    "universe_id = \"test\"\n",
    "universe = {\n",
    "    \"training_size\": \"25k\", # \"25k\", \"5k\", \"1k\"\n",
    "    \"training_year\": \"2014\", # \"2014\", \"2012_14\", \"2010_14\"\n",
    "    \"scale\": \"scale\", # \"scale\", \"do-not-scale\",\n",
    "    \"model\": \"elasticnet\", # \"logreg\", \"penalized_logreg\", \"rf\", \"gbm\", \"elasticnet\"\n",
    "    \"cutoff\": [\"quantile_0.15\", \"quantile_0.30\"],\n",
    "    \"exclude_features\": \"age\", # \"none\", \"nationality\", \"sex\", \"nationality-sex\", \"age\"\n",
    "    \"exclude_subgroups\": \"keep-all\", # \"keep-all\", \"drop-non-german\"\n",
    "    \"eval_fairness_grouping\": [\"majority-minority\", \"nationality-all\"]\n",
    "}\n",
    "\n",
    "output_dir=\"./output\"\n",
    "seed=0"
   ]
  },
  {
   "cell_type": "code",
   "execution_count": 4,
   "id": "42b46cfe",
   "metadata": {
    "execution": {
     "iopub.execute_input": "2025-08-05T15:57:07.573416Z",
     "iopub.status.busy": "2025-08-05T15:57:07.572974Z",
     "iopub.status.idle": "2025-08-05T15:57:07.578276Z",
     "shell.execute_reply": "2025-08-05T15:57:07.577106Z"
    },
    "papermill": {
     "duration": 0.023346,
     "end_time": "2025-08-05T15:57:07.580012",
     "exception": false,
     "start_time": "2025-08-05T15:57:07.556666",
     "status": "completed"
    },
    "tags": [
     "injected-parameters"
    ]
   },
   "outputs": [],
   "source": [
    "# Parameters\n",
    "universe_id = \"3944db13bce95e94302b82c28e34da25\"\n",
    "run_no = \"15\"\n",
    "universe = \"{\\\"cutoff\\\": [\\\"quantile_0.1\\\", \\\"quantile_0.25\\\"], \\\"eval_fairness_grouping\\\": [\\\"majority-minority\\\", \\\"nationality-all\\\"], \\\"exclude_features\\\": \\\"none\\\", \\\"exclude_subgroups\\\": \\\"keep-all\\\", \\\"model\\\": \\\"rf\\\", \\\"scale\\\": \\\"do-not-scale\\\", \\\"training_size\\\": \\\"5k\\\", \\\"training_year\\\": \\\"2010_14\\\"}\"\n",
    "output_dir = \"output\"\n",
    "seed = \"2023\"\n"
   ]
  },
  {
   "cell_type": "code",
   "execution_count": 5,
   "id": "1650acaf",
   "metadata": {
    "execution": {
     "iopub.execute_input": "2025-08-05T15:57:07.613757Z",
     "iopub.status.busy": "2025-08-05T15:57:07.613082Z",
     "iopub.status.idle": "2025-08-05T15:57:07.617959Z",
     "shell.execute_reply": "2025-08-05T15:57:07.616860Z"
    },
    "papermill": {
     "duration": 0.022801,
     "end_time": "2025-08-05T15:57:07.619504",
     "exception": false,
     "start_time": "2025-08-05T15:57:07.596703",
     "status": "completed"
    },
    "tags": []
   },
   "outputs": [],
   "source": [
    "import json\n",
    "if isinstance(universe, str):\n",
    "    universe = json.loads(universe)"
   ]
  },
  {
   "cell_type": "code",
   "execution_count": 6,
   "id": "16620c48",
   "metadata": {
    "execution": {
     "iopub.execute_input": "2025-08-05T15:57:07.654410Z",
     "iopub.status.busy": "2025-08-05T15:57:07.653649Z",
     "iopub.status.idle": "2025-08-05T15:57:07.704718Z",
     "shell.execute_reply": "2025-08-05T15:57:07.703647Z"
    },
    "papermill": {
     "duration": 0.070556,
     "end_time": "2025-08-05T15:57:07.707011",
     "exception": false,
     "start_time": "2025-08-05T15:57:07.636455",
     "status": "completed"
    },
    "tags": []
   },
   "outputs": [],
   "source": [
    "# Auto-reload the custom package\n",
    "%load_ext autoreload\n",
    "%autoreload 1\n",
    "%aimport fairness_multiverse"
   ]
  },
  {
   "cell_type": "code",
   "execution_count": 7,
   "id": "01c5c9f3",
   "metadata": {
    "execution": {
     "iopub.execute_input": "2025-08-05T15:57:07.755442Z",
     "iopub.status.busy": "2025-08-05T15:57:07.754768Z",
     "iopub.status.idle": "2025-08-05T15:57:09.699182Z",
     "shell.execute_reply": "2025-08-05T15:57:09.698056Z"
    },
    "papermill": {
     "duration": 1.971136,
     "end_time": "2025-08-05T15:57:09.701298",
     "exception": false,
     "start_time": "2025-08-05T15:57:07.730162",
     "status": "completed"
    },
    "tags": []
   },
   "outputs": [],
   "source": [
    "from fairness_multiverse.universe import UniverseAnalysis\n",
    "\n",
    "universe_analysis = UniverseAnalysis(\n",
    "    run_no = run_no,\n",
    "    universe_id = universe_id,\n",
    "    universe = universe,\n",
    "    output_dir=output_dir,\n",
    ")"
   ]
  },
  {
   "cell_type": "code",
   "execution_count": 8,
   "id": "106241f5",
   "metadata": {
    "execution": {
     "iopub.execute_input": "2025-08-05T15:57:09.743405Z",
     "iopub.status.busy": "2025-08-05T15:57:09.742331Z",
     "iopub.status.idle": "2025-08-05T15:57:09.749876Z",
     "shell.execute_reply": "2025-08-05T15:57:09.748523Z"
    },
    "papermill": {
     "duration": 0.030412,
     "end_time": "2025-08-05T15:57:09.751966",
     "exception": false,
     "start_time": "2025-08-05T15:57:09.721554",
     "status": "completed"
    },
    "tags": []
   },
   "outputs": [
    {
     "name": "stdout",
     "output_type": "stream",
     "text": [
      "Using Seed: 2023\n"
     ]
    }
   ],
   "source": [
    "import numpy as np\n",
    "parsed_seed = int(seed)\n",
    "np.random.seed(parsed_seed)\n",
    "print(f\"Using Seed: {parsed_seed}\")"
   ]
  },
  {
   "cell_type": "markdown",
   "id": "e0ebdc57",
   "metadata": {
    "papermill": {
     "duration": 0.020456,
     "end_time": "2025-08-05T15:57:09.795331",
     "exception": false,
     "start_time": "2025-08-05T15:57:09.774875",
     "status": "completed"
    },
    "tags": []
   },
   "source": [
    "# Loading Data"
   ]
  },
  {
   "cell_type": "code",
   "execution_count": 9,
   "id": "f0496b8a",
   "metadata": {
    "execution": {
     "iopub.execute_input": "2025-08-05T15:57:09.836868Z",
     "iopub.status.busy": "2025-08-05T15:57:09.835966Z",
     "iopub.status.idle": "2025-08-05T15:57:21.569898Z",
     "shell.execute_reply": "2025-08-05T15:57:21.568538Z"
    },
    "papermill": {
     "duration": 11.756036,
     "end_time": "2025-08-05T15:57:21.571578",
     "exception": false,
     "start_time": "2025-08-05T15:57:09.815542",
     "status": "completed"
    },
    "tags": []
   },
   "outputs": [
    {
     "name": "stdout",
     "output_type": "stream",
     "text": [
      "Loading SIAB data from cache: data/siab_cached.csv.gz\n"
     ]
    },
    {
     "name": "stdout",
     "output_type": "stream",
     "text": [
      "(643690, 164)\n"
     ]
    }
   ],
   "source": [
    "from pathlib import Path\n",
    "import pandas as pd\n",
    "\n",
    "# File paths\n",
    "raw_file = Path(\"data/raw/siab.csv\")\n",
    "cache_file = Path(\"data/siab_cached.csv.gz\")\n",
    "\n",
    "# Ensure cache directory exists\n",
    "cache_file.parent.mkdir(parents=True, exist_ok=True)\n",
    "\n",
    "# Load with simple caching\n",
    "if cache_file.exists():\n",
    "    print(f\"Loading SIAB data from cache: {cache_file}\")\n",
    "    siab = pd.read_csv(cache_file, compression='gzip')\n",
    "else:\n",
    "    print(f\"Cache not found. Reading raw SIAB data: {raw_file}\")\n",
    "    siab = pd.read_csv(raw_file)\n",
    "    siab.to_csv(cache_file, index=False, compression='gzip')\n",
    "    print(f\"Cached SIAB data to: {cache_file}\")\n",
    "\n",
    "print(siab.shape)"
   ]
  },
  {
   "cell_type": "code",
   "execution_count": 10,
   "id": "db0ca512-5f53-4dba-abdb-a2888bca41ba",
   "metadata": {
    "execution": {
     "iopub.execute_input": "2025-08-05T15:57:21.613744Z",
     "iopub.status.busy": "2025-08-05T15:57:21.613038Z",
     "iopub.status.idle": "2025-08-05T15:57:21.620335Z",
     "shell.execute_reply": "2025-08-05T15:57:21.619103Z"
    },
    "papermill": {
     "duration": 0.030694,
     "end_time": "2025-08-05T15:57:21.622419",
     "exception": false,
     "start_time": "2025-08-05T15:57:21.591725",
     "status": "completed"
    },
    "tags": []
   },
   "outputs": [],
   "source": [
    "#siab"
   ]
  },
  {
   "cell_type": "markdown",
   "id": "997051c5-15bd-4b69-9786-c3001a3ce484",
   "metadata": {
    "papermill": {
     "duration": 0.020824,
     "end_time": "2025-08-05T15:57:21.665263",
     "exception": false,
     "start_time": "2025-08-05T15:57:21.644439",
     "status": "completed"
    },
    "tags": []
   },
   "source": [
    "# Splitting Data and Setting Training Data Size"
   ]
  },
  {
   "cell_type": "code",
   "execution_count": 11,
   "id": "aea9c6ef-6f46-42c8-85eb-5a62025c1508",
   "metadata": {
    "execution": {
     "iopub.execute_input": "2025-08-05T15:57:21.704721Z",
     "iopub.status.busy": "2025-08-05T15:57:21.703782Z",
     "iopub.status.idle": "2025-08-05T15:57:22.746255Z",
     "shell.execute_reply": "2025-08-05T15:57:22.745268Z"
    },
    "papermill": {
     "duration": 1.064675,
     "end_time": "2025-08-05T15:57:22.748237",
     "exception": false,
     "start_time": "2025-08-05T15:57:21.683562",
     "status": "completed"
    },
    "tags": []
   },
   "outputs": [],
   "source": [
    "from fairness_multiverse.universe import sample_by_year_size\n",
    "\n",
    "siab_train = sample_by_year_size(siab,\n",
    "                               training_year=universe[\"training_year\"],\n",
    "                               training_size=universe[\"training_size\"])"
   ]
  },
  {
   "cell_type": "code",
   "execution_count": 12,
   "id": "8d3afb32-789d-442c-8d5d-9f5aa8dd2eed",
   "metadata": {
    "execution": {
     "iopub.execute_input": "2025-08-05T15:57:22.801663Z",
     "iopub.status.busy": "2025-08-05T15:57:22.800826Z",
     "iopub.status.idle": "2025-08-05T15:57:22.806637Z",
     "shell.execute_reply": "2025-08-05T15:57:22.805367Z"
    },
    "papermill": {
     "duration": 0.027675,
     "end_time": "2025-08-05T15:57:22.808570",
     "exception": false,
     "start_time": "2025-08-05T15:57:22.780895",
     "status": "completed"
    },
    "tags": []
   },
   "outputs": [],
   "source": [
    "#siab_train.shape"
   ]
  },
  {
   "cell_type": "code",
   "execution_count": 13,
   "id": "d582db68-1a4c-47fb-84fc-08518dc1975a",
   "metadata": {
    "execution": {
     "iopub.execute_input": "2025-08-05T15:57:22.849407Z",
     "iopub.status.busy": "2025-08-05T15:57:22.848979Z",
     "iopub.status.idle": "2025-08-05T15:57:22.854291Z",
     "shell.execute_reply": "2025-08-05T15:57:22.853180Z"
    },
    "papermill": {
     "duration": 0.028172,
     "end_time": "2025-08-05T15:57:22.856563",
     "exception": false,
     "start_time": "2025-08-05T15:57:22.828391",
     "status": "completed"
    },
    "tags": []
   },
   "outputs": [],
   "source": [
    "#display(siab_train.groupby(\"year\").size())"
   ]
  },
  {
   "cell_type": "code",
   "execution_count": 14,
   "id": "a561edb4-d032-42cb-8256-22eac1111c64",
   "metadata": {
    "execution": {
     "iopub.execute_input": "2025-08-05T15:57:22.897256Z",
     "iopub.status.busy": "2025-08-05T15:57:22.896749Z",
     "iopub.status.idle": "2025-08-05T15:57:23.142827Z",
     "shell.execute_reply": "2025-08-05T15:57:23.141835Z"
    },
    "papermill": {
     "duration": 0.269561,
     "end_time": "2025-08-05T15:57:23.144724",
     "exception": false,
     "start_time": "2025-08-05T15:57:22.875163",
     "status": "completed"
    },
    "tags": []
   },
   "outputs": [],
   "source": [
    "#siab_train = siab_s[siab_s.year < 2015]\n",
    "siab_calib = siab[siab.year == 2015]\n",
    "siab_test = siab[siab.year == 2016]"
   ]
  },
  {
   "cell_type": "code",
   "execution_count": 15,
   "id": "472de16f-c3db-4916-846b-1f0de9cf1746",
   "metadata": {
    "execution": {
     "iopub.execute_input": "2025-08-05T15:57:23.180361Z",
     "iopub.status.busy": "2025-08-05T15:57:23.179571Z",
     "iopub.status.idle": "2025-08-05T15:57:23.187985Z",
     "shell.execute_reply": "2025-08-05T15:57:23.186881Z"
    },
    "papermill": {
     "duration": 0.027594,
     "end_time": "2025-08-05T15:57:23.189866",
     "exception": false,
     "start_time": "2025-08-05T15:57:23.162272",
     "status": "completed"
    },
    "tags": []
   },
   "outputs": [],
   "source": [
    "X_train = siab_train.iloc[:,4:164]\n",
    "y_train = siab_train.iloc[:, [3]]"
   ]
  },
  {
   "cell_type": "code",
   "execution_count": 16,
   "id": "828c96af-f43a-4ed6-ba47-8ac73a47d56c",
   "metadata": {
    "execution": {
     "iopub.execute_input": "2025-08-05T15:57:23.225686Z",
     "iopub.status.busy": "2025-08-05T15:57:23.225169Z",
     "iopub.status.idle": "2025-08-05T15:57:23.278166Z",
     "shell.execute_reply": "2025-08-05T15:57:23.276708Z"
    },
    "papermill": {
     "duration": 0.072155,
     "end_time": "2025-08-05T15:57:23.280107",
     "exception": false,
     "start_time": "2025-08-05T15:57:23.207952",
     "status": "completed"
    },
    "tags": []
   },
   "outputs": [],
   "source": [
    "X_calib = siab_calib.iloc[:,4:164]\n",
    "y_calib = siab_calib.iloc[:, [3]]"
   ]
  },
  {
   "cell_type": "code",
   "execution_count": 17,
   "id": "c34be9c3-6bd6-476e-acd3-845840e303be",
   "metadata": {
    "execution": {
     "iopub.execute_input": "2025-08-05T15:57:23.317673Z",
     "iopub.status.busy": "2025-08-05T15:57:23.316830Z",
     "iopub.status.idle": "2025-08-05T15:57:23.373193Z",
     "shell.execute_reply": "2025-08-05T15:57:23.371990Z"
    },
    "papermill": {
     "duration": 0.083135,
     "end_time": "2025-08-05T15:57:23.381831",
     "exception": false,
     "start_time": "2025-08-05T15:57:23.298696",
     "status": "completed"
    },
    "tags": []
   },
   "outputs": [],
   "source": [
    "X_test = siab_test.iloc[:,4:164]\n",
    "y_true = siab_test.iloc[:, [3]]"
   ]
  },
  {
   "cell_type": "code",
   "execution_count": 18,
   "id": "e6c733c5",
   "metadata": {
    "execution": {
     "iopub.execute_input": "2025-08-05T15:57:23.419068Z",
     "iopub.status.busy": "2025-08-05T15:57:23.418376Z",
     "iopub.status.idle": "2025-08-05T15:57:23.515395Z",
     "shell.execute_reply": "2025-08-05T15:57:23.514357Z"
    },
    "papermill": {
     "duration": 0.117411,
     "end_time": "2025-08-05T15:57:23.517454",
     "exception": false,
     "start_time": "2025-08-05T15:57:23.400043",
     "status": "completed"
    },
    "tags": []
   },
   "outputs": [],
   "source": [
    "# Auxiliary data needed downstream in the pipeline\n",
    "\n",
    "org_train = X_train.copy()\n",
    "org_test = X_test.copy()\n",
    "org_calib = X_calib.copy()"
   ]
  },
  {
   "cell_type": "markdown",
   "id": "0a4a1b33",
   "metadata": {
    "papermill": {
     "duration": 0.017119,
     "end_time": "2025-08-05T15:57:23.552073",
     "exception": false,
     "start_time": "2025-08-05T15:57:23.534954",
     "status": "completed"
    },
    "tags": []
   },
   "source": [
    "# Preprocessing Data"
   ]
  },
  {
   "cell_type": "code",
   "execution_count": 19,
   "id": "ca879031",
   "metadata": {
    "execution": {
     "iopub.execute_input": "2025-08-05T15:57:23.589408Z",
     "iopub.status.busy": "2025-08-05T15:57:23.588605Z",
     "iopub.status.idle": "2025-08-05T15:57:23.595666Z",
     "shell.execute_reply": "2025-08-05T15:57:23.594335Z"
    },
    "papermill": {
     "duration": 0.027384,
     "end_time": "2025-08-05T15:57:23.597565",
     "exception": false,
     "start_time": "2025-08-05T15:57:23.570181",
     "status": "completed"
    },
    "tags": []
   },
   "outputs": [],
   "source": [
    "# EXCLUDE PROTECTED FEATURES\n",
    "# ----------------------\n",
    "# \"exclude_features\": \"none\", # \"nationality\", \"sex\", \"nationality-sex\"\n",
    "\n",
    "excluded_features = universe[\"exclude_features\"].split(\"-\") # split, e.g.: \"nationality-sex\" -> [\"nationality\", \"sex\"]\n",
    "excluded_features_dictionary = {\n",
    "    \"nationality\": [\"maxdeutsch1\", \"maxdeutsch.Missing.\"],\n",
    "    \"sex\": [\"frau1\"],\n",
    "    \"age\": [\"age\"],\n",
    "}"
   ]
  },
  {
   "cell_type": "code",
   "execution_count": 20,
   "id": "b745ac60",
   "metadata": {
    "execution": {
     "iopub.execute_input": "2025-08-05T15:57:23.633343Z",
     "iopub.status.busy": "2025-08-05T15:57:23.632526Z",
     "iopub.status.idle": "2025-08-05T15:57:23.638248Z",
     "shell.execute_reply": "2025-08-05T15:57:23.637152Z"
    },
    "papermill": {
     "duration": 0.025214,
     "end_time": "2025-08-05T15:57:23.640337",
     "exception": false,
     "start_time": "2025-08-05T15:57:23.615123",
     "status": "completed"
    },
    "tags": []
   },
   "outputs": [],
   "source": [
    "# Code nice names to column names\n",
    "\n",
    "excluded_features_columns = [\n",
    "    excluded_features_dictionary[f] for f in excluded_features if len(f) > 0 and f != \"none\"\n",
    "]"
   ]
  },
  {
   "cell_type": "code",
   "execution_count": 21,
   "id": "f84f73a2",
   "metadata": {
    "execution": {
     "iopub.execute_input": "2025-08-05T15:57:23.678211Z",
     "iopub.status.busy": "2025-08-05T15:57:23.677334Z",
     "iopub.status.idle": "2025-08-05T15:57:23.683706Z",
     "shell.execute_reply": "2025-08-05T15:57:23.682805Z"
    },
    "papermill": {
     "duration": 0.026323,
     "end_time": "2025-08-05T15:57:23.685194",
     "exception": false,
     "start_time": "2025-08-05T15:57:23.658871",
     "status": "completed"
    },
    "tags": []
   },
   "outputs": [],
   "source": [
    "from utils import flatten_once\n",
    "\n",
    "excluded_features_columns = flatten_once(excluded_features_columns)"
   ]
  },
  {
   "cell_type": "code",
   "execution_count": 22,
   "id": "884dea22",
   "metadata": {
    "execution": {
     "iopub.execute_input": "2025-08-05T15:57:23.723866Z",
     "iopub.status.busy": "2025-08-05T15:57:23.723471Z",
     "iopub.status.idle": "2025-08-05T15:57:23.730033Z",
     "shell.execute_reply": "2025-08-05T15:57:23.729021Z"
    },
    "papermill": {
     "duration": 0.027585,
     "end_time": "2025-08-05T15:57:23.731593",
     "exception": false,
     "start_time": "2025-08-05T15:57:23.704008",
     "status": "completed"
    },
    "tags": []
   },
   "outputs": [],
   "source": [
    "if len(excluded_features_columns) > 0:\n",
    "    print(f\"Dropping features: {excluded_features_columns}\")\n",
    "    X_train.drop(excluded_features_columns, axis=1, inplace=True)"
   ]
  },
  {
   "cell_type": "code",
   "execution_count": 23,
   "id": "95ab8b16",
   "metadata": {
    "execution": {
     "iopub.execute_input": "2025-08-05T15:57:23.769798Z",
     "iopub.status.busy": "2025-08-05T15:57:23.769095Z",
     "iopub.status.idle": "2025-08-05T15:57:23.776516Z",
     "shell.execute_reply": "2025-08-05T15:57:23.775501Z"
    },
    "papermill": {
     "duration": 0.029016,
     "end_time": "2025-08-05T15:57:23.778899",
     "exception": false,
     "start_time": "2025-08-05T15:57:23.749883",
     "status": "completed"
    },
    "tags": []
   },
   "outputs": [],
   "source": [
    "if len(excluded_features_columns) > 0:\n",
    "    print(f\"Dropping features: {excluded_features_columns}\")\n",
    "    X_test.drop(excluded_features_columns, axis=1, inplace=True)"
   ]
  },
  {
   "cell_type": "code",
   "execution_count": 24,
   "id": "1853aaf5-fb9f-46cb-a2b5-8ea4ae2237e4",
   "metadata": {
    "execution": {
     "iopub.execute_input": "2025-08-05T15:57:23.818047Z",
     "iopub.status.busy": "2025-08-05T15:57:23.817290Z",
     "iopub.status.idle": "2025-08-05T15:57:23.823671Z",
     "shell.execute_reply": "2025-08-05T15:57:23.822717Z"
    },
    "papermill": {
     "duration": 0.027741,
     "end_time": "2025-08-05T15:57:23.825395",
     "exception": false,
     "start_time": "2025-08-05T15:57:23.797654",
     "status": "completed"
    },
    "tags": []
   },
   "outputs": [],
   "source": [
    "if len(excluded_features_columns) > 0:\n",
    "    print(f\"Dropping features: {excluded_features_columns}\")\n",
    "    X_calib.drop(excluded_features_columns, axis=1, inplace=True)"
   ]
  },
  {
   "cell_type": "code",
   "execution_count": 25,
   "id": "76c4dc6d",
   "metadata": {
    "execution": {
     "iopub.execute_input": "2025-08-05T15:57:23.863171Z",
     "iopub.status.busy": "2025-08-05T15:57:23.862491Z",
     "iopub.status.idle": "2025-08-05T15:57:23.867847Z",
     "shell.execute_reply": "2025-08-05T15:57:23.866898Z"
    },
    "papermill": {
     "duration": 0.024986,
     "end_time": "2025-08-05T15:57:23.869608",
     "exception": false,
     "start_time": "2025-08-05T15:57:23.844622",
     "status": "completed"
    },
    "tags": []
   },
   "outputs": [],
   "source": [
    "# EXCLUDE CERTAIN SUBGROUPS\n",
    "# ----------------------\n",
    "\n",
    "mode = universe.get(\"exclude_subgroups\", \"keep-all\") \n",
    "# Fetches the exclude_subgroups setting from the universe dict.\n",
    "# Defaults to \"keep-all\" if the key is missing."
   ]
  },
  {
   "cell_type": "code",
   "execution_count": 26,
   "id": "21994072",
   "metadata": {
    "execution": {
     "iopub.execute_input": "2025-08-05T15:57:23.906755Z",
     "iopub.status.busy": "2025-08-05T15:57:23.906052Z",
     "iopub.status.idle": "2025-08-05T15:57:23.912492Z",
     "shell.execute_reply": "2025-08-05T15:57:23.911468Z"
    },
    "papermill": {
     "duration": 0.026544,
     "end_time": "2025-08-05T15:57:23.914228",
     "exception": false,
     "start_time": "2025-08-05T15:57:23.887684",
     "status": "completed"
    },
    "tags": []
   },
   "outputs": [],
   "source": [
    "if mode == \"keep-all\":\n",
    "    keep_mask = pd.Series(True, index=org_train.index)\n",
    "\n",
    "# org_train contains the original feature columns from features_org (in Simson)\n",
    "# features_org contains unprocessed features, for me X_train at beginning ???\n",
    "# For keep-all, creates a boolean Series (keep_mask) of all True, so no rows are removed.\n",
    "\n",
    "elif mode == \"drop-non-german\":\n",
    "    keep_mask = org_train[\"maxdeutsch1\"] == 1 # ??? what about missing values?\n",
    "\n",
    "else:\n",
    "    raise ValueError(f\"Unsupported mode for exclude_subgroups: {mode}\")"
   ]
  },
  {
   "cell_type": "code",
   "execution_count": 27,
   "id": "71651440",
   "metadata": {
    "execution": {
     "iopub.execute_input": "2025-08-05T15:57:23.952927Z",
     "iopub.status.busy": "2025-08-05T15:57:23.952462Z",
     "iopub.status.idle": "2025-08-05T15:57:23.959206Z",
     "shell.execute_reply": "2025-08-05T15:57:23.958238Z"
    },
    "papermill": {
     "duration": 0.027586,
     "end_time": "2025-08-05T15:57:23.961208",
     "exception": false,
     "start_time": "2025-08-05T15:57:23.933622",
     "status": "completed"
    },
    "tags": []
   },
   "outputs": [],
   "source": [
    "n_drop = (~keep_mask).sum() # Calculates how many rows are set to be dropped\n",
    "if n_drop > 0:\n",
    "    pct = n_drop / len(keep_mask) * 100\n",
    "    print(f\"Dropping {n_drop} rows ({pct:.2f}%) where mode='{mode}'\")"
   ]
  },
  {
   "cell_type": "code",
   "execution_count": 28,
   "id": "5fb8eee5",
   "metadata": {
    "execution": {
     "iopub.execute_input": "2025-08-05T15:57:24.003062Z",
     "iopub.status.busy": "2025-08-05T15:57:24.002385Z",
     "iopub.status.idle": "2025-08-05T15:57:24.010871Z",
     "shell.execute_reply": "2025-08-05T15:57:24.009687Z"
    },
    "papermill": {
     "duration": 0.031334,
     "end_time": "2025-08-05T15:57:24.012708",
     "exception": false,
     "start_time": "2025-08-05T15:57:23.981374",
     "status": "completed"
    },
    "tags": []
   },
   "outputs": [],
   "source": [
    "X_train = X_train[keep_mask]"
   ]
  },
  {
   "cell_type": "code",
   "execution_count": 29,
   "id": "b202bb3a",
   "metadata": {
    "execution": {
     "iopub.execute_input": "2025-08-05T15:57:24.055154Z",
     "iopub.status.busy": "2025-08-05T15:57:24.054194Z",
     "iopub.status.idle": "2025-08-05T15:57:24.061710Z",
     "shell.execute_reply": "2025-08-05T15:57:24.060432Z"
    },
    "papermill": {
     "duration": 0.030207,
     "end_time": "2025-08-05T15:57:24.063305",
     "exception": false,
     "start_time": "2025-08-05T15:57:24.033098",
     "status": "completed"
    },
    "tags": []
   },
   "outputs": [],
   "source": [
    "y_train = y_train[keep_mask]"
   ]
  },
  {
   "cell_type": "markdown",
   "id": "493e2ac3",
   "metadata": {
    "papermill": {
     "duration": 0.009586,
     "end_time": "2025-08-05T15:57:24.084031",
     "exception": false,
     "start_time": "2025-08-05T15:57:24.074445",
     "status": "completed"
    },
    "tags": []
   },
   "source": [
    "# Model Training"
   ]
  },
  {
   "cell_type": "code",
   "execution_count": 30,
   "id": "679e1268",
   "metadata": {
    "execution": {
     "iopub.execute_input": "2025-08-05T15:57:24.109124Z",
     "iopub.status.busy": "2025-08-05T15:57:24.108767Z",
     "iopub.status.idle": "2025-08-05T15:57:24.220373Z",
     "shell.execute_reply": "2025-08-05T15:57:24.219213Z"
    },
    "papermill": {
     "duration": 0.124548,
     "end_time": "2025-08-05T15:57:24.222499",
     "exception": false,
     "start_time": "2025-08-05T15:57:24.097951",
     "status": "completed"
    },
    "tags": []
   },
   "outputs": [],
   "source": [
    "from sklearn.linear_model import LogisticRegression\n",
    "from sklearn.ensemble import GradientBoostingClassifier, RandomForestClassifier\n",
    "\n",
    "if (universe[\"model\"] == \"logreg\"):\n",
    "    model = LogisticRegression() #penalty=\"none\", solver=\"newton-cg\", max_iter=1) # include random_state=19 ?\n",
    "elif (universe[\"model\"] == \"penalized_logreg\"):\n",
    "    model = LogisticRegression(penalty=\"l2\", C=0.1) #, solver=\"newton-cg\", max_iter=1)\n",
    "elif (universe[\"model\"] == \"rf\"):\n",
    "    model = RandomForestClassifier() # n_estimators=100, n_jobs=-1\n",
    "elif (universe[\"model\"] == \"gbm\"):\n",
    "    model = GradientBoostingClassifier()\n",
    "elif (universe[\"model\"] == \"elasticnet\"):\n",
    "    model = LogisticRegression(penalty = 'elasticnet', solver = 'saga', l1_ratio = 0.5) # max_iter=5000\n",
    "else:\n",
    "    raise \"Unsupported universe.model\""
   ]
  },
  {
   "cell_type": "code",
   "execution_count": 31,
   "id": "0cc8f744",
   "metadata": {
    "execution": {
     "iopub.execute_input": "2025-08-05T15:57:24.266451Z",
     "iopub.status.busy": "2025-08-05T15:57:24.265822Z",
     "iopub.status.idle": "2025-08-05T15:57:24.273048Z",
     "shell.execute_reply": "2025-08-05T15:57:24.272000Z"
    },
    "papermill": {
     "duration": 0.0302,
     "end_time": "2025-08-05T15:57:24.275209",
     "exception": false,
     "start_time": "2025-08-05T15:57:24.245009",
     "status": "completed"
    },
    "tags": []
   },
   "outputs": [],
   "source": [
    "import numpy as np\n",
    "from sklearn.pipeline import Pipeline\n",
    "from sklearn.preprocessing import StandardScaler\n",
    "\n",
    "model = Pipeline([\n",
    "    #(\"continuous_processor\", continuous_processor),\n",
    "    #(\"categorical_preprocessor\", categorical_preprocessor),\n",
    "    (\"scale\", StandardScaler() if universe[\"scale\"] == \"scale\" else None), \n",
    "    (\"model\", model),\n",
    "])"
   ]
  },
  {
   "cell_type": "code",
   "execution_count": 32,
   "id": "9442c04d",
   "metadata": {
    "execution": {
     "iopub.execute_input": "2025-08-05T15:57:24.320538Z",
     "iopub.status.busy": "2025-08-05T15:57:24.319484Z",
     "iopub.status.idle": "2025-08-05T15:57:25.963117Z",
     "shell.execute_reply": "2025-08-05T15:57:25.961955Z"
    },
    "papermill": {
     "duration": 1.668344,
     "end_time": "2025-08-05T15:57:25.964972",
     "exception": false,
     "start_time": "2025-08-05T15:57:24.296628",
     "status": "completed"
    },
    "tags": []
   },
   "outputs": [
    {
     "data": {
      "text/html": [
       "<style>#sk-container-id-1 {color: black;background-color: white;}#sk-container-id-1 pre{padding: 0;}#sk-container-id-1 div.sk-toggleable {background-color: white;}#sk-container-id-1 label.sk-toggleable__label {cursor: pointer;display: block;width: 100%;margin-bottom: 0;padding: 0.3em;box-sizing: border-box;text-align: center;}#sk-container-id-1 label.sk-toggleable__label-arrow:before {content: \"▸\";float: left;margin-right: 0.25em;color: #696969;}#sk-container-id-1 label.sk-toggleable__label-arrow:hover:before {color: black;}#sk-container-id-1 div.sk-estimator:hover label.sk-toggleable__label-arrow:before {color: black;}#sk-container-id-1 div.sk-toggleable__content {max-height: 0;max-width: 0;overflow: hidden;text-align: left;background-color: #f0f8ff;}#sk-container-id-1 div.sk-toggleable__content pre {margin: 0.2em;color: black;border-radius: 0.25em;background-color: #f0f8ff;}#sk-container-id-1 input.sk-toggleable__control:checked~div.sk-toggleable__content {max-height: 200px;max-width: 100%;overflow: auto;}#sk-container-id-1 input.sk-toggleable__control:checked~label.sk-toggleable__label-arrow:before {content: \"▾\";}#sk-container-id-1 div.sk-estimator input.sk-toggleable__control:checked~label.sk-toggleable__label {background-color: #d4ebff;}#sk-container-id-1 div.sk-label input.sk-toggleable__control:checked~label.sk-toggleable__label {background-color: #d4ebff;}#sk-container-id-1 input.sk-hidden--visually {border: 0;clip: rect(1px 1px 1px 1px);clip: rect(1px, 1px, 1px, 1px);height: 1px;margin: -1px;overflow: hidden;padding: 0;position: absolute;width: 1px;}#sk-container-id-1 div.sk-estimator {font-family: monospace;background-color: #f0f8ff;border: 1px dotted black;border-radius: 0.25em;box-sizing: border-box;margin-bottom: 0.5em;}#sk-container-id-1 div.sk-estimator:hover {background-color: #d4ebff;}#sk-container-id-1 div.sk-parallel-item::after {content: \"\";width: 100%;border-bottom: 1px solid gray;flex-grow: 1;}#sk-container-id-1 div.sk-label:hover label.sk-toggleable__label {background-color: #d4ebff;}#sk-container-id-1 div.sk-serial::before {content: \"\";position: absolute;border-left: 1px solid gray;box-sizing: border-box;top: 0;bottom: 0;left: 50%;z-index: 0;}#sk-container-id-1 div.sk-serial {display: flex;flex-direction: column;align-items: center;background-color: white;padding-right: 0.2em;padding-left: 0.2em;position: relative;}#sk-container-id-1 div.sk-item {position: relative;z-index: 1;}#sk-container-id-1 div.sk-parallel {display: flex;align-items: stretch;justify-content: center;background-color: white;position: relative;}#sk-container-id-1 div.sk-item::before, #sk-container-id-1 div.sk-parallel-item::before {content: \"\";position: absolute;border-left: 1px solid gray;box-sizing: border-box;top: 0;bottom: 0;left: 50%;z-index: -1;}#sk-container-id-1 div.sk-parallel-item {display: flex;flex-direction: column;z-index: 1;position: relative;background-color: white;}#sk-container-id-1 div.sk-parallel-item:first-child::after {align-self: flex-end;width: 50%;}#sk-container-id-1 div.sk-parallel-item:last-child::after {align-self: flex-start;width: 50%;}#sk-container-id-1 div.sk-parallel-item:only-child::after {width: 0;}#sk-container-id-1 div.sk-dashed-wrapped {border: 1px dashed gray;margin: 0 0.4em 0.5em 0.4em;box-sizing: border-box;padding-bottom: 0.4em;background-color: white;}#sk-container-id-1 div.sk-label label {font-family: monospace;font-weight: bold;display: inline-block;line-height: 1.2em;}#sk-container-id-1 div.sk-label-container {text-align: center;}#sk-container-id-1 div.sk-container {/* jupyter's `normalize.less` sets `[hidden] { display: none; }` but bootstrap.min.css set `[hidden] { display: none !important; }` so we also need the `!important` here to be able to override the default hidden behavior on the sphinx rendered scikit-learn.org. See: https://github.com/scikit-learn/scikit-learn/issues/21755 */display: inline-block !important;position: relative;}#sk-container-id-1 div.sk-text-repr-fallback {display: none;}</style><div id=\"sk-container-id-1\" class=\"sk-top-container\"><div class=\"sk-text-repr-fallback\"><pre>Pipeline(steps=[(&#x27;scale&#x27;, None), (&#x27;model&#x27;, RandomForestClassifier())])</pre><b>In a Jupyter environment, please rerun this cell to show the HTML representation or trust the notebook. <br />On GitHub, the HTML representation is unable to render, please try loading this page with nbviewer.org.</b></div><div class=\"sk-container\" hidden><div class=\"sk-item sk-dashed-wrapped\"><div class=\"sk-label-container\"><div class=\"sk-label sk-toggleable\"><input class=\"sk-toggleable__control sk-hidden--visually\" id=\"sk-estimator-id-1\" type=\"checkbox\" ><label for=\"sk-estimator-id-1\" class=\"sk-toggleable__label sk-toggleable__label-arrow\">Pipeline</label><div class=\"sk-toggleable__content\"><pre>Pipeline(steps=[(&#x27;scale&#x27;, None), (&#x27;model&#x27;, RandomForestClassifier())])</pre></div></div></div><div class=\"sk-serial\"><div class=\"sk-item\"><div class=\"sk-estimator sk-toggleable\"><input class=\"sk-toggleable__control sk-hidden--visually\" id=\"sk-estimator-id-2\" type=\"checkbox\" ><label for=\"sk-estimator-id-2\" class=\"sk-toggleable__label sk-toggleable__label-arrow\">None</label><div class=\"sk-toggleable__content\"><pre>None</pre></div></div></div><div class=\"sk-item\"><div class=\"sk-estimator sk-toggleable\"><input class=\"sk-toggleable__control sk-hidden--visually\" id=\"sk-estimator-id-3\" type=\"checkbox\" ><label for=\"sk-estimator-id-3\" class=\"sk-toggleable__label sk-toggleable__label-arrow\">RandomForestClassifier</label><div class=\"sk-toggleable__content\"><pre>RandomForestClassifier()</pre></div></div></div></div></div></div></div>"
      ],
      "text/plain": [
       "Pipeline(steps=[('scale', None), ('model', RandomForestClassifier())])"
      ]
     },
     "execution_count": 32,
     "metadata": {},
     "output_type": "execute_result"
    }
   ],
   "source": [
    "model.fit(X_train, y_train.values.ravel())"
   ]
  },
  {
   "cell_type": "code",
   "execution_count": 33,
   "id": "af59f8c0",
   "metadata": {
    "execution": {
     "iopub.execute_input": "2025-08-05T15:57:26.011717Z",
     "iopub.status.busy": "2025-08-05T15:57:26.010878Z",
     "iopub.status.idle": "2025-08-05T15:57:26.016747Z",
     "shell.execute_reply": "2025-08-05T15:57:26.015584Z"
    },
    "papermill": {
     "duration": 0.032082,
     "end_time": "2025-08-05T15:57:26.019626",
     "exception": false,
     "start_time": "2025-08-05T15:57:25.987544",
     "status": "completed"
    },
    "tags": []
   },
   "outputs": [],
   "source": [
    "from fairness_multiverse.universe import predict_w_threshold"
   ]
  },
  {
   "cell_type": "code",
   "execution_count": 34,
   "id": "a7cf2e16",
   "metadata": {
    "execution": {
     "iopub.execute_input": "2025-08-05T15:57:26.068530Z",
     "iopub.status.busy": "2025-08-05T15:57:26.068036Z",
     "iopub.status.idle": "2025-08-05T15:57:28.591648Z",
     "shell.execute_reply": "2025-08-05T15:57:28.590487Z"
    },
    "papermill": {
     "duration": 2.550362,
     "end_time": "2025-08-05T15:57:28.593906",
     "exception": false,
     "start_time": "2025-08-05T15:57:26.043544",
     "status": "completed"
    },
    "tags": []
   },
   "outputs": [
    {
     "data": {
      "text/plain": [
       "0.867439527365957"
      ]
     },
     "execution_count": 34,
     "metadata": {},
     "output_type": "execute_result"
    }
   ],
   "source": [
    "probs_test = model.predict_proba(X_test)\n",
    "\n",
    "'''\n",
    "Below code returns a boolean array (or binary 0/1 array depending on how it’s used) where each element \n",
    "is True if the probability of class 1 is greater than or equal to the threshold, and False otherwise.\n",
    "'''\n",
    "y_pred_default = predict_w_threshold(probs_test, 0.5)\n",
    "\n",
    "from sklearn.metrics import accuracy_score\n",
    "\n",
    "# Naive prediction\n",
    "accuracy_score(y_true = y_true, y_pred = y_pred_default)"
   ]
  },
  {
   "cell_type": "code",
   "execution_count": 35,
   "id": "081964c3",
   "metadata": {
    "execution": {
     "iopub.execute_input": "2025-08-05T15:57:28.655547Z",
     "iopub.status.busy": "2025-08-05T15:57:28.654479Z",
     "iopub.status.idle": "2025-08-05T15:57:31.114075Z",
     "shell.execute_reply": "2025-08-05T15:57:31.113298Z"
    },
    "papermill": {
     "duration": 2.48982,
     "end_time": "2025-08-05T15:57:31.115557",
     "exception": false,
     "start_time": "2025-08-05T15:57:28.625737",
     "status": "completed"
    },
    "tags": []
   },
   "outputs": [
    {
     "data": {
      "text/plain": [
       "array([0, 0, 0, ..., 0, 0, 0])"
      ]
     },
     "execution_count": 35,
     "metadata": {},
     "output_type": "execute_result"
    }
   ],
   "source": [
    "model.predict(X_test)"
   ]
  },
  {
   "cell_type": "markdown",
   "id": "56c9705b",
   "metadata": {
    "papermill": {
     "duration": 0.010088,
     "end_time": "2025-08-05T15:57:31.160720",
     "exception": false,
     "start_time": "2025-08-05T15:57:31.150632",
     "status": "completed"
    },
    "tags": []
   },
   "source": [
    "# Conformal Prediction"
   ]
  },
  {
   "cell_type": "code",
   "execution_count": 36,
   "id": "160ec6ff",
   "metadata": {
    "execution": {
     "iopub.execute_input": "2025-08-05T15:57:31.210388Z",
     "iopub.status.busy": "2025-08-05T15:57:31.209369Z",
     "iopub.status.idle": "2025-08-05T15:57:31.214792Z",
     "shell.execute_reply": "2025-08-05T15:57:31.213801Z"
    },
    "papermill": {
     "duration": 0.034335,
     "end_time": "2025-08-05T15:57:31.216984",
     "exception": false,
     "start_time": "2025-08-05T15:57:31.182649",
     "status": "completed"
    },
    "tags": []
   },
   "outputs": [],
   "source": [
    "# Miscoverage level for conformal prediction (10% allowed error rate => 90% target coverage)\n",
    "alpha = 0.1"
   ]
  },
  {
   "cell_type": "code",
   "execution_count": 37,
   "id": "eadf4555-3dd3-440e-8e35-f82a4ad9f855",
   "metadata": {
    "execution": {
     "iopub.execute_input": "2025-08-05T15:57:31.267811Z",
     "iopub.status.busy": "2025-08-05T15:57:31.267108Z",
     "iopub.status.idle": "2025-08-05T15:57:33.078815Z",
     "shell.execute_reply": "2025-08-05T15:57:33.077957Z"
    },
    "papermill": {
     "duration": 1.836577,
     "end_time": "2025-08-05T15:57:33.080252",
     "exception": false,
     "start_time": "2025-08-05T15:57:31.243675",
     "status": "completed"
    },
    "tags": []
   },
   "outputs": [],
   "source": [
    "probs_calib = model.predict_proba(X_calib)"
   ]
  },
  {
   "cell_type": "code",
   "execution_count": 38,
   "id": "2ed93547-6d5d-4983-9b36-1ecb300da49a",
   "metadata": {
    "execution": {
     "iopub.execute_input": "2025-08-05T15:57:33.104031Z",
     "iopub.status.busy": "2025-08-05T15:57:33.103665Z",
     "iopub.status.idle": "2025-08-05T15:57:33.108612Z",
     "shell.execute_reply": "2025-08-05T15:57:33.107910Z"
    },
    "papermill": {
     "duration": 0.022094,
     "end_time": "2025-08-05T15:57:33.114727",
     "exception": false,
     "start_time": "2025-08-05T15:57:33.092633",
     "status": "completed"
    },
    "tags": []
   },
   "outputs": [],
   "source": [
    "y_calib = y_calib.values.ravel().astype(int)"
   ]
  },
  {
   "cell_type": "code",
   "execution_count": 39,
   "id": "65d1320d-f588-4b38-9072-62af1ae97f7d",
   "metadata": {
    "execution": {
     "iopub.execute_input": "2025-08-05T15:57:33.154588Z",
     "iopub.status.busy": "2025-08-05T15:57:33.153723Z",
     "iopub.status.idle": "2025-08-05T15:57:33.160809Z",
     "shell.execute_reply": "2025-08-05T15:57:33.159727Z"
    },
    "papermill": {
     "duration": 0.030626,
     "end_time": "2025-08-05T15:57:33.162797",
     "exception": false,
     "start_time": "2025-08-05T15:57:33.132171",
     "status": "completed"
    },
    "tags": []
   },
   "outputs": [],
   "source": [
    "from fairness_multiverse.conformal import compute_nc_scores\n",
    "\n",
    "# Compute nonconformity scores on calibration set (1 - probability of true class)\n",
    "nc_scores = compute_nc_scores(probs_calib, y_calib)"
   ]
  },
  {
   "cell_type": "code",
   "execution_count": 40,
   "id": "df3b8ca3-53b7-43d5-9667-7c85da7aeda2",
   "metadata": {
    "execution": {
     "iopub.execute_input": "2025-08-05T15:57:33.206188Z",
     "iopub.status.busy": "2025-08-05T15:57:33.205614Z",
     "iopub.status.idle": "2025-08-05T15:57:33.212656Z",
     "shell.execute_reply": "2025-08-05T15:57:33.211824Z"
    },
    "papermill": {
     "duration": 0.028843,
     "end_time": "2025-08-05T15:57:33.214567",
     "exception": false,
     "start_time": "2025-08-05T15:57:33.185724",
     "status": "completed"
    },
    "tags": []
   },
   "outputs": [],
   "source": [
    "from fairness_multiverse.conformal import find_threshold\n",
    "\n",
    "# Find conformal threshold q_hat for the given alpha (split conformal method)\n",
    "q_hat = find_threshold(nc_scores, alpha)"
   ]
  },
  {
   "cell_type": "code",
   "execution_count": 41,
   "id": "4d29e6c1-0ef6-4aa4-b8fe-4fe79b0d033a",
   "metadata": {
    "execution": {
     "iopub.execute_input": "2025-08-05T15:57:33.256298Z",
     "iopub.status.busy": "2025-08-05T15:57:33.255814Z",
     "iopub.status.idle": "2025-08-05T15:57:33.263058Z",
     "shell.execute_reply": "2025-08-05T15:57:33.262004Z"
    },
    "papermill": {
     "duration": 0.031433,
     "end_time": "2025-08-05T15:57:33.265966",
     "exception": false,
     "start_time": "2025-08-05T15:57:33.234533",
     "status": "completed"
    },
    "tags": []
   },
   "outputs": [
    {
     "data": {
      "text/plain": [
       "0.6699999999999999"
      ]
     },
     "execution_count": 41,
     "metadata": {},
     "output_type": "execute_result"
    }
   ],
   "source": [
    "q_hat"
   ]
  },
  {
   "cell_type": "code",
   "execution_count": 42,
   "id": "92460794-cdac-4be2-ba28-f28c0515a6fb",
   "metadata": {
    "execution": {
     "iopub.execute_input": "2025-08-05T15:57:33.309160Z",
     "iopub.status.busy": "2025-08-05T15:57:33.308482Z",
     "iopub.status.idle": "2025-08-05T15:57:36.448785Z",
     "shell.execute_reply": "2025-08-05T15:57:36.447845Z"
    },
    "papermill": {
     "duration": 3.163491,
     "end_time": "2025-08-05T15:57:36.450617",
     "exception": false,
     "start_time": "2025-08-05T15:57:33.287126",
     "status": "completed"
    },
    "tags": []
   },
   "outputs": [],
   "source": [
    "from fairness_multiverse.conformal import predict_conformal_sets\n",
    "\n",
    "# Generate prediction sets for each test example\n",
    "pred_sets = predict_conformal_sets(model, X_test, q_hat)"
   ]
  },
  {
   "cell_type": "code",
   "execution_count": 43,
   "id": "d90c9a65-e6db-4f5d-80cd-e68fb7e46829",
   "metadata": {
    "execution": {
     "iopub.execute_input": "2025-08-05T15:57:36.491014Z",
     "iopub.status.busy": "2025-08-05T15:57:36.490355Z",
     "iopub.status.idle": "2025-08-05T15:57:36.496172Z",
     "shell.execute_reply": "2025-08-05T15:57:36.495228Z"
    },
    "papermill": {
     "duration": 0.028373,
     "end_time": "2025-08-05T15:57:36.498228",
     "exception": false,
     "start_time": "2025-08-05T15:57:36.469855",
     "status": "completed"
    },
    "tags": []
   },
   "outputs": [],
   "source": [
    "y_true = y_true.squeeze()"
   ]
  },
  {
   "cell_type": "code",
   "execution_count": 44,
   "id": "3a58a54a-1e68-46b9-927a-df01f18aebc8",
   "metadata": {
    "execution": {
     "iopub.execute_input": "2025-08-05T15:57:36.540596Z",
     "iopub.status.busy": "2025-08-05T15:57:36.540083Z",
     "iopub.status.idle": "2025-08-05T15:57:37.644672Z",
     "shell.execute_reply": "2025-08-05T15:57:37.643715Z"
    },
    "papermill": {
     "duration": 1.127748,
     "end_time": "2025-08-05T15:57:37.646462",
     "exception": false,
     "start_time": "2025-08-05T15:57:36.518714",
     "status": "completed"
    },
    "tags": []
   },
   "outputs": [],
   "source": [
    "from fairness_multiverse.conformal import evaluate_sets\n",
    "\n",
    "# Evaluate coverage and average set size on test data\n",
    "metrics = evaluate_sets(pred_sets, y_true)"
   ]
  },
  {
   "cell_type": "markdown",
   "id": "2b569c12-9aaa-4c88-98c9-bbcd0cf3ebb8",
   "metadata": {
    "papermill": {
     "duration": 0.018632,
     "end_time": "2025-08-05T15:57:37.686882",
     "exception": false,
     "start_time": "2025-08-05T15:57:37.668250",
     "status": "completed"
    },
    "tags": []
   },
   "source": [
    "# CP Metrics"
   ]
  },
  {
   "cell_type": "code",
   "execution_count": 45,
   "id": "5ce0a5cb-201f-45a0-ade5-94c7f0bd6095",
   "metadata": {
    "execution": {
     "iopub.execute_input": "2025-08-05T15:57:37.724764Z",
     "iopub.status.busy": "2025-08-05T15:57:37.724300Z",
     "iopub.status.idle": "2025-08-05T15:57:37.731576Z",
     "shell.execute_reply": "2025-08-05T15:57:37.730313Z"
    },
    "papermill": {
     "duration": 0.028469,
     "end_time": "2025-08-05T15:57:37.733373",
     "exception": false,
     "start_time": "2025-08-05T15:57:37.704904",
     "status": "completed"
    },
    "tags": []
   },
   "outputs": [
    {
     "data": {
      "text/plain": [
       "{'coverage': 0.9160628692453461, 'avg_size': 1.1492810166090737}"
      ]
     },
     "execution_count": 45,
     "metadata": {},
     "output_type": "execute_result"
    }
   ],
   "source": [
    "metrics"
   ]
  },
  {
   "cell_type": "code",
   "execution_count": 46,
   "id": "9b9a838d-31c9-430b-ae14-12baee460d17",
   "metadata": {
    "execution": {
     "iopub.execute_input": "2025-08-05T15:57:37.779125Z",
     "iopub.status.busy": "2025-08-05T15:57:37.778583Z",
     "iopub.status.idle": "2025-08-05T15:57:37.785383Z",
     "shell.execute_reply": "2025-08-05T15:57:37.784339Z"
    },
    "papermill": {
     "duration": 0.032636,
     "end_time": "2025-08-05T15:57:37.787173",
     "exception": false,
     "start_time": "2025-08-05T15:57:37.754537",
     "status": "completed"
    },
    "tags": []
   },
   "outputs": [],
   "source": [
    "example_universe = universe.copy()\n",
    "universe_training_year = example_universe.get(\"training_year\")\n",
    "universe_training_size = example_universe.get(\"training_size\")\n",
    "universe_scale = example_universe.get(\"scale\")\n",
    "universe_model = example_universe.get(\"model\")\n",
    "universe_exclude_features = example_universe.get(\"exclude_features\")\n",
    "universe_exclude_subgroups = example_universe.get(\"exclude_subgroups\")"
   ]
  },
  {
   "cell_type": "code",
   "execution_count": 47,
   "id": "f4b6a8ac-9dc0-4245-8a91-5b3b5999c4f9",
   "metadata": {
    "execution": {
     "iopub.execute_input": "2025-08-05T15:57:37.832280Z",
     "iopub.status.busy": "2025-08-05T15:57:37.831431Z",
     "iopub.status.idle": "2025-08-05T15:57:37.838156Z",
     "shell.execute_reply": "2025-08-05T15:57:37.837154Z"
    },
    "papermill": {
     "duration": 0.031479,
     "end_time": "2025-08-05T15:57:37.840075",
     "exception": false,
     "start_time": "2025-08-05T15:57:37.808596",
     "status": "completed"
    },
    "tags": []
   },
   "outputs": [],
   "source": [
    "cp_metrics_dict = {\n",
    "    \"universe_id\": [universe_id],\n",
    "    \"universe_training_year\": [universe_training_year],\n",
    "    \"universe_training_size\": [universe_training_size],\n",
    "    \"universe_scale\": [universe_scale],\n",
    "    \"universe_model\": [universe_model],\n",
    "    \"universe_exclude_features\": [universe_exclude_features],\n",
    "    \"universe_exclude_subgroups\": [universe_exclude_subgroups],\n",
    "    \"q_hat\": [q_hat],\n",
    "    \"coverage\": [metrics[\"coverage\"]],\n",
    "    \"avg_size\": [metrics[\"avg_size\"]],\n",
    "}"
   ]
  },
  {
   "cell_type": "code",
   "execution_count": 48,
   "id": "908acbb1-0371-4915-85ca-3fa520d2efe2",
   "metadata": {
    "execution": {
     "iopub.execute_input": "2025-08-05T15:57:37.881252Z",
     "iopub.status.busy": "2025-08-05T15:57:37.880796Z",
     "iopub.status.idle": "2025-08-05T15:57:37.889177Z",
     "shell.execute_reply": "2025-08-05T15:57:37.887926Z"
    },
    "papermill": {
     "duration": 0.032023,
     "end_time": "2025-08-05T15:57:37.892898",
     "exception": false,
     "start_time": "2025-08-05T15:57:37.860875",
     "status": "completed"
    },
    "tags": []
   },
   "outputs": [
    {
     "data": {
      "text/plain": [
       "{'universe_id': ['3944db13bce95e94302b82c28e34da25'],\n",
       " 'universe_training_year': ['2010_14'],\n",
       " 'universe_training_size': ['5k'],\n",
       " 'universe_scale': ['do-not-scale'],\n",
       " 'universe_model': ['rf'],\n",
       " 'universe_exclude_features': ['none'],\n",
       " 'universe_exclude_subgroups': ['keep-all'],\n",
       " 'q_hat': [0.6699999999999999],\n",
       " 'coverage': [0.9160628692453461],\n",
       " 'avg_size': [1.1492810166090737]}"
      ]
     },
     "execution_count": 48,
     "metadata": {},
     "output_type": "execute_result"
    }
   ],
   "source": [
    "cp_metrics_dict"
   ]
  },
  {
   "cell_type": "code",
   "execution_count": 49,
   "id": "33007efc-14e9-4ec6-97ac-56a455c82265",
   "metadata": {
    "execution": {
     "iopub.execute_input": "2025-08-05T15:57:37.933935Z",
     "iopub.status.busy": "2025-08-05T15:57:37.933424Z",
     "iopub.status.idle": "2025-08-05T15:57:37.939633Z",
     "shell.execute_reply": "2025-08-05T15:57:37.938688Z"
    },
    "papermill": {
     "duration": 0.027691,
     "end_time": "2025-08-05T15:57:37.941453",
     "exception": false,
     "start_time": "2025-08-05T15:57:37.913762",
     "status": "completed"
    },
    "tags": []
   },
   "outputs": [],
   "source": [
    "cp_metrics_df = pd.DataFrame(cp_metrics_dict)"
   ]
  },
  {
   "cell_type": "code",
   "execution_count": 50,
   "id": "db12611b-57b2-4910-b9d0-355adfd6e7bf",
   "metadata": {
    "execution": {
     "iopub.execute_input": "2025-08-05T15:57:37.982827Z",
     "iopub.status.busy": "2025-08-05T15:57:37.982361Z",
     "iopub.status.idle": "2025-08-05T15:57:38.000802Z",
     "shell.execute_reply": "2025-08-05T15:57:37.999747Z"
    },
    "papermill": {
     "duration": 0.04082,
     "end_time": "2025-08-05T15:57:38.002527",
     "exception": false,
     "start_time": "2025-08-05T15:57:37.961707",
     "status": "completed"
    },
    "tags": []
   },
   "outputs": [
    {
     "data": {
      "text/html": [
       "<div>\n",
       "<style scoped>\n",
       "    .dataframe tbody tr th:only-of-type {\n",
       "        vertical-align: middle;\n",
       "    }\n",
       "\n",
       "    .dataframe tbody tr th {\n",
       "        vertical-align: top;\n",
       "    }\n",
       "\n",
       "    .dataframe thead th {\n",
       "        text-align: right;\n",
       "    }\n",
       "</style>\n",
       "<table border=\"1\" class=\"dataframe\">\n",
       "  <thead>\n",
       "    <tr style=\"text-align: right;\">\n",
       "      <th></th>\n",
       "      <th>universe_id</th>\n",
       "      <th>universe_training_year</th>\n",
       "      <th>universe_training_size</th>\n",
       "      <th>universe_scale</th>\n",
       "      <th>universe_model</th>\n",
       "      <th>universe_exclude_features</th>\n",
       "      <th>universe_exclude_subgroups</th>\n",
       "      <th>q_hat</th>\n",
       "      <th>coverage</th>\n",
       "      <th>avg_size</th>\n",
       "    </tr>\n",
       "  </thead>\n",
       "  <tbody>\n",
       "    <tr>\n",
       "      <th>0</th>\n",
       "      <td>3944db13bce95e94302b82c28e34da25</td>\n",
       "      <td>2010_14</td>\n",
       "      <td>5k</td>\n",
       "      <td>do-not-scale</td>\n",
       "      <td>rf</td>\n",
       "      <td>none</td>\n",
       "      <td>keep-all</td>\n",
       "      <td>0.67</td>\n",
       "      <td>0.916063</td>\n",
       "      <td>1.149281</td>\n",
       "    </tr>\n",
       "  </tbody>\n",
       "</table>\n",
       "</div>"
      ],
      "text/plain": [
       "                        universe_id universe_training_year  \\\n",
       "0  3944db13bce95e94302b82c28e34da25                2010_14   \n",
       "\n",
       "  universe_training_size universe_scale universe_model  \\\n",
       "0                     5k   do-not-scale             rf   \n",
       "\n",
       "  universe_exclude_features universe_exclude_subgroups  q_hat  coverage  \\\n",
       "0                      none                   keep-all   0.67  0.916063   \n",
       "\n",
       "   avg_size  \n",
       "0  1.149281  "
      ]
     },
     "execution_count": 50,
     "metadata": {},
     "output_type": "execute_result"
    }
   ],
   "source": [
    "cp_metrics_df"
   ]
  },
  {
   "cell_type": "code",
   "execution_count": 51,
   "id": "b7fbde55-a0a1-47e4-9af6-fe4a17fa8c61",
   "metadata": {
    "execution": {
     "iopub.execute_input": "2025-08-05T15:57:38.045884Z",
     "iopub.status.busy": "2025-08-05T15:57:38.044980Z",
     "iopub.status.idle": "2025-08-05T15:57:38.050628Z",
     "shell.execute_reply": "2025-08-05T15:57:38.049434Z"
    },
    "papermill": {
     "duration": 0.029665,
     "end_time": "2025-08-05T15:57:38.052698",
     "exception": false,
     "start_time": "2025-08-05T15:57:38.023033",
     "status": "completed"
    },
    "tags": []
   },
   "outputs": [],
   "source": [
    "# Conditional Coverage & looking at subgroups"
   ]
  },
  {
   "cell_type": "code",
   "execution_count": 52,
   "id": "027ae886-68dd-4141-96c7-805a5450e1ef",
   "metadata": {
    "execution": {
     "iopub.execute_input": "2025-08-05T15:57:38.095286Z",
     "iopub.status.busy": "2025-08-05T15:57:38.094318Z",
     "iopub.status.idle": "2025-08-05T15:57:38.372218Z",
     "shell.execute_reply": "2025-08-05T15:57:38.371088Z"
    },
    "papermill": {
     "duration": 0.300877,
     "end_time": "2025-08-05T15:57:38.374327",
     "exception": false,
     "start_time": "2025-08-05T15:57:38.073450",
     "status": "completed"
    },
    "tags": []
   },
   "outputs": [],
   "source": [
    "from fairness_multiverse.conformal import build_cp_groups\n",
    "\n",
    "cp_groups_df = build_cp_groups(pred_sets, y_true, X_test.index, org_test)\n",
    "#needs universe_id and setting"
   ]
  },
  {
   "cell_type": "code",
   "execution_count": 53,
   "id": "6cbdab96-b2b2-45af-ad54-d0516db2e28d",
   "metadata": {
    "execution": {
     "iopub.execute_input": "2025-08-05T15:57:38.423048Z",
     "iopub.status.busy": "2025-08-05T15:57:38.422108Z",
     "iopub.status.idle": "2025-08-05T15:57:39.588821Z",
     "shell.execute_reply": "2025-08-05T15:57:39.588054Z"
    },
    "papermill": {
     "duration": 1.192091,
     "end_time": "2025-08-05T15:57:39.590323",
     "exception": false,
     "start_time": "2025-08-05T15:57:38.398232",
     "status": "completed"
    },
    "tags": []
   },
   "outputs": [],
   "source": [
    "# Define covered = 1 if true_label is in the predicted set\n",
    "cp_groups_df['covered'] = cp_groups_df.apply(\n",
    "    lambda r: int(r['true_label'] in r['pred_set']),\n",
    "    axis=1\n",
    ")"
   ]
  },
  {
   "cell_type": "code",
   "execution_count": 54,
   "id": "338ff529-1a6b-4b87-a931-8e4788d52aad",
   "metadata": {
    "execution": {
     "iopub.execute_input": "2025-08-05T15:57:39.614196Z",
     "iopub.status.busy": "2025-08-05T15:57:39.613844Z",
     "iopub.status.idle": "2025-08-05T15:57:39.618071Z",
     "shell.execute_reply": "2025-08-05T15:57:39.617128Z"
    },
    "papermill": {
     "duration": 0.017756,
     "end_time": "2025-08-05T15:57:39.619648",
     "exception": false,
     "start_time": "2025-08-05T15:57:39.601892",
     "status": "completed"
    },
    "tags": []
   },
   "outputs": [],
   "source": [
    "#cp_groups_df"
   ]
  },
  {
   "cell_type": "code",
   "execution_count": 55,
   "id": "90032e27-66df-4540-9169-4e89cfbaa758",
   "metadata": {
    "execution": {
     "iopub.execute_input": "2025-08-05T15:57:39.644639Z",
     "iopub.status.busy": "2025-08-05T15:57:39.644011Z",
     "iopub.status.idle": "2025-08-05T15:57:39.653693Z",
     "shell.execute_reply": "2025-08-05T15:57:39.652775Z"
    },
    "papermill": {
     "duration": 0.022876,
     "end_time": "2025-08-05T15:57:39.655133",
     "exception": false,
     "start_time": "2025-08-05T15:57:39.632257",
     "status": "completed"
    },
    "tags": []
   },
   "outputs": [],
   "source": [
    "subgroups = ['frau1','nongerman','nongerman_male','nongerman_female']\n",
    "\n",
    "# Conditional coverage for subgroup==1\n",
    "cond_coverage = {\n",
    "    g: cp_groups_df.loc[cp_groups_df[g]==1, 'covered'].mean()\n",
    "    for g in subgroups\n",
    "}"
   ]
  },
  {
   "cell_type": "code",
   "execution_count": 56,
   "id": "1e348fb1-b9c3-45bc-ba23-f016827a7e0d",
   "metadata": {
    "execution": {
     "iopub.execute_input": "2025-08-05T15:57:39.678506Z",
     "iopub.status.busy": "2025-08-05T15:57:39.677889Z",
     "iopub.status.idle": "2025-08-05T15:57:39.684095Z",
     "shell.execute_reply": "2025-08-05T15:57:39.683274Z"
    },
    "papermill": {
     "duration": 0.018824,
     "end_time": "2025-08-05T15:57:39.685435",
     "exception": false,
     "start_time": "2025-08-05T15:57:39.666611",
     "status": "completed"
    },
    "tags": []
   },
   "outputs": [
    {
     "data": {
      "text/plain": [
       "{'frau1': 0.9145167812373636,\n",
       " 'nongerman': 0.9111323190927973,\n",
       " 'nongerman_male': 0.9250652976672972,\n",
       " 'nongerman_female': 0.8880774962742176}"
      ]
     },
     "execution_count": 56,
     "metadata": {},
     "output_type": "execute_result"
    }
   ],
   "source": [
    "cond_coverage"
   ]
  },
  {
   "cell_type": "code",
   "execution_count": 57,
   "id": "f5093324-c3dd-4d63-bc4c-8d945e5c8bbb",
   "metadata": {
    "execution": {
     "iopub.execute_input": "2025-08-05T15:57:39.710242Z",
     "iopub.status.busy": "2025-08-05T15:57:39.709674Z",
     "iopub.status.idle": "2025-08-05T15:57:39.715672Z",
     "shell.execute_reply": "2025-08-05T15:57:39.714827Z"
    },
    "papermill": {
     "duration": 0.019152,
     "end_time": "2025-08-05T15:57:39.717186",
     "exception": false,
     "start_time": "2025-08-05T15:57:39.698034",
     "status": "completed"
    },
    "tags": []
   },
   "outputs": [],
   "source": [
    "for subgroup, cov in cond_coverage.items():\n",
    "    cp_metrics_df[f\"cov_{subgroup}\"] = cov"
   ]
  },
  {
   "cell_type": "code",
   "execution_count": 58,
   "id": "6e872e10-dbe5-49e8-b554-5030c98ff75d",
   "metadata": {
    "execution": {
     "iopub.execute_input": "2025-08-05T15:57:39.741598Z",
     "iopub.status.busy": "2025-08-05T15:57:39.741079Z",
     "iopub.status.idle": "2025-08-05T15:57:39.754980Z",
     "shell.execute_reply": "2025-08-05T15:57:39.754093Z"
    },
    "papermill": {
     "duration": 0.026883,
     "end_time": "2025-08-05T15:57:39.756377",
     "exception": false,
     "start_time": "2025-08-05T15:57:39.729494",
     "status": "completed"
    },
    "tags": []
   },
   "outputs": [
    {
     "data": {
      "text/html": [
       "<div>\n",
       "<style scoped>\n",
       "    .dataframe tbody tr th:only-of-type {\n",
       "        vertical-align: middle;\n",
       "    }\n",
       "\n",
       "    .dataframe tbody tr th {\n",
       "        vertical-align: top;\n",
       "    }\n",
       "\n",
       "    .dataframe thead th {\n",
       "        text-align: right;\n",
       "    }\n",
       "</style>\n",
       "<table border=\"1\" class=\"dataframe\">\n",
       "  <thead>\n",
       "    <tr style=\"text-align: right;\">\n",
       "      <th></th>\n",
       "      <th>universe_id</th>\n",
       "      <th>universe_training_year</th>\n",
       "      <th>universe_training_size</th>\n",
       "      <th>universe_scale</th>\n",
       "      <th>universe_model</th>\n",
       "      <th>universe_exclude_features</th>\n",
       "      <th>universe_exclude_subgroups</th>\n",
       "      <th>q_hat</th>\n",
       "      <th>coverage</th>\n",
       "      <th>avg_size</th>\n",
       "      <th>cov_frau1</th>\n",
       "      <th>cov_nongerman</th>\n",
       "      <th>cov_nongerman_male</th>\n",
       "      <th>cov_nongerman_female</th>\n",
       "    </tr>\n",
       "  </thead>\n",
       "  <tbody>\n",
       "    <tr>\n",
       "      <th>0</th>\n",
       "      <td>3944db13bce95e94302b82c28e34da25</td>\n",
       "      <td>2010_14</td>\n",
       "      <td>5k</td>\n",
       "      <td>do-not-scale</td>\n",
       "      <td>rf</td>\n",
       "      <td>none</td>\n",
       "      <td>keep-all</td>\n",
       "      <td>0.67</td>\n",
       "      <td>0.916063</td>\n",
       "      <td>1.149281</td>\n",
       "      <td>0.914517</td>\n",
       "      <td>0.911132</td>\n",
       "      <td>0.925065</td>\n",
       "      <td>0.888077</td>\n",
       "    </tr>\n",
       "  </tbody>\n",
       "</table>\n",
       "</div>"
      ],
      "text/plain": [
       "                        universe_id universe_training_year  \\\n",
       "0  3944db13bce95e94302b82c28e34da25                2010_14   \n",
       "\n",
       "  universe_training_size universe_scale universe_model  \\\n",
       "0                     5k   do-not-scale             rf   \n",
       "\n",
       "  universe_exclude_features universe_exclude_subgroups  q_hat  coverage  \\\n",
       "0                      none                   keep-all   0.67  0.916063   \n",
       "\n",
       "   avg_size  cov_frau1  cov_nongerman  cov_nongerman_male  \\\n",
       "0  1.149281   0.914517       0.911132            0.925065   \n",
       "\n",
       "   cov_nongerman_female  \n",
       "0              0.888077  "
      ]
     },
     "execution_count": 58,
     "metadata": {},
     "output_type": "execute_result"
    }
   ],
   "source": [
    "cp_metrics_df"
   ]
  },
  {
   "cell_type": "markdown",
   "id": "33774451",
   "metadata": {
    "papermill": {
     "duration": 0.011454,
     "end_time": "2025-08-05T15:57:39.779858",
     "exception": false,
     "start_time": "2025-08-05T15:57:39.768404",
     "status": "completed"
    },
    "tags": []
   },
   "source": [
    "# (Fairness) Metrics"
   ]
  },
  {
   "cell_type": "code",
   "execution_count": 59,
   "id": "debc5d62",
   "metadata": {
    "execution": {
     "iopub.execute_input": "2025-08-05T15:57:39.804108Z",
     "iopub.status.busy": "2025-08-05T15:57:39.803387Z",
     "iopub.status.idle": "2025-08-05T15:57:39.818399Z",
     "shell.execute_reply": "2025-08-05T15:57:39.817733Z"
    },
    "papermill": {
     "duration": 0.028573,
     "end_time": "2025-08-05T15:57:39.819799",
     "exception": false,
     "start_time": "2025-08-05T15:57:39.791226",
     "status": "completed"
    },
    "tags": []
   },
   "outputs": [],
   "source": [
    "# do I need to include maxdeutsch1.missing?\n",
    "\n",
    "import numpy as np\n",
    "\n",
    "colname_to_bin = \"maxdeutsch1\"\n",
    "majority_value = org_train[colname_to_bin].mode()[0]\n",
    "\n",
    "org_test[\"majmin\"] = np.where(org_test[colname_to_bin] == majority_value, \"majority\", \"minority\")"
   ]
  },
  {
   "cell_type": "code",
   "execution_count": 60,
   "id": "06a50de5",
   "metadata": {
    "execution": {
     "iopub.execute_input": "2025-08-05T15:57:39.845268Z",
     "iopub.status.busy": "2025-08-05T15:57:39.844513Z",
     "iopub.status.idle": "2025-08-05T15:57:41.616659Z",
     "shell.execute_reply": "2025-08-05T15:57:41.615705Z"
    },
    "papermill": {
     "duration": 1.786258,
     "end_time": "2025-08-05T15:57:41.618244",
     "exception": false,
     "start_time": "2025-08-05T15:57:39.831986",
     "status": "completed"
    },
    "tags": []
   },
   "outputs": [],
   "source": [
    "example_universe = universe.copy()\n",
    "example_universe[\"cutoff\"] = example_universe[\"cutoff\"][0]\n",
    "example_universe[\"eval_fairness_grouping\"] = example_universe[\"eval_fairness_grouping\"][0]\n",
    "fairness_dict, metric_frame = universe_analysis.compute_metrics(\n",
    "    example_universe,\n",
    "    y_pred_prob=probs_test,\n",
    "    y_test=y_true,\n",
    "    org_test=org_test,\n",
    ")"
   ]
  },
  {
   "cell_type": "markdown",
   "id": "f95d4e02",
   "metadata": {
    "papermill": {
     "duration": 0.011523,
     "end_time": "2025-08-05T15:57:41.642281",
     "exception": false,
     "start_time": "2025-08-05T15:57:41.630758",
     "status": "completed"
    },
    "tags": []
   },
   "source": [
    "# Overall"
   ]
  },
  {
   "cell_type": "markdown",
   "id": "bdee4871",
   "metadata": {
    "papermill": {
     "duration": 0.011676,
     "end_time": "2025-08-05T15:57:41.665538",
     "exception": false,
     "start_time": "2025-08-05T15:57:41.653862",
     "status": "completed"
    },
    "tags": []
   },
   "source": [
    "Fairness\n",
    "Main fairness target: Equalized Odds. Seems to be a better fit than equal opportunity, since we're not only interested in Y = 1. Seems to be a better fit than demographic parity, since we also care about accuracy, not just equal distribution of preds.\n",
    "\n",
    "Pick column for computation of fairness metrics\n",
    "\n",
    "Performance\n",
    "Overall performance measures, most interesting in relation to the measures split by group below"
   ]
  },
  {
   "cell_type": "code",
   "execution_count": 61,
   "id": "c4e067c6",
   "metadata": {
    "execution": {
     "iopub.execute_input": "2025-08-05T15:57:41.690718Z",
     "iopub.status.busy": "2025-08-05T15:57:41.689946Z",
     "iopub.status.idle": "2025-08-05T15:57:41.698014Z",
     "shell.execute_reply": "2025-08-05T15:57:41.697003Z"
    },
    "papermill": {
     "duration": 0.022596,
     "end_time": "2025-08-05T15:57:41.699640",
     "exception": false,
     "start_time": "2025-08-05T15:57:41.677044",
     "status": "completed"
    },
    "tags": []
   },
   "outputs": [
    {
     "data": {
      "text/plain": [
       "accuracy                   0.198094\n",
       "balanced accuracy          0.530076\n",
       "f1                         0.238072\n",
       "precision                  0.135558\n",
       "false positive rate        0.916473\n",
       "false negative rate        0.023375\n",
       "selection rate             0.924189\n",
       "count                  89710.000000\n",
       "dtype: float64"
      ]
     },
     "execution_count": 61,
     "metadata": {},
     "output_type": "execute_result"
    }
   ],
   "source": [
    "metric_frame.overall"
   ]
  },
  {
   "cell_type": "markdown",
   "id": "e968fe9d",
   "metadata": {
    "papermill": {
     "duration": 0.012192,
     "end_time": "2025-08-05T15:57:41.725870",
     "exception": false,
     "start_time": "2025-08-05T15:57:41.713678",
     "status": "completed"
    },
    "tags": []
   },
   "source": [
    "By Group"
   ]
  },
  {
   "cell_type": "code",
   "execution_count": 62,
   "id": "ec325bce",
   "metadata": {
    "execution": {
     "iopub.execute_input": "2025-08-05T15:57:41.750539Z",
     "iopub.status.busy": "2025-08-05T15:57:41.750023Z",
     "iopub.status.idle": "2025-08-05T15:57:41.762957Z",
     "shell.execute_reply": "2025-08-05T15:57:41.761943Z"
    },
    "papermill": {
     "duration": 0.027163,
     "end_time": "2025-08-05T15:57:41.764706",
     "exception": false,
     "start_time": "2025-08-05T15:57:41.737543",
     "status": "completed"
    },
    "tags": []
   },
   "outputs": [
    {
     "data": {
      "text/html": [
       "<div>\n",
       "<style scoped>\n",
       "    .dataframe tbody tr th:only-of-type {\n",
       "        vertical-align: middle;\n",
       "    }\n",
       "\n",
       "    .dataframe tbody tr th {\n",
       "        vertical-align: top;\n",
       "    }\n",
       "\n",
       "    .dataframe thead th {\n",
       "        text-align: right;\n",
       "    }\n",
       "</style>\n",
       "<table border=\"1\" class=\"dataframe\">\n",
       "  <thead>\n",
       "    <tr style=\"text-align: right;\">\n",
       "      <th></th>\n",
       "      <th>accuracy</th>\n",
       "      <th>balanced accuracy</th>\n",
       "      <th>f1</th>\n",
       "      <th>precision</th>\n",
       "      <th>false positive rate</th>\n",
       "      <th>false negative rate</th>\n",
       "      <th>selection rate</th>\n",
       "      <th>count</th>\n",
       "    </tr>\n",
       "    <tr>\n",
       "      <th>majmin</th>\n",
       "      <th></th>\n",
       "      <th></th>\n",
       "      <th></th>\n",
       "      <th></th>\n",
       "      <th></th>\n",
       "      <th></th>\n",
       "      <th></th>\n",
       "      <th></th>\n",
       "    </tr>\n",
       "  </thead>\n",
       "  <tbody>\n",
       "    <tr>\n",
       "      <th>majority</th>\n",
       "      <td>0.189490</td>\n",
       "      <td>0.529703</td>\n",
       "      <td>0.244424</td>\n",
       "      <td>0.139381</td>\n",
       "      <td>0.932717</td>\n",
       "      <td>0.007877</td>\n",
       "      <td>0.940567</td>\n",
       "      <td>69170.0</td>\n",
       "    </tr>\n",
       "    <tr>\n",
       "      <th>minority</th>\n",
       "      <td>0.227069</td>\n",
       "      <td>0.526998</td>\n",
       "      <td>0.214759</td>\n",
       "      <td>0.121625</td>\n",
       "      <td>0.862811</td>\n",
       "      <td>0.083193</td>\n",
       "      <td>0.869036</td>\n",
       "      <td>20540.0</td>\n",
       "    </tr>\n",
       "  </tbody>\n",
       "</table>\n",
       "</div>"
      ],
      "text/plain": [
       "          accuracy  balanced accuracy        f1  precision  \\\n",
       "majmin                                                       \n",
       "majority  0.189490           0.529703  0.244424   0.139381   \n",
       "minority  0.227069           0.526998  0.214759   0.121625   \n",
       "\n",
       "          false positive rate  false negative rate  selection rate    count  \n",
       "majmin                                                                       \n",
       "majority             0.932717             0.007877        0.940567  69170.0  \n",
       "minority             0.862811             0.083193        0.869036  20540.0  "
      ]
     },
     "execution_count": 62,
     "metadata": {},
     "output_type": "execute_result"
    }
   ],
   "source": [
    "metric_frame.by_group"
   ]
  },
  {
   "cell_type": "code",
   "execution_count": 63,
   "id": "a9ddbe63",
   "metadata": {
    "execution": {
     "iopub.execute_input": "2025-08-05T15:57:41.791622Z",
     "iopub.status.busy": "2025-08-05T15:57:41.791109Z",
     "iopub.status.idle": "2025-08-05T15:57:44.090316Z",
     "shell.execute_reply": "2025-08-05T15:57:44.089315Z"
    },
    "papermill": {
     "duration": 2.313926,
     "end_time": "2025-08-05T15:57:44.091996",
     "exception": false,
     "start_time": "2025-08-05T15:57:41.778070",
     "status": "completed"
    },
    "tags": []
   },
   "outputs": [
    {
     "data": {
      "text/plain": [
       "array([[<Axes: title={'center': 'accuracy'}, xlabel='majmin'>,\n",
       "        <Axes: title={'center': 'balanced accuracy'}, xlabel='majmin'>,\n",
       "        <Axes: title={'center': 'f1'}, xlabel='majmin'>],\n",
       "       [<Axes: title={'center': 'precision'}, xlabel='majmin'>,\n",
       "        <Axes: title={'center': 'false positive rate'}, xlabel='majmin'>,\n",
       "        <Axes: title={'center': 'false negative rate'}, xlabel='majmin'>],\n",
       "       [<Axes: title={'center': 'selection rate'}, xlabel='majmin'>,\n",
       "        <Axes: title={'center': 'count'}, xlabel='majmin'>,\n",
       "        <Axes: xlabel='majmin'>]], dtype=object)"
      ]
     },
     "execution_count": 63,
     "metadata": {},
     "output_type": "execute_result"
    },
    {
     "data": {
      "image/png": "[encoded data removed]",
      "text/plain": [
       "<Figure size 1200x800 with 9 Axes>"
      ]
     },
     "metadata": {},
     "output_type": "display_data"
    }
   ],
   "source": [
    "# In a graphic\n",
    "metric_frame.by_group.plot.bar(\n",
    "    subplots=True,\n",
    "    layout=[3, 3],\n",
    "    legend=False,\n",
    "    figsize=[12, 8],\n",
    "    title=\"Show all metrics\",\n",
    ")"
   ]
  },
  {
   "cell_type": "markdown",
   "id": "f57a0bac",
   "metadata": {
    "papermill": {
     "duration": 0.023157,
     "end_time": "2025-08-05T15:57:44.141165",
     "exception": false,
     "start_time": "2025-08-05T15:57:44.118008",
     "status": "completed"
    },
    "tags": []
   },
   "source": [
    "# Final Output"
   ]
  },
  {
   "cell_type": "code",
   "execution_count": 64,
   "id": "96d280a3",
   "metadata": {
    "execution": {
     "iopub.execute_input": "2025-08-05T15:57:44.189099Z",
     "iopub.status.busy": "2025-08-05T15:57:44.187986Z",
     "iopub.status.idle": "2025-08-05T15:57:44.197218Z",
     "shell.execute_reply": "2025-08-05T15:57:44.196219Z"
    },
    "papermill": {
     "duration": 0.034053,
     "end_time": "2025-08-05T15:57:44.198997",
     "exception": false,
     "start_time": "2025-08-05T15:57:44.164944",
     "status": "completed"
    },
    "tags": []
   },
   "outputs": [
    {
     "data": {
      "text/plain": [
       "4"
      ]
     },
     "execution_count": 64,
     "metadata": {},
     "output_type": "execute_result"
    }
   ],
   "source": [
    "sub_universes = universe_analysis.generate_sub_universes()\n",
    "len(sub_universes)"
   ]
  },
  {
   "cell_type": "code",
   "execution_count": 65,
   "id": "92adf7ba",
   "metadata": {
    "execution": {
     "iopub.execute_input": "2025-08-05T15:57:44.249910Z",
     "iopub.status.busy": "2025-08-05T15:57:44.248927Z",
     "iopub.status.idle": "2025-08-05T15:57:44.255839Z",
     "shell.execute_reply": "2025-08-05T15:57:44.254772Z"
    },
    "papermill": {
     "duration": 0.03416,
     "end_time": "2025-08-05T15:57:44.257960",
     "exception": false,
     "start_time": "2025-08-05T15:57:44.223800",
     "status": "completed"
    },
    "tags": []
   },
   "outputs": [],
   "source": [
    "def filter_sub_universe_data(sub_universe, org_test):\n",
    "    # Keep all rows — no filtering\n",
    "    keep_rows_mask = np.ones(org_test.shape[0], dtype=bool)\n",
    "\n",
    "    print(f\"[INFO] Keeping all rows: {keep_rows_mask.sum()} rows retained.\")\n",
    "    return keep_rows_mask"
   ]
  },
  {
   "cell_type": "code",
   "execution_count": 66,
   "id": "4a759155",
   "metadata": {
    "execution": {
     "iopub.execute_input": "2025-08-05T15:57:44.308942Z",
     "iopub.status.busy": "2025-08-05T15:57:44.308445Z",
     "iopub.status.idle": "2025-08-05T15:57:53.700865Z",
     "shell.execute_reply": "2025-08-05T15:57:53.699972Z"
    },
    "papermill": {
     "duration": 9.430659,
     "end_time": "2025-08-05T15:57:53.714774",
     "exception": false,
     "start_time": "2025-08-05T15:57:44.284115",
     "status": "completed"
    },
    "tags": []
   },
   "outputs": [
    {
     "name": "stdout",
     "output_type": "stream",
     "text": [
      "Stopping execution_time clock.\n",
      "[INFO] Keeping all rows: 89710 rows retained.\n"
     ]
    },
    {
     "name": "stdout",
     "output_type": "stream",
     "text": [
      "[INFO] Keeping all rows: 89710 rows retained.\n"
     ]
    },
    {
     "name": "stdout",
     "output_type": "stream",
     "text": [
      "[INFO] Keeping all rows: 89710 rows retained.\n"
     ]
    },
    {
     "name": "stdout",
     "output_type": "stream",
     "text": [
      "[INFO] Keeping all rows: 89710 rows retained.\n"
     ]
    },
    {
     "data": {
      "text/html": [
       "<div>\n",
       "<style scoped>\n",
       "    .dataframe tbody tr th:only-of-type {\n",
       "        vertical-align: middle;\n",
       "    }\n",
       "\n",
       "    .dataframe tbody tr th {\n",
       "        vertical-align: top;\n",
       "    }\n",
       "\n",
       "    .dataframe thead th {\n",
       "        text-align: right;\n",
       "    }\n",
       "</style>\n",
       "<table border=\"1\" class=\"dataframe\">\n",
       "  <thead>\n",
       "    <tr style=\"text-align: right;\">\n",
       "      <th></th>\n",
       "      <th>run_no</th>\n",
       "      <th>universe_id</th>\n",
       "      <th>universe_settings</th>\n",
       "      <th>execution_time</th>\n",
       "      <th>test_size_n</th>\n",
       "      <th>test_size_frac</th>\n",
       "      <th>fair_main_equalized_odds_difference</th>\n",
       "      <th>fair_main_equalized_odds_ratio</th>\n",
       "      <th>fair_main_demographic_parity_difference</th>\n",
       "      <th>fair_main_demographic_parity_ratio</th>\n",
       "      <th>...</th>\n",
       "      <th>perf_grp_precision_0</th>\n",
       "      <th>perf_grp_precision_1</th>\n",
       "      <th>perf_grp_false positive rate_0</th>\n",
       "      <th>perf_grp_false positive rate_1</th>\n",
       "      <th>perf_grp_false negative rate_0</th>\n",
       "      <th>perf_grp_false negative rate_1</th>\n",
       "      <th>perf_grp_selection rate_0</th>\n",
       "      <th>perf_grp_selection rate_1</th>\n",
       "      <th>perf_grp_count_0</th>\n",
       "      <th>perf_grp_count_1</th>\n",
       "    </tr>\n",
       "  </thead>\n",
       "  <tbody>\n",
       "    <tr>\n",
       "      <th>0</th>\n",
       "      <td>15</td>\n",
       "      <td>3944db13bce95e94302b82c28e34da25</td>\n",
       "      <td>{\"cutoff\": \"quantile_0.1\", \"eval_fairness_grou...</td>\n",
       "      <td>34.672585</td>\n",
       "      <td>89710</td>\n",
       "      <td>1.0</td>\n",
       "      <td>0.075315</td>\n",
       "      <td>0.924087</td>\n",
       "      <td>0.071531</td>\n",
       "      <td>0.923949</td>\n",
       "      <td>...</td>\n",
       "      <td>NaN</td>\n",
       "      <td>NaN</td>\n",
       "      <td>NaN</td>\n",
       "      <td>NaN</td>\n",
       "      <td>NaN</td>\n",
       "      <td>NaN</td>\n",
       "      <td>NaN</td>\n",
       "      <td>NaN</td>\n",
       "      <td>NaN</td>\n",
       "      <td>NaN</td>\n",
       "    </tr>\n",
       "    <tr>\n",
       "      <th>0</th>\n",
       "      <td>15</td>\n",
       "      <td>3944db13bce95e94302b82c28e34da25</td>\n",
       "      <td>{\"cutoff\": \"quantile_0.1\", \"eval_fairness_grou...</td>\n",
       "      <td>34.672585</td>\n",
       "      <td>89710</td>\n",
       "      <td>1.0</td>\n",
       "      <td>0.075315</td>\n",
       "      <td>0.924087</td>\n",
       "      <td>0.071531</td>\n",
       "      <td>0.923949</td>\n",
       "      <td>...</td>\n",
       "      <td>0.121625</td>\n",
       "      <td>0.139381</td>\n",
       "      <td>0.862811</td>\n",
       "      <td>0.932717</td>\n",
       "      <td>0.083193</td>\n",
       "      <td>0.007877</td>\n",
       "      <td>0.869036</td>\n",
       "      <td>0.940567</td>\n",
       "      <td>20540.0</td>\n",
       "      <td>69170.0</td>\n",
       "    </tr>\n",
       "    <tr>\n",
       "      <th>0</th>\n",
       "      <td>15</td>\n",
       "      <td>3944db13bce95e94302b82c28e34da25</td>\n",
       "      <td>{\"cutoff\": \"quantile_0.25\", \"eval_fairness_gro...</td>\n",
       "      <td>34.672585</td>\n",
       "      <td>89710</td>\n",
       "      <td>1.0</td>\n",
       "      <td>0.128750</td>\n",
       "      <td>0.865802</td>\n",
       "      <td>0.083388</td>\n",
       "      <td>0.895777</td>\n",
       "      <td>...</td>\n",
       "      <td>NaN</td>\n",
       "      <td>NaN</td>\n",
       "      <td>NaN</td>\n",
       "      <td>NaN</td>\n",
       "      <td>NaN</td>\n",
       "      <td>NaN</td>\n",
       "      <td>NaN</td>\n",
       "      <td>NaN</td>\n",
       "      <td>NaN</td>\n",
       "      <td>NaN</td>\n",
       "    </tr>\n",
       "    <tr>\n",
       "      <th>0</th>\n",
       "      <td>15</td>\n",
       "      <td>3944db13bce95e94302b82c28e34da25</td>\n",
       "      <td>{\"cutoff\": \"quantile_0.25\", \"eval_fairness_gro...</td>\n",
       "      <td>34.672585</td>\n",
       "      <td>89710</td>\n",
       "      <td>1.0</td>\n",
       "      <td>0.128750</td>\n",
       "      <td>0.865802</td>\n",
       "      <td>0.083388</td>\n",
       "      <td>0.895777</td>\n",
       "      <td>...</td>\n",
       "      <td>0.133619</td>\n",
       "      <td>0.158451</td>\n",
       "      <td>0.701849</td>\n",
       "      <td>0.775829</td>\n",
       "      <td>0.169341</td>\n",
       "      <td>0.040591</td>\n",
       "      <td>0.716699</td>\n",
       "      <td>0.800087</td>\n",
       "      <td>20540.0</td>\n",
       "      <td>69170.0</td>\n",
       "    </tr>\n",
       "  </tbody>\n",
       "</table>\n",
       "<p>4 rows × 50 columns</p>\n",
       "</div>"
      ],
      "text/plain": [
       "  run_no                       universe_id  \\\n",
       "0     15  3944db13bce95e94302b82c28e34da25   \n",
       "0     15  3944db13bce95e94302b82c28e34da25   \n",
       "0     15  3944db13bce95e94302b82c28e34da25   \n",
       "0     15  3944db13bce95e94302b82c28e34da25   \n",
       "\n",
       "                                   universe_settings  execution_time  \\\n",
       "0  {\"cutoff\": \"quantile_0.1\", \"eval_fairness_grou...       34.672585   \n",
       "0  {\"cutoff\": \"quantile_0.1\", \"eval_fairness_grou...       34.672585   \n",
       "0  {\"cutoff\": \"quantile_0.25\", \"eval_fairness_gro...       34.672585   \n",
       "0  {\"cutoff\": \"quantile_0.25\", \"eval_fairness_gro...       34.672585   \n",
       "\n",
       "   test_size_n  test_size_frac  fair_main_equalized_odds_difference  \\\n",
       "0        89710             1.0                             0.075315   \n",
       "0        89710             1.0                             0.075315   \n",
       "0        89710             1.0                             0.128750   \n",
       "0        89710             1.0                             0.128750   \n",
       "\n",
       "   fair_main_equalized_odds_ratio  fair_main_demographic_parity_difference  \\\n",
       "0                        0.924087                                 0.071531   \n",
       "0                        0.924087                                 0.071531   \n",
       "0                        0.865802                                 0.083388   \n",
       "0                        0.865802                                 0.083388   \n",
       "\n",
       "   fair_main_demographic_parity_ratio  ...  perf_grp_precision_0  \\\n",
       "0                            0.923949  ...                   NaN   \n",
       "0                            0.923949  ...              0.121625   \n",
       "0                            0.895777  ...                   NaN   \n",
       "0                            0.895777  ...              0.133619   \n",
       "\n",
       "   perf_grp_precision_1  perf_grp_false positive rate_0  \\\n",
       "0                   NaN                             NaN   \n",
       "0              0.139381                        0.862811   \n",
       "0                   NaN                             NaN   \n",
       "0              0.158451                        0.701849   \n",
       "\n",
       "   perf_grp_false positive rate_1  perf_grp_false negative rate_0  \\\n",
       "0                             NaN                             NaN   \n",
       "0                        0.932717                        0.083193   \n",
       "0                             NaN                             NaN   \n",
       "0                        0.775829                        0.169341   \n",
       "\n",
       "   perf_grp_false negative rate_1  perf_grp_selection rate_0  \\\n",
       "0                             NaN                        NaN   \n",
       "0                        0.007877                   0.869036   \n",
       "0                             NaN                        NaN   \n",
       "0                        0.040591                   0.716699   \n",
       "\n",
       "   perf_grp_selection rate_1  perf_grp_count_0  perf_grp_count_1  \n",
       "0                        NaN               NaN               NaN  \n",
       "0                   0.940567           20540.0           69170.0  \n",
       "0                        NaN               NaN               NaN  \n",
       "0                   0.800087           20540.0           69170.0  \n",
       "\n",
       "[4 rows x 50 columns]"
      ]
     },
     "execution_count": 66,
     "metadata": {},
     "output_type": "execute_result"
    }
   ],
   "source": [
    "final_output = universe_analysis.generate_final_output(\n",
    "    y_pred_prob=probs_test,\n",
    "    y_test=y_true,\n",
    "    org_test=org_test,\n",
    "    filter_data=filter_sub_universe_data,\n",
    "    cp_metrics_df=cp_metrics_df,\n",
    "    save=True,\n",
    ")\n",
    "final_output"
   ]
  }
 ],
 "metadata": {
  "celltoolbar": "Tags",
  "kernelspec": {
   "display_name": "Python (CMA Fairness)",
   "language": "python",
   "name": "cma_fair_env"
  },
  "language_info": {
   "codemirror_mode": {
    "name": "ipython",
    "version": 3
   },
   "file_extension": ".py",
   "mimetype": "text/x-python",
   "name": "python",
   "nbconvert_exporter": "python",
   "pygments_lexer": "ipython3",
   "version": "3.10.12"
  },
  "papermill": {
   "default_parameters": {},
   "duration": 48.69464,
   "end_time": "2025-08-05T15:57:54.789206",
   "environment_variables": {},
   "exception": null,
   "input_path": "universe_analysis.ipynb",
   "output_path": "output/runs/15/notebooks/m_15-3944db13bce95e94302b82c28e34da25.ipynb",
   "parameters": {
    "output_dir": "output",
    "run_no": "15",
    "seed": "2023",
    "universe": "{\"cutoff\": [\"quantile_0.1\", \"quantile_0.25\"], \"eval_fairness_grouping\": [\"majority-minority\", \"nationality-all\"], \"exclude_features\": \"none\", \"exclude_subgroups\": \"keep-all\", \"model\": \"rf\", \"scale\": \"do-not-scale\", \"training_size\": \"5k\", \"training_year\": \"2010_14\"}",
    "universe_id": "3944db13bce95e94302b82c28e34da25"
   },
   "start_time": "2025-08-05T15:57:06.094566",
   "version": "2.6.0"
  }
 },
 "nbformat": 4,
 "nbformat_minor": 5
}