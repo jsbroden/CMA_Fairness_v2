{
 "cells": [
  {
   "cell_type": "code",
   "execution_count": 1,
   "id": "f159f837-637b-42ba-96b5-ec9a68c44524",
   "metadata": {
    "execution": {
     "iopub.execute_input": "2025-08-05T15:22:10.897373Z",
     "iopub.status.busy": "2025-08-05T15:22:10.896483Z",
     "iopub.status.idle": "2025-08-05T15:22:10.910236Z",
     "shell.execute_reply": "2025-08-05T15:22:10.909039Z"
    },
    "papermill": {
     "duration": 0.036004,
     "end_time": "2025-08-05T15:22:10.911921",
     "exception": false,
     "start_time": "2025-08-05T15:22:10.875917",
     "status": "completed"
    },
    "tags": []
   },
   "outputs": [
    {
     "name": "stdout",
     "output_type": "stream",
     "text": [
      "/dss/dsshome1/0C/ra93lal2/cma/CMA_Fairness_v2\n"
     ]
    },
    {
     "name": "stderr",
     "output_type": "stream",
     "text": [
      "/dss/dsshome1/0C/ra93lal2/.local/share/virtualenvs/CMA_Fairness_v2-3j10GkSs/lib/python3.10/site-packages/IPython/core/magics/osm.py:393: UserWarning: This is now an optional IPython functionality, using bookmarks requires you to install the `pickleshare` library.\n",
      "  bkms = self.shell.db.get('bookmarks', {})\n",
      "/dss/dsshome1/0C/ra93lal2/.local/share/virtualenvs/CMA_Fairness_v2-3j10GkSs/lib/python3.10/site-packages/IPython/core/magics/osm.py:417: UserWarning: This is now an optional IPython functionality, setting dhist requires you to install the `pickleshare` library.\n",
      "  self.shell.db['dhist'] = compress_dhist(dhist)[-100:]\n"
     ]
    }
   ],
   "source": [
    "%cd ~/cma/CMA_Fairness_v2"
   ]
  },
  {
   "cell_type": "markdown",
   "id": "de2603b9",
   "metadata": {
    "papermill": {
     "duration": 0.018626,
     "end_time": "2025-08-05T15:22:10.948648",
     "exception": false,
     "start_time": "2025-08-05T15:22:10.930022",
     "status": "completed"
    },
    "tags": []
   },
   "source": [
    "The following cell holds the definition of our parameters, these values can be overriden by rendering the with e.g. the following command:\n",
    "\n",
    "papermill -p alpha 0.2 -p ratio 0.3 universe_analysis.ipynb output/test_run.ipynb"
   ]
  },
  {
   "cell_type": "code",
   "execution_count": 2,
   "id": "a80968a0-40bb-4fa9-85ef-2d5eefb01975",
   "metadata": {
    "execution": {
     "iopub.execute_input": "2025-08-05T15:22:10.996150Z",
     "iopub.status.busy": "2025-08-05T15:22:10.995652Z",
     "iopub.status.idle": "2025-08-05T15:22:11.001566Z",
     "shell.execute_reply": "2025-08-05T15:22:11.000636Z"
    },
    "papermill": {
     "duration": 0.036177,
     "end_time": "2025-08-05T15:22:11.003323",
     "exception": false,
     "start_time": "2025-08-05T15:22:10.967146",
     "status": "completed"
    },
    "tags": []
   },
   "outputs": [
    {
     "name": "stdout",
     "output_type": "stream",
     "text": [
      "Current working directory: /dss/dsshome1/0C/ra93lal2/cma/CMA_Fairness_v2\n"
     ]
    }
   ],
   "source": [
    "import os\n",
    "print(\"Current working directory:\", os.getcwd())"
   ]
  },
  {
   "cell_type": "code",
   "execution_count": 3,
   "id": "2dce4c03",
   "metadata": {
    "execution": {
     "iopub.execute_input": "2025-08-05T15:22:11.043166Z",
     "iopub.status.busy": "2025-08-05T15:22:11.042331Z",
     "iopub.status.idle": "2025-08-05T15:22:11.048929Z",
     "shell.execute_reply": "2025-08-05T15:22:11.047986Z"
    },
    "papermill": {
     "duration": 0.027678,
     "end_time": "2025-08-05T15:22:11.050616",
     "exception": false,
     "start_time": "2025-08-05T15:22:11.022938",
     "status": "completed"
    },
    "tags": [
     "parameters"
    ]
   },
   "outputs": [],
   "source": [
    "run_no = 0\n",
    "universe_id = \"test\"\n",
    "universe = {\n",
    "    \"training_size\": \"25k\", # \"25k\", \"5k\", \"1k\"\n",
    "    \"training_year\": \"2014\", # \"2014\", \"2012_14\", \"2010_14\"\n",
    "    \"scale\": \"scale\", # \"scale\", \"do-not-scale\",\n",
    "    \"model\": \"elasticnet\", # \"logreg\", \"penalized_logreg\", \"rf\", \"gbm\", \"elasticnet\"\n",
    "    \"cutoff\": [\"quantile_0.15\", \"quantile_0.30\"],\n",
    "    \"exclude_features\": \"age\", # \"none\", \"nationality\", \"sex\", \"nationality-sex\", \"age\"\n",
    "    \"exclude_subgroups\": \"keep-all\", # \"keep-all\", \"drop-non-german\"\n",
    "    \"eval_fairness_grouping\": [\"majority-minority\", \"nationality-all\"]\n",
    "}\n",
    "\n",
    "output_dir=\"./output\"\n",
    "seed=0"
   ]
  },
  {
   "cell_type": "code",
   "execution_count": 4,
   "id": "50786806",
   "metadata": {
    "execution": {
     "iopub.execute_input": "2025-08-05T15:22:11.090967Z",
     "iopub.status.busy": "2025-08-05T15:22:11.090345Z",
     "iopub.status.idle": "2025-08-05T15:22:11.095520Z",
     "shell.execute_reply": "2025-08-05T15:22:11.094657Z"
    },
    "papermill": {
     "duration": 0.028219,
     "end_time": "2025-08-05T15:22:11.097373",
     "exception": false,
     "start_time": "2025-08-05T15:22:11.069154",
     "status": "completed"
    },
    "tags": [
     "injected-parameters"
    ]
   },
   "outputs": [],
   "source": [
    "# Parameters\n",
    "universe_id = \"e3246177ef156a09b762b7e1b5fd95eb\"\n",
    "run_no = \"15\"\n",
    "universe = \"{\\\"cutoff\\\": [\\\"quantile_0.1\\\", \\\"quantile_0.25\\\"], \\\"eval_fairness_grouping\\\": [\\\"majority-minority\\\", \\\"nationality-all\\\"], \\\"exclude_features\\\": \\\"nationality-sex\\\", \\\"exclude_subgroups\\\": \\\"keep-all\\\", \\\"model\\\": \\\"penalized_logreg\\\", \\\"scale\\\": \\\"scale\\\", \\\"training_size\\\": \\\"5k\\\", \\\"training_year\\\": \\\"2014\\\"}\"\n",
    "output_dir = \"output\"\n",
    "seed = \"2023\"\n"
   ]
  },
  {
   "cell_type": "code",
   "execution_count": 5,
   "id": "1650acaf",
   "metadata": {
    "execution": {
     "iopub.execute_input": "2025-08-05T15:22:11.136329Z",
     "iopub.status.busy": "2025-08-05T15:22:11.135584Z",
     "iopub.status.idle": "2025-08-05T15:22:11.140788Z",
     "shell.execute_reply": "2025-08-05T15:22:11.139766Z"
    },
    "papermill": {
     "duration": 0.026422,
     "end_time": "2025-08-05T15:22:11.142708",
     "exception": false,
     "start_time": "2025-08-05T15:22:11.116286",
     "status": "completed"
    },
    "tags": []
   },
   "outputs": [],
   "source": [
    "import json\n",
    "if isinstance(universe, str):\n",
    "    universe = json.loads(universe)"
   ]
  },
  {
   "cell_type": "code",
   "execution_count": 6,
   "id": "16620c48",
   "metadata": {
    "execution": {
     "iopub.execute_input": "2025-08-05T15:22:11.182662Z",
     "iopub.status.busy": "2025-08-05T15:22:11.182213Z",
     "iopub.status.idle": "2025-08-05T15:22:11.230341Z",
     "shell.execute_reply": "2025-08-05T15:22:11.229334Z"
    },
    "papermill": {
     "duration": 0.070126,
     "end_time": "2025-08-05T15:22:11.232226",
     "exception": false,
     "start_time": "2025-08-05T15:22:11.162100",
     "status": "completed"
    },
    "tags": []
   },
   "outputs": [],
   "source": [
    "# Auto-reload the custom package\n",
    "%load_ext autoreload\n",
    "%autoreload 1\n",
    "%aimport fairness_multiverse"
   ]
  },
  {
   "cell_type": "code",
   "execution_count": 7,
   "id": "01c5c9f3",
   "metadata": {
    "execution": {
     "iopub.execute_input": "2025-08-05T15:22:11.268446Z",
     "iopub.status.busy": "2025-08-05T15:22:11.267650Z",
     "iopub.status.idle": "2025-08-05T15:22:13.272255Z",
     "shell.execute_reply": "2025-08-05T15:22:13.271259Z"
    },
    "papermill": {
     "duration": 2.024054,
     "end_time": "2025-08-05T15:22:13.274326",
     "exception": false,
     "start_time": "2025-08-05T15:22:11.250272",
     "status": "completed"
    },
    "tags": []
   },
   "outputs": [],
   "source": [
    "from fairness_multiverse.universe import UniverseAnalysis\n",
    "\n",
    "universe_analysis = UniverseAnalysis(\n",
    "    run_no = run_no,\n",
    "    universe_id = universe_id,\n",
    "    universe = universe,\n",
    "    output_dir=output_dir,\n",
    ")"
   ]
  },
  {
   "cell_type": "code",
   "execution_count": 8,
   "id": "106241f5",
   "metadata": {
    "execution": {
     "iopub.execute_input": "2025-08-05T15:22:13.311136Z",
     "iopub.status.busy": "2025-08-05T15:22:13.310170Z",
     "iopub.status.idle": "2025-08-05T15:22:13.317247Z",
     "shell.execute_reply": "2025-08-05T15:22:13.316184Z"
    },
    "papermill": {
     "duration": 0.02709,
     "end_time": "2025-08-05T15:22:13.319052",
     "exception": false,
     "start_time": "2025-08-05T15:22:13.291962",
     "status": "completed"
    },
    "tags": []
   },
   "outputs": [
    {
     "name": "stdout",
     "output_type": "stream",
     "text": [
      "Using Seed: 2023\n"
     ]
    }
   ],
   "source": [
    "import numpy as np\n",
    "parsed_seed = int(seed)\n",
    "np.random.seed(parsed_seed)\n",
    "print(f\"Using Seed: {parsed_seed}\")"
   ]
  },
  {
   "cell_type": "markdown",
   "id": "e0ebdc57",
   "metadata": {
    "papermill": {
     "duration": 0.01705,
     "end_time": "2025-08-05T15:22:13.354872",
     "exception": false,
     "start_time": "2025-08-05T15:22:13.337822",
     "status": "completed"
    },
    "tags": []
   },
   "source": [
    "# Loading Data"
   ]
  },
  {
   "cell_type": "code",
   "execution_count": 9,
   "id": "f0496b8a",
   "metadata": {
    "execution": {
     "iopub.execute_input": "2025-08-05T15:22:13.392271Z",
     "iopub.status.busy": "2025-08-05T15:22:13.391305Z",
     "iopub.status.idle": "2025-08-05T15:22:25.215680Z",
     "shell.execute_reply": "2025-08-05T15:22:25.214574Z"
    },
    "papermill": {
     "duration": 11.844966,
     "end_time": "2025-08-05T15:22:25.217205",
     "exception": false,
     "start_time": "2025-08-05T15:22:13.372239",
     "status": "completed"
    },
    "tags": []
   },
   "outputs": [
    {
     "name": "stdout",
     "output_type": "stream",
     "text": [
      "Loading SIAB data from cache: data/siab_cached.csv.gz\n"
     ]
    },
    {
     "name": "stdout",
     "output_type": "stream",
     "text": [
      "(643690, 164)\n"
     ]
    }
   ],
   "source": [
    "from pathlib import Path\n",
    "import pandas as pd\n",
    "\n",
    "# File paths\n",
    "raw_file = Path(\"data/raw/siab.csv\")\n",
    "cache_file = Path(\"data/siab_cached.csv.gz\")\n",
    "\n",
    "# Ensure cache directory exists\n",
    "cache_file.parent.mkdir(parents=True, exist_ok=True)\n",
    "\n",
    "# Load with simple caching\n",
    "if cache_file.exists():\n",
    "    print(f\"Loading SIAB data from cache: {cache_file}\")\n",
    "    siab = pd.read_csv(cache_file, compression='gzip')\n",
    "else:\n",
    "    print(f\"Cache not found. Reading raw SIAB data: {raw_file}\")\n",
    "    siab = pd.read_csv(raw_file)\n",
    "    siab.to_csv(cache_file, index=False, compression='gzip')\n",
    "    print(f\"Cached SIAB data to: {cache_file}\")\n",
    "\n",
    "print(siab.shape)"
   ]
  },
  {
   "cell_type": "code",
   "execution_count": 10,
   "id": "db0ca512-5f53-4dba-abdb-a2888bca41ba",
   "metadata": {
    "execution": {
     "iopub.execute_input": "2025-08-05T15:22:25.252692Z",
     "iopub.status.busy": "2025-08-05T15:22:25.252233Z",
     "iopub.status.idle": "2025-08-05T15:22:25.259043Z",
     "shell.execute_reply": "2025-08-05T15:22:25.257851Z"
    },
    "papermill": {
     "duration": 0.027117,
     "end_time": "2025-08-05T15:22:25.260813",
     "exception": false,
     "start_time": "2025-08-05T15:22:25.233696",
     "status": "completed"
    },
    "tags": []
   },
   "outputs": [],
   "source": [
    "#siab"
   ]
  },
  {
   "cell_type": "markdown",
   "id": "997051c5-15bd-4b69-9786-c3001a3ce484",
   "metadata": {
    "papermill": {
     "duration": 0.017365,
     "end_time": "2025-08-05T15:22:25.296623",
     "exception": false,
     "start_time": "2025-08-05T15:22:25.279258",
     "status": "completed"
    },
    "tags": []
   },
   "source": [
    "# Splitting Data and Setting Training Data Size"
   ]
  },
  {
   "cell_type": "code",
   "execution_count": 11,
   "id": "aea9c6ef-6f46-42c8-85eb-5a62025c1508",
   "metadata": {
    "execution": {
     "iopub.execute_input": "2025-08-05T15:22:25.331120Z",
     "iopub.status.busy": "2025-08-05T15:22:25.330471Z",
     "iopub.status.idle": "2025-08-05T15:22:25.523922Z",
     "shell.execute_reply": "2025-08-05T15:22:25.522948Z"
    },
    "papermill": {
     "duration": 0.211858,
     "end_time": "2025-08-05T15:22:25.526018",
     "exception": false,
     "start_time": "2025-08-05T15:22:25.314160",
     "status": "completed"
    },
    "tags": []
   },
   "outputs": [],
   "source": [
    "from fairness_multiverse.universe import sample_by_year_size\n",
    "\n",
    "siab_train = sample_by_year_size(siab,\n",
    "                               training_year=universe[\"training_year\"],\n",
    "                               training_size=universe[\"training_size\"])"
   ]
  },
  {
   "cell_type": "code",
   "execution_count": 12,
   "id": "8d3afb32-789d-442c-8d5d-9f5aa8dd2eed",
   "metadata": {
    "execution": {
     "iopub.execute_input": "2025-08-05T15:22:25.559350Z",
     "iopub.status.busy": "2025-08-05T15:22:25.558534Z",
     "iopub.status.idle": "2025-08-05T15:22:25.563738Z",
     "shell.execute_reply": "2025-08-05T15:22:25.562848Z"
    },
    "papermill": {
     "duration": 0.020961,
     "end_time": "2025-08-05T15:22:25.565423",
     "exception": false,
     "start_time": "2025-08-05T15:22:25.544462",
     "status": "completed"
    },
    "tags": []
   },
   "outputs": [],
   "source": [
    "#siab_train.shape"
   ]
  },
  {
   "cell_type": "code",
   "execution_count": 13,
   "id": "d582db68-1a4c-47fb-84fc-08518dc1975a",
   "metadata": {
    "execution": {
     "iopub.execute_input": "2025-08-05T15:22:25.602327Z",
     "iopub.status.busy": "2025-08-05T15:22:25.601869Z",
     "iopub.status.idle": "2025-08-05T15:22:25.606162Z",
     "shell.execute_reply": "2025-08-05T15:22:25.605399Z"
    },
    "papermill": {
     "duration": 0.023352,
     "end_time": "2025-08-05T15:22:25.607209",
     "exception": false,
     "start_time": "2025-08-05T15:22:25.583857",
     "status": "completed"
    },
    "tags": []
   },
   "outputs": [],
   "source": [
    "#display(siab_train.groupby(\"year\").size())"
   ]
  },
  {
   "cell_type": "code",
   "execution_count": 14,
   "id": "a561edb4-d032-42cb-8256-22eac1111c64",
   "metadata": {
    "execution": {
     "iopub.execute_input": "2025-08-05T15:22:25.638026Z",
     "iopub.status.busy": "2025-08-05T15:22:25.637338Z",
     "iopub.status.idle": "2025-08-05T15:22:25.859807Z",
     "shell.execute_reply": "2025-08-05T15:22:25.858764Z"
    },
    "papermill": {
     "duration": 0.244115,
     "end_time": "2025-08-05T15:22:25.861499",
     "exception": false,
     "start_time": "2025-08-05T15:22:25.617384",
     "status": "completed"
    },
    "tags": []
   },
   "outputs": [],
   "source": [
    "#siab_train = siab_s[siab_s.year < 2015]\n",
    "siab_calib = siab[siab.year == 2015]\n",
    "siab_test = siab[siab.year == 2016]"
   ]
  },
  {
   "cell_type": "code",
   "execution_count": 15,
   "id": "472de16f-c3db-4916-846b-1f0de9cf1746",
   "metadata": {
    "execution": {
     "iopub.execute_input": "2025-08-05T15:22:25.903911Z",
     "iopub.status.busy": "2025-08-05T15:22:25.902990Z",
     "iopub.status.idle": "2025-08-05T15:22:25.911638Z",
     "shell.execute_reply": "2025-08-05T15:22:25.910567Z"
    },
    "papermill": {
     "duration": 0.030078,
     "end_time": "2025-08-05T15:22:25.913569",
     "exception": false,
     "start_time": "2025-08-05T15:22:25.883491",
     "status": "completed"
    },
    "tags": []
   },
   "outputs": [],
   "source": [
    "X_train = siab_train.iloc[:,4:164]\n",
    "y_train = siab_train.iloc[:, [3]]"
   ]
  },
  {
   "cell_type": "code",
   "execution_count": 16,
   "id": "828c96af-f43a-4ed6-ba47-8ac73a47d56c",
   "metadata": {
    "execution": {
     "iopub.execute_input": "2025-08-05T15:22:25.946639Z",
     "iopub.status.busy": "2025-08-05T15:22:25.946043Z",
     "iopub.status.idle": "2025-08-05T15:22:25.993168Z",
     "shell.execute_reply": "2025-08-05T15:22:25.992316Z"
    },
    "papermill": {
     "duration": 0.062098,
     "end_time": "2025-08-05T15:22:25.994699",
     "exception": false,
     "start_time": "2025-08-05T15:22:25.932601",
     "status": "completed"
    },
    "tags": []
   },
   "outputs": [],
   "source": [
    "X_calib = siab_calib.iloc[:,4:164]\n",
    "y_calib = siab_calib.iloc[:, [3]]"
   ]
  },
  {
   "cell_type": "code",
   "execution_count": 17,
   "id": "c34be9c3-6bd6-476e-acd3-845840e303be",
   "metadata": {
    "execution": {
     "iopub.execute_input": "2025-08-05T15:22:26.015582Z",
     "iopub.status.busy": "2025-08-05T15:22:26.015103Z",
     "iopub.status.idle": "2025-08-05T15:22:26.063192Z",
     "shell.execute_reply": "2025-08-05T15:22:26.062335Z"
    },
    "papermill": {
     "duration": 0.059703,
     "end_time": "2025-08-05T15:22:26.064893",
     "exception": false,
     "start_time": "2025-08-05T15:22:26.005190",
     "status": "completed"
    },
    "tags": []
   },
   "outputs": [],
   "source": [
    "X_test = siab_test.iloc[:,4:164]\n",
    "y_true = siab_test.iloc[:, [3]]"
   ]
  },
  {
   "cell_type": "code",
   "execution_count": 18,
   "id": "e6c733c5",
   "metadata": {
    "execution": {
     "iopub.execute_input": "2025-08-05T15:22:26.085920Z",
     "iopub.status.busy": "2025-08-05T15:22:26.085230Z",
     "iopub.status.idle": "2025-08-05T15:22:26.176985Z",
     "shell.execute_reply": "2025-08-05T15:22:26.176214Z"
    },
    "papermill": {
     "duration": 0.103094,
     "end_time": "2025-08-05T15:22:26.178417",
     "exception": false,
     "start_time": "2025-08-05T15:22:26.075323",
     "status": "completed"
    },
    "tags": []
   },
   "outputs": [],
   "source": [
    "# Auxiliary data needed downstream in the pipeline\n",
    "\n",
    "org_train = X_train.copy()\n",
    "org_test = X_test.copy()\n",
    "org_calib = X_calib.copy()"
   ]
  },
  {
   "cell_type": "markdown",
   "id": "0a4a1b33",
   "metadata": {
    "papermill": {
     "duration": 0.008987,
     "end_time": "2025-08-05T15:22:26.197242",
     "exception": false,
     "start_time": "2025-08-05T15:22:26.188255",
     "status": "completed"
    },
    "tags": []
   },
   "source": [
    "# Preprocessing Data"
   ]
  },
  {
   "cell_type": "code",
   "execution_count": 19,
   "id": "ca879031",
   "metadata": {
    "execution": {
     "iopub.execute_input": "2025-08-05T15:22:26.216512Z",
     "iopub.status.busy": "2025-08-05T15:22:26.216010Z",
     "iopub.status.idle": "2025-08-05T15:22:26.221570Z",
     "shell.execute_reply": "2025-08-05T15:22:26.220751Z"
    },
    "papermill": {
     "duration": 0.016758,
     "end_time": "2025-08-05T15:22:26.222909",
     "exception": false,
     "start_time": "2025-08-05T15:22:26.206151",
     "status": "completed"
    },
    "tags": []
   },
   "outputs": [],
   "source": [
    "# EXCLUDE PROTECTED FEATURES\n",
    "# ----------------------\n",
    "# \"exclude_features\": \"none\", # \"nationality\", \"sex\", \"nationality-sex\"\n",
    "\n",
    "excluded_features = universe[\"exclude_features\"].split(\"-\") # split, e.g.: \"nationality-sex\" -> [\"nationality\", \"sex\"]\n",
    "excluded_features_dictionary = {\n",
    "    \"nationality\": [\"maxdeutsch1\", \"maxdeutsch.Missing.\"],\n",
    "    \"sex\": [\"frau1\"],\n",
    "    \"age\": [\"age\"],\n",
    "}"
   ]
  },
  {
   "cell_type": "code",
   "execution_count": 20,
   "id": "b745ac60",
   "metadata": {
    "execution": {
     "iopub.execute_input": "2025-08-05T15:22:26.244015Z",
     "iopub.status.busy": "2025-08-05T15:22:26.243269Z",
     "iopub.status.idle": "2025-08-05T15:22:26.248273Z",
     "shell.execute_reply": "2025-08-05T15:22:26.247457Z"
    },
    "papermill": {
     "duration": 0.016555,
     "end_time": "2025-08-05T15:22:26.249808",
     "exception": false,
     "start_time": "2025-08-05T15:22:26.233253",
     "status": "completed"
    },
    "tags": []
   },
   "outputs": [],
   "source": [
    "# Code nice names to column names\n",
    "\n",
    "excluded_features_columns = [\n",
    "    excluded_features_dictionary[f] for f in excluded_features if len(f) > 0 and f != \"none\"\n",
    "]"
   ]
  },
  {
   "cell_type": "code",
   "execution_count": 21,
   "id": "f84f73a2",
   "metadata": {
    "execution": {
     "iopub.execute_input": "2025-08-05T15:22:26.271050Z",
     "iopub.status.busy": "2025-08-05T15:22:26.270364Z",
     "iopub.status.idle": "2025-08-05T15:22:26.275962Z",
     "shell.execute_reply": "2025-08-05T15:22:26.275180Z"
    },
    "papermill": {
     "duration": 0.017265,
     "end_time": "2025-08-05T15:22:26.277390",
     "exception": false,
     "start_time": "2025-08-05T15:22:26.260125",
     "status": "completed"
    },
    "tags": []
   },
   "outputs": [],
   "source": [
    "from utils import flatten_once\n",
    "\n",
    "excluded_features_columns = flatten_once(excluded_features_columns)"
   ]
  },
  {
   "cell_type": "code",
   "execution_count": 22,
   "id": "884dea22",
   "metadata": {
    "execution": {
     "iopub.execute_input": "2025-08-05T15:22:26.298154Z",
     "iopub.status.busy": "2025-08-05T15:22:26.297626Z",
     "iopub.status.idle": "2025-08-05T15:22:26.307115Z",
     "shell.execute_reply": "2025-08-05T15:22:26.306327Z"
    },
    "papermill": {
     "duration": 0.021005,
     "end_time": "2025-08-05T15:22:26.308574",
     "exception": false,
     "start_time": "2025-08-05T15:22:26.287569",
     "status": "completed"
    },
    "tags": []
   },
   "outputs": [
    {
     "name": "stdout",
     "output_type": "stream",
     "text": [
      "Dropping features: ['maxdeutsch1', 'maxdeutsch.Missing.', 'frau1']\n"
     ]
    }
   ],
   "source": [
    "if len(excluded_features_columns) > 0:\n",
    "    print(f\"Dropping features: {excluded_features_columns}\")\n",
    "    X_train.drop(excluded_features_columns, axis=1, inplace=True)"
   ]
  },
  {
   "cell_type": "code",
   "execution_count": 23,
   "id": "95ab8b16",
   "metadata": {
    "execution": {
     "iopub.execute_input": "2025-08-05T15:22:26.329942Z",
     "iopub.status.busy": "2025-08-05T15:22:26.329246Z",
     "iopub.status.idle": "2025-08-05T15:22:26.380870Z",
     "shell.execute_reply": "2025-08-05T15:22:26.379685Z"
    },
    "papermill": {
     "duration": 0.063509,
     "end_time": "2025-08-05T15:22:26.382894",
     "exception": false,
     "start_time": "2025-08-05T15:22:26.319385",
     "status": "completed"
    },
    "tags": []
   },
   "outputs": [
    {
     "name": "stdout",
     "output_type": "stream",
     "text": [
      "Dropping features: ['maxdeutsch1', 'maxdeutsch.Missing.', 'frau1']\n"
     ]
    }
   ],
   "source": [
    "if len(excluded_features_columns) > 0:\n",
    "    print(f\"Dropping features: {excluded_features_columns}\")\n",
    "    X_test.drop(excluded_features_columns, axis=1, inplace=True)"
   ]
  },
  {
   "cell_type": "code",
   "execution_count": 24,
   "id": "1853aaf5-fb9f-46cb-a2b5-8ea4ae2237e4",
   "metadata": {
    "execution": {
     "iopub.execute_input": "2025-08-05T15:22:26.425980Z",
     "iopub.status.busy": "2025-08-05T15:22:26.425006Z",
     "iopub.status.idle": "2025-08-05T15:22:26.478945Z",
     "shell.execute_reply": "2025-08-05T15:22:26.477778Z"
    },
    "papermill": {
     "duration": 0.077389,
     "end_time": "2025-08-05T15:22:26.480672",
     "exception": false,
     "start_time": "2025-08-05T15:22:26.403283",
     "status": "completed"
    },
    "tags": []
   },
   "outputs": [
    {
     "name": "stdout",
     "output_type": "stream",
     "text": [
      "Dropping features: ['maxdeutsch1', 'maxdeutsch.Missing.', 'frau1']\n"
     ]
    }
   ],
   "source": [
    "if len(excluded_features_columns) > 0:\n",
    "    print(f\"Dropping features: {excluded_features_columns}\")\n",
    "    X_calib.drop(excluded_features_columns, axis=1, inplace=True)"
   ]
  },
  {
   "cell_type": "code",
   "execution_count": 25,
   "id": "76c4dc6d",
   "metadata": {
    "execution": {
     "iopub.execute_input": "2025-08-05T15:22:26.521832Z",
     "iopub.status.busy": "2025-08-05T15:22:26.520915Z",
     "iopub.status.idle": "2025-08-05T15:22:26.526772Z",
     "shell.execute_reply": "2025-08-05T15:22:26.525702Z"
    },
    "papermill": {
     "duration": 0.028058,
     "end_time": "2025-08-05T15:22:26.528810",
     "exception": false,
     "start_time": "2025-08-05T15:22:26.500752",
     "status": "completed"
    },
    "tags": []
   },
   "outputs": [],
   "source": [
    "# EXCLUDE CERTAIN SUBGROUPS\n",
    "# ----------------------\n",
    "\n",
    "mode = universe.get(\"exclude_subgroups\", \"keep-all\") \n",
    "# Fetches the exclude_subgroups setting from the universe dict.\n",
    "# Defaults to \"keep-all\" if the key is missing."
   ]
  },
  {
   "cell_type": "code",
   "execution_count": 26,
   "id": "21994072",
   "metadata": {
    "execution": {
     "iopub.execute_input": "2025-08-05T15:22:26.567105Z",
     "iopub.status.busy": "2025-08-05T15:22:26.566186Z",
     "iopub.status.idle": "2025-08-05T15:22:26.573779Z",
     "shell.execute_reply": "2025-08-05T15:22:26.572774Z"
    },
    "papermill": {
     "duration": 0.030467,
     "end_time": "2025-08-05T15:22:26.575478",
     "exception": false,
     "start_time": "2025-08-05T15:22:26.545011",
     "status": "completed"
    },
    "tags": []
   },
   "outputs": [],
   "source": [
    "if mode == \"keep-all\":\n",
    "    keep_mask = pd.Series(True, index=org_train.index)\n",
    "\n",
    "# org_train contains the original feature columns from features_org (in Simson)\n",
    "# features_org contains unprocessed features, for me X_train at beginning ???\n",
    "# For keep-all, creates a boolean Series (keep_mask) of all True, so no rows are removed.\n",
    "\n",
    "elif mode == \"drop-non-german\":\n",
    "    keep_mask = org_train[\"maxdeutsch1\"] == 1 # ??? what about missing values?\n",
    "\n",
    "else:\n",
    "    raise ValueError(f\"Unsupported mode for exclude_subgroups: {mode}\")"
   ]
  },
  {
   "cell_type": "code",
   "execution_count": 27,
   "id": "71651440",
   "metadata": {
    "execution": {
     "iopub.execute_input": "2025-08-05T15:22:26.611728Z",
     "iopub.status.busy": "2025-08-05T15:22:26.610731Z",
     "iopub.status.idle": "2025-08-05T15:22:26.622137Z",
     "shell.execute_reply": "2025-08-05T15:22:26.621128Z"
    },
    "papermill": {
     "duration": 0.027908,
     "end_time": "2025-08-05T15:22:26.623747",
     "exception": false,
     "start_time": "2025-08-05T15:22:26.595839",
     "status": "completed"
    },
    "tags": []
   },
   "outputs": [],
   "source": [
    "n_drop = (~keep_mask).sum() # Calculates how many rows are set to be dropped\n",
    "if n_drop > 0:\n",
    "    pct = n_drop / len(keep_mask) * 100\n",
    "    print(f\"Dropping {n_drop} rows ({pct:.2f}%) where mode='{mode}'\")"
   ]
  },
  {
   "cell_type": "code",
   "execution_count": 28,
   "id": "5fb8eee5",
   "metadata": {
    "execution": {
     "iopub.execute_input": "2025-08-05T15:22:26.664970Z",
     "iopub.status.busy": "2025-08-05T15:22:26.664278Z",
     "iopub.status.idle": "2025-08-05T15:22:26.672679Z",
     "shell.execute_reply": "2025-08-05T15:22:26.671569Z"
    },
    "papermill": {
     "duration": 0.030789,
     "end_time": "2025-08-05T15:22:26.674612",
     "exception": false,
     "start_time": "2025-08-05T15:22:26.643823",
     "status": "completed"
    },
    "tags": []
   },
   "outputs": [],
   "source": [
    "X_train = X_train[keep_mask]"
   ]
  },
  {
   "cell_type": "code",
   "execution_count": 29,
   "id": "b202bb3a",
   "metadata": {
    "execution": {
     "iopub.execute_input": "2025-08-05T15:22:26.718920Z",
     "iopub.status.busy": "2025-08-05T15:22:26.718415Z",
     "iopub.status.idle": "2025-08-05T15:22:26.724674Z",
     "shell.execute_reply": "2025-08-05T15:22:26.723578Z"
    },
    "papermill": {
     "duration": 0.020631,
     "end_time": "2025-08-05T15:22:26.726568",
     "exception": false,
     "start_time": "2025-08-05T15:22:26.705937",
     "status": "completed"
    },
    "tags": []
   },
   "outputs": [],
   "source": [
    "y_train = y_train[keep_mask]"
   ]
  },
  {
   "cell_type": "markdown",
   "id": "493e2ac3",
   "metadata": {
    "papermill": {
     "duration": 0.018201,
     "end_time": "2025-08-05T15:22:26.764748",
     "exception": false,
     "start_time": "2025-08-05T15:22:26.746547",
     "status": "completed"
    },
    "tags": []
   },
   "source": [
    "# Model Training"
   ]
  },
  {
   "cell_type": "code",
   "execution_count": 30,
   "id": "679e1268",
   "metadata": {
    "execution": {
     "iopub.execute_input": "2025-08-05T15:22:26.808828Z",
     "iopub.status.busy": "2025-08-05T15:22:26.808363Z",
     "iopub.status.idle": "2025-08-05T15:22:26.909610Z",
     "shell.execute_reply": "2025-08-05T15:22:26.908613Z"
    },
    "papermill": {
     "duration": 0.124957,
     "end_time": "2025-08-05T15:22:26.911619",
     "exception": false,
     "start_time": "2025-08-05T15:22:26.786662",
     "status": "completed"
    },
    "tags": []
   },
   "outputs": [],
   "source": [
    "from sklearn.linear_model import LogisticRegression\n",
    "from sklearn.ensemble import GradientBoostingClassifier, RandomForestClassifier\n",
    "\n",
    "if (universe[\"model\"] == \"logreg\"):\n",
    "    model = LogisticRegression() #penalty=\"none\", solver=\"newton-cg\", max_iter=1) # include random_state=19 ?\n",
    "elif (universe[\"model\"] == \"penalized_logreg\"):\n",
    "    model = LogisticRegression(penalty=\"l2\", C=0.1) #, solver=\"newton-cg\", max_iter=1)\n",
    "elif (universe[\"model\"] == \"rf\"):\n",
    "    model = RandomForestClassifier() # n_estimators=100, n_jobs=-1\n",
    "elif (universe[\"model\"] == \"gbm\"):\n",
    "    model = GradientBoostingClassifier()\n",
    "elif (universe[\"model\"] == \"elasticnet\"):\n",
    "    model = LogisticRegression(penalty = 'elasticnet', solver = 'saga', l1_ratio = 0.5) # max_iter=5000\n",
    "else:\n",
    "    raise \"Unsupported universe.model\""
   ]
  },
  {
   "cell_type": "code",
   "execution_count": 31,
   "id": "0cc8f744",
   "metadata": {
    "execution": {
     "iopub.execute_input": "2025-08-05T15:22:26.955141Z",
     "iopub.status.busy": "2025-08-05T15:22:26.954409Z",
     "iopub.status.idle": "2025-08-05T15:22:26.961064Z",
     "shell.execute_reply": "2025-08-05T15:22:26.960055Z"
    },
    "papermill": {
     "duration": 0.030149,
     "end_time": "2025-08-05T15:22:26.962811",
     "exception": false,
     "start_time": "2025-08-05T15:22:26.932662",
     "status": "completed"
    },
    "tags": []
   },
   "outputs": [],
   "source": [
    "import numpy as np\n",
    "from sklearn.pipeline import Pipeline\n",
    "from sklearn.preprocessing import StandardScaler\n",
    "\n",
    "model = Pipeline([\n",
    "    #(\"continuous_processor\", continuous_processor),\n",
    "    #(\"categorical_preprocessor\", categorical_preprocessor),\n",
    "    (\"scale\", StandardScaler() if universe[\"scale\"] == \"scale\" else None), \n",
    "    (\"model\", model),\n",
    "])"
   ]
  },
  {
   "cell_type": "code",
   "execution_count": 32,
   "id": "9442c04d",
   "metadata": {
    "execution": {
     "iopub.execute_input": "2025-08-05T15:22:27.000233Z",
     "iopub.status.busy": "2025-08-05T15:22:26.999527Z",
     "iopub.status.idle": "2025-08-05T15:22:27.131672Z",
     "shell.execute_reply": "2025-08-05T15:22:27.130596Z"
    },
    "papermill": {
     "duration": 0.152516,
     "end_time": "2025-08-05T15:22:27.133844",
     "exception": false,
     "start_time": "2025-08-05T15:22:26.981328",
     "status": "completed"
    },
    "tags": []
   },
   "outputs": [
    {
     "data": {
      "text/html": [
       "<style>#sk-container-id-1 {color: black;background-color: white;}#sk-container-id-1 pre{padding: 0;}#sk-container-id-1 div.sk-toggleable {background-color: white;}#sk-container-id-1 label.sk-toggleable__label {cursor: pointer;display: block;width: 100%;margin-bottom: 0;padding: 0.3em;box-sizing: border-box;text-align: center;}#sk-container-id-1 label.sk-toggleable__label-arrow:before {content: \"▸\";float: left;margin-right: 0.25em;color: #696969;}#sk-container-id-1 label.sk-toggleable__label-arrow:hover:before {color: black;}#sk-container-id-1 div.sk-estimator:hover label.sk-toggleable__label-arrow:before {color: black;}#sk-container-id-1 div.sk-toggleable__content {max-height: 0;max-width: 0;overflow: hidden;text-align: left;background-color: #f0f8ff;}#sk-container-id-1 div.sk-toggleable__content pre {margin: 0.2em;color: black;border-radius: 0.25em;background-color: #f0f8ff;}#sk-container-id-1 input.sk-toggleable__control:checked~div.sk-toggleable__content {max-height: 200px;max-width: 100%;overflow: auto;}#sk-container-id-1 input.sk-toggleable__control:checked~label.sk-toggleable__label-arrow:before {content: \"▾\";}#sk-container-id-1 div.sk-estimator input.sk-toggleable__control:checked~label.sk-toggleable__label {background-color: #d4ebff;}#sk-container-id-1 div.sk-label input.sk-toggleable__control:checked~label.sk-toggleable__label {background-color: #d4ebff;}#sk-container-id-1 input.sk-hidden--visually {border: 0;clip: rect(1px 1px 1px 1px);clip: rect(1px, 1px, 1px, 1px);height: 1px;margin: -1px;overflow: hidden;padding: 0;position: absolute;width: 1px;}#sk-container-id-1 div.sk-estimator {font-family: monospace;background-color: #f0f8ff;border: 1px dotted black;border-radius: 0.25em;box-sizing: border-box;margin-bottom: 0.5em;}#sk-container-id-1 div.sk-estimator:hover {background-color: #d4ebff;}#sk-container-id-1 div.sk-parallel-item::after {content: \"\";width: 100%;border-bottom: 1px solid gray;flex-grow: 1;}#sk-container-id-1 div.sk-label:hover label.sk-toggleable__label {background-color: #d4ebff;}#sk-container-id-1 div.sk-serial::before {content: \"\";position: absolute;border-left: 1px solid gray;box-sizing: border-box;top: 0;bottom: 0;left: 50%;z-index: 0;}#sk-container-id-1 div.sk-serial {display: flex;flex-direction: column;align-items: center;background-color: white;padding-right: 0.2em;padding-left: 0.2em;position: relative;}#sk-container-id-1 div.sk-item {position: relative;z-index: 1;}#sk-container-id-1 div.sk-parallel {display: flex;align-items: stretch;justify-content: center;background-color: white;position: relative;}#sk-container-id-1 div.sk-item::before, #sk-container-id-1 div.sk-parallel-item::before {content: \"\";position: absolute;border-left: 1px solid gray;box-sizing: border-box;top: 0;bottom: 0;left: 50%;z-index: -1;}#sk-container-id-1 div.sk-parallel-item {display: flex;flex-direction: column;z-index: 1;position: relative;background-color: white;}#sk-container-id-1 div.sk-parallel-item:first-child::after {align-self: flex-end;width: 50%;}#sk-container-id-1 div.sk-parallel-item:last-child::after {align-self: flex-start;width: 50%;}#sk-container-id-1 div.sk-parallel-item:only-child::after {width: 0;}#sk-container-id-1 div.sk-dashed-wrapped {border: 1px dashed gray;margin: 0 0.4em 0.5em 0.4em;box-sizing: border-box;padding-bottom: 0.4em;background-color: white;}#sk-container-id-1 div.sk-label label {font-family: monospace;font-weight: bold;display: inline-block;line-height: 1.2em;}#sk-container-id-1 div.sk-label-container {text-align: center;}#sk-container-id-1 div.sk-container {/* jupyter's `normalize.less` sets `[hidden] { display: none; }` but bootstrap.min.css set `[hidden] { display: none !important; }` so we also need the `!important` here to be able to override the default hidden behavior on the sphinx rendered scikit-learn.org. See: https://github.com/scikit-learn/scikit-learn/issues/21755 */display: inline-block !important;position: relative;}#sk-container-id-1 div.sk-text-repr-fallback {display: none;}</style><div id=\"sk-container-id-1\" class=\"sk-top-container\"><div class=\"sk-text-repr-fallback\"><pre>Pipeline(steps=[(&#x27;scale&#x27;, StandardScaler()),\n",
       "                (&#x27;model&#x27;, LogisticRegression(C=0.1))])</pre><b>In a Jupyter environment, please rerun this cell to show the HTML representation or trust the notebook. <br />On GitHub, the HTML representation is unable to render, please try loading this page with nbviewer.org.</b></div><div class=\"sk-container\" hidden><div class=\"sk-item sk-dashed-wrapped\"><div class=\"sk-label-container\"><div class=\"sk-label sk-toggleable\"><input class=\"sk-toggleable__control sk-hidden--visually\" id=\"sk-estimator-id-1\" type=\"checkbox\" ><label for=\"sk-estimator-id-1\" class=\"sk-toggleable__label sk-toggleable__label-arrow\">Pipeline</label><div class=\"sk-toggleable__content\"><pre>Pipeline(steps=[(&#x27;scale&#x27;, StandardScaler()),\n",
       "                (&#x27;model&#x27;, LogisticRegression(C=0.1))])</pre></div></div></div><div class=\"sk-serial\"><div class=\"sk-item\"><div class=\"sk-estimator sk-toggleable\"><input class=\"sk-toggleable__control sk-hidden--visually\" id=\"sk-estimator-id-2\" type=\"checkbox\" ><label for=\"sk-estimator-id-2\" class=\"sk-toggleable__label sk-toggleable__label-arrow\">StandardScaler</label><div class=\"sk-toggleable__content\"><pre>StandardScaler()</pre></div></div></div><div class=\"sk-item\"><div class=\"sk-estimator sk-toggleable\"><input class=\"sk-toggleable__control sk-hidden--visually\" id=\"sk-estimator-id-3\" type=\"checkbox\" ><label for=\"sk-estimator-id-3\" class=\"sk-toggleable__label sk-toggleable__label-arrow\">LogisticRegression</label><div class=\"sk-toggleable__content\"><pre>LogisticRegression(C=0.1)</pre></div></div></div></div></div></div></div>"
      ],
      "text/plain": [
       "Pipeline(steps=[('scale', StandardScaler()),\n",
       "                ('model', LogisticRegression(C=0.1))])"
      ]
     },
     "execution_count": 32,
     "metadata": {},
     "output_type": "execute_result"
    }
   ],
   "source": [
    "model.fit(X_train, y_train.values.ravel())"
   ]
  },
  {
   "cell_type": "code",
   "execution_count": 33,
   "id": "af59f8c0",
   "metadata": {
    "execution": {
     "iopub.execute_input": "2025-08-05T15:22:27.174125Z",
     "iopub.status.busy": "2025-08-05T15:22:27.173405Z",
     "iopub.status.idle": "2025-08-05T15:22:27.179007Z",
     "shell.execute_reply": "2025-08-05T15:22:27.177875Z"
    },
    "papermill": {
     "duration": 0.025881,
     "end_time": "2025-08-05T15:22:27.180673",
     "exception": false,
     "start_time": "2025-08-05T15:22:27.154792",
     "status": "completed"
    },
    "tags": []
   },
   "outputs": [],
   "source": [
    "from fairness_multiverse.universe import predict_w_threshold"
   ]
  },
  {
   "cell_type": "code",
   "execution_count": 34,
   "id": "a7cf2e16",
   "metadata": {
    "execution": {
     "iopub.execute_input": "2025-08-05T15:22:27.218863Z",
     "iopub.status.busy": "2025-08-05T15:22:27.218118Z",
     "iopub.status.idle": "2025-08-05T15:22:27.399216Z",
     "shell.execute_reply": "2025-08-05T15:22:27.398512Z"
    },
    "papermill": {
     "duration": 0.202444,
     "end_time": "2025-08-05T15:22:27.401798",
     "exception": false,
     "start_time": "2025-08-05T15:22:27.199354",
     "status": "completed"
    },
    "tags": []
   },
   "outputs": [
    {
     "data": {
      "text/plain": [
       "0.858711403410991"
      ]
     },
     "execution_count": 34,
     "metadata": {},
     "output_type": "execute_result"
    }
   ],
   "source": [
    "probs_test = model.predict_proba(X_test)\n",
    "\n",
    "'''\n",
    "Below code returns a boolean array (or binary 0/1 array depending on how it’s used) where each element \n",
    "is True if the probability of class 1 is greater than or equal to the threshold, and False otherwise.\n",
    "'''\n",
    "y_pred_default = predict_w_threshold(probs_test, 0.5)\n",
    "\n",
    "from sklearn.metrics import accuracy_score\n",
    "\n",
    "# Naive prediction\n",
    "accuracy_score(y_true = y_true, y_pred = y_pred_default)"
   ]
  },
  {
   "cell_type": "code",
   "execution_count": 35,
   "id": "081964c3",
   "metadata": {
    "execution": {
     "iopub.execute_input": "2025-08-05T15:22:27.448812Z",
     "iopub.status.busy": "2025-08-05T15:22:27.448499Z",
     "iopub.status.idle": "2025-08-05T15:22:27.663614Z",
     "shell.execute_reply": "2025-08-05T15:22:27.662514Z"
    },
    "papermill": {
     "duration": 0.240016,
     "end_time": "2025-08-05T15:22:27.666143",
     "exception": false,
     "start_time": "2025-08-05T15:22:27.426127",
     "status": "completed"
    },
    "tags": []
   },
   "outputs": [
    {
     "data": {
      "text/plain": [
       "array([0, 0, 0, ..., 0, 0, 0])"
      ]
     },
     "execution_count": 35,
     "metadata": {},
     "output_type": "execute_result"
    }
   ],
   "source": [
    "model.predict(X_test)"
   ]
  },
  {
   "cell_type": "markdown",
   "id": "56c9705b",
   "metadata": {
    "papermill": {
     "duration": 0.02982,
     "end_time": "2025-08-05T15:22:27.729058",
     "exception": false,
     "start_time": "2025-08-05T15:22:27.699238",
     "status": "completed"
    },
    "tags": []
   },
   "source": [
    "# Conformal Prediction"
   ]
  },
  {
   "cell_type": "code",
   "execution_count": 36,
   "id": "160ec6ff",
   "metadata": {
    "execution": {
     "iopub.execute_input": "2025-08-05T15:22:27.772249Z",
     "iopub.status.busy": "2025-08-05T15:22:27.771853Z",
     "iopub.status.idle": "2025-08-05T15:22:27.776995Z",
     "shell.execute_reply": "2025-08-05T15:22:27.775917Z"
    },
    "papermill": {
     "duration": 0.02192,
     "end_time": "2025-08-05T15:22:27.778900",
     "exception": false,
     "start_time": "2025-08-05T15:22:27.756980",
     "status": "completed"
    },
    "tags": []
   },
   "outputs": [],
   "source": [
    "# Miscoverage level for conformal prediction (10% allowed error rate => 90% target coverage)\n",
    "alpha = 0.1"
   ]
  },
  {
   "cell_type": "code",
   "execution_count": 37,
   "id": "eadf4555-3dd3-440e-8e35-f82a4ad9f855",
   "metadata": {
    "execution": {
     "iopub.execute_input": "2025-08-05T15:22:27.826026Z",
     "iopub.status.busy": "2025-08-05T15:22:27.825557Z",
     "iopub.status.idle": "2025-08-05T15:22:28.001743Z",
     "shell.execute_reply": "2025-08-05T15:22:28.000614Z"
    },
    "papermill": {
     "duration": 0.201931,
     "end_time": "2025-08-05T15:22:28.003419",
     "exception": false,
     "start_time": "2025-08-05T15:22:27.801488",
     "status": "completed"
    },
    "tags": []
   },
   "outputs": [],
   "source": [
    "probs_calib = model.predict_proba(X_calib)"
   ]
  },
  {
   "cell_type": "code",
   "execution_count": 38,
   "id": "2ed93547-6d5d-4983-9b36-1ecb300da49a",
   "metadata": {
    "execution": {
     "iopub.execute_input": "2025-08-05T15:22:28.062716Z",
     "iopub.status.busy": "2025-08-05T15:22:28.061764Z",
     "iopub.status.idle": "2025-08-05T15:22:28.068795Z",
     "shell.execute_reply": "2025-08-05T15:22:28.067555Z"
    },
    "papermill": {
     "duration": 0.041199,
     "end_time": "2025-08-05T15:22:28.071119",
     "exception": false,
     "start_time": "2025-08-05T15:22:28.029920",
     "status": "completed"
    },
    "tags": []
   },
   "outputs": [],
   "source": [
    "y_calib = y_calib.values.ravel().astype(int)"
   ]
  },
  {
   "cell_type": "code",
   "execution_count": 39,
   "id": "65d1320d-f588-4b38-9072-62af1ae97f7d",
   "metadata": {
    "execution": {
     "iopub.execute_input": "2025-08-05T15:22:28.114453Z",
     "iopub.status.busy": "2025-08-05T15:22:28.114068Z",
     "iopub.status.idle": "2025-08-05T15:22:28.120710Z",
     "shell.execute_reply": "2025-08-05T15:22:28.119902Z"
    },
    "papermill": {
     "duration": 0.025796,
     "end_time": "2025-08-05T15:22:28.122287",
     "exception": false,
     "start_time": "2025-08-05T15:22:28.096491",
     "status": "completed"
    },
    "tags": []
   },
   "outputs": [],
   "source": [
    "from fairness_multiverse.conformal import compute_nc_scores\n",
    "\n",
    "# Compute nonconformity scores on calibration set (1 - probability of true class)\n",
    "nc_scores = compute_nc_scores(probs_calib, y_calib)"
   ]
  },
  {
   "cell_type": "code",
   "execution_count": 40,
   "id": "df3b8ca3-53b7-43d5-9667-7c85da7aeda2",
   "metadata": {
    "execution": {
     "iopub.execute_input": "2025-08-05T15:22:28.151284Z",
     "iopub.status.busy": "2025-08-05T15:22:28.150985Z",
     "iopub.status.idle": "2025-08-05T15:22:28.156383Z",
     "shell.execute_reply": "2025-08-05T15:22:28.155548Z"
    },
    "papermill": {
     "duration": 0.019021,
     "end_time": "2025-08-05T15:22:28.158042",
     "exception": false,
     "start_time": "2025-08-05T15:22:28.139021",
     "status": "completed"
    },
    "tags": []
   },
   "outputs": [],
   "source": [
    "from fairness_multiverse.conformal import find_threshold\n",
    "\n",
    "# Find conformal threshold q_hat for the given alpha (split conformal method)\n",
    "q_hat = find_threshold(nc_scores, alpha)"
   ]
  },
  {
   "cell_type": "code",
   "execution_count": 41,
   "id": "4d29e6c1-0ef6-4aa4-b8fe-4fe79b0d033a",
   "metadata": {
    "execution": {
     "iopub.execute_input": "2025-08-05T15:22:28.189132Z",
     "iopub.status.busy": "2025-08-05T15:22:28.188500Z",
     "iopub.status.idle": "2025-08-05T15:22:28.198579Z",
     "shell.execute_reply": "2025-08-05T15:22:28.197083Z"
    },
    "papermill": {
     "duration": 0.031589,
     "end_time": "2025-08-05T15:22:28.200769",
     "exception": false,
     "start_time": "2025-08-05T15:22:28.169180",
     "status": "completed"
    },
    "tags": []
   },
   "outputs": [
    {
     "data": {
      "text/plain": [
       "0.6834871028962519"
      ]
     },
     "execution_count": 41,
     "metadata": {},
     "output_type": "execute_result"
    }
   ],
   "source": [
    "q_hat"
   ]
  },
  {
   "cell_type": "code",
   "execution_count": 42,
   "id": "92460794-cdac-4be2-ba28-f28c0515a6fb",
   "metadata": {
    "execution": {
     "iopub.execute_input": "2025-08-05T15:22:28.242951Z",
     "iopub.status.busy": "2025-08-05T15:22:28.242243Z",
     "iopub.status.idle": "2025-08-05T15:22:29.167072Z",
     "shell.execute_reply": "2025-08-05T15:22:29.166288Z"
    },
    "papermill": {
     "duration": 0.94836,
     "end_time": "2025-08-05T15:22:29.168793",
     "exception": false,
     "start_time": "2025-08-05T15:22:28.220433",
     "status": "completed"
    },
    "tags": []
   },
   "outputs": [],
   "source": [
    "from fairness_multiverse.conformal import predict_conformal_sets\n",
    "\n",
    "# Generate prediction sets for each test example\n",
    "pred_sets = predict_conformal_sets(model, X_test, q_hat)"
   ]
  },
  {
   "cell_type": "code",
   "execution_count": 43,
   "id": "d90c9a65-e6db-4f5d-80cd-e68fb7e46829",
   "metadata": {
    "execution": {
     "iopub.execute_input": "2025-08-05T15:22:29.208126Z",
     "iopub.status.busy": "2025-08-05T15:22:29.207673Z",
     "iopub.status.idle": "2025-08-05T15:22:29.221413Z",
     "shell.execute_reply": "2025-08-05T15:22:29.220282Z"
    },
    "papermill": {
     "duration": 0.034912,
     "end_time": "2025-08-05T15:22:29.223045",
     "exception": false,
     "start_time": "2025-08-05T15:22:29.188133",
     "status": "completed"
    },
    "tags": []
   },
   "outputs": [],
   "source": [
    "y_true = y_true.squeeze()"
   ]
  },
  {
   "cell_type": "code",
   "execution_count": 44,
   "id": "3a58a54a-1e68-46b9-927a-df01f18aebc8",
   "metadata": {
    "execution": {
     "iopub.execute_input": "2025-08-05T15:22:29.267419Z",
     "iopub.status.busy": "2025-08-05T15:22:29.266984Z",
     "iopub.status.idle": "2025-08-05T15:22:30.375620Z",
     "shell.execute_reply": "2025-08-05T15:22:30.374416Z"
    },
    "papermill": {
     "duration": 1.133568,
     "end_time": "2025-08-05T15:22:30.377725",
     "exception": false,
     "start_time": "2025-08-05T15:22:29.244157",
     "status": "completed"
    },
    "tags": []
   },
   "outputs": [],
   "source": [
    "from fairness_multiverse.conformal import evaluate_sets\n",
    "\n",
    "# Evaluate coverage and average set size on test data\n",
    "metrics = evaluate_sets(pred_sets, y_true)"
   ]
  },
  {
   "cell_type": "markdown",
   "id": "2b569c12-9aaa-4c88-98c9-bbcd0cf3ebb8",
   "metadata": {
    "papermill": {
     "duration": 0.022664,
     "end_time": "2025-08-05T15:22:30.422348",
     "exception": false,
     "start_time": "2025-08-05T15:22:30.399684",
     "status": "completed"
    },
    "tags": []
   },
   "source": [
    "# CP Metrics"
   ]
  },
  {
   "cell_type": "code",
   "execution_count": 45,
   "id": "5ce0a5cb-201f-45a0-ade5-94c7f0bd6095",
   "metadata": {
    "execution": {
     "iopub.execute_input": "2025-08-05T15:22:30.468160Z",
     "iopub.status.busy": "2025-08-05T15:22:30.467700Z",
     "iopub.status.idle": "2025-08-05T15:22:30.475749Z",
     "shell.execute_reply": "2025-08-05T15:22:30.474715Z"
    },
    "papermill": {
     "duration": 0.034142,
     "end_time": "2025-08-05T15:22:30.477595",
     "exception": false,
     "start_time": "2025-08-05T15:22:30.443453",
     "status": "completed"
    },
    "tags": []
   },
   "outputs": [
    {
     "data": {
      "text/plain": [
       "{'coverage': 0.9105227956749526, 'avg_size': 1.1329060305428604}"
      ]
     },
     "execution_count": 45,
     "metadata": {},
     "output_type": "execute_result"
    }
   ],
   "source": [
    "metrics"
   ]
  },
  {
   "cell_type": "code",
   "execution_count": 46,
   "id": "9b9a838d-31c9-430b-ae14-12baee460d17",
   "metadata": {
    "execution": {
     "iopub.execute_input": "2025-08-05T15:22:30.522202Z",
     "iopub.status.busy": "2025-08-05T15:22:30.521567Z",
     "iopub.status.idle": "2025-08-05T15:22:30.528321Z",
     "shell.execute_reply": "2025-08-05T15:22:30.527171Z"
    },
    "papermill": {
     "duration": 0.030246,
     "end_time": "2025-08-05T15:22:30.530343",
     "exception": false,
     "start_time": "2025-08-05T15:22:30.500097",
     "status": "completed"
    },
    "tags": []
   },
   "outputs": [],
   "source": [
    "example_universe = universe.copy()\n",
    "universe_training_year = example_universe.get(\"training_year\")\n",
    "universe_training_size = example_universe.get(\"training_size\")\n",
    "universe_scale = example_universe.get(\"scale\")\n",
    "universe_model = example_universe.get(\"model\")\n",
    "universe_exclude_features = example_universe.get(\"exclude_features\")\n",
    "universe_exclude_subgroups = example_universe.get(\"exclude_subgroups\")"
   ]
  },
  {
   "cell_type": "code",
   "execution_count": 47,
   "id": "f4b6a8ac-9dc0-4245-8a91-5b3b5999c4f9",
   "metadata": {
    "execution": {
     "iopub.execute_input": "2025-08-05T15:22:30.583152Z",
     "iopub.status.busy": "2025-08-05T15:22:30.582163Z",
     "iopub.status.idle": "2025-08-05T15:22:30.589493Z",
     "shell.execute_reply": "2025-08-05T15:22:30.588353Z"
    },
    "papermill": {
     "duration": 0.035217,
     "end_time": "2025-08-05T15:22:30.591404",
     "exception": false,
     "start_time": "2025-08-05T15:22:30.556187",
     "status": "completed"
    },
    "tags": []
   },
   "outputs": [],
   "source": [
    "cp_metrics_dict = {\n",
    "    \"universe_id\": [universe_id],\n",
    "    \"universe_training_year\": [universe_training_year],\n",
    "    \"universe_training_size\": [universe_training_size],\n",
    "    \"universe_scale\": [universe_scale],\n",
    "    \"universe_model\": [universe_model],\n",
    "    \"universe_exclude_features\": [universe_exclude_features],\n",
    "    \"universe_exclude_subgroups\": [universe_exclude_subgroups],\n",
    "    \"q_hat\": [q_hat],\n",
    "    \"coverage\": [metrics[\"coverage\"]],\n",
    "    \"avg_size\": [metrics[\"avg_size\"]],\n",
    "}"
   ]
  },
  {
   "cell_type": "code",
   "execution_count": 48,
   "id": "908acbb1-0371-4915-85ca-3fa520d2efe2",
   "metadata": {
    "execution": {
     "iopub.execute_input": "2025-08-05T15:22:30.642272Z",
     "iopub.status.busy": "2025-08-05T15:22:30.641315Z",
     "iopub.status.idle": "2025-08-05T15:22:30.650612Z",
     "shell.execute_reply": "2025-08-05T15:22:30.649299Z"
    },
    "papermill": {
     "duration": 0.036641,
     "end_time": "2025-08-05T15:22:30.652595",
     "exception": false,
     "start_time": "2025-08-05T15:22:30.615954",
     "status": "completed"
    },
    "tags": []
   },
   "outputs": [
    {
     "data": {
      "text/plain": [
       "{'universe_id': ['e3246177ef156a09b762b7e1b5fd95eb'],\n",
       " 'universe_training_year': ['2014'],\n",
       " 'universe_training_size': ['5k'],\n",
       " 'universe_scale': ['scale'],\n",
       " 'universe_model': ['penalized_logreg'],\n",
       " 'universe_exclude_features': ['nationality-sex'],\n",
       " 'universe_exclude_subgroups': ['keep-all'],\n",
       " 'q_hat': [0.6834871028962519],\n",
       " 'coverage': [0.9105227956749526],\n",
       " 'avg_size': [1.1329060305428604]}"
      ]
     },
     "execution_count": 48,
     "metadata": {},
     "output_type": "execute_result"
    }
   ],
   "source": [
    "cp_metrics_dict"
   ]
  },
  {
   "cell_type": "code",
   "execution_count": 49,
   "id": "33007efc-14e9-4ec6-97ac-56a455c82265",
   "metadata": {
    "execution": {
     "iopub.execute_input": "2025-08-05T15:22:30.700207Z",
     "iopub.status.busy": "2025-08-05T15:22:30.699692Z",
     "iopub.status.idle": "2025-08-05T15:22:30.706692Z",
     "shell.execute_reply": "2025-08-05T15:22:30.705631Z"
    },
    "papermill": {
     "duration": 0.032397,
     "end_time": "2025-08-05T15:22:30.708463",
     "exception": false,
     "start_time": "2025-08-05T15:22:30.676066",
     "status": "completed"
    },
    "tags": []
   },
   "outputs": [],
   "source": [
    "cp_metrics_df = pd.DataFrame(cp_metrics_dict)"
   ]
  },
  {
   "cell_type": "code",
   "execution_count": 50,
   "id": "db12611b-57b2-4910-b9d0-355adfd6e7bf",
   "metadata": {
    "execution": {
     "iopub.execute_input": "2025-08-05T15:22:30.751946Z",
     "iopub.status.busy": "2025-08-05T15:22:30.751143Z",
     "iopub.status.idle": "2025-08-05T15:22:30.769376Z",
     "shell.execute_reply": "2025-08-05T15:22:30.768447Z"
    },
    "papermill": {
     "duration": 0.040796,
     "end_time": "2025-08-05T15:22:30.771108",
     "exception": false,
     "start_time": "2025-08-05T15:22:30.730312",
     "status": "completed"
    },
    "tags": []
   },
   "outputs": [
    {
     "data": {
      "text/html": [
       "<div>\n",
       "<style scoped>\n",
       "    .dataframe tbody tr th:only-of-type {\n",
       "        vertical-align: middle;\n",
       "    }\n",
       "\n",
       "    .dataframe tbody tr th {\n",
       "        vertical-align: top;\n",
       "    }\n",
       "\n",
       "    .dataframe thead th {\n",
       "        text-align: right;\n",
       "    }\n",
       "</style>\n",
       "<table border=\"1\" class=\"dataframe\">\n",
       "  <thead>\n",
       "    <tr style=\"text-align: right;\">\n",
       "      <th></th>\n",
       "      <th>universe_id</th>\n",
       "      <th>universe_training_year</th>\n",
       "      <th>universe_training_size</th>\n",
       "      <th>universe_scale</th>\n",
       "      <th>universe_model</th>\n",
       "      <th>universe_exclude_features</th>\n",
       "      <th>universe_exclude_subgroups</th>\n",
       "      <th>q_hat</th>\n",
       "      <th>coverage</th>\n",
       "      <th>avg_size</th>\n",
       "    </tr>\n",
       "  </thead>\n",
       "  <tbody>\n",
       "    <tr>\n",
       "      <th>0</th>\n",
       "      <td>e3246177ef156a09b762b7e1b5fd95eb</td>\n",
       "      <td>2014</td>\n",
       "      <td>5k</td>\n",
       "      <td>scale</td>\n",
       "      <td>penalized_logreg</td>\n",
       "      <td>nationality-sex</td>\n",
       "      <td>keep-all</td>\n",
       "      <td>0.683487</td>\n",
       "      <td>0.910523</td>\n",
       "      <td>1.132906</td>\n",
       "    </tr>\n",
       "  </tbody>\n",
       "</table>\n",
       "</div>"
      ],
      "text/plain": [
       "                        universe_id universe_training_year  \\\n",
       "0  e3246177ef156a09b762b7e1b5fd95eb                   2014   \n",
       "\n",
       "  universe_training_size universe_scale    universe_model  \\\n",
       "0                     5k          scale  penalized_logreg   \n",
       "\n",
       "  universe_exclude_features universe_exclude_subgroups     q_hat  coverage  \\\n",
       "0           nationality-sex                   keep-all  0.683487  0.910523   \n",
       "\n",
       "   avg_size  \n",
       "0  1.132906  "
      ]
     },
     "execution_count": 50,
     "metadata": {},
     "output_type": "execute_result"
    }
   ],
   "source": [
    "cp_metrics_df"
   ]
  },
  {
   "cell_type": "code",
   "execution_count": 51,
   "id": "b7fbde55-a0a1-47e4-9af6-fe4a17fa8c61",
   "metadata": {
    "execution": {
     "iopub.execute_input": "2025-08-05T15:22:30.815354Z",
     "iopub.status.busy": "2025-08-05T15:22:30.814797Z",
     "iopub.status.idle": "2025-08-05T15:22:30.819862Z",
     "shell.execute_reply": "2025-08-05T15:22:30.818834Z"
    },
    "papermill": {
     "duration": 0.029048,
     "end_time": "2025-08-05T15:22:30.821690",
     "exception": false,
     "start_time": "2025-08-05T15:22:30.792642",
     "status": "completed"
    },
    "tags": []
   },
   "outputs": [],
   "source": [
    "# Conditional Coverage & looking at subgroups"
   ]
  },
  {
   "cell_type": "code",
   "execution_count": 52,
   "id": "027ae886-68dd-4141-96c7-805a5450e1ef",
   "metadata": {
    "execution": {
     "iopub.execute_input": "2025-08-05T15:22:30.867135Z",
     "iopub.status.busy": "2025-08-05T15:22:30.866388Z",
     "iopub.status.idle": "2025-08-05T15:22:31.106823Z",
     "shell.execute_reply": "2025-08-05T15:22:31.105780Z"
    },
    "papermill": {
     "duration": 0.264705,
     "end_time": "2025-08-05T15:22:31.108858",
     "exception": false,
     "start_time": "2025-08-05T15:22:30.844153",
     "status": "completed"
    },
    "tags": []
   },
   "outputs": [],
   "source": [
    "from fairness_multiverse.conformal import build_cp_groups\n",
    "\n",
    "cp_groups_df = build_cp_groups(pred_sets, y_true, X_test.index, org_test)\n",
    "#needs universe_id and setting"
   ]
  },
  {
   "cell_type": "code",
   "execution_count": 53,
   "id": "6cbdab96-b2b2-45af-ad54-d0516db2e28d",
   "metadata": {
    "execution": {
     "iopub.execute_input": "2025-08-05T15:22:31.155763Z",
     "iopub.status.busy": "2025-08-05T15:22:31.155142Z",
     "iopub.status.idle": "2025-08-05T15:22:33.002738Z",
     "shell.execute_reply": "2025-08-05T15:22:33.001738Z"
    },
    "papermill": {
     "duration": 1.871862,
     "end_time": "2025-08-05T15:22:33.004692",
     "exception": false,
     "start_time": "2025-08-05T15:22:31.132830",
     "status": "completed"
    },
    "tags": []
   },
   "outputs": [],
   "source": [
    "# Define covered = 1 if true_label is in the predicted set\n",
    "cp_groups_df['covered'] = cp_groups_df.apply(\n",
    "    lambda r: int(r['true_label'] in r['pred_set']),\n",
    "    axis=1\n",
    ")"
   ]
  },
  {
   "cell_type": "code",
   "execution_count": 54,
   "id": "338ff529-1a6b-4b87-a931-8e4788d52aad",
   "metadata": {
    "execution": {
     "iopub.execute_input": "2025-08-05T15:22:33.043296Z",
     "iopub.status.busy": "2025-08-05T15:22:33.042847Z",
     "iopub.status.idle": "2025-08-05T15:22:33.047260Z",
     "shell.execute_reply": "2025-08-05T15:22:33.046518Z"
    },
    "papermill": {
     "duration": 0.017789,
     "end_time": "2025-08-05T15:22:33.048719",
     "exception": false,
     "start_time": "2025-08-05T15:22:33.030930",
     "status": "completed"
    },
    "tags": []
   },
   "outputs": [],
   "source": [
    "#cp_groups_df"
   ]
  },
  {
   "cell_type": "code",
   "execution_count": 55,
   "id": "90032e27-66df-4540-9169-4e89cfbaa758",
   "metadata": {
    "execution": {
     "iopub.execute_input": "2025-08-05T15:22:33.083642Z",
     "iopub.status.busy": "2025-08-05T15:22:33.082791Z",
     "iopub.status.idle": "2025-08-05T15:22:33.094348Z",
     "shell.execute_reply": "2025-08-05T15:22:33.093334Z"
    },
    "papermill": {
     "duration": 0.035872,
     "end_time": "2025-08-05T15:22:33.096222",
     "exception": false,
     "start_time": "2025-08-05T15:22:33.060350",
     "status": "completed"
    },
    "tags": []
   },
   "outputs": [],
   "source": [
    "subgroups = ['frau1','nongerman','nongerman_male','nongerman_female']\n",
    "\n",
    "# Conditional coverage for subgroup==1\n",
    "cond_coverage = {\n",
    "    g: cp_groups_df.loc[cp_groups_df[g]==1, 'covered'].mean()\n",
    "    for g in subgroups\n",
    "}"
   ]
  },
  {
   "cell_type": "code",
   "execution_count": 56,
   "id": "1e348fb1-b9c3-45bc-ba23-f016827a7e0d",
   "metadata": {
    "execution": {
     "iopub.execute_input": "2025-08-05T15:22:33.144097Z",
     "iopub.status.busy": "2025-08-05T15:22:33.143508Z",
     "iopub.status.idle": "2025-08-05T15:22:33.151054Z",
     "shell.execute_reply": "2025-08-05T15:22:33.149933Z"
    },
    "papermill": {
     "duration": 0.033167,
     "end_time": "2025-08-05T15:22:33.152777",
     "exception": false,
     "start_time": "2025-08-05T15:22:33.119610",
     "status": "completed"
    },
    "tags": []
   },
   "outputs": [
    {
     "data": {
      "text/plain": [
       "{'frau1': 0.9097722064968324,\n",
       " 'nongerman': 0.9095042946162915,\n",
       " 'nongerman_male': 0.9264162838872377,\n",
       " 'nongerman_female': 0.8815201192250373}"
      ]
     },
     "execution_count": 56,
     "metadata": {},
     "output_type": "execute_result"
    }
   ],
   "source": [
    "cond_coverage"
   ]
  },
  {
   "cell_type": "code",
   "execution_count": 57,
   "id": "f5093324-c3dd-4d63-bc4c-8d945e5c8bbb",
   "metadata": {
    "execution": {
     "iopub.execute_input": "2025-08-05T15:22:33.201725Z",
     "iopub.status.busy": "2025-08-05T15:22:33.201085Z",
     "iopub.status.idle": "2025-08-05T15:22:33.208634Z",
     "shell.execute_reply": "2025-08-05T15:22:33.207538Z"
    },
    "papermill": {
     "duration": 0.033616,
     "end_time": "2025-08-05T15:22:33.210418",
     "exception": false,
     "start_time": "2025-08-05T15:22:33.176802",
     "status": "completed"
    },
    "tags": []
   },
   "outputs": [],
   "source": [
    "for subgroup, cov in cond_coverage.items():\n",
    "    cp_metrics_df[f\"cov_{subgroup}\"] = cov"
   ]
  },
  {
   "cell_type": "code",
   "execution_count": 58,
   "id": "6e872e10-dbe5-49e8-b554-5030c98ff75d",
   "metadata": {
    "execution": {
     "iopub.execute_input": "2025-08-05T15:22:33.259122Z",
     "iopub.status.busy": "2025-08-05T15:22:33.258358Z",
     "iopub.status.idle": "2025-08-05T15:22:33.276730Z",
     "shell.execute_reply": "2025-08-05T15:22:33.275594Z"
    },
    "papermill": {
     "duration": 0.044241,
     "end_time": "2025-08-05T15:22:33.278517",
     "exception": false,
     "start_time": "2025-08-05T15:22:33.234276",
     "status": "completed"
    },
    "tags": []
   },
   "outputs": [
    {
     "data": {
      "text/html": [
       "<div>\n",
       "<style scoped>\n",
       "    .dataframe tbody tr th:only-of-type {\n",
       "        vertical-align: middle;\n",
       "    }\n",
       "\n",
       "    .dataframe tbody tr th {\n",
       "        vertical-align: top;\n",
       "    }\n",
       "\n",
       "    .dataframe thead th {\n",
       "        text-align: right;\n",
       "    }\n",
       "</style>\n",
       "<table border=\"1\" class=\"dataframe\">\n",
       "  <thead>\n",
       "    <tr style=\"text-align: right;\">\n",
       "      <th></th>\n",
       "      <th>universe_id</th>\n",
       "      <th>universe_training_year</th>\n",
       "      <th>universe_training_size</th>\n",
       "      <th>universe_scale</th>\n",
       "      <th>universe_model</th>\n",
       "      <th>universe_exclude_features</th>\n",
       "      <th>universe_exclude_subgroups</th>\n",
       "      <th>q_hat</th>\n",
       "      <th>coverage</th>\n",
       "      <th>avg_size</th>\n",
       "      <th>cov_frau1</th>\n",
       "      <th>cov_nongerman</th>\n",
       "      <th>cov_nongerman_male</th>\n",
       "      <th>cov_nongerman_female</th>\n",
       "    </tr>\n",
       "  </thead>\n",
       "  <tbody>\n",
       "    <tr>\n",
       "      <th>0</th>\n",
       "      <td>e3246177ef156a09b762b7e1b5fd95eb</td>\n",
       "      <td>2014</td>\n",
       "      <td>5k</td>\n",
       "      <td>scale</td>\n",
       "      <td>penalized_logreg</td>\n",
       "      <td>nationality-sex</td>\n",
       "      <td>keep-all</td>\n",
       "      <td>0.683487</td>\n",
       "      <td>0.910523</td>\n",
       "      <td>1.132906</td>\n",
       "      <td>0.909772</td>\n",
       "      <td>0.909504</td>\n",
       "      <td>0.926416</td>\n",
       "      <td>0.88152</td>\n",
       "    </tr>\n",
       "  </tbody>\n",
       "</table>\n",
       "</div>"
      ],
      "text/plain": [
       "                        universe_id universe_training_year  \\\n",
       "0  e3246177ef156a09b762b7e1b5fd95eb                   2014   \n",
       "\n",
       "  universe_training_size universe_scale    universe_model  \\\n",
       "0                     5k          scale  penalized_logreg   \n",
       "\n",
       "  universe_exclude_features universe_exclude_subgroups     q_hat  coverage  \\\n",
       "0           nationality-sex                   keep-all  0.683487  0.910523   \n",
       "\n",
       "   avg_size  cov_frau1  cov_nongerman  cov_nongerman_male  \\\n",
       "0  1.132906   0.909772       0.909504            0.926416   \n",
       "\n",
       "   cov_nongerman_female  \n",
       "0               0.88152  "
      ]
     },
     "execution_count": 58,
     "metadata": {},
     "output_type": "execute_result"
    }
   ],
   "source": [
    "cp_metrics_df"
   ]
  },
  {
   "cell_type": "markdown",
   "id": "33774451",
   "metadata": {
    "papermill": {
     "duration": 0.023567,
     "end_time": "2025-08-05T15:22:33.326736",
     "exception": false,
     "start_time": "2025-08-05T15:22:33.303169",
     "status": "completed"
    },
    "tags": []
   },
   "source": [
    "# (Fairness) Metrics"
   ]
  },
  {
   "cell_type": "code",
   "execution_count": 59,
   "id": "debc5d62",
   "metadata": {
    "execution": {
     "iopub.execute_input": "2025-08-05T15:22:33.375542Z",
     "iopub.status.busy": "2025-08-05T15:22:33.374942Z",
     "iopub.status.idle": "2025-08-05T15:22:33.395999Z",
     "shell.execute_reply": "2025-08-05T15:22:33.395107Z"
    },
    "papermill": {
     "duration": 0.047238,
     "end_time": "2025-08-05T15:22:33.397702",
     "exception": false,
     "start_time": "2025-08-05T15:22:33.350464",
     "status": "completed"
    },
    "tags": []
   },
   "outputs": [],
   "source": [
    "# do I need to include maxdeutsch1.missing?\n",
    "\n",
    "import numpy as np\n",
    "\n",
    "colname_to_bin = \"maxdeutsch1\"\n",
    "majority_value = org_train[colname_to_bin].mode()[0]\n",
    "\n",
    "org_test[\"majmin\"] = np.where(org_test[colname_to_bin] == majority_value, \"majority\", \"minority\")"
   ]
  },
  {
   "cell_type": "code",
   "execution_count": 60,
   "id": "06a50de5",
   "metadata": {
    "execution": {
     "iopub.execute_input": "2025-08-05T15:22:33.444868Z",
     "iopub.status.busy": "2025-08-05T15:22:33.444226Z",
     "iopub.status.idle": "2025-08-05T15:22:35.242278Z",
     "shell.execute_reply": "2025-08-05T15:22:35.241495Z"
    },
    "papermill": {
     "duration": 1.822352,
     "end_time": "2025-08-05T15:22:35.243743",
     "exception": false,
     "start_time": "2025-08-05T15:22:33.421391",
     "status": "completed"
    },
    "tags": []
   },
   "outputs": [],
   "source": [
    "example_universe = universe.copy()\n",
    "example_universe[\"cutoff\"] = example_universe[\"cutoff\"][0]\n",
    "example_universe[\"eval_fairness_grouping\"] = example_universe[\"eval_fairness_grouping\"][0]\n",
    "fairness_dict, metric_frame = universe_analysis.compute_metrics(\n",
    "    example_universe,\n",
    "    y_pred_prob=probs_test,\n",
    "    y_test=y_true,\n",
    "    org_test=org_test,\n",
    ")"
   ]
  },
  {
   "cell_type": "markdown",
   "id": "f95d4e02",
   "metadata": {
    "papermill": {
     "duration": 0.011447,
     "end_time": "2025-08-05T15:22:35.267396",
     "exception": false,
     "start_time": "2025-08-05T15:22:35.255949",
     "status": "completed"
    },
    "tags": []
   },
   "source": [
    "# Overall"
   ]
  },
  {
   "cell_type": "markdown",
   "id": "bdee4871",
   "metadata": {
    "papermill": {
     "duration": 0.011349,
     "end_time": "2025-08-05T15:22:35.290121",
     "exception": false,
     "start_time": "2025-08-05T15:22:35.278772",
     "status": "completed"
    },
    "tags": []
   },
   "source": [
    "Fairness\n",
    "Main fairness target: Equalized Odds. Seems to be a better fit than equal opportunity, since we're not only interested in Y = 1. Seems to be a better fit than demographic parity, since we also care about accuracy, not just equal distribution of preds.\n",
    "\n",
    "Pick column for computation of fairness metrics\n",
    "\n",
    "Performance\n",
    "Overall performance measures, most interesting in relation to the measures split by group below"
   ]
  },
  {
   "cell_type": "code",
   "execution_count": 61,
   "id": "c4e067c6",
   "metadata": {
    "execution": {
     "iopub.execute_input": "2025-08-05T15:22:35.314396Z",
     "iopub.status.busy": "2025-08-05T15:22:35.313728Z",
     "iopub.status.idle": "2025-08-05T15:22:35.321041Z",
     "shell.execute_reply": "2025-08-05T15:22:35.320208Z"
    },
    "papermill": {
     "duration": 0.021048,
     "end_time": "2025-08-05T15:22:35.322616",
     "exception": false,
     "start_time": "2025-08-05T15:22:35.301568",
     "status": "completed"
    },
    "tags": []
   },
   "outputs": [
    {
     "data": {
      "text/plain": [
       "accuracy                   0.224379\n",
       "balanced accuracy          0.548636\n",
       "f1                         0.245710\n",
       "precision                  0.140366\n",
       "false positive rate        0.887522\n",
       "false negative rate        0.015207\n",
       "selection rate             0.900000\n",
       "count                  89710.000000\n",
       "dtype: float64"
      ]
     },
     "execution_count": 61,
     "metadata": {},
     "output_type": "execute_result"
    }
   ],
   "source": [
    "metric_frame.overall"
   ]
  },
  {
   "cell_type": "markdown",
   "id": "e968fe9d",
   "metadata": {
    "papermill": {
     "duration": 0.011357,
     "end_time": "2025-08-05T15:22:35.346199",
     "exception": false,
     "start_time": "2025-08-05T15:22:35.334842",
     "status": "completed"
    },
    "tags": []
   },
   "source": [
    "By Group"
   ]
  },
  {
   "cell_type": "code",
   "execution_count": 62,
   "id": "ec325bce",
   "metadata": {
    "execution": {
     "iopub.execute_input": "2025-08-05T15:22:35.371254Z",
     "iopub.status.busy": "2025-08-05T15:22:35.370768Z",
     "iopub.status.idle": "2025-08-05T15:22:35.383376Z",
     "shell.execute_reply": "2025-08-05T15:22:35.382526Z"
    },
    "papermill": {
     "duration": 0.026998,
     "end_time": "2025-08-05T15:22:35.384800",
     "exception": false,
     "start_time": "2025-08-05T15:22:35.357802",
     "status": "completed"
    },
    "tags": []
   },
   "outputs": [
    {
     "data": {
      "text/html": [
       "<div>\n",
       "<style scoped>\n",
       "    .dataframe tbody tr th:only-of-type {\n",
       "        vertical-align: middle;\n",
       "    }\n",
       "\n",
       "    .dataframe tbody tr th {\n",
       "        vertical-align: top;\n",
       "    }\n",
       "\n",
       "    .dataframe thead th {\n",
       "        text-align: right;\n",
       "    }\n",
       "</style>\n",
       "<table border=\"1\" class=\"dataframe\">\n",
       "  <thead>\n",
       "    <tr style=\"text-align: right;\">\n",
       "      <th></th>\n",
       "      <th>accuracy</th>\n",
       "      <th>balanced accuracy</th>\n",
       "      <th>f1</th>\n",
       "      <th>precision</th>\n",
       "      <th>false positive rate</th>\n",
       "      <th>false negative rate</th>\n",
       "      <th>selection rate</th>\n",
       "      <th>count</th>\n",
       "    </tr>\n",
       "    <tr>\n",
       "      <th>majmin</th>\n",
       "      <th></th>\n",
       "      <th></th>\n",
       "      <th></th>\n",
       "      <th></th>\n",
       "      <th></th>\n",
       "      <th></th>\n",
       "      <th></th>\n",
       "      <th></th>\n",
       "    </tr>\n",
       "  </thead>\n",
       "  <tbody>\n",
       "    <tr>\n",
       "      <th>majority</th>\n",
       "      <td>0.242417</td>\n",
       "      <td>0.556950</td>\n",
       "      <td>0.255632</td>\n",
       "      <td>0.146887</td>\n",
       "      <td>0.870565</td>\n",
       "      <td>0.015536</td>\n",
       "      <td>0.885615</td>\n",
       "      <td>69170.0</td>\n",
       "    </tr>\n",
       "    <tr>\n",
       "      <th>minority</th>\n",
       "      <td>0.163632</td>\n",
       "      <td>0.521262</td>\n",
       "      <td>0.213740</td>\n",
       "      <td>0.119860</td>\n",
       "      <td>0.943540</td>\n",
       "      <td>0.013936</td>\n",
       "      <td>0.948442</td>\n",
       "      <td>20540.0</td>\n",
       "    </tr>\n",
       "  </tbody>\n",
       "</table>\n",
       "</div>"
      ],
      "text/plain": [
       "          accuracy  balanced accuracy        f1  precision  \\\n",
       "majmin                                                       \n",
       "majority  0.242417           0.556950  0.255632   0.146887   \n",
       "minority  0.163632           0.521262  0.213740   0.119860   \n",
       "\n",
       "          false positive rate  false negative rate  selection rate    count  \n",
       "majmin                                                                       \n",
       "majority             0.870565             0.015536        0.885615  69170.0  \n",
       "minority             0.943540             0.013936        0.948442  20540.0  "
      ]
     },
     "execution_count": 62,
     "metadata": {},
     "output_type": "execute_result"
    }
   ],
   "source": [
    "metric_frame.by_group"
   ]
  },
  {
   "cell_type": "code",
   "execution_count": 63,
   "id": "a9ddbe63",
   "metadata": {
    "execution": {
     "iopub.execute_input": "2025-08-05T15:22:35.409877Z",
     "iopub.status.busy": "2025-08-05T15:22:35.409344Z",
     "iopub.status.idle": "2025-08-05T15:22:36.991201Z",
     "shell.execute_reply": "2025-08-05T15:22:36.990445Z"
    },
    "papermill": {
     "duration": 1.595377,
     "end_time": "2025-08-05T15:22:36.992550",
     "exception": false,
     "start_time": "2025-08-05T15:22:35.397173",
     "status": "completed"
    },
    "tags": []
   },
   "outputs": [
    {
     "data": {
      "text/plain": [
       "array([[<Axes: title={'center': 'accuracy'}, xlabel='majmin'>,\n",
       "        <Axes: title={'center': 'balanced accuracy'}, xlabel='majmin'>,\n",
       "        <Axes: title={'center': 'f1'}, xlabel='majmin'>],\n",
       "       [<Axes: title={'center': 'precision'}, xlabel='majmin'>,\n",
       "        <Axes: title={'center': 'false positive rate'}, xlabel='majmin'>,\n",
       "        <Axes: title={'center': 'false negative rate'}, xlabel='majmin'>],\n",
       "       [<Axes: title={'center': 'selection rate'}, xlabel='majmin'>,\n",
       "        <Axes: title={'center': 'count'}, xlabel='majmin'>,\n",
       "        <Axes: xlabel='majmin'>]], dtype=object)"
      ]
     },
     "execution_count": 63,
     "metadata": {},
     "output_type": "execute_result"
    },
    {
     "data": {
      "image/png": "[encoded data removed]",
      "text/plain": [
       "<Figure size 1200x800 with 9 Axes>"
      ]
     },
     "metadata": {},
     "output_type": "display_data"
    }
   ],
   "source": [
    "# In a graphic\n",
    "metric_frame.by_group.plot.bar(\n",
    "    subplots=True,\n",
    "    layout=[3, 3],\n",
    "    legend=False,\n",
    "    figsize=[12, 8],\n",
    "    title=\"Show all metrics\",\n",
    ")"
   ]
  },
  {
   "cell_type": "markdown",
   "id": "f57a0bac",
   "metadata": {
    "papermill": {
     "duration": 0.012552,
     "end_time": "2025-08-05T15:22:37.018337",
     "exception": false,
     "start_time": "2025-08-05T15:22:37.005785",
     "status": "completed"
    },
    "tags": []
   },
   "source": [
    "# Final Output"
   ]
  },
  {
   "cell_type": "code",
   "execution_count": 64,
   "id": "96d280a3",
   "metadata": {
    "execution": {
     "iopub.execute_input": "2025-08-05T15:22:37.044497Z",
     "iopub.status.busy": "2025-08-05T15:22:37.044099Z",
     "iopub.status.idle": "2025-08-05T15:22:37.050712Z",
     "shell.execute_reply": "2025-08-05T15:22:37.049890Z"
    },
    "papermill": {
     "duration": 0.021241,
     "end_time": "2025-08-05T15:22:37.052060",
     "exception": false,
     "start_time": "2025-08-05T15:22:37.030819",
     "status": "completed"
    },
    "tags": []
   },
   "outputs": [
    {
     "data": {
      "text/plain": [
       "4"
      ]
     },
     "execution_count": 64,
     "metadata": {},
     "output_type": "execute_result"
    }
   ],
   "source": [
    "sub_universes = universe_analysis.generate_sub_universes()\n",
    "len(sub_universes)"
   ]
  },
  {
   "cell_type": "code",
   "execution_count": 65,
   "id": "92adf7ba",
   "metadata": {
    "execution": {
     "iopub.execute_input": "2025-08-05T15:22:37.079024Z",
     "iopub.status.busy": "2025-08-05T15:22:37.078233Z",
     "iopub.status.idle": "2025-08-05T15:22:37.106855Z",
     "shell.execute_reply": "2025-08-05T15:22:37.106138Z"
    },
    "papermill": {
     "duration": 0.043498,
     "end_time": "2025-08-05T15:22:37.108225",
     "exception": false,
     "start_time": "2025-08-05T15:22:37.064727",
     "status": "completed"
    },
    "tags": []
   },
   "outputs": [],
   "source": [
    "def filter_sub_universe_data(sub_universe, org_test):\n",
    "    # Keep all rows — no filtering\n",
    "    keep_rows_mask = np.ones(org_test.shape[0], dtype=bool)\n",
    "\n",
    "    print(f\"[INFO] Keeping all rows: {keep_rows_mask.sum()} rows retained.\")\n",
    "    return keep_rows_mask"
   ]
  },
  {
   "cell_type": "code",
   "execution_count": 66,
   "id": "4a759155",
   "metadata": {
    "execution": {
     "iopub.execute_input": "2025-08-05T15:22:37.136538Z",
     "iopub.status.busy": "2025-08-05T15:22:37.136050Z",
     "iopub.status.idle": "2025-08-05T15:22:43.921658Z",
     "shell.execute_reply": "2025-08-05T15:22:43.920669Z"
    },
    "papermill": {
     "duration": 6.8003,
     "end_time": "2025-08-05T15:22:43.923141",
     "exception": false,
     "start_time": "2025-08-05T15:22:37.122841",
     "status": "completed"
    },
    "tags": []
   },
   "outputs": [
    {
     "name": "stdout",
     "output_type": "stream",
     "text": [
      "Stopping execution_time clock.\n",
      "[INFO] Keeping all rows: 89710 rows retained.\n"
     ]
    },
    {
     "name": "stdout",
     "output_type": "stream",
     "text": [
      "[INFO] Keeping all rows: 89710 rows retained.\n"
     ]
    },
    {
     "name": "stdout",
     "output_type": "stream",
     "text": [
      "[INFO] Keeping all rows: 89710 rows retained.\n"
     ]
    },
    {
     "name": "stdout",
     "output_type": "stream",
     "text": [
      "[INFO] Keeping all rows: 89710 rows retained.\n"
     ]
    },
    {
     "data": {
      "text/html": [
       "<div>\n",
       "<style scoped>\n",
       "    .dataframe tbody tr th:only-of-type {\n",
       "        vertical-align: middle;\n",
       "    }\n",
       "\n",
       "    .dataframe tbody tr th {\n",
       "        vertical-align: top;\n",
       "    }\n",
       "\n",
       "    .dataframe thead th {\n",
       "        text-align: right;\n",
       "    }\n",
       "</style>\n",
       "<table border=\"1\" class=\"dataframe\">\n",
       "  <thead>\n",
       "    <tr style=\"text-align: right;\">\n",
       "      <th></th>\n",
       "      <th>run_no</th>\n",
       "      <th>universe_id</th>\n",
       "      <th>universe_settings</th>\n",
       "      <th>execution_time</th>\n",
       "      <th>test_size_n</th>\n",
       "      <th>test_size_frac</th>\n",
       "      <th>fair_main_equalized_odds_difference</th>\n",
       "      <th>fair_main_equalized_odds_ratio</th>\n",
       "      <th>fair_main_demographic_parity_difference</th>\n",
       "      <th>fair_main_demographic_parity_ratio</th>\n",
       "      <th>...</th>\n",
       "      <th>perf_grp_precision_0</th>\n",
       "      <th>perf_grp_precision_1</th>\n",
       "      <th>perf_grp_false positive rate_0</th>\n",
       "      <th>perf_grp_false positive rate_1</th>\n",
       "      <th>perf_grp_false negative rate_0</th>\n",
       "      <th>perf_grp_false negative rate_1</th>\n",
       "      <th>perf_grp_selection rate_0</th>\n",
       "      <th>perf_grp_selection rate_1</th>\n",
       "      <th>perf_grp_count_0</th>\n",
       "      <th>perf_grp_count_1</th>\n",
       "    </tr>\n",
       "  </thead>\n",
       "  <tbody>\n",
       "    <tr>\n",
       "      <th>0</th>\n",
       "      <td>15</td>\n",
       "      <td>e3246177ef156a09b762b7e1b5fd95eb</td>\n",
       "      <td>{\"cutoff\": \"quantile_0.1\", \"eval_fairness_grou...</td>\n",
       "      <td>23.928613</td>\n",
       "      <td>89710</td>\n",
       "      <td>1.0</td>\n",
       "      <td>0.072975</td>\n",
       "      <td>0.922658</td>\n",
       "      <td>0.062827</td>\n",
       "      <td>0.933758</td>\n",
       "      <td>...</td>\n",
       "      <td>NaN</td>\n",
       "      <td>NaN</td>\n",
       "      <td>NaN</td>\n",
       "      <td>NaN</td>\n",
       "      <td>NaN</td>\n",
       "      <td>NaN</td>\n",
       "      <td>NaN</td>\n",
       "      <td>NaN</td>\n",
       "      <td>NaN</td>\n",
       "      <td>NaN</td>\n",
       "    </tr>\n",
       "    <tr>\n",
       "      <th>0</th>\n",
       "      <td>15</td>\n",
       "      <td>e3246177ef156a09b762b7e1b5fd95eb</td>\n",
       "      <td>{\"cutoff\": \"quantile_0.1\", \"eval_fairness_grou...</td>\n",
       "      <td>23.928613</td>\n",
       "      <td>89710</td>\n",
       "      <td>1.0</td>\n",
       "      <td>0.072975</td>\n",
       "      <td>0.922658</td>\n",
       "      <td>0.062827</td>\n",
       "      <td>0.933758</td>\n",
       "      <td>...</td>\n",
       "      <td>0.11986</td>\n",
       "      <td>0.146887</td>\n",
       "      <td>0.943540</td>\n",
       "      <td>0.870565</td>\n",
       "      <td>0.013936</td>\n",
       "      <td>0.015536</td>\n",
       "      <td>0.948442</td>\n",
       "      <td>0.885615</td>\n",
       "      <td>20540.0</td>\n",
       "      <td>69170.0</td>\n",
       "    </tr>\n",
       "    <tr>\n",
       "      <th>0</th>\n",
       "      <td>15</td>\n",
       "      <td>e3246177ef156a09b762b7e1b5fd95eb</td>\n",
       "      <td>{\"cutoff\": \"quantile_0.25\", \"eval_fairness_gro...</td>\n",
       "      <td>23.928613</td>\n",
       "      <td>89710</td>\n",
       "      <td>1.0</td>\n",
       "      <td>0.147067</td>\n",
       "      <td>0.823958</td>\n",
       "      <td>0.127492</td>\n",
       "      <td>0.849708</td>\n",
       "      <td>...</td>\n",
       "      <td>NaN</td>\n",
       "      <td>NaN</td>\n",
       "      <td>NaN</td>\n",
       "      <td>NaN</td>\n",
       "      <td>NaN</td>\n",
       "      <td>NaN</td>\n",
       "      <td>NaN</td>\n",
       "      <td>NaN</td>\n",
       "      <td>NaN</td>\n",
       "      <td>NaN</td>\n",
       "    </tr>\n",
       "    <tr>\n",
       "      <th>0</th>\n",
       "      <td>15</td>\n",
       "      <td>e3246177ef156a09b762b7e1b5fd95eb</td>\n",
       "      <td>{\"cutoff\": \"quantile_0.25\", \"eval_fairness_gro...</td>\n",
       "      <td>23.928613</td>\n",
       "      <td>89710</td>\n",
       "      <td>1.0</td>\n",
       "      <td>0.147067</td>\n",
       "      <td>0.823958</td>\n",
       "      <td>0.127492</td>\n",
       "      <td>0.849708</td>\n",
       "      <td>...</td>\n",
       "      <td>0.12873</td>\n",
       "      <td>0.171226</td>\n",
       "      <td>0.835406</td>\n",
       "      <td>0.688339</td>\n",
       "      <td>0.052787</td>\n",
       "      <td>0.065974</td>\n",
       "      <td>0.848296</td>\n",
       "      <td>0.720804</td>\n",
       "      <td>20540.0</td>\n",
       "      <td>69170.0</td>\n",
       "    </tr>\n",
       "  </tbody>\n",
       "</table>\n",
       "<p>4 rows × 50 columns</p>\n",
       "</div>"
      ],
      "text/plain": [
       "  run_no                       universe_id  \\\n",
       "0     15  e3246177ef156a09b762b7e1b5fd95eb   \n",
       "0     15  e3246177ef156a09b762b7e1b5fd95eb   \n",
       "0     15  e3246177ef156a09b762b7e1b5fd95eb   \n",
       "0     15  e3246177ef156a09b762b7e1b5fd95eb   \n",
       "\n",
       "                                   universe_settings  execution_time  \\\n",
       "0  {\"cutoff\": \"quantile_0.1\", \"eval_fairness_grou...       23.928613   \n",
       "0  {\"cutoff\": \"quantile_0.1\", \"eval_fairness_grou...       23.928613   \n",
       "0  {\"cutoff\": \"quantile_0.25\", \"eval_fairness_gro...       23.928613   \n",
       "0  {\"cutoff\": \"quantile_0.25\", \"eval_fairness_gro...       23.928613   \n",
       "\n",
       "   test_size_n  test_size_frac  fair_main_equalized_odds_difference  \\\n",
       "0        89710             1.0                             0.072975   \n",
       "0        89710             1.0                             0.072975   \n",
       "0        89710             1.0                             0.147067   \n",
       "0        89710             1.0                             0.147067   \n",
       "\n",
       "   fair_main_equalized_odds_ratio  fair_main_demographic_parity_difference  \\\n",
       "0                        0.922658                                 0.062827   \n",
       "0                        0.922658                                 0.062827   \n",
       "0                        0.823958                                 0.127492   \n",
       "0                        0.823958                                 0.127492   \n",
       "\n",
       "   fair_main_demographic_parity_ratio  ...  perf_grp_precision_0  \\\n",
       "0                            0.933758  ...                   NaN   \n",
       "0                            0.933758  ...               0.11986   \n",
       "0                            0.849708  ...                   NaN   \n",
       "0                            0.849708  ...               0.12873   \n",
       "\n",
       "   perf_grp_precision_1  perf_grp_false positive rate_0  \\\n",
       "0                   NaN                             NaN   \n",
       "0              0.146887                        0.943540   \n",
       "0                   NaN                             NaN   \n",
       "0              0.171226                        0.835406   \n",
       "\n",
       "   perf_grp_false positive rate_1  perf_grp_false negative rate_0  \\\n",
       "0                             NaN                             NaN   \n",
       "0                        0.870565                        0.013936   \n",
       "0                             NaN                             NaN   \n",
       "0                        0.688339                        0.052787   \n",
       "\n",
       "   perf_grp_false negative rate_1  perf_grp_selection rate_0  \\\n",
       "0                             NaN                        NaN   \n",
       "0                        0.015536                   0.948442   \n",
       "0                             NaN                        NaN   \n",
       "0                        0.065974                   0.848296   \n",
       "\n",
       "   perf_grp_selection rate_1  perf_grp_count_0  perf_grp_count_1  \n",
       "0                        NaN               NaN               NaN  \n",
       "0                   0.885615           20540.0           69170.0  \n",
       "0                        NaN               NaN               NaN  \n",
       "0                   0.720804           20540.0           69170.0  \n",
       "\n",
       "[4 rows x 50 columns]"
      ]
     },
     "execution_count": 66,
     "metadata": {},
     "output_type": "execute_result"
    }
   ],
   "source": [
    "final_output = universe_analysis.generate_final_output(\n",
    "    y_pred_prob=probs_test,\n",
    "    y_test=y_true,\n",
    "    org_test=org_test,\n",
    "    filter_data=filter_sub_universe_data,\n",
    "    cp_metrics_df=cp_metrics_df,\n",
    "    save=True,\n",
    ")\n",
    "final_output"
   ]
  }
 ],
 "metadata": {
  "celltoolbar": "Tags",
  "kernelspec": {
   "display_name": "Python (CMA Fairness)",
   "language": "python",
   "name": "cma_fair_env"
  },
  "language_info": {
   "codemirror_mode": {
    "name": "ipython",
    "version": 3
   },
   "file_extension": ".py",
   "mimetype": "text/x-python",
   "name": "python",
   "nbconvert_exporter": "python",
   "pygments_lexer": "ipython3",
   "version": "3.10.12"
  },
  "papermill": {
   "default_parameters": {},
   "duration": 34.814521,
   "end_time": "2025-08-05T15:22:44.561160",
   "environment_variables": {},
   "exception": null,
   "input_path": "universe_analysis.ipynb",
   "output_path": "output/runs/15/notebooks/m_15-e3246177ef156a09b762b7e1b5fd95eb.ipynb",
   "parameters": {
    "output_dir": "output",
    "run_no": "15",
    "seed": "2023",
    "universe": "{\"cutoff\": [\"quantile_0.1\", \"quantile_0.25\"], \"eval_fairness_grouping\": [\"majority-minority\", \"nationality-all\"], \"exclude_features\": \"nationality-sex\", \"exclude_subgroups\": \"keep-all\", \"model\": \"penalized_logreg\", \"scale\": \"scale\", \"training_size\": \"5k\", \"training_year\": \"2014\"}",
    "universe_id": "e3246177ef156a09b762b7e1b5fd95eb"
   },
   "start_time": "2025-08-05T15:22:09.746639",
   "version": "2.6.0"
  }
 },
 "nbformat": 4,
 "nbformat_minor": 5
}