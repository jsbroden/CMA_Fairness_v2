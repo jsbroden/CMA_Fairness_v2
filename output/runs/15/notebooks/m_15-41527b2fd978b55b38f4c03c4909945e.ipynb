{
 "cells": [
  {
   "cell_type": "code",
   "execution_count": 1,
   "id": "f159f837-637b-42ba-96b5-ec9a68c44524",
   "metadata": {
    "execution": {
     "iopub.execute_input": "2025-08-05T15:01:33.081909Z",
     "iopub.status.busy": "2025-08-05T15:01:33.081510Z",
     "iopub.status.idle": "2025-08-05T15:01:33.091475Z",
     "shell.execute_reply": "2025-08-05T15:01:33.090637Z"
    },
    "papermill": {
     "duration": 0.020926,
     "end_time": "2025-08-05T15:01:33.092791",
     "exception": false,
     "start_time": "2025-08-05T15:01:33.071865",
     "status": "completed"
    },
    "tags": []
   },
   "outputs": [
    {
     "name": "stdout",
     "output_type": "stream",
     "text": [
      "/dss/dsshome1/0C/ra93lal2/cma/CMA_Fairness_v2\n"
     ]
    },
    {
     "name": "stderr",
     "output_type": "stream",
     "text": [
      "/dss/dsshome1/0C/ra93lal2/.local/share/virtualenvs/CMA_Fairness_v2-3j10GkSs/lib/python3.10/site-packages/IPython/core/magics/osm.py:393: UserWarning: This is now an optional IPython functionality, using bookmarks requires you to install the `pickleshare` library.\n",
      "  bkms = self.shell.db.get('bookmarks', {})\n",
      "/dss/dsshome1/0C/ra93lal2/.local/share/virtualenvs/CMA_Fairness_v2-3j10GkSs/lib/python3.10/site-packages/IPython/core/magics/osm.py:417: UserWarning: This is now an optional IPython functionality, setting dhist requires you to install the `pickleshare` library.\n",
      "  self.shell.db['dhist'] = compress_dhist(dhist)[-100:]\n"
     ]
    }
   ],
   "source": [
    "%cd ~/cma/CMA_Fairness_v2"
   ]
  },
  {
   "cell_type": "markdown",
   "id": "de2603b9",
   "metadata": {
    "papermill": {
     "duration": 0.007987,
     "end_time": "2025-08-05T15:01:33.109352",
     "exception": false,
     "start_time": "2025-08-05T15:01:33.101365",
     "status": "completed"
    },
    "tags": []
   },
   "source": [
    "The following cell holds the definition of our parameters, these values can be overriden by rendering the with e.g. the following command:\n",
    "\n",
    "papermill -p alpha 0.2 -p ratio 0.3 universe_analysis.ipynb output/test_run.ipynb"
   ]
  },
  {
   "cell_type": "code",
   "execution_count": 2,
   "id": "a80968a0-40bb-4fa9-85ef-2d5eefb01975",
   "metadata": {
    "execution": {
     "iopub.execute_input": "2025-08-05T15:01:33.126864Z",
     "iopub.status.busy": "2025-08-05T15:01:33.126121Z",
     "iopub.status.idle": "2025-08-05T15:01:33.130894Z",
     "shell.execute_reply": "2025-08-05T15:01:33.130048Z"
    },
    "papermill": {
     "duration": 0.01476,
     "end_time": "2025-08-05T15:01:33.132200",
     "exception": false,
     "start_time": "2025-08-05T15:01:33.117440",
     "status": "completed"
    },
    "tags": []
   },
   "outputs": [
    {
     "name": "stdout",
     "output_type": "stream",
     "text": [
      "Current working directory: /dss/dsshome1/0C/ra93lal2/cma/CMA_Fairness_v2\n"
     ]
    }
   ],
   "source": [
    "import os\n",
    "print(\"Current working directory:\", os.getcwd())"
   ]
  },
  {
   "cell_type": "code",
   "execution_count": 3,
   "id": "2dce4c03",
   "metadata": {
    "execution": {
     "iopub.execute_input": "2025-08-05T15:01:33.150465Z",
     "iopub.status.busy": "2025-08-05T15:01:33.150000Z",
     "iopub.status.idle": "2025-08-05T15:01:33.154539Z",
     "shell.execute_reply": "2025-08-05T15:01:33.153753Z"
    },
    "papermill": {
     "duration": 0.014869,
     "end_time": "2025-08-05T15:01:33.156001",
     "exception": false,
     "start_time": "2025-08-05T15:01:33.141132",
     "status": "completed"
    },
    "tags": [
     "parameters"
    ]
   },
   "outputs": [],
   "source": [
    "run_no = 0\n",
    "universe_id = \"test\"\n",
    "universe = {\n",
    "    \"training_size\": \"25k\", # \"25k\", \"5k\", \"1k\"\n",
    "    \"training_year\": \"2014\", # \"2014\", \"2012_14\", \"2010_14\"\n",
    "    \"scale\": \"scale\", # \"scale\", \"do-not-scale\",\n",
    "    \"model\": \"elasticnet\", # \"logreg\", \"penalized_logreg\", \"rf\", \"gbm\", \"elasticnet\"\n",
    "    \"cutoff\": [\"quantile_0.15\", \"quantile_0.30\"],\n",
    "    \"exclude_features\": \"age\", # \"none\", \"nationality\", \"sex\", \"nationality-sex\", \"age\"\n",
    "    \"exclude_subgroups\": \"keep-all\", # \"keep-all\", \"drop-non-german\"\n",
    "    \"eval_fairness_grouping\": [\"majority-minority\", \"nationality-all\"]\n",
    "}\n",
    "\n",
    "output_dir=\"./output\"\n",
    "seed=0"
   ]
  },
  {
   "cell_type": "code",
   "execution_count": 4,
   "id": "3733c1ab",
   "metadata": {
    "execution": {
     "iopub.execute_input": "2025-08-05T15:01:33.173983Z",
     "iopub.status.busy": "2025-08-05T15:01:33.173510Z",
     "iopub.status.idle": "2025-08-05T15:01:33.177622Z",
     "shell.execute_reply": "2025-08-05T15:01:33.176814Z"
    },
    "papermill": {
     "duration": 0.01423,
     "end_time": "2025-08-05T15:01:33.179053",
     "exception": false,
     "start_time": "2025-08-05T15:01:33.164823",
     "status": "completed"
    },
    "tags": [
     "injected-parameters"
    ]
   },
   "outputs": [],
   "source": [
    "# Parameters\n",
    "universe_id = \"41527b2fd978b55b38f4c03c4909945e\"\n",
    "run_no = \"15\"\n",
    "universe = \"{\\\"cutoff\\\": [\\\"quantile_0.1\\\", \\\"quantile_0.25\\\"], \\\"eval_fairness_grouping\\\": [\\\"majority-minority\\\", \\\"nationality-all\\\"], \\\"exclude_features\\\": \\\"nationality-sex\\\", \\\"exclude_subgroups\\\": \\\"drop-non-german\\\", \\\"model\\\": \\\"gbm\\\", \\\"scale\\\": \\\"do-not-scale\\\", \\\"training_size\\\": \\\"25k\\\", \\\"training_year\\\": \\\"2012_14\\\"}\"\n",
    "output_dir = \"output\"\n",
    "seed = \"2023\"\n"
   ]
  },
  {
   "cell_type": "code",
   "execution_count": 5,
   "id": "1650acaf",
   "metadata": {
    "execution": {
     "iopub.execute_input": "2025-08-05T15:01:33.197440Z",
     "iopub.status.busy": "2025-08-05T15:01:33.196980Z",
     "iopub.status.idle": "2025-08-05T15:01:33.200663Z",
     "shell.execute_reply": "2025-08-05T15:01:33.199970Z"
    },
    "papermill": {
     "duration": 0.014107,
     "end_time": "2025-08-05T15:01:33.202165",
     "exception": false,
     "start_time": "2025-08-05T15:01:33.188058",
     "status": "completed"
    },
    "tags": []
   },
   "outputs": [],
   "source": [
    "import json\n",
    "if isinstance(universe, str):\n",
    "    universe = json.loads(universe)"
   ]
  },
  {
   "cell_type": "code",
   "execution_count": 6,
   "id": "16620c48",
   "metadata": {
    "execution": {
     "iopub.execute_input": "2025-08-05T15:01:33.220684Z",
     "iopub.status.busy": "2025-08-05T15:01:33.220116Z",
     "iopub.status.idle": "2025-08-05T15:01:33.261672Z",
     "shell.execute_reply": "2025-08-05T15:01:33.260776Z"
    },
    "papermill": {
     "duration": 0.052265,
     "end_time": "2025-08-05T15:01:33.263452",
     "exception": false,
     "start_time": "2025-08-05T15:01:33.211187",
     "status": "completed"
    },
    "tags": []
   },
   "outputs": [],
   "source": [
    "# Auto-reload the custom package\n",
    "%load_ext autoreload\n",
    "%autoreload 1\n",
    "%aimport fairness_multiverse"
   ]
  },
  {
   "cell_type": "code",
   "execution_count": 7,
   "id": "01c5c9f3",
   "metadata": {
    "execution": {
     "iopub.execute_input": "2025-08-05T15:01:33.302170Z",
     "iopub.status.busy": "2025-08-05T15:01:33.301829Z",
     "iopub.status.idle": "2025-08-05T15:01:34.609754Z",
     "shell.execute_reply": "2025-08-05T15:01:34.608630Z"
    },
    "papermill": {
     "duration": 1.328953,
     "end_time": "2025-08-05T15:01:34.611418",
     "exception": false,
     "start_time": "2025-08-05T15:01:33.282465",
     "status": "completed"
    },
    "tags": []
   },
   "outputs": [],
   "source": [
    "from fairness_multiverse.universe import UniverseAnalysis\n",
    "\n",
    "universe_analysis = UniverseAnalysis(\n",
    "    run_no = run_no,\n",
    "    universe_id = universe_id,\n",
    "    universe = universe,\n",
    "    output_dir=output_dir,\n",
    ")"
   ]
  },
  {
   "cell_type": "code",
   "execution_count": 8,
   "id": "106241f5",
   "metadata": {
    "execution": {
     "iopub.execute_input": "2025-08-05T15:01:34.631161Z",
     "iopub.status.busy": "2025-08-05T15:01:34.630492Z",
     "iopub.status.idle": "2025-08-05T15:01:34.637143Z",
     "shell.execute_reply": "2025-08-05T15:01:34.636014Z"
    },
    "papermill": {
     "duration": 0.018237,
     "end_time": "2025-08-05T15:01:34.638841",
     "exception": false,
     "start_time": "2025-08-05T15:01:34.620604",
     "status": "completed"
    },
    "tags": []
   },
   "outputs": [
    {
     "name": "stdout",
     "output_type": "stream",
     "text": [
      "Using Seed: 2023\n"
     ]
    }
   ],
   "source": [
    "import numpy as np\n",
    "parsed_seed = int(seed)\n",
    "np.random.seed(parsed_seed)\n",
    "print(f\"Using Seed: {parsed_seed}\")"
   ]
  },
  {
   "cell_type": "markdown",
   "id": "e0ebdc57",
   "metadata": {
    "papermill": {
     "duration": 0.008403,
     "end_time": "2025-08-05T15:01:34.656913",
     "exception": false,
     "start_time": "2025-08-05T15:01:34.648510",
     "status": "completed"
    },
    "tags": []
   },
   "source": [
    "# Loading Data"
   ]
  },
  {
   "cell_type": "code",
   "execution_count": 9,
   "id": "f0496b8a",
   "metadata": {
    "execution": {
     "iopub.execute_input": "2025-08-05T15:01:34.675521Z",
     "iopub.status.busy": "2025-08-05T15:01:34.674818Z",
     "iopub.status.idle": "2025-08-05T15:01:46.693795Z",
     "shell.execute_reply": "2025-08-05T15:01:46.692553Z"
    },
    "papermill": {
     "duration": 12.030171,
     "end_time": "2025-08-05T15:01:46.695479",
     "exception": false,
     "start_time": "2025-08-05T15:01:34.665308",
     "status": "completed"
    },
    "tags": []
   },
   "outputs": [
    {
     "name": "stdout",
     "output_type": "stream",
     "text": [
      "Loading SIAB data from cache: data/siab_cached.csv.gz\n"
     ]
    },
    {
     "name": "stdout",
     "output_type": "stream",
     "text": [
      "(643690, 164)\n"
     ]
    }
   ],
   "source": [
    "from pathlib import Path\n",
    "import pandas as pd\n",
    "\n",
    "# File paths\n",
    "raw_file = Path(\"data/raw/siab.csv\")\n",
    "cache_file = Path(\"data/siab_cached.csv.gz\")\n",
    "\n",
    "# Ensure cache directory exists\n",
    "cache_file.parent.mkdir(parents=True, exist_ok=True)\n",
    "\n",
    "# Load with simple caching\n",
    "if cache_file.exists():\n",
    "    print(f\"Loading SIAB data from cache: {cache_file}\")\n",
    "    siab = pd.read_csv(cache_file, compression='gzip')\n",
    "else:\n",
    "    print(f\"Cache not found. Reading raw SIAB data: {raw_file}\")\n",
    "    siab = pd.read_csv(raw_file)\n",
    "    siab.to_csv(cache_file, index=False, compression='gzip')\n",
    "    print(f\"Cached SIAB data to: {cache_file}\")\n",
    "\n",
    "print(siab.shape)"
   ]
  },
  {
   "cell_type": "code",
   "execution_count": 10,
   "id": "db0ca512-5f53-4dba-abdb-a2888bca41ba",
   "metadata": {
    "execution": {
     "iopub.execute_input": "2025-08-05T15:01:46.737950Z",
     "iopub.status.busy": "2025-08-05T15:01:46.737398Z",
     "iopub.status.idle": "2025-08-05T15:01:46.743251Z",
     "shell.execute_reply": "2025-08-05T15:01:46.742280Z"
    },
    "papermill": {
     "duration": 0.027976,
     "end_time": "2025-08-05T15:01:46.745321",
     "exception": false,
     "start_time": "2025-08-05T15:01:46.717345",
     "status": "completed"
    },
    "tags": []
   },
   "outputs": [],
   "source": [
    "#siab"
   ]
  },
  {
   "cell_type": "markdown",
   "id": "997051c5-15bd-4b69-9786-c3001a3ce484",
   "metadata": {
    "papermill": {
     "duration": 0.018829,
     "end_time": "2025-08-05T15:01:46.783831",
     "exception": false,
     "start_time": "2025-08-05T15:01:46.765002",
     "status": "completed"
    },
    "tags": []
   },
   "source": [
    "# Splitting Data and Setting Training Data Size"
   ]
  },
  {
   "cell_type": "code",
   "execution_count": 11,
   "id": "aea9c6ef-6f46-42c8-85eb-5a62025c1508",
   "metadata": {
    "execution": {
     "iopub.execute_input": "2025-08-05T15:01:46.823261Z",
     "iopub.status.busy": "2025-08-05T15:01:46.822566Z",
     "iopub.status.idle": "2025-08-05T15:01:47.492825Z",
     "shell.execute_reply": "2025-08-05T15:01:47.491873Z"
    },
    "papermill": {
     "duration": 0.692215,
     "end_time": "2025-08-05T15:01:47.494927",
     "exception": false,
     "start_time": "2025-08-05T15:01:46.802712",
     "status": "completed"
    },
    "tags": []
   },
   "outputs": [],
   "source": [
    "from fairness_multiverse.universe import sample_by_year_size\n",
    "\n",
    "siab_train = sample_by_year_size(siab,\n",
    "                               training_year=universe[\"training_year\"],\n",
    "                               training_size=universe[\"training_size\"])"
   ]
  },
  {
   "cell_type": "code",
   "execution_count": 12,
   "id": "8d3afb32-789d-442c-8d5d-9f5aa8dd2eed",
   "metadata": {
    "execution": {
     "iopub.execute_input": "2025-08-05T15:01:47.537803Z",
     "iopub.status.busy": "2025-08-05T15:01:47.537136Z",
     "iopub.status.idle": "2025-08-05T15:01:47.541994Z",
     "shell.execute_reply": "2025-08-05T15:01:47.541035Z"
    },
    "papermill": {
     "duration": 0.027085,
     "end_time": "2025-08-05T15:01:47.544074",
     "exception": false,
     "start_time": "2025-08-05T15:01:47.516989",
     "status": "completed"
    },
    "tags": []
   },
   "outputs": [],
   "source": [
    "#siab_train.shape"
   ]
  },
  {
   "cell_type": "code",
   "execution_count": 13,
   "id": "d582db68-1a4c-47fb-84fc-08518dc1975a",
   "metadata": {
    "execution": {
     "iopub.execute_input": "2025-08-05T15:01:47.583615Z",
     "iopub.status.busy": "2025-08-05T15:01:47.583202Z",
     "iopub.status.idle": "2025-08-05T15:01:47.588386Z",
     "shell.execute_reply": "2025-08-05T15:01:47.587357Z"
    },
    "papermill": {
     "duration": 0.026749,
     "end_time": "2025-08-05T15:01:47.590284",
     "exception": false,
     "start_time": "2025-08-05T15:01:47.563535",
     "status": "completed"
    },
    "tags": []
   },
   "outputs": [],
   "source": [
    "#display(siab_train.groupby(\"year\").size())"
   ]
  },
  {
   "cell_type": "code",
   "execution_count": 14,
   "id": "a561edb4-d032-42cb-8256-22eac1111c64",
   "metadata": {
    "execution": {
     "iopub.execute_input": "2025-08-05T15:01:47.631138Z",
     "iopub.status.busy": "2025-08-05T15:01:47.630338Z",
     "iopub.status.idle": "2025-08-05T15:01:47.873082Z",
     "shell.execute_reply": "2025-08-05T15:01:47.872021Z"
    },
    "papermill": {
     "duration": 0.265306,
     "end_time": "2025-08-05T15:01:47.875204",
     "exception": false,
     "start_time": "2025-08-05T15:01:47.609898",
     "status": "completed"
    },
    "tags": []
   },
   "outputs": [],
   "source": [
    "#siab_train = siab_s[siab_s.year < 2015]\n",
    "siab_calib = siab[siab.year == 2015]\n",
    "siab_test = siab[siab.year == 2016]"
   ]
  },
  {
   "cell_type": "code",
   "execution_count": 15,
   "id": "472de16f-c3db-4916-846b-1f0de9cf1746",
   "metadata": {
    "execution": {
     "iopub.execute_input": "2025-08-05T15:01:47.914965Z",
     "iopub.status.busy": "2025-08-05T15:01:47.914553Z",
     "iopub.status.idle": "2025-08-05T15:01:47.940306Z",
     "shell.execute_reply": "2025-08-05T15:01:47.939250Z"
    },
    "papermill": {
     "duration": 0.045403,
     "end_time": "2025-08-05T15:01:47.942399",
     "exception": false,
     "start_time": "2025-08-05T15:01:47.896996",
     "status": "completed"
    },
    "tags": []
   },
   "outputs": [],
   "source": [
    "X_train = siab_train.iloc[:,4:164]\n",
    "y_train = siab_train.iloc[:, [3]]"
   ]
  },
  {
   "cell_type": "code",
   "execution_count": 16,
   "id": "828c96af-f43a-4ed6-ba47-8ac73a47d56c",
   "metadata": {
    "execution": {
     "iopub.execute_input": "2025-08-05T15:01:47.979135Z",
     "iopub.status.busy": "2025-08-05T15:01:47.978717Z",
     "iopub.status.idle": "2025-08-05T15:01:48.033137Z",
     "shell.execute_reply": "2025-08-05T15:01:48.032250Z"
    },
    "papermill": {
     "duration": 0.073838,
     "end_time": "2025-08-05T15:01:48.034640",
     "exception": false,
     "start_time": "2025-08-05T15:01:47.960802",
     "status": "completed"
    },
    "tags": []
   },
   "outputs": [],
   "source": [
    "X_calib = siab_calib.iloc[:,4:164]\n",
    "y_calib = siab_calib.iloc[:, [3]]"
   ]
  },
  {
   "cell_type": "code",
   "execution_count": 17,
   "id": "c34be9c3-6bd6-476e-acd3-845840e303be",
   "metadata": {
    "execution": {
     "iopub.execute_input": "2025-08-05T15:01:48.071140Z",
     "iopub.status.busy": "2025-08-05T15:01:48.070217Z",
     "iopub.status.idle": "2025-08-05T15:01:48.127994Z",
     "shell.execute_reply": "2025-08-05T15:01:48.126757Z"
    },
    "papermill": {
     "duration": 0.077618,
     "end_time": "2025-08-05T15:01:48.130003",
     "exception": false,
     "start_time": "2025-08-05T15:01:48.052385",
     "status": "completed"
    },
    "tags": []
   },
   "outputs": [],
   "source": [
    "X_test = siab_test.iloc[:,4:164]\n",
    "y_true = siab_test.iloc[:, [3]]"
   ]
  },
  {
   "cell_type": "code",
   "execution_count": 18,
   "id": "e6c733c5",
   "metadata": {
    "execution": {
     "iopub.execute_input": "2025-08-05T15:01:48.165362Z",
     "iopub.status.busy": "2025-08-05T15:01:48.164873Z",
     "iopub.status.idle": "2025-08-05T15:01:48.266021Z",
     "shell.execute_reply": "2025-08-05T15:01:48.265006Z"
    },
    "papermill": {
     "duration": 0.120716,
     "end_time": "2025-08-05T15:01:48.268157",
     "exception": false,
     "start_time": "2025-08-05T15:01:48.147441",
     "status": "completed"
    },
    "tags": []
   },
   "outputs": [],
   "source": [
    "# Auxiliary data needed downstream in the pipeline\n",
    "\n",
    "org_train = X_train.copy()\n",
    "org_test = X_test.copy()\n",
    "org_calib = X_calib.copy()"
   ]
  },
  {
   "cell_type": "markdown",
   "id": "0a4a1b33",
   "metadata": {
    "papermill": {
     "duration": 0.019905,
     "end_time": "2025-08-05T15:01:48.308566",
     "exception": false,
     "start_time": "2025-08-05T15:01:48.288661",
     "status": "completed"
    },
    "tags": []
   },
   "source": [
    "# Preprocessing Data"
   ]
  },
  {
   "cell_type": "code",
   "execution_count": 19,
   "id": "ca879031",
   "metadata": {
    "execution": {
     "iopub.execute_input": "2025-08-05T15:01:48.349869Z",
     "iopub.status.busy": "2025-08-05T15:01:48.348936Z",
     "iopub.status.idle": "2025-08-05T15:01:48.355167Z",
     "shell.execute_reply": "2025-08-05T15:01:48.354276Z"
    },
    "papermill": {
     "duration": 0.028836,
     "end_time": "2025-08-05T15:01:48.357191",
     "exception": false,
     "start_time": "2025-08-05T15:01:48.328355",
     "status": "completed"
    },
    "tags": []
   },
   "outputs": [],
   "source": [
    "# EXCLUDE PROTECTED FEATURES\n",
    "# ----------------------\n",
    "# \"exclude_features\": \"none\", # \"nationality\", \"sex\", \"nationality-sex\"\n",
    "\n",
    "excluded_features = universe[\"exclude_features\"].split(\"-\") # split, e.g.: \"nationality-sex\" -> [\"nationality\", \"sex\"]\n",
    "excluded_features_dictionary = {\n",
    "    \"nationality\": [\"maxdeutsch1\", \"maxdeutsch.Missing.\"],\n",
    "    \"sex\": [\"frau1\"],\n",
    "    \"age\": [\"age\"],\n",
    "}"
   ]
  },
  {
   "cell_type": "code",
   "execution_count": 20,
   "id": "b745ac60",
   "metadata": {
    "execution": {
     "iopub.execute_input": "2025-08-05T15:01:48.397384Z",
     "iopub.status.busy": "2025-08-05T15:01:48.397069Z",
     "iopub.status.idle": "2025-08-05T15:01:48.402453Z",
     "shell.execute_reply": "2025-08-05T15:01:48.401364Z"
    },
    "papermill": {
     "duration": 0.027278,
     "end_time": "2025-08-05T15:01:48.404127",
     "exception": false,
     "start_time": "2025-08-05T15:01:48.376849",
     "status": "completed"
    },
    "tags": []
   },
   "outputs": [],
   "source": [
    "# Code nice names to column names\n",
    "\n",
    "excluded_features_columns = [\n",
    "    excluded_features_dictionary[f] for f in excluded_features if len(f) > 0 and f != \"none\"\n",
    "]"
   ]
  },
  {
   "cell_type": "code",
   "execution_count": 21,
   "id": "f84f73a2",
   "metadata": {
    "execution": {
     "iopub.execute_input": "2025-08-05T15:01:48.446869Z",
     "iopub.status.busy": "2025-08-05T15:01:48.446486Z",
     "iopub.status.idle": "2025-08-05T15:01:48.452900Z",
     "shell.execute_reply": "2025-08-05T15:01:48.451917Z"
    },
    "papermill": {
     "duration": 0.030043,
     "end_time": "2025-08-05T15:01:48.454570",
     "exception": false,
     "start_time": "2025-08-05T15:01:48.424527",
     "status": "completed"
    },
    "tags": []
   },
   "outputs": [],
   "source": [
    "from utils import flatten_once\n",
    "\n",
    "excluded_features_columns = flatten_once(excluded_features_columns)"
   ]
  },
  {
   "cell_type": "code",
   "execution_count": 22,
   "id": "884dea22",
   "metadata": {
    "execution": {
     "iopub.execute_input": "2025-08-05T15:01:48.496081Z",
     "iopub.status.busy": "2025-08-05T15:01:48.495490Z",
     "iopub.status.idle": "2025-08-05T15:01:48.514138Z",
     "shell.execute_reply": "2025-08-05T15:01:48.512738Z"
    },
    "papermill": {
     "duration": 0.040982,
     "end_time": "2025-08-05T15:01:48.516175",
     "exception": false,
     "start_time": "2025-08-05T15:01:48.475193",
     "status": "completed"
    },
    "tags": []
   },
   "outputs": [
    {
     "name": "stdout",
     "output_type": "stream",
     "text": [
      "Dropping features: ['maxdeutsch1', 'maxdeutsch.Missing.', 'frau1']\n"
     ]
    }
   ],
   "source": [
    "if len(excluded_features_columns) > 0:\n",
    "    print(f\"Dropping features: {excluded_features_columns}\")\n",
    "    X_train.drop(excluded_features_columns, axis=1, inplace=True)"
   ]
  },
  {
   "cell_type": "code",
   "execution_count": 23,
   "id": "95ab8b16",
   "metadata": {
    "execution": {
     "iopub.execute_input": "2025-08-05T15:01:48.560469Z",
     "iopub.status.busy": "2025-08-05T15:01:48.559300Z",
     "iopub.status.idle": "2025-08-05T15:01:48.611069Z",
     "shell.execute_reply": "2025-08-05T15:01:48.609967Z"
    },
    "papermill": {
     "duration": 0.07601,
     "end_time": "2025-08-05T15:01:48.612989",
     "exception": false,
     "start_time": "2025-08-05T15:01:48.536979",
     "status": "completed"
    },
    "tags": []
   },
   "outputs": [
    {
     "name": "stdout",
     "output_type": "stream",
     "text": [
      "Dropping features: ['maxdeutsch1', 'maxdeutsch.Missing.', 'frau1']\n"
     ]
    }
   ],
   "source": [
    "if len(excluded_features_columns) > 0:\n",
    "    print(f\"Dropping features: {excluded_features_columns}\")\n",
    "    X_test.drop(excluded_features_columns, axis=1, inplace=True)"
   ]
  },
  {
   "cell_type": "code",
   "execution_count": 24,
   "id": "1853aaf5-fb9f-46cb-a2b5-8ea4ae2237e4",
   "metadata": {
    "execution": {
     "iopub.execute_input": "2025-08-05T15:01:48.656421Z",
     "iopub.status.busy": "2025-08-05T15:01:48.655613Z",
     "iopub.status.idle": "2025-08-05T15:01:48.706856Z",
     "shell.execute_reply": "2025-08-05T15:01:48.705734Z"
    },
    "papermill": {
     "duration": 0.074242,
     "end_time": "2025-08-05T15:01:48.708682",
     "exception": false,
     "start_time": "2025-08-05T15:01:48.634440",
     "status": "completed"
    },
    "tags": []
   },
   "outputs": [
    {
     "name": "stdout",
     "output_type": "stream",
     "text": [
      "Dropping features: ['maxdeutsch1', 'maxdeutsch.Missing.', 'frau1']\n"
     ]
    }
   ],
   "source": [
    "if len(excluded_features_columns) > 0:\n",
    "    print(f\"Dropping features: {excluded_features_columns}\")\n",
    "    X_calib.drop(excluded_features_columns, axis=1, inplace=True)"
   ]
  },
  {
   "cell_type": "code",
   "execution_count": 25,
   "id": "76c4dc6d",
   "metadata": {
    "execution": {
     "iopub.execute_input": "2025-08-05T15:01:48.747693Z",
     "iopub.status.busy": "2025-08-05T15:01:48.746923Z",
     "iopub.status.idle": "2025-08-05T15:01:48.752359Z",
     "shell.execute_reply": "2025-08-05T15:01:48.751382Z"
    },
    "papermill": {
     "duration": 0.025494,
     "end_time": "2025-08-05T15:01:48.754314",
     "exception": false,
     "start_time": "2025-08-05T15:01:48.728820",
     "status": "completed"
    },
    "tags": []
   },
   "outputs": [],
   "source": [
    "# EXCLUDE CERTAIN SUBGROUPS\n",
    "# ----------------------\n",
    "\n",
    "mode = universe.get(\"exclude_subgroups\", \"keep-all\") \n",
    "# Fetches the exclude_subgroups setting from the universe dict.\n",
    "# Defaults to \"keep-all\" if the key is missing."
   ]
  },
  {
   "cell_type": "code",
   "execution_count": 26,
   "id": "21994072",
   "metadata": {
    "execution": {
     "iopub.execute_input": "2025-08-05T15:01:48.797117Z",
     "iopub.status.busy": "2025-08-05T15:01:48.796238Z",
     "iopub.status.idle": "2025-08-05T15:01:48.803418Z",
     "shell.execute_reply": "2025-08-05T15:01:48.802393Z"
    },
    "papermill": {
     "duration": 0.029975,
     "end_time": "2025-08-05T15:01:48.805327",
     "exception": false,
     "start_time": "2025-08-05T15:01:48.775352",
     "status": "completed"
    },
    "tags": []
   },
   "outputs": [],
   "source": [
    "if mode == \"keep-all\":\n",
    "    keep_mask = pd.Series(True, index=org_train.index)\n",
    "\n",
    "# org_train contains the original feature columns from features_org (in Simson)\n",
    "# features_org contains unprocessed features, for me X_train at beginning ???\n",
    "# For keep-all, creates a boolean Series (keep_mask) of all True, so no rows are removed.\n",
    "\n",
    "elif mode == \"drop-non-german\":\n",
    "    keep_mask = org_train[\"maxdeutsch1\"] == 1 # ??? what about missing values?\n",
    "\n",
    "else:\n",
    "    raise ValueError(f\"Unsupported mode for exclude_subgroups: {mode}\")"
   ]
  },
  {
   "cell_type": "code",
   "execution_count": 27,
   "id": "71651440",
   "metadata": {
    "execution": {
     "iopub.execute_input": "2025-08-05T15:01:48.848364Z",
     "iopub.status.busy": "2025-08-05T15:01:48.848041Z",
     "iopub.status.idle": "2025-08-05T15:01:48.855507Z",
     "shell.execute_reply": "2025-08-05T15:01:48.854349Z"
    },
    "papermill": {
     "duration": 0.030381,
     "end_time": "2025-08-05T15:01:48.857084",
     "exception": false,
     "start_time": "2025-08-05T15:01:48.826703",
     "status": "completed"
    },
    "tags": []
   },
   "outputs": [
    {
     "name": "stdout",
     "output_type": "stream",
     "text": [
      "Dropping 3481 rows (13.92%) where mode='drop-non-german'\n"
     ]
    }
   ],
   "source": [
    "n_drop = (~keep_mask).sum() # Calculates how many rows are set to be dropped\n",
    "if n_drop > 0:\n",
    "    pct = n_drop / len(keep_mask) * 100\n",
    "    print(f\"Dropping {n_drop} rows ({pct:.2f}%) where mode='{mode}'\")"
   ]
  },
  {
   "cell_type": "code",
   "execution_count": 28,
   "id": "5fb8eee5",
   "metadata": {
    "execution": {
     "iopub.execute_input": "2025-08-05T15:01:48.899786Z",
     "iopub.status.busy": "2025-08-05T15:01:48.898934Z",
     "iopub.status.idle": "2025-08-05T15:01:48.914770Z",
     "shell.execute_reply": "2025-08-05T15:01:48.913585Z"
    },
    "papermill": {
     "duration": 0.039454,
     "end_time": "2025-08-05T15:01:48.916899",
     "exception": false,
     "start_time": "2025-08-05T15:01:48.877445",
     "status": "completed"
    },
    "tags": []
   },
   "outputs": [],
   "source": [
    "X_train = X_train[keep_mask]"
   ]
  },
  {
   "cell_type": "code",
   "execution_count": 29,
   "id": "b202bb3a",
   "metadata": {
    "execution": {
     "iopub.execute_input": "2025-08-05T15:01:48.953374Z",
     "iopub.status.busy": "2025-08-05T15:01:48.952667Z",
     "iopub.status.idle": "2025-08-05T15:01:48.959085Z",
     "shell.execute_reply": "2025-08-05T15:01:48.958068Z"
    },
    "papermill": {
     "duration": 0.025819,
     "end_time": "2025-08-05T15:01:48.960859",
     "exception": false,
     "start_time": "2025-08-05T15:01:48.935040",
     "status": "completed"
    },
    "tags": []
   },
   "outputs": [],
   "source": [
    "y_train = y_train[keep_mask]"
   ]
  },
  {
   "cell_type": "markdown",
   "id": "493e2ac3",
   "metadata": {
    "papermill": {
     "duration": 0.017335,
     "end_time": "2025-08-05T15:01:48.997325",
     "exception": false,
     "start_time": "2025-08-05T15:01:48.979990",
     "status": "completed"
    },
    "tags": []
   },
   "source": [
    "# Model Training"
   ]
  },
  {
   "cell_type": "code",
   "execution_count": 30,
   "id": "679e1268",
   "metadata": {
    "execution": {
     "iopub.execute_input": "2025-08-05T15:01:49.033337Z",
     "iopub.status.busy": "2025-08-05T15:01:49.032747Z",
     "iopub.status.idle": "2025-08-05T15:01:49.135763Z",
     "shell.execute_reply": "2025-08-05T15:01:49.134830Z"
    },
    "papermill": {
     "duration": 0.123115,
     "end_time": "2025-08-05T15:01:49.137929",
     "exception": false,
     "start_time": "2025-08-05T15:01:49.014814",
     "status": "completed"
    },
    "tags": []
   },
   "outputs": [],
   "source": [
    "from sklearn.linear_model import LogisticRegression\n",
    "from sklearn.ensemble import GradientBoostingClassifier, RandomForestClassifier\n",
    "\n",
    "if (universe[\"model\"] == \"logreg\"):\n",
    "    model = LogisticRegression() #penalty=\"none\", solver=\"newton-cg\", max_iter=1) # include random_state=19 ?\n",
    "elif (universe[\"model\"] == \"penalized_logreg\"):\n",
    "    model = LogisticRegression(penalty=\"l2\", C=0.1) #, solver=\"newton-cg\", max_iter=1)\n",
    "elif (universe[\"model\"] == \"rf\"):\n",
    "    model = RandomForestClassifier() # n_estimators=100, n_jobs=-1\n",
    "elif (universe[\"model\"] == \"gbm\"):\n",
    "    model = GradientBoostingClassifier()\n",
    "elif (universe[\"model\"] == \"elasticnet\"):\n",
    "    model = LogisticRegression(penalty = 'elasticnet', solver = 'saga', l1_ratio = 0.5) # max_iter=5000\n",
    "else:\n",
    "    raise \"Unsupported universe.model\""
   ]
  },
  {
   "cell_type": "code",
   "execution_count": 31,
   "id": "0cc8f744",
   "metadata": {
    "execution": {
     "iopub.execute_input": "2025-08-05T15:01:49.182670Z",
     "iopub.status.busy": "2025-08-05T15:01:49.181830Z",
     "iopub.status.idle": "2025-08-05T15:01:49.188444Z",
     "shell.execute_reply": "2025-08-05T15:01:49.187570Z"
    },
    "papermill": {
     "duration": 0.030615,
     "end_time": "2025-08-05T15:01:49.190207",
     "exception": false,
     "start_time": "2025-08-05T15:01:49.159592",
     "status": "completed"
    },
    "tags": []
   },
   "outputs": [],
   "source": [
    "import numpy as np\n",
    "from sklearn.pipeline import Pipeline\n",
    "from sklearn.preprocessing import StandardScaler\n",
    "\n",
    "model = Pipeline([\n",
    "    #(\"continuous_processor\", continuous_processor),\n",
    "    #(\"categorical_preprocessor\", categorical_preprocessor),\n",
    "    (\"scale\", StandardScaler() if universe[\"scale\"] == \"scale\" else None), \n",
    "    (\"model\", model),\n",
    "])"
   ]
  },
  {
   "cell_type": "code",
   "execution_count": 32,
   "id": "9442c04d",
   "metadata": {
    "execution": {
     "iopub.execute_input": "2025-08-05T15:01:49.227160Z",
     "iopub.status.busy": "2025-08-05T15:01:49.226361Z",
     "iopub.status.idle": "2025-08-05T15:02:09.058793Z",
     "shell.execute_reply": "2025-08-05T15:02:09.057832Z"
    },
    "papermill": {
     "duration": 19.852279,
     "end_time": "2025-08-05T15:02:09.060320",
     "exception": false,
     "start_time": "2025-08-05T15:01:49.208041",
     "status": "completed"
    },
    "tags": []
   },
   "outputs": [
    {
     "data": {
      "text/html": [
       "<style>#sk-container-id-1 {color: black;background-color: white;}#sk-container-id-1 pre{padding: 0;}#sk-container-id-1 div.sk-toggleable {background-color: white;}#sk-container-id-1 label.sk-toggleable__label {cursor: pointer;display: block;width: 100%;margin-bottom: 0;padding: 0.3em;box-sizing: border-box;text-align: center;}#sk-container-id-1 label.sk-toggleable__label-arrow:before {content: \"▸\";float: left;margin-right: 0.25em;color: #696969;}#sk-container-id-1 label.sk-toggleable__label-arrow:hover:before {color: black;}#sk-container-id-1 div.sk-estimator:hover label.sk-toggleable__label-arrow:before {color: black;}#sk-container-id-1 div.sk-toggleable__content {max-height: 0;max-width: 0;overflow: hidden;text-align: left;background-color: #f0f8ff;}#sk-container-id-1 div.sk-toggleable__content pre {margin: 0.2em;color: black;border-radius: 0.25em;background-color: #f0f8ff;}#sk-container-id-1 input.sk-toggleable__control:checked~div.sk-toggleable__content {max-height: 200px;max-width: 100%;overflow: auto;}#sk-container-id-1 input.sk-toggleable__control:checked~label.sk-toggleable__label-arrow:before {content: \"▾\";}#sk-container-id-1 div.sk-estimator input.sk-toggleable__control:checked~label.sk-toggleable__label {background-color: #d4ebff;}#sk-container-id-1 div.sk-label input.sk-toggleable__control:checked~label.sk-toggleable__label {background-color: #d4ebff;}#sk-container-id-1 input.sk-hidden--visually {border: 0;clip: rect(1px 1px 1px 1px);clip: rect(1px, 1px, 1px, 1px);height: 1px;margin: -1px;overflow: hidden;padding: 0;position: absolute;width: 1px;}#sk-container-id-1 div.sk-estimator {font-family: monospace;background-color: #f0f8ff;border: 1px dotted black;border-radius: 0.25em;box-sizing: border-box;margin-bottom: 0.5em;}#sk-container-id-1 div.sk-estimator:hover {background-color: #d4ebff;}#sk-container-id-1 div.sk-parallel-item::after {content: \"\";width: 100%;border-bottom: 1px solid gray;flex-grow: 1;}#sk-container-id-1 div.sk-label:hover label.sk-toggleable__label {background-color: #d4ebff;}#sk-container-id-1 div.sk-serial::before {content: \"\";position: absolute;border-left: 1px solid gray;box-sizing: border-box;top: 0;bottom: 0;left: 50%;z-index: 0;}#sk-container-id-1 div.sk-serial {display: flex;flex-direction: column;align-items: center;background-color: white;padding-right: 0.2em;padding-left: 0.2em;position: relative;}#sk-container-id-1 div.sk-item {position: relative;z-index: 1;}#sk-container-id-1 div.sk-parallel {display: flex;align-items: stretch;justify-content: center;background-color: white;position: relative;}#sk-container-id-1 div.sk-item::before, #sk-container-id-1 div.sk-parallel-item::before {content: \"\";position: absolute;border-left: 1px solid gray;box-sizing: border-box;top: 0;bottom: 0;left: 50%;z-index: -1;}#sk-container-id-1 div.sk-parallel-item {display: flex;flex-direction: column;z-index: 1;position: relative;background-color: white;}#sk-container-id-1 div.sk-parallel-item:first-child::after {align-self: flex-end;width: 50%;}#sk-container-id-1 div.sk-parallel-item:last-child::after {align-self: flex-start;width: 50%;}#sk-container-id-1 div.sk-parallel-item:only-child::after {width: 0;}#sk-container-id-1 div.sk-dashed-wrapped {border: 1px dashed gray;margin: 0 0.4em 0.5em 0.4em;box-sizing: border-box;padding-bottom: 0.4em;background-color: white;}#sk-container-id-1 div.sk-label label {font-family: monospace;font-weight: bold;display: inline-block;line-height: 1.2em;}#sk-container-id-1 div.sk-label-container {text-align: center;}#sk-container-id-1 div.sk-container {/* jupyter's `normalize.less` sets `[hidden] { display: none; }` but bootstrap.min.css set `[hidden] { display: none !important; }` so we also need the `!important` here to be able to override the default hidden behavior on the sphinx rendered scikit-learn.org. See: https://github.com/scikit-learn/scikit-learn/issues/21755 */display: inline-block !important;position: relative;}#sk-container-id-1 div.sk-text-repr-fallback {display: none;}</style><div id=\"sk-container-id-1\" class=\"sk-top-container\"><div class=\"sk-text-repr-fallback\"><pre>Pipeline(steps=[(&#x27;scale&#x27;, None), (&#x27;model&#x27;, GradientBoostingClassifier())])</pre><b>In a Jupyter environment, please rerun this cell to show the HTML representation or trust the notebook. <br />On GitHub, the HTML representation is unable to render, please try loading this page with nbviewer.org.</b></div><div class=\"sk-container\" hidden><div class=\"sk-item sk-dashed-wrapped\"><div class=\"sk-label-container\"><div class=\"sk-label sk-toggleable\"><input class=\"sk-toggleable__control sk-hidden--visually\" id=\"sk-estimator-id-1\" type=\"checkbox\" ><label for=\"sk-estimator-id-1\" class=\"sk-toggleable__label sk-toggleable__label-arrow\">Pipeline</label><div class=\"sk-toggleable__content\"><pre>Pipeline(steps=[(&#x27;scale&#x27;, None), (&#x27;model&#x27;, GradientBoostingClassifier())])</pre></div></div></div><div class=\"sk-serial\"><div class=\"sk-item\"><div class=\"sk-estimator sk-toggleable\"><input class=\"sk-toggleable__control sk-hidden--visually\" id=\"sk-estimator-id-2\" type=\"checkbox\" ><label for=\"sk-estimator-id-2\" class=\"sk-toggleable__label sk-toggleable__label-arrow\">None</label><div class=\"sk-toggleable__content\"><pre>None</pre></div></div></div><div class=\"sk-item\"><div class=\"sk-estimator sk-toggleable\"><input class=\"sk-toggleable__control sk-hidden--visually\" id=\"sk-estimator-id-3\" type=\"checkbox\" ><label for=\"sk-estimator-id-3\" class=\"sk-toggleable__label sk-toggleable__label-arrow\">GradientBoostingClassifier</label><div class=\"sk-toggleable__content\"><pre>GradientBoostingClassifier()</pre></div></div></div></div></div></div></div>"
      ],
      "text/plain": [
       "Pipeline(steps=[('scale', None), ('model', GradientBoostingClassifier())])"
      ]
     },
     "execution_count": 32,
     "metadata": {},
     "output_type": "execute_result"
    }
   ],
   "source": [
    "model.fit(X_train, y_train.values.ravel())"
   ]
  },
  {
   "cell_type": "code",
   "execution_count": 33,
   "id": "af59f8c0",
   "metadata": {
    "execution": {
     "iopub.execute_input": "2025-08-05T15:02:09.099595Z",
     "iopub.status.busy": "2025-08-05T15:02:09.098691Z",
     "iopub.status.idle": "2025-08-05T15:02:09.104383Z",
     "shell.execute_reply": "2025-08-05T15:02:09.103269Z"
    },
    "papermill": {
     "duration": 0.028473,
     "end_time": "2025-08-05T15:02:09.106232",
     "exception": false,
     "start_time": "2025-08-05T15:02:09.077759",
     "status": "completed"
    },
    "tags": []
   },
   "outputs": [],
   "source": [
    "from fairness_multiverse.universe import predict_w_threshold"
   ]
  },
  {
   "cell_type": "code",
   "execution_count": 34,
   "id": "a7cf2e16",
   "metadata": {
    "execution": {
     "iopub.execute_input": "2025-08-05T15:02:09.146863Z",
     "iopub.status.busy": "2025-08-05T15:02:09.146085Z",
     "iopub.status.idle": "2025-08-05T15:02:09.793268Z",
     "shell.execute_reply": "2025-08-05T15:02:09.792189Z"
    },
    "papermill": {
     "duration": 0.670377,
     "end_time": "2025-08-05T15:02:09.794949",
     "exception": false,
     "start_time": "2025-08-05T15:02:09.124572",
     "status": "completed"
    },
    "tags": []
   },
   "outputs": [
    {
     "data": {
      "text/plain": [
       "0.8689889644409765"
      ]
     },
     "execution_count": 34,
     "metadata": {},
     "output_type": "execute_result"
    }
   ],
   "source": [
    "probs_test = model.predict_proba(X_test)\n",
    "\n",
    "'''\n",
    "Below code returns a boolean array (or binary 0/1 array depending on how it’s used) where each element \n",
    "is True if the probability of class 1 is greater than or equal to the threshold, and False otherwise.\n",
    "'''\n",
    "y_pred_default = predict_w_threshold(probs_test, 0.5)\n",
    "\n",
    "from sklearn.metrics import accuracy_score\n",
    "\n",
    "# Naive prediction\n",
    "accuracy_score(y_true = y_true, y_pred = y_pred_default)"
   ]
  },
  {
   "cell_type": "code",
   "execution_count": 35,
   "id": "081964c3",
   "metadata": {
    "execution": {
     "iopub.execute_input": "2025-08-05T15:02:09.834774Z",
     "iopub.status.busy": "2025-08-05T15:02:09.834085Z",
     "iopub.status.idle": "2025-08-05T15:02:10.417377Z",
     "shell.execute_reply": "2025-08-05T15:02:10.416445Z"
    },
    "papermill": {
     "duration": 0.604853,
     "end_time": "2025-08-05T15:02:10.418952",
     "exception": false,
     "start_time": "2025-08-05T15:02:09.814099",
     "status": "completed"
    },
    "tags": []
   },
   "outputs": [
    {
     "data": {
      "text/plain": [
       "array([0, 0, 0, ..., 0, 0, 0])"
      ]
     },
     "execution_count": 35,
     "metadata": {},
     "output_type": "execute_result"
    }
   ],
   "source": [
    "model.predict(X_test)"
   ]
  },
  {
   "cell_type": "markdown",
   "id": "56c9705b",
   "metadata": {
    "papermill": {
     "duration": 0.019259,
     "end_time": "2025-08-05T15:02:10.456433",
     "exception": false,
     "start_time": "2025-08-05T15:02:10.437174",
     "status": "completed"
    },
    "tags": []
   },
   "source": [
    "# Conformal Prediction"
   ]
  },
  {
   "cell_type": "code",
   "execution_count": 36,
   "id": "160ec6ff",
   "metadata": {
    "execution": {
     "iopub.execute_input": "2025-08-05T15:02:10.493648Z",
     "iopub.status.busy": "2025-08-05T15:02:10.492678Z",
     "iopub.status.idle": "2025-08-05T15:02:10.498172Z",
     "shell.execute_reply": "2025-08-05T15:02:10.497130Z"
    },
    "papermill": {
     "duration": 0.026043,
     "end_time": "2025-08-05T15:02:10.500038",
     "exception": false,
     "start_time": "2025-08-05T15:02:10.473995",
     "status": "completed"
    },
    "tags": []
   },
   "outputs": [],
   "source": [
    "# Miscoverage level for conformal prediction (10% allowed error rate => 90% target coverage)\n",
    "alpha = 0.1"
   ]
  },
  {
   "cell_type": "code",
   "execution_count": 37,
   "id": "eadf4555-3dd3-440e-8e35-f82a4ad9f855",
   "metadata": {
    "execution": {
     "iopub.execute_input": "2025-08-05T15:02:10.537995Z",
     "iopub.status.busy": "2025-08-05T15:02:10.537219Z",
     "iopub.status.idle": "2025-08-05T15:02:11.036530Z",
     "shell.execute_reply": "2025-08-05T15:02:11.035766Z"
    },
    "papermill": {
     "duration": 0.519695,
     "end_time": "2025-08-05T15:02:11.038321",
     "exception": false,
     "start_time": "2025-08-05T15:02:10.518626",
     "status": "completed"
    },
    "tags": []
   },
   "outputs": [],
   "source": [
    "probs_calib = model.predict_proba(X_calib)"
   ]
  },
  {
   "cell_type": "code",
   "execution_count": 38,
   "id": "2ed93547-6d5d-4983-9b36-1ecb300da49a",
   "metadata": {
    "execution": {
     "iopub.execute_input": "2025-08-05T15:02:11.078664Z",
     "iopub.status.busy": "2025-08-05T15:02:11.078189Z",
     "iopub.status.idle": "2025-08-05T15:02:11.084045Z",
     "shell.execute_reply": "2025-08-05T15:02:11.082998Z"
    },
    "papermill": {
     "duration": 0.028314,
     "end_time": "2025-08-05T15:02:11.086189",
     "exception": false,
     "start_time": "2025-08-05T15:02:11.057875",
     "status": "completed"
    },
    "tags": []
   },
   "outputs": [],
   "source": [
    "y_calib = y_calib.values.ravel().astype(int)"
   ]
  },
  {
   "cell_type": "code",
   "execution_count": 39,
   "id": "65d1320d-f588-4b38-9072-62af1ae97f7d",
   "metadata": {
    "execution": {
     "iopub.execute_input": "2025-08-05T15:02:11.129092Z",
     "iopub.status.busy": "2025-08-05T15:02:11.128324Z",
     "iopub.status.idle": "2025-08-05T15:02:11.136032Z",
     "shell.execute_reply": "2025-08-05T15:02:11.134964Z"
    },
    "papermill": {
     "duration": 0.03179,
     "end_time": "2025-08-05T15:02:11.137874",
     "exception": false,
     "start_time": "2025-08-05T15:02:11.106084",
     "status": "completed"
    },
    "tags": []
   },
   "outputs": [],
   "source": [
    "from fairness_multiverse.conformal import compute_nc_scores\n",
    "\n",
    "# Compute nonconformity scores on calibration set (1 - probability of true class)\n",
    "nc_scores = compute_nc_scores(probs_calib, y_calib)"
   ]
  },
  {
   "cell_type": "code",
   "execution_count": 40,
   "id": "df3b8ca3-53b7-43d5-9667-7c85da7aeda2",
   "metadata": {
    "execution": {
     "iopub.execute_input": "2025-08-05T15:02:11.179827Z",
     "iopub.status.busy": "2025-08-05T15:02:11.179352Z",
     "iopub.status.idle": "2025-08-05T15:02:11.186304Z",
     "shell.execute_reply": "2025-08-05T15:02:11.185303Z"
    },
    "papermill": {
     "duration": 0.029624,
     "end_time": "2025-08-05T15:02:11.187935",
     "exception": false,
     "start_time": "2025-08-05T15:02:11.158311",
     "status": "completed"
    },
    "tags": []
   },
   "outputs": [],
   "source": [
    "from fairness_multiverse.conformal import find_threshold\n",
    "\n",
    "# Find conformal threshold q_hat for the given alpha (split conformal method)\n",
    "q_hat = find_threshold(nc_scores, alpha)"
   ]
  },
  {
   "cell_type": "code",
   "execution_count": 41,
   "id": "4d29e6c1-0ef6-4aa4-b8fe-4fe79b0d033a",
   "metadata": {
    "execution": {
     "iopub.execute_input": "2025-08-05T15:02:11.218497Z",
     "iopub.status.busy": "2025-08-05T15:02:11.218080Z",
     "iopub.status.idle": "2025-08-05T15:02:11.225393Z",
     "shell.execute_reply": "2025-08-05T15:02:11.224441Z"
    },
    "papermill": {
     "duration": 0.021735,
     "end_time": "2025-08-05T15:02:11.226997",
     "exception": false,
     "start_time": "2025-08-05T15:02:11.205262",
     "status": "completed"
    },
    "tags": []
   },
   "outputs": [
    {
     "data": {
      "text/plain": [
       "0.6573754084200071"
      ]
     },
     "execution_count": 41,
     "metadata": {},
     "output_type": "execute_result"
    }
   ],
   "source": [
    "q_hat"
   ]
  },
  {
   "cell_type": "code",
   "execution_count": 42,
   "id": "92460794-cdac-4be2-ba28-f28c0515a6fb",
   "metadata": {
    "execution": {
     "iopub.execute_input": "2025-08-05T15:02:11.269831Z",
     "iopub.status.busy": "2025-08-05T15:02:11.269311Z",
     "iopub.status.idle": "2025-08-05T15:02:12.011799Z",
     "shell.execute_reply": "2025-08-05T15:02:12.011047Z"
    },
    "papermill": {
     "duration": 0.765546,
     "end_time": "2025-08-05T15:02:12.013593",
     "exception": false,
     "start_time": "2025-08-05T15:02:11.248047",
     "status": "completed"
    },
    "tags": []
   },
   "outputs": [],
   "source": [
    "from fairness_multiverse.conformal import predict_conformal_sets\n",
    "\n",
    "# Generate prediction sets for each test example\n",
    "pred_sets = predict_conformal_sets(model, X_test, q_hat)"
   ]
  },
  {
   "cell_type": "code",
   "execution_count": 43,
   "id": "d90c9a65-e6db-4f5d-80cd-e68fb7e46829",
   "metadata": {
    "execution": {
     "iopub.execute_input": "2025-08-05T15:02:12.067648Z",
     "iopub.status.busy": "2025-08-05T15:02:12.066996Z",
     "iopub.status.idle": "2025-08-05T15:02:12.071787Z",
     "shell.execute_reply": "2025-08-05T15:02:12.071049Z"
    },
    "papermill": {
     "duration": 0.017099,
     "end_time": "2025-08-05T15:02:12.073066",
     "exception": false,
     "start_time": "2025-08-05T15:02:12.055967",
     "status": "completed"
    },
    "tags": []
   },
   "outputs": [],
   "source": [
    "y_true = y_true.squeeze()"
   ]
  },
  {
   "cell_type": "code",
   "execution_count": 44,
   "id": "3a58a54a-1e68-46b9-927a-df01f18aebc8",
   "metadata": {
    "execution": {
     "iopub.execute_input": "2025-08-05T15:02:12.095146Z",
     "iopub.status.busy": "2025-08-05T15:02:12.094874Z",
     "iopub.status.idle": "2025-08-05T15:02:12.553073Z",
     "shell.execute_reply": "2025-08-05T15:02:12.552328Z"
    },
    "papermill": {
     "duration": 0.470556,
     "end_time": "2025-08-05T15:02:12.554526",
     "exception": false,
     "start_time": "2025-08-05T15:02:12.083970",
     "status": "completed"
    },
    "tags": []
   },
   "outputs": [],
   "source": [
    "from fairness_multiverse.conformal import evaluate_sets\n",
    "\n",
    "# Evaluate coverage and average set size on test data\n",
    "metrics = evaluate_sets(pred_sets, y_true)"
   ]
  },
  {
   "cell_type": "markdown",
   "id": "2b569c12-9aaa-4c88-98c9-bbcd0cf3ebb8",
   "metadata": {
    "papermill": {
     "duration": 0.01008,
     "end_time": "2025-08-05T15:02:12.575717",
     "exception": false,
     "start_time": "2025-08-05T15:02:12.565637",
     "status": "completed"
    },
    "tags": []
   },
   "source": [
    "# CP Metrics"
   ]
  },
  {
   "cell_type": "code",
   "execution_count": 45,
   "id": "5ce0a5cb-201f-45a0-ade5-94c7f0bd6095",
   "metadata": {
    "execution": {
     "iopub.execute_input": "2025-08-05T15:02:12.597315Z",
     "iopub.status.busy": "2025-08-05T15:02:12.596728Z",
     "iopub.status.idle": "2025-08-05T15:02:12.603378Z",
     "shell.execute_reply": "2025-08-05T15:02:12.602511Z"
    },
    "papermill": {
     "duration": 0.018891,
     "end_time": "2025-08-05T15:02:12.604791",
     "exception": false,
     "start_time": "2025-08-05T15:02:12.585900",
     "status": "completed"
    },
    "tags": []
   },
   "outputs": [
    {
     "data": {
      "text/plain": [
       "{'coverage': 0.9115371753427711, 'avg_size': 1.1158287816296957}"
      ]
     },
     "execution_count": 45,
     "metadata": {},
     "output_type": "execute_result"
    }
   ],
   "source": [
    "metrics"
   ]
  },
  {
   "cell_type": "code",
   "execution_count": 46,
   "id": "9b9a838d-31c9-430b-ae14-12baee460d17",
   "metadata": {
    "execution": {
     "iopub.execute_input": "2025-08-05T15:02:12.627151Z",
     "iopub.status.busy": "2025-08-05T15:02:12.626670Z",
     "iopub.status.idle": "2025-08-05T15:02:12.631549Z",
     "shell.execute_reply": "2025-08-05T15:02:12.630813Z"
    },
    "papermill": {
     "duration": 0.017103,
     "end_time": "2025-08-05T15:02:12.632867",
     "exception": false,
     "start_time": "2025-08-05T15:02:12.615764",
     "status": "completed"
    },
    "tags": []
   },
   "outputs": [],
   "source": [
    "example_universe = universe.copy()\n",
    "universe_training_year = example_universe.get(\"training_year\")\n",
    "universe_training_size = example_universe.get(\"training_size\")\n",
    "universe_scale = example_universe.get(\"scale\")\n",
    "universe_model = example_universe.get(\"model\")\n",
    "universe_exclude_features = example_universe.get(\"exclude_features\")\n",
    "universe_exclude_subgroups = example_universe.get(\"exclude_subgroups\")"
   ]
  },
  {
   "cell_type": "code",
   "execution_count": 47,
   "id": "f4b6a8ac-9dc0-4245-8a91-5b3b5999c4f9",
   "metadata": {
    "execution": {
     "iopub.execute_input": "2025-08-05T15:02:12.655585Z",
     "iopub.status.busy": "2025-08-05T15:02:12.655171Z",
     "iopub.status.idle": "2025-08-05T15:02:12.660003Z",
     "shell.execute_reply": "2025-08-05T15:02:12.659288Z"
    },
    "papermill": {
     "duration": 0.017284,
     "end_time": "2025-08-05T15:02:12.661494",
     "exception": false,
     "start_time": "2025-08-05T15:02:12.644210",
     "status": "completed"
    },
    "tags": []
   },
   "outputs": [],
   "source": [
    "cp_metrics_dict = {\n",
    "    \"universe_id\": [universe_id],\n",
    "    \"universe_training_year\": [universe_training_year],\n",
    "    \"universe_training_size\": [universe_training_size],\n",
    "    \"universe_scale\": [universe_scale],\n",
    "    \"universe_model\": [universe_model],\n",
    "    \"universe_exclude_features\": [universe_exclude_features],\n",
    "    \"universe_exclude_subgroups\": [universe_exclude_subgroups],\n",
    "    \"q_hat\": [q_hat],\n",
    "    \"coverage\": [metrics[\"coverage\"]],\n",
    "    \"avg_size\": [metrics[\"avg_size\"]],\n",
    "}"
   ]
  },
  {
   "cell_type": "code",
   "execution_count": 48,
   "id": "908acbb1-0371-4915-85ca-3fa520d2efe2",
   "metadata": {
    "execution": {
     "iopub.execute_input": "2025-08-05T15:02:12.684180Z",
     "iopub.status.busy": "2025-08-05T15:02:12.683538Z",
     "iopub.status.idle": "2025-08-05T15:02:12.689584Z",
     "shell.execute_reply": "2025-08-05T15:02:12.688783Z"
    },
    "papermill": {
     "duration": 0.018511,
     "end_time": "2025-08-05T15:02:12.691072",
     "exception": false,
     "start_time": "2025-08-05T15:02:12.672561",
     "status": "completed"
    },
    "tags": []
   },
   "outputs": [
    {
     "data": {
      "text/plain": [
       "{'universe_id': ['41527b2fd978b55b38f4c03c4909945e'],\n",
       " 'universe_training_year': ['2012_14'],\n",
       " 'universe_training_size': ['25k'],\n",
       " 'universe_scale': ['do-not-scale'],\n",
       " 'universe_model': ['gbm'],\n",
       " 'universe_exclude_features': ['nationality-sex'],\n",
       " 'universe_exclude_subgroups': ['drop-non-german'],\n",
       " 'q_hat': [0.6573754084200071],\n",
       " 'coverage': [0.9115371753427711],\n",
       " 'avg_size': [1.1158287816296957]}"
      ]
     },
     "execution_count": 48,
     "metadata": {},
     "output_type": "execute_result"
    }
   ],
   "source": [
    "cp_metrics_dict"
   ]
  },
  {
   "cell_type": "code",
   "execution_count": 49,
   "id": "33007efc-14e9-4ec6-97ac-56a455c82265",
   "metadata": {
    "execution": {
     "iopub.execute_input": "2025-08-05T15:02:12.713666Z",
     "iopub.status.busy": "2025-08-05T15:02:12.713067Z",
     "iopub.status.idle": "2025-08-05T15:02:12.717929Z",
     "shell.execute_reply": "2025-08-05T15:02:12.717149Z"
    },
    "papermill": {
     "duration": 0.017125,
     "end_time": "2025-08-05T15:02:12.719248",
     "exception": false,
     "start_time": "2025-08-05T15:02:12.702123",
     "status": "completed"
    },
    "tags": []
   },
   "outputs": [],
   "source": [
    "cp_metrics_df = pd.DataFrame(cp_metrics_dict)"
   ]
  },
  {
   "cell_type": "code",
   "execution_count": 50,
   "id": "db12611b-57b2-4910-b9d0-355adfd6e7bf",
   "metadata": {
    "execution": {
     "iopub.execute_input": "2025-08-05T15:02:12.742437Z",
     "iopub.status.busy": "2025-08-05T15:02:12.741790Z",
     "iopub.status.idle": "2025-08-05T15:02:12.755333Z",
     "shell.execute_reply": "2025-08-05T15:02:12.754591Z"
    },
    "papermill": {
     "duration": 0.025777,
     "end_time": "2025-08-05T15:02:12.756589",
     "exception": false,
     "start_time": "2025-08-05T15:02:12.730812",
     "status": "completed"
    },
    "tags": []
   },
   "outputs": [
    {
     "data": {
      "text/html": [
       "<div>\n",
       "<style scoped>\n",
       "    .dataframe tbody tr th:only-of-type {\n",
       "        vertical-align: middle;\n",
       "    }\n",
       "\n",
       "    .dataframe tbody tr th {\n",
       "        vertical-align: top;\n",
       "    }\n",
       "\n",
       "    .dataframe thead th {\n",
       "        text-align: right;\n",
       "    }\n",
       "</style>\n",
       "<table border=\"1\" class=\"dataframe\">\n",
       "  <thead>\n",
       "    <tr style=\"text-align: right;\">\n",
       "      <th></th>\n",
       "      <th>universe_id</th>\n",
       "      <th>universe_training_year</th>\n",
       "      <th>universe_training_size</th>\n",
       "      <th>universe_scale</th>\n",
       "      <th>universe_model</th>\n",
       "      <th>universe_exclude_features</th>\n",
       "      <th>universe_exclude_subgroups</th>\n",
       "      <th>q_hat</th>\n",
       "      <th>coverage</th>\n",
       "      <th>avg_size</th>\n",
       "    </tr>\n",
       "  </thead>\n",
       "  <tbody>\n",
       "    <tr>\n",
       "      <th>0</th>\n",
       "      <td>41527b2fd978b55b38f4c03c4909945e</td>\n",
       "      <td>2012_14</td>\n",
       "      <td>25k</td>\n",
       "      <td>do-not-scale</td>\n",
       "      <td>gbm</td>\n",
       "      <td>nationality-sex</td>\n",
       "      <td>drop-non-german</td>\n",
       "      <td>0.657375</td>\n",
       "      <td>0.911537</td>\n",
       "      <td>1.115829</td>\n",
       "    </tr>\n",
       "  </tbody>\n",
       "</table>\n",
       "</div>"
      ],
      "text/plain": [
       "                        universe_id universe_training_year  \\\n",
       "0  41527b2fd978b55b38f4c03c4909945e                2012_14   \n",
       "\n",
       "  universe_training_size universe_scale universe_model  \\\n",
       "0                    25k   do-not-scale            gbm   \n",
       "\n",
       "  universe_exclude_features universe_exclude_subgroups     q_hat  coverage  \\\n",
       "0           nationality-sex            drop-non-german  0.657375  0.911537   \n",
       "\n",
       "   avg_size  \n",
       "0  1.115829  "
      ]
     },
     "execution_count": 50,
     "metadata": {},
     "output_type": "execute_result"
    }
   ],
   "source": [
    "cp_metrics_df"
   ]
  },
  {
   "cell_type": "code",
   "execution_count": 51,
   "id": "b7fbde55-a0a1-47e4-9af6-fe4a17fa8c61",
   "metadata": {
    "execution": {
     "iopub.execute_input": "2025-08-05T15:02:12.779497Z",
     "iopub.status.busy": "2025-08-05T15:02:12.778903Z",
     "iopub.status.idle": "2025-08-05T15:02:12.783085Z",
     "shell.execute_reply": "2025-08-05T15:02:12.782310Z"
    },
    "papermill": {
     "duration": 0.017119,
     "end_time": "2025-08-05T15:02:12.784572",
     "exception": false,
     "start_time": "2025-08-05T15:02:12.767453",
     "status": "completed"
    },
    "tags": []
   },
   "outputs": [],
   "source": [
    "# Conditional Coverage & looking at subgroups"
   ]
  },
  {
   "cell_type": "code",
   "execution_count": 52,
   "id": "027ae886-68dd-4141-96c7-805a5450e1ef",
   "metadata": {
    "execution": {
     "iopub.execute_input": "2025-08-05T15:02:12.807892Z",
     "iopub.status.busy": "2025-08-05T15:02:12.807311Z",
     "iopub.status.idle": "2025-08-05T15:02:13.064627Z",
     "shell.execute_reply": "2025-08-05T15:02:13.063591Z"
    },
    "papermill": {
     "duration": 0.270583,
     "end_time": "2025-08-05T15:02:13.066658",
     "exception": false,
     "start_time": "2025-08-05T15:02:12.796075",
     "status": "completed"
    },
    "tags": []
   },
   "outputs": [],
   "source": [
    "from fairness_multiverse.conformal import build_cp_groups\n",
    "\n",
    "cp_groups_df = build_cp_groups(pred_sets, y_true, X_test.index, org_test)\n",
    "#needs universe_id and setting"
   ]
  },
  {
   "cell_type": "code",
   "execution_count": 53,
   "id": "6cbdab96-b2b2-45af-ad54-d0516db2e28d",
   "metadata": {
    "execution": {
     "iopub.execute_input": "2025-08-05T15:02:13.115587Z",
     "iopub.status.busy": "2025-08-05T15:02:13.114893Z",
     "iopub.status.idle": "2025-08-05T15:02:15.159948Z",
     "shell.execute_reply": "2025-08-05T15:02:15.158825Z"
    },
    "papermill": {
     "duration": 2.073568,
     "end_time": "2025-08-05T15:02:15.161958",
     "exception": false,
     "start_time": "2025-08-05T15:02:13.088390",
     "status": "completed"
    },
    "tags": []
   },
   "outputs": [],
   "source": [
    "# Define covered = 1 if true_label is in the predicted set\n",
    "cp_groups_df['covered'] = cp_groups_df.apply(\n",
    "    lambda r: int(r['true_label'] in r['pred_set']),\n",
    "    axis=1\n",
    ")"
   ]
  },
  {
   "cell_type": "code",
   "execution_count": 54,
   "id": "338ff529-1a6b-4b87-a931-8e4788d52aad",
   "metadata": {
    "execution": {
     "iopub.execute_input": "2025-08-05T15:02:15.210618Z",
     "iopub.status.busy": "2025-08-05T15:02:15.210087Z",
     "iopub.status.idle": "2025-08-05T15:02:15.215592Z",
     "shell.execute_reply": "2025-08-05T15:02:15.214647Z"
    },
    "papermill": {
     "duration": 0.032608,
     "end_time": "2025-08-05T15:02:15.217050",
     "exception": false,
     "start_time": "2025-08-05T15:02:15.184442",
     "status": "completed"
    },
    "tags": []
   },
   "outputs": [],
   "source": [
    "#cp_groups_df"
   ]
  },
  {
   "cell_type": "code",
   "execution_count": 55,
   "id": "90032e27-66df-4540-9169-4e89cfbaa758",
   "metadata": {
    "execution": {
     "iopub.execute_input": "2025-08-05T15:02:15.262555Z",
     "iopub.status.busy": "2025-08-05T15:02:15.261660Z",
     "iopub.status.idle": "2025-08-05T15:02:15.276001Z",
     "shell.execute_reply": "2025-08-05T15:02:15.274952Z"
    },
    "papermill": {
     "duration": 0.038708,
     "end_time": "2025-08-05T15:02:15.278039",
     "exception": false,
     "start_time": "2025-08-05T15:02:15.239331",
     "status": "completed"
    },
    "tags": []
   },
   "outputs": [],
   "source": [
    "subgroups = ['frau1','nongerman','nongerman_male','nongerman_female']\n",
    "\n",
    "# Conditional coverage for subgroup==1\n",
    "cond_coverage = {\n",
    "    g: cp_groups_df.loc[cp_groups_df[g]==1, 'covered'].mean()\n",
    "    for g in subgroups\n",
    "}"
   ]
  },
  {
   "cell_type": "code",
   "execution_count": 56,
   "id": "1e348fb1-b9c3-45bc-ba23-f016827a7e0d",
   "metadata": {
    "execution": {
     "iopub.execute_input": "2025-08-05T15:02:15.323254Z",
     "iopub.status.busy": "2025-08-05T15:02:15.322535Z",
     "iopub.status.idle": "2025-08-05T15:02:15.330830Z",
     "shell.execute_reply": "2025-08-05T15:02:15.329776Z"
    },
    "papermill": {
     "duration": 0.032864,
     "end_time": "2025-08-05T15:02:15.332650",
     "exception": false,
     "start_time": "2025-08-05T15:02:15.299786",
     "status": "completed"
    },
    "tags": []
   },
   "outputs": [
    {
     "data": {
      "text/plain": [
       "{'frau1': 0.9127375657096644,\n",
       " 'nongerman': 0.9078762701397856,\n",
       " 'nongerman_male': 0.924705034675313,\n",
       " 'nongerman_female': 0.8800298062593145}"
      ]
     },
     "execution_count": 56,
     "metadata": {},
     "output_type": "execute_result"
    }
   ],
   "source": [
    "cond_coverage"
   ]
  },
  {
   "cell_type": "code",
   "execution_count": 57,
   "id": "f5093324-c3dd-4d63-bc4c-8d945e5c8bbb",
   "metadata": {
    "execution": {
     "iopub.execute_input": "2025-08-05T15:02:15.384450Z",
     "iopub.status.busy": "2025-08-05T15:02:15.383594Z",
     "iopub.status.idle": "2025-08-05T15:02:15.392951Z",
     "shell.execute_reply": "2025-08-05T15:02:15.391768Z"
    },
    "papermill": {
     "duration": 0.037201,
     "end_time": "2025-08-05T15:02:15.394856",
     "exception": false,
     "start_time": "2025-08-05T15:02:15.357655",
     "status": "completed"
    },
    "tags": []
   },
   "outputs": [],
   "source": [
    "for subgroup, cov in cond_coverage.items():\n",
    "    cp_metrics_df[f\"cov_{subgroup}\"] = cov"
   ]
  },
  {
   "cell_type": "code",
   "execution_count": 58,
   "id": "6e872e10-dbe5-49e8-b554-5030c98ff75d",
   "metadata": {
    "execution": {
     "iopub.execute_input": "2025-08-05T15:02:15.445503Z",
     "iopub.status.busy": "2025-08-05T15:02:15.445040Z",
     "iopub.status.idle": "2025-08-05T15:02:15.463806Z",
     "shell.execute_reply": "2025-08-05T15:02:15.462663Z"
    },
    "papermill": {
     "duration": 0.045694,
     "end_time": "2025-08-05T15:02:15.465581",
     "exception": false,
     "start_time": "2025-08-05T15:02:15.419887",
     "status": "completed"
    },
    "tags": []
   },
   "outputs": [
    {
     "data": {
      "text/html": [
       "<div>\n",
       "<style scoped>\n",
       "    .dataframe tbody tr th:only-of-type {\n",
       "        vertical-align: middle;\n",
       "    }\n",
       "\n",
       "    .dataframe tbody tr th {\n",
       "        vertical-align: top;\n",
       "    }\n",
       "\n",
       "    .dataframe thead th {\n",
       "        text-align: right;\n",
       "    }\n",
       "</style>\n",
       "<table border=\"1\" class=\"dataframe\">\n",
       "  <thead>\n",
       "    <tr style=\"text-align: right;\">\n",
       "      <th></th>\n",
       "      <th>universe_id</th>\n",
       "      <th>universe_training_year</th>\n",
       "      <th>universe_training_size</th>\n",
       "      <th>universe_scale</th>\n",
       "      <th>universe_model</th>\n",
       "      <th>universe_exclude_features</th>\n",
       "      <th>universe_exclude_subgroups</th>\n",
       "      <th>q_hat</th>\n",
       "      <th>coverage</th>\n",
       "      <th>avg_size</th>\n",
       "      <th>cov_frau1</th>\n",
       "      <th>cov_nongerman</th>\n",
       "      <th>cov_nongerman_male</th>\n",
       "      <th>cov_nongerman_female</th>\n",
       "    </tr>\n",
       "  </thead>\n",
       "  <tbody>\n",
       "    <tr>\n",
       "      <th>0</th>\n",
       "      <td>41527b2fd978b55b38f4c03c4909945e</td>\n",
       "      <td>2012_14</td>\n",
       "      <td>25k</td>\n",
       "      <td>do-not-scale</td>\n",
       "      <td>gbm</td>\n",
       "      <td>nationality-sex</td>\n",
       "      <td>drop-non-german</td>\n",
       "      <td>0.657375</td>\n",
       "      <td>0.911537</td>\n",
       "      <td>1.115829</td>\n",
       "      <td>0.912738</td>\n",
       "      <td>0.907876</td>\n",
       "      <td>0.924705</td>\n",
       "      <td>0.88003</td>\n",
       "    </tr>\n",
       "  </tbody>\n",
       "</table>\n",
       "</div>"
      ],
      "text/plain": [
       "                        universe_id universe_training_year  \\\n",
       "0  41527b2fd978b55b38f4c03c4909945e                2012_14   \n",
       "\n",
       "  universe_training_size universe_scale universe_model  \\\n",
       "0                    25k   do-not-scale            gbm   \n",
       "\n",
       "  universe_exclude_features universe_exclude_subgroups     q_hat  coverage  \\\n",
       "0           nationality-sex            drop-non-german  0.657375  0.911537   \n",
       "\n",
       "   avg_size  cov_frau1  cov_nongerman  cov_nongerman_male  \\\n",
       "0  1.115829   0.912738       0.907876            0.924705   \n",
       "\n",
       "   cov_nongerman_female  \n",
       "0               0.88003  "
      ]
     },
     "execution_count": 58,
     "metadata": {},
     "output_type": "execute_result"
    }
   ],
   "source": [
    "cp_metrics_df"
   ]
  },
  {
   "cell_type": "markdown",
   "id": "33774451",
   "metadata": {
    "papermill": {
     "duration": 0.024158,
     "end_time": "2025-08-05T15:02:15.515036",
     "exception": false,
     "start_time": "2025-08-05T15:02:15.490878",
     "status": "completed"
    },
    "tags": []
   },
   "source": [
    "# (Fairness) Metrics"
   ]
  },
  {
   "cell_type": "code",
   "execution_count": 59,
   "id": "debc5d62",
   "metadata": {
    "execution": {
     "iopub.execute_input": "2025-08-05T15:02:15.565969Z",
     "iopub.status.busy": "2025-08-05T15:02:15.565263Z",
     "iopub.status.idle": "2025-08-05T15:02:15.588238Z",
     "shell.execute_reply": "2025-08-05T15:02:15.587249Z"
    },
    "papermill": {
     "duration": 0.050824,
     "end_time": "2025-08-05T15:02:15.590108",
     "exception": false,
     "start_time": "2025-08-05T15:02:15.539284",
     "status": "completed"
    },
    "tags": []
   },
   "outputs": [],
   "source": [
    "# do I need to include maxdeutsch1.missing?\n",
    "\n",
    "import numpy as np\n",
    "\n",
    "colname_to_bin = \"maxdeutsch1\"\n",
    "majority_value = org_train[colname_to_bin].mode()[0]\n",
    "\n",
    "org_test[\"majmin\"] = np.where(org_test[colname_to_bin] == majority_value, \"majority\", \"minority\")"
   ]
  },
  {
   "cell_type": "code",
   "execution_count": 60,
   "id": "06a50de5",
   "metadata": {
    "execution": {
     "iopub.execute_input": "2025-08-05T15:02:15.635808Z",
     "iopub.status.busy": "2025-08-05T15:02:15.635084Z",
     "iopub.status.idle": "2025-08-05T15:02:17.925223Z",
     "shell.execute_reply": "2025-08-05T15:02:17.924469Z"
    },
    "papermill": {
     "duration": 2.314054,
     "end_time": "2025-08-05T15:02:17.926656",
     "exception": false,
     "start_time": "2025-08-05T15:02:15.612602",
     "status": "completed"
    },
    "tags": []
   },
   "outputs": [],
   "source": [
    "example_universe = universe.copy()\n",
    "example_universe[\"cutoff\"] = example_universe[\"cutoff\"][0]\n",
    "example_universe[\"eval_fairness_grouping\"] = example_universe[\"eval_fairness_grouping\"][0]\n",
    "fairness_dict, metric_frame = universe_analysis.compute_metrics(\n",
    "    example_universe,\n",
    "    y_pred_prob=probs_test,\n",
    "    y_test=y_true,\n",
    "    org_test=org_test,\n",
    ")"
   ]
  },
  {
   "cell_type": "markdown",
   "id": "f95d4e02",
   "metadata": {
    "papermill": {
     "duration": 0.011086,
     "end_time": "2025-08-05T15:02:17.952247",
     "exception": false,
     "start_time": "2025-08-05T15:02:17.941161",
     "status": "completed"
    },
    "tags": []
   },
   "source": [
    "# Overall"
   ]
  },
  {
   "cell_type": "markdown",
   "id": "bdee4871",
   "metadata": {
    "papermill": {
     "duration": 0.011262,
     "end_time": "2025-08-05T15:02:17.974631",
     "exception": false,
     "start_time": "2025-08-05T15:02:17.963369",
     "status": "completed"
    },
    "tags": []
   },
   "source": [
    "Fairness\n",
    "Main fairness target: Equalized Odds. Seems to be a better fit than equal opportunity, since we're not only interested in Y = 1. Seems to be a better fit than demographic parity, since we also care about accuracy, not just equal distribution of preds.\n",
    "\n",
    "Pick column for computation of fairness metrics\n",
    "\n",
    "Performance\n",
    "Overall performance measures, most interesting in relation to the measures split by group below"
   ]
  },
  {
   "cell_type": "code",
   "execution_count": 61,
   "id": "c4e067c6",
   "metadata": {
    "execution": {
     "iopub.execute_input": "2025-08-05T15:02:17.998428Z",
     "iopub.status.busy": "2025-08-05T15:02:17.997742Z",
     "iopub.status.idle": "2025-08-05T15:02:18.004829Z",
     "shell.execute_reply": "2025-08-05T15:02:18.004066Z"
    },
    "papermill": {
     "duration": 0.020597,
     "end_time": "2025-08-05T15:02:18.006322",
     "exception": false,
     "start_time": "2025-08-05T15:02:17.985725",
     "status": "completed"
    },
    "tags": []
   },
   "outputs": [
    {
     "data": {
      "text/plain": [
       "accuracy                   0.225092\n",
       "balanced accuracy          0.550231\n",
       "f1                         0.246404\n",
       "precision                  0.140762\n",
       "false positive rate        0.887113\n",
       "false negative rate        0.012426\n",
       "selection rate             0.900000\n",
       "count                  89710.000000\n",
       "dtype: float64"
      ]
     },
     "execution_count": 61,
     "metadata": {},
     "output_type": "execute_result"
    }
   ],
   "source": [
    "metric_frame.overall"
   ]
  },
  {
   "cell_type": "markdown",
   "id": "e968fe9d",
   "metadata": {
    "papermill": {
     "duration": 0.011548,
     "end_time": "2025-08-05T15:02:18.029978",
     "exception": false,
     "start_time": "2025-08-05T15:02:18.018430",
     "status": "completed"
    },
    "tags": []
   },
   "source": [
    "By Group"
   ]
  },
  {
   "cell_type": "code",
   "execution_count": 62,
   "id": "ec325bce",
   "metadata": {
    "execution": {
     "iopub.execute_input": "2025-08-05T15:02:18.053788Z",
     "iopub.status.busy": "2025-08-05T15:02:18.053298Z",
     "iopub.status.idle": "2025-08-05T15:02:18.064829Z",
     "shell.execute_reply": "2025-08-05T15:02:18.064083Z"
    },
    "papermill": {
     "duration": 0.025432,
     "end_time": "2025-08-05T15:02:18.066634",
     "exception": false,
     "start_time": "2025-08-05T15:02:18.041202",
     "status": "completed"
    },
    "tags": []
   },
   "outputs": [
    {
     "data": {
      "text/html": [
       "<div>\n",
       "<style scoped>\n",
       "    .dataframe tbody tr th:only-of-type {\n",
       "        vertical-align: middle;\n",
       "    }\n",
       "\n",
       "    .dataframe tbody tr th {\n",
       "        vertical-align: top;\n",
       "    }\n",
       "\n",
       "    .dataframe thead th {\n",
       "        text-align: right;\n",
       "    }\n",
       "</style>\n",
       "<table border=\"1\" class=\"dataframe\">\n",
       "  <thead>\n",
       "    <tr style=\"text-align: right;\">\n",
       "      <th></th>\n",
       "      <th>accuracy</th>\n",
       "      <th>balanced accuracy</th>\n",
       "      <th>f1</th>\n",
       "      <th>precision</th>\n",
       "      <th>false positive rate</th>\n",
       "      <th>false negative rate</th>\n",
       "      <th>selection rate</th>\n",
       "      <th>count</th>\n",
       "    </tr>\n",
       "    <tr>\n",
       "      <th>majmin</th>\n",
       "      <th></th>\n",
       "      <th></th>\n",
       "      <th></th>\n",
       "      <th></th>\n",
       "      <th></th>\n",
       "      <th></th>\n",
       "      <th></th>\n",
       "      <th></th>\n",
       "    </tr>\n",
       "  </thead>\n",
       "  <tbody>\n",
       "    <tr>\n",
       "      <th>majority</th>\n",
       "      <td>0.244528</td>\n",
       "      <td>0.559047</td>\n",
       "      <td>0.256566</td>\n",
       "      <td>0.147457</td>\n",
       "      <td>0.868449</td>\n",
       "      <td>0.013457</td>\n",
       "      <td>0.884054</td>\n",
       "      <td>69170.0</td>\n",
       "    </tr>\n",
       "    <tr>\n",
       "      <th>minority</th>\n",
       "      <td>0.159640</td>\n",
       "      <td>0.521393</td>\n",
       "      <td>0.213873</td>\n",
       "      <td>0.119863</td>\n",
       "      <td>0.948767</td>\n",
       "      <td>0.008446</td>\n",
       "      <td>0.953700</td>\n",
       "      <td>20540.0</td>\n",
       "    </tr>\n",
       "  </tbody>\n",
       "</table>\n",
       "</div>"
      ],
      "text/plain": [
       "          accuracy  balanced accuracy        f1  precision  \\\n",
       "majmin                                                       \n",
       "majority  0.244528           0.559047  0.256566   0.147457   \n",
       "minority  0.159640           0.521393  0.213873   0.119863   \n",
       "\n",
       "          false positive rate  false negative rate  selection rate    count  \n",
       "majmin                                                                       \n",
       "majority             0.868449             0.013457        0.884054  69170.0  \n",
       "minority             0.948767             0.008446        0.953700  20540.0  "
      ]
     },
     "execution_count": 62,
     "metadata": {},
     "output_type": "execute_result"
    }
   ],
   "source": [
    "metric_frame.by_group"
   ]
  },
  {
   "cell_type": "code",
   "execution_count": 63,
   "id": "a9ddbe63",
   "metadata": {
    "execution": {
     "iopub.execute_input": "2025-08-05T15:02:18.091994Z",
     "iopub.status.busy": "2025-08-05T15:02:18.091290Z",
     "iopub.status.idle": "2025-08-05T15:02:19.654970Z",
     "shell.execute_reply": "2025-08-05T15:02:19.654191Z"
    },
    "papermill": {
     "duration": 1.577032,
     "end_time": "2025-08-05T15:02:19.656232",
     "exception": false,
     "start_time": "2025-08-05T15:02:18.079200",
     "status": "completed"
    },
    "tags": []
   },
   "outputs": [
    {
     "data": {
      "text/plain": [
       "array([[<Axes: title={'center': 'accuracy'}, xlabel='majmin'>,\n",
       "        <Axes: title={'center': 'balanced accuracy'}, xlabel='majmin'>,\n",
       "        <Axes: title={'center': 'f1'}, xlabel='majmin'>],\n",
       "       [<Axes: title={'center': 'precision'}, xlabel='majmin'>,\n",
       "        <Axes: title={'center': 'false positive rate'}, xlabel='majmin'>,\n",
       "        <Axes: title={'center': 'false negative rate'}, xlabel='majmin'>],\n",
       "       [<Axes: title={'center': 'selection rate'}, xlabel='majmin'>,\n",
       "        <Axes: title={'center': 'count'}, xlabel='majmin'>,\n",
       "        <Axes: xlabel='majmin'>]], dtype=object)"
      ]
     },
     "execution_count": 63,
     "metadata": {},
     "output_type": "execute_result"
    },
    {
     "data": {
      "image/png": "[encoded data removed]",
      "text/plain": [
       "<Figure size 1200x800 with 9 Axes>"
      ]
     },
     "metadata": {},
     "output_type": "display_data"
    }
   ],
   "source": [
    "# In a graphic\n",
    "metric_frame.by_group.plot.bar(\n",
    "    subplots=True,\n",
    "    layout=[3, 3],\n",
    "    legend=False,\n",
    "    figsize=[12, 8],\n",
    "    title=\"Show all metrics\",\n",
    ")"
   ]
  },
  {
   "cell_type": "markdown",
   "id": "f57a0bac",
   "metadata": {
    "papermill": {
     "duration": 0.025164,
     "end_time": "2025-08-05T15:02:19.706631",
     "exception": false,
     "start_time": "2025-08-05T15:02:19.681467",
     "status": "completed"
    },
    "tags": []
   },
   "source": [
    "# Final Output"
   ]
  },
  {
   "cell_type": "code",
   "execution_count": 64,
   "id": "96d280a3",
   "metadata": {
    "execution": {
     "iopub.execute_input": "2025-08-05T15:02:19.758217Z",
     "iopub.status.busy": "2025-08-05T15:02:19.757639Z",
     "iopub.status.idle": "2025-08-05T15:02:19.764303Z",
     "shell.execute_reply": "2025-08-05T15:02:19.763484Z"
    },
    "papermill": {
     "duration": 0.03391,
     "end_time": "2025-08-05T15:02:19.765533",
     "exception": false,
     "start_time": "2025-08-05T15:02:19.731623",
     "status": "completed"
    },
    "tags": []
   },
   "outputs": [
    {
     "data": {
      "text/plain": [
       "4"
      ]
     },
     "execution_count": 64,
     "metadata": {},
     "output_type": "execute_result"
    }
   ],
   "source": [
    "sub_universes = universe_analysis.generate_sub_universes()\n",
    "len(sub_universes)"
   ]
  },
  {
   "cell_type": "code",
   "execution_count": 65,
   "id": "92adf7ba",
   "metadata": {
    "execution": {
     "iopub.execute_input": "2025-08-05T15:02:19.792828Z",
     "iopub.status.busy": "2025-08-05T15:02:19.792054Z",
     "iopub.status.idle": "2025-08-05T15:02:19.821646Z",
     "shell.execute_reply": "2025-08-05T15:02:19.820845Z"
    },
    "papermill": {
     "duration": 0.044411,
     "end_time": "2025-08-05T15:02:19.823057",
     "exception": false,
     "start_time": "2025-08-05T15:02:19.778646",
     "status": "completed"
    },
    "tags": []
   },
   "outputs": [],
   "source": [
    "def filter_sub_universe_data(sub_universe, org_test):\n",
    "    # Keep all rows — no filtering\n",
    "    keep_rows_mask = np.ones(org_test.shape[0], dtype=bool)\n",
    "\n",
    "    print(f\"[INFO] Keeping all rows: {keep_rows_mask.sum()} rows retained.\")\n",
    "    return keep_rows_mask"
   ]
  },
  {
   "cell_type": "code",
   "execution_count": 66,
   "id": "4a759155",
   "metadata": {
    "execution": {
     "iopub.execute_input": "2025-08-05T15:02:19.854200Z",
     "iopub.status.busy": "2025-08-05T15:02:19.853497Z",
     "iopub.status.idle": "2025-08-05T15:02:27.600208Z",
     "shell.execute_reply": "2025-08-05T15:02:27.599336Z"
    },
    "papermill": {
     "duration": 7.7633,
     "end_time": "2025-08-05T15:02:27.602012",
     "exception": false,
     "start_time": "2025-08-05T15:02:19.838712",
     "status": "completed"
    },
    "tags": []
   },
   "outputs": [
    {
     "name": "stdout",
     "output_type": "stream",
     "text": [
      "Stopping execution_time clock.\n",
      "[INFO] Keeping all rows: 89710 rows retained.\n"
     ]
    },
    {
     "name": "stdout",
     "output_type": "stream",
     "text": [
      "[INFO] Keeping all rows: 89710 rows retained.\n"
     ]
    },
    {
     "name": "stdout",
     "output_type": "stream",
     "text": [
      "[INFO] Keeping all rows: 89710 rows retained.\n"
     ]
    },
    {
     "name": "stdout",
     "output_type": "stream",
     "text": [
      "[INFO] Keeping all rows: 89710 rows retained.\n"
     ]
    },
    {
     "data": {
      "text/html": [
       "<div>\n",
       "<style scoped>\n",
       "    .dataframe tbody tr th:only-of-type {\n",
       "        vertical-align: middle;\n",
       "    }\n",
       "\n",
       "    .dataframe tbody tr th {\n",
       "        vertical-align: top;\n",
       "    }\n",
       "\n",
       "    .dataframe thead th {\n",
       "        text-align: right;\n",
       "    }\n",
       "</style>\n",
       "<table border=\"1\" class=\"dataframe\">\n",
       "  <thead>\n",
       "    <tr style=\"text-align: right;\">\n",
       "      <th></th>\n",
       "      <th>run_no</th>\n",
       "      <th>universe_id</th>\n",
       "      <th>universe_settings</th>\n",
       "      <th>execution_time</th>\n",
       "      <th>test_size_n</th>\n",
       "      <th>test_size_frac</th>\n",
       "      <th>fair_main_equalized_odds_difference</th>\n",
       "      <th>fair_main_equalized_odds_ratio</th>\n",
       "      <th>fair_main_demographic_parity_difference</th>\n",
       "      <th>fair_main_demographic_parity_ratio</th>\n",
       "      <th>...</th>\n",
       "      <th>perf_grp_precision_0</th>\n",
       "      <th>perf_grp_precision_1</th>\n",
       "      <th>perf_grp_false positive rate_0</th>\n",
       "      <th>perf_grp_false positive rate_1</th>\n",
       "      <th>perf_grp_false negative rate_0</th>\n",
       "      <th>perf_grp_false negative rate_1</th>\n",
       "      <th>perf_grp_selection rate_0</th>\n",
       "      <th>perf_grp_selection rate_1</th>\n",
       "      <th>perf_grp_count_0</th>\n",
       "      <th>perf_grp_count_1</th>\n",
       "    </tr>\n",
       "  </thead>\n",
       "  <tbody>\n",
       "    <tr>\n",
       "      <th>0</th>\n",
       "      <td>15</td>\n",
       "      <td>41527b2fd978b55b38f4c03c4909945e</td>\n",
       "      <td>{\"cutoff\": \"quantile_0.1\", \"eval_fairness_grou...</td>\n",
       "      <td>45.28751</td>\n",
       "      <td>89710</td>\n",
       "      <td>1.0</td>\n",
       "      <td>0.080318</td>\n",
       "      <td>0.915345</td>\n",
       "      <td>0.069646</td>\n",
       "      <td>0.926973</td>\n",
       "      <td>...</td>\n",
       "      <td>NaN</td>\n",
       "      <td>NaN</td>\n",
       "      <td>NaN</td>\n",
       "      <td>NaN</td>\n",
       "      <td>NaN</td>\n",
       "      <td>NaN</td>\n",
       "      <td>NaN</td>\n",
       "      <td>NaN</td>\n",
       "      <td>NaN</td>\n",
       "      <td>NaN</td>\n",
       "    </tr>\n",
       "    <tr>\n",
       "      <th>0</th>\n",
       "      <td>15</td>\n",
       "      <td>41527b2fd978b55b38f4c03c4909945e</td>\n",
       "      <td>{\"cutoff\": \"quantile_0.1\", \"eval_fairness_grou...</td>\n",
       "      <td>45.28751</td>\n",
       "      <td>89710</td>\n",
       "      <td>1.0</td>\n",
       "      <td>0.080318</td>\n",
       "      <td>0.915345</td>\n",
       "      <td>0.069646</td>\n",
       "      <td>0.926973</td>\n",
       "      <td>...</td>\n",
       "      <td>0.119863</td>\n",
       "      <td>0.147457</td>\n",
       "      <td>0.948767</td>\n",
       "      <td>0.868449</td>\n",
       "      <td>0.008446</td>\n",
       "      <td>0.013457</td>\n",
       "      <td>0.953700</td>\n",
       "      <td>0.884054</td>\n",
       "      <td>20540.0</td>\n",
       "      <td>69170.0</td>\n",
       "    </tr>\n",
       "    <tr>\n",
       "      <th>0</th>\n",
       "      <td>15</td>\n",
       "      <td>41527b2fd978b55b38f4c03c4909945e</td>\n",
       "      <td>{\"cutoff\": \"quantile_0.25\", \"eval_fairness_gro...</td>\n",
       "      <td>45.28751</td>\n",
       "      <td>89710</td>\n",
       "      <td>1.0</td>\n",
       "      <td>0.079640</td>\n",
       "      <td>0.898155</td>\n",
       "      <td>0.064034</td>\n",
       "      <td>0.919894</td>\n",
       "      <td>...</td>\n",
       "      <td>NaN</td>\n",
       "      <td>NaN</td>\n",
       "      <td>NaN</td>\n",
       "      <td>NaN</td>\n",
       "      <td>NaN</td>\n",
       "      <td>NaN</td>\n",
       "      <td>NaN</td>\n",
       "      <td>NaN</td>\n",
       "      <td>NaN</td>\n",
       "      <td>NaN</td>\n",
       "    </tr>\n",
       "    <tr>\n",
       "      <th>0</th>\n",
       "      <td>15</td>\n",
       "      <td>41527b2fd978b55b38f4c03c4909945e</td>\n",
       "      <td>{\"cutoff\": \"quantile_0.25\", \"eval_fairness_gro...</td>\n",
       "      <td>45.28751</td>\n",
       "      <td>89710</td>\n",
       "      <td>1.0</td>\n",
       "      <td>0.079640</td>\n",
       "      <td>0.898155</td>\n",
       "      <td>0.064034</td>\n",
       "      <td>0.919894</td>\n",
       "      <td>...</td>\n",
       "      <td>0.134539</td>\n",
       "      <td>0.171087</td>\n",
       "      <td>0.781972</td>\n",
       "      <td>0.702332</td>\n",
       "      <td>0.067145</td>\n",
       "      <td>0.047921</td>\n",
       "      <td>0.799367</td>\n",
       "      <td>0.735333</td>\n",
       "      <td>20540.0</td>\n",
       "      <td>69170.0</td>\n",
       "    </tr>\n",
       "  </tbody>\n",
       "</table>\n",
       "<p>4 rows × 50 columns</p>\n",
       "</div>"
      ],
      "text/plain": [
       "  run_no                       universe_id  \\\n",
       "0     15  41527b2fd978b55b38f4c03c4909945e   \n",
       "0     15  41527b2fd978b55b38f4c03c4909945e   \n",
       "0     15  41527b2fd978b55b38f4c03c4909945e   \n",
       "0     15  41527b2fd978b55b38f4c03c4909945e   \n",
       "\n",
       "                                   universe_settings  execution_time  \\\n",
       "0  {\"cutoff\": \"quantile_0.1\", \"eval_fairness_grou...        45.28751   \n",
       "0  {\"cutoff\": \"quantile_0.1\", \"eval_fairness_grou...        45.28751   \n",
       "0  {\"cutoff\": \"quantile_0.25\", \"eval_fairness_gro...        45.28751   \n",
       "0  {\"cutoff\": \"quantile_0.25\", \"eval_fairness_gro...        45.28751   \n",
       "\n",
       "   test_size_n  test_size_frac  fair_main_equalized_odds_difference  \\\n",
       "0        89710             1.0                             0.080318   \n",
       "0        89710             1.0                             0.080318   \n",
       "0        89710             1.0                             0.079640   \n",
       "0        89710             1.0                             0.079640   \n",
       "\n",
       "   fair_main_equalized_odds_ratio  fair_main_demographic_parity_difference  \\\n",
       "0                        0.915345                                 0.069646   \n",
       "0                        0.915345                                 0.069646   \n",
       "0                        0.898155                                 0.064034   \n",
       "0                        0.898155                                 0.064034   \n",
       "\n",
       "   fair_main_demographic_parity_ratio  ...  perf_grp_precision_0  \\\n",
       "0                            0.926973  ...                   NaN   \n",
       "0                            0.926973  ...              0.119863   \n",
       "0                            0.919894  ...                   NaN   \n",
       "0                            0.919894  ...              0.134539   \n",
       "\n",
       "   perf_grp_precision_1  perf_grp_false positive rate_0  \\\n",
       "0                   NaN                             NaN   \n",
       "0              0.147457                        0.948767   \n",
       "0                   NaN                             NaN   \n",
       "0              0.171087                        0.781972   \n",
       "\n",
       "   perf_grp_false positive rate_1  perf_grp_false negative rate_0  \\\n",
       "0                             NaN                             NaN   \n",
       "0                        0.868449                        0.008446   \n",
       "0                             NaN                             NaN   \n",
       "0                        0.702332                        0.067145   \n",
       "\n",
       "   perf_grp_false negative rate_1  perf_grp_selection rate_0  \\\n",
       "0                             NaN                        NaN   \n",
       "0                        0.013457                   0.953700   \n",
       "0                             NaN                        NaN   \n",
       "0                        0.047921                   0.799367   \n",
       "\n",
       "   perf_grp_selection rate_1  perf_grp_count_0  perf_grp_count_1  \n",
       "0                        NaN               NaN               NaN  \n",
       "0                   0.884054           20540.0           69170.0  \n",
       "0                        NaN               NaN               NaN  \n",
       "0                   0.735333           20540.0           69170.0  \n",
       "\n",
       "[4 rows x 50 columns]"
      ]
     },
     "execution_count": 66,
     "metadata": {},
     "output_type": "execute_result"
    }
   ],
   "source": [
    "final_output = universe_analysis.generate_final_output(\n",
    "    y_pred_prob=probs_test,\n",
    "    y_test=y_true,\n",
    "    org_test=org_test,\n",
    "    filter_data=filter_sub_universe_data,\n",
    "    cp_metrics_df=cp_metrics_df,\n",
    "    save=True,\n",
    ")\n",
    "final_output"
   ]
  }
 ],
 "metadata": {
  "celltoolbar": "Tags",
  "kernelspec": {
   "display_name": "Python (CMA Fairness)",
   "language": "python",
   "name": "cma_fair_env"
  },
  "language_info": {
   "codemirror_mode": {
    "name": "ipython",
    "version": 3
   },
   "file_extension": ".py",
   "mimetype": "text/x-python",
   "name": "python",
   "nbconvert_exporter": "python",
   "pygments_lexer": "ipython3",
   "version": "3.10.12"
  },
  "papermill": {
   "default_parameters": {},
   "duration": 56.321461,
   "end_time": "2025-08-05T15:02:28.350365",
   "environment_variables": {},
   "exception": null,
   "input_path": "universe_analysis.ipynb",
   "output_path": "output/runs/15/notebooks/m_15-41527b2fd978b55b38f4c03c4909945e.ipynb",
   "parameters": {
    "output_dir": "output",
    "run_no": "15",
    "seed": "2023",
    "universe": "{\"cutoff\": [\"quantile_0.1\", \"quantile_0.25\"], \"eval_fairness_grouping\": [\"majority-minority\", \"nationality-all\"], \"exclude_features\": \"nationality-sex\", \"exclude_subgroups\": \"drop-non-german\", \"model\": \"gbm\", \"scale\": \"do-not-scale\", \"training_size\": \"25k\", \"training_year\": \"2012_14\"}",
    "universe_id": "41527b2fd978b55b38f4c03c4909945e"
   },
   "start_time": "2025-08-05T15:01:32.028904",
   "version": "2.6.0"
  }
 },
 "nbformat": 4,
 "nbformat_minor": 5
}