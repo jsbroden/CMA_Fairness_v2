{
 "cells": [
  {
   "cell_type": "code",
   "execution_count": 1,
   "id": "f159f837-637b-42ba-96b5-ec9a68c44524",
   "metadata": {
    "execution": {
     "iopub.execute_input": "2025-08-05T15:35:40.071822Z",
     "iopub.status.busy": "2025-08-05T15:35:40.071317Z",
     "iopub.status.idle": "2025-08-05T15:35:40.086192Z",
     "shell.execute_reply": "2025-08-05T15:35:40.085125Z"
    },
    "papermill": {
     "duration": 0.03611,
     "end_time": "2025-08-05T15:35:40.087945",
     "exception": false,
     "start_time": "2025-08-05T15:35:40.051835",
     "status": "completed"
    },
    "tags": []
   },
   "outputs": [
    {
     "name": "stdout",
     "output_type": "stream",
     "text": [
      "/dss/dsshome1/0C/ra93lal2/cma/CMA_Fairness_v2\n"
     ]
    },
    {
     "name": "stderr",
     "output_type": "stream",
     "text": [
      "/dss/dsshome1/0C/ra93lal2/.local/share/virtualenvs/CMA_Fairness_v2-3j10GkSs/lib/python3.10/site-packages/IPython/core/magics/osm.py:393: UserWarning: This is now an optional IPython functionality, using bookmarks requires you to install the `pickleshare` library.\n",
      "  bkms = self.shell.db.get('bookmarks', {})\n",
      "/dss/dsshome1/0C/ra93lal2/.local/share/virtualenvs/CMA_Fairness_v2-3j10GkSs/lib/python3.10/site-packages/IPython/core/magics/osm.py:417: UserWarning: This is now an optional IPython functionality, setting dhist requires you to install the `pickleshare` library.\n",
      "  self.shell.db['dhist'] = compress_dhist(dhist)[-100:]\n"
     ]
    }
   ],
   "source": [
    "%cd ~/cma/CMA_Fairness_v2"
   ]
  },
  {
   "cell_type": "markdown",
   "id": "de2603b9",
   "metadata": {
    "papermill": {
     "duration": 0.017444,
     "end_time": "2025-08-05T15:35:40.123841",
     "exception": false,
     "start_time": "2025-08-05T15:35:40.106397",
     "status": "completed"
    },
    "tags": []
   },
   "source": [
    "The following cell holds the definition of our parameters, these values can be overriden by rendering the with e.g. the following command:\n",
    "\n",
    "papermill -p alpha 0.2 -p ratio 0.3 universe_analysis.ipynb output/test_run.ipynb"
   ]
  },
  {
   "cell_type": "code",
   "execution_count": 2,
   "id": "a80968a0-40bb-4fa9-85ef-2d5eefb01975",
   "metadata": {
    "execution": {
     "iopub.execute_input": "2025-08-05T15:35:40.161325Z",
     "iopub.status.busy": "2025-08-05T15:35:40.160833Z",
     "iopub.status.idle": "2025-08-05T15:35:40.166875Z",
     "shell.execute_reply": "2025-08-05T15:35:40.165795Z"
    },
    "papermill": {
     "duration": 0.027206,
     "end_time": "2025-08-05T15:35:40.168957",
     "exception": false,
     "start_time": "2025-08-05T15:35:40.141751",
     "status": "completed"
    },
    "tags": []
   },
   "outputs": [
    {
     "name": "stdout",
     "output_type": "stream",
     "text": [
      "Current working directory: /dss/dsshome1/0C/ra93lal2/cma/CMA_Fairness_v2\n"
     ]
    }
   ],
   "source": [
    "import os\n",
    "print(\"Current working directory:\", os.getcwd())"
   ]
  },
  {
   "cell_type": "code",
   "execution_count": 3,
   "id": "2dce4c03",
   "metadata": {
    "execution": {
     "iopub.execute_input": "2025-08-05T15:35:40.210196Z",
     "iopub.status.busy": "2025-08-05T15:35:40.209447Z",
     "iopub.status.idle": "2025-08-05T15:35:40.215947Z",
     "shell.execute_reply": "2025-08-05T15:35:40.214812Z"
    },
    "papermill": {
     "duration": 0.02863,
     "end_time": "2025-08-05T15:35:40.217766",
     "exception": false,
     "start_time": "2025-08-05T15:35:40.189136",
     "status": "completed"
    },
    "tags": [
     "parameters"
    ]
   },
   "outputs": [],
   "source": [
    "run_no = 0\n",
    "universe_id = \"test\"\n",
    "universe = {\n",
    "    \"training_size\": \"25k\", # \"25k\", \"5k\", \"1k\"\n",
    "    \"training_year\": \"2014\", # \"2014\", \"2012_14\", \"2010_14\"\n",
    "    \"scale\": \"scale\", # \"scale\", \"do-not-scale\",\n",
    "    \"model\": \"elasticnet\", # \"logreg\", \"penalized_logreg\", \"rf\", \"gbm\", \"elasticnet\"\n",
    "    \"cutoff\": [\"quantile_0.15\", \"quantile_0.30\"],\n",
    "    \"exclude_features\": \"age\", # \"none\", \"nationality\", \"sex\", \"nationality-sex\", \"age\"\n",
    "    \"exclude_subgroups\": \"keep-all\", # \"keep-all\", \"drop-non-german\"\n",
    "    \"eval_fairness_grouping\": [\"majority-minority\", \"nationality-all\"]\n",
    "}\n",
    "\n",
    "output_dir=\"./output\"\n",
    "seed=0"
   ]
  },
  {
   "cell_type": "code",
   "execution_count": 4,
   "id": "93b42a79",
   "metadata": {
    "execution": {
     "iopub.execute_input": "2025-08-05T15:35:40.257195Z",
     "iopub.status.busy": "2025-08-05T15:35:40.256292Z",
     "iopub.status.idle": "2025-08-05T15:35:40.262121Z",
     "shell.execute_reply": "2025-08-05T15:35:40.261087Z"
    },
    "papermill": {
     "duration": 0.027539,
     "end_time": "2025-08-05T15:35:40.264358",
     "exception": false,
     "start_time": "2025-08-05T15:35:40.236819",
     "status": "completed"
    },
    "tags": [
     "injected-parameters"
    ]
   },
   "outputs": [],
   "source": [
    "# Parameters\n",
    "universe_id = \"e2c6a06f828e1fc0478bae5e101f7810\"\n",
    "run_no = \"15\"\n",
    "universe = \"{\\\"cutoff\\\": [\\\"quantile_0.1\\\", \\\"quantile_0.25\\\"], \\\"eval_fairness_grouping\\\": [\\\"majority-minority\\\", \\\"nationality-all\\\"], \\\"exclude_features\\\": \\\"sex\\\", \\\"exclude_subgroups\\\": \\\"keep-all\\\", \\\"model\\\": \\\"penalized_logreg\\\", \\\"scale\\\": \\\"scale\\\", \\\"training_size\\\": \\\"5k\\\", \\\"training_year\\\": \\\"2012_14\\\"}\"\n",
    "output_dir = \"output\"\n",
    "seed = \"2023\"\n"
   ]
  },
  {
   "cell_type": "code",
   "execution_count": 5,
   "id": "1650acaf",
   "metadata": {
    "execution": {
     "iopub.execute_input": "2025-08-05T15:35:40.305273Z",
     "iopub.status.busy": "2025-08-05T15:35:40.304371Z",
     "iopub.status.idle": "2025-08-05T15:35:40.310112Z",
     "shell.execute_reply": "2025-08-05T15:35:40.308951Z"
    },
    "papermill": {
     "duration": 0.027103,
     "end_time": "2025-08-05T15:35:40.312030",
     "exception": false,
     "start_time": "2025-08-05T15:35:40.284927",
     "status": "completed"
    },
    "tags": []
   },
   "outputs": [],
   "source": [
    "import json\n",
    "if isinstance(universe, str):\n",
    "    universe = json.loads(universe)"
   ]
  },
  {
   "cell_type": "code",
   "execution_count": 6,
   "id": "16620c48",
   "metadata": {
    "execution": {
     "iopub.execute_input": "2025-08-05T15:35:40.352321Z",
     "iopub.status.busy": "2025-08-05T15:35:40.351363Z",
     "iopub.status.idle": "2025-08-05T15:35:40.393111Z",
     "shell.execute_reply": "2025-08-05T15:35:40.392362Z"
    },
    "papermill": {
     "duration": 0.06374,
     "end_time": "2025-08-05T15:35:40.394384",
     "exception": false,
     "start_time": "2025-08-05T15:35:40.330644",
     "status": "completed"
    },
    "tags": []
   },
   "outputs": [],
   "source": [
    "# Auto-reload the custom package\n",
    "%load_ext autoreload\n",
    "%autoreload 1\n",
    "%aimport fairness_multiverse"
   ]
  },
  {
   "cell_type": "code",
   "execution_count": 7,
   "id": "01c5c9f3",
   "metadata": {
    "execution": {
     "iopub.execute_input": "2025-08-05T15:35:40.413158Z",
     "iopub.status.busy": "2025-08-05T15:35:40.412803Z",
     "iopub.status.idle": "2025-08-05T15:35:42.061463Z",
     "shell.execute_reply": "2025-08-05T15:35:42.060618Z"
    },
    "papermill": {
     "duration": 1.659444,
     "end_time": "2025-08-05T15:35:42.063031",
     "exception": false,
     "start_time": "2025-08-05T15:35:40.403587",
     "status": "completed"
    },
    "tags": []
   },
   "outputs": [],
   "source": [
    "from fairness_multiverse.universe import UniverseAnalysis\n",
    "\n",
    "universe_analysis = UniverseAnalysis(\n",
    "    run_no = run_no,\n",
    "    universe_id = universe_id,\n",
    "    universe = universe,\n",
    "    output_dir=output_dir,\n",
    ")"
   ]
  },
  {
   "cell_type": "code",
   "execution_count": 8,
   "id": "106241f5",
   "metadata": {
    "execution": {
     "iopub.execute_input": "2025-08-05T15:35:42.081636Z",
     "iopub.status.busy": "2025-08-05T15:35:42.081323Z",
     "iopub.status.idle": "2025-08-05T15:35:42.086510Z",
     "shell.execute_reply": "2025-08-05T15:35:42.085423Z"
    },
    "papermill": {
     "duration": 0.01667,
     "end_time": "2025-08-05T15:35:42.088891",
     "exception": false,
     "start_time": "2025-08-05T15:35:42.072221",
     "status": "completed"
    },
    "tags": []
   },
   "outputs": [
    {
     "name": "stdout",
     "output_type": "stream",
     "text": [
      "Using Seed: 2023\n"
     ]
    }
   ],
   "source": [
    "import numpy as np\n",
    "parsed_seed = int(seed)\n",
    "np.random.seed(parsed_seed)\n",
    "print(f\"Using Seed: {parsed_seed}\")"
   ]
  },
  {
   "cell_type": "markdown",
   "id": "e0ebdc57",
   "metadata": {
    "papermill": {
     "duration": 0.008421,
     "end_time": "2025-08-05T15:35:42.107029",
     "exception": false,
     "start_time": "2025-08-05T15:35:42.098608",
     "status": "completed"
    },
    "tags": []
   },
   "source": [
    "# Loading Data"
   ]
  },
  {
   "cell_type": "code",
   "execution_count": 9,
   "id": "f0496b8a",
   "metadata": {
    "execution": {
     "iopub.execute_input": "2025-08-05T15:35:42.125314Z",
     "iopub.status.busy": "2025-08-05T15:35:42.124806Z",
     "iopub.status.idle": "2025-08-05T15:35:53.523379Z",
     "shell.execute_reply": "2025-08-05T15:35:53.522186Z"
    },
    "papermill": {
     "duration": 11.409154,
     "end_time": "2025-08-05T15:35:53.524872",
     "exception": false,
     "start_time": "2025-08-05T15:35:42.115718",
     "status": "completed"
    },
    "tags": []
   },
   "outputs": [
    {
     "name": "stdout",
     "output_type": "stream",
     "text": [
      "Loading SIAB data from cache: data/siab_cached.csv.gz\n"
     ]
    },
    {
     "name": "stdout",
     "output_type": "stream",
     "text": [
      "(643690, 164)\n"
     ]
    }
   ],
   "source": [
    "from pathlib import Path\n",
    "import pandas as pd\n",
    "\n",
    "# File paths\n",
    "raw_file = Path(\"data/raw/siab.csv\")\n",
    "cache_file = Path(\"data/siab_cached.csv.gz\")\n",
    "\n",
    "# Ensure cache directory exists\n",
    "cache_file.parent.mkdir(parents=True, exist_ok=True)\n",
    "\n",
    "# Load with simple caching\n",
    "if cache_file.exists():\n",
    "    print(f\"Loading SIAB data from cache: {cache_file}\")\n",
    "    siab = pd.read_csv(cache_file, compression='gzip')\n",
    "else:\n",
    "    print(f\"Cache not found. Reading raw SIAB data: {raw_file}\")\n",
    "    siab = pd.read_csv(raw_file)\n",
    "    siab.to_csv(cache_file, index=False, compression='gzip')\n",
    "    print(f\"Cached SIAB data to: {cache_file}\")\n",
    "\n",
    "print(siab.shape)"
   ]
  },
  {
   "cell_type": "code",
   "execution_count": 10,
   "id": "db0ca512-5f53-4dba-abdb-a2888bca41ba",
   "metadata": {
    "execution": {
     "iopub.execute_input": "2025-08-05T15:35:53.563756Z",
     "iopub.status.busy": "2025-08-05T15:35:53.563240Z",
     "iopub.status.idle": "2025-08-05T15:35:53.569037Z",
     "shell.execute_reply": "2025-08-05T15:35:53.568014Z"
    },
    "papermill": {
     "duration": 0.02638,
     "end_time": "2025-08-05T15:35:53.570985",
     "exception": false,
     "start_time": "2025-08-05T15:35:53.544605",
     "status": "completed"
    },
    "tags": []
   },
   "outputs": [],
   "source": [
    "#siab"
   ]
  },
  {
   "cell_type": "markdown",
   "id": "997051c5-15bd-4b69-9786-c3001a3ce484",
   "metadata": {
    "papermill": {
     "duration": 0.016222,
     "end_time": "2025-08-05T15:35:53.604827",
     "exception": false,
     "start_time": "2025-08-05T15:35:53.588605",
     "status": "completed"
    },
    "tags": []
   },
   "source": [
    "# Splitting Data and Setting Training Data Size"
   ]
  },
  {
   "cell_type": "code",
   "execution_count": 11,
   "id": "aea9c6ef-6f46-42c8-85eb-5a62025c1508",
   "metadata": {
    "execution": {
     "iopub.execute_input": "2025-08-05T15:35:53.641024Z",
     "iopub.status.busy": "2025-08-05T15:35:53.640427Z",
     "iopub.status.idle": "2025-08-05T15:35:54.253782Z",
     "shell.execute_reply": "2025-08-05T15:35:54.252697Z"
    },
    "papermill": {
     "duration": 0.633825,
     "end_time": "2025-08-05T15:35:54.255805",
     "exception": false,
     "start_time": "2025-08-05T15:35:53.621980",
     "status": "completed"
    },
    "tags": []
   },
   "outputs": [],
   "source": [
    "from fairness_multiverse.universe import sample_by_year_size\n",
    "\n",
    "siab_train = sample_by_year_size(siab,\n",
    "                               training_year=universe[\"training_year\"],\n",
    "                               training_size=universe[\"training_size\"])"
   ]
  },
  {
   "cell_type": "code",
   "execution_count": 12,
   "id": "8d3afb32-789d-442c-8d5d-9f5aa8dd2eed",
   "metadata": {
    "execution": {
     "iopub.execute_input": "2025-08-05T15:35:54.293356Z",
     "iopub.status.busy": "2025-08-05T15:35:54.292853Z",
     "iopub.status.idle": "2025-08-05T15:35:54.298249Z",
     "shell.execute_reply": "2025-08-05T15:35:54.297258Z"
    },
    "papermill": {
     "duration": 0.026156,
     "end_time": "2025-08-05T15:35:54.300124",
     "exception": false,
     "start_time": "2025-08-05T15:35:54.273968",
     "status": "completed"
    },
    "tags": []
   },
   "outputs": [],
   "source": [
    "#siab_train.shape"
   ]
  },
  {
   "cell_type": "code",
   "execution_count": 13,
   "id": "d582db68-1a4c-47fb-84fc-08518dc1975a",
   "metadata": {
    "execution": {
     "iopub.execute_input": "2025-08-05T15:35:54.337350Z",
     "iopub.status.busy": "2025-08-05T15:35:54.336700Z",
     "iopub.status.idle": "2025-08-05T15:35:54.341971Z",
     "shell.execute_reply": "2025-08-05T15:35:54.340907Z"
    },
    "papermill": {
     "duration": 0.025663,
     "end_time": "2025-08-05T15:35:54.343799",
     "exception": false,
     "start_time": "2025-08-05T15:35:54.318136",
     "status": "completed"
    },
    "tags": []
   },
   "outputs": [],
   "source": [
    "#display(siab_train.groupby(\"year\").size())"
   ]
  },
  {
   "cell_type": "code",
   "execution_count": 14,
   "id": "a561edb4-d032-42cb-8256-22eac1111c64",
   "metadata": {
    "execution": {
     "iopub.execute_input": "2025-08-05T15:35:54.383214Z",
     "iopub.status.busy": "2025-08-05T15:35:54.382559Z",
     "iopub.status.idle": "2025-08-05T15:35:54.600218Z",
     "shell.execute_reply": "2025-08-05T15:35:54.599168Z"
    },
    "papermill": {
     "duration": 0.239125,
     "end_time": "2025-08-05T15:35:54.602222",
     "exception": false,
     "start_time": "2025-08-05T15:35:54.363097",
     "status": "completed"
    },
    "tags": []
   },
   "outputs": [],
   "source": [
    "#siab_train = siab_s[siab_s.year < 2015]\n",
    "siab_calib = siab[siab.year == 2015]\n",
    "siab_test = siab[siab.year == 2016]"
   ]
  },
  {
   "cell_type": "code",
   "execution_count": 15,
   "id": "472de16f-c3db-4916-846b-1f0de9cf1746",
   "metadata": {
    "execution": {
     "iopub.execute_input": "2025-08-05T15:35:54.639527Z",
     "iopub.status.busy": "2025-08-05T15:35:54.639082Z",
     "iopub.status.idle": "2025-08-05T15:35:54.647292Z",
     "shell.execute_reply": "2025-08-05T15:35:54.646304Z"
    },
    "papermill": {
     "duration": 0.029177,
     "end_time": "2025-08-05T15:35:54.649419",
     "exception": false,
     "start_time": "2025-08-05T15:35:54.620242",
     "status": "completed"
    },
    "tags": []
   },
   "outputs": [],
   "source": [
    "X_train = siab_train.iloc[:,4:164]\n",
    "y_train = siab_train.iloc[:, [3]]"
   ]
  },
  {
   "cell_type": "code",
   "execution_count": 16,
   "id": "828c96af-f43a-4ed6-ba47-8ac73a47d56c",
   "metadata": {
    "execution": {
     "iopub.execute_input": "2025-08-05T15:35:54.688318Z",
     "iopub.status.busy": "2025-08-05T15:35:54.687803Z",
     "iopub.status.idle": "2025-08-05T15:35:54.746761Z",
     "shell.execute_reply": "2025-08-05T15:35:54.745617Z"
    },
    "papermill": {
     "duration": 0.081197,
     "end_time": "2025-08-05T15:35:54.748668",
     "exception": false,
     "start_time": "2025-08-05T15:35:54.667471",
     "status": "completed"
    },
    "tags": []
   },
   "outputs": [],
   "source": [
    "X_calib = siab_calib.iloc[:,4:164]\n",
    "y_calib = siab_calib.iloc[:, [3]]"
   ]
  },
  {
   "cell_type": "code",
   "execution_count": 17,
   "id": "c34be9c3-6bd6-476e-acd3-845840e303be",
   "metadata": {
    "execution": {
     "iopub.execute_input": "2025-08-05T15:35:54.790126Z",
     "iopub.status.busy": "2025-08-05T15:35:54.789262Z",
     "iopub.status.idle": "2025-08-05T15:35:54.880844Z",
     "shell.execute_reply": "2025-08-05T15:35:54.879668Z"
    },
    "papermill": {
     "duration": 0.11351,
     "end_time": "2025-08-05T15:35:54.882819",
     "exception": false,
     "start_time": "2025-08-05T15:35:54.769309",
     "status": "completed"
    },
    "tags": []
   },
   "outputs": [],
   "source": [
    "X_test = siab_test.iloc[:,4:164]\n",
    "y_true = siab_test.iloc[:, [3]]"
   ]
  },
  {
   "cell_type": "code",
   "execution_count": 18,
   "id": "e6c733c5",
   "metadata": {
    "execution": {
     "iopub.execute_input": "2025-08-05T15:35:54.920106Z",
     "iopub.status.busy": "2025-08-05T15:35:54.919416Z",
     "iopub.status.idle": "2025-08-05T15:35:55.026247Z",
     "shell.execute_reply": "2025-08-05T15:35:55.025292Z"
    },
    "papermill": {
     "duration": 0.127491,
     "end_time": "2025-08-05T15:35:55.028178",
     "exception": false,
     "start_time": "2025-08-05T15:35:54.900687",
     "status": "completed"
    },
    "tags": []
   },
   "outputs": [],
   "source": [
    "# Auxiliary data needed downstream in the pipeline\n",
    "\n",
    "org_train = X_train.copy()\n",
    "org_test = X_test.copy()\n",
    "org_calib = X_calib.copy()"
   ]
  },
  {
   "cell_type": "markdown",
   "id": "0a4a1b33",
   "metadata": {
    "papermill": {
     "duration": 0.01784,
     "end_time": "2025-08-05T15:35:55.065586",
     "exception": false,
     "start_time": "2025-08-05T15:35:55.047746",
     "status": "completed"
    },
    "tags": []
   },
   "source": [
    "# Preprocessing Data"
   ]
  },
  {
   "cell_type": "code",
   "execution_count": 19,
   "id": "ca879031",
   "metadata": {
    "execution": {
     "iopub.execute_input": "2025-08-05T15:35:55.102174Z",
     "iopub.status.busy": "2025-08-05T15:35:55.101670Z",
     "iopub.status.idle": "2025-08-05T15:35:55.108384Z",
     "shell.execute_reply": "2025-08-05T15:35:55.107366Z"
    },
    "papermill": {
     "duration": 0.027774,
     "end_time": "2025-08-05T15:35:55.110539",
     "exception": false,
     "start_time": "2025-08-05T15:35:55.082765",
     "status": "completed"
    },
    "tags": []
   },
   "outputs": [],
   "source": [
    "# EXCLUDE PROTECTED FEATURES\n",
    "# ----------------------\n",
    "# \"exclude_features\": \"none\", # \"nationality\", \"sex\", \"nationality-sex\"\n",
    "\n",
    "excluded_features = universe[\"exclude_features\"].split(\"-\") # split, e.g.: \"nationality-sex\" -> [\"nationality\", \"sex\"]\n",
    "excluded_features_dictionary = {\n",
    "    \"nationality\": [\"maxdeutsch1\", \"maxdeutsch.Missing.\"],\n",
    "    \"sex\": [\"frau1\"],\n",
    "    \"age\": [\"age\"],\n",
    "}"
   ]
  },
  {
   "cell_type": "code",
   "execution_count": 20,
   "id": "b745ac60",
   "metadata": {
    "execution": {
     "iopub.execute_input": "2025-08-05T15:35:55.156629Z",
     "iopub.status.busy": "2025-08-05T15:35:55.156062Z",
     "iopub.status.idle": "2025-08-05T15:35:55.162397Z",
     "shell.execute_reply": "2025-08-05T15:35:55.161309Z"
    },
    "papermill": {
     "duration": 0.034427,
     "end_time": "2025-08-05T15:35:55.164122",
     "exception": false,
     "start_time": "2025-08-05T15:35:55.129695",
     "status": "completed"
    },
    "tags": []
   },
   "outputs": [],
   "source": [
    "# Code nice names to column names\n",
    "\n",
    "excluded_features_columns = [\n",
    "    excluded_features_dictionary[f] for f in excluded_features if len(f) > 0 and f != \"none\"\n",
    "]"
   ]
  },
  {
   "cell_type": "code",
   "execution_count": 21,
   "id": "f84f73a2",
   "metadata": {
    "execution": {
     "iopub.execute_input": "2025-08-05T15:35:55.207122Z",
     "iopub.status.busy": "2025-08-05T15:35:55.206585Z",
     "iopub.status.idle": "2025-08-05T15:35:55.213921Z",
     "shell.execute_reply": "2025-08-05T15:35:55.212666Z"
    },
    "papermill": {
     "duration": 0.032797,
     "end_time": "2025-08-05T15:35:55.216071",
     "exception": false,
     "start_time": "2025-08-05T15:35:55.183274",
     "status": "completed"
    },
    "tags": []
   },
   "outputs": [],
   "source": [
    "from utils import flatten_once\n",
    "\n",
    "excluded_features_columns = flatten_once(excluded_features_columns)"
   ]
  },
  {
   "cell_type": "code",
   "execution_count": 22,
   "id": "884dea22",
   "metadata": {
    "execution": {
     "iopub.execute_input": "2025-08-05T15:35:55.264865Z",
     "iopub.status.busy": "2025-08-05T15:35:55.264313Z",
     "iopub.status.idle": "2025-08-05T15:35:55.274186Z",
     "shell.execute_reply": "2025-08-05T15:35:55.272967Z"
    },
    "papermill": {
     "duration": 0.035444,
     "end_time": "2025-08-05T15:35:55.276306",
     "exception": false,
     "start_time": "2025-08-05T15:35:55.240862",
     "status": "completed"
    },
    "tags": []
   },
   "outputs": [
    {
     "name": "stdout",
     "output_type": "stream",
     "text": [
      "Dropping features: ['frau1']\n"
     ]
    }
   ],
   "source": [
    "if len(excluded_features_columns) > 0:\n",
    "    print(f\"Dropping features: {excluded_features_columns}\")\n",
    "    X_train.drop(excluded_features_columns, axis=1, inplace=True)"
   ]
  },
  {
   "cell_type": "code",
   "execution_count": 23,
   "id": "95ab8b16",
   "metadata": {
    "execution": {
     "iopub.execute_input": "2025-08-05T15:35:55.324890Z",
     "iopub.status.busy": "2025-08-05T15:35:55.324341Z",
     "iopub.status.idle": "2025-08-05T15:35:55.379516Z",
     "shell.execute_reply": "2025-08-05T15:35:55.378432Z"
    },
    "papermill": {
     "duration": 0.080537,
     "end_time": "2025-08-05T15:35:55.381462",
     "exception": false,
     "start_time": "2025-08-05T15:35:55.300925",
     "status": "completed"
    },
    "tags": []
   },
   "outputs": [
    {
     "name": "stdout",
     "output_type": "stream",
     "text": [
      "Dropping features: ['frau1']\n"
     ]
    }
   ],
   "source": [
    "if len(excluded_features_columns) > 0:\n",
    "    print(f\"Dropping features: {excluded_features_columns}\")\n",
    "    X_test.drop(excluded_features_columns, axis=1, inplace=True)"
   ]
  },
  {
   "cell_type": "code",
   "execution_count": 24,
   "id": "1853aaf5-fb9f-46cb-a2b5-8ea4ae2237e4",
   "metadata": {
    "execution": {
     "iopub.execute_input": "2025-08-05T15:35:55.428322Z",
     "iopub.status.busy": "2025-08-05T15:35:55.427756Z",
     "iopub.status.idle": "2025-08-05T15:35:55.495420Z",
     "shell.execute_reply": "2025-08-05T15:35:55.494292Z"
    },
    "papermill": {
     "duration": 0.093124,
     "end_time": "2025-08-05T15:35:55.497725",
     "exception": false,
     "start_time": "2025-08-05T15:35:55.404601",
     "status": "completed"
    },
    "tags": []
   },
   "outputs": [
    {
     "name": "stdout",
     "output_type": "stream",
     "text": [
      "Dropping features: ['frau1']\n"
     ]
    }
   ],
   "source": [
    "if len(excluded_features_columns) > 0:\n",
    "    print(f\"Dropping features: {excluded_features_columns}\")\n",
    "    X_calib.drop(excluded_features_columns, axis=1, inplace=True)"
   ]
  },
  {
   "cell_type": "code",
   "execution_count": 25,
   "id": "76c4dc6d",
   "metadata": {
    "execution": {
     "iopub.execute_input": "2025-08-05T15:35:55.548923Z",
     "iopub.status.busy": "2025-08-05T15:35:55.547920Z",
     "iopub.status.idle": "2025-08-05T15:35:55.556527Z",
     "shell.execute_reply": "2025-08-05T15:35:55.555192Z"
    },
    "papermill": {
     "duration": 0.035871,
     "end_time": "2025-08-05T15:35:55.558977",
     "exception": false,
     "start_time": "2025-08-05T15:35:55.523106",
     "status": "completed"
    },
    "tags": []
   },
   "outputs": [],
   "source": [
    "# EXCLUDE CERTAIN SUBGROUPS\n",
    "# ----------------------\n",
    "\n",
    "mode = universe.get(\"exclude_subgroups\", \"keep-all\") \n",
    "# Fetches the exclude_subgroups setting from the universe dict.\n",
    "# Defaults to \"keep-all\" if the key is missing."
   ]
  },
  {
   "cell_type": "code",
   "execution_count": 26,
   "id": "21994072",
   "metadata": {
    "execution": {
     "iopub.execute_input": "2025-08-05T15:35:55.615276Z",
     "iopub.status.busy": "2025-08-05T15:35:55.614794Z",
     "iopub.status.idle": "2025-08-05T15:35:55.622179Z",
     "shell.execute_reply": "2025-08-05T15:35:55.620948Z"
    },
    "papermill": {
     "duration": 0.037863,
     "end_time": "2025-08-05T15:35:55.624482",
     "exception": false,
     "start_time": "2025-08-05T15:35:55.586619",
     "status": "completed"
    },
    "tags": []
   },
   "outputs": [],
   "source": [
    "if mode == \"keep-all\":\n",
    "    keep_mask = pd.Series(True, index=org_train.index)\n",
    "\n",
    "# org_train contains the original feature columns from features_org (in Simson)\n",
    "# features_org contains unprocessed features, for me X_train at beginning ???\n",
    "# For keep-all, creates a boolean Series (keep_mask) of all True, so no rows are removed.\n",
    "\n",
    "elif mode == \"drop-non-german\":\n",
    "    keep_mask = org_train[\"maxdeutsch1\"] == 1 # ??? what about missing values?\n",
    "\n",
    "else:\n",
    "    raise ValueError(f\"Unsupported mode for exclude_subgroups: {mode}\")"
   ]
  },
  {
   "cell_type": "code",
   "execution_count": 27,
   "id": "71651440",
   "metadata": {
    "execution": {
     "iopub.execute_input": "2025-08-05T15:35:55.681773Z",
     "iopub.status.busy": "2025-08-05T15:35:55.680408Z",
     "iopub.status.idle": "2025-08-05T15:35:55.689168Z",
     "shell.execute_reply": "2025-08-05T15:35:55.687745Z"
    },
    "papermill": {
     "duration": 0.039099,
     "end_time": "2025-08-05T15:35:55.690818",
     "exception": false,
     "start_time": "2025-08-05T15:35:55.651719",
     "status": "completed"
    },
    "tags": []
   },
   "outputs": [],
   "source": [
    "n_drop = (~keep_mask).sum() # Calculates how many rows are set to be dropped\n",
    "if n_drop > 0:\n",
    "    pct = n_drop / len(keep_mask) * 100\n",
    "    print(f\"Dropping {n_drop} rows ({pct:.2f}%) where mode='{mode}'\")"
   ]
  },
  {
   "cell_type": "code",
   "execution_count": 28,
   "id": "5fb8eee5",
   "metadata": {
    "execution": {
     "iopub.execute_input": "2025-08-05T15:35:55.743270Z",
     "iopub.status.busy": "2025-08-05T15:35:55.742662Z",
     "iopub.status.idle": "2025-08-05T15:35:55.753689Z",
     "shell.execute_reply": "2025-08-05T15:35:55.752737Z"
    },
    "papermill": {
     "duration": 0.045349,
     "end_time": "2025-08-05T15:35:55.755286",
     "exception": false,
     "start_time": "2025-08-05T15:35:55.709937",
     "status": "completed"
    },
    "tags": []
   },
   "outputs": [],
   "source": [
    "X_train = X_train[keep_mask]"
   ]
  },
  {
   "cell_type": "code",
   "execution_count": 29,
   "id": "b202bb3a",
   "metadata": {
    "execution": {
     "iopub.execute_input": "2025-08-05T15:35:55.811458Z",
     "iopub.status.busy": "2025-08-05T15:35:55.810958Z",
     "iopub.status.idle": "2025-08-05T15:35:55.818342Z",
     "shell.execute_reply": "2025-08-05T15:35:55.817127Z"
    },
    "papermill": {
     "duration": 0.039489,
     "end_time": "2025-08-05T15:35:55.820533",
     "exception": false,
     "start_time": "2025-08-05T15:35:55.781044",
     "status": "completed"
    },
    "tags": []
   },
   "outputs": [],
   "source": [
    "y_train = y_train[keep_mask]"
   ]
  },
  {
   "cell_type": "markdown",
   "id": "493e2ac3",
   "metadata": {
    "papermill": {
     "duration": 0.023147,
     "end_time": "2025-08-05T15:35:55.866836",
     "exception": false,
     "start_time": "2025-08-05T15:35:55.843689",
     "status": "completed"
    },
    "tags": []
   },
   "source": [
    "# Model Training"
   ]
  },
  {
   "cell_type": "code",
   "execution_count": 30,
   "id": "679e1268",
   "metadata": {
    "execution": {
     "iopub.execute_input": "2025-08-05T15:35:55.909661Z",
     "iopub.status.busy": "2025-08-05T15:35:55.909137Z",
     "iopub.status.idle": "2025-08-05T15:35:56.018826Z",
     "shell.execute_reply": "2025-08-05T15:35:56.017767Z"
    },
    "papermill": {
     "duration": 0.133323,
     "end_time": "2025-08-05T15:35:56.020930",
     "exception": false,
     "start_time": "2025-08-05T15:35:55.887607",
     "status": "completed"
    },
    "tags": []
   },
   "outputs": [],
   "source": [
    "from sklearn.linear_model import LogisticRegression\n",
    "from sklearn.ensemble import GradientBoostingClassifier, RandomForestClassifier\n",
    "\n",
    "if (universe[\"model\"] == \"logreg\"):\n",
    "    model = LogisticRegression() #penalty=\"none\", solver=\"newton-cg\", max_iter=1) # include random_state=19 ?\n",
    "elif (universe[\"model\"] == \"penalized_logreg\"):\n",
    "    model = LogisticRegression(penalty=\"l2\", C=0.1) #, solver=\"newton-cg\", max_iter=1)\n",
    "elif (universe[\"model\"] == \"rf\"):\n",
    "    model = RandomForestClassifier() # n_estimators=100, n_jobs=-1\n",
    "elif (universe[\"model\"] == \"gbm\"):\n",
    "    model = GradientBoostingClassifier()\n",
    "elif (universe[\"model\"] == \"elasticnet\"):\n",
    "    model = LogisticRegression(penalty = 'elasticnet', solver = 'saga', l1_ratio = 0.5) # max_iter=5000\n",
    "else:\n",
    "    raise \"Unsupported universe.model\""
   ]
  },
  {
   "cell_type": "code",
   "execution_count": 31,
   "id": "0cc8f744",
   "metadata": {
    "execution": {
     "iopub.execute_input": "2025-08-05T15:35:56.065286Z",
     "iopub.status.busy": "2025-08-05T15:35:56.064480Z",
     "iopub.status.idle": "2025-08-05T15:35:56.071619Z",
     "shell.execute_reply": "2025-08-05T15:35:56.070443Z"
    },
    "papermill": {
     "duration": 0.031363,
     "end_time": "2025-08-05T15:35:56.073511",
     "exception": false,
     "start_time": "2025-08-05T15:35:56.042148",
     "status": "completed"
    },
    "tags": []
   },
   "outputs": [],
   "source": [
    "import numpy as np\n",
    "from sklearn.pipeline import Pipeline\n",
    "from sklearn.preprocessing import StandardScaler\n",
    "\n",
    "model = Pipeline([\n",
    "    #(\"continuous_processor\", continuous_processor),\n",
    "    #(\"categorical_preprocessor\", categorical_preprocessor),\n",
    "    (\"scale\", StandardScaler() if universe[\"scale\"] == \"scale\" else None), \n",
    "    (\"model\", model),\n",
    "])"
   ]
  },
  {
   "cell_type": "code",
   "execution_count": 32,
   "id": "9442c04d",
   "metadata": {
    "execution": {
     "iopub.execute_input": "2025-08-05T15:35:56.120282Z",
     "iopub.status.busy": "2025-08-05T15:35:56.119844Z",
     "iopub.status.idle": "2025-08-05T15:35:56.267383Z",
     "shell.execute_reply": "2025-08-05T15:35:56.266430Z"
    },
    "papermill": {
     "duration": 0.173493,
     "end_time": "2025-08-05T15:35:56.269202",
     "exception": false,
     "start_time": "2025-08-05T15:35:56.095709",
     "status": "completed"
    },
    "tags": []
   },
   "outputs": [
    {
     "data": {
      "text/html": [
       "<style>#sk-container-id-1 {color: black;background-color: white;}#sk-container-id-1 pre{padding: 0;}#sk-container-id-1 div.sk-toggleable {background-color: white;}#sk-container-id-1 label.sk-toggleable__label {cursor: pointer;display: block;width: 100%;margin-bottom: 0;padding: 0.3em;box-sizing: border-box;text-align: center;}#sk-container-id-1 label.sk-toggleable__label-arrow:before {content: \"▸\";float: left;margin-right: 0.25em;color: #696969;}#sk-container-id-1 label.sk-toggleable__label-arrow:hover:before {color: black;}#sk-container-id-1 div.sk-estimator:hover label.sk-toggleable__label-arrow:before {color: black;}#sk-container-id-1 div.sk-toggleable__content {max-height: 0;max-width: 0;overflow: hidden;text-align: left;background-color: #f0f8ff;}#sk-container-id-1 div.sk-toggleable__content pre {margin: 0.2em;color: black;border-radius: 0.25em;background-color: #f0f8ff;}#sk-container-id-1 input.sk-toggleable__control:checked~div.sk-toggleable__content {max-height: 200px;max-width: 100%;overflow: auto;}#sk-container-id-1 input.sk-toggleable__control:checked~label.sk-toggleable__label-arrow:before {content: \"▾\";}#sk-container-id-1 div.sk-estimator input.sk-toggleable__control:checked~label.sk-toggleable__label {background-color: #d4ebff;}#sk-container-id-1 div.sk-label input.sk-toggleable__control:checked~label.sk-toggleable__label {background-color: #d4ebff;}#sk-container-id-1 input.sk-hidden--visually {border: 0;clip: rect(1px 1px 1px 1px);clip: rect(1px, 1px, 1px, 1px);height: 1px;margin: -1px;overflow: hidden;padding: 0;position: absolute;width: 1px;}#sk-container-id-1 div.sk-estimator {font-family: monospace;background-color: #f0f8ff;border: 1px dotted black;border-radius: 0.25em;box-sizing: border-box;margin-bottom: 0.5em;}#sk-container-id-1 div.sk-estimator:hover {background-color: #d4ebff;}#sk-container-id-1 div.sk-parallel-item::after {content: \"\";width: 100%;border-bottom: 1px solid gray;flex-grow: 1;}#sk-container-id-1 div.sk-label:hover label.sk-toggleable__label {background-color: #d4ebff;}#sk-container-id-1 div.sk-serial::before {content: \"\";position: absolute;border-left: 1px solid gray;box-sizing: border-box;top: 0;bottom: 0;left: 50%;z-index: 0;}#sk-container-id-1 div.sk-serial {display: flex;flex-direction: column;align-items: center;background-color: white;padding-right: 0.2em;padding-left: 0.2em;position: relative;}#sk-container-id-1 div.sk-item {position: relative;z-index: 1;}#sk-container-id-1 div.sk-parallel {display: flex;align-items: stretch;justify-content: center;background-color: white;position: relative;}#sk-container-id-1 div.sk-item::before, #sk-container-id-1 div.sk-parallel-item::before {content: \"\";position: absolute;border-left: 1px solid gray;box-sizing: border-box;top: 0;bottom: 0;left: 50%;z-index: -1;}#sk-container-id-1 div.sk-parallel-item {display: flex;flex-direction: column;z-index: 1;position: relative;background-color: white;}#sk-container-id-1 div.sk-parallel-item:first-child::after {align-self: flex-end;width: 50%;}#sk-container-id-1 div.sk-parallel-item:last-child::after {align-self: flex-start;width: 50%;}#sk-container-id-1 div.sk-parallel-item:only-child::after {width: 0;}#sk-container-id-1 div.sk-dashed-wrapped {border: 1px dashed gray;margin: 0 0.4em 0.5em 0.4em;box-sizing: border-box;padding-bottom: 0.4em;background-color: white;}#sk-container-id-1 div.sk-label label {font-family: monospace;font-weight: bold;display: inline-block;line-height: 1.2em;}#sk-container-id-1 div.sk-label-container {text-align: center;}#sk-container-id-1 div.sk-container {/* jupyter's `normalize.less` sets `[hidden] { display: none; }` but bootstrap.min.css set `[hidden] { display: none !important; }` so we also need the `!important` here to be able to override the default hidden behavior on the sphinx rendered scikit-learn.org. See: https://github.com/scikit-learn/scikit-learn/issues/21755 */display: inline-block !important;position: relative;}#sk-container-id-1 div.sk-text-repr-fallback {display: none;}</style><div id=\"sk-container-id-1\" class=\"sk-top-container\"><div class=\"sk-text-repr-fallback\"><pre>Pipeline(steps=[(&#x27;scale&#x27;, StandardScaler()),\n",
       "                (&#x27;model&#x27;, LogisticRegression(C=0.1))])</pre><b>In a Jupyter environment, please rerun this cell to show the HTML representation or trust the notebook. <br />On GitHub, the HTML representation is unable to render, please try loading this page with nbviewer.org.</b></div><div class=\"sk-container\" hidden><div class=\"sk-item sk-dashed-wrapped\"><div class=\"sk-label-container\"><div class=\"sk-label sk-toggleable\"><input class=\"sk-toggleable__control sk-hidden--visually\" id=\"sk-estimator-id-1\" type=\"checkbox\" ><label for=\"sk-estimator-id-1\" class=\"sk-toggleable__label sk-toggleable__label-arrow\">Pipeline</label><div class=\"sk-toggleable__content\"><pre>Pipeline(steps=[(&#x27;scale&#x27;, StandardScaler()),\n",
       "                (&#x27;model&#x27;, LogisticRegression(C=0.1))])</pre></div></div></div><div class=\"sk-serial\"><div class=\"sk-item\"><div class=\"sk-estimator sk-toggleable\"><input class=\"sk-toggleable__control sk-hidden--visually\" id=\"sk-estimator-id-2\" type=\"checkbox\" ><label for=\"sk-estimator-id-2\" class=\"sk-toggleable__label sk-toggleable__label-arrow\">StandardScaler</label><div class=\"sk-toggleable__content\"><pre>StandardScaler()</pre></div></div></div><div class=\"sk-item\"><div class=\"sk-estimator sk-toggleable\"><input class=\"sk-toggleable__control sk-hidden--visually\" id=\"sk-estimator-id-3\" type=\"checkbox\" ><label for=\"sk-estimator-id-3\" class=\"sk-toggleable__label sk-toggleable__label-arrow\">LogisticRegression</label><div class=\"sk-toggleable__content\"><pre>LogisticRegression(C=0.1)</pre></div></div></div></div></div></div></div>"
      ],
      "text/plain": [
       "Pipeline(steps=[('scale', StandardScaler()),\n",
       "                ('model', LogisticRegression(C=0.1))])"
      ]
     },
     "execution_count": 32,
     "metadata": {},
     "output_type": "execute_result"
    }
   ],
   "source": [
    "model.fit(X_train, y_train.values.ravel())"
   ]
  },
  {
   "cell_type": "code",
   "execution_count": 33,
   "id": "af59f8c0",
   "metadata": {
    "execution": {
     "iopub.execute_input": "2025-08-05T15:35:56.310291Z",
     "iopub.status.busy": "2025-08-05T15:35:56.309779Z",
     "iopub.status.idle": "2025-08-05T15:35:56.315277Z",
     "shell.execute_reply": "2025-08-05T15:35:56.314246Z"
    },
    "papermill": {
     "duration": 0.027944,
     "end_time": "2025-08-05T15:35:56.317074",
     "exception": false,
     "start_time": "2025-08-05T15:35:56.289130",
     "status": "completed"
    },
    "tags": []
   },
   "outputs": [],
   "source": [
    "from fairness_multiverse.universe import predict_w_threshold"
   ]
  },
  {
   "cell_type": "code",
   "execution_count": 34,
   "id": "a7cf2e16",
   "metadata": {
    "execution": {
     "iopub.execute_input": "2025-08-05T15:35:56.378095Z",
     "iopub.status.busy": "2025-08-05T15:35:56.377175Z",
     "iopub.status.idle": "2025-08-05T15:35:56.685411Z",
     "shell.execute_reply": "2025-08-05T15:35:56.684213Z"
    },
    "papermill": {
     "duration": 0.33733,
     "end_time": "2025-08-05T15:35:56.687011",
     "exception": false,
     "start_time": "2025-08-05T15:35:56.349681",
     "status": "completed"
    },
    "tags": []
   },
   "outputs": [
    {
     "data": {
      "text/plain": [
       "0.8574740831568387"
      ]
     },
     "execution_count": 34,
     "metadata": {},
     "output_type": "execute_result"
    }
   ],
   "source": [
    "probs_test = model.predict_proba(X_test)\n",
    "\n",
    "'''\n",
    "Below code returns a boolean array (or binary 0/1 array depending on how it’s used) where each element \n",
    "is True if the probability of class 1 is greater than or equal to the threshold, and False otherwise.\n",
    "'''\n",
    "y_pred_default = predict_w_threshold(probs_test, 0.5)\n",
    "\n",
    "from sklearn.metrics import accuracy_score\n",
    "\n",
    "# Naive prediction\n",
    "accuracy_score(y_true = y_true, y_pred = y_pred_default)"
   ]
  },
  {
   "cell_type": "code",
   "execution_count": 35,
   "id": "081964c3",
   "metadata": {
    "execution": {
     "iopub.execute_input": "2025-08-05T15:35:56.727940Z",
     "iopub.status.busy": "2025-08-05T15:35:56.727153Z",
     "iopub.status.idle": "2025-08-05T15:35:56.918700Z",
     "shell.execute_reply": "2025-08-05T15:35:56.917724Z"
    },
    "papermill": {
     "duration": 0.21534,
     "end_time": "2025-08-05T15:35:56.920499",
     "exception": false,
     "start_time": "2025-08-05T15:35:56.705159",
     "status": "completed"
    },
    "tags": []
   },
   "outputs": [
    {
     "data": {
      "text/plain": [
       "array([0, 0, 0, ..., 0, 0, 0])"
      ]
     },
     "execution_count": 35,
     "metadata": {},
     "output_type": "execute_result"
    }
   ],
   "source": [
    "model.predict(X_test)"
   ]
  },
  {
   "cell_type": "markdown",
   "id": "56c9705b",
   "metadata": {
    "papermill": {
     "duration": 0.019339,
     "end_time": "2025-08-05T15:35:56.960070",
     "exception": false,
     "start_time": "2025-08-05T15:35:56.940731",
     "status": "completed"
    },
    "tags": []
   },
   "source": [
    "# Conformal Prediction"
   ]
  },
  {
   "cell_type": "code",
   "execution_count": 36,
   "id": "160ec6ff",
   "metadata": {
    "execution": {
     "iopub.execute_input": "2025-08-05T15:35:57.003238Z",
     "iopub.status.busy": "2025-08-05T15:35:57.002726Z",
     "iopub.status.idle": "2025-08-05T15:35:57.008426Z",
     "shell.execute_reply": "2025-08-05T15:35:57.007470Z"
    },
    "papermill": {
     "duration": 0.029425,
     "end_time": "2025-08-05T15:35:57.010400",
     "exception": false,
     "start_time": "2025-08-05T15:35:56.980975",
     "status": "completed"
    },
    "tags": []
   },
   "outputs": [],
   "source": [
    "# Miscoverage level for conformal prediction (10% allowed error rate => 90% target coverage)\n",
    "alpha = 0.1"
   ]
  },
  {
   "cell_type": "code",
   "execution_count": 37,
   "id": "eadf4555-3dd3-440e-8e35-f82a4ad9f855",
   "metadata": {
    "execution": {
     "iopub.execute_input": "2025-08-05T15:35:57.052981Z",
     "iopub.status.busy": "2025-08-05T15:35:57.052305Z",
     "iopub.status.idle": "2025-08-05T15:35:57.253606Z",
     "shell.execute_reply": "2025-08-05T15:35:57.252507Z"
    },
    "papermill": {
     "duration": 0.225087,
     "end_time": "2025-08-05T15:35:57.255614",
     "exception": false,
     "start_time": "2025-08-05T15:35:57.030527",
     "status": "completed"
    },
    "tags": []
   },
   "outputs": [],
   "source": [
    "probs_calib = model.predict_proba(X_calib)"
   ]
  },
  {
   "cell_type": "code",
   "execution_count": 38,
   "id": "2ed93547-6d5d-4983-9b36-1ecb300da49a",
   "metadata": {
    "execution": {
     "iopub.execute_input": "2025-08-05T15:35:57.298460Z",
     "iopub.status.busy": "2025-08-05T15:35:57.297495Z",
     "iopub.status.idle": "2025-08-05T15:35:57.303657Z",
     "shell.execute_reply": "2025-08-05T15:35:57.302499Z"
    },
    "papermill": {
     "duration": 0.029905,
     "end_time": "2025-08-05T15:35:57.305895",
     "exception": false,
     "start_time": "2025-08-05T15:35:57.275990",
     "status": "completed"
    },
    "tags": []
   },
   "outputs": [],
   "source": [
    "y_calib = y_calib.values.ravel().astype(int)"
   ]
  },
  {
   "cell_type": "code",
   "execution_count": 39,
   "id": "65d1320d-f588-4b38-9072-62af1ae97f7d",
   "metadata": {
    "execution": {
     "iopub.execute_input": "2025-08-05T15:35:57.342906Z",
     "iopub.status.busy": "2025-08-05T15:35:57.342557Z",
     "iopub.status.idle": "2025-08-05T15:35:57.348632Z",
     "shell.execute_reply": "2025-08-05T15:35:57.347844Z"
    },
    "papermill": {
     "duration": 0.019103,
     "end_time": "2025-08-05T15:35:57.350152",
     "exception": false,
     "start_time": "2025-08-05T15:35:57.331049",
     "status": "completed"
    },
    "tags": []
   },
   "outputs": [],
   "source": [
    "from fairness_multiverse.conformal import compute_nc_scores\n",
    "\n",
    "# Compute nonconformity scores on calibration set (1 - probability of true class)\n",
    "nc_scores = compute_nc_scores(probs_calib, y_calib)"
   ]
  },
  {
   "cell_type": "code",
   "execution_count": 40,
   "id": "df3b8ca3-53b7-43d5-9667-7c85da7aeda2",
   "metadata": {
    "execution": {
     "iopub.execute_input": "2025-08-05T15:35:57.373491Z",
     "iopub.status.busy": "2025-08-05T15:35:57.372792Z",
     "iopub.status.idle": "2025-08-05T15:35:57.380215Z",
     "shell.execute_reply": "2025-08-05T15:35:57.378926Z"
    },
    "papermill": {
     "duration": 0.021098,
     "end_time": "2025-08-05T15:35:57.382353",
     "exception": false,
     "start_time": "2025-08-05T15:35:57.361255",
     "status": "completed"
    },
    "tags": []
   },
   "outputs": [],
   "source": [
    "from fairness_multiverse.conformal import find_threshold\n",
    "\n",
    "# Find conformal threshold q_hat for the given alpha (split conformal method)\n",
    "q_hat = find_threshold(nc_scores, alpha)"
   ]
  },
  {
   "cell_type": "code",
   "execution_count": 41,
   "id": "4d29e6c1-0ef6-4aa4-b8fe-4fe79b0d033a",
   "metadata": {
    "execution": {
     "iopub.execute_input": "2025-08-05T15:35:57.417736Z",
     "iopub.status.busy": "2025-08-05T15:35:57.417121Z",
     "iopub.status.idle": "2025-08-05T15:35:57.427979Z",
     "shell.execute_reply": "2025-08-05T15:35:57.426485Z"
    },
    "papermill": {
     "duration": 0.025527,
     "end_time": "2025-08-05T15:35:57.430431",
     "exception": false,
     "start_time": "2025-08-05T15:35:57.404904",
     "status": "completed"
    },
    "tags": []
   },
   "outputs": [
    {
     "data": {
      "text/plain": [
       "0.684762707581767"
      ]
     },
     "execution_count": 41,
     "metadata": {},
     "output_type": "execute_result"
    }
   ],
   "source": [
    "q_hat"
   ]
  },
  {
   "cell_type": "code",
   "execution_count": 42,
   "id": "92460794-cdac-4be2-ba28-f28c0515a6fb",
   "metadata": {
    "execution": {
     "iopub.execute_input": "2025-08-05T15:35:57.495287Z",
     "iopub.status.busy": "2025-08-05T15:35:57.494799Z",
     "iopub.status.idle": "2025-08-05T15:35:58.276252Z",
     "shell.execute_reply": "2025-08-05T15:35:58.275492Z"
    },
    "papermill": {
     "duration": 0.816225,
     "end_time": "2025-08-05T15:35:58.278140",
     "exception": false,
     "start_time": "2025-08-05T15:35:57.461915",
     "status": "completed"
    },
    "tags": []
   },
   "outputs": [],
   "source": [
    "from fairness_multiverse.conformal import predict_conformal_sets\n",
    "\n",
    "# Generate prediction sets for each test example\n",
    "pred_sets = predict_conformal_sets(model, X_test, q_hat)"
   ]
  },
  {
   "cell_type": "code",
   "execution_count": 43,
   "id": "d90c9a65-e6db-4f5d-80cd-e68fb7e46829",
   "metadata": {
    "execution": {
     "iopub.execute_input": "2025-08-05T15:35:58.324369Z",
     "iopub.status.busy": "2025-08-05T15:35:58.323604Z",
     "iopub.status.idle": "2025-08-05T15:35:58.329186Z",
     "shell.execute_reply": "2025-08-05T15:35:58.328197Z"
    },
    "papermill": {
     "duration": 0.030411,
     "end_time": "2025-08-05T15:35:58.331251",
     "exception": false,
     "start_time": "2025-08-05T15:35:58.300840",
     "status": "completed"
    },
    "tags": []
   },
   "outputs": [],
   "source": [
    "y_true = y_true.squeeze()"
   ]
  },
  {
   "cell_type": "code",
   "execution_count": 44,
   "id": "3a58a54a-1e68-46b9-927a-df01f18aebc8",
   "metadata": {
    "execution": {
     "iopub.execute_input": "2025-08-05T15:35:58.377569Z",
     "iopub.status.busy": "2025-08-05T15:35:58.377176Z",
     "iopub.status.idle": "2025-08-05T15:35:59.010060Z",
     "shell.execute_reply": "2025-08-05T15:35:59.009265Z"
    },
    "papermill": {
     "duration": 0.658513,
     "end_time": "2025-08-05T15:35:59.011935",
     "exception": false,
     "start_time": "2025-08-05T15:35:58.353422",
     "status": "completed"
    },
    "tags": []
   },
   "outputs": [],
   "source": [
    "from fairness_multiverse.conformal import evaluate_sets\n",
    "\n",
    "# Evaluate coverage and average set size on test data\n",
    "metrics = evaluate_sets(pred_sets, y_true)"
   ]
  },
  {
   "cell_type": "markdown",
   "id": "2b569c12-9aaa-4c88-98c9-bbcd0cf3ebb8",
   "metadata": {
    "papermill": {
     "duration": 0.012392,
     "end_time": "2025-08-05T15:35:59.047092",
     "exception": false,
     "start_time": "2025-08-05T15:35:59.034700",
     "status": "completed"
    },
    "tags": []
   },
   "source": [
    "# CP Metrics"
   ]
  },
  {
   "cell_type": "code",
   "execution_count": 45,
   "id": "5ce0a5cb-201f-45a0-ade5-94c7f0bd6095",
   "metadata": {
    "execution": {
     "iopub.execute_input": "2025-08-05T15:35:59.068677Z",
     "iopub.status.busy": "2025-08-05T15:35:59.068358Z",
     "iopub.status.idle": "2025-08-05T15:35:59.074617Z",
     "shell.execute_reply": "2025-08-05T15:35:59.073837Z"
    },
    "papermill": {
     "duration": 0.018428,
     "end_time": "2025-08-05T15:35:59.076002",
     "exception": false,
     "start_time": "2025-08-05T15:35:59.057574",
     "status": "completed"
    },
    "tags": []
   },
   "outputs": [
    {
     "data": {
      "text/plain": [
       "{'coverage': 0.9111247352580537, 'avg_size': 1.1366402853639506}"
      ]
     },
     "execution_count": 45,
     "metadata": {},
     "output_type": "execute_result"
    }
   ],
   "source": [
    "metrics"
   ]
  },
  {
   "cell_type": "code",
   "execution_count": 46,
   "id": "9b9a838d-31c9-430b-ae14-12baee460d17",
   "metadata": {
    "execution": {
     "iopub.execute_input": "2025-08-05T15:35:59.098166Z",
     "iopub.status.busy": "2025-08-05T15:35:59.097598Z",
     "iopub.status.idle": "2025-08-05T15:35:59.102500Z",
     "shell.execute_reply": "2025-08-05T15:35:59.101748Z"
    },
    "papermill": {
     "duration": 0.017267,
     "end_time": "2025-08-05T15:35:59.103958",
     "exception": false,
     "start_time": "2025-08-05T15:35:59.086691",
     "status": "completed"
    },
    "tags": []
   },
   "outputs": [],
   "source": [
    "example_universe = universe.copy()\n",
    "universe_training_year = example_universe.get(\"training_year\")\n",
    "universe_training_size = example_universe.get(\"training_size\")\n",
    "universe_scale = example_universe.get(\"scale\")\n",
    "universe_model = example_universe.get(\"model\")\n",
    "universe_exclude_features = example_universe.get(\"exclude_features\")\n",
    "universe_exclude_subgroups = example_universe.get(\"exclude_subgroups\")"
   ]
  },
  {
   "cell_type": "code",
   "execution_count": 47,
   "id": "f4b6a8ac-9dc0-4245-8a91-5b3b5999c4f9",
   "metadata": {
    "execution": {
     "iopub.execute_input": "2025-08-05T15:35:59.126415Z",
     "iopub.status.busy": "2025-08-05T15:35:59.126195Z",
     "iopub.status.idle": "2025-08-05T15:35:59.130600Z",
     "shell.execute_reply": "2025-08-05T15:35:59.129882Z"
    },
    "papermill": {
     "duration": 0.017132,
     "end_time": "2025-08-05T15:35:59.132118",
     "exception": false,
     "start_time": "2025-08-05T15:35:59.114986",
     "status": "completed"
    },
    "tags": []
   },
   "outputs": [],
   "source": [
    "cp_metrics_dict = {\n",
    "    \"universe_id\": [universe_id],\n",
    "    \"universe_training_year\": [universe_training_year],\n",
    "    \"universe_training_size\": [universe_training_size],\n",
    "    \"universe_scale\": [universe_scale],\n",
    "    \"universe_model\": [universe_model],\n",
    "    \"universe_exclude_features\": [universe_exclude_features],\n",
    "    \"universe_exclude_subgroups\": [universe_exclude_subgroups],\n",
    "    \"q_hat\": [q_hat],\n",
    "    \"coverage\": [metrics[\"coverage\"]],\n",
    "    \"avg_size\": [metrics[\"avg_size\"]],\n",
    "}"
   ]
  },
  {
   "cell_type": "code",
   "execution_count": 48,
   "id": "908acbb1-0371-4915-85ca-3fa520d2efe2",
   "metadata": {
    "execution": {
     "iopub.execute_input": "2025-08-05T15:35:59.170274Z",
     "iopub.status.busy": "2025-08-05T15:35:59.169858Z",
     "iopub.status.idle": "2025-08-05T15:35:59.177304Z",
     "shell.execute_reply": "2025-08-05T15:35:59.176337Z"
    },
    "papermill": {
     "duration": 0.030676,
     "end_time": "2025-08-05T15:35:59.178803",
     "exception": false,
     "start_time": "2025-08-05T15:35:59.148127",
     "status": "completed"
    },
    "tags": []
   },
   "outputs": [
    {
     "data": {
      "text/plain": [
       "{'universe_id': ['e2c6a06f828e1fc0478bae5e101f7810'],\n",
       " 'universe_training_year': ['2012_14'],\n",
       " 'universe_training_size': ['5k'],\n",
       " 'universe_scale': ['scale'],\n",
       " 'universe_model': ['penalized_logreg'],\n",
       " 'universe_exclude_features': ['sex'],\n",
       " 'universe_exclude_subgroups': ['keep-all'],\n",
       " 'q_hat': [0.684762707581767],\n",
       " 'coverage': [0.9111247352580537],\n",
       " 'avg_size': [1.1366402853639506]}"
      ]
     },
     "execution_count": 48,
     "metadata": {},
     "output_type": "execute_result"
    }
   ],
   "source": [
    "cp_metrics_dict"
   ]
  },
  {
   "cell_type": "code",
   "execution_count": 49,
   "id": "33007efc-14e9-4ec6-97ac-56a455c82265",
   "metadata": {
    "execution": {
     "iopub.execute_input": "2025-08-05T15:35:59.205618Z",
     "iopub.status.busy": "2025-08-05T15:35:59.205227Z",
     "iopub.status.idle": "2025-08-05T15:35:59.210954Z",
     "shell.execute_reply": "2025-08-05T15:35:59.209810Z"
    },
    "papermill": {
     "duration": 0.019487,
     "end_time": "2025-08-05T15:35:59.212740",
     "exception": false,
     "start_time": "2025-08-05T15:35:59.193253",
     "status": "completed"
    },
    "tags": []
   },
   "outputs": [],
   "source": [
    "cp_metrics_df = pd.DataFrame(cp_metrics_dict)"
   ]
  },
  {
   "cell_type": "code",
   "execution_count": 50,
   "id": "db12611b-57b2-4910-b9d0-355adfd6e7bf",
   "metadata": {
    "execution": {
     "iopub.execute_input": "2025-08-05T15:35:59.257751Z",
     "iopub.status.busy": "2025-08-05T15:35:59.256889Z",
     "iopub.status.idle": "2025-08-05T15:35:59.278499Z",
     "shell.execute_reply": "2025-08-05T15:35:59.277183Z"
    },
    "papermill": {
     "duration": 0.045779,
     "end_time": "2025-08-05T15:35:59.280241",
     "exception": false,
     "start_time": "2025-08-05T15:35:59.234462",
     "status": "completed"
    },
    "tags": []
   },
   "outputs": [
    {
     "data": {
      "text/html": [
       "<div>\n",
       "<style scoped>\n",
       "    .dataframe tbody tr th:only-of-type {\n",
       "        vertical-align: middle;\n",
       "    }\n",
       "\n",
       "    .dataframe tbody tr th {\n",
       "        vertical-align: top;\n",
       "    }\n",
       "\n",
       "    .dataframe thead th {\n",
       "        text-align: right;\n",
       "    }\n",
       "</style>\n",
       "<table border=\"1\" class=\"dataframe\">\n",
       "  <thead>\n",
       "    <tr style=\"text-align: right;\">\n",
       "      <th></th>\n",
       "      <th>universe_id</th>\n",
       "      <th>universe_training_year</th>\n",
       "      <th>universe_training_size</th>\n",
       "      <th>universe_scale</th>\n",
       "      <th>universe_model</th>\n",
       "      <th>universe_exclude_features</th>\n",
       "      <th>universe_exclude_subgroups</th>\n",
       "      <th>q_hat</th>\n",
       "      <th>coverage</th>\n",
       "      <th>avg_size</th>\n",
       "    </tr>\n",
       "  </thead>\n",
       "  <tbody>\n",
       "    <tr>\n",
       "      <th>0</th>\n",
       "      <td>e2c6a06f828e1fc0478bae5e101f7810</td>\n",
       "      <td>2012_14</td>\n",
       "      <td>5k</td>\n",
       "      <td>scale</td>\n",
       "      <td>penalized_logreg</td>\n",
       "      <td>sex</td>\n",
       "      <td>keep-all</td>\n",
       "      <td>0.684763</td>\n",
       "      <td>0.911125</td>\n",
       "      <td>1.13664</td>\n",
       "    </tr>\n",
       "  </tbody>\n",
       "</table>\n",
       "</div>"
      ],
      "text/plain": [
       "                        universe_id universe_training_year  \\\n",
       "0  e2c6a06f828e1fc0478bae5e101f7810                2012_14   \n",
       "\n",
       "  universe_training_size universe_scale    universe_model  \\\n",
       "0                     5k          scale  penalized_logreg   \n",
       "\n",
       "  universe_exclude_features universe_exclude_subgroups     q_hat  coverage  \\\n",
       "0                       sex                   keep-all  0.684763  0.911125   \n",
       "\n",
       "   avg_size  \n",
       "0   1.13664  "
      ]
     },
     "execution_count": 50,
     "metadata": {},
     "output_type": "execute_result"
    }
   ],
   "source": [
    "cp_metrics_df"
   ]
  },
  {
   "cell_type": "code",
   "execution_count": 51,
   "id": "b7fbde55-a0a1-47e4-9af6-fe4a17fa8c61",
   "metadata": {
    "execution": {
     "iopub.execute_input": "2025-08-05T15:35:59.326744Z",
     "iopub.status.busy": "2025-08-05T15:35:59.326280Z",
     "iopub.status.idle": "2025-08-05T15:35:59.331459Z",
     "shell.execute_reply": "2025-08-05T15:35:59.330372Z"
    },
    "papermill": {
     "duration": 0.030831,
     "end_time": "2025-08-05T15:35:59.333193",
     "exception": false,
     "start_time": "2025-08-05T15:35:59.302362",
     "status": "completed"
    },
    "tags": []
   },
   "outputs": [],
   "source": [
    "# Conditional Coverage & looking at subgroups"
   ]
  },
  {
   "cell_type": "code",
   "execution_count": 52,
   "id": "027ae886-68dd-4141-96c7-805a5450e1ef",
   "metadata": {
    "execution": {
     "iopub.execute_input": "2025-08-05T15:35:59.379570Z",
     "iopub.status.busy": "2025-08-05T15:35:59.378705Z",
     "iopub.status.idle": "2025-08-05T15:35:59.636124Z",
     "shell.execute_reply": "2025-08-05T15:35:59.635357Z"
    },
    "papermill": {
     "duration": 0.282458,
     "end_time": "2025-08-05T15:35:59.638540",
     "exception": false,
     "start_time": "2025-08-05T15:35:59.356082",
     "status": "completed"
    },
    "tags": []
   },
   "outputs": [],
   "source": [
    "from fairness_multiverse.conformal import build_cp_groups\n",
    "\n",
    "cp_groups_df = build_cp_groups(pred_sets, y_true, X_test.index, org_test)\n",
    "#needs universe_id and setting"
   ]
  },
  {
   "cell_type": "code",
   "execution_count": 53,
   "id": "6cbdab96-b2b2-45af-ad54-d0516db2e28d",
   "metadata": {
    "execution": {
     "iopub.execute_input": "2025-08-05T15:35:59.706714Z",
     "iopub.status.busy": "2025-08-05T15:35:59.706186Z",
     "iopub.status.idle": "2025-08-05T15:36:00.840133Z",
     "shell.execute_reply": "2025-08-05T15:36:00.839374Z"
    },
    "papermill": {
     "duration": 1.169396,
     "end_time": "2025-08-05T15:36:00.841610",
     "exception": false,
     "start_time": "2025-08-05T15:35:59.672214",
     "status": "completed"
    },
    "tags": []
   },
   "outputs": [],
   "source": [
    "# Define covered = 1 if true_label is in the predicted set\n",
    "cp_groups_df['covered'] = cp_groups_df.apply(\n",
    "    lambda r: int(r['true_label'] in r['pred_set']),\n",
    "    axis=1\n",
    ")"
   ]
  },
  {
   "cell_type": "code",
   "execution_count": 54,
   "id": "338ff529-1a6b-4b87-a931-8e4788d52aad",
   "metadata": {
    "execution": {
     "iopub.execute_input": "2025-08-05T15:36:00.865794Z",
     "iopub.status.busy": "2025-08-05T15:36:00.865293Z",
     "iopub.status.idle": "2025-08-05T15:36:00.869374Z",
     "shell.execute_reply": "2025-08-05T15:36:00.868578Z"
    },
    "papermill": {
     "duration": 0.017239,
     "end_time": "2025-08-05T15:36:00.870890",
     "exception": false,
     "start_time": "2025-08-05T15:36:00.853651",
     "status": "completed"
    },
    "tags": []
   },
   "outputs": [],
   "source": [
    "#cp_groups_df"
   ]
  },
  {
   "cell_type": "code",
   "execution_count": 55,
   "id": "90032e27-66df-4540-9169-4e89cfbaa758",
   "metadata": {
    "execution": {
     "iopub.execute_input": "2025-08-05T15:36:00.894990Z",
     "iopub.status.busy": "2025-08-05T15:36:00.894270Z",
     "iopub.status.idle": "2025-08-05T15:36:00.903601Z",
     "shell.execute_reply": "2025-08-05T15:36:00.902846Z"
    },
    "papermill": {
     "duration": 0.02221,
     "end_time": "2025-08-05T15:36:00.904847",
     "exception": false,
     "start_time": "2025-08-05T15:36:00.882637",
     "status": "completed"
    },
    "tags": []
   },
   "outputs": [],
   "source": [
    "subgroups = ['frau1','nongerman','nongerman_male','nongerman_female']\n",
    "\n",
    "# Conditional coverage for subgroup==1\n",
    "cond_coverage = {\n",
    "    g: cp_groups_df.loc[cp_groups_df[g]==1, 'covered'].mean()\n",
    "    for g in subgroups\n",
    "}"
   ]
  },
  {
   "cell_type": "code",
   "execution_count": 56,
   "id": "1e348fb1-b9c3-45bc-ba23-f016827a7e0d",
   "metadata": {
    "execution": {
     "iopub.execute_input": "2025-08-05T15:36:00.929194Z",
     "iopub.status.busy": "2025-08-05T15:36:00.928533Z",
     "iopub.status.idle": "2025-08-05T15:36:00.934832Z",
     "shell.execute_reply": "2025-08-05T15:36:00.934077Z"
    },
    "papermill": {
     "duration": 0.019618,
     "end_time": "2025-08-05T15:36:00.936313",
     "exception": false,
     "start_time": "2025-08-05T15:36:00.916695",
     "status": "completed"
    },
    "tags": []
   },
   "outputs": [
    {
     "data": {
      "text/plain": [
       "{'frau1': 0.9082895268904165,\n",
       " 'nongerman': 0.9128164823443552,\n",
       " 'nongerman_male': 0.9281275330991624,\n",
       " 'nongerman_female': 0.8874813710879285}"
      ]
     },
     "execution_count": 56,
     "metadata": {},
     "output_type": "execute_result"
    }
   ],
   "source": [
    "cond_coverage"
   ]
  },
  {
   "cell_type": "code",
   "execution_count": 57,
   "id": "f5093324-c3dd-4d63-bc4c-8d945e5c8bbb",
   "metadata": {
    "execution": {
     "iopub.execute_input": "2025-08-05T15:36:00.961726Z",
     "iopub.status.busy": "2025-08-05T15:36:00.961210Z",
     "iopub.status.idle": "2025-08-05T15:36:00.967382Z",
     "shell.execute_reply": "2025-08-05T15:36:00.966662Z"
    },
    "papermill": {
     "duration": 0.019962,
     "end_time": "2025-08-05T15:36:00.968895",
     "exception": false,
     "start_time": "2025-08-05T15:36:00.948933",
     "status": "completed"
    },
    "tags": []
   },
   "outputs": [],
   "source": [
    "for subgroup, cov in cond_coverage.items():\n",
    "    cp_metrics_df[f\"cov_{subgroup}\"] = cov"
   ]
  },
  {
   "cell_type": "code",
   "execution_count": 58,
   "id": "6e872e10-dbe5-49e8-b554-5030c98ff75d",
   "metadata": {
    "execution": {
     "iopub.execute_input": "2025-08-05T15:36:00.994610Z",
     "iopub.status.busy": "2025-08-05T15:36:00.993794Z",
     "iopub.status.idle": "2025-08-05T15:36:01.007744Z",
     "shell.execute_reply": "2025-08-05T15:36:01.006754Z"
    },
    "papermill": {
     "duration": 0.027693,
     "end_time": "2025-08-05T15:36:01.009262",
     "exception": false,
     "start_time": "2025-08-05T15:36:00.981569",
     "status": "completed"
    },
    "tags": []
   },
   "outputs": [
    {
     "data": {
      "text/html": [
       "<div>\n",
       "<style scoped>\n",
       "    .dataframe tbody tr th:only-of-type {\n",
       "        vertical-align: middle;\n",
       "    }\n",
       "\n",
       "    .dataframe tbody tr th {\n",
       "        vertical-align: top;\n",
       "    }\n",
       "\n",
       "    .dataframe thead th {\n",
       "        text-align: right;\n",
       "    }\n",
       "</style>\n",
       "<table border=\"1\" class=\"dataframe\">\n",
       "  <thead>\n",
       "    <tr style=\"text-align: right;\">\n",
       "      <th></th>\n",
       "      <th>universe_id</th>\n",
       "      <th>universe_training_year</th>\n",
       "      <th>universe_training_size</th>\n",
       "      <th>universe_scale</th>\n",
       "      <th>universe_model</th>\n",
       "      <th>universe_exclude_features</th>\n",
       "      <th>universe_exclude_subgroups</th>\n",
       "      <th>q_hat</th>\n",
       "      <th>coverage</th>\n",
       "      <th>avg_size</th>\n",
       "      <th>cov_frau1</th>\n",
       "      <th>cov_nongerman</th>\n",
       "      <th>cov_nongerman_male</th>\n",
       "      <th>cov_nongerman_female</th>\n",
       "    </tr>\n",
       "  </thead>\n",
       "  <tbody>\n",
       "    <tr>\n",
       "      <th>0</th>\n",
       "      <td>e2c6a06f828e1fc0478bae5e101f7810</td>\n",
       "      <td>2012_14</td>\n",
       "      <td>5k</td>\n",
       "      <td>scale</td>\n",
       "      <td>penalized_logreg</td>\n",
       "      <td>sex</td>\n",
       "      <td>keep-all</td>\n",
       "      <td>0.684763</td>\n",
       "      <td>0.911125</td>\n",
       "      <td>1.13664</td>\n",
       "      <td>0.90829</td>\n",
       "      <td>0.912816</td>\n",
       "      <td>0.928128</td>\n",
       "      <td>0.887481</td>\n",
       "    </tr>\n",
       "  </tbody>\n",
       "</table>\n",
       "</div>"
      ],
      "text/plain": [
       "                        universe_id universe_training_year  \\\n",
       "0  e2c6a06f828e1fc0478bae5e101f7810                2012_14   \n",
       "\n",
       "  universe_training_size universe_scale    universe_model  \\\n",
       "0                     5k          scale  penalized_logreg   \n",
       "\n",
       "  universe_exclude_features universe_exclude_subgroups     q_hat  coverage  \\\n",
       "0                       sex                   keep-all  0.684763  0.911125   \n",
       "\n",
       "   avg_size  cov_frau1  cov_nongerman  cov_nongerman_male  \\\n",
       "0   1.13664    0.90829       0.912816            0.928128   \n",
       "\n",
       "   cov_nongerman_female  \n",
       "0              0.887481  "
      ]
     },
     "execution_count": 58,
     "metadata": {},
     "output_type": "execute_result"
    }
   ],
   "source": [
    "cp_metrics_df"
   ]
  },
  {
   "cell_type": "markdown",
   "id": "33774451",
   "metadata": {
    "papermill": {
     "duration": 0.010991,
     "end_time": "2025-08-05T15:36:01.032912",
     "exception": false,
     "start_time": "2025-08-05T15:36:01.021921",
     "status": "completed"
    },
    "tags": []
   },
   "source": [
    "# (Fairness) Metrics"
   ]
  },
  {
   "cell_type": "code",
   "execution_count": 59,
   "id": "debc5d62",
   "metadata": {
    "execution": {
     "iopub.execute_input": "2025-08-05T15:36:01.056615Z",
     "iopub.status.busy": "2025-08-05T15:36:01.055903Z",
     "iopub.status.idle": "2025-08-05T15:36:01.069954Z",
     "shell.execute_reply": "2025-08-05T15:36:01.069229Z"
    },
    "papermill": {
     "duration": 0.027508,
     "end_time": "2025-08-05T15:36:01.071450",
     "exception": false,
     "start_time": "2025-08-05T15:36:01.043942",
     "status": "completed"
    },
    "tags": []
   },
   "outputs": [],
   "source": [
    "# do I need to include maxdeutsch1.missing?\n",
    "\n",
    "import numpy as np\n",
    "\n",
    "colname_to_bin = \"maxdeutsch1\"\n",
    "majority_value = org_train[colname_to_bin].mode()[0]\n",
    "\n",
    "org_test[\"majmin\"] = np.where(org_test[colname_to_bin] == majority_value, \"majority\", \"minority\")"
   ]
  },
  {
   "cell_type": "code",
   "execution_count": 60,
   "id": "06a50de5",
   "metadata": {
    "execution": {
     "iopub.execute_input": "2025-08-05T15:36:01.095943Z",
     "iopub.status.busy": "2025-08-05T15:36:01.095287Z",
     "iopub.status.idle": "2025-08-05T15:36:02.873787Z",
     "shell.execute_reply": "2025-08-05T15:36:02.873019Z"
    },
    "papermill": {
     "duration": 1.791833,
     "end_time": "2025-08-05T15:36:02.875193",
     "exception": false,
     "start_time": "2025-08-05T15:36:01.083360",
     "status": "completed"
    },
    "tags": []
   },
   "outputs": [],
   "source": [
    "example_universe = universe.copy()\n",
    "example_universe[\"cutoff\"] = example_universe[\"cutoff\"][0]\n",
    "example_universe[\"eval_fairness_grouping\"] = example_universe[\"eval_fairness_grouping\"][0]\n",
    "fairness_dict, metric_frame = universe_analysis.compute_metrics(\n",
    "    example_universe,\n",
    "    y_pred_prob=probs_test,\n",
    "    y_test=y_true,\n",
    "    org_test=org_test,\n",
    ")"
   ]
  },
  {
   "cell_type": "markdown",
   "id": "f95d4e02",
   "metadata": {
    "papermill": {
     "duration": 0.033388,
     "end_time": "2025-08-05T15:36:02.927395",
     "exception": false,
     "start_time": "2025-08-05T15:36:02.894007",
     "status": "completed"
    },
    "tags": []
   },
   "source": [
    "# Overall"
   ]
  },
  {
   "cell_type": "markdown",
   "id": "bdee4871",
   "metadata": {
    "papermill": {
     "duration": 0.011966,
     "end_time": "2025-08-05T15:36:02.958713",
     "exception": false,
     "start_time": "2025-08-05T15:36:02.946747",
     "status": "completed"
    },
    "tags": []
   },
   "source": [
    "Fairness\n",
    "Main fairness target: Equalized Odds. Seems to be a better fit than equal opportunity, since we're not only interested in Y = 1. Seems to be a better fit than demographic parity, since we also care about accuracy, not just equal distribution of preds.\n",
    "\n",
    "Pick column for computation of fairness metrics\n",
    "\n",
    "Performance\n",
    "Overall performance measures, most interesting in relation to the measures split by group below"
   ]
  },
  {
   "cell_type": "code",
   "execution_count": 61,
   "id": "c4e067c6",
   "metadata": {
    "execution": {
     "iopub.execute_input": "2025-08-05T15:36:02.988148Z",
     "iopub.status.busy": "2025-08-05T15:36:02.987189Z",
     "iopub.status.idle": "2025-08-05T15:36:02.996263Z",
     "shell.execute_reply": "2025-08-05T15:36:02.995020Z"
    },
    "papermill": {
     "duration": 0.028611,
     "end_time": "2025-08-05T15:36:02.998739",
     "exception": false,
     "start_time": "2025-08-05T15:36:02.970128",
     "status": "completed"
    },
    "tags": []
   },
   "outputs": [
    {
     "data": {
      "text/plain": [
       "accuracy                   0.224044\n",
       "balanced accuracy          0.547888\n",
       "f1                         0.245385\n",
       "precision                  0.140180\n",
       "false positive rate        0.887714\n",
       "false negative rate        0.016510\n",
       "selection rate             0.900000\n",
       "count                  89710.000000\n",
       "dtype: float64"
      ]
     },
     "execution_count": 61,
     "metadata": {},
     "output_type": "execute_result"
    }
   ],
   "source": [
    "metric_frame.overall"
   ]
  },
  {
   "cell_type": "markdown",
   "id": "e968fe9d",
   "metadata": {
    "papermill": {
     "duration": 0.01976,
     "end_time": "2025-08-05T15:36:03.051118",
     "exception": false,
     "start_time": "2025-08-05T15:36:03.031358",
     "status": "completed"
    },
    "tags": []
   },
   "source": [
    "By Group"
   ]
  },
  {
   "cell_type": "code",
   "execution_count": 62,
   "id": "ec325bce",
   "metadata": {
    "execution": {
     "iopub.execute_input": "2025-08-05T15:36:03.087401Z",
     "iopub.status.busy": "2025-08-05T15:36:03.086924Z",
     "iopub.status.idle": "2025-08-05T15:36:03.104920Z",
     "shell.execute_reply": "2025-08-05T15:36:03.103806Z"
    },
    "papermill": {
     "duration": 0.034185,
     "end_time": "2025-08-05T15:36:03.106634",
     "exception": false,
     "start_time": "2025-08-05T15:36:03.072449",
     "status": "completed"
    },
    "tags": []
   },
   "outputs": [
    {
     "data": {
      "text/html": [
       "<div>\n",
       "<style scoped>\n",
       "    .dataframe tbody tr th:only-of-type {\n",
       "        vertical-align: middle;\n",
       "    }\n",
       "\n",
       "    .dataframe tbody tr th {\n",
       "        vertical-align: top;\n",
       "    }\n",
       "\n",
       "    .dataframe thead th {\n",
       "        text-align: right;\n",
       "    }\n",
       "</style>\n",
       "<table border=\"1\" class=\"dataframe\">\n",
       "  <thead>\n",
       "    <tr style=\"text-align: right;\">\n",
       "      <th></th>\n",
       "      <th>accuracy</th>\n",
       "      <th>balanced accuracy</th>\n",
       "      <th>f1</th>\n",
       "      <th>precision</th>\n",
       "      <th>false positive rate</th>\n",
       "      <th>false negative rate</th>\n",
       "      <th>selection rate</th>\n",
       "      <th>count</th>\n",
       "    </tr>\n",
       "    <tr>\n",
       "      <th>majmin</th>\n",
       "      <th></th>\n",
       "      <th></th>\n",
       "      <th></th>\n",
       "      <th></th>\n",
       "      <th></th>\n",
       "      <th></th>\n",
       "      <th></th>\n",
       "      <th></th>\n",
       "    </tr>\n",
       "  </thead>\n",
       "  <tbody>\n",
       "    <tr>\n",
       "      <th>majority</th>\n",
       "      <td>0.247940</td>\n",
       "      <td>0.558740</td>\n",
       "      <td>0.256390</td>\n",
       "      <td>0.147461</td>\n",
       "      <td>0.863701</td>\n",
       "      <td>0.018818</td>\n",
       "      <td>0.879225</td>\n",
       "      <td>69170.0</td>\n",
       "    </tr>\n",
       "    <tr>\n",
       "      <th>minority</th>\n",
       "      <td>0.143574</td>\n",
       "      <td>0.512681</td>\n",
       "      <td>0.210847</td>\n",
       "      <td>0.117954</td>\n",
       "      <td>0.967037</td>\n",
       "      <td>0.007601</td>\n",
       "      <td>0.969961</td>\n",
       "      <td>20540.0</td>\n",
       "    </tr>\n",
       "  </tbody>\n",
       "</table>\n",
       "</div>"
      ],
      "text/plain": [
       "          accuracy  balanced accuracy        f1  precision  \\\n",
       "majmin                                                       \n",
       "majority  0.247940           0.558740  0.256390   0.147461   \n",
       "minority  0.143574           0.512681  0.210847   0.117954   \n",
       "\n",
       "          false positive rate  false negative rate  selection rate    count  \n",
       "majmin                                                                       \n",
       "majority             0.863701             0.018818        0.879225  69170.0  \n",
       "minority             0.967037             0.007601        0.969961  20540.0  "
      ]
     },
     "execution_count": 62,
     "metadata": {},
     "output_type": "execute_result"
    }
   ],
   "source": [
    "metric_frame.by_group"
   ]
  },
  {
   "cell_type": "code",
   "execution_count": 63,
   "id": "a9ddbe63",
   "metadata": {
    "execution": {
     "iopub.execute_input": "2025-08-05T15:36:03.155074Z",
     "iopub.status.busy": "2025-08-05T15:36:03.153788Z",
     "iopub.status.idle": "2025-08-05T15:36:05.541963Z",
     "shell.execute_reply": "2025-08-05T15:36:05.541114Z"
    },
    "papermill": {
     "duration": 2.41282,
     "end_time": "2025-08-05T15:36:05.543984",
     "exception": false,
     "start_time": "2025-08-05T15:36:03.131164",
     "status": "completed"
    },
    "tags": []
   },
   "outputs": [
    {
     "data": {
      "text/plain": [
       "array([[<Axes: title={'center': 'accuracy'}, xlabel='majmin'>,\n",
       "        <Axes: title={'center': 'balanced accuracy'}, xlabel='majmin'>,\n",
       "        <Axes: title={'center': 'f1'}, xlabel='majmin'>],\n",
       "       [<Axes: title={'center': 'precision'}, xlabel='majmin'>,\n",
       "        <Axes: title={'center': 'false positive rate'}, xlabel='majmin'>,\n",
       "        <Axes: title={'center': 'false negative rate'}, xlabel='majmin'>],\n",
       "       [<Axes: title={'center': 'selection rate'}, xlabel='majmin'>,\n",
       "        <Axes: title={'center': 'count'}, xlabel='majmin'>,\n",
       "        <Axes: xlabel='majmin'>]], dtype=object)"
      ]
     },
     "execution_count": 63,
     "metadata": {},
     "output_type": "execute_result"
    },
    {
     "data": {
      "image/png": "[encoded data removed]",
      "text/plain": [
       "<Figure size 1200x800 with 9 Axes>"
      ]
     },
     "metadata": {},
     "output_type": "display_data"
    }
   ],
   "source": [
    "# In a graphic\n",
    "metric_frame.by_group.plot.bar(\n",
    "    subplots=True,\n",
    "    layout=[3, 3],\n",
    "    legend=False,\n",
    "    figsize=[12, 8],\n",
    "    title=\"Show all metrics\",\n",
    ")"
   ]
  },
  {
   "cell_type": "markdown",
   "id": "f57a0bac",
   "metadata": {
    "papermill": {
     "duration": 0.025072,
     "end_time": "2025-08-05T15:36:05.599559",
     "exception": false,
     "start_time": "2025-08-05T15:36:05.574487",
     "status": "completed"
    },
    "tags": []
   },
   "source": [
    "# Final Output"
   ]
  },
  {
   "cell_type": "code",
   "execution_count": 64,
   "id": "96d280a3",
   "metadata": {
    "execution": {
     "iopub.execute_input": "2025-08-05T15:36:05.635488Z",
     "iopub.status.busy": "2025-08-05T15:36:05.635029Z",
     "iopub.status.idle": "2025-08-05T15:36:05.641996Z",
     "shell.execute_reply": "2025-08-05T15:36:05.641036Z"
    },
    "papermill": {
     "duration": 0.022381,
     "end_time": "2025-08-05T15:36:05.643588",
     "exception": false,
     "start_time": "2025-08-05T15:36:05.621207",
     "status": "completed"
    },
    "tags": []
   },
   "outputs": [
    {
     "data": {
      "text/plain": [
       "4"
      ]
     },
     "execution_count": 64,
     "metadata": {},
     "output_type": "execute_result"
    }
   ],
   "source": [
    "sub_universes = universe_analysis.generate_sub_universes()\n",
    "len(sub_universes)"
   ]
  },
  {
   "cell_type": "code",
   "execution_count": 65,
   "id": "92adf7ba",
   "metadata": {
    "execution": {
     "iopub.execute_input": "2025-08-05T15:36:05.693396Z",
     "iopub.status.busy": "2025-08-05T15:36:05.692812Z",
     "iopub.status.idle": "2025-08-05T15:36:05.699607Z",
     "shell.execute_reply": "2025-08-05T15:36:05.698368Z"
    },
    "papermill": {
     "duration": 0.034263,
     "end_time": "2025-08-05T15:36:05.701496",
     "exception": false,
     "start_time": "2025-08-05T15:36:05.667233",
     "status": "completed"
    },
    "tags": []
   },
   "outputs": [],
   "source": [
    "def filter_sub_universe_data(sub_universe, org_test):\n",
    "    # Keep all rows — no filtering\n",
    "    keep_rows_mask = np.ones(org_test.shape[0], dtype=bool)\n",
    "\n",
    "    print(f\"[INFO] Keeping all rows: {keep_rows_mask.sum()} rows retained.\")\n",
    "    return keep_rows_mask"
   ]
  },
  {
   "cell_type": "code",
   "execution_count": 66,
   "id": "4a759155",
   "metadata": {
    "execution": {
     "iopub.execute_input": "2025-08-05T15:36:05.759563Z",
     "iopub.status.busy": "2025-08-05T15:36:05.759054Z",
     "iopub.status.idle": "2025-08-05T15:36:14.478433Z",
     "shell.execute_reply": "2025-08-05T15:36:14.477710Z"
    },
    "papermill": {
     "duration": 8.75009,
     "end_time": "2025-08-05T15:36:14.479884",
     "exception": false,
     "start_time": "2025-08-05T15:36:05.729794",
     "status": "completed"
    },
    "tags": []
   },
   "outputs": [
    {
     "name": "stdout",
     "output_type": "stream",
     "text": [
      "Stopping execution_time clock.\n",
      "[INFO] Keeping all rows: 89710 rows retained.\n"
     ]
    },
    {
     "name": "stdout",
     "output_type": "stream",
     "text": [
      "[INFO] Keeping all rows: 89710 rows retained.\n"
     ]
    },
    {
     "name": "stdout",
     "output_type": "stream",
     "text": [
      "[INFO] Keeping all rows: 89710 rows retained.\n"
     ]
    },
    {
     "name": "stdout",
     "output_type": "stream",
     "text": [
      "[INFO] Keeping all rows: 89710 rows retained.\n"
     ]
    },
    {
     "data": {
      "text/html": [
       "<div>\n",
       "<style scoped>\n",
       "    .dataframe tbody tr th:only-of-type {\n",
       "        vertical-align: middle;\n",
       "    }\n",
       "\n",
       "    .dataframe tbody tr th {\n",
       "        vertical-align: top;\n",
       "    }\n",
       "\n",
       "    .dataframe thead th {\n",
       "        text-align: right;\n",
       "    }\n",
       "</style>\n",
       "<table border=\"1\" class=\"dataframe\">\n",
       "  <thead>\n",
       "    <tr style=\"text-align: right;\">\n",
       "      <th></th>\n",
       "      <th>run_no</th>\n",
       "      <th>universe_id</th>\n",
       "      <th>universe_settings</th>\n",
       "      <th>execution_time</th>\n",
       "      <th>test_size_n</th>\n",
       "      <th>test_size_frac</th>\n",
       "      <th>fair_main_equalized_odds_difference</th>\n",
       "      <th>fair_main_equalized_odds_ratio</th>\n",
       "      <th>fair_main_demographic_parity_difference</th>\n",
       "      <th>fair_main_demographic_parity_ratio</th>\n",
       "      <th>...</th>\n",
       "      <th>perf_grp_precision_0</th>\n",
       "      <th>perf_grp_precision_1</th>\n",
       "      <th>perf_grp_false positive rate_0</th>\n",
       "      <th>perf_grp_false positive rate_1</th>\n",
       "      <th>perf_grp_false negative rate_0</th>\n",
       "      <th>perf_grp_false negative rate_1</th>\n",
       "      <th>perf_grp_selection rate_0</th>\n",
       "      <th>perf_grp_selection rate_1</th>\n",
       "      <th>perf_grp_count_0</th>\n",
       "      <th>perf_grp_count_1</th>\n",
       "    </tr>\n",
       "  </thead>\n",
       "  <tbody>\n",
       "    <tr>\n",
       "      <th>0</th>\n",
       "      <td>15</td>\n",
       "      <td>e2c6a06f828e1fc0478bae5e101f7810</td>\n",
       "      <td>{\"cutoff\": \"quantile_0.1\", \"eval_fairness_grou...</td>\n",
       "      <td>23.734575</td>\n",
       "      <td>89710</td>\n",
       "      <td>1.0</td>\n",
       "      <td>0.103336</td>\n",
       "      <td>0.893142</td>\n",
       "      <td>0.090736</td>\n",
       "      <td>0.906454</td>\n",
       "      <td>...</td>\n",
       "      <td>NaN</td>\n",
       "      <td>NaN</td>\n",
       "      <td>NaN</td>\n",
       "      <td>NaN</td>\n",
       "      <td>NaN</td>\n",
       "      <td>NaN</td>\n",
       "      <td>NaN</td>\n",
       "      <td>NaN</td>\n",
       "      <td>NaN</td>\n",
       "      <td>NaN</td>\n",
       "    </tr>\n",
       "    <tr>\n",
       "      <th>0</th>\n",
       "      <td>15</td>\n",
       "      <td>e2c6a06f828e1fc0478bae5e101f7810</td>\n",
       "      <td>{\"cutoff\": \"quantile_0.1\", \"eval_fairness_grou...</td>\n",
       "      <td>23.734575</td>\n",
       "      <td>89710</td>\n",
       "      <td>1.0</td>\n",
       "      <td>0.103336</td>\n",
       "      <td>0.893142</td>\n",
       "      <td>0.090736</td>\n",
       "      <td>0.906454</td>\n",
       "      <td>...</td>\n",
       "      <td>0.117954</td>\n",
       "      <td>0.147461</td>\n",
       "      <td>0.967037</td>\n",
       "      <td>0.863701</td>\n",
       "      <td>0.007601</td>\n",
       "      <td>0.018818</td>\n",
       "      <td>0.969961</td>\n",
       "      <td>0.879225</td>\n",
       "      <td>20540.0</td>\n",
       "      <td>69170.0</td>\n",
       "    </tr>\n",
       "    <tr>\n",
       "      <th>0</th>\n",
       "      <td>15</td>\n",
       "      <td>e2c6a06f828e1fc0478bae5e101f7810</td>\n",
       "      <td>{\"cutoff\": \"quantile_0.25\", \"eval_fairness_gro...</td>\n",
       "      <td>23.734575</td>\n",
       "      <td>89710</td>\n",
       "      <td>1.0</td>\n",
       "      <td>0.193064</td>\n",
       "      <td>0.778247</td>\n",
       "      <td>0.170303</td>\n",
       "      <td>0.806761</td>\n",
       "      <td>...</td>\n",
       "      <td>NaN</td>\n",
       "      <td>NaN</td>\n",
       "      <td>NaN</td>\n",
       "      <td>NaN</td>\n",
       "      <td>NaN</td>\n",
       "      <td>NaN</td>\n",
       "      <td>NaN</td>\n",
       "      <td>NaN</td>\n",
       "      <td>NaN</td>\n",
       "      <td>NaN</td>\n",
       "    </tr>\n",
       "    <tr>\n",
       "      <th>0</th>\n",
       "      <td>15</td>\n",
       "      <td>e2c6a06f828e1fc0478bae5e101f7810</td>\n",
       "      <td>{\"cutoff\": \"quantile_0.25\", \"eval_fairness_gro...</td>\n",
       "      <td>23.734575</td>\n",
       "      <td>89710</td>\n",
       "      <td>1.0</td>\n",
       "      <td>0.193064</td>\n",
       "      <td>0.778247</td>\n",
       "      <td>0.170303</td>\n",
       "      <td>0.806761</td>\n",
       "      <td>...</td>\n",
       "      <td>0.126008</td>\n",
       "      <td>0.172956</td>\n",
       "      <td>0.870625</td>\n",
       "      <td>0.677561</td>\n",
       "      <td>0.036740</td>\n",
       "      <td>0.069365</td>\n",
       "      <td>0.881305</td>\n",
       "      <td>0.711002</td>\n",
       "      <td>20540.0</td>\n",
       "      <td>69170.0</td>\n",
       "    </tr>\n",
       "  </tbody>\n",
       "</table>\n",
       "<p>4 rows × 50 columns</p>\n",
       "</div>"
      ],
      "text/plain": [
       "  run_no                       universe_id  \\\n",
       "0     15  e2c6a06f828e1fc0478bae5e101f7810   \n",
       "0     15  e2c6a06f828e1fc0478bae5e101f7810   \n",
       "0     15  e2c6a06f828e1fc0478bae5e101f7810   \n",
       "0     15  e2c6a06f828e1fc0478bae5e101f7810   \n",
       "\n",
       "                                   universe_settings  execution_time  \\\n",
       "0  {\"cutoff\": \"quantile_0.1\", \"eval_fairness_grou...       23.734575   \n",
       "0  {\"cutoff\": \"quantile_0.1\", \"eval_fairness_grou...       23.734575   \n",
       "0  {\"cutoff\": \"quantile_0.25\", \"eval_fairness_gro...       23.734575   \n",
       "0  {\"cutoff\": \"quantile_0.25\", \"eval_fairness_gro...       23.734575   \n",
       "\n",
       "   test_size_n  test_size_frac  fair_main_equalized_odds_difference  \\\n",
       "0        89710             1.0                             0.103336   \n",
       "0        89710             1.0                             0.103336   \n",
       "0        89710             1.0                             0.193064   \n",
       "0        89710             1.0                             0.193064   \n",
       "\n",
       "   fair_main_equalized_odds_ratio  fair_main_demographic_parity_difference  \\\n",
       "0                        0.893142                                 0.090736   \n",
       "0                        0.893142                                 0.090736   \n",
       "0                        0.778247                                 0.170303   \n",
       "0                        0.778247                                 0.170303   \n",
       "\n",
       "   fair_main_demographic_parity_ratio  ...  perf_grp_precision_0  \\\n",
       "0                            0.906454  ...                   NaN   \n",
       "0                            0.906454  ...              0.117954   \n",
       "0                            0.806761  ...                   NaN   \n",
       "0                            0.806761  ...              0.126008   \n",
       "\n",
       "   perf_grp_precision_1  perf_grp_false positive rate_0  \\\n",
       "0                   NaN                             NaN   \n",
       "0              0.147461                        0.967037   \n",
       "0                   NaN                             NaN   \n",
       "0              0.172956                        0.870625   \n",
       "\n",
       "   perf_grp_false positive rate_1  perf_grp_false negative rate_0  \\\n",
       "0                             NaN                             NaN   \n",
       "0                        0.863701                        0.007601   \n",
       "0                             NaN                             NaN   \n",
       "0                        0.677561                        0.036740   \n",
       "\n",
       "   perf_grp_false negative rate_1  perf_grp_selection rate_0  \\\n",
       "0                             NaN                        NaN   \n",
       "0                        0.018818                   0.969961   \n",
       "0                             NaN                        NaN   \n",
       "0                        0.069365                   0.881305   \n",
       "\n",
       "   perf_grp_selection rate_1  perf_grp_count_0  perf_grp_count_1  \n",
       "0                        NaN               NaN               NaN  \n",
       "0                   0.879225           20540.0           69170.0  \n",
       "0                        NaN               NaN               NaN  \n",
       "0                   0.711002           20540.0           69170.0  \n",
       "\n",
       "[4 rows x 50 columns]"
      ]
     },
     "execution_count": 66,
     "metadata": {},
     "output_type": "execute_result"
    }
   ],
   "source": [
    "final_output = universe_analysis.generate_final_output(\n",
    "    y_pred_prob=probs_test,\n",
    "    y_test=y_true,\n",
    "    org_test=org_test,\n",
    "    filter_data=filter_sub_universe_data,\n",
    "    cp_metrics_df=cp_metrics_df,\n",
    "    save=True,\n",
    ")\n",
    "final_output"
   ]
  }
 ],
 "metadata": {
  "celltoolbar": "Tags",
  "kernelspec": {
   "display_name": "Python (CMA Fairness)",
   "language": "python",
   "name": "cma_fair_env"
  },
  "language_info": {
   "codemirror_mode": {
    "name": "ipython",
    "version": 3
   },
   "file_extension": ".py",
   "mimetype": "text/x-python",
   "name": "python",
   "nbconvert_exporter": "python",
   "pygments_lexer": "ipython3",
   "version": "3.10.12"
  },
  "papermill": {
   "default_parameters": {},
   "duration": 36.109928,
   "end_time": "2025-08-05T15:36:15.240273",
   "environment_variables": {},
   "exception": null,
   "input_path": "universe_analysis.ipynb",
   "output_path": "output/runs/15/notebooks/m_15-e2c6a06f828e1fc0478bae5e101f7810.ipynb",
   "parameters": {
    "output_dir": "output",
    "run_no": "15",
    "seed": "2023",
    "universe": "{\"cutoff\": [\"quantile_0.1\", \"quantile_0.25\"], \"eval_fairness_grouping\": [\"majority-minority\", \"nationality-all\"], \"exclude_features\": \"sex\", \"exclude_subgroups\": \"keep-all\", \"model\": \"penalized_logreg\", \"scale\": \"scale\", \"training_size\": \"5k\", \"training_year\": \"2012_14\"}",
    "universe_id": "e2c6a06f828e1fc0478bae5e101f7810"
   },
   "start_time": "2025-08-05T15:35:39.130345",
   "version": "2.6.0"
  }
 },
 "nbformat": 4,
 "nbformat_minor": 5
}