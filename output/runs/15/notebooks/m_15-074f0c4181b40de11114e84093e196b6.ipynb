{
 "cells": [
  {
   "cell_type": "code",
   "execution_count": 1,
   "id": "f159f837-637b-42ba-96b5-ec9a68c44524",
   "metadata": {
    "execution": {
     "iopub.execute_input": "2025-08-05T16:08:24.142256Z",
     "iopub.status.busy": "2025-08-05T16:08:24.141617Z",
     "iopub.status.idle": "2025-08-05T16:08:24.154928Z",
     "shell.execute_reply": "2025-08-05T16:08:24.153987Z"
    },
    "papermill": {
     "duration": 0.033872,
     "end_time": "2025-08-05T16:08:24.156751",
     "exception": false,
     "start_time": "2025-08-05T16:08:24.122879",
     "status": "completed"
    },
    "tags": []
   },
   "outputs": [
    {
     "name": "stdout",
     "output_type": "stream",
     "text": [
      "/dss/dsshome1/0C/ra93lal2/cma/CMA_Fairness_v2\n"
     ]
    },
    {
     "name": "stderr",
     "output_type": "stream",
     "text": [
      "/dss/dsshome1/0C/ra93lal2/.local/share/virtualenvs/CMA_Fairness_v2-3j10GkSs/lib/python3.10/site-packages/IPython/core/magics/osm.py:393: UserWarning: This is now an optional IPython functionality, using bookmarks requires you to install the `pickleshare` library.\n",
      "  bkms = self.shell.db.get('bookmarks', {})\n",
      "/dss/dsshome1/0C/ra93lal2/.local/share/virtualenvs/CMA_Fairness_v2-3j10GkSs/lib/python3.10/site-packages/IPython/core/magics/osm.py:417: UserWarning: This is now an optional IPython functionality, setting dhist requires you to install the `pickleshare` library.\n",
      "  self.shell.db['dhist'] = compress_dhist(dhist)[-100:]\n"
     ]
    }
   ],
   "source": [
    "%cd ~/cma/CMA_Fairness_v2"
   ]
  },
  {
   "cell_type": "markdown",
   "id": "de2603b9",
   "metadata": {
    "papermill": {
     "duration": 0.016726,
     "end_time": "2025-08-05T16:08:24.190411",
     "exception": false,
     "start_time": "2025-08-05T16:08:24.173685",
     "status": "completed"
    },
    "tags": []
   },
   "source": [
    "The following cell holds the definition of our parameters, these values can be overriden by rendering the with e.g. the following command:\n",
    "\n",
    "papermill -p alpha 0.2 -p ratio 0.3 universe_analysis.ipynb output/test_run.ipynb"
   ]
  },
  {
   "cell_type": "code",
   "execution_count": 2,
   "id": "a80968a0-40bb-4fa9-85ef-2d5eefb01975",
   "metadata": {
    "execution": {
     "iopub.execute_input": "2025-08-05T16:08:24.275492Z",
     "iopub.status.busy": "2025-08-05T16:08:24.274557Z",
     "iopub.status.idle": "2025-08-05T16:08:24.280714Z",
     "shell.execute_reply": "2025-08-05T16:08:24.279664Z"
    },
    "papermill": {
     "duration": 0.075102,
     "end_time": "2025-08-05T16:08:24.282618",
     "exception": false,
     "start_time": "2025-08-05T16:08:24.207516",
     "status": "completed"
    },
    "tags": []
   },
   "outputs": [
    {
     "name": "stdout",
     "output_type": "stream",
     "text": [
      "Current working directory: /dss/dsshome1/0C/ra93lal2/cma/CMA_Fairness_v2\n"
     ]
    }
   ],
   "source": [
    "import os\n",
    "print(\"Current working directory:\", os.getcwd())"
   ]
  },
  {
   "cell_type": "code",
   "execution_count": 3,
   "id": "2dce4c03",
   "metadata": {
    "execution": {
     "iopub.execute_input": "2025-08-05T16:08:24.317268Z",
     "iopub.status.busy": "2025-08-05T16:08:24.316405Z",
     "iopub.status.idle": "2025-08-05T16:08:24.322932Z",
     "shell.execute_reply": "2025-08-05T16:08:24.321851Z"
    },
    "papermill": {
     "duration": 0.025063,
     "end_time": "2025-08-05T16:08:24.324764",
     "exception": false,
     "start_time": "2025-08-05T16:08:24.299701",
     "status": "completed"
    },
    "tags": [
     "parameters"
    ]
   },
   "outputs": [],
   "source": [
    "run_no = 0\n",
    "universe_id = \"test\"\n",
    "universe = {\n",
    "    \"training_size\": \"25k\", # \"25k\", \"5k\", \"1k\"\n",
    "    \"training_year\": \"2014\", # \"2014\", \"2012_14\", \"2010_14\"\n",
    "    \"scale\": \"scale\", # \"scale\", \"do-not-scale\",\n",
    "    \"model\": \"elasticnet\", # \"logreg\", \"penalized_logreg\", \"rf\", \"gbm\", \"elasticnet\"\n",
    "    \"cutoff\": [\"quantile_0.15\", \"quantile_0.30\"],\n",
    "    \"exclude_features\": \"age\", # \"none\", \"nationality\", \"sex\", \"nationality-sex\", \"age\"\n",
    "    \"exclude_subgroups\": \"keep-all\", # \"keep-all\", \"drop-non-german\"\n",
    "    \"eval_fairness_grouping\": [\"majority-minority\", \"nationality-all\"]\n",
    "}\n",
    "\n",
    "output_dir=\"./output\"\n",
    "seed=0"
   ]
  },
  {
   "cell_type": "code",
   "execution_count": 4,
   "id": "1349c1f1",
   "metadata": {
    "execution": {
     "iopub.execute_input": "2025-08-05T16:08:24.360929Z",
     "iopub.status.busy": "2025-08-05T16:08:24.360275Z",
     "iopub.status.idle": "2025-08-05T16:08:24.365608Z",
     "shell.execute_reply": "2025-08-05T16:08:24.364620Z"
    },
    "papermill": {
     "duration": 0.025162,
     "end_time": "2025-08-05T16:08:24.367399",
     "exception": false,
     "start_time": "2025-08-05T16:08:24.342237",
     "status": "completed"
    },
    "tags": [
     "injected-parameters"
    ]
   },
   "outputs": [],
   "source": [
    "# Parameters\n",
    "universe_id = \"074f0c4181b40de11114e84093e196b6\"\n",
    "run_no = \"15\"\n",
    "universe = \"{\\\"cutoff\\\": [\\\"quantile_0.1\\\", \\\"quantile_0.25\\\"], \\\"eval_fairness_grouping\\\": [\\\"majority-minority\\\", \\\"nationality-all\\\"], \\\"exclude_features\\\": \\\"none\\\", \\\"exclude_subgroups\\\": \\\"drop-non-german\\\", \\\"model\\\": \\\"logreg\\\", \\\"scale\\\": \\\"do-not-scale\\\", \\\"training_size\\\": \\\"1k\\\", \\\"training_year\\\": \\\"2014\\\"}\"\n",
    "output_dir = \"output\"\n",
    "seed = \"2023\"\n"
   ]
  },
  {
   "cell_type": "code",
   "execution_count": 5,
   "id": "1650acaf",
   "metadata": {
    "execution": {
     "iopub.execute_input": "2025-08-05T16:08:24.403416Z",
     "iopub.status.busy": "2025-08-05T16:08:24.402748Z",
     "iopub.status.idle": "2025-08-05T16:08:24.407965Z",
     "shell.execute_reply": "2025-08-05T16:08:24.406973Z"
    },
    "papermill": {
     "duration": 0.024939,
     "end_time": "2025-08-05T16:08:24.409860",
     "exception": false,
     "start_time": "2025-08-05T16:08:24.384921",
     "status": "completed"
    },
    "tags": []
   },
   "outputs": [],
   "source": [
    "import json\n",
    "if isinstance(universe, str):\n",
    "    universe = json.loads(universe)"
   ]
  },
  {
   "cell_type": "code",
   "execution_count": 6,
   "id": "16620c48",
   "metadata": {
    "execution": {
     "iopub.execute_input": "2025-08-05T16:08:24.446438Z",
     "iopub.status.busy": "2025-08-05T16:08:24.445444Z",
     "iopub.status.idle": "2025-08-05T16:08:24.495035Z",
     "shell.execute_reply": "2025-08-05T16:08:24.493913Z"
    },
    "papermill": {
     "duration": 0.069841,
     "end_time": "2025-08-05T16:08:24.497098",
     "exception": false,
     "start_time": "2025-08-05T16:08:24.427257",
     "status": "completed"
    },
    "tags": []
   },
   "outputs": [],
   "source": [
    "# Auto-reload the custom package\n",
    "%load_ext autoreload\n",
    "%autoreload 1\n",
    "%aimport fairness_multiverse"
   ]
  },
  {
   "cell_type": "code",
   "execution_count": 7,
   "id": "01c5c9f3",
   "metadata": {
    "execution": {
     "iopub.execute_input": "2025-08-05T16:08:24.535445Z",
     "iopub.status.busy": "2025-08-05T16:08:24.534952Z",
     "iopub.status.idle": "2025-08-05T16:08:26.526405Z",
     "shell.execute_reply": "2025-08-05T16:08:26.525351Z"
    },
    "papermill": {
     "duration": 2.012137,
     "end_time": "2025-08-05T16:08:26.528621",
     "exception": false,
     "start_time": "2025-08-05T16:08:24.516484",
     "status": "completed"
    },
    "tags": []
   },
   "outputs": [],
   "source": [
    "from fairness_multiverse.universe import UniverseAnalysis\n",
    "\n",
    "universe_analysis = UniverseAnalysis(\n",
    "    run_no = run_no,\n",
    "    universe_id = universe_id,\n",
    "    universe = universe,\n",
    "    output_dir=output_dir,\n",
    ")"
   ]
  },
  {
   "cell_type": "code",
   "execution_count": 8,
   "id": "106241f5",
   "metadata": {
    "execution": {
     "iopub.execute_input": "2025-08-05T16:08:26.573859Z",
     "iopub.status.busy": "2025-08-05T16:08:26.572973Z",
     "iopub.status.idle": "2025-08-05T16:08:26.580160Z",
     "shell.execute_reply": "2025-08-05T16:08:26.579071Z"
    },
    "papermill": {
     "duration": 0.030794,
     "end_time": "2025-08-05T16:08:26.582228",
     "exception": false,
     "start_time": "2025-08-05T16:08:26.551434",
     "status": "completed"
    },
    "tags": []
   },
   "outputs": [
    {
     "name": "stdout",
     "output_type": "stream",
     "text": [
      "Using Seed: 2023\n"
     ]
    }
   ],
   "source": [
    "import numpy as np\n",
    "parsed_seed = int(seed)\n",
    "np.random.seed(parsed_seed)\n",
    "print(f\"Using Seed: {parsed_seed}\")"
   ]
  },
  {
   "cell_type": "markdown",
   "id": "e0ebdc57",
   "metadata": {
    "papermill": {
     "duration": 0.018714,
     "end_time": "2025-08-05T16:08:26.623373",
     "exception": false,
     "start_time": "2025-08-05T16:08:26.604659",
     "status": "completed"
    },
    "tags": []
   },
   "source": [
    "# Loading Data"
   ]
  },
  {
   "cell_type": "code",
   "execution_count": 9,
   "id": "f0496b8a",
   "metadata": {
    "execution": {
     "iopub.execute_input": "2025-08-05T16:08:26.667573Z",
     "iopub.status.busy": "2025-08-05T16:08:26.666909Z",
     "iopub.status.idle": "2025-08-05T16:08:39.592901Z",
     "shell.execute_reply": "2025-08-05T16:08:39.591634Z"
    },
    "papermill": {
     "duration": 12.950653,
     "end_time": "2025-08-05T16:08:39.594797",
     "exception": false,
     "start_time": "2025-08-05T16:08:26.644144",
     "status": "completed"
    },
    "tags": []
   },
   "outputs": [
    {
     "name": "stdout",
     "output_type": "stream",
     "text": [
      "Loading SIAB data from cache: data/siab_cached.csv.gz\n"
     ]
    },
    {
     "name": "stdout",
     "output_type": "stream",
     "text": [
      "(643690, 164)\n"
     ]
    }
   ],
   "source": [
    "from pathlib import Path\n",
    "import pandas as pd\n",
    "\n",
    "# File paths\n",
    "raw_file = Path(\"data/raw/siab.csv\")\n",
    "cache_file = Path(\"data/siab_cached.csv.gz\")\n",
    "\n",
    "# Ensure cache directory exists\n",
    "cache_file.parent.mkdir(parents=True, exist_ok=True)\n",
    "\n",
    "# Load with simple caching\n",
    "if cache_file.exists():\n",
    "    print(f\"Loading SIAB data from cache: {cache_file}\")\n",
    "    siab = pd.read_csv(cache_file, compression='gzip')\n",
    "else:\n",
    "    print(f\"Cache not found. Reading raw SIAB data: {raw_file}\")\n",
    "    siab = pd.read_csv(raw_file)\n",
    "    siab.to_csv(cache_file, index=False, compression='gzip')\n",
    "    print(f\"Cached SIAB data to: {cache_file}\")\n",
    "\n",
    "print(siab.shape)"
   ]
  },
  {
   "cell_type": "code",
   "execution_count": 10,
   "id": "db0ca512-5f53-4dba-abdb-a2888bca41ba",
   "metadata": {
    "execution": {
     "iopub.execute_input": "2025-08-05T16:08:39.639710Z",
     "iopub.status.busy": "2025-08-05T16:08:39.638761Z",
     "iopub.status.idle": "2025-08-05T16:08:39.645642Z",
     "shell.execute_reply": "2025-08-05T16:08:39.644465Z"
    },
    "papermill": {
     "duration": 0.029856,
     "end_time": "2025-08-05T16:08:39.647982",
     "exception": false,
     "start_time": "2025-08-05T16:08:39.618126",
     "status": "completed"
    },
    "tags": []
   },
   "outputs": [],
   "source": [
    "#siab"
   ]
  },
  {
   "cell_type": "markdown",
   "id": "997051c5-15bd-4b69-9786-c3001a3ce484",
   "metadata": {
    "papermill": {
     "duration": 0.019972,
     "end_time": "2025-08-05T16:08:39.690998",
     "exception": false,
     "start_time": "2025-08-05T16:08:39.671026",
     "status": "completed"
    },
    "tags": []
   },
   "source": [
    "# Splitting Data and Setting Training Data Size"
   ]
  },
  {
   "cell_type": "code",
   "execution_count": 11,
   "id": "aea9c6ef-6f46-42c8-85eb-5a62025c1508",
   "metadata": {
    "execution": {
     "iopub.execute_input": "2025-08-05T16:08:39.733669Z",
     "iopub.status.busy": "2025-08-05T16:08:39.732551Z",
     "iopub.status.idle": "2025-08-05T16:08:40.006442Z",
     "shell.execute_reply": "2025-08-05T16:08:40.005337Z"
    },
    "papermill": {
     "duration": 0.29846,
     "end_time": "2025-08-05T16:08:40.008798",
     "exception": false,
     "start_time": "2025-08-05T16:08:39.710338",
     "status": "completed"
    },
    "tags": []
   },
   "outputs": [],
   "source": [
    "from fairness_multiverse.universe import sample_by_year_size\n",
    "\n",
    "siab_train = sample_by_year_size(siab,\n",
    "                               training_year=universe[\"training_year\"],\n",
    "                               training_size=universe[\"training_size\"])"
   ]
  },
  {
   "cell_type": "code",
   "execution_count": 12,
   "id": "8d3afb32-789d-442c-8d5d-9f5aa8dd2eed",
   "metadata": {
    "execution": {
     "iopub.execute_input": "2025-08-05T16:08:40.052890Z",
     "iopub.status.busy": "2025-08-05T16:08:40.051843Z",
     "iopub.status.idle": "2025-08-05T16:08:40.057365Z",
     "shell.execute_reply": "2025-08-05T16:08:40.056293Z"
    },
    "papermill": {
     "duration": 0.029035,
     "end_time": "2025-08-05T16:08:40.059419",
     "exception": false,
     "start_time": "2025-08-05T16:08:40.030384",
     "status": "completed"
    },
    "tags": []
   },
   "outputs": [],
   "source": [
    "#siab_train.shape"
   ]
  },
  {
   "cell_type": "code",
   "execution_count": 13,
   "id": "d582db68-1a4c-47fb-84fc-08518dc1975a",
   "metadata": {
    "execution": {
     "iopub.execute_input": "2025-08-05T16:08:40.100997Z",
     "iopub.status.busy": "2025-08-05T16:08:40.100333Z",
     "iopub.status.idle": "2025-08-05T16:08:40.105632Z",
     "shell.execute_reply": "2025-08-05T16:08:40.104539Z"
    },
    "papermill": {
     "duration": 0.02699,
     "end_time": "2025-08-05T16:08:40.107410",
     "exception": false,
     "start_time": "2025-08-05T16:08:40.080420",
     "status": "completed"
    },
    "tags": []
   },
   "outputs": [],
   "source": [
    "#display(siab_train.groupby(\"year\").size())"
   ]
  },
  {
   "cell_type": "code",
   "execution_count": 14,
   "id": "a561edb4-d032-42cb-8256-22eac1111c64",
   "metadata": {
    "execution": {
     "iopub.execute_input": "2025-08-05T16:08:40.158708Z",
     "iopub.status.busy": "2025-08-05T16:08:40.158299Z",
     "iopub.status.idle": "2025-08-05T16:08:40.408480Z",
     "shell.execute_reply": "2025-08-05T16:08:40.407410Z"
    },
    "papermill": {
     "duration": 0.286867,
     "end_time": "2025-08-05T16:08:40.410320",
     "exception": false,
     "start_time": "2025-08-05T16:08:40.123453",
     "status": "completed"
    },
    "tags": []
   },
   "outputs": [],
   "source": [
    "#siab_train = siab_s[siab_s.year < 2015]\n",
    "siab_calib = siab[siab.year == 2015]\n",
    "siab_test = siab[siab.year == 2016]"
   ]
  },
  {
   "cell_type": "code",
   "execution_count": 15,
   "id": "472de16f-c3db-4916-846b-1f0de9cf1746",
   "metadata": {
    "execution": {
     "iopub.execute_input": "2025-08-05T16:08:40.453138Z",
     "iopub.status.busy": "2025-08-05T16:08:40.452681Z",
     "iopub.status.idle": "2025-08-05T16:08:40.460212Z",
     "shell.execute_reply": "2025-08-05T16:08:40.459015Z"
    },
    "papermill": {
     "duration": 0.029914,
     "end_time": "2025-08-05T16:08:40.462129",
     "exception": false,
     "start_time": "2025-08-05T16:08:40.432215",
     "status": "completed"
    },
    "tags": []
   },
   "outputs": [],
   "source": [
    "X_train = siab_train.iloc[:,4:164]\n",
    "y_train = siab_train.iloc[:, [3]]"
   ]
  },
  {
   "cell_type": "code",
   "execution_count": 16,
   "id": "828c96af-f43a-4ed6-ba47-8ac73a47d56c",
   "metadata": {
    "execution": {
     "iopub.execute_input": "2025-08-05T16:08:40.503486Z",
     "iopub.status.busy": "2025-08-05T16:08:40.503017Z",
     "iopub.status.idle": "2025-08-05T16:08:40.552416Z",
     "shell.execute_reply": "2025-08-05T16:08:40.551321Z"
    },
    "papermill": {
     "duration": 0.07221,
     "end_time": "2025-08-05T16:08:40.554282",
     "exception": false,
     "start_time": "2025-08-05T16:08:40.482072",
     "status": "completed"
    },
    "tags": []
   },
   "outputs": [],
   "source": [
    "X_calib = siab_calib.iloc[:,4:164]\n",
    "y_calib = siab_calib.iloc[:, [3]]"
   ]
  },
  {
   "cell_type": "code",
   "execution_count": 17,
   "id": "c34be9c3-6bd6-476e-acd3-845840e303be",
   "metadata": {
    "execution": {
     "iopub.execute_input": "2025-08-05T16:08:40.589927Z",
     "iopub.status.busy": "2025-08-05T16:08:40.589121Z",
     "iopub.status.idle": "2025-08-05T16:08:40.642477Z",
     "shell.execute_reply": "2025-08-05T16:08:40.641396Z"
    },
    "papermill": {
     "duration": 0.071977,
     "end_time": "2025-08-05T16:08:40.644190",
     "exception": false,
     "start_time": "2025-08-05T16:08:40.572213",
     "status": "completed"
    },
    "tags": []
   },
   "outputs": [],
   "source": [
    "X_test = siab_test.iloc[:,4:164]\n",
    "y_true = siab_test.iloc[:, [3]]"
   ]
  },
  {
   "cell_type": "code",
   "execution_count": 18,
   "id": "e6c733c5",
   "metadata": {
    "execution": {
     "iopub.execute_input": "2025-08-05T16:08:40.678749Z",
     "iopub.status.busy": "2025-08-05T16:08:40.677864Z",
     "iopub.status.idle": "2025-08-05T16:08:40.771603Z",
     "shell.execute_reply": "2025-08-05T16:08:40.770659Z"
    },
    "papermill": {
     "duration": 0.112474,
     "end_time": "2025-08-05T16:08:40.773670",
     "exception": false,
     "start_time": "2025-08-05T16:08:40.661196",
     "status": "completed"
    },
    "tags": []
   },
   "outputs": [],
   "source": [
    "# Auxiliary data needed downstream in the pipeline\n",
    "\n",
    "org_train = X_train.copy()\n",
    "org_test = X_test.copy()\n",
    "org_calib = X_calib.copy()"
   ]
  },
  {
   "cell_type": "markdown",
   "id": "0a4a1b33",
   "metadata": {
    "papermill": {
     "duration": 0.019252,
     "end_time": "2025-08-05T16:08:40.817821",
     "exception": false,
     "start_time": "2025-08-05T16:08:40.798569",
     "status": "completed"
    },
    "tags": []
   },
   "source": [
    "# Preprocessing Data"
   ]
  },
  {
   "cell_type": "code",
   "execution_count": 19,
   "id": "ca879031",
   "metadata": {
    "execution": {
     "iopub.execute_input": "2025-08-05T16:08:40.854928Z",
     "iopub.status.busy": "2025-08-05T16:08:40.854490Z",
     "iopub.status.idle": "2025-08-05T16:08:40.860366Z",
     "shell.execute_reply": "2025-08-05T16:08:40.859467Z"
    },
    "papermill": {
     "duration": 0.024514,
     "end_time": "2025-08-05T16:08:40.861607",
     "exception": false,
     "start_time": "2025-08-05T16:08:40.837093",
     "status": "completed"
    },
    "tags": []
   },
   "outputs": [],
   "source": [
    "# EXCLUDE PROTECTED FEATURES\n",
    "# ----------------------\n",
    "# \"exclude_features\": \"none\", # \"nationality\", \"sex\", \"nationality-sex\"\n",
    "\n",
    "excluded_features = universe[\"exclude_features\"].split(\"-\") # split, e.g.: \"nationality-sex\" -> [\"nationality\", \"sex\"]\n",
    "excluded_features_dictionary = {\n",
    "    \"nationality\": [\"maxdeutsch1\", \"maxdeutsch.Missing.\"],\n",
    "    \"sex\": [\"frau1\"],\n",
    "    \"age\": [\"age\"],\n",
    "}"
   ]
  },
  {
   "cell_type": "code",
   "execution_count": 20,
   "id": "b745ac60",
   "metadata": {
    "execution": {
     "iopub.execute_input": "2025-08-05T16:08:40.881542Z",
     "iopub.status.busy": "2025-08-05T16:08:40.881043Z",
     "iopub.status.idle": "2025-08-05T16:08:40.885375Z",
     "shell.execute_reply": "2025-08-05T16:08:40.884678Z"
    },
    "papermill": {
     "duration": 0.015284,
     "end_time": "2025-08-05T16:08:40.886759",
     "exception": false,
     "start_time": "2025-08-05T16:08:40.871475",
     "status": "completed"
    },
    "tags": []
   },
   "outputs": [],
   "source": [
    "# Code nice names to column names\n",
    "\n",
    "excluded_features_columns = [\n",
    "    excluded_features_dictionary[f] for f in excluded_features if len(f) > 0 and f != \"none\"\n",
    "]"
   ]
  },
  {
   "cell_type": "code",
   "execution_count": 21,
   "id": "f84f73a2",
   "metadata": {
    "execution": {
     "iopub.execute_input": "2025-08-05T16:08:40.910689Z",
     "iopub.status.busy": "2025-08-05T16:08:40.910100Z",
     "iopub.status.idle": "2025-08-05T16:08:40.915845Z",
     "shell.execute_reply": "2025-08-05T16:08:40.914953Z"
    },
    "papermill": {
     "duration": 0.021064,
     "end_time": "2025-08-05T16:08:40.917434",
     "exception": false,
     "start_time": "2025-08-05T16:08:40.896370",
     "status": "completed"
    },
    "tags": []
   },
   "outputs": [],
   "source": [
    "from utils import flatten_once\n",
    "\n",
    "excluded_features_columns = flatten_once(excluded_features_columns)"
   ]
  },
  {
   "cell_type": "code",
   "execution_count": 22,
   "id": "884dea22",
   "metadata": {
    "execution": {
     "iopub.execute_input": "2025-08-05T16:08:40.957995Z",
     "iopub.status.busy": "2025-08-05T16:08:40.957287Z",
     "iopub.status.idle": "2025-08-05T16:08:40.963490Z",
     "shell.execute_reply": "2025-08-05T16:08:40.962382Z"
    },
    "papermill": {
     "duration": 0.028042,
     "end_time": "2025-08-05T16:08:40.965231",
     "exception": false,
     "start_time": "2025-08-05T16:08:40.937189",
     "status": "completed"
    },
    "tags": []
   },
   "outputs": [],
   "source": [
    "if len(excluded_features_columns) > 0:\n",
    "    print(f\"Dropping features: {excluded_features_columns}\")\n",
    "    X_train.drop(excluded_features_columns, axis=1, inplace=True)"
   ]
  },
  {
   "cell_type": "code",
   "execution_count": 23,
   "id": "95ab8b16",
   "metadata": {
    "execution": {
     "iopub.execute_input": "2025-08-05T16:08:41.009060Z",
     "iopub.status.busy": "2025-08-05T16:08:41.008385Z",
     "iopub.status.idle": "2025-08-05T16:08:41.014007Z",
     "shell.execute_reply": "2025-08-05T16:08:41.013004Z"
    },
    "papermill": {
     "duration": 0.028444,
     "end_time": "2025-08-05T16:08:41.015756",
     "exception": false,
     "start_time": "2025-08-05T16:08:40.987312",
     "status": "completed"
    },
    "tags": []
   },
   "outputs": [],
   "source": [
    "if len(excluded_features_columns) > 0:\n",
    "    print(f\"Dropping features: {excluded_features_columns}\")\n",
    "    X_test.drop(excluded_features_columns, axis=1, inplace=True)"
   ]
  },
  {
   "cell_type": "code",
   "execution_count": 24,
   "id": "1853aaf5-fb9f-46cb-a2b5-8ea4ae2237e4",
   "metadata": {
    "execution": {
     "iopub.execute_input": "2025-08-05T16:08:41.058297Z",
     "iopub.status.busy": "2025-08-05T16:08:41.057968Z",
     "iopub.status.idle": "2025-08-05T16:08:41.063025Z",
     "shell.execute_reply": "2025-08-05T16:08:41.062067Z"
    },
    "papermill": {
     "duration": 0.028817,
     "end_time": "2025-08-05T16:08:41.064979",
     "exception": false,
     "start_time": "2025-08-05T16:08:41.036162",
     "status": "completed"
    },
    "tags": []
   },
   "outputs": [],
   "source": [
    "if len(excluded_features_columns) > 0:\n",
    "    print(f\"Dropping features: {excluded_features_columns}\")\n",
    "    X_calib.drop(excluded_features_columns, axis=1, inplace=True)"
   ]
  },
  {
   "cell_type": "code",
   "execution_count": 25,
   "id": "76c4dc6d",
   "metadata": {
    "execution": {
     "iopub.execute_input": "2025-08-05T16:08:41.107954Z",
     "iopub.status.busy": "2025-08-05T16:08:41.107339Z",
     "iopub.status.idle": "2025-08-05T16:08:41.112587Z",
     "shell.execute_reply": "2025-08-05T16:08:41.111582Z"
    },
    "papermill": {
     "duration": 0.029872,
     "end_time": "2025-08-05T16:08:41.114414",
     "exception": false,
     "start_time": "2025-08-05T16:08:41.084542",
     "status": "completed"
    },
    "tags": []
   },
   "outputs": [],
   "source": [
    "# EXCLUDE CERTAIN SUBGROUPS\n",
    "# ----------------------\n",
    "\n",
    "mode = universe.get(\"exclude_subgroups\", \"keep-all\") \n",
    "# Fetches the exclude_subgroups setting from the universe dict.\n",
    "# Defaults to \"keep-all\" if the key is missing."
   ]
  },
  {
   "cell_type": "code",
   "execution_count": 26,
   "id": "21994072",
   "metadata": {
    "execution": {
     "iopub.execute_input": "2025-08-05T16:08:41.155190Z",
     "iopub.status.busy": "2025-08-05T16:08:41.154815Z",
     "iopub.status.idle": "2025-08-05T16:08:41.162877Z",
     "shell.execute_reply": "2025-08-05T16:08:41.161864Z"
    },
    "papermill": {
     "duration": 0.031121,
     "end_time": "2025-08-05T16:08:41.164886",
     "exception": false,
     "start_time": "2025-08-05T16:08:41.133765",
     "status": "completed"
    },
    "tags": []
   },
   "outputs": [],
   "source": [
    "if mode == \"keep-all\":\n",
    "    keep_mask = pd.Series(True, index=org_train.index)\n",
    "\n",
    "# org_train contains the original feature columns from features_org (in Simson)\n",
    "# features_org contains unprocessed features, for me X_train at beginning ???\n",
    "# For keep-all, creates a boolean Series (keep_mask) of all True, so no rows are removed.\n",
    "\n",
    "elif mode == \"drop-non-german\":\n",
    "    keep_mask = org_train[\"maxdeutsch1\"] == 1 # ??? what about missing values?\n",
    "\n",
    "else:\n",
    "    raise ValueError(f\"Unsupported mode for exclude_subgroups: {mode}\")"
   ]
  },
  {
   "cell_type": "code",
   "execution_count": 27,
   "id": "71651440",
   "metadata": {
    "execution": {
     "iopub.execute_input": "2025-08-05T16:08:41.201506Z",
     "iopub.status.busy": "2025-08-05T16:08:41.200516Z",
     "iopub.status.idle": "2025-08-05T16:08:41.208115Z",
     "shell.execute_reply": "2025-08-05T16:08:41.207100Z"
    },
    "papermill": {
     "duration": 0.027051,
     "end_time": "2025-08-05T16:08:41.209883",
     "exception": false,
     "start_time": "2025-08-05T16:08:41.182832",
     "status": "completed"
    },
    "tags": []
   },
   "outputs": [
    {
     "name": "stdout",
     "output_type": "stream",
     "text": [
      "Dropping 147 rows (14.70%) where mode='drop-non-german'\n"
     ]
    }
   ],
   "source": [
    "n_drop = (~keep_mask).sum() # Calculates how many rows are set to be dropped\n",
    "if n_drop > 0:\n",
    "    pct = n_drop / len(keep_mask) * 100\n",
    "    print(f\"Dropping {n_drop} rows ({pct:.2f}%) where mode='{mode}'\")"
   ]
  },
  {
   "cell_type": "code",
   "execution_count": 28,
   "id": "5fb8eee5",
   "metadata": {
    "execution": {
     "iopub.execute_input": "2025-08-05T16:08:41.245367Z",
     "iopub.status.busy": "2025-08-05T16:08:41.244670Z",
     "iopub.status.idle": "2025-08-05T16:08:41.250902Z",
     "shell.execute_reply": "2025-08-05T16:08:41.249874Z"
    },
    "papermill": {
     "duration": 0.025708,
     "end_time": "2025-08-05T16:08:41.252594",
     "exception": false,
     "start_time": "2025-08-05T16:08:41.226886",
     "status": "completed"
    },
    "tags": []
   },
   "outputs": [],
   "source": [
    "X_train = X_train[keep_mask]"
   ]
  },
  {
   "cell_type": "code",
   "execution_count": 29,
   "id": "b202bb3a",
   "metadata": {
    "execution": {
     "iopub.execute_input": "2025-08-05T16:08:41.291114Z",
     "iopub.status.busy": "2025-08-05T16:08:41.290521Z",
     "iopub.status.idle": "2025-08-05T16:08:41.296863Z",
     "shell.execute_reply": "2025-08-05T16:08:41.295790Z"
    },
    "papermill": {
     "duration": 0.028517,
     "end_time": "2025-08-05T16:08:41.298658",
     "exception": false,
     "start_time": "2025-08-05T16:08:41.270141",
     "status": "completed"
    },
    "tags": []
   },
   "outputs": [],
   "source": [
    "y_train = y_train[keep_mask]"
   ]
  },
  {
   "cell_type": "markdown",
   "id": "493e2ac3",
   "metadata": {
    "papermill": {
     "duration": 0.016746,
     "end_time": "2025-08-05T16:08:41.332903",
     "exception": false,
     "start_time": "2025-08-05T16:08:41.316157",
     "status": "completed"
    },
    "tags": []
   },
   "source": [
    "# Model Training"
   ]
  },
  {
   "cell_type": "code",
   "execution_count": 30,
   "id": "679e1268",
   "metadata": {
    "execution": {
     "iopub.execute_input": "2025-08-05T16:08:41.369252Z",
     "iopub.status.busy": "2025-08-05T16:08:41.368583Z",
     "iopub.status.idle": "2025-08-05T16:08:41.475930Z",
     "shell.execute_reply": "2025-08-05T16:08:41.474964Z"
    },
    "papermill": {
     "duration": 0.12822,
     "end_time": "2025-08-05T16:08:41.477846",
     "exception": false,
     "start_time": "2025-08-05T16:08:41.349626",
     "status": "completed"
    },
    "tags": []
   },
   "outputs": [],
   "source": [
    "from sklearn.linear_model import LogisticRegression\n",
    "from sklearn.ensemble import GradientBoostingClassifier, RandomForestClassifier\n",
    "\n",
    "if (universe[\"model\"] == \"logreg\"):\n",
    "    model = LogisticRegression() #penalty=\"none\", solver=\"newton-cg\", max_iter=1) # include random_state=19 ?\n",
    "elif (universe[\"model\"] == \"penalized_logreg\"):\n",
    "    model = LogisticRegression(penalty=\"l2\", C=0.1) #, solver=\"newton-cg\", max_iter=1)\n",
    "elif (universe[\"model\"] == \"rf\"):\n",
    "    model = RandomForestClassifier() # n_estimators=100, n_jobs=-1\n",
    "elif (universe[\"model\"] == \"gbm\"):\n",
    "    model = GradientBoostingClassifier()\n",
    "elif (universe[\"model\"] == \"elasticnet\"):\n",
    "    model = LogisticRegression(penalty = 'elasticnet', solver = 'saga', l1_ratio = 0.5) # max_iter=5000\n",
    "else:\n",
    "    raise \"Unsupported universe.model\""
   ]
  },
  {
   "cell_type": "code",
   "execution_count": 31,
   "id": "0cc8f744",
   "metadata": {
    "execution": {
     "iopub.execute_input": "2025-08-05T16:08:41.515561Z",
     "iopub.status.busy": "2025-08-05T16:08:41.514727Z",
     "iopub.status.idle": "2025-08-05T16:08:41.521474Z",
     "shell.execute_reply": "2025-08-05T16:08:41.520479Z"
    },
    "papermill": {
     "duration": 0.027673,
     "end_time": "2025-08-05T16:08:41.523370",
     "exception": false,
     "start_time": "2025-08-05T16:08:41.495697",
     "status": "completed"
    },
    "tags": []
   },
   "outputs": [],
   "source": [
    "import numpy as np\n",
    "from sklearn.pipeline import Pipeline\n",
    "from sklearn.preprocessing import StandardScaler\n",
    "\n",
    "model = Pipeline([\n",
    "    #(\"continuous_processor\", continuous_processor),\n",
    "    #(\"categorical_preprocessor\", categorical_preprocessor),\n",
    "    (\"scale\", StandardScaler() if universe[\"scale\"] == \"scale\" else None), \n",
    "    (\"model\", model),\n",
    "])"
   ]
  },
  {
   "cell_type": "code",
   "execution_count": 32,
   "id": "9442c04d",
   "metadata": {
    "execution": {
     "iopub.execute_input": "2025-08-05T16:08:41.566061Z",
     "iopub.status.busy": "2025-08-05T16:08:41.565219Z",
     "iopub.status.idle": "2025-08-05T16:08:41.626825Z",
     "shell.execute_reply": "2025-08-05T16:08:41.625884Z"
    },
    "papermill": {
     "duration": 0.085927,
     "end_time": "2025-08-05T16:08:41.629905",
     "exception": false,
     "start_time": "2025-08-05T16:08:41.543978",
     "status": "completed"
    },
    "tags": []
   },
   "outputs": [
    {
     "name": "stderr",
     "output_type": "stream",
     "text": [
      "/dss/dsshome1/0C/ra93lal2/.local/share/virtualenvs/CMA_Fairness_v2-3j10GkSs/lib/python3.10/site-packages/sklearn/linear_model/_logistic.py:444: ConvergenceWarning: lbfgs failed to converge (status=1):\n",
      "STOP: TOTAL NO. of ITERATIONS REACHED LIMIT.\n",
      "\n",
      "Increase the number of iterations (max_iter) or scale the data as shown in:\n",
      "    https://scikit-learn.org/stable/modules/preprocessing.html\n",
      "Please also refer to the documentation for alternative solver options:\n",
      "    https://scikit-learn.org/stable/modules/linear_model.html#logistic-regression\n",
      "  n_iter_i = _check_optimize_result(\n"
     ]
    },
    {
     "data": {
      "text/html": [
       "<style>#sk-container-id-1 {color: black;background-color: white;}#sk-container-id-1 pre{padding: 0;}#sk-container-id-1 div.sk-toggleable {background-color: white;}#sk-container-id-1 label.sk-toggleable__label {cursor: pointer;display: block;width: 100%;margin-bottom: 0;padding: 0.3em;box-sizing: border-box;text-align: center;}#sk-container-id-1 label.sk-toggleable__label-arrow:before {content: \"▸\";float: left;margin-right: 0.25em;color: #696969;}#sk-container-id-1 label.sk-toggleable__label-arrow:hover:before {color: black;}#sk-container-id-1 div.sk-estimator:hover label.sk-toggleable__label-arrow:before {color: black;}#sk-container-id-1 div.sk-toggleable__content {max-height: 0;max-width: 0;overflow: hidden;text-align: left;background-color: #f0f8ff;}#sk-container-id-1 div.sk-toggleable__content pre {margin: 0.2em;color: black;border-radius: 0.25em;background-color: #f0f8ff;}#sk-container-id-1 input.sk-toggleable__control:checked~div.sk-toggleable__content {max-height: 200px;max-width: 100%;overflow: auto;}#sk-container-id-1 input.sk-toggleable__control:checked~label.sk-toggleable__label-arrow:before {content: \"▾\";}#sk-container-id-1 div.sk-estimator input.sk-toggleable__control:checked~label.sk-toggleable__label {background-color: #d4ebff;}#sk-container-id-1 div.sk-label input.sk-toggleable__control:checked~label.sk-toggleable__label {background-color: #d4ebff;}#sk-container-id-1 input.sk-hidden--visually {border: 0;clip: rect(1px 1px 1px 1px);clip: rect(1px, 1px, 1px, 1px);height: 1px;margin: -1px;overflow: hidden;padding: 0;position: absolute;width: 1px;}#sk-container-id-1 div.sk-estimator {font-family: monospace;background-color: #f0f8ff;border: 1px dotted black;border-radius: 0.25em;box-sizing: border-box;margin-bottom: 0.5em;}#sk-container-id-1 div.sk-estimator:hover {background-color: #d4ebff;}#sk-container-id-1 div.sk-parallel-item::after {content: \"\";width: 100%;border-bottom: 1px solid gray;flex-grow: 1;}#sk-container-id-1 div.sk-label:hover label.sk-toggleable__label {background-color: #d4ebff;}#sk-container-id-1 div.sk-serial::before {content: \"\";position: absolute;border-left: 1px solid gray;box-sizing: border-box;top: 0;bottom: 0;left: 50%;z-index: 0;}#sk-container-id-1 div.sk-serial {display: flex;flex-direction: column;align-items: center;background-color: white;padding-right: 0.2em;padding-left: 0.2em;position: relative;}#sk-container-id-1 div.sk-item {position: relative;z-index: 1;}#sk-container-id-1 div.sk-parallel {display: flex;align-items: stretch;justify-content: center;background-color: white;position: relative;}#sk-container-id-1 div.sk-item::before, #sk-container-id-1 div.sk-parallel-item::before {content: \"\";position: absolute;border-left: 1px solid gray;box-sizing: border-box;top: 0;bottom: 0;left: 50%;z-index: -1;}#sk-container-id-1 div.sk-parallel-item {display: flex;flex-direction: column;z-index: 1;position: relative;background-color: white;}#sk-container-id-1 div.sk-parallel-item:first-child::after {align-self: flex-end;width: 50%;}#sk-container-id-1 div.sk-parallel-item:last-child::after {align-self: flex-start;width: 50%;}#sk-container-id-1 div.sk-parallel-item:only-child::after {width: 0;}#sk-container-id-1 div.sk-dashed-wrapped {border: 1px dashed gray;margin: 0 0.4em 0.5em 0.4em;box-sizing: border-box;padding-bottom: 0.4em;background-color: white;}#sk-container-id-1 div.sk-label label {font-family: monospace;font-weight: bold;display: inline-block;line-height: 1.2em;}#sk-container-id-1 div.sk-label-container {text-align: center;}#sk-container-id-1 div.sk-container {/* jupyter's `normalize.less` sets `[hidden] { display: none; }` but bootstrap.min.css set `[hidden] { display: none !important; }` so we also need the `!important` here to be able to override the default hidden behavior on the sphinx rendered scikit-learn.org. See: https://github.com/scikit-learn/scikit-learn/issues/21755 */display: inline-block !important;position: relative;}#sk-container-id-1 div.sk-text-repr-fallback {display: none;}</style><div id=\"sk-container-id-1\" class=\"sk-top-container\"><div class=\"sk-text-repr-fallback\"><pre>Pipeline(steps=[(&#x27;scale&#x27;, None), (&#x27;model&#x27;, LogisticRegression())])</pre><b>In a Jupyter environment, please rerun this cell to show the HTML representation or trust the notebook. <br />On GitHub, the HTML representation is unable to render, please try loading this page with nbviewer.org.</b></div><div class=\"sk-container\" hidden><div class=\"sk-item sk-dashed-wrapped\"><div class=\"sk-label-container\"><div class=\"sk-label sk-toggleable\"><input class=\"sk-toggleable__control sk-hidden--visually\" id=\"sk-estimator-id-1\" type=\"checkbox\" ><label for=\"sk-estimator-id-1\" class=\"sk-toggleable__label sk-toggleable__label-arrow\">Pipeline</label><div class=\"sk-toggleable__content\"><pre>Pipeline(steps=[(&#x27;scale&#x27;, None), (&#x27;model&#x27;, LogisticRegression())])</pre></div></div></div><div class=\"sk-serial\"><div class=\"sk-item\"><div class=\"sk-estimator sk-toggleable\"><input class=\"sk-toggleable__control sk-hidden--visually\" id=\"sk-estimator-id-2\" type=\"checkbox\" ><label for=\"sk-estimator-id-2\" class=\"sk-toggleable__label sk-toggleable__label-arrow\">None</label><div class=\"sk-toggleable__content\"><pre>None</pre></div></div></div><div class=\"sk-item\"><div class=\"sk-estimator sk-toggleable\"><input class=\"sk-toggleable__control sk-hidden--visually\" id=\"sk-estimator-id-3\" type=\"checkbox\" ><label for=\"sk-estimator-id-3\" class=\"sk-toggleable__label sk-toggleable__label-arrow\">LogisticRegression</label><div class=\"sk-toggleable__content\"><pre>LogisticRegression()</pre></div></div></div></div></div></div></div>"
      ],
      "text/plain": [
       "Pipeline(steps=[('scale', None), ('model', LogisticRegression())])"
      ]
     },
     "execution_count": 32,
     "metadata": {},
     "output_type": "execute_result"
    }
   ],
   "source": [
    "model.fit(X_train, y_train.values.ravel())"
   ]
  },
  {
   "cell_type": "code",
   "execution_count": 33,
   "id": "af59f8c0",
   "metadata": {
    "execution": {
     "iopub.execute_input": "2025-08-05T16:08:41.674479Z",
     "iopub.status.busy": "2025-08-05T16:08:41.673841Z",
     "iopub.status.idle": "2025-08-05T16:08:41.679103Z",
     "shell.execute_reply": "2025-08-05T16:08:41.678114Z"
    },
    "papermill": {
     "duration": 0.030009,
     "end_time": "2025-08-05T16:08:41.680902",
     "exception": false,
     "start_time": "2025-08-05T16:08:41.650893",
     "status": "completed"
    },
    "tags": []
   },
   "outputs": [],
   "source": [
    "from fairness_multiverse.universe import predict_w_threshold"
   ]
  },
  {
   "cell_type": "code",
   "execution_count": 34,
   "id": "a7cf2e16",
   "metadata": {
    "execution": {
     "iopub.execute_input": "2025-08-05T16:08:41.722707Z",
     "iopub.status.busy": "2025-08-05T16:08:41.722094Z",
     "iopub.status.idle": "2025-08-05T16:08:41.842757Z",
     "shell.execute_reply": "2025-08-05T16:08:41.841490Z"
    },
    "papermill": {
     "duration": 0.143108,
     "end_time": "2025-08-05T16:08:41.844770",
     "exception": false,
     "start_time": "2025-08-05T16:08:41.701662",
     "status": "completed"
    },
    "tags": []
   },
   "outputs": [
    {
     "data": {
      "text/plain": [
       "0.8432727678073794"
      ]
     },
     "execution_count": 34,
     "metadata": {},
     "output_type": "execute_result"
    }
   ],
   "source": [
    "probs_test = model.predict_proba(X_test)\n",
    "\n",
    "'''\n",
    "Below code returns a boolean array (or binary 0/1 array depending on how it’s used) where each element \n",
    "is True if the probability of class 1 is greater than or equal to the threshold, and False otherwise.\n",
    "'''\n",
    "y_pred_default = predict_w_threshold(probs_test, 0.5)\n",
    "\n",
    "from sklearn.metrics import accuracy_score\n",
    "\n",
    "# Naive prediction\n",
    "accuracy_score(y_true = y_true, y_pred = y_pred_default)"
   ]
  },
  {
   "cell_type": "code",
   "execution_count": 35,
   "id": "081964c3",
   "metadata": {
    "execution": {
     "iopub.execute_input": "2025-08-05T16:08:41.884259Z",
     "iopub.status.busy": "2025-08-05T16:08:41.883373Z",
     "iopub.status.idle": "2025-08-05T16:08:41.972882Z",
     "shell.execute_reply": "2025-08-05T16:08:41.971908Z"
    },
    "papermill": {
     "duration": 0.113172,
     "end_time": "2025-08-05T16:08:41.974618",
     "exception": false,
     "start_time": "2025-08-05T16:08:41.861446",
     "status": "completed"
    },
    "tags": []
   },
   "outputs": [
    {
     "data": {
      "text/plain": [
       "array([0, 0, 0, ..., 0, 0, 0])"
      ]
     },
     "execution_count": 35,
     "metadata": {},
     "output_type": "execute_result"
    }
   ],
   "source": [
    "model.predict(X_test)"
   ]
  },
  {
   "cell_type": "markdown",
   "id": "56c9705b",
   "metadata": {
    "papermill": {
     "duration": 0.023892,
     "end_time": "2025-08-05T16:08:42.024341",
     "exception": false,
     "start_time": "2025-08-05T16:08:42.000449",
     "status": "completed"
    },
    "tags": []
   },
   "source": [
    "# Conformal Prediction"
   ]
  },
  {
   "cell_type": "code",
   "execution_count": 36,
   "id": "160ec6ff",
   "metadata": {
    "execution": {
     "iopub.execute_input": "2025-08-05T16:08:42.070497Z",
     "iopub.status.busy": "2025-08-05T16:08:42.069296Z",
     "iopub.status.idle": "2025-08-05T16:08:42.075681Z",
     "shell.execute_reply": "2025-08-05T16:08:42.074506Z"
    },
    "papermill": {
     "duration": 0.030282,
     "end_time": "2025-08-05T16:08:42.077770",
     "exception": false,
     "start_time": "2025-08-05T16:08:42.047488",
     "status": "completed"
    },
    "tags": []
   },
   "outputs": [],
   "source": [
    "# Miscoverage level for conformal prediction (10% allowed error rate => 90% target coverage)\n",
    "alpha = 0.1"
   ]
  },
  {
   "cell_type": "code",
   "execution_count": 37,
   "id": "eadf4555-3dd3-440e-8e35-f82a4ad9f855",
   "metadata": {
    "execution": {
     "iopub.execute_input": "2025-08-05T16:08:42.119287Z",
     "iopub.status.busy": "2025-08-05T16:08:42.118690Z",
     "iopub.status.idle": "2025-08-05T16:08:42.232355Z",
     "shell.execute_reply": "2025-08-05T16:08:42.231226Z"
    },
    "papermill": {
     "duration": 0.135647,
     "end_time": "2025-08-05T16:08:42.234451",
     "exception": false,
     "start_time": "2025-08-05T16:08:42.098804",
     "status": "completed"
    },
    "tags": []
   },
   "outputs": [],
   "source": [
    "probs_calib = model.predict_proba(X_calib)"
   ]
  },
  {
   "cell_type": "code",
   "execution_count": 38,
   "id": "2ed93547-6d5d-4983-9b36-1ecb300da49a",
   "metadata": {
    "execution": {
     "iopub.execute_input": "2025-08-05T16:08:42.282653Z",
     "iopub.status.busy": "2025-08-05T16:08:42.281268Z",
     "iopub.status.idle": "2025-08-05T16:08:42.288215Z",
     "shell.execute_reply": "2025-08-05T16:08:42.287126Z"
    },
    "papermill": {
     "duration": 0.033582,
     "end_time": "2025-08-05T16:08:42.290289",
     "exception": false,
     "start_time": "2025-08-05T16:08:42.256707",
     "status": "completed"
    },
    "tags": []
   },
   "outputs": [],
   "source": [
    "y_calib = y_calib.values.ravel().astype(int)"
   ]
  },
  {
   "cell_type": "code",
   "execution_count": 39,
   "id": "65d1320d-f588-4b38-9072-62af1ae97f7d",
   "metadata": {
    "execution": {
     "iopub.execute_input": "2025-08-05T16:08:42.333805Z",
     "iopub.status.busy": "2025-08-05T16:08:42.332929Z",
     "iopub.status.idle": "2025-08-05T16:08:42.342990Z",
     "shell.execute_reply": "2025-08-05T16:08:42.341761Z"
    },
    "papermill": {
     "duration": 0.03394,
     "end_time": "2025-08-05T16:08:42.345148",
     "exception": false,
     "start_time": "2025-08-05T16:08:42.311208",
     "status": "completed"
    },
    "tags": []
   },
   "outputs": [],
   "source": [
    "from fairness_multiverse.conformal import compute_nc_scores\n",
    "\n",
    "# Compute nonconformity scores on calibration set (1 - probability of true class)\n",
    "nc_scores = compute_nc_scores(probs_calib, y_calib)"
   ]
  },
  {
   "cell_type": "code",
   "execution_count": 40,
   "id": "df3b8ca3-53b7-43d5-9667-7c85da7aeda2",
   "metadata": {
    "execution": {
     "iopub.execute_input": "2025-08-05T16:08:42.403732Z",
     "iopub.status.busy": "2025-08-05T16:08:42.403195Z",
     "iopub.status.idle": "2025-08-05T16:08:42.410353Z",
     "shell.execute_reply": "2025-08-05T16:08:42.409167Z"
    },
    "papermill": {
     "duration": 0.039138,
     "end_time": "2025-08-05T16:08:42.412520",
     "exception": false,
     "start_time": "2025-08-05T16:08:42.373382",
     "status": "completed"
    },
    "tags": []
   },
   "outputs": [],
   "source": [
    "from fairness_multiverse.conformal import find_threshold\n",
    "\n",
    "# Find conformal threshold q_hat for the given alpha (split conformal method)\n",
    "q_hat = find_threshold(nc_scores, alpha)"
   ]
  },
  {
   "cell_type": "code",
   "execution_count": 41,
   "id": "4d29e6c1-0ef6-4aa4-b8fe-4fe79b0d033a",
   "metadata": {
    "execution": {
     "iopub.execute_input": "2025-08-05T16:08:42.471294Z",
     "iopub.status.busy": "2025-08-05T16:08:42.470183Z",
     "iopub.status.idle": "2025-08-05T16:08:42.478593Z",
     "shell.execute_reply": "2025-08-05T16:08:42.477404Z"
    },
    "papermill": {
     "duration": 0.039947,
     "end_time": "2025-08-05T16:08:42.480985",
     "exception": false,
     "start_time": "2025-08-05T16:08:42.441038",
     "status": "completed"
    },
    "tags": []
   },
   "outputs": [
    {
     "data": {
      "text/plain": [
       "0.692634184673828"
      ]
     },
     "execution_count": 41,
     "metadata": {},
     "output_type": "execute_result"
    }
   ],
   "source": [
    "q_hat"
   ]
  },
  {
   "cell_type": "code",
   "execution_count": 42,
   "id": "92460794-cdac-4be2-ba28-f28c0515a6fb",
   "metadata": {
    "execution": {
     "iopub.execute_input": "2025-08-05T16:08:42.539428Z",
     "iopub.status.busy": "2025-08-05T16:08:42.538671Z",
     "iopub.status.idle": "2025-08-05T16:08:43.986093Z",
     "shell.execute_reply": "2025-08-05T16:08:43.985226Z"
    },
    "papermill": {
     "duration": 1.478351,
     "end_time": "2025-08-05T16:08:43.987565",
     "exception": false,
     "start_time": "2025-08-05T16:08:42.509214",
     "status": "completed"
    },
    "tags": []
   },
   "outputs": [],
   "source": [
    "from fairness_multiverse.conformal import predict_conformal_sets\n",
    "\n",
    "# Generate prediction sets for each test example\n",
    "pred_sets = predict_conformal_sets(model, X_test, q_hat)"
   ]
  },
  {
   "cell_type": "code",
   "execution_count": 43,
   "id": "d90c9a65-e6db-4f5d-80cd-e68fb7e46829",
   "metadata": {
    "execution": {
     "iopub.execute_input": "2025-08-05T16:08:44.011668Z",
     "iopub.status.busy": "2025-08-05T16:08:44.011145Z",
     "iopub.status.idle": "2025-08-05T16:08:44.016042Z",
     "shell.execute_reply": "2025-08-05T16:08:44.015296Z"
    },
    "papermill": {
     "duration": 0.018443,
     "end_time": "2025-08-05T16:08:44.017685",
     "exception": false,
     "start_time": "2025-08-05T16:08:43.999242",
     "status": "completed"
    },
    "tags": []
   },
   "outputs": [],
   "source": [
    "y_true = y_true.squeeze()"
   ]
  },
  {
   "cell_type": "code",
   "execution_count": 44,
   "id": "3a58a54a-1e68-46b9-927a-df01f18aebc8",
   "metadata": {
    "execution": {
     "iopub.execute_input": "2025-08-05T16:08:44.041989Z",
     "iopub.status.busy": "2025-08-05T16:08:44.041414Z",
     "iopub.status.idle": "2025-08-05T16:08:44.807520Z",
     "shell.execute_reply": "2025-08-05T16:08:44.806391Z"
    },
    "papermill": {
     "duration": 0.779729,
     "end_time": "2025-08-05T16:08:44.809236",
     "exception": false,
     "start_time": "2025-08-05T16:08:44.029507",
     "status": "completed"
    },
    "tags": []
   },
   "outputs": [],
   "source": [
    "from fairness_multiverse.conformal import evaluate_sets\n",
    "\n",
    "# Evaluate coverage and average set size on test data\n",
    "metrics = evaluate_sets(pred_sets, y_true)"
   ]
  },
  {
   "cell_type": "markdown",
   "id": "2b569c12-9aaa-4c88-98c9-bbcd0cf3ebb8",
   "metadata": {
    "papermill": {
     "duration": 0.010399,
     "end_time": "2025-08-05T16:08:44.838420",
     "exception": false,
     "start_time": "2025-08-05T16:08:44.828021",
     "status": "completed"
    },
    "tags": []
   },
   "source": [
    "# CP Metrics"
   ]
  },
  {
   "cell_type": "code",
   "execution_count": 45,
   "id": "5ce0a5cb-201f-45a0-ade5-94c7f0bd6095",
   "metadata": {
    "execution": {
     "iopub.execute_input": "2025-08-05T16:08:44.863951Z",
     "iopub.status.busy": "2025-08-05T16:08:44.862620Z",
     "iopub.status.idle": "2025-08-05T16:08:44.872173Z",
     "shell.execute_reply": "2025-08-05T16:08:44.871055Z"
    },
    "papermill": {
     "duration": 0.03003,
     "end_time": "2025-08-05T16:08:44.878529",
     "exception": false,
     "start_time": "2025-08-05T16:08:44.848499",
     "status": "completed"
    },
    "tags": []
   },
   "outputs": [
    {
     "data": {
      "text/plain": [
       "{'coverage': 0.9087504180135993, 'avg_size': 1.2483669602051053}"
      ]
     },
     "execution_count": 45,
     "metadata": {},
     "output_type": "execute_result"
    }
   ],
   "source": [
    "metrics"
   ]
  },
  {
   "cell_type": "code",
   "execution_count": 46,
   "id": "9b9a838d-31c9-430b-ae14-12baee460d17",
   "metadata": {
    "execution": {
     "iopub.execute_input": "2025-08-05T16:08:44.952783Z",
     "iopub.status.busy": "2025-08-05T16:08:44.952406Z",
     "iopub.status.idle": "2025-08-05T16:08:44.959098Z",
     "shell.execute_reply": "2025-08-05T16:08:44.958316Z"
    },
    "papermill": {
     "duration": 0.044113,
     "end_time": "2025-08-05T16:08:44.960597",
     "exception": false,
     "start_time": "2025-08-05T16:08:44.916484",
     "status": "completed"
    },
    "tags": []
   },
   "outputs": [],
   "source": [
    "example_universe = universe.copy()\n",
    "universe_training_year = example_universe.get(\"training_year\")\n",
    "universe_training_size = example_universe.get(\"training_size\")\n",
    "universe_scale = example_universe.get(\"scale\")\n",
    "universe_model = example_universe.get(\"model\")\n",
    "universe_exclude_features = example_universe.get(\"exclude_features\")\n",
    "universe_exclude_subgroups = example_universe.get(\"exclude_subgroups\")"
   ]
  },
  {
   "cell_type": "code",
   "execution_count": 47,
   "id": "f4b6a8ac-9dc0-4245-8a91-5b3b5999c4f9",
   "metadata": {
    "execution": {
     "iopub.execute_input": "2025-08-05T16:08:44.983646Z",
     "iopub.status.busy": "2025-08-05T16:08:44.983147Z",
     "iopub.status.idle": "2025-08-05T16:08:44.988438Z",
     "shell.execute_reply": "2025-08-05T16:08:44.987591Z"
    },
    "papermill": {
     "duration": 0.017807,
     "end_time": "2025-08-05T16:08:44.989942",
     "exception": false,
     "start_time": "2025-08-05T16:08:44.972135",
     "status": "completed"
    },
    "tags": []
   },
   "outputs": [],
   "source": [
    "cp_metrics_dict = {\n",
    "    \"universe_id\": [universe_id],\n",
    "    \"universe_training_year\": [universe_training_year],\n",
    "    \"universe_training_size\": [universe_training_size],\n",
    "    \"universe_scale\": [universe_scale],\n",
    "    \"universe_model\": [universe_model],\n",
    "    \"universe_exclude_features\": [universe_exclude_features],\n",
    "    \"universe_exclude_subgroups\": [universe_exclude_subgroups],\n",
    "    \"q_hat\": [q_hat],\n",
    "    \"coverage\": [metrics[\"coverage\"]],\n",
    "    \"avg_size\": [metrics[\"avg_size\"]],\n",
    "}"
   ]
  },
  {
   "cell_type": "code",
   "execution_count": 48,
   "id": "908acbb1-0371-4915-85ca-3fa520d2efe2",
   "metadata": {
    "execution": {
     "iopub.execute_input": "2025-08-05T16:08:45.012941Z",
     "iopub.status.busy": "2025-08-05T16:08:45.012445Z",
     "iopub.status.idle": "2025-08-05T16:08:45.018995Z",
     "shell.execute_reply": "2025-08-05T16:08:45.018174Z"
    },
    "papermill": {
     "duration": 0.019286,
     "end_time": "2025-08-05T16:08:45.020474",
     "exception": false,
     "start_time": "2025-08-05T16:08:45.001188",
     "status": "completed"
    },
    "tags": []
   },
   "outputs": [
    {
     "data": {
      "text/plain": [
       "{'universe_id': ['074f0c4181b40de11114e84093e196b6'],\n",
       " 'universe_training_year': ['2014'],\n",
       " 'universe_training_size': ['1k'],\n",
       " 'universe_scale': ['do-not-scale'],\n",
       " 'universe_model': ['logreg'],\n",
       " 'universe_exclude_features': ['none'],\n",
       " 'universe_exclude_subgroups': ['drop-non-german'],\n",
       " 'q_hat': [0.692634184673828],\n",
       " 'coverage': [0.9087504180135993],\n",
       " 'avg_size': [1.2483669602051053]}"
      ]
     },
     "execution_count": 48,
     "metadata": {},
     "output_type": "execute_result"
    }
   ],
   "source": [
    "cp_metrics_dict"
   ]
  },
  {
   "cell_type": "code",
   "execution_count": 49,
   "id": "33007efc-14e9-4ec6-97ac-56a455c82265",
   "metadata": {
    "execution": {
     "iopub.execute_input": "2025-08-05T16:08:45.046940Z",
     "iopub.status.busy": "2025-08-05T16:08:45.046550Z",
     "iopub.status.idle": "2025-08-05T16:08:45.051679Z",
     "shell.execute_reply": "2025-08-05T16:08:45.050918Z"
    },
    "papermill": {
     "duration": 0.019648,
     "end_time": "2025-08-05T16:08:45.053157",
     "exception": false,
     "start_time": "2025-08-05T16:08:45.033509",
     "status": "completed"
    },
    "tags": []
   },
   "outputs": [],
   "source": [
    "cp_metrics_df = pd.DataFrame(cp_metrics_dict)"
   ]
  },
  {
   "cell_type": "code",
   "execution_count": 50,
   "id": "db12611b-57b2-4910-b9d0-355adfd6e7bf",
   "metadata": {
    "execution": {
     "iopub.execute_input": "2025-08-05T16:08:45.079893Z",
     "iopub.status.busy": "2025-08-05T16:08:45.079284Z",
     "iopub.status.idle": "2025-08-05T16:08:45.093318Z",
     "shell.execute_reply": "2025-08-05T16:08:45.092449Z"
    },
    "papermill": {
     "duration": 0.030366,
     "end_time": "2025-08-05T16:08:45.094793",
     "exception": false,
     "start_time": "2025-08-05T16:08:45.064427",
     "status": "completed"
    },
    "tags": []
   },
   "outputs": [
    {
     "data": {
      "text/html": [
       "<div>\n",
       "<style scoped>\n",
       "    .dataframe tbody tr th:only-of-type {\n",
       "        vertical-align: middle;\n",
       "    }\n",
       "\n",
       "    .dataframe tbody tr th {\n",
       "        vertical-align: top;\n",
       "    }\n",
       "\n",
       "    .dataframe thead th {\n",
       "        text-align: right;\n",
       "    }\n",
       "</style>\n",
       "<table border=\"1\" class=\"dataframe\">\n",
       "  <thead>\n",
       "    <tr style=\"text-align: right;\">\n",
       "      <th></th>\n",
       "      <th>universe_id</th>\n",
       "      <th>universe_training_year</th>\n",
       "      <th>universe_training_size</th>\n",
       "      <th>universe_scale</th>\n",
       "      <th>universe_model</th>\n",
       "      <th>universe_exclude_features</th>\n",
       "      <th>universe_exclude_subgroups</th>\n",
       "      <th>q_hat</th>\n",
       "      <th>coverage</th>\n",
       "      <th>avg_size</th>\n",
       "    </tr>\n",
       "  </thead>\n",
       "  <tbody>\n",
       "    <tr>\n",
       "      <th>0</th>\n",
       "      <td>074f0c4181b40de11114e84093e196b6</td>\n",
       "      <td>2014</td>\n",
       "      <td>1k</td>\n",
       "      <td>do-not-scale</td>\n",
       "      <td>logreg</td>\n",
       "      <td>none</td>\n",
       "      <td>drop-non-german</td>\n",
       "      <td>0.692634</td>\n",
       "      <td>0.90875</td>\n",
       "      <td>1.248367</td>\n",
       "    </tr>\n",
       "  </tbody>\n",
       "</table>\n",
       "</div>"
      ],
      "text/plain": [
       "                        universe_id universe_training_year  \\\n",
       "0  074f0c4181b40de11114e84093e196b6                   2014   \n",
       "\n",
       "  universe_training_size universe_scale universe_model  \\\n",
       "0                     1k   do-not-scale         logreg   \n",
       "\n",
       "  universe_exclude_features universe_exclude_subgroups     q_hat  coverage  \\\n",
       "0                      none            drop-non-german  0.692634   0.90875   \n",
       "\n",
       "   avg_size  \n",
       "0  1.248367  "
      ]
     },
     "execution_count": 50,
     "metadata": {},
     "output_type": "execute_result"
    }
   ],
   "source": [
    "cp_metrics_df"
   ]
  },
  {
   "cell_type": "code",
   "execution_count": 51,
   "id": "b7fbde55-a0a1-47e4-9af6-fe4a17fa8c61",
   "metadata": {
    "execution": {
     "iopub.execute_input": "2025-08-05T16:08:45.120543Z",
     "iopub.status.busy": "2025-08-05T16:08:45.119613Z",
     "iopub.status.idle": "2025-08-05T16:08:45.124656Z",
     "shell.execute_reply": "2025-08-05T16:08:45.123685Z"
    },
    "papermill": {
     "duration": 0.020247,
     "end_time": "2025-08-05T16:08:45.126281",
     "exception": false,
     "start_time": "2025-08-05T16:08:45.106034",
     "status": "completed"
    },
    "tags": []
   },
   "outputs": [],
   "source": [
    "# Conditional Coverage & looking at subgroups"
   ]
  },
  {
   "cell_type": "code",
   "execution_count": 52,
   "id": "027ae886-68dd-4141-96c7-805a5450e1ef",
   "metadata": {
    "execution": {
     "iopub.execute_input": "2025-08-05T16:08:45.172050Z",
     "iopub.status.busy": "2025-08-05T16:08:45.171697Z",
     "iopub.status.idle": "2025-08-05T16:08:45.404775Z",
     "shell.execute_reply": "2025-08-05T16:08:45.404012Z"
    },
    "papermill": {
     "duration": 0.256278,
     "end_time": "2025-08-05T16:08:45.406630",
     "exception": false,
     "start_time": "2025-08-05T16:08:45.150352",
     "status": "completed"
    },
    "tags": []
   },
   "outputs": [],
   "source": [
    "from fairness_multiverse.conformal import build_cp_groups\n",
    "\n",
    "cp_groups_df = build_cp_groups(pred_sets, y_true, X_test.index, org_test)\n",
    "#needs universe_id and setting"
   ]
  },
  {
   "cell_type": "code",
   "execution_count": 53,
   "id": "6cbdab96-b2b2-45af-ad54-d0516db2e28d",
   "metadata": {
    "execution": {
     "iopub.execute_input": "2025-08-05T16:08:45.440508Z",
     "iopub.status.busy": "2025-08-05T16:08:45.440006Z",
     "iopub.status.idle": "2025-08-05T16:08:46.932316Z",
     "shell.execute_reply": "2025-08-05T16:08:46.931534Z"
    },
    "papermill": {
     "duration": 1.505913,
     "end_time": "2025-08-05T16:08:46.933834",
     "exception": false,
     "start_time": "2025-08-05T16:08:45.427921",
     "status": "completed"
    },
    "tags": []
   },
   "outputs": [],
   "source": [
    "# Define covered = 1 if true_label is in the predicted set\n",
    "cp_groups_df['covered'] = cp_groups_df.apply(\n",
    "    lambda r: int(r['true_label'] in r['pred_set']),\n",
    "    axis=1\n",
    ")"
   ]
  },
  {
   "cell_type": "code",
   "execution_count": 54,
   "id": "338ff529-1a6b-4b87-a931-8e4788d52aad",
   "metadata": {
    "execution": {
     "iopub.execute_input": "2025-08-05T16:08:46.957117Z",
     "iopub.status.busy": "2025-08-05T16:08:46.956825Z",
     "iopub.status.idle": "2025-08-05T16:08:46.960911Z",
     "shell.execute_reply": "2025-08-05T16:08:46.960118Z"
    },
    "papermill": {
     "duration": 0.017012,
     "end_time": "2025-08-05T16:08:46.962508",
     "exception": false,
     "start_time": "2025-08-05T16:08:46.945496",
     "status": "completed"
    },
    "tags": []
   },
   "outputs": [],
   "source": [
    "#cp_groups_df"
   ]
  },
  {
   "cell_type": "code",
   "execution_count": 55,
   "id": "90032e27-66df-4540-9169-4e89cfbaa758",
   "metadata": {
    "execution": {
     "iopub.execute_input": "2025-08-05T16:08:46.985858Z",
     "iopub.status.busy": "2025-08-05T16:08:46.985277Z",
     "iopub.status.idle": "2025-08-05T16:08:46.994282Z",
     "shell.execute_reply": "2025-08-05T16:08:46.993556Z"
    },
    "papermill": {
     "duration": 0.02162,
     "end_time": "2025-08-05T16:08:46.995616",
     "exception": false,
     "start_time": "2025-08-05T16:08:46.973996",
     "status": "completed"
    },
    "tags": []
   },
   "outputs": [],
   "source": [
    "subgroups = ['frau1','nongerman','nongerman_male','nongerman_female']\n",
    "\n",
    "# Conditional coverage for subgroup==1\n",
    "cond_coverage = {\n",
    "    g: cp_groups_df.loc[cp_groups_df[g]==1, 'covered'].mean()\n",
    "    for g in subgroups\n",
    "}"
   ]
  },
  {
   "cell_type": "code",
   "execution_count": 56,
   "id": "1e348fb1-b9c3-45bc-ba23-f016827a7e0d",
   "metadata": {
    "execution": {
     "iopub.execute_input": "2025-08-05T16:08:47.018547Z",
     "iopub.status.busy": "2025-08-05T16:08:47.018036Z",
     "iopub.status.idle": "2025-08-05T16:08:47.024018Z",
     "shell.execute_reply": "2025-08-05T16:08:47.023167Z"
    },
    "papermill": {
     "duration": 0.018836,
     "end_time": "2025-08-05T16:08:47.025468",
     "exception": false,
     "start_time": "2025-08-05T16:08:47.006632",
     "status": "completed"
    },
    "tags": []
   },
   "outputs": [
    {
     "data": {
      "text/plain": [
       "{'frau1': 0.9096913330637553,\n",
       " 'nongerman': 0.9415033963958906,\n",
       " 'nongerman_male': 0.951454561830136,\n",
       " 'nongerman_female': 0.925037257824143}"
      ]
     },
     "execution_count": 56,
     "metadata": {},
     "output_type": "execute_result"
    }
   ],
   "source": [
    "cond_coverage"
   ]
  },
  {
   "cell_type": "code",
   "execution_count": 57,
   "id": "f5093324-c3dd-4d63-bc4c-8d945e5c8bbb",
   "metadata": {
    "execution": {
     "iopub.execute_input": "2025-08-05T16:08:47.048963Z",
     "iopub.status.busy": "2025-08-05T16:08:47.048742Z",
     "iopub.status.idle": "2025-08-05T16:08:47.054133Z",
     "shell.execute_reply": "2025-08-05T16:08:47.053367Z"
    },
    "papermill": {
     "duration": 0.018702,
     "end_time": "2025-08-05T16:08:47.055526",
     "exception": false,
     "start_time": "2025-08-05T16:08:47.036824",
     "status": "completed"
    },
    "tags": []
   },
   "outputs": [],
   "source": [
    "for subgroup, cov in cond_coverage.items():\n",
    "    cp_metrics_df[f\"cov_{subgroup}\"] = cov"
   ]
  },
  {
   "cell_type": "code",
   "execution_count": 58,
   "id": "6e872e10-dbe5-49e8-b554-5030c98ff75d",
   "metadata": {
    "execution": {
     "iopub.execute_input": "2025-08-05T16:08:47.079313Z",
     "iopub.status.busy": "2025-08-05T16:08:47.078796Z",
     "iopub.status.idle": "2025-08-05T16:08:47.092978Z",
     "shell.execute_reply": "2025-08-05T16:08:47.092141Z"
    },
    "papermill": {
     "duration": 0.027298,
     "end_time": "2025-08-05T16:08:47.094471",
     "exception": false,
     "start_time": "2025-08-05T16:08:47.067173",
     "status": "completed"
    },
    "tags": []
   },
   "outputs": [
    {
     "data": {
      "text/html": [
       "<div>\n",
       "<style scoped>\n",
       "    .dataframe tbody tr th:only-of-type {\n",
       "        vertical-align: middle;\n",
       "    }\n",
       "\n",
       "    .dataframe tbody tr th {\n",
       "        vertical-align: top;\n",
       "    }\n",
       "\n",
       "    .dataframe thead th {\n",
       "        text-align: right;\n",
       "    }\n",
       "</style>\n",
       "<table border=\"1\" class=\"dataframe\">\n",
       "  <thead>\n",
       "    <tr style=\"text-align: right;\">\n",
       "      <th></th>\n",
       "      <th>universe_id</th>\n",
       "      <th>universe_training_year</th>\n",
       "      <th>universe_training_size</th>\n",
       "      <th>universe_scale</th>\n",
       "      <th>universe_model</th>\n",
       "      <th>universe_exclude_features</th>\n",
       "      <th>universe_exclude_subgroups</th>\n",
       "      <th>q_hat</th>\n",
       "      <th>coverage</th>\n",
       "      <th>avg_size</th>\n",
       "      <th>cov_frau1</th>\n",
       "      <th>cov_nongerman</th>\n",
       "      <th>cov_nongerman_male</th>\n",
       "      <th>cov_nongerman_female</th>\n",
       "    </tr>\n",
       "  </thead>\n",
       "  <tbody>\n",
       "    <tr>\n",
       "      <th>0</th>\n",
       "      <td>074f0c4181b40de11114e84093e196b6</td>\n",
       "      <td>2014</td>\n",
       "      <td>1k</td>\n",
       "      <td>do-not-scale</td>\n",
       "      <td>logreg</td>\n",
       "      <td>none</td>\n",
       "      <td>drop-non-german</td>\n",
       "      <td>0.692634</td>\n",
       "      <td>0.90875</td>\n",
       "      <td>1.248367</td>\n",
       "      <td>0.909691</td>\n",
       "      <td>0.941503</td>\n",
       "      <td>0.951455</td>\n",
       "      <td>0.925037</td>\n",
       "    </tr>\n",
       "  </tbody>\n",
       "</table>\n",
       "</div>"
      ],
      "text/plain": [
       "                        universe_id universe_training_year  \\\n",
       "0  074f0c4181b40de11114e84093e196b6                   2014   \n",
       "\n",
       "  universe_training_size universe_scale universe_model  \\\n",
       "0                     1k   do-not-scale         logreg   \n",
       "\n",
       "  universe_exclude_features universe_exclude_subgroups     q_hat  coverage  \\\n",
       "0                      none            drop-non-german  0.692634   0.90875   \n",
       "\n",
       "   avg_size  cov_frau1  cov_nongerman  cov_nongerman_male  \\\n",
       "0  1.248367   0.909691       0.941503            0.951455   \n",
       "\n",
       "   cov_nongerman_female  \n",
       "0              0.925037  "
      ]
     },
     "execution_count": 58,
     "metadata": {},
     "output_type": "execute_result"
    }
   ],
   "source": [
    "cp_metrics_df"
   ]
  },
  {
   "cell_type": "markdown",
   "id": "33774451",
   "metadata": {
    "papermill": {
     "duration": 0.010965,
     "end_time": "2025-08-05T16:08:47.116944",
     "exception": false,
     "start_time": "2025-08-05T16:08:47.105979",
     "status": "completed"
    },
    "tags": []
   },
   "source": [
    "# (Fairness) Metrics"
   ]
  },
  {
   "cell_type": "code",
   "execution_count": 59,
   "id": "debc5d62",
   "metadata": {
    "execution": {
     "iopub.execute_input": "2025-08-05T16:08:47.140791Z",
     "iopub.status.busy": "2025-08-05T16:08:47.140282Z",
     "iopub.status.idle": "2025-08-05T16:08:47.154468Z",
     "shell.execute_reply": "2025-08-05T16:08:47.153745Z"
    },
    "papermill": {
     "duration": 0.027904,
     "end_time": "2025-08-05T16:08:47.156003",
     "exception": false,
     "start_time": "2025-08-05T16:08:47.128099",
     "status": "completed"
    },
    "tags": []
   },
   "outputs": [],
   "source": [
    "# do I need to include maxdeutsch1.missing?\n",
    "\n",
    "import numpy as np\n",
    "\n",
    "colname_to_bin = \"maxdeutsch1\"\n",
    "majority_value = org_train[colname_to_bin].mode()[0]\n",
    "\n",
    "org_test[\"majmin\"] = np.where(org_test[colname_to_bin] == majority_value, \"majority\", \"minority\")"
   ]
  },
  {
   "cell_type": "code",
   "execution_count": 60,
   "id": "06a50de5",
   "metadata": {
    "execution": {
     "iopub.execute_input": "2025-08-05T16:08:47.181128Z",
     "iopub.status.busy": "2025-08-05T16:08:47.180387Z",
     "iopub.status.idle": "2025-08-05T16:08:49.092043Z",
     "shell.execute_reply": "2025-08-05T16:08:49.091064Z"
    },
    "papermill": {
     "duration": 1.926308,
     "end_time": "2025-08-05T16:08:49.094088",
     "exception": false,
     "start_time": "2025-08-05T16:08:47.167780",
     "status": "completed"
    },
    "tags": []
   },
   "outputs": [],
   "source": [
    "example_universe = universe.copy()\n",
    "example_universe[\"cutoff\"] = example_universe[\"cutoff\"][0]\n",
    "example_universe[\"eval_fairness_grouping\"] = example_universe[\"eval_fairness_grouping\"][0]\n",
    "fairness_dict, metric_frame = universe_analysis.compute_metrics(\n",
    "    example_universe,\n",
    "    y_pred_prob=probs_test,\n",
    "    y_test=y_true,\n",
    "    org_test=org_test,\n",
    ")"
   ]
  },
  {
   "cell_type": "markdown",
   "id": "f95d4e02",
   "metadata": {
    "papermill": {
     "duration": 0.023512,
     "end_time": "2025-08-05T16:08:49.142576",
     "exception": false,
     "start_time": "2025-08-05T16:08:49.119064",
     "status": "completed"
    },
    "tags": []
   },
   "source": [
    "# Overall"
   ]
  },
  {
   "cell_type": "markdown",
   "id": "bdee4871",
   "metadata": {
    "papermill": {
     "duration": 0.023675,
     "end_time": "2025-08-05T16:08:49.189718",
     "exception": false,
     "start_time": "2025-08-05T16:08:49.166043",
     "status": "completed"
    },
    "tags": []
   },
   "source": [
    "Fairness\n",
    "Main fairness target: Equalized Odds. Seems to be a better fit than equal opportunity, since we're not only interested in Y = 1. Seems to be a better fit than demographic parity, since we also care about accuracy, not just equal distribution of preds.\n",
    "\n",
    "Pick column for computation of fairness metrics\n",
    "\n",
    "Performance\n",
    "Overall performance measures, most interesting in relation to the measures split by group below"
   ]
  },
  {
   "cell_type": "code",
   "execution_count": 61,
   "id": "c4e067c6",
   "metadata": {
    "execution": {
     "iopub.execute_input": "2025-08-05T16:08:49.238409Z",
     "iopub.status.busy": "2025-08-05T16:08:49.237722Z",
     "iopub.status.idle": "2025-08-05T16:08:49.246734Z",
     "shell.execute_reply": "2025-08-05T16:08:49.245690Z"
    },
    "papermill": {
     "duration": 0.03532,
     "end_time": "2025-08-05T16:08:49.248489",
     "exception": false,
     "start_time": "2025-08-05T16:08:49.213169",
     "status": "completed"
    },
    "tags": []
   },
   "outputs": [
    {
     "data": {
      "text/plain": [
       "accuracy                   0.216553\n",
       "balanced accuracy          0.531141\n",
       "f1                         0.238100\n",
       "precision                  0.136019\n",
       "false positive rate        0.892010\n",
       "false negative rate        0.045707\n",
       "selection rate             0.900000\n",
       "count                  89710.000000\n",
       "dtype: float64"
      ]
     },
     "execution_count": 61,
     "metadata": {},
     "output_type": "execute_result"
    }
   ],
   "source": [
    "metric_frame.overall"
   ]
  },
  {
   "cell_type": "markdown",
   "id": "e968fe9d",
   "metadata": {
    "papermill": {
     "duration": 0.023556,
     "end_time": "2025-08-05T16:08:49.295970",
     "exception": false,
     "start_time": "2025-08-05T16:08:49.272414",
     "status": "completed"
    },
    "tags": []
   },
   "source": [
    "By Group"
   ]
  },
  {
   "cell_type": "code",
   "execution_count": 62,
   "id": "ec325bce",
   "metadata": {
    "execution": {
     "iopub.execute_input": "2025-08-05T16:08:49.344640Z",
     "iopub.status.busy": "2025-08-05T16:08:49.344054Z",
     "iopub.status.idle": "2025-08-05T16:08:49.362163Z",
     "shell.execute_reply": "2025-08-05T16:08:49.360837Z"
    },
    "papermill": {
     "duration": 0.044353,
     "end_time": "2025-08-05T16:08:49.364003",
     "exception": false,
     "start_time": "2025-08-05T16:08:49.319650",
     "status": "completed"
    },
    "tags": []
   },
   "outputs": [
    {
     "data": {
      "text/html": [
       "<div>\n",
       "<style scoped>\n",
       "    .dataframe tbody tr th:only-of-type {\n",
       "        vertical-align: middle;\n",
       "    }\n",
       "\n",
       "    .dataframe tbody tr th {\n",
       "        vertical-align: top;\n",
       "    }\n",
       "\n",
       "    .dataframe thead th {\n",
       "        text-align: right;\n",
       "    }\n",
       "</style>\n",
       "<table border=\"1\" class=\"dataframe\">\n",
       "  <thead>\n",
       "    <tr style=\"text-align: right;\">\n",
       "      <th></th>\n",
       "      <th>accuracy</th>\n",
       "      <th>balanced accuracy</th>\n",
       "      <th>f1</th>\n",
       "      <th>precision</th>\n",
       "      <th>false positive rate</th>\n",
       "      <th>false negative rate</th>\n",
       "      <th>selection rate</th>\n",
       "      <th>count</th>\n",
       "    </tr>\n",
       "    <tr>\n",
       "      <th>majmin</th>\n",
       "      <th></th>\n",
       "      <th></th>\n",
       "      <th></th>\n",
       "      <th></th>\n",
       "      <th></th>\n",
       "      <th></th>\n",
       "      <th></th>\n",
       "      <th></th>\n",
       "    </tr>\n",
       "  </thead>\n",
       "  <tbody>\n",
       "    <tr>\n",
       "      <th>majority</th>\n",
       "      <td>0.236750</td>\n",
       "      <td>0.538613</td>\n",
       "      <td>0.247305</td>\n",
       "      <td>0.142180</td>\n",
       "      <td>0.871681</td>\n",
       "      <td>0.051094</td>\n",
       "      <td>0.881885</td>\n",
       "      <td>69170.0</td>\n",
       "    </tr>\n",
       "    <tr>\n",
       "      <th>minority</th>\n",
       "      <td>0.148539</td>\n",
       "      <td>0.507958</td>\n",
       "      <td>0.208893</td>\n",
       "      <td>0.116977</td>\n",
       "      <td>0.959168</td>\n",
       "      <td>0.024916</td>\n",
       "      <td>0.961003</td>\n",
       "      <td>20540.0</td>\n",
       "    </tr>\n",
       "  </tbody>\n",
       "</table>\n",
       "</div>"
      ],
      "text/plain": [
       "          accuracy  balanced accuracy        f1  precision  \\\n",
       "majmin                                                       \n",
       "majority  0.236750           0.538613  0.247305   0.142180   \n",
       "minority  0.148539           0.507958  0.208893   0.116977   \n",
       "\n",
       "          false positive rate  false negative rate  selection rate    count  \n",
       "majmin                                                                       \n",
       "majority             0.871681             0.051094        0.881885  69170.0  \n",
       "minority             0.959168             0.024916        0.961003  20540.0  "
      ]
     },
     "execution_count": 62,
     "metadata": {},
     "output_type": "execute_result"
    }
   ],
   "source": [
    "metric_frame.by_group"
   ]
  },
  {
   "cell_type": "code",
   "execution_count": 63,
   "id": "a9ddbe63",
   "metadata": {
    "execution": {
     "iopub.execute_input": "2025-08-05T16:08:49.414539Z",
     "iopub.status.busy": "2025-08-05T16:08:49.414209Z",
     "iopub.status.idle": "2025-08-05T16:08:51.906508Z",
     "shell.execute_reply": "2025-08-05T16:08:51.905634Z"
    },
    "papermill": {
     "duration": 2.519208,
     "end_time": "2025-08-05T16:08:51.908053",
     "exception": false,
     "start_time": "2025-08-05T16:08:49.388845",
     "status": "completed"
    },
    "tags": []
   },
   "outputs": [
    {
     "data": {
      "text/plain": [
       "array([[<Axes: title={'center': 'accuracy'}, xlabel='majmin'>,\n",
       "        <Axes: title={'center': 'balanced accuracy'}, xlabel='majmin'>,\n",
       "        <Axes: title={'center': 'f1'}, xlabel='majmin'>],\n",
       "       [<Axes: title={'center': 'precision'}, xlabel='majmin'>,\n",
       "        <Axes: title={'center': 'false positive rate'}, xlabel='majmin'>,\n",
       "        <Axes: title={'center': 'false negative rate'}, xlabel='majmin'>],\n",
       "       [<Axes: title={'center': 'selection rate'}, xlabel='majmin'>,\n",
       "        <Axes: title={'center': 'count'}, xlabel='majmin'>,\n",
       "        <Axes: xlabel='majmin'>]], dtype=object)"
      ]
     },
     "execution_count": 63,
     "metadata": {},
     "output_type": "execute_result"
    },
    {
     "data": {
      "image/png": "[encoded data removed]",
      "text/plain": [
       "<Figure size 1200x800 with 9 Axes>"
      ]
     },
     "metadata": {},
     "output_type": "display_data"
    }
   ],
   "source": [
    "# In a graphic\n",
    "metric_frame.by_group.plot.bar(\n",
    "    subplots=True,\n",
    "    layout=[3, 3],\n",
    "    legend=False,\n",
    "    figsize=[12, 8],\n",
    "    title=\"Show all metrics\",\n",
    ")"
   ]
  },
  {
   "cell_type": "markdown",
   "id": "f57a0bac",
   "metadata": {
    "papermill": {
     "duration": 0.024715,
     "end_time": "2025-08-05T16:08:51.955836",
     "exception": false,
     "start_time": "2025-08-05T16:08:51.931121",
     "status": "completed"
    },
    "tags": []
   },
   "source": [
    "# Final Output"
   ]
  },
  {
   "cell_type": "code",
   "execution_count": 64,
   "id": "96d280a3",
   "metadata": {
    "execution": {
     "iopub.execute_input": "2025-08-05T16:08:52.003000Z",
     "iopub.status.busy": "2025-08-05T16:08:52.001679Z",
     "iopub.status.idle": "2025-08-05T16:08:52.010223Z",
     "shell.execute_reply": "2025-08-05T16:08:52.009237Z"
    },
    "papermill": {
     "duration": 0.033367,
     "end_time": "2025-08-05T16:08:52.011848",
     "exception": false,
     "start_time": "2025-08-05T16:08:51.978481",
     "status": "completed"
    },
    "tags": []
   },
   "outputs": [
    {
     "data": {
      "text/plain": [
       "4"
      ]
     },
     "execution_count": 64,
     "metadata": {},
     "output_type": "execute_result"
    }
   ],
   "source": [
    "sub_universes = universe_analysis.generate_sub_universes()\n",
    "len(sub_universes)"
   ]
  },
  {
   "cell_type": "code",
   "execution_count": 65,
   "id": "92adf7ba",
   "metadata": {
    "execution": {
     "iopub.execute_input": "2025-08-05T16:08:52.064695Z",
     "iopub.status.busy": "2025-08-05T16:08:52.064067Z",
     "iopub.status.idle": "2025-08-05T16:08:52.071801Z",
     "shell.execute_reply": "2025-08-05T16:08:52.070686Z"
    },
    "papermill": {
     "duration": 0.036629,
     "end_time": "2025-08-05T16:08:52.073549",
     "exception": false,
     "start_time": "2025-08-05T16:08:52.036920",
     "status": "completed"
    },
    "tags": []
   },
   "outputs": [],
   "source": [
    "def filter_sub_universe_data(sub_universe, org_test):\n",
    "    # Keep all rows — no filtering\n",
    "    keep_rows_mask = np.ones(org_test.shape[0], dtype=bool)\n",
    "\n",
    "    print(f\"[INFO] Keeping all rows: {keep_rows_mask.sum()} rows retained.\")\n",
    "    return keep_rows_mask"
   ]
  },
  {
   "cell_type": "code",
   "execution_count": 66,
   "id": "4a759155",
   "metadata": {
    "execution": {
     "iopub.execute_input": "2025-08-05T16:08:52.123939Z",
     "iopub.status.busy": "2025-08-05T16:08:52.123255Z",
     "iopub.status.idle": "2025-08-05T16:09:01.016095Z",
     "shell.execute_reply": "2025-08-05T16:09:01.015122Z"
    },
    "papermill": {
     "duration": 8.918366,
     "end_time": "2025-08-05T16:09:01.017966",
     "exception": false,
     "start_time": "2025-08-05T16:08:52.099600",
     "status": "completed"
    },
    "tags": []
   },
   "outputs": [
    {
     "name": "stdout",
     "output_type": "stream",
     "text": [
      "Stopping execution_time clock.\n",
      "[INFO] Keeping all rows: 89710 rows retained.\n"
     ]
    },
    {
     "name": "stdout",
     "output_type": "stream",
     "text": [
      "[INFO] Keeping all rows: 89710 rows retained.\n"
     ]
    },
    {
     "name": "stdout",
     "output_type": "stream",
     "text": [
      "[INFO] Keeping all rows: 89710 rows retained.\n"
     ]
    },
    {
     "name": "stdout",
     "output_type": "stream",
     "text": [
      "[INFO] Keeping all rows: 89710 rows retained.\n"
     ]
    },
    {
     "data": {
      "text/html": [
       "<div>\n",
       "<style scoped>\n",
       "    .dataframe tbody tr th:only-of-type {\n",
       "        vertical-align: middle;\n",
       "    }\n",
       "\n",
       "    .dataframe tbody tr th {\n",
       "        vertical-align: top;\n",
       "    }\n",
       "\n",
       "    .dataframe thead th {\n",
       "        text-align: right;\n",
       "    }\n",
       "</style>\n",
       "<table border=\"1\" class=\"dataframe\">\n",
       "  <thead>\n",
       "    <tr style=\"text-align: right;\">\n",
       "      <th></th>\n",
       "      <th>run_no</th>\n",
       "      <th>universe_id</th>\n",
       "      <th>universe_settings</th>\n",
       "      <th>execution_time</th>\n",
       "      <th>test_size_n</th>\n",
       "      <th>test_size_frac</th>\n",
       "      <th>fair_main_equalized_odds_difference</th>\n",
       "      <th>fair_main_equalized_odds_ratio</th>\n",
       "      <th>fair_main_demographic_parity_difference</th>\n",
       "      <th>fair_main_demographic_parity_ratio</th>\n",
       "      <th>...</th>\n",
       "      <th>perf_grp_precision_0</th>\n",
       "      <th>perf_grp_precision_1</th>\n",
       "      <th>perf_grp_false positive rate_0</th>\n",
       "      <th>perf_grp_false positive rate_1</th>\n",
       "      <th>perf_grp_false negative rate_0</th>\n",
       "      <th>perf_grp_false negative rate_1</th>\n",
       "      <th>perf_grp_selection rate_0</th>\n",
       "      <th>perf_grp_selection rate_1</th>\n",
       "      <th>perf_grp_count_0</th>\n",
       "      <th>perf_grp_count_1</th>\n",
       "    </tr>\n",
       "  </thead>\n",
       "  <tbody>\n",
       "    <tr>\n",
       "      <th>0</th>\n",
       "      <td>15</td>\n",
       "      <td>074f0c4181b40de11114e84093e196b6</td>\n",
       "      <td>{\"cutoff\": \"quantile_0.1\", \"eval_fairness_grou...</td>\n",
       "      <td>25.660174</td>\n",
       "      <td>89710</td>\n",
       "      <td>1.0</td>\n",
       "      <td>0.087487</td>\n",
       "      <td>0.908789</td>\n",
       "      <td>0.079118</td>\n",
       "      <td>0.917672</td>\n",
       "      <td>...</td>\n",
       "      <td>NaN</td>\n",
       "      <td>NaN</td>\n",
       "      <td>NaN</td>\n",
       "      <td>NaN</td>\n",
       "      <td>NaN</td>\n",
       "      <td>NaN</td>\n",
       "      <td>NaN</td>\n",
       "      <td>NaN</td>\n",
       "      <td>NaN</td>\n",
       "      <td>NaN</td>\n",
       "    </tr>\n",
       "    <tr>\n",
       "      <th>0</th>\n",
       "      <td>15</td>\n",
       "      <td>074f0c4181b40de11114e84093e196b6</td>\n",
       "      <td>{\"cutoff\": \"quantile_0.1\", \"eval_fairness_grou...</td>\n",
       "      <td>25.660174</td>\n",
       "      <td>89710</td>\n",
       "      <td>1.0</td>\n",
       "      <td>0.087487</td>\n",
       "      <td>0.908789</td>\n",
       "      <td>0.079118</td>\n",
       "      <td>0.917672</td>\n",
       "      <td>...</td>\n",
       "      <td>0.116977</td>\n",
       "      <td>0.142180</td>\n",
       "      <td>0.959168</td>\n",
       "      <td>0.871681</td>\n",
       "      <td>0.024916</td>\n",
       "      <td>0.051094</td>\n",
       "      <td>0.961003</td>\n",
       "      <td>0.881885</td>\n",
       "      <td>20540.0</td>\n",
       "      <td>69170.0</td>\n",
       "    </tr>\n",
       "    <tr>\n",
       "      <th>0</th>\n",
       "      <td>15</td>\n",
       "      <td>074f0c4181b40de11114e84093e196b6</td>\n",
       "      <td>{\"cutoff\": \"quantile_0.25\", \"eval_fairness_gro...</td>\n",
       "      <td>25.660174</td>\n",
       "      <td>89710</td>\n",
       "      <td>1.0</td>\n",
       "      <td>0.210911</td>\n",
       "      <td>0.764201</td>\n",
       "      <td>0.193097</td>\n",
       "      <td>0.785180</td>\n",
       "      <td>...</td>\n",
       "      <td>NaN</td>\n",
       "      <td>NaN</td>\n",
       "      <td>NaN</td>\n",
       "      <td>NaN</td>\n",
       "      <td>NaN</td>\n",
       "      <td>NaN</td>\n",
       "      <td>NaN</td>\n",
       "      <td>NaN</td>\n",
       "      <td>NaN</td>\n",
       "      <td>NaN</td>\n",
       "    </tr>\n",
       "    <tr>\n",
       "      <th>0</th>\n",
       "      <td>15</td>\n",
       "      <td>074f0c4181b40de11114e84093e196b6</td>\n",
       "      <td>{\"cutoff\": \"quantile_0.25\", \"eval_fairness_gro...</td>\n",
       "      <td>25.660174</td>\n",
       "      <td>89710</td>\n",
       "      <td>1.0</td>\n",
       "      <td>0.210911</td>\n",
       "      <td>0.764201</td>\n",
       "      <td>0.193097</td>\n",
       "      <td>0.785180</td>\n",
       "      <td>...</td>\n",
       "      <td>0.119645</td>\n",
       "      <td>0.159487</td>\n",
       "      <td>0.894453</td>\n",
       "      <td>0.683542</td>\n",
       "      <td>0.067145</td>\n",
       "      <td>0.148140</td>\n",
       "      <td>0.898880</td>\n",
       "      <td>0.705783</td>\n",
       "      <td>20540.0</td>\n",
       "      <td>69170.0</td>\n",
       "    </tr>\n",
       "  </tbody>\n",
       "</table>\n",
       "<p>4 rows × 50 columns</p>\n",
       "</div>"
      ],
      "text/plain": [
       "  run_no                       universe_id  \\\n",
       "0     15  074f0c4181b40de11114e84093e196b6   \n",
       "0     15  074f0c4181b40de11114e84093e196b6   \n",
       "0     15  074f0c4181b40de11114e84093e196b6   \n",
       "0     15  074f0c4181b40de11114e84093e196b6   \n",
       "\n",
       "                                   universe_settings  execution_time  \\\n",
       "0  {\"cutoff\": \"quantile_0.1\", \"eval_fairness_grou...       25.660174   \n",
       "0  {\"cutoff\": \"quantile_0.1\", \"eval_fairness_grou...       25.660174   \n",
       "0  {\"cutoff\": \"quantile_0.25\", \"eval_fairness_gro...       25.660174   \n",
       "0  {\"cutoff\": \"quantile_0.25\", \"eval_fairness_gro...       25.660174   \n",
       "\n",
       "   test_size_n  test_size_frac  fair_main_equalized_odds_difference  \\\n",
       "0        89710             1.0                             0.087487   \n",
       "0        89710             1.0                             0.087487   \n",
       "0        89710             1.0                             0.210911   \n",
       "0        89710             1.0                             0.210911   \n",
       "\n",
       "   fair_main_equalized_odds_ratio  fair_main_demographic_parity_difference  \\\n",
       "0                        0.908789                                 0.079118   \n",
       "0                        0.908789                                 0.079118   \n",
       "0                        0.764201                                 0.193097   \n",
       "0                        0.764201                                 0.193097   \n",
       "\n",
       "   fair_main_demographic_parity_ratio  ...  perf_grp_precision_0  \\\n",
       "0                            0.917672  ...                   NaN   \n",
       "0                            0.917672  ...              0.116977   \n",
       "0                            0.785180  ...                   NaN   \n",
       "0                            0.785180  ...              0.119645   \n",
       "\n",
       "   perf_grp_precision_1  perf_grp_false positive rate_0  \\\n",
       "0                   NaN                             NaN   \n",
       "0              0.142180                        0.959168   \n",
       "0                   NaN                             NaN   \n",
       "0              0.159487                        0.894453   \n",
       "\n",
       "   perf_grp_false positive rate_1  perf_grp_false negative rate_0  \\\n",
       "0                             NaN                             NaN   \n",
       "0                        0.871681                        0.024916   \n",
       "0                             NaN                             NaN   \n",
       "0                        0.683542                        0.067145   \n",
       "\n",
       "   perf_grp_false negative rate_1  perf_grp_selection rate_0  \\\n",
       "0                             NaN                        NaN   \n",
       "0                        0.051094                   0.961003   \n",
       "0                             NaN                        NaN   \n",
       "0                        0.148140                   0.898880   \n",
       "\n",
       "   perf_grp_selection rate_1  perf_grp_count_0  perf_grp_count_1  \n",
       "0                        NaN               NaN               NaN  \n",
       "0                   0.881885           20540.0           69170.0  \n",
       "0                        NaN               NaN               NaN  \n",
       "0                   0.705783           20540.0           69170.0  \n",
       "\n",
       "[4 rows x 50 columns]"
      ]
     },
     "execution_count": 66,
     "metadata": {},
     "output_type": "execute_result"
    }
   ],
   "source": [
    "final_output = universe_analysis.generate_final_output(\n",
    "    y_pred_prob=probs_test,\n",
    "    y_test=y_true,\n",
    "    org_test=org_test,\n",
    "    filter_data=filter_sub_universe_data,\n",
    "    cp_metrics_df=cp_metrics_df,\n",
    "    save=True,\n",
    ")\n",
    "final_output"
   ]
  }
 ],
 "metadata": {
  "celltoolbar": "Tags",
  "kernelspec": {
   "display_name": "Python (CMA Fairness)",
   "language": "python",
   "name": "cma_fair_env"
  },
  "language_info": {
   "codemirror_mode": {
    "name": "ipython",
    "version": 3
   },
   "file_extension": ".py",
   "mimetype": "text/x-python",
   "name": "python",
   "nbconvert_exporter": "python",
   "pygments_lexer": "ipython3",
   "version": "3.10.12"
  },
  "papermill": {
   "default_parameters": {},
   "duration": 38.796033,
   "end_time": "2025-08-05T16:09:01.766088",
   "environment_variables": {},
   "exception": null,
   "input_path": "universe_analysis.ipynb",
   "output_path": "output/runs/15/notebooks/m_15-074f0c4181b40de11114e84093e196b6.ipynb",
   "parameters": {
    "output_dir": "output",
    "run_no": "15",
    "seed": "2023",
    "universe": "{\"cutoff\": [\"quantile_0.1\", \"quantile_0.25\"], \"eval_fairness_grouping\": [\"majority-minority\", \"nationality-all\"], \"exclude_features\": \"none\", \"exclude_subgroups\": \"drop-non-german\", \"model\": \"logreg\", \"scale\": \"do-not-scale\", \"training_size\": \"1k\", \"training_year\": \"2014\"}",
    "universe_id": "074f0c4181b40de11114e84093e196b6"
   },
   "start_time": "2025-08-05T16:08:22.970055",
   "version": "2.6.0"
  }
 },
 "nbformat": 4,
 "nbformat_minor": 5
}