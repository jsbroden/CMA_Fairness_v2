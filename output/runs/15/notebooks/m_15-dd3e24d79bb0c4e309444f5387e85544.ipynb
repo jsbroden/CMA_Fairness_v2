{
 "cells": [
  {
   "cell_type": "code",
   "execution_count": 1,
   "id": "f159f837-637b-42ba-96b5-ec9a68c44524",
   "metadata": {
    "execution": {
     "iopub.execute_input": "2025-08-05T16:43:50.474700Z",
     "iopub.status.busy": "2025-08-05T16:43:50.473949Z",
     "iopub.status.idle": "2025-08-05T16:43:50.489658Z",
     "shell.execute_reply": "2025-08-05T16:43:50.488626Z"
    },
    "papermill": {
     "duration": 0.038804,
     "end_time": "2025-08-05T16:43:50.491616",
     "exception": false,
     "start_time": "2025-08-05T16:43:50.452812",
     "status": "completed"
    },
    "tags": []
   },
   "outputs": [
    {
     "name": "stdout",
     "output_type": "stream",
     "text": [
      "/dss/dsshome1/0C/ra93lal2/cma/CMA_Fairness_v2\n"
     ]
    },
    {
     "name": "stderr",
     "output_type": "stream",
     "text": [
      "/dss/dsshome1/0C/ra93lal2/.local/share/virtualenvs/CMA_Fairness_v2-3j10GkSs/lib/python3.10/site-packages/IPython/core/magics/osm.py:393: UserWarning: This is now an optional IPython functionality, using bookmarks requires you to install the `pickleshare` library.\n",
      "  bkms = self.shell.db.get('bookmarks', {})\n",
      "/dss/dsshome1/0C/ra93lal2/.local/share/virtualenvs/CMA_Fairness_v2-3j10GkSs/lib/python3.10/site-packages/IPython/core/magics/osm.py:417: UserWarning: This is now an optional IPython functionality, setting dhist requires you to install the `pickleshare` library.\n",
      "  self.shell.db['dhist'] = compress_dhist(dhist)[-100:]\n"
     ]
    }
   ],
   "source": [
    "%cd ~/cma/CMA_Fairness_v2"
   ]
  },
  {
   "cell_type": "markdown",
   "id": "de2603b9",
   "metadata": {
    "papermill": {
     "duration": 0.019964,
     "end_time": "2025-08-05T16:43:50.532431",
     "exception": false,
     "start_time": "2025-08-05T16:43:50.512467",
     "status": "completed"
    },
    "tags": []
   },
   "source": [
    "The following cell holds the definition of our parameters, these values can be overriden by rendering the with e.g. the following command:\n",
    "\n",
    "papermill -p alpha 0.2 -p ratio 0.3 universe_analysis.ipynb output/test_run.ipynb"
   ]
  },
  {
   "cell_type": "code",
   "execution_count": 2,
   "id": "a80968a0-40bb-4fa9-85ef-2d5eefb01975",
   "metadata": {
    "execution": {
     "iopub.execute_input": "2025-08-05T16:43:50.573733Z",
     "iopub.status.busy": "2025-08-05T16:43:50.572986Z",
     "iopub.status.idle": "2025-08-05T16:43:50.579215Z",
     "shell.execute_reply": "2025-08-05T16:43:50.578153Z"
    },
    "papermill": {
     "duration": 0.029147,
     "end_time": "2025-08-05T16:43:50.581074",
     "exception": false,
     "start_time": "2025-08-05T16:43:50.551927",
     "status": "completed"
    },
    "tags": []
   },
   "outputs": [
    {
     "name": "stdout",
     "output_type": "stream",
     "text": [
      "Current working directory: /dss/dsshome1/0C/ra93lal2/cma/CMA_Fairness_v2\n"
     ]
    }
   ],
   "source": [
    "import os\n",
    "print(\"Current working directory:\", os.getcwd())"
   ]
  },
  {
   "cell_type": "code",
   "execution_count": 3,
   "id": "2dce4c03",
   "metadata": {
    "execution": {
     "iopub.execute_input": "2025-08-05T16:43:50.623529Z",
     "iopub.status.busy": "2025-08-05T16:43:50.622479Z",
     "iopub.status.idle": "2025-08-05T16:43:50.629423Z",
     "shell.execute_reply": "2025-08-05T16:43:50.628490Z"
    },
    "papermill": {
     "duration": 0.029486,
     "end_time": "2025-08-05T16:43:50.631301",
     "exception": false,
     "start_time": "2025-08-05T16:43:50.601815",
     "status": "completed"
    },
    "tags": [
     "parameters"
    ]
   },
   "outputs": [],
   "source": [
    "run_no = 0\n",
    "universe_id = \"test\"\n",
    "universe = {\n",
    "    \"training_size\": \"25k\", # \"25k\", \"5k\", \"1k\"\n",
    "    \"training_year\": \"2014\", # \"2014\", \"2012_14\", \"2010_14\"\n",
    "    \"scale\": \"scale\", # \"scale\", \"do-not-scale\",\n",
    "    \"model\": \"elasticnet\", # \"logreg\", \"penalized_logreg\", \"rf\", \"gbm\", \"elasticnet\"\n",
    "    \"cutoff\": [\"quantile_0.15\", \"quantile_0.30\"],\n",
    "    \"exclude_features\": \"age\", # \"none\", \"nationality\", \"sex\", \"nationality-sex\", \"age\"\n",
    "    \"exclude_subgroups\": \"keep-all\", # \"keep-all\", \"drop-non-german\"\n",
    "    \"eval_fairness_grouping\": [\"majority-minority\", \"nationality-all\"]\n",
    "}\n",
    "\n",
    "output_dir=\"./output\"\n",
    "seed=0"
   ]
  },
  {
   "cell_type": "code",
   "execution_count": 4,
   "id": "e4c59629",
   "metadata": {
    "execution": {
     "iopub.execute_input": "2025-08-05T16:43:50.674522Z",
     "iopub.status.busy": "2025-08-05T16:43:50.673619Z",
     "iopub.status.idle": "2025-08-05T16:43:50.679478Z",
     "shell.execute_reply": "2025-08-05T16:43:50.678397Z"
    },
    "papermill": {
     "duration": 0.029489,
     "end_time": "2025-08-05T16:43:50.681342",
     "exception": false,
     "start_time": "2025-08-05T16:43:50.651853",
     "status": "completed"
    },
    "tags": [
     "injected-parameters"
    ]
   },
   "outputs": [],
   "source": [
    "# Parameters\n",
    "universe_id = \"dd3e24d79bb0c4e309444f5387e85544\"\n",
    "run_no = \"15\"\n",
    "universe = \"{\\\"cutoff\\\": [\\\"quantile_0.1\\\", \\\"quantile_0.25\\\"], \\\"eval_fairness_grouping\\\": [\\\"majority-minority\\\", \\\"nationality-all\\\"], \\\"exclude_features\\\": \\\"age\\\", \\\"exclude_subgroups\\\": \\\"keep-all\\\", \\\"model\\\": \\\"gbm\\\", \\\"scale\\\": \\\"do-not-scale\\\", \\\"training_size\\\": \\\"1k\\\", \\\"training_year\\\": \\\"2010_14\\\"}\"\n",
    "output_dir = \"output\"\n",
    "seed = \"2023\"\n"
   ]
  },
  {
   "cell_type": "code",
   "execution_count": 5,
   "id": "1650acaf",
   "metadata": {
    "execution": {
     "iopub.execute_input": "2025-08-05T16:43:50.722746Z",
     "iopub.status.busy": "2025-08-05T16:43:50.722387Z",
     "iopub.status.idle": "2025-08-05T16:43:50.727572Z",
     "shell.execute_reply": "2025-08-05T16:43:50.726453Z"
    },
    "papermill": {
     "duration": 0.02814,
     "end_time": "2025-08-05T16:43:50.729458",
     "exception": false,
     "start_time": "2025-08-05T16:43:50.701318",
     "status": "completed"
    },
    "tags": []
   },
   "outputs": [],
   "source": [
    "import json\n",
    "if isinstance(universe, str):\n",
    "    universe = json.loads(universe)"
   ]
  },
  {
   "cell_type": "code",
   "execution_count": 6,
   "id": "16620c48",
   "metadata": {
    "execution": {
     "iopub.execute_input": "2025-08-05T16:43:50.772467Z",
     "iopub.status.busy": "2025-08-05T16:43:50.771541Z",
     "iopub.status.idle": "2025-08-05T16:43:50.823696Z",
     "shell.execute_reply": "2025-08-05T16:43:50.822731Z"
    },
    "papermill": {
     "duration": 0.075236,
     "end_time": "2025-08-05T16:43:50.825772",
     "exception": false,
     "start_time": "2025-08-05T16:43:50.750536",
     "status": "completed"
    },
    "tags": []
   },
   "outputs": [],
   "source": [
    "# Auto-reload the custom package\n",
    "%load_ext autoreload\n",
    "%autoreload 1\n",
    "%aimport fairness_multiverse"
   ]
  },
  {
   "cell_type": "code",
   "execution_count": 7,
   "id": "01c5c9f3",
   "metadata": {
    "execution": {
     "iopub.execute_input": "2025-08-05T16:43:50.868833Z",
     "iopub.status.busy": "2025-08-05T16:43:50.868181Z",
     "iopub.status.idle": "2025-08-05T16:43:53.211216Z",
     "shell.execute_reply": "2025-08-05T16:43:53.210054Z"
    },
    "papermill": {
     "duration": 2.36723,
     "end_time": "2025-08-05T16:43:53.213468",
     "exception": false,
     "start_time": "2025-08-05T16:43:50.846238",
     "status": "completed"
    },
    "tags": []
   },
   "outputs": [],
   "source": [
    "from fairness_multiverse.universe import UniverseAnalysis\n",
    "\n",
    "universe_analysis = UniverseAnalysis(\n",
    "    run_no = run_no,\n",
    "    universe_id = universe_id,\n",
    "    universe = universe,\n",
    "    output_dir=output_dir,\n",
    ")"
   ]
  },
  {
   "cell_type": "code",
   "execution_count": 8,
   "id": "106241f5",
   "metadata": {
    "execution": {
     "iopub.execute_input": "2025-08-05T16:43:53.258693Z",
     "iopub.status.busy": "2025-08-05T16:43:53.257700Z",
     "iopub.status.idle": "2025-08-05T16:43:53.265177Z",
     "shell.execute_reply": "2025-08-05T16:43:53.264067Z"
    },
    "papermill": {
     "duration": 0.031688,
     "end_time": "2025-08-05T16:43:53.267161",
     "exception": false,
     "start_time": "2025-08-05T16:43:53.235473",
     "status": "completed"
    },
    "tags": []
   },
   "outputs": [
    {
     "name": "stdout",
     "output_type": "stream",
     "text": [
      "Using Seed: 2023\n"
     ]
    }
   ],
   "source": [
    "import numpy as np\n",
    "parsed_seed = int(seed)\n",
    "np.random.seed(parsed_seed)\n",
    "print(f\"Using Seed: {parsed_seed}\")"
   ]
  },
  {
   "cell_type": "markdown",
   "id": "e0ebdc57",
   "metadata": {
    "papermill": {
     "duration": 0.020806,
     "end_time": "2025-08-05T16:43:53.309365",
     "exception": false,
     "start_time": "2025-08-05T16:43:53.288559",
     "status": "completed"
    },
    "tags": []
   },
   "source": [
    "# Loading Data"
   ]
  },
  {
   "cell_type": "code",
   "execution_count": 9,
   "id": "f0496b8a",
   "metadata": {
    "execution": {
     "iopub.execute_input": "2025-08-05T16:43:53.352575Z",
     "iopub.status.busy": "2025-08-05T16:43:53.351887Z",
     "iopub.status.idle": "2025-08-05T16:44:08.692581Z",
     "shell.execute_reply": "2025-08-05T16:44:08.691113Z"
    },
    "papermill": {
     "duration": 15.364657,
     "end_time": "2025-08-05T16:44:08.694623",
     "exception": false,
     "start_time": "2025-08-05T16:43:53.329966",
     "status": "completed"
    },
    "tags": []
   },
   "outputs": [
    {
     "name": "stdout",
     "output_type": "stream",
     "text": [
      "Loading SIAB data from cache: data/siab_cached.csv.gz\n"
     ]
    },
    {
     "name": "stdout",
     "output_type": "stream",
     "text": [
      "(643690, 164)\n"
     ]
    }
   ],
   "source": [
    "from pathlib import Path\n",
    "import pandas as pd\n",
    "\n",
    "# File paths\n",
    "raw_file = Path(\"data/raw/siab.csv\")\n",
    "cache_file = Path(\"data/siab_cached.csv.gz\")\n",
    "\n",
    "# Ensure cache directory exists\n",
    "cache_file.parent.mkdir(parents=True, exist_ok=True)\n",
    "\n",
    "# Load with simple caching\n",
    "if cache_file.exists():\n",
    "    print(f\"Loading SIAB data from cache: {cache_file}\")\n",
    "    siab = pd.read_csv(cache_file, compression='gzip')\n",
    "else:\n",
    "    print(f\"Cache not found. Reading raw SIAB data: {raw_file}\")\n",
    "    siab = pd.read_csv(raw_file)\n",
    "    siab.to_csv(cache_file, index=False, compression='gzip')\n",
    "    print(f\"Cached SIAB data to: {cache_file}\")\n",
    "\n",
    "print(siab.shape)"
   ]
  },
  {
   "cell_type": "code",
   "execution_count": 10,
   "id": "db0ca512-5f53-4dba-abdb-a2888bca41ba",
   "metadata": {
    "execution": {
     "iopub.execute_input": "2025-08-05T16:44:08.740034Z",
     "iopub.status.busy": "2025-08-05T16:44:08.739363Z",
     "iopub.status.idle": "2025-08-05T16:44:08.746541Z",
     "shell.execute_reply": "2025-08-05T16:44:08.745080Z"
    },
    "papermill": {
     "duration": 0.032495,
     "end_time": "2025-08-05T16:44:08.748598",
     "exception": false,
     "start_time": "2025-08-05T16:44:08.716103",
     "status": "completed"
    },
    "tags": []
   },
   "outputs": [],
   "source": [
    "#siab"
   ]
  },
  {
   "cell_type": "markdown",
   "id": "997051c5-15bd-4b69-9786-c3001a3ce484",
   "metadata": {
    "papermill": {
     "duration": 0.021196,
     "end_time": "2025-08-05T16:44:08.791422",
     "exception": false,
     "start_time": "2025-08-05T16:44:08.770226",
     "status": "completed"
    },
    "tags": []
   },
   "source": [
    "# Splitting Data and Setting Training Data Size"
   ]
  },
  {
   "cell_type": "code",
   "execution_count": 11,
   "id": "aea9c6ef-6f46-42c8-85eb-5a62025c1508",
   "metadata": {
    "execution": {
     "iopub.execute_input": "2025-08-05T16:44:08.836471Z",
     "iopub.status.busy": "2025-08-05T16:44:08.835399Z",
     "iopub.status.idle": "2025-08-05T16:44:09.953958Z",
     "shell.execute_reply": "2025-08-05T16:44:09.952665Z"
    },
    "papermill": {
     "duration": 1.142837,
     "end_time": "2025-08-05T16:44:09.956292",
     "exception": false,
     "start_time": "2025-08-05T16:44:08.813455",
     "status": "completed"
    },
    "tags": []
   },
   "outputs": [],
   "source": [
    "from fairness_multiverse.universe import sample_by_year_size\n",
    "\n",
    "siab_train = sample_by_year_size(siab,\n",
    "                               training_year=universe[\"training_year\"],\n",
    "                               training_size=universe[\"training_size\"])"
   ]
  },
  {
   "cell_type": "code",
   "execution_count": 12,
   "id": "8d3afb32-789d-442c-8d5d-9f5aa8dd2eed",
   "metadata": {
    "execution": {
     "iopub.execute_input": "2025-08-05T16:44:10.015145Z",
     "iopub.status.busy": "2025-08-05T16:44:10.014523Z",
     "iopub.status.idle": "2025-08-05T16:44:10.020385Z",
     "shell.execute_reply": "2025-08-05T16:44:10.019207Z"
    },
    "papermill": {
     "duration": 0.044152,
     "end_time": "2025-08-05T16:44:10.022419",
     "exception": false,
     "start_time": "2025-08-05T16:44:09.978267",
     "status": "completed"
    },
    "tags": []
   },
   "outputs": [],
   "source": [
    "#siab_train.shape"
   ]
  },
  {
   "cell_type": "code",
   "execution_count": 13,
   "id": "d582db68-1a4c-47fb-84fc-08518dc1975a",
   "metadata": {
    "execution": {
     "iopub.execute_input": "2025-08-05T16:44:10.070810Z",
     "iopub.status.busy": "2025-08-05T16:44:10.069495Z",
     "iopub.status.idle": "2025-08-05T16:44:10.076255Z",
     "shell.execute_reply": "2025-08-05T16:44:10.074855Z"
    },
    "papermill": {
     "duration": 0.032919,
     "end_time": "2025-08-05T16:44:10.078263",
     "exception": false,
     "start_time": "2025-08-05T16:44:10.045344",
     "status": "completed"
    },
    "tags": []
   },
   "outputs": [],
   "source": [
    "#display(siab_train.groupby(\"year\").size())"
   ]
  },
  {
   "cell_type": "code",
   "execution_count": 14,
   "id": "a561edb4-d032-42cb-8256-22eac1111c64",
   "metadata": {
    "execution": {
     "iopub.execute_input": "2025-08-05T16:44:10.124715Z",
     "iopub.status.busy": "2025-08-05T16:44:10.123553Z",
     "iopub.status.idle": "2025-08-05T16:44:10.378404Z",
     "shell.execute_reply": "2025-08-05T16:44:10.377117Z"
    },
    "papermill": {
     "duration": 0.28098,
     "end_time": "2025-08-05T16:44:10.381353",
     "exception": false,
     "start_time": "2025-08-05T16:44:10.100373",
     "status": "completed"
    },
    "tags": []
   },
   "outputs": [],
   "source": [
    "#siab_train = siab_s[siab_s.year < 2015]\n",
    "siab_calib = siab[siab.year == 2015]\n",
    "siab_test = siab[siab.year == 2016]"
   ]
  },
  {
   "cell_type": "code",
   "execution_count": 15,
   "id": "472de16f-c3db-4916-846b-1f0de9cf1746",
   "metadata": {
    "execution": {
     "iopub.execute_input": "2025-08-05T16:44:10.426750Z",
     "iopub.status.busy": "2025-08-05T16:44:10.426273Z",
     "iopub.status.idle": "2025-08-05T16:44:10.434724Z",
     "shell.execute_reply": "2025-08-05T16:44:10.433239Z"
    },
    "papermill": {
     "duration": 0.033458,
     "end_time": "2025-08-05T16:44:10.436609",
     "exception": false,
     "start_time": "2025-08-05T16:44:10.403151",
     "status": "completed"
    },
    "tags": []
   },
   "outputs": [],
   "source": [
    "X_train = siab_train.iloc[:,4:164]\n",
    "y_train = siab_train.iloc[:, [3]]"
   ]
  },
  {
   "cell_type": "code",
   "execution_count": 16,
   "id": "828c96af-f43a-4ed6-ba47-8ac73a47d56c",
   "metadata": {
    "execution": {
     "iopub.execute_input": "2025-08-05T16:44:10.481152Z",
     "iopub.status.busy": "2025-08-05T16:44:10.480053Z",
     "iopub.status.idle": "2025-08-05T16:44:10.540656Z",
     "shell.execute_reply": "2025-08-05T16:44:10.539271Z"
    },
    "papermill": {
     "duration": 0.084881,
     "end_time": "2025-08-05T16:44:10.543086",
     "exception": false,
     "start_time": "2025-08-05T16:44:10.458205",
     "status": "completed"
    },
    "tags": []
   },
   "outputs": [],
   "source": [
    "X_calib = siab_calib.iloc[:,4:164]\n",
    "y_calib = siab_calib.iloc[:, [3]]"
   ]
  },
  {
   "cell_type": "code",
   "execution_count": 17,
   "id": "c34be9c3-6bd6-476e-acd3-845840e303be",
   "metadata": {
    "execution": {
     "iopub.execute_input": "2025-08-05T16:44:10.596802Z",
     "iopub.status.busy": "2025-08-05T16:44:10.595720Z",
     "iopub.status.idle": "2025-08-05T16:44:10.655026Z",
     "shell.execute_reply": "2025-08-05T16:44:10.653579Z"
    },
    "papermill": {
     "duration": 0.088575,
     "end_time": "2025-08-05T16:44:10.657383",
     "exception": false,
     "start_time": "2025-08-05T16:44:10.568808",
     "status": "completed"
    },
    "tags": []
   },
   "outputs": [],
   "source": [
    "X_test = siab_test.iloc[:,4:164]\n",
    "y_true = siab_test.iloc[:, [3]]"
   ]
  },
  {
   "cell_type": "code",
   "execution_count": 18,
   "id": "e6c733c5",
   "metadata": {
    "execution": {
     "iopub.execute_input": "2025-08-05T16:44:10.709466Z",
     "iopub.status.busy": "2025-08-05T16:44:10.708691Z",
     "iopub.status.idle": "2025-08-05T16:44:10.820883Z",
     "shell.execute_reply": "2025-08-05T16:44:10.819637Z"
    },
    "papermill": {
     "duration": 0.141425,
     "end_time": "2025-08-05T16:44:10.823495",
     "exception": false,
     "start_time": "2025-08-05T16:44:10.682070",
     "status": "completed"
    },
    "tags": []
   },
   "outputs": [],
   "source": [
    "# Auxiliary data needed downstream in the pipeline\n",
    "\n",
    "org_train = X_train.copy()\n",
    "org_test = X_test.copy()\n",
    "org_calib = X_calib.copy()"
   ]
  },
  {
   "cell_type": "markdown",
   "id": "0a4a1b33",
   "metadata": {
    "papermill": {
     "duration": 0.024013,
     "end_time": "2025-08-05T16:44:10.872840",
     "exception": false,
     "start_time": "2025-08-05T16:44:10.848827",
     "status": "completed"
    },
    "tags": []
   },
   "source": [
    "# Preprocessing Data"
   ]
  },
  {
   "cell_type": "code",
   "execution_count": 19,
   "id": "ca879031",
   "metadata": {
    "execution": {
     "iopub.execute_input": "2025-08-05T16:44:10.926404Z",
     "iopub.status.busy": "2025-08-05T16:44:10.925428Z",
     "iopub.status.idle": "2025-08-05T16:44:10.933285Z",
     "shell.execute_reply": "2025-08-05T16:44:10.931984Z"
    },
    "papermill": {
     "duration": 0.03734,
     "end_time": "2025-08-05T16:44:10.935474",
     "exception": false,
     "start_time": "2025-08-05T16:44:10.898134",
     "status": "completed"
    },
    "tags": []
   },
   "outputs": [],
   "source": [
    "# EXCLUDE PROTECTED FEATURES\n",
    "# ----------------------\n",
    "# \"exclude_features\": \"none\", # \"nationality\", \"sex\", \"nationality-sex\"\n",
    "\n",
    "excluded_features = universe[\"exclude_features\"].split(\"-\") # split, e.g.: \"nationality-sex\" -> [\"nationality\", \"sex\"]\n",
    "excluded_features_dictionary = {\n",
    "    \"nationality\": [\"maxdeutsch1\", \"maxdeutsch.Missing.\"],\n",
    "    \"sex\": [\"frau1\"],\n",
    "    \"age\": [\"age\"],\n",
    "}"
   ]
  },
  {
   "cell_type": "code",
   "execution_count": 20,
   "id": "b745ac60",
   "metadata": {
    "execution": {
     "iopub.execute_input": "2025-08-05T16:44:10.988739Z",
     "iopub.status.busy": "2025-08-05T16:44:10.986823Z",
     "iopub.status.idle": "2025-08-05T16:44:10.994792Z",
     "shell.execute_reply": "2025-08-05T16:44:10.993584Z"
    },
    "papermill": {
     "duration": 0.037688,
     "end_time": "2025-08-05T16:44:10.997621",
     "exception": false,
     "start_time": "2025-08-05T16:44:10.959933",
     "status": "completed"
    },
    "tags": []
   },
   "outputs": [],
   "source": [
    "# Code nice names to column names\n",
    "\n",
    "excluded_features_columns = [\n",
    "    excluded_features_dictionary[f] for f in excluded_features if len(f) > 0 and f != \"none\"\n",
    "]"
   ]
  },
  {
   "cell_type": "code",
   "execution_count": 21,
   "id": "f84f73a2",
   "metadata": {
    "execution": {
     "iopub.execute_input": "2025-08-05T16:44:11.044024Z",
     "iopub.status.busy": "2025-08-05T16:44:11.043004Z",
     "iopub.status.idle": "2025-08-05T16:44:11.050982Z",
     "shell.execute_reply": "2025-08-05T16:44:11.049812Z"
    },
    "papermill": {
     "duration": 0.033408,
     "end_time": "2025-08-05T16:44:11.053062",
     "exception": false,
     "start_time": "2025-08-05T16:44:11.019654",
     "status": "completed"
    },
    "tags": []
   },
   "outputs": [],
   "source": [
    "from utils import flatten_once\n",
    "\n",
    "excluded_features_columns = flatten_once(excluded_features_columns)"
   ]
  },
  {
   "cell_type": "code",
   "execution_count": 22,
   "id": "884dea22",
   "metadata": {
    "execution": {
     "iopub.execute_input": "2025-08-05T16:44:11.101048Z",
     "iopub.status.busy": "2025-08-05T16:44:11.099869Z",
     "iopub.status.idle": "2025-08-05T16:44:11.109251Z",
     "shell.execute_reply": "2025-08-05T16:44:11.108202Z"
    },
    "papermill": {
     "duration": 0.03506,
     "end_time": "2025-08-05T16:44:11.111209",
     "exception": false,
     "start_time": "2025-08-05T16:44:11.076149",
     "status": "completed"
    },
    "tags": []
   },
   "outputs": [
    {
     "name": "stdout",
     "output_type": "stream",
     "text": [
      "Dropping features: ['age']\n"
     ]
    }
   ],
   "source": [
    "if len(excluded_features_columns) > 0:\n",
    "    print(f\"Dropping features: {excluded_features_columns}\")\n",
    "    X_train.drop(excluded_features_columns, axis=1, inplace=True)"
   ]
  },
  {
   "cell_type": "code",
   "execution_count": 23,
   "id": "95ab8b16",
   "metadata": {
    "execution": {
     "iopub.execute_input": "2025-08-05T16:44:11.162068Z",
     "iopub.status.busy": "2025-08-05T16:44:11.160894Z",
     "iopub.status.idle": "2025-08-05T16:44:11.225338Z",
     "shell.execute_reply": "2025-08-05T16:44:11.224115Z"
    },
    "papermill": {
     "duration": 0.090974,
     "end_time": "2025-08-05T16:44:11.227580",
     "exception": false,
     "start_time": "2025-08-05T16:44:11.136606",
     "status": "completed"
    },
    "tags": []
   },
   "outputs": [
    {
     "name": "stdout",
     "output_type": "stream",
     "text": [
      "Dropping features: ['age']\n"
     ]
    }
   ],
   "source": [
    "if len(excluded_features_columns) > 0:\n",
    "    print(f\"Dropping features: {excluded_features_columns}\")\n",
    "    X_test.drop(excluded_features_columns, axis=1, inplace=True)"
   ]
  },
  {
   "cell_type": "code",
   "execution_count": 24,
   "id": "1853aaf5-fb9f-46cb-a2b5-8ea4ae2237e4",
   "metadata": {
    "execution": {
     "iopub.execute_input": "2025-08-05T16:44:11.280556Z",
     "iopub.status.busy": "2025-08-05T16:44:11.279688Z",
     "iopub.status.idle": "2025-08-05T16:44:11.338005Z",
     "shell.execute_reply": "2025-08-05T16:44:11.336825Z"
    },
    "papermill": {
     "duration": 0.086209,
     "end_time": "2025-08-05T16:44:11.340130",
     "exception": false,
     "start_time": "2025-08-05T16:44:11.253921",
     "status": "completed"
    },
    "tags": []
   },
   "outputs": [
    {
     "name": "stdout",
     "output_type": "stream",
     "text": [
      "Dropping features: ['age']\n"
     ]
    }
   ],
   "source": [
    "if len(excluded_features_columns) > 0:\n",
    "    print(f\"Dropping features: {excluded_features_columns}\")\n",
    "    X_calib.drop(excluded_features_columns, axis=1, inplace=True)"
   ]
  },
  {
   "cell_type": "code",
   "execution_count": 25,
   "id": "76c4dc6d",
   "metadata": {
    "execution": {
     "iopub.execute_input": "2025-08-05T16:44:11.394116Z",
     "iopub.status.busy": "2025-08-05T16:44:11.393165Z",
     "iopub.status.idle": "2025-08-05T16:44:11.400115Z",
     "shell.execute_reply": "2025-08-05T16:44:11.398938Z"
    },
    "papermill": {
     "duration": 0.036007,
     "end_time": "2025-08-05T16:44:11.401993",
     "exception": false,
     "start_time": "2025-08-05T16:44:11.365986",
     "status": "completed"
    },
    "tags": []
   },
   "outputs": [],
   "source": [
    "# EXCLUDE CERTAIN SUBGROUPS\n",
    "# ----------------------\n",
    "\n",
    "mode = universe.get(\"exclude_subgroups\", \"keep-all\") \n",
    "# Fetches the exclude_subgroups setting from the universe dict.\n",
    "# Defaults to \"keep-all\" if the key is missing."
   ]
  },
  {
   "cell_type": "code",
   "execution_count": 26,
   "id": "21994072",
   "metadata": {
    "execution": {
     "iopub.execute_input": "2025-08-05T16:44:11.452894Z",
     "iopub.status.busy": "2025-08-05T16:44:11.451935Z",
     "iopub.status.idle": "2025-08-05T16:44:11.460425Z",
     "shell.execute_reply": "2025-08-05T16:44:11.459301Z"
    },
    "papermill": {
     "duration": 0.034841,
     "end_time": "2025-08-05T16:44:11.462352",
     "exception": false,
     "start_time": "2025-08-05T16:44:11.427511",
     "status": "completed"
    },
    "tags": []
   },
   "outputs": [],
   "source": [
    "if mode == \"keep-all\":\n",
    "    keep_mask = pd.Series(True, index=org_train.index)\n",
    "\n",
    "# org_train contains the original feature columns from features_org (in Simson)\n",
    "# features_org contains unprocessed features, for me X_train at beginning ???\n",
    "# For keep-all, creates a boolean Series (keep_mask) of all True, so no rows are removed.\n",
    "\n",
    "elif mode == \"drop-non-german\":\n",
    "    keep_mask = org_train[\"maxdeutsch1\"] == 1 # ??? what about missing values?\n",
    "\n",
    "else:\n",
    "    raise ValueError(f\"Unsupported mode for exclude_subgroups: {mode}\")"
   ]
  },
  {
   "cell_type": "code",
   "execution_count": 27,
   "id": "71651440",
   "metadata": {
    "execution": {
     "iopub.execute_input": "2025-08-05T16:44:11.509607Z",
     "iopub.status.busy": "2025-08-05T16:44:11.508914Z",
     "iopub.status.idle": "2025-08-05T16:44:11.516945Z",
     "shell.execute_reply": "2025-08-05T16:44:11.515607Z"
    },
    "papermill": {
     "duration": 0.033188,
     "end_time": "2025-08-05T16:44:11.518923",
     "exception": false,
     "start_time": "2025-08-05T16:44:11.485735",
     "status": "completed"
    },
    "tags": []
   },
   "outputs": [],
   "source": [
    "n_drop = (~keep_mask).sum() # Calculates how many rows are set to be dropped\n",
    "if n_drop > 0:\n",
    "    pct = n_drop / len(keep_mask) * 100\n",
    "    print(f\"Dropping {n_drop} rows ({pct:.2f}%) where mode='{mode}'\")"
   ]
  },
  {
   "cell_type": "code",
   "execution_count": 28,
   "id": "5fb8eee5",
   "metadata": {
    "execution": {
     "iopub.execute_input": "2025-08-05T16:44:11.566967Z",
     "iopub.status.busy": "2025-08-05T16:44:11.566464Z",
     "iopub.status.idle": "2025-08-05T16:44:11.573900Z",
     "shell.execute_reply": "2025-08-05T16:44:11.572786Z"
    },
    "papermill": {
     "duration": 0.03358,
     "end_time": "2025-08-05T16:44:11.575819",
     "exception": false,
     "start_time": "2025-08-05T16:44:11.542239",
     "status": "completed"
    },
    "tags": []
   },
   "outputs": [],
   "source": [
    "X_train = X_train[keep_mask]"
   ]
  },
  {
   "cell_type": "code",
   "execution_count": 29,
   "id": "b202bb3a",
   "metadata": {
    "execution": {
     "iopub.execute_input": "2025-08-05T16:44:11.623579Z",
     "iopub.status.busy": "2025-08-05T16:44:11.622672Z",
     "iopub.status.idle": "2025-08-05T16:44:11.630072Z",
     "shell.execute_reply": "2025-08-05T16:44:11.628868Z"
    },
    "papermill": {
     "duration": 0.033874,
     "end_time": "2025-08-05T16:44:11.632118",
     "exception": false,
     "start_time": "2025-08-05T16:44:11.598244",
     "status": "completed"
    },
    "tags": []
   },
   "outputs": [],
   "source": [
    "y_train = y_train[keep_mask]"
   ]
  },
  {
   "cell_type": "markdown",
   "id": "493e2ac3",
   "metadata": {
    "papermill": {
     "duration": 0.021947,
     "end_time": "2025-08-05T16:44:11.676743",
     "exception": false,
     "start_time": "2025-08-05T16:44:11.654796",
     "status": "completed"
    },
    "tags": []
   },
   "source": [
    "# Model Training"
   ]
  },
  {
   "cell_type": "code",
   "execution_count": 30,
   "id": "679e1268",
   "metadata": {
    "execution": {
     "iopub.execute_input": "2025-08-05T16:44:11.725158Z",
     "iopub.status.busy": "2025-08-05T16:44:11.724480Z",
     "iopub.status.idle": "2025-08-05T16:44:11.851255Z",
     "shell.execute_reply": "2025-08-05T16:44:11.849995Z"
    },
    "papermill": {
     "duration": 0.153828,
     "end_time": "2025-08-05T16:44:11.853942",
     "exception": false,
     "start_time": "2025-08-05T16:44:11.700114",
     "status": "completed"
    },
    "tags": []
   },
   "outputs": [],
   "source": [
    "from sklearn.linear_model import LogisticRegression\n",
    "from sklearn.ensemble import GradientBoostingClassifier, RandomForestClassifier\n",
    "\n",
    "if (universe[\"model\"] == \"logreg\"):\n",
    "    model = LogisticRegression() #penalty=\"none\", solver=\"newton-cg\", max_iter=1) # include random_state=19 ?\n",
    "elif (universe[\"model\"] == \"penalized_logreg\"):\n",
    "    model = LogisticRegression(penalty=\"l2\", C=0.1) #, solver=\"newton-cg\", max_iter=1)\n",
    "elif (universe[\"model\"] == \"rf\"):\n",
    "    model = RandomForestClassifier() # n_estimators=100, n_jobs=-1\n",
    "elif (universe[\"model\"] == \"gbm\"):\n",
    "    model = GradientBoostingClassifier()\n",
    "elif (universe[\"model\"] == \"elasticnet\"):\n",
    "    model = LogisticRegression(penalty = 'elasticnet', solver = 'saga', l1_ratio = 0.5) # max_iter=5000\n",
    "else:\n",
    "    raise \"Unsupported universe.model\""
   ]
  },
  {
   "cell_type": "code",
   "execution_count": 31,
   "id": "0cc8f744",
   "metadata": {
    "execution": {
     "iopub.execute_input": "2025-08-05T16:44:11.904041Z",
     "iopub.status.busy": "2025-08-05T16:44:11.902991Z",
     "iopub.status.idle": "2025-08-05T16:44:11.910511Z",
     "shell.execute_reply": "2025-08-05T16:44:11.909373Z"
    },
    "papermill": {
     "duration": 0.033727,
     "end_time": "2025-08-05T16:44:11.912570",
     "exception": false,
     "start_time": "2025-08-05T16:44:11.878843",
     "status": "completed"
    },
    "tags": []
   },
   "outputs": [],
   "source": [
    "import numpy as np\n",
    "from sklearn.pipeline import Pipeline\n",
    "from sklearn.preprocessing import StandardScaler\n",
    "\n",
    "model = Pipeline([\n",
    "    #(\"continuous_processor\", continuous_processor),\n",
    "    #(\"categorical_preprocessor\", categorical_preprocessor),\n",
    "    (\"scale\", StandardScaler() if universe[\"scale\"] == \"scale\" else None), \n",
    "    (\"model\", model),\n",
    "])"
   ]
  },
  {
   "cell_type": "code",
   "execution_count": 32,
   "id": "9442c04d",
   "metadata": {
    "execution": {
     "iopub.execute_input": "2025-08-05T16:44:11.967478Z",
     "iopub.status.busy": "2025-08-05T16:44:11.966458Z",
     "iopub.status.idle": "2025-08-05T16:44:13.271158Z",
     "shell.execute_reply": "2025-08-05T16:44:13.269868Z"
    },
    "papermill": {
     "duration": 1.334002,
     "end_time": "2025-08-05T16:44:13.273761",
     "exception": false,
     "start_time": "2025-08-05T16:44:11.939759",
     "status": "completed"
    },
    "tags": []
   },
   "outputs": [
    {
     "data": {
      "text/html": [
       "<style>#sk-container-id-1 {color: black;background-color: white;}#sk-container-id-1 pre{padding: 0;}#sk-container-id-1 div.sk-toggleable {background-color: white;}#sk-container-id-1 label.sk-toggleable__label {cursor: pointer;display: block;width: 100%;margin-bottom: 0;padding: 0.3em;box-sizing: border-box;text-align: center;}#sk-container-id-1 label.sk-toggleable__label-arrow:before {content: \"▸\";float: left;margin-right: 0.25em;color: #696969;}#sk-container-id-1 label.sk-toggleable__label-arrow:hover:before {color: black;}#sk-container-id-1 div.sk-estimator:hover label.sk-toggleable__label-arrow:before {color: black;}#sk-container-id-1 div.sk-toggleable__content {max-height: 0;max-width: 0;overflow: hidden;text-align: left;background-color: #f0f8ff;}#sk-container-id-1 div.sk-toggleable__content pre {margin: 0.2em;color: black;border-radius: 0.25em;background-color: #f0f8ff;}#sk-container-id-1 input.sk-toggleable__control:checked~div.sk-toggleable__content {max-height: 200px;max-width: 100%;overflow: auto;}#sk-container-id-1 input.sk-toggleable__control:checked~label.sk-toggleable__label-arrow:before {content: \"▾\";}#sk-container-id-1 div.sk-estimator input.sk-toggleable__control:checked~label.sk-toggleable__label {background-color: #d4ebff;}#sk-container-id-1 div.sk-label input.sk-toggleable__control:checked~label.sk-toggleable__label {background-color: #d4ebff;}#sk-container-id-1 input.sk-hidden--visually {border: 0;clip: rect(1px 1px 1px 1px);clip: rect(1px, 1px, 1px, 1px);height: 1px;margin: -1px;overflow: hidden;padding: 0;position: absolute;width: 1px;}#sk-container-id-1 div.sk-estimator {font-family: monospace;background-color: #f0f8ff;border: 1px dotted black;border-radius: 0.25em;box-sizing: border-box;margin-bottom: 0.5em;}#sk-container-id-1 div.sk-estimator:hover {background-color: #d4ebff;}#sk-container-id-1 div.sk-parallel-item::after {content: \"\";width: 100%;border-bottom: 1px solid gray;flex-grow: 1;}#sk-container-id-1 div.sk-label:hover label.sk-toggleable__label {background-color: #d4ebff;}#sk-container-id-1 div.sk-serial::before {content: \"\";position: absolute;border-left: 1px solid gray;box-sizing: border-box;top: 0;bottom: 0;left: 50%;z-index: 0;}#sk-container-id-1 div.sk-serial {display: flex;flex-direction: column;align-items: center;background-color: white;padding-right: 0.2em;padding-left: 0.2em;position: relative;}#sk-container-id-1 div.sk-item {position: relative;z-index: 1;}#sk-container-id-1 div.sk-parallel {display: flex;align-items: stretch;justify-content: center;background-color: white;position: relative;}#sk-container-id-1 div.sk-item::before, #sk-container-id-1 div.sk-parallel-item::before {content: \"\";position: absolute;border-left: 1px solid gray;box-sizing: border-box;top: 0;bottom: 0;left: 50%;z-index: -1;}#sk-container-id-1 div.sk-parallel-item {display: flex;flex-direction: column;z-index: 1;position: relative;background-color: white;}#sk-container-id-1 div.sk-parallel-item:first-child::after {align-self: flex-end;width: 50%;}#sk-container-id-1 div.sk-parallel-item:last-child::after {align-self: flex-start;width: 50%;}#sk-container-id-1 div.sk-parallel-item:only-child::after {width: 0;}#sk-container-id-1 div.sk-dashed-wrapped {border: 1px dashed gray;margin: 0 0.4em 0.5em 0.4em;box-sizing: border-box;padding-bottom: 0.4em;background-color: white;}#sk-container-id-1 div.sk-label label {font-family: monospace;font-weight: bold;display: inline-block;line-height: 1.2em;}#sk-container-id-1 div.sk-label-container {text-align: center;}#sk-container-id-1 div.sk-container {/* jupyter's `normalize.less` sets `[hidden] { display: none; }` but bootstrap.min.css set `[hidden] { display: none !important; }` so we also need the `!important` here to be able to override the default hidden behavior on the sphinx rendered scikit-learn.org. See: https://github.com/scikit-learn/scikit-learn/issues/21755 */display: inline-block !important;position: relative;}#sk-container-id-1 div.sk-text-repr-fallback {display: none;}</style><div id=\"sk-container-id-1\" class=\"sk-top-container\"><div class=\"sk-text-repr-fallback\"><pre>Pipeline(steps=[(&#x27;scale&#x27;, None), (&#x27;model&#x27;, GradientBoostingClassifier())])</pre><b>In a Jupyter environment, please rerun this cell to show the HTML representation or trust the notebook. <br />On GitHub, the HTML representation is unable to render, please try loading this page with nbviewer.org.</b></div><div class=\"sk-container\" hidden><div class=\"sk-item sk-dashed-wrapped\"><div class=\"sk-label-container\"><div class=\"sk-label sk-toggleable\"><input class=\"sk-toggleable__control sk-hidden--visually\" id=\"sk-estimator-id-1\" type=\"checkbox\" ><label for=\"sk-estimator-id-1\" class=\"sk-toggleable__label sk-toggleable__label-arrow\">Pipeline</label><div class=\"sk-toggleable__content\"><pre>Pipeline(steps=[(&#x27;scale&#x27;, None), (&#x27;model&#x27;, GradientBoostingClassifier())])</pre></div></div></div><div class=\"sk-serial\"><div class=\"sk-item\"><div class=\"sk-estimator sk-toggleable\"><input class=\"sk-toggleable__control sk-hidden--visually\" id=\"sk-estimator-id-2\" type=\"checkbox\" ><label for=\"sk-estimator-id-2\" class=\"sk-toggleable__label sk-toggleable__label-arrow\">None</label><div class=\"sk-toggleable__content\"><pre>None</pre></div></div></div><div class=\"sk-item\"><div class=\"sk-estimator sk-toggleable\"><input class=\"sk-toggleable__control sk-hidden--visually\" id=\"sk-estimator-id-3\" type=\"checkbox\" ><label for=\"sk-estimator-id-3\" class=\"sk-toggleable__label sk-toggleable__label-arrow\">GradientBoostingClassifier</label><div class=\"sk-toggleable__content\"><pre>GradientBoostingClassifier()</pre></div></div></div></div></div></div></div>"
      ],
      "text/plain": [
       "Pipeline(steps=[('scale', None), ('model', GradientBoostingClassifier())])"
      ]
     },
     "execution_count": 32,
     "metadata": {},
     "output_type": "execute_result"
    }
   ],
   "source": [
    "model.fit(X_train, y_train.values.ravel())"
   ]
  },
  {
   "cell_type": "code",
   "execution_count": 33,
   "id": "af59f8c0",
   "metadata": {
    "execution": {
     "iopub.execute_input": "2025-08-05T16:44:13.341145Z",
     "iopub.status.busy": "2025-08-05T16:44:13.340100Z",
     "iopub.status.idle": "2025-08-05T16:44:13.347128Z",
     "shell.execute_reply": "2025-08-05T16:44:13.345806Z"
    },
    "papermill": {
     "duration": 0.043013,
     "end_time": "2025-08-05T16:44:13.349632",
     "exception": false,
     "start_time": "2025-08-05T16:44:13.306619",
     "status": "completed"
    },
    "tags": []
   },
   "outputs": [],
   "source": [
    "from fairness_multiverse.universe import predict_w_threshold"
   ]
  },
  {
   "cell_type": "code",
   "execution_count": 34,
   "id": "a7cf2e16",
   "metadata": {
    "execution": {
     "iopub.execute_input": "2025-08-05T16:44:13.417957Z",
     "iopub.status.busy": "2025-08-05T16:44:13.417436Z",
     "iopub.status.idle": "2025-08-05T16:44:14.596289Z",
     "shell.execute_reply": "2025-08-05T16:44:14.594946Z"
    },
    "papermill": {
     "duration": 1.215927,
     "end_time": "2025-08-05T16:44:14.598388",
     "exception": false,
     "start_time": "2025-08-05T16:44:13.382461",
     "status": "completed"
    },
    "tags": []
   },
   "outputs": [
    {
     "data": {
      "text/plain": [
       "0.8317244454352914"
      ]
     },
     "execution_count": 34,
     "metadata": {},
     "output_type": "execute_result"
    }
   ],
   "source": [
    "probs_test = model.predict_proba(X_test)\n",
    "\n",
    "'''\n",
    "Below code returns a boolean array (or binary 0/1 array depending on how it’s used) where each element \n",
    "is True if the probability of class 1 is greater than or equal to the threshold, and False otherwise.\n",
    "'''\n",
    "y_pred_default = predict_w_threshold(probs_test, 0.5)\n",
    "\n",
    "from sklearn.metrics import accuracy_score\n",
    "\n",
    "# Naive prediction\n",
    "accuracy_score(y_true = y_true, y_pred = y_pred_default)"
   ]
  },
  {
   "cell_type": "code",
   "execution_count": 35,
   "id": "081964c3",
   "metadata": {
    "execution": {
     "iopub.execute_input": "2025-08-05T16:44:14.649035Z",
     "iopub.status.busy": "2025-08-05T16:44:14.647888Z",
     "iopub.status.idle": "2025-08-05T16:44:15.322488Z",
     "shell.execute_reply": "2025-08-05T16:44:15.321576Z"
    },
    "papermill": {
     "duration": 0.701168,
     "end_time": "2025-08-05T16:44:15.324055",
     "exception": false,
     "start_time": "2025-08-05T16:44:14.622887",
     "status": "completed"
    },
    "tags": []
   },
   "outputs": [
    {
     "data": {
      "text/plain": [
       "array([0, 0, 0, ..., 0, 0, 0])"
      ]
     },
     "execution_count": 35,
     "metadata": {},
     "output_type": "execute_result"
    }
   ],
   "source": [
    "model.predict(X_test)"
   ]
  },
  {
   "cell_type": "markdown",
   "id": "56c9705b",
   "metadata": {
    "papermill": {
     "duration": 0.012375,
     "end_time": "2025-08-05T16:44:15.349843",
     "exception": false,
     "start_time": "2025-08-05T16:44:15.337468",
     "status": "completed"
    },
    "tags": []
   },
   "source": [
    "# Conformal Prediction"
   ]
  },
  {
   "cell_type": "code",
   "execution_count": 36,
   "id": "160ec6ff",
   "metadata": {
    "execution": {
     "iopub.execute_input": "2025-08-05T16:44:15.376769Z",
     "iopub.status.busy": "2025-08-05T16:44:15.375905Z",
     "iopub.status.idle": "2025-08-05T16:44:15.381290Z",
     "shell.execute_reply": "2025-08-05T16:44:15.380435Z"
    },
    "papermill": {
     "duration": 0.02061,
     "end_time": "2025-08-05T16:44:15.382900",
     "exception": false,
     "start_time": "2025-08-05T16:44:15.362290",
     "status": "completed"
    },
    "tags": []
   },
   "outputs": [],
   "source": [
    "# Miscoverage level for conformal prediction (10% allowed error rate => 90% target coverage)\n",
    "alpha = 0.1"
   ]
  },
  {
   "cell_type": "code",
   "execution_count": 37,
   "id": "eadf4555-3dd3-440e-8e35-f82a4ad9f855",
   "metadata": {
    "execution": {
     "iopub.execute_input": "2025-08-05T16:44:15.410732Z",
     "iopub.status.busy": "2025-08-05T16:44:15.409860Z",
     "iopub.status.idle": "2025-08-05T16:44:15.830012Z",
     "shell.execute_reply": "2025-08-05T16:44:15.829058Z"
    },
    "papermill": {
     "duration": 0.43551,
     "end_time": "2025-08-05T16:44:15.831770",
     "exception": false,
     "start_time": "2025-08-05T16:44:15.396260",
     "status": "completed"
    },
    "tags": []
   },
   "outputs": [],
   "source": [
    "probs_calib = model.predict_proba(X_calib)"
   ]
  },
  {
   "cell_type": "code",
   "execution_count": 38,
   "id": "2ed93547-6d5d-4983-9b36-1ecb300da49a",
   "metadata": {
    "execution": {
     "iopub.execute_input": "2025-08-05T16:44:15.860776Z",
     "iopub.status.busy": "2025-08-05T16:44:15.860353Z",
     "iopub.status.idle": "2025-08-05T16:44:15.866500Z",
     "shell.execute_reply": "2025-08-05T16:44:15.865593Z"
    },
    "papermill": {
     "duration": 0.022434,
     "end_time": "2025-08-05T16:44:15.868081",
     "exception": false,
     "start_time": "2025-08-05T16:44:15.845647",
     "status": "completed"
    },
    "tags": []
   },
   "outputs": [],
   "source": [
    "y_calib = y_calib.values.ravel().astype(int)"
   ]
  },
  {
   "cell_type": "code",
   "execution_count": 39,
   "id": "65d1320d-f588-4b38-9072-62af1ae97f7d",
   "metadata": {
    "execution": {
     "iopub.execute_input": "2025-08-05T16:44:15.897184Z",
     "iopub.status.busy": "2025-08-05T16:44:15.896296Z",
     "iopub.status.idle": "2025-08-05T16:44:15.903858Z",
     "shell.execute_reply": "2025-08-05T16:44:15.902936Z"
    },
    "papermill": {
     "duration": 0.023618,
     "end_time": "2025-08-05T16:44:15.905475",
     "exception": false,
     "start_time": "2025-08-05T16:44:15.881857",
     "status": "completed"
    },
    "tags": []
   },
   "outputs": [],
   "source": [
    "from fairness_multiverse.conformal import compute_nc_scores\n",
    "\n",
    "# Compute nonconformity scores on calibration set (1 - probability of true class)\n",
    "nc_scores = compute_nc_scores(probs_calib, y_calib)"
   ]
  },
  {
   "cell_type": "code",
   "execution_count": 40,
   "id": "df3b8ca3-53b7-43d5-9667-7c85da7aeda2",
   "metadata": {
    "execution": {
     "iopub.execute_input": "2025-08-05T16:44:15.934327Z",
     "iopub.status.busy": "2025-08-05T16:44:15.933696Z",
     "iopub.status.idle": "2025-08-05T16:44:15.940835Z",
     "shell.execute_reply": "2025-08-05T16:44:15.939942Z"
    },
    "papermill": {
     "duration": 0.023294,
     "end_time": "2025-08-05T16:44:15.942533",
     "exception": false,
     "start_time": "2025-08-05T16:44:15.919239",
     "status": "completed"
    },
    "tags": []
   },
   "outputs": [],
   "source": [
    "from fairness_multiverse.conformal import find_threshold\n",
    "\n",
    "# Find conformal threshold q_hat for the given alpha (split conformal method)\n",
    "q_hat = find_threshold(nc_scores, alpha)"
   ]
  },
  {
   "cell_type": "code",
   "execution_count": 41,
   "id": "4d29e6c1-0ef6-4aa4-b8fe-4fe79b0d033a",
   "metadata": {
    "execution": {
     "iopub.execute_input": "2025-08-05T16:44:15.972089Z",
     "iopub.status.busy": "2025-08-05T16:44:15.971227Z",
     "iopub.status.idle": "2025-08-05T16:44:15.978999Z",
     "shell.execute_reply": "2025-08-05T16:44:15.978127Z"
    },
    "papermill": {
     "duration": 0.023985,
     "end_time": "2025-08-05T16:44:15.980592",
     "exception": false,
     "start_time": "2025-08-05T16:44:15.956607",
     "status": "completed"
    },
    "tags": []
   },
   "outputs": [
    {
     "data": {
      "text/plain": [
       "0.7634494078687173"
      ]
     },
     "execution_count": 41,
     "metadata": {},
     "output_type": "execute_result"
    }
   ],
   "source": [
    "q_hat"
   ]
  },
  {
   "cell_type": "code",
   "execution_count": 42,
   "id": "92460794-cdac-4be2-ba28-f28c0515a6fb",
   "metadata": {
    "execution": {
     "iopub.execute_input": "2025-08-05T16:44:16.010378Z",
     "iopub.status.busy": "2025-08-05T16:44:16.009496Z",
     "iopub.status.idle": "2025-08-05T16:44:17.693940Z",
     "shell.execute_reply": "2025-08-05T16:44:17.692735Z"
    },
    "papermill": {
     "duration": 1.701365,
     "end_time": "2025-08-05T16:44:17.696094",
     "exception": false,
     "start_time": "2025-08-05T16:44:15.994729",
     "status": "completed"
    },
    "tags": []
   },
   "outputs": [],
   "source": [
    "from fairness_multiverse.conformal import predict_conformal_sets\n",
    "\n",
    "# Generate prediction sets for each test example\n",
    "pred_sets = predict_conformal_sets(model, X_test, q_hat)"
   ]
  },
  {
   "cell_type": "code",
   "execution_count": 43,
   "id": "d90c9a65-e6db-4f5d-80cd-e68fb7e46829",
   "metadata": {
    "execution": {
     "iopub.execute_input": "2025-08-05T16:44:17.749027Z",
     "iopub.status.busy": "2025-08-05T16:44:17.747980Z",
     "iopub.status.idle": "2025-08-05T16:44:17.754696Z",
     "shell.execute_reply": "2025-08-05T16:44:17.753429Z"
    },
    "papermill": {
     "duration": 0.035634,
     "end_time": "2025-08-05T16:44:17.756806",
     "exception": false,
     "start_time": "2025-08-05T16:44:17.721172",
     "status": "completed"
    },
    "tags": []
   },
   "outputs": [],
   "source": [
    "y_true = y_true.squeeze()"
   ]
  },
  {
   "cell_type": "code",
   "execution_count": 44,
   "id": "3a58a54a-1e68-46b9-927a-df01f18aebc8",
   "metadata": {
    "execution": {
     "iopub.execute_input": "2025-08-05T16:44:17.807838Z",
     "iopub.status.busy": "2025-08-05T16:44:17.807057Z",
     "iopub.status.idle": "2025-08-05T16:44:19.089661Z",
     "shell.execute_reply": "2025-08-05T16:44:19.088438Z"
    },
    "papermill": {
     "duration": 1.310305,
     "end_time": "2025-08-05T16:44:19.092238",
     "exception": false,
     "start_time": "2025-08-05T16:44:17.781933",
     "status": "completed"
    },
    "tags": []
   },
   "outputs": [],
   "source": [
    "from fairness_multiverse.conformal import evaluate_sets\n",
    "\n",
    "# Evaluate coverage and average set size on test data\n",
    "metrics = evaluate_sets(pred_sets, y_true)"
   ]
  },
  {
   "cell_type": "markdown",
   "id": "2b569c12-9aaa-4c88-98c9-bbcd0cf3ebb8",
   "metadata": {
    "papermill": {
     "duration": 0.024476,
     "end_time": "2025-08-05T16:44:19.143344",
     "exception": false,
     "start_time": "2025-08-05T16:44:19.118868",
     "status": "completed"
    },
    "tags": []
   },
   "source": [
    "# CP Metrics"
   ]
  },
  {
   "cell_type": "code",
   "execution_count": 45,
   "id": "5ce0a5cb-201f-45a0-ade5-94c7f0bd6095",
   "metadata": {
    "execution": {
     "iopub.execute_input": "2025-08-05T16:44:19.196415Z",
     "iopub.status.busy": "2025-08-05T16:44:19.195223Z",
     "iopub.status.idle": "2025-08-05T16:44:19.203676Z",
     "shell.execute_reply": "2025-08-05T16:44:19.202609Z"
    },
    "papermill": {
     "duration": 0.037515,
     "end_time": "2025-08-05T16:44:19.205616",
     "exception": false,
     "start_time": "2025-08-05T16:44:19.168101",
     "status": "completed"
    },
    "tags": []
   },
   "outputs": [
    {
     "data": {
      "text/plain": [
       "{'coverage': 0.9112696466391706, 'avg_size': 1.1946828670159402}"
      ]
     },
     "execution_count": 45,
     "metadata": {},
     "output_type": "execute_result"
    }
   ],
   "source": [
    "metrics"
   ]
  },
  {
   "cell_type": "code",
   "execution_count": 46,
   "id": "9b9a838d-31c9-430b-ae14-12baee460d17",
   "metadata": {
    "execution": {
     "iopub.execute_input": "2025-08-05T16:44:19.259859Z",
     "iopub.status.busy": "2025-08-05T16:44:19.259282Z",
     "iopub.status.idle": "2025-08-05T16:44:19.266876Z",
     "shell.execute_reply": "2025-08-05T16:44:19.265791Z"
    },
    "papermill": {
     "duration": 0.036285,
     "end_time": "2025-08-05T16:44:19.268773",
     "exception": false,
     "start_time": "2025-08-05T16:44:19.232488",
     "status": "completed"
    },
    "tags": []
   },
   "outputs": [],
   "source": [
    "example_universe = universe.copy()\n",
    "universe_training_year = example_universe.get(\"training_year\")\n",
    "universe_training_size = example_universe.get(\"training_size\")\n",
    "universe_scale = example_universe.get(\"scale\")\n",
    "universe_model = example_universe.get(\"model\")\n",
    "universe_exclude_features = example_universe.get(\"exclude_features\")\n",
    "universe_exclude_subgroups = example_universe.get(\"exclude_subgroups\")"
   ]
  },
  {
   "cell_type": "code",
   "execution_count": 47,
   "id": "f4b6a8ac-9dc0-4245-8a91-5b3b5999c4f9",
   "metadata": {
    "execution": {
     "iopub.execute_input": "2025-08-05T16:44:19.320242Z",
     "iopub.status.busy": "2025-08-05T16:44:19.319687Z",
     "iopub.status.idle": "2025-08-05T16:44:19.327686Z",
     "shell.execute_reply": "2025-08-05T16:44:19.326482Z"
    },
    "papermill": {
     "duration": 0.03577,
     "end_time": "2025-08-05T16:44:19.329648",
     "exception": false,
     "start_time": "2025-08-05T16:44:19.293878",
     "status": "completed"
    },
    "tags": []
   },
   "outputs": [],
   "source": [
    "cp_metrics_dict = {\n",
    "    \"universe_id\": [universe_id],\n",
    "    \"universe_training_year\": [universe_training_year],\n",
    "    \"universe_training_size\": [universe_training_size],\n",
    "    \"universe_scale\": [universe_scale],\n",
    "    \"universe_model\": [universe_model],\n",
    "    \"universe_exclude_features\": [universe_exclude_features],\n",
    "    \"universe_exclude_subgroups\": [universe_exclude_subgroups],\n",
    "    \"q_hat\": [q_hat],\n",
    "    \"coverage\": [metrics[\"coverage\"]],\n",
    "    \"avg_size\": [metrics[\"avg_size\"]],\n",
    "}"
   ]
  },
  {
   "cell_type": "code",
   "execution_count": 48,
   "id": "908acbb1-0371-4915-85ca-3fa520d2efe2",
   "metadata": {
    "execution": {
     "iopub.execute_input": "2025-08-05T16:44:19.384445Z",
     "iopub.status.busy": "2025-08-05T16:44:19.383422Z",
     "iopub.status.idle": "2025-08-05T16:44:19.392132Z",
     "shell.execute_reply": "2025-08-05T16:44:19.391035Z"
    },
    "papermill": {
     "duration": 0.038385,
     "end_time": "2025-08-05T16:44:19.394095",
     "exception": false,
     "start_time": "2025-08-05T16:44:19.355710",
     "status": "completed"
    },
    "tags": []
   },
   "outputs": [
    {
     "data": {
      "text/plain": [
       "{'universe_id': ['dd3e24d79bb0c4e309444f5387e85544'],\n",
       " 'universe_training_year': ['2010_14'],\n",
       " 'universe_training_size': ['1k'],\n",
       " 'universe_scale': ['do-not-scale'],\n",
       " 'universe_model': ['gbm'],\n",
       " 'universe_exclude_features': ['age'],\n",
       " 'universe_exclude_subgroups': ['keep-all'],\n",
       " 'q_hat': [0.7634494078687173],\n",
       " 'coverage': [0.9112696466391706],\n",
       " 'avg_size': [1.1946828670159402]}"
      ]
     },
     "execution_count": 48,
     "metadata": {},
     "output_type": "execute_result"
    }
   ],
   "source": [
    "cp_metrics_dict"
   ]
  },
  {
   "cell_type": "code",
   "execution_count": 49,
   "id": "33007efc-14e9-4ec6-97ac-56a455c82265",
   "metadata": {
    "execution": {
     "iopub.execute_input": "2025-08-05T16:44:19.450577Z",
     "iopub.status.busy": "2025-08-05T16:44:19.449882Z",
     "iopub.status.idle": "2025-08-05T16:44:19.457568Z",
     "shell.execute_reply": "2025-08-05T16:44:19.456461Z"
    },
    "papermill": {
     "duration": 0.038076,
     "end_time": "2025-08-05T16:44:19.459487",
     "exception": false,
     "start_time": "2025-08-05T16:44:19.421411",
     "status": "completed"
    },
    "tags": []
   },
   "outputs": [],
   "source": [
    "cp_metrics_df = pd.DataFrame(cp_metrics_dict)"
   ]
  },
  {
   "cell_type": "code",
   "execution_count": 50,
   "id": "db12611b-57b2-4910-b9d0-355adfd6e7bf",
   "metadata": {
    "execution": {
     "iopub.execute_input": "2025-08-05T16:44:19.514882Z",
     "iopub.status.busy": "2025-08-05T16:44:19.513955Z",
     "iopub.status.idle": "2025-08-05T16:44:19.536630Z",
     "shell.execute_reply": "2025-08-05T16:44:19.535448Z"
    },
    "papermill": {
     "duration": 0.052725,
     "end_time": "2025-08-05T16:44:19.538450",
     "exception": false,
     "start_time": "2025-08-05T16:44:19.485725",
     "status": "completed"
    },
    "tags": []
   },
   "outputs": [
    {
     "data": {
      "text/html": [
       "<div>\n",
       "<style scoped>\n",
       "    .dataframe tbody tr th:only-of-type {\n",
       "        vertical-align: middle;\n",
       "    }\n",
       "\n",
       "    .dataframe tbody tr th {\n",
       "        vertical-align: top;\n",
       "    }\n",
       "\n",
       "    .dataframe thead th {\n",
       "        text-align: right;\n",
       "    }\n",
       "</style>\n",
       "<table border=\"1\" class=\"dataframe\">\n",
       "  <thead>\n",
       "    <tr style=\"text-align: right;\">\n",
       "      <th></th>\n",
       "      <th>universe_id</th>\n",
       "      <th>universe_training_year</th>\n",
       "      <th>universe_training_size</th>\n",
       "      <th>universe_scale</th>\n",
       "      <th>universe_model</th>\n",
       "      <th>universe_exclude_features</th>\n",
       "      <th>universe_exclude_subgroups</th>\n",
       "      <th>q_hat</th>\n",
       "      <th>coverage</th>\n",
       "      <th>avg_size</th>\n",
       "    </tr>\n",
       "  </thead>\n",
       "  <tbody>\n",
       "    <tr>\n",
       "      <th>0</th>\n",
       "      <td>dd3e24d79bb0c4e309444f5387e85544</td>\n",
       "      <td>2010_14</td>\n",
       "      <td>1k</td>\n",
       "      <td>do-not-scale</td>\n",
       "      <td>gbm</td>\n",
       "      <td>age</td>\n",
       "      <td>keep-all</td>\n",
       "      <td>0.763449</td>\n",
       "      <td>0.91127</td>\n",
       "      <td>1.194683</td>\n",
       "    </tr>\n",
       "  </tbody>\n",
       "</table>\n",
       "</div>"
      ],
      "text/plain": [
       "                        universe_id universe_training_year  \\\n",
       "0  dd3e24d79bb0c4e309444f5387e85544                2010_14   \n",
       "\n",
       "  universe_training_size universe_scale universe_model  \\\n",
       "0                     1k   do-not-scale            gbm   \n",
       "\n",
       "  universe_exclude_features universe_exclude_subgroups     q_hat  coverage  \\\n",
       "0                       age                   keep-all  0.763449   0.91127   \n",
       "\n",
       "   avg_size  \n",
       "0  1.194683  "
      ]
     },
     "execution_count": 50,
     "metadata": {},
     "output_type": "execute_result"
    }
   ],
   "source": [
    "cp_metrics_df"
   ]
  },
  {
   "cell_type": "code",
   "execution_count": 51,
   "id": "b7fbde55-a0a1-47e4-9af6-fe4a17fa8c61",
   "metadata": {
    "execution": {
     "iopub.execute_input": "2025-08-05T16:44:19.595655Z",
     "iopub.status.busy": "2025-08-05T16:44:19.594594Z",
     "iopub.status.idle": "2025-08-05T16:44:19.600658Z",
     "shell.execute_reply": "2025-08-05T16:44:19.599647Z"
    },
    "papermill": {
     "duration": 0.036888,
     "end_time": "2025-08-05T16:44:19.602452",
     "exception": false,
     "start_time": "2025-08-05T16:44:19.565564",
     "status": "completed"
    },
    "tags": []
   },
   "outputs": [],
   "source": [
    "# Conditional Coverage & looking at subgroups"
   ]
  },
  {
   "cell_type": "code",
   "execution_count": 52,
   "id": "027ae886-68dd-4141-96c7-805a5450e1ef",
   "metadata": {
    "execution": {
     "iopub.execute_input": "2025-08-05T16:44:19.658797Z",
     "iopub.status.busy": "2025-08-05T16:44:19.658031Z",
     "iopub.status.idle": "2025-08-05T16:44:19.981643Z",
     "shell.execute_reply": "2025-08-05T16:44:19.980380Z"
    },
    "papermill": {
     "duration": 0.354659,
     "end_time": "2025-08-05T16:44:19.984115",
     "exception": false,
     "start_time": "2025-08-05T16:44:19.629456",
     "status": "completed"
    },
    "tags": []
   },
   "outputs": [],
   "source": [
    "from fairness_multiverse.conformal import build_cp_groups\n",
    "\n",
    "cp_groups_df = build_cp_groups(pred_sets, y_true, X_test.index, org_test)\n",
    "#needs universe_id and setting"
   ]
  },
  {
   "cell_type": "code",
   "execution_count": 53,
   "id": "6cbdab96-b2b2-45af-ad54-d0516db2e28d",
   "metadata": {
    "execution": {
     "iopub.execute_input": "2025-08-05T16:44:20.040126Z",
     "iopub.status.busy": "2025-08-05T16:44:20.039429Z",
     "iopub.status.idle": "2025-08-05T16:44:22.098545Z",
     "shell.execute_reply": "2025-08-05T16:44:22.097098Z"
    },
    "papermill": {
     "duration": 2.089853,
     "end_time": "2025-08-05T16:44:22.101335",
     "exception": false,
     "start_time": "2025-08-05T16:44:20.011482",
     "status": "completed"
    },
    "tags": []
   },
   "outputs": [],
   "source": [
    "# Define covered = 1 if true_label is in the predicted set\n",
    "cp_groups_df['covered'] = cp_groups_df.apply(\n",
    "    lambda r: int(r['true_label'] in r['pred_set']),\n",
    "    axis=1\n",
    ")"
   ]
  },
  {
   "cell_type": "code",
   "execution_count": 54,
   "id": "338ff529-1a6b-4b87-a931-8e4788d52aad",
   "metadata": {
    "execution": {
     "iopub.execute_input": "2025-08-05T16:44:22.177536Z",
     "iopub.status.busy": "2025-08-05T16:44:22.177050Z",
     "iopub.status.idle": "2025-08-05T16:44:22.183945Z",
     "shell.execute_reply": "2025-08-05T16:44:22.182407Z"
    },
    "papermill": {
     "duration": 0.047823,
     "end_time": "2025-08-05T16:44:22.186469",
     "exception": false,
     "start_time": "2025-08-05T16:44:22.138646",
     "status": "completed"
    },
    "tags": []
   },
   "outputs": [],
   "source": [
    "#cp_groups_df"
   ]
  },
  {
   "cell_type": "code",
   "execution_count": 55,
   "id": "90032e27-66df-4540-9169-4e89cfbaa758",
   "metadata": {
    "execution": {
     "iopub.execute_input": "2025-08-05T16:44:22.265750Z",
     "iopub.status.busy": "2025-08-05T16:44:22.264277Z",
     "iopub.status.idle": "2025-08-05T16:44:22.282183Z",
     "shell.execute_reply": "2025-08-05T16:44:22.280676Z"
    },
    "papermill": {
     "duration": 0.060368,
     "end_time": "2025-08-05T16:44:22.284924",
     "exception": false,
     "start_time": "2025-08-05T16:44:22.224556",
     "status": "completed"
    },
    "tags": []
   },
   "outputs": [],
   "source": [
    "subgroups = ['frau1','nongerman','nongerman_male','nongerman_female']\n",
    "\n",
    "# Conditional coverage for subgroup==1\n",
    "cond_coverage = {\n",
    "    g: cp_groups_df.loc[cp_groups_df[g]==1, 'covered'].mean()\n",
    "    for g in subgroups\n",
    "}"
   ]
  },
  {
   "cell_type": "code",
   "execution_count": 56,
   "id": "1e348fb1-b9c3-45bc-ba23-f016827a7e0d",
   "metadata": {
    "execution": {
     "iopub.execute_input": "2025-08-05T16:44:22.355211Z",
     "iopub.status.busy": "2025-08-05T16:44:22.353982Z",
     "iopub.status.idle": "2025-08-05T16:44:22.364922Z",
     "shell.execute_reply": "2025-08-05T16:44:22.363379Z"
    },
    "papermill": {
     "duration": 0.048852,
     "end_time": "2025-08-05T16:44:22.367616",
     "exception": false,
     "start_time": "2025-08-05T16:44:22.318764",
     "status": "completed"
    },
    "tags": []
   },
   "outputs": [
    {
     "data": {
      "text/plain": [
       "{'frau1': 0.9093678393314463,\n",
       " 'nongerman': 0.9060798293381238,\n",
       " 'nongerman_male': 0.9237143114473566,\n",
       " 'nongerman_female': 0.8769001490312965}"
      ]
     },
     "execution_count": 56,
     "metadata": {},
     "output_type": "execute_result"
    }
   ],
   "source": [
    "cond_coverage"
   ]
  },
  {
   "cell_type": "code",
   "execution_count": 57,
   "id": "f5093324-c3dd-4d63-bc4c-8d945e5c8bbb",
   "metadata": {
    "execution": {
     "iopub.execute_input": "2025-08-05T16:44:22.447379Z",
     "iopub.status.busy": "2025-08-05T16:44:22.446297Z",
     "iopub.status.idle": "2025-08-05T16:44:22.458220Z",
     "shell.execute_reply": "2025-08-05T16:44:22.456709Z"
    },
    "papermill": {
     "duration": 0.054437,
     "end_time": "2025-08-05T16:44:22.460853",
     "exception": false,
     "start_time": "2025-08-05T16:44:22.406416",
     "status": "completed"
    },
    "tags": []
   },
   "outputs": [],
   "source": [
    "for subgroup, cov in cond_coverage.items():\n",
    "    cp_metrics_df[f\"cov_{subgroup}\"] = cov"
   ]
  },
  {
   "cell_type": "code",
   "execution_count": 58,
   "id": "6e872e10-dbe5-49e8-b554-5030c98ff75d",
   "metadata": {
    "execution": {
     "iopub.execute_input": "2025-08-05T16:44:22.540477Z",
     "iopub.status.busy": "2025-08-05T16:44:22.539047Z",
     "iopub.status.idle": "2025-08-05T16:44:22.566980Z",
     "shell.execute_reply": "2025-08-05T16:44:22.565630Z"
    },
    "papermill": {
     "duration": 0.070265,
     "end_time": "2025-08-05T16:44:22.569341",
     "exception": false,
     "start_time": "2025-08-05T16:44:22.499076",
     "status": "completed"
    },
    "tags": []
   },
   "outputs": [
    {
     "data": {
      "text/html": [
       "<div>\n",
       "<style scoped>\n",
       "    .dataframe tbody tr th:only-of-type {\n",
       "        vertical-align: middle;\n",
       "    }\n",
       "\n",
       "    .dataframe tbody tr th {\n",
       "        vertical-align: top;\n",
       "    }\n",
       "\n",
       "    .dataframe thead th {\n",
       "        text-align: right;\n",
       "    }\n",
       "</style>\n",
       "<table border=\"1\" class=\"dataframe\">\n",
       "  <thead>\n",
       "    <tr style=\"text-align: right;\">\n",
       "      <th></th>\n",
       "      <th>universe_id</th>\n",
       "      <th>universe_training_year</th>\n",
       "      <th>universe_training_size</th>\n",
       "      <th>universe_scale</th>\n",
       "      <th>universe_model</th>\n",
       "      <th>universe_exclude_features</th>\n",
       "      <th>universe_exclude_subgroups</th>\n",
       "      <th>q_hat</th>\n",
       "      <th>coverage</th>\n",
       "      <th>avg_size</th>\n",
       "      <th>cov_frau1</th>\n",
       "      <th>cov_nongerman</th>\n",
       "      <th>cov_nongerman_male</th>\n",
       "      <th>cov_nongerman_female</th>\n",
       "    </tr>\n",
       "  </thead>\n",
       "  <tbody>\n",
       "    <tr>\n",
       "      <th>0</th>\n",
       "      <td>dd3e24d79bb0c4e309444f5387e85544</td>\n",
       "      <td>2010_14</td>\n",
       "      <td>1k</td>\n",
       "      <td>do-not-scale</td>\n",
       "      <td>gbm</td>\n",
       "      <td>age</td>\n",
       "      <td>keep-all</td>\n",
       "      <td>0.763449</td>\n",
       "      <td>0.91127</td>\n",
       "      <td>1.194683</td>\n",
       "      <td>0.909368</td>\n",
       "      <td>0.90608</td>\n",
       "      <td>0.923714</td>\n",
       "      <td>0.8769</td>\n",
       "    </tr>\n",
       "  </tbody>\n",
       "</table>\n",
       "</div>"
      ],
      "text/plain": [
       "                        universe_id universe_training_year  \\\n",
       "0  dd3e24d79bb0c4e309444f5387e85544                2010_14   \n",
       "\n",
       "  universe_training_size universe_scale universe_model  \\\n",
       "0                     1k   do-not-scale            gbm   \n",
       "\n",
       "  universe_exclude_features universe_exclude_subgroups     q_hat  coverage  \\\n",
       "0                       age                   keep-all  0.763449   0.91127   \n",
       "\n",
       "   avg_size  cov_frau1  cov_nongerman  cov_nongerman_male  \\\n",
       "0  1.194683   0.909368        0.90608            0.923714   \n",
       "\n",
       "   cov_nongerman_female  \n",
       "0                0.8769  "
      ]
     },
     "execution_count": 58,
     "metadata": {},
     "output_type": "execute_result"
    }
   ],
   "source": [
    "cp_metrics_df"
   ]
  },
  {
   "cell_type": "markdown",
   "id": "33774451",
   "metadata": {
    "papermill": {
     "duration": 0.038009,
     "end_time": "2025-08-05T16:44:22.645912",
     "exception": false,
     "start_time": "2025-08-05T16:44:22.607903",
     "status": "completed"
    },
    "tags": []
   },
   "source": [
    "# (Fairness) Metrics"
   ]
  },
  {
   "cell_type": "code",
   "execution_count": 59,
   "id": "debc5d62",
   "metadata": {
    "execution": {
     "iopub.execute_input": "2025-08-05T16:44:22.724363Z",
     "iopub.status.busy": "2025-08-05T16:44:22.723384Z",
     "iopub.status.idle": "2025-08-05T16:44:22.752446Z",
     "shell.execute_reply": "2025-08-05T16:44:22.751064Z"
    },
    "papermill": {
     "duration": 0.071563,
     "end_time": "2025-08-05T16:44:22.755261",
     "exception": false,
     "start_time": "2025-08-05T16:44:22.683698",
     "status": "completed"
    },
    "tags": []
   },
   "outputs": [],
   "source": [
    "# do I need to include maxdeutsch1.missing?\n",
    "\n",
    "import numpy as np\n",
    "\n",
    "colname_to_bin = \"maxdeutsch1\"\n",
    "majority_value = org_train[colname_to_bin].mode()[0]\n",
    "\n",
    "org_test[\"majmin\"] = np.where(org_test[colname_to_bin] == majority_value, \"majority\", \"minority\")"
   ]
  },
  {
   "cell_type": "code",
   "execution_count": 60,
   "id": "06a50de5",
   "metadata": {
    "execution": {
     "iopub.execute_input": "2025-08-05T16:44:22.834617Z",
     "iopub.status.busy": "2025-08-05T16:44:22.833658Z",
     "iopub.status.idle": "2025-08-05T16:44:25.855526Z",
     "shell.execute_reply": "2025-08-05T16:44:25.854376Z"
    },
    "papermill": {
     "duration": 3.06371,
     "end_time": "2025-08-05T16:44:25.857449",
     "exception": false,
     "start_time": "2025-08-05T16:44:22.793739",
     "status": "completed"
    },
    "tags": []
   },
   "outputs": [],
   "source": [
    "example_universe = universe.copy()\n",
    "example_universe[\"cutoff\"] = example_universe[\"cutoff\"][0]\n",
    "example_universe[\"eval_fairness_grouping\"] = example_universe[\"eval_fairness_grouping\"][0]\n",
    "fairness_dict, metric_frame = universe_analysis.compute_metrics(\n",
    "    example_universe,\n",
    "    y_pred_prob=probs_test,\n",
    "    y_test=y_true,\n",
    "    org_test=org_test,\n",
    ")"
   ]
  },
  {
   "cell_type": "markdown",
   "id": "f95d4e02",
   "metadata": {
    "papermill": {
     "duration": 0.017052,
     "end_time": "2025-08-05T16:44:25.891011",
     "exception": false,
     "start_time": "2025-08-05T16:44:25.873959",
     "status": "completed"
    },
    "tags": []
   },
   "source": [
    "# Overall"
   ]
  },
  {
   "cell_type": "markdown",
   "id": "bdee4871",
   "metadata": {
    "papermill": {
     "duration": 0.014195,
     "end_time": "2025-08-05T16:44:25.919086",
     "exception": false,
     "start_time": "2025-08-05T16:44:25.904891",
     "status": "completed"
    },
    "tags": []
   },
   "source": [
    "Fairness\n",
    "Main fairness target: Equalized Odds. Seems to be a better fit than equal opportunity, since we're not only interested in Y = 1. Seems to be a better fit than demographic parity, since we also care about accuracy, not just equal distribution of preds.\n",
    "\n",
    "Pick column for computation of fairness metrics\n",
    "\n",
    "Performance\n",
    "Overall performance measures, most interesting in relation to the measures split by group below"
   ]
  },
  {
   "cell_type": "code",
   "execution_count": 61,
   "id": "c4e067c6",
   "metadata": {
    "execution": {
     "iopub.execute_input": "2025-08-05T16:44:25.975859Z",
     "iopub.status.busy": "2025-08-05T16:44:25.975457Z",
     "iopub.status.idle": "2025-08-05T16:44:25.988103Z",
     "shell.execute_reply": "2025-08-05T16:44:25.986788Z"
    },
    "papermill": {
     "duration": 0.05293,
     "end_time": "2025-08-05T16:44:25.990131",
     "exception": false,
     "start_time": "2025-08-05T16:44:25.937201",
     "status": "completed"
    },
    "tags": []
   },
   "outputs": [
    {
     "data": {
      "text/plain": [
       "accuracy                   0.221124\n",
       "balanced accuracy          0.541359\n",
       "f1                         0.242544\n",
       "precision                  0.138558\n",
       "false positive rate        0.889389\n",
       "false negative rate        0.027894\n",
       "selection rate             0.900000\n",
       "count                  89710.000000\n",
       "dtype: float64"
      ]
     },
     "execution_count": 61,
     "metadata": {},
     "output_type": "execute_result"
    }
   ],
   "source": [
    "metric_frame.overall"
   ]
  },
  {
   "cell_type": "markdown",
   "id": "e968fe9d",
   "metadata": {
    "papermill": {
     "duration": 0.026083,
     "end_time": "2025-08-05T16:44:26.044699",
     "exception": false,
     "start_time": "2025-08-05T16:44:26.018616",
     "status": "completed"
    },
    "tags": []
   },
   "source": [
    "By Group"
   ]
  },
  {
   "cell_type": "code",
   "execution_count": 62,
   "id": "ec325bce",
   "metadata": {
    "execution": {
     "iopub.execute_input": "2025-08-05T16:44:26.100785Z",
     "iopub.status.busy": "2025-08-05T16:44:26.099913Z",
     "iopub.status.idle": "2025-08-05T16:44:26.128169Z",
     "shell.execute_reply": "2025-08-05T16:44:26.126893Z"
    },
    "papermill": {
     "duration": 0.059333,
     "end_time": "2025-08-05T16:44:26.130262",
     "exception": false,
     "start_time": "2025-08-05T16:44:26.070929",
     "status": "completed"
    },
    "tags": []
   },
   "outputs": [
    {
     "data": {
      "text/html": [
       "<div>\n",
       "<style scoped>\n",
       "    .dataframe tbody tr th:only-of-type {\n",
       "        vertical-align: middle;\n",
       "    }\n",
       "\n",
       "    .dataframe tbody tr th {\n",
       "        vertical-align: top;\n",
       "    }\n",
       "\n",
       "    .dataframe thead th {\n",
       "        text-align: right;\n",
       "    }\n",
       "</style>\n",
       "<table border=\"1\" class=\"dataframe\">\n",
       "  <thead>\n",
       "    <tr style=\"text-align: right;\">\n",
       "      <th></th>\n",
       "      <th>accuracy</th>\n",
       "      <th>balanced accuracy</th>\n",
       "      <th>f1</th>\n",
       "      <th>precision</th>\n",
       "      <th>false positive rate</th>\n",
       "      <th>false negative rate</th>\n",
       "      <th>selection rate</th>\n",
       "      <th>count</th>\n",
       "    </tr>\n",
       "    <tr>\n",
       "      <th>majmin</th>\n",
       "      <th></th>\n",
       "      <th></th>\n",
       "      <th></th>\n",
       "      <th></th>\n",
       "      <th></th>\n",
       "      <th></th>\n",
       "      <th></th>\n",
       "      <th></th>\n",
       "    </tr>\n",
       "  </thead>\n",
       "  <tbody>\n",
       "    <tr>\n",
       "      <th>majority</th>\n",
       "      <td>0.226905</td>\n",
       "      <td>0.542865</td>\n",
       "      <td>0.249463</td>\n",
       "      <td>0.143087</td>\n",
       "      <td>0.886590</td>\n",
       "      <td>0.027681</td>\n",
       "      <td>0.897918</td>\n",
       "      <td>69170.0</td>\n",
       "    </tr>\n",
       "    <tr>\n",
       "      <th>minority</th>\n",
       "      <td>0.201655</td>\n",
       "      <td>0.536324</td>\n",
       "      <td>0.219068</td>\n",
       "      <td>0.123457</td>\n",
       "      <td>0.898635</td>\n",
       "      <td>0.028716</td>\n",
       "      <td>0.907011</td>\n",
       "      <td>20540.0</td>\n",
       "    </tr>\n",
       "  </tbody>\n",
       "</table>\n",
       "</div>"
      ],
      "text/plain": [
       "          accuracy  balanced accuracy        f1  precision  \\\n",
       "majmin                                                       \n",
       "majority  0.226905           0.542865  0.249463   0.143087   \n",
       "minority  0.201655           0.536324  0.219068   0.123457   \n",
       "\n",
       "          false positive rate  false negative rate  selection rate    count  \n",
       "majmin                                                                       \n",
       "majority             0.886590             0.027681        0.897918  69170.0  \n",
       "minority             0.898635             0.028716        0.907011  20540.0  "
      ]
     },
     "execution_count": 62,
     "metadata": {},
     "output_type": "execute_result"
    }
   ],
   "source": [
    "metric_frame.by_group"
   ]
  },
  {
   "cell_type": "code",
   "execution_count": 63,
   "id": "a9ddbe63",
   "metadata": {
    "execution": {
     "iopub.execute_input": "2025-08-05T16:44:26.186476Z",
     "iopub.status.busy": "2025-08-05T16:44:26.185938Z",
     "iopub.status.idle": "2025-08-05T16:44:28.966532Z",
     "shell.execute_reply": "2025-08-05T16:44:28.965333Z"
    },
    "papermill": {
     "duration": 2.811188,
     "end_time": "2025-08-05T16:44:28.968599",
     "exception": false,
     "start_time": "2025-08-05T16:44:26.157411",
     "status": "completed"
    },
    "tags": []
   },
   "outputs": [
    {
     "data": {
      "text/plain": [
       "array([[<Axes: title={'center': 'accuracy'}, xlabel='majmin'>,\n",
       "        <Axes: title={'center': 'balanced accuracy'}, xlabel='majmin'>,\n",
       "        <Axes: title={'center': 'f1'}, xlabel='majmin'>],\n",
       "       [<Axes: title={'center': 'precision'}, xlabel='majmin'>,\n",
       "        <Axes: title={'center': 'false positive rate'}, xlabel='majmin'>,\n",
       "        <Axes: title={'center': 'false negative rate'}, xlabel='majmin'>],\n",
       "       [<Axes: title={'center': 'selection rate'}, xlabel='majmin'>,\n",
       "        <Axes: title={'center': 'count'}, xlabel='majmin'>,\n",
       "        <Axes: xlabel='majmin'>]], dtype=object)"
      ]
     },
     "execution_count": 63,
     "metadata": {},
     "output_type": "execute_result"
    },
    {
     "data": {
      "image/png": "[encoded data removed]",
      "text/plain": [
       "<Figure size 1200x800 with 9 Axes>"
      ]
     },
     "metadata": {},
     "output_type": "display_data"
    }
   ],
   "source": [
    "# In a graphic\n",
    "metric_frame.by_group.plot.bar(\n",
    "    subplots=True,\n",
    "    layout=[3, 3],\n",
    "    legend=False,\n",
    "    figsize=[12, 8],\n",
    "    title=\"Show all metrics\",\n",
    ")"
   ]
  },
  {
   "cell_type": "markdown",
   "id": "f57a0bac",
   "metadata": {
    "papermill": {
     "duration": 0.032943,
     "end_time": "2025-08-05T16:44:29.036020",
     "exception": false,
     "start_time": "2025-08-05T16:44:29.003077",
     "status": "completed"
    },
    "tags": []
   },
   "source": [
    "# Final Output"
   ]
  },
  {
   "cell_type": "code",
   "execution_count": 64,
   "id": "96d280a3",
   "metadata": {
    "execution": {
     "iopub.execute_input": "2025-08-05T16:44:29.100370Z",
     "iopub.status.busy": "2025-08-05T16:44:29.099608Z",
     "iopub.status.idle": "2025-08-05T16:44:29.108648Z",
     "shell.execute_reply": "2025-08-05T16:44:29.107738Z"
    },
    "papermill": {
     "duration": 0.0415,
     "end_time": "2025-08-05T16:44:29.110197",
     "exception": false,
     "start_time": "2025-08-05T16:44:29.068697",
     "status": "completed"
    },
    "tags": []
   },
   "outputs": [
    {
     "data": {
      "text/plain": [
       "4"
      ]
     },
     "execution_count": 64,
     "metadata": {},
     "output_type": "execute_result"
    }
   ],
   "source": [
    "sub_universes = universe_analysis.generate_sub_universes()\n",
    "len(sub_universes)"
   ]
  },
  {
   "cell_type": "code",
   "execution_count": 65,
   "id": "92adf7ba",
   "metadata": {
    "execution": {
     "iopub.execute_input": "2025-08-05T16:44:29.171698Z",
     "iopub.status.busy": "2025-08-05T16:44:29.171128Z",
     "iopub.status.idle": "2025-08-05T16:44:29.178192Z",
     "shell.execute_reply": "2025-08-05T16:44:29.177113Z"
    },
    "papermill": {
     "duration": 0.040716,
     "end_time": "2025-08-05T16:44:29.180092",
     "exception": false,
     "start_time": "2025-08-05T16:44:29.139376",
     "status": "completed"
    },
    "tags": []
   },
   "outputs": [],
   "source": [
    "def filter_sub_universe_data(sub_universe, org_test):\n",
    "    # Keep all rows — no filtering\n",
    "    keep_rows_mask = np.ones(org_test.shape[0], dtype=bool)\n",
    "\n",
    "    print(f\"[INFO] Keeping all rows: {keep_rows_mask.sum()} rows retained.\")\n",
    "    return keep_rows_mask"
   ]
  },
  {
   "cell_type": "code",
   "execution_count": 66,
   "id": "4a759155",
   "metadata": {
    "execution": {
     "iopub.execute_input": "2025-08-05T16:44:29.238346Z",
     "iopub.status.busy": "2025-08-05T16:44:29.237498Z",
     "iopub.status.idle": "2025-08-05T16:44:38.722828Z",
     "shell.execute_reply": "2025-08-05T16:44:38.721966Z"
    },
    "papermill": {
     "duration": 9.516443,
     "end_time": "2025-08-05T16:44:38.724788",
     "exception": false,
     "start_time": "2025-08-05T16:44:29.208345",
     "status": "completed"
    },
    "tags": []
   },
   "outputs": [
    {
     "name": "stdout",
     "output_type": "stream",
     "text": [
      "Stopping execution_time clock.\n",
      "[INFO] Keeping all rows: 89710 rows retained.\n"
     ]
    },
    {
     "name": "stdout",
     "output_type": "stream",
     "text": [
      "[INFO] Keeping all rows: 89710 rows retained.\n"
     ]
    },
    {
     "name": "stdout",
     "output_type": "stream",
     "text": [
      "[INFO] Keeping all rows: 89710 rows retained.\n"
     ]
    },
    {
     "name": "stdout",
     "output_type": "stream",
     "text": [
      "[INFO] Keeping all rows: 89710 rows retained.\n"
     ]
    },
    {
     "data": {
      "text/html": [
       "<div>\n",
       "<style scoped>\n",
       "    .dataframe tbody tr th:only-of-type {\n",
       "        vertical-align: middle;\n",
       "    }\n",
       "\n",
       "    .dataframe tbody tr th {\n",
       "        vertical-align: top;\n",
       "    }\n",
       "\n",
       "    .dataframe thead th {\n",
       "        text-align: right;\n",
       "    }\n",
       "</style>\n",
       "<table border=\"1\" class=\"dataframe\">\n",
       "  <thead>\n",
       "    <tr style=\"text-align: right;\">\n",
       "      <th></th>\n",
       "      <th>run_no</th>\n",
       "      <th>universe_id</th>\n",
       "      <th>universe_settings</th>\n",
       "      <th>execution_time</th>\n",
       "      <th>test_size_n</th>\n",
       "      <th>test_size_frac</th>\n",
       "      <th>fair_main_equalized_odds_difference</th>\n",
       "      <th>fair_main_equalized_odds_ratio</th>\n",
       "      <th>fair_main_demographic_parity_difference</th>\n",
       "      <th>fair_main_demographic_parity_ratio</th>\n",
       "      <th>...</th>\n",
       "      <th>perf_grp_precision_0</th>\n",
       "      <th>perf_grp_precision_1</th>\n",
       "      <th>perf_grp_false positive rate_0</th>\n",
       "      <th>perf_grp_false positive rate_1</th>\n",
       "      <th>perf_grp_false negative rate_0</th>\n",
       "      <th>perf_grp_false negative rate_1</th>\n",
       "      <th>perf_grp_selection rate_0</th>\n",
       "      <th>perf_grp_selection rate_1</th>\n",
       "      <th>perf_grp_count_0</th>\n",
       "      <th>perf_grp_count_1</th>\n",
       "    </tr>\n",
       "  </thead>\n",
       "  <tbody>\n",
       "    <tr>\n",
       "      <th>0</th>\n",
       "      <td>15</td>\n",
       "      <td>dd3e24d79bb0c4e309444f5387e85544</td>\n",
       "      <td>{\"cutoff\": \"quantile_0.1\", \"eval_fairness_grou...</td>\n",
       "      <td>36.101751</td>\n",
       "      <td>89710</td>\n",
       "      <td>1.0</td>\n",
       "      <td>0.012045</td>\n",
       "      <td>0.986596</td>\n",
       "      <td>0.009093</td>\n",
       "      <td>0.989975</td>\n",
       "      <td>...</td>\n",
       "      <td>NaN</td>\n",
       "      <td>NaN</td>\n",
       "      <td>NaN</td>\n",
       "      <td>NaN</td>\n",
       "      <td>NaN</td>\n",
       "      <td>NaN</td>\n",
       "      <td>NaN</td>\n",
       "      <td>NaN</td>\n",
       "      <td>NaN</td>\n",
       "      <td>NaN</td>\n",
       "    </tr>\n",
       "    <tr>\n",
       "      <th>0</th>\n",
       "      <td>15</td>\n",
       "      <td>dd3e24d79bb0c4e309444f5387e85544</td>\n",
       "      <td>{\"cutoff\": \"quantile_0.1\", \"eval_fairness_grou...</td>\n",
       "      <td>36.101751</td>\n",
       "      <td>89710</td>\n",
       "      <td>1.0</td>\n",
       "      <td>0.012045</td>\n",
       "      <td>0.986596</td>\n",
       "      <td>0.009093</td>\n",
       "      <td>0.989975</td>\n",
       "      <td>...</td>\n",
       "      <td>0.123457</td>\n",
       "      <td>0.143087</td>\n",
       "      <td>0.898635</td>\n",
       "      <td>0.886590</td>\n",
       "      <td>0.028716</td>\n",
       "      <td>0.027681</td>\n",
       "      <td>0.907011</td>\n",
       "      <td>0.897918</td>\n",
       "      <td>20540.0</td>\n",
       "      <td>69170.0</td>\n",
       "    </tr>\n",
       "    <tr>\n",
       "      <th>0</th>\n",
       "      <td>15</td>\n",
       "      <td>dd3e24d79bb0c4e309444f5387e85544</td>\n",
       "      <td>{\"cutoff\": \"quantile_0.25\", \"eval_fairness_gro...</td>\n",
       "      <td>36.101751</td>\n",
       "      <td>89710</td>\n",
       "      <td>1.0</td>\n",
       "      <td>0.096553</td>\n",
       "      <td>0.879387</td>\n",
       "      <td>0.082787</td>\n",
       "      <td>0.898274</td>\n",
       "      <td>...</td>\n",
       "      <td>NaN</td>\n",
       "      <td>NaN</td>\n",
       "      <td>NaN</td>\n",
       "      <td>NaN</td>\n",
       "      <td>NaN</td>\n",
       "      <td>NaN</td>\n",
       "      <td>NaN</td>\n",
       "      <td>NaN</td>\n",
       "      <td>NaN</td>\n",
       "      <td>NaN</td>\n",
       "    </tr>\n",
       "    <tr>\n",
       "      <th>0</th>\n",
       "      <td>15</td>\n",
       "      <td>dd3e24d79bb0c4e309444f5387e85544</td>\n",
       "      <td>{\"cutoff\": \"quantile_0.25\", \"eval_fairness_gro...</td>\n",
       "      <td>36.101751</td>\n",
       "      <td>89710</td>\n",
       "      <td>1.0</td>\n",
       "      <td>0.096553</td>\n",
       "      <td>0.879387</td>\n",
       "      <td>0.082787</td>\n",
       "      <td>0.898274</td>\n",
       "      <td>...</td>\n",
       "      <td>0.129756</td>\n",
       "      <td>0.164280</td>\n",
       "      <td>0.800517</td>\n",
       "      <td>0.703965</td>\n",
       "      <td>0.084037</td>\n",
       "      <td>0.091138</td>\n",
       "      <td>0.813827</td>\n",
       "      <td>0.731039</td>\n",
       "      <td>20540.0</td>\n",
       "      <td>69170.0</td>\n",
       "    </tr>\n",
       "  </tbody>\n",
       "</table>\n",
       "<p>4 rows × 50 columns</p>\n",
       "</div>"
      ],
      "text/plain": [
       "  run_no                       universe_id  \\\n",
       "0     15  dd3e24d79bb0c4e309444f5387e85544   \n",
       "0     15  dd3e24d79bb0c4e309444f5387e85544   \n",
       "0     15  dd3e24d79bb0c4e309444f5387e85544   \n",
       "0     15  dd3e24d79bb0c4e309444f5387e85544   \n",
       "\n",
       "                                   universe_settings  execution_time  \\\n",
       "0  {\"cutoff\": \"quantile_0.1\", \"eval_fairness_grou...       36.101751   \n",
       "0  {\"cutoff\": \"quantile_0.1\", \"eval_fairness_grou...       36.101751   \n",
       "0  {\"cutoff\": \"quantile_0.25\", \"eval_fairness_gro...       36.101751   \n",
       "0  {\"cutoff\": \"quantile_0.25\", \"eval_fairness_gro...       36.101751   \n",
       "\n",
       "   test_size_n  test_size_frac  fair_main_equalized_odds_difference  \\\n",
       "0        89710             1.0                             0.012045   \n",
       "0        89710             1.0                             0.012045   \n",
       "0        89710             1.0                             0.096553   \n",
       "0        89710             1.0                             0.096553   \n",
       "\n",
       "   fair_main_equalized_odds_ratio  fair_main_demographic_parity_difference  \\\n",
       "0                        0.986596                                 0.009093   \n",
       "0                        0.986596                                 0.009093   \n",
       "0                        0.879387                                 0.082787   \n",
       "0                        0.879387                                 0.082787   \n",
       "\n",
       "   fair_main_demographic_parity_ratio  ...  perf_grp_precision_0  \\\n",
       "0                            0.989975  ...                   NaN   \n",
       "0                            0.989975  ...              0.123457   \n",
       "0                            0.898274  ...                   NaN   \n",
       "0                            0.898274  ...              0.129756   \n",
       "\n",
       "   perf_grp_precision_1  perf_grp_false positive rate_0  \\\n",
       "0                   NaN                             NaN   \n",
       "0              0.143087                        0.898635   \n",
       "0                   NaN                             NaN   \n",
       "0              0.164280                        0.800517   \n",
       "\n",
       "   perf_grp_false positive rate_1  perf_grp_false negative rate_0  \\\n",
       "0                             NaN                             NaN   \n",
       "0                        0.886590                        0.028716   \n",
       "0                             NaN                             NaN   \n",
       "0                        0.703965                        0.084037   \n",
       "\n",
       "   perf_grp_false negative rate_1  perf_grp_selection rate_0  \\\n",
       "0                             NaN                        NaN   \n",
       "0                        0.027681                   0.907011   \n",
       "0                             NaN                        NaN   \n",
       "0                        0.091138                   0.813827   \n",
       "\n",
       "   perf_grp_selection rate_1  perf_grp_count_0  perf_grp_count_1  \n",
       "0                        NaN               NaN               NaN  \n",
       "0                   0.897918           20540.0           69170.0  \n",
       "0                        NaN               NaN               NaN  \n",
       "0                   0.731039           20540.0           69170.0  \n",
       "\n",
       "[4 rows x 50 columns]"
      ]
     },
     "execution_count": 66,
     "metadata": {},
     "output_type": "execute_result"
    }
   ],
   "source": [
    "final_output = universe_analysis.generate_final_output(\n",
    "    y_pred_prob=probs_test,\n",
    "    y_test=y_true,\n",
    "    org_test=org_test,\n",
    "    filter_data=filter_sub_universe_data,\n",
    "    cp_metrics_df=cp_metrics_df,\n",
    "    save=True,\n",
    ")\n",
    "final_output"
   ]
  }
 ],
 "metadata": {
  "celltoolbar": "Tags",
  "kernelspec": {
   "display_name": "Python (CMA Fairness)",
   "language": "python",
   "name": "cma_fair_env"
  },
  "language_info": {
   "codemirror_mode": {
    "name": "ipython",
    "version": 3
   },
   "file_extension": ".py",
   "mimetype": "text/x-python",
   "name": "python",
   "nbconvert_exporter": "python",
   "pygments_lexer": "ipython3",
   "version": "3.10.12"
  },
  "papermill": {
   "default_parameters": {},
   "duration": 50.215296,
   "end_time": "2025-08-05T16:44:39.578340",
   "environment_variables": {},
   "exception": null,
   "input_path": "universe_analysis.ipynb",
   "output_path": "output/runs/15/notebooks/m_15-dd3e24d79bb0c4e309444f5387e85544.ipynb",
   "parameters": {
    "output_dir": "output",
    "run_no": "15",
    "seed": "2023",
    "universe": "{\"cutoff\": [\"quantile_0.1\", \"quantile_0.25\"], \"eval_fairness_grouping\": [\"majority-minority\", \"nationality-all\"], \"exclude_features\": \"age\", \"exclude_subgroups\": \"keep-all\", \"model\": \"gbm\", \"scale\": \"do-not-scale\", \"training_size\": \"1k\", \"training_year\": \"2010_14\"}",
    "universe_id": "dd3e24d79bb0c4e309444f5387e85544"
   },
   "start_time": "2025-08-05T16:43:49.363044",
   "version": "2.6.0"
  }
 },
 "nbformat": 4,
 "nbformat_minor": 5
}