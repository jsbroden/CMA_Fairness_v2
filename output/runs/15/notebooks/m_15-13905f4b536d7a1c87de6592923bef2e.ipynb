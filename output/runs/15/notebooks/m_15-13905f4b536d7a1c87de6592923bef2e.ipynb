{
 "cells": [
  {
   "cell_type": "code",
   "execution_count": 1,
   "id": "f159f837-637b-42ba-96b5-ec9a68c44524",
   "metadata": {
    "execution": {
     "iopub.execute_input": "2025-08-05T16:01:57.880137Z",
     "iopub.status.busy": "2025-08-05T16:01:57.879560Z",
     "iopub.status.idle": "2025-08-05T16:01:57.896392Z",
     "shell.execute_reply": "2025-08-05T16:01:57.895213Z"
    },
    "papermill": {
     "duration": 0.04315,
     "end_time": "2025-08-05T16:01:57.899276",
     "exception": false,
     "start_time": "2025-08-05T16:01:57.856126",
     "status": "completed"
    },
    "tags": []
   },
   "outputs": [
    {
     "name": "stdout",
     "output_type": "stream",
     "text": [
      "/dss/dsshome1/0C/ra93lal2/cma/CMA_Fairness_v2\n"
     ]
    },
    {
     "name": "stderr",
     "output_type": "stream",
     "text": [
      "/dss/dsshome1/0C/ra93lal2/.local/share/virtualenvs/CMA_Fairness_v2-3j10GkSs/lib/python3.10/site-packages/IPython/core/magics/osm.py:393: UserWarning: This is now an optional IPython functionality, using bookmarks requires you to install the `pickleshare` library.\n",
      "  bkms = self.shell.db.get('bookmarks', {})\n",
      "/dss/dsshome1/0C/ra93lal2/.local/share/virtualenvs/CMA_Fairness_v2-3j10GkSs/lib/python3.10/site-packages/IPython/core/magics/osm.py:417: UserWarning: This is now an optional IPython functionality, setting dhist requires you to install the `pickleshare` library.\n",
      "  self.shell.db['dhist'] = compress_dhist(dhist)[-100:]\n"
     ]
    }
   ],
   "source": [
    "%cd ~/cma/CMA_Fairness_v2"
   ]
  },
  {
   "cell_type": "markdown",
   "id": "de2603b9",
   "metadata": {
    "papermill": {
     "duration": 0.019265,
     "end_time": "2025-08-05T16:01:57.937981",
     "exception": false,
     "start_time": "2025-08-05T16:01:57.918716",
     "status": "completed"
    },
    "tags": []
   },
   "source": [
    "The following cell holds the definition of our parameters, these values can be overriden by rendering the with e.g. the following command:\n",
    "\n",
    "papermill -p alpha 0.2 -p ratio 0.3 universe_analysis.ipynb output/test_run.ipynb"
   ]
  },
  {
   "cell_type": "code",
   "execution_count": 2,
   "id": "a80968a0-40bb-4fa9-85ef-2d5eefb01975",
   "metadata": {
    "execution": {
     "iopub.execute_input": "2025-08-05T16:01:57.979163Z",
     "iopub.status.busy": "2025-08-05T16:01:57.978300Z",
     "iopub.status.idle": "2025-08-05T16:01:57.984626Z",
     "shell.execute_reply": "2025-08-05T16:01:57.983635Z"
    },
    "papermill": {
     "duration": 0.029277,
     "end_time": "2025-08-05T16:01:57.986526",
     "exception": false,
     "start_time": "2025-08-05T16:01:57.957249",
     "status": "completed"
    },
    "tags": []
   },
   "outputs": [
    {
     "name": "stdout",
     "output_type": "stream",
     "text": [
      "Current working directory: /dss/dsshome1/0C/ra93lal2/cma/CMA_Fairness_v2\n"
     ]
    }
   ],
   "source": [
    "import os\n",
    "print(\"Current working directory:\", os.getcwd())"
   ]
  },
  {
   "cell_type": "code",
   "execution_count": 3,
   "id": "2dce4c03",
   "metadata": {
    "execution": {
     "iopub.execute_input": "2025-08-05T16:01:58.027874Z",
     "iopub.status.busy": "2025-08-05T16:01:58.026525Z",
     "iopub.status.idle": "2025-08-05T16:01:58.034505Z",
     "shell.execute_reply": "2025-08-05T16:01:58.033402Z"
    },
    "papermill": {
     "duration": 0.031342,
     "end_time": "2025-08-05T16:01:58.036179",
     "exception": false,
     "start_time": "2025-08-05T16:01:58.004837",
     "status": "completed"
    },
    "tags": [
     "parameters"
    ]
   },
   "outputs": [],
   "source": [
    "run_no = 0\n",
    "universe_id = \"test\"\n",
    "universe = {\n",
    "    \"training_size\": \"25k\", # \"25k\", \"5k\", \"1k\"\n",
    "    \"training_year\": \"2014\", # \"2014\", \"2012_14\", \"2010_14\"\n",
    "    \"scale\": \"scale\", # \"scale\", \"do-not-scale\",\n",
    "    \"model\": \"elasticnet\", # \"logreg\", \"penalized_logreg\", \"rf\", \"gbm\", \"elasticnet\"\n",
    "    \"cutoff\": [\"quantile_0.15\", \"quantile_0.30\"],\n",
    "    \"exclude_features\": \"age\", # \"none\", \"nationality\", \"sex\", \"nationality-sex\", \"age\"\n",
    "    \"exclude_subgroups\": \"keep-all\", # \"keep-all\", \"drop-non-german\"\n",
    "    \"eval_fairness_grouping\": [\"majority-minority\", \"nationality-all\"]\n",
    "}\n",
    "\n",
    "output_dir=\"./output\"\n",
    "seed=0"
   ]
  },
  {
   "cell_type": "code",
   "execution_count": 4,
   "id": "f00e691f",
   "metadata": {
    "execution": {
     "iopub.execute_input": "2025-08-05T16:01:58.118787Z",
     "iopub.status.busy": "2025-08-05T16:01:58.118293Z",
     "iopub.status.idle": "2025-08-05T16:01:58.123978Z",
     "shell.execute_reply": "2025-08-05T16:01:58.123068Z"
    },
    "papermill": {
     "duration": 0.028436,
     "end_time": "2025-08-05T16:01:58.125798",
     "exception": false,
     "start_time": "2025-08-05T16:01:58.097362",
     "status": "completed"
    },
    "tags": [
     "injected-parameters"
    ]
   },
   "outputs": [],
   "source": [
    "# Parameters\n",
    "universe_id = \"13905f4b536d7a1c87de6592923bef2e\"\n",
    "run_no = \"15\"\n",
    "universe = \"{\\\"cutoff\\\": [\\\"quantile_0.1\\\", \\\"quantile_0.25\\\"], \\\"eval_fairness_grouping\\\": [\\\"majority-minority\\\", \\\"nationality-all\\\"], \\\"exclude_features\\\": \\\"nationality\\\", \\\"exclude_subgroups\\\": \\\"keep-all\\\", \\\"model\\\": \\\"logreg\\\", \\\"scale\\\": \\\"scale\\\", \\\"training_size\\\": \\\"1k\\\", \\\"training_year\\\": \\\"2014\\\"}\"\n",
    "output_dir = \"output\"\n",
    "seed = \"2023\"\n"
   ]
  },
  {
   "cell_type": "code",
   "execution_count": 5,
   "id": "1650acaf",
   "metadata": {
    "execution": {
     "iopub.execute_input": "2025-08-05T16:01:58.163231Z",
     "iopub.status.busy": "2025-08-05T16:01:58.162502Z",
     "iopub.status.idle": "2025-08-05T16:01:58.167722Z",
     "shell.execute_reply": "2025-08-05T16:01:58.166827Z"
    },
    "papermill": {
     "duration": 0.024396,
     "end_time": "2025-08-05T16:01:58.169280",
     "exception": false,
     "start_time": "2025-08-05T16:01:58.144884",
     "status": "completed"
    },
    "tags": []
   },
   "outputs": [],
   "source": [
    "import json\n",
    "if isinstance(universe, str):\n",
    "    universe = json.loads(universe)"
   ]
  },
  {
   "cell_type": "code",
   "execution_count": 6,
   "id": "16620c48",
   "metadata": {
    "execution": {
     "iopub.execute_input": "2025-08-05T16:01:58.211954Z",
     "iopub.status.busy": "2025-08-05T16:01:58.211496Z",
     "iopub.status.idle": "2025-08-05T16:01:58.252120Z",
     "shell.execute_reply": "2025-08-05T16:01:58.251405Z"
    },
    "papermill": {
     "duration": 0.065115,
     "end_time": "2025-08-05T16:01:58.253670",
     "exception": false,
     "start_time": "2025-08-05T16:01:58.188555",
     "status": "completed"
    },
    "tags": []
   },
   "outputs": [],
   "source": [
    "# Auto-reload the custom package\n",
    "%load_ext autoreload\n",
    "%autoreload 1\n",
    "%aimport fairness_multiverse"
   ]
  },
  {
   "cell_type": "code",
   "execution_count": 7,
   "id": "01c5c9f3",
   "metadata": {
    "execution": {
     "iopub.execute_input": "2025-08-05T16:01:58.279239Z",
     "iopub.status.busy": "2025-08-05T16:01:58.278631Z",
     "iopub.status.idle": "2025-08-05T16:02:00.489579Z",
     "shell.execute_reply": "2025-08-05T16:02:00.488552Z"
    },
    "papermill": {
     "duration": 2.228049,
     "end_time": "2025-08-05T16:02:00.491467",
     "exception": false,
     "start_time": "2025-08-05T16:01:58.263418",
     "status": "completed"
    },
    "tags": []
   },
   "outputs": [],
   "source": [
    "from fairness_multiverse.universe import UniverseAnalysis\n",
    "\n",
    "universe_analysis = UniverseAnalysis(\n",
    "    run_no = run_no,\n",
    "    universe_id = universe_id,\n",
    "    universe = universe,\n",
    "    output_dir=output_dir,\n",
    ")"
   ]
  },
  {
   "cell_type": "code",
   "execution_count": 8,
   "id": "106241f5",
   "metadata": {
    "execution": {
     "iopub.execute_input": "2025-08-05T16:02:00.530616Z",
     "iopub.status.busy": "2025-08-05T16:02:00.530084Z",
     "iopub.status.idle": "2025-08-05T16:02:00.537177Z",
     "shell.execute_reply": "2025-08-05T16:02:00.536106Z"
    },
    "papermill": {
     "duration": 0.027954,
     "end_time": "2025-08-05T16:02:00.539144",
     "exception": false,
     "start_time": "2025-08-05T16:02:00.511190",
     "status": "completed"
    },
    "tags": []
   },
   "outputs": [
    {
     "name": "stdout",
     "output_type": "stream",
     "text": [
      "Using Seed: 2023\n"
     ]
    }
   ],
   "source": [
    "import numpy as np\n",
    "parsed_seed = int(seed)\n",
    "np.random.seed(parsed_seed)\n",
    "print(f\"Using Seed: {parsed_seed}\")"
   ]
  },
  {
   "cell_type": "markdown",
   "id": "e0ebdc57",
   "metadata": {
    "papermill": {
     "duration": 0.015082,
     "end_time": "2025-08-05T16:02:00.574256",
     "exception": false,
     "start_time": "2025-08-05T16:02:00.559174",
     "status": "completed"
    },
    "tags": []
   },
   "source": [
    "# Loading Data"
   ]
  },
  {
   "cell_type": "code",
   "execution_count": 9,
   "id": "f0496b8a",
   "metadata": {
    "execution": {
     "iopub.execute_input": "2025-08-05T16:02:00.596708Z",
     "iopub.status.busy": "2025-08-05T16:02:00.596091Z",
     "iopub.status.idle": "2025-08-05T16:02:10.016769Z",
     "shell.execute_reply": "2025-08-05T16:02:10.015656Z"
    },
    "papermill": {
     "duration": 9.434913,
     "end_time": "2025-08-05T16:02:10.018421",
     "exception": false,
     "start_time": "2025-08-05T16:02:00.583508",
     "status": "completed"
    },
    "tags": []
   },
   "outputs": [
    {
     "name": "stdout",
     "output_type": "stream",
     "text": [
      "Loading SIAB data from cache: data/siab_cached.csv.gz\n"
     ]
    },
    {
     "name": "stdout",
     "output_type": "stream",
     "text": [
      "(643690, 164)\n"
     ]
    }
   ],
   "source": [
    "from pathlib import Path\n",
    "import pandas as pd\n",
    "\n",
    "# File paths\n",
    "raw_file = Path(\"data/raw/siab.csv\")\n",
    "cache_file = Path(\"data/siab_cached.csv.gz\")\n",
    "\n",
    "# Ensure cache directory exists\n",
    "cache_file.parent.mkdir(parents=True, exist_ok=True)\n",
    "\n",
    "# Load with simple caching\n",
    "if cache_file.exists():\n",
    "    print(f\"Loading SIAB data from cache: {cache_file}\")\n",
    "    siab = pd.read_csv(cache_file, compression='gzip')\n",
    "else:\n",
    "    print(f\"Cache not found. Reading raw SIAB data: {raw_file}\")\n",
    "    siab = pd.read_csv(raw_file)\n",
    "    siab.to_csv(cache_file, index=False, compression='gzip')\n",
    "    print(f\"Cached SIAB data to: {cache_file}\")\n",
    "\n",
    "print(siab.shape)"
   ]
  },
  {
   "cell_type": "code",
   "execution_count": 10,
   "id": "db0ca512-5f53-4dba-abdb-a2888bca41ba",
   "metadata": {
    "execution": {
     "iopub.execute_input": "2025-08-05T16:02:10.056876Z",
     "iopub.status.busy": "2025-08-05T16:02:10.056165Z",
     "iopub.status.idle": "2025-08-05T16:02:10.062103Z",
     "shell.execute_reply": "2025-08-05T16:02:10.061000Z"
    },
    "papermill": {
     "duration": 0.026213,
     "end_time": "2025-08-05T16:02:10.064190",
     "exception": false,
     "start_time": "2025-08-05T16:02:10.037977",
     "status": "completed"
    },
    "tags": []
   },
   "outputs": [],
   "source": [
    "#siab"
   ]
  },
  {
   "cell_type": "markdown",
   "id": "997051c5-15bd-4b69-9786-c3001a3ce484",
   "metadata": {
    "papermill": {
     "duration": 0.016255,
     "end_time": "2025-08-05T16:02:10.100560",
     "exception": false,
     "start_time": "2025-08-05T16:02:10.084305",
     "status": "completed"
    },
    "tags": []
   },
   "source": [
    "# Splitting Data and Setting Training Data Size"
   ]
  },
  {
   "cell_type": "code",
   "execution_count": 11,
   "id": "aea9c6ef-6f46-42c8-85eb-5a62025c1508",
   "metadata": {
    "execution": {
     "iopub.execute_input": "2025-08-05T16:02:10.135333Z",
     "iopub.status.busy": "2025-08-05T16:02:10.134649Z",
     "iopub.status.idle": "2025-08-05T16:02:10.313026Z",
     "shell.execute_reply": "2025-08-05T16:02:10.312160Z"
    },
    "papermill": {
     "duration": 0.197693,
     "end_time": "2025-08-05T16:02:10.314935",
     "exception": false,
     "start_time": "2025-08-05T16:02:10.117242",
     "status": "completed"
    },
    "tags": []
   },
   "outputs": [],
   "source": [
    "from fairness_multiverse.universe import sample_by_year_size\n",
    "\n",
    "siab_train = sample_by_year_size(siab,\n",
    "                               training_year=universe[\"training_year\"],\n",
    "                               training_size=universe[\"training_size\"])"
   ]
  },
  {
   "cell_type": "code",
   "execution_count": 12,
   "id": "8d3afb32-789d-442c-8d5d-9f5aa8dd2eed",
   "metadata": {
    "execution": {
     "iopub.execute_input": "2025-08-05T16:02:10.352876Z",
     "iopub.status.busy": "2025-08-05T16:02:10.352166Z",
     "iopub.status.idle": "2025-08-05T16:02:10.357605Z",
     "shell.execute_reply": "2025-08-05T16:02:10.356587Z"
    },
    "papermill": {
     "duration": 0.027023,
     "end_time": "2025-08-05T16:02:10.359439",
     "exception": false,
     "start_time": "2025-08-05T16:02:10.332416",
     "status": "completed"
    },
    "tags": []
   },
   "outputs": [],
   "source": [
    "#siab_train.shape"
   ]
  },
  {
   "cell_type": "code",
   "execution_count": 13,
   "id": "d582db68-1a4c-47fb-84fc-08518dc1975a",
   "metadata": {
    "execution": {
     "iopub.execute_input": "2025-08-05T16:02:10.398150Z",
     "iopub.status.busy": "2025-08-05T16:02:10.397070Z",
     "iopub.status.idle": "2025-08-05T16:02:10.402365Z",
     "shell.execute_reply": "2025-08-05T16:02:10.401366Z"
    },
    "papermill": {
     "duration": 0.027513,
     "end_time": "2025-08-05T16:02:10.404296",
     "exception": false,
     "start_time": "2025-08-05T16:02:10.376783",
     "status": "completed"
    },
    "tags": []
   },
   "outputs": [],
   "source": [
    "#display(siab_train.groupby(\"year\").size())"
   ]
  },
  {
   "cell_type": "code",
   "execution_count": 14,
   "id": "a561edb4-d032-42cb-8256-22eac1111c64",
   "metadata": {
    "execution": {
     "iopub.execute_input": "2025-08-05T16:02:10.439878Z",
     "iopub.status.busy": "2025-08-05T16:02:10.439118Z",
     "iopub.status.idle": "2025-08-05T16:02:10.643740Z",
     "shell.execute_reply": "2025-08-05T16:02:10.642783Z"
    },
    "papermill": {
     "duration": 0.223754,
     "end_time": "2025-08-05T16:02:10.645496",
     "exception": false,
     "start_time": "2025-08-05T16:02:10.421742",
     "status": "completed"
    },
    "tags": []
   },
   "outputs": [],
   "source": [
    "#siab_train = siab_s[siab_s.year < 2015]\n",
    "siab_calib = siab[siab.year == 2015]\n",
    "siab_test = siab[siab.year == 2016]"
   ]
  },
  {
   "cell_type": "code",
   "execution_count": 15,
   "id": "472de16f-c3db-4916-846b-1f0de9cf1746",
   "metadata": {
    "execution": {
     "iopub.execute_input": "2025-08-05T16:02:10.680809Z",
     "iopub.status.busy": "2025-08-05T16:02:10.680267Z",
     "iopub.status.idle": "2025-08-05T16:02:10.687457Z",
     "shell.execute_reply": "2025-08-05T16:02:10.686456Z"
    },
    "papermill": {
     "duration": 0.027151,
     "end_time": "2025-08-05T16:02:10.689492",
     "exception": false,
     "start_time": "2025-08-05T16:02:10.662341",
     "status": "completed"
    },
    "tags": []
   },
   "outputs": [],
   "source": [
    "X_train = siab_train.iloc[:,4:164]\n",
    "y_train = siab_train.iloc[:, [3]]"
   ]
  },
  {
   "cell_type": "code",
   "execution_count": 16,
   "id": "828c96af-f43a-4ed6-ba47-8ac73a47d56c",
   "metadata": {
    "execution": {
     "iopub.execute_input": "2025-08-05T16:02:10.725920Z",
     "iopub.status.busy": "2025-08-05T16:02:10.725055Z",
     "iopub.status.idle": "2025-08-05T16:02:10.776723Z",
     "shell.execute_reply": "2025-08-05T16:02:10.775651Z"
    },
    "papermill": {
     "duration": 0.071967,
     "end_time": "2025-08-05T16:02:10.779330",
     "exception": false,
     "start_time": "2025-08-05T16:02:10.707363",
     "status": "completed"
    },
    "tags": []
   },
   "outputs": [],
   "source": [
    "X_calib = siab_calib.iloc[:,4:164]\n",
    "y_calib = siab_calib.iloc[:, [3]]"
   ]
  },
  {
   "cell_type": "code",
   "execution_count": 17,
   "id": "c34be9c3-6bd6-476e-acd3-845840e303be",
   "metadata": {
    "execution": {
     "iopub.execute_input": "2025-08-05T16:02:10.817144Z",
     "iopub.status.busy": "2025-08-05T16:02:10.816573Z",
     "iopub.status.idle": "2025-08-05T16:02:10.873018Z",
     "shell.execute_reply": "2025-08-05T16:02:10.871763Z"
    },
    "papermill": {
     "duration": 0.076606,
     "end_time": "2025-08-05T16:02:10.875115",
     "exception": false,
     "start_time": "2025-08-05T16:02:10.798509",
     "status": "completed"
    },
    "tags": []
   },
   "outputs": [],
   "source": [
    "X_test = siab_test.iloc[:,4:164]\n",
    "y_true = siab_test.iloc[:, [3]]"
   ]
  },
  {
   "cell_type": "code",
   "execution_count": 18,
   "id": "e6c733c5",
   "metadata": {
    "execution": {
     "iopub.execute_input": "2025-08-05T16:02:10.911998Z",
     "iopub.status.busy": "2025-08-05T16:02:10.910987Z",
     "iopub.status.idle": "2025-08-05T16:02:11.016462Z",
     "shell.execute_reply": "2025-08-05T16:02:11.015421Z"
    },
    "papermill": {
     "duration": 0.125496,
     "end_time": "2025-08-05T16:02:11.018376",
     "exception": false,
     "start_time": "2025-08-05T16:02:10.892880",
     "status": "completed"
    },
    "tags": []
   },
   "outputs": [],
   "source": [
    "# Auxiliary data needed downstream in the pipeline\n",
    "\n",
    "org_train = X_train.copy()\n",
    "org_test = X_test.copy()\n",
    "org_calib = X_calib.copy()"
   ]
  },
  {
   "cell_type": "markdown",
   "id": "0a4a1b33",
   "metadata": {
    "papermill": {
     "duration": 0.017553,
     "end_time": "2025-08-05T16:02:11.053019",
     "exception": false,
     "start_time": "2025-08-05T16:02:11.035466",
     "status": "completed"
    },
    "tags": []
   },
   "source": [
    "# Preprocessing Data"
   ]
  },
  {
   "cell_type": "code",
   "execution_count": 19,
   "id": "ca879031",
   "metadata": {
    "execution": {
     "iopub.execute_input": "2025-08-05T16:02:11.088171Z",
     "iopub.status.busy": "2025-08-05T16:02:11.087498Z",
     "iopub.status.idle": "2025-08-05T16:02:11.093677Z",
     "shell.execute_reply": "2025-08-05T16:02:11.092590Z"
    },
    "papermill": {
     "duration": 0.025958,
     "end_time": "2025-08-05T16:02:11.095670",
     "exception": false,
     "start_time": "2025-08-05T16:02:11.069712",
     "status": "completed"
    },
    "tags": []
   },
   "outputs": [],
   "source": [
    "# EXCLUDE PROTECTED FEATURES\n",
    "# ----------------------\n",
    "# \"exclude_features\": \"none\", # \"nationality\", \"sex\", \"nationality-sex\"\n",
    "\n",
    "excluded_features = universe[\"exclude_features\"].split(\"-\") # split, e.g.: \"nationality-sex\" -> [\"nationality\", \"sex\"]\n",
    "excluded_features_dictionary = {\n",
    "    \"nationality\": [\"maxdeutsch1\", \"maxdeutsch.Missing.\"],\n",
    "    \"sex\": [\"frau1\"],\n",
    "    \"age\": [\"age\"],\n",
    "}"
   ]
  },
  {
   "cell_type": "code",
   "execution_count": 20,
   "id": "b745ac60",
   "metadata": {
    "execution": {
     "iopub.execute_input": "2025-08-05T16:02:11.132779Z",
     "iopub.status.busy": "2025-08-05T16:02:11.132067Z",
     "iopub.status.idle": "2025-08-05T16:02:11.137594Z",
     "shell.execute_reply": "2025-08-05T16:02:11.136597Z"
    },
    "papermill": {
     "duration": 0.024712,
     "end_time": "2025-08-05T16:02:11.139083",
     "exception": false,
     "start_time": "2025-08-05T16:02:11.114371",
     "status": "completed"
    },
    "tags": []
   },
   "outputs": [],
   "source": [
    "# Code nice names to column names\n",
    "\n",
    "excluded_features_columns = [\n",
    "    excluded_features_dictionary[f] for f in excluded_features if len(f) > 0 and f != \"none\"\n",
    "]"
   ]
  },
  {
   "cell_type": "code",
   "execution_count": 21,
   "id": "f84f73a2",
   "metadata": {
    "execution": {
     "iopub.execute_input": "2025-08-05T16:02:11.178490Z",
     "iopub.status.busy": "2025-08-05T16:02:11.177611Z",
     "iopub.status.idle": "2025-08-05T16:02:11.184367Z",
     "shell.execute_reply": "2025-08-05T16:02:11.183463Z"
    },
    "papermill": {
     "duration": 0.028405,
     "end_time": "2025-08-05T16:02:11.186133",
     "exception": false,
     "start_time": "2025-08-05T16:02:11.157728",
     "status": "completed"
    },
    "tags": []
   },
   "outputs": [],
   "source": [
    "from utils import flatten_once\n",
    "\n",
    "excluded_features_columns = flatten_once(excluded_features_columns)"
   ]
  },
  {
   "cell_type": "code",
   "execution_count": 22,
   "id": "884dea22",
   "metadata": {
    "execution": {
     "iopub.execute_input": "2025-08-05T16:02:11.225133Z",
     "iopub.status.busy": "2025-08-05T16:02:11.224489Z",
     "iopub.status.idle": "2025-08-05T16:02:11.257325Z",
     "shell.execute_reply": "2025-08-05T16:02:11.256358Z"
    },
    "papermill": {
     "duration": 0.053549,
     "end_time": "2025-08-05T16:02:11.259018",
     "exception": false,
     "start_time": "2025-08-05T16:02:11.205469",
     "status": "completed"
    },
    "tags": []
   },
   "outputs": [
    {
     "name": "stdout",
     "output_type": "stream",
     "text": [
      "Dropping features: ['maxdeutsch1', 'maxdeutsch.Missing.']\n"
     ]
    }
   ],
   "source": [
    "if len(excluded_features_columns) > 0:\n",
    "    print(f\"Dropping features: {excluded_features_columns}\")\n",
    "    X_train.drop(excluded_features_columns, axis=1, inplace=True)"
   ]
  },
  {
   "cell_type": "code",
   "execution_count": 23,
   "id": "95ab8b16",
   "metadata": {
    "execution": {
     "iopub.execute_input": "2025-08-05T16:02:11.297876Z",
     "iopub.status.busy": "2025-08-05T16:02:11.297006Z",
     "iopub.status.idle": "2025-08-05T16:02:11.355188Z",
     "shell.execute_reply": "2025-08-05T16:02:11.354440Z"
    },
    "papermill": {
     "duration": 0.080311,
     "end_time": "2025-08-05T16:02:11.356675",
     "exception": false,
     "start_time": "2025-08-05T16:02:11.276364",
     "status": "completed"
    },
    "tags": []
   },
   "outputs": [
    {
     "name": "stdout",
     "output_type": "stream",
     "text": [
      "Dropping features: ['maxdeutsch1', 'maxdeutsch.Missing.']\n"
     ]
    }
   ],
   "source": [
    "if len(excluded_features_columns) > 0:\n",
    "    print(f\"Dropping features: {excluded_features_columns}\")\n",
    "    X_test.drop(excluded_features_columns, axis=1, inplace=True)"
   ]
  },
  {
   "cell_type": "code",
   "execution_count": 24,
   "id": "1853aaf5-fb9f-46cb-a2b5-8ea4ae2237e4",
   "metadata": {
    "execution": {
     "iopub.execute_input": "2025-08-05T16:02:11.393504Z",
     "iopub.status.busy": "2025-08-05T16:02:11.393073Z",
     "iopub.status.idle": "2025-08-05T16:02:11.446543Z",
     "shell.execute_reply": "2025-08-05T16:02:11.445446Z"
    },
    "papermill": {
     "duration": 0.07775,
     "end_time": "2025-08-05T16:02:11.448727",
     "exception": false,
     "start_time": "2025-08-05T16:02:11.370977",
     "status": "completed"
    },
    "tags": []
   },
   "outputs": [
    {
     "name": "stdout",
     "output_type": "stream",
     "text": [
      "Dropping features: ['maxdeutsch1', 'maxdeutsch.Missing.']\n"
     ]
    }
   ],
   "source": [
    "if len(excluded_features_columns) > 0:\n",
    "    print(f\"Dropping features: {excluded_features_columns}\")\n",
    "    X_calib.drop(excluded_features_columns, axis=1, inplace=True)"
   ]
  },
  {
   "cell_type": "code",
   "execution_count": 25,
   "id": "76c4dc6d",
   "metadata": {
    "execution": {
     "iopub.execute_input": "2025-08-05T16:02:11.487985Z",
     "iopub.status.busy": "2025-08-05T16:02:11.487305Z",
     "iopub.status.idle": "2025-08-05T16:02:11.493003Z",
     "shell.execute_reply": "2025-08-05T16:02:11.492097Z"
    },
    "papermill": {
     "duration": 0.026902,
     "end_time": "2025-08-05T16:02:11.494760",
     "exception": false,
     "start_time": "2025-08-05T16:02:11.467858",
     "status": "completed"
    },
    "tags": []
   },
   "outputs": [],
   "source": [
    "# EXCLUDE CERTAIN SUBGROUPS\n",
    "# ----------------------\n",
    "\n",
    "mode = universe.get(\"exclude_subgroups\", \"keep-all\") \n",
    "# Fetches the exclude_subgroups setting from the universe dict.\n",
    "# Defaults to \"keep-all\" if the key is missing."
   ]
  },
  {
   "cell_type": "code",
   "execution_count": 26,
   "id": "21994072",
   "metadata": {
    "execution": {
     "iopub.execute_input": "2025-08-05T16:02:11.540888Z",
     "iopub.status.busy": "2025-08-05T16:02:11.539835Z",
     "iopub.status.idle": "2025-08-05T16:02:11.547279Z",
     "shell.execute_reply": "2025-08-05T16:02:11.546206Z"
    },
    "papermill": {
     "duration": 0.032211,
     "end_time": "2025-08-05T16:02:11.549414",
     "exception": false,
     "start_time": "2025-08-05T16:02:11.517203",
     "status": "completed"
    },
    "tags": []
   },
   "outputs": [],
   "source": [
    "if mode == \"keep-all\":\n",
    "    keep_mask = pd.Series(True, index=org_train.index)\n",
    "\n",
    "# org_train contains the original feature columns from features_org (in Simson)\n",
    "# features_org contains unprocessed features, for me X_train at beginning ???\n",
    "# For keep-all, creates a boolean Series (keep_mask) of all True, so no rows are removed.\n",
    "\n",
    "elif mode == \"drop-non-german\":\n",
    "    keep_mask = org_train[\"maxdeutsch1\"] == 1 # ??? what about missing values?\n",
    "\n",
    "else:\n",
    "    raise ValueError(f\"Unsupported mode for exclude_subgroups: {mode}\")"
   ]
  },
  {
   "cell_type": "code",
   "execution_count": 27,
   "id": "71651440",
   "metadata": {
    "execution": {
     "iopub.execute_input": "2025-08-05T16:02:11.588436Z",
     "iopub.status.busy": "2025-08-05T16:02:11.587993Z",
     "iopub.status.idle": "2025-08-05T16:02:11.596339Z",
     "shell.execute_reply": "2025-08-05T16:02:11.595426Z"
    },
    "papermill": {
     "duration": 0.026356,
     "end_time": "2025-08-05T16:02:11.597731",
     "exception": false,
     "start_time": "2025-08-05T16:02:11.571375",
     "status": "completed"
    },
    "tags": []
   },
   "outputs": [],
   "source": [
    "n_drop = (~keep_mask).sum() # Calculates how many rows are set to be dropped\n",
    "if n_drop > 0:\n",
    "    pct = n_drop / len(keep_mask) * 100\n",
    "    print(f\"Dropping {n_drop} rows ({pct:.2f}%) where mode='{mode}'\")"
   ]
  },
  {
   "cell_type": "code",
   "execution_count": 28,
   "id": "5fb8eee5",
   "metadata": {
    "execution": {
     "iopub.execute_input": "2025-08-05T16:02:11.619795Z",
     "iopub.status.busy": "2025-08-05T16:02:11.619089Z",
     "iopub.status.idle": "2025-08-05T16:02:11.624423Z",
     "shell.execute_reply": "2025-08-05T16:02:11.623726Z"
    },
    "papermill": {
     "duration": 0.017721,
     "end_time": "2025-08-05T16:02:11.626029",
     "exception": false,
     "start_time": "2025-08-05T16:02:11.608308",
     "status": "completed"
    },
    "tags": []
   },
   "outputs": [],
   "source": [
    "X_train = X_train[keep_mask]"
   ]
  },
  {
   "cell_type": "code",
   "execution_count": 29,
   "id": "b202bb3a",
   "metadata": {
    "execution": {
     "iopub.execute_input": "2025-08-05T16:02:11.648032Z",
     "iopub.status.busy": "2025-08-05T16:02:11.647287Z",
     "iopub.status.idle": "2025-08-05T16:02:11.652360Z",
     "shell.execute_reply": "2025-08-05T16:02:11.651659Z"
    },
    "papermill": {
     "duration": 0.017408,
     "end_time": "2025-08-05T16:02:11.653969",
     "exception": false,
     "start_time": "2025-08-05T16:02:11.636561",
     "status": "completed"
    },
    "tags": []
   },
   "outputs": [],
   "source": [
    "y_train = y_train[keep_mask]"
   ]
  },
  {
   "cell_type": "markdown",
   "id": "493e2ac3",
   "metadata": {
    "papermill": {
     "duration": 0.010003,
     "end_time": "2025-08-05T16:02:11.674716",
     "exception": false,
     "start_time": "2025-08-05T16:02:11.664713",
     "status": "completed"
    },
    "tags": []
   },
   "source": [
    "# Model Training"
   ]
  },
  {
   "cell_type": "code",
   "execution_count": 30,
   "id": "679e1268",
   "metadata": {
    "execution": {
     "iopub.execute_input": "2025-08-05T16:02:11.696640Z",
     "iopub.status.busy": "2025-08-05T16:02:11.696111Z",
     "iopub.status.idle": "2025-08-05T16:02:11.896781Z",
     "shell.execute_reply": "2025-08-05T16:02:11.896014Z"
    },
    "papermill": {
     "duration": 0.213326,
     "end_time": "2025-08-05T16:02:11.898288",
     "exception": false,
     "start_time": "2025-08-05T16:02:11.684962",
     "status": "completed"
    },
    "tags": []
   },
   "outputs": [],
   "source": [
    "from sklearn.linear_model import LogisticRegression\n",
    "from sklearn.ensemble import GradientBoostingClassifier, RandomForestClassifier\n",
    "\n",
    "if (universe[\"model\"] == \"logreg\"):\n",
    "    model = LogisticRegression() #penalty=\"none\", solver=\"newton-cg\", max_iter=1) # include random_state=19 ?\n",
    "elif (universe[\"model\"] == \"penalized_logreg\"):\n",
    "    model = LogisticRegression(penalty=\"l2\", C=0.1) #, solver=\"newton-cg\", max_iter=1)\n",
    "elif (universe[\"model\"] == \"rf\"):\n",
    "    model = RandomForestClassifier() # n_estimators=100, n_jobs=-1\n",
    "elif (universe[\"model\"] == \"gbm\"):\n",
    "    model = GradientBoostingClassifier()\n",
    "elif (universe[\"model\"] == \"elasticnet\"):\n",
    "    model = LogisticRegression(penalty = 'elasticnet', solver = 'saga', l1_ratio = 0.5) # max_iter=5000\n",
    "else:\n",
    "    raise \"Unsupported universe.model\""
   ]
  },
  {
   "cell_type": "code",
   "execution_count": 31,
   "id": "0cc8f744",
   "metadata": {
    "execution": {
     "iopub.execute_input": "2025-08-05T16:02:11.920090Z",
     "iopub.status.busy": "2025-08-05T16:02:11.919602Z",
     "iopub.status.idle": "2025-08-05T16:02:11.924668Z",
     "shell.execute_reply": "2025-08-05T16:02:11.923901Z"
    },
    "papermill": {
     "duration": 0.017282,
     "end_time": "2025-08-05T16:02:11.926075",
     "exception": false,
     "start_time": "2025-08-05T16:02:11.908793",
     "status": "completed"
    },
    "tags": []
   },
   "outputs": [],
   "source": [
    "import numpy as np\n",
    "from sklearn.pipeline import Pipeline\n",
    "from sklearn.preprocessing import StandardScaler\n",
    "\n",
    "model = Pipeline([\n",
    "    #(\"continuous_processor\", continuous_processor),\n",
    "    #(\"categorical_preprocessor\", categorical_preprocessor),\n",
    "    (\"scale\", StandardScaler() if universe[\"scale\"] == \"scale\" else None), \n",
    "    (\"model\", model),\n",
    "])"
   ]
  },
  {
   "cell_type": "code",
   "execution_count": 32,
   "id": "9442c04d",
   "metadata": {
    "execution": {
     "iopub.execute_input": "2025-08-05T16:02:11.948252Z",
     "iopub.status.busy": "2025-08-05T16:02:11.947491Z",
     "iopub.status.idle": "2025-08-05T16:02:11.997531Z",
     "shell.execute_reply": "2025-08-05T16:02:11.996674Z"
    },
    "papermill": {
     "duration": 0.062577,
     "end_time": "2025-08-05T16:02:11.999534",
     "exception": false,
     "start_time": "2025-08-05T16:02:11.936957",
     "status": "completed"
    },
    "tags": []
   },
   "outputs": [
    {
     "name": "stderr",
     "output_type": "stream",
     "text": [
      "/dss/dsshome1/0C/ra93lal2/.local/share/virtualenvs/CMA_Fairness_v2-3j10GkSs/lib/python3.10/site-packages/sklearn/linear_model/_logistic.py:444: ConvergenceWarning: lbfgs failed to converge (status=1):\n",
      "STOP: TOTAL NO. of ITERATIONS REACHED LIMIT.\n",
      "\n",
      "Increase the number of iterations (max_iter) or scale the data as shown in:\n",
      "    https://scikit-learn.org/stable/modules/preprocessing.html\n",
      "Please also refer to the documentation for alternative solver options:\n",
      "    https://scikit-learn.org/stable/modules/linear_model.html#logistic-regression\n",
      "  n_iter_i = _check_optimize_result(\n"
     ]
    },
    {
     "data": {
      "text/html": [
       "<style>#sk-container-id-1 {color: black;background-color: white;}#sk-container-id-1 pre{padding: 0;}#sk-container-id-1 div.sk-toggleable {background-color: white;}#sk-container-id-1 label.sk-toggleable__label {cursor: pointer;display: block;width: 100%;margin-bottom: 0;padding: 0.3em;box-sizing: border-box;text-align: center;}#sk-container-id-1 label.sk-toggleable__label-arrow:before {content: \"▸\";float: left;margin-right: 0.25em;color: #696969;}#sk-container-id-1 label.sk-toggleable__label-arrow:hover:before {color: black;}#sk-container-id-1 div.sk-estimator:hover label.sk-toggleable__label-arrow:before {color: black;}#sk-container-id-1 div.sk-toggleable__content {max-height: 0;max-width: 0;overflow: hidden;text-align: left;background-color: #f0f8ff;}#sk-container-id-1 div.sk-toggleable__content pre {margin: 0.2em;color: black;border-radius: 0.25em;background-color: #f0f8ff;}#sk-container-id-1 input.sk-toggleable__control:checked~div.sk-toggleable__content {max-height: 200px;max-width: 100%;overflow: auto;}#sk-container-id-1 input.sk-toggleable__control:checked~label.sk-toggleable__label-arrow:before {content: \"▾\";}#sk-container-id-1 div.sk-estimator input.sk-toggleable__control:checked~label.sk-toggleable__label {background-color: #d4ebff;}#sk-container-id-1 div.sk-label input.sk-toggleable__control:checked~label.sk-toggleable__label {background-color: #d4ebff;}#sk-container-id-1 input.sk-hidden--visually {border: 0;clip: rect(1px 1px 1px 1px);clip: rect(1px, 1px, 1px, 1px);height: 1px;margin: -1px;overflow: hidden;padding: 0;position: absolute;width: 1px;}#sk-container-id-1 div.sk-estimator {font-family: monospace;background-color: #f0f8ff;border: 1px dotted black;border-radius: 0.25em;box-sizing: border-box;margin-bottom: 0.5em;}#sk-container-id-1 div.sk-estimator:hover {background-color: #d4ebff;}#sk-container-id-1 div.sk-parallel-item::after {content: \"\";width: 100%;border-bottom: 1px solid gray;flex-grow: 1;}#sk-container-id-1 div.sk-label:hover label.sk-toggleable__label {background-color: #d4ebff;}#sk-container-id-1 div.sk-serial::before {content: \"\";position: absolute;border-left: 1px solid gray;box-sizing: border-box;top: 0;bottom: 0;left: 50%;z-index: 0;}#sk-container-id-1 div.sk-serial {display: flex;flex-direction: column;align-items: center;background-color: white;padding-right: 0.2em;padding-left: 0.2em;position: relative;}#sk-container-id-1 div.sk-item {position: relative;z-index: 1;}#sk-container-id-1 div.sk-parallel {display: flex;align-items: stretch;justify-content: center;background-color: white;position: relative;}#sk-container-id-1 div.sk-item::before, #sk-container-id-1 div.sk-parallel-item::before {content: \"\";position: absolute;border-left: 1px solid gray;box-sizing: border-box;top: 0;bottom: 0;left: 50%;z-index: -1;}#sk-container-id-1 div.sk-parallel-item {display: flex;flex-direction: column;z-index: 1;position: relative;background-color: white;}#sk-container-id-1 div.sk-parallel-item:first-child::after {align-self: flex-end;width: 50%;}#sk-container-id-1 div.sk-parallel-item:last-child::after {align-self: flex-start;width: 50%;}#sk-container-id-1 div.sk-parallel-item:only-child::after {width: 0;}#sk-container-id-1 div.sk-dashed-wrapped {border: 1px dashed gray;margin: 0 0.4em 0.5em 0.4em;box-sizing: border-box;padding-bottom: 0.4em;background-color: white;}#sk-container-id-1 div.sk-label label {font-family: monospace;font-weight: bold;display: inline-block;line-height: 1.2em;}#sk-container-id-1 div.sk-label-container {text-align: center;}#sk-container-id-1 div.sk-container {/* jupyter's `normalize.less` sets `[hidden] { display: none; }` but bootstrap.min.css set `[hidden] { display: none !important; }` so we also need the `!important` here to be able to override the default hidden behavior on the sphinx rendered scikit-learn.org. See: https://github.com/scikit-learn/scikit-learn/issues/21755 */display: inline-block !important;position: relative;}#sk-container-id-1 div.sk-text-repr-fallback {display: none;}</style><div id=\"sk-container-id-1\" class=\"sk-top-container\"><div class=\"sk-text-repr-fallback\"><pre>Pipeline(steps=[(&#x27;scale&#x27;, StandardScaler()), (&#x27;model&#x27;, LogisticRegression())])</pre><b>In a Jupyter environment, please rerun this cell to show the HTML representation or trust the notebook. <br />On GitHub, the HTML representation is unable to render, please try loading this page with nbviewer.org.</b></div><div class=\"sk-container\" hidden><div class=\"sk-item sk-dashed-wrapped\"><div class=\"sk-label-container\"><div class=\"sk-label sk-toggleable\"><input class=\"sk-toggleable__control sk-hidden--visually\" id=\"sk-estimator-id-1\" type=\"checkbox\" ><label for=\"sk-estimator-id-1\" class=\"sk-toggleable__label sk-toggleable__label-arrow\">Pipeline</label><div class=\"sk-toggleable__content\"><pre>Pipeline(steps=[(&#x27;scale&#x27;, StandardScaler()), (&#x27;model&#x27;, LogisticRegression())])</pre></div></div></div><div class=\"sk-serial\"><div class=\"sk-item\"><div class=\"sk-estimator sk-toggleable\"><input class=\"sk-toggleable__control sk-hidden--visually\" id=\"sk-estimator-id-2\" type=\"checkbox\" ><label for=\"sk-estimator-id-2\" class=\"sk-toggleable__label sk-toggleable__label-arrow\">StandardScaler</label><div class=\"sk-toggleable__content\"><pre>StandardScaler()</pre></div></div></div><div class=\"sk-item\"><div class=\"sk-estimator sk-toggleable\"><input class=\"sk-toggleable__control sk-hidden--visually\" id=\"sk-estimator-id-3\" type=\"checkbox\" ><label for=\"sk-estimator-id-3\" class=\"sk-toggleable__label sk-toggleable__label-arrow\">LogisticRegression</label><div class=\"sk-toggleable__content\"><pre>LogisticRegression()</pre></div></div></div></div></div></div></div>"
      ],
      "text/plain": [
       "Pipeline(steps=[('scale', StandardScaler()), ('model', LogisticRegression())])"
      ]
     },
     "execution_count": 32,
     "metadata": {},
     "output_type": "execute_result"
    }
   ],
   "source": [
    "model.fit(X_train, y_train.values.ravel())"
   ]
  },
  {
   "cell_type": "code",
   "execution_count": 33,
   "id": "af59f8c0",
   "metadata": {
    "execution": {
     "iopub.execute_input": "2025-08-05T16:02:12.022303Z",
     "iopub.status.busy": "2025-08-05T16:02:12.021612Z",
     "iopub.status.idle": "2025-08-05T16:02:12.026182Z",
     "shell.execute_reply": "2025-08-05T16:02:12.025477Z"
    },
    "papermill": {
     "duration": 0.016898,
     "end_time": "2025-08-05T16:02:12.027639",
     "exception": false,
     "start_time": "2025-08-05T16:02:12.010741",
     "status": "completed"
    },
    "tags": []
   },
   "outputs": [],
   "source": [
    "from fairness_multiverse.universe import predict_w_threshold"
   ]
  },
  {
   "cell_type": "code",
   "execution_count": 34,
   "id": "a7cf2e16",
   "metadata": {
    "execution": {
     "iopub.execute_input": "2025-08-05T16:02:12.049876Z",
     "iopub.status.busy": "2025-08-05T16:02:12.049313Z",
     "iopub.status.idle": "2025-08-05T16:02:12.229086Z",
     "shell.execute_reply": "2025-08-05T16:02:12.228240Z"
    },
    "papermill": {
     "duration": 0.192236,
     "end_time": "2025-08-05T16:02:12.230706",
     "exception": false,
     "start_time": "2025-08-05T16:02:12.038470",
     "status": "completed"
    },
    "tags": []
   },
   "outputs": [
    {
     "data": {
      "text/plain": [
       "0.816954631590681"
      ]
     },
     "execution_count": 34,
     "metadata": {},
     "output_type": "execute_result"
    }
   ],
   "source": [
    "probs_test = model.predict_proba(X_test)\n",
    "\n",
    "'''\n",
    "Below code returns a boolean array (or binary 0/1 array depending on how it’s used) where each element \n",
    "is True if the probability of class 1 is greater than or equal to the threshold, and False otherwise.\n",
    "'''\n",
    "y_pred_default = predict_w_threshold(probs_test, 0.5)\n",
    "\n",
    "from sklearn.metrics import accuracy_score\n",
    "\n",
    "# Naive prediction\n",
    "accuracy_score(y_true = y_true, y_pred = y_pred_default)"
   ]
  },
  {
   "cell_type": "code",
   "execution_count": 35,
   "id": "081964c3",
   "metadata": {
    "execution": {
     "iopub.execute_input": "2025-08-05T16:02:12.278337Z",
     "iopub.status.busy": "2025-08-05T16:02:12.277416Z",
     "iopub.status.idle": "2025-08-05T16:02:12.458679Z",
     "shell.execute_reply": "2025-08-05T16:02:12.457738Z"
    },
    "papermill": {
     "duration": 0.203262,
     "end_time": "2025-08-05T16:02:12.459913",
     "exception": false,
     "start_time": "2025-08-05T16:02:12.256651",
     "status": "completed"
    },
    "tags": []
   },
   "outputs": [
    {
     "data": {
      "text/plain": [
       "array([0, 0, 0, ..., 0, 0, 0])"
      ]
     },
     "execution_count": 35,
     "metadata": {},
     "output_type": "execute_result"
    }
   ],
   "source": [
    "model.predict(X_test)"
   ]
  },
  {
   "cell_type": "markdown",
   "id": "56c9705b",
   "metadata": {
    "papermill": {
     "duration": 0.019381,
     "end_time": "2025-08-05T16:02:12.499781",
     "exception": false,
     "start_time": "2025-08-05T16:02:12.480400",
     "status": "completed"
    },
    "tags": []
   },
   "source": [
    "# Conformal Prediction"
   ]
  },
  {
   "cell_type": "code",
   "execution_count": 36,
   "id": "160ec6ff",
   "metadata": {
    "execution": {
     "iopub.execute_input": "2025-08-05T16:02:12.541741Z",
     "iopub.status.busy": "2025-08-05T16:02:12.541059Z",
     "iopub.status.idle": "2025-08-05T16:02:12.546119Z",
     "shell.execute_reply": "2025-08-05T16:02:12.545189Z"
    },
    "papermill": {
     "duration": 0.028106,
     "end_time": "2025-08-05T16:02:12.547612",
     "exception": false,
     "start_time": "2025-08-05T16:02:12.519506",
     "status": "completed"
    },
    "tags": []
   },
   "outputs": [],
   "source": [
    "# Miscoverage level for conformal prediction (10% allowed error rate => 90% target coverage)\n",
    "alpha = 0.1"
   ]
  },
  {
   "cell_type": "code",
   "execution_count": 37,
   "id": "eadf4555-3dd3-440e-8e35-f82a4ad9f855",
   "metadata": {
    "execution": {
     "iopub.execute_input": "2025-08-05T16:02:12.584613Z",
     "iopub.status.busy": "2025-08-05T16:02:12.584222Z",
     "iopub.status.idle": "2025-08-05T16:02:12.758455Z",
     "shell.execute_reply": "2025-08-05T16:02:12.757416Z"
    },
    "papermill": {
     "duration": 0.197417,
     "end_time": "2025-08-05T16:02:12.760416",
     "exception": false,
     "start_time": "2025-08-05T16:02:12.562999",
     "status": "completed"
    },
    "tags": []
   },
   "outputs": [],
   "source": [
    "probs_calib = model.predict_proba(X_calib)"
   ]
  },
  {
   "cell_type": "code",
   "execution_count": 38,
   "id": "2ed93547-6d5d-4983-9b36-1ecb300da49a",
   "metadata": {
    "execution": {
     "iopub.execute_input": "2025-08-05T16:02:12.803890Z",
     "iopub.status.busy": "2025-08-05T16:02:12.803434Z",
     "iopub.status.idle": "2025-08-05T16:02:12.808860Z",
     "shell.execute_reply": "2025-08-05T16:02:12.808018Z"
    },
    "papermill": {
     "duration": 0.028511,
     "end_time": "2025-08-05T16:02:12.810686",
     "exception": false,
     "start_time": "2025-08-05T16:02:12.782175",
     "status": "completed"
    },
    "tags": []
   },
   "outputs": [],
   "source": [
    "y_calib = y_calib.values.ravel().astype(int)"
   ]
  },
  {
   "cell_type": "code",
   "execution_count": 39,
   "id": "65d1320d-f588-4b38-9072-62af1ae97f7d",
   "metadata": {
    "execution": {
     "iopub.execute_input": "2025-08-05T16:02:12.856375Z",
     "iopub.status.busy": "2025-08-05T16:02:12.855906Z",
     "iopub.status.idle": "2025-08-05T16:02:12.862300Z",
     "shell.execute_reply": "2025-08-05T16:02:12.861600Z"
    },
    "papermill": {
     "duration": 0.031189,
     "end_time": "2025-08-05T16:02:12.863708",
     "exception": false,
     "start_time": "2025-08-05T16:02:12.832519",
     "status": "completed"
    },
    "tags": []
   },
   "outputs": [],
   "source": [
    "from fairness_multiverse.conformal import compute_nc_scores\n",
    "\n",
    "# Compute nonconformity scores on calibration set (1 - probability of true class)\n",
    "nc_scores = compute_nc_scores(probs_calib, y_calib)"
   ]
  },
  {
   "cell_type": "code",
   "execution_count": 40,
   "id": "df3b8ca3-53b7-43d5-9667-7c85da7aeda2",
   "metadata": {
    "execution": {
     "iopub.execute_input": "2025-08-05T16:02:12.888429Z",
     "iopub.status.busy": "2025-08-05T16:02:12.888048Z",
     "iopub.status.idle": "2025-08-05T16:02:12.894425Z",
     "shell.execute_reply": "2025-08-05T16:02:12.893616Z"
    },
    "papermill": {
     "duration": 0.020604,
     "end_time": "2025-08-05T16:02:12.895888",
     "exception": false,
     "start_time": "2025-08-05T16:02:12.875284",
     "status": "completed"
    },
    "tags": []
   },
   "outputs": [],
   "source": [
    "from fairness_multiverse.conformal import find_threshold\n",
    "\n",
    "# Find conformal threshold q_hat for the given alpha (split conformal method)\n",
    "q_hat = find_threshold(nc_scores, alpha)"
   ]
  },
  {
   "cell_type": "code",
   "execution_count": 41,
   "id": "4d29e6c1-0ef6-4aa4-b8fe-4fe79b0d033a",
   "metadata": {
    "execution": {
     "iopub.execute_input": "2025-08-05T16:02:12.934683Z",
     "iopub.status.busy": "2025-08-05T16:02:12.934321Z",
     "iopub.status.idle": "2025-08-05T16:02:12.940066Z",
     "shell.execute_reply": "2025-08-05T16:02:12.939256Z"
    },
    "papermill": {
     "duration": 0.025002,
     "end_time": "2025-08-05T16:02:12.941397",
     "exception": false,
     "start_time": "2025-08-05T16:02:12.916395",
     "status": "completed"
    },
    "tags": []
   },
   "outputs": [
    {
     "data": {
      "text/plain": [
       "0.8058101636754192"
      ]
     },
     "execution_count": 41,
     "metadata": {},
     "output_type": "execute_result"
    }
   ],
   "source": [
    "q_hat"
   ]
  },
  {
   "cell_type": "code",
   "execution_count": 42,
   "id": "92460794-cdac-4be2-ba28-f28c0515a6fb",
   "metadata": {
    "execution": {
     "iopub.execute_input": "2025-08-05T16:02:12.964513Z",
     "iopub.status.busy": "2025-08-05T16:02:12.964171Z",
     "iopub.status.idle": "2025-08-05T16:02:13.606619Z",
     "shell.execute_reply": "2025-08-05T16:02:13.605805Z"
    },
    "papermill": {
     "duration": 0.655323,
     "end_time": "2025-08-05T16:02:13.608061",
     "exception": false,
     "start_time": "2025-08-05T16:02:12.952738",
     "status": "completed"
    },
    "tags": []
   },
   "outputs": [],
   "source": [
    "from fairness_multiverse.conformal import predict_conformal_sets\n",
    "\n",
    "# Generate prediction sets for each test example\n",
    "pred_sets = predict_conformal_sets(model, X_test, q_hat)"
   ]
  },
  {
   "cell_type": "code",
   "execution_count": 43,
   "id": "d90c9a65-e6db-4f5d-80cd-e68fb7e46829",
   "metadata": {
    "execution": {
     "iopub.execute_input": "2025-08-05T16:02:13.632590Z",
     "iopub.status.busy": "2025-08-05T16:02:13.632046Z",
     "iopub.status.idle": "2025-08-05T16:02:13.636709Z",
     "shell.execute_reply": "2025-08-05T16:02:13.635876Z"
    },
    "papermill": {
     "duration": 0.018112,
     "end_time": "2025-08-05T16:02:13.638196",
     "exception": false,
     "start_time": "2025-08-05T16:02:13.620084",
     "status": "completed"
    },
    "tags": []
   },
   "outputs": [],
   "source": [
    "y_true = y_true.squeeze()"
   ]
  },
  {
   "cell_type": "code",
   "execution_count": 44,
   "id": "3a58a54a-1e68-46b9-927a-df01f18aebc8",
   "metadata": {
    "execution": {
     "iopub.execute_input": "2025-08-05T16:02:13.663064Z",
     "iopub.status.busy": "2025-08-05T16:02:13.662572Z",
     "iopub.status.idle": "2025-08-05T16:02:14.133467Z",
     "shell.execute_reply": "2025-08-05T16:02:14.132732Z"
    },
    "papermill": {
     "duration": 0.484405,
     "end_time": "2025-08-05T16:02:14.134823",
     "exception": false,
     "start_time": "2025-08-05T16:02:13.650418",
     "status": "completed"
    },
    "tags": []
   },
   "outputs": [],
   "source": [
    "from fairness_multiverse.conformal import evaluate_sets\n",
    "\n",
    "# Evaluate coverage and average set size on test data\n",
    "metrics = evaluate_sets(pred_sets, y_true)"
   ]
  },
  {
   "cell_type": "markdown",
   "id": "2b569c12-9aaa-4c88-98c9-bbcd0cf3ebb8",
   "metadata": {
    "papermill": {
     "duration": 0.010777,
     "end_time": "2025-08-05T16:02:14.157175",
     "exception": false,
     "start_time": "2025-08-05T16:02:14.146398",
     "status": "completed"
    },
    "tags": []
   },
   "source": [
    "# CP Metrics"
   ]
  },
  {
   "cell_type": "code",
   "execution_count": 45,
   "id": "5ce0a5cb-201f-45a0-ade5-94c7f0bd6095",
   "metadata": {
    "execution": {
     "iopub.execute_input": "2025-08-05T16:02:14.180465Z",
     "iopub.status.busy": "2025-08-05T16:02:14.179814Z",
     "iopub.status.idle": "2025-08-05T16:02:14.186342Z",
     "shell.execute_reply": "2025-08-05T16:02:14.185583Z"
    },
    "papermill": {
     "duration": 0.019887,
     "end_time": "2025-08-05T16:02:14.187808",
     "exception": false,
     "start_time": "2025-08-05T16:02:14.167921",
     "status": "completed"
    },
    "tags": []
   },
   "outputs": [
    {
     "data": {
      "text/plain": [
       "{'coverage': 0.9063649537398283, 'avg_size': 1.2414112139114926}"
      ]
     },
     "execution_count": 45,
     "metadata": {},
     "output_type": "execute_result"
    }
   ],
   "source": [
    "metrics"
   ]
  },
  {
   "cell_type": "code",
   "execution_count": 46,
   "id": "9b9a838d-31c9-430b-ae14-12baee460d17",
   "metadata": {
    "execution": {
     "iopub.execute_input": "2025-08-05T16:02:14.212583Z",
     "iopub.status.busy": "2025-08-05T16:02:14.211805Z",
     "iopub.status.idle": "2025-08-05T16:02:14.217006Z",
     "shell.execute_reply": "2025-08-05T16:02:14.216249Z"
    },
    "papermill": {
     "duration": 0.018427,
     "end_time": "2025-08-05T16:02:14.218483",
     "exception": false,
     "start_time": "2025-08-05T16:02:14.200056",
     "status": "completed"
    },
    "tags": []
   },
   "outputs": [],
   "source": [
    "example_universe = universe.copy()\n",
    "universe_training_year = example_universe.get(\"training_year\")\n",
    "universe_training_size = example_universe.get(\"training_size\")\n",
    "universe_scale = example_universe.get(\"scale\")\n",
    "universe_model = example_universe.get(\"model\")\n",
    "universe_exclude_features = example_universe.get(\"exclude_features\")\n",
    "universe_exclude_subgroups = example_universe.get(\"exclude_subgroups\")"
   ]
  },
  {
   "cell_type": "code",
   "execution_count": 47,
   "id": "f4b6a8ac-9dc0-4245-8a91-5b3b5999c4f9",
   "metadata": {
    "execution": {
     "iopub.execute_input": "2025-08-05T16:02:14.244436Z",
     "iopub.status.busy": "2025-08-05T16:02:14.244099Z",
     "iopub.status.idle": "2025-08-05T16:02:14.249194Z",
     "shell.execute_reply": "2025-08-05T16:02:14.248471Z"
    },
    "papermill": {
     "duration": 0.018949,
     "end_time": "2025-08-05T16:02:14.250478",
     "exception": false,
     "start_time": "2025-08-05T16:02:14.231529",
     "status": "completed"
    },
    "tags": []
   },
   "outputs": [],
   "source": [
    "cp_metrics_dict = {\n",
    "    \"universe_id\": [universe_id],\n",
    "    \"universe_training_year\": [universe_training_year],\n",
    "    \"universe_training_size\": [universe_training_size],\n",
    "    \"universe_scale\": [universe_scale],\n",
    "    \"universe_model\": [universe_model],\n",
    "    \"universe_exclude_features\": [universe_exclude_features],\n",
    "    \"universe_exclude_subgroups\": [universe_exclude_subgroups],\n",
    "    \"q_hat\": [q_hat],\n",
    "    \"coverage\": [metrics[\"coverage\"]],\n",
    "    \"avg_size\": [metrics[\"avg_size\"]],\n",
    "}"
   ]
  },
  {
   "cell_type": "code",
   "execution_count": 48,
   "id": "908acbb1-0371-4915-85ca-3fa520d2efe2",
   "metadata": {
    "execution": {
     "iopub.execute_input": "2025-08-05T16:02:14.275679Z",
     "iopub.status.busy": "2025-08-05T16:02:14.275154Z",
     "iopub.status.idle": "2025-08-05T16:02:14.281366Z",
     "shell.execute_reply": "2025-08-05T16:02:14.280412Z"
    },
    "papermill": {
     "duration": 0.019535,
     "end_time": "2025-08-05T16:02:14.282748",
     "exception": false,
     "start_time": "2025-08-05T16:02:14.263213",
     "status": "completed"
    },
    "tags": []
   },
   "outputs": [
    {
     "data": {
      "text/plain": [
       "{'universe_id': ['13905f4b536d7a1c87de6592923bef2e'],\n",
       " 'universe_training_year': ['2014'],\n",
       " 'universe_training_size': ['1k'],\n",
       " 'universe_scale': ['scale'],\n",
       " 'universe_model': ['logreg'],\n",
       " 'universe_exclude_features': ['nationality'],\n",
       " 'universe_exclude_subgroups': ['keep-all'],\n",
       " 'q_hat': [0.8058101636754192],\n",
       " 'coverage': [0.9063649537398283],\n",
       " 'avg_size': [1.2414112139114926]}"
      ]
     },
     "execution_count": 48,
     "metadata": {},
     "output_type": "execute_result"
    }
   ],
   "source": [
    "cp_metrics_dict"
   ]
  },
  {
   "cell_type": "code",
   "execution_count": 49,
   "id": "33007efc-14e9-4ec6-97ac-56a455c82265",
   "metadata": {
    "execution": {
     "iopub.execute_input": "2025-08-05T16:02:14.307489Z",
     "iopub.status.busy": "2025-08-05T16:02:14.306910Z",
     "iopub.status.idle": "2025-08-05T16:02:14.312384Z",
     "shell.execute_reply": "2025-08-05T16:02:14.311472Z"
    },
    "papermill": {
     "duration": 0.019245,
     "end_time": "2025-08-05T16:02:14.314167",
     "exception": false,
     "start_time": "2025-08-05T16:02:14.294922",
     "status": "completed"
    },
    "tags": []
   },
   "outputs": [],
   "source": [
    "cp_metrics_df = pd.DataFrame(cp_metrics_dict)"
   ]
  },
  {
   "cell_type": "code",
   "execution_count": 50,
   "id": "db12611b-57b2-4910-b9d0-355adfd6e7bf",
   "metadata": {
    "execution": {
     "iopub.execute_input": "2025-08-05T16:02:14.352684Z",
     "iopub.status.busy": "2025-08-05T16:02:14.351924Z",
     "iopub.status.idle": "2025-08-05T16:02:14.366347Z",
     "shell.execute_reply": "2025-08-05T16:02:14.365563Z"
    },
    "papermill": {
     "duration": 0.03376,
     "end_time": "2025-08-05T16:02:14.367565",
     "exception": false,
     "start_time": "2025-08-05T16:02:14.333805",
     "status": "completed"
    },
    "tags": []
   },
   "outputs": [
    {
     "data": {
      "text/html": [
       "<div>\n",
       "<style scoped>\n",
       "    .dataframe tbody tr th:only-of-type {\n",
       "        vertical-align: middle;\n",
       "    }\n",
       "\n",
       "    .dataframe tbody tr th {\n",
       "        vertical-align: top;\n",
       "    }\n",
       "\n",
       "    .dataframe thead th {\n",
       "        text-align: right;\n",
       "    }\n",
       "</style>\n",
       "<table border=\"1\" class=\"dataframe\">\n",
       "  <thead>\n",
       "    <tr style=\"text-align: right;\">\n",
       "      <th></th>\n",
       "      <th>universe_id</th>\n",
       "      <th>universe_training_year</th>\n",
       "      <th>universe_training_size</th>\n",
       "      <th>universe_scale</th>\n",
       "      <th>universe_model</th>\n",
       "      <th>universe_exclude_features</th>\n",
       "      <th>universe_exclude_subgroups</th>\n",
       "      <th>q_hat</th>\n",
       "      <th>coverage</th>\n",
       "      <th>avg_size</th>\n",
       "    </tr>\n",
       "  </thead>\n",
       "  <tbody>\n",
       "    <tr>\n",
       "      <th>0</th>\n",
       "      <td>13905f4b536d7a1c87de6592923bef2e</td>\n",
       "      <td>2014</td>\n",
       "      <td>1k</td>\n",
       "      <td>scale</td>\n",
       "      <td>logreg</td>\n",
       "      <td>nationality</td>\n",
       "      <td>keep-all</td>\n",
       "      <td>0.80581</td>\n",
       "      <td>0.906365</td>\n",
       "      <td>1.241411</td>\n",
       "    </tr>\n",
       "  </tbody>\n",
       "</table>\n",
       "</div>"
      ],
      "text/plain": [
       "                        universe_id universe_training_year  \\\n",
       "0  13905f4b536d7a1c87de6592923bef2e                   2014   \n",
       "\n",
       "  universe_training_size universe_scale universe_model  \\\n",
       "0                     1k          scale         logreg   \n",
       "\n",
       "  universe_exclude_features universe_exclude_subgroups    q_hat  coverage  \\\n",
       "0               nationality                   keep-all  0.80581  0.906365   \n",
       "\n",
       "   avg_size  \n",
       "0  1.241411  "
      ]
     },
     "execution_count": 50,
     "metadata": {},
     "output_type": "execute_result"
    }
   ],
   "source": [
    "cp_metrics_df"
   ]
  },
  {
   "cell_type": "code",
   "execution_count": 51,
   "id": "b7fbde55-a0a1-47e4-9af6-fe4a17fa8c61",
   "metadata": {
    "execution": {
     "iopub.execute_input": "2025-08-05T16:02:14.391665Z",
     "iopub.status.busy": "2025-08-05T16:02:14.391158Z",
     "iopub.status.idle": "2025-08-05T16:02:14.395466Z",
     "shell.execute_reply": "2025-08-05T16:02:14.394655Z"
    },
    "papermill": {
     "duration": 0.017645,
     "end_time": "2025-08-05T16:02:14.397030",
     "exception": false,
     "start_time": "2025-08-05T16:02:14.379385",
     "status": "completed"
    },
    "tags": []
   },
   "outputs": [],
   "source": [
    "# Conditional Coverage & looking at subgroups"
   ]
  },
  {
   "cell_type": "code",
   "execution_count": 52,
   "id": "027ae886-68dd-4141-96c7-805a5450e1ef",
   "metadata": {
    "execution": {
     "iopub.execute_input": "2025-08-05T16:02:14.436516Z",
     "iopub.status.busy": "2025-08-05T16:02:14.435875Z",
     "iopub.status.idle": "2025-08-05T16:02:14.662861Z",
     "shell.execute_reply": "2025-08-05T16:02:14.662105Z"
    },
    "papermill": {
     "duration": 0.248617,
     "end_time": "2025-08-05T16:02:14.664583",
     "exception": false,
     "start_time": "2025-08-05T16:02:14.415966",
     "status": "completed"
    },
    "tags": []
   },
   "outputs": [],
   "source": [
    "from fairness_multiverse.conformal import build_cp_groups\n",
    "\n",
    "cp_groups_df = build_cp_groups(pred_sets, y_true, X_test.index, org_test)\n",
    "#needs universe_id and setting"
   ]
  },
  {
   "cell_type": "code",
   "execution_count": 53,
   "id": "6cbdab96-b2b2-45af-ad54-d0516db2e28d",
   "metadata": {
    "execution": {
     "iopub.execute_input": "2025-08-05T16:02:14.714849Z",
     "iopub.status.busy": "2025-08-05T16:02:14.714179Z",
     "iopub.status.idle": "2025-08-05T16:02:15.634335Z",
     "shell.execute_reply": "2025-08-05T16:02:15.633590Z"
    },
    "papermill": {
     "duration": 0.933866,
     "end_time": "2025-08-05T16:02:15.635734",
     "exception": false,
     "start_time": "2025-08-05T16:02:14.701868",
     "status": "completed"
    },
    "tags": []
   },
   "outputs": [],
   "source": [
    "# Define covered = 1 if true_label is in the predicted set\n",
    "cp_groups_df['covered'] = cp_groups_df.apply(\n",
    "    lambda r: int(r['true_label'] in r['pred_set']),\n",
    "    axis=1\n",
    ")"
   ]
  },
  {
   "cell_type": "code",
   "execution_count": 54,
   "id": "338ff529-1a6b-4b87-a931-8e4788d52aad",
   "metadata": {
    "execution": {
     "iopub.execute_input": "2025-08-05T16:02:15.665505Z",
     "iopub.status.busy": "2025-08-05T16:02:15.665151Z",
     "iopub.status.idle": "2025-08-05T16:02:15.668918Z",
     "shell.execute_reply": "2025-08-05T16:02:15.668104Z"
    },
    "papermill": {
     "duration": 0.02238,
     "end_time": "2025-08-05T16:02:15.670194",
     "exception": false,
     "start_time": "2025-08-05T16:02:15.647814",
     "status": "completed"
    },
    "tags": []
   },
   "outputs": [],
   "source": [
    "#cp_groups_df"
   ]
  },
  {
   "cell_type": "code",
   "execution_count": 55,
   "id": "90032e27-66df-4540-9169-4e89cfbaa758",
   "metadata": {
    "execution": {
     "iopub.execute_input": "2025-08-05T16:02:15.695205Z",
     "iopub.status.busy": "2025-08-05T16:02:15.694725Z",
     "iopub.status.idle": "2025-08-05T16:02:15.703466Z",
     "shell.execute_reply": "2025-08-05T16:02:15.702681Z"
    },
    "papermill": {
     "duration": 0.021783,
     "end_time": "2025-08-05T16:02:15.704738",
     "exception": false,
     "start_time": "2025-08-05T16:02:15.682955",
     "status": "completed"
    },
    "tags": []
   },
   "outputs": [],
   "source": [
    "subgroups = ['frau1','nongerman','nongerman_male','nongerman_female']\n",
    "\n",
    "# Conditional coverage for subgroup==1\n",
    "cond_coverage = {\n",
    "    g: cp_groups_df.loc[cp_groups_df[g]==1, 'covered'].mean()\n",
    "    for g in subgroups\n",
    "}"
   ]
  },
  {
   "cell_type": "code",
   "execution_count": 56,
   "id": "1e348fb1-b9c3-45bc-ba23-f016827a7e0d",
   "metadata": {
    "execution": {
     "iopub.execute_input": "2025-08-05T16:02:15.730855Z",
     "iopub.status.busy": "2025-08-05T16:02:15.730121Z",
     "iopub.status.idle": "2025-08-05T16:02:15.737709Z",
     "shell.execute_reply": "2025-08-05T16:02:15.736906Z"
    },
    "papermill": {
     "duration": 0.022357,
     "end_time": "2025-08-05T16:02:15.739268",
     "exception": false,
     "start_time": "2025-08-05T16:02:15.716911",
     "status": "completed"
    },
    "tags": []
   },
   "outputs": [
    {
     "data": {
      "text/plain": [
       "{'frau1': 0.9049737161342499,\n",
       " 'nongerman': 0.9115252905181609,\n",
       " 'nongerman_male': 0.9277672701071782,\n",
       " 'nongerman_female': 0.8846497764530551}"
      ]
     },
     "execution_count": 56,
     "metadata": {},
     "output_type": "execute_result"
    }
   ],
   "source": [
    "cond_coverage"
   ]
  },
  {
   "cell_type": "code",
   "execution_count": 57,
   "id": "f5093324-c3dd-4d63-bc4c-8d945e5c8bbb",
   "metadata": {
    "execution": {
     "iopub.execute_input": "2025-08-05T16:02:15.785453Z",
     "iopub.status.busy": "2025-08-05T16:02:15.784581Z",
     "iopub.status.idle": "2025-08-05T16:02:15.792636Z",
     "shell.execute_reply": "2025-08-05T16:02:15.791656Z"
    },
    "papermill": {
     "duration": 0.033436,
     "end_time": "2025-08-05T16:02:15.794634",
     "exception": false,
     "start_time": "2025-08-05T16:02:15.761198",
     "status": "completed"
    },
    "tags": []
   },
   "outputs": [],
   "source": [
    "for subgroup, cov in cond_coverage.items():\n",
    "    cp_metrics_df[f\"cov_{subgroup}\"] = cov"
   ]
  },
  {
   "cell_type": "code",
   "execution_count": 58,
   "id": "6e872e10-dbe5-49e8-b554-5030c98ff75d",
   "metadata": {
    "execution": {
     "iopub.execute_input": "2025-08-05T16:02:15.843929Z",
     "iopub.status.busy": "2025-08-05T16:02:15.843465Z",
     "iopub.status.idle": "2025-08-05T16:02:15.862616Z",
     "shell.execute_reply": "2025-08-05T16:02:15.861509Z"
    },
    "papermill": {
     "duration": 0.045197,
     "end_time": "2025-08-05T16:02:15.864390",
     "exception": false,
     "start_time": "2025-08-05T16:02:15.819193",
     "status": "completed"
    },
    "tags": []
   },
   "outputs": [
    {
     "data": {
      "text/html": [
       "<div>\n",
       "<style scoped>\n",
       "    .dataframe tbody tr th:only-of-type {\n",
       "        vertical-align: middle;\n",
       "    }\n",
       "\n",
       "    .dataframe tbody tr th {\n",
       "        vertical-align: top;\n",
       "    }\n",
       "\n",
       "    .dataframe thead th {\n",
       "        text-align: right;\n",
       "    }\n",
       "</style>\n",
       "<table border=\"1\" class=\"dataframe\">\n",
       "  <thead>\n",
       "    <tr style=\"text-align: right;\">\n",
       "      <th></th>\n",
       "      <th>universe_id</th>\n",
       "      <th>universe_training_year</th>\n",
       "      <th>universe_training_size</th>\n",
       "      <th>universe_scale</th>\n",
       "      <th>universe_model</th>\n",
       "      <th>universe_exclude_features</th>\n",
       "      <th>universe_exclude_subgroups</th>\n",
       "      <th>q_hat</th>\n",
       "      <th>coverage</th>\n",
       "      <th>avg_size</th>\n",
       "      <th>cov_frau1</th>\n",
       "      <th>cov_nongerman</th>\n",
       "      <th>cov_nongerman_male</th>\n",
       "      <th>cov_nongerman_female</th>\n",
       "    </tr>\n",
       "  </thead>\n",
       "  <tbody>\n",
       "    <tr>\n",
       "      <th>0</th>\n",
       "      <td>13905f4b536d7a1c87de6592923bef2e</td>\n",
       "      <td>2014</td>\n",
       "      <td>1k</td>\n",
       "      <td>scale</td>\n",
       "      <td>logreg</td>\n",
       "      <td>nationality</td>\n",
       "      <td>keep-all</td>\n",
       "      <td>0.80581</td>\n",
       "      <td>0.906365</td>\n",
       "      <td>1.241411</td>\n",
       "      <td>0.904974</td>\n",
       "      <td>0.911525</td>\n",
       "      <td>0.927767</td>\n",
       "      <td>0.88465</td>\n",
       "    </tr>\n",
       "  </tbody>\n",
       "</table>\n",
       "</div>"
      ],
      "text/plain": [
       "                        universe_id universe_training_year  \\\n",
       "0  13905f4b536d7a1c87de6592923bef2e                   2014   \n",
       "\n",
       "  universe_training_size universe_scale universe_model  \\\n",
       "0                     1k          scale         logreg   \n",
       "\n",
       "  universe_exclude_features universe_exclude_subgroups    q_hat  coverage  \\\n",
       "0               nationality                   keep-all  0.80581  0.906365   \n",
       "\n",
       "   avg_size  cov_frau1  cov_nongerman  cov_nongerman_male  \\\n",
       "0  1.241411   0.904974       0.911525            0.927767   \n",
       "\n",
       "   cov_nongerman_female  \n",
       "0               0.88465  "
      ]
     },
     "execution_count": 58,
     "metadata": {},
     "output_type": "execute_result"
    }
   ],
   "source": [
    "cp_metrics_df"
   ]
  },
  {
   "cell_type": "markdown",
   "id": "33774451",
   "metadata": {
    "papermill": {
     "duration": 0.022955,
     "end_time": "2025-08-05T16:02:15.910809",
     "exception": false,
     "start_time": "2025-08-05T16:02:15.887854",
     "status": "completed"
    },
    "tags": []
   },
   "source": [
    "# (Fairness) Metrics"
   ]
  },
  {
   "cell_type": "code",
   "execution_count": 59,
   "id": "debc5d62",
   "metadata": {
    "execution": {
     "iopub.execute_input": "2025-08-05T16:02:15.957808Z",
     "iopub.status.busy": "2025-08-05T16:02:15.957132Z",
     "iopub.status.idle": "2025-08-05T16:02:15.980007Z",
     "shell.execute_reply": "2025-08-05T16:02:15.979084Z"
    },
    "papermill": {
     "duration": 0.049111,
     "end_time": "2025-08-05T16:02:15.981726",
     "exception": false,
     "start_time": "2025-08-05T16:02:15.932615",
     "status": "completed"
    },
    "tags": []
   },
   "outputs": [],
   "source": [
    "# do I need to include maxdeutsch1.missing?\n",
    "\n",
    "import numpy as np\n",
    "\n",
    "colname_to_bin = \"maxdeutsch1\"\n",
    "majority_value = org_train[colname_to_bin].mode()[0]\n",
    "\n",
    "org_test[\"majmin\"] = np.where(org_test[colname_to_bin] == majority_value, \"majority\", \"minority\")"
   ]
  },
  {
   "cell_type": "code",
   "execution_count": 60,
   "id": "06a50de5",
   "metadata": {
    "execution": {
     "iopub.execute_input": "2025-08-05T16:02:16.029756Z",
     "iopub.status.busy": "2025-08-05T16:02:16.029173Z",
     "iopub.status.idle": "2025-08-05T16:02:18.602478Z",
     "shell.execute_reply": "2025-08-05T16:02:18.601438Z"
    },
    "papermill": {
     "duration": 2.600527,
     "end_time": "2025-08-05T16:02:18.604619",
     "exception": false,
     "start_time": "2025-08-05T16:02:16.004092",
     "status": "completed"
    },
    "tags": []
   },
   "outputs": [],
   "source": [
    "example_universe = universe.copy()\n",
    "example_universe[\"cutoff\"] = example_universe[\"cutoff\"][0]\n",
    "example_universe[\"eval_fairness_grouping\"] = example_universe[\"eval_fairness_grouping\"][0]\n",
    "fairness_dict, metric_frame = universe_analysis.compute_metrics(\n",
    "    example_universe,\n",
    "    y_pred_prob=probs_test,\n",
    "    y_test=y_true,\n",
    "    org_test=org_test,\n",
    ")"
   ]
  },
  {
   "cell_type": "markdown",
   "id": "f95d4e02",
   "metadata": {
    "papermill": {
     "duration": 0.033095,
     "end_time": "2025-08-05T16:02:18.674212",
     "exception": false,
     "start_time": "2025-08-05T16:02:18.641117",
     "status": "completed"
    },
    "tags": []
   },
   "source": [
    "# Overall"
   ]
  },
  {
   "cell_type": "markdown",
   "id": "bdee4871",
   "metadata": {
    "papermill": {
     "duration": 0.012025,
     "end_time": "2025-08-05T16:02:18.714661",
     "exception": false,
     "start_time": "2025-08-05T16:02:18.702636",
     "status": "completed"
    },
    "tags": []
   },
   "source": [
    "Fairness\n",
    "Main fairness target: Equalized Odds. Seems to be a better fit than equal opportunity, since we're not only interested in Y = 1. Seems to be a better fit than demographic parity, since we also care about accuracy, not just equal distribution of preds.\n",
    "\n",
    "Pick column for computation of fairness metrics\n",
    "\n",
    "Performance\n",
    "Overall performance measures, most interesting in relation to the measures split by group below"
   ]
  },
  {
   "cell_type": "code",
   "execution_count": 61,
   "id": "c4e067c6",
   "metadata": {
    "execution": {
     "iopub.execute_input": "2025-08-05T16:02:18.743559Z",
     "iopub.status.busy": "2025-08-05T16:02:18.742888Z",
     "iopub.status.idle": "2025-08-05T16:02:18.752235Z",
     "shell.execute_reply": "2025-08-05T16:02:18.751285Z"
    },
    "papermill": {
     "duration": 0.02723,
     "end_time": "2025-08-05T16:02:18.753662",
     "exception": false,
     "start_time": "2025-08-05T16:02:18.726432",
     "status": "completed"
    },
    "tags": []
   },
   "outputs": [
    {
     "data": {
      "text/plain": [
       "accuracy                   0.218381\n",
       "balanced accuracy          0.535228\n",
       "f1                         0.239878\n",
       "precision                  0.137034\n",
       "false positive rate        0.890962\n",
       "false negative rate        0.038582\n",
       "selection rate             0.900000\n",
       "count                  89710.000000\n",
       "dtype: float64"
      ]
     },
     "execution_count": 61,
     "metadata": {},
     "output_type": "execute_result"
    }
   ],
   "source": [
    "metric_frame.overall"
   ]
  },
  {
   "cell_type": "markdown",
   "id": "e968fe9d",
   "metadata": {
    "papermill": {
     "duration": 0.014945,
     "end_time": "2025-08-05T16:02:18.794012",
     "exception": false,
     "start_time": "2025-08-05T16:02:18.779067",
     "status": "completed"
    },
    "tags": []
   },
   "source": [
    "By Group"
   ]
  },
  {
   "cell_type": "code",
   "execution_count": 62,
   "id": "ec325bce",
   "metadata": {
    "execution": {
     "iopub.execute_input": "2025-08-05T16:02:18.823169Z",
     "iopub.status.busy": "2025-08-05T16:02:18.822779Z",
     "iopub.status.idle": "2025-08-05T16:02:18.835688Z",
     "shell.execute_reply": "2025-08-05T16:02:18.834732Z"
    },
    "papermill": {
     "duration": 0.031612,
     "end_time": "2025-08-05T16:02:18.837703",
     "exception": false,
     "start_time": "2025-08-05T16:02:18.806091",
     "status": "completed"
    },
    "tags": []
   },
   "outputs": [
    {
     "data": {
      "text/html": [
       "<div>\n",
       "<style scoped>\n",
       "    .dataframe tbody tr th:only-of-type {\n",
       "        vertical-align: middle;\n",
       "    }\n",
       "\n",
       "    .dataframe tbody tr th {\n",
       "        vertical-align: top;\n",
       "    }\n",
       "\n",
       "    .dataframe thead th {\n",
       "        text-align: right;\n",
       "    }\n",
       "</style>\n",
       "<table border=\"1\" class=\"dataframe\">\n",
       "  <thead>\n",
       "    <tr style=\"text-align: right;\">\n",
       "      <th></th>\n",
       "      <th>accuracy</th>\n",
       "      <th>balanced accuracy</th>\n",
       "      <th>f1</th>\n",
       "      <th>precision</th>\n",
       "      <th>false positive rate</th>\n",
       "      <th>false negative rate</th>\n",
       "      <th>selection rate</th>\n",
       "      <th>count</th>\n",
       "    </tr>\n",
       "    <tr>\n",
       "      <th>majmin</th>\n",
       "      <th></th>\n",
       "      <th></th>\n",
       "      <th></th>\n",
       "      <th></th>\n",
       "      <th></th>\n",
       "      <th></th>\n",
       "      <th></th>\n",
       "      <th></th>\n",
       "    </tr>\n",
       "  </thead>\n",
       "  <tbody>\n",
       "    <tr>\n",
       "      <th>majority</th>\n",
       "      <td>0.234856</td>\n",
       "      <td>0.541185</td>\n",
       "      <td>0.248534</td>\n",
       "      <td>0.142799</td>\n",
       "      <td>0.875179</td>\n",
       "      <td>0.042451</td>\n",
       "      <td>0.886063</td>\n",
       "      <td>69170.0</td>\n",
       "    </tr>\n",
       "    <tr>\n",
       "      <th>minority</th>\n",
       "      <td>0.162902</td>\n",
       "      <td>0.516626</td>\n",
       "      <td>0.211935</td>\n",
       "      <td>0.118869</td>\n",
       "      <td>0.943099</td>\n",
       "      <td>0.023649</td>\n",
       "      <td>0.946933</td>\n",
       "      <td>20540.0</td>\n",
       "    </tr>\n",
       "  </tbody>\n",
       "</table>\n",
       "</div>"
      ],
      "text/plain": [
       "          accuracy  balanced accuracy        f1  precision  \\\n",
       "majmin                                                       \n",
       "majority  0.234856           0.541185  0.248534   0.142799   \n",
       "minority  0.162902           0.516626  0.211935   0.118869   \n",
       "\n",
       "          false positive rate  false negative rate  selection rate    count  \n",
       "majmin                                                                       \n",
       "majority             0.875179             0.042451        0.886063  69170.0  \n",
       "minority             0.943099             0.023649        0.946933  20540.0  "
      ]
     },
     "execution_count": 62,
     "metadata": {},
     "output_type": "execute_result"
    }
   ],
   "source": [
    "metric_frame.by_group"
   ]
  },
  {
   "cell_type": "code",
   "execution_count": 63,
   "id": "a9ddbe63",
   "metadata": {
    "execution": {
     "iopub.execute_input": "2025-08-05T16:02:18.890239Z",
     "iopub.status.busy": "2025-08-05T16:02:18.889871Z",
     "iopub.status.idle": "2025-08-05T16:02:21.119525Z",
     "shell.execute_reply": "2025-08-05T16:02:21.118751Z"
    },
    "papermill": {
     "duration": 2.258011,
     "end_time": "2025-08-05T16:02:21.121151",
     "exception": false,
     "start_time": "2025-08-05T16:02:18.863140",
     "status": "completed"
    },
    "tags": []
   },
   "outputs": [
    {
     "data": {
      "text/plain": [
       "array([[<Axes: title={'center': 'accuracy'}, xlabel='majmin'>,\n",
       "        <Axes: title={'center': 'balanced accuracy'}, xlabel='majmin'>,\n",
       "        <Axes: title={'center': 'f1'}, xlabel='majmin'>],\n",
       "       [<Axes: title={'center': 'precision'}, xlabel='majmin'>,\n",
       "        <Axes: title={'center': 'false positive rate'}, xlabel='majmin'>,\n",
       "        <Axes: title={'center': 'false negative rate'}, xlabel='majmin'>],\n",
       "       [<Axes: title={'center': 'selection rate'}, xlabel='majmin'>,\n",
       "        <Axes: title={'center': 'count'}, xlabel='majmin'>,\n",
       "        <Axes: xlabel='majmin'>]], dtype=object)"
      ]
     },
     "execution_count": 63,
     "metadata": {},
     "output_type": "execute_result"
    },
    {
     "data": {
      "image/png": "[encoded data removed]",
      "text/plain": [
       "<Figure size 1200x800 with 9 Axes>"
      ]
     },
     "metadata": {},
     "output_type": "display_data"
    }
   ],
   "source": [
    "# In a graphic\n",
    "metric_frame.by_group.plot.bar(\n",
    "    subplots=True,\n",
    "    layout=[3, 3],\n",
    "    legend=False,\n",
    "    figsize=[12, 8],\n",
    "    title=\"Show all metrics\",\n",
    ")"
   ]
  },
  {
   "cell_type": "markdown",
   "id": "f57a0bac",
   "metadata": {
    "papermill": {
     "duration": 0.026699,
     "end_time": "2025-08-05T16:02:21.175775",
     "exception": false,
     "start_time": "2025-08-05T16:02:21.149076",
     "status": "completed"
    },
    "tags": []
   },
   "source": [
    "# Final Output"
   ]
  },
  {
   "cell_type": "code",
   "execution_count": 64,
   "id": "96d280a3",
   "metadata": {
    "execution": {
     "iopub.execute_input": "2025-08-05T16:02:21.230601Z",
     "iopub.status.busy": "2025-08-05T16:02:21.229860Z",
     "iopub.status.idle": "2025-08-05T16:02:21.239475Z",
     "shell.execute_reply": "2025-08-05T16:02:21.238446Z"
    },
    "papermill": {
     "duration": 0.040395,
     "end_time": "2025-08-05T16:02:21.241600",
     "exception": false,
     "start_time": "2025-08-05T16:02:21.201205",
     "status": "completed"
    },
    "tags": []
   },
   "outputs": [
    {
     "data": {
      "text/plain": [
       "4"
      ]
     },
     "execution_count": 64,
     "metadata": {},
     "output_type": "execute_result"
    }
   ],
   "source": [
    "sub_universes = universe_analysis.generate_sub_universes()\n",
    "len(sub_universes)"
   ]
  },
  {
   "cell_type": "code",
   "execution_count": 65,
   "id": "92adf7ba",
   "metadata": {
    "execution": {
     "iopub.execute_input": "2025-08-05T16:02:21.307501Z",
     "iopub.status.busy": "2025-08-05T16:02:21.306505Z",
     "iopub.status.idle": "2025-08-05T16:02:21.313132Z",
     "shell.execute_reply": "2025-08-05T16:02:21.312105Z"
    },
    "papermill": {
     "duration": 0.042264,
     "end_time": "2025-08-05T16:02:21.315270",
     "exception": false,
     "start_time": "2025-08-05T16:02:21.273006",
     "status": "completed"
    },
    "tags": []
   },
   "outputs": [],
   "source": [
    "def filter_sub_universe_data(sub_universe, org_test):\n",
    "    # Keep all rows — no filtering\n",
    "    keep_rows_mask = np.ones(org_test.shape[0], dtype=bool)\n",
    "\n",
    "    print(f\"[INFO] Keeping all rows: {keep_rows_mask.sum()} rows retained.\")\n",
    "    return keep_rows_mask"
   ]
  },
  {
   "cell_type": "code",
   "execution_count": 66,
   "id": "4a759155",
   "metadata": {
    "execution": {
     "iopub.execute_input": "2025-08-05T16:02:21.358131Z",
     "iopub.status.busy": "2025-08-05T16:02:21.357396Z",
     "iopub.status.idle": "2025-08-05T16:02:31.383133Z",
     "shell.execute_reply": "2025-08-05T16:02:31.381998Z"
    },
    "papermill": {
     "duration": 10.042789,
     "end_time": "2025-08-05T16:02:31.385365",
     "exception": false,
     "start_time": "2025-08-05T16:02:21.342576",
     "status": "completed"
    },
    "tags": []
   },
   "outputs": [
    {
     "name": "stdout",
     "output_type": "stream",
     "text": [
      "Stopping execution_time clock.\n",
      "[INFO] Keeping all rows: 89710 rows retained.\n"
     ]
    },
    {
     "name": "stdout",
     "output_type": "stream",
     "text": [
      "[INFO] Keeping all rows: 89710 rows retained.\n"
     ]
    },
    {
     "name": "stdout",
     "output_type": "stream",
     "text": [
      "[INFO] Keeping all rows: 89710 rows retained.\n"
     ]
    },
    {
     "name": "stdout",
     "output_type": "stream",
     "text": [
      "[INFO] Keeping all rows: 89710 rows retained.\n"
     ]
    },
    {
     "data": {
      "text/html": [
       "<div>\n",
       "<style scoped>\n",
       "    .dataframe tbody tr th:only-of-type {\n",
       "        vertical-align: middle;\n",
       "    }\n",
       "\n",
       "    .dataframe tbody tr th {\n",
       "        vertical-align: top;\n",
       "    }\n",
       "\n",
       "    .dataframe thead th {\n",
       "        text-align: right;\n",
       "    }\n",
       "</style>\n",
       "<table border=\"1\" class=\"dataframe\">\n",
       "  <thead>\n",
       "    <tr style=\"text-align: right;\">\n",
       "      <th></th>\n",
       "      <th>run_no</th>\n",
       "      <th>universe_id</th>\n",
       "      <th>universe_settings</th>\n",
       "      <th>execution_time</th>\n",
       "      <th>test_size_n</th>\n",
       "      <th>test_size_frac</th>\n",
       "      <th>fair_main_equalized_odds_difference</th>\n",
       "      <th>fair_main_equalized_odds_ratio</th>\n",
       "      <th>fair_main_demographic_parity_difference</th>\n",
       "      <th>fair_main_demographic_parity_ratio</th>\n",
       "      <th>...</th>\n",
       "      <th>perf_grp_precision_0</th>\n",
       "      <th>perf_grp_precision_1</th>\n",
       "      <th>perf_grp_false positive rate_0</th>\n",
       "      <th>perf_grp_false positive rate_1</th>\n",
       "      <th>perf_grp_false negative rate_0</th>\n",
       "      <th>perf_grp_false negative rate_1</th>\n",
       "      <th>perf_grp_selection rate_0</th>\n",
       "      <th>perf_grp_selection rate_1</th>\n",
       "      <th>perf_grp_count_0</th>\n",
       "      <th>perf_grp_count_1</th>\n",
       "    </tr>\n",
       "  </thead>\n",
       "  <tbody>\n",
       "    <tr>\n",
       "      <th>0</th>\n",
       "      <td>15</td>\n",
       "      <td>13905f4b536d7a1c87de6592923bef2e</td>\n",
       "      <td>{\"cutoff\": \"quantile_0.1\", \"eval_fairness_grou...</td>\n",
       "      <td>20.930243</td>\n",
       "      <td>89710</td>\n",
       "      <td>1.0</td>\n",
       "      <td>0.067920</td>\n",
       "      <td>0.927982</td>\n",
       "      <td>0.060869</td>\n",
       "      <td>0.935719</td>\n",
       "      <td>...</td>\n",
       "      <td>NaN</td>\n",
       "      <td>NaN</td>\n",
       "      <td>NaN</td>\n",
       "      <td>NaN</td>\n",
       "      <td>NaN</td>\n",
       "      <td>NaN</td>\n",
       "      <td>NaN</td>\n",
       "      <td>NaN</td>\n",
       "      <td>NaN</td>\n",
       "      <td>NaN</td>\n",
       "    </tr>\n",
       "    <tr>\n",
       "      <th>0</th>\n",
       "      <td>15</td>\n",
       "      <td>13905f4b536d7a1c87de6592923bef2e</td>\n",
       "      <td>{\"cutoff\": \"quantile_0.1\", \"eval_fairness_grou...</td>\n",
       "      <td>20.930243</td>\n",
       "      <td>89710</td>\n",
       "      <td>1.0</td>\n",
       "      <td>0.067920</td>\n",
       "      <td>0.927982</td>\n",
       "      <td>0.060869</td>\n",
       "      <td>0.935719</td>\n",
       "      <td>...</td>\n",
       "      <td>0.118869</td>\n",
       "      <td>0.142799</td>\n",
       "      <td>0.943099</td>\n",
       "      <td>0.875179</td>\n",
       "      <td>0.023649</td>\n",
       "      <td>0.042451</td>\n",
       "      <td>0.946933</td>\n",
       "      <td>0.886063</td>\n",
       "      <td>20540.0</td>\n",
       "      <td>69170.0</td>\n",
       "    </tr>\n",
       "    <tr>\n",
       "      <th>0</th>\n",
       "      <td>15</td>\n",
       "      <td>13905f4b536d7a1c87de6592923bef2e</td>\n",
       "      <td>{\"cutoff\": \"quantile_0.25\", \"eval_fairness_gro...</td>\n",
       "      <td>20.930243</td>\n",
       "      <td>89710</td>\n",
       "      <td>1.0</td>\n",
       "      <td>0.068894</td>\n",
       "      <td>0.912120</td>\n",
       "      <td>0.058414</td>\n",
       "      <td>0.926526</td>\n",
       "      <td>...</td>\n",
       "      <td>NaN</td>\n",
       "      <td>NaN</td>\n",
       "      <td>NaN</td>\n",
       "      <td>NaN</td>\n",
       "      <td>NaN</td>\n",
       "      <td>NaN</td>\n",
       "      <td>NaN</td>\n",
       "      <td>NaN</td>\n",
       "      <td>NaN</td>\n",
       "      <td>NaN</td>\n",
       "    </tr>\n",
       "    <tr>\n",
       "      <th>0</th>\n",
       "      <td>15</td>\n",
       "      <td>13905f4b536d7a1c87de6592923bef2e</td>\n",
       "      <td>{\"cutoff\": \"quantile_0.25\", \"eval_fairness_gro...</td>\n",
       "      <td>20.930243</td>\n",
       "      <td>89710</td>\n",
       "      <td>1.0</td>\n",
       "      <td>0.068894</td>\n",
       "      <td>0.912120</td>\n",
       "      <td>0.058414</td>\n",
       "      <td>0.926526</td>\n",
       "      <td>...</td>\n",
       "      <td>0.127618</td>\n",
       "      <td>0.157540</td>\n",
       "      <td>0.783953</td>\n",
       "      <td>0.715059</td>\n",
       "      <td>0.119932</td>\n",
       "      <td>0.121772</td>\n",
       "      <td>0.795034</td>\n",
       "      <td>0.736620</td>\n",
       "      <td>20540.0</td>\n",
       "      <td>69170.0</td>\n",
       "    </tr>\n",
       "  </tbody>\n",
       "</table>\n",
       "<p>4 rows × 50 columns</p>\n",
       "</div>"
      ],
      "text/plain": [
       "  run_no                       universe_id  \\\n",
       "0     15  13905f4b536d7a1c87de6592923bef2e   \n",
       "0     15  13905f4b536d7a1c87de6592923bef2e   \n",
       "0     15  13905f4b536d7a1c87de6592923bef2e   \n",
       "0     15  13905f4b536d7a1c87de6592923bef2e   \n",
       "\n",
       "                                   universe_settings  execution_time  \\\n",
       "0  {\"cutoff\": \"quantile_0.1\", \"eval_fairness_grou...       20.930243   \n",
       "0  {\"cutoff\": \"quantile_0.1\", \"eval_fairness_grou...       20.930243   \n",
       "0  {\"cutoff\": \"quantile_0.25\", \"eval_fairness_gro...       20.930243   \n",
       "0  {\"cutoff\": \"quantile_0.25\", \"eval_fairness_gro...       20.930243   \n",
       "\n",
       "   test_size_n  test_size_frac  fair_main_equalized_odds_difference  \\\n",
       "0        89710             1.0                             0.067920   \n",
       "0        89710             1.0                             0.067920   \n",
       "0        89710             1.0                             0.068894   \n",
       "0        89710             1.0                             0.068894   \n",
       "\n",
       "   fair_main_equalized_odds_ratio  fair_main_demographic_parity_difference  \\\n",
       "0                        0.927982                                 0.060869   \n",
       "0                        0.927982                                 0.060869   \n",
       "0                        0.912120                                 0.058414   \n",
       "0                        0.912120                                 0.058414   \n",
       "\n",
       "   fair_main_demographic_parity_ratio  ...  perf_grp_precision_0  \\\n",
       "0                            0.935719  ...                   NaN   \n",
       "0                            0.935719  ...              0.118869   \n",
       "0                            0.926526  ...                   NaN   \n",
       "0                            0.926526  ...              0.127618   \n",
       "\n",
       "   perf_grp_precision_1  perf_grp_false positive rate_0  \\\n",
       "0                   NaN                             NaN   \n",
       "0              0.142799                        0.943099   \n",
       "0                   NaN                             NaN   \n",
       "0              0.157540                        0.783953   \n",
       "\n",
       "   perf_grp_false positive rate_1  perf_grp_false negative rate_0  \\\n",
       "0                             NaN                             NaN   \n",
       "0                        0.875179                        0.023649   \n",
       "0                             NaN                             NaN   \n",
       "0                        0.715059                        0.119932   \n",
       "\n",
       "   perf_grp_false negative rate_1  perf_grp_selection rate_0  \\\n",
       "0                             NaN                        NaN   \n",
       "0                        0.042451                   0.946933   \n",
       "0                             NaN                        NaN   \n",
       "0                        0.121772                   0.795034   \n",
       "\n",
       "   perf_grp_selection rate_1  perf_grp_count_0  perf_grp_count_1  \n",
       "0                        NaN               NaN               NaN  \n",
       "0                   0.886063           20540.0           69170.0  \n",
       "0                        NaN               NaN               NaN  \n",
       "0                   0.736620           20540.0           69170.0  \n",
       "\n",
       "[4 rows x 50 columns]"
      ]
     },
     "execution_count": 66,
     "metadata": {},
     "output_type": "execute_result"
    }
   ],
   "source": [
    "final_output = universe_analysis.generate_final_output(\n",
    "    y_pred_prob=probs_test,\n",
    "    y_test=y_true,\n",
    "    org_test=org_test,\n",
    "    filter_data=filter_sub_universe_data,\n",
    "    cp_metrics_df=cp_metrics_df,\n",
    "    save=True,\n",
    ")\n",
    "final_output"
   ]
  }
 ],
 "metadata": {
  "celltoolbar": "Tags",
  "kernelspec": {
   "display_name": "Python (CMA Fairness)",
   "language": "python",
   "name": "cma_fair_env"
  },
  "language_info": {
   "codemirror_mode": {
    "name": "ipython",
    "version": 3
   },
   "file_extension": ".py",
   "mimetype": "text/x-python",
   "name": "python",
   "nbconvert_exporter": "python",
   "pygments_lexer": "ipython3",
   "version": "3.10.12"
  },
  "papermill": {
   "default_parameters": {},
   "duration": 35.470921,
   "end_time": "2025-08-05T16:02:32.240352",
   "environment_variables": {},
   "exception": null,
   "input_path": "universe_analysis.ipynb",
   "output_path": "output/runs/15/notebooks/m_15-13905f4b536d7a1c87de6592923bef2e.ipynb",
   "parameters": {
    "output_dir": "output",
    "run_no": "15",
    "seed": "2023",
    "universe": "{\"cutoff\": [\"quantile_0.1\", \"quantile_0.25\"], \"eval_fairness_grouping\": [\"majority-minority\", \"nationality-all\"], \"exclude_features\": \"nationality\", \"exclude_subgroups\": \"keep-all\", \"model\": \"logreg\", \"scale\": \"scale\", \"training_size\": \"1k\", \"training_year\": \"2014\"}",
    "universe_id": "13905f4b536d7a1c87de6592923bef2e"
   },
   "start_time": "2025-08-05T16:01:56.769431",
   "version": "2.6.0"
  }
 },
 "nbformat": 4,
 "nbformat_minor": 5
}