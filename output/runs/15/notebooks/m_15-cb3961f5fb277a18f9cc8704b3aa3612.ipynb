{
 "cells": [
  {
   "cell_type": "code",
   "execution_count": 1,
   "id": "f159f837-637b-42ba-96b5-ec9a68c44524",
   "metadata": {
    "execution": {
     "iopub.execute_input": "2025-08-05T15:29:01.767091Z",
     "iopub.status.busy": "2025-08-05T15:29:01.766354Z",
     "iopub.status.idle": "2025-08-05T15:29:01.784622Z",
     "shell.execute_reply": "2025-08-05T15:29:01.783391Z"
    },
    "papermill": {
     "duration": 0.038835,
     "end_time": "2025-08-05T15:29:01.786802",
     "exception": false,
     "start_time": "2025-08-05T15:29:01.747967",
     "status": "completed"
    },
    "tags": []
   },
   "outputs": [
    {
     "name": "stdout",
     "output_type": "stream",
     "text": [
      "/dss/dsshome1/0C/ra93lal2/cma/CMA_Fairness_v2\n"
     ]
    },
    {
     "name": "stderr",
     "output_type": "stream",
     "text": [
      "/dss/dsshome1/0C/ra93lal2/.local/share/virtualenvs/CMA_Fairness_v2-3j10GkSs/lib/python3.10/site-packages/IPython/core/magics/osm.py:393: UserWarning: This is now an optional IPython functionality, using bookmarks requires you to install the `pickleshare` library.\n",
      "  bkms = self.shell.db.get('bookmarks', {})\n",
      "/dss/dsshome1/0C/ra93lal2/.local/share/virtualenvs/CMA_Fairness_v2-3j10GkSs/lib/python3.10/site-packages/IPython/core/magics/osm.py:417: UserWarning: This is now an optional IPython functionality, setting dhist requires you to install the `pickleshare` library.\n",
      "  self.shell.db['dhist'] = compress_dhist(dhist)[-100:]\n"
     ]
    }
   ],
   "source": [
    "%cd ~/cma/CMA_Fairness_v2"
   ]
  },
  {
   "cell_type": "markdown",
   "id": "de2603b9",
   "metadata": {
    "papermill": {
     "duration": 0.017226,
     "end_time": "2025-08-05T15:29:01.822494",
     "exception": false,
     "start_time": "2025-08-05T15:29:01.805268",
     "status": "completed"
    },
    "tags": []
   },
   "source": [
    "The following cell holds the definition of our parameters, these values can be overriden by rendering the with e.g. the following command:\n",
    "\n",
    "papermill -p alpha 0.2 -p ratio 0.3 universe_analysis.ipynb output/test_run.ipynb"
   ]
  },
  {
   "cell_type": "code",
   "execution_count": 2,
   "id": "a80968a0-40bb-4fa9-85ef-2d5eefb01975",
   "metadata": {
    "execution": {
     "iopub.execute_input": "2025-08-05T15:29:01.856227Z",
     "iopub.status.busy": "2025-08-05T15:29:01.855419Z",
     "iopub.status.idle": "2025-08-05T15:29:01.861930Z",
     "shell.execute_reply": "2025-08-05T15:29:01.860656Z"
    },
    "papermill": {
     "duration": 0.025924,
     "end_time": "2025-08-05T15:29:01.864145",
     "exception": false,
     "start_time": "2025-08-05T15:29:01.838221",
     "status": "completed"
    },
    "tags": []
   },
   "outputs": [
    {
     "name": "stdout",
     "output_type": "stream",
     "text": [
      "Current working directory: /dss/dsshome1/0C/ra93lal2/cma/CMA_Fairness_v2\n"
     ]
    }
   ],
   "source": [
    "import os\n",
    "print(\"Current working directory:\", os.getcwd())"
   ]
  },
  {
   "cell_type": "code",
   "execution_count": 3,
   "id": "2dce4c03",
   "metadata": {
    "execution": {
     "iopub.execute_input": "2025-08-05T15:29:01.902320Z",
     "iopub.status.busy": "2025-08-05T15:29:01.901375Z",
     "iopub.status.idle": "2025-08-05T15:29:01.907848Z",
     "shell.execute_reply": "2025-08-05T15:29:01.906997Z"
    },
    "papermill": {
     "duration": 0.025312,
     "end_time": "2025-08-05T15:29:01.909488",
     "exception": false,
     "start_time": "2025-08-05T15:29:01.884176",
     "status": "completed"
    },
    "tags": [
     "parameters"
    ]
   },
   "outputs": [],
   "source": [
    "run_no = 0\n",
    "universe_id = \"test\"\n",
    "universe = {\n",
    "    \"training_size\": \"25k\", # \"25k\", \"5k\", \"1k\"\n",
    "    \"training_year\": \"2014\", # \"2014\", \"2012_14\", \"2010_14\"\n",
    "    \"scale\": \"scale\", # \"scale\", \"do-not-scale\",\n",
    "    \"model\": \"elasticnet\", # \"logreg\", \"penalized_logreg\", \"rf\", \"gbm\", \"elasticnet\"\n",
    "    \"cutoff\": [\"quantile_0.15\", \"quantile_0.30\"],\n",
    "    \"exclude_features\": \"age\", # \"none\", \"nationality\", \"sex\", \"nationality-sex\", \"age\"\n",
    "    \"exclude_subgroups\": \"keep-all\", # \"keep-all\", \"drop-non-german\"\n",
    "    \"eval_fairness_grouping\": [\"majority-minority\", \"nationality-all\"]\n",
    "}\n",
    "\n",
    "output_dir=\"./output\"\n",
    "seed=0"
   ]
  },
  {
   "cell_type": "code",
   "execution_count": 4,
   "id": "8130ded4",
   "metadata": {
    "execution": {
     "iopub.execute_input": "2025-08-05T15:29:01.949265Z",
     "iopub.status.busy": "2025-08-05T15:29:01.948718Z",
     "iopub.status.idle": "2025-08-05T15:29:01.954550Z",
     "shell.execute_reply": "2025-08-05T15:29:01.953457Z"
    },
    "papermill": {
     "duration": 0.028382,
     "end_time": "2025-08-05T15:29:01.956590",
     "exception": false,
     "start_time": "2025-08-05T15:29:01.928208",
     "status": "completed"
    },
    "tags": [
     "injected-parameters"
    ]
   },
   "outputs": [],
   "source": [
    "# Parameters\n",
    "universe_id = \"cb3961f5fb277a18f9cc8704b3aa3612\"\n",
    "run_no = \"15\"\n",
    "universe = \"{\\\"cutoff\\\": [\\\"quantile_0.1\\\", \\\"quantile_0.25\\\"], \\\"eval_fairness_grouping\\\": [\\\"majority-minority\\\", \\\"nationality-all\\\"], \\\"exclude_features\\\": \\\"nationality-sex\\\", \\\"exclude_subgroups\\\": \\\"drop-non-german\\\", \\\"model\\\": \\\"penalized_logreg\\\", \\\"scale\\\": \\\"do-not-scale\\\", \\\"training_size\\\": \\\"5k\\\", \\\"training_year\\\": \\\"2014\\\"}\"\n",
    "output_dir = \"output\"\n",
    "seed = \"2023\"\n"
   ]
  },
  {
   "cell_type": "code",
   "execution_count": 5,
   "id": "1650acaf",
   "metadata": {
    "execution": {
     "iopub.execute_input": "2025-08-05T15:29:01.992574Z",
     "iopub.status.busy": "2025-08-05T15:29:01.991754Z",
     "iopub.status.idle": "2025-08-05T15:29:01.997500Z",
     "shell.execute_reply": "2025-08-05T15:29:01.996628Z"
    },
    "papermill": {
     "duration": 0.027969,
     "end_time": "2025-08-05T15:29:02.002607",
     "exception": false,
     "start_time": "2025-08-05T15:29:01.974638",
     "status": "completed"
    },
    "tags": []
   },
   "outputs": [],
   "source": [
    "import json\n",
    "if isinstance(universe, str):\n",
    "    universe = json.loads(universe)"
   ]
  },
  {
   "cell_type": "code",
   "execution_count": 6,
   "id": "16620c48",
   "metadata": {
    "execution": {
     "iopub.execute_input": "2025-08-05T15:29:02.041276Z",
     "iopub.status.busy": "2025-08-05T15:29:02.040533Z",
     "iopub.status.idle": "2025-08-05T15:29:02.088103Z",
     "shell.execute_reply": "2025-08-05T15:29:02.087139Z"
    },
    "papermill": {
     "duration": 0.068083,
     "end_time": "2025-08-05T15:29:02.089885",
     "exception": false,
     "start_time": "2025-08-05T15:29:02.021802",
     "status": "completed"
    },
    "tags": []
   },
   "outputs": [],
   "source": [
    "# Auto-reload the custom package\n",
    "%load_ext autoreload\n",
    "%autoreload 1\n",
    "%aimport fairness_multiverse"
   ]
  },
  {
   "cell_type": "code",
   "execution_count": 7,
   "id": "01c5c9f3",
   "metadata": {
    "execution": {
     "iopub.execute_input": "2025-08-05T15:29:02.132176Z",
     "iopub.status.busy": "2025-08-05T15:29:02.131653Z",
     "iopub.status.idle": "2025-08-05T15:29:03.709594Z",
     "shell.execute_reply": "2025-08-05T15:29:03.708413Z"
    },
    "papermill": {
     "duration": 1.605235,
     "end_time": "2025-08-05T15:29:03.711611",
     "exception": false,
     "start_time": "2025-08-05T15:29:02.106376",
     "status": "completed"
    },
    "tags": []
   },
   "outputs": [],
   "source": [
    "from fairness_multiverse.universe import UniverseAnalysis\n",
    "\n",
    "universe_analysis = UniverseAnalysis(\n",
    "    run_no = run_no,\n",
    "    universe_id = universe_id,\n",
    "    universe = universe,\n",
    "    output_dir=output_dir,\n",
    ")"
   ]
  },
  {
   "cell_type": "code",
   "execution_count": 8,
   "id": "106241f5",
   "metadata": {
    "execution": {
     "iopub.execute_input": "2025-08-05T15:29:03.731116Z",
     "iopub.status.busy": "2025-08-05T15:29:03.730393Z",
     "iopub.status.idle": "2025-08-05T15:29:03.736437Z",
     "shell.execute_reply": "2025-08-05T15:29:03.735589Z"
    },
    "papermill": {
     "duration": 0.017162,
     "end_time": "2025-08-05T15:29:03.738033",
     "exception": false,
     "start_time": "2025-08-05T15:29:03.720871",
     "status": "completed"
    },
    "tags": []
   },
   "outputs": [
    {
     "name": "stdout",
     "output_type": "stream",
     "text": [
      "Using Seed: 2023\n"
     ]
    }
   ],
   "source": [
    "import numpy as np\n",
    "parsed_seed = int(seed)\n",
    "np.random.seed(parsed_seed)\n",
    "print(f\"Using Seed: {parsed_seed}\")"
   ]
  },
  {
   "cell_type": "markdown",
   "id": "e0ebdc57",
   "metadata": {
    "papermill": {
     "duration": 0.008508,
     "end_time": "2025-08-05T15:29:03.756352",
     "exception": false,
     "start_time": "2025-08-05T15:29:03.747844",
     "status": "completed"
    },
    "tags": []
   },
   "source": [
    "# Loading Data"
   ]
  },
  {
   "cell_type": "code",
   "execution_count": 9,
   "id": "f0496b8a",
   "metadata": {
    "execution": {
     "iopub.execute_input": "2025-08-05T15:29:03.775239Z",
     "iopub.status.busy": "2025-08-05T15:29:03.774451Z",
     "iopub.status.idle": "2025-08-05T15:29:14.716412Z",
     "shell.execute_reply": "2025-08-05T15:29:14.715310Z"
    },
    "papermill": {
     "duration": 10.953052,
     "end_time": "2025-08-05T15:29:14.718099",
     "exception": false,
     "start_time": "2025-08-05T15:29:03.765047",
     "status": "completed"
    },
    "tags": []
   },
   "outputs": [
    {
     "name": "stdout",
     "output_type": "stream",
     "text": [
      "Loading SIAB data from cache: data/siab_cached.csv.gz\n"
     ]
    },
    {
     "name": "stdout",
     "output_type": "stream",
     "text": [
      "(643690, 164)\n"
     ]
    }
   ],
   "source": [
    "from pathlib import Path\n",
    "import pandas as pd\n",
    "\n",
    "# File paths\n",
    "raw_file = Path(\"data/raw/siab.csv\")\n",
    "cache_file = Path(\"data/siab_cached.csv.gz\")\n",
    "\n",
    "# Ensure cache directory exists\n",
    "cache_file.parent.mkdir(parents=True, exist_ok=True)\n",
    "\n",
    "# Load with simple caching\n",
    "if cache_file.exists():\n",
    "    print(f\"Loading SIAB data from cache: {cache_file}\")\n",
    "    siab = pd.read_csv(cache_file, compression='gzip')\n",
    "else:\n",
    "    print(f\"Cache not found. Reading raw SIAB data: {raw_file}\")\n",
    "    siab = pd.read_csv(raw_file)\n",
    "    siab.to_csv(cache_file, index=False, compression='gzip')\n",
    "    print(f\"Cached SIAB data to: {cache_file}\")\n",
    "\n",
    "print(siab.shape)"
   ]
  },
  {
   "cell_type": "code",
   "execution_count": 10,
   "id": "db0ca512-5f53-4dba-abdb-a2888bca41ba",
   "metadata": {
    "execution": {
     "iopub.execute_input": "2025-08-05T15:29:14.754212Z",
     "iopub.status.busy": "2025-08-05T15:29:14.753424Z",
     "iopub.status.idle": "2025-08-05T15:29:14.759135Z",
     "shell.execute_reply": "2025-08-05T15:29:14.758176Z"
    },
    "papermill": {
     "duration": 0.024438,
     "end_time": "2025-08-05T15:29:14.761029",
     "exception": false,
     "start_time": "2025-08-05T15:29:14.736591",
     "status": "completed"
    },
    "tags": []
   },
   "outputs": [],
   "source": [
    "#siab"
   ]
  },
  {
   "cell_type": "markdown",
   "id": "997051c5-15bd-4b69-9786-c3001a3ce484",
   "metadata": {
    "papermill": {
     "duration": 0.018857,
     "end_time": "2025-08-05T15:29:14.799774",
     "exception": false,
     "start_time": "2025-08-05T15:29:14.780917",
     "status": "completed"
    },
    "tags": []
   },
   "source": [
    "# Splitting Data and Setting Training Data Size"
   ]
  },
  {
   "cell_type": "code",
   "execution_count": 11,
   "id": "aea9c6ef-6f46-42c8-85eb-5a62025c1508",
   "metadata": {
    "execution": {
     "iopub.execute_input": "2025-08-05T15:29:14.839187Z",
     "iopub.status.busy": "2025-08-05T15:29:14.838569Z",
     "iopub.status.idle": "2025-08-05T15:29:15.104944Z",
     "shell.execute_reply": "2025-08-05T15:29:15.103943Z"
    },
    "papermill": {
     "duration": 0.287821,
     "end_time": "2025-08-05T15:29:15.106501",
     "exception": false,
     "start_time": "2025-08-05T15:29:14.818680",
     "status": "completed"
    },
    "tags": []
   },
   "outputs": [],
   "source": [
    "from fairness_multiverse.universe import sample_by_year_size\n",
    "\n",
    "siab_train = sample_by_year_size(siab,\n",
    "                               training_year=universe[\"training_year\"],\n",
    "                               training_size=universe[\"training_size\"])"
   ]
  },
  {
   "cell_type": "code",
   "execution_count": 12,
   "id": "8d3afb32-789d-442c-8d5d-9f5aa8dd2eed",
   "metadata": {
    "execution": {
     "iopub.execute_input": "2025-08-05T15:29:15.128977Z",
     "iopub.status.busy": "2025-08-05T15:29:15.128188Z",
     "iopub.status.idle": "2025-08-05T15:29:15.135882Z",
     "shell.execute_reply": "2025-08-05T15:29:15.135140Z"
    },
    "papermill": {
     "duration": 0.020075,
     "end_time": "2025-08-05T15:29:15.137440",
     "exception": false,
     "start_time": "2025-08-05T15:29:15.117365",
     "status": "completed"
    },
    "tags": []
   },
   "outputs": [],
   "source": [
    "#siab_train.shape"
   ]
  },
  {
   "cell_type": "code",
   "execution_count": 13,
   "id": "d582db68-1a4c-47fb-84fc-08518dc1975a",
   "metadata": {
    "execution": {
     "iopub.execute_input": "2025-08-05T15:29:15.156698Z",
     "iopub.status.busy": "2025-08-05T15:29:15.156478Z",
     "iopub.status.idle": "2025-08-05T15:29:15.160234Z",
     "shell.execute_reply": "2025-08-05T15:29:15.159434Z"
    },
    "papermill": {
     "duration": 0.014876,
     "end_time": "2025-08-05T15:29:15.161795",
     "exception": false,
     "start_time": "2025-08-05T15:29:15.146919",
     "status": "completed"
    },
    "tags": []
   },
   "outputs": [],
   "source": [
    "#display(siab_train.groupby(\"year\").size())"
   ]
  },
  {
   "cell_type": "code",
   "execution_count": 14,
   "id": "a561edb4-d032-42cb-8256-22eac1111c64",
   "metadata": {
    "execution": {
     "iopub.execute_input": "2025-08-05T15:29:15.185342Z",
     "iopub.status.busy": "2025-08-05T15:29:15.185031Z",
     "iopub.status.idle": "2025-08-05T15:29:15.452311Z",
     "shell.execute_reply": "2025-08-05T15:29:15.451346Z"
    },
    "papermill": {
     "duration": 0.28272,
     "end_time": "2025-08-05T15:29:15.454117",
     "exception": false,
     "start_time": "2025-08-05T15:29:15.171397",
     "status": "completed"
    },
    "tags": []
   },
   "outputs": [],
   "source": [
    "#siab_train = siab_s[siab_s.year < 2015]\n",
    "siab_calib = siab[siab.year == 2015]\n",
    "siab_test = siab[siab.year == 2016]"
   ]
  },
  {
   "cell_type": "code",
   "execution_count": 15,
   "id": "472de16f-c3db-4916-846b-1f0de9cf1746",
   "metadata": {
    "execution": {
     "iopub.execute_input": "2025-08-05T15:29:15.496089Z",
     "iopub.status.busy": "2025-08-05T15:29:15.495676Z",
     "iopub.status.idle": "2025-08-05T15:29:15.504304Z",
     "shell.execute_reply": "2025-08-05T15:29:15.503072Z"
    },
    "papermill": {
     "duration": 0.031759,
     "end_time": "2025-08-05T15:29:15.506525",
     "exception": false,
     "start_time": "2025-08-05T15:29:15.474766",
     "status": "completed"
    },
    "tags": []
   },
   "outputs": [],
   "source": [
    "X_train = siab_train.iloc[:,4:164]\n",
    "y_train = siab_train.iloc[:, [3]]"
   ]
  },
  {
   "cell_type": "code",
   "execution_count": 16,
   "id": "828c96af-f43a-4ed6-ba47-8ac73a47d56c",
   "metadata": {
    "execution": {
     "iopub.execute_input": "2025-08-05T15:29:15.539608Z",
     "iopub.status.busy": "2025-08-05T15:29:15.539233Z",
     "iopub.status.idle": "2025-08-05T15:29:15.588110Z",
     "shell.execute_reply": "2025-08-05T15:29:15.587298Z"
    },
    "papermill": {
     "duration": 0.061365,
     "end_time": "2025-08-05T15:29:15.589574",
     "exception": false,
     "start_time": "2025-08-05T15:29:15.528209",
     "status": "completed"
    },
    "tags": []
   },
   "outputs": [],
   "source": [
    "X_calib = siab_calib.iloc[:,4:164]\n",
    "y_calib = siab_calib.iloc[:, [3]]"
   ]
  },
  {
   "cell_type": "code",
   "execution_count": 17,
   "id": "c34be9c3-6bd6-476e-acd3-845840e303be",
   "metadata": {
    "execution": {
     "iopub.execute_input": "2025-08-05T15:29:15.611045Z",
     "iopub.status.busy": "2025-08-05T15:29:15.610709Z",
     "iopub.status.idle": "2025-08-05T15:29:15.658905Z",
     "shell.execute_reply": "2025-08-05T15:29:15.658056Z"
    },
    "papermill": {
     "duration": 0.061209,
     "end_time": "2025-08-05T15:29:15.660668",
     "exception": false,
     "start_time": "2025-08-05T15:29:15.599459",
     "status": "completed"
    },
    "tags": []
   },
   "outputs": [],
   "source": [
    "X_test = siab_test.iloc[:,4:164]\n",
    "y_true = siab_test.iloc[:, [3]]"
   ]
  },
  {
   "cell_type": "code",
   "execution_count": 18,
   "id": "e6c733c5",
   "metadata": {
    "execution": {
     "iopub.execute_input": "2025-08-05T15:29:15.681348Z",
     "iopub.status.busy": "2025-08-05T15:29:15.681056Z",
     "iopub.status.idle": "2025-08-05T15:29:15.767199Z",
     "shell.execute_reply": "2025-08-05T15:29:15.766411Z"
    },
    "papermill": {
     "duration": 0.097665,
     "end_time": "2025-08-05T15:29:15.768695",
     "exception": false,
     "start_time": "2025-08-05T15:29:15.671030",
     "status": "completed"
    },
    "tags": []
   },
   "outputs": [],
   "source": [
    "# Auxiliary data needed downstream in the pipeline\n",
    "\n",
    "org_train = X_train.copy()\n",
    "org_test = X_test.copy()\n",
    "org_calib = X_calib.copy()"
   ]
  },
  {
   "cell_type": "markdown",
   "id": "0a4a1b33",
   "metadata": {
    "papermill": {
     "duration": 0.009121,
     "end_time": "2025-08-05T15:29:15.787650",
     "exception": false,
     "start_time": "2025-08-05T15:29:15.778529",
     "status": "completed"
    },
    "tags": []
   },
   "source": [
    "# Preprocessing Data"
   ]
  },
  {
   "cell_type": "code",
   "execution_count": 19,
   "id": "ca879031",
   "metadata": {
    "execution": {
     "iopub.execute_input": "2025-08-05T15:29:15.806595Z",
     "iopub.status.busy": "2025-08-05T15:29:15.806357Z",
     "iopub.status.idle": "2025-08-05T15:29:15.811320Z",
     "shell.execute_reply": "2025-08-05T15:29:15.810585Z"
    },
    "papermill": {
     "duration": 0.016102,
     "end_time": "2025-08-05T15:29:15.812787",
     "exception": false,
     "start_time": "2025-08-05T15:29:15.796685",
     "status": "completed"
    },
    "tags": []
   },
   "outputs": [],
   "source": [
    "# EXCLUDE PROTECTED FEATURES\n",
    "# ----------------------\n",
    "# \"exclude_features\": \"none\", # \"nationality\", \"sex\", \"nationality-sex\"\n",
    "\n",
    "excluded_features = universe[\"exclude_features\"].split(\"-\") # split, e.g.: \"nationality-sex\" -> [\"nationality\", \"sex\"]\n",
    "excluded_features_dictionary = {\n",
    "    \"nationality\": [\"maxdeutsch1\", \"maxdeutsch.Missing.\"],\n",
    "    \"sex\": [\"frau1\"],\n",
    "    \"age\": [\"age\"],\n",
    "}"
   ]
  },
  {
   "cell_type": "code",
   "execution_count": 20,
   "id": "b745ac60",
   "metadata": {
    "execution": {
     "iopub.execute_input": "2025-08-05T15:29:15.832590Z",
     "iopub.status.busy": "2025-08-05T15:29:15.832366Z",
     "iopub.status.idle": "2025-08-05T15:29:15.836732Z",
     "shell.execute_reply": "2025-08-05T15:29:15.835906Z"
    },
    "papermill": {
     "duration": 0.015601,
     "end_time": "2025-08-05T15:29:15.838194",
     "exception": false,
     "start_time": "2025-08-05T15:29:15.822593",
     "status": "completed"
    },
    "tags": []
   },
   "outputs": [],
   "source": [
    "# Code nice names to column names\n",
    "\n",
    "excluded_features_columns = [\n",
    "    excluded_features_dictionary[f] for f in excluded_features if len(f) > 0 and f != \"none\"\n",
    "]"
   ]
  },
  {
   "cell_type": "code",
   "execution_count": 21,
   "id": "f84f73a2",
   "metadata": {
    "execution": {
     "iopub.execute_input": "2025-08-05T15:29:15.857858Z",
     "iopub.status.busy": "2025-08-05T15:29:15.857613Z",
     "iopub.status.idle": "2025-08-05T15:29:15.862514Z",
     "shell.execute_reply": "2025-08-05T15:29:15.861628Z"
    },
    "papermill": {
     "duration": 0.016092,
     "end_time": "2025-08-05T15:29:15.863905",
     "exception": false,
     "start_time": "2025-08-05T15:29:15.847813",
     "status": "completed"
    },
    "tags": []
   },
   "outputs": [],
   "source": [
    "from utils import flatten_once\n",
    "\n",
    "excluded_features_columns = flatten_once(excluded_features_columns)"
   ]
  },
  {
   "cell_type": "code",
   "execution_count": 22,
   "id": "884dea22",
   "metadata": {
    "execution": {
     "iopub.execute_input": "2025-08-05T15:29:15.884155Z",
     "iopub.status.busy": "2025-08-05T15:29:15.883937Z",
     "iopub.status.idle": "2025-08-05T15:29:15.892488Z",
     "shell.execute_reply": "2025-08-05T15:29:15.891719Z"
    },
    "papermill": {
     "duration": 0.020423,
     "end_time": "2025-08-05T15:29:15.894126",
     "exception": false,
     "start_time": "2025-08-05T15:29:15.873703",
     "status": "completed"
    },
    "tags": []
   },
   "outputs": [
    {
     "name": "stdout",
     "output_type": "stream",
     "text": [
      "Dropping features: ['maxdeutsch1', 'maxdeutsch.Missing.', 'frau1']\n"
     ]
    }
   ],
   "source": [
    "if len(excluded_features_columns) > 0:\n",
    "    print(f\"Dropping features: {excluded_features_columns}\")\n",
    "    X_train.drop(excluded_features_columns, axis=1, inplace=True)"
   ]
  },
  {
   "cell_type": "code",
   "execution_count": 23,
   "id": "95ab8b16",
   "metadata": {
    "execution": {
     "iopub.execute_input": "2025-08-05T15:29:15.915012Z",
     "iopub.status.busy": "2025-08-05T15:29:15.914518Z",
     "iopub.status.idle": "2025-08-05T15:29:15.963582Z",
     "shell.execute_reply": "2025-08-05T15:29:15.962700Z"
    },
    "papermill": {
     "duration": 0.060616,
     "end_time": "2025-08-05T15:29:15.965002",
     "exception": false,
     "start_time": "2025-08-05T15:29:15.904386",
     "status": "completed"
    },
    "tags": []
   },
   "outputs": [
    {
     "name": "stdout",
     "output_type": "stream",
     "text": [
      "Dropping features: ['maxdeutsch1', 'maxdeutsch.Missing.', 'frau1']\n"
     ]
    }
   ],
   "source": [
    "if len(excluded_features_columns) > 0:\n",
    "    print(f\"Dropping features: {excluded_features_columns}\")\n",
    "    X_test.drop(excluded_features_columns, axis=1, inplace=True)"
   ]
  },
  {
   "cell_type": "code",
   "execution_count": 24,
   "id": "1853aaf5-fb9f-46cb-a2b5-8ea4ae2237e4",
   "metadata": {
    "execution": {
     "iopub.execute_input": "2025-08-05T15:29:15.986198Z",
     "iopub.status.busy": "2025-08-05T15:29:15.985550Z",
     "iopub.status.idle": "2025-08-05T15:29:16.016133Z",
     "shell.execute_reply": "2025-08-05T15:29:16.015319Z"
    },
    "papermill": {
     "duration": 0.042202,
     "end_time": "2025-08-05T15:29:16.017720",
     "exception": false,
     "start_time": "2025-08-05T15:29:15.975518",
     "status": "completed"
    },
    "tags": []
   },
   "outputs": [
    {
     "name": "stdout",
     "output_type": "stream",
     "text": [
      "Dropping features: ['maxdeutsch1', 'maxdeutsch.Missing.', 'frau1']\n"
     ]
    }
   ],
   "source": [
    "if len(excluded_features_columns) > 0:\n",
    "    print(f\"Dropping features: {excluded_features_columns}\")\n",
    "    X_calib.drop(excluded_features_columns, axis=1, inplace=True)"
   ]
  },
  {
   "cell_type": "code",
   "execution_count": 25,
   "id": "76c4dc6d",
   "metadata": {
    "execution": {
     "iopub.execute_input": "2025-08-05T15:29:16.039106Z",
     "iopub.status.busy": "2025-08-05T15:29:16.038465Z",
     "iopub.status.idle": "2025-08-05T15:29:16.043002Z",
     "shell.execute_reply": "2025-08-05T15:29:16.042276Z"
    },
    "papermill": {
     "duration": 0.01613,
     "end_time": "2025-08-05T15:29:16.044609",
     "exception": false,
     "start_time": "2025-08-05T15:29:16.028479",
     "status": "completed"
    },
    "tags": []
   },
   "outputs": [],
   "source": [
    "# EXCLUDE CERTAIN SUBGROUPS\n",
    "# ----------------------\n",
    "\n",
    "mode = universe.get(\"exclude_subgroups\", \"keep-all\") \n",
    "# Fetches the exclude_subgroups setting from the universe dict.\n",
    "# Defaults to \"keep-all\" if the key is missing."
   ]
  },
  {
   "cell_type": "code",
   "execution_count": 26,
   "id": "21994072",
   "metadata": {
    "execution": {
     "iopub.execute_input": "2025-08-05T15:29:16.077964Z",
     "iopub.status.busy": "2025-08-05T15:29:16.077293Z",
     "iopub.status.idle": "2025-08-05T15:29:16.083970Z",
     "shell.execute_reply": "2025-08-05T15:29:16.083030Z"
    },
    "papermill": {
     "duration": 0.029937,
     "end_time": "2025-08-05T15:29:16.085931",
     "exception": false,
     "start_time": "2025-08-05T15:29:16.055994",
     "status": "completed"
    },
    "tags": []
   },
   "outputs": [],
   "source": [
    "if mode == \"keep-all\":\n",
    "    keep_mask = pd.Series(True, index=org_train.index)\n",
    "\n",
    "# org_train contains the original feature columns from features_org (in Simson)\n",
    "# features_org contains unprocessed features, for me X_train at beginning ???\n",
    "# For keep-all, creates a boolean Series (keep_mask) of all True, so no rows are removed.\n",
    "\n",
    "elif mode == \"drop-non-german\":\n",
    "    keep_mask = org_train[\"maxdeutsch1\"] == 1 # ??? what about missing values?\n",
    "\n",
    "else:\n",
    "    raise ValueError(f\"Unsupported mode for exclude_subgroups: {mode}\")"
   ]
  },
  {
   "cell_type": "code",
   "execution_count": 27,
   "id": "71651440",
   "metadata": {
    "execution": {
     "iopub.execute_input": "2025-08-05T15:29:16.121759Z",
     "iopub.status.busy": "2025-08-05T15:29:16.121087Z",
     "iopub.status.idle": "2025-08-05T15:29:16.128230Z",
     "shell.execute_reply": "2025-08-05T15:29:16.127175Z"
    },
    "papermill": {
     "duration": 0.026358,
     "end_time": "2025-08-05T15:29:16.129816",
     "exception": false,
     "start_time": "2025-08-05T15:29:16.103458",
     "status": "completed"
    },
    "tags": []
   },
   "outputs": [
    {
     "name": "stdout",
     "output_type": "stream",
     "text": [
      "Dropping 741 rows (14.82%) where mode='drop-non-german'\n"
     ]
    }
   ],
   "source": [
    "n_drop = (~keep_mask).sum() # Calculates how many rows are set to be dropped\n",
    "if n_drop > 0:\n",
    "    pct = n_drop / len(keep_mask) * 100\n",
    "    print(f\"Dropping {n_drop} rows ({pct:.2f}%) where mode='{mode}'\")"
   ]
  },
  {
   "cell_type": "code",
   "execution_count": 28,
   "id": "5fb8eee5",
   "metadata": {
    "execution": {
     "iopub.execute_input": "2025-08-05T15:29:16.167782Z",
     "iopub.status.busy": "2025-08-05T15:29:16.167415Z",
     "iopub.status.idle": "2025-08-05T15:29:16.173786Z",
     "shell.execute_reply": "2025-08-05T15:29:16.172853Z"
    },
    "papermill": {
     "duration": 0.02866,
     "end_time": "2025-08-05T15:29:16.175785",
     "exception": false,
     "start_time": "2025-08-05T15:29:16.147125",
     "status": "completed"
    },
    "tags": []
   },
   "outputs": [],
   "source": [
    "X_train = X_train[keep_mask]"
   ]
  },
  {
   "cell_type": "code",
   "execution_count": 29,
   "id": "b202bb3a",
   "metadata": {
    "execution": {
     "iopub.execute_input": "2025-08-05T15:29:16.219377Z",
     "iopub.status.busy": "2025-08-05T15:29:16.219078Z",
     "iopub.status.idle": "2025-08-05T15:29:16.224228Z",
     "shell.execute_reply": "2025-08-05T15:29:16.223126Z"
    },
    "papermill": {
     "duration": 0.029152,
     "end_time": "2025-08-05T15:29:16.226161",
     "exception": false,
     "start_time": "2025-08-05T15:29:16.197009",
     "status": "completed"
    },
    "tags": []
   },
   "outputs": [],
   "source": [
    "y_train = y_train[keep_mask]"
   ]
  },
  {
   "cell_type": "markdown",
   "id": "493e2ac3",
   "metadata": {
    "papermill": {
     "duration": 0.014804,
     "end_time": "2025-08-05T15:29:16.261700",
     "exception": false,
     "start_time": "2025-08-05T15:29:16.246896",
     "status": "completed"
    },
    "tags": []
   },
   "source": [
    "# Model Training"
   ]
  },
  {
   "cell_type": "code",
   "execution_count": 30,
   "id": "679e1268",
   "metadata": {
    "execution": {
     "iopub.execute_input": "2025-08-05T15:29:16.302478Z",
     "iopub.status.busy": "2025-08-05T15:29:16.302171Z",
     "iopub.status.idle": "2025-08-05T15:29:16.380532Z",
     "shell.execute_reply": "2025-08-05T15:29:16.379742Z"
    },
    "papermill": {
     "duration": 0.102235,
     "end_time": "2025-08-05T15:29:16.381936",
     "exception": false,
     "start_time": "2025-08-05T15:29:16.279701",
     "status": "completed"
    },
    "tags": []
   },
   "outputs": [],
   "source": [
    "from sklearn.linear_model import LogisticRegression\n",
    "from sklearn.ensemble import GradientBoostingClassifier, RandomForestClassifier\n",
    "\n",
    "if (universe[\"model\"] == \"logreg\"):\n",
    "    model = LogisticRegression() #penalty=\"none\", solver=\"newton-cg\", max_iter=1) # include random_state=19 ?\n",
    "elif (universe[\"model\"] == \"penalized_logreg\"):\n",
    "    model = LogisticRegression(penalty=\"l2\", C=0.1) #, solver=\"newton-cg\", max_iter=1)\n",
    "elif (universe[\"model\"] == \"rf\"):\n",
    "    model = RandomForestClassifier() # n_estimators=100, n_jobs=-1\n",
    "elif (universe[\"model\"] == \"gbm\"):\n",
    "    model = GradientBoostingClassifier()\n",
    "elif (universe[\"model\"] == \"elasticnet\"):\n",
    "    model = LogisticRegression(penalty = 'elasticnet', solver = 'saga', l1_ratio = 0.5) # max_iter=5000\n",
    "else:\n",
    "    raise \"Unsupported universe.model\""
   ]
  },
  {
   "cell_type": "code",
   "execution_count": 31,
   "id": "0cc8f744",
   "metadata": {
    "execution": {
     "iopub.execute_input": "2025-08-05T15:29:16.403067Z",
     "iopub.status.busy": "2025-08-05T15:29:16.402435Z",
     "iopub.status.idle": "2025-08-05T15:29:16.407898Z",
     "shell.execute_reply": "2025-08-05T15:29:16.407048Z"
    },
    "papermill": {
     "duration": 0.017307,
     "end_time": "2025-08-05T15:29:16.409386",
     "exception": false,
     "start_time": "2025-08-05T15:29:16.392079",
     "status": "completed"
    },
    "tags": []
   },
   "outputs": [],
   "source": [
    "import numpy as np\n",
    "from sklearn.pipeline import Pipeline\n",
    "from sklearn.preprocessing import StandardScaler\n",
    "\n",
    "model = Pipeline([\n",
    "    #(\"continuous_processor\", continuous_processor),\n",
    "    #(\"categorical_preprocessor\", categorical_preprocessor),\n",
    "    (\"scale\", StandardScaler() if universe[\"scale\"] == \"scale\" else None), \n",
    "    (\"model\", model),\n",
    "])"
   ]
  },
  {
   "cell_type": "code",
   "execution_count": 32,
   "id": "9442c04d",
   "metadata": {
    "execution": {
     "iopub.execute_input": "2025-08-05T15:29:16.430598Z",
     "iopub.status.busy": "2025-08-05T15:29:16.430101Z",
     "iopub.status.idle": "2025-08-05T15:29:16.524601Z",
     "shell.execute_reply": "2025-08-05T15:29:16.523868Z"
    },
    "papermill": {
     "duration": 0.106247,
     "end_time": "2025-08-05T15:29:16.525937",
     "exception": false,
     "start_time": "2025-08-05T15:29:16.419690",
     "status": "completed"
    },
    "tags": []
   },
   "outputs": [
    {
     "name": "stderr",
     "output_type": "stream",
     "text": [
      "/dss/dsshome1/0C/ra93lal2/.local/share/virtualenvs/CMA_Fairness_v2-3j10GkSs/lib/python3.10/site-packages/sklearn/linear_model/_logistic.py:444: ConvergenceWarning: lbfgs failed to converge (status=1):\n",
      "STOP: TOTAL NO. of ITERATIONS REACHED LIMIT.\n",
      "\n",
      "Increase the number of iterations (max_iter) or scale the data as shown in:\n",
      "    https://scikit-learn.org/stable/modules/preprocessing.html\n",
      "Please also refer to the documentation for alternative solver options:\n",
      "    https://scikit-learn.org/stable/modules/linear_model.html#logistic-regression\n",
      "  n_iter_i = _check_optimize_result(\n"
     ]
    },
    {
     "data": {
      "text/html": [
       "<style>#sk-container-id-1 {color: black;background-color: white;}#sk-container-id-1 pre{padding: 0;}#sk-container-id-1 div.sk-toggleable {background-color: white;}#sk-container-id-1 label.sk-toggleable__label {cursor: pointer;display: block;width: 100%;margin-bottom: 0;padding: 0.3em;box-sizing: border-box;text-align: center;}#sk-container-id-1 label.sk-toggleable__label-arrow:before {content: \"▸\";float: left;margin-right: 0.25em;color: #696969;}#sk-container-id-1 label.sk-toggleable__label-arrow:hover:before {color: black;}#sk-container-id-1 div.sk-estimator:hover label.sk-toggleable__label-arrow:before {color: black;}#sk-container-id-1 div.sk-toggleable__content {max-height: 0;max-width: 0;overflow: hidden;text-align: left;background-color: #f0f8ff;}#sk-container-id-1 div.sk-toggleable__content pre {margin: 0.2em;color: black;border-radius: 0.25em;background-color: #f0f8ff;}#sk-container-id-1 input.sk-toggleable__control:checked~div.sk-toggleable__content {max-height: 200px;max-width: 100%;overflow: auto;}#sk-container-id-1 input.sk-toggleable__control:checked~label.sk-toggleable__label-arrow:before {content: \"▾\";}#sk-container-id-1 div.sk-estimator input.sk-toggleable__control:checked~label.sk-toggleable__label {background-color: #d4ebff;}#sk-container-id-1 div.sk-label input.sk-toggleable__control:checked~label.sk-toggleable__label {background-color: #d4ebff;}#sk-container-id-1 input.sk-hidden--visually {border: 0;clip: rect(1px 1px 1px 1px);clip: rect(1px, 1px, 1px, 1px);height: 1px;margin: -1px;overflow: hidden;padding: 0;position: absolute;width: 1px;}#sk-container-id-1 div.sk-estimator {font-family: monospace;background-color: #f0f8ff;border: 1px dotted black;border-radius: 0.25em;box-sizing: border-box;margin-bottom: 0.5em;}#sk-container-id-1 div.sk-estimator:hover {background-color: #d4ebff;}#sk-container-id-1 div.sk-parallel-item::after {content: \"\";width: 100%;border-bottom: 1px solid gray;flex-grow: 1;}#sk-container-id-1 div.sk-label:hover label.sk-toggleable__label {background-color: #d4ebff;}#sk-container-id-1 div.sk-serial::before {content: \"\";position: absolute;border-left: 1px solid gray;box-sizing: border-box;top: 0;bottom: 0;left: 50%;z-index: 0;}#sk-container-id-1 div.sk-serial {display: flex;flex-direction: column;align-items: center;background-color: white;padding-right: 0.2em;padding-left: 0.2em;position: relative;}#sk-container-id-1 div.sk-item {position: relative;z-index: 1;}#sk-container-id-1 div.sk-parallel {display: flex;align-items: stretch;justify-content: center;background-color: white;position: relative;}#sk-container-id-1 div.sk-item::before, #sk-container-id-1 div.sk-parallel-item::before {content: \"\";position: absolute;border-left: 1px solid gray;box-sizing: border-box;top: 0;bottom: 0;left: 50%;z-index: -1;}#sk-container-id-1 div.sk-parallel-item {display: flex;flex-direction: column;z-index: 1;position: relative;background-color: white;}#sk-container-id-1 div.sk-parallel-item:first-child::after {align-self: flex-end;width: 50%;}#sk-container-id-1 div.sk-parallel-item:last-child::after {align-self: flex-start;width: 50%;}#sk-container-id-1 div.sk-parallel-item:only-child::after {width: 0;}#sk-container-id-1 div.sk-dashed-wrapped {border: 1px dashed gray;margin: 0 0.4em 0.5em 0.4em;box-sizing: border-box;padding-bottom: 0.4em;background-color: white;}#sk-container-id-1 div.sk-label label {font-family: monospace;font-weight: bold;display: inline-block;line-height: 1.2em;}#sk-container-id-1 div.sk-label-container {text-align: center;}#sk-container-id-1 div.sk-container {/* jupyter's `normalize.less` sets `[hidden] { display: none; }` but bootstrap.min.css set `[hidden] { display: none !important; }` so we also need the `!important` here to be able to override the default hidden behavior on the sphinx rendered scikit-learn.org. See: https://github.com/scikit-learn/scikit-learn/issues/21755 */display: inline-block !important;position: relative;}#sk-container-id-1 div.sk-text-repr-fallback {display: none;}</style><div id=\"sk-container-id-1\" class=\"sk-top-container\"><div class=\"sk-text-repr-fallback\"><pre>Pipeline(steps=[(&#x27;scale&#x27;, None), (&#x27;model&#x27;, LogisticRegression(C=0.1))])</pre><b>In a Jupyter environment, please rerun this cell to show the HTML representation or trust the notebook. <br />On GitHub, the HTML representation is unable to render, please try loading this page with nbviewer.org.</b></div><div class=\"sk-container\" hidden><div class=\"sk-item sk-dashed-wrapped\"><div class=\"sk-label-container\"><div class=\"sk-label sk-toggleable\"><input class=\"sk-toggleable__control sk-hidden--visually\" id=\"sk-estimator-id-1\" type=\"checkbox\" ><label for=\"sk-estimator-id-1\" class=\"sk-toggleable__label sk-toggleable__label-arrow\">Pipeline</label><div class=\"sk-toggleable__content\"><pre>Pipeline(steps=[(&#x27;scale&#x27;, None), (&#x27;model&#x27;, LogisticRegression(C=0.1))])</pre></div></div></div><div class=\"sk-serial\"><div class=\"sk-item\"><div class=\"sk-estimator sk-toggleable\"><input class=\"sk-toggleable__control sk-hidden--visually\" id=\"sk-estimator-id-2\" type=\"checkbox\" ><label for=\"sk-estimator-id-2\" class=\"sk-toggleable__label sk-toggleable__label-arrow\">None</label><div class=\"sk-toggleable__content\"><pre>None</pre></div></div></div><div class=\"sk-item\"><div class=\"sk-estimator sk-toggleable\"><input class=\"sk-toggleable__control sk-hidden--visually\" id=\"sk-estimator-id-3\" type=\"checkbox\" ><label for=\"sk-estimator-id-3\" class=\"sk-toggleable__label sk-toggleable__label-arrow\">LogisticRegression</label><div class=\"sk-toggleable__content\"><pre>LogisticRegression(C=0.1)</pre></div></div></div></div></div></div></div>"
      ],
      "text/plain": [
       "Pipeline(steps=[('scale', None), ('model', LogisticRegression(C=0.1))])"
      ]
     },
     "execution_count": 32,
     "metadata": {},
     "output_type": "execute_result"
    }
   ],
   "source": [
    "model.fit(X_train, y_train.values.ravel())"
   ]
  },
  {
   "cell_type": "code",
   "execution_count": 33,
   "id": "af59f8c0",
   "metadata": {
    "execution": {
     "iopub.execute_input": "2025-08-05T15:29:16.548083Z",
     "iopub.status.busy": "2025-08-05T15:29:16.547728Z",
     "iopub.status.idle": "2025-08-05T15:29:16.552251Z",
     "shell.execute_reply": "2025-08-05T15:29:16.551395Z"
    },
    "papermill": {
     "duration": 0.017201,
     "end_time": "2025-08-05T15:29:16.553771",
     "exception": false,
     "start_time": "2025-08-05T15:29:16.536570",
     "status": "completed"
    },
    "tags": []
   },
   "outputs": [],
   "source": [
    "from fairness_multiverse.universe import predict_w_threshold"
   ]
  },
  {
   "cell_type": "code",
   "execution_count": 34,
   "id": "a7cf2e16",
   "metadata": {
    "execution": {
     "iopub.execute_input": "2025-08-05T15:29:16.576120Z",
     "iopub.status.busy": "2025-08-05T15:29:16.575606Z",
     "iopub.status.idle": "2025-08-05T15:29:16.657980Z",
     "shell.execute_reply": "2025-08-05T15:29:16.657128Z"
    },
    "papermill": {
     "duration": 0.094776,
     "end_time": "2025-08-05T15:29:16.659291",
     "exception": false,
     "start_time": "2025-08-05T15:29:16.564515",
     "status": "completed"
    },
    "tags": []
   },
   "outputs": [
    {
     "data": {
      "text/plain": [
       "0.8594025192286255"
      ]
     },
     "execution_count": 34,
     "metadata": {},
     "output_type": "execute_result"
    }
   ],
   "source": [
    "probs_test = model.predict_proba(X_test)\n",
    "\n",
    "'''\n",
    "Below code returns a boolean array (or binary 0/1 array depending on how it’s used) where each element \n",
    "is True if the probability of class 1 is greater than or equal to the threshold, and False otherwise.\n",
    "'''\n",
    "y_pred_default = predict_w_threshold(probs_test, 0.5)\n",
    "\n",
    "from sklearn.metrics import accuracy_score\n",
    "\n",
    "# Naive prediction\n",
    "accuracy_score(y_true = y_true, y_pred = y_pred_default)"
   ]
  },
  {
   "cell_type": "code",
   "execution_count": 35,
   "id": "081964c3",
   "metadata": {
    "execution": {
     "iopub.execute_input": "2025-08-05T15:29:16.681055Z",
     "iopub.status.busy": "2025-08-05T15:29:16.680764Z",
     "iopub.status.idle": "2025-08-05T15:29:16.754076Z",
     "shell.execute_reply": "2025-08-05T15:29:16.753024Z"
    },
    "papermill": {
     "duration": 0.085332,
     "end_time": "2025-08-05T15:29:16.755381",
     "exception": false,
     "start_time": "2025-08-05T15:29:16.670049",
     "status": "completed"
    },
    "tags": []
   },
   "outputs": [
    {
     "data": {
      "text/plain": [
       "array([0, 0, 0, ..., 0, 0, 0])"
      ]
     },
     "execution_count": 35,
     "metadata": {},
     "output_type": "execute_result"
    }
   ],
   "source": [
    "model.predict(X_test)"
   ]
  },
  {
   "cell_type": "markdown",
   "id": "56c9705b",
   "metadata": {
    "papermill": {
     "duration": 0.010288,
     "end_time": "2025-08-05T15:29:16.776534",
     "exception": false,
     "start_time": "2025-08-05T15:29:16.766246",
     "status": "completed"
    },
    "tags": []
   },
   "source": [
    "# Conformal Prediction"
   ]
  },
  {
   "cell_type": "code",
   "execution_count": 36,
   "id": "160ec6ff",
   "metadata": {
    "execution": {
     "iopub.execute_input": "2025-08-05T15:29:16.798527Z",
     "iopub.status.busy": "2025-08-05T15:29:16.797798Z",
     "iopub.status.idle": "2025-08-05T15:29:16.802157Z",
     "shell.execute_reply": "2025-08-05T15:29:16.801311Z"
    },
    "papermill": {
     "duration": 0.016842,
     "end_time": "2025-08-05T15:29:16.803577",
     "exception": false,
     "start_time": "2025-08-05T15:29:16.786735",
     "status": "completed"
    },
    "tags": []
   },
   "outputs": [],
   "source": [
    "# Miscoverage level for conformal prediction (10% allowed error rate => 90% target coverage)\n",
    "alpha = 0.1"
   ]
  },
  {
   "cell_type": "code",
   "execution_count": 37,
   "id": "eadf4555-3dd3-440e-8e35-f82a4ad9f855",
   "metadata": {
    "execution": {
     "iopub.execute_input": "2025-08-05T15:29:16.825841Z",
     "iopub.status.busy": "2025-08-05T15:29:16.825622Z",
     "iopub.status.idle": "2025-08-05T15:29:16.895821Z",
     "shell.execute_reply": "2025-08-05T15:29:16.895028Z"
    },
    "papermill": {
     "duration": 0.082511,
     "end_time": "2025-08-05T15:29:16.897335",
     "exception": false,
     "start_time": "2025-08-05T15:29:16.814824",
     "status": "completed"
    },
    "tags": []
   },
   "outputs": [],
   "source": [
    "probs_calib = model.predict_proba(X_calib)"
   ]
  },
  {
   "cell_type": "code",
   "execution_count": 38,
   "id": "2ed93547-6d5d-4983-9b36-1ecb300da49a",
   "metadata": {
    "execution": {
     "iopub.execute_input": "2025-08-05T15:29:16.919668Z",
     "iopub.status.busy": "2025-08-05T15:29:16.919233Z",
     "iopub.status.idle": "2025-08-05T15:29:16.924300Z",
     "shell.execute_reply": "2025-08-05T15:29:16.923451Z"
    },
    "papermill": {
     "duration": 0.017581,
     "end_time": "2025-08-05T15:29:16.925784",
     "exception": false,
     "start_time": "2025-08-05T15:29:16.908203",
     "status": "completed"
    },
    "tags": []
   },
   "outputs": [],
   "source": [
    "y_calib = y_calib.values.ravel().astype(int)"
   ]
  },
  {
   "cell_type": "code",
   "execution_count": 39,
   "id": "65d1320d-f588-4b38-9072-62af1ae97f7d",
   "metadata": {
    "execution": {
     "iopub.execute_input": "2025-08-05T15:29:16.947878Z",
     "iopub.status.busy": "2025-08-05T15:29:16.947662Z",
     "iopub.status.idle": "2025-08-05T15:29:16.953054Z",
     "shell.execute_reply": "2025-08-05T15:29:16.952237Z"
    },
    "papermill": {
     "duration": 0.017811,
     "end_time": "2025-08-05T15:29:16.954633",
     "exception": false,
     "start_time": "2025-08-05T15:29:16.936822",
     "status": "completed"
    },
    "tags": []
   },
   "outputs": [],
   "source": [
    "from fairness_multiverse.conformal import compute_nc_scores\n",
    "\n",
    "# Compute nonconformity scores on calibration set (1 - probability of true class)\n",
    "nc_scores = compute_nc_scores(probs_calib, y_calib)"
   ]
  },
  {
   "cell_type": "code",
   "execution_count": 40,
   "id": "df3b8ca3-53b7-43d5-9667-7c85da7aeda2",
   "metadata": {
    "execution": {
     "iopub.execute_input": "2025-08-05T15:29:16.976407Z",
     "iopub.status.busy": "2025-08-05T15:29:16.976188Z",
     "iopub.status.idle": "2025-08-05T15:29:16.981154Z",
     "shell.execute_reply": "2025-08-05T15:29:16.980368Z"
    },
    "papermill": {
     "duration": 0.017429,
     "end_time": "2025-08-05T15:29:16.982718",
     "exception": false,
     "start_time": "2025-08-05T15:29:16.965289",
     "status": "completed"
    },
    "tags": []
   },
   "outputs": [],
   "source": [
    "from fairness_multiverse.conformal import find_threshold\n",
    "\n",
    "# Find conformal threshold q_hat for the given alpha (split conformal method)\n",
    "q_hat = find_threshold(nc_scores, alpha)"
   ]
  },
  {
   "cell_type": "code",
   "execution_count": 41,
   "id": "4d29e6c1-0ef6-4aa4-b8fe-4fe79b0d033a",
   "metadata": {
    "execution": {
     "iopub.execute_input": "2025-08-05T15:29:17.005339Z",
     "iopub.status.busy": "2025-08-05T15:29:17.004844Z",
     "iopub.status.idle": "2025-08-05T15:29:17.010964Z",
     "shell.execute_reply": "2025-08-05T15:29:17.010151Z"
    },
    "papermill": {
     "duration": 0.018678,
     "end_time": "2025-08-05T15:29:17.012395",
     "exception": false,
     "start_time": "2025-08-05T15:29:16.993717",
     "status": "completed"
    },
    "tags": []
   },
   "outputs": [
    {
     "data": {
      "text/plain": [
       "0.6662339183885149"
      ]
     },
     "execution_count": 41,
     "metadata": {},
     "output_type": "execute_result"
    }
   ],
   "source": [
    "q_hat"
   ]
  },
  {
   "cell_type": "code",
   "execution_count": 42,
   "id": "92460794-cdac-4be2-ba28-f28c0515a6fb",
   "metadata": {
    "execution": {
     "iopub.execute_input": "2025-08-05T15:29:17.035674Z",
     "iopub.status.busy": "2025-08-05T15:29:17.035153Z",
     "iopub.status.idle": "2025-08-05T15:29:17.821375Z",
     "shell.execute_reply": "2025-08-05T15:29:17.820559Z"
    },
    "papermill": {
     "duration": 0.79928,
     "end_time": "2025-08-05T15:29:17.822818",
     "exception": false,
     "start_time": "2025-08-05T15:29:17.023538",
     "status": "completed"
    },
    "tags": []
   },
   "outputs": [],
   "source": [
    "from fairness_multiverse.conformal import predict_conformal_sets\n",
    "\n",
    "# Generate prediction sets for each test example\n",
    "pred_sets = predict_conformal_sets(model, X_test, q_hat)"
   ]
  },
  {
   "cell_type": "code",
   "execution_count": 43,
   "id": "d90c9a65-e6db-4f5d-80cd-e68fb7e46829",
   "metadata": {
    "execution": {
     "iopub.execute_input": "2025-08-05T15:29:17.846483Z",
     "iopub.status.busy": "2025-08-05T15:29:17.845802Z",
     "iopub.status.idle": "2025-08-05T15:29:17.850626Z",
     "shell.execute_reply": "2025-08-05T15:29:17.849878Z"
    },
    "papermill": {
     "duration": 0.017801,
     "end_time": "2025-08-05T15:29:17.852099",
     "exception": false,
     "start_time": "2025-08-05T15:29:17.834298",
     "status": "completed"
    },
    "tags": []
   },
   "outputs": [],
   "source": [
    "y_true = y_true.squeeze()"
   ]
  },
  {
   "cell_type": "code",
   "execution_count": 44,
   "id": "3a58a54a-1e68-46b9-927a-df01f18aebc8",
   "metadata": {
    "execution": {
     "iopub.execute_input": "2025-08-05T15:29:17.875365Z",
     "iopub.status.busy": "2025-08-05T15:29:17.874866Z",
     "iopub.status.idle": "2025-08-05T15:29:18.377571Z",
     "shell.execute_reply": "2025-08-05T15:29:18.376761Z"
    },
    "papermill": {
     "duration": 0.515621,
     "end_time": "2025-08-05T15:29:18.379124",
     "exception": false,
     "start_time": "2025-08-05T15:29:17.863503",
     "status": "completed"
    },
    "tags": []
   },
   "outputs": [],
   "source": [
    "from fairness_multiverse.conformal import evaluate_sets\n",
    "\n",
    "# Evaluate coverage and average set size on test data\n",
    "metrics = evaluate_sets(pred_sets, y_true)"
   ]
  },
  {
   "cell_type": "markdown",
   "id": "2b569c12-9aaa-4c88-98c9-bbcd0cf3ebb8",
   "metadata": {
    "papermill": {
     "duration": 0.010643,
     "end_time": "2025-08-05T15:29:18.403724",
     "exception": false,
     "start_time": "2025-08-05T15:29:18.393081",
     "status": "completed"
    },
    "tags": []
   },
   "source": [
    "# CP Metrics"
   ]
  },
  {
   "cell_type": "code",
   "execution_count": 45,
   "id": "5ce0a5cb-201f-45a0-ade5-94c7f0bd6095",
   "metadata": {
    "execution": {
     "iopub.execute_input": "2025-08-05T15:29:18.426699Z",
     "iopub.status.busy": "2025-08-05T15:29:18.426047Z",
     "iopub.status.idle": "2025-08-05T15:29:18.432276Z",
     "shell.execute_reply": "2025-08-05T15:29:18.431448Z"
    },
    "papermill": {
     "duration": 0.019178,
     "end_time": "2025-08-05T15:29:18.433745",
     "exception": false,
     "start_time": "2025-08-05T15:29:18.414567",
     "status": "completed"
    },
    "tags": []
   },
   "outputs": [
    {
     "data": {
      "text/plain": [
       "{'coverage': 0.9111024411994204, 'avg_size': 1.2214022962880393}"
      ]
     },
     "execution_count": 45,
     "metadata": {},
     "output_type": "execute_result"
    }
   ],
   "source": [
    "metrics"
   ]
  },
  {
   "cell_type": "code",
   "execution_count": 46,
   "id": "9b9a838d-31c9-430b-ae14-12baee460d17",
   "metadata": {
    "execution": {
     "iopub.execute_input": "2025-08-05T15:29:18.456504Z",
     "iopub.status.busy": "2025-08-05T15:29:18.456286Z",
     "iopub.status.idle": "2025-08-05T15:29:18.461213Z",
     "shell.execute_reply": "2025-08-05T15:29:18.460468Z"
    },
    "papermill": {
     "duration": 0.017904,
     "end_time": "2025-08-05T15:29:18.462820",
     "exception": false,
     "start_time": "2025-08-05T15:29:18.444916",
     "status": "completed"
    },
    "tags": []
   },
   "outputs": [],
   "source": [
    "example_universe = universe.copy()\n",
    "universe_training_year = example_universe.get(\"training_year\")\n",
    "universe_training_size = example_universe.get(\"training_size\")\n",
    "universe_scale = example_universe.get(\"scale\")\n",
    "universe_model = example_universe.get(\"model\")\n",
    "universe_exclude_features = example_universe.get(\"exclude_features\")\n",
    "universe_exclude_subgroups = example_universe.get(\"exclude_subgroups\")"
   ]
  },
  {
   "cell_type": "code",
   "execution_count": 47,
   "id": "f4b6a8ac-9dc0-4245-8a91-5b3b5999c4f9",
   "metadata": {
    "execution": {
     "iopub.execute_input": "2025-08-05T15:29:18.487579Z",
     "iopub.status.busy": "2025-08-05T15:29:18.487075Z",
     "iopub.status.idle": "2025-08-05T15:29:18.492063Z",
     "shell.execute_reply": "2025-08-05T15:29:18.491304Z"
    },
    "papermill": {
     "duration": 0.017879,
     "end_time": "2025-08-05T15:29:18.493566",
     "exception": false,
     "start_time": "2025-08-05T15:29:18.475687",
     "status": "completed"
    },
    "tags": []
   },
   "outputs": [],
   "source": [
    "cp_metrics_dict = {\n",
    "    \"universe_id\": [universe_id],\n",
    "    \"universe_training_year\": [universe_training_year],\n",
    "    \"universe_training_size\": [universe_training_size],\n",
    "    \"universe_scale\": [universe_scale],\n",
    "    \"universe_model\": [universe_model],\n",
    "    \"universe_exclude_features\": [universe_exclude_features],\n",
    "    \"universe_exclude_subgroups\": [universe_exclude_subgroups],\n",
    "    \"q_hat\": [q_hat],\n",
    "    \"coverage\": [metrics[\"coverage\"]],\n",
    "    \"avg_size\": [metrics[\"avg_size\"]],\n",
    "}"
   ]
  },
  {
   "cell_type": "code",
   "execution_count": 48,
   "id": "908acbb1-0371-4915-85ca-3fa520d2efe2",
   "metadata": {
    "execution": {
     "iopub.execute_input": "2025-08-05T15:29:18.516793Z",
     "iopub.status.busy": "2025-08-05T15:29:18.516191Z",
     "iopub.status.idle": "2025-08-05T15:29:18.522539Z",
     "shell.execute_reply": "2025-08-05T15:29:18.521616Z"
    },
    "papermill": {
     "duration": 0.019122,
     "end_time": "2025-08-05T15:29:18.524040",
     "exception": false,
     "start_time": "2025-08-05T15:29:18.504918",
     "status": "completed"
    },
    "tags": []
   },
   "outputs": [
    {
     "data": {
      "text/plain": [
       "{'universe_id': ['cb3961f5fb277a18f9cc8704b3aa3612'],\n",
       " 'universe_training_year': ['2014'],\n",
       " 'universe_training_size': ['5k'],\n",
       " 'universe_scale': ['do-not-scale'],\n",
       " 'universe_model': ['penalized_logreg'],\n",
       " 'universe_exclude_features': ['nationality-sex'],\n",
       " 'universe_exclude_subgroups': ['drop-non-german'],\n",
       " 'q_hat': [0.6662339183885149],\n",
       " 'coverage': [0.9111024411994204],\n",
       " 'avg_size': [1.2214022962880393]}"
      ]
     },
     "execution_count": 48,
     "metadata": {},
     "output_type": "execute_result"
    }
   ],
   "source": [
    "cp_metrics_dict"
   ]
  },
  {
   "cell_type": "code",
   "execution_count": 49,
   "id": "33007efc-14e9-4ec6-97ac-56a455c82265",
   "metadata": {
    "execution": {
     "iopub.execute_input": "2025-08-05T15:29:18.547703Z",
     "iopub.status.busy": "2025-08-05T15:29:18.547202Z",
     "iopub.status.idle": "2025-08-05T15:29:18.552340Z",
     "shell.execute_reply": "2025-08-05T15:29:18.551539Z"
    },
    "papermill": {
     "duration": 0.018262,
     "end_time": "2025-08-05T15:29:18.553888",
     "exception": false,
     "start_time": "2025-08-05T15:29:18.535626",
     "status": "completed"
    },
    "tags": []
   },
   "outputs": [],
   "source": [
    "cp_metrics_df = pd.DataFrame(cp_metrics_dict)"
   ]
  },
  {
   "cell_type": "code",
   "execution_count": 50,
   "id": "db12611b-57b2-4910-b9d0-355adfd6e7bf",
   "metadata": {
    "execution": {
     "iopub.execute_input": "2025-08-05T15:29:18.577303Z",
     "iopub.status.busy": "2025-08-05T15:29:18.577085Z",
     "iopub.status.idle": "2025-08-05T15:29:18.590973Z",
     "shell.execute_reply": "2025-08-05T15:29:18.590227Z"
    },
    "papermill": {
     "duration": 0.026749,
     "end_time": "2025-08-05T15:29:18.592257",
     "exception": false,
     "start_time": "2025-08-05T15:29:18.565508",
     "status": "completed"
    },
    "tags": []
   },
   "outputs": [
    {
     "data": {
      "text/html": [
       "<div>\n",
       "<style scoped>\n",
       "    .dataframe tbody tr th:only-of-type {\n",
       "        vertical-align: middle;\n",
       "    }\n",
       "\n",
       "    .dataframe tbody tr th {\n",
       "        vertical-align: top;\n",
       "    }\n",
       "\n",
       "    .dataframe thead th {\n",
       "        text-align: right;\n",
       "    }\n",
       "</style>\n",
       "<table border=\"1\" class=\"dataframe\">\n",
       "  <thead>\n",
       "    <tr style=\"text-align: right;\">\n",
       "      <th></th>\n",
       "      <th>universe_id</th>\n",
       "      <th>universe_training_year</th>\n",
       "      <th>universe_training_size</th>\n",
       "      <th>universe_scale</th>\n",
       "      <th>universe_model</th>\n",
       "      <th>universe_exclude_features</th>\n",
       "      <th>universe_exclude_subgroups</th>\n",
       "      <th>q_hat</th>\n",
       "      <th>coverage</th>\n",
       "      <th>avg_size</th>\n",
       "    </tr>\n",
       "  </thead>\n",
       "  <tbody>\n",
       "    <tr>\n",
       "      <th>0</th>\n",
       "      <td>cb3961f5fb277a18f9cc8704b3aa3612</td>\n",
       "      <td>2014</td>\n",
       "      <td>5k</td>\n",
       "      <td>do-not-scale</td>\n",
       "      <td>penalized_logreg</td>\n",
       "      <td>nationality-sex</td>\n",
       "      <td>drop-non-german</td>\n",
       "      <td>0.666234</td>\n",
       "      <td>0.911102</td>\n",
       "      <td>1.221402</td>\n",
       "    </tr>\n",
       "  </tbody>\n",
       "</table>\n",
       "</div>"
      ],
      "text/plain": [
       "                        universe_id universe_training_year  \\\n",
       "0  cb3961f5fb277a18f9cc8704b3aa3612                   2014   \n",
       "\n",
       "  universe_training_size universe_scale    universe_model  \\\n",
       "0                     5k   do-not-scale  penalized_logreg   \n",
       "\n",
       "  universe_exclude_features universe_exclude_subgroups     q_hat  coverage  \\\n",
       "0           nationality-sex            drop-non-german  0.666234  0.911102   \n",
       "\n",
       "   avg_size  \n",
       "0  1.221402  "
      ]
     },
     "execution_count": 50,
     "metadata": {},
     "output_type": "execute_result"
    }
   ],
   "source": [
    "cp_metrics_df"
   ]
  },
  {
   "cell_type": "code",
   "execution_count": 51,
   "id": "b7fbde55-a0a1-47e4-9af6-fe4a17fa8c61",
   "metadata": {
    "execution": {
     "iopub.execute_input": "2025-08-05T15:29:18.615606Z",
     "iopub.status.busy": "2025-08-05T15:29:18.615382Z",
     "iopub.status.idle": "2025-08-05T15:29:18.619809Z",
     "shell.execute_reply": "2025-08-05T15:29:18.618812Z"
    },
    "papermill": {
     "duration": 0.017865,
     "end_time": "2025-08-05T15:29:18.621484",
     "exception": false,
     "start_time": "2025-08-05T15:29:18.603619",
     "status": "completed"
    },
    "tags": []
   },
   "outputs": [],
   "source": [
    "# Conditional Coverage & looking at subgroups"
   ]
  },
  {
   "cell_type": "code",
   "execution_count": 52,
   "id": "027ae886-68dd-4141-96c7-805a5450e1ef",
   "metadata": {
    "execution": {
     "iopub.execute_input": "2025-08-05T15:29:18.646140Z",
     "iopub.status.busy": "2025-08-05T15:29:18.645616Z",
     "iopub.status.idle": "2025-08-05T15:29:18.814756Z",
     "shell.execute_reply": "2025-08-05T15:29:18.813972Z"
    },
    "papermill": {
     "duration": 0.182177,
     "end_time": "2025-08-05T15:29:18.816137",
     "exception": false,
     "start_time": "2025-08-05T15:29:18.633960",
     "status": "completed"
    },
    "tags": []
   },
   "outputs": [],
   "source": [
    "from fairness_multiverse.conformal import build_cp_groups\n",
    "\n",
    "cp_groups_df = build_cp_groups(pred_sets, y_true, X_test.index, org_test)\n",
    "#needs universe_id and setting"
   ]
  },
  {
   "cell_type": "code",
   "execution_count": 53,
   "id": "6cbdab96-b2b2-45af-ad54-d0516db2e28d",
   "metadata": {
    "execution": {
     "iopub.execute_input": "2025-08-05T15:29:18.840641Z",
     "iopub.status.busy": "2025-08-05T15:29:18.839969Z",
     "iopub.status.idle": "2025-08-05T15:29:20.419654Z",
     "shell.execute_reply": "2025-08-05T15:29:20.418576Z"
    },
    "papermill": {
     "duration": 1.59346,
     "end_time": "2025-08-05T15:29:20.421683",
     "exception": false,
     "start_time": "2025-08-05T15:29:18.828223",
     "status": "completed"
    },
    "tags": []
   },
   "outputs": [],
   "source": [
    "# Define covered = 1 if true_label is in the predicted set\n",
    "cp_groups_df['covered'] = cp_groups_df.apply(\n",
    "    lambda r: int(r['true_label'] in r['pred_set']),\n",
    "    axis=1\n",
    ")"
   ]
  },
  {
   "cell_type": "code",
   "execution_count": 54,
   "id": "338ff529-1a6b-4b87-a931-8e4788d52aad",
   "metadata": {
    "execution": {
     "iopub.execute_input": "2025-08-05T15:29:20.474901Z",
     "iopub.status.busy": "2025-08-05T15:29:20.473972Z",
     "iopub.status.idle": "2025-08-05T15:29:20.479240Z",
     "shell.execute_reply": "2025-08-05T15:29:20.478321Z"
    },
    "papermill": {
     "duration": 0.032249,
     "end_time": "2025-08-05T15:29:20.481239",
     "exception": false,
     "start_time": "2025-08-05T15:29:20.448990",
     "status": "completed"
    },
    "tags": []
   },
   "outputs": [],
   "source": [
    "#cp_groups_df"
   ]
  },
  {
   "cell_type": "code",
   "execution_count": 55,
   "id": "90032e27-66df-4540-9169-4e89cfbaa758",
   "metadata": {
    "execution": {
     "iopub.execute_input": "2025-08-05T15:29:20.537954Z",
     "iopub.status.busy": "2025-08-05T15:29:20.537228Z",
     "iopub.status.idle": "2025-08-05T15:29:20.551065Z",
     "shell.execute_reply": "2025-08-05T15:29:20.549992Z"
    },
    "papermill": {
     "duration": 0.044269,
     "end_time": "2025-08-05T15:29:20.552940",
     "exception": false,
     "start_time": "2025-08-05T15:29:20.508671",
     "status": "completed"
    },
    "tags": []
   },
   "outputs": [],
   "source": [
    "subgroups = ['frau1','nongerman','nongerman_male','nongerman_female']\n",
    "\n",
    "# Conditional coverage for subgroup==1\n",
    "cond_coverage = {\n",
    "    g: cp_groups_df.loc[cp_groups_df[g]==1, 'covered'].mean()\n",
    "    for g in subgroups\n",
    "}"
   ]
  },
  {
   "cell_type": "code",
   "execution_count": 56,
   "id": "1e348fb1-b9c3-45bc-ba23-f016827a7e0d",
   "metadata": {
    "execution": {
     "iopub.execute_input": "2025-08-05T15:29:20.597847Z",
     "iopub.status.busy": "2025-08-05T15:29:20.597125Z",
     "iopub.status.idle": "2025-08-05T15:29:20.605023Z",
     "shell.execute_reply": "2025-08-05T15:29:20.603854Z"
    },
    "papermill": {
     "duration": 0.03181,
     "end_time": "2025-08-05T15:29:20.606803",
     "exception": false,
     "start_time": "2025-08-05T15:29:20.574993",
     "status": "completed"
    },
    "tags": []
   },
   "outputs": [
    {
     "data": {
      "text/plain": [
       "{'frau1': 0.9083164847014422,\n",
       " 'nongerman': 0.9377982372424634,\n",
       " 'nongerman_male': 0.9505539043501756,\n",
       " 'nongerman_female': 0.9166915052160953}"
      ]
     },
     "execution_count": 56,
     "metadata": {},
     "output_type": "execute_result"
    }
   ],
   "source": [
    "cond_coverage"
   ]
  },
  {
   "cell_type": "code",
   "execution_count": 57,
   "id": "f5093324-c3dd-4d63-bc4c-8d945e5c8bbb",
   "metadata": {
    "execution": {
     "iopub.execute_input": "2025-08-05T15:29:20.652106Z",
     "iopub.status.busy": "2025-08-05T15:29:20.651476Z",
     "iopub.status.idle": "2025-08-05T15:29:20.658925Z",
     "shell.execute_reply": "2025-08-05T15:29:20.657929Z"
    },
    "papermill": {
     "duration": 0.031704,
     "end_time": "2025-08-05T15:29:20.660656",
     "exception": false,
     "start_time": "2025-08-05T15:29:20.628952",
     "status": "completed"
    },
    "tags": []
   },
   "outputs": [],
   "source": [
    "for subgroup, cov in cond_coverage.items():\n",
    "    cp_metrics_df[f\"cov_{subgroup}\"] = cov"
   ]
  },
  {
   "cell_type": "code",
   "execution_count": 58,
   "id": "6e872e10-dbe5-49e8-b554-5030c98ff75d",
   "metadata": {
    "execution": {
     "iopub.execute_input": "2025-08-05T15:29:20.703835Z",
     "iopub.status.busy": "2025-08-05T15:29:20.703141Z",
     "iopub.status.idle": "2025-08-05T15:29:20.720487Z",
     "shell.execute_reply": "2025-08-05T15:29:20.719520Z"
    },
    "papermill": {
     "duration": 0.04082,
     "end_time": "2025-08-05T15:29:20.722265",
     "exception": false,
     "start_time": "2025-08-05T15:29:20.681445",
     "status": "completed"
    },
    "tags": []
   },
   "outputs": [
    {
     "data": {
      "text/html": [
       "<div>\n",
       "<style scoped>\n",
       "    .dataframe tbody tr th:only-of-type {\n",
       "        vertical-align: middle;\n",
       "    }\n",
       "\n",
       "    .dataframe tbody tr th {\n",
       "        vertical-align: top;\n",
       "    }\n",
       "\n",
       "    .dataframe thead th {\n",
       "        text-align: right;\n",
       "    }\n",
       "</style>\n",
       "<table border=\"1\" class=\"dataframe\">\n",
       "  <thead>\n",
       "    <tr style=\"text-align: right;\">\n",
       "      <th></th>\n",
       "      <th>universe_id</th>\n",
       "      <th>universe_training_year</th>\n",
       "      <th>universe_training_size</th>\n",
       "      <th>universe_scale</th>\n",
       "      <th>universe_model</th>\n",
       "      <th>universe_exclude_features</th>\n",
       "      <th>universe_exclude_subgroups</th>\n",
       "      <th>q_hat</th>\n",
       "      <th>coverage</th>\n",
       "      <th>avg_size</th>\n",
       "      <th>cov_frau1</th>\n",
       "      <th>cov_nongerman</th>\n",
       "      <th>cov_nongerman_male</th>\n",
       "      <th>cov_nongerman_female</th>\n",
       "    </tr>\n",
       "  </thead>\n",
       "  <tbody>\n",
       "    <tr>\n",
       "      <th>0</th>\n",
       "      <td>cb3961f5fb277a18f9cc8704b3aa3612</td>\n",
       "      <td>2014</td>\n",
       "      <td>5k</td>\n",
       "      <td>do-not-scale</td>\n",
       "      <td>penalized_logreg</td>\n",
       "      <td>nationality-sex</td>\n",
       "      <td>drop-non-german</td>\n",
       "      <td>0.666234</td>\n",
       "      <td>0.911102</td>\n",
       "      <td>1.221402</td>\n",
       "      <td>0.908316</td>\n",
       "      <td>0.937798</td>\n",
       "      <td>0.950554</td>\n",
       "      <td>0.916692</td>\n",
       "    </tr>\n",
       "  </tbody>\n",
       "</table>\n",
       "</div>"
      ],
      "text/plain": [
       "                        universe_id universe_training_year  \\\n",
       "0  cb3961f5fb277a18f9cc8704b3aa3612                   2014   \n",
       "\n",
       "  universe_training_size universe_scale    universe_model  \\\n",
       "0                     5k   do-not-scale  penalized_logreg   \n",
       "\n",
       "  universe_exclude_features universe_exclude_subgroups     q_hat  coverage  \\\n",
       "0           nationality-sex            drop-non-german  0.666234  0.911102   \n",
       "\n",
       "   avg_size  cov_frau1  cov_nongerman  cov_nongerman_male  \\\n",
       "0  1.221402   0.908316       0.937798            0.950554   \n",
       "\n",
       "   cov_nongerman_female  \n",
       "0              0.916692  "
      ]
     },
     "execution_count": 58,
     "metadata": {},
     "output_type": "execute_result"
    }
   ],
   "source": [
    "cp_metrics_df"
   ]
  },
  {
   "cell_type": "markdown",
   "id": "33774451",
   "metadata": {
    "papermill": {
     "duration": 0.021807,
     "end_time": "2025-08-05T15:29:20.768125",
     "exception": false,
     "start_time": "2025-08-05T15:29:20.746318",
     "status": "completed"
    },
    "tags": []
   },
   "source": [
    "# (Fairness) Metrics"
   ]
  },
  {
   "cell_type": "code",
   "execution_count": 59,
   "id": "debc5d62",
   "metadata": {
    "execution": {
     "iopub.execute_input": "2025-08-05T15:29:20.818706Z",
     "iopub.status.busy": "2025-08-05T15:29:20.817925Z",
     "iopub.status.idle": "2025-08-05T15:29:20.839051Z",
     "shell.execute_reply": "2025-08-05T15:29:20.838160Z"
    },
    "papermill": {
     "duration": 0.047729,
     "end_time": "2025-08-05T15:29:20.840875",
     "exception": false,
     "start_time": "2025-08-05T15:29:20.793146",
     "status": "completed"
    },
    "tags": []
   },
   "outputs": [],
   "source": [
    "# do I need to include maxdeutsch1.missing?\n",
    "\n",
    "import numpy as np\n",
    "\n",
    "colname_to_bin = \"maxdeutsch1\"\n",
    "majority_value = org_train[colname_to_bin].mode()[0]\n",
    "\n",
    "org_test[\"majmin\"] = np.where(org_test[colname_to_bin] == majority_value, \"majority\", \"minority\")"
   ]
  },
  {
   "cell_type": "code",
   "execution_count": 60,
   "id": "06a50de5",
   "metadata": {
    "execution": {
     "iopub.execute_input": "2025-08-05T15:29:20.890004Z",
     "iopub.status.busy": "2025-08-05T15:29:20.889335Z",
     "iopub.status.idle": "2025-08-05T15:29:23.734695Z",
     "shell.execute_reply": "2025-08-05T15:29:23.733746Z"
    },
    "papermill": {
     "duration": 2.872606,
     "end_time": "2025-08-05T15:29:23.736504",
     "exception": false,
     "start_time": "2025-08-05T15:29:20.863898",
     "status": "completed"
    },
    "tags": []
   },
   "outputs": [],
   "source": [
    "example_universe = universe.copy()\n",
    "example_universe[\"cutoff\"] = example_universe[\"cutoff\"][0]\n",
    "example_universe[\"eval_fairness_grouping\"] = example_universe[\"eval_fairness_grouping\"][0]\n",
    "fairness_dict, metric_frame = universe_analysis.compute_metrics(\n",
    "    example_universe,\n",
    "    y_pred_prob=probs_test,\n",
    "    y_test=y_true,\n",
    "    org_test=org_test,\n",
    ")"
   ]
  },
  {
   "cell_type": "markdown",
   "id": "f95d4e02",
   "metadata": {
    "papermill": {
     "duration": 0.020859,
     "end_time": "2025-08-05T15:29:23.778896",
     "exception": false,
     "start_time": "2025-08-05T15:29:23.758037",
     "status": "completed"
    },
    "tags": []
   },
   "source": [
    "# Overall"
   ]
  },
  {
   "cell_type": "markdown",
   "id": "bdee4871",
   "metadata": {
    "papermill": {
     "duration": 0.020961,
     "end_time": "2025-08-05T15:29:23.820852",
     "exception": false,
     "start_time": "2025-08-05T15:29:23.799891",
     "status": "completed"
    },
    "tags": []
   },
   "source": [
    "Fairness\n",
    "Main fairness target: Equalized Odds. Seems to be a better fit than equal opportunity, since we're not only interested in Y = 1. Seems to be a better fit than demographic parity, since we also care about accuracy, not just equal distribution of preds.\n",
    "\n",
    "Pick column for computation of fairness metrics\n",
    "\n",
    "Performance\n",
    "Overall performance measures, most interesting in relation to the measures split by group below"
   ]
  },
  {
   "cell_type": "code",
   "execution_count": 61,
   "id": "c4e067c6",
   "metadata": {
    "execution": {
     "iopub.execute_input": "2025-08-05T15:29:23.864976Z",
     "iopub.status.busy": "2025-08-05T15:29:23.864466Z",
     "iopub.status.idle": "2025-08-05T15:29:23.872755Z",
     "shell.execute_reply": "2025-08-05T15:29:23.871747Z"
    },
    "papermill": {
     "duration": 0.032388,
     "end_time": "2025-08-05T15:29:23.874405",
     "exception": false,
     "start_time": "2025-08-05T15:29:23.842017",
     "status": "completed"
    },
    "tags": []
   },
   "outputs": [
    {
     "data": {
      "text/plain": [
       "accuracy                   0.217267\n",
       "balanced accuracy          0.532736\n",
       "f1                         0.238794\n",
       "precision                  0.136415\n",
       "false positive rate        0.891601\n",
       "false negative rate        0.042927\n",
       "selection rate             0.900000\n",
       "count                  89710.000000\n",
       "dtype: float64"
      ]
     },
     "execution_count": 61,
     "metadata": {},
     "output_type": "execute_result"
    }
   ],
   "source": [
    "metric_frame.overall"
   ]
  },
  {
   "cell_type": "markdown",
   "id": "e968fe9d",
   "metadata": {
    "papermill": {
     "duration": 0.021051,
     "end_time": "2025-08-05T15:29:23.917257",
     "exception": false,
     "start_time": "2025-08-05T15:29:23.896206",
     "status": "completed"
    },
    "tags": []
   },
   "source": [
    "By Group"
   ]
  },
  {
   "cell_type": "code",
   "execution_count": 62,
   "id": "ec325bce",
   "metadata": {
    "execution": {
     "iopub.execute_input": "2025-08-05T15:29:23.963369Z",
     "iopub.status.busy": "2025-08-05T15:29:23.962898Z",
     "iopub.status.idle": "2025-08-05T15:29:23.978797Z",
     "shell.execute_reply": "2025-08-05T15:29:23.977774Z"
    },
    "papermill": {
     "duration": 0.042259,
     "end_time": "2025-08-05T15:29:23.980378",
     "exception": false,
     "start_time": "2025-08-05T15:29:23.938119",
     "status": "completed"
    },
    "tags": []
   },
   "outputs": [
    {
     "data": {
      "text/html": [
       "<div>\n",
       "<style scoped>\n",
       "    .dataframe tbody tr th:only-of-type {\n",
       "        vertical-align: middle;\n",
       "    }\n",
       "\n",
       "    .dataframe tbody tr th {\n",
       "        vertical-align: top;\n",
       "    }\n",
       "\n",
       "    .dataframe thead th {\n",
       "        text-align: right;\n",
       "    }\n",
       "</style>\n",
       "<table border=\"1\" class=\"dataframe\">\n",
       "  <thead>\n",
       "    <tr style=\"text-align: right;\">\n",
       "      <th></th>\n",
       "      <th>accuracy</th>\n",
       "      <th>balanced accuracy</th>\n",
       "      <th>f1</th>\n",
       "      <th>precision</th>\n",
       "      <th>false positive rate</th>\n",
       "      <th>false negative rate</th>\n",
       "      <th>selection rate</th>\n",
       "      <th>count</th>\n",
       "    </tr>\n",
       "    <tr>\n",
       "      <th>majmin</th>\n",
       "      <th></th>\n",
       "      <th></th>\n",
       "      <th></th>\n",
       "      <th></th>\n",
       "      <th></th>\n",
       "      <th></th>\n",
       "      <th></th>\n",
       "      <th></th>\n",
       "    </tr>\n",
       "  </thead>\n",
       "  <tbody>\n",
       "    <tr>\n",
       "      <th>majority</th>\n",
       "      <td>0.239164</td>\n",
       "      <td>0.540606</td>\n",
       "      <td>0.248175</td>\n",
       "      <td>0.142723</td>\n",
       "      <td>0.869115</td>\n",
       "      <td>0.049672</td>\n",
       "      <td>0.879847</td>\n",
       "      <td>69170.0</td>\n",
       "    </tr>\n",
       "    <tr>\n",
       "      <th>minority</th>\n",
       "      <td>0.143525</td>\n",
       "      <td>0.508613</td>\n",
       "      <td>0.209277</td>\n",
       "      <td>0.117103</td>\n",
       "      <td>0.965882</td>\n",
       "      <td>0.016892</td>\n",
       "      <td>0.967868</td>\n",
       "      <td>20540.0</td>\n",
       "    </tr>\n",
       "  </tbody>\n",
       "</table>\n",
       "</div>"
      ],
      "text/plain": [
       "          accuracy  balanced accuracy        f1  precision  \\\n",
       "majmin                                                       \n",
       "majority  0.239164           0.540606  0.248175   0.142723   \n",
       "minority  0.143525           0.508613  0.209277   0.117103   \n",
       "\n",
       "          false positive rate  false negative rate  selection rate    count  \n",
       "majmin                                                                       \n",
       "majority             0.869115             0.049672        0.879847  69170.0  \n",
       "minority             0.965882             0.016892        0.967868  20540.0  "
      ]
     },
     "execution_count": 62,
     "metadata": {},
     "output_type": "execute_result"
    }
   ],
   "source": [
    "metric_frame.by_group"
   ]
  },
  {
   "cell_type": "code",
   "execution_count": 63,
   "id": "a9ddbe63",
   "metadata": {
    "execution": {
     "iopub.execute_input": "2025-08-05T15:29:24.024664Z",
     "iopub.status.busy": "2025-08-05T15:29:24.023931Z",
     "iopub.status.idle": "2025-08-05T15:29:26.535440Z",
     "shell.execute_reply": "2025-08-05T15:29:26.534413Z"
    },
    "papermill": {
     "duration": 2.535195,
     "end_time": "2025-08-05T15:29:26.537009",
     "exception": false,
     "start_time": "2025-08-05T15:29:24.001814",
     "status": "completed"
    },
    "tags": []
   },
   "outputs": [
    {
     "data": {
      "text/plain": [
       "array([[<Axes: title={'center': 'accuracy'}, xlabel='majmin'>,\n",
       "        <Axes: title={'center': 'balanced accuracy'}, xlabel='majmin'>,\n",
       "        <Axes: title={'center': 'f1'}, xlabel='majmin'>],\n",
       "       [<Axes: title={'center': 'precision'}, xlabel='majmin'>,\n",
       "        <Axes: title={'center': 'false positive rate'}, xlabel='majmin'>,\n",
       "        <Axes: title={'center': 'false negative rate'}, xlabel='majmin'>],\n",
       "       [<Axes: title={'center': 'selection rate'}, xlabel='majmin'>,\n",
       "        <Axes: title={'center': 'count'}, xlabel='majmin'>,\n",
       "        <Axes: xlabel='majmin'>]], dtype=object)"
      ]
     },
     "execution_count": 63,
     "metadata": {},
     "output_type": "execute_result"
    },
    {
     "data": {
      "image/png": "[encoded data removed]",
      "text/plain": [
       "<Figure size 1200x800 with 9 Axes>"
      ]
     },
     "metadata": {},
     "output_type": "display_data"
    }
   ],
   "source": [
    "# In a graphic\n",
    "metric_frame.by_group.plot.bar(\n",
    "    subplots=True,\n",
    "    layout=[3, 3],\n",
    "    legend=False,\n",
    "    figsize=[12, 8],\n",
    "    title=\"Show all metrics\",\n",
    ")"
   ]
  },
  {
   "cell_type": "markdown",
   "id": "f57a0bac",
   "metadata": {
    "papermill": {
     "duration": 0.023027,
     "end_time": "2025-08-05T15:29:26.585596",
     "exception": false,
     "start_time": "2025-08-05T15:29:26.562569",
     "status": "completed"
    },
    "tags": []
   },
   "source": [
    "# Final Output"
   ]
  },
  {
   "cell_type": "code",
   "execution_count": 64,
   "id": "96d280a3",
   "metadata": {
    "execution": {
     "iopub.execute_input": "2025-08-05T15:29:26.633459Z",
     "iopub.status.busy": "2025-08-05T15:29:26.632437Z",
     "iopub.status.idle": "2025-08-05T15:29:26.641615Z",
     "shell.execute_reply": "2025-08-05T15:29:26.640522Z"
    },
    "papermill": {
     "duration": 0.034197,
     "end_time": "2025-08-05T15:29:26.643205",
     "exception": false,
     "start_time": "2025-08-05T15:29:26.609008",
     "status": "completed"
    },
    "tags": []
   },
   "outputs": [
    {
     "data": {
      "text/plain": [
       "4"
      ]
     },
     "execution_count": 64,
     "metadata": {},
     "output_type": "execute_result"
    }
   ],
   "source": [
    "sub_universes = universe_analysis.generate_sub_universes()\n",
    "len(sub_universes)"
   ]
  },
  {
   "cell_type": "code",
   "execution_count": 65,
   "id": "92adf7ba",
   "metadata": {
    "execution": {
     "iopub.execute_input": "2025-08-05T15:29:26.690417Z",
     "iopub.status.busy": "2025-08-05T15:29:26.690090Z",
     "iopub.status.idle": "2025-08-05T15:29:26.695735Z",
     "shell.execute_reply": "2025-08-05T15:29:26.694369Z"
    },
    "papermill": {
     "duration": 0.03183,
     "end_time": "2025-08-05T15:29:26.697636",
     "exception": false,
     "start_time": "2025-08-05T15:29:26.665806",
     "status": "completed"
    },
    "tags": []
   },
   "outputs": [],
   "source": [
    "def filter_sub_universe_data(sub_universe, org_test):\n",
    "    # Keep all rows — no filtering\n",
    "    keep_rows_mask = np.ones(org_test.shape[0], dtype=bool)\n",
    "\n",
    "    print(f\"[INFO] Keeping all rows: {keep_rows_mask.sum()} rows retained.\")\n",
    "    return keep_rows_mask"
   ]
  },
  {
   "cell_type": "code",
   "execution_count": 66,
   "id": "4a759155",
   "metadata": {
    "execution": {
     "iopub.execute_input": "2025-08-05T15:29:26.746752Z",
     "iopub.status.busy": "2025-08-05T15:29:26.745943Z",
     "iopub.status.idle": "2025-08-05T15:29:37.137785Z",
     "shell.execute_reply": "2025-08-05T15:29:37.136754Z"
    },
    "papermill": {
     "duration": 10.417093,
     "end_time": "2025-08-05T15:29:37.139597",
     "exception": false,
     "start_time": "2025-08-05T15:29:26.722504",
     "status": "completed"
    },
    "tags": []
   },
   "outputs": [
    {
     "name": "stdout",
     "output_type": "stream",
     "text": [
      "Stopping execution_time clock.\n",
      "[INFO] Keeping all rows: 89710 rows retained.\n"
     ]
    },
    {
     "name": "stdout",
     "output_type": "stream",
     "text": [
      "[INFO] Keeping all rows: 89710 rows retained.\n"
     ]
    },
    {
     "name": "stdout",
     "output_type": "stream",
     "text": [
      "[INFO] Keeping all rows: 89710 rows retained.\n"
     ]
    },
    {
     "name": "stdout",
     "output_type": "stream",
     "text": [
      "[INFO] Keeping all rows: 89710 rows retained.\n"
     ]
    },
    {
     "data": {
      "text/html": [
       "<div>\n",
       "<style scoped>\n",
       "    .dataframe tbody tr th:only-of-type {\n",
       "        vertical-align: middle;\n",
       "    }\n",
       "\n",
       "    .dataframe tbody tr th {\n",
       "        vertical-align: top;\n",
       "    }\n",
       "\n",
       "    .dataframe thead th {\n",
       "        text-align: right;\n",
       "    }\n",
       "</style>\n",
       "<table border=\"1\" class=\"dataframe\">\n",
       "  <thead>\n",
       "    <tr style=\"text-align: right;\">\n",
       "      <th></th>\n",
       "      <th>run_no</th>\n",
       "      <th>universe_id</th>\n",
       "      <th>universe_settings</th>\n",
       "      <th>execution_time</th>\n",
       "      <th>test_size_n</th>\n",
       "      <th>test_size_frac</th>\n",
       "      <th>fair_main_equalized_odds_difference</th>\n",
       "      <th>fair_main_equalized_odds_ratio</th>\n",
       "      <th>fair_main_demographic_parity_difference</th>\n",
       "      <th>fair_main_demographic_parity_ratio</th>\n",
       "      <th>...</th>\n",
       "      <th>perf_grp_precision_0</th>\n",
       "      <th>perf_grp_precision_1</th>\n",
       "      <th>perf_grp_false positive rate_0</th>\n",
       "      <th>perf_grp_false positive rate_1</th>\n",
       "      <th>perf_grp_false negative rate_0</th>\n",
       "      <th>perf_grp_false negative rate_1</th>\n",
       "      <th>perf_grp_selection rate_0</th>\n",
       "      <th>perf_grp_selection rate_1</th>\n",
       "      <th>perf_grp_count_0</th>\n",
       "      <th>perf_grp_count_1</th>\n",
       "    </tr>\n",
       "  </thead>\n",
       "  <tbody>\n",
       "    <tr>\n",
       "      <th>0</th>\n",
       "      <td>15</td>\n",
       "      <td>cb3961f5fb277a18f9cc8704b3aa3612</td>\n",
       "      <td>{\"cutoff\": \"quantile_0.1\", \"eval_fairness_grou...</td>\n",
       "      <td>23.077735</td>\n",
       "      <td>89710</td>\n",
       "      <td>1.0</td>\n",
       "      <td>0.096766</td>\n",
       "      <td>0.899816</td>\n",
       "      <td>0.088021</td>\n",
       "      <td>0.909057</td>\n",
       "      <td>...</td>\n",
       "      <td>NaN</td>\n",
       "      <td>NaN</td>\n",
       "      <td>NaN</td>\n",
       "      <td>NaN</td>\n",
       "      <td>NaN</td>\n",
       "      <td>NaN</td>\n",
       "      <td>NaN</td>\n",
       "      <td>NaN</td>\n",
       "      <td>NaN</td>\n",
       "      <td>NaN</td>\n",
       "    </tr>\n",
       "    <tr>\n",
       "      <th>0</th>\n",
       "      <td>15</td>\n",
       "      <td>cb3961f5fb277a18f9cc8704b3aa3612</td>\n",
       "      <td>{\"cutoff\": \"quantile_0.1\", \"eval_fairness_grou...</td>\n",
       "      <td>23.077735</td>\n",
       "      <td>89710</td>\n",
       "      <td>1.0</td>\n",
       "      <td>0.096766</td>\n",
       "      <td>0.899816</td>\n",
       "      <td>0.088021</td>\n",
       "      <td>0.909057</td>\n",
       "      <td>...</td>\n",
       "      <td>0.117103</td>\n",
       "      <td>0.142723</td>\n",
       "      <td>0.965882</td>\n",
       "      <td>0.869115</td>\n",
       "      <td>0.016892</td>\n",
       "      <td>0.049672</td>\n",
       "      <td>0.967868</td>\n",
       "      <td>0.879847</td>\n",
       "      <td>20540.0</td>\n",
       "      <td>69170.0</td>\n",
       "    </tr>\n",
       "    <tr>\n",
       "      <th>0</th>\n",
       "      <td>15</td>\n",
       "      <td>cb3961f5fb277a18f9cc8704b3aa3612</td>\n",
       "      <td>{\"cutoff\": \"quantile_0.25\", \"eval_fairness_gro...</td>\n",
       "      <td>23.077735</td>\n",
       "      <td>89710</td>\n",
       "      <td>1.0</td>\n",
       "      <td>0.221218</td>\n",
       "      <td>0.754356</td>\n",
       "      <td>0.203011</td>\n",
       "      <td>0.776056</td>\n",
       "      <td>...</td>\n",
       "      <td>NaN</td>\n",
       "      <td>NaN</td>\n",
       "      <td>NaN</td>\n",
       "      <td>NaN</td>\n",
       "      <td>NaN</td>\n",
       "      <td>NaN</td>\n",
       "      <td>NaN</td>\n",
       "      <td>NaN</td>\n",
       "      <td>NaN</td>\n",
       "      <td>NaN</td>\n",
       "    </tr>\n",
       "    <tr>\n",
       "      <th>0</th>\n",
       "      <td>15</td>\n",
       "      <td>cb3961f5fb277a18f9cc8704b3aa3612</td>\n",
       "      <td>{\"cutoff\": \"quantile_0.25\", \"eval_fairness_gro...</td>\n",
       "      <td>23.077735</td>\n",
       "      <td>89710</td>\n",
       "      <td>1.0</td>\n",
       "      <td>0.221218</td>\n",
       "      <td>0.754356</td>\n",
       "      <td>0.203011</td>\n",
       "      <td>0.776056</td>\n",
       "      <td>...</td>\n",
       "      <td>0.121106</td>\n",
       "      <td>0.161954</td>\n",
       "      <td>0.900561</td>\n",
       "      <td>0.679344</td>\n",
       "      <td>0.047720</td>\n",
       "      <td>0.137746</td>\n",
       "      <td>0.906524</td>\n",
       "      <td>0.703513</td>\n",
       "      <td>20540.0</td>\n",
       "      <td>69170.0</td>\n",
       "    </tr>\n",
       "  </tbody>\n",
       "</table>\n",
       "<p>4 rows × 50 columns</p>\n",
       "</div>"
      ],
      "text/plain": [
       "  run_no                       universe_id  \\\n",
       "0     15  cb3961f5fb277a18f9cc8704b3aa3612   \n",
       "0     15  cb3961f5fb277a18f9cc8704b3aa3612   \n",
       "0     15  cb3961f5fb277a18f9cc8704b3aa3612   \n",
       "0     15  cb3961f5fb277a18f9cc8704b3aa3612   \n",
       "\n",
       "                                   universe_settings  execution_time  \\\n",
       "0  {\"cutoff\": \"quantile_0.1\", \"eval_fairness_grou...       23.077735   \n",
       "0  {\"cutoff\": \"quantile_0.1\", \"eval_fairness_grou...       23.077735   \n",
       "0  {\"cutoff\": \"quantile_0.25\", \"eval_fairness_gro...       23.077735   \n",
       "0  {\"cutoff\": \"quantile_0.25\", \"eval_fairness_gro...       23.077735   \n",
       "\n",
       "   test_size_n  test_size_frac  fair_main_equalized_odds_difference  \\\n",
       "0        89710             1.0                             0.096766   \n",
       "0        89710             1.0                             0.096766   \n",
       "0        89710             1.0                             0.221218   \n",
       "0        89710             1.0                             0.221218   \n",
       "\n",
       "   fair_main_equalized_odds_ratio  fair_main_demographic_parity_difference  \\\n",
       "0                        0.899816                                 0.088021   \n",
       "0                        0.899816                                 0.088021   \n",
       "0                        0.754356                                 0.203011   \n",
       "0                        0.754356                                 0.203011   \n",
       "\n",
       "   fair_main_demographic_parity_ratio  ...  perf_grp_precision_0  \\\n",
       "0                            0.909057  ...                   NaN   \n",
       "0                            0.909057  ...              0.117103   \n",
       "0                            0.776056  ...                   NaN   \n",
       "0                            0.776056  ...              0.121106   \n",
       "\n",
       "   perf_grp_precision_1  perf_grp_false positive rate_0  \\\n",
       "0                   NaN                             NaN   \n",
       "0              0.142723                        0.965882   \n",
       "0                   NaN                             NaN   \n",
       "0              0.161954                        0.900561   \n",
       "\n",
       "   perf_grp_false positive rate_1  perf_grp_false negative rate_0  \\\n",
       "0                             NaN                             NaN   \n",
       "0                        0.869115                        0.016892   \n",
       "0                             NaN                             NaN   \n",
       "0                        0.679344                        0.047720   \n",
       "\n",
       "   perf_grp_false negative rate_1  perf_grp_selection rate_0  \\\n",
       "0                             NaN                        NaN   \n",
       "0                        0.049672                   0.967868   \n",
       "0                             NaN                        NaN   \n",
       "0                        0.137746                   0.906524   \n",
       "\n",
       "   perf_grp_selection rate_1  perf_grp_count_0  perf_grp_count_1  \n",
       "0                        NaN               NaN               NaN  \n",
       "0                   0.879847           20540.0           69170.0  \n",
       "0                        NaN               NaN               NaN  \n",
       "0                   0.703513           20540.0           69170.0  \n",
       "\n",
       "[4 rows x 50 columns]"
      ]
     },
     "execution_count": 66,
     "metadata": {},
     "output_type": "execute_result"
    }
   ],
   "source": [
    "final_output = universe_analysis.generate_final_output(\n",
    "    y_pred_prob=probs_test,\n",
    "    y_test=y_true,\n",
    "    org_test=org_test,\n",
    "    filter_data=filter_sub_universe_data,\n",
    "    cp_metrics_df=cp_metrics_df,\n",
    "    save=True,\n",
    ")\n",
    "final_output"
   ]
  }
 ],
 "metadata": {
  "celltoolbar": "Tags",
  "kernelspec": {
   "display_name": "Python (CMA Fairness)",
   "language": "python",
   "name": "cma_fair_env"
  },
  "language_info": {
   "codemirror_mode": {
    "name": "ipython",
    "version": 3
   },
   "file_extension": ".py",
   "mimetype": "text/x-python",
   "name": "python",
   "nbconvert_exporter": "python",
   "pygments_lexer": "ipython3",
   "version": "3.10.12"
  },
  "papermill": {
   "default_parameters": {},
   "duration": 37.087945,
   "end_time": "2025-08-05T15:29:37.786428",
   "environment_variables": {},
   "exception": null,
   "input_path": "universe_analysis.ipynb",
   "output_path": "output/runs/15/notebooks/m_15-cb3961f5fb277a18f9cc8704b3aa3612.ipynb",
   "parameters": {
    "output_dir": "output",
    "run_no": "15",
    "seed": "2023",
    "universe": "{\"cutoff\": [\"quantile_0.1\", \"quantile_0.25\"], \"eval_fairness_grouping\": [\"majority-minority\", \"nationality-all\"], \"exclude_features\": \"nationality-sex\", \"exclude_subgroups\": \"drop-non-german\", \"model\": \"penalized_logreg\", \"scale\": \"do-not-scale\", \"training_size\": \"5k\", \"training_year\": \"2014\"}",
    "universe_id": "cb3961f5fb277a18f9cc8704b3aa3612"
   },
   "start_time": "2025-08-05T15:29:00.698483",
   "version": "2.6.0"
  }
 },
 "nbformat": 4,
 "nbformat_minor": 5
}