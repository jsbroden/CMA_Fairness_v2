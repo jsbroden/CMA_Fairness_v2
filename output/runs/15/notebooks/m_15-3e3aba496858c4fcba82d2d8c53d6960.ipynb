{
 "cells": [
  {
   "cell_type": "code",
   "execution_count": 1,
   "id": "f159f837-637b-42ba-96b5-ec9a68c44524",
   "metadata": {
    "execution": {
     "iopub.execute_input": "2025-08-05T15:47:21.232130Z",
     "iopub.status.busy": "2025-08-05T15:47:21.231328Z",
     "iopub.status.idle": "2025-08-05T15:47:21.245402Z",
     "shell.execute_reply": "2025-08-05T15:47:21.244341Z"
    },
    "papermill": {
     "duration": 0.033908,
     "end_time": "2025-08-05T15:47:21.247058",
     "exception": false,
     "start_time": "2025-08-05T15:47:21.213150",
     "status": "completed"
    },
    "tags": []
   },
   "outputs": [
    {
     "name": "stdout",
     "output_type": "stream",
     "text": [
      "/dss/dsshome1/0C/ra93lal2/cma/CMA_Fairness_v2\n"
     ]
    },
    {
     "name": "stderr",
     "output_type": "stream",
     "text": [
      "/dss/dsshome1/0C/ra93lal2/.local/share/virtualenvs/CMA_Fairness_v2-3j10GkSs/lib/python3.10/site-packages/IPython/core/magics/osm.py:393: UserWarning: This is now an optional IPython functionality, using bookmarks requires you to install the `pickleshare` library.\n",
      "  bkms = self.shell.db.get('bookmarks', {})\n",
      "/dss/dsshome1/0C/ra93lal2/.local/share/virtualenvs/CMA_Fairness_v2-3j10GkSs/lib/python3.10/site-packages/IPython/core/magics/osm.py:417: UserWarning: This is now an optional IPython functionality, setting dhist requires you to install the `pickleshare` library.\n",
      "  self.shell.db['dhist'] = compress_dhist(dhist)[-100:]\n"
     ]
    }
   ],
   "source": [
    "%cd ~/cma/CMA_Fairness_v2"
   ]
  },
  {
   "cell_type": "markdown",
   "id": "de2603b9",
   "metadata": {
    "papermill": {
     "duration": 0.015644,
     "end_time": "2025-08-05T15:47:21.279538",
     "exception": false,
     "start_time": "2025-08-05T15:47:21.263894",
     "status": "completed"
    },
    "tags": []
   },
   "source": [
    "The following cell holds the definition of our parameters, these values can be overriden by rendering the with e.g. the following command:\n",
    "\n",
    "papermill -p alpha 0.2 -p ratio 0.3 universe_analysis.ipynb output/test_run.ipynb"
   ]
  },
  {
   "cell_type": "code",
   "execution_count": 2,
   "id": "a80968a0-40bb-4fa9-85ef-2d5eefb01975",
   "metadata": {
    "execution": {
     "iopub.execute_input": "2025-08-05T15:47:21.314188Z",
     "iopub.status.busy": "2025-08-05T15:47:21.313363Z",
     "iopub.status.idle": "2025-08-05T15:47:21.319379Z",
     "shell.execute_reply": "2025-08-05T15:47:21.318414Z"
    },
    "papermill": {
     "duration": 0.025382,
     "end_time": "2025-08-05T15:47:21.321093",
     "exception": false,
     "start_time": "2025-08-05T15:47:21.295711",
     "status": "completed"
    },
    "tags": []
   },
   "outputs": [
    {
     "name": "stdout",
     "output_type": "stream",
     "text": [
      "Current working directory: /dss/dsshome1/0C/ra93lal2/cma/CMA_Fairness_v2\n"
     ]
    }
   ],
   "source": [
    "import os\n",
    "print(\"Current working directory:\", os.getcwd())"
   ]
  },
  {
   "cell_type": "code",
   "execution_count": 3,
   "id": "2dce4c03",
   "metadata": {
    "execution": {
     "iopub.execute_input": "2025-08-05T15:47:21.355805Z",
     "iopub.status.busy": "2025-08-05T15:47:21.355014Z",
     "iopub.status.idle": "2025-08-05T15:47:21.361611Z",
     "shell.execute_reply": "2025-08-05T15:47:21.360586Z"
    },
    "papermill": {
     "duration": 0.02505,
     "end_time": "2025-08-05T15:47:21.363434",
     "exception": false,
     "start_time": "2025-08-05T15:47:21.338384",
     "status": "completed"
    },
    "tags": [
     "parameters"
    ]
   },
   "outputs": [],
   "source": [
    "run_no = 0\n",
    "universe_id = \"test\"\n",
    "universe = {\n",
    "    \"training_size\": \"25k\", # \"25k\", \"5k\", \"1k\"\n",
    "    \"training_year\": \"2014\", # \"2014\", \"2012_14\", \"2010_14\"\n",
    "    \"scale\": \"scale\", # \"scale\", \"do-not-scale\",\n",
    "    \"model\": \"elasticnet\", # \"logreg\", \"penalized_logreg\", \"rf\", \"gbm\", \"elasticnet\"\n",
    "    \"cutoff\": [\"quantile_0.15\", \"quantile_0.30\"],\n",
    "    \"exclude_features\": \"age\", # \"none\", \"nationality\", \"sex\", \"nationality-sex\", \"age\"\n",
    "    \"exclude_subgroups\": \"keep-all\", # \"keep-all\", \"drop-non-german\"\n",
    "    \"eval_fairness_grouping\": [\"majority-minority\", \"nationality-all\"]\n",
    "}\n",
    "\n",
    "output_dir=\"./output\"\n",
    "seed=0"
   ]
  },
  {
   "cell_type": "code",
   "execution_count": 4,
   "id": "467bb223",
   "metadata": {
    "execution": {
     "iopub.execute_input": "2025-08-05T15:47:21.399331Z",
     "iopub.status.busy": "2025-08-05T15:47:21.398338Z",
     "iopub.status.idle": "2025-08-05T15:47:21.403790Z",
     "shell.execute_reply": "2025-08-05T15:47:21.402796Z"
    },
    "papermill": {
     "duration": 0.024941,
     "end_time": "2025-08-05T15:47:21.405726",
     "exception": false,
     "start_time": "2025-08-05T15:47:21.380785",
     "status": "completed"
    },
    "tags": [
     "injected-parameters"
    ]
   },
   "outputs": [],
   "source": [
    "# Parameters\n",
    "universe_id = \"3e3aba496858c4fcba82d2d8c53d6960\"\n",
    "run_no = \"15\"\n",
    "universe = \"{\\\"cutoff\\\": [\\\"quantile_0.1\\\", \\\"quantile_0.25\\\"], \\\"eval_fairness_grouping\\\": [\\\"majority-minority\\\", \\\"nationality-all\\\"], \\\"exclude_features\\\": \\\"age\\\", \\\"exclude_subgroups\\\": \\\"drop-non-german\\\", \\\"model\\\": \\\"elasticnet\\\", \\\"scale\\\": \\\"do-not-scale\\\", \\\"training_size\\\": \\\"5k\\\", \\\"training_year\\\": \\\"2012_14\\\"}\"\n",
    "output_dir = \"output\"\n",
    "seed = \"2023\"\n"
   ]
  },
  {
   "cell_type": "code",
   "execution_count": 5,
   "id": "1650acaf",
   "metadata": {
    "execution": {
     "iopub.execute_input": "2025-08-05T15:47:21.445593Z",
     "iopub.status.busy": "2025-08-05T15:47:21.444681Z",
     "iopub.status.idle": "2025-08-05T15:47:21.450219Z",
     "shell.execute_reply": "2025-08-05T15:47:21.449153Z"
    },
    "papermill": {
     "duration": 0.027039,
     "end_time": "2025-08-05T15:47:21.452226",
     "exception": false,
     "start_time": "2025-08-05T15:47:21.425187",
     "status": "completed"
    },
    "tags": []
   },
   "outputs": [],
   "source": [
    "import json\n",
    "if isinstance(universe, str):\n",
    "    universe = json.loads(universe)"
   ]
  },
  {
   "cell_type": "code",
   "execution_count": 6,
   "id": "16620c48",
   "metadata": {
    "execution": {
     "iopub.execute_input": "2025-08-05T15:47:21.491286Z",
     "iopub.status.busy": "2025-08-05T15:47:21.490558Z",
     "iopub.status.idle": "2025-08-05T15:47:21.535415Z",
     "shell.execute_reply": "2025-08-05T15:47:21.534375Z"
    },
    "papermill": {
     "duration": 0.066331,
     "end_time": "2025-08-05T15:47:21.537426",
     "exception": false,
     "start_time": "2025-08-05T15:47:21.471095",
     "status": "completed"
    },
    "tags": []
   },
   "outputs": [],
   "source": [
    "# Auto-reload the custom package\n",
    "%load_ext autoreload\n",
    "%autoreload 1\n",
    "%aimport fairness_multiverse"
   ]
  },
  {
   "cell_type": "code",
   "execution_count": 7,
   "id": "01c5c9f3",
   "metadata": {
    "execution": {
     "iopub.execute_input": "2025-08-05T15:47:21.576066Z",
     "iopub.status.busy": "2025-08-05T15:47:21.575532Z",
     "iopub.status.idle": "2025-08-05T15:47:23.417589Z",
     "shell.execute_reply": "2025-08-05T15:47:23.416601Z"
    },
    "papermill": {
     "duration": 1.863324,
     "end_time": "2025-08-05T15:47:23.419470",
     "exception": false,
     "start_time": "2025-08-05T15:47:21.556146",
     "status": "completed"
    },
    "tags": []
   },
   "outputs": [],
   "source": [
    "from fairness_multiverse.universe import UniverseAnalysis\n",
    "\n",
    "universe_analysis = UniverseAnalysis(\n",
    "    run_no = run_no,\n",
    "    universe_id = universe_id,\n",
    "    universe = universe,\n",
    "    output_dir=output_dir,\n",
    ")"
   ]
  },
  {
   "cell_type": "code",
   "execution_count": 8,
   "id": "106241f5",
   "metadata": {
    "execution": {
     "iopub.execute_input": "2025-08-05T15:47:23.453942Z",
     "iopub.status.busy": "2025-08-05T15:47:23.453204Z",
     "iopub.status.idle": "2025-08-05T15:47:23.459946Z",
     "shell.execute_reply": "2025-08-05T15:47:23.458840Z"
    },
    "papermill": {
     "duration": 0.025679,
     "end_time": "2025-08-05T15:47:23.461535",
     "exception": false,
     "start_time": "2025-08-05T15:47:23.435856",
     "status": "completed"
    },
    "tags": []
   },
   "outputs": [
    {
     "name": "stdout",
     "output_type": "stream",
     "text": [
      "Using Seed: 2023\n"
     ]
    }
   ],
   "source": [
    "import numpy as np\n",
    "parsed_seed = int(seed)\n",
    "np.random.seed(parsed_seed)\n",
    "print(f\"Using Seed: {parsed_seed}\")"
   ]
  },
  {
   "cell_type": "markdown",
   "id": "e0ebdc57",
   "metadata": {
    "papermill": {
     "duration": 0.015996,
     "end_time": "2025-08-05T15:47:23.493500",
     "exception": false,
     "start_time": "2025-08-05T15:47:23.477504",
     "status": "completed"
    },
    "tags": []
   },
   "source": [
    "# Loading Data"
   ]
  },
  {
   "cell_type": "code",
   "execution_count": 9,
   "id": "f0496b8a",
   "metadata": {
    "execution": {
     "iopub.execute_input": "2025-08-05T15:47:23.526558Z",
     "iopub.status.busy": "2025-08-05T15:47:23.525708Z",
     "iopub.status.idle": "2025-08-05T15:47:34.013745Z",
     "shell.execute_reply": "2025-08-05T15:47:34.012615Z"
    },
    "papermill": {
     "duration": 10.505755,
     "end_time": "2025-08-05T15:47:34.015135",
     "exception": false,
     "start_time": "2025-08-05T15:47:23.509380",
     "status": "completed"
    },
    "tags": []
   },
   "outputs": [
    {
     "name": "stdout",
     "output_type": "stream",
     "text": [
      "Loading SIAB data from cache: data/siab_cached.csv.gz\n"
     ]
    },
    {
     "name": "stdout",
     "output_type": "stream",
     "text": [
      "(643690, 164)\n"
     ]
    }
   ],
   "source": [
    "from pathlib import Path\n",
    "import pandas as pd\n",
    "\n",
    "# File paths\n",
    "raw_file = Path(\"data/raw/siab.csv\")\n",
    "cache_file = Path(\"data/siab_cached.csv.gz\")\n",
    "\n",
    "# Ensure cache directory exists\n",
    "cache_file.parent.mkdir(parents=True, exist_ok=True)\n",
    "\n",
    "# Load with simple caching\n",
    "if cache_file.exists():\n",
    "    print(f\"Loading SIAB data from cache: {cache_file}\")\n",
    "    siab = pd.read_csv(cache_file, compression='gzip')\n",
    "else:\n",
    "    print(f\"Cache not found. Reading raw SIAB data: {raw_file}\")\n",
    "    siab = pd.read_csv(raw_file)\n",
    "    siab.to_csv(cache_file, index=False, compression='gzip')\n",
    "    print(f\"Cached SIAB data to: {cache_file}\")\n",
    "\n",
    "print(siab.shape)"
   ]
  },
  {
   "cell_type": "code",
   "execution_count": 10,
   "id": "db0ca512-5f53-4dba-abdb-a2888bca41ba",
   "metadata": {
    "execution": {
     "iopub.execute_input": "2025-08-05T15:47:34.037982Z",
     "iopub.status.busy": "2025-08-05T15:47:34.037498Z",
     "iopub.status.idle": "2025-08-05T15:47:34.042764Z",
     "shell.execute_reply": "2025-08-05T15:47:34.041673Z"
    },
    "papermill": {
     "duration": 0.017349,
     "end_time": "2025-08-05T15:47:34.044317",
     "exception": false,
     "start_time": "2025-08-05T15:47:34.026968",
     "status": "completed"
    },
    "tags": []
   },
   "outputs": [],
   "source": [
    "#siab"
   ]
  },
  {
   "cell_type": "markdown",
   "id": "997051c5-15bd-4b69-9786-c3001a3ce484",
   "metadata": {
    "papermill": {
     "duration": 0.009213,
     "end_time": "2025-08-05T15:47:34.063938",
     "exception": false,
     "start_time": "2025-08-05T15:47:34.054725",
     "status": "completed"
    },
    "tags": []
   },
   "source": [
    "# Splitting Data and Setting Training Data Size"
   ]
  },
  {
   "cell_type": "code",
   "execution_count": 11,
   "id": "aea9c6ef-6f46-42c8-85eb-5a62025c1508",
   "metadata": {
    "execution": {
     "iopub.execute_input": "2025-08-05T15:47:34.084077Z",
     "iopub.status.busy": "2025-08-05T15:47:34.083503Z",
     "iopub.status.idle": "2025-08-05T15:47:34.671194Z",
     "shell.execute_reply": "2025-08-05T15:47:34.669934Z"
    },
    "papermill": {
     "duration": 0.599854,
     "end_time": "2025-08-05T15:47:34.673009",
     "exception": false,
     "start_time": "2025-08-05T15:47:34.073155",
     "status": "completed"
    },
    "tags": []
   },
   "outputs": [],
   "source": [
    "from fairness_multiverse.universe import sample_by_year_size\n",
    "\n",
    "siab_train = sample_by_year_size(siab,\n",
    "                               training_year=universe[\"training_year\"],\n",
    "                               training_size=universe[\"training_size\"])"
   ]
  },
  {
   "cell_type": "code",
   "execution_count": 12,
   "id": "8d3afb32-789d-442c-8d5d-9f5aa8dd2eed",
   "metadata": {
    "execution": {
     "iopub.execute_input": "2025-08-05T15:47:34.714156Z",
     "iopub.status.busy": "2025-08-05T15:47:34.713581Z",
     "iopub.status.idle": "2025-08-05T15:47:34.719500Z",
     "shell.execute_reply": "2025-08-05T15:47:34.718397Z"
    },
    "papermill": {
     "duration": 0.0293,
     "end_time": "2025-08-05T15:47:34.721987",
     "exception": false,
     "start_time": "2025-08-05T15:47:34.692687",
     "status": "completed"
    },
    "tags": []
   },
   "outputs": [],
   "source": [
    "#siab_train.shape"
   ]
  },
  {
   "cell_type": "code",
   "execution_count": 13,
   "id": "d582db68-1a4c-47fb-84fc-08518dc1975a",
   "metadata": {
    "execution": {
     "iopub.execute_input": "2025-08-05T15:47:34.781989Z",
     "iopub.status.busy": "2025-08-05T15:47:34.781433Z",
     "iopub.status.idle": "2025-08-05T15:47:34.787739Z",
     "shell.execute_reply": "2025-08-05T15:47:34.786571Z"
    },
    "papermill": {
     "duration": 0.039116,
     "end_time": "2025-08-05T15:47:34.790250",
     "exception": false,
     "start_time": "2025-08-05T15:47:34.751134",
     "status": "completed"
    },
    "tags": []
   },
   "outputs": [],
   "source": [
    "#display(siab_train.groupby(\"year\").size())"
   ]
  },
  {
   "cell_type": "code",
   "execution_count": 14,
   "id": "a561edb4-d032-42cb-8256-22eac1111c64",
   "metadata": {
    "execution": {
     "iopub.execute_input": "2025-08-05T15:47:34.850295Z",
     "iopub.status.busy": "2025-08-05T15:47:34.849913Z",
     "iopub.status.idle": "2025-08-05T15:47:35.098339Z",
     "shell.execute_reply": "2025-08-05T15:47:35.097280Z"
    },
    "papermill": {
     "duration": 0.281708,
     "end_time": "2025-08-05T15:47:35.100889",
     "exception": false,
     "start_time": "2025-08-05T15:47:34.819181",
     "status": "completed"
    },
    "tags": []
   },
   "outputs": [],
   "source": [
    "#siab_train = siab_s[siab_s.year < 2015]\n",
    "siab_calib = siab[siab.year == 2015]\n",
    "siab_test = siab[siab.year == 2016]"
   ]
  },
  {
   "cell_type": "code",
   "execution_count": 15,
   "id": "472de16f-c3db-4916-846b-1f0de9cf1746",
   "metadata": {
    "execution": {
     "iopub.execute_input": "2025-08-05T15:47:35.150257Z",
     "iopub.status.busy": "2025-08-05T15:47:35.149702Z",
     "iopub.status.idle": "2025-08-05T15:47:35.159502Z",
     "shell.execute_reply": "2025-08-05T15:47:35.158538Z"
    },
    "papermill": {
     "duration": 0.03882,
     "end_time": "2025-08-05T15:47:35.166943",
     "exception": false,
     "start_time": "2025-08-05T15:47:35.128123",
     "status": "completed"
    },
    "tags": []
   },
   "outputs": [],
   "source": [
    "X_train = siab_train.iloc[:,4:164]\n",
    "y_train = siab_train.iloc[:, [3]]"
   ]
  },
  {
   "cell_type": "code",
   "execution_count": 16,
   "id": "828c96af-f43a-4ed6-ba47-8ac73a47d56c",
   "metadata": {
    "execution": {
     "iopub.execute_input": "2025-08-05T15:47:35.209695Z",
     "iopub.status.busy": "2025-08-05T15:47:35.209249Z",
     "iopub.status.idle": "2025-08-05T15:47:35.262254Z",
     "shell.execute_reply": "2025-08-05T15:47:35.260917Z"
    },
    "papermill": {
     "duration": 0.077243,
     "end_time": "2025-08-05T15:47:35.264524",
     "exception": false,
     "start_time": "2025-08-05T15:47:35.187281",
     "status": "completed"
    },
    "tags": []
   },
   "outputs": [],
   "source": [
    "X_calib = siab_calib.iloc[:,4:164]\n",
    "y_calib = siab_calib.iloc[:, [3]]"
   ]
  },
  {
   "cell_type": "code",
   "execution_count": 17,
   "id": "c34be9c3-6bd6-476e-acd3-845840e303be",
   "metadata": {
    "execution": {
     "iopub.execute_input": "2025-08-05T15:47:35.309303Z",
     "iopub.status.busy": "2025-08-05T15:47:35.308762Z",
     "iopub.status.idle": "2025-08-05T15:47:35.364658Z",
     "shell.execute_reply": "2025-08-05T15:47:35.363470Z"
    },
    "papermill": {
     "duration": 0.080773,
     "end_time": "2025-08-05T15:47:35.366897",
     "exception": false,
     "start_time": "2025-08-05T15:47:35.286124",
     "status": "completed"
    },
    "tags": []
   },
   "outputs": [],
   "source": [
    "X_test = siab_test.iloc[:,4:164]\n",
    "y_true = siab_test.iloc[:, [3]]"
   ]
  },
  {
   "cell_type": "code",
   "execution_count": 18,
   "id": "e6c733c5",
   "metadata": {
    "execution": {
     "iopub.execute_input": "2025-08-05T15:47:35.408953Z",
     "iopub.status.busy": "2025-08-05T15:47:35.408052Z",
     "iopub.status.idle": "2025-08-05T15:47:35.506777Z",
     "shell.execute_reply": "2025-08-05T15:47:35.505733Z"
    },
    "papermill": {
     "duration": 0.121285,
     "end_time": "2025-08-05T15:47:35.508405",
     "exception": false,
     "start_time": "2025-08-05T15:47:35.387120",
     "status": "completed"
    },
    "tags": []
   },
   "outputs": [],
   "source": [
    "# Auxiliary data needed downstream in the pipeline\n",
    "\n",
    "org_train = X_train.copy()\n",
    "org_test = X_test.copy()\n",
    "org_calib = X_calib.copy()"
   ]
  },
  {
   "cell_type": "markdown",
   "id": "0a4a1b33",
   "metadata": {
    "papermill": {
     "duration": 0.02007,
     "end_time": "2025-08-05T15:47:35.548298",
     "exception": false,
     "start_time": "2025-08-05T15:47:35.528228",
     "status": "completed"
    },
    "tags": []
   },
   "source": [
    "# Preprocessing Data"
   ]
  },
  {
   "cell_type": "code",
   "execution_count": 19,
   "id": "ca879031",
   "metadata": {
    "execution": {
     "iopub.execute_input": "2025-08-05T15:47:35.590484Z",
     "iopub.status.busy": "2025-08-05T15:47:35.590057Z",
     "iopub.status.idle": "2025-08-05T15:47:35.596691Z",
     "shell.execute_reply": "2025-08-05T15:47:35.595566Z"
    },
    "papermill": {
     "duration": 0.029749,
     "end_time": "2025-08-05T15:47:35.598602",
     "exception": false,
     "start_time": "2025-08-05T15:47:35.568853",
     "status": "completed"
    },
    "tags": []
   },
   "outputs": [],
   "source": [
    "# EXCLUDE PROTECTED FEATURES\n",
    "# ----------------------\n",
    "# \"exclude_features\": \"none\", # \"nationality\", \"sex\", \"nationality-sex\"\n",
    "\n",
    "excluded_features = universe[\"exclude_features\"].split(\"-\") # split, e.g.: \"nationality-sex\" -> [\"nationality\", \"sex\"]\n",
    "excluded_features_dictionary = {\n",
    "    \"nationality\": [\"maxdeutsch1\", \"maxdeutsch.Missing.\"],\n",
    "    \"sex\": [\"frau1\"],\n",
    "    \"age\": [\"age\"],\n",
    "}"
   ]
  },
  {
   "cell_type": "code",
   "execution_count": 20,
   "id": "b745ac60",
   "metadata": {
    "execution": {
     "iopub.execute_input": "2025-08-05T15:47:35.642186Z",
     "iopub.status.busy": "2025-08-05T15:47:35.641180Z",
     "iopub.status.idle": "2025-08-05T15:47:35.647438Z",
     "shell.execute_reply": "2025-08-05T15:47:35.646358Z"
    },
    "papermill": {
     "duration": 0.029831,
     "end_time": "2025-08-05T15:47:35.649443",
     "exception": false,
     "start_time": "2025-08-05T15:47:35.619612",
     "status": "completed"
    },
    "tags": []
   },
   "outputs": [],
   "source": [
    "# Code nice names to column names\n",
    "\n",
    "excluded_features_columns = [\n",
    "    excluded_features_dictionary[f] for f in excluded_features if len(f) > 0 and f != \"none\"\n",
    "]"
   ]
  },
  {
   "cell_type": "code",
   "execution_count": 21,
   "id": "f84f73a2",
   "metadata": {
    "execution": {
     "iopub.execute_input": "2025-08-05T15:47:35.693198Z",
     "iopub.status.busy": "2025-08-05T15:47:35.692224Z",
     "iopub.status.idle": "2025-08-05T15:47:35.699251Z",
     "shell.execute_reply": "2025-08-05T15:47:35.698223Z"
    },
    "papermill": {
     "duration": 0.030299,
     "end_time": "2025-08-05T15:47:35.701082",
     "exception": false,
     "start_time": "2025-08-05T15:47:35.670783",
     "status": "completed"
    },
    "tags": []
   },
   "outputs": [],
   "source": [
    "from utils import flatten_once\n",
    "\n",
    "excluded_features_columns = flatten_once(excluded_features_columns)"
   ]
  },
  {
   "cell_type": "code",
   "execution_count": 22,
   "id": "884dea22",
   "metadata": {
    "execution": {
     "iopub.execute_input": "2025-08-05T15:47:35.743050Z",
     "iopub.status.busy": "2025-08-05T15:47:35.742157Z",
     "iopub.status.idle": "2025-08-05T15:47:35.751296Z",
     "shell.execute_reply": "2025-08-05T15:47:35.750187Z"
    },
    "papermill": {
     "duration": 0.031622,
     "end_time": "2025-08-05T15:47:35.753285",
     "exception": false,
     "start_time": "2025-08-05T15:47:35.721663",
     "status": "completed"
    },
    "tags": []
   },
   "outputs": [
    {
     "name": "stdout",
     "output_type": "stream",
     "text": [
      "Dropping features: ['age']\n"
     ]
    }
   ],
   "source": [
    "if len(excluded_features_columns) > 0:\n",
    "    print(f\"Dropping features: {excluded_features_columns}\")\n",
    "    X_train.drop(excluded_features_columns, axis=1, inplace=True)"
   ]
  },
  {
   "cell_type": "code",
   "execution_count": 23,
   "id": "95ab8b16",
   "metadata": {
    "execution": {
     "iopub.execute_input": "2025-08-05T15:47:35.797267Z",
     "iopub.status.busy": "2025-08-05T15:47:35.796287Z",
     "iopub.status.idle": "2025-08-05T15:47:35.854701Z",
     "shell.execute_reply": "2025-08-05T15:47:35.853372Z"
    },
    "papermill": {
     "duration": 0.082052,
     "end_time": "2025-08-05T15:47:35.856594",
     "exception": false,
     "start_time": "2025-08-05T15:47:35.774542",
     "status": "completed"
    },
    "tags": []
   },
   "outputs": [
    {
     "name": "stdout",
     "output_type": "stream",
     "text": [
      "Dropping features: ['age']\n"
     ]
    }
   ],
   "source": [
    "if len(excluded_features_columns) > 0:\n",
    "    print(f\"Dropping features: {excluded_features_columns}\")\n",
    "    X_test.drop(excluded_features_columns, axis=1, inplace=True)"
   ]
  },
  {
   "cell_type": "code",
   "execution_count": 24,
   "id": "1853aaf5-fb9f-46cb-a2b5-8ea4ae2237e4",
   "metadata": {
    "execution": {
     "iopub.execute_input": "2025-08-05T15:47:35.893062Z",
     "iopub.status.busy": "2025-08-05T15:47:35.892611Z",
     "iopub.status.idle": "2025-08-05T15:47:35.948043Z",
     "shell.execute_reply": "2025-08-05T15:47:35.946846Z"
    },
    "papermill": {
     "duration": 0.071297,
     "end_time": "2025-08-05T15:47:35.950108",
     "exception": false,
     "start_time": "2025-08-05T15:47:35.878811",
     "status": "completed"
    },
    "tags": []
   },
   "outputs": [
    {
     "name": "stdout",
     "output_type": "stream",
     "text": [
      "Dropping features: ['age']\n"
     ]
    }
   ],
   "source": [
    "if len(excluded_features_columns) > 0:\n",
    "    print(f\"Dropping features: {excluded_features_columns}\")\n",
    "    X_calib.drop(excluded_features_columns, axis=1, inplace=True)"
   ]
  },
  {
   "cell_type": "code",
   "execution_count": 25,
   "id": "76c4dc6d",
   "metadata": {
    "execution": {
     "iopub.execute_input": "2025-08-05T15:47:35.976571Z",
     "iopub.status.busy": "2025-08-05T15:47:35.976078Z",
     "iopub.status.idle": "2025-08-05T15:47:35.981497Z",
     "shell.execute_reply": "2025-08-05T15:47:35.980689Z"
    },
    "papermill": {
     "duration": 0.017387,
     "end_time": "2025-08-05T15:47:35.982791",
     "exception": false,
     "start_time": "2025-08-05T15:47:35.965404",
     "status": "completed"
    },
    "tags": []
   },
   "outputs": [],
   "source": [
    "# EXCLUDE CERTAIN SUBGROUPS\n",
    "# ----------------------\n",
    "\n",
    "mode = universe.get(\"exclude_subgroups\", \"keep-all\") \n",
    "# Fetches the exclude_subgroups setting from the universe dict.\n",
    "# Defaults to \"keep-all\" if the key is missing."
   ]
  },
  {
   "cell_type": "code",
   "execution_count": 26,
   "id": "21994072",
   "metadata": {
    "execution": {
     "iopub.execute_input": "2025-08-05T15:47:36.024992Z",
     "iopub.status.busy": "2025-08-05T15:47:36.023939Z",
     "iopub.status.idle": "2025-08-05T15:47:36.030003Z",
     "shell.execute_reply": "2025-08-05T15:47:36.029209Z"
    },
    "papermill": {
     "duration": 0.029156,
     "end_time": "2025-08-05T15:47:36.031592",
     "exception": false,
     "start_time": "2025-08-05T15:47:36.002436",
     "status": "completed"
    },
    "tags": []
   },
   "outputs": [],
   "source": [
    "if mode == \"keep-all\":\n",
    "    keep_mask = pd.Series(True, index=org_train.index)\n",
    "\n",
    "# org_train contains the original feature columns from features_org (in Simson)\n",
    "# features_org contains unprocessed features, for me X_train at beginning ???\n",
    "# For keep-all, creates a boolean Series (keep_mask) of all True, so no rows are removed.\n",
    "\n",
    "elif mode == \"drop-non-german\":\n",
    "    keep_mask = org_train[\"maxdeutsch1\"] == 1 # ??? what about missing values?\n",
    "\n",
    "else:\n",
    "    raise ValueError(f\"Unsupported mode for exclude_subgroups: {mode}\")"
   ]
  },
  {
   "cell_type": "code",
   "execution_count": 27,
   "id": "71651440",
   "metadata": {
    "execution": {
     "iopub.execute_input": "2025-08-05T15:47:36.059060Z",
     "iopub.status.busy": "2025-08-05T15:47:36.058189Z",
     "iopub.status.idle": "2025-08-05T15:47:36.070031Z",
     "shell.execute_reply": "2025-08-05T15:47:36.068793Z"
    },
    "papermill": {
     "duration": 0.027823,
     "end_time": "2025-08-05T15:47:36.071947",
     "exception": false,
     "start_time": "2025-08-05T15:47:36.044124",
     "status": "completed"
    },
    "tags": []
   },
   "outputs": [
    {
     "name": "stdout",
     "output_type": "stream",
     "text": [
      "Dropping 665 rows (13.30%) where mode='drop-non-german'\n"
     ]
    }
   ],
   "source": [
    "n_drop = (~keep_mask).sum() # Calculates how many rows are set to be dropped\n",
    "if n_drop > 0:\n",
    "    pct = n_drop / len(keep_mask) * 100\n",
    "    print(f\"Dropping {n_drop} rows ({pct:.2f}%) where mode='{mode}'\")"
   ]
  },
  {
   "cell_type": "code",
   "execution_count": 28,
   "id": "5fb8eee5",
   "metadata": {
    "execution": {
     "iopub.execute_input": "2025-08-05T15:47:36.117155Z",
     "iopub.status.busy": "2025-08-05T15:47:36.116173Z",
     "iopub.status.idle": "2025-08-05T15:47:36.124528Z",
     "shell.execute_reply": "2025-08-05T15:47:36.123341Z"
    },
    "papermill": {
     "duration": 0.032784,
     "end_time": "2025-08-05T15:47:36.126567",
     "exception": false,
     "start_time": "2025-08-05T15:47:36.093783",
     "status": "completed"
    },
    "tags": []
   },
   "outputs": [],
   "source": [
    "X_train = X_train[keep_mask]"
   ]
  },
  {
   "cell_type": "code",
   "execution_count": 29,
   "id": "b202bb3a",
   "metadata": {
    "execution": {
     "iopub.execute_input": "2025-08-05T15:47:36.182902Z",
     "iopub.status.busy": "2025-08-05T15:47:36.182451Z",
     "iopub.status.idle": "2025-08-05T15:47:36.189210Z",
     "shell.execute_reply": "2025-08-05T15:47:36.188017Z"
    },
    "papermill": {
     "duration": 0.041594,
     "end_time": "2025-08-05T15:47:36.191069",
     "exception": false,
     "start_time": "2025-08-05T15:47:36.149475",
     "status": "completed"
    },
    "tags": []
   },
   "outputs": [],
   "source": [
    "y_train = y_train[keep_mask]"
   ]
  },
  {
   "cell_type": "markdown",
   "id": "493e2ac3",
   "metadata": {
    "papermill": {
     "duration": 0.021953,
     "end_time": "2025-08-05T15:47:36.233510",
     "exception": false,
     "start_time": "2025-08-05T15:47:36.211557",
     "status": "completed"
    },
    "tags": []
   },
   "source": [
    "# Model Training"
   ]
  },
  {
   "cell_type": "code",
   "execution_count": 30,
   "id": "679e1268",
   "metadata": {
    "execution": {
     "iopub.execute_input": "2025-08-05T15:47:36.274349Z",
     "iopub.status.busy": "2025-08-05T15:47:36.273846Z",
     "iopub.status.idle": "2025-08-05T15:47:36.378989Z",
     "shell.execute_reply": "2025-08-05T15:47:36.377854Z"
    },
    "papermill": {
     "duration": 0.128944,
     "end_time": "2025-08-05T15:47:36.380902",
     "exception": false,
     "start_time": "2025-08-05T15:47:36.251958",
     "status": "completed"
    },
    "tags": []
   },
   "outputs": [],
   "source": [
    "from sklearn.linear_model import LogisticRegression\n",
    "from sklearn.ensemble import GradientBoostingClassifier, RandomForestClassifier\n",
    "\n",
    "if (universe[\"model\"] == \"logreg\"):\n",
    "    model = LogisticRegression() #penalty=\"none\", solver=\"newton-cg\", max_iter=1) # include random_state=19 ?\n",
    "elif (universe[\"model\"] == \"penalized_logreg\"):\n",
    "    model = LogisticRegression(penalty=\"l2\", C=0.1) #, solver=\"newton-cg\", max_iter=1)\n",
    "elif (universe[\"model\"] == \"rf\"):\n",
    "    model = RandomForestClassifier() # n_estimators=100, n_jobs=-1\n",
    "elif (universe[\"model\"] == \"gbm\"):\n",
    "    model = GradientBoostingClassifier()\n",
    "elif (universe[\"model\"] == \"elasticnet\"):\n",
    "    model = LogisticRegression(penalty = 'elasticnet', solver = 'saga', l1_ratio = 0.5) # max_iter=5000\n",
    "else:\n",
    "    raise \"Unsupported universe.model\""
   ]
  },
  {
   "cell_type": "code",
   "execution_count": 31,
   "id": "0cc8f744",
   "metadata": {
    "execution": {
     "iopub.execute_input": "2025-08-05T15:47:36.423458Z",
     "iopub.status.busy": "2025-08-05T15:47:36.422375Z",
     "iopub.status.idle": "2025-08-05T15:47:36.429344Z",
     "shell.execute_reply": "2025-08-05T15:47:36.428331Z"
    },
    "papermill": {
     "duration": 0.029288,
     "end_time": "2025-08-05T15:47:36.431257",
     "exception": false,
     "start_time": "2025-08-05T15:47:36.401969",
     "status": "completed"
    },
    "tags": []
   },
   "outputs": [],
   "source": [
    "import numpy as np\n",
    "from sklearn.pipeline import Pipeline\n",
    "from sklearn.preprocessing import StandardScaler\n",
    "\n",
    "model = Pipeline([\n",
    "    #(\"continuous_processor\", continuous_processor),\n",
    "    #(\"categorical_preprocessor\", categorical_preprocessor),\n",
    "    (\"scale\", StandardScaler() if universe[\"scale\"] == \"scale\" else None), \n",
    "    (\"model\", model),\n",
    "])"
   ]
  },
  {
   "cell_type": "code",
   "execution_count": 32,
   "id": "9442c04d",
   "metadata": {
    "execution": {
     "iopub.execute_input": "2025-08-05T15:47:36.476917Z",
     "iopub.status.busy": "2025-08-05T15:47:36.476126Z",
     "iopub.status.idle": "2025-08-05T15:47:38.308169Z",
     "shell.execute_reply": "2025-08-05T15:47:38.307023Z"
    },
    "papermill": {
     "duration": 1.85754,
     "end_time": "2025-08-05T15:47:38.310290",
     "exception": false,
     "start_time": "2025-08-05T15:47:36.452750",
     "status": "completed"
    },
    "tags": []
   },
   "outputs": [
    {
     "name": "stderr",
     "output_type": "stream",
     "text": [
      "/dss/dsshome1/0C/ra93lal2/.local/share/virtualenvs/CMA_Fairness_v2-3j10GkSs/lib/python3.10/site-packages/sklearn/linear_model/_sag.py:350: ConvergenceWarning: The max_iter was reached which means the coef_ did not converge\n",
      "  warnings.warn(\n"
     ]
    },
    {
     "data": {
      "text/html": [
       "<style>#sk-container-id-1 {color: black;background-color: white;}#sk-container-id-1 pre{padding: 0;}#sk-container-id-1 div.sk-toggleable {background-color: white;}#sk-container-id-1 label.sk-toggleable__label {cursor: pointer;display: block;width: 100%;margin-bottom: 0;padding: 0.3em;box-sizing: border-box;text-align: center;}#sk-container-id-1 label.sk-toggleable__label-arrow:before {content: \"▸\";float: left;margin-right: 0.25em;color: #696969;}#sk-container-id-1 label.sk-toggleable__label-arrow:hover:before {color: black;}#sk-container-id-1 div.sk-estimator:hover label.sk-toggleable__label-arrow:before {color: black;}#sk-container-id-1 div.sk-toggleable__content {max-height: 0;max-width: 0;overflow: hidden;text-align: left;background-color: #f0f8ff;}#sk-container-id-1 div.sk-toggleable__content pre {margin: 0.2em;color: black;border-radius: 0.25em;background-color: #f0f8ff;}#sk-container-id-1 input.sk-toggleable__control:checked~div.sk-toggleable__content {max-height: 200px;max-width: 100%;overflow: auto;}#sk-container-id-1 input.sk-toggleable__control:checked~label.sk-toggleable__label-arrow:before {content: \"▾\";}#sk-container-id-1 div.sk-estimator input.sk-toggleable__control:checked~label.sk-toggleable__label {background-color: #d4ebff;}#sk-container-id-1 div.sk-label input.sk-toggleable__control:checked~label.sk-toggleable__label {background-color: #d4ebff;}#sk-container-id-1 input.sk-hidden--visually {border: 0;clip: rect(1px 1px 1px 1px);clip: rect(1px, 1px, 1px, 1px);height: 1px;margin: -1px;overflow: hidden;padding: 0;position: absolute;width: 1px;}#sk-container-id-1 div.sk-estimator {font-family: monospace;background-color: #f0f8ff;border: 1px dotted black;border-radius: 0.25em;box-sizing: border-box;margin-bottom: 0.5em;}#sk-container-id-1 div.sk-estimator:hover {background-color: #d4ebff;}#sk-container-id-1 div.sk-parallel-item::after {content: \"\";width: 100%;border-bottom: 1px solid gray;flex-grow: 1;}#sk-container-id-1 div.sk-label:hover label.sk-toggleable__label {background-color: #d4ebff;}#sk-container-id-1 div.sk-serial::before {content: \"\";position: absolute;border-left: 1px solid gray;box-sizing: border-box;top: 0;bottom: 0;left: 50%;z-index: 0;}#sk-container-id-1 div.sk-serial {display: flex;flex-direction: column;align-items: center;background-color: white;padding-right: 0.2em;padding-left: 0.2em;position: relative;}#sk-container-id-1 div.sk-item {position: relative;z-index: 1;}#sk-container-id-1 div.sk-parallel {display: flex;align-items: stretch;justify-content: center;background-color: white;position: relative;}#sk-container-id-1 div.sk-item::before, #sk-container-id-1 div.sk-parallel-item::before {content: \"\";position: absolute;border-left: 1px solid gray;box-sizing: border-box;top: 0;bottom: 0;left: 50%;z-index: -1;}#sk-container-id-1 div.sk-parallel-item {display: flex;flex-direction: column;z-index: 1;position: relative;background-color: white;}#sk-container-id-1 div.sk-parallel-item:first-child::after {align-self: flex-end;width: 50%;}#sk-container-id-1 div.sk-parallel-item:last-child::after {align-self: flex-start;width: 50%;}#sk-container-id-1 div.sk-parallel-item:only-child::after {width: 0;}#sk-container-id-1 div.sk-dashed-wrapped {border: 1px dashed gray;margin: 0 0.4em 0.5em 0.4em;box-sizing: border-box;padding-bottom: 0.4em;background-color: white;}#sk-container-id-1 div.sk-label label {font-family: monospace;font-weight: bold;display: inline-block;line-height: 1.2em;}#sk-container-id-1 div.sk-label-container {text-align: center;}#sk-container-id-1 div.sk-container {/* jupyter's `normalize.less` sets `[hidden] { display: none; }` but bootstrap.min.css set `[hidden] { display: none !important; }` so we also need the `!important` here to be able to override the default hidden behavior on the sphinx rendered scikit-learn.org. See: https://github.com/scikit-learn/scikit-learn/issues/21755 */display: inline-block !important;position: relative;}#sk-container-id-1 div.sk-text-repr-fallback {display: none;}</style><div id=\"sk-container-id-1\" class=\"sk-top-container\"><div class=\"sk-text-repr-fallback\"><pre>Pipeline(steps=[(&#x27;scale&#x27;, None),\n",
       "                (&#x27;model&#x27;,\n",
       "                 LogisticRegression(l1_ratio=0.5, penalty=&#x27;elasticnet&#x27;,\n",
       "                                    solver=&#x27;saga&#x27;))])</pre><b>In a Jupyter environment, please rerun this cell to show the HTML representation or trust the notebook. <br />On GitHub, the HTML representation is unable to render, please try loading this page with nbviewer.org.</b></div><div class=\"sk-container\" hidden><div class=\"sk-item sk-dashed-wrapped\"><div class=\"sk-label-container\"><div class=\"sk-label sk-toggleable\"><input class=\"sk-toggleable__control sk-hidden--visually\" id=\"sk-estimator-id-1\" type=\"checkbox\" ><label for=\"sk-estimator-id-1\" class=\"sk-toggleable__label sk-toggleable__label-arrow\">Pipeline</label><div class=\"sk-toggleable__content\"><pre>Pipeline(steps=[(&#x27;scale&#x27;, None),\n",
       "                (&#x27;model&#x27;,\n",
       "                 LogisticRegression(l1_ratio=0.5, penalty=&#x27;elasticnet&#x27;,\n",
       "                                    solver=&#x27;saga&#x27;))])</pre></div></div></div><div class=\"sk-serial\"><div class=\"sk-item\"><div class=\"sk-estimator sk-toggleable\"><input class=\"sk-toggleable__control sk-hidden--visually\" id=\"sk-estimator-id-2\" type=\"checkbox\" ><label for=\"sk-estimator-id-2\" class=\"sk-toggleable__label sk-toggleable__label-arrow\">None</label><div class=\"sk-toggleable__content\"><pre>None</pre></div></div></div><div class=\"sk-item\"><div class=\"sk-estimator sk-toggleable\"><input class=\"sk-toggleable__control sk-hidden--visually\" id=\"sk-estimator-id-3\" type=\"checkbox\" ><label for=\"sk-estimator-id-3\" class=\"sk-toggleable__label sk-toggleable__label-arrow\">LogisticRegression</label><div class=\"sk-toggleable__content\"><pre>LogisticRegression(l1_ratio=0.5, penalty=&#x27;elasticnet&#x27;, solver=&#x27;saga&#x27;)</pre></div></div></div></div></div></div></div>"
      ],
      "text/plain": [
       "Pipeline(steps=[('scale', None),\n",
       "                ('model',\n",
       "                 LogisticRegression(l1_ratio=0.5, penalty='elasticnet',\n",
       "                                    solver='saga'))])"
      ]
     },
     "execution_count": 32,
     "metadata": {},
     "output_type": "execute_result"
    }
   ],
   "source": [
    "model.fit(X_train, y_train.values.ravel())"
   ]
  },
  {
   "cell_type": "code",
   "execution_count": 33,
   "id": "af59f8c0",
   "metadata": {
    "execution": {
     "iopub.execute_input": "2025-08-05T15:47:38.372024Z",
     "iopub.status.busy": "2025-08-05T15:47:38.371451Z",
     "iopub.status.idle": "2025-08-05T15:47:38.377983Z",
     "shell.execute_reply": "2025-08-05T15:47:38.376724Z"
    },
    "papermill": {
     "duration": 0.038797,
     "end_time": "2025-08-05T15:47:38.380279",
     "exception": false,
     "start_time": "2025-08-05T15:47:38.341482",
     "status": "completed"
    },
    "tags": []
   },
   "outputs": [],
   "source": [
    "from fairness_multiverse.universe import predict_w_threshold"
   ]
  },
  {
   "cell_type": "code",
   "execution_count": 34,
   "id": "a7cf2e16",
   "metadata": {
    "execution": {
     "iopub.execute_input": "2025-08-05T15:47:38.439688Z",
     "iopub.status.busy": "2025-08-05T15:47:38.438855Z",
     "iopub.status.idle": "2025-08-05T15:47:38.538784Z",
     "shell.execute_reply": "2025-08-05T15:47:38.537765Z"
    },
    "papermill": {
     "duration": 0.131427,
     "end_time": "2025-08-05T15:47:38.540541",
     "exception": false,
     "start_time": "2025-08-05T15:47:38.409114",
     "status": "completed"
    },
    "tags": []
   },
   "outputs": [
    {
     "data": {
      "text/plain": [
       "0.8661241779065879"
      ]
     },
     "execution_count": 34,
     "metadata": {},
     "output_type": "execute_result"
    }
   ],
   "source": [
    "probs_test = model.predict_proba(X_test)\n",
    "\n",
    "'''\n",
    "Below code returns a boolean array (or binary 0/1 array depending on how it’s used) where each element \n",
    "is True if the probability of class 1 is greater than or equal to the threshold, and False otherwise.\n",
    "'''\n",
    "y_pred_default = predict_w_threshold(probs_test, 0.5)\n",
    "\n",
    "from sklearn.metrics import accuracy_score\n",
    "\n",
    "# Naive prediction\n",
    "accuracy_score(y_true = y_true, y_pred = y_pred_default)"
   ]
  },
  {
   "cell_type": "code",
   "execution_count": 35,
   "id": "081964c3",
   "metadata": {
    "execution": {
     "iopub.execute_input": "2025-08-05T15:47:38.577880Z",
     "iopub.status.busy": "2025-08-05T15:47:38.577375Z",
     "iopub.status.idle": "2025-08-05T15:47:38.667037Z",
     "shell.execute_reply": "2025-08-05T15:47:38.665910Z"
    },
    "papermill": {
     "duration": 0.105762,
     "end_time": "2025-08-05T15:47:38.668459",
     "exception": false,
     "start_time": "2025-08-05T15:47:38.562697",
     "status": "completed"
    },
    "tags": []
   },
   "outputs": [
    {
     "data": {
      "text/plain": [
       "array([0, 0, 0, ..., 0, 0, 0])"
      ]
     },
     "execution_count": 35,
     "metadata": {},
     "output_type": "execute_result"
    }
   ],
   "source": [
    "model.predict(X_test)"
   ]
  },
  {
   "cell_type": "markdown",
   "id": "56c9705b",
   "metadata": {
    "papermill": {
     "duration": 0.027995,
     "end_time": "2025-08-05T15:47:38.724048",
     "exception": false,
     "start_time": "2025-08-05T15:47:38.696053",
     "status": "completed"
    },
    "tags": []
   },
   "source": [
    "# Conformal Prediction"
   ]
  },
  {
   "cell_type": "code",
   "execution_count": 36,
   "id": "160ec6ff",
   "metadata": {
    "execution": {
     "iopub.execute_input": "2025-08-05T15:47:38.781060Z",
     "iopub.status.busy": "2025-08-05T15:47:38.780556Z",
     "iopub.status.idle": "2025-08-05T15:47:38.786108Z",
     "shell.execute_reply": "2025-08-05T15:47:38.784921Z"
    },
    "papermill": {
     "duration": 0.036289,
     "end_time": "2025-08-05T15:47:38.788449",
     "exception": false,
     "start_time": "2025-08-05T15:47:38.752160",
     "status": "completed"
    },
    "tags": []
   },
   "outputs": [],
   "source": [
    "# Miscoverage level for conformal prediction (10% allowed error rate => 90% target coverage)\n",
    "alpha = 0.1"
   ]
  },
  {
   "cell_type": "code",
   "execution_count": 37,
   "id": "eadf4555-3dd3-440e-8e35-f82a4ad9f855",
   "metadata": {
    "execution": {
     "iopub.execute_input": "2025-08-05T15:47:38.845797Z",
     "iopub.status.busy": "2025-08-05T15:47:38.845150Z",
     "iopub.status.idle": "2025-08-05T15:47:38.973634Z",
     "shell.execute_reply": "2025-08-05T15:47:38.972235Z"
    },
    "papermill": {
     "duration": 0.15976,
     "end_time": "2025-08-05T15:47:38.976196",
     "exception": false,
     "start_time": "2025-08-05T15:47:38.816436",
     "status": "completed"
    },
    "tags": []
   },
   "outputs": [],
   "source": [
    "probs_calib = model.predict_proba(X_calib)"
   ]
  },
  {
   "cell_type": "code",
   "execution_count": 38,
   "id": "2ed93547-6d5d-4983-9b36-1ecb300da49a",
   "metadata": {
    "execution": {
     "iopub.execute_input": "2025-08-05T15:47:39.039751Z",
     "iopub.status.busy": "2025-08-05T15:47:39.039177Z",
     "iopub.status.idle": "2025-08-05T15:47:39.046518Z",
     "shell.execute_reply": "2025-08-05T15:47:39.045105Z"
    },
    "papermill": {
     "duration": 0.041275,
     "end_time": "2025-08-05T15:47:39.048581",
     "exception": false,
     "start_time": "2025-08-05T15:47:39.007306",
     "status": "completed"
    },
    "tags": []
   },
   "outputs": [],
   "source": [
    "y_calib = y_calib.values.ravel().astype(int)"
   ]
  },
  {
   "cell_type": "code",
   "execution_count": 39,
   "id": "65d1320d-f588-4b38-9072-62af1ae97f7d",
   "metadata": {
    "execution": {
     "iopub.execute_input": "2025-08-05T15:47:39.109853Z",
     "iopub.status.busy": "2025-08-05T15:47:39.108931Z",
     "iopub.status.idle": "2025-08-05T15:47:39.117678Z",
     "shell.execute_reply": "2025-08-05T15:47:39.116421Z"
    },
    "papermill": {
     "duration": 0.045986,
     "end_time": "2025-08-05T15:47:39.120380",
     "exception": false,
     "start_time": "2025-08-05T15:47:39.074394",
     "status": "completed"
    },
    "tags": []
   },
   "outputs": [],
   "source": [
    "from fairness_multiverse.conformal import compute_nc_scores\n",
    "\n",
    "# Compute nonconformity scores on calibration set (1 - probability of true class)\n",
    "nc_scores = compute_nc_scores(probs_calib, y_calib)"
   ]
  },
  {
   "cell_type": "code",
   "execution_count": 40,
   "id": "df3b8ca3-53b7-43d5-9667-7c85da7aeda2",
   "metadata": {
    "execution": {
     "iopub.execute_input": "2025-08-05T15:47:39.176820Z",
     "iopub.status.busy": "2025-08-05T15:47:39.175595Z",
     "iopub.status.idle": "2025-08-05T15:47:39.183554Z",
     "shell.execute_reply": "2025-08-05T15:47:39.182516Z"
    },
    "papermill": {
     "duration": 0.037576,
     "end_time": "2025-08-05T15:47:39.185453",
     "exception": false,
     "start_time": "2025-08-05T15:47:39.147877",
     "status": "completed"
    },
    "tags": []
   },
   "outputs": [],
   "source": [
    "from fairness_multiverse.conformal import find_threshold\n",
    "\n",
    "# Find conformal threshold q_hat for the given alpha (split conformal method)\n",
    "q_hat = find_threshold(nc_scores, alpha)"
   ]
  },
  {
   "cell_type": "code",
   "execution_count": 41,
   "id": "4d29e6c1-0ef6-4aa4-b8fe-4fe79b0d033a",
   "metadata": {
    "execution": {
     "iopub.execute_input": "2025-08-05T15:47:39.233407Z",
     "iopub.status.busy": "2025-08-05T15:47:39.232585Z",
     "iopub.status.idle": "2025-08-05T15:47:39.240331Z",
     "shell.execute_reply": "2025-08-05T15:47:39.239279Z"
    },
    "papermill": {
     "duration": 0.030141,
     "end_time": "2025-08-05T15:47:39.242356",
     "exception": false,
     "start_time": "2025-08-05T15:47:39.212215",
     "status": "completed"
    },
    "tags": []
   },
   "outputs": [
    {
     "data": {
      "text/plain": [
       "0.6709347942445741"
      ]
     },
     "execution_count": 41,
     "metadata": {},
     "output_type": "execute_result"
    }
   ],
   "source": [
    "q_hat"
   ]
  },
  {
   "cell_type": "code",
   "execution_count": 42,
   "id": "92460794-cdac-4be2-ba28-f28c0515a6fb",
   "metadata": {
    "execution": {
     "iopub.execute_input": "2025-08-05T15:47:39.283843Z",
     "iopub.status.busy": "2025-08-05T15:47:39.283479Z",
     "iopub.status.idle": "2025-08-05T15:47:40.433542Z",
     "shell.execute_reply": "2025-08-05T15:47:40.432506Z"
    },
    "papermill": {
     "duration": 1.167657,
     "end_time": "2025-08-05T15:47:40.435579",
     "exception": false,
     "start_time": "2025-08-05T15:47:39.267922",
     "status": "completed"
    },
    "tags": []
   },
   "outputs": [],
   "source": [
    "from fairness_multiverse.conformal import predict_conformal_sets\n",
    "\n",
    "# Generate prediction sets for each test example\n",
    "pred_sets = predict_conformal_sets(model, X_test, q_hat)"
   ]
  },
  {
   "cell_type": "code",
   "execution_count": 43,
   "id": "d90c9a65-e6db-4f5d-80cd-e68fb7e46829",
   "metadata": {
    "execution": {
     "iopub.execute_input": "2025-08-05T15:47:40.480493Z",
     "iopub.status.busy": "2025-08-05T15:47:40.480001Z",
     "iopub.status.idle": "2025-08-05T15:47:40.485827Z",
     "shell.execute_reply": "2025-08-05T15:47:40.484698Z"
    },
    "papermill": {
     "duration": 0.029771,
     "end_time": "2025-08-05T15:47:40.487713",
     "exception": false,
     "start_time": "2025-08-05T15:47:40.457942",
     "status": "completed"
    },
    "tags": []
   },
   "outputs": [],
   "source": [
    "y_true = y_true.squeeze()"
   ]
  },
  {
   "cell_type": "code",
   "execution_count": 44,
   "id": "3a58a54a-1e68-46b9-927a-df01f18aebc8",
   "metadata": {
    "execution": {
     "iopub.execute_input": "2025-08-05T15:47:40.534867Z",
     "iopub.status.busy": "2025-08-05T15:47:40.534220Z",
     "iopub.status.idle": "2025-08-05T15:47:41.196988Z",
     "shell.execute_reply": "2025-08-05T15:47:41.195893Z"
    },
    "papermill": {
     "duration": 0.691531,
     "end_time": "2025-08-05T15:47:41.198686",
     "exception": false,
     "start_time": "2025-08-05T15:47:40.507155",
     "status": "completed"
    },
    "tags": []
   },
   "outputs": [],
   "source": [
    "from fairness_multiverse.conformal import evaluate_sets\n",
    "\n",
    "# Evaluate coverage and average set size on test data\n",
    "metrics = evaluate_sets(pred_sets, y_true)"
   ]
  },
  {
   "cell_type": "markdown",
   "id": "2b569c12-9aaa-4c88-98c9-bbcd0cf3ebb8",
   "metadata": {
    "papermill": {
     "duration": 0.02495,
     "end_time": "2025-08-05T15:47:41.247571",
     "exception": false,
     "start_time": "2025-08-05T15:47:41.222621",
     "status": "completed"
    },
    "tags": []
   },
   "source": [
    "# CP Metrics"
   ]
  },
  {
   "cell_type": "code",
   "execution_count": 45,
   "id": "5ce0a5cb-201f-45a0-ade5-94c7f0bd6095",
   "metadata": {
    "execution": {
     "iopub.execute_input": "2025-08-05T15:47:41.293230Z",
     "iopub.status.busy": "2025-08-05T15:47:41.292797Z",
     "iopub.status.idle": "2025-08-05T15:47:41.299586Z",
     "shell.execute_reply": "2025-08-05T15:47:41.298643Z"
    },
    "papermill": {
     "duration": 0.031081,
     "end_time": "2025-08-05T15:47:41.301271",
     "exception": false,
     "start_time": "2025-08-05T15:47:41.270190",
     "status": "completed"
    },
    "tags": []
   },
   "outputs": [
    {
     "data": {
      "text/plain": [
       "{'coverage': 0.9126407312451231, 'avg_size': 1.2800579645524468}"
      ]
     },
     "execution_count": 45,
     "metadata": {},
     "output_type": "execute_result"
    }
   ],
   "source": [
    "metrics"
   ]
  },
  {
   "cell_type": "code",
   "execution_count": 46,
   "id": "9b9a838d-31c9-430b-ae14-12baee460d17",
   "metadata": {
    "execution": {
     "iopub.execute_input": "2025-08-05T15:47:41.361130Z",
     "iopub.status.busy": "2025-08-05T15:47:41.360611Z",
     "iopub.status.idle": "2025-08-05T15:47:41.368983Z",
     "shell.execute_reply": "2025-08-05T15:47:41.367773Z"
    },
    "papermill": {
     "duration": 0.03499,
     "end_time": "2025-08-05T15:47:41.370713",
     "exception": false,
     "start_time": "2025-08-05T15:47:41.335723",
     "status": "completed"
    },
    "tags": []
   },
   "outputs": [],
   "source": [
    "example_universe = universe.copy()\n",
    "universe_training_year = example_universe.get(\"training_year\")\n",
    "universe_training_size = example_universe.get(\"training_size\")\n",
    "universe_scale = example_universe.get(\"scale\")\n",
    "universe_model = example_universe.get(\"model\")\n",
    "universe_exclude_features = example_universe.get(\"exclude_features\")\n",
    "universe_exclude_subgroups = example_universe.get(\"exclude_subgroups\")"
   ]
  },
  {
   "cell_type": "code",
   "execution_count": 47,
   "id": "f4b6a8ac-9dc0-4245-8a91-5b3b5999c4f9",
   "metadata": {
    "execution": {
     "iopub.execute_input": "2025-08-05T15:47:41.396299Z",
     "iopub.status.busy": "2025-08-05T15:47:41.395619Z",
     "iopub.status.idle": "2025-08-05T15:47:41.401023Z",
     "shell.execute_reply": "2025-08-05T15:47:41.400248Z"
    },
    "papermill": {
     "duration": 0.019207,
     "end_time": "2025-08-05T15:47:41.402591",
     "exception": false,
     "start_time": "2025-08-05T15:47:41.383384",
     "status": "completed"
    },
    "tags": []
   },
   "outputs": [],
   "source": [
    "cp_metrics_dict = {\n",
    "    \"universe_id\": [universe_id],\n",
    "    \"universe_training_year\": [universe_training_year],\n",
    "    \"universe_training_size\": [universe_training_size],\n",
    "    \"universe_scale\": [universe_scale],\n",
    "    \"universe_model\": [universe_model],\n",
    "    \"universe_exclude_features\": [universe_exclude_features],\n",
    "    \"universe_exclude_subgroups\": [universe_exclude_subgroups],\n",
    "    \"q_hat\": [q_hat],\n",
    "    \"coverage\": [metrics[\"coverage\"]],\n",
    "    \"avg_size\": [metrics[\"avg_size\"]],\n",
    "}"
   ]
  },
  {
   "cell_type": "code",
   "execution_count": 48,
   "id": "908acbb1-0371-4915-85ca-3fa520d2efe2",
   "metadata": {
    "execution": {
     "iopub.execute_input": "2025-08-05T15:47:41.433464Z",
     "iopub.status.busy": "2025-08-05T15:47:41.433102Z",
     "iopub.status.idle": "2025-08-05T15:47:41.439750Z",
     "shell.execute_reply": "2025-08-05T15:47:41.438908Z"
    },
    "papermill": {
     "duration": 0.020672,
     "end_time": "2025-08-05T15:47:41.441263",
     "exception": false,
     "start_time": "2025-08-05T15:47:41.420591",
     "status": "completed"
    },
    "tags": []
   },
   "outputs": [
    {
     "data": {
      "text/plain": [
       "{'universe_id': ['3e3aba496858c4fcba82d2d8c53d6960'],\n",
       " 'universe_training_year': ['2012_14'],\n",
       " 'universe_training_size': ['5k'],\n",
       " 'universe_scale': ['do-not-scale'],\n",
       " 'universe_model': ['elasticnet'],\n",
       " 'universe_exclude_features': ['age'],\n",
       " 'universe_exclude_subgroups': ['drop-non-german'],\n",
       " 'q_hat': [0.6709347942445741],\n",
       " 'coverage': [0.9126407312451231],\n",
       " 'avg_size': [1.2800579645524468]}"
      ]
     },
     "execution_count": 48,
     "metadata": {},
     "output_type": "execute_result"
    }
   ],
   "source": [
    "cp_metrics_dict"
   ]
  },
  {
   "cell_type": "code",
   "execution_count": 49,
   "id": "33007efc-14e9-4ec6-97ac-56a455c82265",
   "metadata": {
    "execution": {
     "iopub.execute_input": "2025-08-05T15:47:41.467264Z",
     "iopub.status.busy": "2025-08-05T15:47:41.466554Z",
     "iopub.status.idle": "2025-08-05T15:47:41.472194Z",
     "shell.execute_reply": "2025-08-05T15:47:41.471405Z"
    },
    "papermill": {
     "duration": 0.019905,
     "end_time": "2025-08-05T15:47:41.473831",
     "exception": false,
     "start_time": "2025-08-05T15:47:41.453926",
     "status": "completed"
    },
    "tags": []
   },
   "outputs": [],
   "source": [
    "cp_metrics_df = pd.DataFrame(cp_metrics_dict)"
   ]
  },
  {
   "cell_type": "code",
   "execution_count": 50,
   "id": "db12611b-57b2-4910-b9d0-355adfd6e7bf",
   "metadata": {
    "execution": {
     "iopub.execute_input": "2025-08-05T15:47:41.505443Z",
     "iopub.status.busy": "2025-08-05T15:47:41.504557Z",
     "iopub.status.idle": "2025-08-05T15:47:41.519652Z",
     "shell.execute_reply": "2025-08-05T15:47:41.518733Z"
    },
    "papermill": {
     "duration": 0.031663,
     "end_time": "2025-08-05T15:47:41.520994",
     "exception": false,
     "start_time": "2025-08-05T15:47:41.489331",
     "status": "completed"
    },
    "tags": []
   },
   "outputs": [
    {
     "data": {
      "text/html": [
       "<div>\n",
       "<style scoped>\n",
       "    .dataframe tbody tr th:only-of-type {\n",
       "        vertical-align: middle;\n",
       "    }\n",
       "\n",
       "    .dataframe tbody tr th {\n",
       "        vertical-align: top;\n",
       "    }\n",
       "\n",
       "    .dataframe thead th {\n",
       "        text-align: right;\n",
       "    }\n",
       "</style>\n",
       "<table border=\"1\" class=\"dataframe\">\n",
       "  <thead>\n",
       "    <tr style=\"text-align: right;\">\n",
       "      <th></th>\n",
       "      <th>universe_id</th>\n",
       "      <th>universe_training_year</th>\n",
       "      <th>universe_training_size</th>\n",
       "      <th>universe_scale</th>\n",
       "      <th>universe_model</th>\n",
       "      <th>universe_exclude_features</th>\n",
       "      <th>universe_exclude_subgroups</th>\n",
       "      <th>q_hat</th>\n",
       "      <th>coverage</th>\n",
       "      <th>avg_size</th>\n",
       "    </tr>\n",
       "  </thead>\n",
       "  <tbody>\n",
       "    <tr>\n",
       "      <th>0</th>\n",
       "      <td>3e3aba496858c4fcba82d2d8c53d6960</td>\n",
       "      <td>2012_14</td>\n",
       "      <td>5k</td>\n",
       "      <td>do-not-scale</td>\n",
       "      <td>elasticnet</td>\n",
       "      <td>age</td>\n",
       "      <td>drop-non-german</td>\n",
       "      <td>0.670935</td>\n",
       "      <td>0.912641</td>\n",
       "      <td>1.280058</td>\n",
       "    </tr>\n",
       "  </tbody>\n",
       "</table>\n",
       "</div>"
      ],
      "text/plain": [
       "                        universe_id universe_training_year  \\\n",
       "0  3e3aba496858c4fcba82d2d8c53d6960                2012_14   \n",
       "\n",
       "  universe_training_size universe_scale universe_model  \\\n",
       "0                     5k   do-not-scale     elasticnet   \n",
       "\n",
       "  universe_exclude_features universe_exclude_subgroups     q_hat  coverage  \\\n",
       "0                       age            drop-non-german  0.670935  0.912641   \n",
       "\n",
       "   avg_size  \n",
       "0  1.280058  "
      ]
     },
     "execution_count": 50,
     "metadata": {},
     "output_type": "execute_result"
    }
   ],
   "source": [
    "cp_metrics_df"
   ]
  },
  {
   "cell_type": "code",
   "execution_count": 51,
   "id": "b7fbde55-a0a1-47e4-9af6-fe4a17fa8c61",
   "metadata": {
    "execution": {
     "iopub.execute_input": "2025-08-05T15:47:41.547304Z",
     "iopub.status.busy": "2025-08-05T15:47:41.546838Z",
     "iopub.status.idle": "2025-08-05T15:47:41.552262Z",
     "shell.execute_reply": "2025-08-05T15:47:41.551121Z"
    },
    "papermill": {
     "duration": 0.021002,
     "end_time": "2025-08-05T15:47:41.554262",
     "exception": false,
     "start_time": "2025-08-05T15:47:41.533260",
     "status": "completed"
    },
    "tags": []
   },
   "outputs": [],
   "source": [
    "# Conditional Coverage & looking at subgroups"
   ]
  },
  {
   "cell_type": "code",
   "execution_count": 52,
   "id": "027ae886-68dd-4141-96c7-805a5450e1ef",
   "metadata": {
    "execution": {
     "iopub.execute_input": "2025-08-05T15:47:41.581551Z",
     "iopub.status.busy": "2025-08-05T15:47:41.581235Z",
     "iopub.status.idle": "2025-08-05T15:47:41.865985Z",
     "shell.execute_reply": "2025-08-05T15:47:41.864799Z"
    },
    "papermill": {
     "duration": 0.299316,
     "end_time": "2025-08-05T15:47:41.867857",
     "exception": false,
     "start_time": "2025-08-05T15:47:41.568541",
     "status": "completed"
    },
    "tags": []
   },
   "outputs": [],
   "source": [
    "from fairness_multiverse.conformal import build_cp_groups\n",
    "\n",
    "cp_groups_df = build_cp_groups(pred_sets, y_true, X_test.index, org_test)\n",
    "#needs universe_id and setting"
   ]
  },
  {
   "cell_type": "code",
   "execution_count": 53,
   "id": "6cbdab96-b2b2-45af-ad54-d0516db2e28d",
   "metadata": {
    "execution": {
     "iopub.execute_input": "2025-08-05T15:47:41.917915Z",
     "iopub.status.busy": "2025-08-05T15:47:41.916997Z",
     "iopub.status.idle": "2025-08-05T15:47:43.071937Z",
     "shell.execute_reply": "2025-08-05T15:47:43.071101Z"
    },
    "papermill": {
     "duration": 1.182282,
     "end_time": "2025-08-05T15:47:43.073458",
     "exception": false,
     "start_time": "2025-08-05T15:47:41.891176",
     "status": "completed"
    },
    "tags": []
   },
   "outputs": [],
   "source": [
    "# Define covered = 1 if true_label is in the predicted set\n",
    "cp_groups_df['covered'] = cp_groups_df.apply(\n",
    "    lambda r: int(r['true_label'] in r['pred_set']),\n",
    "    axis=1\n",
    ")"
   ]
  },
  {
   "cell_type": "code",
   "execution_count": 54,
   "id": "338ff529-1a6b-4b87-a931-8e4788d52aad",
   "metadata": {
    "execution": {
     "iopub.execute_input": "2025-08-05T15:47:43.100086Z",
     "iopub.status.busy": "2025-08-05T15:47:43.099534Z",
     "iopub.status.idle": "2025-08-05T15:47:43.104089Z",
     "shell.execute_reply": "2025-08-05T15:47:43.103250Z"
    },
    "papermill": {
     "duration": 0.019089,
     "end_time": "2025-08-05T15:47:43.105496",
     "exception": false,
     "start_time": "2025-08-05T15:47:43.086407",
     "status": "completed"
    },
    "tags": []
   },
   "outputs": [],
   "source": [
    "#cp_groups_df"
   ]
  },
  {
   "cell_type": "code",
   "execution_count": 55,
   "id": "90032e27-66df-4540-9169-4e89cfbaa758",
   "metadata": {
    "execution": {
     "iopub.execute_input": "2025-08-05T15:47:43.132461Z",
     "iopub.status.busy": "2025-08-05T15:47:43.131929Z",
     "iopub.status.idle": "2025-08-05T15:47:43.142283Z",
     "shell.execute_reply": "2025-08-05T15:47:43.141334Z"
    },
    "papermill": {
     "duration": 0.025004,
     "end_time": "2025-08-05T15:47:43.143642",
     "exception": false,
     "start_time": "2025-08-05T15:47:43.118638",
     "status": "completed"
    },
    "tags": []
   },
   "outputs": [],
   "source": [
    "subgroups = ['frau1','nongerman','nongerman_male','nongerman_female']\n",
    "\n",
    "# Conditional coverage for subgroup==1\n",
    "cond_coverage = {\n",
    "    g: cp_groups_df.loc[cp_groups_df[g]==1, 'covered'].mean()\n",
    "    for g in subgroups\n",
    "}"
   ]
  },
  {
   "cell_type": "code",
   "execution_count": 56,
   "id": "1e348fb1-b9c3-45bc-ba23-f016827a7e0d",
   "metadata": {
    "execution": {
     "iopub.execute_input": "2025-08-05T15:47:43.169947Z",
     "iopub.status.busy": "2025-08-05T15:47:43.169332Z",
     "iopub.status.idle": "2025-08-05T15:47:43.176004Z",
     "shell.execute_reply": "2025-08-05T15:47:43.175040Z"
    },
    "papermill": {
     "duration": 0.021352,
     "end_time": "2025-08-05T15:47:43.177700",
     "exception": false,
     "start_time": "2025-08-05T15:47:43.156348",
     "status": "completed"
    },
    "tags": []
   },
   "outputs": [
    {
     "data": {
      "text/plain": [
       "{'frau1': 0.9093139237093948,\n",
       " 'nongerman': 0.965530792118116,\n",
       " 'nongerman_male': 0.9740610645771414,\n",
       " 'nongerman_female': 0.9514157973174366}"
      ]
     },
     "execution_count": 56,
     "metadata": {},
     "output_type": "execute_result"
    }
   ],
   "source": [
    "cond_coverage"
   ]
  },
  {
   "cell_type": "code",
   "execution_count": 57,
   "id": "f5093324-c3dd-4d63-bc4c-8d945e5c8bbb",
   "metadata": {
    "execution": {
     "iopub.execute_input": "2025-08-05T15:47:43.211927Z",
     "iopub.status.busy": "2025-08-05T15:47:43.211110Z",
     "iopub.status.idle": "2025-08-05T15:47:43.219985Z",
     "shell.execute_reply": "2025-08-05T15:47:43.218870Z"
    },
    "papermill": {
     "duration": 0.031532,
     "end_time": "2025-08-05T15:47:43.222218",
     "exception": false,
     "start_time": "2025-08-05T15:47:43.190686",
     "status": "completed"
    },
    "tags": []
   },
   "outputs": [],
   "source": [
    "for subgroup, cov in cond_coverage.items():\n",
    "    cp_metrics_df[f\"cov_{subgroup}\"] = cov"
   ]
  },
  {
   "cell_type": "code",
   "execution_count": 58,
   "id": "6e872e10-dbe5-49e8-b554-5030c98ff75d",
   "metadata": {
    "execution": {
     "iopub.execute_input": "2025-08-05T15:47:43.276812Z",
     "iopub.status.busy": "2025-08-05T15:47:43.276294Z",
     "iopub.status.idle": "2025-08-05T15:47:43.298063Z",
     "shell.execute_reply": "2025-08-05T15:47:43.296996Z"
    },
    "papermill": {
     "duration": 0.051917,
     "end_time": "2025-08-05T15:47:43.299898",
     "exception": false,
     "start_time": "2025-08-05T15:47:43.247981",
     "status": "completed"
    },
    "tags": []
   },
   "outputs": [
    {
     "data": {
      "text/html": [
       "<div>\n",
       "<style scoped>\n",
       "    .dataframe tbody tr th:only-of-type {\n",
       "        vertical-align: middle;\n",
       "    }\n",
       "\n",
       "    .dataframe tbody tr th {\n",
       "        vertical-align: top;\n",
       "    }\n",
       "\n",
       "    .dataframe thead th {\n",
       "        text-align: right;\n",
       "    }\n",
       "</style>\n",
       "<table border=\"1\" class=\"dataframe\">\n",
       "  <thead>\n",
       "    <tr style=\"text-align: right;\">\n",
       "      <th></th>\n",
       "      <th>universe_id</th>\n",
       "      <th>universe_training_year</th>\n",
       "      <th>universe_training_size</th>\n",
       "      <th>universe_scale</th>\n",
       "      <th>universe_model</th>\n",
       "      <th>universe_exclude_features</th>\n",
       "      <th>universe_exclude_subgroups</th>\n",
       "      <th>q_hat</th>\n",
       "      <th>coverage</th>\n",
       "      <th>avg_size</th>\n",
       "      <th>cov_frau1</th>\n",
       "      <th>cov_nongerman</th>\n",
       "      <th>cov_nongerman_male</th>\n",
       "      <th>cov_nongerman_female</th>\n",
       "    </tr>\n",
       "  </thead>\n",
       "  <tbody>\n",
       "    <tr>\n",
       "      <th>0</th>\n",
       "      <td>3e3aba496858c4fcba82d2d8c53d6960</td>\n",
       "      <td>2012_14</td>\n",
       "      <td>5k</td>\n",
       "      <td>do-not-scale</td>\n",
       "      <td>elasticnet</td>\n",
       "      <td>age</td>\n",
       "      <td>drop-non-german</td>\n",
       "      <td>0.670935</td>\n",
       "      <td>0.912641</td>\n",
       "      <td>1.280058</td>\n",
       "      <td>0.909314</td>\n",
       "      <td>0.965531</td>\n",
       "      <td>0.974061</td>\n",
       "      <td>0.951416</td>\n",
       "    </tr>\n",
       "  </tbody>\n",
       "</table>\n",
       "</div>"
      ],
      "text/plain": [
       "                        universe_id universe_training_year  \\\n",
       "0  3e3aba496858c4fcba82d2d8c53d6960                2012_14   \n",
       "\n",
       "  universe_training_size universe_scale universe_model  \\\n",
       "0                     5k   do-not-scale     elasticnet   \n",
       "\n",
       "  universe_exclude_features universe_exclude_subgroups     q_hat  coverage  \\\n",
       "0                       age            drop-non-german  0.670935  0.912641   \n",
       "\n",
       "   avg_size  cov_frau1  cov_nongerman  cov_nongerman_male  \\\n",
       "0  1.280058   0.909314       0.965531            0.974061   \n",
       "\n",
       "   cov_nongerman_female  \n",
       "0              0.951416  "
      ]
     },
     "execution_count": 58,
     "metadata": {},
     "output_type": "execute_result"
    }
   ],
   "source": [
    "cp_metrics_df"
   ]
  },
  {
   "cell_type": "markdown",
   "id": "33774451",
   "metadata": {
    "papermill": {
     "duration": 0.02455,
     "end_time": "2025-08-05T15:47:43.347942",
     "exception": false,
     "start_time": "2025-08-05T15:47:43.323392",
     "status": "completed"
    },
    "tags": []
   },
   "source": [
    "# (Fairness) Metrics"
   ]
  },
  {
   "cell_type": "code",
   "execution_count": 59,
   "id": "debc5d62",
   "metadata": {
    "execution": {
     "iopub.execute_input": "2025-08-05T15:47:43.395528Z",
     "iopub.status.busy": "2025-08-05T15:47:43.395003Z",
     "iopub.status.idle": "2025-08-05T15:47:43.416724Z",
     "shell.execute_reply": "2025-08-05T15:47:43.415660Z"
    },
    "papermill": {
     "duration": 0.047387,
     "end_time": "2025-08-05T15:47:43.418621",
     "exception": false,
     "start_time": "2025-08-05T15:47:43.371234",
     "status": "completed"
    },
    "tags": []
   },
   "outputs": [],
   "source": [
    "# do I need to include maxdeutsch1.missing?\n",
    "\n",
    "import numpy as np\n",
    "\n",
    "colname_to_bin = \"maxdeutsch1\"\n",
    "majority_value = org_train[colname_to_bin].mode()[0]\n",
    "\n",
    "org_test[\"majmin\"] = np.where(org_test[colname_to_bin] == majority_value, \"majority\", \"minority\")"
   ]
  },
  {
   "cell_type": "code",
   "execution_count": 60,
   "id": "06a50de5",
   "metadata": {
    "execution": {
     "iopub.execute_input": "2025-08-05T15:47:43.475151Z",
     "iopub.status.busy": "2025-08-05T15:47:43.474467Z",
     "iopub.status.idle": "2025-08-05T15:47:45.723601Z",
     "shell.execute_reply": "2025-08-05T15:47:45.722794Z"
    },
    "papermill": {
     "duration": 2.27875,
     "end_time": "2025-08-05T15:47:45.725069",
     "exception": false,
     "start_time": "2025-08-05T15:47:43.446319",
     "status": "completed"
    },
    "tags": []
   },
   "outputs": [],
   "source": [
    "example_universe = universe.copy()\n",
    "example_universe[\"cutoff\"] = example_universe[\"cutoff\"][0]\n",
    "example_universe[\"eval_fairness_grouping\"] = example_universe[\"eval_fairness_grouping\"][0]\n",
    "fairness_dict, metric_frame = universe_analysis.compute_metrics(\n",
    "    example_universe,\n",
    "    y_pred_prob=probs_test,\n",
    "    y_test=y_true,\n",
    "    org_test=org_test,\n",
    ")"
   ]
  },
  {
   "cell_type": "markdown",
   "id": "f95d4e02",
   "metadata": {
    "papermill": {
     "duration": 0.012072,
     "end_time": "2025-08-05T15:47:45.750152",
     "exception": false,
     "start_time": "2025-08-05T15:47:45.738080",
     "status": "completed"
    },
    "tags": []
   },
   "source": [
    "# Overall"
   ]
  },
  {
   "cell_type": "markdown",
   "id": "bdee4871",
   "metadata": {
    "papermill": {
     "duration": 0.012444,
     "end_time": "2025-08-05T15:47:45.774636",
     "exception": false,
     "start_time": "2025-08-05T15:47:45.762192",
     "status": "completed"
    },
    "tags": []
   },
   "source": [
    "Fairness\n",
    "Main fairness target: Equalized Odds. Seems to be a better fit than equal opportunity, since we're not only interested in Y = 1. Seems to be a better fit than demographic parity, since we also care about accuracy, not just equal distribution of preds.\n",
    "\n",
    "Pick column for computation of fairness metrics\n",
    "\n",
    "Performance\n",
    "Overall performance measures, most interesting in relation to the measures split by group below"
   ]
  },
  {
   "cell_type": "code",
   "execution_count": 61,
   "id": "c4e067c6",
   "metadata": {
    "execution": {
     "iopub.execute_input": "2025-08-05T15:47:45.800962Z",
     "iopub.status.busy": "2025-08-05T15:47:45.800403Z",
     "iopub.status.idle": "2025-08-05T15:47:45.808049Z",
     "shell.execute_reply": "2025-08-05T15:47:45.807101Z"
    },
    "papermill": {
     "duration": 0.022663,
     "end_time": "2025-08-05T15:47:45.809492",
     "exception": false,
     "start_time": "2025-08-05T15:47:45.786829",
     "status": "completed"
    },
    "tags": []
   },
   "outputs": [
    {
     "data": {
      "text/plain": [
       "accuracy                   0.213967\n",
       "balanced accuracy          0.525359\n",
       "f1                         0.235585\n",
       "precision                  0.134582\n",
       "false positive rate        0.893494\n",
       "false negative rate        0.055787\n",
       "selection rate             0.900000\n",
       "count                  89710.000000\n",
       "dtype: float64"
      ]
     },
     "execution_count": 61,
     "metadata": {},
     "output_type": "execute_result"
    }
   ],
   "source": [
    "metric_frame.overall"
   ]
  },
  {
   "cell_type": "markdown",
   "id": "e968fe9d",
   "metadata": {
    "papermill": {
     "duration": 0.012321,
     "end_time": "2025-08-05T15:47:45.835382",
     "exception": false,
     "start_time": "2025-08-05T15:47:45.823061",
     "status": "completed"
    },
    "tags": []
   },
   "source": [
    "By Group"
   ]
  },
  {
   "cell_type": "code",
   "execution_count": 62,
   "id": "ec325bce",
   "metadata": {
    "execution": {
     "iopub.execute_input": "2025-08-05T15:47:45.865784Z",
     "iopub.status.busy": "2025-08-05T15:47:45.865318Z",
     "iopub.status.idle": "2025-08-05T15:47:45.878862Z",
     "shell.execute_reply": "2025-08-05T15:47:45.877948Z"
    },
    "papermill": {
     "duration": 0.032483,
     "end_time": "2025-08-05T15:47:45.880494",
     "exception": false,
     "start_time": "2025-08-05T15:47:45.848011",
     "status": "completed"
    },
    "tags": []
   },
   "outputs": [
    {
     "data": {
      "text/html": [
       "<div>\n",
       "<style scoped>\n",
       "    .dataframe tbody tr th:only-of-type {\n",
       "        vertical-align: middle;\n",
       "    }\n",
       "\n",
       "    .dataframe tbody tr th {\n",
       "        vertical-align: top;\n",
       "    }\n",
       "\n",
       "    .dataframe thead th {\n",
       "        text-align: right;\n",
       "    }\n",
       "</style>\n",
       "<table border=\"1\" class=\"dataframe\">\n",
       "  <thead>\n",
       "    <tr style=\"text-align: right;\">\n",
       "      <th></th>\n",
       "      <th>accuracy</th>\n",
       "      <th>balanced accuracy</th>\n",
       "      <th>f1</th>\n",
       "      <th>precision</th>\n",
       "      <th>false positive rate</th>\n",
       "      <th>false negative rate</th>\n",
       "      <th>selection rate</th>\n",
       "      <th>count</th>\n",
       "    </tr>\n",
       "    <tr>\n",
       "      <th>majmin</th>\n",
       "      <th></th>\n",
       "      <th></th>\n",
       "      <th></th>\n",
       "      <th></th>\n",
       "      <th></th>\n",
       "      <th></th>\n",
       "      <th></th>\n",
       "      <th></th>\n",
       "    </tr>\n",
       "  </thead>\n",
       "  <tbody>\n",
       "    <tr>\n",
       "      <th>majority</th>\n",
       "      <td>0.234856</td>\n",
       "      <td>0.532235</td>\n",
       "      <td>0.244393</td>\n",
       "      <td>0.140535</td>\n",
       "      <td>0.871964</td>\n",
       "      <td>0.063567</td>\n",
       "      <td>0.880483</td>\n",
       "      <td>69170.0</td>\n",
       "    </tr>\n",
       "    <tr>\n",
       "      <th>minority</th>\n",
       "      <td>0.143622</td>\n",
       "      <td>0.504812</td>\n",
       "      <td>0.207800</td>\n",
       "      <td>0.116304</td>\n",
       "      <td>0.964616</td>\n",
       "      <td>0.025760</td>\n",
       "      <td>0.965725</td>\n",
       "      <td>20540.0</td>\n",
       "    </tr>\n",
       "  </tbody>\n",
       "</table>\n",
       "</div>"
      ],
      "text/plain": [
       "          accuracy  balanced accuracy        f1  precision  \\\n",
       "majmin                                                       \n",
       "majority  0.234856           0.532235  0.244393   0.140535   \n",
       "minority  0.143622           0.504812  0.207800   0.116304   \n",
       "\n",
       "          false positive rate  false negative rate  selection rate    count  \n",
       "majmin                                                                       \n",
       "majority             0.871964             0.063567        0.880483  69170.0  \n",
       "minority             0.964616             0.025760        0.965725  20540.0  "
      ]
     },
     "execution_count": 62,
     "metadata": {},
     "output_type": "execute_result"
    }
   ],
   "source": [
    "metric_frame.by_group"
   ]
  },
  {
   "cell_type": "code",
   "execution_count": 63,
   "id": "a9ddbe63",
   "metadata": {
    "execution": {
     "iopub.execute_input": "2025-08-05T15:47:45.908664Z",
     "iopub.status.busy": "2025-08-05T15:47:45.907914Z",
     "iopub.status.idle": "2025-08-05T15:47:48.120128Z",
     "shell.execute_reply": "2025-08-05T15:47:48.119030Z"
    },
    "papermill": {
     "duration": 2.227625,
     "end_time": "2025-08-05T15:47:48.122184",
     "exception": false,
     "start_time": "2025-08-05T15:47:45.894559",
     "status": "completed"
    },
    "tags": []
   },
   "outputs": [
    {
     "data": {
      "text/plain": [
       "array([[<Axes: title={'center': 'accuracy'}, xlabel='majmin'>,\n",
       "        <Axes: title={'center': 'balanced accuracy'}, xlabel='majmin'>,\n",
       "        <Axes: title={'center': 'f1'}, xlabel='majmin'>],\n",
       "       [<Axes: title={'center': 'precision'}, xlabel='majmin'>,\n",
       "        <Axes: title={'center': 'false positive rate'}, xlabel='majmin'>,\n",
       "        <Axes: title={'center': 'false negative rate'}, xlabel='majmin'>],\n",
       "       [<Axes: title={'center': 'selection rate'}, xlabel='majmin'>,\n",
       "        <Axes: title={'center': 'count'}, xlabel='majmin'>,\n",
       "        <Axes: xlabel='majmin'>]], dtype=object)"
      ]
     },
     "execution_count": 63,
     "metadata": {},
     "output_type": "execute_result"
    },
    {
     "data": {
      "image/png": "[encoded data removed]",
      "text/plain": [
       "<Figure size 1200x800 with 9 Axes>"
      ]
     },
     "metadata": {},
     "output_type": "display_data"
    }
   ],
   "source": [
    "# In a graphic\n",
    "metric_frame.by_group.plot.bar(\n",
    "    subplots=True,\n",
    "    layout=[3, 3],\n",
    "    legend=False,\n",
    "    figsize=[12, 8],\n",
    "    title=\"Show all metrics\",\n",
    ")"
   ]
  },
  {
   "cell_type": "markdown",
   "id": "f57a0bac",
   "metadata": {
    "papermill": {
     "duration": 0.030369,
     "end_time": "2025-08-05T15:47:48.183432",
     "exception": false,
     "start_time": "2025-08-05T15:47:48.153063",
     "status": "completed"
    },
    "tags": []
   },
   "source": [
    "# Final Output"
   ]
  },
  {
   "cell_type": "code",
   "execution_count": 64,
   "id": "96d280a3",
   "metadata": {
    "execution": {
     "iopub.execute_input": "2025-08-05T15:47:48.246864Z",
     "iopub.status.busy": "2025-08-05T15:47:48.246209Z",
     "iopub.status.idle": "2025-08-05T15:47:48.254697Z",
     "shell.execute_reply": "2025-08-05T15:47:48.253700Z"
    },
    "papermill": {
     "duration": 0.042115,
     "end_time": "2025-08-05T15:47:48.256466",
     "exception": false,
     "start_time": "2025-08-05T15:47:48.214351",
     "status": "completed"
    },
    "tags": []
   },
   "outputs": [
    {
     "data": {
      "text/plain": [
       "4"
      ]
     },
     "execution_count": 64,
     "metadata": {},
     "output_type": "execute_result"
    }
   ],
   "source": [
    "sub_universes = universe_analysis.generate_sub_universes()\n",
    "len(sub_universes)"
   ]
  },
  {
   "cell_type": "code",
   "execution_count": 65,
   "id": "92adf7ba",
   "metadata": {
    "execution": {
     "iopub.execute_input": "2025-08-05T15:47:48.319825Z",
     "iopub.status.busy": "2025-08-05T15:47:48.319134Z",
     "iopub.status.idle": "2025-08-05T15:47:48.325904Z",
     "shell.execute_reply": "2025-08-05T15:47:48.324860Z"
    },
    "papermill": {
     "duration": 0.040024,
     "end_time": "2025-08-05T15:47:48.327797",
     "exception": false,
     "start_time": "2025-08-05T15:47:48.287773",
     "status": "completed"
    },
    "tags": []
   },
   "outputs": [],
   "source": [
    "def filter_sub_universe_data(sub_universe, org_test):\n",
    "    # Keep all rows — no filtering\n",
    "    keep_rows_mask = np.ones(org_test.shape[0], dtype=bool)\n",
    "\n",
    "    print(f\"[INFO] Keeping all rows: {keep_rows_mask.sum()} rows retained.\")\n",
    "    return keep_rows_mask"
   ]
  },
  {
   "cell_type": "code",
   "execution_count": 66,
   "id": "4a759155",
   "metadata": {
    "execution": {
     "iopub.execute_input": "2025-08-05T15:47:48.392027Z",
     "iopub.status.busy": "2025-08-05T15:47:48.391330Z",
     "iopub.status.idle": "2025-08-05T15:47:57.751765Z",
     "shell.execute_reply": "2025-08-05T15:47:57.750691Z"
    },
    "papermill": {
     "duration": 9.394376,
     "end_time": "2025-08-05T15:47:57.753470",
     "exception": false,
     "start_time": "2025-08-05T15:47:48.359094",
     "status": "completed"
    },
    "tags": []
   },
   "outputs": [
    {
     "name": "stdout",
     "output_type": "stream",
     "text": [
      "Stopping execution_time clock.\n",
      "[INFO] Keeping all rows: 89710 rows retained.\n"
     ]
    },
    {
     "name": "stdout",
     "output_type": "stream",
     "text": [
      "[INFO] Keeping all rows: 89710 rows retained.\n"
     ]
    },
    {
     "name": "stdout",
     "output_type": "stream",
     "text": [
      "[INFO] Keeping all rows: 89710 rows retained.\n"
     ]
    },
    {
     "name": "stdout",
     "output_type": "stream",
     "text": [
      "[INFO] Keeping all rows: 89710 rows retained.\n"
     ]
    },
    {
     "data": {
      "text/html": [
       "<div>\n",
       "<style scoped>\n",
       "    .dataframe tbody tr th:only-of-type {\n",
       "        vertical-align: middle;\n",
       "    }\n",
       "\n",
       "    .dataframe tbody tr th {\n",
       "        vertical-align: top;\n",
       "    }\n",
       "\n",
       "    .dataframe thead th {\n",
       "        text-align: right;\n",
       "    }\n",
       "</style>\n",
       "<table border=\"1\" class=\"dataframe\">\n",
       "  <thead>\n",
       "    <tr style=\"text-align: right;\">\n",
       "      <th></th>\n",
       "      <th>run_no</th>\n",
       "      <th>universe_id</th>\n",
       "      <th>universe_settings</th>\n",
       "      <th>execution_time</th>\n",
       "      <th>test_size_n</th>\n",
       "      <th>test_size_frac</th>\n",
       "      <th>fair_main_equalized_odds_difference</th>\n",
       "      <th>fair_main_equalized_odds_ratio</th>\n",
       "      <th>fair_main_demographic_parity_difference</th>\n",
       "      <th>fair_main_demographic_parity_ratio</th>\n",
       "      <th>...</th>\n",
       "      <th>perf_grp_precision_0</th>\n",
       "      <th>perf_grp_precision_1</th>\n",
       "      <th>perf_grp_false positive rate_0</th>\n",
       "      <th>perf_grp_false positive rate_1</th>\n",
       "      <th>perf_grp_false negative rate_0</th>\n",
       "      <th>perf_grp_false negative rate_1</th>\n",
       "      <th>perf_grp_selection rate_0</th>\n",
       "      <th>perf_grp_selection rate_1</th>\n",
       "      <th>perf_grp_count_0</th>\n",
       "      <th>perf_grp_count_1</th>\n",
       "    </tr>\n",
       "  </thead>\n",
       "  <tbody>\n",
       "    <tr>\n",
       "      <th>0</th>\n",
       "      <td>15</td>\n",
       "      <td>3e3aba496858c4fcba82d2d8c53d6960</td>\n",
       "      <td>{\"cutoff\": \"quantile_0.1\", \"eval_fairness_grou...</td>\n",
       "      <td>25.038264</td>\n",
       "      <td>89710</td>\n",
       "      <td>1.0</td>\n",
       "      <td>0.092652</td>\n",
       "      <td>0.903949</td>\n",
       "      <td>0.085243</td>\n",
       "      <td>0.911732</td>\n",
       "      <td>...</td>\n",
       "      <td>NaN</td>\n",
       "      <td>NaN</td>\n",
       "      <td>NaN</td>\n",
       "      <td>NaN</td>\n",
       "      <td>NaN</td>\n",
       "      <td>NaN</td>\n",
       "      <td>NaN</td>\n",
       "      <td>NaN</td>\n",
       "      <td>NaN</td>\n",
       "      <td>NaN</td>\n",
       "    </tr>\n",
       "    <tr>\n",
       "      <th>0</th>\n",
       "      <td>15</td>\n",
       "      <td>3e3aba496858c4fcba82d2d8c53d6960</td>\n",
       "      <td>{\"cutoff\": \"quantile_0.1\", \"eval_fairness_grou...</td>\n",
       "      <td>25.038264</td>\n",
       "      <td>89710</td>\n",
       "      <td>1.0</td>\n",
       "      <td>0.092652</td>\n",
       "      <td>0.903949</td>\n",
       "      <td>0.085243</td>\n",
       "      <td>0.911732</td>\n",
       "      <td>...</td>\n",
       "      <td>0.116304</td>\n",
       "      <td>0.140535</td>\n",
       "      <td>0.964616</td>\n",
       "      <td>0.871964</td>\n",
       "      <td>0.025760</td>\n",
       "      <td>0.063567</td>\n",
       "      <td>0.965725</td>\n",
       "      <td>0.880483</td>\n",
       "      <td>20540.0</td>\n",
       "      <td>69170.0</td>\n",
       "    </tr>\n",
       "    <tr>\n",
       "      <th>0</th>\n",
       "      <td>15</td>\n",
       "      <td>3e3aba496858c4fcba82d2d8c53d6960</td>\n",
       "      <td>{\"cutoff\": \"quantile_0.25\", \"eval_fairness_gro...</td>\n",
       "      <td>25.038264</td>\n",
       "      <td>89710</td>\n",
       "      <td>1.0</td>\n",
       "      <td>0.223757</td>\n",
       "      <td>0.753986</td>\n",
       "      <td>0.210020</td>\n",
       "      <td>0.769697</td>\n",
       "      <td>...</td>\n",
       "      <td>NaN</td>\n",
       "      <td>NaN</td>\n",
       "      <td>NaN</td>\n",
       "      <td>NaN</td>\n",
       "      <td>NaN</td>\n",
       "      <td>NaN</td>\n",
       "      <td>NaN</td>\n",
       "      <td>NaN</td>\n",
       "      <td>NaN</td>\n",
       "      <td>NaN</td>\n",
       "    </tr>\n",
       "    <tr>\n",
       "      <th>0</th>\n",
       "      <td>15</td>\n",
       "      <td>3e3aba496858c4fcba82d2d8c53d6960</td>\n",
       "      <td>{\"cutoff\": \"quantile_0.25\", \"eval_fairness_gro...</td>\n",
       "      <td>25.038264</td>\n",
       "      <td>89710</td>\n",
       "      <td>1.0</td>\n",
       "      <td>0.223757</td>\n",
       "      <td>0.753986</td>\n",
       "      <td>0.210020</td>\n",
       "      <td>0.769697</td>\n",
       "      <td>...</td>\n",
       "      <td>0.117613</td>\n",
       "      <td>0.152087</td>\n",
       "      <td>0.909531</td>\n",
       "      <td>0.685774</td>\n",
       "      <td>0.069679</td>\n",
       "      <td>0.192123</td>\n",
       "      <td>0.911928</td>\n",
       "      <td>0.701908</td>\n",
       "      <td>20540.0</td>\n",
       "      <td>69170.0</td>\n",
       "    </tr>\n",
       "  </tbody>\n",
       "</table>\n",
       "<p>4 rows × 50 columns</p>\n",
       "</div>"
      ],
      "text/plain": [
       "  run_no                       universe_id  \\\n",
       "0     15  3e3aba496858c4fcba82d2d8c53d6960   \n",
       "0     15  3e3aba496858c4fcba82d2d8c53d6960   \n",
       "0     15  3e3aba496858c4fcba82d2d8c53d6960   \n",
       "0     15  3e3aba496858c4fcba82d2d8c53d6960   \n",
       "\n",
       "                                   universe_settings  execution_time  \\\n",
       "0  {\"cutoff\": \"quantile_0.1\", \"eval_fairness_grou...       25.038264   \n",
       "0  {\"cutoff\": \"quantile_0.1\", \"eval_fairness_grou...       25.038264   \n",
       "0  {\"cutoff\": \"quantile_0.25\", \"eval_fairness_gro...       25.038264   \n",
       "0  {\"cutoff\": \"quantile_0.25\", \"eval_fairness_gro...       25.038264   \n",
       "\n",
       "   test_size_n  test_size_frac  fair_main_equalized_odds_difference  \\\n",
       "0        89710             1.0                             0.092652   \n",
       "0        89710             1.0                             0.092652   \n",
       "0        89710             1.0                             0.223757   \n",
       "0        89710             1.0                             0.223757   \n",
       "\n",
       "   fair_main_equalized_odds_ratio  fair_main_demographic_parity_difference  \\\n",
       "0                        0.903949                                 0.085243   \n",
       "0                        0.903949                                 0.085243   \n",
       "0                        0.753986                                 0.210020   \n",
       "0                        0.753986                                 0.210020   \n",
       "\n",
       "   fair_main_demographic_parity_ratio  ...  perf_grp_precision_0  \\\n",
       "0                            0.911732  ...                   NaN   \n",
       "0                            0.911732  ...              0.116304   \n",
       "0                            0.769697  ...                   NaN   \n",
       "0                            0.769697  ...              0.117613   \n",
       "\n",
       "   perf_grp_precision_1  perf_grp_false positive rate_0  \\\n",
       "0                   NaN                             NaN   \n",
       "0              0.140535                        0.964616   \n",
       "0                   NaN                             NaN   \n",
       "0              0.152087                        0.909531   \n",
       "\n",
       "   perf_grp_false positive rate_1  perf_grp_false negative rate_0  \\\n",
       "0                             NaN                             NaN   \n",
       "0                        0.871964                        0.025760   \n",
       "0                             NaN                             NaN   \n",
       "0                        0.685774                        0.069679   \n",
       "\n",
       "   perf_grp_false negative rate_1  perf_grp_selection rate_0  \\\n",
       "0                             NaN                        NaN   \n",
       "0                        0.063567                   0.965725   \n",
       "0                             NaN                        NaN   \n",
       "0                        0.192123                   0.911928   \n",
       "\n",
       "   perf_grp_selection rate_1  perf_grp_count_0  perf_grp_count_1  \n",
       "0                        NaN               NaN               NaN  \n",
       "0                   0.880483           20540.0           69170.0  \n",
       "0                        NaN               NaN               NaN  \n",
       "0                   0.701908           20540.0           69170.0  \n",
       "\n",
       "[4 rows x 50 columns]"
      ]
     },
     "execution_count": 66,
     "metadata": {},
     "output_type": "execute_result"
    }
   ],
   "source": [
    "final_output = universe_analysis.generate_final_output(\n",
    "    y_pred_prob=probs_test,\n",
    "    y_test=y_true,\n",
    "    org_test=org_test,\n",
    "    filter_data=filter_sub_universe_data,\n",
    "    cp_metrics_df=cp_metrics_df,\n",
    "    save=True,\n",
    ")\n",
    "final_output"
   ]
  }
 ],
 "metadata": {
  "celltoolbar": "Tags",
  "kernelspec": {
   "display_name": "Python (CMA Fairness)",
   "language": "python",
   "name": "cma_fair_env"
  },
  "language_info": {
   "codemirror_mode": {
    "name": "ipython",
    "version": 3
   },
   "file_extension": ".py",
   "mimetype": "text/x-python",
   "name": "python",
   "nbconvert_exporter": "python",
   "pygments_lexer": "ipython3",
   "version": "3.10.12"
  },
  "papermill": {
   "default_parameters": {},
   "duration": 38.409288,
   "end_time": "2025-08-05T15:47:58.602896",
   "environment_variables": {},
   "exception": null,
   "input_path": "universe_analysis.ipynb",
   "output_path": "output/runs/15/notebooks/m_15-3e3aba496858c4fcba82d2d8c53d6960.ipynb",
   "parameters": {
    "output_dir": "output",
    "run_no": "15",
    "seed": "2023",
    "universe": "{\"cutoff\": [\"quantile_0.1\", \"quantile_0.25\"], \"eval_fairness_grouping\": [\"majority-minority\", \"nationality-all\"], \"exclude_features\": \"age\", \"exclude_subgroups\": \"drop-non-german\", \"model\": \"elasticnet\", \"scale\": \"do-not-scale\", \"training_size\": \"5k\", \"training_year\": \"2012_14\"}",
    "universe_id": "3e3aba496858c4fcba82d2d8c53d6960"
   },
   "start_time": "2025-08-05T15:47:20.193608",
   "version": "2.6.0"
  }
 },
 "nbformat": 4,
 "nbformat_minor": 5
}