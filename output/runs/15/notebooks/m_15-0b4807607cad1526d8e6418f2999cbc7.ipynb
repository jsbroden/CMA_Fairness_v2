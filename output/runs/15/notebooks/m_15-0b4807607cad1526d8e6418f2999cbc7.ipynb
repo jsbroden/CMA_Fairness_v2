{
 "cells": [
  {
   "cell_type": "code",
   "execution_count": 1,
   "id": "f159f837-637b-42ba-96b5-ec9a68c44524",
   "metadata": {
    "execution": {
     "iopub.execute_input": "2025-08-05T16:04:51.749732Z",
     "iopub.status.busy": "2025-08-05T16:04:51.749175Z",
     "iopub.status.idle": "2025-08-05T16:04:51.763762Z",
     "shell.execute_reply": "2025-08-05T16:04:51.762765Z"
    },
    "papermill": {
     "duration": 0.041759,
     "end_time": "2025-08-05T16:04:51.765701",
     "exception": false,
     "start_time": "2025-08-05T16:04:51.723942",
     "status": "completed"
    },
    "tags": []
   },
   "outputs": [
    {
     "name": "stdout",
     "output_type": "stream",
     "text": [
      "/dss/dsshome1/0C/ra93lal2/cma/CMA_Fairness_v2\n"
     ]
    },
    {
     "name": "stderr",
     "output_type": "stream",
     "text": [
      "/dss/dsshome1/0C/ra93lal2/.local/share/virtualenvs/CMA_Fairness_v2-3j10GkSs/lib/python3.10/site-packages/IPython/core/magics/osm.py:393: UserWarning: This is now an optional IPython functionality, using bookmarks requires you to install the `pickleshare` library.\n",
      "  bkms = self.shell.db.get('bookmarks', {})\n",
      "/dss/dsshome1/0C/ra93lal2/.local/share/virtualenvs/CMA_Fairness_v2-3j10GkSs/lib/python3.10/site-packages/IPython/core/magics/osm.py:417: UserWarning: This is now an optional IPython functionality, setting dhist requires you to install the `pickleshare` library.\n",
      "  self.shell.db['dhist'] = compress_dhist(dhist)[-100:]\n"
     ]
    }
   ],
   "source": [
    "%cd ~/cma/CMA_Fairness_v2"
   ]
  },
  {
   "cell_type": "markdown",
   "id": "de2603b9",
   "metadata": {
    "papermill": {
     "duration": 0.019157,
     "end_time": "2025-08-05T16:04:51.805112",
     "exception": false,
     "start_time": "2025-08-05T16:04:51.785955",
     "status": "completed"
    },
    "tags": []
   },
   "source": [
    "The following cell holds the definition of our parameters, these values can be overriden by rendering the with e.g. the following command:\n",
    "\n",
    "papermill -p alpha 0.2 -p ratio 0.3 universe_analysis.ipynb output/test_run.ipynb"
   ]
  },
  {
   "cell_type": "code",
   "execution_count": 2,
   "id": "a80968a0-40bb-4fa9-85ef-2d5eefb01975",
   "metadata": {
    "execution": {
     "iopub.execute_input": "2025-08-05T16:04:51.848207Z",
     "iopub.status.busy": "2025-08-05T16:04:51.847346Z",
     "iopub.status.idle": "2025-08-05T16:04:51.853118Z",
     "shell.execute_reply": "2025-08-05T16:04:51.852113Z"
    },
    "papermill": {
     "duration": 0.030135,
     "end_time": "2025-08-05T16:04:51.855064",
     "exception": false,
     "start_time": "2025-08-05T16:04:51.824929",
     "status": "completed"
    },
    "tags": []
   },
   "outputs": [
    {
     "name": "stdout",
     "output_type": "stream",
     "text": [
      "Current working directory: /dss/dsshome1/0C/ra93lal2/cma/CMA_Fairness_v2\n"
     ]
    }
   ],
   "source": [
    "import os\n",
    "print(\"Current working directory:\", os.getcwd())"
   ]
  },
  {
   "cell_type": "code",
   "execution_count": 3,
   "id": "2dce4c03",
   "metadata": {
    "execution": {
     "iopub.execute_input": "2025-08-05T16:04:51.893479Z",
     "iopub.status.busy": "2025-08-05T16:04:51.892731Z",
     "iopub.status.idle": "2025-08-05T16:04:51.899144Z",
     "shell.execute_reply": "2025-08-05T16:04:51.898179Z"
    },
    "papermill": {
     "duration": 0.027188,
     "end_time": "2025-08-05T16:04:51.901124",
     "exception": false,
     "start_time": "2025-08-05T16:04:51.873936",
     "status": "completed"
    },
    "tags": [
     "parameters"
    ]
   },
   "outputs": [],
   "source": [
    "run_no = 0\n",
    "universe_id = \"test\"\n",
    "universe = {\n",
    "    \"training_size\": \"25k\", # \"25k\", \"5k\", \"1k\"\n",
    "    \"training_year\": \"2014\", # \"2014\", \"2012_14\", \"2010_14\"\n",
    "    \"scale\": \"scale\", # \"scale\", \"do-not-scale\",\n",
    "    \"model\": \"elasticnet\", # \"logreg\", \"penalized_logreg\", \"rf\", \"gbm\", \"elasticnet\"\n",
    "    \"cutoff\": [\"quantile_0.15\", \"quantile_0.30\"],\n",
    "    \"exclude_features\": \"age\", # \"none\", \"nationality\", \"sex\", \"nationality-sex\", \"age\"\n",
    "    \"exclude_subgroups\": \"keep-all\", # \"keep-all\", \"drop-non-german\"\n",
    "    \"eval_fairness_grouping\": [\"majority-minority\", \"nationality-all\"]\n",
    "}\n",
    "\n",
    "output_dir=\"./output\"\n",
    "seed=0"
   ]
  },
  {
   "cell_type": "code",
   "execution_count": 4,
   "id": "688237d8",
   "metadata": {
    "execution": {
     "iopub.execute_input": "2025-08-05T16:04:51.940464Z",
     "iopub.status.busy": "2025-08-05T16:04:51.939804Z",
     "iopub.status.idle": "2025-08-05T16:04:51.945259Z",
     "shell.execute_reply": "2025-08-05T16:04:51.944302Z"
    },
    "papermill": {
     "duration": 0.027186,
     "end_time": "2025-08-05T16:04:51.947385",
     "exception": false,
     "start_time": "2025-08-05T16:04:51.920199",
     "status": "completed"
    },
    "tags": [
     "injected-parameters"
    ]
   },
   "outputs": [],
   "source": [
    "# Parameters\n",
    "universe_id = \"0b4807607cad1526d8e6418f2999cbc7\"\n",
    "run_no = \"15\"\n",
    "universe = \"{\\\"cutoff\\\": [\\\"quantile_0.1\\\", \\\"quantile_0.25\\\"], \\\"eval_fairness_grouping\\\": [\\\"majority-minority\\\", \\\"nationality-all\\\"], \\\"exclude_features\\\": \\\"sex\\\", \\\"exclude_subgroups\\\": \\\"drop-non-german\\\", \\\"model\\\": \\\"rf\\\", \\\"scale\\\": \\\"scale\\\", \\\"training_size\\\": \\\"1k\\\", \\\"training_year\\\": \\\"2014\\\"}\"\n",
    "output_dir = \"output\"\n",
    "seed = \"2023\"\n"
   ]
  },
  {
   "cell_type": "code",
   "execution_count": 5,
   "id": "1650acaf",
   "metadata": {
    "execution": {
     "iopub.execute_input": "2025-08-05T16:04:51.985638Z",
     "iopub.status.busy": "2025-08-05T16:04:51.984777Z",
     "iopub.status.idle": "2025-08-05T16:04:51.990387Z",
     "shell.execute_reply": "2025-08-05T16:04:51.989242Z"
    },
    "papermill": {
     "duration": 0.025759,
     "end_time": "2025-08-05T16:04:51.992283",
     "exception": false,
     "start_time": "2025-08-05T16:04:51.966524",
     "status": "completed"
    },
    "tags": []
   },
   "outputs": [],
   "source": [
    "import json\n",
    "if isinstance(universe, str):\n",
    "    universe = json.loads(universe)"
   ]
  },
  {
   "cell_type": "code",
   "execution_count": 6,
   "id": "16620c48",
   "metadata": {
    "execution": {
     "iopub.execute_input": "2025-08-05T16:04:52.031101Z",
     "iopub.status.busy": "2025-08-05T16:04:52.030265Z",
     "iopub.status.idle": "2025-08-05T16:04:52.079202Z",
     "shell.execute_reply": "2025-08-05T16:04:52.078221Z"
    },
    "papermill": {
     "duration": 0.070204,
     "end_time": "2025-08-05T16:04:52.081193",
     "exception": false,
     "start_time": "2025-08-05T16:04:52.010989",
     "status": "completed"
    },
    "tags": []
   },
   "outputs": [],
   "source": [
    "# Auto-reload the custom package\n",
    "%load_ext autoreload\n",
    "%autoreload 1\n",
    "%aimport fairness_multiverse"
   ]
  },
  {
   "cell_type": "code",
   "execution_count": 7,
   "id": "01c5c9f3",
   "metadata": {
    "execution": {
     "iopub.execute_input": "2025-08-05T16:04:52.120009Z",
     "iopub.status.busy": "2025-08-05T16:04:52.119194Z",
     "iopub.status.idle": "2025-08-05T16:04:54.167102Z",
     "shell.execute_reply": "2025-08-05T16:04:54.166008Z"
    },
    "papermill": {
     "duration": 2.069423,
     "end_time": "2025-08-05T16:04:54.169193",
     "exception": false,
     "start_time": "2025-08-05T16:04:52.099770",
     "status": "completed"
    },
    "tags": []
   },
   "outputs": [],
   "source": [
    "from fairness_multiverse.universe import UniverseAnalysis\n",
    "\n",
    "universe_analysis = UniverseAnalysis(\n",
    "    run_no = run_no,\n",
    "    universe_id = universe_id,\n",
    "    universe = universe,\n",
    "    output_dir=output_dir,\n",
    ")"
   ]
  },
  {
   "cell_type": "code",
   "execution_count": 8,
   "id": "106241f5",
   "metadata": {
    "execution": {
     "iopub.execute_input": "2025-08-05T16:04:54.211920Z",
     "iopub.status.busy": "2025-08-05T16:04:54.211412Z",
     "iopub.status.idle": "2025-08-05T16:04:54.219218Z",
     "shell.execute_reply": "2025-08-05T16:04:54.218030Z"
    },
    "papermill": {
     "duration": 0.030061,
     "end_time": "2025-08-05T16:04:54.221140",
     "exception": false,
     "start_time": "2025-08-05T16:04:54.191079",
     "status": "completed"
    },
    "tags": []
   },
   "outputs": [
    {
     "name": "stdout",
     "output_type": "stream",
     "text": [
      "Using Seed: 2023\n"
     ]
    }
   ],
   "source": [
    "import numpy as np\n",
    "parsed_seed = int(seed)\n",
    "np.random.seed(parsed_seed)\n",
    "print(f\"Using Seed: {parsed_seed}\")"
   ]
  },
  {
   "cell_type": "markdown",
   "id": "e0ebdc57",
   "metadata": {
    "papermill": {
     "duration": 0.019349,
     "end_time": "2025-08-05T16:04:54.260911",
     "exception": false,
     "start_time": "2025-08-05T16:04:54.241562",
     "status": "completed"
    },
    "tags": []
   },
   "source": [
    "# Loading Data"
   ]
  },
  {
   "cell_type": "code",
   "execution_count": 9,
   "id": "f0496b8a",
   "metadata": {
    "execution": {
     "iopub.execute_input": "2025-08-05T16:04:54.301003Z",
     "iopub.status.busy": "2025-08-05T16:04:54.300308Z",
     "iopub.status.idle": "2025-08-05T16:05:07.632192Z",
     "shell.execute_reply": "2025-08-05T16:05:07.631124Z"
    },
    "papermill": {
     "duration": 13.354185,
     "end_time": "2025-08-05T16:05:07.633833",
     "exception": false,
     "start_time": "2025-08-05T16:04:54.279648",
     "status": "completed"
    },
    "tags": []
   },
   "outputs": [
    {
     "name": "stdout",
     "output_type": "stream",
     "text": [
      "Loading SIAB data from cache: data/siab_cached.csv.gz\n"
     ]
    },
    {
     "name": "stdout",
     "output_type": "stream",
     "text": [
      "(643690, 164)\n"
     ]
    }
   ],
   "source": [
    "from pathlib import Path\n",
    "import pandas as pd\n",
    "\n",
    "# File paths\n",
    "raw_file = Path(\"data/raw/siab.csv\")\n",
    "cache_file = Path(\"data/siab_cached.csv.gz\")\n",
    "\n",
    "# Ensure cache directory exists\n",
    "cache_file.parent.mkdir(parents=True, exist_ok=True)\n",
    "\n",
    "# Load with simple caching\n",
    "if cache_file.exists():\n",
    "    print(f\"Loading SIAB data from cache: {cache_file}\")\n",
    "    siab = pd.read_csv(cache_file, compression='gzip')\n",
    "else:\n",
    "    print(f\"Cache not found. Reading raw SIAB data: {raw_file}\")\n",
    "    siab = pd.read_csv(raw_file)\n",
    "    siab.to_csv(cache_file, index=False, compression='gzip')\n",
    "    print(f\"Cached SIAB data to: {cache_file}\")\n",
    "\n",
    "print(siab.shape)"
   ]
  },
  {
   "cell_type": "code",
   "execution_count": 10,
   "id": "db0ca512-5f53-4dba-abdb-a2888bca41ba",
   "metadata": {
    "execution": {
     "iopub.execute_input": "2025-08-05T16:05:07.657180Z",
     "iopub.status.busy": "2025-08-05T16:05:07.656503Z",
     "iopub.status.idle": "2025-08-05T16:05:07.661587Z",
     "shell.execute_reply": "2025-08-05T16:05:07.660858Z"
    },
    "papermill": {
     "duration": 0.0169,
     "end_time": "2025-08-05T16:05:07.662970",
     "exception": false,
     "start_time": "2025-08-05T16:05:07.646070",
     "status": "completed"
    },
    "tags": []
   },
   "outputs": [],
   "source": [
    "#siab"
   ]
  },
  {
   "cell_type": "markdown",
   "id": "997051c5-15bd-4b69-9786-c3001a3ce484",
   "metadata": {
    "papermill": {
     "duration": 0.009253,
     "end_time": "2025-08-05T16:05:07.682835",
     "exception": false,
     "start_time": "2025-08-05T16:05:07.673582",
     "status": "completed"
    },
    "tags": []
   },
   "source": [
    "# Splitting Data and Setting Training Data Size"
   ]
  },
  {
   "cell_type": "code",
   "execution_count": 11,
   "id": "aea9c6ef-6f46-42c8-85eb-5a62025c1508",
   "metadata": {
    "execution": {
     "iopub.execute_input": "2025-08-05T16:05:07.703934Z",
     "iopub.status.busy": "2025-08-05T16:05:07.703087Z",
     "iopub.status.idle": "2025-08-05T16:05:07.968146Z",
     "shell.execute_reply": "2025-08-05T16:05:07.967083Z"
    },
    "papermill": {
     "duration": 0.278063,
     "end_time": "2025-08-05T16:05:07.970275",
     "exception": false,
     "start_time": "2025-08-05T16:05:07.692212",
     "status": "completed"
    },
    "tags": []
   },
   "outputs": [],
   "source": [
    "from fairness_multiverse.universe import sample_by_year_size\n",
    "\n",
    "siab_train = sample_by_year_size(siab,\n",
    "                               training_year=universe[\"training_year\"],\n",
    "                               training_size=universe[\"training_size\"])"
   ]
  },
  {
   "cell_type": "code",
   "execution_count": 12,
   "id": "8d3afb32-789d-442c-8d5d-9f5aa8dd2eed",
   "metadata": {
    "execution": {
     "iopub.execute_input": "2025-08-05T16:05:08.012277Z",
     "iopub.status.busy": "2025-08-05T16:05:08.011447Z",
     "iopub.status.idle": "2025-08-05T16:05:08.016743Z",
     "shell.execute_reply": "2025-08-05T16:05:08.015643Z"
    },
    "papermill": {
     "duration": 0.028531,
     "end_time": "2025-08-05T16:05:08.018827",
     "exception": false,
     "start_time": "2025-08-05T16:05:07.990296",
     "status": "completed"
    },
    "tags": []
   },
   "outputs": [],
   "source": [
    "#siab_train.shape"
   ]
  },
  {
   "cell_type": "code",
   "execution_count": 13,
   "id": "d582db68-1a4c-47fb-84fc-08518dc1975a",
   "metadata": {
    "execution": {
     "iopub.execute_input": "2025-08-05T16:05:08.059389Z",
     "iopub.status.busy": "2025-08-05T16:05:08.058567Z",
     "iopub.status.idle": "2025-08-05T16:05:08.064263Z",
     "shell.execute_reply": "2025-08-05T16:05:08.063127Z"
    },
    "papermill": {
     "duration": 0.027664,
     "end_time": "2025-08-05T16:05:08.066187",
     "exception": false,
     "start_time": "2025-08-05T16:05:08.038523",
     "status": "completed"
    },
    "tags": []
   },
   "outputs": [],
   "source": [
    "#display(siab_train.groupby(\"year\").size())"
   ]
  },
  {
   "cell_type": "code",
   "execution_count": 14,
   "id": "a561edb4-d032-42cb-8256-22eac1111c64",
   "metadata": {
    "execution": {
     "iopub.execute_input": "2025-08-05T16:05:08.112081Z",
     "iopub.status.busy": "2025-08-05T16:05:08.111022Z",
     "iopub.status.idle": "2025-08-05T16:05:08.366419Z",
     "shell.execute_reply": "2025-08-05T16:05:08.365486Z"
    },
    "papermill": {
     "duration": 0.277942,
     "end_time": "2025-08-05T16:05:08.368318",
     "exception": false,
     "start_time": "2025-08-05T16:05:08.090376",
     "status": "completed"
    },
    "tags": []
   },
   "outputs": [],
   "source": [
    "#siab_train = siab_s[siab_s.year < 2015]\n",
    "siab_calib = siab[siab.year == 2015]\n",
    "siab_test = siab[siab.year == 2016]"
   ]
  },
  {
   "cell_type": "code",
   "execution_count": 15,
   "id": "472de16f-c3db-4916-846b-1f0de9cf1746",
   "metadata": {
    "execution": {
     "iopub.execute_input": "2025-08-05T16:05:08.409492Z",
     "iopub.status.busy": "2025-08-05T16:05:08.409158Z",
     "iopub.status.idle": "2025-08-05T16:05:08.414392Z",
     "shell.execute_reply": "2025-08-05T16:05:08.413677Z"
    },
    "papermill": {
     "duration": 0.02692,
     "end_time": "2025-08-05T16:05:08.415996",
     "exception": false,
     "start_time": "2025-08-05T16:05:08.389076",
     "status": "completed"
    },
    "tags": []
   },
   "outputs": [],
   "source": [
    "X_train = siab_train.iloc[:,4:164]\n",
    "y_train = siab_train.iloc[:, [3]]"
   ]
  },
  {
   "cell_type": "code",
   "execution_count": 16,
   "id": "828c96af-f43a-4ed6-ba47-8ac73a47d56c",
   "metadata": {
    "execution": {
     "iopub.execute_input": "2025-08-05T16:05:08.457163Z",
     "iopub.status.busy": "2025-08-05T16:05:08.456827Z",
     "iopub.status.idle": "2025-08-05T16:05:08.503752Z",
     "shell.execute_reply": "2025-08-05T16:05:08.502938Z"
    },
    "papermill": {
     "duration": 0.069985,
     "end_time": "2025-08-05T16:05:08.505692",
     "exception": false,
     "start_time": "2025-08-05T16:05:08.435707",
     "status": "completed"
    },
    "tags": []
   },
   "outputs": [],
   "source": [
    "X_calib = siab_calib.iloc[:,4:164]\n",
    "y_calib = siab_calib.iloc[:, [3]]"
   ]
  },
  {
   "cell_type": "code",
   "execution_count": 17,
   "id": "c34be9c3-6bd6-476e-acd3-845840e303be",
   "metadata": {
    "execution": {
     "iopub.execute_input": "2025-08-05T16:05:08.551653Z",
     "iopub.status.busy": "2025-08-05T16:05:08.551195Z",
     "iopub.status.idle": "2025-08-05T16:05:08.604997Z",
     "shell.execute_reply": "2025-08-05T16:05:08.603790Z"
    },
    "papermill": {
     "duration": 0.078778,
     "end_time": "2025-08-05T16:05:08.607099",
     "exception": false,
     "start_time": "2025-08-05T16:05:08.528321",
     "status": "completed"
    },
    "tags": []
   },
   "outputs": [],
   "source": [
    "X_test = siab_test.iloc[:,4:164]\n",
    "y_true = siab_test.iloc[:, [3]]"
   ]
  },
  {
   "cell_type": "code",
   "execution_count": 18,
   "id": "e6c733c5",
   "metadata": {
    "execution": {
     "iopub.execute_input": "2025-08-05T16:05:08.642103Z",
     "iopub.status.busy": "2025-08-05T16:05:08.641648Z",
     "iopub.status.idle": "2025-08-05T16:05:08.738698Z",
     "shell.execute_reply": "2025-08-05T16:05:08.737818Z"
    },
    "papermill": {
     "duration": 0.116544,
     "end_time": "2025-08-05T16:05:08.740625",
     "exception": false,
     "start_time": "2025-08-05T16:05:08.624081",
     "status": "completed"
    },
    "tags": []
   },
   "outputs": [],
   "source": [
    "# Auxiliary data needed downstream in the pipeline\n",
    "\n",
    "org_train = X_train.copy()\n",
    "org_test = X_test.copy()\n",
    "org_calib = X_calib.copy()"
   ]
  },
  {
   "cell_type": "markdown",
   "id": "0a4a1b33",
   "metadata": {
    "papermill": {
     "duration": 0.021554,
     "end_time": "2025-08-05T16:05:08.783570",
     "exception": false,
     "start_time": "2025-08-05T16:05:08.762016",
     "status": "completed"
    },
    "tags": []
   },
   "source": [
    "# Preprocessing Data"
   ]
  },
  {
   "cell_type": "code",
   "execution_count": 19,
   "id": "ca879031",
   "metadata": {
    "execution": {
     "iopub.execute_input": "2025-08-05T16:05:08.826061Z",
     "iopub.status.busy": "2025-08-05T16:05:08.825125Z",
     "iopub.status.idle": "2025-08-05T16:05:08.832038Z",
     "shell.execute_reply": "2025-08-05T16:05:08.831048Z"
    },
    "papermill": {
     "duration": 0.028766,
     "end_time": "2025-08-05T16:05:08.833364",
     "exception": false,
     "start_time": "2025-08-05T16:05:08.804598",
     "status": "completed"
    },
    "tags": []
   },
   "outputs": [],
   "source": [
    "# EXCLUDE PROTECTED FEATURES\n",
    "# ----------------------\n",
    "# \"exclude_features\": \"none\", # \"nationality\", \"sex\", \"nationality-sex\"\n",
    "\n",
    "excluded_features = universe[\"exclude_features\"].split(\"-\") # split, e.g.: \"nationality-sex\" -> [\"nationality\", \"sex\"]\n",
    "excluded_features_dictionary = {\n",
    "    \"nationality\": [\"maxdeutsch1\", \"maxdeutsch.Missing.\"],\n",
    "    \"sex\": [\"frau1\"],\n",
    "    \"age\": [\"age\"],\n",
    "}"
   ]
  },
  {
   "cell_type": "code",
   "execution_count": 20,
   "id": "b745ac60",
   "metadata": {
    "execution": {
     "iopub.execute_input": "2025-08-05T16:05:08.871651Z",
     "iopub.status.busy": "2025-08-05T16:05:08.871218Z",
     "iopub.status.idle": "2025-08-05T16:05:08.877329Z",
     "shell.execute_reply": "2025-08-05T16:05:08.876151Z"
    },
    "papermill": {
     "duration": 0.02601,
     "end_time": "2025-08-05T16:05:08.879261",
     "exception": false,
     "start_time": "2025-08-05T16:05:08.853251",
     "status": "completed"
    },
    "tags": []
   },
   "outputs": [],
   "source": [
    "# Code nice names to column names\n",
    "\n",
    "excluded_features_columns = [\n",
    "    excluded_features_dictionary[f] for f in excluded_features if len(f) > 0 and f != \"none\"\n",
    "]"
   ]
  },
  {
   "cell_type": "code",
   "execution_count": 21,
   "id": "f84f73a2",
   "metadata": {
    "execution": {
     "iopub.execute_input": "2025-08-05T16:05:08.920640Z",
     "iopub.status.busy": "2025-08-05T16:05:08.920180Z",
     "iopub.status.idle": "2025-08-05T16:05:08.926590Z",
     "shell.execute_reply": "2025-08-05T16:05:08.925600Z"
    },
    "papermill": {
     "duration": 0.028607,
     "end_time": "2025-08-05T16:05:08.928253",
     "exception": false,
     "start_time": "2025-08-05T16:05:08.899646",
     "status": "completed"
    },
    "tags": []
   },
   "outputs": [],
   "source": [
    "from utils import flatten_once\n",
    "\n",
    "excluded_features_columns = flatten_once(excluded_features_columns)"
   ]
  },
  {
   "cell_type": "code",
   "execution_count": 22,
   "id": "884dea22",
   "metadata": {
    "execution": {
     "iopub.execute_input": "2025-08-05T16:05:08.964567Z",
     "iopub.status.busy": "2025-08-05T16:05:08.963594Z",
     "iopub.status.idle": "2025-08-05T16:05:08.974195Z",
     "shell.execute_reply": "2025-08-05T16:05:08.972695Z"
    },
    "papermill": {
     "duration": 0.030237,
     "end_time": "2025-08-05T16:05:08.976008",
     "exception": false,
     "start_time": "2025-08-05T16:05:08.945771",
     "status": "completed"
    },
    "tags": []
   },
   "outputs": [
    {
     "name": "stdout",
     "output_type": "stream",
     "text": [
      "Dropping features: ['frau1']\n"
     ]
    }
   ],
   "source": [
    "if len(excluded_features_columns) > 0:\n",
    "    print(f\"Dropping features: {excluded_features_columns}\")\n",
    "    X_train.drop(excluded_features_columns, axis=1, inplace=True)"
   ]
  },
  {
   "cell_type": "code",
   "execution_count": 23,
   "id": "95ab8b16",
   "metadata": {
    "execution": {
     "iopub.execute_input": "2025-08-05T16:05:09.015080Z",
     "iopub.status.busy": "2025-08-05T16:05:09.014500Z",
     "iopub.status.idle": "2025-08-05T16:05:09.095863Z",
     "shell.execute_reply": "2025-08-05T16:05:09.094466Z"
    },
    "papermill": {
     "duration": 0.103886,
     "end_time": "2025-08-05T16:05:09.098216",
     "exception": false,
     "start_time": "2025-08-05T16:05:08.994330",
     "status": "completed"
    },
    "tags": []
   },
   "outputs": [
    {
     "name": "stdout",
     "output_type": "stream",
     "text": [
      "Dropping features: ['frau1']\n"
     ]
    }
   ],
   "source": [
    "if len(excluded_features_columns) > 0:\n",
    "    print(f\"Dropping features: {excluded_features_columns}\")\n",
    "    X_test.drop(excluded_features_columns, axis=1, inplace=True)"
   ]
  },
  {
   "cell_type": "code",
   "execution_count": 24,
   "id": "1853aaf5-fb9f-46cb-a2b5-8ea4ae2237e4",
   "metadata": {
    "execution": {
     "iopub.execute_input": "2025-08-05T16:05:09.143911Z",
     "iopub.status.busy": "2025-08-05T16:05:09.143285Z",
     "iopub.status.idle": "2025-08-05T16:05:09.203194Z",
     "shell.execute_reply": "2025-08-05T16:05:09.202027Z"
    },
    "papermill": {
     "duration": 0.08502,
     "end_time": "2025-08-05T16:05:09.205119",
     "exception": false,
     "start_time": "2025-08-05T16:05:09.120099",
     "status": "completed"
    },
    "tags": []
   },
   "outputs": [
    {
     "name": "stdout",
     "output_type": "stream",
     "text": [
      "Dropping features: ['frau1']\n"
     ]
    }
   ],
   "source": [
    "if len(excluded_features_columns) > 0:\n",
    "    print(f\"Dropping features: {excluded_features_columns}\")\n",
    "    X_calib.drop(excluded_features_columns, axis=1, inplace=True)"
   ]
  },
  {
   "cell_type": "code",
   "execution_count": 25,
   "id": "76c4dc6d",
   "metadata": {
    "execution": {
     "iopub.execute_input": "2025-08-05T16:05:09.250118Z",
     "iopub.status.busy": "2025-08-05T16:05:09.249335Z",
     "iopub.status.idle": "2025-08-05T16:05:09.255329Z",
     "shell.execute_reply": "2025-08-05T16:05:09.254307Z"
    },
    "papermill": {
     "duration": 0.030084,
     "end_time": "2025-08-05T16:05:09.257412",
     "exception": false,
     "start_time": "2025-08-05T16:05:09.227328",
     "status": "completed"
    },
    "tags": []
   },
   "outputs": [],
   "source": [
    "# EXCLUDE CERTAIN SUBGROUPS\n",
    "# ----------------------\n",
    "\n",
    "mode = universe.get(\"exclude_subgroups\", \"keep-all\") \n",
    "# Fetches the exclude_subgroups setting from the universe dict.\n",
    "# Defaults to \"keep-all\" if the key is missing."
   ]
  },
  {
   "cell_type": "code",
   "execution_count": 26,
   "id": "21994072",
   "metadata": {
    "execution": {
     "iopub.execute_input": "2025-08-05T16:05:09.303260Z",
     "iopub.status.busy": "2025-08-05T16:05:09.302603Z",
     "iopub.status.idle": "2025-08-05T16:05:09.309709Z",
     "shell.execute_reply": "2025-08-05T16:05:09.308648Z"
    },
    "papermill": {
     "duration": 0.030993,
     "end_time": "2025-08-05T16:05:09.311250",
     "exception": false,
     "start_time": "2025-08-05T16:05:09.280257",
     "status": "completed"
    },
    "tags": []
   },
   "outputs": [],
   "source": [
    "if mode == \"keep-all\":\n",
    "    keep_mask = pd.Series(True, index=org_train.index)\n",
    "\n",
    "# org_train contains the original feature columns from features_org (in Simson)\n",
    "# features_org contains unprocessed features, for me X_train at beginning ???\n",
    "# For keep-all, creates a boolean Series (keep_mask) of all True, so no rows are removed.\n",
    "\n",
    "elif mode == \"drop-non-german\":\n",
    "    keep_mask = org_train[\"maxdeutsch1\"] == 1 # ??? what about missing values?\n",
    "\n",
    "else:\n",
    "    raise ValueError(f\"Unsupported mode for exclude_subgroups: {mode}\")"
   ]
  },
  {
   "cell_type": "code",
   "execution_count": 27,
   "id": "71651440",
   "metadata": {
    "execution": {
     "iopub.execute_input": "2025-08-05T16:05:09.348936Z",
     "iopub.status.busy": "2025-08-05T16:05:09.348415Z",
     "iopub.status.idle": "2025-08-05T16:05:09.357262Z",
     "shell.execute_reply": "2025-08-05T16:05:09.356277Z"
    },
    "papermill": {
     "duration": 0.029291,
     "end_time": "2025-08-05T16:05:09.359051",
     "exception": false,
     "start_time": "2025-08-05T16:05:09.329760",
     "status": "completed"
    },
    "tags": []
   },
   "outputs": [
    {
     "name": "stdout",
     "output_type": "stream",
     "text": [
      "Dropping 147 rows (14.70%) where mode='drop-non-german'\n"
     ]
    }
   ],
   "source": [
    "n_drop = (~keep_mask).sum() # Calculates how many rows are set to be dropped\n",
    "if n_drop > 0:\n",
    "    pct = n_drop / len(keep_mask) * 100\n",
    "    print(f\"Dropping {n_drop} rows ({pct:.2f}%) where mode='{mode}'\")"
   ]
  },
  {
   "cell_type": "code",
   "execution_count": 28,
   "id": "5fb8eee5",
   "metadata": {
    "execution": {
     "iopub.execute_input": "2025-08-05T16:05:09.395717Z",
     "iopub.status.busy": "2025-08-05T16:05:09.394753Z",
     "iopub.status.idle": "2025-08-05T16:05:09.403787Z",
     "shell.execute_reply": "2025-08-05T16:05:09.402711Z"
    },
    "papermill": {
     "duration": 0.028384,
     "end_time": "2025-08-05T16:05:09.405315",
     "exception": false,
     "start_time": "2025-08-05T16:05:09.376931",
     "status": "completed"
    },
    "tags": []
   },
   "outputs": [],
   "source": [
    "X_train = X_train[keep_mask]"
   ]
  },
  {
   "cell_type": "code",
   "execution_count": 29,
   "id": "b202bb3a",
   "metadata": {
    "execution": {
     "iopub.execute_input": "2025-08-05T16:05:09.442751Z",
     "iopub.status.busy": "2025-08-05T16:05:09.441927Z",
     "iopub.status.idle": "2025-08-05T16:05:09.447931Z",
     "shell.execute_reply": "2025-08-05T16:05:09.446746Z"
    },
    "papermill": {
     "duration": 0.0268,
     "end_time": "2025-08-05T16:05:09.450073",
     "exception": false,
     "start_time": "2025-08-05T16:05:09.423273",
     "status": "completed"
    },
    "tags": []
   },
   "outputs": [],
   "source": [
    "y_train = y_train[keep_mask]"
   ]
  },
  {
   "cell_type": "markdown",
   "id": "493e2ac3",
   "metadata": {
    "papermill": {
     "duration": 0.02054,
     "end_time": "2025-08-05T16:05:09.492667",
     "exception": false,
     "start_time": "2025-08-05T16:05:09.472127",
     "status": "completed"
    },
    "tags": []
   },
   "source": [
    "# Model Training"
   ]
  },
  {
   "cell_type": "code",
   "execution_count": 30,
   "id": "679e1268",
   "metadata": {
    "execution": {
     "iopub.execute_input": "2025-08-05T16:05:09.536614Z",
     "iopub.status.busy": "2025-08-05T16:05:09.535817Z",
     "iopub.status.idle": "2025-08-05T16:05:09.638562Z",
     "shell.execute_reply": "2025-08-05T16:05:09.637454Z"
    },
    "papermill": {
     "duration": 0.12728,
     "end_time": "2025-08-05T16:05:09.640611",
     "exception": false,
     "start_time": "2025-08-05T16:05:09.513331",
     "status": "completed"
    },
    "tags": []
   },
   "outputs": [],
   "source": [
    "from sklearn.linear_model import LogisticRegression\n",
    "from sklearn.ensemble import GradientBoostingClassifier, RandomForestClassifier\n",
    "\n",
    "if (universe[\"model\"] == \"logreg\"):\n",
    "    model = LogisticRegression() #penalty=\"none\", solver=\"newton-cg\", max_iter=1) # include random_state=19 ?\n",
    "elif (universe[\"model\"] == \"penalized_logreg\"):\n",
    "    model = LogisticRegression(penalty=\"l2\", C=0.1) #, solver=\"newton-cg\", max_iter=1)\n",
    "elif (universe[\"model\"] == \"rf\"):\n",
    "    model = RandomForestClassifier() # n_estimators=100, n_jobs=-1\n",
    "elif (universe[\"model\"] == \"gbm\"):\n",
    "    model = GradientBoostingClassifier()\n",
    "elif (universe[\"model\"] == \"elasticnet\"):\n",
    "    model = LogisticRegression(penalty = 'elasticnet', solver = 'saga', l1_ratio = 0.5) # max_iter=5000\n",
    "else:\n",
    "    raise \"Unsupported universe.model\""
   ]
  },
  {
   "cell_type": "code",
   "execution_count": 31,
   "id": "0cc8f744",
   "metadata": {
    "execution": {
     "iopub.execute_input": "2025-08-05T16:05:09.686715Z",
     "iopub.status.busy": "2025-08-05T16:05:09.685775Z",
     "iopub.status.idle": "2025-08-05T16:05:09.692894Z",
     "shell.execute_reply": "2025-08-05T16:05:09.691713Z"
    },
    "papermill": {
     "duration": 0.032629,
     "end_time": "2025-08-05T16:05:09.695012",
     "exception": false,
     "start_time": "2025-08-05T16:05:09.662383",
     "status": "completed"
    },
    "tags": []
   },
   "outputs": [],
   "source": [
    "import numpy as np\n",
    "from sklearn.pipeline import Pipeline\n",
    "from sklearn.preprocessing import StandardScaler\n",
    "\n",
    "model = Pipeline([\n",
    "    #(\"continuous_processor\", continuous_processor),\n",
    "    #(\"categorical_preprocessor\", categorical_preprocessor),\n",
    "    (\"scale\", StandardScaler() if universe[\"scale\"] == \"scale\" else None), \n",
    "    (\"model\", model),\n",
    "])"
   ]
  },
  {
   "cell_type": "code",
   "execution_count": 32,
   "id": "9442c04d",
   "metadata": {
    "execution": {
     "iopub.execute_input": "2025-08-05T16:05:09.741193Z",
     "iopub.status.busy": "2025-08-05T16:05:09.740295Z",
     "iopub.status.idle": "2025-08-05T16:05:10.124806Z",
     "shell.execute_reply": "2025-08-05T16:05:10.123871Z"
    },
    "papermill": {
     "duration": 0.408714,
     "end_time": "2025-08-05T16:05:10.126565",
     "exception": false,
     "start_time": "2025-08-05T16:05:09.717851",
     "status": "completed"
    },
    "tags": []
   },
   "outputs": [
    {
     "data": {
      "text/html": [
       "<style>#sk-container-id-1 {color: black;background-color: white;}#sk-container-id-1 pre{padding: 0;}#sk-container-id-1 div.sk-toggleable {background-color: white;}#sk-container-id-1 label.sk-toggleable__label {cursor: pointer;display: block;width: 100%;margin-bottom: 0;padding: 0.3em;box-sizing: border-box;text-align: center;}#sk-container-id-1 label.sk-toggleable__label-arrow:before {content: \"▸\";float: left;margin-right: 0.25em;color: #696969;}#sk-container-id-1 label.sk-toggleable__label-arrow:hover:before {color: black;}#sk-container-id-1 div.sk-estimator:hover label.sk-toggleable__label-arrow:before {color: black;}#sk-container-id-1 div.sk-toggleable__content {max-height: 0;max-width: 0;overflow: hidden;text-align: left;background-color: #f0f8ff;}#sk-container-id-1 div.sk-toggleable__content pre {margin: 0.2em;color: black;border-radius: 0.25em;background-color: #f0f8ff;}#sk-container-id-1 input.sk-toggleable__control:checked~div.sk-toggleable__content {max-height: 200px;max-width: 100%;overflow: auto;}#sk-container-id-1 input.sk-toggleable__control:checked~label.sk-toggleable__label-arrow:before {content: \"▾\";}#sk-container-id-1 div.sk-estimator input.sk-toggleable__control:checked~label.sk-toggleable__label {background-color: #d4ebff;}#sk-container-id-1 div.sk-label input.sk-toggleable__control:checked~label.sk-toggleable__label {background-color: #d4ebff;}#sk-container-id-1 input.sk-hidden--visually {border: 0;clip: rect(1px 1px 1px 1px);clip: rect(1px, 1px, 1px, 1px);height: 1px;margin: -1px;overflow: hidden;padding: 0;position: absolute;width: 1px;}#sk-container-id-1 div.sk-estimator {font-family: monospace;background-color: #f0f8ff;border: 1px dotted black;border-radius: 0.25em;box-sizing: border-box;margin-bottom: 0.5em;}#sk-container-id-1 div.sk-estimator:hover {background-color: #d4ebff;}#sk-container-id-1 div.sk-parallel-item::after {content: \"\";width: 100%;border-bottom: 1px solid gray;flex-grow: 1;}#sk-container-id-1 div.sk-label:hover label.sk-toggleable__label {background-color: #d4ebff;}#sk-container-id-1 div.sk-serial::before {content: \"\";position: absolute;border-left: 1px solid gray;box-sizing: border-box;top: 0;bottom: 0;left: 50%;z-index: 0;}#sk-container-id-1 div.sk-serial {display: flex;flex-direction: column;align-items: center;background-color: white;padding-right: 0.2em;padding-left: 0.2em;position: relative;}#sk-container-id-1 div.sk-item {position: relative;z-index: 1;}#sk-container-id-1 div.sk-parallel {display: flex;align-items: stretch;justify-content: center;background-color: white;position: relative;}#sk-container-id-1 div.sk-item::before, #sk-container-id-1 div.sk-parallel-item::before {content: \"\";position: absolute;border-left: 1px solid gray;box-sizing: border-box;top: 0;bottom: 0;left: 50%;z-index: -1;}#sk-container-id-1 div.sk-parallel-item {display: flex;flex-direction: column;z-index: 1;position: relative;background-color: white;}#sk-container-id-1 div.sk-parallel-item:first-child::after {align-self: flex-end;width: 50%;}#sk-container-id-1 div.sk-parallel-item:last-child::after {align-self: flex-start;width: 50%;}#sk-container-id-1 div.sk-parallel-item:only-child::after {width: 0;}#sk-container-id-1 div.sk-dashed-wrapped {border: 1px dashed gray;margin: 0 0.4em 0.5em 0.4em;box-sizing: border-box;padding-bottom: 0.4em;background-color: white;}#sk-container-id-1 div.sk-label label {font-family: monospace;font-weight: bold;display: inline-block;line-height: 1.2em;}#sk-container-id-1 div.sk-label-container {text-align: center;}#sk-container-id-1 div.sk-container {/* jupyter's `normalize.less` sets `[hidden] { display: none; }` but bootstrap.min.css set `[hidden] { display: none !important; }` so we also need the `!important` here to be able to override the default hidden behavior on the sphinx rendered scikit-learn.org. See: https://github.com/scikit-learn/scikit-learn/issues/21755 */display: inline-block !important;position: relative;}#sk-container-id-1 div.sk-text-repr-fallback {display: none;}</style><div id=\"sk-container-id-1\" class=\"sk-top-container\"><div class=\"sk-text-repr-fallback\"><pre>Pipeline(steps=[(&#x27;scale&#x27;, StandardScaler()),\n",
       "                (&#x27;model&#x27;, RandomForestClassifier())])</pre><b>In a Jupyter environment, please rerun this cell to show the HTML representation or trust the notebook. <br />On GitHub, the HTML representation is unable to render, please try loading this page with nbviewer.org.</b></div><div class=\"sk-container\" hidden><div class=\"sk-item sk-dashed-wrapped\"><div class=\"sk-label-container\"><div class=\"sk-label sk-toggleable\"><input class=\"sk-toggleable__control sk-hidden--visually\" id=\"sk-estimator-id-1\" type=\"checkbox\" ><label for=\"sk-estimator-id-1\" class=\"sk-toggleable__label sk-toggleable__label-arrow\">Pipeline</label><div class=\"sk-toggleable__content\"><pre>Pipeline(steps=[(&#x27;scale&#x27;, StandardScaler()),\n",
       "                (&#x27;model&#x27;, RandomForestClassifier())])</pre></div></div></div><div class=\"sk-serial\"><div class=\"sk-item\"><div class=\"sk-estimator sk-toggleable\"><input class=\"sk-toggleable__control sk-hidden--visually\" id=\"sk-estimator-id-2\" type=\"checkbox\" ><label for=\"sk-estimator-id-2\" class=\"sk-toggleable__label sk-toggleable__label-arrow\">StandardScaler</label><div class=\"sk-toggleable__content\"><pre>StandardScaler()</pre></div></div></div><div class=\"sk-item\"><div class=\"sk-estimator sk-toggleable\"><input class=\"sk-toggleable__control sk-hidden--visually\" id=\"sk-estimator-id-3\" type=\"checkbox\" ><label for=\"sk-estimator-id-3\" class=\"sk-toggleable__label sk-toggleable__label-arrow\">RandomForestClassifier</label><div class=\"sk-toggleable__content\"><pre>RandomForestClassifier()</pre></div></div></div></div></div></div></div>"
      ],
      "text/plain": [
       "Pipeline(steps=[('scale', StandardScaler()),\n",
       "                ('model', RandomForestClassifier())])"
      ]
     },
     "execution_count": 32,
     "metadata": {},
     "output_type": "execute_result"
    }
   ],
   "source": [
    "model.fit(X_train, y_train.values.ravel())"
   ]
  },
  {
   "cell_type": "code",
   "execution_count": 33,
   "id": "af59f8c0",
   "metadata": {
    "execution": {
     "iopub.execute_input": "2025-08-05T16:05:10.171753Z",
     "iopub.status.busy": "2025-08-05T16:05:10.171065Z",
     "iopub.status.idle": "2025-08-05T16:05:10.176809Z",
     "shell.execute_reply": "2025-08-05T16:05:10.175820Z"
    },
    "papermill": {
     "duration": 0.030397,
     "end_time": "2025-08-05T16:05:10.178745",
     "exception": false,
     "start_time": "2025-08-05T16:05:10.148348",
     "status": "completed"
    },
    "tags": []
   },
   "outputs": [],
   "source": [
    "from fairness_multiverse.universe import predict_w_threshold"
   ]
  },
  {
   "cell_type": "code",
   "execution_count": 34,
   "id": "a7cf2e16",
   "metadata": {
    "execution": {
     "iopub.execute_input": "2025-08-05T16:05:10.227177Z",
     "iopub.status.busy": "2025-08-05T16:05:10.226156Z",
     "iopub.status.idle": "2025-08-05T16:05:11.903709Z",
     "shell.execute_reply": "2025-08-05T16:05:11.902481Z"
    },
    "papermill": {
     "duration": 1.704378,
     "end_time": "2025-08-05T16:05:11.906068",
     "exception": false,
     "start_time": "2025-08-05T16:05:10.201690",
     "status": "completed"
    },
    "tags": []
   },
   "outputs": [
    {
     "data": {
      "text/plain": [
       "0.8582766692676401"
      ]
     },
     "execution_count": 34,
     "metadata": {},
     "output_type": "execute_result"
    }
   ],
   "source": [
    "probs_test = model.predict_proba(X_test)\n",
    "\n",
    "'''\n",
    "Below code returns a boolean array (or binary 0/1 array depending on how it’s used) where each element \n",
    "is True if the probability of class 1 is greater than or equal to the threshold, and False otherwise.\n",
    "'''\n",
    "y_pred_default = predict_w_threshold(probs_test, 0.5)\n",
    "\n",
    "from sklearn.metrics import accuracy_score\n",
    "\n",
    "# Naive prediction\n",
    "accuracy_score(y_true = y_true, y_pred = y_pred_default)"
   ]
  },
  {
   "cell_type": "code",
   "execution_count": 35,
   "id": "081964c3",
   "metadata": {
    "execution": {
     "iopub.execute_input": "2025-08-05T16:05:11.970835Z",
     "iopub.status.busy": "2025-08-05T16:05:11.970403Z",
     "iopub.status.idle": "2025-08-05T16:05:13.667375Z",
     "shell.execute_reply": "2025-08-05T16:05:13.666417Z"
    },
    "papermill": {
     "duration": 1.731413,
     "end_time": "2025-08-05T16:05:13.669038",
     "exception": false,
     "start_time": "2025-08-05T16:05:11.937625",
     "status": "completed"
    },
    "tags": []
   },
   "outputs": [
    {
     "data": {
      "text/plain": [
       "array([0, 0, 0, ..., 0, 0, 0])"
      ]
     },
     "execution_count": 35,
     "metadata": {},
     "output_type": "execute_result"
    }
   ],
   "source": [
    "model.predict(X_test)"
   ]
  },
  {
   "cell_type": "markdown",
   "id": "56c9705b",
   "metadata": {
    "papermill": {
     "duration": 0.0214,
     "end_time": "2025-08-05T16:05:13.713177",
     "exception": false,
     "start_time": "2025-08-05T16:05:13.691777",
     "status": "completed"
    },
    "tags": []
   },
   "source": [
    "# Conformal Prediction"
   ]
  },
  {
   "cell_type": "code",
   "execution_count": 36,
   "id": "160ec6ff",
   "metadata": {
    "execution": {
     "iopub.execute_input": "2025-08-05T16:05:13.759177Z",
     "iopub.status.busy": "2025-08-05T16:05:13.756632Z",
     "iopub.status.idle": "2025-08-05T16:05:13.765422Z",
     "shell.execute_reply": "2025-08-05T16:05:13.764224Z"
    },
    "papermill": {
     "duration": 0.032364,
     "end_time": "2025-08-05T16:05:13.767480",
     "exception": false,
     "start_time": "2025-08-05T16:05:13.735116",
     "status": "completed"
    },
    "tags": []
   },
   "outputs": [],
   "source": [
    "# Miscoverage level for conformal prediction (10% allowed error rate => 90% target coverage)\n",
    "alpha = 0.1"
   ]
  },
  {
   "cell_type": "code",
   "execution_count": 37,
   "id": "eadf4555-3dd3-440e-8e35-f82a4ad9f855",
   "metadata": {
    "execution": {
     "iopub.execute_input": "2025-08-05T16:05:13.811942Z",
     "iopub.status.busy": "2025-08-05T16:05:13.811445Z",
     "iopub.status.idle": "2025-08-05T16:05:15.299075Z",
     "shell.execute_reply": "2025-08-05T16:05:15.298089Z"
    },
    "papermill": {
     "duration": 1.511422,
     "end_time": "2025-08-05T16:05:15.301013",
     "exception": false,
     "start_time": "2025-08-05T16:05:13.789591",
     "status": "completed"
    },
    "tags": []
   },
   "outputs": [],
   "source": [
    "probs_calib = model.predict_proba(X_calib)"
   ]
  },
  {
   "cell_type": "code",
   "execution_count": 38,
   "id": "2ed93547-6d5d-4983-9b36-1ecb300da49a",
   "metadata": {
    "execution": {
     "iopub.execute_input": "2025-08-05T16:05:15.342863Z",
     "iopub.status.busy": "2025-08-05T16:05:15.342285Z",
     "iopub.status.idle": "2025-08-05T16:05:15.348289Z",
     "shell.execute_reply": "2025-08-05T16:05:15.347115Z"
    },
    "papermill": {
     "duration": 0.028235,
     "end_time": "2025-08-05T16:05:15.350393",
     "exception": false,
     "start_time": "2025-08-05T16:05:15.322158",
     "status": "completed"
    },
    "tags": []
   },
   "outputs": [],
   "source": [
    "y_calib = y_calib.values.ravel().astype(int)"
   ]
  },
  {
   "cell_type": "code",
   "execution_count": 39,
   "id": "65d1320d-f588-4b38-9072-62af1ae97f7d",
   "metadata": {
    "execution": {
     "iopub.execute_input": "2025-08-05T16:05:15.395233Z",
     "iopub.status.busy": "2025-08-05T16:05:15.394564Z",
     "iopub.status.idle": "2025-08-05T16:05:15.402265Z",
     "shell.execute_reply": "2025-08-05T16:05:15.401321Z"
    },
    "papermill": {
     "duration": 0.032086,
     "end_time": "2025-08-05T16:05:15.404074",
     "exception": false,
     "start_time": "2025-08-05T16:05:15.371988",
     "status": "completed"
    },
    "tags": []
   },
   "outputs": [],
   "source": [
    "from fairness_multiverse.conformal import compute_nc_scores\n",
    "\n",
    "# Compute nonconformity scores on calibration set (1 - probability of true class)\n",
    "nc_scores = compute_nc_scores(probs_calib, y_calib)"
   ]
  },
  {
   "cell_type": "code",
   "execution_count": 40,
   "id": "df3b8ca3-53b7-43d5-9667-7c85da7aeda2",
   "metadata": {
    "execution": {
     "iopub.execute_input": "2025-08-05T16:05:15.447423Z",
     "iopub.status.busy": "2025-08-05T16:05:15.446545Z",
     "iopub.status.idle": "2025-08-05T16:05:15.453051Z",
     "shell.execute_reply": "2025-08-05T16:05:15.452000Z"
    },
    "papermill": {
     "duration": 0.030293,
     "end_time": "2025-08-05T16:05:15.454788",
     "exception": false,
     "start_time": "2025-08-05T16:05:15.424495",
     "status": "completed"
    },
    "tags": []
   },
   "outputs": [],
   "source": [
    "from fairness_multiverse.conformal import find_threshold\n",
    "\n",
    "# Find conformal threshold q_hat for the given alpha (split conformal method)\n",
    "q_hat = find_threshold(nc_scores, alpha)"
   ]
  },
  {
   "cell_type": "code",
   "execution_count": 41,
   "id": "4d29e6c1-0ef6-4aa4-b8fe-4fe79b0d033a",
   "metadata": {
    "execution": {
     "iopub.execute_input": "2025-08-05T16:05:15.496735Z",
     "iopub.status.busy": "2025-08-05T16:05:15.496054Z",
     "iopub.status.idle": "2025-08-05T16:05:15.504000Z",
     "shell.execute_reply": "2025-08-05T16:05:15.502912Z"
    },
    "papermill": {
     "duration": 0.03095,
     "end_time": "2025-08-05T16:05:15.505973",
     "exception": false,
     "start_time": "2025-08-05T16:05:15.475023",
     "status": "completed"
    },
    "tags": []
   },
   "outputs": [
    {
     "data": {
      "text/plain": [
       "0.6599999999999999"
      ]
     },
     "execution_count": 41,
     "metadata": {},
     "output_type": "execute_result"
    }
   ],
   "source": [
    "q_hat"
   ]
  },
  {
   "cell_type": "code",
   "execution_count": 42,
   "id": "92460794-cdac-4be2-ba28-f28c0515a6fb",
   "metadata": {
    "execution": {
     "iopub.execute_input": "2025-08-05T16:05:15.548097Z",
     "iopub.status.busy": "2025-08-05T16:05:15.547193Z",
     "iopub.status.idle": "2025-08-05T16:05:18.038372Z",
     "shell.execute_reply": "2025-08-05T16:05:18.037295Z"
    },
    "papermill": {
     "duration": 2.514523,
     "end_time": "2025-08-05T16:05:18.040490",
     "exception": false,
     "start_time": "2025-08-05T16:05:15.525967",
     "status": "completed"
    },
    "tags": []
   },
   "outputs": [],
   "source": [
    "from fairness_multiverse.conformal import predict_conformal_sets\n",
    "\n",
    "# Generate prediction sets for each test example\n",
    "pred_sets = predict_conformal_sets(model, X_test, q_hat)"
   ]
  },
  {
   "cell_type": "code",
   "execution_count": 43,
   "id": "d90c9a65-e6db-4f5d-80cd-e68fb7e46829",
   "metadata": {
    "execution": {
     "iopub.execute_input": "2025-08-05T16:05:18.088382Z",
     "iopub.status.busy": "2025-08-05T16:05:18.087728Z",
     "iopub.status.idle": "2025-08-05T16:05:18.094135Z",
     "shell.execute_reply": "2025-08-05T16:05:18.092914Z"
    },
    "papermill": {
     "duration": 0.031552,
     "end_time": "2025-08-05T16:05:18.096174",
     "exception": false,
     "start_time": "2025-08-05T16:05:18.064622",
     "status": "completed"
    },
    "tags": []
   },
   "outputs": [],
   "source": [
    "y_true = y_true.squeeze()"
   ]
  },
  {
   "cell_type": "code",
   "execution_count": 44,
   "id": "3a58a54a-1e68-46b9-927a-df01f18aebc8",
   "metadata": {
    "execution": {
     "iopub.execute_input": "2025-08-05T16:05:18.141491Z",
     "iopub.status.busy": "2025-08-05T16:05:18.140822Z",
     "iopub.status.idle": "2025-08-05T16:05:19.088249Z",
     "shell.execute_reply": "2025-08-05T16:05:19.087305Z"
    },
    "papermill": {
     "duration": 0.97189,
     "end_time": "2025-08-05T16:05:19.090423",
     "exception": false,
     "start_time": "2025-08-05T16:05:18.118533",
     "status": "completed"
    },
    "tags": []
   },
   "outputs": [],
   "source": [
    "from fairness_multiverse.conformal import evaluate_sets\n",
    "\n",
    "# Evaluate coverage and average set size on test data\n",
    "metrics = evaluate_sets(pred_sets, y_true)"
   ]
  },
  {
   "cell_type": "markdown",
   "id": "2b569c12-9aaa-4c88-98c9-bbcd0cf3ebb8",
   "metadata": {
    "papermill": {
     "duration": 0.024117,
     "end_time": "2025-08-05T16:05:19.141587",
     "exception": false,
     "start_time": "2025-08-05T16:05:19.117470",
     "status": "completed"
    },
    "tags": []
   },
   "source": [
    "# CP Metrics"
   ]
  },
  {
   "cell_type": "code",
   "execution_count": 45,
   "id": "5ce0a5cb-201f-45a0-ade5-94c7f0bd6095",
   "metadata": {
    "execution": {
     "iopub.execute_input": "2025-08-05T16:05:19.192252Z",
     "iopub.status.busy": "2025-08-05T16:05:19.191721Z",
     "iopub.status.idle": "2025-08-05T16:05:19.199564Z",
     "shell.execute_reply": "2025-08-05T16:05:19.198495Z"
    },
    "papermill": {
     "duration": 0.034572,
     "end_time": "2025-08-05T16:05:19.201375",
     "exception": false,
     "start_time": "2025-08-05T16:05:19.166803",
     "status": "completed"
    },
    "tags": []
   },
   "outputs": [
    {
     "data": {
      "text/plain": [
       "{'coverage': 0.9126630253037565, 'avg_size': 1.1437186489800468}"
      ]
     },
     "execution_count": 45,
     "metadata": {},
     "output_type": "execute_result"
    }
   ],
   "source": [
    "metrics"
   ]
  },
  {
   "cell_type": "code",
   "execution_count": 46,
   "id": "9b9a838d-31c9-430b-ae14-12baee460d17",
   "metadata": {
    "execution": {
     "iopub.execute_input": "2025-08-05T16:05:19.253709Z",
     "iopub.status.busy": "2025-08-05T16:05:19.253115Z",
     "iopub.status.idle": "2025-08-05T16:05:19.260225Z",
     "shell.execute_reply": "2025-08-05T16:05:19.259075Z"
    },
    "papermill": {
     "duration": 0.035389,
     "end_time": "2025-08-05T16:05:19.262208",
     "exception": false,
     "start_time": "2025-08-05T16:05:19.226819",
     "status": "completed"
    },
    "tags": []
   },
   "outputs": [],
   "source": [
    "example_universe = universe.copy()\n",
    "universe_training_year = example_universe.get(\"training_year\")\n",
    "universe_training_size = example_universe.get(\"training_size\")\n",
    "universe_scale = example_universe.get(\"scale\")\n",
    "universe_model = example_universe.get(\"model\")\n",
    "universe_exclude_features = example_universe.get(\"exclude_features\")\n",
    "universe_exclude_subgroups = example_universe.get(\"exclude_subgroups\")"
   ]
  },
  {
   "cell_type": "code",
   "execution_count": 47,
   "id": "f4b6a8ac-9dc0-4245-8a91-5b3b5999c4f9",
   "metadata": {
    "execution": {
     "iopub.execute_input": "2025-08-05T16:05:19.314577Z",
     "iopub.status.busy": "2025-08-05T16:05:19.313483Z",
     "iopub.status.idle": "2025-08-05T16:05:19.320520Z",
     "shell.execute_reply": "2025-08-05T16:05:19.319455Z"
    },
    "papermill": {
     "duration": 0.034694,
     "end_time": "2025-08-05T16:05:19.322427",
     "exception": false,
     "start_time": "2025-08-05T16:05:19.287733",
     "status": "completed"
    },
    "tags": []
   },
   "outputs": [],
   "source": [
    "cp_metrics_dict = {\n",
    "    \"universe_id\": [universe_id],\n",
    "    \"universe_training_year\": [universe_training_year],\n",
    "    \"universe_training_size\": [universe_training_size],\n",
    "    \"universe_scale\": [universe_scale],\n",
    "    \"universe_model\": [universe_model],\n",
    "    \"universe_exclude_features\": [universe_exclude_features],\n",
    "    \"universe_exclude_subgroups\": [universe_exclude_subgroups],\n",
    "    \"q_hat\": [q_hat],\n",
    "    \"coverage\": [metrics[\"coverage\"]],\n",
    "    \"avg_size\": [metrics[\"avg_size\"]],\n",
    "}"
   ]
  },
  {
   "cell_type": "code",
   "execution_count": 48,
   "id": "908acbb1-0371-4915-85ca-3fa520d2efe2",
   "metadata": {
    "execution": {
     "iopub.execute_input": "2025-08-05T16:05:19.374919Z",
     "iopub.status.busy": "2025-08-05T16:05:19.374124Z",
     "iopub.status.idle": "2025-08-05T16:05:19.382489Z",
     "shell.execute_reply": "2025-08-05T16:05:19.381369Z"
    },
    "papermill": {
     "duration": 0.03627,
     "end_time": "2025-08-05T16:05:19.384437",
     "exception": false,
     "start_time": "2025-08-05T16:05:19.348167",
     "status": "completed"
    },
    "tags": []
   },
   "outputs": [
    {
     "data": {
      "text/plain": [
       "{'universe_id': ['0b4807607cad1526d8e6418f2999cbc7'],\n",
       " 'universe_training_year': ['2014'],\n",
       " 'universe_training_size': ['1k'],\n",
       " 'universe_scale': ['scale'],\n",
       " 'universe_model': ['rf'],\n",
       " 'universe_exclude_features': ['sex'],\n",
       " 'universe_exclude_subgroups': ['drop-non-german'],\n",
       " 'q_hat': [0.6599999999999999],\n",
       " 'coverage': [0.9126630253037565],\n",
       " 'avg_size': [1.1437186489800468]}"
      ]
     },
     "execution_count": 48,
     "metadata": {},
     "output_type": "execute_result"
    }
   ],
   "source": [
    "cp_metrics_dict"
   ]
  },
  {
   "cell_type": "code",
   "execution_count": 49,
   "id": "33007efc-14e9-4ec6-97ac-56a455c82265",
   "metadata": {
    "execution": {
     "iopub.execute_input": "2025-08-05T16:05:19.436268Z",
     "iopub.status.busy": "2025-08-05T16:05:19.435568Z",
     "iopub.status.idle": "2025-08-05T16:05:19.442606Z",
     "shell.execute_reply": "2025-08-05T16:05:19.441524Z"
    },
    "papermill": {
     "duration": 0.033907,
     "end_time": "2025-08-05T16:05:19.444388",
     "exception": false,
     "start_time": "2025-08-05T16:05:19.410481",
     "status": "completed"
    },
    "tags": []
   },
   "outputs": [],
   "source": [
    "cp_metrics_df = pd.DataFrame(cp_metrics_dict)"
   ]
  },
  {
   "cell_type": "code",
   "execution_count": 50,
   "id": "db12611b-57b2-4910-b9d0-355adfd6e7bf",
   "metadata": {
    "execution": {
     "iopub.execute_input": "2025-08-05T16:05:19.490721Z",
     "iopub.status.busy": "2025-08-05T16:05:19.489845Z",
     "iopub.status.idle": "2025-08-05T16:05:19.508981Z",
     "shell.execute_reply": "2025-08-05T16:05:19.508044Z"
    },
    "papermill": {
     "duration": 0.044074,
     "end_time": "2025-08-05T16:05:19.510921",
     "exception": false,
     "start_time": "2025-08-05T16:05:19.466847",
     "status": "completed"
    },
    "tags": []
   },
   "outputs": [
    {
     "data": {
      "text/html": [
       "<div>\n",
       "<style scoped>\n",
       "    .dataframe tbody tr th:only-of-type {\n",
       "        vertical-align: middle;\n",
       "    }\n",
       "\n",
       "    .dataframe tbody tr th {\n",
       "        vertical-align: top;\n",
       "    }\n",
       "\n",
       "    .dataframe thead th {\n",
       "        text-align: right;\n",
       "    }\n",
       "</style>\n",
       "<table border=\"1\" class=\"dataframe\">\n",
       "  <thead>\n",
       "    <tr style=\"text-align: right;\">\n",
       "      <th></th>\n",
       "      <th>universe_id</th>\n",
       "      <th>universe_training_year</th>\n",
       "      <th>universe_training_size</th>\n",
       "      <th>universe_scale</th>\n",
       "      <th>universe_model</th>\n",
       "      <th>universe_exclude_features</th>\n",
       "      <th>universe_exclude_subgroups</th>\n",
       "      <th>q_hat</th>\n",
       "      <th>coverage</th>\n",
       "      <th>avg_size</th>\n",
       "    </tr>\n",
       "  </thead>\n",
       "  <tbody>\n",
       "    <tr>\n",
       "      <th>0</th>\n",
       "      <td>0b4807607cad1526d8e6418f2999cbc7</td>\n",
       "      <td>2014</td>\n",
       "      <td>1k</td>\n",
       "      <td>scale</td>\n",
       "      <td>rf</td>\n",
       "      <td>sex</td>\n",
       "      <td>drop-non-german</td>\n",
       "      <td>0.66</td>\n",
       "      <td>0.912663</td>\n",
       "      <td>1.143719</td>\n",
       "    </tr>\n",
       "  </tbody>\n",
       "</table>\n",
       "</div>"
      ],
      "text/plain": [
       "                        universe_id universe_training_year  \\\n",
       "0  0b4807607cad1526d8e6418f2999cbc7                   2014   \n",
       "\n",
       "  universe_training_size universe_scale universe_model  \\\n",
       "0                     1k          scale             rf   \n",
       "\n",
       "  universe_exclude_features universe_exclude_subgroups  q_hat  coverage  \\\n",
       "0                       sex            drop-non-german   0.66  0.912663   \n",
       "\n",
       "   avg_size  \n",
       "0  1.143719  "
      ]
     },
     "execution_count": 50,
     "metadata": {},
     "output_type": "execute_result"
    }
   ],
   "source": [
    "cp_metrics_df"
   ]
  },
  {
   "cell_type": "code",
   "execution_count": 51,
   "id": "b7fbde55-a0a1-47e4-9af6-fe4a17fa8c61",
   "metadata": {
    "execution": {
     "iopub.execute_input": "2025-08-05T16:05:19.566443Z",
     "iopub.status.busy": "2025-08-05T16:05:19.565338Z",
     "iopub.status.idle": "2025-08-05T16:05:19.571479Z",
     "shell.execute_reply": "2025-08-05T16:05:19.570448Z"
    },
    "papermill": {
     "duration": 0.035432,
     "end_time": "2025-08-05T16:05:19.573305",
     "exception": false,
     "start_time": "2025-08-05T16:05:19.537873",
     "status": "completed"
    },
    "tags": []
   },
   "outputs": [],
   "source": [
    "# Conditional Coverage & looking at subgroups"
   ]
  },
  {
   "cell_type": "code",
   "execution_count": 52,
   "id": "027ae886-68dd-4141-96c7-805a5450e1ef",
   "metadata": {
    "execution": {
     "iopub.execute_input": "2025-08-05T16:05:19.629311Z",
     "iopub.status.busy": "2025-08-05T16:05:19.628379Z",
     "iopub.status.idle": "2025-08-05T16:05:19.895601Z",
     "shell.execute_reply": "2025-08-05T16:05:19.894567Z"
    },
    "papermill": {
     "duration": 0.297594,
     "end_time": "2025-08-05T16:05:19.897731",
     "exception": false,
     "start_time": "2025-08-05T16:05:19.600137",
     "status": "completed"
    },
    "tags": []
   },
   "outputs": [],
   "source": [
    "from fairness_multiverse.conformal import build_cp_groups\n",
    "\n",
    "cp_groups_df = build_cp_groups(pred_sets, y_true, X_test.index, org_test)\n",
    "#needs universe_id and setting"
   ]
  },
  {
   "cell_type": "code",
   "execution_count": 53,
   "id": "6cbdab96-b2b2-45af-ad54-d0516db2e28d",
   "metadata": {
    "execution": {
     "iopub.execute_input": "2025-08-05T16:05:19.964542Z",
     "iopub.status.busy": "2025-08-05T16:05:19.964031Z",
     "iopub.status.idle": "2025-08-05T16:05:21.495519Z",
     "shell.execute_reply": "2025-08-05T16:05:21.494424Z"
    },
    "papermill": {
     "duration": 1.562733,
     "end_time": "2025-08-05T16:05:21.497908",
     "exception": false,
     "start_time": "2025-08-05T16:05:19.935175",
     "status": "completed"
    },
    "tags": []
   },
   "outputs": [],
   "source": [
    "# Define covered = 1 if true_label is in the predicted set\n",
    "cp_groups_df['covered'] = cp_groups_df.apply(\n",
    "    lambda r: int(r['true_label'] in r['pred_set']),\n",
    "    axis=1\n",
    ")"
   ]
  },
  {
   "cell_type": "code",
   "execution_count": 54,
   "id": "338ff529-1a6b-4b87-a931-8e4788d52aad",
   "metadata": {
    "execution": {
     "iopub.execute_input": "2025-08-05T16:05:21.557272Z",
     "iopub.status.busy": "2025-08-05T16:05:21.556602Z",
     "iopub.status.idle": "2025-08-05T16:05:21.561898Z",
     "shell.execute_reply": "2025-08-05T16:05:21.560839Z"
    },
    "papermill": {
     "duration": 0.037883,
     "end_time": "2025-08-05T16:05:21.564089",
     "exception": false,
     "start_time": "2025-08-05T16:05:21.526206",
     "status": "completed"
    },
    "tags": []
   },
   "outputs": [],
   "source": [
    "#cp_groups_df"
   ]
  },
  {
   "cell_type": "code",
   "execution_count": 55,
   "id": "90032e27-66df-4540-9169-4e89cfbaa758",
   "metadata": {
    "execution": {
     "iopub.execute_input": "2025-08-05T16:05:21.624813Z",
     "iopub.status.busy": "2025-08-05T16:05:21.624085Z",
     "iopub.status.idle": "2025-08-05T16:05:21.636127Z",
     "shell.execute_reply": "2025-08-05T16:05:21.635117Z"
    },
    "papermill": {
     "duration": 0.045514,
     "end_time": "2025-08-05T16:05:21.638403",
     "exception": false,
     "start_time": "2025-08-05T16:05:21.592889",
     "status": "completed"
    },
    "tags": []
   },
   "outputs": [],
   "source": [
    "subgroups = ['frau1','nongerman','nongerman_male','nongerman_female']\n",
    "\n",
    "# Conditional coverage for subgroup==1\n",
    "cond_coverage = {\n",
    "    g: cp_groups_df.loc[cp_groups_df[g]==1, 'covered'].mean()\n",
    "    for g in subgroups\n",
    "}"
   ]
  },
  {
   "cell_type": "code",
   "execution_count": 56,
   "id": "1e348fb1-b9c3-45bc-ba23-f016827a7e0d",
   "metadata": {
    "execution": {
     "iopub.execute_input": "2025-08-05T16:05:21.699119Z",
     "iopub.status.busy": "2025-08-05T16:05:21.698005Z",
     "iopub.status.idle": "2025-08-05T16:05:21.707604Z",
     "shell.execute_reply": "2025-08-05T16:05:21.706080Z"
    },
    "papermill": {
     "duration": 0.041709,
     "end_time": "2025-08-05T16:05:21.710041",
     "exception": false,
     "start_time": "2025-08-05T16:05:21.668332",
     "status": "completed"
    },
    "tags": []
   },
   "outputs": [
    {
     "data": {
      "text/plain": [
       "{'frau1': 0.9085860628116997,\n",
       " 'nongerman': 0.9061359681131758,\n",
       " 'nongerman_male': 0.9256957579032694,\n",
       " 'nongerman_female': 0.8737704918032787}"
      ]
     },
     "execution_count": 56,
     "metadata": {},
     "output_type": "execute_result"
    }
   ],
   "source": [
    "cond_coverage"
   ]
  },
  {
   "cell_type": "code",
   "execution_count": 57,
   "id": "f5093324-c3dd-4d63-bc4c-8d945e5c8bbb",
   "metadata": {
    "execution": {
     "iopub.execute_input": "2025-08-05T16:05:21.768036Z",
     "iopub.status.busy": "2025-08-05T16:05:21.767164Z",
     "iopub.status.idle": "2025-08-05T16:05:21.776911Z",
     "shell.execute_reply": "2025-08-05T16:05:21.775773Z"
    },
    "papermill": {
     "duration": 0.038401,
     "end_time": "2025-08-05T16:05:21.778970",
     "exception": false,
     "start_time": "2025-08-05T16:05:21.740569",
     "status": "completed"
    },
    "tags": []
   },
   "outputs": [],
   "source": [
    "for subgroup, cov in cond_coverage.items():\n",
    "    cp_metrics_df[f\"cov_{subgroup}\"] = cov"
   ]
  },
  {
   "cell_type": "code",
   "execution_count": 58,
   "id": "6e872e10-dbe5-49e8-b554-5030c98ff75d",
   "metadata": {
    "execution": {
     "iopub.execute_input": "2025-08-05T16:05:21.825097Z",
     "iopub.status.busy": "2025-08-05T16:05:21.824150Z",
     "iopub.status.idle": "2025-08-05T16:05:21.846306Z",
     "shell.execute_reply": "2025-08-05T16:05:21.844968Z"
    },
    "papermill": {
     "duration": 0.04782,
     "end_time": "2025-08-05T16:05:21.848579",
     "exception": false,
     "start_time": "2025-08-05T16:05:21.800759",
     "status": "completed"
    },
    "tags": []
   },
   "outputs": [
    {
     "data": {
      "text/html": [
       "<div>\n",
       "<style scoped>\n",
       "    .dataframe tbody tr th:only-of-type {\n",
       "        vertical-align: middle;\n",
       "    }\n",
       "\n",
       "    .dataframe tbody tr th {\n",
       "        vertical-align: top;\n",
       "    }\n",
       "\n",
       "    .dataframe thead th {\n",
       "        text-align: right;\n",
       "    }\n",
       "</style>\n",
       "<table border=\"1\" class=\"dataframe\">\n",
       "  <thead>\n",
       "    <tr style=\"text-align: right;\">\n",
       "      <th></th>\n",
       "      <th>universe_id</th>\n",
       "      <th>universe_training_year</th>\n",
       "      <th>universe_training_size</th>\n",
       "      <th>universe_scale</th>\n",
       "      <th>universe_model</th>\n",
       "      <th>universe_exclude_features</th>\n",
       "      <th>universe_exclude_subgroups</th>\n",
       "      <th>q_hat</th>\n",
       "      <th>coverage</th>\n",
       "      <th>avg_size</th>\n",
       "      <th>cov_frau1</th>\n",
       "      <th>cov_nongerman</th>\n",
       "      <th>cov_nongerman_male</th>\n",
       "      <th>cov_nongerman_female</th>\n",
       "    </tr>\n",
       "  </thead>\n",
       "  <tbody>\n",
       "    <tr>\n",
       "      <th>0</th>\n",
       "      <td>0b4807607cad1526d8e6418f2999cbc7</td>\n",
       "      <td>2014</td>\n",
       "      <td>1k</td>\n",
       "      <td>scale</td>\n",
       "      <td>rf</td>\n",
       "      <td>sex</td>\n",
       "      <td>drop-non-german</td>\n",
       "      <td>0.66</td>\n",
       "      <td>0.912663</td>\n",
       "      <td>1.143719</td>\n",
       "      <td>0.908586</td>\n",
       "      <td>0.906136</td>\n",
       "      <td>0.925696</td>\n",
       "      <td>0.87377</td>\n",
       "    </tr>\n",
       "  </tbody>\n",
       "</table>\n",
       "</div>"
      ],
      "text/plain": [
       "                        universe_id universe_training_year  \\\n",
       "0  0b4807607cad1526d8e6418f2999cbc7                   2014   \n",
       "\n",
       "  universe_training_size universe_scale universe_model  \\\n",
       "0                     1k          scale             rf   \n",
       "\n",
       "  universe_exclude_features universe_exclude_subgroups  q_hat  coverage  \\\n",
       "0                       sex            drop-non-german   0.66  0.912663   \n",
       "\n",
       "   avg_size  cov_frau1  cov_nongerman  cov_nongerman_male  \\\n",
       "0  1.143719   0.908586       0.906136            0.925696   \n",
       "\n",
       "   cov_nongerman_female  \n",
       "0               0.87377  "
      ]
     },
     "execution_count": 58,
     "metadata": {},
     "output_type": "execute_result"
    }
   ],
   "source": [
    "cp_metrics_df"
   ]
  },
  {
   "cell_type": "markdown",
   "id": "33774451",
   "metadata": {
    "papermill": {
     "duration": 0.033339,
     "end_time": "2025-08-05T16:05:21.916536",
     "exception": false,
     "start_time": "2025-08-05T16:05:21.883197",
     "status": "completed"
    },
    "tags": []
   },
   "source": [
    "# (Fairness) Metrics"
   ]
  },
  {
   "cell_type": "code",
   "execution_count": 59,
   "id": "debc5d62",
   "metadata": {
    "execution": {
     "iopub.execute_input": "2025-08-05T16:05:21.985454Z",
     "iopub.status.busy": "2025-08-05T16:05:21.984667Z",
     "iopub.status.idle": "2025-08-05T16:05:22.009432Z",
     "shell.execute_reply": "2025-08-05T16:05:22.008148Z"
    },
    "papermill": {
     "duration": 0.061667,
     "end_time": "2025-08-05T16:05:22.011995",
     "exception": false,
     "start_time": "2025-08-05T16:05:21.950328",
     "status": "completed"
    },
    "tags": []
   },
   "outputs": [],
   "source": [
    "# do I need to include maxdeutsch1.missing?\n",
    "\n",
    "import numpy as np\n",
    "\n",
    "colname_to_bin = \"maxdeutsch1\"\n",
    "majority_value = org_train[colname_to_bin].mode()[0]\n",
    "\n",
    "org_test[\"majmin\"] = np.where(org_test[colname_to_bin] == majority_value, \"majority\", \"minority\")"
   ]
  },
  {
   "cell_type": "code",
   "execution_count": 60,
   "id": "06a50de5",
   "metadata": {
    "execution": {
     "iopub.execute_input": "2025-08-05T16:05:22.080860Z",
     "iopub.status.busy": "2025-08-05T16:05:22.080122Z",
     "iopub.status.idle": "2025-08-05T16:05:25.013288Z",
     "shell.execute_reply": "2025-08-05T16:05:25.012169Z"
    },
    "papermill": {
     "duration": 2.969992,
     "end_time": "2025-08-05T16:05:25.015453",
     "exception": false,
     "start_time": "2025-08-05T16:05:22.045461",
     "status": "completed"
    },
    "tags": []
   },
   "outputs": [],
   "source": [
    "example_universe = universe.copy()\n",
    "example_universe[\"cutoff\"] = example_universe[\"cutoff\"][0]\n",
    "example_universe[\"eval_fairness_grouping\"] = example_universe[\"eval_fairness_grouping\"][0]\n",
    "fairness_dict, metric_frame = universe_analysis.compute_metrics(\n",
    "    example_universe,\n",
    "    y_pred_prob=probs_test,\n",
    "    y_test=y_true,\n",
    "    org_test=org_test,\n",
    ")"
   ]
  },
  {
   "cell_type": "markdown",
   "id": "f95d4e02",
   "metadata": {
    "papermill": {
     "duration": 0.024232,
     "end_time": "2025-08-05T16:05:25.069112",
     "exception": false,
     "start_time": "2025-08-05T16:05:25.044880",
     "status": "completed"
    },
    "tags": []
   },
   "source": [
    "# Overall"
   ]
  },
  {
   "cell_type": "markdown",
   "id": "bdee4871",
   "metadata": {
    "papermill": {
     "duration": 0.022981,
     "end_time": "2025-08-05T16:05:25.115747",
     "exception": false,
     "start_time": "2025-08-05T16:05:25.092766",
     "status": "completed"
    },
    "tags": []
   },
   "source": [
    "Fairness\n",
    "Main fairness target: Equalized Odds. Seems to be a better fit than equal opportunity, since we're not only interested in Y = 1. Seems to be a better fit than demographic parity, since we also care about accuracy, not just equal distribution of preds.\n",
    "\n",
    "Pick column for computation of fairness metrics\n",
    "\n",
    "Performance\n",
    "Overall performance measures, most interesting in relation to the measures split by group below"
   ]
  },
  {
   "cell_type": "code",
   "execution_count": 61,
   "id": "c4e067c6",
   "metadata": {
    "execution": {
     "iopub.execute_input": "2025-08-05T16:05:25.164163Z",
     "iopub.status.busy": "2025-08-05T16:05:25.163511Z",
     "iopub.status.idle": "2025-08-05T16:05:25.172105Z",
     "shell.execute_reply": "2025-08-05T16:05:25.171152Z"
    },
    "papermill": {
     "duration": 0.035106,
     "end_time": "2025-08-05T16:05:25.173801",
     "exception": false,
     "start_time": "2025-08-05T16:05:25.138695",
     "status": "completed"
    },
    "tags": []
   },
   "outputs": [
    {
     "data": {
      "text/plain": [
       "accuracy                   0.196656\n",
       "balanced accuracy          0.533105\n",
       "f1                         0.239420\n",
       "precision                  0.136259\n",
       "false positive rate        0.919452\n",
       "false negative rate        0.014338\n",
       "selection rate             0.927946\n",
       "count                  89710.000000\n",
       "dtype: float64"
      ]
     },
     "execution_count": 61,
     "metadata": {},
     "output_type": "execute_result"
    }
   ],
   "source": [
    "metric_frame.overall"
   ]
  },
  {
   "cell_type": "markdown",
   "id": "e968fe9d",
   "metadata": {
    "papermill": {
     "duration": 0.023679,
     "end_time": "2025-08-05T16:05:25.220952",
     "exception": false,
     "start_time": "2025-08-05T16:05:25.197273",
     "status": "completed"
    },
    "tags": []
   },
   "source": [
    "By Group"
   ]
  },
  {
   "cell_type": "code",
   "execution_count": 62,
   "id": "ec325bce",
   "metadata": {
    "execution": {
     "iopub.execute_input": "2025-08-05T16:05:25.272977Z",
     "iopub.status.busy": "2025-08-05T16:05:25.272318Z",
     "iopub.status.idle": "2025-08-05T16:05:25.288112Z",
     "shell.execute_reply": "2025-08-05T16:05:25.287151Z"
    },
    "papermill": {
     "duration": 0.042746,
     "end_time": "2025-08-05T16:05:25.289916",
     "exception": false,
     "start_time": "2025-08-05T16:05:25.247170",
     "status": "completed"
    },
    "tags": []
   },
   "outputs": [
    {
     "data": {
      "text/html": [
       "<div>\n",
       "<style scoped>\n",
       "    .dataframe tbody tr th:only-of-type {\n",
       "        vertical-align: middle;\n",
       "    }\n",
       "\n",
       "    .dataframe tbody tr th {\n",
       "        vertical-align: top;\n",
       "    }\n",
       "\n",
       "    .dataframe thead th {\n",
       "        text-align: right;\n",
       "    }\n",
       "</style>\n",
       "<table border=\"1\" class=\"dataframe\">\n",
       "  <thead>\n",
       "    <tr style=\"text-align: right;\">\n",
       "      <th></th>\n",
       "      <th>accuracy</th>\n",
       "      <th>balanced accuracy</th>\n",
       "      <th>f1</th>\n",
       "      <th>precision</th>\n",
       "      <th>false positive rate</th>\n",
       "      <th>false negative rate</th>\n",
       "      <th>selection rate</th>\n",
       "      <th>count</th>\n",
       "    </tr>\n",
       "    <tr>\n",
       "      <th>majmin</th>\n",
       "      <th></th>\n",
       "      <th></th>\n",
       "      <th></th>\n",
       "      <th></th>\n",
       "      <th></th>\n",
       "      <th></th>\n",
       "      <th></th>\n",
       "      <th></th>\n",
       "    </tr>\n",
       "  </thead>\n",
       "  <tbody>\n",
       "    <tr>\n",
       "      <th>majority</th>\n",
       "      <td>0.204785</td>\n",
       "      <td>0.536521</td>\n",
       "      <td>0.247074</td>\n",
       "      <td>0.141203</td>\n",
       "      <td>0.914376</td>\n",
       "      <td>0.012582</td>\n",
       "      <td>0.924028</td>\n",
       "      <td>69170.0</td>\n",
       "    </tr>\n",
       "    <tr>\n",
       "      <th>minority</th>\n",
       "      <td>0.169279</td>\n",
       "      <td>0.521332</td>\n",
       "      <td>0.213650</td>\n",
       "      <td>0.119911</td>\n",
       "      <td>0.936221</td>\n",
       "      <td>0.021115</td>\n",
       "      <td>0.941139</td>\n",
       "      <td>20540.0</td>\n",
       "    </tr>\n",
       "  </tbody>\n",
       "</table>\n",
       "</div>"
      ],
      "text/plain": [
       "          accuracy  balanced accuracy        f1  precision  \\\n",
       "majmin                                                       \n",
       "majority  0.204785           0.536521  0.247074   0.141203   \n",
       "minority  0.169279           0.521332  0.213650   0.119911   \n",
       "\n",
       "          false positive rate  false negative rate  selection rate    count  \n",
       "majmin                                                                       \n",
       "majority             0.914376             0.012582        0.924028  69170.0  \n",
       "minority             0.936221             0.021115        0.941139  20540.0  "
      ]
     },
     "execution_count": 62,
     "metadata": {},
     "output_type": "execute_result"
    }
   ],
   "source": [
    "metric_frame.by_group"
   ]
  },
  {
   "cell_type": "code",
   "execution_count": 63,
   "id": "a9ddbe63",
   "metadata": {
    "execution": {
     "iopub.execute_input": "2025-08-05T16:05:25.338784Z",
     "iopub.status.busy": "2025-08-05T16:05:25.337932Z",
     "iopub.status.idle": "2025-08-05T16:05:27.665445Z",
     "shell.execute_reply": "2025-08-05T16:05:27.664605Z"
    },
    "papermill": {
     "duration": 2.353027,
     "end_time": "2025-08-05T16:05:27.667064",
     "exception": false,
     "start_time": "2025-08-05T16:05:25.314037",
     "status": "completed"
    },
    "tags": []
   },
   "outputs": [
    {
     "data": {
      "text/plain": [
       "array([[<Axes: title={'center': 'accuracy'}, xlabel='majmin'>,\n",
       "        <Axes: title={'center': 'balanced accuracy'}, xlabel='majmin'>,\n",
       "        <Axes: title={'center': 'f1'}, xlabel='majmin'>],\n",
       "       [<Axes: title={'center': 'precision'}, xlabel='majmin'>,\n",
       "        <Axes: title={'center': 'false positive rate'}, xlabel='majmin'>,\n",
       "        <Axes: title={'center': 'false negative rate'}, xlabel='majmin'>],\n",
       "       [<Axes: title={'center': 'selection rate'}, xlabel='majmin'>,\n",
       "        <Axes: title={'center': 'count'}, xlabel='majmin'>,\n",
       "        <Axes: xlabel='majmin'>]], dtype=object)"
      ]
     },
     "execution_count": 63,
     "metadata": {},
     "output_type": "execute_result"
    },
    {
     "data": {
      "image/png": "[encoded data removed]",
      "text/plain": [
       "<Figure size 1200x800 with 9 Axes>"
      ]
     },
     "metadata": {},
     "output_type": "display_data"
    }
   ],
   "source": [
    "# In a graphic\n",
    "metric_frame.by_group.plot.bar(\n",
    "    subplots=True,\n",
    "    layout=[3, 3],\n",
    "    legend=False,\n",
    "    figsize=[12, 8],\n",
    "    title=\"Show all metrics\",\n",
    ")"
   ]
  },
  {
   "cell_type": "markdown",
   "id": "f57a0bac",
   "metadata": {
    "papermill": {
     "duration": 0.024738,
     "end_time": "2025-08-05T16:05:27.717934",
     "exception": false,
     "start_time": "2025-08-05T16:05:27.693196",
     "status": "completed"
    },
    "tags": []
   },
   "source": [
    "# Final Output"
   ]
  },
  {
   "cell_type": "code",
   "execution_count": 64,
   "id": "96d280a3",
   "metadata": {
    "execution": {
     "iopub.execute_input": "2025-08-05T16:05:27.770756Z",
     "iopub.status.busy": "2025-08-05T16:05:27.770107Z",
     "iopub.status.idle": "2025-08-05T16:05:27.778357Z",
     "shell.execute_reply": "2025-08-05T16:05:27.777430Z"
    },
    "papermill": {
     "duration": 0.036693,
     "end_time": "2025-08-05T16:05:27.779964",
     "exception": false,
     "start_time": "2025-08-05T16:05:27.743271",
     "status": "completed"
    },
    "tags": []
   },
   "outputs": [
    {
     "data": {
      "text/plain": [
       "4"
      ]
     },
     "execution_count": 64,
     "metadata": {},
     "output_type": "execute_result"
    }
   ],
   "source": [
    "sub_universes = universe_analysis.generate_sub_universes()\n",
    "len(sub_universes)"
   ]
  },
  {
   "cell_type": "code",
   "execution_count": 65,
   "id": "92adf7ba",
   "metadata": {
    "execution": {
     "iopub.execute_input": "2025-08-05T16:05:27.832964Z",
     "iopub.status.busy": "2025-08-05T16:05:27.832148Z",
     "iopub.status.idle": "2025-08-05T16:05:27.838615Z",
     "shell.execute_reply": "2025-08-05T16:05:27.837649Z"
    },
    "papermill": {
     "duration": 0.036315,
     "end_time": "2025-08-05T16:05:27.840471",
     "exception": false,
     "start_time": "2025-08-05T16:05:27.804156",
     "status": "completed"
    },
    "tags": []
   },
   "outputs": [],
   "source": [
    "def filter_sub_universe_data(sub_universe, org_test):\n",
    "    # Keep all rows — no filtering\n",
    "    keep_rows_mask = np.ones(org_test.shape[0], dtype=bool)\n",
    "\n",
    "    print(f\"[INFO] Keeping all rows: {keep_rows_mask.sum()} rows retained.\")\n",
    "    return keep_rows_mask"
   ]
  },
  {
   "cell_type": "code",
   "execution_count": 66,
   "id": "4a759155",
   "metadata": {
    "execution": {
     "iopub.execute_input": "2025-08-05T16:05:27.876530Z",
     "iopub.status.busy": "2025-08-05T16:05:27.876082Z",
     "iopub.status.idle": "2025-08-05T16:05:35.273438Z",
     "shell.execute_reply": "2025-08-05T16:05:35.272596Z"
    },
    "papermill": {
     "duration": 7.414069,
     "end_time": "2025-08-05T16:05:35.274807",
     "exception": false,
     "start_time": "2025-08-05T16:05:27.860738",
     "status": "completed"
    },
    "tags": []
   },
   "outputs": [
    {
     "name": "stdout",
     "output_type": "stream",
     "text": [
      "Stopping execution_time clock.\n",
      "[INFO] Keeping all rows: 89710 rows retained.\n"
     ]
    },
    {
     "name": "stdout",
     "output_type": "stream",
     "text": [
      "[INFO] Keeping all rows: 89710 rows retained.\n"
     ]
    },
    {
     "name": "stdout",
     "output_type": "stream",
     "text": [
      "[INFO] Keeping all rows: 89710 rows retained.\n"
     ]
    },
    {
     "name": "stdout",
     "output_type": "stream",
     "text": [
      "[INFO] Keeping all rows: 89710 rows retained.\n"
     ]
    },
    {
     "data": {
      "text/html": [
       "<div>\n",
       "<style scoped>\n",
       "    .dataframe tbody tr th:only-of-type {\n",
       "        vertical-align: middle;\n",
       "    }\n",
       "\n",
       "    .dataframe tbody tr th {\n",
       "        vertical-align: top;\n",
       "    }\n",
       "\n",
       "    .dataframe thead th {\n",
       "        text-align: right;\n",
       "    }\n",
       "</style>\n",
       "<table border=\"1\" class=\"dataframe\">\n",
       "  <thead>\n",
       "    <tr style=\"text-align: right;\">\n",
       "      <th></th>\n",
       "      <th>run_no</th>\n",
       "      <th>universe_id</th>\n",
       "      <th>universe_settings</th>\n",
       "      <th>execution_time</th>\n",
       "      <th>test_size_n</th>\n",
       "      <th>test_size_frac</th>\n",
       "      <th>fair_main_equalized_odds_difference</th>\n",
       "      <th>fair_main_equalized_odds_ratio</th>\n",
       "      <th>fair_main_demographic_parity_difference</th>\n",
       "      <th>fair_main_demographic_parity_ratio</th>\n",
       "      <th>...</th>\n",
       "      <th>perf_grp_precision_0</th>\n",
       "      <th>perf_grp_precision_1</th>\n",
       "      <th>perf_grp_false positive rate_0</th>\n",
       "      <th>perf_grp_false positive rate_1</th>\n",
       "      <th>perf_grp_false negative rate_0</th>\n",
       "      <th>perf_grp_false negative rate_1</th>\n",
       "      <th>perf_grp_selection rate_0</th>\n",
       "      <th>perf_grp_selection rate_1</th>\n",
       "      <th>perf_grp_count_0</th>\n",
       "      <th>perf_grp_count_1</th>\n",
       "    </tr>\n",
       "  </thead>\n",
       "  <tbody>\n",
       "    <tr>\n",
       "      <th>0</th>\n",
       "      <td>15</td>\n",
       "      <td>0b4807607cad1526d8e6418f2999cbc7</td>\n",
       "      <td>{\"cutoff\": \"quantile_0.1\", \"eval_fairness_grou...</td>\n",
       "      <td>33.771123</td>\n",
       "      <td>89710</td>\n",
       "      <td>1.0</td>\n",
       "      <td>0.021844</td>\n",
       "      <td>0.976667</td>\n",
       "      <td>0.017111</td>\n",
       "      <td>0.981818</td>\n",
       "      <td>...</td>\n",
       "      <td>NaN</td>\n",
       "      <td>NaN</td>\n",
       "      <td>NaN</td>\n",
       "      <td>NaN</td>\n",
       "      <td>NaN</td>\n",
       "      <td>NaN</td>\n",
       "      <td>NaN</td>\n",
       "      <td>NaN</td>\n",
       "      <td>NaN</td>\n",
       "      <td>NaN</td>\n",
       "    </tr>\n",
       "    <tr>\n",
       "      <th>0</th>\n",
       "      <td>15</td>\n",
       "      <td>0b4807607cad1526d8e6418f2999cbc7</td>\n",
       "      <td>{\"cutoff\": \"quantile_0.1\", \"eval_fairness_grou...</td>\n",
       "      <td>33.771123</td>\n",
       "      <td>89710</td>\n",
       "      <td>1.0</td>\n",
       "      <td>0.021844</td>\n",
       "      <td>0.976667</td>\n",
       "      <td>0.017111</td>\n",
       "      <td>0.981818</td>\n",
       "      <td>...</td>\n",
       "      <td>0.119911</td>\n",
       "      <td>0.141203</td>\n",
       "      <td>0.936221</td>\n",
       "      <td>0.914376</td>\n",
       "      <td>0.021115</td>\n",
       "      <td>0.012582</td>\n",
       "      <td>0.941139</td>\n",
       "      <td>0.924028</td>\n",
       "      <td>20540.0</td>\n",
       "      <td>69170.0</td>\n",
       "    </tr>\n",
       "    <tr>\n",
       "      <th>0</th>\n",
       "      <td>15</td>\n",
       "      <td>0b4807607cad1526d8e6418f2999cbc7</td>\n",
       "      <td>{\"cutoff\": \"quantile_0.25\", \"eval_fairness_gro...</td>\n",
       "      <td>33.771123</td>\n",
       "      <td>89710</td>\n",
       "      <td>1.0</td>\n",
       "      <td>0.041660</td>\n",
       "      <td>0.955196</td>\n",
       "      <td>0.022803</td>\n",
       "      <td>0.971274</td>\n",
       "      <td>...</td>\n",
       "      <td>NaN</td>\n",
       "      <td>NaN</td>\n",
       "      <td>NaN</td>\n",
       "      <td>NaN</td>\n",
       "      <td>NaN</td>\n",
       "      <td>NaN</td>\n",
       "      <td>NaN</td>\n",
       "      <td>NaN</td>\n",
       "      <td>NaN</td>\n",
       "      <td>NaN</td>\n",
       "    </tr>\n",
       "    <tr>\n",
       "      <th>0</th>\n",
       "      <td>15</td>\n",
       "      <td>0b4807607cad1526d8e6418f2999cbc7</td>\n",
       "      <td>{\"cutoff\": \"quantile_0.25\", \"eval_fairness_gro...</td>\n",
       "      <td>33.771123</td>\n",
       "      <td>89710</td>\n",
       "      <td>1.0</td>\n",
       "      <td>0.041660</td>\n",
       "      <td>0.955196</td>\n",
       "      <td>0.022803</td>\n",
       "      <td>0.971274</td>\n",
       "      <td>...</td>\n",
       "      <td>0.130696</td>\n",
       "      <td>0.161370</td>\n",
       "      <td>0.779991</td>\n",
       "      <td>0.745044</td>\n",
       "      <td>0.100084</td>\n",
       "      <td>0.058425</td>\n",
       "      <td>0.793817</td>\n",
       "      <td>0.771013</td>\n",
       "      <td>20540.0</td>\n",
       "      <td>69170.0</td>\n",
       "    </tr>\n",
       "  </tbody>\n",
       "</table>\n",
       "<p>4 rows × 50 columns</p>\n",
       "</div>"
      ],
      "text/plain": [
       "  run_no                       universe_id  \\\n",
       "0     15  0b4807607cad1526d8e6418f2999cbc7   \n",
       "0     15  0b4807607cad1526d8e6418f2999cbc7   \n",
       "0     15  0b4807607cad1526d8e6418f2999cbc7   \n",
       "0     15  0b4807607cad1526d8e6418f2999cbc7   \n",
       "\n",
       "                                   universe_settings  execution_time  \\\n",
       "0  {\"cutoff\": \"quantile_0.1\", \"eval_fairness_grou...       33.771123   \n",
       "0  {\"cutoff\": \"quantile_0.1\", \"eval_fairness_grou...       33.771123   \n",
       "0  {\"cutoff\": \"quantile_0.25\", \"eval_fairness_gro...       33.771123   \n",
       "0  {\"cutoff\": \"quantile_0.25\", \"eval_fairness_gro...       33.771123   \n",
       "\n",
       "   test_size_n  test_size_frac  fair_main_equalized_odds_difference  \\\n",
       "0        89710             1.0                             0.021844   \n",
       "0        89710             1.0                             0.021844   \n",
       "0        89710             1.0                             0.041660   \n",
       "0        89710             1.0                             0.041660   \n",
       "\n",
       "   fair_main_equalized_odds_ratio  fair_main_demographic_parity_difference  \\\n",
       "0                        0.976667                                 0.017111   \n",
       "0                        0.976667                                 0.017111   \n",
       "0                        0.955196                                 0.022803   \n",
       "0                        0.955196                                 0.022803   \n",
       "\n",
       "   fair_main_demographic_parity_ratio  ...  perf_grp_precision_0  \\\n",
       "0                            0.981818  ...                   NaN   \n",
       "0                            0.981818  ...              0.119911   \n",
       "0                            0.971274  ...                   NaN   \n",
       "0                            0.971274  ...              0.130696   \n",
       "\n",
       "   perf_grp_precision_1  perf_grp_false positive rate_0  \\\n",
       "0                   NaN                             NaN   \n",
       "0              0.141203                        0.936221   \n",
       "0                   NaN                             NaN   \n",
       "0              0.161370                        0.779991   \n",
       "\n",
       "   perf_grp_false positive rate_1  perf_grp_false negative rate_0  \\\n",
       "0                             NaN                             NaN   \n",
       "0                        0.914376                        0.021115   \n",
       "0                             NaN                             NaN   \n",
       "0                        0.745044                        0.100084   \n",
       "\n",
       "   perf_grp_false negative rate_1  perf_grp_selection rate_0  \\\n",
       "0                             NaN                        NaN   \n",
       "0                        0.012582                   0.941139   \n",
       "0                             NaN                        NaN   \n",
       "0                        0.058425                   0.793817   \n",
       "\n",
       "   perf_grp_selection rate_1  perf_grp_count_0  perf_grp_count_1  \n",
       "0                        NaN               NaN               NaN  \n",
       "0                   0.924028           20540.0           69170.0  \n",
       "0                        NaN               NaN               NaN  \n",
       "0                   0.771013           20540.0           69170.0  \n",
       "\n",
       "[4 rows x 50 columns]"
      ]
     },
     "execution_count": 66,
     "metadata": {},
     "output_type": "execute_result"
    }
   ],
   "source": [
    "final_output = universe_analysis.generate_final_output(\n",
    "    y_pred_prob=probs_test,\n",
    "    y_test=y_true,\n",
    "    org_test=org_test,\n",
    "    filter_data=filter_sub_universe_data,\n",
    "    cp_metrics_df=cp_metrics_df,\n",
    "    save=True,\n",
    ")\n",
    "final_output"
   ]
  }
 ],
 "metadata": {
  "celltoolbar": "Tags",
  "kernelspec": {
   "display_name": "Python (CMA Fairness)",
   "language": "python",
   "name": "cma_fair_env"
  },
  "language_info": {
   "codemirror_mode": {
    "name": "ipython",
    "version": 3
   },
   "file_extension": ".py",
   "mimetype": "text/x-python",
   "name": "python",
   "nbconvert_exporter": "python",
   "pygments_lexer": "ipython3",
   "version": "3.10.12"
  },
  "papermill": {
   "default_parameters": {},
   "duration": 45.351804,
   "end_time": "2025-08-05T16:05:35.910608",
   "environment_variables": {},
   "exception": null,
   "input_path": "universe_analysis.ipynb",
   "output_path": "output/runs/15/notebooks/m_15-0b4807607cad1526d8e6418f2999cbc7.ipynb",
   "parameters": {
    "output_dir": "output",
    "run_no": "15",
    "seed": "2023",
    "universe": "{\"cutoff\": [\"quantile_0.1\", \"quantile_0.25\"], \"eval_fairness_grouping\": [\"majority-minority\", \"nationality-all\"], \"exclude_features\": \"sex\", \"exclude_subgroups\": \"drop-non-german\", \"model\": \"rf\", \"scale\": \"scale\", \"training_size\": \"1k\", \"training_year\": \"2014\"}",
    "universe_id": "0b4807607cad1526d8e6418f2999cbc7"
   },
   "start_time": "2025-08-05T16:04:50.558804",
   "version": "2.6.0"
  }
 },
 "nbformat": 4,
 "nbformat_minor": 5
}