{
 "cells": [
  {
   "cell_type": "code",
   "execution_count": 1,
   "id": "f159f837-637b-42ba-96b5-ec9a68c44524",
   "metadata": {
    "execution": {
     "iopub.execute_input": "2025-08-05T15:41:48.532895Z",
     "iopub.status.busy": "2025-08-05T15:41:48.531796Z",
     "iopub.status.idle": "2025-08-05T15:41:48.546784Z",
     "shell.execute_reply": "2025-08-05T15:41:48.545508Z"
    },
    "papermill": {
     "duration": 0.035598,
     "end_time": "2025-08-05T15:41:48.548450",
     "exception": false,
     "start_time": "2025-08-05T15:41:48.512852",
     "status": "completed"
    },
    "tags": []
   },
   "outputs": [
    {
     "name": "stdout",
     "output_type": "stream",
     "text": [
      "/dss/dsshome1/0C/ra93lal2/cma/CMA_Fairness_v2\n"
     ]
    },
    {
     "name": "stderr",
     "output_type": "stream",
     "text": [
      "/dss/dsshome1/0C/ra93lal2/.local/share/virtualenvs/CMA_Fairness_v2-3j10GkSs/lib/python3.10/site-packages/IPython/core/magics/osm.py:393: UserWarning: This is now an optional IPython functionality, using bookmarks requires you to install the `pickleshare` library.\n",
      "  bkms = self.shell.db.get('bookmarks', {})\n",
      "/dss/dsshome1/0C/ra93lal2/.local/share/virtualenvs/CMA_Fairness_v2-3j10GkSs/lib/python3.10/site-packages/IPython/core/magics/osm.py:417: UserWarning: This is now an optional IPython functionality, setting dhist requires you to install the `pickleshare` library.\n",
      "  self.shell.db['dhist'] = compress_dhist(dhist)[-100:]\n"
     ]
    }
   ],
   "source": [
    "%cd ~/cma/CMA_Fairness_v2"
   ]
  },
  {
   "cell_type": "markdown",
   "id": "de2603b9",
   "metadata": {
    "papermill": {
     "duration": 0.017239,
     "end_time": "2025-08-05T15:41:48.581740",
     "exception": false,
     "start_time": "2025-08-05T15:41:48.564501",
     "status": "completed"
    },
    "tags": []
   },
   "source": [
    "The following cell holds the definition of our parameters, these values can be overriden by rendering the with e.g. the following command:\n",
    "\n",
    "papermill -p alpha 0.2 -p ratio 0.3 universe_analysis.ipynb output/test_run.ipynb"
   ]
  },
  {
   "cell_type": "code",
   "execution_count": 2,
   "id": "a80968a0-40bb-4fa9-85ef-2d5eefb01975",
   "metadata": {
    "execution": {
     "iopub.execute_input": "2025-08-05T15:41:48.616063Z",
     "iopub.status.busy": "2025-08-05T15:41:48.615387Z",
     "iopub.status.idle": "2025-08-05T15:41:48.621370Z",
     "shell.execute_reply": "2025-08-05T15:41:48.620384Z"
    },
    "papermill": {
     "duration": 0.025125,
     "end_time": "2025-08-05T15:41:48.623236",
     "exception": false,
     "start_time": "2025-08-05T15:41:48.598111",
     "status": "completed"
    },
    "tags": []
   },
   "outputs": [
    {
     "name": "stdout",
     "output_type": "stream",
     "text": [
      "Current working directory: /dss/dsshome1/0C/ra93lal2/cma/CMA_Fairness_v2\n"
     ]
    }
   ],
   "source": [
    "import os\n",
    "print(\"Current working directory:\", os.getcwd())"
   ]
  },
  {
   "cell_type": "code",
   "execution_count": 3,
   "id": "2dce4c03",
   "metadata": {
    "execution": {
     "iopub.execute_input": "2025-08-05T15:41:48.657982Z",
     "iopub.status.busy": "2025-08-05T15:41:48.657306Z",
     "iopub.status.idle": "2025-08-05T15:41:48.663875Z",
     "shell.execute_reply": "2025-08-05T15:41:48.662924Z"
    },
    "papermill": {
     "duration": 0.02553,
     "end_time": "2025-08-05T15:41:48.665673",
     "exception": false,
     "start_time": "2025-08-05T15:41:48.640143",
     "status": "completed"
    },
    "tags": [
     "parameters"
    ]
   },
   "outputs": [],
   "source": [
    "run_no = 0\n",
    "universe_id = \"test\"\n",
    "universe = {\n",
    "    \"training_size\": \"25k\", # \"25k\", \"5k\", \"1k\"\n",
    "    \"training_year\": \"2014\", # \"2014\", \"2012_14\", \"2010_14\"\n",
    "    \"scale\": \"scale\", # \"scale\", \"do-not-scale\",\n",
    "    \"model\": \"elasticnet\", # \"logreg\", \"penalized_logreg\", \"rf\", \"gbm\", \"elasticnet\"\n",
    "    \"cutoff\": [\"quantile_0.15\", \"quantile_0.30\"],\n",
    "    \"exclude_features\": \"age\", # \"none\", \"nationality\", \"sex\", \"nationality-sex\", \"age\"\n",
    "    \"exclude_subgroups\": \"keep-all\", # \"keep-all\", \"drop-non-german\"\n",
    "    \"eval_fairness_grouping\": [\"majority-minority\", \"nationality-all\"]\n",
    "}\n",
    "\n",
    "output_dir=\"./output\"\n",
    "seed=0"
   ]
  },
  {
   "cell_type": "code",
   "execution_count": 4,
   "id": "6f4c8d2f",
   "metadata": {
    "execution": {
     "iopub.execute_input": "2025-08-05T15:41:48.704003Z",
     "iopub.status.busy": "2025-08-05T15:41:48.703174Z",
     "iopub.status.idle": "2025-08-05T15:41:48.708856Z",
     "shell.execute_reply": "2025-08-05T15:41:48.707834Z"
    },
    "papermill": {
     "duration": 0.027264,
     "end_time": "2025-08-05T15:41:48.710556",
     "exception": false,
     "start_time": "2025-08-05T15:41:48.683292",
     "status": "completed"
    },
    "tags": [
     "injected-parameters"
    ]
   },
   "outputs": [],
   "source": [
    "# Parameters\n",
    "universe_id = \"0a68a1b2957831213aee74fc398e20ca\"\n",
    "run_no = \"15\"\n",
    "universe = \"{\\\"cutoff\\\": [\\\"quantile_0.1\\\", \\\"quantile_0.25\\\"], \\\"eval_fairness_grouping\\\": [\\\"majority-minority\\\", \\\"nationality-all\\\"], \\\"exclude_features\\\": \\\"none\\\", \\\"exclude_subgroups\\\": \\\"keep-all\\\", \\\"model\\\": \\\"penalized_logreg\\\", \\\"scale\\\": \\\"do-not-scale\\\", \\\"training_size\\\": \\\"5k\\\", \\\"training_year\\\": \\\"2012_14\\\"}\"\n",
    "output_dir = \"output\"\n",
    "seed = \"2023\"\n"
   ]
  },
  {
   "cell_type": "code",
   "execution_count": 5,
   "id": "1650acaf",
   "metadata": {
    "execution": {
     "iopub.execute_input": "2025-08-05T15:41:48.746943Z",
     "iopub.status.busy": "2025-08-05T15:41:48.746136Z",
     "iopub.status.idle": "2025-08-05T15:41:48.751212Z",
     "shell.execute_reply": "2025-08-05T15:41:48.750235Z"
    },
    "papermill": {
     "duration": 0.02472,
     "end_time": "2025-08-05T15:41:48.753059",
     "exception": false,
     "start_time": "2025-08-05T15:41:48.728339",
     "status": "completed"
    },
    "tags": []
   },
   "outputs": [],
   "source": [
    "import json\n",
    "if isinstance(universe, str):\n",
    "    universe = json.loads(universe)"
   ]
  },
  {
   "cell_type": "code",
   "execution_count": 6,
   "id": "16620c48",
   "metadata": {
    "execution": {
     "iopub.execute_input": "2025-08-05T15:41:48.788788Z",
     "iopub.status.busy": "2025-08-05T15:41:48.787968Z",
     "iopub.status.idle": "2025-08-05T15:41:48.832930Z",
     "shell.execute_reply": "2025-08-05T15:41:48.831972Z"
    },
    "papermill": {
     "duration": 0.064743,
     "end_time": "2025-08-05T15:41:48.835036",
     "exception": false,
     "start_time": "2025-08-05T15:41:48.770293",
     "status": "completed"
    },
    "tags": []
   },
   "outputs": [],
   "source": [
    "# Auto-reload the custom package\n",
    "%load_ext autoreload\n",
    "%autoreload 1\n",
    "%aimport fairness_multiverse"
   ]
  },
  {
   "cell_type": "code",
   "execution_count": 7,
   "id": "01c5c9f3",
   "metadata": {
    "execution": {
     "iopub.execute_input": "2025-08-05T15:41:48.871292Z",
     "iopub.status.busy": "2025-08-05T15:41:48.870535Z",
     "iopub.status.idle": "2025-08-05T15:41:50.823249Z",
     "shell.execute_reply": "2025-08-05T15:41:50.822214Z"
    },
    "papermill": {
     "duration": 1.972102,
     "end_time": "2025-08-05T15:41:50.825075",
     "exception": false,
     "start_time": "2025-08-05T15:41:48.852973",
     "status": "completed"
    },
    "tags": []
   },
   "outputs": [],
   "source": [
    "from fairness_multiverse.universe import UniverseAnalysis\n",
    "\n",
    "universe_analysis = UniverseAnalysis(\n",
    "    run_no = run_no,\n",
    "    universe_id = universe_id,\n",
    "    universe = universe,\n",
    "    output_dir=output_dir,\n",
    ")"
   ]
  },
  {
   "cell_type": "code",
   "execution_count": 8,
   "id": "106241f5",
   "metadata": {
    "execution": {
     "iopub.execute_input": "2025-08-05T15:41:50.861490Z",
     "iopub.status.busy": "2025-08-05T15:41:50.860725Z",
     "iopub.status.idle": "2025-08-05T15:41:50.868135Z",
     "shell.execute_reply": "2025-08-05T15:41:50.867058Z"
    },
    "papermill": {
     "duration": 0.028385,
     "end_time": "2025-08-05T15:41:50.870823",
     "exception": false,
     "start_time": "2025-08-05T15:41:50.842438",
     "status": "completed"
    },
    "tags": []
   },
   "outputs": [
    {
     "name": "stdout",
     "output_type": "stream",
     "text": [
      "Using Seed: 2023\n"
     ]
    }
   ],
   "source": [
    "import numpy as np\n",
    "parsed_seed = int(seed)\n",
    "np.random.seed(parsed_seed)\n",
    "print(f\"Using Seed: {parsed_seed}\")"
   ]
  },
  {
   "cell_type": "markdown",
   "id": "e0ebdc57",
   "metadata": {
    "papermill": {
     "duration": 0.0168,
     "end_time": "2025-08-05T15:41:50.905387",
     "exception": false,
     "start_time": "2025-08-05T15:41:50.888587",
     "status": "completed"
    },
    "tags": []
   },
   "source": [
    "# Loading Data"
   ]
  },
  {
   "cell_type": "code",
   "execution_count": 9,
   "id": "f0496b8a",
   "metadata": {
    "execution": {
     "iopub.execute_input": "2025-08-05T15:41:50.942104Z",
     "iopub.status.busy": "2025-08-05T15:41:50.941597Z",
     "iopub.status.idle": "2025-08-05T15:42:02.586741Z",
     "shell.execute_reply": "2025-08-05T15:42:02.585596Z"
    },
    "papermill": {
     "duration": 11.665464,
     "end_time": "2025-08-05T15:42:02.588454",
     "exception": false,
     "start_time": "2025-08-05T15:41:50.922990",
     "status": "completed"
    },
    "tags": []
   },
   "outputs": [
    {
     "name": "stdout",
     "output_type": "stream",
     "text": [
      "Loading SIAB data from cache: data/siab_cached.csv.gz\n"
     ]
    },
    {
     "name": "stdout",
     "output_type": "stream",
     "text": [
      "(643690, 164)\n"
     ]
    }
   ],
   "source": [
    "from pathlib import Path\n",
    "import pandas as pd\n",
    "\n",
    "# File paths\n",
    "raw_file = Path(\"data/raw/siab.csv\")\n",
    "cache_file = Path(\"data/siab_cached.csv.gz\")\n",
    "\n",
    "# Ensure cache directory exists\n",
    "cache_file.parent.mkdir(parents=True, exist_ok=True)\n",
    "\n",
    "# Load with simple caching\n",
    "if cache_file.exists():\n",
    "    print(f\"Loading SIAB data from cache: {cache_file}\")\n",
    "    siab = pd.read_csv(cache_file, compression='gzip')\n",
    "else:\n",
    "    print(f\"Cache not found. Reading raw SIAB data: {raw_file}\")\n",
    "    siab = pd.read_csv(raw_file)\n",
    "    siab.to_csv(cache_file, index=False, compression='gzip')\n",
    "    print(f\"Cached SIAB data to: {cache_file}\")\n",
    "\n",
    "print(siab.shape)"
   ]
  },
  {
   "cell_type": "code",
   "execution_count": 10,
   "id": "db0ca512-5f53-4dba-abdb-a2888bca41ba",
   "metadata": {
    "execution": {
     "iopub.execute_input": "2025-08-05T15:42:02.627963Z",
     "iopub.status.busy": "2025-08-05T15:42:02.627250Z",
     "iopub.status.idle": "2025-08-05T15:42:02.634306Z",
     "shell.execute_reply": "2025-08-05T15:42:02.633201Z"
    },
    "papermill": {
     "duration": 0.028375,
     "end_time": "2025-08-05T15:42:02.636173",
     "exception": false,
     "start_time": "2025-08-05T15:42:02.607798",
     "status": "completed"
    },
    "tags": []
   },
   "outputs": [],
   "source": [
    "#siab"
   ]
  },
  {
   "cell_type": "markdown",
   "id": "997051c5-15bd-4b69-9786-c3001a3ce484",
   "metadata": {
    "papermill": {
     "duration": 0.017195,
     "end_time": "2025-08-05T15:42:02.672384",
     "exception": false,
     "start_time": "2025-08-05T15:42:02.655189",
     "status": "completed"
    },
    "tags": []
   },
   "source": [
    "# Splitting Data and Setting Training Data Size"
   ]
  },
  {
   "cell_type": "code",
   "execution_count": 11,
   "id": "aea9c6ef-6f46-42c8-85eb-5a62025c1508",
   "metadata": {
    "execution": {
     "iopub.execute_input": "2025-08-05T15:42:02.709247Z",
     "iopub.status.busy": "2025-08-05T15:42:02.708736Z",
     "iopub.status.idle": "2025-08-05T15:42:03.341776Z",
     "shell.execute_reply": "2025-08-05T15:42:03.340739Z"
    },
    "papermill": {
     "duration": 0.654678,
     "end_time": "2025-08-05T15:42:03.343698",
     "exception": false,
     "start_time": "2025-08-05T15:42:02.689020",
     "status": "completed"
    },
    "tags": []
   },
   "outputs": [],
   "source": [
    "from fairness_multiverse.universe import sample_by_year_size\n",
    "\n",
    "siab_train = sample_by_year_size(siab,\n",
    "                               training_year=universe[\"training_year\"],\n",
    "                               training_size=universe[\"training_size\"])"
   ]
  },
  {
   "cell_type": "code",
   "execution_count": 12,
   "id": "8d3afb32-789d-442c-8d5d-9f5aa8dd2eed",
   "metadata": {
    "execution": {
     "iopub.execute_input": "2025-08-05T15:42:03.397554Z",
     "iopub.status.busy": "2025-08-05T15:42:03.396854Z",
     "iopub.status.idle": "2025-08-05T15:42:03.402153Z",
     "shell.execute_reply": "2025-08-05T15:42:03.401049Z"
    },
    "papermill": {
     "duration": 0.026156,
     "end_time": "2025-08-05T15:42:03.403973",
     "exception": false,
     "start_time": "2025-08-05T15:42:03.377817",
     "status": "completed"
    },
    "tags": []
   },
   "outputs": [],
   "source": [
    "#siab_train.shape"
   ]
  },
  {
   "cell_type": "code",
   "execution_count": 13,
   "id": "d582db68-1a4c-47fb-84fc-08518dc1975a",
   "metadata": {
    "execution": {
     "iopub.execute_input": "2025-08-05T15:42:03.442655Z",
     "iopub.status.busy": "2025-08-05T15:42:03.441795Z",
     "iopub.status.idle": "2025-08-05T15:42:03.447232Z",
     "shell.execute_reply": "2025-08-05T15:42:03.446111Z"
    },
    "papermill": {
     "duration": 0.02565,
     "end_time": "2025-08-05T15:42:03.449142",
     "exception": false,
     "start_time": "2025-08-05T15:42:03.423492",
     "status": "completed"
    },
    "tags": []
   },
   "outputs": [],
   "source": [
    "#display(siab_train.groupby(\"year\").size())"
   ]
  },
  {
   "cell_type": "code",
   "execution_count": 14,
   "id": "a561edb4-d032-42cb-8256-22eac1111c64",
   "metadata": {
    "execution": {
     "iopub.execute_input": "2025-08-05T15:42:03.491461Z",
     "iopub.status.busy": "2025-08-05T15:42:03.490538Z",
     "iopub.status.idle": "2025-08-05T15:42:03.758352Z",
     "shell.execute_reply": "2025-08-05T15:42:03.757376Z"
    },
    "papermill": {
     "duration": 0.291483,
     "end_time": "2025-08-05T15:42:03.760457",
     "exception": false,
     "start_time": "2025-08-05T15:42:03.468974",
     "status": "completed"
    },
    "tags": []
   },
   "outputs": [],
   "source": [
    "#siab_train = siab_s[siab_s.year < 2015]\n",
    "siab_calib = siab[siab.year == 2015]\n",
    "siab_test = siab[siab.year == 2016]"
   ]
  },
  {
   "cell_type": "code",
   "execution_count": 15,
   "id": "472de16f-c3db-4916-846b-1f0de9cf1746",
   "metadata": {
    "execution": {
     "iopub.execute_input": "2025-08-05T15:42:03.801479Z",
     "iopub.status.busy": "2025-08-05T15:42:03.800985Z",
     "iopub.status.idle": "2025-08-05T15:42:03.810815Z",
     "shell.execute_reply": "2025-08-05T15:42:03.809633Z"
    },
    "papermill": {
     "duration": 0.031947,
     "end_time": "2025-08-05T15:42:03.812639",
     "exception": false,
     "start_time": "2025-08-05T15:42:03.780692",
     "status": "completed"
    },
    "tags": []
   },
   "outputs": [],
   "source": [
    "X_train = siab_train.iloc[:,4:164]\n",
    "y_train = siab_train.iloc[:, [3]]"
   ]
  },
  {
   "cell_type": "code",
   "execution_count": 16,
   "id": "828c96af-f43a-4ed6-ba47-8ac73a47d56c",
   "metadata": {
    "execution": {
     "iopub.execute_input": "2025-08-05T15:42:03.853956Z",
     "iopub.status.busy": "2025-08-05T15:42:03.852986Z",
     "iopub.status.idle": "2025-08-05T15:42:03.904033Z",
     "shell.execute_reply": "2025-08-05T15:42:03.902815Z"
    },
    "papermill": {
     "duration": 0.07352,
     "end_time": "2025-08-05T15:42:03.906400",
     "exception": false,
     "start_time": "2025-08-05T15:42:03.832880",
     "status": "completed"
    },
    "tags": []
   },
   "outputs": [],
   "source": [
    "X_calib = siab_calib.iloc[:,4:164]\n",
    "y_calib = siab_calib.iloc[:, [3]]"
   ]
  },
  {
   "cell_type": "code",
   "execution_count": 17,
   "id": "c34be9c3-6bd6-476e-acd3-845840e303be",
   "metadata": {
    "execution": {
     "iopub.execute_input": "2025-08-05T15:42:03.948087Z",
     "iopub.status.busy": "2025-08-05T15:42:03.947456Z",
     "iopub.status.idle": "2025-08-05T15:42:04.008138Z",
     "shell.execute_reply": "2025-08-05T15:42:04.006648Z"
    },
    "papermill": {
     "duration": 0.08312,
     "end_time": "2025-08-05T15:42:04.010354",
     "exception": false,
     "start_time": "2025-08-05T15:42:03.927234",
     "status": "completed"
    },
    "tags": []
   },
   "outputs": [],
   "source": [
    "X_test = siab_test.iloc[:,4:164]\n",
    "y_true = siab_test.iloc[:, [3]]"
   ]
  },
  {
   "cell_type": "code",
   "execution_count": 18,
   "id": "e6c733c5",
   "metadata": {
    "execution": {
     "iopub.execute_input": "2025-08-05T15:42:04.052226Z",
     "iopub.status.busy": "2025-08-05T15:42:04.051383Z",
     "iopub.status.idle": "2025-08-05T15:42:04.151183Z",
     "shell.execute_reply": "2025-08-05T15:42:04.150229Z"
    },
    "papermill": {
     "duration": 0.121921,
     "end_time": "2025-08-05T15:42:04.153052",
     "exception": false,
     "start_time": "2025-08-05T15:42:04.031131",
     "status": "completed"
    },
    "tags": []
   },
   "outputs": [],
   "source": [
    "# Auxiliary data needed downstream in the pipeline\n",
    "\n",
    "org_train = X_train.copy()\n",
    "org_test = X_test.copy()\n",
    "org_calib = X_calib.copy()"
   ]
  },
  {
   "cell_type": "markdown",
   "id": "0a4a1b33",
   "metadata": {
    "papermill": {
     "duration": 0.01787,
     "end_time": "2025-08-05T15:42:04.188502",
     "exception": false,
     "start_time": "2025-08-05T15:42:04.170632",
     "status": "completed"
    },
    "tags": []
   },
   "source": [
    "# Preprocessing Data"
   ]
  },
  {
   "cell_type": "code",
   "execution_count": 19,
   "id": "ca879031",
   "metadata": {
    "execution": {
     "iopub.execute_input": "2025-08-05T15:42:04.226036Z",
     "iopub.status.busy": "2025-08-05T15:42:04.225492Z",
     "iopub.status.idle": "2025-08-05T15:42:04.231841Z",
     "shell.execute_reply": "2025-08-05T15:42:04.230799Z"
    },
    "papermill": {
     "duration": 0.026213,
     "end_time": "2025-08-05T15:42:04.233445",
     "exception": false,
     "start_time": "2025-08-05T15:42:04.207232",
     "status": "completed"
    },
    "tags": []
   },
   "outputs": [],
   "source": [
    "# EXCLUDE PROTECTED FEATURES\n",
    "# ----------------------\n",
    "# \"exclude_features\": \"none\", # \"nationality\", \"sex\", \"nationality-sex\"\n",
    "\n",
    "excluded_features = universe[\"exclude_features\"].split(\"-\") # split, e.g.: \"nationality-sex\" -> [\"nationality\", \"sex\"]\n",
    "excluded_features_dictionary = {\n",
    "    \"nationality\": [\"maxdeutsch1\", \"maxdeutsch.Missing.\"],\n",
    "    \"sex\": [\"frau1\"],\n",
    "    \"age\": [\"age\"],\n",
    "}"
   ]
  },
  {
   "cell_type": "code",
   "execution_count": 20,
   "id": "b745ac60",
   "metadata": {
    "execution": {
     "iopub.execute_input": "2025-08-05T15:42:04.271219Z",
     "iopub.status.busy": "2025-08-05T15:42:04.270475Z",
     "iopub.status.idle": "2025-08-05T15:42:04.275962Z",
     "shell.execute_reply": "2025-08-05T15:42:04.274944Z"
    },
    "papermill": {
     "duration": 0.026339,
     "end_time": "2025-08-05T15:42:04.278090",
     "exception": false,
     "start_time": "2025-08-05T15:42:04.251751",
     "status": "completed"
    },
    "tags": []
   },
   "outputs": [],
   "source": [
    "# Code nice names to column names\n",
    "\n",
    "excluded_features_columns = [\n",
    "    excluded_features_dictionary[f] for f in excluded_features if len(f) > 0 and f != \"none\"\n",
    "]"
   ]
  },
  {
   "cell_type": "code",
   "execution_count": 21,
   "id": "f84f73a2",
   "metadata": {
    "execution": {
     "iopub.execute_input": "2025-08-05T15:42:04.320361Z",
     "iopub.status.busy": "2025-08-05T15:42:04.319523Z",
     "iopub.status.idle": "2025-08-05T15:42:04.326272Z",
     "shell.execute_reply": "2025-08-05T15:42:04.325263Z"
    },
    "papermill": {
     "duration": 0.029414,
     "end_time": "2025-08-05T15:42:04.328115",
     "exception": false,
     "start_time": "2025-08-05T15:42:04.298701",
     "status": "completed"
    },
    "tags": []
   },
   "outputs": [],
   "source": [
    "from utils import flatten_once\n",
    "\n",
    "excluded_features_columns = flatten_once(excluded_features_columns)"
   ]
  },
  {
   "cell_type": "code",
   "execution_count": 22,
   "id": "884dea22",
   "metadata": {
    "execution": {
     "iopub.execute_input": "2025-08-05T15:42:04.371228Z",
     "iopub.status.busy": "2025-08-05T15:42:04.370375Z",
     "iopub.status.idle": "2025-08-05T15:42:04.376344Z",
     "shell.execute_reply": "2025-08-05T15:42:04.375296Z"
    },
    "papermill": {
     "duration": 0.029019,
     "end_time": "2025-08-05T15:42:04.378162",
     "exception": false,
     "start_time": "2025-08-05T15:42:04.349143",
     "status": "completed"
    },
    "tags": []
   },
   "outputs": [],
   "source": [
    "if len(excluded_features_columns) > 0:\n",
    "    print(f\"Dropping features: {excluded_features_columns}\")\n",
    "    X_train.drop(excluded_features_columns, axis=1, inplace=True)"
   ]
  },
  {
   "cell_type": "code",
   "execution_count": 23,
   "id": "95ab8b16",
   "metadata": {
    "execution": {
     "iopub.execute_input": "2025-08-05T15:42:04.421021Z",
     "iopub.status.busy": "2025-08-05T15:42:04.420181Z",
     "iopub.status.idle": "2025-08-05T15:42:04.426239Z",
     "shell.execute_reply": "2025-08-05T15:42:04.425100Z"
    },
    "papermill": {
     "duration": 0.029228,
     "end_time": "2025-08-05T15:42:04.428187",
     "exception": false,
     "start_time": "2025-08-05T15:42:04.398959",
     "status": "completed"
    },
    "tags": []
   },
   "outputs": [],
   "source": [
    "if len(excluded_features_columns) > 0:\n",
    "    print(f\"Dropping features: {excluded_features_columns}\")\n",
    "    X_test.drop(excluded_features_columns, axis=1, inplace=True)"
   ]
  },
  {
   "cell_type": "code",
   "execution_count": 24,
   "id": "1853aaf5-fb9f-46cb-a2b5-8ea4ae2237e4",
   "metadata": {
    "execution": {
     "iopub.execute_input": "2025-08-05T15:42:04.470851Z",
     "iopub.status.busy": "2025-08-05T15:42:04.470047Z",
     "iopub.status.idle": "2025-08-05T15:42:04.475669Z",
     "shell.execute_reply": "2025-08-05T15:42:04.474635Z"
    },
    "papermill": {
     "duration": 0.028514,
     "end_time": "2025-08-05T15:42:04.477605",
     "exception": false,
     "start_time": "2025-08-05T15:42:04.449091",
     "status": "completed"
    },
    "tags": []
   },
   "outputs": [],
   "source": [
    "if len(excluded_features_columns) > 0:\n",
    "    print(f\"Dropping features: {excluded_features_columns}\")\n",
    "    X_calib.drop(excluded_features_columns, axis=1, inplace=True)"
   ]
  },
  {
   "cell_type": "code",
   "execution_count": 25,
   "id": "76c4dc6d",
   "metadata": {
    "execution": {
     "iopub.execute_input": "2025-08-05T15:42:04.520268Z",
     "iopub.status.busy": "2025-08-05T15:42:04.519540Z",
     "iopub.status.idle": "2025-08-05T15:42:04.524972Z",
     "shell.execute_reply": "2025-08-05T15:42:04.523925Z"
    },
    "papermill": {
     "duration": 0.028229,
     "end_time": "2025-08-05T15:42:04.526868",
     "exception": false,
     "start_time": "2025-08-05T15:42:04.498639",
     "status": "completed"
    },
    "tags": []
   },
   "outputs": [],
   "source": [
    "# EXCLUDE CERTAIN SUBGROUPS\n",
    "# ----------------------\n",
    "\n",
    "mode = universe.get(\"exclude_subgroups\", \"keep-all\") \n",
    "# Fetches the exclude_subgroups setting from the universe dict.\n",
    "# Defaults to \"keep-all\" if the key is missing."
   ]
  },
  {
   "cell_type": "code",
   "execution_count": 26,
   "id": "21994072",
   "metadata": {
    "execution": {
     "iopub.execute_input": "2025-08-05T15:42:04.569982Z",
     "iopub.status.busy": "2025-08-05T15:42:04.569177Z",
     "iopub.status.idle": "2025-08-05T15:42:04.576067Z",
     "shell.execute_reply": "2025-08-05T15:42:04.575057Z"
    },
    "papermill": {
     "duration": 0.030551,
     "end_time": "2025-08-05T15:42:04.578262",
     "exception": false,
     "start_time": "2025-08-05T15:42:04.547711",
     "status": "completed"
    },
    "tags": []
   },
   "outputs": [],
   "source": [
    "if mode == \"keep-all\":\n",
    "    keep_mask = pd.Series(True, index=org_train.index)\n",
    "\n",
    "# org_train contains the original feature columns from features_org (in Simson)\n",
    "# features_org contains unprocessed features, for me X_train at beginning ???\n",
    "# For keep-all, creates a boolean Series (keep_mask) of all True, so no rows are removed.\n",
    "\n",
    "elif mode == \"drop-non-german\":\n",
    "    keep_mask = org_train[\"maxdeutsch1\"] == 1 # ??? what about missing values?\n",
    "\n",
    "else:\n",
    "    raise ValueError(f\"Unsupported mode for exclude_subgroups: {mode}\")"
   ]
  },
  {
   "cell_type": "code",
   "execution_count": 27,
   "id": "71651440",
   "metadata": {
    "execution": {
     "iopub.execute_input": "2025-08-05T15:42:04.621242Z",
     "iopub.status.busy": "2025-08-05T15:42:04.620575Z",
     "iopub.status.idle": "2025-08-05T15:42:04.627074Z",
     "shell.execute_reply": "2025-08-05T15:42:04.626093Z"
    },
    "papermill": {
     "duration": 0.029902,
     "end_time": "2025-08-05T15:42:04.629297",
     "exception": false,
     "start_time": "2025-08-05T15:42:04.599395",
     "status": "completed"
    },
    "tags": []
   },
   "outputs": [],
   "source": [
    "n_drop = (~keep_mask).sum() # Calculates how many rows are set to be dropped\n",
    "if n_drop > 0:\n",
    "    pct = n_drop / len(keep_mask) * 100\n",
    "    print(f\"Dropping {n_drop} rows ({pct:.2f}%) where mode='{mode}'\")"
   ]
  },
  {
   "cell_type": "code",
   "execution_count": 28,
   "id": "5fb8eee5",
   "metadata": {
    "execution": {
     "iopub.execute_input": "2025-08-05T15:42:04.671737Z",
     "iopub.status.busy": "2025-08-05T15:42:04.671332Z",
     "iopub.status.idle": "2025-08-05T15:42:04.680416Z",
     "shell.execute_reply": "2025-08-05T15:42:04.679466Z"
    },
    "papermill": {
     "duration": 0.032206,
     "end_time": "2025-08-05T15:42:04.682376",
     "exception": false,
     "start_time": "2025-08-05T15:42:04.650170",
     "status": "completed"
    },
    "tags": []
   },
   "outputs": [],
   "source": [
    "X_train = X_train[keep_mask]"
   ]
  },
  {
   "cell_type": "code",
   "execution_count": 29,
   "id": "b202bb3a",
   "metadata": {
    "execution": {
     "iopub.execute_input": "2025-08-05T15:42:04.725827Z",
     "iopub.status.busy": "2025-08-05T15:42:04.724969Z",
     "iopub.status.idle": "2025-08-05T15:42:04.731356Z",
     "shell.execute_reply": "2025-08-05T15:42:04.730281Z"
    },
    "papermill": {
     "duration": 0.029377,
     "end_time": "2025-08-05T15:42:04.733144",
     "exception": false,
     "start_time": "2025-08-05T15:42:04.703767",
     "status": "completed"
    },
    "tags": []
   },
   "outputs": [],
   "source": [
    "y_train = y_train[keep_mask]"
   ]
  },
  {
   "cell_type": "markdown",
   "id": "493e2ac3",
   "metadata": {
    "papermill": {
     "duration": 0.020297,
     "end_time": "2025-08-05T15:42:04.774477",
     "exception": false,
     "start_time": "2025-08-05T15:42:04.754180",
     "status": "completed"
    },
    "tags": []
   },
   "source": [
    "# Model Training"
   ]
  },
  {
   "cell_type": "code",
   "execution_count": 30,
   "id": "679e1268",
   "metadata": {
    "execution": {
     "iopub.execute_input": "2025-08-05T15:42:04.817851Z",
     "iopub.status.busy": "2025-08-05T15:42:04.816890Z",
     "iopub.status.idle": "2025-08-05T15:42:04.920175Z",
     "shell.execute_reply": "2025-08-05T15:42:04.919193Z"
    },
    "papermill": {
     "duration": 0.127138,
     "end_time": "2025-08-05T15:42:04.922314",
     "exception": false,
     "start_time": "2025-08-05T15:42:04.795176",
     "status": "completed"
    },
    "tags": []
   },
   "outputs": [],
   "source": [
    "from sklearn.linear_model import LogisticRegression\n",
    "from sklearn.ensemble import GradientBoostingClassifier, RandomForestClassifier\n",
    "\n",
    "if (universe[\"model\"] == \"logreg\"):\n",
    "    model = LogisticRegression() #penalty=\"none\", solver=\"newton-cg\", max_iter=1) # include random_state=19 ?\n",
    "elif (universe[\"model\"] == \"penalized_logreg\"):\n",
    "    model = LogisticRegression(penalty=\"l2\", C=0.1) #, solver=\"newton-cg\", max_iter=1)\n",
    "elif (universe[\"model\"] == \"rf\"):\n",
    "    model = RandomForestClassifier() # n_estimators=100, n_jobs=-1\n",
    "elif (universe[\"model\"] == \"gbm\"):\n",
    "    model = GradientBoostingClassifier()\n",
    "elif (universe[\"model\"] == \"elasticnet\"):\n",
    "    model = LogisticRegression(penalty = 'elasticnet', solver = 'saga', l1_ratio = 0.5) # max_iter=5000\n",
    "else:\n",
    "    raise \"Unsupported universe.model\""
   ]
  },
  {
   "cell_type": "code",
   "execution_count": 31,
   "id": "0cc8f744",
   "metadata": {
    "execution": {
     "iopub.execute_input": "2025-08-05T15:42:04.964139Z",
     "iopub.status.busy": "2025-08-05T15:42:04.963466Z",
     "iopub.status.idle": "2025-08-05T15:42:04.970281Z",
     "shell.execute_reply": "2025-08-05T15:42:04.969279Z"
    },
    "papermill": {
     "duration": 0.028028,
     "end_time": "2025-08-05T15:42:04.971909",
     "exception": false,
     "start_time": "2025-08-05T15:42:04.943881",
     "status": "completed"
    },
    "tags": []
   },
   "outputs": [],
   "source": [
    "import numpy as np\n",
    "from sklearn.pipeline import Pipeline\n",
    "from sklearn.preprocessing import StandardScaler\n",
    "\n",
    "model = Pipeline([\n",
    "    #(\"continuous_processor\", continuous_processor),\n",
    "    #(\"categorical_preprocessor\", categorical_preprocessor),\n",
    "    (\"scale\", StandardScaler() if universe[\"scale\"] == \"scale\" else None), \n",
    "    (\"model\", model),\n",
    "])"
   ]
  },
  {
   "cell_type": "code",
   "execution_count": 32,
   "id": "9442c04d",
   "metadata": {
    "execution": {
     "iopub.execute_input": "2025-08-05T15:42:05.010898Z",
     "iopub.status.busy": "2025-08-05T15:42:05.010470Z",
     "iopub.status.idle": "2025-08-05T15:42:05.148327Z",
     "shell.execute_reply": "2025-08-05T15:42:05.147199Z"
    },
    "papermill": {
     "duration": 0.158488,
     "end_time": "2025-08-05T15:42:05.150567",
     "exception": false,
     "start_time": "2025-08-05T15:42:04.992079",
     "status": "completed"
    },
    "tags": []
   },
   "outputs": [
    {
     "name": "stderr",
     "output_type": "stream",
     "text": [
      "/dss/dsshome1/0C/ra93lal2/.local/share/virtualenvs/CMA_Fairness_v2-3j10GkSs/lib/python3.10/site-packages/sklearn/linear_model/_logistic.py:444: ConvergenceWarning: lbfgs failed to converge (status=1):\n",
      "STOP: TOTAL NO. of ITERATIONS REACHED LIMIT.\n",
      "\n",
      "Increase the number of iterations (max_iter) or scale the data as shown in:\n",
      "    https://scikit-learn.org/stable/modules/preprocessing.html\n",
      "Please also refer to the documentation for alternative solver options:\n",
      "    https://scikit-learn.org/stable/modules/linear_model.html#logistic-regression\n",
      "  n_iter_i = _check_optimize_result(\n"
     ]
    },
    {
     "data": {
      "text/html": [
       "<style>#sk-container-id-1 {color: black;background-color: white;}#sk-container-id-1 pre{padding: 0;}#sk-container-id-1 div.sk-toggleable {background-color: white;}#sk-container-id-1 label.sk-toggleable__label {cursor: pointer;display: block;width: 100%;margin-bottom: 0;padding: 0.3em;box-sizing: border-box;text-align: center;}#sk-container-id-1 label.sk-toggleable__label-arrow:before {content: \"▸\";float: left;margin-right: 0.25em;color: #696969;}#sk-container-id-1 label.sk-toggleable__label-arrow:hover:before {color: black;}#sk-container-id-1 div.sk-estimator:hover label.sk-toggleable__label-arrow:before {color: black;}#sk-container-id-1 div.sk-toggleable__content {max-height: 0;max-width: 0;overflow: hidden;text-align: left;background-color: #f0f8ff;}#sk-container-id-1 div.sk-toggleable__content pre {margin: 0.2em;color: black;border-radius: 0.25em;background-color: #f0f8ff;}#sk-container-id-1 input.sk-toggleable__control:checked~div.sk-toggleable__content {max-height: 200px;max-width: 100%;overflow: auto;}#sk-container-id-1 input.sk-toggleable__control:checked~label.sk-toggleable__label-arrow:before {content: \"▾\";}#sk-container-id-1 div.sk-estimator input.sk-toggleable__control:checked~label.sk-toggleable__label {background-color: #d4ebff;}#sk-container-id-1 div.sk-label input.sk-toggleable__control:checked~label.sk-toggleable__label {background-color: #d4ebff;}#sk-container-id-1 input.sk-hidden--visually {border: 0;clip: rect(1px 1px 1px 1px);clip: rect(1px, 1px, 1px, 1px);height: 1px;margin: -1px;overflow: hidden;padding: 0;position: absolute;width: 1px;}#sk-container-id-1 div.sk-estimator {font-family: monospace;background-color: #f0f8ff;border: 1px dotted black;border-radius: 0.25em;box-sizing: border-box;margin-bottom: 0.5em;}#sk-container-id-1 div.sk-estimator:hover {background-color: #d4ebff;}#sk-container-id-1 div.sk-parallel-item::after {content: \"\";width: 100%;border-bottom: 1px solid gray;flex-grow: 1;}#sk-container-id-1 div.sk-label:hover label.sk-toggleable__label {background-color: #d4ebff;}#sk-container-id-1 div.sk-serial::before {content: \"\";position: absolute;border-left: 1px solid gray;box-sizing: border-box;top: 0;bottom: 0;left: 50%;z-index: 0;}#sk-container-id-1 div.sk-serial {display: flex;flex-direction: column;align-items: center;background-color: white;padding-right: 0.2em;padding-left: 0.2em;position: relative;}#sk-container-id-1 div.sk-item {position: relative;z-index: 1;}#sk-container-id-1 div.sk-parallel {display: flex;align-items: stretch;justify-content: center;background-color: white;position: relative;}#sk-container-id-1 div.sk-item::before, #sk-container-id-1 div.sk-parallel-item::before {content: \"\";position: absolute;border-left: 1px solid gray;box-sizing: border-box;top: 0;bottom: 0;left: 50%;z-index: -1;}#sk-container-id-1 div.sk-parallel-item {display: flex;flex-direction: column;z-index: 1;position: relative;background-color: white;}#sk-container-id-1 div.sk-parallel-item:first-child::after {align-self: flex-end;width: 50%;}#sk-container-id-1 div.sk-parallel-item:last-child::after {align-self: flex-start;width: 50%;}#sk-container-id-1 div.sk-parallel-item:only-child::after {width: 0;}#sk-container-id-1 div.sk-dashed-wrapped {border: 1px dashed gray;margin: 0 0.4em 0.5em 0.4em;box-sizing: border-box;padding-bottom: 0.4em;background-color: white;}#sk-container-id-1 div.sk-label label {font-family: monospace;font-weight: bold;display: inline-block;line-height: 1.2em;}#sk-container-id-1 div.sk-label-container {text-align: center;}#sk-container-id-1 div.sk-container {/* jupyter's `normalize.less` sets `[hidden] { display: none; }` but bootstrap.min.css set `[hidden] { display: none !important; }` so we also need the `!important` here to be able to override the default hidden behavior on the sphinx rendered scikit-learn.org. See: https://github.com/scikit-learn/scikit-learn/issues/21755 */display: inline-block !important;position: relative;}#sk-container-id-1 div.sk-text-repr-fallback {display: none;}</style><div id=\"sk-container-id-1\" class=\"sk-top-container\"><div class=\"sk-text-repr-fallback\"><pre>Pipeline(steps=[(&#x27;scale&#x27;, None), (&#x27;model&#x27;, LogisticRegression(C=0.1))])</pre><b>In a Jupyter environment, please rerun this cell to show the HTML representation or trust the notebook. <br />On GitHub, the HTML representation is unable to render, please try loading this page with nbviewer.org.</b></div><div class=\"sk-container\" hidden><div class=\"sk-item sk-dashed-wrapped\"><div class=\"sk-label-container\"><div class=\"sk-label sk-toggleable\"><input class=\"sk-toggleable__control sk-hidden--visually\" id=\"sk-estimator-id-1\" type=\"checkbox\" ><label for=\"sk-estimator-id-1\" class=\"sk-toggleable__label sk-toggleable__label-arrow\">Pipeline</label><div class=\"sk-toggleable__content\"><pre>Pipeline(steps=[(&#x27;scale&#x27;, None), (&#x27;model&#x27;, LogisticRegression(C=0.1))])</pre></div></div></div><div class=\"sk-serial\"><div class=\"sk-item\"><div class=\"sk-estimator sk-toggleable\"><input class=\"sk-toggleable__control sk-hidden--visually\" id=\"sk-estimator-id-2\" type=\"checkbox\" ><label for=\"sk-estimator-id-2\" class=\"sk-toggleable__label sk-toggleable__label-arrow\">None</label><div class=\"sk-toggleable__content\"><pre>None</pre></div></div></div><div class=\"sk-item\"><div class=\"sk-estimator sk-toggleable\"><input class=\"sk-toggleable__control sk-hidden--visually\" id=\"sk-estimator-id-3\" type=\"checkbox\" ><label for=\"sk-estimator-id-3\" class=\"sk-toggleable__label sk-toggleable__label-arrow\">LogisticRegression</label><div class=\"sk-toggleable__content\"><pre>LogisticRegression(C=0.1)</pre></div></div></div></div></div></div></div>"
      ],
      "text/plain": [
       "Pipeline(steps=[('scale', None), ('model', LogisticRegression(C=0.1))])"
      ]
     },
     "execution_count": 32,
     "metadata": {},
     "output_type": "execute_result"
    }
   ],
   "source": [
    "model.fit(X_train, y_train.values.ravel())"
   ]
  },
  {
   "cell_type": "code",
   "execution_count": 33,
   "id": "af59f8c0",
   "metadata": {
    "execution": {
     "iopub.execute_input": "2025-08-05T15:42:05.191880Z",
     "iopub.status.busy": "2025-08-05T15:42:05.190936Z",
     "iopub.status.idle": "2025-08-05T15:42:05.196649Z",
     "shell.execute_reply": "2025-08-05T15:42:05.195544Z"
    },
    "papermill": {
     "duration": 0.028349,
     "end_time": "2025-08-05T15:42:05.198597",
     "exception": false,
     "start_time": "2025-08-05T15:42:05.170248",
     "status": "completed"
    },
    "tags": []
   },
   "outputs": [],
   "source": [
    "from fairness_multiverse.universe import predict_w_threshold"
   ]
  },
  {
   "cell_type": "code",
   "execution_count": 34,
   "id": "a7cf2e16",
   "metadata": {
    "execution": {
     "iopub.execute_input": "2025-08-05T15:42:05.234647Z",
     "iopub.status.busy": "2025-08-05T15:42:05.234270Z",
     "iopub.status.idle": "2025-08-05T15:42:05.336911Z",
     "shell.execute_reply": "2025-08-05T15:42:05.335935Z"
    },
    "papermill": {
     "duration": 0.118189,
     "end_time": "2025-08-05T15:42:05.338808",
     "exception": false,
     "start_time": "2025-08-05T15:42:05.220619",
     "status": "completed"
    },
    "tags": []
   },
   "outputs": [
    {
     "data": {
      "text/plain": [
       "0.8608181919518448"
      ]
     },
     "execution_count": 34,
     "metadata": {},
     "output_type": "execute_result"
    }
   ],
   "source": [
    "probs_test = model.predict_proba(X_test)\n",
    "\n",
    "'''\n",
    "Below code returns a boolean array (or binary 0/1 array depending on how it’s used) where each element \n",
    "is True if the probability of class 1 is greater than or equal to the threshold, and False otherwise.\n",
    "'''\n",
    "y_pred_default = predict_w_threshold(probs_test, 0.5)\n",
    "\n",
    "from sklearn.metrics import accuracy_score\n",
    "\n",
    "# Naive prediction\n",
    "accuracy_score(y_true = y_true, y_pred = y_pred_default)"
   ]
  },
  {
   "cell_type": "code",
   "execution_count": 35,
   "id": "081964c3",
   "metadata": {
    "execution": {
     "iopub.execute_input": "2025-08-05T15:42:05.389977Z",
     "iopub.status.busy": "2025-08-05T15:42:05.389329Z",
     "iopub.status.idle": "2025-08-05T15:42:05.483549Z",
     "shell.execute_reply": "2025-08-05T15:42:05.482506Z"
    },
    "papermill": {
     "duration": 0.122188,
     "end_time": "2025-08-05T15:42:05.485417",
     "exception": false,
     "start_time": "2025-08-05T15:42:05.363229",
     "status": "completed"
    },
    "tags": []
   },
   "outputs": [
    {
     "data": {
      "text/plain": [
       "array([0, 0, 0, ..., 0, 0, 0])"
      ]
     },
     "execution_count": 35,
     "metadata": {},
     "output_type": "execute_result"
    }
   ],
   "source": [
    "model.predict(X_test)"
   ]
  },
  {
   "cell_type": "markdown",
   "id": "56c9705b",
   "metadata": {
    "papermill": {
     "duration": 0.019809,
     "end_time": "2025-08-05T15:42:05.525595",
     "exception": false,
     "start_time": "2025-08-05T15:42:05.505786",
     "status": "completed"
    },
    "tags": []
   },
   "source": [
    "# Conformal Prediction"
   ]
  },
  {
   "cell_type": "code",
   "execution_count": 36,
   "id": "160ec6ff",
   "metadata": {
    "execution": {
     "iopub.execute_input": "2025-08-05T15:42:05.566450Z",
     "iopub.status.busy": "2025-08-05T15:42:05.565947Z",
     "iopub.status.idle": "2025-08-05T15:42:05.571294Z",
     "shell.execute_reply": "2025-08-05T15:42:05.570220Z"
    },
    "papermill": {
     "duration": 0.02836,
     "end_time": "2025-08-05T15:42:05.573084",
     "exception": false,
     "start_time": "2025-08-05T15:42:05.544724",
     "status": "completed"
    },
    "tags": []
   },
   "outputs": [],
   "source": [
    "# Miscoverage level for conformal prediction (10% allowed error rate => 90% target coverage)\n",
    "alpha = 0.1"
   ]
  },
  {
   "cell_type": "code",
   "execution_count": 37,
   "id": "eadf4555-3dd3-440e-8e35-f82a4ad9f855",
   "metadata": {
    "execution": {
     "iopub.execute_input": "2025-08-05T15:42:05.614950Z",
     "iopub.status.busy": "2025-08-05T15:42:05.614435Z",
     "iopub.status.idle": "2025-08-05T15:42:05.697739Z",
     "shell.execute_reply": "2025-08-05T15:42:05.696686Z"
    },
    "papermill": {
     "duration": 0.105822,
     "end_time": "2025-08-05T15:42:05.699670",
     "exception": false,
     "start_time": "2025-08-05T15:42:05.593848",
     "status": "completed"
    },
    "tags": []
   },
   "outputs": [],
   "source": [
    "probs_calib = model.predict_proba(X_calib)"
   ]
  },
  {
   "cell_type": "code",
   "execution_count": 38,
   "id": "2ed93547-6d5d-4983-9b36-1ecb300da49a",
   "metadata": {
    "execution": {
     "iopub.execute_input": "2025-08-05T15:42:05.741740Z",
     "iopub.status.busy": "2025-08-05T15:42:05.740860Z",
     "iopub.status.idle": "2025-08-05T15:42:05.746866Z",
     "shell.execute_reply": "2025-08-05T15:42:05.745682Z"
    },
    "papermill": {
     "duration": 0.028894,
     "end_time": "2025-08-05T15:42:05.748891",
     "exception": false,
     "start_time": "2025-08-05T15:42:05.719997",
     "status": "completed"
    },
    "tags": []
   },
   "outputs": [],
   "source": [
    "y_calib = y_calib.values.ravel().astype(int)"
   ]
  },
  {
   "cell_type": "code",
   "execution_count": 39,
   "id": "65d1320d-f588-4b38-9072-62af1ae97f7d",
   "metadata": {
    "execution": {
     "iopub.execute_input": "2025-08-05T15:42:05.797039Z",
     "iopub.status.busy": "2025-08-05T15:42:05.796372Z",
     "iopub.status.idle": "2025-08-05T15:42:05.804262Z",
     "shell.execute_reply": "2025-08-05T15:42:05.803167Z"
    },
    "papermill": {
     "duration": 0.03338,
     "end_time": "2025-08-05T15:42:05.805820",
     "exception": false,
     "start_time": "2025-08-05T15:42:05.772440",
     "status": "completed"
    },
    "tags": []
   },
   "outputs": [],
   "source": [
    "from fairness_multiverse.conformal import compute_nc_scores\n",
    "\n",
    "# Compute nonconformity scores on calibration set (1 - probability of true class)\n",
    "nc_scores = compute_nc_scores(probs_calib, y_calib)"
   ]
  },
  {
   "cell_type": "code",
   "execution_count": 40,
   "id": "df3b8ca3-53b7-43d5-9667-7c85da7aeda2",
   "metadata": {
    "execution": {
     "iopub.execute_input": "2025-08-05T15:42:05.847954Z",
     "iopub.status.busy": "2025-08-05T15:42:05.847212Z",
     "iopub.status.idle": "2025-08-05T15:42:05.854597Z",
     "shell.execute_reply": "2025-08-05T15:42:05.853437Z"
    },
    "papermill": {
     "duration": 0.030059,
     "end_time": "2025-08-05T15:42:05.856315",
     "exception": false,
     "start_time": "2025-08-05T15:42:05.826256",
     "status": "completed"
    },
    "tags": []
   },
   "outputs": [],
   "source": [
    "from fairness_multiverse.conformal import find_threshold\n",
    "\n",
    "# Find conformal threshold q_hat for the given alpha (split conformal method)\n",
    "q_hat = find_threshold(nc_scores, alpha)"
   ]
  },
  {
   "cell_type": "code",
   "execution_count": 41,
   "id": "4d29e6c1-0ef6-4aa4-b8fe-4fe79b0d033a",
   "metadata": {
    "execution": {
     "iopub.execute_input": "2025-08-05T15:42:05.904628Z",
     "iopub.status.busy": "2025-08-05T15:42:05.903965Z",
     "iopub.status.idle": "2025-08-05T15:42:05.911980Z",
     "shell.execute_reply": "2025-08-05T15:42:05.910894Z"
    },
    "papermill": {
     "duration": 0.033867,
     "end_time": "2025-08-05T15:42:05.913863",
     "exception": false,
     "start_time": "2025-08-05T15:42:05.879996",
     "status": "completed"
    },
    "tags": []
   },
   "outputs": [
    {
     "data": {
      "text/plain": [
       "0.6827157988486676"
      ]
     },
     "execution_count": 41,
     "metadata": {},
     "output_type": "execute_result"
    }
   ],
   "source": [
    "q_hat"
   ]
  },
  {
   "cell_type": "code",
   "execution_count": 42,
   "id": "92460794-cdac-4be2-ba28-f28c0515a6fb",
   "metadata": {
    "execution": {
     "iopub.execute_input": "2025-08-05T15:42:05.956477Z",
     "iopub.status.busy": "2025-08-05T15:42:05.955616Z",
     "iopub.status.idle": "2025-08-05T15:42:06.746638Z",
     "shell.execute_reply": "2025-08-05T15:42:06.745395Z"
    },
    "papermill": {
     "duration": 0.81395,
     "end_time": "2025-08-05T15:42:06.748454",
     "exception": false,
     "start_time": "2025-08-05T15:42:05.934504",
     "status": "completed"
    },
    "tags": []
   },
   "outputs": [],
   "source": [
    "from fairness_multiverse.conformal import predict_conformal_sets\n",
    "\n",
    "# Generate prediction sets for each test example\n",
    "pred_sets = predict_conformal_sets(model, X_test, q_hat)"
   ]
  },
  {
   "cell_type": "code",
   "execution_count": 43,
   "id": "d90c9a65-e6db-4f5d-80cd-e68fb7e46829",
   "metadata": {
    "execution": {
     "iopub.execute_input": "2025-08-05T15:42:06.791526Z",
     "iopub.status.busy": "2025-08-05T15:42:06.791021Z",
     "iopub.status.idle": "2025-08-05T15:42:06.797312Z",
     "shell.execute_reply": "2025-08-05T15:42:06.796222Z"
    },
    "papermill": {
     "duration": 0.030068,
     "end_time": "2025-08-05T15:42:06.799629",
     "exception": false,
     "start_time": "2025-08-05T15:42:06.769561",
     "status": "completed"
    },
    "tags": []
   },
   "outputs": [],
   "source": [
    "y_true = y_true.squeeze()"
   ]
  },
  {
   "cell_type": "code",
   "execution_count": 44,
   "id": "3a58a54a-1e68-46b9-927a-df01f18aebc8",
   "metadata": {
    "execution": {
     "iopub.execute_input": "2025-08-05T15:42:06.845259Z",
     "iopub.status.busy": "2025-08-05T15:42:06.844590Z",
     "iopub.status.idle": "2025-08-05T15:42:07.754173Z",
     "shell.execute_reply": "2025-08-05T15:42:07.753109Z"
    },
    "papermill": {
     "duration": 0.934063,
     "end_time": "2025-08-05T15:42:07.756243",
     "exception": false,
     "start_time": "2025-08-05T15:42:06.822180",
     "status": "completed"
    },
    "tags": []
   },
   "outputs": [],
   "source": [
    "from fairness_multiverse.conformal import evaluate_sets\n",
    "\n",
    "# Evaluate coverage and average set size on test data\n",
    "metrics = evaluate_sets(pred_sets, y_true)"
   ]
  },
  {
   "cell_type": "markdown",
   "id": "2b569c12-9aaa-4c88-98c9-bbcd0cf3ebb8",
   "metadata": {
    "papermill": {
     "duration": 0.020632,
     "end_time": "2025-08-05T15:42:07.798326",
     "exception": false,
     "start_time": "2025-08-05T15:42:07.777694",
     "status": "completed"
    },
    "tags": []
   },
   "source": [
    "# CP Metrics"
   ]
  },
  {
   "cell_type": "code",
   "execution_count": 45,
   "id": "5ce0a5cb-201f-45a0-ade5-94c7f0bd6095",
   "metadata": {
    "execution": {
     "iopub.execute_input": "2025-08-05T15:42:07.844029Z",
     "iopub.status.busy": "2025-08-05T15:42:07.842566Z",
     "iopub.status.idle": "2025-08-05T15:42:07.850457Z",
     "shell.execute_reply": "2025-08-05T15:42:07.849407Z"
    },
    "papermill": {
     "duration": 0.03253,
     "end_time": "2025-08-05T15:42:07.851948",
     "exception": false,
     "start_time": "2025-08-05T15:42:07.819418",
     "status": "completed"
    },
    "tags": []
   },
   "outputs": [
    {
     "data": {
      "text/plain": [
       "{'coverage': 0.9113811169323376, 'avg_size': 1.2127410545089734}"
      ]
     },
     "execution_count": 45,
     "metadata": {},
     "output_type": "execute_result"
    }
   ],
   "source": [
    "metrics"
   ]
  },
  {
   "cell_type": "code",
   "execution_count": 46,
   "id": "9b9a838d-31c9-430b-ae14-12baee460d17",
   "metadata": {
    "execution": {
     "iopub.execute_input": "2025-08-05T15:42:07.894982Z",
     "iopub.status.busy": "2025-08-05T15:42:07.893950Z",
     "iopub.status.idle": "2025-08-05T15:42:07.900927Z",
     "shell.execute_reply": "2025-08-05T15:42:07.899917Z"
    },
    "papermill": {
     "duration": 0.030321,
     "end_time": "2025-08-05T15:42:07.903056",
     "exception": false,
     "start_time": "2025-08-05T15:42:07.872735",
     "status": "completed"
    },
    "tags": []
   },
   "outputs": [],
   "source": [
    "example_universe = universe.copy()\n",
    "universe_training_year = example_universe.get(\"training_year\")\n",
    "universe_training_size = example_universe.get(\"training_size\")\n",
    "universe_scale = example_universe.get(\"scale\")\n",
    "universe_model = example_universe.get(\"model\")\n",
    "universe_exclude_features = example_universe.get(\"exclude_features\")\n",
    "universe_exclude_subgroups = example_universe.get(\"exclude_subgroups\")"
   ]
  },
  {
   "cell_type": "code",
   "execution_count": 47,
   "id": "f4b6a8ac-9dc0-4245-8a91-5b3b5999c4f9",
   "metadata": {
    "execution": {
     "iopub.execute_input": "2025-08-05T15:42:07.951182Z",
     "iopub.status.busy": "2025-08-05T15:42:07.950378Z",
     "iopub.status.idle": "2025-08-05T15:42:07.957629Z",
     "shell.execute_reply": "2025-08-05T15:42:07.956530Z"
    },
    "papermill": {
     "duration": 0.035207,
     "end_time": "2025-08-05T15:42:07.959852",
     "exception": false,
     "start_time": "2025-08-05T15:42:07.924645",
     "status": "completed"
    },
    "tags": []
   },
   "outputs": [],
   "source": [
    "cp_metrics_dict = {\n",
    "    \"universe_id\": [universe_id],\n",
    "    \"universe_training_year\": [universe_training_year],\n",
    "    \"universe_training_size\": [universe_training_size],\n",
    "    \"universe_scale\": [universe_scale],\n",
    "    \"universe_model\": [universe_model],\n",
    "    \"universe_exclude_features\": [universe_exclude_features],\n",
    "    \"universe_exclude_subgroups\": [universe_exclude_subgroups],\n",
    "    \"q_hat\": [q_hat],\n",
    "    \"coverage\": [metrics[\"coverage\"]],\n",
    "    \"avg_size\": [metrics[\"avg_size\"]],\n",
    "}"
   ]
  },
  {
   "cell_type": "code",
   "execution_count": 48,
   "id": "908acbb1-0371-4915-85ca-3fa520d2efe2",
   "metadata": {
    "execution": {
     "iopub.execute_input": "2025-08-05T15:42:08.013441Z",
     "iopub.status.busy": "2025-08-05T15:42:08.012937Z",
     "iopub.status.idle": "2025-08-05T15:42:08.021089Z",
     "shell.execute_reply": "2025-08-05T15:42:08.020129Z"
    },
    "papermill": {
     "duration": 0.037099,
     "end_time": "2025-08-05T15:42:08.023058",
     "exception": false,
     "start_time": "2025-08-05T15:42:07.985959",
     "status": "completed"
    },
    "tags": []
   },
   "outputs": [
    {
     "data": {
      "text/plain": [
       "{'universe_id': ['0a68a1b2957831213aee74fc398e20ca'],\n",
       " 'universe_training_year': ['2012_14'],\n",
       " 'universe_training_size': ['5k'],\n",
       " 'universe_scale': ['do-not-scale'],\n",
       " 'universe_model': ['penalized_logreg'],\n",
       " 'universe_exclude_features': ['none'],\n",
       " 'universe_exclude_subgroups': ['keep-all'],\n",
       " 'q_hat': [0.6827157988486676],\n",
       " 'coverage': [0.9113811169323376],\n",
       " 'avg_size': [1.2127410545089734]}"
      ]
     },
     "execution_count": 48,
     "metadata": {},
     "output_type": "execute_result"
    }
   ],
   "source": [
    "cp_metrics_dict"
   ]
  },
  {
   "cell_type": "code",
   "execution_count": 49,
   "id": "33007efc-14e9-4ec6-97ac-56a455c82265",
   "metadata": {
    "execution": {
     "iopub.execute_input": "2025-08-05T15:42:08.075555Z",
     "iopub.status.busy": "2025-08-05T15:42:08.075056Z",
     "iopub.status.idle": "2025-08-05T15:42:08.082093Z",
     "shell.execute_reply": "2025-08-05T15:42:08.080828Z"
    },
    "papermill": {
     "duration": 0.036097,
     "end_time": "2025-08-05T15:42:08.084560",
     "exception": false,
     "start_time": "2025-08-05T15:42:08.048463",
     "status": "completed"
    },
    "tags": []
   },
   "outputs": [],
   "source": [
    "cp_metrics_df = pd.DataFrame(cp_metrics_dict)"
   ]
  },
  {
   "cell_type": "code",
   "execution_count": 50,
   "id": "db12611b-57b2-4910-b9d0-355adfd6e7bf",
   "metadata": {
    "execution": {
     "iopub.execute_input": "2025-08-05T15:42:08.137380Z",
     "iopub.status.busy": "2025-08-05T15:42:08.136671Z",
     "iopub.status.idle": "2025-08-05T15:42:08.156954Z",
     "shell.execute_reply": "2025-08-05T15:42:08.156049Z"
    },
    "papermill": {
     "duration": 0.048245,
     "end_time": "2025-08-05T15:42:08.158718",
     "exception": false,
     "start_time": "2025-08-05T15:42:08.110473",
     "status": "completed"
    },
    "tags": []
   },
   "outputs": [
    {
     "data": {
      "text/html": [
       "<div>\n",
       "<style scoped>\n",
       "    .dataframe tbody tr th:only-of-type {\n",
       "        vertical-align: middle;\n",
       "    }\n",
       "\n",
       "    .dataframe tbody tr th {\n",
       "        vertical-align: top;\n",
       "    }\n",
       "\n",
       "    .dataframe thead th {\n",
       "        text-align: right;\n",
       "    }\n",
       "</style>\n",
       "<table border=\"1\" class=\"dataframe\">\n",
       "  <thead>\n",
       "    <tr style=\"text-align: right;\">\n",
       "      <th></th>\n",
       "      <th>universe_id</th>\n",
       "      <th>universe_training_year</th>\n",
       "      <th>universe_training_size</th>\n",
       "      <th>universe_scale</th>\n",
       "      <th>universe_model</th>\n",
       "      <th>universe_exclude_features</th>\n",
       "      <th>universe_exclude_subgroups</th>\n",
       "      <th>q_hat</th>\n",
       "      <th>coverage</th>\n",
       "      <th>avg_size</th>\n",
       "    </tr>\n",
       "  </thead>\n",
       "  <tbody>\n",
       "    <tr>\n",
       "      <th>0</th>\n",
       "      <td>0a68a1b2957831213aee74fc398e20ca</td>\n",
       "      <td>2012_14</td>\n",
       "      <td>5k</td>\n",
       "      <td>do-not-scale</td>\n",
       "      <td>penalized_logreg</td>\n",
       "      <td>none</td>\n",
       "      <td>keep-all</td>\n",
       "      <td>0.682716</td>\n",
       "      <td>0.911381</td>\n",
       "      <td>1.212741</td>\n",
       "    </tr>\n",
       "  </tbody>\n",
       "</table>\n",
       "</div>"
      ],
      "text/plain": [
       "                        universe_id universe_training_year  \\\n",
       "0  0a68a1b2957831213aee74fc398e20ca                2012_14   \n",
       "\n",
       "  universe_training_size universe_scale    universe_model  \\\n",
       "0                     5k   do-not-scale  penalized_logreg   \n",
       "\n",
       "  universe_exclude_features universe_exclude_subgroups     q_hat  coverage  \\\n",
       "0                      none                   keep-all  0.682716  0.911381   \n",
       "\n",
       "   avg_size  \n",
       "0  1.212741  "
      ]
     },
     "execution_count": 50,
     "metadata": {},
     "output_type": "execute_result"
    }
   ],
   "source": [
    "cp_metrics_df"
   ]
  },
  {
   "cell_type": "code",
   "execution_count": 51,
   "id": "b7fbde55-a0a1-47e4-9af6-fe4a17fa8c61",
   "metadata": {
    "execution": {
     "iopub.execute_input": "2025-08-05T15:42:08.206414Z",
     "iopub.status.busy": "2025-08-05T15:42:08.205762Z",
     "iopub.status.idle": "2025-08-05T15:42:08.211807Z",
     "shell.execute_reply": "2025-08-05T15:42:08.210739Z"
    },
    "papermill": {
     "duration": 0.030985,
     "end_time": "2025-08-05T15:42:08.213633",
     "exception": false,
     "start_time": "2025-08-05T15:42:08.182648",
     "status": "completed"
    },
    "tags": []
   },
   "outputs": [],
   "source": [
    "# Conditional Coverage & looking at subgroups"
   ]
  },
  {
   "cell_type": "code",
   "execution_count": 52,
   "id": "027ae886-68dd-4141-96c7-805a5450e1ef",
   "metadata": {
    "execution": {
     "iopub.execute_input": "2025-08-05T15:42:08.263190Z",
     "iopub.status.busy": "2025-08-05T15:42:08.262325Z",
     "iopub.status.idle": "2025-08-05T15:42:08.529648Z",
     "shell.execute_reply": "2025-08-05T15:42:08.528733Z"
    },
    "papermill": {
     "duration": 0.293365,
     "end_time": "2025-08-05T15:42:08.531520",
     "exception": false,
     "start_time": "2025-08-05T15:42:08.238155",
     "status": "completed"
    },
    "tags": []
   },
   "outputs": [],
   "source": [
    "from fairness_multiverse.conformal import build_cp_groups\n",
    "\n",
    "cp_groups_df = build_cp_groups(pred_sets, y_true, X_test.index, org_test)\n",
    "#needs universe_id and setting"
   ]
  },
  {
   "cell_type": "code",
   "execution_count": 53,
   "id": "6cbdab96-b2b2-45af-ad54-d0516db2e28d",
   "metadata": {
    "execution": {
     "iopub.execute_input": "2025-08-05T15:42:08.579642Z",
     "iopub.status.busy": "2025-08-05T15:42:08.578761Z",
     "iopub.status.idle": "2025-08-05T15:42:09.879886Z",
     "shell.execute_reply": "2025-08-05T15:42:09.878666Z"
    },
    "papermill": {
     "duration": 1.327243,
     "end_time": "2025-08-05T15:42:09.881584",
     "exception": false,
     "start_time": "2025-08-05T15:42:08.554341",
     "status": "completed"
    },
    "tags": []
   },
   "outputs": [],
   "source": [
    "# Define covered = 1 if true_label is in the predicted set\n",
    "cp_groups_df['covered'] = cp_groups_df.apply(\n",
    "    lambda r: int(r['true_label'] in r['pred_set']),\n",
    "    axis=1\n",
    ")"
   ]
  },
  {
   "cell_type": "code",
   "execution_count": 54,
   "id": "338ff529-1a6b-4b87-a931-8e4788d52aad",
   "metadata": {
    "execution": {
     "iopub.execute_input": "2025-08-05T15:42:09.929251Z",
     "iopub.status.busy": "2025-08-05T15:42:09.928743Z",
     "iopub.status.idle": "2025-08-05T15:42:09.934629Z",
     "shell.execute_reply": "2025-08-05T15:42:09.933486Z"
    },
    "papermill": {
     "duration": 0.029304,
     "end_time": "2025-08-05T15:42:09.936617",
     "exception": false,
     "start_time": "2025-08-05T15:42:09.907313",
     "status": "completed"
    },
    "tags": []
   },
   "outputs": [],
   "source": [
    "#cp_groups_df"
   ]
  },
  {
   "cell_type": "code",
   "execution_count": 55,
   "id": "90032e27-66df-4540-9169-4e89cfbaa758",
   "metadata": {
    "execution": {
     "iopub.execute_input": "2025-08-05T15:42:09.984719Z",
     "iopub.status.busy": "2025-08-05T15:42:09.983570Z",
     "iopub.status.idle": "2025-08-05T15:42:09.996156Z",
     "shell.execute_reply": "2025-08-05T15:42:09.994949Z"
    },
    "papermill": {
     "duration": 0.035857,
     "end_time": "2025-08-05T15:42:09.998515",
     "exception": false,
     "start_time": "2025-08-05T15:42:09.962658",
     "status": "completed"
    },
    "tags": []
   },
   "outputs": [],
   "source": [
    "subgroups = ['frau1','nongerman','nongerman_male','nongerman_female']\n",
    "\n",
    "# Conditional coverage for subgroup==1\n",
    "cond_coverage = {\n",
    "    g: cp_groups_df.loc[cp_groups_df[g]==1, 'covered'].mean()\n",
    "    for g in subgroups\n",
    "}"
   ]
  },
  {
   "cell_type": "code",
   "execution_count": 56,
   "id": "1e348fb1-b9c3-45bc-ba23-f016827a7e0d",
   "metadata": {
    "execution": {
     "iopub.execute_input": "2025-08-05T15:42:10.060117Z",
     "iopub.status.busy": "2025-08-05T15:42:10.058993Z",
     "iopub.status.idle": "2025-08-05T15:42:10.068005Z",
     "shell.execute_reply": "2025-08-05T15:42:10.066634Z"
    },
    "papermill": {
     "duration": 0.041813,
     "end_time": "2025-08-05T15:42:10.070317",
     "exception": false,
     "start_time": "2025-08-05T15:42:10.028504",
     "status": "completed"
    },
    "tags": []
   },
   "outputs": [
    {
     "data": {
      "text/plain": [
       "{'frau1': 0.9079390753470818,\n",
       " 'nongerman': 0.9329141638129456,\n",
       " 'nongerman_male': 0.9468612086823381,\n",
       " 'nongerman_female': 0.9098360655737705}"
      ]
     },
     "execution_count": 56,
     "metadata": {},
     "output_type": "execute_result"
    }
   ],
   "source": [
    "cond_coverage"
   ]
  },
  {
   "cell_type": "code",
   "execution_count": 57,
   "id": "f5093324-c3dd-4d63-bc4c-8d945e5c8bbb",
   "metadata": {
    "execution": {
     "iopub.execute_input": "2025-08-05T15:42:10.135324Z",
     "iopub.status.busy": "2025-08-05T15:42:10.134445Z",
     "iopub.status.idle": "2025-08-05T15:42:10.145436Z",
     "shell.execute_reply": "2025-08-05T15:42:10.143948Z"
    },
    "papermill": {
     "duration": 0.047969,
     "end_time": "2025-08-05T15:42:10.148152",
     "exception": false,
     "start_time": "2025-08-05T15:42:10.100183",
     "status": "completed"
    },
    "tags": []
   },
   "outputs": [],
   "source": [
    "for subgroup, cov in cond_coverage.items():\n",
    "    cp_metrics_df[f\"cov_{subgroup}\"] = cov"
   ]
  },
  {
   "cell_type": "code",
   "execution_count": 58,
   "id": "6e872e10-dbe5-49e8-b554-5030c98ff75d",
   "metadata": {
    "execution": {
     "iopub.execute_input": "2025-08-05T15:42:10.212340Z",
     "iopub.status.busy": "2025-08-05T15:42:10.211563Z",
     "iopub.status.idle": "2025-08-05T15:42:10.233875Z",
     "shell.execute_reply": "2025-08-05T15:42:10.232417Z"
    },
    "papermill": {
     "duration": 0.056381,
     "end_time": "2025-08-05T15:42:10.235759",
     "exception": false,
     "start_time": "2025-08-05T15:42:10.179378",
     "status": "completed"
    },
    "tags": []
   },
   "outputs": [
    {
     "data": {
      "text/html": [
       "<div>\n",
       "<style scoped>\n",
       "    .dataframe tbody tr th:only-of-type {\n",
       "        vertical-align: middle;\n",
       "    }\n",
       "\n",
       "    .dataframe tbody tr th {\n",
       "        vertical-align: top;\n",
       "    }\n",
       "\n",
       "    .dataframe thead th {\n",
       "        text-align: right;\n",
       "    }\n",
       "</style>\n",
       "<table border=\"1\" class=\"dataframe\">\n",
       "  <thead>\n",
       "    <tr style=\"text-align: right;\">\n",
       "      <th></th>\n",
       "      <th>universe_id</th>\n",
       "      <th>universe_training_year</th>\n",
       "      <th>universe_training_size</th>\n",
       "      <th>universe_scale</th>\n",
       "      <th>universe_model</th>\n",
       "      <th>universe_exclude_features</th>\n",
       "      <th>universe_exclude_subgroups</th>\n",
       "      <th>q_hat</th>\n",
       "      <th>coverage</th>\n",
       "      <th>avg_size</th>\n",
       "      <th>cov_frau1</th>\n",
       "      <th>cov_nongerman</th>\n",
       "      <th>cov_nongerman_male</th>\n",
       "      <th>cov_nongerman_female</th>\n",
       "    </tr>\n",
       "  </thead>\n",
       "  <tbody>\n",
       "    <tr>\n",
       "      <th>0</th>\n",
       "      <td>0a68a1b2957831213aee74fc398e20ca</td>\n",
       "      <td>2012_14</td>\n",
       "      <td>5k</td>\n",
       "      <td>do-not-scale</td>\n",
       "      <td>penalized_logreg</td>\n",
       "      <td>none</td>\n",
       "      <td>keep-all</td>\n",
       "      <td>0.682716</td>\n",
       "      <td>0.911381</td>\n",
       "      <td>1.212741</td>\n",
       "      <td>0.907939</td>\n",
       "      <td>0.932914</td>\n",
       "      <td>0.946861</td>\n",
       "      <td>0.909836</td>\n",
       "    </tr>\n",
       "  </tbody>\n",
       "</table>\n",
       "</div>"
      ],
      "text/plain": [
       "                        universe_id universe_training_year  \\\n",
       "0  0a68a1b2957831213aee74fc398e20ca                2012_14   \n",
       "\n",
       "  universe_training_size universe_scale    universe_model  \\\n",
       "0                     5k   do-not-scale  penalized_logreg   \n",
       "\n",
       "  universe_exclude_features universe_exclude_subgroups     q_hat  coverage  \\\n",
       "0                      none                   keep-all  0.682716  0.911381   \n",
       "\n",
       "   avg_size  cov_frau1  cov_nongerman  cov_nongerman_male  \\\n",
       "0  1.212741   0.907939       0.932914            0.946861   \n",
       "\n",
       "   cov_nongerman_female  \n",
       "0              0.909836  "
      ]
     },
     "execution_count": 58,
     "metadata": {},
     "output_type": "execute_result"
    }
   ],
   "source": [
    "cp_metrics_df"
   ]
  },
  {
   "cell_type": "markdown",
   "id": "33774451",
   "metadata": {
    "papermill": {
     "duration": 0.031317,
     "end_time": "2025-08-05T15:42:10.295682",
     "exception": false,
     "start_time": "2025-08-05T15:42:10.264365",
     "status": "completed"
    },
    "tags": []
   },
   "source": [
    "# (Fairness) Metrics"
   ]
  },
  {
   "cell_type": "code",
   "execution_count": 59,
   "id": "debc5d62",
   "metadata": {
    "execution": {
     "iopub.execute_input": "2025-08-05T15:42:10.361029Z",
     "iopub.status.busy": "2025-08-05T15:42:10.360266Z",
     "iopub.status.idle": "2025-08-05T15:42:10.386312Z",
     "shell.execute_reply": "2025-08-05T15:42:10.385080Z"
    },
    "papermill": {
     "duration": 0.062121,
     "end_time": "2025-08-05T15:42:10.388622",
     "exception": false,
     "start_time": "2025-08-05T15:42:10.326501",
     "status": "completed"
    },
    "tags": []
   },
   "outputs": [],
   "source": [
    "# do I need to include maxdeutsch1.missing?\n",
    "\n",
    "import numpy as np\n",
    "\n",
    "colname_to_bin = \"maxdeutsch1\"\n",
    "majority_value = org_train[colname_to_bin].mode()[0]\n",
    "\n",
    "org_test[\"majmin\"] = np.where(org_test[colname_to_bin] == majority_value, \"majority\", \"minority\")"
   ]
  },
  {
   "cell_type": "code",
   "execution_count": 60,
   "id": "06a50de5",
   "metadata": {
    "execution": {
     "iopub.execute_input": "2025-08-05T15:42:10.452574Z",
     "iopub.status.busy": "2025-08-05T15:42:10.451533Z",
     "iopub.status.idle": "2025-08-05T15:42:12.443419Z",
     "shell.execute_reply": "2025-08-05T15:42:12.442307Z"
    },
    "papermill": {
     "duration": 2.023716,
     "end_time": "2025-08-05T15:42:12.445645",
     "exception": false,
     "start_time": "2025-08-05T15:42:10.421929",
     "status": "completed"
    },
    "tags": []
   },
   "outputs": [],
   "source": [
    "example_universe = universe.copy()\n",
    "example_universe[\"cutoff\"] = example_universe[\"cutoff\"][0]\n",
    "example_universe[\"eval_fairness_grouping\"] = example_universe[\"eval_fairness_grouping\"][0]\n",
    "fairness_dict, metric_frame = universe_analysis.compute_metrics(\n",
    "    example_universe,\n",
    "    y_pred_prob=probs_test,\n",
    "    y_test=y_true,\n",
    "    org_test=org_test,\n",
    ")"
   ]
  },
  {
   "cell_type": "markdown",
   "id": "f95d4e02",
   "metadata": {
    "papermill": {
     "duration": 0.024753,
     "end_time": "2025-08-05T15:42:12.497428",
     "exception": false,
     "start_time": "2025-08-05T15:42:12.472675",
     "status": "completed"
    },
    "tags": []
   },
   "source": [
    "# Overall"
   ]
  },
  {
   "cell_type": "markdown",
   "id": "bdee4871",
   "metadata": {
    "papermill": {
     "duration": 0.026273,
     "end_time": "2025-08-05T15:42:12.550063",
     "exception": false,
     "start_time": "2025-08-05T15:42:12.523790",
     "status": "completed"
    },
    "tags": []
   },
   "source": [
    "Fairness\n",
    "Main fairness target: Equalized Odds. Seems to be a better fit than equal opportunity, since we're not only interested in Y = 1. Seems to be a better fit than demographic parity, since we also care about accuracy, not just equal distribution of preds.\n",
    "\n",
    "Pick column for computation of fairness metrics\n",
    "\n",
    "Performance\n",
    "Overall performance measures, most interesting in relation to the measures split by group below"
   ]
  },
  {
   "cell_type": "code",
   "execution_count": 61,
   "id": "c4e067c6",
   "metadata": {
    "execution": {
     "iopub.execute_input": "2025-08-05T15:42:12.599775Z",
     "iopub.status.busy": "2025-08-05T15:42:12.599217Z",
     "iopub.status.idle": "2025-08-05T15:42:12.609062Z",
     "shell.execute_reply": "2025-08-05T15:42:12.607975Z"
    },
    "papermill": {
     "duration": 0.038036,
     "end_time": "2025-08-05T15:42:12.611481",
     "exception": false,
     "start_time": "2025-08-05T15:42:12.573445",
     "status": "completed"
    },
    "tags": []
   },
   "outputs": [
    {
     "data": {
      "text/plain": [
       "accuracy                   0.218359\n",
       "balanced accuracy          0.535178\n",
       "f1                         0.239856\n",
       "precision                  0.137022\n",
       "false positive rate        0.890975\n",
       "false negative rate        0.038669\n",
       "selection rate             0.900000\n",
       "count                  89710.000000\n",
       "dtype: float64"
      ]
     },
     "execution_count": 61,
     "metadata": {},
     "output_type": "execute_result"
    }
   ],
   "source": [
    "metric_frame.overall"
   ]
  },
  {
   "cell_type": "markdown",
   "id": "e968fe9d",
   "metadata": {
    "papermill": {
     "duration": 0.025061,
     "end_time": "2025-08-05T15:42:12.660214",
     "exception": false,
     "start_time": "2025-08-05T15:42:12.635153",
     "status": "completed"
    },
    "tags": []
   },
   "source": [
    "By Group"
   ]
  },
  {
   "cell_type": "code",
   "execution_count": 62,
   "id": "ec325bce",
   "metadata": {
    "execution": {
     "iopub.execute_input": "2025-08-05T15:42:12.708601Z",
     "iopub.status.busy": "2025-08-05T15:42:12.708090Z",
     "iopub.status.idle": "2025-08-05T15:42:12.726282Z",
     "shell.execute_reply": "2025-08-05T15:42:12.725229Z"
    },
    "papermill": {
     "duration": 0.044232,
     "end_time": "2025-08-05T15:42:12.728059",
     "exception": false,
     "start_time": "2025-08-05T15:42:12.683827",
     "status": "completed"
    },
    "tags": []
   },
   "outputs": [
    {
     "data": {
      "text/html": [
       "<div>\n",
       "<style scoped>\n",
       "    .dataframe tbody tr th:only-of-type {\n",
       "        vertical-align: middle;\n",
       "    }\n",
       "\n",
       "    .dataframe tbody tr th {\n",
       "        vertical-align: top;\n",
       "    }\n",
       "\n",
       "    .dataframe thead th {\n",
       "        text-align: right;\n",
       "    }\n",
       "</style>\n",
       "<table border=\"1\" class=\"dataframe\">\n",
       "  <thead>\n",
       "    <tr style=\"text-align: right;\">\n",
       "      <th></th>\n",
       "      <th>accuracy</th>\n",
       "      <th>balanced accuracy</th>\n",
       "      <th>f1</th>\n",
       "      <th>precision</th>\n",
       "      <th>false positive rate</th>\n",
       "      <th>false negative rate</th>\n",
       "      <th>selection rate</th>\n",
       "      <th>count</th>\n",
       "    </tr>\n",
       "    <tr>\n",
       "      <th>majmin</th>\n",
       "      <th></th>\n",
       "      <th></th>\n",
       "      <th></th>\n",
       "      <th></th>\n",
       "      <th></th>\n",
       "      <th></th>\n",
       "      <th></th>\n",
       "      <th></th>\n",
       "    </tr>\n",
       "  </thead>\n",
       "  <tbody>\n",
       "    <tr>\n",
       "      <th>majority</th>\n",
       "      <td>0.240480</td>\n",
       "      <td>0.543266</td>\n",
       "      <td>0.249378</td>\n",
       "      <td>0.143418</td>\n",
       "      <td>0.868283</td>\n",
       "      <td>0.045186</td>\n",
       "      <td>0.879717</td>\n",
       "      <td>69170.0</td>\n",
       "    </tr>\n",
       "    <tr>\n",
       "      <th>minority</th>\n",
       "      <td>0.143866</td>\n",
       "      <td>0.510275</td>\n",
       "      <td>0.209911</td>\n",
       "      <td>0.117452</td>\n",
       "      <td>0.965937</td>\n",
       "      <td>0.013514</td>\n",
       "      <td>0.968306</td>\n",
       "      <td>20540.0</td>\n",
       "    </tr>\n",
       "  </tbody>\n",
       "</table>\n",
       "</div>"
      ],
      "text/plain": [
       "          accuracy  balanced accuracy        f1  precision  \\\n",
       "majmin                                                       \n",
       "majority  0.240480           0.543266  0.249378   0.143418   \n",
       "minority  0.143866           0.510275  0.209911   0.117452   \n",
       "\n",
       "          false positive rate  false negative rate  selection rate    count  \n",
       "majmin                                                                       \n",
       "majority             0.868283             0.045186        0.879717  69170.0  \n",
       "minority             0.965937             0.013514        0.968306  20540.0  "
      ]
     },
     "execution_count": 62,
     "metadata": {},
     "output_type": "execute_result"
    }
   ],
   "source": [
    "metric_frame.by_group"
   ]
  },
  {
   "cell_type": "code",
   "execution_count": 63,
   "id": "a9ddbe63",
   "metadata": {
    "execution": {
     "iopub.execute_input": "2025-08-05T15:42:12.780809Z",
     "iopub.status.busy": "2025-08-05T15:42:12.780104Z",
     "iopub.status.idle": "2025-08-05T15:42:15.646261Z",
     "shell.execute_reply": "2025-08-05T15:42:15.645077Z"
    },
    "papermill": {
     "duration": 2.893293,
     "end_time": "2025-08-05T15:42:15.648242",
     "exception": false,
     "start_time": "2025-08-05T15:42:12.754949",
     "status": "completed"
    },
    "tags": []
   },
   "outputs": [
    {
     "data": {
      "text/plain": [
       "array([[<Axes: title={'center': 'accuracy'}, xlabel='majmin'>,\n",
       "        <Axes: title={'center': 'balanced accuracy'}, xlabel='majmin'>,\n",
       "        <Axes: title={'center': 'f1'}, xlabel='majmin'>],\n",
       "       [<Axes: title={'center': 'precision'}, xlabel='majmin'>,\n",
       "        <Axes: title={'center': 'false positive rate'}, xlabel='majmin'>,\n",
       "        <Axes: title={'center': 'false negative rate'}, xlabel='majmin'>],\n",
       "       [<Axes: title={'center': 'selection rate'}, xlabel='majmin'>,\n",
       "        <Axes: title={'center': 'count'}, xlabel='majmin'>,\n",
       "        <Axes: xlabel='majmin'>]], dtype=object)"
      ]
     },
     "execution_count": 63,
     "metadata": {},
     "output_type": "execute_result"
    },
    {
     "data": {
      "image/png": "[encoded data removed]",
      "text/plain": [
       "<Figure size 1200x800 with 9 Axes>"
      ]
     },
     "metadata": {},
     "output_type": "display_data"
    }
   ],
   "source": [
    "# In a graphic\n",
    "metric_frame.by_group.plot.bar(\n",
    "    subplots=True,\n",
    "    layout=[3, 3],\n",
    "    legend=False,\n",
    "    figsize=[12, 8],\n",
    "    title=\"Show all metrics\",\n",
    ")"
   ]
  },
  {
   "cell_type": "markdown",
   "id": "f57a0bac",
   "metadata": {
    "papermill": {
     "duration": 0.031502,
     "end_time": "2025-08-05T15:42:15.715381",
     "exception": false,
     "start_time": "2025-08-05T15:42:15.683879",
     "status": "completed"
    },
    "tags": []
   },
   "source": [
    "# Final Output"
   ]
  },
  {
   "cell_type": "code",
   "execution_count": 64,
   "id": "96d280a3",
   "metadata": {
    "execution": {
     "iopub.execute_input": "2025-08-05T15:42:15.778553Z",
     "iopub.status.busy": "2025-08-05T15:42:15.777873Z",
     "iopub.status.idle": "2025-08-05T15:42:15.786821Z",
     "shell.execute_reply": "2025-08-05T15:42:15.785623Z"
    },
    "papermill": {
     "duration": 0.042917,
     "end_time": "2025-08-05T15:42:15.788774",
     "exception": false,
     "start_time": "2025-08-05T15:42:15.745857",
     "status": "completed"
    },
    "tags": []
   },
   "outputs": [
    {
     "data": {
      "text/plain": [
       "4"
      ]
     },
     "execution_count": 64,
     "metadata": {},
     "output_type": "execute_result"
    }
   ],
   "source": [
    "sub_universes = universe_analysis.generate_sub_universes()\n",
    "len(sub_universes)"
   ]
  },
  {
   "cell_type": "code",
   "execution_count": 65,
   "id": "92adf7ba",
   "metadata": {
    "execution": {
     "iopub.execute_input": "2025-08-05T15:42:15.854215Z",
     "iopub.status.busy": "2025-08-05T15:42:15.853666Z",
     "iopub.status.idle": "2025-08-05T15:42:15.860480Z",
     "shell.execute_reply": "2025-08-05T15:42:15.859380Z"
    },
    "papermill": {
     "duration": 0.042756,
     "end_time": "2025-08-05T15:42:15.862589",
     "exception": false,
     "start_time": "2025-08-05T15:42:15.819833",
     "status": "completed"
    },
    "tags": []
   },
   "outputs": [],
   "source": [
    "def filter_sub_universe_data(sub_universe, org_test):\n",
    "    # Keep all rows — no filtering\n",
    "    keep_rows_mask = np.ones(org_test.shape[0], dtype=bool)\n",
    "\n",
    "    print(f\"[INFO] Keeping all rows: {keep_rows_mask.sum()} rows retained.\")\n",
    "    return keep_rows_mask"
   ]
  },
  {
   "cell_type": "code",
   "execution_count": 66,
   "id": "4a759155",
   "metadata": {
    "execution": {
     "iopub.execute_input": "2025-08-05T15:42:15.925504Z",
     "iopub.status.busy": "2025-08-05T15:42:15.924451Z",
     "iopub.status.idle": "2025-08-05T15:42:26.249620Z",
     "shell.execute_reply": "2025-08-05T15:42:26.248789Z"
    },
    "papermill": {
     "duration": 10.358159,
     "end_time": "2025-08-05T15:42:26.251017",
     "exception": false,
     "start_time": "2025-08-05T15:42:15.892858",
     "status": "completed"
    },
    "tags": []
   },
   "outputs": [
    {
     "name": "stdout",
     "output_type": "stream",
     "text": [
      "Stopping execution_time clock.\n",
      "[INFO] Keeping all rows: 89710 rows retained.\n"
     ]
    },
    {
     "name": "stdout",
     "output_type": "stream",
     "text": [
      "[INFO] Keeping all rows: 89710 rows retained.\n"
     ]
    },
    {
     "name": "stdout",
     "output_type": "stream",
     "text": [
      "[INFO] Keeping all rows: 89710 rows retained.\n"
     ]
    },
    {
     "name": "stdout",
     "output_type": "stream",
     "text": [
      "[INFO] Keeping all rows: 89710 rows retained.\n"
     ]
    },
    {
     "data": {
      "text/html": [
       "<div>\n",
       "<style scoped>\n",
       "    .dataframe tbody tr th:only-of-type {\n",
       "        vertical-align: middle;\n",
       "    }\n",
       "\n",
       "    .dataframe tbody tr th {\n",
       "        vertical-align: top;\n",
       "    }\n",
       "\n",
       "    .dataframe thead th {\n",
       "        text-align: right;\n",
       "    }\n",
       "</style>\n",
       "<table border=\"1\" class=\"dataframe\">\n",
       "  <thead>\n",
       "    <tr style=\"text-align: right;\">\n",
       "      <th></th>\n",
       "      <th>run_no</th>\n",
       "      <th>universe_id</th>\n",
       "      <th>universe_settings</th>\n",
       "      <th>execution_time</th>\n",
       "      <th>test_size_n</th>\n",
       "      <th>test_size_frac</th>\n",
       "      <th>fair_main_equalized_odds_difference</th>\n",
       "      <th>fair_main_equalized_odds_ratio</th>\n",
       "      <th>fair_main_demographic_parity_difference</th>\n",
       "      <th>fair_main_demographic_parity_ratio</th>\n",
       "      <th>...</th>\n",
       "      <th>perf_grp_precision_0</th>\n",
       "      <th>perf_grp_precision_1</th>\n",
       "      <th>perf_grp_false positive rate_0</th>\n",
       "      <th>perf_grp_false positive rate_1</th>\n",
       "      <th>perf_grp_false negative rate_0</th>\n",
       "      <th>perf_grp_false negative rate_1</th>\n",
       "      <th>perf_grp_selection rate_0</th>\n",
       "      <th>perf_grp_selection rate_1</th>\n",
       "      <th>perf_grp_count_0</th>\n",
       "      <th>perf_grp_count_1</th>\n",
       "    </tr>\n",
       "  </thead>\n",
       "  <tbody>\n",
       "    <tr>\n",
       "      <th>0</th>\n",
       "      <td>15</td>\n",
       "      <td>0a68a1b2957831213aee74fc398e20ca</td>\n",
       "      <td>{\"cutoff\": \"quantile_0.1\", \"eval_fairness_grou...</td>\n",
       "      <td>25.16509</td>\n",
       "      <td>89710</td>\n",
       "      <td>1.0</td>\n",
       "      <td>0.097654</td>\n",
       "      <td>0.898902</td>\n",
       "      <td>0.088589</td>\n",
       "      <td>0.908511</td>\n",
       "      <td>...</td>\n",
       "      <td>NaN</td>\n",
       "      <td>NaN</td>\n",
       "      <td>NaN</td>\n",
       "      <td>NaN</td>\n",
       "      <td>NaN</td>\n",
       "      <td>NaN</td>\n",
       "      <td>NaN</td>\n",
       "      <td>NaN</td>\n",
       "      <td>NaN</td>\n",
       "      <td>NaN</td>\n",
       "    </tr>\n",
       "    <tr>\n",
       "      <th>0</th>\n",
       "      <td>15</td>\n",
       "      <td>0a68a1b2957831213aee74fc398e20ca</td>\n",
       "      <td>{\"cutoff\": \"quantile_0.1\", \"eval_fairness_grou...</td>\n",
       "      <td>25.16509</td>\n",
       "      <td>89710</td>\n",
       "      <td>1.0</td>\n",
       "      <td>0.097654</td>\n",
       "      <td>0.898902</td>\n",
       "      <td>0.088589</td>\n",
       "      <td>0.908511</td>\n",
       "      <td>...</td>\n",
       "      <td>0.117452</td>\n",
       "      <td>0.143418</td>\n",
       "      <td>0.965937</td>\n",
       "      <td>0.868283</td>\n",
       "      <td>0.013514</td>\n",
       "      <td>0.045186</td>\n",
       "      <td>0.968306</td>\n",
       "      <td>0.879717</td>\n",
       "      <td>20540.0</td>\n",
       "      <td>69170.0</td>\n",
       "    </tr>\n",
       "    <tr>\n",
       "      <th>0</th>\n",
       "      <td>15</td>\n",
       "      <td>0a68a1b2957831213aee74fc398e20ca</td>\n",
       "      <td>{\"cutoff\": \"quantile_0.25\", \"eval_fairness_gro...</td>\n",
       "      <td>25.16509</td>\n",
       "      <td>89710</td>\n",
       "      <td>1.0</td>\n",
       "      <td>0.219773</td>\n",
       "      <td>0.755826</td>\n",
       "      <td>0.201937</td>\n",
       "      <td>0.777036</td>\n",
       "      <td>...</td>\n",
       "      <td>NaN</td>\n",
       "      <td>NaN</td>\n",
       "      <td>NaN</td>\n",
       "      <td>NaN</td>\n",
       "      <td>NaN</td>\n",
       "      <td>NaN</td>\n",
       "      <td>NaN</td>\n",
       "      <td>NaN</td>\n",
       "      <td>NaN</td>\n",
       "      <td>NaN</td>\n",
       "    </tr>\n",
       "    <tr>\n",
       "      <th>0</th>\n",
       "      <td>15</td>\n",
       "      <td>0a68a1b2957831213aee74fc398e20ca</td>\n",
       "      <td>{\"cutoff\": \"quantile_0.25\", \"eval_fairness_gro...</td>\n",
       "      <td>25.16509</td>\n",
       "      <td>89710</td>\n",
       "      <td>1.0</td>\n",
       "      <td>0.219773</td>\n",
       "      <td>0.755826</td>\n",
       "      <td>0.201937</td>\n",
       "      <td>0.777036</td>\n",
       "      <td>...</td>\n",
       "      <td>0.120787</td>\n",
       "      <td>0.161076</td>\n",
       "      <td>0.900066</td>\n",
       "      <td>0.680293</td>\n",
       "      <td>0.051098</td>\n",
       "      <td>0.142123</td>\n",
       "      <td>0.905696</td>\n",
       "      <td>0.703759</td>\n",
       "      <td>20540.0</td>\n",
       "      <td>69170.0</td>\n",
       "    </tr>\n",
       "  </tbody>\n",
       "</table>\n",
       "<p>4 rows × 50 columns</p>\n",
       "</div>"
      ],
      "text/plain": [
       "  run_no                       universe_id  \\\n",
       "0     15  0a68a1b2957831213aee74fc398e20ca   \n",
       "0     15  0a68a1b2957831213aee74fc398e20ca   \n",
       "0     15  0a68a1b2957831213aee74fc398e20ca   \n",
       "0     15  0a68a1b2957831213aee74fc398e20ca   \n",
       "\n",
       "                                   universe_settings  execution_time  \\\n",
       "0  {\"cutoff\": \"quantile_0.1\", \"eval_fairness_grou...        25.16509   \n",
       "0  {\"cutoff\": \"quantile_0.1\", \"eval_fairness_grou...        25.16509   \n",
       "0  {\"cutoff\": \"quantile_0.25\", \"eval_fairness_gro...        25.16509   \n",
       "0  {\"cutoff\": \"quantile_0.25\", \"eval_fairness_gro...        25.16509   \n",
       "\n",
       "   test_size_n  test_size_frac  fair_main_equalized_odds_difference  \\\n",
       "0        89710             1.0                             0.097654   \n",
       "0        89710             1.0                             0.097654   \n",
       "0        89710             1.0                             0.219773   \n",
       "0        89710             1.0                             0.219773   \n",
       "\n",
       "   fair_main_equalized_odds_ratio  fair_main_demographic_parity_difference  \\\n",
       "0                        0.898902                                 0.088589   \n",
       "0                        0.898902                                 0.088589   \n",
       "0                        0.755826                                 0.201937   \n",
       "0                        0.755826                                 0.201937   \n",
       "\n",
       "   fair_main_demographic_parity_ratio  ...  perf_grp_precision_0  \\\n",
       "0                            0.908511  ...                   NaN   \n",
       "0                            0.908511  ...              0.117452   \n",
       "0                            0.777036  ...                   NaN   \n",
       "0                            0.777036  ...              0.120787   \n",
       "\n",
       "   perf_grp_precision_1  perf_grp_false positive rate_0  \\\n",
       "0                   NaN                             NaN   \n",
       "0              0.143418                        0.965937   \n",
       "0                   NaN                             NaN   \n",
       "0              0.161076                        0.900066   \n",
       "\n",
       "   perf_grp_false positive rate_1  perf_grp_false negative rate_0  \\\n",
       "0                             NaN                             NaN   \n",
       "0                        0.868283                        0.013514   \n",
       "0                             NaN                             NaN   \n",
       "0                        0.680293                        0.051098   \n",
       "\n",
       "   perf_grp_false negative rate_1  perf_grp_selection rate_0  \\\n",
       "0                             NaN                        NaN   \n",
       "0                        0.045186                   0.968306   \n",
       "0                             NaN                        NaN   \n",
       "0                        0.142123                   0.905696   \n",
       "\n",
       "   perf_grp_selection rate_1  perf_grp_count_0  perf_grp_count_1  \n",
       "0                        NaN               NaN               NaN  \n",
       "0                   0.879717           20540.0           69170.0  \n",
       "0                        NaN               NaN               NaN  \n",
       "0                   0.703759           20540.0           69170.0  \n",
       "\n",
       "[4 rows x 50 columns]"
      ]
     },
     "execution_count": 66,
     "metadata": {},
     "output_type": "execute_result"
    }
   ],
   "source": [
    "final_output = universe_analysis.generate_final_output(\n",
    "    y_pred_prob=probs_test,\n",
    "    y_test=y_true,\n",
    "    org_test=org_test,\n",
    "    filter_data=filter_sub_universe_data,\n",
    "    cp_metrics_df=cp_metrics_df,\n",
    "    save=True,\n",
    ")\n",
    "final_output"
   ]
  }
 ],
 "metadata": {
  "celltoolbar": "Tags",
  "kernelspec": {
   "display_name": "Python (CMA Fairness)",
   "language": "python",
   "name": "cma_fair_env"
  },
  "language_info": {
   "codemirror_mode": {
    "name": "ipython",
    "version": 3
   },
   "file_extension": ".py",
   "mimetype": "text/x-python",
   "name": "python",
   "nbconvert_exporter": "python",
   "pygments_lexer": "ipython3",
   "version": "3.10.12"
  },
  "papermill": {
   "default_parameters": {},
   "duration": 39.660022,
   "end_time": "2025-08-05T15:42:27.089634",
   "environment_variables": {},
   "exception": null,
   "input_path": "universe_analysis.ipynb",
   "output_path": "output/runs/15/notebooks/m_15-0a68a1b2957831213aee74fc398e20ca.ipynb",
   "parameters": {
    "output_dir": "output",
    "run_no": "15",
    "seed": "2023",
    "universe": "{\"cutoff\": [\"quantile_0.1\", \"quantile_0.25\"], \"eval_fairness_grouping\": [\"majority-minority\", \"nationality-all\"], \"exclude_features\": \"none\", \"exclude_subgroups\": \"keep-all\", \"model\": \"penalized_logreg\", \"scale\": \"do-not-scale\", \"training_size\": \"5k\", \"training_year\": \"2012_14\"}",
    "universe_id": "0a68a1b2957831213aee74fc398e20ca"
   },
   "start_time": "2025-08-05T15:41:47.429612",
   "version": "2.6.0"
  }
 },
 "nbformat": 4,
 "nbformat_minor": 5
}