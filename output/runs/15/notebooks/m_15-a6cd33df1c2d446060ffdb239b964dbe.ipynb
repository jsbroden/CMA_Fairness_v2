{
 "cells": [
  {
   "cell_type": "code",
   "execution_count": 1,
   "id": "f159f837-637b-42ba-96b5-ec9a68c44524",
   "metadata": {
    "execution": {
     "iopub.execute_input": "2025-08-05T15:25:43.906094Z",
     "iopub.status.busy": "2025-08-05T15:25:43.905054Z",
     "iopub.status.idle": "2025-08-05T15:25:43.921144Z",
     "shell.execute_reply": "2025-08-05T15:25:43.920164Z"
    },
    "papermill": {
     "duration": 0.042701,
     "end_time": "2025-08-05T15:25:43.923601",
     "exception": false,
     "start_time": "2025-08-05T15:25:43.880900",
     "status": "completed"
    },
    "tags": []
   },
   "outputs": [
    {
     "name": "stdout",
     "output_type": "stream",
     "text": [
      "/dss/dsshome1/0C/ra93lal2/cma/CMA_Fairness_v2\n"
     ]
    },
    {
     "name": "stderr",
     "output_type": "stream",
     "text": [
      "/dss/dsshome1/0C/ra93lal2/.local/share/virtualenvs/CMA_Fairness_v2-3j10GkSs/lib/python3.10/site-packages/IPython/core/magics/osm.py:393: UserWarning: This is now an optional IPython functionality, using bookmarks requires you to install the `pickleshare` library.\n",
      "  bkms = self.shell.db.get('bookmarks', {})\n",
      "/dss/dsshome1/0C/ra93lal2/.local/share/virtualenvs/CMA_Fairness_v2-3j10GkSs/lib/python3.10/site-packages/IPython/core/magics/osm.py:417: UserWarning: This is now an optional IPython functionality, setting dhist requires you to install the `pickleshare` library.\n",
      "  self.shell.db['dhist'] = compress_dhist(dhist)[-100:]\n"
     ]
    }
   ],
   "source": [
    "%cd ~/cma/CMA_Fairness_v2"
   ]
  },
  {
   "cell_type": "markdown",
   "id": "de2603b9",
   "metadata": {
    "papermill": {
     "duration": 0.014969,
     "end_time": "2025-08-05T15:25:43.955274",
     "exception": false,
     "start_time": "2025-08-05T15:25:43.940305",
     "status": "completed"
    },
    "tags": []
   },
   "source": [
    "The following cell holds the definition of our parameters, these values can be overriden by rendering the with e.g. the following command:\n",
    "\n",
    "papermill -p alpha 0.2 -p ratio 0.3 universe_analysis.ipynb output/test_run.ipynb"
   ]
  },
  {
   "cell_type": "code",
   "execution_count": 2,
   "id": "a80968a0-40bb-4fa9-85ef-2d5eefb01975",
   "metadata": {
    "execution": {
     "iopub.execute_input": "2025-08-05T15:25:43.990927Z",
     "iopub.status.busy": "2025-08-05T15:25:43.989871Z",
     "iopub.status.idle": "2025-08-05T15:25:43.997103Z",
     "shell.execute_reply": "2025-08-05T15:25:43.995886Z"
    },
    "papermill": {
     "duration": 0.028186,
     "end_time": "2025-08-05T15:25:43.998860",
     "exception": false,
     "start_time": "2025-08-05T15:25:43.970674",
     "status": "completed"
    },
    "tags": []
   },
   "outputs": [
    {
     "name": "stdout",
     "output_type": "stream",
     "text": [
      "Current working directory: /dss/dsshome1/0C/ra93lal2/cma/CMA_Fairness_v2\n"
     ]
    }
   ],
   "source": [
    "import os\n",
    "print(\"Current working directory:\", os.getcwd())"
   ]
  },
  {
   "cell_type": "code",
   "execution_count": 3,
   "id": "2dce4c03",
   "metadata": {
    "execution": {
     "iopub.execute_input": "2025-08-05T15:25:44.033822Z",
     "iopub.status.busy": "2025-08-05T15:25:44.032892Z",
     "iopub.status.idle": "2025-08-05T15:25:44.039780Z",
     "shell.execute_reply": "2025-08-05T15:25:44.038600Z"
    },
    "papermill": {
     "duration": 0.027211,
     "end_time": "2025-08-05T15:25:44.042142",
     "exception": false,
     "start_time": "2025-08-05T15:25:44.014931",
     "status": "completed"
    },
    "tags": [
     "parameters"
    ]
   },
   "outputs": [],
   "source": [
    "run_no = 0\n",
    "universe_id = \"test\"\n",
    "universe = {\n",
    "    \"training_size\": \"25k\", # \"25k\", \"5k\", \"1k\"\n",
    "    \"training_year\": \"2014\", # \"2014\", \"2012_14\", \"2010_14\"\n",
    "    \"scale\": \"scale\", # \"scale\", \"do-not-scale\",\n",
    "    \"model\": \"elasticnet\", # \"logreg\", \"penalized_logreg\", \"rf\", \"gbm\", \"elasticnet\"\n",
    "    \"cutoff\": [\"quantile_0.15\", \"quantile_0.30\"],\n",
    "    \"exclude_features\": \"age\", # \"none\", \"nationality\", \"sex\", \"nationality-sex\", \"age\"\n",
    "    \"exclude_subgroups\": \"keep-all\", # \"keep-all\", \"drop-non-german\"\n",
    "    \"eval_fairness_grouping\": [\"majority-minority\", \"nationality-all\"]\n",
    "}\n",
    "\n",
    "output_dir=\"./output\"\n",
    "seed=0"
   ]
  },
  {
   "cell_type": "code",
   "execution_count": 4,
   "id": "6fb80880",
   "metadata": {
    "execution": {
     "iopub.execute_input": "2025-08-05T15:25:44.092888Z",
     "iopub.status.busy": "2025-08-05T15:25:44.092518Z",
     "iopub.status.idle": "2025-08-05T15:25:44.098205Z",
     "shell.execute_reply": "2025-08-05T15:25:44.096765Z"
    },
    "papermill": {
     "duration": 0.035489,
     "end_time": "2025-08-05T15:25:44.100761",
     "exception": false,
     "start_time": "2025-08-05T15:25:44.065272",
     "status": "completed"
    },
    "tags": [
     "injected-parameters"
    ]
   },
   "outputs": [],
   "source": [
    "# Parameters\n",
    "universe_id = \"a6cd33df1c2d446060ffdb239b964dbe\"\n",
    "run_no = \"15\"\n",
    "universe = \"{\\\"cutoff\\\": [\\\"quantile_0.1\\\", \\\"quantile_0.25\\\"], \\\"eval_fairness_grouping\\\": [\\\"majority-minority\\\", \\\"nationality-all\\\"], \\\"exclude_features\\\": \\\"none\\\", \\\"exclude_subgroups\\\": \\\"keep-all\\\", \\\"model\\\": \\\"elasticnet\\\", \\\"scale\\\": \\\"scale\\\", \\\"training_size\\\": \\\"5k\\\", \\\"training_year\\\": \\\"2014\\\"}\"\n",
    "output_dir = \"output\"\n",
    "seed = \"2023\"\n"
   ]
  },
  {
   "cell_type": "code",
   "execution_count": 5,
   "id": "1650acaf",
   "metadata": {
    "execution": {
     "iopub.execute_input": "2025-08-05T15:25:44.155099Z",
     "iopub.status.busy": "2025-08-05T15:25:44.154723Z",
     "iopub.status.idle": "2025-08-05T15:25:44.159927Z",
     "shell.execute_reply": "2025-08-05T15:25:44.158679Z"
    },
    "papermill": {
     "duration": 0.034211,
     "end_time": "2025-08-05T15:25:44.162634",
     "exception": false,
     "start_time": "2025-08-05T15:25:44.128423",
     "status": "completed"
    },
    "tags": []
   },
   "outputs": [],
   "source": [
    "import json\n",
    "if isinstance(universe, str):\n",
    "    universe = json.loads(universe)"
   ]
  },
  {
   "cell_type": "code",
   "execution_count": 6,
   "id": "16620c48",
   "metadata": {
    "execution": {
     "iopub.execute_input": "2025-08-05T15:25:44.218748Z",
     "iopub.status.busy": "2025-08-05T15:25:44.218370Z",
     "iopub.status.idle": "2025-08-05T15:25:44.263462Z",
     "shell.execute_reply": "2025-08-05T15:25:44.262270Z"
    },
    "papermill": {
     "duration": 0.07604,
     "end_time": "2025-08-05T15:25:44.266299",
     "exception": false,
     "start_time": "2025-08-05T15:25:44.190259",
     "status": "completed"
    },
    "tags": []
   },
   "outputs": [],
   "source": [
    "# Auto-reload the custom package\n",
    "%load_ext autoreload\n",
    "%autoreload 1\n",
    "%aimport fairness_multiverse"
   ]
  },
  {
   "cell_type": "code",
   "execution_count": 7,
   "id": "01c5c9f3",
   "metadata": {
    "execution": {
     "iopub.execute_input": "2025-08-05T15:25:44.322340Z",
     "iopub.status.busy": "2025-08-05T15:25:44.321974Z",
     "iopub.status.idle": "2025-08-05T15:25:46.155563Z",
     "shell.execute_reply": "2025-08-05T15:25:46.154626Z"
    },
    "papermill": {
     "duration": 1.863841,
     "end_time": "2025-08-05T15:25:46.157317",
     "exception": false,
     "start_time": "2025-08-05T15:25:44.293476",
     "status": "completed"
    },
    "tags": []
   },
   "outputs": [],
   "source": [
    "from fairness_multiverse.universe import UniverseAnalysis\n",
    "\n",
    "universe_analysis = UniverseAnalysis(\n",
    "    run_no = run_no,\n",
    "    universe_id = universe_id,\n",
    "    universe = universe,\n",
    "    output_dir=output_dir,\n",
    ")"
   ]
  },
  {
   "cell_type": "code",
   "execution_count": 8,
   "id": "106241f5",
   "metadata": {
    "execution": {
     "iopub.execute_input": "2025-08-05T15:25:46.194784Z",
     "iopub.status.busy": "2025-08-05T15:25:46.193976Z",
     "iopub.status.idle": "2025-08-05T15:25:46.199950Z",
     "shell.execute_reply": "2025-08-05T15:25:46.199110Z"
    },
    "papermill": {
     "duration": 0.028542,
     "end_time": "2025-08-05T15:25:46.201910",
     "exception": false,
     "start_time": "2025-08-05T15:25:46.173368",
     "status": "completed"
    },
    "tags": []
   },
   "outputs": [
    {
     "name": "stdout",
     "output_type": "stream",
     "text": [
      "Using Seed: 2023\n"
     ]
    }
   ],
   "source": [
    "import numpy as np\n",
    "parsed_seed = int(seed)\n",
    "np.random.seed(parsed_seed)\n",
    "print(f\"Using Seed: {parsed_seed}\")"
   ]
  },
  {
   "cell_type": "markdown",
   "id": "e0ebdc57",
   "metadata": {
    "papermill": {
     "duration": 0.008924,
     "end_time": "2025-08-05T15:25:46.230080",
     "exception": false,
     "start_time": "2025-08-05T15:25:46.221156",
     "status": "completed"
    },
    "tags": []
   },
   "source": [
    "# Loading Data"
   ]
  },
  {
   "cell_type": "code",
   "execution_count": 9,
   "id": "f0496b8a",
   "metadata": {
    "execution": {
     "iopub.execute_input": "2025-08-05T15:25:46.249602Z",
     "iopub.status.busy": "2025-08-05T15:25:46.249136Z",
     "iopub.status.idle": "2025-08-05T15:25:57.029253Z",
     "shell.execute_reply": "2025-08-05T15:25:57.028071Z"
    },
    "papermill": {
     "duration": 10.792041,
     "end_time": "2025-08-05T15:25:57.030989",
     "exception": false,
     "start_time": "2025-08-05T15:25:46.238948",
     "status": "completed"
    },
    "tags": []
   },
   "outputs": [
    {
     "name": "stdout",
     "output_type": "stream",
     "text": [
      "Loading SIAB data from cache: data/siab_cached.csv.gz\n"
     ]
    },
    {
     "name": "stdout",
     "output_type": "stream",
     "text": [
      "(643690, 164)\n"
     ]
    }
   ],
   "source": [
    "from pathlib import Path\n",
    "import pandas as pd\n",
    "\n",
    "# File paths\n",
    "raw_file = Path(\"data/raw/siab.csv\")\n",
    "cache_file = Path(\"data/siab_cached.csv.gz\")\n",
    "\n",
    "# Ensure cache directory exists\n",
    "cache_file.parent.mkdir(parents=True, exist_ok=True)\n",
    "\n",
    "# Load with simple caching\n",
    "if cache_file.exists():\n",
    "    print(f\"Loading SIAB data from cache: {cache_file}\")\n",
    "    siab = pd.read_csv(cache_file, compression='gzip')\n",
    "else:\n",
    "    print(f\"Cache not found. Reading raw SIAB data: {raw_file}\")\n",
    "    siab = pd.read_csv(raw_file)\n",
    "    siab.to_csv(cache_file, index=False, compression='gzip')\n",
    "    print(f\"Cached SIAB data to: {cache_file}\")\n",
    "\n",
    "print(siab.shape)"
   ]
  },
  {
   "cell_type": "code",
   "execution_count": 10,
   "id": "db0ca512-5f53-4dba-abdb-a2888bca41ba",
   "metadata": {
    "execution": {
     "iopub.execute_input": "2025-08-05T15:25:57.069551Z",
     "iopub.status.busy": "2025-08-05T15:25:57.069028Z",
     "iopub.status.idle": "2025-08-05T15:25:57.074986Z",
     "shell.execute_reply": "2025-08-05T15:25:57.073882Z"
    },
    "papermill": {
     "duration": 0.025991,
     "end_time": "2025-08-05T15:25:57.076868",
     "exception": false,
     "start_time": "2025-08-05T15:25:57.050877",
     "status": "completed"
    },
    "tags": []
   },
   "outputs": [],
   "source": [
    "#siab"
   ]
  },
  {
   "cell_type": "markdown",
   "id": "997051c5-15bd-4b69-9786-c3001a3ce484",
   "metadata": {
    "papermill": {
     "duration": 0.016954,
     "end_time": "2025-08-05T15:25:57.111505",
     "exception": false,
     "start_time": "2025-08-05T15:25:57.094551",
     "status": "completed"
    },
    "tags": []
   },
   "source": [
    "# Splitting Data and Setting Training Data Size"
   ]
  },
  {
   "cell_type": "code",
   "execution_count": 11,
   "id": "aea9c6ef-6f46-42c8-85eb-5a62025c1508",
   "metadata": {
    "execution": {
     "iopub.execute_input": "2025-08-05T15:25:57.146866Z",
     "iopub.status.busy": "2025-08-05T15:25:57.146017Z",
     "iopub.status.idle": "2025-08-05T15:25:57.335248Z",
     "shell.execute_reply": "2025-08-05T15:25:57.334215Z"
    },
    "papermill": {
     "duration": 0.209263,
     "end_time": "2025-08-05T15:25:57.337381",
     "exception": false,
     "start_time": "2025-08-05T15:25:57.128118",
     "status": "completed"
    },
    "tags": []
   },
   "outputs": [],
   "source": [
    "from fairness_multiverse.universe import sample_by_year_size\n",
    "\n",
    "siab_train = sample_by_year_size(siab,\n",
    "                               training_year=universe[\"training_year\"],\n",
    "                               training_size=universe[\"training_size\"])"
   ]
  },
  {
   "cell_type": "code",
   "execution_count": 12,
   "id": "8d3afb32-789d-442c-8d5d-9f5aa8dd2eed",
   "metadata": {
    "execution": {
     "iopub.execute_input": "2025-08-05T15:25:57.378803Z",
     "iopub.status.busy": "2025-08-05T15:25:57.378319Z",
     "iopub.status.idle": "2025-08-05T15:25:57.384022Z",
     "shell.execute_reply": "2025-08-05T15:25:57.382728Z"
    },
    "papermill": {
     "duration": 0.029168,
     "end_time": "2025-08-05T15:25:57.386079",
     "exception": false,
     "start_time": "2025-08-05T15:25:57.356911",
     "status": "completed"
    },
    "tags": []
   },
   "outputs": [],
   "source": [
    "#siab_train.shape"
   ]
  },
  {
   "cell_type": "code",
   "execution_count": 13,
   "id": "d582db68-1a4c-47fb-84fc-08518dc1975a",
   "metadata": {
    "execution": {
     "iopub.execute_input": "2025-08-05T15:25:57.427083Z",
     "iopub.status.busy": "2025-08-05T15:25:57.426209Z",
     "iopub.status.idle": "2025-08-05T15:25:57.431313Z",
     "shell.execute_reply": "2025-08-05T15:25:57.430275Z"
    },
    "papermill": {
     "duration": 0.026502,
     "end_time": "2025-08-05T15:25:57.433225",
     "exception": false,
     "start_time": "2025-08-05T15:25:57.406723",
     "status": "completed"
    },
    "tags": []
   },
   "outputs": [],
   "source": [
    "#display(siab_train.groupby(\"year\").size())"
   ]
  },
  {
   "cell_type": "code",
   "execution_count": 14,
   "id": "a561edb4-d032-42cb-8256-22eac1111c64",
   "metadata": {
    "execution": {
     "iopub.execute_input": "2025-08-05T15:25:57.476061Z",
     "iopub.status.busy": "2025-08-05T15:25:57.475472Z",
     "iopub.status.idle": "2025-08-05T15:25:57.695476Z",
     "shell.execute_reply": "2025-08-05T15:25:57.694514Z"
    },
    "papermill": {
     "duration": 0.243582,
     "end_time": "2025-08-05T15:25:57.697319",
     "exception": false,
     "start_time": "2025-08-05T15:25:57.453737",
     "status": "completed"
    },
    "tags": []
   },
   "outputs": [],
   "source": [
    "#siab_train = siab_s[siab_s.year < 2015]\n",
    "siab_calib = siab[siab.year == 2015]\n",
    "siab_test = siab[siab.year == 2016]"
   ]
  },
  {
   "cell_type": "code",
   "execution_count": 15,
   "id": "472de16f-c3db-4916-846b-1f0de9cf1746",
   "metadata": {
    "execution": {
     "iopub.execute_input": "2025-08-05T15:25:57.733978Z",
     "iopub.status.busy": "2025-08-05T15:25:57.733594Z",
     "iopub.status.idle": "2025-08-05T15:25:57.741532Z",
     "shell.execute_reply": "2025-08-05T15:25:57.740543Z"
    },
    "papermill": {
     "duration": 0.029993,
     "end_time": "2025-08-05T15:25:57.745099",
     "exception": false,
     "start_time": "2025-08-05T15:25:57.715106",
     "status": "completed"
    },
    "tags": []
   },
   "outputs": [],
   "source": [
    "X_train = siab_train.iloc[:,4:164]\n",
    "y_train = siab_train.iloc[:, [3]]"
   ]
  },
  {
   "cell_type": "code",
   "execution_count": 16,
   "id": "828c96af-f43a-4ed6-ba47-8ac73a47d56c",
   "metadata": {
    "execution": {
     "iopub.execute_input": "2025-08-05T15:25:57.783069Z",
     "iopub.status.busy": "2025-08-05T15:25:57.782468Z",
     "iopub.status.idle": "2025-08-05T15:25:57.837607Z",
     "shell.execute_reply": "2025-08-05T15:25:57.836382Z"
    },
    "papermill": {
     "duration": 0.0762,
     "end_time": "2025-08-05T15:25:57.839841",
     "exception": false,
     "start_time": "2025-08-05T15:25:57.763641",
     "status": "completed"
    },
    "tags": []
   },
   "outputs": [],
   "source": [
    "X_calib = siab_calib.iloc[:,4:164]\n",
    "y_calib = siab_calib.iloc[:, [3]]"
   ]
  },
  {
   "cell_type": "code",
   "execution_count": 17,
   "id": "c34be9c3-6bd6-476e-acd3-845840e303be",
   "metadata": {
    "execution": {
     "iopub.execute_input": "2025-08-05T15:25:57.877163Z",
     "iopub.status.busy": "2025-08-05T15:25:57.876677Z",
     "iopub.status.idle": "2025-08-05T15:25:57.932943Z",
     "shell.execute_reply": "2025-08-05T15:25:57.931703Z"
    },
    "papermill": {
     "duration": 0.077024,
     "end_time": "2025-08-05T15:25:57.934954",
     "exception": false,
     "start_time": "2025-08-05T15:25:57.857930",
     "status": "completed"
    },
    "tags": []
   },
   "outputs": [],
   "source": [
    "X_test = siab_test.iloc[:,4:164]\n",
    "y_true = siab_test.iloc[:, [3]]"
   ]
  },
  {
   "cell_type": "code",
   "execution_count": 18,
   "id": "e6c733c5",
   "metadata": {
    "execution": {
     "iopub.execute_input": "2025-08-05T15:25:57.973087Z",
     "iopub.status.busy": "2025-08-05T15:25:57.972399Z",
     "iopub.status.idle": "2025-08-05T15:25:58.069652Z",
     "shell.execute_reply": "2025-08-05T15:25:58.068573Z"
    },
    "papermill": {
     "duration": 0.11795,
     "end_time": "2025-08-05T15:25:58.071692",
     "exception": false,
     "start_time": "2025-08-05T15:25:57.953742",
     "status": "completed"
    },
    "tags": []
   },
   "outputs": [],
   "source": [
    "# Auxiliary data needed downstream in the pipeline\n",
    "\n",
    "org_train = X_train.copy()\n",
    "org_test = X_test.copy()\n",
    "org_calib = X_calib.copy()"
   ]
  },
  {
   "cell_type": "markdown",
   "id": "0a4a1b33",
   "metadata": {
    "papermill": {
     "duration": 0.017478,
     "end_time": "2025-08-05T15:25:58.107526",
     "exception": false,
     "start_time": "2025-08-05T15:25:58.090048",
     "status": "completed"
    },
    "tags": []
   },
   "source": [
    "# Preprocessing Data"
   ]
  },
  {
   "cell_type": "code",
   "execution_count": 19,
   "id": "ca879031",
   "metadata": {
    "execution": {
     "iopub.execute_input": "2025-08-05T15:25:58.143715Z",
     "iopub.status.busy": "2025-08-05T15:25:58.143227Z",
     "iopub.status.idle": "2025-08-05T15:25:58.149389Z",
     "shell.execute_reply": "2025-08-05T15:25:58.148322Z"
    },
    "papermill": {
     "duration": 0.026864,
     "end_time": "2025-08-05T15:25:58.151331",
     "exception": false,
     "start_time": "2025-08-05T15:25:58.124467",
     "status": "completed"
    },
    "tags": []
   },
   "outputs": [],
   "source": [
    "# EXCLUDE PROTECTED FEATURES\n",
    "# ----------------------\n",
    "# \"exclude_features\": \"none\", # \"nationality\", \"sex\", \"nationality-sex\"\n",
    "\n",
    "excluded_features = universe[\"exclude_features\"].split(\"-\") # split, e.g.: \"nationality-sex\" -> [\"nationality\", \"sex\"]\n",
    "excluded_features_dictionary = {\n",
    "    \"nationality\": [\"maxdeutsch1\", \"maxdeutsch.Missing.\"],\n",
    "    \"sex\": [\"frau1\"],\n",
    "    \"age\": [\"age\"],\n",
    "}"
   ]
  },
  {
   "cell_type": "code",
   "execution_count": 20,
   "id": "b745ac60",
   "metadata": {
    "execution": {
     "iopub.execute_input": "2025-08-05T15:25:58.189993Z",
     "iopub.status.busy": "2025-08-05T15:25:58.188932Z",
     "iopub.status.idle": "2025-08-05T15:25:58.195288Z",
     "shell.execute_reply": "2025-08-05T15:25:58.194328Z"
    },
    "papermill": {
     "duration": 0.026463,
     "end_time": "2025-08-05T15:25:58.196972",
     "exception": false,
     "start_time": "2025-08-05T15:25:58.170509",
     "status": "completed"
    },
    "tags": []
   },
   "outputs": [],
   "source": [
    "# Code nice names to column names\n",
    "\n",
    "excluded_features_columns = [\n",
    "    excluded_features_dictionary[f] for f in excluded_features if len(f) > 0 and f != \"none\"\n",
    "]"
   ]
  },
  {
   "cell_type": "code",
   "execution_count": 21,
   "id": "f84f73a2",
   "metadata": {
    "execution": {
     "iopub.execute_input": "2025-08-05T15:25:58.238914Z",
     "iopub.status.busy": "2025-08-05T15:25:58.237911Z",
     "iopub.status.idle": "2025-08-05T15:25:58.245679Z",
     "shell.execute_reply": "2025-08-05T15:25:58.244395Z"
    },
    "papermill": {
     "duration": 0.03028,
     "end_time": "2025-08-05T15:25:58.247649",
     "exception": false,
     "start_time": "2025-08-05T15:25:58.217369",
     "status": "completed"
    },
    "tags": []
   },
   "outputs": [],
   "source": [
    "from utils import flatten_once\n",
    "\n",
    "excluded_features_columns = flatten_once(excluded_features_columns)"
   ]
  },
  {
   "cell_type": "code",
   "execution_count": 22,
   "id": "884dea22",
   "metadata": {
    "execution": {
     "iopub.execute_input": "2025-08-05T15:25:58.287200Z",
     "iopub.status.busy": "2025-08-05T15:25:58.286248Z",
     "iopub.status.idle": "2025-08-05T15:25:58.292898Z",
     "shell.execute_reply": "2025-08-05T15:25:58.291666Z"
    },
    "papermill": {
     "duration": 0.029236,
     "end_time": "2025-08-05T15:25:58.295410",
     "exception": false,
     "start_time": "2025-08-05T15:25:58.266174",
     "status": "completed"
    },
    "tags": []
   },
   "outputs": [],
   "source": [
    "if len(excluded_features_columns) > 0:\n",
    "    print(f\"Dropping features: {excluded_features_columns}\")\n",
    "    X_train.drop(excluded_features_columns, axis=1, inplace=True)"
   ]
  },
  {
   "cell_type": "code",
   "execution_count": 23,
   "id": "95ab8b16",
   "metadata": {
    "execution": {
     "iopub.execute_input": "2025-08-05T15:25:58.347467Z",
     "iopub.status.busy": "2025-08-05T15:25:58.346756Z",
     "iopub.status.idle": "2025-08-05T15:25:58.352669Z",
     "shell.execute_reply": "2025-08-05T15:25:58.351630Z"
    },
    "papermill": {
     "duration": 0.032638,
     "end_time": "2025-08-05T15:25:58.354700",
     "exception": false,
     "start_time": "2025-08-05T15:25:58.322062",
     "status": "completed"
    },
    "tags": []
   },
   "outputs": [],
   "source": [
    "if len(excluded_features_columns) > 0:\n",
    "    print(f\"Dropping features: {excluded_features_columns}\")\n",
    "    X_test.drop(excluded_features_columns, axis=1, inplace=True)"
   ]
  },
  {
   "cell_type": "code",
   "execution_count": 24,
   "id": "1853aaf5-fb9f-46cb-a2b5-8ea4ae2237e4",
   "metadata": {
    "execution": {
     "iopub.execute_input": "2025-08-05T15:25:58.391043Z",
     "iopub.status.busy": "2025-08-05T15:25:58.390563Z",
     "iopub.status.idle": "2025-08-05T15:25:58.396680Z",
     "shell.execute_reply": "2025-08-05T15:25:58.395728Z"
    },
    "papermill": {
     "duration": 0.025879,
     "end_time": "2025-08-05T15:25:58.398805",
     "exception": false,
     "start_time": "2025-08-05T15:25:58.372926",
     "status": "completed"
    },
    "tags": []
   },
   "outputs": [],
   "source": [
    "if len(excluded_features_columns) > 0:\n",
    "    print(f\"Dropping features: {excluded_features_columns}\")\n",
    "    X_calib.drop(excluded_features_columns, axis=1, inplace=True)"
   ]
  },
  {
   "cell_type": "code",
   "execution_count": 25,
   "id": "76c4dc6d",
   "metadata": {
    "execution": {
     "iopub.execute_input": "2025-08-05T15:25:58.437551Z",
     "iopub.status.busy": "2025-08-05T15:25:58.436806Z",
     "iopub.status.idle": "2025-08-05T15:25:58.443976Z",
     "shell.execute_reply": "2025-08-05T15:25:58.442911Z"
    },
    "papermill": {
     "duration": 0.028367,
     "end_time": "2025-08-05T15:25:58.445967",
     "exception": false,
     "start_time": "2025-08-05T15:25:58.417600",
     "status": "completed"
    },
    "tags": []
   },
   "outputs": [],
   "source": [
    "# EXCLUDE CERTAIN SUBGROUPS\n",
    "# ----------------------\n",
    "\n",
    "mode = universe.get(\"exclude_subgroups\", \"keep-all\") \n",
    "# Fetches the exclude_subgroups setting from the universe dict.\n",
    "# Defaults to \"keep-all\" if the key is missing."
   ]
  },
  {
   "cell_type": "code",
   "execution_count": 26,
   "id": "21994072",
   "metadata": {
    "execution": {
     "iopub.execute_input": "2025-08-05T15:25:58.486187Z",
     "iopub.status.busy": "2025-08-05T15:25:58.485386Z",
     "iopub.status.idle": "2025-08-05T15:25:58.494731Z",
     "shell.execute_reply": "2025-08-05T15:25:58.493567Z"
    },
    "papermill": {
     "duration": 0.030984,
     "end_time": "2025-08-05T15:25:58.496700",
     "exception": false,
     "start_time": "2025-08-05T15:25:58.465716",
     "status": "completed"
    },
    "tags": []
   },
   "outputs": [],
   "source": [
    "if mode == \"keep-all\":\n",
    "    keep_mask = pd.Series(True, index=org_train.index)\n",
    "\n",
    "# org_train contains the original feature columns from features_org (in Simson)\n",
    "# features_org contains unprocessed features, for me X_train at beginning ???\n",
    "# For keep-all, creates a boolean Series (keep_mask) of all True, so no rows are removed.\n",
    "\n",
    "elif mode == \"drop-non-german\":\n",
    "    keep_mask = org_train[\"maxdeutsch1\"] == 1 # ??? what about missing values?\n",
    "\n",
    "else:\n",
    "    raise ValueError(f\"Unsupported mode for exclude_subgroups: {mode}\")"
   ]
  },
  {
   "cell_type": "code",
   "execution_count": 27,
   "id": "71651440",
   "metadata": {
    "execution": {
     "iopub.execute_input": "2025-08-05T15:25:58.538140Z",
     "iopub.status.busy": "2025-08-05T15:25:58.536931Z",
     "iopub.status.idle": "2025-08-05T15:25:58.544002Z",
     "shell.execute_reply": "2025-08-05T15:25:58.542989Z"
    },
    "papermill": {
     "duration": 0.029117,
     "end_time": "2025-08-05T15:25:58.546185",
     "exception": false,
     "start_time": "2025-08-05T15:25:58.517068",
     "status": "completed"
    },
    "tags": []
   },
   "outputs": [],
   "source": [
    "n_drop = (~keep_mask).sum() # Calculates how many rows are set to be dropped\n",
    "if n_drop > 0:\n",
    "    pct = n_drop / len(keep_mask) * 100\n",
    "    print(f\"Dropping {n_drop} rows ({pct:.2f}%) where mode='{mode}'\")"
   ]
  },
  {
   "cell_type": "code",
   "execution_count": 28,
   "id": "5fb8eee5",
   "metadata": {
    "execution": {
     "iopub.execute_input": "2025-08-05T15:25:58.586033Z",
     "iopub.status.busy": "2025-08-05T15:25:58.585396Z",
     "iopub.status.idle": "2025-08-05T15:25:58.593891Z",
     "shell.execute_reply": "2025-08-05T15:25:58.592668Z"
    },
    "papermill": {
     "duration": 0.030681,
     "end_time": "2025-08-05T15:25:58.595963",
     "exception": false,
     "start_time": "2025-08-05T15:25:58.565282",
     "status": "completed"
    },
    "tags": []
   },
   "outputs": [],
   "source": [
    "X_train = X_train[keep_mask]"
   ]
  },
  {
   "cell_type": "code",
   "execution_count": 29,
   "id": "b202bb3a",
   "metadata": {
    "execution": {
     "iopub.execute_input": "2025-08-05T15:25:58.634839Z",
     "iopub.status.busy": "2025-08-05T15:25:58.633971Z",
     "iopub.status.idle": "2025-08-05T15:25:58.640463Z",
     "shell.execute_reply": "2025-08-05T15:25:58.639450Z"
    },
    "papermill": {
     "duration": 0.026757,
     "end_time": "2025-08-05T15:25:58.642150",
     "exception": false,
     "start_time": "2025-08-05T15:25:58.615393",
     "status": "completed"
    },
    "tags": []
   },
   "outputs": [],
   "source": [
    "y_train = y_train[keep_mask]"
   ]
  },
  {
   "cell_type": "markdown",
   "id": "493e2ac3",
   "metadata": {
    "papermill": {
     "duration": 0.017904,
     "end_time": "2025-08-05T15:25:58.680017",
     "exception": false,
     "start_time": "2025-08-05T15:25:58.662113",
     "status": "completed"
    },
    "tags": []
   },
   "source": [
    "# Model Training"
   ]
  },
  {
   "cell_type": "code",
   "execution_count": 30,
   "id": "679e1268",
   "metadata": {
    "execution": {
     "iopub.execute_input": "2025-08-05T15:25:58.719366Z",
     "iopub.status.busy": "2025-08-05T15:25:58.718818Z",
     "iopub.status.idle": "2025-08-05T15:25:58.821130Z",
     "shell.execute_reply": "2025-08-05T15:25:58.820121Z"
    },
    "papermill": {
     "duration": 0.123659,
     "end_time": "2025-08-05T15:25:58.823245",
     "exception": false,
     "start_time": "2025-08-05T15:25:58.699586",
     "status": "completed"
    },
    "tags": []
   },
   "outputs": [],
   "source": [
    "from sklearn.linear_model import LogisticRegression\n",
    "from sklearn.ensemble import GradientBoostingClassifier, RandomForestClassifier\n",
    "\n",
    "if (universe[\"model\"] == \"logreg\"):\n",
    "    model = LogisticRegression() #penalty=\"none\", solver=\"newton-cg\", max_iter=1) # include random_state=19 ?\n",
    "elif (universe[\"model\"] == \"penalized_logreg\"):\n",
    "    model = LogisticRegression(penalty=\"l2\", C=0.1) #, solver=\"newton-cg\", max_iter=1)\n",
    "elif (universe[\"model\"] == \"rf\"):\n",
    "    model = RandomForestClassifier() # n_estimators=100, n_jobs=-1\n",
    "elif (universe[\"model\"] == \"gbm\"):\n",
    "    model = GradientBoostingClassifier()\n",
    "elif (universe[\"model\"] == \"elasticnet\"):\n",
    "    model = LogisticRegression(penalty = 'elasticnet', solver = 'saga', l1_ratio = 0.5) # max_iter=5000\n",
    "else:\n",
    "    raise \"Unsupported universe.model\""
   ]
  },
  {
   "cell_type": "code",
   "execution_count": 31,
   "id": "0cc8f744",
   "metadata": {
    "execution": {
     "iopub.execute_input": "2025-08-05T15:25:58.847758Z",
     "iopub.status.busy": "2025-08-05T15:25:58.847230Z",
     "iopub.status.idle": "2025-08-05T15:25:58.852167Z",
     "shell.execute_reply": "2025-08-05T15:25:58.851306Z"
    },
    "papermill": {
     "duration": 0.016296,
     "end_time": "2025-08-05T15:25:58.853538",
     "exception": false,
     "start_time": "2025-08-05T15:25:58.837242",
     "status": "completed"
    },
    "tags": []
   },
   "outputs": [],
   "source": [
    "import numpy as np\n",
    "from sklearn.pipeline import Pipeline\n",
    "from sklearn.preprocessing import StandardScaler\n",
    "\n",
    "model = Pipeline([\n",
    "    #(\"continuous_processor\", continuous_processor),\n",
    "    #(\"categorical_preprocessor\", categorical_preprocessor),\n",
    "    (\"scale\", StandardScaler() if universe[\"scale\"] == \"scale\" else None), \n",
    "    (\"model\", model),\n",
    "])"
   ]
  },
  {
   "cell_type": "code",
   "execution_count": 32,
   "id": "9442c04d",
   "metadata": {
    "execution": {
     "iopub.execute_input": "2025-08-05T15:25:58.876586Z",
     "iopub.status.busy": "2025-08-05T15:25:58.876039Z",
     "iopub.status.idle": "2025-08-05T15:26:00.597257Z",
     "shell.execute_reply": "2025-08-05T15:26:00.596295Z"
    },
    "papermill": {
     "duration": 1.734489,
     "end_time": "2025-08-05T15:26:00.598815",
     "exception": false,
     "start_time": "2025-08-05T15:25:58.864326",
     "status": "completed"
    },
    "tags": []
   },
   "outputs": [
    {
     "name": "stderr",
     "output_type": "stream",
     "text": [
      "/dss/dsshome1/0C/ra93lal2/.local/share/virtualenvs/CMA_Fairness_v2-3j10GkSs/lib/python3.10/site-packages/sklearn/linear_model/_sag.py:350: ConvergenceWarning: The max_iter was reached which means the coef_ did not converge\n",
      "  warnings.warn(\n"
     ]
    },
    {
     "data": {
      "text/html": [
       "<style>#sk-container-id-1 {color: black;background-color: white;}#sk-container-id-1 pre{padding: 0;}#sk-container-id-1 div.sk-toggleable {background-color: white;}#sk-container-id-1 label.sk-toggleable__label {cursor: pointer;display: block;width: 100%;margin-bottom: 0;padding: 0.3em;box-sizing: border-box;text-align: center;}#sk-container-id-1 label.sk-toggleable__label-arrow:before {content: \"▸\";float: left;margin-right: 0.25em;color: #696969;}#sk-container-id-1 label.sk-toggleable__label-arrow:hover:before {color: black;}#sk-container-id-1 div.sk-estimator:hover label.sk-toggleable__label-arrow:before {color: black;}#sk-container-id-1 div.sk-toggleable__content {max-height: 0;max-width: 0;overflow: hidden;text-align: left;background-color: #f0f8ff;}#sk-container-id-1 div.sk-toggleable__content pre {margin: 0.2em;color: black;border-radius: 0.25em;background-color: #f0f8ff;}#sk-container-id-1 input.sk-toggleable__control:checked~div.sk-toggleable__content {max-height: 200px;max-width: 100%;overflow: auto;}#sk-container-id-1 input.sk-toggleable__control:checked~label.sk-toggleable__label-arrow:before {content: \"▾\";}#sk-container-id-1 div.sk-estimator input.sk-toggleable__control:checked~label.sk-toggleable__label {background-color: #d4ebff;}#sk-container-id-1 div.sk-label input.sk-toggleable__control:checked~label.sk-toggleable__label {background-color: #d4ebff;}#sk-container-id-1 input.sk-hidden--visually {border: 0;clip: rect(1px 1px 1px 1px);clip: rect(1px, 1px, 1px, 1px);height: 1px;margin: -1px;overflow: hidden;padding: 0;position: absolute;width: 1px;}#sk-container-id-1 div.sk-estimator {font-family: monospace;background-color: #f0f8ff;border: 1px dotted black;border-radius: 0.25em;box-sizing: border-box;margin-bottom: 0.5em;}#sk-container-id-1 div.sk-estimator:hover {background-color: #d4ebff;}#sk-container-id-1 div.sk-parallel-item::after {content: \"\";width: 100%;border-bottom: 1px solid gray;flex-grow: 1;}#sk-container-id-1 div.sk-label:hover label.sk-toggleable__label {background-color: #d4ebff;}#sk-container-id-1 div.sk-serial::before {content: \"\";position: absolute;border-left: 1px solid gray;box-sizing: border-box;top: 0;bottom: 0;left: 50%;z-index: 0;}#sk-container-id-1 div.sk-serial {display: flex;flex-direction: column;align-items: center;background-color: white;padding-right: 0.2em;padding-left: 0.2em;position: relative;}#sk-container-id-1 div.sk-item {position: relative;z-index: 1;}#sk-container-id-1 div.sk-parallel {display: flex;align-items: stretch;justify-content: center;background-color: white;position: relative;}#sk-container-id-1 div.sk-item::before, #sk-container-id-1 div.sk-parallel-item::before {content: \"\";position: absolute;border-left: 1px solid gray;box-sizing: border-box;top: 0;bottom: 0;left: 50%;z-index: -1;}#sk-container-id-1 div.sk-parallel-item {display: flex;flex-direction: column;z-index: 1;position: relative;background-color: white;}#sk-container-id-1 div.sk-parallel-item:first-child::after {align-self: flex-end;width: 50%;}#sk-container-id-1 div.sk-parallel-item:last-child::after {align-self: flex-start;width: 50%;}#sk-container-id-1 div.sk-parallel-item:only-child::after {width: 0;}#sk-container-id-1 div.sk-dashed-wrapped {border: 1px dashed gray;margin: 0 0.4em 0.5em 0.4em;box-sizing: border-box;padding-bottom: 0.4em;background-color: white;}#sk-container-id-1 div.sk-label label {font-family: monospace;font-weight: bold;display: inline-block;line-height: 1.2em;}#sk-container-id-1 div.sk-label-container {text-align: center;}#sk-container-id-1 div.sk-container {/* jupyter's `normalize.less` sets `[hidden] { display: none; }` but bootstrap.min.css set `[hidden] { display: none !important; }` so we also need the `!important` here to be able to override the default hidden behavior on the sphinx rendered scikit-learn.org. See: https://github.com/scikit-learn/scikit-learn/issues/21755 */display: inline-block !important;position: relative;}#sk-container-id-1 div.sk-text-repr-fallback {display: none;}</style><div id=\"sk-container-id-1\" class=\"sk-top-container\"><div class=\"sk-text-repr-fallback\"><pre>Pipeline(steps=[(&#x27;scale&#x27;, StandardScaler()),\n",
       "                (&#x27;model&#x27;,\n",
       "                 LogisticRegression(l1_ratio=0.5, penalty=&#x27;elasticnet&#x27;,\n",
       "                                    solver=&#x27;saga&#x27;))])</pre><b>In a Jupyter environment, please rerun this cell to show the HTML representation or trust the notebook. <br />On GitHub, the HTML representation is unable to render, please try loading this page with nbviewer.org.</b></div><div class=\"sk-container\" hidden><div class=\"sk-item sk-dashed-wrapped\"><div class=\"sk-label-container\"><div class=\"sk-label sk-toggleable\"><input class=\"sk-toggleable__control sk-hidden--visually\" id=\"sk-estimator-id-1\" type=\"checkbox\" ><label for=\"sk-estimator-id-1\" class=\"sk-toggleable__label sk-toggleable__label-arrow\">Pipeline</label><div class=\"sk-toggleable__content\"><pre>Pipeline(steps=[(&#x27;scale&#x27;, StandardScaler()),\n",
       "                (&#x27;model&#x27;,\n",
       "                 LogisticRegression(l1_ratio=0.5, penalty=&#x27;elasticnet&#x27;,\n",
       "                                    solver=&#x27;saga&#x27;))])</pre></div></div></div><div class=\"sk-serial\"><div class=\"sk-item\"><div class=\"sk-estimator sk-toggleable\"><input class=\"sk-toggleable__control sk-hidden--visually\" id=\"sk-estimator-id-2\" type=\"checkbox\" ><label for=\"sk-estimator-id-2\" class=\"sk-toggleable__label sk-toggleable__label-arrow\">StandardScaler</label><div class=\"sk-toggleable__content\"><pre>StandardScaler()</pre></div></div></div><div class=\"sk-item\"><div class=\"sk-estimator sk-toggleable\"><input class=\"sk-toggleable__control sk-hidden--visually\" id=\"sk-estimator-id-3\" type=\"checkbox\" ><label for=\"sk-estimator-id-3\" class=\"sk-toggleable__label sk-toggleable__label-arrow\">LogisticRegression</label><div class=\"sk-toggleable__content\"><pre>LogisticRegression(l1_ratio=0.5, penalty=&#x27;elasticnet&#x27;, solver=&#x27;saga&#x27;)</pre></div></div></div></div></div></div></div>"
      ],
      "text/plain": [
       "Pipeline(steps=[('scale', StandardScaler()),\n",
       "                ('model',\n",
       "                 LogisticRegression(l1_ratio=0.5, penalty='elasticnet',\n",
       "                                    solver='saga'))])"
      ]
     },
     "execution_count": 32,
     "metadata": {},
     "output_type": "execute_result"
    }
   ],
   "source": [
    "model.fit(X_train, y_train.values.ravel())"
   ]
  },
  {
   "cell_type": "code",
   "execution_count": 33,
   "id": "af59f8c0",
   "metadata": {
    "execution": {
     "iopub.execute_input": "2025-08-05T15:26:00.638304Z",
     "iopub.status.busy": "2025-08-05T15:26:00.637909Z",
     "iopub.status.idle": "2025-08-05T15:26:00.642694Z",
     "shell.execute_reply": "2025-08-05T15:26:00.641923Z"
    },
    "papermill": {
     "duration": 0.025958,
     "end_time": "2025-08-05T15:26:00.643932",
     "exception": false,
     "start_time": "2025-08-05T15:26:00.617974",
     "status": "completed"
    },
    "tags": []
   },
   "outputs": [],
   "source": [
    "from fairness_multiverse.universe import predict_w_threshold"
   ]
  },
  {
   "cell_type": "code",
   "execution_count": 34,
   "id": "a7cf2e16",
   "metadata": {
    "execution": {
     "iopub.execute_input": "2025-08-05T15:26:00.684106Z",
     "iopub.status.busy": "2025-08-05T15:26:00.683590Z",
     "iopub.status.idle": "2025-08-05T15:26:00.888305Z",
     "shell.execute_reply": "2025-08-05T15:26:00.887338Z"
    },
    "papermill": {
     "duration": 0.228064,
     "end_time": "2025-08-05T15:26:00.889842",
     "exception": false,
     "start_time": "2025-08-05T15:26:00.661778",
     "status": "completed"
    },
    "tags": []
   },
   "outputs": [
    {
     "data": {
      "text/plain": [
       "0.8582655222383235"
      ]
     },
     "execution_count": 34,
     "metadata": {},
     "output_type": "execute_result"
    }
   ],
   "source": [
    "probs_test = model.predict_proba(X_test)\n",
    "\n",
    "'''\n",
    "Below code returns a boolean array (or binary 0/1 array depending on how it’s used) where each element \n",
    "is True if the probability of class 1 is greater than or equal to the threshold, and False otherwise.\n",
    "'''\n",
    "y_pred_default = predict_w_threshold(probs_test, 0.5)\n",
    "\n",
    "from sklearn.metrics import accuracy_score\n",
    "\n",
    "# Naive prediction\n",
    "accuracy_score(y_true = y_true, y_pred = y_pred_default)"
   ]
  },
  {
   "cell_type": "code",
   "execution_count": 35,
   "id": "081964c3",
   "metadata": {
    "execution": {
     "iopub.execute_input": "2025-08-05T15:26:00.928776Z",
     "iopub.status.busy": "2025-08-05T15:26:00.928070Z",
     "iopub.status.idle": "2025-08-05T15:26:01.111952Z",
     "shell.execute_reply": "2025-08-05T15:26:01.110871Z"
    },
    "papermill": {
     "duration": 0.205352,
     "end_time": "2025-08-05T15:26:01.113623",
     "exception": false,
     "start_time": "2025-08-05T15:26:00.908271",
     "status": "completed"
    },
    "tags": []
   },
   "outputs": [
    {
     "data": {
      "text/plain": [
       "array([0, 0, 0, ..., 0, 0, 0])"
      ]
     },
     "execution_count": 35,
     "metadata": {},
     "output_type": "execute_result"
    }
   ],
   "source": [
    "model.predict(X_test)"
   ]
  },
  {
   "cell_type": "markdown",
   "id": "56c9705b",
   "metadata": {
    "papermill": {
     "duration": 0.018409,
     "end_time": "2025-08-05T15:26:01.151920",
     "exception": false,
     "start_time": "2025-08-05T15:26:01.133511",
     "status": "completed"
    },
    "tags": []
   },
   "source": [
    "# Conformal Prediction"
   ]
  },
  {
   "cell_type": "code",
   "execution_count": 36,
   "id": "160ec6ff",
   "metadata": {
    "execution": {
     "iopub.execute_input": "2025-08-05T15:26:01.193477Z",
     "iopub.status.busy": "2025-08-05T15:26:01.192532Z",
     "iopub.status.idle": "2025-08-05T15:26:01.198333Z",
     "shell.execute_reply": "2025-08-05T15:26:01.197355Z"
    },
    "papermill": {
     "duration": 0.029534,
     "end_time": "2025-08-05T15:26:01.200108",
     "exception": false,
     "start_time": "2025-08-05T15:26:01.170574",
     "status": "completed"
    },
    "tags": []
   },
   "outputs": [],
   "source": [
    "# Miscoverage level for conformal prediction (10% allowed error rate => 90% target coverage)\n",
    "alpha = 0.1"
   ]
  },
  {
   "cell_type": "code",
   "execution_count": 37,
   "id": "eadf4555-3dd3-440e-8e35-f82a4ad9f855",
   "metadata": {
    "execution": {
     "iopub.execute_input": "2025-08-05T15:26:01.241646Z",
     "iopub.status.busy": "2025-08-05T15:26:01.240767Z",
     "iopub.status.idle": "2025-08-05T15:26:01.422279Z",
     "shell.execute_reply": "2025-08-05T15:26:01.421263Z"
    },
    "papermill": {
     "duration": 0.204282,
     "end_time": "2025-08-05T15:26:01.424141",
     "exception": false,
     "start_time": "2025-08-05T15:26:01.219859",
     "status": "completed"
    },
    "tags": []
   },
   "outputs": [],
   "source": [
    "probs_calib = model.predict_proba(X_calib)"
   ]
  },
  {
   "cell_type": "code",
   "execution_count": 38,
   "id": "2ed93547-6d5d-4983-9b36-1ecb300da49a",
   "metadata": {
    "execution": {
     "iopub.execute_input": "2025-08-05T15:26:01.462135Z",
     "iopub.status.busy": "2025-08-05T15:26:01.461365Z",
     "iopub.status.idle": "2025-08-05T15:26:01.467587Z",
     "shell.execute_reply": "2025-08-05T15:26:01.466535Z"
    },
    "papermill": {
     "duration": 0.026757,
     "end_time": "2025-08-05T15:26:01.469343",
     "exception": false,
     "start_time": "2025-08-05T15:26:01.442586",
     "status": "completed"
    },
    "tags": []
   },
   "outputs": [],
   "source": [
    "y_calib = y_calib.values.ravel().astype(int)"
   ]
  },
  {
   "cell_type": "code",
   "execution_count": 39,
   "id": "65d1320d-f588-4b38-9072-62af1ae97f7d",
   "metadata": {
    "execution": {
     "iopub.execute_input": "2025-08-05T15:26:01.510604Z",
     "iopub.status.busy": "2025-08-05T15:26:01.509985Z",
     "iopub.status.idle": "2025-08-05T15:26:01.517912Z",
     "shell.execute_reply": "2025-08-05T15:26:01.516846Z"
    },
    "papermill": {
     "duration": 0.029263,
     "end_time": "2025-08-05T15:26:01.519587",
     "exception": false,
     "start_time": "2025-08-05T15:26:01.490324",
     "status": "completed"
    },
    "tags": []
   },
   "outputs": [],
   "source": [
    "from fairness_multiverse.conformal import compute_nc_scores\n",
    "\n",
    "# Compute nonconformity scores on calibration set (1 - probability of true class)\n",
    "nc_scores = compute_nc_scores(probs_calib, y_calib)"
   ]
  },
  {
   "cell_type": "code",
   "execution_count": 40,
   "id": "df3b8ca3-53b7-43d5-9667-7c85da7aeda2",
   "metadata": {
    "execution": {
     "iopub.execute_input": "2025-08-05T15:26:01.560869Z",
     "iopub.status.busy": "2025-08-05T15:26:01.560058Z",
     "iopub.status.idle": "2025-08-05T15:26:01.566752Z",
     "shell.execute_reply": "2025-08-05T15:26:01.565729Z"
    },
    "papermill": {
     "duration": 0.028347,
     "end_time": "2025-08-05T15:26:01.568565",
     "exception": false,
     "start_time": "2025-08-05T15:26:01.540218",
     "status": "completed"
    },
    "tags": []
   },
   "outputs": [],
   "source": [
    "from fairness_multiverse.conformal import find_threshold\n",
    "\n",
    "# Find conformal threshold q_hat for the given alpha (split conformal method)\n",
    "q_hat = find_threshold(nc_scores, alpha)"
   ]
  },
  {
   "cell_type": "code",
   "execution_count": 41,
   "id": "4d29e6c1-0ef6-4aa4-b8fe-4fe79b0d033a",
   "metadata": {
    "execution": {
     "iopub.execute_input": "2025-08-05T15:26:01.611657Z",
     "iopub.status.busy": "2025-08-05T15:26:01.610858Z",
     "iopub.status.idle": "2025-08-05T15:26:01.618422Z",
     "shell.execute_reply": "2025-08-05T15:26:01.617331Z"
    },
    "papermill": {
     "duration": 0.030025,
     "end_time": "2025-08-05T15:26:01.620193",
     "exception": false,
     "start_time": "2025-08-05T15:26:01.590168",
     "status": "completed"
    },
    "tags": []
   },
   "outputs": [
    {
     "data": {
      "text/plain": [
       "0.6839208750421119"
      ]
     },
     "execution_count": 41,
     "metadata": {},
     "output_type": "execute_result"
    }
   ],
   "source": [
    "q_hat"
   ]
  },
  {
   "cell_type": "code",
   "execution_count": 42,
   "id": "92460794-cdac-4be2-ba28-f28c0515a6fb",
   "metadata": {
    "execution": {
     "iopub.execute_input": "2025-08-05T15:26:01.662843Z",
     "iopub.status.busy": "2025-08-05T15:26:01.662167Z",
     "iopub.status.idle": "2025-08-05T15:26:02.466410Z",
     "shell.execute_reply": "2025-08-05T15:26:02.465359Z"
    },
    "papermill": {
     "duration": 0.827722,
     "end_time": "2025-08-05T15:26:02.468607",
     "exception": false,
     "start_time": "2025-08-05T15:26:01.640885",
     "status": "completed"
    },
    "tags": []
   },
   "outputs": [],
   "source": [
    "from fairness_multiverse.conformal import predict_conformal_sets\n",
    "\n",
    "# Generate prediction sets for each test example\n",
    "pred_sets = predict_conformal_sets(model, X_test, q_hat)"
   ]
  },
  {
   "cell_type": "code",
   "execution_count": 43,
   "id": "d90c9a65-e6db-4f5d-80cd-e68fb7e46829",
   "metadata": {
    "execution": {
     "iopub.execute_input": "2025-08-05T15:26:02.519835Z",
     "iopub.status.busy": "2025-08-05T15:26:02.519342Z",
     "iopub.status.idle": "2025-08-05T15:26:02.525475Z",
     "shell.execute_reply": "2025-08-05T15:26:02.524367Z"
    },
    "papermill": {
     "duration": 0.03466,
     "end_time": "2025-08-05T15:26:02.527801",
     "exception": false,
     "start_time": "2025-08-05T15:26:02.493141",
     "status": "completed"
    },
    "tags": []
   },
   "outputs": [],
   "source": [
    "y_true = y_true.squeeze()"
   ]
  },
  {
   "cell_type": "code",
   "execution_count": 44,
   "id": "3a58a54a-1e68-46b9-927a-df01f18aebc8",
   "metadata": {
    "execution": {
     "iopub.execute_input": "2025-08-05T15:26:02.579196Z",
     "iopub.status.busy": "2025-08-05T15:26:02.578495Z",
     "iopub.status.idle": "2025-08-05T15:26:03.315757Z",
     "shell.execute_reply": "2025-08-05T15:26:03.314306Z"
    },
    "papermill": {
     "duration": 0.76522,
     "end_time": "2025-08-05T15:26:03.318351",
     "exception": false,
     "start_time": "2025-08-05T15:26:02.553131",
     "status": "completed"
    },
    "tags": []
   },
   "outputs": [],
   "source": [
    "from fairness_multiverse.conformal import evaluate_sets\n",
    "\n",
    "# Evaluate coverage and average set size on test data\n",
    "metrics = evaluate_sets(pred_sets, y_true)"
   ]
  },
  {
   "cell_type": "markdown",
   "id": "2b569c12-9aaa-4c88-98c9-bbcd0cf3ebb8",
   "metadata": {
    "papermill": {
     "duration": 0.029156,
     "end_time": "2025-08-05T15:26:03.376934",
     "exception": false,
     "start_time": "2025-08-05T15:26:03.347778",
     "status": "completed"
    },
    "tags": []
   },
   "source": [
    "# CP Metrics"
   ]
  },
  {
   "cell_type": "code",
   "execution_count": 45,
   "id": "5ce0a5cb-201f-45a0-ade5-94c7f0bd6095",
   "metadata": {
    "execution": {
     "iopub.execute_input": "2025-08-05T15:26:03.437727Z",
     "iopub.status.busy": "2025-08-05T15:26:03.436904Z",
     "iopub.status.idle": "2025-08-05T15:26:03.445055Z",
     "shell.execute_reply": "2025-08-05T15:26:03.443686Z"
    },
    "papermill": {
     "duration": 0.041521,
     "end_time": "2025-08-05T15:26:03.447430",
     "exception": false,
     "start_time": "2025-08-05T15:26:03.405909",
     "status": "completed"
    },
    "tags": []
   },
   "outputs": [
    {
     "data": {
      "text/plain": [
       "{'coverage': 0.9099654442091183, 'avg_size': 1.1334968230966447}"
      ]
     },
     "execution_count": 45,
     "metadata": {},
     "output_type": "execute_result"
    }
   ],
   "source": [
    "metrics"
   ]
  },
  {
   "cell_type": "code",
   "execution_count": 46,
   "id": "9b9a838d-31c9-430b-ae14-12baee460d17",
   "metadata": {
    "execution": {
     "iopub.execute_input": "2025-08-05T15:26:03.507343Z",
     "iopub.status.busy": "2025-08-05T15:26:03.506530Z",
     "iopub.status.idle": "2025-08-05T15:26:03.513909Z",
     "shell.execute_reply": "2025-08-05T15:26:03.512679Z"
    },
    "papermill": {
     "duration": 0.039645,
     "end_time": "2025-08-05T15:26:03.516685",
     "exception": false,
     "start_time": "2025-08-05T15:26:03.477040",
     "status": "completed"
    },
    "tags": []
   },
   "outputs": [],
   "source": [
    "example_universe = universe.copy()\n",
    "universe_training_year = example_universe.get(\"training_year\")\n",
    "universe_training_size = example_universe.get(\"training_size\")\n",
    "universe_scale = example_universe.get(\"scale\")\n",
    "universe_model = example_universe.get(\"model\")\n",
    "universe_exclude_features = example_universe.get(\"exclude_features\")\n",
    "universe_exclude_subgroups = example_universe.get(\"exclude_subgroups\")"
   ]
  },
  {
   "cell_type": "code",
   "execution_count": 47,
   "id": "f4b6a8ac-9dc0-4245-8a91-5b3b5999c4f9",
   "metadata": {
    "execution": {
     "iopub.execute_input": "2025-08-05T15:26:03.578735Z",
     "iopub.status.busy": "2025-08-05T15:26:03.578199Z",
     "iopub.status.idle": "2025-08-05T15:26:03.585918Z",
     "shell.execute_reply": "2025-08-05T15:26:03.584691Z"
    },
    "papermill": {
     "duration": 0.041744,
     "end_time": "2025-08-05T15:26:03.588515",
     "exception": false,
     "start_time": "2025-08-05T15:26:03.546771",
     "status": "completed"
    },
    "tags": []
   },
   "outputs": [],
   "source": [
    "cp_metrics_dict = {\n",
    "    \"universe_id\": [universe_id],\n",
    "    \"universe_training_year\": [universe_training_year],\n",
    "    \"universe_training_size\": [universe_training_size],\n",
    "    \"universe_scale\": [universe_scale],\n",
    "    \"universe_model\": [universe_model],\n",
    "    \"universe_exclude_features\": [universe_exclude_features],\n",
    "    \"universe_exclude_subgroups\": [universe_exclude_subgroups],\n",
    "    \"q_hat\": [q_hat],\n",
    "    \"coverage\": [metrics[\"coverage\"]],\n",
    "    \"avg_size\": [metrics[\"avg_size\"]],\n",
    "}"
   ]
  },
  {
   "cell_type": "code",
   "execution_count": 48,
   "id": "908acbb1-0371-4915-85ca-3fa520d2efe2",
   "metadata": {
    "execution": {
     "iopub.execute_input": "2025-08-05T15:26:03.650455Z",
     "iopub.status.busy": "2025-08-05T15:26:03.649915Z",
     "iopub.status.idle": "2025-08-05T15:26:03.659023Z",
     "shell.execute_reply": "2025-08-05T15:26:03.657588Z"
    },
    "papermill": {
     "duration": 0.042262,
     "end_time": "2025-08-05T15:26:03.661450",
     "exception": false,
     "start_time": "2025-08-05T15:26:03.619188",
     "status": "completed"
    },
    "tags": []
   },
   "outputs": [
    {
     "data": {
      "text/plain": [
       "{'universe_id': ['a6cd33df1c2d446060ffdb239b964dbe'],\n",
       " 'universe_training_year': ['2014'],\n",
       " 'universe_training_size': ['5k'],\n",
       " 'universe_scale': ['scale'],\n",
       " 'universe_model': ['elasticnet'],\n",
       " 'universe_exclude_features': ['none'],\n",
       " 'universe_exclude_subgroups': ['keep-all'],\n",
       " 'q_hat': [0.6839208750421119],\n",
       " 'coverage': [0.9099654442091183],\n",
       " 'avg_size': [1.1334968230966447]}"
      ]
     },
     "execution_count": 48,
     "metadata": {},
     "output_type": "execute_result"
    }
   ],
   "source": [
    "cp_metrics_dict"
   ]
  },
  {
   "cell_type": "code",
   "execution_count": 49,
   "id": "33007efc-14e9-4ec6-97ac-56a455c82265",
   "metadata": {
    "execution": {
     "iopub.execute_input": "2025-08-05T15:26:03.724743Z",
     "iopub.status.busy": "2025-08-05T15:26:03.723573Z",
     "iopub.status.idle": "2025-08-05T15:26:03.731835Z",
     "shell.execute_reply": "2025-08-05T15:26:03.730599Z"
    },
    "papermill": {
     "duration": 0.042063,
     "end_time": "2025-08-05T15:26:03.734276",
     "exception": false,
     "start_time": "2025-08-05T15:26:03.692213",
     "status": "completed"
    },
    "tags": []
   },
   "outputs": [],
   "source": [
    "cp_metrics_df = pd.DataFrame(cp_metrics_dict)"
   ]
  },
  {
   "cell_type": "code",
   "execution_count": 50,
   "id": "db12611b-57b2-4910-b9d0-355adfd6e7bf",
   "metadata": {
    "execution": {
     "iopub.execute_input": "2025-08-05T15:26:03.797777Z",
     "iopub.status.busy": "2025-08-05T15:26:03.797173Z",
     "iopub.status.idle": "2025-08-05T15:26:03.819025Z",
     "shell.execute_reply": "2025-08-05T15:26:03.817844Z"
    },
    "papermill": {
     "duration": 0.056214,
     "end_time": "2025-08-05T15:26:03.821146",
     "exception": false,
     "start_time": "2025-08-05T15:26:03.764932",
     "status": "completed"
    },
    "tags": []
   },
   "outputs": [
    {
     "data": {
      "text/html": [
       "<div>\n",
       "<style scoped>\n",
       "    .dataframe tbody tr th:only-of-type {\n",
       "        vertical-align: middle;\n",
       "    }\n",
       "\n",
       "    .dataframe tbody tr th {\n",
       "        vertical-align: top;\n",
       "    }\n",
       "\n",
       "    .dataframe thead th {\n",
       "        text-align: right;\n",
       "    }\n",
       "</style>\n",
       "<table border=\"1\" class=\"dataframe\">\n",
       "  <thead>\n",
       "    <tr style=\"text-align: right;\">\n",
       "      <th></th>\n",
       "      <th>universe_id</th>\n",
       "      <th>universe_training_year</th>\n",
       "      <th>universe_training_size</th>\n",
       "      <th>universe_scale</th>\n",
       "      <th>universe_model</th>\n",
       "      <th>universe_exclude_features</th>\n",
       "      <th>universe_exclude_subgroups</th>\n",
       "      <th>q_hat</th>\n",
       "      <th>coverage</th>\n",
       "      <th>avg_size</th>\n",
       "    </tr>\n",
       "  </thead>\n",
       "  <tbody>\n",
       "    <tr>\n",
       "      <th>0</th>\n",
       "      <td>a6cd33df1c2d446060ffdb239b964dbe</td>\n",
       "      <td>2014</td>\n",
       "      <td>5k</td>\n",
       "      <td>scale</td>\n",
       "      <td>elasticnet</td>\n",
       "      <td>none</td>\n",
       "      <td>keep-all</td>\n",
       "      <td>0.683921</td>\n",
       "      <td>0.909965</td>\n",
       "      <td>1.133497</td>\n",
       "    </tr>\n",
       "  </tbody>\n",
       "</table>\n",
       "</div>"
      ],
      "text/plain": [
       "                        universe_id universe_training_year  \\\n",
       "0  a6cd33df1c2d446060ffdb239b964dbe                   2014   \n",
       "\n",
       "  universe_training_size universe_scale universe_model  \\\n",
       "0                     5k          scale     elasticnet   \n",
       "\n",
       "  universe_exclude_features universe_exclude_subgroups     q_hat  coverage  \\\n",
       "0                      none                   keep-all  0.683921  0.909965   \n",
       "\n",
       "   avg_size  \n",
       "0  1.133497  "
      ]
     },
     "execution_count": 50,
     "metadata": {},
     "output_type": "execute_result"
    }
   ],
   "source": [
    "cp_metrics_df"
   ]
  },
  {
   "cell_type": "code",
   "execution_count": 51,
   "id": "b7fbde55-a0a1-47e4-9af6-fe4a17fa8c61",
   "metadata": {
    "execution": {
     "iopub.execute_input": "2025-08-05T15:26:03.884968Z",
     "iopub.status.busy": "2025-08-05T15:26:03.884078Z",
     "iopub.status.idle": "2025-08-05T15:26:03.890825Z",
     "shell.execute_reply": "2025-08-05T15:26:03.889458Z"
    },
    "papermill": {
     "duration": 0.042314,
     "end_time": "2025-08-05T15:26:03.893686",
     "exception": false,
     "start_time": "2025-08-05T15:26:03.851372",
     "status": "completed"
    },
    "tags": []
   },
   "outputs": [],
   "source": [
    "# Conditional Coverage & looking at subgroups"
   ]
  },
  {
   "cell_type": "code",
   "execution_count": 52,
   "id": "027ae886-68dd-4141-96c7-805a5450e1ef",
   "metadata": {
    "execution": {
     "iopub.execute_input": "2025-08-05T15:26:03.970033Z",
     "iopub.status.busy": "2025-08-05T15:26:03.958249Z",
     "iopub.status.idle": "2025-08-05T15:26:04.276045Z",
     "shell.execute_reply": "2025-08-05T15:26:04.274936Z"
    },
    "papermill": {
     "duration": 0.35328,
     "end_time": "2025-08-05T15:26:04.278111",
     "exception": false,
     "start_time": "2025-08-05T15:26:03.924831",
     "status": "completed"
    },
    "tags": []
   },
   "outputs": [],
   "source": [
    "from fairness_multiverse.conformal import build_cp_groups\n",
    "\n",
    "cp_groups_df = build_cp_groups(pred_sets, y_true, X_test.index, org_test)\n",
    "#needs universe_id and setting"
   ]
  },
  {
   "cell_type": "code",
   "execution_count": 53,
   "id": "6cbdab96-b2b2-45af-ad54-d0516db2e28d",
   "metadata": {
    "execution": {
     "iopub.execute_input": "2025-08-05T15:26:04.326417Z",
     "iopub.status.busy": "2025-08-05T15:26:04.325809Z",
     "iopub.status.idle": "2025-08-05T15:26:05.906366Z",
     "shell.execute_reply": "2025-08-05T15:26:05.905431Z"
    },
    "papermill": {
     "duration": 1.605946,
     "end_time": "2025-08-05T15:26:05.908227",
     "exception": false,
     "start_time": "2025-08-05T15:26:04.302281",
     "status": "completed"
    },
    "tags": []
   },
   "outputs": [],
   "source": [
    "# Define covered = 1 if true_label is in the predicted set\n",
    "cp_groups_df['covered'] = cp_groups_df.apply(\n",
    "    lambda r: int(r['true_label'] in r['pred_set']),\n",
    "    axis=1\n",
    ")"
   ]
  },
  {
   "cell_type": "code",
   "execution_count": 54,
   "id": "338ff529-1a6b-4b87-a931-8e4788d52aad",
   "metadata": {
    "execution": {
     "iopub.execute_input": "2025-08-05T15:26:05.952095Z",
     "iopub.status.busy": "2025-08-05T15:26:05.951331Z",
     "iopub.status.idle": "2025-08-05T15:26:05.957598Z",
     "shell.execute_reply": "2025-08-05T15:26:05.956363Z"
    },
    "papermill": {
     "duration": 0.030485,
     "end_time": "2025-08-05T15:26:05.959557",
     "exception": false,
     "start_time": "2025-08-05T15:26:05.929072",
     "status": "completed"
    },
    "tags": []
   },
   "outputs": [],
   "source": [
    "#cp_groups_df"
   ]
  },
  {
   "cell_type": "code",
   "execution_count": 55,
   "id": "90032e27-66df-4540-9169-4e89cfbaa758",
   "metadata": {
    "execution": {
     "iopub.execute_input": "2025-08-05T15:26:06.008209Z",
     "iopub.status.busy": "2025-08-05T15:26:06.007642Z",
     "iopub.status.idle": "2025-08-05T15:26:06.019004Z",
     "shell.execute_reply": "2025-08-05T15:26:06.018077Z"
    },
    "papermill": {
     "duration": 0.036824,
     "end_time": "2025-08-05T15:26:06.020804",
     "exception": false,
     "start_time": "2025-08-05T15:26:05.983980",
     "status": "completed"
    },
    "tags": []
   },
   "outputs": [],
   "source": [
    "subgroups = ['frau1','nongerman','nongerman_male','nongerman_female']\n",
    "\n",
    "# Conditional coverage for subgroup==1\n",
    "cond_coverage = {\n",
    "    g: cp_groups_df.loc[cp_groups_df[g]==1, 'covered'].mean()\n",
    "    for g in subgroups\n",
    "}"
   ]
  },
  {
   "cell_type": "code",
   "execution_count": 56,
   "id": "1e348fb1-b9c3-45bc-ba23-f016827a7e0d",
   "metadata": {
    "execution": {
     "iopub.execute_input": "2025-08-05T15:26:06.067954Z",
     "iopub.status.busy": "2025-08-05T15:26:06.067455Z",
     "iopub.status.idle": "2025-08-05T15:26:06.075701Z",
     "shell.execute_reply": "2025-08-05T15:26:06.073168Z"
    },
    "papermill": {
     "duration": 0.033088,
     "end_time": "2025-08-05T15:26:06.077444",
     "exception": false,
     "start_time": "2025-08-05T15:26:06.044356",
     "status": "completed"
    },
    "tags": []
   },
   "outputs": [
    {
     "data": {
      "text/plain": [
       "{'frau1': 0.9071033832052837,\n",
       " 'nongerman': 0.9102902374670184,\n",
       " 'nongerman_male': 0.9290281905791228,\n",
       " 'nongerman_female': 0.879284649776453}"
      ]
     },
     "execution_count": 56,
     "metadata": {},
     "output_type": "execute_result"
    }
   ],
   "source": [
    "cond_coverage"
   ]
  },
  {
   "cell_type": "code",
   "execution_count": 57,
   "id": "f5093324-c3dd-4d63-bc4c-8d945e5c8bbb",
   "metadata": {
    "execution": {
     "iopub.execute_input": "2025-08-05T15:26:06.125980Z",
     "iopub.status.busy": "2025-08-05T15:26:06.125578Z",
     "iopub.status.idle": "2025-08-05T15:26:06.166758Z",
     "shell.execute_reply": "2025-08-05T15:26:06.165591Z"
    },
    "papermill": {
     "duration": 0.066487,
     "end_time": "2025-08-05T15:26:06.168191",
     "exception": false,
     "start_time": "2025-08-05T15:26:06.101704",
     "status": "completed"
    },
    "tags": []
   },
   "outputs": [],
   "source": [
    "for subgroup, cov in cond_coverage.items():\n",
    "    cp_metrics_df[f\"cov_{subgroup}\"] = cov"
   ]
  },
  {
   "cell_type": "code",
   "execution_count": 58,
   "id": "6e872e10-dbe5-49e8-b554-5030c98ff75d",
   "metadata": {
    "execution": {
     "iopub.execute_input": "2025-08-05T15:26:06.215121Z",
     "iopub.status.busy": "2025-08-05T15:26:06.214667Z",
     "iopub.status.idle": "2025-08-05T15:26:06.236787Z",
     "shell.execute_reply": "2025-08-05T15:26:06.235856Z"
    },
    "papermill": {
     "duration": 0.047486,
     "end_time": "2025-08-05T15:26:06.238187",
     "exception": false,
     "start_time": "2025-08-05T15:26:06.190701",
     "status": "completed"
    },
    "tags": []
   },
   "outputs": [
    {
     "data": {
      "text/html": [
       "<div>\n",
       "<style scoped>\n",
       "    .dataframe tbody tr th:only-of-type {\n",
       "        vertical-align: middle;\n",
       "    }\n",
       "\n",
       "    .dataframe tbody tr th {\n",
       "        vertical-align: top;\n",
       "    }\n",
       "\n",
       "    .dataframe thead th {\n",
       "        text-align: right;\n",
       "    }\n",
       "</style>\n",
       "<table border=\"1\" class=\"dataframe\">\n",
       "  <thead>\n",
       "    <tr style=\"text-align: right;\">\n",
       "      <th></th>\n",
       "      <th>universe_id</th>\n",
       "      <th>universe_training_year</th>\n",
       "      <th>universe_training_size</th>\n",
       "      <th>universe_scale</th>\n",
       "      <th>universe_model</th>\n",
       "      <th>universe_exclude_features</th>\n",
       "      <th>universe_exclude_subgroups</th>\n",
       "      <th>q_hat</th>\n",
       "      <th>coverage</th>\n",
       "      <th>avg_size</th>\n",
       "      <th>cov_frau1</th>\n",
       "      <th>cov_nongerman</th>\n",
       "      <th>cov_nongerman_male</th>\n",
       "      <th>cov_nongerman_female</th>\n",
       "    </tr>\n",
       "  </thead>\n",
       "  <tbody>\n",
       "    <tr>\n",
       "      <th>0</th>\n",
       "      <td>a6cd33df1c2d446060ffdb239b964dbe</td>\n",
       "      <td>2014</td>\n",
       "      <td>5k</td>\n",
       "      <td>scale</td>\n",
       "      <td>elasticnet</td>\n",
       "      <td>none</td>\n",
       "      <td>keep-all</td>\n",
       "      <td>0.683921</td>\n",
       "      <td>0.909965</td>\n",
       "      <td>1.133497</td>\n",
       "      <td>0.907103</td>\n",
       "      <td>0.91029</td>\n",
       "      <td>0.929028</td>\n",
       "      <td>0.879285</td>\n",
       "    </tr>\n",
       "  </tbody>\n",
       "</table>\n",
       "</div>"
      ],
      "text/plain": [
       "                        universe_id universe_training_year  \\\n",
       "0  a6cd33df1c2d446060ffdb239b964dbe                   2014   \n",
       "\n",
       "  universe_training_size universe_scale universe_model  \\\n",
       "0                     5k          scale     elasticnet   \n",
       "\n",
       "  universe_exclude_features universe_exclude_subgroups     q_hat  coverage  \\\n",
       "0                      none                   keep-all  0.683921  0.909965   \n",
       "\n",
       "   avg_size  cov_frau1  cov_nongerman  cov_nongerman_male  \\\n",
       "0  1.133497   0.907103        0.91029            0.929028   \n",
       "\n",
       "   cov_nongerman_female  \n",
       "0              0.879285  "
      ]
     },
     "execution_count": 58,
     "metadata": {},
     "output_type": "execute_result"
    }
   ],
   "source": [
    "cp_metrics_df"
   ]
  },
  {
   "cell_type": "markdown",
   "id": "33774451",
   "metadata": {
    "papermill": {
     "duration": 0.022922,
     "end_time": "2025-08-05T15:26:06.283542",
     "exception": false,
     "start_time": "2025-08-05T15:26:06.260620",
     "status": "completed"
    },
    "tags": []
   },
   "source": [
    "# (Fairness) Metrics"
   ]
  },
  {
   "cell_type": "code",
   "execution_count": 59,
   "id": "debc5d62",
   "metadata": {
    "execution": {
     "iopub.execute_input": "2025-08-05T15:26:06.310730Z",
     "iopub.status.busy": "2025-08-05T15:26:06.310360Z",
     "iopub.status.idle": "2025-08-05T15:26:06.332322Z",
     "shell.execute_reply": "2025-08-05T15:26:06.331219Z"
    },
    "papermill": {
     "duration": 0.036714,
     "end_time": "2025-08-05T15:26:06.334066",
     "exception": false,
     "start_time": "2025-08-05T15:26:06.297352",
     "status": "completed"
    },
    "tags": []
   },
   "outputs": [],
   "source": [
    "# do I need to include maxdeutsch1.missing?\n",
    "\n",
    "import numpy as np\n",
    "\n",
    "colname_to_bin = \"maxdeutsch1\"\n",
    "majority_value = org_train[colname_to_bin].mode()[0]\n",
    "\n",
    "org_test[\"majmin\"] = np.where(org_test[colname_to_bin] == majority_value, \"majority\", \"minority\")"
   ]
  },
  {
   "cell_type": "code",
   "execution_count": 60,
   "id": "06a50de5",
   "metadata": {
    "execution": {
     "iopub.execute_input": "2025-08-05T15:26:06.371939Z",
     "iopub.status.busy": "2025-08-05T15:26:06.371587Z",
     "iopub.status.idle": "2025-08-05T15:26:09.226491Z",
     "shell.execute_reply": "2025-08-05T15:26:09.225427Z"
    },
    "papermill": {
     "duration": 2.869795,
     "end_time": "2025-08-05T15:26:09.228380",
     "exception": false,
     "start_time": "2025-08-05T15:26:06.358585",
     "status": "completed"
    },
    "tags": []
   },
   "outputs": [],
   "source": [
    "example_universe = universe.copy()\n",
    "example_universe[\"cutoff\"] = example_universe[\"cutoff\"][0]\n",
    "example_universe[\"eval_fairness_grouping\"] = example_universe[\"eval_fairness_grouping\"][0]\n",
    "fairness_dict, metric_frame = universe_analysis.compute_metrics(\n",
    "    example_universe,\n",
    "    y_pred_prob=probs_test,\n",
    "    y_test=y_true,\n",
    "    org_test=org_test,\n",
    ")"
   ]
  },
  {
   "cell_type": "markdown",
   "id": "f95d4e02",
   "metadata": {
    "papermill": {
     "duration": 0.023714,
     "end_time": "2025-08-05T15:26:09.283420",
     "exception": false,
     "start_time": "2025-08-05T15:26:09.259706",
     "status": "completed"
    },
    "tags": []
   },
   "source": [
    "# Overall"
   ]
  },
  {
   "cell_type": "markdown",
   "id": "bdee4871",
   "metadata": {
    "papermill": {
     "duration": 0.022164,
     "end_time": "2025-08-05T15:26:09.329281",
     "exception": false,
     "start_time": "2025-08-05T15:26:09.307117",
     "status": "completed"
    },
    "tags": []
   },
   "source": [
    "Fairness\n",
    "Main fairness target: Equalized Odds. Seems to be a better fit than equal opportunity, since we're not only interested in Y = 1. Seems to be a better fit than demographic parity, since we also care about accuracy, not just equal distribution of preds.\n",
    "\n",
    "Pick column for computation of fairness metrics\n",
    "\n",
    "Performance\n",
    "Overall performance measures, most interesting in relation to the measures split by group below"
   ]
  },
  {
   "cell_type": "code",
   "execution_count": 61,
   "id": "c4e067c6",
   "metadata": {
    "execution": {
     "iopub.execute_input": "2025-08-05T15:26:09.376749Z",
     "iopub.status.busy": "2025-08-05T15:26:09.376226Z",
     "iopub.status.idle": "2025-08-05T15:26:09.385924Z",
     "shell.execute_reply": "2025-08-05T15:26:09.384765Z"
    },
    "papermill": {
     "duration": 0.034594,
     "end_time": "2025-08-05T15:26:09.387692",
     "exception": false,
     "start_time": "2025-08-05T15:26:09.353098",
     "status": "completed"
    },
    "tags": []
   },
   "outputs": [
    {
     "data": {
      "text/plain": [
       "accuracy                   0.224423\n",
       "balanced accuracy          0.548735\n",
       "f1                         0.245753\n",
       "precision                  0.140391\n",
       "false positive rate        0.887496\n",
       "false negative rate        0.015033\n",
       "selection rate             0.900000\n",
       "count                  89710.000000\n",
       "dtype: float64"
      ]
     },
     "execution_count": 61,
     "metadata": {},
     "output_type": "execute_result"
    }
   ],
   "source": [
    "metric_frame.overall"
   ]
  },
  {
   "cell_type": "markdown",
   "id": "e968fe9d",
   "metadata": {
    "papermill": {
     "duration": 0.023047,
     "end_time": "2025-08-05T15:26:09.435730",
     "exception": false,
     "start_time": "2025-08-05T15:26:09.412683",
     "status": "completed"
    },
    "tags": []
   },
   "source": [
    "By Group"
   ]
  },
  {
   "cell_type": "code",
   "execution_count": 62,
   "id": "ec325bce",
   "metadata": {
    "execution": {
     "iopub.execute_input": "2025-08-05T15:26:09.486888Z",
     "iopub.status.busy": "2025-08-05T15:26:09.486341Z",
     "iopub.status.idle": "2025-08-05T15:26:09.503311Z",
     "shell.execute_reply": "2025-08-05T15:26:09.502241Z"
    },
    "papermill": {
     "duration": 0.046482,
     "end_time": "2025-08-05T15:26:09.505455",
     "exception": false,
     "start_time": "2025-08-05T15:26:09.458973",
     "status": "completed"
    },
    "tags": []
   },
   "outputs": [
    {
     "data": {
      "text/html": [
       "<div>\n",
       "<style scoped>\n",
       "    .dataframe tbody tr th:only-of-type {\n",
       "        vertical-align: middle;\n",
       "    }\n",
       "\n",
       "    .dataframe tbody tr th {\n",
       "        vertical-align: top;\n",
       "    }\n",
       "\n",
       "    .dataframe thead th {\n",
       "        text-align: right;\n",
       "    }\n",
       "</style>\n",
       "<table border=\"1\" class=\"dataframe\">\n",
       "  <thead>\n",
       "    <tr style=\"text-align: right;\">\n",
       "      <th></th>\n",
       "      <th>accuracy</th>\n",
       "      <th>balanced accuracy</th>\n",
       "      <th>f1</th>\n",
       "      <th>precision</th>\n",
       "      <th>false positive rate</th>\n",
       "      <th>false negative rate</th>\n",
       "      <th>selection rate</th>\n",
       "      <th>count</th>\n",
       "    </tr>\n",
       "    <tr>\n",
       "      <th>majmin</th>\n",
       "      <th></th>\n",
       "      <th></th>\n",
       "      <th></th>\n",
       "      <th></th>\n",
       "      <th></th>\n",
       "      <th></th>\n",
       "      <th></th>\n",
       "      <th></th>\n",
       "    </tr>\n",
       "  </thead>\n",
       "  <tbody>\n",
       "    <tr>\n",
       "      <th>majority</th>\n",
       "      <td>0.242461</td>\n",
       "      <td>0.557160</td>\n",
       "      <td>0.255728</td>\n",
       "      <td>0.146940</td>\n",
       "      <td>0.870581</td>\n",
       "      <td>0.015098</td>\n",
       "      <td>0.885687</td>\n",
       "      <td>69170.0</td>\n",
       "    </tr>\n",
       "    <tr>\n",
       "      <th>minority</th>\n",
       "      <td>0.163681</td>\n",
       "      <td>0.520923</td>\n",
       "      <td>0.213606</td>\n",
       "      <td>0.119788</td>\n",
       "      <td>0.943374</td>\n",
       "      <td>0.014780</td>\n",
       "      <td>0.948199</td>\n",
       "      <td>20540.0</td>\n",
       "    </tr>\n",
       "  </tbody>\n",
       "</table>\n",
       "</div>"
      ],
      "text/plain": [
       "          accuracy  balanced accuracy        f1  precision  \\\n",
       "majmin                                                       \n",
       "majority  0.242461           0.557160  0.255728   0.146940   \n",
       "minority  0.163681           0.520923  0.213606   0.119788   \n",
       "\n",
       "          false positive rate  false negative rate  selection rate    count  \n",
       "majmin                                                                       \n",
       "majority             0.870581             0.015098        0.885687  69170.0  \n",
       "minority             0.943374             0.014780        0.948199  20540.0  "
      ]
     },
     "execution_count": 62,
     "metadata": {},
     "output_type": "execute_result"
    }
   ],
   "source": [
    "metric_frame.by_group"
   ]
  },
  {
   "cell_type": "code",
   "execution_count": 63,
   "id": "a9ddbe63",
   "metadata": {
    "execution": {
     "iopub.execute_input": "2025-08-05T15:26:09.569623Z",
     "iopub.status.busy": "2025-08-05T15:26:09.568851Z",
     "iopub.status.idle": "2025-08-05T15:26:11.771750Z",
     "shell.execute_reply": "2025-08-05T15:26:11.770840Z"
    },
    "papermill": {
     "duration": 2.236614,
     "end_time": "2025-08-05T15:26:11.773573",
     "exception": false,
     "start_time": "2025-08-05T15:26:09.536959",
     "status": "completed"
    },
    "tags": []
   },
   "outputs": [
    {
     "data": {
      "text/plain": [
       "array([[<Axes: title={'center': 'accuracy'}, xlabel='majmin'>,\n",
       "        <Axes: title={'center': 'balanced accuracy'}, xlabel='majmin'>,\n",
       "        <Axes: title={'center': 'f1'}, xlabel='majmin'>],\n",
       "       [<Axes: title={'center': 'precision'}, xlabel='majmin'>,\n",
       "        <Axes: title={'center': 'false positive rate'}, xlabel='majmin'>,\n",
       "        <Axes: title={'center': 'false negative rate'}, xlabel='majmin'>],\n",
       "       [<Axes: title={'center': 'selection rate'}, xlabel='majmin'>,\n",
       "        <Axes: title={'center': 'count'}, xlabel='majmin'>,\n",
       "        <Axes: xlabel='majmin'>]], dtype=object)"
      ]
     },
     "execution_count": 63,
     "metadata": {},
     "output_type": "execute_result"
    },
    {
     "data": {
      "image/png": "[encoded data removed]",
      "text/plain": [
       "<Figure size 1200x800 with 9 Axes>"
      ]
     },
     "metadata": {},
     "output_type": "display_data"
    }
   ],
   "source": [
    "# In a graphic\n",
    "metric_frame.by_group.plot.bar(\n",
    "    subplots=True,\n",
    "    layout=[3, 3],\n",
    "    legend=False,\n",
    "    figsize=[12, 8],\n",
    "    title=\"Show all metrics\",\n",
    ")"
   ]
  },
  {
   "cell_type": "markdown",
   "id": "f57a0bac",
   "metadata": {
    "papermill": {
     "duration": 0.023803,
     "end_time": "2025-08-05T15:26:11.823524",
     "exception": false,
     "start_time": "2025-08-05T15:26:11.799721",
     "status": "completed"
    },
    "tags": []
   },
   "source": [
    "# Final Output"
   ]
  },
  {
   "cell_type": "code",
   "execution_count": 64,
   "id": "96d280a3",
   "metadata": {
    "execution": {
     "iopub.execute_input": "2025-08-05T15:26:11.874362Z",
     "iopub.status.busy": "2025-08-05T15:26:11.873723Z",
     "iopub.status.idle": "2025-08-05T15:26:11.882657Z",
     "shell.execute_reply": "2025-08-05T15:26:11.881651Z"
    },
    "papermill": {
     "duration": 0.037657,
     "end_time": "2025-08-05T15:26:11.884195",
     "exception": false,
     "start_time": "2025-08-05T15:26:11.846538",
     "status": "completed"
    },
    "tags": []
   },
   "outputs": [
    {
     "data": {
      "text/plain": [
       "4"
      ]
     },
     "execution_count": 64,
     "metadata": {},
     "output_type": "execute_result"
    }
   ],
   "source": [
    "sub_universes = universe_analysis.generate_sub_universes()\n",
    "len(sub_universes)"
   ]
  },
  {
   "cell_type": "code",
   "execution_count": 65,
   "id": "92adf7ba",
   "metadata": {
    "execution": {
     "iopub.execute_input": "2025-08-05T15:26:11.938376Z",
     "iopub.status.busy": "2025-08-05T15:26:11.937951Z",
     "iopub.status.idle": "2025-08-05T15:26:11.944052Z",
     "shell.execute_reply": "2025-08-05T15:26:11.943144Z"
    },
    "papermill": {
     "duration": 0.035524,
     "end_time": "2025-08-05T15:26:11.945683",
     "exception": false,
     "start_time": "2025-08-05T15:26:11.910159",
     "status": "completed"
    },
    "tags": []
   },
   "outputs": [],
   "source": [
    "def filter_sub_universe_data(sub_universe, org_test):\n",
    "    # Keep all rows — no filtering\n",
    "    keep_rows_mask = np.ones(org_test.shape[0], dtype=bool)\n",
    "\n",
    "    print(f\"[INFO] Keeping all rows: {keep_rows_mask.sum()} rows retained.\")\n",
    "    return keep_rows_mask"
   ]
  },
  {
   "cell_type": "code",
   "execution_count": 66,
   "id": "4a759155",
   "metadata": {
    "execution": {
     "iopub.execute_input": "2025-08-05T15:26:11.999516Z",
     "iopub.status.busy": "2025-08-05T15:26:11.998725Z",
     "iopub.status.idle": "2025-08-05T15:26:21.568718Z",
     "shell.execute_reply": "2025-08-05T15:26:21.567778Z"
    },
    "papermill": {
     "duration": 9.598265,
     "end_time": "2025-08-05T15:26:21.570497",
     "exception": false,
     "start_time": "2025-08-05T15:26:11.972232",
     "status": "completed"
    },
    "tags": []
   },
   "outputs": [
    {
     "name": "stdout",
     "output_type": "stream",
     "text": [
      "Stopping execution_time clock.\n",
      "[INFO] Keeping all rows: 89710 rows retained.\n"
     ]
    },
    {
     "name": "stdout",
     "output_type": "stream",
     "text": [
      "[INFO] Keeping all rows: 89710 rows retained.\n"
     ]
    },
    {
     "name": "stdout",
     "output_type": "stream",
     "text": [
      "[INFO] Keeping all rows: 89710 rows retained.\n"
     ]
    },
    {
     "name": "stdout",
     "output_type": "stream",
     "text": [
      "[INFO] Keeping all rows: 89710 rows retained.\n"
     ]
    },
    {
     "data": {
      "text/html": [
       "<div>\n",
       "<style scoped>\n",
       "    .dataframe tbody tr th:only-of-type {\n",
       "        vertical-align: middle;\n",
       "    }\n",
       "\n",
       "    .dataframe tbody tr th {\n",
       "        vertical-align: top;\n",
       "    }\n",
       "\n",
       "    .dataframe thead th {\n",
       "        text-align: right;\n",
       "    }\n",
       "</style>\n",
       "<table border=\"1\" class=\"dataframe\">\n",
       "  <thead>\n",
       "    <tr style=\"text-align: right;\">\n",
       "      <th></th>\n",
       "      <th>run_no</th>\n",
       "      <th>universe_id</th>\n",
       "      <th>universe_settings</th>\n",
       "      <th>execution_time</th>\n",
       "      <th>test_size_n</th>\n",
       "      <th>test_size_frac</th>\n",
       "      <th>fair_main_equalized_odds_difference</th>\n",
       "      <th>fair_main_equalized_odds_ratio</th>\n",
       "      <th>fair_main_demographic_parity_difference</th>\n",
       "      <th>fair_main_demographic_parity_ratio</th>\n",
       "      <th>...</th>\n",
       "      <th>perf_grp_precision_0</th>\n",
       "      <th>perf_grp_precision_1</th>\n",
       "      <th>perf_grp_false positive rate_0</th>\n",
       "      <th>perf_grp_false positive rate_1</th>\n",
       "      <th>perf_grp_false negative rate_0</th>\n",
       "      <th>perf_grp_false negative rate_1</th>\n",
       "      <th>perf_grp_selection rate_0</th>\n",
       "      <th>perf_grp_selection rate_1</th>\n",
       "      <th>perf_grp_count_0</th>\n",
       "      <th>perf_grp_count_1</th>\n",
       "    </tr>\n",
       "  </thead>\n",
       "  <tbody>\n",
       "    <tr>\n",
       "      <th>0</th>\n",
       "      <td>15</td>\n",
       "      <td>a6cd33df1c2d446060ffdb239b964dbe</td>\n",
       "      <td>{\"cutoff\": \"quantile_0.1\", \"eval_fairness_grou...</td>\n",
       "      <td>25.93694</td>\n",
       "      <td>89710</td>\n",
       "      <td>1.0</td>\n",
       "      <td>0.072793</td>\n",
       "      <td>0.922838</td>\n",
       "      <td>0.062511</td>\n",
       "      <td>0.934074</td>\n",
       "      <td>...</td>\n",
       "      <td>NaN</td>\n",
       "      <td>NaN</td>\n",
       "      <td>NaN</td>\n",
       "      <td>NaN</td>\n",
       "      <td>NaN</td>\n",
       "      <td>NaN</td>\n",
       "      <td>NaN</td>\n",
       "      <td>NaN</td>\n",
       "      <td>NaN</td>\n",
       "      <td>NaN</td>\n",
       "    </tr>\n",
       "    <tr>\n",
       "      <th>0</th>\n",
       "      <td>15</td>\n",
       "      <td>a6cd33df1c2d446060ffdb239b964dbe</td>\n",
       "      <td>{\"cutoff\": \"quantile_0.1\", \"eval_fairness_grou...</td>\n",
       "      <td>25.93694</td>\n",
       "      <td>89710</td>\n",
       "      <td>1.0</td>\n",
       "      <td>0.072793</td>\n",
       "      <td>0.922838</td>\n",
       "      <td>0.062511</td>\n",
       "      <td>0.934074</td>\n",
       "      <td>...</td>\n",
       "      <td>0.119788</td>\n",
       "      <td>0.146940</td>\n",
       "      <td>0.943374</td>\n",
       "      <td>0.870581</td>\n",
       "      <td>0.014780</td>\n",
       "      <td>0.015098</td>\n",
       "      <td>0.948199</td>\n",
       "      <td>0.885687</td>\n",
       "      <td>20540.0</td>\n",
       "      <td>69170.0</td>\n",
       "    </tr>\n",
       "    <tr>\n",
       "      <th>0</th>\n",
       "      <td>15</td>\n",
       "      <td>a6cd33df1c2d446060ffdb239b964dbe</td>\n",
       "      <td>{\"cutoff\": \"quantile_0.25\", \"eval_fairness_gro...</td>\n",
       "      <td>25.93694</td>\n",
       "      <td>89710</td>\n",
       "      <td>1.0</td>\n",
       "      <td>0.150956</td>\n",
       "      <td>0.819907</td>\n",
       "      <td>0.130776</td>\n",
       "      <td>0.846296</td>\n",
       "      <td>...</td>\n",
       "      <td>NaN</td>\n",
       "      <td>NaN</td>\n",
       "      <td>NaN</td>\n",
       "      <td>NaN</td>\n",
       "      <td>NaN</td>\n",
       "      <td>NaN</td>\n",
       "      <td>NaN</td>\n",
       "      <td>NaN</td>\n",
       "      <td>NaN</td>\n",
       "      <td>NaN</td>\n",
       "    </tr>\n",
       "    <tr>\n",
       "      <th>0</th>\n",
       "      <td>15</td>\n",
       "      <td>a6cd33df1c2d446060ffdb239b964dbe</td>\n",
       "      <td>{\"cutoff\": \"quantile_0.25\", \"eval_fairness_gro...</td>\n",
       "      <td>25.93694</td>\n",
       "      <td>89710</td>\n",
       "      <td>1.0</td>\n",
       "      <td>0.150956</td>\n",
       "      <td>0.819907</td>\n",
       "      <td>0.130776</td>\n",
       "      <td>0.846296</td>\n",
       "      <td>...</td>\n",
       "      <td>0.128405</td>\n",
       "      <td>0.171666</td>\n",
       "      <td>0.838213</td>\n",
       "      <td>0.687256</td>\n",
       "      <td>0.052365</td>\n",
       "      <td>0.064551</td>\n",
       "      <td>0.850828</td>\n",
       "      <td>0.720052</td>\n",
       "      <td>20540.0</td>\n",
       "      <td>69170.0</td>\n",
       "    </tr>\n",
       "  </tbody>\n",
       "</table>\n",
       "<p>4 rows × 50 columns</p>\n",
       "</div>"
      ],
      "text/plain": [
       "  run_no                       universe_id  \\\n",
       "0     15  a6cd33df1c2d446060ffdb239b964dbe   \n",
       "0     15  a6cd33df1c2d446060ffdb239b964dbe   \n",
       "0     15  a6cd33df1c2d446060ffdb239b964dbe   \n",
       "0     15  a6cd33df1c2d446060ffdb239b964dbe   \n",
       "\n",
       "                                   universe_settings  execution_time  \\\n",
       "0  {\"cutoff\": \"quantile_0.1\", \"eval_fairness_grou...        25.93694   \n",
       "0  {\"cutoff\": \"quantile_0.1\", \"eval_fairness_grou...        25.93694   \n",
       "0  {\"cutoff\": \"quantile_0.25\", \"eval_fairness_gro...        25.93694   \n",
       "0  {\"cutoff\": \"quantile_0.25\", \"eval_fairness_gro...        25.93694   \n",
       "\n",
       "   test_size_n  test_size_frac  fair_main_equalized_odds_difference  \\\n",
       "0        89710             1.0                             0.072793   \n",
       "0        89710             1.0                             0.072793   \n",
       "0        89710             1.0                             0.150956   \n",
       "0        89710             1.0                             0.150956   \n",
       "\n",
       "   fair_main_equalized_odds_ratio  fair_main_demographic_parity_difference  \\\n",
       "0                        0.922838                                 0.062511   \n",
       "0                        0.922838                                 0.062511   \n",
       "0                        0.819907                                 0.130776   \n",
       "0                        0.819907                                 0.130776   \n",
       "\n",
       "   fair_main_demographic_parity_ratio  ...  perf_grp_precision_0  \\\n",
       "0                            0.934074  ...                   NaN   \n",
       "0                            0.934074  ...              0.119788   \n",
       "0                            0.846296  ...                   NaN   \n",
       "0                            0.846296  ...              0.128405   \n",
       "\n",
       "   perf_grp_precision_1  perf_grp_false positive rate_0  \\\n",
       "0                   NaN                             NaN   \n",
       "0              0.146940                        0.943374   \n",
       "0                   NaN                             NaN   \n",
       "0              0.171666                        0.838213   \n",
       "\n",
       "   perf_grp_false positive rate_1  perf_grp_false negative rate_0  \\\n",
       "0                             NaN                             NaN   \n",
       "0                        0.870581                        0.014780   \n",
       "0                             NaN                             NaN   \n",
       "0                        0.687256                        0.052365   \n",
       "\n",
       "   perf_grp_false negative rate_1  perf_grp_selection rate_0  \\\n",
       "0                             NaN                        NaN   \n",
       "0                        0.015098                   0.948199   \n",
       "0                             NaN                        NaN   \n",
       "0                        0.064551                   0.850828   \n",
       "\n",
       "   perf_grp_selection rate_1  perf_grp_count_0  perf_grp_count_1  \n",
       "0                        NaN               NaN               NaN  \n",
       "0                   0.885687           20540.0           69170.0  \n",
       "0                        NaN               NaN               NaN  \n",
       "0                   0.720052           20540.0           69170.0  \n",
       "\n",
       "[4 rows x 50 columns]"
      ]
     },
     "execution_count": 66,
     "metadata": {},
     "output_type": "execute_result"
    }
   ],
   "source": [
    "final_output = universe_analysis.generate_final_output(\n",
    "    y_pred_prob=probs_test,\n",
    "    y_test=y_true,\n",
    "    org_test=org_test,\n",
    "    filter_data=filter_sub_universe_data,\n",
    "    cp_metrics_df=cp_metrics_df,\n",
    "    save=True,\n",
    ")\n",
    "final_output"
   ]
  }
 ],
 "metadata": {
  "celltoolbar": "Tags",
  "kernelspec": {
   "display_name": "Python (CMA Fairness)",
   "language": "python",
   "name": "cma_fair_env"
  },
  "language_info": {
   "codemirror_mode": {
    "name": "ipython",
    "version": 3
   },
   "file_extension": ".py",
   "mimetype": "text/x-python",
   "name": "python",
   "nbconvert_exporter": "python",
   "pygments_lexer": "ipython3",
   "version": "3.10.12"
  },
  "papermill": {
   "default_parameters": {},
   "duration": 39.570714,
   "end_time": "2025-08-05T15:26:22.328211",
   "environment_variables": {},
   "exception": null,
   "input_path": "universe_analysis.ipynb",
   "output_path": "output/runs/15/notebooks/m_15-a6cd33df1c2d446060ffdb239b964dbe.ipynb",
   "parameters": {
    "output_dir": "output",
    "run_no": "15",
    "seed": "2023",
    "universe": "{\"cutoff\": [\"quantile_0.1\", \"quantile_0.25\"], \"eval_fairness_grouping\": [\"majority-minority\", \"nationality-all\"], \"exclude_features\": \"none\", \"exclude_subgroups\": \"keep-all\", \"model\": \"elasticnet\", \"scale\": \"scale\", \"training_size\": \"5k\", \"training_year\": \"2014\"}",
    "universe_id": "a6cd33df1c2d446060ffdb239b964dbe"
   },
   "start_time": "2025-08-05T15:25:42.757497",
   "version": "2.6.0"
  }
 },
 "nbformat": 4,
 "nbformat_minor": 5
}