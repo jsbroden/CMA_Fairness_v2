{
 "cells": [
  {
   "cell_type": "code",
   "execution_count": 1,
   "id": "f159f837-637b-42ba-96b5-ec9a68c44524",
   "metadata": {
    "execution": {
     "iopub.execute_input": "2025-08-05T15:31:42.919710Z",
     "iopub.status.busy": "2025-08-05T15:31:42.919226Z",
     "iopub.status.idle": "2025-08-05T15:31:42.934275Z",
     "shell.execute_reply": "2025-08-05T15:31:42.933361Z"
    },
    "papermill": {
     "duration": 0.033857,
     "end_time": "2025-08-05T15:31:42.936113",
     "exception": false,
     "start_time": "2025-08-05T15:31:42.902256",
     "status": "completed"
    },
    "tags": []
   },
   "outputs": [
    {
     "name": "stdout",
     "output_type": "stream",
     "text": [
      "/dss/dsshome1/0C/ra93lal2/cma/CMA_Fairness_v2\n"
     ]
    },
    {
     "name": "stderr",
     "output_type": "stream",
     "text": [
      "/dss/dsshome1/0C/ra93lal2/.local/share/virtualenvs/CMA_Fairness_v2-3j10GkSs/lib/python3.10/site-packages/IPython/core/magics/osm.py:393: UserWarning: This is now an optional IPython functionality, using bookmarks requires you to install the `pickleshare` library.\n",
      "  bkms = self.shell.db.get('bookmarks', {})\n",
      "/dss/dsshome1/0C/ra93lal2/.local/share/virtualenvs/CMA_Fairness_v2-3j10GkSs/lib/python3.10/site-packages/IPython/core/magics/osm.py:417: UserWarning: This is now an optional IPython functionality, setting dhist requires you to install the `pickleshare` library.\n",
      "  self.shell.db['dhist'] = compress_dhist(dhist)[-100:]\n"
     ]
    }
   ],
   "source": [
    "%cd ~/cma/CMA_Fairness_v2"
   ]
  },
  {
   "cell_type": "markdown",
   "id": "de2603b9",
   "metadata": {
    "papermill": {
     "duration": 0.015399,
     "end_time": "2025-08-05T15:31:42.967415",
     "exception": false,
     "start_time": "2025-08-05T15:31:42.952016",
     "status": "completed"
    },
    "tags": []
   },
   "source": [
    "The following cell holds the definition of our parameters, these values can be overriden by rendering the with e.g. the following command:\n",
    "\n",
    "papermill -p alpha 0.2 -p ratio 0.3 universe_analysis.ipynb output/test_run.ipynb"
   ]
  },
  {
   "cell_type": "code",
   "execution_count": 2,
   "id": "a80968a0-40bb-4fa9-85ef-2d5eefb01975",
   "metadata": {
    "execution": {
     "iopub.execute_input": "2025-08-05T15:31:43.000890Z",
     "iopub.status.busy": "2025-08-05T15:31:42.999901Z",
     "iopub.status.idle": "2025-08-05T15:31:43.005623Z",
     "shell.execute_reply": "2025-08-05T15:31:43.004795Z"
    },
    "papermill": {
     "duration": 0.023612,
     "end_time": "2025-08-05T15:31:43.007158",
     "exception": false,
     "start_time": "2025-08-05T15:31:42.983546",
     "status": "completed"
    },
    "tags": []
   },
   "outputs": [
    {
     "name": "stdout",
     "output_type": "stream",
     "text": [
      "Current working directory: /dss/dsshome1/0C/ra93lal2/cma/CMA_Fairness_v2\n"
     ]
    }
   ],
   "source": [
    "import os\n",
    "print(\"Current working directory:\", os.getcwd())"
   ]
  },
  {
   "cell_type": "code",
   "execution_count": 3,
   "id": "2dce4c03",
   "metadata": {
    "execution": {
     "iopub.execute_input": "2025-08-05T15:31:43.043200Z",
     "iopub.status.busy": "2025-08-05T15:31:43.042558Z",
     "iopub.status.idle": "2025-08-05T15:31:43.048636Z",
     "shell.execute_reply": "2025-08-05T15:31:43.047762Z"
    },
    "papermill": {
     "duration": 0.025056,
     "end_time": "2025-08-05T15:31:43.050396",
     "exception": false,
     "start_time": "2025-08-05T15:31:43.025340",
     "status": "completed"
    },
    "tags": [
     "parameters"
    ]
   },
   "outputs": [],
   "source": [
    "run_no = 0\n",
    "universe_id = \"test\"\n",
    "universe = {\n",
    "    \"training_size\": \"25k\", # \"25k\", \"5k\", \"1k\"\n",
    "    \"training_year\": \"2014\", # \"2014\", \"2012_14\", \"2010_14\"\n",
    "    \"scale\": \"scale\", # \"scale\", \"do-not-scale\",\n",
    "    \"model\": \"elasticnet\", # \"logreg\", \"penalized_logreg\", \"rf\", \"gbm\", \"elasticnet\"\n",
    "    \"cutoff\": [\"quantile_0.15\", \"quantile_0.30\"],\n",
    "    \"exclude_features\": \"age\", # \"none\", \"nationality\", \"sex\", \"nationality-sex\", \"age\"\n",
    "    \"exclude_subgroups\": \"keep-all\", # \"keep-all\", \"drop-non-german\"\n",
    "    \"eval_fairness_grouping\": [\"majority-minority\", \"nationality-all\"]\n",
    "}\n",
    "\n",
    "output_dir=\"./output\"\n",
    "seed=0"
   ]
  },
  {
   "cell_type": "code",
   "execution_count": 4,
   "id": "f206d0af",
   "metadata": {
    "execution": {
     "iopub.execute_input": "2025-08-05T15:31:43.084030Z",
     "iopub.status.busy": "2025-08-05T15:31:43.083413Z",
     "iopub.status.idle": "2025-08-05T15:31:43.088466Z",
     "shell.execute_reply": "2025-08-05T15:31:43.087533Z"
    },
    "papermill": {
     "duration": 0.029291,
     "end_time": "2025-08-05T15:31:43.095753",
     "exception": false,
     "start_time": "2025-08-05T15:31:43.066462",
     "status": "completed"
    },
    "tags": [
     "injected-parameters"
    ]
   },
   "outputs": [],
   "source": [
    "# Parameters\n",
    "universe_id = \"2f3fa3502cc024b67f76376a81dc38f0\"\n",
    "run_no = \"15\"\n",
    "universe = \"{\\\"cutoff\\\": [\\\"quantile_0.1\\\", \\\"quantile_0.25\\\"], \\\"eval_fairness_grouping\\\": [\\\"majority-minority\\\", \\\"nationality-all\\\"], \\\"exclude_features\\\": \\\"sex\\\", \\\"exclude_subgroups\\\": \\\"keep-all\\\", \\\"model\\\": \\\"gbm\\\", \\\"scale\\\": \\\"do-not-scale\\\", \\\"training_size\\\": \\\"5k\\\", \\\"training_year\\\": \\\"2014\\\"}\"\n",
    "output_dir = \"output\"\n",
    "seed = \"2023\"\n"
   ]
  },
  {
   "cell_type": "code",
   "execution_count": 5,
   "id": "1650acaf",
   "metadata": {
    "execution": {
     "iopub.execute_input": "2025-08-05T15:31:43.133691Z",
     "iopub.status.busy": "2025-08-05T15:31:43.133328Z",
     "iopub.status.idle": "2025-08-05T15:31:43.137917Z",
     "shell.execute_reply": "2025-08-05T15:31:43.136791Z"
    },
    "papermill": {
     "duration": 0.024657,
     "end_time": "2025-08-05T15:31:43.139628",
     "exception": false,
     "start_time": "2025-08-05T15:31:43.114971",
     "status": "completed"
    },
    "tags": []
   },
   "outputs": [],
   "source": [
    "import json\n",
    "if isinstance(universe, str):\n",
    "    universe = json.loads(universe)"
   ]
  },
  {
   "cell_type": "code",
   "execution_count": 6,
   "id": "16620c48",
   "metadata": {
    "execution": {
     "iopub.execute_input": "2025-08-05T15:31:43.177064Z",
     "iopub.status.busy": "2025-08-05T15:31:43.176363Z",
     "iopub.status.idle": "2025-08-05T15:31:43.219867Z",
     "shell.execute_reply": "2025-08-05T15:31:43.219059Z"
    },
    "papermill": {
     "duration": 0.06381,
     "end_time": "2025-08-05T15:31:43.221475",
     "exception": false,
     "start_time": "2025-08-05T15:31:43.157665",
     "status": "completed"
    },
    "tags": []
   },
   "outputs": [],
   "source": [
    "# Auto-reload the custom package\n",
    "%load_ext autoreload\n",
    "%autoreload 1\n",
    "%aimport fairness_multiverse"
   ]
  },
  {
   "cell_type": "code",
   "execution_count": 7,
   "id": "01c5c9f3",
   "metadata": {
    "execution": {
     "iopub.execute_input": "2025-08-05T15:31:43.257752Z",
     "iopub.status.busy": "2025-08-05T15:31:43.257047Z",
     "iopub.status.idle": "2025-08-05T15:31:45.175507Z",
     "shell.execute_reply": "2025-08-05T15:31:45.174518Z"
    },
    "papermill": {
     "duration": 1.938978,
     "end_time": "2025-08-05T15:31:45.177536",
     "exception": false,
     "start_time": "2025-08-05T15:31:43.238558",
     "status": "completed"
    },
    "tags": []
   },
   "outputs": [],
   "source": [
    "from fairness_multiverse.universe import UniverseAnalysis\n",
    "\n",
    "universe_analysis = UniverseAnalysis(\n",
    "    run_no = run_no,\n",
    "    universe_id = universe_id,\n",
    "    universe = universe,\n",
    "    output_dir=output_dir,\n",
    ")"
   ]
  },
  {
   "cell_type": "code",
   "execution_count": 8,
   "id": "106241f5",
   "metadata": {
    "execution": {
     "iopub.execute_input": "2025-08-05T15:31:45.214863Z",
     "iopub.status.busy": "2025-08-05T15:31:45.214139Z",
     "iopub.status.idle": "2025-08-05T15:31:45.221207Z",
     "shell.execute_reply": "2025-08-05T15:31:45.220185Z"
    },
    "papermill": {
     "duration": 0.027779,
     "end_time": "2025-08-05T15:31:45.223019",
     "exception": false,
     "start_time": "2025-08-05T15:31:45.195240",
     "status": "completed"
    },
    "tags": []
   },
   "outputs": [
    {
     "name": "stdout",
     "output_type": "stream",
     "text": [
      "Using Seed: 2023\n"
     ]
    }
   ],
   "source": [
    "import numpy as np\n",
    "parsed_seed = int(seed)\n",
    "np.random.seed(parsed_seed)\n",
    "print(f\"Using Seed: {parsed_seed}\")"
   ]
  },
  {
   "cell_type": "markdown",
   "id": "e0ebdc57",
   "metadata": {
    "papermill": {
     "duration": 0.016642,
     "end_time": "2025-08-05T15:31:45.255948",
     "exception": false,
     "start_time": "2025-08-05T15:31:45.239306",
     "status": "completed"
    },
    "tags": []
   },
   "source": [
    "# Loading Data"
   ]
  },
  {
   "cell_type": "code",
   "execution_count": 9,
   "id": "f0496b8a",
   "metadata": {
    "execution": {
     "iopub.execute_input": "2025-08-05T15:31:45.294127Z",
     "iopub.status.busy": "2025-08-05T15:31:45.293352Z",
     "iopub.status.idle": "2025-08-05T15:31:55.895850Z",
     "shell.execute_reply": "2025-08-05T15:31:55.894705Z"
    },
    "papermill": {
     "duration": 10.623645,
     "end_time": "2025-08-05T15:31:55.897205",
     "exception": false,
     "start_time": "2025-08-05T15:31:45.273560",
     "status": "completed"
    },
    "tags": []
   },
   "outputs": [
    {
     "name": "stdout",
     "output_type": "stream",
     "text": [
      "Loading SIAB data from cache: data/siab_cached.csv.gz\n"
     ]
    },
    {
     "name": "stdout",
     "output_type": "stream",
     "text": [
      "(643690, 164)\n"
     ]
    }
   ],
   "source": [
    "from pathlib import Path\n",
    "import pandas as pd\n",
    "\n",
    "# File paths\n",
    "raw_file = Path(\"data/raw/siab.csv\")\n",
    "cache_file = Path(\"data/siab_cached.csv.gz\")\n",
    "\n",
    "# Ensure cache directory exists\n",
    "cache_file.parent.mkdir(parents=True, exist_ok=True)\n",
    "\n",
    "# Load with simple caching\n",
    "if cache_file.exists():\n",
    "    print(f\"Loading SIAB data from cache: {cache_file}\")\n",
    "    siab = pd.read_csv(cache_file, compression='gzip')\n",
    "else:\n",
    "    print(f\"Cache not found. Reading raw SIAB data: {raw_file}\")\n",
    "    siab = pd.read_csv(raw_file)\n",
    "    siab.to_csv(cache_file, index=False, compression='gzip')\n",
    "    print(f\"Cached SIAB data to: {cache_file}\")\n",
    "\n",
    "print(siab.shape)"
   ]
  },
  {
   "cell_type": "code",
   "execution_count": 10,
   "id": "db0ca512-5f53-4dba-abdb-a2888bca41ba",
   "metadata": {
    "execution": {
     "iopub.execute_input": "2025-08-05T15:31:55.920144Z",
     "iopub.status.busy": "2025-08-05T15:31:55.919800Z",
     "iopub.status.idle": "2025-08-05T15:31:55.924314Z",
     "shell.execute_reply": "2025-08-05T15:31:55.923471Z"
    },
    "papermill": {
     "duration": 0.015785,
     "end_time": "2025-08-05T15:31:55.925817",
     "exception": false,
     "start_time": "2025-08-05T15:31:55.910032",
     "status": "completed"
    },
    "tags": []
   },
   "outputs": [],
   "source": [
    "#siab"
   ]
  },
  {
   "cell_type": "markdown",
   "id": "997051c5-15bd-4b69-9786-c3001a3ce484",
   "metadata": {
    "papermill": {
     "duration": 0.008615,
     "end_time": "2025-08-05T15:31:55.943615",
     "exception": false,
     "start_time": "2025-08-05T15:31:55.935000",
     "status": "completed"
    },
    "tags": []
   },
   "source": [
    "# Splitting Data and Setting Training Data Size"
   ]
  },
  {
   "cell_type": "code",
   "execution_count": 11,
   "id": "aea9c6ef-6f46-42c8-85eb-5a62025c1508",
   "metadata": {
    "execution": {
     "iopub.execute_input": "2025-08-05T15:31:55.965739Z",
     "iopub.status.busy": "2025-08-05T15:31:55.965067Z",
     "iopub.status.idle": "2025-08-05T15:31:56.124826Z",
     "shell.execute_reply": "2025-08-05T15:31:56.124066Z"
    },
    "papermill": {
     "duration": 0.171883,
     "end_time": "2025-08-05T15:31:56.126371",
     "exception": false,
     "start_time": "2025-08-05T15:31:55.954488",
     "status": "completed"
    },
    "tags": []
   },
   "outputs": [],
   "source": [
    "from fairness_multiverse.universe import sample_by_year_size\n",
    "\n",
    "siab_train = sample_by_year_size(siab,\n",
    "                               training_year=universe[\"training_year\"],\n",
    "                               training_size=universe[\"training_size\"])"
   ]
  },
  {
   "cell_type": "code",
   "execution_count": 12,
   "id": "8d3afb32-789d-442c-8d5d-9f5aa8dd2eed",
   "metadata": {
    "execution": {
     "iopub.execute_input": "2025-08-05T15:31:56.145596Z",
     "iopub.status.busy": "2025-08-05T15:31:56.145239Z",
     "iopub.status.idle": "2025-08-05T15:31:56.149225Z",
     "shell.execute_reply": "2025-08-05T15:31:56.148391Z"
    },
    "papermill": {
     "duration": 0.014928,
     "end_time": "2025-08-05T15:31:56.150667",
     "exception": false,
     "start_time": "2025-08-05T15:31:56.135739",
     "status": "completed"
    },
    "tags": []
   },
   "outputs": [],
   "source": [
    "#siab_train.shape"
   ]
  },
  {
   "cell_type": "code",
   "execution_count": 13,
   "id": "d582db68-1a4c-47fb-84fc-08518dc1975a",
   "metadata": {
    "execution": {
     "iopub.execute_input": "2025-08-05T15:31:56.170023Z",
     "iopub.status.busy": "2025-08-05T15:31:56.169657Z",
     "iopub.status.idle": "2025-08-05T15:31:56.173739Z",
     "shell.execute_reply": "2025-08-05T15:31:56.172933Z"
    },
    "papermill": {
     "duration": 0.015199,
     "end_time": "2025-08-05T15:31:56.175222",
     "exception": false,
     "start_time": "2025-08-05T15:31:56.160023",
     "status": "completed"
    },
    "tags": []
   },
   "outputs": [],
   "source": [
    "#display(siab_train.groupby(\"year\").size())"
   ]
  },
  {
   "cell_type": "code",
   "execution_count": 14,
   "id": "a561edb4-d032-42cb-8256-22eac1111c64",
   "metadata": {
    "execution": {
     "iopub.execute_input": "2025-08-05T15:31:56.195029Z",
     "iopub.status.busy": "2025-08-05T15:31:56.194376Z",
     "iopub.status.idle": "2025-08-05T15:31:56.373890Z",
     "shell.execute_reply": "2025-08-05T15:31:56.373068Z"
    },
    "papermill": {
     "duration": 0.190636,
     "end_time": "2025-08-05T15:31:56.375371",
     "exception": false,
     "start_time": "2025-08-05T15:31:56.184735",
     "status": "completed"
    },
    "tags": []
   },
   "outputs": [],
   "source": [
    "#siab_train = siab_s[siab_s.year < 2015]\n",
    "siab_calib = siab[siab.year == 2015]\n",
    "siab_test = siab[siab.year == 2016]"
   ]
  },
  {
   "cell_type": "code",
   "execution_count": 15,
   "id": "472de16f-c3db-4916-846b-1f0de9cf1746",
   "metadata": {
    "execution": {
     "iopub.execute_input": "2025-08-05T15:31:56.394847Z",
     "iopub.status.busy": "2025-08-05T15:31:56.394550Z",
     "iopub.status.idle": "2025-08-05T15:31:56.401025Z",
     "shell.execute_reply": "2025-08-05T15:31:56.400222Z"
    },
    "papermill": {
     "duration": 0.017594,
     "end_time": "2025-08-05T15:31:56.402456",
     "exception": false,
     "start_time": "2025-08-05T15:31:56.384862",
     "status": "completed"
    },
    "tags": []
   },
   "outputs": [],
   "source": [
    "X_train = siab_train.iloc[:,4:164]\n",
    "y_train = siab_train.iloc[:, [3]]"
   ]
  },
  {
   "cell_type": "code",
   "execution_count": 16,
   "id": "828c96af-f43a-4ed6-ba47-8ac73a47d56c",
   "metadata": {
    "execution": {
     "iopub.execute_input": "2025-08-05T15:31:56.422308Z",
     "iopub.status.busy": "2025-08-05T15:31:56.421798Z",
     "iopub.status.idle": "2025-08-05T15:31:56.467693Z",
     "shell.execute_reply": "2025-08-05T15:31:56.466860Z"
    },
    "papermill": {
     "duration": 0.057049,
     "end_time": "2025-08-05T15:31:56.469186",
     "exception": false,
     "start_time": "2025-08-05T15:31:56.412137",
     "status": "completed"
    },
    "tags": []
   },
   "outputs": [],
   "source": [
    "X_calib = siab_calib.iloc[:,4:164]\n",
    "y_calib = siab_calib.iloc[:, [3]]"
   ]
  },
  {
   "cell_type": "code",
   "execution_count": 17,
   "id": "c34be9c3-6bd6-476e-acd3-845840e303be",
   "metadata": {
    "execution": {
     "iopub.execute_input": "2025-08-05T15:31:56.489774Z",
     "iopub.status.busy": "2025-08-05T15:31:56.489078Z",
     "iopub.status.idle": "2025-08-05T15:31:56.536696Z",
     "shell.execute_reply": "2025-08-05T15:31:56.535896Z"
    },
    "papermill": {
     "duration": 0.058597,
     "end_time": "2025-08-05T15:31:56.538215",
     "exception": false,
     "start_time": "2025-08-05T15:31:56.479618",
     "status": "completed"
    },
    "tags": []
   },
   "outputs": [],
   "source": [
    "X_test = siab_test.iloc[:,4:164]\n",
    "y_true = siab_test.iloc[:, [3]]"
   ]
  },
  {
   "cell_type": "code",
   "execution_count": 18,
   "id": "e6c733c5",
   "metadata": {
    "execution": {
     "iopub.execute_input": "2025-08-05T15:31:56.558688Z",
     "iopub.status.busy": "2025-08-05T15:31:56.558387Z",
     "iopub.status.idle": "2025-08-05T15:31:56.644490Z",
     "shell.execute_reply": "2025-08-05T15:31:56.643737Z"
    },
    "papermill": {
     "duration": 0.097485,
     "end_time": "2025-08-05T15:31:56.645992",
     "exception": false,
     "start_time": "2025-08-05T15:31:56.548507",
     "status": "completed"
    },
    "tags": []
   },
   "outputs": [],
   "source": [
    "# Auxiliary data needed downstream in the pipeline\n",
    "\n",
    "org_train = X_train.copy()\n",
    "org_test = X_test.copy()\n",
    "org_calib = X_calib.copy()"
   ]
  },
  {
   "cell_type": "markdown",
   "id": "0a4a1b33",
   "metadata": {
    "papermill": {
     "duration": 0.008927,
     "end_time": "2025-08-05T15:31:56.664514",
     "exception": false,
     "start_time": "2025-08-05T15:31:56.655587",
     "status": "completed"
    },
    "tags": []
   },
   "source": [
    "# Preprocessing Data"
   ]
  },
  {
   "cell_type": "code",
   "execution_count": 19,
   "id": "ca879031",
   "metadata": {
    "execution": {
     "iopub.execute_input": "2025-08-05T15:31:56.684490Z",
     "iopub.status.busy": "2025-08-05T15:31:56.683758Z",
     "iopub.status.idle": "2025-08-05T15:31:56.689007Z",
     "shell.execute_reply": "2025-08-05T15:31:56.688243Z"
    },
    "papermill": {
     "duration": 0.016763,
     "end_time": "2025-08-05T15:31:56.690541",
     "exception": false,
     "start_time": "2025-08-05T15:31:56.673778",
     "status": "completed"
    },
    "tags": []
   },
   "outputs": [],
   "source": [
    "# EXCLUDE PROTECTED FEATURES\n",
    "# ----------------------\n",
    "# \"exclude_features\": \"none\", # \"nationality\", \"sex\", \"nationality-sex\"\n",
    "\n",
    "excluded_features = universe[\"exclude_features\"].split(\"-\") # split, e.g.: \"nationality-sex\" -> [\"nationality\", \"sex\"]\n",
    "excluded_features_dictionary = {\n",
    "    \"nationality\": [\"maxdeutsch1\", \"maxdeutsch.Missing.\"],\n",
    "    \"sex\": [\"frau1\"],\n",
    "    \"age\": [\"age\"],\n",
    "}"
   ]
  },
  {
   "cell_type": "code",
   "execution_count": 20,
   "id": "b745ac60",
   "metadata": {
    "execution": {
     "iopub.execute_input": "2025-08-05T15:31:56.710293Z",
     "iopub.status.busy": "2025-08-05T15:31:56.709784Z",
     "iopub.status.idle": "2025-08-05T15:31:56.714295Z",
     "shell.execute_reply": "2025-08-05T15:31:56.713574Z"
    },
    "papermill": {
     "duration": 0.015611,
     "end_time": "2025-08-05T15:31:56.715794",
     "exception": false,
     "start_time": "2025-08-05T15:31:56.700183",
     "status": "completed"
    },
    "tags": []
   },
   "outputs": [],
   "source": [
    "# Code nice names to column names\n",
    "\n",
    "excluded_features_columns = [\n",
    "    excluded_features_dictionary[f] for f in excluded_features if len(f) > 0 and f != \"none\"\n",
    "]"
   ]
  },
  {
   "cell_type": "code",
   "execution_count": 21,
   "id": "f84f73a2",
   "metadata": {
    "execution": {
     "iopub.execute_input": "2025-08-05T15:31:56.735347Z",
     "iopub.status.busy": "2025-08-05T15:31:56.735063Z",
     "iopub.status.idle": "2025-08-05T15:31:56.740138Z",
     "shell.execute_reply": "2025-08-05T15:31:56.739388Z"
    },
    "papermill": {
     "duration": 0.016303,
     "end_time": "2025-08-05T15:31:56.741696",
     "exception": false,
     "start_time": "2025-08-05T15:31:56.725393",
     "status": "completed"
    },
    "tags": []
   },
   "outputs": [],
   "source": [
    "from utils import flatten_once\n",
    "\n",
    "excluded_features_columns = flatten_once(excluded_features_columns)"
   ]
  },
  {
   "cell_type": "code",
   "execution_count": 22,
   "id": "884dea22",
   "metadata": {
    "execution": {
     "iopub.execute_input": "2025-08-05T15:31:56.761694Z",
     "iopub.status.busy": "2025-08-05T15:31:56.761183Z",
     "iopub.status.idle": "2025-08-05T15:31:56.769265Z",
     "shell.execute_reply": "2025-08-05T15:31:56.768386Z"
    },
    "papermill": {
     "duration": 0.019176,
     "end_time": "2025-08-05T15:31:56.770653",
     "exception": false,
     "start_time": "2025-08-05T15:31:56.751477",
     "status": "completed"
    },
    "tags": []
   },
   "outputs": [
    {
     "name": "stdout",
     "output_type": "stream",
     "text": [
      "Dropping features: ['frau1']\n"
     ]
    }
   ],
   "source": [
    "if len(excluded_features_columns) > 0:\n",
    "    print(f\"Dropping features: {excluded_features_columns}\")\n",
    "    X_train.drop(excluded_features_columns, axis=1, inplace=True)"
   ]
  },
  {
   "cell_type": "code",
   "execution_count": 23,
   "id": "95ab8b16",
   "metadata": {
    "execution": {
     "iopub.execute_input": "2025-08-05T15:31:56.791560Z",
     "iopub.status.busy": "2025-08-05T15:31:56.790767Z",
     "iopub.status.idle": "2025-08-05T15:31:56.841208Z",
     "shell.execute_reply": "2025-08-05T15:31:56.840386Z"
    },
    "papermill": {
     "duration": 0.061976,
     "end_time": "2025-08-05T15:31:56.842721",
     "exception": false,
     "start_time": "2025-08-05T15:31:56.780745",
     "status": "completed"
    },
    "tags": []
   },
   "outputs": [
    {
     "name": "stdout",
     "output_type": "stream",
     "text": [
      "Dropping features: ['frau1']\n"
     ]
    }
   ],
   "source": [
    "if len(excluded_features_columns) > 0:\n",
    "    print(f\"Dropping features: {excluded_features_columns}\")\n",
    "    X_test.drop(excluded_features_columns, axis=1, inplace=True)"
   ]
  },
  {
   "cell_type": "code",
   "execution_count": 24,
   "id": "1853aaf5-fb9f-46cb-a2b5-8ea4ae2237e4",
   "metadata": {
    "execution": {
     "iopub.execute_input": "2025-08-05T15:31:56.863642Z",
     "iopub.status.busy": "2025-08-05T15:31:56.862895Z",
     "iopub.status.idle": "2025-08-05T15:31:56.910551Z",
     "shell.execute_reply": "2025-08-05T15:31:56.909760Z"
    },
    "papermill": {
     "duration": 0.059064,
     "end_time": "2025-08-05T15:31:56.912010",
     "exception": false,
     "start_time": "2025-08-05T15:31:56.852946",
     "status": "completed"
    },
    "tags": []
   },
   "outputs": [
    {
     "name": "stdout",
     "output_type": "stream",
     "text": [
      "Dropping features: ['frau1']\n"
     ]
    }
   ],
   "source": [
    "if len(excluded_features_columns) > 0:\n",
    "    print(f\"Dropping features: {excluded_features_columns}\")\n",
    "    X_calib.drop(excluded_features_columns, axis=1, inplace=True)"
   ]
  },
  {
   "cell_type": "code",
   "execution_count": 25,
   "id": "76c4dc6d",
   "metadata": {
    "execution": {
     "iopub.execute_input": "2025-08-05T15:31:56.933192Z",
     "iopub.status.busy": "2025-08-05T15:31:56.932626Z",
     "iopub.status.idle": "2025-08-05T15:31:56.937257Z",
     "shell.execute_reply": "2025-08-05T15:31:56.936501Z"
    },
    "papermill": {
     "duration": 0.016522,
     "end_time": "2025-08-05T15:31:56.938770",
     "exception": false,
     "start_time": "2025-08-05T15:31:56.922248",
     "status": "completed"
    },
    "tags": []
   },
   "outputs": [],
   "source": [
    "# EXCLUDE CERTAIN SUBGROUPS\n",
    "# ----------------------\n",
    "\n",
    "mode = universe.get(\"exclude_subgroups\", \"keep-all\") \n",
    "# Fetches the exclude_subgroups setting from the universe dict.\n",
    "# Defaults to \"keep-all\" if the key is missing."
   ]
  },
  {
   "cell_type": "code",
   "execution_count": 26,
   "id": "21994072",
   "metadata": {
    "execution": {
     "iopub.execute_input": "2025-08-05T15:31:56.959665Z",
     "iopub.status.busy": "2025-08-05T15:31:56.958928Z",
     "iopub.status.idle": "2025-08-05T15:31:56.964374Z",
     "shell.execute_reply": "2025-08-05T15:31:56.963577Z"
    },
    "papermill": {
     "duration": 0.016853,
     "end_time": "2025-08-05T15:31:56.965842",
     "exception": false,
     "start_time": "2025-08-05T15:31:56.948989",
     "status": "completed"
    },
    "tags": []
   },
   "outputs": [],
   "source": [
    "if mode == \"keep-all\":\n",
    "    keep_mask = pd.Series(True, index=org_train.index)\n",
    "\n",
    "# org_train contains the original feature columns from features_org (in Simson)\n",
    "# features_org contains unprocessed features, for me X_train at beginning ???\n",
    "# For keep-all, creates a boolean Series (keep_mask) of all True, so no rows are removed.\n",
    "\n",
    "elif mode == \"drop-non-german\":\n",
    "    keep_mask = org_train[\"maxdeutsch1\"] == 1 # ??? what about missing values?\n",
    "\n",
    "else:\n",
    "    raise ValueError(f\"Unsupported mode for exclude_subgroups: {mode}\")"
   ]
  },
  {
   "cell_type": "code",
   "execution_count": 27,
   "id": "71651440",
   "metadata": {
    "execution": {
     "iopub.execute_input": "2025-08-05T15:31:56.986242Z",
     "iopub.status.busy": "2025-08-05T15:31:56.985741Z",
     "iopub.status.idle": "2025-08-05T15:31:56.990923Z",
     "shell.execute_reply": "2025-08-05T15:31:56.990212Z"
    },
    "papermill": {
     "duration": 0.016529,
     "end_time": "2025-08-05T15:31:56.992380",
     "exception": false,
     "start_time": "2025-08-05T15:31:56.975851",
     "status": "completed"
    },
    "tags": []
   },
   "outputs": [],
   "source": [
    "n_drop = (~keep_mask).sum() # Calculates how many rows are set to be dropped\n",
    "if n_drop > 0:\n",
    "    pct = n_drop / len(keep_mask) * 100\n",
    "    print(f\"Dropping {n_drop} rows ({pct:.2f}%) where mode='{mode}'\")"
   ]
  },
  {
   "cell_type": "code",
   "execution_count": 28,
   "id": "5fb8eee5",
   "metadata": {
    "execution": {
     "iopub.execute_input": "2025-08-05T15:31:57.013551Z",
     "iopub.status.busy": "2025-08-05T15:31:57.013008Z",
     "iopub.status.idle": "2025-08-05T15:31:57.019595Z",
     "shell.execute_reply": "2025-08-05T15:31:57.018805Z"
    },
    "papermill": {
     "duration": 0.018397,
     "end_time": "2025-08-05T15:31:57.020990",
     "exception": false,
     "start_time": "2025-08-05T15:31:57.002593",
     "status": "completed"
    },
    "tags": []
   },
   "outputs": [],
   "source": [
    "X_train = X_train[keep_mask]"
   ]
  },
  {
   "cell_type": "code",
   "execution_count": 29,
   "id": "b202bb3a",
   "metadata": {
    "execution": {
     "iopub.execute_input": "2025-08-05T15:31:57.041959Z",
     "iopub.status.busy": "2025-08-05T15:31:57.041466Z",
     "iopub.status.idle": "2025-08-05T15:31:57.046571Z",
     "shell.execute_reply": "2025-08-05T15:31:57.045830Z"
    },
    "papermill": {
     "duration": 0.016502,
     "end_time": "2025-08-05T15:31:57.047859",
     "exception": false,
     "start_time": "2025-08-05T15:31:57.031357",
     "status": "completed"
    },
    "tags": []
   },
   "outputs": [],
   "source": [
    "y_train = y_train[keep_mask]"
   ]
  },
  {
   "cell_type": "markdown",
   "id": "493e2ac3",
   "metadata": {
    "papermill": {
     "duration": 0.009393,
     "end_time": "2025-08-05T15:31:57.067349",
     "exception": false,
     "start_time": "2025-08-05T15:31:57.057956",
     "status": "completed"
    },
    "tags": []
   },
   "source": [
    "# Model Training"
   ]
  },
  {
   "cell_type": "code",
   "execution_count": 30,
   "id": "679e1268",
   "metadata": {
    "execution": {
     "iopub.execute_input": "2025-08-05T15:31:57.087589Z",
     "iopub.status.busy": "2025-08-05T15:31:57.086930Z",
     "iopub.status.idle": "2025-08-05T15:31:57.160333Z",
     "shell.execute_reply": "2025-08-05T15:31:57.159595Z"
    },
    "papermill": {
     "duration": 0.085062,
     "end_time": "2025-08-05T15:31:57.161815",
     "exception": false,
     "start_time": "2025-08-05T15:31:57.076753",
     "status": "completed"
    },
    "tags": []
   },
   "outputs": [],
   "source": [
    "from sklearn.linear_model import LogisticRegression\n",
    "from sklearn.ensemble import GradientBoostingClassifier, RandomForestClassifier\n",
    "\n",
    "if (universe[\"model\"] == \"logreg\"):\n",
    "    model = LogisticRegression() #penalty=\"none\", solver=\"newton-cg\", max_iter=1) # include random_state=19 ?\n",
    "elif (universe[\"model\"] == \"penalized_logreg\"):\n",
    "    model = LogisticRegression(penalty=\"l2\", C=0.1) #, solver=\"newton-cg\", max_iter=1)\n",
    "elif (universe[\"model\"] == \"rf\"):\n",
    "    model = RandomForestClassifier() # n_estimators=100, n_jobs=-1\n",
    "elif (universe[\"model\"] == \"gbm\"):\n",
    "    model = GradientBoostingClassifier()\n",
    "elif (universe[\"model\"] == \"elasticnet\"):\n",
    "    model = LogisticRegression(penalty = 'elasticnet', solver = 'saga', l1_ratio = 0.5) # max_iter=5000\n",
    "else:\n",
    "    raise \"Unsupported universe.model\""
   ]
  },
  {
   "cell_type": "code",
   "execution_count": 31,
   "id": "0cc8f744",
   "metadata": {
    "execution": {
     "iopub.execute_input": "2025-08-05T15:31:57.182831Z",
     "iopub.status.busy": "2025-08-05T15:31:57.182358Z",
     "iopub.status.idle": "2025-08-05T15:31:57.187303Z",
     "shell.execute_reply": "2025-08-05T15:31:57.186605Z"
    },
    "papermill": {
     "duration": 0.016772,
     "end_time": "2025-08-05T15:31:57.188766",
     "exception": false,
     "start_time": "2025-08-05T15:31:57.171994",
     "status": "completed"
    },
    "tags": []
   },
   "outputs": [],
   "source": [
    "import numpy as np\n",
    "from sklearn.pipeline import Pipeline\n",
    "from sklearn.preprocessing import StandardScaler\n",
    "\n",
    "model = Pipeline([\n",
    "    #(\"continuous_processor\", continuous_processor),\n",
    "    #(\"categorical_preprocessor\", categorical_preprocessor),\n",
    "    (\"scale\", StandardScaler() if universe[\"scale\"] == \"scale\" else None), \n",
    "    (\"model\", model),\n",
    "])"
   ]
  },
  {
   "cell_type": "code",
   "execution_count": 32,
   "id": "9442c04d",
   "metadata": {
    "execution": {
     "iopub.execute_input": "2025-08-05T15:31:57.210490Z",
     "iopub.status.busy": "2025-08-05T15:31:57.209381Z",
     "iopub.status.idle": "2025-08-05T15:32:00.900761Z",
     "shell.execute_reply": "2025-08-05T15:32:00.900035Z"
    },
    "papermill": {
     "duration": 3.702762,
     "end_time": "2025-08-05T15:32:00.902094",
     "exception": false,
     "start_time": "2025-08-05T15:31:57.199332",
     "status": "completed"
    },
    "tags": []
   },
   "outputs": [
    {
     "data": {
      "text/html": [
       "<style>#sk-container-id-1 {color: black;background-color: white;}#sk-container-id-1 pre{padding: 0;}#sk-container-id-1 div.sk-toggleable {background-color: white;}#sk-container-id-1 label.sk-toggleable__label {cursor: pointer;display: block;width: 100%;margin-bottom: 0;padding: 0.3em;box-sizing: border-box;text-align: center;}#sk-container-id-1 label.sk-toggleable__label-arrow:before {content: \"▸\";float: left;margin-right: 0.25em;color: #696969;}#sk-container-id-1 label.sk-toggleable__label-arrow:hover:before {color: black;}#sk-container-id-1 div.sk-estimator:hover label.sk-toggleable__label-arrow:before {color: black;}#sk-container-id-1 div.sk-toggleable__content {max-height: 0;max-width: 0;overflow: hidden;text-align: left;background-color: #f0f8ff;}#sk-container-id-1 div.sk-toggleable__content pre {margin: 0.2em;color: black;border-radius: 0.25em;background-color: #f0f8ff;}#sk-container-id-1 input.sk-toggleable__control:checked~div.sk-toggleable__content {max-height: 200px;max-width: 100%;overflow: auto;}#sk-container-id-1 input.sk-toggleable__control:checked~label.sk-toggleable__label-arrow:before {content: \"▾\";}#sk-container-id-1 div.sk-estimator input.sk-toggleable__control:checked~label.sk-toggleable__label {background-color: #d4ebff;}#sk-container-id-1 div.sk-label input.sk-toggleable__control:checked~label.sk-toggleable__label {background-color: #d4ebff;}#sk-container-id-1 input.sk-hidden--visually {border: 0;clip: rect(1px 1px 1px 1px);clip: rect(1px, 1px, 1px, 1px);height: 1px;margin: -1px;overflow: hidden;padding: 0;position: absolute;width: 1px;}#sk-container-id-1 div.sk-estimator {font-family: monospace;background-color: #f0f8ff;border: 1px dotted black;border-radius: 0.25em;box-sizing: border-box;margin-bottom: 0.5em;}#sk-container-id-1 div.sk-estimator:hover {background-color: #d4ebff;}#sk-container-id-1 div.sk-parallel-item::after {content: \"\";width: 100%;border-bottom: 1px solid gray;flex-grow: 1;}#sk-container-id-1 div.sk-label:hover label.sk-toggleable__label {background-color: #d4ebff;}#sk-container-id-1 div.sk-serial::before {content: \"\";position: absolute;border-left: 1px solid gray;box-sizing: border-box;top: 0;bottom: 0;left: 50%;z-index: 0;}#sk-container-id-1 div.sk-serial {display: flex;flex-direction: column;align-items: center;background-color: white;padding-right: 0.2em;padding-left: 0.2em;position: relative;}#sk-container-id-1 div.sk-item {position: relative;z-index: 1;}#sk-container-id-1 div.sk-parallel {display: flex;align-items: stretch;justify-content: center;background-color: white;position: relative;}#sk-container-id-1 div.sk-item::before, #sk-container-id-1 div.sk-parallel-item::before {content: \"\";position: absolute;border-left: 1px solid gray;box-sizing: border-box;top: 0;bottom: 0;left: 50%;z-index: -1;}#sk-container-id-1 div.sk-parallel-item {display: flex;flex-direction: column;z-index: 1;position: relative;background-color: white;}#sk-container-id-1 div.sk-parallel-item:first-child::after {align-self: flex-end;width: 50%;}#sk-container-id-1 div.sk-parallel-item:last-child::after {align-self: flex-start;width: 50%;}#sk-container-id-1 div.sk-parallel-item:only-child::after {width: 0;}#sk-container-id-1 div.sk-dashed-wrapped {border: 1px dashed gray;margin: 0 0.4em 0.5em 0.4em;box-sizing: border-box;padding-bottom: 0.4em;background-color: white;}#sk-container-id-1 div.sk-label label {font-family: monospace;font-weight: bold;display: inline-block;line-height: 1.2em;}#sk-container-id-1 div.sk-label-container {text-align: center;}#sk-container-id-1 div.sk-container {/* jupyter's `normalize.less` sets `[hidden] { display: none; }` but bootstrap.min.css set `[hidden] { display: none !important; }` so we also need the `!important` here to be able to override the default hidden behavior on the sphinx rendered scikit-learn.org. See: https://github.com/scikit-learn/scikit-learn/issues/21755 */display: inline-block !important;position: relative;}#sk-container-id-1 div.sk-text-repr-fallback {display: none;}</style><div id=\"sk-container-id-1\" class=\"sk-top-container\"><div class=\"sk-text-repr-fallback\"><pre>Pipeline(steps=[(&#x27;scale&#x27;, None), (&#x27;model&#x27;, GradientBoostingClassifier())])</pre><b>In a Jupyter environment, please rerun this cell to show the HTML representation or trust the notebook. <br />On GitHub, the HTML representation is unable to render, please try loading this page with nbviewer.org.</b></div><div class=\"sk-container\" hidden><div class=\"sk-item sk-dashed-wrapped\"><div class=\"sk-label-container\"><div class=\"sk-label sk-toggleable\"><input class=\"sk-toggleable__control sk-hidden--visually\" id=\"sk-estimator-id-1\" type=\"checkbox\" ><label for=\"sk-estimator-id-1\" class=\"sk-toggleable__label sk-toggleable__label-arrow\">Pipeline</label><div class=\"sk-toggleable__content\"><pre>Pipeline(steps=[(&#x27;scale&#x27;, None), (&#x27;model&#x27;, GradientBoostingClassifier())])</pre></div></div></div><div class=\"sk-serial\"><div class=\"sk-item\"><div class=\"sk-estimator sk-toggleable\"><input class=\"sk-toggleable__control sk-hidden--visually\" id=\"sk-estimator-id-2\" type=\"checkbox\" ><label for=\"sk-estimator-id-2\" class=\"sk-toggleable__label sk-toggleable__label-arrow\">None</label><div class=\"sk-toggleable__content\"><pre>None</pre></div></div></div><div class=\"sk-item\"><div class=\"sk-estimator sk-toggleable\"><input class=\"sk-toggleable__control sk-hidden--visually\" id=\"sk-estimator-id-3\" type=\"checkbox\" ><label for=\"sk-estimator-id-3\" class=\"sk-toggleable__label sk-toggleable__label-arrow\">GradientBoostingClassifier</label><div class=\"sk-toggleable__content\"><pre>GradientBoostingClassifier()</pre></div></div></div></div></div></div></div>"
      ],
      "text/plain": [
       "Pipeline(steps=[('scale', None), ('model', GradientBoostingClassifier())])"
      ]
     },
     "execution_count": 32,
     "metadata": {},
     "output_type": "execute_result"
    }
   ],
   "source": [
    "model.fit(X_train, y_train.values.ravel())"
   ]
  },
  {
   "cell_type": "code",
   "execution_count": 33,
   "id": "af59f8c0",
   "metadata": {
    "execution": {
     "iopub.execute_input": "2025-08-05T15:32:00.926806Z",
     "iopub.status.busy": "2025-08-05T15:32:00.926285Z",
     "iopub.status.idle": "2025-08-05T15:32:00.931547Z",
     "shell.execute_reply": "2025-08-05T15:32:00.930693Z"
    },
    "papermill": {
     "duration": 0.018262,
     "end_time": "2025-08-05T15:32:00.933074",
     "exception": false,
     "start_time": "2025-08-05T15:32:00.914812",
     "status": "completed"
    },
    "tags": []
   },
   "outputs": [],
   "source": [
    "from fairness_multiverse.universe import predict_w_threshold"
   ]
  },
  {
   "cell_type": "code",
   "execution_count": 34,
   "id": "a7cf2e16",
   "metadata": {
    "execution": {
     "iopub.execute_input": "2025-08-05T15:32:00.970857Z",
     "iopub.status.busy": "2025-08-05T15:32:00.969969Z",
     "iopub.status.idle": "2025-08-05T15:32:01.590978Z",
     "shell.execute_reply": "2025-08-05T15:32:01.589945Z"
    },
    "papermill": {
     "duration": 0.64419,
     "end_time": "2025-08-05T15:32:01.592776",
     "exception": false,
     "start_time": "2025-08-05T15:32:00.948586",
     "status": "completed"
    },
    "tags": []
   },
   "outputs": [
    {
     "data": {
      "text/plain": [
       "0.8660015605841044"
      ]
     },
     "execution_count": 34,
     "metadata": {},
     "output_type": "execute_result"
    }
   ],
   "source": [
    "probs_test = model.predict_proba(X_test)\n",
    "\n",
    "'''\n",
    "Below code returns a boolean array (or binary 0/1 array depending on how it’s used) where each element \n",
    "is True if the probability of class 1 is greater than or equal to the threshold, and False otherwise.\n",
    "'''\n",
    "y_pred_default = predict_w_threshold(probs_test, 0.5)\n",
    "\n",
    "from sklearn.metrics import accuracy_score\n",
    "\n",
    "# Naive prediction\n",
    "accuracy_score(y_true = y_true, y_pred = y_pred_default)"
   ]
  },
  {
   "cell_type": "code",
   "execution_count": 35,
   "id": "081964c3",
   "metadata": {
    "execution": {
     "iopub.execute_input": "2025-08-05T15:32:01.646506Z",
     "iopub.status.busy": "2025-08-05T15:32:01.645928Z",
     "iopub.status.idle": "2025-08-05T15:32:02.185999Z",
     "shell.execute_reply": "2025-08-05T15:32:02.184854Z"
    },
    "papermill": {
     "duration": 0.572414,
     "end_time": "2025-08-05T15:32:02.187969",
     "exception": false,
     "start_time": "2025-08-05T15:32:01.615555",
     "status": "completed"
    },
    "tags": []
   },
   "outputs": [
    {
     "data": {
      "text/plain": [
       "array([0, 0, 0, ..., 0, 0, 0])"
      ]
     },
     "execution_count": 35,
     "metadata": {},
     "output_type": "execute_result"
    }
   ],
   "source": [
    "model.predict(X_test)"
   ]
  },
  {
   "cell_type": "markdown",
   "id": "56c9705b",
   "metadata": {
    "papermill": {
     "duration": 0.020236,
     "end_time": "2025-08-05T15:32:02.231406",
     "exception": false,
     "start_time": "2025-08-05T15:32:02.211170",
     "status": "completed"
    },
    "tags": []
   },
   "source": [
    "# Conformal Prediction"
   ]
  },
  {
   "cell_type": "code",
   "execution_count": 36,
   "id": "160ec6ff",
   "metadata": {
    "execution": {
     "iopub.execute_input": "2025-08-05T15:32:02.271474Z",
     "iopub.status.busy": "2025-08-05T15:32:02.270949Z",
     "iopub.status.idle": "2025-08-05T15:32:02.276941Z",
     "shell.execute_reply": "2025-08-05T15:32:02.275816Z"
    },
    "papermill": {
     "duration": 0.028893,
     "end_time": "2025-08-05T15:32:02.279096",
     "exception": false,
     "start_time": "2025-08-05T15:32:02.250203",
     "status": "completed"
    },
    "tags": []
   },
   "outputs": [],
   "source": [
    "# Miscoverage level for conformal prediction (10% allowed error rate => 90% target coverage)\n",
    "alpha = 0.1"
   ]
  },
  {
   "cell_type": "code",
   "execution_count": 37,
   "id": "eadf4555-3dd3-440e-8e35-f82a4ad9f855",
   "metadata": {
    "execution": {
     "iopub.execute_input": "2025-08-05T15:32:02.318160Z",
     "iopub.status.busy": "2025-08-05T15:32:02.317736Z",
     "iopub.status.idle": "2025-08-05T15:32:02.757585Z",
     "shell.execute_reply": "2025-08-05T15:32:02.756527Z"
    },
    "papermill": {
     "duration": 0.460301,
     "end_time": "2025-08-05T15:32:02.759240",
     "exception": false,
     "start_time": "2025-08-05T15:32:02.298939",
     "status": "completed"
    },
    "tags": []
   },
   "outputs": [],
   "source": [
    "probs_calib = model.predict_proba(X_calib)"
   ]
  },
  {
   "cell_type": "code",
   "execution_count": 38,
   "id": "2ed93547-6d5d-4983-9b36-1ecb300da49a",
   "metadata": {
    "execution": {
     "iopub.execute_input": "2025-08-05T15:32:02.790604Z",
     "iopub.status.busy": "2025-08-05T15:32:02.790183Z",
     "iopub.status.idle": "2025-08-05T15:32:02.796256Z",
     "shell.execute_reply": "2025-08-05T15:32:02.795118Z"
    },
    "papermill": {
     "duration": 0.027857,
     "end_time": "2025-08-05T15:32:02.798124",
     "exception": false,
     "start_time": "2025-08-05T15:32:02.770267",
     "status": "completed"
    },
    "tags": []
   },
   "outputs": [],
   "source": [
    "y_calib = y_calib.values.ravel().astype(int)"
   ]
  },
  {
   "cell_type": "code",
   "execution_count": 39,
   "id": "65d1320d-f588-4b38-9072-62af1ae97f7d",
   "metadata": {
    "execution": {
     "iopub.execute_input": "2025-08-05T15:32:02.842964Z",
     "iopub.status.busy": "2025-08-05T15:32:02.842519Z",
     "iopub.status.idle": "2025-08-05T15:32:02.850135Z",
     "shell.execute_reply": "2025-08-05T15:32:02.849088Z"
    },
    "papermill": {
     "duration": 0.032304,
     "end_time": "2025-08-05T15:32:02.851836",
     "exception": false,
     "start_time": "2025-08-05T15:32:02.819532",
     "status": "completed"
    },
    "tags": []
   },
   "outputs": [],
   "source": [
    "from fairness_multiverse.conformal import compute_nc_scores\n",
    "\n",
    "# Compute nonconformity scores on calibration set (1 - probability of true class)\n",
    "nc_scores = compute_nc_scores(probs_calib, y_calib)"
   ]
  },
  {
   "cell_type": "code",
   "execution_count": 40,
   "id": "df3b8ca3-53b7-43d5-9667-7c85da7aeda2",
   "metadata": {
    "execution": {
     "iopub.execute_input": "2025-08-05T15:32:02.886543Z",
     "iopub.status.busy": "2025-08-05T15:32:02.886090Z",
     "iopub.status.idle": "2025-08-05T15:32:02.891432Z",
     "shell.execute_reply": "2025-08-05T15:32:02.890652Z"
    },
    "papermill": {
     "duration": 0.02034,
     "end_time": "2025-08-05T15:32:02.892774",
     "exception": false,
     "start_time": "2025-08-05T15:32:02.872434",
     "status": "completed"
    },
    "tags": []
   },
   "outputs": [],
   "source": [
    "from fairness_multiverse.conformal import find_threshold\n",
    "\n",
    "# Find conformal threshold q_hat for the given alpha (split conformal method)\n",
    "q_hat = find_threshold(nc_scores, alpha)"
   ]
  },
  {
   "cell_type": "code",
   "execution_count": 41,
   "id": "4d29e6c1-0ef6-4aa4-b8fe-4fe79b0d033a",
   "metadata": {
    "execution": {
     "iopub.execute_input": "2025-08-05T15:32:02.914885Z",
     "iopub.status.busy": "2025-08-05T15:32:02.914313Z",
     "iopub.status.idle": "2025-08-05T15:32:02.920110Z",
     "shell.execute_reply": "2025-08-05T15:32:02.919293Z"
    },
    "papermill": {
     "duration": 0.017822,
     "end_time": "2025-08-05T15:32:02.921429",
     "exception": false,
     "start_time": "2025-08-05T15:32:02.903607",
     "status": "completed"
    },
    "tags": []
   },
   "outputs": [
    {
     "data": {
      "text/plain": [
       "0.7208205283413383"
      ]
     },
     "execution_count": 41,
     "metadata": {},
     "output_type": "execute_result"
    }
   ],
   "source": [
    "q_hat"
   ]
  },
  {
   "cell_type": "code",
   "execution_count": 42,
   "id": "92460794-cdac-4be2-ba28-f28c0515a6fb",
   "metadata": {
    "execution": {
     "iopub.execute_input": "2025-08-05T15:32:02.943676Z",
     "iopub.status.busy": "2025-08-05T15:32:02.943176Z",
     "iopub.status.idle": "2025-08-05T15:32:03.677472Z",
     "shell.execute_reply": "2025-08-05T15:32:03.676707Z"
    },
    "papermill": {
     "duration": 0.746553,
     "end_time": "2025-08-05T15:32:03.678982",
     "exception": false,
     "start_time": "2025-08-05T15:32:02.932429",
     "status": "completed"
    },
    "tags": []
   },
   "outputs": [],
   "source": [
    "from fairness_multiverse.conformal import predict_conformal_sets\n",
    "\n",
    "# Generate prediction sets for each test example\n",
    "pred_sets = predict_conformal_sets(model, X_test, q_hat)"
   ]
  },
  {
   "cell_type": "code",
   "execution_count": 43,
   "id": "d90c9a65-e6db-4f5d-80cd-e68fb7e46829",
   "metadata": {
    "execution": {
     "iopub.execute_input": "2025-08-05T15:32:03.701190Z",
     "iopub.status.busy": "2025-08-05T15:32:03.700897Z",
     "iopub.status.idle": "2025-08-05T15:32:03.705216Z",
     "shell.execute_reply": "2025-08-05T15:32:03.704318Z"
    },
    "papermill": {
     "duration": 0.016599,
     "end_time": "2025-08-05T15:32:03.706619",
     "exception": false,
     "start_time": "2025-08-05T15:32:03.690020",
     "status": "completed"
    },
    "tags": []
   },
   "outputs": [],
   "source": [
    "y_true = y_true.squeeze()"
   ]
  },
  {
   "cell_type": "code",
   "execution_count": 44,
   "id": "3a58a54a-1e68-46b9-927a-df01f18aebc8",
   "metadata": {
    "execution": {
     "iopub.execute_input": "2025-08-05T15:32:03.729336Z",
     "iopub.status.busy": "2025-08-05T15:32:03.728654Z",
     "iopub.status.idle": "2025-08-05T15:32:04.206223Z",
     "shell.execute_reply": "2025-08-05T15:32:04.205455Z"
    },
    "papermill": {
     "duration": 0.489845,
     "end_time": "2025-08-05T15:32:04.207642",
     "exception": false,
     "start_time": "2025-08-05T15:32:03.717797",
     "status": "completed"
    },
    "tags": []
   },
   "outputs": [],
   "source": [
    "from fairness_multiverse.conformal import evaluate_sets\n",
    "\n",
    "# Evaluate coverage and average set size on test data\n",
    "metrics = evaluate_sets(pred_sets, y_true)"
   ]
  },
  {
   "cell_type": "markdown",
   "id": "2b569c12-9aaa-4c88-98c9-bbcd0cf3ebb8",
   "metadata": {
    "papermill": {
     "duration": 0.01003,
     "end_time": "2025-08-05T15:32:04.228762",
     "exception": false,
     "start_time": "2025-08-05T15:32:04.218732",
     "status": "completed"
    },
    "tags": []
   },
   "source": [
    "# CP Metrics"
   ]
  },
  {
   "cell_type": "code",
   "execution_count": 45,
   "id": "5ce0a5cb-201f-45a0-ade5-94c7f0bd6095",
   "metadata": {
    "execution": {
     "iopub.execute_input": "2025-08-05T15:32:04.250313Z",
     "iopub.status.busy": "2025-08-05T15:32:04.249684Z",
     "iopub.status.idle": "2025-08-05T15:32:04.255570Z",
     "shell.execute_reply": "2025-08-05T15:32:04.254734Z"
    },
    "papermill": {
     "duration": 0.018074,
     "end_time": "2025-08-05T15:32:04.256961",
     "exception": false,
     "start_time": "2025-08-05T15:32:04.238887",
     "status": "completed"
    },
    "tags": []
   },
   "outputs": [
    {
     "data": {
      "text/plain": [
       "{'coverage': 0.9123174673949392, 'avg_size': 1.133340764686211}"
      ]
     },
     "execution_count": 45,
     "metadata": {},
     "output_type": "execute_result"
    }
   ],
   "source": [
    "metrics"
   ]
  },
  {
   "cell_type": "code",
   "execution_count": 46,
   "id": "9b9a838d-31c9-430b-ae14-12baee460d17",
   "metadata": {
    "execution": {
     "iopub.execute_input": "2025-08-05T15:32:04.279544Z",
     "iopub.status.busy": "2025-08-05T15:32:04.279060Z",
     "iopub.status.idle": "2025-08-05T15:32:04.283939Z",
     "shell.execute_reply": "2025-08-05T15:32:04.283209Z"
    },
    "papermill": {
     "duration": 0.017541,
     "end_time": "2025-08-05T15:32:04.285479",
     "exception": false,
     "start_time": "2025-08-05T15:32:04.267938",
     "status": "completed"
    },
    "tags": []
   },
   "outputs": [],
   "source": [
    "example_universe = universe.copy()\n",
    "universe_training_year = example_universe.get(\"training_year\")\n",
    "universe_training_size = example_universe.get(\"training_size\")\n",
    "universe_scale = example_universe.get(\"scale\")\n",
    "universe_model = example_universe.get(\"model\")\n",
    "universe_exclude_features = example_universe.get(\"exclude_features\")\n",
    "universe_exclude_subgroups = example_universe.get(\"exclude_subgroups\")"
   ]
  },
  {
   "cell_type": "code",
   "execution_count": 47,
   "id": "f4b6a8ac-9dc0-4245-8a91-5b3b5999c4f9",
   "metadata": {
    "execution": {
     "iopub.execute_input": "2025-08-05T15:32:04.307868Z",
     "iopub.status.busy": "2025-08-05T15:32:04.307387Z",
     "iopub.status.idle": "2025-08-05T15:32:04.312542Z",
     "shell.execute_reply": "2025-08-05T15:32:04.311807Z"
    },
    "papermill": {
     "duration": 0.017488,
     "end_time": "2025-08-05T15:32:04.313970",
     "exception": false,
     "start_time": "2025-08-05T15:32:04.296482",
     "status": "completed"
    },
    "tags": []
   },
   "outputs": [],
   "source": [
    "cp_metrics_dict = {\n",
    "    \"universe_id\": [universe_id],\n",
    "    \"universe_training_year\": [universe_training_year],\n",
    "    \"universe_training_size\": [universe_training_size],\n",
    "    \"universe_scale\": [universe_scale],\n",
    "    \"universe_model\": [universe_model],\n",
    "    \"universe_exclude_features\": [universe_exclude_features],\n",
    "    \"universe_exclude_subgroups\": [universe_exclude_subgroups],\n",
    "    \"q_hat\": [q_hat],\n",
    "    \"coverage\": [metrics[\"coverage\"]],\n",
    "    \"avg_size\": [metrics[\"avg_size\"]],\n",
    "}"
   ]
  },
  {
   "cell_type": "code",
   "execution_count": 48,
   "id": "908acbb1-0371-4915-85ca-3fa520d2efe2",
   "metadata": {
    "execution": {
     "iopub.execute_input": "2025-08-05T15:32:04.336654Z",
     "iopub.status.busy": "2025-08-05T15:32:04.336168Z",
     "iopub.status.idle": "2025-08-05T15:32:04.342451Z",
     "shell.execute_reply": "2025-08-05T15:32:04.341603Z"
    },
    "papermill": {
     "duration": 0.018606,
     "end_time": "2025-08-05T15:32:04.343810",
     "exception": false,
     "start_time": "2025-08-05T15:32:04.325204",
     "status": "completed"
    },
    "tags": []
   },
   "outputs": [
    {
     "data": {
      "text/plain": [
       "{'universe_id': ['2f3fa3502cc024b67f76376a81dc38f0'],\n",
       " 'universe_training_year': ['2014'],\n",
       " 'universe_training_size': ['5k'],\n",
       " 'universe_scale': ['do-not-scale'],\n",
       " 'universe_model': ['gbm'],\n",
       " 'universe_exclude_features': ['sex'],\n",
       " 'universe_exclude_subgroups': ['keep-all'],\n",
       " 'q_hat': [0.7208205283413383],\n",
       " 'coverage': [0.9123174673949392],\n",
       " 'avg_size': [1.133340764686211]}"
      ]
     },
     "execution_count": 48,
     "metadata": {},
     "output_type": "execute_result"
    }
   ],
   "source": [
    "cp_metrics_dict"
   ]
  },
  {
   "cell_type": "code",
   "execution_count": 49,
   "id": "33007efc-14e9-4ec6-97ac-56a455c82265",
   "metadata": {
    "execution": {
     "iopub.execute_input": "2025-08-05T15:32:04.366367Z",
     "iopub.status.busy": "2025-08-05T15:32:04.365772Z",
     "iopub.status.idle": "2025-08-05T15:32:04.370782Z",
     "shell.execute_reply": "2025-08-05T15:32:04.369991Z"
    },
    "papermill": {
     "duration": 0.017556,
     "end_time": "2025-08-05T15:32:04.372329",
     "exception": false,
     "start_time": "2025-08-05T15:32:04.354773",
     "status": "completed"
    },
    "tags": []
   },
   "outputs": [],
   "source": [
    "cp_metrics_df = pd.DataFrame(cp_metrics_dict)"
   ]
  },
  {
   "cell_type": "code",
   "execution_count": 50,
   "id": "db12611b-57b2-4910-b9d0-355adfd6e7bf",
   "metadata": {
    "execution": {
     "iopub.execute_input": "2025-08-05T15:32:04.394984Z",
     "iopub.status.busy": "2025-08-05T15:32:04.394592Z",
     "iopub.status.idle": "2025-08-05T15:32:04.407809Z",
     "shell.execute_reply": "2025-08-05T15:32:04.406981Z"
    },
    "papermill": {
     "duration": 0.025513,
     "end_time": "2025-08-05T15:32:04.409072",
     "exception": false,
     "start_time": "2025-08-05T15:32:04.383559",
     "status": "completed"
    },
    "tags": []
   },
   "outputs": [
    {
     "data": {
      "text/html": [
       "<div>\n",
       "<style scoped>\n",
       "    .dataframe tbody tr th:only-of-type {\n",
       "        vertical-align: middle;\n",
       "    }\n",
       "\n",
       "    .dataframe tbody tr th {\n",
       "        vertical-align: top;\n",
       "    }\n",
       "\n",
       "    .dataframe thead th {\n",
       "        text-align: right;\n",
       "    }\n",
       "</style>\n",
       "<table border=\"1\" class=\"dataframe\">\n",
       "  <thead>\n",
       "    <tr style=\"text-align: right;\">\n",
       "      <th></th>\n",
       "      <th>universe_id</th>\n",
       "      <th>universe_training_year</th>\n",
       "      <th>universe_training_size</th>\n",
       "      <th>universe_scale</th>\n",
       "      <th>universe_model</th>\n",
       "      <th>universe_exclude_features</th>\n",
       "      <th>universe_exclude_subgroups</th>\n",
       "      <th>q_hat</th>\n",
       "      <th>coverage</th>\n",
       "      <th>avg_size</th>\n",
       "    </tr>\n",
       "  </thead>\n",
       "  <tbody>\n",
       "    <tr>\n",
       "      <th>0</th>\n",
       "      <td>2f3fa3502cc024b67f76376a81dc38f0</td>\n",
       "      <td>2014</td>\n",
       "      <td>5k</td>\n",
       "      <td>do-not-scale</td>\n",
       "      <td>gbm</td>\n",
       "      <td>sex</td>\n",
       "      <td>keep-all</td>\n",
       "      <td>0.720821</td>\n",
       "      <td>0.912317</td>\n",
       "      <td>1.133341</td>\n",
       "    </tr>\n",
       "  </tbody>\n",
       "</table>\n",
       "</div>"
      ],
      "text/plain": [
       "                        universe_id universe_training_year  \\\n",
       "0  2f3fa3502cc024b67f76376a81dc38f0                   2014   \n",
       "\n",
       "  universe_training_size universe_scale universe_model  \\\n",
       "0                     5k   do-not-scale            gbm   \n",
       "\n",
       "  universe_exclude_features universe_exclude_subgroups     q_hat  coverage  \\\n",
       "0                       sex                   keep-all  0.720821  0.912317   \n",
       "\n",
       "   avg_size  \n",
       "0  1.133341  "
      ]
     },
     "execution_count": 50,
     "metadata": {},
     "output_type": "execute_result"
    }
   ],
   "source": [
    "cp_metrics_df"
   ]
  },
  {
   "cell_type": "code",
   "execution_count": 51,
   "id": "b7fbde55-a0a1-47e4-9af6-fe4a17fa8c61",
   "metadata": {
    "execution": {
     "iopub.execute_input": "2025-08-05T15:32:04.431888Z",
     "iopub.status.busy": "2025-08-05T15:32:04.431406Z",
     "iopub.status.idle": "2025-08-05T15:32:04.435594Z",
     "shell.execute_reply": "2025-08-05T15:32:04.434817Z"
    },
    "papermill": {
     "duration": 0.016834,
     "end_time": "2025-08-05T15:32:04.437002",
     "exception": false,
     "start_time": "2025-08-05T15:32:04.420168",
     "status": "completed"
    },
    "tags": []
   },
   "outputs": [],
   "source": [
    "# Conditional Coverage & looking at subgroups"
   ]
  },
  {
   "cell_type": "code",
   "execution_count": 52,
   "id": "027ae886-68dd-4141-96c7-805a5450e1ef",
   "metadata": {
    "execution": {
     "iopub.execute_input": "2025-08-05T15:32:04.460432Z",
     "iopub.status.busy": "2025-08-05T15:32:04.459939Z",
     "iopub.status.idle": "2025-08-05T15:32:04.644735Z",
     "shell.execute_reply": "2025-08-05T15:32:04.643966Z"
    },
    "papermill": {
     "duration": 0.198,
     "end_time": "2025-08-05T15:32:04.646246",
     "exception": false,
     "start_time": "2025-08-05T15:32:04.448246",
     "status": "completed"
    },
    "tags": []
   },
   "outputs": [],
   "source": [
    "from fairness_multiverse.conformal import build_cp_groups\n",
    "\n",
    "cp_groups_df = build_cp_groups(pred_sets, y_true, X_test.index, org_test)\n",
    "#needs universe_id and setting"
   ]
  },
  {
   "cell_type": "code",
   "execution_count": 53,
   "id": "6cbdab96-b2b2-45af-ad54-d0516db2e28d",
   "metadata": {
    "execution": {
     "iopub.execute_input": "2025-08-05T15:32:04.672318Z",
     "iopub.status.busy": "2025-08-05T15:32:04.671608Z",
     "iopub.status.idle": "2025-08-05T15:32:05.501780Z",
     "shell.execute_reply": "2025-08-05T15:32:05.500999Z"
    },
    "papermill": {
     "duration": 0.843499,
     "end_time": "2025-08-05T15:32:05.503285",
     "exception": false,
     "start_time": "2025-08-05T15:32:04.659786",
     "status": "completed"
    },
    "tags": []
   },
   "outputs": [],
   "source": [
    "# Define covered = 1 if true_label is in the predicted set\n",
    "cp_groups_df['covered'] = cp_groups_df.apply(\n",
    "    lambda r: int(r['true_label'] in r['pred_set']),\n",
    "    axis=1\n",
    ")"
   ]
  },
  {
   "cell_type": "code",
   "execution_count": 54,
   "id": "338ff529-1a6b-4b87-a931-8e4788d52aad",
   "metadata": {
    "execution": {
     "iopub.execute_input": "2025-08-05T15:32:05.527429Z",
     "iopub.status.busy": "2025-08-05T15:32:05.527091Z",
     "iopub.status.idle": "2025-08-05T15:32:05.531374Z",
     "shell.execute_reply": "2025-08-05T15:32:05.530570Z"
    },
    "papermill": {
     "duration": 0.017703,
     "end_time": "2025-08-05T15:32:05.532761",
     "exception": false,
     "start_time": "2025-08-05T15:32:05.515058",
     "status": "completed"
    },
    "tags": []
   },
   "outputs": [],
   "source": [
    "#cp_groups_df"
   ]
  },
  {
   "cell_type": "code",
   "execution_count": 55,
   "id": "90032e27-66df-4540-9169-4e89cfbaa758",
   "metadata": {
    "execution": {
     "iopub.execute_input": "2025-08-05T15:32:05.557321Z",
     "iopub.status.busy": "2025-08-05T15:32:05.556633Z",
     "iopub.status.idle": "2025-08-05T15:32:05.566000Z",
     "shell.execute_reply": "2025-08-05T15:32:05.565232Z"
    },
    "papermill": {
     "duration": 0.022453,
     "end_time": "2025-08-05T15:32:05.567220",
     "exception": false,
     "start_time": "2025-08-05T15:32:05.544767",
     "status": "completed"
    },
    "tags": []
   },
   "outputs": [],
   "source": [
    "subgroups = ['frau1','nongerman','nongerman_male','nongerman_female']\n",
    "\n",
    "# Conditional coverage for subgroup==1\n",
    "cond_coverage = {\n",
    "    g: cp_groups_df.loc[cp_groups_df[g]==1, 'covered'].mean()\n",
    "    for g in subgroups\n",
    "}"
   ]
  },
  {
   "cell_type": "code",
   "execution_count": 56,
   "id": "1e348fb1-b9c3-45bc-ba23-f016827a7e0d",
   "metadata": {
    "execution": {
     "iopub.execute_input": "2025-08-05T15:32:05.591870Z",
     "iopub.status.busy": "2025-08-05T15:32:05.591137Z",
     "iopub.status.idle": "2025-08-05T15:32:05.597667Z",
     "shell.execute_reply": "2025-08-05T15:32:05.596872Z"
    },
    "papermill": {
     "duration": 0.019743,
     "end_time": "2025-08-05T15:32:05.599126",
     "exception": false,
     "start_time": "2025-08-05T15:32:05.579383",
     "status": "completed"
    },
    "tags": []
   },
   "outputs": [
    {
     "data": {
      "text/plain": [
       "{'frau1': 0.9092060924652918,\n",
       " 'nongerman': 0.9112445966429013,\n",
       " 'nongerman_male': 0.927136809871206,\n",
       " 'nongerman_female': 0.8849478390461997}"
      ]
     },
     "execution_count": 56,
     "metadata": {},
     "output_type": "execute_result"
    }
   ],
   "source": [
    "cond_coverage"
   ]
  },
  {
   "cell_type": "code",
   "execution_count": 57,
   "id": "f5093324-c3dd-4d63-bc4c-8d945e5c8bbb",
   "metadata": {
    "execution": {
     "iopub.execute_input": "2025-08-05T15:32:05.623611Z",
     "iopub.status.busy": "2025-08-05T15:32:05.622939Z",
     "iopub.status.idle": "2025-08-05T15:32:05.628888Z",
     "shell.execute_reply": "2025-08-05T15:32:05.628135Z"
    },
    "papermill": {
     "duration": 0.019173,
     "end_time": "2025-08-05T15:32:05.630286",
     "exception": false,
     "start_time": "2025-08-05T15:32:05.611113",
     "status": "completed"
    },
    "tags": []
   },
   "outputs": [],
   "source": [
    "for subgroup, cov in cond_coverage.items():\n",
    "    cp_metrics_df[f\"cov_{subgroup}\"] = cov"
   ]
  },
  {
   "cell_type": "code",
   "execution_count": 58,
   "id": "6e872e10-dbe5-49e8-b554-5030c98ff75d",
   "metadata": {
    "execution": {
     "iopub.execute_input": "2025-08-05T15:32:05.655325Z",
     "iopub.status.busy": "2025-08-05T15:32:05.654627Z",
     "iopub.status.idle": "2025-08-05T15:32:05.668292Z",
     "shell.execute_reply": "2025-08-05T15:32:05.667531Z"
    },
    "papermill": {
     "duration": 0.027153,
     "end_time": "2025-08-05T15:32:05.669786",
     "exception": false,
     "start_time": "2025-08-05T15:32:05.642633",
     "status": "completed"
    },
    "tags": []
   },
   "outputs": [
    {
     "data": {
      "text/html": [
       "<div>\n",
       "<style scoped>\n",
       "    .dataframe tbody tr th:only-of-type {\n",
       "        vertical-align: middle;\n",
       "    }\n",
       "\n",
       "    .dataframe tbody tr th {\n",
       "        vertical-align: top;\n",
       "    }\n",
       "\n",
       "    .dataframe thead th {\n",
       "        text-align: right;\n",
       "    }\n",
       "</style>\n",
       "<table border=\"1\" class=\"dataframe\">\n",
       "  <thead>\n",
       "    <tr style=\"text-align: right;\">\n",
       "      <th></th>\n",
       "      <th>universe_id</th>\n",
       "      <th>universe_training_year</th>\n",
       "      <th>universe_training_size</th>\n",
       "      <th>universe_scale</th>\n",
       "      <th>universe_model</th>\n",
       "      <th>universe_exclude_features</th>\n",
       "      <th>universe_exclude_subgroups</th>\n",
       "      <th>q_hat</th>\n",
       "      <th>coverage</th>\n",
       "      <th>avg_size</th>\n",
       "      <th>cov_frau1</th>\n",
       "      <th>cov_nongerman</th>\n",
       "      <th>cov_nongerman_male</th>\n",
       "      <th>cov_nongerman_female</th>\n",
       "    </tr>\n",
       "  </thead>\n",
       "  <tbody>\n",
       "    <tr>\n",
       "      <th>0</th>\n",
       "      <td>2f3fa3502cc024b67f76376a81dc38f0</td>\n",
       "      <td>2014</td>\n",
       "      <td>5k</td>\n",
       "      <td>do-not-scale</td>\n",
       "      <td>gbm</td>\n",
       "      <td>sex</td>\n",
       "      <td>keep-all</td>\n",
       "      <td>0.720821</td>\n",
       "      <td>0.912317</td>\n",
       "      <td>1.133341</td>\n",
       "      <td>0.909206</td>\n",
       "      <td>0.911245</td>\n",
       "      <td>0.927137</td>\n",
       "      <td>0.884948</td>\n",
       "    </tr>\n",
       "  </tbody>\n",
       "</table>\n",
       "</div>"
      ],
      "text/plain": [
       "                        universe_id universe_training_year  \\\n",
       "0  2f3fa3502cc024b67f76376a81dc38f0                   2014   \n",
       "\n",
       "  universe_training_size universe_scale universe_model  \\\n",
       "0                     5k   do-not-scale            gbm   \n",
       "\n",
       "  universe_exclude_features universe_exclude_subgroups     q_hat  coverage  \\\n",
       "0                       sex                   keep-all  0.720821  0.912317   \n",
       "\n",
       "   avg_size  cov_frau1  cov_nongerman  cov_nongerman_male  \\\n",
       "0  1.133341   0.909206       0.911245            0.927137   \n",
       "\n",
       "   cov_nongerman_female  \n",
       "0              0.884948  "
      ]
     },
     "execution_count": 58,
     "metadata": {},
     "output_type": "execute_result"
    }
   ],
   "source": [
    "cp_metrics_df"
   ]
  },
  {
   "cell_type": "markdown",
   "id": "33774451",
   "metadata": {
    "papermill": {
     "duration": 0.011186,
     "end_time": "2025-08-05T15:32:05.693395",
     "exception": false,
     "start_time": "2025-08-05T15:32:05.682209",
     "status": "completed"
    },
    "tags": []
   },
   "source": [
    "# (Fairness) Metrics"
   ]
  },
  {
   "cell_type": "code",
   "execution_count": 59,
   "id": "debc5d62",
   "metadata": {
    "execution": {
     "iopub.execute_input": "2025-08-05T15:32:05.717533Z",
     "iopub.status.busy": "2025-08-05T15:32:05.716817Z",
     "iopub.status.idle": "2025-08-05T15:32:05.731135Z",
     "shell.execute_reply": "2025-08-05T15:32:05.730429Z"
    },
    "papermill": {
     "duration": 0.028065,
     "end_time": "2025-08-05T15:32:05.732622",
     "exception": false,
     "start_time": "2025-08-05T15:32:05.704557",
     "status": "completed"
    },
    "tags": []
   },
   "outputs": [],
   "source": [
    "# do I need to include maxdeutsch1.missing?\n",
    "\n",
    "import numpy as np\n",
    "\n",
    "colname_to_bin = \"maxdeutsch1\"\n",
    "majority_value = org_train[colname_to_bin].mode()[0]\n",
    "\n",
    "org_test[\"majmin\"] = np.where(org_test[colname_to_bin] == majority_value, \"majority\", \"minority\")"
   ]
  },
  {
   "cell_type": "code",
   "execution_count": 60,
   "id": "06a50de5",
   "metadata": {
    "execution": {
     "iopub.execute_input": "2025-08-05T15:32:05.757593Z",
     "iopub.status.busy": "2025-08-05T15:32:05.757077Z",
     "iopub.status.idle": "2025-08-05T15:32:07.546445Z",
     "shell.execute_reply": "2025-08-05T15:32:07.545657Z"
    },
    "papermill": {
     "duration": 1.803185,
     "end_time": "2025-08-05T15:32:07.547910",
     "exception": false,
     "start_time": "2025-08-05T15:32:05.744725",
     "status": "completed"
    },
    "tags": []
   },
   "outputs": [],
   "source": [
    "example_universe = universe.copy()\n",
    "example_universe[\"cutoff\"] = example_universe[\"cutoff\"][0]\n",
    "example_universe[\"eval_fairness_grouping\"] = example_universe[\"eval_fairness_grouping\"][0]\n",
    "fairness_dict, metric_frame = universe_analysis.compute_metrics(\n",
    "    example_universe,\n",
    "    y_pred_prob=probs_test,\n",
    "    y_test=y_true,\n",
    "    org_test=org_test,\n",
    ")"
   ]
  },
  {
   "cell_type": "markdown",
   "id": "f95d4e02",
   "metadata": {
    "papermill": {
     "duration": 0.012186,
     "end_time": "2025-08-05T15:32:07.573917",
     "exception": false,
     "start_time": "2025-08-05T15:32:07.561731",
     "status": "completed"
    },
    "tags": []
   },
   "source": [
    "# Overall"
   ]
  },
  {
   "cell_type": "markdown",
   "id": "bdee4871",
   "metadata": {
    "papermill": {
     "duration": 0.012314,
     "end_time": "2025-08-05T15:32:07.598380",
     "exception": false,
     "start_time": "2025-08-05T15:32:07.586066",
     "status": "completed"
    },
    "tags": []
   },
   "source": [
    "Fairness\n",
    "Main fairness target: Equalized Odds. Seems to be a better fit than equal opportunity, since we're not only interested in Y = 1. Seems to be a better fit than demographic parity, since we also care about accuracy, not just equal distribution of preds.\n",
    "\n",
    "Pick column for computation of fairness metrics\n",
    "\n",
    "Performance\n",
    "Overall performance measures, most interesting in relation to the measures split by group below"
   ]
  },
  {
   "cell_type": "code",
   "execution_count": 61,
   "id": "c4e067c6",
   "metadata": {
    "execution": {
     "iopub.execute_input": "2025-08-05T15:32:07.629187Z",
     "iopub.status.busy": "2025-08-05T15:32:07.628420Z",
     "iopub.status.idle": "2025-08-05T15:32:07.636257Z",
     "shell.execute_reply": "2025-08-05T15:32:07.635465Z"
    },
    "papermill": {
     "duration": 0.021464,
     "end_time": "2025-08-05T15:32:07.637734",
     "exception": false,
     "start_time": "2025-08-05T15:32:07.616270",
     "status": "completed"
    },
    "tags": []
   },
   "outputs": [
    {
     "data": {
      "text/plain": [
       "accuracy                   0.224780\n",
       "balanced accuracy          0.549533\n",
       "f1                         0.246100\n",
       "precision                  0.140589\n",
       "false positive rate        0.887292\n",
       "false negative rate        0.013643\n",
       "selection rate             0.900000\n",
       "count                  89710.000000\n",
       "dtype: float64"
      ]
     },
     "execution_count": 61,
     "metadata": {},
     "output_type": "execute_result"
    }
   ],
   "source": [
    "metric_frame.overall"
   ]
  },
  {
   "cell_type": "markdown",
   "id": "e968fe9d",
   "metadata": {
    "papermill": {
     "duration": 0.012988,
     "end_time": "2025-08-05T15:32:07.665194",
     "exception": false,
     "start_time": "2025-08-05T15:32:07.652206",
     "status": "completed"
    },
    "tags": []
   },
   "source": [
    "By Group"
   ]
  },
  {
   "cell_type": "code",
   "execution_count": 62,
   "id": "ec325bce",
   "metadata": {
    "execution": {
     "iopub.execute_input": "2025-08-05T15:32:07.690183Z",
     "iopub.status.busy": "2025-08-05T15:32:07.689448Z",
     "iopub.status.idle": "2025-08-05T15:32:07.705004Z",
     "shell.execute_reply": "2025-08-05T15:32:07.704117Z"
    },
    "papermill": {
     "duration": 0.029765,
     "end_time": "2025-08-05T15:32:07.706349",
     "exception": false,
     "start_time": "2025-08-05T15:32:07.676584",
     "status": "completed"
    },
    "tags": []
   },
   "outputs": [
    {
     "data": {
      "text/html": [
       "<div>\n",
       "<style scoped>\n",
       "    .dataframe tbody tr th:only-of-type {\n",
       "        vertical-align: middle;\n",
       "    }\n",
       "\n",
       "    .dataframe tbody tr th {\n",
       "        vertical-align: top;\n",
       "    }\n",
       "\n",
       "    .dataframe thead th {\n",
       "        text-align: right;\n",
       "    }\n",
       "</style>\n",
       "<table border=\"1\" class=\"dataframe\">\n",
       "  <thead>\n",
       "    <tr style=\"text-align: right;\">\n",
       "      <th></th>\n",
       "      <th>accuracy</th>\n",
       "      <th>balanced accuracy</th>\n",
       "      <th>f1</th>\n",
       "      <th>precision</th>\n",
       "      <th>false positive rate</th>\n",
       "      <th>false negative rate</th>\n",
       "      <th>selection rate</th>\n",
       "      <th>count</th>\n",
       "    </tr>\n",
       "    <tr>\n",
       "      <th>majmin</th>\n",
       "      <th></th>\n",
       "      <th></th>\n",
       "      <th></th>\n",
       "      <th></th>\n",
       "      <th></th>\n",
       "      <th></th>\n",
       "      <th></th>\n",
       "      <th></th>\n",
       "    </tr>\n",
       "  </thead>\n",
       "  <tbody>\n",
       "    <tr>\n",
       "      <th>majority</th>\n",
       "      <td>0.247188</td>\n",
       "      <td>0.55942</td>\n",
       "      <td>0.256709</td>\n",
       "      <td>0.147613</td>\n",
       "      <td>0.864968</td>\n",
       "      <td>0.016193</td>\n",
       "      <td>0.880671</td>\n",
       "      <td>69170.0</td>\n",
       "    </tr>\n",
       "    <tr>\n",
       "      <th>minority</th>\n",
       "      <td>0.149318</td>\n",
       "      <td>0.51758</td>\n",
       "      <td>0.212609</td>\n",
       "      <td>0.119003</td>\n",
       "      <td>0.961039</td>\n",
       "      <td>0.003801</td>\n",
       "      <td>0.965093</td>\n",
       "      <td>20540.0</td>\n",
       "    </tr>\n",
       "  </tbody>\n",
       "</table>\n",
       "</div>"
      ],
      "text/plain": [
       "          accuracy  balanced accuracy        f1  precision  \\\n",
       "majmin                                                       \n",
       "majority  0.247188            0.55942  0.256709   0.147613   \n",
       "minority  0.149318            0.51758  0.212609   0.119003   \n",
       "\n",
       "          false positive rate  false negative rate  selection rate    count  \n",
       "majmin                                                                       \n",
       "majority             0.864968             0.016193        0.880671  69170.0  \n",
       "minority             0.961039             0.003801        0.965093  20540.0  "
      ]
     },
     "execution_count": 62,
     "metadata": {},
     "output_type": "execute_result"
    }
   ],
   "source": [
    "metric_frame.by_group"
   ]
  },
  {
   "cell_type": "code",
   "execution_count": 63,
   "id": "a9ddbe63",
   "metadata": {
    "execution": {
     "iopub.execute_input": "2025-08-05T15:32:07.734438Z",
     "iopub.status.busy": "2025-08-05T15:32:07.733639Z",
     "iopub.status.idle": "2025-08-05T15:32:10.142604Z",
     "shell.execute_reply": "2025-08-05T15:32:10.141658Z"
    },
    "papermill": {
     "duration": 2.425016,
     "end_time": "2025-08-05T15:32:10.144495",
     "exception": false,
     "start_time": "2025-08-05T15:32:07.719479",
     "status": "completed"
    },
    "tags": []
   },
   "outputs": [
    {
     "data": {
      "text/plain": [
       "array([[<Axes: title={'center': 'accuracy'}, xlabel='majmin'>,\n",
       "        <Axes: title={'center': 'balanced accuracy'}, xlabel='majmin'>,\n",
       "        <Axes: title={'center': 'f1'}, xlabel='majmin'>],\n",
       "       [<Axes: title={'center': 'precision'}, xlabel='majmin'>,\n",
       "        <Axes: title={'center': 'false positive rate'}, xlabel='majmin'>,\n",
       "        <Axes: title={'center': 'false negative rate'}, xlabel='majmin'>],\n",
       "       [<Axes: title={'center': 'selection rate'}, xlabel='majmin'>,\n",
       "        <Axes: title={'center': 'count'}, xlabel='majmin'>,\n",
       "        <Axes: xlabel='majmin'>]], dtype=object)"
      ]
     },
     "execution_count": 63,
     "metadata": {},
     "output_type": "execute_result"
    },
    {
     "data": {
      "image/png": "[encoded data removed]",
      "text/plain": [
       "<Figure size 1200x800 with 9 Axes>"
      ]
     },
     "metadata": {},
     "output_type": "display_data"
    }
   ],
   "source": [
    "# In a graphic\n",
    "metric_frame.by_group.plot.bar(\n",
    "    subplots=True,\n",
    "    layout=[3, 3],\n",
    "    legend=False,\n",
    "    figsize=[12, 8],\n",
    "    title=\"Show all metrics\",\n",
    ")"
   ]
  },
  {
   "cell_type": "markdown",
   "id": "f57a0bac",
   "metadata": {
    "papermill": {
     "duration": 0.026104,
     "end_time": "2025-08-05T15:32:10.198749",
     "exception": false,
     "start_time": "2025-08-05T15:32:10.172645",
     "status": "completed"
    },
    "tags": []
   },
   "source": [
    "# Final Output"
   ]
  },
  {
   "cell_type": "code",
   "execution_count": 64,
   "id": "96d280a3",
   "metadata": {
    "execution": {
     "iopub.execute_input": "2025-08-05T15:32:10.256169Z",
     "iopub.status.busy": "2025-08-05T15:32:10.255341Z",
     "iopub.status.idle": "2025-08-05T15:32:10.263979Z",
     "shell.execute_reply": "2025-08-05T15:32:10.262883Z"
    },
    "papermill": {
     "duration": 0.038866,
     "end_time": "2025-08-05T15:32:10.265748",
     "exception": false,
     "start_time": "2025-08-05T15:32:10.226882",
     "status": "completed"
    },
    "tags": []
   },
   "outputs": [
    {
     "data": {
      "text/plain": [
       "4"
      ]
     },
     "execution_count": 64,
     "metadata": {},
     "output_type": "execute_result"
    }
   ],
   "source": [
    "sub_universes = universe_analysis.generate_sub_universes()\n",
    "len(sub_universes)"
   ]
  },
  {
   "cell_type": "code",
   "execution_count": 65,
   "id": "92adf7ba",
   "metadata": {
    "execution": {
     "iopub.execute_input": "2025-08-05T15:32:10.321431Z",
     "iopub.status.busy": "2025-08-05T15:32:10.320880Z",
     "iopub.status.idle": "2025-08-05T15:32:10.329065Z",
     "shell.execute_reply": "2025-08-05T15:32:10.328101Z"
    },
    "papermill": {
     "duration": 0.037672,
     "end_time": "2025-08-05T15:32:10.331131",
     "exception": false,
     "start_time": "2025-08-05T15:32:10.293459",
     "status": "completed"
    },
    "tags": []
   },
   "outputs": [],
   "source": [
    "def filter_sub_universe_data(sub_universe, org_test):\n",
    "    # Keep all rows — no filtering\n",
    "    keep_rows_mask = np.ones(org_test.shape[0], dtype=bool)\n",
    "\n",
    "    print(f\"[INFO] Keeping all rows: {keep_rows_mask.sum()} rows retained.\")\n",
    "    return keep_rows_mask"
   ]
  },
  {
   "cell_type": "code",
   "execution_count": 66,
   "id": "4a759155",
   "metadata": {
    "execution": {
     "iopub.execute_input": "2025-08-05T15:32:10.385033Z",
     "iopub.status.busy": "2025-08-05T15:32:10.384578Z",
     "iopub.status.idle": "2025-08-05T15:32:19.716266Z",
     "shell.execute_reply": "2025-08-05T15:32:19.715254Z"
    },
    "papermill": {
     "duration": 9.359221,
     "end_time": "2025-08-05T15:32:19.717625",
     "exception": false,
     "start_time": "2025-08-05T15:32:10.358404",
     "status": "completed"
    },
    "tags": []
   },
   "outputs": [
    {
     "name": "stdout",
     "output_type": "stream",
     "text": [
      "Stopping execution_time clock.\n",
      "[INFO] Keeping all rows: 89710 rows retained.\n"
     ]
    },
    {
     "name": "stdout",
     "output_type": "stream",
     "text": [
      "[INFO] Keeping all rows: 89710 rows retained.\n"
     ]
    },
    {
     "name": "stdout",
     "output_type": "stream",
     "text": [
      "[INFO] Keeping all rows: 89710 rows retained.\n"
     ]
    },
    {
     "name": "stdout",
     "output_type": "stream",
     "text": [
      "[INFO] Keeping all rows: 89710 rows retained.\n"
     ]
    },
    {
     "data": {
      "text/html": [
       "<div>\n",
       "<style scoped>\n",
       "    .dataframe tbody tr th:only-of-type {\n",
       "        vertical-align: middle;\n",
       "    }\n",
       "\n",
       "    .dataframe tbody tr th {\n",
       "        vertical-align: top;\n",
       "    }\n",
       "\n",
       "    .dataframe thead th {\n",
       "        text-align: right;\n",
       "    }\n",
       "</style>\n",
       "<table border=\"1\" class=\"dataframe\">\n",
       "  <thead>\n",
       "    <tr style=\"text-align: right;\">\n",
       "      <th></th>\n",
       "      <th>run_no</th>\n",
       "      <th>universe_id</th>\n",
       "      <th>universe_settings</th>\n",
       "      <th>execution_time</th>\n",
       "      <th>test_size_n</th>\n",
       "      <th>test_size_frac</th>\n",
       "      <th>fair_main_equalized_odds_difference</th>\n",
       "      <th>fair_main_equalized_odds_ratio</th>\n",
       "      <th>fair_main_demographic_parity_difference</th>\n",
       "      <th>fair_main_demographic_parity_ratio</th>\n",
       "      <th>...</th>\n",
       "      <th>perf_grp_precision_0</th>\n",
       "      <th>perf_grp_precision_1</th>\n",
       "      <th>perf_grp_false positive rate_0</th>\n",
       "      <th>perf_grp_false positive rate_1</th>\n",
       "      <th>perf_grp_false negative rate_0</th>\n",
       "      <th>perf_grp_false negative rate_1</th>\n",
       "      <th>perf_grp_selection rate_0</th>\n",
       "      <th>perf_grp_selection rate_1</th>\n",
       "      <th>perf_grp_count_0</th>\n",
       "      <th>perf_grp_count_1</th>\n",
       "    </tr>\n",
       "  </thead>\n",
       "  <tbody>\n",
       "    <tr>\n",
       "      <th>0</th>\n",
       "      <td>15</td>\n",
       "      <td>2f3fa3502cc024b67f76376a81dc38f0</td>\n",
       "      <td>{\"cutoff\": \"quantile_0.1\", \"eval_fairness_grou...</td>\n",
       "      <td>25.266239</td>\n",
       "      <td>89710</td>\n",
       "      <td>1.0</td>\n",
       "      <td>0.096071</td>\n",
       "      <td>0.900034</td>\n",
       "      <td>0.084422</td>\n",
       "      <td>0.912525</td>\n",
       "      <td>...</td>\n",
       "      <td>NaN</td>\n",
       "      <td>NaN</td>\n",
       "      <td>NaN</td>\n",
       "      <td>NaN</td>\n",
       "      <td>NaN</td>\n",
       "      <td>NaN</td>\n",
       "      <td>NaN</td>\n",
       "      <td>NaN</td>\n",
       "      <td>NaN</td>\n",
       "      <td>NaN</td>\n",
       "    </tr>\n",
       "    <tr>\n",
       "      <th>0</th>\n",
       "      <td>15</td>\n",
       "      <td>2f3fa3502cc024b67f76376a81dc38f0</td>\n",
       "      <td>{\"cutoff\": \"quantile_0.1\", \"eval_fairness_grou...</td>\n",
       "      <td>25.266239</td>\n",
       "      <td>89710</td>\n",
       "      <td>1.0</td>\n",
       "      <td>0.096071</td>\n",
       "      <td>0.900034</td>\n",
       "      <td>0.084422</td>\n",
       "      <td>0.912525</td>\n",
       "      <td>...</td>\n",
       "      <td>0.119003</td>\n",
       "      <td>0.147613</td>\n",
       "      <td>0.961039</td>\n",
       "      <td>0.864968</td>\n",
       "      <td>0.003801</td>\n",
       "      <td>0.016193</td>\n",
       "      <td>0.965093</td>\n",
       "      <td>0.880671</td>\n",
       "      <td>20540.0</td>\n",
       "      <td>69170.0</td>\n",
       "    </tr>\n",
       "    <tr>\n",
       "      <th>0</th>\n",
       "      <td>15</td>\n",
       "      <td>2f3fa3502cc024b67f76376a81dc38f0</td>\n",
       "      <td>{\"cutoff\": \"quantile_0.25\", \"eval_fairness_gro...</td>\n",
       "      <td>25.266239</td>\n",
       "      <td>89710</td>\n",
       "      <td>1.0</td>\n",
       "      <td>0.071332</td>\n",
       "      <td>0.908146</td>\n",
       "      <td>0.057909</td>\n",
       "      <td>0.927126</td>\n",
       "      <td>...</td>\n",
       "      <td>NaN</td>\n",
       "      <td>NaN</td>\n",
       "      <td>NaN</td>\n",
       "      <td>NaN</td>\n",
       "      <td>NaN</td>\n",
       "      <td>NaN</td>\n",
       "      <td>NaN</td>\n",
       "      <td>NaN</td>\n",
       "      <td>NaN</td>\n",
       "      <td>NaN</td>\n",
       "    </tr>\n",
       "    <tr>\n",
       "      <th>0</th>\n",
       "      <td>15</td>\n",
       "      <td>2f3fa3502cc024b67f76376a81dc38f0</td>\n",
       "      <td>{\"cutoff\": \"quantile_0.25\", \"eval_fairness_gro...</td>\n",
       "      <td>25.266239</td>\n",
       "      <td>89710</td>\n",
       "      <td>1.0</td>\n",
       "      <td>0.071332</td>\n",
       "      <td>0.908146</td>\n",
       "      <td>0.057909</td>\n",
       "      <td>0.927126</td>\n",
       "      <td>...</td>\n",
       "      <td>0.135400</td>\n",
       "      <td>0.169231</td>\n",
       "      <td>0.776579</td>\n",
       "      <td>0.705247</td>\n",
       "      <td>0.066723</td>\n",
       "      <td>0.056455</td>\n",
       "      <td>0.794645</td>\n",
       "      <td>0.736736</td>\n",
       "      <td>20540.0</td>\n",
       "      <td>69170.0</td>\n",
       "    </tr>\n",
       "  </tbody>\n",
       "</table>\n",
       "<p>4 rows × 50 columns</p>\n",
       "</div>"
      ],
      "text/plain": [
       "  run_no                       universe_id  \\\n",
       "0     15  2f3fa3502cc024b67f76376a81dc38f0   \n",
       "0     15  2f3fa3502cc024b67f76376a81dc38f0   \n",
       "0     15  2f3fa3502cc024b67f76376a81dc38f0   \n",
       "0     15  2f3fa3502cc024b67f76376a81dc38f0   \n",
       "\n",
       "                                   universe_settings  execution_time  \\\n",
       "0  {\"cutoff\": \"quantile_0.1\", \"eval_fairness_grou...       25.266239   \n",
       "0  {\"cutoff\": \"quantile_0.1\", \"eval_fairness_grou...       25.266239   \n",
       "0  {\"cutoff\": \"quantile_0.25\", \"eval_fairness_gro...       25.266239   \n",
       "0  {\"cutoff\": \"quantile_0.25\", \"eval_fairness_gro...       25.266239   \n",
       "\n",
       "   test_size_n  test_size_frac  fair_main_equalized_odds_difference  \\\n",
       "0        89710             1.0                             0.096071   \n",
       "0        89710             1.0                             0.096071   \n",
       "0        89710             1.0                             0.071332   \n",
       "0        89710             1.0                             0.071332   \n",
       "\n",
       "   fair_main_equalized_odds_ratio  fair_main_demographic_parity_difference  \\\n",
       "0                        0.900034                                 0.084422   \n",
       "0                        0.900034                                 0.084422   \n",
       "0                        0.908146                                 0.057909   \n",
       "0                        0.908146                                 0.057909   \n",
       "\n",
       "   fair_main_demographic_parity_ratio  ...  perf_grp_precision_0  \\\n",
       "0                            0.912525  ...                   NaN   \n",
       "0                            0.912525  ...              0.119003   \n",
       "0                            0.927126  ...                   NaN   \n",
       "0                            0.927126  ...              0.135400   \n",
       "\n",
       "   perf_grp_precision_1  perf_grp_false positive rate_0  \\\n",
       "0                   NaN                             NaN   \n",
       "0              0.147613                        0.961039   \n",
       "0                   NaN                             NaN   \n",
       "0              0.169231                        0.776579   \n",
       "\n",
       "   perf_grp_false positive rate_1  perf_grp_false negative rate_0  \\\n",
       "0                             NaN                             NaN   \n",
       "0                        0.864968                        0.003801   \n",
       "0                             NaN                             NaN   \n",
       "0                        0.705247                        0.066723   \n",
       "\n",
       "   perf_grp_false negative rate_1  perf_grp_selection rate_0  \\\n",
       "0                             NaN                        NaN   \n",
       "0                        0.016193                   0.965093   \n",
       "0                             NaN                        NaN   \n",
       "0                        0.056455                   0.794645   \n",
       "\n",
       "   perf_grp_selection rate_1  perf_grp_count_0  perf_grp_count_1  \n",
       "0                        NaN               NaN               NaN  \n",
       "0                   0.880671           20540.0           69170.0  \n",
       "0                        NaN               NaN               NaN  \n",
       "0                   0.736736           20540.0           69170.0  \n",
       "\n",
       "[4 rows x 50 columns]"
      ]
     },
     "execution_count": 66,
     "metadata": {},
     "output_type": "execute_result"
    }
   ],
   "source": [
    "final_output = universe_analysis.generate_final_output(\n",
    "    y_pred_prob=probs_test,\n",
    "    y_test=y_true,\n",
    "    org_test=org_test,\n",
    "    filter_data=filter_sub_universe_data,\n",
    "    cp_metrics_df=cp_metrics_df,\n",
    "    save=True,\n",
    ")\n",
    "final_output"
   ]
  }
 ],
 "metadata": {
  "celltoolbar": "Tags",
  "kernelspec": {
   "display_name": "Python (CMA Fairness)",
   "language": "python",
   "name": "cma_fair_env"
  },
  "language_info": {
   "codemirror_mode": {
    "name": "ipython",
    "version": 3
   },
   "file_extension": ".py",
   "mimetype": "text/x-python",
   "name": "python",
   "nbconvert_exporter": "python",
   "pygments_lexer": "ipython3",
   "version": "3.10.12"
  },
  "papermill": {
   "default_parameters": {},
   "duration": 38.709808,
   "end_time": "2025-08-05T15:32:20.469048",
   "environment_variables": {},
   "exception": null,
   "input_path": "universe_analysis.ipynb",
   "output_path": "output/runs/15/notebooks/m_15-2f3fa3502cc024b67f76376a81dc38f0.ipynb",
   "parameters": {
    "output_dir": "output",
    "run_no": "15",
    "seed": "2023",
    "universe": "{\"cutoff\": [\"quantile_0.1\", \"quantile_0.25\"], \"eval_fairness_grouping\": [\"majority-minority\", \"nationality-all\"], \"exclude_features\": \"sex\", \"exclude_subgroups\": \"keep-all\", \"model\": \"gbm\", \"scale\": \"do-not-scale\", \"training_size\": \"5k\", \"training_year\": \"2014\"}",
    "universe_id": "2f3fa3502cc024b67f76376a81dc38f0"
   },
   "start_time": "2025-08-05T15:31:41.759240",
   "version": "2.6.0"
  }
 },
 "nbformat": 4,
 "nbformat_minor": 5
}