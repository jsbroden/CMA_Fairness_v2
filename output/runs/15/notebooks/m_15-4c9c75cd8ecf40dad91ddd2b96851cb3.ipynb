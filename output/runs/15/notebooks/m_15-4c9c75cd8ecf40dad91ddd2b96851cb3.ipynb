{
 "cells": [
  {
   "cell_type": "code",
   "execution_count": 1,
   "id": "f159f837-637b-42ba-96b5-ec9a68c44524",
   "metadata": {
    "execution": {
     "iopub.execute_input": "2025-08-05T14:32:59.634904Z",
     "iopub.status.busy": "2025-08-05T14:32:59.634449Z",
     "iopub.status.idle": "2025-08-05T14:32:59.646872Z",
     "shell.execute_reply": "2025-08-05T14:32:59.645960Z"
    },
    "papermill": {
     "duration": 0.043169,
     "end_time": "2025-08-05T14:32:59.653186",
     "exception": false,
     "start_time": "2025-08-05T14:32:59.610017",
     "status": "completed"
    },
    "tags": []
   },
   "outputs": [
    {
     "name": "stdout",
     "output_type": "stream",
     "text": [
      "/dss/dsshome1/0C/ra93lal2/cma/CMA_Fairness_v2\n"
     ]
    },
    {
     "name": "stderr",
     "output_type": "stream",
     "text": [
      "/dss/dsshome1/0C/ra93lal2/.local/share/virtualenvs/CMA_Fairness_v2-3j10GkSs/lib/python3.10/site-packages/IPython/core/magics/osm.py:393: UserWarning: This is now an optional IPython functionality, using bookmarks requires you to install the `pickleshare` library.\n",
      "  bkms = self.shell.db.get('bookmarks', {})\n",
      "/dss/dsshome1/0C/ra93lal2/.local/share/virtualenvs/CMA_Fairness_v2-3j10GkSs/lib/python3.10/site-packages/IPython/core/magics/osm.py:417: UserWarning: This is now an optional IPython functionality, setting dhist requires you to install the `pickleshare` library.\n",
      "  self.shell.db['dhist'] = compress_dhist(dhist)[-100:]\n"
     ]
    }
   ],
   "source": [
    "%cd ~/cma/CMA_Fairness_v2"
   ]
  },
  {
   "cell_type": "markdown",
   "id": "de2603b9",
   "metadata": {
    "papermill": {
     "duration": 0.017745,
     "end_time": "2025-08-05T14:32:59.689331",
     "exception": false,
     "start_time": "2025-08-05T14:32:59.671586",
     "status": "completed"
    },
    "tags": []
   },
   "source": [
    "The following cell holds the definition of our parameters, these values can be overriden by rendering the with e.g. the following command:\n",
    "\n",
    "papermill -p alpha 0.2 -p ratio 0.3 universe_analysis.ipynb output/test_run.ipynb"
   ]
  },
  {
   "cell_type": "code",
   "execution_count": 2,
   "id": "a80968a0-40bb-4fa9-85ef-2d5eefb01975",
   "metadata": {
    "execution": {
     "iopub.execute_input": "2025-08-05T14:32:59.728332Z",
     "iopub.status.busy": "2025-08-05T14:32:59.727810Z",
     "iopub.status.idle": "2025-08-05T14:32:59.733050Z",
     "shell.execute_reply": "2025-08-05T14:32:59.732108Z"
    },
    "papermill": {
     "duration": 0.027385,
     "end_time": "2025-08-05T14:32:59.734737",
     "exception": false,
     "start_time": "2025-08-05T14:32:59.707352",
     "status": "completed"
    },
    "tags": []
   },
   "outputs": [
    {
     "name": "stdout",
     "output_type": "stream",
     "text": [
      "Current working directory: /dss/dsshome1/0C/ra93lal2/cma/CMA_Fairness_v2\n"
     ]
    }
   ],
   "source": [
    "import os\n",
    "print(\"Current working directory:\", os.getcwd())"
   ]
  },
  {
   "cell_type": "code",
   "execution_count": 3,
   "id": "2dce4c03",
   "metadata": {
    "execution": {
     "iopub.execute_input": "2025-08-05T14:32:59.776800Z",
     "iopub.status.busy": "2025-08-05T14:32:59.776169Z",
     "iopub.status.idle": "2025-08-05T14:32:59.782385Z",
     "shell.execute_reply": "2025-08-05T14:32:59.781244Z"
    },
    "papermill": {
     "duration": 0.030606,
     "end_time": "2025-08-05T14:32:59.784219",
     "exception": false,
     "start_time": "2025-08-05T14:32:59.753613",
     "status": "completed"
    },
    "tags": [
     "parameters"
    ]
   },
   "outputs": [],
   "source": [
    "run_no = 0\n",
    "universe_id = \"test\"\n",
    "universe = {\n",
    "    \"training_size\": \"25k\", # \"25k\", \"5k\", \"1k\"\n",
    "    \"training_year\": \"2014\", # \"2014\", \"2012_14\", \"2010_14\"\n",
    "    \"scale\": \"scale\", # \"scale\", \"do-not-scale\",\n",
    "    #\"stratify_split\": \"target\", # \"none\", \"target\", \"protected-attribute\", \"both\",\n",
    "    \"model\": \"elasticnet\", # \"logreg\", \"penalized_logreg\", \"rf\", \"gbm\", \"elasticnet\"\n",
    "    \"cutoff\": [\"quantile_0.15\", \"quantile_0.30\"],\n",
    "    \"exclude_features\": \"age\", # \"none\", \"nationality\", \"sex\", \"nationality-sex\", \"age\"\n",
    "    \"exclude_subgroups\": \"keep-all\", # \"keep-all\", \"drop-non-german\"\n",
    "    \"eval_fairness_grouping\": [\"majority-minority\", \"nationality-all\"]\n",
    "}\n",
    "\n",
    "output_dir=\"./output\"\n",
    "seed=0"
   ]
  },
  {
   "cell_type": "code",
   "execution_count": 4,
   "id": "fb8b8069",
   "metadata": {
    "execution": {
     "iopub.execute_input": "2025-08-05T14:32:59.823825Z",
     "iopub.status.busy": "2025-08-05T14:32:59.823045Z",
     "iopub.status.idle": "2025-08-05T14:32:59.828295Z",
     "shell.execute_reply": "2025-08-05T14:32:59.827345Z"
    },
    "papermill": {
     "duration": 0.026704,
     "end_time": "2025-08-05T14:32:59.830145",
     "exception": false,
     "start_time": "2025-08-05T14:32:59.803441",
     "status": "completed"
    },
    "tags": [
     "injected-parameters"
    ]
   },
   "outputs": [],
   "source": [
    "# Parameters\n",
    "universe_id = \"4c9c75cd8ecf40dad91ddd2b96851cb3\"\n",
    "run_no = \"15\"\n",
    "universe = \"{\\\"cutoff\\\": [\\\"quantile_0.1\\\", \\\"quantile_0.25\\\"], \\\"eval_fairness_grouping\\\": [\\\"majority-minority\\\", \\\"nationality-all\\\"], \\\"exclude_features\\\": \\\"none\\\", \\\"exclude_subgroups\\\": \\\"keep-all\\\", \\\"model\\\": \\\"penalized_logreg\\\", \\\"scale\\\": \\\"scale\\\", \\\"training_size\\\": \\\"25k\\\", \\\"training_year\\\": \\\"2014\\\"}\"\n",
    "output_dir = \"output\"\n",
    "seed = \"2023\"\n"
   ]
  },
  {
   "cell_type": "code",
   "execution_count": 5,
   "id": "1650acaf",
   "metadata": {
    "execution": {
     "iopub.execute_input": "2025-08-05T14:32:59.870934Z",
     "iopub.status.busy": "2025-08-05T14:32:59.870286Z",
     "iopub.status.idle": "2025-08-05T14:32:59.875267Z",
     "shell.execute_reply": "2025-08-05T14:32:59.874286Z"
    },
    "papermill": {
     "duration": 0.026554,
     "end_time": "2025-08-05T14:32:59.877003",
     "exception": false,
     "start_time": "2025-08-05T14:32:59.850449",
     "status": "completed"
    },
    "tags": []
   },
   "outputs": [],
   "source": [
    "import json\n",
    "# Parse universe into dict if it is passed as a string\n",
    "if isinstance(universe, str):\n",
    "    universe = json.loads(universe)"
   ]
  },
  {
   "cell_type": "code",
   "execution_count": 6,
   "id": "16620c48",
   "metadata": {
    "execution": {
     "iopub.execute_input": "2025-08-05T14:32:59.915866Z",
     "iopub.status.busy": "2025-08-05T14:32:59.915231Z",
     "iopub.status.idle": "2025-08-05T14:32:59.957344Z",
     "shell.execute_reply": "2025-08-05T14:32:59.956525Z"
    },
    "papermill": {
     "duration": 0.063083,
     "end_time": "2025-08-05T14:32:59.959210",
     "exception": false,
     "start_time": "2025-08-05T14:32:59.896127",
     "status": "completed"
    },
    "tags": []
   },
   "outputs": [],
   "source": [
    "# Auto-reload the custom package\n",
    "%load_ext autoreload\n",
    "%autoreload 1\n",
    "%aimport fairness_multiverse"
   ]
  },
  {
   "cell_type": "code",
   "execution_count": 7,
   "id": "01c5c9f3",
   "metadata": {
    "execution": {
     "iopub.execute_input": "2025-08-05T14:32:59.998991Z",
     "iopub.status.busy": "2025-08-05T14:32:59.998371Z",
     "iopub.status.idle": "2025-08-05T14:33:01.751083Z",
     "shell.execute_reply": "2025-08-05T14:33:01.750161Z"
    },
    "papermill": {
     "duration": 1.773805,
     "end_time": "2025-08-05T14:33:01.752841",
     "exception": false,
     "start_time": "2025-08-05T14:32:59.979036",
     "status": "completed"
    },
    "tags": []
   },
   "outputs": [],
   "source": [
    "from fairness_multiverse.universe import UniverseAnalysis\n",
    "\n",
    "universe_analysis = UniverseAnalysis(\n",
    "    run_no = run_no,\n",
    "    universe_id = universe_id,\n",
    "    universe = universe,\n",
    "    output_dir=output_dir,\n",
    ")"
   ]
  },
  {
   "cell_type": "code",
   "execution_count": 8,
   "id": "106241f5",
   "metadata": {
    "execution": {
     "iopub.execute_input": "2025-08-05T14:33:01.794702Z",
     "iopub.status.busy": "2025-08-05T14:33:01.794253Z",
     "iopub.status.idle": "2025-08-05T14:33:01.802478Z",
     "shell.execute_reply": "2025-08-05T14:33:01.801547Z"
    },
    "papermill": {
     "duration": 0.030767,
     "end_time": "2025-08-05T14:33:01.804319",
     "exception": false,
     "start_time": "2025-08-05T14:33:01.773552",
     "status": "completed"
    },
    "tags": []
   },
   "outputs": [
    {
     "name": "stdout",
     "output_type": "stream",
     "text": [
      "Using Seed: 2023\n"
     ]
    }
   ],
   "source": [
    "import numpy as np\n",
    "parsed_seed = int(seed)\n",
    "np.random.seed(parsed_seed)\n",
    "print(f\"Using Seed: {parsed_seed}\")"
   ]
  },
  {
   "cell_type": "markdown",
   "id": "e0ebdc57",
   "metadata": {
    "papermill": {
     "duration": 0.018515,
     "end_time": "2025-08-05T14:33:01.842254",
     "exception": false,
     "start_time": "2025-08-05T14:33:01.823739",
     "status": "completed"
    },
    "tags": []
   },
   "source": [
    "# Loading Data"
   ]
  },
  {
   "cell_type": "markdown",
   "id": "681925a3",
   "metadata": {
    "papermill": {
     "duration": 0.019786,
     "end_time": "2025-08-05T14:33:01.882251",
     "exception": false,
     "start_time": "2025-08-05T14:33:01.862465",
     "status": "completed"
    },
    "tags": []
   },
   "source": [
    "Load siab_train, siab_test, siab_calib and/or \n",
    "load siab_train_features, siab_train_labels"
   ]
  },
  {
   "cell_type": "code",
   "execution_count": 9,
   "id": "f0496b8a",
   "metadata": {
    "execution": {
     "iopub.execute_input": "2025-08-05T14:33:01.922882Z",
     "iopub.status.busy": "2025-08-05T14:33:01.922441Z",
     "iopub.status.idle": "2025-08-05T14:33:12.367125Z",
     "shell.execute_reply": "2025-08-05T14:33:12.366175Z"
    },
    "papermill": {
     "duration": 10.466782,
     "end_time": "2025-08-05T14:33:12.368433",
     "exception": false,
     "start_time": "2025-08-05T14:33:01.901651",
     "status": "completed"
    },
    "tags": []
   },
   "outputs": [
    {
     "name": "stdout",
     "output_type": "stream",
     "text": [
      "Loading SIAB data from cache: data/siab_cached.csv.gz\n"
     ]
    },
    {
     "name": "stdout",
     "output_type": "stream",
     "text": [
      "(643690, 164)\n"
     ]
    }
   ],
   "source": [
    "from pathlib import Path\n",
    "import pandas as pd\n",
    "\n",
    "# File paths\n",
    "raw_file = Path(\"data/raw/siab.csv\")\n",
    "cache_file = Path(\"data/siab_cached.csv.gz\")\n",
    "\n",
    "# Ensure cache directory exists\n",
    "cache_file.parent.mkdir(parents=True, exist_ok=True)\n",
    "\n",
    "# Load with simple caching\n",
    "if cache_file.exists():\n",
    "    print(f\"Loading SIAB data from cache: {cache_file}\")\n",
    "    siab = pd.read_csv(cache_file, compression='gzip')\n",
    "else:\n",
    "    print(f\"Cache not found. Reading raw SIAB data: {raw_file}\")\n",
    "    siab = pd.read_csv(raw_file)\n",
    "    siab.to_csv(cache_file, index=False, compression='gzip')\n",
    "    print(f\"Cached SIAB data to: {cache_file}\")\n",
    "\n",
    "# Now use `siab` DataFrame as needed\n",
    "print(siab.shape)"
   ]
  },
  {
   "cell_type": "code",
   "execution_count": 10,
   "id": "db0ca512-5f53-4dba-abdb-a2888bca41ba",
   "metadata": {
    "execution": {
     "iopub.execute_input": "2025-08-05T14:33:12.393819Z",
     "iopub.status.busy": "2025-08-05T14:33:12.393285Z",
     "iopub.status.idle": "2025-08-05T14:33:12.398835Z",
     "shell.execute_reply": "2025-08-05T14:33:12.398005Z"
    },
    "papermill": {
     "duration": 0.018047,
     "end_time": "2025-08-05T14:33:12.400235",
     "exception": false,
     "start_time": "2025-08-05T14:33:12.382188",
     "status": "completed"
    },
    "tags": []
   },
   "outputs": [],
   "source": [
    "#siab"
   ]
  },
  {
   "cell_type": "code",
   "execution_count": 11,
   "id": "a0edb063",
   "metadata": {
    "execution": {
     "iopub.execute_input": "2025-08-05T14:33:12.423104Z",
     "iopub.status.busy": "2025-08-05T14:33:12.422472Z",
     "iopub.status.idle": "2025-08-05T14:33:12.426640Z",
     "shell.execute_reply": "2025-08-05T14:33:12.425915Z"
    },
    "papermill": {
     "duration": 0.016523,
     "end_time": "2025-08-05T14:33:12.428020",
     "exception": false,
     "start_time": "2025-08-05T14:33:12.411497",
     "status": "completed"
    },
    "tags": []
   },
   "outputs": [],
   "source": [
    "#import pandas as pd\n",
    "#\n",
    "#X_train = pd.read_csv(\"./data/X_train.csv\")\n",
    "#y_train = pd.read_csv(\"./data/y_train.csv\")"
   ]
  },
  {
   "cell_type": "code",
   "execution_count": 12,
   "id": "63d08085",
   "metadata": {
    "execution": {
     "iopub.execute_input": "2025-08-05T14:33:12.450947Z",
     "iopub.status.busy": "2025-08-05T14:33:12.450644Z",
     "iopub.status.idle": "2025-08-05T14:33:12.454622Z",
     "shell.execute_reply": "2025-08-05T14:33:12.453803Z"
    },
    "papermill": {
     "duration": 0.016722,
     "end_time": "2025-08-05T14:33:12.456215",
     "exception": false,
     "start_time": "2025-08-05T14:33:12.439493",
     "status": "completed"
    },
    "tags": []
   },
   "outputs": [],
   "source": [
    "#X_test = pd.read_csv(\"./data/X_test.csv\")\n",
    "#y_true = pd.read_csv(\"./data/y_test.csv\")"
   ]
  },
  {
   "cell_type": "code",
   "execution_count": 13,
   "id": "98a8d0fa-1d3d-4ed8-bb2c-281470e24add",
   "metadata": {
    "execution": {
     "iopub.execute_input": "2025-08-05T14:33:12.479049Z",
     "iopub.status.busy": "2025-08-05T14:33:12.478747Z",
     "iopub.status.idle": "2025-08-05T14:33:12.482669Z",
     "shell.execute_reply": "2025-08-05T14:33:12.481962Z"
    },
    "papermill": {
     "duration": 0.01651,
     "end_time": "2025-08-05T14:33:12.484156",
     "exception": false,
     "start_time": "2025-08-05T14:33:12.467646",
     "status": "completed"
    },
    "tags": []
   },
   "outputs": [],
   "source": [
    "# Calibration data for conformal\n",
    "#X_calib = pd.read_csv(\"./data/X_calib.csv\")\n",
    "#y_calib = pd.read_csv(\"./data/y_calib.csv\")"
   ]
  },
  {
   "cell_type": "markdown",
   "id": "997051c5-15bd-4b69-9786-c3001a3ce484",
   "metadata": {
    "papermill": {
     "duration": 0.010754,
     "end_time": "2025-08-05T14:33:12.506003",
     "exception": false,
     "start_time": "2025-08-05T14:33:12.495249",
     "status": "completed"
    },
    "tags": []
   },
   "source": [
    "# Splitting Data and Setting Training Data Size"
   ]
  },
  {
   "cell_type": "code",
   "execution_count": 14,
   "id": "e993b61f-042d-41a6-8c81-f55681f86335",
   "metadata": {
    "execution": {
     "iopub.execute_input": "2025-08-05T14:33:12.528090Z",
     "iopub.status.busy": "2025-08-05T14:33:12.527610Z",
     "iopub.status.idle": "2025-08-05T14:33:12.537165Z",
     "shell.execute_reply": "2025-08-05T14:33:12.536385Z"
    },
    "papermill": {
     "duration": 0.022389,
     "end_time": "2025-08-05T14:33:12.538722",
     "exception": false,
     "start_time": "2025-08-05T14:33:12.516333",
     "status": "completed"
    },
    "tags": []
   },
   "outputs": [],
   "source": [
    "def sample_by_year_size(df,\n",
    "                        training_year: str,\n",
    "                        training_size: str,\n",
    "                        random_state: int = 42):\n",
    "    # --- parse training_year into a list of int years ---\n",
    "    if \"_\" in training_year:\n",
    "        start_str, end_str = training_year.split(\"_\", 1)\n",
    "        start = int(start_str)\n",
    "        end   = int(end_str) if len(end_str) == 4 else (int(end_str) + (start // 100)*100)\n",
    "        years = list(range(start, end + 1))\n",
    "    else:\n",
    "        years = [int(training_year)]\n",
    "\n",
    "    df = df[df[\"year\"].isin(years)].reset_index(drop=True)\n",
    "\n",
    "    # --- map training_size to total number of samples ---\n",
    "    total_map = {\"25k\": 25_000, \"5k\": 5_000, \"1k\": 1_000}\n",
    "    if training_size not in total_map:\n",
    "        return df  # e.g. \"all\"\n",
    "\n",
    "    total_samples = total_map[training_size]\n",
    "    n_years       = len(years)\n",
    "    base          = total_samples // n_years\n",
    "    remainder     = total_samples % n_years\n",
    "\n",
    "    # --- build a dict: year -> how many to sample ---\n",
    "    # give +1 to the first `remainder` years in ascending order\n",
    "    quotas = {\n",
    "        year: base + (1 if idx < remainder else 0)\n",
    "        for idx, year in enumerate(sorted(years))\n",
    "    }\n",
    "\n",
    "    # --- sample per‐year according to the quota dict ---\n",
    "    sampled = (\n",
    "        df\n",
    "        .groupby(\"year\", group_keys=False)\n",
    "        .apply(lambda grp: grp.sample(\n",
    "            n=min(len(grp), quotas[grp.name]),\n",
    "            random_state=random_state))\n",
    "        .reset_index(drop=True)\n",
    "    )\n",
    "\n",
    "    return sampled"
   ]
  },
  {
   "cell_type": "code",
   "execution_count": 15,
   "id": "c0ccd338-0e02-41f3-a09d-f56f9266e3fb",
   "metadata": {
    "execution": {
     "iopub.execute_input": "2025-08-05T14:33:12.561809Z",
     "iopub.status.busy": "2025-08-05T14:33:12.561387Z",
     "iopub.status.idle": "2025-08-05T14:33:12.565553Z",
     "shell.execute_reply": "2025-08-05T14:33:12.564770Z"
    },
    "papermill": {
     "duration": 0.016763,
     "end_time": "2025-08-05T14:33:12.567002",
     "exception": false,
     "start_time": "2025-08-05T14:33:12.550239",
     "status": "completed"
    },
    "tags": []
   },
   "outputs": [],
   "source": [
    "#universe[\"training_size\"]"
   ]
  },
  {
   "cell_type": "code",
   "execution_count": 16,
   "id": "ca707fd7-8047-4acd-bfa5-66248fbbf8e6",
   "metadata": {
    "execution": {
     "iopub.execute_input": "2025-08-05T14:33:12.590362Z",
     "iopub.status.busy": "2025-08-05T14:33:12.589708Z",
     "iopub.status.idle": "2025-08-05T14:33:12.594235Z",
     "shell.execute_reply": "2025-08-05T14:33:12.593365Z"
    },
    "papermill": {
     "duration": 0.017523,
     "end_time": "2025-08-05T14:33:12.595728",
     "exception": false,
     "start_time": "2025-08-05T14:33:12.578205",
     "status": "completed"
    },
    "tags": []
   },
   "outputs": [],
   "source": [
    "#universe[\"training_year\"]"
   ]
  },
  {
   "cell_type": "code",
   "execution_count": 17,
   "id": "aea9c6ef-6f46-42c8-85eb-5a62025c1508",
   "metadata": {
    "execution": {
     "iopub.execute_input": "2025-08-05T14:33:12.619040Z",
     "iopub.status.busy": "2025-08-05T14:33:12.618390Z",
     "iopub.status.idle": "2025-08-05T14:33:12.909135Z",
     "shell.execute_reply": "2025-08-05T14:33:12.908385Z"
    },
    "papermill": {
     "duration": 0.303682,
     "end_time": "2025-08-05T14:33:12.910635",
     "exception": false,
     "start_time": "2025-08-05T14:33:12.606953",
     "status": "completed"
    },
    "tags": []
   },
   "outputs": [],
   "source": [
    "siab_train = sample_by_year_size(siab,\n",
    "                               training_year=universe[\"training_year\"],\n",
    "                               training_size=universe[\"training_size\"])"
   ]
  },
  {
   "cell_type": "code",
   "execution_count": 18,
   "id": "8d3afb32-789d-442c-8d5d-9f5aa8dd2eed",
   "metadata": {
    "execution": {
     "iopub.execute_input": "2025-08-05T14:33:12.933631Z",
     "iopub.status.busy": "2025-08-05T14:33:12.933278Z",
     "iopub.status.idle": "2025-08-05T14:33:12.937485Z",
     "shell.execute_reply": "2025-08-05T14:33:12.936693Z"
    },
    "papermill": {
     "duration": 0.017132,
     "end_time": "2025-08-05T14:33:12.938960",
     "exception": false,
     "start_time": "2025-08-05T14:33:12.921828",
     "status": "completed"
    },
    "tags": []
   },
   "outputs": [],
   "source": [
    "#siab_train.shape"
   ]
  },
  {
   "cell_type": "code",
   "execution_count": 19,
   "id": "d582db68-1a4c-47fb-84fc-08518dc1975a",
   "metadata": {
    "execution": {
     "iopub.execute_input": "2025-08-05T14:33:12.962684Z",
     "iopub.status.busy": "2025-08-05T14:33:12.962051Z",
     "iopub.status.idle": "2025-08-05T14:33:12.966272Z",
     "shell.execute_reply": "2025-08-05T14:33:12.965583Z"
    },
    "papermill": {
     "duration": 0.01695,
     "end_time": "2025-08-05T14:33:12.967697",
     "exception": false,
     "start_time": "2025-08-05T14:33:12.950747",
     "status": "completed"
    },
    "tags": []
   },
   "outputs": [],
   "source": [
    "#display(siab_train.groupby(\"year\").size())"
   ]
  },
  {
   "cell_type": "code",
   "execution_count": 20,
   "id": "a561edb4-d032-42cb-8256-22eac1111c64",
   "metadata": {
    "execution": {
     "iopub.execute_input": "2025-08-05T14:33:12.991139Z",
     "iopub.status.busy": "2025-08-05T14:33:12.990518Z",
     "iopub.status.idle": "2025-08-05T14:33:13.215760Z",
     "shell.execute_reply": "2025-08-05T14:33:13.215005Z"
    },
    "papermill": {
     "duration": 0.238015,
     "end_time": "2025-08-05T14:33:13.217202",
     "exception": false,
     "start_time": "2025-08-05T14:33:12.979187",
     "status": "completed"
    },
    "tags": []
   },
   "outputs": [],
   "source": [
    "#siab_train = siab_s[siab_s.year < 2015]\n",
    "siab_calib = siab[siab.year == 2015]\n",
    "siab_test = siab[siab.year == 2016]"
   ]
  },
  {
   "cell_type": "code",
   "execution_count": 21,
   "id": "472de16f-c3db-4916-846b-1f0de9cf1746",
   "metadata": {
    "execution": {
     "iopub.execute_input": "2025-08-05T14:33:13.240957Z",
     "iopub.status.busy": "2025-08-05T14:33:13.240605Z",
     "iopub.status.idle": "2025-08-05T14:33:13.253477Z",
     "shell.execute_reply": "2025-08-05T14:33:13.252464Z"
    },
    "papermill": {
     "duration": 0.026517,
     "end_time": "2025-08-05T14:33:13.255155",
     "exception": false,
     "start_time": "2025-08-05T14:33:13.228638",
     "status": "completed"
    },
    "tags": []
   },
   "outputs": [],
   "source": [
    "X_train = siab_train.iloc[:,4:164]\n",
    "y_train = siab_train.iloc[:, [3]]"
   ]
  },
  {
   "cell_type": "code",
   "execution_count": 22,
   "id": "828c96af-f43a-4ed6-ba47-8ac73a47d56c",
   "metadata": {
    "execution": {
     "iopub.execute_input": "2025-08-05T14:33:13.279727Z",
     "iopub.status.busy": "2025-08-05T14:33:13.279234Z",
     "iopub.status.idle": "2025-08-05T14:33:13.325498Z",
     "shell.execute_reply": "2025-08-05T14:33:13.324627Z"
    },
    "papermill": {
     "duration": 0.060064,
     "end_time": "2025-08-05T14:33:13.327275",
     "exception": false,
     "start_time": "2025-08-05T14:33:13.267211",
     "status": "completed"
    },
    "tags": []
   },
   "outputs": [],
   "source": [
    "X_calib = siab_calib.iloc[:,4:164]\n",
    "y_calib = siab_calib.iloc[:, [3]]"
   ]
  },
  {
   "cell_type": "code",
   "execution_count": 23,
   "id": "c34be9c3-6bd6-476e-acd3-845840e303be",
   "metadata": {
    "execution": {
     "iopub.execute_input": "2025-08-05T14:33:13.351639Z",
     "iopub.status.busy": "2025-08-05T14:33:13.351139Z",
     "iopub.status.idle": "2025-08-05T14:33:13.401836Z",
     "shell.execute_reply": "2025-08-05T14:33:13.400969Z"
    },
    "papermill": {
     "duration": 0.064003,
     "end_time": "2025-08-05T14:33:13.403329",
     "exception": false,
     "start_time": "2025-08-05T14:33:13.339326",
     "status": "completed"
    },
    "tags": []
   },
   "outputs": [],
   "source": [
    "X_test = siab_test.iloc[:,4:164]\n",
    "y_true = siab_test.iloc[:, [3]]"
   ]
  },
  {
   "cell_type": "markdown",
   "id": "9901737e-04df-44f0-9100-f5ad144ed040",
   "metadata": {
    "papermill": {
     "duration": 0.010936,
     "end_time": "2025-08-05T14:33:13.426427",
     "exception": false,
     "start_time": "2025-08-05T14:33:13.415491",
     "status": "completed"
    },
    "tags": []
   },
   "source": [
    "# Splitting Data and Setting Training Data Size OLD VERSION"
   ]
  },
  {
   "cell_type": "code",
   "execution_count": 24,
   "id": "acbc8f7d-8fc8-4e86-8c59-5dcb0f58384b",
   "metadata": {
    "execution": {
     "iopub.execute_input": "2025-08-05T14:33:13.450113Z",
     "iopub.status.busy": "2025-08-05T14:33:13.449608Z",
     "iopub.status.idle": "2025-08-05T14:33:13.454452Z",
     "shell.execute_reply": "2025-08-05T14:33:13.453601Z"
    },
    "papermill": {
     "duration": 0.018251,
     "end_time": "2025-08-05T14:33:13.455909",
     "exception": false,
     "start_time": "2025-08-05T14:33:13.437658",
     "status": "completed"
    },
    "tags": []
   },
   "outputs": [],
   "source": [
    "#def sample_by_year(df, training_size, random_state=42):\n",
    "#    if training_size == \"2014\":\n",
    "#        return df[df[\"year\"] == 2014].reset_index(drop=True)\n",
    "#    \n",
    "#    size_map = {\n",
    "#        \"25k\": 5000,\n",
    "#        \"5k\": 1000,\n",
    "#        \"1k\": 200\n",
    "#    }\n",
    "#\n",
    "#    if training_size not in size_map:\n",
    "#        return df.reset_index(drop=True)  # use all data\n",
    "#\n",
    "#    n_per_year = size_map[training_size]\n",
    "#    grouped = df.groupby(\"year\")\n",
    "#    sampled = grouped.apply(lambda x: x.sample(n=min(n_per_year, len(x)), random_state=random_state))\n",
    "#    return sampled.reset_index(drop=True)"
   ]
  },
  {
   "cell_type": "code",
   "execution_count": 25,
   "id": "6d931f52-beaf-43ff-9e78-9d44a448d54e",
   "metadata": {
    "execution": {
     "iopub.execute_input": "2025-08-05T14:33:13.480476Z",
     "iopub.status.busy": "2025-08-05T14:33:13.479980Z",
     "iopub.status.idle": "2025-08-05T14:33:13.484344Z",
     "shell.execute_reply": "2025-08-05T14:33:13.483543Z"
    },
    "papermill": {
     "duration": 0.017866,
     "end_time": "2025-08-05T14:33:13.485845",
     "exception": false,
     "start_time": "2025-08-05T14:33:13.467979",
     "status": "completed"
    },
    "tags": []
   },
   "outputs": [],
   "source": [
    "#siab_s = sample_by_year(siab, universe[\"training_size\"])"
   ]
  },
  {
   "cell_type": "code",
   "execution_count": 26,
   "id": "5db0a40e-a4e2-4920-be85-b12ae061d70d",
   "metadata": {
    "execution": {
     "iopub.execute_input": "2025-08-05T14:33:13.510431Z",
     "iopub.status.busy": "2025-08-05T14:33:13.509932Z",
     "iopub.status.idle": "2025-08-05T14:33:13.514277Z",
     "shell.execute_reply": "2025-08-05T14:33:13.513602Z"
    },
    "papermill": {
     "duration": 0.017658,
     "end_time": "2025-08-05T14:33:13.515495",
     "exception": false,
     "start_time": "2025-08-05T14:33:13.497837",
     "status": "completed"
    },
    "tags": []
   },
   "outputs": [],
   "source": [
    "#display(siab_s.groupby(\"year\").size())"
   ]
  },
  {
   "cell_type": "code",
   "execution_count": 27,
   "id": "e6c733c5",
   "metadata": {
    "execution": {
     "iopub.execute_input": "2025-08-05T14:33:13.542170Z",
     "iopub.status.busy": "2025-08-05T14:33:13.541671Z",
     "iopub.status.idle": "2025-08-05T14:33:13.636726Z",
     "shell.execute_reply": "2025-08-05T14:33:13.635946Z"
    },
    "papermill": {
     "duration": 0.110226,
     "end_time": "2025-08-05T14:33:13.638212",
     "exception": false,
     "start_time": "2025-08-05T14:33:13.527986",
     "status": "completed"
    },
    "tags": []
   },
   "outputs": [],
   "source": [
    "# Auxiliary data needed downstream in the pipeline\n",
    "\n",
    "org_train = X_train.copy()\n",
    "org_test = X_test.copy()\n",
    "org_calib = X_calib.copy()"
   ]
  },
  {
   "cell_type": "code",
   "execution_count": 28,
   "id": "1466abac-c6da-4492-a62f-4240ae3783af",
   "metadata": {
    "execution": {
     "iopub.execute_input": "2025-08-05T14:33:13.662335Z",
     "iopub.status.busy": "2025-08-05T14:33:13.661816Z",
     "iopub.status.idle": "2025-08-05T14:33:13.666729Z",
     "shell.execute_reply": "2025-08-05T14:33:13.665999Z"
    },
    "papermill": {
     "duration": 0.018582,
     "end_time": "2025-08-05T14:33:13.668345",
     "exception": false,
     "start_time": "2025-08-05T14:33:13.649763",
     "status": "completed"
    },
    "tags": []
   },
   "outputs": [],
   "source": [
    "# put in other script?\n",
    "# Group sizes\n",
    "\n",
    "#def calculate_percentages(df, df_name):\n",
    "#    total_entries = len(df)\n",
    "#\n",
    "#    female_pct = (df['frau1'] == 1).mean() * 100\n",
    "#    non_german_pct = ((df['maxdeutsch1'] == 0) & (df['maxdeutsch.Missing.'] == 0)).mean() * 100\n",
    "#    non_german_male_pct = ((df['frau1'] == 0) & (df['maxdeutsch1'] == 0) & (df['maxdeutsch.Missing.'] == 0)).mean() * 100\n",
    "#    non_german_female_pct = ((df['frau1'] == 1) & (df['maxdeutsch1'] == 0) & (df['maxdeutsch.Missing.'] == 0)).mean() * 100\n",
    "#\n",
    "#    print(f\"--- {df_name} ---\")\n",
    "#    print(f\"Female: {female_pct:.2f}%\")\n",
    "#    print(f\"Non-German: {non_german_pct:.2f}%\")\n",
    "#    print(f\"Non-German Male: {non_german_male_pct:.2f}%\")\n",
    "#    print(f\"Non-German Female: {non_german_female_pct:.2f}%\\n\")\n",
    "#\n",
    "## Calculate for each DataFrame\n",
    "#calculate_percentages(siab_calib, \"siab_calib\")\n",
    "#calculate_percentages(siab_test, \"siab_test\")\n",
    "#calculate_percentages(siab_train, \"siab_train\")"
   ]
  },
  {
   "cell_type": "markdown",
   "id": "0a4a1b33",
   "metadata": {
    "papermill": {
     "duration": 0.011057,
     "end_time": "2025-08-05T14:33:13.695180",
     "exception": false,
     "start_time": "2025-08-05T14:33:13.684123",
     "status": "completed"
    },
    "tags": []
   },
   "source": [
    "# Preprocessing Data"
   ]
  },
  {
   "cell_type": "code",
   "execution_count": 29,
   "id": "ca879031",
   "metadata": {
    "execution": {
     "iopub.execute_input": "2025-08-05T14:33:13.718960Z",
     "iopub.status.busy": "2025-08-05T14:33:13.718309Z",
     "iopub.status.idle": "2025-08-05T14:33:13.723427Z",
     "shell.execute_reply": "2025-08-05T14:33:13.722626Z"
    },
    "papermill": {
     "duration": 0.018728,
     "end_time": "2025-08-05T14:33:13.724832",
     "exception": false,
     "start_time": "2025-08-05T14:33:13.706104",
     "status": "completed"
    },
    "tags": []
   },
   "outputs": [],
   "source": [
    "# EXCLUDE PROTECTED FEATURES\n",
    "# ----------------------\n",
    "# \"exclude_features\": \"none\", # \"nationality\", \"sex\", \"nationality-sex\"\n",
    "\n",
    "excluded_features = universe[\"exclude_features\"].split(\"-\") # split, e.g.: \"nationality-sex\" -> [\"nationality\", \"sex\"]\n",
    "excluded_features_dictionary = {\n",
    "    \"nationality\": [\"maxdeutsch1\", \"maxdeutsch.Missing.\"],\n",
    "    \"sex\": [\"frau1\"],\n",
    "    \"age\": [\"age\"],\n",
    "}\n"
   ]
  },
  {
   "cell_type": "code",
   "execution_count": 30,
   "id": "b745ac60",
   "metadata": {
    "execution": {
     "iopub.execute_input": "2025-08-05T14:33:13.750068Z",
     "iopub.status.busy": "2025-08-05T14:33:13.749469Z",
     "iopub.status.idle": "2025-08-05T14:33:13.754213Z",
     "shell.execute_reply": "2025-08-05T14:33:13.753299Z"
    },
    "papermill": {
     "duration": 0.018416,
     "end_time": "2025-08-05T14:33:13.755612",
     "exception": false,
     "start_time": "2025-08-05T14:33:13.737196",
     "status": "completed"
    },
    "tags": []
   },
   "outputs": [],
   "source": [
    "# Code nice names to column names\n",
    "\n",
    "excluded_features_columns = [\n",
    "    excluded_features_dictionary[f] for f in excluded_features if len(f) > 0 and f != \"none\"\n",
    "]"
   ]
  },
  {
   "cell_type": "code",
   "execution_count": 31,
   "id": "f84f73a2",
   "metadata": {
    "execution": {
     "iopub.execute_input": "2025-08-05T14:33:13.780662Z",
     "iopub.status.busy": "2025-08-05T14:33:13.780163Z",
     "iopub.status.idle": "2025-08-05T14:33:13.785814Z",
     "shell.execute_reply": "2025-08-05T14:33:13.785010Z"
    },
    "papermill": {
     "duration": 0.019282,
     "end_time": "2025-08-05T14:33:13.787287",
     "exception": false,
     "start_time": "2025-08-05T14:33:13.768005",
     "status": "completed"
    },
    "tags": []
   },
   "outputs": [],
   "source": [
    "from utils import flatten_once\n",
    "\n",
    "excluded_features_columns = flatten_once(excluded_features_columns)"
   ]
  },
  {
   "cell_type": "code",
   "execution_count": 32,
   "id": "884dea22",
   "metadata": {
    "execution": {
     "iopub.execute_input": "2025-08-05T14:33:13.812311Z",
     "iopub.status.busy": "2025-08-05T14:33:13.811620Z",
     "iopub.status.idle": "2025-08-05T14:33:13.816615Z",
     "shell.execute_reply": "2025-08-05T14:33:13.815809Z"
    },
    "papermill": {
     "duration": 0.018671,
     "end_time": "2025-08-05T14:33:13.818238",
     "exception": false,
     "start_time": "2025-08-05T14:33:13.799567",
     "status": "completed"
    },
    "tags": []
   },
   "outputs": [],
   "source": [
    "if len(excluded_features_columns) > 0:\n",
    "    print(f\"Dropping features: {excluded_features_columns}\")\n",
    "    X_train.drop(excluded_features_columns, axis=1, inplace=True)"
   ]
  },
  {
   "cell_type": "code",
   "execution_count": 33,
   "id": "95ab8b16",
   "metadata": {
    "execution": {
     "iopub.execute_input": "2025-08-05T14:33:13.843662Z",
     "iopub.status.busy": "2025-08-05T14:33:13.842907Z",
     "iopub.status.idle": "2025-08-05T14:33:13.847897Z",
     "shell.execute_reply": "2025-08-05T14:33:13.847130Z"
    },
    "papermill": {
     "duration": 0.018887,
     "end_time": "2025-08-05T14:33:13.849434",
     "exception": false,
     "start_time": "2025-08-05T14:33:13.830547",
     "status": "completed"
    },
    "tags": []
   },
   "outputs": [],
   "source": [
    "if len(excluded_features_columns) > 0:\n",
    "    print(f\"Dropping features: {excluded_features_columns}\")\n",
    "    X_test.drop(excluded_features_columns, axis=1, inplace=True)"
   ]
  },
  {
   "cell_type": "code",
   "execution_count": 34,
   "id": "1853aaf5-fb9f-46cb-a2b5-8ea4ae2237e4",
   "metadata": {
    "execution": {
     "iopub.execute_input": "2025-08-05T14:33:13.874503Z",
     "iopub.status.busy": "2025-08-05T14:33:13.873753Z",
     "iopub.status.idle": "2025-08-05T14:33:13.878704Z",
     "shell.execute_reply": "2025-08-05T14:33:13.877913Z"
    },
    "papermill": {
     "duration": 0.018537,
     "end_time": "2025-08-05T14:33:13.880151",
     "exception": false,
     "start_time": "2025-08-05T14:33:13.861614",
     "status": "completed"
    },
    "tags": []
   },
   "outputs": [],
   "source": [
    "if len(excluded_features_columns) > 0:\n",
    "    print(f\"Dropping features: {excluded_features_columns}\")\n",
    "    X_calib.drop(excluded_features_columns, axis=1, inplace=True)"
   ]
  },
  {
   "cell_type": "code",
   "execution_count": 35,
   "id": "6727d079-03e5-481e-9d38-292a90b7a0a8",
   "metadata": {
    "execution": {
     "iopub.execute_input": "2025-08-05T14:33:13.905446Z",
     "iopub.status.busy": "2025-08-05T14:33:13.904953Z",
     "iopub.status.idle": "2025-08-05T14:33:13.909636Z",
     "shell.execute_reply": "2025-08-05T14:33:13.908774Z"
    },
    "papermill": {
     "duration": 0.018436,
     "end_time": "2025-08-05T14:33:13.911114",
     "exception": false,
     "start_time": "2025-08-05T14:33:13.892678",
     "status": "completed"
    },
    "tags": []
   },
   "outputs": [],
   "source": [
    "# SPLIT & STRATIFY DATA\n",
    "# ----------------------"
   ]
  },
  {
   "cell_type": "code",
   "execution_count": 36,
   "id": "76c4dc6d",
   "metadata": {
    "execution": {
     "iopub.execute_input": "2025-08-05T14:33:13.936223Z",
     "iopub.status.busy": "2025-08-05T14:33:13.935723Z",
     "iopub.status.idle": "2025-08-05T14:33:13.940508Z",
     "shell.execute_reply": "2025-08-05T14:33:13.939725Z"
    },
    "papermill": {
     "duration": 0.018641,
     "end_time": "2025-08-05T14:33:13.942043",
     "exception": false,
     "start_time": "2025-08-05T14:33:13.923402",
     "status": "completed"
    },
    "tags": []
   },
   "outputs": [],
   "source": [
    "# EXCLUDE CERTAIN SUBGROUPS\n",
    "# ----------------------\n",
    "\n",
    "mode = universe.get(\"exclude_subgroups\", \"keep-all\") \n",
    "# Fetches the exclude_subgroups setting from the universe dict.\n",
    "# Defaults to \"keep-all\" if the key is missing."
   ]
  },
  {
   "cell_type": "code",
   "execution_count": 37,
   "id": "21994072",
   "metadata": {
    "execution": {
     "iopub.execute_input": "2025-08-05T14:33:13.967382Z",
     "iopub.status.busy": "2025-08-05T14:33:13.967040Z",
     "iopub.status.idle": "2025-08-05T14:33:13.972330Z",
     "shell.execute_reply": "2025-08-05T14:33:13.971435Z"
    },
    "papermill": {
     "duration": 0.018997,
     "end_time": "2025-08-05T14:33:13.973719",
     "exception": false,
     "start_time": "2025-08-05T14:33:13.954722",
     "status": "completed"
    },
    "tags": []
   },
   "outputs": [],
   "source": [
    "if mode == \"keep-all\":\n",
    "    keep_mask = pd.Series(True, index=org_train.index)\n",
    "\n",
    "# org_train contains the original feature columns from features_org (in Simson)\n",
    "# features_org contains unprocessed features, for me X_train at beginning ???\n",
    "# For keep-all, creates a boolean Series (keep_mask) of all True, so no rows are removed.\n",
    "\n",
    "elif mode == \"drop-non-german\":\n",
    "    keep_mask = org_train[\"maxdeutsch1\"] == 1 # ??? what about missing values?\n",
    "\n",
    "else:\n",
    "    raise ValueError(f\"Unsupported mode for exclude_subgroups: {mode}\")\n"
   ]
  },
  {
   "cell_type": "code",
   "execution_count": 38,
   "id": "71651440",
   "metadata": {
    "execution": {
     "iopub.execute_input": "2025-08-05T14:33:13.998393Z",
     "iopub.status.busy": "2025-08-05T14:33:13.998026Z",
     "iopub.status.idle": "2025-08-05T14:33:14.003543Z",
     "shell.execute_reply": "2025-08-05T14:33:14.002835Z"
    },
    "papermill": {
     "duration": 0.018926,
     "end_time": "2025-08-05T14:33:14.004966",
     "exception": false,
     "start_time": "2025-08-05T14:33:13.986040",
     "status": "completed"
    },
    "tags": []
   },
   "outputs": [],
   "source": [
    "n_drop = (~keep_mask).sum() # Calculates how many rows are set to be dropped\n",
    "if n_drop > 0:\n",
    "    pct = n_drop / len(keep_mask) * 100\n",
    "    print(f\"Dropping {n_drop} rows ({pct:.2f}%) where mode='{mode}'\")"
   ]
  },
  {
   "cell_type": "code",
   "execution_count": 39,
   "id": "5fb8eee5",
   "metadata": {
    "execution": {
     "iopub.execute_input": "2025-08-05T14:33:14.030271Z",
     "iopub.status.busy": "2025-08-05T14:33:14.029738Z",
     "iopub.status.idle": "2025-08-05T14:33:14.043452Z",
     "shell.execute_reply": "2025-08-05T14:33:14.042568Z"
    },
    "papermill": {
     "duration": 0.027716,
     "end_time": "2025-08-05T14:33:14.045213",
     "exception": false,
     "start_time": "2025-08-05T14:33:14.017497",
     "status": "completed"
    },
    "tags": []
   },
   "outputs": [],
   "source": [
    "X_train = X_train[keep_mask]"
   ]
  },
  {
   "cell_type": "code",
   "execution_count": 40,
   "id": "b202bb3a",
   "metadata": {
    "execution": {
     "iopub.execute_input": "2025-08-05T14:33:14.070609Z",
     "iopub.status.busy": "2025-08-05T14:33:14.070093Z",
     "iopub.status.idle": "2025-08-05T14:33:14.075951Z",
     "shell.execute_reply": "2025-08-05T14:33:14.075172Z"
    },
    "papermill": {
     "duration": 0.019505,
     "end_time": "2025-08-05T14:33:14.077332",
     "exception": false,
     "start_time": "2025-08-05T14:33:14.057827",
     "status": "completed"
    },
    "tags": []
   },
   "outputs": [],
   "source": [
    "y_train = y_train[keep_mask]"
   ]
  },
  {
   "cell_type": "markdown",
   "id": "493e2ac3",
   "metadata": {
    "papermill": {
     "duration": 0.011286,
     "end_time": "2025-08-05T14:33:14.100932",
     "exception": false,
     "start_time": "2025-08-05T14:33:14.089646",
     "status": "completed"
    },
    "tags": []
   },
   "source": [
    "# Model Training"
   ]
  },
  {
   "cell_type": "code",
   "execution_count": 41,
   "id": "679e1268",
   "metadata": {
    "execution": {
     "iopub.execute_input": "2025-08-05T14:33:14.125241Z",
     "iopub.status.busy": "2025-08-05T14:33:14.124476Z",
     "iopub.status.idle": "2025-08-05T14:33:14.198066Z",
     "shell.execute_reply": "2025-08-05T14:33:14.197253Z"
    },
    "papermill": {
     "duration": 0.087333,
     "end_time": "2025-08-05T14:33:14.199533",
     "exception": false,
     "start_time": "2025-08-05T14:33:14.112200",
     "status": "completed"
    },
    "tags": []
   },
   "outputs": [],
   "source": [
    "from sklearn.linear_model import LogisticRegression\n",
    "from sklearn.ensemble import GradientBoostingClassifier, RandomForestClassifier\n",
    "\n",
    "if (universe[\"model\"] == \"logreg\"):\n",
    "    model = LogisticRegression() #penalty=\"none\", solver=\"newton-cg\", max_iter=1) # include random_state=19 ?\n",
    "elif (universe[\"model\"] == \"penalized_logreg\"):\n",
    "    model = LogisticRegression(penalty=\"l2\", C=0.1) #, solver=\"newton-cg\", max_iter=1)\n",
    "elif (universe[\"model\"] == \"rf\"):\n",
    "    model = RandomForestClassifier() # n_estimators=100, n_jobs=-1\n",
    "elif (universe[\"model\"] == \"gbm\"):\n",
    "    model = GradientBoostingClassifier()\n",
    "elif (universe[\"model\"] == \"elasticnet\"):\n",
    "    model = LogisticRegression(penalty = 'elasticnet', solver = 'saga', l1_ratio = 0.5) # max_iter=5000\n",
    "else:\n",
    "    raise \"Unsupported universe.model\""
   ]
  },
  {
   "cell_type": "code",
   "execution_count": 42,
   "id": "0cc8f744",
   "metadata": {
    "execution": {
     "iopub.execute_input": "2025-08-05T14:33:14.224563Z",
     "iopub.status.busy": "2025-08-05T14:33:14.224060Z",
     "iopub.status.idle": "2025-08-05T14:33:14.229503Z",
     "shell.execute_reply": "2025-08-05T14:33:14.228718Z"
    },
    "papermill": {
     "duration": 0.019401,
     "end_time": "2025-08-05T14:33:14.231069",
     "exception": false,
     "start_time": "2025-08-05T14:33:14.211668",
     "status": "completed"
    },
    "tags": []
   },
   "outputs": [],
   "source": [
    "import numpy as np\n",
    "from sklearn.pipeline import Pipeline\n",
    "from sklearn.preprocessing import StandardScaler\n",
    "\n",
    "model = Pipeline([\n",
    "    #(\"continuous_processor\", continuous_processor),\n",
    "    #(\"categorical_preprocessor\", categorical_preprocessor),\n",
    "    (\"scale\", StandardScaler() if universe[\"scale\"] == \"scale\" else None), \n",
    "    (\"model\", model),\n",
    "])"
   ]
  },
  {
   "cell_type": "code",
   "execution_count": 43,
   "id": "9442c04d",
   "metadata": {
    "execution": {
     "iopub.execute_input": "2025-08-05T14:33:14.256653Z",
     "iopub.status.busy": "2025-08-05T14:33:14.256155Z",
     "iopub.status.idle": "2025-08-05T14:33:14.852718Z",
     "shell.execute_reply": "2025-08-05T14:33:14.852026Z"
    },
    "papermill": {
     "duration": 0.610262,
     "end_time": "2025-08-05T14:33:14.853995",
     "exception": false,
     "start_time": "2025-08-05T14:33:14.243733",
     "status": "completed"
    },
    "tags": []
   },
   "outputs": [
    {
     "name": "stderr",
     "output_type": "stream",
     "text": [
      "/dss/dsshome1/0C/ra93lal2/.local/share/virtualenvs/CMA_Fairness_v2-3j10GkSs/lib/python3.10/site-packages/sklearn/linear_model/_logistic.py:444: ConvergenceWarning: lbfgs failed to converge (status=1):\n",
      "STOP: TOTAL NO. of ITERATIONS REACHED LIMIT.\n",
      "\n",
      "Increase the number of iterations (max_iter) or scale the data as shown in:\n",
      "    https://scikit-learn.org/stable/modules/preprocessing.html\n",
      "Please also refer to the documentation for alternative solver options:\n",
      "    https://scikit-learn.org/stable/modules/linear_model.html#logistic-regression\n",
      "  n_iter_i = _check_optimize_result(\n"
     ]
    },
    {
     "data": {
      "text/html": [
       "<style>#sk-container-id-1 {color: black;background-color: white;}#sk-container-id-1 pre{padding: 0;}#sk-container-id-1 div.sk-toggleable {background-color: white;}#sk-container-id-1 label.sk-toggleable__label {cursor: pointer;display: block;width: 100%;margin-bottom: 0;padding: 0.3em;box-sizing: border-box;text-align: center;}#sk-container-id-1 label.sk-toggleable__label-arrow:before {content: \"▸\";float: left;margin-right: 0.25em;color: #696969;}#sk-container-id-1 label.sk-toggleable__label-arrow:hover:before {color: black;}#sk-container-id-1 div.sk-estimator:hover label.sk-toggleable__label-arrow:before {color: black;}#sk-container-id-1 div.sk-toggleable__content {max-height: 0;max-width: 0;overflow: hidden;text-align: left;background-color: #f0f8ff;}#sk-container-id-1 div.sk-toggleable__content pre {margin: 0.2em;color: black;border-radius: 0.25em;background-color: #f0f8ff;}#sk-container-id-1 input.sk-toggleable__control:checked~div.sk-toggleable__content {max-height: 200px;max-width: 100%;overflow: auto;}#sk-container-id-1 input.sk-toggleable__control:checked~label.sk-toggleable__label-arrow:before {content: \"▾\";}#sk-container-id-1 div.sk-estimator input.sk-toggleable__control:checked~label.sk-toggleable__label {background-color: #d4ebff;}#sk-container-id-1 div.sk-label input.sk-toggleable__control:checked~label.sk-toggleable__label {background-color: #d4ebff;}#sk-container-id-1 input.sk-hidden--visually {border: 0;clip: rect(1px 1px 1px 1px);clip: rect(1px, 1px, 1px, 1px);height: 1px;margin: -1px;overflow: hidden;padding: 0;position: absolute;width: 1px;}#sk-container-id-1 div.sk-estimator {font-family: monospace;background-color: #f0f8ff;border: 1px dotted black;border-radius: 0.25em;box-sizing: border-box;margin-bottom: 0.5em;}#sk-container-id-1 div.sk-estimator:hover {background-color: #d4ebff;}#sk-container-id-1 div.sk-parallel-item::after {content: \"\";width: 100%;border-bottom: 1px solid gray;flex-grow: 1;}#sk-container-id-1 div.sk-label:hover label.sk-toggleable__label {background-color: #d4ebff;}#sk-container-id-1 div.sk-serial::before {content: \"\";position: absolute;border-left: 1px solid gray;box-sizing: border-box;top: 0;bottom: 0;left: 50%;z-index: 0;}#sk-container-id-1 div.sk-serial {display: flex;flex-direction: column;align-items: center;background-color: white;padding-right: 0.2em;padding-left: 0.2em;position: relative;}#sk-container-id-1 div.sk-item {position: relative;z-index: 1;}#sk-container-id-1 div.sk-parallel {display: flex;align-items: stretch;justify-content: center;background-color: white;position: relative;}#sk-container-id-1 div.sk-item::before, #sk-container-id-1 div.sk-parallel-item::before {content: \"\";position: absolute;border-left: 1px solid gray;box-sizing: border-box;top: 0;bottom: 0;left: 50%;z-index: -1;}#sk-container-id-1 div.sk-parallel-item {display: flex;flex-direction: column;z-index: 1;position: relative;background-color: white;}#sk-container-id-1 div.sk-parallel-item:first-child::after {align-self: flex-end;width: 50%;}#sk-container-id-1 div.sk-parallel-item:last-child::after {align-self: flex-start;width: 50%;}#sk-container-id-1 div.sk-parallel-item:only-child::after {width: 0;}#sk-container-id-1 div.sk-dashed-wrapped {border: 1px dashed gray;margin: 0 0.4em 0.5em 0.4em;box-sizing: border-box;padding-bottom: 0.4em;background-color: white;}#sk-container-id-1 div.sk-label label {font-family: monospace;font-weight: bold;display: inline-block;line-height: 1.2em;}#sk-container-id-1 div.sk-label-container {text-align: center;}#sk-container-id-1 div.sk-container {/* jupyter's `normalize.less` sets `[hidden] { display: none; }` but bootstrap.min.css set `[hidden] { display: none !important; }` so we also need the `!important` here to be able to override the default hidden behavior on the sphinx rendered scikit-learn.org. See: https://github.com/scikit-learn/scikit-learn/issues/21755 */display: inline-block !important;position: relative;}#sk-container-id-1 div.sk-text-repr-fallback {display: none;}</style><div id=\"sk-container-id-1\" class=\"sk-top-container\"><div class=\"sk-text-repr-fallback\"><pre>Pipeline(steps=[(&#x27;scale&#x27;, StandardScaler()),\n",
       "                (&#x27;model&#x27;, LogisticRegression(C=0.1))])</pre><b>In a Jupyter environment, please rerun this cell to show the HTML representation or trust the notebook. <br />On GitHub, the HTML representation is unable to render, please try loading this page with nbviewer.org.</b></div><div class=\"sk-container\" hidden><div class=\"sk-item sk-dashed-wrapped\"><div class=\"sk-label-container\"><div class=\"sk-label sk-toggleable\"><input class=\"sk-toggleable__control sk-hidden--visually\" id=\"sk-estimator-id-1\" type=\"checkbox\" ><label for=\"sk-estimator-id-1\" class=\"sk-toggleable__label sk-toggleable__label-arrow\">Pipeline</label><div class=\"sk-toggleable__content\"><pre>Pipeline(steps=[(&#x27;scale&#x27;, StandardScaler()),\n",
       "                (&#x27;model&#x27;, LogisticRegression(C=0.1))])</pre></div></div></div><div class=\"sk-serial\"><div class=\"sk-item\"><div class=\"sk-estimator sk-toggleable\"><input class=\"sk-toggleable__control sk-hidden--visually\" id=\"sk-estimator-id-2\" type=\"checkbox\" ><label for=\"sk-estimator-id-2\" class=\"sk-toggleable__label sk-toggleable__label-arrow\">StandardScaler</label><div class=\"sk-toggleable__content\"><pre>StandardScaler()</pre></div></div></div><div class=\"sk-item\"><div class=\"sk-estimator sk-toggleable\"><input class=\"sk-toggleable__control sk-hidden--visually\" id=\"sk-estimator-id-3\" type=\"checkbox\" ><label for=\"sk-estimator-id-3\" class=\"sk-toggleable__label sk-toggleable__label-arrow\">LogisticRegression</label><div class=\"sk-toggleable__content\"><pre>LogisticRegression(C=0.1)</pre></div></div></div></div></div></div></div>"
      ],
      "text/plain": [
       "Pipeline(steps=[('scale', StandardScaler()),\n",
       "                ('model', LogisticRegression(C=0.1))])"
      ]
     },
     "execution_count": 43,
     "metadata": {},
     "output_type": "execute_result"
    }
   ],
   "source": [
    "model.fit(X_train, y_train.values.ravel())"
   ]
  },
  {
   "cell_type": "code",
   "execution_count": 44,
   "id": "af59f8c0",
   "metadata": {
    "execution": {
     "iopub.execute_input": "2025-08-05T14:33:14.879811Z",
     "iopub.status.busy": "2025-08-05T14:33:14.879308Z",
     "iopub.status.idle": "2025-08-05T14:33:14.883907Z",
     "shell.execute_reply": "2025-08-05T14:33:14.883128Z"
    },
    "papermill": {
     "duration": 0.018838,
     "end_time": "2025-08-05T14:33:14.885328",
     "exception": false,
     "start_time": "2025-08-05T14:33:14.866490",
     "status": "completed"
    },
    "tags": []
   },
   "outputs": [],
   "source": [
    "from fairness_multiverse.universe import predict_w_threshold"
   ]
  },
  {
   "cell_type": "code",
   "execution_count": 45,
   "id": "a7cf2e16",
   "metadata": {
    "execution": {
     "iopub.execute_input": "2025-08-05T14:33:14.911654Z",
     "iopub.status.busy": "2025-08-05T14:33:14.911156Z",
     "iopub.status.idle": "2025-08-05T14:33:15.091369Z",
     "shell.execute_reply": "2025-08-05T14:33:15.090416Z"
    },
    "papermill": {
     "duration": 0.194845,
     "end_time": "2025-08-05T14:33:15.093075",
     "exception": false,
     "start_time": "2025-08-05T14:33:14.898230",
     "status": "completed"
    },
    "tags": []
   },
   "outputs": [
    {
     "data": {
      "text/plain": [
       "0.8652992977371531"
      ]
     },
     "execution_count": 45,
     "metadata": {},
     "output_type": "execute_result"
    }
   ],
   "source": [
    "probs_test = model.predict_proba(X_test)\n",
    "\n",
    "'''\n",
    "Below code returns a boolean array (or binary 0/1 array depending on how it’s used) where each element \n",
    "is True if the probability of class 1 is greater than or equal to the threshold, and False otherwise.\n",
    "'''\n",
    "y_pred_default = predict_w_threshold(probs_test, 0.5)\n",
    "\n",
    "from sklearn.metrics import accuracy_score\n",
    "\n",
    "# Naive prediction\n",
    "accuracy_score(y_true = y_true, y_pred = y_pred_default)"
   ]
  },
  {
   "cell_type": "code",
   "execution_count": 46,
   "id": "081964c3",
   "metadata": {
    "execution": {
     "iopub.execute_input": "2025-08-05T14:33:15.141768Z",
     "iopub.status.busy": "2025-08-05T14:33:15.141290Z",
     "iopub.status.idle": "2025-08-05T14:33:15.328628Z",
     "shell.execute_reply": "2025-08-05T14:33:15.327641Z"
    },
    "papermill": {
     "duration": 0.213161,
     "end_time": "2025-08-05T14:33:15.330615",
     "exception": false,
     "start_time": "2025-08-05T14:33:15.117454",
     "status": "completed"
    },
    "tags": []
   },
   "outputs": [
    {
     "data": {
      "text/plain": [
       "array([0, 0, 0, ..., 0, 0, 0])"
      ]
     },
     "execution_count": 46,
     "metadata": {},
     "output_type": "execute_result"
    }
   ],
   "source": [
    "model.predict(X_test)"
   ]
  },
  {
   "cell_type": "markdown",
   "id": "56c9705b",
   "metadata": {
    "papermill": {
     "duration": 0.021326,
     "end_time": "2025-08-05T14:33:15.372532",
     "exception": false,
     "start_time": "2025-08-05T14:33:15.351206",
     "status": "completed"
    },
    "tags": []
   },
   "source": [
    "# Conformal Prediction"
   ]
  },
  {
   "cell_type": "code",
   "execution_count": 47,
   "id": "160ec6ff",
   "metadata": {
    "execution": {
     "iopub.execute_input": "2025-08-05T14:33:15.420452Z",
     "iopub.status.busy": "2025-08-05T14:33:15.420106Z",
     "iopub.status.idle": "2025-08-05T14:33:15.424203Z",
     "shell.execute_reply": "2025-08-05T14:33:15.423507Z"
    },
    "papermill": {
     "duration": 0.028537,
     "end_time": "2025-08-05T14:33:15.425488",
     "exception": false,
     "start_time": "2025-08-05T14:33:15.396951",
     "status": "completed"
    },
    "tags": []
   },
   "outputs": [],
   "source": [
    "# Miscoverage level for conformal prediction (10% allowed error rate => 90% target coverage)\n",
    "alpha = 0.1"
   ]
  },
  {
   "cell_type": "code",
   "execution_count": 48,
   "id": "eadf4555-3dd3-440e-8e35-f82a4ad9f855",
   "metadata": {
    "execution": {
     "iopub.execute_input": "2025-08-05T14:33:15.450904Z",
     "iopub.status.busy": "2025-08-05T14:33:15.450421Z",
     "iopub.status.idle": "2025-08-05T14:33:15.752064Z",
     "shell.execute_reply": "2025-08-05T14:33:15.750934Z"
    },
    "papermill": {
     "duration": 0.317139,
     "end_time": "2025-08-05T14:33:15.754526",
     "exception": false,
     "start_time": "2025-08-05T14:33:15.437387",
     "status": "completed"
    },
    "tags": []
   },
   "outputs": [],
   "source": [
    "probs_calib = model.predict_proba(X_calib)"
   ]
  },
  {
   "cell_type": "code",
   "execution_count": 49,
   "id": "2ed93547-6d5d-4983-9b36-1ecb300da49a",
   "metadata": {
    "execution": {
     "iopub.execute_input": "2025-08-05T14:33:15.817316Z",
     "iopub.status.busy": "2025-08-05T14:33:15.816607Z",
     "iopub.status.idle": "2025-08-05T14:33:15.822950Z",
     "shell.execute_reply": "2025-08-05T14:33:15.821771Z"
    },
    "papermill": {
     "duration": 0.035502,
     "end_time": "2025-08-05T14:33:15.824739",
     "exception": false,
     "start_time": "2025-08-05T14:33:15.789237",
     "status": "completed"
    },
    "tags": []
   },
   "outputs": [],
   "source": [
    "y_calib = y_calib.values.ravel().astype(int)"
   ]
  },
  {
   "cell_type": "code",
   "execution_count": 50,
   "id": "65d1320d-f588-4b38-9072-62af1ae97f7d",
   "metadata": {
    "execution": {
     "iopub.execute_input": "2025-08-05T14:33:15.875182Z",
     "iopub.status.busy": "2025-08-05T14:33:15.874834Z",
     "iopub.status.idle": "2025-08-05T14:33:15.880713Z",
     "shell.execute_reply": "2025-08-05T14:33:15.879985Z"
    },
    "papermill": {
     "duration": 0.032993,
     "end_time": "2025-08-05T14:33:15.882301",
     "exception": false,
     "start_time": "2025-08-05T14:33:15.849308",
     "status": "completed"
    },
    "tags": []
   },
   "outputs": [],
   "source": [
    "from fairness_multiverse.conformal import compute_nc_scores\n",
    "\n",
    "# Compute nonconformity scores on calibration set (1 - probability of true class)\n",
    "nc_scores = compute_nc_scores(probs_calib, y_calib)"
   ]
  },
  {
   "cell_type": "code",
   "execution_count": 51,
   "id": "df3b8ca3-53b7-43d5-9667-7c85da7aeda2",
   "metadata": {
    "execution": {
     "iopub.execute_input": "2025-08-05T14:33:15.908764Z",
     "iopub.status.busy": "2025-08-05T14:33:15.908406Z",
     "iopub.status.idle": "2025-08-05T14:33:15.914550Z",
     "shell.execute_reply": "2025-08-05T14:33:15.913447Z"
    },
    "papermill": {
     "duration": 0.020851,
     "end_time": "2025-08-05T14:33:15.916369",
     "exception": false,
     "start_time": "2025-08-05T14:33:15.895518",
     "status": "completed"
    },
    "tags": []
   },
   "outputs": [],
   "source": [
    "from fairness_multiverse.conformal import find_threshold\n",
    "\n",
    "# Find conformal threshold q_hat for the given alpha (split conformal method)\n",
    "q_hat = find_threshold(nc_scores, alpha)"
   ]
  },
  {
   "cell_type": "code",
   "execution_count": 52,
   "id": "4d29e6c1-0ef6-4aa4-b8fe-4fe79b0d033a",
   "metadata": {
    "execution": {
     "iopub.execute_input": "2025-08-05T14:33:15.945094Z",
     "iopub.status.busy": "2025-08-05T14:33:15.944594Z",
     "iopub.status.idle": "2025-08-05T14:33:15.951500Z",
     "shell.execute_reply": "2025-08-05T14:33:15.950735Z"
    },
    "papermill": {
     "duration": 0.023057,
     "end_time": "2025-08-05T14:33:15.952972",
     "exception": false,
     "start_time": "2025-08-05T14:33:15.929915",
     "status": "completed"
    },
    "tags": []
   },
   "outputs": [
    {
     "data": {
      "text/plain": [
       "0.6760494330152901"
      ]
     },
     "execution_count": 52,
     "metadata": {},
     "output_type": "execute_result"
    }
   ],
   "source": [
    "q_hat"
   ]
  },
  {
   "cell_type": "code",
   "execution_count": 53,
   "id": "92460794-cdac-4be2-ba28-f28c0515a6fb",
   "metadata": {
    "execution": {
     "iopub.execute_input": "2025-08-05T14:33:15.984294Z",
     "iopub.status.busy": "2025-08-05T14:33:15.983626Z",
     "iopub.status.idle": "2025-08-05T14:33:16.675413Z",
     "shell.execute_reply": "2025-08-05T14:33:16.674659Z"
    },
    "papermill": {
     "duration": 0.70888,
     "end_time": "2025-08-05T14:33:16.677216",
     "exception": false,
     "start_time": "2025-08-05T14:33:15.968336",
     "status": "completed"
    },
    "tags": []
   },
   "outputs": [],
   "source": [
    "from fairness_multiverse.conformal import predict_conformal_sets\n",
    "\n",
    "# Generate prediction sets for each test example\n",
    "pred_sets = predict_conformal_sets(model, X_test, q_hat)"
   ]
  },
  {
   "cell_type": "code",
   "execution_count": 54,
   "id": "d90c9a65-e6db-4f5d-80cd-e68fb7e46829",
   "metadata": {
    "execution": {
     "iopub.execute_input": "2025-08-05T14:33:16.729209Z",
     "iopub.status.busy": "2025-08-05T14:33:16.728286Z",
     "iopub.status.idle": "2025-08-05T14:33:16.732993Z",
     "shell.execute_reply": "2025-08-05T14:33:16.732247Z"
    },
    "papermill": {
     "duration": 0.031654,
     "end_time": "2025-08-05T14:33:16.734460",
     "exception": false,
     "start_time": "2025-08-05T14:33:16.702806",
     "status": "completed"
    },
    "tags": []
   },
   "outputs": [],
   "source": [
    "y_true = y_true.squeeze()"
   ]
  },
  {
   "cell_type": "code",
   "execution_count": 55,
   "id": "3a58a54a-1e68-46b9-927a-df01f18aebc8",
   "metadata": {
    "execution": {
     "iopub.execute_input": "2025-08-05T14:33:16.763355Z",
     "iopub.status.busy": "2025-08-05T14:33:16.762840Z",
     "iopub.status.idle": "2025-08-05T14:33:17.657064Z",
     "shell.execute_reply": "2025-08-05T14:33:17.656294Z"
    },
    "papermill": {
     "duration": 0.909456,
     "end_time": "2025-08-05T14:33:17.658519",
     "exception": false,
     "start_time": "2025-08-05T14:33:16.749063",
     "status": "completed"
    },
    "tags": []
   },
   "outputs": [],
   "source": [
    "from fairness_multiverse.conformal import evaluate_sets\n",
    "\n",
    "# Evaluate coverage and average set size on test data\n",
    "metrics = evaluate_sets(pred_sets, y_true)"
   ]
  },
  {
   "cell_type": "markdown",
   "id": "2b569c12-9aaa-4c88-98c9-bbcd0cf3ebb8",
   "metadata": {
    "papermill": {
     "duration": 0.025997,
     "end_time": "2025-08-05T14:33:17.710410",
     "exception": false,
     "start_time": "2025-08-05T14:33:17.684413",
     "status": "completed"
    },
    "tags": []
   },
   "source": [
    "# CP Metrics"
   ]
  },
  {
   "cell_type": "code",
   "execution_count": 56,
   "id": "5ce0a5cb-201f-45a0-ade5-94c7f0bd6095",
   "metadata": {
    "execution": {
     "iopub.execute_input": "2025-08-05T14:33:17.763097Z",
     "iopub.status.busy": "2025-08-05T14:33:17.762296Z",
     "iopub.status.idle": "2025-08-05T14:33:17.769048Z",
     "shell.execute_reply": "2025-08-05T14:33:17.768085Z"
    },
    "papermill": {
     "duration": 0.03511,
     "end_time": "2025-08-05T14:33:17.770586",
     "exception": false,
     "start_time": "2025-08-05T14:33:17.735476",
     "status": "completed"
    },
    "tags": []
   },
   "outputs": [
    {
     "data": {
      "text/plain": [
       "{'coverage': 0.9124958198640063, 'avg_size': 1.1255266971352134}"
      ]
     },
     "execution_count": 56,
     "metadata": {},
     "output_type": "execute_result"
    }
   ],
   "source": [
    "metrics"
   ]
  },
  {
   "cell_type": "code",
   "execution_count": 57,
   "id": "9b9a838d-31c9-430b-ae14-12baee460d17",
   "metadata": {
    "execution": {
     "iopub.execute_input": "2025-08-05T14:33:17.798389Z",
     "iopub.status.busy": "2025-08-05T14:33:17.797729Z",
     "iopub.status.idle": "2025-08-05T14:33:17.804674Z",
     "shell.execute_reply": "2025-08-05T14:33:17.803507Z"
    },
    "papermill": {
     "duration": 0.023441,
     "end_time": "2025-08-05T14:33:17.806836",
     "exception": false,
     "start_time": "2025-08-05T14:33:17.783395",
     "status": "completed"
    },
    "tags": []
   },
   "outputs": [],
   "source": [
    "example_universe = universe.copy()\n",
    "universe_training_year = example_universe.get(\"training_year\")\n",
    "universe_training_size = example_universe.get(\"training_size\")\n",
    "universe_scale = example_universe.get(\"scale\")\n",
    "universe_model = example_universe.get(\"model\")\n",
    "universe_exclude_features = example_universe.get(\"exclude_features\")\n",
    "universe_exclude_subgroups = example_universe.get(\"exclude_subgroups\")"
   ]
  },
  {
   "cell_type": "code",
   "execution_count": 58,
   "id": "f4b6a8ac-9dc0-4245-8a91-5b3b5999c4f9",
   "metadata": {
    "execution": {
     "iopub.execute_input": "2025-08-05T14:33:17.862066Z",
     "iopub.status.busy": "2025-08-05T14:33:17.861507Z",
     "iopub.status.idle": "2025-08-05T14:33:17.868827Z",
     "shell.execute_reply": "2025-08-05T14:33:17.867642Z"
    },
    "papermill": {
     "duration": 0.034204,
     "end_time": "2025-08-05T14:33:17.870588",
     "exception": false,
     "start_time": "2025-08-05T14:33:17.836384",
     "status": "completed"
    },
    "tags": []
   },
   "outputs": [],
   "source": [
    "cp_metrics_dict = {\n",
    "    \"universe_id\": [universe_id],\n",
    "    \"universe_training_year\": [universe_training_year],\n",
    "    \"universe_training_size\": [universe_training_size],\n",
    "    \"universe_scale\": [universe_scale],\n",
    "    \"universe_model\": [universe_model],\n",
    "    \"universe_exclude_features\": [universe_exclude_features],\n",
    "    \"universe_exclude_subgroups\": [universe_exclude_subgroups],\n",
    "    \"q_hat\": [q_hat],\n",
    "    \"coverage\": [metrics[\"coverage\"]],\n",
    "    \"avg_size\": [metrics[\"avg_size\"]],\n",
    "}"
   ]
  },
  {
   "cell_type": "code",
   "execution_count": 59,
   "id": "908acbb1-0371-4915-85ca-3fa520d2efe2",
   "metadata": {
    "execution": {
     "iopub.execute_input": "2025-08-05T14:33:17.897600Z",
     "iopub.status.busy": "2025-08-05T14:33:17.897106Z",
     "iopub.status.idle": "2025-08-05T14:33:17.903810Z",
     "shell.execute_reply": "2025-08-05T14:33:17.902938Z"
    },
    "papermill": {
     "duration": 0.021499,
     "end_time": "2025-08-05T14:33:17.905244",
     "exception": false,
     "start_time": "2025-08-05T14:33:17.883745",
     "status": "completed"
    },
    "tags": []
   },
   "outputs": [
    {
     "data": {
      "text/plain": [
       "{'universe_id': ['4c9c75cd8ecf40dad91ddd2b96851cb3'],\n",
       " 'universe_training_year': ['2014'],\n",
       " 'universe_training_size': ['25k'],\n",
       " 'universe_scale': ['scale'],\n",
       " 'universe_model': ['penalized_logreg'],\n",
       " 'universe_exclude_features': ['none'],\n",
       " 'universe_exclude_subgroups': ['keep-all'],\n",
       " 'q_hat': [0.6760494330152901],\n",
       " 'coverage': [0.9124958198640063],\n",
       " 'avg_size': [1.1255266971352134]}"
      ]
     },
     "execution_count": 59,
     "metadata": {},
     "output_type": "execute_result"
    }
   ],
   "source": [
    "cp_metrics_dict"
   ]
  },
  {
   "cell_type": "code",
   "execution_count": 60,
   "id": "33007efc-14e9-4ec6-97ac-56a455c82265",
   "metadata": {
    "execution": {
     "iopub.execute_input": "2025-08-05T14:33:17.952277Z",
     "iopub.status.busy": "2025-08-05T14:33:17.951657Z",
     "iopub.status.idle": "2025-08-05T14:33:17.959348Z",
     "shell.execute_reply": "2025-08-05T14:33:17.958164Z"
    },
    "papermill": {
     "duration": 0.042334,
     "end_time": "2025-08-05T14:33:17.961177",
     "exception": false,
     "start_time": "2025-08-05T14:33:17.918843",
     "status": "completed"
    },
    "tags": []
   },
   "outputs": [],
   "source": [
    "cp_metrics_df = pd.DataFrame(cp_metrics_dict)"
   ]
  },
  {
   "cell_type": "code",
   "execution_count": 61,
   "id": "db12611b-57b2-4910-b9d0-355adfd6e7bf",
   "metadata": {
    "execution": {
     "iopub.execute_input": "2025-08-05T14:33:18.023472Z",
     "iopub.status.busy": "2025-08-05T14:33:18.022895Z",
     "iopub.status.idle": "2025-08-05T14:33:18.049657Z",
     "shell.execute_reply": "2025-08-05T14:33:18.048377Z"
    },
    "papermill": {
     "duration": 0.060357,
     "end_time": "2025-08-05T14:33:18.051559",
     "exception": false,
     "start_time": "2025-08-05T14:33:17.991202",
     "status": "completed"
    },
    "tags": []
   },
   "outputs": [
    {
     "data": {
      "text/html": [
       "<div>\n",
       "<style scoped>\n",
       "    .dataframe tbody tr th:only-of-type {\n",
       "        vertical-align: middle;\n",
       "    }\n",
       "\n",
       "    .dataframe tbody tr th {\n",
       "        vertical-align: top;\n",
       "    }\n",
       "\n",
       "    .dataframe thead th {\n",
       "        text-align: right;\n",
       "    }\n",
       "</style>\n",
       "<table border=\"1\" class=\"dataframe\">\n",
       "  <thead>\n",
       "    <tr style=\"text-align: right;\">\n",
       "      <th></th>\n",
       "      <th>universe_id</th>\n",
       "      <th>universe_training_year</th>\n",
       "      <th>universe_training_size</th>\n",
       "      <th>universe_scale</th>\n",
       "      <th>universe_model</th>\n",
       "      <th>universe_exclude_features</th>\n",
       "      <th>universe_exclude_subgroups</th>\n",
       "      <th>q_hat</th>\n",
       "      <th>coverage</th>\n",
       "      <th>avg_size</th>\n",
       "    </tr>\n",
       "  </thead>\n",
       "  <tbody>\n",
       "    <tr>\n",
       "      <th>0</th>\n",
       "      <td>4c9c75cd8ecf40dad91ddd2b96851cb3</td>\n",
       "      <td>2014</td>\n",
       "      <td>25k</td>\n",
       "      <td>scale</td>\n",
       "      <td>penalized_logreg</td>\n",
       "      <td>none</td>\n",
       "      <td>keep-all</td>\n",
       "      <td>0.676049</td>\n",
       "      <td>0.912496</td>\n",
       "      <td>1.125527</td>\n",
       "    </tr>\n",
       "  </tbody>\n",
       "</table>\n",
       "</div>"
      ],
      "text/plain": [
       "                        universe_id universe_training_year  \\\n",
       "0  4c9c75cd8ecf40dad91ddd2b96851cb3                   2014   \n",
       "\n",
       "  universe_training_size universe_scale    universe_model  \\\n",
       "0                    25k          scale  penalized_logreg   \n",
       "\n",
       "  universe_exclude_features universe_exclude_subgroups     q_hat  coverage  \\\n",
       "0                      none                   keep-all  0.676049  0.912496   \n",
       "\n",
       "   avg_size  \n",
       "0  1.125527  "
      ]
     },
     "execution_count": 61,
     "metadata": {},
     "output_type": "execute_result"
    }
   ],
   "source": [
    "cp_metrics_df"
   ]
  },
  {
   "cell_type": "code",
   "execution_count": 62,
   "id": "b7fbde55-a0a1-47e4-9af6-fe4a17fa8c61",
   "metadata": {
    "execution": {
     "iopub.execute_input": "2025-08-05T14:33:18.115141Z",
     "iopub.status.busy": "2025-08-05T14:33:18.114519Z",
     "iopub.status.idle": "2025-08-05T14:33:18.122050Z",
     "shell.execute_reply": "2025-08-05T14:33:18.120616Z"
    },
    "papermill": {
     "duration": 0.04242,
     "end_time": "2025-08-05T14:33:18.124376",
     "exception": false,
     "start_time": "2025-08-05T14:33:18.081956",
     "status": "completed"
    },
    "tags": []
   },
   "outputs": [],
   "source": [
    "# Conditional Coverage & looking at subgroups"
   ]
  },
  {
   "cell_type": "code",
   "execution_count": 63,
   "id": "027ae886-68dd-4141-96c7-805a5450e1ef",
   "metadata": {
    "execution": {
     "iopub.execute_input": "2025-08-05T14:33:18.186565Z",
     "iopub.status.busy": "2025-08-05T14:33:18.185581Z",
     "iopub.status.idle": "2025-08-05T14:33:18.470076Z",
     "shell.execute_reply": "2025-08-05T14:33:18.468892Z"
    },
    "papermill": {
     "duration": 0.31786,
     "end_time": "2025-08-05T14:33:18.472616",
     "exception": false,
     "start_time": "2025-08-05T14:33:18.154756",
     "status": "completed"
    },
    "tags": []
   },
   "outputs": [],
   "source": [
    "from fairness_multiverse.conformal import build_cp_groups\n",
    "\n",
    "cp_groups_df = build_cp_groups(pred_sets, y_true, X_test.index, org_test)\n",
    "#needs universe_id and setting"
   ]
  },
  {
   "cell_type": "code",
   "execution_count": 64,
   "id": "01d5802c-663a-4d1f-9d69-e036faaffbf7",
   "metadata": {
    "execution": {
     "iopub.execute_input": "2025-08-05T14:33:18.541432Z",
     "iopub.status.busy": "2025-08-05T14:33:18.540711Z",
     "iopub.status.idle": "2025-08-05T14:33:18.546956Z",
     "shell.execute_reply": "2025-08-05T14:33:18.545570Z"
    },
    "papermill": {
     "duration": 0.042952,
     "end_time": "2025-08-05T14:33:18.548811",
     "exception": false,
     "start_time": "2025-08-05T14:33:18.505859",
     "status": "completed"
    },
    "tags": []
   },
   "outputs": [],
   "source": [
    "#delete\n",
    "#cp_groups_df"
   ]
  },
  {
   "cell_type": "code",
   "execution_count": 65,
   "id": "fa424af1-d1eb-443d-b717-2d279ada8408",
   "metadata": {
    "execution": {
     "iopub.execute_input": "2025-08-05T14:33:18.611746Z",
     "iopub.status.busy": "2025-08-05T14:33:18.611201Z",
     "iopub.status.idle": "2025-08-05T14:33:18.616755Z",
     "shell.execute_reply": "2025-08-05T14:33:18.615704Z"
    },
    "papermill": {
     "duration": 0.039353,
     "end_time": "2025-08-05T14:33:18.618826",
     "exception": false,
     "start_time": "2025-08-05T14:33:18.579473",
     "status": "completed"
    },
    "tags": []
   },
   "outputs": [],
   "source": [
    "#delete\n",
    "#percentage = (cp_groups_df['nongerman_female'] == 1).mean() * 100\n",
    "#print(percentage)\n"
   ]
  },
  {
   "cell_type": "code",
   "execution_count": 66,
   "id": "6cbdab96-b2b2-45af-ad54-d0516db2e28d",
   "metadata": {
    "execution": {
     "iopub.execute_input": "2025-08-05T14:33:18.681047Z",
     "iopub.status.busy": "2025-08-05T14:33:18.680528Z",
     "iopub.status.idle": "2025-08-05T14:33:20.146774Z",
     "shell.execute_reply": "2025-08-05T14:33:20.145948Z"
    },
    "papermill": {
     "duration": 1.499862,
     "end_time": "2025-08-05T14:33:20.148334",
     "exception": false,
     "start_time": "2025-08-05T14:33:18.648472",
     "status": "completed"
    },
    "tags": []
   },
   "outputs": [],
   "source": [
    "# Define covered = 1 if true_label is in the predicted set\n",
    "cp_groups_df['covered'] = cp_groups_df.apply(\n",
    "    lambda r: int(r['true_label'] in r['pred_set']),\n",
    "    axis=1\n",
    ")"
   ]
  },
  {
   "cell_type": "code",
   "execution_count": 67,
   "id": "338ff529-1a6b-4b87-a931-8e4788d52aad",
   "metadata": {
    "execution": {
     "iopub.execute_input": "2025-08-05T14:33:20.204906Z",
     "iopub.status.busy": "2025-08-05T14:33:20.204266Z",
     "iopub.status.idle": "2025-08-05T14:33:20.210665Z",
     "shell.execute_reply": "2025-08-05T14:33:20.209597Z"
    },
    "papermill": {
     "duration": 0.034739,
     "end_time": "2025-08-05T14:33:20.211977",
     "exception": false,
     "start_time": "2025-08-05T14:33:20.177238",
     "status": "completed"
    },
    "tags": []
   },
   "outputs": [],
   "source": [
    "#cp_groups_df"
   ]
  },
  {
   "cell_type": "code",
   "execution_count": 68,
   "id": "90032e27-66df-4540-9169-4e89cfbaa758",
   "metadata": {
    "execution": {
     "iopub.execute_input": "2025-08-05T14:33:20.240553Z",
     "iopub.status.busy": "2025-08-05T14:33:20.240237Z",
     "iopub.status.idle": "2025-08-05T14:33:20.249721Z",
     "shell.execute_reply": "2025-08-05T14:33:20.248945Z"
    },
    "papermill": {
     "duration": 0.025915,
     "end_time": "2025-08-05T14:33:20.251188",
     "exception": false,
     "start_time": "2025-08-05T14:33:20.225273",
     "status": "completed"
    },
    "tags": []
   },
   "outputs": [],
   "source": [
    "subgroups = ['frau1','nongerman','nongerman_male','nongerman_female']\n",
    "\n",
    "# Conditional coverage for subgroup==1\n",
    "cond_coverage = {\n",
    "    g: cp_groups_df.loc[cp_groups_df[g]==1, 'covered'].mean()\n",
    "    for g in subgroups\n",
    "}"
   ]
  },
  {
   "cell_type": "code",
   "execution_count": 69,
   "id": "1e348fb1-b9c3-45bc-ba23-f016827a7e0d",
   "metadata": {
    "execution": {
     "iopub.execute_input": "2025-08-05T14:33:20.284283Z",
     "iopub.status.busy": "2025-08-05T14:33:20.283595Z",
     "iopub.status.idle": "2025-08-05T14:33:20.290393Z",
     "shell.execute_reply": "2025-08-05T14:33:20.289335Z"
    },
    "papermill": {
     "duration": 0.027281,
     "end_time": "2025-08-05T14:33:20.291813",
     "exception": false,
     "start_time": "2025-08-05T14:33:20.264532",
     "status": "completed"
    },
    "tags": []
   },
   "outputs": [
    {
     "data": {
      "text/plain": [
       "{'frau1': 0.911200970481197,\n",
       " 'nongerman': 0.9126480660191995,\n",
       " 'nongerman_male': 0.9279474016031704,\n",
       " 'nongerman_female': 0.8873323397913562}"
      ]
     },
     "execution_count": 69,
     "metadata": {},
     "output_type": "execute_result"
    }
   ],
   "source": [
    "cond_coverage"
   ]
  },
  {
   "cell_type": "code",
   "execution_count": 70,
   "id": "f5093324-c3dd-4d63-bc4c-8d945e5c8bbb",
   "metadata": {
    "execution": {
     "iopub.execute_input": "2025-08-05T14:33:20.320947Z",
     "iopub.status.busy": "2025-08-05T14:33:20.320443Z",
     "iopub.status.idle": "2025-08-05T14:33:20.326465Z",
     "shell.execute_reply": "2025-08-05T14:33:20.325710Z"
    },
    "papermill": {
     "duration": 0.02178,
     "end_time": "2025-08-05T14:33:20.328067",
     "exception": false,
     "start_time": "2025-08-05T14:33:20.306287",
     "status": "completed"
    },
    "tags": []
   },
   "outputs": [],
   "source": [
    "for subgroup, cov in cond_coverage.items():\n",
    "    cp_metrics_df[f\"cov_{subgroup}\"] = cov"
   ]
  },
  {
   "cell_type": "code",
   "execution_count": 71,
   "id": "6e872e10-dbe5-49e8-b554-5030c98ff75d",
   "metadata": {
    "execution": {
     "iopub.execute_input": "2025-08-05T14:33:20.362700Z",
     "iopub.status.busy": "2025-08-05T14:33:20.362194Z",
     "iopub.status.idle": "2025-08-05T14:33:20.377505Z",
     "shell.execute_reply": "2025-08-05T14:33:20.376683Z"
    },
    "papermill": {
     "duration": 0.031781,
     "end_time": "2025-08-05T14:33:20.379016",
     "exception": false,
     "start_time": "2025-08-05T14:33:20.347235",
     "status": "completed"
    },
    "tags": []
   },
   "outputs": [
    {
     "data": {
      "text/html": [
       "<div>\n",
       "<style scoped>\n",
       "    .dataframe tbody tr th:only-of-type {\n",
       "        vertical-align: middle;\n",
       "    }\n",
       "\n",
       "    .dataframe tbody tr th {\n",
       "        vertical-align: top;\n",
       "    }\n",
       "\n",
       "    .dataframe thead th {\n",
       "        text-align: right;\n",
       "    }\n",
       "</style>\n",
       "<table border=\"1\" class=\"dataframe\">\n",
       "  <thead>\n",
       "    <tr style=\"text-align: right;\">\n",
       "      <th></th>\n",
       "      <th>universe_id</th>\n",
       "      <th>universe_training_year</th>\n",
       "      <th>universe_training_size</th>\n",
       "      <th>universe_scale</th>\n",
       "      <th>universe_model</th>\n",
       "      <th>universe_exclude_features</th>\n",
       "      <th>universe_exclude_subgroups</th>\n",
       "      <th>q_hat</th>\n",
       "      <th>coverage</th>\n",
       "      <th>avg_size</th>\n",
       "      <th>cov_frau1</th>\n",
       "      <th>cov_nongerman</th>\n",
       "      <th>cov_nongerman_male</th>\n",
       "      <th>cov_nongerman_female</th>\n",
       "    </tr>\n",
       "  </thead>\n",
       "  <tbody>\n",
       "    <tr>\n",
       "      <th>0</th>\n",
       "      <td>4c9c75cd8ecf40dad91ddd2b96851cb3</td>\n",
       "      <td>2014</td>\n",
       "      <td>25k</td>\n",
       "      <td>scale</td>\n",
       "      <td>penalized_logreg</td>\n",
       "      <td>none</td>\n",
       "      <td>keep-all</td>\n",
       "      <td>0.676049</td>\n",
       "      <td>0.912496</td>\n",
       "      <td>1.125527</td>\n",
       "      <td>0.911201</td>\n",
       "      <td>0.912648</td>\n",
       "      <td>0.927947</td>\n",
       "      <td>0.887332</td>\n",
       "    </tr>\n",
       "  </tbody>\n",
       "</table>\n",
       "</div>"
      ],
      "text/plain": [
       "                        universe_id universe_training_year  \\\n",
       "0  4c9c75cd8ecf40dad91ddd2b96851cb3                   2014   \n",
       "\n",
       "  universe_training_size universe_scale    universe_model  \\\n",
       "0                    25k          scale  penalized_logreg   \n",
       "\n",
       "  universe_exclude_features universe_exclude_subgroups     q_hat  coverage  \\\n",
       "0                      none                   keep-all  0.676049  0.912496   \n",
       "\n",
       "   avg_size  cov_frau1  cov_nongerman  cov_nongerman_male  \\\n",
       "0  1.125527   0.911201       0.912648            0.927947   \n",
       "\n",
       "   cov_nongerman_female  \n",
       "0              0.887332  "
      ]
     },
     "execution_count": 71,
     "metadata": {},
     "output_type": "execute_result"
    }
   ],
   "source": [
    "cp_metrics_df"
   ]
  },
  {
   "cell_type": "markdown",
   "id": "33774451",
   "metadata": {
    "papermill": {
     "duration": 0.018067,
     "end_time": "2025-08-05T14:33:20.411514",
     "exception": false,
     "start_time": "2025-08-05T14:33:20.393447",
     "status": "completed"
    },
    "tags": []
   },
   "source": [
    "# (Fairness) Metrics"
   ]
  },
  {
   "cell_type": "code",
   "execution_count": 72,
   "id": "debc5d62",
   "metadata": {
    "execution": {
     "iopub.execute_input": "2025-08-05T14:33:20.443807Z",
     "iopub.status.busy": "2025-08-05T14:33:20.443461Z",
     "iopub.status.idle": "2025-08-05T14:33:20.459562Z",
     "shell.execute_reply": "2025-08-05T14:33:20.458719Z"
    },
    "papermill": {
     "duration": 0.032056,
     "end_time": "2025-08-05T14:33:20.461163",
     "exception": false,
     "start_time": "2025-08-05T14:33:20.429107",
     "status": "completed"
    },
    "tags": []
   },
   "outputs": [],
   "source": [
    "# do I need to include maxdeutsch1.missing?\n",
    "\n",
    "import numpy as np\n",
    "\n",
    "colname_to_bin = \"maxdeutsch1\"\n",
    "majority_value = org_train[colname_to_bin].mode()[0]\n",
    "\n",
    "org_test[\"majmin\"] = np.where(org_test[colname_to_bin] == majority_value, \"majority\", \"minority\")"
   ]
  },
  {
   "cell_type": "code",
   "execution_count": 73,
   "id": "06a50de5",
   "metadata": {
    "execution": {
     "iopub.execute_input": "2025-08-05T14:33:20.496341Z",
     "iopub.status.busy": "2025-08-05T14:33:20.495651Z",
     "iopub.status.idle": "2025-08-05T14:33:22.559293Z",
     "shell.execute_reply": "2025-08-05T14:33:22.558540Z"
    },
    "papermill": {
     "duration": 2.081083,
     "end_time": "2025-08-05T14:33:22.561104",
     "exception": false,
     "start_time": "2025-08-05T14:33:20.480021",
     "status": "completed"
    },
    "tags": []
   },
   "outputs": [],
   "source": [
    "example_universe = universe.copy()\n",
    "example_universe[\"cutoff\"] = example_universe[\"cutoff\"][0]\n",
    "example_universe[\"eval_fairness_grouping\"] = example_universe[\"eval_fairness_grouping\"][0]\n",
    "fairness_dict, metric_frame = universe_analysis.compute_metrics(\n",
    "    example_universe,\n",
    "    y_pred_prob=probs_test,\n",
    "    y_test=y_true,\n",
    "    org_test=org_test,\n",
    ")"
   ]
  },
  {
   "cell_type": "markdown",
   "id": "f95d4e02",
   "metadata": {
    "papermill": {
     "duration": 0.019765,
     "end_time": "2025-08-05T14:33:22.612856",
     "exception": false,
     "start_time": "2025-08-05T14:33:22.593091",
     "status": "completed"
    },
    "tags": []
   },
   "source": [
    "# Overall"
   ]
  },
  {
   "cell_type": "markdown",
   "id": "bdee4871",
   "metadata": {
    "papermill": {
     "duration": 0.018769,
     "end_time": "2025-08-05T14:33:22.647236",
     "exception": false,
     "start_time": "2025-08-05T14:33:22.628467",
     "status": "completed"
    },
    "tags": []
   },
   "source": [
    "Fairness\n",
    "Main fairness target: Equalized Odds. Seems to be a better fit than equal opportunity, since we're not only interested in Y = 1. Seems to be a better fit than demographic parity, since we also care about accuracy, not just equal distribution of preds.\n",
    "\n",
    "Pick column for computation of fairness metrics\n",
    "\n",
    "Performance\n",
    "Overall performance measures, most interesting in relation to the measures split by group below"
   ]
  },
  {
   "cell_type": "code",
   "execution_count": 74,
   "id": "c4e067c6",
   "metadata": {
    "execution": {
     "iopub.execute_input": "2025-08-05T14:33:22.679684Z",
     "iopub.status.busy": "2025-08-05T14:33:22.679242Z",
     "iopub.status.idle": "2025-08-05T14:33:22.688667Z",
     "shell.execute_reply": "2025-08-05T14:33:22.687433Z"
    },
    "papermill": {
     "duration": 0.026835,
     "end_time": "2025-08-05T14:33:22.690514",
     "exception": false,
     "start_time": "2025-08-05T14:33:22.663679",
     "status": "completed"
    },
    "tags": []
   },
   "outputs": [
    {
     "data": {
      "text/plain": [
       "accuracy                   0.225560\n",
       "balanced accuracy          0.551277\n",
       "f1                         0.246859\n",
       "precision                  0.141022\n",
       "false positive rate        0.886844\n",
       "false negative rate        0.010601\n",
       "selection rate             0.900000\n",
       "count                  89710.000000\n",
       "dtype: float64"
      ]
     },
     "execution_count": 74,
     "metadata": {},
     "output_type": "execute_result"
    }
   ],
   "source": [
    "metric_frame.overall"
   ]
  },
  {
   "cell_type": "markdown",
   "id": "e968fe9d",
   "metadata": {
    "papermill": {
     "duration": 0.028357,
     "end_time": "2025-08-05T14:33:22.748818",
     "exception": false,
     "start_time": "2025-08-05T14:33:22.720461",
     "status": "completed"
    },
    "tags": []
   },
   "source": [
    "By Group"
   ]
  },
  {
   "cell_type": "code",
   "execution_count": 75,
   "id": "ec325bce",
   "metadata": {
    "execution": {
     "iopub.execute_input": "2025-08-05T14:33:22.812898Z",
     "iopub.status.busy": "2025-08-05T14:33:22.811817Z",
     "iopub.status.idle": "2025-08-05T14:33:22.826628Z",
     "shell.execute_reply": "2025-08-05T14:33:22.825740Z"
    },
    "papermill": {
     "duration": 0.048105,
     "end_time": "2025-08-05T14:33:22.828143",
     "exception": false,
     "start_time": "2025-08-05T14:33:22.780038",
     "status": "completed"
    },
    "tags": []
   },
   "outputs": [
    {
     "data": {
      "text/html": [
       "<div>\n",
       "<style scoped>\n",
       "    .dataframe tbody tr th:only-of-type {\n",
       "        vertical-align: middle;\n",
       "    }\n",
       "\n",
       "    .dataframe tbody tr th {\n",
       "        vertical-align: top;\n",
       "    }\n",
       "\n",
       "    .dataframe thead th {\n",
       "        text-align: right;\n",
       "    }\n",
       "</style>\n",
       "<table border=\"1\" class=\"dataframe\">\n",
       "  <thead>\n",
       "    <tr style=\"text-align: right;\">\n",
       "      <th></th>\n",
       "      <th>accuracy</th>\n",
       "      <th>balanced accuracy</th>\n",
       "      <th>f1</th>\n",
       "      <th>precision</th>\n",
       "      <th>false positive rate</th>\n",
       "      <th>false negative rate</th>\n",
       "      <th>selection rate</th>\n",
       "      <th>count</th>\n",
       "    </tr>\n",
       "    <tr>\n",
       "      <th>majmin</th>\n",
       "      <th></th>\n",
       "      <th></th>\n",
       "      <th></th>\n",
       "      <th></th>\n",
       "      <th></th>\n",
       "      <th></th>\n",
       "      <th></th>\n",
       "      <th></th>\n",
       "    </tr>\n",
       "  </thead>\n",
       "  <tbody>\n",
       "    <tr>\n",
       "      <th>majority</th>\n",
       "      <td>0.247564</td>\n",
       "      <td>0.561492</td>\n",
       "      <td>0.257652</td>\n",
       "      <td>0.148138</td>\n",
       "      <td>0.865201</td>\n",
       "      <td>0.011816</td>\n",
       "      <td>0.881451</td>\n",
       "      <td>69170.0</td>\n",
       "    </tr>\n",
       "    <tr>\n",
       "      <th>minority</th>\n",
       "      <td>0.151461</td>\n",
       "      <td>0.517873</td>\n",
       "      <td>0.212676</td>\n",
       "      <td>0.119075</td>\n",
       "      <td>0.958343</td>\n",
       "      <td>0.005912</td>\n",
       "      <td>0.962463</td>\n",
       "      <td>20540.0</td>\n",
       "    </tr>\n",
       "  </tbody>\n",
       "</table>\n",
       "</div>"
      ],
      "text/plain": [
       "          accuracy  balanced accuracy        f1  precision  \\\n",
       "majmin                                                       \n",
       "majority  0.247564           0.561492  0.257652   0.148138   \n",
       "minority  0.151461           0.517873  0.212676   0.119075   \n",
       "\n",
       "          false positive rate  false negative rate  selection rate    count  \n",
       "majmin                                                                       \n",
       "majority             0.865201             0.011816        0.881451  69170.0  \n",
       "minority             0.958343             0.005912        0.962463  20540.0  "
      ]
     },
     "execution_count": 75,
     "metadata": {},
     "output_type": "execute_result"
    }
   ],
   "source": [
    "metric_frame.by_group"
   ]
  },
  {
   "cell_type": "code",
   "execution_count": 76,
   "id": "a9ddbe63",
   "metadata": {
    "execution": {
     "iopub.execute_input": "2025-08-05T14:33:22.861665Z",
     "iopub.status.busy": "2025-08-05T14:33:22.861137Z",
     "iopub.status.idle": "2025-08-05T14:33:25.341203Z",
     "shell.execute_reply": "2025-08-05T14:33:25.340236Z"
    },
    "papermill": {
     "duration": 2.498662,
     "end_time": "2025-08-05T14:33:25.342978",
     "exception": false,
     "start_time": "2025-08-05T14:33:22.844316",
     "status": "completed"
    },
    "tags": []
   },
   "outputs": [
    {
     "data": {
      "text/plain": [
       "array([[<Axes: title={'center': 'accuracy'}, xlabel='majmin'>,\n",
       "        <Axes: title={'center': 'balanced accuracy'}, xlabel='majmin'>,\n",
       "        <Axes: title={'center': 'f1'}, xlabel='majmin'>],\n",
       "       [<Axes: title={'center': 'precision'}, xlabel='majmin'>,\n",
       "        <Axes: title={'center': 'false positive rate'}, xlabel='majmin'>,\n",
       "        <Axes: title={'center': 'false negative rate'}, xlabel='majmin'>],\n",
       "       [<Axes: title={'center': 'selection rate'}, xlabel='majmin'>,\n",
       "        <Axes: title={'center': 'count'}, xlabel='majmin'>,\n",
       "        <Axes: xlabel='majmin'>]], dtype=object)"
      ]
     },
     "execution_count": 76,
     "metadata": {},
     "output_type": "execute_result"
    },
    {
     "data": {
      "image/png": "[encoded data removed]",
      "text/plain": [
       "<Figure size 1200x800 with 9 Axes>"
      ]
     },
     "metadata": {},
     "output_type": "display_data"
    }
   ],
   "source": [
    "# In a graphic\n",
    "metric_frame.by_group.plot.bar(\n",
    "    subplots=True,\n",
    "    layout=[3, 3],\n",
    "    legend=False,\n",
    "    figsize=[12, 8],\n",
    "    title=\"Show all metrics\",\n",
    ")"
   ]
  },
  {
   "cell_type": "markdown",
   "id": "f57a0bac",
   "metadata": {
    "papermill": {
     "duration": 0.030497,
     "end_time": "2025-08-05T14:33:25.409385",
     "exception": false,
     "start_time": "2025-08-05T14:33:25.378888",
     "status": "completed"
    },
    "tags": []
   },
   "source": [
    "# Final Output"
   ]
  },
  {
   "cell_type": "code",
   "execution_count": 77,
   "id": "96d280a3",
   "metadata": {
    "execution": {
     "iopub.execute_input": "2025-08-05T14:33:25.474796Z",
     "iopub.status.busy": "2025-08-05T14:33:25.474107Z",
     "iopub.status.idle": "2025-08-05T14:33:25.482891Z",
     "shell.execute_reply": "2025-08-05T14:33:25.481789Z"
    },
    "papermill": {
     "duration": 0.042632,
     "end_time": "2025-08-05T14:33:25.484732",
     "exception": false,
     "start_time": "2025-08-05T14:33:25.442100",
     "status": "completed"
    },
    "tags": []
   },
   "outputs": [
    {
     "data": {
      "text/plain": [
       "4"
      ]
     },
     "execution_count": 77,
     "metadata": {},
     "output_type": "execute_result"
    }
   ],
   "source": [
    "sub_universes = universe_analysis.generate_sub_universes()\n",
    "len(sub_universes)"
   ]
  },
  {
   "cell_type": "code",
   "execution_count": 78,
   "id": "92adf7ba",
   "metadata": {
    "execution": {
     "iopub.execute_input": "2025-08-05T14:33:25.531897Z",
     "iopub.status.busy": "2025-08-05T14:33:25.531515Z",
     "iopub.status.idle": "2025-08-05T14:33:25.536681Z",
     "shell.execute_reply": "2025-08-05T14:33:25.535798Z"
    },
    "papermill": {
     "duration": 0.02371,
     "end_time": "2025-08-05T14:33:25.537937",
     "exception": false,
     "start_time": "2025-08-05T14:33:25.514227",
     "status": "completed"
    },
    "tags": []
   },
   "outputs": [],
   "source": [
    "def filter_sub_universe_data(sub_universe, org_test):\n",
    "    # Keep all rows — no filtering\n",
    "    keep_rows_mask = np.ones(org_test.shape[0], dtype=bool)\n",
    "\n",
    "    print(f\"[INFO] Keeping all rows: {keep_rows_mask.sum()} rows retained.\")\n",
    "    return keep_rows_mask"
   ]
  },
  {
   "cell_type": "code",
   "execution_count": 79,
   "id": "4a759155",
   "metadata": {
    "execution": {
     "iopub.execute_input": "2025-08-05T14:33:25.574959Z",
     "iopub.status.busy": "2025-08-05T14:33:25.574649Z",
     "iopub.status.idle": "2025-08-05T14:33:35.246497Z",
     "shell.execute_reply": "2025-08-05T14:33:35.245828Z"
    },
    "papermill": {
     "duration": 9.693154,
     "end_time": "2025-08-05T14:33:35.247722",
     "exception": false,
     "start_time": "2025-08-05T14:33:25.554568",
     "status": "completed"
    },
    "tags": []
   },
   "outputs": [
    {
     "name": "stdout",
     "output_type": "stream",
     "text": [
      "Stopping execution_time clock.\n",
      "[INFO] Keeping all rows: 89710 rows retained.\n"
     ]
    },
    {
     "name": "stdout",
     "output_type": "stream",
     "text": [
      "[INFO] Keeping all rows: 89710 rows retained.\n"
     ]
    },
    {
     "name": "stdout",
     "output_type": "stream",
     "text": [
      "[INFO] Keeping all rows: 89710 rows retained.\n"
     ]
    },
    {
     "name": "stdout",
     "output_type": "stream",
     "text": [
      "[INFO] Keeping all rows: 89710 rows retained.\n"
     ]
    },
    {
     "data": {
      "text/html": [
       "<div>\n",
       "<style scoped>\n",
       "    .dataframe tbody tr th:only-of-type {\n",
       "        vertical-align: middle;\n",
       "    }\n",
       "\n",
       "    .dataframe tbody tr th {\n",
       "        vertical-align: top;\n",
       "    }\n",
       "\n",
       "    .dataframe thead th {\n",
       "        text-align: right;\n",
       "    }\n",
       "</style>\n",
       "<table border=\"1\" class=\"dataframe\">\n",
       "  <thead>\n",
       "    <tr style=\"text-align: right;\">\n",
       "      <th></th>\n",
       "      <th>run_no</th>\n",
       "      <th>universe_id</th>\n",
       "      <th>universe_settings</th>\n",
       "      <th>execution_time</th>\n",
       "      <th>test_size_n</th>\n",
       "      <th>test_size_frac</th>\n",
       "      <th>fair_main_equalized_odds_difference</th>\n",
       "      <th>fair_main_equalized_odds_ratio</th>\n",
       "      <th>fair_main_demographic_parity_difference</th>\n",
       "      <th>fair_main_demographic_parity_ratio</th>\n",
       "      <th>...</th>\n",
       "      <th>perf_grp_precision_0</th>\n",
       "      <th>perf_grp_precision_1</th>\n",
       "      <th>perf_grp_false positive rate_0</th>\n",
       "      <th>perf_grp_false positive rate_1</th>\n",
       "      <th>perf_grp_false negative rate_0</th>\n",
       "      <th>perf_grp_false negative rate_1</th>\n",
       "      <th>perf_grp_selection rate_0</th>\n",
       "      <th>perf_grp_selection rate_1</th>\n",
       "      <th>perf_grp_count_0</th>\n",
       "      <th>perf_grp_count_1</th>\n",
       "    </tr>\n",
       "  </thead>\n",
       "  <tbody>\n",
       "    <tr>\n",
       "      <th>0</th>\n",
       "      <td>15</td>\n",
       "      <td>4c9c75cd8ecf40dad91ddd2b96851cb3</td>\n",
       "      <td>{\"cutoff\": \"quantile_0.1\", \"eval_fairness_grou...</td>\n",
       "      <td>23.872547</td>\n",
       "      <td>89710</td>\n",
       "      <td>1.0</td>\n",
       "      <td>0.093142</td>\n",
       "      <td>0.902810</td>\n",
       "      <td>0.081012</td>\n",
       "      <td>0.915829</td>\n",
       "      <td>...</td>\n",
       "      <td>NaN</td>\n",
       "      <td>NaN</td>\n",
       "      <td>NaN</td>\n",
       "      <td>NaN</td>\n",
       "      <td>NaN</td>\n",
       "      <td>NaN</td>\n",
       "      <td>NaN</td>\n",
       "      <td>NaN</td>\n",
       "      <td>NaN</td>\n",
       "      <td>NaN</td>\n",
       "    </tr>\n",
       "    <tr>\n",
       "      <th>0</th>\n",
       "      <td>15</td>\n",
       "      <td>4c9c75cd8ecf40dad91ddd2b96851cb3</td>\n",
       "      <td>{\"cutoff\": \"quantile_0.1\", \"eval_fairness_grou...</td>\n",
       "      <td>23.872547</td>\n",
       "      <td>89710</td>\n",
       "      <td>1.0</td>\n",
       "      <td>0.093142</td>\n",
       "      <td>0.902810</td>\n",
       "      <td>0.081012</td>\n",
       "      <td>0.915829</td>\n",
       "      <td>...</td>\n",
       "      <td>0.119075</td>\n",
       "      <td>0.148138</td>\n",
       "      <td>0.958343</td>\n",
       "      <td>0.865201</td>\n",
       "      <td>0.005912</td>\n",
       "      <td>0.011816</td>\n",
       "      <td>0.962463</td>\n",
       "      <td>0.881451</td>\n",
       "      <td>20540.0</td>\n",
       "      <td>69170.0</td>\n",
       "    </tr>\n",
       "    <tr>\n",
       "      <th>0</th>\n",
       "      <td>15</td>\n",
       "      <td>4c9c75cd8ecf40dad91ddd2b96851cb3</td>\n",
       "      <td>{\"cutoff\": \"quantile_0.25\", \"eval_fairness_gro...</td>\n",
       "      <td>23.872547</td>\n",
       "      <td>89710</td>\n",
       "      <td>1.0</td>\n",
       "      <td>0.173441</td>\n",
       "      <td>0.796765</td>\n",
       "      <td>0.150792</td>\n",
       "      <td>0.825928</td>\n",
       "      <td>...</td>\n",
       "      <td>NaN</td>\n",
       "      <td>NaN</td>\n",
       "      <td>NaN</td>\n",
       "      <td>NaN</td>\n",
       "      <td>NaN</td>\n",
       "      <td>NaN</td>\n",
       "      <td>NaN</td>\n",
       "      <td>NaN</td>\n",
       "      <td>NaN</td>\n",
       "      <td>NaN</td>\n",
       "    </tr>\n",
       "    <tr>\n",
       "      <th>0</th>\n",
       "      <td>15</td>\n",
       "      <td>4c9c75cd8ecf40dad91ddd2b96851cb3</td>\n",
       "      <td>{\"cutoff\": \"quantile_0.25\", \"eval_fairness_gro...</td>\n",
       "      <td>23.872547</td>\n",
       "      <td>89710</td>\n",
       "      <td>1.0</td>\n",
       "      <td>0.173441</td>\n",
       "      <td>0.796765</td>\n",
       "      <td>0.150792</td>\n",
       "      <td>0.825928</td>\n",
       "      <td>...</td>\n",
       "      <td>0.128421</td>\n",
       "      <td>0.175211</td>\n",
       "      <td>0.853401</td>\n",
       "      <td>0.679960</td>\n",
       "      <td>0.035051</td>\n",
       "      <td>0.051313</td>\n",
       "      <td>0.866261</td>\n",
       "      <td>0.715469</td>\n",
       "      <td>20540.0</td>\n",
       "      <td>69170.0</td>\n",
       "    </tr>\n",
       "  </tbody>\n",
       "</table>\n",
       "<p>4 rows × 50 columns</p>\n",
       "</div>"
      ],
      "text/plain": [
       "  run_no                       universe_id  \\\n",
       "0     15  4c9c75cd8ecf40dad91ddd2b96851cb3   \n",
       "0     15  4c9c75cd8ecf40dad91ddd2b96851cb3   \n",
       "0     15  4c9c75cd8ecf40dad91ddd2b96851cb3   \n",
       "0     15  4c9c75cd8ecf40dad91ddd2b96851cb3   \n",
       "\n",
       "                                   universe_settings  execution_time  \\\n",
       "0  {\"cutoff\": \"quantile_0.1\", \"eval_fairness_grou...       23.872547   \n",
       "0  {\"cutoff\": \"quantile_0.1\", \"eval_fairness_grou...       23.872547   \n",
       "0  {\"cutoff\": \"quantile_0.25\", \"eval_fairness_gro...       23.872547   \n",
       "0  {\"cutoff\": \"quantile_0.25\", \"eval_fairness_gro...       23.872547   \n",
       "\n",
       "   test_size_n  test_size_frac  fair_main_equalized_odds_difference  \\\n",
       "0        89710             1.0                             0.093142   \n",
       "0        89710             1.0                             0.093142   \n",
       "0        89710             1.0                             0.173441   \n",
       "0        89710             1.0                             0.173441   \n",
       "\n",
       "   fair_main_equalized_odds_ratio  fair_main_demographic_parity_difference  \\\n",
       "0                        0.902810                                 0.081012   \n",
       "0                        0.902810                                 0.081012   \n",
       "0                        0.796765                                 0.150792   \n",
       "0                        0.796765                                 0.150792   \n",
       "\n",
       "   fair_main_demographic_parity_ratio  ...  perf_grp_precision_0  \\\n",
       "0                            0.915829  ...                   NaN   \n",
       "0                            0.915829  ...              0.119075   \n",
       "0                            0.825928  ...                   NaN   \n",
       "0                            0.825928  ...              0.128421   \n",
       "\n",
       "   perf_grp_precision_1  perf_grp_false positive rate_0  \\\n",
       "0                   NaN                             NaN   \n",
       "0              0.148138                        0.958343   \n",
       "0                   NaN                             NaN   \n",
       "0              0.175211                        0.853401   \n",
       "\n",
       "   perf_grp_false positive rate_1  perf_grp_false negative rate_0  \\\n",
       "0                             NaN                             NaN   \n",
       "0                        0.865201                        0.005912   \n",
       "0                             NaN                             NaN   \n",
       "0                        0.679960                        0.035051   \n",
       "\n",
       "   perf_grp_false negative rate_1  perf_grp_selection rate_0  \\\n",
       "0                             NaN                        NaN   \n",
       "0                        0.011816                   0.962463   \n",
       "0                             NaN                        NaN   \n",
       "0                        0.051313                   0.866261   \n",
       "\n",
       "   perf_grp_selection rate_1  perf_grp_count_0  perf_grp_count_1  \n",
       "0                        NaN               NaN               NaN  \n",
       "0                   0.881451           20540.0           69170.0  \n",
       "0                        NaN               NaN               NaN  \n",
       "0                   0.715469           20540.0           69170.0  \n",
       "\n",
       "[4 rows x 50 columns]"
      ]
     },
     "execution_count": 79,
     "metadata": {},
     "output_type": "execute_result"
    }
   ],
   "source": [
    "final_output = universe_analysis.generate_final_output(\n",
    "    y_pred_prob=probs_test,\n",
    "    y_test=y_true,\n",
    "    org_test=org_test,\n",
    "    filter_data=filter_sub_universe_data,\n",
    "    cp_metrics_df=cp_metrics_df,\n",
    "    save=True,\n",
    ")\n",
    "final_output"
   ]
  },
  {
   "cell_type": "code",
   "execution_count": null,
   "id": "721ff514-cb11-46f8-b6fc-50392f74b5cb",
   "metadata": {
    "papermill": {
     "duration": 0.019765,
     "end_time": "2025-08-05T14:33:35.285951",
     "exception": false,
     "start_time": "2025-08-05T14:33:35.266186",
     "status": "completed"
    },
    "tags": []
   },
   "outputs": [],
   "source": []
  }
 ],
 "metadata": {
  "celltoolbar": "Tags",
  "kernelspec": {
   "display_name": "Python (CMA Fairness)",
   "language": "python",
   "name": "cma_fair_env"
  },
  "language_info": {
   "codemirror_mode": {
    "name": "ipython",
    "version": 3
   },
   "file_extension": ".py",
   "mimetype": "text/x-python",
   "name": "python",
   "nbconvert_exporter": "python",
   "pygments_lexer": "ipython3",
   "version": "3.10.12"
  },
  "papermill": {
   "default_parameters": {},
   "duration": 37.519535,
   "end_time": "2025-08-05T14:33:36.018448",
   "environment_variables": {},
   "exception": null,
   "input_path": "universe_analysis.ipynb",
   "output_path": "output/runs/15/notebooks/m_15-4c9c75cd8ecf40dad91ddd2b96851cb3.ipynb",
   "parameters": {
    "output_dir": "output",
    "run_no": "15",
    "seed": "2023",
    "universe": "{\"cutoff\": [\"quantile_0.1\", \"quantile_0.25\"], \"eval_fairness_grouping\": [\"majority-minority\", \"nationality-all\"], \"exclude_features\": \"none\", \"exclude_subgroups\": \"keep-all\", \"model\": \"penalized_logreg\", \"scale\": \"scale\", \"training_size\": \"25k\", \"training_year\": \"2014\"}",
    "universe_id": "4c9c75cd8ecf40dad91ddd2b96851cb3"
   },
   "start_time": "2025-08-05T14:32:58.498913",
   "version": "2.6.0"
  }
 },
 "nbformat": 4,
 "nbformat_minor": 5
}