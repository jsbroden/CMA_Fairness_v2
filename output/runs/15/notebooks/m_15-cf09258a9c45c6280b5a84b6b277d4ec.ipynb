{
 "cells": [
  {
   "cell_type": "code",
   "execution_count": 1,
   "id": "f159f837-637b-42ba-96b5-ec9a68c44524",
   "metadata": {
    "execution": {
     "iopub.execute_input": "2025-08-05T16:38:50.553145Z",
     "iopub.status.busy": "2025-08-05T16:38:50.552418Z",
     "iopub.status.idle": "2025-08-05T16:38:50.563025Z",
     "shell.execute_reply": "2025-08-05T16:38:50.562117Z"
    },
    "papermill": {
     "duration": 0.021789,
     "end_time": "2025-08-05T16:38:50.564477",
     "exception": false,
     "start_time": "2025-08-05T16:38:50.542688",
     "status": "completed"
    },
    "tags": []
   },
   "outputs": [
    {
     "name": "stdout",
     "output_type": "stream",
     "text": [
      "/dss/dsshome1/0C/ra93lal2/cma/CMA_Fairness_v2\n"
     ]
    },
    {
     "name": "stderr",
     "output_type": "stream",
     "text": [
      "/dss/dsshome1/0C/ra93lal2/.local/share/virtualenvs/CMA_Fairness_v2-3j10GkSs/lib/python3.10/site-packages/IPython/core/magics/osm.py:393: UserWarning: This is now an optional IPython functionality, using bookmarks requires you to install the `pickleshare` library.\n",
      "  bkms = self.shell.db.get('bookmarks', {})\n",
      "/dss/dsshome1/0C/ra93lal2/.local/share/virtualenvs/CMA_Fairness_v2-3j10GkSs/lib/python3.10/site-packages/IPython/core/magics/osm.py:417: UserWarning: This is now an optional IPython functionality, setting dhist requires you to install the `pickleshare` library.\n",
      "  self.shell.db['dhist'] = compress_dhist(dhist)[-100:]\n"
     ]
    }
   ],
   "source": [
    "%cd ~/cma/CMA_Fairness_v2"
   ]
  },
  {
   "cell_type": "markdown",
   "id": "de2603b9",
   "metadata": {
    "papermill": {
     "duration": 0.008247,
     "end_time": "2025-08-05T16:38:50.581668",
     "exception": false,
     "start_time": "2025-08-05T16:38:50.573421",
     "status": "completed"
    },
    "tags": []
   },
   "source": [
    "The following cell holds the definition of our parameters, these values can be overriden by rendering the with e.g. the following command:\n",
    "\n",
    "papermill -p alpha 0.2 -p ratio 0.3 universe_analysis.ipynb output/test_run.ipynb"
   ]
  },
  {
   "cell_type": "code",
   "execution_count": 2,
   "id": "a80968a0-40bb-4fa9-85ef-2d5eefb01975",
   "metadata": {
    "execution": {
     "iopub.execute_input": "2025-08-05T16:38:50.599448Z",
     "iopub.status.busy": "2025-08-05T16:38:50.599040Z",
     "iopub.status.idle": "2025-08-05T16:38:50.604581Z",
     "shell.execute_reply": "2025-08-05T16:38:50.603397Z"
    },
    "papermill": {
     "duration": 0.016661,
     "end_time": "2025-08-05T16:38:50.606545",
     "exception": false,
     "start_time": "2025-08-05T16:38:50.589884",
     "status": "completed"
    },
    "tags": []
   },
   "outputs": [
    {
     "name": "stdout",
     "output_type": "stream",
     "text": [
      "Current working directory: /dss/dsshome1/0C/ra93lal2/cma/CMA_Fairness_v2\n"
     ]
    }
   ],
   "source": [
    "import os\n",
    "print(\"Current working directory:\", os.getcwd())"
   ]
  },
  {
   "cell_type": "code",
   "execution_count": 3,
   "id": "2dce4c03",
   "metadata": {
    "execution": {
     "iopub.execute_input": "2025-08-05T16:38:50.645026Z",
     "iopub.status.busy": "2025-08-05T16:38:50.644143Z",
     "iopub.status.idle": "2025-08-05T16:38:50.650864Z",
     "shell.execute_reply": "2025-08-05T16:38:50.649797Z"
    },
    "papermill": {
     "duration": 0.027906,
     "end_time": "2025-08-05T16:38:50.652770",
     "exception": false,
     "start_time": "2025-08-05T16:38:50.624864",
     "status": "completed"
    },
    "tags": [
     "parameters"
    ]
   },
   "outputs": [],
   "source": [
    "run_no = 0\n",
    "universe_id = \"test\"\n",
    "universe = {\n",
    "    \"training_size\": \"25k\", # \"25k\", \"5k\", \"1k\"\n",
    "    \"training_year\": \"2014\", # \"2014\", \"2012_14\", \"2010_14\"\n",
    "    \"scale\": \"scale\", # \"scale\", \"do-not-scale\",\n",
    "    \"model\": \"elasticnet\", # \"logreg\", \"penalized_logreg\", \"rf\", \"gbm\", \"elasticnet\"\n",
    "    \"cutoff\": [\"quantile_0.15\", \"quantile_0.30\"],\n",
    "    \"exclude_features\": \"age\", # \"none\", \"nationality\", \"sex\", \"nationality-sex\", \"age\"\n",
    "    \"exclude_subgroups\": \"keep-all\", # \"keep-all\", \"drop-non-german\"\n",
    "    \"eval_fairness_grouping\": [\"majority-minority\", \"nationality-all\"]\n",
    "}\n",
    "\n",
    "output_dir=\"./output\"\n",
    "seed=0"
   ]
  },
  {
   "cell_type": "code",
   "execution_count": 4,
   "id": "401d976e",
   "metadata": {
    "execution": {
     "iopub.execute_input": "2025-08-05T16:38:50.691201Z",
     "iopub.status.busy": "2025-08-05T16:38:50.690326Z",
     "iopub.status.idle": "2025-08-05T16:38:50.696024Z",
     "shell.execute_reply": "2025-08-05T16:38:50.695053Z"
    },
    "papermill": {
     "duration": 0.026258,
     "end_time": "2025-08-05T16:38:50.697964",
     "exception": false,
     "start_time": "2025-08-05T16:38:50.671706",
     "status": "completed"
    },
    "tags": [
     "injected-parameters"
    ]
   },
   "outputs": [],
   "source": [
    "# Parameters\n",
    "universe_id = \"cf09258a9c45c6280b5a84b6b277d4ec\"\n",
    "run_no = \"15\"\n",
    "universe = \"{\\\"cutoff\\\": [\\\"quantile_0.1\\\", \\\"quantile_0.25\\\"], \\\"eval_fairness_grouping\\\": [\\\"majority-minority\\\", \\\"nationality-all\\\"], \\\"exclude_features\\\": \\\"sex\\\", \\\"exclude_subgroups\\\": \\\"keep-all\\\", \\\"model\\\": \\\"logreg\\\", \\\"scale\\\": \\\"do-not-scale\\\", \\\"training_size\\\": \\\"1k\\\", \\\"training_year\\\": \\\"2010_14\\\"}\"\n",
    "output_dir = \"output\"\n",
    "seed = \"2023\"\n"
   ]
  },
  {
   "cell_type": "code",
   "execution_count": 5,
   "id": "1650acaf",
   "metadata": {
    "execution": {
     "iopub.execute_input": "2025-08-05T16:38:50.736116Z",
     "iopub.status.busy": "2025-08-05T16:38:50.735448Z",
     "iopub.status.idle": "2025-08-05T16:38:50.740455Z",
     "shell.execute_reply": "2025-08-05T16:38:50.739408Z"
    },
    "papermill": {
     "duration": 0.025842,
     "end_time": "2025-08-05T16:38:50.742371",
     "exception": false,
     "start_time": "2025-08-05T16:38:50.716529",
     "status": "completed"
    },
    "tags": []
   },
   "outputs": [],
   "source": [
    "import json\n",
    "if isinstance(universe, str):\n",
    "    universe = json.loads(universe)"
   ]
  },
  {
   "cell_type": "code",
   "execution_count": 6,
   "id": "16620c48",
   "metadata": {
    "execution": {
     "iopub.execute_input": "2025-08-05T16:38:50.819943Z",
     "iopub.status.busy": "2025-08-05T16:38:50.819050Z",
     "iopub.status.idle": "2025-08-05T16:38:50.867244Z",
     "shell.execute_reply": "2025-08-05T16:38:50.866248Z"
    },
    "papermill": {
     "duration": 0.069184,
     "end_time": "2025-08-05T16:38:50.868973",
     "exception": false,
     "start_time": "2025-08-05T16:38:50.799789",
     "status": "completed"
    },
    "tags": []
   },
   "outputs": [],
   "source": [
    "# Auto-reload the custom package\n",
    "%load_ext autoreload\n",
    "%autoreload 1\n",
    "%aimport fairness_multiverse"
   ]
  },
  {
   "cell_type": "code",
   "execution_count": 7,
   "id": "01c5c9f3",
   "metadata": {
    "execution": {
     "iopub.execute_input": "2025-08-05T16:38:50.905732Z",
     "iopub.status.busy": "2025-08-05T16:38:50.904863Z",
     "iopub.status.idle": "2025-08-05T16:38:52.552669Z",
     "shell.execute_reply": "2025-08-05T16:38:52.551587Z"
    },
    "papermill": {
     "duration": 1.668164,
     "end_time": "2025-08-05T16:38:52.554656",
     "exception": false,
     "start_time": "2025-08-05T16:38:50.886492",
     "status": "completed"
    },
    "tags": []
   },
   "outputs": [],
   "source": [
    "from fairness_multiverse.universe import UniverseAnalysis\n",
    "\n",
    "universe_analysis = UniverseAnalysis(\n",
    "    run_no = run_no,\n",
    "    universe_id = universe_id,\n",
    "    universe = universe,\n",
    "    output_dir=output_dir,\n",
    ")"
   ]
  },
  {
   "cell_type": "code",
   "execution_count": 8,
   "id": "106241f5",
   "metadata": {
    "execution": {
     "iopub.execute_input": "2025-08-05T16:38:52.591260Z",
     "iopub.status.busy": "2025-08-05T16:38:52.590402Z",
     "iopub.status.idle": "2025-08-05T16:38:52.597546Z",
     "shell.execute_reply": "2025-08-05T16:38:52.596530Z"
    },
    "papermill": {
     "duration": 0.025403,
     "end_time": "2025-08-05T16:38:52.599488",
     "exception": false,
     "start_time": "2025-08-05T16:38:52.574085",
     "status": "completed"
    },
    "tags": []
   },
   "outputs": [
    {
     "name": "stdout",
     "output_type": "stream",
     "text": [
      "Using Seed: 2023\n"
     ]
    }
   ],
   "source": [
    "import numpy as np\n",
    "parsed_seed = int(seed)\n",
    "np.random.seed(parsed_seed)\n",
    "print(f\"Using Seed: {parsed_seed}\")"
   ]
  },
  {
   "cell_type": "markdown",
   "id": "e0ebdc57",
   "metadata": {
    "papermill": {
     "duration": 0.017051,
     "end_time": "2025-08-05T16:38:52.634298",
     "exception": false,
     "start_time": "2025-08-05T16:38:52.617247",
     "status": "completed"
    },
    "tags": []
   },
   "source": [
    "# Loading Data"
   ]
  },
  {
   "cell_type": "code",
   "execution_count": 9,
   "id": "f0496b8a",
   "metadata": {
    "execution": {
     "iopub.execute_input": "2025-08-05T16:38:52.672247Z",
     "iopub.status.busy": "2025-08-05T16:38:52.671585Z",
     "iopub.status.idle": "2025-08-05T16:39:04.830618Z",
     "shell.execute_reply": "2025-08-05T16:39:04.829368Z"
    },
    "papermill": {
     "duration": 12.179001,
     "end_time": "2025-08-05T16:39:04.832268",
     "exception": false,
     "start_time": "2025-08-05T16:38:52.653267",
     "status": "completed"
    },
    "tags": []
   },
   "outputs": [
    {
     "name": "stdout",
     "output_type": "stream",
     "text": [
      "Loading SIAB data from cache: data/siab_cached.csv.gz\n"
     ]
    },
    {
     "name": "stdout",
     "output_type": "stream",
     "text": [
      "(643690, 164)\n"
     ]
    }
   ],
   "source": [
    "from pathlib import Path\n",
    "import pandas as pd\n",
    "\n",
    "# File paths\n",
    "raw_file = Path(\"data/raw/siab.csv\")\n",
    "cache_file = Path(\"data/siab_cached.csv.gz\")\n",
    "\n",
    "# Ensure cache directory exists\n",
    "cache_file.parent.mkdir(parents=True, exist_ok=True)\n",
    "\n",
    "# Load with simple caching\n",
    "if cache_file.exists():\n",
    "    print(f\"Loading SIAB data from cache: {cache_file}\")\n",
    "    siab = pd.read_csv(cache_file, compression='gzip')\n",
    "else:\n",
    "    print(f\"Cache not found. Reading raw SIAB data: {raw_file}\")\n",
    "    siab = pd.read_csv(raw_file)\n",
    "    siab.to_csv(cache_file, index=False, compression='gzip')\n",
    "    print(f\"Cached SIAB data to: {cache_file}\")\n",
    "\n",
    "print(siab.shape)"
   ]
  },
  {
   "cell_type": "code",
   "execution_count": 10,
   "id": "db0ca512-5f53-4dba-abdb-a2888bca41ba",
   "metadata": {
    "execution": {
     "iopub.execute_input": "2025-08-05T16:39:04.871801Z",
     "iopub.status.busy": "2025-08-05T16:39:04.871299Z",
     "iopub.status.idle": "2025-08-05T16:39:04.877217Z",
     "shell.execute_reply": "2025-08-05T16:39:04.876144Z"
    },
    "papermill": {
     "duration": 0.026038,
     "end_time": "2025-08-05T16:39:04.879016",
     "exception": false,
     "start_time": "2025-08-05T16:39:04.852978",
     "status": "completed"
    },
    "tags": []
   },
   "outputs": [],
   "source": [
    "#siab"
   ]
  },
  {
   "cell_type": "markdown",
   "id": "997051c5-15bd-4b69-9786-c3001a3ce484",
   "metadata": {
    "papermill": {
     "duration": 0.018468,
     "end_time": "2025-08-05T16:39:04.915398",
     "exception": false,
     "start_time": "2025-08-05T16:39:04.896930",
     "status": "completed"
    },
    "tags": []
   },
   "source": [
    "# Splitting Data and Setting Training Data Size"
   ]
  },
  {
   "cell_type": "code",
   "execution_count": 11,
   "id": "aea9c6ef-6f46-42c8-85eb-5a62025c1508",
   "metadata": {
    "execution": {
     "iopub.execute_input": "2025-08-05T16:39:04.950553Z",
     "iopub.status.busy": "2025-08-05T16:39:04.950049Z",
     "iopub.status.idle": "2025-08-05T16:39:05.973185Z",
     "shell.execute_reply": "2025-08-05T16:39:05.972400Z"
    },
    "papermill": {
     "duration": 1.042588,
     "end_time": "2025-08-05T16:39:05.975076",
     "exception": false,
     "start_time": "2025-08-05T16:39:04.932488",
     "status": "completed"
    },
    "tags": []
   },
   "outputs": [],
   "source": [
    "from fairness_multiverse.universe import sample_by_year_size\n",
    "\n",
    "siab_train = sample_by_year_size(siab,\n",
    "                               training_year=universe[\"training_year\"],\n",
    "                               training_size=universe[\"training_size\"])"
   ]
  },
  {
   "cell_type": "code",
   "execution_count": 12,
   "id": "8d3afb32-789d-442c-8d5d-9f5aa8dd2eed",
   "metadata": {
    "execution": {
     "iopub.execute_input": "2025-08-05T16:39:06.015834Z",
     "iopub.status.busy": "2025-08-05T16:39:06.015314Z",
     "iopub.status.idle": "2025-08-05T16:39:06.020832Z",
     "shell.execute_reply": "2025-08-05T16:39:06.019747Z"
    },
    "papermill": {
     "duration": 0.027402,
     "end_time": "2025-08-05T16:39:06.022875",
     "exception": false,
     "start_time": "2025-08-05T16:39:05.995473",
     "status": "completed"
    },
    "tags": []
   },
   "outputs": [],
   "source": [
    "#siab_train.shape"
   ]
  },
  {
   "cell_type": "code",
   "execution_count": 13,
   "id": "d582db68-1a4c-47fb-84fc-08518dc1975a",
   "metadata": {
    "execution": {
     "iopub.execute_input": "2025-08-05T16:39:06.056727Z",
     "iopub.status.busy": "2025-08-05T16:39:06.055917Z",
     "iopub.status.idle": "2025-08-05T16:39:06.060245Z",
     "shell.execute_reply": "2025-08-05T16:39:06.059482Z"
    },
    "papermill": {
     "duration": 0.020547,
     "end_time": "2025-08-05T16:39:06.061686",
     "exception": false,
     "start_time": "2025-08-05T16:39:06.041139",
     "status": "completed"
    },
    "tags": []
   },
   "outputs": [],
   "source": [
    "#display(siab_train.groupby(\"year\").size())"
   ]
  },
  {
   "cell_type": "code",
   "execution_count": 14,
   "id": "a561edb4-d032-42cb-8256-22eac1111c64",
   "metadata": {
    "execution": {
     "iopub.execute_input": "2025-08-05T16:39:06.081595Z",
     "iopub.status.busy": "2025-08-05T16:39:06.081110Z",
     "iopub.status.idle": "2025-08-05T16:39:06.310461Z",
     "shell.execute_reply": "2025-08-05T16:39:06.309718Z"
    },
    "papermill": {
     "duration": 0.240083,
     "end_time": "2025-08-05T16:39:06.311858",
     "exception": false,
     "start_time": "2025-08-05T16:39:06.071775",
     "status": "completed"
    },
    "tags": []
   },
   "outputs": [],
   "source": [
    "#siab_train = siab_s[siab_s.year < 2015]\n",
    "siab_calib = siab[siab.year == 2015]\n",
    "siab_test = siab[siab.year == 2016]"
   ]
  },
  {
   "cell_type": "code",
   "execution_count": 15,
   "id": "472de16f-c3db-4916-846b-1f0de9cf1746",
   "metadata": {
    "execution": {
     "iopub.execute_input": "2025-08-05T16:39:06.332034Z",
     "iopub.status.busy": "2025-08-05T16:39:06.331582Z",
     "iopub.status.idle": "2025-08-05T16:39:06.337097Z",
     "shell.execute_reply": "2025-08-05T16:39:06.336385Z"
    },
    "papermill": {
     "duration": 0.016598,
     "end_time": "2025-08-05T16:39:06.338378",
     "exception": false,
     "start_time": "2025-08-05T16:39:06.321780",
     "status": "completed"
    },
    "tags": []
   },
   "outputs": [],
   "source": [
    "X_train = siab_train.iloc[:,4:164]\n",
    "y_train = siab_train.iloc[:, [3]]"
   ]
  },
  {
   "cell_type": "code",
   "execution_count": 16,
   "id": "828c96af-f43a-4ed6-ba47-8ac73a47d56c",
   "metadata": {
    "execution": {
     "iopub.execute_input": "2025-08-05T16:39:06.361377Z",
     "iopub.status.busy": "2025-08-05T16:39:06.361050Z",
     "iopub.status.idle": "2025-08-05T16:39:06.406459Z",
     "shell.execute_reply": "2025-08-05T16:39:06.405329Z"
    },
    "papermill": {
     "duration": 0.059023,
     "end_time": "2025-08-05T16:39:06.407962",
     "exception": false,
     "start_time": "2025-08-05T16:39:06.348939",
     "status": "completed"
    },
    "tags": []
   },
   "outputs": [],
   "source": [
    "X_calib = siab_calib.iloc[:,4:164]\n",
    "y_calib = siab_calib.iloc[:, [3]]"
   ]
  },
  {
   "cell_type": "code",
   "execution_count": 17,
   "id": "c34be9c3-6bd6-476e-acd3-845840e303be",
   "metadata": {
    "execution": {
     "iopub.execute_input": "2025-08-05T16:39:06.428511Z",
     "iopub.status.busy": "2025-08-05T16:39:06.428026Z",
     "iopub.status.idle": "2025-08-05T16:39:06.476067Z",
     "shell.execute_reply": "2025-08-05T16:39:06.475186Z"
    },
    "papermill": {
     "duration": 0.059186,
     "end_time": "2025-08-05T16:39:06.477504",
     "exception": false,
     "start_time": "2025-08-05T16:39:06.418318",
     "status": "completed"
    },
    "tags": []
   },
   "outputs": [],
   "source": [
    "X_test = siab_test.iloc[:,4:164]\n",
    "y_true = siab_test.iloc[:, [3]]"
   ]
  },
  {
   "cell_type": "code",
   "execution_count": 18,
   "id": "e6c733c5",
   "metadata": {
    "execution": {
     "iopub.execute_input": "2025-08-05T16:39:06.498271Z",
     "iopub.status.busy": "2025-08-05T16:39:06.497937Z",
     "iopub.status.idle": "2025-08-05T16:39:06.583748Z",
     "shell.execute_reply": "2025-08-05T16:39:06.582989Z"
    },
    "papermill": {
     "duration": 0.097176,
     "end_time": "2025-08-05T16:39:06.585267",
     "exception": false,
     "start_time": "2025-08-05T16:39:06.488091",
     "status": "completed"
    },
    "tags": []
   },
   "outputs": [],
   "source": [
    "# Auxiliary data needed downstream in the pipeline\n",
    "\n",
    "org_train = X_train.copy()\n",
    "org_test = X_test.copy()\n",
    "org_calib = X_calib.copy()"
   ]
  },
  {
   "cell_type": "markdown",
   "id": "0a4a1b33",
   "metadata": {
    "papermill": {
     "duration": 0.008892,
     "end_time": "2025-08-05T16:39:06.603721",
     "exception": false,
     "start_time": "2025-08-05T16:39:06.594829",
     "status": "completed"
    },
    "tags": []
   },
   "source": [
    "# Preprocessing Data"
   ]
  },
  {
   "cell_type": "code",
   "execution_count": 19,
   "id": "ca879031",
   "metadata": {
    "execution": {
     "iopub.execute_input": "2025-08-05T16:39:06.623096Z",
     "iopub.status.busy": "2025-08-05T16:39:06.622352Z",
     "iopub.status.idle": "2025-08-05T16:39:06.627219Z",
     "shell.execute_reply": "2025-08-05T16:39:06.626477Z"
    },
    "papermill": {
     "duration": 0.015906,
     "end_time": "2025-08-05T16:39:06.628525",
     "exception": false,
     "start_time": "2025-08-05T16:39:06.612619",
     "status": "completed"
    },
    "tags": []
   },
   "outputs": [],
   "source": [
    "# EXCLUDE PROTECTED FEATURES\n",
    "# ----------------------\n",
    "# \"exclude_features\": \"none\", # \"nationality\", \"sex\", \"nationality-sex\"\n",
    "\n",
    "excluded_features = universe[\"exclude_features\"].split(\"-\") # split, e.g.: \"nationality-sex\" -> [\"nationality\", \"sex\"]\n",
    "excluded_features_dictionary = {\n",
    "    \"nationality\": [\"maxdeutsch1\", \"maxdeutsch.Missing.\"],\n",
    "    \"sex\": [\"frau1\"],\n",
    "    \"age\": [\"age\"],\n",
    "}"
   ]
  },
  {
   "cell_type": "code",
   "execution_count": 20,
   "id": "b745ac60",
   "metadata": {
    "execution": {
     "iopub.execute_input": "2025-08-05T16:39:06.648082Z",
     "iopub.status.busy": "2025-08-05T16:39:06.647746Z",
     "iopub.status.idle": "2025-08-05T16:39:06.652093Z",
     "shell.execute_reply": "2025-08-05T16:39:06.651351Z"
    },
    "papermill": {
     "duration": 0.015194,
     "end_time": "2025-08-05T16:39:06.653469",
     "exception": false,
     "start_time": "2025-08-05T16:39:06.638275",
     "status": "completed"
    },
    "tags": []
   },
   "outputs": [],
   "source": [
    "# Code nice names to column names\n",
    "\n",
    "excluded_features_columns = [\n",
    "    excluded_features_dictionary[f] for f in excluded_features if len(f) > 0 and f != \"none\"\n",
    "]"
   ]
  },
  {
   "cell_type": "code",
   "execution_count": 21,
   "id": "f84f73a2",
   "metadata": {
    "execution": {
     "iopub.execute_input": "2025-08-05T16:39:06.673694Z",
     "iopub.status.busy": "2025-08-05T16:39:06.673191Z",
     "iopub.status.idle": "2025-08-05T16:39:06.678595Z",
     "shell.execute_reply": "2025-08-05T16:39:06.677809Z"
    },
    "papermill": {
     "duration": 0.016573,
     "end_time": "2025-08-05T16:39:06.680006",
     "exception": false,
     "start_time": "2025-08-05T16:39:06.663433",
     "status": "completed"
    },
    "tags": []
   },
   "outputs": [],
   "source": [
    "from utils import flatten_once\n",
    "\n",
    "excluded_features_columns = flatten_once(excluded_features_columns)"
   ]
  },
  {
   "cell_type": "code",
   "execution_count": 22,
   "id": "884dea22",
   "metadata": {
    "execution": {
     "iopub.execute_input": "2025-08-05T16:39:06.700040Z",
     "iopub.status.busy": "2025-08-05T16:39:06.699287Z",
     "iopub.status.idle": "2025-08-05T16:39:06.705805Z",
     "shell.execute_reply": "2025-08-05T16:39:06.705022Z"
    },
    "papermill": {
     "duration": 0.017678,
     "end_time": "2025-08-05T16:39:06.707253",
     "exception": false,
     "start_time": "2025-08-05T16:39:06.689575",
     "status": "completed"
    },
    "tags": []
   },
   "outputs": [
    {
     "name": "stdout",
     "output_type": "stream",
     "text": [
      "Dropping features: ['frau1']\n"
     ]
    }
   ],
   "source": [
    "if len(excluded_features_columns) > 0:\n",
    "    print(f\"Dropping features: {excluded_features_columns}\")\n",
    "    X_train.drop(excluded_features_columns, axis=1, inplace=True)"
   ]
  },
  {
   "cell_type": "code",
   "execution_count": 23,
   "id": "95ab8b16",
   "metadata": {
    "execution": {
     "iopub.execute_input": "2025-08-05T16:39:06.727145Z",
     "iopub.status.busy": "2025-08-05T16:39:06.726818Z",
     "iopub.status.idle": "2025-08-05T16:39:06.774729Z",
     "shell.execute_reply": "2025-08-05T16:39:06.773638Z"
    },
    "papermill": {
     "duration": 0.059102,
     "end_time": "2025-08-05T16:39:06.776257",
     "exception": false,
     "start_time": "2025-08-05T16:39:06.717155",
     "status": "completed"
    },
    "tags": []
   },
   "outputs": [
    {
     "name": "stdout",
     "output_type": "stream",
     "text": [
      "Dropping features: ['frau1']\n"
     ]
    }
   ],
   "source": [
    "if len(excluded_features_columns) > 0:\n",
    "    print(f\"Dropping features: {excluded_features_columns}\")\n",
    "    X_test.drop(excluded_features_columns, axis=1, inplace=True)"
   ]
  },
  {
   "cell_type": "code",
   "execution_count": 24,
   "id": "1853aaf5-fb9f-46cb-a2b5-8ea4ae2237e4",
   "metadata": {
    "execution": {
     "iopub.execute_input": "2025-08-05T16:39:06.796892Z",
     "iopub.status.busy": "2025-08-05T16:39:06.796529Z",
     "iopub.status.idle": "2025-08-05T16:39:06.842855Z",
     "shell.execute_reply": "2025-08-05T16:39:06.841745Z"
    },
    "papermill": {
     "duration": 0.057663,
     "end_time": "2025-08-05T16:39:06.844344",
     "exception": false,
     "start_time": "2025-08-05T16:39:06.786681",
     "status": "completed"
    },
    "tags": []
   },
   "outputs": [
    {
     "name": "stdout",
     "output_type": "stream",
     "text": [
      "Dropping features: ['frau1']\n"
     ]
    }
   ],
   "source": [
    "if len(excluded_features_columns) > 0:\n",
    "    print(f\"Dropping features: {excluded_features_columns}\")\n",
    "    X_calib.drop(excluded_features_columns, axis=1, inplace=True)"
   ]
  },
  {
   "cell_type": "code",
   "execution_count": 25,
   "id": "76c4dc6d",
   "metadata": {
    "execution": {
     "iopub.execute_input": "2025-08-05T16:39:06.865358Z",
     "iopub.status.busy": "2025-08-05T16:39:06.864816Z",
     "iopub.status.idle": "2025-08-05T16:39:06.869166Z",
     "shell.execute_reply": "2025-08-05T16:39:06.868451Z"
    },
    "papermill": {
     "duration": 0.015474,
     "end_time": "2025-08-05T16:39:06.870438",
     "exception": false,
     "start_time": "2025-08-05T16:39:06.854964",
     "status": "completed"
    },
    "tags": []
   },
   "outputs": [],
   "source": [
    "# EXCLUDE CERTAIN SUBGROUPS\n",
    "# ----------------------\n",
    "\n",
    "mode = universe.get(\"exclude_subgroups\", \"keep-all\") \n",
    "# Fetches the exclude_subgroups setting from the universe dict.\n",
    "# Defaults to \"keep-all\" if the key is missing."
   ]
  },
  {
   "cell_type": "code",
   "execution_count": 26,
   "id": "21994072",
   "metadata": {
    "execution": {
     "iopub.execute_input": "2025-08-05T16:39:06.890771Z",
     "iopub.status.busy": "2025-08-05T16:39:06.890554Z",
     "iopub.status.idle": "2025-08-05T16:39:06.895944Z",
     "shell.execute_reply": "2025-08-05T16:39:06.895187Z"
    },
    "papermill": {
     "duration": 0.016798,
     "end_time": "2025-08-05T16:39:06.897273",
     "exception": false,
     "start_time": "2025-08-05T16:39:06.880475",
     "status": "completed"
    },
    "tags": []
   },
   "outputs": [],
   "source": [
    "if mode == \"keep-all\":\n",
    "    keep_mask = pd.Series(True, index=org_train.index)\n",
    "\n",
    "# org_train contains the original feature columns from features_org (in Simson)\n",
    "# features_org contains unprocessed features, for me X_train at beginning ???\n",
    "# For keep-all, creates a boolean Series (keep_mask) of all True, so no rows are removed.\n",
    "\n",
    "elif mode == \"drop-non-german\":\n",
    "    keep_mask = org_train[\"maxdeutsch1\"] == 1 # ??? what about missing values?\n",
    "\n",
    "else:\n",
    "    raise ValueError(f\"Unsupported mode for exclude_subgroups: {mode}\")"
   ]
  },
  {
   "cell_type": "code",
   "execution_count": 27,
   "id": "71651440",
   "metadata": {
    "execution": {
     "iopub.execute_input": "2025-08-05T16:39:06.917709Z",
     "iopub.status.busy": "2025-08-05T16:39:06.917366Z",
     "iopub.status.idle": "2025-08-05T16:39:06.922522Z",
     "shell.execute_reply": "2025-08-05T16:39:06.921845Z"
    },
    "papermill": {
     "duration": 0.016459,
     "end_time": "2025-08-05T16:39:06.923940",
     "exception": false,
     "start_time": "2025-08-05T16:39:06.907481",
     "status": "completed"
    },
    "tags": []
   },
   "outputs": [],
   "source": [
    "n_drop = (~keep_mask).sum() # Calculates how many rows are set to be dropped\n",
    "if n_drop > 0:\n",
    "    pct = n_drop / len(keep_mask) * 100\n",
    "    print(f\"Dropping {n_drop} rows ({pct:.2f}%) where mode='{mode}'\")"
   ]
  },
  {
   "cell_type": "code",
   "execution_count": 28,
   "id": "5fb8eee5",
   "metadata": {
    "execution": {
     "iopub.execute_input": "2025-08-05T16:39:06.944532Z",
     "iopub.status.busy": "2025-08-05T16:39:06.944037Z",
     "iopub.status.idle": "2025-08-05T16:39:06.949279Z",
     "shell.execute_reply": "2025-08-05T16:39:06.948514Z"
    },
    "papermill": {
     "duration": 0.016726,
     "end_time": "2025-08-05T16:39:06.950725",
     "exception": false,
     "start_time": "2025-08-05T16:39:06.933999",
     "status": "completed"
    },
    "tags": []
   },
   "outputs": [],
   "source": [
    "X_train = X_train[keep_mask]"
   ]
  },
  {
   "cell_type": "code",
   "execution_count": 29,
   "id": "b202bb3a",
   "metadata": {
    "execution": {
     "iopub.execute_input": "2025-08-05T16:39:06.971586Z",
     "iopub.status.busy": "2025-08-05T16:39:06.971109Z",
     "iopub.status.idle": "2025-08-05T16:39:06.975854Z",
     "shell.execute_reply": "2025-08-05T16:39:06.975169Z"
    },
    "papermill": {
     "duration": 0.016154,
     "end_time": "2025-08-05T16:39:06.977165",
     "exception": false,
     "start_time": "2025-08-05T16:39:06.961011",
     "status": "completed"
    },
    "tags": []
   },
   "outputs": [],
   "source": [
    "y_train = y_train[keep_mask]"
   ]
  },
  {
   "cell_type": "markdown",
   "id": "493e2ac3",
   "metadata": {
    "papermill": {
     "duration": 0.009278,
     "end_time": "2025-08-05T16:39:06.996447",
     "exception": false,
     "start_time": "2025-08-05T16:39:06.987169",
     "status": "completed"
    },
    "tags": []
   },
   "source": [
    "# Model Training"
   ]
  },
  {
   "cell_type": "code",
   "execution_count": 30,
   "id": "679e1268",
   "metadata": {
    "execution": {
     "iopub.execute_input": "2025-08-05T16:39:07.016616Z",
     "iopub.status.busy": "2025-08-05T16:39:07.015980Z",
     "iopub.status.idle": "2025-08-05T16:39:07.088264Z",
     "shell.execute_reply": "2025-08-05T16:39:07.087521Z"
    },
    "papermill": {
     "duration": 0.083909,
     "end_time": "2025-08-05T16:39:07.089747",
     "exception": false,
     "start_time": "2025-08-05T16:39:07.005838",
     "status": "completed"
    },
    "tags": []
   },
   "outputs": [],
   "source": [
    "from sklearn.linear_model import LogisticRegression\n",
    "from sklearn.ensemble import GradientBoostingClassifier, RandomForestClassifier\n",
    "\n",
    "if (universe[\"model\"] == \"logreg\"):\n",
    "    model = LogisticRegression() #penalty=\"none\", solver=\"newton-cg\", max_iter=1) # include random_state=19 ?\n",
    "elif (universe[\"model\"] == \"penalized_logreg\"):\n",
    "    model = LogisticRegression(penalty=\"l2\", C=0.1) #, solver=\"newton-cg\", max_iter=1)\n",
    "elif (universe[\"model\"] == \"rf\"):\n",
    "    model = RandomForestClassifier() # n_estimators=100, n_jobs=-1\n",
    "elif (universe[\"model\"] == \"gbm\"):\n",
    "    model = GradientBoostingClassifier()\n",
    "elif (universe[\"model\"] == \"elasticnet\"):\n",
    "    model = LogisticRegression(penalty = 'elasticnet', solver = 'saga', l1_ratio = 0.5) # max_iter=5000\n",
    "else:\n",
    "    raise \"Unsupported universe.model\""
   ]
  },
  {
   "cell_type": "code",
   "execution_count": 31,
   "id": "0cc8f744",
   "metadata": {
    "execution": {
     "iopub.execute_input": "2025-08-05T16:39:07.110434Z",
     "iopub.status.busy": "2025-08-05T16:39:07.109931Z",
     "iopub.status.idle": "2025-08-05T16:39:07.114545Z",
     "shell.execute_reply": "2025-08-05T16:39:07.113804Z"
    },
    "papermill": {
     "duration": 0.015973,
     "end_time": "2025-08-05T16:39:07.115794",
     "exception": false,
     "start_time": "2025-08-05T16:39:07.099821",
     "status": "completed"
    },
    "tags": []
   },
   "outputs": [],
   "source": [
    "import numpy as np\n",
    "from sklearn.pipeline import Pipeline\n",
    "from sklearn.preprocessing import StandardScaler\n",
    "\n",
    "model = Pipeline([\n",
    "    #(\"continuous_processor\", continuous_processor),\n",
    "    #(\"categorical_preprocessor\", categorical_preprocessor),\n",
    "    (\"scale\", StandardScaler() if universe[\"scale\"] == \"scale\" else None), \n",
    "    (\"model\", model),\n",
    "])"
   ]
  },
  {
   "cell_type": "code",
   "execution_count": 32,
   "id": "9442c04d",
   "metadata": {
    "execution": {
     "iopub.execute_input": "2025-08-05T16:39:07.136915Z",
     "iopub.status.busy": "2025-08-05T16:39:07.136423Z",
     "iopub.status.idle": "2025-08-05T16:39:07.188120Z",
     "shell.execute_reply": "2025-08-05T16:39:07.184751Z"
    },
    "papermill": {
     "duration": 0.063797,
     "end_time": "2025-08-05T16:39:07.189929",
     "exception": false,
     "start_time": "2025-08-05T16:39:07.126132",
     "status": "completed"
    },
    "tags": []
   },
   "outputs": [
    {
     "name": "stderr",
     "output_type": "stream",
     "text": [
      "/dss/dsshome1/0C/ra93lal2/.local/share/virtualenvs/CMA_Fairness_v2-3j10GkSs/lib/python3.10/site-packages/sklearn/linear_model/_logistic.py:444: ConvergenceWarning: lbfgs failed to converge (status=1):\n",
      "STOP: TOTAL NO. of ITERATIONS REACHED LIMIT.\n",
      "\n",
      "Increase the number of iterations (max_iter) or scale the data as shown in:\n",
      "    https://scikit-learn.org/stable/modules/preprocessing.html\n",
      "Please also refer to the documentation for alternative solver options:\n",
      "    https://scikit-learn.org/stable/modules/linear_model.html#logistic-regression\n",
      "  n_iter_i = _check_optimize_result(\n"
     ]
    },
    {
     "data": {
      "text/html": [
       "<style>#sk-container-id-1 {color: black;background-color: white;}#sk-container-id-1 pre{padding: 0;}#sk-container-id-1 div.sk-toggleable {background-color: white;}#sk-container-id-1 label.sk-toggleable__label {cursor: pointer;display: block;width: 100%;margin-bottom: 0;padding: 0.3em;box-sizing: border-box;text-align: center;}#sk-container-id-1 label.sk-toggleable__label-arrow:before {content: \"▸\";float: left;margin-right: 0.25em;color: #696969;}#sk-container-id-1 label.sk-toggleable__label-arrow:hover:before {color: black;}#sk-container-id-1 div.sk-estimator:hover label.sk-toggleable__label-arrow:before {color: black;}#sk-container-id-1 div.sk-toggleable__content {max-height: 0;max-width: 0;overflow: hidden;text-align: left;background-color: #f0f8ff;}#sk-container-id-1 div.sk-toggleable__content pre {margin: 0.2em;color: black;border-radius: 0.25em;background-color: #f0f8ff;}#sk-container-id-1 input.sk-toggleable__control:checked~div.sk-toggleable__content {max-height: 200px;max-width: 100%;overflow: auto;}#sk-container-id-1 input.sk-toggleable__control:checked~label.sk-toggleable__label-arrow:before {content: \"▾\";}#sk-container-id-1 div.sk-estimator input.sk-toggleable__control:checked~label.sk-toggleable__label {background-color: #d4ebff;}#sk-container-id-1 div.sk-label input.sk-toggleable__control:checked~label.sk-toggleable__label {background-color: #d4ebff;}#sk-container-id-1 input.sk-hidden--visually {border: 0;clip: rect(1px 1px 1px 1px);clip: rect(1px, 1px, 1px, 1px);height: 1px;margin: -1px;overflow: hidden;padding: 0;position: absolute;width: 1px;}#sk-container-id-1 div.sk-estimator {font-family: monospace;background-color: #f0f8ff;border: 1px dotted black;border-radius: 0.25em;box-sizing: border-box;margin-bottom: 0.5em;}#sk-container-id-1 div.sk-estimator:hover {background-color: #d4ebff;}#sk-container-id-1 div.sk-parallel-item::after {content: \"\";width: 100%;border-bottom: 1px solid gray;flex-grow: 1;}#sk-container-id-1 div.sk-label:hover label.sk-toggleable__label {background-color: #d4ebff;}#sk-container-id-1 div.sk-serial::before {content: \"\";position: absolute;border-left: 1px solid gray;box-sizing: border-box;top: 0;bottom: 0;left: 50%;z-index: 0;}#sk-container-id-1 div.sk-serial {display: flex;flex-direction: column;align-items: center;background-color: white;padding-right: 0.2em;padding-left: 0.2em;position: relative;}#sk-container-id-1 div.sk-item {position: relative;z-index: 1;}#sk-container-id-1 div.sk-parallel {display: flex;align-items: stretch;justify-content: center;background-color: white;position: relative;}#sk-container-id-1 div.sk-item::before, #sk-container-id-1 div.sk-parallel-item::before {content: \"\";position: absolute;border-left: 1px solid gray;box-sizing: border-box;top: 0;bottom: 0;left: 50%;z-index: -1;}#sk-container-id-1 div.sk-parallel-item {display: flex;flex-direction: column;z-index: 1;position: relative;background-color: white;}#sk-container-id-1 div.sk-parallel-item:first-child::after {align-self: flex-end;width: 50%;}#sk-container-id-1 div.sk-parallel-item:last-child::after {align-self: flex-start;width: 50%;}#sk-container-id-1 div.sk-parallel-item:only-child::after {width: 0;}#sk-container-id-1 div.sk-dashed-wrapped {border: 1px dashed gray;margin: 0 0.4em 0.5em 0.4em;box-sizing: border-box;padding-bottom: 0.4em;background-color: white;}#sk-container-id-1 div.sk-label label {font-family: monospace;font-weight: bold;display: inline-block;line-height: 1.2em;}#sk-container-id-1 div.sk-label-container {text-align: center;}#sk-container-id-1 div.sk-container {/* jupyter's `normalize.less` sets `[hidden] { display: none; }` but bootstrap.min.css set `[hidden] { display: none !important; }` so we also need the `!important` here to be able to override the default hidden behavior on the sphinx rendered scikit-learn.org. See: https://github.com/scikit-learn/scikit-learn/issues/21755 */display: inline-block !important;position: relative;}#sk-container-id-1 div.sk-text-repr-fallback {display: none;}</style><div id=\"sk-container-id-1\" class=\"sk-top-container\"><div class=\"sk-text-repr-fallback\"><pre>Pipeline(steps=[(&#x27;scale&#x27;, None), (&#x27;model&#x27;, LogisticRegression())])</pre><b>In a Jupyter environment, please rerun this cell to show the HTML representation or trust the notebook. <br />On GitHub, the HTML representation is unable to render, please try loading this page with nbviewer.org.</b></div><div class=\"sk-container\" hidden><div class=\"sk-item sk-dashed-wrapped\"><div class=\"sk-label-container\"><div class=\"sk-label sk-toggleable\"><input class=\"sk-toggleable__control sk-hidden--visually\" id=\"sk-estimator-id-1\" type=\"checkbox\" ><label for=\"sk-estimator-id-1\" class=\"sk-toggleable__label sk-toggleable__label-arrow\">Pipeline</label><div class=\"sk-toggleable__content\"><pre>Pipeline(steps=[(&#x27;scale&#x27;, None), (&#x27;model&#x27;, LogisticRegression())])</pre></div></div></div><div class=\"sk-serial\"><div class=\"sk-item\"><div class=\"sk-estimator sk-toggleable\"><input class=\"sk-toggleable__control sk-hidden--visually\" id=\"sk-estimator-id-2\" type=\"checkbox\" ><label for=\"sk-estimator-id-2\" class=\"sk-toggleable__label sk-toggleable__label-arrow\">None</label><div class=\"sk-toggleable__content\"><pre>None</pre></div></div></div><div class=\"sk-item\"><div class=\"sk-estimator sk-toggleable\"><input class=\"sk-toggleable__control sk-hidden--visually\" id=\"sk-estimator-id-3\" type=\"checkbox\" ><label for=\"sk-estimator-id-3\" class=\"sk-toggleable__label sk-toggleable__label-arrow\">LogisticRegression</label><div class=\"sk-toggleable__content\"><pre>LogisticRegression()</pre></div></div></div></div></div></div></div>"
      ],
      "text/plain": [
       "Pipeline(steps=[('scale', None), ('model', LogisticRegression())])"
      ]
     },
     "execution_count": 32,
     "metadata": {},
     "output_type": "execute_result"
    }
   ],
   "source": [
    "model.fit(X_train, y_train.values.ravel())"
   ]
  },
  {
   "cell_type": "code",
   "execution_count": 33,
   "id": "af59f8c0",
   "metadata": {
    "execution": {
     "iopub.execute_input": "2025-08-05T16:39:07.230075Z",
     "iopub.status.busy": "2025-08-05T16:39:07.229580Z",
     "iopub.status.idle": "2025-08-05T16:39:07.234301Z",
     "shell.execute_reply": "2025-08-05T16:39:07.233588Z"
    },
    "papermill": {
     "duration": 0.0252,
     "end_time": "2025-08-05T16:39:07.235702",
     "exception": false,
     "start_time": "2025-08-05T16:39:07.210502",
     "status": "completed"
    },
    "tags": []
   },
   "outputs": [],
   "source": [
    "from fairness_multiverse.universe import predict_w_threshold"
   ]
  },
  {
   "cell_type": "code",
   "execution_count": 34,
   "id": "a7cf2e16",
   "metadata": {
    "execution": {
     "iopub.execute_input": "2025-08-05T16:39:07.258469Z",
     "iopub.status.busy": "2025-08-05T16:39:07.257985Z",
     "iopub.status.idle": "2025-08-05T16:39:07.351838Z",
     "shell.execute_reply": "2025-08-05T16:39:07.350824Z"
    },
    "papermill": {
     "duration": 0.106498,
     "end_time": "2025-08-05T16:39:07.353176",
     "exception": false,
     "start_time": "2025-08-05T16:39:07.246678",
     "status": "completed"
    },
    "tags": []
   },
   "outputs": [
    {
     "data": {
      "text/plain": [
       "0.8510422472411102"
      ]
     },
     "execution_count": 34,
     "metadata": {},
     "output_type": "execute_result"
    }
   ],
   "source": [
    "probs_test = model.predict_proba(X_test)\n",
    "\n",
    "'''\n",
    "Below code returns a boolean array (or binary 0/1 array depending on how it’s used) where each element \n",
    "is True if the probability of class 1 is greater than or equal to the threshold, and False otherwise.\n",
    "'''\n",
    "y_pred_default = predict_w_threshold(probs_test, 0.5)\n",
    "\n",
    "from sklearn.metrics import accuracy_score\n",
    "\n",
    "# Naive prediction\n",
    "accuracy_score(y_true = y_true, y_pred = y_pred_default)"
   ]
  },
  {
   "cell_type": "code",
   "execution_count": 35,
   "id": "081964c3",
   "metadata": {
    "execution": {
     "iopub.execute_input": "2025-08-05T16:39:07.396050Z",
     "iopub.status.busy": "2025-08-05T16:39:07.395339Z",
     "iopub.status.idle": "2025-08-05T16:39:07.481247Z",
     "shell.execute_reply": "2025-08-05T16:39:07.480210Z"
    },
    "papermill": {
     "duration": 0.109284,
     "end_time": "2025-08-05T16:39:07.483371",
     "exception": false,
     "start_time": "2025-08-05T16:39:07.374087",
     "status": "completed"
    },
    "tags": []
   },
   "outputs": [
    {
     "data": {
      "text/plain": [
       "array([0, 0, 0, ..., 0, 0, 0])"
      ]
     },
     "execution_count": 35,
     "metadata": {},
     "output_type": "execute_result"
    }
   ],
   "source": [
    "model.predict(X_test)"
   ]
  },
  {
   "cell_type": "markdown",
   "id": "56c9705b",
   "metadata": {
    "papermill": {
     "duration": 0.020946,
     "end_time": "2025-08-05T16:39:07.527307",
     "exception": false,
     "start_time": "2025-08-05T16:39:07.506361",
     "status": "completed"
    },
    "tags": []
   },
   "source": [
    "# Conformal Prediction"
   ]
  },
  {
   "cell_type": "code",
   "execution_count": 36,
   "id": "160ec6ff",
   "metadata": {
    "execution": {
     "iopub.execute_input": "2025-08-05T16:39:07.574216Z",
     "iopub.status.busy": "2025-08-05T16:39:07.573523Z",
     "iopub.status.idle": "2025-08-05T16:39:07.578889Z",
     "shell.execute_reply": "2025-08-05T16:39:07.577853Z"
    },
    "papermill": {
     "duration": 0.030696,
     "end_time": "2025-08-05T16:39:07.580718",
     "exception": false,
     "start_time": "2025-08-05T16:39:07.550022",
     "status": "completed"
    },
    "tags": []
   },
   "outputs": [],
   "source": [
    "# Miscoverage level for conformal prediction (10% allowed error rate => 90% target coverage)\n",
    "alpha = 0.1"
   ]
  },
  {
   "cell_type": "code",
   "execution_count": 37,
   "id": "eadf4555-3dd3-440e-8e35-f82a4ad9f855",
   "metadata": {
    "execution": {
     "iopub.execute_input": "2025-08-05T16:39:07.624472Z",
     "iopub.status.busy": "2025-08-05T16:39:07.623782Z",
     "iopub.status.idle": "2025-08-05T16:39:07.706563Z",
     "shell.execute_reply": "2025-08-05T16:39:07.705564Z"
    },
    "papermill": {
     "duration": 0.106449,
     "end_time": "2025-08-05T16:39:07.708745",
     "exception": false,
     "start_time": "2025-08-05T16:39:07.602296",
     "status": "completed"
    },
    "tags": []
   },
   "outputs": [],
   "source": [
    "probs_calib = model.predict_proba(X_calib)"
   ]
  },
  {
   "cell_type": "code",
   "execution_count": 38,
   "id": "2ed93547-6d5d-4983-9b36-1ecb300da49a",
   "metadata": {
    "execution": {
     "iopub.execute_input": "2025-08-05T16:39:07.755513Z",
     "iopub.status.busy": "2025-08-05T16:39:07.754843Z",
     "iopub.status.idle": "2025-08-05T16:39:07.761218Z",
     "shell.execute_reply": "2025-08-05T16:39:07.760209Z"
    },
    "papermill": {
     "duration": 0.032537,
     "end_time": "2025-08-05T16:39:07.763244",
     "exception": false,
     "start_time": "2025-08-05T16:39:07.730707",
     "status": "completed"
    },
    "tags": []
   },
   "outputs": [],
   "source": [
    "y_calib = y_calib.values.ravel().astype(int)"
   ]
  },
  {
   "cell_type": "code",
   "execution_count": 39,
   "id": "65d1320d-f588-4b38-9072-62af1ae97f7d",
   "metadata": {
    "execution": {
     "iopub.execute_input": "2025-08-05T16:39:07.809150Z",
     "iopub.status.busy": "2025-08-05T16:39:07.808511Z",
     "iopub.status.idle": "2025-08-05T16:39:07.816628Z",
     "shell.execute_reply": "2025-08-05T16:39:07.815566Z"
    },
    "papermill": {
     "duration": 0.033032,
     "end_time": "2025-08-05T16:39:07.818403",
     "exception": false,
     "start_time": "2025-08-05T16:39:07.785371",
     "status": "completed"
    },
    "tags": []
   },
   "outputs": [],
   "source": [
    "from fairness_multiverse.conformal import compute_nc_scores\n",
    "\n",
    "# Compute nonconformity scores on calibration set (1 - probability of true class)\n",
    "nc_scores = compute_nc_scores(probs_calib, y_calib)"
   ]
  },
  {
   "cell_type": "code",
   "execution_count": 40,
   "id": "df3b8ca3-53b7-43d5-9667-7c85da7aeda2",
   "metadata": {
    "execution": {
     "iopub.execute_input": "2025-08-05T16:39:07.864082Z",
     "iopub.status.busy": "2025-08-05T16:39:07.863286Z",
     "iopub.status.idle": "2025-08-05T16:39:07.869896Z",
     "shell.execute_reply": "2025-08-05T16:39:07.868817Z"
    },
    "papermill": {
     "duration": 0.030648,
     "end_time": "2025-08-05T16:39:07.871674",
     "exception": false,
     "start_time": "2025-08-05T16:39:07.841026",
     "status": "completed"
    },
    "tags": []
   },
   "outputs": [],
   "source": [
    "from fairness_multiverse.conformal import find_threshold\n",
    "\n",
    "# Find conformal threshold q_hat for the given alpha (split conformal method)\n",
    "q_hat = find_threshold(nc_scores, alpha)"
   ]
  },
  {
   "cell_type": "code",
   "execution_count": 41,
   "id": "4d29e6c1-0ef6-4aa4-b8fe-4fe79b0d033a",
   "metadata": {
    "execution": {
     "iopub.execute_input": "2025-08-05T16:39:07.915574Z",
     "iopub.status.busy": "2025-08-05T16:39:07.915018Z",
     "iopub.status.idle": "2025-08-05T16:39:07.922822Z",
     "shell.execute_reply": "2025-08-05T16:39:07.921733Z"
    },
    "papermill": {
     "duration": 0.031398,
     "end_time": "2025-08-05T16:39:07.924577",
     "exception": false,
     "start_time": "2025-08-05T16:39:07.893179",
     "status": "completed"
    },
    "tags": []
   },
   "outputs": [
    {
     "data": {
      "text/plain": [
       "0.6962898051381702"
      ]
     },
     "execution_count": 41,
     "metadata": {},
     "output_type": "execute_result"
    }
   ],
   "source": [
    "q_hat"
   ]
  },
  {
   "cell_type": "code",
   "execution_count": 42,
   "id": "92460794-cdac-4be2-ba28-f28c0515a6fb",
   "metadata": {
    "execution": {
     "iopub.execute_input": "2025-08-05T16:39:07.968599Z",
     "iopub.status.busy": "2025-08-05T16:39:07.968060Z",
     "iopub.status.idle": "2025-08-05T16:39:08.598867Z",
     "shell.execute_reply": "2025-08-05T16:39:08.597817Z"
    },
    "papermill": {
     "duration": 0.654905,
     "end_time": "2025-08-05T16:39:08.600939",
     "exception": false,
     "start_time": "2025-08-05T16:39:07.946034",
     "status": "completed"
    },
    "tags": []
   },
   "outputs": [],
   "source": [
    "from fairness_multiverse.conformal import predict_conformal_sets\n",
    "\n",
    "# Generate prediction sets for each test example\n",
    "pred_sets = predict_conformal_sets(model, X_test, q_hat)"
   ]
  },
  {
   "cell_type": "code",
   "execution_count": 43,
   "id": "d90c9a65-e6db-4f5d-80cd-e68fb7e46829",
   "metadata": {
    "execution": {
     "iopub.execute_input": "2025-08-05T16:39:08.649196Z",
     "iopub.status.busy": "2025-08-05T16:39:08.648457Z",
     "iopub.status.idle": "2025-08-05T16:39:08.654510Z",
     "shell.execute_reply": "2025-08-05T16:39:08.653458Z"
    },
    "papermill": {
     "duration": 0.033189,
     "end_time": "2025-08-05T16:39:08.656298",
     "exception": false,
     "start_time": "2025-08-05T16:39:08.623109",
     "status": "completed"
    },
    "tags": []
   },
   "outputs": [],
   "source": [
    "y_true = y_true.squeeze()"
   ]
  },
  {
   "cell_type": "code",
   "execution_count": 44,
   "id": "3a58a54a-1e68-46b9-927a-df01f18aebc8",
   "metadata": {
    "execution": {
     "iopub.execute_input": "2025-08-05T16:39:08.706108Z",
     "iopub.status.busy": "2025-08-05T16:39:08.705389Z",
     "iopub.status.idle": "2025-08-05T16:39:09.424913Z",
     "shell.execute_reply": "2025-08-05T16:39:09.423742Z"
    },
    "papermill": {
     "duration": 0.747151,
     "end_time": "2025-08-05T16:39:09.427451",
     "exception": false,
     "start_time": "2025-08-05T16:39:08.680300",
     "status": "completed"
    },
    "tags": []
   },
   "outputs": [],
   "source": [
    "from fairness_multiverse.conformal import evaluate_sets\n",
    "\n",
    "# Evaluate coverage and average set size on test data\n",
    "metrics = evaluate_sets(pred_sets, y_true)"
   ]
  },
  {
   "cell_type": "markdown",
   "id": "2b569c12-9aaa-4c88-98c9-bbcd0cf3ebb8",
   "metadata": {
    "papermill": {
     "duration": 0.02949,
     "end_time": "2025-08-05T16:39:09.485888",
     "exception": false,
     "start_time": "2025-08-05T16:39:09.456398",
     "status": "completed"
    },
    "tags": []
   },
   "source": [
    "# CP Metrics"
   ]
  },
  {
   "cell_type": "code",
   "execution_count": 45,
   "id": "5ce0a5cb-201f-45a0-ade5-94c7f0bd6095",
   "metadata": {
    "execution": {
     "iopub.execute_input": "2025-08-05T16:39:09.546102Z",
     "iopub.status.busy": "2025-08-05T16:39:09.545510Z",
     "iopub.status.idle": "2025-08-05T16:39:09.553470Z",
     "shell.execute_reply": "2025-08-05T16:39:09.552375Z"
    },
    "papermill": {
     "duration": 0.040739,
     "end_time": "2025-08-05T16:39:09.555749",
     "exception": false,
     "start_time": "2025-08-05T16:39:09.515010",
     "status": "completed"
    },
    "tags": []
   },
   "outputs": [
    {
     "data": {
      "text/plain": [
       "{'coverage': 0.9109017946717199, 'avg_size': 1.2198194181250697}"
      ]
     },
     "execution_count": 45,
     "metadata": {},
     "output_type": "execute_result"
    }
   ],
   "source": [
    "metrics"
   ]
  },
  {
   "cell_type": "code",
   "execution_count": 46,
   "id": "9b9a838d-31c9-430b-ae14-12baee460d17",
   "metadata": {
    "execution": {
     "iopub.execute_input": "2025-08-05T16:39:09.619999Z",
     "iopub.status.busy": "2025-08-05T16:39:09.618864Z",
     "iopub.status.idle": "2025-08-05T16:39:09.626926Z",
     "shell.execute_reply": "2025-08-05T16:39:09.625699Z"
    },
    "papermill": {
     "duration": 0.042137,
     "end_time": "2025-08-05T16:39:09.628918",
     "exception": false,
     "start_time": "2025-08-05T16:39:09.586781",
     "status": "completed"
    },
    "tags": []
   },
   "outputs": [],
   "source": [
    "example_universe = universe.copy()\n",
    "universe_training_year = example_universe.get(\"training_year\")\n",
    "universe_training_size = example_universe.get(\"training_size\")\n",
    "universe_scale = example_universe.get(\"scale\")\n",
    "universe_model = example_universe.get(\"model\")\n",
    "universe_exclude_features = example_universe.get(\"exclude_features\")\n",
    "universe_exclude_subgroups = example_universe.get(\"exclude_subgroups\")"
   ]
  },
  {
   "cell_type": "code",
   "execution_count": 47,
   "id": "f4b6a8ac-9dc0-4245-8a91-5b3b5999c4f9",
   "metadata": {
    "execution": {
     "iopub.execute_input": "2025-08-05T16:39:09.678011Z",
     "iopub.status.busy": "2025-08-05T16:39:09.676929Z",
     "iopub.status.idle": "2025-08-05T16:39:09.684511Z",
     "shell.execute_reply": "2025-08-05T16:39:09.683258Z"
    },
    "papermill": {
     "duration": 0.034178,
     "end_time": "2025-08-05T16:39:09.686864",
     "exception": false,
     "start_time": "2025-08-05T16:39:09.652686",
     "status": "completed"
    },
    "tags": []
   },
   "outputs": [],
   "source": [
    "cp_metrics_dict = {\n",
    "    \"universe_id\": [universe_id],\n",
    "    \"universe_training_year\": [universe_training_year],\n",
    "    \"universe_training_size\": [universe_training_size],\n",
    "    \"universe_scale\": [universe_scale],\n",
    "    \"universe_model\": [universe_model],\n",
    "    \"universe_exclude_features\": [universe_exclude_features],\n",
    "    \"universe_exclude_subgroups\": [universe_exclude_subgroups],\n",
    "    \"q_hat\": [q_hat],\n",
    "    \"coverage\": [metrics[\"coverage\"]],\n",
    "    \"avg_size\": [metrics[\"avg_size\"]],\n",
    "}"
   ]
  },
  {
   "cell_type": "code",
   "execution_count": 48,
   "id": "908acbb1-0371-4915-85ca-3fa520d2efe2",
   "metadata": {
    "execution": {
     "iopub.execute_input": "2025-08-05T16:39:09.749677Z",
     "iopub.status.busy": "2025-08-05T16:39:09.748494Z",
     "iopub.status.idle": "2025-08-05T16:39:09.758665Z",
     "shell.execute_reply": "2025-08-05T16:39:09.757467Z"
    },
    "papermill": {
     "duration": 0.042853,
     "end_time": "2025-08-05T16:39:09.760483",
     "exception": false,
     "start_time": "2025-08-05T16:39:09.717630",
     "status": "completed"
    },
    "tags": []
   },
   "outputs": [
    {
     "data": {
      "text/plain": [
       "{'universe_id': ['cf09258a9c45c6280b5a84b6b277d4ec'],\n",
       " 'universe_training_year': ['2010_14'],\n",
       " 'universe_training_size': ['1k'],\n",
       " 'universe_scale': ['do-not-scale'],\n",
       " 'universe_model': ['logreg'],\n",
       " 'universe_exclude_features': ['sex'],\n",
       " 'universe_exclude_subgroups': ['keep-all'],\n",
       " 'q_hat': [0.6962898051381702],\n",
       " 'coverage': [0.9109017946717199],\n",
       " 'avg_size': [1.2198194181250697]}"
      ]
     },
     "execution_count": 48,
     "metadata": {},
     "output_type": "execute_result"
    }
   ],
   "source": [
    "cp_metrics_dict"
   ]
  },
  {
   "cell_type": "code",
   "execution_count": 49,
   "id": "33007efc-14e9-4ec6-97ac-56a455c82265",
   "metadata": {
    "execution": {
     "iopub.execute_input": "2025-08-05T16:39:09.807936Z",
     "iopub.status.busy": "2025-08-05T16:39:09.806961Z",
     "iopub.status.idle": "2025-08-05T16:39:09.815423Z",
     "shell.execute_reply": "2025-08-05T16:39:09.814227Z"
    },
    "papermill": {
     "duration": 0.033866,
     "end_time": "2025-08-05T16:39:09.817335",
     "exception": false,
     "start_time": "2025-08-05T16:39:09.783469",
     "status": "completed"
    },
    "tags": []
   },
   "outputs": [],
   "source": [
    "cp_metrics_df = pd.DataFrame(cp_metrics_dict)"
   ]
  },
  {
   "cell_type": "code",
   "execution_count": 50,
   "id": "db12611b-57b2-4910-b9d0-355adfd6e7bf",
   "metadata": {
    "execution": {
     "iopub.execute_input": "2025-08-05T16:39:09.865451Z",
     "iopub.status.busy": "2025-08-05T16:39:09.864827Z",
     "iopub.status.idle": "2025-08-05T16:39:09.885841Z",
     "shell.execute_reply": "2025-08-05T16:39:09.884703Z"
    },
    "papermill": {
     "duration": 0.046798,
     "end_time": "2025-08-05T16:39:09.887525",
     "exception": false,
     "start_time": "2025-08-05T16:39:09.840727",
     "status": "completed"
    },
    "tags": []
   },
   "outputs": [
    {
     "data": {
      "text/html": [
       "<div>\n",
       "<style scoped>\n",
       "    .dataframe tbody tr th:only-of-type {\n",
       "        vertical-align: middle;\n",
       "    }\n",
       "\n",
       "    .dataframe tbody tr th {\n",
       "        vertical-align: top;\n",
       "    }\n",
       "\n",
       "    .dataframe thead th {\n",
       "        text-align: right;\n",
       "    }\n",
       "</style>\n",
       "<table border=\"1\" class=\"dataframe\">\n",
       "  <thead>\n",
       "    <tr style=\"text-align: right;\">\n",
       "      <th></th>\n",
       "      <th>universe_id</th>\n",
       "      <th>universe_training_year</th>\n",
       "      <th>universe_training_size</th>\n",
       "      <th>universe_scale</th>\n",
       "      <th>universe_model</th>\n",
       "      <th>universe_exclude_features</th>\n",
       "      <th>universe_exclude_subgroups</th>\n",
       "      <th>q_hat</th>\n",
       "      <th>coverage</th>\n",
       "      <th>avg_size</th>\n",
       "    </tr>\n",
       "  </thead>\n",
       "  <tbody>\n",
       "    <tr>\n",
       "      <th>0</th>\n",
       "      <td>cf09258a9c45c6280b5a84b6b277d4ec</td>\n",
       "      <td>2010_14</td>\n",
       "      <td>1k</td>\n",
       "      <td>do-not-scale</td>\n",
       "      <td>logreg</td>\n",
       "      <td>sex</td>\n",
       "      <td>keep-all</td>\n",
       "      <td>0.69629</td>\n",
       "      <td>0.910902</td>\n",
       "      <td>1.219819</td>\n",
       "    </tr>\n",
       "  </tbody>\n",
       "</table>\n",
       "</div>"
      ],
      "text/plain": [
       "                        universe_id universe_training_year  \\\n",
       "0  cf09258a9c45c6280b5a84b6b277d4ec                2010_14   \n",
       "\n",
       "  universe_training_size universe_scale universe_model  \\\n",
       "0                     1k   do-not-scale         logreg   \n",
       "\n",
       "  universe_exclude_features universe_exclude_subgroups    q_hat  coverage  \\\n",
       "0                       sex                   keep-all  0.69629  0.910902   \n",
       "\n",
       "   avg_size  \n",
       "0  1.219819  "
      ]
     },
     "execution_count": 50,
     "metadata": {},
     "output_type": "execute_result"
    }
   ],
   "source": [
    "cp_metrics_df"
   ]
  },
  {
   "cell_type": "code",
   "execution_count": 51,
   "id": "b7fbde55-a0a1-47e4-9af6-fe4a17fa8c61",
   "metadata": {
    "execution": {
     "iopub.execute_input": "2025-08-05T16:39:09.935480Z",
     "iopub.status.busy": "2025-08-05T16:39:09.934273Z",
     "iopub.status.idle": "2025-08-05T16:39:09.941329Z",
     "shell.execute_reply": "2025-08-05T16:39:09.940175Z"
    },
    "papermill": {
     "duration": 0.033012,
     "end_time": "2025-08-05T16:39:09.943354",
     "exception": false,
     "start_time": "2025-08-05T16:39:09.910342",
     "status": "completed"
    },
    "tags": []
   },
   "outputs": [],
   "source": [
    "# Conditional Coverage & looking at subgroups"
   ]
  },
  {
   "cell_type": "code",
   "execution_count": 52,
   "id": "027ae886-68dd-4141-96c7-805a5450e1ef",
   "metadata": {
    "execution": {
     "iopub.execute_input": "2025-08-05T16:39:09.992442Z",
     "iopub.status.busy": "2025-08-05T16:39:09.991572Z",
     "iopub.status.idle": "2025-08-05T16:39:10.247250Z",
     "shell.execute_reply": "2025-08-05T16:39:10.246038Z"
    },
    "papermill": {
     "duration": 0.282058,
     "end_time": "2025-08-05T16:39:10.249337",
     "exception": false,
     "start_time": "2025-08-05T16:39:09.967279",
     "status": "completed"
    },
    "tags": []
   },
   "outputs": [],
   "source": [
    "from fairness_multiverse.conformal import build_cp_groups\n",
    "\n",
    "cp_groups_df = build_cp_groups(pred_sets, y_true, X_test.index, org_test)\n",
    "#needs universe_id and setting"
   ]
  },
  {
   "cell_type": "code",
   "execution_count": 53,
   "id": "6cbdab96-b2b2-45af-ad54-d0516db2e28d",
   "metadata": {
    "execution": {
     "iopub.execute_input": "2025-08-05T16:39:10.300824Z",
     "iopub.status.busy": "2025-08-05T16:39:10.300120Z",
     "iopub.status.idle": "2025-08-05T16:39:11.370913Z",
     "shell.execute_reply": "2025-08-05T16:39:11.370176Z"
    },
    "papermill": {
     "duration": 1.097031,
     "end_time": "2025-08-05T16:39:11.372356",
     "exception": false,
     "start_time": "2025-08-05T16:39:10.275325",
     "status": "completed"
    },
    "tags": []
   },
   "outputs": [],
   "source": [
    "# Define covered = 1 if true_label is in the predicted set\n",
    "cp_groups_df['covered'] = cp_groups_df.apply(\n",
    "    lambda r: int(r['true_label'] in r['pred_set']),\n",
    "    axis=1\n",
    ")"
   ]
  },
  {
   "cell_type": "code",
   "execution_count": 54,
   "id": "338ff529-1a6b-4b87-a931-8e4788d52aad",
   "metadata": {
    "execution": {
     "iopub.execute_input": "2025-08-05T16:39:11.400248Z",
     "iopub.status.busy": "2025-08-05T16:39:11.399617Z",
     "iopub.status.idle": "2025-08-05T16:39:11.404229Z",
     "shell.execute_reply": "2025-08-05T16:39:11.403473Z"
    },
    "papermill": {
     "duration": 0.019131,
     "end_time": "2025-08-05T16:39:11.405839",
     "exception": false,
     "start_time": "2025-08-05T16:39:11.386708",
     "status": "completed"
    },
    "tags": []
   },
   "outputs": [],
   "source": [
    "#cp_groups_df"
   ]
  },
  {
   "cell_type": "code",
   "execution_count": 55,
   "id": "90032e27-66df-4540-9169-4e89cfbaa758",
   "metadata": {
    "execution": {
     "iopub.execute_input": "2025-08-05T16:39:11.445350Z",
     "iopub.status.busy": "2025-08-05T16:39:11.444830Z",
     "iopub.status.idle": "2025-08-05T16:39:11.462930Z",
     "shell.execute_reply": "2025-08-05T16:39:11.458976Z"
    },
    "papermill": {
     "duration": 0.045076,
     "end_time": "2025-08-05T16:39:11.465248",
     "exception": false,
     "start_time": "2025-08-05T16:39:11.420172",
     "status": "completed"
    },
    "tags": []
   },
   "outputs": [],
   "source": [
    "subgroups = ['frau1','nongerman','nongerman_male','nongerman_female']\n",
    "\n",
    "# Conditional coverage for subgroup==1\n",
    "cond_coverage = {\n",
    "    g: cp_groups_df.loc[cp_groups_df[g]==1, 'covered'].mean()\n",
    "    for g in subgroups\n",
    "}"
   ]
  },
  {
   "cell_type": "code",
   "execution_count": 56,
   "id": "1e348fb1-b9c3-45bc-ba23-f016827a7e0d",
   "metadata": {
    "execution": {
     "iopub.execute_input": "2025-08-05T16:39:11.516450Z",
     "iopub.status.busy": "2025-08-05T16:39:11.515785Z",
     "iopub.status.idle": "2025-08-05T16:39:11.534215Z",
     "shell.execute_reply": "2025-08-05T16:39:11.532906Z"
    },
    "papermill": {
     "duration": 0.046244,
     "end_time": "2025-08-05T16:39:11.536196",
     "exception": false,
     "start_time": "2025-08-05T16:39:11.489952",
     "status": "completed"
    },
    "tags": []
   },
   "outputs": [
    {
     "data": {
      "text/plain": [
       "{'frau1': 0.909610459630678,\n",
       " 'nongerman': 0.9257845393813507,\n",
       " 'nongerman_male': 0.9411870665585877,\n",
       " 'nongerman_female': 0.9002980625931446}"
      ]
     },
     "execution_count": 56,
     "metadata": {},
     "output_type": "execute_result"
    }
   ],
   "source": [
    "cond_coverage"
   ]
  },
  {
   "cell_type": "code",
   "execution_count": 57,
   "id": "f5093324-c3dd-4d63-bc4c-8d945e5c8bbb",
   "metadata": {
    "execution": {
     "iopub.execute_input": "2025-08-05T16:39:11.586917Z",
     "iopub.status.busy": "2025-08-05T16:39:11.586120Z",
     "iopub.status.idle": "2025-08-05T16:39:11.595844Z",
     "shell.execute_reply": "2025-08-05T16:39:11.594658Z"
    },
    "papermill": {
     "duration": 0.036816,
     "end_time": "2025-08-05T16:39:11.597726",
     "exception": false,
     "start_time": "2025-08-05T16:39:11.560910",
     "status": "completed"
    },
    "tags": []
   },
   "outputs": [],
   "source": [
    "for subgroup, cov in cond_coverage.items():\n",
    "    cp_metrics_df[f\"cov_{subgroup}\"] = cov"
   ]
  },
  {
   "cell_type": "code",
   "execution_count": 58,
   "id": "6e872e10-dbe5-49e8-b554-5030c98ff75d",
   "metadata": {
    "execution": {
     "iopub.execute_input": "2025-08-05T16:39:11.642397Z",
     "iopub.status.busy": "2025-08-05T16:39:11.641433Z",
     "iopub.status.idle": "2025-08-05T16:39:11.667728Z",
     "shell.execute_reply": "2025-08-05T16:39:11.664144Z"
    },
    "papermill": {
     "duration": 0.048308,
     "end_time": "2025-08-05T16:39:11.670612",
     "exception": false,
     "start_time": "2025-08-05T16:39:11.622304",
     "status": "completed"
    },
    "tags": []
   },
   "outputs": [
    {
     "data": {
      "text/html": [
       "<div>\n",
       "<style scoped>\n",
       "    .dataframe tbody tr th:only-of-type {\n",
       "        vertical-align: middle;\n",
       "    }\n",
       "\n",
       "    .dataframe tbody tr th {\n",
       "        vertical-align: top;\n",
       "    }\n",
       "\n",
       "    .dataframe thead th {\n",
       "        text-align: right;\n",
       "    }\n",
       "</style>\n",
       "<table border=\"1\" class=\"dataframe\">\n",
       "  <thead>\n",
       "    <tr style=\"text-align: right;\">\n",
       "      <th></th>\n",
       "      <th>universe_id</th>\n",
       "      <th>universe_training_year</th>\n",
       "      <th>universe_training_size</th>\n",
       "      <th>universe_scale</th>\n",
       "      <th>universe_model</th>\n",
       "      <th>universe_exclude_features</th>\n",
       "      <th>universe_exclude_subgroups</th>\n",
       "      <th>q_hat</th>\n",
       "      <th>coverage</th>\n",
       "      <th>avg_size</th>\n",
       "      <th>cov_frau1</th>\n",
       "      <th>cov_nongerman</th>\n",
       "      <th>cov_nongerman_male</th>\n",
       "      <th>cov_nongerman_female</th>\n",
       "    </tr>\n",
       "  </thead>\n",
       "  <tbody>\n",
       "    <tr>\n",
       "      <th>0</th>\n",
       "      <td>cf09258a9c45c6280b5a84b6b277d4ec</td>\n",
       "      <td>2010_14</td>\n",
       "      <td>1k</td>\n",
       "      <td>do-not-scale</td>\n",
       "      <td>logreg</td>\n",
       "      <td>sex</td>\n",
       "      <td>keep-all</td>\n",
       "      <td>0.69629</td>\n",
       "      <td>0.910902</td>\n",
       "      <td>1.219819</td>\n",
       "      <td>0.90961</td>\n",
       "      <td>0.925785</td>\n",
       "      <td>0.941187</td>\n",
       "      <td>0.900298</td>\n",
       "    </tr>\n",
       "  </tbody>\n",
       "</table>\n",
       "</div>"
      ],
      "text/plain": [
       "                        universe_id universe_training_year  \\\n",
       "0  cf09258a9c45c6280b5a84b6b277d4ec                2010_14   \n",
       "\n",
       "  universe_training_size universe_scale universe_model  \\\n",
       "0                     1k   do-not-scale         logreg   \n",
       "\n",
       "  universe_exclude_features universe_exclude_subgroups    q_hat  coverage  \\\n",
       "0                       sex                   keep-all  0.69629  0.910902   \n",
       "\n",
       "   avg_size  cov_frau1  cov_nongerman  cov_nongerman_male  \\\n",
       "0  1.219819    0.90961       0.925785            0.941187   \n",
       "\n",
       "   cov_nongerman_female  \n",
       "0              0.900298  "
      ]
     },
     "execution_count": 58,
     "metadata": {},
     "output_type": "execute_result"
    }
   ],
   "source": [
    "cp_metrics_df"
   ]
  },
  {
   "cell_type": "markdown",
   "id": "33774451",
   "metadata": {
    "papermill": {
     "duration": 0.036245,
     "end_time": "2025-08-05T16:39:11.743141",
     "exception": false,
     "start_time": "2025-08-05T16:39:11.706896",
     "status": "completed"
    },
    "tags": []
   },
   "source": [
    "# (Fairness) Metrics"
   ]
  },
  {
   "cell_type": "code",
   "execution_count": 59,
   "id": "debc5d62",
   "metadata": {
    "execution": {
     "iopub.execute_input": "2025-08-05T16:39:11.805954Z",
     "iopub.status.busy": "2025-08-05T16:39:11.805384Z",
     "iopub.status.idle": "2025-08-05T16:39:11.822663Z",
     "shell.execute_reply": "2025-08-05T16:39:11.821601Z"
    },
    "papermill": {
     "duration": 0.046645,
     "end_time": "2025-08-05T16:39:11.824190",
     "exception": false,
     "start_time": "2025-08-05T16:39:11.777545",
     "status": "completed"
    },
    "tags": []
   },
   "outputs": [],
   "source": [
    "# do I need to include maxdeutsch1.missing?\n",
    "\n",
    "import numpy as np\n",
    "\n",
    "colname_to_bin = \"maxdeutsch1\"\n",
    "majority_value = org_train[colname_to_bin].mode()[0]\n",
    "\n",
    "org_test[\"majmin\"] = np.where(org_test[colname_to_bin] == majority_value, \"majority\", \"minority\")"
   ]
  },
  {
   "cell_type": "code",
   "execution_count": 60,
   "id": "06a50de5",
   "metadata": {
    "execution": {
     "iopub.execute_input": "2025-08-05T16:39:11.867520Z",
     "iopub.status.busy": "2025-08-05T16:39:11.867169Z",
     "iopub.status.idle": "2025-08-05T16:39:14.726607Z",
     "shell.execute_reply": "2025-08-05T16:39:14.725658Z"
    },
    "papermill": {
     "duration": 2.883667,
     "end_time": "2025-08-05T16:39:14.728535",
     "exception": false,
     "start_time": "2025-08-05T16:39:11.844868",
     "status": "completed"
    },
    "tags": []
   },
   "outputs": [],
   "source": [
    "example_universe = universe.copy()\n",
    "example_universe[\"cutoff\"] = example_universe[\"cutoff\"][0]\n",
    "example_universe[\"eval_fairness_grouping\"] = example_universe[\"eval_fairness_grouping\"][0]\n",
    "fairness_dict, metric_frame = universe_analysis.compute_metrics(\n",
    "    example_universe,\n",
    "    y_pred_prob=probs_test,\n",
    "    y_test=y_true,\n",
    "    org_test=org_test,\n",
    ")"
   ]
  },
  {
   "cell_type": "markdown",
   "id": "f95d4e02",
   "metadata": {
    "papermill": {
     "duration": 0.0234,
     "end_time": "2025-08-05T16:39:14.776624",
     "exception": false,
     "start_time": "2025-08-05T16:39:14.753224",
     "status": "completed"
    },
    "tags": []
   },
   "source": [
    "# Overall"
   ]
  },
  {
   "cell_type": "markdown",
   "id": "bdee4871",
   "metadata": {
    "papermill": {
     "duration": 0.023215,
     "end_time": "2025-08-05T16:39:14.822929",
     "exception": false,
     "start_time": "2025-08-05T16:39:14.799714",
     "status": "completed"
    },
    "tags": []
   },
   "source": [
    "Fairness\n",
    "Main fairness target: Equalized Odds. Seems to be a better fit than equal opportunity, since we're not only interested in Y = 1. Seems to be a better fit than demographic parity, since we also care about accuracy, not just equal distribution of preds.\n",
    "\n",
    "Pick column for computation of fairness metrics\n",
    "\n",
    "Performance\n",
    "Overall performance measures, most interesting in relation to the measures split by group below"
   ]
  },
  {
   "cell_type": "code",
   "execution_count": 61,
   "id": "c4e067c6",
   "metadata": {
    "execution": {
     "iopub.execute_input": "2025-08-05T16:39:14.871897Z",
     "iopub.status.busy": "2025-08-05T16:39:14.871421Z",
     "iopub.status.idle": "2025-08-05T16:39:14.880528Z",
     "shell.execute_reply": "2025-08-05T16:39:14.879466Z"
    },
    "papermill": {
     "duration": 0.035356,
     "end_time": "2025-08-05T16:39:14.882342",
     "exception": false,
     "start_time": "2025-08-05T16:39:14.846986",
     "status": "completed"
    },
    "tags": []
   },
   "outputs": [
    {
     "data": {
      "text/plain": [
       "accuracy                   0.214369\n",
       "balanced accuracy          0.526257\n",
       "f1                         0.235975\n",
       "precision                  0.134805\n",
       "false positive rate        0.893264\n",
       "false negative rate        0.054223\n",
       "selection rate             0.900000\n",
       "count                  89710.000000\n",
       "dtype: float64"
      ]
     },
     "execution_count": 61,
     "metadata": {},
     "output_type": "execute_result"
    }
   ],
   "source": [
    "metric_frame.overall"
   ]
  },
  {
   "cell_type": "markdown",
   "id": "e968fe9d",
   "metadata": {
    "papermill": {
     "duration": 0.023854,
     "end_time": "2025-08-05T16:39:14.930741",
     "exception": false,
     "start_time": "2025-08-05T16:39:14.906887",
     "status": "completed"
    },
    "tags": []
   },
   "source": [
    "By Group"
   ]
  },
  {
   "cell_type": "code",
   "execution_count": 62,
   "id": "ec325bce",
   "metadata": {
    "execution": {
     "iopub.execute_input": "2025-08-05T16:39:14.981480Z",
     "iopub.status.busy": "2025-08-05T16:39:14.980955Z",
     "iopub.status.idle": "2025-08-05T16:39:14.998744Z",
     "shell.execute_reply": "2025-08-05T16:39:14.997690Z"
    },
    "papermill": {
     "duration": 0.044778,
     "end_time": "2025-08-05T16:39:15.000462",
     "exception": false,
     "start_time": "2025-08-05T16:39:14.955684",
     "status": "completed"
    },
    "tags": []
   },
   "outputs": [
    {
     "data": {
      "text/html": [
       "<div>\n",
       "<style scoped>\n",
       "    .dataframe tbody tr th:only-of-type {\n",
       "        vertical-align: middle;\n",
       "    }\n",
       "\n",
       "    .dataframe tbody tr th {\n",
       "        vertical-align: top;\n",
       "    }\n",
       "\n",
       "    .dataframe thead th {\n",
       "        text-align: right;\n",
       "    }\n",
       "</style>\n",
       "<table border=\"1\" class=\"dataframe\">\n",
       "  <thead>\n",
       "    <tr style=\"text-align: right;\">\n",
       "      <th></th>\n",
       "      <th>accuracy</th>\n",
       "      <th>balanced accuracy</th>\n",
       "      <th>f1</th>\n",
       "      <th>precision</th>\n",
       "      <th>false positive rate</th>\n",
       "      <th>false negative rate</th>\n",
       "      <th>selection rate</th>\n",
       "      <th>count</th>\n",
       "    </tr>\n",
       "    <tr>\n",
       "      <th>majmin</th>\n",
       "      <th></th>\n",
       "      <th></th>\n",
       "      <th></th>\n",
       "      <th></th>\n",
       "      <th></th>\n",
       "      <th></th>\n",
       "      <th></th>\n",
       "      <th></th>\n",
       "    </tr>\n",
       "  </thead>\n",
       "  <tbody>\n",
       "    <tr>\n",
       "      <th>majority</th>\n",
       "      <td>0.235897</td>\n",
       "      <td>0.532556</td>\n",
       "      <td>0.244515</td>\n",
       "      <td>0.140630</td>\n",
       "      <td>0.870665</td>\n",
       "      <td>0.064223</td>\n",
       "      <td>0.879268</td>\n",
       "      <td>69170.0</td>\n",
       "    </tr>\n",
       "    <tr>\n",
       "      <th>minority</th>\n",
       "      <td>0.141870</td>\n",
       "      <td>0.508229</td>\n",
       "      <td>0.209171</td>\n",
       "      <td>0.117018</td>\n",
       "      <td>0.967918</td>\n",
       "      <td>0.015625</td>\n",
       "      <td>0.969815</td>\n",
       "      <td>20540.0</td>\n",
       "    </tr>\n",
       "  </tbody>\n",
       "</table>\n",
       "</div>"
      ],
      "text/plain": [
       "          accuracy  balanced accuracy        f1  precision  \\\n",
       "majmin                                                       \n",
       "majority  0.235897           0.532556  0.244515   0.140630   \n",
       "minority  0.141870           0.508229  0.209171   0.117018   \n",
       "\n",
       "          false positive rate  false negative rate  selection rate    count  \n",
       "majmin                                                                       \n",
       "majority             0.870665             0.064223        0.879268  69170.0  \n",
       "minority             0.967918             0.015625        0.969815  20540.0  "
      ]
     },
     "execution_count": 62,
     "metadata": {},
     "output_type": "execute_result"
    }
   ],
   "source": [
    "metric_frame.by_group"
   ]
  },
  {
   "cell_type": "code",
   "execution_count": 63,
   "id": "a9ddbe63",
   "metadata": {
    "execution": {
     "iopub.execute_input": "2025-08-05T16:39:15.049980Z",
     "iopub.status.busy": "2025-08-05T16:39:15.049666Z",
     "iopub.status.idle": "2025-08-05T16:39:17.402025Z",
     "shell.execute_reply": "2025-08-05T16:39:17.401014Z"
    },
    "papermill": {
     "duration": 2.378957,
     "end_time": "2025-08-05T16:39:17.403872",
     "exception": false,
     "start_time": "2025-08-05T16:39:15.024915",
     "status": "completed"
    },
    "tags": []
   },
   "outputs": [
    {
     "data": {
      "text/plain": [
       "array([[<Axes: title={'center': 'accuracy'}, xlabel='majmin'>,\n",
       "        <Axes: title={'center': 'balanced accuracy'}, xlabel='majmin'>,\n",
       "        <Axes: title={'center': 'f1'}, xlabel='majmin'>],\n",
       "       [<Axes: title={'center': 'precision'}, xlabel='majmin'>,\n",
       "        <Axes: title={'center': 'false positive rate'}, xlabel='majmin'>,\n",
       "        <Axes: title={'center': 'false negative rate'}, xlabel='majmin'>],\n",
       "       [<Axes: title={'center': 'selection rate'}, xlabel='majmin'>,\n",
       "        <Axes: title={'center': 'count'}, xlabel='majmin'>,\n",
       "        <Axes: xlabel='majmin'>]], dtype=object)"
      ]
     },
     "execution_count": 63,
     "metadata": {},
     "output_type": "execute_result"
    },
    {
     "data": {
      "image/png": "[encoded data removed]",
      "text/plain": [
       "<Figure size 1200x800 with 9 Axes>"
      ]
     },
     "metadata": {},
     "output_type": "display_data"
    }
   ],
   "source": [
    "# In a graphic\n",
    "metric_frame.by_group.plot.bar(\n",
    "    subplots=True,\n",
    "    layout=[3, 3],\n",
    "    legend=False,\n",
    "    figsize=[12, 8],\n",
    "    title=\"Show all metrics\",\n",
    ")"
   ]
  },
  {
   "cell_type": "markdown",
   "id": "f57a0bac",
   "metadata": {
    "papermill": {
     "duration": 0.022875,
     "end_time": "2025-08-05T16:39:17.453375",
     "exception": false,
     "start_time": "2025-08-05T16:39:17.430500",
     "status": "completed"
    },
    "tags": []
   },
   "source": [
    "# Final Output"
   ]
  },
  {
   "cell_type": "code",
   "execution_count": 64,
   "id": "96d280a3",
   "metadata": {
    "execution": {
     "iopub.execute_input": "2025-08-05T16:39:17.502007Z",
     "iopub.status.busy": "2025-08-05T16:39:17.500896Z",
     "iopub.status.idle": "2025-08-05T16:39:17.509387Z",
     "shell.execute_reply": "2025-08-05T16:39:17.508333Z"
    },
    "papermill": {
     "duration": 0.034524,
     "end_time": "2025-08-05T16:39:17.510849",
     "exception": false,
     "start_time": "2025-08-05T16:39:17.476325",
     "status": "completed"
    },
    "tags": []
   },
   "outputs": [
    {
     "data": {
      "text/plain": [
       "4"
      ]
     },
     "execution_count": 64,
     "metadata": {},
     "output_type": "execute_result"
    }
   ],
   "source": [
    "sub_universes = universe_analysis.generate_sub_universes()\n",
    "len(sub_universes)"
   ]
  },
  {
   "cell_type": "code",
   "execution_count": 65,
   "id": "92adf7ba",
   "metadata": {
    "execution": {
     "iopub.execute_input": "2025-08-05T16:39:17.559568Z",
     "iopub.status.busy": "2025-08-05T16:39:17.558858Z",
     "iopub.status.idle": "2025-08-05T16:39:17.564932Z",
     "shell.execute_reply": "2025-08-05T16:39:17.563706Z"
    },
    "papermill": {
     "duration": 0.032652,
     "end_time": "2025-08-05T16:39:17.566699",
     "exception": false,
     "start_time": "2025-08-05T16:39:17.534047",
     "status": "completed"
    },
    "tags": []
   },
   "outputs": [],
   "source": [
    "def filter_sub_universe_data(sub_universe, org_test):\n",
    "    # Keep all rows — no filtering\n",
    "    keep_rows_mask = np.ones(org_test.shape[0], dtype=bool)\n",
    "\n",
    "    print(f\"[INFO] Keeping all rows: {keep_rows_mask.sum()} rows retained.\")\n",
    "    return keep_rows_mask"
   ]
  },
  {
   "cell_type": "code",
   "execution_count": 66,
   "id": "4a759155",
   "metadata": {
    "execution": {
     "iopub.execute_input": "2025-08-05T16:39:17.627349Z",
     "iopub.status.busy": "2025-08-05T16:39:17.626506Z",
     "iopub.status.idle": "2025-08-05T16:39:25.982481Z",
     "shell.execute_reply": "2025-08-05T16:39:25.981723Z"
    },
    "papermill": {
     "duration": 8.389751,
     "end_time": "2025-08-05T16:39:25.983797",
     "exception": false,
     "start_time": "2025-08-05T16:39:17.594046",
     "status": "completed"
    },
    "tags": []
   },
   "outputs": [
    {
     "name": "stdout",
     "output_type": "stream",
     "text": [
      "Stopping execution_time clock.\n",
      "[INFO] Keeping all rows: 89710 rows retained.\n"
     ]
    },
    {
     "name": "stdout",
     "output_type": "stream",
     "text": [
      "[INFO] Keeping all rows: 89710 rows retained.\n"
     ]
    },
    {
     "name": "stdout",
     "output_type": "stream",
     "text": [
      "[INFO] Keeping all rows: 89710 rows retained.\n"
     ]
    },
    {
     "name": "stdout",
     "output_type": "stream",
     "text": [
      "[INFO] Keeping all rows: 89710 rows retained.\n"
     ]
    },
    {
     "data": {
      "text/html": [
       "<div>\n",
       "<style scoped>\n",
       "    .dataframe tbody tr th:only-of-type {\n",
       "        vertical-align: middle;\n",
       "    }\n",
       "\n",
       "    .dataframe tbody tr th {\n",
       "        vertical-align: top;\n",
       "    }\n",
       "\n",
       "    .dataframe thead th {\n",
       "        text-align: right;\n",
       "    }\n",
       "</style>\n",
       "<table border=\"1\" class=\"dataframe\">\n",
       "  <thead>\n",
       "    <tr style=\"text-align: right;\">\n",
       "      <th></th>\n",
       "      <th>run_no</th>\n",
       "      <th>universe_id</th>\n",
       "      <th>universe_settings</th>\n",
       "      <th>execution_time</th>\n",
       "      <th>test_size_n</th>\n",
       "      <th>test_size_frac</th>\n",
       "      <th>fair_main_equalized_odds_difference</th>\n",
       "      <th>fair_main_equalized_odds_ratio</th>\n",
       "      <th>fair_main_demographic_parity_difference</th>\n",
       "      <th>fair_main_demographic_parity_ratio</th>\n",
       "      <th>...</th>\n",
       "      <th>perf_grp_precision_0</th>\n",
       "      <th>perf_grp_precision_1</th>\n",
       "      <th>perf_grp_false positive rate_0</th>\n",
       "      <th>perf_grp_false positive rate_1</th>\n",
       "      <th>perf_grp_false negative rate_0</th>\n",
       "      <th>perf_grp_false negative rate_1</th>\n",
       "      <th>perf_grp_selection rate_0</th>\n",
       "      <th>perf_grp_selection rate_1</th>\n",
       "      <th>perf_grp_count_0</th>\n",
       "      <th>perf_grp_count_1</th>\n",
       "    </tr>\n",
       "  </thead>\n",
       "  <tbody>\n",
       "    <tr>\n",
       "      <th>0</th>\n",
       "      <td>15</td>\n",
       "      <td>cf09258a9c45c6280b5a84b6b277d4ec</td>\n",
       "      <td>{\"cutoff\": \"quantile_0.1\", \"eval_fairness_grou...</td>\n",
       "      <td>25.13665</td>\n",
       "      <td>89710</td>\n",
       "      <td>1.0</td>\n",
       "      <td>0.097253</td>\n",
       "      <td>0.899523</td>\n",
       "      <td>0.090547</td>\n",
       "      <td>0.906635</td>\n",
       "      <td>...</td>\n",
       "      <td>NaN</td>\n",
       "      <td>NaN</td>\n",
       "      <td>NaN</td>\n",
       "      <td>NaN</td>\n",
       "      <td>NaN</td>\n",
       "      <td>NaN</td>\n",
       "      <td>NaN</td>\n",
       "      <td>NaN</td>\n",
       "      <td>NaN</td>\n",
       "      <td>NaN</td>\n",
       "    </tr>\n",
       "    <tr>\n",
       "      <th>0</th>\n",
       "      <td>15</td>\n",
       "      <td>cf09258a9c45c6280b5a84b6b277d4ec</td>\n",
       "      <td>{\"cutoff\": \"quantile_0.1\", \"eval_fairness_grou...</td>\n",
       "      <td>25.13665</td>\n",
       "      <td>89710</td>\n",
       "      <td>1.0</td>\n",
       "      <td>0.097253</td>\n",
       "      <td>0.899523</td>\n",
       "      <td>0.090547</td>\n",
       "      <td>0.906635</td>\n",
       "      <td>...</td>\n",
       "      <td>0.117018</td>\n",
       "      <td>0.140630</td>\n",
       "      <td>0.967918</td>\n",
       "      <td>0.870665</td>\n",
       "      <td>0.015625</td>\n",
       "      <td>0.064223</td>\n",
       "      <td>0.969815</td>\n",
       "      <td>0.879268</td>\n",
       "      <td>20540.0</td>\n",
       "      <td>69170.0</td>\n",
       "    </tr>\n",
       "    <tr>\n",
       "      <th>0</th>\n",
       "      <td>15</td>\n",
       "      <td>cf09258a9c45c6280b5a84b6b277d4ec</td>\n",
       "      <td>{\"cutoff\": \"quantile_0.25\", \"eval_fairness_gro...</td>\n",
       "      <td>25.13665</td>\n",
       "      <td>89710</td>\n",
       "      <td>1.0</td>\n",
       "      <td>0.213765</td>\n",
       "      <td>0.761363</td>\n",
       "      <td>0.197644</td>\n",
       "      <td>0.780977</td>\n",
       "      <td>...</td>\n",
       "      <td>NaN</td>\n",
       "      <td>NaN</td>\n",
       "      <td>NaN</td>\n",
       "      <td>NaN</td>\n",
       "      <td>NaN</td>\n",
       "      <td>NaN</td>\n",
       "      <td>NaN</td>\n",
       "      <td>NaN</td>\n",
       "      <td>NaN</td>\n",
       "      <td>NaN</td>\n",
       "    </tr>\n",
       "    <tr>\n",
       "      <th>0</th>\n",
       "      <td>15</td>\n",
       "      <td>cf09258a9c45c6280b5a84b6b277d4ec</td>\n",
       "      <td>{\"cutoff\": \"quantile_0.25\", \"eval_fairness_gro...</td>\n",
       "      <td>25.13665</td>\n",
       "      <td>89710</td>\n",
       "      <td>1.0</td>\n",
       "      <td>0.213765</td>\n",
       "      <td>0.761363</td>\n",
       "      <td>0.197644</td>\n",
       "      <td>0.780977</td>\n",
       "      <td>...</td>\n",
       "      <td>0.121770</td>\n",
       "      <td>0.160133</td>\n",
       "      <td>0.895774</td>\n",
       "      <td>0.682009</td>\n",
       "      <td>0.046875</td>\n",
       "      <td>0.145952</td>\n",
       "      <td>0.902386</td>\n",
       "      <td>0.704742</td>\n",
       "      <td>20540.0</td>\n",
       "      <td>69170.0</td>\n",
       "    </tr>\n",
       "  </tbody>\n",
       "</table>\n",
       "<p>4 rows × 50 columns</p>\n",
       "</div>"
      ],
      "text/plain": [
       "  run_no                       universe_id  \\\n",
       "0     15  cf09258a9c45c6280b5a84b6b277d4ec   \n",
       "0     15  cf09258a9c45c6280b5a84b6b277d4ec   \n",
       "0     15  cf09258a9c45c6280b5a84b6b277d4ec   \n",
       "0     15  cf09258a9c45c6280b5a84b6b277d4ec   \n",
       "\n",
       "                                   universe_settings  execution_time  \\\n",
       "0  {\"cutoff\": \"quantile_0.1\", \"eval_fairness_grou...        25.13665   \n",
       "0  {\"cutoff\": \"quantile_0.1\", \"eval_fairness_grou...        25.13665   \n",
       "0  {\"cutoff\": \"quantile_0.25\", \"eval_fairness_gro...        25.13665   \n",
       "0  {\"cutoff\": \"quantile_0.25\", \"eval_fairness_gro...        25.13665   \n",
       "\n",
       "   test_size_n  test_size_frac  fair_main_equalized_odds_difference  \\\n",
       "0        89710             1.0                             0.097253   \n",
       "0        89710             1.0                             0.097253   \n",
       "0        89710             1.0                             0.213765   \n",
       "0        89710             1.0                             0.213765   \n",
       "\n",
       "   fair_main_equalized_odds_ratio  fair_main_demographic_parity_difference  \\\n",
       "0                        0.899523                                 0.090547   \n",
       "0                        0.899523                                 0.090547   \n",
       "0                        0.761363                                 0.197644   \n",
       "0                        0.761363                                 0.197644   \n",
       "\n",
       "   fair_main_demographic_parity_ratio  ...  perf_grp_precision_0  \\\n",
       "0                            0.906635  ...                   NaN   \n",
       "0                            0.906635  ...              0.117018   \n",
       "0                            0.780977  ...                   NaN   \n",
       "0                            0.780977  ...              0.121770   \n",
       "\n",
       "   perf_grp_precision_1  perf_grp_false positive rate_0  \\\n",
       "0                   NaN                             NaN   \n",
       "0              0.140630                        0.967918   \n",
       "0                   NaN                             NaN   \n",
       "0              0.160133                        0.895774   \n",
       "\n",
       "   perf_grp_false positive rate_1  perf_grp_false negative rate_0  \\\n",
       "0                             NaN                             NaN   \n",
       "0                        0.870665                        0.015625   \n",
       "0                             NaN                             NaN   \n",
       "0                        0.682009                        0.046875   \n",
       "\n",
       "   perf_grp_false negative rate_1  perf_grp_selection rate_0  \\\n",
       "0                             NaN                        NaN   \n",
       "0                        0.064223                   0.969815   \n",
       "0                             NaN                        NaN   \n",
       "0                        0.145952                   0.902386   \n",
       "\n",
       "   perf_grp_selection rate_1  perf_grp_count_0  perf_grp_count_1  \n",
       "0                        NaN               NaN               NaN  \n",
       "0                   0.879268           20540.0           69170.0  \n",
       "0                        NaN               NaN               NaN  \n",
       "0                   0.704742           20540.0           69170.0  \n",
       "\n",
       "[4 rows x 50 columns]"
      ]
     },
     "execution_count": 66,
     "metadata": {},
     "output_type": "execute_result"
    }
   ],
   "source": [
    "final_output = universe_analysis.generate_final_output(\n",
    "    y_pred_prob=probs_test,\n",
    "    y_test=y_true,\n",
    "    org_test=org_test,\n",
    "    filter_data=filter_sub_universe_data,\n",
    "    cp_metrics_df=cp_metrics_df,\n",
    "    save=True,\n",
    ")\n",
    "final_output"
   ]
  }
 ],
 "metadata": {
  "celltoolbar": "Tags",
  "kernelspec": {
   "display_name": "Python (CMA Fairness)",
   "language": "python",
   "name": "cma_fair_env"
  },
  "language_info": {
   "codemirror_mode": {
    "name": "ipython",
    "version": 3
   },
   "file_extension": ".py",
   "mimetype": "text/x-python",
   "name": "python",
   "nbconvert_exporter": "python",
   "pygments_lexer": "ipython3",
   "version": "3.10.12"
  },
  "papermill": {
   "default_parameters": {},
   "duration": 37.095108,
   "end_time": "2025-08-05T16:39:26.517667",
   "environment_variables": {},
   "exception": null,
   "input_path": "universe_analysis.ipynb",
   "output_path": "output/runs/15/notebooks/m_15-cf09258a9c45c6280b5a84b6b277d4ec.ipynb",
   "parameters": {
    "output_dir": "output",
    "run_no": "15",
    "seed": "2023",
    "universe": "{\"cutoff\": [\"quantile_0.1\", \"quantile_0.25\"], \"eval_fairness_grouping\": [\"majority-minority\", \"nationality-all\"], \"exclude_features\": \"sex\", \"exclude_subgroups\": \"keep-all\", \"model\": \"logreg\", \"scale\": \"do-not-scale\", \"training_size\": \"1k\", \"training_year\": \"2010_14\"}",
    "universe_id": "cf09258a9c45c6280b5a84b6b277d4ec"
   },
   "start_time": "2025-08-05T16:38:49.422559",
   "version": "2.6.0"
  }
 },
 "nbformat": 4,
 "nbformat_minor": 5
}