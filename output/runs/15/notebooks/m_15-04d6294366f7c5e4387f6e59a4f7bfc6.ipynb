{
 "cells": [
  {
   "cell_type": "code",
   "execution_count": 1,
   "id": "f159f837-637b-42ba-96b5-ec9a68c44524",
   "metadata": {
    "execution": {
     "iopub.execute_input": "2025-08-05T15:36:34.689309Z",
     "iopub.status.busy": "2025-08-05T15:36:34.688816Z",
     "iopub.status.idle": "2025-08-05T15:36:34.702904Z",
     "shell.execute_reply": "2025-08-05T15:36:34.701789Z"
    },
    "papermill": {
     "duration": 0.033662,
     "end_time": "2025-08-05T15:36:34.704603",
     "exception": false,
     "start_time": "2025-08-05T15:36:34.670941",
     "status": "completed"
    },
    "tags": []
   },
   "outputs": [
    {
     "name": "stdout",
     "output_type": "stream",
     "text": [
      "/dss/dsshome1/0C/ra93lal2/cma/CMA_Fairness_v2\n"
     ]
    },
    {
     "name": "stderr",
     "output_type": "stream",
     "text": [
      "/dss/dsshome1/0C/ra93lal2/.local/share/virtualenvs/CMA_Fairness_v2-3j10GkSs/lib/python3.10/site-packages/IPython/core/magics/osm.py:393: UserWarning: This is now an optional IPython functionality, using bookmarks requires you to install the `pickleshare` library.\n",
      "  bkms = self.shell.db.get('bookmarks', {})\n",
      "/dss/dsshome1/0C/ra93lal2/.local/share/virtualenvs/CMA_Fairness_v2-3j10GkSs/lib/python3.10/site-packages/IPython/core/magics/osm.py:417: UserWarning: This is now an optional IPython functionality, setting dhist requires you to install the `pickleshare` library.\n",
      "  self.shell.db['dhist'] = compress_dhist(dhist)[-100:]\n"
     ]
    }
   ],
   "source": [
    "%cd ~/cma/CMA_Fairness_v2"
   ]
  },
  {
   "cell_type": "markdown",
   "id": "de2603b9",
   "metadata": {
    "papermill": {
     "duration": 0.017145,
     "end_time": "2025-08-05T15:36:34.739921",
     "exception": false,
     "start_time": "2025-08-05T15:36:34.722776",
     "status": "completed"
    },
    "tags": []
   },
   "source": [
    "The following cell holds the definition of our parameters, these values can be overriden by rendering the with e.g. the following command:\n",
    "\n",
    "papermill -p alpha 0.2 -p ratio 0.3 universe_analysis.ipynb output/test_run.ipynb"
   ]
  },
  {
   "cell_type": "code",
   "execution_count": 2,
   "id": "a80968a0-40bb-4fa9-85ef-2d5eefb01975",
   "metadata": {
    "execution": {
     "iopub.execute_input": "2025-08-05T15:36:34.776363Z",
     "iopub.status.busy": "2025-08-05T15:36:34.775702Z",
     "iopub.status.idle": "2025-08-05T15:36:34.781665Z",
     "shell.execute_reply": "2025-08-05T15:36:34.780670Z"
    },
    "papermill": {
     "duration": 0.026284,
     "end_time": "2025-08-05T15:36:34.783485",
     "exception": false,
     "start_time": "2025-08-05T15:36:34.757201",
     "status": "completed"
    },
    "tags": []
   },
   "outputs": [
    {
     "name": "stdout",
     "output_type": "stream",
     "text": [
      "Current working directory: /dss/dsshome1/0C/ra93lal2/cma/CMA_Fairness_v2\n"
     ]
    }
   ],
   "source": [
    "import os\n",
    "print(\"Current working directory:\", os.getcwd())"
   ]
  },
  {
   "cell_type": "code",
   "execution_count": 3,
   "id": "2dce4c03",
   "metadata": {
    "execution": {
     "iopub.execute_input": "2025-08-05T15:36:34.820956Z",
     "iopub.status.busy": "2025-08-05T15:36:34.820334Z",
     "iopub.status.idle": "2025-08-05T15:36:34.826444Z",
     "shell.execute_reply": "2025-08-05T15:36:34.825312Z"
    },
    "papermill": {
     "duration": 0.026188,
     "end_time": "2025-08-05T15:36:34.828076",
     "exception": false,
     "start_time": "2025-08-05T15:36:34.801888",
     "status": "completed"
    },
    "tags": [
     "parameters"
    ]
   },
   "outputs": [],
   "source": [
    "run_no = 0\n",
    "universe_id = \"test\"\n",
    "universe = {\n",
    "    \"training_size\": \"25k\", # \"25k\", \"5k\", \"1k\"\n",
    "    \"training_year\": \"2014\", # \"2014\", \"2012_14\", \"2010_14\"\n",
    "    \"scale\": \"scale\", # \"scale\", \"do-not-scale\",\n",
    "    \"model\": \"elasticnet\", # \"logreg\", \"penalized_logreg\", \"rf\", \"gbm\", \"elasticnet\"\n",
    "    \"cutoff\": [\"quantile_0.15\", \"quantile_0.30\"],\n",
    "    \"exclude_features\": \"age\", # \"none\", \"nationality\", \"sex\", \"nationality-sex\", \"age\"\n",
    "    \"exclude_subgroups\": \"keep-all\", # \"keep-all\", \"drop-non-german\"\n",
    "    \"eval_fairness_grouping\": [\"majority-minority\", \"nationality-all\"]\n",
    "}\n",
    "\n",
    "output_dir=\"./output\"\n",
    "seed=0"
   ]
  },
  {
   "cell_type": "code",
   "execution_count": 4,
   "id": "d80511a8",
   "metadata": {
    "execution": {
     "iopub.execute_input": "2025-08-05T15:36:34.863081Z",
     "iopub.status.busy": "2025-08-05T15:36:34.862259Z",
     "iopub.status.idle": "2025-08-05T15:36:34.867717Z",
     "shell.execute_reply": "2025-08-05T15:36:34.866766Z"
    },
    "papermill": {
     "duration": 0.025191,
     "end_time": "2025-08-05T15:36:34.869646",
     "exception": false,
     "start_time": "2025-08-05T15:36:34.844455",
     "status": "completed"
    },
    "tags": [
     "injected-parameters"
    ]
   },
   "outputs": [],
   "source": [
    "# Parameters\n",
    "universe_id = \"04d6294366f7c5e4387f6e59a4f7bfc6\"\n",
    "run_no = \"15\"\n",
    "universe = \"{\\\"cutoff\\\": [\\\"quantile_0.1\\\", \\\"quantile_0.25\\\"], \\\"eval_fairness_grouping\\\": [\\\"majority-minority\\\", \\\"nationality-all\\\"], \\\"exclude_features\\\": \\\"nationality\\\", \\\"exclude_subgroups\\\": \\\"drop-non-german\\\", \\\"model\\\": \\\"rf\\\", \\\"scale\\\": \\\"scale\\\", \\\"training_size\\\": \\\"5k\\\", \\\"training_year\\\": \\\"2012_14\\\"}\"\n",
    "output_dir = \"output\"\n",
    "seed = \"2023\"\n"
   ]
  },
  {
   "cell_type": "code",
   "execution_count": 5,
   "id": "1650acaf",
   "metadata": {
    "execution": {
     "iopub.execute_input": "2025-08-05T15:36:34.912473Z",
     "iopub.status.busy": "2025-08-05T15:36:34.911590Z",
     "iopub.status.idle": "2025-08-05T15:36:34.917135Z",
     "shell.execute_reply": "2025-08-05T15:36:34.916172Z"
    },
    "papermill": {
     "duration": 0.030586,
     "end_time": "2025-08-05T15:36:34.919018",
     "exception": false,
     "start_time": "2025-08-05T15:36:34.888432",
     "status": "completed"
    },
    "tags": []
   },
   "outputs": [],
   "source": [
    "import json\n",
    "if isinstance(universe, str):\n",
    "    universe = json.loads(universe)"
   ]
  },
  {
   "cell_type": "code",
   "execution_count": 6,
   "id": "16620c48",
   "metadata": {
    "execution": {
     "iopub.execute_input": "2025-08-05T15:36:34.957300Z",
     "iopub.status.busy": "2025-08-05T15:36:34.956433Z",
     "iopub.status.idle": "2025-08-05T15:36:35.000898Z",
     "shell.execute_reply": "2025-08-05T15:36:34.999977Z"
    },
    "papermill": {
     "duration": 0.065249,
     "end_time": "2025-08-05T15:36:35.002853",
     "exception": false,
     "start_time": "2025-08-05T15:36:34.937604",
     "status": "completed"
    },
    "tags": []
   },
   "outputs": [],
   "source": [
    "# Auto-reload the custom package\n",
    "%load_ext autoreload\n",
    "%autoreload 1\n",
    "%aimport fairness_multiverse"
   ]
  },
  {
   "cell_type": "code",
   "execution_count": 7,
   "id": "01c5c9f3",
   "metadata": {
    "execution": {
     "iopub.execute_input": "2025-08-05T15:36:35.041007Z",
     "iopub.status.busy": "2025-08-05T15:36:35.040379Z",
     "iopub.status.idle": "2025-08-05T15:36:37.028392Z",
     "shell.execute_reply": "2025-08-05T15:36:37.027133Z"
    },
    "papermill": {
     "duration": 2.009098,
     "end_time": "2025-08-05T15:36:37.030451",
     "exception": false,
     "start_time": "2025-08-05T15:36:35.021353",
     "status": "completed"
    },
    "tags": []
   },
   "outputs": [],
   "source": [
    "from fairness_multiverse.universe import UniverseAnalysis\n",
    "\n",
    "universe_analysis = UniverseAnalysis(\n",
    "    run_no = run_no,\n",
    "    universe_id = universe_id,\n",
    "    universe = universe,\n",
    "    output_dir=output_dir,\n",
    ")"
   ]
  },
  {
   "cell_type": "code",
   "execution_count": 8,
   "id": "106241f5",
   "metadata": {
    "execution": {
     "iopub.execute_input": "2025-08-05T15:36:37.068966Z",
     "iopub.status.busy": "2025-08-05T15:36:37.068379Z",
     "iopub.status.idle": "2025-08-05T15:36:37.076293Z",
     "shell.execute_reply": "2025-08-05T15:36:37.074992Z"
    },
    "papermill": {
     "duration": 0.031621,
     "end_time": "2025-08-05T15:36:37.080208",
     "exception": false,
     "start_time": "2025-08-05T15:36:37.048587",
     "status": "completed"
    },
    "tags": []
   },
   "outputs": [
    {
     "name": "stdout",
     "output_type": "stream",
     "text": [
      "Using Seed: 2023\n"
     ]
    }
   ],
   "source": [
    "import numpy as np\n",
    "parsed_seed = int(seed)\n",
    "np.random.seed(parsed_seed)\n",
    "print(f\"Using Seed: {parsed_seed}\")"
   ]
  },
  {
   "cell_type": "markdown",
   "id": "e0ebdc57",
   "metadata": {
    "papermill": {
     "duration": 0.022686,
     "end_time": "2025-08-05T15:36:37.127432",
     "exception": false,
     "start_time": "2025-08-05T15:36:37.104746",
     "status": "completed"
    },
    "tags": []
   },
   "source": [
    "# Loading Data"
   ]
  },
  {
   "cell_type": "code",
   "execution_count": 9,
   "id": "f0496b8a",
   "metadata": {
    "execution": {
     "iopub.execute_input": "2025-08-05T15:36:37.175231Z",
     "iopub.status.busy": "2025-08-05T15:36:37.174503Z",
     "iopub.status.idle": "2025-08-05T15:36:49.307404Z",
     "shell.execute_reply": "2025-08-05T15:36:49.306244Z"
    },
    "papermill": {
     "duration": 12.158901,
     "end_time": "2025-08-05T15:36:49.309117",
     "exception": false,
     "start_time": "2025-08-05T15:36:37.150216",
     "status": "completed"
    },
    "tags": []
   },
   "outputs": [
    {
     "name": "stdout",
     "output_type": "stream",
     "text": [
      "Loading SIAB data from cache: data/siab_cached.csv.gz\n"
     ]
    },
    {
     "name": "stdout",
     "output_type": "stream",
     "text": [
      "(643690, 164)\n"
     ]
    }
   ],
   "source": [
    "from pathlib import Path\n",
    "import pandas as pd\n",
    "\n",
    "# File paths\n",
    "raw_file = Path(\"data/raw/siab.csv\")\n",
    "cache_file = Path(\"data/siab_cached.csv.gz\")\n",
    "\n",
    "# Ensure cache directory exists\n",
    "cache_file.parent.mkdir(parents=True, exist_ok=True)\n",
    "\n",
    "# Load with simple caching\n",
    "if cache_file.exists():\n",
    "    print(f\"Loading SIAB data from cache: {cache_file}\")\n",
    "    siab = pd.read_csv(cache_file, compression='gzip')\n",
    "else:\n",
    "    print(f\"Cache not found. Reading raw SIAB data: {raw_file}\")\n",
    "    siab = pd.read_csv(raw_file)\n",
    "    siab.to_csv(cache_file, index=False, compression='gzip')\n",
    "    print(f\"Cached SIAB data to: {cache_file}\")\n",
    "\n",
    "print(siab.shape)"
   ]
  },
  {
   "cell_type": "code",
   "execution_count": 10,
   "id": "db0ca512-5f53-4dba-abdb-a2888bca41ba",
   "metadata": {
    "execution": {
     "iopub.execute_input": "2025-08-05T15:36:49.351646Z",
     "iopub.status.busy": "2025-08-05T15:36:49.350848Z",
     "iopub.status.idle": "2025-08-05T15:36:49.356941Z",
     "shell.execute_reply": "2025-08-05T15:36:49.355943Z"
    },
    "papermill": {
     "duration": 0.027482,
     "end_time": "2025-08-05T15:36:49.358912",
     "exception": false,
     "start_time": "2025-08-05T15:36:49.331430",
     "status": "completed"
    },
    "tags": []
   },
   "outputs": [],
   "source": [
    "#siab"
   ]
  },
  {
   "cell_type": "markdown",
   "id": "997051c5-15bd-4b69-9786-c3001a3ce484",
   "metadata": {
    "papermill": {
     "duration": 0.018227,
     "end_time": "2025-08-05T15:36:49.396319",
     "exception": false,
     "start_time": "2025-08-05T15:36:49.378092",
     "status": "completed"
    },
    "tags": []
   },
   "source": [
    "# Splitting Data and Setting Training Data Size"
   ]
  },
  {
   "cell_type": "code",
   "execution_count": 11,
   "id": "aea9c6ef-6f46-42c8-85eb-5a62025c1508",
   "metadata": {
    "execution": {
     "iopub.execute_input": "2025-08-05T15:36:49.434885Z",
     "iopub.status.busy": "2025-08-05T15:36:49.434482Z",
     "iopub.status.idle": "2025-08-05T15:36:49.996188Z",
     "shell.execute_reply": "2025-08-05T15:36:49.995119Z"
    },
    "papermill": {
     "duration": 0.583169,
     "end_time": "2025-08-05T15:36:49.998275",
     "exception": false,
     "start_time": "2025-08-05T15:36:49.415106",
     "status": "completed"
    },
    "tags": []
   },
   "outputs": [],
   "source": [
    "from fairness_multiverse.universe import sample_by_year_size\n",
    "\n",
    "siab_train = sample_by_year_size(siab,\n",
    "                               training_year=universe[\"training_year\"],\n",
    "                               training_size=universe[\"training_size\"])"
   ]
  },
  {
   "cell_type": "code",
   "execution_count": 12,
   "id": "8d3afb32-789d-442c-8d5d-9f5aa8dd2eed",
   "metadata": {
    "execution": {
     "iopub.execute_input": "2025-08-05T15:36:50.040740Z",
     "iopub.status.busy": "2025-08-05T15:36:50.040230Z",
     "iopub.status.idle": "2025-08-05T15:36:50.045495Z",
     "shell.execute_reply": "2025-08-05T15:36:50.044466Z"
    },
    "papermill": {
     "duration": 0.027076,
     "end_time": "2025-08-05T15:36:50.047513",
     "exception": false,
     "start_time": "2025-08-05T15:36:50.020437",
     "status": "completed"
    },
    "tags": []
   },
   "outputs": [],
   "source": [
    "#siab_train.shape"
   ]
  },
  {
   "cell_type": "code",
   "execution_count": 13,
   "id": "d582db68-1a4c-47fb-84fc-08518dc1975a",
   "metadata": {
    "execution": {
     "iopub.execute_input": "2025-08-05T15:36:50.087864Z",
     "iopub.status.busy": "2025-08-05T15:36:50.087441Z",
     "iopub.status.idle": "2025-08-05T15:36:50.092549Z",
     "shell.execute_reply": "2025-08-05T15:36:50.091601Z"
    },
    "papermill": {
     "duration": 0.027172,
     "end_time": "2025-08-05T15:36:50.094369",
     "exception": false,
     "start_time": "2025-08-05T15:36:50.067197",
     "status": "completed"
    },
    "tags": []
   },
   "outputs": [],
   "source": [
    "#display(siab_train.groupby(\"year\").size())"
   ]
  },
  {
   "cell_type": "code",
   "execution_count": 14,
   "id": "a561edb4-d032-42cb-8256-22eac1111c64",
   "metadata": {
    "execution": {
     "iopub.execute_input": "2025-08-05T15:36:50.134898Z",
     "iopub.status.busy": "2025-08-05T15:36:50.134482Z",
     "iopub.status.idle": "2025-08-05T15:36:50.362279Z",
     "shell.execute_reply": "2025-08-05T15:36:50.361320Z"
    },
    "papermill": {
     "duration": 0.250026,
     "end_time": "2025-08-05T15:36:50.364168",
     "exception": false,
     "start_time": "2025-08-05T15:36:50.114142",
     "status": "completed"
    },
    "tags": []
   },
   "outputs": [],
   "source": [
    "#siab_train = siab_s[siab_s.year < 2015]\n",
    "siab_calib = siab[siab.year == 2015]\n",
    "siab_test = siab[siab.year == 2016]"
   ]
  },
  {
   "cell_type": "code",
   "execution_count": 15,
   "id": "472de16f-c3db-4916-846b-1f0de9cf1746",
   "metadata": {
    "execution": {
     "iopub.execute_input": "2025-08-05T15:36:50.403908Z",
     "iopub.status.busy": "2025-08-05T15:36:50.403448Z",
     "iopub.status.idle": "2025-08-05T15:36:50.412030Z",
     "shell.execute_reply": "2025-08-05T15:36:50.411142Z"
    },
    "papermill": {
     "duration": 0.029946,
     "end_time": "2025-08-05T15:36:50.413776",
     "exception": false,
     "start_time": "2025-08-05T15:36:50.383830",
     "status": "completed"
    },
    "tags": []
   },
   "outputs": [],
   "source": [
    "X_train = siab_train.iloc[:,4:164]\n",
    "y_train = siab_train.iloc[:, [3]]"
   ]
  },
  {
   "cell_type": "code",
   "execution_count": 16,
   "id": "828c96af-f43a-4ed6-ba47-8ac73a47d56c",
   "metadata": {
    "execution": {
     "iopub.execute_input": "2025-08-05T15:36:50.455220Z",
     "iopub.status.busy": "2025-08-05T15:36:50.454808Z",
     "iopub.status.idle": "2025-08-05T15:36:50.506695Z",
     "shell.execute_reply": "2025-08-05T15:36:50.505486Z"
    },
    "papermill": {
     "duration": 0.074909,
     "end_time": "2025-08-05T15:36:50.508619",
     "exception": false,
     "start_time": "2025-08-05T15:36:50.433710",
     "status": "completed"
    },
    "tags": []
   },
   "outputs": [],
   "source": [
    "X_calib = siab_calib.iloc[:,4:164]\n",
    "y_calib = siab_calib.iloc[:, [3]]"
   ]
  },
  {
   "cell_type": "code",
   "execution_count": 17,
   "id": "c34be9c3-6bd6-476e-acd3-845840e303be",
   "metadata": {
    "execution": {
     "iopub.execute_input": "2025-08-05T15:36:50.546572Z",
     "iopub.status.busy": "2025-08-05T15:36:50.545669Z",
     "iopub.status.idle": "2025-08-05T15:36:50.598420Z",
     "shell.execute_reply": "2025-08-05T15:36:50.597265Z"
    },
    "papermill": {
     "duration": 0.073385,
     "end_time": "2025-08-05T15:36:50.600843",
     "exception": false,
     "start_time": "2025-08-05T15:36:50.527458",
     "status": "completed"
    },
    "tags": []
   },
   "outputs": [],
   "source": [
    "X_test = siab_test.iloc[:,4:164]\n",
    "y_true = siab_test.iloc[:, [3]]"
   ]
  },
  {
   "cell_type": "code",
   "execution_count": 18,
   "id": "e6c733c5",
   "metadata": {
    "execution": {
     "iopub.execute_input": "2025-08-05T15:36:50.641142Z",
     "iopub.status.busy": "2025-08-05T15:36:50.640420Z",
     "iopub.status.idle": "2025-08-05T15:36:50.731439Z",
     "shell.execute_reply": "2025-08-05T15:36:50.730480Z"
    },
    "papermill": {
     "duration": 0.112347,
     "end_time": "2025-08-05T15:36:50.733329",
     "exception": false,
     "start_time": "2025-08-05T15:36:50.620982",
     "status": "completed"
    },
    "tags": []
   },
   "outputs": [],
   "source": [
    "# Auxiliary data needed downstream in the pipeline\n",
    "\n",
    "org_train = X_train.copy()\n",
    "org_test = X_test.copy()\n",
    "org_calib = X_calib.copy()"
   ]
  },
  {
   "cell_type": "markdown",
   "id": "0a4a1b33",
   "metadata": {
    "papermill": {
     "duration": 0.01833,
     "end_time": "2025-08-05T15:36:50.774277",
     "exception": false,
     "start_time": "2025-08-05T15:36:50.755947",
     "status": "completed"
    },
    "tags": []
   },
   "source": [
    "# Preprocessing Data"
   ]
  },
  {
   "cell_type": "code",
   "execution_count": 19,
   "id": "ca879031",
   "metadata": {
    "execution": {
     "iopub.execute_input": "2025-08-05T15:36:50.806759Z",
     "iopub.status.busy": "2025-08-05T15:36:50.806216Z",
     "iopub.status.idle": "2025-08-05T15:36:50.812215Z",
     "shell.execute_reply": "2025-08-05T15:36:50.811436Z"
    },
    "papermill": {
     "duration": 0.020269,
     "end_time": "2025-08-05T15:36:50.813693",
     "exception": false,
     "start_time": "2025-08-05T15:36:50.793424",
     "status": "completed"
    },
    "tags": []
   },
   "outputs": [],
   "source": [
    "# EXCLUDE PROTECTED FEATURES\n",
    "# ----------------------\n",
    "# \"exclude_features\": \"none\", # \"nationality\", \"sex\", \"nationality-sex\"\n",
    "\n",
    "excluded_features = universe[\"exclude_features\"].split(\"-\") # split, e.g.: \"nationality-sex\" -> [\"nationality\", \"sex\"]\n",
    "excluded_features_dictionary = {\n",
    "    \"nationality\": [\"maxdeutsch1\", \"maxdeutsch.Missing.\"],\n",
    "    \"sex\": [\"frau1\"],\n",
    "    \"age\": [\"age\"],\n",
    "}"
   ]
  },
  {
   "cell_type": "code",
   "execution_count": 20,
   "id": "b745ac60",
   "metadata": {
    "execution": {
     "iopub.execute_input": "2025-08-05T15:36:50.833488Z",
     "iopub.status.busy": "2025-08-05T15:36:50.832996Z",
     "iopub.status.idle": "2025-08-05T15:36:50.837540Z",
     "shell.execute_reply": "2025-08-05T15:36:50.836823Z"
    },
    "papermill": {
     "duration": 0.015647,
     "end_time": "2025-08-05T15:36:50.839039",
     "exception": false,
     "start_time": "2025-08-05T15:36:50.823392",
     "status": "completed"
    },
    "tags": []
   },
   "outputs": [],
   "source": [
    "# Code nice names to column names\n",
    "\n",
    "excluded_features_columns = [\n",
    "    excluded_features_dictionary[f] for f in excluded_features if len(f) > 0 and f != \"none\"\n",
    "]"
   ]
  },
  {
   "cell_type": "code",
   "execution_count": 21,
   "id": "f84f73a2",
   "metadata": {
    "execution": {
     "iopub.execute_input": "2025-08-05T15:36:50.863558Z",
     "iopub.status.busy": "2025-08-05T15:36:50.863021Z",
     "iopub.status.idle": "2025-08-05T15:36:50.868119Z",
     "shell.execute_reply": "2025-08-05T15:36:50.867464Z"
    },
    "papermill": {
     "duration": 0.020837,
     "end_time": "2025-08-05T15:36:50.869633",
     "exception": false,
     "start_time": "2025-08-05T15:36:50.848796",
     "status": "completed"
    },
    "tags": []
   },
   "outputs": [],
   "source": [
    "from utils import flatten_once\n",
    "\n",
    "excluded_features_columns = flatten_once(excluded_features_columns)"
   ]
  },
  {
   "cell_type": "code",
   "execution_count": 22,
   "id": "884dea22",
   "metadata": {
    "execution": {
     "iopub.execute_input": "2025-08-05T15:36:50.889734Z",
     "iopub.status.busy": "2025-08-05T15:36:50.889252Z",
     "iopub.status.idle": "2025-08-05T15:36:50.898071Z",
     "shell.execute_reply": "2025-08-05T15:36:50.897130Z"
    },
    "papermill": {
     "duration": 0.019999,
     "end_time": "2025-08-05T15:36:50.899508",
     "exception": false,
     "start_time": "2025-08-05T15:36:50.879509",
     "status": "completed"
    },
    "tags": []
   },
   "outputs": [
    {
     "name": "stdout",
     "output_type": "stream",
     "text": [
      "Dropping features: ['maxdeutsch1', 'maxdeutsch.Missing.']\n"
     ]
    }
   ],
   "source": [
    "if len(excluded_features_columns) > 0:\n",
    "    print(f\"Dropping features: {excluded_features_columns}\")\n",
    "    X_train.drop(excluded_features_columns, axis=1, inplace=True)"
   ]
  },
  {
   "cell_type": "code",
   "execution_count": 23,
   "id": "95ab8b16",
   "metadata": {
    "execution": {
     "iopub.execute_input": "2025-08-05T15:36:50.931462Z",
     "iopub.status.busy": "2025-08-05T15:36:50.930998Z",
     "iopub.status.idle": "2025-08-05T15:36:50.982103Z",
     "shell.execute_reply": "2025-08-05T15:36:50.981170Z"
    },
    "papermill": {
     "duration": 0.072275,
     "end_time": "2025-08-05T15:36:50.983615",
     "exception": false,
     "start_time": "2025-08-05T15:36:50.911340",
     "status": "completed"
    },
    "tags": []
   },
   "outputs": [
    {
     "name": "stdout",
     "output_type": "stream",
     "text": [
      "Dropping features: ['maxdeutsch1', 'maxdeutsch.Missing.']\n"
     ]
    }
   ],
   "source": [
    "if len(excluded_features_columns) > 0:\n",
    "    print(f\"Dropping features: {excluded_features_columns}\")\n",
    "    X_test.drop(excluded_features_columns, axis=1, inplace=True)"
   ]
  },
  {
   "cell_type": "code",
   "execution_count": 24,
   "id": "1853aaf5-fb9f-46cb-a2b5-8ea4ae2237e4",
   "metadata": {
    "execution": {
     "iopub.execute_input": "2025-08-05T15:36:51.004480Z",
     "iopub.status.busy": "2025-08-05T15:36:51.004130Z",
     "iopub.status.idle": "2025-08-05T15:36:51.055460Z",
     "shell.execute_reply": "2025-08-05T15:36:51.054401Z"
    },
    "papermill": {
     "duration": 0.063203,
     "end_time": "2025-08-05T15:36:51.057333",
     "exception": false,
     "start_time": "2025-08-05T15:36:50.994130",
     "status": "completed"
    },
    "tags": []
   },
   "outputs": [
    {
     "name": "stdout",
     "output_type": "stream",
     "text": [
      "Dropping features: ['maxdeutsch1', 'maxdeutsch.Missing.']\n"
     ]
    }
   ],
   "source": [
    "if len(excluded_features_columns) > 0:\n",
    "    print(f\"Dropping features: {excluded_features_columns}\")\n",
    "    X_calib.drop(excluded_features_columns, axis=1, inplace=True)"
   ]
  },
  {
   "cell_type": "code",
   "execution_count": 25,
   "id": "76c4dc6d",
   "metadata": {
    "execution": {
     "iopub.execute_input": "2025-08-05T15:36:51.090688Z",
     "iopub.status.busy": "2025-08-05T15:36:51.090241Z",
     "iopub.status.idle": "2025-08-05T15:36:51.094494Z",
     "shell.execute_reply": "2025-08-05T15:36:51.093847Z"
    },
    "papermill": {
     "duration": 0.018912,
     "end_time": "2025-08-05T15:36:51.095871",
     "exception": false,
     "start_time": "2025-08-05T15:36:51.076959",
     "status": "completed"
    },
    "tags": []
   },
   "outputs": [],
   "source": [
    "# EXCLUDE CERTAIN SUBGROUPS\n",
    "# ----------------------\n",
    "\n",
    "mode = universe.get(\"exclude_subgroups\", \"keep-all\") \n",
    "# Fetches the exclude_subgroups setting from the universe dict.\n",
    "# Defaults to \"keep-all\" if the key is missing."
   ]
  },
  {
   "cell_type": "code",
   "execution_count": 26,
   "id": "21994072",
   "metadata": {
    "execution": {
     "iopub.execute_input": "2025-08-05T15:36:51.117904Z",
     "iopub.status.busy": "2025-08-05T15:36:51.117345Z",
     "iopub.status.idle": "2025-08-05T15:36:51.125100Z",
     "shell.execute_reply": "2025-08-05T15:36:51.124360Z"
    },
    "papermill": {
     "duration": 0.020545,
     "end_time": "2025-08-05T15:36:51.126534",
     "exception": false,
     "start_time": "2025-08-05T15:36:51.105989",
     "status": "completed"
    },
    "tags": []
   },
   "outputs": [],
   "source": [
    "if mode == \"keep-all\":\n",
    "    keep_mask = pd.Series(True, index=org_train.index)\n",
    "\n",
    "# org_train contains the original feature columns from features_org (in Simson)\n",
    "# features_org contains unprocessed features, for me X_train at beginning ???\n",
    "# For keep-all, creates a boolean Series (keep_mask) of all True, so no rows are removed.\n",
    "\n",
    "elif mode == \"drop-non-german\":\n",
    "    keep_mask = org_train[\"maxdeutsch1\"] == 1 # ??? what about missing values?\n",
    "\n",
    "else:\n",
    "    raise ValueError(f\"Unsupported mode for exclude_subgroups: {mode}\")"
   ]
  },
  {
   "cell_type": "code",
   "execution_count": 27,
   "id": "71651440",
   "metadata": {
    "execution": {
     "iopub.execute_input": "2025-08-05T15:36:51.147410Z",
     "iopub.status.busy": "2025-08-05T15:36:51.147095Z",
     "iopub.status.idle": "2025-08-05T15:36:51.152874Z",
     "shell.execute_reply": "2025-08-05T15:36:51.152137Z"
    },
    "papermill": {
     "duration": 0.017487,
     "end_time": "2025-08-05T15:36:51.154308",
     "exception": false,
     "start_time": "2025-08-05T15:36:51.136821",
     "status": "completed"
    },
    "tags": []
   },
   "outputs": [
    {
     "name": "stdout",
     "output_type": "stream",
     "text": [
      "Dropping 665 rows (13.30%) where mode='drop-non-german'\n"
     ]
    }
   ],
   "source": [
    "n_drop = (~keep_mask).sum() # Calculates how many rows are set to be dropped\n",
    "if n_drop > 0:\n",
    "    pct = n_drop / len(keep_mask) * 100\n",
    "    print(f\"Dropping {n_drop} rows ({pct:.2f}%) where mode='{mode}'\")"
   ]
  },
  {
   "cell_type": "code",
   "execution_count": 28,
   "id": "5fb8eee5",
   "metadata": {
    "execution": {
     "iopub.execute_input": "2025-08-05T15:36:51.175384Z",
     "iopub.status.busy": "2025-08-05T15:36:51.174809Z",
     "iopub.status.idle": "2025-08-05T15:36:51.180976Z",
     "shell.execute_reply": "2025-08-05T15:36:51.180189Z"
    },
    "papermill": {
     "duration": 0.017771,
     "end_time": "2025-08-05T15:36:51.182274",
     "exception": false,
     "start_time": "2025-08-05T15:36:51.164503",
     "status": "completed"
    },
    "tags": []
   },
   "outputs": [],
   "source": [
    "X_train = X_train[keep_mask]"
   ]
  },
  {
   "cell_type": "code",
   "execution_count": 29,
   "id": "b202bb3a",
   "metadata": {
    "execution": {
     "iopub.execute_input": "2025-08-05T15:36:51.203210Z",
     "iopub.status.busy": "2025-08-05T15:36:51.202620Z",
     "iopub.status.idle": "2025-08-05T15:36:51.207359Z",
     "shell.execute_reply": "2025-08-05T15:36:51.206573Z"
    },
    "papermill": {
     "duration": 0.016124,
     "end_time": "2025-08-05T15:36:51.208671",
     "exception": false,
     "start_time": "2025-08-05T15:36:51.192547",
     "status": "completed"
    },
    "tags": []
   },
   "outputs": [],
   "source": [
    "y_train = y_train[keep_mask]"
   ]
  },
  {
   "cell_type": "markdown",
   "id": "493e2ac3",
   "metadata": {
    "papermill": {
     "duration": 0.009459,
     "end_time": "2025-08-05T15:36:51.228354",
     "exception": false,
     "start_time": "2025-08-05T15:36:51.218895",
     "status": "completed"
    },
    "tags": []
   },
   "source": [
    "# Model Training"
   ]
  },
  {
   "cell_type": "code",
   "execution_count": 30,
   "id": "679e1268",
   "metadata": {
    "execution": {
     "iopub.execute_input": "2025-08-05T15:36:51.248748Z",
     "iopub.status.busy": "2025-08-05T15:36:51.248080Z",
     "iopub.status.idle": "2025-08-05T15:36:51.320149Z",
     "shell.execute_reply": "2025-08-05T15:36:51.319392Z"
    },
    "papermill": {
     "duration": 0.083812,
     "end_time": "2025-08-05T15:36:51.321631",
     "exception": false,
     "start_time": "2025-08-05T15:36:51.237819",
     "status": "completed"
    },
    "tags": []
   },
   "outputs": [],
   "source": [
    "from sklearn.linear_model import LogisticRegression\n",
    "from sklearn.ensemble import GradientBoostingClassifier, RandomForestClassifier\n",
    "\n",
    "if (universe[\"model\"] == \"logreg\"):\n",
    "    model = LogisticRegression() #penalty=\"none\", solver=\"newton-cg\", max_iter=1) # include random_state=19 ?\n",
    "elif (universe[\"model\"] == \"penalized_logreg\"):\n",
    "    model = LogisticRegression(penalty=\"l2\", C=0.1) #, solver=\"newton-cg\", max_iter=1)\n",
    "elif (universe[\"model\"] == \"rf\"):\n",
    "    model = RandomForestClassifier() # n_estimators=100, n_jobs=-1\n",
    "elif (universe[\"model\"] == \"gbm\"):\n",
    "    model = GradientBoostingClassifier()\n",
    "elif (universe[\"model\"] == \"elasticnet\"):\n",
    "    model = LogisticRegression(penalty = 'elasticnet', solver = 'saga', l1_ratio = 0.5) # max_iter=5000\n",
    "else:\n",
    "    raise \"Unsupported universe.model\""
   ]
  },
  {
   "cell_type": "code",
   "execution_count": 31,
   "id": "0cc8f744",
   "metadata": {
    "execution": {
     "iopub.execute_input": "2025-08-05T15:36:51.342749Z",
     "iopub.status.busy": "2025-08-05T15:36:51.342058Z",
     "iopub.status.idle": "2025-08-05T15:36:51.346856Z",
     "shell.execute_reply": "2025-08-05T15:36:51.346089Z"
    },
    "papermill": {
     "duration": 0.016429,
     "end_time": "2025-08-05T15:36:51.348225",
     "exception": false,
     "start_time": "2025-08-05T15:36:51.331796",
     "status": "completed"
    },
    "tags": []
   },
   "outputs": [],
   "source": [
    "import numpy as np\n",
    "from sklearn.pipeline import Pipeline\n",
    "from sklearn.preprocessing import StandardScaler\n",
    "\n",
    "model = Pipeline([\n",
    "    #(\"continuous_processor\", continuous_processor),\n",
    "    #(\"categorical_preprocessor\", categorical_preprocessor),\n",
    "    (\"scale\", StandardScaler() if universe[\"scale\"] == \"scale\" else None), \n",
    "    (\"model\", model),\n",
    "])"
   ]
  },
  {
   "cell_type": "code",
   "execution_count": 32,
   "id": "9442c04d",
   "metadata": {
    "execution": {
     "iopub.execute_input": "2025-08-05T15:36:51.369850Z",
     "iopub.status.busy": "2025-08-05T15:36:51.369337Z",
     "iopub.status.idle": "2025-08-05T15:36:52.322116Z",
     "shell.execute_reply": "2025-08-05T15:36:52.321150Z"
    },
    "papermill": {
     "duration": 0.965001,
     "end_time": "2025-08-05T15:36:52.324077",
     "exception": false,
     "start_time": "2025-08-05T15:36:51.359076",
     "status": "completed"
    },
    "tags": []
   },
   "outputs": [
    {
     "data": {
      "text/html": [
       "<style>#sk-container-id-1 {color: black;background-color: white;}#sk-container-id-1 pre{padding: 0;}#sk-container-id-1 div.sk-toggleable {background-color: white;}#sk-container-id-1 label.sk-toggleable__label {cursor: pointer;display: block;width: 100%;margin-bottom: 0;padding: 0.3em;box-sizing: border-box;text-align: center;}#sk-container-id-1 label.sk-toggleable__label-arrow:before {content: \"▸\";float: left;margin-right: 0.25em;color: #696969;}#sk-container-id-1 label.sk-toggleable__label-arrow:hover:before {color: black;}#sk-container-id-1 div.sk-estimator:hover label.sk-toggleable__label-arrow:before {color: black;}#sk-container-id-1 div.sk-toggleable__content {max-height: 0;max-width: 0;overflow: hidden;text-align: left;background-color: #f0f8ff;}#sk-container-id-1 div.sk-toggleable__content pre {margin: 0.2em;color: black;border-radius: 0.25em;background-color: #f0f8ff;}#sk-container-id-1 input.sk-toggleable__control:checked~div.sk-toggleable__content {max-height: 200px;max-width: 100%;overflow: auto;}#sk-container-id-1 input.sk-toggleable__control:checked~label.sk-toggleable__label-arrow:before {content: \"▾\";}#sk-container-id-1 div.sk-estimator input.sk-toggleable__control:checked~label.sk-toggleable__label {background-color: #d4ebff;}#sk-container-id-1 div.sk-label input.sk-toggleable__control:checked~label.sk-toggleable__label {background-color: #d4ebff;}#sk-container-id-1 input.sk-hidden--visually {border: 0;clip: rect(1px 1px 1px 1px);clip: rect(1px, 1px, 1px, 1px);height: 1px;margin: -1px;overflow: hidden;padding: 0;position: absolute;width: 1px;}#sk-container-id-1 div.sk-estimator {font-family: monospace;background-color: #f0f8ff;border: 1px dotted black;border-radius: 0.25em;box-sizing: border-box;margin-bottom: 0.5em;}#sk-container-id-1 div.sk-estimator:hover {background-color: #d4ebff;}#sk-container-id-1 div.sk-parallel-item::after {content: \"\";width: 100%;border-bottom: 1px solid gray;flex-grow: 1;}#sk-container-id-1 div.sk-label:hover label.sk-toggleable__label {background-color: #d4ebff;}#sk-container-id-1 div.sk-serial::before {content: \"\";position: absolute;border-left: 1px solid gray;box-sizing: border-box;top: 0;bottom: 0;left: 50%;z-index: 0;}#sk-container-id-1 div.sk-serial {display: flex;flex-direction: column;align-items: center;background-color: white;padding-right: 0.2em;padding-left: 0.2em;position: relative;}#sk-container-id-1 div.sk-item {position: relative;z-index: 1;}#sk-container-id-1 div.sk-parallel {display: flex;align-items: stretch;justify-content: center;background-color: white;position: relative;}#sk-container-id-1 div.sk-item::before, #sk-container-id-1 div.sk-parallel-item::before {content: \"\";position: absolute;border-left: 1px solid gray;box-sizing: border-box;top: 0;bottom: 0;left: 50%;z-index: -1;}#sk-container-id-1 div.sk-parallel-item {display: flex;flex-direction: column;z-index: 1;position: relative;background-color: white;}#sk-container-id-1 div.sk-parallel-item:first-child::after {align-self: flex-end;width: 50%;}#sk-container-id-1 div.sk-parallel-item:last-child::after {align-self: flex-start;width: 50%;}#sk-container-id-1 div.sk-parallel-item:only-child::after {width: 0;}#sk-container-id-1 div.sk-dashed-wrapped {border: 1px dashed gray;margin: 0 0.4em 0.5em 0.4em;box-sizing: border-box;padding-bottom: 0.4em;background-color: white;}#sk-container-id-1 div.sk-label label {font-family: monospace;font-weight: bold;display: inline-block;line-height: 1.2em;}#sk-container-id-1 div.sk-label-container {text-align: center;}#sk-container-id-1 div.sk-container {/* jupyter's `normalize.less` sets `[hidden] { display: none; }` but bootstrap.min.css set `[hidden] { display: none !important; }` so we also need the `!important` here to be able to override the default hidden behavior on the sphinx rendered scikit-learn.org. See: https://github.com/scikit-learn/scikit-learn/issues/21755 */display: inline-block !important;position: relative;}#sk-container-id-1 div.sk-text-repr-fallback {display: none;}</style><div id=\"sk-container-id-1\" class=\"sk-top-container\"><div class=\"sk-text-repr-fallback\"><pre>Pipeline(steps=[(&#x27;scale&#x27;, StandardScaler()),\n",
       "                (&#x27;model&#x27;, RandomForestClassifier())])</pre><b>In a Jupyter environment, please rerun this cell to show the HTML representation or trust the notebook. <br />On GitHub, the HTML representation is unable to render, please try loading this page with nbviewer.org.</b></div><div class=\"sk-container\" hidden><div class=\"sk-item sk-dashed-wrapped\"><div class=\"sk-label-container\"><div class=\"sk-label sk-toggleable\"><input class=\"sk-toggleable__control sk-hidden--visually\" id=\"sk-estimator-id-1\" type=\"checkbox\" ><label for=\"sk-estimator-id-1\" class=\"sk-toggleable__label sk-toggleable__label-arrow\">Pipeline</label><div class=\"sk-toggleable__content\"><pre>Pipeline(steps=[(&#x27;scale&#x27;, StandardScaler()),\n",
       "                (&#x27;model&#x27;, RandomForestClassifier())])</pre></div></div></div><div class=\"sk-serial\"><div class=\"sk-item\"><div class=\"sk-estimator sk-toggleable\"><input class=\"sk-toggleable__control sk-hidden--visually\" id=\"sk-estimator-id-2\" type=\"checkbox\" ><label for=\"sk-estimator-id-2\" class=\"sk-toggleable__label sk-toggleable__label-arrow\">StandardScaler</label><div class=\"sk-toggleable__content\"><pre>StandardScaler()</pre></div></div></div><div class=\"sk-item\"><div class=\"sk-estimator sk-toggleable\"><input class=\"sk-toggleable__control sk-hidden--visually\" id=\"sk-estimator-id-3\" type=\"checkbox\" ><label for=\"sk-estimator-id-3\" class=\"sk-toggleable__label sk-toggleable__label-arrow\">RandomForestClassifier</label><div class=\"sk-toggleable__content\"><pre>RandomForestClassifier()</pre></div></div></div></div></div></div></div>"
      ],
      "text/plain": [
       "Pipeline(steps=[('scale', StandardScaler()),\n",
       "                ('model', RandomForestClassifier())])"
      ]
     },
     "execution_count": 32,
     "metadata": {},
     "output_type": "execute_result"
    }
   ],
   "source": [
    "model.fit(X_train, y_train.values.ravel())"
   ]
  },
  {
   "cell_type": "code",
   "execution_count": 33,
   "id": "af59f8c0",
   "metadata": {
    "execution": {
     "iopub.execute_input": "2025-08-05T15:36:52.364481Z",
     "iopub.status.busy": "2025-08-05T15:36:52.364082Z",
     "iopub.status.idle": "2025-08-05T15:36:52.368091Z",
     "shell.execute_reply": "2025-08-05T15:36:52.367265Z"
    },
    "papermill": {
     "duration": 0.025339,
     "end_time": "2025-08-05T15:36:52.369579",
     "exception": false,
     "start_time": "2025-08-05T15:36:52.344240",
     "status": "completed"
    },
    "tags": []
   },
   "outputs": [],
   "source": [
    "from fairness_multiverse.universe import predict_w_threshold"
   ]
  },
  {
   "cell_type": "code",
   "execution_count": 34,
   "id": "a7cf2e16",
   "metadata": {
    "execution": {
     "iopub.execute_input": "2025-08-05T15:36:52.391064Z",
     "iopub.status.busy": "2025-08-05T15:36:52.390695Z",
     "iopub.status.idle": "2025-08-05T15:36:54.475638Z",
     "shell.execute_reply": "2025-08-05T15:36:54.474591Z"
    },
    "papermill": {
     "duration": 2.097205,
     "end_time": "2025-08-05T15:36:54.477577",
     "exception": false,
     "start_time": "2025-08-05T15:36:52.380372",
     "status": "completed"
    },
    "tags": []
   },
   "outputs": [
    {
     "data": {
      "text/plain": [
       "0.8626128636718314"
      ]
     },
     "execution_count": 34,
     "metadata": {},
     "output_type": "execute_result"
    }
   ],
   "source": [
    "probs_test = model.predict_proba(X_test)\n",
    "\n",
    "'''\n",
    "Below code returns a boolean array (or binary 0/1 array depending on how it’s used) where each element \n",
    "is True if the probability of class 1 is greater than or equal to the threshold, and False otherwise.\n",
    "'''\n",
    "y_pred_default = predict_w_threshold(probs_test, 0.5)\n",
    "\n",
    "from sklearn.metrics import accuracy_score\n",
    "\n",
    "# Naive prediction\n",
    "accuracy_score(y_true = y_true, y_pred = y_pred_default)"
   ]
  },
  {
   "cell_type": "code",
   "execution_count": 35,
   "id": "081964c3",
   "metadata": {
    "execution": {
     "iopub.execute_input": "2025-08-05T15:36:54.522578Z",
     "iopub.status.busy": "2025-08-05T15:36:54.521792Z",
     "iopub.status.idle": "2025-08-05T15:36:56.660809Z",
     "shell.execute_reply": "2025-08-05T15:36:56.659992Z"
    },
    "papermill": {
     "duration": 2.162521,
     "end_time": "2025-08-05T15:36:56.662368",
     "exception": false,
     "start_time": "2025-08-05T15:36:54.499847",
     "status": "completed"
    },
    "tags": []
   },
   "outputs": [
    {
     "data": {
      "text/plain": [
       "array([0, 0, 0, ..., 0, 0, 0])"
      ]
     },
     "execution_count": 35,
     "metadata": {},
     "output_type": "execute_result"
    }
   ],
   "source": [
    "model.predict(X_test)"
   ]
  },
  {
   "cell_type": "markdown",
   "id": "56c9705b",
   "metadata": {
    "papermill": {
     "duration": 0.018724,
     "end_time": "2025-08-05T15:36:56.702985",
     "exception": false,
     "start_time": "2025-08-05T15:36:56.684261",
     "status": "completed"
    },
    "tags": []
   },
   "source": [
    "# Conformal Prediction"
   ]
  },
  {
   "cell_type": "code",
   "execution_count": 36,
   "id": "160ec6ff",
   "metadata": {
    "execution": {
     "iopub.execute_input": "2025-08-05T15:36:56.741690Z",
     "iopub.status.busy": "2025-08-05T15:36:56.740766Z",
     "iopub.status.idle": "2025-08-05T15:36:56.746342Z",
     "shell.execute_reply": "2025-08-05T15:36:56.745340Z"
    },
    "papermill": {
     "duration": 0.027323,
     "end_time": "2025-08-05T15:36:56.748102",
     "exception": false,
     "start_time": "2025-08-05T15:36:56.720779",
     "status": "completed"
    },
    "tags": []
   },
   "outputs": [],
   "source": [
    "# Miscoverage level for conformal prediction (10% allowed error rate => 90% target coverage)\n",
    "alpha = 0.1"
   ]
  },
  {
   "cell_type": "code",
   "execution_count": 37,
   "id": "eadf4555-3dd3-440e-8e35-f82a4ad9f855",
   "metadata": {
    "execution": {
     "iopub.execute_input": "2025-08-05T15:36:56.786762Z",
     "iopub.status.busy": "2025-08-05T15:36:56.785997Z",
     "iopub.status.idle": "2025-08-05T15:36:58.983451Z",
     "shell.execute_reply": "2025-08-05T15:36:58.982434Z"
    },
    "papermill": {
     "duration": 2.218424,
     "end_time": "2025-08-05T15:36:58.985561",
     "exception": false,
     "start_time": "2025-08-05T15:36:56.767137",
     "status": "completed"
    },
    "tags": []
   },
   "outputs": [],
   "source": [
    "probs_calib = model.predict_proba(X_calib)"
   ]
  },
  {
   "cell_type": "code",
   "execution_count": 38,
   "id": "2ed93547-6d5d-4983-9b36-1ecb300da49a",
   "metadata": {
    "execution": {
     "iopub.execute_input": "2025-08-05T15:36:59.026961Z",
     "iopub.status.busy": "2025-08-05T15:36:59.026173Z",
     "iopub.status.idle": "2025-08-05T15:36:59.031483Z",
     "shell.execute_reply": "2025-08-05T15:36:59.030648Z"
    },
    "papermill": {
     "duration": 0.025852,
     "end_time": "2025-08-05T15:36:59.033116",
     "exception": false,
     "start_time": "2025-08-05T15:36:59.007264",
     "status": "completed"
    },
    "tags": []
   },
   "outputs": [],
   "source": [
    "y_calib = y_calib.values.ravel().astype(int)"
   ]
  },
  {
   "cell_type": "code",
   "execution_count": 39,
   "id": "65d1320d-f588-4b38-9072-62af1ae97f7d",
   "metadata": {
    "execution": {
     "iopub.execute_input": "2025-08-05T15:36:59.071983Z",
     "iopub.status.busy": "2025-08-05T15:36:59.071109Z",
     "iopub.status.idle": "2025-08-05T15:36:59.077852Z",
     "shell.execute_reply": "2025-08-05T15:36:59.076876Z"
    },
    "papermill": {
     "duration": 0.027323,
     "end_time": "2025-08-05T15:36:59.079421",
     "exception": false,
     "start_time": "2025-08-05T15:36:59.052098",
     "status": "completed"
    },
    "tags": []
   },
   "outputs": [],
   "source": [
    "from fairness_multiverse.conformal import compute_nc_scores\n",
    "\n",
    "# Compute nonconformity scores on calibration set (1 - probability of true class)\n",
    "nc_scores = compute_nc_scores(probs_calib, y_calib)"
   ]
  },
  {
   "cell_type": "code",
   "execution_count": 40,
   "id": "df3b8ca3-53b7-43d5-9667-7c85da7aeda2",
   "metadata": {
    "execution": {
     "iopub.execute_input": "2025-08-05T15:36:59.119042Z",
     "iopub.status.busy": "2025-08-05T15:36:59.118599Z",
     "iopub.status.idle": "2025-08-05T15:36:59.124959Z",
     "shell.execute_reply": "2025-08-05T15:36:59.123979Z"
    },
    "papermill": {
     "duration": 0.027577,
     "end_time": "2025-08-05T15:36:59.126643",
     "exception": false,
     "start_time": "2025-08-05T15:36:59.099066",
     "status": "completed"
    },
    "tags": []
   },
   "outputs": [],
   "source": [
    "from fairness_multiverse.conformal import find_threshold\n",
    "\n",
    "# Find conformal threshold q_hat for the given alpha (split conformal method)\n",
    "q_hat = find_threshold(nc_scores, alpha)"
   ]
  },
  {
   "cell_type": "code",
   "execution_count": 41,
   "id": "4d29e6c1-0ef6-4aa4-b8fe-4fe79b0d033a",
   "metadata": {
    "execution": {
     "iopub.execute_input": "2025-08-05T15:36:59.165423Z",
     "iopub.status.busy": "2025-08-05T15:36:59.164738Z",
     "iopub.status.idle": "2025-08-05T15:36:59.172011Z",
     "shell.execute_reply": "2025-08-05T15:36:59.171001Z"
    },
    "papermill": {
     "duration": 0.028117,
     "end_time": "2025-08-05T15:36:59.173558",
     "exception": false,
     "start_time": "2025-08-05T15:36:59.145441",
     "status": "completed"
    },
    "tags": []
   },
   "outputs": [
    {
     "data": {
      "text/plain": [
       "0.6699999999999999"
      ]
     },
     "execution_count": 41,
     "metadata": {},
     "output_type": "execute_result"
    }
   ],
   "source": [
    "q_hat"
   ]
  },
  {
   "cell_type": "code",
   "execution_count": 42,
   "id": "92460794-cdac-4be2-ba28-f28c0515a6fb",
   "metadata": {
    "execution": {
     "iopub.execute_input": "2025-08-05T15:36:59.214653Z",
     "iopub.status.busy": "2025-08-05T15:36:59.213761Z",
     "iopub.status.idle": "2025-08-05T15:37:02.438843Z",
     "shell.execute_reply": "2025-08-05T15:37:02.437856Z"
    },
    "papermill": {
     "duration": 3.247454,
     "end_time": "2025-08-05T15:37:02.440701",
     "exception": false,
     "start_time": "2025-08-05T15:36:59.193247",
     "status": "completed"
    },
    "tags": []
   },
   "outputs": [],
   "source": [
    "from fairness_multiverse.conformal import predict_conformal_sets\n",
    "\n",
    "# Generate prediction sets for each test example\n",
    "pred_sets = predict_conformal_sets(model, X_test, q_hat)"
   ]
  },
  {
   "cell_type": "code",
   "execution_count": 43,
   "id": "d90c9a65-e6db-4f5d-80cd-e68fb7e46829",
   "metadata": {
    "execution": {
     "iopub.execute_input": "2025-08-05T15:37:02.481259Z",
     "iopub.status.busy": "2025-08-05T15:37:02.480660Z",
     "iopub.status.idle": "2025-08-05T15:37:02.486964Z",
     "shell.execute_reply": "2025-08-05T15:37:02.485945Z"
    },
    "papermill": {
     "duration": 0.028353,
     "end_time": "2025-08-05T15:37:02.488733",
     "exception": false,
     "start_time": "2025-08-05T15:37:02.460380",
     "status": "completed"
    },
    "tags": []
   },
   "outputs": [],
   "source": [
    "y_true = y_true.squeeze()"
   ]
  },
  {
   "cell_type": "code",
   "execution_count": 44,
   "id": "3a58a54a-1e68-46b9-927a-df01f18aebc8",
   "metadata": {
    "execution": {
     "iopub.execute_input": "2025-08-05T15:37:02.529886Z",
     "iopub.status.busy": "2025-08-05T15:37:02.529161Z",
     "iopub.status.idle": "2025-08-05T15:37:03.432620Z",
     "shell.execute_reply": "2025-08-05T15:37:03.431443Z"
    },
    "papermill": {
     "duration": 0.926229,
     "end_time": "2025-08-05T15:37:03.435059",
     "exception": false,
     "start_time": "2025-08-05T15:37:02.508830",
     "status": "completed"
    },
    "tags": []
   },
   "outputs": [],
   "source": [
    "from fairness_multiverse.conformal import evaluate_sets\n",
    "\n",
    "# Evaluate coverage and average set size on test data\n",
    "metrics = evaluate_sets(pred_sets, y_true)"
   ]
  },
  {
   "cell_type": "markdown",
   "id": "2b569c12-9aaa-4c88-98c9-bbcd0cf3ebb8",
   "metadata": {
    "papermill": {
     "duration": 0.022914,
     "end_time": "2025-08-05T15:37:03.482110",
     "exception": false,
     "start_time": "2025-08-05T15:37:03.459196",
     "status": "completed"
    },
    "tags": []
   },
   "source": [
    "# CP Metrics"
   ]
  },
  {
   "cell_type": "code",
   "execution_count": 45,
   "id": "5ce0a5cb-201f-45a0-ade5-94c7f0bd6095",
   "metadata": {
    "execution": {
     "iopub.execute_input": "2025-08-05T15:37:03.532974Z",
     "iopub.status.busy": "2025-08-05T15:37:03.532113Z",
     "iopub.status.idle": "2025-08-05T15:37:03.539776Z",
     "shell.execute_reply": "2025-08-05T15:37:03.538717Z"
    },
    "papermill": {
     "duration": 0.034707,
     "end_time": "2025-08-05T15:37:03.541740",
     "exception": false,
     "start_time": "2025-08-05T15:37:03.507033",
     "status": "completed"
    },
    "tags": []
   },
   "outputs": [
    {
     "data": {
      "text/plain": [
       "{'coverage': 0.9119050273102218, 'avg_size': 1.1410545089733586}"
      ]
     },
     "execution_count": 45,
     "metadata": {},
     "output_type": "execute_result"
    }
   ],
   "source": [
    "metrics"
   ]
  },
  {
   "cell_type": "code",
   "execution_count": 46,
   "id": "9b9a838d-31c9-430b-ae14-12baee460d17",
   "metadata": {
    "execution": {
     "iopub.execute_input": "2025-08-05T15:37:03.593919Z",
     "iopub.status.busy": "2025-08-05T15:37:03.593308Z",
     "iopub.status.idle": "2025-08-05T15:37:03.600188Z",
     "shell.execute_reply": "2025-08-05T15:37:03.599139Z"
    },
    "papermill": {
     "duration": 0.034275,
     "end_time": "2025-08-05T15:37:03.602211",
     "exception": false,
     "start_time": "2025-08-05T15:37:03.567936",
     "status": "completed"
    },
    "tags": []
   },
   "outputs": [],
   "source": [
    "example_universe = universe.copy()\n",
    "universe_training_year = example_universe.get(\"training_year\")\n",
    "universe_training_size = example_universe.get(\"training_size\")\n",
    "universe_scale = example_universe.get(\"scale\")\n",
    "universe_model = example_universe.get(\"model\")\n",
    "universe_exclude_features = example_universe.get(\"exclude_features\")\n",
    "universe_exclude_subgroups = example_universe.get(\"exclude_subgroups\")"
   ]
  },
  {
   "cell_type": "code",
   "execution_count": 47,
   "id": "f4b6a8ac-9dc0-4245-8a91-5b3b5999c4f9",
   "metadata": {
    "execution": {
     "iopub.execute_input": "2025-08-05T15:37:03.653987Z",
     "iopub.status.busy": "2025-08-05T15:37:03.653143Z",
     "iopub.status.idle": "2025-08-05T15:37:03.660560Z",
     "shell.execute_reply": "2025-08-05T15:37:03.659428Z"
    },
    "papermill": {
     "duration": 0.035435,
     "end_time": "2025-08-05T15:37:03.662651",
     "exception": false,
     "start_time": "2025-08-05T15:37:03.627216",
     "status": "completed"
    },
    "tags": []
   },
   "outputs": [],
   "source": [
    "cp_metrics_dict = {\n",
    "    \"universe_id\": [universe_id],\n",
    "    \"universe_training_year\": [universe_training_year],\n",
    "    \"universe_training_size\": [universe_training_size],\n",
    "    \"universe_scale\": [universe_scale],\n",
    "    \"universe_model\": [universe_model],\n",
    "    \"universe_exclude_features\": [universe_exclude_features],\n",
    "    \"universe_exclude_subgroups\": [universe_exclude_subgroups],\n",
    "    \"q_hat\": [q_hat],\n",
    "    \"coverage\": [metrics[\"coverage\"]],\n",
    "    \"avg_size\": [metrics[\"avg_size\"]],\n",
    "}"
   ]
  },
  {
   "cell_type": "code",
   "execution_count": 48,
   "id": "908acbb1-0371-4915-85ca-3fa520d2efe2",
   "metadata": {
    "execution": {
     "iopub.execute_input": "2025-08-05T15:37:03.707510Z",
     "iopub.status.busy": "2025-08-05T15:37:03.706898Z",
     "iopub.status.idle": "2025-08-05T15:37:03.714537Z",
     "shell.execute_reply": "2025-08-05T15:37:03.713347Z"
    },
    "papermill": {
     "duration": 0.031332,
     "end_time": "2025-08-05T15:37:03.716373",
     "exception": false,
     "start_time": "2025-08-05T15:37:03.685041",
     "status": "completed"
    },
    "tags": []
   },
   "outputs": [
    {
     "data": {
      "text/plain": [
       "{'universe_id': ['04d6294366f7c5e4387f6e59a4f7bfc6'],\n",
       " 'universe_training_year': ['2012_14'],\n",
       " 'universe_training_size': ['5k'],\n",
       " 'universe_scale': ['scale'],\n",
       " 'universe_model': ['rf'],\n",
       " 'universe_exclude_features': ['nationality'],\n",
       " 'universe_exclude_subgroups': ['drop-non-german'],\n",
       " 'q_hat': [0.6699999999999999],\n",
       " 'coverage': [0.9119050273102218],\n",
       " 'avg_size': [1.1410545089733586]}"
      ]
     },
     "execution_count": 48,
     "metadata": {},
     "output_type": "execute_result"
    }
   ],
   "source": [
    "cp_metrics_dict"
   ]
  },
  {
   "cell_type": "code",
   "execution_count": 49,
   "id": "33007efc-14e9-4ec6-97ac-56a455c82265",
   "metadata": {
    "execution": {
     "iopub.execute_input": "2025-08-05T15:37:03.759438Z",
     "iopub.status.busy": "2025-08-05T15:37:03.758528Z",
     "iopub.status.idle": "2025-08-05T15:37:03.764853Z",
     "shell.execute_reply": "2025-08-05T15:37:03.763907Z"
    },
    "papermill": {
     "duration": 0.029006,
     "end_time": "2025-08-05T15:37:03.766733",
     "exception": false,
     "start_time": "2025-08-05T15:37:03.737727",
     "status": "completed"
    },
    "tags": []
   },
   "outputs": [],
   "source": [
    "cp_metrics_df = pd.DataFrame(cp_metrics_dict)"
   ]
  },
  {
   "cell_type": "code",
   "execution_count": 50,
   "id": "db12611b-57b2-4910-b9d0-355adfd6e7bf",
   "metadata": {
    "execution": {
     "iopub.execute_input": "2025-08-05T15:37:03.815474Z",
     "iopub.status.busy": "2025-08-05T15:37:03.814652Z",
     "iopub.status.idle": "2025-08-05T15:37:03.832499Z",
     "shell.execute_reply": "2025-08-05T15:37:03.831658Z"
    },
    "papermill": {
     "duration": 0.04379,
     "end_time": "2025-08-05T15:37:03.833989",
     "exception": false,
     "start_time": "2025-08-05T15:37:03.790199",
     "status": "completed"
    },
    "tags": []
   },
   "outputs": [
    {
     "data": {
      "text/html": [
       "<div>\n",
       "<style scoped>\n",
       "    .dataframe tbody tr th:only-of-type {\n",
       "        vertical-align: middle;\n",
       "    }\n",
       "\n",
       "    .dataframe tbody tr th {\n",
       "        vertical-align: top;\n",
       "    }\n",
       "\n",
       "    .dataframe thead th {\n",
       "        text-align: right;\n",
       "    }\n",
       "</style>\n",
       "<table border=\"1\" class=\"dataframe\">\n",
       "  <thead>\n",
       "    <tr style=\"text-align: right;\">\n",
       "      <th></th>\n",
       "      <th>universe_id</th>\n",
       "      <th>universe_training_year</th>\n",
       "      <th>universe_training_size</th>\n",
       "      <th>universe_scale</th>\n",
       "      <th>universe_model</th>\n",
       "      <th>universe_exclude_features</th>\n",
       "      <th>universe_exclude_subgroups</th>\n",
       "      <th>q_hat</th>\n",
       "      <th>coverage</th>\n",
       "      <th>avg_size</th>\n",
       "    </tr>\n",
       "  </thead>\n",
       "  <tbody>\n",
       "    <tr>\n",
       "      <th>0</th>\n",
       "      <td>04d6294366f7c5e4387f6e59a4f7bfc6</td>\n",
       "      <td>2012_14</td>\n",
       "      <td>5k</td>\n",
       "      <td>scale</td>\n",
       "      <td>rf</td>\n",
       "      <td>nationality</td>\n",
       "      <td>drop-non-german</td>\n",
       "      <td>0.67</td>\n",
       "      <td>0.911905</td>\n",
       "      <td>1.141055</td>\n",
       "    </tr>\n",
       "  </tbody>\n",
       "</table>\n",
       "</div>"
      ],
      "text/plain": [
       "                        universe_id universe_training_year  \\\n",
       "0  04d6294366f7c5e4387f6e59a4f7bfc6                2012_14   \n",
       "\n",
       "  universe_training_size universe_scale universe_model  \\\n",
       "0                     5k          scale             rf   \n",
       "\n",
       "  universe_exclude_features universe_exclude_subgroups  q_hat  coverage  \\\n",
       "0               nationality            drop-non-german   0.67  0.911905   \n",
       "\n",
       "   avg_size  \n",
       "0  1.141055  "
      ]
     },
     "execution_count": 50,
     "metadata": {},
     "output_type": "execute_result"
    }
   ],
   "source": [
    "cp_metrics_df"
   ]
  },
  {
   "cell_type": "code",
   "execution_count": 51,
   "id": "b7fbde55-a0a1-47e4-9af6-fe4a17fa8c61",
   "metadata": {
    "execution": {
     "iopub.execute_input": "2025-08-05T15:37:03.879357Z",
     "iopub.status.busy": "2025-08-05T15:37:03.878825Z",
     "iopub.status.idle": "2025-08-05T15:37:03.884368Z",
     "shell.execute_reply": "2025-08-05T15:37:03.883248Z"
    },
    "papermill": {
     "duration": 0.030816,
     "end_time": "2025-08-05T15:37:03.886183",
     "exception": false,
     "start_time": "2025-08-05T15:37:03.855367",
     "status": "completed"
    },
    "tags": []
   },
   "outputs": [],
   "source": [
    "# Conditional Coverage & looking at subgroups"
   ]
  },
  {
   "cell_type": "code",
   "execution_count": 52,
   "id": "027ae886-68dd-4141-96c7-805a5450e1ef",
   "metadata": {
    "execution": {
     "iopub.execute_input": "2025-08-05T15:37:03.931765Z",
     "iopub.status.busy": "2025-08-05T15:37:03.931053Z",
     "iopub.status.idle": "2025-08-05T15:37:04.133732Z",
     "shell.execute_reply": "2025-08-05T15:37:04.132967Z"
    },
    "papermill": {
     "duration": 0.227524,
     "end_time": "2025-08-05T15:37:04.135480",
     "exception": false,
     "start_time": "2025-08-05T15:37:03.907956",
     "status": "completed"
    },
    "tags": []
   },
   "outputs": [],
   "source": [
    "from fairness_multiverse.conformal import build_cp_groups\n",
    "\n",
    "cp_groups_df = build_cp_groups(pred_sets, y_true, X_test.index, org_test)\n",
    "#needs universe_id and setting"
   ]
  },
  {
   "cell_type": "code",
   "execution_count": 53,
   "id": "6cbdab96-b2b2-45af-ad54-d0516db2e28d",
   "metadata": {
    "execution": {
     "iopub.execute_input": "2025-08-05T15:37:04.185054Z",
     "iopub.status.busy": "2025-08-05T15:37:04.184694Z",
     "iopub.status.idle": "2025-08-05T15:37:06.027372Z",
     "shell.execute_reply": "2025-08-05T15:37:06.026215Z"
    },
    "papermill": {
     "duration": 1.869238,
     "end_time": "2025-08-05T15:37:06.029204",
     "exception": false,
     "start_time": "2025-08-05T15:37:04.159966",
     "status": "completed"
    },
    "tags": []
   },
   "outputs": [],
   "source": [
    "# Define covered = 1 if true_label is in the predicted set\n",
    "cp_groups_df['covered'] = cp_groups_df.apply(\n",
    "    lambda r: int(r['true_label'] in r['pred_set']),\n",
    "    axis=1\n",
    ")"
   ]
  },
  {
   "cell_type": "code",
   "execution_count": 54,
   "id": "338ff529-1a6b-4b87-a931-8e4788d52aad",
   "metadata": {
    "execution": {
     "iopub.execute_input": "2025-08-05T15:37:06.075813Z",
     "iopub.status.busy": "2025-08-05T15:37:06.074994Z",
     "iopub.status.idle": "2025-08-05T15:37:06.081072Z",
     "shell.execute_reply": "2025-08-05T15:37:06.079848Z"
    },
    "papermill": {
     "duration": 0.029764,
     "end_time": "2025-08-05T15:37:06.083151",
     "exception": false,
     "start_time": "2025-08-05T15:37:06.053387",
     "status": "completed"
    },
    "tags": []
   },
   "outputs": [],
   "source": [
    "#cp_groups_df"
   ]
  },
  {
   "cell_type": "code",
   "execution_count": 55,
   "id": "90032e27-66df-4540-9169-4e89cfbaa758",
   "metadata": {
    "execution": {
     "iopub.execute_input": "2025-08-05T15:37:06.135933Z",
     "iopub.status.busy": "2025-08-05T15:37:06.135432Z",
     "iopub.status.idle": "2025-08-05T15:37:06.148943Z",
     "shell.execute_reply": "2025-08-05T15:37:06.147846Z"
    },
    "papermill": {
     "duration": 0.04355,
     "end_time": "2025-08-05T15:37:06.151882",
     "exception": false,
     "start_time": "2025-08-05T15:37:06.108332",
     "status": "completed"
    },
    "tags": []
   },
   "outputs": [],
   "source": [
    "subgroups = ['frau1','nongerman','nongerman_male','nongerman_female']\n",
    "\n",
    "# Conditional coverage for subgroup==1\n",
    "cond_coverage = {\n",
    "    g: cp_groups_df.loc[cp_groups_df[g]==1, 'covered'].mean()\n",
    "    for g in subgroups\n",
    "}"
   ]
  },
  {
   "cell_type": "code",
   "execution_count": 56,
   "id": "1e348fb1-b9c3-45bc-ba23-f016827a7e0d",
   "metadata": {
    "execution": {
     "iopub.execute_input": "2025-08-05T15:37:06.206440Z",
     "iopub.status.busy": "2025-08-05T15:37:06.204536Z",
     "iopub.status.idle": "2025-08-05T15:37:06.213103Z",
     "shell.execute_reply": "2025-08-05T15:37:06.211903Z"
    },
    "papermill": {
     "duration": 0.037178,
     "end_time": "2025-08-05T15:37:06.215136",
     "exception": false,
     "start_time": "2025-08-05T15:37:06.177958",
     "status": "completed"
    },
    "tags": []
   },
   "outputs": [
    {
     "data": {
      "text/plain": [
       "{'frau1': 0.9047850114570697,\n",
       " 'nongerman': 0.9090551844158761,\n",
       " 'nongerman_male': 0.9306493740430515,\n",
       " 'nongerman_female': 0.8733233979135618}"
      ]
     },
     "execution_count": 56,
     "metadata": {},
     "output_type": "execute_result"
    }
   ],
   "source": [
    "cond_coverage"
   ]
  },
  {
   "cell_type": "code",
   "execution_count": 57,
   "id": "f5093324-c3dd-4d63-bc4c-8d945e5c8bbb",
   "metadata": {
    "execution": {
     "iopub.execute_input": "2025-08-05T15:37:06.269553Z",
     "iopub.status.busy": "2025-08-05T15:37:06.268855Z",
     "iopub.status.idle": "2025-08-05T15:37:06.276235Z",
     "shell.execute_reply": "2025-08-05T15:37:06.275216Z"
    },
    "papermill": {
     "duration": 0.037014,
     "end_time": "2025-08-05T15:37:06.278352",
     "exception": false,
     "start_time": "2025-08-05T15:37:06.241338",
     "status": "completed"
    },
    "tags": []
   },
   "outputs": [],
   "source": [
    "for subgroup, cov in cond_coverage.items():\n",
    "    cp_metrics_df[f\"cov_{subgroup}\"] = cov"
   ]
  },
  {
   "cell_type": "code",
   "execution_count": 58,
   "id": "6e872e10-dbe5-49e8-b554-5030c98ff75d",
   "metadata": {
    "execution": {
     "iopub.execute_input": "2025-08-05T15:37:06.330328Z",
     "iopub.status.busy": "2025-08-05T15:37:06.329389Z",
     "iopub.status.idle": "2025-08-05T15:37:06.352238Z",
     "shell.execute_reply": "2025-08-05T15:37:06.350864Z"
    },
    "papermill": {
     "duration": 0.050581,
     "end_time": "2025-08-05T15:37:06.354229",
     "exception": false,
     "start_time": "2025-08-05T15:37:06.303648",
     "status": "completed"
    },
    "tags": []
   },
   "outputs": [
    {
     "data": {
      "text/html": [
       "<div>\n",
       "<style scoped>\n",
       "    .dataframe tbody tr th:only-of-type {\n",
       "        vertical-align: middle;\n",
       "    }\n",
       "\n",
       "    .dataframe tbody tr th {\n",
       "        vertical-align: top;\n",
       "    }\n",
       "\n",
       "    .dataframe thead th {\n",
       "        text-align: right;\n",
       "    }\n",
       "</style>\n",
       "<table border=\"1\" class=\"dataframe\">\n",
       "  <thead>\n",
       "    <tr style=\"text-align: right;\">\n",
       "      <th></th>\n",
       "      <th>universe_id</th>\n",
       "      <th>universe_training_year</th>\n",
       "      <th>universe_training_size</th>\n",
       "      <th>universe_scale</th>\n",
       "      <th>universe_model</th>\n",
       "      <th>universe_exclude_features</th>\n",
       "      <th>universe_exclude_subgroups</th>\n",
       "      <th>q_hat</th>\n",
       "      <th>coverage</th>\n",
       "      <th>avg_size</th>\n",
       "      <th>cov_frau1</th>\n",
       "      <th>cov_nongerman</th>\n",
       "      <th>cov_nongerman_male</th>\n",
       "      <th>cov_nongerman_female</th>\n",
       "    </tr>\n",
       "  </thead>\n",
       "  <tbody>\n",
       "    <tr>\n",
       "      <th>0</th>\n",
       "      <td>04d6294366f7c5e4387f6e59a4f7bfc6</td>\n",
       "      <td>2012_14</td>\n",
       "      <td>5k</td>\n",
       "      <td>scale</td>\n",
       "      <td>rf</td>\n",
       "      <td>nationality</td>\n",
       "      <td>drop-non-german</td>\n",
       "      <td>0.67</td>\n",
       "      <td>0.911905</td>\n",
       "      <td>1.141055</td>\n",
       "      <td>0.904785</td>\n",
       "      <td>0.909055</td>\n",
       "      <td>0.930649</td>\n",
       "      <td>0.873323</td>\n",
       "    </tr>\n",
       "  </tbody>\n",
       "</table>\n",
       "</div>"
      ],
      "text/plain": [
       "                        universe_id universe_training_year  \\\n",
       "0  04d6294366f7c5e4387f6e59a4f7bfc6                2012_14   \n",
       "\n",
       "  universe_training_size universe_scale universe_model  \\\n",
       "0                     5k          scale             rf   \n",
       "\n",
       "  universe_exclude_features universe_exclude_subgroups  q_hat  coverage  \\\n",
       "0               nationality            drop-non-german   0.67  0.911905   \n",
       "\n",
       "   avg_size  cov_frau1  cov_nongerman  cov_nongerman_male  \\\n",
       "0  1.141055   0.904785       0.909055            0.930649   \n",
       "\n",
       "   cov_nongerman_female  \n",
       "0              0.873323  "
      ]
     },
     "execution_count": 58,
     "metadata": {},
     "output_type": "execute_result"
    }
   ],
   "source": [
    "cp_metrics_df"
   ]
  },
  {
   "cell_type": "markdown",
   "id": "33774451",
   "metadata": {
    "papermill": {
     "duration": 0.025556,
     "end_time": "2025-08-05T15:37:06.407458",
     "exception": false,
     "start_time": "2025-08-05T15:37:06.381902",
     "status": "completed"
    },
    "tags": []
   },
   "source": [
    "# (Fairness) Metrics"
   ]
  },
  {
   "cell_type": "code",
   "execution_count": 59,
   "id": "debc5d62",
   "metadata": {
    "execution": {
     "iopub.execute_input": "2025-08-05T15:37:06.460757Z",
     "iopub.status.busy": "2025-08-05T15:37:06.460091Z",
     "iopub.status.idle": "2025-08-05T15:37:06.481813Z",
     "shell.execute_reply": "2025-08-05T15:37:06.480856Z"
    },
    "papermill": {
     "duration": 0.050847,
     "end_time": "2025-08-05T15:37:06.483286",
     "exception": false,
     "start_time": "2025-08-05T15:37:06.432439",
     "status": "completed"
    },
    "tags": []
   },
   "outputs": [],
   "source": [
    "# do I need to include maxdeutsch1.missing?\n",
    "\n",
    "import numpy as np\n",
    "\n",
    "colname_to_bin = \"maxdeutsch1\"\n",
    "majority_value = org_train[colname_to_bin].mode()[0]\n",
    "\n",
    "org_test[\"majmin\"] = np.where(org_test[colname_to_bin] == majority_value, \"majority\", \"minority\")"
   ]
  },
  {
   "cell_type": "code",
   "execution_count": 60,
   "id": "06a50de5",
   "metadata": {
    "execution": {
     "iopub.execute_input": "2025-08-05T15:37:06.509118Z",
     "iopub.status.busy": "2025-08-05T15:37:06.508383Z",
     "iopub.status.idle": "2025-08-05T15:37:08.685382Z",
     "shell.execute_reply": "2025-08-05T15:37:08.684545Z"
    },
    "papermill": {
     "duration": 2.191501,
     "end_time": "2025-08-05T15:37:08.686980",
     "exception": false,
     "start_time": "2025-08-05T15:37:06.495479",
     "status": "completed"
    },
    "tags": []
   },
   "outputs": [],
   "source": [
    "example_universe = universe.copy()\n",
    "example_universe[\"cutoff\"] = example_universe[\"cutoff\"][0]\n",
    "example_universe[\"eval_fairness_grouping\"] = example_universe[\"eval_fairness_grouping\"][0]\n",
    "fairness_dict, metric_frame = universe_analysis.compute_metrics(\n",
    "    example_universe,\n",
    "    y_pred_prob=probs_test,\n",
    "    y_test=y_true,\n",
    "    org_test=org_test,\n",
    ")"
   ]
  },
  {
   "cell_type": "markdown",
   "id": "f95d4e02",
   "metadata": {
    "papermill": {
     "duration": 0.011372,
     "end_time": "2025-08-05T15:37:08.710763",
     "exception": false,
     "start_time": "2025-08-05T15:37:08.699391",
     "status": "completed"
    },
    "tags": []
   },
   "source": [
    "# Overall"
   ]
  },
  {
   "cell_type": "markdown",
   "id": "bdee4871",
   "metadata": {
    "papermill": {
     "duration": 0.036894,
     "end_time": "2025-08-05T15:37:08.761391",
     "exception": false,
     "start_time": "2025-08-05T15:37:08.724497",
     "status": "completed"
    },
    "tags": []
   },
   "source": [
    "Fairness\n",
    "Main fairness target: Equalized Odds. Seems to be a better fit than equal opportunity, since we're not only interested in Y = 1. Seems to be a better fit than demographic parity, since we also care about accuracy, not just equal distribution of preds.\n",
    "\n",
    "Pick column for computation of fairness metrics\n",
    "\n",
    "Performance\n",
    "Overall performance measures, most interesting in relation to the measures split by group below"
   ]
  },
  {
   "cell_type": "code",
   "execution_count": 61,
   "id": "c4e067c6",
   "metadata": {
    "execution": {
     "iopub.execute_input": "2025-08-05T15:37:08.793091Z",
     "iopub.status.busy": "2025-08-05T15:37:08.792735Z",
     "iopub.status.idle": "2025-08-05T15:37:08.800213Z",
     "shell.execute_reply": "2025-08-05T15:37:08.799367Z"
    },
    "papermill": {
     "duration": 0.021995,
     "end_time": "2025-08-05T15:37:08.801609",
     "exception": false,
     "start_time": "2025-08-05T15:37:08.779614",
     "status": "completed"
    },
    "tags": []
   },
   "outputs": [
    {
     "data": {
      "text/plain": [
       "accuracy                   0.196310\n",
       "balanced accuracy          0.533907\n",
       "f1                         0.239775\n",
       "precision                  0.136444\n",
       "false positive rate        0.920194\n",
       "false negative rate        0.011992\n",
       "selection rate             0.928893\n",
       "count                  89710.000000\n",
       "dtype: float64"
      ]
     },
     "execution_count": 61,
     "metadata": {},
     "output_type": "execute_result"
    }
   ],
   "source": [
    "metric_frame.overall"
   ]
  },
  {
   "cell_type": "markdown",
   "id": "e968fe9d",
   "metadata": {
    "papermill": {
     "duration": 0.033716,
     "end_time": "2025-08-05T15:37:08.847400",
     "exception": false,
     "start_time": "2025-08-05T15:37:08.813684",
     "status": "completed"
    },
    "tags": []
   },
   "source": [
    "By Group"
   ]
  },
  {
   "cell_type": "code",
   "execution_count": 62,
   "id": "ec325bce",
   "metadata": {
    "execution": {
     "iopub.execute_input": "2025-08-05T15:37:08.886970Z",
     "iopub.status.busy": "2025-08-05T15:37:08.886618Z",
     "iopub.status.idle": "2025-08-05T15:37:08.899931Z",
     "shell.execute_reply": "2025-08-05T15:37:08.899059Z"
    },
    "papermill": {
     "duration": 0.02731,
     "end_time": "2025-08-05T15:37:08.901269",
     "exception": false,
     "start_time": "2025-08-05T15:37:08.873959",
     "status": "completed"
    },
    "tags": []
   },
   "outputs": [
    {
     "data": {
      "text/html": [
       "<div>\n",
       "<style scoped>\n",
       "    .dataframe tbody tr th:only-of-type {\n",
       "        vertical-align: middle;\n",
       "    }\n",
       "\n",
       "    .dataframe tbody tr th {\n",
       "        vertical-align: top;\n",
       "    }\n",
       "\n",
       "    .dataframe thead th {\n",
       "        text-align: right;\n",
       "    }\n",
       "</style>\n",
       "<table border=\"1\" class=\"dataframe\">\n",
       "  <thead>\n",
       "    <tr style=\"text-align: right;\">\n",
       "      <th></th>\n",
       "      <th>accuracy</th>\n",
       "      <th>balanced accuracy</th>\n",
       "      <th>f1</th>\n",
       "      <th>precision</th>\n",
       "      <th>false positive rate</th>\n",
       "      <th>false negative rate</th>\n",
       "      <th>selection rate</th>\n",
       "      <th>count</th>\n",
       "    </tr>\n",
       "    <tr>\n",
       "      <th>majmin</th>\n",
       "      <th></th>\n",
       "      <th></th>\n",
       "      <th></th>\n",
       "      <th></th>\n",
       "      <th></th>\n",
       "      <th></th>\n",
       "      <th></th>\n",
       "      <th></th>\n",
       "    </tr>\n",
       "  </thead>\n",
       "  <tbody>\n",
       "    <tr>\n",
       "      <th>majority</th>\n",
       "      <td>0.202501</td>\n",
       "      <td>0.536132</td>\n",
       "      <td>0.246952</td>\n",
       "      <td>0.141079</td>\n",
       "      <td>0.917341</td>\n",
       "      <td>0.010394</td>\n",
       "      <td>0.926890</td>\n",
       "      <td>69170.0</td>\n",
       "    </tr>\n",
       "    <tr>\n",
       "      <th>minority</th>\n",
       "      <td>0.175463</td>\n",
       "      <td>0.526112</td>\n",
       "      <td>0.215417</td>\n",
       "      <td>0.120980</td>\n",
       "      <td>0.929617</td>\n",
       "      <td>0.018159</td>\n",
       "      <td>0.935638</td>\n",
       "      <td>20540.0</td>\n",
       "    </tr>\n",
       "  </tbody>\n",
       "</table>\n",
       "</div>"
      ],
      "text/plain": [
       "          accuracy  balanced accuracy        f1  precision  \\\n",
       "majmin                                                       \n",
       "majority  0.202501           0.536132  0.246952   0.141079   \n",
       "minority  0.175463           0.526112  0.215417   0.120980   \n",
       "\n",
       "          false positive rate  false negative rate  selection rate    count  \n",
       "majmin                                                                       \n",
       "majority             0.917341             0.010394        0.926890  69170.0  \n",
       "minority             0.929617             0.018159        0.935638  20540.0  "
      ]
     },
     "execution_count": 62,
     "metadata": {},
     "output_type": "execute_result"
    }
   ],
   "source": [
    "metric_frame.by_group"
   ]
  },
  {
   "cell_type": "code",
   "execution_count": 63,
   "id": "a9ddbe63",
   "metadata": {
    "execution": {
     "iopub.execute_input": "2025-08-05T15:37:08.931414Z",
     "iopub.status.busy": "2025-08-05T15:37:08.930885Z",
     "iopub.status.idle": "2025-08-05T15:37:11.335127Z",
     "shell.execute_reply": "2025-08-05T15:37:11.334063Z"
    },
    "papermill": {
     "duration": 2.418801,
     "end_time": "2025-08-05T15:37:11.336657",
     "exception": false,
     "start_time": "2025-08-05T15:37:08.917856",
     "status": "completed"
    },
    "tags": []
   },
   "outputs": [
    {
     "data": {
      "text/plain": [
       "array([[<Axes: title={'center': 'accuracy'}, xlabel='majmin'>,\n",
       "        <Axes: title={'center': 'balanced accuracy'}, xlabel='majmin'>,\n",
       "        <Axes: title={'center': 'f1'}, xlabel='majmin'>],\n",
       "       [<Axes: title={'center': 'precision'}, xlabel='majmin'>,\n",
       "        <Axes: title={'center': 'false positive rate'}, xlabel='majmin'>,\n",
       "        <Axes: title={'center': 'false negative rate'}, xlabel='majmin'>],\n",
       "       [<Axes: title={'center': 'selection rate'}, xlabel='majmin'>,\n",
       "        <Axes: title={'center': 'count'}, xlabel='majmin'>,\n",
       "        <Axes: xlabel='majmin'>]], dtype=object)"
      ]
     },
     "execution_count": 63,
     "metadata": {},
     "output_type": "execute_result"
    },
    {
     "data": {
      "image/png": "[encoded data removed]",
      "text/plain": [
       "<Figure size 1200x800 with 9 Axes>"
      ]
     },
     "metadata": {},
     "output_type": "display_data"
    }
   ],
   "source": [
    "# In a graphic\n",
    "metric_frame.by_group.plot.bar(\n",
    "    subplots=True,\n",
    "    layout=[3, 3],\n",
    "    legend=False,\n",
    "    figsize=[12, 8],\n",
    "    title=\"Show all metrics\",\n",
    ")"
   ]
  },
  {
   "cell_type": "markdown",
   "id": "f57a0bac",
   "metadata": {
    "papermill": {
     "duration": 0.024684,
     "end_time": "2025-08-05T15:37:11.387789",
     "exception": false,
     "start_time": "2025-08-05T15:37:11.363105",
     "status": "completed"
    },
    "tags": []
   },
   "source": [
    "# Final Output"
   ]
  },
  {
   "cell_type": "code",
   "execution_count": 64,
   "id": "96d280a3",
   "metadata": {
    "execution": {
     "iopub.execute_input": "2025-08-05T15:37:11.437818Z",
     "iopub.status.busy": "2025-08-05T15:37:11.437031Z",
     "iopub.status.idle": "2025-08-05T15:37:11.447409Z",
     "shell.execute_reply": "2025-08-05T15:37:11.446386Z"
    },
    "papermill": {
     "duration": 0.037513,
     "end_time": "2025-08-05T15:37:11.449044",
     "exception": false,
     "start_time": "2025-08-05T15:37:11.411531",
     "status": "completed"
    },
    "tags": []
   },
   "outputs": [
    {
     "data": {
      "text/plain": [
       "4"
      ]
     },
     "execution_count": 64,
     "metadata": {},
     "output_type": "execute_result"
    }
   ],
   "source": [
    "sub_universes = universe_analysis.generate_sub_universes()\n",
    "len(sub_universes)"
   ]
  },
  {
   "cell_type": "code",
   "execution_count": 65,
   "id": "92adf7ba",
   "metadata": {
    "execution": {
     "iopub.execute_input": "2025-08-05T15:37:11.500626Z",
     "iopub.status.busy": "2025-08-05T15:37:11.500111Z",
     "iopub.status.idle": "2025-08-05T15:37:11.511510Z",
     "shell.execute_reply": "2025-08-05T15:37:11.510381Z"
    },
    "papermill": {
     "duration": 0.03877,
     "end_time": "2025-08-05T15:37:11.513599",
     "exception": false,
     "start_time": "2025-08-05T15:37:11.474829",
     "status": "completed"
    },
    "tags": []
   },
   "outputs": [],
   "source": [
    "def filter_sub_universe_data(sub_universe, org_test):\n",
    "    # Keep all rows — no filtering\n",
    "    keep_rows_mask = np.ones(org_test.shape[0], dtype=bool)\n",
    "\n",
    "    print(f\"[INFO] Keeping all rows: {keep_rows_mask.sum()} rows retained.\")\n",
    "    return keep_rows_mask"
   ]
  },
  {
   "cell_type": "code",
   "execution_count": 66,
   "id": "4a759155",
   "metadata": {
    "execution": {
     "iopub.execute_input": "2025-08-05T15:37:11.565853Z",
     "iopub.status.busy": "2025-08-05T15:37:11.565360Z",
     "iopub.status.idle": "2025-08-05T15:37:21.804253Z",
     "shell.execute_reply": "2025-08-05T15:37:21.803257Z"
    },
    "papermill": {
     "duration": 10.26599,
     "end_time": "2025-08-05T15:37:21.805932",
     "exception": false,
     "start_time": "2025-08-05T15:37:11.539942",
     "status": "completed"
    },
    "tags": []
   },
   "outputs": [
    {
     "name": "stdout",
     "output_type": "stream",
     "text": [
      "Stopping execution_time clock.\n",
      "[INFO] Keeping all rows: 89710 rows retained.\n"
     ]
    },
    {
     "name": "stdout",
     "output_type": "stream",
     "text": [
      "[INFO] Keeping all rows: 89710 rows retained.\n"
     ]
    },
    {
     "name": "stdout",
     "output_type": "stream",
     "text": [
      "[INFO] Keeping all rows: 89710 rows retained.\n"
     ]
    },
    {
     "name": "stdout",
     "output_type": "stream",
     "text": [
      "[INFO] Keeping all rows: 89710 rows retained.\n"
     ]
    },
    {
     "data": {
      "text/html": [
       "<div>\n",
       "<style scoped>\n",
       "    .dataframe tbody tr th:only-of-type {\n",
       "        vertical-align: middle;\n",
       "    }\n",
       "\n",
       "    .dataframe tbody tr th {\n",
       "        vertical-align: top;\n",
       "    }\n",
       "\n",
       "    .dataframe thead th {\n",
       "        text-align: right;\n",
       "    }\n",
       "</style>\n",
       "<table border=\"1\" class=\"dataframe\">\n",
       "  <thead>\n",
       "    <tr style=\"text-align: right;\">\n",
       "      <th></th>\n",
       "      <th>run_no</th>\n",
       "      <th>universe_id</th>\n",
       "      <th>universe_settings</th>\n",
       "      <th>execution_time</th>\n",
       "      <th>test_size_n</th>\n",
       "      <th>test_size_frac</th>\n",
       "      <th>fair_main_equalized_odds_difference</th>\n",
       "      <th>fair_main_equalized_odds_ratio</th>\n",
       "      <th>fair_main_demographic_parity_difference</th>\n",
       "      <th>fair_main_demographic_parity_ratio</th>\n",
       "      <th>...</th>\n",
       "      <th>perf_grp_precision_0</th>\n",
       "      <th>perf_grp_precision_1</th>\n",
       "      <th>perf_grp_false positive rate_0</th>\n",
       "      <th>perf_grp_false positive rate_1</th>\n",
       "      <th>perf_grp_false negative rate_0</th>\n",
       "      <th>perf_grp_false negative rate_1</th>\n",
       "      <th>perf_grp_selection rate_0</th>\n",
       "      <th>perf_grp_selection rate_1</th>\n",
       "      <th>perf_grp_count_0</th>\n",
       "      <th>perf_grp_count_1</th>\n",
       "    </tr>\n",
       "  </thead>\n",
       "  <tbody>\n",
       "    <tr>\n",
       "      <th>0</th>\n",
       "      <td>15</td>\n",
       "      <td>04d6294366f7c5e4387f6e59a4f7bfc6</td>\n",
       "      <td>{\"cutoff\": \"quantile_0.1\", \"eval_fairness_grou...</td>\n",
       "      <td>34.606102</td>\n",
       "      <td>89710</td>\n",
       "      <td>1.0</td>\n",
       "      <td>0.012276</td>\n",
       "      <td>0.986795</td>\n",
       "      <td>0.008748</td>\n",
       "      <td>0.990651</td>\n",
       "      <td>...</td>\n",
       "      <td>NaN</td>\n",
       "      <td>NaN</td>\n",
       "      <td>NaN</td>\n",
       "      <td>NaN</td>\n",
       "      <td>NaN</td>\n",
       "      <td>NaN</td>\n",
       "      <td>NaN</td>\n",
       "      <td>NaN</td>\n",
       "      <td>NaN</td>\n",
       "      <td>NaN</td>\n",
       "    </tr>\n",
       "    <tr>\n",
       "      <th>0</th>\n",
       "      <td>15</td>\n",
       "      <td>04d6294366f7c5e4387f6e59a4f7bfc6</td>\n",
       "      <td>{\"cutoff\": \"quantile_0.1\", \"eval_fairness_grou...</td>\n",
       "      <td>34.606102</td>\n",
       "      <td>89710</td>\n",
       "      <td>1.0</td>\n",
       "      <td>0.012276</td>\n",
       "      <td>0.986795</td>\n",
       "      <td>0.008748</td>\n",
       "      <td>0.990651</td>\n",
       "      <td>...</td>\n",
       "      <td>0.120980</td>\n",
       "      <td>0.141079</td>\n",
       "      <td>0.929617</td>\n",
       "      <td>0.917341</td>\n",
       "      <td>0.018159</td>\n",
       "      <td>0.010394</td>\n",
       "      <td>0.935638</td>\n",
       "      <td>0.926890</td>\n",
       "      <td>20540.0</td>\n",
       "      <td>69170.0</td>\n",
       "    </tr>\n",
       "    <tr>\n",
       "      <th>0</th>\n",
       "      <td>15</td>\n",
       "      <td>04d6294366f7c5e4387f6e59a4f7bfc6</td>\n",
       "      <td>{\"cutoff\": \"quantile_0.25\", \"eval_fairness_gro...</td>\n",
       "      <td>34.606102</td>\n",
       "      <td>89710</td>\n",
       "      <td>1.0</td>\n",
       "      <td>0.044850</td>\n",
       "      <td>0.952400</td>\n",
       "      <td>0.015689</td>\n",
       "      <td>0.979896</td>\n",
       "      <td>...</td>\n",
       "      <td>NaN</td>\n",
       "      <td>NaN</td>\n",
       "      <td>NaN</td>\n",
       "      <td>NaN</td>\n",
       "      <td>NaN</td>\n",
       "      <td>NaN</td>\n",
       "      <td>NaN</td>\n",
       "      <td>NaN</td>\n",
       "      <td>NaN</td>\n",
       "      <td>NaN</td>\n",
       "    </tr>\n",
       "    <tr>\n",
       "      <th>0</th>\n",
       "      <td>15</td>\n",
       "      <td>04d6294366f7c5e4387f6e59a4f7bfc6</td>\n",
       "      <td>{\"cutoff\": \"quantile_0.25\", \"eval_fairness_gro...</td>\n",
       "      <td>34.606102</td>\n",
       "      <td>89710</td>\n",
       "      <td>1.0</td>\n",
       "      <td>0.044850</td>\n",
       "      <td>0.952400</td>\n",
       "      <td>0.015689</td>\n",
       "      <td>0.979896</td>\n",
       "      <td>...</td>\n",
       "      <td>0.132564</td>\n",
       "      <td>0.162807</td>\n",
       "      <td>0.765188</td>\n",
       "      <td>0.737714</td>\n",
       "      <td>0.102618</td>\n",
       "      <td>0.057768</td>\n",
       "      <td>0.780428</td>\n",
       "      <td>0.764739</td>\n",
       "      <td>20540.0</td>\n",
       "      <td>69170.0</td>\n",
       "    </tr>\n",
       "  </tbody>\n",
       "</table>\n",
       "<p>4 rows × 50 columns</p>\n",
       "</div>"
      ],
      "text/plain": [
       "  run_no                       universe_id  \\\n",
       "0     15  04d6294366f7c5e4387f6e59a4f7bfc6   \n",
       "0     15  04d6294366f7c5e4387f6e59a4f7bfc6   \n",
       "0     15  04d6294366f7c5e4387f6e59a4f7bfc6   \n",
       "0     15  04d6294366f7c5e4387f6e59a4f7bfc6   \n",
       "\n",
       "                                   universe_settings  execution_time  \\\n",
       "0  {\"cutoff\": \"quantile_0.1\", \"eval_fairness_grou...       34.606102   \n",
       "0  {\"cutoff\": \"quantile_0.1\", \"eval_fairness_grou...       34.606102   \n",
       "0  {\"cutoff\": \"quantile_0.25\", \"eval_fairness_gro...       34.606102   \n",
       "0  {\"cutoff\": \"quantile_0.25\", \"eval_fairness_gro...       34.606102   \n",
       "\n",
       "   test_size_n  test_size_frac  fair_main_equalized_odds_difference  \\\n",
       "0        89710             1.0                             0.012276   \n",
       "0        89710             1.0                             0.012276   \n",
       "0        89710             1.0                             0.044850   \n",
       "0        89710             1.0                             0.044850   \n",
       "\n",
       "   fair_main_equalized_odds_ratio  fair_main_demographic_parity_difference  \\\n",
       "0                        0.986795                                 0.008748   \n",
       "0                        0.986795                                 0.008748   \n",
       "0                        0.952400                                 0.015689   \n",
       "0                        0.952400                                 0.015689   \n",
       "\n",
       "   fair_main_demographic_parity_ratio  ...  perf_grp_precision_0  \\\n",
       "0                            0.990651  ...                   NaN   \n",
       "0                            0.990651  ...              0.120980   \n",
       "0                            0.979896  ...                   NaN   \n",
       "0                            0.979896  ...              0.132564   \n",
       "\n",
       "   perf_grp_precision_1  perf_grp_false positive rate_0  \\\n",
       "0                   NaN                             NaN   \n",
       "0              0.141079                        0.929617   \n",
       "0                   NaN                             NaN   \n",
       "0              0.162807                        0.765188   \n",
       "\n",
       "   perf_grp_false positive rate_1  perf_grp_false negative rate_0  \\\n",
       "0                             NaN                             NaN   \n",
       "0                        0.917341                        0.018159   \n",
       "0                             NaN                             NaN   \n",
       "0                        0.737714                        0.102618   \n",
       "\n",
       "   perf_grp_false negative rate_1  perf_grp_selection rate_0  \\\n",
       "0                             NaN                        NaN   \n",
       "0                        0.010394                   0.935638   \n",
       "0                             NaN                        NaN   \n",
       "0                        0.057768                   0.780428   \n",
       "\n",
       "   perf_grp_selection rate_1  perf_grp_count_0  perf_grp_count_1  \n",
       "0                        NaN               NaN               NaN  \n",
       "0                   0.926890           20540.0           69170.0  \n",
       "0                        NaN               NaN               NaN  \n",
       "0                   0.764739           20540.0           69170.0  \n",
       "\n",
       "[4 rows x 50 columns]"
      ]
     },
     "execution_count": 66,
     "metadata": {},
     "output_type": "execute_result"
    }
   ],
   "source": [
    "final_output = universe_analysis.generate_final_output(\n",
    "    y_pred_prob=probs_test,\n",
    "    y_test=y_true,\n",
    "    org_test=org_test,\n",
    "    filter_data=filter_sub_universe_data,\n",
    "    cp_metrics_df=cp_metrics_df,\n",
    "    save=True,\n",
    ")\n",
    "final_output"
   ]
  }
 ],
 "metadata": {
  "celltoolbar": "Tags",
  "kernelspec": {
   "display_name": "Python (CMA Fairness)",
   "language": "python",
   "name": "cma_fair_env"
  },
  "language_info": {
   "codemirror_mode": {
    "name": "ipython",
    "version": 3
   },
   "file_extension": ".py",
   "mimetype": "text/x-python",
   "name": "python",
   "nbconvert_exporter": "python",
   "pygments_lexer": "ipython3",
   "version": "3.10.12"
  },
  "papermill": {
   "default_parameters": {},
   "duration": 49.141656,
   "end_time": "2025-08-05T15:37:22.668101",
   "environment_variables": {},
   "exception": null,
   "input_path": "universe_analysis.ipynb",
   "output_path": "output/runs/15/notebooks/m_15-04d6294366f7c5e4387f6e59a4f7bfc6.ipynb",
   "parameters": {
    "output_dir": "output",
    "run_no": "15",
    "seed": "2023",
    "universe": "{\"cutoff\": [\"quantile_0.1\", \"quantile_0.25\"], \"eval_fairness_grouping\": [\"majority-minority\", \"nationality-all\"], \"exclude_features\": \"nationality\", \"exclude_subgroups\": \"drop-non-german\", \"model\": \"rf\", \"scale\": \"scale\", \"training_size\": \"5k\", \"training_year\": \"2012_14\"}",
    "universe_id": "04d6294366f7c5e4387f6e59a4f7bfc6"
   },
   "start_time": "2025-08-05T15:36:33.526445",
   "version": "2.6.0"
  }
 },
 "nbformat": 4,
 "nbformat_minor": 5
}