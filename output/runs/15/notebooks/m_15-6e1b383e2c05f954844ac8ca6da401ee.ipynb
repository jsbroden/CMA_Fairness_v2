{
 "cells": [
  {
   "cell_type": "code",
   "execution_count": 1,
   "id": "f159f837-637b-42ba-96b5-ec9a68c44524",
   "metadata": {
    "execution": {
     "iopub.execute_input": "2025-08-05T16:04:03.738768Z",
     "iopub.status.busy": "2025-08-05T16:04:03.738255Z",
     "iopub.status.idle": "2025-08-05T16:04:03.753907Z",
     "shell.execute_reply": "2025-08-05T16:04:03.752825Z"
    },
    "papermill": {
     "duration": 0.035773,
     "end_time": "2025-08-05T16:04:03.755854",
     "exception": false,
     "start_time": "2025-08-05T16:04:03.720081",
     "status": "completed"
    },
    "tags": []
   },
   "outputs": [
    {
     "name": "stdout",
     "output_type": "stream",
     "text": [
      "/dss/dsshome1/0C/ra93lal2/cma/CMA_Fairness_v2\n"
     ]
    },
    {
     "name": "stderr",
     "output_type": "stream",
     "text": [
      "/dss/dsshome1/0C/ra93lal2/.local/share/virtualenvs/CMA_Fairness_v2-3j10GkSs/lib/python3.10/site-packages/IPython/core/magics/osm.py:393: UserWarning: This is now an optional IPython functionality, using bookmarks requires you to install the `pickleshare` library.\n",
      "  bkms = self.shell.db.get('bookmarks', {})\n",
      "/dss/dsshome1/0C/ra93lal2/.local/share/virtualenvs/CMA_Fairness_v2-3j10GkSs/lib/python3.10/site-packages/IPython/core/magics/osm.py:417: UserWarning: This is now an optional IPython functionality, setting dhist requires you to install the `pickleshare` library.\n",
      "  self.shell.db['dhist'] = compress_dhist(dhist)[-100:]\n"
     ]
    }
   ],
   "source": [
    "%cd ~/cma/CMA_Fairness_v2"
   ]
  },
  {
   "cell_type": "markdown",
   "id": "de2603b9",
   "metadata": {
    "papermill": {
     "duration": 0.016525,
     "end_time": "2025-08-05T16:04:03.789587",
     "exception": false,
     "start_time": "2025-08-05T16:04:03.773062",
     "status": "completed"
    },
    "tags": []
   },
   "source": [
    "The following cell holds the definition of our parameters, these values can be overriden by rendering the with e.g. the following command:\n",
    "\n",
    "papermill -p alpha 0.2 -p ratio 0.3 universe_analysis.ipynb output/test_run.ipynb"
   ]
  },
  {
   "cell_type": "code",
   "execution_count": 2,
   "id": "a80968a0-40bb-4fa9-85ef-2d5eefb01975",
   "metadata": {
    "execution": {
     "iopub.execute_input": "2025-08-05T16:04:03.823338Z",
     "iopub.status.busy": "2025-08-05T16:04:03.822871Z",
     "iopub.status.idle": "2025-08-05T16:04:03.827963Z",
     "shell.execute_reply": "2025-08-05T16:04:03.827118Z"
    },
    "papermill": {
     "duration": 0.025224,
     "end_time": "2025-08-05T16:04:03.830181",
     "exception": false,
     "start_time": "2025-08-05T16:04:03.804957",
     "status": "completed"
    },
    "tags": []
   },
   "outputs": [
    {
     "name": "stdout",
     "output_type": "stream",
     "text": [
      "Current working directory: /dss/dsshome1/0C/ra93lal2/cma/CMA_Fairness_v2\n"
     ]
    }
   ],
   "source": [
    "import os\n",
    "print(\"Current working directory:\", os.getcwd())"
   ]
  },
  {
   "cell_type": "code",
   "execution_count": 3,
   "id": "2dce4c03",
   "metadata": {
    "execution": {
     "iopub.execute_input": "2025-08-05T16:04:03.865358Z",
     "iopub.status.busy": "2025-08-05T16:04:03.864845Z",
     "iopub.status.idle": "2025-08-05T16:04:03.871239Z",
     "shell.execute_reply": "2025-08-05T16:04:03.870229Z"
    },
    "papermill": {
     "duration": 0.025563,
     "end_time": "2025-08-05T16:04:03.872916",
     "exception": false,
     "start_time": "2025-08-05T16:04:03.847353",
     "status": "completed"
    },
    "tags": [
     "parameters"
    ]
   },
   "outputs": [],
   "source": [
    "run_no = 0\n",
    "universe_id = \"test\"\n",
    "universe = {\n",
    "    \"training_size\": \"25k\", # \"25k\", \"5k\", \"1k\"\n",
    "    \"training_year\": \"2014\", # \"2014\", \"2012_14\", \"2010_14\"\n",
    "    \"scale\": \"scale\", # \"scale\", \"do-not-scale\",\n",
    "    \"model\": \"elasticnet\", # \"logreg\", \"penalized_logreg\", \"rf\", \"gbm\", \"elasticnet\"\n",
    "    \"cutoff\": [\"quantile_0.15\", \"quantile_0.30\"],\n",
    "    \"exclude_features\": \"age\", # \"none\", \"nationality\", \"sex\", \"nationality-sex\", \"age\"\n",
    "    \"exclude_subgroups\": \"keep-all\", # \"keep-all\", \"drop-non-german\"\n",
    "    \"eval_fairness_grouping\": [\"majority-minority\", \"nationality-all\"]\n",
    "}\n",
    "\n",
    "output_dir=\"./output\"\n",
    "seed=0"
   ]
  },
  {
   "cell_type": "code",
   "execution_count": 4,
   "id": "4cc60f96",
   "metadata": {
    "execution": {
     "iopub.execute_input": "2025-08-05T16:04:03.907652Z",
     "iopub.status.busy": "2025-08-05T16:04:03.906756Z",
     "iopub.status.idle": "2025-08-05T16:04:03.912046Z",
     "shell.execute_reply": "2025-08-05T16:04:03.911169Z"
    },
    "papermill": {
     "duration": 0.024403,
     "end_time": "2025-08-05T16:04:03.914199",
     "exception": false,
     "start_time": "2025-08-05T16:04:03.889796",
     "status": "completed"
    },
    "tags": [
     "injected-parameters"
    ]
   },
   "outputs": [],
   "source": [
    "# Parameters\n",
    "universe_id = \"6e1b383e2c05f954844ac8ca6da401ee\"\n",
    "run_no = \"15\"\n",
    "universe = \"{\\\"cutoff\\\": [\\\"quantile_0.1\\\", \\\"quantile_0.25\\\"], \\\"eval_fairness_grouping\\\": [\\\"majority-minority\\\", \\\"nationality-all\\\"], \\\"exclude_features\\\": \\\"age\\\", \\\"exclude_subgroups\\\": \\\"keep-all\\\", \\\"model\\\": \\\"penalized_logreg\\\", \\\"scale\\\": \\\"scale\\\", \\\"training_size\\\": \\\"1k\\\", \\\"training_year\\\": \\\"2014\\\"}\"\n",
    "output_dir = \"output\"\n",
    "seed = \"2023\"\n"
   ]
  },
  {
   "cell_type": "code",
   "execution_count": 5,
   "id": "1650acaf",
   "metadata": {
    "execution": {
     "iopub.execute_input": "2025-08-05T16:04:03.950725Z",
     "iopub.status.busy": "2025-08-05T16:04:03.950333Z",
     "iopub.status.idle": "2025-08-05T16:04:03.955801Z",
     "shell.execute_reply": "2025-08-05T16:04:03.954664Z"
    },
    "papermill": {
     "duration": 0.025922,
     "end_time": "2025-08-05T16:04:03.957889",
     "exception": false,
     "start_time": "2025-08-05T16:04:03.931967",
     "status": "completed"
    },
    "tags": []
   },
   "outputs": [],
   "source": [
    "import json\n",
    "if isinstance(universe, str):\n",
    "    universe = json.loads(universe)"
   ]
  },
  {
   "cell_type": "code",
   "execution_count": 6,
   "id": "16620c48",
   "metadata": {
    "execution": {
     "iopub.execute_input": "2025-08-05T16:04:04.000152Z",
     "iopub.status.busy": "2025-08-05T16:04:03.999767Z",
     "iopub.status.idle": "2025-08-05T16:04:04.043672Z",
     "shell.execute_reply": "2025-08-05T16:04:04.042718Z"
    },
    "papermill": {
     "duration": 0.066891,
     "end_time": "2025-08-05T16:04:04.045558",
     "exception": false,
     "start_time": "2025-08-05T16:04:03.978667",
     "status": "completed"
    },
    "tags": []
   },
   "outputs": [],
   "source": [
    "# Auto-reload the custom package\n",
    "%load_ext autoreload\n",
    "%autoreload 1\n",
    "%aimport fairness_multiverse"
   ]
  },
  {
   "cell_type": "code",
   "execution_count": 7,
   "id": "01c5c9f3",
   "metadata": {
    "execution": {
     "iopub.execute_input": "2025-08-05T16:04:04.086348Z",
     "iopub.status.busy": "2025-08-05T16:04:04.086025Z",
     "iopub.status.idle": "2025-08-05T16:04:06.225614Z",
     "shell.execute_reply": "2025-08-05T16:04:06.224729Z"
    },
    "papermill": {
     "duration": 2.161296,
     "end_time": "2025-08-05T16:04:06.227241",
     "exception": false,
     "start_time": "2025-08-05T16:04:04.065945",
     "status": "completed"
    },
    "tags": []
   },
   "outputs": [],
   "source": [
    "from fairness_multiverse.universe import UniverseAnalysis\n",
    "\n",
    "universe_analysis = UniverseAnalysis(\n",
    "    run_no = run_no,\n",
    "    universe_id = universe_id,\n",
    "    universe = universe,\n",
    "    output_dir=output_dir,\n",
    ")"
   ]
  },
  {
   "cell_type": "code",
   "execution_count": 8,
   "id": "106241f5",
   "metadata": {
    "execution": {
     "iopub.execute_input": "2025-08-05T16:04:06.251379Z",
     "iopub.status.busy": "2025-08-05T16:04:06.251037Z",
     "iopub.status.idle": "2025-08-05T16:04:06.256712Z",
     "shell.execute_reply": "2025-08-05T16:04:06.255635Z"
    },
    "papermill": {
     "duration": 0.018111,
     "end_time": "2025-08-05T16:04:06.258882",
     "exception": false,
     "start_time": "2025-08-05T16:04:06.240771",
     "status": "completed"
    },
    "tags": []
   },
   "outputs": [
    {
     "name": "stdout",
     "output_type": "stream",
     "text": [
      "Using Seed: 2023\n"
     ]
    }
   ],
   "source": [
    "import numpy as np\n",
    "parsed_seed = int(seed)\n",
    "np.random.seed(parsed_seed)\n",
    "print(f\"Using Seed: {parsed_seed}\")"
   ]
  },
  {
   "cell_type": "markdown",
   "id": "e0ebdc57",
   "metadata": {
    "papermill": {
     "duration": 0.0089,
     "end_time": "2025-08-05T16:04:06.277486",
     "exception": false,
     "start_time": "2025-08-05T16:04:06.268586",
     "status": "completed"
    },
    "tags": []
   },
   "source": [
    "# Loading Data"
   ]
  },
  {
   "cell_type": "code",
   "execution_count": 9,
   "id": "f0496b8a",
   "metadata": {
    "execution": {
     "iopub.execute_input": "2025-08-05T16:04:06.302821Z",
     "iopub.status.busy": "2025-08-05T16:04:06.301977Z",
     "iopub.status.idle": "2025-08-05T16:04:18.928574Z",
     "shell.execute_reply": "2025-08-05T16:04:18.927414Z"
    },
    "papermill": {
     "duration": 12.639865,
     "end_time": "2025-08-05T16:04:18.930277",
     "exception": false,
     "start_time": "2025-08-05T16:04:06.290412",
     "status": "completed"
    },
    "tags": []
   },
   "outputs": [
    {
     "name": "stdout",
     "output_type": "stream",
     "text": [
      "Loading SIAB data from cache: data/siab_cached.csv.gz\n"
     ]
    },
    {
     "name": "stdout",
     "output_type": "stream",
     "text": [
      "(643690, 164)\n"
     ]
    }
   ],
   "source": [
    "from pathlib import Path\n",
    "import pandas as pd\n",
    "\n",
    "# File paths\n",
    "raw_file = Path(\"data/raw/siab.csv\")\n",
    "cache_file = Path(\"data/siab_cached.csv.gz\")\n",
    "\n",
    "# Ensure cache directory exists\n",
    "cache_file.parent.mkdir(parents=True, exist_ok=True)\n",
    "\n",
    "# Load with simple caching\n",
    "if cache_file.exists():\n",
    "    print(f\"Loading SIAB data from cache: {cache_file}\")\n",
    "    siab = pd.read_csv(cache_file, compression='gzip')\n",
    "else:\n",
    "    print(f\"Cache not found. Reading raw SIAB data: {raw_file}\")\n",
    "    siab = pd.read_csv(raw_file)\n",
    "    siab.to_csv(cache_file, index=False, compression='gzip')\n",
    "    print(f\"Cached SIAB data to: {cache_file}\")\n",
    "\n",
    "print(siab.shape)"
   ]
  },
  {
   "cell_type": "code",
   "execution_count": 10,
   "id": "db0ca512-5f53-4dba-abdb-a2888bca41ba",
   "metadata": {
    "execution": {
     "iopub.execute_input": "2025-08-05T16:04:18.970039Z",
     "iopub.status.busy": "2025-08-05T16:04:18.969394Z",
     "iopub.status.idle": "2025-08-05T16:04:18.975774Z",
     "shell.execute_reply": "2025-08-05T16:04:18.974684Z"
    },
    "papermill": {
     "duration": 0.027171,
     "end_time": "2025-08-05T16:04:18.977731",
     "exception": false,
     "start_time": "2025-08-05T16:04:18.950560",
     "status": "completed"
    },
    "tags": []
   },
   "outputs": [],
   "source": [
    "#siab"
   ]
  },
  {
   "cell_type": "markdown",
   "id": "997051c5-15bd-4b69-9786-c3001a3ce484",
   "metadata": {
    "papermill": {
     "duration": 0.016963,
     "end_time": "2025-08-05T16:04:19.012833",
     "exception": false,
     "start_time": "2025-08-05T16:04:18.995870",
     "status": "completed"
    },
    "tags": []
   },
   "source": [
    "# Splitting Data and Setting Training Data Size"
   ]
  },
  {
   "cell_type": "code",
   "execution_count": 11,
   "id": "aea9c6ef-6f46-42c8-85eb-5a62025c1508",
   "metadata": {
    "execution": {
     "iopub.execute_input": "2025-08-05T16:04:19.049615Z",
     "iopub.status.busy": "2025-08-05T16:04:19.048699Z",
     "iopub.status.idle": "2025-08-05T16:04:19.227768Z",
     "shell.execute_reply": "2025-08-05T16:04:19.226705Z"
    },
    "papermill": {
     "duration": 0.200037,
     "end_time": "2025-08-05T16:04:19.229805",
     "exception": false,
     "start_time": "2025-08-05T16:04:19.029768",
     "status": "completed"
    },
    "tags": []
   },
   "outputs": [],
   "source": [
    "from fairness_multiverse.universe import sample_by_year_size\n",
    "\n",
    "siab_train = sample_by_year_size(siab,\n",
    "                               training_year=universe[\"training_year\"],\n",
    "                               training_size=universe[\"training_size\"])"
   ]
  },
  {
   "cell_type": "code",
   "execution_count": 12,
   "id": "8d3afb32-789d-442c-8d5d-9f5aa8dd2eed",
   "metadata": {
    "execution": {
     "iopub.execute_input": "2025-08-05T16:04:19.272636Z",
     "iopub.status.busy": "2025-08-05T16:04:19.271968Z",
     "iopub.status.idle": "2025-08-05T16:04:19.277221Z",
     "shell.execute_reply": "2025-08-05T16:04:19.276193Z"
    },
    "papermill": {
     "duration": 0.028659,
     "end_time": "2025-08-05T16:04:19.279174",
     "exception": false,
     "start_time": "2025-08-05T16:04:19.250515",
     "status": "completed"
    },
    "tags": []
   },
   "outputs": [],
   "source": [
    "#siab_train.shape"
   ]
  },
  {
   "cell_type": "code",
   "execution_count": 13,
   "id": "d582db68-1a4c-47fb-84fc-08518dc1975a",
   "metadata": {
    "execution": {
     "iopub.execute_input": "2025-08-05T16:04:19.322134Z",
     "iopub.status.busy": "2025-08-05T16:04:19.321194Z",
     "iopub.status.idle": "2025-08-05T16:04:19.327007Z",
     "shell.execute_reply": "2025-08-05T16:04:19.325954Z"
    },
    "papermill": {
     "duration": 0.029934,
     "end_time": "2025-08-05T16:04:19.329055",
     "exception": false,
     "start_time": "2025-08-05T16:04:19.299121",
     "status": "completed"
    },
    "tags": []
   },
   "outputs": [],
   "source": [
    "#display(siab_train.groupby(\"year\").size())"
   ]
  },
  {
   "cell_type": "code",
   "execution_count": 14,
   "id": "a561edb4-d032-42cb-8256-22eac1111c64",
   "metadata": {
    "execution": {
     "iopub.execute_input": "2025-08-05T16:04:19.371530Z",
     "iopub.status.busy": "2025-08-05T16:04:19.370812Z",
     "iopub.status.idle": "2025-08-05T16:04:19.625433Z",
     "shell.execute_reply": "2025-08-05T16:04:19.624346Z"
    },
    "papermill": {
     "duration": 0.277401,
     "end_time": "2025-08-05T16:04:19.627516",
     "exception": false,
     "start_time": "2025-08-05T16:04:19.350115",
     "status": "completed"
    },
    "tags": []
   },
   "outputs": [],
   "source": [
    "#siab_train = siab_s[siab_s.year < 2015]\n",
    "siab_calib = siab[siab.year == 2015]\n",
    "siab_test = siab[siab.year == 2016]"
   ]
  },
  {
   "cell_type": "code",
   "execution_count": 15,
   "id": "472de16f-c3db-4916-846b-1f0de9cf1746",
   "metadata": {
    "execution": {
     "iopub.execute_input": "2025-08-05T16:04:19.670034Z",
     "iopub.status.busy": "2025-08-05T16:04:19.669147Z",
     "iopub.status.idle": "2025-08-05T16:04:19.676520Z",
     "shell.execute_reply": "2025-08-05T16:04:19.675480Z"
    },
    "papermill": {
     "duration": 0.031103,
     "end_time": "2025-08-05T16:04:19.678481",
     "exception": false,
     "start_time": "2025-08-05T16:04:19.647378",
     "status": "completed"
    },
    "tags": []
   },
   "outputs": [],
   "source": [
    "X_train = siab_train.iloc[:,4:164]\n",
    "y_train = siab_train.iloc[:, [3]]"
   ]
  },
  {
   "cell_type": "code",
   "execution_count": 16,
   "id": "828c96af-f43a-4ed6-ba47-8ac73a47d56c",
   "metadata": {
    "execution": {
     "iopub.execute_input": "2025-08-05T16:04:19.721569Z",
     "iopub.status.busy": "2025-08-05T16:04:19.720621Z",
     "iopub.status.idle": "2025-08-05T16:04:19.774302Z",
     "shell.execute_reply": "2025-08-05T16:04:19.773133Z"
    },
    "papermill": {
     "duration": 0.076324,
     "end_time": "2025-08-05T16:04:19.776275",
     "exception": false,
     "start_time": "2025-08-05T16:04:19.699951",
     "status": "completed"
    },
    "tags": []
   },
   "outputs": [],
   "source": [
    "X_calib = siab_calib.iloc[:,4:164]\n",
    "y_calib = siab_calib.iloc[:, [3]]"
   ]
  },
  {
   "cell_type": "code",
   "execution_count": 17,
   "id": "c34be9c3-6bd6-476e-acd3-845840e303be",
   "metadata": {
    "execution": {
     "iopub.execute_input": "2025-08-05T16:04:19.814206Z",
     "iopub.status.busy": "2025-08-05T16:04:19.813234Z",
     "iopub.status.idle": "2025-08-05T16:04:19.866578Z",
     "shell.execute_reply": "2025-08-05T16:04:19.865354Z"
    },
    "papermill": {
     "duration": 0.074578,
     "end_time": "2025-08-05T16:04:19.868969",
     "exception": false,
     "start_time": "2025-08-05T16:04:19.794391",
     "status": "completed"
    },
    "tags": []
   },
   "outputs": [],
   "source": [
    "X_test = siab_test.iloc[:,4:164]\n",
    "y_true = siab_test.iloc[:, [3]]"
   ]
  },
  {
   "cell_type": "code",
   "execution_count": 18,
   "id": "e6c733c5",
   "metadata": {
    "execution": {
     "iopub.execute_input": "2025-08-05T16:04:19.912632Z",
     "iopub.status.busy": "2025-08-05T16:04:19.911876Z",
     "iopub.status.idle": "2025-08-05T16:04:20.019104Z",
     "shell.execute_reply": "2025-08-05T16:04:20.018099Z"
    },
    "papermill": {
     "duration": 0.13027,
     "end_time": "2025-08-05T16:04:20.021176",
     "exception": false,
     "start_time": "2025-08-05T16:04:19.890906",
     "status": "completed"
    },
    "tags": []
   },
   "outputs": [],
   "source": [
    "# Auxiliary data needed downstream in the pipeline\n",
    "\n",
    "org_train = X_train.copy()\n",
    "org_test = X_test.copy()\n",
    "org_calib = X_calib.copy()"
   ]
  },
  {
   "cell_type": "markdown",
   "id": "0a4a1b33",
   "metadata": {
    "papermill": {
     "duration": 0.017686,
     "end_time": "2025-08-05T16:04:20.060257",
     "exception": false,
     "start_time": "2025-08-05T16:04:20.042571",
     "status": "completed"
    },
    "tags": []
   },
   "source": [
    "# Preprocessing Data"
   ]
  },
  {
   "cell_type": "code",
   "execution_count": 19,
   "id": "ca879031",
   "metadata": {
    "execution": {
     "iopub.execute_input": "2025-08-05T16:04:20.098531Z",
     "iopub.status.busy": "2025-08-05T16:04:20.097501Z",
     "iopub.status.idle": "2025-08-05T16:04:20.104253Z",
     "shell.execute_reply": "2025-08-05T16:04:20.103194Z"
    },
    "papermill": {
     "duration": 0.027939,
     "end_time": "2025-08-05T16:04:20.106140",
     "exception": false,
     "start_time": "2025-08-05T16:04:20.078201",
     "status": "completed"
    },
    "tags": []
   },
   "outputs": [],
   "source": [
    "# EXCLUDE PROTECTED FEATURES\n",
    "# ----------------------\n",
    "# \"exclude_features\": \"none\", # \"nationality\", \"sex\", \"nationality-sex\"\n",
    "\n",
    "excluded_features = universe[\"exclude_features\"].split(\"-\") # split, e.g.: \"nationality-sex\" -> [\"nationality\", \"sex\"]\n",
    "excluded_features_dictionary = {\n",
    "    \"nationality\": [\"maxdeutsch1\", \"maxdeutsch.Missing.\"],\n",
    "    \"sex\": [\"frau1\"],\n",
    "    \"age\": [\"age\"],\n",
    "}"
   ]
  },
  {
   "cell_type": "code",
   "execution_count": 20,
   "id": "b745ac60",
   "metadata": {
    "execution": {
     "iopub.execute_input": "2025-08-05T16:04:20.145491Z",
     "iopub.status.busy": "2025-08-05T16:04:20.144888Z",
     "iopub.status.idle": "2025-08-05T16:04:20.150943Z",
     "shell.execute_reply": "2025-08-05T16:04:20.149983Z"
    },
    "papermill": {
     "duration": 0.027326,
     "end_time": "2025-08-05T16:04:20.152718",
     "exception": false,
     "start_time": "2025-08-05T16:04:20.125392",
     "status": "completed"
    },
    "tags": []
   },
   "outputs": [],
   "source": [
    "# Code nice names to column names\n",
    "\n",
    "excluded_features_columns = [\n",
    "    excluded_features_dictionary[f] for f in excluded_features if len(f) > 0 and f != \"none\"\n",
    "]"
   ]
  },
  {
   "cell_type": "code",
   "execution_count": 21,
   "id": "f84f73a2",
   "metadata": {
    "execution": {
     "iopub.execute_input": "2025-08-05T16:04:20.192164Z",
     "iopub.status.busy": "2025-08-05T16:04:20.191226Z",
     "iopub.status.idle": "2025-08-05T16:04:20.197943Z",
     "shell.execute_reply": "2025-08-05T16:04:20.196934Z"
    },
    "papermill": {
     "duration": 0.027972,
     "end_time": "2025-08-05T16:04:20.199652",
     "exception": false,
     "start_time": "2025-08-05T16:04:20.171680",
     "status": "completed"
    },
    "tags": []
   },
   "outputs": [],
   "source": [
    "from utils import flatten_once\n",
    "\n",
    "excluded_features_columns = flatten_once(excluded_features_columns)"
   ]
  },
  {
   "cell_type": "code",
   "execution_count": 22,
   "id": "884dea22",
   "metadata": {
    "execution": {
     "iopub.execute_input": "2025-08-05T16:04:20.237116Z",
     "iopub.status.busy": "2025-08-05T16:04:20.236207Z",
     "iopub.status.idle": "2025-08-05T16:04:20.246553Z",
     "shell.execute_reply": "2025-08-05T16:04:20.245437Z"
    },
    "papermill": {
     "duration": 0.030715,
     "end_time": "2025-08-05T16:04:20.248369",
     "exception": false,
     "start_time": "2025-08-05T16:04:20.217654",
     "status": "completed"
    },
    "tags": []
   },
   "outputs": [
    {
     "name": "stdout",
     "output_type": "stream",
     "text": [
      "Dropping features: ['age']\n"
     ]
    }
   ],
   "source": [
    "if len(excluded_features_columns) > 0:\n",
    "    print(f\"Dropping features: {excluded_features_columns}\")\n",
    "    X_train.drop(excluded_features_columns, axis=1, inplace=True)"
   ]
  },
  {
   "cell_type": "code",
   "execution_count": 23,
   "id": "95ab8b16",
   "metadata": {
    "execution": {
     "iopub.execute_input": "2025-08-05T16:04:20.289145Z",
     "iopub.status.busy": "2025-08-05T16:04:20.288218Z",
     "iopub.status.idle": "2025-08-05T16:04:20.348737Z",
     "shell.execute_reply": "2025-08-05T16:04:20.347538Z"
    },
    "papermill": {
     "duration": 0.082034,
     "end_time": "2025-08-05T16:04:20.350735",
     "exception": false,
     "start_time": "2025-08-05T16:04:20.268701",
     "status": "completed"
    },
    "tags": []
   },
   "outputs": [
    {
     "name": "stdout",
     "output_type": "stream",
     "text": [
      "Dropping features: ['age']\n"
     ]
    }
   ],
   "source": [
    "if len(excluded_features_columns) > 0:\n",
    "    print(f\"Dropping features: {excluded_features_columns}\")\n",
    "    X_test.drop(excluded_features_columns, axis=1, inplace=True)"
   ]
  },
  {
   "cell_type": "code",
   "execution_count": 24,
   "id": "1853aaf5-fb9f-46cb-a2b5-8ea4ae2237e4",
   "metadata": {
    "execution": {
     "iopub.execute_input": "2025-08-05T16:04:20.391480Z",
     "iopub.status.busy": "2025-08-05T16:04:20.390668Z",
     "iopub.status.idle": "2025-08-05T16:04:20.445243Z",
     "shell.execute_reply": "2025-08-05T16:04:20.444132Z"
    },
    "papermill": {
     "duration": 0.076649,
     "end_time": "2025-08-05T16:04:20.447297",
     "exception": false,
     "start_time": "2025-08-05T16:04:20.370648",
     "status": "completed"
    },
    "tags": []
   },
   "outputs": [
    {
     "name": "stdout",
     "output_type": "stream",
     "text": [
      "Dropping features: ['age']\n"
     ]
    }
   ],
   "source": [
    "if len(excluded_features_columns) > 0:\n",
    "    print(f\"Dropping features: {excluded_features_columns}\")\n",
    "    X_calib.drop(excluded_features_columns, axis=1, inplace=True)"
   ]
  },
  {
   "cell_type": "code",
   "execution_count": 25,
   "id": "76c4dc6d",
   "metadata": {
    "execution": {
     "iopub.execute_input": "2025-08-05T16:04:20.493819Z",
     "iopub.status.busy": "2025-08-05T16:04:20.493141Z",
     "iopub.status.idle": "2025-08-05T16:04:20.498756Z",
     "shell.execute_reply": "2025-08-05T16:04:20.497623Z"
    },
    "papermill": {
     "duration": 0.030478,
     "end_time": "2025-08-05T16:04:20.500518",
     "exception": false,
     "start_time": "2025-08-05T16:04:20.470040",
     "status": "completed"
    },
    "tags": []
   },
   "outputs": [],
   "source": [
    "# EXCLUDE CERTAIN SUBGROUPS\n",
    "# ----------------------\n",
    "\n",
    "mode = universe.get(\"exclude_subgroups\", \"keep-all\") \n",
    "# Fetches the exclude_subgroups setting from the universe dict.\n",
    "# Defaults to \"keep-all\" if the key is missing."
   ]
  },
  {
   "cell_type": "code",
   "execution_count": 26,
   "id": "21994072",
   "metadata": {
    "execution": {
     "iopub.execute_input": "2025-08-05T16:04:20.546549Z",
     "iopub.status.busy": "2025-08-05T16:04:20.545573Z",
     "iopub.status.idle": "2025-08-05T16:04:20.553043Z",
     "shell.execute_reply": "2025-08-05T16:04:20.551905Z"
    },
    "papermill": {
     "duration": 0.032898,
     "end_time": "2025-08-05T16:04:20.554962",
     "exception": false,
     "start_time": "2025-08-05T16:04:20.522064",
     "status": "completed"
    },
    "tags": []
   },
   "outputs": [],
   "source": [
    "if mode == \"keep-all\":\n",
    "    keep_mask = pd.Series(True, index=org_train.index)\n",
    "\n",
    "# org_train contains the original feature columns from features_org (in Simson)\n",
    "# features_org contains unprocessed features, for me X_train at beginning ???\n",
    "# For keep-all, creates a boolean Series (keep_mask) of all True, so no rows are removed.\n",
    "\n",
    "elif mode == \"drop-non-german\":\n",
    "    keep_mask = org_train[\"maxdeutsch1\"] == 1 # ??? what about missing values?\n",
    "\n",
    "else:\n",
    "    raise ValueError(f\"Unsupported mode for exclude_subgroups: {mode}\")"
   ]
  },
  {
   "cell_type": "code",
   "execution_count": 27,
   "id": "71651440",
   "metadata": {
    "execution": {
     "iopub.execute_input": "2025-08-05T16:04:20.599330Z",
     "iopub.status.busy": "2025-08-05T16:04:20.598290Z",
     "iopub.status.idle": "2025-08-05T16:04:20.605028Z",
     "shell.execute_reply": "2025-08-05T16:04:20.604023Z"
    },
    "papermill": {
     "duration": 0.030607,
     "end_time": "2025-08-05T16:04:20.607143",
     "exception": false,
     "start_time": "2025-08-05T16:04:20.576536",
     "status": "completed"
    },
    "tags": []
   },
   "outputs": [],
   "source": [
    "n_drop = (~keep_mask).sum() # Calculates how many rows are set to be dropped\n",
    "if n_drop > 0:\n",
    "    pct = n_drop / len(keep_mask) * 100\n",
    "    print(f\"Dropping {n_drop} rows ({pct:.2f}%) where mode='{mode}'\")"
   ]
  },
  {
   "cell_type": "code",
   "execution_count": 28,
   "id": "5fb8eee5",
   "metadata": {
    "execution": {
     "iopub.execute_input": "2025-08-05T16:04:20.652470Z",
     "iopub.status.busy": "2025-08-05T16:04:20.651577Z",
     "iopub.status.idle": "2025-08-05T16:04:20.658610Z",
     "shell.execute_reply": "2025-08-05T16:04:20.657484Z"
    },
    "papermill": {
     "duration": 0.030638,
     "end_time": "2025-08-05T16:04:20.660375",
     "exception": false,
     "start_time": "2025-08-05T16:04:20.629737",
     "status": "completed"
    },
    "tags": []
   },
   "outputs": [],
   "source": [
    "X_train = X_train[keep_mask]"
   ]
  },
  {
   "cell_type": "code",
   "execution_count": 29,
   "id": "b202bb3a",
   "metadata": {
    "execution": {
     "iopub.execute_input": "2025-08-05T16:04:20.701611Z",
     "iopub.status.busy": "2025-08-05T16:04:20.701114Z",
     "iopub.status.idle": "2025-08-05T16:04:20.707889Z",
     "shell.execute_reply": "2025-08-05T16:04:20.706799Z"
    },
    "papermill": {
     "duration": 0.029466,
     "end_time": "2025-08-05T16:04:20.709766",
     "exception": false,
     "start_time": "2025-08-05T16:04:20.680300",
     "status": "completed"
    },
    "tags": []
   },
   "outputs": [],
   "source": [
    "y_train = y_train[keep_mask]"
   ]
  },
  {
   "cell_type": "markdown",
   "id": "493e2ac3",
   "metadata": {
    "papermill": {
     "duration": 0.018661,
     "end_time": "2025-08-05T16:04:20.748426",
     "exception": false,
     "start_time": "2025-08-05T16:04:20.729765",
     "status": "completed"
    },
    "tags": []
   },
   "source": [
    "# Model Training"
   ]
  },
  {
   "cell_type": "code",
   "execution_count": 30,
   "id": "679e1268",
   "metadata": {
    "execution": {
     "iopub.execute_input": "2025-08-05T16:04:20.788418Z",
     "iopub.status.busy": "2025-08-05T16:04:20.787711Z",
     "iopub.status.idle": "2025-08-05T16:04:20.952901Z",
     "shell.execute_reply": "2025-08-05T16:04:20.951865Z"
    },
    "papermill": {
     "duration": 0.188261,
     "end_time": "2025-08-05T16:04:20.954868",
     "exception": false,
     "start_time": "2025-08-05T16:04:20.766607",
     "status": "completed"
    },
    "tags": []
   },
   "outputs": [],
   "source": [
    "from sklearn.linear_model import LogisticRegression\n",
    "from sklearn.ensemble import GradientBoostingClassifier, RandomForestClassifier\n",
    "\n",
    "if (universe[\"model\"] == \"logreg\"):\n",
    "    model = LogisticRegression() #penalty=\"none\", solver=\"newton-cg\", max_iter=1) # include random_state=19 ?\n",
    "elif (universe[\"model\"] == \"penalized_logreg\"):\n",
    "    model = LogisticRegression(penalty=\"l2\", C=0.1) #, solver=\"newton-cg\", max_iter=1)\n",
    "elif (universe[\"model\"] == \"rf\"):\n",
    "    model = RandomForestClassifier() # n_estimators=100, n_jobs=-1\n",
    "elif (universe[\"model\"] == \"gbm\"):\n",
    "    model = GradientBoostingClassifier()\n",
    "elif (universe[\"model\"] == \"elasticnet\"):\n",
    "    model = LogisticRegression(penalty = 'elasticnet', solver = 'saga', l1_ratio = 0.5) # max_iter=5000\n",
    "else:\n",
    "    raise \"Unsupported universe.model\""
   ]
  },
  {
   "cell_type": "code",
   "execution_count": 31,
   "id": "0cc8f744",
   "metadata": {
    "execution": {
     "iopub.execute_input": "2025-08-05T16:04:20.996566Z",
     "iopub.status.busy": "2025-08-05T16:04:20.995701Z",
     "iopub.status.idle": "2025-08-05T16:04:21.002518Z",
     "shell.execute_reply": "2025-08-05T16:04:21.001380Z"
    },
    "papermill": {
     "duration": 0.028934,
     "end_time": "2025-08-05T16:04:21.004467",
     "exception": false,
     "start_time": "2025-08-05T16:04:20.975533",
     "status": "completed"
    },
    "tags": []
   },
   "outputs": [],
   "source": [
    "import numpy as np\n",
    "from sklearn.pipeline import Pipeline\n",
    "from sklearn.preprocessing import StandardScaler\n",
    "\n",
    "model = Pipeline([\n",
    "    #(\"continuous_processor\", continuous_processor),\n",
    "    #(\"categorical_preprocessor\", categorical_preprocessor),\n",
    "    (\"scale\", StandardScaler() if universe[\"scale\"] == \"scale\" else None), \n",
    "    (\"model\", model),\n",
    "])"
   ]
  },
  {
   "cell_type": "code",
   "execution_count": 32,
   "id": "9442c04d",
   "metadata": {
    "execution": {
     "iopub.execute_input": "2025-08-05T16:04:21.052162Z",
     "iopub.status.busy": "2025-08-05T16:04:21.051232Z",
     "iopub.status.idle": "2025-08-05T16:04:21.105309Z",
     "shell.execute_reply": "2025-08-05T16:04:21.104326Z"
    },
    "papermill": {
     "duration": 0.080149,
     "end_time": "2025-08-05T16:04:21.107646",
     "exception": false,
     "start_time": "2025-08-05T16:04:21.027497",
     "status": "completed"
    },
    "tags": []
   },
   "outputs": [
    {
     "data": {
      "text/html": [
       "<style>#sk-container-id-1 {color: black;background-color: white;}#sk-container-id-1 pre{padding: 0;}#sk-container-id-1 div.sk-toggleable {background-color: white;}#sk-container-id-1 label.sk-toggleable__label {cursor: pointer;display: block;width: 100%;margin-bottom: 0;padding: 0.3em;box-sizing: border-box;text-align: center;}#sk-container-id-1 label.sk-toggleable__label-arrow:before {content: \"▸\";float: left;margin-right: 0.25em;color: #696969;}#sk-container-id-1 label.sk-toggleable__label-arrow:hover:before {color: black;}#sk-container-id-1 div.sk-estimator:hover label.sk-toggleable__label-arrow:before {color: black;}#sk-container-id-1 div.sk-toggleable__content {max-height: 0;max-width: 0;overflow: hidden;text-align: left;background-color: #f0f8ff;}#sk-container-id-1 div.sk-toggleable__content pre {margin: 0.2em;color: black;border-radius: 0.25em;background-color: #f0f8ff;}#sk-container-id-1 input.sk-toggleable__control:checked~div.sk-toggleable__content {max-height: 200px;max-width: 100%;overflow: auto;}#sk-container-id-1 input.sk-toggleable__control:checked~label.sk-toggleable__label-arrow:before {content: \"▾\";}#sk-container-id-1 div.sk-estimator input.sk-toggleable__control:checked~label.sk-toggleable__label {background-color: #d4ebff;}#sk-container-id-1 div.sk-label input.sk-toggleable__control:checked~label.sk-toggleable__label {background-color: #d4ebff;}#sk-container-id-1 input.sk-hidden--visually {border: 0;clip: rect(1px 1px 1px 1px);clip: rect(1px, 1px, 1px, 1px);height: 1px;margin: -1px;overflow: hidden;padding: 0;position: absolute;width: 1px;}#sk-container-id-1 div.sk-estimator {font-family: monospace;background-color: #f0f8ff;border: 1px dotted black;border-radius: 0.25em;box-sizing: border-box;margin-bottom: 0.5em;}#sk-container-id-1 div.sk-estimator:hover {background-color: #d4ebff;}#sk-container-id-1 div.sk-parallel-item::after {content: \"\";width: 100%;border-bottom: 1px solid gray;flex-grow: 1;}#sk-container-id-1 div.sk-label:hover label.sk-toggleable__label {background-color: #d4ebff;}#sk-container-id-1 div.sk-serial::before {content: \"\";position: absolute;border-left: 1px solid gray;box-sizing: border-box;top: 0;bottom: 0;left: 50%;z-index: 0;}#sk-container-id-1 div.sk-serial {display: flex;flex-direction: column;align-items: center;background-color: white;padding-right: 0.2em;padding-left: 0.2em;position: relative;}#sk-container-id-1 div.sk-item {position: relative;z-index: 1;}#sk-container-id-1 div.sk-parallel {display: flex;align-items: stretch;justify-content: center;background-color: white;position: relative;}#sk-container-id-1 div.sk-item::before, #sk-container-id-1 div.sk-parallel-item::before {content: \"\";position: absolute;border-left: 1px solid gray;box-sizing: border-box;top: 0;bottom: 0;left: 50%;z-index: -1;}#sk-container-id-1 div.sk-parallel-item {display: flex;flex-direction: column;z-index: 1;position: relative;background-color: white;}#sk-container-id-1 div.sk-parallel-item:first-child::after {align-self: flex-end;width: 50%;}#sk-container-id-1 div.sk-parallel-item:last-child::after {align-self: flex-start;width: 50%;}#sk-container-id-1 div.sk-parallel-item:only-child::after {width: 0;}#sk-container-id-1 div.sk-dashed-wrapped {border: 1px dashed gray;margin: 0 0.4em 0.5em 0.4em;box-sizing: border-box;padding-bottom: 0.4em;background-color: white;}#sk-container-id-1 div.sk-label label {font-family: monospace;font-weight: bold;display: inline-block;line-height: 1.2em;}#sk-container-id-1 div.sk-label-container {text-align: center;}#sk-container-id-1 div.sk-container {/* jupyter's `normalize.less` sets `[hidden] { display: none; }` but bootstrap.min.css set `[hidden] { display: none !important; }` so we also need the `!important` here to be able to override the default hidden behavior on the sphinx rendered scikit-learn.org. See: https://github.com/scikit-learn/scikit-learn/issues/21755 */display: inline-block !important;position: relative;}#sk-container-id-1 div.sk-text-repr-fallback {display: none;}</style><div id=\"sk-container-id-1\" class=\"sk-top-container\"><div class=\"sk-text-repr-fallback\"><pre>Pipeline(steps=[(&#x27;scale&#x27;, StandardScaler()),\n",
       "                (&#x27;model&#x27;, LogisticRegression(C=0.1))])</pre><b>In a Jupyter environment, please rerun this cell to show the HTML representation or trust the notebook. <br />On GitHub, the HTML representation is unable to render, please try loading this page with nbviewer.org.</b></div><div class=\"sk-container\" hidden><div class=\"sk-item sk-dashed-wrapped\"><div class=\"sk-label-container\"><div class=\"sk-label sk-toggleable\"><input class=\"sk-toggleable__control sk-hidden--visually\" id=\"sk-estimator-id-1\" type=\"checkbox\" ><label for=\"sk-estimator-id-1\" class=\"sk-toggleable__label sk-toggleable__label-arrow\">Pipeline</label><div class=\"sk-toggleable__content\"><pre>Pipeline(steps=[(&#x27;scale&#x27;, StandardScaler()),\n",
       "                (&#x27;model&#x27;, LogisticRegression(C=0.1))])</pre></div></div></div><div class=\"sk-serial\"><div class=\"sk-item\"><div class=\"sk-estimator sk-toggleable\"><input class=\"sk-toggleable__control sk-hidden--visually\" id=\"sk-estimator-id-2\" type=\"checkbox\" ><label for=\"sk-estimator-id-2\" class=\"sk-toggleable__label sk-toggleable__label-arrow\">StandardScaler</label><div class=\"sk-toggleable__content\"><pre>StandardScaler()</pre></div></div></div><div class=\"sk-item\"><div class=\"sk-estimator sk-toggleable\"><input class=\"sk-toggleable__control sk-hidden--visually\" id=\"sk-estimator-id-3\" type=\"checkbox\" ><label for=\"sk-estimator-id-3\" class=\"sk-toggleable__label sk-toggleable__label-arrow\">LogisticRegression</label><div class=\"sk-toggleable__content\"><pre>LogisticRegression(C=0.1)</pre></div></div></div></div></div></div></div>"
      ],
      "text/plain": [
       "Pipeline(steps=[('scale', StandardScaler()),\n",
       "                ('model', LogisticRegression(C=0.1))])"
      ]
     },
     "execution_count": 32,
     "metadata": {},
     "output_type": "execute_result"
    }
   ],
   "source": [
    "model.fit(X_train, y_train.values.ravel())"
   ]
  },
  {
   "cell_type": "code",
   "execution_count": 33,
   "id": "af59f8c0",
   "metadata": {
    "execution": {
     "iopub.execute_input": "2025-08-05T16:04:21.156008Z",
     "iopub.status.busy": "2025-08-05T16:04:21.155386Z",
     "iopub.status.idle": "2025-08-05T16:04:21.161261Z",
     "shell.execute_reply": "2025-08-05T16:04:21.160271Z"
    },
    "papermill": {
     "duration": 0.033132,
     "end_time": "2025-08-05T16:04:21.163329",
     "exception": false,
     "start_time": "2025-08-05T16:04:21.130197",
     "status": "completed"
    },
    "tags": []
   },
   "outputs": [],
   "source": [
    "from fairness_multiverse.universe import predict_w_threshold"
   ]
  },
  {
   "cell_type": "code",
   "execution_count": 34,
   "id": "a7cf2e16",
   "metadata": {
    "execution": {
     "iopub.execute_input": "2025-08-05T16:04:21.213224Z",
     "iopub.status.busy": "2025-08-05T16:04:21.212300Z",
     "iopub.status.idle": "2025-08-05T16:04:21.409376Z",
     "shell.execute_reply": "2025-08-05T16:04:21.408368Z"
    },
    "papermill": {
     "duration": 0.22413,
     "end_time": "2025-08-05T16:04:21.411396",
     "exception": false,
     "start_time": "2025-08-05T16:04:21.187266",
     "status": "completed"
    },
    "tags": []
   },
   "outputs": [
    {
     "data": {
      "text/plain": [
       "0.830208449448222"
      ]
     },
     "execution_count": 34,
     "metadata": {},
     "output_type": "execute_result"
    }
   ],
   "source": [
    "probs_test = model.predict_proba(X_test)\n",
    "\n",
    "'''\n",
    "Below code returns a boolean array (or binary 0/1 array depending on how it’s used) where each element \n",
    "is True if the probability of class 1 is greater than or equal to the threshold, and False otherwise.\n",
    "'''\n",
    "y_pred_default = predict_w_threshold(probs_test, 0.5)\n",
    "\n",
    "from sklearn.metrics import accuracy_score\n",
    "\n",
    "# Naive prediction\n",
    "accuracy_score(y_true = y_true, y_pred = y_pred_default)"
   ]
  },
  {
   "cell_type": "code",
   "execution_count": 35,
   "id": "081964c3",
   "metadata": {
    "execution": {
     "iopub.execute_input": "2025-08-05T16:04:21.452920Z",
     "iopub.status.busy": "2025-08-05T16:04:21.452108Z",
     "iopub.status.idle": "2025-08-05T16:04:21.635036Z",
     "shell.execute_reply": "2025-08-05T16:04:21.634077Z"
    },
    "papermill": {
     "duration": 0.204846,
     "end_time": "2025-08-05T16:04:21.636722",
     "exception": false,
     "start_time": "2025-08-05T16:04:21.431876",
     "status": "completed"
    },
    "tags": []
   },
   "outputs": [
    {
     "data": {
      "text/plain": [
       "array([0, 0, 0, ..., 0, 0, 0])"
      ]
     },
     "execution_count": 35,
     "metadata": {},
     "output_type": "execute_result"
    }
   ],
   "source": [
    "model.predict(X_test)"
   ]
  },
  {
   "cell_type": "markdown",
   "id": "56c9705b",
   "metadata": {
    "papermill": {
     "duration": 0.019779,
     "end_time": "2025-08-05T16:04:21.677221",
     "exception": false,
     "start_time": "2025-08-05T16:04:21.657442",
     "status": "completed"
    },
    "tags": []
   },
   "source": [
    "# Conformal Prediction"
   ]
  },
  {
   "cell_type": "code",
   "execution_count": 36,
   "id": "160ec6ff",
   "metadata": {
    "execution": {
     "iopub.execute_input": "2025-08-05T16:04:21.718201Z",
     "iopub.status.busy": "2025-08-05T16:04:21.717068Z",
     "iopub.status.idle": "2025-08-05T16:04:21.723120Z",
     "shell.execute_reply": "2025-08-05T16:04:21.721904Z"
    },
    "papermill": {
     "duration": 0.028515,
     "end_time": "2025-08-05T16:04:21.725066",
     "exception": false,
     "start_time": "2025-08-05T16:04:21.696551",
     "status": "completed"
    },
    "tags": []
   },
   "outputs": [],
   "source": [
    "# Miscoverage level for conformal prediction (10% allowed error rate => 90% target coverage)\n",
    "alpha = 0.1"
   ]
  },
  {
   "cell_type": "code",
   "execution_count": 37,
   "id": "eadf4555-3dd3-440e-8e35-f82a4ad9f855",
   "metadata": {
    "execution": {
     "iopub.execute_input": "2025-08-05T16:04:21.768594Z",
     "iopub.status.busy": "2025-08-05T16:04:21.767642Z",
     "iopub.status.idle": "2025-08-05T16:04:21.946436Z",
     "shell.execute_reply": "2025-08-05T16:04:21.945381Z"
    },
    "papermill": {
     "duration": 0.201972,
     "end_time": "2025-08-05T16:04:21.948586",
     "exception": false,
     "start_time": "2025-08-05T16:04:21.746614",
     "status": "completed"
    },
    "tags": []
   },
   "outputs": [],
   "source": [
    "probs_calib = model.predict_proba(X_calib)"
   ]
  },
  {
   "cell_type": "code",
   "execution_count": 38,
   "id": "2ed93547-6d5d-4983-9b36-1ecb300da49a",
   "metadata": {
    "execution": {
     "iopub.execute_input": "2025-08-05T16:04:21.997056Z",
     "iopub.status.busy": "2025-08-05T16:04:21.996081Z",
     "iopub.status.idle": "2025-08-05T16:04:22.002243Z",
     "shell.execute_reply": "2025-08-05T16:04:22.001141Z"
    },
    "papermill": {
     "duration": 0.033031,
     "end_time": "2025-08-05T16:04:22.004260",
     "exception": false,
     "start_time": "2025-08-05T16:04:21.971229",
     "status": "completed"
    },
    "tags": []
   },
   "outputs": [],
   "source": [
    "y_calib = y_calib.values.ravel().astype(int)"
   ]
  },
  {
   "cell_type": "code",
   "execution_count": 39,
   "id": "65d1320d-f588-4b38-9072-62af1ae97f7d",
   "metadata": {
    "execution": {
     "iopub.execute_input": "2025-08-05T16:04:22.053033Z",
     "iopub.status.busy": "2025-08-05T16:04:22.051965Z",
     "iopub.status.idle": "2025-08-05T16:04:22.059960Z",
     "shell.execute_reply": "2025-08-05T16:04:22.058798Z"
    },
    "papermill": {
     "duration": 0.034341,
     "end_time": "2025-08-05T16:04:22.062135",
     "exception": false,
     "start_time": "2025-08-05T16:04:22.027794",
     "status": "completed"
    },
    "tags": []
   },
   "outputs": [],
   "source": [
    "from fairness_multiverse.conformal import compute_nc_scores\n",
    "\n",
    "# Compute nonconformity scores on calibration set (1 - probability of true class)\n",
    "nc_scores = compute_nc_scores(probs_calib, y_calib)"
   ]
  },
  {
   "cell_type": "code",
   "execution_count": 40,
   "id": "df3b8ca3-53b7-43d5-9667-7c85da7aeda2",
   "metadata": {
    "execution": {
     "iopub.execute_input": "2025-08-05T16:04:22.109132Z",
     "iopub.status.busy": "2025-08-05T16:04:22.108647Z",
     "iopub.status.idle": "2025-08-05T16:04:22.115727Z",
     "shell.execute_reply": "2025-08-05T16:04:22.114781Z"
    },
    "papermill": {
     "duration": 0.032226,
     "end_time": "2025-08-05T16:04:22.117551",
     "exception": false,
     "start_time": "2025-08-05T16:04:22.085325",
     "status": "completed"
    },
    "tags": []
   },
   "outputs": [],
   "source": [
    "from fairness_multiverse.conformal import find_threshold\n",
    "\n",
    "# Find conformal threshold q_hat for the given alpha (split conformal method)\n",
    "q_hat = find_threshold(nc_scores, alpha)"
   ]
  },
  {
   "cell_type": "code",
   "execution_count": 41,
   "id": "4d29e6c1-0ef6-4aa4-b8fe-4fe79b0d033a",
   "metadata": {
    "execution": {
     "iopub.execute_input": "2025-08-05T16:04:22.165593Z",
     "iopub.status.busy": "2025-08-05T16:04:22.165109Z",
     "iopub.status.idle": "2025-08-05T16:04:22.173271Z",
     "shell.execute_reply": "2025-08-05T16:04:22.172227Z"
    },
    "papermill": {
     "duration": 0.033194,
     "end_time": "2025-08-05T16:04:22.175125",
     "exception": false,
     "start_time": "2025-08-05T16:04:22.141931",
     "status": "completed"
    },
    "tags": []
   },
   "outputs": [
    {
     "data": {
      "text/plain": [
       "0.7532069309382033"
      ]
     },
     "execution_count": 41,
     "metadata": {},
     "output_type": "execute_result"
    }
   ],
   "source": [
    "q_hat"
   ]
  },
  {
   "cell_type": "code",
   "execution_count": 42,
   "id": "92460794-cdac-4be2-ba28-f28c0515a6fb",
   "metadata": {
    "execution": {
     "iopub.execute_input": "2025-08-05T16:04:22.225258Z",
     "iopub.status.busy": "2025-08-05T16:04:22.224276Z",
     "iopub.status.idle": "2025-08-05T16:04:23.154252Z",
     "shell.execute_reply": "2025-08-05T16:04:23.152936Z"
    },
    "papermill": {
     "duration": 0.956815,
     "end_time": "2025-08-05T16:04:23.156888",
     "exception": false,
     "start_time": "2025-08-05T16:04:22.200073",
     "status": "completed"
    },
    "tags": []
   },
   "outputs": [],
   "source": [
    "from fairness_multiverse.conformal import predict_conformal_sets\n",
    "\n",
    "# Generate prediction sets for each test example\n",
    "pred_sets = predict_conformal_sets(model, X_test, q_hat)"
   ]
  },
  {
   "cell_type": "code",
   "execution_count": 43,
   "id": "d90c9a65-e6db-4f5d-80cd-e68fb7e46829",
   "metadata": {
    "execution": {
     "iopub.execute_input": "2025-08-05T16:04:23.227672Z",
     "iopub.status.busy": "2025-08-05T16:04:23.227247Z",
     "iopub.status.idle": "2025-08-05T16:04:23.234168Z",
     "shell.execute_reply": "2025-08-05T16:04:23.232753Z"
    },
    "papermill": {
     "duration": 0.044699,
     "end_time": "2025-08-05T16:04:23.236188",
     "exception": false,
     "start_time": "2025-08-05T16:04:23.191489",
     "status": "completed"
    },
    "tags": []
   },
   "outputs": [],
   "source": [
    "y_true = y_true.squeeze()"
   ]
  },
  {
   "cell_type": "code",
   "execution_count": 44,
   "id": "3a58a54a-1e68-46b9-927a-df01f18aebc8",
   "metadata": {
    "execution": {
     "iopub.execute_input": "2025-08-05T16:04:23.283244Z",
     "iopub.status.busy": "2025-08-05T16:04:23.282212Z",
     "iopub.status.idle": "2025-08-05T16:04:24.547496Z",
     "shell.execute_reply": "2025-08-05T16:04:24.546659Z"
    },
    "papermill": {
     "duration": 1.290137,
     "end_time": "2025-08-05T16:04:24.548985",
     "exception": false,
     "start_time": "2025-08-05T16:04:23.258848",
     "status": "completed"
    },
    "tags": []
   },
   "outputs": [],
   "source": [
    "from fairness_multiverse.conformal import evaluate_sets\n",
    "\n",
    "# Evaluate coverage and average set size on test data\n",
    "metrics = evaluate_sets(pred_sets, y_true)"
   ]
  },
  {
   "cell_type": "markdown",
   "id": "2b569c12-9aaa-4c88-98c9-bbcd0cf3ebb8",
   "metadata": {
    "papermill": {
     "duration": 0.013162,
     "end_time": "2025-08-05T16:04:24.578437",
     "exception": false,
     "start_time": "2025-08-05T16:04:24.565275",
     "status": "completed"
    },
    "tags": []
   },
   "source": [
    "# CP Metrics"
   ]
  },
  {
   "cell_type": "code",
   "execution_count": 45,
   "id": "5ce0a5cb-201f-45a0-ade5-94c7f0bd6095",
   "metadata": {
    "execution": {
     "iopub.execute_input": "2025-08-05T16:04:24.603049Z",
     "iopub.status.busy": "2025-08-05T16:04:24.602674Z",
     "iopub.status.idle": "2025-08-05T16:04:24.609053Z",
     "shell.execute_reply": "2025-08-05T16:04:24.608028Z"
    },
    "papermill": {
     "duration": 0.021656,
     "end_time": "2025-08-05T16:04:24.611583",
     "exception": false,
     "start_time": "2025-08-05T16:04:24.589927",
     "status": "completed"
    },
    "tags": []
   },
   "outputs": [
    {
     "data": {
      "text/plain": [
       "{'coverage': 0.9076357150819306, 'avg_size': 1.2045479879612084}"
      ]
     },
     "execution_count": 45,
     "metadata": {},
     "output_type": "execute_result"
    }
   ],
   "source": [
    "metrics"
   ]
  },
  {
   "cell_type": "code",
   "execution_count": 46,
   "id": "9b9a838d-31c9-430b-ae14-12baee460d17",
   "metadata": {
    "execution": {
     "iopub.execute_input": "2025-08-05T16:04:24.679815Z",
     "iopub.status.busy": "2025-08-05T16:04:24.679273Z",
     "iopub.status.idle": "2025-08-05T16:04:24.687181Z",
     "shell.execute_reply": "2025-08-05T16:04:24.685760Z"
    },
    "papermill": {
     "duration": 0.044758,
     "end_time": "2025-08-05T16:04:24.689360",
     "exception": false,
     "start_time": "2025-08-05T16:04:24.644602",
     "status": "completed"
    },
    "tags": []
   },
   "outputs": [],
   "source": [
    "example_universe = universe.copy()\n",
    "universe_training_year = example_universe.get(\"training_year\")\n",
    "universe_training_size = example_universe.get(\"training_size\")\n",
    "universe_scale = example_universe.get(\"scale\")\n",
    "universe_model = example_universe.get(\"model\")\n",
    "universe_exclude_features = example_universe.get(\"exclude_features\")\n",
    "universe_exclude_subgroups = example_universe.get(\"exclude_subgroups\")"
   ]
  },
  {
   "cell_type": "code",
   "execution_count": 47,
   "id": "f4b6a8ac-9dc0-4245-8a91-5b3b5999c4f9",
   "metadata": {
    "execution": {
     "iopub.execute_input": "2025-08-05T16:04:24.759440Z",
     "iopub.status.busy": "2025-08-05T16:04:24.758903Z",
     "iopub.status.idle": "2025-08-05T16:04:24.767236Z",
     "shell.execute_reply": "2025-08-05T16:04:24.765946Z"
    },
    "papermill": {
     "duration": 0.04559,
     "end_time": "2025-08-05T16:04:24.769428",
     "exception": false,
     "start_time": "2025-08-05T16:04:24.723838",
     "status": "completed"
    },
    "tags": []
   },
   "outputs": [],
   "source": [
    "cp_metrics_dict = {\n",
    "    \"universe_id\": [universe_id],\n",
    "    \"universe_training_year\": [universe_training_year],\n",
    "    \"universe_training_size\": [universe_training_size],\n",
    "    \"universe_scale\": [universe_scale],\n",
    "    \"universe_model\": [universe_model],\n",
    "    \"universe_exclude_features\": [universe_exclude_features],\n",
    "    \"universe_exclude_subgroups\": [universe_exclude_subgroups],\n",
    "    \"q_hat\": [q_hat],\n",
    "    \"coverage\": [metrics[\"coverage\"]],\n",
    "    \"avg_size\": [metrics[\"avg_size\"]],\n",
    "}"
   ]
  },
  {
   "cell_type": "code",
   "execution_count": 48,
   "id": "908acbb1-0371-4915-85ca-3fa520d2efe2",
   "metadata": {
    "execution": {
     "iopub.execute_input": "2025-08-05T16:04:24.829263Z",
     "iopub.status.busy": "2025-08-05T16:04:24.828832Z",
     "iopub.status.idle": "2025-08-05T16:04:24.836059Z",
     "shell.execute_reply": "2025-08-05T16:04:24.835133Z"
    },
    "papermill": {
     "duration": 0.034168,
     "end_time": "2025-08-05T16:04:24.837491",
     "exception": false,
     "start_time": "2025-08-05T16:04:24.803323",
     "status": "completed"
    },
    "tags": []
   },
   "outputs": [
    {
     "data": {
      "text/plain": [
       "{'universe_id': ['6e1b383e2c05f954844ac8ca6da401ee'],\n",
       " 'universe_training_year': ['2014'],\n",
       " 'universe_training_size': ['1k'],\n",
       " 'universe_scale': ['scale'],\n",
       " 'universe_model': ['penalized_logreg'],\n",
       " 'universe_exclude_features': ['age'],\n",
       " 'universe_exclude_subgroups': ['keep-all'],\n",
       " 'q_hat': [0.7532069309382033],\n",
       " 'coverage': [0.9076357150819306],\n",
       " 'avg_size': [1.2045479879612084]}"
      ]
     },
     "execution_count": 48,
     "metadata": {},
     "output_type": "execute_result"
    }
   ],
   "source": [
    "cp_metrics_dict"
   ]
  },
  {
   "cell_type": "code",
   "execution_count": 49,
   "id": "33007efc-14e9-4ec6-97ac-56a455c82265",
   "metadata": {
    "execution": {
     "iopub.execute_input": "2025-08-05T16:04:24.886648Z",
     "iopub.status.busy": "2025-08-05T16:04:24.885742Z",
     "iopub.status.idle": "2025-08-05T16:04:24.893480Z",
     "shell.execute_reply": "2025-08-05T16:04:24.892226Z"
    },
    "papermill": {
     "duration": 0.038558,
     "end_time": "2025-08-05T16:04:24.895416",
     "exception": false,
     "start_time": "2025-08-05T16:04:24.856858",
     "status": "completed"
    },
    "tags": []
   },
   "outputs": [],
   "source": [
    "cp_metrics_df = pd.DataFrame(cp_metrics_dict)"
   ]
  },
  {
   "cell_type": "code",
   "execution_count": 50,
   "id": "db12611b-57b2-4910-b9d0-355adfd6e7bf",
   "metadata": {
    "execution": {
     "iopub.execute_input": "2025-08-05T16:04:24.941678Z",
     "iopub.status.busy": "2025-08-05T16:04:24.940591Z",
     "iopub.status.idle": "2025-08-05T16:04:24.964923Z",
     "shell.execute_reply": "2025-08-05T16:04:24.963878Z"
    },
    "papermill": {
     "duration": 0.048578,
     "end_time": "2025-08-05T16:04:24.966658",
     "exception": false,
     "start_time": "2025-08-05T16:04:24.918080",
     "status": "completed"
    },
    "tags": []
   },
   "outputs": [
    {
     "data": {
      "text/html": [
       "<div>\n",
       "<style scoped>\n",
       "    .dataframe tbody tr th:only-of-type {\n",
       "        vertical-align: middle;\n",
       "    }\n",
       "\n",
       "    .dataframe tbody tr th {\n",
       "        vertical-align: top;\n",
       "    }\n",
       "\n",
       "    .dataframe thead th {\n",
       "        text-align: right;\n",
       "    }\n",
       "</style>\n",
       "<table border=\"1\" class=\"dataframe\">\n",
       "  <thead>\n",
       "    <tr style=\"text-align: right;\">\n",
       "      <th></th>\n",
       "      <th>universe_id</th>\n",
       "      <th>universe_training_year</th>\n",
       "      <th>universe_training_size</th>\n",
       "      <th>universe_scale</th>\n",
       "      <th>universe_model</th>\n",
       "      <th>universe_exclude_features</th>\n",
       "      <th>universe_exclude_subgroups</th>\n",
       "      <th>q_hat</th>\n",
       "      <th>coverage</th>\n",
       "      <th>avg_size</th>\n",
       "    </tr>\n",
       "  </thead>\n",
       "  <tbody>\n",
       "    <tr>\n",
       "      <th>0</th>\n",
       "      <td>6e1b383e2c05f954844ac8ca6da401ee</td>\n",
       "      <td>2014</td>\n",
       "      <td>1k</td>\n",
       "      <td>scale</td>\n",
       "      <td>penalized_logreg</td>\n",
       "      <td>age</td>\n",
       "      <td>keep-all</td>\n",
       "      <td>0.753207</td>\n",
       "      <td>0.907636</td>\n",
       "      <td>1.204548</td>\n",
       "    </tr>\n",
       "  </tbody>\n",
       "</table>\n",
       "</div>"
      ],
      "text/plain": [
       "                        universe_id universe_training_year  \\\n",
       "0  6e1b383e2c05f954844ac8ca6da401ee                   2014   \n",
       "\n",
       "  universe_training_size universe_scale    universe_model  \\\n",
       "0                     1k          scale  penalized_logreg   \n",
       "\n",
       "  universe_exclude_features universe_exclude_subgroups     q_hat  coverage  \\\n",
       "0                       age                   keep-all  0.753207  0.907636   \n",
       "\n",
       "   avg_size  \n",
       "0  1.204548  "
      ]
     },
     "execution_count": 50,
     "metadata": {},
     "output_type": "execute_result"
    }
   ],
   "source": [
    "cp_metrics_df"
   ]
  },
  {
   "cell_type": "code",
   "execution_count": 51,
   "id": "b7fbde55-a0a1-47e4-9af6-fe4a17fa8c61",
   "metadata": {
    "execution": {
     "iopub.execute_input": "2025-08-05T16:04:25.013782Z",
     "iopub.status.busy": "2025-08-05T16:04:25.013173Z",
     "iopub.status.idle": "2025-08-05T16:04:25.018626Z",
     "shell.execute_reply": "2025-08-05T16:04:25.017405Z"
    },
    "papermill": {
     "duration": 0.031408,
     "end_time": "2025-08-05T16:04:25.020631",
     "exception": false,
     "start_time": "2025-08-05T16:04:24.989223",
     "status": "completed"
    },
    "tags": []
   },
   "outputs": [],
   "source": [
    "# Conditional Coverage & looking at subgroups"
   ]
  },
  {
   "cell_type": "code",
   "execution_count": 52,
   "id": "027ae886-68dd-4141-96c7-805a5450e1ef",
   "metadata": {
    "execution": {
     "iopub.execute_input": "2025-08-05T16:04:25.067596Z",
     "iopub.status.busy": "2025-08-05T16:04:25.066977Z",
     "iopub.status.idle": "2025-08-05T16:04:25.324889Z",
     "shell.execute_reply": "2025-08-05T16:04:25.324070Z"
    },
    "papermill": {
     "duration": 0.283391,
     "end_time": "2025-08-05T16:04:25.326570",
     "exception": false,
     "start_time": "2025-08-05T16:04:25.043179",
     "status": "completed"
    },
    "tags": []
   },
   "outputs": [],
   "source": [
    "from fairness_multiverse.conformal import build_cp_groups\n",
    "\n",
    "cp_groups_df = build_cp_groups(pred_sets, y_true, X_test.index, org_test)\n",
    "#needs universe_id and setting"
   ]
  },
  {
   "cell_type": "code",
   "execution_count": 53,
   "id": "6cbdab96-b2b2-45af-ad54-d0516db2e28d",
   "metadata": {
    "execution": {
     "iopub.execute_input": "2025-08-05T16:04:25.384456Z",
     "iopub.status.busy": "2025-08-05T16:04:25.383971Z",
     "iopub.status.idle": "2025-08-05T16:04:26.955853Z",
     "shell.execute_reply": "2025-08-05T16:04:26.955032Z"
    },
    "papermill": {
     "duration": 1.595082,
     "end_time": "2025-08-05T16:04:26.957352",
     "exception": false,
     "start_time": "2025-08-05T16:04:25.362270",
     "status": "completed"
    },
    "tags": []
   },
   "outputs": [],
   "source": [
    "# Define covered = 1 if true_label is in the predicted set\n",
    "cp_groups_df['covered'] = cp_groups_df.apply(\n",
    "    lambda r: int(r['true_label'] in r['pred_set']),\n",
    "    axis=1\n",
    ")"
   ]
  },
  {
   "cell_type": "code",
   "execution_count": 54,
   "id": "338ff529-1a6b-4b87-a931-8e4788d52aad",
   "metadata": {
    "execution": {
     "iopub.execute_input": "2025-08-05T16:04:26.985119Z",
     "iopub.status.busy": "2025-08-05T16:04:26.984441Z",
     "iopub.status.idle": "2025-08-05T16:04:26.990892Z",
     "shell.execute_reply": "2025-08-05T16:04:26.990007Z"
    },
    "papermill": {
     "duration": 0.022062,
     "end_time": "2025-08-05T16:04:26.992378",
     "exception": false,
     "start_time": "2025-08-05T16:04:26.970316",
     "status": "completed"
    },
    "tags": []
   },
   "outputs": [],
   "source": [
    "#cp_groups_df"
   ]
  },
  {
   "cell_type": "code",
   "execution_count": 55,
   "id": "90032e27-66df-4540-9169-4e89cfbaa758",
   "metadata": {
    "execution": {
     "iopub.execute_input": "2025-08-05T16:04:27.019956Z",
     "iopub.status.busy": "2025-08-05T16:04:27.019368Z",
     "iopub.status.idle": "2025-08-05T16:04:27.032485Z",
     "shell.execute_reply": "2025-08-05T16:04:27.031257Z"
    },
    "papermill": {
     "duration": 0.029382,
     "end_time": "2025-08-05T16:04:27.034947",
     "exception": false,
     "start_time": "2025-08-05T16:04:27.005565",
     "status": "completed"
    },
    "tags": []
   },
   "outputs": [],
   "source": [
    "subgroups = ['frau1','nongerman','nongerman_male','nongerman_female']\n",
    "\n",
    "# Conditional coverage for subgroup==1\n",
    "cond_coverage = {\n",
    "    g: cp_groups_df.loc[cp_groups_df[g]==1, 'covered'].mean()\n",
    "    for g in subgroups\n",
    "}"
   ]
  },
  {
   "cell_type": "code",
   "execution_count": 56,
   "id": "1e348fb1-b9c3-45bc-ba23-f016827a7e0d",
   "metadata": {
    "execution": {
     "iopub.execute_input": "2025-08-05T16:04:27.103129Z",
     "iopub.status.busy": "2025-08-05T16:04:27.102068Z",
     "iopub.status.idle": "2025-08-05T16:04:27.112012Z",
     "shell.execute_reply": "2025-08-05T16:04:27.110758Z"
    },
    "papermill": {
     "duration": 0.046724,
     "end_time": "2025-08-05T16:04:27.114527",
     "exception": false,
     "start_time": "2025-08-05T16:04:27.067803",
     "status": "completed"
    },
    "tags": []
   },
   "outputs": [
    {
     "data": {
      "text/plain": [
       "{'frau1': 0.9032214584175765,\n",
       " 'nongerman': 0.9055184415876045,\n",
       " 'nongerman_male': 0.9241646401873368,\n",
       " 'nongerman_female': 0.8746646795827123}"
      ]
     },
     "execution_count": 56,
     "metadata": {},
     "output_type": "execute_result"
    }
   ],
   "source": [
    "cond_coverage"
   ]
  },
  {
   "cell_type": "code",
   "execution_count": 57,
   "id": "f5093324-c3dd-4d63-bc4c-8d945e5c8bbb",
   "metadata": {
    "execution": {
     "iopub.execute_input": "2025-08-05T16:04:27.160273Z",
     "iopub.status.busy": "2025-08-05T16:04:27.159598Z",
     "iopub.status.idle": "2025-08-05T16:04:27.166889Z",
     "shell.execute_reply": "2025-08-05T16:04:27.165834Z"
    },
    "papermill": {
     "duration": 0.030881,
     "end_time": "2025-08-05T16:04:27.168569",
     "exception": false,
     "start_time": "2025-08-05T16:04:27.137688",
     "status": "completed"
    },
    "tags": []
   },
   "outputs": [],
   "source": [
    "for subgroup, cov in cond_coverage.items():\n",
    "    cp_metrics_df[f\"cov_{subgroup}\"] = cov"
   ]
  },
  {
   "cell_type": "code",
   "execution_count": 58,
   "id": "6e872e10-dbe5-49e8-b554-5030c98ff75d",
   "metadata": {
    "execution": {
     "iopub.execute_input": "2025-08-05T16:04:27.213949Z",
     "iopub.status.busy": "2025-08-05T16:04:27.212966Z",
     "iopub.status.idle": "2025-08-05T16:04:27.236520Z",
     "shell.execute_reply": "2025-08-05T16:04:27.235251Z"
    },
    "papermill": {
     "duration": 0.048504,
     "end_time": "2025-08-05T16:04:27.238321",
     "exception": false,
     "start_time": "2025-08-05T16:04:27.189817",
     "status": "completed"
    },
    "tags": []
   },
   "outputs": [
    {
     "data": {
      "text/html": [
       "<div>\n",
       "<style scoped>\n",
       "    .dataframe tbody tr th:only-of-type {\n",
       "        vertical-align: middle;\n",
       "    }\n",
       "\n",
       "    .dataframe tbody tr th {\n",
       "        vertical-align: top;\n",
       "    }\n",
       "\n",
       "    .dataframe thead th {\n",
       "        text-align: right;\n",
       "    }\n",
       "</style>\n",
       "<table border=\"1\" class=\"dataframe\">\n",
       "  <thead>\n",
       "    <tr style=\"text-align: right;\">\n",
       "      <th></th>\n",
       "      <th>universe_id</th>\n",
       "      <th>universe_training_year</th>\n",
       "      <th>universe_training_size</th>\n",
       "      <th>universe_scale</th>\n",
       "      <th>universe_model</th>\n",
       "      <th>universe_exclude_features</th>\n",
       "      <th>universe_exclude_subgroups</th>\n",
       "      <th>q_hat</th>\n",
       "      <th>coverage</th>\n",
       "      <th>avg_size</th>\n",
       "      <th>cov_frau1</th>\n",
       "      <th>cov_nongerman</th>\n",
       "      <th>cov_nongerman_male</th>\n",
       "      <th>cov_nongerman_female</th>\n",
       "    </tr>\n",
       "  </thead>\n",
       "  <tbody>\n",
       "    <tr>\n",
       "      <th>0</th>\n",
       "      <td>6e1b383e2c05f954844ac8ca6da401ee</td>\n",
       "      <td>2014</td>\n",
       "      <td>1k</td>\n",
       "      <td>scale</td>\n",
       "      <td>penalized_logreg</td>\n",
       "      <td>age</td>\n",
       "      <td>keep-all</td>\n",
       "      <td>0.753207</td>\n",
       "      <td>0.907636</td>\n",
       "      <td>1.204548</td>\n",
       "      <td>0.903221</td>\n",
       "      <td>0.905518</td>\n",
       "      <td>0.924165</td>\n",
       "      <td>0.874665</td>\n",
       "    </tr>\n",
       "  </tbody>\n",
       "</table>\n",
       "</div>"
      ],
      "text/plain": [
       "                        universe_id universe_training_year  \\\n",
       "0  6e1b383e2c05f954844ac8ca6da401ee                   2014   \n",
       "\n",
       "  universe_training_size universe_scale    universe_model  \\\n",
       "0                     1k          scale  penalized_logreg   \n",
       "\n",
       "  universe_exclude_features universe_exclude_subgroups     q_hat  coverage  \\\n",
       "0                       age                   keep-all  0.753207  0.907636   \n",
       "\n",
       "   avg_size  cov_frau1  cov_nongerman  cov_nongerman_male  \\\n",
       "0  1.204548   0.903221       0.905518            0.924165   \n",
       "\n",
       "   cov_nongerman_female  \n",
       "0              0.874665  "
      ]
     },
     "execution_count": 58,
     "metadata": {},
     "output_type": "execute_result"
    }
   ],
   "source": [
    "cp_metrics_df"
   ]
  },
  {
   "cell_type": "markdown",
   "id": "33774451",
   "metadata": {
    "papermill": {
     "duration": 0.02236,
     "end_time": "2025-08-05T16:04:27.282934",
     "exception": false,
     "start_time": "2025-08-05T16:04:27.260574",
     "status": "completed"
    },
    "tags": []
   },
   "source": [
    "# (Fairness) Metrics"
   ]
  },
  {
   "cell_type": "code",
   "execution_count": 59,
   "id": "debc5d62",
   "metadata": {
    "execution": {
     "iopub.execute_input": "2025-08-05T16:04:27.322163Z",
     "iopub.status.busy": "2025-08-05T16:04:27.321730Z",
     "iopub.status.idle": "2025-08-05T16:04:27.338068Z",
     "shell.execute_reply": "2025-08-05T16:04:27.336605Z"
    },
    "papermill": {
     "duration": 0.033986,
     "end_time": "2025-08-05T16:04:27.339931",
     "exception": false,
     "start_time": "2025-08-05T16:04:27.305945",
     "status": "completed"
    },
    "tags": []
   },
   "outputs": [],
   "source": [
    "# do I need to include maxdeutsch1.missing?\n",
    "\n",
    "import numpy as np\n",
    "\n",
    "colname_to_bin = \"maxdeutsch1\"\n",
    "majority_value = org_train[colname_to_bin].mode()[0]\n",
    "\n",
    "org_test[\"majmin\"] = np.where(org_test[colname_to_bin] == majority_value, \"majority\", \"minority\")"
   ]
  },
  {
   "cell_type": "code",
   "execution_count": 60,
   "id": "06a50de5",
   "metadata": {
    "execution": {
     "iopub.execute_input": "2025-08-05T16:04:27.398171Z",
     "iopub.status.busy": "2025-08-05T16:04:27.397764Z",
     "iopub.status.idle": "2025-08-05T16:04:30.168377Z",
     "shell.execute_reply": "2025-08-05T16:04:30.167389Z"
    },
    "papermill": {
     "duration": 2.81044,
     "end_time": "2025-08-05T16:04:30.170285",
     "exception": false,
     "start_time": "2025-08-05T16:04:27.359845",
     "status": "completed"
    },
    "tags": []
   },
   "outputs": [],
   "source": [
    "example_universe = universe.copy()\n",
    "example_universe[\"cutoff\"] = example_universe[\"cutoff\"][0]\n",
    "example_universe[\"eval_fairness_grouping\"] = example_universe[\"eval_fairness_grouping\"][0]\n",
    "fairness_dict, metric_frame = universe_analysis.compute_metrics(\n",
    "    example_universe,\n",
    "    y_pred_prob=probs_test,\n",
    "    y_test=y_true,\n",
    "    org_test=org_test,\n",
    ")"
   ]
  },
  {
   "cell_type": "markdown",
   "id": "f95d4e02",
   "metadata": {
    "papermill": {
     "duration": 0.021541,
     "end_time": "2025-08-05T16:04:30.215385",
     "exception": false,
     "start_time": "2025-08-05T16:04:30.193844",
     "status": "completed"
    },
    "tags": []
   },
   "source": [
    "# Overall"
   ]
  },
  {
   "cell_type": "markdown",
   "id": "bdee4871",
   "metadata": {
    "papermill": {
     "duration": 0.0211,
     "end_time": "2025-08-05T16:04:30.257771",
     "exception": false,
     "start_time": "2025-08-05T16:04:30.236671",
     "status": "completed"
    },
    "tags": []
   },
   "source": [
    "Fairness\n",
    "Main fairness target: Equalized Odds. Seems to be a better fit than equal opportunity, since we're not only interested in Y = 1. Seems to be a better fit than demographic parity, since we also care about accuracy, not just equal distribution of preds.\n",
    "\n",
    "Pick column for computation of fairness metrics\n",
    "\n",
    "Performance\n",
    "Overall performance measures, most interesting in relation to the measures split by group below"
   ]
  },
  {
   "cell_type": "code",
   "execution_count": 61,
   "id": "c4e067c6",
   "metadata": {
    "execution": {
     "iopub.execute_input": "2025-08-05T16:04:30.301576Z",
     "iopub.status.busy": "2025-08-05T16:04:30.301127Z",
     "iopub.status.idle": "2025-08-05T16:04:30.309808Z",
     "shell.execute_reply": "2025-08-05T16:04:30.308979Z"
    },
    "papermill": {
     "duration": 0.032846,
     "end_time": "2025-08-05T16:04:30.311360",
     "exception": false,
     "start_time": "2025-08-05T16:04:30.278514",
     "status": "completed"
    },
    "tags": []
   },
   "outputs": [
    {
     "data": {
      "text/plain": [
       "accuracy                   0.219541\n",
       "balanced accuracy          0.537820\n",
       "f1                         0.241005\n",
       "precision                  0.137678\n",
       "false positive rate        0.890297\n",
       "false negative rate        0.034063\n",
       "selection rate             0.900000\n",
       "count                  89710.000000\n",
       "dtype: float64"
      ]
     },
     "execution_count": 61,
     "metadata": {},
     "output_type": "execute_result"
    }
   ],
   "source": [
    "metric_frame.overall"
   ]
  },
  {
   "cell_type": "markdown",
   "id": "e968fe9d",
   "metadata": {
    "papermill": {
     "duration": 0.021176,
     "end_time": "2025-08-05T16:04:30.355102",
     "exception": false,
     "start_time": "2025-08-05T16:04:30.333926",
     "status": "completed"
    },
    "tags": []
   },
   "source": [
    "By Group"
   ]
  },
  {
   "cell_type": "code",
   "execution_count": 62,
   "id": "ec325bce",
   "metadata": {
    "execution": {
     "iopub.execute_input": "2025-08-05T16:04:30.398548Z",
     "iopub.status.busy": "2025-08-05T16:04:30.398058Z",
     "iopub.status.idle": "2025-08-05T16:04:30.415418Z",
     "shell.execute_reply": "2025-08-05T16:04:30.414286Z"
    },
    "papermill": {
     "duration": 0.040519,
     "end_time": "2025-08-05T16:04:30.417442",
     "exception": false,
     "start_time": "2025-08-05T16:04:30.376923",
     "status": "completed"
    },
    "tags": []
   },
   "outputs": [
    {
     "data": {
      "text/html": [
       "<div>\n",
       "<style scoped>\n",
       "    .dataframe tbody tr th:only-of-type {\n",
       "        vertical-align: middle;\n",
       "    }\n",
       "\n",
       "    .dataframe tbody tr th {\n",
       "        vertical-align: top;\n",
       "    }\n",
       "\n",
       "    .dataframe thead th {\n",
       "        text-align: right;\n",
       "    }\n",
       "</style>\n",
       "<table border=\"1\" class=\"dataframe\">\n",
       "  <thead>\n",
       "    <tr style=\"text-align: right;\">\n",
       "      <th></th>\n",
       "      <th>accuracy</th>\n",
       "      <th>balanced accuracy</th>\n",
       "      <th>f1</th>\n",
       "      <th>precision</th>\n",
       "      <th>false positive rate</th>\n",
       "      <th>false negative rate</th>\n",
       "      <th>selection rate</th>\n",
       "      <th>count</th>\n",
       "    </tr>\n",
       "    <tr>\n",
       "      <th>majmin</th>\n",
       "      <th></th>\n",
       "      <th></th>\n",
       "      <th></th>\n",
       "      <th></th>\n",
       "      <th></th>\n",
       "      <th></th>\n",
       "      <th></th>\n",
       "      <th></th>\n",
       "    </tr>\n",
       "  </thead>\n",
       "  <tbody>\n",
       "    <tr>\n",
       "      <th>majority</th>\n",
       "      <td>0.238456</td>\n",
       "      <td>0.545578</td>\n",
       "      <td>0.250484</td>\n",
       "      <td>0.143965</td>\n",
       "      <td>0.871864</td>\n",
       "      <td>0.036980</td>\n",
       "      <td>0.883909</td>\n",
       "      <td>69170.0</td>\n",
       "    </tr>\n",
       "    <tr>\n",
       "      <th>minority</th>\n",
       "      <td>0.155842</td>\n",
       "      <td>0.513004</td>\n",
       "      <td>0.210680</td>\n",
       "      <td>0.118067</td>\n",
       "      <td>0.951189</td>\n",
       "      <td>0.022804</td>\n",
       "      <td>0.954187</td>\n",
       "      <td>20540.0</td>\n",
       "    </tr>\n",
       "  </tbody>\n",
       "</table>\n",
       "</div>"
      ],
      "text/plain": [
       "          accuracy  balanced accuracy        f1  precision  \\\n",
       "majmin                                                       \n",
       "majority  0.238456           0.545578  0.250484   0.143965   \n",
       "minority  0.155842           0.513004  0.210680   0.118067   \n",
       "\n",
       "          false positive rate  false negative rate  selection rate    count  \n",
       "majmin                                                                       \n",
       "majority             0.871864             0.036980        0.883909  69170.0  \n",
       "minority             0.951189             0.022804        0.954187  20540.0  "
      ]
     },
     "execution_count": 62,
     "metadata": {},
     "output_type": "execute_result"
    }
   ],
   "source": [
    "metric_frame.by_group"
   ]
  },
  {
   "cell_type": "code",
   "execution_count": 63,
   "id": "a9ddbe63",
   "metadata": {
    "execution": {
     "iopub.execute_input": "2025-08-05T16:04:30.465443Z",
     "iopub.status.busy": "2025-08-05T16:04:30.464996Z",
     "iopub.status.idle": "2025-08-05T16:04:32.992954Z",
     "shell.execute_reply": "2025-08-05T16:04:32.992004Z"
    },
    "papermill": {
     "duration": 2.555125,
     "end_time": "2025-08-05T16:04:32.994851",
     "exception": false,
     "start_time": "2025-08-05T16:04:30.439726",
     "status": "completed"
    },
    "tags": []
   },
   "outputs": [
    {
     "data": {
      "text/plain": [
       "array([[<Axes: title={'center': 'accuracy'}, xlabel='majmin'>,\n",
       "        <Axes: title={'center': 'balanced accuracy'}, xlabel='majmin'>,\n",
       "        <Axes: title={'center': 'f1'}, xlabel='majmin'>],\n",
       "       [<Axes: title={'center': 'precision'}, xlabel='majmin'>,\n",
       "        <Axes: title={'center': 'false positive rate'}, xlabel='majmin'>,\n",
       "        <Axes: title={'center': 'false negative rate'}, xlabel='majmin'>],\n",
       "       [<Axes: title={'center': 'selection rate'}, xlabel='majmin'>,\n",
       "        <Axes: title={'center': 'count'}, xlabel='majmin'>,\n",
       "        <Axes: xlabel='majmin'>]], dtype=object)"
      ]
     },
     "execution_count": 63,
     "metadata": {},
     "output_type": "execute_result"
    },
    {
     "data": {
      "image/png": "[encoded data removed]",
      "text/plain": [
       "<Figure size 1200x800 with 9 Axes>"
      ]
     },
     "metadata": {},
     "output_type": "display_data"
    }
   ],
   "source": [
    "# In a graphic\n",
    "metric_frame.by_group.plot.bar(\n",
    "    subplots=True,\n",
    "    layout=[3, 3],\n",
    "    legend=False,\n",
    "    figsize=[12, 8],\n",
    "    title=\"Show all metrics\",\n",
    ")"
   ]
  },
  {
   "cell_type": "markdown",
   "id": "f57a0bac",
   "metadata": {
    "papermill": {
     "duration": 0.022041,
     "end_time": "2025-08-05T16:04:33.042477",
     "exception": false,
     "start_time": "2025-08-05T16:04:33.020436",
     "status": "completed"
    },
    "tags": []
   },
   "source": [
    "# Final Output"
   ]
  },
  {
   "cell_type": "code",
   "execution_count": 64,
   "id": "96d280a3",
   "metadata": {
    "execution": {
     "iopub.execute_input": "2025-08-05T16:04:33.089334Z",
     "iopub.status.busy": "2025-08-05T16:04:33.088625Z",
     "iopub.status.idle": "2025-08-05T16:04:33.097028Z",
     "shell.execute_reply": "2025-08-05T16:04:33.095971Z"
    },
    "papermill": {
     "duration": 0.0338,
     "end_time": "2025-08-05T16:04:33.098634",
     "exception": false,
     "start_time": "2025-08-05T16:04:33.064834",
     "status": "completed"
    },
    "tags": []
   },
   "outputs": [
    {
     "data": {
      "text/plain": [
       "4"
      ]
     },
     "execution_count": 64,
     "metadata": {},
     "output_type": "execute_result"
    }
   ],
   "source": [
    "sub_universes = universe_analysis.generate_sub_universes()\n",
    "len(sub_universes)"
   ]
  },
  {
   "cell_type": "code",
   "execution_count": 65,
   "id": "92adf7ba",
   "metadata": {
    "execution": {
     "iopub.execute_input": "2025-08-05T16:04:33.154756Z",
     "iopub.status.busy": "2025-08-05T16:04:33.154181Z",
     "iopub.status.idle": "2025-08-05T16:04:33.160265Z",
     "shell.execute_reply": "2025-08-05T16:04:33.158996Z"
    },
    "papermill": {
     "duration": 0.035691,
     "end_time": "2025-08-05T16:04:33.161835",
     "exception": false,
     "start_time": "2025-08-05T16:04:33.126144",
     "status": "completed"
    },
    "tags": []
   },
   "outputs": [],
   "source": [
    "def filter_sub_universe_data(sub_universe, org_test):\n",
    "    # Keep all rows — no filtering\n",
    "    keep_rows_mask = np.ones(org_test.shape[0], dtype=bool)\n",
    "\n",
    "    print(f\"[INFO] Keeping all rows: {keep_rows_mask.sum()} rows retained.\")\n",
    "    return keep_rows_mask"
   ]
  },
  {
   "cell_type": "code",
   "execution_count": 66,
   "id": "4a759155",
   "metadata": {
    "execution": {
     "iopub.execute_input": "2025-08-05T16:04:33.191393Z",
     "iopub.status.busy": "2025-08-05T16:04:33.190617Z",
     "iopub.status.idle": "2025-08-05T16:04:42.756570Z",
     "shell.execute_reply": "2025-08-05T16:04:42.755800Z"
    },
    "papermill": {
     "duration": 9.581776,
     "end_time": "2025-08-05T16:04:42.758007",
     "exception": false,
     "start_time": "2025-08-05T16:04:33.176231",
     "status": "completed"
    },
    "tags": []
   },
   "outputs": [
    {
     "name": "stdout",
     "output_type": "stream",
     "text": [
      "Stopping execution_time clock.\n",
      "[INFO] Keeping all rows: 89710 rows retained.\n"
     ]
    },
    {
     "name": "stdout",
     "output_type": "stream",
     "text": [
      "[INFO] Keeping all rows: 89710 rows retained.\n"
     ]
    },
    {
     "name": "stdout",
     "output_type": "stream",
     "text": [
      "[INFO] Keeping all rows: 89710 rows retained.\n"
     ]
    },
    {
     "name": "stdout",
     "output_type": "stream",
     "text": [
      "[INFO] Keeping all rows: 89710 rows retained.\n"
     ]
    },
    {
     "data": {
      "text/html": [
       "<div>\n",
       "<style scoped>\n",
       "    .dataframe tbody tr th:only-of-type {\n",
       "        vertical-align: middle;\n",
       "    }\n",
       "\n",
       "    .dataframe tbody tr th {\n",
       "        vertical-align: top;\n",
       "    }\n",
       "\n",
       "    .dataframe thead th {\n",
       "        text-align: right;\n",
       "    }\n",
       "</style>\n",
       "<table border=\"1\" class=\"dataframe\">\n",
       "  <thead>\n",
       "    <tr style=\"text-align: right;\">\n",
       "      <th></th>\n",
       "      <th>run_no</th>\n",
       "      <th>universe_id</th>\n",
       "      <th>universe_settings</th>\n",
       "      <th>execution_time</th>\n",
       "      <th>test_size_n</th>\n",
       "      <th>test_size_frac</th>\n",
       "      <th>fair_main_equalized_odds_difference</th>\n",
       "      <th>fair_main_equalized_odds_ratio</th>\n",
       "      <th>fair_main_demographic_parity_difference</th>\n",
       "      <th>fair_main_demographic_parity_ratio</th>\n",
       "      <th>...</th>\n",
       "      <th>perf_grp_precision_0</th>\n",
       "      <th>perf_grp_precision_1</th>\n",
       "      <th>perf_grp_false positive rate_0</th>\n",
       "      <th>perf_grp_false positive rate_1</th>\n",
       "      <th>perf_grp_false negative rate_0</th>\n",
       "      <th>perf_grp_false negative rate_1</th>\n",
       "      <th>perf_grp_selection rate_0</th>\n",
       "      <th>perf_grp_selection rate_1</th>\n",
       "      <th>perf_grp_count_0</th>\n",
       "      <th>perf_grp_count_1</th>\n",
       "    </tr>\n",
       "  </thead>\n",
       "  <tbody>\n",
       "    <tr>\n",
       "      <th>0</th>\n",
       "      <td>15</td>\n",
       "      <td>6e1b383e2c05f954844ac8ca6da401ee</td>\n",
       "      <td>{\"cutoff\": \"quantile_0.1\", \"eval_fairness_grou...</td>\n",
       "      <td>27.003595</td>\n",
       "      <td>89710</td>\n",
       "      <td>1.0</td>\n",
       "      <td>0.079325</td>\n",
       "      <td>0.916605</td>\n",
       "      <td>0.070278</td>\n",
       "      <td>0.926348</td>\n",
       "      <td>...</td>\n",
       "      <td>NaN</td>\n",
       "      <td>NaN</td>\n",
       "      <td>NaN</td>\n",
       "      <td>NaN</td>\n",
       "      <td>NaN</td>\n",
       "      <td>NaN</td>\n",
       "      <td>NaN</td>\n",
       "      <td>NaN</td>\n",
       "      <td>NaN</td>\n",
       "      <td>NaN</td>\n",
       "    </tr>\n",
       "    <tr>\n",
       "      <th>0</th>\n",
       "      <td>15</td>\n",
       "      <td>6e1b383e2c05f954844ac8ca6da401ee</td>\n",
       "      <td>{\"cutoff\": \"quantile_0.1\", \"eval_fairness_grou...</td>\n",
       "      <td>27.003595</td>\n",
       "      <td>89710</td>\n",
       "      <td>1.0</td>\n",
       "      <td>0.079325</td>\n",
       "      <td>0.916605</td>\n",
       "      <td>0.070278</td>\n",
       "      <td>0.926348</td>\n",
       "      <td>...</td>\n",
       "      <td>0.118067</td>\n",
       "      <td>0.143965</td>\n",
       "      <td>0.951189</td>\n",
       "      <td>0.871864</td>\n",
       "      <td>0.022804</td>\n",
       "      <td>0.036980</td>\n",
       "      <td>0.954187</td>\n",
       "      <td>0.883909</td>\n",
       "      <td>20540.0</td>\n",
       "      <td>69170.0</td>\n",
       "    </tr>\n",
       "    <tr>\n",
       "      <th>0</th>\n",
       "      <td>15</td>\n",
       "      <td>6e1b383e2c05f954844ac8ca6da401ee</td>\n",
       "      <td>{\"cutoff\": \"quantile_0.25\", \"eval_fairness_gro...</td>\n",
       "      <td>27.003595</td>\n",
       "      <td>89710</td>\n",
       "      <td>1.0</td>\n",
       "      <td>0.100081</td>\n",
       "      <td>0.875790</td>\n",
       "      <td>0.087649</td>\n",
       "      <td>0.892794</td>\n",
       "      <td>...</td>\n",
       "      <td>NaN</td>\n",
       "      <td>NaN</td>\n",
       "      <td>NaN</td>\n",
       "      <td>NaN</td>\n",
       "      <td>NaN</td>\n",
       "      <td>NaN</td>\n",
       "      <td>NaN</td>\n",
       "      <td>NaN</td>\n",
       "      <td>NaN</td>\n",
       "      <td>NaN</td>\n",
       "    </tr>\n",
       "    <tr>\n",
       "      <th>0</th>\n",
       "      <td>15</td>\n",
       "      <td>6e1b383e2c05f954844ac8ca6da401ee</td>\n",
       "      <td>{\"cutoff\": \"quantile_0.25\", \"eval_fairness_gro...</td>\n",
       "      <td>27.003595</td>\n",
       "      <td>89710</td>\n",
       "      <td>1.0</td>\n",
       "      <td>0.100081</td>\n",
       "      <td>0.875790</td>\n",
       "      <td>0.087649</td>\n",
       "      <td>0.892794</td>\n",
       "      <td>...</td>\n",
       "      <td>0.128089</td>\n",
       "      <td>0.160986</td>\n",
       "      <td>0.805745</td>\n",
       "      <td>0.705664</td>\n",
       "      <td>0.091639</td>\n",
       "      <td>0.110722</td>\n",
       "      <td>0.817575</td>\n",
       "      <td>0.729926</td>\n",
       "      <td>20540.0</td>\n",
       "      <td>69170.0</td>\n",
       "    </tr>\n",
       "  </tbody>\n",
       "</table>\n",
       "<p>4 rows × 50 columns</p>\n",
       "</div>"
      ],
      "text/plain": [
       "  run_no                       universe_id  \\\n",
       "0     15  6e1b383e2c05f954844ac8ca6da401ee   \n",
       "0     15  6e1b383e2c05f954844ac8ca6da401ee   \n",
       "0     15  6e1b383e2c05f954844ac8ca6da401ee   \n",
       "0     15  6e1b383e2c05f954844ac8ca6da401ee   \n",
       "\n",
       "                                   universe_settings  execution_time  \\\n",
       "0  {\"cutoff\": \"quantile_0.1\", \"eval_fairness_grou...       27.003595   \n",
       "0  {\"cutoff\": \"quantile_0.1\", \"eval_fairness_grou...       27.003595   \n",
       "0  {\"cutoff\": \"quantile_0.25\", \"eval_fairness_gro...       27.003595   \n",
       "0  {\"cutoff\": \"quantile_0.25\", \"eval_fairness_gro...       27.003595   \n",
       "\n",
       "   test_size_n  test_size_frac  fair_main_equalized_odds_difference  \\\n",
       "0        89710             1.0                             0.079325   \n",
       "0        89710             1.0                             0.079325   \n",
       "0        89710             1.0                             0.100081   \n",
       "0        89710             1.0                             0.100081   \n",
       "\n",
       "   fair_main_equalized_odds_ratio  fair_main_demographic_parity_difference  \\\n",
       "0                        0.916605                                 0.070278   \n",
       "0                        0.916605                                 0.070278   \n",
       "0                        0.875790                                 0.087649   \n",
       "0                        0.875790                                 0.087649   \n",
       "\n",
       "   fair_main_demographic_parity_ratio  ...  perf_grp_precision_0  \\\n",
       "0                            0.926348  ...                   NaN   \n",
       "0                            0.926348  ...              0.118067   \n",
       "0                            0.892794  ...                   NaN   \n",
       "0                            0.892794  ...              0.128089   \n",
       "\n",
       "   perf_grp_precision_1  perf_grp_false positive rate_0  \\\n",
       "0                   NaN                             NaN   \n",
       "0              0.143965                        0.951189   \n",
       "0                   NaN                             NaN   \n",
       "0              0.160986                        0.805745   \n",
       "\n",
       "   perf_grp_false positive rate_1  perf_grp_false negative rate_0  \\\n",
       "0                             NaN                             NaN   \n",
       "0                        0.871864                        0.022804   \n",
       "0                             NaN                             NaN   \n",
       "0                        0.705664                        0.091639   \n",
       "\n",
       "   perf_grp_false negative rate_1  perf_grp_selection rate_0  \\\n",
       "0                             NaN                        NaN   \n",
       "0                        0.036980                   0.954187   \n",
       "0                             NaN                        NaN   \n",
       "0                        0.110722                   0.817575   \n",
       "\n",
       "   perf_grp_selection rate_1  perf_grp_count_0  perf_grp_count_1  \n",
       "0                        NaN               NaN               NaN  \n",
       "0                   0.883909           20540.0           69170.0  \n",
       "0                        NaN               NaN               NaN  \n",
       "0                   0.729926           20540.0           69170.0  \n",
       "\n",
       "[4 rows x 50 columns]"
      ]
     },
     "execution_count": 66,
     "metadata": {},
     "output_type": "execute_result"
    }
   ],
   "source": [
    "final_output = universe_analysis.generate_final_output(\n",
    "    y_pred_prob=probs_test,\n",
    "    y_test=y_true,\n",
    "    org_test=org_test,\n",
    "    filter_data=filter_sub_universe_data,\n",
    "    cp_metrics_df=cp_metrics_df,\n",
    "    save=True,\n",
    ")\n",
    "final_output"
   ]
  }
 ],
 "metadata": {
  "celltoolbar": "Tags",
  "kernelspec": {
   "display_name": "Python (CMA Fairness)",
   "language": "python",
   "name": "cma_fair_env"
  },
  "language_info": {
   "codemirror_mode": {
    "name": "ipython",
    "version": 3
   },
   "file_extension": ".py",
   "mimetype": "text/x-python",
   "name": "python",
   "nbconvert_exporter": "python",
   "pygments_lexer": "ipython3",
   "version": "3.10.12"
  },
  "papermill": {
   "default_parameters": {},
   "duration": 41.125475,
   "end_time": "2025-08-05T16:04:43.694673",
   "environment_variables": {},
   "exception": null,
   "input_path": "universe_analysis.ipynb",
   "output_path": "output/runs/15/notebooks/m_15-6e1b383e2c05f954844ac8ca6da401ee.ipynb",
   "parameters": {
    "output_dir": "output",
    "run_no": "15",
    "seed": "2023",
    "universe": "{\"cutoff\": [\"quantile_0.1\", \"quantile_0.25\"], \"eval_fairness_grouping\": [\"majority-minority\", \"nationality-all\"], \"exclude_features\": \"age\", \"exclude_subgroups\": \"keep-all\", \"model\": \"penalized_logreg\", \"scale\": \"scale\", \"training_size\": \"1k\", \"training_year\": \"2014\"}",
    "universe_id": "6e1b383e2c05f954844ac8ca6da401ee"
   },
   "start_time": "2025-08-05T16:04:02.569198",
   "version": "2.6.0"
  }
 },
 "nbformat": 4,
 "nbformat_minor": 5
}