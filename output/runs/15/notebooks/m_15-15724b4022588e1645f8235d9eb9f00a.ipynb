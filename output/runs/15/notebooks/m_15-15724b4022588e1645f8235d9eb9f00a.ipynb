{
 "cells": [
  {
   "cell_type": "code",
   "execution_count": 1,
   "id": "f159f837-637b-42ba-96b5-ec9a68c44524",
   "metadata": {
    "execution": {
     "iopub.execute_input": "2025-08-05T15:37:23.865545Z",
     "iopub.status.busy": "2025-08-05T15:37:23.864617Z",
     "iopub.status.idle": "2025-08-05T15:37:23.878279Z",
     "shell.execute_reply": "2025-08-05T15:37:23.877344Z"
    },
    "papermill": {
     "duration": 0.031619,
     "end_time": "2025-08-05T15:37:23.879913",
     "exception": false,
     "start_time": "2025-08-05T15:37:23.848294",
     "status": "completed"
    },
    "tags": []
   },
   "outputs": [
    {
     "name": "stdout",
     "output_type": "stream",
     "text": [
      "/dss/dsshome1/0C/ra93lal2/cma/CMA_Fairness_v2\n"
     ]
    },
    {
     "name": "stderr",
     "output_type": "stream",
     "text": [
      "/dss/dsshome1/0C/ra93lal2/.local/share/virtualenvs/CMA_Fairness_v2-3j10GkSs/lib/python3.10/site-packages/IPython/core/magics/osm.py:393: UserWarning: This is now an optional IPython functionality, using bookmarks requires you to install the `pickleshare` library.\n",
      "  bkms = self.shell.db.get('bookmarks', {})\n",
      "/dss/dsshome1/0C/ra93lal2/.local/share/virtualenvs/CMA_Fairness_v2-3j10GkSs/lib/python3.10/site-packages/IPython/core/magics/osm.py:417: UserWarning: This is now an optional IPython functionality, setting dhist requires you to install the `pickleshare` library.\n",
      "  self.shell.db['dhist'] = compress_dhist(dhist)[-100:]\n"
     ]
    }
   ],
   "source": [
    "%cd ~/cma/CMA_Fairness_v2"
   ]
  },
  {
   "cell_type": "markdown",
   "id": "de2603b9",
   "metadata": {
    "papermill": {
     "duration": 0.015122,
     "end_time": "2025-08-05T15:37:23.911274",
     "exception": false,
     "start_time": "2025-08-05T15:37:23.896152",
     "status": "completed"
    },
    "tags": []
   },
   "source": [
    "The following cell holds the definition of our parameters, these values can be overriden by rendering the with e.g. the following command:\n",
    "\n",
    "papermill -p alpha 0.2 -p ratio 0.3 universe_analysis.ipynb output/test_run.ipynb"
   ]
  },
  {
   "cell_type": "code",
   "execution_count": 2,
   "id": "a80968a0-40bb-4fa9-85ef-2d5eefb01975",
   "metadata": {
    "execution": {
     "iopub.execute_input": "2025-08-05T15:37:23.945805Z",
     "iopub.status.busy": "2025-08-05T15:37:23.945341Z",
     "iopub.status.idle": "2025-08-05T15:37:23.951147Z",
     "shell.execute_reply": "2025-08-05T15:37:23.950173Z"
    },
    "papermill": {
     "duration": 0.026757,
     "end_time": "2025-08-05T15:37:23.952749",
     "exception": false,
     "start_time": "2025-08-05T15:37:23.925992",
     "status": "completed"
    },
    "tags": []
   },
   "outputs": [
    {
     "name": "stdout",
     "output_type": "stream",
     "text": [
      "Current working directory: /dss/dsshome1/0C/ra93lal2/cma/CMA_Fairness_v2\n"
     ]
    }
   ],
   "source": [
    "import os\n",
    "print(\"Current working directory:\", os.getcwd())"
   ]
  },
  {
   "cell_type": "code",
   "execution_count": 3,
   "id": "2dce4c03",
   "metadata": {
    "execution": {
     "iopub.execute_input": "2025-08-05T15:37:24.030643Z",
     "iopub.status.busy": "2025-08-05T15:37:24.029794Z",
     "iopub.status.idle": "2025-08-05T15:37:24.036017Z",
     "shell.execute_reply": "2025-08-05T15:37:24.035051Z"
    },
    "papermill": {
     "duration": 0.023544,
     "end_time": "2025-08-05T15:37:24.037842",
     "exception": false,
     "start_time": "2025-08-05T15:37:24.014298",
     "status": "completed"
    },
    "tags": [
     "parameters"
    ]
   },
   "outputs": [],
   "source": [
    "run_no = 0\n",
    "universe_id = \"test\"\n",
    "universe = {\n",
    "    \"training_size\": \"25k\", # \"25k\", \"5k\", \"1k\"\n",
    "    \"training_year\": \"2014\", # \"2014\", \"2012_14\", \"2010_14\"\n",
    "    \"scale\": \"scale\", # \"scale\", \"do-not-scale\",\n",
    "    \"model\": \"elasticnet\", # \"logreg\", \"penalized_logreg\", \"rf\", \"gbm\", \"elasticnet\"\n",
    "    \"cutoff\": [\"quantile_0.15\", \"quantile_0.30\"],\n",
    "    \"exclude_features\": \"age\", # \"none\", \"nationality\", \"sex\", \"nationality-sex\", \"age\"\n",
    "    \"exclude_subgroups\": \"keep-all\", # \"keep-all\", \"drop-non-german\"\n",
    "    \"eval_fairness_grouping\": [\"majority-minority\", \"nationality-all\"]\n",
    "}\n",
    "\n",
    "output_dir=\"./output\"\n",
    "seed=0"
   ]
  },
  {
   "cell_type": "code",
   "execution_count": 4,
   "id": "dda0e668",
   "metadata": {
    "execution": {
     "iopub.execute_input": "2025-08-05T15:37:24.070324Z",
     "iopub.status.busy": "2025-08-05T15:37:24.069881Z",
     "iopub.status.idle": "2025-08-05T15:37:24.074814Z",
     "shell.execute_reply": "2025-08-05T15:37:24.073860Z"
    },
    "papermill": {
     "duration": 0.023025,
     "end_time": "2025-08-05T15:37:24.076453",
     "exception": false,
     "start_time": "2025-08-05T15:37:24.053428",
     "status": "completed"
    },
    "tags": [
     "injected-parameters"
    ]
   },
   "outputs": [],
   "source": [
    "# Parameters\n",
    "universe_id = \"15724b4022588e1645f8235d9eb9f00a\"\n",
    "run_no = \"15\"\n",
    "universe = \"{\\\"cutoff\\\": [\\\"quantile_0.1\\\", \\\"quantile_0.25\\\"], \\\"eval_fairness_grouping\\\": [\\\"majority-minority\\\", \\\"nationality-all\\\"], \\\"exclude_features\\\": \\\"age\\\", \\\"exclude_subgroups\\\": \\\"keep-all\\\", \\\"model\\\": \\\"rf\\\", \\\"scale\\\": \\\"scale\\\", \\\"training_size\\\": \\\"5k\\\", \\\"training_year\\\": \\\"2012_14\\\"}\"\n",
    "output_dir = \"output\"\n",
    "seed = \"2023\"\n"
   ]
  },
  {
   "cell_type": "code",
   "execution_count": 5,
   "id": "1650acaf",
   "metadata": {
    "execution": {
     "iopub.execute_input": "2025-08-05T15:37:24.108753Z",
     "iopub.status.busy": "2025-08-05T15:37:24.107910Z",
     "iopub.status.idle": "2025-08-05T15:37:24.112804Z",
     "shell.execute_reply": "2025-08-05T15:37:24.111858Z"
    },
    "papermill": {
     "duration": 0.022423,
     "end_time": "2025-08-05T15:37:24.114601",
     "exception": false,
     "start_time": "2025-08-05T15:37:24.092178",
     "status": "completed"
    },
    "tags": []
   },
   "outputs": [],
   "source": [
    "import json\n",
    "if isinstance(universe, str):\n",
    "    universe = json.loads(universe)"
   ]
  },
  {
   "cell_type": "code",
   "execution_count": 6,
   "id": "16620c48",
   "metadata": {
    "execution": {
     "iopub.execute_input": "2025-08-05T15:37:24.147863Z",
     "iopub.status.busy": "2025-08-05T15:37:24.147400Z",
     "iopub.status.idle": "2025-08-05T15:37:24.187123Z",
     "shell.execute_reply": "2025-08-05T15:37:24.186174Z"
    },
    "papermill": {
     "duration": 0.057688,
     "end_time": "2025-08-05T15:37:24.189107",
     "exception": false,
     "start_time": "2025-08-05T15:37:24.131419",
     "status": "completed"
    },
    "tags": []
   },
   "outputs": [],
   "source": [
    "# Auto-reload the custom package\n",
    "%load_ext autoreload\n",
    "%autoreload 1\n",
    "%aimport fairness_multiverse"
   ]
  },
  {
   "cell_type": "code",
   "execution_count": 7,
   "id": "01c5c9f3",
   "metadata": {
    "execution": {
     "iopub.execute_input": "2025-08-05T15:37:24.226791Z",
     "iopub.status.busy": "2025-08-05T15:37:24.226309Z",
     "iopub.status.idle": "2025-08-05T15:37:26.196469Z",
     "shell.execute_reply": "2025-08-05T15:37:26.195520Z"
    },
    "papermill": {
     "duration": 1.993732,
     "end_time": "2025-08-05T15:37:26.198293",
     "exception": false,
     "start_time": "2025-08-05T15:37:24.204561",
     "status": "completed"
    },
    "tags": []
   },
   "outputs": [],
   "source": [
    "from fairness_multiverse.universe import UniverseAnalysis\n",
    "\n",
    "universe_analysis = UniverseAnalysis(\n",
    "    run_no = run_no,\n",
    "    universe_id = universe_id,\n",
    "    universe = universe,\n",
    "    output_dir=output_dir,\n",
    ")"
   ]
  },
  {
   "cell_type": "code",
   "execution_count": 8,
   "id": "106241f5",
   "metadata": {
    "execution": {
     "iopub.execute_input": "2025-08-05T15:37:26.232535Z",
     "iopub.status.busy": "2025-08-05T15:37:26.231867Z",
     "iopub.status.idle": "2025-08-05T15:37:26.238221Z",
     "shell.execute_reply": "2025-08-05T15:37:26.237195Z"
    },
    "papermill": {
     "duration": 0.025355,
     "end_time": "2025-08-05T15:37:26.239973",
     "exception": false,
     "start_time": "2025-08-05T15:37:26.214618",
     "status": "completed"
    },
    "tags": []
   },
   "outputs": [
    {
     "name": "stdout",
     "output_type": "stream",
     "text": [
      "Using Seed: 2023\n"
     ]
    }
   ],
   "source": [
    "import numpy as np\n",
    "parsed_seed = int(seed)\n",
    "np.random.seed(parsed_seed)\n",
    "print(f\"Using Seed: {parsed_seed}\")"
   ]
  },
  {
   "cell_type": "markdown",
   "id": "e0ebdc57",
   "metadata": {
    "papermill": {
     "duration": 0.017028,
     "end_time": "2025-08-05T15:37:26.274109",
     "exception": false,
     "start_time": "2025-08-05T15:37:26.257081",
     "status": "completed"
    },
    "tags": []
   },
   "source": [
    "# Loading Data"
   ]
  },
  {
   "cell_type": "code",
   "execution_count": 9,
   "id": "f0496b8a",
   "metadata": {
    "execution": {
     "iopub.execute_input": "2025-08-05T15:37:26.309680Z",
     "iopub.status.busy": "2025-08-05T15:37:26.309003Z",
     "iopub.status.idle": "2025-08-05T15:37:38.175410Z",
     "shell.execute_reply": "2025-08-05T15:37:38.174256Z"
    },
    "papermill": {
     "duration": 11.885531,
     "end_time": "2025-08-05T15:37:38.177172",
     "exception": false,
     "start_time": "2025-08-05T15:37:26.291641",
     "status": "completed"
    },
    "tags": []
   },
   "outputs": [
    {
     "name": "stdout",
     "output_type": "stream",
     "text": [
      "Loading SIAB data from cache: data/siab_cached.csv.gz\n"
     ]
    },
    {
     "name": "stdout",
     "output_type": "stream",
     "text": [
      "(643690, 164)\n"
     ]
    }
   ],
   "source": [
    "from pathlib import Path\n",
    "import pandas as pd\n",
    "\n",
    "# File paths\n",
    "raw_file = Path(\"data/raw/siab.csv\")\n",
    "cache_file = Path(\"data/siab_cached.csv.gz\")\n",
    "\n",
    "# Ensure cache directory exists\n",
    "cache_file.parent.mkdir(parents=True, exist_ok=True)\n",
    "\n",
    "# Load with simple caching\n",
    "if cache_file.exists():\n",
    "    print(f\"Loading SIAB data from cache: {cache_file}\")\n",
    "    siab = pd.read_csv(cache_file, compression='gzip')\n",
    "else:\n",
    "    print(f\"Cache not found. Reading raw SIAB data: {raw_file}\")\n",
    "    siab = pd.read_csv(raw_file)\n",
    "    siab.to_csv(cache_file, index=False, compression='gzip')\n",
    "    print(f\"Cached SIAB data to: {cache_file}\")\n",
    "\n",
    "print(siab.shape)"
   ]
  },
  {
   "cell_type": "code",
   "execution_count": 10,
   "id": "db0ca512-5f53-4dba-abdb-a2888bca41ba",
   "metadata": {
    "execution": {
     "iopub.execute_input": "2025-08-05T15:37:38.202947Z",
     "iopub.status.busy": "2025-08-05T15:37:38.202567Z",
     "iopub.status.idle": "2025-08-05T15:37:38.207297Z",
     "shell.execute_reply": "2025-08-05T15:37:38.206362Z"
    },
    "papermill": {
     "duration": 0.016353,
     "end_time": "2025-08-05T15:37:38.208750",
     "exception": false,
     "start_time": "2025-08-05T15:37:38.192397",
     "status": "completed"
    },
    "tags": []
   },
   "outputs": [],
   "source": [
    "#siab"
   ]
  },
  {
   "cell_type": "markdown",
   "id": "997051c5-15bd-4b69-9786-c3001a3ce484",
   "metadata": {
    "papermill": {
     "duration": 0.009009,
     "end_time": "2025-08-05T15:37:38.227721",
     "exception": false,
     "start_time": "2025-08-05T15:37:38.218712",
     "status": "completed"
    },
    "tags": []
   },
   "source": [
    "# Splitting Data and Setting Training Data Size"
   ]
  },
  {
   "cell_type": "code",
   "execution_count": 11,
   "id": "aea9c6ef-6f46-42c8-85eb-5a62025c1508",
   "metadata": {
    "execution": {
     "iopub.execute_input": "2025-08-05T15:37:38.246627Z",
     "iopub.status.busy": "2025-08-05T15:37:38.246110Z",
     "iopub.status.idle": "2025-08-05T15:37:38.787709Z",
     "shell.execute_reply": "2025-08-05T15:37:38.786954Z"
    },
    "papermill": {
     "duration": 0.552659,
     "end_time": "2025-08-05T15:37:38.789226",
     "exception": false,
     "start_time": "2025-08-05T15:37:38.236567",
     "status": "completed"
    },
    "tags": []
   },
   "outputs": [],
   "source": [
    "from fairness_multiverse.universe import sample_by_year_size\n",
    "\n",
    "siab_train = sample_by_year_size(siab,\n",
    "                               training_year=universe[\"training_year\"],\n",
    "                               training_size=universe[\"training_size\"])"
   ]
  },
  {
   "cell_type": "code",
   "execution_count": 12,
   "id": "8d3afb32-789d-442c-8d5d-9f5aa8dd2eed",
   "metadata": {
    "execution": {
     "iopub.execute_input": "2025-08-05T15:37:38.808603Z",
     "iopub.status.busy": "2025-08-05T15:37:38.808306Z",
     "iopub.status.idle": "2025-08-05T15:37:38.812266Z",
     "shell.execute_reply": "2025-08-05T15:37:38.811431Z"
    },
    "papermill": {
     "duration": 0.014733,
     "end_time": "2025-08-05T15:37:38.813481",
     "exception": false,
     "start_time": "2025-08-05T15:37:38.798748",
     "status": "completed"
    },
    "tags": []
   },
   "outputs": [],
   "source": [
    "#siab_train.shape"
   ]
  },
  {
   "cell_type": "code",
   "execution_count": 13,
   "id": "d582db68-1a4c-47fb-84fc-08518dc1975a",
   "metadata": {
    "execution": {
     "iopub.execute_input": "2025-08-05T15:37:38.833496Z",
     "iopub.status.busy": "2025-08-05T15:37:38.833006Z",
     "iopub.status.idle": "2025-08-05T15:37:38.837122Z",
     "shell.execute_reply": "2025-08-05T15:37:38.836415Z"
    },
    "papermill": {
     "duration": 0.015441,
     "end_time": "2025-08-05T15:37:38.838578",
     "exception": false,
     "start_time": "2025-08-05T15:37:38.823137",
     "status": "completed"
    },
    "tags": []
   },
   "outputs": [],
   "source": [
    "#display(siab_train.groupby(\"year\").size())"
   ]
  },
  {
   "cell_type": "code",
   "execution_count": 14,
   "id": "a561edb4-d032-42cb-8256-22eac1111c64",
   "metadata": {
    "execution": {
     "iopub.execute_input": "2025-08-05T15:37:38.858539Z",
     "iopub.status.busy": "2025-08-05T15:37:38.857962Z",
     "iopub.status.idle": "2025-08-05T15:37:39.062704Z",
     "shell.execute_reply": "2025-08-05T15:37:39.061885Z"
    },
    "papermill": {
     "duration": 0.215881,
     "end_time": "2025-08-05T15:37:39.064193",
     "exception": false,
     "start_time": "2025-08-05T15:37:38.848312",
     "status": "completed"
    },
    "tags": []
   },
   "outputs": [],
   "source": [
    "#siab_train = siab_s[siab_s.year < 2015]\n",
    "siab_calib = siab[siab.year == 2015]\n",
    "siab_test = siab[siab.year == 2016]"
   ]
  },
  {
   "cell_type": "code",
   "execution_count": 15,
   "id": "472de16f-c3db-4916-846b-1f0de9cf1746",
   "metadata": {
    "execution": {
     "iopub.execute_input": "2025-08-05T15:37:39.090837Z",
     "iopub.status.busy": "2025-08-05T15:37:39.090170Z",
     "iopub.status.idle": "2025-08-05T15:37:39.098989Z",
     "shell.execute_reply": "2025-08-05T15:37:39.097922Z"
    },
    "papermill": {
     "duration": 0.027268,
     "end_time": "2025-08-05T15:37:39.101269",
     "exception": false,
     "start_time": "2025-08-05T15:37:39.074001",
     "status": "completed"
    },
    "tags": []
   },
   "outputs": [],
   "source": [
    "X_train = siab_train.iloc[:,4:164]\n",
    "y_train = siab_train.iloc[:, [3]]"
   ]
  },
  {
   "cell_type": "code",
   "execution_count": 16,
   "id": "828c96af-f43a-4ed6-ba47-8ac73a47d56c",
   "metadata": {
    "execution": {
     "iopub.execute_input": "2025-08-05T15:37:39.139551Z",
     "iopub.status.busy": "2025-08-05T15:37:39.139176Z",
     "iopub.status.idle": "2025-08-05T15:37:39.210478Z",
     "shell.execute_reply": "2025-08-05T15:37:39.209102Z"
    },
    "papermill": {
     "duration": 0.092483,
     "end_time": "2025-08-05T15:37:39.212695",
     "exception": false,
     "start_time": "2025-08-05T15:37:39.120212",
     "status": "completed"
    },
    "tags": []
   },
   "outputs": [],
   "source": [
    "X_calib = siab_calib.iloc[:,4:164]\n",
    "y_calib = siab_calib.iloc[:, [3]]"
   ]
  },
  {
   "cell_type": "code",
   "execution_count": 17,
   "id": "c34be9c3-6bd6-476e-acd3-845840e303be",
   "metadata": {
    "execution": {
     "iopub.execute_input": "2025-08-05T15:37:39.256381Z",
     "iopub.status.busy": "2025-08-05T15:37:39.255894Z",
     "iopub.status.idle": "2025-08-05T15:37:39.310793Z",
     "shell.execute_reply": "2025-08-05T15:37:39.309565Z"
    },
    "papermill": {
     "duration": 0.078854,
     "end_time": "2025-08-05T15:37:39.313614",
     "exception": false,
     "start_time": "2025-08-05T15:37:39.234760",
     "status": "completed"
    },
    "tags": []
   },
   "outputs": [],
   "source": [
    "X_test = siab_test.iloc[:,4:164]\n",
    "y_true = siab_test.iloc[:, [3]]"
   ]
  },
  {
   "cell_type": "code",
   "execution_count": 18,
   "id": "e6c733c5",
   "metadata": {
    "execution": {
     "iopub.execute_input": "2025-08-05T15:37:39.357459Z",
     "iopub.status.busy": "2025-08-05T15:37:39.357002Z",
     "iopub.status.idle": "2025-08-05T15:37:39.448592Z",
     "shell.execute_reply": "2025-08-05T15:37:39.447813Z"
    },
    "papermill": {
     "duration": 0.114809,
     "end_time": "2025-08-05T15:37:39.450567",
     "exception": false,
     "start_time": "2025-08-05T15:37:39.335758",
     "status": "completed"
    },
    "tags": []
   },
   "outputs": [],
   "source": [
    "# Auxiliary data needed downstream in the pipeline\n",
    "\n",
    "org_train = X_train.copy()\n",
    "org_test = X_test.copy()\n",
    "org_calib = X_calib.copy()"
   ]
  },
  {
   "cell_type": "markdown",
   "id": "0a4a1b33",
   "metadata": {
    "papermill": {
     "duration": 0.019538,
     "end_time": "2025-08-05T15:37:39.490540",
     "exception": false,
     "start_time": "2025-08-05T15:37:39.471002",
     "status": "completed"
    },
    "tags": []
   },
   "source": [
    "# Preprocessing Data"
   ]
  },
  {
   "cell_type": "code",
   "execution_count": 19,
   "id": "ca879031",
   "metadata": {
    "execution": {
     "iopub.execute_input": "2025-08-05T15:37:39.531600Z",
     "iopub.status.busy": "2025-08-05T15:37:39.530639Z",
     "iopub.status.idle": "2025-08-05T15:37:39.537310Z",
     "shell.execute_reply": "2025-08-05T15:37:39.536253Z"
    },
    "papermill": {
     "duration": 0.029304,
     "end_time": "2025-08-05T15:37:39.539278",
     "exception": false,
     "start_time": "2025-08-05T15:37:39.509974",
     "status": "completed"
    },
    "tags": []
   },
   "outputs": [],
   "source": [
    "# EXCLUDE PROTECTED FEATURES\n",
    "# ----------------------\n",
    "# \"exclude_features\": \"none\", # \"nationality\", \"sex\", \"nationality-sex\"\n",
    "\n",
    "excluded_features = universe[\"exclude_features\"].split(\"-\") # split, e.g.: \"nationality-sex\" -> [\"nationality\", \"sex\"]\n",
    "excluded_features_dictionary = {\n",
    "    \"nationality\": [\"maxdeutsch1\", \"maxdeutsch.Missing.\"],\n",
    "    \"sex\": [\"frau1\"],\n",
    "    \"age\": [\"age\"],\n",
    "}"
   ]
  },
  {
   "cell_type": "code",
   "execution_count": 20,
   "id": "b745ac60",
   "metadata": {
    "execution": {
     "iopub.execute_input": "2025-08-05T15:37:39.582339Z",
     "iopub.status.busy": "2025-08-05T15:37:39.581504Z",
     "iopub.status.idle": "2025-08-05T15:37:39.588184Z",
     "shell.execute_reply": "2025-08-05T15:37:39.587130Z"
    },
    "papermill": {
     "duration": 0.030351,
     "end_time": "2025-08-05T15:37:39.590108",
     "exception": false,
     "start_time": "2025-08-05T15:37:39.559757",
     "status": "completed"
    },
    "tags": []
   },
   "outputs": [],
   "source": [
    "# Code nice names to column names\n",
    "\n",
    "excluded_features_columns = [\n",
    "    excluded_features_dictionary[f] for f in excluded_features if len(f) > 0 and f != \"none\"\n",
    "]"
   ]
  },
  {
   "cell_type": "code",
   "execution_count": 21,
   "id": "f84f73a2",
   "metadata": {
    "execution": {
     "iopub.execute_input": "2025-08-05T15:37:39.611583Z",
     "iopub.status.busy": "2025-08-05T15:37:39.611076Z",
     "iopub.status.idle": "2025-08-05T15:37:39.616835Z",
     "shell.execute_reply": "2025-08-05T15:37:39.616055Z"
    },
    "papermill": {
     "duration": 0.017563,
     "end_time": "2025-08-05T15:37:39.618183",
     "exception": false,
     "start_time": "2025-08-05T15:37:39.600620",
     "status": "completed"
    },
    "tags": []
   },
   "outputs": [],
   "source": [
    "from utils import flatten_once\n",
    "\n",
    "excluded_features_columns = flatten_once(excluded_features_columns)"
   ]
  },
  {
   "cell_type": "code",
   "execution_count": 22,
   "id": "884dea22",
   "metadata": {
    "execution": {
     "iopub.execute_input": "2025-08-05T15:37:39.639496Z",
     "iopub.status.busy": "2025-08-05T15:37:39.638788Z",
     "iopub.status.idle": "2025-08-05T15:37:39.648157Z",
     "shell.execute_reply": "2025-08-05T15:37:39.647328Z"
    },
    "papermill": {
     "duration": 0.021246,
     "end_time": "2025-08-05T15:37:39.649678",
     "exception": false,
     "start_time": "2025-08-05T15:37:39.628432",
     "status": "completed"
    },
    "tags": []
   },
   "outputs": [
    {
     "name": "stdout",
     "output_type": "stream",
     "text": [
      "Dropping features: ['age']\n"
     ]
    }
   ],
   "source": [
    "if len(excluded_features_columns) > 0:\n",
    "    print(f\"Dropping features: {excluded_features_columns}\")\n",
    "    X_train.drop(excluded_features_columns, axis=1, inplace=True)"
   ]
  },
  {
   "cell_type": "code",
   "execution_count": 23,
   "id": "95ab8b16",
   "metadata": {
    "execution": {
     "iopub.execute_input": "2025-08-05T15:37:39.671358Z",
     "iopub.status.busy": "2025-08-05T15:37:39.670657Z",
     "iopub.status.idle": "2025-08-05T15:37:39.720112Z",
     "shell.execute_reply": "2025-08-05T15:37:39.719252Z"
    },
    "papermill": {
     "duration": 0.061237,
     "end_time": "2025-08-05T15:37:39.721549",
     "exception": false,
     "start_time": "2025-08-05T15:37:39.660312",
     "status": "completed"
    },
    "tags": []
   },
   "outputs": [
    {
     "name": "stdout",
     "output_type": "stream",
     "text": [
      "Dropping features: ['age']\n"
     ]
    }
   ],
   "source": [
    "if len(excluded_features_columns) > 0:\n",
    "    print(f\"Dropping features: {excluded_features_columns}\")\n",
    "    X_test.drop(excluded_features_columns, axis=1, inplace=True)"
   ]
  },
  {
   "cell_type": "code",
   "execution_count": 24,
   "id": "1853aaf5-fb9f-46cb-a2b5-8ea4ae2237e4",
   "metadata": {
    "execution": {
     "iopub.execute_input": "2025-08-05T15:37:39.743298Z",
     "iopub.status.busy": "2025-08-05T15:37:39.742605Z",
     "iopub.status.idle": "2025-08-05T15:37:39.791405Z",
     "shell.execute_reply": "2025-08-05T15:37:39.790209Z"
    },
    "papermill": {
     "duration": 0.061061,
     "end_time": "2025-08-05T15:37:39.793272",
     "exception": false,
     "start_time": "2025-08-05T15:37:39.732211",
     "status": "completed"
    },
    "tags": []
   },
   "outputs": [
    {
     "name": "stdout",
     "output_type": "stream",
     "text": [
      "Dropping features: ['age']\n"
     ]
    }
   ],
   "source": [
    "if len(excluded_features_columns) > 0:\n",
    "    print(f\"Dropping features: {excluded_features_columns}\")\n",
    "    X_calib.drop(excluded_features_columns, axis=1, inplace=True)"
   ]
  },
  {
   "cell_type": "code",
   "execution_count": 25,
   "id": "76c4dc6d",
   "metadata": {
    "execution": {
     "iopub.execute_input": "2025-08-05T15:37:39.833078Z",
     "iopub.status.busy": "2025-08-05T15:37:39.832214Z",
     "iopub.status.idle": "2025-08-05T15:37:39.838174Z",
     "shell.execute_reply": "2025-08-05T15:37:39.837085Z"
    },
    "papermill": {
     "duration": 0.027254,
     "end_time": "2025-08-05T15:37:39.840086",
     "exception": false,
     "start_time": "2025-08-05T15:37:39.812832",
     "status": "completed"
    },
    "tags": []
   },
   "outputs": [],
   "source": [
    "# EXCLUDE CERTAIN SUBGROUPS\n",
    "# ----------------------\n",
    "\n",
    "mode = universe.get(\"exclude_subgroups\", \"keep-all\") \n",
    "# Fetches the exclude_subgroups setting from the universe dict.\n",
    "# Defaults to \"keep-all\" if the key is missing."
   ]
  },
  {
   "cell_type": "code",
   "execution_count": 26,
   "id": "21994072",
   "metadata": {
    "execution": {
     "iopub.execute_input": "2025-08-05T15:37:39.878733Z",
     "iopub.status.busy": "2025-08-05T15:37:39.877934Z",
     "iopub.status.idle": "2025-08-05T15:37:39.885253Z",
     "shell.execute_reply": "2025-08-05T15:37:39.884172Z"
    },
    "papermill": {
     "duration": 0.027897,
     "end_time": "2025-08-05T15:37:39.887050",
     "exception": false,
     "start_time": "2025-08-05T15:37:39.859153",
     "status": "completed"
    },
    "tags": []
   },
   "outputs": [],
   "source": [
    "if mode == \"keep-all\":\n",
    "    keep_mask = pd.Series(True, index=org_train.index)\n",
    "\n",
    "# org_train contains the original feature columns from features_org (in Simson)\n",
    "# features_org contains unprocessed features, for me X_train at beginning ???\n",
    "# For keep-all, creates a boolean Series (keep_mask) of all True, so no rows are removed.\n",
    "\n",
    "elif mode == \"drop-non-german\":\n",
    "    keep_mask = org_train[\"maxdeutsch1\"] == 1 # ??? what about missing values?\n",
    "\n",
    "else:\n",
    "    raise ValueError(f\"Unsupported mode for exclude_subgroups: {mode}\")"
   ]
  },
  {
   "cell_type": "code",
   "execution_count": 27,
   "id": "71651440",
   "metadata": {
    "execution": {
     "iopub.execute_input": "2025-08-05T15:37:39.929013Z",
     "iopub.status.busy": "2025-08-05T15:37:39.928269Z",
     "iopub.status.idle": "2025-08-05T15:37:39.934858Z",
     "shell.execute_reply": "2025-08-05T15:37:39.933809Z"
    },
    "papermill": {
     "duration": 0.028607,
     "end_time": "2025-08-05T15:37:39.936531",
     "exception": false,
     "start_time": "2025-08-05T15:37:39.907924",
     "status": "completed"
    },
    "tags": []
   },
   "outputs": [],
   "source": [
    "n_drop = (~keep_mask).sum() # Calculates how many rows are set to be dropped\n",
    "if n_drop > 0:\n",
    "    pct = n_drop / len(keep_mask) * 100\n",
    "    print(f\"Dropping {n_drop} rows ({pct:.2f}%) where mode='{mode}'\")"
   ]
  },
  {
   "cell_type": "code",
   "execution_count": 28,
   "id": "5fb8eee5",
   "metadata": {
    "execution": {
     "iopub.execute_input": "2025-08-05T15:37:39.977999Z",
     "iopub.status.busy": "2025-08-05T15:37:39.977457Z",
     "iopub.status.idle": "2025-08-05T15:37:39.987217Z",
     "shell.execute_reply": "2025-08-05T15:37:39.986078Z"
    },
    "papermill": {
     "duration": 0.032156,
     "end_time": "2025-08-05T15:37:39.989141",
     "exception": false,
     "start_time": "2025-08-05T15:37:39.956985",
     "status": "completed"
    },
    "tags": []
   },
   "outputs": [],
   "source": [
    "X_train = X_train[keep_mask]"
   ]
  },
  {
   "cell_type": "code",
   "execution_count": 29,
   "id": "b202bb3a",
   "metadata": {
    "execution": {
     "iopub.execute_input": "2025-08-05T15:37:40.032571Z",
     "iopub.status.busy": "2025-08-05T15:37:40.031907Z",
     "iopub.status.idle": "2025-08-05T15:37:40.038988Z",
     "shell.execute_reply": "2025-08-05T15:37:40.037855Z"
    },
    "papermill": {
     "duration": 0.029257,
     "end_time": "2025-08-05T15:37:40.040734",
     "exception": false,
     "start_time": "2025-08-05T15:37:40.011477",
     "status": "completed"
    },
    "tags": []
   },
   "outputs": [],
   "source": [
    "y_train = y_train[keep_mask]"
   ]
  },
  {
   "cell_type": "markdown",
   "id": "493e2ac3",
   "metadata": {
    "papermill": {
     "duration": 0.019347,
     "end_time": "2025-08-05T15:37:40.080166",
     "exception": false,
     "start_time": "2025-08-05T15:37:40.060819",
     "status": "completed"
    },
    "tags": []
   },
   "source": [
    "# Model Training"
   ]
  },
  {
   "cell_type": "code",
   "execution_count": 30,
   "id": "679e1268",
   "metadata": {
    "execution": {
     "iopub.execute_input": "2025-08-05T15:37:40.123091Z",
     "iopub.status.busy": "2025-08-05T15:37:40.122219Z",
     "iopub.status.idle": "2025-08-05T15:37:40.204629Z",
     "shell.execute_reply": "2025-08-05T15:37:40.203917Z"
    },
    "papermill": {
     "duration": 0.105892,
     "end_time": "2025-08-05T15:37:40.205977",
     "exception": false,
     "start_time": "2025-08-05T15:37:40.100085",
     "status": "completed"
    },
    "tags": []
   },
   "outputs": [],
   "source": [
    "from sklearn.linear_model import LogisticRegression\n",
    "from sklearn.ensemble import GradientBoostingClassifier, RandomForestClassifier\n",
    "\n",
    "if (universe[\"model\"] == \"logreg\"):\n",
    "    model = LogisticRegression() #penalty=\"none\", solver=\"newton-cg\", max_iter=1) # include random_state=19 ?\n",
    "elif (universe[\"model\"] == \"penalized_logreg\"):\n",
    "    model = LogisticRegression(penalty=\"l2\", C=0.1) #, solver=\"newton-cg\", max_iter=1)\n",
    "elif (universe[\"model\"] == \"rf\"):\n",
    "    model = RandomForestClassifier() # n_estimators=100, n_jobs=-1\n",
    "elif (universe[\"model\"] == \"gbm\"):\n",
    "    model = GradientBoostingClassifier()\n",
    "elif (universe[\"model\"] == \"elasticnet\"):\n",
    "    model = LogisticRegression(penalty = 'elasticnet', solver = 'saga', l1_ratio = 0.5) # max_iter=5000\n",
    "else:\n",
    "    raise \"Unsupported universe.model\""
   ]
  },
  {
   "cell_type": "code",
   "execution_count": 31,
   "id": "0cc8f744",
   "metadata": {
    "execution": {
     "iopub.execute_input": "2025-08-05T15:37:40.226960Z",
     "iopub.status.busy": "2025-08-05T15:37:40.226621Z",
     "iopub.status.idle": "2025-08-05T15:37:40.231719Z",
     "shell.execute_reply": "2025-08-05T15:37:40.230941Z"
    },
    "papermill": {
     "duration": 0.016894,
     "end_time": "2025-08-05T15:37:40.233109",
     "exception": false,
     "start_time": "2025-08-05T15:37:40.216215",
     "status": "completed"
    },
    "tags": []
   },
   "outputs": [],
   "source": [
    "import numpy as np\n",
    "from sklearn.pipeline import Pipeline\n",
    "from sklearn.preprocessing import StandardScaler\n",
    "\n",
    "model = Pipeline([\n",
    "    #(\"continuous_processor\", continuous_processor),\n",
    "    #(\"categorical_preprocessor\", categorical_preprocessor),\n",
    "    (\"scale\", StandardScaler() if universe[\"scale\"] == \"scale\" else None), \n",
    "    (\"model\", model),\n",
    "])"
   ]
  },
  {
   "cell_type": "code",
   "execution_count": 32,
   "id": "9442c04d",
   "metadata": {
    "execution": {
     "iopub.execute_input": "2025-08-05T15:37:40.254716Z",
     "iopub.status.busy": "2025-08-05T15:37:40.254157Z",
     "iopub.status.idle": "2025-08-05T15:37:41.817707Z",
     "shell.execute_reply": "2025-08-05T15:37:41.816741Z"
    },
    "papermill": {
     "duration": 1.575679,
     "end_time": "2025-08-05T15:37:41.819449",
     "exception": false,
     "start_time": "2025-08-05T15:37:40.243770",
     "status": "completed"
    },
    "tags": []
   },
   "outputs": [
    {
     "data": {
      "text/html": [
       "<style>#sk-container-id-1 {color: black;background-color: white;}#sk-container-id-1 pre{padding: 0;}#sk-container-id-1 div.sk-toggleable {background-color: white;}#sk-container-id-1 label.sk-toggleable__label {cursor: pointer;display: block;width: 100%;margin-bottom: 0;padding: 0.3em;box-sizing: border-box;text-align: center;}#sk-container-id-1 label.sk-toggleable__label-arrow:before {content: \"▸\";float: left;margin-right: 0.25em;color: #696969;}#sk-container-id-1 label.sk-toggleable__label-arrow:hover:before {color: black;}#sk-container-id-1 div.sk-estimator:hover label.sk-toggleable__label-arrow:before {color: black;}#sk-container-id-1 div.sk-toggleable__content {max-height: 0;max-width: 0;overflow: hidden;text-align: left;background-color: #f0f8ff;}#sk-container-id-1 div.sk-toggleable__content pre {margin: 0.2em;color: black;border-radius: 0.25em;background-color: #f0f8ff;}#sk-container-id-1 input.sk-toggleable__control:checked~div.sk-toggleable__content {max-height: 200px;max-width: 100%;overflow: auto;}#sk-container-id-1 input.sk-toggleable__control:checked~label.sk-toggleable__label-arrow:before {content: \"▾\";}#sk-container-id-1 div.sk-estimator input.sk-toggleable__control:checked~label.sk-toggleable__label {background-color: #d4ebff;}#sk-container-id-1 div.sk-label input.sk-toggleable__control:checked~label.sk-toggleable__label {background-color: #d4ebff;}#sk-container-id-1 input.sk-hidden--visually {border: 0;clip: rect(1px 1px 1px 1px);clip: rect(1px, 1px, 1px, 1px);height: 1px;margin: -1px;overflow: hidden;padding: 0;position: absolute;width: 1px;}#sk-container-id-1 div.sk-estimator {font-family: monospace;background-color: #f0f8ff;border: 1px dotted black;border-radius: 0.25em;box-sizing: border-box;margin-bottom: 0.5em;}#sk-container-id-1 div.sk-estimator:hover {background-color: #d4ebff;}#sk-container-id-1 div.sk-parallel-item::after {content: \"\";width: 100%;border-bottom: 1px solid gray;flex-grow: 1;}#sk-container-id-1 div.sk-label:hover label.sk-toggleable__label {background-color: #d4ebff;}#sk-container-id-1 div.sk-serial::before {content: \"\";position: absolute;border-left: 1px solid gray;box-sizing: border-box;top: 0;bottom: 0;left: 50%;z-index: 0;}#sk-container-id-1 div.sk-serial {display: flex;flex-direction: column;align-items: center;background-color: white;padding-right: 0.2em;padding-left: 0.2em;position: relative;}#sk-container-id-1 div.sk-item {position: relative;z-index: 1;}#sk-container-id-1 div.sk-parallel {display: flex;align-items: stretch;justify-content: center;background-color: white;position: relative;}#sk-container-id-1 div.sk-item::before, #sk-container-id-1 div.sk-parallel-item::before {content: \"\";position: absolute;border-left: 1px solid gray;box-sizing: border-box;top: 0;bottom: 0;left: 50%;z-index: -1;}#sk-container-id-1 div.sk-parallel-item {display: flex;flex-direction: column;z-index: 1;position: relative;background-color: white;}#sk-container-id-1 div.sk-parallel-item:first-child::after {align-self: flex-end;width: 50%;}#sk-container-id-1 div.sk-parallel-item:last-child::after {align-self: flex-start;width: 50%;}#sk-container-id-1 div.sk-parallel-item:only-child::after {width: 0;}#sk-container-id-1 div.sk-dashed-wrapped {border: 1px dashed gray;margin: 0 0.4em 0.5em 0.4em;box-sizing: border-box;padding-bottom: 0.4em;background-color: white;}#sk-container-id-1 div.sk-label label {font-family: monospace;font-weight: bold;display: inline-block;line-height: 1.2em;}#sk-container-id-1 div.sk-label-container {text-align: center;}#sk-container-id-1 div.sk-container {/* jupyter's `normalize.less` sets `[hidden] { display: none; }` but bootstrap.min.css set `[hidden] { display: none !important; }` so we also need the `!important` here to be able to override the default hidden behavior on the sphinx rendered scikit-learn.org. See: https://github.com/scikit-learn/scikit-learn/issues/21755 */display: inline-block !important;position: relative;}#sk-container-id-1 div.sk-text-repr-fallback {display: none;}</style><div id=\"sk-container-id-1\" class=\"sk-top-container\"><div class=\"sk-text-repr-fallback\"><pre>Pipeline(steps=[(&#x27;scale&#x27;, StandardScaler()),\n",
       "                (&#x27;model&#x27;, RandomForestClassifier())])</pre><b>In a Jupyter environment, please rerun this cell to show the HTML representation or trust the notebook. <br />On GitHub, the HTML representation is unable to render, please try loading this page with nbviewer.org.</b></div><div class=\"sk-container\" hidden><div class=\"sk-item sk-dashed-wrapped\"><div class=\"sk-label-container\"><div class=\"sk-label sk-toggleable\"><input class=\"sk-toggleable__control sk-hidden--visually\" id=\"sk-estimator-id-1\" type=\"checkbox\" ><label for=\"sk-estimator-id-1\" class=\"sk-toggleable__label sk-toggleable__label-arrow\">Pipeline</label><div class=\"sk-toggleable__content\"><pre>Pipeline(steps=[(&#x27;scale&#x27;, StandardScaler()),\n",
       "                (&#x27;model&#x27;, RandomForestClassifier())])</pre></div></div></div><div class=\"sk-serial\"><div class=\"sk-item\"><div class=\"sk-estimator sk-toggleable\"><input class=\"sk-toggleable__control sk-hidden--visually\" id=\"sk-estimator-id-2\" type=\"checkbox\" ><label for=\"sk-estimator-id-2\" class=\"sk-toggleable__label sk-toggleable__label-arrow\">StandardScaler</label><div class=\"sk-toggleable__content\"><pre>StandardScaler()</pre></div></div></div><div class=\"sk-item\"><div class=\"sk-estimator sk-toggleable\"><input class=\"sk-toggleable__control sk-hidden--visually\" id=\"sk-estimator-id-3\" type=\"checkbox\" ><label for=\"sk-estimator-id-3\" class=\"sk-toggleable__label sk-toggleable__label-arrow\">RandomForestClassifier</label><div class=\"sk-toggleable__content\"><pre>RandomForestClassifier()</pre></div></div></div></div></div></div></div>"
      ],
      "text/plain": [
       "Pipeline(steps=[('scale', StandardScaler()),\n",
       "                ('model', RandomForestClassifier())])"
      ]
     },
     "execution_count": 32,
     "metadata": {},
     "output_type": "execute_result"
    }
   ],
   "source": [
    "model.fit(X_train, y_train.values.ravel())"
   ]
  },
  {
   "cell_type": "code",
   "execution_count": 33,
   "id": "af59f8c0",
   "metadata": {
    "execution": {
     "iopub.execute_input": "2025-08-05T15:37:41.859879Z",
     "iopub.status.busy": "2025-08-05T15:37:41.859397Z",
     "iopub.status.idle": "2025-08-05T15:37:41.866971Z",
     "shell.execute_reply": "2025-08-05T15:37:41.865728Z"
    },
    "papermill": {
     "duration": 0.028877,
     "end_time": "2025-08-05T15:37:41.868752",
     "exception": false,
     "start_time": "2025-08-05T15:37:41.839875",
     "status": "completed"
    },
    "tags": []
   },
   "outputs": [],
   "source": [
    "from fairness_multiverse.universe import predict_w_threshold"
   ]
  },
  {
   "cell_type": "code",
   "execution_count": 34,
   "id": "a7cf2e16",
   "metadata": {
    "execution": {
     "iopub.execute_input": "2025-08-05T15:37:41.909839Z",
     "iopub.status.busy": "2025-08-05T15:37:41.909145Z",
     "iopub.status.idle": "2025-08-05T15:37:44.342373Z",
     "shell.execute_reply": "2025-08-05T15:37:44.341464Z"
    },
    "papermill": {
     "duration": 2.454063,
     "end_time": "2025-08-05T15:37:44.343916",
     "exception": false,
     "start_time": "2025-08-05T15:37:41.889853",
     "status": "completed"
    },
    "tags": []
   },
   "outputs": [
    {
     "data": {
      "text/plain": [
       "0.8681417902129083"
      ]
     },
     "execution_count": 34,
     "metadata": {},
     "output_type": "execute_result"
    }
   ],
   "source": [
    "probs_test = model.predict_proba(X_test)\n",
    "\n",
    "'''\n",
    "Below code returns a boolean array (or binary 0/1 array depending on how it’s used) where each element \n",
    "is True if the probability of class 1 is greater than or equal to the threshold, and False otherwise.\n",
    "'''\n",
    "y_pred_default = predict_w_threshold(probs_test, 0.5)\n",
    "\n",
    "from sklearn.metrics import accuracy_score\n",
    "\n",
    "# Naive prediction\n",
    "accuracy_score(y_true = y_true, y_pred = y_pred_default)"
   ]
  },
  {
   "cell_type": "code",
   "execution_count": 35,
   "id": "081964c3",
   "metadata": {
    "execution": {
     "iopub.execute_input": "2025-08-05T15:37:44.387440Z",
     "iopub.status.busy": "2025-08-05T15:37:44.387022Z",
     "iopub.status.idle": "2025-08-05T15:37:46.799956Z",
     "shell.execute_reply": "2025-08-05T15:37:46.799016Z"
    },
    "papermill": {
     "duration": 2.436767,
     "end_time": "2025-08-05T15:37:46.801799",
     "exception": false,
     "start_time": "2025-08-05T15:37:44.365032",
     "status": "completed"
    },
    "tags": []
   },
   "outputs": [
    {
     "data": {
      "text/plain": [
       "array([0, 0, 0, ..., 0, 0, 0])"
      ]
     },
     "execution_count": 35,
     "metadata": {},
     "output_type": "execute_result"
    }
   ],
   "source": [
    "model.predict(X_test)"
   ]
  },
  {
   "cell_type": "markdown",
   "id": "56c9705b",
   "metadata": {
    "papermill": {
     "duration": 0.023174,
     "end_time": "2025-08-05T15:37:46.849170",
     "exception": false,
     "start_time": "2025-08-05T15:37:46.825996",
     "status": "completed"
    },
    "tags": []
   },
   "source": [
    "# Conformal Prediction"
   ]
  },
  {
   "cell_type": "code",
   "execution_count": 36,
   "id": "160ec6ff",
   "metadata": {
    "execution": {
     "iopub.execute_input": "2025-08-05T15:37:46.892366Z",
     "iopub.status.busy": "2025-08-05T15:37:46.891704Z",
     "iopub.status.idle": "2025-08-05T15:37:46.896756Z",
     "shell.execute_reply": "2025-08-05T15:37:46.895837Z"
    },
    "papermill": {
     "duration": 0.028549,
     "end_time": "2025-08-05T15:37:46.898507",
     "exception": false,
     "start_time": "2025-08-05T15:37:46.869958",
     "status": "completed"
    },
    "tags": []
   },
   "outputs": [],
   "source": [
    "# Miscoverage level for conformal prediction (10% allowed error rate => 90% target coverage)\n",
    "alpha = 0.1"
   ]
  },
  {
   "cell_type": "code",
   "execution_count": 37,
   "id": "eadf4555-3dd3-440e-8e35-f82a4ad9f855",
   "metadata": {
    "execution": {
     "iopub.execute_input": "2025-08-05T15:37:46.940771Z",
     "iopub.status.busy": "2025-08-05T15:37:46.940092Z",
     "iopub.status.idle": "2025-08-05T15:37:49.226104Z",
     "shell.execute_reply": "2025-08-05T15:37:49.225122Z"
    },
    "papermill": {
     "duration": 2.308485,
     "end_time": "2025-08-05T15:37:49.227932",
     "exception": false,
     "start_time": "2025-08-05T15:37:46.919447",
     "status": "completed"
    },
    "tags": []
   },
   "outputs": [],
   "source": [
    "probs_calib = model.predict_proba(X_calib)"
   ]
  },
  {
   "cell_type": "code",
   "execution_count": 38,
   "id": "2ed93547-6d5d-4983-9b36-1ecb300da49a",
   "metadata": {
    "execution": {
     "iopub.execute_input": "2025-08-05T15:37:49.270812Z",
     "iopub.status.busy": "2025-08-05T15:37:49.270184Z",
     "iopub.status.idle": "2025-08-05T15:37:49.275949Z",
     "shell.execute_reply": "2025-08-05T15:37:49.274974Z"
    },
    "papermill": {
     "duration": 0.029856,
     "end_time": "2025-08-05T15:37:49.277760",
     "exception": false,
     "start_time": "2025-08-05T15:37:49.247904",
     "status": "completed"
    },
    "tags": []
   },
   "outputs": [],
   "source": [
    "y_calib = y_calib.values.ravel().astype(int)"
   ]
  },
  {
   "cell_type": "code",
   "execution_count": 39,
   "id": "65d1320d-f588-4b38-9072-62af1ae97f7d",
   "metadata": {
    "execution": {
     "iopub.execute_input": "2025-08-05T15:37:49.318994Z",
     "iopub.status.busy": "2025-08-05T15:37:49.318239Z",
     "iopub.status.idle": "2025-08-05T15:37:49.325348Z",
     "shell.execute_reply": "2025-08-05T15:37:49.324247Z"
    },
    "papermill": {
     "duration": 0.028768,
     "end_time": "2025-08-05T15:37:49.327277",
     "exception": false,
     "start_time": "2025-08-05T15:37:49.298509",
     "status": "completed"
    },
    "tags": []
   },
   "outputs": [],
   "source": [
    "from fairness_multiverse.conformal import compute_nc_scores\n",
    "\n",
    "# Compute nonconformity scores on calibration set (1 - probability of true class)\n",
    "nc_scores = compute_nc_scores(probs_calib, y_calib)"
   ]
  },
  {
   "cell_type": "code",
   "execution_count": 40,
   "id": "df3b8ca3-53b7-43d5-9667-7c85da7aeda2",
   "metadata": {
    "execution": {
     "iopub.execute_input": "2025-08-05T15:37:49.372158Z",
     "iopub.status.busy": "2025-08-05T15:37:49.371407Z",
     "iopub.status.idle": "2025-08-05T15:37:49.378605Z",
     "shell.execute_reply": "2025-08-05T15:37:49.377568Z"
    },
    "papermill": {
     "duration": 0.030225,
     "end_time": "2025-08-05T15:37:49.380319",
     "exception": false,
     "start_time": "2025-08-05T15:37:49.350094",
     "status": "completed"
    },
    "tags": []
   },
   "outputs": [],
   "source": [
    "from fairness_multiverse.conformal import find_threshold\n",
    "\n",
    "# Find conformal threshold q_hat for the given alpha (split conformal method)\n",
    "q_hat = find_threshold(nc_scores, alpha)"
   ]
  },
  {
   "cell_type": "code",
   "execution_count": 41,
   "id": "4d29e6c1-0ef6-4aa4-b8fe-4fe79b0d033a",
   "metadata": {
    "execution": {
     "iopub.execute_input": "2025-08-05T15:37:49.423449Z",
     "iopub.status.busy": "2025-08-05T15:37:49.422764Z",
     "iopub.status.idle": "2025-08-05T15:37:49.431485Z",
     "shell.execute_reply": "2025-08-05T15:37:49.430490Z"
    },
    "papermill": {
     "duration": 0.031679,
     "end_time": "2025-08-05T15:37:49.433272",
     "exception": false,
     "start_time": "2025-08-05T15:37:49.401593",
     "status": "completed"
    },
    "tags": []
   },
   "outputs": [
    {
     "data": {
      "text/plain": [
       "0.6799999999999999"
      ]
     },
     "execution_count": 41,
     "metadata": {},
     "output_type": "execute_result"
    }
   ],
   "source": [
    "q_hat"
   ]
  },
  {
   "cell_type": "code",
   "execution_count": 42,
   "id": "92460794-cdac-4be2-ba28-f28c0515a6fb",
   "metadata": {
    "execution": {
     "iopub.execute_input": "2025-08-05T15:37:49.475835Z",
     "iopub.status.busy": "2025-08-05T15:37:49.475447Z",
     "iopub.status.idle": "2025-08-05T15:37:53.166389Z",
     "shell.execute_reply": "2025-08-05T15:37:53.165366Z"
    },
    "papermill": {
     "duration": 3.714431,
     "end_time": "2025-08-05T15:37:53.168641",
     "exception": false,
     "start_time": "2025-08-05T15:37:49.454210",
     "status": "completed"
    },
    "tags": []
   },
   "outputs": [],
   "source": [
    "from fairness_multiverse.conformal import predict_conformal_sets\n",
    "\n",
    "# Generate prediction sets for each test example\n",
    "pred_sets = predict_conformal_sets(model, X_test, q_hat)"
   ]
  },
  {
   "cell_type": "code",
   "execution_count": 43,
   "id": "d90c9a65-e6db-4f5d-80cd-e68fb7e46829",
   "metadata": {
    "execution": {
     "iopub.execute_input": "2025-08-05T15:37:53.220278Z",
     "iopub.status.busy": "2025-08-05T15:37:53.219595Z",
     "iopub.status.idle": "2025-08-05T15:37:53.225879Z",
     "shell.execute_reply": "2025-08-05T15:37:53.224645Z"
    },
    "papermill": {
     "duration": 0.031744,
     "end_time": "2025-08-05T15:37:53.227799",
     "exception": false,
     "start_time": "2025-08-05T15:37:53.196055",
     "status": "completed"
    },
    "tags": []
   },
   "outputs": [],
   "source": [
    "y_true = y_true.squeeze()"
   ]
  },
  {
   "cell_type": "code",
   "execution_count": 44,
   "id": "3a58a54a-1e68-46b9-927a-df01f18aebc8",
   "metadata": {
    "execution": {
     "iopub.execute_input": "2025-08-05T15:37:53.274694Z",
     "iopub.status.busy": "2025-08-05T15:37:53.274174Z",
     "iopub.status.idle": "2025-08-05T15:37:54.015298Z",
     "shell.execute_reply": "2025-08-05T15:37:54.014535Z"
    },
    "papermill": {
     "duration": 0.766735,
     "end_time": "2025-08-05T15:37:54.017042",
     "exception": false,
     "start_time": "2025-08-05T15:37:53.250307",
     "status": "completed"
    },
    "tags": []
   },
   "outputs": [],
   "source": [
    "from fairness_multiverse.conformal import evaluate_sets\n",
    "\n",
    "# Evaluate coverage and average set size on test data\n",
    "metrics = evaluate_sets(pred_sets, y_true)"
   ]
  },
  {
   "cell_type": "markdown",
   "id": "2b569c12-9aaa-4c88-98c9-bbcd0cf3ebb8",
   "metadata": {
    "papermill": {
     "duration": 0.022058,
     "end_time": "2025-08-05T15:37:54.061290",
     "exception": false,
     "start_time": "2025-08-05T15:37:54.039232",
     "status": "completed"
    },
    "tags": []
   },
   "source": [
    "# CP Metrics"
   ]
  },
  {
   "cell_type": "code",
   "execution_count": 45,
   "id": "5ce0a5cb-201f-45a0-ade5-94c7f0bd6095",
   "metadata": {
    "execution": {
     "iopub.execute_input": "2025-08-05T15:37:54.107710Z",
     "iopub.status.busy": "2025-08-05T15:37:54.106765Z",
     "iopub.status.idle": "2025-08-05T15:37:54.114319Z",
     "shell.execute_reply": "2025-08-05T15:37:54.113368Z"
    },
    "papermill": {
     "duration": 0.032727,
     "end_time": "2025-08-05T15:37:54.115856",
     "exception": false,
     "start_time": "2025-08-05T15:37:54.083129",
     "status": "completed"
    },
    "tags": []
   },
   "outputs": [
    {
     "data": {
      "text/plain": [
       "{'coverage': 0.9138446104113254, 'avg_size': 1.146349347898785}"
      ]
     },
     "execution_count": 45,
     "metadata": {},
     "output_type": "execute_result"
    }
   ],
   "source": [
    "metrics"
   ]
  },
  {
   "cell_type": "code",
   "execution_count": 46,
   "id": "9b9a838d-31c9-430b-ae14-12baee460d17",
   "metadata": {
    "execution": {
     "iopub.execute_input": "2025-08-05T15:37:54.142294Z",
     "iopub.status.busy": "2025-08-05T15:37:54.141364Z",
     "iopub.status.idle": "2025-08-05T15:37:54.147662Z",
     "shell.execute_reply": "2025-08-05T15:37:54.146724Z"
    },
    "papermill": {
     "duration": 0.021189,
     "end_time": "2025-08-05T15:37:54.149888",
     "exception": false,
     "start_time": "2025-08-05T15:37:54.128699",
     "status": "completed"
    },
    "tags": []
   },
   "outputs": [],
   "source": [
    "example_universe = universe.copy()\n",
    "universe_training_year = example_universe.get(\"training_year\")\n",
    "universe_training_size = example_universe.get(\"training_size\")\n",
    "universe_scale = example_universe.get(\"scale\")\n",
    "universe_model = example_universe.get(\"model\")\n",
    "universe_exclude_features = example_universe.get(\"exclude_features\")\n",
    "universe_exclude_subgroups = example_universe.get(\"exclude_subgroups\")"
   ]
  },
  {
   "cell_type": "code",
   "execution_count": 47,
   "id": "f4b6a8ac-9dc0-4245-8a91-5b3b5999c4f9",
   "metadata": {
    "execution": {
     "iopub.execute_input": "2025-08-05T15:37:54.195261Z",
     "iopub.status.busy": "2025-08-05T15:37:54.194727Z",
     "iopub.status.idle": "2025-08-05T15:37:54.201063Z",
     "shell.execute_reply": "2025-08-05T15:37:54.199933Z"
    },
    "papermill": {
     "duration": 0.031528,
     "end_time": "2025-08-05T15:37:54.203422",
     "exception": false,
     "start_time": "2025-08-05T15:37:54.171894",
     "status": "completed"
    },
    "tags": []
   },
   "outputs": [],
   "source": [
    "cp_metrics_dict = {\n",
    "    \"universe_id\": [universe_id],\n",
    "    \"universe_training_year\": [universe_training_year],\n",
    "    \"universe_training_size\": [universe_training_size],\n",
    "    \"universe_scale\": [universe_scale],\n",
    "    \"universe_model\": [universe_model],\n",
    "    \"universe_exclude_features\": [universe_exclude_features],\n",
    "    \"universe_exclude_subgroups\": [universe_exclude_subgroups],\n",
    "    \"q_hat\": [q_hat],\n",
    "    \"coverage\": [metrics[\"coverage\"]],\n",
    "    \"avg_size\": [metrics[\"avg_size\"]],\n",
    "}"
   ]
  },
  {
   "cell_type": "code",
   "execution_count": 48,
   "id": "908acbb1-0371-4915-85ca-3fa520d2efe2",
   "metadata": {
    "execution": {
     "iopub.execute_input": "2025-08-05T15:37:54.248155Z",
     "iopub.status.busy": "2025-08-05T15:37:54.247732Z",
     "iopub.status.idle": "2025-08-05T15:37:54.255229Z",
     "shell.execute_reply": "2025-08-05T15:37:54.254200Z"
    },
    "papermill": {
     "duration": 0.032424,
     "end_time": "2025-08-05T15:37:54.256884",
     "exception": false,
     "start_time": "2025-08-05T15:37:54.224460",
     "status": "completed"
    },
    "tags": []
   },
   "outputs": [
    {
     "data": {
      "text/plain": [
       "{'universe_id': ['15724b4022588e1645f8235d9eb9f00a'],\n",
       " 'universe_training_year': ['2012_14'],\n",
       " 'universe_training_size': ['5k'],\n",
       " 'universe_scale': ['scale'],\n",
       " 'universe_model': ['rf'],\n",
       " 'universe_exclude_features': ['age'],\n",
       " 'universe_exclude_subgroups': ['keep-all'],\n",
       " 'q_hat': [0.6799999999999999],\n",
       " 'coverage': [0.9138446104113254],\n",
       " 'avg_size': [1.146349347898785]}"
      ]
     },
     "execution_count": 48,
     "metadata": {},
     "output_type": "execute_result"
    }
   ],
   "source": [
    "cp_metrics_dict"
   ]
  },
  {
   "cell_type": "code",
   "execution_count": 49,
   "id": "33007efc-14e9-4ec6-97ac-56a455c82265",
   "metadata": {
    "execution": {
     "iopub.execute_input": "2025-08-05T15:37:54.302672Z",
     "iopub.status.busy": "2025-08-05T15:37:54.301898Z",
     "iopub.status.idle": "2025-08-05T15:37:54.308523Z",
     "shell.execute_reply": "2025-08-05T15:37:54.307484Z"
    },
    "papermill": {
     "duration": 0.031338,
     "end_time": "2025-08-05T15:37:54.310498",
     "exception": false,
     "start_time": "2025-08-05T15:37:54.279160",
     "status": "completed"
    },
    "tags": []
   },
   "outputs": [],
   "source": [
    "cp_metrics_df = pd.DataFrame(cp_metrics_dict)"
   ]
  },
  {
   "cell_type": "code",
   "execution_count": 50,
   "id": "db12611b-57b2-4910-b9d0-355adfd6e7bf",
   "metadata": {
    "execution": {
     "iopub.execute_input": "2025-08-05T15:37:54.358816Z",
     "iopub.status.busy": "2025-08-05T15:37:54.358326Z",
     "iopub.status.idle": "2025-08-05T15:37:54.380171Z",
     "shell.execute_reply": "2025-08-05T15:37:54.379208Z"
    },
    "papermill": {
     "duration": 0.048052,
     "end_time": "2025-08-05T15:37:54.381859",
     "exception": false,
     "start_time": "2025-08-05T15:37:54.333807",
     "status": "completed"
    },
    "tags": []
   },
   "outputs": [
    {
     "data": {
      "text/html": [
       "<div>\n",
       "<style scoped>\n",
       "    .dataframe tbody tr th:only-of-type {\n",
       "        vertical-align: middle;\n",
       "    }\n",
       "\n",
       "    .dataframe tbody tr th {\n",
       "        vertical-align: top;\n",
       "    }\n",
       "\n",
       "    .dataframe thead th {\n",
       "        text-align: right;\n",
       "    }\n",
       "</style>\n",
       "<table border=\"1\" class=\"dataframe\">\n",
       "  <thead>\n",
       "    <tr style=\"text-align: right;\">\n",
       "      <th></th>\n",
       "      <th>universe_id</th>\n",
       "      <th>universe_training_year</th>\n",
       "      <th>universe_training_size</th>\n",
       "      <th>universe_scale</th>\n",
       "      <th>universe_model</th>\n",
       "      <th>universe_exclude_features</th>\n",
       "      <th>universe_exclude_subgroups</th>\n",
       "      <th>q_hat</th>\n",
       "      <th>coverage</th>\n",
       "      <th>avg_size</th>\n",
       "    </tr>\n",
       "  </thead>\n",
       "  <tbody>\n",
       "    <tr>\n",
       "      <th>0</th>\n",
       "      <td>15724b4022588e1645f8235d9eb9f00a</td>\n",
       "      <td>2012_14</td>\n",
       "      <td>5k</td>\n",
       "      <td>scale</td>\n",
       "      <td>rf</td>\n",
       "      <td>age</td>\n",
       "      <td>keep-all</td>\n",
       "      <td>0.68</td>\n",
       "      <td>0.913845</td>\n",
       "      <td>1.146349</td>\n",
       "    </tr>\n",
       "  </tbody>\n",
       "</table>\n",
       "</div>"
      ],
      "text/plain": [
       "                        universe_id universe_training_year  \\\n",
       "0  15724b4022588e1645f8235d9eb9f00a                2012_14   \n",
       "\n",
       "  universe_training_size universe_scale universe_model  \\\n",
       "0                     5k          scale             rf   \n",
       "\n",
       "  universe_exclude_features universe_exclude_subgroups  q_hat  coverage  \\\n",
       "0                       age                   keep-all   0.68  0.913845   \n",
       "\n",
       "   avg_size  \n",
       "0  1.146349  "
      ]
     },
     "execution_count": 50,
     "metadata": {},
     "output_type": "execute_result"
    }
   ],
   "source": [
    "cp_metrics_df"
   ]
  },
  {
   "cell_type": "code",
   "execution_count": 51,
   "id": "b7fbde55-a0a1-47e4-9af6-fe4a17fa8c61",
   "metadata": {
    "execution": {
     "iopub.execute_input": "2025-08-05T15:37:54.426518Z",
     "iopub.status.busy": "2025-08-05T15:37:54.425783Z",
     "iopub.status.idle": "2025-08-05T15:37:54.431112Z",
     "shell.execute_reply": "2025-08-05T15:37:54.429990Z"
    },
    "papermill": {
     "duration": 0.028636,
     "end_time": "2025-08-05T15:37:54.433045",
     "exception": false,
     "start_time": "2025-08-05T15:37:54.404409",
     "status": "completed"
    },
    "tags": []
   },
   "outputs": [],
   "source": [
    "# Conditional Coverage & looking at subgroups"
   ]
  },
  {
   "cell_type": "code",
   "execution_count": 52,
   "id": "027ae886-68dd-4141-96c7-805a5450e1ef",
   "metadata": {
    "execution": {
     "iopub.execute_input": "2025-08-05T15:37:54.479440Z",
     "iopub.status.busy": "2025-08-05T15:37:54.478539Z",
     "iopub.status.idle": "2025-08-05T15:37:54.760936Z",
     "shell.execute_reply": "2025-08-05T15:37:54.759916Z"
    },
    "papermill": {
     "duration": 0.307305,
     "end_time": "2025-08-05T15:37:54.762930",
     "exception": false,
     "start_time": "2025-08-05T15:37:54.455625",
     "status": "completed"
    },
    "tags": []
   },
   "outputs": [],
   "source": [
    "from fairness_multiverse.conformal import build_cp_groups\n",
    "\n",
    "cp_groups_df = build_cp_groups(pred_sets, y_true, X_test.index, org_test)\n",
    "#needs universe_id and setting"
   ]
  },
  {
   "cell_type": "code",
   "execution_count": 53,
   "id": "6cbdab96-b2b2-45af-ad54-d0516db2e28d",
   "metadata": {
    "execution": {
     "iopub.execute_input": "2025-08-05T15:37:54.817718Z",
     "iopub.status.busy": "2025-08-05T15:37:54.817108Z",
     "iopub.status.idle": "2025-08-05T15:37:56.564482Z",
     "shell.execute_reply": "2025-08-05T15:37:56.563481Z"
    },
    "papermill": {
     "duration": 1.776616,
     "end_time": "2025-08-05T15:37:56.566514",
     "exception": false,
     "start_time": "2025-08-05T15:37:54.789898",
     "status": "completed"
    },
    "tags": []
   },
   "outputs": [],
   "source": [
    "# Define covered = 1 if true_label is in the predicted set\n",
    "cp_groups_df['covered'] = cp_groups_df.apply(\n",
    "    lambda r: int(r['true_label'] in r['pred_set']),\n",
    "    axis=1\n",
    ")"
   ]
  },
  {
   "cell_type": "code",
   "execution_count": 54,
   "id": "338ff529-1a6b-4b87-a931-8e4788d52aad",
   "metadata": {
    "execution": {
     "iopub.execute_input": "2025-08-05T15:37:56.617846Z",
     "iopub.status.busy": "2025-08-05T15:37:56.617360Z",
     "iopub.status.idle": "2025-08-05T15:37:56.623044Z",
     "shell.execute_reply": "2025-08-05T15:37:56.621876Z"
    },
    "papermill": {
     "duration": 0.03326,
     "end_time": "2025-08-05T15:37:56.624768",
     "exception": false,
     "start_time": "2025-08-05T15:37:56.591508",
     "status": "completed"
    },
    "tags": []
   },
   "outputs": [],
   "source": [
    "#cp_groups_df"
   ]
  },
  {
   "cell_type": "code",
   "execution_count": 55,
   "id": "90032e27-66df-4540-9169-4e89cfbaa758",
   "metadata": {
    "execution": {
     "iopub.execute_input": "2025-08-05T15:37:56.678908Z",
     "iopub.status.busy": "2025-08-05T15:37:56.677788Z",
     "iopub.status.idle": "2025-08-05T15:37:56.689445Z",
     "shell.execute_reply": "2025-08-05T15:37:56.688445Z"
    },
    "papermill": {
     "duration": 0.040393,
     "end_time": "2025-08-05T15:37:56.691280",
     "exception": false,
     "start_time": "2025-08-05T15:37:56.650887",
     "status": "completed"
    },
    "tags": []
   },
   "outputs": [],
   "source": [
    "subgroups = ['frau1','nongerman','nongerman_male','nongerman_female']\n",
    "\n",
    "# Conditional coverage for subgroup==1\n",
    "cond_coverage = {\n",
    "    g: cp_groups_df.loc[cp_groups_df[g]==1, 'covered'].mean()\n",
    "    for g in subgroups\n",
    "}"
   ]
  },
  {
   "cell_type": "code",
   "execution_count": 56,
   "id": "1e348fb1-b9c3-45bc-ba23-f016827a7e0d",
   "metadata": {
    "execution": {
     "iopub.execute_input": "2025-08-05T15:37:56.744206Z",
     "iopub.status.busy": "2025-08-05T15:37:56.743530Z",
     "iopub.status.idle": "2025-08-05T15:37:56.751865Z",
     "shell.execute_reply": "2025-08-05T15:37:56.750836Z"
    },
    "papermill": {
     "duration": 0.037003,
     "end_time": "2025-08-05T15:37:56.754219",
     "exception": false,
     "start_time": "2025-08-05T15:37:56.717216",
     "status": "completed"
    },
    "tags": []
   },
   "outputs": [
    {
     "data": {
      "text/plain": [
       "{'frau1': 0.9091521768432403,\n",
       " 'nongerman': 0.9105147925672262,\n",
       " 'nongerman_male': 0.9242547059353328,\n",
       " 'nongerman_female': 0.887779433681073}"
      ]
     },
     "execution_count": 56,
     "metadata": {},
     "output_type": "execute_result"
    }
   ],
   "source": [
    "cond_coverage"
   ]
  },
  {
   "cell_type": "code",
   "execution_count": 57,
   "id": "f5093324-c3dd-4d63-bc4c-8d945e5c8bbb",
   "metadata": {
    "execution": {
     "iopub.execute_input": "2025-08-05T15:37:56.797558Z",
     "iopub.status.busy": "2025-08-05T15:37:56.797108Z",
     "iopub.status.idle": "2025-08-05T15:37:56.804365Z",
     "shell.execute_reply": "2025-08-05T15:37:56.803340Z"
    },
    "papermill": {
     "duration": 0.03025,
     "end_time": "2025-08-05T15:37:56.806092",
     "exception": false,
     "start_time": "2025-08-05T15:37:56.775842",
     "status": "completed"
    },
    "tags": []
   },
   "outputs": [],
   "source": [
    "for subgroup, cov in cond_coverage.items():\n",
    "    cp_metrics_df[f\"cov_{subgroup}\"] = cov"
   ]
  },
  {
   "cell_type": "code",
   "execution_count": 58,
   "id": "6e872e10-dbe5-49e8-b554-5030c98ff75d",
   "metadata": {
    "execution": {
     "iopub.execute_input": "2025-08-05T15:37:56.851540Z",
     "iopub.status.busy": "2025-08-05T15:37:56.850693Z",
     "iopub.status.idle": "2025-08-05T15:37:56.869819Z",
     "shell.execute_reply": "2025-08-05T15:37:56.868666Z"
    },
    "papermill": {
     "duration": 0.043448,
     "end_time": "2025-08-05T15:37:56.871559",
     "exception": false,
     "start_time": "2025-08-05T15:37:56.828111",
     "status": "completed"
    },
    "tags": []
   },
   "outputs": [
    {
     "data": {
      "text/html": [
       "<div>\n",
       "<style scoped>\n",
       "    .dataframe tbody tr th:only-of-type {\n",
       "        vertical-align: middle;\n",
       "    }\n",
       "\n",
       "    .dataframe tbody tr th {\n",
       "        vertical-align: top;\n",
       "    }\n",
       "\n",
       "    .dataframe thead th {\n",
       "        text-align: right;\n",
       "    }\n",
       "</style>\n",
       "<table border=\"1\" class=\"dataframe\">\n",
       "  <thead>\n",
       "    <tr style=\"text-align: right;\">\n",
       "      <th></th>\n",
       "      <th>universe_id</th>\n",
       "      <th>universe_training_year</th>\n",
       "      <th>universe_training_size</th>\n",
       "      <th>universe_scale</th>\n",
       "      <th>universe_model</th>\n",
       "      <th>universe_exclude_features</th>\n",
       "      <th>universe_exclude_subgroups</th>\n",
       "      <th>q_hat</th>\n",
       "      <th>coverage</th>\n",
       "      <th>avg_size</th>\n",
       "      <th>cov_frau1</th>\n",
       "      <th>cov_nongerman</th>\n",
       "      <th>cov_nongerman_male</th>\n",
       "      <th>cov_nongerman_female</th>\n",
       "    </tr>\n",
       "  </thead>\n",
       "  <tbody>\n",
       "    <tr>\n",
       "      <th>0</th>\n",
       "      <td>15724b4022588e1645f8235d9eb9f00a</td>\n",
       "      <td>2012_14</td>\n",
       "      <td>5k</td>\n",
       "      <td>scale</td>\n",
       "      <td>rf</td>\n",
       "      <td>age</td>\n",
       "      <td>keep-all</td>\n",
       "      <td>0.68</td>\n",
       "      <td>0.913845</td>\n",
       "      <td>1.146349</td>\n",
       "      <td>0.909152</td>\n",
       "      <td>0.910515</td>\n",
       "      <td>0.924255</td>\n",
       "      <td>0.887779</td>\n",
       "    </tr>\n",
       "  </tbody>\n",
       "</table>\n",
       "</div>"
      ],
      "text/plain": [
       "                        universe_id universe_training_year  \\\n",
       "0  15724b4022588e1645f8235d9eb9f00a                2012_14   \n",
       "\n",
       "  universe_training_size universe_scale universe_model  \\\n",
       "0                     5k          scale             rf   \n",
       "\n",
       "  universe_exclude_features universe_exclude_subgroups  q_hat  coverage  \\\n",
       "0                       age                   keep-all   0.68  0.913845   \n",
       "\n",
       "   avg_size  cov_frau1  cov_nongerman  cov_nongerman_male  \\\n",
       "0  1.146349   0.909152       0.910515            0.924255   \n",
       "\n",
       "   cov_nongerman_female  \n",
       "0              0.887779  "
      ]
     },
     "execution_count": 58,
     "metadata": {},
     "output_type": "execute_result"
    }
   ],
   "source": [
    "cp_metrics_df"
   ]
  },
  {
   "cell_type": "markdown",
   "id": "33774451",
   "metadata": {
    "papermill": {
     "duration": 0.024898,
     "end_time": "2025-08-05T15:37:56.922578",
     "exception": false,
     "start_time": "2025-08-05T15:37:56.897680",
     "status": "completed"
    },
    "tags": []
   },
   "source": [
    "# (Fairness) Metrics"
   ]
  },
  {
   "cell_type": "code",
   "execution_count": 59,
   "id": "debc5d62",
   "metadata": {
    "execution": {
     "iopub.execute_input": "2025-08-05T15:37:56.973611Z",
     "iopub.status.busy": "2025-08-05T15:37:56.972918Z",
     "iopub.status.idle": "2025-08-05T15:37:56.993261Z",
     "shell.execute_reply": "2025-08-05T15:37:56.992350Z"
    },
    "papermill": {
     "duration": 0.047993,
     "end_time": "2025-08-05T15:37:56.995051",
     "exception": false,
     "start_time": "2025-08-05T15:37:56.947058",
     "status": "completed"
    },
    "tags": []
   },
   "outputs": [],
   "source": [
    "# do I need to include maxdeutsch1.missing?\n",
    "\n",
    "import numpy as np\n",
    "\n",
    "colname_to_bin = \"maxdeutsch1\"\n",
    "majority_value = org_train[colname_to_bin].mode()[0]\n",
    "\n",
    "org_test[\"majmin\"] = np.where(org_test[colname_to_bin] == majority_value, \"majority\", \"minority\")"
   ]
  },
  {
   "cell_type": "code",
   "execution_count": 60,
   "id": "06a50de5",
   "metadata": {
    "execution": {
     "iopub.execute_input": "2025-08-05T15:37:57.047487Z",
     "iopub.status.busy": "2025-08-05T15:37:57.047019Z",
     "iopub.status.idle": "2025-08-05T15:37:59.265734Z",
     "shell.execute_reply": "2025-08-05T15:37:59.264625Z"
    },
    "papermill": {
     "duration": 2.246847,
     "end_time": "2025-08-05T15:37:59.268137",
     "exception": false,
     "start_time": "2025-08-05T15:37:57.021290",
     "status": "completed"
    },
    "tags": []
   },
   "outputs": [],
   "source": [
    "example_universe = universe.copy()\n",
    "example_universe[\"cutoff\"] = example_universe[\"cutoff\"][0]\n",
    "example_universe[\"eval_fairness_grouping\"] = example_universe[\"eval_fairness_grouping\"][0]\n",
    "fairness_dict, metric_frame = universe_analysis.compute_metrics(\n",
    "    example_universe,\n",
    "    y_pred_prob=probs_test,\n",
    "    y_test=y_true,\n",
    "    org_test=org_test,\n",
    ")"
   ]
  },
  {
   "cell_type": "markdown",
   "id": "f95d4e02",
   "metadata": {
    "papermill": {
     "duration": 0.030496,
     "end_time": "2025-08-05T15:37:59.329774",
     "exception": false,
     "start_time": "2025-08-05T15:37:59.299278",
     "status": "completed"
    },
    "tags": []
   },
   "source": [
    "# Overall"
   ]
  },
  {
   "cell_type": "markdown",
   "id": "bdee4871",
   "metadata": {
    "papermill": {
     "duration": 0.028997,
     "end_time": "2025-08-05T15:37:59.391342",
     "exception": false,
     "start_time": "2025-08-05T15:37:59.362345",
     "status": "completed"
    },
    "tags": []
   },
   "source": [
    "Fairness\n",
    "Main fairness target: Equalized Odds. Seems to be a better fit than equal opportunity, since we're not only interested in Y = 1. Seems to be a better fit than demographic parity, since we also care about accuracy, not just equal distribution of preds.\n",
    "\n",
    "Pick column for computation of fairness metrics\n",
    "\n",
    "Performance\n",
    "Overall performance measures, most interesting in relation to the measures split by group below"
   ]
  },
  {
   "cell_type": "code",
   "execution_count": 61,
   "id": "c4e067c6",
   "metadata": {
    "execution": {
     "iopub.execute_input": "2025-08-05T15:37:59.440643Z",
     "iopub.status.busy": "2025-08-05T15:37:59.439968Z",
     "iopub.status.idle": "2025-08-05T15:37:59.448680Z",
     "shell.execute_reply": "2025-08-05T15:37:59.447315Z"
    },
    "papermill": {
     "duration": 0.033352,
     "end_time": "2025-08-05T15:37:59.450455",
     "exception": false,
     "start_time": "2025-08-05T15:37:59.417103",
     "status": "completed"
    },
    "tags": []
   },
   "outputs": [
    {
     "data": {
      "text/plain": [
       "accuracy                   0.207268\n",
       "balanced accuracy          0.535190\n",
       "f1                         0.240100\n",
       "precision                  0.136882\n",
       "false positive rate        0.905898\n",
       "false negative rate        0.023723\n",
       "selection rate             0.914926\n",
       "count                  89710.000000\n",
       "dtype: float64"
      ]
     },
     "execution_count": 61,
     "metadata": {},
     "output_type": "execute_result"
    }
   ],
   "source": [
    "metric_frame.overall"
   ]
  },
  {
   "cell_type": "markdown",
   "id": "e968fe9d",
   "metadata": {
    "papermill": {
     "duration": 0.026178,
     "end_time": "2025-08-05T15:37:59.503367",
     "exception": false,
     "start_time": "2025-08-05T15:37:59.477189",
     "status": "completed"
    },
    "tags": []
   },
   "source": [
    "By Group"
   ]
  },
  {
   "cell_type": "code",
   "execution_count": 62,
   "id": "ec325bce",
   "metadata": {
    "execution": {
     "iopub.execute_input": "2025-08-05T15:37:59.557023Z",
     "iopub.status.busy": "2025-08-05T15:37:59.556082Z",
     "iopub.status.idle": "2025-08-05T15:37:59.572270Z",
     "shell.execute_reply": "2025-08-05T15:37:59.571150Z"
    },
    "papermill": {
     "duration": 0.045741,
     "end_time": "2025-08-05T15:37:59.573989",
     "exception": false,
     "start_time": "2025-08-05T15:37:59.528248",
     "status": "completed"
    },
    "tags": []
   },
   "outputs": [
    {
     "data": {
      "text/html": [
       "<div>\n",
       "<style scoped>\n",
       "    .dataframe tbody tr th:only-of-type {\n",
       "        vertical-align: middle;\n",
       "    }\n",
       "\n",
       "    .dataframe tbody tr th {\n",
       "        vertical-align: top;\n",
       "    }\n",
       "\n",
       "    .dataframe thead th {\n",
       "        text-align: right;\n",
       "    }\n",
       "</style>\n",
       "<table border=\"1\" class=\"dataframe\">\n",
       "  <thead>\n",
       "    <tr style=\"text-align: right;\">\n",
       "      <th></th>\n",
       "      <th>accuracy</th>\n",
       "      <th>balanced accuracy</th>\n",
       "      <th>f1</th>\n",
       "      <th>precision</th>\n",
       "      <th>false positive rate</th>\n",
       "      <th>false negative rate</th>\n",
       "      <th>selection rate</th>\n",
       "      <th>count</th>\n",
       "    </tr>\n",
       "    <tr>\n",
       "      <th>majmin</th>\n",
       "      <th></th>\n",
       "      <th></th>\n",
       "      <th></th>\n",
       "      <th></th>\n",
       "      <th></th>\n",
       "      <th></th>\n",
       "      <th></th>\n",
       "      <th></th>\n",
       "    </tr>\n",
       "  </thead>\n",
       "  <tbody>\n",
       "    <tr>\n",
       "      <th>majority</th>\n",
       "      <td>0.196863</td>\n",
       "      <td>0.532235</td>\n",
       "      <td>0.245358</td>\n",
       "      <td>0.140070</td>\n",
       "      <td>0.923605</td>\n",
       "      <td>0.011926</td>\n",
       "      <td>0.932124</td>\n",
       "      <td>69170.0</td>\n",
       "    </tr>\n",
       "    <tr>\n",
       "      <th>minority</th>\n",
       "      <td>0.242308</td>\n",
       "      <td>0.541670</td>\n",
       "      <td>0.220720</td>\n",
       "      <td>0.125206</td>\n",
       "      <td>0.847403</td>\n",
       "      <td>0.069257</td>\n",
       "      <td>0.857011</td>\n",
       "      <td>20540.0</td>\n",
       "    </tr>\n",
       "  </tbody>\n",
       "</table>\n",
       "</div>"
      ],
      "text/plain": [
       "          accuracy  balanced accuracy        f1  precision  \\\n",
       "majmin                                                       \n",
       "majority  0.196863           0.532235  0.245358   0.140070   \n",
       "minority  0.242308           0.541670  0.220720   0.125206   \n",
       "\n",
       "          false positive rate  false negative rate  selection rate    count  \n",
       "majmin                                                                       \n",
       "majority             0.923605             0.011926        0.932124  69170.0  \n",
       "minority             0.847403             0.069257        0.857011  20540.0  "
      ]
     },
     "execution_count": 62,
     "metadata": {},
     "output_type": "execute_result"
    }
   ],
   "source": [
    "metric_frame.by_group"
   ]
  },
  {
   "cell_type": "code",
   "execution_count": 63,
   "id": "a9ddbe63",
   "metadata": {
    "execution": {
     "iopub.execute_input": "2025-08-05T15:37:59.629144Z",
     "iopub.status.busy": "2025-08-05T15:37:59.628471Z",
     "iopub.status.idle": "2025-08-05T15:38:01.959249Z",
     "shell.execute_reply": "2025-08-05T15:38:01.958262Z"
    },
    "papermill": {
     "duration": 2.360576,
     "end_time": "2025-08-05T15:38:01.960981",
     "exception": false,
     "start_time": "2025-08-05T15:37:59.600405",
     "status": "completed"
    },
    "tags": []
   },
   "outputs": [
    {
     "data": {
      "text/plain": [
       "array([[<Axes: title={'center': 'accuracy'}, xlabel='majmin'>,\n",
       "        <Axes: title={'center': 'balanced accuracy'}, xlabel='majmin'>,\n",
       "        <Axes: title={'center': 'f1'}, xlabel='majmin'>],\n",
       "       [<Axes: title={'center': 'precision'}, xlabel='majmin'>,\n",
       "        <Axes: title={'center': 'false positive rate'}, xlabel='majmin'>,\n",
       "        <Axes: title={'center': 'false negative rate'}, xlabel='majmin'>],\n",
       "       [<Axes: title={'center': 'selection rate'}, xlabel='majmin'>,\n",
       "        <Axes: title={'center': 'count'}, xlabel='majmin'>,\n",
       "        <Axes: xlabel='majmin'>]], dtype=object)"
      ]
     },
     "execution_count": 63,
     "metadata": {},
     "output_type": "execute_result"
    },
    {
     "data": {
      "image/png": "[encoded data removed]",
      "text/plain": [
       "<Figure size 1200x800 with 9 Axes>"
      ]
     },
     "metadata": {},
     "output_type": "display_data"
    }
   ],
   "source": [
    "# In a graphic\n",
    "metric_frame.by_group.plot.bar(\n",
    "    subplots=True,\n",
    "    layout=[3, 3],\n",
    "    legend=False,\n",
    "    figsize=[12, 8],\n",
    "    title=\"Show all metrics\",\n",
    ")"
   ]
  },
  {
   "cell_type": "markdown",
   "id": "f57a0bac",
   "metadata": {
    "papermill": {
     "duration": 0.028852,
     "end_time": "2025-08-05T15:38:02.018657",
     "exception": false,
     "start_time": "2025-08-05T15:38:01.989805",
     "status": "completed"
    },
    "tags": []
   },
   "source": [
    "# Final Output"
   ]
  },
  {
   "cell_type": "code",
   "execution_count": 64,
   "id": "96d280a3",
   "metadata": {
    "execution": {
     "iopub.execute_input": "2025-08-05T15:38:02.076036Z",
     "iopub.status.busy": "2025-08-05T15:38:02.075414Z",
     "iopub.status.idle": "2025-08-05T15:38:02.084468Z",
     "shell.execute_reply": "2025-08-05T15:38:02.083468Z"
    },
    "papermill": {
     "duration": 0.04015,
     "end_time": "2025-08-05T15:38:02.086019",
     "exception": false,
     "start_time": "2025-08-05T15:38:02.045869",
     "status": "completed"
    },
    "tags": []
   },
   "outputs": [
    {
     "data": {
      "text/plain": [
       "4"
      ]
     },
     "execution_count": 64,
     "metadata": {},
     "output_type": "execute_result"
    }
   ],
   "source": [
    "sub_universes = universe_analysis.generate_sub_universes()\n",
    "len(sub_universes)"
   ]
  },
  {
   "cell_type": "code",
   "execution_count": 65,
   "id": "92adf7ba",
   "metadata": {
    "execution": {
     "iopub.execute_input": "2025-08-05T15:38:02.134879Z",
     "iopub.status.busy": "2025-08-05T15:38:02.134029Z",
     "iopub.status.idle": "2025-08-05T15:38:02.140136Z",
     "shell.execute_reply": "2025-08-05T15:38:02.139127Z"
    },
    "papermill": {
     "duration": 0.032845,
     "end_time": "2025-08-05T15:38:02.142050",
     "exception": false,
     "start_time": "2025-08-05T15:38:02.109205",
     "status": "completed"
    },
    "tags": []
   },
   "outputs": [],
   "source": [
    "def filter_sub_universe_data(sub_universe, org_test):\n",
    "    # Keep all rows — no filtering\n",
    "    keep_rows_mask = np.ones(org_test.shape[0], dtype=bool)\n",
    "\n",
    "    print(f\"[INFO] Keeping all rows: {keep_rows_mask.sum()} rows retained.\")\n",
    "    return keep_rows_mask"
   ]
  },
  {
   "cell_type": "code",
   "execution_count": 66,
   "id": "4a759155",
   "metadata": {
    "execution": {
     "iopub.execute_input": "2025-08-05T15:38:02.200573Z",
     "iopub.status.busy": "2025-08-05T15:38:02.199902Z",
     "iopub.status.idle": "2025-08-05T15:38:11.269116Z",
     "shell.execute_reply": "2025-08-05T15:38:11.268154Z"
    },
    "papermill": {
     "duration": 9.100421,
     "end_time": "2025-08-05T15:38:11.270732",
     "exception": false,
     "start_time": "2025-08-05T15:38:02.170311",
     "status": "completed"
    },
    "tags": []
   },
   "outputs": [
    {
     "name": "stdout",
     "output_type": "stream",
     "text": [
      "Stopping execution_time clock.\n",
      "[INFO] Keeping all rows: 89710 rows retained.\n"
     ]
    },
    {
     "name": "stdout",
     "output_type": "stream",
     "text": [
      "[INFO] Keeping all rows: 89710 rows retained.\n"
     ]
    },
    {
     "name": "stdout",
     "output_type": "stream",
     "text": [
      "[INFO] Keeping all rows: 89710 rows retained.\n"
     ]
    },
    {
     "name": "stdout",
     "output_type": "stream",
     "text": [
      "[INFO] Keeping all rows: 89710 rows retained.\n"
     ]
    },
    {
     "data": {
      "text/html": [
       "<div>\n",
       "<style scoped>\n",
       "    .dataframe tbody tr th:only-of-type {\n",
       "        vertical-align: middle;\n",
       "    }\n",
       "\n",
       "    .dataframe tbody tr th {\n",
       "        vertical-align: top;\n",
       "    }\n",
       "\n",
       "    .dataframe thead th {\n",
       "        text-align: right;\n",
       "    }\n",
       "</style>\n",
       "<table border=\"1\" class=\"dataframe\">\n",
       "  <thead>\n",
       "    <tr style=\"text-align: right;\">\n",
       "      <th></th>\n",
       "      <th>run_no</th>\n",
       "      <th>universe_id</th>\n",
       "      <th>universe_settings</th>\n",
       "      <th>execution_time</th>\n",
       "      <th>test_size_n</th>\n",
       "      <th>test_size_frac</th>\n",
       "      <th>fair_main_equalized_odds_difference</th>\n",
       "      <th>fair_main_equalized_odds_ratio</th>\n",
       "      <th>fair_main_demographic_parity_difference</th>\n",
       "      <th>fair_main_demographic_parity_ratio</th>\n",
       "      <th>...</th>\n",
       "      <th>perf_grp_precision_0</th>\n",
       "      <th>perf_grp_precision_1</th>\n",
       "      <th>perf_grp_false positive rate_0</th>\n",
       "      <th>perf_grp_false positive rate_1</th>\n",
       "      <th>perf_grp_false negative rate_0</th>\n",
       "      <th>perf_grp_false negative rate_1</th>\n",
       "      <th>perf_grp_selection rate_0</th>\n",
       "      <th>perf_grp_selection rate_1</th>\n",
       "      <th>perf_grp_count_0</th>\n",
       "      <th>perf_grp_count_1</th>\n",
       "    </tr>\n",
       "  </thead>\n",
       "  <tbody>\n",
       "    <tr>\n",
       "      <th>0</th>\n",
       "      <td>15</td>\n",
       "      <td>15724b4022588e1645f8235d9eb9f00a</td>\n",
       "      <td>{\"cutoff\": \"quantile_0.1\", \"eval_fairness_grou...</td>\n",
       "      <td>36.062559</td>\n",
       "      <td>89710</td>\n",
       "      <td>1.0</td>\n",
       "      <td>0.076202</td>\n",
       "      <td>0.917495</td>\n",
       "      <td>0.075113</td>\n",
       "      <td>0.919417</td>\n",
       "      <td>...</td>\n",
       "      <td>NaN</td>\n",
       "      <td>NaN</td>\n",
       "      <td>NaN</td>\n",
       "      <td>NaN</td>\n",
       "      <td>NaN</td>\n",
       "      <td>NaN</td>\n",
       "      <td>NaN</td>\n",
       "      <td>NaN</td>\n",
       "      <td>NaN</td>\n",
       "      <td>NaN</td>\n",
       "    </tr>\n",
       "    <tr>\n",
       "      <th>0</th>\n",
       "      <td>15</td>\n",
       "      <td>15724b4022588e1645f8235d9eb9f00a</td>\n",
       "      <td>{\"cutoff\": \"quantile_0.1\", \"eval_fairness_grou...</td>\n",
       "      <td>36.062559</td>\n",
       "      <td>89710</td>\n",
       "      <td>1.0</td>\n",
       "      <td>0.076202</td>\n",
       "      <td>0.917495</td>\n",
       "      <td>0.075113</td>\n",
       "      <td>0.919417</td>\n",
       "      <td>...</td>\n",
       "      <td>0.125206</td>\n",
       "      <td>0.140070</td>\n",
       "      <td>0.847403</td>\n",
       "      <td>0.923605</td>\n",
       "      <td>0.069257</td>\n",
       "      <td>0.011926</td>\n",
       "      <td>0.857011</td>\n",
       "      <td>0.932124</td>\n",
       "      <td>20540.0</td>\n",
       "      <td>69170.0</td>\n",
       "    </tr>\n",
       "    <tr>\n",
       "      <th>0</th>\n",
       "      <td>15</td>\n",
       "      <td>15724b4022588e1645f8235d9eb9f00a</td>\n",
       "      <td>{\"cutoff\": \"quantile_0.25\", \"eval_fairness_gro...</td>\n",
       "      <td>36.062559</td>\n",
       "      <td>89710</td>\n",
       "      <td>1.0</td>\n",
       "      <td>0.119936</td>\n",
       "      <td>0.873606</td>\n",
       "      <td>0.094940</td>\n",
       "      <td>0.877045</td>\n",
       "      <td>...</td>\n",
       "      <td>NaN</td>\n",
       "      <td>NaN</td>\n",
       "      <td>NaN</td>\n",
       "      <td>NaN</td>\n",
       "      <td>NaN</td>\n",
       "      <td>NaN</td>\n",
       "      <td>NaN</td>\n",
       "      <td>NaN</td>\n",
       "      <td>NaN</td>\n",
       "      <td>NaN</td>\n",
       "    </tr>\n",
       "    <tr>\n",
       "      <th>0</th>\n",
       "      <td>15</td>\n",
       "      <td>15724b4022588e1645f8235d9eb9f00a</td>\n",
       "      <td>{\"cutoff\": \"quantile_0.25\", \"eval_fairness_gro...</td>\n",
       "      <td>36.062559</td>\n",
       "      <td>89710</td>\n",
       "      <td>1.0</td>\n",
       "      <td>0.119936</td>\n",
       "      <td>0.873606</td>\n",
       "      <td>0.094940</td>\n",
       "      <td>0.877045</td>\n",
       "      <td>...</td>\n",
       "      <td>0.141121</td>\n",
       "      <td>0.162385</td>\n",
       "      <td>0.657440</td>\n",
       "      <td>0.745244</td>\n",
       "      <td>0.171030</td>\n",
       "      <td>0.051094</td>\n",
       "      <td>0.677215</td>\n",
       "      <td>0.772156</td>\n",
       "      <td>20540.0</td>\n",
       "      <td>69170.0</td>\n",
       "    </tr>\n",
       "  </tbody>\n",
       "</table>\n",
       "<p>4 rows × 50 columns</p>\n",
       "</div>"
      ],
      "text/plain": [
       "  run_no                       universe_id  \\\n",
       "0     15  15724b4022588e1645f8235d9eb9f00a   \n",
       "0     15  15724b4022588e1645f8235d9eb9f00a   \n",
       "0     15  15724b4022588e1645f8235d9eb9f00a   \n",
       "0     15  15724b4022588e1645f8235d9eb9f00a   \n",
       "\n",
       "                                   universe_settings  execution_time  \\\n",
       "0  {\"cutoff\": \"quantile_0.1\", \"eval_fairness_grou...       36.062559   \n",
       "0  {\"cutoff\": \"quantile_0.1\", \"eval_fairness_grou...       36.062559   \n",
       "0  {\"cutoff\": \"quantile_0.25\", \"eval_fairness_gro...       36.062559   \n",
       "0  {\"cutoff\": \"quantile_0.25\", \"eval_fairness_gro...       36.062559   \n",
       "\n",
       "   test_size_n  test_size_frac  fair_main_equalized_odds_difference  \\\n",
       "0        89710             1.0                             0.076202   \n",
       "0        89710             1.0                             0.076202   \n",
       "0        89710             1.0                             0.119936   \n",
       "0        89710             1.0                             0.119936   \n",
       "\n",
       "   fair_main_equalized_odds_ratio  fair_main_demographic_parity_difference  \\\n",
       "0                        0.917495                                 0.075113   \n",
       "0                        0.917495                                 0.075113   \n",
       "0                        0.873606                                 0.094940   \n",
       "0                        0.873606                                 0.094940   \n",
       "\n",
       "   fair_main_demographic_parity_ratio  ...  perf_grp_precision_0  \\\n",
       "0                            0.919417  ...                   NaN   \n",
       "0                            0.919417  ...              0.125206   \n",
       "0                            0.877045  ...                   NaN   \n",
       "0                            0.877045  ...              0.141121   \n",
       "\n",
       "   perf_grp_precision_1  perf_grp_false positive rate_0  \\\n",
       "0                   NaN                             NaN   \n",
       "0              0.140070                        0.847403   \n",
       "0                   NaN                             NaN   \n",
       "0              0.162385                        0.657440   \n",
       "\n",
       "   perf_grp_false positive rate_1  perf_grp_false negative rate_0  \\\n",
       "0                             NaN                             NaN   \n",
       "0                        0.923605                        0.069257   \n",
       "0                             NaN                             NaN   \n",
       "0                        0.745244                        0.171030   \n",
       "\n",
       "   perf_grp_false negative rate_1  perf_grp_selection rate_0  \\\n",
       "0                             NaN                        NaN   \n",
       "0                        0.011926                   0.857011   \n",
       "0                             NaN                        NaN   \n",
       "0                        0.051094                   0.677215   \n",
       "\n",
       "   perf_grp_selection rate_1  perf_grp_count_0  perf_grp_count_1  \n",
       "0                        NaN               NaN               NaN  \n",
       "0                   0.932124           20540.0           69170.0  \n",
       "0                        NaN               NaN               NaN  \n",
       "0                   0.772156           20540.0           69170.0  \n",
       "\n",
       "[4 rows x 50 columns]"
      ]
     },
     "execution_count": 66,
     "metadata": {},
     "output_type": "execute_result"
    }
   ],
   "source": [
    "final_output = universe_analysis.generate_final_output(\n",
    "    y_pred_prob=probs_test,\n",
    "    y_test=y_true,\n",
    "    org_test=org_test,\n",
    "    filter_data=filter_sub_universe_data,\n",
    "    cp_metrics_df=cp_metrics_df,\n",
    "    save=True,\n",
    ")\n",
    "final_output"
   ]
  }
 ],
 "metadata": {
  "celltoolbar": "Tags",
  "kernelspec": {
   "display_name": "Python (CMA Fairness)",
   "language": "python",
   "name": "cma_fair_env"
  },
  "language_info": {
   "codemirror_mode": {
    "name": "ipython",
    "version": 3
   },
   "file_extension": ".py",
   "mimetype": "text/x-python",
   "name": "python",
   "nbconvert_exporter": "python",
   "pygments_lexer": "ipython3",
   "version": "3.10.12"
  },
  "papermill": {
   "default_parameters": {},
   "duration": 49.314223,
   "end_time": "2025-08-05T15:38:12.017621",
   "environment_variables": {},
   "exception": null,
   "input_path": "universe_analysis.ipynb",
   "output_path": "output/runs/15/notebooks/m_15-15724b4022588e1645f8235d9eb9f00a.ipynb",
   "parameters": {
    "output_dir": "output",
    "run_no": "15",
    "seed": "2023",
    "universe": "{\"cutoff\": [\"quantile_0.1\", \"quantile_0.25\"], \"eval_fairness_grouping\": [\"majority-minority\", \"nationality-all\"], \"exclude_features\": \"age\", \"exclude_subgroups\": \"keep-all\", \"model\": \"rf\", \"scale\": \"scale\", \"training_size\": \"5k\", \"training_year\": \"2012_14\"}",
    "universe_id": "15724b4022588e1645f8235d9eb9f00a"
   },
   "start_time": "2025-08-05T15:37:22.703398",
   "version": "2.6.0"
  }
 },
 "nbformat": 4,
 "nbformat_minor": 5
}