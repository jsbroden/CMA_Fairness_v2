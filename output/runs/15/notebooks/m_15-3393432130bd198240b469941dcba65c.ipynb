{
 "cells": [
  {
   "cell_type": "code",
   "execution_count": 1,
   "id": "f159f837-637b-42ba-96b5-ec9a68c44524",
   "metadata": {
    "execution": {
     "iopub.execute_input": "2025-08-05T15:26:53.861107Z",
     "iopub.status.busy": "2025-08-05T15:26:53.860622Z",
     "iopub.status.idle": "2025-08-05T15:26:53.875591Z",
     "shell.execute_reply": "2025-08-05T15:26:53.874519Z"
    },
    "papermill": {
     "duration": 0.033674,
     "end_time": "2025-08-05T15:26:53.877148",
     "exception": false,
     "start_time": "2025-08-05T15:26:53.843474",
     "status": "completed"
    },
    "tags": []
   },
   "outputs": [
    {
     "name": "stdout",
     "output_type": "stream",
     "text": [
      "/dss/dsshome1/0C/ra93lal2/cma/CMA_Fairness_v2\n"
     ]
    },
    {
     "name": "stderr",
     "output_type": "stream",
     "text": [
      "/dss/dsshome1/0C/ra93lal2/.local/share/virtualenvs/CMA_Fairness_v2-3j10GkSs/lib/python3.10/site-packages/IPython/core/magics/osm.py:393: UserWarning: This is now an optional IPython functionality, using bookmarks requires you to install the `pickleshare` library.\n",
      "  bkms = self.shell.db.get('bookmarks', {})\n",
      "/dss/dsshome1/0C/ra93lal2/.local/share/virtualenvs/CMA_Fairness_v2-3j10GkSs/lib/python3.10/site-packages/IPython/core/magics/osm.py:417: UserWarning: This is now an optional IPython functionality, setting dhist requires you to install the `pickleshare` library.\n",
      "  self.shell.db['dhist'] = compress_dhist(dhist)[-100:]\n"
     ]
    }
   ],
   "source": [
    "%cd ~/cma/CMA_Fairness_v2"
   ]
  },
  {
   "cell_type": "markdown",
   "id": "de2603b9",
   "metadata": {
    "papermill": {
     "duration": 0.01918,
     "end_time": "2025-08-05T15:26:53.912139",
     "exception": false,
     "start_time": "2025-08-05T15:26:53.892959",
     "status": "completed"
    },
    "tags": []
   },
   "source": [
    "The following cell holds the definition of our parameters, these values can be overriden by rendering the with e.g. the following command:\n",
    "\n",
    "papermill -p alpha 0.2 -p ratio 0.3 universe_analysis.ipynb output/test_run.ipynb"
   ]
  },
  {
   "cell_type": "code",
   "execution_count": 2,
   "id": "a80968a0-40bb-4fa9-85ef-2d5eefb01975",
   "metadata": {
    "execution": {
     "iopub.execute_input": "2025-08-05T15:26:53.943656Z",
     "iopub.status.busy": "2025-08-05T15:26:53.942952Z",
     "iopub.status.idle": "2025-08-05T15:26:53.948271Z",
     "shell.execute_reply": "2025-08-05T15:26:53.947129Z"
    },
    "papermill": {
     "duration": 0.022659,
     "end_time": "2025-08-05T15:26:53.949964",
     "exception": false,
     "start_time": "2025-08-05T15:26:53.927305",
     "status": "completed"
    },
    "tags": []
   },
   "outputs": [
    {
     "name": "stdout",
     "output_type": "stream",
     "text": [
      "Current working directory: /dss/dsshome1/0C/ra93lal2/cma/CMA_Fairness_v2\n"
     ]
    }
   ],
   "source": [
    "import os\n",
    "print(\"Current working directory:\", os.getcwd())"
   ]
  },
  {
   "cell_type": "code",
   "execution_count": 3,
   "id": "2dce4c03",
   "metadata": {
    "execution": {
     "iopub.execute_input": "2025-08-05T15:26:53.984463Z",
     "iopub.status.busy": "2025-08-05T15:26:53.983957Z",
     "iopub.status.idle": "2025-08-05T15:26:53.990000Z",
     "shell.execute_reply": "2025-08-05T15:26:53.989081Z"
    },
    "papermill": {
     "duration": 0.0245,
     "end_time": "2025-08-05T15:26:53.991958",
     "exception": false,
     "start_time": "2025-08-05T15:26:53.967458",
     "status": "completed"
    },
    "tags": [
     "parameters"
    ]
   },
   "outputs": [],
   "source": [
    "run_no = 0\n",
    "universe_id = \"test\"\n",
    "universe = {\n",
    "    \"training_size\": \"25k\", # \"25k\", \"5k\", \"1k\"\n",
    "    \"training_year\": \"2014\", # \"2014\", \"2012_14\", \"2010_14\"\n",
    "    \"scale\": \"scale\", # \"scale\", \"do-not-scale\",\n",
    "    \"model\": \"elasticnet\", # \"logreg\", \"penalized_logreg\", \"rf\", \"gbm\", \"elasticnet\"\n",
    "    \"cutoff\": [\"quantile_0.15\", \"quantile_0.30\"],\n",
    "    \"exclude_features\": \"age\", # \"none\", \"nationality\", \"sex\", \"nationality-sex\", \"age\"\n",
    "    \"exclude_subgroups\": \"keep-all\", # \"keep-all\", \"drop-non-german\"\n",
    "    \"eval_fairness_grouping\": [\"majority-minority\", \"nationality-all\"]\n",
    "}\n",
    "\n",
    "output_dir=\"./output\"\n",
    "seed=0"
   ]
  },
  {
   "cell_type": "code",
   "execution_count": 4,
   "id": "1fa4c08a",
   "metadata": {
    "execution": {
     "iopub.execute_input": "2025-08-05T15:26:54.027841Z",
     "iopub.status.busy": "2025-08-05T15:26:54.027387Z",
     "iopub.status.idle": "2025-08-05T15:26:54.032796Z",
     "shell.execute_reply": "2025-08-05T15:26:54.031799Z"
    },
    "papermill": {
     "duration": 0.026036,
     "end_time": "2025-08-05T15:26:54.034663",
     "exception": false,
     "start_time": "2025-08-05T15:26:54.008627",
     "status": "completed"
    },
    "tags": [
     "injected-parameters"
    ]
   },
   "outputs": [],
   "source": [
    "# Parameters\n",
    "universe_id = \"3393432130bd198240b469941dcba65c\"\n",
    "run_no = \"15\"\n",
    "universe = \"{\\\"cutoff\\\": [\\\"quantile_0.1\\\", \\\"quantile_0.25\\\"], \\\"eval_fairness_grouping\\\": [\\\"majority-minority\\\", \\\"nationality-all\\\"], \\\"exclude_features\\\": \\\"age\\\", \\\"exclude_subgroups\\\": \\\"keep-all\\\", \\\"model\\\": \\\"elasticnet\\\", \\\"scale\\\": \\\"scale\\\", \\\"training_size\\\": \\\"5k\\\", \\\"training_year\\\": \\\"2014\\\"}\"\n",
    "output_dir = \"output\"\n",
    "seed = \"2023\"\n"
   ]
  },
  {
   "cell_type": "code",
   "execution_count": 5,
   "id": "1650acaf",
   "metadata": {
    "execution": {
     "iopub.execute_input": "2025-08-05T15:26:54.067699Z",
     "iopub.status.busy": "2025-08-05T15:26:54.066967Z",
     "iopub.status.idle": "2025-08-05T15:26:54.072032Z",
     "shell.execute_reply": "2025-08-05T15:26:54.071110Z"
    },
    "papermill": {
     "duration": 0.022753,
     "end_time": "2025-08-05T15:26:54.073845",
     "exception": false,
     "start_time": "2025-08-05T15:26:54.051092",
     "status": "completed"
    },
    "tags": []
   },
   "outputs": [],
   "source": [
    "import json\n",
    "if isinstance(universe, str):\n",
    "    universe = json.loads(universe)"
   ]
  },
  {
   "cell_type": "code",
   "execution_count": 6,
   "id": "16620c48",
   "metadata": {
    "execution": {
     "iopub.execute_input": "2025-08-05T15:26:54.109035Z",
     "iopub.status.busy": "2025-08-05T15:26:54.108422Z",
     "iopub.status.idle": "2025-08-05T15:26:54.153279Z",
     "shell.execute_reply": "2025-08-05T15:26:54.152466Z"
    },
    "papermill": {
     "duration": 0.062281,
     "end_time": "2025-08-05T15:26:54.154971",
     "exception": false,
     "start_time": "2025-08-05T15:26:54.092690",
     "status": "completed"
    },
    "tags": []
   },
   "outputs": [],
   "source": [
    "# Auto-reload the custom package\n",
    "%load_ext autoreload\n",
    "%autoreload 1\n",
    "%aimport fairness_multiverse"
   ]
  },
  {
   "cell_type": "code",
   "execution_count": 7,
   "id": "01c5c9f3",
   "metadata": {
    "execution": {
     "iopub.execute_input": "2025-08-05T15:26:54.189524Z",
     "iopub.status.busy": "2025-08-05T15:26:54.188671Z",
     "iopub.status.idle": "2025-08-05T15:26:56.056808Z",
     "shell.execute_reply": "2025-08-05T15:26:56.055771Z"
    },
    "papermill": {
     "duration": 1.888027,
     "end_time": "2025-08-05T15:26:56.058839",
     "exception": false,
     "start_time": "2025-08-05T15:26:54.170812",
     "status": "completed"
    },
    "tags": []
   },
   "outputs": [],
   "source": [
    "from fairness_multiverse.universe import UniverseAnalysis\n",
    "\n",
    "universe_analysis = UniverseAnalysis(\n",
    "    run_no = run_no,\n",
    "    universe_id = universe_id,\n",
    "    universe = universe,\n",
    "    output_dir=output_dir,\n",
    ")"
   ]
  },
  {
   "cell_type": "code",
   "execution_count": 8,
   "id": "106241f5",
   "metadata": {
    "execution": {
     "iopub.execute_input": "2025-08-05T15:26:56.096457Z",
     "iopub.status.busy": "2025-08-05T15:26:56.095635Z",
     "iopub.status.idle": "2025-08-05T15:26:56.102767Z",
     "shell.execute_reply": "2025-08-05T15:26:56.101551Z"
    },
    "papermill": {
     "duration": 0.027857,
     "end_time": "2025-08-05T15:26:56.104461",
     "exception": false,
     "start_time": "2025-08-05T15:26:56.076604",
     "status": "completed"
    },
    "tags": []
   },
   "outputs": [
    {
     "name": "stdout",
     "output_type": "stream",
     "text": [
      "Using Seed: 2023\n"
     ]
    }
   ],
   "source": [
    "import numpy as np\n",
    "parsed_seed = int(seed)\n",
    "np.random.seed(parsed_seed)\n",
    "print(f\"Using Seed: {parsed_seed}\")"
   ]
  },
  {
   "cell_type": "markdown",
   "id": "e0ebdc57",
   "metadata": {
    "papermill": {
     "duration": 0.016479,
     "end_time": "2025-08-05T15:26:56.138574",
     "exception": false,
     "start_time": "2025-08-05T15:26:56.122095",
     "status": "completed"
    },
    "tags": []
   },
   "source": [
    "# Loading Data"
   ]
  },
  {
   "cell_type": "code",
   "execution_count": 9,
   "id": "f0496b8a",
   "metadata": {
    "execution": {
     "iopub.execute_input": "2025-08-05T15:26:56.175669Z",
     "iopub.status.busy": "2025-08-05T15:26:56.174896Z",
     "iopub.status.idle": "2025-08-05T15:27:07.884055Z",
     "shell.execute_reply": "2025-08-05T15:27:07.882844Z"
    },
    "papermill": {
     "duration": 11.728775,
     "end_time": "2025-08-05T15:27:07.885775",
     "exception": false,
     "start_time": "2025-08-05T15:26:56.157000",
     "status": "completed"
    },
    "tags": []
   },
   "outputs": [
    {
     "name": "stdout",
     "output_type": "stream",
     "text": [
      "Loading SIAB data from cache: data/siab_cached.csv.gz\n"
     ]
    },
    {
     "name": "stdout",
     "output_type": "stream",
     "text": [
      "(643690, 164)\n"
     ]
    }
   ],
   "source": [
    "from pathlib import Path\n",
    "import pandas as pd\n",
    "\n",
    "# File paths\n",
    "raw_file = Path(\"data/raw/siab.csv\")\n",
    "cache_file = Path(\"data/siab_cached.csv.gz\")\n",
    "\n",
    "# Ensure cache directory exists\n",
    "cache_file.parent.mkdir(parents=True, exist_ok=True)\n",
    "\n",
    "# Load with simple caching\n",
    "if cache_file.exists():\n",
    "    print(f\"Loading SIAB data from cache: {cache_file}\")\n",
    "    siab = pd.read_csv(cache_file, compression='gzip')\n",
    "else:\n",
    "    print(f\"Cache not found. Reading raw SIAB data: {raw_file}\")\n",
    "    siab = pd.read_csv(raw_file)\n",
    "    siab.to_csv(cache_file, index=False, compression='gzip')\n",
    "    print(f\"Cached SIAB data to: {cache_file}\")\n",
    "\n",
    "print(siab.shape)"
   ]
  },
  {
   "cell_type": "code",
   "execution_count": 10,
   "id": "db0ca512-5f53-4dba-abdb-a2888bca41ba",
   "metadata": {
    "execution": {
     "iopub.execute_input": "2025-08-05T15:27:07.929547Z",
     "iopub.status.busy": "2025-08-05T15:27:07.928619Z",
     "iopub.status.idle": "2025-08-05T15:27:07.936652Z",
     "shell.execute_reply": "2025-08-05T15:27:07.935411Z"
    },
    "papermill": {
     "duration": 0.031451,
     "end_time": "2025-08-05T15:27:07.938836",
     "exception": false,
     "start_time": "2025-08-05T15:27:07.907385",
     "status": "completed"
    },
    "tags": []
   },
   "outputs": [],
   "source": [
    "#siab"
   ]
  },
  {
   "cell_type": "markdown",
   "id": "997051c5-15bd-4b69-9786-c3001a3ce484",
   "metadata": {
    "papermill": {
     "duration": 0.016887,
     "end_time": "2025-08-05T15:27:07.973626",
     "exception": false,
     "start_time": "2025-08-05T15:27:07.956739",
     "status": "completed"
    },
    "tags": []
   },
   "source": [
    "# Splitting Data and Setting Training Data Size"
   ]
  },
  {
   "cell_type": "code",
   "execution_count": 11,
   "id": "aea9c6ef-6f46-42c8-85eb-5a62025c1508",
   "metadata": {
    "execution": {
     "iopub.execute_input": "2025-08-05T15:27:08.052046Z",
     "iopub.status.busy": "2025-08-05T15:27:08.051508Z",
     "iopub.status.idle": "2025-08-05T15:27:08.279311Z",
     "shell.execute_reply": "2025-08-05T15:27:08.278304Z"
    },
    "papermill": {
     "duration": 0.247247,
     "end_time": "2025-08-05T15:27:08.281307",
     "exception": false,
     "start_time": "2025-08-05T15:27:08.034060",
     "status": "completed"
    },
    "tags": []
   },
   "outputs": [],
   "source": [
    "from fairness_multiverse.universe import sample_by_year_size\n",
    "\n",
    "siab_train = sample_by_year_size(siab,\n",
    "                               training_year=universe[\"training_year\"],\n",
    "                               training_size=universe[\"training_size\"])"
   ]
  },
  {
   "cell_type": "code",
   "execution_count": 12,
   "id": "8d3afb32-789d-442c-8d5d-9f5aa8dd2eed",
   "metadata": {
    "execution": {
     "iopub.execute_input": "2025-08-05T15:27:08.318709Z",
     "iopub.status.busy": "2025-08-05T15:27:08.317906Z",
     "iopub.status.idle": "2025-08-05T15:27:08.323352Z",
     "shell.execute_reply": "2025-08-05T15:27:08.322377Z"
    },
    "papermill": {
     "duration": 0.025661,
     "end_time": "2025-08-05T15:27:08.325056",
     "exception": false,
     "start_time": "2025-08-05T15:27:08.299395",
     "status": "completed"
    },
    "tags": []
   },
   "outputs": [],
   "source": [
    "#siab_train.shape"
   ]
  },
  {
   "cell_type": "code",
   "execution_count": 13,
   "id": "d582db68-1a4c-47fb-84fc-08518dc1975a",
   "metadata": {
    "execution": {
     "iopub.execute_input": "2025-08-05T15:27:08.361396Z",
     "iopub.status.busy": "2025-08-05T15:27:08.360635Z",
     "iopub.status.idle": "2025-08-05T15:27:08.365976Z",
     "shell.execute_reply": "2025-08-05T15:27:08.364779Z"
    },
    "papermill": {
     "duration": 0.025562,
     "end_time": "2025-08-05T15:27:08.367895",
     "exception": false,
     "start_time": "2025-08-05T15:27:08.342333",
     "status": "completed"
    },
    "tags": []
   },
   "outputs": [],
   "source": [
    "#display(siab_train.groupby(\"year\").size())"
   ]
  },
  {
   "cell_type": "code",
   "execution_count": 14,
   "id": "a561edb4-d032-42cb-8256-22eac1111c64",
   "metadata": {
    "execution": {
     "iopub.execute_input": "2025-08-05T15:27:08.404210Z",
     "iopub.status.busy": "2025-08-05T15:27:08.403733Z",
     "iopub.status.idle": "2025-08-05T15:27:08.641184Z",
     "shell.execute_reply": "2025-08-05T15:27:08.640160Z"
    },
    "papermill": {
     "duration": 0.257204,
     "end_time": "2025-08-05T15:27:08.643298",
     "exception": false,
     "start_time": "2025-08-05T15:27:08.386094",
     "status": "completed"
    },
    "tags": []
   },
   "outputs": [],
   "source": [
    "#siab_train = siab_s[siab_s.year < 2015]\n",
    "siab_calib = siab[siab.year == 2015]\n",
    "siab_test = siab[siab.year == 2016]"
   ]
  },
  {
   "cell_type": "code",
   "execution_count": 15,
   "id": "472de16f-c3db-4916-846b-1f0de9cf1746",
   "metadata": {
    "execution": {
     "iopub.execute_input": "2025-08-05T15:27:08.680164Z",
     "iopub.status.busy": "2025-08-05T15:27:08.679527Z",
     "iopub.status.idle": "2025-08-05T15:27:08.688606Z",
     "shell.execute_reply": "2025-08-05T15:27:08.687360Z"
    },
    "papermill": {
     "duration": 0.029266,
     "end_time": "2025-08-05T15:27:08.690576",
     "exception": false,
     "start_time": "2025-08-05T15:27:08.661310",
     "status": "completed"
    },
    "tags": []
   },
   "outputs": [],
   "source": [
    "X_train = siab_train.iloc[:,4:164]\n",
    "y_train = siab_train.iloc[:, [3]]"
   ]
  },
  {
   "cell_type": "code",
   "execution_count": 16,
   "id": "828c96af-f43a-4ed6-ba47-8ac73a47d56c",
   "metadata": {
    "execution": {
     "iopub.execute_input": "2025-08-05T15:27:08.728152Z",
     "iopub.status.busy": "2025-08-05T15:27:08.727342Z",
     "iopub.status.idle": "2025-08-05T15:27:08.778434Z",
     "shell.execute_reply": "2025-08-05T15:27:08.777134Z"
    },
    "papermill": {
     "duration": 0.072111,
     "end_time": "2025-08-05T15:27:08.781091",
     "exception": false,
     "start_time": "2025-08-05T15:27:08.708980",
     "status": "completed"
    },
    "tags": []
   },
   "outputs": [],
   "source": [
    "X_calib = siab_calib.iloc[:,4:164]\n",
    "y_calib = siab_calib.iloc[:, [3]]"
   ]
  },
  {
   "cell_type": "code",
   "execution_count": 17,
   "id": "c34be9c3-6bd6-476e-acd3-845840e303be",
   "metadata": {
    "execution": {
     "iopub.execute_input": "2025-08-05T15:27:08.822637Z",
     "iopub.status.busy": "2025-08-05T15:27:08.821719Z",
     "iopub.status.idle": "2025-08-05T15:27:08.877777Z",
     "shell.execute_reply": "2025-08-05T15:27:08.876423Z"
    },
    "papermill": {
     "duration": 0.078642,
     "end_time": "2025-08-05T15:27:08.880202",
     "exception": false,
     "start_time": "2025-08-05T15:27:08.801560",
     "status": "completed"
    },
    "tags": []
   },
   "outputs": [],
   "source": [
    "X_test = siab_test.iloc[:,4:164]\n",
    "y_true = siab_test.iloc[:, [3]]"
   ]
  },
  {
   "cell_type": "code",
   "execution_count": 18,
   "id": "e6c733c5",
   "metadata": {
    "execution": {
     "iopub.execute_input": "2025-08-05T15:27:08.924062Z",
     "iopub.status.busy": "2025-08-05T15:27:08.923170Z",
     "iopub.status.idle": "2025-08-05T15:27:09.023014Z",
     "shell.execute_reply": "2025-08-05T15:27:09.022005Z"
    },
    "papermill": {
     "duration": 0.123256,
     "end_time": "2025-08-05T15:27:09.025025",
     "exception": false,
     "start_time": "2025-08-05T15:27:08.901769",
     "status": "completed"
    },
    "tags": []
   },
   "outputs": [],
   "source": [
    "# Auxiliary data needed downstream in the pipeline\n",
    "\n",
    "org_train = X_train.copy()\n",
    "org_test = X_test.copy()\n",
    "org_calib = X_calib.copy()"
   ]
  },
  {
   "cell_type": "markdown",
   "id": "0a4a1b33",
   "metadata": {
    "papermill": {
     "duration": 0.017092,
     "end_time": "2025-08-05T15:27:09.060535",
     "exception": false,
     "start_time": "2025-08-05T15:27:09.043443",
     "status": "completed"
    },
    "tags": []
   },
   "source": [
    "# Preprocessing Data"
   ]
  },
  {
   "cell_type": "code",
   "execution_count": 19,
   "id": "ca879031",
   "metadata": {
    "execution": {
     "iopub.execute_input": "2025-08-05T15:27:09.098387Z",
     "iopub.status.busy": "2025-08-05T15:27:09.097373Z",
     "iopub.status.idle": "2025-08-05T15:27:09.103905Z",
     "shell.execute_reply": "2025-08-05T15:27:09.102836Z"
    },
    "papermill": {
     "duration": 0.027997,
     "end_time": "2025-08-05T15:27:09.106332",
     "exception": false,
     "start_time": "2025-08-05T15:27:09.078335",
     "status": "completed"
    },
    "tags": []
   },
   "outputs": [],
   "source": [
    "# EXCLUDE PROTECTED FEATURES\n",
    "# ----------------------\n",
    "# \"exclude_features\": \"none\", # \"nationality\", \"sex\", \"nationality-sex\"\n",
    "\n",
    "excluded_features = universe[\"exclude_features\"].split(\"-\") # split, e.g.: \"nationality-sex\" -> [\"nationality\", \"sex\"]\n",
    "excluded_features_dictionary = {\n",
    "    \"nationality\": [\"maxdeutsch1\", \"maxdeutsch.Missing.\"],\n",
    "    \"sex\": [\"frau1\"],\n",
    "    \"age\": [\"age\"],\n",
    "}"
   ]
  },
  {
   "cell_type": "code",
   "execution_count": 20,
   "id": "b745ac60",
   "metadata": {
    "execution": {
     "iopub.execute_input": "2025-08-05T15:27:09.153300Z",
     "iopub.status.busy": "2025-08-05T15:27:09.152804Z",
     "iopub.status.idle": "2025-08-05T15:27:09.158646Z",
     "shell.execute_reply": "2025-08-05T15:27:09.157619Z"
    },
    "papermill": {
     "duration": 0.028934,
     "end_time": "2025-08-05T15:27:09.160818",
     "exception": false,
     "start_time": "2025-08-05T15:27:09.131884",
     "status": "completed"
    },
    "tags": []
   },
   "outputs": [],
   "source": [
    "# Code nice names to column names\n",
    "\n",
    "excluded_features_columns = [\n",
    "    excluded_features_dictionary[f] for f in excluded_features if len(f) > 0 and f != \"none\"\n",
    "]"
   ]
  },
  {
   "cell_type": "code",
   "execution_count": 21,
   "id": "f84f73a2",
   "metadata": {
    "execution": {
     "iopub.execute_input": "2025-08-05T15:27:09.201609Z",
     "iopub.status.busy": "2025-08-05T15:27:09.201134Z",
     "iopub.status.idle": "2025-08-05T15:27:09.208120Z",
     "shell.execute_reply": "2025-08-05T15:27:09.206968Z"
    },
    "papermill": {
     "duration": 0.029064,
     "end_time": "2025-08-05T15:27:09.210084",
     "exception": false,
     "start_time": "2025-08-05T15:27:09.181020",
     "status": "completed"
    },
    "tags": []
   },
   "outputs": [],
   "source": [
    "from utils import flatten_once\n",
    "\n",
    "excluded_features_columns = flatten_once(excluded_features_columns)"
   ]
  },
  {
   "cell_type": "code",
   "execution_count": 22,
   "id": "884dea22",
   "metadata": {
    "execution": {
     "iopub.execute_input": "2025-08-05T15:27:09.249988Z",
     "iopub.status.busy": "2025-08-05T15:27:09.249568Z",
     "iopub.status.idle": "2025-08-05T15:27:09.259282Z",
     "shell.execute_reply": "2025-08-05T15:27:09.258298Z"
    },
    "papermill": {
     "duration": 0.031016,
     "end_time": "2025-08-05T15:27:09.261138",
     "exception": false,
     "start_time": "2025-08-05T15:27:09.230122",
     "status": "completed"
    },
    "tags": []
   },
   "outputs": [
    {
     "name": "stdout",
     "output_type": "stream",
     "text": [
      "Dropping features: ['age']\n"
     ]
    }
   ],
   "source": [
    "if len(excluded_features_columns) > 0:\n",
    "    print(f\"Dropping features: {excluded_features_columns}\")\n",
    "    X_train.drop(excluded_features_columns, axis=1, inplace=True)"
   ]
  },
  {
   "cell_type": "code",
   "execution_count": 23,
   "id": "95ab8b16",
   "metadata": {
    "execution": {
     "iopub.execute_input": "2025-08-05T15:27:09.303192Z",
     "iopub.status.busy": "2025-08-05T15:27:09.302431Z",
     "iopub.status.idle": "2025-08-05T15:27:09.356506Z",
     "shell.execute_reply": "2025-08-05T15:27:09.355192Z"
    },
    "papermill": {
     "duration": 0.077021,
     "end_time": "2025-08-05T15:27:09.358434",
     "exception": false,
     "start_time": "2025-08-05T15:27:09.281413",
     "status": "completed"
    },
    "tags": []
   },
   "outputs": [
    {
     "name": "stdout",
     "output_type": "stream",
     "text": [
      "Dropping features: ['age']\n"
     ]
    }
   ],
   "source": [
    "if len(excluded_features_columns) > 0:\n",
    "    print(f\"Dropping features: {excluded_features_columns}\")\n",
    "    X_test.drop(excluded_features_columns, axis=1, inplace=True)"
   ]
  },
  {
   "cell_type": "code",
   "execution_count": 24,
   "id": "1853aaf5-fb9f-46cb-a2b5-8ea4ae2237e4",
   "metadata": {
    "execution": {
     "iopub.execute_input": "2025-08-05T15:27:09.397085Z",
     "iopub.status.busy": "2025-08-05T15:27:09.396441Z",
     "iopub.status.idle": "2025-08-05T15:27:09.450432Z",
     "shell.execute_reply": "2025-08-05T15:27:09.449232Z"
    },
    "papermill": {
     "duration": 0.074679,
     "end_time": "2025-08-05T15:27:09.452251",
     "exception": false,
     "start_time": "2025-08-05T15:27:09.377572",
     "status": "completed"
    },
    "tags": []
   },
   "outputs": [
    {
     "name": "stdout",
     "output_type": "stream",
     "text": [
      "Dropping features: ['age']\n"
     ]
    }
   ],
   "source": [
    "if len(excluded_features_columns) > 0:\n",
    "    print(f\"Dropping features: {excluded_features_columns}\")\n",
    "    X_calib.drop(excluded_features_columns, axis=1, inplace=True)"
   ]
  },
  {
   "cell_type": "code",
   "execution_count": 25,
   "id": "76c4dc6d",
   "metadata": {
    "execution": {
     "iopub.execute_input": "2025-08-05T15:27:09.490883Z",
     "iopub.status.busy": "2025-08-05T15:27:09.490233Z",
     "iopub.status.idle": "2025-08-05T15:27:09.496161Z",
     "shell.execute_reply": "2025-08-05T15:27:09.495040Z"
    },
    "papermill": {
     "duration": 0.027419,
     "end_time": "2025-08-05T15:27:09.498147",
     "exception": false,
     "start_time": "2025-08-05T15:27:09.470728",
     "status": "completed"
    },
    "tags": []
   },
   "outputs": [],
   "source": [
    "# EXCLUDE CERTAIN SUBGROUPS\n",
    "# ----------------------\n",
    "\n",
    "mode = universe.get(\"exclude_subgroups\", \"keep-all\") \n",
    "# Fetches the exclude_subgroups setting from the universe dict.\n",
    "# Defaults to \"keep-all\" if the key is missing."
   ]
  },
  {
   "cell_type": "code",
   "execution_count": 26,
   "id": "21994072",
   "metadata": {
    "execution": {
     "iopub.execute_input": "2025-08-05T15:27:09.536284Z",
     "iopub.status.busy": "2025-08-05T15:27:09.535571Z",
     "iopub.status.idle": "2025-08-05T15:27:09.542798Z",
     "shell.execute_reply": "2025-08-05T15:27:09.541661Z"
    },
    "papermill": {
     "duration": 0.027827,
     "end_time": "2025-08-05T15:27:09.544614",
     "exception": false,
     "start_time": "2025-08-05T15:27:09.516787",
     "status": "completed"
    },
    "tags": []
   },
   "outputs": [],
   "source": [
    "if mode == \"keep-all\":\n",
    "    keep_mask = pd.Series(True, index=org_train.index)\n",
    "\n",
    "# org_train contains the original feature columns from features_org (in Simson)\n",
    "# features_org contains unprocessed features, for me X_train at beginning ???\n",
    "# For keep-all, creates a boolean Series (keep_mask) of all True, so no rows are removed.\n",
    "\n",
    "elif mode == \"drop-non-german\":\n",
    "    keep_mask = org_train[\"maxdeutsch1\"] == 1 # ??? what about missing values?\n",
    "\n",
    "else:\n",
    "    raise ValueError(f\"Unsupported mode for exclude_subgroups: {mode}\")"
   ]
  },
  {
   "cell_type": "code",
   "execution_count": 27,
   "id": "71651440",
   "metadata": {
    "execution": {
     "iopub.execute_input": "2025-08-05T15:27:09.583606Z",
     "iopub.status.busy": "2025-08-05T15:27:09.583150Z",
     "iopub.status.idle": "2025-08-05T15:27:09.590243Z",
     "shell.execute_reply": "2025-08-05T15:27:09.589081Z"
    },
    "papermill": {
     "duration": 0.028057,
     "end_time": "2025-08-05T15:27:09.591858",
     "exception": false,
     "start_time": "2025-08-05T15:27:09.563801",
     "status": "completed"
    },
    "tags": []
   },
   "outputs": [],
   "source": [
    "n_drop = (~keep_mask).sum() # Calculates how many rows are set to be dropped\n",
    "if n_drop > 0:\n",
    "    pct = n_drop / len(keep_mask) * 100\n",
    "    print(f\"Dropping {n_drop} rows ({pct:.2f}%) where mode='{mode}'\")"
   ]
  },
  {
   "cell_type": "code",
   "execution_count": 28,
   "id": "5fb8eee5",
   "metadata": {
    "execution": {
     "iopub.execute_input": "2025-08-05T15:27:09.630763Z",
     "iopub.status.busy": "2025-08-05T15:27:09.630013Z",
     "iopub.status.idle": "2025-08-05T15:27:09.638370Z",
     "shell.execute_reply": "2025-08-05T15:27:09.637264Z"
    },
    "papermill": {
     "duration": 0.029725,
     "end_time": "2025-08-05T15:27:09.640106",
     "exception": false,
     "start_time": "2025-08-05T15:27:09.610381",
     "status": "completed"
    },
    "tags": []
   },
   "outputs": [],
   "source": [
    "X_train = X_train[keep_mask]"
   ]
  },
  {
   "cell_type": "code",
   "execution_count": 29,
   "id": "b202bb3a",
   "metadata": {
    "execution": {
     "iopub.execute_input": "2025-08-05T15:27:09.678994Z",
     "iopub.status.busy": "2025-08-05T15:27:09.678269Z",
     "iopub.status.idle": "2025-08-05T15:27:09.684899Z",
     "shell.execute_reply": "2025-08-05T15:27:09.683757Z"
    },
    "papermill": {
     "duration": 0.027983,
     "end_time": "2025-08-05T15:27:09.686736",
     "exception": false,
     "start_time": "2025-08-05T15:27:09.658753",
     "status": "completed"
    },
    "tags": []
   },
   "outputs": [],
   "source": [
    "y_train = y_train[keep_mask]"
   ]
  },
  {
   "cell_type": "markdown",
   "id": "493e2ac3",
   "metadata": {
    "papermill": {
     "duration": 0.017868,
     "end_time": "2025-08-05T15:27:09.724584",
     "exception": false,
     "start_time": "2025-08-05T15:27:09.706716",
     "status": "completed"
    },
    "tags": []
   },
   "source": [
    "# Model Training"
   ]
  },
  {
   "cell_type": "code",
   "execution_count": 30,
   "id": "679e1268",
   "metadata": {
    "execution": {
     "iopub.execute_input": "2025-08-05T15:27:09.764019Z",
     "iopub.status.busy": "2025-08-05T15:27:09.763543Z",
     "iopub.status.idle": "2025-08-05T15:27:09.869973Z",
     "shell.execute_reply": "2025-08-05T15:27:09.868935Z"
    },
    "papermill": {
     "duration": 0.129388,
     "end_time": "2025-08-05T15:27:09.871933",
     "exception": false,
     "start_time": "2025-08-05T15:27:09.742545",
     "status": "completed"
    },
    "tags": []
   },
   "outputs": [],
   "source": [
    "from sklearn.linear_model import LogisticRegression\n",
    "from sklearn.ensemble import GradientBoostingClassifier, RandomForestClassifier\n",
    "\n",
    "if (universe[\"model\"] == \"logreg\"):\n",
    "    model = LogisticRegression() #penalty=\"none\", solver=\"newton-cg\", max_iter=1) # include random_state=19 ?\n",
    "elif (universe[\"model\"] == \"penalized_logreg\"):\n",
    "    model = LogisticRegression(penalty=\"l2\", C=0.1) #, solver=\"newton-cg\", max_iter=1)\n",
    "elif (universe[\"model\"] == \"rf\"):\n",
    "    model = RandomForestClassifier() # n_estimators=100, n_jobs=-1\n",
    "elif (universe[\"model\"] == \"gbm\"):\n",
    "    model = GradientBoostingClassifier()\n",
    "elif (universe[\"model\"] == \"elasticnet\"):\n",
    "    model = LogisticRegression(penalty = 'elasticnet', solver = 'saga', l1_ratio = 0.5) # max_iter=5000\n",
    "else:\n",
    "    raise \"Unsupported universe.model\""
   ]
  },
  {
   "cell_type": "code",
   "execution_count": 31,
   "id": "0cc8f744",
   "metadata": {
    "execution": {
     "iopub.execute_input": "2025-08-05T15:27:09.911969Z",
     "iopub.status.busy": "2025-08-05T15:27:09.911155Z",
     "iopub.status.idle": "2025-08-05T15:27:09.918213Z",
     "shell.execute_reply": "2025-08-05T15:27:09.917140Z"
    },
    "papermill": {
     "duration": 0.02901,
     "end_time": "2025-08-05T15:27:09.920246",
     "exception": false,
     "start_time": "2025-08-05T15:27:09.891236",
     "status": "completed"
    },
    "tags": []
   },
   "outputs": [],
   "source": [
    "import numpy as np\n",
    "from sklearn.pipeline import Pipeline\n",
    "from sklearn.preprocessing import StandardScaler\n",
    "\n",
    "model = Pipeline([\n",
    "    #(\"continuous_processor\", continuous_processor),\n",
    "    #(\"categorical_preprocessor\", categorical_preprocessor),\n",
    "    (\"scale\", StandardScaler() if universe[\"scale\"] == \"scale\" else None), \n",
    "    (\"model\", model),\n",
    "])"
   ]
  },
  {
   "cell_type": "code",
   "execution_count": 32,
   "id": "9442c04d",
   "metadata": {
    "execution": {
     "iopub.execute_input": "2025-08-05T15:27:09.959446Z",
     "iopub.status.busy": "2025-08-05T15:27:09.958863Z",
     "iopub.status.idle": "2025-08-05T15:27:11.929928Z",
     "shell.execute_reply": "2025-08-05T15:27:11.928887Z"
    },
    "papermill": {
     "duration": 1.992804,
     "end_time": "2025-08-05T15:27:11.931978",
     "exception": false,
     "start_time": "2025-08-05T15:27:09.939174",
     "status": "completed"
    },
    "tags": []
   },
   "outputs": [
    {
     "name": "stderr",
     "output_type": "stream",
     "text": [
      "/dss/dsshome1/0C/ra93lal2/.local/share/virtualenvs/CMA_Fairness_v2-3j10GkSs/lib/python3.10/site-packages/sklearn/linear_model/_sag.py:350: ConvergenceWarning: The max_iter was reached which means the coef_ did not converge\n",
      "  warnings.warn(\n"
     ]
    },
    {
     "data": {
      "text/html": [
       "<style>#sk-container-id-1 {color: black;background-color: white;}#sk-container-id-1 pre{padding: 0;}#sk-container-id-1 div.sk-toggleable {background-color: white;}#sk-container-id-1 label.sk-toggleable__label {cursor: pointer;display: block;width: 100%;margin-bottom: 0;padding: 0.3em;box-sizing: border-box;text-align: center;}#sk-container-id-1 label.sk-toggleable__label-arrow:before {content: \"▸\";float: left;margin-right: 0.25em;color: #696969;}#sk-container-id-1 label.sk-toggleable__label-arrow:hover:before {color: black;}#sk-container-id-1 div.sk-estimator:hover label.sk-toggleable__label-arrow:before {color: black;}#sk-container-id-1 div.sk-toggleable__content {max-height: 0;max-width: 0;overflow: hidden;text-align: left;background-color: #f0f8ff;}#sk-container-id-1 div.sk-toggleable__content pre {margin: 0.2em;color: black;border-radius: 0.25em;background-color: #f0f8ff;}#sk-container-id-1 input.sk-toggleable__control:checked~div.sk-toggleable__content {max-height: 200px;max-width: 100%;overflow: auto;}#sk-container-id-1 input.sk-toggleable__control:checked~label.sk-toggleable__label-arrow:before {content: \"▾\";}#sk-container-id-1 div.sk-estimator input.sk-toggleable__control:checked~label.sk-toggleable__label {background-color: #d4ebff;}#sk-container-id-1 div.sk-label input.sk-toggleable__control:checked~label.sk-toggleable__label {background-color: #d4ebff;}#sk-container-id-1 input.sk-hidden--visually {border: 0;clip: rect(1px 1px 1px 1px);clip: rect(1px, 1px, 1px, 1px);height: 1px;margin: -1px;overflow: hidden;padding: 0;position: absolute;width: 1px;}#sk-container-id-1 div.sk-estimator {font-family: monospace;background-color: #f0f8ff;border: 1px dotted black;border-radius: 0.25em;box-sizing: border-box;margin-bottom: 0.5em;}#sk-container-id-1 div.sk-estimator:hover {background-color: #d4ebff;}#sk-container-id-1 div.sk-parallel-item::after {content: \"\";width: 100%;border-bottom: 1px solid gray;flex-grow: 1;}#sk-container-id-1 div.sk-label:hover label.sk-toggleable__label {background-color: #d4ebff;}#sk-container-id-1 div.sk-serial::before {content: \"\";position: absolute;border-left: 1px solid gray;box-sizing: border-box;top: 0;bottom: 0;left: 50%;z-index: 0;}#sk-container-id-1 div.sk-serial {display: flex;flex-direction: column;align-items: center;background-color: white;padding-right: 0.2em;padding-left: 0.2em;position: relative;}#sk-container-id-1 div.sk-item {position: relative;z-index: 1;}#sk-container-id-1 div.sk-parallel {display: flex;align-items: stretch;justify-content: center;background-color: white;position: relative;}#sk-container-id-1 div.sk-item::before, #sk-container-id-1 div.sk-parallel-item::before {content: \"\";position: absolute;border-left: 1px solid gray;box-sizing: border-box;top: 0;bottom: 0;left: 50%;z-index: -1;}#sk-container-id-1 div.sk-parallel-item {display: flex;flex-direction: column;z-index: 1;position: relative;background-color: white;}#sk-container-id-1 div.sk-parallel-item:first-child::after {align-self: flex-end;width: 50%;}#sk-container-id-1 div.sk-parallel-item:last-child::after {align-self: flex-start;width: 50%;}#sk-container-id-1 div.sk-parallel-item:only-child::after {width: 0;}#sk-container-id-1 div.sk-dashed-wrapped {border: 1px dashed gray;margin: 0 0.4em 0.5em 0.4em;box-sizing: border-box;padding-bottom: 0.4em;background-color: white;}#sk-container-id-1 div.sk-label label {font-family: monospace;font-weight: bold;display: inline-block;line-height: 1.2em;}#sk-container-id-1 div.sk-label-container {text-align: center;}#sk-container-id-1 div.sk-container {/* jupyter's `normalize.less` sets `[hidden] { display: none; }` but bootstrap.min.css set `[hidden] { display: none !important; }` so we also need the `!important` here to be able to override the default hidden behavior on the sphinx rendered scikit-learn.org. See: https://github.com/scikit-learn/scikit-learn/issues/21755 */display: inline-block !important;position: relative;}#sk-container-id-1 div.sk-text-repr-fallback {display: none;}</style><div id=\"sk-container-id-1\" class=\"sk-top-container\"><div class=\"sk-text-repr-fallback\"><pre>Pipeline(steps=[(&#x27;scale&#x27;, StandardScaler()),\n",
       "                (&#x27;model&#x27;,\n",
       "                 LogisticRegression(l1_ratio=0.5, penalty=&#x27;elasticnet&#x27;,\n",
       "                                    solver=&#x27;saga&#x27;))])</pre><b>In a Jupyter environment, please rerun this cell to show the HTML representation or trust the notebook. <br />On GitHub, the HTML representation is unable to render, please try loading this page with nbviewer.org.</b></div><div class=\"sk-container\" hidden><div class=\"sk-item sk-dashed-wrapped\"><div class=\"sk-label-container\"><div class=\"sk-label sk-toggleable\"><input class=\"sk-toggleable__control sk-hidden--visually\" id=\"sk-estimator-id-1\" type=\"checkbox\" ><label for=\"sk-estimator-id-1\" class=\"sk-toggleable__label sk-toggleable__label-arrow\">Pipeline</label><div class=\"sk-toggleable__content\"><pre>Pipeline(steps=[(&#x27;scale&#x27;, StandardScaler()),\n",
       "                (&#x27;model&#x27;,\n",
       "                 LogisticRegression(l1_ratio=0.5, penalty=&#x27;elasticnet&#x27;,\n",
       "                                    solver=&#x27;saga&#x27;))])</pre></div></div></div><div class=\"sk-serial\"><div class=\"sk-item\"><div class=\"sk-estimator sk-toggleable\"><input class=\"sk-toggleable__control sk-hidden--visually\" id=\"sk-estimator-id-2\" type=\"checkbox\" ><label for=\"sk-estimator-id-2\" class=\"sk-toggleable__label sk-toggleable__label-arrow\">StandardScaler</label><div class=\"sk-toggleable__content\"><pre>StandardScaler()</pre></div></div></div><div class=\"sk-item\"><div class=\"sk-estimator sk-toggleable\"><input class=\"sk-toggleable__control sk-hidden--visually\" id=\"sk-estimator-id-3\" type=\"checkbox\" ><label for=\"sk-estimator-id-3\" class=\"sk-toggleable__label sk-toggleable__label-arrow\">LogisticRegression</label><div class=\"sk-toggleable__content\"><pre>LogisticRegression(l1_ratio=0.5, penalty=&#x27;elasticnet&#x27;, solver=&#x27;saga&#x27;)</pre></div></div></div></div></div></div></div>"
      ],
      "text/plain": [
       "Pipeline(steps=[('scale', StandardScaler()),\n",
       "                ('model',\n",
       "                 LogisticRegression(l1_ratio=0.5, penalty='elasticnet',\n",
       "                                    solver='saga'))])"
      ]
     },
     "execution_count": 32,
     "metadata": {},
     "output_type": "execute_result"
    }
   ],
   "source": [
    "model.fit(X_train, y_train.values.ravel())"
   ]
  },
  {
   "cell_type": "code",
   "execution_count": 33,
   "id": "af59f8c0",
   "metadata": {
    "execution": {
     "iopub.execute_input": "2025-08-05T15:27:11.972310Z",
     "iopub.status.busy": "2025-08-05T15:27:11.971656Z",
     "iopub.status.idle": "2025-08-05T15:27:11.977443Z",
     "shell.execute_reply": "2025-08-05T15:27:11.976341Z"
    },
    "papermill": {
     "duration": 0.028009,
     "end_time": "2025-08-05T15:27:11.979292",
     "exception": false,
     "start_time": "2025-08-05T15:27:11.951283",
     "status": "completed"
    },
    "tags": []
   },
   "outputs": [],
   "source": [
    "from fairness_multiverse.universe import predict_w_threshold"
   ]
  },
  {
   "cell_type": "code",
   "execution_count": 34,
   "id": "a7cf2e16",
   "metadata": {
    "execution": {
     "iopub.execute_input": "2025-08-05T15:27:12.019201Z",
     "iopub.status.busy": "2025-08-05T15:27:12.018409Z",
     "iopub.status.idle": "2025-08-05T15:27:12.221023Z",
     "shell.execute_reply": "2025-08-05T15:27:12.220041Z"
    },
    "papermill": {
     "duration": 0.223865,
     "end_time": "2025-08-05T15:27:12.222710",
     "exception": false,
     "start_time": "2025-08-05T15:27:11.998845",
     "status": "completed"
    },
    "tags": []
   },
   "outputs": [
    {
     "data": {
      "text/plain": [
       "0.8578976702708728"
      ]
     },
     "execution_count": 34,
     "metadata": {},
     "output_type": "execute_result"
    }
   ],
   "source": [
    "probs_test = model.predict_proba(X_test)\n",
    "\n",
    "'''\n",
    "Below code returns a boolean array (or binary 0/1 array depending on how it’s used) where each element \n",
    "is True if the probability of class 1 is greater than or equal to the threshold, and False otherwise.\n",
    "'''\n",
    "y_pred_default = predict_w_threshold(probs_test, 0.5)\n",
    "\n",
    "from sklearn.metrics import accuracy_score\n",
    "\n",
    "# Naive prediction\n",
    "accuracy_score(y_true = y_true, y_pred = y_pred_default)"
   ]
  },
  {
   "cell_type": "code",
   "execution_count": 35,
   "id": "081964c3",
   "metadata": {
    "execution": {
     "iopub.execute_input": "2025-08-05T15:27:12.263306Z",
     "iopub.status.busy": "2025-08-05T15:27:12.262440Z",
     "iopub.status.idle": "2025-08-05T15:27:12.446219Z",
     "shell.execute_reply": "2025-08-05T15:27:12.445297Z"
    },
    "papermill": {
     "duration": 0.205776,
     "end_time": "2025-08-05T15:27:12.447903",
     "exception": false,
     "start_time": "2025-08-05T15:27:12.242127",
     "status": "completed"
    },
    "tags": []
   },
   "outputs": [
    {
     "data": {
      "text/plain": [
       "array([0, 0, 0, ..., 0, 0, 0])"
      ]
     },
     "execution_count": 35,
     "metadata": {},
     "output_type": "execute_result"
    }
   ],
   "source": [
    "model.predict(X_test)"
   ]
  },
  {
   "cell_type": "markdown",
   "id": "56c9705b",
   "metadata": {
    "papermill": {
     "duration": 0.018824,
     "end_time": "2025-08-05T15:27:12.487205",
     "exception": false,
     "start_time": "2025-08-05T15:27:12.468381",
     "status": "completed"
    },
    "tags": []
   },
   "source": [
    "# Conformal Prediction"
   ]
  },
  {
   "cell_type": "code",
   "execution_count": 36,
   "id": "160ec6ff",
   "metadata": {
    "execution": {
     "iopub.execute_input": "2025-08-05T15:27:12.529222Z",
     "iopub.status.busy": "2025-08-05T15:27:12.528224Z",
     "iopub.status.idle": "2025-08-05T15:27:12.533700Z",
     "shell.execute_reply": "2025-08-05T15:27:12.532707Z"
    },
    "papermill": {
     "duration": 0.028401,
     "end_time": "2025-08-05T15:27:12.535621",
     "exception": false,
     "start_time": "2025-08-05T15:27:12.507220",
     "status": "completed"
    },
    "tags": []
   },
   "outputs": [],
   "source": [
    "# Miscoverage level for conformal prediction (10% allowed error rate => 90% target coverage)\n",
    "alpha = 0.1"
   ]
  },
  {
   "cell_type": "code",
   "execution_count": 37,
   "id": "eadf4555-3dd3-440e-8e35-f82a4ad9f855",
   "metadata": {
    "execution": {
     "iopub.execute_input": "2025-08-05T15:27:12.579203Z",
     "iopub.status.busy": "2025-08-05T15:27:12.578715Z",
     "iopub.status.idle": "2025-08-05T15:27:12.754956Z",
     "shell.execute_reply": "2025-08-05T15:27:12.753952Z"
    },
    "papermill": {
     "duration": 0.2017,
     "end_time": "2025-08-05T15:27:12.757049",
     "exception": false,
     "start_time": "2025-08-05T15:27:12.555349",
     "status": "completed"
    },
    "tags": []
   },
   "outputs": [],
   "source": [
    "probs_calib = model.predict_proba(X_calib)"
   ]
  },
  {
   "cell_type": "code",
   "execution_count": 38,
   "id": "2ed93547-6d5d-4983-9b36-1ecb300da49a",
   "metadata": {
    "execution": {
     "iopub.execute_input": "2025-08-05T15:27:12.804197Z",
     "iopub.status.busy": "2025-08-05T15:27:12.803249Z",
     "iopub.status.idle": "2025-08-05T15:27:12.809754Z",
     "shell.execute_reply": "2025-08-05T15:27:12.808551Z"
    },
    "papermill": {
     "duration": 0.032434,
     "end_time": "2025-08-05T15:27:12.811638",
     "exception": false,
     "start_time": "2025-08-05T15:27:12.779204",
     "status": "completed"
    },
    "tags": []
   },
   "outputs": [],
   "source": [
    "y_calib = y_calib.values.ravel().astype(int)"
   ]
  },
  {
   "cell_type": "code",
   "execution_count": 39,
   "id": "65d1320d-f588-4b38-9072-62af1ae97f7d",
   "metadata": {
    "execution": {
     "iopub.execute_input": "2025-08-05T15:27:12.854002Z",
     "iopub.status.busy": "2025-08-05T15:27:12.853130Z",
     "iopub.status.idle": "2025-08-05T15:27:12.861016Z",
     "shell.execute_reply": "2025-08-05T15:27:12.860062Z"
    },
    "papermill": {
     "duration": 0.030466,
     "end_time": "2025-08-05T15:27:12.862742",
     "exception": false,
     "start_time": "2025-08-05T15:27:12.832276",
     "status": "completed"
    },
    "tags": []
   },
   "outputs": [],
   "source": [
    "from fairness_multiverse.conformal import compute_nc_scores\n",
    "\n",
    "# Compute nonconformity scores on calibration set (1 - probability of true class)\n",
    "nc_scores = compute_nc_scores(probs_calib, y_calib)"
   ]
  },
  {
   "cell_type": "code",
   "execution_count": 40,
   "id": "df3b8ca3-53b7-43d5-9667-7c85da7aeda2",
   "metadata": {
    "execution": {
     "iopub.execute_input": "2025-08-05T15:27:12.905278Z",
     "iopub.status.busy": "2025-08-05T15:27:12.904370Z",
     "iopub.status.idle": "2025-08-05T15:27:12.911618Z",
     "shell.execute_reply": "2025-08-05T15:27:12.910701Z"
    },
    "papermill": {
     "duration": 0.030116,
     "end_time": "2025-08-05T15:27:12.913275",
     "exception": false,
     "start_time": "2025-08-05T15:27:12.883159",
     "status": "completed"
    },
    "tags": []
   },
   "outputs": [],
   "source": [
    "from fairness_multiverse.conformal import find_threshold\n",
    "\n",
    "# Find conformal threshold q_hat for the given alpha (split conformal method)\n",
    "q_hat = find_threshold(nc_scores, alpha)"
   ]
  },
  {
   "cell_type": "code",
   "execution_count": 41,
   "id": "4d29e6c1-0ef6-4aa4-b8fe-4fe79b0d033a",
   "metadata": {
    "execution": {
     "iopub.execute_input": "2025-08-05T15:27:12.954951Z",
     "iopub.status.busy": "2025-08-05T15:27:12.954172Z",
     "iopub.status.idle": "2025-08-05T15:27:12.961783Z",
     "shell.execute_reply": "2025-08-05T15:27:12.960613Z"
    },
    "papermill": {
     "duration": 0.030314,
     "end_time": "2025-08-05T15:27:12.963682",
     "exception": false,
     "start_time": "2025-08-05T15:27:12.933368",
     "status": "completed"
    },
    "tags": []
   },
   "outputs": [
    {
     "data": {
      "text/plain": [
       "0.6912725469025232"
      ]
     },
     "execution_count": 41,
     "metadata": {},
     "output_type": "execute_result"
    }
   ],
   "source": [
    "q_hat"
   ]
  },
  {
   "cell_type": "code",
   "execution_count": 42,
   "id": "92460794-cdac-4be2-ba28-f28c0515a6fb",
   "metadata": {
    "execution": {
     "iopub.execute_input": "2025-08-05T15:27:13.012122Z",
     "iopub.status.busy": "2025-08-05T15:27:13.011270Z",
     "iopub.status.idle": "2025-08-05T15:27:13.980983Z",
     "shell.execute_reply": "2025-08-05T15:27:13.979770Z"
    },
    "papermill": {
     "duration": 0.995949,
     "end_time": "2025-08-05T15:27:13.983072",
     "exception": false,
     "start_time": "2025-08-05T15:27:12.987123",
     "status": "completed"
    },
    "tags": []
   },
   "outputs": [],
   "source": [
    "from fairness_multiverse.conformal import predict_conformal_sets\n",
    "\n",
    "# Generate prediction sets for each test example\n",
    "pred_sets = predict_conformal_sets(model, X_test, q_hat)"
   ]
  },
  {
   "cell_type": "code",
   "execution_count": 43,
   "id": "d90c9a65-e6db-4f5d-80cd-e68fb7e46829",
   "metadata": {
    "execution": {
     "iopub.execute_input": "2025-08-05T15:27:14.032978Z",
     "iopub.status.busy": "2025-08-05T15:27:14.032123Z",
     "iopub.status.idle": "2025-08-05T15:27:14.039251Z",
     "shell.execute_reply": "2025-08-05T15:27:14.037892Z"
    },
    "papermill": {
     "duration": 0.033847,
     "end_time": "2025-08-05T15:27:14.041063",
     "exception": false,
     "start_time": "2025-08-05T15:27:14.007216",
     "status": "completed"
    },
    "tags": []
   },
   "outputs": [],
   "source": [
    "y_true = y_true.squeeze()"
   ]
  },
  {
   "cell_type": "code",
   "execution_count": 44,
   "id": "3a58a54a-1e68-46b9-927a-df01f18aebc8",
   "metadata": {
    "execution": {
     "iopub.execute_input": "2025-08-05T15:27:14.091537Z",
     "iopub.status.busy": "2025-08-05T15:27:14.090592Z",
     "iopub.status.idle": "2025-08-05T15:27:15.379927Z",
     "shell.execute_reply": "2025-08-05T15:27:15.378864Z"
    },
    "papermill": {
     "duration": 1.31603,
     "end_time": "2025-08-05T15:27:15.381403",
     "exception": false,
     "start_time": "2025-08-05T15:27:14.065373",
     "status": "completed"
    },
    "tags": []
   },
   "outputs": [],
   "source": [
    "from fairness_multiverse.conformal import evaluate_sets\n",
    "\n",
    "# Evaluate coverage and average set size on test data\n",
    "metrics = evaluate_sets(pred_sets, y_true)"
   ]
  },
  {
   "cell_type": "markdown",
   "id": "2b569c12-9aaa-4c88-98c9-bbcd0cf3ebb8",
   "metadata": {
    "papermill": {
     "duration": 0.010295,
     "end_time": "2025-08-05T15:27:15.404858",
     "exception": false,
     "start_time": "2025-08-05T15:27:15.394563",
     "status": "completed"
    },
    "tags": []
   },
   "source": [
    "# CP Metrics"
   ]
  },
  {
   "cell_type": "code",
   "execution_count": 45,
   "id": "5ce0a5cb-201f-45a0-ade5-94c7f0bd6095",
   "metadata": {
    "execution": {
     "iopub.execute_input": "2025-08-05T15:27:15.435664Z",
     "iopub.status.busy": "2025-08-05T15:27:15.435212Z",
     "iopub.status.idle": "2025-08-05T15:27:15.447437Z",
     "shell.execute_reply": "2025-08-05T15:27:15.446206Z"
    },
    "papermill": {
     "duration": 0.034153,
     "end_time": "2025-08-05T15:27:15.449712",
     "exception": false,
     "start_time": "2025-08-05T15:27:15.415559",
     "status": "completed"
    },
    "tags": []
   },
   "outputs": [
    {
     "data": {
      "text/plain": [
       "{'coverage': 0.9104224724111024, 'avg_size': 1.135770817077249}"
      ]
     },
     "execution_count": 45,
     "metadata": {},
     "output_type": "execute_result"
    }
   ],
   "source": [
    "metrics"
   ]
  },
  {
   "cell_type": "code",
   "execution_count": 46,
   "id": "9b9a838d-31c9-430b-ae14-12baee460d17",
   "metadata": {
    "execution": {
     "iopub.execute_input": "2025-08-05T15:27:15.506519Z",
     "iopub.status.busy": "2025-08-05T15:27:15.505944Z",
     "iopub.status.idle": "2025-08-05T15:27:15.513935Z",
     "shell.execute_reply": "2025-08-05T15:27:15.512526Z"
    },
    "papermill": {
     "duration": 0.039021,
     "end_time": "2025-08-05T15:27:15.516140",
     "exception": false,
     "start_time": "2025-08-05T15:27:15.477119",
     "status": "completed"
    },
    "tags": []
   },
   "outputs": [],
   "source": [
    "example_universe = universe.copy()\n",
    "universe_training_year = example_universe.get(\"training_year\")\n",
    "universe_training_size = example_universe.get(\"training_size\")\n",
    "universe_scale = example_universe.get(\"scale\")\n",
    "universe_model = example_universe.get(\"model\")\n",
    "universe_exclude_features = example_universe.get(\"exclude_features\")\n",
    "universe_exclude_subgroups = example_universe.get(\"exclude_subgroups\")"
   ]
  },
  {
   "cell_type": "code",
   "execution_count": 47,
   "id": "f4b6a8ac-9dc0-4245-8a91-5b3b5999c4f9",
   "metadata": {
    "execution": {
     "iopub.execute_input": "2025-08-05T15:27:15.575072Z",
     "iopub.status.busy": "2025-08-05T15:27:15.574563Z",
     "iopub.status.idle": "2025-08-05T15:27:15.582134Z",
     "shell.execute_reply": "2025-08-05T15:27:15.580929Z"
    },
    "papermill": {
     "duration": 0.040295,
     "end_time": "2025-08-05T15:27:15.584324",
     "exception": false,
     "start_time": "2025-08-05T15:27:15.544029",
     "status": "completed"
    },
    "tags": []
   },
   "outputs": [],
   "source": [
    "cp_metrics_dict = {\n",
    "    \"universe_id\": [universe_id],\n",
    "    \"universe_training_year\": [universe_training_year],\n",
    "    \"universe_training_size\": [universe_training_size],\n",
    "    \"universe_scale\": [universe_scale],\n",
    "    \"universe_model\": [universe_model],\n",
    "    \"universe_exclude_features\": [universe_exclude_features],\n",
    "    \"universe_exclude_subgroups\": [universe_exclude_subgroups],\n",
    "    \"q_hat\": [q_hat],\n",
    "    \"coverage\": [metrics[\"coverage\"]],\n",
    "    \"avg_size\": [metrics[\"avg_size\"]],\n",
    "}"
   ]
  },
  {
   "cell_type": "code",
   "execution_count": 48,
   "id": "908acbb1-0371-4915-85ca-3fa520d2efe2",
   "metadata": {
    "execution": {
     "iopub.execute_input": "2025-08-05T15:27:15.641033Z",
     "iopub.status.busy": "2025-08-05T15:27:15.640107Z",
     "iopub.status.idle": "2025-08-05T15:27:15.649333Z",
     "shell.execute_reply": "2025-08-05T15:27:15.647960Z"
    },
    "papermill": {
     "duration": 0.038839,
     "end_time": "2025-08-05T15:27:15.651642",
     "exception": false,
     "start_time": "2025-08-05T15:27:15.612803",
     "status": "completed"
    },
    "tags": []
   },
   "outputs": [
    {
     "data": {
      "text/plain": [
       "{'universe_id': ['3393432130bd198240b469941dcba65c'],\n",
       " 'universe_training_year': ['2014'],\n",
       " 'universe_training_size': ['5k'],\n",
       " 'universe_scale': ['scale'],\n",
       " 'universe_model': ['elasticnet'],\n",
       " 'universe_exclude_features': ['age'],\n",
       " 'universe_exclude_subgroups': ['keep-all'],\n",
       " 'q_hat': [0.6912725469025232],\n",
       " 'coverage': [0.9104224724111024],\n",
       " 'avg_size': [1.135770817077249]}"
      ]
     },
     "execution_count": 48,
     "metadata": {},
     "output_type": "execute_result"
    }
   ],
   "source": [
    "cp_metrics_dict"
   ]
  },
  {
   "cell_type": "code",
   "execution_count": 49,
   "id": "33007efc-14e9-4ec6-97ac-56a455c82265",
   "metadata": {
    "execution": {
     "iopub.execute_input": "2025-08-05T15:27:15.702665Z",
     "iopub.status.busy": "2025-08-05T15:27:15.702219Z",
     "iopub.status.idle": "2025-08-05T15:27:15.708164Z",
     "shell.execute_reply": "2025-08-05T15:27:15.707084Z"
    },
    "papermill": {
     "duration": 0.033429,
     "end_time": "2025-08-05T15:27:15.710248",
     "exception": false,
     "start_time": "2025-08-05T15:27:15.676819",
     "status": "completed"
    },
    "tags": []
   },
   "outputs": [],
   "source": [
    "cp_metrics_df = pd.DataFrame(cp_metrics_dict)"
   ]
  },
  {
   "cell_type": "code",
   "execution_count": 50,
   "id": "db12611b-57b2-4910-b9d0-355adfd6e7bf",
   "metadata": {
    "execution": {
     "iopub.execute_input": "2025-08-05T15:27:15.757667Z",
     "iopub.status.busy": "2025-08-05T15:27:15.756272Z",
     "iopub.status.idle": "2025-08-05T15:27:15.778411Z",
     "shell.execute_reply": "2025-08-05T15:27:15.777036Z"
    },
    "papermill": {
     "duration": 0.046171,
     "end_time": "2025-08-05T15:27:15.780495",
     "exception": false,
     "start_time": "2025-08-05T15:27:15.734324",
     "status": "completed"
    },
    "tags": []
   },
   "outputs": [
    {
     "data": {
      "text/html": [
       "<div>\n",
       "<style scoped>\n",
       "    .dataframe tbody tr th:only-of-type {\n",
       "        vertical-align: middle;\n",
       "    }\n",
       "\n",
       "    .dataframe tbody tr th {\n",
       "        vertical-align: top;\n",
       "    }\n",
       "\n",
       "    .dataframe thead th {\n",
       "        text-align: right;\n",
       "    }\n",
       "</style>\n",
       "<table border=\"1\" class=\"dataframe\">\n",
       "  <thead>\n",
       "    <tr style=\"text-align: right;\">\n",
       "      <th></th>\n",
       "      <th>universe_id</th>\n",
       "      <th>universe_training_year</th>\n",
       "      <th>universe_training_size</th>\n",
       "      <th>universe_scale</th>\n",
       "      <th>universe_model</th>\n",
       "      <th>universe_exclude_features</th>\n",
       "      <th>universe_exclude_subgroups</th>\n",
       "      <th>q_hat</th>\n",
       "      <th>coverage</th>\n",
       "      <th>avg_size</th>\n",
       "    </tr>\n",
       "  </thead>\n",
       "  <tbody>\n",
       "    <tr>\n",
       "      <th>0</th>\n",
       "      <td>3393432130bd198240b469941dcba65c</td>\n",
       "      <td>2014</td>\n",
       "      <td>5k</td>\n",
       "      <td>scale</td>\n",
       "      <td>elasticnet</td>\n",
       "      <td>age</td>\n",
       "      <td>keep-all</td>\n",
       "      <td>0.691273</td>\n",
       "      <td>0.910422</td>\n",
       "      <td>1.135771</td>\n",
       "    </tr>\n",
       "  </tbody>\n",
       "</table>\n",
       "</div>"
      ],
      "text/plain": [
       "                        universe_id universe_training_year  \\\n",
       "0  3393432130bd198240b469941dcba65c                   2014   \n",
       "\n",
       "  universe_training_size universe_scale universe_model  \\\n",
       "0                     5k          scale     elasticnet   \n",
       "\n",
       "  universe_exclude_features universe_exclude_subgroups     q_hat  coverage  \\\n",
       "0                       age                   keep-all  0.691273  0.910422   \n",
       "\n",
       "   avg_size  \n",
       "0  1.135771  "
      ]
     },
     "execution_count": 50,
     "metadata": {},
     "output_type": "execute_result"
    }
   ],
   "source": [
    "cp_metrics_df"
   ]
  },
  {
   "cell_type": "code",
   "execution_count": 51,
   "id": "b7fbde55-a0a1-47e4-9af6-fe4a17fa8c61",
   "metadata": {
    "execution": {
     "iopub.execute_input": "2025-08-05T15:27:15.839949Z",
     "iopub.status.busy": "2025-08-05T15:27:15.839235Z",
     "iopub.status.idle": "2025-08-05T15:27:15.845700Z",
     "shell.execute_reply": "2025-08-05T15:27:15.844460Z"
    },
    "papermill": {
     "duration": 0.038218,
     "end_time": "2025-08-05T15:27:15.847434",
     "exception": false,
     "start_time": "2025-08-05T15:27:15.809216",
     "status": "completed"
    },
    "tags": []
   },
   "outputs": [],
   "source": [
    "# Conditional Coverage & looking at subgroups"
   ]
  },
  {
   "cell_type": "code",
   "execution_count": 52,
   "id": "027ae886-68dd-4141-96c7-805a5450e1ef",
   "metadata": {
    "execution": {
     "iopub.execute_input": "2025-08-05T15:27:15.900933Z",
     "iopub.status.busy": "2025-08-05T15:27:15.899961Z",
     "iopub.status.idle": "2025-08-05T15:27:16.144668Z",
     "shell.execute_reply": "2025-08-05T15:27:16.143904Z"
    },
    "papermill": {
     "duration": 0.273496,
     "end_time": "2025-08-05T15:27:16.146153",
     "exception": false,
     "start_time": "2025-08-05T15:27:15.872657",
     "status": "completed"
    },
    "tags": []
   },
   "outputs": [],
   "source": [
    "from fairness_multiverse.conformal import build_cp_groups\n",
    "\n",
    "cp_groups_df = build_cp_groups(pred_sets, y_true, X_test.index, org_test)\n",
    "#needs universe_id and setting"
   ]
  },
  {
   "cell_type": "code",
   "execution_count": 53,
   "id": "6cbdab96-b2b2-45af-ad54-d0516db2e28d",
   "metadata": {
    "execution": {
     "iopub.execute_input": "2025-08-05T15:27:16.170338Z",
     "iopub.status.busy": "2025-08-05T15:27:16.169845Z",
     "iopub.status.idle": "2025-08-05T15:27:17.637416Z",
     "shell.execute_reply": "2025-08-05T15:27:17.636687Z"
    },
    "papermill": {
     "duration": 1.480913,
     "end_time": "2025-08-05T15:27:17.638867",
     "exception": false,
     "start_time": "2025-08-05T15:27:16.157954",
     "status": "completed"
    },
    "tags": []
   },
   "outputs": [],
   "source": [
    "# Define covered = 1 if true_label is in the predicted set\n",
    "cp_groups_df['covered'] = cp_groups_df.apply(\n",
    "    lambda r: int(r['true_label'] in r['pred_set']),\n",
    "    axis=1\n",
    ")"
   ]
  },
  {
   "cell_type": "code",
   "execution_count": 54,
   "id": "338ff529-1a6b-4b87-a931-8e4788d52aad",
   "metadata": {
    "execution": {
     "iopub.execute_input": "2025-08-05T15:27:17.669235Z",
     "iopub.status.busy": "2025-08-05T15:27:17.668590Z",
     "iopub.status.idle": "2025-08-05T15:27:17.672829Z",
     "shell.execute_reply": "2025-08-05T15:27:17.672183Z"
    },
    "papermill": {
     "duration": 0.023538,
     "end_time": "2025-08-05T15:27:17.674157",
     "exception": false,
     "start_time": "2025-08-05T15:27:17.650619",
     "status": "completed"
    },
    "tags": []
   },
   "outputs": [],
   "source": [
    "#cp_groups_df"
   ]
  },
  {
   "cell_type": "code",
   "execution_count": 55,
   "id": "90032e27-66df-4540-9169-4e89cfbaa758",
   "metadata": {
    "execution": {
     "iopub.execute_input": "2025-08-05T15:27:17.698921Z",
     "iopub.status.busy": "2025-08-05T15:27:17.698432Z",
     "iopub.status.idle": "2025-08-05T15:27:17.707138Z",
     "shell.execute_reply": "2025-08-05T15:27:17.706448Z"
    },
    "papermill": {
     "duration": 0.022119,
     "end_time": "2025-08-05T15:27:17.708428",
     "exception": false,
     "start_time": "2025-08-05T15:27:17.686309",
     "status": "completed"
    },
    "tags": []
   },
   "outputs": [],
   "source": [
    "subgroups = ['frau1','nongerman','nongerman_male','nongerman_female']\n",
    "\n",
    "# Conditional coverage for subgroup==1\n",
    "cond_coverage = {\n",
    "    g: cp_groups_df.loc[cp_groups_df[g]==1, 'covered'].mean()\n",
    "    for g in subgroups\n",
    "}"
   ]
  },
  {
   "cell_type": "code",
   "execution_count": 56,
   "id": "1e348fb1-b9c3-45bc-ba23-f016827a7e0d",
   "metadata": {
    "execution": {
     "iopub.execute_input": "2025-08-05T15:27:17.761417Z",
     "iopub.status.busy": "2025-08-05T15:27:17.761071Z",
     "iopub.status.idle": "2025-08-05T15:27:17.768404Z",
     "shell.execute_reply": "2025-08-05T15:27:17.767501Z"
    },
    "papermill": {
     "duration": 0.038955,
     "end_time": "2025-08-05T15:27:17.770119",
     "exception": false,
     "start_time": "2025-08-05T15:27:17.731164",
     "status": "completed"
    },
    "tags": []
   },
   "outputs": [
    {
     "data": {
      "text/plain": [
       "{'frau1': 0.9073460035045154,\n",
       " 'nongerman': 0.9080446864649413,\n",
       " 'nongerman_male': 0.9269566783752139,\n",
       " 'nongerman_female': 0.8767511177347243}"
      ]
     },
     "execution_count": 56,
     "metadata": {},
     "output_type": "execute_result"
    }
   ],
   "source": [
    "cond_coverage"
   ]
  },
  {
   "cell_type": "code",
   "execution_count": 57,
   "id": "f5093324-c3dd-4d63-bc4c-8d945e5c8bbb",
   "metadata": {
    "execution": {
     "iopub.execute_input": "2025-08-05T15:27:17.796243Z",
     "iopub.status.busy": "2025-08-05T15:27:17.795863Z",
     "iopub.status.idle": "2025-08-05T15:27:17.803555Z",
     "shell.execute_reply": "2025-08-05T15:27:17.802371Z"
    },
    "papermill": {
     "duration": 0.022843,
     "end_time": "2025-08-05T15:27:17.805318",
     "exception": false,
     "start_time": "2025-08-05T15:27:17.782475",
     "status": "completed"
    },
    "tags": []
   },
   "outputs": [],
   "source": [
    "for subgroup, cov in cond_coverage.items():\n",
    "    cp_metrics_df[f\"cov_{subgroup}\"] = cov"
   ]
  },
  {
   "cell_type": "code",
   "execution_count": 58,
   "id": "6e872e10-dbe5-49e8-b554-5030c98ff75d",
   "metadata": {
    "execution": {
     "iopub.execute_input": "2025-08-05T15:27:17.833583Z",
     "iopub.status.busy": "2025-08-05T15:27:17.833131Z",
     "iopub.status.idle": "2025-08-05T15:27:17.847839Z",
     "shell.execute_reply": "2025-08-05T15:27:17.846943Z"
    },
    "papermill": {
     "duration": 0.029052,
     "end_time": "2025-08-05T15:27:17.849286",
     "exception": false,
     "start_time": "2025-08-05T15:27:17.820234",
     "status": "completed"
    },
    "tags": []
   },
   "outputs": [
    {
     "data": {
      "text/html": [
       "<div>\n",
       "<style scoped>\n",
       "    .dataframe tbody tr th:only-of-type {\n",
       "        vertical-align: middle;\n",
       "    }\n",
       "\n",
       "    .dataframe tbody tr th {\n",
       "        vertical-align: top;\n",
       "    }\n",
       "\n",
       "    .dataframe thead th {\n",
       "        text-align: right;\n",
       "    }\n",
       "</style>\n",
       "<table border=\"1\" class=\"dataframe\">\n",
       "  <thead>\n",
       "    <tr style=\"text-align: right;\">\n",
       "      <th></th>\n",
       "      <th>universe_id</th>\n",
       "      <th>universe_training_year</th>\n",
       "      <th>universe_training_size</th>\n",
       "      <th>universe_scale</th>\n",
       "      <th>universe_model</th>\n",
       "      <th>universe_exclude_features</th>\n",
       "      <th>universe_exclude_subgroups</th>\n",
       "      <th>q_hat</th>\n",
       "      <th>coverage</th>\n",
       "      <th>avg_size</th>\n",
       "      <th>cov_frau1</th>\n",
       "      <th>cov_nongerman</th>\n",
       "      <th>cov_nongerman_male</th>\n",
       "      <th>cov_nongerman_female</th>\n",
       "    </tr>\n",
       "  </thead>\n",
       "  <tbody>\n",
       "    <tr>\n",
       "      <th>0</th>\n",
       "      <td>3393432130bd198240b469941dcba65c</td>\n",
       "      <td>2014</td>\n",
       "      <td>5k</td>\n",
       "      <td>scale</td>\n",
       "      <td>elasticnet</td>\n",
       "      <td>age</td>\n",
       "      <td>keep-all</td>\n",
       "      <td>0.691273</td>\n",
       "      <td>0.910422</td>\n",
       "      <td>1.135771</td>\n",
       "      <td>0.907346</td>\n",
       "      <td>0.908045</td>\n",
       "      <td>0.926957</td>\n",
       "      <td>0.876751</td>\n",
       "    </tr>\n",
       "  </tbody>\n",
       "</table>\n",
       "</div>"
      ],
      "text/plain": [
       "                        universe_id universe_training_year  \\\n",
       "0  3393432130bd198240b469941dcba65c                   2014   \n",
       "\n",
       "  universe_training_size universe_scale universe_model  \\\n",
       "0                     5k          scale     elasticnet   \n",
       "\n",
       "  universe_exclude_features universe_exclude_subgroups     q_hat  coverage  \\\n",
       "0                       age                   keep-all  0.691273  0.910422   \n",
       "\n",
       "   avg_size  cov_frau1  cov_nongerman  cov_nongerman_male  \\\n",
       "0  1.135771   0.907346       0.908045            0.926957   \n",
       "\n",
       "   cov_nongerman_female  \n",
       "0              0.876751  "
      ]
     },
     "execution_count": 58,
     "metadata": {},
     "output_type": "execute_result"
    }
   ],
   "source": [
    "cp_metrics_df"
   ]
  },
  {
   "cell_type": "markdown",
   "id": "33774451",
   "metadata": {
    "papermill": {
     "duration": 0.012259,
     "end_time": "2025-08-05T15:27:17.878734",
     "exception": false,
     "start_time": "2025-08-05T15:27:17.866475",
     "status": "completed"
    },
    "tags": []
   },
   "source": [
    "# (Fairness) Metrics"
   ]
  },
  {
   "cell_type": "code",
   "execution_count": 59,
   "id": "debc5d62",
   "metadata": {
    "execution": {
     "iopub.execute_input": "2025-08-05T15:27:17.902660Z",
     "iopub.status.busy": "2025-08-05T15:27:17.901964Z",
     "iopub.status.idle": "2025-08-05T15:27:17.919077Z",
     "shell.execute_reply": "2025-08-05T15:27:17.917957Z"
    },
    "papermill": {
     "duration": 0.031229,
     "end_time": "2025-08-05T15:27:17.921170",
     "exception": false,
     "start_time": "2025-08-05T15:27:17.889941",
     "status": "completed"
    },
    "tags": []
   },
   "outputs": [],
   "source": [
    "# do I need to include maxdeutsch1.missing?\n",
    "\n",
    "import numpy as np\n",
    "\n",
    "colname_to_bin = \"maxdeutsch1\"\n",
    "majority_value = org_train[colname_to_bin].mode()[0]\n",
    "\n",
    "org_test[\"majmin\"] = np.where(org_test[colname_to_bin] == majority_value, \"majority\", \"minority\")"
   ]
  },
  {
   "cell_type": "code",
   "execution_count": 60,
   "id": "06a50de5",
   "metadata": {
    "execution": {
     "iopub.execute_input": "2025-08-05T15:27:17.977008Z",
     "iopub.status.busy": "2025-08-05T15:27:17.976066Z",
     "iopub.status.idle": "2025-08-05T15:27:19.712944Z",
     "shell.execute_reply": "2025-08-05T15:27:19.711751Z"
    },
    "papermill": {
     "duration": 1.767425,
     "end_time": "2025-08-05T15:27:19.715921",
     "exception": false,
     "start_time": "2025-08-05T15:27:17.948496",
     "status": "completed"
    },
    "tags": []
   },
   "outputs": [],
   "source": [
    "example_universe = universe.copy()\n",
    "example_universe[\"cutoff\"] = example_universe[\"cutoff\"][0]\n",
    "example_universe[\"eval_fairness_grouping\"] = example_universe[\"eval_fairness_grouping\"][0]\n",
    "fairness_dict, metric_frame = universe_analysis.compute_metrics(\n",
    "    example_universe,\n",
    "    y_pred_prob=probs_test,\n",
    "    y_test=y_true,\n",
    "    org_test=org_test,\n",
    ")"
   ]
  },
  {
   "cell_type": "markdown",
   "id": "f95d4e02",
   "metadata": {
    "papermill": {
     "duration": 0.037559,
     "end_time": "2025-08-05T15:27:19.793886",
     "exception": false,
     "start_time": "2025-08-05T15:27:19.756327",
     "status": "completed"
    },
    "tags": []
   },
   "source": [
    "# Overall"
   ]
  },
  {
   "cell_type": "markdown",
   "id": "bdee4871",
   "metadata": {
    "papermill": {
     "duration": 0.036682,
     "end_time": "2025-08-05T15:27:19.869584",
     "exception": false,
     "start_time": "2025-08-05T15:27:19.832902",
     "status": "completed"
    },
    "tags": []
   },
   "source": [
    "Fairness\n",
    "Main fairness target: Equalized Odds. Seems to be a better fit than equal opportunity, since we're not only interested in Y = 1. Seems to be a better fit than demographic parity, since we also care about accuracy, not just equal distribution of preds.\n",
    "\n",
    "Pick column for computation of fairness metrics\n",
    "\n",
    "Performance\n",
    "Overall performance measures, most interesting in relation to the measures split by group below"
   ]
  },
  {
   "cell_type": "code",
   "execution_count": 61,
   "id": "c4e067c6",
   "metadata": {
    "execution": {
     "iopub.execute_input": "2025-08-05T15:27:19.946590Z",
     "iopub.status.busy": "2025-08-05T15:27:19.945931Z",
     "iopub.status.idle": "2025-08-05T15:27:19.955089Z",
     "shell.execute_reply": "2025-08-05T15:27:19.953454Z"
    },
    "papermill": {
     "duration": 0.0505,
     "end_time": "2025-08-05T15:27:19.957479",
     "exception": false,
     "start_time": "2025-08-05T15:27:19.906979",
     "status": "completed"
    },
    "tags": []
   },
   "outputs": [
    {
     "data": {
      "text/plain": [
       "accuracy                   0.223866\n",
       "balanced accuracy          0.547489\n",
       "f1                         0.245211\n",
       "precision                  0.140081\n",
       "false positive rate        0.887816\n",
       "false negative rate        0.017205\n",
       "selection rate             0.900000\n",
       "count                  89710.000000\n",
       "dtype: float64"
      ]
     },
     "execution_count": 61,
     "metadata": {},
     "output_type": "execute_result"
    }
   ],
   "source": [
    "metric_frame.overall"
   ]
  },
  {
   "cell_type": "markdown",
   "id": "e968fe9d",
   "metadata": {
    "papermill": {
     "duration": 0.039086,
     "end_time": "2025-08-05T15:27:20.035278",
     "exception": false,
     "start_time": "2025-08-05T15:27:19.996192",
     "status": "completed"
    },
    "tags": []
   },
   "source": [
    "By Group"
   ]
  },
  {
   "cell_type": "code",
   "execution_count": 62,
   "id": "ec325bce",
   "metadata": {
    "execution": {
     "iopub.execute_input": "2025-08-05T15:27:20.113180Z",
     "iopub.status.busy": "2025-08-05T15:27:20.112733Z",
     "iopub.status.idle": "2025-08-05T15:27:20.131659Z",
     "shell.execute_reply": "2025-08-05T15:27:20.130200Z"
    },
    "papermill": {
     "duration": 0.060973,
     "end_time": "2025-08-05T15:27:20.134095",
     "exception": false,
     "start_time": "2025-08-05T15:27:20.073122",
     "status": "completed"
    },
    "tags": []
   },
   "outputs": [
    {
     "data": {
      "text/html": [
       "<div>\n",
       "<style scoped>\n",
       "    .dataframe tbody tr th:only-of-type {\n",
       "        vertical-align: middle;\n",
       "    }\n",
       "\n",
       "    .dataframe tbody tr th {\n",
       "        vertical-align: top;\n",
       "    }\n",
       "\n",
       "    .dataframe thead th {\n",
       "        text-align: right;\n",
       "    }\n",
       "</style>\n",
       "<table border=\"1\" class=\"dataframe\">\n",
       "  <thead>\n",
       "    <tr style=\"text-align: right;\">\n",
       "      <th></th>\n",
       "      <th>accuracy</th>\n",
       "      <th>balanced accuracy</th>\n",
       "      <th>f1</th>\n",
       "      <th>precision</th>\n",
       "      <th>false positive rate</th>\n",
       "      <th>false negative rate</th>\n",
       "      <th>selection rate</th>\n",
       "      <th>count</th>\n",
       "    </tr>\n",
       "    <tr>\n",
       "      <th>majmin</th>\n",
       "      <th></th>\n",
       "      <th></th>\n",
       "      <th></th>\n",
       "      <th></th>\n",
       "      <th></th>\n",
       "      <th></th>\n",
       "      <th></th>\n",
       "      <th></th>\n",
       "    </tr>\n",
       "  </thead>\n",
       "  <tbody>\n",
       "    <tr>\n",
       "      <th>majority</th>\n",
       "      <td>0.242547</td>\n",
       "      <td>0.556097</td>\n",
       "      <td>0.255242</td>\n",
       "      <td>0.146678</td>\n",
       "      <td>0.870082</td>\n",
       "      <td>0.017724</td>\n",
       "      <td>0.884907</td>\n",
       "      <td>69170.0</td>\n",
       "    </tr>\n",
       "    <tr>\n",
       "      <th>minority</th>\n",
       "      <td>0.160954</td>\n",
       "      <td>0.519198</td>\n",
       "      <td>0.212987</td>\n",
       "      <td>0.119406</td>\n",
       "      <td>0.946401</td>\n",
       "      <td>0.015203</td>\n",
       "      <td>0.950828</td>\n",
       "      <td>20540.0</td>\n",
       "    </tr>\n",
       "  </tbody>\n",
       "</table>\n",
       "</div>"
      ],
      "text/plain": [
       "          accuracy  balanced accuracy        f1  precision  \\\n",
       "majmin                                                       \n",
       "majority  0.242547           0.556097  0.255242   0.146678   \n",
       "minority  0.160954           0.519198  0.212987   0.119406   \n",
       "\n",
       "          false positive rate  false negative rate  selection rate    count  \n",
       "majmin                                                                       \n",
       "majority             0.870082             0.017724        0.884907  69170.0  \n",
       "minority             0.946401             0.015203        0.950828  20540.0  "
      ]
     },
     "execution_count": 62,
     "metadata": {},
     "output_type": "execute_result"
    }
   ],
   "source": [
    "metric_frame.by_group"
   ]
  },
  {
   "cell_type": "code",
   "execution_count": 63,
   "id": "a9ddbe63",
   "metadata": {
    "execution": {
     "iopub.execute_input": "2025-08-05T15:27:20.203515Z",
     "iopub.status.busy": "2025-08-05T15:27:20.202438Z",
     "iopub.status.idle": "2025-08-05T15:27:22.919697Z",
     "shell.execute_reply": "2025-08-05T15:27:22.918583Z"
    },
    "papermill": {
     "duration": 2.74852,
     "end_time": "2025-08-05T15:27:22.921429",
     "exception": false,
     "start_time": "2025-08-05T15:27:20.172909",
     "status": "completed"
    },
    "tags": []
   },
   "outputs": [
    {
     "data": {
      "text/plain": [
       "array([[<Axes: title={'center': 'accuracy'}, xlabel='majmin'>,\n",
       "        <Axes: title={'center': 'balanced accuracy'}, xlabel='majmin'>,\n",
       "        <Axes: title={'center': 'f1'}, xlabel='majmin'>],\n",
       "       [<Axes: title={'center': 'precision'}, xlabel='majmin'>,\n",
       "        <Axes: title={'center': 'false positive rate'}, xlabel='majmin'>,\n",
       "        <Axes: title={'center': 'false negative rate'}, xlabel='majmin'>],\n",
       "       [<Axes: title={'center': 'selection rate'}, xlabel='majmin'>,\n",
       "        <Axes: title={'center': 'count'}, xlabel='majmin'>,\n",
       "        <Axes: xlabel='majmin'>]], dtype=object)"
      ]
     },
     "execution_count": 63,
     "metadata": {},
     "output_type": "execute_result"
    },
    {
     "data": {
      "image/png": "[encoded data removed]",
      "text/plain": [
       "<Figure size 1200x800 with 9 Axes>"
      ]
     },
     "metadata": {},
     "output_type": "display_data"
    }
   ],
   "source": [
    "# In a graphic\n",
    "metric_frame.by_group.plot.bar(\n",
    "    subplots=True,\n",
    "    layout=[3, 3],\n",
    "    legend=False,\n",
    "    figsize=[12, 8],\n",
    "    title=\"Show all metrics\",\n",
    ")"
   ]
  },
  {
   "cell_type": "markdown",
   "id": "f57a0bac",
   "metadata": {
    "papermill": {
     "duration": 0.025022,
     "end_time": "2025-08-05T15:27:22.972160",
     "exception": false,
     "start_time": "2025-08-05T15:27:22.947138",
     "status": "completed"
    },
    "tags": []
   },
   "source": [
    "# Final Output"
   ]
  },
  {
   "cell_type": "code",
   "execution_count": 64,
   "id": "96d280a3",
   "metadata": {
    "execution": {
     "iopub.execute_input": "2025-08-05T15:27:23.026987Z",
     "iopub.status.busy": "2025-08-05T15:27:23.026307Z",
     "iopub.status.idle": "2025-08-05T15:27:23.035055Z",
     "shell.execute_reply": "2025-08-05T15:27:23.034219Z"
    },
    "papermill": {
     "duration": 0.038735,
     "end_time": "2025-08-05T15:27:23.036489",
     "exception": false,
     "start_time": "2025-08-05T15:27:22.997754",
     "status": "completed"
    },
    "tags": []
   },
   "outputs": [
    {
     "data": {
      "text/plain": [
       "4"
      ]
     },
     "execution_count": 64,
     "metadata": {},
     "output_type": "execute_result"
    }
   ],
   "source": [
    "sub_universes = universe_analysis.generate_sub_universes()\n",
    "len(sub_universes)"
   ]
  },
  {
   "cell_type": "code",
   "execution_count": 65,
   "id": "92adf7ba",
   "metadata": {
    "execution": {
     "iopub.execute_input": "2025-08-05T15:27:23.064019Z",
     "iopub.status.busy": "2025-08-05T15:27:23.063519Z",
     "iopub.status.idle": "2025-08-05T15:27:23.077573Z",
     "shell.execute_reply": "2025-08-05T15:27:23.076813Z"
    },
    "papermill": {
     "duration": 0.029066,
     "end_time": "2025-08-05T15:27:23.079125",
     "exception": false,
     "start_time": "2025-08-05T15:27:23.050059",
     "status": "completed"
    },
    "tags": []
   },
   "outputs": [],
   "source": [
    "def filter_sub_universe_data(sub_universe, org_test):\n",
    "    # Keep all rows — no filtering\n",
    "    keep_rows_mask = np.ones(org_test.shape[0], dtype=bool)\n",
    "\n",
    "    print(f\"[INFO] Keeping all rows: {keep_rows_mask.sum()} rows retained.\")\n",
    "    return keep_rows_mask"
   ]
  },
  {
   "cell_type": "code",
   "execution_count": 66,
   "id": "4a759155",
   "metadata": {
    "execution": {
     "iopub.execute_input": "2025-08-05T15:27:23.112577Z",
     "iopub.status.busy": "2025-08-05T15:27:23.112358Z",
     "iopub.status.idle": "2025-08-05T15:27:32.105701Z",
     "shell.execute_reply": "2025-08-05T15:27:32.104671Z"
    },
    "papermill": {
     "duration": 9.012101,
     "end_time": "2025-08-05T15:27:32.107351",
     "exception": false,
     "start_time": "2025-08-05T15:27:23.095250",
     "status": "completed"
    },
    "tags": []
   },
   "outputs": [
    {
     "name": "stdout",
     "output_type": "stream",
     "text": [
      "Stopping execution_time clock.\n",
      "[INFO] Keeping all rows: 89710 rows retained.\n"
     ]
    },
    {
     "name": "stdout",
     "output_type": "stream",
     "text": [
      "[INFO] Keeping all rows: 89710 rows retained.\n"
     ]
    },
    {
     "name": "stdout",
     "output_type": "stream",
     "text": [
      "[INFO] Keeping all rows: 89710 rows retained.\n"
     ]
    },
    {
     "name": "stdout",
     "output_type": "stream",
     "text": [
      "[INFO] Keeping all rows: 89710 rows retained.\n"
     ]
    },
    {
     "data": {
      "text/html": [
       "<div>\n",
       "<style scoped>\n",
       "    .dataframe tbody tr th:only-of-type {\n",
       "        vertical-align: middle;\n",
       "    }\n",
       "\n",
       "    .dataframe tbody tr th {\n",
       "        vertical-align: top;\n",
       "    }\n",
       "\n",
       "    .dataframe thead th {\n",
       "        text-align: right;\n",
       "    }\n",
       "</style>\n",
       "<table border=\"1\" class=\"dataframe\">\n",
       "  <thead>\n",
       "    <tr style=\"text-align: right;\">\n",
       "      <th></th>\n",
       "      <th>run_no</th>\n",
       "      <th>universe_id</th>\n",
       "      <th>universe_settings</th>\n",
       "      <th>execution_time</th>\n",
       "      <th>test_size_n</th>\n",
       "      <th>test_size_frac</th>\n",
       "      <th>fair_main_equalized_odds_difference</th>\n",
       "      <th>fair_main_equalized_odds_ratio</th>\n",
       "      <th>fair_main_demographic_parity_difference</th>\n",
       "      <th>fair_main_demographic_parity_ratio</th>\n",
       "      <th>...</th>\n",
       "      <th>perf_grp_precision_0</th>\n",
       "      <th>perf_grp_precision_1</th>\n",
       "      <th>perf_grp_false positive rate_0</th>\n",
       "      <th>perf_grp_false positive rate_1</th>\n",
       "      <th>perf_grp_false negative rate_0</th>\n",
       "      <th>perf_grp_false negative rate_1</th>\n",
       "      <th>perf_grp_selection rate_0</th>\n",
       "      <th>perf_grp_selection rate_1</th>\n",
       "      <th>perf_grp_count_0</th>\n",
       "      <th>perf_grp_count_1</th>\n",
       "    </tr>\n",
       "  </thead>\n",
       "  <tbody>\n",
       "    <tr>\n",
       "      <th>0</th>\n",
       "      <td>15</td>\n",
       "      <td>3393432130bd198240b469941dcba65c</td>\n",
       "      <td>{\"cutoff\": \"quantile_0.1\", \"eval_fairness_grou...</td>\n",
       "      <td>27.115547</td>\n",
       "      <td>89710</td>\n",
       "      <td>1.0</td>\n",
       "      <td>0.076319</td>\n",
       "      <td>0.919358</td>\n",
       "      <td>0.065921</td>\n",
       "      <td>0.93067</td>\n",
       "      <td>...</td>\n",
       "      <td>NaN</td>\n",
       "      <td>NaN</td>\n",
       "      <td>NaN</td>\n",
       "      <td>NaN</td>\n",
       "      <td>NaN</td>\n",
       "      <td>NaN</td>\n",
       "      <td>NaN</td>\n",
       "      <td>NaN</td>\n",
       "      <td>NaN</td>\n",
       "      <td>NaN</td>\n",
       "    </tr>\n",
       "    <tr>\n",
       "      <th>0</th>\n",
       "      <td>15</td>\n",
       "      <td>3393432130bd198240b469941dcba65c</td>\n",
       "      <td>{\"cutoff\": \"quantile_0.1\", \"eval_fairness_grou...</td>\n",
       "      <td>27.115547</td>\n",
       "      <td>89710</td>\n",
       "      <td>1.0</td>\n",
       "      <td>0.076319</td>\n",
       "      <td>0.919358</td>\n",
       "      <td>0.065921</td>\n",
       "      <td>0.93067</td>\n",
       "      <td>...</td>\n",
       "      <td>0.119406</td>\n",
       "      <td>0.146678</td>\n",
       "      <td>0.946401</td>\n",
       "      <td>0.870082</td>\n",
       "      <td>0.015203</td>\n",
       "      <td>0.017724</td>\n",
       "      <td>0.950828</td>\n",
       "      <td>0.884907</td>\n",
       "      <td>20540.0</td>\n",
       "      <td>69170.0</td>\n",
       "    </tr>\n",
       "    <tr>\n",
       "      <th>0</th>\n",
       "      <td>15</td>\n",
       "      <td>3393432130bd198240b469941dcba65c</td>\n",
       "      <td>{\"cutoff\": \"quantile_0.25\", \"eval_fairness_gro...</td>\n",
       "      <td>27.115547</td>\n",
       "      <td>89710</td>\n",
       "      <td>1.0</td>\n",
       "      <td>0.147944</td>\n",
       "      <td>0.823163</td>\n",
       "      <td>0.128566</td>\n",
       "      <td>0.84859</td>\n",
       "      <td>...</td>\n",
       "      <td>NaN</td>\n",
       "      <td>NaN</td>\n",
       "      <td>NaN</td>\n",
       "      <td>NaN</td>\n",
       "      <td>NaN</td>\n",
       "      <td>NaN</td>\n",
       "      <td>NaN</td>\n",
       "      <td>NaN</td>\n",
       "      <td>NaN</td>\n",
       "      <td>NaN</td>\n",
       "    </tr>\n",
       "    <tr>\n",
       "      <th>0</th>\n",
       "      <td>15</td>\n",
       "      <td>3393432130bd198240b469941dcba65c</td>\n",
       "      <td>{\"cutoff\": \"quantile_0.25\", \"eval_fairness_gro...</td>\n",
       "      <td>27.115547</td>\n",
       "      <td>89710</td>\n",
       "      <td>1.0</td>\n",
       "      <td>0.147944</td>\n",
       "      <td>0.823163</td>\n",
       "      <td>0.128566</td>\n",
       "      <td>0.84859</td>\n",
       "      <td>...</td>\n",
       "      <td>0.128318</td>\n",
       "      <td>0.170542</td>\n",
       "      <td>0.836617</td>\n",
       "      <td>0.688672</td>\n",
       "      <td>0.054899</td>\n",
       "      <td>0.070022</td>\n",
       "      <td>0.849124</td>\n",
       "      <td>0.720558</td>\n",
       "      <td>20540.0</td>\n",
       "      <td>69170.0</td>\n",
       "    </tr>\n",
       "  </tbody>\n",
       "</table>\n",
       "<p>4 rows × 50 columns</p>\n",
       "</div>"
      ],
      "text/plain": [
       "  run_no                       universe_id  \\\n",
       "0     15  3393432130bd198240b469941dcba65c   \n",
       "0     15  3393432130bd198240b469941dcba65c   \n",
       "0     15  3393432130bd198240b469941dcba65c   \n",
       "0     15  3393432130bd198240b469941dcba65c   \n",
       "\n",
       "                                   universe_settings  execution_time  \\\n",
       "0  {\"cutoff\": \"quantile_0.1\", \"eval_fairness_grou...       27.115547   \n",
       "0  {\"cutoff\": \"quantile_0.1\", \"eval_fairness_grou...       27.115547   \n",
       "0  {\"cutoff\": \"quantile_0.25\", \"eval_fairness_gro...       27.115547   \n",
       "0  {\"cutoff\": \"quantile_0.25\", \"eval_fairness_gro...       27.115547   \n",
       "\n",
       "   test_size_n  test_size_frac  fair_main_equalized_odds_difference  \\\n",
       "0        89710             1.0                             0.076319   \n",
       "0        89710             1.0                             0.076319   \n",
       "0        89710             1.0                             0.147944   \n",
       "0        89710             1.0                             0.147944   \n",
       "\n",
       "   fair_main_equalized_odds_ratio  fair_main_demographic_parity_difference  \\\n",
       "0                        0.919358                                 0.065921   \n",
       "0                        0.919358                                 0.065921   \n",
       "0                        0.823163                                 0.128566   \n",
       "0                        0.823163                                 0.128566   \n",
       "\n",
       "   fair_main_demographic_parity_ratio  ...  perf_grp_precision_0  \\\n",
       "0                             0.93067  ...                   NaN   \n",
       "0                             0.93067  ...              0.119406   \n",
       "0                             0.84859  ...                   NaN   \n",
       "0                             0.84859  ...              0.128318   \n",
       "\n",
       "   perf_grp_precision_1  perf_grp_false positive rate_0  \\\n",
       "0                   NaN                             NaN   \n",
       "0              0.146678                        0.946401   \n",
       "0                   NaN                             NaN   \n",
       "0              0.170542                        0.836617   \n",
       "\n",
       "   perf_grp_false positive rate_1  perf_grp_false negative rate_0  \\\n",
       "0                             NaN                             NaN   \n",
       "0                        0.870082                        0.015203   \n",
       "0                             NaN                             NaN   \n",
       "0                        0.688672                        0.054899   \n",
       "\n",
       "   perf_grp_false negative rate_1  perf_grp_selection rate_0  \\\n",
       "0                             NaN                        NaN   \n",
       "0                        0.017724                   0.950828   \n",
       "0                             NaN                        NaN   \n",
       "0                        0.070022                   0.849124   \n",
       "\n",
       "   perf_grp_selection rate_1  perf_grp_count_0  perf_grp_count_1  \n",
       "0                        NaN               NaN               NaN  \n",
       "0                   0.884907           20540.0           69170.0  \n",
       "0                        NaN               NaN               NaN  \n",
       "0                   0.720558           20540.0           69170.0  \n",
       "\n",
       "[4 rows x 50 columns]"
      ]
     },
     "execution_count": 66,
     "metadata": {},
     "output_type": "execute_result"
    }
   ],
   "source": [
    "final_output = universe_analysis.generate_final_output(\n",
    "    y_pred_prob=probs_test,\n",
    "    y_test=y_true,\n",
    "    org_test=org_test,\n",
    "    filter_data=filter_sub_universe_data,\n",
    "    cp_metrics_df=cp_metrics_df,\n",
    "    save=True,\n",
    ")\n",
    "final_output"
   ]
  }
 ],
 "metadata": {
  "celltoolbar": "Tags",
  "kernelspec": {
   "display_name": "Python (CMA Fairness)",
   "language": "python",
   "name": "cma_fair_env"
  },
  "language_info": {
   "codemirror_mode": {
    "name": "ipython",
    "version": 3
   },
   "file_extension": ".py",
   "mimetype": "text/x-python",
   "name": "python",
   "nbconvert_exporter": "python",
   "pygments_lexer": "ipython3",
   "version": "3.10.12"
  },
  "papermill": {
   "default_parameters": {},
   "duration": 40.083071,
   "end_time": "2025-08-05T15:27:32.954994",
   "environment_variables": {},
   "exception": null,
   "input_path": "universe_analysis.ipynb",
   "output_path": "output/runs/15/notebooks/m_15-3393432130bd198240b469941dcba65c.ipynb",
   "parameters": {
    "output_dir": "output",
    "run_no": "15",
    "seed": "2023",
    "universe": "{\"cutoff\": [\"quantile_0.1\", \"quantile_0.25\"], \"eval_fairness_grouping\": [\"majority-minority\", \"nationality-all\"], \"exclude_features\": \"age\", \"exclude_subgroups\": \"keep-all\", \"model\": \"elasticnet\", \"scale\": \"scale\", \"training_size\": \"5k\", \"training_year\": \"2014\"}",
    "universe_id": "3393432130bd198240b469941dcba65c"
   },
   "start_time": "2025-08-05T15:26:52.871923",
   "version": "2.6.0"
  }
 },
 "nbformat": 4,
 "nbformat_minor": 5
}