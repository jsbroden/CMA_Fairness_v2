{
 "cells": [
  {
   "cell_type": "code",
   "execution_count": 1,
   "id": "f159f837-637b-42ba-96b5-ec9a68c44524",
   "metadata": {
    "execution": {
     "iopub.execute_input": "2025-08-05T14:51:43.825671Z",
     "iopub.status.busy": "2025-08-05T14:51:43.825076Z",
     "iopub.status.idle": "2025-08-05T14:51:43.841137Z",
     "shell.execute_reply": "2025-08-05T14:51:43.840246Z"
    },
    "papermill": {
     "duration": 0.040934,
     "end_time": "2025-08-05T14:51:43.843157",
     "exception": false,
     "start_time": "2025-08-05T14:51:43.802223",
     "status": "completed"
    },
    "tags": []
   },
   "outputs": [
    {
     "name": "stdout",
     "output_type": "stream",
     "text": [
      "/dss/dsshome1/0C/ra93lal2/cma/CMA_Fairness_v2\n"
     ]
    },
    {
     "name": "stderr",
     "output_type": "stream",
     "text": [
      "/dss/dsshome1/0C/ra93lal2/.local/share/virtualenvs/CMA_Fairness_v2-3j10GkSs/lib/python3.10/site-packages/IPython/core/magics/osm.py:393: UserWarning: This is now an optional IPython functionality, using bookmarks requires you to install the `pickleshare` library.\n",
      "  bkms = self.shell.db.get('bookmarks', {})\n",
      "/dss/dsshome1/0C/ra93lal2/.local/share/virtualenvs/CMA_Fairness_v2-3j10GkSs/lib/python3.10/site-packages/IPython/core/magics/osm.py:417: UserWarning: This is now an optional IPython functionality, setting dhist requires you to install the `pickleshare` library.\n",
      "  self.shell.db['dhist'] = compress_dhist(dhist)[-100:]\n"
     ]
    }
   ],
   "source": [
    "%cd ~/cma/CMA_Fairness_v2"
   ]
  },
  {
   "cell_type": "markdown",
   "id": "de2603b9",
   "metadata": {
    "papermill": {
     "duration": 0.015297,
     "end_time": "2025-08-05T14:51:43.876446",
     "exception": false,
     "start_time": "2025-08-05T14:51:43.861149",
     "status": "completed"
    },
    "tags": []
   },
   "source": [
    "The following cell holds the definition of our parameters, these values can be overriden by rendering the with e.g. the following command:\n",
    "\n",
    "papermill -p alpha 0.2 -p ratio 0.3 universe_analysis.ipynb output/test_run.ipynb"
   ]
  },
  {
   "cell_type": "code",
   "execution_count": 2,
   "id": "a80968a0-40bb-4fa9-85ef-2d5eefb01975",
   "metadata": {
    "execution": {
     "iopub.execute_input": "2025-08-05T14:51:43.909022Z",
     "iopub.status.busy": "2025-08-05T14:51:43.908362Z",
     "iopub.status.idle": "2025-08-05T14:51:43.915967Z",
     "shell.execute_reply": "2025-08-05T14:51:43.914904Z"
    },
    "papermill": {
     "duration": 0.025581,
     "end_time": "2025-08-05T14:51:43.917639",
     "exception": false,
     "start_time": "2025-08-05T14:51:43.892058",
     "status": "completed"
    },
    "tags": []
   },
   "outputs": [
    {
     "name": "stdout",
     "output_type": "stream",
     "text": [
      "Current working directory: /dss/dsshome1/0C/ra93lal2/cma/CMA_Fairness_v2\n"
     ]
    }
   ],
   "source": [
    "import os\n",
    "print(\"Current working directory:\", os.getcwd())"
   ]
  },
  {
   "cell_type": "code",
   "execution_count": 3,
   "id": "2dce4c03",
   "metadata": {
    "execution": {
     "iopub.execute_input": "2025-08-05T14:51:43.950956Z",
     "iopub.status.busy": "2025-08-05T14:51:43.950309Z",
     "iopub.status.idle": "2025-08-05T14:51:43.956657Z",
     "shell.execute_reply": "2025-08-05T14:51:43.955655Z"
    },
    "papermill": {
     "duration": 0.024814,
     "end_time": "2025-08-05T14:51:43.958349",
     "exception": false,
     "start_time": "2025-08-05T14:51:43.933535",
     "status": "completed"
    },
    "tags": [
     "parameters"
    ]
   },
   "outputs": [],
   "source": [
    "run_no = 0\n",
    "universe_id = \"test\"\n",
    "universe = {\n",
    "    \"training_size\": \"25k\", # \"25k\", \"5k\", \"1k\"\n",
    "    \"training_year\": \"2014\", # \"2014\", \"2012_14\", \"2010_14\"\n",
    "    \"scale\": \"scale\", # \"scale\", \"do-not-scale\",\n",
    "    \"model\": \"elasticnet\", # \"logreg\", \"penalized_logreg\", \"rf\", \"gbm\", \"elasticnet\"\n",
    "    \"cutoff\": [\"quantile_0.15\", \"quantile_0.30\"],\n",
    "    \"exclude_features\": \"age\", # \"none\", \"nationality\", \"sex\", \"nationality-sex\", \"age\"\n",
    "    \"exclude_subgroups\": \"keep-all\", # \"keep-all\", \"drop-non-german\"\n",
    "    \"eval_fairness_grouping\": [\"majority-minority\", \"nationality-all\"]\n",
    "}\n",
    "\n",
    "output_dir=\"./output\"\n",
    "seed=0"
   ]
  },
  {
   "cell_type": "code",
   "execution_count": 4,
   "id": "b93f13b5",
   "metadata": {
    "execution": {
     "iopub.execute_input": "2025-08-05T14:51:43.992479Z",
     "iopub.status.busy": "2025-08-05T14:51:43.991706Z",
     "iopub.status.idle": "2025-08-05T14:51:43.996886Z",
     "shell.execute_reply": "2025-08-05T14:51:43.995997Z"
    },
    "papermill": {
     "duration": 0.023688,
     "end_time": "2025-08-05T14:51:43.998724",
     "exception": false,
     "start_time": "2025-08-05T14:51:43.975036",
     "status": "completed"
    },
    "tags": [
     "injected-parameters"
    ]
   },
   "outputs": [],
   "source": [
    "# Parameters\n",
    "universe_id = \"a99869aa2a5dbde6f312ca64398d58aa\"\n",
    "run_no = \"15\"\n",
    "universe = \"{\\\"cutoff\\\": [\\\"quantile_0.1\\\", \\\"quantile_0.25\\\"], \\\"eval_fairness_grouping\\\": [\\\"majority-minority\\\", \\\"nationality-all\\\"], \\\"exclude_features\\\": \\\"age\\\", \\\"exclude_subgroups\\\": \\\"keep-all\\\", \\\"model\\\": \\\"rf\\\", \\\"scale\\\": \\\"scale\\\", \\\"training_size\\\": \\\"25k\\\", \\\"training_year\\\": \\\"2012_14\\\"}\"\n",
    "output_dir = \"output\"\n",
    "seed = \"2023\"\n"
   ]
  },
  {
   "cell_type": "code",
   "execution_count": 5,
   "id": "1650acaf",
   "metadata": {
    "execution": {
     "iopub.execute_input": "2025-08-05T14:51:44.037104Z",
     "iopub.status.busy": "2025-08-05T14:51:44.036220Z",
     "iopub.status.idle": "2025-08-05T14:51:44.041210Z",
     "shell.execute_reply": "2025-08-05T14:51:44.040336Z"
    },
    "papermill": {
     "duration": 0.024661,
     "end_time": "2025-08-05T14:51:44.043018",
     "exception": false,
     "start_time": "2025-08-05T14:51:44.018357",
     "status": "completed"
    },
    "tags": []
   },
   "outputs": [],
   "source": [
    "import json\n",
    "if isinstance(universe, str):\n",
    "    universe = json.loads(universe)"
   ]
  },
  {
   "cell_type": "code",
   "execution_count": 6,
   "id": "16620c48",
   "metadata": {
    "execution": {
     "iopub.execute_input": "2025-08-05T14:51:44.080389Z",
     "iopub.status.busy": "2025-08-05T14:51:44.079736Z",
     "iopub.status.idle": "2025-08-05T14:51:44.121662Z",
     "shell.execute_reply": "2025-08-05T14:51:44.120763Z"
    },
    "papermill": {
     "duration": 0.061862,
     "end_time": "2025-08-05T14:51:44.123498",
     "exception": false,
     "start_time": "2025-08-05T14:51:44.061636",
     "status": "completed"
    },
    "tags": []
   },
   "outputs": [],
   "source": [
    "# Auto-reload the custom package\n",
    "%load_ext autoreload\n",
    "%autoreload 1\n",
    "%aimport fairness_multiverse"
   ]
  },
  {
   "cell_type": "code",
   "execution_count": 7,
   "id": "01c5c9f3",
   "metadata": {
    "execution": {
     "iopub.execute_input": "2025-08-05T14:51:44.161289Z",
     "iopub.status.busy": "2025-08-05T14:51:44.160454Z",
     "iopub.status.idle": "2025-08-05T14:51:45.992973Z",
     "shell.execute_reply": "2025-08-05T14:51:45.991993Z"
    },
    "papermill": {
     "duration": 1.852685,
     "end_time": "2025-08-05T14:51:45.995042",
     "exception": false,
     "start_time": "2025-08-05T14:51:44.142357",
     "status": "completed"
    },
    "tags": []
   },
   "outputs": [],
   "source": [
    "from fairness_multiverse.universe import UniverseAnalysis\n",
    "\n",
    "universe_analysis = UniverseAnalysis(\n",
    "    run_no = run_no,\n",
    "    universe_id = universe_id,\n",
    "    universe = universe,\n",
    "    output_dir=output_dir,\n",
    ")"
   ]
  },
  {
   "cell_type": "code",
   "execution_count": 8,
   "id": "106241f5",
   "metadata": {
    "execution": {
     "iopub.execute_input": "2025-08-05T14:51:46.032282Z",
     "iopub.status.busy": "2025-08-05T14:51:46.031817Z",
     "iopub.status.idle": "2025-08-05T14:51:46.038181Z",
     "shell.execute_reply": "2025-08-05T14:51:46.037196Z"
    },
    "papermill": {
     "duration": 0.026065,
     "end_time": "2025-08-05T14:51:46.039999",
     "exception": false,
     "start_time": "2025-08-05T14:51:46.013934",
     "status": "completed"
    },
    "tags": []
   },
   "outputs": [
    {
     "name": "stdout",
     "output_type": "stream",
     "text": [
      "Using Seed: 2023\n"
     ]
    }
   ],
   "source": [
    "import numpy as np\n",
    "parsed_seed = int(seed)\n",
    "np.random.seed(parsed_seed)\n",
    "print(f\"Using Seed: {parsed_seed}\")"
   ]
  },
  {
   "cell_type": "markdown",
   "id": "e0ebdc57",
   "metadata": {
    "papermill": {
     "duration": 0.016918,
     "end_time": "2025-08-05T14:51:46.074668",
     "exception": false,
     "start_time": "2025-08-05T14:51:46.057750",
     "status": "completed"
    },
    "tags": []
   },
   "source": [
    "# Loading Data"
   ]
  },
  {
   "cell_type": "code",
   "execution_count": 9,
   "id": "f0496b8a",
   "metadata": {
    "execution": {
     "iopub.execute_input": "2025-08-05T14:51:46.111626Z",
     "iopub.status.busy": "2025-08-05T14:51:46.111108Z",
     "iopub.status.idle": "2025-08-05T14:51:58.960808Z",
     "shell.execute_reply": "2025-08-05T14:51:58.959461Z"
    },
    "papermill": {
     "duration": 12.870856,
     "end_time": "2025-08-05T14:51:58.962745",
     "exception": false,
     "start_time": "2025-08-05T14:51:46.091889",
     "status": "completed"
    },
    "tags": []
   },
   "outputs": [
    {
     "name": "stdout",
     "output_type": "stream",
     "text": [
      "Loading SIAB data from cache: data/siab_cached.csv.gz\n"
     ]
    },
    {
     "name": "stdout",
     "output_type": "stream",
     "text": [
      "(643690, 164)\n"
     ]
    }
   ],
   "source": [
    "from pathlib import Path\n",
    "import pandas as pd\n",
    "\n",
    "# File paths\n",
    "raw_file = Path(\"data/raw/siab.csv\")\n",
    "cache_file = Path(\"data/siab_cached.csv.gz\")\n",
    "\n",
    "# Ensure cache directory exists\n",
    "cache_file.parent.mkdir(parents=True, exist_ok=True)\n",
    "\n",
    "# Load with simple caching\n",
    "if cache_file.exists():\n",
    "    print(f\"Loading SIAB data from cache: {cache_file}\")\n",
    "    siab = pd.read_csv(cache_file, compression='gzip')\n",
    "else:\n",
    "    print(f\"Cache not found. Reading raw SIAB data: {raw_file}\")\n",
    "    siab = pd.read_csv(raw_file)\n",
    "    siab.to_csv(cache_file, index=False, compression='gzip')\n",
    "    print(f\"Cached SIAB data to: {cache_file}\")\n",
    "\n",
    "print(siab.shape)"
   ]
  },
  {
   "cell_type": "code",
   "execution_count": 10,
   "id": "db0ca512-5f53-4dba-abdb-a2888bca41ba",
   "metadata": {
    "execution": {
     "iopub.execute_input": "2025-08-05T14:51:59.007743Z",
     "iopub.status.busy": "2025-08-05T14:51:59.007295Z",
     "iopub.status.idle": "2025-08-05T14:51:59.013248Z",
     "shell.execute_reply": "2025-08-05T14:51:59.012180Z"
    },
    "papermill": {
     "duration": 0.029473,
     "end_time": "2025-08-05T14:51:59.015352",
     "exception": false,
     "start_time": "2025-08-05T14:51:58.985879",
     "status": "completed"
    },
    "tags": []
   },
   "outputs": [],
   "source": [
    "#siab"
   ]
  },
  {
   "cell_type": "markdown",
   "id": "997051c5-15bd-4b69-9786-c3001a3ce484",
   "metadata": {
    "papermill": {
     "duration": 0.020358,
     "end_time": "2025-08-05T14:51:59.057800",
     "exception": false,
     "start_time": "2025-08-05T14:51:59.037442",
     "status": "completed"
    },
    "tags": []
   },
   "source": [
    "# Splitting Data and Setting Training Data Size"
   ]
  },
  {
   "cell_type": "code",
   "execution_count": 11,
   "id": "aea9c6ef-6f46-42c8-85eb-5a62025c1508",
   "metadata": {
    "execution": {
     "iopub.execute_input": "2025-08-05T14:51:59.095845Z",
     "iopub.status.busy": "2025-08-05T14:51:59.094910Z",
     "iopub.status.idle": "2025-08-05T14:51:59.780871Z",
     "shell.execute_reply": "2025-08-05T14:51:59.779902Z"
    },
    "papermill": {
     "duration": 0.706384,
     "end_time": "2025-08-05T14:51:59.782519",
     "exception": false,
     "start_time": "2025-08-05T14:51:59.076135",
     "status": "completed"
    },
    "tags": []
   },
   "outputs": [],
   "source": [
    "from fairness_multiverse.universe import sample_by_year_size\n",
    "\n",
    "siab_train = sample_by_year_size(siab,\n",
    "                               training_year=universe[\"training_year\"],\n",
    "                               training_size=universe[\"training_size\"])"
   ]
  },
  {
   "cell_type": "code",
   "execution_count": 12,
   "id": "8d3afb32-789d-442c-8d5d-9f5aa8dd2eed",
   "metadata": {
    "execution": {
     "iopub.execute_input": "2025-08-05T14:51:59.810629Z",
     "iopub.status.busy": "2025-08-05T14:51:59.810310Z",
     "iopub.status.idle": "2025-08-05T14:51:59.814457Z",
     "shell.execute_reply": "2025-08-05T14:51:59.813403Z"
    },
    "papermill": {
     "duration": 0.018429,
     "end_time": "2025-08-05T14:51:59.816530",
     "exception": false,
     "start_time": "2025-08-05T14:51:59.798101",
     "status": "completed"
    },
    "tags": []
   },
   "outputs": [],
   "source": [
    "#siab_train.shape"
   ]
  },
  {
   "cell_type": "code",
   "execution_count": 13,
   "id": "d582db68-1a4c-47fb-84fc-08518dc1975a",
   "metadata": {
    "execution": {
     "iopub.execute_input": "2025-08-05T14:51:59.855994Z",
     "iopub.status.busy": "2025-08-05T14:51:59.855188Z",
     "iopub.status.idle": "2025-08-05T14:51:59.860130Z",
     "shell.execute_reply": "2025-08-05T14:51:59.859068Z"
    },
    "papermill": {
     "duration": 0.026386,
     "end_time": "2025-08-05T14:51:59.862220",
     "exception": false,
     "start_time": "2025-08-05T14:51:59.835834",
     "status": "completed"
    },
    "tags": []
   },
   "outputs": [],
   "source": [
    "#display(siab_train.groupby(\"year\").size())"
   ]
  },
  {
   "cell_type": "code",
   "execution_count": 14,
   "id": "a561edb4-d032-42cb-8256-22eac1111c64",
   "metadata": {
    "execution": {
     "iopub.execute_input": "2025-08-05T14:51:59.901915Z",
     "iopub.status.busy": "2025-08-05T14:51:59.901379Z",
     "iopub.status.idle": "2025-08-05T14:52:00.175091Z",
     "shell.execute_reply": "2025-08-05T14:52:00.174093Z"
    },
    "papermill": {
     "duration": 0.294292,
     "end_time": "2025-08-05T14:52:00.177110",
     "exception": false,
     "start_time": "2025-08-05T14:51:59.882818",
     "status": "completed"
    },
    "tags": []
   },
   "outputs": [],
   "source": [
    "#siab_train = siab_s[siab_s.year < 2015]\n",
    "siab_calib = siab[siab.year == 2015]\n",
    "siab_test = siab[siab.year == 2016]"
   ]
  },
  {
   "cell_type": "code",
   "execution_count": 15,
   "id": "472de16f-c3db-4916-846b-1f0de9cf1746",
   "metadata": {
    "execution": {
     "iopub.execute_input": "2025-08-05T14:52:00.219104Z",
     "iopub.status.busy": "2025-08-05T14:52:00.218263Z",
     "iopub.status.idle": "2025-08-05T14:52:00.234242Z",
     "shell.execute_reply": "2025-08-05T14:52:00.232983Z"
    },
    "papermill": {
     "duration": 0.04008,
     "end_time": "2025-08-05T14:52:00.236169",
     "exception": false,
     "start_time": "2025-08-05T14:52:00.196089",
     "status": "completed"
    },
    "tags": []
   },
   "outputs": [],
   "source": [
    "X_train = siab_train.iloc[:,4:164]\n",
    "y_train = siab_train.iloc[:, [3]]"
   ]
  },
  {
   "cell_type": "code",
   "execution_count": 16,
   "id": "828c96af-f43a-4ed6-ba47-8ac73a47d56c",
   "metadata": {
    "execution": {
     "iopub.execute_input": "2025-08-05T14:52:00.275848Z",
     "iopub.status.busy": "2025-08-05T14:52:00.275218Z",
     "iopub.status.idle": "2025-08-05T14:52:00.328952Z",
     "shell.execute_reply": "2025-08-05T14:52:00.327606Z"
    },
    "papermill": {
     "duration": 0.074982,
     "end_time": "2025-08-05T14:52:00.330850",
     "exception": false,
     "start_time": "2025-08-05T14:52:00.255868",
     "status": "completed"
    },
    "tags": []
   },
   "outputs": [],
   "source": [
    "X_calib = siab_calib.iloc[:,4:164]\n",
    "y_calib = siab_calib.iloc[:, [3]]"
   ]
  },
  {
   "cell_type": "code",
   "execution_count": 17,
   "id": "c34be9c3-6bd6-476e-acd3-845840e303be",
   "metadata": {
    "execution": {
     "iopub.execute_input": "2025-08-05T14:52:00.370793Z",
     "iopub.status.busy": "2025-08-05T14:52:00.369893Z",
     "iopub.status.idle": "2025-08-05T14:52:00.418005Z",
     "shell.execute_reply": "2025-08-05T14:52:00.417161Z"
    },
    "papermill": {
     "duration": 0.068738,
     "end_time": "2025-08-05T14:52:00.419545",
     "exception": false,
     "start_time": "2025-08-05T14:52:00.350807",
     "status": "completed"
    },
    "tags": []
   },
   "outputs": [],
   "source": [
    "X_test = siab_test.iloc[:,4:164]\n",
    "y_true = siab_test.iloc[:, [3]]"
   ]
  },
  {
   "cell_type": "code",
   "execution_count": 18,
   "id": "e6c733c5",
   "metadata": {
    "execution": {
     "iopub.execute_input": "2025-08-05T14:52:00.440180Z",
     "iopub.status.busy": "2025-08-05T14:52:00.439862Z",
     "iopub.status.idle": "2025-08-05T14:52:00.536678Z",
     "shell.execute_reply": "2025-08-05T14:52:00.535935Z"
    },
    "papermill": {
     "duration": 0.108111,
     "end_time": "2025-08-05T14:52:00.538160",
     "exception": false,
     "start_time": "2025-08-05T14:52:00.430049",
     "status": "completed"
    },
    "tags": []
   },
   "outputs": [],
   "source": [
    "# Auxiliary data needed downstream in the pipeline\n",
    "\n",
    "org_train = X_train.copy()\n",
    "org_test = X_test.copy()\n",
    "org_calib = X_calib.copy()"
   ]
  },
  {
   "cell_type": "markdown",
   "id": "0a4a1b33",
   "metadata": {
    "papermill": {
     "duration": 0.008847,
     "end_time": "2025-08-05T14:52:00.556701",
     "exception": false,
     "start_time": "2025-08-05T14:52:00.547854",
     "status": "completed"
    },
    "tags": []
   },
   "source": [
    "# Preprocessing Data"
   ]
  },
  {
   "cell_type": "code",
   "execution_count": 19,
   "id": "ca879031",
   "metadata": {
    "execution": {
     "iopub.execute_input": "2025-08-05T14:52:00.576148Z",
     "iopub.status.busy": "2025-08-05T14:52:00.575414Z",
     "iopub.status.idle": "2025-08-05T14:52:00.581098Z",
     "shell.execute_reply": "2025-08-05T14:52:00.580182Z"
    },
    "papermill": {
     "duration": 0.016866,
     "end_time": "2025-08-05T14:52:00.582493",
     "exception": false,
     "start_time": "2025-08-05T14:52:00.565627",
     "status": "completed"
    },
    "tags": []
   },
   "outputs": [],
   "source": [
    "# EXCLUDE PROTECTED FEATURES\n",
    "# ----------------------\n",
    "# \"exclude_features\": \"none\", # \"nationality\", \"sex\", \"nationality-sex\"\n",
    "\n",
    "excluded_features = universe[\"exclude_features\"].split(\"-\") # split, e.g.: \"nationality-sex\" -> [\"nationality\", \"sex\"]\n",
    "excluded_features_dictionary = {\n",
    "    \"nationality\": [\"maxdeutsch1\", \"maxdeutsch.Missing.\"],\n",
    "    \"sex\": [\"frau1\"],\n",
    "    \"age\": [\"age\"],\n",
    "}"
   ]
  },
  {
   "cell_type": "code",
   "execution_count": 20,
   "id": "b745ac60",
   "metadata": {
    "execution": {
     "iopub.execute_input": "2025-08-05T14:52:00.603221Z",
     "iopub.status.busy": "2025-08-05T14:52:00.602733Z",
     "iopub.status.idle": "2025-08-05T14:52:00.607300Z",
     "shell.execute_reply": "2025-08-05T14:52:00.606531Z"
    },
    "papermill": {
     "duration": 0.015605,
     "end_time": "2025-08-05T14:52:00.608626",
     "exception": false,
     "start_time": "2025-08-05T14:52:00.593021",
     "status": "completed"
    },
    "tags": []
   },
   "outputs": [],
   "source": [
    "# Code nice names to column names\n",
    "\n",
    "excluded_features_columns = [\n",
    "    excluded_features_dictionary[f] for f in excluded_features if len(f) > 0 and f != \"none\"\n",
    "]"
   ]
  },
  {
   "cell_type": "code",
   "execution_count": 21,
   "id": "f84f73a2",
   "metadata": {
    "execution": {
     "iopub.execute_input": "2025-08-05T14:52:00.628816Z",
     "iopub.status.busy": "2025-08-05T14:52:00.628303Z",
     "iopub.status.idle": "2025-08-05T14:52:00.633771Z",
     "shell.execute_reply": "2025-08-05T14:52:00.632981Z"
    },
    "papermill": {
     "duration": 0.0164,
     "end_time": "2025-08-05T14:52:00.635179",
     "exception": false,
     "start_time": "2025-08-05T14:52:00.618779",
     "status": "completed"
    },
    "tags": []
   },
   "outputs": [],
   "source": [
    "from utils import flatten_once\n",
    "\n",
    "excluded_features_columns = flatten_once(excluded_features_columns)"
   ]
  },
  {
   "cell_type": "code",
   "execution_count": 22,
   "id": "884dea22",
   "metadata": {
    "execution": {
     "iopub.execute_input": "2025-08-05T14:52:00.655473Z",
     "iopub.status.busy": "2025-08-05T14:52:00.654847Z",
     "iopub.status.idle": "2025-08-05T14:52:00.668653Z",
     "shell.execute_reply": "2025-08-05T14:52:00.667796Z"
    },
    "papermill": {
     "duration": 0.025349,
     "end_time": "2025-08-05T14:52:00.670216",
     "exception": false,
     "start_time": "2025-08-05T14:52:00.644867",
     "status": "completed"
    },
    "tags": []
   },
   "outputs": [
    {
     "name": "stdout",
     "output_type": "stream",
     "text": [
      "Dropping features: ['age']\n"
     ]
    }
   ],
   "source": [
    "if len(excluded_features_columns) > 0:\n",
    "    print(f\"Dropping features: {excluded_features_columns}\")\n",
    "    X_train.drop(excluded_features_columns, axis=1, inplace=True)"
   ]
  },
  {
   "cell_type": "code",
   "execution_count": 23,
   "id": "95ab8b16",
   "metadata": {
    "execution": {
     "iopub.execute_input": "2025-08-05T14:52:00.691298Z",
     "iopub.status.busy": "2025-08-05T14:52:00.690788Z",
     "iopub.status.idle": "2025-08-05T14:52:00.739805Z",
     "shell.execute_reply": "2025-08-05T14:52:00.738692Z"
    },
    "papermill": {
     "duration": 0.060443,
     "end_time": "2025-08-05T14:52:00.741359",
     "exception": false,
     "start_time": "2025-08-05T14:52:00.680916",
     "status": "completed"
    },
    "tags": []
   },
   "outputs": [
    {
     "name": "stdout",
     "output_type": "stream",
     "text": [
      "Dropping features: ['age']\n"
     ]
    }
   ],
   "source": [
    "if len(excluded_features_columns) > 0:\n",
    "    print(f\"Dropping features: {excluded_features_columns}\")\n",
    "    X_test.drop(excluded_features_columns, axis=1, inplace=True)"
   ]
  },
  {
   "cell_type": "code",
   "execution_count": 24,
   "id": "1853aaf5-fb9f-46cb-a2b5-8ea4ae2237e4",
   "metadata": {
    "execution": {
     "iopub.execute_input": "2025-08-05T14:52:00.762700Z",
     "iopub.status.busy": "2025-08-05T14:52:00.762161Z",
     "iopub.status.idle": "2025-08-05T14:52:00.808964Z",
     "shell.execute_reply": "2025-08-05T14:52:00.807943Z"
    },
    "papermill": {
     "duration": 0.058443,
     "end_time": "2025-08-05T14:52:00.810512",
     "exception": false,
     "start_time": "2025-08-05T14:52:00.752069",
     "status": "completed"
    },
    "tags": []
   },
   "outputs": [
    {
     "name": "stdout",
     "output_type": "stream",
     "text": [
      "Dropping features: ['age']\n"
     ]
    }
   ],
   "source": [
    "if len(excluded_features_columns) > 0:\n",
    "    print(f\"Dropping features: {excluded_features_columns}\")\n",
    "    X_calib.drop(excluded_features_columns, axis=1, inplace=True)"
   ]
  },
  {
   "cell_type": "code",
   "execution_count": 25,
   "id": "76c4dc6d",
   "metadata": {
    "execution": {
     "iopub.execute_input": "2025-08-05T14:52:00.832004Z",
     "iopub.status.busy": "2025-08-05T14:52:00.831292Z",
     "iopub.status.idle": "2025-08-05T14:52:00.835780Z",
     "shell.execute_reply": "2025-08-05T14:52:00.834990Z"
    },
    "papermill": {
     "duration": 0.015861,
     "end_time": "2025-08-05T14:52:00.837048",
     "exception": false,
     "start_time": "2025-08-05T14:52:00.821187",
     "status": "completed"
    },
    "tags": []
   },
   "outputs": [],
   "source": [
    "# EXCLUDE CERTAIN SUBGROUPS\n",
    "# ----------------------\n",
    "\n",
    "mode = universe.get(\"exclude_subgroups\", \"keep-all\") \n",
    "# Fetches the exclude_subgroups setting from the universe dict.\n",
    "# Defaults to \"keep-all\" if the key is missing."
   ]
  },
  {
   "cell_type": "code",
   "execution_count": 26,
   "id": "21994072",
   "metadata": {
    "execution": {
     "iopub.execute_input": "2025-08-05T14:52:00.858011Z",
     "iopub.status.busy": "2025-08-05T14:52:00.857400Z",
     "iopub.status.idle": "2025-08-05T14:52:00.862537Z",
     "shell.execute_reply": "2025-08-05T14:52:00.861737Z"
    },
    "papermill": {
     "duration": 0.016393,
     "end_time": "2025-08-05T14:52:00.863868",
     "exception": false,
     "start_time": "2025-08-05T14:52:00.847475",
     "status": "completed"
    },
    "tags": []
   },
   "outputs": [],
   "source": [
    "if mode == \"keep-all\":\n",
    "    keep_mask = pd.Series(True, index=org_train.index)\n",
    "\n",
    "# org_train contains the original feature columns from features_org (in Simson)\n",
    "# features_org contains unprocessed features, for me X_train at beginning ???\n",
    "# For keep-all, creates a boolean Series (keep_mask) of all True, so no rows are removed.\n",
    "\n",
    "elif mode == \"drop-non-german\":\n",
    "    keep_mask = org_train[\"maxdeutsch1\"] == 1 # ??? what about missing values?\n",
    "\n",
    "else:\n",
    "    raise ValueError(f\"Unsupported mode for exclude_subgroups: {mode}\")"
   ]
  },
  {
   "cell_type": "code",
   "execution_count": 27,
   "id": "71651440",
   "metadata": {
    "execution": {
     "iopub.execute_input": "2025-08-05T14:52:00.884990Z",
     "iopub.status.busy": "2025-08-05T14:52:00.884417Z",
     "iopub.status.idle": "2025-08-05T14:52:00.889689Z",
     "shell.execute_reply": "2025-08-05T14:52:00.888921Z"
    },
    "papermill": {
     "duration": 0.01655,
     "end_time": "2025-08-05T14:52:00.891065",
     "exception": false,
     "start_time": "2025-08-05T14:52:00.874515",
     "status": "completed"
    },
    "tags": []
   },
   "outputs": [],
   "source": [
    "n_drop = (~keep_mask).sum() # Calculates how many rows are set to be dropped\n",
    "if n_drop > 0:\n",
    "    pct = n_drop / len(keep_mask) * 100\n",
    "    print(f\"Dropping {n_drop} rows ({pct:.2f}%) where mode='{mode}'\")"
   ]
  },
  {
   "cell_type": "code",
   "execution_count": 28,
   "id": "5fb8eee5",
   "metadata": {
    "execution": {
     "iopub.execute_input": "2025-08-05T14:52:00.911971Z",
     "iopub.status.busy": "2025-08-05T14:52:00.911479Z",
     "iopub.status.idle": "2025-08-05T14:52:00.924341Z",
     "shell.execute_reply": "2025-08-05T14:52:00.923446Z"
    },
    "papermill": {
     "duration": 0.024915,
     "end_time": "2025-08-05T14:52:00.926326",
     "exception": false,
     "start_time": "2025-08-05T14:52:00.901411",
     "status": "completed"
    },
    "tags": []
   },
   "outputs": [],
   "source": [
    "X_train = X_train[keep_mask]"
   ]
  },
  {
   "cell_type": "code",
   "execution_count": 29,
   "id": "b202bb3a",
   "metadata": {
    "execution": {
     "iopub.execute_input": "2025-08-05T14:52:00.947979Z",
     "iopub.status.busy": "2025-08-05T14:52:00.947478Z",
     "iopub.status.idle": "2025-08-05T14:52:00.952744Z",
     "shell.execute_reply": "2025-08-05T14:52:00.952013Z"
    },
    "papermill": {
     "duration": 0.017139,
     "end_time": "2025-08-05T14:52:00.954266",
     "exception": false,
     "start_time": "2025-08-05T14:52:00.937127",
     "status": "completed"
    },
    "tags": []
   },
   "outputs": [],
   "source": [
    "y_train = y_train[keep_mask]"
   ]
  },
  {
   "cell_type": "markdown",
   "id": "493e2ac3",
   "metadata": {
    "papermill": {
     "duration": 0.00954,
     "end_time": "2025-08-05T14:52:00.974054",
     "exception": false,
     "start_time": "2025-08-05T14:52:00.964514",
     "status": "completed"
    },
    "tags": []
   },
   "source": [
    "# Model Training"
   ]
  },
  {
   "cell_type": "code",
   "execution_count": 30,
   "id": "679e1268",
   "metadata": {
    "execution": {
     "iopub.execute_input": "2025-08-05T14:52:00.994619Z",
     "iopub.status.busy": "2025-08-05T14:52:00.994018Z",
     "iopub.status.idle": "2025-08-05T14:52:01.067408Z",
     "shell.execute_reply": "2025-08-05T14:52:01.066674Z"
    },
    "papermill": {
     "duration": 0.085376,
     "end_time": "2025-08-05T14:52:01.068841",
     "exception": false,
     "start_time": "2025-08-05T14:52:00.983465",
     "status": "completed"
    },
    "tags": []
   },
   "outputs": [],
   "source": [
    "from sklearn.linear_model import LogisticRegression\n",
    "from sklearn.ensemble import GradientBoostingClassifier, RandomForestClassifier\n",
    "\n",
    "if (universe[\"model\"] == \"logreg\"):\n",
    "    model = LogisticRegression() #penalty=\"none\", solver=\"newton-cg\", max_iter=1) # include random_state=19 ?\n",
    "elif (universe[\"model\"] == \"penalized_logreg\"):\n",
    "    model = LogisticRegression(penalty=\"l2\", C=0.1) #, solver=\"newton-cg\", max_iter=1)\n",
    "elif (universe[\"model\"] == \"rf\"):\n",
    "    model = RandomForestClassifier() # n_estimators=100, n_jobs=-1\n",
    "elif (universe[\"model\"] == \"gbm\"):\n",
    "    model = GradientBoostingClassifier()\n",
    "elif (universe[\"model\"] == \"elasticnet\"):\n",
    "    model = LogisticRegression(penalty = 'elasticnet', solver = 'saga', l1_ratio = 0.5) # max_iter=5000\n",
    "else:\n",
    "    raise \"Unsupported universe.model\""
   ]
  },
  {
   "cell_type": "code",
   "execution_count": 31,
   "id": "0cc8f744",
   "metadata": {
    "execution": {
     "iopub.execute_input": "2025-08-05T14:52:01.090000Z",
     "iopub.status.busy": "2025-08-05T14:52:01.089475Z",
     "iopub.status.idle": "2025-08-05T14:52:01.094149Z",
     "shell.execute_reply": "2025-08-05T14:52:01.093255Z"
    },
    "papermill": {
     "duration": 0.016284,
     "end_time": "2025-08-05T14:52:01.095448",
     "exception": false,
     "start_time": "2025-08-05T14:52:01.079164",
     "status": "completed"
    },
    "tags": []
   },
   "outputs": [],
   "source": [
    "import numpy as np\n",
    "from sklearn.pipeline import Pipeline\n",
    "from sklearn.preprocessing import StandardScaler\n",
    "\n",
    "model = Pipeline([\n",
    "    #(\"continuous_processor\", continuous_processor),\n",
    "    #(\"categorical_preprocessor\", categorical_preprocessor),\n",
    "    (\"scale\", StandardScaler() if universe[\"scale\"] == \"scale\" else None), \n",
    "    (\"model\", model),\n",
    "])"
   ]
  },
  {
   "cell_type": "code",
   "execution_count": 32,
   "id": "9442c04d",
   "metadata": {
    "execution": {
     "iopub.execute_input": "2025-08-05T14:52:01.116616Z",
     "iopub.status.busy": "2025-08-05T14:52:01.116170Z",
     "iopub.status.idle": "2025-08-05T14:52:08.844764Z",
     "shell.execute_reply": "2025-08-05T14:52:08.843885Z"
    },
    "papermill": {
     "duration": 7.740421,
     "end_time": "2025-08-05T14:52:08.846333",
     "exception": false,
     "start_time": "2025-08-05T14:52:01.105912",
     "status": "completed"
    },
    "tags": []
   },
   "outputs": [
    {
     "data": {
      "text/html": [
       "<style>#sk-container-id-1 {color: black;background-color: white;}#sk-container-id-1 pre{padding: 0;}#sk-container-id-1 div.sk-toggleable {background-color: white;}#sk-container-id-1 label.sk-toggleable__label {cursor: pointer;display: block;width: 100%;margin-bottom: 0;padding: 0.3em;box-sizing: border-box;text-align: center;}#sk-container-id-1 label.sk-toggleable__label-arrow:before {content: \"▸\";float: left;margin-right: 0.25em;color: #696969;}#sk-container-id-1 label.sk-toggleable__label-arrow:hover:before {color: black;}#sk-container-id-1 div.sk-estimator:hover label.sk-toggleable__label-arrow:before {color: black;}#sk-container-id-1 div.sk-toggleable__content {max-height: 0;max-width: 0;overflow: hidden;text-align: left;background-color: #f0f8ff;}#sk-container-id-1 div.sk-toggleable__content pre {margin: 0.2em;color: black;border-radius: 0.25em;background-color: #f0f8ff;}#sk-container-id-1 input.sk-toggleable__control:checked~div.sk-toggleable__content {max-height: 200px;max-width: 100%;overflow: auto;}#sk-container-id-1 input.sk-toggleable__control:checked~label.sk-toggleable__label-arrow:before {content: \"▾\";}#sk-container-id-1 div.sk-estimator input.sk-toggleable__control:checked~label.sk-toggleable__label {background-color: #d4ebff;}#sk-container-id-1 div.sk-label input.sk-toggleable__control:checked~label.sk-toggleable__label {background-color: #d4ebff;}#sk-container-id-1 input.sk-hidden--visually {border: 0;clip: rect(1px 1px 1px 1px);clip: rect(1px, 1px, 1px, 1px);height: 1px;margin: -1px;overflow: hidden;padding: 0;position: absolute;width: 1px;}#sk-container-id-1 div.sk-estimator {font-family: monospace;background-color: #f0f8ff;border: 1px dotted black;border-radius: 0.25em;box-sizing: border-box;margin-bottom: 0.5em;}#sk-container-id-1 div.sk-estimator:hover {background-color: #d4ebff;}#sk-container-id-1 div.sk-parallel-item::after {content: \"\";width: 100%;border-bottom: 1px solid gray;flex-grow: 1;}#sk-container-id-1 div.sk-label:hover label.sk-toggleable__label {background-color: #d4ebff;}#sk-container-id-1 div.sk-serial::before {content: \"\";position: absolute;border-left: 1px solid gray;box-sizing: border-box;top: 0;bottom: 0;left: 50%;z-index: 0;}#sk-container-id-1 div.sk-serial {display: flex;flex-direction: column;align-items: center;background-color: white;padding-right: 0.2em;padding-left: 0.2em;position: relative;}#sk-container-id-1 div.sk-item {position: relative;z-index: 1;}#sk-container-id-1 div.sk-parallel {display: flex;align-items: stretch;justify-content: center;background-color: white;position: relative;}#sk-container-id-1 div.sk-item::before, #sk-container-id-1 div.sk-parallel-item::before {content: \"\";position: absolute;border-left: 1px solid gray;box-sizing: border-box;top: 0;bottom: 0;left: 50%;z-index: -1;}#sk-container-id-1 div.sk-parallel-item {display: flex;flex-direction: column;z-index: 1;position: relative;background-color: white;}#sk-container-id-1 div.sk-parallel-item:first-child::after {align-self: flex-end;width: 50%;}#sk-container-id-1 div.sk-parallel-item:last-child::after {align-self: flex-start;width: 50%;}#sk-container-id-1 div.sk-parallel-item:only-child::after {width: 0;}#sk-container-id-1 div.sk-dashed-wrapped {border: 1px dashed gray;margin: 0 0.4em 0.5em 0.4em;box-sizing: border-box;padding-bottom: 0.4em;background-color: white;}#sk-container-id-1 div.sk-label label {font-family: monospace;font-weight: bold;display: inline-block;line-height: 1.2em;}#sk-container-id-1 div.sk-label-container {text-align: center;}#sk-container-id-1 div.sk-container {/* jupyter's `normalize.less` sets `[hidden] { display: none; }` but bootstrap.min.css set `[hidden] { display: none !important; }` so we also need the `!important` here to be able to override the default hidden behavior on the sphinx rendered scikit-learn.org. See: https://github.com/scikit-learn/scikit-learn/issues/21755 */display: inline-block !important;position: relative;}#sk-container-id-1 div.sk-text-repr-fallback {display: none;}</style><div id=\"sk-container-id-1\" class=\"sk-top-container\"><div class=\"sk-text-repr-fallback\"><pre>Pipeline(steps=[(&#x27;scale&#x27;, StandardScaler()),\n",
       "                (&#x27;model&#x27;, RandomForestClassifier())])</pre><b>In a Jupyter environment, please rerun this cell to show the HTML representation or trust the notebook. <br />On GitHub, the HTML representation is unable to render, please try loading this page with nbviewer.org.</b></div><div class=\"sk-container\" hidden><div class=\"sk-item sk-dashed-wrapped\"><div class=\"sk-label-container\"><div class=\"sk-label sk-toggleable\"><input class=\"sk-toggleable__control sk-hidden--visually\" id=\"sk-estimator-id-1\" type=\"checkbox\" ><label for=\"sk-estimator-id-1\" class=\"sk-toggleable__label sk-toggleable__label-arrow\">Pipeline</label><div class=\"sk-toggleable__content\"><pre>Pipeline(steps=[(&#x27;scale&#x27;, StandardScaler()),\n",
       "                (&#x27;model&#x27;, RandomForestClassifier())])</pre></div></div></div><div class=\"sk-serial\"><div class=\"sk-item\"><div class=\"sk-estimator sk-toggleable\"><input class=\"sk-toggleable__control sk-hidden--visually\" id=\"sk-estimator-id-2\" type=\"checkbox\" ><label for=\"sk-estimator-id-2\" class=\"sk-toggleable__label sk-toggleable__label-arrow\">StandardScaler</label><div class=\"sk-toggleable__content\"><pre>StandardScaler()</pre></div></div></div><div class=\"sk-item\"><div class=\"sk-estimator sk-toggleable\"><input class=\"sk-toggleable__control sk-hidden--visually\" id=\"sk-estimator-id-3\" type=\"checkbox\" ><label for=\"sk-estimator-id-3\" class=\"sk-toggleable__label sk-toggleable__label-arrow\">RandomForestClassifier</label><div class=\"sk-toggleable__content\"><pre>RandomForestClassifier()</pre></div></div></div></div></div></div></div>"
      ],
      "text/plain": [
       "Pipeline(steps=[('scale', StandardScaler()),\n",
       "                ('model', RandomForestClassifier())])"
      ]
     },
     "execution_count": 32,
     "metadata": {},
     "output_type": "execute_result"
    }
   ],
   "source": [
    "model.fit(X_train, y_train.values.ravel())"
   ]
  },
  {
   "cell_type": "code",
   "execution_count": 33,
   "id": "af59f8c0",
   "metadata": {
    "execution": {
     "iopub.execute_input": "2025-08-05T14:52:08.886900Z",
     "iopub.status.busy": "2025-08-05T14:52:08.886138Z",
     "iopub.status.idle": "2025-08-05T14:52:08.892013Z",
     "shell.execute_reply": "2025-08-05T14:52:08.890998Z"
    },
    "papermill": {
     "duration": 0.026685,
     "end_time": "2025-08-05T14:52:08.893877",
     "exception": false,
     "start_time": "2025-08-05T14:52:08.867192",
     "status": "completed"
    },
    "tags": []
   },
   "outputs": [],
   "source": [
    "from fairness_multiverse.universe import predict_w_threshold"
   ]
  },
  {
   "cell_type": "code",
   "execution_count": 34,
   "id": "a7cf2e16",
   "metadata": {
    "execution": {
     "iopub.execute_input": "2025-08-05T14:52:08.935792Z",
     "iopub.status.busy": "2025-08-05T14:52:08.935132Z",
     "iopub.status.idle": "2025-08-05T14:52:12.461878Z",
     "shell.execute_reply": "2025-08-05T14:52:12.460983Z"
    },
    "papermill": {
     "duration": 3.548956,
     "end_time": "2025-08-05T14:52:12.463411",
     "exception": false,
     "start_time": "2025-08-05T14:52:08.914455",
     "status": "completed"
    },
    "tags": []
   },
   "outputs": [
    {
     "data": {
      "text/plain": [
       "0.8678854085386245"
      ]
     },
     "execution_count": 34,
     "metadata": {},
     "output_type": "execute_result"
    }
   ],
   "source": [
    "probs_test = model.predict_proba(X_test)\n",
    "\n",
    "'''\n",
    "Below code returns a boolean array (or binary 0/1 array depending on how it’s used) where each element \n",
    "is True if the probability of class 1 is greater than or equal to the threshold, and False otherwise.\n",
    "'''\n",
    "y_pred_default = predict_w_threshold(probs_test, 0.5)\n",
    "\n",
    "from sklearn.metrics import accuracy_score\n",
    "\n",
    "# Naive prediction\n",
    "accuracy_score(y_true = y_true, y_pred = y_pred_default)"
   ]
  },
  {
   "cell_type": "code",
   "execution_count": 35,
   "id": "081964c3",
   "metadata": {
    "execution": {
     "iopub.execute_input": "2025-08-05T14:52:12.502296Z",
     "iopub.status.busy": "2025-08-05T14:52:12.501797Z",
     "iopub.status.idle": "2025-08-05T14:52:15.936458Z",
     "shell.execute_reply": "2025-08-05T14:52:15.935763Z"
    },
    "papermill": {
     "duration": 3.455285,
     "end_time": "2025-08-05T14:52:15.937758",
     "exception": false,
     "start_time": "2025-08-05T14:52:12.482473",
     "status": "completed"
    },
    "tags": []
   },
   "outputs": [
    {
     "data": {
      "text/plain": [
       "array([0, 0, 0, ..., 0, 0, 0])"
      ]
     },
     "execution_count": 35,
     "metadata": {},
     "output_type": "execute_result"
    }
   ],
   "source": [
    "model.predict(X_test)"
   ]
  },
  {
   "cell_type": "markdown",
   "id": "56c9705b",
   "metadata": {
    "papermill": {
     "duration": 0.010216,
     "end_time": "2025-08-05T14:52:15.958726",
     "exception": false,
     "start_time": "2025-08-05T14:52:15.948510",
     "status": "completed"
    },
    "tags": []
   },
   "source": [
    "# Conformal Prediction"
   ]
  },
  {
   "cell_type": "code",
   "execution_count": 36,
   "id": "160ec6ff",
   "metadata": {
    "execution": {
     "iopub.execute_input": "2025-08-05T14:52:15.980435Z",
     "iopub.status.busy": "2025-08-05T14:52:15.979530Z",
     "iopub.status.idle": "2025-08-05T14:52:15.984275Z",
     "shell.execute_reply": "2025-08-05T14:52:15.983302Z"
    },
    "papermill": {
     "duration": 0.016976,
     "end_time": "2025-08-05T14:52:15.985700",
     "exception": false,
     "start_time": "2025-08-05T14:52:15.968724",
     "status": "completed"
    },
    "tags": []
   },
   "outputs": [],
   "source": [
    "# Miscoverage level for conformal prediction (10% allowed error rate => 90% target coverage)\n",
    "alpha = 0.1"
   ]
  },
  {
   "cell_type": "code",
   "execution_count": 37,
   "id": "eadf4555-3dd3-440e-8e35-f82a4ad9f855",
   "metadata": {
    "execution": {
     "iopub.execute_input": "2025-08-05T14:52:16.008712Z",
     "iopub.status.busy": "2025-08-05T14:52:16.008410Z",
     "iopub.status.idle": "2025-08-05T14:52:19.081699Z",
     "shell.execute_reply": "2025-08-05T14:52:19.080680Z"
    },
    "papermill": {
     "duration": 3.086429,
     "end_time": "2025-08-05T14:52:19.083666",
     "exception": false,
     "start_time": "2025-08-05T14:52:15.997237",
     "status": "completed"
    },
    "tags": []
   },
   "outputs": [],
   "source": [
    "probs_calib = model.predict_proba(X_calib)"
   ]
  },
  {
   "cell_type": "code",
   "execution_count": 38,
   "id": "2ed93547-6d5d-4983-9b36-1ecb300da49a",
   "metadata": {
    "execution": {
     "iopub.execute_input": "2025-08-05T14:52:19.131525Z",
     "iopub.status.busy": "2025-08-05T14:52:19.131002Z",
     "iopub.status.idle": "2025-08-05T14:52:19.136768Z",
     "shell.execute_reply": "2025-08-05T14:52:19.135819Z"
    },
    "papermill": {
     "duration": 0.030495,
     "end_time": "2025-08-05T14:52:19.138676",
     "exception": false,
     "start_time": "2025-08-05T14:52:19.108181",
     "status": "completed"
    },
    "tags": []
   },
   "outputs": [],
   "source": [
    "y_calib = y_calib.values.ravel().astype(int)"
   ]
  },
  {
   "cell_type": "code",
   "execution_count": 39,
   "id": "65d1320d-f588-4b38-9072-62af1ae97f7d",
   "metadata": {
    "execution": {
     "iopub.execute_input": "2025-08-05T14:52:19.184861Z",
     "iopub.status.busy": "2025-08-05T14:52:19.183973Z",
     "iopub.status.idle": "2025-08-05T14:52:19.191696Z",
     "shell.execute_reply": "2025-08-05T14:52:19.190702Z"
    },
    "papermill": {
     "duration": 0.032297,
     "end_time": "2025-08-05T14:52:19.193499",
     "exception": false,
     "start_time": "2025-08-05T14:52:19.161202",
     "status": "completed"
    },
    "tags": []
   },
   "outputs": [],
   "source": [
    "from fairness_multiverse.conformal import compute_nc_scores\n",
    "\n",
    "# Compute nonconformity scores on calibration set (1 - probability of true class)\n",
    "nc_scores = compute_nc_scores(probs_calib, y_calib)"
   ]
  },
  {
   "cell_type": "code",
   "execution_count": 40,
   "id": "df3b8ca3-53b7-43d5-9667-7c85da7aeda2",
   "metadata": {
    "execution": {
     "iopub.execute_input": "2025-08-05T14:52:19.239742Z",
     "iopub.status.busy": "2025-08-05T14:52:19.239327Z",
     "iopub.status.idle": "2025-08-05T14:52:19.246260Z",
     "shell.execute_reply": "2025-08-05T14:52:19.245149Z"
    },
    "papermill": {
     "duration": 0.031885,
     "end_time": "2025-08-05T14:52:19.248056",
     "exception": false,
     "start_time": "2025-08-05T14:52:19.216171",
     "status": "completed"
    },
    "tags": []
   },
   "outputs": [],
   "source": [
    "from fairness_multiverse.conformal import find_threshold\n",
    "\n",
    "# Find conformal threshold q_hat for the given alpha (split conformal method)\n",
    "q_hat = find_threshold(nc_scores, alpha)"
   ]
  },
  {
   "cell_type": "code",
   "execution_count": 41,
   "id": "4d29e6c1-0ef6-4aa4-b8fe-4fe79b0d033a",
   "metadata": {
    "execution": {
     "iopub.execute_input": "2025-08-05T14:52:19.294682Z",
     "iopub.status.busy": "2025-08-05T14:52:19.293727Z",
     "iopub.status.idle": "2025-08-05T14:52:19.301488Z",
     "shell.execute_reply": "2025-08-05T14:52:19.300411Z"
    },
    "papermill": {
     "duration": 0.032616,
     "end_time": "2025-08-05T14:52:19.303472",
     "exception": false,
     "start_time": "2025-08-05T14:52:19.270856",
     "status": "completed"
    },
    "tags": []
   },
   "outputs": [
    {
     "data": {
      "text/plain": [
       "0.6599999999999999"
      ]
     },
     "execution_count": 41,
     "metadata": {},
     "output_type": "execute_result"
    }
   ],
   "source": [
    "q_hat"
   ]
  },
  {
   "cell_type": "code",
   "execution_count": 42,
   "id": "92460794-cdac-4be2-ba28-f28c0515a6fb",
   "metadata": {
    "execution": {
     "iopub.execute_input": "2025-08-05T14:52:19.349928Z",
     "iopub.status.busy": "2025-08-05T14:52:19.349260Z",
     "iopub.status.idle": "2025-08-05T14:52:23.519073Z",
     "shell.execute_reply": "2025-08-05T14:52:23.518036Z"
    },
    "papermill": {
     "duration": 4.195139,
     "end_time": "2025-08-05T14:52:23.521238",
     "exception": false,
     "start_time": "2025-08-05T14:52:19.326099",
     "status": "completed"
    },
    "tags": []
   },
   "outputs": [],
   "source": [
    "from fairness_multiverse.conformal import predict_conformal_sets\n",
    "\n",
    "# Generate prediction sets for each test example\n",
    "pred_sets = predict_conformal_sets(model, X_test, q_hat)"
   ]
  },
  {
   "cell_type": "code",
   "execution_count": 43,
   "id": "d90c9a65-e6db-4f5d-80cd-e68fb7e46829",
   "metadata": {
    "execution": {
     "iopub.execute_input": "2025-08-05T14:52:23.571210Z",
     "iopub.status.busy": "2025-08-05T14:52:23.570235Z",
     "iopub.status.idle": "2025-08-05T14:52:23.576908Z",
     "shell.execute_reply": "2025-08-05T14:52:23.575919Z"
    },
    "papermill": {
     "duration": 0.031941,
     "end_time": "2025-08-05T14:52:23.578934",
     "exception": false,
     "start_time": "2025-08-05T14:52:23.546993",
     "status": "completed"
    },
    "tags": []
   },
   "outputs": [],
   "source": [
    "y_true = y_true.squeeze()"
   ]
  },
  {
   "cell_type": "code",
   "execution_count": 44,
   "id": "3a58a54a-1e68-46b9-927a-df01f18aebc8",
   "metadata": {
    "execution": {
     "iopub.execute_input": "2025-08-05T14:52:23.622345Z",
     "iopub.status.busy": "2025-08-05T14:52:23.621443Z",
     "iopub.status.idle": "2025-08-05T14:52:24.527352Z",
     "shell.execute_reply": "2025-08-05T14:52:24.526303Z"
    },
    "papermill": {
     "duration": 0.929033,
     "end_time": "2025-08-05T14:52:24.529375",
     "exception": false,
     "start_time": "2025-08-05T14:52:23.600342",
     "status": "completed"
    },
    "tags": []
   },
   "outputs": [],
   "source": [
    "from fairness_multiverse.conformal import evaluate_sets\n",
    "\n",
    "# Evaluate coverage and average set size on test data\n",
    "metrics = evaluate_sets(pred_sets, y_true)"
   ]
  },
  {
   "cell_type": "markdown",
   "id": "2b569c12-9aaa-4c88-98c9-bbcd0cf3ebb8",
   "metadata": {
    "papermill": {
     "duration": 0.022864,
     "end_time": "2025-08-05T14:52:24.578518",
     "exception": false,
     "start_time": "2025-08-05T14:52:24.555654",
     "status": "completed"
    },
    "tags": []
   },
   "source": [
    "# CP Metrics"
   ]
  },
  {
   "cell_type": "code",
   "execution_count": 45,
   "id": "5ce0a5cb-201f-45a0-ade5-94c7f0bd6095",
   "metadata": {
    "execution": {
     "iopub.execute_input": "2025-08-05T14:52:24.625485Z",
     "iopub.status.busy": "2025-08-05T14:52:24.624759Z",
     "iopub.status.idle": "2025-08-05T14:52:24.633111Z",
     "shell.execute_reply": "2025-08-05T14:52:24.632068Z"
    },
    "papermill": {
     "duration": 0.034661,
     "end_time": "2025-08-05T14:52:24.635062",
     "exception": false,
     "start_time": "2025-08-05T14:52:24.600401",
     "status": "completed"
    },
    "tags": []
   },
   "outputs": [
    {
     "data": {
      "text/plain": [
       "{'coverage': 0.9153271653104448, 'avg_size': 1.1432950618660127}"
      ]
     },
     "execution_count": 45,
     "metadata": {},
     "output_type": "execute_result"
    }
   ],
   "source": [
    "metrics"
   ]
  },
  {
   "cell_type": "code",
   "execution_count": 46,
   "id": "9b9a838d-31c9-430b-ae14-12baee460d17",
   "metadata": {
    "execution": {
     "iopub.execute_input": "2025-08-05T14:52:24.682937Z",
     "iopub.status.busy": "2025-08-05T14:52:24.682281Z",
     "iopub.status.idle": "2025-08-05T14:52:24.689060Z",
     "shell.execute_reply": "2025-08-05T14:52:24.688033Z"
    },
    "papermill": {
     "duration": 0.032472,
     "end_time": "2025-08-05T14:52:24.690703",
     "exception": false,
     "start_time": "2025-08-05T14:52:24.658231",
     "status": "completed"
    },
    "tags": []
   },
   "outputs": [],
   "source": [
    "example_universe = universe.copy()\n",
    "universe_training_year = example_universe.get(\"training_year\")\n",
    "universe_training_size = example_universe.get(\"training_size\")\n",
    "universe_scale = example_universe.get(\"scale\")\n",
    "universe_model = example_universe.get(\"model\")\n",
    "universe_exclude_features = example_universe.get(\"exclude_features\")\n",
    "universe_exclude_subgroups = example_universe.get(\"exclude_subgroups\")"
   ]
  },
  {
   "cell_type": "code",
   "execution_count": 47,
   "id": "f4b6a8ac-9dc0-4245-8a91-5b3b5999c4f9",
   "metadata": {
    "execution": {
     "iopub.execute_input": "2025-08-05T14:52:24.735776Z",
     "iopub.status.busy": "2025-08-05T14:52:24.734958Z",
     "iopub.status.idle": "2025-08-05T14:52:24.741823Z",
     "shell.execute_reply": "2025-08-05T14:52:24.740802Z"
    },
    "papermill": {
     "duration": 0.030482,
     "end_time": "2025-08-05T14:52:24.743580",
     "exception": false,
     "start_time": "2025-08-05T14:52:24.713098",
     "status": "completed"
    },
    "tags": []
   },
   "outputs": [],
   "source": [
    "cp_metrics_dict = {\n",
    "    \"universe_id\": [universe_id],\n",
    "    \"universe_training_year\": [universe_training_year],\n",
    "    \"universe_training_size\": [universe_training_size],\n",
    "    \"universe_scale\": [universe_scale],\n",
    "    \"universe_model\": [universe_model],\n",
    "    \"universe_exclude_features\": [universe_exclude_features],\n",
    "    \"universe_exclude_subgroups\": [universe_exclude_subgroups],\n",
    "    \"q_hat\": [q_hat],\n",
    "    \"coverage\": [metrics[\"coverage\"]],\n",
    "    \"avg_size\": [metrics[\"avg_size\"]],\n",
    "}"
   ]
  },
  {
   "cell_type": "code",
   "execution_count": 48,
   "id": "908acbb1-0371-4915-85ca-3fa520d2efe2",
   "metadata": {
    "execution": {
     "iopub.execute_input": "2025-08-05T14:52:24.787443Z",
     "iopub.status.busy": "2025-08-05T14:52:24.786569Z",
     "iopub.status.idle": "2025-08-05T14:52:24.794679Z",
     "shell.execute_reply": "2025-08-05T14:52:24.793503Z"
    },
    "papermill": {
     "duration": 0.031979,
     "end_time": "2025-08-05T14:52:24.796421",
     "exception": false,
     "start_time": "2025-08-05T14:52:24.764442",
     "status": "completed"
    },
    "tags": []
   },
   "outputs": [
    {
     "data": {
      "text/plain": [
       "{'universe_id': ['a99869aa2a5dbde6f312ca64398d58aa'],\n",
       " 'universe_training_year': ['2012_14'],\n",
       " 'universe_training_size': ['25k'],\n",
       " 'universe_scale': ['scale'],\n",
       " 'universe_model': ['rf'],\n",
       " 'universe_exclude_features': ['age'],\n",
       " 'universe_exclude_subgroups': ['keep-all'],\n",
       " 'q_hat': [0.6599999999999999],\n",
       " 'coverage': [0.9153271653104448],\n",
       " 'avg_size': [1.1432950618660127]}"
      ]
     },
     "execution_count": 48,
     "metadata": {},
     "output_type": "execute_result"
    }
   ],
   "source": [
    "cp_metrics_dict"
   ]
  },
  {
   "cell_type": "code",
   "execution_count": 49,
   "id": "33007efc-14e9-4ec6-97ac-56a455c82265",
   "metadata": {
    "execution": {
     "iopub.execute_input": "2025-08-05T14:52:24.839825Z",
     "iopub.status.busy": "2025-08-05T14:52:24.838941Z",
     "iopub.status.idle": "2025-08-05T14:52:24.846204Z",
     "shell.execute_reply": "2025-08-05T14:52:24.845074Z"
    },
    "papermill": {
     "duration": 0.030403,
     "end_time": "2025-08-05T14:52:24.847907",
     "exception": false,
     "start_time": "2025-08-05T14:52:24.817504",
     "status": "completed"
    },
    "tags": []
   },
   "outputs": [],
   "source": [
    "cp_metrics_df = pd.DataFrame(cp_metrics_dict)"
   ]
  },
  {
   "cell_type": "code",
   "execution_count": 50,
   "id": "db12611b-57b2-4910-b9d0-355adfd6e7bf",
   "metadata": {
    "execution": {
     "iopub.execute_input": "2025-08-05T14:52:24.892117Z",
     "iopub.status.busy": "2025-08-05T14:52:24.891337Z",
     "iopub.status.idle": "2025-08-05T14:52:24.911236Z",
     "shell.execute_reply": "2025-08-05T14:52:24.910316Z"
    },
    "papermill": {
     "duration": 0.043079,
     "end_time": "2025-08-05T14:52:24.913131",
     "exception": false,
     "start_time": "2025-08-05T14:52:24.870052",
     "status": "completed"
    },
    "tags": []
   },
   "outputs": [
    {
     "data": {
      "text/html": [
       "<div>\n",
       "<style scoped>\n",
       "    .dataframe tbody tr th:only-of-type {\n",
       "        vertical-align: middle;\n",
       "    }\n",
       "\n",
       "    .dataframe tbody tr th {\n",
       "        vertical-align: top;\n",
       "    }\n",
       "\n",
       "    .dataframe thead th {\n",
       "        text-align: right;\n",
       "    }\n",
       "</style>\n",
       "<table border=\"1\" class=\"dataframe\">\n",
       "  <thead>\n",
       "    <tr style=\"text-align: right;\">\n",
       "      <th></th>\n",
       "      <th>universe_id</th>\n",
       "      <th>universe_training_year</th>\n",
       "      <th>universe_training_size</th>\n",
       "      <th>universe_scale</th>\n",
       "      <th>universe_model</th>\n",
       "      <th>universe_exclude_features</th>\n",
       "      <th>universe_exclude_subgroups</th>\n",
       "      <th>q_hat</th>\n",
       "      <th>coverage</th>\n",
       "      <th>avg_size</th>\n",
       "    </tr>\n",
       "  </thead>\n",
       "  <tbody>\n",
       "    <tr>\n",
       "      <th>0</th>\n",
       "      <td>a99869aa2a5dbde6f312ca64398d58aa</td>\n",
       "      <td>2012_14</td>\n",
       "      <td>25k</td>\n",
       "      <td>scale</td>\n",
       "      <td>rf</td>\n",
       "      <td>age</td>\n",
       "      <td>keep-all</td>\n",
       "      <td>0.66</td>\n",
       "      <td>0.915327</td>\n",
       "      <td>1.143295</td>\n",
       "    </tr>\n",
       "  </tbody>\n",
       "</table>\n",
       "</div>"
      ],
      "text/plain": [
       "                        universe_id universe_training_year  \\\n",
       "0  a99869aa2a5dbde6f312ca64398d58aa                2012_14   \n",
       "\n",
       "  universe_training_size universe_scale universe_model  \\\n",
       "0                    25k          scale             rf   \n",
       "\n",
       "  universe_exclude_features universe_exclude_subgroups  q_hat  coverage  \\\n",
       "0                       age                   keep-all   0.66  0.915327   \n",
       "\n",
       "   avg_size  \n",
       "0  1.143295  "
      ]
     },
     "execution_count": 50,
     "metadata": {},
     "output_type": "execute_result"
    }
   ],
   "source": [
    "cp_metrics_df"
   ]
  },
  {
   "cell_type": "code",
   "execution_count": 51,
   "id": "b7fbde55-a0a1-47e4-9af6-fe4a17fa8c61",
   "metadata": {
    "execution": {
     "iopub.execute_input": "2025-08-05T14:52:24.957963Z",
     "iopub.status.busy": "2025-08-05T14:52:24.957000Z",
     "iopub.status.idle": "2025-08-05T14:52:24.962479Z",
     "shell.execute_reply": "2025-08-05T14:52:24.961371Z"
    },
    "papermill": {
     "duration": 0.029133,
     "end_time": "2025-08-05T14:52:24.964276",
     "exception": false,
     "start_time": "2025-08-05T14:52:24.935143",
     "status": "completed"
    },
    "tags": []
   },
   "outputs": [],
   "source": [
    "# Conditional Coverage & looking at subgroups"
   ]
  },
  {
   "cell_type": "code",
   "execution_count": 52,
   "id": "027ae886-68dd-4141-96c7-805a5450e1ef",
   "metadata": {
    "execution": {
     "iopub.execute_input": "2025-08-05T14:52:25.014505Z",
     "iopub.status.busy": "2025-08-05T14:52:25.013527Z",
     "iopub.status.idle": "2025-08-05T14:52:25.293727Z",
     "shell.execute_reply": "2025-08-05T14:52:25.292682Z"
    },
    "papermill": {
     "duration": 0.306515,
     "end_time": "2025-08-05T14:52:25.295751",
     "exception": false,
     "start_time": "2025-08-05T14:52:24.989236",
     "status": "completed"
    },
    "tags": []
   },
   "outputs": [],
   "source": [
    "from fairness_multiverse.conformal import build_cp_groups\n",
    "\n",
    "cp_groups_df = build_cp_groups(pred_sets, y_true, X_test.index, org_test)\n",
    "#needs universe_id and setting"
   ]
  },
  {
   "cell_type": "code",
   "execution_count": 53,
   "id": "6cbdab96-b2b2-45af-ad54-d0516db2e28d",
   "metadata": {
    "execution": {
     "iopub.execute_input": "2025-08-05T14:52:25.342294Z",
     "iopub.status.busy": "2025-08-05T14:52:25.341712Z",
     "iopub.status.idle": "2025-08-05T14:52:27.614298Z",
     "shell.execute_reply": "2025-08-05T14:52:27.610110Z"
    },
    "papermill": {
     "duration": 2.295952,
     "end_time": "2025-08-05T14:52:27.616297",
     "exception": false,
     "start_time": "2025-08-05T14:52:25.320345",
     "status": "completed"
    },
    "tags": []
   },
   "outputs": [],
   "source": [
    "# Define covered = 1 if true_label is in the predicted set\n",
    "cp_groups_df['covered'] = cp_groups_df.apply(\n",
    "    lambda r: int(r['true_label'] in r['pred_set']),\n",
    "    axis=1\n",
    ")"
   ]
  },
  {
   "cell_type": "code",
   "execution_count": 54,
   "id": "338ff529-1a6b-4b87-a931-8e4788d52aad",
   "metadata": {
    "execution": {
     "iopub.execute_input": "2025-08-05T14:52:27.648832Z",
     "iopub.status.busy": "2025-08-05T14:52:27.648474Z",
     "iopub.status.idle": "2025-08-05T14:52:27.653351Z",
     "shell.execute_reply": "2025-08-05T14:52:27.652515Z"
    },
    "papermill": {
     "duration": 0.020533,
     "end_time": "2025-08-05T14:52:27.654947",
     "exception": false,
     "start_time": "2025-08-05T14:52:27.634414",
     "status": "completed"
    },
    "tags": []
   },
   "outputs": [],
   "source": [
    "#cp_groups_df"
   ]
  },
  {
   "cell_type": "code",
   "execution_count": 55,
   "id": "90032e27-66df-4540-9169-4e89cfbaa758",
   "metadata": {
    "execution": {
     "iopub.execute_input": "2025-08-05T14:52:27.682472Z",
     "iopub.status.busy": "2025-08-05T14:52:27.681588Z",
     "iopub.status.idle": "2025-08-05T14:52:27.691864Z",
     "shell.execute_reply": "2025-08-05T14:52:27.690715Z"
    },
    "papermill": {
     "duration": 0.025828,
     "end_time": "2025-08-05T14:52:27.695043",
     "exception": false,
     "start_time": "2025-08-05T14:52:27.669215",
     "status": "completed"
    },
    "tags": []
   },
   "outputs": [],
   "source": [
    "subgroups = ['frau1','nongerman','nongerman_male','nongerman_female']\n",
    "\n",
    "# Conditional coverage for subgroup==1\n",
    "cond_coverage = {\n",
    "    g: cp_groups_df.loc[cp_groups_df[g]==1, 'covered'].mean()\n",
    "    for g in subgroups\n",
    "}"
   ]
  },
  {
   "cell_type": "code",
   "execution_count": 56,
   "id": "1e348fb1-b9c3-45bc-ba23-f016827a7e0d",
   "metadata": {
    "execution": {
     "iopub.execute_input": "2025-08-05T14:52:27.727482Z",
     "iopub.status.busy": "2025-08-05T14:52:27.727122Z",
     "iopub.status.idle": "2025-08-05T14:52:27.733596Z",
     "shell.execute_reply": "2025-08-05T14:52:27.732657Z"
    },
    "papermill": {
     "duration": 0.020399,
     "end_time": "2025-08-05T14:52:27.735094",
     "exception": false,
     "start_time": "2025-08-05T14:52:27.714695",
     "status": "completed"
    },
    "tags": []
   },
   "outputs": [
    {
     "data": {
      "text/plain": [
       "{'frau1': 0.9140315406389001,\n",
       " 'nongerman': 0.9138831190703419,\n",
       " 'nongerman_male': 0.9301089795550752,\n",
       " 'nongerman_female': 0.8870342771982116}"
      ]
     },
     "execution_count": 56,
     "metadata": {},
     "output_type": "execute_result"
    }
   ],
   "source": [
    "cond_coverage"
   ]
  },
  {
   "cell_type": "code",
   "execution_count": 57,
   "id": "f5093324-c3dd-4d63-bc4c-8d945e5c8bbb",
   "metadata": {
    "execution": {
     "iopub.execute_input": "2025-08-05T14:52:27.760720Z",
     "iopub.status.busy": "2025-08-05T14:52:27.760361Z",
     "iopub.status.idle": "2025-08-05T14:52:27.766448Z",
     "shell.execute_reply": "2025-08-05T14:52:27.765553Z"
    },
    "papermill": {
     "duration": 0.019953,
     "end_time": "2025-08-05T14:52:27.767876",
     "exception": false,
     "start_time": "2025-08-05T14:52:27.747923",
     "status": "completed"
    },
    "tags": []
   },
   "outputs": [],
   "source": [
    "for subgroup, cov in cond_coverage.items():\n",
    "    cp_metrics_df[f\"cov_{subgroup}\"] = cov"
   ]
  },
  {
   "cell_type": "code",
   "execution_count": 58,
   "id": "6e872e10-dbe5-49e8-b554-5030c98ff75d",
   "metadata": {
    "execution": {
     "iopub.execute_input": "2025-08-05T14:52:27.794412Z",
     "iopub.status.busy": "2025-08-05T14:52:27.793681Z",
     "iopub.status.idle": "2025-08-05T14:52:27.808399Z",
     "shell.execute_reply": "2025-08-05T14:52:27.807308Z"
    },
    "papermill": {
     "duration": 0.028772,
     "end_time": "2025-08-05T14:52:27.809962",
     "exception": false,
     "start_time": "2025-08-05T14:52:27.781190",
     "status": "completed"
    },
    "tags": []
   },
   "outputs": [
    {
     "data": {
      "text/html": [
       "<div>\n",
       "<style scoped>\n",
       "    .dataframe tbody tr th:only-of-type {\n",
       "        vertical-align: middle;\n",
       "    }\n",
       "\n",
       "    .dataframe tbody tr th {\n",
       "        vertical-align: top;\n",
       "    }\n",
       "\n",
       "    .dataframe thead th {\n",
       "        text-align: right;\n",
       "    }\n",
       "</style>\n",
       "<table border=\"1\" class=\"dataframe\">\n",
       "  <thead>\n",
       "    <tr style=\"text-align: right;\">\n",
       "      <th></th>\n",
       "      <th>universe_id</th>\n",
       "      <th>universe_training_year</th>\n",
       "      <th>universe_training_size</th>\n",
       "      <th>universe_scale</th>\n",
       "      <th>universe_model</th>\n",
       "      <th>universe_exclude_features</th>\n",
       "      <th>universe_exclude_subgroups</th>\n",
       "      <th>q_hat</th>\n",
       "      <th>coverage</th>\n",
       "      <th>avg_size</th>\n",
       "      <th>cov_frau1</th>\n",
       "      <th>cov_nongerman</th>\n",
       "      <th>cov_nongerman_male</th>\n",
       "      <th>cov_nongerman_female</th>\n",
       "    </tr>\n",
       "  </thead>\n",
       "  <tbody>\n",
       "    <tr>\n",
       "      <th>0</th>\n",
       "      <td>a99869aa2a5dbde6f312ca64398d58aa</td>\n",
       "      <td>2012_14</td>\n",
       "      <td>25k</td>\n",
       "      <td>scale</td>\n",
       "      <td>rf</td>\n",
       "      <td>age</td>\n",
       "      <td>keep-all</td>\n",
       "      <td>0.66</td>\n",
       "      <td>0.915327</td>\n",
       "      <td>1.143295</td>\n",
       "      <td>0.914032</td>\n",
       "      <td>0.913883</td>\n",
       "      <td>0.930109</td>\n",
       "      <td>0.887034</td>\n",
       "    </tr>\n",
       "  </tbody>\n",
       "</table>\n",
       "</div>"
      ],
      "text/plain": [
       "                        universe_id universe_training_year  \\\n",
       "0  a99869aa2a5dbde6f312ca64398d58aa                2012_14   \n",
       "\n",
       "  universe_training_size universe_scale universe_model  \\\n",
       "0                    25k          scale             rf   \n",
       "\n",
       "  universe_exclude_features universe_exclude_subgroups  q_hat  coverage  \\\n",
       "0                       age                   keep-all   0.66  0.915327   \n",
       "\n",
       "   avg_size  cov_frau1  cov_nongerman  cov_nongerman_male  \\\n",
       "0  1.143295   0.914032       0.913883            0.930109   \n",
       "\n",
       "   cov_nongerman_female  \n",
       "0              0.887034  "
      ]
     },
     "execution_count": 58,
     "metadata": {},
     "output_type": "execute_result"
    }
   ],
   "source": [
    "cp_metrics_df"
   ]
  },
  {
   "cell_type": "markdown",
   "id": "33774451",
   "metadata": {
    "papermill": {
     "duration": 0.012058,
     "end_time": "2025-08-05T14:52:27.835332",
     "exception": false,
     "start_time": "2025-08-05T14:52:27.823274",
     "status": "completed"
    },
    "tags": []
   },
   "source": [
    "# (Fairness) Metrics"
   ]
  },
  {
   "cell_type": "code",
   "execution_count": 59,
   "id": "debc5d62",
   "metadata": {
    "execution": {
     "iopub.execute_input": "2025-08-05T14:52:27.861260Z",
     "iopub.status.busy": "2025-08-05T14:52:27.860740Z",
     "iopub.status.idle": "2025-08-05T14:52:27.875695Z",
     "shell.execute_reply": "2025-08-05T14:52:27.874899Z"
    },
    "papermill": {
     "duration": 0.029626,
     "end_time": "2025-08-05T14:52:27.877187",
     "exception": false,
     "start_time": "2025-08-05T14:52:27.847561",
     "status": "completed"
    },
    "tags": []
   },
   "outputs": [],
   "source": [
    "# do I need to include maxdeutsch1.missing?\n",
    "\n",
    "import numpy as np\n",
    "\n",
    "colname_to_bin = \"maxdeutsch1\"\n",
    "majority_value = org_train[colname_to_bin].mode()[0]\n",
    "\n",
    "org_test[\"majmin\"] = np.where(org_test[colname_to_bin] == majority_value, \"majority\", \"minority\")"
   ]
  },
  {
   "cell_type": "code",
   "execution_count": 60,
   "id": "06a50de5",
   "metadata": {
    "execution": {
     "iopub.execute_input": "2025-08-05T14:52:27.903949Z",
     "iopub.status.busy": "2025-08-05T14:52:27.903517Z",
     "iopub.status.idle": "2025-08-05T14:52:29.875637Z",
     "shell.execute_reply": "2025-08-05T14:52:29.874712Z"
    },
    "papermill": {
     "duration": 1.987258,
     "end_time": "2025-08-05T14:52:29.877464",
     "exception": false,
     "start_time": "2025-08-05T14:52:27.890206",
     "status": "completed"
    },
    "tags": []
   },
   "outputs": [],
   "source": [
    "example_universe = universe.copy()\n",
    "example_universe[\"cutoff\"] = example_universe[\"cutoff\"][0]\n",
    "example_universe[\"eval_fairness_grouping\"] = example_universe[\"eval_fairness_grouping\"][0]\n",
    "fairness_dict, metric_frame = universe_analysis.compute_metrics(\n",
    "    example_universe,\n",
    "    y_pred_prob=probs_test,\n",
    "    y_test=y_true,\n",
    "    org_test=org_test,\n",
    ")"
   ]
  },
  {
   "cell_type": "markdown",
   "id": "f95d4e02",
   "metadata": {
    "papermill": {
     "duration": 0.021684,
     "end_time": "2025-08-05T14:52:29.923907",
     "exception": false,
     "start_time": "2025-08-05T14:52:29.902223",
     "status": "completed"
    },
    "tags": []
   },
   "source": [
    "# Overall"
   ]
  },
  {
   "cell_type": "markdown",
   "id": "bdee4871",
   "metadata": {
    "papermill": {
     "duration": 0.021239,
     "end_time": "2025-08-05T14:52:29.966073",
     "exception": false,
     "start_time": "2025-08-05T14:52:29.944834",
     "status": "completed"
    },
    "tags": []
   },
   "source": [
    "Fairness\n",
    "Main fairness target: Equalized Odds. Seems to be a better fit than equal opportunity, since we're not only interested in Y = 1. Seems to be a better fit than demographic parity, since we also care about accuracy, not just equal distribution of preds.\n",
    "\n",
    "Pick column for computation of fairness metrics\n",
    "\n",
    "Performance\n",
    "Overall performance measures, most interesting in relation to the measures split by group below"
   ]
  },
  {
   "cell_type": "code",
   "execution_count": 61,
   "id": "c4e067c6",
   "metadata": {
    "execution": {
     "iopub.execute_input": "2025-08-05T14:52:30.010945Z",
     "iopub.status.busy": "2025-08-05T14:52:30.010102Z",
     "iopub.status.idle": "2025-08-05T14:52:30.018831Z",
     "shell.execute_reply": "2025-08-05T14:52:30.017829Z"
    },
    "papermill": {
     "duration": 0.033667,
     "end_time": "2025-08-05T14:52:30.020614",
     "exception": false,
     "start_time": "2025-08-05T14:52:29.986947",
     "status": "completed"
    },
    "tags": []
   },
   "outputs": [
    {
     "data": {
      "text/plain": [
       "accuracy                   0.222740\n",
       "balanced accuracy          0.544991\n",
       "f1                         0.244125\n",
       "precision                  0.139460\n",
       "false positive rate        0.888468\n",
       "false negative rate        0.021550\n",
       "selection rate             0.900011\n",
       "count                  89710.000000\n",
       "dtype: float64"
      ]
     },
     "execution_count": 61,
     "metadata": {},
     "output_type": "execute_result"
    }
   ],
   "source": [
    "metric_frame.overall"
   ]
  },
  {
   "cell_type": "markdown",
   "id": "e968fe9d",
   "metadata": {
    "papermill": {
     "duration": 0.026086,
     "end_time": "2025-08-05T14:52:30.073338",
     "exception": false,
     "start_time": "2025-08-05T14:52:30.047252",
     "status": "completed"
    },
    "tags": []
   },
   "source": [
    "By Group"
   ]
  },
  {
   "cell_type": "code",
   "execution_count": 62,
   "id": "ec325bce",
   "metadata": {
    "execution": {
     "iopub.execute_input": "2025-08-05T14:52:30.126424Z",
     "iopub.status.busy": "2025-08-05T14:52:30.125742Z",
     "iopub.status.idle": "2025-08-05T14:52:30.141016Z",
     "shell.execute_reply": "2025-08-05T14:52:30.139690Z"
    },
    "papermill": {
     "duration": 0.044326,
     "end_time": "2025-08-05T14:52:30.143084",
     "exception": false,
     "start_time": "2025-08-05T14:52:30.098758",
     "status": "completed"
    },
    "tags": []
   },
   "outputs": [
    {
     "data": {
      "text/html": [
       "<div>\n",
       "<style scoped>\n",
       "    .dataframe tbody tr th:only-of-type {\n",
       "        vertical-align: middle;\n",
       "    }\n",
       "\n",
       "    .dataframe tbody tr th {\n",
       "        vertical-align: top;\n",
       "    }\n",
       "\n",
       "    .dataframe thead th {\n",
       "        text-align: right;\n",
       "    }\n",
       "</style>\n",
       "<table border=\"1\" class=\"dataframe\">\n",
       "  <thead>\n",
       "    <tr style=\"text-align: right;\">\n",
       "      <th></th>\n",
       "      <th>accuracy</th>\n",
       "      <th>balanced accuracy</th>\n",
       "      <th>f1</th>\n",
       "      <th>precision</th>\n",
       "      <th>false positive rate</th>\n",
       "      <th>false negative rate</th>\n",
       "      <th>selection rate</th>\n",
       "      <th>count</th>\n",
       "    </tr>\n",
       "    <tr>\n",
       "      <th>majmin</th>\n",
       "      <th></th>\n",
       "      <th></th>\n",
       "      <th></th>\n",
       "      <th></th>\n",
       "      <th></th>\n",
       "      <th></th>\n",
       "      <th></th>\n",
       "      <th></th>\n",
       "    </tr>\n",
       "  </thead>\n",
       "  <tbody>\n",
       "    <tr>\n",
       "      <th>majority</th>\n",
       "      <td>0.217305</td>\n",
       "      <td>0.543966</td>\n",
       "      <td>0.250142</td>\n",
       "      <td>0.143199</td>\n",
       "      <td>0.900033</td>\n",
       "      <td>0.012035</td>\n",
       "      <td>0.911652</td>\n",
       "      <td>69170.0</td>\n",
       "    </tr>\n",
       "    <tr>\n",
       "      <th>minority</th>\n",
       "      <td>0.241042</td>\n",
       "      <td>0.545729</td>\n",
       "      <td>0.222455</td>\n",
       "      <td>0.126124</td>\n",
       "      <td>0.850264</td>\n",
       "      <td>0.058277</td>\n",
       "      <td>0.860808</td>\n",
       "      <td>20540.0</td>\n",
       "    </tr>\n",
       "  </tbody>\n",
       "</table>\n",
       "</div>"
      ],
      "text/plain": [
       "          accuracy  balanced accuracy        f1  precision  \\\n",
       "majmin                                                       \n",
       "majority  0.217305           0.543966  0.250142   0.143199   \n",
       "minority  0.241042           0.545729  0.222455   0.126124   \n",
       "\n",
       "          false positive rate  false negative rate  selection rate    count  \n",
       "majmin                                                                       \n",
       "majority             0.900033             0.012035        0.911652  69170.0  \n",
       "minority             0.850264             0.058277        0.860808  20540.0  "
      ]
     },
     "execution_count": 62,
     "metadata": {},
     "output_type": "execute_result"
    }
   ],
   "source": [
    "metric_frame.by_group"
   ]
  },
  {
   "cell_type": "code",
   "execution_count": 63,
   "id": "a9ddbe63",
   "metadata": {
    "execution": {
     "iopub.execute_input": "2025-08-05T14:52:30.193681Z",
     "iopub.status.busy": "2025-08-05T14:52:30.193170Z",
     "iopub.status.idle": "2025-08-05T14:52:32.768285Z",
     "shell.execute_reply": "2025-08-05T14:52:32.767330Z"
    },
    "papermill": {
     "duration": 2.603997,
     "end_time": "2025-08-05T14:52:32.770050",
     "exception": false,
     "start_time": "2025-08-05T14:52:30.166053",
     "status": "completed"
    },
    "tags": []
   },
   "outputs": [
    {
     "data": {
      "text/plain": [
       "array([[<Axes: title={'center': 'accuracy'}, xlabel='majmin'>,\n",
       "        <Axes: title={'center': 'balanced accuracy'}, xlabel='majmin'>,\n",
       "        <Axes: title={'center': 'f1'}, xlabel='majmin'>],\n",
       "       [<Axes: title={'center': 'precision'}, xlabel='majmin'>,\n",
       "        <Axes: title={'center': 'false positive rate'}, xlabel='majmin'>,\n",
       "        <Axes: title={'center': 'false negative rate'}, xlabel='majmin'>],\n",
       "       [<Axes: title={'center': 'selection rate'}, xlabel='majmin'>,\n",
       "        <Axes: title={'center': 'count'}, xlabel='majmin'>,\n",
       "        <Axes: xlabel='majmin'>]], dtype=object)"
      ]
     },
     "execution_count": 63,
     "metadata": {},
     "output_type": "execute_result"
    },
    {
     "data": {
      "image/png": "[encoded data removed]",
      "text/plain": [
       "<Figure size 1200x800 with 9 Axes>"
      ]
     },
     "metadata": {},
     "output_type": "display_data"
    }
   ],
   "source": [
    "# In a graphic\n",
    "metric_frame.by_group.plot.bar(\n",
    "    subplots=True,\n",
    "    layout=[3, 3],\n",
    "    legend=False,\n",
    "    figsize=[12, 8],\n",
    "    title=\"Show all metrics\",\n",
    ")"
   ]
  },
  {
   "cell_type": "markdown",
   "id": "f57a0bac",
   "metadata": {
    "papermill": {
     "duration": 0.024605,
     "end_time": "2025-08-05T14:52:32.825473",
     "exception": false,
     "start_time": "2025-08-05T14:52:32.800868",
     "status": "completed"
    },
    "tags": []
   },
   "source": [
    "# Final Output"
   ]
  },
  {
   "cell_type": "code",
   "execution_count": 64,
   "id": "96d280a3",
   "metadata": {
    "execution": {
     "iopub.execute_input": "2025-08-05T14:52:32.880342Z",
     "iopub.status.busy": "2025-08-05T14:52:32.879704Z",
     "iopub.status.idle": "2025-08-05T14:52:32.889012Z",
     "shell.execute_reply": "2025-08-05T14:52:32.887905Z"
    },
    "papermill": {
     "duration": 0.037935,
     "end_time": "2025-08-05T14:52:32.890821",
     "exception": false,
     "start_time": "2025-08-05T14:52:32.852886",
     "status": "completed"
    },
    "tags": []
   },
   "outputs": [
    {
     "data": {
      "text/plain": [
       "4"
      ]
     },
     "execution_count": 64,
     "metadata": {},
     "output_type": "execute_result"
    }
   ],
   "source": [
    "sub_universes = universe_analysis.generate_sub_universes()\n",
    "len(sub_universes)"
   ]
  },
  {
   "cell_type": "code",
   "execution_count": 65,
   "id": "92adf7ba",
   "metadata": {
    "execution": {
     "iopub.execute_input": "2025-08-05T14:52:32.944500Z",
     "iopub.status.busy": "2025-08-05T14:52:32.942040Z",
     "iopub.status.idle": "2025-08-05T14:52:32.951154Z",
     "shell.execute_reply": "2025-08-05T14:52:32.950378Z"
    },
    "papermill": {
     "duration": 0.038444,
     "end_time": "2025-08-05T14:52:32.952507",
     "exception": false,
     "start_time": "2025-08-05T14:52:32.914063",
     "status": "completed"
    },
    "tags": []
   },
   "outputs": [],
   "source": [
    "def filter_sub_universe_data(sub_universe, org_test):\n",
    "    # Keep all rows — no filtering\n",
    "    keep_rows_mask = np.ones(org_test.shape[0], dtype=bool)\n",
    "\n",
    "    print(f\"[INFO] Keeping all rows: {keep_rows_mask.sum()} rows retained.\")\n",
    "    return keep_rows_mask"
   ]
  },
  {
   "cell_type": "code",
   "execution_count": 66,
   "id": "4a759155",
   "metadata": {
    "execution": {
     "iopub.execute_input": "2025-08-05T14:52:32.982608Z",
     "iopub.status.busy": "2025-08-05T14:52:32.981959Z",
     "iopub.status.idle": "2025-08-05T14:52:43.394295Z",
     "shell.execute_reply": "2025-08-05T14:52:43.393177Z"
    },
    "papermill": {
     "duration": 10.429677,
     "end_time": "2025-08-05T14:52:43.396114",
     "exception": false,
     "start_time": "2025-08-05T14:52:32.966437",
     "status": "completed"
    },
    "tags": []
   },
   "outputs": [
    {
     "name": "stdout",
     "output_type": "stream",
     "text": [
      "Stopping execution_time clock.\n",
      "[INFO] Keeping all rows: 89710 rows retained.\n"
     ]
    },
    {
     "name": "stdout",
     "output_type": "stream",
     "text": [
      "[INFO] Keeping all rows: 89710 rows retained.\n"
     ]
    },
    {
     "name": "stdout",
     "output_type": "stream",
     "text": [
      "[INFO] Keeping all rows: 89710 rows retained.\n"
     ]
    },
    {
     "name": "stdout",
     "output_type": "stream",
     "text": [
      "[INFO] Keeping all rows: 89710 rows retained.\n"
     ]
    },
    {
     "data": {
      "text/html": [
       "<div>\n",
       "<style scoped>\n",
       "    .dataframe tbody tr th:only-of-type {\n",
       "        vertical-align: middle;\n",
       "    }\n",
       "\n",
       "    .dataframe tbody tr th {\n",
       "        vertical-align: top;\n",
       "    }\n",
       "\n",
       "    .dataframe thead th {\n",
       "        text-align: right;\n",
       "    }\n",
       "</style>\n",
       "<table border=\"1\" class=\"dataframe\">\n",
       "  <thead>\n",
       "    <tr style=\"text-align: right;\">\n",
       "      <th></th>\n",
       "      <th>run_no</th>\n",
       "      <th>universe_id</th>\n",
       "      <th>universe_settings</th>\n",
       "      <th>execution_time</th>\n",
       "      <th>test_size_n</th>\n",
       "      <th>test_size_frac</th>\n",
       "      <th>fair_main_equalized_odds_difference</th>\n",
       "      <th>fair_main_equalized_odds_ratio</th>\n",
       "      <th>fair_main_demographic_parity_difference</th>\n",
       "      <th>fair_main_demographic_parity_ratio</th>\n",
       "      <th>...</th>\n",
       "      <th>perf_grp_precision_0</th>\n",
       "      <th>perf_grp_precision_1</th>\n",
       "      <th>perf_grp_false positive rate_0</th>\n",
       "      <th>perf_grp_false positive rate_1</th>\n",
       "      <th>perf_grp_false negative rate_0</th>\n",
       "      <th>perf_grp_false negative rate_1</th>\n",
       "      <th>perf_grp_selection rate_0</th>\n",
       "      <th>perf_grp_selection rate_1</th>\n",
       "      <th>perf_grp_count_0</th>\n",
       "      <th>perf_grp_count_1</th>\n",
       "    </tr>\n",
       "  </thead>\n",
       "  <tbody>\n",
       "    <tr>\n",
       "      <th>0</th>\n",
       "      <td>15</td>\n",
       "      <td>a99869aa2a5dbde6f312ca64398d58aa</td>\n",
       "      <td>{\"cutoff\": \"quantile_0.1\", \"eval_fairness_grou...</td>\n",
       "      <td>47.045332</td>\n",
       "      <td>89710</td>\n",
       "      <td>1.0</td>\n",
       "      <td>0.049769</td>\n",
       "      <td>0.944703</td>\n",
       "      <td>0.050844</td>\n",
       "      <td>0.944228</td>\n",
       "      <td>...</td>\n",
       "      <td>NaN</td>\n",
       "      <td>NaN</td>\n",
       "      <td>NaN</td>\n",
       "      <td>NaN</td>\n",
       "      <td>NaN</td>\n",
       "      <td>NaN</td>\n",
       "      <td>NaN</td>\n",
       "      <td>NaN</td>\n",
       "      <td>NaN</td>\n",
       "      <td>NaN</td>\n",
       "    </tr>\n",
       "    <tr>\n",
       "      <th>0</th>\n",
       "      <td>15</td>\n",
       "      <td>a99869aa2a5dbde6f312ca64398d58aa</td>\n",
       "      <td>{\"cutoff\": \"quantile_0.1\", \"eval_fairness_grou...</td>\n",
       "      <td>47.045332</td>\n",
       "      <td>89710</td>\n",
       "      <td>1.0</td>\n",
       "      <td>0.049769</td>\n",
       "      <td>0.944703</td>\n",
       "      <td>0.050844</td>\n",
       "      <td>0.944228</td>\n",
       "      <td>...</td>\n",
       "      <td>0.126124</td>\n",
       "      <td>0.143199</td>\n",
       "      <td>0.850264</td>\n",
       "      <td>0.900033</td>\n",
       "      <td>0.058277</td>\n",
       "      <td>0.012035</td>\n",
       "      <td>0.860808</td>\n",
       "      <td>0.911652</td>\n",
       "      <td>20540.0</td>\n",
       "      <td>69170.0</td>\n",
       "    </tr>\n",
       "    <tr>\n",
       "      <th>0</th>\n",
       "      <td>15</td>\n",
       "      <td>a99869aa2a5dbde6f312ca64398d58aa</td>\n",
       "      <td>{\"cutoff\": \"quantile_0.25\", \"eval_fairness_gro...</td>\n",
       "      <td>47.045332</td>\n",
       "      <td>89710</td>\n",
       "      <td>1.0</td>\n",
       "      <td>0.094332</td>\n",
       "      <td>0.900738</td>\n",
       "      <td>0.065676</td>\n",
       "      <td>0.914154</td>\n",
       "      <td>...</td>\n",
       "      <td>NaN</td>\n",
       "      <td>NaN</td>\n",
       "      <td>NaN</td>\n",
       "      <td>NaN</td>\n",
       "      <td>NaN</td>\n",
       "      <td>NaN</td>\n",
       "      <td>NaN</td>\n",
       "      <td>NaN</td>\n",
       "      <td>NaN</td>\n",
       "      <td>NaN</td>\n",
       "    </tr>\n",
       "    <tr>\n",
       "      <th>0</th>\n",
       "      <td>15</td>\n",
       "      <td>a99869aa2a5dbde6f312ca64398d58aa</td>\n",
       "      <td>{\"cutoff\": \"quantile_0.25\", \"eval_fairness_gro...</td>\n",
       "      <td>47.045332</td>\n",
       "      <td>89710</td>\n",
       "      <td>1.0</td>\n",
       "      <td>0.094332</td>\n",
       "      <td>0.900738</td>\n",
       "      <td>0.065676</td>\n",
       "      <td>0.914154</td>\n",
       "      <td>...</td>\n",
       "      <td>0.141107</td>\n",
       "      <td>0.164141</td>\n",
       "      <td>0.678957</td>\n",
       "      <td>0.736832</td>\n",
       "      <td>0.144003</td>\n",
       "      <td>0.049672</td>\n",
       "      <td>0.699367</td>\n",
       "      <td>0.765043</td>\n",
       "      <td>20540.0</td>\n",
       "      <td>69170.0</td>\n",
       "    </tr>\n",
       "  </tbody>\n",
       "</table>\n",
       "<p>4 rows × 50 columns</p>\n",
       "</div>"
      ],
      "text/plain": [
       "  run_no                       universe_id  \\\n",
       "0     15  a99869aa2a5dbde6f312ca64398d58aa   \n",
       "0     15  a99869aa2a5dbde6f312ca64398d58aa   \n",
       "0     15  a99869aa2a5dbde6f312ca64398d58aa   \n",
       "0     15  a99869aa2a5dbde6f312ca64398d58aa   \n",
       "\n",
       "                                   universe_settings  execution_time  \\\n",
       "0  {\"cutoff\": \"quantile_0.1\", \"eval_fairness_grou...       47.045332   \n",
       "0  {\"cutoff\": \"quantile_0.1\", \"eval_fairness_grou...       47.045332   \n",
       "0  {\"cutoff\": \"quantile_0.25\", \"eval_fairness_gro...       47.045332   \n",
       "0  {\"cutoff\": \"quantile_0.25\", \"eval_fairness_gro...       47.045332   \n",
       "\n",
       "   test_size_n  test_size_frac  fair_main_equalized_odds_difference  \\\n",
       "0        89710             1.0                             0.049769   \n",
       "0        89710             1.0                             0.049769   \n",
       "0        89710             1.0                             0.094332   \n",
       "0        89710             1.0                             0.094332   \n",
       "\n",
       "   fair_main_equalized_odds_ratio  fair_main_demographic_parity_difference  \\\n",
       "0                        0.944703                                 0.050844   \n",
       "0                        0.944703                                 0.050844   \n",
       "0                        0.900738                                 0.065676   \n",
       "0                        0.900738                                 0.065676   \n",
       "\n",
       "   fair_main_demographic_parity_ratio  ...  perf_grp_precision_0  \\\n",
       "0                            0.944228  ...                   NaN   \n",
       "0                            0.944228  ...              0.126124   \n",
       "0                            0.914154  ...                   NaN   \n",
       "0                            0.914154  ...              0.141107   \n",
       "\n",
       "   perf_grp_precision_1  perf_grp_false positive rate_0  \\\n",
       "0                   NaN                             NaN   \n",
       "0              0.143199                        0.850264   \n",
       "0                   NaN                             NaN   \n",
       "0              0.164141                        0.678957   \n",
       "\n",
       "   perf_grp_false positive rate_1  perf_grp_false negative rate_0  \\\n",
       "0                             NaN                             NaN   \n",
       "0                        0.900033                        0.058277   \n",
       "0                             NaN                             NaN   \n",
       "0                        0.736832                        0.144003   \n",
       "\n",
       "   perf_grp_false negative rate_1  perf_grp_selection rate_0  \\\n",
       "0                             NaN                        NaN   \n",
       "0                        0.012035                   0.860808   \n",
       "0                             NaN                        NaN   \n",
       "0                        0.049672                   0.699367   \n",
       "\n",
       "   perf_grp_selection rate_1  perf_grp_count_0  perf_grp_count_1  \n",
       "0                        NaN               NaN               NaN  \n",
       "0                   0.911652           20540.0           69170.0  \n",
       "0                        NaN               NaN               NaN  \n",
       "0                   0.765043           20540.0           69170.0  \n",
       "\n",
       "[4 rows x 50 columns]"
      ]
     },
     "execution_count": 66,
     "metadata": {},
     "output_type": "execute_result"
    }
   ],
   "source": [
    "final_output = universe_analysis.generate_final_output(\n",
    "    y_pred_prob=probs_test,\n",
    "    y_test=y_true,\n",
    "    org_test=org_test,\n",
    "    filter_data=filter_sub_universe_data,\n",
    "    cp_metrics_df=cp_metrics_df,\n",
    "    save=True,\n",
    ")\n",
    "final_output"
   ]
  }
 ],
 "metadata": {
  "celltoolbar": "Tags",
  "kernelspec": {
   "display_name": "Python (CMA Fairness)",
   "language": "python",
   "name": "cma_fair_env"
  },
  "language_info": {
   "codemirror_mode": {
    "name": "ipython",
    "version": 3
   },
   "file_extension": ".py",
   "mimetype": "text/x-python",
   "name": "python",
   "nbconvert_exporter": "python",
   "pygments_lexer": "ipython3",
   "version": "3.10.12"
  },
  "papermill": {
   "default_parameters": {},
   "duration": 61.503175,
   "end_time": "2025-08-05T14:52:44.147709",
   "environment_variables": {},
   "exception": null,
   "input_path": "universe_analysis.ipynb",
   "output_path": "output/runs/15/notebooks/m_15-a99869aa2a5dbde6f312ca64398d58aa.ipynb",
   "parameters": {
    "output_dir": "output",
    "run_no": "15",
    "seed": "2023",
    "universe": "{\"cutoff\": [\"quantile_0.1\", \"quantile_0.25\"], \"eval_fairness_grouping\": [\"majority-minority\", \"nationality-all\"], \"exclude_features\": \"age\", \"exclude_subgroups\": \"keep-all\", \"model\": \"rf\", \"scale\": \"scale\", \"training_size\": \"25k\", \"training_year\": \"2012_14\"}",
    "universe_id": "a99869aa2a5dbde6f312ca64398d58aa"
   },
   "start_time": "2025-08-05T14:51:42.644534",
   "version": "2.6.0"
  }
 },
 "nbformat": 4,
 "nbformat_minor": 5
}