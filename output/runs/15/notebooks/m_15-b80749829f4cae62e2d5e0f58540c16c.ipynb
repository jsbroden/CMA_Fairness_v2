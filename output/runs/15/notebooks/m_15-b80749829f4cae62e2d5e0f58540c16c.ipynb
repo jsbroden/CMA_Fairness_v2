{
 "cells": [
  {
   "cell_type": "code",
   "execution_count": 1,
   "id": "f159f837-637b-42ba-96b5-ec9a68c44524",
   "metadata": {
    "execution": {
     "iopub.execute_input": "2025-08-05T16:37:42.487807Z",
     "iopub.status.busy": "2025-08-05T16:37:42.487303Z",
     "iopub.status.idle": "2025-08-05T16:37:42.501139Z",
     "shell.execute_reply": "2025-08-05T16:37:42.499972Z"
    },
    "papermill": {
     "duration": 0.038097,
     "end_time": "2025-08-05T16:37:42.504586",
     "exception": false,
     "start_time": "2025-08-05T16:37:42.466489",
     "status": "completed"
    },
    "tags": []
   },
   "outputs": [
    {
     "name": "stdout",
     "output_type": "stream",
     "text": [
      "/dss/dsshome1/0C/ra93lal2/cma/CMA_Fairness_v2\n"
     ]
    },
    {
     "name": "stderr",
     "output_type": "stream",
     "text": [
      "/dss/dsshome1/0C/ra93lal2/.local/share/virtualenvs/CMA_Fairness_v2-3j10GkSs/lib/python3.10/site-packages/IPython/core/magics/osm.py:393: UserWarning: This is now an optional IPython functionality, using bookmarks requires you to install the `pickleshare` library.\n",
      "  bkms = self.shell.db.get('bookmarks', {})\n",
      "/dss/dsshome1/0C/ra93lal2/.local/share/virtualenvs/CMA_Fairness_v2-3j10GkSs/lib/python3.10/site-packages/IPython/core/magics/osm.py:417: UserWarning: This is now an optional IPython functionality, setting dhist requires you to install the `pickleshare` library.\n",
      "  self.shell.db['dhist'] = compress_dhist(dhist)[-100:]\n"
     ]
    }
   ],
   "source": [
    "%cd ~/cma/CMA_Fairness_v2"
   ]
  },
  {
   "cell_type": "markdown",
   "id": "de2603b9",
   "metadata": {
    "papermill": {
     "duration": 0.009286,
     "end_time": "2025-08-05T16:37:42.525289",
     "exception": false,
     "start_time": "2025-08-05T16:37:42.516003",
     "status": "completed"
    },
    "tags": []
   },
   "source": [
    "The following cell holds the definition of our parameters, these values can be overriden by rendering the with e.g. the following command:\n",
    "\n",
    "papermill -p alpha 0.2 -p ratio 0.3 universe_analysis.ipynb output/test_run.ipynb"
   ]
  },
  {
   "cell_type": "code",
   "execution_count": 2,
   "id": "a80968a0-40bb-4fa9-85ef-2d5eefb01975",
   "metadata": {
    "execution": {
     "iopub.execute_input": "2025-08-05T16:37:42.588029Z",
     "iopub.status.busy": "2025-08-05T16:37:42.587654Z",
     "iopub.status.idle": "2025-08-05T16:37:42.593050Z",
     "shell.execute_reply": "2025-08-05T16:37:42.592166Z"
    },
    "papermill": {
     "duration": 0.060338,
     "end_time": "2025-08-05T16:37:42.594491",
     "exception": false,
     "start_time": "2025-08-05T16:37:42.534153",
     "status": "completed"
    },
    "tags": []
   },
   "outputs": [
    {
     "name": "stdout",
     "output_type": "stream",
     "text": [
      "Current working directory: /dss/dsshome1/0C/ra93lal2/cma/CMA_Fairness_v2\n"
     ]
    }
   ],
   "source": [
    "import os\n",
    "print(\"Current working directory:\", os.getcwd())"
   ]
  },
  {
   "cell_type": "code",
   "execution_count": 3,
   "id": "2dce4c03",
   "metadata": {
    "execution": {
     "iopub.execute_input": "2025-08-05T16:37:42.615699Z",
     "iopub.status.busy": "2025-08-05T16:37:42.615351Z",
     "iopub.status.idle": "2025-08-05T16:37:42.620578Z",
     "shell.execute_reply": "2025-08-05T16:37:42.619668Z"
    },
    "papermill": {
     "duration": 0.016683,
     "end_time": "2025-08-05T16:37:42.622028",
     "exception": false,
     "start_time": "2025-08-05T16:37:42.605345",
     "status": "completed"
    },
    "tags": [
     "parameters"
    ]
   },
   "outputs": [],
   "source": [
    "run_no = 0\n",
    "universe_id = \"test\"\n",
    "universe = {\n",
    "    \"training_size\": \"25k\", # \"25k\", \"5k\", \"1k\"\n",
    "    \"training_year\": \"2014\", # \"2014\", \"2012_14\", \"2010_14\"\n",
    "    \"scale\": \"scale\", # \"scale\", \"do-not-scale\",\n",
    "    \"model\": \"elasticnet\", # \"logreg\", \"penalized_logreg\", \"rf\", \"gbm\", \"elasticnet\"\n",
    "    \"cutoff\": [\"quantile_0.15\", \"quantile_0.30\"],\n",
    "    \"exclude_features\": \"age\", # \"none\", \"nationality\", \"sex\", \"nationality-sex\", \"age\"\n",
    "    \"exclude_subgroups\": \"keep-all\", # \"keep-all\", \"drop-non-german\"\n",
    "    \"eval_fairness_grouping\": [\"majority-minority\", \"nationality-all\"]\n",
    "}\n",
    "\n",
    "output_dir=\"./output\"\n",
    "seed=0"
   ]
  },
  {
   "cell_type": "code",
   "execution_count": 4,
   "id": "159f9d84",
   "metadata": {
    "execution": {
     "iopub.execute_input": "2025-08-05T16:37:42.644878Z",
     "iopub.status.busy": "2025-08-05T16:37:42.644317Z",
     "iopub.status.idle": "2025-08-05T16:37:42.649763Z",
     "shell.execute_reply": "2025-08-05T16:37:42.648797Z"
    },
    "papermill": {
     "duration": 0.017914,
     "end_time": "2025-08-05T16:37:42.651291",
     "exception": false,
     "start_time": "2025-08-05T16:37:42.633377",
     "status": "completed"
    },
    "tags": [
     "injected-parameters"
    ]
   },
   "outputs": [],
   "source": [
    "# Parameters\n",
    "universe_id = \"b80749829f4cae62e2d5e0f58540c16c\"\n",
    "run_no = \"15\"\n",
    "universe = \"{\\\"cutoff\\\": [\\\"quantile_0.1\\\", \\\"quantile_0.25\\\"], \\\"eval_fairness_grouping\\\": [\\\"majority-minority\\\", \\\"nationality-all\\\"], \\\"exclude_features\\\": \\\"nationality-sex\\\", \\\"exclude_subgroups\\\": \\\"keep-all\\\", \\\"model\\\": \\\"elasticnet\\\", \\\"scale\\\": \\\"scale\\\", \\\"training_size\\\": \\\"1k\\\", \\\"training_year\\\": \\\"2010_14\\\"}\"\n",
    "output_dir = \"output\"\n",
    "seed = \"2023\"\n"
   ]
  },
  {
   "cell_type": "code",
   "execution_count": 5,
   "id": "1650acaf",
   "metadata": {
    "execution": {
     "iopub.execute_input": "2025-08-05T16:37:42.674355Z",
     "iopub.status.busy": "2025-08-05T16:37:42.673506Z",
     "iopub.status.idle": "2025-08-05T16:37:42.678525Z",
     "shell.execute_reply": "2025-08-05T16:37:42.677706Z"
    },
    "papermill": {
     "duration": 0.01726,
     "end_time": "2025-08-05T16:37:42.680117",
     "exception": false,
     "start_time": "2025-08-05T16:37:42.662857",
     "status": "completed"
    },
    "tags": []
   },
   "outputs": [],
   "source": [
    "import json\n",
    "if isinstance(universe, str):\n",
    "    universe = json.loads(universe)"
   ]
  },
  {
   "cell_type": "code",
   "execution_count": 6,
   "id": "16620c48",
   "metadata": {
    "execution": {
     "iopub.execute_input": "2025-08-05T16:37:42.702221Z",
     "iopub.status.busy": "2025-08-05T16:37:42.701689Z",
     "iopub.status.idle": "2025-08-05T16:37:42.752842Z",
     "shell.execute_reply": "2025-08-05T16:37:42.751854Z"
    },
    "papermill": {
     "duration": 0.062952,
     "end_time": "2025-08-05T16:37:42.754350",
     "exception": false,
     "start_time": "2025-08-05T16:37:42.691398",
     "status": "completed"
    },
    "tags": []
   },
   "outputs": [],
   "source": [
    "# Auto-reload the custom package\n",
    "%load_ext autoreload\n",
    "%autoreload 1\n",
    "%aimport fairness_multiverse"
   ]
  },
  {
   "cell_type": "code",
   "execution_count": 7,
   "id": "01c5c9f3",
   "metadata": {
    "execution": {
     "iopub.execute_input": "2025-08-05T16:37:42.788145Z",
     "iopub.status.busy": "2025-08-05T16:37:42.787712Z",
     "iopub.status.idle": "2025-08-05T16:37:44.787694Z",
     "shell.execute_reply": "2025-08-05T16:37:44.786516Z"
    },
    "papermill": {
     "duration": 2.022991,
     "end_time": "2025-08-05T16:37:44.789971",
     "exception": false,
     "start_time": "2025-08-05T16:37:42.766980",
     "status": "completed"
    },
    "tags": []
   },
   "outputs": [],
   "source": [
    "from fairness_multiverse.universe import UniverseAnalysis\n",
    "\n",
    "universe_analysis = UniverseAnalysis(\n",
    "    run_no = run_no,\n",
    "    universe_id = universe_id,\n",
    "    universe = universe,\n",
    "    output_dir=output_dir,\n",
    ")"
   ]
  },
  {
   "cell_type": "code",
   "execution_count": 8,
   "id": "106241f5",
   "metadata": {
    "execution": {
     "iopub.execute_input": "2025-08-05T16:37:44.830990Z",
     "iopub.status.busy": "2025-08-05T16:37:44.830100Z",
     "iopub.status.idle": "2025-08-05T16:37:44.837666Z",
     "shell.execute_reply": "2025-08-05T16:37:44.836386Z"
    },
    "papermill": {
     "duration": 0.030198,
     "end_time": "2025-08-05T16:37:44.839691",
     "exception": false,
     "start_time": "2025-08-05T16:37:44.809493",
     "status": "completed"
    },
    "tags": []
   },
   "outputs": [
    {
     "name": "stdout",
     "output_type": "stream",
     "text": [
      "Using Seed: 2023\n"
     ]
    }
   ],
   "source": [
    "import numpy as np\n",
    "parsed_seed = int(seed)\n",
    "np.random.seed(parsed_seed)\n",
    "print(f\"Using Seed: {parsed_seed}\")"
   ]
  },
  {
   "cell_type": "markdown",
   "id": "e0ebdc57",
   "metadata": {
    "papermill": {
     "duration": 0.02093,
     "end_time": "2025-08-05T16:37:44.883074",
     "exception": false,
     "start_time": "2025-08-05T16:37:44.862144",
     "status": "completed"
    },
    "tags": []
   },
   "source": [
    "# Loading Data"
   ]
  },
  {
   "cell_type": "code",
   "execution_count": 9,
   "id": "f0496b8a",
   "metadata": {
    "execution": {
     "iopub.execute_input": "2025-08-05T16:37:44.927218Z",
     "iopub.status.busy": "2025-08-05T16:37:44.926147Z",
     "iopub.status.idle": "2025-08-05T16:37:56.776806Z",
     "shell.execute_reply": "2025-08-05T16:37:56.775615Z"
    },
    "papermill": {
     "duration": 11.874657,
     "end_time": "2025-08-05T16:37:56.778575",
     "exception": false,
     "start_time": "2025-08-05T16:37:44.903918",
     "status": "completed"
    },
    "tags": []
   },
   "outputs": [
    {
     "name": "stdout",
     "output_type": "stream",
     "text": [
      "Loading SIAB data from cache: data/siab_cached.csv.gz\n"
     ]
    },
    {
     "name": "stdout",
     "output_type": "stream",
     "text": [
      "(643690, 164)\n"
     ]
    }
   ],
   "source": [
    "from pathlib import Path\n",
    "import pandas as pd\n",
    "\n",
    "# File paths\n",
    "raw_file = Path(\"data/raw/siab.csv\")\n",
    "cache_file = Path(\"data/siab_cached.csv.gz\")\n",
    "\n",
    "# Ensure cache directory exists\n",
    "cache_file.parent.mkdir(parents=True, exist_ok=True)\n",
    "\n",
    "# Load with simple caching\n",
    "if cache_file.exists():\n",
    "    print(f\"Loading SIAB data from cache: {cache_file}\")\n",
    "    siab = pd.read_csv(cache_file, compression='gzip')\n",
    "else:\n",
    "    print(f\"Cache not found. Reading raw SIAB data: {raw_file}\")\n",
    "    siab = pd.read_csv(raw_file)\n",
    "    siab.to_csv(cache_file, index=False, compression='gzip')\n",
    "    print(f\"Cached SIAB data to: {cache_file}\")\n",
    "\n",
    "print(siab.shape)"
   ]
  },
  {
   "cell_type": "code",
   "execution_count": 10,
   "id": "db0ca512-5f53-4dba-abdb-a2888bca41ba",
   "metadata": {
    "execution": {
     "iopub.execute_input": "2025-08-05T16:37:56.818224Z",
     "iopub.status.busy": "2025-08-05T16:37:56.817780Z",
     "iopub.status.idle": "2025-08-05T16:37:56.822876Z",
     "shell.execute_reply": "2025-08-05T16:37:56.821912Z"
    },
    "papermill": {
     "duration": 0.02602,
     "end_time": "2025-08-05T16:37:56.824663",
     "exception": false,
     "start_time": "2025-08-05T16:37:56.798643",
     "status": "completed"
    },
    "tags": []
   },
   "outputs": [],
   "source": [
    "#siab"
   ]
  },
  {
   "cell_type": "markdown",
   "id": "997051c5-15bd-4b69-9786-c3001a3ce484",
   "metadata": {
    "papermill": {
     "duration": 0.018593,
     "end_time": "2025-08-05T16:37:56.861461",
     "exception": false,
     "start_time": "2025-08-05T16:37:56.842868",
     "status": "completed"
    },
    "tags": []
   },
   "source": [
    "# Splitting Data and Setting Training Data Size"
   ]
  },
  {
   "cell_type": "code",
   "execution_count": 11,
   "id": "aea9c6ef-6f46-42c8-85eb-5a62025c1508",
   "metadata": {
    "execution": {
     "iopub.execute_input": "2025-08-05T16:37:56.895800Z",
     "iopub.status.busy": "2025-08-05T16:37:56.894933Z",
     "iopub.status.idle": "2025-08-05T16:37:57.829928Z",
     "shell.execute_reply": "2025-08-05T16:37:57.829183Z"
    },
    "papermill": {
     "duration": 0.956914,
     "end_time": "2025-08-05T16:37:57.832122",
     "exception": false,
     "start_time": "2025-08-05T16:37:56.875208",
     "status": "completed"
    },
    "tags": []
   },
   "outputs": [],
   "source": [
    "from fairness_multiverse.universe import sample_by_year_size\n",
    "\n",
    "siab_train = sample_by_year_size(siab,\n",
    "                               training_year=universe[\"training_year\"],\n",
    "                               training_size=universe[\"training_size\"])"
   ]
  },
  {
   "cell_type": "code",
   "execution_count": 12,
   "id": "8d3afb32-789d-442c-8d5d-9f5aa8dd2eed",
   "metadata": {
    "execution": {
     "iopub.execute_input": "2025-08-05T16:37:57.896913Z",
     "iopub.status.busy": "2025-08-05T16:37:57.896095Z",
     "iopub.status.idle": "2025-08-05T16:37:57.903452Z",
     "shell.execute_reply": "2025-08-05T16:37:57.902271Z"
    },
    "papermill": {
     "duration": 0.03417,
     "end_time": "2025-08-05T16:37:57.905620",
     "exception": false,
     "start_time": "2025-08-05T16:37:57.871450",
     "status": "completed"
    },
    "tags": []
   },
   "outputs": [],
   "source": [
    "#siab_train.shape"
   ]
  },
  {
   "cell_type": "code",
   "execution_count": 13,
   "id": "d582db68-1a4c-47fb-84fc-08518dc1975a",
   "metadata": {
    "execution": {
     "iopub.execute_input": "2025-08-05T16:37:57.948214Z",
     "iopub.status.busy": "2025-08-05T16:37:57.947284Z",
     "iopub.status.idle": "2025-08-05T16:37:57.953016Z",
     "shell.execute_reply": "2025-08-05T16:37:57.951946Z"
    },
    "papermill": {
     "duration": 0.029027,
     "end_time": "2025-08-05T16:37:57.955106",
     "exception": false,
     "start_time": "2025-08-05T16:37:57.926079",
     "status": "completed"
    },
    "tags": []
   },
   "outputs": [],
   "source": [
    "#display(siab_train.groupby(\"year\").size())"
   ]
  },
  {
   "cell_type": "code",
   "execution_count": 14,
   "id": "a561edb4-d032-42cb-8256-22eac1111c64",
   "metadata": {
    "execution": {
     "iopub.execute_input": "2025-08-05T16:37:57.992034Z",
     "iopub.status.busy": "2025-08-05T16:37:57.991683Z",
     "iopub.status.idle": "2025-08-05T16:37:58.229795Z",
     "shell.execute_reply": "2025-08-05T16:37:58.228348Z"
    },
    "papermill": {
     "duration": 0.251473,
     "end_time": "2025-08-05T16:37:58.231566",
     "exception": false,
     "start_time": "2025-08-05T16:37:57.980093",
     "status": "completed"
    },
    "tags": []
   },
   "outputs": [],
   "source": [
    "#siab_train = siab_s[siab_s.year < 2015]\n",
    "siab_calib = siab[siab.year == 2015]\n",
    "siab_test = siab[siab.year == 2016]"
   ]
  },
  {
   "cell_type": "code",
   "execution_count": 15,
   "id": "472de16f-c3db-4916-846b-1f0de9cf1746",
   "metadata": {
    "execution": {
     "iopub.execute_input": "2025-08-05T16:37:58.252853Z",
     "iopub.status.busy": "2025-08-05T16:37:58.252488Z",
     "iopub.status.idle": "2025-08-05T16:37:58.259097Z",
     "shell.execute_reply": "2025-08-05T16:37:58.258165Z"
    },
    "papermill": {
     "duration": 0.018108,
     "end_time": "2025-08-05T16:37:58.260908",
     "exception": false,
     "start_time": "2025-08-05T16:37:58.242800",
     "status": "completed"
    },
    "tags": []
   },
   "outputs": [],
   "source": [
    "X_train = siab_train.iloc[:,4:164]\n",
    "y_train = siab_train.iloc[:, [3]]"
   ]
  },
  {
   "cell_type": "code",
   "execution_count": 16,
   "id": "828c96af-f43a-4ed6-ba47-8ac73a47d56c",
   "metadata": {
    "execution": {
     "iopub.execute_input": "2025-08-05T16:37:58.302806Z",
     "iopub.status.busy": "2025-08-05T16:37:58.302359Z",
     "iopub.status.idle": "2025-08-05T16:37:58.349495Z",
     "shell.execute_reply": "2025-08-05T16:37:58.348666Z"
    },
    "papermill": {
     "duration": 0.071422,
     "end_time": "2025-08-05T16:37:58.351177",
     "exception": false,
     "start_time": "2025-08-05T16:37:58.279755",
     "status": "completed"
    },
    "tags": []
   },
   "outputs": [],
   "source": [
    "X_calib = siab_calib.iloc[:,4:164]\n",
    "y_calib = siab_calib.iloc[:, [3]]"
   ]
  },
  {
   "cell_type": "code",
   "execution_count": 17,
   "id": "c34be9c3-6bd6-476e-acd3-845840e303be",
   "metadata": {
    "execution": {
     "iopub.execute_input": "2025-08-05T16:37:58.372650Z",
     "iopub.status.busy": "2025-08-05T16:37:58.372233Z",
     "iopub.status.idle": "2025-08-05T16:37:58.420458Z",
     "shell.execute_reply": "2025-08-05T16:37:58.419550Z"
    },
    "papermill": {
     "duration": 0.059868,
     "end_time": "2025-08-05T16:37:58.421870",
     "exception": false,
     "start_time": "2025-08-05T16:37:58.362002",
     "status": "completed"
    },
    "tags": []
   },
   "outputs": [],
   "source": [
    "X_test = siab_test.iloc[:,4:164]\n",
    "y_true = siab_test.iloc[:, [3]]"
   ]
  },
  {
   "cell_type": "code",
   "execution_count": 18,
   "id": "e6c733c5",
   "metadata": {
    "execution": {
     "iopub.execute_input": "2025-08-05T16:37:58.443688Z",
     "iopub.status.busy": "2025-08-05T16:37:58.443175Z",
     "iopub.status.idle": "2025-08-05T16:37:58.530783Z",
     "shell.execute_reply": "2025-08-05T16:37:58.530019Z"
    },
    "papermill": {
     "duration": 0.09948,
     "end_time": "2025-08-05T16:37:58.532307",
     "exception": false,
     "start_time": "2025-08-05T16:37:58.432827",
     "status": "completed"
    },
    "tags": []
   },
   "outputs": [],
   "source": [
    "# Auxiliary data needed downstream in the pipeline\n",
    "\n",
    "org_train = X_train.copy()\n",
    "org_test = X_test.copy()\n",
    "org_calib = X_calib.copy()"
   ]
  },
  {
   "cell_type": "markdown",
   "id": "0a4a1b33",
   "metadata": {
    "papermill": {
     "duration": 0.008818,
     "end_time": "2025-08-05T16:37:58.550905",
     "exception": false,
     "start_time": "2025-08-05T16:37:58.542087",
     "status": "completed"
    },
    "tags": []
   },
   "source": [
    "# Preprocessing Data"
   ]
  },
  {
   "cell_type": "code",
   "execution_count": 19,
   "id": "ca879031",
   "metadata": {
    "execution": {
     "iopub.execute_input": "2025-08-05T16:37:58.570184Z",
     "iopub.status.busy": "2025-08-05T16:37:58.569660Z",
     "iopub.status.idle": "2025-08-05T16:37:58.574482Z",
     "shell.execute_reply": "2025-08-05T16:37:58.573642Z"
    },
    "papermill": {
     "duration": 0.01611,
     "end_time": "2025-08-05T16:37:58.575875",
     "exception": false,
     "start_time": "2025-08-05T16:37:58.559765",
     "status": "completed"
    },
    "tags": []
   },
   "outputs": [],
   "source": [
    "# EXCLUDE PROTECTED FEATURES\n",
    "# ----------------------\n",
    "# \"exclude_features\": \"none\", # \"nationality\", \"sex\", \"nationality-sex\"\n",
    "\n",
    "excluded_features = universe[\"exclude_features\"].split(\"-\") # split, e.g.: \"nationality-sex\" -> [\"nationality\", \"sex\"]\n",
    "excluded_features_dictionary = {\n",
    "    \"nationality\": [\"maxdeutsch1\", \"maxdeutsch.Missing.\"],\n",
    "    \"sex\": [\"frau1\"],\n",
    "    \"age\": [\"age\"],\n",
    "}"
   ]
  },
  {
   "cell_type": "code",
   "execution_count": 20,
   "id": "b745ac60",
   "metadata": {
    "execution": {
     "iopub.execute_input": "2025-08-05T16:37:58.595977Z",
     "iopub.status.busy": "2025-08-05T16:37:58.595601Z",
     "iopub.status.idle": "2025-08-05T16:37:58.599949Z",
     "shell.execute_reply": "2025-08-05T16:37:58.599023Z"
    },
    "papermill": {
     "duration": 0.015451,
     "end_time": "2025-08-05T16:37:58.601462",
     "exception": false,
     "start_time": "2025-08-05T16:37:58.586011",
     "status": "completed"
    },
    "tags": []
   },
   "outputs": [],
   "source": [
    "# Code nice names to column names\n",
    "\n",
    "excluded_features_columns = [\n",
    "    excluded_features_dictionary[f] for f in excluded_features if len(f) > 0 and f != \"none\"\n",
    "]"
   ]
  },
  {
   "cell_type": "code",
   "execution_count": 21,
   "id": "f84f73a2",
   "metadata": {
    "execution": {
     "iopub.execute_input": "2025-08-05T16:37:58.638746Z",
     "iopub.status.busy": "2025-08-05T16:37:58.638029Z",
     "iopub.status.idle": "2025-08-05T16:37:58.644410Z",
     "shell.execute_reply": "2025-08-05T16:37:58.643420Z"
    },
    "papermill": {
     "duration": 0.025273,
     "end_time": "2025-08-05T16:37:58.646259",
     "exception": false,
     "start_time": "2025-08-05T16:37:58.620986",
     "status": "completed"
    },
    "tags": []
   },
   "outputs": [],
   "source": [
    "from utils import flatten_once\n",
    "\n",
    "excluded_features_columns = flatten_once(excluded_features_columns)"
   ]
  },
  {
   "cell_type": "code",
   "execution_count": 22,
   "id": "884dea22",
   "metadata": {
    "execution": {
     "iopub.execute_input": "2025-08-05T16:37:58.685021Z",
     "iopub.status.busy": "2025-08-05T16:37:58.684650Z",
     "iopub.status.idle": "2025-08-05T16:37:58.692045Z",
     "shell.execute_reply": "2025-08-05T16:37:58.690929Z"
    },
    "papermill": {
     "duration": 0.028272,
     "end_time": "2025-08-05T16:37:58.693874",
     "exception": false,
     "start_time": "2025-08-05T16:37:58.665602",
     "status": "completed"
    },
    "tags": []
   },
   "outputs": [
    {
     "name": "stdout",
     "output_type": "stream",
     "text": [
      "Dropping features: ['maxdeutsch1', 'maxdeutsch.Missing.', 'frau1']\n"
     ]
    }
   ],
   "source": [
    "if len(excluded_features_columns) > 0:\n",
    "    print(f\"Dropping features: {excluded_features_columns}\")\n",
    "    X_train.drop(excluded_features_columns, axis=1, inplace=True)"
   ]
  },
  {
   "cell_type": "code",
   "execution_count": 23,
   "id": "95ab8b16",
   "metadata": {
    "execution": {
     "iopub.execute_input": "2025-08-05T16:37:58.733945Z",
     "iopub.status.busy": "2025-08-05T16:37:58.733273Z",
     "iopub.status.idle": "2025-08-05T16:37:58.787234Z",
     "shell.execute_reply": "2025-08-05T16:37:58.786085Z"
    },
    "papermill": {
     "duration": 0.075767,
     "end_time": "2025-08-05T16:37:58.789342",
     "exception": false,
     "start_time": "2025-08-05T16:37:58.713575",
     "status": "completed"
    },
    "tags": []
   },
   "outputs": [
    {
     "name": "stdout",
     "output_type": "stream",
     "text": [
      "Dropping features: ['maxdeutsch1', 'maxdeutsch.Missing.', 'frau1']\n"
     ]
    }
   ],
   "source": [
    "if len(excluded_features_columns) > 0:\n",
    "    print(f\"Dropping features: {excluded_features_columns}\")\n",
    "    X_test.drop(excluded_features_columns, axis=1, inplace=True)"
   ]
  },
  {
   "cell_type": "code",
   "execution_count": 24,
   "id": "1853aaf5-fb9f-46cb-a2b5-8ea4ae2237e4",
   "metadata": {
    "execution": {
     "iopub.execute_input": "2025-08-05T16:37:58.830436Z",
     "iopub.status.busy": "2025-08-05T16:37:58.829985Z",
     "iopub.status.idle": "2025-08-05T16:37:58.883319Z",
     "shell.execute_reply": "2025-08-05T16:37:58.882169Z"
    },
    "papermill": {
     "duration": 0.075352,
     "end_time": "2025-08-05T16:37:58.885411",
     "exception": false,
     "start_time": "2025-08-05T16:37:58.810059",
     "status": "completed"
    },
    "tags": []
   },
   "outputs": [
    {
     "name": "stdout",
     "output_type": "stream",
     "text": [
      "Dropping features: ['maxdeutsch1', 'maxdeutsch.Missing.', 'frau1']\n"
     ]
    }
   ],
   "source": [
    "if len(excluded_features_columns) > 0:\n",
    "    print(f\"Dropping features: {excluded_features_columns}\")\n",
    "    X_calib.drop(excluded_features_columns, axis=1, inplace=True)"
   ]
  },
  {
   "cell_type": "code",
   "execution_count": 25,
   "id": "76c4dc6d",
   "metadata": {
    "execution": {
     "iopub.execute_input": "2025-08-05T16:37:58.926606Z",
     "iopub.status.busy": "2025-08-05T16:37:58.926019Z",
     "iopub.status.idle": "2025-08-05T16:37:58.931367Z",
     "shell.execute_reply": "2025-08-05T16:37:58.930229Z"
    },
    "papermill": {
     "duration": 0.026936,
     "end_time": "2025-08-05T16:37:58.933154",
     "exception": false,
     "start_time": "2025-08-05T16:37:58.906218",
     "status": "completed"
    },
    "tags": []
   },
   "outputs": [],
   "source": [
    "# EXCLUDE CERTAIN SUBGROUPS\n",
    "# ----------------------\n",
    "\n",
    "mode = universe.get(\"exclude_subgroups\", \"keep-all\") \n",
    "# Fetches the exclude_subgroups setting from the universe dict.\n",
    "# Defaults to \"keep-all\" if the key is missing."
   ]
  },
  {
   "cell_type": "code",
   "execution_count": 26,
   "id": "21994072",
   "metadata": {
    "execution": {
     "iopub.execute_input": "2025-08-05T16:37:58.973495Z",
     "iopub.status.busy": "2025-08-05T16:37:58.973095Z",
     "iopub.status.idle": "2025-08-05T16:37:58.979685Z",
     "shell.execute_reply": "2025-08-05T16:37:58.978632Z"
    },
    "papermill": {
     "duration": 0.029296,
     "end_time": "2025-08-05T16:37:58.981658",
     "exception": false,
     "start_time": "2025-08-05T16:37:58.952362",
     "status": "completed"
    },
    "tags": []
   },
   "outputs": [],
   "source": [
    "if mode == \"keep-all\":\n",
    "    keep_mask = pd.Series(True, index=org_train.index)\n",
    "\n",
    "# org_train contains the original feature columns from features_org (in Simson)\n",
    "# features_org contains unprocessed features, for me X_train at beginning ???\n",
    "# For keep-all, creates a boolean Series (keep_mask) of all True, so no rows are removed.\n",
    "\n",
    "elif mode == \"drop-non-german\":\n",
    "    keep_mask = org_train[\"maxdeutsch1\"] == 1 # ??? what about missing values?\n",
    "\n",
    "else:\n",
    "    raise ValueError(f\"Unsupported mode for exclude_subgroups: {mode}\")"
   ]
  },
  {
   "cell_type": "code",
   "execution_count": 27,
   "id": "71651440",
   "metadata": {
    "execution": {
     "iopub.execute_input": "2025-08-05T16:37:59.023951Z",
     "iopub.status.busy": "2025-08-05T16:37:59.023079Z",
     "iopub.status.idle": "2025-08-05T16:37:59.030922Z",
     "shell.execute_reply": "2025-08-05T16:37:59.029854Z"
    },
    "papermill": {
     "duration": 0.031695,
     "end_time": "2025-08-05T16:37:59.032739",
     "exception": false,
     "start_time": "2025-08-05T16:37:59.001044",
     "status": "completed"
    },
    "tags": []
   },
   "outputs": [],
   "source": [
    "n_drop = (~keep_mask).sum() # Calculates how many rows are set to be dropped\n",
    "if n_drop > 0:\n",
    "    pct = n_drop / len(keep_mask) * 100\n",
    "    print(f\"Dropping {n_drop} rows ({pct:.2f}%) where mode='{mode}'\")"
   ]
  },
  {
   "cell_type": "code",
   "execution_count": 28,
   "id": "5fb8eee5",
   "metadata": {
    "execution": {
     "iopub.execute_input": "2025-08-05T16:37:59.074900Z",
     "iopub.status.busy": "2025-08-05T16:37:59.073906Z",
     "iopub.status.idle": "2025-08-05T16:37:59.080614Z",
     "shell.execute_reply": "2025-08-05T16:37:59.079559Z"
    },
    "papermill": {
     "duration": 0.02909,
     "end_time": "2025-08-05T16:37:59.082515",
     "exception": false,
     "start_time": "2025-08-05T16:37:59.053425",
     "status": "completed"
    },
    "tags": []
   },
   "outputs": [],
   "source": [
    "X_train = X_train[keep_mask]"
   ]
  },
  {
   "cell_type": "code",
   "execution_count": 29,
   "id": "b202bb3a",
   "metadata": {
    "execution": {
     "iopub.execute_input": "2025-08-05T16:37:59.125163Z",
     "iopub.status.busy": "2025-08-05T16:37:59.124186Z",
     "iopub.status.idle": "2025-08-05T16:37:59.130460Z",
     "shell.execute_reply": "2025-08-05T16:37:59.129412Z"
    },
    "papermill": {
     "duration": 0.028176,
     "end_time": "2025-08-05T16:37:59.132253",
     "exception": false,
     "start_time": "2025-08-05T16:37:59.104077",
     "status": "completed"
    },
    "tags": []
   },
   "outputs": [],
   "source": [
    "y_train = y_train[keep_mask]"
   ]
  },
  {
   "cell_type": "markdown",
   "id": "493e2ac3",
   "metadata": {
    "papermill": {
     "duration": 0.018908,
     "end_time": "2025-08-05T16:37:59.171381",
     "exception": false,
     "start_time": "2025-08-05T16:37:59.152473",
     "status": "completed"
    },
    "tags": []
   },
   "source": [
    "# Model Training"
   ]
  },
  {
   "cell_type": "code",
   "execution_count": 30,
   "id": "679e1268",
   "metadata": {
    "execution": {
     "iopub.execute_input": "2025-08-05T16:37:59.210527Z",
     "iopub.status.busy": "2025-08-05T16:37:59.209833Z",
     "iopub.status.idle": "2025-08-05T16:37:59.315545Z",
     "shell.execute_reply": "2025-08-05T16:37:59.314502Z"
    },
    "papermill": {
     "duration": 0.127491,
     "end_time": "2025-08-05T16:37:59.317731",
     "exception": false,
     "start_time": "2025-08-05T16:37:59.190240",
     "status": "completed"
    },
    "tags": []
   },
   "outputs": [],
   "source": [
    "from sklearn.linear_model import LogisticRegression\n",
    "from sklearn.ensemble import GradientBoostingClassifier, RandomForestClassifier\n",
    "\n",
    "if (universe[\"model\"] == \"logreg\"):\n",
    "    model = LogisticRegression() #penalty=\"none\", solver=\"newton-cg\", max_iter=1) # include random_state=19 ?\n",
    "elif (universe[\"model\"] == \"penalized_logreg\"):\n",
    "    model = LogisticRegression(penalty=\"l2\", C=0.1) #, solver=\"newton-cg\", max_iter=1)\n",
    "elif (universe[\"model\"] == \"rf\"):\n",
    "    model = RandomForestClassifier() # n_estimators=100, n_jobs=-1\n",
    "elif (universe[\"model\"] == \"gbm\"):\n",
    "    model = GradientBoostingClassifier()\n",
    "elif (universe[\"model\"] == \"elasticnet\"):\n",
    "    model = LogisticRegression(penalty = 'elasticnet', solver = 'saga', l1_ratio = 0.5) # max_iter=5000\n",
    "else:\n",
    "    raise \"Unsupported universe.model\""
   ]
  },
  {
   "cell_type": "code",
   "execution_count": 31,
   "id": "0cc8f744",
   "metadata": {
    "execution": {
     "iopub.execute_input": "2025-08-05T16:37:59.360645Z",
     "iopub.status.busy": "2025-08-05T16:37:59.359465Z",
     "iopub.status.idle": "2025-08-05T16:37:59.366445Z",
     "shell.execute_reply": "2025-08-05T16:37:59.365539Z"
    },
    "papermill": {
     "duration": 0.030436,
     "end_time": "2025-08-05T16:37:59.368036",
     "exception": false,
     "start_time": "2025-08-05T16:37:59.337600",
     "status": "completed"
    },
    "tags": []
   },
   "outputs": [],
   "source": [
    "import numpy as np\n",
    "from sklearn.pipeline import Pipeline\n",
    "from sklearn.preprocessing import StandardScaler\n",
    "\n",
    "model = Pipeline([\n",
    "    #(\"continuous_processor\", continuous_processor),\n",
    "    #(\"categorical_preprocessor\", categorical_preprocessor),\n",
    "    (\"scale\", StandardScaler() if universe[\"scale\"] == \"scale\" else None), \n",
    "    (\"model\", model),\n",
    "])"
   ]
  },
  {
   "cell_type": "code",
   "execution_count": 32,
   "id": "9442c04d",
   "metadata": {
    "execution": {
     "iopub.execute_input": "2025-08-05T16:37:59.409848Z",
     "iopub.status.busy": "2025-08-05T16:37:59.409167Z",
     "iopub.status.idle": "2025-08-05T16:37:59.831659Z",
     "shell.execute_reply": "2025-08-05T16:37:59.830687Z"
    },
    "papermill": {
     "duration": 0.444778,
     "end_time": "2025-08-05T16:37:59.833277",
     "exception": false,
     "start_time": "2025-08-05T16:37:59.388499",
     "status": "completed"
    },
    "tags": []
   },
   "outputs": [
    {
     "name": "stderr",
     "output_type": "stream",
     "text": [
      "/dss/dsshome1/0C/ra93lal2/.local/share/virtualenvs/CMA_Fairness_v2-3j10GkSs/lib/python3.10/site-packages/sklearn/linear_model/_sag.py:350: ConvergenceWarning: The max_iter was reached which means the coef_ did not converge\n",
      "  warnings.warn(\n"
     ]
    },
    {
     "data": {
      "text/html": [
       "<style>#sk-container-id-1 {color: black;background-color: white;}#sk-container-id-1 pre{padding: 0;}#sk-container-id-1 div.sk-toggleable {background-color: white;}#sk-container-id-1 label.sk-toggleable__label {cursor: pointer;display: block;width: 100%;margin-bottom: 0;padding: 0.3em;box-sizing: border-box;text-align: center;}#sk-container-id-1 label.sk-toggleable__label-arrow:before {content: \"▸\";float: left;margin-right: 0.25em;color: #696969;}#sk-container-id-1 label.sk-toggleable__label-arrow:hover:before {color: black;}#sk-container-id-1 div.sk-estimator:hover label.sk-toggleable__label-arrow:before {color: black;}#sk-container-id-1 div.sk-toggleable__content {max-height: 0;max-width: 0;overflow: hidden;text-align: left;background-color: #f0f8ff;}#sk-container-id-1 div.sk-toggleable__content pre {margin: 0.2em;color: black;border-radius: 0.25em;background-color: #f0f8ff;}#sk-container-id-1 input.sk-toggleable__control:checked~div.sk-toggleable__content {max-height: 200px;max-width: 100%;overflow: auto;}#sk-container-id-1 input.sk-toggleable__control:checked~label.sk-toggleable__label-arrow:before {content: \"▾\";}#sk-container-id-1 div.sk-estimator input.sk-toggleable__control:checked~label.sk-toggleable__label {background-color: #d4ebff;}#sk-container-id-1 div.sk-label input.sk-toggleable__control:checked~label.sk-toggleable__label {background-color: #d4ebff;}#sk-container-id-1 input.sk-hidden--visually {border: 0;clip: rect(1px 1px 1px 1px);clip: rect(1px, 1px, 1px, 1px);height: 1px;margin: -1px;overflow: hidden;padding: 0;position: absolute;width: 1px;}#sk-container-id-1 div.sk-estimator {font-family: monospace;background-color: #f0f8ff;border: 1px dotted black;border-radius: 0.25em;box-sizing: border-box;margin-bottom: 0.5em;}#sk-container-id-1 div.sk-estimator:hover {background-color: #d4ebff;}#sk-container-id-1 div.sk-parallel-item::after {content: \"\";width: 100%;border-bottom: 1px solid gray;flex-grow: 1;}#sk-container-id-1 div.sk-label:hover label.sk-toggleable__label {background-color: #d4ebff;}#sk-container-id-1 div.sk-serial::before {content: \"\";position: absolute;border-left: 1px solid gray;box-sizing: border-box;top: 0;bottom: 0;left: 50%;z-index: 0;}#sk-container-id-1 div.sk-serial {display: flex;flex-direction: column;align-items: center;background-color: white;padding-right: 0.2em;padding-left: 0.2em;position: relative;}#sk-container-id-1 div.sk-item {position: relative;z-index: 1;}#sk-container-id-1 div.sk-parallel {display: flex;align-items: stretch;justify-content: center;background-color: white;position: relative;}#sk-container-id-1 div.sk-item::before, #sk-container-id-1 div.sk-parallel-item::before {content: \"\";position: absolute;border-left: 1px solid gray;box-sizing: border-box;top: 0;bottom: 0;left: 50%;z-index: -1;}#sk-container-id-1 div.sk-parallel-item {display: flex;flex-direction: column;z-index: 1;position: relative;background-color: white;}#sk-container-id-1 div.sk-parallel-item:first-child::after {align-self: flex-end;width: 50%;}#sk-container-id-1 div.sk-parallel-item:last-child::after {align-self: flex-start;width: 50%;}#sk-container-id-1 div.sk-parallel-item:only-child::after {width: 0;}#sk-container-id-1 div.sk-dashed-wrapped {border: 1px dashed gray;margin: 0 0.4em 0.5em 0.4em;box-sizing: border-box;padding-bottom: 0.4em;background-color: white;}#sk-container-id-1 div.sk-label label {font-family: monospace;font-weight: bold;display: inline-block;line-height: 1.2em;}#sk-container-id-1 div.sk-label-container {text-align: center;}#sk-container-id-1 div.sk-container {/* jupyter's `normalize.less` sets `[hidden] { display: none; }` but bootstrap.min.css set `[hidden] { display: none !important; }` so we also need the `!important` here to be able to override the default hidden behavior on the sphinx rendered scikit-learn.org. See: https://github.com/scikit-learn/scikit-learn/issues/21755 */display: inline-block !important;position: relative;}#sk-container-id-1 div.sk-text-repr-fallback {display: none;}</style><div id=\"sk-container-id-1\" class=\"sk-top-container\"><div class=\"sk-text-repr-fallback\"><pre>Pipeline(steps=[(&#x27;scale&#x27;, StandardScaler()),\n",
       "                (&#x27;model&#x27;,\n",
       "                 LogisticRegression(l1_ratio=0.5, penalty=&#x27;elasticnet&#x27;,\n",
       "                                    solver=&#x27;saga&#x27;))])</pre><b>In a Jupyter environment, please rerun this cell to show the HTML representation or trust the notebook. <br />On GitHub, the HTML representation is unable to render, please try loading this page with nbviewer.org.</b></div><div class=\"sk-container\" hidden><div class=\"sk-item sk-dashed-wrapped\"><div class=\"sk-label-container\"><div class=\"sk-label sk-toggleable\"><input class=\"sk-toggleable__control sk-hidden--visually\" id=\"sk-estimator-id-1\" type=\"checkbox\" ><label for=\"sk-estimator-id-1\" class=\"sk-toggleable__label sk-toggleable__label-arrow\">Pipeline</label><div class=\"sk-toggleable__content\"><pre>Pipeline(steps=[(&#x27;scale&#x27;, StandardScaler()),\n",
       "                (&#x27;model&#x27;,\n",
       "                 LogisticRegression(l1_ratio=0.5, penalty=&#x27;elasticnet&#x27;,\n",
       "                                    solver=&#x27;saga&#x27;))])</pre></div></div></div><div class=\"sk-serial\"><div class=\"sk-item\"><div class=\"sk-estimator sk-toggleable\"><input class=\"sk-toggleable__control sk-hidden--visually\" id=\"sk-estimator-id-2\" type=\"checkbox\" ><label for=\"sk-estimator-id-2\" class=\"sk-toggleable__label sk-toggleable__label-arrow\">StandardScaler</label><div class=\"sk-toggleable__content\"><pre>StandardScaler()</pre></div></div></div><div class=\"sk-item\"><div class=\"sk-estimator sk-toggleable\"><input class=\"sk-toggleable__control sk-hidden--visually\" id=\"sk-estimator-id-3\" type=\"checkbox\" ><label for=\"sk-estimator-id-3\" class=\"sk-toggleable__label sk-toggleable__label-arrow\">LogisticRegression</label><div class=\"sk-toggleable__content\"><pre>LogisticRegression(l1_ratio=0.5, penalty=&#x27;elasticnet&#x27;, solver=&#x27;saga&#x27;)</pre></div></div></div></div></div></div></div>"
      ],
      "text/plain": [
       "Pipeline(steps=[('scale', StandardScaler()),\n",
       "                ('model',\n",
       "                 LogisticRegression(l1_ratio=0.5, penalty='elasticnet',\n",
       "                                    solver='saga'))])"
      ]
     },
     "execution_count": 32,
     "metadata": {},
     "output_type": "execute_result"
    }
   ],
   "source": [
    "model.fit(X_train, y_train.values.ravel())"
   ]
  },
  {
   "cell_type": "code",
   "execution_count": 33,
   "id": "af59f8c0",
   "metadata": {
    "execution": {
     "iopub.execute_input": "2025-08-05T16:37:59.875614Z",
     "iopub.status.busy": "2025-08-05T16:37:59.874947Z",
     "iopub.status.idle": "2025-08-05T16:37:59.880406Z",
     "shell.execute_reply": "2025-08-05T16:37:59.879396Z"
    },
    "papermill": {
     "duration": 0.028963,
     "end_time": "2025-08-05T16:37:59.882131",
     "exception": false,
     "start_time": "2025-08-05T16:37:59.853168",
     "status": "completed"
    },
    "tags": []
   },
   "outputs": [],
   "source": [
    "from fairness_multiverse.universe import predict_w_threshold"
   ]
  },
  {
   "cell_type": "code",
   "execution_count": 34,
   "id": "a7cf2e16",
   "metadata": {
    "execution": {
     "iopub.execute_input": "2025-08-05T16:37:59.925721Z",
     "iopub.status.busy": "2025-08-05T16:37:59.924885Z",
     "iopub.status.idle": "2025-08-05T16:38:00.117428Z",
     "shell.execute_reply": "2025-08-05T16:38:00.116519Z"
    },
    "papermill": {
     "duration": 0.216639,
     "end_time": "2025-08-05T16:38:00.119202",
     "exception": false,
     "start_time": "2025-08-05T16:37:59.902563",
     "status": "completed"
    },
    "tags": []
   },
   "outputs": [
    {
     "data": {
      "text/plain": [
       "0.8300635380671051"
      ]
     },
     "execution_count": 34,
     "metadata": {},
     "output_type": "execute_result"
    }
   ],
   "source": [
    "probs_test = model.predict_proba(X_test)\n",
    "\n",
    "'''\n",
    "Below code returns a boolean array (or binary 0/1 array depending on how it’s used) where each element \n",
    "is True if the probability of class 1 is greater than or equal to the threshold, and False otherwise.\n",
    "'''\n",
    "y_pred_default = predict_w_threshold(probs_test, 0.5)\n",
    "\n",
    "from sklearn.metrics import accuracy_score\n",
    "\n",
    "# Naive prediction\n",
    "accuracy_score(y_true = y_true, y_pred = y_pred_default)"
   ]
  },
  {
   "cell_type": "code",
   "execution_count": 35,
   "id": "081964c3",
   "metadata": {
    "execution": {
     "iopub.execute_input": "2025-08-05T16:38:00.162813Z",
     "iopub.status.busy": "2025-08-05T16:38:00.162124Z",
     "iopub.status.idle": "2025-08-05T16:38:00.336446Z",
     "shell.execute_reply": "2025-08-05T16:38:00.335740Z"
    },
    "papermill": {
     "duration": 0.198137,
     "end_time": "2025-08-05T16:38:00.337689",
     "exception": false,
     "start_time": "2025-08-05T16:38:00.139552",
     "status": "completed"
    },
    "tags": []
   },
   "outputs": [
    {
     "data": {
      "text/plain": [
       "array([0, 0, 0, ..., 0, 0, 0])"
      ]
     },
     "execution_count": 35,
     "metadata": {},
     "output_type": "execute_result"
    }
   ],
   "source": [
    "model.predict(X_test)"
   ]
  },
  {
   "cell_type": "markdown",
   "id": "56c9705b",
   "metadata": {
    "papermill": {
     "duration": 0.010043,
     "end_time": "2025-08-05T16:38:00.358365",
     "exception": false,
     "start_time": "2025-08-05T16:38:00.348322",
     "status": "completed"
    },
    "tags": []
   },
   "source": [
    "# Conformal Prediction"
   ]
  },
  {
   "cell_type": "code",
   "execution_count": 36,
   "id": "160ec6ff",
   "metadata": {
    "execution": {
     "iopub.execute_input": "2025-08-05T16:38:00.384401Z",
     "iopub.status.busy": "2025-08-05T16:38:00.383975Z",
     "iopub.status.idle": "2025-08-05T16:38:00.388179Z",
     "shell.execute_reply": "2025-08-05T16:38:00.387480Z"
    },
    "papermill": {
     "duration": 0.016753,
     "end_time": "2025-08-05T16:38:00.389567",
     "exception": false,
     "start_time": "2025-08-05T16:38:00.372814",
     "status": "completed"
    },
    "tags": []
   },
   "outputs": [],
   "source": [
    "# Miscoverage level for conformal prediction (10% allowed error rate => 90% target coverage)\n",
    "alpha = 0.1"
   ]
  },
  {
   "cell_type": "code",
   "execution_count": 37,
   "id": "eadf4555-3dd3-440e-8e35-f82a4ad9f855",
   "metadata": {
    "execution": {
     "iopub.execute_input": "2025-08-05T16:38:00.411763Z",
     "iopub.status.busy": "2025-08-05T16:38:00.411487Z",
     "iopub.status.idle": "2025-08-05T16:38:00.577055Z",
     "shell.execute_reply": "2025-08-05T16:38:00.576320Z"
    },
    "papermill": {
     "duration": 0.177714,
     "end_time": "2025-08-05T16:38:00.578548",
     "exception": false,
     "start_time": "2025-08-05T16:38:00.400834",
     "status": "completed"
    },
    "tags": []
   },
   "outputs": [],
   "source": [
    "probs_calib = model.predict_proba(X_calib)"
   ]
  },
  {
   "cell_type": "code",
   "execution_count": 38,
   "id": "2ed93547-6d5d-4983-9b36-1ecb300da49a",
   "metadata": {
    "execution": {
     "iopub.execute_input": "2025-08-05T16:38:00.602208Z",
     "iopub.status.busy": "2025-08-05T16:38:00.601896Z",
     "iopub.status.idle": "2025-08-05T16:38:00.606361Z",
     "shell.execute_reply": "2025-08-05T16:38:00.605521Z"
    },
    "papermill": {
     "duration": 0.017627,
     "end_time": "2025-08-05T16:38:00.607826",
     "exception": false,
     "start_time": "2025-08-05T16:38:00.590199",
     "status": "completed"
    },
    "tags": []
   },
   "outputs": [],
   "source": [
    "y_calib = y_calib.values.ravel().astype(int)"
   ]
  },
  {
   "cell_type": "code",
   "execution_count": 39,
   "id": "65d1320d-f588-4b38-9072-62af1ae97f7d",
   "metadata": {
    "execution": {
     "iopub.execute_input": "2025-08-05T16:38:00.630597Z",
     "iopub.status.busy": "2025-08-05T16:38:00.630288Z",
     "iopub.status.idle": "2025-08-05T16:38:00.636408Z",
     "shell.execute_reply": "2025-08-05T16:38:00.635688Z"
    },
    "papermill": {
     "duration": 0.018601,
     "end_time": "2025-08-05T16:38:00.637929",
     "exception": false,
     "start_time": "2025-08-05T16:38:00.619328",
     "status": "completed"
    },
    "tags": []
   },
   "outputs": [],
   "source": [
    "from fairness_multiverse.conformal import compute_nc_scores\n",
    "\n",
    "# Compute nonconformity scores on calibration set (1 - probability of true class)\n",
    "nc_scores = compute_nc_scores(probs_calib, y_calib)"
   ]
  },
  {
   "cell_type": "code",
   "execution_count": 40,
   "id": "df3b8ca3-53b7-43d5-9667-7c85da7aeda2",
   "metadata": {
    "execution": {
     "iopub.execute_input": "2025-08-05T16:38:00.662023Z",
     "iopub.status.busy": "2025-08-05T16:38:00.661303Z",
     "iopub.status.idle": "2025-08-05T16:38:00.667474Z",
     "shell.execute_reply": "2025-08-05T16:38:00.666757Z"
    },
    "papermill": {
     "duration": 0.019432,
     "end_time": "2025-08-05T16:38:00.668966",
     "exception": false,
     "start_time": "2025-08-05T16:38:00.649534",
     "status": "completed"
    },
    "tags": []
   },
   "outputs": [],
   "source": [
    "from fairness_multiverse.conformal import find_threshold\n",
    "\n",
    "# Find conformal threshold q_hat for the given alpha (split conformal method)\n",
    "q_hat = find_threshold(nc_scores, alpha)"
   ]
  },
  {
   "cell_type": "code",
   "execution_count": 41,
   "id": "4d29e6c1-0ef6-4aa4-b8fe-4fe79b0d033a",
   "metadata": {
    "execution": {
     "iopub.execute_input": "2025-08-05T16:38:00.692821Z",
     "iopub.status.busy": "2025-08-05T16:38:00.692011Z",
     "iopub.status.idle": "2025-08-05T16:38:00.698175Z",
     "shell.execute_reply": "2025-08-05T16:38:00.697389Z"
    },
    "papermill": {
     "duration": 0.019039,
     "end_time": "2025-08-05T16:38:00.699655",
     "exception": false,
     "start_time": "2025-08-05T16:38:00.680616",
     "status": "completed"
    },
    "tags": []
   },
   "outputs": [
    {
     "data": {
      "text/plain": [
       "0.7414648589804869"
      ]
     },
     "execution_count": 41,
     "metadata": {},
     "output_type": "execute_result"
    }
   ],
   "source": [
    "q_hat"
   ]
  },
  {
   "cell_type": "code",
   "execution_count": 42,
   "id": "92460794-cdac-4be2-ba28-f28c0515a6fb",
   "metadata": {
    "execution": {
     "iopub.execute_input": "2025-08-05T16:38:00.723583Z",
     "iopub.status.busy": "2025-08-05T16:38:00.722899Z",
     "iopub.status.idle": "2025-08-05T16:38:01.428701Z",
     "shell.execute_reply": "2025-08-05T16:38:01.427952Z"
    },
    "papermill": {
     "duration": 0.718443,
     "end_time": "2025-08-05T16:38:01.430071",
     "exception": false,
     "start_time": "2025-08-05T16:38:00.711628",
     "status": "completed"
    },
    "tags": []
   },
   "outputs": [],
   "source": [
    "from fairness_multiverse.conformal import predict_conformal_sets\n",
    "\n",
    "# Generate prediction sets for each test example\n",
    "pred_sets = predict_conformal_sets(model, X_test, q_hat)"
   ]
  },
  {
   "cell_type": "code",
   "execution_count": 43,
   "id": "d90c9a65-e6db-4f5d-80cd-e68fb7e46829",
   "metadata": {
    "execution": {
     "iopub.execute_input": "2025-08-05T16:38:01.452362Z",
     "iopub.status.busy": "2025-08-05T16:38:01.451872Z",
     "iopub.status.idle": "2025-08-05T16:38:01.457885Z",
     "shell.execute_reply": "2025-08-05T16:38:01.457042Z"
    },
    "papermill": {
     "duration": 0.018093,
     "end_time": "2025-08-05T16:38:01.459194",
     "exception": false,
     "start_time": "2025-08-05T16:38:01.441101",
     "status": "completed"
    },
    "tags": []
   },
   "outputs": [],
   "source": [
    "y_true = y_true.squeeze()"
   ]
  },
  {
   "cell_type": "code",
   "execution_count": 44,
   "id": "3a58a54a-1e68-46b9-927a-df01f18aebc8",
   "metadata": {
    "execution": {
     "iopub.execute_input": "2025-08-05T16:38:01.482437Z",
     "iopub.status.busy": "2025-08-05T16:38:01.481950Z",
     "iopub.status.idle": "2025-08-05T16:38:01.979289Z",
     "shell.execute_reply": "2025-08-05T16:38:01.978534Z"
    },
    "papermill": {
     "duration": 0.509699,
     "end_time": "2025-08-05T16:38:01.980785",
     "exception": false,
     "start_time": "2025-08-05T16:38:01.471086",
     "status": "completed"
    },
    "tags": []
   },
   "outputs": [],
   "source": [
    "from fairness_multiverse.conformal import evaluate_sets\n",
    "\n",
    "# Evaluate coverage and average set size on test data\n",
    "metrics = evaluate_sets(pred_sets, y_true)"
   ]
  },
  {
   "cell_type": "markdown",
   "id": "2b569c12-9aaa-4c88-98c9-bbcd0cf3ebb8",
   "metadata": {
    "papermill": {
     "duration": 0.011074,
     "end_time": "2025-08-05T16:38:02.003679",
     "exception": false,
     "start_time": "2025-08-05T16:38:01.992605",
     "status": "completed"
    },
    "tags": []
   },
   "source": [
    "# CP Metrics"
   ]
  },
  {
   "cell_type": "code",
   "execution_count": 45,
   "id": "5ce0a5cb-201f-45a0-ade5-94c7f0bd6095",
   "metadata": {
    "execution": {
     "iopub.execute_input": "2025-08-05T16:38:02.026703Z",
     "iopub.status.busy": "2025-08-05T16:38:02.025923Z",
     "iopub.status.idle": "2025-08-05T16:38:02.032158Z",
     "shell.execute_reply": "2025-08-05T16:38:02.031417Z"
    },
    "papermill": {
     "duration": 0.019052,
     "end_time": "2025-08-05T16:38:02.033581",
     "exception": false,
     "start_time": "2025-08-05T16:38:02.014529",
     "status": "completed"
    },
    "tags": []
   },
   "outputs": [
    {
     "data": {
      "text/plain": [
       "{'coverage': 0.9085386244565823, 'avg_size': 1.2083825660461487}"
      ]
     },
     "execution_count": 45,
     "metadata": {},
     "output_type": "execute_result"
    }
   ],
   "source": [
    "metrics"
   ]
  },
  {
   "cell_type": "code",
   "execution_count": 46,
   "id": "9b9a838d-31c9-430b-ae14-12baee460d17",
   "metadata": {
    "execution": {
     "iopub.execute_input": "2025-08-05T16:38:02.056469Z",
     "iopub.status.busy": "2025-08-05T16:38:02.055992Z",
     "iopub.status.idle": "2025-08-05T16:38:02.061050Z",
     "shell.execute_reply": "2025-08-05T16:38:02.060247Z"
    },
    "papermill": {
     "duration": 0.017435,
     "end_time": "2025-08-05T16:38:02.062461",
     "exception": false,
     "start_time": "2025-08-05T16:38:02.045026",
     "status": "completed"
    },
    "tags": []
   },
   "outputs": [],
   "source": [
    "example_universe = universe.copy()\n",
    "universe_training_year = example_universe.get(\"training_year\")\n",
    "universe_training_size = example_universe.get(\"training_size\")\n",
    "universe_scale = example_universe.get(\"scale\")\n",
    "universe_model = example_universe.get(\"model\")\n",
    "universe_exclude_features = example_universe.get(\"exclude_features\")\n",
    "universe_exclude_subgroups = example_universe.get(\"exclude_subgroups\")"
   ]
  },
  {
   "cell_type": "code",
   "execution_count": 47,
   "id": "f4b6a8ac-9dc0-4245-8a91-5b3b5999c4f9",
   "metadata": {
    "execution": {
     "iopub.execute_input": "2025-08-05T16:38:02.085590Z",
     "iopub.status.busy": "2025-08-05T16:38:02.085097Z",
     "iopub.status.idle": "2025-08-05T16:38:02.089704Z",
     "shell.execute_reply": "2025-08-05T16:38:02.088860Z"
    },
    "papermill": {
     "duration": 0.016937,
     "end_time": "2025-08-05T16:38:02.091117",
     "exception": false,
     "start_time": "2025-08-05T16:38:02.074180",
     "status": "completed"
    },
    "tags": []
   },
   "outputs": [],
   "source": [
    "cp_metrics_dict = {\n",
    "    \"universe_id\": [universe_id],\n",
    "    \"universe_training_year\": [universe_training_year],\n",
    "    \"universe_training_size\": [universe_training_size],\n",
    "    \"universe_scale\": [universe_scale],\n",
    "    \"universe_model\": [universe_model],\n",
    "    \"universe_exclude_features\": [universe_exclude_features],\n",
    "    \"universe_exclude_subgroups\": [universe_exclude_subgroups],\n",
    "    \"q_hat\": [q_hat],\n",
    "    \"coverage\": [metrics[\"coverage\"]],\n",
    "    \"avg_size\": [metrics[\"avg_size\"]],\n",
    "}"
   ]
  },
  {
   "cell_type": "code",
   "execution_count": 48,
   "id": "908acbb1-0371-4915-85ca-3fa520d2efe2",
   "metadata": {
    "execution": {
     "iopub.execute_input": "2025-08-05T16:38:02.114386Z",
     "iopub.status.busy": "2025-08-05T16:38:02.113908Z",
     "iopub.status.idle": "2025-08-05T16:38:02.120124Z",
     "shell.execute_reply": "2025-08-05T16:38:02.119364Z"
    },
    "papermill": {
     "duration": 0.018713,
     "end_time": "2025-08-05T16:38:02.121558",
     "exception": false,
     "start_time": "2025-08-05T16:38:02.102845",
     "status": "completed"
    },
    "tags": []
   },
   "outputs": [
    {
     "data": {
      "text/plain": [
       "{'universe_id': ['b80749829f4cae62e2d5e0f58540c16c'],\n",
       " 'universe_training_year': ['2010_14'],\n",
       " 'universe_training_size': ['1k'],\n",
       " 'universe_scale': ['scale'],\n",
       " 'universe_model': ['elasticnet'],\n",
       " 'universe_exclude_features': ['nationality-sex'],\n",
       " 'universe_exclude_subgroups': ['keep-all'],\n",
       " 'q_hat': [0.7414648589804869],\n",
       " 'coverage': [0.9085386244565823],\n",
       " 'avg_size': [1.2083825660461487]}"
      ]
     },
     "execution_count": 48,
     "metadata": {},
     "output_type": "execute_result"
    }
   ],
   "source": [
    "cp_metrics_dict"
   ]
  },
  {
   "cell_type": "code",
   "execution_count": 49,
   "id": "33007efc-14e9-4ec6-97ac-56a455c82265",
   "metadata": {
    "execution": {
     "iopub.execute_input": "2025-08-05T16:38:02.144626Z",
     "iopub.status.busy": "2025-08-05T16:38:02.144036Z",
     "iopub.status.idle": "2025-08-05T16:38:02.149063Z",
     "shell.execute_reply": "2025-08-05T16:38:02.148261Z"
    },
    "papermill": {
     "duration": 0.017572,
     "end_time": "2025-08-05T16:38:02.150538",
     "exception": false,
     "start_time": "2025-08-05T16:38:02.132966",
     "status": "completed"
    },
    "tags": []
   },
   "outputs": [],
   "source": [
    "cp_metrics_df = pd.DataFrame(cp_metrics_dict)"
   ]
  },
  {
   "cell_type": "code",
   "execution_count": 50,
   "id": "db12611b-57b2-4910-b9d0-355adfd6e7bf",
   "metadata": {
    "execution": {
     "iopub.execute_input": "2025-08-05T16:38:02.175249Z",
     "iopub.status.busy": "2025-08-05T16:38:02.174733Z",
     "iopub.status.idle": "2025-08-05T16:38:02.193380Z",
     "shell.execute_reply": "2025-08-05T16:38:02.192653Z"
    },
    "papermill": {
     "duration": 0.032494,
     "end_time": "2025-08-05T16:38:02.195232",
     "exception": false,
     "start_time": "2025-08-05T16:38:02.162738",
     "status": "completed"
    },
    "tags": []
   },
   "outputs": [
    {
     "data": {
      "text/html": [
       "<div>\n",
       "<style scoped>\n",
       "    .dataframe tbody tr th:only-of-type {\n",
       "        vertical-align: middle;\n",
       "    }\n",
       "\n",
       "    .dataframe tbody tr th {\n",
       "        vertical-align: top;\n",
       "    }\n",
       "\n",
       "    .dataframe thead th {\n",
       "        text-align: right;\n",
       "    }\n",
       "</style>\n",
       "<table border=\"1\" class=\"dataframe\">\n",
       "  <thead>\n",
       "    <tr style=\"text-align: right;\">\n",
       "      <th></th>\n",
       "      <th>universe_id</th>\n",
       "      <th>universe_training_year</th>\n",
       "      <th>universe_training_size</th>\n",
       "      <th>universe_scale</th>\n",
       "      <th>universe_model</th>\n",
       "      <th>universe_exclude_features</th>\n",
       "      <th>universe_exclude_subgroups</th>\n",
       "      <th>q_hat</th>\n",
       "      <th>coverage</th>\n",
       "      <th>avg_size</th>\n",
       "    </tr>\n",
       "  </thead>\n",
       "  <tbody>\n",
       "    <tr>\n",
       "      <th>0</th>\n",
       "      <td>b80749829f4cae62e2d5e0f58540c16c</td>\n",
       "      <td>2010_14</td>\n",
       "      <td>1k</td>\n",
       "      <td>scale</td>\n",
       "      <td>elasticnet</td>\n",
       "      <td>nationality-sex</td>\n",
       "      <td>keep-all</td>\n",
       "      <td>0.741465</td>\n",
       "      <td>0.908539</td>\n",
       "      <td>1.208383</td>\n",
       "    </tr>\n",
       "  </tbody>\n",
       "</table>\n",
       "</div>"
      ],
      "text/plain": [
       "                        universe_id universe_training_year  \\\n",
       "0  b80749829f4cae62e2d5e0f58540c16c                2010_14   \n",
       "\n",
       "  universe_training_size universe_scale universe_model  \\\n",
       "0                     1k          scale     elasticnet   \n",
       "\n",
       "  universe_exclude_features universe_exclude_subgroups     q_hat  coverage  \\\n",
       "0           nationality-sex                   keep-all  0.741465  0.908539   \n",
       "\n",
       "   avg_size  \n",
       "0  1.208383  "
      ]
     },
     "execution_count": 50,
     "metadata": {},
     "output_type": "execute_result"
    }
   ],
   "source": [
    "cp_metrics_df"
   ]
  },
  {
   "cell_type": "code",
   "execution_count": 51,
   "id": "b7fbde55-a0a1-47e4-9af6-fe4a17fa8c61",
   "metadata": {
    "execution": {
     "iopub.execute_input": "2025-08-05T16:38:02.247095Z",
     "iopub.status.busy": "2025-08-05T16:38:02.246568Z",
     "iopub.status.idle": "2025-08-05T16:38:02.252378Z",
     "shell.execute_reply": "2025-08-05T16:38:02.251312Z"
    },
    "papermill": {
     "duration": 0.033519,
     "end_time": "2025-08-05T16:38:02.254584",
     "exception": false,
     "start_time": "2025-08-05T16:38:02.221065",
     "status": "completed"
    },
    "tags": []
   },
   "outputs": [],
   "source": [
    "# Conditional Coverage & looking at subgroups"
   ]
  },
  {
   "cell_type": "code",
   "execution_count": 52,
   "id": "027ae886-68dd-4141-96c7-805a5450e1ef",
   "metadata": {
    "execution": {
     "iopub.execute_input": "2025-08-05T16:38:02.305075Z",
     "iopub.status.busy": "2025-08-05T16:38:02.304781Z",
     "iopub.status.idle": "2025-08-05T16:38:02.548978Z",
     "shell.execute_reply": "2025-08-05T16:38:02.548034Z"
    },
    "papermill": {
     "duration": 0.271105,
     "end_time": "2025-08-05T16:38:02.551053",
     "exception": false,
     "start_time": "2025-08-05T16:38:02.279948",
     "status": "completed"
    },
    "tags": []
   },
   "outputs": [],
   "source": [
    "from fairness_multiverse.conformal import build_cp_groups\n",
    "\n",
    "cp_groups_df = build_cp_groups(pred_sets, y_true, X_test.index, org_test)\n",
    "#needs universe_id and setting"
   ]
  },
  {
   "cell_type": "code",
   "execution_count": 53,
   "id": "6cbdab96-b2b2-45af-ad54-d0516db2e28d",
   "metadata": {
    "execution": {
     "iopub.execute_input": "2025-08-05T16:38:02.595804Z",
     "iopub.status.busy": "2025-08-05T16:38:02.594807Z",
     "iopub.status.idle": "2025-08-05T16:38:04.085864Z",
     "shell.execute_reply": "2025-08-05T16:38:04.084818Z"
    },
    "papermill": {
     "duration": 1.514857,
     "end_time": "2025-08-05T16:38:04.087822",
     "exception": false,
     "start_time": "2025-08-05T16:38:02.572965",
     "status": "completed"
    },
    "tags": []
   },
   "outputs": [],
   "source": [
    "# Define covered = 1 if true_label is in the predicted set\n",
    "cp_groups_df['covered'] = cp_groups_df.apply(\n",
    "    lambda r: int(r['true_label'] in r['pred_set']),\n",
    "    axis=1\n",
    ")"
   ]
  },
  {
   "cell_type": "code",
   "execution_count": 54,
   "id": "338ff529-1a6b-4b87-a931-8e4788d52aad",
   "metadata": {
    "execution": {
     "iopub.execute_input": "2025-08-05T16:38:04.136402Z",
     "iopub.status.busy": "2025-08-05T16:38:04.135981Z",
     "iopub.status.idle": "2025-08-05T16:38:04.142221Z",
     "shell.execute_reply": "2025-08-05T16:38:04.141215Z"
    },
    "papermill": {
     "duration": 0.033526,
     "end_time": "2025-08-05T16:38:04.144381",
     "exception": false,
     "start_time": "2025-08-05T16:38:04.110855",
     "status": "completed"
    },
    "tags": []
   },
   "outputs": [],
   "source": [
    "#cp_groups_df"
   ]
  },
  {
   "cell_type": "code",
   "execution_count": 55,
   "id": "90032e27-66df-4540-9169-4e89cfbaa758",
   "metadata": {
    "execution": {
     "iopub.execute_input": "2025-08-05T16:38:04.192086Z",
     "iopub.status.busy": "2025-08-05T16:38:04.191675Z",
     "iopub.status.idle": "2025-08-05T16:38:04.203158Z",
     "shell.execute_reply": "2025-08-05T16:38:04.202193Z"
    },
    "papermill": {
     "duration": 0.037612,
     "end_time": "2025-08-05T16:38:04.205017",
     "exception": false,
     "start_time": "2025-08-05T16:38:04.167405",
     "status": "completed"
    },
    "tags": []
   },
   "outputs": [],
   "source": [
    "subgroups = ['frau1','nongerman','nongerman_male','nongerman_female']\n",
    "\n",
    "# Conditional coverage for subgroup==1\n",
    "cond_coverage = {\n",
    "    g: cp_groups_df.loc[cp_groups_df[g]==1, 'covered'].mean()\n",
    "    for g in subgroups\n",
    "}"
   ]
  },
  {
   "cell_type": "code",
   "execution_count": 56,
   "id": "1e348fb1-b9c3-45bc-ba23-f016827a7e0d",
   "metadata": {
    "execution": {
     "iopub.execute_input": "2025-08-05T16:38:04.253268Z",
     "iopub.status.busy": "2025-08-05T16:38:04.252538Z",
     "iopub.status.idle": "2025-08-05T16:38:04.259939Z",
     "shell.execute_reply": "2025-08-05T16:38:04.258921Z"
    },
    "papermill": {
     "duration": 0.032918,
     "end_time": "2025-08-05T16:38:04.261960",
     "exception": false,
     "start_time": "2025-08-05T16:38:04.229042",
     "status": "completed"
    },
    "tags": []
   },
   "outputs": [
    {
     "data": {
      "text/plain": [
       "{'frau1': 0.9092600080873433,\n",
       " 'nongerman': 0.9153427272216921,\n",
       " 'nongerman_male': 0.9291182563271188,\n",
       " 'nongerman_female': 0.892548435171386}"
      ]
     },
     "execution_count": 56,
     "metadata": {},
     "output_type": "execute_result"
    }
   ],
   "source": [
    "cond_coverage"
   ]
  },
  {
   "cell_type": "code",
   "execution_count": 57,
   "id": "f5093324-c3dd-4d63-bc4c-8d945e5c8bbb",
   "metadata": {
    "execution": {
     "iopub.execute_input": "2025-08-05T16:38:04.307135Z",
     "iopub.status.busy": "2025-08-05T16:38:04.306147Z",
     "iopub.status.idle": "2025-08-05T16:38:04.313968Z",
     "shell.execute_reply": "2025-08-05T16:38:04.312871Z"
    },
    "papermill": {
     "duration": 0.032831,
     "end_time": "2025-08-05T16:38:04.316155",
     "exception": false,
     "start_time": "2025-08-05T16:38:04.283324",
     "status": "completed"
    },
    "tags": []
   },
   "outputs": [],
   "source": [
    "for subgroup, cov in cond_coverage.items():\n",
    "    cp_metrics_df[f\"cov_{subgroup}\"] = cov"
   ]
  },
  {
   "cell_type": "code",
   "execution_count": 58,
   "id": "6e872e10-dbe5-49e8-b554-5030c98ff75d",
   "metadata": {
    "execution": {
     "iopub.execute_input": "2025-08-05T16:38:04.376145Z",
     "iopub.status.busy": "2025-08-05T16:38:04.375797Z",
     "iopub.status.idle": "2025-08-05T16:38:04.390223Z",
     "shell.execute_reply": "2025-08-05T16:38:04.389559Z"
    },
    "papermill": {
     "duration": 0.050702,
     "end_time": "2025-08-05T16:38:04.391856",
     "exception": false,
     "start_time": "2025-08-05T16:38:04.341154",
     "status": "completed"
    },
    "tags": []
   },
   "outputs": [
    {
     "data": {
      "text/html": [
       "<div>\n",
       "<style scoped>\n",
       "    .dataframe tbody tr th:only-of-type {\n",
       "        vertical-align: middle;\n",
       "    }\n",
       "\n",
       "    .dataframe tbody tr th {\n",
       "        vertical-align: top;\n",
       "    }\n",
       "\n",
       "    .dataframe thead th {\n",
       "        text-align: right;\n",
       "    }\n",
       "</style>\n",
       "<table border=\"1\" class=\"dataframe\">\n",
       "  <thead>\n",
       "    <tr style=\"text-align: right;\">\n",
       "      <th></th>\n",
       "      <th>universe_id</th>\n",
       "      <th>universe_training_year</th>\n",
       "      <th>universe_training_size</th>\n",
       "      <th>universe_scale</th>\n",
       "      <th>universe_model</th>\n",
       "      <th>universe_exclude_features</th>\n",
       "      <th>universe_exclude_subgroups</th>\n",
       "      <th>q_hat</th>\n",
       "      <th>coverage</th>\n",
       "      <th>avg_size</th>\n",
       "      <th>cov_frau1</th>\n",
       "      <th>cov_nongerman</th>\n",
       "      <th>cov_nongerman_male</th>\n",
       "      <th>cov_nongerman_female</th>\n",
       "    </tr>\n",
       "  </thead>\n",
       "  <tbody>\n",
       "    <tr>\n",
       "      <th>0</th>\n",
       "      <td>b80749829f4cae62e2d5e0f58540c16c</td>\n",
       "      <td>2010_14</td>\n",
       "      <td>1k</td>\n",
       "      <td>scale</td>\n",
       "      <td>elasticnet</td>\n",
       "      <td>nationality-sex</td>\n",
       "      <td>keep-all</td>\n",
       "      <td>0.741465</td>\n",
       "      <td>0.908539</td>\n",
       "      <td>1.208383</td>\n",
       "      <td>0.90926</td>\n",
       "      <td>0.915343</td>\n",
       "      <td>0.929118</td>\n",
       "      <td>0.892548</td>\n",
       "    </tr>\n",
       "  </tbody>\n",
       "</table>\n",
       "</div>"
      ],
      "text/plain": [
       "                        universe_id universe_training_year  \\\n",
       "0  b80749829f4cae62e2d5e0f58540c16c                2010_14   \n",
       "\n",
       "  universe_training_size universe_scale universe_model  \\\n",
       "0                     1k          scale     elasticnet   \n",
       "\n",
       "  universe_exclude_features universe_exclude_subgroups     q_hat  coverage  \\\n",
       "0           nationality-sex                   keep-all  0.741465  0.908539   \n",
       "\n",
       "   avg_size  cov_frau1  cov_nongerman  cov_nongerman_male  \\\n",
       "0  1.208383    0.90926       0.915343            0.929118   \n",
       "\n",
       "   cov_nongerman_female  \n",
       "0              0.892548  "
      ]
     },
     "execution_count": 58,
     "metadata": {},
     "output_type": "execute_result"
    }
   ],
   "source": [
    "cp_metrics_df"
   ]
  },
  {
   "cell_type": "markdown",
   "id": "33774451",
   "metadata": {
    "papermill": {
     "duration": 0.025158,
     "end_time": "2025-08-05T16:38:04.444027",
     "exception": false,
     "start_time": "2025-08-05T16:38:04.418869",
     "status": "completed"
    },
    "tags": []
   },
   "source": [
    "# (Fairness) Metrics"
   ]
  },
  {
   "cell_type": "code",
   "execution_count": 59,
   "id": "debc5d62",
   "metadata": {
    "execution": {
     "iopub.execute_input": "2025-08-05T16:38:04.495855Z",
     "iopub.status.busy": "2025-08-05T16:38:04.495360Z",
     "iopub.status.idle": "2025-08-05T16:38:04.515818Z",
     "shell.execute_reply": "2025-08-05T16:38:04.514680Z"
    },
    "papermill": {
     "duration": 0.049023,
     "end_time": "2025-08-05T16:38:04.517926",
     "exception": false,
     "start_time": "2025-08-05T16:38:04.468903",
     "status": "completed"
    },
    "tags": []
   },
   "outputs": [],
   "source": [
    "# do I need to include maxdeutsch1.missing?\n",
    "\n",
    "import numpy as np\n",
    "\n",
    "colname_to_bin = \"maxdeutsch1\"\n",
    "majority_value = org_train[colname_to_bin].mode()[0]\n",
    "\n",
    "org_test[\"majmin\"] = np.where(org_test[colname_to_bin] == majority_value, \"majority\", \"minority\")"
   ]
  },
  {
   "cell_type": "code",
   "execution_count": 60,
   "id": "06a50de5",
   "metadata": {
    "execution": {
     "iopub.execute_input": "2025-08-05T16:38:04.572507Z",
     "iopub.status.busy": "2025-08-05T16:38:04.571541Z",
     "iopub.status.idle": "2025-08-05T16:38:06.618722Z",
     "shell.execute_reply": "2025-08-05T16:38:06.617971Z"
    },
    "papermill": {
     "duration": 2.075274,
     "end_time": "2025-08-05T16:38:06.620159",
     "exception": false,
     "start_time": "2025-08-05T16:38:04.544885",
     "status": "completed"
    },
    "tags": []
   },
   "outputs": [],
   "source": [
    "example_universe = universe.copy()\n",
    "example_universe[\"cutoff\"] = example_universe[\"cutoff\"][0]\n",
    "example_universe[\"eval_fairness_grouping\"] = example_universe[\"eval_fairness_grouping\"][0]\n",
    "fairness_dict, metric_frame = universe_analysis.compute_metrics(\n",
    "    example_universe,\n",
    "    y_pred_prob=probs_test,\n",
    "    y_test=y_true,\n",
    "    org_test=org_test,\n",
    ")"
   ]
  },
  {
   "cell_type": "markdown",
   "id": "f95d4e02",
   "metadata": {
    "papermill": {
     "duration": 0.011179,
     "end_time": "2025-08-05T16:38:06.643773",
     "exception": false,
     "start_time": "2025-08-05T16:38:06.632594",
     "status": "completed"
    },
    "tags": []
   },
   "source": [
    "# Overall"
   ]
  },
  {
   "cell_type": "markdown",
   "id": "bdee4871",
   "metadata": {
    "papermill": {
     "duration": 0.011274,
     "end_time": "2025-08-05T16:38:06.666091",
     "exception": false,
     "start_time": "2025-08-05T16:38:06.654817",
     "status": "completed"
    },
    "tags": []
   },
   "source": [
    "Fairness\n",
    "Main fairness target: Equalized Odds. Seems to be a better fit than equal opportunity, since we're not only interested in Y = 1. Seems to be a better fit than demographic parity, since we also care about accuracy, not just equal distribution of preds.\n",
    "\n",
    "Pick column for computation of fairness metrics\n",
    "\n",
    "Performance\n",
    "Overall performance measures, most interesting in relation to the measures split by group below"
   ]
  },
  {
   "cell_type": "code",
   "execution_count": 61,
   "id": "c4e067c6",
   "metadata": {
    "execution": {
     "iopub.execute_input": "2025-08-05T16:38:06.689722Z",
     "iopub.status.busy": "2025-08-05T16:38:06.689075Z",
     "iopub.status.idle": "2025-08-05T16:38:06.695951Z",
     "shell.execute_reply": "2025-08-05T16:38:06.695011Z"
    },
    "papermill": {
     "duration": 0.020573,
     "end_time": "2025-08-05T16:38:06.697760",
     "exception": false,
     "start_time": "2025-08-05T16:38:06.677187",
     "status": "completed"
    },
    "tags": []
   },
   "outputs": [
    {
     "data": {
      "text/plain": [
       "accuracy                   0.219496\n",
       "balanced accuracy          0.537720\n",
       "f1                         0.240962\n",
       "precision                  0.137653\n",
       "false positive rate        0.890322\n",
       "false negative rate        0.034237\n",
       "selection rate             0.900000\n",
       "count                  89710.000000\n",
       "dtype: float64"
      ]
     },
     "execution_count": 61,
     "metadata": {},
     "output_type": "execute_result"
    }
   ],
   "source": [
    "metric_frame.overall"
   ]
  },
  {
   "cell_type": "markdown",
   "id": "e968fe9d",
   "metadata": {
    "papermill": {
     "duration": 0.023444,
     "end_time": "2025-08-05T16:38:06.746745",
     "exception": false,
     "start_time": "2025-08-05T16:38:06.723301",
     "status": "completed"
    },
    "tags": []
   },
   "source": [
    "By Group"
   ]
  },
  {
   "cell_type": "code",
   "execution_count": 62,
   "id": "ec325bce",
   "metadata": {
    "execution": {
     "iopub.execute_input": "2025-08-05T16:38:06.794512Z",
     "iopub.status.busy": "2025-08-05T16:38:06.793808Z",
     "iopub.status.idle": "2025-08-05T16:38:06.811171Z",
     "shell.execute_reply": "2025-08-05T16:38:06.809840Z"
    },
    "papermill": {
     "duration": 0.043269,
     "end_time": "2025-08-05T16:38:06.812986",
     "exception": false,
     "start_time": "2025-08-05T16:38:06.769717",
     "status": "completed"
    },
    "tags": []
   },
   "outputs": [
    {
     "data": {
      "text/html": [
       "<div>\n",
       "<style scoped>\n",
       "    .dataframe tbody tr th:only-of-type {\n",
       "        vertical-align: middle;\n",
       "    }\n",
       "\n",
       "    .dataframe tbody tr th {\n",
       "        vertical-align: top;\n",
       "    }\n",
       "\n",
       "    .dataframe thead th {\n",
       "        text-align: right;\n",
       "    }\n",
       "</style>\n",
       "<table border=\"1\" class=\"dataframe\">\n",
       "  <thead>\n",
       "    <tr style=\"text-align: right;\">\n",
       "      <th></th>\n",
       "      <th>accuracy</th>\n",
       "      <th>balanced accuracy</th>\n",
       "      <th>f1</th>\n",
       "      <th>precision</th>\n",
       "      <th>false positive rate</th>\n",
       "      <th>false negative rate</th>\n",
       "      <th>selection rate</th>\n",
       "      <th>count</th>\n",
       "    </tr>\n",
       "    <tr>\n",
       "      <th>majmin</th>\n",
       "      <th></th>\n",
       "      <th></th>\n",
       "      <th></th>\n",
       "      <th></th>\n",
       "      <th></th>\n",
       "      <th></th>\n",
       "      <th></th>\n",
       "      <th></th>\n",
       "    </tr>\n",
       "  </thead>\n",
       "  <tbody>\n",
       "    <tr>\n",
       "      <th>majority</th>\n",
       "      <td>0.232688</td>\n",
       "      <td>0.54244</td>\n",
       "      <td>0.249155</td>\n",
       "      <td>0.143078</td>\n",
       "      <td>0.878577</td>\n",
       "      <td>0.036543</td>\n",
       "      <td>0.889793</td>\n",
       "      <td>69170.0</td>\n",
       "    </tr>\n",
       "    <tr>\n",
       "      <th>minority</th>\n",
       "      <td>0.175073</td>\n",
       "      <td>0.52277</td>\n",
       "      <td>0.214100</td>\n",
       "      <td>0.120258</td>\n",
       "      <td>0.929122</td>\n",
       "      <td>0.025338</td>\n",
       "      <td>0.934372</td>\n",
       "      <td>20540.0</td>\n",
       "    </tr>\n",
       "  </tbody>\n",
       "</table>\n",
       "</div>"
      ],
      "text/plain": [
       "          accuracy  balanced accuracy        f1  precision  \\\n",
       "majmin                                                       \n",
       "majority  0.232688            0.54244  0.249155   0.143078   \n",
       "minority  0.175073            0.52277  0.214100   0.120258   \n",
       "\n",
       "          false positive rate  false negative rate  selection rate    count  \n",
       "majmin                                                                       \n",
       "majority             0.878577             0.036543        0.889793  69170.0  \n",
       "minority             0.929122             0.025338        0.934372  20540.0  "
      ]
     },
     "execution_count": 62,
     "metadata": {},
     "output_type": "execute_result"
    }
   ],
   "source": [
    "metric_frame.by_group"
   ]
  },
  {
   "cell_type": "code",
   "execution_count": 63,
   "id": "a9ddbe63",
   "metadata": {
    "execution": {
     "iopub.execute_input": "2025-08-05T16:38:06.861780Z",
     "iopub.status.busy": "2025-08-05T16:38:06.861093Z",
     "iopub.status.idle": "2025-08-05T16:38:08.796592Z",
     "shell.execute_reply": "2025-08-05T16:38:08.795646Z"
    },
    "papermill": {
     "duration": 1.961196,
     "end_time": "2025-08-05T16:38:08.798231",
     "exception": false,
     "start_time": "2025-08-05T16:38:06.837035",
     "status": "completed"
    },
    "tags": []
   },
   "outputs": [
    {
     "data": {
      "text/plain": [
       "array([[<Axes: title={'center': 'accuracy'}, xlabel='majmin'>,\n",
       "        <Axes: title={'center': 'balanced accuracy'}, xlabel='majmin'>,\n",
       "        <Axes: title={'center': 'f1'}, xlabel='majmin'>],\n",
       "       [<Axes: title={'center': 'precision'}, xlabel='majmin'>,\n",
       "        <Axes: title={'center': 'false positive rate'}, xlabel='majmin'>,\n",
       "        <Axes: title={'center': 'false negative rate'}, xlabel='majmin'>],\n",
       "       [<Axes: title={'center': 'selection rate'}, xlabel='majmin'>,\n",
       "        <Axes: title={'center': 'count'}, xlabel='majmin'>,\n",
       "        <Axes: xlabel='majmin'>]], dtype=object)"
      ]
     },
     "execution_count": 63,
     "metadata": {},
     "output_type": "execute_result"
    },
    {
     "data": {
      "image/png": "[encoded data removed]",
      "text/plain": [
       "<Figure size 1200x800 with 9 Axes>"
      ]
     },
     "metadata": {},
     "output_type": "display_data"
    }
   ],
   "source": [
    "# In a graphic\n",
    "metric_frame.by_group.plot.bar(\n",
    "    subplots=True,\n",
    "    layout=[3, 3],\n",
    "    legend=False,\n",
    "    figsize=[12, 8],\n",
    "    title=\"Show all metrics\",\n",
    ")"
   ]
  },
  {
   "cell_type": "markdown",
   "id": "f57a0bac",
   "metadata": {
    "papermill": {
     "duration": 0.02203,
     "end_time": "2025-08-05T16:38:08.843883",
     "exception": false,
     "start_time": "2025-08-05T16:38:08.821853",
     "status": "completed"
    },
    "tags": []
   },
   "source": [
    "# Final Output"
   ]
  },
  {
   "cell_type": "code",
   "execution_count": 64,
   "id": "96d280a3",
   "metadata": {
    "execution": {
     "iopub.execute_input": "2025-08-05T16:38:08.890068Z",
     "iopub.status.busy": "2025-08-05T16:38:08.889066Z",
     "iopub.status.idle": "2025-08-05T16:38:08.896944Z",
     "shell.execute_reply": "2025-08-05T16:38:08.895906Z"
    },
    "papermill": {
     "duration": 0.033269,
     "end_time": "2025-08-05T16:38:08.898935",
     "exception": false,
     "start_time": "2025-08-05T16:38:08.865666",
     "status": "completed"
    },
    "tags": []
   },
   "outputs": [
    {
     "data": {
      "text/plain": [
       "4"
      ]
     },
     "execution_count": 64,
     "metadata": {},
     "output_type": "execute_result"
    }
   ],
   "source": [
    "sub_universes = universe_analysis.generate_sub_universes()\n",
    "len(sub_universes)"
   ]
  },
  {
   "cell_type": "code",
   "execution_count": 65,
   "id": "92adf7ba",
   "metadata": {
    "execution": {
     "iopub.execute_input": "2025-08-05T16:38:08.956750Z",
     "iopub.status.busy": "2025-08-05T16:38:08.955895Z",
     "iopub.status.idle": "2025-08-05T16:38:08.962087Z",
     "shell.execute_reply": "2025-08-05T16:38:08.961103Z"
    },
    "papermill": {
     "duration": 0.036959,
     "end_time": "2025-08-05T16:38:08.964035",
     "exception": false,
     "start_time": "2025-08-05T16:38:08.927076",
     "status": "completed"
    },
    "tags": []
   },
   "outputs": [],
   "source": [
    "def filter_sub_universe_data(sub_universe, org_test):\n",
    "    # Keep all rows — no filtering\n",
    "    keep_rows_mask = np.ones(org_test.shape[0], dtype=bool)\n",
    "\n",
    "    print(f\"[INFO] Keeping all rows: {keep_rows_mask.sum()} rows retained.\")\n",
    "    return keep_rows_mask"
   ]
  },
  {
   "cell_type": "code",
   "execution_count": 66,
   "id": "4a759155",
   "metadata": {
    "execution": {
     "iopub.execute_input": "2025-08-05T16:38:09.022209Z",
     "iopub.status.busy": "2025-08-05T16:38:09.021225Z",
     "iopub.status.idle": "2025-08-05T16:38:17.338190Z",
     "shell.execute_reply": "2025-08-05T16:38:17.337122Z"
    },
    "papermill": {
     "duration": 8.347911,
     "end_time": "2025-08-05T16:38:17.340275",
     "exception": false,
     "start_time": "2025-08-05T16:38:08.992364",
     "status": "completed"
    },
    "tags": []
   },
   "outputs": [
    {
     "name": "stdout",
     "output_type": "stream",
     "text": [
      "Stopping execution_time clock.\n",
      "[INFO] Keeping all rows: 89710 rows retained.\n"
     ]
    },
    {
     "name": "stdout",
     "output_type": "stream",
     "text": [
      "[INFO] Keeping all rows: 89710 rows retained.\n"
     ]
    },
    {
     "name": "stdout",
     "output_type": "stream",
     "text": [
      "[INFO] Keeping all rows: 89710 rows retained.\n"
     ]
    },
    {
     "name": "stdout",
     "output_type": "stream",
     "text": [
      "[INFO] Keeping all rows: 89710 rows retained.\n"
     ]
    },
    {
     "data": {
      "text/html": [
       "<div>\n",
       "<style scoped>\n",
       "    .dataframe tbody tr th:only-of-type {\n",
       "        vertical-align: middle;\n",
       "    }\n",
       "\n",
       "    .dataframe tbody tr th {\n",
       "        vertical-align: top;\n",
       "    }\n",
       "\n",
       "    .dataframe thead th {\n",
       "        text-align: right;\n",
       "    }\n",
       "</style>\n",
       "<table border=\"1\" class=\"dataframe\">\n",
       "  <thead>\n",
       "    <tr style=\"text-align: right;\">\n",
       "      <th></th>\n",
       "      <th>run_no</th>\n",
       "      <th>universe_id</th>\n",
       "      <th>universe_settings</th>\n",
       "      <th>execution_time</th>\n",
       "      <th>test_size_n</th>\n",
       "      <th>test_size_frac</th>\n",
       "      <th>fair_main_equalized_odds_difference</th>\n",
       "      <th>fair_main_equalized_odds_ratio</th>\n",
       "      <th>fair_main_demographic_parity_difference</th>\n",
       "      <th>fair_main_demographic_parity_ratio</th>\n",
       "      <th>...</th>\n",
       "      <th>perf_grp_precision_0</th>\n",
       "      <th>perf_grp_precision_1</th>\n",
       "      <th>perf_grp_false positive rate_0</th>\n",
       "      <th>perf_grp_false positive rate_1</th>\n",
       "      <th>perf_grp_false negative rate_0</th>\n",
       "      <th>perf_grp_false negative rate_1</th>\n",
       "      <th>perf_grp_selection rate_0</th>\n",
       "      <th>perf_grp_selection rate_1</th>\n",
       "      <th>perf_grp_count_0</th>\n",
       "      <th>perf_grp_count_1</th>\n",
       "    </tr>\n",
       "  </thead>\n",
       "  <tbody>\n",
       "    <tr>\n",
       "      <th>0</th>\n",
       "      <td>15</td>\n",
       "      <td>b80749829f4cae62e2d5e0f58540c16c</td>\n",
       "      <td>{\"cutoff\": \"quantile_0.1\", \"eval_fairness_grou...</td>\n",
       "      <td>24.301297</td>\n",
       "      <td>89710</td>\n",
       "      <td>1.0</td>\n",
       "      <td>0.050544</td>\n",
       "      <td>0.945600</td>\n",
       "      <td>0.044579</td>\n",
       "      <td>0.952290</td>\n",
       "      <td>...</td>\n",
       "      <td>NaN</td>\n",
       "      <td>NaN</td>\n",
       "      <td>NaN</td>\n",
       "      <td>NaN</td>\n",
       "      <td>NaN</td>\n",
       "      <td>NaN</td>\n",
       "      <td>NaN</td>\n",
       "      <td>NaN</td>\n",
       "      <td>NaN</td>\n",
       "      <td>NaN</td>\n",
       "    </tr>\n",
       "    <tr>\n",
       "      <th>0</th>\n",
       "      <td>15</td>\n",
       "      <td>b80749829f4cae62e2d5e0f58540c16c</td>\n",
       "      <td>{\"cutoff\": \"quantile_0.1\", \"eval_fairness_grou...</td>\n",
       "      <td>24.301297</td>\n",
       "      <td>89710</td>\n",
       "      <td>1.0</td>\n",
       "      <td>0.050544</td>\n",
       "      <td>0.945600</td>\n",
       "      <td>0.044579</td>\n",
       "      <td>0.952290</td>\n",
       "      <td>...</td>\n",
       "      <td>0.120258</td>\n",
       "      <td>0.143078</td>\n",
       "      <td>0.929122</td>\n",
       "      <td>0.878577</td>\n",
       "      <td>0.025338</td>\n",
       "      <td>0.036543</td>\n",
       "      <td>0.934372</td>\n",
       "      <td>0.889793</td>\n",
       "      <td>20540.0</td>\n",
       "      <td>69170.0</td>\n",
       "    </tr>\n",
       "    <tr>\n",
       "      <th>0</th>\n",
       "      <td>15</td>\n",
       "      <td>b80749829f4cae62e2d5e0f58540c16c</td>\n",
       "      <td>{\"cutoff\": \"quantile_0.25\", \"eval_fairness_gro...</td>\n",
       "      <td>24.301297</td>\n",
       "      <td>89710</td>\n",
       "      <td>1.0</td>\n",
       "      <td>0.087809</td>\n",
       "      <td>0.903059</td>\n",
       "      <td>0.037184</td>\n",
       "      <td>0.950978</td>\n",
       "      <td>...</td>\n",
       "      <td>NaN</td>\n",
       "      <td>NaN</td>\n",
       "      <td>NaN</td>\n",
       "      <td>NaN</td>\n",
       "      <td>NaN</td>\n",
       "      <td>NaN</td>\n",
       "      <td>NaN</td>\n",
       "      <td>NaN</td>\n",
       "      <td>NaN</td>\n",
       "      <td>NaN</td>\n",
       "    </tr>\n",
       "    <tr>\n",
       "      <th>0</th>\n",
       "      <td>15</td>\n",
       "      <td>b80749829f4cae62e2d5e0f58540c16c</td>\n",
       "      <td>{\"cutoff\": \"quantile_0.25\", \"eval_fairness_gro...</td>\n",
       "      <td>24.301297</td>\n",
       "      <td>89710</td>\n",
       "      <td>1.0</td>\n",
       "      <td>0.087809</td>\n",
       "      <td>0.903059</td>\n",
       "      <td>0.037184</td>\n",
       "      <td>0.950978</td>\n",
       "      <td>...</td>\n",
       "      <td>0.130737</td>\n",
       "      <td>0.157797</td>\n",
       "      <td>0.708728</td>\n",
       "      <td>0.736082</td>\n",
       "      <td>0.182010</td>\n",
       "      <td>0.094201</td>\n",
       "      <td>0.721324</td>\n",
       "      <td>0.758508</td>\n",
       "      <td>20540.0</td>\n",
       "      <td>69170.0</td>\n",
       "    </tr>\n",
       "  </tbody>\n",
       "</table>\n",
       "<p>4 rows × 50 columns</p>\n",
       "</div>"
      ],
      "text/plain": [
       "  run_no                       universe_id  \\\n",
       "0     15  b80749829f4cae62e2d5e0f58540c16c   \n",
       "0     15  b80749829f4cae62e2d5e0f58540c16c   \n",
       "0     15  b80749829f4cae62e2d5e0f58540c16c   \n",
       "0     15  b80749829f4cae62e2d5e0f58540c16c   \n",
       "\n",
       "                                   universe_settings  execution_time  \\\n",
       "0  {\"cutoff\": \"quantile_0.1\", \"eval_fairness_grou...       24.301297   \n",
       "0  {\"cutoff\": \"quantile_0.1\", \"eval_fairness_grou...       24.301297   \n",
       "0  {\"cutoff\": \"quantile_0.25\", \"eval_fairness_gro...       24.301297   \n",
       "0  {\"cutoff\": \"quantile_0.25\", \"eval_fairness_gro...       24.301297   \n",
       "\n",
       "   test_size_n  test_size_frac  fair_main_equalized_odds_difference  \\\n",
       "0        89710             1.0                             0.050544   \n",
       "0        89710             1.0                             0.050544   \n",
       "0        89710             1.0                             0.087809   \n",
       "0        89710             1.0                             0.087809   \n",
       "\n",
       "   fair_main_equalized_odds_ratio  fair_main_demographic_parity_difference  \\\n",
       "0                        0.945600                                 0.044579   \n",
       "0                        0.945600                                 0.044579   \n",
       "0                        0.903059                                 0.037184   \n",
       "0                        0.903059                                 0.037184   \n",
       "\n",
       "   fair_main_demographic_parity_ratio  ...  perf_grp_precision_0  \\\n",
       "0                            0.952290  ...                   NaN   \n",
       "0                            0.952290  ...              0.120258   \n",
       "0                            0.950978  ...                   NaN   \n",
       "0                            0.950978  ...              0.130737   \n",
       "\n",
       "   perf_grp_precision_1  perf_grp_false positive rate_0  \\\n",
       "0                   NaN                             NaN   \n",
       "0              0.143078                        0.929122   \n",
       "0                   NaN                             NaN   \n",
       "0              0.157797                        0.708728   \n",
       "\n",
       "   perf_grp_false positive rate_1  perf_grp_false negative rate_0  \\\n",
       "0                             NaN                             NaN   \n",
       "0                        0.878577                        0.025338   \n",
       "0                             NaN                             NaN   \n",
       "0                        0.736082                        0.182010   \n",
       "\n",
       "   perf_grp_false negative rate_1  perf_grp_selection rate_0  \\\n",
       "0                             NaN                        NaN   \n",
       "0                        0.036543                   0.934372   \n",
       "0                             NaN                        NaN   \n",
       "0                        0.094201                   0.721324   \n",
       "\n",
       "   perf_grp_selection rate_1  perf_grp_count_0  perf_grp_count_1  \n",
       "0                        NaN               NaN               NaN  \n",
       "0                   0.889793           20540.0           69170.0  \n",
       "0                        NaN               NaN               NaN  \n",
       "0                   0.758508           20540.0           69170.0  \n",
       "\n",
       "[4 rows x 50 columns]"
      ]
     },
     "execution_count": 66,
     "metadata": {},
     "output_type": "execute_result"
    }
   ],
   "source": [
    "final_output = universe_analysis.generate_final_output(\n",
    "    y_pred_prob=probs_test,\n",
    "    y_test=y_true,\n",
    "    org_test=org_test,\n",
    "    filter_data=filter_sub_universe_data,\n",
    "    cp_metrics_df=cp_metrics_df,\n",
    "    save=True,\n",
    ")\n",
    "final_output"
   ]
  }
 ],
 "metadata": {
  "celltoolbar": "Tags",
  "kernelspec": {
   "display_name": "Python (CMA Fairness)",
   "language": "python",
   "name": "cma_fair_env"
  },
  "language_info": {
   "codemirror_mode": {
    "name": "ipython",
    "version": 3
   },
   "file_extension": ".py",
   "mimetype": "text/x-python",
   "name": "python",
   "nbconvert_exporter": "python",
   "pygments_lexer": "ipython3",
   "version": "3.10.12"
  },
  "papermill": {
   "default_parameters": {},
   "duration": 36.880118,
   "end_time": "2025-08-05T16:38:18.197427",
   "environment_variables": {},
   "exception": null,
   "input_path": "universe_analysis.ipynb",
   "output_path": "output/runs/15/notebooks/m_15-b80749829f4cae62e2d5e0f58540c16c.ipynb",
   "parameters": {
    "output_dir": "output",
    "run_no": "15",
    "seed": "2023",
    "universe": "{\"cutoff\": [\"quantile_0.1\", \"quantile_0.25\"], \"eval_fairness_grouping\": [\"majority-minority\", \"nationality-all\"], \"exclude_features\": \"nationality-sex\", \"exclude_subgroups\": \"keep-all\", \"model\": \"elasticnet\", \"scale\": \"scale\", \"training_size\": \"1k\", \"training_year\": \"2010_14\"}",
    "universe_id": "b80749829f4cae62e2d5e0f58540c16c"
   },
   "start_time": "2025-08-05T16:37:41.317309",
   "version": "2.6.0"
  }
 },
 "nbformat": 4,
 "nbformat_minor": 5
}