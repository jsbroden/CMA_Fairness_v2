{
 "cells": [
  {
   "cell_type": "code",
   "execution_count": 1,
   "id": "f159f837-637b-42ba-96b5-ec9a68c44524",
   "metadata": {
    "execution": {
     "iopub.execute_input": "2025-08-05T15:24:10.795643Z",
     "iopub.status.busy": "2025-08-05T15:24:10.795235Z",
     "iopub.status.idle": "2025-08-05T15:24:10.810094Z",
     "shell.execute_reply": "2025-08-05T15:24:10.808939Z"
    },
    "papermill": {
     "duration": 0.042486,
     "end_time": "2025-08-05T15:24:10.812366",
     "exception": false,
     "start_time": "2025-08-05T15:24:10.769880",
     "status": "completed"
    },
    "tags": []
   },
   "outputs": [
    {
     "name": "stdout",
     "output_type": "stream",
     "text": [
      "/dss/dsshome1/0C/ra93lal2/cma/CMA_Fairness_v2\n"
     ]
    },
    {
     "name": "stderr",
     "output_type": "stream",
     "text": [
      "/dss/dsshome1/0C/ra93lal2/.local/share/virtualenvs/CMA_Fairness_v2-3j10GkSs/lib/python3.10/site-packages/IPython/core/magics/osm.py:393: UserWarning: This is now an optional IPython functionality, using bookmarks requires you to install the `pickleshare` library.\n",
      "  bkms = self.shell.db.get('bookmarks', {})\n",
      "/dss/dsshome1/0C/ra93lal2/.local/share/virtualenvs/CMA_Fairness_v2-3j10GkSs/lib/python3.10/site-packages/IPython/core/magics/osm.py:417: UserWarning: This is now an optional IPython functionality, setting dhist requires you to install the `pickleshare` library.\n",
      "  self.shell.db['dhist'] = compress_dhist(dhist)[-100:]\n"
     ]
    }
   ],
   "source": [
    "%cd ~/cma/CMA_Fairness_v2"
   ]
  },
  {
   "cell_type": "markdown",
   "id": "de2603b9",
   "metadata": {
    "papermill": {
     "duration": 0.017607,
     "end_time": "2025-08-05T15:24:10.854278",
     "exception": false,
     "start_time": "2025-08-05T15:24:10.836671",
     "status": "completed"
    },
    "tags": []
   },
   "source": [
    "The following cell holds the definition of our parameters, these values can be overriden by rendering the with e.g. the following command:\n",
    "\n",
    "papermill -p alpha 0.2 -p ratio 0.3 universe_analysis.ipynb output/test_run.ipynb"
   ]
  },
  {
   "cell_type": "code",
   "execution_count": 2,
   "id": "a80968a0-40bb-4fa9-85ef-2d5eefb01975",
   "metadata": {
    "execution": {
     "iopub.execute_input": "2025-08-05T15:24:10.889471Z",
     "iopub.status.busy": "2025-08-05T15:24:10.888671Z",
     "iopub.status.idle": "2025-08-05T15:24:10.894939Z",
     "shell.execute_reply": "2025-08-05T15:24:10.893906Z"
    },
    "papermill": {
     "duration": 0.02584,
     "end_time": "2025-08-05T15:24:10.896774",
     "exception": false,
     "start_time": "2025-08-05T15:24:10.870934",
     "status": "completed"
    },
    "tags": []
   },
   "outputs": [
    {
     "name": "stdout",
     "output_type": "stream",
     "text": [
      "Current working directory: /dss/dsshome1/0C/ra93lal2/cma/CMA_Fairness_v2\n"
     ]
    }
   ],
   "source": [
    "import os\n",
    "print(\"Current working directory:\", os.getcwd())"
   ]
  },
  {
   "cell_type": "code",
   "execution_count": 3,
   "id": "2dce4c03",
   "metadata": {
    "execution": {
     "iopub.execute_input": "2025-08-05T15:24:10.929900Z",
     "iopub.status.busy": "2025-08-05T15:24:10.929264Z",
     "iopub.status.idle": "2025-08-05T15:24:10.935345Z",
     "shell.execute_reply": "2025-08-05T15:24:10.934384Z"
    },
    "papermill": {
     "duration": 0.024061,
     "end_time": "2025-08-05T15:24:10.936962",
     "exception": false,
     "start_time": "2025-08-05T15:24:10.912901",
     "status": "completed"
    },
    "tags": [
     "parameters"
    ]
   },
   "outputs": [],
   "source": [
    "run_no = 0\n",
    "universe_id = \"test\"\n",
    "universe = {\n",
    "    \"training_size\": \"25k\", # \"25k\", \"5k\", \"1k\"\n",
    "    \"training_year\": \"2014\", # \"2014\", \"2012_14\", \"2010_14\"\n",
    "    \"scale\": \"scale\", # \"scale\", \"do-not-scale\",\n",
    "    \"model\": \"elasticnet\", # \"logreg\", \"penalized_logreg\", \"rf\", \"gbm\", \"elasticnet\"\n",
    "    \"cutoff\": [\"quantile_0.15\", \"quantile_0.30\"],\n",
    "    \"exclude_features\": \"age\", # \"none\", \"nationality\", \"sex\", \"nationality-sex\", \"age\"\n",
    "    \"exclude_subgroups\": \"keep-all\", # \"keep-all\", \"drop-non-german\"\n",
    "    \"eval_fairness_grouping\": [\"majority-minority\", \"nationality-all\"]\n",
    "}\n",
    "\n",
    "output_dir=\"./output\"\n",
    "seed=0"
   ]
  },
  {
   "cell_type": "code",
   "execution_count": 4,
   "id": "508b9477",
   "metadata": {
    "execution": {
     "iopub.execute_input": "2025-08-05T15:24:11.010623Z",
     "iopub.status.busy": "2025-08-05T15:24:11.009981Z",
     "iopub.status.idle": "2025-08-05T15:24:11.015297Z",
     "shell.execute_reply": "2025-08-05T15:24:11.014360Z"
    },
    "papermill": {
     "duration": 0.0621,
     "end_time": "2025-08-05T15:24:11.017034",
     "exception": false,
     "start_time": "2025-08-05T15:24:10.954934",
     "status": "completed"
    },
    "tags": [
     "injected-parameters"
    ]
   },
   "outputs": [],
   "source": [
    "# Parameters\n",
    "universe_id = \"2d8b29a568cd9d4b00e2aea8937d40b5\"\n",
    "run_no = \"15\"\n",
    "universe = \"{\\\"cutoff\\\": [\\\"quantile_0.1\\\", \\\"quantile_0.25\\\"], \\\"eval_fairness_grouping\\\": [\\\"majority-minority\\\", \\\"nationality-all\\\"], \\\"exclude_features\\\": \\\"age\\\", \\\"exclude_subgroups\\\": \\\"drop-non-german\\\", \\\"model\\\": \\\"rf\\\", \\\"scale\\\": \\\"scale\\\", \\\"training_size\\\": \\\"5k\\\", \\\"training_year\\\": \\\"2014\\\"}\"\n",
    "output_dir = \"output\"\n",
    "seed = \"2023\"\n"
   ]
  },
  {
   "cell_type": "code",
   "execution_count": 5,
   "id": "1650acaf",
   "metadata": {
    "execution": {
     "iopub.execute_input": "2025-08-05T15:24:11.054807Z",
     "iopub.status.busy": "2025-08-05T15:24:11.054036Z",
     "iopub.status.idle": "2025-08-05T15:24:11.059403Z",
     "shell.execute_reply": "2025-08-05T15:24:11.058471Z"
    },
    "papermill": {
     "duration": 0.026122,
     "end_time": "2025-08-05T15:24:11.061293",
     "exception": false,
     "start_time": "2025-08-05T15:24:11.035171",
     "status": "completed"
    },
    "tags": []
   },
   "outputs": [],
   "source": [
    "import json\n",
    "if isinstance(universe, str):\n",
    "    universe = json.loads(universe)"
   ]
  },
  {
   "cell_type": "code",
   "execution_count": 6,
   "id": "16620c48",
   "metadata": {
    "execution": {
     "iopub.execute_input": "2025-08-05T15:24:11.099212Z",
     "iopub.status.busy": "2025-08-05T15:24:11.098816Z",
     "iopub.status.idle": "2025-08-05T15:24:11.142519Z",
     "shell.execute_reply": "2025-08-05T15:24:11.141640Z"
    },
    "papermill": {
     "duration": 0.065356,
     "end_time": "2025-08-05T15:24:11.144178",
     "exception": false,
     "start_time": "2025-08-05T15:24:11.078822",
     "status": "completed"
    },
    "tags": []
   },
   "outputs": [],
   "source": [
    "# Auto-reload the custom package\n",
    "%load_ext autoreload\n",
    "%autoreload 1\n",
    "%aimport fairness_multiverse"
   ]
  },
  {
   "cell_type": "code",
   "execution_count": 7,
   "id": "01c5c9f3",
   "metadata": {
    "execution": {
     "iopub.execute_input": "2025-08-05T15:24:11.183708Z",
     "iopub.status.busy": "2025-08-05T15:24:11.182987Z",
     "iopub.status.idle": "2025-08-05T15:24:13.189789Z",
     "shell.execute_reply": "2025-08-05T15:24:13.188637Z"
    },
    "papermill": {
     "duration": 2.030307,
     "end_time": "2025-08-05T15:24:13.192334",
     "exception": false,
     "start_time": "2025-08-05T15:24:11.162027",
     "status": "completed"
    },
    "tags": []
   },
   "outputs": [],
   "source": [
    "from fairness_multiverse.universe import UniverseAnalysis\n",
    "\n",
    "universe_analysis = UniverseAnalysis(\n",
    "    run_no = run_no,\n",
    "    universe_id = universe_id,\n",
    "    universe = universe,\n",
    "    output_dir=output_dir,\n",
    ")"
   ]
  },
  {
   "cell_type": "code",
   "execution_count": 8,
   "id": "106241f5",
   "metadata": {
    "execution": {
     "iopub.execute_input": "2025-08-05T15:24:13.242987Z",
     "iopub.status.busy": "2025-08-05T15:24:13.242612Z",
     "iopub.status.idle": "2025-08-05T15:24:13.250938Z",
     "shell.execute_reply": "2025-08-05T15:24:13.249719Z"
    },
    "papermill": {
     "duration": 0.036251,
     "end_time": "2025-08-05T15:24:13.253214",
     "exception": false,
     "start_time": "2025-08-05T15:24:13.216963",
     "status": "completed"
    },
    "tags": []
   },
   "outputs": [
    {
     "name": "stdout",
     "output_type": "stream",
     "text": [
      "Using Seed: 2023\n"
     ]
    }
   ],
   "source": [
    "import numpy as np\n",
    "parsed_seed = int(seed)\n",
    "np.random.seed(parsed_seed)\n",
    "print(f\"Using Seed: {parsed_seed}\")"
   ]
  },
  {
   "cell_type": "markdown",
   "id": "e0ebdc57",
   "metadata": {
    "papermill": {
     "duration": 0.024345,
     "end_time": "2025-08-05T15:24:13.302199",
     "exception": false,
     "start_time": "2025-08-05T15:24:13.277854",
     "status": "completed"
    },
    "tags": []
   },
   "source": [
    "# Loading Data"
   ]
  },
  {
   "cell_type": "code",
   "execution_count": 9,
   "id": "f0496b8a",
   "metadata": {
    "execution": {
     "iopub.execute_input": "2025-08-05T15:24:13.352437Z",
     "iopub.status.busy": "2025-08-05T15:24:13.351712Z",
     "iopub.status.idle": "2025-08-05T15:24:24.408827Z",
     "shell.execute_reply": "2025-08-05T15:24:24.407966Z"
    },
    "papermill": {
     "duration": 11.083867,
     "end_time": "2025-08-05T15:24:24.410240",
     "exception": false,
     "start_time": "2025-08-05T15:24:13.326373",
     "status": "completed"
    },
    "tags": []
   },
   "outputs": [
    {
     "name": "stdout",
     "output_type": "stream",
     "text": [
      "Loading SIAB data from cache: data/siab_cached.csv.gz\n"
     ]
    },
    {
     "name": "stdout",
     "output_type": "stream",
     "text": [
      "(643690, 164)\n"
     ]
    }
   ],
   "source": [
    "from pathlib import Path\n",
    "import pandas as pd\n",
    "\n",
    "# File paths\n",
    "raw_file = Path(\"data/raw/siab.csv\")\n",
    "cache_file = Path(\"data/siab_cached.csv.gz\")\n",
    "\n",
    "# Ensure cache directory exists\n",
    "cache_file.parent.mkdir(parents=True, exist_ok=True)\n",
    "\n",
    "# Load with simple caching\n",
    "if cache_file.exists():\n",
    "    print(f\"Loading SIAB data from cache: {cache_file}\")\n",
    "    siab = pd.read_csv(cache_file, compression='gzip')\n",
    "else:\n",
    "    print(f\"Cache not found. Reading raw SIAB data: {raw_file}\")\n",
    "    siab = pd.read_csv(raw_file)\n",
    "    siab.to_csv(cache_file, index=False, compression='gzip')\n",
    "    print(f\"Cached SIAB data to: {cache_file}\")\n",
    "\n",
    "print(siab.shape)"
   ]
  },
  {
   "cell_type": "code",
   "execution_count": 10,
   "id": "db0ca512-5f53-4dba-abdb-a2888bca41ba",
   "metadata": {
    "execution": {
     "iopub.execute_input": "2025-08-05T15:24:24.432043Z",
     "iopub.status.busy": "2025-08-05T15:24:24.431692Z",
     "iopub.status.idle": "2025-08-05T15:24:24.436848Z",
     "shell.execute_reply": "2025-08-05T15:24:24.435839Z"
    },
    "papermill": {
     "duration": 0.016778,
     "end_time": "2025-08-05T15:24:24.438761",
     "exception": false,
     "start_time": "2025-08-05T15:24:24.421983",
     "status": "completed"
    },
    "tags": []
   },
   "outputs": [],
   "source": [
    "#siab"
   ]
  },
  {
   "cell_type": "markdown",
   "id": "997051c5-15bd-4b69-9786-c3001a3ce484",
   "metadata": {
    "papermill": {
     "duration": 0.016222,
     "end_time": "2025-08-05T15:24:24.472296",
     "exception": false,
     "start_time": "2025-08-05T15:24:24.456074",
     "status": "completed"
    },
    "tags": []
   },
   "source": [
    "# Splitting Data and Setting Training Data Size"
   ]
  },
  {
   "cell_type": "code",
   "execution_count": 11,
   "id": "aea9c6ef-6f46-42c8-85eb-5a62025c1508",
   "metadata": {
    "execution": {
     "iopub.execute_input": "2025-08-05T15:24:24.510049Z",
     "iopub.status.busy": "2025-08-05T15:24:24.509108Z",
     "iopub.status.idle": "2025-08-05T15:24:24.798200Z",
     "shell.execute_reply": "2025-08-05T15:24:24.797144Z"
    },
    "papermill": {
     "duration": 0.310154,
     "end_time": "2025-08-05T15:24:24.800256",
     "exception": false,
     "start_time": "2025-08-05T15:24:24.490102",
     "status": "completed"
    },
    "tags": []
   },
   "outputs": [],
   "source": [
    "from fairness_multiverse.universe import sample_by_year_size\n",
    "\n",
    "siab_train = sample_by_year_size(siab,\n",
    "                               training_year=universe[\"training_year\"],\n",
    "                               training_size=universe[\"training_size\"])"
   ]
  },
  {
   "cell_type": "code",
   "execution_count": 12,
   "id": "8d3afb32-789d-442c-8d5d-9f5aa8dd2eed",
   "metadata": {
    "execution": {
     "iopub.execute_input": "2025-08-05T15:24:24.838896Z",
     "iopub.status.busy": "2025-08-05T15:24:24.838384Z",
     "iopub.status.idle": "2025-08-05T15:24:24.843858Z",
     "shell.execute_reply": "2025-08-05T15:24:24.842829Z"
    },
    "papermill": {
     "duration": 0.02654,
     "end_time": "2025-08-05T15:24:24.845647",
     "exception": false,
     "start_time": "2025-08-05T15:24:24.819107",
     "status": "completed"
    },
    "tags": []
   },
   "outputs": [],
   "source": [
    "#siab_train.shape"
   ]
  },
  {
   "cell_type": "code",
   "execution_count": 13,
   "id": "d582db68-1a4c-47fb-84fc-08518dc1975a",
   "metadata": {
    "execution": {
     "iopub.execute_input": "2025-08-05T15:24:24.883150Z",
     "iopub.status.busy": "2025-08-05T15:24:24.882691Z",
     "iopub.status.idle": "2025-08-05T15:24:24.887800Z",
     "shell.execute_reply": "2025-08-05T15:24:24.886657Z"
    },
    "papermill": {
     "duration": 0.026595,
     "end_time": "2025-08-05T15:24:24.889773",
     "exception": false,
     "start_time": "2025-08-05T15:24:24.863178",
     "status": "completed"
    },
    "tags": []
   },
   "outputs": [],
   "source": [
    "#display(siab_train.groupby(\"year\").size())"
   ]
  },
  {
   "cell_type": "code",
   "execution_count": 14,
   "id": "a561edb4-d032-42cb-8256-22eac1111c64",
   "metadata": {
    "execution": {
     "iopub.execute_input": "2025-08-05T15:24:24.927410Z",
     "iopub.status.busy": "2025-08-05T15:24:24.926555Z",
     "iopub.status.idle": "2025-08-05T15:24:25.191188Z",
     "shell.execute_reply": "2025-08-05T15:24:25.190237Z"
    },
    "papermill": {
     "duration": 0.284443,
     "end_time": "2025-08-05T15:24:25.193123",
     "exception": false,
     "start_time": "2025-08-05T15:24:24.908680",
     "status": "completed"
    },
    "tags": []
   },
   "outputs": [],
   "source": [
    "#siab_train = siab_s[siab_s.year < 2015]\n",
    "siab_calib = siab[siab.year == 2015]\n",
    "siab_test = siab[siab.year == 2016]"
   ]
  },
  {
   "cell_type": "code",
   "execution_count": 15,
   "id": "472de16f-c3db-4916-846b-1f0de9cf1746",
   "metadata": {
    "execution": {
     "iopub.execute_input": "2025-08-05T15:24:25.231222Z",
     "iopub.status.busy": "2025-08-05T15:24:25.230262Z",
     "iopub.status.idle": "2025-08-05T15:24:25.238512Z",
     "shell.execute_reply": "2025-08-05T15:24:25.237460Z"
    },
    "papermill": {
     "duration": 0.029308,
     "end_time": "2025-08-05T15:24:25.240396",
     "exception": false,
     "start_time": "2025-08-05T15:24:25.211088",
     "status": "completed"
    },
    "tags": []
   },
   "outputs": [],
   "source": [
    "X_train = siab_train.iloc[:,4:164]\n",
    "y_train = siab_train.iloc[:, [3]]"
   ]
  },
  {
   "cell_type": "code",
   "execution_count": 16,
   "id": "828c96af-f43a-4ed6-ba47-8ac73a47d56c",
   "metadata": {
    "execution": {
     "iopub.execute_input": "2025-08-05T15:24:25.278349Z",
     "iopub.status.busy": "2025-08-05T15:24:25.277941Z",
     "iopub.status.idle": "2025-08-05T15:24:25.331284Z",
     "shell.execute_reply": "2025-08-05T15:24:25.330096Z"
    },
    "papermill": {
     "duration": 0.074185,
     "end_time": "2025-08-05T15:24:25.333179",
     "exception": false,
     "start_time": "2025-08-05T15:24:25.258994",
     "status": "completed"
    },
    "tags": []
   },
   "outputs": [],
   "source": [
    "X_calib = siab_calib.iloc[:,4:164]\n",
    "y_calib = siab_calib.iloc[:, [3]]"
   ]
  },
  {
   "cell_type": "code",
   "execution_count": 17,
   "id": "c34be9c3-6bd6-476e-acd3-845840e303be",
   "metadata": {
    "execution": {
     "iopub.execute_input": "2025-08-05T15:24:25.372110Z",
     "iopub.status.busy": "2025-08-05T15:24:25.371331Z",
     "iopub.status.idle": "2025-08-05T15:24:25.424676Z",
     "shell.execute_reply": "2025-08-05T15:24:25.423509Z"
    },
    "papermill": {
     "duration": 0.074164,
     "end_time": "2025-08-05T15:24:25.426856",
     "exception": false,
     "start_time": "2025-08-05T15:24:25.352692",
     "status": "completed"
    },
    "tags": []
   },
   "outputs": [],
   "source": [
    "X_test = siab_test.iloc[:,4:164]\n",
    "y_true = siab_test.iloc[:, [3]]"
   ]
  },
  {
   "cell_type": "code",
   "execution_count": 18,
   "id": "e6c733c5",
   "metadata": {
    "execution": {
     "iopub.execute_input": "2025-08-05T15:24:25.465803Z",
     "iopub.status.busy": "2025-08-05T15:24:25.464971Z",
     "iopub.status.idle": "2025-08-05T15:24:25.566045Z",
     "shell.execute_reply": "2025-08-05T15:24:25.564885Z"
    },
    "papermill": {
     "duration": 0.122222,
     "end_time": "2025-08-05T15:24:25.567906",
     "exception": false,
     "start_time": "2025-08-05T15:24:25.445684",
     "status": "completed"
    },
    "tags": []
   },
   "outputs": [],
   "source": [
    "# Auxiliary data needed downstream in the pipeline\n",
    "\n",
    "org_train = X_train.copy()\n",
    "org_test = X_test.copy()\n",
    "org_calib = X_calib.copy()"
   ]
  },
  {
   "cell_type": "markdown",
   "id": "0a4a1b33",
   "metadata": {
    "papermill": {
     "duration": 0.017732,
     "end_time": "2025-08-05T15:24:25.603835",
     "exception": false,
     "start_time": "2025-08-05T15:24:25.586103",
     "status": "completed"
    },
    "tags": []
   },
   "source": [
    "# Preprocessing Data"
   ]
  },
  {
   "cell_type": "code",
   "execution_count": 19,
   "id": "ca879031",
   "metadata": {
    "execution": {
     "iopub.execute_input": "2025-08-05T15:24:25.642493Z",
     "iopub.status.busy": "2025-08-05T15:24:25.641630Z",
     "iopub.status.idle": "2025-08-05T15:24:25.647923Z",
     "shell.execute_reply": "2025-08-05T15:24:25.646856Z"
    },
    "papermill": {
     "duration": 0.02717,
     "end_time": "2025-08-05T15:24:25.649638",
     "exception": false,
     "start_time": "2025-08-05T15:24:25.622468",
     "status": "completed"
    },
    "tags": []
   },
   "outputs": [],
   "source": [
    "# EXCLUDE PROTECTED FEATURES\n",
    "# ----------------------\n",
    "# \"exclude_features\": \"none\", # \"nationality\", \"sex\", \"nationality-sex\"\n",
    "\n",
    "excluded_features = universe[\"exclude_features\"].split(\"-\") # split, e.g.: \"nationality-sex\" -> [\"nationality\", \"sex\"]\n",
    "excluded_features_dictionary = {\n",
    "    \"nationality\": [\"maxdeutsch1\", \"maxdeutsch.Missing.\"],\n",
    "    \"sex\": [\"frau1\"],\n",
    "    \"age\": [\"age\"],\n",
    "}"
   ]
  },
  {
   "cell_type": "code",
   "execution_count": 20,
   "id": "b745ac60",
   "metadata": {
    "execution": {
     "iopub.execute_input": "2025-08-05T15:24:25.687996Z",
     "iopub.status.busy": "2025-08-05T15:24:25.686719Z",
     "iopub.status.idle": "2025-08-05T15:24:25.692246Z",
     "shell.execute_reply": "2025-08-05T15:24:25.691413Z"
    },
    "papermill": {
     "duration": 0.025845,
     "end_time": "2025-08-05T15:24:25.694270",
     "exception": false,
     "start_time": "2025-08-05T15:24:25.668425",
     "status": "completed"
    },
    "tags": []
   },
   "outputs": [],
   "source": [
    "# Code nice names to column names\n",
    "\n",
    "excluded_features_columns = [\n",
    "    excluded_features_dictionary[f] for f in excluded_features if len(f) > 0 and f != \"none\"\n",
    "]"
   ]
  },
  {
   "cell_type": "code",
   "execution_count": 21,
   "id": "f84f73a2",
   "metadata": {
    "execution": {
     "iopub.execute_input": "2025-08-05T15:24:25.733075Z",
     "iopub.status.busy": "2025-08-05T15:24:25.732307Z",
     "iopub.status.idle": "2025-08-05T15:24:25.739004Z",
     "shell.execute_reply": "2025-08-05T15:24:25.737643Z"
    },
    "papermill": {
     "duration": 0.028203,
     "end_time": "2025-08-05T15:24:25.740856",
     "exception": false,
     "start_time": "2025-08-05T15:24:25.712653",
     "status": "completed"
    },
    "tags": []
   },
   "outputs": [],
   "source": [
    "from utils import flatten_once\n",
    "\n",
    "excluded_features_columns = flatten_once(excluded_features_columns)"
   ]
  },
  {
   "cell_type": "code",
   "execution_count": 22,
   "id": "884dea22",
   "metadata": {
    "execution": {
     "iopub.execute_input": "2025-08-05T15:24:25.780704Z",
     "iopub.status.busy": "2025-08-05T15:24:25.780224Z",
     "iopub.status.idle": "2025-08-05T15:24:25.792002Z",
     "shell.execute_reply": "2025-08-05T15:24:25.791165Z"
    },
    "papermill": {
     "duration": 0.033606,
     "end_time": "2025-08-05T15:24:25.793457",
     "exception": false,
     "start_time": "2025-08-05T15:24:25.759851",
     "status": "completed"
    },
    "tags": []
   },
   "outputs": [
    {
     "name": "stdout",
     "output_type": "stream",
     "text": [
      "Dropping features: ['age']\n"
     ]
    }
   ],
   "source": [
    "if len(excluded_features_columns) > 0:\n",
    "    print(f\"Dropping features: {excluded_features_columns}\")\n",
    "    X_train.drop(excluded_features_columns, axis=1, inplace=True)"
   ]
  },
  {
   "cell_type": "code",
   "execution_count": 23,
   "id": "95ab8b16",
   "metadata": {
    "execution": {
     "iopub.execute_input": "2025-08-05T15:24:25.814493Z",
     "iopub.status.busy": "2025-08-05T15:24:25.813855Z",
     "iopub.status.idle": "2025-08-05T15:24:25.866507Z",
     "shell.execute_reply": "2025-08-05T15:24:25.865425Z"
    },
    "papermill": {
     "duration": 0.064295,
     "end_time": "2025-08-05T15:24:25.868098",
     "exception": false,
     "start_time": "2025-08-05T15:24:25.803803",
     "status": "completed"
    },
    "tags": []
   },
   "outputs": [
    {
     "name": "stdout",
     "output_type": "stream",
     "text": [
      "Dropping features: ['age']\n"
     ]
    }
   ],
   "source": [
    "if len(excluded_features_columns) > 0:\n",
    "    print(f\"Dropping features: {excluded_features_columns}\")\n",
    "    X_test.drop(excluded_features_columns, axis=1, inplace=True)"
   ]
  },
  {
   "cell_type": "code",
   "execution_count": 24,
   "id": "1853aaf5-fb9f-46cb-a2b5-8ea4ae2237e4",
   "metadata": {
    "execution": {
     "iopub.execute_input": "2025-08-05T15:24:25.908644Z",
     "iopub.status.busy": "2025-08-05T15:24:25.907963Z",
     "iopub.status.idle": "2025-08-05T15:24:25.960203Z",
     "shell.execute_reply": "2025-08-05T15:24:25.959149Z"
    },
    "papermill": {
     "duration": 0.074282,
     "end_time": "2025-08-05T15:24:25.962195",
     "exception": false,
     "start_time": "2025-08-05T15:24:25.887913",
     "status": "completed"
    },
    "tags": []
   },
   "outputs": [
    {
     "name": "stdout",
     "output_type": "stream",
     "text": [
      "Dropping features: ['age']\n"
     ]
    }
   ],
   "source": [
    "if len(excluded_features_columns) > 0:\n",
    "    print(f\"Dropping features: {excluded_features_columns}\")\n",
    "    X_calib.drop(excluded_features_columns, axis=1, inplace=True)"
   ]
  },
  {
   "cell_type": "code",
   "execution_count": 25,
   "id": "76c4dc6d",
   "metadata": {
    "execution": {
     "iopub.execute_input": "2025-08-05T15:24:26.000956Z",
     "iopub.status.busy": "2025-08-05T15:24:26.000076Z",
     "iopub.status.idle": "2025-08-05T15:24:26.005930Z",
     "shell.execute_reply": "2025-08-05T15:24:26.004750Z"
    },
    "papermill": {
     "duration": 0.026647,
     "end_time": "2025-08-05T15:24:26.007781",
     "exception": false,
     "start_time": "2025-08-05T15:24:25.981134",
     "status": "completed"
    },
    "tags": []
   },
   "outputs": [],
   "source": [
    "# EXCLUDE CERTAIN SUBGROUPS\n",
    "# ----------------------\n",
    "\n",
    "mode = universe.get(\"exclude_subgroups\", \"keep-all\") \n",
    "# Fetches the exclude_subgroups setting from the universe dict.\n",
    "# Defaults to \"keep-all\" if the key is missing."
   ]
  },
  {
   "cell_type": "code",
   "execution_count": 26,
   "id": "21994072",
   "metadata": {
    "execution": {
     "iopub.execute_input": "2025-08-05T15:24:26.047950Z",
     "iopub.status.busy": "2025-08-05T15:24:26.047597Z",
     "iopub.status.idle": "2025-08-05T15:24:26.054378Z",
     "shell.execute_reply": "2025-08-05T15:24:26.053337Z"
    },
    "papermill": {
     "duration": 0.028086,
     "end_time": "2025-08-05T15:24:26.056281",
     "exception": false,
     "start_time": "2025-08-05T15:24:26.028195",
     "status": "completed"
    },
    "tags": []
   },
   "outputs": [],
   "source": [
    "if mode == \"keep-all\":\n",
    "    keep_mask = pd.Series(True, index=org_train.index)\n",
    "\n",
    "# org_train contains the original feature columns from features_org (in Simson)\n",
    "# features_org contains unprocessed features, for me X_train at beginning ???\n",
    "# For keep-all, creates a boolean Series (keep_mask) of all True, so no rows are removed.\n",
    "\n",
    "elif mode == \"drop-non-german\":\n",
    "    keep_mask = org_train[\"maxdeutsch1\"] == 1 # ??? what about missing values?\n",
    "\n",
    "else:\n",
    "    raise ValueError(f\"Unsupported mode for exclude_subgroups: {mode}\")"
   ]
  },
  {
   "cell_type": "code",
   "execution_count": 27,
   "id": "71651440",
   "metadata": {
    "execution": {
     "iopub.execute_input": "2025-08-05T15:24:26.096860Z",
     "iopub.status.busy": "2025-08-05T15:24:26.096425Z",
     "iopub.status.idle": "2025-08-05T15:24:26.103782Z",
     "shell.execute_reply": "2025-08-05T15:24:26.102792Z"
    },
    "papermill": {
     "duration": 0.029632,
     "end_time": "2025-08-05T15:24:26.105423",
     "exception": false,
     "start_time": "2025-08-05T15:24:26.075791",
     "status": "completed"
    },
    "tags": []
   },
   "outputs": [
    {
     "name": "stdout",
     "output_type": "stream",
     "text": [
      "Dropping 741 rows (14.82%) where mode='drop-non-german'\n"
     ]
    }
   ],
   "source": [
    "n_drop = (~keep_mask).sum() # Calculates how many rows are set to be dropped\n",
    "if n_drop > 0:\n",
    "    pct = n_drop / len(keep_mask) * 100\n",
    "    print(f\"Dropping {n_drop} rows ({pct:.2f}%) where mode='{mode}'\")"
   ]
  },
  {
   "cell_type": "code",
   "execution_count": 28,
   "id": "5fb8eee5",
   "metadata": {
    "execution": {
     "iopub.execute_input": "2025-08-05T15:24:26.145463Z",
     "iopub.status.busy": "2025-08-05T15:24:26.145014Z",
     "iopub.status.idle": "2025-08-05T15:24:26.152770Z",
     "shell.execute_reply": "2025-08-05T15:24:26.151700Z"
    },
    "papermill": {
     "duration": 0.030429,
     "end_time": "2025-08-05T15:24:26.154723",
     "exception": false,
     "start_time": "2025-08-05T15:24:26.124294",
     "status": "completed"
    },
    "tags": []
   },
   "outputs": [],
   "source": [
    "X_train = X_train[keep_mask]"
   ]
  },
  {
   "cell_type": "code",
   "execution_count": 29,
   "id": "b202bb3a",
   "metadata": {
    "execution": {
     "iopub.execute_input": "2025-08-05T15:24:26.195745Z",
     "iopub.status.busy": "2025-08-05T15:24:26.195311Z",
     "iopub.status.idle": "2025-08-05T15:24:26.201405Z",
     "shell.execute_reply": "2025-08-05T15:24:26.200341Z"
    },
    "papermill": {
     "duration": 0.028706,
     "end_time": "2025-08-05T15:24:26.203486",
     "exception": false,
     "start_time": "2025-08-05T15:24:26.174780",
     "status": "completed"
    },
    "tags": []
   },
   "outputs": [],
   "source": [
    "y_train = y_train[keep_mask]"
   ]
  },
  {
   "cell_type": "markdown",
   "id": "493e2ac3",
   "metadata": {
    "papermill": {
     "duration": 0.019511,
     "end_time": "2025-08-05T15:24:26.243716",
     "exception": false,
     "start_time": "2025-08-05T15:24:26.224205",
     "status": "completed"
    },
    "tags": []
   },
   "source": [
    "# Model Training"
   ]
  },
  {
   "cell_type": "code",
   "execution_count": 30,
   "id": "679e1268",
   "metadata": {
    "execution": {
     "iopub.execute_input": "2025-08-05T15:24:26.283953Z",
     "iopub.status.busy": "2025-08-05T15:24:26.283150Z",
     "iopub.status.idle": "2025-08-05T15:24:26.386518Z",
     "shell.execute_reply": "2025-08-05T15:24:26.385475Z"
    },
    "papermill": {
     "duration": 0.126035,
     "end_time": "2025-08-05T15:24:26.388356",
     "exception": false,
     "start_time": "2025-08-05T15:24:26.262321",
     "status": "completed"
    },
    "tags": []
   },
   "outputs": [],
   "source": [
    "from sklearn.linear_model import LogisticRegression\n",
    "from sklearn.ensemble import GradientBoostingClassifier, RandomForestClassifier\n",
    "\n",
    "if (universe[\"model\"] == \"logreg\"):\n",
    "    model = LogisticRegression() #penalty=\"none\", solver=\"newton-cg\", max_iter=1) # include random_state=19 ?\n",
    "elif (universe[\"model\"] == \"penalized_logreg\"):\n",
    "    model = LogisticRegression(penalty=\"l2\", C=0.1) #, solver=\"newton-cg\", max_iter=1)\n",
    "elif (universe[\"model\"] == \"rf\"):\n",
    "    model = RandomForestClassifier() # n_estimators=100, n_jobs=-1\n",
    "elif (universe[\"model\"] == \"gbm\"):\n",
    "    model = GradientBoostingClassifier()\n",
    "elif (universe[\"model\"] == \"elasticnet\"):\n",
    "    model = LogisticRegression(penalty = 'elasticnet', solver = 'saga', l1_ratio = 0.5) # max_iter=5000\n",
    "else:\n",
    "    raise \"Unsupported universe.model\""
   ]
  },
  {
   "cell_type": "code",
   "execution_count": 31,
   "id": "0cc8f744",
   "metadata": {
    "execution": {
     "iopub.execute_input": "2025-08-05T15:24:26.427750Z",
     "iopub.status.busy": "2025-08-05T15:24:26.426855Z",
     "iopub.status.idle": "2025-08-05T15:24:26.433621Z",
     "shell.execute_reply": "2025-08-05T15:24:26.432499Z"
    },
    "papermill": {
     "duration": 0.027995,
     "end_time": "2025-08-05T15:24:26.435384",
     "exception": false,
     "start_time": "2025-08-05T15:24:26.407389",
     "status": "completed"
    },
    "tags": []
   },
   "outputs": [],
   "source": [
    "import numpy as np\n",
    "from sklearn.pipeline import Pipeline\n",
    "from sklearn.preprocessing import StandardScaler\n",
    "\n",
    "model = Pipeline([\n",
    "    #(\"continuous_processor\", continuous_processor),\n",
    "    #(\"categorical_preprocessor\", categorical_preprocessor),\n",
    "    (\"scale\", StandardScaler() if universe[\"scale\"] == \"scale\" else None), \n",
    "    (\"model\", model),\n",
    "])"
   ]
  },
  {
   "cell_type": "code",
   "execution_count": 32,
   "id": "9442c04d",
   "metadata": {
    "execution": {
     "iopub.execute_input": "2025-08-05T15:24:26.476318Z",
     "iopub.status.busy": "2025-08-05T15:24:26.475638Z",
     "iopub.status.idle": "2025-08-05T15:24:27.806354Z",
     "shell.execute_reply": "2025-08-05T15:24:27.805361Z"
    },
    "papermill": {
     "duration": 1.352205,
     "end_time": "2025-08-05T15:24:27.807971",
     "exception": false,
     "start_time": "2025-08-05T15:24:26.455766",
     "status": "completed"
    },
    "tags": []
   },
   "outputs": [
    {
     "data": {
      "text/html": [
       "<style>#sk-container-id-1 {color: black;background-color: white;}#sk-container-id-1 pre{padding: 0;}#sk-container-id-1 div.sk-toggleable {background-color: white;}#sk-container-id-1 label.sk-toggleable__label {cursor: pointer;display: block;width: 100%;margin-bottom: 0;padding: 0.3em;box-sizing: border-box;text-align: center;}#sk-container-id-1 label.sk-toggleable__label-arrow:before {content: \"▸\";float: left;margin-right: 0.25em;color: #696969;}#sk-container-id-1 label.sk-toggleable__label-arrow:hover:before {color: black;}#sk-container-id-1 div.sk-estimator:hover label.sk-toggleable__label-arrow:before {color: black;}#sk-container-id-1 div.sk-toggleable__content {max-height: 0;max-width: 0;overflow: hidden;text-align: left;background-color: #f0f8ff;}#sk-container-id-1 div.sk-toggleable__content pre {margin: 0.2em;color: black;border-radius: 0.25em;background-color: #f0f8ff;}#sk-container-id-1 input.sk-toggleable__control:checked~div.sk-toggleable__content {max-height: 200px;max-width: 100%;overflow: auto;}#sk-container-id-1 input.sk-toggleable__control:checked~label.sk-toggleable__label-arrow:before {content: \"▾\";}#sk-container-id-1 div.sk-estimator input.sk-toggleable__control:checked~label.sk-toggleable__label {background-color: #d4ebff;}#sk-container-id-1 div.sk-label input.sk-toggleable__control:checked~label.sk-toggleable__label {background-color: #d4ebff;}#sk-container-id-1 input.sk-hidden--visually {border: 0;clip: rect(1px 1px 1px 1px);clip: rect(1px, 1px, 1px, 1px);height: 1px;margin: -1px;overflow: hidden;padding: 0;position: absolute;width: 1px;}#sk-container-id-1 div.sk-estimator {font-family: monospace;background-color: #f0f8ff;border: 1px dotted black;border-radius: 0.25em;box-sizing: border-box;margin-bottom: 0.5em;}#sk-container-id-1 div.sk-estimator:hover {background-color: #d4ebff;}#sk-container-id-1 div.sk-parallel-item::after {content: \"\";width: 100%;border-bottom: 1px solid gray;flex-grow: 1;}#sk-container-id-1 div.sk-label:hover label.sk-toggleable__label {background-color: #d4ebff;}#sk-container-id-1 div.sk-serial::before {content: \"\";position: absolute;border-left: 1px solid gray;box-sizing: border-box;top: 0;bottom: 0;left: 50%;z-index: 0;}#sk-container-id-1 div.sk-serial {display: flex;flex-direction: column;align-items: center;background-color: white;padding-right: 0.2em;padding-left: 0.2em;position: relative;}#sk-container-id-1 div.sk-item {position: relative;z-index: 1;}#sk-container-id-1 div.sk-parallel {display: flex;align-items: stretch;justify-content: center;background-color: white;position: relative;}#sk-container-id-1 div.sk-item::before, #sk-container-id-1 div.sk-parallel-item::before {content: \"\";position: absolute;border-left: 1px solid gray;box-sizing: border-box;top: 0;bottom: 0;left: 50%;z-index: -1;}#sk-container-id-1 div.sk-parallel-item {display: flex;flex-direction: column;z-index: 1;position: relative;background-color: white;}#sk-container-id-1 div.sk-parallel-item:first-child::after {align-self: flex-end;width: 50%;}#sk-container-id-1 div.sk-parallel-item:last-child::after {align-self: flex-start;width: 50%;}#sk-container-id-1 div.sk-parallel-item:only-child::after {width: 0;}#sk-container-id-1 div.sk-dashed-wrapped {border: 1px dashed gray;margin: 0 0.4em 0.5em 0.4em;box-sizing: border-box;padding-bottom: 0.4em;background-color: white;}#sk-container-id-1 div.sk-label label {font-family: monospace;font-weight: bold;display: inline-block;line-height: 1.2em;}#sk-container-id-1 div.sk-label-container {text-align: center;}#sk-container-id-1 div.sk-container {/* jupyter's `normalize.less` sets `[hidden] { display: none; }` but bootstrap.min.css set `[hidden] { display: none !important; }` so we also need the `!important` here to be able to override the default hidden behavior on the sphinx rendered scikit-learn.org. See: https://github.com/scikit-learn/scikit-learn/issues/21755 */display: inline-block !important;position: relative;}#sk-container-id-1 div.sk-text-repr-fallback {display: none;}</style><div id=\"sk-container-id-1\" class=\"sk-top-container\"><div class=\"sk-text-repr-fallback\"><pre>Pipeline(steps=[(&#x27;scale&#x27;, StandardScaler()),\n",
       "                (&#x27;model&#x27;, RandomForestClassifier())])</pre><b>In a Jupyter environment, please rerun this cell to show the HTML representation or trust the notebook. <br />On GitHub, the HTML representation is unable to render, please try loading this page with nbviewer.org.</b></div><div class=\"sk-container\" hidden><div class=\"sk-item sk-dashed-wrapped\"><div class=\"sk-label-container\"><div class=\"sk-label sk-toggleable\"><input class=\"sk-toggleable__control sk-hidden--visually\" id=\"sk-estimator-id-1\" type=\"checkbox\" ><label for=\"sk-estimator-id-1\" class=\"sk-toggleable__label sk-toggleable__label-arrow\">Pipeline</label><div class=\"sk-toggleable__content\"><pre>Pipeline(steps=[(&#x27;scale&#x27;, StandardScaler()),\n",
       "                (&#x27;model&#x27;, RandomForestClassifier())])</pre></div></div></div><div class=\"sk-serial\"><div class=\"sk-item\"><div class=\"sk-estimator sk-toggleable\"><input class=\"sk-toggleable__control sk-hidden--visually\" id=\"sk-estimator-id-2\" type=\"checkbox\" ><label for=\"sk-estimator-id-2\" class=\"sk-toggleable__label sk-toggleable__label-arrow\">StandardScaler</label><div class=\"sk-toggleable__content\"><pre>StandardScaler()</pre></div></div></div><div class=\"sk-item\"><div class=\"sk-estimator sk-toggleable\"><input class=\"sk-toggleable__control sk-hidden--visually\" id=\"sk-estimator-id-3\" type=\"checkbox\" ><label for=\"sk-estimator-id-3\" class=\"sk-toggleable__label sk-toggleable__label-arrow\">RandomForestClassifier</label><div class=\"sk-toggleable__content\"><pre>RandomForestClassifier()</pre></div></div></div></div></div></div></div>"
      ],
      "text/plain": [
       "Pipeline(steps=[('scale', StandardScaler()),\n",
       "                ('model', RandomForestClassifier())])"
      ]
     },
     "execution_count": 32,
     "metadata": {},
     "output_type": "execute_result"
    }
   ],
   "source": [
    "model.fit(X_train, y_train.values.ravel())"
   ]
  },
  {
   "cell_type": "code",
   "execution_count": 33,
   "id": "af59f8c0",
   "metadata": {
    "execution": {
     "iopub.execute_input": "2025-08-05T15:24:27.850304Z",
     "iopub.status.busy": "2025-08-05T15:24:27.849872Z",
     "iopub.status.idle": "2025-08-05T15:24:27.855549Z",
     "shell.execute_reply": "2025-08-05T15:24:27.854336Z"
    },
    "papermill": {
     "duration": 0.026995,
     "end_time": "2025-08-05T15:24:27.857429",
     "exception": false,
     "start_time": "2025-08-05T15:24:27.830434",
     "status": "completed"
    },
    "tags": []
   },
   "outputs": [],
   "source": [
    "from fairness_multiverse.universe import predict_w_threshold"
   ]
  },
  {
   "cell_type": "code",
   "execution_count": 34,
   "id": "a7cf2e16",
   "metadata": {
    "execution": {
     "iopub.execute_input": "2025-08-05T15:24:27.899263Z",
     "iopub.status.busy": "2025-08-05T15:24:27.898413Z",
     "iopub.status.idle": "2025-08-05T15:24:30.381915Z",
     "shell.execute_reply": "2025-08-05T15:24:30.380940Z"
    },
    "papermill": {
     "duration": 2.505472,
     "end_time": "2025-08-05T15:24:30.383672",
     "exception": false,
     "start_time": "2025-08-05T15:24:27.878200",
     "status": "completed"
    },
    "tags": []
   },
   "outputs": [
    {
     "data": {
      "text/plain": [
       "0.8635826552223832"
      ]
     },
     "execution_count": 34,
     "metadata": {},
     "output_type": "execute_result"
    }
   ],
   "source": [
    "probs_test = model.predict_proba(X_test)\n",
    "\n",
    "'''\n",
    "Below code returns a boolean array (or binary 0/1 array depending on how it’s used) where each element \n",
    "is True if the probability of class 1 is greater than or equal to the threshold, and False otherwise.\n",
    "'''\n",
    "y_pred_default = predict_w_threshold(probs_test, 0.5)\n",
    "\n",
    "from sklearn.metrics import accuracy_score\n",
    "\n",
    "# Naive prediction\n",
    "accuracy_score(y_true = y_true, y_pred = y_pred_default)"
   ]
  },
  {
   "cell_type": "code",
   "execution_count": 35,
   "id": "081964c3",
   "metadata": {
    "execution": {
     "iopub.execute_input": "2025-08-05T15:24:30.430400Z",
     "iopub.status.busy": "2025-08-05T15:24:30.429384Z",
     "iopub.status.idle": "2025-08-05T15:24:33.262728Z",
     "shell.execute_reply": "2025-08-05T15:24:33.261412Z"
    },
    "papermill": {
     "duration": 2.858223,
     "end_time": "2025-08-05T15:24:33.265104",
     "exception": false,
     "start_time": "2025-08-05T15:24:30.406881",
     "status": "completed"
    },
    "tags": []
   },
   "outputs": [
    {
     "data": {
      "text/plain": [
       "array([0, 0, 0, ..., 0, 0, 0])"
      ]
     },
     "execution_count": 35,
     "metadata": {},
     "output_type": "execute_result"
    }
   ],
   "source": [
    "model.predict(X_test)"
   ]
  },
  {
   "cell_type": "markdown",
   "id": "56c9705b",
   "metadata": {
    "papermill": {
     "duration": 0.031806,
     "end_time": "2025-08-05T15:24:33.329595",
     "exception": false,
     "start_time": "2025-08-05T15:24:33.297789",
     "status": "completed"
    },
    "tags": []
   },
   "source": [
    "# Conformal Prediction"
   ]
  },
  {
   "cell_type": "code",
   "execution_count": 36,
   "id": "160ec6ff",
   "metadata": {
    "execution": {
     "iopub.execute_input": "2025-08-05T15:24:33.396903Z",
     "iopub.status.busy": "2025-08-05T15:24:33.396091Z",
     "iopub.status.idle": "2025-08-05T15:24:33.403224Z",
     "shell.execute_reply": "2025-08-05T15:24:33.401633Z"
    },
    "papermill": {
     "duration": 0.043723,
     "end_time": "2025-08-05T15:24:33.405930",
     "exception": false,
     "start_time": "2025-08-05T15:24:33.362207",
     "status": "completed"
    },
    "tags": []
   },
   "outputs": [],
   "source": [
    "# Miscoverage level for conformal prediction (10% allowed error rate => 90% target coverage)\n",
    "alpha = 0.1"
   ]
  },
  {
   "cell_type": "code",
   "execution_count": 37,
   "id": "eadf4555-3dd3-440e-8e35-f82a4ad9f855",
   "metadata": {
    "execution": {
     "iopub.execute_input": "2025-08-05T15:24:33.475309Z",
     "iopub.status.busy": "2025-08-05T15:24:33.474045Z",
     "iopub.status.idle": "2025-08-05T15:24:36.037618Z",
     "shell.execute_reply": "2025-08-05T15:24:36.036407Z"
    },
    "papermill": {
     "duration": 2.60076,
     "end_time": "2025-08-05T15:24:36.040189",
     "exception": false,
     "start_time": "2025-08-05T15:24:33.439429",
     "status": "completed"
    },
    "tags": []
   },
   "outputs": [],
   "source": [
    "probs_calib = model.predict_proba(X_calib)"
   ]
  },
  {
   "cell_type": "code",
   "execution_count": 38,
   "id": "2ed93547-6d5d-4983-9b36-1ecb300da49a",
   "metadata": {
    "execution": {
     "iopub.execute_input": "2025-08-05T15:24:36.101920Z",
     "iopub.status.busy": "2025-08-05T15:24:36.101062Z",
     "iopub.status.idle": "2025-08-05T15:24:36.109336Z",
     "shell.execute_reply": "2025-08-05T15:24:36.107898Z"
    },
    "papermill": {
     "duration": 0.040149,
     "end_time": "2025-08-05T15:24:36.111505",
     "exception": false,
     "start_time": "2025-08-05T15:24:36.071356",
     "status": "completed"
    },
    "tags": []
   },
   "outputs": [],
   "source": [
    "y_calib = y_calib.values.ravel().astype(int)"
   ]
  },
  {
   "cell_type": "code",
   "execution_count": 39,
   "id": "65d1320d-f588-4b38-9072-62af1ae97f7d",
   "metadata": {
    "execution": {
     "iopub.execute_input": "2025-08-05T15:24:36.161684Z",
     "iopub.status.busy": "2025-08-05T15:24:36.160636Z",
     "iopub.status.idle": "2025-08-05T15:24:36.171082Z",
     "shell.execute_reply": "2025-08-05T15:24:36.169820Z"
    },
    "papermill": {
     "duration": 0.037206,
     "end_time": "2025-08-05T15:24:36.172855",
     "exception": false,
     "start_time": "2025-08-05T15:24:36.135649",
     "status": "completed"
    },
    "tags": []
   },
   "outputs": [],
   "source": [
    "from fairness_multiverse.conformal import compute_nc_scores\n",
    "\n",
    "# Compute nonconformity scores on calibration set (1 - probability of true class)\n",
    "nc_scores = compute_nc_scores(probs_calib, y_calib)"
   ]
  },
  {
   "cell_type": "code",
   "execution_count": 40,
   "id": "df3b8ca3-53b7-43d5-9667-7c85da7aeda2",
   "metadata": {
    "execution": {
     "iopub.execute_input": "2025-08-05T15:24:36.223797Z",
     "iopub.status.busy": "2025-08-05T15:24:36.222835Z",
     "iopub.status.idle": "2025-08-05T15:24:36.231189Z",
     "shell.execute_reply": "2025-08-05T15:24:36.229911Z"
    },
    "papermill": {
     "duration": 0.036086,
     "end_time": "2025-08-05T15:24:36.233079",
     "exception": false,
     "start_time": "2025-08-05T15:24:36.196993",
     "status": "completed"
    },
    "tags": []
   },
   "outputs": [],
   "source": [
    "from fairness_multiverse.conformal import find_threshold\n",
    "\n",
    "# Find conformal threshold q_hat for the given alpha (split conformal method)\n",
    "q_hat = find_threshold(nc_scores, alpha)"
   ]
  },
  {
   "cell_type": "code",
   "execution_count": 41,
   "id": "4d29e6c1-0ef6-4aa4-b8fe-4fe79b0d033a",
   "metadata": {
    "execution": {
     "iopub.execute_input": "2025-08-05T15:24:36.282758Z",
     "iopub.status.busy": "2025-08-05T15:24:36.281722Z",
     "iopub.status.idle": "2025-08-05T15:24:36.291030Z",
     "shell.execute_reply": "2025-08-05T15:24:36.289750Z"
    },
    "papermill": {
     "duration": 0.036208,
     "end_time": "2025-08-05T15:24:36.293075",
     "exception": false,
     "start_time": "2025-08-05T15:24:36.256867",
     "status": "completed"
    },
    "tags": []
   },
   "outputs": [
    {
     "data": {
      "text/plain": [
       "0.6599999999999999"
      ]
     },
     "execution_count": 41,
     "metadata": {},
     "output_type": "execute_result"
    }
   ],
   "source": [
    "q_hat"
   ]
  },
  {
   "cell_type": "code",
   "execution_count": 42,
   "id": "92460794-cdac-4be2-ba28-f28c0515a6fb",
   "metadata": {
    "execution": {
     "iopub.execute_input": "2025-08-05T15:24:36.340459Z",
     "iopub.status.busy": "2025-08-05T15:24:36.339508Z",
     "iopub.status.idle": "2025-08-05T15:24:39.037436Z",
     "shell.execute_reply": "2025-08-05T15:24:39.036678Z"
    },
    "papermill": {
     "duration": 2.721433,
     "end_time": "2025-08-05T15:24:39.038903",
     "exception": false,
     "start_time": "2025-08-05T15:24:36.317470",
     "status": "completed"
    },
    "tags": []
   },
   "outputs": [],
   "source": [
    "from fairness_multiverse.conformal import predict_conformal_sets\n",
    "\n",
    "# Generate prediction sets for each test example\n",
    "pred_sets = predict_conformal_sets(model, X_test, q_hat)"
   ]
  },
  {
   "cell_type": "code",
   "execution_count": 43,
   "id": "d90c9a65-e6db-4f5d-80cd-e68fb7e46829",
   "metadata": {
    "execution": {
     "iopub.execute_input": "2025-08-05T15:24:39.064209Z",
     "iopub.status.busy": "2025-08-05T15:24:39.063914Z",
     "iopub.status.idle": "2025-08-05T15:24:39.068419Z",
     "shell.execute_reply": "2025-08-05T15:24:39.067563Z"
    },
    "papermill": {
     "duration": 0.017456,
     "end_time": "2025-08-05T15:24:39.069833",
     "exception": false,
     "start_time": "2025-08-05T15:24:39.052377",
     "status": "completed"
    },
    "tags": []
   },
   "outputs": [],
   "source": [
    "y_true = y_true.squeeze()"
   ]
  },
  {
   "cell_type": "code",
   "execution_count": 44,
   "id": "3a58a54a-1e68-46b9-927a-df01f18aebc8",
   "metadata": {
    "execution": {
     "iopub.execute_input": "2025-08-05T15:24:39.092653Z",
     "iopub.status.busy": "2025-08-05T15:24:39.092175Z",
     "iopub.status.idle": "2025-08-05T15:24:39.534738Z",
     "shell.execute_reply": "2025-08-05T15:24:39.533987Z"
    },
    "papermill": {
     "duration": 0.455024,
     "end_time": "2025-08-05T15:24:39.536125",
     "exception": false,
     "start_time": "2025-08-05T15:24:39.081101",
     "status": "completed"
    },
    "tags": []
   },
   "outputs": [],
   "source": [
    "from fairness_multiverse.conformal import evaluate_sets\n",
    "\n",
    "# Evaluate coverage and average set size on test data\n",
    "metrics = evaluate_sets(pred_sets, y_true)"
   ]
  },
  {
   "cell_type": "markdown",
   "id": "2b569c12-9aaa-4c88-98c9-bbcd0cf3ebb8",
   "metadata": {
    "papermill": {
     "duration": 0.010394,
     "end_time": "2025-08-05T15:24:39.557768",
     "exception": false,
     "start_time": "2025-08-05T15:24:39.547374",
     "status": "completed"
    },
    "tags": []
   },
   "source": [
    "# CP Metrics"
   ]
  },
  {
   "cell_type": "code",
   "execution_count": 45,
   "id": "5ce0a5cb-201f-45a0-ade5-94c7f0bd6095",
   "metadata": {
    "execution": {
     "iopub.execute_input": "2025-08-05T15:24:39.580124Z",
     "iopub.status.busy": "2025-08-05T15:24:39.579353Z",
     "iopub.status.idle": "2025-08-05T15:24:39.585305Z",
     "shell.execute_reply": "2025-08-05T15:24:39.584557Z"
    },
    "papermill": {
     "duration": 0.018704,
     "end_time": "2025-08-05T15:24:39.586822",
     "exception": false,
     "start_time": "2025-08-05T15:24:39.568118",
     "status": "completed"
    },
    "tags": []
   },
   "outputs": [
    {
     "data": {
      "text/plain": [
       "{'coverage': 0.9104224724111024, 'avg_size': 1.1372087838591016}"
      ]
     },
     "execution_count": 45,
     "metadata": {},
     "output_type": "execute_result"
    }
   ],
   "source": [
    "metrics"
   ]
  },
  {
   "cell_type": "code",
   "execution_count": 46,
   "id": "9b9a838d-31c9-430b-ae14-12baee460d17",
   "metadata": {
    "execution": {
     "iopub.execute_input": "2025-08-05T15:24:39.609651Z",
     "iopub.status.busy": "2025-08-05T15:24:39.609147Z",
     "iopub.status.idle": "2025-08-05T15:24:39.613665Z",
     "shell.execute_reply": "2025-08-05T15:24:39.612913Z"
    },
    "papermill": {
     "duration": 0.01698,
     "end_time": "2025-08-05T15:24:39.615064",
     "exception": false,
     "start_time": "2025-08-05T15:24:39.598084",
     "status": "completed"
    },
    "tags": []
   },
   "outputs": [],
   "source": [
    "example_universe = universe.copy()\n",
    "universe_training_year = example_universe.get(\"training_year\")\n",
    "universe_training_size = example_universe.get(\"training_size\")\n",
    "universe_scale = example_universe.get(\"scale\")\n",
    "universe_model = example_universe.get(\"model\")\n",
    "universe_exclude_features = example_universe.get(\"exclude_features\")\n",
    "universe_exclude_subgroups = example_universe.get(\"exclude_subgroups\")"
   ]
  },
  {
   "cell_type": "code",
   "execution_count": 47,
   "id": "f4b6a8ac-9dc0-4245-8a91-5b3b5999c4f9",
   "metadata": {
    "execution": {
     "iopub.execute_input": "2025-08-05T15:24:39.638842Z",
     "iopub.status.busy": "2025-08-05T15:24:39.638262Z",
     "iopub.status.idle": "2025-08-05T15:24:39.643179Z",
     "shell.execute_reply": "2025-08-05T15:24:39.642366Z"
    },
    "papermill": {
     "duration": 0.017744,
     "end_time": "2025-08-05T15:24:39.644602",
     "exception": false,
     "start_time": "2025-08-05T15:24:39.626858",
     "status": "completed"
    },
    "tags": []
   },
   "outputs": [],
   "source": [
    "cp_metrics_dict = {\n",
    "    \"universe_id\": [universe_id],\n",
    "    \"universe_training_year\": [universe_training_year],\n",
    "    \"universe_training_size\": [universe_training_size],\n",
    "    \"universe_scale\": [universe_scale],\n",
    "    \"universe_model\": [universe_model],\n",
    "    \"universe_exclude_features\": [universe_exclude_features],\n",
    "    \"universe_exclude_subgroups\": [universe_exclude_subgroups],\n",
    "    \"q_hat\": [q_hat],\n",
    "    \"coverage\": [metrics[\"coverage\"]],\n",
    "    \"avg_size\": [metrics[\"avg_size\"]],\n",
    "}"
   ]
  },
  {
   "cell_type": "code",
   "execution_count": 48,
   "id": "908acbb1-0371-4915-85ca-3fa520d2efe2",
   "metadata": {
    "execution": {
     "iopub.execute_input": "2025-08-05T15:24:39.667755Z",
     "iopub.status.busy": "2025-08-05T15:24:39.667531Z",
     "iopub.status.idle": "2025-08-05T15:24:39.673250Z",
     "shell.execute_reply": "2025-08-05T15:24:39.672421Z"
    },
    "papermill": {
     "duration": 0.018565,
     "end_time": "2025-08-05T15:24:39.674658",
     "exception": false,
     "start_time": "2025-08-05T15:24:39.656093",
     "status": "completed"
    },
    "tags": []
   },
   "outputs": [
    {
     "data": {
      "text/plain": [
       "{'universe_id': ['2d8b29a568cd9d4b00e2aea8937d40b5'],\n",
       " 'universe_training_year': ['2014'],\n",
       " 'universe_training_size': ['5k'],\n",
       " 'universe_scale': ['scale'],\n",
       " 'universe_model': ['rf'],\n",
       " 'universe_exclude_features': ['age'],\n",
       " 'universe_exclude_subgroups': ['drop-non-german'],\n",
       " 'q_hat': [0.6599999999999999],\n",
       " 'coverage': [0.9104224724111024],\n",
       " 'avg_size': [1.1372087838591016]}"
      ]
     },
     "execution_count": 48,
     "metadata": {},
     "output_type": "execute_result"
    }
   ],
   "source": [
    "cp_metrics_dict"
   ]
  },
  {
   "cell_type": "code",
   "execution_count": 49,
   "id": "33007efc-14e9-4ec6-97ac-56a455c82265",
   "metadata": {
    "execution": {
     "iopub.execute_input": "2025-08-05T15:24:39.698156Z",
     "iopub.status.busy": "2025-08-05T15:24:39.697651Z",
     "iopub.status.idle": "2025-08-05T15:24:39.702488Z",
     "shell.execute_reply": "2025-08-05T15:24:39.701659Z"
    },
    "papermill": {
     "duration": 0.017711,
     "end_time": "2025-08-05T15:24:39.703824",
     "exception": false,
     "start_time": "2025-08-05T15:24:39.686113",
     "status": "completed"
    },
    "tags": []
   },
   "outputs": [],
   "source": [
    "cp_metrics_df = pd.DataFrame(cp_metrics_dict)"
   ]
  },
  {
   "cell_type": "code",
   "execution_count": 50,
   "id": "db12611b-57b2-4910-b9d0-355adfd6e7bf",
   "metadata": {
    "execution": {
     "iopub.execute_input": "2025-08-05T15:24:39.727364Z",
     "iopub.status.busy": "2025-08-05T15:24:39.726883Z",
     "iopub.status.idle": "2025-08-05T15:24:39.740710Z",
     "shell.execute_reply": "2025-08-05T15:24:39.739980Z"
    },
    "papermill": {
     "duration": 0.026372,
     "end_time": "2025-08-05T15:24:39.741946",
     "exception": false,
     "start_time": "2025-08-05T15:24:39.715574",
     "status": "completed"
    },
    "tags": []
   },
   "outputs": [
    {
     "data": {
      "text/html": [
       "<div>\n",
       "<style scoped>\n",
       "    .dataframe tbody tr th:only-of-type {\n",
       "        vertical-align: middle;\n",
       "    }\n",
       "\n",
       "    .dataframe tbody tr th {\n",
       "        vertical-align: top;\n",
       "    }\n",
       "\n",
       "    .dataframe thead th {\n",
       "        text-align: right;\n",
       "    }\n",
       "</style>\n",
       "<table border=\"1\" class=\"dataframe\">\n",
       "  <thead>\n",
       "    <tr style=\"text-align: right;\">\n",
       "      <th></th>\n",
       "      <th>universe_id</th>\n",
       "      <th>universe_training_year</th>\n",
       "      <th>universe_training_size</th>\n",
       "      <th>universe_scale</th>\n",
       "      <th>universe_model</th>\n",
       "      <th>universe_exclude_features</th>\n",
       "      <th>universe_exclude_subgroups</th>\n",
       "      <th>q_hat</th>\n",
       "      <th>coverage</th>\n",
       "      <th>avg_size</th>\n",
       "    </tr>\n",
       "  </thead>\n",
       "  <tbody>\n",
       "    <tr>\n",
       "      <th>0</th>\n",
       "      <td>2d8b29a568cd9d4b00e2aea8937d40b5</td>\n",
       "      <td>2014</td>\n",
       "      <td>5k</td>\n",
       "      <td>scale</td>\n",
       "      <td>rf</td>\n",
       "      <td>age</td>\n",
       "      <td>drop-non-german</td>\n",
       "      <td>0.66</td>\n",
       "      <td>0.910422</td>\n",
       "      <td>1.137209</td>\n",
       "    </tr>\n",
       "  </tbody>\n",
       "</table>\n",
       "</div>"
      ],
      "text/plain": [
       "                        universe_id universe_training_year  \\\n",
       "0  2d8b29a568cd9d4b00e2aea8937d40b5                   2014   \n",
       "\n",
       "  universe_training_size universe_scale universe_model  \\\n",
       "0                     5k          scale             rf   \n",
       "\n",
       "  universe_exclude_features universe_exclude_subgroups  q_hat  coverage  \\\n",
       "0                       age            drop-non-german   0.66  0.910422   \n",
       "\n",
       "   avg_size  \n",
       "0  1.137209  "
      ]
     },
     "execution_count": 50,
     "metadata": {},
     "output_type": "execute_result"
    }
   ],
   "source": [
    "cp_metrics_df"
   ]
  },
  {
   "cell_type": "code",
   "execution_count": 51,
   "id": "b7fbde55-a0a1-47e4-9af6-fe4a17fa8c61",
   "metadata": {
    "execution": {
     "iopub.execute_input": "2025-08-05T15:24:39.765127Z",
     "iopub.status.busy": "2025-08-05T15:24:39.764650Z",
     "iopub.status.idle": "2025-08-05T15:24:39.768652Z",
     "shell.execute_reply": "2025-08-05T15:24:39.767958Z"
    },
    "papermill": {
     "duration": 0.017112,
     "end_time": "2025-08-05T15:24:39.770346",
     "exception": false,
     "start_time": "2025-08-05T15:24:39.753234",
     "status": "completed"
    },
    "tags": []
   },
   "outputs": [],
   "source": [
    "# Conditional Coverage & looking at subgroups"
   ]
  },
  {
   "cell_type": "code",
   "execution_count": 52,
   "id": "027ae886-68dd-4141-96c7-805a5450e1ef",
   "metadata": {
    "execution": {
     "iopub.execute_input": "2025-08-05T15:24:39.794210Z",
     "iopub.status.busy": "2025-08-05T15:24:39.793697Z",
     "iopub.status.idle": "2025-08-05T15:24:39.954753Z",
     "shell.execute_reply": "2025-08-05T15:24:39.954033Z"
    },
    "papermill": {
     "duration": 0.174187,
     "end_time": "2025-08-05T15:24:39.956259",
     "exception": false,
     "start_time": "2025-08-05T15:24:39.782072",
     "status": "completed"
    },
    "tags": []
   },
   "outputs": [],
   "source": [
    "from fairness_multiverse.conformal import build_cp_groups\n",
    "\n",
    "cp_groups_df = build_cp_groups(pred_sets, y_true, X_test.index, org_test)\n",
    "#needs universe_id and setting"
   ]
  },
  {
   "cell_type": "code",
   "execution_count": 53,
   "id": "6cbdab96-b2b2-45af-ad54-d0516db2e28d",
   "metadata": {
    "execution": {
     "iopub.execute_input": "2025-08-05T15:24:39.980030Z",
     "iopub.status.busy": "2025-08-05T15:24:39.979741Z",
     "iopub.status.idle": "2025-08-05T15:24:40.870291Z",
     "shell.execute_reply": "2025-08-05T15:24:40.869553Z"
    },
    "papermill": {
     "duration": 0.903714,
     "end_time": "2025-08-05T15:24:40.871744",
     "exception": false,
     "start_time": "2025-08-05T15:24:39.968030",
     "status": "completed"
    },
    "tags": []
   },
   "outputs": [],
   "source": [
    "# Define covered = 1 if true_label is in the predicted set\n",
    "cp_groups_df['covered'] = cp_groups_df.apply(\n",
    "    lambda r: int(r['true_label'] in r['pred_set']),\n",
    "    axis=1\n",
    ")"
   ]
  },
  {
   "cell_type": "code",
   "execution_count": 54,
   "id": "338ff529-1a6b-4b87-a931-8e4788d52aad",
   "metadata": {
    "execution": {
     "iopub.execute_input": "2025-08-05T15:24:40.896009Z",
     "iopub.status.busy": "2025-08-05T15:24:40.895670Z",
     "iopub.status.idle": "2025-08-05T15:24:40.900275Z",
     "shell.execute_reply": "2025-08-05T15:24:40.899383Z"
    },
    "papermill": {
     "duration": 0.018354,
     "end_time": "2025-08-05T15:24:40.901902",
     "exception": false,
     "start_time": "2025-08-05T15:24:40.883548",
     "status": "completed"
    },
    "tags": []
   },
   "outputs": [],
   "source": [
    "#cp_groups_df"
   ]
  },
  {
   "cell_type": "code",
   "execution_count": 55,
   "id": "90032e27-66df-4540-9169-4e89cfbaa758",
   "metadata": {
    "execution": {
     "iopub.execute_input": "2025-08-05T15:24:40.927167Z",
     "iopub.status.busy": "2025-08-05T15:24:40.926675Z",
     "iopub.status.idle": "2025-08-05T15:24:40.936274Z",
     "shell.execute_reply": "2025-08-05T15:24:40.935472Z"
    },
    "papermill": {
     "duration": 0.023514,
     "end_time": "2025-08-05T15:24:40.937658",
     "exception": false,
     "start_time": "2025-08-05T15:24:40.914144",
     "status": "completed"
    },
    "tags": []
   },
   "outputs": [],
   "source": [
    "subgroups = ['frau1','nongerman','nongerman_male','nongerman_female']\n",
    "\n",
    "# Conditional coverage for subgroup==1\n",
    "cond_coverage = {\n",
    "    g: cp_groups_df.loc[cp_groups_df[g]==1, 'covered'].mean()\n",
    "    for g in subgroups\n",
    "}"
   ]
  },
  {
   "cell_type": "code",
   "execution_count": 56,
   "id": "1e348fb1-b9c3-45bc-ba23-f016827a7e0d",
   "metadata": {
    "execution": {
     "iopub.execute_input": "2025-08-05T15:24:40.963196Z",
     "iopub.status.busy": "2025-08-05T15:24:40.962689Z",
     "iopub.status.idle": "2025-08-05T15:24:40.969397Z",
     "shell.execute_reply": "2025-08-05T15:24:40.968636Z"
    },
    "papermill": {
     "duration": 0.020664,
     "end_time": "2025-08-05T15:24:40.970832",
     "exception": false,
     "start_time": "2025-08-05T15:24:40.950168",
     "status": "completed"
    },
    "tags": []
   },
   "outputs": [
    {
     "data": {
      "text/plain": [
       "{'frau1': 0.9115244642135059,\n",
       " 'nongerman': 0.8963678212541403,\n",
       " 'nongerman_male': 0.9029991894082681,\n",
       " 'nongerman_female': 0.8853949329359165}"
      ]
     },
     "execution_count": 56,
     "metadata": {},
     "output_type": "execute_result"
    }
   ],
   "source": [
    "cond_coverage"
   ]
  },
  {
   "cell_type": "code",
   "execution_count": 57,
   "id": "f5093324-c3dd-4d63-bc4c-8d945e5c8bbb",
   "metadata": {
    "execution": {
     "iopub.execute_input": "2025-08-05T15:24:40.996699Z",
     "iopub.status.busy": "2025-08-05T15:24:40.996170Z",
     "iopub.status.idle": "2025-08-05T15:24:41.002528Z",
     "shell.execute_reply": "2025-08-05T15:24:41.001672Z"
    },
    "papermill": {
     "duration": 0.020667,
     "end_time": "2025-08-05T15:24:41.004036",
     "exception": false,
     "start_time": "2025-08-05T15:24:40.983369",
     "status": "completed"
    },
    "tags": []
   },
   "outputs": [],
   "source": [
    "for subgroup, cov in cond_coverage.items():\n",
    "    cp_metrics_df[f\"cov_{subgroup}\"] = cov"
   ]
  },
  {
   "cell_type": "code",
   "execution_count": 58,
   "id": "6e872e10-dbe5-49e8-b554-5030c98ff75d",
   "metadata": {
    "execution": {
     "iopub.execute_input": "2025-08-05T15:24:41.030071Z",
     "iopub.status.busy": "2025-08-05T15:24:41.029575Z",
     "iopub.status.idle": "2025-08-05T15:24:41.044258Z",
     "shell.execute_reply": "2025-08-05T15:24:41.043381Z"
    },
    "papermill": {
     "duration": 0.029105,
     "end_time": "2025-08-05T15:24:41.045767",
     "exception": false,
     "start_time": "2025-08-05T15:24:41.016662",
     "status": "completed"
    },
    "tags": []
   },
   "outputs": [
    {
     "data": {
      "text/html": [
       "<div>\n",
       "<style scoped>\n",
       "    .dataframe tbody tr th:only-of-type {\n",
       "        vertical-align: middle;\n",
       "    }\n",
       "\n",
       "    .dataframe tbody tr th {\n",
       "        vertical-align: top;\n",
       "    }\n",
       "\n",
       "    .dataframe thead th {\n",
       "        text-align: right;\n",
       "    }\n",
       "</style>\n",
       "<table border=\"1\" class=\"dataframe\">\n",
       "  <thead>\n",
       "    <tr style=\"text-align: right;\">\n",
       "      <th></th>\n",
       "      <th>universe_id</th>\n",
       "      <th>universe_training_year</th>\n",
       "      <th>universe_training_size</th>\n",
       "      <th>universe_scale</th>\n",
       "      <th>universe_model</th>\n",
       "      <th>universe_exclude_features</th>\n",
       "      <th>universe_exclude_subgroups</th>\n",
       "      <th>q_hat</th>\n",
       "      <th>coverage</th>\n",
       "      <th>avg_size</th>\n",
       "      <th>cov_frau1</th>\n",
       "      <th>cov_nongerman</th>\n",
       "      <th>cov_nongerman_male</th>\n",
       "      <th>cov_nongerman_female</th>\n",
       "    </tr>\n",
       "  </thead>\n",
       "  <tbody>\n",
       "    <tr>\n",
       "      <th>0</th>\n",
       "      <td>2d8b29a568cd9d4b00e2aea8937d40b5</td>\n",
       "      <td>2014</td>\n",
       "      <td>5k</td>\n",
       "      <td>scale</td>\n",
       "      <td>rf</td>\n",
       "      <td>age</td>\n",
       "      <td>drop-non-german</td>\n",
       "      <td>0.66</td>\n",
       "      <td>0.910422</td>\n",
       "      <td>1.137209</td>\n",
       "      <td>0.911524</td>\n",
       "      <td>0.896368</td>\n",
       "      <td>0.902999</td>\n",
       "      <td>0.885395</td>\n",
       "    </tr>\n",
       "  </tbody>\n",
       "</table>\n",
       "</div>"
      ],
      "text/plain": [
       "                        universe_id universe_training_year  \\\n",
       "0  2d8b29a568cd9d4b00e2aea8937d40b5                   2014   \n",
       "\n",
       "  universe_training_size universe_scale universe_model  \\\n",
       "0                     5k          scale             rf   \n",
       "\n",
       "  universe_exclude_features universe_exclude_subgroups  q_hat  coverage  \\\n",
       "0                       age            drop-non-german   0.66  0.910422   \n",
       "\n",
       "   avg_size  cov_frau1  cov_nongerman  cov_nongerman_male  \\\n",
       "0  1.137209   0.911524       0.896368            0.902999   \n",
       "\n",
       "   cov_nongerman_female  \n",
       "0              0.885395  "
      ]
     },
     "execution_count": 58,
     "metadata": {},
     "output_type": "execute_result"
    }
   ],
   "source": [
    "cp_metrics_df"
   ]
  },
  {
   "cell_type": "markdown",
   "id": "33774451",
   "metadata": {
    "papermill": {
     "duration": 0.012064,
     "end_time": "2025-08-05T15:24:41.071061",
     "exception": false,
     "start_time": "2025-08-05T15:24:41.058997",
     "status": "completed"
    },
    "tags": []
   },
   "source": [
    "# (Fairness) Metrics"
   ]
  },
  {
   "cell_type": "code",
   "execution_count": 59,
   "id": "debc5d62",
   "metadata": {
    "execution": {
     "iopub.execute_input": "2025-08-05T15:24:41.106949Z",
     "iopub.status.busy": "2025-08-05T15:24:41.106413Z",
     "iopub.status.idle": "2025-08-05T15:24:41.129954Z",
     "shell.execute_reply": "2025-08-05T15:24:41.128962Z"
    },
    "papermill": {
     "duration": 0.048499,
     "end_time": "2025-08-05T15:24:41.131865",
     "exception": false,
     "start_time": "2025-08-05T15:24:41.083366",
     "status": "completed"
    },
    "tags": []
   },
   "outputs": [],
   "source": [
    "# do I need to include maxdeutsch1.missing?\n",
    "\n",
    "import numpy as np\n",
    "\n",
    "colname_to_bin = \"maxdeutsch1\"\n",
    "majority_value = org_train[colname_to_bin].mode()[0]\n",
    "\n",
    "org_test[\"majmin\"] = np.where(org_test[colname_to_bin] == majority_value, \"majority\", \"minority\")"
   ]
  },
  {
   "cell_type": "code",
   "execution_count": 60,
   "id": "06a50de5",
   "metadata": {
    "execution": {
     "iopub.execute_input": "2025-08-05T15:24:41.181826Z",
     "iopub.status.busy": "2025-08-05T15:24:41.181074Z",
     "iopub.status.idle": "2025-08-05T15:24:43.053672Z",
     "shell.execute_reply": "2025-08-05T15:24:43.052616Z"
    },
    "papermill": {
     "duration": 1.900759,
     "end_time": "2025-08-05T15:24:43.055810",
     "exception": false,
     "start_time": "2025-08-05T15:24:41.155051",
     "status": "completed"
    },
    "tags": []
   },
   "outputs": [],
   "source": [
    "example_universe = universe.copy()\n",
    "example_universe[\"cutoff\"] = example_universe[\"cutoff\"][0]\n",
    "example_universe[\"eval_fairness_grouping\"] = example_universe[\"eval_fairness_grouping\"][0]\n",
    "fairness_dict, metric_frame = universe_analysis.compute_metrics(\n",
    "    example_universe,\n",
    "    y_pred_prob=probs_test,\n",
    "    y_test=y_true,\n",
    "    org_test=org_test,\n",
    ")"
   ]
  },
  {
   "cell_type": "markdown",
   "id": "f95d4e02",
   "metadata": {
    "papermill": {
     "duration": 0.011874,
     "end_time": "2025-08-05T15:24:43.082045",
     "exception": false,
     "start_time": "2025-08-05T15:24:43.070171",
     "status": "completed"
    },
    "tags": []
   },
   "source": [
    "# Overall"
   ]
  },
  {
   "cell_type": "markdown",
   "id": "bdee4871",
   "metadata": {
    "papermill": {
     "duration": 0.022474,
     "end_time": "2025-08-05T15:24:43.116619",
     "exception": false,
     "start_time": "2025-08-05T15:24:43.094145",
     "status": "completed"
    },
    "tags": []
   },
   "source": [
    "Fairness\n",
    "Main fairness target: Equalized Odds. Seems to be a better fit than equal opportunity, since we're not only interested in Y = 1. Seems to be a better fit than demographic parity, since we also care about accuracy, not just equal distribution of preds.\n",
    "\n",
    "Pick column for computation of fairness metrics\n",
    "\n",
    "Performance\n",
    "Overall performance measures, most interesting in relation to the measures split by group below"
   ]
  },
  {
   "cell_type": "code",
   "execution_count": 61,
   "id": "c4e067c6",
   "metadata": {
    "execution": {
     "iopub.execute_input": "2025-08-05T15:24:43.172025Z",
     "iopub.status.busy": "2025-08-05T15:24:43.171463Z",
     "iopub.status.idle": "2025-08-05T15:24:43.182349Z",
     "shell.execute_reply": "2025-08-05T15:24:43.181237Z"
    },
    "papermill": {
     "duration": 0.041228,
     "end_time": "2025-08-05T15:24:43.184776",
     "exception": false,
     "start_time": "2025-08-05T15:24:43.143548",
     "status": "completed"
    },
    "tags": []
   },
   "outputs": [
    {
     "data": {
      "text/plain": [
       "accuracy                   0.198551\n",
       "balanced accuracy          0.532339\n",
       "f1                         0.239046\n",
       "precision                  0.136100\n",
       "false positive rate        0.916639\n",
       "false negative rate        0.018683\n",
       "selection rate             0.924936\n",
       "count                  89710.000000\n",
       "dtype: float64"
      ]
     },
     "execution_count": 61,
     "metadata": {},
     "output_type": "execute_result"
    }
   ],
   "source": [
    "metric_frame.overall"
   ]
  },
  {
   "cell_type": "markdown",
   "id": "e968fe9d",
   "metadata": {
    "papermill": {
     "duration": 0.035736,
     "end_time": "2025-08-05T15:24:43.258726",
     "exception": false,
     "start_time": "2025-08-05T15:24:43.222990",
     "status": "completed"
    },
    "tags": []
   },
   "source": [
    "By Group"
   ]
  },
  {
   "cell_type": "code",
   "execution_count": 62,
   "id": "ec325bce",
   "metadata": {
    "execution": {
     "iopub.execute_input": "2025-08-05T15:24:43.328241Z",
     "iopub.status.busy": "2025-08-05T15:24:43.327648Z",
     "iopub.status.idle": "2025-08-05T15:24:43.349412Z",
     "shell.execute_reply": "2025-08-05T15:24:43.348236Z"
    },
    "papermill": {
     "duration": 0.054103,
     "end_time": "2025-08-05T15:24:43.351280",
     "exception": false,
     "start_time": "2025-08-05T15:24:43.297177",
     "status": "completed"
    },
    "tags": []
   },
   "outputs": [
    {
     "data": {
      "text/html": [
       "<div>\n",
       "<style scoped>\n",
       "    .dataframe tbody tr th:only-of-type {\n",
       "        vertical-align: middle;\n",
       "    }\n",
       "\n",
       "    .dataframe tbody tr th {\n",
       "        vertical-align: top;\n",
       "    }\n",
       "\n",
       "    .dataframe thead th {\n",
       "        text-align: right;\n",
       "    }\n",
       "</style>\n",
       "<table border=\"1\" class=\"dataframe\">\n",
       "  <thead>\n",
       "    <tr style=\"text-align: right;\">\n",
       "      <th></th>\n",
       "      <th>accuracy</th>\n",
       "      <th>balanced accuracy</th>\n",
       "      <th>f1</th>\n",
       "      <th>precision</th>\n",
       "      <th>false positive rate</th>\n",
       "      <th>false negative rate</th>\n",
       "      <th>selection rate</th>\n",
       "      <th>count</th>\n",
       "    </tr>\n",
       "    <tr>\n",
       "      <th>majmin</th>\n",
       "      <th></th>\n",
       "      <th></th>\n",
       "      <th></th>\n",
       "      <th></th>\n",
       "      <th></th>\n",
       "      <th></th>\n",
       "      <th></th>\n",
       "      <th></th>\n",
       "    </tr>\n",
       "  </thead>\n",
       "  <tbody>\n",
       "    <tr>\n",
       "      <th>majority</th>\n",
       "      <td>0.197542</td>\n",
       "      <td>0.533415</td>\n",
       "      <td>0.245863</td>\n",
       "      <td>0.140362</td>\n",
       "      <td>0.923105</td>\n",
       "      <td>0.010066</td>\n",
       "      <td>0.931936</td>\n",
       "      <td>69170.0</td>\n",
       "    </tr>\n",
       "    <tr>\n",
       "      <th>minority</th>\n",
       "      <td>0.201947</td>\n",
       "      <td>0.526389</td>\n",
       "      <td>0.215018</td>\n",
       "      <td>0.121260</td>\n",
       "      <td>0.895278</td>\n",
       "      <td>0.051943</td>\n",
       "      <td>0.901363</td>\n",
       "      <td>20540.0</td>\n",
       "    </tr>\n",
       "  </tbody>\n",
       "</table>\n",
       "</div>"
      ],
      "text/plain": [
       "          accuracy  balanced accuracy        f1  precision  \\\n",
       "majmin                                                       \n",
       "majority  0.197542           0.533415  0.245863   0.140362   \n",
       "minority  0.201947           0.526389  0.215018   0.121260   \n",
       "\n",
       "          false positive rate  false negative rate  selection rate    count  \n",
       "majmin                                                                       \n",
       "majority             0.923105             0.010066        0.931936  69170.0  \n",
       "minority             0.895278             0.051943        0.901363  20540.0  "
      ]
     },
     "execution_count": 62,
     "metadata": {},
     "output_type": "execute_result"
    }
   ],
   "source": [
    "metric_frame.by_group"
   ]
  },
  {
   "cell_type": "code",
   "execution_count": 63,
   "id": "a9ddbe63",
   "metadata": {
    "execution": {
     "iopub.execute_input": "2025-08-05T15:24:43.410436Z",
     "iopub.status.busy": "2025-08-05T15:24:43.409326Z",
     "iopub.status.idle": "2025-08-05T15:24:45.861570Z",
     "shell.execute_reply": "2025-08-05T15:24:45.860525Z"
    },
    "papermill": {
     "duration": 2.488039,
     "end_time": "2025-08-05T15:24:45.863411",
     "exception": false,
     "start_time": "2025-08-05T15:24:43.375372",
     "status": "completed"
    },
    "tags": []
   },
   "outputs": [
    {
     "data": {
      "text/plain": [
       "array([[<Axes: title={'center': 'accuracy'}, xlabel='majmin'>,\n",
       "        <Axes: title={'center': 'balanced accuracy'}, xlabel='majmin'>,\n",
       "        <Axes: title={'center': 'f1'}, xlabel='majmin'>],\n",
       "       [<Axes: title={'center': 'precision'}, xlabel='majmin'>,\n",
       "        <Axes: title={'center': 'false positive rate'}, xlabel='majmin'>,\n",
       "        <Axes: title={'center': 'false negative rate'}, xlabel='majmin'>],\n",
       "       [<Axes: title={'center': 'selection rate'}, xlabel='majmin'>,\n",
       "        <Axes: title={'center': 'count'}, xlabel='majmin'>,\n",
       "        <Axes: xlabel='majmin'>]], dtype=object)"
      ]
     },
     "execution_count": 63,
     "metadata": {},
     "output_type": "execute_result"
    },
    {
     "data": {
      "image/png": "[encoded data removed]",
      "text/plain": [
       "<Figure size 1200x800 with 9 Axes>"
      ]
     },
     "metadata": {},
     "output_type": "display_data"
    }
   ],
   "source": [
    "# In a graphic\n",
    "metric_frame.by_group.plot.bar(\n",
    "    subplots=True,\n",
    "    layout=[3, 3],\n",
    "    legend=False,\n",
    "    figsize=[12, 8],\n",
    "    title=\"Show all metrics\",\n",
    ")"
   ]
  },
  {
   "cell_type": "markdown",
   "id": "f57a0bac",
   "metadata": {
    "papermill": {
     "duration": 0.023045,
     "end_time": "2025-08-05T15:24:45.916415",
     "exception": false,
     "start_time": "2025-08-05T15:24:45.893370",
     "status": "completed"
    },
    "tags": []
   },
   "source": [
    "# Final Output"
   ]
  },
  {
   "cell_type": "code",
   "execution_count": 64,
   "id": "96d280a3",
   "metadata": {
    "execution": {
     "iopub.execute_input": "2025-08-05T15:24:45.948908Z",
     "iopub.status.busy": "2025-08-05T15:24:45.948178Z",
     "iopub.status.idle": "2025-08-05T15:24:45.957229Z",
     "shell.execute_reply": "2025-08-05T15:24:45.956155Z"
    },
    "papermill": {
     "duration": 0.028911,
     "end_time": "2025-08-05T15:24:45.958950",
     "exception": false,
     "start_time": "2025-08-05T15:24:45.930039",
     "status": "completed"
    },
    "tags": []
   },
   "outputs": [
    {
     "data": {
      "text/plain": [
       "4"
      ]
     },
     "execution_count": 64,
     "metadata": {},
     "output_type": "execute_result"
    }
   ],
   "source": [
    "sub_universes = universe_analysis.generate_sub_universes()\n",
    "len(sub_universes)"
   ]
  },
  {
   "cell_type": "code",
   "execution_count": 65,
   "id": "92adf7ba",
   "metadata": {
    "execution": {
     "iopub.execute_input": "2025-08-05T15:24:46.018572Z",
     "iopub.status.busy": "2025-08-05T15:24:46.018081Z",
     "iopub.status.idle": "2025-08-05T15:24:46.024792Z",
     "shell.execute_reply": "2025-08-05T15:24:46.023704Z"
    },
    "papermill": {
     "duration": 0.039097,
     "end_time": "2025-08-05T15:24:46.026543",
     "exception": false,
     "start_time": "2025-08-05T15:24:45.987446",
     "status": "completed"
    },
    "tags": []
   },
   "outputs": [],
   "source": [
    "def filter_sub_universe_data(sub_universe, org_test):\n",
    "    # Keep all rows — no filtering\n",
    "    keep_rows_mask = np.ones(org_test.shape[0], dtype=bool)\n",
    "\n",
    "    print(f\"[INFO] Keeping all rows: {keep_rows_mask.sum()} rows retained.\")\n",
    "    return keep_rows_mask"
   ]
  },
  {
   "cell_type": "code",
   "execution_count": 66,
   "id": "4a759155",
   "metadata": {
    "execution": {
     "iopub.execute_input": "2025-08-05T15:24:46.088538Z",
     "iopub.status.busy": "2025-08-05T15:24:46.087636Z",
     "iopub.status.idle": "2025-08-05T15:24:55.309747Z",
     "shell.execute_reply": "2025-08-05T15:24:55.308615Z"
    },
    "papermill": {
     "duration": 9.255004,
     "end_time": "2025-08-05T15:24:55.311429",
     "exception": false,
     "start_time": "2025-08-05T15:24:46.056425",
     "status": "completed"
    },
    "tags": []
   },
   "outputs": [
    {
     "name": "stdout",
     "output_type": "stream",
     "text": [
      "Stopping execution_time clock.\n",
      "[INFO] Keeping all rows: 89710 rows retained.\n"
     ]
    },
    {
     "name": "stdout",
     "output_type": "stream",
     "text": [
      "[INFO] Keeping all rows: 89710 rows retained.\n"
     ]
    },
    {
     "name": "stdout",
     "output_type": "stream",
     "text": [
      "[INFO] Keeping all rows: 89710 rows retained.\n"
     ]
    },
    {
     "name": "stdout",
     "output_type": "stream",
     "text": [
      "[INFO] Keeping all rows: 89710 rows retained.\n"
     ]
    },
    {
     "data": {
      "text/html": [
       "<div>\n",
       "<style scoped>\n",
       "    .dataframe tbody tr th:only-of-type {\n",
       "        vertical-align: middle;\n",
       "    }\n",
       "\n",
       "    .dataframe tbody tr th {\n",
       "        vertical-align: top;\n",
       "    }\n",
       "\n",
       "    .dataframe thead th {\n",
       "        text-align: right;\n",
       "    }\n",
       "</style>\n",
       "<table border=\"1\" class=\"dataframe\">\n",
       "  <thead>\n",
       "    <tr style=\"text-align: right;\">\n",
       "      <th></th>\n",
       "      <th>run_no</th>\n",
       "      <th>universe_id</th>\n",
       "      <th>universe_settings</th>\n",
       "      <th>execution_time</th>\n",
       "      <th>test_size_n</th>\n",
       "      <th>test_size_frac</th>\n",
       "      <th>fair_main_equalized_odds_difference</th>\n",
       "      <th>fair_main_equalized_odds_ratio</th>\n",
       "      <th>fair_main_demographic_parity_difference</th>\n",
       "      <th>fair_main_demographic_parity_ratio</th>\n",
       "      <th>...</th>\n",
       "      <th>perf_grp_precision_0</th>\n",
       "      <th>perf_grp_precision_1</th>\n",
       "      <th>perf_grp_false positive rate_0</th>\n",
       "      <th>perf_grp_false positive rate_1</th>\n",
       "      <th>perf_grp_false negative rate_0</th>\n",
       "      <th>perf_grp_false negative rate_1</th>\n",
       "      <th>perf_grp_selection rate_0</th>\n",
       "      <th>perf_grp_selection rate_1</th>\n",
       "      <th>perf_grp_count_0</th>\n",
       "      <th>perf_grp_count_1</th>\n",
       "    </tr>\n",
       "  </thead>\n",
       "  <tbody>\n",
       "    <tr>\n",
       "      <th>0</th>\n",
       "      <td>15</td>\n",
       "      <td>2d8b29a568cd9d4b00e2aea8937d40b5</td>\n",
       "      <td>{\"cutoff\": \"quantile_0.1\", \"eval_fairness_grou...</td>\n",
       "      <td>32.958515</td>\n",
       "      <td>89710</td>\n",
       "      <td>1.0</td>\n",
       "      <td>0.041877</td>\n",
       "      <td>0.957697</td>\n",
       "      <td>0.030573</td>\n",
       "      <td>0.967195</td>\n",
       "      <td>...</td>\n",
       "      <td>NaN</td>\n",
       "      <td>NaN</td>\n",
       "      <td>NaN</td>\n",
       "      <td>NaN</td>\n",
       "      <td>NaN</td>\n",
       "      <td>NaN</td>\n",
       "      <td>NaN</td>\n",
       "      <td>NaN</td>\n",
       "      <td>NaN</td>\n",
       "      <td>NaN</td>\n",
       "    </tr>\n",
       "    <tr>\n",
       "      <th>0</th>\n",
       "      <td>15</td>\n",
       "      <td>2d8b29a568cd9d4b00e2aea8937d40b5</td>\n",
       "      <td>{\"cutoff\": \"quantile_0.1\", \"eval_fairness_grou...</td>\n",
       "      <td>32.958515</td>\n",
       "      <td>89710</td>\n",
       "      <td>1.0</td>\n",
       "      <td>0.041877</td>\n",
       "      <td>0.957697</td>\n",
       "      <td>0.030573</td>\n",
       "      <td>0.967195</td>\n",
       "      <td>...</td>\n",
       "      <td>0.121260</td>\n",
       "      <td>0.140362</td>\n",
       "      <td>0.895278</td>\n",
       "      <td>0.923105</td>\n",
       "      <td>0.051943</td>\n",
       "      <td>0.010066</td>\n",
       "      <td>0.901363</td>\n",
       "      <td>0.931936</td>\n",
       "      <td>20540.0</td>\n",
       "      <td>69170.0</td>\n",
       "    </tr>\n",
       "    <tr>\n",
       "      <th>0</th>\n",
       "      <td>15</td>\n",
       "      <td>2d8b29a568cd9d4b00e2aea8937d40b5</td>\n",
       "      <td>{\"cutoff\": \"quantile_0.25\", \"eval_fairness_gro...</td>\n",
       "      <td>32.958515</td>\n",
       "      <td>89710</td>\n",
       "      <td>1.0</td>\n",
       "      <td>0.094745</td>\n",
       "      <td>0.899318</td>\n",
       "      <td>0.038933</td>\n",
       "      <td>0.949048</td>\n",
       "      <td>...</td>\n",
       "      <td>NaN</td>\n",
       "      <td>NaN</td>\n",
       "      <td>NaN</td>\n",
       "      <td>NaN</td>\n",
       "      <td>NaN</td>\n",
       "      <td>NaN</td>\n",
       "      <td>NaN</td>\n",
       "      <td>NaN</td>\n",
       "      <td>NaN</td>\n",
       "      <td>NaN</td>\n",
       "    </tr>\n",
       "    <tr>\n",
       "      <th>0</th>\n",
       "      <td>15</td>\n",
       "      <td>2d8b29a568cd9d4b00e2aea8937d40b5</td>\n",
       "      <td>{\"cutoff\": \"quantile_0.25\", \"eval_fairness_gro...</td>\n",
       "      <td>32.958515</td>\n",
       "      <td>89710</td>\n",
       "      <td>1.0</td>\n",
       "      <td>0.094745</td>\n",
       "      <td>0.899318</td>\n",
       "      <td>0.038933</td>\n",
       "      <td>0.949048</td>\n",
       "      <td>...</td>\n",
       "      <td>0.134542</td>\n",
       "      <td>0.162734</td>\n",
       "      <td>0.709388</td>\n",
       "      <td>0.737165</td>\n",
       "      <td>0.153716</td>\n",
       "      <td>0.058972</td>\n",
       "      <td>0.725170</td>\n",
       "      <td>0.764103</td>\n",
       "      <td>20540.0</td>\n",
       "      <td>69170.0</td>\n",
       "    </tr>\n",
       "  </tbody>\n",
       "</table>\n",
       "<p>4 rows × 50 columns</p>\n",
       "</div>"
      ],
      "text/plain": [
       "  run_no                       universe_id  \\\n",
       "0     15  2d8b29a568cd9d4b00e2aea8937d40b5   \n",
       "0     15  2d8b29a568cd9d4b00e2aea8937d40b5   \n",
       "0     15  2d8b29a568cd9d4b00e2aea8937d40b5   \n",
       "0     15  2d8b29a568cd9d4b00e2aea8937d40b5   \n",
       "\n",
       "                                   universe_settings  execution_time  \\\n",
       "0  {\"cutoff\": \"quantile_0.1\", \"eval_fairness_grou...       32.958515   \n",
       "0  {\"cutoff\": \"quantile_0.1\", \"eval_fairness_grou...       32.958515   \n",
       "0  {\"cutoff\": \"quantile_0.25\", \"eval_fairness_gro...       32.958515   \n",
       "0  {\"cutoff\": \"quantile_0.25\", \"eval_fairness_gro...       32.958515   \n",
       "\n",
       "   test_size_n  test_size_frac  fair_main_equalized_odds_difference  \\\n",
       "0        89710             1.0                             0.041877   \n",
       "0        89710             1.0                             0.041877   \n",
       "0        89710             1.0                             0.094745   \n",
       "0        89710             1.0                             0.094745   \n",
       "\n",
       "   fair_main_equalized_odds_ratio  fair_main_demographic_parity_difference  \\\n",
       "0                        0.957697                                 0.030573   \n",
       "0                        0.957697                                 0.030573   \n",
       "0                        0.899318                                 0.038933   \n",
       "0                        0.899318                                 0.038933   \n",
       "\n",
       "   fair_main_demographic_parity_ratio  ...  perf_grp_precision_0  \\\n",
       "0                            0.967195  ...                   NaN   \n",
       "0                            0.967195  ...              0.121260   \n",
       "0                            0.949048  ...                   NaN   \n",
       "0                            0.949048  ...              0.134542   \n",
       "\n",
       "   perf_grp_precision_1  perf_grp_false positive rate_0  \\\n",
       "0                   NaN                             NaN   \n",
       "0              0.140362                        0.895278   \n",
       "0                   NaN                             NaN   \n",
       "0              0.162734                        0.709388   \n",
       "\n",
       "   perf_grp_false positive rate_1  perf_grp_false negative rate_0  \\\n",
       "0                             NaN                             NaN   \n",
       "0                        0.923105                        0.051943   \n",
       "0                             NaN                             NaN   \n",
       "0                        0.737165                        0.153716   \n",
       "\n",
       "   perf_grp_false negative rate_1  perf_grp_selection rate_0  \\\n",
       "0                             NaN                        NaN   \n",
       "0                        0.010066                   0.901363   \n",
       "0                             NaN                        NaN   \n",
       "0                        0.058972                   0.725170   \n",
       "\n",
       "   perf_grp_selection rate_1  perf_grp_count_0  perf_grp_count_1  \n",
       "0                        NaN               NaN               NaN  \n",
       "0                   0.931936           20540.0           69170.0  \n",
       "0                        NaN               NaN               NaN  \n",
       "0                   0.764103           20540.0           69170.0  \n",
       "\n",
       "[4 rows x 50 columns]"
      ]
     },
     "execution_count": 66,
     "metadata": {},
     "output_type": "execute_result"
    }
   ],
   "source": [
    "final_output = universe_analysis.generate_final_output(\n",
    "    y_pred_prob=probs_test,\n",
    "    y_test=y_true,\n",
    "    org_test=org_test,\n",
    "    filter_data=filter_sub_universe_data,\n",
    "    cp_metrics_df=cp_metrics_df,\n",
    "    save=True,\n",
    ")\n",
    "final_output"
   ]
  }
 ],
 "metadata": {
  "celltoolbar": "Tags",
  "kernelspec": {
   "display_name": "Python (CMA Fairness)",
   "language": "python",
   "name": "cma_fair_env"
  },
  "language_info": {
   "codemirror_mode": {
    "name": "ipython",
    "version": 3
   },
   "file_extension": ".py",
   "mimetype": "text/x-python",
   "name": "python",
   "nbconvert_exporter": "python",
   "pygments_lexer": "ipython3",
   "version": "3.10.12"
  },
  "papermill": {
   "default_parameters": {},
   "duration": 46.489964,
   "end_time": "2025-08-05T15:24:56.160090",
   "environment_variables": {},
   "exception": null,
   "input_path": "universe_analysis.ipynb",
   "output_path": "output/runs/15/notebooks/m_15-2d8b29a568cd9d4b00e2aea8937d40b5.ipynb",
   "parameters": {
    "output_dir": "output",
    "run_no": "15",
    "seed": "2023",
    "universe": "{\"cutoff\": [\"quantile_0.1\", \"quantile_0.25\"], \"eval_fairness_grouping\": [\"majority-minority\", \"nationality-all\"], \"exclude_features\": \"age\", \"exclude_subgroups\": \"drop-non-german\", \"model\": \"rf\", \"scale\": \"scale\", \"training_size\": \"5k\", \"training_year\": \"2014\"}",
    "universe_id": "2d8b29a568cd9d4b00e2aea8937d40b5"
   },
   "start_time": "2025-08-05T15:24:09.670126",
   "version": "2.6.0"
  }
 },
 "nbformat": 4,
 "nbformat_minor": 5
}