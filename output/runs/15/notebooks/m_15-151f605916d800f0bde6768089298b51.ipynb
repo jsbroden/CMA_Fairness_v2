{
 "cells": [
  {
   "cell_type": "code",
   "execution_count": 1,
   "id": "f159f837-637b-42ba-96b5-ec9a68c44524",
   "metadata": {
    "execution": {
     "iopub.execute_input": "2025-08-05T15:20:20.109872Z",
     "iopub.status.busy": "2025-08-05T15:20:20.109250Z",
     "iopub.status.idle": "2025-08-05T15:20:20.119283Z",
     "shell.execute_reply": "2025-08-05T15:20:20.118512Z"
    },
    "papermill": {
     "duration": 0.021589,
     "end_time": "2025-08-05T15:20:20.120485",
     "exception": false,
     "start_time": "2025-08-05T15:20:20.098896",
     "status": "completed"
    },
    "tags": []
   },
   "outputs": [
    {
     "name": "stdout",
     "output_type": "stream",
     "text": [
      "/dss/dsshome1/0C/ra93lal2/cma/CMA_Fairness_v2\n"
     ]
    },
    {
     "name": "stderr",
     "output_type": "stream",
     "text": [
      "/dss/dsshome1/0C/ra93lal2/.local/share/virtualenvs/CMA_Fairness_v2-3j10GkSs/lib/python3.10/site-packages/IPython/core/magics/osm.py:393: UserWarning: This is now an optional IPython functionality, using bookmarks requires you to install the `pickleshare` library.\n",
      "  bkms = self.shell.db.get('bookmarks', {})\n",
      "/dss/dsshome1/0C/ra93lal2/.local/share/virtualenvs/CMA_Fairness_v2-3j10GkSs/lib/python3.10/site-packages/IPython/core/magics/osm.py:417: UserWarning: This is now an optional IPython functionality, setting dhist requires you to install the `pickleshare` library.\n",
      "  self.shell.db['dhist'] = compress_dhist(dhist)[-100:]\n"
     ]
    }
   ],
   "source": [
    "%cd ~/cma/CMA_Fairness_v2"
   ]
  },
  {
   "cell_type": "markdown",
   "id": "de2603b9",
   "metadata": {
    "papermill": {
     "duration": 0.008472,
     "end_time": "2025-08-05T15:20:20.138278",
     "exception": false,
     "start_time": "2025-08-05T15:20:20.129806",
     "status": "completed"
    },
    "tags": []
   },
   "source": [
    "The following cell holds the definition of our parameters, these values can be overriden by rendering the with e.g. the following command:\n",
    "\n",
    "papermill -p alpha 0.2 -p ratio 0.3 universe_analysis.ipynb output/test_run.ipynb"
   ]
  },
  {
   "cell_type": "code",
   "execution_count": 2,
   "id": "a80968a0-40bb-4fa9-85ef-2d5eefb01975",
   "metadata": {
    "execution": {
     "iopub.execute_input": "2025-08-05T15:20:20.156296Z",
     "iopub.status.busy": "2025-08-05T15:20:20.155705Z",
     "iopub.status.idle": "2025-08-05T15:20:20.160285Z",
     "shell.execute_reply": "2025-08-05T15:20:20.159465Z"
    },
    "papermill": {
     "duration": 0.015149,
     "end_time": "2025-08-05T15:20:20.161714",
     "exception": false,
     "start_time": "2025-08-05T15:20:20.146565",
     "status": "completed"
    },
    "tags": []
   },
   "outputs": [
    {
     "name": "stdout",
     "output_type": "stream",
     "text": [
      "Current working directory: /dss/dsshome1/0C/ra93lal2/cma/CMA_Fairness_v2\n"
     ]
    }
   ],
   "source": [
    "import os\n",
    "print(\"Current working directory:\", os.getcwd())"
   ]
  },
  {
   "cell_type": "code",
   "execution_count": 3,
   "id": "2dce4c03",
   "metadata": {
    "execution": {
     "iopub.execute_input": "2025-08-05T15:20:20.180488Z",
     "iopub.status.busy": "2025-08-05T15:20:20.180000Z",
     "iopub.status.idle": "2025-08-05T15:20:20.184681Z",
     "shell.execute_reply": "2025-08-05T15:20:20.183749Z"
    },
    "papermill": {
     "duration": 0.015212,
     "end_time": "2025-08-05T15:20:20.186088",
     "exception": false,
     "start_time": "2025-08-05T15:20:20.170876",
     "status": "completed"
    },
    "tags": [
     "parameters"
    ]
   },
   "outputs": [],
   "source": [
    "run_no = 0\n",
    "universe_id = \"test\"\n",
    "universe = {\n",
    "    \"training_size\": \"25k\", # \"25k\", \"5k\", \"1k\"\n",
    "    \"training_year\": \"2014\", # \"2014\", \"2012_14\", \"2010_14\"\n",
    "    \"scale\": \"scale\", # \"scale\", \"do-not-scale\",\n",
    "    \"model\": \"elasticnet\", # \"logreg\", \"penalized_logreg\", \"rf\", \"gbm\", \"elasticnet\"\n",
    "    \"cutoff\": [\"quantile_0.15\", \"quantile_0.30\"],\n",
    "    \"exclude_features\": \"age\", # \"none\", \"nationality\", \"sex\", \"nationality-sex\", \"age\"\n",
    "    \"exclude_subgroups\": \"keep-all\", # \"keep-all\", \"drop-non-german\"\n",
    "    \"eval_fairness_grouping\": [\"majority-minority\", \"nationality-all\"]\n",
    "}\n",
    "\n",
    "output_dir=\"./output\"\n",
    "seed=0"
   ]
  },
  {
   "cell_type": "code",
   "execution_count": 4,
   "id": "dd03b24b",
   "metadata": {
    "execution": {
     "iopub.execute_input": "2025-08-05T15:20:20.205110Z",
     "iopub.status.busy": "2025-08-05T15:20:20.204645Z",
     "iopub.status.idle": "2025-08-05T15:20:20.208745Z",
     "shell.execute_reply": "2025-08-05T15:20:20.207916Z"
    },
    "papermill": {
     "duration": 0.014631,
     "end_time": "2025-08-05T15:20:20.210122",
     "exception": false,
     "start_time": "2025-08-05T15:20:20.195491",
     "status": "completed"
    },
    "tags": [
     "injected-parameters"
    ]
   },
   "outputs": [],
   "source": [
    "# Parameters\n",
    "universe_id = \"151f605916d800f0bde6768089298b51\"\n",
    "run_no = \"15\"\n",
    "universe = \"{\\\"cutoff\\\": [\\\"quantile_0.1\\\", \\\"quantile_0.25\\\"], \\\"eval_fairness_grouping\\\": [\\\"majority-minority\\\", \\\"nationality-all\\\"], \\\"exclude_features\\\": \\\"none\\\", \\\"exclude_subgroups\\\": \\\"drop-non-german\\\", \\\"model\\\": \\\"logreg\\\", \\\"scale\\\": \\\"scale\\\", \\\"training_size\\\": \\\"5k\\\", \\\"training_year\\\": \\\"2014\\\"}\"\n",
    "output_dir = \"output\"\n",
    "seed = \"2023\"\n"
   ]
  },
  {
   "cell_type": "code",
   "execution_count": 5,
   "id": "1650acaf",
   "metadata": {
    "execution": {
     "iopub.execute_input": "2025-08-05T15:20:20.229282Z",
     "iopub.status.busy": "2025-08-05T15:20:20.228817Z",
     "iopub.status.idle": "2025-08-05T15:20:20.232943Z",
     "shell.execute_reply": "2025-08-05T15:20:20.232198Z"
    },
    "papermill": {
     "duration": 0.01472,
     "end_time": "2025-08-05T15:20:20.234321",
     "exception": false,
     "start_time": "2025-08-05T15:20:20.219601",
     "status": "completed"
    },
    "tags": []
   },
   "outputs": [],
   "source": [
    "import json\n",
    "if isinstance(universe, str):\n",
    "    universe = json.loads(universe)"
   ]
  },
  {
   "cell_type": "code",
   "execution_count": 6,
   "id": "16620c48",
   "metadata": {
    "execution": {
     "iopub.execute_input": "2025-08-05T15:20:20.259024Z",
     "iopub.status.busy": "2025-08-05T15:20:20.258644Z",
     "iopub.status.idle": "2025-08-05T15:20:20.303824Z",
     "shell.execute_reply": "2025-08-05T15:20:20.302813Z"
    },
    "papermill": {
     "duration": 0.061364,
     "end_time": "2025-08-05T15:20:20.305929",
     "exception": false,
     "start_time": "2025-08-05T15:20:20.244565",
     "status": "completed"
    },
    "tags": []
   },
   "outputs": [],
   "source": [
    "# Auto-reload the custom package\n",
    "%load_ext autoreload\n",
    "%autoreload 1\n",
    "%aimport fairness_multiverse"
   ]
  },
  {
   "cell_type": "code",
   "execution_count": 7,
   "id": "01c5c9f3",
   "metadata": {
    "execution": {
     "iopub.execute_input": "2025-08-05T15:20:20.348099Z",
     "iopub.status.busy": "2025-08-05T15:20:20.347712Z",
     "iopub.status.idle": "2025-08-05T15:20:22.108159Z",
     "shell.execute_reply": "2025-08-05T15:20:22.106966Z"
    },
    "papermill": {
     "duration": 1.784053,
     "end_time": "2025-08-05T15:20:22.110404",
     "exception": false,
     "start_time": "2025-08-05T15:20:20.326351",
     "status": "completed"
    },
    "tags": []
   },
   "outputs": [],
   "source": [
    "from fairness_multiverse.universe import UniverseAnalysis\n",
    "\n",
    "universe_analysis = UniverseAnalysis(\n",
    "    run_no = run_no,\n",
    "    universe_id = universe_id,\n",
    "    universe = universe,\n",
    "    output_dir=output_dir,\n",
    ")"
   ]
  },
  {
   "cell_type": "code",
   "execution_count": 8,
   "id": "106241f5",
   "metadata": {
    "execution": {
     "iopub.execute_input": "2025-08-05T15:20:22.150792Z",
     "iopub.status.busy": "2025-08-05T15:20:22.149997Z",
     "iopub.status.idle": "2025-08-05T15:20:22.156930Z",
     "shell.execute_reply": "2025-08-05T15:20:22.155904Z"
    },
    "papermill": {
     "duration": 0.029326,
     "end_time": "2025-08-05T15:20:22.158810",
     "exception": false,
     "start_time": "2025-08-05T15:20:22.129484",
     "status": "completed"
    },
    "tags": []
   },
   "outputs": [
    {
     "name": "stdout",
     "output_type": "stream",
     "text": [
      "Using Seed: 2023\n"
     ]
    }
   ],
   "source": [
    "import numpy as np\n",
    "parsed_seed = int(seed)\n",
    "np.random.seed(parsed_seed)\n",
    "print(f\"Using Seed: {parsed_seed}\")"
   ]
  },
  {
   "cell_type": "markdown",
   "id": "e0ebdc57",
   "metadata": {
    "papermill": {
     "duration": 0.019714,
     "end_time": "2025-08-05T15:20:22.198126",
     "exception": false,
     "start_time": "2025-08-05T15:20:22.178412",
     "status": "completed"
    },
    "tags": []
   },
   "source": [
    "# Loading Data"
   ]
  },
  {
   "cell_type": "code",
   "execution_count": 9,
   "id": "f0496b8a",
   "metadata": {
    "execution": {
     "iopub.execute_input": "2025-08-05T15:20:22.238623Z",
     "iopub.status.busy": "2025-08-05T15:20:22.237568Z",
     "iopub.status.idle": "2025-08-05T15:20:30.889564Z",
     "shell.execute_reply": "2025-08-05T15:20:30.888403Z"
    },
    "papermill": {
     "duration": 8.673915,
     "end_time": "2025-08-05T15:20:30.891294",
     "exception": false,
     "start_time": "2025-08-05T15:20:22.217379",
     "status": "completed"
    },
    "tags": []
   },
   "outputs": [
    {
     "name": "stdout",
     "output_type": "stream",
     "text": [
      "Loading SIAB data from cache: data/siab_cached.csv.gz\n"
     ]
    },
    {
     "name": "stdout",
     "output_type": "stream",
     "text": [
      "(643690, 164)\n"
     ]
    }
   ],
   "source": [
    "from pathlib import Path\n",
    "import pandas as pd\n",
    "\n",
    "# File paths\n",
    "raw_file = Path(\"data/raw/siab.csv\")\n",
    "cache_file = Path(\"data/siab_cached.csv.gz\")\n",
    "\n",
    "# Ensure cache directory exists\n",
    "cache_file.parent.mkdir(parents=True, exist_ok=True)\n",
    "\n",
    "# Load with simple caching\n",
    "if cache_file.exists():\n",
    "    print(f\"Loading SIAB data from cache: {cache_file}\")\n",
    "    siab = pd.read_csv(cache_file, compression='gzip')\n",
    "else:\n",
    "    print(f\"Cache not found. Reading raw SIAB data: {raw_file}\")\n",
    "    siab = pd.read_csv(raw_file)\n",
    "    siab.to_csv(cache_file, index=False, compression='gzip')\n",
    "    print(f\"Cached SIAB data to: {cache_file}\")\n",
    "\n",
    "print(siab.shape)"
   ]
  },
  {
   "cell_type": "code",
   "execution_count": 10,
   "id": "db0ca512-5f53-4dba-abdb-a2888bca41ba",
   "metadata": {
    "execution": {
     "iopub.execute_input": "2025-08-05T15:20:30.934649Z",
     "iopub.status.busy": "2025-08-05T15:20:30.934148Z",
     "iopub.status.idle": "2025-08-05T15:20:30.939496Z",
     "shell.execute_reply": "2025-08-05T15:20:30.938551Z"
    },
    "papermill": {
     "duration": 0.028248,
     "end_time": "2025-08-05T15:20:30.941309",
     "exception": false,
     "start_time": "2025-08-05T15:20:30.913061",
     "status": "completed"
    },
    "tags": []
   },
   "outputs": [],
   "source": [
    "#siab"
   ]
  },
  {
   "cell_type": "markdown",
   "id": "997051c5-15bd-4b69-9786-c3001a3ce484",
   "metadata": {
    "papermill": {
     "duration": 0.018738,
     "end_time": "2025-08-05T15:20:30.978880",
     "exception": false,
     "start_time": "2025-08-05T15:20:30.960142",
     "status": "completed"
    },
    "tags": []
   },
   "source": [
    "# Splitting Data and Setting Training Data Size"
   ]
  },
  {
   "cell_type": "code",
   "execution_count": 11,
   "id": "aea9c6ef-6f46-42c8-85eb-5a62025c1508",
   "metadata": {
    "execution": {
     "iopub.execute_input": "2025-08-05T15:20:31.017063Z",
     "iopub.status.busy": "2025-08-05T15:20:31.016488Z",
     "iopub.status.idle": "2025-08-05T15:20:31.241086Z",
     "shell.execute_reply": "2025-08-05T15:20:31.240053Z"
    },
    "papermill": {
     "duration": 0.246001,
     "end_time": "2025-08-05T15:20:31.242945",
     "exception": false,
     "start_time": "2025-08-05T15:20:30.996944",
     "status": "completed"
    },
    "tags": []
   },
   "outputs": [],
   "source": [
    "from fairness_multiverse.universe import sample_by_year_size\n",
    "\n",
    "siab_train = sample_by_year_size(siab,\n",
    "                               training_year=universe[\"training_year\"],\n",
    "                               training_size=universe[\"training_size\"])"
   ]
  },
  {
   "cell_type": "code",
   "execution_count": 12,
   "id": "8d3afb32-789d-442c-8d5d-9f5aa8dd2eed",
   "metadata": {
    "execution": {
     "iopub.execute_input": "2025-08-05T15:20:31.278700Z",
     "iopub.status.busy": "2025-08-05T15:20:31.277852Z",
     "iopub.status.idle": "2025-08-05T15:20:31.282918Z",
     "shell.execute_reply": "2025-08-05T15:20:31.281937Z"
    },
    "papermill": {
     "duration": 0.023839,
     "end_time": "2025-08-05T15:20:31.284648",
     "exception": false,
     "start_time": "2025-08-05T15:20:31.260809",
     "status": "completed"
    },
    "tags": []
   },
   "outputs": [],
   "source": [
    "#siab_train.shape"
   ]
  },
  {
   "cell_type": "code",
   "execution_count": 13,
   "id": "d582db68-1a4c-47fb-84fc-08518dc1975a",
   "metadata": {
    "execution": {
     "iopub.execute_input": "2025-08-05T15:20:31.304847Z",
     "iopub.status.busy": "2025-08-05T15:20:31.304389Z",
     "iopub.status.idle": "2025-08-05T15:20:31.308724Z",
     "shell.execute_reply": "2025-08-05T15:20:31.307980Z"
    },
    "papermill": {
     "duration": 0.015268,
     "end_time": "2025-08-05T15:20:31.310305",
     "exception": false,
     "start_time": "2025-08-05T15:20:31.295037",
     "status": "completed"
    },
    "tags": []
   },
   "outputs": [],
   "source": [
    "#display(siab_train.groupby(\"year\").size())"
   ]
  },
  {
   "cell_type": "code",
   "execution_count": 14,
   "id": "a561edb4-d032-42cb-8256-22eac1111c64",
   "metadata": {
    "execution": {
     "iopub.execute_input": "2025-08-05T15:20:31.344680Z",
     "iopub.status.busy": "2025-08-05T15:20:31.344313Z",
     "iopub.status.idle": "2025-08-05T15:20:31.589743Z",
     "shell.execute_reply": "2025-08-05T15:20:31.588979Z"
    },
    "papermill": {
     "duration": 0.266294,
     "end_time": "2025-08-05T15:20:31.591100",
     "exception": false,
     "start_time": "2025-08-05T15:20:31.324806",
     "status": "completed"
    },
    "tags": []
   },
   "outputs": [],
   "source": [
    "#siab_train = siab_s[siab_s.year < 2015]\n",
    "siab_calib = siab[siab.year == 2015]\n",
    "siab_test = siab[siab.year == 2016]"
   ]
  },
  {
   "cell_type": "code",
   "execution_count": 15,
   "id": "472de16f-c3db-4916-846b-1f0de9cf1746",
   "metadata": {
    "execution": {
     "iopub.execute_input": "2025-08-05T15:20:31.612764Z",
     "iopub.status.busy": "2025-08-05T15:20:31.612088Z",
     "iopub.status.idle": "2025-08-05T15:20:31.618910Z",
     "shell.execute_reply": "2025-08-05T15:20:31.618199Z"
    },
    "papermill": {
     "duration": 0.018861,
     "end_time": "2025-08-05T15:20:31.620277",
     "exception": false,
     "start_time": "2025-08-05T15:20:31.601416",
     "status": "completed"
    },
    "tags": []
   },
   "outputs": [],
   "source": [
    "X_train = siab_train.iloc[:,4:164]\n",
    "y_train = siab_train.iloc[:, [3]]"
   ]
  },
  {
   "cell_type": "code",
   "execution_count": 16,
   "id": "828c96af-f43a-4ed6-ba47-8ac73a47d56c",
   "metadata": {
    "execution": {
     "iopub.execute_input": "2025-08-05T15:20:31.644601Z",
     "iopub.status.busy": "2025-08-05T15:20:31.644260Z",
     "iopub.status.idle": "2025-08-05T15:20:31.695819Z",
     "shell.execute_reply": "2025-08-05T15:20:31.694697Z"
    },
    "papermill": {
     "duration": 0.066201,
     "end_time": "2025-08-05T15:20:31.697600",
     "exception": false,
     "start_time": "2025-08-05T15:20:31.631399",
     "status": "completed"
    },
    "tags": []
   },
   "outputs": [],
   "source": [
    "X_calib = siab_calib.iloc[:,4:164]\n",
    "y_calib = siab_calib.iloc[:, [3]]"
   ]
  },
  {
   "cell_type": "code",
   "execution_count": 17,
   "id": "c34be9c3-6bd6-476e-acd3-845840e303be",
   "metadata": {
    "execution": {
     "iopub.execute_input": "2025-08-05T15:20:31.741451Z",
     "iopub.status.busy": "2025-08-05T15:20:31.741004Z",
     "iopub.status.idle": "2025-08-05T15:20:31.802676Z",
     "shell.execute_reply": "2025-08-05T15:20:31.801507Z"
    },
    "papermill": {
     "duration": 0.086599,
     "end_time": "2025-08-05T15:20:31.804857",
     "exception": false,
     "start_time": "2025-08-05T15:20:31.718258",
     "status": "completed"
    },
    "tags": []
   },
   "outputs": [],
   "source": [
    "X_test = siab_test.iloc[:,4:164]\n",
    "y_true = siab_test.iloc[:, [3]]"
   ]
  },
  {
   "cell_type": "code",
   "execution_count": 18,
   "id": "e6c733c5",
   "metadata": {
    "execution": {
     "iopub.execute_input": "2025-08-05T15:20:31.843782Z",
     "iopub.status.busy": "2025-08-05T15:20:31.843214Z",
     "iopub.status.idle": "2025-08-05T15:20:31.944498Z",
     "shell.execute_reply": "2025-08-05T15:20:31.943335Z"
    },
    "papermill": {
     "duration": 0.125057,
     "end_time": "2025-08-05T15:20:31.946920",
     "exception": false,
     "start_time": "2025-08-05T15:20:31.821863",
     "status": "completed"
    },
    "tags": []
   },
   "outputs": [],
   "source": [
    "# Auxiliary data needed downstream in the pipeline\n",
    "\n",
    "org_train = X_train.copy()\n",
    "org_test = X_test.copy()\n",
    "org_calib = X_calib.copy()"
   ]
  },
  {
   "cell_type": "markdown",
   "id": "0a4a1b33",
   "metadata": {
    "papermill": {
     "duration": 0.01898,
     "end_time": "2025-08-05T15:20:31.988311",
     "exception": false,
     "start_time": "2025-08-05T15:20:31.969331",
     "status": "completed"
    },
    "tags": []
   },
   "source": [
    "# Preprocessing Data"
   ]
  },
  {
   "cell_type": "code",
   "execution_count": 19,
   "id": "ca879031",
   "metadata": {
    "execution": {
     "iopub.execute_input": "2025-08-05T15:20:32.026629Z",
     "iopub.status.busy": "2025-08-05T15:20:32.025553Z",
     "iopub.status.idle": "2025-08-05T15:20:32.032097Z",
     "shell.execute_reply": "2025-08-05T15:20:32.031106Z"
    },
    "papermill": {
     "duration": 0.026943,
     "end_time": "2025-08-05T15:20:32.033750",
     "exception": false,
     "start_time": "2025-08-05T15:20:32.006807",
     "status": "completed"
    },
    "tags": []
   },
   "outputs": [],
   "source": [
    "# EXCLUDE PROTECTED FEATURES\n",
    "# ----------------------\n",
    "# \"exclude_features\": \"none\", # \"nationality\", \"sex\", \"nationality-sex\"\n",
    "\n",
    "excluded_features = universe[\"exclude_features\"].split(\"-\") # split, e.g.: \"nationality-sex\" -> [\"nationality\", \"sex\"]\n",
    "excluded_features_dictionary = {\n",
    "    \"nationality\": [\"maxdeutsch1\", \"maxdeutsch.Missing.\"],\n",
    "    \"sex\": [\"frau1\"],\n",
    "    \"age\": [\"age\"],\n",
    "}"
   ]
  },
  {
   "cell_type": "code",
   "execution_count": 20,
   "id": "b745ac60",
   "metadata": {
    "execution": {
     "iopub.execute_input": "2025-08-05T15:20:32.077194Z",
     "iopub.status.busy": "2025-08-05T15:20:32.076244Z",
     "iopub.status.idle": "2025-08-05T15:20:32.082559Z",
     "shell.execute_reply": "2025-08-05T15:20:32.081302Z"
    },
    "papermill": {
     "duration": 0.029205,
     "end_time": "2025-08-05T15:20:32.084200",
     "exception": false,
     "start_time": "2025-08-05T15:20:32.054995",
     "status": "completed"
    },
    "tags": []
   },
   "outputs": [],
   "source": [
    "# Code nice names to column names\n",
    "\n",
    "excluded_features_columns = [\n",
    "    excluded_features_dictionary[f] for f in excluded_features if len(f) > 0 and f != \"none\"\n",
    "]"
   ]
  },
  {
   "cell_type": "code",
   "execution_count": 21,
   "id": "f84f73a2",
   "metadata": {
    "execution": {
     "iopub.execute_input": "2025-08-05T15:20:32.127457Z",
     "iopub.status.busy": "2025-08-05T15:20:32.127046Z",
     "iopub.status.idle": "2025-08-05T15:20:32.133334Z",
     "shell.execute_reply": "2025-08-05T15:20:32.132391Z"
    },
    "papermill": {
     "duration": 0.030656,
     "end_time": "2025-08-05T15:20:32.135447",
     "exception": false,
     "start_time": "2025-08-05T15:20:32.104791",
     "status": "completed"
    },
    "tags": []
   },
   "outputs": [],
   "source": [
    "from utils import flatten_once\n",
    "\n",
    "excluded_features_columns = flatten_once(excluded_features_columns)"
   ]
  },
  {
   "cell_type": "code",
   "execution_count": 22,
   "id": "884dea22",
   "metadata": {
    "execution": {
     "iopub.execute_input": "2025-08-05T15:20:32.179704Z",
     "iopub.status.busy": "2025-08-05T15:20:32.179235Z",
     "iopub.status.idle": "2025-08-05T15:20:32.185082Z",
     "shell.execute_reply": "2025-08-05T15:20:32.184131Z"
    },
    "papermill": {
     "duration": 0.035541,
     "end_time": "2025-08-05T15:20:32.191948",
     "exception": false,
     "start_time": "2025-08-05T15:20:32.156407",
     "status": "completed"
    },
    "tags": []
   },
   "outputs": [],
   "source": [
    "if len(excluded_features_columns) > 0:\n",
    "    print(f\"Dropping features: {excluded_features_columns}\")\n",
    "    X_train.drop(excluded_features_columns, axis=1, inplace=True)"
   ]
  },
  {
   "cell_type": "code",
   "execution_count": 23,
   "id": "95ab8b16",
   "metadata": {
    "execution": {
     "iopub.execute_input": "2025-08-05T15:20:32.236108Z",
     "iopub.status.busy": "2025-08-05T15:20:32.235592Z",
     "iopub.status.idle": "2025-08-05T15:20:32.242248Z",
     "shell.execute_reply": "2025-08-05T15:20:32.241079Z"
    },
    "papermill": {
     "duration": 0.030811,
     "end_time": "2025-08-05T15:20:32.244065",
     "exception": false,
     "start_time": "2025-08-05T15:20:32.213254",
     "status": "completed"
    },
    "tags": []
   },
   "outputs": [],
   "source": [
    "if len(excluded_features_columns) > 0:\n",
    "    print(f\"Dropping features: {excluded_features_columns}\")\n",
    "    X_test.drop(excluded_features_columns, axis=1, inplace=True)"
   ]
  },
  {
   "cell_type": "code",
   "execution_count": 24,
   "id": "1853aaf5-fb9f-46cb-a2b5-8ea4ae2237e4",
   "metadata": {
    "execution": {
     "iopub.execute_input": "2025-08-05T15:20:32.285801Z",
     "iopub.status.busy": "2025-08-05T15:20:32.285221Z",
     "iopub.status.idle": "2025-08-05T15:20:32.291085Z",
     "shell.execute_reply": "2025-08-05T15:20:32.289990Z"
    },
    "papermill": {
     "duration": 0.028547,
     "end_time": "2025-08-05T15:20:32.292954",
     "exception": false,
     "start_time": "2025-08-05T15:20:32.264407",
     "status": "completed"
    },
    "tags": []
   },
   "outputs": [],
   "source": [
    "if len(excluded_features_columns) > 0:\n",
    "    print(f\"Dropping features: {excluded_features_columns}\")\n",
    "    X_calib.drop(excluded_features_columns, axis=1, inplace=True)"
   ]
  },
  {
   "cell_type": "code",
   "execution_count": 25,
   "id": "76c4dc6d",
   "metadata": {
    "execution": {
     "iopub.execute_input": "2025-08-05T15:20:32.336333Z",
     "iopub.status.busy": "2025-08-05T15:20:32.335823Z",
     "iopub.status.idle": "2025-08-05T15:20:32.342185Z",
     "shell.execute_reply": "2025-08-05T15:20:32.341086Z"
    },
    "papermill": {
     "duration": 0.029727,
     "end_time": "2025-08-05T15:20:32.343951",
     "exception": false,
     "start_time": "2025-08-05T15:20:32.314224",
     "status": "completed"
    },
    "tags": []
   },
   "outputs": [],
   "source": [
    "# EXCLUDE CERTAIN SUBGROUPS\n",
    "# ----------------------\n",
    "\n",
    "mode = universe.get(\"exclude_subgroups\", \"keep-all\") \n",
    "# Fetches the exclude_subgroups setting from the universe dict.\n",
    "# Defaults to \"keep-all\" if the key is missing."
   ]
  },
  {
   "cell_type": "code",
   "execution_count": 26,
   "id": "21994072",
   "metadata": {
    "execution": {
     "iopub.execute_input": "2025-08-05T15:20:32.386065Z",
     "iopub.status.busy": "2025-08-05T15:20:32.385571Z",
     "iopub.status.idle": "2025-08-05T15:20:32.394413Z",
     "shell.execute_reply": "2025-08-05T15:20:32.393298Z"
    },
    "papermill": {
     "duration": 0.032701,
     "end_time": "2025-08-05T15:20:32.396239",
     "exception": false,
     "start_time": "2025-08-05T15:20:32.363538",
     "status": "completed"
    },
    "tags": []
   },
   "outputs": [],
   "source": [
    "if mode == \"keep-all\":\n",
    "    keep_mask = pd.Series(True, index=org_train.index)\n",
    "\n",
    "# org_train contains the original feature columns from features_org (in Simson)\n",
    "# features_org contains unprocessed features, for me X_train at beginning ???\n",
    "# For keep-all, creates a boolean Series (keep_mask) of all True, so no rows are removed.\n",
    "\n",
    "elif mode == \"drop-non-german\":\n",
    "    keep_mask = org_train[\"maxdeutsch1\"] == 1 # ??? what about missing values?\n",
    "\n",
    "else:\n",
    "    raise ValueError(f\"Unsupported mode for exclude_subgroups: {mode}\")"
   ]
  },
  {
   "cell_type": "code",
   "execution_count": 27,
   "id": "71651440",
   "metadata": {
    "execution": {
     "iopub.execute_input": "2025-08-05T15:20:32.440815Z",
     "iopub.status.busy": "2025-08-05T15:20:32.440117Z",
     "iopub.status.idle": "2025-08-05T15:20:32.447751Z",
     "shell.execute_reply": "2025-08-05T15:20:32.446623Z"
    },
    "papermill": {
     "duration": 0.030185,
     "end_time": "2025-08-05T15:20:32.449546",
     "exception": false,
     "start_time": "2025-08-05T15:20:32.419361",
     "status": "completed"
    },
    "tags": []
   },
   "outputs": [
    {
     "name": "stdout",
     "output_type": "stream",
     "text": [
      "Dropping 741 rows (14.82%) where mode='drop-non-german'\n"
     ]
    }
   ],
   "source": [
    "n_drop = (~keep_mask).sum() # Calculates how many rows are set to be dropped\n",
    "if n_drop > 0:\n",
    "    pct = n_drop / len(keep_mask) * 100\n",
    "    print(f\"Dropping {n_drop} rows ({pct:.2f}%) where mode='{mode}'\")"
   ]
  },
  {
   "cell_type": "code",
   "execution_count": 28,
   "id": "5fb8eee5",
   "metadata": {
    "execution": {
     "iopub.execute_input": "2025-08-05T15:20:32.492900Z",
     "iopub.status.busy": "2025-08-05T15:20:32.492266Z",
     "iopub.status.idle": "2025-08-05T15:20:32.499508Z",
     "shell.execute_reply": "2025-08-05T15:20:32.498471Z"
    },
    "papermill": {
     "duration": 0.029968,
     "end_time": "2025-08-05T15:20:32.501335",
     "exception": false,
     "start_time": "2025-08-05T15:20:32.471367",
     "status": "completed"
    },
    "tags": []
   },
   "outputs": [],
   "source": [
    "X_train = X_train[keep_mask]"
   ]
  },
  {
   "cell_type": "code",
   "execution_count": 29,
   "id": "b202bb3a",
   "metadata": {
    "execution": {
     "iopub.execute_input": "2025-08-05T15:20:32.544857Z",
     "iopub.status.busy": "2025-08-05T15:20:32.544035Z",
     "iopub.status.idle": "2025-08-05T15:20:32.550146Z",
     "shell.execute_reply": "2025-08-05T15:20:32.549051Z"
    },
    "papermill": {
     "duration": 0.029485,
     "end_time": "2025-08-05T15:20:32.552060",
     "exception": false,
     "start_time": "2025-08-05T15:20:32.522575",
     "status": "completed"
    },
    "tags": []
   },
   "outputs": [],
   "source": [
    "y_train = y_train[keep_mask]"
   ]
  },
  {
   "cell_type": "markdown",
   "id": "493e2ac3",
   "metadata": {
    "papermill": {
     "duration": 0.020101,
     "end_time": "2025-08-05T15:20:32.597113",
     "exception": false,
     "start_time": "2025-08-05T15:20:32.577012",
     "status": "completed"
    },
    "tags": []
   },
   "source": [
    "# Model Training"
   ]
  },
  {
   "cell_type": "code",
   "execution_count": 30,
   "id": "679e1268",
   "metadata": {
    "execution": {
     "iopub.execute_input": "2025-08-05T15:20:32.639191Z",
     "iopub.status.busy": "2025-08-05T15:20:32.638523Z",
     "iopub.status.idle": "2025-08-05T15:20:32.748508Z",
     "shell.execute_reply": "2025-08-05T15:20:32.747485Z"
    },
    "papermill": {
     "duration": 0.1332,
     "end_time": "2025-08-05T15:20:32.750611",
     "exception": false,
     "start_time": "2025-08-05T15:20:32.617411",
     "status": "completed"
    },
    "tags": []
   },
   "outputs": [],
   "source": [
    "from sklearn.linear_model import LogisticRegression\n",
    "from sklearn.ensemble import GradientBoostingClassifier, RandomForestClassifier\n",
    "\n",
    "if (universe[\"model\"] == \"logreg\"):\n",
    "    model = LogisticRegression() #penalty=\"none\", solver=\"newton-cg\", max_iter=1) # include random_state=19 ?\n",
    "elif (universe[\"model\"] == \"penalized_logreg\"):\n",
    "    model = LogisticRegression(penalty=\"l2\", C=0.1) #, solver=\"newton-cg\", max_iter=1)\n",
    "elif (universe[\"model\"] == \"rf\"):\n",
    "    model = RandomForestClassifier() # n_estimators=100, n_jobs=-1\n",
    "elif (universe[\"model\"] == \"gbm\"):\n",
    "    model = GradientBoostingClassifier()\n",
    "elif (universe[\"model\"] == \"elasticnet\"):\n",
    "    model = LogisticRegression(penalty = 'elasticnet', solver = 'saga', l1_ratio = 0.5) # max_iter=5000\n",
    "else:\n",
    "    raise \"Unsupported universe.model\""
   ]
  },
  {
   "cell_type": "code",
   "execution_count": 31,
   "id": "0cc8f744",
   "metadata": {
    "execution": {
     "iopub.execute_input": "2025-08-05T15:20:32.803453Z",
     "iopub.status.busy": "2025-08-05T15:20:32.802943Z",
     "iopub.status.idle": "2025-08-05T15:20:32.810073Z",
     "shell.execute_reply": "2025-08-05T15:20:32.809033Z"
    },
    "papermill": {
     "duration": 0.03186,
     "end_time": "2025-08-05T15:20:32.812268",
     "exception": false,
     "start_time": "2025-08-05T15:20:32.780408",
     "status": "completed"
    },
    "tags": []
   },
   "outputs": [],
   "source": [
    "import numpy as np\n",
    "from sklearn.pipeline import Pipeline\n",
    "from sklearn.preprocessing import StandardScaler\n",
    "\n",
    "model = Pipeline([\n",
    "    #(\"continuous_processor\", continuous_processor),\n",
    "    #(\"categorical_preprocessor\", categorical_preprocessor),\n",
    "    (\"scale\", StandardScaler() if universe[\"scale\"] == \"scale\" else None), \n",
    "    (\"model\", model),\n",
    "])"
   ]
  },
  {
   "cell_type": "code",
   "execution_count": 32,
   "id": "9442c04d",
   "metadata": {
    "execution": {
     "iopub.execute_input": "2025-08-05T15:20:32.858832Z",
     "iopub.status.busy": "2025-08-05T15:20:32.857877Z",
     "iopub.status.idle": "2025-08-05T15:20:32.996099Z",
     "shell.execute_reply": "2025-08-05T15:20:32.995177Z"
    },
    "papermill": {
     "duration": 0.163058,
     "end_time": "2025-08-05T15:20:32.997806",
     "exception": false,
     "start_time": "2025-08-05T15:20:32.834748",
     "status": "completed"
    },
    "tags": []
   },
   "outputs": [
    {
     "name": "stderr",
     "output_type": "stream",
     "text": [
      "/dss/dsshome1/0C/ra93lal2/.local/share/virtualenvs/CMA_Fairness_v2-3j10GkSs/lib/python3.10/site-packages/sklearn/linear_model/_logistic.py:444: ConvergenceWarning: lbfgs failed to converge (status=1):\n",
      "STOP: TOTAL NO. of ITERATIONS REACHED LIMIT.\n",
      "\n",
      "Increase the number of iterations (max_iter) or scale the data as shown in:\n",
      "    https://scikit-learn.org/stable/modules/preprocessing.html\n",
      "Please also refer to the documentation for alternative solver options:\n",
      "    https://scikit-learn.org/stable/modules/linear_model.html#logistic-regression\n",
      "  n_iter_i = _check_optimize_result(\n"
     ]
    },
    {
     "data": {
      "text/html": [
       "<style>#sk-container-id-1 {color: black;background-color: white;}#sk-container-id-1 pre{padding: 0;}#sk-container-id-1 div.sk-toggleable {background-color: white;}#sk-container-id-1 label.sk-toggleable__label {cursor: pointer;display: block;width: 100%;margin-bottom: 0;padding: 0.3em;box-sizing: border-box;text-align: center;}#sk-container-id-1 label.sk-toggleable__label-arrow:before {content: \"▸\";float: left;margin-right: 0.25em;color: #696969;}#sk-container-id-1 label.sk-toggleable__label-arrow:hover:before {color: black;}#sk-container-id-1 div.sk-estimator:hover label.sk-toggleable__label-arrow:before {color: black;}#sk-container-id-1 div.sk-toggleable__content {max-height: 0;max-width: 0;overflow: hidden;text-align: left;background-color: #f0f8ff;}#sk-container-id-1 div.sk-toggleable__content pre {margin: 0.2em;color: black;border-radius: 0.25em;background-color: #f0f8ff;}#sk-container-id-1 input.sk-toggleable__control:checked~div.sk-toggleable__content {max-height: 200px;max-width: 100%;overflow: auto;}#sk-container-id-1 input.sk-toggleable__control:checked~label.sk-toggleable__label-arrow:before {content: \"▾\";}#sk-container-id-1 div.sk-estimator input.sk-toggleable__control:checked~label.sk-toggleable__label {background-color: #d4ebff;}#sk-container-id-1 div.sk-label input.sk-toggleable__control:checked~label.sk-toggleable__label {background-color: #d4ebff;}#sk-container-id-1 input.sk-hidden--visually {border: 0;clip: rect(1px 1px 1px 1px);clip: rect(1px, 1px, 1px, 1px);height: 1px;margin: -1px;overflow: hidden;padding: 0;position: absolute;width: 1px;}#sk-container-id-1 div.sk-estimator {font-family: monospace;background-color: #f0f8ff;border: 1px dotted black;border-radius: 0.25em;box-sizing: border-box;margin-bottom: 0.5em;}#sk-container-id-1 div.sk-estimator:hover {background-color: #d4ebff;}#sk-container-id-1 div.sk-parallel-item::after {content: \"\";width: 100%;border-bottom: 1px solid gray;flex-grow: 1;}#sk-container-id-1 div.sk-label:hover label.sk-toggleable__label {background-color: #d4ebff;}#sk-container-id-1 div.sk-serial::before {content: \"\";position: absolute;border-left: 1px solid gray;box-sizing: border-box;top: 0;bottom: 0;left: 50%;z-index: 0;}#sk-container-id-1 div.sk-serial {display: flex;flex-direction: column;align-items: center;background-color: white;padding-right: 0.2em;padding-left: 0.2em;position: relative;}#sk-container-id-1 div.sk-item {position: relative;z-index: 1;}#sk-container-id-1 div.sk-parallel {display: flex;align-items: stretch;justify-content: center;background-color: white;position: relative;}#sk-container-id-1 div.sk-item::before, #sk-container-id-1 div.sk-parallel-item::before {content: \"\";position: absolute;border-left: 1px solid gray;box-sizing: border-box;top: 0;bottom: 0;left: 50%;z-index: -1;}#sk-container-id-1 div.sk-parallel-item {display: flex;flex-direction: column;z-index: 1;position: relative;background-color: white;}#sk-container-id-1 div.sk-parallel-item:first-child::after {align-self: flex-end;width: 50%;}#sk-container-id-1 div.sk-parallel-item:last-child::after {align-self: flex-start;width: 50%;}#sk-container-id-1 div.sk-parallel-item:only-child::after {width: 0;}#sk-container-id-1 div.sk-dashed-wrapped {border: 1px dashed gray;margin: 0 0.4em 0.5em 0.4em;box-sizing: border-box;padding-bottom: 0.4em;background-color: white;}#sk-container-id-1 div.sk-label label {font-family: monospace;font-weight: bold;display: inline-block;line-height: 1.2em;}#sk-container-id-1 div.sk-label-container {text-align: center;}#sk-container-id-1 div.sk-container {/* jupyter's `normalize.less` sets `[hidden] { display: none; }` but bootstrap.min.css set `[hidden] { display: none !important; }` so we also need the `!important` here to be able to override the default hidden behavior on the sphinx rendered scikit-learn.org. See: https://github.com/scikit-learn/scikit-learn/issues/21755 */display: inline-block !important;position: relative;}#sk-container-id-1 div.sk-text-repr-fallback {display: none;}</style><div id=\"sk-container-id-1\" class=\"sk-top-container\"><div class=\"sk-text-repr-fallback\"><pre>Pipeline(steps=[(&#x27;scale&#x27;, StandardScaler()), (&#x27;model&#x27;, LogisticRegression())])</pre><b>In a Jupyter environment, please rerun this cell to show the HTML representation or trust the notebook. <br />On GitHub, the HTML representation is unable to render, please try loading this page with nbviewer.org.</b></div><div class=\"sk-container\" hidden><div class=\"sk-item sk-dashed-wrapped\"><div class=\"sk-label-container\"><div class=\"sk-label sk-toggleable\"><input class=\"sk-toggleable__control sk-hidden--visually\" id=\"sk-estimator-id-1\" type=\"checkbox\" ><label for=\"sk-estimator-id-1\" class=\"sk-toggleable__label sk-toggleable__label-arrow\">Pipeline</label><div class=\"sk-toggleable__content\"><pre>Pipeline(steps=[(&#x27;scale&#x27;, StandardScaler()), (&#x27;model&#x27;, LogisticRegression())])</pre></div></div></div><div class=\"sk-serial\"><div class=\"sk-item\"><div class=\"sk-estimator sk-toggleable\"><input class=\"sk-toggleable__control sk-hidden--visually\" id=\"sk-estimator-id-2\" type=\"checkbox\" ><label for=\"sk-estimator-id-2\" class=\"sk-toggleable__label sk-toggleable__label-arrow\">StandardScaler</label><div class=\"sk-toggleable__content\"><pre>StandardScaler()</pre></div></div></div><div class=\"sk-item\"><div class=\"sk-estimator sk-toggleable\"><input class=\"sk-toggleable__control sk-hidden--visually\" id=\"sk-estimator-id-3\" type=\"checkbox\" ><label for=\"sk-estimator-id-3\" class=\"sk-toggleable__label sk-toggleable__label-arrow\">LogisticRegression</label><div class=\"sk-toggleable__content\"><pre>LogisticRegression()</pre></div></div></div></div></div></div></div>"
      ],
      "text/plain": [
       "Pipeline(steps=[('scale', StandardScaler()), ('model', LogisticRegression())])"
      ]
     },
     "execution_count": 32,
     "metadata": {},
     "output_type": "execute_result"
    }
   ],
   "source": [
    "model.fit(X_train, y_train.values.ravel())"
   ]
  },
  {
   "cell_type": "code",
   "execution_count": 33,
   "id": "af59f8c0",
   "metadata": {
    "execution": {
     "iopub.execute_input": "2025-08-05T15:20:33.043856Z",
     "iopub.status.busy": "2025-08-05T15:20:33.043332Z",
     "iopub.status.idle": "2025-08-05T15:20:33.049350Z",
     "shell.execute_reply": "2025-08-05T15:20:33.048252Z"
    },
    "papermill": {
     "duration": 0.03229,
     "end_time": "2025-08-05T15:20:33.051523",
     "exception": false,
     "start_time": "2025-08-05T15:20:33.019233",
     "status": "completed"
    },
    "tags": []
   },
   "outputs": [],
   "source": [
    "from fairness_multiverse.universe import predict_w_threshold"
   ]
  },
  {
   "cell_type": "code",
   "execution_count": 34,
   "id": "a7cf2e16",
   "metadata": {
    "execution": {
     "iopub.execute_input": "2025-08-05T15:20:33.097610Z",
     "iopub.status.busy": "2025-08-05T15:20:33.096645Z",
     "iopub.status.idle": "2025-08-05T15:20:33.295512Z",
     "shell.execute_reply": "2025-08-05T15:20:33.293117Z"
    },
    "papermill": {
     "duration": 0.223071,
     "end_time": "2025-08-05T15:20:33.297252",
     "exception": false,
     "start_time": "2025-08-05T15:20:33.074181",
     "status": "completed"
    },
    "tags": []
   },
   "outputs": [
    {
     "data": {
      "text/plain": [
       "0.8556905584661688"
      ]
     },
     "execution_count": 34,
     "metadata": {},
     "output_type": "execute_result"
    }
   ],
   "source": [
    "probs_test = model.predict_proba(X_test)\n",
    "\n",
    "'''\n",
    "Below code returns a boolean array (or binary 0/1 array depending on how it’s used) where each element \n",
    "is True if the probability of class 1 is greater than or equal to the threshold, and False otherwise.\n",
    "'''\n",
    "y_pred_default = predict_w_threshold(probs_test, 0.5)\n",
    "\n",
    "from sklearn.metrics import accuracy_score\n",
    "\n",
    "# Naive prediction\n",
    "accuracy_score(y_true = y_true, y_pred = y_pred_default)"
   ]
  },
  {
   "cell_type": "code",
   "execution_count": 35,
   "id": "081964c3",
   "metadata": {
    "execution": {
     "iopub.execute_input": "2025-08-05T15:20:33.342604Z",
     "iopub.status.busy": "2025-08-05T15:20:33.342104Z",
     "iopub.status.idle": "2025-08-05T15:20:33.529370Z",
     "shell.execute_reply": "2025-08-05T15:20:33.528404Z"
    },
    "papermill": {
     "duration": 0.210949,
     "end_time": "2025-08-05T15:20:33.531164",
     "exception": false,
     "start_time": "2025-08-05T15:20:33.320215",
     "status": "completed"
    },
    "tags": []
   },
   "outputs": [
    {
     "data": {
      "text/plain": [
       "array([0, 0, 0, ..., 0, 0, 0])"
      ]
     },
     "execution_count": 35,
     "metadata": {},
     "output_type": "execute_result"
    }
   ],
   "source": [
    "model.predict(X_test)"
   ]
  },
  {
   "cell_type": "markdown",
   "id": "56c9705b",
   "metadata": {
    "papermill": {
     "duration": 0.027854,
     "end_time": "2025-08-05T15:20:33.582878",
     "exception": false,
     "start_time": "2025-08-05T15:20:33.555024",
     "status": "completed"
    },
    "tags": []
   },
   "source": [
    "# Conformal Prediction"
   ]
  },
  {
   "cell_type": "code",
   "execution_count": 36,
   "id": "160ec6ff",
   "metadata": {
    "execution": {
     "iopub.execute_input": "2025-08-05T15:20:33.639893Z",
     "iopub.status.busy": "2025-08-05T15:20:33.639301Z",
     "iopub.status.idle": "2025-08-05T15:20:33.645571Z",
     "shell.execute_reply": "2025-08-05T15:20:33.644411Z"
    },
    "papermill": {
     "duration": 0.036409,
     "end_time": "2025-08-05T15:20:33.647421",
     "exception": false,
     "start_time": "2025-08-05T15:20:33.611012",
     "status": "completed"
    },
    "tags": []
   },
   "outputs": [],
   "source": [
    "# Miscoverage level for conformal prediction (10% allowed error rate => 90% target coverage)\n",
    "alpha = 0.1"
   ]
  },
  {
   "cell_type": "code",
   "execution_count": 37,
   "id": "eadf4555-3dd3-440e-8e35-f82a4ad9f855",
   "metadata": {
    "execution": {
     "iopub.execute_input": "2025-08-05T15:20:33.695278Z",
     "iopub.status.busy": "2025-08-05T15:20:33.694291Z",
     "iopub.status.idle": "2025-08-05T15:20:33.874421Z",
     "shell.execute_reply": "2025-08-05T15:20:33.873454Z"
    },
    "papermill": {
     "duration": 0.206109,
     "end_time": "2025-08-05T15:20:33.876897",
     "exception": false,
     "start_time": "2025-08-05T15:20:33.670788",
     "status": "completed"
    },
    "tags": []
   },
   "outputs": [],
   "source": [
    "probs_calib = model.predict_proba(X_calib)"
   ]
  },
  {
   "cell_type": "code",
   "execution_count": 38,
   "id": "2ed93547-6d5d-4983-9b36-1ecb300da49a",
   "metadata": {
    "execution": {
     "iopub.execute_input": "2025-08-05T15:20:33.938199Z",
     "iopub.status.busy": "2025-08-05T15:20:33.937683Z",
     "iopub.status.idle": "2025-08-05T15:20:33.943321Z",
     "shell.execute_reply": "2025-08-05T15:20:33.942531Z"
    },
    "papermill": {
     "duration": 0.038671,
     "end_time": "2025-08-05T15:20:33.945691",
     "exception": false,
     "start_time": "2025-08-05T15:20:33.907020",
     "status": "completed"
    },
    "tags": []
   },
   "outputs": [],
   "source": [
    "y_calib = y_calib.values.ravel().astype(int)"
   ]
  },
  {
   "cell_type": "code",
   "execution_count": 39,
   "id": "65d1320d-f588-4b38-9072-62af1ae97f7d",
   "metadata": {
    "execution": {
     "iopub.execute_input": "2025-08-05T15:20:33.989201Z",
     "iopub.status.busy": "2025-08-05T15:20:33.988576Z",
     "iopub.status.idle": "2025-08-05T15:20:33.996393Z",
     "shell.execute_reply": "2025-08-05T15:20:33.995335Z"
    },
    "papermill": {
     "duration": 0.029228,
     "end_time": "2025-08-05T15:20:33.998251",
     "exception": false,
     "start_time": "2025-08-05T15:20:33.969023",
     "status": "completed"
    },
    "tags": []
   },
   "outputs": [],
   "source": [
    "from fairness_multiverse.conformal import compute_nc_scores\n",
    "\n",
    "# Compute nonconformity scores on calibration set (1 - probability of true class)\n",
    "nc_scores = compute_nc_scores(probs_calib, y_calib)"
   ]
  },
  {
   "cell_type": "code",
   "execution_count": 40,
   "id": "df3b8ca3-53b7-43d5-9667-7c85da7aeda2",
   "metadata": {
    "execution": {
     "iopub.execute_input": "2025-08-05T15:20:34.041255Z",
     "iopub.status.busy": "2025-08-05T15:20:34.040617Z",
     "iopub.status.idle": "2025-08-05T15:20:34.048176Z",
     "shell.execute_reply": "2025-08-05T15:20:34.047155Z"
    },
    "papermill": {
     "duration": 0.028493,
     "end_time": "2025-08-05T15:20:34.049973",
     "exception": false,
     "start_time": "2025-08-05T15:20:34.021480",
     "status": "completed"
    },
    "tags": []
   },
   "outputs": [],
   "source": [
    "from fairness_multiverse.conformal import find_threshold\n",
    "\n",
    "# Find conformal threshold q_hat for the given alpha (split conformal method)\n",
    "q_hat = find_threshold(nc_scores, alpha)"
   ]
  },
  {
   "cell_type": "code",
   "execution_count": 41,
   "id": "4d29e6c1-0ef6-4aa4-b8fe-4fe79b0d033a",
   "metadata": {
    "execution": {
     "iopub.execute_input": "2025-08-05T15:20:34.096822Z",
     "iopub.status.busy": "2025-08-05T15:20:34.096135Z",
     "iopub.status.idle": "2025-08-05T15:20:34.104674Z",
     "shell.execute_reply": "2025-08-05T15:20:34.103939Z"
    },
    "papermill": {
     "duration": 0.033576,
     "end_time": "2025-08-05T15:20:34.106056",
     "exception": false,
     "start_time": "2025-08-05T15:20:34.072480",
     "status": "completed"
    },
    "tags": []
   },
   "outputs": [
    {
     "data": {
      "text/plain": [
       "0.6920192634141921"
      ]
     },
     "execution_count": 41,
     "metadata": {},
     "output_type": "execute_result"
    }
   ],
   "source": [
    "q_hat"
   ]
  },
  {
   "cell_type": "code",
   "execution_count": 42,
   "id": "92460794-cdac-4be2-ba28-f28c0515a6fb",
   "metadata": {
    "execution": {
     "iopub.execute_input": "2025-08-05T15:20:34.129977Z",
     "iopub.status.busy": "2025-08-05T15:20:34.129193Z",
     "iopub.status.idle": "2025-08-05T15:20:34.958454Z",
     "shell.execute_reply": "2025-08-05T15:20:34.957565Z"
    },
    "papermill": {
     "duration": 0.841993,
     "end_time": "2025-08-05T15:20:34.959972",
     "exception": false,
     "start_time": "2025-08-05T15:20:34.117979",
     "status": "completed"
    },
    "tags": []
   },
   "outputs": [],
   "source": [
    "from fairness_multiverse.conformal import predict_conformal_sets\n",
    "\n",
    "# Generate prediction sets for each test example\n",
    "pred_sets = predict_conformal_sets(model, X_test, q_hat)"
   ]
  },
  {
   "cell_type": "code",
   "execution_count": 43,
   "id": "d90c9a65-e6db-4f5d-80cd-e68fb7e46829",
   "metadata": {
    "execution": {
     "iopub.execute_input": "2025-08-05T15:20:34.998427Z",
     "iopub.status.busy": "2025-08-05T15:20:34.997963Z",
     "iopub.status.idle": "2025-08-05T15:20:35.003601Z",
     "shell.execute_reply": "2025-08-05T15:20:35.002650Z"
    },
    "papermill": {
     "duration": 0.027083,
     "end_time": "2025-08-05T15:20:35.005232",
     "exception": false,
     "start_time": "2025-08-05T15:20:34.978149",
     "status": "completed"
    },
    "tags": []
   },
   "outputs": [],
   "source": [
    "y_true = y_true.squeeze()"
   ]
  },
  {
   "cell_type": "code",
   "execution_count": 44,
   "id": "3a58a54a-1e68-46b9-927a-df01f18aebc8",
   "metadata": {
    "execution": {
     "iopub.execute_input": "2025-08-05T15:20:35.046962Z",
     "iopub.status.busy": "2025-08-05T15:20:35.046511Z",
     "iopub.status.idle": "2025-08-05T15:20:35.927614Z",
     "shell.execute_reply": "2025-08-05T15:20:35.926590Z"
    },
    "papermill": {
     "duration": 0.904468,
     "end_time": "2025-08-05T15:20:35.929670",
     "exception": false,
     "start_time": "2025-08-05T15:20:35.025202",
     "status": "completed"
    },
    "tags": []
   },
   "outputs": [],
   "source": [
    "from fairness_multiverse.conformal import evaluate_sets\n",
    "\n",
    "# Evaluate coverage and average set size on test data\n",
    "metrics = evaluate_sets(pred_sets, y_true)"
   ]
  },
  {
   "cell_type": "markdown",
   "id": "2b569c12-9aaa-4c88-98c9-bbcd0cf3ebb8",
   "metadata": {
    "papermill": {
     "duration": 0.020679,
     "end_time": "2025-08-05T15:20:35.969789",
     "exception": false,
     "start_time": "2025-08-05T15:20:35.949110",
     "status": "completed"
    },
    "tags": []
   },
   "source": [
    "# CP Metrics"
   ]
  },
  {
   "cell_type": "code",
   "execution_count": 45,
   "id": "5ce0a5cb-201f-45a0-ade5-94c7f0bd6095",
   "metadata": {
    "execution": {
     "iopub.execute_input": "2025-08-05T15:20:36.009332Z",
     "iopub.status.busy": "2025-08-05T15:20:36.008621Z",
     "iopub.status.idle": "2025-08-05T15:20:36.016141Z",
     "shell.execute_reply": "2025-08-05T15:20:36.014985Z"
    },
    "papermill": {
     "duration": 0.028779,
     "end_time": "2025-08-05T15:20:36.017885",
     "exception": false,
     "start_time": "2025-08-05T15:20:35.989106",
     "status": "completed"
    },
    "tags": []
   },
   "outputs": [
    {
     "data": {
      "text/plain": [
       "{'coverage': 0.9099877382677516, 'avg_size': 1.137977928881953}"
      ]
     },
     "execution_count": 45,
     "metadata": {},
     "output_type": "execute_result"
    }
   ],
   "source": [
    "metrics"
   ]
  },
  {
   "cell_type": "code",
   "execution_count": 46,
   "id": "9b9a838d-31c9-430b-ae14-12baee460d17",
   "metadata": {
    "execution": {
     "iopub.execute_input": "2025-08-05T15:20:36.058782Z",
     "iopub.status.busy": "2025-08-05T15:20:36.058067Z",
     "iopub.status.idle": "2025-08-05T15:20:36.064392Z",
     "shell.execute_reply": "2025-08-05T15:20:36.063482Z"
    },
    "papermill": {
     "duration": 0.027431,
     "end_time": "2025-08-05T15:20:36.066091",
     "exception": false,
     "start_time": "2025-08-05T15:20:36.038660",
     "status": "completed"
    },
    "tags": []
   },
   "outputs": [],
   "source": [
    "example_universe = universe.copy()\n",
    "universe_training_year = example_universe.get(\"training_year\")\n",
    "universe_training_size = example_universe.get(\"training_size\")\n",
    "universe_scale = example_universe.get(\"scale\")\n",
    "universe_model = example_universe.get(\"model\")\n",
    "universe_exclude_features = example_universe.get(\"exclude_features\")\n",
    "universe_exclude_subgroups = example_universe.get(\"exclude_subgroups\")"
   ]
  },
  {
   "cell_type": "code",
   "execution_count": 47,
   "id": "f4b6a8ac-9dc0-4245-8a91-5b3b5999c4f9",
   "metadata": {
    "execution": {
     "iopub.execute_input": "2025-08-05T15:20:36.107079Z",
     "iopub.status.busy": "2025-08-05T15:20:36.106362Z",
     "iopub.status.idle": "2025-08-05T15:20:36.113408Z",
     "shell.execute_reply": "2025-08-05T15:20:36.112417Z"
    },
    "papermill": {
     "duration": 0.0292,
     "end_time": "2025-08-05T15:20:36.115402",
     "exception": false,
     "start_time": "2025-08-05T15:20:36.086202",
     "status": "completed"
    },
    "tags": []
   },
   "outputs": [],
   "source": [
    "cp_metrics_dict = {\n",
    "    \"universe_id\": [universe_id],\n",
    "    \"universe_training_year\": [universe_training_year],\n",
    "    \"universe_training_size\": [universe_training_size],\n",
    "    \"universe_scale\": [universe_scale],\n",
    "    \"universe_model\": [universe_model],\n",
    "    \"universe_exclude_features\": [universe_exclude_features],\n",
    "    \"universe_exclude_subgroups\": [universe_exclude_subgroups],\n",
    "    \"q_hat\": [q_hat],\n",
    "    \"coverage\": [metrics[\"coverage\"]],\n",
    "    \"avg_size\": [metrics[\"avg_size\"]],\n",
    "}"
   ]
  },
  {
   "cell_type": "code",
   "execution_count": 48,
   "id": "908acbb1-0371-4915-85ca-3fa520d2efe2",
   "metadata": {
    "execution": {
     "iopub.execute_input": "2025-08-05T15:20:36.166515Z",
     "iopub.status.busy": "2025-08-05T15:20:36.165650Z",
     "iopub.status.idle": "2025-08-05T15:20:36.173644Z",
     "shell.execute_reply": "2025-08-05T15:20:36.172681Z"
    },
    "papermill": {
     "duration": 0.035376,
     "end_time": "2025-08-05T15:20:36.175387",
     "exception": false,
     "start_time": "2025-08-05T15:20:36.140011",
     "status": "completed"
    },
    "tags": []
   },
   "outputs": [
    {
     "data": {
      "text/plain": [
       "{'universe_id': ['151f605916d800f0bde6768089298b51'],\n",
       " 'universe_training_year': ['2014'],\n",
       " 'universe_training_size': ['5k'],\n",
       " 'universe_scale': ['scale'],\n",
       " 'universe_model': ['logreg'],\n",
       " 'universe_exclude_features': ['none'],\n",
       " 'universe_exclude_subgroups': ['drop-non-german'],\n",
       " 'q_hat': [0.6920192634141921],\n",
       " 'coverage': [0.9099877382677516],\n",
       " 'avg_size': [1.137977928881953]}"
      ]
     },
     "execution_count": 48,
     "metadata": {},
     "output_type": "execute_result"
    }
   ],
   "source": [
    "cp_metrics_dict"
   ]
  },
  {
   "cell_type": "code",
   "execution_count": 49,
   "id": "33007efc-14e9-4ec6-97ac-56a455c82265",
   "metadata": {
    "execution": {
     "iopub.execute_input": "2025-08-05T15:20:36.225964Z",
     "iopub.status.busy": "2025-08-05T15:20:36.225575Z",
     "iopub.status.idle": "2025-08-05T15:20:36.232410Z",
     "shell.execute_reply": "2025-08-05T15:20:36.231350Z"
    },
    "papermill": {
     "duration": 0.034441,
     "end_time": "2025-08-05T15:20:36.234201",
     "exception": false,
     "start_time": "2025-08-05T15:20:36.199760",
     "status": "completed"
    },
    "tags": []
   },
   "outputs": [],
   "source": [
    "cp_metrics_df = pd.DataFrame(cp_metrics_dict)"
   ]
  },
  {
   "cell_type": "code",
   "execution_count": 50,
   "id": "db12611b-57b2-4910-b9d0-355adfd6e7bf",
   "metadata": {
    "execution": {
     "iopub.execute_input": "2025-08-05T15:20:36.283278Z",
     "iopub.status.busy": "2025-08-05T15:20:36.282560Z",
     "iopub.status.idle": "2025-08-05T15:20:36.303263Z",
     "shell.execute_reply": "2025-08-05T15:20:36.302136Z"
    },
    "papermill": {
     "duration": 0.045252,
     "end_time": "2025-08-05T15:20:36.305035",
     "exception": false,
     "start_time": "2025-08-05T15:20:36.259783",
     "status": "completed"
    },
    "tags": []
   },
   "outputs": [
    {
     "data": {
      "text/html": [
       "<div>\n",
       "<style scoped>\n",
       "    .dataframe tbody tr th:only-of-type {\n",
       "        vertical-align: middle;\n",
       "    }\n",
       "\n",
       "    .dataframe tbody tr th {\n",
       "        vertical-align: top;\n",
       "    }\n",
       "\n",
       "    .dataframe thead th {\n",
       "        text-align: right;\n",
       "    }\n",
       "</style>\n",
       "<table border=\"1\" class=\"dataframe\">\n",
       "  <thead>\n",
       "    <tr style=\"text-align: right;\">\n",
       "      <th></th>\n",
       "      <th>universe_id</th>\n",
       "      <th>universe_training_year</th>\n",
       "      <th>universe_training_size</th>\n",
       "      <th>universe_scale</th>\n",
       "      <th>universe_model</th>\n",
       "      <th>universe_exclude_features</th>\n",
       "      <th>universe_exclude_subgroups</th>\n",
       "      <th>q_hat</th>\n",
       "      <th>coverage</th>\n",
       "      <th>avg_size</th>\n",
       "    </tr>\n",
       "  </thead>\n",
       "  <tbody>\n",
       "    <tr>\n",
       "      <th>0</th>\n",
       "      <td>151f605916d800f0bde6768089298b51</td>\n",
       "      <td>2014</td>\n",
       "      <td>5k</td>\n",
       "      <td>scale</td>\n",
       "      <td>logreg</td>\n",
       "      <td>none</td>\n",
       "      <td>drop-non-german</td>\n",
       "      <td>0.692019</td>\n",
       "      <td>0.909988</td>\n",
       "      <td>1.137978</td>\n",
       "    </tr>\n",
       "  </tbody>\n",
       "</table>\n",
       "</div>"
      ],
      "text/plain": [
       "                        universe_id universe_training_year  \\\n",
       "0  151f605916d800f0bde6768089298b51                   2014   \n",
       "\n",
       "  universe_training_size universe_scale universe_model  \\\n",
       "0                     5k          scale         logreg   \n",
       "\n",
       "  universe_exclude_features universe_exclude_subgroups     q_hat  coverage  \\\n",
       "0                      none            drop-non-german  0.692019  0.909988   \n",
       "\n",
       "   avg_size  \n",
       "0  1.137978  "
      ]
     },
     "execution_count": 50,
     "metadata": {},
     "output_type": "execute_result"
    }
   ],
   "source": [
    "cp_metrics_df"
   ]
  },
  {
   "cell_type": "code",
   "execution_count": 51,
   "id": "b7fbde55-a0a1-47e4-9af6-fe4a17fa8c61",
   "metadata": {
    "execution": {
     "iopub.execute_input": "2025-08-05T15:20:36.352967Z",
     "iopub.status.busy": "2025-08-05T15:20:36.352453Z",
     "iopub.status.idle": "2025-08-05T15:20:36.358169Z",
     "shell.execute_reply": "2025-08-05T15:20:36.357093Z"
    },
    "papermill": {
     "duration": 0.031252,
     "end_time": "2025-08-05T15:20:36.360230",
     "exception": false,
     "start_time": "2025-08-05T15:20:36.328978",
     "status": "completed"
    },
    "tags": []
   },
   "outputs": [],
   "source": [
    "# Conditional Coverage & looking at subgroups"
   ]
  },
  {
   "cell_type": "code",
   "execution_count": 52,
   "id": "027ae886-68dd-4141-96c7-805a5450e1ef",
   "metadata": {
    "execution": {
     "iopub.execute_input": "2025-08-05T15:20:36.407440Z",
     "iopub.status.busy": "2025-08-05T15:20:36.406950Z",
     "iopub.status.idle": "2025-08-05T15:20:36.678766Z",
     "shell.execute_reply": "2025-08-05T15:20:36.677679Z"
    },
    "papermill": {
     "duration": 0.297034,
     "end_time": "2025-08-05T15:20:36.680397",
     "exception": false,
     "start_time": "2025-08-05T15:20:36.383363",
     "status": "completed"
    },
    "tags": []
   },
   "outputs": [],
   "source": [
    "from fairness_multiverse.conformal import build_cp_groups\n",
    "\n",
    "cp_groups_df = build_cp_groups(pred_sets, y_true, X_test.index, org_test)\n",
    "#needs universe_id and setting"
   ]
  },
  {
   "cell_type": "code",
   "execution_count": 53,
   "id": "6cbdab96-b2b2-45af-ad54-d0516db2e28d",
   "metadata": {
    "execution": {
     "iopub.execute_input": "2025-08-05T15:20:36.729426Z",
     "iopub.status.busy": "2025-08-05T15:20:36.728978Z",
     "iopub.status.idle": "2025-08-05T15:20:38.555806Z",
     "shell.execute_reply": "2025-08-05T15:20:38.554715Z"
    },
    "papermill": {
     "duration": 1.855213,
     "end_time": "2025-08-05T15:20:38.557907",
     "exception": false,
     "start_time": "2025-08-05T15:20:36.702694",
     "status": "completed"
    },
    "tags": []
   },
   "outputs": [],
   "source": [
    "# Define covered = 1 if true_label is in the predicted set\n",
    "cp_groups_df['covered'] = cp_groups_df.apply(\n",
    "    lambda r: int(r['true_label'] in r['pred_set']),\n",
    "    axis=1\n",
    ")"
   ]
  },
  {
   "cell_type": "code",
   "execution_count": 54,
   "id": "338ff529-1a6b-4b87-a931-8e4788d52aad",
   "metadata": {
    "execution": {
     "iopub.execute_input": "2025-08-05T15:20:38.609674Z",
     "iopub.status.busy": "2025-08-05T15:20:38.608913Z",
     "iopub.status.idle": "2025-08-05T15:20:38.614498Z",
     "shell.execute_reply": "2025-08-05T15:20:38.613418Z"
    },
    "papermill": {
     "duration": 0.032281,
     "end_time": "2025-08-05T15:20:38.616387",
     "exception": false,
     "start_time": "2025-08-05T15:20:38.584106",
     "status": "completed"
    },
    "tags": []
   },
   "outputs": [],
   "source": [
    "#cp_groups_df"
   ]
  },
  {
   "cell_type": "code",
   "execution_count": 55,
   "id": "90032e27-66df-4540-9169-4e89cfbaa758",
   "metadata": {
    "execution": {
     "iopub.execute_input": "2025-08-05T15:20:38.666233Z",
     "iopub.status.busy": "2025-08-05T15:20:38.665690Z",
     "iopub.status.idle": "2025-08-05T15:20:38.677191Z",
     "shell.execute_reply": "2025-08-05T15:20:38.676207Z"
    },
    "papermill": {
     "duration": 0.038224,
     "end_time": "2025-08-05T15:20:38.678929",
     "exception": false,
     "start_time": "2025-08-05T15:20:38.640705",
     "status": "completed"
    },
    "tags": []
   },
   "outputs": [],
   "source": [
    "subgroups = ['frau1','nongerman','nongerman_male','nongerman_female']\n",
    "\n",
    "# Conditional coverage for subgroup==1\n",
    "cond_coverage = {\n",
    "    g: cp_groups_df.loc[cp_groups_df[g]==1, 'covered'].mean()\n",
    "    for g in subgroups\n",
    "}"
   ]
  },
  {
   "cell_type": "code",
   "execution_count": 56,
   "id": "1e348fb1-b9c3-45bc-ba23-f016827a7e0d",
   "metadata": {
    "execution": {
     "iopub.execute_input": "2025-08-05T15:20:38.728114Z",
     "iopub.status.busy": "2025-08-05T15:20:38.727547Z",
     "iopub.status.idle": "2025-08-05T15:20:38.734930Z",
     "shell.execute_reply": "2025-08-05T15:20:38.733846Z"
    },
    "papermill": {
     "duration": 0.033882,
     "end_time": "2025-08-05T15:20:38.736720",
     "exception": false,
     "start_time": "2025-08-05T15:20:38.702838",
     "status": "completed"
    },
    "tags": []
   },
   "outputs": [
    {
     "data": {
      "text/plain": [
       "{'frau1': 0.9067798894729748,\n",
       " 'nongerman': 0.9075955762645259,\n",
       " 'nongerman_male': 0.9266864811312258,\n",
       " 'nongerman_female': 0.8760059612518629}"
      ]
     },
     "execution_count": 56,
     "metadata": {},
     "output_type": "execute_result"
    }
   ],
   "source": [
    "cond_coverage"
   ]
  },
  {
   "cell_type": "code",
   "execution_count": 57,
   "id": "f5093324-c3dd-4d63-bc4c-8d945e5c8bbb",
   "metadata": {
    "execution": {
     "iopub.execute_input": "2025-08-05T15:20:38.786929Z",
     "iopub.status.busy": "2025-08-05T15:20:38.786326Z",
     "iopub.status.idle": "2025-08-05T15:20:38.793575Z",
     "shell.execute_reply": "2025-08-05T15:20:38.792534Z"
    },
    "papermill": {
     "duration": 0.034293,
     "end_time": "2025-08-05T15:20:38.795393",
     "exception": false,
     "start_time": "2025-08-05T15:20:38.761100",
     "status": "completed"
    },
    "tags": []
   },
   "outputs": [],
   "source": [
    "for subgroup, cov in cond_coverage.items():\n",
    "    cp_metrics_df[f\"cov_{subgroup}\"] = cov"
   ]
  },
  {
   "cell_type": "code",
   "execution_count": 58,
   "id": "6e872e10-dbe5-49e8-b554-5030c98ff75d",
   "metadata": {
    "execution": {
     "iopub.execute_input": "2025-08-05T15:20:38.845329Z",
     "iopub.status.busy": "2025-08-05T15:20:38.845043Z",
     "iopub.status.idle": "2025-08-05T15:20:38.862322Z",
     "shell.execute_reply": "2025-08-05T15:20:38.861278Z"
    },
    "papermill": {
     "duration": 0.044163,
     "end_time": "2025-08-05T15:20:38.864071",
     "exception": false,
     "start_time": "2025-08-05T15:20:38.819908",
     "status": "completed"
    },
    "tags": []
   },
   "outputs": [
    {
     "data": {
      "text/html": [
       "<div>\n",
       "<style scoped>\n",
       "    .dataframe tbody tr th:only-of-type {\n",
       "        vertical-align: middle;\n",
       "    }\n",
       "\n",
       "    .dataframe tbody tr th {\n",
       "        vertical-align: top;\n",
       "    }\n",
       "\n",
       "    .dataframe thead th {\n",
       "        text-align: right;\n",
       "    }\n",
       "</style>\n",
       "<table border=\"1\" class=\"dataframe\">\n",
       "  <thead>\n",
       "    <tr style=\"text-align: right;\">\n",
       "      <th></th>\n",
       "      <th>universe_id</th>\n",
       "      <th>universe_training_year</th>\n",
       "      <th>universe_training_size</th>\n",
       "      <th>universe_scale</th>\n",
       "      <th>universe_model</th>\n",
       "      <th>universe_exclude_features</th>\n",
       "      <th>universe_exclude_subgroups</th>\n",
       "      <th>q_hat</th>\n",
       "      <th>coverage</th>\n",
       "      <th>avg_size</th>\n",
       "      <th>cov_frau1</th>\n",
       "      <th>cov_nongerman</th>\n",
       "      <th>cov_nongerman_male</th>\n",
       "      <th>cov_nongerman_female</th>\n",
       "    </tr>\n",
       "  </thead>\n",
       "  <tbody>\n",
       "    <tr>\n",
       "      <th>0</th>\n",
       "      <td>151f605916d800f0bde6768089298b51</td>\n",
       "      <td>2014</td>\n",
       "      <td>5k</td>\n",
       "      <td>scale</td>\n",
       "      <td>logreg</td>\n",
       "      <td>none</td>\n",
       "      <td>drop-non-german</td>\n",
       "      <td>0.692019</td>\n",
       "      <td>0.909988</td>\n",
       "      <td>1.137978</td>\n",
       "      <td>0.90678</td>\n",
       "      <td>0.907596</td>\n",
       "      <td>0.926686</td>\n",
       "      <td>0.876006</td>\n",
       "    </tr>\n",
       "  </tbody>\n",
       "</table>\n",
       "</div>"
      ],
      "text/plain": [
       "                        universe_id universe_training_year  \\\n",
       "0  151f605916d800f0bde6768089298b51                   2014   \n",
       "\n",
       "  universe_training_size universe_scale universe_model  \\\n",
       "0                     5k          scale         logreg   \n",
       "\n",
       "  universe_exclude_features universe_exclude_subgroups     q_hat  coverage  \\\n",
       "0                      none            drop-non-german  0.692019  0.909988   \n",
       "\n",
       "   avg_size  cov_frau1  cov_nongerman  cov_nongerman_male  \\\n",
       "0  1.137978    0.90678       0.907596            0.926686   \n",
       "\n",
       "   cov_nongerman_female  \n",
       "0              0.876006  "
      ]
     },
     "execution_count": 58,
     "metadata": {},
     "output_type": "execute_result"
    }
   ],
   "source": [
    "cp_metrics_df"
   ]
  },
  {
   "cell_type": "markdown",
   "id": "33774451",
   "metadata": {
    "papermill": {
     "duration": 0.025099,
     "end_time": "2025-08-05T15:20:38.914288",
     "exception": false,
     "start_time": "2025-08-05T15:20:38.889189",
     "status": "completed"
    },
    "tags": []
   },
   "source": [
    "# (Fairness) Metrics"
   ]
  },
  {
   "cell_type": "code",
   "execution_count": 59,
   "id": "debc5d62",
   "metadata": {
    "execution": {
     "iopub.execute_input": "2025-08-05T15:20:38.965102Z",
     "iopub.status.busy": "2025-08-05T15:20:38.964709Z",
     "iopub.status.idle": "2025-08-05T15:20:38.984447Z",
     "shell.execute_reply": "2025-08-05T15:20:38.983541Z"
    },
    "papermill": {
     "duration": 0.047395,
     "end_time": "2025-08-05T15:20:38.986261",
     "exception": false,
     "start_time": "2025-08-05T15:20:38.938866",
     "status": "completed"
    },
    "tags": []
   },
   "outputs": [],
   "source": [
    "# do I need to include maxdeutsch1.missing?\n",
    "\n",
    "import numpy as np\n",
    "\n",
    "colname_to_bin = \"maxdeutsch1\"\n",
    "majority_value = org_train[colname_to_bin].mode()[0]\n",
    "\n",
    "org_test[\"majmin\"] = np.where(org_test[colname_to_bin] == majority_value, \"majority\", \"minority\")"
   ]
  },
  {
   "cell_type": "code",
   "execution_count": 60,
   "id": "06a50de5",
   "metadata": {
    "execution": {
     "iopub.execute_input": "2025-08-05T15:20:39.015211Z",
     "iopub.status.busy": "2025-08-05T15:20:39.014795Z",
     "iopub.status.idle": "2025-08-05T15:20:41.843494Z",
     "shell.execute_reply": "2025-08-05T15:20:41.842524Z"
    },
    "papermill": {
     "duration": 2.843886,
     "end_time": "2025-08-05T15:20:41.845309",
     "exception": false,
     "start_time": "2025-08-05T15:20:39.001423",
     "status": "completed"
    },
    "tags": []
   },
   "outputs": [],
   "source": [
    "example_universe = universe.copy()\n",
    "example_universe[\"cutoff\"] = example_universe[\"cutoff\"][0]\n",
    "example_universe[\"eval_fairness_grouping\"] = example_universe[\"eval_fairness_grouping\"][0]\n",
    "fairness_dict, metric_frame = universe_analysis.compute_metrics(\n",
    "    example_universe,\n",
    "    y_pred_prob=probs_test,\n",
    "    y_test=y_true,\n",
    "    org_test=org_test,\n",
    ")"
   ]
  },
  {
   "cell_type": "markdown",
   "id": "f95d4e02",
   "metadata": {
    "papermill": {
     "duration": 0.020923,
     "end_time": "2025-08-05T15:20:41.888400",
     "exception": false,
     "start_time": "2025-08-05T15:20:41.867477",
     "status": "completed"
    },
    "tags": []
   },
   "source": [
    "# Overall"
   ]
  },
  {
   "cell_type": "markdown",
   "id": "bdee4871",
   "metadata": {
    "papermill": {
     "duration": 0.020847,
     "end_time": "2025-08-05T15:20:41.929845",
     "exception": false,
     "start_time": "2025-08-05T15:20:41.908998",
     "status": "completed"
    },
    "tags": []
   },
   "source": [
    "Fairness\n",
    "Main fairness target: Equalized Odds. Seems to be a better fit than equal opportunity, since we're not only interested in Y = 1. Seems to be a better fit than demographic parity, since we also care about accuracy, not just equal distribution of preds.\n",
    "\n",
    "Pick column for computation of fairness metrics\n",
    "\n",
    "Performance\n",
    "Overall performance measures, most interesting in relation to the measures split by group below"
   ]
  },
  {
   "cell_type": "code",
   "execution_count": 61,
   "id": "c4e067c6",
   "metadata": {
    "execution": {
     "iopub.execute_input": "2025-08-05T15:20:41.973291Z",
     "iopub.status.busy": "2025-08-05T15:20:41.972263Z",
     "iopub.status.idle": "2025-08-05T15:20:41.982790Z",
     "shell.execute_reply": "2025-08-05T15:20:41.981739Z"
    },
    "papermill": {
     "duration": 0.034462,
     "end_time": "2025-08-05T15:20:41.984732",
     "exception": false,
     "start_time": "2025-08-05T15:20:41.950270",
     "status": "completed"
    },
    "tags": []
   },
   "outputs": [
    {
     "data": {
      "text/plain": [
       "accuracy                   0.223487\n",
       "balanced accuracy          0.546642\n",
       "f1                         0.244843\n",
       "precision                  0.139870\n",
       "false positive rate        0.888034\n",
       "false negative rate        0.018683\n",
       "selection rate             0.900000\n",
       "count                  89710.000000\n",
       "dtype: float64"
      ]
     },
     "execution_count": 61,
     "metadata": {},
     "output_type": "execute_result"
    }
   ],
   "source": [
    "metric_frame.overall"
   ]
  },
  {
   "cell_type": "markdown",
   "id": "e968fe9d",
   "metadata": {
    "papermill": {
     "duration": 0.026493,
     "end_time": "2025-08-05T15:20:42.038746",
     "exception": false,
     "start_time": "2025-08-05T15:20:42.012253",
     "status": "completed"
    },
    "tags": []
   },
   "source": [
    "By Group"
   ]
  },
  {
   "cell_type": "code",
   "execution_count": 62,
   "id": "ec325bce",
   "metadata": {
    "execution": {
     "iopub.execute_input": "2025-08-05T15:20:42.092110Z",
     "iopub.status.busy": "2025-08-05T15:20:42.091448Z",
     "iopub.status.idle": "2025-08-05T15:20:42.110095Z",
     "shell.execute_reply": "2025-08-05T15:20:42.109147Z"
    },
    "papermill": {
     "duration": 0.047288,
     "end_time": "2025-08-05T15:20:42.111859",
     "exception": false,
     "start_time": "2025-08-05T15:20:42.064571",
     "status": "completed"
    },
    "tags": []
   },
   "outputs": [
    {
     "data": {
      "text/html": [
       "<div>\n",
       "<style scoped>\n",
       "    .dataframe tbody tr th:only-of-type {\n",
       "        vertical-align: middle;\n",
       "    }\n",
       "\n",
       "    .dataframe tbody tr th {\n",
       "        vertical-align: top;\n",
       "    }\n",
       "\n",
       "    .dataframe thead th {\n",
       "        text-align: right;\n",
       "    }\n",
       "</style>\n",
       "<table border=\"1\" class=\"dataframe\">\n",
       "  <thead>\n",
       "    <tr style=\"text-align: right;\">\n",
       "      <th></th>\n",
       "      <th>accuracy</th>\n",
       "      <th>balanced accuracy</th>\n",
       "      <th>f1</th>\n",
       "      <th>precision</th>\n",
       "      <th>false positive rate</th>\n",
       "      <th>false negative rate</th>\n",
       "      <th>selection rate</th>\n",
       "      <th>count</th>\n",
       "    </tr>\n",
       "    <tr>\n",
       "      <th>majmin</th>\n",
       "      <th></th>\n",
       "      <th></th>\n",
       "      <th></th>\n",
       "      <th></th>\n",
       "      <th></th>\n",
       "      <th></th>\n",
       "      <th></th>\n",
       "      <th></th>\n",
       "    </tr>\n",
       "  </thead>\n",
       "  <tbody>\n",
       "    <tr>\n",
       "      <th>majority</th>\n",
       "      <td>0.235290</td>\n",
       "      <td>0.552101</td>\n",
       "      <td>0.253518</td>\n",
       "      <td>0.145531</td>\n",
       "      <td>0.878511</td>\n",
       "      <td>0.017287</td>\n",
       "      <td>0.892280</td>\n",
       "      <td>69170.0</td>\n",
       "    </tr>\n",
       "    <tr>\n",
       "      <th>minority</th>\n",
       "      <td>0.183739</td>\n",
       "      <td>0.528219</td>\n",
       "      <td>0.216102</td>\n",
       "      <td>0.121504</td>\n",
       "      <td>0.919492</td>\n",
       "      <td>0.024071</td>\n",
       "      <td>0.925998</td>\n",
       "      <td>20540.0</td>\n",
       "    </tr>\n",
       "  </tbody>\n",
       "</table>\n",
       "</div>"
      ],
      "text/plain": [
       "          accuracy  balanced accuracy        f1  precision  \\\n",
       "majmin                                                       \n",
       "majority  0.235290           0.552101  0.253518   0.145531   \n",
       "minority  0.183739           0.528219  0.216102   0.121504   \n",
       "\n",
       "          false positive rate  false negative rate  selection rate    count  \n",
       "majmin                                                                       \n",
       "majority             0.878511             0.017287        0.892280  69170.0  \n",
       "minority             0.919492             0.024071        0.925998  20540.0  "
      ]
     },
     "execution_count": 62,
     "metadata": {},
     "output_type": "execute_result"
    }
   ],
   "source": [
    "metric_frame.by_group"
   ]
  },
  {
   "cell_type": "code",
   "execution_count": 63,
   "id": "a9ddbe63",
   "metadata": {
    "execution": {
     "iopub.execute_input": "2025-08-05T15:20:42.167998Z",
     "iopub.status.busy": "2025-08-05T15:20:42.167337Z",
     "iopub.status.idle": "2025-08-05T15:20:44.322674Z",
     "shell.execute_reply": "2025-08-05T15:20:44.321785Z"
    },
    "papermill": {
     "duration": 2.185255,
     "end_time": "2025-08-05T15:20:44.324193",
     "exception": false,
     "start_time": "2025-08-05T15:20:42.138938",
     "status": "completed"
    },
    "tags": []
   },
   "outputs": [
    {
     "data": {
      "text/plain": [
       "array([[<Axes: title={'center': 'accuracy'}, xlabel='majmin'>,\n",
       "        <Axes: title={'center': 'balanced accuracy'}, xlabel='majmin'>,\n",
       "        <Axes: title={'center': 'f1'}, xlabel='majmin'>],\n",
       "       [<Axes: title={'center': 'precision'}, xlabel='majmin'>,\n",
       "        <Axes: title={'center': 'false positive rate'}, xlabel='majmin'>,\n",
       "        <Axes: title={'center': 'false negative rate'}, xlabel='majmin'>],\n",
       "       [<Axes: title={'center': 'selection rate'}, xlabel='majmin'>,\n",
       "        <Axes: title={'center': 'count'}, xlabel='majmin'>,\n",
       "        <Axes: xlabel='majmin'>]], dtype=object)"
      ]
     },
     "execution_count": 63,
     "metadata": {},
     "output_type": "execute_result"
    },
    {
     "data": {
      "image/png": "[encoded data removed]",
      "text/plain": [
       "<Figure size 1200x800 with 9 Axes>"
      ]
     },
     "metadata": {},
     "output_type": "display_data"
    }
   ],
   "source": [
    "# In a graphic\n",
    "metric_frame.by_group.plot.bar(\n",
    "    subplots=True,\n",
    "    layout=[3, 3],\n",
    "    legend=False,\n",
    "    figsize=[12, 8],\n",
    "    title=\"Show all metrics\",\n",
    ")"
   ]
  },
  {
   "cell_type": "markdown",
   "id": "f57a0bac",
   "metadata": {
    "papermill": {
     "duration": 0.023696,
     "end_time": "2025-08-05T15:20:44.372231",
     "exception": false,
     "start_time": "2025-08-05T15:20:44.348535",
     "status": "completed"
    },
    "tags": []
   },
   "source": [
    "# Final Output"
   ]
  },
  {
   "cell_type": "code",
   "execution_count": 64,
   "id": "96d280a3",
   "metadata": {
    "execution": {
     "iopub.execute_input": "2025-08-05T15:20:44.421196Z",
     "iopub.status.busy": "2025-08-05T15:20:44.420588Z",
     "iopub.status.idle": "2025-08-05T15:20:44.428937Z",
     "shell.execute_reply": "2025-08-05T15:20:44.427833Z"
    },
    "papermill": {
     "duration": 0.036201,
     "end_time": "2025-08-05T15:20:44.431125",
     "exception": false,
     "start_time": "2025-08-05T15:20:44.394924",
     "status": "completed"
    },
    "tags": []
   },
   "outputs": [
    {
     "data": {
      "text/plain": [
       "4"
      ]
     },
     "execution_count": 64,
     "metadata": {},
     "output_type": "execute_result"
    }
   ],
   "source": [
    "sub_universes = universe_analysis.generate_sub_universes()\n",
    "len(sub_universes)"
   ]
  },
  {
   "cell_type": "code",
   "execution_count": 65,
   "id": "92adf7ba",
   "metadata": {
    "execution": {
     "iopub.execute_input": "2025-08-05T15:20:44.480578Z",
     "iopub.status.busy": "2025-08-05T15:20:44.480173Z",
     "iopub.status.idle": "2025-08-05T15:20:44.522812Z",
     "shell.execute_reply": "2025-08-05T15:20:44.521874Z"
    },
    "papermill": {
     "duration": 0.059941,
     "end_time": "2025-08-05T15:20:44.524523",
     "exception": false,
     "start_time": "2025-08-05T15:20:44.464582",
     "status": "completed"
    },
    "tags": []
   },
   "outputs": [],
   "source": [
    "def filter_sub_universe_data(sub_universe, org_test):\n",
    "    # Keep all rows — no filtering\n",
    "    keep_rows_mask = np.ones(org_test.shape[0], dtype=bool)\n",
    "\n",
    "    print(f\"[INFO] Keeping all rows: {keep_rows_mask.sum()} rows retained.\")\n",
    "    return keep_rows_mask"
   ]
  },
  {
   "cell_type": "code",
   "execution_count": 66,
   "id": "4a759155",
   "metadata": {
    "execution": {
     "iopub.execute_input": "2025-08-05T15:20:44.553481Z",
     "iopub.status.busy": "2025-08-05T15:20:44.553119Z",
     "iopub.status.idle": "2025-08-05T15:20:50.773300Z",
     "shell.execute_reply": "2025-08-05T15:20:50.772139Z"
    },
    "papermill": {
     "duration": 6.236062,
     "end_time": "2025-08-05T15:20:50.774994",
     "exception": false,
     "start_time": "2025-08-05T15:20:44.538932",
     "status": "completed"
    },
    "tags": []
   },
   "outputs": [
    {
     "name": "stdout",
     "output_type": "stream",
     "text": [
      "Stopping execution_time clock.\n",
      "[INFO] Keeping all rows: 89710 rows retained.\n"
     ]
    },
    {
     "name": "stdout",
     "output_type": "stream",
     "text": [
      "[INFO] Keeping all rows: 89710 rows retained.\n"
     ]
    },
    {
     "name": "stdout",
     "output_type": "stream",
     "text": [
      "[INFO] Keeping all rows: 89710 rows retained.\n"
     ]
    },
    {
     "name": "stdout",
     "output_type": "stream",
     "text": [
      "[INFO] Keeping all rows: 89710 rows retained.\n"
     ]
    },
    {
     "data": {
      "text/html": [
       "<div>\n",
       "<style scoped>\n",
       "    .dataframe tbody tr th:only-of-type {\n",
       "        vertical-align: middle;\n",
       "    }\n",
       "\n",
       "    .dataframe tbody tr th {\n",
       "        vertical-align: top;\n",
       "    }\n",
       "\n",
       "    .dataframe thead th {\n",
       "        text-align: right;\n",
       "    }\n",
       "</style>\n",
       "<table border=\"1\" class=\"dataframe\">\n",
       "  <thead>\n",
       "    <tr style=\"text-align: right;\">\n",
       "      <th></th>\n",
       "      <th>run_no</th>\n",
       "      <th>universe_id</th>\n",
       "      <th>universe_settings</th>\n",
       "      <th>execution_time</th>\n",
       "      <th>test_size_n</th>\n",
       "      <th>test_size_frac</th>\n",
       "      <th>fair_main_equalized_odds_difference</th>\n",
       "      <th>fair_main_equalized_odds_ratio</th>\n",
       "      <th>fair_main_demographic_parity_difference</th>\n",
       "      <th>fair_main_demographic_parity_ratio</th>\n",
       "      <th>...</th>\n",
       "      <th>perf_grp_precision_0</th>\n",
       "      <th>perf_grp_precision_1</th>\n",
       "      <th>perf_grp_false positive rate_0</th>\n",
       "      <th>perf_grp_false positive rate_1</th>\n",
       "      <th>perf_grp_false negative rate_0</th>\n",
       "      <th>perf_grp_false negative rate_1</th>\n",
       "      <th>perf_grp_selection rate_0</th>\n",
       "      <th>perf_grp_selection rate_1</th>\n",
       "      <th>perf_grp_count_0</th>\n",
       "      <th>perf_grp_count_1</th>\n",
       "    </tr>\n",
       "  </thead>\n",
       "  <tbody>\n",
       "    <tr>\n",
       "      <th>0</th>\n",
       "      <td>15</td>\n",
       "      <td>151f605916d800f0bde6768089298b51</td>\n",
       "      <td>{\"cutoff\": \"quantile_0.1\", \"eval_fairness_grou...</td>\n",
       "      <td>22.510431</td>\n",
       "      <td>89710</td>\n",
       "      <td>1.0</td>\n",
       "      <td>0.040981</td>\n",
       "      <td>0.955431</td>\n",
       "      <td>0.033718</td>\n",
       "      <td>0.963587</td>\n",
       "      <td>...</td>\n",
       "      <td>NaN</td>\n",
       "      <td>NaN</td>\n",
       "      <td>NaN</td>\n",
       "      <td>NaN</td>\n",
       "      <td>NaN</td>\n",
       "      <td>NaN</td>\n",
       "      <td>NaN</td>\n",
       "      <td>NaN</td>\n",
       "      <td>NaN</td>\n",
       "      <td>NaN</td>\n",
       "    </tr>\n",
       "    <tr>\n",
       "      <th>0</th>\n",
       "      <td>15</td>\n",
       "      <td>151f605916d800f0bde6768089298b51</td>\n",
       "      <td>{\"cutoff\": \"quantile_0.1\", \"eval_fairness_grou...</td>\n",
       "      <td>22.510431</td>\n",
       "      <td>89710</td>\n",
       "      <td>1.0</td>\n",
       "      <td>0.040981</td>\n",
       "      <td>0.955431</td>\n",
       "      <td>0.033718</td>\n",
       "      <td>0.963587</td>\n",
       "      <td>...</td>\n",
       "      <td>0.121504</td>\n",
       "      <td>0.145531</td>\n",
       "      <td>0.919492</td>\n",
       "      <td>0.878511</td>\n",
       "      <td>0.024071</td>\n",
       "      <td>0.017287</td>\n",
       "      <td>0.925998</td>\n",
       "      <td>0.892280</td>\n",
       "      <td>20540.0</td>\n",
       "      <td>69170.0</td>\n",
       "    </tr>\n",
       "    <tr>\n",
       "      <th>0</th>\n",
       "      <td>15</td>\n",
       "      <td>151f605916d800f0bde6768089298b51</td>\n",
       "      <td>{\"cutoff\": \"quantile_0.25\", \"eval_fairness_gro...</td>\n",
       "      <td>22.510431</td>\n",
       "      <td>89710</td>\n",
       "      <td>1.0</td>\n",
       "      <td>0.106101</td>\n",
       "      <td>0.868212</td>\n",
       "      <td>0.087965</td>\n",
       "      <td>0.892440</td>\n",
       "      <td>...</td>\n",
       "      <td>NaN</td>\n",
       "      <td>NaN</td>\n",
       "      <td>NaN</td>\n",
       "      <td>NaN</td>\n",
       "      <td>NaN</td>\n",
       "      <td>NaN</td>\n",
       "      <td>NaN</td>\n",
       "      <td>NaN</td>\n",
       "      <td>NaN</td>\n",
       "      <td>NaN</td>\n",
       "    </tr>\n",
       "    <tr>\n",
       "      <th>0</th>\n",
       "      <td>15</td>\n",
       "      <td>151f605916d800f0bde6768089298b51</td>\n",
       "      <td>{\"cutoff\": \"quantile_0.25\", \"eval_fairness_gro...</td>\n",
       "      <td>22.510431</td>\n",
       "      <td>89710</td>\n",
       "      <td>1.0</td>\n",
       "      <td>0.106101</td>\n",
       "      <td>0.868212</td>\n",
       "      <td>0.087965</td>\n",
       "      <td>0.892440</td>\n",
       "      <td>...</td>\n",
       "      <td>0.129063</td>\n",
       "      <td>0.168846</td>\n",
       "      <td>0.805085</td>\n",
       "      <td>0.698984</td>\n",
       "      <td>0.084459</td>\n",
       "      <td>0.067396</td>\n",
       "      <td>0.817819</td>\n",
       "      <td>0.729854</td>\n",
       "      <td>20540.0</td>\n",
       "      <td>69170.0</td>\n",
       "    </tr>\n",
       "  </tbody>\n",
       "</table>\n",
       "<p>4 rows × 50 columns</p>\n",
       "</div>"
      ],
      "text/plain": [
       "  run_no                       universe_id  \\\n",
       "0     15  151f605916d800f0bde6768089298b51   \n",
       "0     15  151f605916d800f0bde6768089298b51   \n",
       "0     15  151f605916d800f0bde6768089298b51   \n",
       "0     15  151f605916d800f0bde6768089298b51   \n",
       "\n",
       "                                   universe_settings  execution_time  \\\n",
       "0  {\"cutoff\": \"quantile_0.1\", \"eval_fairness_grou...       22.510431   \n",
       "0  {\"cutoff\": \"quantile_0.1\", \"eval_fairness_grou...       22.510431   \n",
       "0  {\"cutoff\": \"quantile_0.25\", \"eval_fairness_gro...       22.510431   \n",
       "0  {\"cutoff\": \"quantile_0.25\", \"eval_fairness_gro...       22.510431   \n",
       "\n",
       "   test_size_n  test_size_frac  fair_main_equalized_odds_difference  \\\n",
       "0        89710             1.0                             0.040981   \n",
       "0        89710             1.0                             0.040981   \n",
       "0        89710             1.0                             0.106101   \n",
       "0        89710             1.0                             0.106101   \n",
       "\n",
       "   fair_main_equalized_odds_ratio  fair_main_demographic_parity_difference  \\\n",
       "0                        0.955431                                 0.033718   \n",
       "0                        0.955431                                 0.033718   \n",
       "0                        0.868212                                 0.087965   \n",
       "0                        0.868212                                 0.087965   \n",
       "\n",
       "   fair_main_demographic_parity_ratio  ...  perf_grp_precision_0  \\\n",
       "0                            0.963587  ...                   NaN   \n",
       "0                            0.963587  ...              0.121504   \n",
       "0                            0.892440  ...                   NaN   \n",
       "0                            0.892440  ...              0.129063   \n",
       "\n",
       "   perf_grp_precision_1  perf_grp_false positive rate_0  \\\n",
       "0                   NaN                             NaN   \n",
       "0              0.145531                        0.919492   \n",
       "0                   NaN                             NaN   \n",
       "0              0.168846                        0.805085   \n",
       "\n",
       "   perf_grp_false positive rate_1  perf_grp_false negative rate_0  \\\n",
       "0                             NaN                             NaN   \n",
       "0                        0.878511                        0.024071   \n",
       "0                             NaN                             NaN   \n",
       "0                        0.698984                        0.084459   \n",
       "\n",
       "   perf_grp_false negative rate_1  perf_grp_selection rate_0  \\\n",
       "0                             NaN                        NaN   \n",
       "0                        0.017287                   0.925998   \n",
       "0                             NaN                        NaN   \n",
       "0                        0.067396                   0.817819   \n",
       "\n",
       "   perf_grp_selection rate_1  perf_grp_count_0  perf_grp_count_1  \n",
       "0                        NaN               NaN               NaN  \n",
       "0                   0.892280           20540.0           69170.0  \n",
       "0                        NaN               NaN               NaN  \n",
       "0                   0.729854           20540.0           69170.0  \n",
       "\n",
       "[4 rows x 50 columns]"
      ]
     },
     "execution_count": 66,
     "metadata": {},
     "output_type": "execute_result"
    }
   ],
   "source": [
    "final_output = universe_analysis.generate_final_output(\n",
    "    y_pred_prob=probs_test,\n",
    "    y_test=y_true,\n",
    "    org_test=org_test,\n",
    "    filter_data=filter_sub_universe_data,\n",
    "    cp_metrics_df=cp_metrics_df,\n",
    "    save=True,\n",
    ")\n",
    "final_output"
   ]
  }
 ],
 "metadata": {
  "celltoolbar": "Tags",
  "kernelspec": {
   "display_name": "Python (CMA Fairness)",
   "language": "python",
   "name": "cma_fair_env"
  },
  "language_info": {
   "codemirror_mode": {
    "name": "ipython",
    "version": 3
   },
   "file_extension": ".py",
   "mimetype": "text/x-python",
   "name": "python",
   "nbconvert_exporter": "python",
   "pygments_lexer": "ipython3",
   "version": "3.10.12"
  },
  "papermill": {
   "default_parameters": {},
   "duration": 32.348103,
   "end_time": "2025-08-05T15:20:51.521603",
   "environment_variables": {},
   "exception": null,
   "input_path": "universe_analysis.ipynb",
   "output_path": "output/runs/15/notebooks/m_15-151f605916d800f0bde6768089298b51.ipynb",
   "parameters": {
    "output_dir": "output",
    "run_no": "15",
    "seed": "2023",
    "universe": "{\"cutoff\": [\"quantile_0.1\", \"quantile_0.25\"], \"eval_fairness_grouping\": [\"majority-minority\", \"nationality-all\"], \"exclude_features\": \"none\", \"exclude_subgroups\": \"drop-non-german\", \"model\": \"logreg\", \"scale\": \"scale\", \"training_size\": \"5k\", \"training_year\": \"2014\"}",
    "universe_id": "151f605916d800f0bde6768089298b51"
   },
   "start_time": "2025-08-05T15:20:19.173500",
   "version": "2.6.0"
  }
 },
 "nbformat": 4,
 "nbformat_minor": 5
}