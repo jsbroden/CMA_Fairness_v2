{
 "cells": [
  {
   "cell_type": "code",
   "execution_count": 1,
   "id": "f159f837-637b-42ba-96b5-ec9a68c44524",
   "metadata": {
    "execution": {
     "iopub.execute_input": "2025-08-05T16:17:00.428038Z",
     "iopub.status.busy": "2025-08-05T16:17:00.427575Z",
     "iopub.status.idle": "2025-08-05T16:17:00.443151Z",
     "shell.execute_reply": "2025-08-05T16:17:00.441934Z"
    },
    "papermill": {
     "duration": 0.042412,
     "end_time": "2025-08-05T16:17:00.445157",
     "exception": false,
     "start_time": "2025-08-05T16:17:00.402745",
     "status": "completed"
    },
    "tags": []
   },
   "outputs": [
    {
     "name": "stdout",
     "output_type": "stream",
     "text": [
      "/dss/dsshome1/0C/ra93lal2/cma/CMA_Fairness_v2\n"
     ]
    },
    {
     "name": "stderr",
     "output_type": "stream",
     "text": [
      "/dss/dsshome1/0C/ra93lal2/.local/share/virtualenvs/CMA_Fairness_v2-3j10GkSs/lib/python3.10/site-packages/IPython/core/magics/osm.py:393: UserWarning: This is now an optional IPython functionality, using bookmarks requires you to install the `pickleshare` library.\n",
      "  bkms = self.shell.db.get('bookmarks', {})\n",
      "/dss/dsshome1/0C/ra93lal2/.local/share/virtualenvs/CMA_Fairness_v2-3j10GkSs/lib/python3.10/site-packages/IPython/core/magics/osm.py:417: UserWarning: This is now an optional IPython functionality, setting dhist requires you to install the `pickleshare` library.\n",
      "  self.shell.db['dhist'] = compress_dhist(dhist)[-100:]\n"
     ]
    }
   ],
   "source": [
    "%cd ~/cma/CMA_Fairness_v2"
   ]
  },
  {
   "cell_type": "markdown",
   "id": "de2603b9",
   "metadata": {
    "papermill": {
     "duration": 0.027521,
     "end_time": "2025-08-05T16:17:00.496328",
     "exception": false,
     "start_time": "2025-08-05T16:17:00.468807",
     "status": "completed"
    },
    "tags": []
   },
   "source": [
    "The following cell holds the definition of our parameters, these values can be overriden by rendering the with e.g. the following command:\n",
    "\n",
    "papermill -p alpha 0.2 -p ratio 0.3 universe_analysis.ipynb output/test_run.ipynb"
   ]
  },
  {
   "cell_type": "code",
   "execution_count": 2,
   "id": "a80968a0-40bb-4fa9-85ef-2d5eefb01975",
   "metadata": {
    "execution": {
     "iopub.execute_input": "2025-08-05T16:17:00.554350Z",
     "iopub.status.busy": "2025-08-05T16:17:00.553494Z",
     "iopub.status.idle": "2025-08-05T16:17:00.560842Z",
     "shell.execute_reply": "2025-08-05T16:17:00.559521Z"
    },
    "papermill": {
     "duration": 0.039292,
     "end_time": "2025-08-05T16:17:00.563297",
     "exception": false,
     "start_time": "2025-08-05T16:17:00.524005",
     "status": "completed"
    },
    "tags": []
   },
   "outputs": [
    {
     "name": "stdout",
     "output_type": "stream",
     "text": [
      "Current working directory: /dss/dsshome1/0C/ra93lal2/cma/CMA_Fairness_v2\n"
     ]
    }
   ],
   "source": [
    "import os\n",
    "print(\"Current working directory:\", os.getcwd())"
   ]
  },
  {
   "cell_type": "code",
   "execution_count": 3,
   "id": "2dce4c03",
   "metadata": {
    "execution": {
     "iopub.execute_input": "2025-08-05T16:17:00.622965Z",
     "iopub.status.busy": "2025-08-05T16:17:00.621766Z",
     "iopub.status.idle": "2025-08-05T16:17:00.630865Z",
     "shell.execute_reply": "2025-08-05T16:17:00.629421Z"
    },
    "papermill": {
     "duration": 0.040925,
     "end_time": "2025-08-05T16:17:00.633080",
     "exception": false,
     "start_time": "2025-08-05T16:17:00.592155",
     "status": "completed"
    },
    "tags": [
     "parameters"
    ]
   },
   "outputs": [],
   "source": [
    "run_no = 0\n",
    "universe_id = \"test\"\n",
    "universe = {\n",
    "    \"training_size\": \"25k\", # \"25k\", \"5k\", \"1k\"\n",
    "    \"training_year\": \"2014\", # \"2014\", \"2012_14\", \"2010_14\"\n",
    "    \"scale\": \"scale\", # \"scale\", \"do-not-scale\",\n",
    "    \"model\": \"elasticnet\", # \"logreg\", \"penalized_logreg\", \"rf\", \"gbm\", \"elasticnet\"\n",
    "    \"cutoff\": [\"quantile_0.15\", \"quantile_0.30\"],\n",
    "    \"exclude_features\": \"age\", # \"none\", \"nationality\", \"sex\", \"nationality-sex\", \"age\"\n",
    "    \"exclude_subgroups\": \"keep-all\", # \"keep-all\", \"drop-non-german\"\n",
    "    \"eval_fairness_grouping\": [\"majority-minority\", \"nationality-all\"]\n",
    "}\n",
    "\n",
    "output_dir=\"./output\"\n",
    "seed=0"
   ]
  },
  {
   "cell_type": "code",
   "execution_count": 4,
   "id": "8cc0922e",
   "metadata": {
    "execution": {
     "iopub.execute_input": "2025-08-05T16:17:00.678710Z",
     "iopub.status.busy": "2025-08-05T16:17:00.677912Z",
     "iopub.status.idle": "2025-08-05T16:17:00.685705Z",
     "shell.execute_reply": "2025-08-05T16:17:00.684461Z"
    },
    "papermill": {
     "duration": 0.033072,
     "end_time": "2025-08-05T16:17:00.687683",
     "exception": false,
     "start_time": "2025-08-05T16:17:00.654611",
     "status": "completed"
    },
    "tags": [
     "injected-parameters"
    ]
   },
   "outputs": [],
   "source": [
    "# Parameters\n",
    "universe_id = \"683765583719c3b652cda582b2308691\"\n",
    "run_no = \"15\"\n",
    "universe = \"{\\\"cutoff\\\": [\\\"quantile_0.1\\\", \\\"quantile_0.25\\\"], \\\"eval_fairness_grouping\\\": [\\\"majority-minority\\\", \\\"nationality-all\\\"], \\\"exclude_features\\\": \\\"nationality\\\", \\\"exclude_subgroups\\\": \\\"keep-all\\\", \\\"model\\\": \\\"penalized_logreg\\\", \\\"scale\\\": \\\"scale\\\", \\\"training_size\\\": \\\"1k\\\", \\\"training_year\\\": \\\"2012_14\\\"}\"\n",
    "output_dir = \"output\"\n",
    "seed = \"2023\"\n"
   ]
  },
  {
   "cell_type": "code",
   "execution_count": 5,
   "id": "1650acaf",
   "metadata": {
    "execution": {
     "iopub.execute_input": "2025-08-05T16:17:00.731964Z",
     "iopub.status.busy": "2025-08-05T16:17:00.731179Z",
     "iopub.status.idle": "2025-08-05T16:17:00.739108Z",
     "shell.execute_reply": "2025-08-05T16:17:00.737642Z"
    },
    "papermill": {
     "duration": 0.033303,
     "end_time": "2025-08-05T16:17:00.741506",
     "exception": false,
     "start_time": "2025-08-05T16:17:00.708203",
     "status": "completed"
    },
    "tags": []
   },
   "outputs": [],
   "source": [
    "import json\n",
    "if isinstance(universe, str):\n",
    "    universe = json.loads(universe)"
   ]
  },
  {
   "cell_type": "code",
   "execution_count": 6,
   "id": "16620c48",
   "metadata": {
    "execution": {
     "iopub.execute_input": "2025-08-05T16:17:00.785840Z",
     "iopub.status.busy": "2025-08-05T16:17:00.785062Z",
     "iopub.status.idle": "2025-08-05T16:17:00.847837Z",
     "shell.execute_reply": "2025-08-05T16:17:00.846580Z"
    },
    "papermill": {
     "duration": 0.087349,
     "end_time": "2025-08-05T16:17:00.850283",
     "exception": false,
     "start_time": "2025-08-05T16:17:00.762934",
     "status": "completed"
    },
    "tags": []
   },
   "outputs": [],
   "source": [
    "# Auto-reload the custom package\n",
    "%load_ext autoreload\n",
    "%autoreload 1\n",
    "%aimport fairness_multiverse"
   ]
  },
  {
   "cell_type": "code",
   "execution_count": 7,
   "id": "01c5c9f3",
   "metadata": {
    "execution": {
     "iopub.execute_input": "2025-08-05T16:17:00.896826Z",
     "iopub.status.busy": "2025-08-05T16:17:00.895701Z",
     "iopub.status.idle": "2025-08-05T16:17:03.144246Z",
     "shell.execute_reply": "2025-08-05T16:17:03.143015Z"
    },
    "papermill": {
     "duration": 2.274355,
     "end_time": "2025-08-05T16:17:03.146542",
     "exception": false,
     "start_time": "2025-08-05T16:17:00.872187",
     "status": "completed"
    },
    "tags": []
   },
   "outputs": [],
   "source": [
    "from fairness_multiverse.universe import UniverseAnalysis\n",
    "\n",
    "universe_analysis = UniverseAnalysis(\n",
    "    run_no = run_no,\n",
    "    universe_id = universe_id,\n",
    "    universe = universe,\n",
    "    output_dir=output_dir,\n",
    ")"
   ]
  },
  {
   "cell_type": "code",
   "execution_count": 8,
   "id": "106241f5",
   "metadata": {
    "execution": {
     "iopub.execute_input": "2025-08-05T16:17:03.192542Z",
     "iopub.status.busy": "2025-08-05T16:17:03.191476Z",
     "iopub.status.idle": "2025-08-05T16:17:03.198965Z",
     "shell.execute_reply": "2025-08-05T16:17:03.197940Z"
    },
    "papermill": {
     "duration": 0.032302,
     "end_time": "2025-08-05T16:17:03.200874",
     "exception": false,
     "start_time": "2025-08-05T16:17:03.168572",
     "status": "completed"
    },
    "tags": []
   },
   "outputs": [
    {
     "name": "stdout",
     "output_type": "stream",
     "text": [
      "Using Seed: 2023\n"
     ]
    }
   ],
   "source": [
    "import numpy as np\n",
    "parsed_seed = int(seed)\n",
    "np.random.seed(parsed_seed)\n",
    "print(f\"Using Seed: {parsed_seed}\")"
   ]
  },
  {
   "cell_type": "markdown",
   "id": "e0ebdc57",
   "metadata": {
    "papermill": {
     "duration": 0.021516,
     "end_time": "2025-08-05T16:17:03.243015",
     "exception": false,
     "start_time": "2025-08-05T16:17:03.221499",
     "status": "completed"
    },
    "tags": []
   },
   "source": [
    "# Loading Data"
   ]
  },
  {
   "cell_type": "code",
   "execution_count": 9,
   "id": "f0496b8a",
   "metadata": {
    "execution": {
     "iopub.execute_input": "2025-08-05T16:17:03.269357Z",
     "iopub.status.busy": "2025-08-05T16:17:03.268884Z",
     "iopub.status.idle": "2025-08-05T16:17:17.433676Z",
     "shell.execute_reply": "2025-08-05T16:17:17.432147Z"
    },
    "papermill": {
     "duration": 14.181782,
     "end_time": "2025-08-05T16:17:17.435902",
     "exception": false,
     "start_time": "2025-08-05T16:17:03.254120",
     "status": "completed"
    },
    "tags": []
   },
   "outputs": [
    {
     "name": "stdout",
     "output_type": "stream",
     "text": [
      "Loading SIAB data from cache: data/siab_cached.csv.gz\n"
     ]
    },
    {
     "name": "stdout",
     "output_type": "stream",
     "text": [
      "(643690, 164)\n"
     ]
    }
   ],
   "source": [
    "from pathlib import Path\n",
    "import pandas as pd\n",
    "\n",
    "# File paths\n",
    "raw_file = Path(\"data/raw/siab.csv\")\n",
    "cache_file = Path(\"data/siab_cached.csv.gz\")\n",
    "\n",
    "# Ensure cache directory exists\n",
    "cache_file.parent.mkdir(parents=True, exist_ok=True)\n",
    "\n",
    "# Load with simple caching\n",
    "if cache_file.exists():\n",
    "    print(f\"Loading SIAB data from cache: {cache_file}\")\n",
    "    siab = pd.read_csv(cache_file, compression='gzip')\n",
    "else:\n",
    "    print(f\"Cache not found. Reading raw SIAB data: {raw_file}\")\n",
    "    siab = pd.read_csv(raw_file)\n",
    "    siab.to_csv(cache_file, index=False, compression='gzip')\n",
    "    print(f\"Cached SIAB data to: {cache_file}\")\n",
    "\n",
    "print(siab.shape)"
   ]
  },
  {
   "cell_type": "code",
   "execution_count": 10,
   "id": "db0ca512-5f53-4dba-abdb-a2888bca41ba",
   "metadata": {
    "execution": {
     "iopub.execute_input": "2025-08-05T16:17:17.474622Z",
     "iopub.status.busy": "2025-08-05T16:17:17.474156Z",
     "iopub.status.idle": "2025-08-05T16:17:17.480063Z",
     "shell.execute_reply": "2025-08-05T16:17:17.479149Z"
    },
    "papermill": {
     "duration": 0.020708,
     "end_time": "2025-08-05T16:17:17.481596",
     "exception": false,
     "start_time": "2025-08-05T16:17:17.460888",
     "status": "completed"
    },
    "tags": []
   },
   "outputs": [],
   "source": [
    "#siab"
   ]
  },
  {
   "cell_type": "markdown",
   "id": "997051c5-15bd-4b69-9786-c3001a3ce484",
   "metadata": {
    "papermill": {
     "duration": 0.011251,
     "end_time": "2025-08-05T16:17:17.503846",
     "exception": false,
     "start_time": "2025-08-05T16:17:17.492595",
     "status": "completed"
    },
    "tags": []
   },
   "source": [
    "# Splitting Data and Setting Training Data Size"
   ]
  },
  {
   "cell_type": "code",
   "execution_count": 11,
   "id": "aea9c6ef-6f46-42c8-85eb-5a62025c1508",
   "metadata": {
    "execution": {
     "iopub.execute_input": "2025-08-05T16:17:17.527794Z",
     "iopub.status.busy": "2025-08-05T16:17:17.527354Z",
     "iopub.status.idle": "2025-08-05T16:17:18.129755Z",
     "shell.execute_reply": "2025-08-05T16:17:18.128797Z"
    },
    "papermill": {
     "duration": 0.61629,
     "end_time": "2025-08-05T16:17:18.131558",
     "exception": false,
     "start_time": "2025-08-05T16:17:17.515268",
     "status": "completed"
    },
    "tags": []
   },
   "outputs": [],
   "source": [
    "from fairness_multiverse.universe import sample_by_year_size\n",
    "\n",
    "siab_train = sample_by_year_size(siab,\n",
    "                               training_year=universe[\"training_year\"],\n",
    "                               training_size=universe[\"training_size\"])"
   ]
  },
  {
   "cell_type": "code",
   "execution_count": 12,
   "id": "8d3afb32-789d-442c-8d5d-9f5aa8dd2eed",
   "metadata": {
    "execution": {
     "iopub.execute_input": "2025-08-05T16:17:18.155571Z",
     "iopub.status.busy": "2025-08-05T16:17:18.154946Z",
     "iopub.status.idle": "2025-08-05T16:17:18.159838Z",
     "shell.execute_reply": "2025-08-05T16:17:18.158890Z"
    },
    "papermill": {
     "duration": 0.018065,
     "end_time": "2025-08-05T16:17:18.161423",
     "exception": false,
     "start_time": "2025-08-05T16:17:18.143358",
     "status": "completed"
    },
    "tags": []
   },
   "outputs": [],
   "source": [
    "#siab_train.shape"
   ]
  },
  {
   "cell_type": "code",
   "execution_count": 13,
   "id": "d582db68-1a4c-47fb-84fc-08518dc1975a",
   "metadata": {
    "execution": {
     "iopub.execute_input": "2025-08-05T16:17:18.185848Z",
     "iopub.status.busy": "2025-08-05T16:17:18.185168Z",
     "iopub.status.idle": "2025-08-05T16:17:18.190094Z",
     "shell.execute_reply": "2025-08-05T16:17:18.189110Z"
    },
    "papermill": {
     "duration": 0.018337,
     "end_time": "2025-08-05T16:17:18.191605",
     "exception": false,
     "start_time": "2025-08-05T16:17:18.173268",
     "status": "completed"
    },
    "tags": []
   },
   "outputs": [],
   "source": [
    "#display(siab_train.groupby(\"year\").size())"
   ]
  },
  {
   "cell_type": "code",
   "execution_count": 14,
   "id": "a561edb4-d032-42cb-8256-22eac1111c64",
   "metadata": {
    "execution": {
     "iopub.execute_input": "2025-08-05T16:17:18.214924Z",
     "iopub.status.busy": "2025-08-05T16:17:18.214658Z",
     "iopub.status.idle": "2025-08-05T16:17:18.450520Z",
     "shell.execute_reply": "2025-08-05T16:17:18.449342Z"
    },
    "papermill": {
     "duration": 0.249351,
     "end_time": "2025-08-05T16:17:18.452342",
     "exception": false,
     "start_time": "2025-08-05T16:17:18.202991",
     "status": "completed"
    },
    "tags": []
   },
   "outputs": [],
   "source": [
    "#siab_train = siab_s[siab_s.year < 2015]\n",
    "siab_calib = siab[siab.year == 2015]\n",
    "siab_test = siab[siab.year == 2016]"
   ]
  },
  {
   "cell_type": "code",
   "execution_count": 15,
   "id": "472de16f-c3db-4916-846b-1f0de9cf1746",
   "metadata": {
    "execution": {
     "iopub.execute_input": "2025-08-05T16:17:18.498496Z",
     "iopub.status.busy": "2025-08-05T16:17:18.498016Z",
     "iopub.status.idle": "2025-08-05T16:17:18.506200Z",
     "shell.execute_reply": "2025-08-05T16:17:18.505100Z"
    },
    "papermill": {
     "duration": 0.0332,
     "end_time": "2025-08-05T16:17:18.508088",
     "exception": false,
     "start_time": "2025-08-05T16:17:18.474888",
     "status": "completed"
    },
    "tags": []
   },
   "outputs": [],
   "source": [
    "X_train = siab_train.iloc[:,4:164]\n",
    "y_train = siab_train.iloc[:, [3]]"
   ]
  },
  {
   "cell_type": "code",
   "execution_count": 16,
   "id": "828c96af-f43a-4ed6-ba47-8ac73a47d56c",
   "metadata": {
    "execution": {
     "iopub.execute_input": "2025-08-05T16:17:18.558899Z",
     "iopub.status.busy": "2025-08-05T16:17:18.558090Z",
     "iopub.status.idle": "2025-08-05T16:17:18.618373Z",
     "shell.execute_reply": "2025-08-05T16:17:18.617111Z"
    },
    "papermill": {
     "duration": 0.086,
     "end_time": "2025-08-05T16:17:18.620034",
     "exception": false,
     "start_time": "2025-08-05T16:17:18.534034",
     "status": "completed"
    },
    "tags": []
   },
   "outputs": [],
   "source": [
    "X_calib = siab_calib.iloc[:,4:164]\n",
    "y_calib = siab_calib.iloc[:, [3]]"
   ]
  },
  {
   "cell_type": "code",
   "execution_count": 17,
   "id": "c34be9c3-6bd6-476e-acd3-845840e303be",
   "metadata": {
    "execution": {
     "iopub.execute_input": "2025-08-05T16:17:18.668284Z",
     "iopub.status.busy": "2025-08-05T16:17:18.667462Z",
     "iopub.status.idle": "2025-08-05T16:17:18.728916Z",
     "shell.execute_reply": "2025-08-05T16:17:18.727788Z"
    },
    "papermill": {
     "duration": 0.088649,
     "end_time": "2025-08-05T16:17:18.731470",
     "exception": false,
     "start_time": "2025-08-05T16:17:18.642821",
     "status": "completed"
    },
    "tags": []
   },
   "outputs": [],
   "source": [
    "X_test = siab_test.iloc[:,4:164]\n",
    "y_true = siab_test.iloc[:, [3]]"
   ]
  },
  {
   "cell_type": "code",
   "execution_count": 18,
   "id": "e6c733c5",
   "metadata": {
    "execution": {
     "iopub.execute_input": "2025-08-05T16:17:18.775261Z",
     "iopub.status.busy": "2025-08-05T16:17:18.774405Z",
     "iopub.status.idle": "2025-08-05T16:17:18.882634Z",
     "shell.execute_reply": "2025-08-05T16:17:18.881572Z"
    },
    "papermill": {
     "duration": 0.13205,
     "end_time": "2025-08-05T16:17:18.884877",
     "exception": false,
     "start_time": "2025-08-05T16:17:18.752827",
     "status": "completed"
    },
    "tags": []
   },
   "outputs": [],
   "source": [
    "# Auxiliary data needed downstream in the pipeline\n",
    "\n",
    "org_train = X_train.copy()\n",
    "org_test = X_test.copy()\n",
    "org_calib = X_calib.copy()"
   ]
  },
  {
   "cell_type": "markdown",
   "id": "0a4a1b33",
   "metadata": {
    "papermill": {
     "duration": 0.020246,
     "end_time": "2025-08-05T16:17:18.931760",
     "exception": false,
     "start_time": "2025-08-05T16:17:18.911514",
     "status": "completed"
    },
    "tags": []
   },
   "source": [
    "# Preprocessing Data"
   ]
  },
  {
   "cell_type": "code",
   "execution_count": 19,
   "id": "ca879031",
   "metadata": {
    "execution": {
     "iopub.execute_input": "2025-08-05T16:17:18.975322Z",
     "iopub.status.busy": "2025-08-05T16:17:18.974880Z",
     "iopub.status.idle": "2025-08-05T16:17:18.982280Z",
     "shell.execute_reply": "2025-08-05T16:17:18.981075Z"
    },
    "papermill": {
     "duration": 0.032307,
     "end_time": "2025-08-05T16:17:18.984254",
     "exception": false,
     "start_time": "2025-08-05T16:17:18.951947",
     "status": "completed"
    },
    "tags": []
   },
   "outputs": [],
   "source": [
    "# EXCLUDE PROTECTED FEATURES\n",
    "# ----------------------\n",
    "# \"exclude_features\": \"none\", # \"nationality\", \"sex\", \"nationality-sex\"\n",
    "\n",
    "excluded_features = universe[\"exclude_features\"].split(\"-\") # split, e.g.: \"nationality-sex\" -> [\"nationality\", \"sex\"]\n",
    "excluded_features_dictionary = {\n",
    "    \"nationality\": [\"maxdeutsch1\", \"maxdeutsch.Missing.\"],\n",
    "    \"sex\": [\"frau1\"],\n",
    "    \"age\": [\"age\"],\n",
    "}"
   ]
  },
  {
   "cell_type": "code",
   "execution_count": 20,
   "id": "b745ac60",
   "metadata": {
    "execution": {
     "iopub.execute_input": "2025-08-05T16:17:19.033309Z",
     "iopub.status.busy": "2025-08-05T16:17:19.032680Z",
     "iopub.status.idle": "2025-08-05T16:17:19.039834Z",
     "shell.execute_reply": "2025-08-05T16:17:19.038735Z"
    },
    "papermill": {
     "duration": 0.034071,
     "end_time": "2025-08-05T16:17:19.042095",
     "exception": false,
     "start_time": "2025-08-05T16:17:19.008024",
     "status": "completed"
    },
    "tags": []
   },
   "outputs": [],
   "source": [
    "# Code nice names to column names\n",
    "\n",
    "excluded_features_columns = [\n",
    "    excluded_features_dictionary[f] for f in excluded_features if len(f) > 0 and f != \"none\"\n",
    "]"
   ]
  },
  {
   "cell_type": "code",
   "execution_count": 21,
   "id": "f84f73a2",
   "metadata": {
    "execution": {
     "iopub.execute_input": "2025-08-05T16:17:19.089491Z",
     "iopub.status.busy": "2025-08-05T16:17:19.088702Z",
     "iopub.status.idle": "2025-08-05T16:17:19.114569Z",
     "shell.execute_reply": "2025-08-05T16:17:19.113589Z"
    },
    "papermill": {
     "duration": 0.050366,
     "end_time": "2025-08-05T16:17:19.115991",
     "exception": false,
     "start_time": "2025-08-05T16:17:19.065625",
     "status": "completed"
    },
    "tags": []
   },
   "outputs": [],
   "source": [
    "from utils import flatten_once\n",
    "\n",
    "excluded_features_columns = flatten_once(excluded_features_columns)"
   ]
  },
  {
   "cell_type": "code",
   "execution_count": 22,
   "id": "884dea22",
   "metadata": {
    "execution": {
     "iopub.execute_input": "2025-08-05T16:17:19.140555Z",
     "iopub.status.busy": "2025-08-05T16:17:19.140182Z",
     "iopub.status.idle": "2025-08-05T16:17:19.147268Z",
     "shell.execute_reply": "2025-08-05T16:17:19.146068Z"
    },
    "papermill": {
     "duration": 0.020911,
     "end_time": "2025-08-05T16:17:19.149025",
     "exception": false,
     "start_time": "2025-08-05T16:17:19.128114",
     "status": "completed"
    },
    "tags": []
   },
   "outputs": [
    {
     "name": "stdout",
     "output_type": "stream",
     "text": [
      "Dropping features: ['maxdeutsch1', 'maxdeutsch.Missing.']\n"
     ]
    }
   ],
   "source": [
    "if len(excluded_features_columns) > 0:\n",
    "    print(f\"Dropping features: {excluded_features_columns}\")\n",
    "    X_train.drop(excluded_features_columns, axis=1, inplace=True)"
   ]
  },
  {
   "cell_type": "code",
   "execution_count": 23,
   "id": "95ab8b16",
   "metadata": {
    "execution": {
     "iopub.execute_input": "2025-08-05T16:17:19.173057Z",
     "iopub.status.busy": "2025-08-05T16:17:19.172257Z",
     "iopub.status.idle": "2025-08-05T16:17:19.227453Z",
     "shell.execute_reply": "2025-08-05T16:17:19.226394Z"
    },
    "papermill": {
     "duration": 0.068847,
     "end_time": "2025-08-05T16:17:19.229234",
     "exception": false,
     "start_time": "2025-08-05T16:17:19.160387",
     "status": "completed"
    },
    "tags": []
   },
   "outputs": [
    {
     "name": "stdout",
     "output_type": "stream",
     "text": [
      "Dropping features: ['maxdeutsch1', 'maxdeutsch.Missing.']\n"
     ]
    }
   ],
   "source": [
    "if len(excluded_features_columns) > 0:\n",
    "    print(f\"Dropping features: {excluded_features_columns}\")\n",
    "    X_test.drop(excluded_features_columns, axis=1, inplace=True)"
   ]
  },
  {
   "cell_type": "code",
   "execution_count": 24,
   "id": "1853aaf5-fb9f-46cb-a2b5-8ea4ae2237e4",
   "metadata": {
    "execution": {
     "iopub.execute_input": "2025-08-05T16:17:19.263680Z",
     "iopub.status.busy": "2025-08-05T16:17:19.263094Z",
     "iopub.status.idle": "2025-08-05T16:17:19.322471Z",
     "shell.execute_reply": "2025-08-05T16:17:19.320776Z"
    },
    "papermill": {
     "duration": 0.083858,
     "end_time": "2025-08-05T16:17:19.326136",
     "exception": false,
     "start_time": "2025-08-05T16:17:19.242278",
     "status": "completed"
    },
    "tags": []
   },
   "outputs": [
    {
     "name": "stdout",
     "output_type": "stream",
     "text": [
      "Dropping features: ['maxdeutsch1', 'maxdeutsch.Missing.']\n"
     ]
    }
   ],
   "source": [
    "if len(excluded_features_columns) > 0:\n",
    "    print(f\"Dropping features: {excluded_features_columns}\")\n",
    "    X_calib.drop(excluded_features_columns, axis=1, inplace=True)"
   ]
  },
  {
   "cell_type": "code",
   "execution_count": 25,
   "id": "76c4dc6d",
   "metadata": {
    "execution": {
     "iopub.execute_input": "2025-08-05T16:17:19.357335Z",
     "iopub.status.busy": "2025-08-05T16:17:19.356904Z",
     "iopub.status.idle": "2025-08-05T16:17:19.363174Z",
     "shell.execute_reply": "2025-08-05T16:17:19.362048Z"
    },
    "papermill": {
     "duration": 0.021167,
     "end_time": "2025-08-05T16:17:19.365236",
     "exception": false,
     "start_time": "2025-08-05T16:17:19.344069",
     "status": "completed"
    },
    "tags": []
   },
   "outputs": [],
   "source": [
    "# EXCLUDE CERTAIN SUBGROUPS\n",
    "# ----------------------\n",
    "\n",
    "mode = universe.get(\"exclude_subgroups\", \"keep-all\") \n",
    "# Fetches the exclude_subgroups setting from the universe dict.\n",
    "# Defaults to \"keep-all\" if the key is missing."
   ]
  },
  {
   "cell_type": "code",
   "execution_count": 26,
   "id": "21994072",
   "metadata": {
    "execution": {
     "iopub.execute_input": "2025-08-05T16:17:19.417608Z",
     "iopub.status.busy": "2025-08-05T16:17:19.417094Z",
     "iopub.status.idle": "2025-08-05T16:17:19.424634Z",
     "shell.execute_reply": "2025-08-05T16:17:19.423761Z"
    },
    "papermill": {
     "duration": 0.035467,
     "end_time": "2025-08-05T16:17:19.426904",
     "exception": false,
     "start_time": "2025-08-05T16:17:19.391437",
     "status": "completed"
    },
    "tags": []
   },
   "outputs": [],
   "source": [
    "if mode == \"keep-all\":\n",
    "    keep_mask = pd.Series(True, index=org_train.index)\n",
    "\n",
    "# org_train contains the original feature columns from features_org (in Simson)\n",
    "# features_org contains unprocessed features, for me X_train at beginning ???\n",
    "# For keep-all, creates a boolean Series (keep_mask) of all True, so no rows are removed.\n",
    "\n",
    "elif mode == \"drop-non-german\":\n",
    "    keep_mask = org_train[\"maxdeutsch1\"] == 1 # ??? what about missing values?\n",
    "\n",
    "else:\n",
    "    raise ValueError(f\"Unsupported mode for exclude_subgroups: {mode}\")"
   ]
  },
  {
   "cell_type": "code",
   "execution_count": 27,
   "id": "71651440",
   "metadata": {
    "execution": {
     "iopub.execute_input": "2025-08-05T16:17:19.469575Z",
     "iopub.status.busy": "2025-08-05T16:17:19.468516Z",
     "iopub.status.idle": "2025-08-05T16:17:19.476489Z",
     "shell.execute_reply": "2025-08-05T16:17:19.475023Z"
    },
    "papermill": {
     "duration": 0.028244,
     "end_time": "2025-08-05T16:17:19.479167",
     "exception": false,
     "start_time": "2025-08-05T16:17:19.450923",
     "status": "completed"
    },
    "tags": []
   },
   "outputs": [],
   "source": [
    "n_drop = (~keep_mask).sum() # Calculates how many rows are set to be dropped\n",
    "if n_drop > 0:\n",
    "    pct = n_drop / len(keep_mask) * 100\n",
    "    print(f\"Dropping {n_drop} rows ({pct:.2f}%) where mode='{mode}'\")"
   ]
  },
  {
   "cell_type": "code",
   "execution_count": 28,
   "id": "5fb8eee5",
   "metadata": {
    "execution": {
     "iopub.execute_input": "2025-08-05T16:17:19.541191Z",
     "iopub.status.busy": "2025-08-05T16:17:19.539914Z",
     "iopub.status.idle": "2025-08-05T16:17:19.549140Z",
     "shell.execute_reply": "2025-08-05T16:17:19.547727Z"
    },
    "papermill": {
     "duration": 0.042683,
     "end_time": "2025-08-05T16:17:19.551225",
     "exception": false,
     "start_time": "2025-08-05T16:17:19.508542",
     "status": "completed"
    },
    "tags": []
   },
   "outputs": [],
   "source": [
    "X_train = X_train[keep_mask]"
   ]
  },
  {
   "cell_type": "code",
   "execution_count": 29,
   "id": "b202bb3a",
   "metadata": {
    "execution": {
     "iopub.execute_input": "2025-08-05T16:17:19.598211Z",
     "iopub.status.busy": "2025-08-05T16:17:19.597313Z",
     "iopub.status.idle": "2025-08-05T16:17:19.604590Z",
     "shell.execute_reply": "2025-08-05T16:17:19.603327Z"
    },
    "papermill": {
     "duration": 0.032057,
     "end_time": "2025-08-05T16:17:19.606522",
     "exception": false,
     "start_time": "2025-08-05T16:17:19.574465",
     "status": "completed"
    },
    "tags": []
   },
   "outputs": [],
   "source": [
    "y_train = y_train[keep_mask]"
   ]
  },
  {
   "cell_type": "markdown",
   "id": "493e2ac3",
   "metadata": {
    "papermill": {
     "duration": 0.021481,
     "end_time": "2025-08-05T16:17:19.650045",
     "exception": false,
     "start_time": "2025-08-05T16:17:19.628564",
     "status": "completed"
    },
    "tags": []
   },
   "source": [
    "# Model Training"
   ]
  },
  {
   "cell_type": "code",
   "execution_count": 30,
   "id": "679e1268",
   "metadata": {
    "execution": {
     "iopub.execute_input": "2025-08-05T16:17:19.695743Z",
     "iopub.status.busy": "2025-08-05T16:17:19.694988Z",
     "iopub.status.idle": "2025-08-05T16:17:19.814512Z",
     "shell.execute_reply": "2025-08-05T16:17:19.813488Z"
    },
    "papermill": {
     "duration": 0.144998,
     "end_time": "2025-08-05T16:17:19.816581",
     "exception": false,
     "start_time": "2025-08-05T16:17:19.671583",
     "status": "completed"
    },
    "tags": []
   },
   "outputs": [],
   "source": [
    "from sklearn.linear_model import LogisticRegression\n",
    "from sklearn.ensemble import GradientBoostingClassifier, RandomForestClassifier\n",
    "\n",
    "if (universe[\"model\"] == \"logreg\"):\n",
    "    model = LogisticRegression() #penalty=\"none\", solver=\"newton-cg\", max_iter=1) # include random_state=19 ?\n",
    "elif (universe[\"model\"] == \"penalized_logreg\"):\n",
    "    model = LogisticRegression(penalty=\"l2\", C=0.1) #, solver=\"newton-cg\", max_iter=1)\n",
    "elif (universe[\"model\"] == \"rf\"):\n",
    "    model = RandomForestClassifier() # n_estimators=100, n_jobs=-1\n",
    "elif (universe[\"model\"] == \"gbm\"):\n",
    "    model = GradientBoostingClassifier()\n",
    "elif (universe[\"model\"] == \"elasticnet\"):\n",
    "    model = LogisticRegression(penalty = 'elasticnet', solver = 'saga', l1_ratio = 0.5) # max_iter=5000\n",
    "else:\n",
    "    raise \"Unsupported universe.model\""
   ]
  },
  {
   "cell_type": "code",
   "execution_count": 31,
   "id": "0cc8f744",
   "metadata": {
    "execution": {
     "iopub.execute_input": "2025-08-05T16:17:19.864447Z",
     "iopub.status.busy": "2025-08-05T16:17:19.863709Z",
     "iopub.status.idle": "2025-08-05T16:17:19.870985Z",
     "shell.execute_reply": "2025-08-05T16:17:19.869875Z"
    },
    "papermill": {
     "duration": 0.033891,
     "end_time": "2025-08-05T16:17:19.872896",
     "exception": false,
     "start_time": "2025-08-05T16:17:19.839005",
     "status": "completed"
    },
    "tags": []
   },
   "outputs": [],
   "source": [
    "import numpy as np\n",
    "from sklearn.pipeline import Pipeline\n",
    "from sklearn.preprocessing import StandardScaler\n",
    "\n",
    "model = Pipeline([\n",
    "    #(\"continuous_processor\", continuous_processor),\n",
    "    #(\"categorical_preprocessor\", categorical_preprocessor),\n",
    "    (\"scale\", StandardScaler() if universe[\"scale\"] == \"scale\" else None), \n",
    "    (\"model\", model),\n",
    "])"
   ]
  },
  {
   "cell_type": "code",
   "execution_count": 32,
   "id": "9442c04d",
   "metadata": {
    "execution": {
     "iopub.execute_input": "2025-08-05T16:17:19.919896Z",
     "iopub.status.busy": "2025-08-05T16:17:19.918987Z",
     "iopub.status.idle": "2025-08-05T16:17:19.979222Z",
     "shell.execute_reply": "2025-08-05T16:17:19.978175Z"
    },
    "papermill": {
     "duration": 0.086848,
     "end_time": "2025-08-05T16:17:19.981505",
     "exception": false,
     "start_time": "2025-08-05T16:17:19.894657",
     "status": "completed"
    },
    "tags": []
   },
   "outputs": [
    {
     "data": {
      "text/html": [
       "<style>#sk-container-id-1 {color: black;background-color: white;}#sk-container-id-1 pre{padding: 0;}#sk-container-id-1 div.sk-toggleable {background-color: white;}#sk-container-id-1 label.sk-toggleable__label {cursor: pointer;display: block;width: 100%;margin-bottom: 0;padding: 0.3em;box-sizing: border-box;text-align: center;}#sk-container-id-1 label.sk-toggleable__label-arrow:before {content: \"▸\";float: left;margin-right: 0.25em;color: #696969;}#sk-container-id-1 label.sk-toggleable__label-arrow:hover:before {color: black;}#sk-container-id-1 div.sk-estimator:hover label.sk-toggleable__label-arrow:before {color: black;}#sk-container-id-1 div.sk-toggleable__content {max-height: 0;max-width: 0;overflow: hidden;text-align: left;background-color: #f0f8ff;}#sk-container-id-1 div.sk-toggleable__content pre {margin: 0.2em;color: black;border-radius: 0.25em;background-color: #f0f8ff;}#sk-container-id-1 input.sk-toggleable__control:checked~div.sk-toggleable__content {max-height: 200px;max-width: 100%;overflow: auto;}#sk-container-id-1 input.sk-toggleable__control:checked~label.sk-toggleable__label-arrow:before {content: \"▾\";}#sk-container-id-1 div.sk-estimator input.sk-toggleable__control:checked~label.sk-toggleable__label {background-color: #d4ebff;}#sk-container-id-1 div.sk-label input.sk-toggleable__control:checked~label.sk-toggleable__label {background-color: #d4ebff;}#sk-container-id-1 input.sk-hidden--visually {border: 0;clip: rect(1px 1px 1px 1px);clip: rect(1px, 1px, 1px, 1px);height: 1px;margin: -1px;overflow: hidden;padding: 0;position: absolute;width: 1px;}#sk-container-id-1 div.sk-estimator {font-family: monospace;background-color: #f0f8ff;border: 1px dotted black;border-radius: 0.25em;box-sizing: border-box;margin-bottom: 0.5em;}#sk-container-id-1 div.sk-estimator:hover {background-color: #d4ebff;}#sk-container-id-1 div.sk-parallel-item::after {content: \"\";width: 100%;border-bottom: 1px solid gray;flex-grow: 1;}#sk-container-id-1 div.sk-label:hover label.sk-toggleable__label {background-color: #d4ebff;}#sk-container-id-1 div.sk-serial::before {content: \"\";position: absolute;border-left: 1px solid gray;box-sizing: border-box;top: 0;bottom: 0;left: 50%;z-index: 0;}#sk-container-id-1 div.sk-serial {display: flex;flex-direction: column;align-items: center;background-color: white;padding-right: 0.2em;padding-left: 0.2em;position: relative;}#sk-container-id-1 div.sk-item {position: relative;z-index: 1;}#sk-container-id-1 div.sk-parallel {display: flex;align-items: stretch;justify-content: center;background-color: white;position: relative;}#sk-container-id-1 div.sk-item::before, #sk-container-id-1 div.sk-parallel-item::before {content: \"\";position: absolute;border-left: 1px solid gray;box-sizing: border-box;top: 0;bottom: 0;left: 50%;z-index: -1;}#sk-container-id-1 div.sk-parallel-item {display: flex;flex-direction: column;z-index: 1;position: relative;background-color: white;}#sk-container-id-1 div.sk-parallel-item:first-child::after {align-self: flex-end;width: 50%;}#sk-container-id-1 div.sk-parallel-item:last-child::after {align-self: flex-start;width: 50%;}#sk-container-id-1 div.sk-parallel-item:only-child::after {width: 0;}#sk-container-id-1 div.sk-dashed-wrapped {border: 1px dashed gray;margin: 0 0.4em 0.5em 0.4em;box-sizing: border-box;padding-bottom: 0.4em;background-color: white;}#sk-container-id-1 div.sk-label label {font-family: monospace;font-weight: bold;display: inline-block;line-height: 1.2em;}#sk-container-id-1 div.sk-label-container {text-align: center;}#sk-container-id-1 div.sk-container {/* jupyter's `normalize.less` sets `[hidden] { display: none; }` but bootstrap.min.css set `[hidden] { display: none !important; }` so we also need the `!important` here to be able to override the default hidden behavior on the sphinx rendered scikit-learn.org. See: https://github.com/scikit-learn/scikit-learn/issues/21755 */display: inline-block !important;position: relative;}#sk-container-id-1 div.sk-text-repr-fallback {display: none;}</style><div id=\"sk-container-id-1\" class=\"sk-top-container\"><div class=\"sk-text-repr-fallback\"><pre>Pipeline(steps=[(&#x27;scale&#x27;, StandardScaler()),\n",
       "                (&#x27;model&#x27;, LogisticRegression(C=0.1))])</pre><b>In a Jupyter environment, please rerun this cell to show the HTML representation or trust the notebook. <br />On GitHub, the HTML representation is unable to render, please try loading this page with nbviewer.org.</b></div><div class=\"sk-container\" hidden><div class=\"sk-item sk-dashed-wrapped\"><div class=\"sk-label-container\"><div class=\"sk-label sk-toggleable\"><input class=\"sk-toggleable__control sk-hidden--visually\" id=\"sk-estimator-id-1\" type=\"checkbox\" ><label for=\"sk-estimator-id-1\" class=\"sk-toggleable__label sk-toggleable__label-arrow\">Pipeline</label><div class=\"sk-toggleable__content\"><pre>Pipeline(steps=[(&#x27;scale&#x27;, StandardScaler()),\n",
       "                (&#x27;model&#x27;, LogisticRegression(C=0.1))])</pre></div></div></div><div class=\"sk-serial\"><div class=\"sk-item\"><div class=\"sk-estimator sk-toggleable\"><input class=\"sk-toggleable__control sk-hidden--visually\" id=\"sk-estimator-id-2\" type=\"checkbox\" ><label for=\"sk-estimator-id-2\" class=\"sk-toggleable__label sk-toggleable__label-arrow\">StandardScaler</label><div class=\"sk-toggleable__content\"><pre>StandardScaler()</pre></div></div></div><div class=\"sk-item\"><div class=\"sk-estimator sk-toggleable\"><input class=\"sk-toggleable__control sk-hidden--visually\" id=\"sk-estimator-id-3\" type=\"checkbox\" ><label for=\"sk-estimator-id-3\" class=\"sk-toggleable__label sk-toggleable__label-arrow\">LogisticRegression</label><div class=\"sk-toggleable__content\"><pre>LogisticRegression(C=0.1)</pre></div></div></div></div></div></div></div>"
      ],
      "text/plain": [
       "Pipeline(steps=[('scale', StandardScaler()),\n",
       "                ('model', LogisticRegression(C=0.1))])"
      ]
     },
     "execution_count": 32,
     "metadata": {},
     "output_type": "execute_result"
    }
   ],
   "source": [
    "model.fit(X_train, y_train.values.ravel())"
   ]
  },
  {
   "cell_type": "code",
   "execution_count": 33,
   "id": "af59f8c0",
   "metadata": {
    "execution": {
     "iopub.execute_input": "2025-08-05T16:17:20.028936Z",
     "iopub.status.busy": "2025-08-05T16:17:20.028039Z",
     "iopub.status.idle": "2025-08-05T16:17:20.033833Z",
     "shell.execute_reply": "2025-08-05T16:17:20.032852Z"
    },
    "papermill": {
     "duration": 0.03096,
     "end_time": "2025-08-05T16:17:20.035738",
     "exception": false,
     "start_time": "2025-08-05T16:17:20.004778",
     "status": "completed"
    },
    "tags": []
   },
   "outputs": [],
   "source": [
    "from fairness_multiverse.universe import predict_w_threshold"
   ]
  },
  {
   "cell_type": "code",
   "execution_count": 34,
   "id": "a7cf2e16",
   "metadata": {
    "execution": {
     "iopub.execute_input": "2025-08-05T16:17:20.082313Z",
     "iopub.status.busy": "2025-08-05T16:17:20.081495Z",
     "iopub.status.idle": "2025-08-05T16:17:20.299785Z",
     "shell.execute_reply": "2025-08-05T16:17:20.298658Z"
    },
    "papermill": {
     "duration": 0.244084,
     "end_time": "2025-08-05T16:17:20.302194",
     "exception": false,
     "start_time": "2025-08-05T16:17:20.058110",
     "status": "completed"
    },
    "tags": []
   },
   "outputs": [
    {
     "data": {
      "text/plain": [
       "0.8405305985954743"
      ]
     },
     "execution_count": 34,
     "metadata": {},
     "output_type": "execute_result"
    }
   ],
   "source": [
    "probs_test = model.predict_proba(X_test)\n",
    "\n",
    "'''\n",
    "Below code returns a boolean array (or binary 0/1 array depending on how it’s used) where each element \n",
    "is True if the probability of class 1 is greater than or equal to the threshold, and False otherwise.\n",
    "'''\n",
    "y_pred_default = predict_w_threshold(probs_test, 0.5)\n",
    "\n",
    "from sklearn.metrics import accuracy_score\n",
    "\n",
    "# Naive prediction\n",
    "accuracy_score(y_true = y_true, y_pred = y_pred_default)"
   ]
  },
  {
   "cell_type": "code",
   "execution_count": 35,
   "id": "081964c3",
   "metadata": {
    "execution": {
     "iopub.execute_input": "2025-08-05T16:17:20.348953Z",
     "iopub.status.busy": "2025-08-05T16:17:20.348265Z",
     "iopub.status.idle": "2025-08-05T16:17:20.541344Z",
     "shell.execute_reply": "2025-08-05T16:17:20.540528Z"
    },
    "papermill": {
     "duration": 0.218387,
     "end_time": "2025-08-05T16:17:20.542904",
     "exception": false,
     "start_time": "2025-08-05T16:17:20.324517",
     "status": "completed"
    },
    "tags": []
   },
   "outputs": [
    {
     "data": {
      "text/plain": [
       "array([0, 0, 0, ..., 0, 0, 0])"
      ]
     },
     "execution_count": 35,
     "metadata": {},
     "output_type": "execute_result"
    }
   ],
   "source": [
    "model.predict(X_test)"
   ]
  },
  {
   "cell_type": "markdown",
   "id": "56c9705b",
   "metadata": {
    "papermill": {
     "duration": 0.025053,
     "end_time": "2025-08-05T16:17:20.586922",
     "exception": false,
     "start_time": "2025-08-05T16:17:20.561869",
     "status": "completed"
    },
    "tags": []
   },
   "source": [
    "# Conformal Prediction"
   ]
  },
  {
   "cell_type": "code",
   "execution_count": 36,
   "id": "160ec6ff",
   "metadata": {
    "execution": {
     "iopub.execute_input": "2025-08-05T16:17:20.635691Z",
     "iopub.status.busy": "2025-08-05T16:17:20.634920Z",
     "iopub.status.idle": "2025-08-05T16:17:20.641277Z",
     "shell.execute_reply": "2025-08-05T16:17:20.640258Z"
    },
    "papermill": {
     "duration": 0.032687,
     "end_time": "2025-08-05T16:17:20.643446",
     "exception": false,
     "start_time": "2025-08-05T16:17:20.610759",
     "status": "completed"
    },
    "tags": []
   },
   "outputs": [],
   "source": [
    "# Miscoverage level for conformal prediction (10% allowed error rate => 90% target coverage)\n",
    "alpha = 0.1"
   ]
  },
  {
   "cell_type": "code",
   "execution_count": 37,
   "id": "eadf4555-3dd3-440e-8e35-f82a4ad9f855",
   "metadata": {
    "execution": {
     "iopub.execute_input": "2025-08-05T16:17:20.691341Z",
     "iopub.status.busy": "2025-08-05T16:17:20.690785Z",
     "iopub.status.idle": "2025-08-05T16:17:20.885445Z",
     "shell.execute_reply": "2025-08-05T16:17:20.884276Z"
    },
    "papermill": {
     "duration": 0.221358,
     "end_time": "2025-08-05T16:17:20.887750",
     "exception": false,
     "start_time": "2025-08-05T16:17:20.666392",
     "status": "completed"
    },
    "tags": []
   },
   "outputs": [],
   "source": [
    "probs_calib = model.predict_proba(X_calib)"
   ]
  },
  {
   "cell_type": "code",
   "execution_count": 38,
   "id": "2ed93547-6d5d-4983-9b36-1ecb300da49a",
   "metadata": {
    "execution": {
     "iopub.execute_input": "2025-08-05T16:17:20.938098Z",
     "iopub.status.busy": "2025-08-05T16:17:20.937276Z",
     "iopub.status.idle": "2025-08-05T16:17:20.944288Z",
     "shell.execute_reply": "2025-08-05T16:17:20.943002Z"
    },
    "papermill": {
     "duration": 0.03354,
     "end_time": "2025-08-05T16:17:20.946145",
     "exception": false,
     "start_time": "2025-08-05T16:17:20.912605",
     "status": "completed"
    },
    "tags": []
   },
   "outputs": [],
   "source": [
    "y_calib = y_calib.values.ravel().astype(int)"
   ]
  },
  {
   "cell_type": "code",
   "execution_count": 39,
   "id": "65d1320d-f588-4b38-9072-62af1ae97f7d",
   "metadata": {
    "execution": {
     "iopub.execute_input": "2025-08-05T16:17:20.994751Z",
     "iopub.status.busy": "2025-08-05T16:17:20.993731Z",
     "iopub.status.idle": "2025-08-05T16:17:21.002722Z",
     "shell.execute_reply": "2025-08-05T16:17:21.001617Z"
    },
    "papermill": {
     "duration": 0.035157,
     "end_time": "2025-08-05T16:17:21.004720",
     "exception": false,
     "start_time": "2025-08-05T16:17:20.969563",
     "status": "completed"
    },
    "tags": []
   },
   "outputs": [],
   "source": [
    "from fairness_multiverse.conformal import compute_nc_scores\n",
    "\n",
    "# Compute nonconformity scores on calibration set (1 - probability of true class)\n",
    "nc_scores = compute_nc_scores(probs_calib, y_calib)"
   ]
  },
  {
   "cell_type": "code",
   "execution_count": 40,
   "id": "df3b8ca3-53b7-43d5-9667-7c85da7aeda2",
   "metadata": {
    "execution": {
     "iopub.execute_input": "2025-08-05T16:17:21.054956Z",
     "iopub.status.busy": "2025-08-05T16:17:21.053912Z",
     "iopub.status.idle": "2025-08-05T16:17:21.062631Z",
     "shell.execute_reply": "2025-08-05T16:17:21.061577Z"
    },
    "papermill": {
     "duration": 0.035577,
     "end_time": "2025-08-05T16:17:21.064444",
     "exception": false,
     "start_time": "2025-08-05T16:17:21.028867",
     "status": "completed"
    },
    "tags": []
   },
   "outputs": [],
   "source": [
    "from fairness_multiverse.conformal import find_threshold\n",
    "\n",
    "# Find conformal threshold q_hat for the given alpha (split conformal method)\n",
    "q_hat = find_threshold(nc_scores, alpha)"
   ]
  },
  {
   "cell_type": "code",
   "execution_count": 41,
   "id": "4d29e6c1-0ef6-4aa4-b8fe-4fe79b0d033a",
   "metadata": {
    "execution": {
     "iopub.execute_input": "2025-08-05T16:17:21.115594Z",
     "iopub.status.busy": "2025-08-05T16:17:21.114563Z",
     "iopub.status.idle": "2025-08-05T16:17:21.123809Z",
     "shell.execute_reply": "2025-08-05T16:17:21.122581Z"
    },
    "papermill": {
     "duration": 0.037433,
     "end_time": "2025-08-05T16:17:21.125937",
     "exception": false,
     "start_time": "2025-08-05T16:17:21.088504",
     "status": "completed"
    },
    "tags": []
   },
   "outputs": [
    {
     "data": {
      "text/plain": [
       "0.753862831635831"
      ]
     },
     "execution_count": 41,
     "metadata": {},
     "output_type": "execute_result"
    }
   ],
   "source": [
    "q_hat"
   ]
  },
  {
   "cell_type": "code",
   "execution_count": 42,
   "id": "92460794-cdac-4be2-ba28-f28c0515a6fb",
   "metadata": {
    "execution": {
     "iopub.execute_input": "2025-08-05T16:17:21.176109Z",
     "iopub.status.busy": "2025-08-05T16:17:21.175337Z",
     "iopub.status.idle": "2025-08-05T16:17:22.201240Z",
     "shell.execute_reply": "2025-08-05T16:17:22.200214Z"
    },
    "papermill": {
     "duration": 1.053489,
     "end_time": "2025-08-05T16:17:22.203513",
     "exception": false,
     "start_time": "2025-08-05T16:17:21.150024",
     "status": "completed"
    },
    "tags": []
   },
   "outputs": [],
   "source": [
    "from fairness_multiverse.conformal import predict_conformal_sets\n",
    "\n",
    "# Generate prediction sets for each test example\n",
    "pred_sets = predict_conformal_sets(model, X_test, q_hat)"
   ]
  },
  {
   "cell_type": "code",
   "execution_count": 43,
   "id": "d90c9a65-e6db-4f5d-80cd-e68fb7e46829",
   "metadata": {
    "execution": {
     "iopub.execute_input": "2025-08-05T16:17:22.252678Z",
     "iopub.status.busy": "2025-08-05T16:17:22.251892Z",
     "iopub.status.idle": "2025-08-05T16:17:22.258371Z",
     "shell.execute_reply": "2025-08-05T16:17:22.257173Z"
    },
    "papermill": {
     "duration": 0.032062,
     "end_time": "2025-08-05T16:17:22.260359",
     "exception": false,
     "start_time": "2025-08-05T16:17:22.228297",
     "status": "completed"
    },
    "tags": []
   },
   "outputs": [],
   "source": [
    "y_true = y_true.squeeze()"
   ]
  },
  {
   "cell_type": "code",
   "execution_count": 44,
   "id": "3a58a54a-1e68-46b9-927a-df01f18aebc8",
   "metadata": {
    "execution": {
     "iopub.execute_input": "2025-08-05T16:17:22.307816Z",
     "iopub.status.busy": "2025-08-05T16:17:22.306837Z",
     "iopub.status.idle": "2025-08-05T16:17:23.223288Z",
     "shell.execute_reply": "2025-08-05T16:17:23.222082Z"
    },
    "papermill": {
     "duration": 0.941863,
     "end_time": "2025-08-05T16:17:23.225229",
     "exception": false,
     "start_time": "2025-08-05T16:17:22.283366",
     "status": "completed"
    },
    "tags": []
   },
   "outputs": [],
   "source": [
    "from fairness_multiverse.conformal import evaluate_sets\n",
    "\n",
    "# Evaluate coverage and average set size on test data\n",
    "metrics = evaluate_sets(pred_sets, y_true)"
   ]
  },
  {
   "cell_type": "markdown",
   "id": "2b569c12-9aaa-4c88-98c9-bbcd0cf3ebb8",
   "metadata": {
    "papermill": {
     "duration": 0.018397,
     "end_time": "2025-08-05T16:17:23.264709",
     "exception": false,
     "start_time": "2025-08-05T16:17:23.246312",
     "status": "completed"
    },
    "tags": []
   },
   "source": [
    "# CP Metrics"
   ]
  },
  {
   "cell_type": "code",
   "execution_count": 45,
   "id": "5ce0a5cb-201f-45a0-ade5-94c7f0bd6095",
   "metadata": {
    "execution": {
     "iopub.execute_input": "2025-08-05T16:17:23.305595Z",
     "iopub.status.busy": "2025-08-05T16:17:23.304745Z",
     "iopub.status.idle": "2025-08-05T16:17:23.313579Z",
     "shell.execute_reply": "2025-08-05T16:17:23.312476Z"
    },
    "papermill": {
     "duration": 0.039544,
     "end_time": "2025-08-05T16:17:23.324487",
     "exception": false,
     "start_time": "2025-08-05T16:17:23.284943",
     "status": "completed"
    },
    "tags": []
   },
   "outputs": [
    {
     "data": {
      "text/plain": [
       "{'coverage': 0.9106454129974362, 'avg_size': 1.1979600936350463}"
      ]
     },
     "execution_count": 45,
     "metadata": {},
     "output_type": "execute_result"
    }
   ],
   "source": [
    "metrics"
   ]
  },
  {
   "cell_type": "code",
   "execution_count": 46,
   "id": "9b9a838d-31c9-430b-ae14-12baee460d17",
   "metadata": {
    "execution": {
     "iopub.execute_input": "2025-08-05T16:17:23.372372Z",
     "iopub.status.busy": "2025-08-05T16:17:23.371714Z",
     "iopub.status.idle": "2025-08-05T16:17:23.378543Z",
     "shell.execute_reply": "2025-08-05T16:17:23.377499Z"
    },
    "papermill": {
     "duration": 0.031518,
     "end_time": "2025-08-05T16:17:23.380128",
     "exception": false,
     "start_time": "2025-08-05T16:17:23.348610",
     "status": "completed"
    },
    "tags": []
   },
   "outputs": [],
   "source": [
    "example_universe = universe.copy()\n",
    "universe_training_year = example_universe.get(\"training_year\")\n",
    "universe_training_size = example_universe.get(\"training_size\")\n",
    "universe_scale = example_universe.get(\"scale\")\n",
    "universe_model = example_universe.get(\"model\")\n",
    "universe_exclude_features = example_universe.get(\"exclude_features\")\n",
    "universe_exclude_subgroups = example_universe.get(\"exclude_subgroups\")"
   ]
  },
  {
   "cell_type": "code",
   "execution_count": 47,
   "id": "f4b6a8ac-9dc0-4245-8a91-5b3b5999c4f9",
   "metadata": {
    "execution": {
     "iopub.execute_input": "2025-08-05T16:17:23.430927Z",
     "iopub.status.busy": "2025-08-05T16:17:23.429881Z",
     "iopub.status.idle": "2025-08-05T16:17:23.446975Z",
     "shell.execute_reply": "2025-08-05T16:17:23.445921Z"
    },
    "papermill": {
     "duration": 0.043811,
     "end_time": "2025-08-05T16:17:23.448905",
     "exception": false,
     "start_time": "2025-08-05T16:17:23.405094",
     "status": "completed"
    },
    "tags": []
   },
   "outputs": [],
   "source": [
    "cp_metrics_dict = {\n",
    "    \"universe_id\": [universe_id],\n",
    "    \"universe_training_year\": [universe_training_year],\n",
    "    \"universe_training_size\": [universe_training_size],\n",
    "    \"universe_scale\": [universe_scale],\n",
    "    \"universe_model\": [universe_model],\n",
    "    \"universe_exclude_features\": [universe_exclude_features],\n",
    "    \"universe_exclude_subgroups\": [universe_exclude_subgroups],\n",
    "    \"q_hat\": [q_hat],\n",
    "    \"coverage\": [metrics[\"coverage\"]],\n",
    "    \"avg_size\": [metrics[\"avg_size\"]],\n",
    "}"
   ]
  },
  {
   "cell_type": "code",
   "execution_count": 48,
   "id": "908acbb1-0371-4915-85ca-3fa520d2efe2",
   "metadata": {
    "execution": {
     "iopub.execute_input": "2025-08-05T16:17:23.499937Z",
     "iopub.status.busy": "2025-08-05T16:17:23.499225Z",
     "iopub.status.idle": "2025-08-05T16:17:23.508135Z",
     "shell.execute_reply": "2025-08-05T16:17:23.506970Z"
    },
    "papermill": {
     "duration": 0.036588,
     "end_time": "2025-08-05T16:17:23.510156",
     "exception": false,
     "start_time": "2025-08-05T16:17:23.473568",
     "status": "completed"
    },
    "tags": []
   },
   "outputs": [
    {
     "data": {
      "text/plain": [
       "{'universe_id': ['683765583719c3b652cda582b2308691'],\n",
       " 'universe_training_year': ['2012_14'],\n",
       " 'universe_training_size': ['1k'],\n",
       " 'universe_scale': ['scale'],\n",
       " 'universe_model': ['penalized_logreg'],\n",
       " 'universe_exclude_features': ['nationality'],\n",
       " 'universe_exclude_subgroups': ['keep-all'],\n",
       " 'q_hat': [0.753862831635831],\n",
       " 'coverage': [0.9106454129974362],\n",
       " 'avg_size': [1.1979600936350463]}"
      ]
     },
     "execution_count": 48,
     "metadata": {},
     "output_type": "execute_result"
    }
   ],
   "source": [
    "cp_metrics_dict"
   ]
  },
  {
   "cell_type": "code",
   "execution_count": 49,
   "id": "33007efc-14e9-4ec6-97ac-56a455c82265",
   "metadata": {
    "execution": {
     "iopub.execute_input": "2025-08-05T16:17:23.561065Z",
     "iopub.status.busy": "2025-08-05T16:17:23.560402Z",
     "iopub.status.idle": "2025-08-05T16:17:23.567116Z",
     "shell.execute_reply": "2025-08-05T16:17:23.566164Z"
    },
    "papermill": {
     "duration": 0.032752,
     "end_time": "2025-08-05T16:17:23.569189",
     "exception": false,
     "start_time": "2025-08-05T16:17:23.536437",
     "status": "completed"
    },
    "tags": []
   },
   "outputs": [],
   "source": [
    "cp_metrics_df = pd.DataFrame(cp_metrics_dict)"
   ]
  },
  {
   "cell_type": "code",
   "execution_count": 50,
   "id": "db12611b-57b2-4910-b9d0-355adfd6e7bf",
   "metadata": {
    "execution": {
     "iopub.execute_input": "2025-08-05T16:17:23.611987Z",
     "iopub.status.busy": "2025-08-05T16:17:23.611355Z",
     "iopub.status.idle": "2025-08-05T16:17:23.630886Z",
     "shell.execute_reply": "2025-08-05T16:17:23.629896Z"
    },
    "papermill": {
     "duration": 0.042621,
     "end_time": "2025-08-05T16:17:23.632976",
     "exception": false,
     "start_time": "2025-08-05T16:17:23.590355",
     "status": "completed"
    },
    "tags": []
   },
   "outputs": [
    {
     "data": {
      "text/html": [
       "<div>\n",
       "<style scoped>\n",
       "    .dataframe tbody tr th:only-of-type {\n",
       "        vertical-align: middle;\n",
       "    }\n",
       "\n",
       "    .dataframe tbody tr th {\n",
       "        vertical-align: top;\n",
       "    }\n",
       "\n",
       "    .dataframe thead th {\n",
       "        text-align: right;\n",
       "    }\n",
       "</style>\n",
       "<table border=\"1\" class=\"dataframe\">\n",
       "  <thead>\n",
       "    <tr style=\"text-align: right;\">\n",
       "      <th></th>\n",
       "      <th>universe_id</th>\n",
       "      <th>universe_training_year</th>\n",
       "      <th>universe_training_size</th>\n",
       "      <th>universe_scale</th>\n",
       "      <th>universe_model</th>\n",
       "      <th>universe_exclude_features</th>\n",
       "      <th>universe_exclude_subgroups</th>\n",
       "      <th>q_hat</th>\n",
       "      <th>coverage</th>\n",
       "      <th>avg_size</th>\n",
       "    </tr>\n",
       "  </thead>\n",
       "  <tbody>\n",
       "    <tr>\n",
       "      <th>0</th>\n",
       "      <td>683765583719c3b652cda582b2308691</td>\n",
       "      <td>2012_14</td>\n",
       "      <td>1k</td>\n",
       "      <td>scale</td>\n",
       "      <td>penalized_logreg</td>\n",
       "      <td>nationality</td>\n",
       "      <td>keep-all</td>\n",
       "      <td>0.753863</td>\n",
       "      <td>0.910645</td>\n",
       "      <td>1.19796</td>\n",
       "    </tr>\n",
       "  </tbody>\n",
       "</table>\n",
       "</div>"
      ],
      "text/plain": [
       "                        universe_id universe_training_year  \\\n",
       "0  683765583719c3b652cda582b2308691                2012_14   \n",
       "\n",
       "  universe_training_size universe_scale    universe_model  \\\n",
       "0                     1k          scale  penalized_logreg   \n",
       "\n",
       "  universe_exclude_features universe_exclude_subgroups     q_hat  coverage  \\\n",
       "0               nationality                   keep-all  0.753863  0.910645   \n",
       "\n",
       "   avg_size  \n",
       "0   1.19796  "
      ]
     },
     "execution_count": 50,
     "metadata": {},
     "output_type": "execute_result"
    }
   ],
   "source": [
    "cp_metrics_df"
   ]
  },
  {
   "cell_type": "code",
   "execution_count": 51,
   "id": "b7fbde55-a0a1-47e4-9af6-fe4a17fa8c61",
   "metadata": {
    "execution": {
     "iopub.execute_input": "2025-08-05T16:17:23.690180Z",
     "iopub.status.busy": "2025-08-05T16:17:23.689637Z",
     "iopub.status.idle": "2025-08-05T16:17:23.695043Z",
     "shell.execute_reply": "2025-08-05T16:17:23.694183Z"
    },
    "papermill": {
     "duration": 0.033281,
     "end_time": "2025-08-05T16:17:23.697103",
     "exception": false,
     "start_time": "2025-08-05T16:17:23.663822",
     "status": "completed"
    },
    "tags": []
   },
   "outputs": [],
   "source": [
    "# Conditional Coverage & looking at subgroups"
   ]
  },
  {
   "cell_type": "code",
   "execution_count": 52,
   "id": "027ae886-68dd-4141-96c7-805a5450e1ef",
   "metadata": {
    "execution": {
     "iopub.execute_input": "2025-08-05T16:17:23.747615Z",
     "iopub.status.busy": "2025-08-05T16:17:23.746624Z",
     "iopub.status.idle": "2025-08-05T16:17:24.017018Z",
     "shell.execute_reply": "2025-08-05T16:17:24.016037Z"
    },
    "papermill": {
     "duration": 0.297004,
     "end_time": "2025-08-05T16:17:24.019064",
     "exception": false,
     "start_time": "2025-08-05T16:17:23.722060",
     "status": "completed"
    },
    "tags": []
   },
   "outputs": [],
   "source": [
    "from fairness_multiverse.conformal import build_cp_groups\n",
    "\n",
    "cp_groups_df = build_cp_groups(pred_sets, y_true, X_test.index, org_test)\n",
    "#needs universe_id and setting"
   ]
  },
  {
   "cell_type": "code",
   "execution_count": 53,
   "id": "6cbdab96-b2b2-45af-ad54-d0516db2e28d",
   "metadata": {
    "execution": {
     "iopub.execute_input": "2025-08-05T16:17:24.062630Z",
     "iopub.status.busy": "2025-08-05T16:17:24.061872Z",
     "iopub.status.idle": "2025-08-05T16:17:25.928570Z",
     "shell.execute_reply": "2025-08-05T16:17:25.927530Z"
    },
    "papermill": {
     "duration": 1.890052,
     "end_time": "2025-08-05T16:17:25.930800",
     "exception": false,
     "start_time": "2025-08-05T16:17:24.040748",
     "status": "completed"
    },
    "tags": []
   },
   "outputs": [],
   "source": [
    "# Define covered = 1 if true_label is in the predicted set\n",
    "cp_groups_df['covered'] = cp_groups_df.apply(\n",
    "    lambda r: int(r['true_label'] in r['pred_set']),\n",
    "    axis=1\n",
    ")"
   ]
  },
  {
   "cell_type": "code",
   "execution_count": 54,
   "id": "338ff529-1a6b-4b87-a931-8e4788d52aad",
   "metadata": {
    "execution": {
     "iopub.execute_input": "2025-08-05T16:17:25.985215Z",
     "iopub.status.busy": "2025-08-05T16:17:25.984432Z",
     "iopub.status.idle": "2025-08-05T16:17:25.990838Z",
     "shell.execute_reply": "2025-08-05T16:17:25.989709Z"
    },
    "papermill": {
     "duration": 0.035982,
     "end_time": "2025-08-05T16:17:25.992610",
     "exception": false,
     "start_time": "2025-08-05T16:17:25.956628",
     "status": "completed"
    },
    "tags": []
   },
   "outputs": [],
   "source": [
    "#cp_groups_df"
   ]
  },
  {
   "cell_type": "code",
   "execution_count": 55,
   "id": "90032e27-66df-4540-9169-4e89cfbaa758",
   "metadata": {
    "execution": {
     "iopub.execute_input": "2025-08-05T16:17:26.046393Z",
     "iopub.status.busy": "2025-08-05T16:17:26.045816Z",
     "iopub.status.idle": "2025-08-05T16:17:26.061124Z",
     "shell.execute_reply": "2025-08-05T16:17:26.060011Z"
    },
    "papermill": {
     "duration": 0.043949,
     "end_time": "2025-08-05T16:17:26.063046",
     "exception": false,
     "start_time": "2025-08-05T16:17:26.019097",
     "status": "completed"
    },
    "tags": []
   },
   "outputs": [],
   "source": [
    "subgroups = ['frau1','nongerman','nongerman_male','nongerman_female']\n",
    "\n",
    "# Conditional coverage for subgroup==1\n",
    "cond_coverage = {\n",
    "    g: cp_groups_df.loc[cp_groups_df[g]==1, 'covered'].mean()\n",
    "    for g in subgroups\n",
    "}"
   ]
  },
  {
   "cell_type": "code",
   "execution_count": 56,
   "id": "1e348fb1-b9c3-45bc-ba23-f016827a7e0d",
   "metadata": {
    "execution": {
     "iopub.execute_input": "2025-08-05T16:17:26.115739Z",
     "iopub.status.busy": "2025-08-05T16:17:26.115202Z",
     "iopub.status.idle": "2025-08-05T16:17:26.125081Z",
     "shell.execute_reply": "2025-08-05T16:17:26.123960Z"
    },
    "papermill": {
     "duration": 0.038729,
     "end_time": "2025-08-05T16:17:26.127191",
     "exception": false,
     "start_time": "2025-08-05T16:17:26.088462",
     "status": "completed"
    },
    "tags": []
   },
   "outputs": [
    {
     "data": {
      "text/plain": [
       "{'frau1': 0.9026823021970616,\n",
       " 'nongerman': 0.9126480660191995,\n",
       " 'nongerman_male': 0.9315500315230117,\n",
       " 'nongerman_female': 0.881371087928465}"
      ]
     },
     "execution_count": 56,
     "metadata": {},
     "output_type": "execute_result"
    }
   ],
   "source": [
    "cond_coverage"
   ]
  },
  {
   "cell_type": "code",
   "execution_count": 57,
   "id": "f5093324-c3dd-4d63-bc4c-8d945e5c8bbb",
   "metadata": {
    "execution": {
     "iopub.execute_input": "2025-08-05T16:17:26.192351Z",
     "iopub.status.busy": "2025-08-05T16:17:26.191462Z",
     "iopub.status.idle": "2025-08-05T16:17:26.199824Z",
     "shell.execute_reply": "2025-08-05T16:17:26.198911Z"
    },
    "papermill": {
     "duration": 0.05312,
     "end_time": "2025-08-05T16:17:26.212165",
     "exception": false,
     "start_time": "2025-08-05T16:17:26.159045",
     "status": "completed"
    },
    "tags": []
   },
   "outputs": [],
   "source": [
    "for subgroup, cov in cond_coverage.items():\n",
    "    cp_metrics_df[f\"cov_{subgroup}\"] = cov"
   ]
  },
  {
   "cell_type": "code",
   "execution_count": 58,
   "id": "6e872e10-dbe5-49e8-b554-5030c98ff75d",
   "metadata": {
    "execution": {
     "iopub.execute_input": "2025-08-05T16:17:26.289346Z",
     "iopub.status.busy": "2025-08-05T16:17:26.288839Z",
     "iopub.status.idle": "2025-08-05T16:17:26.310418Z",
     "shell.execute_reply": "2025-08-05T16:17:26.309347Z"
    },
    "papermill": {
     "duration": 0.055066,
     "end_time": "2025-08-05T16:17:26.311996",
     "exception": false,
     "start_time": "2025-08-05T16:17:26.256930",
     "status": "completed"
    },
    "tags": []
   },
   "outputs": [
    {
     "data": {
      "text/html": [
       "<div>\n",
       "<style scoped>\n",
       "    .dataframe tbody tr th:only-of-type {\n",
       "        vertical-align: middle;\n",
       "    }\n",
       "\n",
       "    .dataframe tbody tr th {\n",
       "        vertical-align: top;\n",
       "    }\n",
       "\n",
       "    .dataframe thead th {\n",
       "        text-align: right;\n",
       "    }\n",
       "</style>\n",
       "<table border=\"1\" class=\"dataframe\">\n",
       "  <thead>\n",
       "    <tr style=\"text-align: right;\">\n",
       "      <th></th>\n",
       "      <th>universe_id</th>\n",
       "      <th>universe_training_year</th>\n",
       "      <th>universe_training_size</th>\n",
       "      <th>universe_scale</th>\n",
       "      <th>universe_model</th>\n",
       "      <th>universe_exclude_features</th>\n",
       "      <th>universe_exclude_subgroups</th>\n",
       "      <th>q_hat</th>\n",
       "      <th>coverage</th>\n",
       "      <th>avg_size</th>\n",
       "      <th>cov_frau1</th>\n",
       "      <th>cov_nongerman</th>\n",
       "      <th>cov_nongerman_male</th>\n",
       "      <th>cov_nongerman_female</th>\n",
       "    </tr>\n",
       "  </thead>\n",
       "  <tbody>\n",
       "    <tr>\n",
       "      <th>0</th>\n",
       "      <td>683765583719c3b652cda582b2308691</td>\n",
       "      <td>2012_14</td>\n",
       "      <td>1k</td>\n",
       "      <td>scale</td>\n",
       "      <td>penalized_logreg</td>\n",
       "      <td>nationality</td>\n",
       "      <td>keep-all</td>\n",
       "      <td>0.753863</td>\n",
       "      <td>0.910645</td>\n",
       "      <td>1.19796</td>\n",
       "      <td>0.902682</td>\n",
       "      <td>0.912648</td>\n",
       "      <td>0.93155</td>\n",
       "      <td>0.881371</td>\n",
       "    </tr>\n",
       "  </tbody>\n",
       "</table>\n",
       "</div>"
      ],
      "text/plain": [
       "                        universe_id universe_training_year  \\\n",
       "0  683765583719c3b652cda582b2308691                2012_14   \n",
       "\n",
       "  universe_training_size universe_scale    universe_model  \\\n",
       "0                     1k          scale  penalized_logreg   \n",
       "\n",
       "  universe_exclude_features universe_exclude_subgroups     q_hat  coverage  \\\n",
       "0               nationality                   keep-all  0.753863  0.910645   \n",
       "\n",
       "   avg_size  cov_frau1  cov_nongerman  cov_nongerman_male  \\\n",
       "0   1.19796   0.902682       0.912648             0.93155   \n",
       "\n",
       "   cov_nongerman_female  \n",
       "0              0.881371  "
      ]
     },
     "execution_count": 58,
     "metadata": {},
     "output_type": "execute_result"
    }
   ],
   "source": [
    "cp_metrics_df"
   ]
  },
  {
   "cell_type": "markdown",
   "id": "33774451",
   "metadata": {
    "papermill": {
     "duration": 0.039274,
     "end_time": "2025-08-05T16:17:26.366934",
     "exception": false,
     "start_time": "2025-08-05T16:17:26.327660",
     "status": "completed"
    },
    "tags": []
   },
   "source": [
    "# (Fairness) Metrics"
   ]
  },
  {
   "cell_type": "code",
   "execution_count": 59,
   "id": "debc5d62",
   "metadata": {
    "execution": {
     "iopub.execute_input": "2025-08-05T16:17:26.451250Z",
     "iopub.status.busy": "2025-08-05T16:17:26.450790Z",
     "iopub.status.idle": "2025-08-05T16:17:26.478480Z",
     "shell.execute_reply": "2025-08-05T16:17:26.476998Z"
    },
    "papermill": {
     "duration": 0.072628,
     "end_time": "2025-08-05T16:17:26.480950",
     "exception": false,
     "start_time": "2025-08-05T16:17:26.408322",
     "status": "completed"
    },
    "tags": []
   },
   "outputs": [],
   "source": [
    "# do I need to include maxdeutsch1.missing?\n",
    "\n",
    "import numpy as np\n",
    "\n",
    "colname_to_bin = \"maxdeutsch1\"\n",
    "majority_value = org_train[colname_to_bin].mode()[0]\n",
    "\n",
    "org_test[\"majmin\"] = np.where(org_test[colname_to_bin] == majority_value, \"majority\", \"minority\")"
   ]
  },
  {
   "cell_type": "code",
   "execution_count": 60,
   "id": "06a50de5",
   "metadata": {
    "execution": {
     "iopub.execute_input": "2025-08-05T16:17:26.536949Z",
     "iopub.status.busy": "2025-08-05T16:17:26.536090Z",
     "iopub.status.idle": "2025-08-05T16:17:30.045027Z",
     "shell.execute_reply": "2025-08-05T16:17:30.043829Z"
    },
    "papermill": {
     "duration": 3.539712,
     "end_time": "2025-08-05T16:17:30.047412",
     "exception": false,
     "start_time": "2025-08-05T16:17:26.507700",
     "status": "completed"
    },
    "tags": []
   },
   "outputs": [],
   "source": [
    "example_universe = universe.copy()\n",
    "example_universe[\"cutoff\"] = example_universe[\"cutoff\"][0]\n",
    "example_universe[\"eval_fairness_grouping\"] = example_universe[\"eval_fairness_grouping\"][0]\n",
    "fairness_dict, metric_frame = universe_analysis.compute_metrics(\n",
    "    example_universe,\n",
    "    y_pred_prob=probs_test,\n",
    "    y_test=y_true,\n",
    "    org_test=org_test,\n",
    ")"
   ]
  },
  {
   "cell_type": "markdown",
   "id": "f95d4e02",
   "metadata": {
    "papermill": {
     "duration": 0.030365,
     "end_time": "2025-08-05T16:17:30.108858",
     "exception": false,
     "start_time": "2025-08-05T16:17:30.078493",
     "status": "completed"
    },
    "tags": []
   },
   "source": [
    "# Overall"
   ]
  },
  {
   "cell_type": "markdown",
   "id": "bdee4871",
   "metadata": {
    "papermill": {
     "duration": 0.029251,
     "end_time": "2025-08-05T16:17:30.168288",
     "exception": false,
     "start_time": "2025-08-05T16:17:30.139037",
     "status": "completed"
    },
    "tags": []
   },
   "source": [
    "Fairness\n",
    "Main fairness target: Equalized Odds. Seems to be a better fit than equal opportunity, since we're not only interested in Y = 1. Seems to be a better fit than demographic parity, since we also care about accuracy, not just equal distribution of preds.\n",
    "\n",
    "Pick column for computation of fairness metrics\n",
    "\n",
    "Performance\n",
    "Overall performance measures, most interesting in relation to the measures split by group below"
   ]
  },
  {
   "cell_type": "code",
   "execution_count": 61,
   "id": "c4e067c6",
   "metadata": {
    "execution": {
     "iopub.execute_input": "2025-08-05T16:17:30.229407Z",
     "iopub.status.busy": "2025-08-05T16:17:30.228801Z",
     "iopub.status.idle": "2025-08-05T16:17:30.237986Z",
     "shell.execute_reply": "2025-08-05T16:17:30.237074Z"
    },
    "papermill": {
     "duration": 0.042077,
     "end_time": "2025-08-05T16:17:30.239803",
     "exception": false,
     "start_time": "2025-08-05T16:17:30.197726",
     "status": "completed"
    },
    "tags": []
   },
   "outputs": [
    {
     "data": {
      "text/plain": [
       "accuracy                   0.219474\n",
       "balanced accuracy          0.537670\n",
       "f1                         0.240940\n",
       "precision                  0.137641\n",
       "false positive rate        0.890335\n",
       "false negative rate        0.034324\n",
       "selection rate             0.900000\n",
       "count                  89710.000000\n",
       "dtype: float64"
      ]
     },
     "execution_count": 61,
     "metadata": {},
     "output_type": "execute_result"
    }
   ],
   "source": [
    "metric_frame.overall"
   ]
  },
  {
   "cell_type": "markdown",
   "id": "e968fe9d",
   "metadata": {
    "papermill": {
     "duration": 0.029834,
     "end_time": "2025-08-05T16:17:30.300096",
     "exception": false,
     "start_time": "2025-08-05T16:17:30.270262",
     "status": "completed"
    },
    "tags": []
   },
   "source": [
    "By Group"
   ]
  },
  {
   "cell_type": "code",
   "execution_count": 62,
   "id": "ec325bce",
   "metadata": {
    "execution": {
     "iopub.execute_input": "2025-08-05T16:17:30.362027Z",
     "iopub.status.busy": "2025-08-05T16:17:30.361418Z",
     "iopub.status.idle": "2025-08-05T16:17:30.375236Z",
     "shell.execute_reply": "2025-08-05T16:17:30.374261Z"
    },
    "papermill": {
     "duration": 0.046572,
     "end_time": "2025-08-05T16:17:30.376775",
     "exception": false,
     "start_time": "2025-08-05T16:17:30.330203",
     "status": "completed"
    },
    "tags": []
   },
   "outputs": [
    {
     "data": {
      "text/html": [
       "<div>\n",
       "<style scoped>\n",
       "    .dataframe tbody tr th:only-of-type {\n",
       "        vertical-align: middle;\n",
       "    }\n",
       "\n",
       "    .dataframe tbody tr th {\n",
       "        vertical-align: top;\n",
       "    }\n",
       "\n",
       "    .dataframe thead th {\n",
       "        text-align: right;\n",
       "    }\n",
       "</style>\n",
       "<table border=\"1\" class=\"dataframe\">\n",
       "  <thead>\n",
       "    <tr style=\"text-align: right;\">\n",
       "      <th></th>\n",
       "      <th>accuracy</th>\n",
       "      <th>balanced accuracy</th>\n",
       "      <th>f1</th>\n",
       "      <th>precision</th>\n",
       "      <th>false positive rate</th>\n",
       "      <th>false negative rate</th>\n",
       "      <th>selection rate</th>\n",
       "      <th>count</th>\n",
       "    </tr>\n",
       "    <tr>\n",
       "      <th>majmin</th>\n",
       "      <th></th>\n",
       "      <th></th>\n",
       "      <th></th>\n",
       "      <th></th>\n",
       "      <th></th>\n",
       "      <th></th>\n",
       "      <th></th>\n",
       "      <th></th>\n",
       "    </tr>\n",
       "  </thead>\n",
       "  <tbody>\n",
       "    <tr>\n",
       "      <th>majority</th>\n",
       "      <td>0.239641</td>\n",
       "      <td>0.545055</td>\n",
       "      <td>0.250221</td>\n",
       "      <td>0.143855</td>\n",
       "      <td>0.870065</td>\n",
       "      <td>0.039825</td>\n",
       "      <td>0.881972</td>\n",
       "      <td>69170.0</td>\n",
       "    </tr>\n",
       "    <tr>\n",
       "      <th>minority</th>\n",
       "      <td>0.151558</td>\n",
       "      <td>0.514806</td>\n",
       "      <td>0.211484</td>\n",
       "      <td>0.118431</td>\n",
       "      <td>0.957297</td>\n",
       "      <td>0.013091</td>\n",
       "      <td>0.960711</td>\n",
       "      <td>20540.0</td>\n",
       "    </tr>\n",
       "  </tbody>\n",
       "</table>\n",
       "</div>"
      ],
      "text/plain": [
       "          accuracy  balanced accuracy        f1  precision  \\\n",
       "majmin                                                       \n",
       "majority  0.239641           0.545055  0.250221   0.143855   \n",
       "minority  0.151558           0.514806  0.211484   0.118431   \n",
       "\n",
       "          false positive rate  false negative rate  selection rate    count  \n",
       "majmin                                                                       \n",
       "majority             0.870065             0.039825        0.881972  69170.0  \n",
       "minority             0.957297             0.013091        0.960711  20540.0  "
      ]
     },
     "execution_count": 62,
     "metadata": {},
     "output_type": "execute_result"
    }
   ],
   "source": [
    "metric_frame.by_group"
   ]
  },
  {
   "cell_type": "code",
   "execution_count": 63,
   "id": "a9ddbe63",
   "metadata": {
    "execution": {
     "iopub.execute_input": "2025-08-05T16:17:30.408306Z",
     "iopub.status.busy": "2025-08-05T16:17:30.407967Z",
     "iopub.status.idle": "2025-08-05T16:17:33.211358Z",
     "shell.execute_reply": "2025-08-05T16:17:33.210137Z"
    },
    "papermill": {
     "duration": 2.821575,
     "end_time": "2025-08-05T16:17:33.213623",
     "exception": false,
     "start_time": "2025-08-05T16:17:30.392048",
     "status": "completed"
    },
    "tags": []
   },
   "outputs": [
    {
     "data": {
      "text/plain": [
       "array([[<Axes: title={'center': 'accuracy'}, xlabel='majmin'>,\n",
       "        <Axes: title={'center': 'balanced accuracy'}, xlabel='majmin'>,\n",
       "        <Axes: title={'center': 'f1'}, xlabel='majmin'>],\n",
       "       [<Axes: title={'center': 'precision'}, xlabel='majmin'>,\n",
       "        <Axes: title={'center': 'false positive rate'}, xlabel='majmin'>,\n",
       "        <Axes: title={'center': 'false negative rate'}, xlabel='majmin'>],\n",
       "       [<Axes: title={'center': 'selection rate'}, xlabel='majmin'>,\n",
       "        <Axes: title={'center': 'count'}, xlabel='majmin'>,\n",
       "        <Axes: xlabel='majmin'>]], dtype=object)"
      ]
     },
     "execution_count": 63,
     "metadata": {},
     "output_type": "execute_result"
    },
    {
     "data": {
      "image/png": "[encoded data removed]",
      "text/plain": [
       "<Figure size 1200x800 with 9 Axes>"
      ]
     },
     "metadata": {},
     "output_type": "display_data"
    }
   ],
   "source": [
    "# In a graphic\n",
    "metric_frame.by_group.plot.bar(\n",
    "    subplots=True,\n",
    "    layout=[3, 3],\n",
    "    legend=False,\n",
    "    figsize=[12, 8],\n",
    "    title=\"Show all metrics\",\n",
    ")"
   ]
  },
  {
   "cell_type": "markdown",
   "id": "f57a0bac",
   "metadata": {
    "papermill": {
     "duration": 0.029778,
     "end_time": "2025-08-05T16:17:33.275568",
     "exception": false,
     "start_time": "2025-08-05T16:17:33.245790",
     "status": "completed"
    },
    "tags": []
   },
   "source": [
    "# Final Output"
   ]
  },
  {
   "cell_type": "code",
   "execution_count": 64,
   "id": "96d280a3",
   "metadata": {
    "execution": {
     "iopub.execute_input": "2025-08-05T16:17:33.337791Z",
     "iopub.status.busy": "2025-08-05T16:17:33.337008Z",
     "iopub.status.idle": "2025-08-05T16:17:33.346646Z",
     "shell.execute_reply": "2025-08-05T16:17:33.345546Z"
    },
    "papermill": {
     "duration": 0.043492,
     "end_time": "2025-08-05T16:17:33.348500",
     "exception": false,
     "start_time": "2025-08-05T16:17:33.305008",
     "status": "completed"
    },
    "tags": []
   },
   "outputs": [
    {
     "data": {
      "text/plain": [
       "4"
      ]
     },
     "execution_count": 64,
     "metadata": {},
     "output_type": "execute_result"
    }
   ],
   "source": [
    "sub_universes = universe_analysis.generate_sub_universes()\n",
    "len(sub_universes)"
   ]
  },
  {
   "cell_type": "code",
   "execution_count": 65,
   "id": "92adf7ba",
   "metadata": {
    "execution": {
     "iopub.execute_input": "2025-08-05T16:17:33.411727Z",
     "iopub.status.busy": "2025-08-05T16:17:33.410708Z",
     "iopub.status.idle": "2025-08-05T16:17:33.418068Z",
     "shell.execute_reply": "2025-08-05T16:17:33.416958Z"
    },
    "papermill": {
     "duration": 0.041894,
     "end_time": "2025-08-05T16:17:33.420105",
     "exception": false,
     "start_time": "2025-08-05T16:17:33.378211",
     "status": "completed"
    },
    "tags": []
   },
   "outputs": [],
   "source": [
    "def filter_sub_universe_data(sub_universe, org_test):\n",
    "    # Keep all rows — no filtering\n",
    "    keep_rows_mask = np.ones(org_test.shape[0], dtype=bool)\n",
    "\n",
    "    print(f\"[INFO] Keeping all rows: {keep_rows_mask.sum()} rows retained.\")\n",
    "    return keep_rows_mask"
   ]
  },
  {
   "cell_type": "code",
   "execution_count": 66,
   "id": "4a759155",
   "metadata": {
    "execution": {
     "iopub.execute_input": "2025-08-05T16:17:33.484829Z",
     "iopub.status.busy": "2025-08-05T16:17:33.484265Z",
     "iopub.status.idle": "2025-08-05T16:17:46.917566Z",
     "shell.execute_reply": "2025-08-05T16:17:46.916079Z"
    },
    "papermill": {
     "duration": 13.467799,
     "end_time": "2025-08-05T16:17:46.920048",
     "exception": false,
     "start_time": "2025-08-05T16:17:33.452249",
     "status": "completed"
    },
    "tags": []
   },
   "outputs": [
    {
     "name": "stdout",
     "output_type": "stream",
     "text": [
      "Stopping execution_time clock.\n",
      "[INFO] Keeping all rows: 89710 rows retained.\n"
     ]
    },
    {
     "name": "stdout",
     "output_type": "stream",
     "text": [
      "[INFO] Keeping all rows: 89710 rows retained.\n"
     ]
    },
    {
     "name": "stdout",
     "output_type": "stream",
     "text": [
      "[INFO] Keeping all rows: 89710 rows retained.\n"
     ]
    },
    {
     "name": "stdout",
     "output_type": "stream",
     "text": [
      "[INFO] Keeping all rows: 89710 rows retained.\n"
     ]
    },
    {
     "data": {
      "text/html": [
       "<div>\n",
       "<style scoped>\n",
       "    .dataframe tbody tr th:only-of-type {\n",
       "        vertical-align: middle;\n",
       "    }\n",
       "\n",
       "    .dataframe tbody tr th {\n",
       "        vertical-align: top;\n",
       "    }\n",
       "\n",
       "    .dataframe thead th {\n",
       "        text-align: right;\n",
       "    }\n",
       "</style>\n",
       "<table border=\"1\" class=\"dataframe\">\n",
       "  <thead>\n",
       "    <tr style=\"text-align: right;\">\n",
       "      <th></th>\n",
       "      <th>run_no</th>\n",
       "      <th>universe_id</th>\n",
       "      <th>universe_settings</th>\n",
       "      <th>execution_time</th>\n",
       "      <th>test_size_n</th>\n",
       "      <th>test_size_frac</th>\n",
       "      <th>fair_main_equalized_odds_difference</th>\n",
       "      <th>fair_main_equalized_odds_ratio</th>\n",
       "      <th>fair_main_demographic_parity_difference</th>\n",
       "      <th>fair_main_demographic_parity_ratio</th>\n",
       "      <th>...</th>\n",
       "      <th>perf_grp_precision_0</th>\n",
       "      <th>perf_grp_precision_1</th>\n",
       "      <th>perf_grp_false positive rate_0</th>\n",
       "      <th>perf_grp_false positive rate_1</th>\n",
       "      <th>perf_grp_false negative rate_0</th>\n",
       "      <th>perf_grp_false negative rate_1</th>\n",
       "      <th>perf_grp_selection rate_0</th>\n",
       "      <th>perf_grp_selection rate_1</th>\n",
       "      <th>perf_grp_count_0</th>\n",
       "      <th>perf_grp_count_1</th>\n",
       "    </tr>\n",
       "  </thead>\n",
       "  <tbody>\n",
       "    <tr>\n",
       "      <th>0</th>\n",
       "      <td>15</td>\n",
       "      <td>683765583719c3b652cda582b2308691</td>\n",
       "      <td>{\"cutoff\": \"quantile_0.1\", \"eval_fairness_grou...</td>\n",
       "      <td>30.415802</td>\n",
       "      <td>89710</td>\n",
       "      <td>1.0</td>\n",
       "      <td>0.087232</td>\n",
       "      <td>0.908877</td>\n",
       "      <td>0.078739</td>\n",
       "      <td>0.918041</td>\n",
       "      <td>...</td>\n",
       "      <td>NaN</td>\n",
       "      <td>NaN</td>\n",
       "      <td>NaN</td>\n",
       "      <td>NaN</td>\n",
       "      <td>NaN</td>\n",
       "      <td>NaN</td>\n",
       "      <td>NaN</td>\n",
       "      <td>NaN</td>\n",
       "      <td>NaN</td>\n",
       "      <td>NaN</td>\n",
       "    </tr>\n",
       "    <tr>\n",
       "      <th>0</th>\n",
       "      <td>15</td>\n",
       "      <td>683765583719c3b652cda582b2308691</td>\n",
       "      <td>{\"cutoff\": \"quantile_0.1\", \"eval_fairness_grou...</td>\n",
       "      <td>30.415802</td>\n",
       "      <td>89710</td>\n",
       "      <td>1.0</td>\n",
       "      <td>0.087232</td>\n",
       "      <td>0.908877</td>\n",
       "      <td>0.078739</td>\n",
       "      <td>0.918041</td>\n",
       "      <td>...</td>\n",
       "      <td>0.118431</td>\n",
       "      <td>0.143855</td>\n",
       "      <td>0.957297</td>\n",
       "      <td>0.870065</td>\n",
       "      <td>0.013091</td>\n",
       "      <td>0.039825</td>\n",
       "      <td>0.960711</td>\n",
       "      <td>0.881972</td>\n",
       "      <td>20540.0</td>\n",
       "      <td>69170.0</td>\n",
       "    </tr>\n",
       "    <tr>\n",
       "      <th>0</th>\n",
       "      <td>15</td>\n",
       "      <td>683765583719c3b652cda582b2308691</td>\n",
       "      <td>{\"cutoff\": \"quantile_0.25\", \"eval_fairness_gro...</td>\n",
       "      <td>30.415802</td>\n",
       "      <td>89710</td>\n",
       "      <td>1.0</td>\n",
       "      <td>0.164460</td>\n",
       "      <td>0.807611</td>\n",
       "      <td>0.148329</td>\n",
       "      <td>0.828395</td>\n",
       "      <td>...</td>\n",
       "      <td>NaN</td>\n",
       "      <td>NaN</td>\n",
       "      <td>NaN</td>\n",
       "      <td>NaN</td>\n",
       "      <td>NaN</td>\n",
       "      <td>NaN</td>\n",
       "      <td>NaN</td>\n",
       "      <td>NaN</td>\n",
       "      <td>NaN</td>\n",
       "      <td>NaN</td>\n",
       "    </tr>\n",
       "    <tr>\n",
       "      <th>0</th>\n",
       "      <td>15</td>\n",
       "      <td>683765583719c3b652cda582b2308691</td>\n",
       "      <td>{\"cutoff\": \"quantile_0.25\", \"eval_fairness_gro...</td>\n",
       "      <td>30.415802</td>\n",
       "      <td>89710</td>\n",
       "      <td>1.0</td>\n",
       "      <td>0.164460</td>\n",
       "      <td>0.807611</td>\n",
       "      <td>0.148329</td>\n",
       "      <td>0.828395</td>\n",
       "      <td>...</td>\n",
       "      <td>0.125042</td>\n",
       "      <td>0.163241</td>\n",
       "      <td>0.854832</td>\n",
       "      <td>0.690371</td>\n",
       "      <td>0.062500</td>\n",
       "      <td>0.115427</td>\n",
       "      <td>0.864362</td>\n",
       "      <td>0.716033</td>\n",
       "      <td>20540.0</td>\n",
       "      <td>69170.0</td>\n",
       "    </tr>\n",
       "  </tbody>\n",
       "</table>\n",
       "<p>4 rows × 50 columns</p>\n",
       "</div>"
      ],
      "text/plain": [
       "  run_no                       universe_id  \\\n",
       "0     15  683765583719c3b652cda582b2308691   \n",
       "0     15  683765583719c3b652cda582b2308691   \n",
       "0     15  683765583719c3b652cda582b2308691   \n",
       "0     15  683765583719c3b652cda582b2308691   \n",
       "\n",
       "                                   universe_settings  execution_time  \\\n",
       "0  {\"cutoff\": \"quantile_0.1\", \"eval_fairness_grou...       30.415802   \n",
       "0  {\"cutoff\": \"quantile_0.1\", \"eval_fairness_grou...       30.415802   \n",
       "0  {\"cutoff\": \"quantile_0.25\", \"eval_fairness_gro...       30.415802   \n",
       "0  {\"cutoff\": \"quantile_0.25\", \"eval_fairness_gro...       30.415802   \n",
       "\n",
       "   test_size_n  test_size_frac  fair_main_equalized_odds_difference  \\\n",
       "0        89710             1.0                             0.087232   \n",
       "0        89710             1.0                             0.087232   \n",
       "0        89710             1.0                             0.164460   \n",
       "0        89710             1.0                             0.164460   \n",
       "\n",
       "   fair_main_equalized_odds_ratio  fair_main_demographic_parity_difference  \\\n",
       "0                        0.908877                                 0.078739   \n",
       "0                        0.908877                                 0.078739   \n",
       "0                        0.807611                                 0.148329   \n",
       "0                        0.807611                                 0.148329   \n",
       "\n",
       "   fair_main_demographic_parity_ratio  ...  perf_grp_precision_0  \\\n",
       "0                            0.918041  ...                   NaN   \n",
       "0                            0.918041  ...              0.118431   \n",
       "0                            0.828395  ...                   NaN   \n",
       "0                            0.828395  ...              0.125042   \n",
       "\n",
       "   perf_grp_precision_1  perf_grp_false positive rate_0  \\\n",
       "0                   NaN                             NaN   \n",
       "0              0.143855                        0.957297   \n",
       "0                   NaN                             NaN   \n",
       "0              0.163241                        0.854832   \n",
       "\n",
       "   perf_grp_false positive rate_1  perf_grp_false negative rate_0  \\\n",
       "0                             NaN                             NaN   \n",
       "0                        0.870065                        0.013091   \n",
       "0                             NaN                             NaN   \n",
       "0                        0.690371                        0.062500   \n",
       "\n",
       "   perf_grp_false negative rate_1  perf_grp_selection rate_0  \\\n",
       "0                             NaN                        NaN   \n",
       "0                        0.039825                   0.960711   \n",
       "0                             NaN                        NaN   \n",
       "0                        0.115427                   0.864362   \n",
       "\n",
       "   perf_grp_selection rate_1  perf_grp_count_0  perf_grp_count_1  \n",
       "0                        NaN               NaN               NaN  \n",
       "0                   0.881972           20540.0           69170.0  \n",
       "0                        NaN               NaN               NaN  \n",
       "0                   0.716033           20540.0           69170.0  \n",
       "\n",
       "[4 rows x 50 columns]"
      ]
     },
     "execution_count": 66,
     "metadata": {},
     "output_type": "execute_result"
    }
   ],
   "source": [
    "final_output = universe_analysis.generate_final_output(\n",
    "    y_pred_prob=probs_test,\n",
    "    y_test=y_true,\n",
    "    org_test=org_test,\n",
    "    filter_data=filter_sub_universe_data,\n",
    "    cp_metrics_df=cp_metrics_df,\n",
    "    save=True,\n",
    ")\n",
    "final_output"
   ]
  }
 ],
 "metadata": {
  "celltoolbar": "Tags",
  "kernelspec": {
   "display_name": "Python (CMA Fairness)",
   "language": "python",
   "name": "cma_fair_env"
  },
  "language_info": {
   "codemirror_mode": {
    "name": "ipython",
    "version": 3
   },
   "file_extension": ".py",
   "mimetype": "text/x-python",
   "name": "python",
   "nbconvert_exporter": "python",
   "pygments_lexer": "ipython3",
   "version": "3.10.12"
  },
  "papermill": {
   "default_parameters": {},
   "duration": 48.755674,
   "end_time": "2025-08-05T16:17:47.887471",
   "environment_variables": {},
   "exception": null,
   "input_path": "universe_analysis.ipynb",
   "output_path": "output/runs/15/notebooks/m_15-683765583719c3b652cda582b2308691.ipynb",
   "parameters": {
    "output_dir": "output",
    "run_no": "15",
    "seed": "2023",
    "universe": "{\"cutoff\": [\"quantile_0.1\", \"quantile_0.25\"], \"eval_fairness_grouping\": [\"majority-minority\", \"nationality-all\"], \"exclude_features\": \"nationality\", \"exclude_subgroups\": \"keep-all\", \"model\": \"penalized_logreg\", \"scale\": \"scale\", \"training_size\": \"1k\", \"training_year\": \"2012_14\"}",
    "universe_id": "683765583719c3b652cda582b2308691"
   },
   "start_time": "2025-08-05T16:16:59.131797",
   "version": "2.6.0"
  }
 },
 "nbformat": 4,
 "nbformat_minor": 5
}