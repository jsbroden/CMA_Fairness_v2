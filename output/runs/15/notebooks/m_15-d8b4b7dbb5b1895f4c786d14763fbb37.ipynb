{
 "cells": [
  {
   "cell_type": "code",
   "execution_count": 1,
   "id": "f159f837-637b-42ba-96b5-ec9a68c44524",
   "metadata": {
    "execution": {
     "iopub.execute_input": "2025-08-05T16:10:00.536112Z",
     "iopub.status.busy": "2025-08-05T16:10:00.535306Z",
     "iopub.status.idle": "2025-08-05T16:10:00.549234Z",
     "shell.execute_reply": "2025-08-05T16:10:00.548362Z"
    },
    "papermill": {
     "duration": 0.042391,
     "end_time": "2025-08-05T16:10:00.561148",
     "exception": false,
     "start_time": "2025-08-05T16:10:00.518757",
     "status": "completed"
    },
    "tags": []
   },
   "outputs": [
    {
     "name": "stdout",
     "output_type": "stream",
     "text": [
      "/dss/dsshome1/0C/ra93lal2/cma/CMA_Fairness_v2\n"
     ]
    },
    {
     "name": "stderr",
     "output_type": "stream",
     "text": [
      "/dss/dsshome1/0C/ra93lal2/.local/share/virtualenvs/CMA_Fairness_v2-3j10GkSs/lib/python3.10/site-packages/IPython/core/magics/osm.py:393: UserWarning: This is now an optional IPython functionality, using bookmarks requires you to install the `pickleshare` library.\n",
      "  bkms = self.shell.db.get('bookmarks', {})\n",
      "/dss/dsshome1/0C/ra93lal2/.local/share/virtualenvs/CMA_Fairness_v2-3j10GkSs/lib/python3.10/site-packages/IPython/core/magics/osm.py:417: UserWarning: This is now an optional IPython functionality, setting dhist requires you to install the `pickleshare` library.\n",
      "  self.shell.db['dhist'] = compress_dhist(dhist)[-100:]\n"
     ]
    }
   ],
   "source": [
    "%cd ~/cma/CMA_Fairness_v2"
   ]
  },
  {
   "cell_type": "markdown",
   "id": "de2603b9",
   "metadata": {
    "papermill": {
     "duration": 0.015929,
     "end_time": "2025-08-05T16:10:00.601502",
     "exception": false,
     "start_time": "2025-08-05T16:10:00.585573",
     "status": "completed"
    },
    "tags": []
   },
   "source": [
    "The following cell holds the definition of our parameters, these values can be overriden by rendering the with e.g. the following command:\n",
    "\n",
    "papermill -p alpha 0.2 -p ratio 0.3 universe_analysis.ipynb output/test_run.ipynb"
   ]
  },
  {
   "cell_type": "code",
   "execution_count": 2,
   "id": "a80968a0-40bb-4fa9-85ef-2d5eefb01975",
   "metadata": {
    "execution": {
     "iopub.execute_input": "2025-08-05T16:10:00.637955Z",
     "iopub.status.busy": "2025-08-05T16:10:00.637287Z",
     "iopub.status.idle": "2025-08-05T16:10:00.643413Z",
     "shell.execute_reply": "2025-08-05T16:10:00.642491Z"
    },
    "papermill": {
     "duration": 0.028234,
     "end_time": "2025-08-05T16:10:00.645077",
     "exception": false,
     "start_time": "2025-08-05T16:10:00.616843",
     "status": "completed"
    },
    "tags": []
   },
   "outputs": [
    {
     "name": "stdout",
     "output_type": "stream",
     "text": [
      "Current working directory: /dss/dsshome1/0C/ra93lal2/cma/CMA_Fairness_v2\n"
     ]
    }
   ],
   "source": [
    "import os\n",
    "print(\"Current working directory:\", os.getcwd())"
   ]
  },
  {
   "cell_type": "code",
   "execution_count": 3,
   "id": "2dce4c03",
   "metadata": {
    "execution": {
     "iopub.execute_input": "2025-08-05T16:10:00.678993Z",
     "iopub.status.busy": "2025-08-05T16:10:00.677988Z",
     "iopub.status.idle": "2025-08-05T16:10:00.684675Z",
     "shell.execute_reply": "2025-08-05T16:10:00.683745Z"
    },
    "papermill": {
     "duration": 0.025211,
     "end_time": "2025-08-05T16:10:00.686126",
     "exception": false,
     "start_time": "2025-08-05T16:10:00.660915",
     "status": "completed"
    },
    "tags": [
     "parameters"
    ]
   },
   "outputs": [],
   "source": [
    "run_no = 0\n",
    "universe_id = \"test\"\n",
    "universe = {\n",
    "    \"training_size\": \"25k\", # \"25k\", \"5k\", \"1k\"\n",
    "    \"training_year\": \"2014\", # \"2014\", \"2012_14\", \"2010_14\"\n",
    "    \"scale\": \"scale\", # \"scale\", \"do-not-scale\",\n",
    "    \"model\": \"elasticnet\", # \"logreg\", \"penalized_logreg\", \"rf\", \"gbm\", \"elasticnet\"\n",
    "    \"cutoff\": [\"quantile_0.15\", \"quantile_0.30\"],\n",
    "    \"exclude_features\": \"age\", # \"none\", \"nationality\", \"sex\", \"nationality-sex\", \"age\"\n",
    "    \"exclude_subgroups\": \"keep-all\", # \"keep-all\", \"drop-non-german\"\n",
    "    \"eval_fairness_grouping\": [\"majority-minority\", \"nationality-all\"]\n",
    "}\n",
    "\n",
    "output_dir=\"./output\"\n",
    "seed=0"
   ]
  },
  {
   "cell_type": "code",
   "execution_count": 4,
   "id": "29027e3d",
   "metadata": {
    "execution": {
     "iopub.execute_input": "2025-08-05T16:10:00.719954Z",
     "iopub.status.busy": "2025-08-05T16:10:00.719624Z",
     "iopub.status.idle": "2025-08-05T16:10:00.724614Z",
     "shell.execute_reply": "2025-08-05T16:10:00.723556Z"
    },
    "papermill": {
     "duration": 0.022287,
     "end_time": "2025-08-05T16:10:00.726192",
     "exception": false,
     "start_time": "2025-08-05T16:10:00.703905",
     "status": "completed"
    },
    "tags": [
     "injected-parameters"
    ]
   },
   "outputs": [],
   "source": [
    "# Parameters\n",
    "universe_id = \"d8b4b7dbb5b1895f4c786d14763fbb37\"\n",
    "run_no = \"15\"\n",
    "universe = \"{\\\"cutoff\\\": [\\\"quantile_0.1\\\", \\\"quantile_0.25\\\"], \\\"eval_fairness_grouping\\\": [\\\"majority-minority\\\", \\\"nationality-all\\\"], \\\"exclude_features\\\": \\\"nationality\\\", \\\"exclude_subgroups\\\": \\\"drop-non-german\\\", \\\"model\\\": \\\"penalized_logreg\\\", \\\"scale\\\": \\\"do-not-scale\\\", \\\"training_size\\\": \\\"1k\\\", \\\"training_year\\\": \\\"2014\\\"}\"\n",
    "output_dir = \"output\"\n",
    "seed = \"2023\"\n"
   ]
  },
  {
   "cell_type": "code",
   "execution_count": 5,
   "id": "1650acaf",
   "metadata": {
    "execution": {
     "iopub.execute_input": "2025-08-05T16:10:00.759729Z",
     "iopub.status.busy": "2025-08-05T16:10:00.759387Z",
     "iopub.status.idle": "2025-08-05T16:10:00.763666Z",
     "shell.execute_reply": "2025-08-05T16:10:00.762807Z"
    },
    "papermill": {
     "duration": 0.023454,
     "end_time": "2025-08-05T16:10:00.765168",
     "exception": false,
     "start_time": "2025-08-05T16:10:00.741714",
     "status": "completed"
    },
    "tags": []
   },
   "outputs": [],
   "source": [
    "import json\n",
    "if isinstance(universe, str):\n",
    "    universe = json.loads(universe)"
   ]
  },
  {
   "cell_type": "code",
   "execution_count": 6,
   "id": "16620c48",
   "metadata": {
    "execution": {
     "iopub.execute_input": "2025-08-05T16:10:00.798368Z",
     "iopub.status.busy": "2025-08-05T16:10:00.797577Z",
     "iopub.status.idle": "2025-08-05T16:10:00.841312Z",
     "shell.execute_reply": "2025-08-05T16:10:00.839741Z"
    },
    "papermill": {
     "duration": 0.062267,
     "end_time": "2025-08-05T16:10:00.843243",
     "exception": false,
     "start_time": "2025-08-05T16:10:00.780976",
     "status": "completed"
    },
    "tags": []
   },
   "outputs": [],
   "source": [
    "# Auto-reload the custom package\n",
    "%load_ext autoreload\n",
    "%autoreload 1\n",
    "%aimport fairness_multiverse"
   ]
  },
  {
   "cell_type": "code",
   "execution_count": 7,
   "id": "01c5c9f3",
   "metadata": {
    "execution": {
     "iopub.execute_input": "2025-08-05T16:10:00.883379Z",
     "iopub.status.busy": "2025-08-05T16:10:00.882926Z",
     "iopub.status.idle": "2025-08-05T16:10:02.743627Z",
     "shell.execute_reply": "2025-08-05T16:10:02.742860Z"
    },
    "papermill": {
     "duration": 1.883093,
     "end_time": "2025-08-05T16:10:02.745333",
     "exception": false,
     "start_time": "2025-08-05T16:10:00.862240",
     "status": "completed"
    },
    "tags": []
   },
   "outputs": [],
   "source": [
    "from fairness_multiverse.universe import UniverseAnalysis\n",
    "\n",
    "universe_analysis = UniverseAnalysis(\n",
    "    run_no = run_no,\n",
    "    universe_id = universe_id,\n",
    "    universe = universe,\n",
    "    output_dir=output_dir,\n",
    ")"
   ]
  },
  {
   "cell_type": "code",
   "execution_count": 8,
   "id": "106241f5",
   "metadata": {
    "execution": {
     "iopub.execute_input": "2025-08-05T16:10:02.782331Z",
     "iopub.status.busy": "2025-08-05T16:10:02.781722Z",
     "iopub.status.idle": "2025-08-05T16:10:02.788641Z",
     "shell.execute_reply": "2025-08-05T16:10:02.787639Z"
    },
    "papermill": {
     "duration": 0.027457,
     "end_time": "2025-08-05T16:10:02.790374",
     "exception": false,
     "start_time": "2025-08-05T16:10:02.762917",
     "status": "completed"
    },
    "tags": []
   },
   "outputs": [
    {
     "name": "stdout",
     "output_type": "stream",
     "text": [
      "Using Seed: 2023\n"
     ]
    }
   ],
   "source": [
    "import numpy as np\n",
    "parsed_seed = int(seed)\n",
    "np.random.seed(parsed_seed)\n",
    "print(f\"Using Seed: {parsed_seed}\")"
   ]
  },
  {
   "cell_type": "markdown",
   "id": "e0ebdc57",
   "metadata": {
    "papermill": {
     "duration": 0.018337,
     "end_time": "2025-08-05T16:10:02.826086",
     "exception": false,
     "start_time": "2025-08-05T16:10:02.807749",
     "status": "completed"
    },
    "tags": []
   },
   "source": [
    "# Loading Data"
   ]
  },
  {
   "cell_type": "code",
   "execution_count": 9,
   "id": "f0496b8a",
   "metadata": {
    "execution": {
     "iopub.execute_input": "2025-08-05T16:10:02.864198Z",
     "iopub.status.busy": "2025-08-05T16:10:02.863519Z",
     "iopub.status.idle": "2025-08-05T16:10:13.830508Z",
     "shell.execute_reply": "2025-08-05T16:10:13.829329Z"
    },
    "papermill": {
     "duration": 10.987581,
     "end_time": "2025-08-05T16:10:13.832220",
     "exception": false,
     "start_time": "2025-08-05T16:10:02.844639",
     "status": "completed"
    },
    "tags": []
   },
   "outputs": [
    {
     "name": "stdout",
     "output_type": "stream",
     "text": [
      "Loading SIAB data from cache: data/siab_cached.csv.gz\n"
     ]
    },
    {
     "name": "stdout",
     "output_type": "stream",
     "text": [
      "(643690, 164)\n"
     ]
    }
   ],
   "source": [
    "from pathlib import Path\n",
    "import pandas as pd\n",
    "\n",
    "# File paths\n",
    "raw_file = Path(\"data/raw/siab.csv\")\n",
    "cache_file = Path(\"data/siab_cached.csv.gz\")\n",
    "\n",
    "# Ensure cache directory exists\n",
    "cache_file.parent.mkdir(parents=True, exist_ok=True)\n",
    "\n",
    "# Load with simple caching\n",
    "if cache_file.exists():\n",
    "    print(f\"Loading SIAB data from cache: {cache_file}\")\n",
    "    siab = pd.read_csv(cache_file, compression='gzip')\n",
    "else:\n",
    "    print(f\"Cache not found. Reading raw SIAB data: {raw_file}\")\n",
    "    siab = pd.read_csv(raw_file)\n",
    "    siab.to_csv(cache_file, index=False, compression='gzip')\n",
    "    print(f\"Cached SIAB data to: {cache_file}\")\n",
    "\n",
    "print(siab.shape)"
   ]
  },
  {
   "cell_type": "code",
   "execution_count": 10,
   "id": "db0ca512-5f53-4dba-abdb-a2888bca41ba",
   "metadata": {
    "execution": {
     "iopub.execute_input": "2025-08-05T16:10:13.872783Z",
     "iopub.status.busy": "2025-08-05T16:10:13.871925Z",
     "iopub.status.idle": "2025-08-05T16:10:13.878891Z",
     "shell.execute_reply": "2025-08-05T16:10:13.877958Z"
    },
    "papermill": {
     "duration": 0.028321,
     "end_time": "2025-08-05T16:10:13.880893",
     "exception": false,
     "start_time": "2025-08-05T16:10:13.852572",
     "status": "completed"
    },
    "tags": []
   },
   "outputs": [],
   "source": [
    "#siab"
   ]
  },
  {
   "cell_type": "markdown",
   "id": "997051c5-15bd-4b69-9786-c3001a3ce484",
   "metadata": {
    "papermill": {
     "duration": 0.017283,
     "end_time": "2025-08-05T16:10:13.917682",
     "exception": false,
     "start_time": "2025-08-05T16:10:13.900399",
     "status": "completed"
    },
    "tags": []
   },
   "source": [
    "# Splitting Data and Setting Training Data Size"
   ]
  },
  {
   "cell_type": "code",
   "execution_count": 11,
   "id": "aea9c6ef-6f46-42c8-85eb-5a62025c1508",
   "metadata": {
    "execution": {
     "iopub.execute_input": "2025-08-05T16:10:13.953757Z",
     "iopub.status.busy": "2025-08-05T16:10:13.953297Z",
     "iopub.status.idle": "2025-08-05T16:10:14.150235Z",
     "shell.execute_reply": "2025-08-05T16:10:14.149251Z"
    },
    "papermill": {
     "duration": 0.21711,
     "end_time": "2025-08-05T16:10:14.152158",
     "exception": false,
     "start_time": "2025-08-05T16:10:13.935048",
     "status": "completed"
    },
    "tags": []
   },
   "outputs": [],
   "source": [
    "from fairness_multiverse.universe import sample_by_year_size\n",
    "\n",
    "siab_train = sample_by_year_size(siab,\n",
    "                               training_year=universe[\"training_year\"],\n",
    "                               training_size=universe[\"training_size\"])"
   ]
  },
  {
   "cell_type": "code",
   "execution_count": 12,
   "id": "8d3afb32-789d-442c-8d5d-9f5aa8dd2eed",
   "metadata": {
    "execution": {
     "iopub.execute_input": "2025-08-05T16:10:14.190557Z",
     "iopub.status.busy": "2025-08-05T16:10:14.189628Z",
     "iopub.status.idle": "2025-08-05T16:10:14.194647Z",
     "shell.execute_reply": "2025-08-05T16:10:14.193441Z"
    },
    "papermill": {
     "duration": 0.026341,
     "end_time": "2025-08-05T16:10:14.196620",
     "exception": false,
     "start_time": "2025-08-05T16:10:14.170279",
     "status": "completed"
    },
    "tags": []
   },
   "outputs": [],
   "source": [
    "#siab_train.shape"
   ]
  },
  {
   "cell_type": "code",
   "execution_count": 13,
   "id": "d582db68-1a4c-47fb-84fc-08518dc1975a",
   "metadata": {
    "execution": {
     "iopub.execute_input": "2025-08-05T16:10:14.231394Z",
     "iopub.status.busy": "2025-08-05T16:10:14.230680Z",
     "iopub.status.idle": "2025-08-05T16:10:14.235582Z",
     "shell.execute_reply": "2025-08-05T16:10:14.234700Z"
    },
    "papermill": {
     "duration": 0.023433,
     "end_time": "2025-08-05T16:10:14.237339",
     "exception": false,
     "start_time": "2025-08-05T16:10:14.213906",
     "status": "completed"
    },
    "tags": []
   },
   "outputs": [],
   "source": [
    "#display(siab_train.groupby(\"year\").size())"
   ]
  },
  {
   "cell_type": "code",
   "execution_count": 14,
   "id": "a561edb4-d032-42cb-8256-22eac1111c64",
   "metadata": {
    "execution": {
     "iopub.execute_input": "2025-08-05T16:10:14.272411Z",
     "iopub.status.busy": "2025-08-05T16:10:14.271710Z",
     "iopub.status.idle": "2025-08-05T16:10:14.493316Z",
     "shell.execute_reply": "2025-08-05T16:10:14.492239Z"
    },
    "papermill": {
     "duration": 0.241451,
     "end_time": "2025-08-05T16:10:14.495354",
     "exception": false,
     "start_time": "2025-08-05T16:10:14.253903",
     "status": "completed"
    },
    "tags": []
   },
   "outputs": [],
   "source": [
    "#siab_train = siab_s[siab_s.year < 2015]\n",
    "siab_calib = siab[siab.year == 2015]\n",
    "siab_test = siab[siab.year == 2016]"
   ]
  },
  {
   "cell_type": "code",
   "execution_count": 15,
   "id": "472de16f-c3db-4916-846b-1f0de9cf1746",
   "metadata": {
    "execution": {
     "iopub.execute_input": "2025-08-05T16:10:14.533547Z",
     "iopub.status.busy": "2025-08-05T16:10:14.532720Z",
     "iopub.status.idle": "2025-08-05T16:10:14.539241Z",
     "shell.execute_reply": "2025-08-05T16:10:14.538316Z"
    },
    "papermill": {
     "duration": 0.026603,
     "end_time": "2025-08-05T16:10:14.541259",
     "exception": false,
     "start_time": "2025-08-05T16:10:14.514656",
     "status": "completed"
    },
    "tags": []
   },
   "outputs": [],
   "source": [
    "X_train = siab_train.iloc[:,4:164]\n",
    "y_train = siab_train.iloc[:, [3]]"
   ]
  },
  {
   "cell_type": "code",
   "execution_count": 16,
   "id": "828c96af-f43a-4ed6-ba47-8ac73a47d56c",
   "metadata": {
    "execution": {
     "iopub.execute_input": "2025-08-05T16:10:14.578163Z",
     "iopub.status.busy": "2025-08-05T16:10:14.577392Z",
     "iopub.status.idle": "2025-08-05T16:10:14.628967Z",
     "shell.execute_reply": "2025-08-05T16:10:14.627739Z"
    },
    "papermill": {
     "duration": 0.072575,
     "end_time": "2025-08-05T16:10:14.631168",
     "exception": false,
     "start_time": "2025-08-05T16:10:14.558593",
     "status": "completed"
    },
    "tags": []
   },
   "outputs": [],
   "source": [
    "X_calib = siab_calib.iloc[:,4:164]\n",
    "y_calib = siab_calib.iloc[:, [3]]"
   ]
  },
  {
   "cell_type": "code",
   "execution_count": 17,
   "id": "c34be9c3-6bd6-476e-acd3-845840e303be",
   "metadata": {
    "execution": {
     "iopub.execute_input": "2025-08-05T16:10:14.668943Z",
     "iopub.status.busy": "2025-08-05T16:10:14.668214Z",
     "iopub.status.idle": "2025-08-05T16:10:14.719877Z",
     "shell.execute_reply": "2025-08-05T16:10:14.718679Z"
    },
    "papermill": {
     "duration": 0.071843,
     "end_time": "2025-08-05T16:10:14.721615",
     "exception": false,
     "start_time": "2025-08-05T16:10:14.649772",
     "status": "completed"
    },
    "tags": []
   },
   "outputs": [],
   "source": [
    "X_test = siab_test.iloc[:,4:164]\n",
    "y_true = siab_test.iloc[:, [3]]"
   ]
  },
  {
   "cell_type": "code",
   "execution_count": 18,
   "id": "e6c733c5",
   "metadata": {
    "execution": {
     "iopub.execute_input": "2025-08-05T16:10:14.759078Z",
     "iopub.status.busy": "2025-08-05T16:10:14.758367Z",
     "iopub.status.idle": "2025-08-05T16:10:14.851425Z",
     "shell.execute_reply": "2025-08-05T16:10:14.850386Z"
    },
    "papermill": {
     "duration": 0.113959,
     "end_time": "2025-08-05T16:10:14.853464",
     "exception": false,
     "start_time": "2025-08-05T16:10:14.739505",
     "status": "completed"
    },
    "tags": []
   },
   "outputs": [],
   "source": [
    "# Auxiliary data needed downstream in the pipeline\n",
    "\n",
    "org_train = X_train.copy()\n",
    "org_test = X_test.copy()\n",
    "org_calib = X_calib.copy()"
   ]
  },
  {
   "cell_type": "markdown",
   "id": "0a4a1b33",
   "metadata": {
    "papermill": {
     "duration": 0.016595,
     "end_time": "2025-08-05T16:10:14.888500",
     "exception": false,
     "start_time": "2025-08-05T16:10:14.871905",
     "status": "completed"
    },
    "tags": []
   },
   "source": [
    "# Preprocessing Data"
   ]
  },
  {
   "cell_type": "code",
   "execution_count": 19,
   "id": "ca879031",
   "metadata": {
    "execution": {
     "iopub.execute_input": "2025-08-05T16:10:14.924514Z",
     "iopub.status.busy": "2025-08-05T16:10:14.923851Z",
     "iopub.status.idle": "2025-08-05T16:10:14.930135Z",
     "shell.execute_reply": "2025-08-05T16:10:14.929022Z"
    },
    "papermill": {
     "duration": 0.026776,
     "end_time": "2025-08-05T16:10:14.931926",
     "exception": false,
     "start_time": "2025-08-05T16:10:14.905150",
     "status": "completed"
    },
    "tags": []
   },
   "outputs": [],
   "source": [
    "# EXCLUDE PROTECTED FEATURES\n",
    "# ----------------------\n",
    "# \"exclude_features\": \"none\", # \"nationality\", \"sex\", \"nationality-sex\"\n",
    "\n",
    "excluded_features = universe[\"exclude_features\"].split(\"-\") # split, e.g.: \"nationality-sex\" -> [\"nationality\", \"sex\"]\n",
    "excluded_features_dictionary = {\n",
    "    \"nationality\": [\"maxdeutsch1\", \"maxdeutsch.Missing.\"],\n",
    "    \"sex\": [\"frau1\"],\n",
    "    \"age\": [\"age\"],\n",
    "}"
   ]
  },
  {
   "cell_type": "code",
   "execution_count": 20,
   "id": "b745ac60",
   "metadata": {
    "execution": {
     "iopub.execute_input": "2025-08-05T16:10:14.968237Z",
     "iopub.status.busy": "2025-08-05T16:10:14.967467Z",
     "iopub.status.idle": "2025-08-05T16:10:14.973394Z",
     "shell.execute_reply": "2025-08-05T16:10:14.972376Z"
    },
    "papermill": {
     "duration": 0.025735,
     "end_time": "2025-08-05T16:10:14.975351",
     "exception": false,
     "start_time": "2025-08-05T16:10:14.949616",
     "status": "completed"
    },
    "tags": []
   },
   "outputs": [],
   "source": [
    "# Code nice names to column names\n",
    "\n",
    "excluded_features_columns = [\n",
    "    excluded_features_dictionary[f] for f in excluded_features if len(f) > 0 and f != \"none\"\n",
    "]"
   ]
  },
  {
   "cell_type": "code",
   "execution_count": 21,
   "id": "f84f73a2",
   "metadata": {
    "execution": {
     "iopub.execute_input": "2025-08-05T16:10:15.014726Z",
     "iopub.status.busy": "2025-08-05T16:10:15.014192Z",
     "iopub.status.idle": "2025-08-05T16:10:15.022049Z",
     "shell.execute_reply": "2025-08-05T16:10:15.021168Z"
    },
    "papermill": {
     "duration": 0.033272,
     "end_time": "2025-08-05T16:10:15.027009",
     "exception": false,
     "start_time": "2025-08-05T16:10:14.993737",
     "status": "completed"
    },
    "tags": []
   },
   "outputs": [],
   "source": [
    "from utils import flatten_once\n",
    "\n",
    "excluded_features_columns = flatten_once(excluded_features_columns)"
   ]
  },
  {
   "cell_type": "code",
   "execution_count": 22,
   "id": "884dea22",
   "metadata": {
    "execution": {
     "iopub.execute_input": "2025-08-05T16:10:15.072014Z",
     "iopub.status.busy": "2025-08-05T16:10:15.071047Z",
     "iopub.status.idle": "2025-08-05T16:10:15.079385Z",
     "shell.execute_reply": "2025-08-05T16:10:15.078193Z"
    },
    "papermill": {
     "duration": 0.032155,
     "end_time": "2025-08-05T16:10:15.081407",
     "exception": false,
     "start_time": "2025-08-05T16:10:15.049252",
     "status": "completed"
    },
    "tags": []
   },
   "outputs": [
    {
     "name": "stdout",
     "output_type": "stream",
     "text": [
      "Dropping features: ['maxdeutsch1', 'maxdeutsch.Missing.']\n"
     ]
    }
   ],
   "source": [
    "if len(excluded_features_columns) > 0:\n",
    "    print(f\"Dropping features: {excluded_features_columns}\")\n",
    "    X_train.drop(excluded_features_columns, axis=1, inplace=True)"
   ]
  },
  {
   "cell_type": "code",
   "execution_count": 23,
   "id": "95ab8b16",
   "metadata": {
    "execution": {
     "iopub.execute_input": "2025-08-05T16:10:15.126188Z",
     "iopub.status.busy": "2025-08-05T16:10:15.125299Z",
     "iopub.status.idle": "2025-08-05T16:10:15.183826Z",
     "shell.execute_reply": "2025-08-05T16:10:15.182678Z"
    },
    "papermill": {
     "duration": 0.08371,
     "end_time": "2025-08-05T16:10:15.186028",
     "exception": false,
     "start_time": "2025-08-05T16:10:15.102318",
     "status": "completed"
    },
    "tags": []
   },
   "outputs": [
    {
     "name": "stdout",
     "output_type": "stream",
     "text": [
      "Dropping features: ['maxdeutsch1', 'maxdeutsch.Missing.']\n"
     ]
    }
   ],
   "source": [
    "if len(excluded_features_columns) > 0:\n",
    "    print(f\"Dropping features: {excluded_features_columns}\")\n",
    "    X_test.drop(excluded_features_columns, axis=1, inplace=True)"
   ]
  },
  {
   "cell_type": "code",
   "execution_count": 24,
   "id": "1853aaf5-fb9f-46cb-a2b5-8ea4ae2237e4",
   "metadata": {
    "execution": {
     "iopub.execute_input": "2025-08-05T16:10:15.224885Z",
     "iopub.status.busy": "2025-08-05T16:10:15.223972Z",
     "iopub.status.idle": "2025-08-05T16:10:15.277114Z",
     "shell.execute_reply": "2025-08-05T16:10:15.276284Z"
    },
    "papermill": {
     "duration": 0.073765,
     "end_time": "2025-08-05T16:10:15.278752",
     "exception": false,
     "start_time": "2025-08-05T16:10:15.204987",
     "status": "completed"
    },
    "tags": []
   },
   "outputs": [
    {
     "name": "stdout",
     "output_type": "stream",
     "text": [
      "Dropping features: ['maxdeutsch1', 'maxdeutsch.Missing.']\n"
     ]
    }
   ],
   "source": [
    "if len(excluded_features_columns) > 0:\n",
    "    print(f\"Dropping features: {excluded_features_columns}\")\n",
    "    X_calib.drop(excluded_features_columns, axis=1, inplace=True)"
   ]
  },
  {
   "cell_type": "code",
   "execution_count": 25,
   "id": "76c4dc6d",
   "metadata": {
    "execution": {
     "iopub.execute_input": "2025-08-05T16:10:15.322157Z",
     "iopub.status.busy": "2025-08-05T16:10:15.321148Z",
     "iopub.status.idle": "2025-08-05T16:10:15.326936Z",
     "shell.execute_reply": "2025-08-05T16:10:15.325830Z"
    },
    "papermill": {
     "duration": 0.029337,
     "end_time": "2025-08-05T16:10:15.328816",
     "exception": false,
     "start_time": "2025-08-05T16:10:15.299479",
     "status": "completed"
    },
    "tags": []
   },
   "outputs": [],
   "source": [
    "# EXCLUDE CERTAIN SUBGROUPS\n",
    "# ----------------------\n",
    "\n",
    "mode = universe.get(\"exclude_subgroups\", \"keep-all\") \n",
    "# Fetches the exclude_subgroups setting from the universe dict.\n",
    "# Defaults to \"keep-all\" if the key is missing."
   ]
  },
  {
   "cell_type": "code",
   "execution_count": 26,
   "id": "21994072",
   "metadata": {
    "execution": {
     "iopub.execute_input": "2025-08-05T16:10:15.373248Z",
     "iopub.status.busy": "2025-08-05T16:10:15.372510Z",
     "iopub.status.idle": "2025-08-05T16:10:15.379634Z",
     "shell.execute_reply": "2025-08-05T16:10:15.378542Z"
    },
    "papermill": {
     "duration": 0.032845,
     "end_time": "2025-08-05T16:10:15.381675",
     "exception": false,
     "start_time": "2025-08-05T16:10:15.348830",
     "status": "completed"
    },
    "tags": []
   },
   "outputs": [],
   "source": [
    "if mode == \"keep-all\":\n",
    "    keep_mask = pd.Series(True, index=org_train.index)\n",
    "\n",
    "# org_train contains the original feature columns from features_org (in Simson)\n",
    "# features_org contains unprocessed features, for me X_train at beginning ???\n",
    "# For keep-all, creates a boolean Series (keep_mask) of all True, so no rows are removed.\n",
    "\n",
    "elif mode == \"drop-non-german\":\n",
    "    keep_mask = org_train[\"maxdeutsch1\"] == 1 # ??? what about missing values?\n",
    "\n",
    "else:\n",
    "    raise ValueError(f\"Unsupported mode for exclude_subgroups: {mode}\")"
   ]
  },
  {
   "cell_type": "code",
   "execution_count": 27,
   "id": "71651440",
   "metadata": {
    "execution": {
     "iopub.execute_input": "2025-08-05T16:10:15.425638Z",
     "iopub.status.busy": "2025-08-05T16:10:15.424591Z",
     "iopub.status.idle": "2025-08-05T16:10:15.432819Z",
     "shell.execute_reply": "2025-08-05T16:10:15.431667Z"
    },
    "papermill": {
     "duration": 0.031092,
     "end_time": "2025-08-05T16:10:15.434505",
     "exception": false,
     "start_time": "2025-08-05T16:10:15.403413",
     "status": "completed"
    },
    "tags": []
   },
   "outputs": [
    {
     "name": "stdout",
     "output_type": "stream",
     "text": [
      "Dropping 147 rows (14.70%) where mode='drop-non-german'\n"
     ]
    }
   ],
   "source": [
    "n_drop = (~keep_mask).sum() # Calculates how many rows are set to be dropped\n",
    "if n_drop > 0:\n",
    "    pct = n_drop / len(keep_mask) * 100\n",
    "    print(f\"Dropping {n_drop} rows ({pct:.2f}%) where mode='{mode}'\")"
   ]
  },
  {
   "cell_type": "code",
   "execution_count": 28,
   "id": "5fb8eee5",
   "metadata": {
    "execution": {
     "iopub.execute_input": "2025-08-05T16:10:15.481051Z",
     "iopub.status.busy": "2025-08-05T16:10:15.480077Z",
     "iopub.status.idle": "2025-08-05T16:10:15.486559Z",
     "shell.execute_reply": "2025-08-05T16:10:15.485489Z"
    },
    "papermill": {
     "duration": 0.032149,
     "end_time": "2025-08-05T16:10:15.488424",
     "exception": false,
     "start_time": "2025-08-05T16:10:15.456275",
     "status": "completed"
    },
    "tags": []
   },
   "outputs": [],
   "source": [
    "X_train = X_train[keep_mask]"
   ]
  },
  {
   "cell_type": "code",
   "execution_count": 29,
   "id": "b202bb3a",
   "metadata": {
    "execution": {
     "iopub.execute_input": "2025-08-05T16:10:15.533629Z",
     "iopub.status.busy": "2025-08-05T16:10:15.532956Z",
     "iopub.status.idle": "2025-08-05T16:10:15.539844Z",
     "shell.execute_reply": "2025-08-05T16:10:15.538752Z"
    },
    "papermill": {
     "duration": 0.031027,
     "end_time": "2025-08-05T16:10:15.541747",
     "exception": false,
     "start_time": "2025-08-05T16:10:15.510720",
     "status": "completed"
    },
    "tags": []
   },
   "outputs": [],
   "source": [
    "y_train = y_train[keep_mask]"
   ]
  },
  {
   "cell_type": "markdown",
   "id": "493e2ac3",
   "metadata": {
    "papermill": {
     "duration": 0.020763,
     "end_time": "2025-08-05T16:10:15.585695",
     "exception": false,
     "start_time": "2025-08-05T16:10:15.564932",
     "status": "completed"
    },
    "tags": []
   },
   "source": [
    "# Model Training"
   ]
  },
  {
   "cell_type": "code",
   "execution_count": 30,
   "id": "679e1268",
   "metadata": {
    "execution": {
     "iopub.execute_input": "2025-08-05T16:10:15.629589Z",
     "iopub.status.busy": "2025-08-05T16:10:15.628626Z",
     "iopub.status.idle": "2025-08-05T16:10:15.745293Z",
     "shell.execute_reply": "2025-08-05T16:10:15.744339Z"
    },
    "papermill": {
     "duration": 0.141153,
     "end_time": "2025-08-05T16:10:15.747313",
     "exception": false,
     "start_time": "2025-08-05T16:10:15.606160",
     "status": "completed"
    },
    "tags": []
   },
   "outputs": [],
   "source": [
    "from sklearn.linear_model import LogisticRegression\n",
    "from sklearn.ensemble import GradientBoostingClassifier, RandomForestClassifier\n",
    "\n",
    "if (universe[\"model\"] == \"logreg\"):\n",
    "    model = LogisticRegression() #penalty=\"none\", solver=\"newton-cg\", max_iter=1) # include random_state=19 ?\n",
    "elif (universe[\"model\"] == \"penalized_logreg\"):\n",
    "    model = LogisticRegression(penalty=\"l2\", C=0.1) #, solver=\"newton-cg\", max_iter=1)\n",
    "elif (universe[\"model\"] == \"rf\"):\n",
    "    model = RandomForestClassifier() # n_estimators=100, n_jobs=-1\n",
    "elif (universe[\"model\"] == \"gbm\"):\n",
    "    model = GradientBoostingClassifier()\n",
    "elif (universe[\"model\"] == \"elasticnet\"):\n",
    "    model = LogisticRegression(penalty = 'elasticnet', solver = 'saga', l1_ratio = 0.5) # max_iter=5000\n",
    "else:\n",
    "    raise \"Unsupported universe.model\""
   ]
  },
  {
   "cell_type": "code",
   "execution_count": 31,
   "id": "0cc8f744",
   "metadata": {
    "execution": {
     "iopub.execute_input": "2025-08-05T16:10:15.791368Z",
     "iopub.status.busy": "2025-08-05T16:10:15.790735Z",
     "iopub.status.idle": "2025-08-05T16:10:15.797088Z",
     "shell.execute_reply": "2025-08-05T16:10:15.795944Z"
    },
    "papermill": {
     "duration": 0.030232,
     "end_time": "2025-08-05T16:10:15.799098",
     "exception": false,
     "start_time": "2025-08-05T16:10:15.768866",
     "status": "completed"
    },
    "tags": []
   },
   "outputs": [],
   "source": [
    "import numpy as np\n",
    "from sklearn.pipeline import Pipeline\n",
    "from sklearn.preprocessing import StandardScaler\n",
    "\n",
    "model = Pipeline([\n",
    "    #(\"continuous_processor\", continuous_processor),\n",
    "    #(\"categorical_preprocessor\", categorical_preprocessor),\n",
    "    (\"scale\", StandardScaler() if universe[\"scale\"] == \"scale\" else None), \n",
    "    (\"model\", model),\n",
    "])"
   ]
  },
  {
   "cell_type": "code",
   "execution_count": 32,
   "id": "9442c04d",
   "metadata": {
    "execution": {
     "iopub.execute_input": "2025-08-05T16:10:15.829791Z",
     "iopub.status.busy": "2025-08-05T16:10:15.829416Z",
     "iopub.status.idle": "2025-08-05T16:10:15.894591Z",
     "shell.execute_reply": "2025-08-05T16:10:15.893511Z"
    },
    "papermill": {
     "duration": 0.080664,
     "end_time": "2025-08-05T16:10:15.897805",
     "exception": false,
     "start_time": "2025-08-05T16:10:15.817141",
     "status": "completed"
    },
    "tags": []
   },
   "outputs": [
    {
     "name": "stderr",
     "output_type": "stream",
     "text": [
      "/dss/dsshome1/0C/ra93lal2/.local/share/virtualenvs/CMA_Fairness_v2-3j10GkSs/lib/python3.10/site-packages/sklearn/linear_model/_logistic.py:444: ConvergenceWarning: lbfgs failed to converge (status=1):\n",
      "STOP: TOTAL NO. of ITERATIONS REACHED LIMIT.\n",
      "\n",
      "Increase the number of iterations (max_iter) or scale the data as shown in:\n",
      "    https://scikit-learn.org/stable/modules/preprocessing.html\n",
      "Please also refer to the documentation for alternative solver options:\n",
      "    https://scikit-learn.org/stable/modules/linear_model.html#logistic-regression\n",
      "  n_iter_i = _check_optimize_result(\n"
     ]
    },
    {
     "data": {
      "text/html": [
       "<style>#sk-container-id-1 {color: black;background-color: white;}#sk-container-id-1 pre{padding: 0;}#sk-container-id-1 div.sk-toggleable {background-color: white;}#sk-container-id-1 label.sk-toggleable__label {cursor: pointer;display: block;width: 100%;margin-bottom: 0;padding: 0.3em;box-sizing: border-box;text-align: center;}#sk-container-id-1 label.sk-toggleable__label-arrow:before {content: \"▸\";float: left;margin-right: 0.25em;color: #696969;}#sk-container-id-1 label.sk-toggleable__label-arrow:hover:before {color: black;}#sk-container-id-1 div.sk-estimator:hover label.sk-toggleable__label-arrow:before {color: black;}#sk-container-id-1 div.sk-toggleable__content {max-height: 0;max-width: 0;overflow: hidden;text-align: left;background-color: #f0f8ff;}#sk-container-id-1 div.sk-toggleable__content pre {margin: 0.2em;color: black;border-radius: 0.25em;background-color: #f0f8ff;}#sk-container-id-1 input.sk-toggleable__control:checked~div.sk-toggleable__content {max-height: 200px;max-width: 100%;overflow: auto;}#sk-container-id-1 input.sk-toggleable__control:checked~label.sk-toggleable__label-arrow:before {content: \"▾\";}#sk-container-id-1 div.sk-estimator input.sk-toggleable__control:checked~label.sk-toggleable__label {background-color: #d4ebff;}#sk-container-id-1 div.sk-label input.sk-toggleable__control:checked~label.sk-toggleable__label {background-color: #d4ebff;}#sk-container-id-1 input.sk-hidden--visually {border: 0;clip: rect(1px 1px 1px 1px);clip: rect(1px, 1px, 1px, 1px);height: 1px;margin: -1px;overflow: hidden;padding: 0;position: absolute;width: 1px;}#sk-container-id-1 div.sk-estimator {font-family: monospace;background-color: #f0f8ff;border: 1px dotted black;border-radius: 0.25em;box-sizing: border-box;margin-bottom: 0.5em;}#sk-container-id-1 div.sk-estimator:hover {background-color: #d4ebff;}#sk-container-id-1 div.sk-parallel-item::after {content: \"\";width: 100%;border-bottom: 1px solid gray;flex-grow: 1;}#sk-container-id-1 div.sk-label:hover label.sk-toggleable__label {background-color: #d4ebff;}#sk-container-id-1 div.sk-serial::before {content: \"\";position: absolute;border-left: 1px solid gray;box-sizing: border-box;top: 0;bottom: 0;left: 50%;z-index: 0;}#sk-container-id-1 div.sk-serial {display: flex;flex-direction: column;align-items: center;background-color: white;padding-right: 0.2em;padding-left: 0.2em;position: relative;}#sk-container-id-1 div.sk-item {position: relative;z-index: 1;}#sk-container-id-1 div.sk-parallel {display: flex;align-items: stretch;justify-content: center;background-color: white;position: relative;}#sk-container-id-1 div.sk-item::before, #sk-container-id-1 div.sk-parallel-item::before {content: \"\";position: absolute;border-left: 1px solid gray;box-sizing: border-box;top: 0;bottom: 0;left: 50%;z-index: -1;}#sk-container-id-1 div.sk-parallel-item {display: flex;flex-direction: column;z-index: 1;position: relative;background-color: white;}#sk-container-id-1 div.sk-parallel-item:first-child::after {align-self: flex-end;width: 50%;}#sk-container-id-1 div.sk-parallel-item:last-child::after {align-self: flex-start;width: 50%;}#sk-container-id-1 div.sk-parallel-item:only-child::after {width: 0;}#sk-container-id-1 div.sk-dashed-wrapped {border: 1px dashed gray;margin: 0 0.4em 0.5em 0.4em;box-sizing: border-box;padding-bottom: 0.4em;background-color: white;}#sk-container-id-1 div.sk-label label {font-family: monospace;font-weight: bold;display: inline-block;line-height: 1.2em;}#sk-container-id-1 div.sk-label-container {text-align: center;}#sk-container-id-1 div.sk-container {/* jupyter's `normalize.less` sets `[hidden] { display: none; }` but bootstrap.min.css set `[hidden] { display: none !important; }` so we also need the `!important` here to be able to override the default hidden behavior on the sphinx rendered scikit-learn.org. See: https://github.com/scikit-learn/scikit-learn/issues/21755 */display: inline-block !important;position: relative;}#sk-container-id-1 div.sk-text-repr-fallback {display: none;}</style><div id=\"sk-container-id-1\" class=\"sk-top-container\"><div class=\"sk-text-repr-fallback\"><pre>Pipeline(steps=[(&#x27;scale&#x27;, None), (&#x27;model&#x27;, LogisticRegression(C=0.1))])</pre><b>In a Jupyter environment, please rerun this cell to show the HTML representation or trust the notebook. <br />On GitHub, the HTML representation is unable to render, please try loading this page with nbviewer.org.</b></div><div class=\"sk-container\" hidden><div class=\"sk-item sk-dashed-wrapped\"><div class=\"sk-label-container\"><div class=\"sk-label sk-toggleable\"><input class=\"sk-toggleable__control sk-hidden--visually\" id=\"sk-estimator-id-1\" type=\"checkbox\" ><label for=\"sk-estimator-id-1\" class=\"sk-toggleable__label sk-toggleable__label-arrow\">Pipeline</label><div class=\"sk-toggleable__content\"><pre>Pipeline(steps=[(&#x27;scale&#x27;, None), (&#x27;model&#x27;, LogisticRegression(C=0.1))])</pre></div></div></div><div class=\"sk-serial\"><div class=\"sk-item\"><div class=\"sk-estimator sk-toggleable\"><input class=\"sk-toggleable__control sk-hidden--visually\" id=\"sk-estimator-id-2\" type=\"checkbox\" ><label for=\"sk-estimator-id-2\" class=\"sk-toggleable__label sk-toggleable__label-arrow\">None</label><div class=\"sk-toggleable__content\"><pre>None</pre></div></div></div><div class=\"sk-item\"><div class=\"sk-estimator sk-toggleable\"><input class=\"sk-toggleable__control sk-hidden--visually\" id=\"sk-estimator-id-3\" type=\"checkbox\" ><label for=\"sk-estimator-id-3\" class=\"sk-toggleable__label sk-toggleable__label-arrow\">LogisticRegression</label><div class=\"sk-toggleable__content\"><pre>LogisticRegression(C=0.1)</pre></div></div></div></div></div></div></div>"
      ],
      "text/plain": [
       "Pipeline(steps=[('scale', None), ('model', LogisticRegression(C=0.1))])"
      ]
     },
     "execution_count": 32,
     "metadata": {},
     "output_type": "execute_result"
    }
   ],
   "source": [
    "model.fit(X_train, y_train.values.ravel())"
   ]
  },
  {
   "cell_type": "code",
   "execution_count": 33,
   "id": "af59f8c0",
   "metadata": {
    "execution": {
     "iopub.execute_input": "2025-08-05T16:10:15.944979Z",
     "iopub.status.busy": "2025-08-05T16:10:15.944054Z",
     "iopub.status.idle": "2025-08-05T16:10:15.949737Z",
     "shell.execute_reply": "2025-08-05T16:10:15.948712Z"
    },
    "papermill": {
     "duration": 0.030748,
     "end_time": "2025-08-05T16:10:15.951602",
     "exception": false,
     "start_time": "2025-08-05T16:10:15.920854",
     "status": "completed"
    },
    "tags": []
   },
   "outputs": [],
   "source": [
    "from fairness_multiverse.universe import predict_w_threshold"
   ]
  },
  {
   "cell_type": "code",
   "execution_count": 34,
   "id": "a7cf2e16",
   "metadata": {
    "execution": {
     "iopub.execute_input": "2025-08-05T16:10:15.992192Z",
     "iopub.status.busy": "2025-08-05T16:10:15.991401Z",
     "iopub.status.idle": "2025-08-05T16:10:16.087061Z",
     "shell.execute_reply": "2025-08-05T16:10:16.086123Z"
    },
    "papermill": {
     "duration": 0.117828,
     "end_time": "2025-08-05T16:10:16.088709",
     "exception": false,
     "start_time": "2025-08-05T16:10:15.970881",
     "status": "completed"
    },
    "tags": []
   },
   "outputs": [
    {
     "data": {
      "text/plain": [
       "0.846349347898785"
      ]
     },
     "execution_count": 34,
     "metadata": {},
     "output_type": "execute_result"
    }
   ],
   "source": [
    "probs_test = model.predict_proba(X_test)\n",
    "\n",
    "'''\n",
    "Below code returns a boolean array (or binary 0/1 array depending on how it’s used) where each element \n",
    "is True if the probability of class 1 is greater than or equal to the threshold, and False otherwise.\n",
    "'''\n",
    "y_pred_default = predict_w_threshold(probs_test, 0.5)\n",
    "\n",
    "from sklearn.metrics import accuracy_score\n",
    "\n",
    "# Naive prediction\n",
    "accuracy_score(y_true = y_true, y_pred = y_pred_default)"
   ]
  },
  {
   "cell_type": "code",
   "execution_count": 35,
   "id": "081964c3",
   "metadata": {
    "execution": {
     "iopub.execute_input": "2025-08-05T16:10:16.129112Z",
     "iopub.status.busy": "2025-08-05T16:10:16.128650Z",
     "iopub.status.idle": "2025-08-05T16:10:16.215261Z",
     "shell.execute_reply": "2025-08-05T16:10:16.214319Z"
    },
    "papermill": {
     "duration": 0.107843,
     "end_time": "2025-08-05T16:10:16.216794",
     "exception": false,
     "start_time": "2025-08-05T16:10:16.108951",
     "status": "completed"
    },
    "tags": []
   },
   "outputs": [
    {
     "data": {
      "text/plain": [
       "array([0, 0, 0, ..., 0, 0, 0])"
      ]
     },
     "execution_count": 35,
     "metadata": {},
     "output_type": "execute_result"
    }
   ],
   "source": [
    "model.predict(X_test)"
   ]
  },
  {
   "cell_type": "markdown",
   "id": "56c9705b",
   "metadata": {
    "papermill": {
     "duration": 0.019778,
     "end_time": "2025-08-05T16:10:16.256563",
     "exception": false,
     "start_time": "2025-08-05T16:10:16.236785",
     "status": "completed"
    },
    "tags": []
   },
   "source": [
    "# Conformal Prediction"
   ]
  },
  {
   "cell_type": "code",
   "execution_count": 36,
   "id": "160ec6ff",
   "metadata": {
    "execution": {
     "iopub.execute_input": "2025-08-05T16:10:16.297392Z",
     "iopub.status.busy": "2025-08-05T16:10:16.296587Z",
     "iopub.status.idle": "2025-08-05T16:10:16.302360Z",
     "shell.execute_reply": "2025-08-05T16:10:16.301195Z"
    },
    "papermill": {
     "duration": 0.027481,
     "end_time": "2025-08-05T16:10:16.304201",
     "exception": false,
     "start_time": "2025-08-05T16:10:16.276720",
     "status": "completed"
    },
    "tags": []
   },
   "outputs": [],
   "source": [
    "# Miscoverage level for conformal prediction (10% allowed error rate => 90% target coverage)\n",
    "alpha = 0.1"
   ]
  },
  {
   "cell_type": "code",
   "execution_count": 37,
   "id": "eadf4555-3dd3-440e-8e35-f82a4ad9f855",
   "metadata": {
    "execution": {
     "iopub.execute_input": "2025-08-05T16:10:16.345777Z",
     "iopub.status.busy": "2025-08-05T16:10:16.345027Z",
     "iopub.status.idle": "2025-08-05T16:10:16.427769Z",
     "shell.execute_reply": "2025-08-05T16:10:16.426780Z"
    },
    "papermill": {
     "duration": 0.104962,
     "end_time": "2025-08-05T16:10:16.429793",
     "exception": false,
     "start_time": "2025-08-05T16:10:16.324831",
     "status": "completed"
    },
    "tags": []
   },
   "outputs": [],
   "source": [
    "probs_calib = model.predict_proba(X_calib)"
   ]
  },
  {
   "cell_type": "code",
   "execution_count": 38,
   "id": "2ed93547-6d5d-4983-9b36-1ecb300da49a",
   "metadata": {
    "execution": {
     "iopub.execute_input": "2025-08-05T16:10:16.470557Z",
     "iopub.status.busy": "2025-08-05T16:10:16.469928Z",
     "iopub.status.idle": "2025-08-05T16:10:16.475870Z",
     "shell.execute_reply": "2025-08-05T16:10:16.474911Z"
    },
    "papermill": {
     "duration": 0.02801,
     "end_time": "2025-08-05T16:10:16.477498",
     "exception": false,
     "start_time": "2025-08-05T16:10:16.449488",
     "status": "completed"
    },
    "tags": []
   },
   "outputs": [],
   "source": [
    "y_calib = y_calib.values.ravel().astype(int)"
   ]
  },
  {
   "cell_type": "code",
   "execution_count": 39,
   "id": "65d1320d-f588-4b38-9072-62af1ae97f7d",
   "metadata": {
    "execution": {
     "iopub.execute_input": "2025-08-05T16:10:16.518971Z",
     "iopub.status.busy": "2025-08-05T16:10:16.518468Z",
     "iopub.status.idle": "2025-08-05T16:10:16.526194Z",
     "shell.execute_reply": "2025-08-05T16:10:16.525105Z"
    },
    "papermill": {
     "duration": 0.029549,
     "end_time": "2025-08-05T16:10:16.527966",
     "exception": false,
     "start_time": "2025-08-05T16:10:16.498417",
     "status": "completed"
    },
    "tags": []
   },
   "outputs": [],
   "source": [
    "from fairness_multiverse.conformal import compute_nc_scores\n",
    "\n",
    "# Compute nonconformity scores on calibration set (1 - probability of true class)\n",
    "nc_scores = compute_nc_scores(probs_calib, y_calib)"
   ]
  },
  {
   "cell_type": "code",
   "execution_count": 40,
   "id": "df3b8ca3-53b7-43d5-9667-7c85da7aeda2",
   "metadata": {
    "execution": {
     "iopub.execute_input": "2025-08-05T16:10:16.570592Z",
     "iopub.status.busy": "2025-08-05T16:10:16.570140Z",
     "iopub.status.idle": "2025-08-05T16:10:16.576345Z",
     "shell.execute_reply": "2025-08-05T16:10:16.575437Z"
    },
    "papermill": {
     "duration": 0.028628,
     "end_time": "2025-08-05T16:10:16.578090",
     "exception": false,
     "start_time": "2025-08-05T16:10:16.549462",
     "status": "completed"
    },
    "tags": []
   },
   "outputs": [],
   "source": [
    "from fairness_multiverse.conformal import find_threshold\n",
    "\n",
    "# Find conformal threshold q_hat for the given alpha (split conformal method)\n",
    "q_hat = find_threshold(nc_scores, alpha)"
   ]
  },
  {
   "cell_type": "code",
   "execution_count": 41,
   "id": "4d29e6c1-0ef6-4aa4-b8fe-4fe79b0d033a",
   "metadata": {
    "execution": {
     "iopub.execute_input": "2025-08-05T16:10:16.603276Z",
     "iopub.status.busy": "2025-08-05T16:10:16.602916Z",
     "iopub.status.idle": "2025-08-05T16:10:16.608729Z",
     "shell.execute_reply": "2025-08-05T16:10:16.607873Z"
    },
    "papermill": {
     "duration": 0.018298,
     "end_time": "2025-08-05T16:10:16.610143",
     "exception": false,
     "start_time": "2025-08-05T16:10:16.591845",
     "status": "completed"
    },
    "tags": []
   },
   "outputs": [
    {
     "data": {
      "text/plain": [
       "0.6863980286159456"
      ]
     },
     "execution_count": 41,
     "metadata": {},
     "output_type": "execute_result"
    }
   ],
   "source": [
    "q_hat"
   ]
  },
  {
   "cell_type": "code",
   "execution_count": 42,
   "id": "92460794-cdac-4be2-ba28-f28c0515a6fb",
   "metadata": {
    "execution": {
     "iopub.execute_input": "2025-08-05T16:10:16.632472Z",
     "iopub.status.busy": "2025-08-05T16:10:16.632187Z",
     "iopub.status.idle": "2025-08-05T16:10:17.475592Z",
     "shell.execute_reply": "2025-08-05T16:10:17.474519Z"
    },
    "papermill": {
     "duration": 0.856513,
     "end_time": "2025-08-05T16:10:17.477622",
     "exception": false,
     "start_time": "2025-08-05T16:10:16.621109",
     "status": "completed"
    },
    "tags": []
   },
   "outputs": [],
   "source": [
    "from fairness_multiverse.conformal import predict_conformal_sets\n",
    "\n",
    "# Generate prediction sets for each test example\n",
    "pred_sets = predict_conformal_sets(model, X_test, q_hat)"
   ]
  },
  {
   "cell_type": "code",
   "execution_count": 43,
   "id": "d90c9a65-e6db-4f5d-80cd-e68fb7e46829",
   "metadata": {
    "execution": {
     "iopub.execute_input": "2025-08-05T16:10:17.520827Z",
     "iopub.status.busy": "2025-08-05T16:10:17.520267Z",
     "iopub.status.idle": "2025-08-05T16:10:17.526706Z",
     "shell.execute_reply": "2025-08-05T16:10:17.525579Z"
    },
    "papermill": {
     "duration": 0.029845,
     "end_time": "2025-08-05T16:10:17.528713",
     "exception": false,
     "start_time": "2025-08-05T16:10:17.498868",
     "status": "completed"
    },
    "tags": []
   },
   "outputs": [],
   "source": [
    "y_true = y_true.squeeze()"
   ]
  },
  {
   "cell_type": "code",
   "execution_count": 44,
   "id": "3a58a54a-1e68-46b9-927a-df01f18aebc8",
   "metadata": {
    "execution": {
     "iopub.execute_input": "2025-08-05T16:10:17.577110Z",
     "iopub.status.busy": "2025-08-05T16:10:17.576328Z",
     "iopub.status.idle": "2025-08-05T16:10:18.293833Z",
     "shell.execute_reply": "2025-08-05T16:10:18.293034Z"
    },
    "papermill": {
     "duration": 0.743401,
     "end_time": "2025-08-05T16:10:18.295283",
     "exception": false,
     "start_time": "2025-08-05T16:10:17.551882",
     "status": "completed"
    },
    "tags": []
   },
   "outputs": [],
   "source": [
    "from fairness_multiverse.conformal import evaluate_sets\n",
    "\n",
    "# Evaluate coverage and average set size on test data\n",
    "metrics = evaluate_sets(pred_sets, y_true)"
   ]
  },
  {
   "cell_type": "markdown",
   "id": "2b569c12-9aaa-4c88-98c9-bbcd0cf3ebb8",
   "metadata": {
    "papermill": {
     "duration": 0.010327,
     "end_time": "2025-08-05T16:10:18.319434",
     "exception": false,
     "start_time": "2025-08-05T16:10:18.309107",
     "status": "completed"
    },
    "tags": []
   },
   "source": [
    "# CP Metrics"
   ]
  },
  {
   "cell_type": "code",
   "execution_count": 45,
   "id": "5ce0a5cb-201f-45a0-ade5-94c7f0bd6095",
   "metadata": {
    "execution": {
     "iopub.execute_input": "2025-08-05T16:10:18.342174Z",
     "iopub.status.busy": "2025-08-05T16:10:18.341398Z",
     "iopub.status.idle": "2025-08-05T16:10:18.347629Z",
     "shell.execute_reply": "2025-08-05T16:10:18.346849Z"
    },
    "papermill": {
     "duration": 0.019276,
     "end_time": "2025-08-05T16:10:18.349115",
     "exception": false,
     "start_time": "2025-08-05T16:10:18.329839",
     "status": "completed"
    },
    "tags": []
   },
   "outputs": [
    {
     "data": {
      "text/plain": [
       "{'coverage': 0.9093635046260171, 'avg_size': 1.2513432170326608}"
      ]
     },
     "execution_count": 45,
     "metadata": {},
     "output_type": "execute_result"
    }
   ],
   "source": [
    "metrics"
   ]
  },
  {
   "cell_type": "code",
   "execution_count": 46,
   "id": "9b9a838d-31c9-430b-ae14-12baee460d17",
   "metadata": {
    "execution": {
     "iopub.execute_input": "2025-08-05T16:10:18.373130Z",
     "iopub.status.busy": "2025-08-05T16:10:18.372457Z",
     "iopub.status.idle": "2025-08-05T16:10:18.378130Z",
     "shell.execute_reply": "2025-08-05T16:10:18.377342Z"
    },
    "papermill": {
     "duration": 0.018728,
     "end_time": "2025-08-05T16:10:18.379582",
     "exception": false,
     "start_time": "2025-08-05T16:10:18.360854",
     "status": "completed"
    },
    "tags": []
   },
   "outputs": [],
   "source": [
    "example_universe = universe.copy()\n",
    "universe_training_year = example_universe.get(\"training_year\")\n",
    "universe_training_size = example_universe.get(\"training_size\")\n",
    "universe_scale = example_universe.get(\"scale\")\n",
    "universe_model = example_universe.get(\"model\")\n",
    "universe_exclude_features = example_universe.get(\"exclude_features\")\n",
    "universe_exclude_subgroups = example_universe.get(\"exclude_subgroups\")"
   ]
  },
  {
   "cell_type": "code",
   "execution_count": 47,
   "id": "f4b6a8ac-9dc0-4245-8a91-5b3b5999c4f9",
   "metadata": {
    "execution": {
     "iopub.execute_input": "2025-08-05T16:10:18.402901Z",
     "iopub.status.busy": "2025-08-05T16:10:18.402480Z",
     "iopub.status.idle": "2025-08-05T16:10:18.407482Z",
     "shell.execute_reply": "2025-08-05T16:10:18.406708Z"
    },
    "papermill": {
     "duration": 0.017865,
     "end_time": "2025-08-05T16:10:18.408833",
     "exception": false,
     "start_time": "2025-08-05T16:10:18.390968",
     "status": "completed"
    },
    "tags": []
   },
   "outputs": [],
   "source": [
    "cp_metrics_dict = {\n",
    "    \"universe_id\": [universe_id],\n",
    "    \"universe_training_year\": [universe_training_year],\n",
    "    \"universe_training_size\": [universe_training_size],\n",
    "    \"universe_scale\": [universe_scale],\n",
    "    \"universe_model\": [universe_model],\n",
    "    \"universe_exclude_features\": [universe_exclude_features],\n",
    "    \"universe_exclude_subgroups\": [universe_exclude_subgroups],\n",
    "    \"q_hat\": [q_hat],\n",
    "    \"coverage\": [metrics[\"coverage\"]],\n",
    "    \"avg_size\": [metrics[\"avg_size\"]],\n",
    "}"
   ]
  },
  {
   "cell_type": "code",
   "execution_count": 48,
   "id": "908acbb1-0371-4915-85ca-3fa520d2efe2",
   "metadata": {
    "execution": {
     "iopub.execute_input": "2025-08-05T16:10:18.432122Z",
     "iopub.status.busy": "2025-08-05T16:10:18.431612Z",
     "iopub.status.idle": "2025-08-05T16:10:18.438021Z",
     "shell.execute_reply": "2025-08-05T16:10:18.437212Z"
    },
    "papermill": {
     "duration": 0.019168,
     "end_time": "2025-08-05T16:10:18.439436",
     "exception": false,
     "start_time": "2025-08-05T16:10:18.420268",
     "status": "completed"
    },
    "tags": []
   },
   "outputs": [
    {
     "data": {
      "text/plain": [
       "{'universe_id': ['d8b4b7dbb5b1895f4c786d14763fbb37'],\n",
       " 'universe_training_year': ['2014'],\n",
       " 'universe_training_size': ['1k'],\n",
       " 'universe_scale': ['do-not-scale'],\n",
       " 'universe_model': ['penalized_logreg'],\n",
       " 'universe_exclude_features': ['nationality'],\n",
       " 'universe_exclude_subgroups': ['drop-non-german'],\n",
       " 'q_hat': [0.6863980286159456],\n",
       " 'coverage': [0.9093635046260171],\n",
       " 'avg_size': [1.2513432170326608]}"
      ]
     },
     "execution_count": 48,
     "metadata": {},
     "output_type": "execute_result"
    }
   ],
   "source": [
    "cp_metrics_dict"
   ]
  },
  {
   "cell_type": "code",
   "execution_count": 49,
   "id": "33007efc-14e9-4ec6-97ac-56a455c82265",
   "metadata": {
    "execution": {
     "iopub.execute_input": "2025-08-05T16:10:18.462578Z",
     "iopub.status.busy": "2025-08-05T16:10:18.462043Z",
     "iopub.status.idle": "2025-08-05T16:10:18.467312Z",
     "shell.execute_reply": "2025-08-05T16:10:18.466503Z"
    },
    "papermill": {
     "duration": 0.018079,
     "end_time": "2025-08-05T16:10:18.468745",
     "exception": false,
     "start_time": "2025-08-05T16:10:18.450666",
     "status": "completed"
    },
    "tags": []
   },
   "outputs": [],
   "source": [
    "cp_metrics_df = pd.DataFrame(cp_metrics_dict)"
   ]
  },
  {
   "cell_type": "code",
   "execution_count": 50,
   "id": "db12611b-57b2-4910-b9d0-355adfd6e7bf",
   "metadata": {
    "execution": {
     "iopub.execute_input": "2025-08-05T16:10:18.492331Z",
     "iopub.status.busy": "2025-08-05T16:10:18.491795Z",
     "iopub.status.idle": "2025-08-05T16:10:18.506427Z",
     "shell.execute_reply": "2025-08-05T16:10:18.505656Z"
    },
    "papermill": {
     "duration": 0.02731,
     "end_time": "2025-08-05T16:10:18.507709",
     "exception": false,
     "start_time": "2025-08-05T16:10:18.480399",
     "status": "completed"
    },
    "tags": []
   },
   "outputs": [
    {
     "data": {
      "text/html": [
       "<div>\n",
       "<style scoped>\n",
       "    .dataframe tbody tr th:only-of-type {\n",
       "        vertical-align: middle;\n",
       "    }\n",
       "\n",
       "    .dataframe tbody tr th {\n",
       "        vertical-align: top;\n",
       "    }\n",
       "\n",
       "    .dataframe thead th {\n",
       "        text-align: right;\n",
       "    }\n",
       "</style>\n",
       "<table border=\"1\" class=\"dataframe\">\n",
       "  <thead>\n",
       "    <tr style=\"text-align: right;\">\n",
       "      <th></th>\n",
       "      <th>universe_id</th>\n",
       "      <th>universe_training_year</th>\n",
       "      <th>universe_training_size</th>\n",
       "      <th>universe_scale</th>\n",
       "      <th>universe_model</th>\n",
       "      <th>universe_exclude_features</th>\n",
       "      <th>universe_exclude_subgroups</th>\n",
       "      <th>q_hat</th>\n",
       "      <th>coverage</th>\n",
       "      <th>avg_size</th>\n",
       "    </tr>\n",
       "  </thead>\n",
       "  <tbody>\n",
       "    <tr>\n",
       "      <th>0</th>\n",
       "      <td>d8b4b7dbb5b1895f4c786d14763fbb37</td>\n",
       "      <td>2014</td>\n",
       "      <td>1k</td>\n",
       "      <td>do-not-scale</td>\n",
       "      <td>penalized_logreg</td>\n",
       "      <td>nationality</td>\n",
       "      <td>drop-non-german</td>\n",
       "      <td>0.686398</td>\n",
       "      <td>0.909364</td>\n",
       "      <td>1.251343</td>\n",
       "    </tr>\n",
       "  </tbody>\n",
       "</table>\n",
       "</div>"
      ],
      "text/plain": [
       "                        universe_id universe_training_year  \\\n",
       "0  d8b4b7dbb5b1895f4c786d14763fbb37                   2014   \n",
       "\n",
       "  universe_training_size universe_scale    universe_model  \\\n",
       "0                     1k   do-not-scale  penalized_logreg   \n",
       "\n",
       "  universe_exclude_features universe_exclude_subgroups     q_hat  coverage  \\\n",
       "0               nationality            drop-non-german  0.686398  0.909364   \n",
       "\n",
       "   avg_size  \n",
       "0  1.251343  "
      ]
     },
     "execution_count": 50,
     "metadata": {},
     "output_type": "execute_result"
    }
   ],
   "source": [
    "cp_metrics_df"
   ]
  },
  {
   "cell_type": "code",
   "execution_count": 51,
   "id": "b7fbde55-a0a1-47e4-9af6-fe4a17fa8c61",
   "metadata": {
    "execution": {
     "iopub.execute_input": "2025-08-05T16:10:18.530952Z",
     "iopub.status.busy": "2025-08-05T16:10:18.530440Z",
     "iopub.status.idle": "2025-08-05T16:10:18.534461Z",
     "shell.execute_reply": "2025-08-05T16:10:18.533614Z"
    },
    "papermill": {
     "duration": 0.017135,
     "end_time": "2025-08-05T16:10:18.535991",
     "exception": false,
     "start_time": "2025-08-05T16:10:18.518856",
     "status": "completed"
    },
    "tags": []
   },
   "outputs": [],
   "source": [
    "# Conditional Coverage & looking at subgroups"
   ]
  },
  {
   "cell_type": "code",
   "execution_count": 52,
   "id": "027ae886-68dd-4141-96c7-805a5450e1ef",
   "metadata": {
    "execution": {
     "iopub.execute_input": "2025-08-05T16:10:18.559917Z",
     "iopub.status.busy": "2025-08-05T16:10:18.559398Z",
     "iopub.status.idle": "2025-08-05T16:10:18.736930Z",
     "shell.execute_reply": "2025-08-05T16:10:18.736127Z"
    },
    "papermill": {
     "duration": 0.190631,
     "end_time": "2025-08-05T16:10:18.738469",
     "exception": false,
     "start_time": "2025-08-05T16:10:18.547838",
     "status": "completed"
    },
    "tags": []
   },
   "outputs": [],
   "source": [
    "from fairness_multiverse.conformal import build_cp_groups\n",
    "\n",
    "cp_groups_df = build_cp_groups(pred_sets, y_true, X_test.index, org_test)\n",
    "#needs universe_id and setting"
   ]
  },
  {
   "cell_type": "code",
   "execution_count": 53,
   "id": "6cbdab96-b2b2-45af-ad54-d0516db2e28d",
   "metadata": {
    "execution": {
     "iopub.execute_input": "2025-08-05T16:10:18.762945Z",
     "iopub.status.busy": "2025-08-05T16:10:18.762595Z",
     "iopub.status.idle": "2025-08-05T16:10:20.506548Z",
     "shell.execute_reply": "2025-08-05T16:10:20.505454Z"
    },
    "papermill": {
     "duration": 1.757544,
     "end_time": "2025-08-05T16:10:20.507983",
     "exception": false,
     "start_time": "2025-08-05T16:10:18.750439",
     "status": "completed"
    },
    "tags": []
   },
   "outputs": [],
   "source": [
    "# Define covered = 1 if true_label is in the predicted set\n",
    "cp_groups_df['covered'] = cp_groups_df.apply(\n",
    "    lambda r: int(r['true_label'] in r['pred_set']),\n",
    "    axis=1\n",
    ")"
   ]
  },
  {
   "cell_type": "code",
   "execution_count": 54,
   "id": "338ff529-1a6b-4b87-a931-8e4788d52aad",
   "metadata": {
    "execution": {
     "iopub.execute_input": "2025-08-05T16:10:20.557705Z",
     "iopub.status.busy": "2025-08-05T16:10:20.556782Z",
     "iopub.status.idle": "2025-08-05T16:10:20.562129Z",
     "shell.execute_reply": "2025-08-05T16:10:20.561046Z"
    },
    "papermill": {
     "duration": 0.034575,
     "end_time": "2025-08-05T16:10:20.564208",
     "exception": false,
     "start_time": "2025-08-05T16:10:20.529633",
     "status": "completed"
    },
    "tags": []
   },
   "outputs": [],
   "source": [
    "#cp_groups_df"
   ]
  },
  {
   "cell_type": "code",
   "execution_count": 55,
   "id": "90032e27-66df-4540-9169-4e89cfbaa758",
   "metadata": {
    "execution": {
     "iopub.execute_input": "2025-08-05T16:10:20.617849Z",
     "iopub.status.busy": "2025-08-05T16:10:20.617265Z",
     "iopub.status.idle": "2025-08-05T16:10:20.630897Z",
     "shell.execute_reply": "2025-08-05T16:10:20.629350Z"
    },
    "papermill": {
     "duration": 0.043157,
     "end_time": "2025-08-05T16:10:20.633185",
     "exception": false,
     "start_time": "2025-08-05T16:10:20.590028",
     "status": "completed"
    },
    "tags": []
   },
   "outputs": [],
   "source": [
    "subgroups = ['frau1','nongerman','nongerman_male','nongerman_female']\n",
    "\n",
    "# Conditional coverage for subgroup==1\n",
    "cond_coverage = {\n",
    "    g: cp_groups_df.loc[cp_groups_df[g]==1, 'covered'].mean()\n",
    "    for g in subgroups\n",
    "}"
   ]
  },
  {
   "cell_type": "code",
   "execution_count": 56,
   "id": "1e348fb1-b9c3-45bc-ba23-f016827a7e0d",
   "metadata": {
    "execution": {
     "iopub.execute_input": "2025-08-05T16:10:20.685532Z",
     "iopub.status.busy": "2025-08-05T16:10:20.685058Z",
     "iopub.status.idle": "2025-08-05T16:10:20.693086Z",
     "shell.execute_reply": "2025-08-05T16:10:20.691869Z"
    },
    "papermill": {
     "duration": 0.036838,
     "end_time": "2025-08-05T16:10:20.694981",
     "exception": false,
     "start_time": "2025-08-05T16:10:20.658143",
     "status": "completed"
    },
    "tags": []
   },
   "outputs": [
    {
     "data": {
      "text/plain": [
       "{'frau1': 0.9090982612211889,\n",
       " 'nongerman': 0.9453208330994217,\n",
       " 'nongerman_male': 0.9551472574979735,\n",
       " 'nongerman_female': 0.9290611028315946}"
      ]
     },
     "execution_count": 56,
     "metadata": {},
     "output_type": "execute_result"
    }
   ],
   "source": [
    "cond_coverage"
   ]
  },
  {
   "cell_type": "code",
   "execution_count": 57,
   "id": "f5093324-c3dd-4d63-bc4c-8d945e5c8bbb",
   "metadata": {
    "execution": {
     "iopub.execute_input": "2025-08-05T16:10:20.743621Z",
     "iopub.status.busy": "2025-08-05T16:10:20.743138Z",
     "iopub.status.idle": "2025-08-05T16:10:20.750563Z",
     "shell.execute_reply": "2025-08-05T16:10:20.749608Z"
    },
    "papermill": {
     "duration": 0.034036,
     "end_time": "2025-08-05T16:10:20.752812",
     "exception": false,
     "start_time": "2025-08-05T16:10:20.718776",
     "status": "completed"
    },
    "tags": []
   },
   "outputs": [],
   "source": [
    "for subgroup, cov in cond_coverage.items():\n",
    "    cp_metrics_df[f\"cov_{subgroup}\"] = cov"
   ]
  },
  {
   "cell_type": "code",
   "execution_count": 58,
   "id": "6e872e10-dbe5-49e8-b554-5030c98ff75d",
   "metadata": {
    "execution": {
     "iopub.execute_input": "2025-08-05T16:10:20.805718Z",
     "iopub.status.busy": "2025-08-05T16:10:20.804771Z",
     "iopub.status.idle": "2025-08-05T16:10:20.825560Z",
     "shell.execute_reply": "2025-08-05T16:10:20.824435Z"
    },
    "papermill": {
     "duration": 0.04516,
     "end_time": "2025-08-05T16:10:20.827392",
     "exception": false,
     "start_time": "2025-08-05T16:10:20.782232",
     "status": "completed"
    },
    "tags": []
   },
   "outputs": [
    {
     "data": {
      "text/html": [
       "<div>\n",
       "<style scoped>\n",
       "    .dataframe tbody tr th:only-of-type {\n",
       "        vertical-align: middle;\n",
       "    }\n",
       "\n",
       "    .dataframe tbody tr th {\n",
       "        vertical-align: top;\n",
       "    }\n",
       "\n",
       "    .dataframe thead th {\n",
       "        text-align: right;\n",
       "    }\n",
       "</style>\n",
       "<table border=\"1\" class=\"dataframe\">\n",
       "  <thead>\n",
       "    <tr style=\"text-align: right;\">\n",
       "      <th></th>\n",
       "      <th>universe_id</th>\n",
       "      <th>universe_training_year</th>\n",
       "      <th>universe_training_size</th>\n",
       "      <th>universe_scale</th>\n",
       "      <th>universe_model</th>\n",
       "      <th>universe_exclude_features</th>\n",
       "      <th>universe_exclude_subgroups</th>\n",
       "      <th>q_hat</th>\n",
       "      <th>coverage</th>\n",
       "      <th>avg_size</th>\n",
       "      <th>cov_frau1</th>\n",
       "      <th>cov_nongerman</th>\n",
       "      <th>cov_nongerman_male</th>\n",
       "      <th>cov_nongerman_female</th>\n",
       "    </tr>\n",
       "  </thead>\n",
       "  <tbody>\n",
       "    <tr>\n",
       "      <th>0</th>\n",
       "      <td>d8b4b7dbb5b1895f4c786d14763fbb37</td>\n",
       "      <td>2014</td>\n",
       "      <td>1k</td>\n",
       "      <td>do-not-scale</td>\n",
       "      <td>penalized_logreg</td>\n",
       "      <td>nationality</td>\n",
       "      <td>drop-non-german</td>\n",
       "      <td>0.686398</td>\n",
       "      <td>0.909364</td>\n",
       "      <td>1.251343</td>\n",
       "      <td>0.909098</td>\n",
       "      <td>0.945321</td>\n",
       "      <td>0.955147</td>\n",
       "      <td>0.929061</td>\n",
       "    </tr>\n",
       "  </tbody>\n",
       "</table>\n",
       "</div>"
      ],
      "text/plain": [
       "                        universe_id universe_training_year  \\\n",
       "0  d8b4b7dbb5b1895f4c786d14763fbb37                   2014   \n",
       "\n",
       "  universe_training_size universe_scale    universe_model  \\\n",
       "0                     1k   do-not-scale  penalized_logreg   \n",
       "\n",
       "  universe_exclude_features universe_exclude_subgroups     q_hat  coverage  \\\n",
       "0               nationality            drop-non-german  0.686398  0.909364   \n",
       "\n",
       "   avg_size  cov_frau1  cov_nongerman  cov_nongerman_male  \\\n",
       "0  1.251343   0.909098       0.945321            0.955147   \n",
       "\n",
       "   cov_nongerman_female  \n",
       "0              0.929061  "
      ]
     },
     "execution_count": 58,
     "metadata": {},
     "output_type": "execute_result"
    }
   ],
   "source": [
    "cp_metrics_df"
   ]
  },
  {
   "cell_type": "markdown",
   "id": "33774451",
   "metadata": {
    "papermill": {
     "duration": 0.021169,
     "end_time": "2025-08-05T16:10:20.872646",
     "exception": false,
     "start_time": "2025-08-05T16:10:20.851477",
     "status": "completed"
    },
    "tags": []
   },
   "source": [
    "# (Fairness) Metrics"
   ]
  },
  {
   "cell_type": "code",
   "execution_count": 59,
   "id": "debc5d62",
   "metadata": {
    "execution": {
     "iopub.execute_input": "2025-08-05T16:10:20.920917Z",
     "iopub.status.busy": "2025-08-05T16:10:20.920397Z",
     "iopub.status.idle": "2025-08-05T16:10:20.941098Z",
     "shell.execute_reply": "2025-08-05T16:10:20.940206Z"
    },
    "papermill": {
     "duration": 0.046727,
     "end_time": "2025-08-05T16:10:20.943001",
     "exception": false,
     "start_time": "2025-08-05T16:10:20.896274",
     "status": "completed"
    },
    "tags": []
   },
   "outputs": [],
   "source": [
    "# do I need to include maxdeutsch1.missing?\n",
    "\n",
    "import numpy as np\n",
    "\n",
    "colname_to_bin = \"maxdeutsch1\"\n",
    "majority_value = org_train[colname_to_bin].mode()[0]\n",
    "\n",
    "org_test[\"majmin\"] = np.where(org_test[colname_to_bin] == majority_value, \"majority\", \"minority\")"
   ]
  },
  {
   "cell_type": "code",
   "execution_count": 60,
   "id": "06a50de5",
   "metadata": {
    "execution": {
     "iopub.execute_input": "2025-08-05T16:10:20.994461Z",
     "iopub.status.busy": "2025-08-05T16:10:20.993942Z",
     "iopub.status.idle": "2025-08-05T16:10:22.939118Z",
     "shell.execute_reply": "2025-08-05T16:10:22.938393Z"
    },
    "papermill": {
     "duration": 1.970276,
     "end_time": "2025-08-05T16:10:22.940522",
     "exception": false,
     "start_time": "2025-08-05T16:10:20.970246",
     "status": "completed"
    },
    "tags": []
   },
   "outputs": [],
   "source": [
    "example_universe = universe.copy()\n",
    "example_universe[\"cutoff\"] = example_universe[\"cutoff\"][0]\n",
    "example_universe[\"eval_fairness_grouping\"] = example_universe[\"eval_fairness_grouping\"][0]\n",
    "fairness_dict, metric_frame = universe_analysis.compute_metrics(\n",
    "    example_universe,\n",
    "    y_pred_prob=probs_test,\n",
    "    y_test=y_true,\n",
    "    org_test=org_test,\n",
    ")"
   ]
  },
  {
   "cell_type": "markdown",
   "id": "f95d4e02",
   "metadata": {
    "papermill": {
     "duration": 0.01187,
     "end_time": "2025-08-05T16:10:22.969224",
     "exception": false,
     "start_time": "2025-08-05T16:10:22.957354",
     "status": "completed"
    },
    "tags": []
   },
   "source": [
    "# Overall"
   ]
  },
  {
   "cell_type": "markdown",
   "id": "bdee4871",
   "metadata": {
    "papermill": {
     "duration": 0.011345,
     "end_time": "2025-08-05T16:10:22.996688",
     "exception": false,
     "start_time": "2025-08-05T16:10:22.985343",
     "status": "completed"
    },
    "tags": []
   },
   "source": [
    "Fairness\n",
    "Main fairness target: Equalized Odds. Seems to be a better fit than equal opportunity, since we're not only interested in Y = 1. Seems to be a better fit than demographic parity, since we also care about accuracy, not just equal distribution of preds.\n",
    "\n",
    "Pick column for computation of fairness metrics\n",
    "\n",
    "Performance\n",
    "Overall performance measures, most interesting in relation to the measures split by group below"
   ]
  },
  {
   "cell_type": "code",
   "execution_count": 61,
   "id": "c4e067c6",
   "metadata": {
    "execution": {
     "iopub.execute_input": "2025-08-05T16:10:23.036343Z",
     "iopub.status.busy": "2025-08-05T16:10:23.035874Z",
     "iopub.status.idle": "2025-08-05T16:10:23.046200Z",
     "shell.execute_reply": "2025-08-05T16:10:23.044961Z"
    },
    "papermill": {
     "duration": 0.040142,
     "end_time": "2025-08-05T16:10:23.047990",
     "exception": false,
     "start_time": "2025-08-05T16:10:23.007848",
     "status": "completed"
    },
    "tags": []
   },
   "outputs": [
    {
     "data": {
      "text/plain": [
       "accuracy                   0.216442\n",
       "balanced accuracy          0.530892\n",
       "f1                         0.237991\n",
       "precision                  0.135957\n",
       "false positive rate        0.892074\n",
       "false negative rate        0.046142\n",
       "selection rate             0.900000\n",
       "count                  89710.000000\n",
       "dtype: float64"
      ]
     },
     "execution_count": 61,
     "metadata": {},
     "output_type": "execute_result"
    }
   ],
   "source": [
    "metric_frame.overall"
   ]
  },
  {
   "cell_type": "markdown",
   "id": "e968fe9d",
   "metadata": {
    "papermill": {
     "duration": 0.026823,
     "end_time": "2025-08-05T16:10:23.100682",
     "exception": false,
     "start_time": "2025-08-05T16:10:23.073859",
     "status": "completed"
    },
    "tags": []
   },
   "source": [
    "By Group"
   ]
  },
  {
   "cell_type": "code",
   "execution_count": 62,
   "id": "ec325bce",
   "metadata": {
    "execution": {
     "iopub.execute_input": "2025-08-05T16:10:23.152120Z",
     "iopub.status.busy": "2025-08-05T16:10:23.151454Z",
     "iopub.status.idle": "2025-08-05T16:10:23.167283Z",
     "shell.execute_reply": "2025-08-05T16:10:23.166143Z"
    },
    "papermill": {
     "duration": 0.043361,
     "end_time": "2025-08-05T16:10:23.169158",
     "exception": false,
     "start_time": "2025-08-05T16:10:23.125797",
     "status": "completed"
    },
    "tags": []
   },
   "outputs": [
    {
     "data": {
      "text/html": [
       "<div>\n",
       "<style scoped>\n",
       "    .dataframe tbody tr th:only-of-type {\n",
       "        vertical-align: middle;\n",
       "    }\n",
       "\n",
       "    .dataframe tbody tr th {\n",
       "        vertical-align: top;\n",
       "    }\n",
       "\n",
       "    .dataframe thead th {\n",
       "        text-align: right;\n",
       "    }\n",
       "</style>\n",
       "<table border=\"1\" class=\"dataframe\">\n",
       "  <thead>\n",
       "    <tr style=\"text-align: right;\">\n",
       "      <th></th>\n",
       "      <th>accuracy</th>\n",
       "      <th>balanced accuracy</th>\n",
       "      <th>f1</th>\n",
       "      <th>precision</th>\n",
       "      <th>false positive rate</th>\n",
       "      <th>false negative rate</th>\n",
       "      <th>selection rate</th>\n",
       "      <th>count</th>\n",
       "    </tr>\n",
       "    <tr>\n",
       "      <th>majmin</th>\n",
       "      <th></th>\n",
       "      <th></th>\n",
       "      <th></th>\n",
       "      <th></th>\n",
       "      <th></th>\n",
       "      <th></th>\n",
       "      <th></th>\n",
       "      <th></th>\n",
       "    </tr>\n",
       "  </thead>\n",
       "  <tbody>\n",
       "    <tr>\n",
       "      <th>majority</th>\n",
       "      <td>0.237025</td>\n",
       "      <td>0.538168</td>\n",
       "      <td>0.247093</td>\n",
       "      <td>0.142072</td>\n",
       "      <td>0.871148</td>\n",
       "      <td>0.052516</td>\n",
       "      <td>0.881235</td>\n",
       "      <td>69170.0</td>\n",
       "    </tr>\n",
       "    <tr>\n",
       "      <th>minority</th>\n",
       "      <td>0.147128</td>\n",
       "      <td>0.508629</td>\n",
       "      <td>0.209191</td>\n",
       "      <td>0.117115</td>\n",
       "      <td>0.961204</td>\n",
       "      <td>0.021537</td>\n",
       "      <td>0.963194</td>\n",
       "      <td>20540.0</td>\n",
       "    </tr>\n",
       "  </tbody>\n",
       "</table>\n",
       "</div>"
      ],
      "text/plain": [
       "          accuracy  balanced accuracy        f1  precision  \\\n",
       "majmin                                                       \n",
       "majority  0.237025           0.538168  0.247093   0.142072   \n",
       "minority  0.147128           0.508629  0.209191   0.117115   \n",
       "\n",
       "          false positive rate  false negative rate  selection rate    count  \n",
       "majmin                                                                       \n",
       "majority             0.871148             0.052516        0.881235  69170.0  \n",
       "minority             0.961204             0.021537        0.963194  20540.0  "
      ]
     },
     "execution_count": 62,
     "metadata": {},
     "output_type": "execute_result"
    }
   ],
   "source": [
    "metric_frame.by_group"
   ]
  },
  {
   "cell_type": "code",
   "execution_count": 63,
   "id": "a9ddbe63",
   "metadata": {
    "execution": {
     "iopub.execute_input": "2025-08-05T16:10:23.223307Z",
     "iopub.status.busy": "2025-08-05T16:10:23.222722Z",
     "iopub.status.idle": "2025-08-05T16:10:25.397790Z",
     "shell.execute_reply": "2025-08-05T16:10:25.396768Z"
    },
    "papermill": {
     "duration": 2.203932,
     "end_time": "2025-08-05T16:10:25.399830",
     "exception": false,
     "start_time": "2025-08-05T16:10:23.195898",
     "status": "completed"
    },
    "tags": []
   },
   "outputs": [
    {
     "data": {
      "text/plain": [
       "array([[<Axes: title={'center': 'accuracy'}, xlabel='majmin'>,\n",
       "        <Axes: title={'center': 'balanced accuracy'}, xlabel='majmin'>,\n",
       "        <Axes: title={'center': 'f1'}, xlabel='majmin'>],\n",
       "       [<Axes: title={'center': 'precision'}, xlabel='majmin'>,\n",
       "        <Axes: title={'center': 'false positive rate'}, xlabel='majmin'>,\n",
       "        <Axes: title={'center': 'false negative rate'}, xlabel='majmin'>],\n",
       "       [<Axes: title={'center': 'selection rate'}, xlabel='majmin'>,\n",
       "        <Axes: title={'center': 'count'}, xlabel='majmin'>,\n",
       "        <Axes: xlabel='majmin'>]], dtype=object)"
      ]
     },
     "execution_count": 63,
     "metadata": {},
     "output_type": "execute_result"
    },
    {
     "data": {
      "image/png": "[encoded data removed]",
      "text/plain": [
       "<Figure size 1200x800 with 9 Axes>"
      ]
     },
     "metadata": {},
     "output_type": "display_data"
    }
   ],
   "source": [
    "# In a graphic\n",
    "metric_frame.by_group.plot.bar(\n",
    "    subplots=True,\n",
    "    layout=[3, 3],\n",
    "    legend=False,\n",
    "    figsize=[12, 8],\n",
    "    title=\"Show all metrics\",\n",
    ")"
   ]
  },
  {
   "cell_type": "markdown",
   "id": "f57a0bac",
   "metadata": {
    "papermill": {
     "duration": 0.035784,
     "end_time": "2025-08-05T16:10:25.470904",
     "exception": false,
     "start_time": "2025-08-05T16:10:25.435120",
     "status": "completed"
    },
    "tags": []
   },
   "source": [
    "# Final Output"
   ]
  },
  {
   "cell_type": "code",
   "execution_count": 64,
   "id": "96d280a3",
   "metadata": {
    "execution": {
     "iopub.execute_input": "2025-08-05T16:10:25.546982Z",
     "iopub.status.busy": "2025-08-05T16:10:25.545755Z",
     "iopub.status.idle": "2025-08-05T16:10:25.556078Z",
     "shell.execute_reply": "2025-08-05T16:10:25.554932Z"
    },
    "papermill": {
     "duration": 0.050709,
     "end_time": "2025-08-05T16:10:25.558400",
     "exception": false,
     "start_time": "2025-08-05T16:10:25.507691",
     "status": "completed"
    },
    "tags": []
   },
   "outputs": [
    {
     "data": {
      "text/plain": [
       "4"
      ]
     },
     "execution_count": 64,
     "metadata": {},
     "output_type": "execute_result"
    }
   ],
   "source": [
    "sub_universes = universe_analysis.generate_sub_universes()\n",
    "len(sub_universes)"
   ]
  },
  {
   "cell_type": "code",
   "execution_count": 65,
   "id": "92adf7ba",
   "metadata": {
    "execution": {
     "iopub.execute_input": "2025-08-05T16:10:25.633627Z",
     "iopub.status.busy": "2025-08-05T16:10:25.633196Z",
     "iopub.status.idle": "2025-08-05T16:10:25.640155Z",
     "shell.execute_reply": "2025-08-05T16:10:25.638847Z"
    },
    "papermill": {
     "duration": 0.047483,
     "end_time": "2025-08-05T16:10:25.642536",
     "exception": false,
     "start_time": "2025-08-05T16:10:25.595053",
     "status": "completed"
    },
    "tags": []
   },
   "outputs": [],
   "source": [
    "def filter_sub_universe_data(sub_universe, org_test):\n",
    "    # Keep all rows — no filtering\n",
    "    keep_rows_mask = np.ones(org_test.shape[0], dtype=bool)\n",
    "\n",
    "    print(f\"[INFO] Keeping all rows: {keep_rows_mask.sum()} rows retained.\")\n",
    "    return keep_rows_mask"
   ]
  },
  {
   "cell_type": "code",
   "execution_count": 66,
   "id": "4a759155",
   "metadata": {
    "execution": {
     "iopub.execute_input": "2025-08-05T16:10:25.717594Z",
     "iopub.status.busy": "2025-08-05T16:10:25.716862Z",
     "iopub.status.idle": "2025-08-05T16:10:34.204395Z",
     "shell.execute_reply": "2025-08-05T16:10:34.203489Z"
    },
    "papermill": {
     "duration": 8.526581,
     "end_time": "2025-08-05T16:10:34.206051",
     "exception": false,
     "start_time": "2025-08-05T16:10:25.679470",
     "status": "completed"
    },
    "tags": []
   },
   "outputs": [
    {
     "name": "stdout",
     "output_type": "stream",
     "text": [
      "Stopping execution_time clock.\n",
      "[INFO] Keeping all rows: 89710 rows retained.\n"
     ]
    },
    {
     "name": "stdout",
     "output_type": "stream",
     "text": [
      "[INFO] Keeping all rows: 89710 rows retained.\n"
     ]
    },
    {
     "name": "stdout",
     "output_type": "stream",
     "text": [
      "[INFO] Keeping all rows: 89710 rows retained.\n"
     ]
    },
    {
     "name": "stdout",
     "output_type": "stream",
     "text": [
      "[INFO] Keeping all rows: 89710 rows retained.\n"
     ]
    },
    {
     "data": {
      "text/html": [
       "<div>\n",
       "<style scoped>\n",
       "    .dataframe tbody tr th:only-of-type {\n",
       "        vertical-align: middle;\n",
       "    }\n",
       "\n",
       "    .dataframe tbody tr th {\n",
       "        vertical-align: top;\n",
       "    }\n",
       "\n",
       "    .dataframe thead th {\n",
       "        text-align: right;\n",
       "    }\n",
       "</style>\n",
       "<table border=\"1\" class=\"dataframe\">\n",
       "  <thead>\n",
       "    <tr style=\"text-align: right;\">\n",
       "      <th></th>\n",
       "      <th>run_no</th>\n",
       "      <th>universe_id</th>\n",
       "      <th>universe_settings</th>\n",
       "      <th>execution_time</th>\n",
       "      <th>test_size_n</th>\n",
       "      <th>test_size_frac</th>\n",
       "      <th>fair_main_equalized_odds_difference</th>\n",
       "      <th>fair_main_equalized_odds_ratio</th>\n",
       "      <th>fair_main_demographic_parity_difference</th>\n",
       "      <th>fair_main_demographic_parity_ratio</th>\n",
       "      <th>...</th>\n",
       "      <th>perf_grp_precision_0</th>\n",
       "      <th>perf_grp_precision_1</th>\n",
       "      <th>perf_grp_false positive rate_0</th>\n",
       "      <th>perf_grp_false positive rate_1</th>\n",
       "      <th>perf_grp_false negative rate_0</th>\n",
       "      <th>perf_grp_false negative rate_1</th>\n",
       "      <th>perf_grp_selection rate_0</th>\n",
       "      <th>perf_grp_selection rate_1</th>\n",
       "      <th>perf_grp_count_0</th>\n",
       "      <th>perf_grp_count_1</th>\n",
       "    </tr>\n",
       "  </thead>\n",
       "  <tbody>\n",
       "    <tr>\n",
       "      <th>0</th>\n",
       "      <td>15</td>\n",
       "      <td>d8b4b7dbb5b1895f4c786d14763fbb37</td>\n",
       "      <td>{\"cutoff\": \"quantile_0.1\", \"eval_fairness_grou...</td>\n",
       "      <td>23.032023</td>\n",
       "      <td>89710</td>\n",
       "      <td>1.0</td>\n",
       "      <td>0.090056</td>\n",
       "      <td>0.906309</td>\n",
       "      <td>0.081959</td>\n",
       "      <td>0.914909</td>\n",
       "      <td>...</td>\n",
       "      <td>NaN</td>\n",
       "      <td>NaN</td>\n",
       "      <td>NaN</td>\n",
       "      <td>NaN</td>\n",
       "      <td>NaN</td>\n",
       "      <td>NaN</td>\n",
       "      <td>NaN</td>\n",
       "      <td>NaN</td>\n",
       "      <td>NaN</td>\n",
       "      <td>NaN</td>\n",
       "    </tr>\n",
       "    <tr>\n",
       "      <th>0</th>\n",
       "      <td>15</td>\n",
       "      <td>d8b4b7dbb5b1895f4c786d14763fbb37</td>\n",
       "      <td>{\"cutoff\": \"quantile_0.1\", \"eval_fairness_grou...</td>\n",
       "      <td>23.032023</td>\n",
       "      <td>89710</td>\n",
       "      <td>1.0</td>\n",
       "      <td>0.090056</td>\n",
       "      <td>0.906309</td>\n",
       "      <td>0.081959</td>\n",
       "      <td>0.914909</td>\n",
       "      <td>...</td>\n",
       "      <td>0.117115</td>\n",
       "      <td>0.142072</td>\n",
       "      <td>0.961204</td>\n",
       "      <td>0.871148</td>\n",
       "      <td>0.021537</td>\n",
       "      <td>0.052516</td>\n",
       "      <td>0.963194</td>\n",
       "      <td>0.881235</td>\n",
       "      <td>20540.0</td>\n",
       "      <td>69170.0</td>\n",
       "    </tr>\n",
       "    <tr>\n",
       "      <th>0</th>\n",
       "      <td>15</td>\n",
       "      <td>d8b4b7dbb5b1895f4c786d14763fbb37</td>\n",
       "      <td>{\"cutoff\": \"quantile_0.25\", \"eval_fairness_gro...</td>\n",
       "      <td>23.032023</td>\n",
       "      <td>89710</td>\n",
       "      <td>1.0</td>\n",
       "      <td>0.211361</td>\n",
       "      <td>0.764032</td>\n",
       "      <td>0.194108</td>\n",
       "      <td>0.784243</td>\n",
       "      <td>...</td>\n",
       "      <td>NaN</td>\n",
       "      <td>NaN</td>\n",
       "      <td>NaN</td>\n",
       "      <td>NaN</td>\n",
       "      <td>NaN</td>\n",
       "      <td>NaN</td>\n",
       "      <td>NaN</td>\n",
       "      <td>NaN</td>\n",
       "      <td>NaN</td>\n",
       "      <td>NaN</td>\n",
       "    </tr>\n",
       "    <tr>\n",
       "      <th>0</th>\n",
       "      <td>15</td>\n",
       "      <td>d8b4b7dbb5b1895f4c786d14763fbb37</td>\n",
       "      <td>{\"cutoff\": \"quantile_0.25\", \"eval_fairness_gro...</td>\n",
       "      <td>23.032023</td>\n",
       "      <td>89710</td>\n",
       "      <td>1.0</td>\n",
       "      <td>0.211361</td>\n",
       "      <td>0.764032</td>\n",
       "      <td>0.194108</td>\n",
       "      <td>0.784243</td>\n",
       "      <td>...</td>\n",
       "      <td>0.119162</td>\n",
       "      <td>0.158207</td>\n",
       "      <td>0.895719</td>\n",
       "      <td>0.684358</td>\n",
       "      <td>0.070101</td>\n",
       "      <td>0.155252</td>\n",
       "      <td>0.899659</td>\n",
       "      <td>0.705552</td>\n",
       "      <td>20540.0</td>\n",
       "      <td>69170.0</td>\n",
       "    </tr>\n",
       "  </tbody>\n",
       "</table>\n",
       "<p>4 rows × 50 columns</p>\n",
       "</div>"
      ],
      "text/plain": [
       "  run_no                       universe_id  \\\n",
       "0     15  d8b4b7dbb5b1895f4c786d14763fbb37   \n",
       "0     15  d8b4b7dbb5b1895f4c786d14763fbb37   \n",
       "0     15  d8b4b7dbb5b1895f4c786d14763fbb37   \n",
       "0     15  d8b4b7dbb5b1895f4c786d14763fbb37   \n",
       "\n",
       "                                   universe_settings  execution_time  \\\n",
       "0  {\"cutoff\": \"quantile_0.1\", \"eval_fairness_grou...       23.032023   \n",
       "0  {\"cutoff\": \"quantile_0.1\", \"eval_fairness_grou...       23.032023   \n",
       "0  {\"cutoff\": \"quantile_0.25\", \"eval_fairness_gro...       23.032023   \n",
       "0  {\"cutoff\": \"quantile_0.25\", \"eval_fairness_gro...       23.032023   \n",
       "\n",
       "   test_size_n  test_size_frac  fair_main_equalized_odds_difference  \\\n",
       "0        89710             1.0                             0.090056   \n",
       "0        89710             1.0                             0.090056   \n",
       "0        89710             1.0                             0.211361   \n",
       "0        89710             1.0                             0.211361   \n",
       "\n",
       "   fair_main_equalized_odds_ratio  fair_main_demographic_parity_difference  \\\n",
       "0                        0.906309                                 0.081959   \n",
       "0                        0.906309                                 0.081959   \n",
       "0                        0.764032                                 0.194108   \n",
       "0                        0.764032                                 0.194108   \n",
       "\n",
       "   fair_main_demographic_parity_ratio  ...  perf_grp_precision_0  \\\n",
       "0                            0.914909  ...                   NaN   \n",
       "0                            0.914909  ...              0.117115   \n",
       "0                            0.784243  ...                   NaN   \n",
       "0                            0.784243  ...              0.119162   \n",
       "\n",
       "   perf_grp_precision_1  perf_grp_false positive rate_0  \\\n",
       "0                   NaN                             NaN   \n",
       "0              0.142072                        0.961204   \n",
       "0                   NaN                             NaN   \n",
       "0              0.158207                        0.895719   \n",
       "\n",
       "   perf_grp_false positive rate_1  perf_grp_false negative rate_0  \\\n",
       "0                             NaN                             NaN   \n",
       "0                        0.871148                        0.021537   \n",
       "0                             NaN                             NaN   \n",
       "0                        0.684358                        0.070101   \n",
       "\n",
       "   perf_grp_false negative rate_1  perf_grp_selection rate_0  \\\n",
       "0                             NaN                        NaN   \n",
       "0                        0.052516                   0.963194   \n",
       "0                             NaN                        NaN   \n",
       "0                        0.155252                   0.899659   \n",
       "\n",
       "   perf_grp_selection rate_1  perf_grp_count_0  perf_grp_count_1  \n",
       "0                        NaN               NaN               NaN  \n",
       "0                   0.881235           20540.0           69170.0  \n",
       "0                        NaN               NaN               NaN  \n",
       "0                   0.705552           20540.0           69170.0  \n",
       "\n",
       "[4 rows x 50 columns]"
      ]
     },
     "execution_count": 66,
     "metadata": {},
     "output_type": "execute_result"
    }
   ],
   "source": [
    "final_output = universe_analysis.generate_final_output(\n",
    "    y_pred_prob=probs_test,\n",
    "    y_test=y_true,\n",
    "    org_test=org_test,\n",
    "    filter_data=filter_sub_universe_data,\n",
    "    cp_metrics_df=cp_metrics_df,\n",
    "    save=True,\n",
    ")\n",
    "final_output"
   ]
  }
 ],
 "metadata": {
  "celltoolbar": "Tags",
  "kernelspec": {
   "display_name": "Python (CMA Fairness)",
   "language": "python",
   "name": "cma_fair_env"
  },
  "language_info": {
   "codemirror_mode": {
    "name": "ipython",
    "version": 3
   },
   "file_extension": ".py",
   "mimetype": "text/x-python",
   "name": "python",
   "nbconvert_exporter": "python",
   "pygments_lexer": "ipython3",
   "version": "3.10.12"
  },
  "papermill": {
   "default_parameters": {},
   "duration": 35.63177,
   "end_time": "2025-08-05T16:10:35.055757",
   "environment_variables": {},
   "exception": null,
   "input_path": "universe_analysis.ipynb",
   "output_path": "output/runs/15/notebooks/m_15-d8b4b7dbb5b1895f4c786d14763fbb37.ipynb",
   "parameters": {
    "output_dir": "output",
    "run_no": "15",
    "seed": "2023",
    "universe": "{\"cutoff\": [\"quantile_0.1\", \"quantile_0.25\"], \"eval_fairness_grouping\": [\"majority-minority\", \"nationality-all\"], \"exclude_features\": \"nationality\", \"exclude_subgroups\": \"drop-non-german\", \"model\": \"penalized_logreg\", \"scale\": \"do-not-scale\", \"training_size\": \"1k\", \"training_year\": \"2014\"}",
    "universe_id": "d8b4b7dbb5b1895f4c786d14763fbb37"
   },
   "start_time": "2025-08-05T16:09:59.423987",
   "version": "2.6.0"
  }
 },
 "nbformat": 4,
 "nbformat_minor": 5
}