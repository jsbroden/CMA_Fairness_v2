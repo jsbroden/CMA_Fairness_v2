{
 "cells": [
  {
   "cell_type": "code",
   "execution_count": 1,
   "id": "f159f837-637b-42ba-96b5-ec9a68c44524",
   "metadata": {
    "execution": {
     "iopub.execute_input": "2025-08-05T16:22:03.102433Z",
     "iopub.status.busy": "2025-08-05T16:22:03.101883Z",
     "iopub.status.idle": "2025-08-05T16:22:03.119013Z",
     "shell.execute_reply": "2025-08-05T16:22:03.117450Z"
    },
    "papermill": {
     "duration": 0.04272,
     "end_time": "2025-08-05T16:22:03.120953",
     "exception": false,
     "start_time": "2025-08-05T16:22:03.078233",
     "status": "completed"
    },
    "tags": []
   },
   "outputs": [
    {
     "name": "stdout",
     "output_type": "stream",
     "text": [
      "/dss/dsshome1/0C/ra93lal2/cma/CMA_Fairness_v2\n"
     ]
    },
    {
     "name": "stderr",
     "output_type": "stream",
     "text": [
      "/dss/dsshome1/0C/ra93lal2/.local/share/virtualenvs/CMA_Fairness_v2-3j10GkSs/lib/python3.10/site-packages/IPython/core/magics/osm.py:393: UserWarning: This is now an optional IPython functionality, using bookmarks requires you to install the `pickleshare` library.\n",
      "  bkms = self.shell.db.get('bookmarks', {})\n",
      "/dss/dsshome1/0C/ra93lal2/.local/share/virtualenvs/CMA_Fairness_v2-3j10GkSs/lib/python3.10/site-packages/IPython/core/magics/osm.py:417: UserWarning: This is now an optional IPython functionality, setting dhist requires you to install the `pickleshare` library.\n",
      "  self.shell.db['dhist'] = compress_dhist(dhist)[-100:]\n"
     ]
    }
   ],
   "source": [
    "%cd ~/cma/CMA_Fairness_v2"
   ]
  },
  {
   "cell_type": "markdown",
   "id": "de2603b9",
   "metadata": {
    "papermill": {
     "duration": 0.018285,
     "end_time": "2025-08-05T16:22:03.158602",
     "exception": false,
     "start_time": "2025-08-05T16:22:03.140317",
     "status": "completed"
    },
    "tags": []
   },
   "source": [
    "The following cell holds the definition of our parameters, these values can be overriden by rendering the with e.g. the following command:\n",
    "\n",
    "papermill -p alpha 0.2 -p ratio 0.3 universe_analysis.ipynb output/test_run.ipynb"
   ]
  },
  {
   "cell_type": "code",
   "execution_count": 2,
   "id": "a80968a0-40bb-4fa9-85ef-2d5eefb01975",
   "metadata": {
    "execution": {
     "iopub.execute_input": "2025-08-05T16:22:03.198403Z",
     "iopub.status.busy": "2025-08-05T16:22:03.197662Z",
     "iopub.status.idle": "2025-08-05T16:22:03.204175Z",
     "shell.execute_reply": "2025-08-05T16:22:03.203096Z"
    },
    "papermill": {
     "duration": 0.028738,
     "end_time": "2025-08-05T16:22:03.205961",
     "exception": false,
     "start_time": "2025-08-05T16:22:03.177223",
     "status": "completed"
    },
    "tags": []
   },
   "outputs": [
    {
     "name": "stdout",
     "output_type": "stream",
     "text": [
      "Current working directory: /dss/dsshome1/0C/ra93lal2/cma/CMA_Fairness_v2\n"
     ]
    }
   ],
   "source": [
    "import os\n",
    "print(\"Current working directory:\", os.getcwd())"
   ]
  },
  {
   "cell_type": "code",
   "execution_count": 3,
   "id": "2dce4c03",
   "metadata": {
    "execution": {
     "iopub.execute_input": "2025-08-05T16:22:03.246076Z",
     "iopub.status.busy": "2025-08-05T16:22:03.245413Z",
     "iopub.status.idle": "2025-08-05T16:22:03.252648Z",
     "shell.execute_reply": "2025-08-05T16:22:03.251561Z"
    },
    "papermill": {
     "duration": 0.029306,
     "end_time": "2025-08-05T16:22:03.254677",
     "exception": false,
     "start_time": "2025-08-05T16:22:03.225371",
     "status": "completed"
    },
    "tags": [
     "parameters"
    ]
   },
   "outputs": [],
   "source": [
    "run_no = 0\n",
    "universe_id = \"test\"\n",
    "universe = {\n",
    "    \"training_size\": \"25k\", # \"25k\", \"5k\", \"1k\"\n",
    "    \"training_year\": \"2014\", # \"2014\", \"2012_14\", \"2010_14\"\n",
    "    \"scale\": \"scale\", # \"scale\", \"do-not-scale\",\n",
    "    \"model\": \"elasticnet\", # \"logreg\", \"penalized_logreg\", \"rf\", \"gbm\", \"elasticnet\"\n",
    "    \"cutoff\": [\"quantile_0.15\", \"quantile_0.30\"],\n",
    "    \"exclude_features\": \"age\", # \"none\", \"nationality\", \"sex\", \"nationality-sex\", \"age\"\n",
    "    \"exclude_subgroups\": \"keep-all\", # \"keep-all\", \"drop-non-german\"\n",
    "    \"eval_fairness_grouping\": [\"majority-minority\", \"nationality-all\"]\n",
    "}\n",
    "\n",
    "output_dir=\"./output\"\n",
    "seed=0"
   ]
  },
  {
   "cell_type": "code",
   "execution_count": 4,
   "id": "57e8eea6",
   "metadata": {
    "execution": {
     "iopub.execute_input": "2025-08-05T16:22:03.297915Z",
     "iopub.status.busy": "2025-08-05T16:22:03.297077Z",
     "iopub.status.idle": "2025-08-05T16:22:03.303390Z",
     "shell.execute_reply": "2025-08-05T16:22:03.302259Z"
    },
    "papermill": {
     "duration": 0.029639,
     "end_time": "2025-08-05T16:22:03.305201",
     "exception": false,
     "start_time": "2025-08-05T16:22:03.275562",
     "status": "completed"
    },
    "tags": [
     "injected-parameters"
    ]
   },
   "outputs": [],
   "source": [
    "# Parameters\n",
    "universe_id = \"5ed6915b873bdb5587ed906a81b5bdfa\"\n",
    "run_no = \"15\"\n",
    "universe = \"{\\\"cutoff\\\": [\\\"quantile_0.1\\\", \\\"quantile_0.25\\\"], \\\"eval_fairness_grouping\\\": [\\\"majority-minority\\\", \\\"nationality-all\\\"], \\\"exclude_features\\\": \\\"sex\\\", \\\"exclude_subgroups\\\": \\\"keep-all\\\", \\\"model\\\": \\\"elasticnet\\\", \\\"scale\\\": \\\"scale\\\", \\\"training_size\\\": \\\"1k\\\", \\\"training_year\\\": \\\"2012_14\\\"}\"\n",
    "output_dir = \"output\"\n",
    "seed = \"2023\"\n"
   ]
  },
  {
   "cell_type": "code",
   "execution_count": 5,
   "id": "1650acaf",
   "metadata": {
    "execution": {
     "iopub.execute_input": "2025-08-05T16:22:03.347387Z",
     "iopub.status.busy": "2025-08-05T16:22:03.346464Z",
     "iopub.status.idle": "2025-08-05T16:22:03.352533Z",
     "shell.execute_reply": "2025-08-05T16:22:03.351410Z"
    },
    "papermill": {
     "duration": 0.029972,
     "end_time": "2025-08-05T16:22:03.354532",
     "exception": false,
     "start_time": "2025-08-05T16:22:03.324560",
     "status": "completed"
    },
    "tags": []
   },
   "outputs": [],
   "source": [
    "import json\n",
    "if isinstance(universe, str):\n",
    "    universe = json.loads(universe)"
   ]
  },
  {
   "cell_type": "code",
   "execution_count": 6,
   "id": "16620c48",
   "metadata": {
    "execution": {
     "iopub.execute_input": "2025-08-05T16:22:03.395499Z",
     "iopub.status.busy": "2025-08-05T16:22:03.394858Z",
     "iopub.status.idle": "2025-08-05T16:22:03.453183Z",
     "shell.execute_reply": "2025-08-05T16:22:03.452079Z"
    },
    "papermill": {
     "duration": 0.081587,
     "end_time": "2025-08-05T16:22:03.455337",
     "exception": false,
     "start_time": "2025-08-05T16:22:03.373750",
     "status": "completed"
    },
    "tags": []
   },
   "outputs": [],
   "source": [
    "# Auto-reload the custom package\n",
    "%load_ext autoreload\n",
    "%autoreload 1\n",
    "%aimport fairness_multiverse"
   ]
  },
  {
   "cell_type": "code",
   "execution_count": 7,
   "id": "01c5c9f3",
   "metadata": {
    "execution": {
     "iopub.execute_input": "2025-08-05T16:22:03.499245Z",
     "iopub.status.busy": "2025-08-05T16:22:03.498379Z",
     "iopub.status.idle": "2025-08-05T16:22:05.832736Z",
     "shell.execute_reply": "2025-08-05T16:22:05.831477Z"
    },
    "papermill": {
     "duration": 2.35889,
     "end_time": "2025-08-05T16:22:05.835239",
     "exception": false,
     "start_time": "2025-08-05T16:22:03.476349",
     "status": "completed"
    },
    "tags": []
   },
   "outputs": [],
   "source": [
    "from fairness_multiverse.universe import UniverseAnalysis\n",
    "\n",
    "universe_analysis = UniverseAnalysis(\n",
    "    run_no = run_no,\n",
    "    universe_id = universe_id,\n",
    "    universe = universe,\n",
    "    output_dir=output_dir,\n",
    ")"
   ]
  },
  {
   "cell_type": "code",
   "execution_count": 8,
   "id": "106241f5",
   "metadata": {
    "execution": {
     "iopub.execute_input": "2025-08-05T16:22:05.885075Z",
     "iopub.status.busy": "2025-08-05T16:22:05.883917Z",
     "iopub.status.idle": "2025-08-05T16:22:05.892579Z",
     "shell.execute_reply": "2025-08-05T16:22:05.891367Z"
    },
    "papermill": {
     "duration": 0.035764,
     "end_time": "2025-08-05T16:22:05.894480",
     "exception": false,
     "start_time": "2025-08-05T16:22:05.858716",
     "status": "completed"
    },
    "tags": []
   },
   "outputs": [
    {
     "name": "stdout",
     "output_type": "stream",
     "text": [
      "Using Seed: 2023\n"
     ]
    }
   ],
   "source": [
    "import numpy as np\n",
    "parsed_seed = int(seed)\n",
    "np.random.seed(parsed_seed)\n",
    "print(f\"Using Seed: {parsed_seed}\")"
   ]
  },
  {
   "cell_type": "markdown",
   "id": "e0ebdc57",
   "metadata": {
    "papermill": {
     "duration": 0.01907,
     "end_time": "2025-08-05T16:22:05.933248",
     "exception": false,
     "start_time": "2025-08-05T16:22:05.914178",
     "status": "completed"
    },
    "tags": []
   },
   "source": [
    "# Loading Data"
   ]
  },
  {
   "cell_type": "code",
   "execution_count": 9,
   "id": "f0496b8a",
   "metadata": {
    "execution": {
     "iopub.execute_input": "2025-08-05T16:22:05.974431Z",
     "iopub.status.busy": "2025-08-05T16:22:05.973390Z",
     "iopub.status.idle": "2025-08-05T16:22:21.178252Z",
     "shell.execute_reply": "2025-08-05T16:22:21.172987Z"
    },
    "papermill": {
     "duration": 15.227938,
     "end_time": "2025-08-05T16:22:21.180344",
     "exception": false,
     "start_time": "2025-08-05T16:22:05.952406",
     "status": "completed"
    },
    "tags": []
   },
   "outputs": [
    {
     "name": "stdout",
     "output_type": "stream",
     "text": [
      "Loading SIAB data from cache: data/siab_cached.csv.gz\n"
     ]
    },
    {
     "name": "stdout",
     "output_type": "stream",
     "text": [
      "(643690, 164)\n"
     ]
    }
   ],
   "source": [
    "from pathlib import Path\n",
    "import pandas as pd\n",
    "\n",
    "# File paths\n",
    "raw_file = Path(\"data/raw/siab.csv\")\n",
    "cache_file = Path(\"data/siab_cached.csv.gz\")\n",
    "\n",
    "# Ensure cache directory exists\n",
    "cache_file.parent.mkdir(parents=True, exist_ok=True)\n",
    "\n",
    "# Load with simple caching\n",
    "if cache_file.exists():\n",
    "    print(f\"Loading SIAB data from cache: {cache_file}\")\n",
    "    siab = pd.read_csv(cache_file, compression='gzip')\n",
    "else:\n",
    "    print(f\"Cache not found. Reading raw SIAB data: {raw_file}\")\n",
    "    siab = pd.read_csv(raw_file)\n",
    "    siab.to_csv(cache_file, index=False, compression='gzip')\n",
    "    print(f\"Cached SIAB data to: {cache_file}\")\n",
    "\n",
    "print(siab.shape)"
   ]
  },
  {
   "cell_type": "code",
   "execution_count": 10,
   "id": "db0ca512-5f53-4dba-abdb-a2888bca41ba",
   "metadata": {
    "execution": {
     "iopub.execute_input": "2025-08-05T16:22:21.234014Z",
     "iopub.status.busy": "2025-08-05T16:22:21.232972Z",
     "iopub.status.idle": "2025-08-05T16:22:21.239620Z",
     "shell.execute_reply": "2025-08-05T16:22:21.238515Z"
    },
    "papermill": {
     "duration": 0.032895,
     "end_time": "2025-08-05T16:22:21.241954",
     "exception": false,
     "start_time": "2025-08-05T16:22:21.209059",
     "status": "completed"
    },
    "tags": []
   },
   "outputs": [],
   "source": [
    "#siab"
   ]
  },
  {
   "cell_type": "markdown",
   "id": "997051c5-15bd-4b69-9786-c3001a3ce484",
   "metadata": {
    "papermill": {
     "duration": 0.023347,
     "end_time": "2025-08-05T16:22:21.288796",
     "exception": false,
     "start_time": "2025-08-05T16:22:21.265449",
     "status": "completed"
    },
    "tags": []
   },
   "source": [
    "# Splitting Data and Setting Training Data Size"
   ]
  },
  {
   "cell_type": "code",
   "execution_count": 11,
   "id": "aea9c6ef-6f46-42c8-85eb-5a62025c1508",
   "metadata": {
    "execution": {
     "iopub.execute_input": "2025-08-05T16:22:21.337989Z",
     "iopub.status.busy": "2025-08-05T16:22:21.336968Z",
     "iopub.status.idle": "2025-08-05T16:22:22.005049Z",
     "shell.execute_reply": "2025-08-05T16:22:22.003966Z"
    },
    "papermill": {
     "duration": 0.695214,
     "end_time": "2025-08-05T16:22:22.007228",
     "exception": false,
     "start_time": "2025-08-05T16:22:21.312014",
     "status": "completed"
    },
    "tags": []
   },
   "outputs": [],
   "source": [
    "from fairness_multiverse.universe import sample_by_year_size\n",
    "\n",
    "siab_train = sample_by_year_size(siab,\n",
    "                               training_year=universe[\"training_year\"],\n",
    "                               training_size=universe[\"training_size\"])"
   ]
  },
  {
   "cell_type": "code",
   "execution_count": 12,
   "id": "8d3afb32-789d-442c-8d5d-9f5aa8dd2eed",
   "metadata": {
    "execution": {
     "iopub.execute_input": "2025-08-05T16:22:22.040982Z",
     "iopub.status.busy": "2025-08-05T16:22:22.040488Z",
     "iopub.status.idle": "2025-08-05T16:22:22.045759Z",
     "shell.execute_reply": "2025-08-05T16:22:22.044920Z"
    },
    "papermill": {
     "duration": 0.019909,
     "end_time": "2025-08-05T16:22:22.047279",
     "exception": false,
     "start_time": "2025-08-05T16:22:22.027370",
     "status": "completed"
    },
    "tags": []
   },
   "outputs": [],
   "source": [
    "#siab_train.shape"
   ]
  },
  {
   "cell_type": "code",
   "execution_count": 13,
   "id": "d582db68-1a4c-47fb-84fc-08518dc1975a",
   "metadata": {
    "execution": {
     "iopub.execute_input": "2025-08-05T16:22:22.070282Z",
     "iopub.status.busy": "2025-08-05T16:22:22.069961Z",
     "iopub.status.idle": "2025-08-05T16:22:22.074157Z",
     "shell.execute_reply": "2025-08-05T16:22:22.073228Z"
    },
    "papermill": {
     "duration": 0.017281,
     "end_time": "2025-08-05T16:22:22.075600",
     "exception": false,
     "start_time": "2025-08-05T16:22:22.058319",
     "status": "completed"
    },
    "tags": []
   },
   "outputs": [],
   "source": [
    "#display(siab_train.groupby(\"year\").size())"
   ]
  },
  {
   "cell_type": "code",
   "execution_count": 14,
   "id": "a561edb4-d032-42cb-8256-22eac1111c64",
   "metadata": {
    "execution": {
     "iopub.execute_input": "2025-08-05T16:22:22.098754Z",
     "iopub.status.busy": "2025-08-05T16:22:22.098311Z",
     "iopub.status.idle": "2025-08-05T16:22:22.300768Z",
     "shell.execute_reply": "2025-08-05T16:22:22.299874Z"
    },
    "papermill": {
     "duration": 0.21595,
     "end_time": "2025-08-05T16:22:22.302659",
     "exception": false,
     "start_time": "2025-08-05T16:22:22.086709",
     "status": "completed"
    },
    "tags": []
   },
   "outputs": [],
   "source": [
    "#siab_train = siab_s[siab_s.year < 2015]\n",
    "siab_calib = siab[siab.year == 2015]\n",
    "siab_test = siab[siab.year == 2016]"
   ]
  },
  {
   "cell_type": "code",
   "execution_count": 15,
   "id": "472de16f-c3db-4916-846b-1f0de9cf1746",
   "metadata": {
    "execution": {
     "iopub.execute_input": "2025-08-05T16:22:22.326981Z",
     "iopub.status.busy": "2025-08-05T16:22:22.326198Z",
     "iopub.status.idle": "2025-08-05T16:22:22.332913Z",
     "shell.execute_reply": "2025-08-05T16:22:22.332103Z"
    },
    "papermill": {
     "duration": 0.020432,
     "end_time": "2025-08-05T16:22:22.334743",
     "exception": false,
     "start_time": "2025-08-05T16:22:22.314311",
     "status": "completed"
    },
    "tags": []
   },
   "outputs": [],
   "source": [
    "X_train = siab_train.iloc[:,4:164]\n",
    "y_train = siab_train.iloc[:, [3]]"
   ]
  },
  {
   "cell_type": "code",
   "execution_count": 16,
   "id": "828c96af-f43a-4ed6-ba47-8ac73a47d56c",
   "metadata": {
    "execution": {
     "iopub.execute_input": "2025-08-05T16:22:22.382270Z",
     "iopub.status.busy": "2025-08-05T16:22:22.381310Z",
     "iopub.status.idle": "2025-08-05T16:22:22.438644Z",
     "shell.execute_reply": "2025-08-05T16:22:22.437407Z"
    },
    "papermill": {
     "duration": 0.082872,
     "end_time": "2025-08-05T16:22:22.440268",
     "exception": false,
     "start_time": "2025-08-05T16:22:22.357396",
     "status": "completed"
    },
    "tags": []
   },
   "outputs": [],
   "source": [
    "X_calib = siab_calib.iloc[:,4:164]\n",
    "y_calib = siab_calib.iloc[:, [3]]"
   ]
  },
  {
   "cell_type": "code",
   "execution_count": 17,
   "id": "c34be9c3-6bd6-476e-acd3-845840e303be",
   "metadata": {
    "execution": {
     "iopub.execute_input": "2025-08-05T16:22:22.485645Z",
     "iopub.status.busy": "2025-08-05T16:22:22.484798Z",
     "iopub.status.idle": "2025-08-05T16:22:22.544059Z",
     "shell.execute_reply": "2025-08-05T16:22:22.543137Z"
    },
    "papermill": {
     "duration": 0.085789,
     "end_time": "2025-08-05T16:22:22.547220",
     "exception": false,
     "start_time": "2025-08-05T16:22:22.461431",
     "status": "completed"
    },
    "tags": []
   },
   "outputs": [],
   "source": [
    "X_test = siab_test.iloc[:,4:164]\n",
    "y_true = siab_test.iloc[:, [3]]"
   ]
  },
  {
   "cell_type": "code",
   "execution_count": 18,
   "id": "e6c733c5",
   "metadata": {
    "execution": {
     "iopub.execute_input": "2025-08-05T16:22:22.593621Z",
     "iopub.status.busy": "2025-08-05T16:22:22.592535Z",
     "iopub.status.idle": "2025-08-05T16:22:22.698338Z",
     "shell.execute_reply": "2025-08-05T16:22:22.697074Z"
    },
    "papermill": {
     "duration": 0.132261,
     "end_time": "2025-08-05T16:22:22.700980",
     "exception": false,
     "start_time": "2025-08-05T16:22:22.568719",
     "status": "completed"
    },
    "tags": []
   },
   "outputs": [],
   "source": [
    "# Auxiliary data needed downstream in the pipeline\n",
    "\n",
    "org_train = X_train.copy()\n",
    "org_test = X_test.copy()\n",
    "org_calib = X_calib.copy()"
   ]
  },
  {
   "cell_type": "markdown",
   "id": "0a4a1b33",
   "metadata": {
    "papermill": {
     "duration": 0.02186,
     "end_time": "2025-08-05T16:22:22.746390",
     "exception": false,
     "start_time": "2025-08-05T16:22:22.724530",
     "status": "completed"
    },
    "tags": []
   },
   "source": [
    "# Preprocessing Data"
   ]
  },
  {
   "cell_type": "code",
   "execution_count": 19,
   "id": "ca879031",
   "metadata": {
    "execution": {
     "iopub.execute_input": "2025-08-05T16:22:22.793704Z",
     "iopub.status.busy": "2025-08-05T16:22:22.792870Z",
     "iopub.status.idle": "2025-08-05T16:22:22.800311Z",
     "shell.execute_reply": "2025-08-05T16:22:22.799108Z"
    },
    "papermill": {
     "duration": 0.033973,
     "end_time": "2025-08-05T16:22:22.802285",
     "exception": false,
     "start_time": "2025-08-05T16:22:22.768312",
     "status": "completed"
    },
    "tags": []
   },
   "outputs": [],
   "source": [
    "# EXCLUDE PROTECTED FEATURES\n",
    "# ----------------------\n",
    "# \"exclude_features\": \"none\", # \"nationality\", \"sex\", \"nationality-sex\"\n",
    "\n",
    "excluded_features = universe[\"exclude_features\"].split(\"-\") # split, e.g.: \"nationality-sex\" -> [\"nationality\", \"sex\"]\n",
    "excluded_features_dictionary = {\n",
    "    \"nationality\": [\"maxdeutsch1\", \"maxdeutsch.Missing.\"],\n",
    "    \"sex\": [\"frau1\"],\n",
    "    \"age\": [\"age\"],\n",
    "}"
   ]
  },
  {
   "cell_type": "code",
   "execution_count": 20,
   "id": "b745ac60",
   "metadata": {
    "execution": {
     "iopub.execute_input": "2025-08-05T16:22:22.840212Z",
     "iopub.status.busy": "2025-08-05T16:22:22.839667Z",
     "iopub.status.idle": "2025-08-05T16:22:22.845819Z",
     "shell.execute_reply": "2025-08-05T16:22:22.845006Z"
    },
    "papermill": {
     "duration": 0.020971,
     "end_time": "2025-08-05T16:22:22.847468",
     "exception": false,
     "start_time": "2025-08-05T16:22:22.826497",
     "status": "completed"
    },
    "tags": []
   },
   "outputs": [],
   "source": [
    "# Code nice names to column names\n",
    "\n",
    "excluded_features_columns = [\n",
    "    excluded_features_dictionary[f] for f in excluded_features if len(f) > 0 and f != \"none\"\n",
    "]"
   ]
  },
  {
   "cell_type": "code",
   "execution_count": 21,
   "id": "f84f73a2",
   "metadata": {
    "execution": {
     "iopub.execute_input": "2025-08-05T16:22:22.871063Z",
     "iopub.status.busy": "2025-08-05T16:22:22.870613Z",
     "iopub.status.idle": "2025-08-05T16:22:22.876156Z",
     "shell.execute_reply": "2025-08-05T16:22:22.875364Z"
    },
    "papermill": {
     "duration": 0.018965,
     "end_time": "2025-08-05T16:22:22.877748",
     "exception": false,
     "start_time": "2025-08-05T16:22:22.858783",
     "status": "completed"
    },
    "tags": []
   },
   "outputs": [],
   "source": [
    "from utils import flatten_once\n",
    "\n",
    "excluded_features_columns = flatten_once(excluded_features_columns)"
   ]
  },
  {
   "cell_type": "code",
   "execution_count": 22,
   "id": "884dea22",
   "metadata": {
    "execution": {
     "iopub.execute_input": "2025-08-05T16:22:22.904095Z",
     "iopub.status.busy": "2025-08-05T16:22:22.903724Z",
     "iopub.status.idle": "2025-08-05T16:22:22.911040Z",
     "shell.execute_reply": "2025-08-05T16:22:22.909996Z"
    },
    "papermill": {
     "duration": 0.021381,
     "end_time": "2025-08-05T16:22:22.912603",
     "exception": false,
     "start_time": "2025-08-05T16:22:22.891222",
     "status": "completed"
    },
    "tags": []
   },
   "outputs": [
    {
     "name": "stdout",
     "output_type": "stream",
     "text": [
      "Dropping features: ['frau1']\n"
     ]
    }
   ],
   "source": [
    "if len(excluded_features_columns) > 0:\n",
    "    print(f\"Dropping features: {excluded_features_columns}\")\n",
    "    X_train.drop(excluded_features_columns, axis=1, inplace=True)"
   ]
  },
  {
   "cell_type": "code",
   "execution_count": 23,
   "id": "95ab8b16",
   "metadata": {
    "execution": {
     "iopub.execute_input": "2025-08-05T16:22:22.936815Z",
     "iopub.status.busy": "2025-08-05T16:22:22.936240Z",
     "iopub.status.idle": "2025-08-05T16:22:22.992827Z",
     "shell.execute_reply": "2025-08-05T16:22:22.991809Z"
    },
    "papermill": {
     "duration": 0.07021,
     "end_time": "2025-08-05T16:22:22.994421",
     "exception": false,
     "start_time": "2025-08-05T16:22:22.924211",
     "status": "completed"
    },
    "tags": []
   },
   "outputs": [
    {
     "name": "stdout",
     "output_type": "stream",
     "text": [
      "Dropping features: ['frau1']\n"
     ]
    }
   ],
   "source": [
    "if len(excluded_features_columns) > 0:\n",
    "    print(f\"Dropping features: {excluded_features_columns}\")\n",
    "    X_test.drop(excluded_features_columns, axis=1, inplace=True)"
   ]
  },
  {
   "cell_type": "code",
   "execution_count": 24,
   "id": "1853aaf5-fb9f-46cb-a2b5-8ea4ae2237e4",
   "metadata": {
    "execution": {
     "iopub.execute_input": "2025-08-05T16:22:23.019542Z",
     "iopub.status.busy": "2025-08-05T16:22:23.018937Z",
     "iopub.status.idle": "2025-08-05T16:22:23.071009Z",
     "shell.execute_reply": "2025-08-05T16:22:23.070161Z"
    },
    "papermill": {
     "duration": 0.065899,
     "end_time": "2025-08-05T16:22:23.072633",
     "exception": false,
     "start_time": "2025-08-05T16:22:23.006734",
     "status": "completed"
    },
    "tags": []
   },
   "outputs": [
    {
     "name": "stdout",
     "output_type": "stream",
     "text": [
      "Dropping features: ['frau1']\n"
     ]
    }
   ],
   "source": [
    "if len(excluded_features_columns) > 0:\n",
    "    print(f\"Dropping features: {excluded_features_columns}\")\n",
    "    X_calib.drop(excluded_features_columns, axis=1, inplace=True)"
   ]
  },
  {
   "cell_type": "code",
   "execution_count": 25,
   "id": "76c4dc6d",
   "metadata": {
    "execution": {
     "iopub.execute_input": "2025-08-05T16:22:23.098412Z",
     "iopub.status.busy": "2025-08-05T16:22:23.097526Z",
     "iopub.status.idle": "2025-08-05T16:22:23.102868Z",
     "shell.execute_reply": "2025-08-05T16:22:23.102077Z"
    },
    "papermill": {
     "duration": 0.019173,
     "end_time": "2025-08-05T16:22:23.104371",
     "exception": false,
     "start_time": "2025-08-05T16:22:23.085198",
     "status": "completed"
    },
    "tags": []
   },
   "outputs": [],
   "source": [
    "# EXCLUDE CERTAIN SUBGROUPS\n",
    "# ----------------------\n",
    "\n",
    "mode = universe.get(\"exclude_subgroups\", \"keep-all\") \n",
    "# Fetches the exclude_subgroups setting from the universe dict.\n",
    "# Defaults to \"keep-all\" if the key is missing."
   ]
  },
  {
   "cell_type": "code",
   "execution_count": 26,
   "id": "21994072",
   "metadata": {
    "execution": {
     "iopub.execute_input": "2025-08-05T16:22:23.129264Z",
     "iopub.status.busy": "2025-08-05T16:22:23.128556Z",
     "iopub.status.idle": "2025-08-05T16:22:23.134411Z",
     "shell.execute_reply": "2025-08-05T16:22:23.133601Z"
    },
    "papermill": {
     "duration": 0.019782,
     "end_time": "2025-08-05T16:22:23.135932",
     "exception": false,
     "start_time": "2025-08-05T16:22:23.116150",
     "status": "completed"
    },
    "tags": []
   },
   "outputs": [],
   "source": [
    "if mode == \"keep-all\":\n",
    "    keep_mask = pd.Series(True, index=org_train.index)\n",
    "\n",
    "# org_train contains the original feature columns from features_org (in Simson)\n",
    "# features_org contains unprocessed features, for me X_train at beginning ???\n",
    "# For keep-all, creates a boolean Series (keep_mask) of all True, so no rows are removed.\n",
    "\n",
    "elif mode == \"drop-non-german\":\n",
    "    keep_mask = org_train[\"maxdeutsch1\"] == 1 # ??? what about missing values?\n",
    "\n",
    "else:\n",
    "    raise ValueError(f\"Unsupported mode for exclude_subgroups: {mode}\")"
   ]
  },
  {
   "cell_type": "code",
   "execution_count": 27,
   "id": "71651440",
   "metadata": {
    "execution": {
     "iopub.execute_input": "2025-08-05T16:22:23.160968Z",
     "iopub.status.busy": "2025-08-05T16:22:23.160385Z",
     "iopub.status.idle": "2025-08-05T16:22:23.166020Z",
     "shell.execute_reply": "2025-08-05T16:22:23.165130Z"
    },
    "papermill": {
     "duration": 0.019571,
     "end_time": "2025-08-05T16:22:23.167511",
     "exception": false,
     "start_time": "2025-08-05T16:22:23.147940",
     "status": "completed"
    },
    "tags": []
   },
   "outputs": [],
   "source": [
    "n_drop = (~keep_mask).sum() # Calculates how many rows are set to be dropped\n",
    "if n_drop > 0:\n",
    "    pct = n_drop / len(keep_mask) * 100\n",
    "    print(f\"Dropping {n_drop} rows ({pct:.2f}%) where mode='{mode}'\")"
   ]
  },
  {
   "cell_type": "code",
   "execution_count": 28,
   "id": "5fb8eee5",
   "metadata": {
    "execution": {
     "iopub.execute_input": "2025-08-05T16:22:23.192357Z",
     "iopub.status.busy": "2025-08-05T16:22:23.191727Z",
     "iopub.status.idle": "2025-08-05T16:22:23.197726Z",
     "shell.execute_reply": "2025-08-05T16:22:23.196852Z"
    },
    "papermill": {
     "duration": 0.019767,
     "end_time": "2025-08-05T16:22:23.199215",
     "exception": false,
     "start_time": "2025-08-05T16:22:23.179448",
     "status": "completed"
    },
    "tags": []
   },
   "outputs": [],
   "source": [
    "X_train = X_train[keep_mask]"
   ]
  },
  {
   "cell_type": "code",
   "execution_count": 29,
   "id": "b202bb3a",
   "metadata": {
    "execution": {
     "iopub.execute_input": "2025-08-05T16:22:23.226329Z",
     "iopub.status.busy": "2025-08-05T16:22:23.224149Z",
     "iopub.status.idle": "2025-08-05T16:22:23.231988Z",
     "shell.execute_reply": "2025-08-05T16:22:23.230835Z"
    },
    "papermill": {
     "duration": 0.02314,
     "end_time": "2025-08-05T16:22:23.234163",
     "exception": false,
     "start_time": "2025-08-05T16:22:23.211023",
     "status": "completed"
    },
    "tags": []
   },
   "outputs": [],
   "source": [
    "y_train = y_train[keep_mask]"
   ]
  },
  {
   "cell_type": "markdown",
   "id": "493e2ac3",
   "metadata": {
    "papermill": {
     "duration": 0.022958,
     "end_time": "2025-08-05T16:22:23.280417",
     "exception": false,
     "start_time": "2025-08-05T16:22:23.257459",
     "status": "completed"
    },
    "tags": []
   },
   "source": [
    "# Model Training"
   ]
  },
  {
   "cell_type": "code",
   "execution_count": 30,
   "id": "679e1268",
   "metadata": {
    "execution": {
     "iopub.execute_input": "2025-08-05T16:22:23.327369Z",
     "iopub.status.busy": "2025-08-05T16:22:23.326835Z",
     "iopub.status.idle": "2025-08-05T16:22:23.412711Z",
     "shell.execute_reply": "2025-08-05T16:22:23.411866Z"
    },
    "papermill": {
     "duration": 0.112529,
     "end_time": "2025-08-05T16:22:23.414369",
     "exception": false,
     "start_time": "2025-08-05T16:22:23.301840",
     "status": "completed"
    },
    "tags": []
   },
   "outputs": [],
   "source": [
    "from sklearn.linear_model import LogisticRegression\n",
    "from sklearn.ensemble import GradientBoostingClassifier, RandomForestClassifier\n",
    "\n",
    "if (universe[\"model\"] == \"logreg\"):\n",
    "    model = LogisticRegression() #penalty=\"none\", solver=\"newton-cg\", max_iter=1) # include random_state=19 ?\n",
    "elif (universe[\"model\"] == \"penalized_logreg\"):\n",
    "    model = LogisticRegression(penalty=\"l2\", C=0.1) #, solver=\"newton-cg\", max_iter=1)\n",
    "elif (universe[\"model\"] == \"rf\"):\n",
    "    model = RandomForestClassifier() # n_estimators=100, n_jobs=-1\n",
    "elif (universe[\"model\"] == \"gbm\"):\n",
    "    model = GradientBoostingClassifier()\n",
    "elif (universe[\"model\"] == \"elasticnet\"):\n",
    "    model = LogisticRegression(penalty = 'elasticnet', solver = 'saga', l1_ratio = 0.5) # max_iter=5000\n",
    "else:\n",
    "    raise \"Unsupported universe.model\""
   ]
  },
  {
   "cell_type": "code",
   "execution_count": 31,
   "id": "0cc8f744",
   "metadata": {
    "execution": {
     "iopub.execute_input": "2025-08-05T16:22:23.439727Z",
     "iopub.status.busy": "2025-08-05T16:22:23.439139Z",
     "iopub.status.idle": "2025-08-05T16:22:23.444559Z",
     "shell.execute_reply": "2025-08-05T16:22:23.443765Z"
    },
    "papermill": {
     "duration": 0.019428,
     "end_time": "2025-08-05T16:22:23.446058",
     "exception": false,
     "start_time": "2025-08-05T16:22:23.426630",
     "status": "completed"
    },
    "tags": []
   },
   "outputs": [],
   "source": [
    "import numpy as np\n",
    "from sklearn.pipeline import Pipeline\n",
    "from sklearn.preprocessing import StandardScaler\n",
    "\n",
    "model = Pipeline([\n",
    "    #(\"continuous_processor\", continuous_processor),\n",
    "    #(\"categorical_preprocessor\", categorical_preprocessor),\n",
    "    (\"scale\", StandardScaler() if universe[\"scale\"] == \"scale\" else None), \n",
    "    (\"model\", model),\n",
    "])"
   ]
  },
  {
   "cell_type": "code",
   "execution_count": 32,
   "id": "9442c04d",
   "metadata": {
    "execution": {
     "iopub.execute_input": "2025-08-05T16:22:23.471164Z",
     "iopub.status.busy": "2025-08-05T16:22:23.470580Z",
     "iopub.status.idle": "2025-08-05T16:22:23.762863Z",
     "shell.execute_reply": "2025-08-05T16:22:23.761785Z"
    },
    "papermill": {
     "duration": 0.307445,
     "end_time": "2025-08-05T16:22:23.765609",
     "exception": false,
     "start_time": "2025-08-05T16:22:23.458164",
     "status": "completed"
    },
    "tags": []
   },
   "outputs": [
    {
     "name": "stderr",
     "output_type": "stream",
     "text": [
      "/dss/dsshome1/0C/ra93lal2/.local/share/virtualenvs/CMA_Fairness_v2-3j10GkSs/lib/python3.10/site-packages/sklearn/linear_model/_sag.py:350: ConvergenceWarning: The max_iter was reached which means the coef_ did not converge\n",
      "  warnings.warn(\n"
     ]
    },
    {
     "data": {
      "text/html": [
       "<style>#sk-container-id-1 {color: black;background-color: white;}#sk-container-id-1 pre{padding: 0;}#sk-container-id-1 div.sk-toggleable {background-color: white;}#sk-container-id-1 label.sk-toggleable__label {cursor: pointer;display: block;width: 100%;margin-bottom: 0;padding: 0.3em;box-sizing: border-box;text-align: center;}#sk-container-id-1 label.sk-toggleable__label-arrow:before {content: \"▸\";float: left;margin-right: 0.25em;color: #696969;}#sk-container-id-1 label.sk-toggleable__label-arrow:hover:before {color: black;}#sk-container-id-1 div.sk-estimator:hover label.sk-toggleable__label-arrow:before {color: black;}#sk-container-id-1 div.sk-toggleable__content {max-height: 0;max-width: 0;overflow: hidden;text-align: left;background-color: #f0f8ff;}#sk-container-id-1 div.sk-toggleable__content pre {margin: 0.2em;color: black;border-radius: 0.25em;background-color: #f0f8ff;}#sk-container-id-1 input.sk-toggleable__control:checked~div.sk-toggleable__content {max-height: 200px;max-width: 100%;overflow: auto;}#sk-container-id-1 input.sk-toggleable__control:checked~label.sk-toggleable__label-arrow:before {content: \"▾\";}#sk-container-id-1 div.sk-estimator input.sk-toggleable__control:checked~label.sk-toggleable__label {background-color: #d4ebff;}#sk-container-id-1 div.sk-label input.sk-toggleable__control:checked~label.sk-toggleable__label {background-color: #d4ebff;}#sk-container-id-1 input.sk-hidden--visually {border: 0;clip: rect(1px 1px 1px 1px);clip: rect(1px, 1px, 1px, 1px);height: 1px;margin: -1px;overflow: hidden;padding: 0;position: absolute;width: 1px;}#sk-container-id-1 div.sk-estimator {font-family: monospace;background-color: #f0f8ff;border: 1px dotted black;border-radius: 0.25em;box-sizing: border-box;margin-bottom: 0.5em;}#sk-container-id-1 div.sk-estimator:hover {background-color: #d4ebff;}#sk-container-id-1 div.sk-parallel-item::after {content: \"\";width: 100%;border-bottom: 1px solid gray;flex-grow: 1;}#sk-container-id-1 div.sk-label:hover label.sk-toggleable__label {background-color: #d4ebff;}#sk-container-id-1 div.sk-serial::before {content: \"\";position: absolute;border-left: 1px solid gray;box-sizing: border-box;top: 0;bottom: 0;left: 50%;z-index: 0;}#sk-container-id-1 div.sk-serial {display: flex;flex-direction: column;align-items: center;background-color: white;padding-right: 0.2em;padding-left: 0.2em;position: relative;}#sk-container-id-1 div.sk-item {position: relative;z-index: 1;}#sk-container-id-1 div.sk-parallel {display: flex;align-items: stretch;justify-content: center;background-color: white;position: relative;}#sk-container-id-1 div.sk-item::before, #sk-container-id-1 div.sk-parallel-item::before {content: \"\";position: absolute;border-left: 1px solid gray;box-sizing: border-box;top: 0;bottom: 0;left: 50%;z-index: -1;}#sk-container-id-1 div.sk-parallel-item {display: flex;flex-direction: column;z-index: 1;position: relative;background-color: white;}#sk-container-id-1 div.sk-parallel-item:first-child::after {align-self: flex-end;width: 50%;}#sk-container-id-1 div.sk-parallel-item:last-child::after {align-self: flex-start;width: 50%;}#sk-container-id-1 div.sk-parallel-item:only-child::after {width: 0;}#sk-container-id-1 div.sk-dashed-wrapped {border: 1px dashed gray;margin: 0 0.4em 0.5em 0.4em;box-sizing: border-box;padding-bottom: 0.4em;background-color: white;}#sk-container-id-1 div.sk-label label {font-family: monospace;font-weight: bold;display: inline-block;line-height: 1.2em;}#sk-container-id-1 div.sk-label-container {text-align: center;}#sk-container-id-1 div.sk-container {/* jupyter's `normalize.less` sets `[hidden] { display: none; }` but bootstrap.min.css set `[hidden] { display: none !important; }` so we also need the `!important` here to be able to override the default hidden behavior on the sphinx rendered scikit-learn.org. See: https://github.com/scikit-learn/scikit-learn/issues/21755 */display: inline-block !important;position: relative;}#sk-container-id-1 div.sk-text-repr-fallback {display: none;}</style><div id=\"sk-container-id-1\" class=\"sk-top-container\"><div class=\"sk-text-repr-fallback\"><pre>Pipeline(steps=[(&#x27;scale&#x27;, StandardScaler()),\n",
       "                (&#x27;model&#x27;,\n",
       "                 LogisticRegression(l1_ratio=0.5, penalty=&#x27;elasticnet&#x27;,\n",
       "                                    solver=&#x27;saga&#x27;))])</pre><b>In a Jupyter environment, please rerun this cell to show the HTML representation or trust the notebook. <br />On GitHub, the HTML representation is unable to render, please try loading this page with nbviewer.org.</b></div><div class=\"sk-container\" hidden><div class=\"sk-item sk-dashed-wrapped\"><div class=\"sk-label-container\"><div class=\"sk-label sk-toggleable\"><input class=\"sk-toggleable__control sk-hidden--visually\" id=\"sk-estimator-id-1\" type=\"checkbox\" ><label for=\"sk-estimator-id-1\" class=\"sk-toggleable__label sk-toggleable__label-arrow\">Pipeline</label><div class=\"sk-toggleable__content\"><pre>Pipeline(steps=[(&#x27;scale&#x27;, StandardScaler()),\n",
       "                (&#x27;model&#x27;,\n",
       "                 LogisticRegression(l1_ratio=0.5, penalty=&#x27;elasticnet&#x27;,\n",
       "                                    solver=&#x27;saga&#x27;))])</pre></div></div></div><div class=\"sk-serial\"><div class=\"sk-item\"><div class=\"sk-estimator sk-toggleable\"><input class=\"sk-toggleable__control sk-hidden--visually\" id=\"sk-estimator-id-2\" type=\"checkbox\" ><label for=\"sk-estimator-id-2\" class=\"sk-toggleable__label sk-toggleable__label-arrow\">StandardScaler</label><div class=\"sk-toggleable__content\"><pre>StandardScaler()</pre></div></div></div><div class=\"sk-item\"><div class=\"sk-estimator sk-toggleable\"><input class=\"sk-toggleable__control sk-hidden--visually\" id=\"sk-estimator-id-3\" type=\"checkbox\" ><label for=\"sk-estimator-id-3\" class=\"sk-toggleable__label sk-toggleable__label-arrow\">LogisticRegression</label><div class=\"sk-toggleable__content\"><pre>LogisticRegression(l1_ratio=0.5, penalty=&#x27;elasticnet&#x27;, solver=&#x27;saga&#x27;)</pre></div></div></div></div></div></div></div>"
      ],
      "text/plain": [
       "Pipeline(steps=[('scale', StandardScaler()),\n",
       "                ('model',\n",
       "                 LogisticRegression(l1_ratio=0.5, penalty='elasticnet',\n",
       "                                    solver='saga'))])"
      ]
     },
     "execution_count": 32,
     "metadata": {},
     "output_type": "execute_result"
    }
   ],
   "source": [
    "model.fit(X_train, y_train.values.ravel())"
   ]
  },
  {
   "cell_type": "code",
   "execution_count": 33,
   "id": "af59f8c0",
   "metadata": {
    "execution": {
     "iopub.execute_input": "2025-08-05T16:22:23.792301Z",
     "iopub.status.busy": "2025-08-05T16:22:23.791350Z",
     "iopub.status.idle": "2025-08-05T16:22:23.796474Z",
     "shell.execute_reply": "2025-08-05T16:22:23.795662Z"
    },
    "papermill": {
     "duration": 0.019465,
     "end_time": "2025-08-05T16:22:23.797983",
     "exception": false,
     "start_time": "2025-08-05T16:22:23.778518",
     "status": "completed"
    },
    "tags": []
   },
   "outputs": [],
   "source": [
    "from fairness_multiverse.universe import predict_w_threshold"
   ]
  },
  {
   "cell_type": "code",
   "execution_count": 34,
   "id": "a7cf2e16",
   "metadata": {
    "execution": {
     "iopub.execute_input": "2025-08-05T16:22:23.824192Z",
     "iopub.status.busy": "2025-08-05T16:22:23.823580Z",
     "iopub.status.idle": "2025-08-05T16:22:24.015385Z",
     "shell.execute_reply": "2025-08-05T16:22:24.014375Z"
    },
    "papermill": {
     "duration": 0.206421,
     "end_time": "2025-08-05T16:22:24.017054",
     "exception": false,
     "start_time": "2025-08-05T16:22:23.810633",
     "status": "completed"
    },
    "tags": []
   },
   "outputs": [
    {
     "data": {
      "text/plain": [
       "0.8322929439304425"
      ]
     },
     "execution_count": 34,
     "metadata": {},
     "output_type": "execute_result"
    }
   ],
   "source": [
    "probs_test = model.predict_proba(X_test)\n",
    "\n",
    "'''\n",
    "Below code returns a boolean array (or binary 0/1 array depending on how it’s used) where each element \n",
    "is True if the probability of class 1 is greater than or equal to the threshold, and False otherwise.\n",
    "'''\n",
    "y_pred_default = predict_w_threshold(probs_test, 0.5)\n",
    "\n",
    "from sklearn.metrics import accuracy_score\n",
    "\n",
    "# Naive prediction\n",
    "accuracy_score(y_true = y_true, y_pred = y_pred_default)"
   ]
  },
  {
   "cell_type": "code",
   "execution_count": 35,
   "id": "081964c3",
   "metadata": {
    "execution": {
     "iopub.execute_input": "2025-08-05T16:22:24.043922Z",
     "iopub.status.busy": "2025-08-05T16:22:24.043168Z",
     "iopub.status.idle": "2025-08-05T16:22:24.232540Z",
     "shell.execute_reply": "2025-08-05T16:22:24.231345Z"
    },
    "papermill": {
     "duration": 0.204643,
     "end_time": "2025-08-05T16:22:24.234756",
     "exception": false,
     "start_time": "2025-08-05T16:22:24.030113",
     "status": "completed"
    },
    "tags": []
   },
   "outputs": [
    {
     "data": {
      "text/plain": [
       "array([0, 0, 0, ..., 0, 0, 0])"
      ]
     },
     "execution_count": 35,
     "metadata": {},
     "output_type": "execute_result"
    }
   ],
   "source": [
    "model.predict(X_test)"
   ]
  },
  {
   "cell_type": "markdown",
   "id": "56c9705b",
   "metadata": {
    "papermill": {
     "duration": 0.027075,
     "end_time": "2025-08-05T16:22:24.289978",
     "exception": false,
     "start_time": "2025-08-05T16:22:24.262903",
     "status": "completed"
    },
    "tags": []
   },
   "source": [
    "# Conformal Prediction"
   ]
  },
  {
   "cell_type": "code",
   "execution_count": 36,
   "id": "160ec6ff",
   "metadata": {
    "execution": {
     "iopub.execute_input": "2025-08-05T16:22:24.346323Z",
     "iopub.status.busy": "2025-08-05T16:22:24.345724Z",
     "iopub.status.idle": "2025-08-05T16:22:24.351805Z",
     "shell.execute_reply": "2025-08-05T16:22:24.350705Z"
    },
    "papermill": {
     "duration": 0.036379,
     "end_time": "2025-08-05T16:22:24.353737",
     "exception": false,
     "start_time": "2025-08-05T16:22:24.317358",
     "status": "completed"
    },
    "tags": []
   },
   "outputs": [],
   "source": [
    "# Miscoverage level for conformal prediction (10% allowed error rate => 90% target coverage)\n",
    "alpha = 0.1"
   ]
  },
  {
   "cell_type": "code",
   "execution_count": 37,
   "id": "eadf4555-3dd3-440e-8e35-f82a4ad9f855",
   "metadata": {
    "execution": {
     "iopub.execute_input": "2025-08-05T16:22:24.409796Z",
     "iopub.status.busy": "2025-08-05T16:22:24.409344Z",
     "iopub.status.idle": "2025-08-05T16:22:24.605094Z",
     "shell.execute_reply": "2025-08-05T16:22:24.603951Z"
    },
    "papermill": {
     "duration": 0.226163,
     "end_time": "2025-08-05T16:22:24.607395",
     "exception": false,
     "start_time": "2025-08-05T16:22:24.381232",
     "status": "completed"
    },
    "tags": []
   },
   "outputs": [],
   "source": [
    "probs_calib = model.predict_proba(X_calib)"
   ]
  },
  {
   "cell_type": "code",
   "execution_count": 38,
   "id": "2ed93547-6d5d-4983-9b36-1ecb300da49a",
   "metadata": {
    "execution": {
     "iopub.execute_input": "2025-08-05T16:22:24.657566Z",
     "iopub.status.busy": "2025-08-05T16:22:24.654882Z",
     "iopub.status.idle": "2025-08-05T16:22:24.663460Z",
     "shell.execute_reply": "2025-08-05T16:22:24.662367Z"
    },
    "papermill": {
     "duration": 0.033959,
     "end_time": "2025-08-05T16:22:24.665249",
     "exception": false,
     "start_time": "2025-08-05T16:22:24.631290",
     "status": "completed"
    },
    "tags": []
   },
   "outputs": [],
   "source": [
    "y_calib = y_calib.values.ravel().astype(int)"
   ]
  },
  {
   "cell_type": "code",
   "execution_count": 39,
   "id": "65d1320d-f588-4b38-9072-62af1ae97f7d",
   "metadata": {
    "execution": {
     "iopub.execute_input": "2025-08-05T16:22:24.713287Z",
     "iopub.status.busy": "2025-08-05T16:22:24.712217Z",
     "iopub.status.idle": "2025-08-05T16:22:24.720374Z",
     "shell.execute_reply": "2025-08-05T16:22:24.719004Z"
    },
    "papermill": {
     "duration": 0.034462,
     "end_time": "2025-08-05T16:22:24.722675",
     "exception": false,
     "start_time": "2025-08-05T16:22:24.688213",
     "status": "completed"
    },
    "tags": []
   },
   "outputs": [],
   "source": [
    "from fairness_multiverse.conformal import compute_nc_scores\n",
    "\n",
    "# Compute nonconformity scores on calibration set (1 - probability of true class)\n",
    "nc_scores = compute_nc_scores(probs_calib, y_calib)"
   ]
  },
  {
   "cell_type": "code",
   "execution_count": 40,
   "id": "df3b8ca3-53b7-43d5-9667-7c85da7aeda2",
   "metadata": {
    "execution": {
     "iopub.execute_input": "2025-08-05T16:22:24.779541Z",
     "iopub.status.busy": "2025-08-05T16:22:24.779074Z",
     "iopub.status.idle": "2025-08-05T16:22:24.786202Z",
     "shell.execute_reply": "2025-08-05T16:22:24.784975Z"
    },
    "papermill": {
     "duration": 0.037525,
     "end_time": "2025-08-05T16:22:24.788054",
     "exception": false,
     "start_time": "2025-08-05T16:22:24.750529",
     "status": "completed"
    },
    "tags": []
   },
   "outputs": [],
   "source": [
    "from fairness_multiverse.conformal import find_threshold\n",
    "\n",
    "# Find conformal threshold q_hat for the given alpha (split conformal method)\n",
    "q_hat = find_threshold(nc_scores, alpha)"
   ]
  },
  {
   "cell_type": "code",
   "execution_count": 41,
   "id": "4d29e6c1-0ef6-4aa4-b8fe-4fe79b0d033a",
   "metadata": {
    "execution": {
     "iopub.execute_input": "2025-08-05T16:22:24.844141Z",
     "iopub.status.busy": "2025-08-05T16:22:24.843598Z",
     "iopub.status.idle": "2025-08-05T16:22:24.852193Z",
     "shell.execute_reply": "2025-08-05T16:22:24.850989Z"
    },
    "papermill": {
     "duration": 0.039668,
     "end_time": "2025-08-05T16:22:24.854481",
     "exception": false,
     "start_time": "2025-08-05T16:22:24.814813",
     "status": "completed"
    },
    "tags": []
   },
   "outputs": [
    {
     "data": {
      "text/plain": [
       "0.7692027219997498"
      ]
     },
     "execution_count": 41,
     "metadata": {},
     "output_type": "execute_result"
    }
   ],
   "source": [
    "q_hat"
   ]
  },
  {
   "cell_type": "code",
   "execution_count": 42,
   "id": "92460794-cdac-4be2-ba28-f28c0515a6fb",
   "metadata": {
    "execution": {
     "iopub.execute_input": "2025-08-05T16:22:24.911226Z",
     "iopub.status.busy": "2025-08-05T16:22:24.910723Z",
     "iopub.status.idle": "2025-08-05T16:22:25.865377Z",
     "shell.execute_reply": "2025-08-05T16:22:25.864445Z"
    },
    "papermill": {
     "duration": 0.985195,
     "end_time": "2025-08-05T16:22:25.867155",
     "exception": false,
     "start_time": "2025-08-05T16:22:24.881960",
     "status": "completed"
    },
    "tags": []
   },
   "outputs": [],
   "source": [
    "from fairness_multiverse.conformal import predict_conformal_sets\n",
    "\n",
    "# Generate prediction sets for each test example\n",
    "pred_sets = predict_conformal_sets(model, X_test, q_hat)"
   ]
  },
  {
   "cell_type": "code",
   "execution_count": 43,
   "id": "d90c9a65-e6db-4f5d-80cd-e68fb7e46829",
   "metadata": {
    "execution": {
     "iopub.execute_input": "2025-08-05T16:22:25.895179Z",
     "iopub.status.busy": "2025-08-05T16:22:25.894798Z",
     "iopub.status.idle": "2025-08-05T16:22:25.900146Z",
     "shell.execute_reply": "2025-08-05T16:22:25.899198Z"
    },
    "papermill": {
     "duration": 0.020645,
     "end_time": "2025-08-05T16:22:25.901687",
     "exception": false,
     "start_time": "2025-08-05T16:22:25.881042",
     "status": "completed"
    },
    "tags": []
   },
   "outputs": [],
   "source": [
    "y_true = y_true.squeeze()"
   ]
  },
  {
   "cell_type": "code",
   "execution_count": 44,
   "id": "3a58a54a-1e68-46b9-927a-df01f18aebc8",
   "metadata": {
    "execution": {
     "iopub.execute_input": "2025-08-05T16:22:25.929539Z",
     "iopub.status.busy": "2025-08-05T16:22:25.928619Z",
     "iopub.status.idle": "2025-08-05T16:22:26.536683Z",
     "shell.execute_reply": "2025-08-05T16:22:26.535707Z"
    },
    "papermill": {
     "duration": 0.623786,
     "end_time": "2025-08-05T16:22:26.538623",
     "exception": false,
     "start_time": "2025-08-05T16:22:25.914837",
     "status": "completed"
    },
    "tags": []
   },
   "outputs": [],
   "source": [
    "from fairness_multiverse.conformal import evaluate_sets\n",
    "\n",
    "# Evaluate coverage and average set size on test data\n",
    "metrics = evaluate_sets(pred_sets, y_true)"
   ]
  },
  {
   "cell_type": "markdown",
   "id": "2b569c12-9aaa-4c88-98c9-bbcd0cf3ebb8",
   "metadata": {
    "papermill": {
     "duration": 0.013453,
     "end_time": "2025-08-05T16:22:26.565911",
     "exception": false,
     "start_time": "2025-08-05T16:22:26.552458",
     "status": "completed"
    },
    "tags": []
   },
   "source": [
    "# CP Metrics"
   ]
  },
  {
   "cell_type": "code",
   "execution_count": 45,
   "id": "5ce0a5cb-201f-45a0-ade5-94c7f0bd6095",
   "metadata": {
    "execution": {
     "iopub.execute_input": "2025-08-05T16:22:26.594314Z",
     "iopub.status.busy": "2025-08-05T16:22:26.593174Z",
     "iopub.status.idle": "2025-08-05T16:22:26.600742Z",
     "shell.execute_reply": "2025-08-05T16:22:26.599924Z"
    },
    "papermill": {
     "duration": 0.023496,
     "end_time": "2025-08-05T16:22:26.602551",
     "exception": false,
     "start_time": "2025-08-05T16:22:26.579055",
     "status": "completed"
    },
    "tags": []
   },
   "outputs": [
    {
     "data": {
      "text/plain": [
       "{'coverage': 0.9087838591015495, 'avg_size': 1.2157507524244788}"
      ]
     },
     "execution_count": 45,
     "metadata": {},
     "output_type": "execute_result"
    }
   ],
   "source": [
    "metrics"
   ]
  },
  {
   "cell_type": "code",
   "execution_count": 46,
   "id": "9b9a838d-31c9-430b-ae14-12baee460d17",
   "metadata": {
    "execution": {
     "iopub.execute_input": "2025-08-05T16:22:26.631952Z",
     "iopub.status.busy": "2025-08-05T16:22:26.631080Z",
     "iopub.status.idle": "2025-08-05T16:22:26.637842Z",
     "shell.execute_reply": "2025-08-05T16:22:26.636919Z"
    },
    "papermill": {
     "duration": 0.022872,
     "end_time": "2025-08-05T16:22:26.639500",
     "exception": false,
     "start_time": "2025-08-05T16:22:26.616628",
     "status": "completed"
    },
    "tags": []
   },
   "outputs": [],
   "source": [
    "example_universe = universe.copy()\n",
    "universe_training_year = example_universe.get(\"training_year\")\n",
    "universe_training_size = example_universe.get(\"training_size\")\n",
    "universe_scale = example_universe.get(\"scale\")\n",
    "universe_model = example_universe.get(\"model\")\n",
    "universe_exclude_features = example_universe.get(\"exclude_features\")\n",
    "universe_exclude_subgroups = example_universe.get(\"exclude_subgroups\")"
   ]
  },
  {
   "cell_type": "code",
   "execution_count": 47,
   "id": "f4b6a8ac-9dc0-4245-8a91-5b3b5999c4f9",
   "metadata": {
    "execution": {
     "iopub.execute_input": "2025-08-05T16:22:26.668473Z",
     "iopub.status.busy": "2025-08-05T16:22:26.667631Z",
     "iopub.status.idle": "2025-08-05T16:22:26.674075Z",
     "shell.execute_reply": "2025-08-05T16:22:26.673173Z"
    },
    "papermill": {
     "duration": 0.02231,
     "end_time": "2025-08-05T16:22:26.675793",
     "exception": false,
     "start_time": "2025-08-05T16:22:26.653483",
     "status": "completed"
    },
    "tags": []
   },
   "outputs": [],
   "source": [
    "cp_metrics_dict = {\n",
    "    \"universe_id\": [universe_id],\n",
    "    \"universe_training_year\": [universe_training_year],\n",
    "    \"universe_training_size\": [universe_training_size],\n",
    "    \"universe_scale\": [universe_scale],\n",
    "    \"universe_model\": [universe_model],\n",
    "    \"universe_exclude_features\": [universe_exclude_features],\n",
    "    \"universe_exclude_subgroups\": [universe_exclude_subgroups],\n",
    "    \"q_hat\": [q_hat],\n",
    "    \"coverage\": [metrics[\"coverage\"]],\n",
    "    \"avg_size\": [metrics[\"avg_size\"]],\n",
    "}"
   ]
  },
  {
   "cell_type": "code",
   "execution_count": 48,
   "id": "908acbb1-0371-4915-85ca-3fa520d2efe2",
   "metadata": {
    "execution": {
     "iopub.execute_input": "2025-08-05T16:22:26.705025Z",
     "iopub.status.busy": "2025-08-05T16:22:26.704123Z",
     "iopub.status.idle": "2025-08-05T16:22:26.711917Z",
     "shell.execute_reply": "2025-08-05T16:22:26.710915Z"
    },
    "papermill": {
     "duration": 0.023709,
     "end_time": "2025-08-05T16:22:26.713569",
     "exception": false,
     "start_time": "2025-08-05T16:22:26.689860",
     "status": "completed"
    },
    "tags": []
   },
   "outputs": [
    {
     "data": {
      "text/plain": [
       "{'universe_id': ['5ed6915b873bdb5587ed906a81b5bdfa'],\n",
       " 'universe_training_year': ['2012_14'],\n",
       " 'universe_training_size': ['1k'],\n",
       " 'universe_scale': ['scale'],\n",
       " 'universe_model': ['elasticnet'],\n",
       " 'universe_exclude_features': ['sex'],\n",
       " 'universe_exclude_subgroups': ['keep-all'],\n",
       " 'q_hat': [0.7692027219997498],\n",
       " 'coverage': [0.9087838591015495],\n",
       " 'avg_size': [1.2157507524244788]}"
      ]
     },
     "execution_count": 48,
     "metadata": {},
     "output_type": "execute_result"
    }
   ],
   "source": [
    "cp_metrics_dict"
   ]
  },
  {
   "cell_type": "code",
   "execution_count": 49,
   "id": "33007efc-14e9-4ec6-97ac-56a455c82265",
   "metadata": {
    "execution": {
     "iopub.execute_input": "2025-08-05T16:22:26.742766Z",
     "iopub.status.busy": "2025-08-05T16:22:26.741830Z",
     "iopub.status.idle": "2025-08-05T16:22:26.748334Z",
     "shell.execute_reply": "2025-08-05T16:22:26.747461Z"
    },
    "papermill": {
     "duration": 0.022596,
     "end_time": "2025-08-05T16:22:26.749999",
     "exception": false,
     "start_time": "2025-08-05T16:22:26.727403",
     "status": "completed"
    },
    "tags": []
   },
   "outputs": [],
   "source": [
    "cp_metrics_df = pd.DataFrame(cp_metrics_dict)"
   ]
  },
  {
   "cell_type": "code",
   "execution_count": 50,
   "id": "db12611b-57b2-4910-b9d0-355adfd6e7bf",
   "metadata": {
    "execution": {
     "iopub.execute_input": "2025-08-05T16:22:26.779417Z",
     "iopub.status.busy": "2025-08-05T16:22:26.778562Z",
     "iopub.status.idle": "2025-08-05T16:22:26.794746Z",
     "shell.execute_reply": "2025-08-05T16:22:26.793986Z"
    },
    "papermill": {
     "duration": 0.03224,
     "end_time": "2025-08-05T16:22:26.796425",
     "exception": false,
     "start_time": "2025-08-05T16:22:26.764185",
     "status": "completed"
    },
    "tags": []
   },
   "outputs": [
    {
     "data": {
      "text/html": [
       "<div>\n",
       "<style scoped>\n",
       "    .dataframe tbody tr th:only-of-type {\n",
       "        vertical-align: middle;\n",
       "    }\n",
       "\n",
       "    .dataframe tbody tr th {\n",
       "        vertical-align: top;\n",
       "    }\n",
       "\n",
       "    .dataframe thead th {\n",
       "        text-align: right;\n",
       "    }\n",
       "</style>\n",
       "<table border=\"1\" class=\"dataframe\">\n",
       "  <thead>\n",
       "    <tr style=\"text-align: right;\">\n",
       "      <th></th>\n",
       "      <th>universe_id</th>\n",
       "      <th>universe_training_year</th>\n",
       "      <th>universe_training_size</th>\n",
       "      <th>universe_scale</th>\n",
       "      <th>universe_model</th>\n",
       "      <th>universe_exclude_features</th>\n",
       "      <th>universe_exclude_subgroups</th>\n",
       "      <th>q_hat</th>\n",
       "      <th>coverage</th>\n",
       "      <th>avg_size</th>\n",
       "    </tr>\n",
       "  </thead>\n",
       "  <tbody>\n",
       "    <tr>\n",
       "      <th>0</th>\n",
       "      <td>5ed6915b873bdb5587ed906a81b5bdfa</td>\n",
       "      <td>2012_14</td>\n",
       "      <td>1k</td>\n",
       "      <td>scale</td>\n",
       "      <td>elasticnet</td>\n",
       "      <td>sex</td>\n",
       "      <td>keep-all</td>\n",
       "      <td>0.769203</td>\n",
       "      <td>0.908784</td>\n",
       "      <td>1.215751</td>\n",
       "    </tr>\n",
       "  </tbody>\n",
       "</table>\n",
       "</div>"
      ],
      "text/plain": [
       "                        universe_id universe_training_year  \\\n",
       "0  5ed6915b873bdb5587ed906a81b5bdfa                2012_14   \n",
       "\n",
       "  universe_training_size universe_scale universe_model  \\\n",
       "0                     1k          scale     elasticnet   \n",
       "\n",
       "  universe_exclude_features universe_exclude_subgroups     q_hat  coverage  \\\n",
       "0                       sex                   keep-all  0.769203  0.908784   \n",
       "\n",
       "   avg_size  \n",
       "0  1.215751  "
      ]
     },
     "execution_count": 50,
     "metadata": {},
     "output_type": "execute_result"
    }
   ],
   "source": [
    "cp_metrics_df"
   ]
  },
  {
   "cell_type": "code",
   "execution_count": 51,
   "id": "b7fbde55-a0a1-47e4-9af6-fe4a17fa8c61",
   "metadata": {
    "execution": {
     "iopub.execute_input": "2025-08-05T16:22:26.826551Z",
     "iopub.status.busy": "2025-08-05T16:22:26.825739Z",
     "iopub.status.idle": "2025-08-05T16:22:26.831117Z",
     "shell.execute_reply": "2025-08-05T16:22:26.830241Z"
    },
    "papermill": {
     "duration": 0.021886,
     "end_time": "2025-08-05T16:22:26.832762",
     "exception": false,
     "start_time": "2025-08-05T16:22:26.810876",
     "status": "completed"
    },
    "tags": []
   },
   "outputs": [],
   "source": [
    "# Conditional Coverage & looking at subgroups"
   ]
  },
  {
   "cell_type": "code",
   "execution_count": 52,
   "id": "027ae886-68dd-4141-96c7-805a5450e1ef",
   "metadata": {
    "execution": {
     "iopub.execute_input": "2025-08-05T16:22:26.862636Z",
     "iopub.status.busy": "2025-08-05T16:22:26.862150Z",
     "iopub.status.idle": "2025-08-05T16:22:27.066800Z",
     "shell.execute_reply": "2025-08-05T16:22:27.065795Z"
    },
    "papermill": {
     "duration": 0.221346,
     "end_time": "2025-08-05T16:22:27.068687",
     "exception": false,
     "start_time": "2025-08-05T16:22:26.847341",
     "status": "completed"
    },
    "tags": []
   },
   "outputs": [],
   "source": [
    "from fairness_multiverse.conformal import build_cp_groups\n",
    "\n",
    "cp_groups_df = build_cp_groups(pred_sets, y_true, X_test.index, org_test)\n",
    "#needs universe_id and setting"
   ]
  },
  {
   "cell_type": "code",
   "execution_count": 53,
   "id": "6cbdab96-b2b2-45af-ad54-d0516db2e28d",
   "metadata": {
    "execution": {
     "iopub.execute_input": "2025-08-05T16:22:27.099613Z",
     "iopub.status.busy": "2025-08-05T16:22:27.098583Z",
     "iopub.status.idle": "2025-08-05T16:22:28.640595Z",
     "shell.execute_reply": "2025-08-05T16:22:28.639451Z"
    },
    "papermill": {
     "duration": 1.559558,
     "end_time": "2025-08-05T16:22:28.642980",
     "exception": false,
     "start_time": "2025-08-05T16:22:27.083422",
     "status": "completed"
    },
    "tags": []
   },
   "outputs": [],
   "source": [
    "# Define covered = 1 if true_label is in the predicted set\n",
    "cp_groups_df['covered'] = cp_groups_df.apply(\n",
    "    lambda r: int(r['true_label'] in r['pred_set']),\n",
    "    axis=1\n",
    ")"
   ]
  },
  {
   "cell_type": "code",
   "execution_count": 54,
   "id": "338ff529-1a6b-4b87-a931-8e4788d52aad",
   "metadata": {
    "execution": {
     "iopub.execute_input": "2025-08-05T16:22:28.716908Z",
     "iopub.status.busy": "2025-08-05T16:22:28.715585Z",
     "iopub.status.idle": "2025-08-05T16:22:28.722715Z",
     "shell.execute_reply": "2025-08-05T16:22:28.721466Z"
    },
    "papermill": {
     "duration": 0.04517,
     "end_time": "2025-08-05T16:22:28.724981",
     "exception": false,
     "start_time": "2025-08-05T16:22:28.679811",
     "status": "completed"
    },
    "tags": []
   },
   "outputs": [],
   "source": [
    "#cp_groups_df"
   ]
  },
  {
   "cell_type": "code",
   "execution_count": 55,
   "id": "90032e27-66df-4540-9169-4e89cfbaa758",
   "metadata": {
    "execution": {
     "iopub.execute_input": "2025-08-05T16:22:28.796385Z",
     "iopub.status.busy": "2025-08-05T16:22:28.795171Z",
     "iopub.status.idle": "2025-08-05T16:22:28.922401Z",
     "shell.execute_reply": "2025-08-05T16:22:28.920989Z"
    },
    "papermill": {
     "duration": 0.165662,
     "end_time": "2025-08-05T16:22:28.925417",
     "exception": false,
     "start_time": "2025-08-05T16:22:28.759755",
     "status": "completed"
    },
    "tags": []
   },
   "outputs": [],
   "source": [
    "subgroups = ['frau1','nongerman','nongerman_male','nongerman_female']\n",
    "\n",
    "# Conditional coverage for subgroup==1\n",
    "cond_coverage = {\n",
    "    g: cp_groups_df.loc[cp_groups_df[g]==1, 'covered'].mean()\n",
    "    for g in subgroups\n",
    "}"
   ]
  },
  {
   "cell_type": "code",
   "execution_count": 56,
   "id": "1e348fb1-b9c3-45bc-ba23-f016827a7e0d",
   "metadata": {
    "execution": {
     "iopub.execute_input": "2025-08-05T16:22:29.000925Z",
     "iopub.status.busy": "2025-08-05T16:22:28.999824Z",
     "iopub.status.idle": "2025-08-05T16:22:29.009477Z",
     "shell.execute_reply": "2025-08-05T16:22:29.008007Z"
    },
    "papermill": {
     "duration": 0.049268,
     "end_time": "2025-08-05T16:22:29.011862",
     "exception": false,
     "start_time": "2025-08-05T16:22:28.962594",
     "status": "completed"
    },
    "tags": []
   },
   "outputs": [
    {
     "data": {
      "text/plain": [
       "{'frau1': 0.9044884755357865,\n",
       " 'nongerman': 0.9137147027451861,\n",
       " 'nongerman_male': 0.9297487165630911,\n",
       " 'nongerman_female': 0.8871833084947839}"
      ]
     },
     "execution_count": 56,
     "metadata": {},
     "output_type": "execute_result"
    }
   ],
   "source": [
    "cond_coverage"
   ]
  },
  {
   "cell_type": "code",
   "execution_count": 57,
   "id": "f5093324-c3dd-4d63-bc4c-8d945e5c8bbb",
   "metadata": {
    "execution": {
     "iopub.execute_input": "2025-08-05T16:22:29.078904Z",
     "iopub.status.busy": "2025-08-05T16:22:29.078091Z",
     "iopub.status.idle": "2025-08-05T16:22:29.088343Z",
     "shell.execute_reply": "2025-08-05T16:22:29.086871Z"
    },
    "papermill": {
     "duration": 0.046447,
     "end_time": "2025-08-05T16:22:29.090425",
     "exception": false,
     "start_time": "2025-08-05T16:22:29.043978",
     "status": "completed"
    },
    "tags": []
   },
   "outputs": [],
   "source": [
    "for subgroup, cov in cond_coverage.items():\n",
    "    cp_metrics_df[f\"cov_{subgroup}\"] = cov"
   ]
  },
  {
   "cell_type": "code",
   "execution_count": 58,
   "id": "6e872e10-dbe5-49e8-b554-5030c98ff75d",
   "metadata": {
    "execution": {
     "iopub.execute_input": "2025-08-05T16:22:29.157023Z",
     "iopub.status.busy": "2025-08-05T16:22:29.155914Z",
     "iopub.status.idle": "2025-08-05T16:22:29.183716Z",
     "shell.execute_reply": "2025-08-05T16:22:29.182288Z"
    },
    "papermill": {
     "duration": 0.064043,
     "end_time": "2025-08-05T16:22:29.186110",
     "exception": false,
     "start_time": "2025-08-05T16:22:29.122067",
     "status": "completed"
    },
    "tags": []
   },
   "outputs": [
    {
     "data": {
      "text/html": [
       "<div>\n",
       "<style scoped>\n",
       "    .dataframe tbody tr th:only-of-type {\n",
       "        vertical-align: middle;\n",
       "    }\n",
       "\n",
       "    .dataframe tbody tr th {\n",
       "        vertical-align: top;\n",
       "    }\n",
       "\n",
       "    .dataframe thead th {\n",
       "        text-align: right;\n",
       "    }\n",
       "</style>\n",
       "<table border=\"1\" class=\"dataframe\">\n",
       "  <thead>\n",
       "    <tr style=\"text-align: right;\">\n",
       "      <th></th>\n",
       "      <th>universe_id</th>\n",
       "      <th>universe_training_year</th>\n",
       "      <th>universe_training_size</th>\n",
       "      <th>universe_scale</th>\n",
       "      <th>universe_model</th>\n",
       "      <th>universe_exclude_features</th>\n",
       "      <th>universe_exclude_subgroups</th>\n",
       "      <th>q_hat</th>\n",
       "      <th>coverage</th>\n",
       "      <th>avg_size</th>\n",
       "      <th>cov_frau1</th>\n",
       "      <th>cov_nongerman</th>\n",
       "      <th>cov_nongerman_male</th>\n",
       "      <th>cov_nongerman_female</th>\n",
       "    </tr>\n",
       "  </thead>\n",
       "  <tbody>\n",
       "    <tr>\n",
       "      <th>0</th>\n",
       "      <td>5ed6915b873bdb5587ed906a81b5bdfa</td>\n",
       "      <td>2012_14</td>\n",
       "      <td>1k</td>\n",
       "      <td>scale</td>\n",
       "      <td>elasticnet</td>\n",
       "      <td>sex</td>\n",
       "      <td>keep-all</td>\n",
       "      <td>0.769203</td>\n",
       "      <td>0.908784</td>\n",
       "      <td>1.215751</td>\n",
       "      <td>0.904488</td>\n",
       "      <td>0.913715</td>\n",
       "      <td>0.929749</td>\n",
       "      <td>0.887183</td>\n",
       "    </tr>\n",
       "  </tbody>\n",
       "</table>\n",
       "</div>"
      ],
      "text/plain": [
       "                        universe_id universe_training_year  \\\n",
       "0  5ed6915b873bdb5587ed906a81b5bdfa                2012_14   \n",
       "\n",
       "  universe_training_size universe_scale universe_model  \\\n",
       "0                     1k          scale     elasticnet   \n",
       "\n",
       "  universe_exclude_features universe_exclude_subgroups     q_hat  coverage  \\\n",
       "0                       sex                   keep-all  0.769203  0.908784   \n",
       "\n",
       "   avg_size  cov_frau1  cov_nongerman  cov_nongerman_male  \\\n",
       "0  1.215751   0.904488       0.913715            0.929749   \n",
       "\n",
       "   cov_nongerman_female  \n",
       "0              0.887183  "
      ]
     },
     "execution_count": 58,
     "metadata": {},
     "output_type": "execute_result"
    }
   ],
   "source": [
    "cp_metrics_df"
   ]
  },
  {
   "cell_type": "markdown",
   "id": "33774451",
   "metadata": {
    "papermill": {
     "duration": 0.030009,
     "end_time": "2025-08-05T16:22:29.249419",
     "exception": false,
     "start_time": "2025-08-05T16:22:29.219410",
     "status": "completed"
    },
    "tags": []
   },
   "source": [
    "# (Fairness) Metrics"
   ]
  },
  {
   "cell_type": "code",
   "execution_count": 59,
   "id": "debc5d62",
   "metadata": {
    "execution": {
     "iopub.execute_input": "2025-08-05T16:22:29.321530Z",
     "iopub.status.busy": "2025-08-05T16:22:29.320853Z",
     "iopub.status.idle": "2025-08-05T16:22:29.345766Z",
     "shell.execute_reply": "2025-08-05T16:22:29.344440Z"
    },
    "papermill": {
     "duration": 0.064919,
     "end_time": "2025-08-05T16:22:29.348166",
     "exception": false,
     "start_time": "2025-08-05T16:22:29.283247",
     "status": "completed"
    },
    "tags": []
   },
   "outputs": [],
   "source": [
    "# do I need to include maxdeutsch1.missing?\n",
    "\n",
    "import numpy as np\n",
    "\n",
    "colname_to_bin = \"maxdeutsch1\"\n",
    "majority_value = org_train[colname_to_bin].mode()[0]\n",
    "\n",
    "org_test[\"majmin\"] = np.where(org_test[colname_to_bin] == majority_value, \"majority\", \"minority\")"
   ]
  },
  {
   "cell_type": "code",
   "execution_count": 60,
   "id": "06a50de5",
   "metadata": {
    "execution": {
     "iopub.execute_input": "2025-08-05T16:22:29.417366Z",
     "iopub.status.busy": "2025-08-05T16:22:29.416313Z",
     "iopub.status.idle": "2025-08-05T16:22:32.216321Z",
     "shell.execute_reply": "2025-08-05T16:22:32.214710Z"
    },
    "papermill": {
     "duration": 2.837512,
     "end_time": "2025-08-05T16:22:32.218624",
     "exception": false,
     "start_time": "2025-08-05T16:22:29.381112",
     "status": "completed"
    },
    "tags": []
   },
   "outputs": [],
   "source": [
    "example_universe = universe.copy()\n",
    "example_universe[\"cutoff\"] = example_universe[\"cutoff\"][0]\n",
    "example_universe[\"eval_fairness_grouping\"] = example_universe[\"eval_fairness_grouping\"][0]\n",
    "fairness_dict, metric_frame = universe_analysis.compute_metrics(\n",
    "    example_universe,\n",
    "    y_pred_prob=probs_test,\n",
    "    y_test=y_true,\n",
    "    org_test=org_test,\n",
    ")"
   ]
  },
  {
   "cell_type": "markdown",
   "id": "f95d4e02",
   "metadata": {
    "papermill": {
     "duration": 0.028116,
     "end_time": "2025-08-05T16:22:32.273181",
     "exception": false,
     "start_time": "2025-08-05T16:22:32.245065",
     "status": "completed"
    },
    "tags": []
   },
   "source": [
    "# Overall"
   ]
  },
  {
   "cell_type": "markdown",
   "id": "bdee4871",
   "metadata": {
    "papermill": {
     "duration": 0.029626,
     "end_time": "2025-08-05T16:22:32.332918",
     "exception": false,
     "start_time": "2025-08-05T16:22:32.303292",
     "status": "completed"
    },
    "tags": []
   },
   "source": [
    "Fairness\n",
    "Main fairness target: Equalized Odds. Seems to be a better fit than equal opportunity, since we're not only interested in Y = 1. Seems to be a better fit than demographic parity, since we also care about accuracy, not just equal distribution of preds.\n",
    "\n",
    "Pick column for computation of fairness metrics\n",
    "\n",
    "Performance\n",
    "Overall performance measures, most interesting in relation to the measures split by group below"
   ]
  },
  {
   "cell_type": "code",
   "execution_count": 61,
   "id": "c4e067c6",
   "metadata": {
    "execution": {
     "iopub.execute_input": "2025-08-05T16:22:32.393316Z",
     "iopub.status.busy": "2025-08-05T16:22:32.392470Z",
     "iopub.status.idle": "2025-08-05T16:22:32.403354Z",
     "shell.execute_reply": "2025-08-05T16:22:32.401779Z"
    },
    "papermill": {
     "duration": 0.043094,
     "end_time": "2025-08-05T16:22:32.405276",
     "exception": false,
     "start_time": "2025-08-05T16:22:32.362182",
     "status": "completed"
    },
    "tags": []
   },
   "outputs": [
    {
     "data": {
      "text/plain": [
       "accuracy                   0.218716\n",
       "balanced accuracy          0.535976\n",
       "f1                         0.240203\n",
       "precision                  0.137220\n",
       "false positive rate        0.890770\n",
       "false negative rate        0.037278\n",
       "selection rate             0.900000\n",
       "count                  89710.000000\n",
       "dtype: float64"
      ]
     },
     "execution_count": 61,
     "metadata": {},
     "output_type": "execute_result"
    }
   ],
   "source": [
    "metric_frame.overall"
   ]
  },
  {
   "cell_type": "markdown",
   "id": "e968fe9d",
   "metadata": {
    "papermill": {
     "duration": 0.029889,
     "end_time": "2025-08-05T16:22:32.465854",
     "exception": false,
     "start_time": "2025-08-05T16:22:32.435965",
     "status": "completed"
    },
    "tags": []
   },
   "source": [
    "By Group"
   ]
  },
  {
   "cell_type": "code",
   "execution_count": 62,
   "id": "ec325bce",
   "metadata": {
    "execution": {
     "iopub.execute_input": "2025-08-05T16:22:32.523095Z",
     "iopub.status.busy": "2025-08-05T16:22:32.522327Z",
     "iopub.status.idle": "2025-08-05T16:22:32.544715Z",
     "shell.execute_reply": "2025-08-05T16:22:32.543374Z"
    },
    "papermill": {
     "duration": 0.055346,
     "end_time": "2025-08-05T16:22:32.546673",
     "exception": false,
     "start_time": "2025-08-05T16:22:32.491327",
     "status": "completed"
    },
    "tags": []
   },
   "outputs": [
    {
     "data": {
      "text/html": [
       "<div>\n",
       "<style scoped>\n",
       "    .dataframe tbody tr th:only-of-type {\n",
       "        vertical-align: middle;\n",
       "    }\n",
       "\n",
       "    .dataframe tbody tr th {\n",
       "        vertical-align: top;\n",
       "    }\n",
       "\n",
       "    .dataframe thead th {\n",
       "        text-align: right;\n",
       "    }\n",
       "</style>\n",
       "<table border=\"1\" class=\"dataframe\">\n",
       "  <thead>\n",
       "    <tr style=\"text-align: right;\">\n",
       "      <th></th>\n",
       "      <th>accuracy</th>\n",
       "      <th>balanced accuracy</th>\n",
       "      <th>f1</th>\n",
       "      <th>precision</th>\n",
       "      <th>false positive rate</th>\n",
       "      <th>false negative rate</th>\n",
       "      <th>selection rate</th>\n",
       "      <th>count</th>\n",
       "    </tr>\n",
       "    <tr>\n",
       "      <th>majmin</th>\n",
       "      <th></th>\n",
       "      <th></th>\n",
       "      <th></th>\n",
       "      <th></th>\n",
       "      <th></th>\n",
       "      <th></th>\n",
       "      <th></th>\n",
       "      <th></th>\n",
       "    </tr>\n",
       "  </thead>\n",
       "  <tbody>\n",
       "    <tr>\n",
       "      <th>majority</th>\n",
       "      <td>0.238167</td>\n",
       "      <td>0.542536</td>\n",
       "      <td>0.249088</td>\n",
       "      <td>0.143194</td>\n",
       "      <td>0.871164</td>\n",
       "      <td>0.043764</td>\n",
       "      <td>0.882406</td>\n",
       "      <td>69170.0</td>\n",
       "    </tr>\n",
       "    <tr>\n",
       "      <th>minority</th>\n",
       "      <td>0.153213</td>\n",
       "      <td>0.516109</td>\n",
       "      <td>0.211952</td>\n",
       "      <td>0.118713</td>\n",
       "      <td>0.955536</td>\n",
       "      <td>0.012247</td>\n",
       "      <td>0.959250</td>\n",
       "      <td>20540.0</td>\n",
       "    </tr>\n",
       "  </tbody>\n",
       "</table>\n",
       "</div>"
      ],
      "text/plain": [
       "          accuracy  balanced accuracy        f1  precision  \\\n",
       "majmin                                                       \n",
       "majority  0.238167           0.542536  0.249088   0.143194   \n",
       "minority  0.153213           0.516109  0.211952   0.118713   \n",
       "\n",
       "          false positive rate  false negative rate  selection rate    count  \n",
       "majmin                                                                       \n",
       "majority             0.871164             0.043764        0.882406  69170.0  \n",
       "minority             0.955536             0.012247        0.959250  20540.0  "
      ]
     },
     "execution_count": 62,
     "metadata": {},
     "output_type": "execute_result"
    }
   ],
   "source": [
    "metric_frame.by_group"
   ]
  },
  {
   "cell_type": "code",
   "execution_count": 63,
   "id": "a9ddbe63",
   "metadata": {
    "execution": {
     "iopub.execute_input": "2025-08-05T16:22:32.603999Z",
     "iopub.status.busy": "2025-08-05T16:22:32.602876Z",
     "iopub.status.idle": "2025-08-05T16:22:35.327027Z",
     "shell.execute_reply": "2025-08-05T16:22:35.325816Z"
    },
    "papermill": {
     "duration": 2.751918,
     "end_time": "2025-08-05T16:22:35.329145",
     "exception": false,
     "start_time": "2025-08-05T16:22:32.577227",
     "status": "completed"
    },
    "tags": []
   },
   "outputs": [
    {
     "data": {
      "text/plain": [
       "array([[<Axes: title={'center': 'accuracy'}, xlabel='majmin'>,\n",
       "        <Axes: title={'center': 'balanced accuracy'}, xlabel='majmin'>,\n",
       "        <Axes: title={'center': 'f1'}, xlabel='majmin'>],\n",
       "       [<Axes: title={'center': 'precision'}, xlabel='majmin'>,\n",
       "        <Axes: title={'center': 'false positive rate'}, xlabel='majmin'>,\n",
       "        <Axes: title={'center': 'false negative rate'}, xlabel='majmin'>],\n",
       "       [<Axes: title={'center': 'selection rate'}, xlabel='majmin'>,\n",
       "        <Axes: title={'center': 'count'}, xlabel='majmin'>,\n",
       "        <Axes: xlabel='majmin'>]], dtype=object)"
      ]
     },
     "execution_count": 63,
     "metadata": {},
     "output_type": "execute_result"
    },
    {
     "data": {
      "image/png": "[encoded data removed]",
      "text/plain": [
       "<Figure size 1200x800 with 9 Axes>"
      ]
     },
     "metadata": {},
     "output_type": "display_data"
    }
   ],
   "source": [
    "# In a graphic\n",
    "metric_frame.by_group.plot.bar(\n",
    "    subplots=True,\n",
    "    layout=[3, 3],\n",
    "    legend=False,\n",
    "    figsize=[12, 8],\n",
    "    title=\"Show all metrics\",\n",
    ")"
   ]
  },
  {
   "cell_type": "markdown",
   "id": "f57a0bac",
   "metadata": {
    "papermill": {
     "duration": 0.025716,
     "end_time": "2025-08-05T16:22:35.387519",
     "exception": false,
     "start_time": "2025-08-05T16:22:35.361803",
     "status": "completed"
    },
    "tags": []
   },
   "source": [
    "# Final Output"
   ]
  },
  {
   "cell_type": "code",
   "execution_count": 64,
   "id": "96d280a3",
   "metadata": {
    "execution": {
     "iopub.execute_input": "2025-08-05T16:22:35.448966Z",
     "iopub.status.busy": "2025-08-05T16:22:35.448154Z",
     "iopub.status.idle": "2025-08-05T16:22:35.458471Z",
     "shell.execute_reply": "2025-08-05T16:22:35.457265Z"
    },
    "papermill": {
     "duration": 0.040494,
     "end_time": "2025-08-05T16:22:35.460389",
     "exception": false,
     "start_time": "2025-08-05T16:22:35.419895",
     "status": "completed"
    },
    "tags": []
   },
   "outputs": [
    {
     "data": {
      "text/plain": [
       "4"
      ]
     },
     "execution_count": 64,
     "metadata": {},
     "output_type": "execute_result"
    }
   ],
   "source": [
    "sub_universes = universe_analysis.generate_sub_universes()\n",
    "len(sub_universes)"
   ]
  },
  {
   "cell_type": "code",
   "execution_count": 65,
   "id": "92adf7ba",
   "metadata": {
    "execution": {
     "iopub.execute_input": "2025-08-05T16:22:35.522753Z",
     "iopub.status.busy": "2025-08-05T16:22:35.522296Z",
     "iopub.status.idle": "2025-08-05T16:22:35.528966Z",
     "shell.execute_reply": "2025-08-05T16:22:35.527830Z"
    },
    "papermill": {
     "duration": 0.040041,
     "end_time": "2025-08-05T16:22:35.531437",
     "exception": false,
     "start_time": "2025-08-05T16:22:35.491396",
     "status": "completed"
    },
    "tags": []
   },
   "outputs": [],
   "source": [
    "def filter_sub_universe_data(sub_universe, org_test):\n",
    "    # Keep all rows — no filtering\n",
    "    keep_rows_mask = np.ones(org_test.shape[0], dtype=bool)\n",
    "\n",
    "    print(f\"[INFO] Keeping all rows: {keep_rows_mask.sum()} rows retained.\")\n",
    "    return keep_rows_mask"
   ]
  },
  {
   "cell_type": "code",
   "execution_count": 66,
   "id": "4a759155",
   "metadata": {
    "execution": {
     "iopub.execute_input": "2025-08-05T16:22:35.597960Z",
     "iopub.status.busy": "2025-08-05T16:22:35.596940Z",
     "iopub.status.idle": "2025-08-05T16:22:43.107494Z",
     "shell.execute_reply": "2025-08-05T16:22:43.106507Z"
    },
    "papermill": {
     "duration": 7.545134,
     "end_time": "2025-08-05T16:22:43.109106",
     "exception": false,
     "start_time": "2025-08-05T16:22:35.563972",
     "status": "completed"
    },
    "tags": []
   },
   "outputs": [
    {
     "name": "stdout",
     "output_type": "stream",
     "text": [
      "Stopping execution_time clock.\n",
      "[INFO] Keeping all rows: 89710 rows retained.\n"
     ]
    },
    {
     "name": "stdout",
     "output_type": "stream",
     "text": [
      "[INFO] Keeping all rows: 89710 rows retained.\n"
     ]
    },
    {
     "name": "stdout",
     "output_type": "stream",
     "text": [
      "[INFO] Keeping all rows: 89710 rows retained.\n"
     ]
    },
    {
     "name": "stdout",
     "output_type": "stream",
     "text": [
      "[INFO] Keeping all rows: 89710 rows retained.\n"
     ]
    },
    {
     "data": {
      "text/html": [
       "<div>\n",
       "<style scoped>\n",
       "    .dataframe tbody tr th:only-of-type {\n",
       "        vertical-align: middle;\n",
       "    }\n",
       "\n",
       "    .dataframe tbody tr th {\n",
       "        vertical-align: top;\n",
       "    }\n",
       "\n",
       "    .dataframe thead th {\n",
       "        text-align: right;\n",
       "    }\n",
       "</style>\n",
       "<table border=\"1\" class=\"dataframe\">\n",
       "  <thead>\n",
       "    <tr style=\"text-align: right;\">\n",
       "      <th></th>\n",
       "      <th>run_no</th>\n",
       "      <th>universe_id</th>\n",
       "      <th>universe_settings</th>\n",
       "      <th>execution_time</th>\n",
       "      <th>test_size_n</th>\n",
       "      <th>test_size_frac</th>\n",
       "      <th>fair_main_equalized_odds_difference</th>\n",
       "      <th>fair_main_equalized_odds_ratio</th>\n",
       "      <th>fair_main_demographic_parity_difference</th>\n",
       "      <th>fair_main_demographic_parity_ratio</th>\n",
       "      <th>...</th>\n",
       "      <th>perf_grp_precision_0</th>\n",
       "      <th>perf_grp_precision_1</th>\n",
       "      <th>perf_grp_false positive rate_0</th>\n",
       "      <th>perf_grp_false positive rate_1</th>\n",
       "      <th>perf_grp_false negative rate_0</th>\n",
       "      <th>perf_grp_false negative rate_1</th>\n",
       "      <th>perf_grp_selection rate_0</th>\n",
       "      <th>perf_grp_selection rate_1</th>\n",
       "      <th>perf_grp_count_0</th>\n",
       "      <th>perf_grp_count_1</th>\n",
       "    </tr>\n",
       "  </thead>\n",
       "  <tbody>\n",
       "    <tr>\n",
       "      <th>0</th>\n",
       "      <td>15</td>\n",
       "      <td>5ed6915b873bdb5587ed906a81b5bdfa</td>\n",
       "      <td>{\"cutoff\": \"quantile_0.1\", \"eval_fairness_grou...</td>\n",
       "      <td>29.840035</td>\n",
       "      <td>89710</td>\n",
       "      <td>1.0</td>\n",
       "      <td>0.084372</td>\n",
       "      <td>0.911702</td>\n",
       "      <td>0.076845</td>\n",
       "      <td>0.919891</td>\n",
       "      <td>...</td>\n",
       "      <td>NaN</td>\n",
       "      <td>NaN</td>\n",
       "      <td>NaN</td>\n",
       "      <td>NaN</td>\n",
       "      <td>NaN</td>\n",
       "      <td>NaN</td>\n",
       "      <td>NaN</td>\n",
       "      <td>NaN</td>\n",
       "      <td>NaN</td>\n",
       "      <td>NaN</td>\n",
       "    </tr>\n",
       "    <tr>\n",
       "      <th>0</th>\n",
       "      <td>15</td>\n",
       "      <td>5ed6915b873bdb5587ed906a81b5bdfa</td>\n",
       "      <td>{\"cutoff\": \"quantile_0.1\", \"eval_fairness_grou...</td>\n",
       "      <td>29.840035</td>\n",
       "      <td>89710</td>\n",
       "      <td>1.0</td>\n",
       "      <td>0.084372</td>\n",
       "      <td>0.911702</td>\n",
       "      <td>0.076845</td>\n",
       "      <td>0.919891</td>\n",
       "      <td>...</td>\n",
       "      <td>0.118713</td>\n",
       "      <td>0.143194</td>\n",
       "      <td>0.955536</td>\n",
       "      <td>0.871164</td>\n",
       "      <td>0.012247</td>\n",
       "      <td>0.043764</td>\n",
       "      <td>0.959250</td>\n",
       "      <td>0.882406</td>\n",
       "      <td>20540.0</td>\n",
       "      <td>69170.0</td>\n",
       "    </tr>\n",
       "    <tr>\n",
       "      <th>0</th>\n",
       "      <td>15</td>\n",
       "      <td>5ed6915b873bdb5587ed906a81b5bdfa</td>\n",
       "      <td>{\"cutoff\": \"quantile_0.25\", \"eval_fairness_gro...</td>\n",
       "      <td>29.840035</td>\n",
       "      <td>89710</td>\n",
       "      <td>1.0</td>\n",
       "      <td>0.161374</td>\n",
       "      <td>0.810930</td>\n",
       "      <td>0.147193</td>\n",
       "      <td>0.829537</td>\n",
       "      <td>...</td>\n",
       "      <td>NaN</td>\n",
       "      <td>NaN</td>\n",
       "      <td>NaN</td>\n",
       "      <td>NaN</td>\n",
       "      <td>NaN</td>\n",
       "      <td>NaN</td>\n",
       "      <td>NaN</td>\n",
       "      <td>NaN</td>\n",
       "      <td>NaN</td>\n",
       "      <td>NaN</td>\n",
       "    </tr>\n",
       "    <tr>\n",
       "      <th>0</th>\n",
       "      <td>15</td>\n",
       "      <td>5ed6915b873bdb5587ed906a81b5bdfa</td>\n",
       "      <td>{\"cutoff\": \"quantile_0.25\", \"eval_fairness_gro...</td>\n",
       "      <td>29.840035</td>\n",
       "      <td>89710</td>\n",
       "      <td>1.0</td>\n",
       "      <td>0.161374</td>\n",
       "      <td>0.810930</td>\n",
       "      <td>0.147193</td>\n",
       "      <td>0.829537</td>\n",
       "      <td>...</td>\n",
       "      <td>0.125507</td>\n",
       "      <td>0.161406</td>\n",
       "      <td>0.853511</td>\n",
       "      <td>0.692137</td>\n",
       "      <td>0.059966</td>\n",
       "      <td>0.125055</td>\n",
       "      <td>0.863486</td>\n",
       "      <td>0.716293</td>\n",
       "      <td>20540.0</td>\n",
       "      <td>69170.0</td>\n",
       "    </tr>\n",
       "  </tbody>\n",
       "</table>\n",
       "<p>4 rows × 50 columns</p>\n",
       "</div>"
      ],
      "text/plain": [
       "  run_no                       universe_id  \\\n",
       "0     15  5ed6915b873bdb5587ed906a81b5bdfa   \n",
       "0     15  5ed6915b873bdb5587ed906a81b5bdfa   \n",
       "0     15  5ed6915b873bdb5587ed906a81b5bdfa   \n",
       "0     15  5ed6915b873bdb5587ed906a81b5bdfa   \n",
       "\n",
       "                                   universe_settings  execution_time  \\\n",
       "0  {\"cutoff\": \"quantile_0.1\", \"eval_fairness_grou...       29.840035   \n",
       "0  {\"cutoff\": \"quantile_0.1\", \"eval_fairness_grou...       29.840035   \n",
       "0  {\"cutoff\": \"quantile_0.25\", \"eval_fairness_gro...       29.840035   \n",
       "0  {\"cutoff\": \"quantile_0.25\", \"eval_fairness_gro...       29.840035   \n",
       "\n",
       "   test_size_n  test_size_frac  fair_main_equalized_odds_difference  \\\n",
       "0        89710             1.0                             0.084372   \n",
       "0        89710             1.0                             0.084372   \n",
       "0        89710             1.0                             0.161374   \n",
       "0        89710             1.0                             0.161374   \n",
       "\n",
       "   fair_main_equalized_odds_ratio  fair_main_demographic_parity_difference  \\\n",
       "0                        0.911702                                 0.076845   \n",
       "0                        0.911702                                 0.076845   \n",
       "0                        0.810930                                 0.147193   \n",
       "0                        0.810930                                 0.147193   \n",
       "\n",
       "   fair_main_demographic_parity_ratio  ...  perf_grp_precision_0  \\\n",
       "0                            0.919891  ...                   NaN   \n",
       "0                            0.919891  ...              0.118713   \n",
       "0                            0.829537  ...                   NaN   \n",
       "0                            0.829537  ...              0.125507   \n",
       "\n",
       "   perf_grp_precision_1  perf_grp_false positive rate_0  \\\n",
       "0                   NaN                             NaN   \n",
       "0              0.143194                        0.955536   \n",
       "0                   NaN                             NaN   \n",
       "0              0.161406                        0.853511   \n",
       "\n",
       "   perf_grp_false positive rate_1  perf_grp_false negative rate_0  \\\n",
       "0                             NaN                             NaN   \n",
       "0                        0.871164                        0.012247   \n",
       "0                             NaN                             NaN   \n",
       "0                        0.692137                        0.059966   \n",
       "\n",
       "   perf_grp_false negative rate_1  perf_grp_selection rate_0  \\\n",
       "0                             NaN                        NaN   \n",
       "0                        0.043764                   0.959250   \n",
       "0                             NaN                        NaN   \n",
       "0                        0.125055                   0.863486   \n",
       "\n",
       "   perf_grp_selection rate_1  perf_grp_count_0  perf_grp_count_1  \n",
       "0                        NaN               NaN               NaN  \n",
       "0                   0.882406           20540.0           69170.0  \n",
       "0                        NaN               NaN               NaN  \n",
       "0                   0.716293           20540.0           69170.0  \n",
       "\n",
       "[4 rows x 50 columns]"
      ]
     },
     "execution_count": 66,
     "metadata": {},
     "output_type": "execute_result"
    }
   ],
   "source": [
    "final_output = universe_analysis.generate_final_output(\n",
    "    y_pred_prob=probs_test,\n",
    "    y_test=y_true,\n",
    "    org_test=org_test,\n",
    "    filter_data=filter_sub_universe_data,\n",
    "    cp_metrics_df=cp_metrics_df,\n",
    "    save=True,\n",
    ")\n",
    "final_output"
   ]
  }
 ],
 "metadata": {
  "celltoolbar": "Tags",
  "kernelspec": {
   "display_name": "Python (CMA Fairness)",
   "language": "python",
   "name": "cma_fair_env"
  },
  "language_info": {
   "codemirror_mode": {
    "name": "ipython",
    "version": 3
   },
   "file_extension": ".py",
   "mimetype": "text/x-python",
   "name": "python",
   "nbconvert_exporter": "python",
   "pygments_lexer": "ipython3",
   "version": "3.10.12"
  },
  "papermill": {
   "default_parameters": {},
   "duration": 42.201808,
   "end_time": "2025-08-05T16:22:43.945030",
   "environment_variables": {},
   "exception": null,
   "input_path": "universe_analysis.ipynb",
   "output_path": "output/runs/15/notebooks/m_15-5ed6915b873bdb5587ed906a81b5bdfa.ipynb",
   "parameters": {
    "output_dir": "output",
    "run_no": "15",
    "seed": "2023",
    "universe": "{\"cutoff\": [\"quantile_0.1\", \"quantile_0.25\"], \"eval_fairness_grouping\": [\"majority-minority\", \"nationality-all\"], \"exclude_features\": \"sex\", \"exclude_subgroups\": \"keep-all\", \"model\": \"elasticnet\", \"scale\": \"scale\", \"training_size\": \"1k\", \"training_year\": \"2012_14\"}",
    "universe_id": "5ed6915b873bdb5587ed906a81b5bdfa"
   },
   "start_time": "2025-08-05T16:22:01.743222",
   "version": "2.6.0"
  }
 },
 "nbformat": 4,
 "nbformat_minor": 5
}