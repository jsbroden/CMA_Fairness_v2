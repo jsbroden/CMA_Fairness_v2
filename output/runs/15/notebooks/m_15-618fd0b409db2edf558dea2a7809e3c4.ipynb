{
 "cells": [
  {
   "cell_type": "code",
   "execution_count": 1,
   "id": "f159f837-637b-42ba-96b5-ec9a68c44524",
   "metadata": {
    "execution": {
     "iopub.execute_input": "2025-08-05T15:29:29.623187Z",
     "iopub.status.busy": "2025-08-05T15:29:29.622707Z",
     "iopub.status.idle": "2025-08-05T15:29:29.636460Z",
     "shell.execute_reply": "2025-08-05T15:29:29.635387Z"
    },
    "papermill": {
     "duration": 0.032655,
     "end_time": "2025-08-05T15:29:29.638103",
     "exception": false,
     "start_time": "2025-08-05T15:29:29.605448",
     "status": "completed"
    },
    "tags": []
   },
   "outputs": [
    {
     "name": "stdout",
     "output_type": "stream",
     "text": [
      "/dss/dsshome1/0C/ra93lal2/cma/CMA_Fairness_v2\n"
     ]
    },
    {
     "name": "stderr",
     "output_type": "stream",
     "text": [
      "/dss/dsshome1/0C/ra93lal2/.local/share/virtualenvs/CMA_Fairness_v2-3j10GkSs/lib/python3.10/site-packages/IPython/core/magics/osm.py:393: UserWarning: This is now an optional IPython functionality, using bookmarks requires you to install the `pickleshare` library.\n",
      "  bkms = self.shell.db.get('bookmarks', {})\n",
      "/dss/dsshome1/0C/ra93lal2/.local/share/virtualenvs/CMA_Fairness_v2-3j10GkSs/lib/python3.10/site-packages/IPython/core/magics/osm.py:417: UserWarning: This is now an optional IPython functionality, setting dhist requires you to install the `pickleshare` library.\n",
      "  self.shell.db['dhist'] = compress_dhist(dhist)[-100:]\n"
     ]
    }
   ],
   "source": [
    "%cd ~/cma/CMA_Fairness_v2"
   ]
  },
  {
   "cell_type": "markdown",
   "id": "de2603b9",
   "metadata": {
    "papermill": {
     "duration": 0.015379,
     "end_time": "2025-08-05T15:29:29.670161",
     "exception": false,
     "start_time": "2025-08-05T15:29:29.654782",
     "status": "completed"
    },
    "tags": []
   },
   "source": [
    "The following cell holds the definition of our parameters, these values can be overriden by rendering the with e.g. the following command:\n",
    "\n",
    "papermill -p alpha 0.2 -p ratio 0.3 universe_analysis.ipynb output/test_run.ipynb"
   ]
  },
  {
   "cell_type": "code",
   "execution_count": 2,
   "id": "a80968a0-40bb-4fa9-85ef-2d5eefb01975",
   "metadata": {
    "execution": {
     "iopub.execute_input": "2025-08-05T15:29:29.704530Z",
     "iopub.status.busy": "2025-08-05T15:29:29.703543Z",
     "iopub.status.idle": "2025-08-05T15:29:29.709383Z",
     "shell.execute_reply": "2025-08-05T15:29:29.708266Z"
    },
    "papermill": {
     "duration": 0.025069,
     "end_time": "2025-08-05T15:29:29.711229",
     "exception": false,
     "start_time": "2025-08-05T15:29:29.686160",
     "status": "completed"
    },
    "tags": []
   },
   "outputs": [
    {
     "name": "stdout",
     "output_type": "stream",
     "text": [
      "Current working directory: /dss/dsshome1/0C/ra93lal2/cma/CMA_Fairness_v2\n"
     ]
    }
   ],
   "source": [
    "import os\n",
    "print(\"Current working directory:\", os.getcwd())"
   ]
  },
  {
   "cell_type": "code",
   "execution_count": 3,
   "id": "2dce4c03",
   "metadata": {
    "execution": {
     "iopub.execute_input": "2025-08-05T15:29:29.744674Z",
     "iopub.status.busy": "2025-08-05T15:29:29.743972Z",
     "iopub.status.idle": "2025-08-05T15:29:29.750152Z",
     "shell.execute_reply": "2025-08-05T15:29:29.749145Z"
    },
    "papermill": {
     "duration": 0.024397,
     "end_time": "2025-08-05T15:29:29.751942",
     "exception": false,
     "start_time": "2025-08-05T15:29:29.727545",
     "status": "completed"
    },
    "tags": [
     "parameters"
    ]
   },
   "outputs": [],
   "source": [
    "run_no = 0\n",
    "universe_id = \"test\"\n",
    "universe = {\n",
    "    \"training_size\": \"25k\", # \"25k\", \"5k\", \"1k\"\n",
    "    \"training_year\": \"2014\", # \"2014\", \"2012_14\", \"2010_14\"\n",
    "    \"scale\": \"scale\", # \"scale\", \"do-not-scale\",\n",
    "    \"model\": \"elasticnet\", # \"logreg\", \"penalized_logreg\", \"rf\", \"gbm\", \"elasticnet\"\n",
    "    \"cutoff\": [\"quantile_0.15\", \"quantile_0.30\"],\n",
    "    \"exclude_features\": \"age\", # \"none\", \"nationality\", \"sex\", \"nationality-sex\", \"age\"\n",
    "    \"exclude_subgroups\": \"keep-all\", # \"keep-all\", \"drop-non-german\"\n",
    "    \"eval_fairness_grouping\": [\"majority-minority\", \"nationality-all\"]\n",
    "}\n",
    "\n",
    "output_dir=\"./output\"\n",
    "seed=0"
   ]
  },
  {
   "cell_type": "code",
   "execution_count": 4,
   "id": "b1cb89e7",
   "metadata": {
    "execution": {
     "iopub.execute_input": "2025-08-05T15:29:29.787517Z",
     "iopub.status.busy": "2025-08-05T15:29:29.786830Z",
     "iopub.status.idle": "2025-08-05T15:29:29.792226Z",
     "shell.execute_reply": "2025-08-05T15:29:29.791289Z"
    },
    "papermill": {
     "duration": 0.024693,
     "end_time": "2025-08-05T15:29:29.794139",
     "exception": false,
     "start_time": "2025-08-05T15:29:29.769446",
     "status": "completed"
    },
    "tags": [
     "injected-parameters"
    ]
   },
   "outputs": [],
   "source": [
    "# Parameters\n",
    "universe_id = \"618fd0b409db2edf558dea2a7809e3c4\"\n",
    "run_no = \"15\"\n",
    "universe = \"{\\\"cutoff\\\": [\\\"quantile_0.1\\\", \\\"quantile_0.25\\\"], \\\"eval_fairness_grouping\\\": [\\\"majority-minority\\\", \\\"nationality-all\\\"], \\\"exclude_features\\\": \\\"age\\\", \\\"exclude_subgroups\\\": \\\"drop-non-german\\\", \\\"model\\\": \\\"penalized_logreg\\\", \\\"scale\\\": \\\"do-not-scale\\\", \\\"training_size\\\": \\\"5k\\\", \\\"training_year\\\": \\\"2014\\\"}\"\n",
    "output_dir = \"output\"\n",
    "seed = \"2023\"\n"
   ]
  },
  {
   "cell_type": "code",
   "execution_count": 5,
   "id": "1650acaf",
   "metadata": {
    "execution": {
     "iopub.execute_input": "2025-08-05T15:29:29.829122Z",
     "iopub.status.busy": "2025-08-05T15:29:29.828255Z",
     "iopub.status.idle": "2025-08-05T15:29:29.832953Z",
     "shell.execute_reply": "2025-08-05T15:29:29.832178Z"
    },
    "papermill": {
     "duration": 0.023519,
     "end_time": "2025-08-05T15:29:29.834330",
     "exception": false,
     "start_time": "2025-08-05T15:29:29.810811",
     "status": "completed"
    },
    "tags": []
   },
   "outputs": [],
   "source": [
    "import json\n",
    "if isinstance(universe, str):\n",
    "    universe = json.loads(universe)"
   ]
  },
  {
   "cell_type": "code",
   "execution_count": 6,
   "id": "16620c48",
   "metadata": {
    "execution": {
     "iopub.execute_input": "2025-08-05T15:29:29.853603Z",
     "iopub.status.busy": "2025-08-05T15:29:29.853004Z",
     "iopub.status.idle": "2025-08-05T15:29:29.881667Z",
     "shell.execute_reply": "2025-08-05T15:29:29.881031Z"
    },
    "papermill": {
     "duration": 0.038908,
     "end_time": "2025-08-05T15:29:29.882853",
     "exception": false,
     "start_time": "2025-08-05T15:29:29.843945",
     "status": "completed"
    },
    "tags": []
   },
   "outputs": [],
   "source": [
    "# Auto-reload the custom package\n",
    "%load_ext autoreload\n",
    "%autoreload 1\n",
    "%aimport fairness_multiverse"
   ]
  },
  {
   "cell_type": "code",
   "execution_count": 7,
   "id": "01c5c9f3",
   "metadata": {
    "execution": {
     "iopub.execute_input": "2025-08-05T15:29:29.901470Z",
     "iopub.status.busy": "2025-08-05T15:29:29.900878Z",
     "iopub.status.idle": "2025-08-05T15:29:31.511525Z",
     "shell.execute_reply": "2025-08-05T15:29:31.510502Z"
    },
    "papermill": {
     "duration": 1.621799,
     "end_time": "2025-08-05T15:29:31.513358",
     "exception": false,
     "start_time": "2025-08-05T15:29:29.891559",
     "status": "completed"
    },
    "tags": []
   },
   "outputs": [],
   "source": [
    "from fairness_multiverse.universe import UniverseAnalysis\n",
    "\n",
    "universe_analysis = UniverseAnalysis(\n",
    "    run_no = run_no,\n",
    "    universe_id = universe_id,\n",
    "    universe = universe,\n",
    "    output_dir=output_dir,\n",
    ")"
   ]
  },
  {
   "cell_type": "code",
   "execution_count": 8,
   "id": "106241f5",
   "metadata": {
    "execution": {
     "iopub.execute_input": "2025-08-05T15:29:31.548936Z",
     "iopub.status.busy": "2025-08-05T15:29:31.548495Z",
     "iopub.status.idle": "2025-08-05T15:29:31.555198Z",
     "shell.execute_reply": "2025-08-05T15:29:31.554054Z"
    },
    "papermill": {
     "duration": 0.026528,
     "end_time": "2025-08-05T15:29:31.557121",
     "exception": false,
     "start_time": "2025-08-05T15:29:31.530593",
     "status": "completed"
    },
    "tags": []
   },
   "outputs": [
    {
     "name": "stdout",
     "output_type": "stream",
     "text": [
      "Using Seed: 2023\n"
     ]
    }
   ],
   "source": [
    "import numpy as np\n",
    "parsed_seed = int(seed)\n",
    "np.random.seed(parsed_seed)\n",
    "print(f\"Using Seed: {parsed_seed}\")"
   ]
  },
  {
   "cell_type": "markdown",
   "id": "e0ebdc57",
   "metadata": {
    "papermill": {
     "duration": 0.01604,
     "end_time": "2025-08-05T15:29:31.591032",
     "exception": false,
     "start_time": "2025-08-05T15:29:31.574992",
     "status": "completed"
    },
    "tags": []
   },
   "source": [
    "# Loading Data"
   ]
  },
  {
   "cell_type": "code",
   "execution_count": 9,
   "id": "f0496b8a",
   "metadata": {
    "execution": {
     "iopub.execute_input": "2025-08-05T15:29:31.617921Z",
     "iopub.status.busy": "2025-08-05T15:29:31.617281Z",
     "iopub.status.idle": "2025-08-05T15:29:43.989252Z",
     "shell.execute_reply": "2025-08-05T15:29:43.988066Z"
    },
    "papermill": {
     "duration": 12.383201,
     "end_time": "2025-08-05T15:29:43.990793",
     "exception": false,
     "start_time": "2025-08-05T15:29:31.607592",
     "status": "completed"
    },
    "tags": []
   },
   "outputs": [
    {
     "name": "stdout",
     "output_type": "stream",
     "text": [
      "Loading SIAB data from cache: data/siab_cached.csv.gz\n"
     ]
    },
    {
     "name": "stdout",
     "output_type": "stream",
     "text": [
      "(643690, 164)\n"
     ]
    }
   ],
   "source": [
    "from pathlib import Path\n",
    "import pandas as pd\n",
    "\n",
    "# File paths\n",
    "raw_file = Path(\"data/raw/siab.csv\")\n",
    "cache_file = Path(\"data/siab_cached.csv.gz\")\n",
    "\n",
    "# Ensure cache directory exists\n",
    "cache_file.parent.mkdir(parents=True, exist_ok=True)\n",
    "\n",
    "# Load with simple caching\n",
    "if cache_file.exists():\n",
    "    print(f\"Loading SIAB data from cache: {cache_file}\")\n",
    "    siab = pd.read_csv(cache_file, compression='gzip')\n",
    "else:\n",
    "    print(f\"Cache not found. Reading raw SIAB data: {raw_file}\")\n",
    "    siab = pd.read_csv(raw_file)\n",
    "    siab.to_csv(cache_file, index=False, compression='gzip')\n",
    "    print(f\"Cached SIAB data to: {cache_file}\")\n",
    "\n",
    "print(siab.shape)"
   ]
  },
  {
   "cell_type": "code",
   "execution_count": 10,
   "id": "db0ca512-5f53-4dba-abdb-a2888bca41ba",
   "metadata": {
    "execution": {
     "iopub.execute_input": "2025-08-05T15:29:44.029373Z",
     "iopub.status.busy": "2025-08-05T15:29:44.028839Z",
     "iopub.status.idle": "2025-08-05T15:29:44.035184Z",
     "shell.execute_reply": "2025-08-05T15:29:44.033963Z"
    },
    "papermill": {
     "duration": 0.026569,
     "end_time": "2025-08-05T15:29:44.037134",
     "exception": false,
     "start_time": "2025-08-05T15:29:44.010565",
     "status": "completed"
    },
    "tags": []
   },
   "outputs": [],
   "source": [
    "#siab"
   ]
  },
  {
   "cell_type": "markdown",
   "id": "997051c5-15bd-4b69-9786-c3001a3ce484",
   "metadata": {
    "papermill": {
     "duration": 0.016809,
     "end_time": "2025-08-05T15:29:44.072821",
     "exception": false,
     "start_time": "2025-08-05T15:29:44.056012",
     "status": "completed"
    },
    "tags": []
   },
   "source": [
    "# Splitting Data and Setting Training Data Size"
   ]
  },
  {
   "cell_type": "code",
   "execution_count": 11,
   "id": "aea9c6ef-6f46-42c8-85eb-5a62025c1508",
   "metadata": {
    "execution": {
     "iopub.execute_input": "2025-08-05T15:29:44.108247Z",
     "iopub.status.busy": "2025-08-05T15:29:44.107448Z",
     "iopub.status.idle": "2025-08-05T15:29:44.381643Z",
     "shell.execute_reply": "2025-08-05T15:29:44.380657Z"
    },
    "papermill": {
     "duration": 0.294758,
     "end_time": "2025-08-05T15:29:44.383695",
     "exception": false,
     "start_time": "2025-08-05T15:29:44.088937",
     "status": "completed"
    },
    "tags": []
   },
   "outputs": [],
   "source": [
    "from fairness_multiverse.universe import sample_by_year_size\n",
    "\n",
    "siab_train = sample_by_year_size(siab,\n",
    "                               training_year=universe[\"training_year\"],\n",
    "                               training_size=universe[\"training_size\"])"
   ]
  },
  {
   "cell_type": "code",
   "execution_count": 12,
   "id": "8d3afb32-789d-442c-8d5d-9f5aa8dd2eed",
   "metadata": {
    "execution": {
     "iopub.execute_input": "2025-08-05T15:29:44.422469Z",
     "iopub.status.busy": "2025-08-05T15:29:44.422077Z",
     "iopub.status.idle": "2025-08-05T15:29:44.427335Z",
     "shell.execute_reply": "2025-08-05T15:29:44.426426Z"
    },
    "papermill": {
     "duration": 0.017827,
     "end_time": "2025-08-05T15:29:44.429419",
     "exception": false,
     "start_time": "2025-08-05T15:29:44.411592",
     "status": "completed"
    },
    "tags": []
   },
   "outputs": [],
   "source": [
    "#siab_train.shape"
   ]
  },
  {
   "cell_type": "code",
   "execution_count": 13,
   "id": "d582db68-1a4c-47fb-84fc-08518dc1975a",
   "metadata": {
    "execution": {
     "iopub.execute_input": "2025-08-05T15:29:44.468135Z",
     "iopub.status.busy": "2025-08-05T15:29:44.467061Z",
     "iopub.status.idle": "2025-08-05T15:29:44.472954Z",
     "shell.execute_reply": "2025-08-05T15:29:44.471903Z"
    },
    "papermill": {
     "duration": 0.026448,
     "end_time": "2025-08-05T15:29:44.474767",
     "exception": false,
     "start_time": "2025-08-05T15:29:44.448319",
     "status": "completed"
    },
    "tags": []
   },
   "outputs": [],
   "source": [
    "#display(siab_train.groupby(\"year\").size())"
   ]
  },
  {
   "cell_type": "code",
   "execution_count": 14,
   "id": "a561edb4-d032-42cb-8256-22eac1111c64",
   "metadata": {
    "execution": {
     "iopub.execute_input": "2025-08-05T15:29:44.512797Z",
     "iopub.status.busy": "2025-08-05T15:29:44.512082Z",
     "iopub.status.idle": "2025-08-05T15:29:44.887244Z",
     "shell.execute_reply": "2025-08-05T15:29:44.886203Z"
    },
    "papermill": {
     "duration": 0.396432,
     "end_time": "2025-08-05T15:29:44.889213",
     "exception": false,
     "start_time": "2025-08-05T15:29:44.492781",
     "status": "completed"
    },
    "tags": []
   },
   "outputs": [],
   "source": [
    "#siab_train = siab_s[siab_s.year < 2015]\n",
    "siab_calib = siab[siab.year == 2015]\n",
    "siab_test = siab[siab.year == 2016]"
   ]
  },
  {
   "cell_type": "code",
   "execution_count": 15,
   "id": "472de16f-c3db-4916-846b-1f0de9cf1746",
   "metadata": {
    "execution": {
     "iopub.execute_input": "2025-08-05T15:29:44.926861Z",
     "iopub.status.busy": "2025-08-05T15:29:44.925856Z",
     "iopub.status.idle": "2025-08-05T15:29:44.934681Z",
     "shell.execute_reply": "2025-08-05T15:29:44.933392Z"
    },
    "papermill": {
     "duration": 0.029718,
     "end_time": "2025-08-05T15:29:44.936977",
     "exception": false,
     "start_time": "2025-08-05T15:29:44.907259",
     "status": "completed"
    },
    "tags": []
   },
   "outputs": [],
   "source": [
    "X_train = siab_train.iloc[:,4:164]\n",
    "y_train = siab_train.iloc[:, [3]]"
   ]
  },
  {
   "cell_type": "code",
   "execution_count": 16,
   "id": "828c96af-f43a-4ed6-ba47-8ac73a47d56c",
   "metadata": {
    "execution": {
     "iopub.execute_input": "2025-08-05T15:29:44.977686Z",
     "iopub.status.busy": "2025-08-05T15:29:44.976404Z",
     "iopub.status.idle": "2025-08-05T15:29:45.031192Z",
     "shell.execute_reply": "2025-08-05T15:29:45.030014Z"
    },
    "papermill": {
     "duration": 0.075852,
     "end_time": "2025-08-05T15:29:45.033250",
     "exception": false,
     "start_time": "2025-08-05T15:29:44.957398",
     "status": "completed"
    },
    "tags": []
   },
   "outputs": [],
   "source": [
    "X_calib = siab_calib.iloc[:,4:164]\n",
    "y_calib = siab_calib.iloc[:, [3]]"
   ]
  },
  {
   "cell_type": "code",
   "execution_count": 17,
   "id": "c34be9c3-6bd6-476e-acd3-845840e303be",
   "metadata": {
    "execution": {
     "iopub.execute_input": "2025-08-05T15:29:45.075676Z",
     "iopub.status.busy": "2025-08-05T15:29:45.074953Z",
     "iopub.status.idle": "2025-08-05T15:29:45.128253Z",
     "shell.execute_reply": "2025-08-05T15:29:45.126965Z"
    },
    "papermill": {
     "duration": 0.073818,
     "end_time": "2025-08-05T15:29:45.130468",
     "exception": false,
     "start_time": "2025-08-05T15:29:45.056650",
     "status": "completed"
    },
    "tags": []
   },
   "outputs": [],
   "source": [
    "X_test = siab_test.iloc[:,4:164]\n",
    "y_true = siab_test.iloc[:, [3]]"
   ]
  },
  {
   "cell_type": "code",
   "execution_count": 18,
   "id": "e6c733c5",
   "metadata": {
    "execution": {
     "iopub.execute_input": "2025-08-05T15:29:45.171019Z",
     "iopub.status.busy": "2025-08-05T15:29:45.170495Z",
     "iopub.status.idle": "2025-08-05T15:29:45.269499Z",
     "shell.execute_reply": "2025-08-05T15:29:45.268447Z"
    },
    "papermill": {
     "duration": 0.120523,
     "end_time": "2025-08-05T15:29:45.271654",
     "exception": false,
     "start_time": "2025-08-05T15:29:45.151131",
     "status": "completed"
    },
    "tags": []
   },
   "outputs": [],
   "source": [
    "# Auxiliary data needed downstream in the pipeline\n",
    "\n",
    "org_train = X_train.copy()\n",
    "org_test = X_test.copy()\n",
    "org_calib = X_calib.copy()"
   ]
  },
  {
   "cell_type": "markdown",
   "id": "0a4a1b33",
   "metadata": {
    "papermill": {
     "duration": 0.018346,
     "end_time": "2025-08-05T15:29:45.309410",
     "exception": false,
     "start_time": "2025-08-05T15:29:45.291064",
     "status": "completed"
    },
    "tags": []
   },
   "source": [
    "# Preprocessing Data"
   ]
  },
  {
   "cell_type": "code",
   "execution_count": 19,
   "id": "ca879031",
   "metadata": {
    "execution": {
     "iopub.execute_input": "2025-08-05T15:29:45.350939Z",
     "iopub.status.busy": "2025-08-05T15:29:45.350471Z",
     "iopub.status.idle": "2025-08-05T15:29:45.356978Z",
     "shell.execute_reply": "2025-08-05T15:29:45.355956Z"
    },
    "papermill": {
     "duration": 0.030734,
     "end_time": "2025-08-05T15:29:45.358793",
     "exception": false,
     "start_time": "2025-08-05T15:29:45.328059",
     "status": "completed"
    },
    "tags": []
   },
   "outputs": [],
   "source": [
    "# EXCLUDE PROTECTED FEATURES\n",
    "# ----------------------\n",
    "# \"exclude_features\": \"none\", # \"nationality\", \"sex\", \"nationality-sex\"\n",
    "\n",
    "excluded_features = universe[\"exclude_features\"].split(\"-\") # split, e.g.: \"nationality-sex\" -> [\"nationality\", \"sex\"]\n",
    "excluded_features_dictionary = {\n",
    "    \"nationality\": [\"maxdeutsch1\", \"maxdeutsch.Missing.\"],\n",
    "    \"sex\": [\"frau1\"],\n",
    "    \"age\": [\"age\"],\n",
    "}"
   ]
  },
  {
   "cell_type": "code",
   "execution_count": 20,
   "id": "b745ac60",
   "metadata": {
    "execution": {
     "iopub.execute_input": "2025-08-05T15:29:45.397283Z",
     "iopub.status.busy": "2025-08-05T15:29:45.396582Z",
     "iopub.status.idle": "2025-08-05T15:29:45.402376Z",
     "shell.execute_reply": "2025-08-05T15:29:45.401410Z"
    },
    "papermill": {
     "duration": 0.026873,
     "end_time": "2025-08-05T15:29:45.404446",
     "exception": false,
     "start_time": "2025-08-05T15:29:45.377573",
     "status": "completed"
    },
    "tags": []
   },
   "outputs": [],
   "source": [
    "# Code nice names to column names\n",
    "\n",
    "excluded_features_columns = [\n",
    "    excluded_features_dictionary[f] for f in excluded_features if len(f) > 0 and f != \"none\"\n",
    "]"
   ]
  },
  {
   "cell_type": "code",
   "execution_count": 21,
   "id": "f84f73a2",
   "metadata": {
    "execution": {
     "iopub.execute_input": "2025-08-05T15:29:45.455228Z",
     "iopub.status.busy": "2025-08-05T15:29:45.454721Z",
     "iopub.status.idle": "2025-08-05T15:29:45.461843Z",
     "shell.execute_reply": "2025-08-05T15:29:45.460625Z"
    },
    "papermill": {
     "duration": 0.040103,
     "end_time": "2025-08-05T15:29:45.463712",
     "exception": false,
     "start_time": "2025-08-05T15:29:45.423609",
     "status": "completed"
    },
    "tags": []
   },
   "outputs": [],
   "source": [
    "from utils import flatten_once\n",
    "\n",
    "excluded_features_columns = flatten_once(excluded_features_columns)"
   ]
  },
  {
   "cell_type": "code",
   "execution_count": 22,
   "id": "884dea22",
   "metadata": {
    "execution": {
     "iopub.execute_input": "2025-08-05T15:29:45.503697Z",
     "iopub.status.busy": "2025-08-05T15:29:45.502954Z",
     "iopub.status.idle": "2025-08-05T15:29:45.514531Z",
     "shell.execute_reply": "2025-08-05T15:29:45.513479Z"
    },
    "papermill": {
     "duration": 0.033682,
     "end_time": "2025-08-05T15:29:45.517199",
     "exception": false,
     "start_time": "2025-08-05T15:29:45.483517",
     "status": "completed"
    },
    "tags": []
   },
   "outputs": [
    {
     "name": "stdout",
     "output_type": "stream",
     "text": [
      "Dropping features: ['age']\n"
     ]
    }
   ],
   "source": [
    "if len(excluded_features_columns) > 0:\n",
    "    print(f\"Dropping features: {excluded_features_columns}\")\n",
    "    X_train.drop(excluded_features_columns, axis=1, inplace=True)"
   ]
  },
  {
   "cell_type": "code",
   "execution_count": 23,
   "id": "95ab8b16",
   "metadata": {
    "execution": {
     "iopub.execute_input": "2025-08-05T15:29:45.559209Z",
     "iopub.status.busy": "2025-08-05T15:29:45.558450Z",
     "iopub.status.idle": "2025-08-05T15:29:45.614820Z",
     "shell.execute_reply": "2025-08-05T15:29:45.613647Z"
    },
    "papermill": {
     "duration": 0.077181,
     "end_time": "2025-08-05T15:29:45.616601",
     "exception": false,
     "start_time": "2025-08-05T15:29:45.539420",
     "status": "completed"
    },
    "tags": []
   },
   "outputs": [
    {
     "name": "stdout",
     "output_type": "stream",
     "text": [
      "Dropping features: ['age']\n"
     ]
    }
   ],
   "source": [
    "if len(excluded_features_columns) > 0:\n",
    "    print(f\"Dropping features: {excluded_features_columns}\")\n",
    "    X_test.drop(excluded_features_columns, axis=1, inplace=True)"
   ]
  },
  {
   "cell_type": "code",
   "execution_count": 24,
   "id": "1853aaf5-fb9f-46cb-a2b5-8ea4ae2237e4",
   "metadata": {
    "execution": {
     "iopub.execute_input": "2025-08-05T15:29:45.658589Z",
     "iopub.status.busy": "2025-08-05T15:29:45.657902Z",
     "iopub.status.idle": "2025-08-05T15:29:45.733093Z",
     "shell.execute_reply": "2025-08-05T15:29:45.732049Z"
    },
    "papermill": {
     "duration": 0.09892,
     "end_time": "2025-08-05T15:29:45.735264",
     "exception": false,
     "start_time": "2025-08-05T15:29:45.636344",
     "status": "completed"
    },
    "tags": []
   },
   "outputs": [
    {
     "name": "stdout",
     "output_type": "stream",
     "text": [
      "Dropping features: ['age']\n"
     ]
    }
   ],
   "source": [
    "if len(excluded_features_columns) > 0:\n",
    "    print(f\"Dropping features: {excluded_features_columns}\")\n",
    "    X_calib.drop(excluded_features_columns, axis=1, inplace=True)"
   ]
  },
  {
   "cell_type": "code",
   "execution_count": 25,
   "id": "76c4dc6d",
   "metadata": {
    "execution": {
     "iopub.execute_input": "2025-08-05T15:29:45.781245Z",
     "iopub.status.busy": "2025-08-05T15:29:45.780102Z",
     "iopub.status.idle": "2025-08-05T15:29:45.786329Z",
     "shell.execute_reply": "2025-08-05T15:29:45.785290Z"
    },
    "papermill": {
     "duration": 0.032932,
     "end_time": "2025-08-05T15:29:45.788225",
     "exception": false,
     "start_time": "2025-08-05T15:29:45.755293",
     "status": "completed"
    },
    "tags": []
   },
   "outputs": [],
   "source": [
    "# EXCLUDE CERTAIN SUBGROUPS\n",
    "# ----------------------\n",
    "\n",
    "mode = universe.get(\"exclude_subgroups\", \"keep-all\") \n",
    "# Fetches the exclude_subgroups setting from the universe dict.\n",
    "# Defaults to \"keep-all\" if the key is missing."
   ]
  },
  {
   "cell_type": "code",
   "execution_count": 26,
   "id": "21994072",
   "metadata": {
    "execution": {
     "iopub.execute_input": "2025-08-05T15:29:45.838991Z",
     "iopub.status.busy": "2025-08-05T15:29:45.838252Z",
     "iopub.status.idle": "2025-08-05T15:29:45.845669Z",
     "shell.execute_reply": "2025-08-05T15:29:45.844380Z"
    },
    "papermill": {
     "duration": 0.035083,
     "end_time": "2025-08-05T15:29:45.847899",
     "exception": false,
     "start_time": "2025-08-05T15:29:45.812816",
     "status": "completed"
    },
    "tags": []
   },
   "outputs": [],
   "source": [
    "if mode == \"keep-all\":\n",
    "    keep_mask = pd.Series(True, index=org_train.index)\n",
    "\n",
    "# org_train contains the original feature columns from features_org (in Simson)\n",
    "# features_org contains unprocessed features, for me X_train at beginning ???\n",
    "# For keep-all, creates a boolean Series (keep_mask) of all True, so no rows are removed.\n",
    "\n",
    "elif mode == \"drop-non-german\":\n",
    "    keep_mask = org_train[\"maxdeutsch1\"] == 1 # ??? what about missing values?\n",
    "\n",
    "else:\n",
    "    raise ValueError(f\"Unsupported mode for exclude_subgroups: {mode}\")"
   ]
  },
  {
   "cell_type": "code",
   "execution_count": 27,
   "id": "71651440",
   "metadata": {
    "execution": {
     "iopub.execute_input": "2025-08-05T15:29:45.895626Z",
     "iopub.status.busy": "2025-08-05T15:29:45.894756Z",
     "iopub.status.idle": "2025-08-05T15:29:45.903999Z",
     "shell.execute_reply": "2025-08-05T15:29:45.902710Z"
    },
    "papermill": {
     "duration": 0.033041,
     "end_time": "2025-08-05T15:29:45.905910",
     "exception": false,
     "start_time": "2025-08-05T15:29:45.872869",
     "status": "completed"
    },
    "tags": []
   },
   "outputs": [
    {
     "name": "stdout",
     "output_type": "stream",
     "text": [
      "Dropping 741 rows (14.82%) where mode='drop-non-german'\n"
     ]
    }
   ],
   "source": [
    "n_drop = (~keep_mask).sum() # Calculates how many rows are set to be dropped\n",
    "if n_drop > 0:\n",
    "    pct = n_drop / len(keep_mask) * 100\n",
    "    print(f\"Dropping {n_drop} rows ({pct:.2f}%) where mode='{mode}'\")"
   ]
  },
  {
   "cell_type": "code",
   "execution_count": 28,
   "id": "5fb8eee5",
   "metadata": {
    "execution": {
     "iopub.execute_input": "2025-08-05T15:29:45.951850Z",
     "iopub.status.busy": "2025-08-05T15:29:45.951327Z",
     "iopub.status.idle": "2025-08-05T15:29:45.959532Z",
     "shell.execute_reply": "2025-08-05T15:29:45.958365Z"
    },
    "papermill": {
     "duration": 0.036514,
     "end_time": "2025-08-05T15:29:45.961795",
     "exception": false,
     "start_time": "2025-08-05T15:29:45.925281",
     "status": "completed"
    },
    "tags": []
   },
   "outputs": [],
   "source": [
    "X_train = X_train[keep_mask]"
   ]
  },
  {
   "cell_type": "code",
   "execution_count": 29,
   "id": "b202bb3a",
   "metadata": {
    "execution": {
     "iopub.execute_input": "2025-08-05T15:29:46.013376Z",
     "iopub.status.busy": "2025-08-05T15:29:46.012675Z",
     "iopub.status.idle": "2025-08-05T15:29:46.023920Z",
     "shell.execute_reply": "2025-08-05T15:29:46.019690Z"
    },
    "papermill": {
     "duration": 0.038305,
     "end_time": "2025-08-05T15:29:46.026276",
     "exception": false,
     "start_time": "2025-08-05T15:29:45.987971",
     "status": "completed"
    },
    "tags": []
   },
   "outputs": [],
   "source": [
    "y_train = y_train[keep_mask]"
   ]
  },
  {
   "cell_type": "markdown",
   "id": "493e2ac3",
   "metadata": {
    "papermill": {
     "duration": 0.02338,
     "end_time": "2025-08-05T15:29:46.075131",
     "exception": false,
     "start_time": "2025-08-05T15:29:46.051751",
     "status": "completed"
    },
    "tags": []
   },
   "source": [
    "# Model Training"
   ]
  },
  {
   "cell_type": "code",
   "execution_count": 30,
   "id": "679e1268",
   "metadata": {
    "execution": {
     "iopub.execute_input": "2025-08-05T15:29:46.124533Z",
     "iopub.status.busy": "2025-08-05T15:29:46.123819Z",
     "iopub.status.idle": "2025-08-05T15:29:46.244198Z",
     "shell.execute_reply": "2025-08-05T15:29:46.243162Z"
    },
    "papermill": {
     "duration": 0.146797,
     "end_time": "2025-08-05T15:29:46.246234",
     "exception": false,
     "start_time": "2025-08-05T15:29:46.099437",
     "status": "completed"
    },
    "tags": []
   },
   "outputs": [],
   "source": [
    "from sklearn.linear_model import LogisticRegression\n",
    "from sklearn.ensemble import GradientBoostingClassifier, RandomForestClassifier\n",
    "\n",
    "if (universe[\"model\"] == \"logreg\"):\n",
    "    model = LogisticRegression() #penalty=\"none\", solver=\"newton-cg\", max_iter=1) # include random_state=19 ?\n",
    "elif (universe[\"model\"] == \"penalized_logreg\"):\n",
    "    model = LogisticRegression(penalty=\"l2\", C=0.1) #, solver=\"newton-cg\", max_iter=1)\n",
    "elif (universe[\"model\"] == \"rf\"):\n",
    "    model = RandomForestClassifier() # n_estimators=100, n_jobs=-1\n",
    "elif (universe[\"model\"] == \"gbm\"):\n",
    "    model = GradientBoostingClassifier()\n",
    "elif (universe[\"model\"] == \"elasticnet\"):\n",
    "    model = LogisticRegression(penalty = 'elasticnet', solver = 'saga', l1_ratio = 0.5) # max_iter=5000\n",
    "else:\n",
    "    raise \"Unsupported universe.model\""
   ]
  },
  {
   "cell_type": "code",
   "execution_count": 31,
   "id": "0cc8f744",
   "metadata": {
    "execution": {
     "iopub.execute_input": "2025-08-05T15:29:46.291540Z",
     "iopub.status.busy": "2025-08-05T15:29:46.290622Z",
     "iopub.status.idle": "2025-08-05T15:29:46.297103Z",
     "shell.execute_reply": "2025-08-05T15:29:46.295892Z"
    },
    "papermill": {
     "duration": 0.033864,
     "end_time": "2025-08-05T15:29:46.299564",
     "exception": false,
     "start_time": "2025-08-05T15:29:46.265700",
     "status": "completed"
    },
    "tags": []
   },
   "outputs": [],
   "source": [
    "import numpy as np\n",
    "from sklearn.pipeline import Pipeline\n",
    "from sklearn.preprocessing import StandardScaler\n",
    "\n",
    "model = Pipeline([\n",
    "    #(\"continuous_processor\", continuous_processor),\n",
    "    #(\"categorical_preprocessor\", categorical_preprocessor),\n",
    "    (\"scale\", StandardScaler() if universe[\"scale\"] == \"scale\" else None), \n",
    "    (\"model\", model),\n",
    "])"
   ]
  },
  {
   "cell_type": "code",
   "execution_count": 32,
   "id": "9442c04d",
   "metadata": {
    "execution": {
     "iopub.execute_input": "2025-08-05T15:29:46.350997Z",
     "iopub.status.busy": "2025-08-05T15:29:46.350479Z",
     "iopub.status.idle": "2025-08-05T15:29:46.485329Z",
     "shell.execute_reply": "2025-08-05T15:29:46.484436Z"
    },
    "papermill": {
     "duration": 0.161737,
     "end_time": "2025-08-05T15:29:46.487325",
     "exception": false,
     "start_time": "2025-08-05T15:29:46.325588",
     "status": "completed"
    },
    "tags": []
   },
   "outputs": [
    {
     "name": "stderr",
     "output_type": "stream",
     "text": [
      "/dss/dsshome1/0C/ra93lal2/.local/share/virtualenvs/CMA_Fairness_v2-3j10GkSs/lib/python3.10/site-packages/sklearn/linear_model/_logistic.py:444: ConvergenceWarning: lbfgs failed to converge (status=1):\n",
      "STOP: TOTAL NO. of ITERATIONS REACHED LIMIT.\n",
      "\n",
      "Increase the number of iterations (max_iter) or scale the data as shown in:\n",
      "    https://scikit-learn.org/stable/modules/preprocessing.html\n",
      "Please also refer to the documentation for alternative solver options:\n",
      "    https://scikit-learn.org/stable/modules/linear_model.html#logistic-regression\n",
      "  n_iter_i = _check_optimize_result(\n"
     ]
    },
    {
     "data": {
      "text/html": [
       "<style>#sk-container-id-1 {color: black;background-color: white;}#sk-container-id-1 pre{padding: 0;}#sk-container-id-1 div.sk-toggleable {background-color: white;}#sk-container-id-1 label.sk-toggleable__label {cursor: pointer;display: block;width: 100%;margin-bottom: 0;padding: 0.3em;box-sizing: border-box;text-align: center;}#sk-container-id-1 label.sk-toggleable__label-arrow:before {content: \"▸\";float: left;margin-right: 0.25em;color: #696969;}#sk-container-id-1 label.sk-toggleable__label-arrow:hover:before {color: black;}#sk-container-id-1 div.sk-estimator:hover label.sk-toggleable__label-arrow:before {color: black;}#sk-container-id-1 div.sk-toggleable__content {max-height: 0;max-width: 0;overflow: hidden;text-align: left;background-color: #f0f8ff;}#sk-container-id-1 div.sk-toggleable__content pre {margin: 0.2em;color: black;border-radius: 0.25em;background-color: #f0f8ff;}#sk-container-id-1 input.sk-toggleable__control:checked~div.sk-toggleable__content {max-height: 200px;max-width: 100%;overflow: auto;}#sk-container-id-1 input.sk-toggleable__control:checked~label.sk-toggleable__label-arrow:before {content: \"▾\";}#sk-container-id-1 div.sk-estimator input.sk-toggleable__control:checked~label.sk-toggleable__label {background-color: #d4ebff;}#sk-container-id-1 div.sk-label input.sk-toggleable__control:checked~label.sk-toggleable__label {background-color: #d4ebff;}#sk-container-id-1 input.sk-hidden--visually {border: 0;clip: rect(1px 1px 1px 1px);clip: rect(1px, 1px, 1px, 1px);height: 1px;margin: -1px;overflow: hidden;padding: 0;position: absolute;width: 1px;}#sk-container-id-1 div.sk-estimator {font-family: monospace;background-color: #f0f8ff;border: 1px dotted black;border-radius: 0.25em;box-sizing: border-box;margin-bottom: 0.5em;}#sk-container-id-1 div.sk-estimator:hover {background-color: #d4ebff;}#sk-container-id-1 div.sk-parallel-item::after {content: \"\";width: 100%;border-bottom: 1px solid gray;flex-grow: 1;}#sk-container-id-1 div.sk-label:hover label.sk-toggleable__label {background-color: #d4ebff;}#sk-container-id-1 div.sk-serial::before {content: \"\";position: absolute;border-left: 1px solid gray;box-sizing: border-box;top: 0;bottom: 0;left: 50%;z-index: 0;}#sk-container-id-1 div.sk-serial {display: flex;flex-direction: column;align-items: center;background-color: white;padding-right: 0.2em;padding-left: 0.2em;position: relative;}#sk-container-id-1 div.sk-item {position: relative;z-index: 1;}#sk-container-id-1 div.sk-parallel {display: flex;align-items: stretch;justify-content: center;background-color: white;position: relative;}#sk-container-id-1 div.sk-item::before, #sk-container-id-1 div.sk-parallel-item::before {content: \"\";position: absolute;border-left: 1px solid gray;box-sizing: border-box;top: 0;bottom: 0;left: 50%;z-index: -1;}#sk-container-id-1 div.sk-parallel-item {display: flex;flex-direction: column;z-index: 1;position: relative;background-color: white;}#sk-container-id-1 div.sk-parallel-item:first-child::after {align-self: flex-end;width: 50%;}#sk-container-id-1 div.sk-parallel-item:last-child::after {align-self: flex-start;width: 50%;}#sk-container-id-1 div.sk-parallel-item:only-child::after {width: 0;}#sk-container-id-1 div.sk-dashed-wrapped {border: 1px dashed gray;margin: 0 0.4em 0.5em 0.4em;box-sizing: border-box;padding-bottom: 0.4em;background-color: white;}#sk-container-id-1 div.sk-label label {font-family: monospace;font-weight: bold;display: inline-block;line-height: 1.2em;}#sk-container-id-1 div.sk-label-container {text-align: center;}#sk-container-id-1 div.sk-container {/* jupyter's `normalize.less` sets `[hidden] { display: none; }` but bootstrap.min.css set `[hidden] { display: none !important; }` so we also need the `!important` here to be able to override the default hidden behavior on the sphinx rendered scikit-learn.org. See: https://github.com/scikit-learn/scikit-learn/issues/21755 */display: inline-block !important;position: relative;}#sk-container-id-1 div.sk-text-repr-fallback {display: none;}</style><div id=\"sk-container-id-1\" class=\"sk-top-container\"><div class=\"sk-text-repr-fallback\"><pre>Pipeline(steps=[(&#x27;scale&#x27;, None), (&#x27;model&#x27;, LogisticRegression(C=0.1))])</pre><b>In a Jupyter environment, please rerun this cell to show the HTML representation or trust the notebook. <br />On GitHub, the HTML representation is unable to render, please try loading this page with nbviewer.org.</b></div><div class=\"sk-container\" hidden><div class=\"sk-item sk-dashed-wrapped\"><div class=\"sk-label-container\"><div class=\"sk-label sk-toggleable\"><input class=\"sk-toggleable__control sk-hidden--visually\" id=\"sk-estimator-id-1\" type=\"checkbox\" ><label for=\"sk-estimator-id-1\" class=\"sk-toggleable__label sk-toggleable__label-arrow\">Pipeline</label><div class=\"sk-toggleable__content\"><pre>Pipeline(steps=[(&#x27;scale&#x27;, None), (&#x27;model&#x27;, LogisticRegression(C=0.1))])</pre></div></div></div><div class=\"sk-serial\"><div class=\"sk-item\"><div class=\"sk-estimator sk-toggleable\"><input class=\"sk-toggleable__control sk-hidden--visually\" id=\"sk-estimator-id-2\" type=\"checkbox\" ><label for=\"sk-estimator-id-2\" class=\"sk-toggleable__label sk-toggleable__label-arrow\">None</label><div class=\"sk-toggleable__content\"><pre>None</pre></div></div></div><div class=\"sk-item\"><div class=\"sk-estimator sk-toggleable\"><input class=\"sk-toggleable__control sk-hidden--visually\" id=\"sk-estimator-id-3\" type=\"checkbox\" ><label for=\"sk-estimator-id-3\" class=\"sk-toggleable__label sk-toggleable__label-arrow\">LogisticRegression</label><div class=\"sk-toggleable__content\"><pre>LogisticRegression(C=0.1)</pre></div></div></div></div></div></div></div>"
      ],
      "text/plain": [
       "Pipeline(steps=[('scale', None), ('model', LogisticRegression(C=0.1))])"
      ]
     },
     "execution_count": 32,
     "metadata": {},
     "output_type": "execute_result"
    }
   ],
   "source": [
    "model.fit(X_train, y_train.values.ravel())"
   ]
  },
  {
   "cell_type": "code",
   "execution_count": 33,
   "id": "af59f8c0",
   "metadata": {
    "execution": {
     "iopub.execute_input": "2025-08-05T15:29:46.544806Z",
     "iopub.status.busy": "2025-08-05T15:29:46.544210Z",
     "iopub.status.idle": "2025-08-05T15:29:46.551096Z",
     "shell.execute_reply": "2025-08-05T15:29:46.550110Z"
    },
    "papermill": {
     "duration": 0.038097,
     "end_time": "2025-08-05T15:29:46.553468",
     "exception": false,
     "start_time": "2025-08-05T15:29:46.515371",
     "status": "completed"
    },
    "tags": []
   },
   "outputs": [],
   "source": [
    "from fairness_multiverse.universe import predict_w_threshold"
   ]
  },
  {
   "cell_type": "code",
   "execution_count": 34,
   "id": "a7cf2e16",
   "metadata": {
    "execution": {
     "iopub.execute_input": "2025-08-05T15:29:46.612197Z",
     "iopub.status.busy": "2025-08-05T15:29:46.611803Z",
     "iopub.status.idle": "2025-08-05T15:29:46.707120Z",
     "shell.execute_reply": "2025-08-05T15:29:46.705924Z"
    },
    "papermill": {
     "duration": 0.127629,
     "end_time": "2025-08-05T15:29:46.710024",
     "exception": false,
     "start_time": "2025-08-05T15:29:46.582395",
     "status": "completed"
    },
    "tags": []
   },
   "outputs": [
    {
     "data": {
      "text/plain": [
       "0.8564597034890202"
      ]
     },
     "execution_count": 34,
     "metadata": {},
     "output_type": "execute_result"
    }
   ],
   "source": [
    "probs_test = model.predict_proba(X_test)\n",
    "\n",
    "'''\n",
    "Below code returns a boolean array (or binary 0/1 array depending on how it’s used) where each element \n",
    "is True if the probability of class 1 is greater than or equal to the threshold, and False otherwise.\n",
    "'''\n",
    "y_pred_default = predict_w_threshold(probs_test, 0.5)\n",
    "\n",
    "from sklearn.metrics import accuracy_score\n",
    "\n",
    "# Naive prediction\n",
    "accuracy_score(y_true = y_true, y_pred = y_pred_default)"
   ]
  },
  {
   "cell_type": "code",
   "execution_count": 35,
   "id": "081964c3",
   "metadata": {
    "execution": {
     "iopub.execute_input": "2025-08-05T15:29:46.767467Z",
     "iopub.status.busy": "2025-08-05T15:29:46.766680Z",
     "iopub.status.idle": "2025-08-05T15:29:46.853644Z",
     "shell.execute_reply": "2025-08-05T15:29:46.852555Z"
    },
    "papermill": {
     "duration": 0.118495,
     "end_time": "2025-08-05T15:29:46.856064",
     "exception": false,
     "start_time": "2025-08-05T15:29:46.737569",
     "status": "completed"
    },
    "tags": []
   },
   "outputs": [
    {
     "data": {
      "text/plain": [
       "array([0, 0, 0, ..., 0, 0, 0])"
      ]
     },
     "execution_count": 35,
     "metadata": {},
     "output_type": "execute_result"
    }
   ],
   "source": [
    "model.predict(X_test)"
   ]
  },
  {
   "cell_type": "markdown",
   "id": "56c9705b",
   "metadata": {
    "papermill": {
     "duration": 0.02763,
     "end_time": "2025-08-05T15:29:46.912275",
     "exception": false,
     "start_time": "2025-08-05T15:29:46.884645",
     "status": "completed"
    },
    "tags": []
   },
   "source": [
    "# Conformal Prediction"
   ]
  },
  {
   "cell_type": "code",
   "execution_count": 36,
   "id": "160ec6ff",
   "metadata": {
    "execution": {
     "iopub.execute_input": "2025-08-05T15:29:46.970482Z",
     "iopub.status.busy": "2025-08-05T15:29:46.969934Z",
     "iopub.status.idle": "2025-08-05T15:29:46.978119Z",
     "shell.execute_reply": "2025-08-05T15:29:46.976766Z"
    },
    "papermill": {
     "duration": 0.039846,
     "end_time": "2025-08-05T15:29:46.980460",
     "exception": false,
     "start_time": "2025-08-05T15:29:46.940614",
     "status": "completed"
    },
    "tags": []
   },
   "outputs": [],
   "source": [
    "# Miscoverage level for conformal prediction (10% allowed error rate => 90% target coverage)\n",
    "alpha = 0.1"
   ]
  },
  {
   "cell_type": "code",
   "execution_count": 37,
   "id": "eadf4555-3dd3-440e-8e35-f82a4ad9f855",
   "metadata": {
    "execution": {
     "iopub.execute_input": "2025-08-05T15:29:47.039771Z",
     "iopub.status.busy": "2025-08-05T15:29:47.039258Z",
     "iopub.status.idle": "2025-08-05T15:29:47.123172Z",
     "shell.execute_reply": "2025-08-05T15:29:47.122045Z"
    },
    "papermill": {
     "duration": 0.115558,
     "end_time": "2025-08-05T15:29:47.125725",
     "exception": false,
     "start_time": "2025-08-05T15:29:47.010167",
     "status": "completed"
    },
    "tags": []
   },
   "outputs": [],
   "source": [
    "probs_calib = model.predict_proba(X_calib)"
   ]
  },
  {
   "cell_type": "code",
   "execution_count": 38,
   "id": "2ed93547-6d5d-4983-9b36-1ecb300da49a",
   "metadata": {
    "execution": {
     "iopub.execute_input": "2025-08-05T15:29:47.184909Z",
     "iopub.status.busy": "2025-08-05T15:29:47.184115Z",
     "iopub.status.idle": "2025-08-05T15:29:47.191660Z",
     "shell.execute_reply": "2025-08-05T15:29:47.190244Z"
    },
    "papermill": {
     "duration": 0.039683,
     "end_time": "2025-08-05T15:29:47.193816",
     "exception": false,
     "start_time": "2025-08-05T15:29:47.154133",
     "status": "completed"
    },
    "tags": []
   },
   "outputs": [],
   "source": [
    "y_calib = y_calib.values.ravel().astype(int)"
   ]
  },
  {
   "cell_type": "code",
   "execution_count": 39,
   "id": "65d1320d-f588-4b38-9072-62af1ae97f7d",
   "metadata": {
    "execution": {
     "iopub.execute_input": "2025-08-05T15:29:47.224597Z",
     "iopub.status.busy": "2025-08-05T15:29:47.224097Z",
     "iopub.status.idle": "2025-08-05T15:29:47.233281Z",
     "shell.execute_reply": "2025-08-05T15:29:47.232053Z"
    },
    "papermill": {
     "duration": 0.024004,
     "end_time": "2025-08-05T15:29:47.235321",
     "exception": false,
     "start_time": "2025-08-05T15:29:47.211317",
     "status": "completed"
    },
    "tags": []
   },
   "outputs": [],
   "source": [
    "from fairness_multiverse.conformal import compute_nc_scores\n",
    "\n",
    "# Compute nonconformity scores on calibration set (1 - probability of true class)\n",
    "nc_scores = compute_nc_scores(probs_calib, y_calib)"
   ]
  },
  {
   "cell_type": "code",
   "execution_count": 40,
   "id": "df3b8ca3-53b7-43d5-9667-7c85da7aeda2",
   "metadata": {
    "execution": {
     "iopub.execute_input": "2025-08-05T15:29:47.285911Z",
     "iopub.status.busy": "2025-08-05T15:29:47.284788Z",
     "iopub.status.idle": "2025-08-05T15:29:47.292916Z",
     "shell.execute_reply": "2025-08-05T15:29:47.291314Z"
    },
    "papermill": {
     "duration": 0.036165,
     "end_time": "2025-08-05T15:29:47.295442",
     "exception": false,
     "start_time": "2025-08-05T15:29:47.259277",
     "status": "completed"
    },
    "tags": []
   },
   "outputs": [],
   "source": [
    "from fairness_multiverse.conformal import find_threshold\n",
    "\n",
    "# Find conformal threshold q_hat for the given alpha (split conformal method)\n",
    "q_hat = find_threshold(nc_scores, alpha)"
   ]
  },
  {
   "cell_type": "code",
   "execution_count": 41,
   "id": "4d29e6c1-0ef6-4aa4-b8fe-4fe79b0d033a",
   "metadata": {
    "execution": {
     "iopub.execute_input": "2025-08-05T15:29:47.357550Z",
     "iopub.status.busy": "2025-08-05T15:29:47.356092Z",
     "iopub.status.idle": "2025-08-05T15:29:47.365099Z",
     "shell.execute_reply": "2025-08-05T15:29:47.363699Z"
    },
    "papermill": {
     "duration": 0.04267,
     "end_time": "2025-08-05T15:29:47.367511",
     "exception": false,
     "start_time": "2025-08-05T15:29:47.324841",
     "status": "completed"
    },
    "tags": []
   },
   "outputs": [
    {
     "data": {
      "text/plain": [
       "0.6435922348932147"
      ]
     },
     "execution_count": 41,
     "metadata": {},
     "output_type": "execute_result"
    }
   ],
   "source": [
    "q_hat"
   ]
  },
  {
   "cell_type": "code",
   "execution_count": 42,
   "id": "92460794-cdac-4be2-ba28-f28c0515a6fb",
   "metadata": {
    "execution": {
     "iopub.execute_input": "2025-08-05T15:29:47.426518Z",
     "iopub.status.busy": "2025-08-05T15:29:47.425748Z",
     "iopub.status.idle": "2025-08-05T15:29:48.635276Z",
     "shell.execute_reply": "2025-08-05T15:29:48.634041Z"
    },
    "papermill": {
     "duration": 1.24108,
     "end_time": "2025-08-05T15:29:48.637482",
     "exception": false,
     "start_time": "2025-08-05T15:29:47.396402",
     "status": "completed"
    },
    "tags": []
   },
   "outputs": [],
   "source": [
    "from fairness_multiverse.conformal import predict_conformal_sets\n",
    "\n",
    "# Generate prediction sets for each test example\n",
    "pred_sets = predict_conformal_sets(model, X_test, q_hat)"
   ]
  },
  {
   "cell_type": "code",
   "execution_count": 43,
   "id": "d90c9a65-e6db-4f5d-80cd-e68fb7e46829",
   "metadata": {
    "execution": {
     "iopub.execute_input": "2025-08-05T15:29:48.682906Z",
     "iopub.status.busy": "2025-08-05T15:29:48.682167Z",
     "iopub.status.idle": "2025-08-05T15:29:48.688699Z",
     "shell.execute_reply": "2025-08-05T15:29:48.687509Z"
    },
    "papermill": {
     "duration": 0.029739,
     "end_time": "2025-08-05T15:29:48.690599",
     "exception": false,
     "start_time": "2025-08-05T15:29:48.660860",
     "status": "completed"
    },
    "tags": []
   },
   "outputs": [],
   "source": [
    "y_true = y_true.squeeze()"
   ]
  },
  {
   "cell_type": "code",
   "execution_count": 44,
   "id": "3a58a54a-1e68-46b9-927a-df01f18aebc8",
   "metadata": {
    "execution": {
     "iopub.execute_input": "2025-08-05T15:29:48.735256Z",
     "iopub.status.busy": "2025-08-05T15:29:48.734515Z",
     "iopub.status.idle": "2025-08-05T15:29:49.924501Z",
     "shell.execute_reply": "2025-08-05T15:29:49.923536Z"
    },
    "papermill": {
     "duration": 1.212356,
     "end_time": "2025-08-05T15:29:49.926578",
     "exception": false,
     "start_time": "2025-08-05T15:29:48.714222",
     "status": "completed"
    },
    "tags": []
   },
   "outputs": [],
   "source": [
    "from fairness_multiverse.conformal import evaluate_sets\n",
    "\n",
    "# Evaluate coverage and average set size on test data\n",
    "metrics = evaluate_sets(pred_sets, y_true)"
   ]
  },
  {
   "cell_type": "markdown",
   "id": "2b569c12-9aaa-4c88-98c9-bbcd0cf3ebb8",
   "metadata": {
    "papermill": {
     "duration": 0.018854,
     "end_time": "2025-08-05T15:29:49.967436",
     "exception": false,
     "start_time": "2025-08-05T15:29:49.948582",
     "status": "completed"
    },
    "tags": []
   },
   "source": [
    "# CP Metrics"
   ]
  },
  {
   "cell_type": "code",
   "execution_count": 45,
   "id": "5ce0a5cb-201f-45a0-ade5-94c7f0bd6095",
   "metadata": {
    "execution": {
     "iopub.execute_input": "2025-08-05T15:29:50.007381Z",
     "iopub.status.busy": "2025-08-05T15:29:50.006853Z",
     "iopub.status.idle": "2025-08-05T15:29:50.014342Z",
     "shell.execute_reply": "2025-08-05T15:29:50.013225Z"
    },
    "papermill": {
     "duration": 0.02948,
     "end_time": "2025-08-05T15:29:50.016143",
     "exception": false,
     "start_time": "2025-08-05T15:29:49.986663",
     "status": "completed"
    },
    "tags": []
   },
   "outputs": [
    {
     "data": {
      "text/plain": [
       "{'coverage': 0.911470293166871, 'avg_size': 1.250273102218259}"
      ]
     },
     "execution_count": 45,
     "metadata": {},
     "output_type": "execute_result"
    }
   ],
   "source": [
    "metrics"
   ]
  },
  {
   "cell_type": "code",
   "execution_count": 46,
   "id": "9b9a838d-31c9-430b-ae14-12baee460d17",
   "metadata": {
    "execution": {
     "iopub.execute_input": "2025-08-05T15:29:50.058901Z",
     "iopub.status.busy": "2025-08-05T15:29:50.058316Z",
     "iopub.status.idle": "2025-08-05T15:29:50.066693Z",
     "shell.execute_reply": "2025-08-05T15:29:50.065262Z"
    },
    "papermill": {
     "duration": 0.03168,
     "end_time": "2025-08-05T15:29:50.068693",
     "exception": false,
     "start_time": "2025-08-05T15:29:50.037013",
     "status": "completed"
    },
    "tags": []
   },
   "outputs": [],
   "source": [
    "example_universe = universe.copy()\n",
    "universe_training_year = example_universe.get(\"training_year\")\n",
    "universe_training_size = example_universe.get(\"training_size\")\n",
    "universe_scale = example_universe.get(\"scale\")\n",
    "universe_model = example_universe.get(\"model\")\n",
    "universe_exclude_features = example_universe.get(\"exclude_features\")\n",
    "universe_exclude_subgroups = example_universe.get(\"exclude_subgroups\")"
   ]
  },
  {
   "cell_type": "code",
   "execution_count": 47,
   "id": "f4b6a8ac-9dc0-4245-8a91-5b3b5999c4f9",
   "metadata": {
    "execution": {
     "iopub.execute_input": "2025-08-05T15:29:50.110183Z",
     "iopub.status.busy": "2025-08-05T15:29:50.109360Z",
     "iopub.status.idle": "2025-08-05T15:29:50.116293Z",
     "shell.execute_reply": "2025-08-05T15:29:50.115420Z"
    },
    "papermill": {
     "duration": 0.028629,
     "end_time": "2025-08-05T15:29:50.117919",
     "exception": false,
     "start_time": "2025-08-05T15:29:50.089290",
     "status": "completed"
    },
    "tags": []
   },
   "outputs": [],
   "source": [
    "cp_metrics_dict = {\n",
    "    \"universe_id\": [universe_id],\n",
    "    \"universe_training_year\": [universe_training_year],\n",
    "    \"universe_training_size\": [universe_training_size],\n",
    "    \"universe_scale\": [universe_scale],\n",
    "    \"universe_model\": [universe_model],\n",
    "    \"universe_exclude_features\": [universe_exclude_features],\n",
    "    \"universe_exclude_subgroups\": [universe_exclude_subgroups],\n",
    "    \"q_hat\": [q_hat],\n",
    "    \"coverage\": [metrics[\"coverage\"]],\n",
    "    \"avg_size\": [metrics[\"avg_size\"]],\n",
    "}"
   ]
  },
  {
   "cell_type": "code",
   "execution_count": 48,
   "id": "908acbb1-0371-4915-85ca-3fa520d2efe2",
   "metadata": {
    "execution": {
     "iopub.execute_input": "2025-08-05T15:29:50.160104Z",
     "iopub.status.busy": "2025-08-05T15:29:50.159430Z",
     "iopub.status.idle": "2025-08-05T15:29:50.167580Z",
     "shell.execute_reply": "2025-08-05T15:29:50.166522Z"
    },
    "papermill": {
     "duration": 0.030553,
     "end_time": "2025-08-05T15:29:50.169459",
     "exception": false,
     "start_time": "2025-08-05T15:29:50.138906",
     "status": "completed"
    },
    "tags": []
   },
   "outputs": [
    {
     "data": {
      "text/plain": [
       "{'universe_id': ['618fd0b409db2edf558dea2a7809e3c4'],\n",
       " 'universe_training_year': ['2014'],\n",
       " 'universe_training_size': ['5k'],\n",
       " 'universe_scale': ['do-not-scale'],\n",
       " 'universe_model': ['penalized_logreg'],\n",
       " 'universe_exclude_features': ['age'],\n",
       " 'universe_exclude_subgroups': ['drop-non-german'],\n",
       " 'q_hat': [0.6435922348932147],\n",
       " 'coverage': [0.911470293166871],\n",
       " 'avg_size': [1.250273102218259]}"
      ]
     },
     "execution_count": 48,
     "metadata": {},
     "output_type": "execute_result"
    }
   ],
   "source": [
    "cp_metrics_dict"
   ]
  },
  {
   "cell_type": "code",
   "execution_count": 49,
   "id": "33007efc-14e9-4ec6-97ac-56a455c82265",
   "metadata": {
    "execution": {
     "iopub.execute_input": "2025-08-05T15:29:50.216835Z",
     "iopub.status.busy": "2025-08-05T15:29:50.216174Z",
     "iopub.status.idle": "2025-08-05T15:29:50.222510Z",
     "shell.execute_reply": "2025-08-05T15:29:50.221563Z"
    },
    "papermill": {
     "duration": 0.031853,
     "end_time": "2025-08-05T15:29:50.224207",
     "exception": false,
     "start_time": "2025-08-05T15:29:50.192354",
     "status": "completed"
    },
    "tags": []
   },
   "outputs": [],
   "source": [
    "cp_metrics_df = pd.DataFrame(cp_metrics_dict)"
   ]
  },
  {
   "cell_type": "code",
   "execution_count": 50,
   "id": "db12611b-57b2-4910-b9d0-355adfd6e7bf",
   "metadata": {
    "execution": {
     "iopub.execute_input": "2025-08-05T15:29:50.272865Z",
     "iopub.status.busy": "2025-08-05T15:29:50.271974Z",
     "iopub.status.idle": "2025-08-05T15:29:50.290128Z",
     "shell.execute_reply": "2025-08-05T15:29:50.289154Z"
    },
    "papermill": {
     "duration": 0.04301,
     "end_time": "2025-08-05T15:29:50.291867",
     "exception": false,
     "start_time": "2025-08-05T15:29:50.248857",
     "status": "completed"
    },
    "tags": []
   },
   "outputs": [
    {
     "data": {
      "text/html": [
       "<div>\n",
       "<style scoped>\n",
       "    .dataframe tbody tr th:only-of-type {\n",
       "        vertical-align: middle;\n",
       "    }\n",
       "\n",
       "    .dataframe tbody tr th {\n",
       "        vertical-align: top;\n",
       "    }\n",
       "\n",
       "    .dataframe thead th {\n",
       "        text-align: right;\n",
       "    }\n",
       "</style>\n",
       "<table border=\"1\" class=\"dataframe\">\n",
       "  <thead>\n",
       "    <tr style=\"text-align: right;\">\n",
       "      <th></th>\n",
       "      <th>universe_id</th>\n",
       "      <th>universe_training_year</th>\n",
       "      <th>universe_training_size</th>\n",
       "      <th>universe_scale</th>\n",
       "      <th>universe_model</th>\n",
       "      <th>universe_exclude_features</th>\n",
       "      <th>universe_exclude_subgroups</th>\n",
       "      <th>q_hat</th>\n",
       "      <th>coverage</th>\n",
       "      <th>avg_size</th>\n",
       "    </tr>\n",
       "  </thead>\n",
       "  <tbody>\n",
       "    <tr>\n",
       "      <th>0</th>\n",
       "      <td>618fd0b409db2edf558dea2a7809e3c4</td>\n",
       "      <td>2014</td>\n",
       "      <td>5k</td>\n",
       "      <td>do-not-scale</td>\n",
       "      <td>penalized_logreg</td>\n",
       "      <td>age</td>\n",
       "      <td>drop-non-german</td>\n",
       "      <td>0.643592</td>\n",
       "      <td>0.91147</td>\n",
       "      <td>1.250273</td>\n",
       "    </tr>\n",
       "  </tbody>\n",
       "</table>\n",
       "</div>"
      ],
      "text/plain": [
       "                        universe_id universe_training_year  \\\n",
       "0  618fd0b409db2edf558dea2a7809e3c4                   2014   \n",
       "\n",
       "  universe_training_size universe_scale    universe_model  \\\n",
       "0                     5k   do-not-scale  penalized_logreg   \n",
       "\n",
       "  universe_exclude_features universe_exclude_subgroups     q_hat  coverage  \\\n",
       "0                       age            drop-non-german  0.643592   0.91147   \n",
       "\n",
       "   avg_size  \n",
       "0  1.250273  "
      ]
     },
     "execution_count": 50,
     "metadata": {},
     "output_type": "execute_result"
    }
   ],
   "source": [
    "cp_metrics_df"
   ]
  },
  {
   "cell_type": "code",
   "execution_count": 51,
   "id": "b7fbde55-a0a1-47e4-9af6-fe4a17fa8c61",
   "metadata": {
    "execution": {
     "iopub.execute_input": "2025-08-05T15:29:50.343050Z",
     "iopub.status.busy": "2025-08-05T15:29:50.342088Z",
     "iopub.status.idle": "2025-08-05T15:29:50.347810Z",
     "shell.execute_reply": "2025-08-05T15:29:50.346961Z"
    },
    "papermill": {
     "duration": 0.03548,
     "end_time": "2025-08-05T15:29:50.349837",
     "exception": false,
     "start_time": "2025-08-05T15:29:50.314357",
     "status": "completed"
    },
    "tags": []
   },
   "outputs": [],
   "source": [
    "# Conditional Coverage & looking at subgroups"
   ]
  },
  {
   "cell_type": "code",
   "execution_count": 52,
   "id": "027ae886-68dd-4141-96c7-805a5450e1ef",
   "metadata": {
    "execution": {
     "iopub.execute_input": "2025-08-05T15:29:50.398678Z",
     "iopub.status.busy": "2025-08-05T15:29:50.398217Z",
     "iopub.status.idle": "2025-08-05T15:29:50.665269Z",
     "shell.execute_reply": "2025-08-05T15:29:50.664283Z"
    },
    "papermill": {
     "duration": 0.294054,
     "end_time": "2025-08-05T15:29:50.667226",
     "exception": false,
     "start_time": "2025-08-05T15:29:50.373172",
     "status": "completed"
    },
    "tags": []
   },
   "outputs": [],
   "source": [
    "from fairness_multiverse.conformal import build_cp_groups\n",
    "\n",
    "cp_groups_df = build_cp_groups(pred_sets, y_true, X_test.index, org_test)\n",
    "#needs universe_id and setting"
   ]
  },
  {
   "cell_type": "code",
   "execution_count": 53,
   "id": "6cbdab96-b2b2-45af-ad54-d0516db2e28d",
   "metadata": {
    "execution": {
     "iopub.execute_input": "2025-08-05T15:29:50.709318Z",
     "iopub.status.busy": "2025-08-05T15:29:50.708437Z",
     "iopub.status.idle": "2025-08-05T15:29:52.566647Z",
     "shell.execute_reply": "2025-08-05T15:29:52.565664Z"
    },
    "papermill": {
     "duration": 1.881744,
     "end_time": "2025-08-05T15:29:52.568644",
     "exception": false,
     "start_time": "2025-08-05T15:29:50.686900",
     "status": "completed"
    },
    "tags": []
   },
   "outputs": [],
   "source": [
    "# Define covered = 1 if true_label is in the predicted set\n",
    "cp_groups_df['covered'] = cp_groups_df.apply(\n",
    "    lambda r: int(r['true_label'] in r['pred_set']),\n",
    "    axis=1\n",
    ")"
   ]
  },
  {
   "cell_type": "code",
   "execution_count": 54,
   "id": "338ff529-1a6b-4b87-a931-8e4788d52aad",
   "metadata": {
    "execution": {
     "iopub.execute_input": "2025-08-05T15:29:52.613318Z",
     "iopub.status.busy": "2025-08-05T15:29:52.612841Z",
     "iopub.status.idle": "2025-08-05T15:29:52.620042Z",
     "shell.execute_reply": "2025-08-05T15:29:52.618945Z"
    },
    "papermill": {
     "duration": 0.03431,
     "end_time": "2025-08-05T15:29:52.623243",
     "exception": false,
     "start_time": "2025-08-05T15:29:52.588933",
     "status": "completed"
    },
    "tags": []
   },
   "outputs": [],
   "source": [
    "#cp_groups_df"
   ]
  },
  {
   "cell_type": "code",
   "execution_count": 55,
   "id": "90032e27-66df-4540-9169-4e89cfbaa758",
   "metadata": {
    "execution": {
     "iopub.execute_input": "2025-08-05T15:29:52.678376Z",
     "iopub.status.busy": "2025-08-05T15:29:52.677171Z",
     "iopub.status.idle": "2025-08-05T15:29:52.692737Z",
     "shell.execute_reply": "2025-08-05T15:29:52.691446Z"
    },
    "papermill": {
     "duration": 0.038947,
     "end_time": "2025-08-05T15:29:52.694828",
     "exception": false,
     "start_time": "2025-08-05T15:29:52.655881",
     "status": "completed"
    },
    "tags": []
   },
   "outputs": [],
   "source": [
    "subgroups = ['frau1','nongerman','nongerman_male','nongerman_female']\n",
    "\n",
    "# Conditional coverage for subgroup==1\n",
    "cond_coverage = {\n",
    "    g: cp_groups_df.loc[cp_groups_df[g]==1, 'covered'].mean()\n",
    "    for g in subgroups\n",
    "}"
   ]
  },
  {
   "cell_type": "code",
   "execution_count": 56,
   "id": "1e348fb1-b9c3-45bc-ba23-f016827a7e0d",
   "metadata": {
    "execution": {
     "iopub.execute_input": "2025-08-05T15:29:52.729737Z",
     "iopub.status.busy": "2025-08-05T15:29:52.729365Z",
     "iopub.status.idle": "2025-08-05T15:29:52.735745Z",
     "shell.execute_reply": "2025-08-05T15:29:52.734947Z"
    },
    "papermill": {
     "duration": 0.021294,
     "end_time": "2025-08-05T15:29:52.737251",
     "exception": false,
     "start_time": "2025-08-05T15:29:52.715957",
     "status": "completed"
    },
    "tags": []
   },
   "outputs": [
    {
     "data": {
      "text/plain": [
       "{'frau1': 0.9099069955519612,\n",
       " 'nongerman': 0.9586818615617807,\n",
       " 'nongerman_male': 0.9665856074934702,\n",
       " 'nongerman_female': 0.9456035767511177}"
      ]
     },
     "execution_count": 56,
     "metadata": {},
     "output_type": "execute_result"
    }
   ],
   "source": [
    "cond_coverage"
   ]
  },
  {
   "cell_type": "code",
   "execution_count": 57,
   "id": "f5093324-c3dd-4d63-bc4c-8d945e5c8bbb",
   "metadata": {
    "execution": {
     "iopub.execute_input": "2025-08-05T15:29:52.764205Z",
     "iopub.status.busy": "2025-08-05T15:29:52.763794Z",
     "iopub.status.idle": "2025-08-05T15:29:52.771838Z",
     "shell.execute_reply": "2025-08-05T15:29:52.770750Z"
    },
    "papermill": {
     "duration": 0.023866,
     "end_time": "2025-08-05T15:29:52.773574",
     "exception": false,
     "start_time": "2025-08-05T15:29:52.749708",
     "status": "completed"
    },
    "tags": []
   },
   "outputs": [],
   "source": [
    "for subgroup, cov in cond_coverage.items():\n",
    "    cp_metrics_df[f\"cov_{subgroup}\"] = cov"
   ]
  },
  {
   "cell_type": "code",
   "execution_count": 58,
   "id": "6e872e10-dbe5-49e8-b554-5030c98ff75d",
   "metadata": {
    "execution": {
     "iopub.execute_input": "2025-08-05T15:29:52.819891Z",
     "iopub.status.busy": "2025-08-05T15:29:52.819468Z",
     "iopub.status.idle": "2025-08-05T15:29:52.839758Z",
     "shell.execute_reply": "2025-08-05T15:29:52.838636Z"
    },
    "papermill": {
     "duration": 0.042364,
     "end_time": "2025-08-05T15:29:52.841435",
     "exception": false,
     "start_time": "2025-08-05T15:29:52.799071",
     "status": "completed"
    },
    "tags": []
   },
   "outputs": [
    {
     "data": {
      "text/html": [
       "<div>\n",
       "<style scoped>\n",
       "    .dataframe tbody tr th:only-of-type {\n",
       "        vertical-align: middle;\n",
       "    }\n",
       "\n",
       "    .dataframe tbody tr th {\n",
       "        vertical-align: top;\n",
       "    }\n",
       "\n",
       "    .dataframe thead th {\n",
       "        text-align: right;\n",
       "    }\n",
       "</style>\n",
       "<table border=\"1\" class=\"dataframe\">\n",
       "  <thead>\n",
       "    <tr style=\"text-align: right;\">\n",
       "      <th></th>\n",
       "      <th>universe_id</th>\n",
       "      <th>universe_training_year</th>\n",
       "      <th>universe_training_size</th>\n",
       "      <th>universe_scale</th>\n",
       "      <th>universe_model</th>\n",
       "      <th>universe_exclude_features</th>\n",
       "      <th>universe_exclude_subgroups</th>\n",
       "      <th>q_hat</th>\n",
       "      <th>coverage</th>\n",
       "      <th>avg_size</th>\n",
       "      <th>cov_frau1</th>\n",
       "      <th>cov_nongerman</th>\n",
       "      <th>cov_nongerman_male</th>\n",
       "      <th>cov_nongerman_female</th>\n",
       "    </tr>\n",
       "  </thead>\n",
       "  <tbody>\n",
       "    <tr>\n",
       "      <th>0</th>\n",
       "      <td>618fd0b409db2edf558dea2a7809e3c4</td>\n",
       "      <td>2014</td>\n",
       "      <td>5k</td>\n",
       "      <td>do-not-scale</td>\n",
       "      <td>penalized_logreg</td>\n",
       "      <td>age</td>\n",
       "      <td>drop-non-german</td>\n",
       "      <td>0.643592</td>\n",
       "      <td>0.91147</td>\n",
       "      <td>1.250273</td>\n",
       "      <td>0.909907</td>\n",
       "      <td>0.958682</td>\n",
       "      <td>0.966586</td>\n",
       "      <td>0.945604</td>\n",
       "    </tr>\n",
       "  </tbody>\n",
       "</table>\n",
       "</div>"
      ],
      "text/plain": [
       "                        universe_id universe_training_year  \\\n",
       "0  618fd0b409db2edf558dea2a7809e3c4                   2014   \n",
       "\n",
       "  universe_training_size universe_scale    universe_model  \\\n",
       "0                     5k   do-not-scale  penalized_logreg   \n",
       "\n",
       "  universe_exclude_features universe_exclude_subgroups     q_hat  coverage  \\\n",
       "0                       age            drop-non-german  0.643592   0.91147   \n",
       "\n",
       "   avg_size  cov_frau1  cov_nongerman  cov_nongerman_male  \\\n",
       "0  1.250273   0.909907       0.958682            0.966586   \n",
       "\n",
       "   cov_nongerman_female  \n",
       "0              0.945604  "
      ]
     },
     "execution_count": 58,
     "metadata": {},
     "output_type": "execute_result"
    }
   ],
   "source": [
    "cp_metrics_df"
   ]
  },
  {
   "cell_type": "markdown",
   "id": "33774451",
   "metadata": {
    "papermill": {
     "duration": 0.024588,
     "end_time": "2025-08-05T15:29:52.890879",
     "exception": false,
     "start_time": "2025-08-05T15:29:52.866291",
     "status": "completed"
    },
    "tags": []
   },
   "source": [
    "# (Fairness) Metrics"
   ]
  },
  {
   "cell_type": "code",
   "execution_count": 59,
   "id": "debc5d62",
   "metadata": {
    "execution": {
     "iopub.execute_input": "2025-08-05T15:29:52.940628Z",
     "iopub.status.busy": "2025-08-05T15:29:52.940125Z",
     "iopub.status.idle": "2025-08-05T15:29:52.960785Z",
     "shell.execute_reply": "2025-08-05T15:29:52.959880Z"
    },
    "papermill": {
     "duration": 0.049047,
     "end_time": "2025-08-05T15:29:52.962277",
     "exception": false,
     "start_time": "2025-08-05T15:29:52.913230",
     "status": "completed"
    },
    "tags": []
   },
   "outputs": [],
   "source": [
    "# do I need to include maxdeutsch1.missing?\n",
    "\n",
    "import numpy as np\n",
    "\n",
    "colname_to_bin = \"maxdeutsch1\"\n",
    "majority_value = org_train[colname_to_bin].mode()[0]\n",
    "\n",
    "org_test[\"majmin\"] = np.where(org_test[colname_to_bin] == majority_value, \"majority\", \"minority\")"
   ]
  },
  {
   "cell_type": "code",
   "execution_count": 60,
   "id": "06a50de5",
   "metadata": {
    "execution": {
     "iopub.execute_input": "2025-08-05T15:29:52.987312Z",
     "iopub.status.busy": "2025-08-05T15:29:52.986601Z",
     "iopub.status.idle": "2025-08-05T15:29:55.836896Z",
     "shell.execute_reply": "2025-08-05T15:29:55.835963Z"
    },
    "papermill": {
     "duration": 2.864353,
     "end_time": "2025-08-05T15:29:55.838686",
     "exception": false,
     "start_time": "2025-08-05T15:29:52.974333",
     "status": "completed"
    },
    "tags": []
   },
   "outputs": [],
   "source": [
    "example_universe = universe.copy()\n",
    "example_universe[\"cutoff\"] = example_universe[\"cutoff\"][0]\n",
    "example_universe[\"eval_fairness_grouping\"] = example_universe[\"eval_fairness_grouping\"][0]\n",
    "fairness_dict, metric_frame = universe_analysis.compute_metrics(\n",
    "    example_universe,\n",
    "    y_pred_prob=probs_test,\n",
    "    y_test=y_true,\n",
    "    org_test=org_test,\n",
    ")"
   ]
  },
  {
   "cell_type": "markdown",
   "id": "f95d4e02",
   "metadata": {
    "papermill": {
     "duration": 0.020082,
     "end_time": "2025-08-05T15:29:55.881696",
     "exception": false,
     "start_time": "2025-08-05T15:29:55.861614",
     "status": "completed"
    },
    "tags": []
   },
   "source": [
    "# Overall"
   ]
  },
  {
   "cell_type": "markdown",
   "id": "bdee4871",
   "metadata": {
    "papermill": {
     "duration": 0.020464,
     "end_time": "2025-08-05T15:29:55.922393",
     "exception": false,
     "start_time": "2025-08-05T15:29:55.901929",
     "status": "completed"
    },
    "tags": []
   },
   "source": [
    "Fairness\n",
    "Main fairness target: Equalized Odds. Seems to be a better fit than equal opportunity, since we're not only interested in Y = 1. Seems to be a better fit than demographic parity, since we also care about accuracy, not just equal distribution of preds.\n",
    "\n",
    "Pick column for computation of fairness metrics\n",
    "\n",
    "Performance\n",
    "Overall performance measures, most interesting in relation to the measures split by group below"
   ]
  },
  {
   "cell_type": "code",
   "execution_count": 61,
   "id": "c4e067c6",
   "metadata": {
    "execution": {
     "iopub.execute_input": "2025-08-05T15:29:55.968170Z",
     "iopub.status.busy": "2025-08-05T15:29:55.967350Z",
     "iopub.status.idle": "2025-08-05T15:29:55.978351Z",
     "shell.execute_reply": "2025-08-05T15:29:55.977216Z"
    },
    "papermill": {
     "duration": 0.035557,
     "end_time": "2025-08-05T15:29:55.980324",
     "exception": false,
     "start_time": "2025-08-05T15:29:55.944767",
     "status": "completed"
    },
    "tags": []
   },
   "outputs": [
    {
     "data": {
      "text/plain": [
       "accuracy                   0.216375\n",
       "balanced accuracy          0.530742\n",
       "f1                         0.237926\n",
       "precision                  0.135919\n",
       "false positive rate        0.892113\n",
       "false negative rate        0.046403\n",
       "selection rate             0.900000\n",
       "count                  89710.000000\n",
       "dtype: float64"
      ]
     },
     "execution_count": 61,
     "metadata": {},
     "output_type": "execute_result"
    }
   ],
   "source": [
    "metric_frame.overall"
   ]
  },
  {
   "cell_type": "markdown",
   "id": "e968fe9d",
   "metadata": {
    "papermill": {
     "duration": 0.025476,
     "end_time": "2025-08-05T15:29:56.034503",
     "exception": false,
     "start_time": "2025-08-05T15:29:56.009027",
     "status": "completed"
    },
    "tags": []
   },
   "source": [
    "By Group"
   ]
  },
  {
   "cell_type": "code",
   "execution_count": 62,
   "id": "ec325bce",
   "metadata": {
    "execution": {
     "iopub.execute_input": "2025-08-05T15:29:56.085555Z",
     "iopub.status.busy": "2025-08-05T15:29:56.085069Z",
     "iopub.status.idle": "2025-08-05T15:29:56.101726Z",
     "shell.execute_reply": "2025-08-05T15:29:56.100508Z"
    },
    "papermill": {
     "duration": 0.045033,
     "end_time": "2025-08-05T15:29:56.103669",
     "exception": false,
     "start_time": "2025-08-05T15:29:56.058636",
     "status": "completed"
    },
    "tags": []
   },
   "outputs": [
    {
     "data": {
      "text/html": [
       "<div>\n",
       "<style scoped>\n",
       "    .dataframe tbody tr th:only-of-type {\n",
       "        vertical-align: middle;\n",
       "    }\n",
       "\n",
       "    .dataframe tbody tr th {\n",
       "        vertical-align: top;\n",
       "    }\n",
       "\n",
       "    .dataframe thead th {\n",
       "        text-align: right;\n",
       "    }\n",
       "</style>\n",
       "<table border=\"1\" class=\"dataframe\">\n",
       "  <thead>\n",
       "    <tr style=\"text-align: right;\">\n",
       "      <th></th>\n",
       "      <th>accuracy</th>\n",
       "      <th>balanced accuracy</th>\n",
       "      <th>f1</th>\n",
       "      <th>precision</th>\n",
       "      <th>false positive rate</th>\n",
       "      <th>false negative rate</th>\n",
       "      <th>selection rate</th>\n",
       "      <th>count</th>\n",
       "    </tr>\n",
       "    <tr>\n",
       "      <th>majmin</th>\n",
       "      <th></th>\n",
       "      <th></th>\n",
       "      <th></th>\n",
       "      <th></th>\n",
       "      <th></th>\n",
       "      <th></th>\n",
       "      <th></th>\n",
       "      <th></th>\n",
       "    </tr>\n",
       "  </thead>\n",
       "  <tbody>\n",
       "    <tr>\n",
       "      <th>majority</th>\n",
       "      <td>0.237979</td>\n",
       "      <td>0.538115</td>\n",
       "      <td>0.247047</td>\n",
       "      <td>0.142073</td>\n",
       "      <td>0.869832</td>\n",
       "      <td>0.053939</td>\n",
       "      <td>0.879905</td>\n",
       "      <td>69170.0</td>\n",
       "    </tr>\n",
       "    <tr>\n",
       "      <th>minority</th>\n",
       "      <td>0.143622</td>\n",
       "      <td>0.508485</td>\n",
       "      <td>0.209225</td>\n",
       "      <td>0.117076</td>\n",
       "      <td>0.965716</td>\n",
       "      <td>0.017314</td>\n",
       "      <td>0.967673</td>\n",
       "      <td>20540.0</td>\n",
       "    </tr>\n",
       "  </tbody>\n",
       "</table>\n",
       "</div>"
      ],
      "text/plain": [
       "          accuracy  balanced accuracy        f1  precision  \\\n",
       "majmin                                                       \n",
       "majority  0.237979           0.538115  0.247047   0.142073   \n",
       "minority  0.143622           0.508485  0.209225   0.117076   \n",
       "\n",
       "          false positive rate  false negative rate  selection rate    count  \n",
       "majmin                                                                       \n",
       "majority             0.869832             0.053939        0.879905  69170.0  \n",
       "minority             0.965716             0.017314        0.967673  20540.0  "
      ]
     },
     "execution_count": 62,
     "metadata": {},
     "output_type": "execute_result"
    }
   ],
   "source": [
    "metric_frame.by_group"
   ]
  },
  {
   "cell_type": "code",
   "execution_count": 63,
   "id": "a9ddbe63",
   "metadata": {
    "execution": {
     "iopub.execute_input": "2025-08-05T15:29:56.157271Z",
     "iopub.status.busy": "2025-08-05T15:29:56.156804Z",
     "iopub.status.idle": "2025-08-05T15:29:58.392209Z",
     "shell.execute_reply": "2025-08-05T15:29:58.391209Z"
    },
    "papermill": {
     "duration": 2.263907,
     "end_time": "2025-08-05T15:29:58.394315",
     "exception": false,
     "start_time": "2025-08-05T15:29:56.130408",
     "status": "completed"
    },
    "tags": []
   },
   "outputs": [
    {
     "data": {
      "text/plain": [
       "array([[<Axes: title={'center': 'accuracy'}, xlabel='majmin'>,\n",
       "        <Axes: title={'center': 'balanced accuracy'}, xlabel='majmin'>,\n",
       "        <Axes: title={'center': 'f1'}, xlabel='majmin'>],\n",
       "       [<Axes: title={'center': 'precision'}, xlabel='majmin'>,\n",
       "        <Axes: title={'center': 'false positive rate'}, xlabel='majmin'>,\n",
       "        <Axes: title={'center': 'false negative rate'}, xlabel='majmin'>],\n",
       "       [<Axes: title={'center': 'selection rate'}, xlabel='majmin'>,\n",
       "        <Axes: title={'center': 'count'}, xlabel='majmin'>,\n",
       "        <Axes: xlabel='majmin'>]], dtype=object)"
      ]
     },
     "execution_count": 63,
     "metadata": {},
     "output_type": "execute_result"
    },
    {
     "data": {
      "image/png": "[encoded data removed]",
      "text/plain": [
       "<Figure size 1200x800 with 9 Axes>"
      ]
     },
     "metadata": {},
     "output_type": "display_data"
    }
   ],
   "source": [
    "# In a graphic\n",
    "metric_frame.by_group.plot.bar(\n",
    "    subplots=True,\n",
    "    layout=[3, 3],\n",
    "    legend=False,\n",
    "    figsize=[12, 8],\n",
    "    title=\"Show all metrics\",\n",
    ")"
   ]
  },
  {
   "cell_type": "markdown",
   "id": "f57a0bac",
   "metadata": {
    "papermill": {
     "duration": 0.024719,
     "end_time": "2025-08-05T15:29:58.448169",
     "exception": false,
     "start_time": "2025-08-05T15:29:58.423450",
     "status": "completed"
    },
    "tags": []
   },
   "source": [
    "# Final Output"
   ]
  },
  {
   "cell_type": "code",
   "execution_count": 64,
   "id": "96d280a3",
   "metadata": {
    "execution": {
     "iopub.execute_input": "2025-08-05T15:29:58.478678Z",
     "iopub.status.busy": "2025-08-05T15:29:58.478212Z",
     "iopub.status.idle": "2025-08-05T15:29:58.485357Z",
     "shell.execute_reply": "2025-08-05T15:29:58.484509Z"
    },
    "papermill": {
     "duration": 0.025878,
     "end_time": "2025-08-05T15:29:58.487002",
     "exception": false,
     "start_time": "2025-08-05T15:29:58.461124",
     "status": "completed"
    },
    "tags": []
   },
   "outputs": [
    {
     "data": {
      "text/plain": [
       "4"
      ]
     },
     "execution_count": 64,
     "metadata": {},
     "output_type": "execute_result"
    }
   ],
   "source": [
    "sub_universes = universe_analysis.generate_sub_universes()\n",
    "len(sub_universes)"
   ]
  },
  {
   "cell_type": "code",
   "execution_count": 65,
   "id": "92adf7ba",
   "metadata": {
    "execution": {
     "iopub.execute_input": "2025-08-05T15:29:58.514904Z",
     "iopub.status.busy": "2025-08-05T15:29:58.514446Z",
     "iopub.status.idle": "2025-08-05T15:29:58.531005Z",
     "shell.execute_reply": "2025-08-05T15:29:58.530243Z"
    },
    "papermill": {
     "duration": 0.032476,
     "end_time": "2025-08-05T15:29:58.532681",
     "exception": false,
     "start_time": "2025-08-05T15:29:58.500205",
     "status": "completed"
    },
    "tags": []
   },
   "outputs": [],
   "source": [
    "def filter_sub_universe_data(sub_universe, org_test):\n",
    "    # Keep all rows — no filtering\n",
    "    keep_rows_mask = np.ones(org_test.shape[0], dtype=bool)\n",
    "\n",
    "    print(f\"[INFO] Keeping all rows: {keep_rows_mask.sum()} rows retained.\")\n",
    "    return keep_rows_mask"
   ]
  },
  {
   "cell_type": "code",
   "execution_count": 66,
   "id": "4a759155",
   "metadata": {
    "execution": {
     "iopub.execute_input": "2025-08-05T15:29:58.562421Z",
     "iopub.status.busy": "2025-08-05T15:29:58.562069Z",
     "iopub.status.idle": "2025-08-05T15:30:08.047219Z",
     "shell.execute_reply": "2025-08-05T15:30:08.046086Z"
    },
    "papermill": {
     "duration": 9.50122,
     "end_time": "2025-08-05T15:30:08.048980",
     "exception": false,
     "start_time": "2025-08-05T15:29:58.547760",
     "status": "completed"
    },
    "tags": []
   },
   "outputs": [
    {
     "name": "stdout",
     "output_type": "stream",
     "text": [
      "Stopping execution_time clock.\n",
      "[INFO] Keeping all rows: 89710 rows retained.\n"
     ]
    },
    {
     "name": "stdout",
     "output_type": "stream",
     "text": [
      "[INFO] Keeping all rows: 89710 rows retained.\n"
     ]
    },
    {
     "name": "stdout",
     "output_type": "stream",
     "text": [
      "[INFO] Keeping all rows: 89710 rows retained.\n"
     ]
    },
    {
     "name": "stdout",
     "output_type": "stream",
     "text": [
      "[INFO] Keeping all rows: 89710 rows retained.\n"
     ]
    },
    {
     "data": {
      "text/html": [
       "<div>\n",
       "<style scoped>\n",
       "    .dataframe tbody tr th:only-of-type {\n",
       "        vertical-align: middle;\n",
       "    }\n",
       "\n",
       "    .dataframe tbody tr th {\n",
       "        vertical-align: top;\n",
       "    }\n",
       "\n",
       "    .dataframe thead th {\n",
       "        text-align: right;\n",
       "    }\n",
       "</style>\n",
       "<table border=\"1\" class=\"dataframe\">\n",
       "  <thead>\n",
       "    <tr style=\"text-align: right;\">\n",
       "      <th></th>\n",
       "      <th>run_no</th>\n",
       "      <th>universe_id</th>\n",
       "      <th>universe_settings</th>\n",
       "      <th>execution_time</th>\n",
       "      <th>test_size_n</th>\n",
       "      <th>test_size_frac</th>\n",
       "      <th>fair_main_equalized_odds_difference</th>\n",
       "      <th>fair_main_equalized_odds_ratio</th>\n",
       "      <th>fair_main_demographic_parity_difference</th>\n",
       "      <th>fair_main_demographic_parity_ratio</th>\n",
       "      <th>...</th>\n",
       "      <th>perf_grp_precision_0</th>\n",
       "      <th>perf_grp_precision_1</th>\n",
       "      <th>perf_grp_false positive rate_0</th>\n",
       "      <th>perf_grp_false positive rate_1</th>\n",
       "      <th>perf_grp_false negative rate_0</th>\n",
       "      <th>perf_grp_false negative rate_1</th>\n",
       "      <th>perf_grp_selection rate_0</th>\n",
       "      <th>perf_grp_selection rate_1</th>\n",
       "      <th>perf_grp_count_0</th>\n",
       "      <th>perf_grp_count_1</th>\n",
       "    </tr>\n",
       "  </thead>\n",
       "  <tbody>\n",
       "    <tr>\n",
       "      <th>0</th>\n",
       "      <td>15</td>\n",
       "      <td>618fd0b409db2edf558dea2a7809e3c4</td>\n",
       "      <td>{\"cutoff\": \"quantile_0.1\", \"eval_fairness_grou...</td>\n",
       "      <td>27.108742</td>\n",
       "      <td>89710</td>\n",
       "      <td>1.0</td>\n",
       "      <td>0.095885</td>\n",
       "      <td>0.900711</td>\n",
       "      <td>0.087768</td>\n",
       "      <td>0.909300</td>\n",
       "      <td>...</td>\n",
       "      <td>NaN</td>\n",
       "      <td>NaN</td>\n",
       "      <td>NaN</td>\n",
       "      <td>NaN</td>\n",
       "      <td>NaN</td>\n",
       "      <td>NaN</td>\n",
       "      <td>NaN</td>\n",
       "      <td>NaN</td>\n",
       "      <td>NaN</td>\n",
       "      <td>NaN</td>\n",
       "    </tr>\n",
       "    <tr>\n",
       "      <th>0</th>\n",
       "      <td>15</td>\n",
       "      <td>618fd0b409db2edf558dea2a7809e3c4</td>\n",
       "      <td>{\"cutoff\": \"quantile_0.1\", \"eval_fairness_grou...</td>\n",
       "      <td>27.108742</td>\n",
       "      <td>89710</td>\n",
       "      <td>1.0</td>\n",
       "      <td>0.095885</td>\n",
       "      <td>0.900711</td>\n",
       "      <td>0.087768</td>\n",
       "      <td>0.909300</td>\n",
       "      <td>...</td>\n",
       "      <td>0.117076</td>\n",
       "      <td>0.142073</td>\n",
       "      <td>0.965716</td>\n",
       "      <td>0.869832</td>\n",
       "      <td>0.017314</td>\n",
       "      <td>0.053939</td>\n",
       "      <td>0.967673</td>\n",
       "      <td>0.879905</td>\n",
       "      <td>20540.0</td>\n",
       "      <td>69170.0</td>\n",
       "    </tr>\n",
       "    <tr>\n",
       "      <th>0</th>\n",
       "      <td>15</td>\n",
       "      <td>618fd0b409db2edf558dea2a7809e3c4</td>\n",
       "      <td>{\"cutoff\": \"quantile_0.25\", \"eval_fairness_gro...</td>\n",
       "      <td>27.108742</td>\n",
       "      <td>89710</td>\n",
       "      <td>1.0</td>\n",
       "      <td>0.228521</td>\n",
       "      <td>0.748245</td>\n",
       "      <td>0.210840</td>\n",
       "      <td>0.768957</td>\n",
       "      <td>...</td>\n",
       "      <td>NaN</td>\n",
       "      <td>NaN</td>\n",
       "      <td>NaN</td>\n",
       "      <td>NaN</td>\n",
       "      <td>NaN</td>\n",
       "      <td>NaN</td>\n",
       "      <td>NaN</td>\n",
       "      <td>NaN</td>\n",
       "      <td>NaN</td>\n",
       "      <td>NaN</td>\n",
       "    </tr>\n",
       "    <tr>\n",
       "      <th>0</th>\n",
       "      <td>15</td>\n",
       "      <td>618fd0b409db2edf558dea2a7809e3c4</td>\n",
       "      <td>{\"cutoff\": \"quantile_0.25\", \"eval_fairness_gro...</td>\n",
       "      <td>27.108742</td>\n",
       "      <td>89710</td>\n",
       "      <td>1.0</td>\n",
       "      <td>0.228521</td>\n",
       "      <td>0.748245</td>\n",
       "      <td>0.210840</td>\n",
       "      <td>0.768957</td>\n",
       "      <td>...</td>\n",
       "      <td>0.119985</td>\n",
       "      <td>0.159998</td>\n",
       "      <td>0.907715</td>\n",
       "      <td>0.679194</td>\n",
       "      <td>0.050253</td>\n",
       "      <td>0.150328</td>\n",
       "      <td>0.912561</td>\n",
       "      <td>0.701720</td>\n",
       "      <td>20540.0</td>\n",
       "      <td>69170.0</td>\n",
       "    </tr>\n",
       "  </tbody>\n",
       "</table>\n",
       "<p>4 rows × 50 columns</p>\n",
       "</div>"
      ],
      "text/plain": [
       "  run_no                       universe_id  \\\n",
       "0     15  618fd0b409db2edf558dea2a7809e3c4   \n",
       "0     15  618fd0b409db2edf558dea2a7809e3c4   \n",
       "0     15  618fd0b409db2edf558dea2a7809e3c4   \n",
       "0     15  618fd0b409db2edf558dea2a7809e3c4   \n",
       "\n",
       "                                   universe_settings  execution_time  \\\n",
       "0  {\"cutoff\": \"quantile_0.1\", \"eval_fairness_grou...       27.108742   \n",
       "0  {\"cutoff\": \"quantile_0.1\", \"eval_fairness_grou...       27.108742   \n",
       "0  {\"cutoff\": \"quantile_0.25\", \"eval_fairness_gro...       27.108742   \n",
       "0  {\"cutoff\": \"quantile_0.25\", \"eval_fairness_gro...       27.108742   \n",
       "\n",
       "   test_size_n  test_size_frac  fair_main_equalized_odds_difference  \\\n",
       "0        89710             1.0                             0.095885   \n",
       "0        89710             1.0                             0.095885   \n",
       "0        89710             1.0                             0.228521   \n",
       "0        89710             1.0                             0.228521   \n",
       "\n",
       "   fair_main_equalized_odds_ratio  fair_main_demographic_parity_difference  \\\n",
       "0                        0.900711                                 0.087768   \n",
       "0                        0.900711                                 0.087768   \n",
       "0                        0.748245                                 0.210840   \n",
       "0                        0.748245                                 0.210840   \n",
       "\n",
       "   fair_main_demographic_parity_ratio  ...  perf_grp_precision_0  \\\n",
       "0                            0.909300  ...                   NaN   \n",
       "0                            0.909300  ...              0.117076   \n",
       "0                            0.768957  ...                   NaN   \n",
       "0                            0.768957  ...              0.119985   \n",
       "\n",
       "   perf_grp_precision_1  perf_grp_false positive rate_0  \\\n",
       "0                   NaN                             NaN   \n",
       "0              0.142073                        0.965716   \n",
       "0                   NaN                             NaN   \n",
       "0              0.159998                        0.907715   \n",
       "\n",
       "   perf_grp_false positive rate_1  perf_grp_false negative rate_0  \\\n",
       "0                             NaN                             NaN   \n",
       "0                        0.869832                        0.017314   \n",
       "0                             NaN                             NaN   \n",
       "0                        0.679194                        0.050253   \n",
       "\n",
       "   perf_grp_false negative rate_1  perf_grp_selection rate_0  \\\n",
       "0                             NaN                        NaN   \n",
       "0                        0.053939                   0.967673   \n",
       "0                             NaN                        NaN   \n",
       "0                        0.150328                   0.912561   \n",
       "\n",
       "   perf_grp_selection rate_1  perf_grp_count_0  perf_grp_count_1  \n",
       "0                        NaN               NaN               NaN  \n",
       "0                   0.879905           20540.0           69170.0  \n",
       "0                        NaN               NaN               NaN  \n",
       "0                   0.701720           20540.0           69170.0  \n",
       "\n",
       "[4 rows x 50 columns]"
      ]
     },
     "execution_count": 66,
     "metadata": {},
     "output_type": "execute_result"
    }
   ],
   "source": [
    "final_output = universe_analysis.generate_final_output(\n",
    "    y_pred_prob=probs_test,\n",
    "    y_test=y_true,\n",
    "    org_test=org_test,\n",
    "    filter_data=filter_sub_universe_data,\n",
    "    cp_metrics_df=cp_metrics_df,\n",
    "    save=True,\n",
    ")\n",
    "final_output"
   ]
  }
 ],
 "metadata": {
  "celltoolbar": "Tags",
  "kernelspec": {
   "display_name": "Python (CMA Fairness)",
   "language": "python",
   "name": "cma_fair_env"
  },
  "language_info": {
   "codemirror_mode": {
    "name": "ipython",
    "version": 3
   },
   "file_extension": ".py",
   "mimetype": "text/x-python",
   "name": "python",
   "nbconvert_exporter": "python",
   "pygments_lexer": "ipython3",
   "version": "3.10.12"
  },
  "papermill": {
   "default_parameters": {},
   "duration": 40.264915,
   "end_time": "2025-08-05T15:30:08.797562",
   "environment_variables": {},
   "exception": null,
   "input_path": "universe_analysis.ipynb",
   "output_path": "output/runs/15/notebooks/m_15-618fd0b409db2edf558dea2a7809e3c4.ipynb",
   "parameters": {
    "output_dir": "output",
    "run_no": "15",
    "seed": "2023",
    "universe": "{\"cutoff\": [\"quantile_0.1\", \"quantile_0.25\"], \"eval_fairness_grouping\": [\"majority-minority\", \"nationality-all\"], \"exclude_features\": \"age\", \"exclude_subgroups\": \"drop-non-german\", \"model\": \"penalized_logreg\", \"scale\": \"do-not-scale\", \"training_size\": \"5k\", \"training_year\": \"2014\"}",
    "universe_id": "618fd0b409db2edf558dea2a7809e3c4"
   },
   "start_time": "2025-08-05T15:29:28.532647",
   "version": "2.6.0"
  }
 },
 "nbformat": 4,
 "nbformat_minor": 5
}