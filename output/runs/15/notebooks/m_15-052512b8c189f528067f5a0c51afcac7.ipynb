{
 "cells": [
  {
   "cell_type": "code",
   "execution_count": 1,
   "id": "f159f837-637b-42ba-96b5-ec9a68c44524",
   "metadata": {
    "execution": {
     "iopub.execute_input": "2025-08-05T16:17:53.972533Z",
     "iopub.status.busy": "2025-08-05T16:17:53.972200Z",
     "iopub.status.idle": "2025-08-05T16:17:53.983365Z",
     "shell.execute_reply": "2025-08-05T16:17:53.982185Z"
    },
    "papermill": {
     "duration": 0.026052,
     "end_time": "2025-08-05T16:17:53.985706",
     "exception": false,
     "start_time": "2025-08-05T16:17:53.959654",
     "status": "completed"
    },
    "tags": []
   },
   "outputs": [
    {
     "name": "stdout",
     "output_type": "stream",
     "text": [
      "/dss/dsshome1/0C/ra93lal2/cma/CMA_Fairness_v2\n"
     ]
    },
    {
     "name": "stderr",
     "output_type": "stream",
     "text": [
      "/dss/dsshome1/0C/ra93lal2/.local/share/virtualenvs/CMA_Fairness_v2-3j10GkSs/lib/python3.10/site-packages/IPython/core/magics/osm.py:393: UserWarning: This is now an optional IPython functionality, using bookmarks requires you to install the `pickleshare` library.\n",
      "  bkms = self.shell.db.get('bookmarks', {})\n",
      "/dss/dsshome1/0C/ra93lal2/.local/share/virtualenvs/CMA_Fairness_v2-3j10GkSs/lib/python3.10/site-packages/IPython/core/magics/osm.py:417: UserWarning: This is now an optional IPython functionality, setting dhist requires you to install the `pickleshare` library.\n",
      "  self.shell.db['dhist'] = compress_dhist(dhist)[-100:]\n"
     ]
    }
   ],
   "source": [
    "%cd ~/cma/CMA_Fairness_v2"
   ]
  },
  {
   "cell_type": "markdown",
   "id": "de2603b9",
   "metadata": {
    "papermill": {
     "duration": 0.010585,
     "end_time": "2025-08-05T16:17:54.007308",
     "exception": false,
     "start_time": "2025-08-05T16:17:53.996723",
     "status": "completed"
    },
    "tags": []
   },
   "source": [
    "The following cell holds the definition of our parameters, these values can be overriden by rendering the with e.g. the following command:\n",
    "\n",
    "papermill -p alpha 0.2 -p ratio 0.3 universe_analysis.ipynb output/test_run.ipynb"
   ]
  },
  {
   "cell_type": "code",
   "execution_count": 2,
   "id": "a80968a0-40bb-4fa9-85ef-2d5eefb01975",
   "metadata": {
    "execution": {
     "iopub.execute_input": "2025-08-05T16:17:54.030446Z",
     "iopub.status.busy": "2025-08-05T16:17:54.029635Z",
     "iopub.status.idle": "2025-08-05T16:17:54.035300Z",
     "shell.execute_reply": "2025-08-05T16:17:54.034478Z"
    },
    "papermill": {
     "duration": 0.018948,
     "end_time": "2025-08-05T16:17:54.036846",
     "exception": false,
     "start_time": "2025-08-05T16:17:54.017898",
     "status": "completed"
    },
    "tags": []
   },
   "outputs": [
    {
     "name": "stdout",
     "output_type": "stream",
     "text": [
      "Current working directory: /dss/dsshome1/0C/ra93lal2/cma/CMA_Fairness_v2\n"
     ]
    }
   ],
   "source": [
    "import os\n",
    "print(\"Current working directory:\", os.getcwd())"
   ]
  },
  {
   "cell_type": "code",
   "execution_count": 3,
   "id": "2dce4c03",
   "metadata": {
    "execution": {
     "iopub.execute_input": "2025-08-05T16:17:54.060874Z",
     "iopub.status.busy": "2025-08-05T16:17:54.059842Z",
     "iopub.status.idle": "2025-08-05T16:17:54.065900Z",
     "shell.execute_reply": "2025-08-05T16:17:54.065003Z"
    },
    "papermill": {
     "duration": 0.019504,
     "end_time": "2025-08-05T16:17:54.067420",
     "exception": false,
     "start_time": "2025-08-05T16:17:54.047916",
     "status": "completed"
    },
    "tags": [
     "parameters"
    ]
   },
   "outputs": [],
   "source": [
    "run_no = 0\n",
    "universe_id = \"test\"\n",
    "universe = {\n",
    "    \"training_size\": \"25k\", # \"25k\", \"5k\", \"1k\"\n",
    "    \"training_year\": \"2014\", # \"2014\", \"2012_14\", \"2010_14\"\n",
    "    \"scale\": \"scale\", # \"scale\", \"do-not-scale\",\n",
    "    \"model\": \"elasticnet\", # \"logreg\", \"penalized_logreg\", \"rf\", \"gbm\", \"elasticnet\"\n",
    "    \"cutoff\": [\"quantile_0.15\", \"quantile_0.30\"],\n",
    "    \"exclude_features\": \"age\", # \"none\", \"nationality\", \"sex\", \"nationality-sex\", \"age\"\n",
    "    \"exclude_subgroups\": \"keep-all\", # \"keep-all\", \"drop-non-german\"\n",
    "    \"eval_fairness_grouping\": [\"majority-minority\", \"nationality-all\"]\n",
    "}\n",
    "\n",
    "output_dir=\"./output\"\n",
    "seed=0"
   ]
  },
  {
   "cell_type": "code",
   "execution_count": 4,
   "id": "0c4179cf",
   "metadata": {
    "execution": {
     "iopub.execute_input": "2025-08-05T16:17:54.090895Z",
     "iopub.status.busy": "2025-08-05T16:17:54.090511Z",
     "iopub.status.idle": "2025-08-05T16:17:54.095348Z",
     "shell.execute_reply": "2025-08-05T16:17:54.094409Z"
    },
    "papermill": {
     "duration": 0.018129,
     "end_time": "2025-08-05T16:17:54.096842",
     "exception": false,
     "start_time": "2025-08-05T16:17:54.078713",
     "status": "completed"
    },
    "tags": [
     "injected-parameters"
    ]
   },
   "outputs": [],
   "source": [
    "# Parameters\n",
    "universe_id = \"052512b8c189f528067f5a0c51afcac7\"\n",
    "run_no = \"15\"\n",
    "universe = \"{\\\"cutoff\\\": [\\\"quantile_0.1\\\", \\\"quantile_0.25\\\"], \\\"eval_fairness_grouping\\\": [\\\"majority-minority\\\", \\\"nationality-all\\\"], \\\"exclude_features\\\": \\\"age\\\", \\\"exclude_subgroups\\\": \\\"keep-all\\\", \\\"model\\\": \\\"penalized_logreg\\\", \\\"scale\\\": \\\"scale\\\", \\\"training_size\\\": \\\"1k\\\", \\\"training_year\\\": \\\"2012_14\\\"}\"\n",
    "output_dir = \"output\"\n",
    "seed = \"2023\"\n"
   ]
  },
  {
   "cell_type": "code",
   "execution_count": 5,
   "id": "1650acaf",
   "metadata": {
    "execution": {
     "iopub.execute_input": "2025-08-05T16:17:54.119838Z",
     "iopub.status.busy": "2025-08-05T16:17:54.119366Z",
     "iopub.status.idle": "2025-08-05T16:17:54.123770Z",
     "shell.execute_reply": "2025-08-05T16:17:54.122938Z"
    },
    "papermill": {
     "duration": 0.017342,
     "end_time": "2025-08-05T16:17:54.125237",
     "exception": false,
     "start_time": "2025-08-05T16:17:54.107895",
     "status": "completed"
    },
    "tags": []
   },
   "outputs": [],
   "source": [
    "import json\n",
    "if isinstance(universe, str):\n",
    "    universe = json.loads(universe)"
   ]
  },
  {
   "cell_type": "code",
   "execution_count": 6,
   "id": "16620c48",
   "metadata": {
    "execution": {
     "iopub.execute_input": "2025-08-05T16:17:54.148406Z",
     "iopub.status.busy": "2025-08-05T16:17:54.147789Z",
     "iopub.status.idle": "2025-08-05T16:17:54.180867Z",
     "shell.execute_reply": "2025-08-05T16:17:54.180031Z"
    },
    "papermill": {
     "duration": 0.046127,
     "end_time": "2025-08-05T16:17:54.182470",
     "exception": false,
     "start_time": "2025-08-05T16:17:54.136343",
     "status": "completed"
    },
    "tags": []
   },
   "outputs": [],
   "source": [
    "# Auto-reload the custom package\n",
    "%load_ext autoreload\n",
    "%autoreload 1\n",
    "%aimport fairness_multiverse"
   ]
  },
  {
   "cell_type": "code",
   "execution_count": 7,
   "id": "01c5c9f3",
   "metadata": {
    "execution": {
     "iopub.execute_input": "2025-08-05T16:17:54.205917Z",
     "iopub.status.busy": "2025-08-05T16:17:54.205194Z",
     "iopub.status.idle": "2025-08-05T16:17:56.567977Z",
     "shell.execute_reply": "2025-08-05T16:17:56.566659Z"
    },
    "papermill": {
     "duration": 2.376646,
     "end_time": "2025-08-05T16:17:56.570285",
     "exception": false,
     "start_time": "2025-08-05T16:17:54.193639",
     "status": "completed"
    },
    "tags": []
   },
   "outputs": [],
   "source": [
    "from fairness_multiverse.universe import UniverseAnalysis\n",
    "\n",
    "universe_analysis = UniverseAnalysis(\n",
    "    run_no = run_no,\n",
    "    universe_id = universe_id,\n",
    "    universe = universe,\n",
    "    output_dir=output_dir,\n",
    ")"
   ]
  },
  {
   "cell_type": "code",
   "execution_count": 8,
   "id": "106241f5",
   "metadata": {
    "execution": {
     "iopub.execute_input": "2025-08-05T16:17:56.619089Z",
     "iopub.status.busy": "2025-08-05T16:17:56.618476Z",
     "iopub.status.idle": "2025-08-05T16:17:56.627160Z",
     "shell.execute_reply": "2025-08-05T16:17:56.625874Z"
    },
    "papermill": {
     "duration": 0.036001,
     "end_time": "2025-08-05T16:17:56.629860",
     "exception": false,
     "start_time": "2025-08-05T16:17:56.593859",
     "status": "completed"
    },
    "tags": []
   },
   "outputs": [
    {
     "name": "stdout",
     "output_type": "stream",
     "text": [
      "Using Seed: 2023\n"
     ]
    }
   ],
   "source": [
    "import numpy as np\n",
    "parsed_seed = int(seed)\n",
    "np.random.seed(parsed_seed)\n",
    "print(f\"Using Seed: {parsed_seed}\")"
   ]
  },
  {
   "cell_type": "markdown",
   "id": "e0ebdc57",
   "metadata": {
    "papermill": {
     "duration": 0.022632,
     "end_time": "2025-08-05T16:17:56.676954",
     "exception": false,
     "start_time": "2025-08-05T16:17:56.654322",
     "status": "completed"
    },
    "tags": []
   },
   "source": [
    "# Loading Data"
   ]
  },
  {
   "cell_type": "code",
   "execution_count": 9,
   "id": "f0496b8a",
   "metadata": {
    "execution": {
     "iopub.execute_input": "2025-08-05T16:17:56.726934Z",
     "iopub.status.busy": "2025-08-05T16:17:56.726273Z",
     "iopub.status.idle": "2025-08-05T16:18:09.581396Z",
     "shell.execute_reply": "2025-08-05T16:18:09.580206Z"
    },
    "papermill": {
     "duration": 12.88304,
     "end_time": "2025-08-05T16:18:09.583031",
     "exception": false,
     "start_time": "2025-08-05T16:17:56.699991",
     "status": "completed"
    },
    "tags": []
   },
   "outputs": [
    {
     "name": "stdout",
     "output_type": "stream",
     "text": [
      "Loading SIAB data from cache: data/siab_cached.csv.gz\n"
     ]
    },
    {
     "name": "stdout",
     "output_type": "stream",
     "text": [
      "(643690, 164)\n"
     ]
    }
   ],
   "source": [
    "from pathlib import Path\n",
    "import pandas as pd\n",
    "\n",
    "# File paths\n",
    "raw_file = Path(\"data/raw/siab.csv\")\n",
    "cache_file = Path(\"data/siab_cached.csv.gz\")\n",
    "\n",
    "# Ensure cache directory exists\n",
    "cache_file.parent.mkdir(parents=True, exist_ok=True)\n",
    "\n",
    "# Load with simple caching\n",
    "if cache_file.exists():\n",
    "    print(f\"Loading SIAB data from cache: {cache_file}\")\n",
    "    siab = pd.read_csv(cache_file, compression='gzip')\n",
    "else:\n",
    "    print(f\"Cache not found. Reading raw SIAB data: {raw_file}\")\n",
    "    siab = pd.read_csv(raw_file)\n",
    "    siab.to_csv(cache_file, index=False, compression='gzip')\n",
    "    print(f\"Cached SIAB data to: {cache_file}\")\n",
    "\n",
    "print(siab.shape)"
   ]
  },
  {
   "cell_type": "code",
   "execution_count": 10,
   "id": "db0ca512-5f53-4dba-abdb-a2888bca41ba",
   "metadata": {
    "execution": {
     "iopub.execute_input": "2025-08-05T16:18:09.609192Z",
     "iopub.status.busy": "2025-08-05T16:18:09.608791Z",
     "iopub.status.idle": "2025-08-05T16:18:09.613871Z",
     "shell.execute_reply": "2025-08-05T16:18:09.613088Z"
    },
    "papermill": {
     "duration": 0.018551,
     "end_time": "2025-08-05T16:18:09.615331",
     "exception": false,
     "start_time": "2025-08-05T16:18:09.596780",
     "status": "completed"
    },
    "tags": []
   },
   "outputs": [],
   "source": [
    "#siab"
   ]
  },
  {
   "cell_type": "markdown",
   "id": "997051c5-15bd-4b69-9786-c3001a3ce484",
   "metadata": {
    "papermill": {
     "duration": 0.02146,
     "end_time": "2025-08-05T16:18:09.650048",
     "exception": false,
     "start_time": "2025-08-05T16:18:09.628588",
     "status": "completed"
    },
    "tags": []
   },
   "source": [
    "# Splitting Data and Setting Training Data Size"
   ]
  },
  {
   "cell_type": "code",
   "execution_count": 11,
   "id": "aea9c6ef-6f46-42c8-85eb-5a62025c1508",
   "metadata": {
    "execution": {
     "iopub.execute_input": "2025-08-05T16:18:09.693671Z",
     "iopub.status.busy": "2025-08-05T16:18:09.693157Z",
     "iopub.status.idle": "2025-08-05T16:18:10.345925Z",
     "shell.execute_reply": "2025-08-05T16:18:10.344783Z"
    },
    "papermill": {
     "duration": 0.675857,
     "end_time": "2025-08-05T16:18:10.348256",
     "exception": false,
     "start_time": "2025-08-05T16:18:09.672399",
     "status": "completed"
    },
    "tags": []
   },
   "outputs": [],
   "source": [
    "from fairness_multiverse.universe import sample_by_year_size\n",
    "\n",
    "siab_train = sample_by_year_size(siab,\n",
    "                               training_year=universe[\"training_year\"],\n",
    "                               training_size=universe[\"training_size\"])"
   ]
  },
  {
   "cell_type": "code",
   "execution_count": 12,
   "id": "8d3afb32-789d-442c-8d5d-9f5aa8dd2eed",
   "metadata": {
    "execution": {
     "iopub.execute_input": "2025-08-05T16:18:10.395843Z",
     "iopub.status.busy": "2025-08-05T16:18:10.395299Z",
     "iopub.status.idle": "2025-08-05T16:18:10.401389Z",
     "shell.execute_reply": "2025-08-05T16:18:10.399797Z"
    },
    "papermill": {
     "duration": 0.03147,
     "end_time": "2025-08-05T16:18:10.403648",
     "exception": false,
     "start_time": "2025-08-05T16:18:10.372178",
     "status": "completed"
    },
    "tags": []
   },
   "outputs": [],
   "source": [
    "#siab_train.shape"
   ]
  },
  {
   "cell_type": "code",
   "execution_count": 13,
   "id": "d582db68-1a4c-47fb-84fc-08518dc1975a",
   "metadata": {
    "execution": {
     "iopub.execute_input": "2025-08-05T16:18:10.450985Z",
     "iopub.status.busy": "2025-08-05T16:18:10.450173Z",
     "iopub.status.idle": "2025-08-05T16:18:10.456026Z",
     "shell.execute_reply": "2025-08-05T16:18:10.454954Z"
    },
    "papermill": {
     "duration": 0.030562,
     "end_time": "2025-08-05T16:18:10.457918",
     "exception": false,
     "start_time": "2025-08-05T16:18:10.427356",
     "status": "completed"
    },
    "tags": []
   },
   "outputs": [],
   "source": [
    "#display(siab_train.groupby(\"year\").size())"
   ]
  },
  {
   "cell_type": "code",
   "execution_count": 14,
   "id": "a561edb4-d032-42cb-8256-22eac1111c64",
   "metadata": {
    "execution": {
     "iopub.execute_input": "2025-08-05T16:18:10.503741Z",
     "iopub.status.busy": "2025-08-05T16:18:10.503175Z",
     "iopub.status.idle": "2025-08-05T16:18:10.796999Z",
     "shell.execute_reply": "2025-08-05T16:18:10.795845Z"
    },
    "papermill": {
     "duration": 0.319168,
     "end_time": "2025-08-05T16:18:10.799332",
     "exception": false,
     "start_time": "2025-08-05T16:18:10.480164",
     "status": "completed"
    },
    "tags": []
   },
   "outputs": [],
   "source": [
    "#siab_train = siab_s[siab_s.year < 2015]\n",
    "siab_calib = siab[siab.year == 2015]\n",
    "siab_test = siab[siab.year == 2016]"
   ]
  },
  {
   "cell_type": "code",
   "execution_count": 15,
   "id": "472de16f-c3db-4916-846b-1f0de9cf1746",
   "metadata": {
    "execution": {
     "iopub.execute_input": "2025-08-05T16:18:10.848344Z",
     "iopub.status.busy": "2025-08-05T16:18:10.847255Z",
     "iopub.status.idle": "2025-08-05T16:18:10.855501Z",
     "shell.execute_reply": "2025-08-05T16:18:10.854313Z"
    },
    "papermill": {
     "duration": 0.034823,
     "end_time": "2025-08-05T16:18:10.857512",
     "exception": false,
     "start_time": "2025-08-05T16:18:10.822689",
     "status": "completed"
    },
    "tags": []
   },
   "outputs": [],
   "source": [
    "X_train = siab_train.iloc[:,4:164]\n",
    "y_train = siab_train.iloc[:, [3]]"
   ]
  },
  {
   "cell_type": "code",
   "execution_count": 16,
   "id": "828c96af-f43a-4ed6-ba47-8ac73a47d56c",
   "metadata": {
    "execution": {
     "iopub.execute_input": "2025-08-05T16:18:10.906861Z",
     "iopub.status.busy": "2025-08-05T16:18:10.906027Z",
     "iopub.status.idle": "2025-08-05T16:18:10.964213Z",
     "shell.execute_reply": "2025-08-05T16:18:10.963208Z"
    },
    "papermill": {
     "duration": 0.084623,
     "end_time": "2025-08-05T16:18:10.965923",
     "exception": false,
     "start_time": "2025-08-05T16:18:10.881300",
     "status": "completed"
    },
    "tags": []
   },
   "outputs": [],
   "source": [
    "X_calib = siab_calib.iloc[:,4:164]\n",
    "y_calib = siab_calib.iloc[:, [3]]"
   ]
  },
  {
   "cell_type": "code",
   "execution_count": 17,
   "id": "c34be9c3-6bd6-476e-acd3-845840e303be",
   "metadata": {
    "execution": {
     "iopub.execute_input": "2025-08-05T16:18:11.019253Z",
     "iopub.status.busy": "2025-08-05T16:18:11.018512Z",
     "iopub.status.idle": "2025-08-05T16:18:11.073663Z",
     "shell.execute_reply": "2025-08-05T16:18:11.072414Z"
    },
    "papermill": {
     "duration": 0.085707,
     "end_time": "2025-08-05T16:18:11.075203",
     "exception": false,
     "start_time": "2025-08-05T16:18:10.989496",
     "status": "completed"
    },
    "tags": []
   },
   "outputs": [],
   "source": [
    "X_test = siab_test.iloc[:,4:164]\n",
    "y_true = siab_test.iloc[:, [3]]"
   ]
  },
  {
   "cell_type": "code",
   "execution_count": 18,
   "id": "e6c733c5",
   "metadata": {
    "execution": {
     "iopub.execute_input": "2025-08-05T16:18:11.101573Z",
     "iopub.status.busy": "2025-08-05T16:18:11.100697Z",
     "iopub.status.idle": "2025-08-05T16:18:11.199853Z",
     "shell.execute_reply": "2025-08-05T16:18:11.198899Z"
    },
    "papermill": {
     "duration": 0.113854,
     "end_time": "2025-08-05T16:18:11.201666",
     "exception": false,
     "start_time": "2025-08-05T16:18:11.087812",
     "status": "completed"
    },
    "tags": []
   },
   "outputs": [],
   "source": [
    "# Auxiliary data needed downstream in the pipeline\n",
    "\n",
    "org_train = X_train.copy()\n",
    "org_test = X_test.copy()\n",
    "org_calib = X_calib.copy()"
   ]
  },
  {
   "cell_type": "markdown",
   "id": "0a4a1b33",
   "metadata": {
    "papermill": {
     "duration": 0.011676,
     "end_time": "2025-08-05T16:18:11.225734",
     "exception": false,
     "start_time": "2025-08-05T16:18:11.214058",
     "status": "completed"
    },
    "tags": []
   },
   "source": [
    "# Preprocessing Data"
   ]
  },
  {
   "cell_type": "code",
   "execution_count": 19,
   "id": "ca879031",
   "metadata": {
    "execution": {
     "iopub.execute_input": "2025-08-05T16:18:11.252952Z",
     "iopub.status.busy": "2025-08-05T16:18:11.252503Z",
     "iopub.status.idle": "2025-08-05T16:18:11.259759Z",
     "shell.execute_reply": "2025-08-05T16:18:11.258774Z"
    },
    "papermill": {
     "duration": 0.022285,
     "end_time": "2025-08-05T16:18:11.261364",
     "exception": false,
     "start_time": "2025-08-05T16:18:11.239079",
     "status": "completed"
    },
    "tags": []
   },
   "outputs": [],
   "source": [
    "# EXCLUDE PROTECTED FEATURES\n",
    "# ----------------------\n",
    "# \"exclude_features\": \"none\", # \"nationality\", \"sex\", \"nationality-sex\"\n",
    "\n",
    "excluded_features = universe[\"exclude_features\"].split(\"-\") # split, e.g.: \"nationality-sex\" -> [\"nationality\", \"sex\"]\n",
    "excluded_features_dictionary = {\n",
    "    \"nationality\": [\"maxdeutsch1\", \"maxdeutsch.Missing.\"],\n",
    "    \"sex\": [\"frau1\"],\n",
    "    \"age\": [\"age\"],\n",
    "}"
   ]
  },
  {
   "cell_type": "code",
   "execution_count": 20,
   "id": "b745ac60",
   "metadata": {
    "execution": {
     "iopub.execute_input": "2025-08-05T16:18:11.286924Z",
     "iopub.status.busy": "2025-08-05T16:18:11.286054Z",
     "iopub.status.idle": "2025-08-05T16:18:11.292172Z",
     "shell.execute_reply": "2025-08-05T16:18:11.291227Z"
    },
    "papermill": {
     "duration": 0.020561,
     "end_time": "2025-08-05T16:18:11.293936",
     "exception": false,
     "start_time": "2025-08-05T16:18:11.273375",
     "status": "completed"
    },
    "tags": []
   },
   "outputs": [],
   "source": [
    "# Code nice names to column names\n",
    "\n",
    "excluded_features_columns = [\n",
    "    excluded_features_dictionary[f] for f in excluded_features if len(f) > 0 and f != \"none\"\n",
    "]"
   ]
  },
  {
   "cell_type": "code",
   "execution_count": 21,
   "id": "f84f73a2",
   "metadata": {
    "execution": {
     "iopub.execute_input": "2025-08-05T16:18:11.319504Z",
     "iopub.status.busy": "2025-08-05T16:18:11.318842Z",
     "iopub.status.idle": "2025-08-05T16:18:11.325259Z",
     "shell.execute_reply": "2025-08-05T16:18:11.324411Z"
    },
    "papermill": {
     "duration": 0.020506,
     "end_time": "2025-08-05T16:18:11.326791",
     "exception": false,
     "start_time": "2025-08-05T16:18:11.306285",
     "status": "completed"
    },
    "tags": []
   },
   "outputs": [],
   "source": [
    "from utils import flatten_once\n",
    "\n",
    "excluded_features_columns = flatten_once(excluded_features_columns)"
   ]
  },
  {
   "cell_type": "code",
   "execution_count": 22,
   "id": "884dea22",
   "metadata": {
    "execution": {
     "iopub.execute_input": "2025-08-05T16:18:11.351858Z",
     "iopub.status.busy": "2025-08-05T16:18:11.351229Z",
     "iopub.status.idle": "2025-08-05T16:18:11.359440Z",
     "shell.execute_reply": "2025-08-05T16:18:11.358474Z"
    },
    "papermill": {
     "duration": 0.022287,
     "end_time": "2025-08-05T16:18:11.361029",
     "exception": false,
     "start_time": "2025-08-05T16:18:11.338742",
     "status": "completed"
    },
    "tags": []
   },
   "outputs": [
    {
     "name": "stdout",
     "output_type": "stream",
     "text": [
      "Dropping features: ['age']\n"
     ]
    }
   ],
   "source": [
    "if len(excluded_features_columns) > 0:\n",
    "    print(f\"Dropping features: {excluded_features_columns}\")\n",
    "    X_train.drop(excluded_features_columns, axis=1, inplace=True)"
   ]
  },
  {
   "cell_type": "code",
   "execution_count": 23,
   "id": "95ab8b16",
   "metadata": {
    "execution": {
     "iopub.execute_input": "2025-08-05T16:18:11.387360Z",
     "iopub.status.busy": "2025-08-05T16:18:11.386559Z",
     "iopub.status.idle": "2025-08-05T16:18:11.440398Z",
     "shell.execute_reply": "2025-08-05T16:18:11.439394Z"
    },
    "papermill": {
     "duration": 0.068397,
     "end_time": "2025-08-05T16:18:11.442064",
     "exception": false,
     "start_time": "2025-08-05T16:18:11.373667",
     "status": "completed"
    },
    "tags": []
   },
   "outputs": [
    {
     "name": "stdout",
     "output_type": "stream",
     "text": [
      "Dropping features: ['age']\n"
     ]
    }
   ],
   "source": [
    "if len(excluded_features_columns) > 0:\n",
    "    print(f\"Dropping features: {excluded_features_columns}\")\n",
    "    X_test.drop(excluded_features_columns, axis=1, inplace=True)"
   ]
  },
  {
   "cell_type": "code",
   "execution_count": 24,
   "id": "1853aaf5-fb9f-46cb-a2b5-8ea4ae2237e4",
   "metadata": {
    "execution": {
     "iopub.execute_input": "2025-08-05T16:18:11.468141Z",
     "iopub.status.busy": "2025-08-05T16:18:11.467664Z",
     "iopub.status.idle": "2025-08-05T16:18:11.520632Z",
     "shell.execute_reply": "2025-08-05T16:18:11.519465Z"
    },
    "papermill": {
     "duration": 0.067607,
     "end_time": "2025-08-05T16:18:11.522285",
     "exception": false,
     "start_time": "2025-08-05T16:18:11.454678",
     "status": "completed"
    },
    "tags": []
   },
   "outputs": [
    {
     "name": "stdout",
     "output_type": "stream",
     "text": [
      "Dropping features: ['age']\n"
     ]
    }
   ],
   "source": [
    "if len(excluded_features_columns) > 0:\n",
    "    print(f\"Dropping features: {excluded_features_columns}\")\n",
    "    X_calib.drop(excluded_features_columns, axis=1, inplace=True)"
   ]
  },
  {
   "cell_type": "code",
   "execution_count": 25,
   "id": "76c4dc6d",
   "metadata": {
    "execution": {
     "iopub.execute_input": "2025-08-05T16:18:11.548362Z",
     "iopub.status.busy": "2025-08-05T16:18:11.547675Z",
     "iopub.status.idle": "2025-08-05T16:18:11.553403Z",
     "shell.execute_reply": "2025-08-05T16:18:11.552471Z"
    },
    "papermill": {
     "duration": 0.020105,
     "end_time": "2025-08-05T16:18:11.555041",
     "exception": false,
     "start_time": "2025-08-05T16:18:11.534936",
     "status": "completed"
    },
    "tags": []
   },
   "outputs": [],
   "source": [
    "# EXCLUDE CERTAIN SUBGROUPS\n",
    "# ----------------------\n",
    "\n",
    "mode = universe.get(\"exclude_subgroups\", \"keep-all\") \n",
    "# Fetches the exclude_subgroups setting from the universe dict.\n",
    "# Defaults to \"keep-all\" if the key is missing."
   ]
  },
  {
   "cell_type": "code",
   "execution_count": 26,
   "id": "21994072",
   "metadata": {
    "execution": {
     "iopub.execute_input": "2025-08-05T16:18:11.581564Z",
     "iopub.status.busy": "2025-08-05T16:18:11.580735Z",
     "iopub.status.idle": "2025-08-05T16:18:11.587484Z",
     "shell.execute_reply": "2025-08-05T16:18:11.586486Z"
    },
    "papermill": {
     "duration": 0.021594,
     "end_time": "2025-08-05T16:18:11.588985",
     "exception": false,
     "start_time": "2025-08-05T16:18:11.567391",
     "status": "completed"
    },
    "tags": []
   },
   "outputs": [],
   "source": [
    "if mode == \"keep-all\":\n",
    "    keep_mask = pd.Series(True, index=org_train.index)\n",
    "\n",
    "# org_train contains the original feature columns from features_org (in Simson)\n",
    "# features_org contains unprocessed features, for me X_train at beginning ???\n",
    "# For keep-all, creates a boolean Series (keep_mask) of all True, so no rows are removed.\n",
    "\n",
    "elif mode == \"drop-non-german\":\n",
    "    keep_mask = org_train[\"maxdeutsch1\"] == 1 # ??? what about missing values?\n",
    "\n",
    "else:\n",
    "    raise ValueError(f\"Unsupported mode for exclude_subgroups: {mode}\")"
   ]
  },
  {
   "cell_type": "code",
   "execution_count": 27,
   "id": "71651440",
   "metadata": {
    "execution": {
     "iopub.execute_input": "2025-08-05T16:18:11.615131Z",
     "iopub.status.busy": "2025-08-05T16:18:11.614829Z",
     "iopub.status.idle": "2025-08-05T16:18:11.620761Z",
     "shell.execute_reply": "2025-08-05T16:18:11.619788Z"
    },
    "papermill": {
     "duration": 0.020808,
     "end_time": "2025-08-05T16:18:11.622400",
     "exception": false,
     "start_time": "2025-08-05T16:18:11.601592",
     "status": "completed"
    },
    "tags": []
   },
   "outputs": [],
   "source": [
    "n_drop = (~keep_mask).sum() # Calculates how many rows are set to be dropped\n",
    "if n_drop > 0:\n",
    "    pct = n_drop / len(keep_mask) * 100\n",
    "    print(f\"Dropping {n_drop} rows ({pct:.2f}%) where mode='{mode}'\")"
   ]
  },
  {
   "cell_type": "code",
   "execution_count": 28,
   "id": "5fb8eee5",
   "metadata": {
    "execution": {
     "iopub.execute_input": "2025-08-05T16:18:11.648946Z",
     "iopub.status.busy": "2025-08-05T16:18:11.648297Z",
     "iopub.status.idle": "2025-08-05T16:18:11.654614Z",
     "shell.execute_reply": "2025-08-05T16:18:11.653725Z"
    },
    "papermill": {
     "duration": 0.021103,
     "end_time": "2025-08-05T16:18:11.656201",
     "exception": false,
     "start_time": "2025-08-05T16:18:11.635098",
     "status": "completed"
    },
    "tags": []
   },
   "outputs": [],
   "source": [
    "X_train = X_train[keep_mask]"
   ]
  },
  {
   "cell_type": "code",
   "execution_count": 29,
   "id": "b202bb3a",
   "metadata": {
    "execution": {
     "iopub.execute_input": "2025-08-05T16:18:11.691546Z",
     "iopub.status.busy": "2025-08-05T16:18:11.690321Z",
     "iopub.status.idle": "2025-08-05T16:18:11.697297Z",
     "shell.execute_reply": "2025-08-05T16:18:11.696135Z"
    },
    "papermill": {
     "duration": 0.030727,
     "end_time": "2025-08-05T16:18:11.699312",
     "exception": false,
     "start_time": "2025-08-05T16:18:11.668585",
     "status": "completed"
    },
    "tags": []
   },
   "outputs": [],
   "source": [
    "y_train = y_train[keep_mask]"
   ]
  },
  {
   "cell_type": "markdown",
   "id": "493e2ac3",
   "metadata": {
    "papermill": {
     "duration": 0.02399,
     "end_time": "2025-08-05T16:18:11.747533",
     "exception": false,
     "start_time": "2025-08-05T16:18:11.723543",
     "status": "completed"
    },
    "tags": []
   },
   "source": [
    "# Model Training"
   ]
  },
  {
   "cell_type": "code",
   "execution_count": 30,
   "id": "679e1268",
   "metadata": {
    "execution": {
     "iopub.execute_input": "2025-08-05T16:18:11.787457Z",
     "iopub.status.busy": "2025-08-05T16:18:11.786981Z",
     "iopub.status.idle": "2025-08-05T16:18:11.873457Z",
     "shell.execute_reply": "2025-08-05T16:18:11.872524Z"
    },
    "papermill": {
     "duration": 0.104483,
     "end_time": "2025-08-05T16:18:11.875913",
     "exception": false,
     "start_time": "2025-08-05T16:18:11.771430",
     "status": "completed"
    },
    "tags": []
   },
   "outputs": [],
   "source": [
    "from sklearn.linear_model import LogisticRegression\n",
    "from sklearn.ensemble import GradientBoostingClassifier, RandomForestClassifier\n",
    "\n",
    "if (universe[\"model\"] == \"logreg\"):\n",
    "    model = LogisticRegression() #penalty=\"none\", solver=\"newton-cg\", max_iter=1) # include random_state=19 ?\n",
    "elif (universe[\"model\"] == \"penalized_logreg\"):\n",
    "    model = LogisticRegression(penalty=\"l2\", C=0.1) #, solver=\"newton-cg\", max_iter=1)\n",
    "elif (universe[\"model\"] == \"rf\"):\n",
    "    model = RandomForestClassifier() # n_estimators=100, n_jobs=-1\n",
    "elif (universe[\"model\"] == \"gbm\"):\n",
    "    model = GradientBoostingClassifier()\n",
    "elif (universe[\"model\"] == \"elasticnet\"):\n",
    "    model = LogisticRegression(penalty = 'elasticnet', solver = 'saga', l1_ratio = 0.5) # max_iter=5000\n",
    "else:\n",
    "    raise \"Unsupported universe.model\""
   ]
  },
  {
   "cell_type": "code",
   "execution_count": 31,
   "id": "0cc8f744",
   "metadata": {
    "execution": {
     "iopub.execute_input": "2025-08-05T16:18:11.928320Z",
     "iopub.status.busy": "2025-08-05T16:18:11.927454Z",
     "iopub.status.idle": "2025-08-05T16:18:11.934972Z",
     "shell.execute_reply": "2025-08-05T16:18:11.933811Z"
    },
    "papermill": {
     "duration": 0.035152,
     "end_time": "2025-08-05T16:18:11.936817",
     "exception": false,
     "start_time": "2025-08-05T16:18:11.901665",
     "status": "completed"
    },
    "tags": []
   },
   "outputs": [],
   "source": [
    "import numpy as np\n",
    "from sklearn.pipeline import Pipeline\n",
    "from sklearn.preprocessing import StandardScaler\n",
    "\n",
    "model = Pipeline([\n",
    "    #(\"continuous_processor\", continuous_processor),\n",
    "    #(\"categorical_preprocessor\", categorical_preprocessor),\n",
    "    (\"scale\", StandardScaler() if universe[\"scale\"] == \"scale\" else None), \n",
    "    (\"model\", model),\n",
    "])"
   ]
  },
  {
   "cell_type": "code",
   "execution_count": 32,
   "id": "9442c04d",
   "metadata": {
    "execution": {
     "iopub.execute_input": "2025-08-05T16:18:11.982389Z",
     "iopub.status.busy": "2025-08-05T16:18:11.981706Z",
     "iopub.status.idle": "2025-08-05T16:18:12.030577Z",
     "shell.execute_reply": "2025-08-05T16:18:12.029757Z"
    },
    "papermill": {
     "duration": 0.073752,
     "end_time": "2025-08-05T16:18:12.032400",
     "exception": false,
     "start_time": "2025-08-05T16:18:11.958648",
     "status": "completed"
    },
    "tags": []
   },
   "outputs": [
    {
     "data": {
      "text/html": [
       "<style>#sk-container-id-1 {color: black;background-color: white;}#sk-container-id-1 pre{padding: 0;}#sk-container-id-1 div.sk-toggleable {background-color: white;}#sk-container-id-1 label.sk-toggleable__label {cursor: pointer;display: block;width: 100%;margin-bottom: 0;padding: 0.3em;box-sizing: border-box;text-align: center;}#sk-container-id-1 label.sk-toggleable__label-arrow:before {content: \"▸\";float: left;margin-right: 0.25em;color: #696969;}#sk-container-id-1 label.sk-toggleable__label-arrow:hover:before {color: black;}#sk-container-id-1 div.sk-estimator:hover label.sk-toggleable__label-arrow:before {color: black;}#sk-container-id-1 div.sk-toggleable__content {max-height: 0;max-width: 0;overflow: hidden;text-align: left;background-color: #f0f8ff;}#sk-container-id-1 div.sk-toggleable__content pre {margin: 0.2em;color: black;border-radius: 0.25em;background-color: #f0f8ff;}#sk-container-id-1 input.sk-toggleable__control:checked~div.sk-toggleable__content {max-height: 200px;max-width: 100%;overflow: auto;}#sk-container-id-1 input.sk-toggleable__control:checked~label.sk-toggleable__label-arrow:before {content: \"▾\";}#sk-container-id-1 div.sk-estimator input.sk-toggleable__control:checked~label.sk-toggleable__label {background-color: #d4ebff;}#sk-container-id-1 div.sk-label input.sk-toggleable__control:checked~label.sk-toggleable__label {background-color: #d4ebff;}#sk-container-id-1 input.sk-hidden--visually {border: 0;clip: rect(1px 1px 1px 1px);clip: rect(1px, 1px, 1px, 1px);height: 1px;margin: -1px;overflow: hidden;padding: 0;position: absolute;width: 1px;}#sk-container-id-1 div.sk-estimator {font-family: monospace;background-color: #f0f8ff;border: 1px dotted black;border-radius: 0.25em;box-sizing: border-box;margin-bottom: 0.5em;}#sk-container-id-1 div.sk-estimator:hover {background-color: #d4ebff;}#sk-container-id-1 div.sk-parallel-item::after {content: \"\";width: 100%;border-bottom: 1px solid gray;flex-grow: 1;}#sk-container-id-1 div.sk-label:hover label.sk-toggleable__label {background-color: #d4ebff;}#sk-container-id-1 div.sk-serial::before {content: \"\";position: absolute;border-left: 1px solid gray;box-sizing: border-box;top: 0;bottom: 0;left: 50%;z-index: 0;}#sk-container-id-1 div.sk-serial {display: flex;flex-direction: column;align-items: center;background-color: white;padding-right: 0.2em;padding-left: 0.2em;position: relative;}#sk-container-id-1 div.sk-item {position: relative;z-index: 1;}#sk-container-id-1 div.sk-parallel {display: flex;align-items: stretch;justify-content: center;background-color: white;position: relative;}#sk-container-id-1 div.sk-item::before, #sk-container-id-1 div.sk-parallel-item::before {content: \"\";position: absolute;border-left: 1px solid gray;box-sizing: border-box;top: 0;bottom: 0;left: 50%;z-index: -1;}#sk-container-id-1 div.sk-parallel-item {display: flex;flex-direction: column;z-index: 1;position: relative;background-color: white;}#sk-container-id-1 div.sk-parallel-item:first-child::after {align-self: flex-end;width: 50%;}#sk-container-id-1 div.sk-parallel-item:last-child::after {align-self: flex-start;width: 50%;}#sk-container-id-1 div.sk-parallel-item:only-child::after {width: 0;}#sk-container-id-1 div.sk-dashed-wrapped {border: 1px dashed gray;margin: 0 0.4em 0.5em 0.4em;box-sizing: border-box;padding-bottom: 0.4em;background-color: white;}#sk-container-id-1 div.sk-label label {font-family: monospace;font-weight: bold;display: inline-block;line-height: 1.2em;}#sk-container-id-1 div.sk-label-container {text-align: center;}#sk-container-id-1 div.sk-container {/* jupyter's `normalize.less` sets `[hidden] { display: none; }` but bootstrap.min.css set `[hidden] { display: none !important; }` so we also need the `!important` here to be able to override the default hidden behavior on the sphinx rendered scikit-learn.org. See: https://github.com/scikit-learn/scikit-learn/issues/21755 */display: inline-block !important;position: relative;}#sk-container-id-1 div.sk-text-repr-fallback {display: none;}</style><div id=\"sk-container-id-1\" class=\"sk-top-container\"><div class=\"sk-text-repr-fallback\"><pre>Pipeline(steps=[(&#x27;scale&#x27;, StandardScaler()),\n",
       "                (&#x27;model&#x27;, LogisticRegression(C=0.1))])</pre><b>In a Jupyter environment, please rerun this cell to show the HTML representation or trust the notebook. <br />On GitHub, the HTML representation is unable to render, please try loading this page with nbviewer.org.</b></div><div class=\"sk-container\" hidden><div class=\"sk-item sk-dashed-wrapped\"><div class=\"sk-label-container\"><div class=\"sk-label sk-toggleable\"><input class=\"sk-toggleable__control sk-hidden--visually\" id=\"sk-estimator-id-1\" type=\"checkbox\" ><label for=\"sk-estimator-id-1\" class=\"sk-toggleable__label sk-toggleable__label-arrow\">Pipeline</label><div class=\"sk-toggleable__content\"><pre>Pipeline(steps=[(&#x27;scale&#x27;, StandardScaler()),\n",
       "                (&#x27;model&#x27;, LogisticRegression(C=0.1))])</pre></div></div></div><div class=\"sk-serial\"><div class=\"sk-item\"><div class=\"sk-estimator sk-toggleable\"><input class=\"sk-toggleable__control sk-hidden--visually\" id=\"sk-estimator-id-2\" type=\"checkbox\" ><label for=\"sk-estimator-id-2\" class=\"sk-toggleable__label sk-toggleable__label-arrow\">StandardScaler</label><div class=\"sk-toggleable__content\"><pre>StandardScaler()</pre></div></div></div><div class=\"sk-item\"><div class=\"sk-estimator sk-toggleable\"><input class=\"sk-toggleable__control sk-hidden--visually\" id=\"sk-estimator-id-3\" type=\"checkbox\" ><label for=\"sk-estimator-id-3\" class=\"sk-toggleable__label sk-toggleable__label-arrow\">LogisticRegression</label><div class=\"sk-toggleable__content\"><pre>LogisticRegression(C=0.1)</pre></div></div></div></div></div></div></div>"
      ],
      "text/plain": [
       "Pipeline(steps=[('scale', StandardScaler()),\n",
       "                ('model', LogisticRegression(C=0.1))])"
      ]
     },
     "execution_count": 32,
     "metadata": {},
     "output_type": "execute_result"
    }
   ],
   "source": [
    "model.fit(X_train, y_train.values.ravel())"
   ]
  },
  {
   "cell_type": "code",
   "execution_count": 33,
   "id": "af59f8c0",
   "metadata": {
    "execution": {
     "iopub.execute_input": "2025-08-05T16:18:12.087769Z",
     "iopub.status.busy": "2025-08-05T16:18:12.087218Z",
     "iopub.status.idle": "2025-08-05T16:18:12.093391Z",
     "shell.execute_reply": "2025-08-05T16:18:12.092215Z"
    },
    "papermill": {
     "duration": 0.03322,
     "end_time": "2025-08-05T16:18:12.095537",
     "exception": false,
     "start_time": "2025-08-05T16:18:12.062317",
     "status": "completed"
    },
    "tags": []
   },
   "outputs": [],
   "source": [
    "from fairness_multiverse.universe import predict_w_threshold"
   ]
  },
  {
   "cell_type": "code",
   "execution_count": 34,
   "id": "a7cf2e16",
   "metadata": {
    "execution": {
     "iopub.execute_input": "2025-08-05T16:18:12.150065Z",
     "iopub.status.busy": "2025-08-05T16:18:12.148993Z",
     "iopub.status.idle": "2025-08-05T16:18:12.369817Z",
     "shell.execute_reply": "2025-08-05T16:18:12.368573Z"
    },
    "papermill": {
     "duration": 0.254311,
     "end_time": "2025-08-05T16:18:12.376878",
     "exception": false,
     "start_time": "2025-08-05T16:18:12.122567",
     "status": "completed"
    },
    "tags": []
   },
   "outputs": [
    {
     "data": {
      "text/plain": [
       "0.840363393155724"
      ]
     },
     "execution_count": 34,
     "metadata": {},
     "output_type": "execute_result"
    }
   ],
   "source": [
    "probs_test = model.predict_proba(X_test)\n",
    "\n",
    "'''\n",
    "Below code returns a boolean array (or binary 0/1 array depending on how it’s used) where each element \n",
    "is True if the probability of class 1 is greater than or equal to the threshold, and False otherwise.\n",
    "'''\n",
    "y_pred_default = predict_w_threshold(probs_test, 0.5)\n",
    "\n",
    "from sklearn.metrics import accuracy_score\n",
    "\n",
    "# Naive prediction\n",
    "accuracy_score(y_true = y_true, y_pred = y_pred_default)"
   ]
  },
  {
   "cell_type": "code",
   "execution_count": 35,
   "id": "081964c3",
   "metadata": {
    "execution": {
     "iopub.execute_input": "2025-08-05T16:18:12.436512Z",
     "iopub.status.busy": "2025-08-05T16:18:12.435946Z",
     "iopub.status.idle": "2025-08-05T16:18:12.633109Z",
     "shell.execute_reply": "2025-08-05T16:18:12.631858Z"
    },
    "papermill": {
     "duration": 0.231074,
     "end_time": "2025-08-05T16:18:12.635630",
     "exception": false,
     "start_time": "2025-08-05T16:18:12.404556",
     "status": "completed"
    },
    "tags": []
   },
   "outputs": [
    {
     "data": {
      "text/plain": [
       "array([0, 0, 0, ..., 0, 0, 0])"
      ]
     },
     "execution_count": 35,
     "metadata": {},
     "output_type": "execute_result"
    }
   ],
   "source": [
    "model.predict(X_test)"
   ]
  },
  {
   "cell_type": "markdown",
   "id": "56c9705b",
   "metadata": {
    "papermill": {
     "duration": 0.02786,
     "end_time": "2025-08-05T16:18:12.692633",
     "exception": false,
     "start_time": "2025-08-05T16:18:12.664773",
     "status": "completed"
    },
    "tags": []
   },
   "source": [
    "# Conformal Prediction"
   ]
  },
  {
   "cell_type": "code",
   "execution_count": 36,
   "id": "160ec6ff",
   "metadata": {
    "execution": {
     "iopub.execute_input": "2025-08-05T16:18:12.748894Z",
     "iopub.status.busy": "2025-08-05T16:18:12.748378Z",
     "iopub.status.idle": "2025-08-05T16:18:12.753964Z",
     "shell.execute_reply": "2025-08-05T16:18:12.752929Z"
    },
    "papermill": {
     "duration": 0.036193,
     "end_time": "2025-08-05T16:18:12.756335",
     "exception": false,
     "start_time": "2025-08-05T16:18:12.720142",
     "status": "completed"
    },
    "tags": []
   },
   "outputs": [],
   "source": [
    "# Miscoverage level for conformal prediction (10% allowed error rate => 90% target coverage)\n",
    "alpha = 0.1"
   ]
  },
  {
   "cell_type": "code",
   "execution_count": 37,
   "id": "eadf4555-3dd3-440e-8e35-f82a4ad9f855",
   "metadata": {
    "execution": {
     "iopub.execute_input": "2025-08-05T16:18:12.808426Z",
     "iopub.status.busy": "2025-08-05T16:18:12.807707Z",
     "iopub.status.idle": "2025-08-05T16:18:12.996491Z",
     "shell.execute_reply": "2025-08-05T16:18:12.995565Z"
    },
    "papermill": {
     "duration": 0.214548,
     "end_time": "2025-08-05T16:18:12.998242",
     "exception": false,
     "start_time": "2025-08-05T16:18:12.783694",
     "status": "completed"
    },
    "tags": []
   },
   "outputs": [],
   "source": [
    "probs_calib = model.predict_proba(X_calib)"
   ]
  },
  {
   "cell_type": "code",
   "execution_count": 38,
   "id": "2ed93547-6d5d-4983-9b36-1ecb300da49a",
   "metadata": {
    "execution": {
     "iopub.execute_input": "2025-08-05T16:18:13.026168Z",
     "iopub.status.busy": "2025-08-05T16:18:13.025784Z",
     "iopub.status.idle": "2025-08-05T16:18:13.030641Z",
     "shell.execute_reply": "2025-08-05T16:18:13.029774Z"
    },
    "papermill": {
     "duration": 0.020185,
     "end_time": "2025-08-05T16:18:13.032306",
     "exception": false,
     "start_time": "2025-08-05T16:18:13.012121",
     "status": "completed"
    },
    "tags": []
   },
   "outputs": [],
   "source": [
    "y_calib = y_calib.values.ravel().astype(int)"
   ]
  },
  {
   "cell_type": "code",
   "execution_count": 39,
   "id": "65d1320d-f588-4b38-9072-62af1ae97f7d",
   "metadata": {
    "execution": {
     "iopub.execute_input": "2025-08-05T16:18:13.079664Z",
     "iopub.status.busy": "2025-08-05T16:18:13.079188Z",
     "iopub.status.idle": "2025-08-05T16:18:13.085063Z",
     "shell.execute_reply": "2025-08-05T16:18:13.084220Z"
    },
    "papermill": {
     "duration": 0.031167,
     "end_time": "2025-08-05T16:18:13.086549",
     "exception": false,
     "start_time": "2025-08-05T16:18:13.055382",
     "status": "completed"
    },
    "tags": []
   },
   "outputs": [],
   "source": [
    "from fairness_multiverse.conformal import compute_nc_scores\n",
    "\n",
    "# Compute nonconformity scores on calibration set (1 - probability of true class)\n",
    "nc_scores = compute_nc_scores(probs_calib, y_calib)"
   ]
  },
  {
   "cell_type": "code",
   "execution_count": 40,
   "id": "df3b8ca3-53b7-43d5-9667-7c85da7aeda2",
   "metadata": {
    "execution": {
     "iopub.execute_input": "2025-08-05T16:18:13.113747Z",
     "iopub.status.busy": "2025-08-05T16:18:13.113308Z",
     "iopub.status.idle": "2025-08-05T16:18:13.120430Z",
     "shell.execute_reply": "2025-08-05T16:18:13.119498Z"
    },
    "papermill": {
     "duration": 0.02249,
     "end_time": "2025-08-05T16:18:13.122053",
     "exception": false,
     "start_time": "2025-08-05T16:18:13.099563",
     "status": "completed"
    },
    "tags": []
   },
   "outputs": [],
   "source": [
    "from fairness_multiverse.conformal import find_threshold\n",
    "\n",
    "# Find conformal threshold q_hat for the given alpha (split conformal method)\n",
    "q_hat = find_threshold(nc_scores, alpha)"
   ]
  },
  {
   "cell_type": "code",
   "execution_count": 41,
   "id": "4d29e6c1-0ef6-4aa4-b8fe-4fe79b0d033a",
   "metadata": {
    "execution": {
     "iopub.execute_input": "2025-08-05T16:18:13.149247Z",
     "iopub.status.busy": "2025-08-05T16:18:13.148764Z",
     "iopub.status.idle": "2025-08-05T16:18:13.159209Z",
     "shell.execute_reply": "2025-08-05T16:18:13.158164Z"
    },
    "papermill": {
     "duration": 0.025921,
     "end_time": "2025-08-05T16:18:13.161165",
     "exception": false,
     "start_time": "2025-08-05T16:18:13.135244",
     "status": "completed"
    },
    "tags": []
   },
   "outputs": [
    {
     "data": {
      "text/plain": [
       "0.7578490288752924"
      ]
     },
     "execution_count": 41,
     "metadata": {},
     "output_type": "execute_result"
    }
   ],
   "source": [
    "q_hat"
   ]
  },
  {
   "cell_type": "code",
   "execution_count": 42,
   "id": "92460794-cdac-4be2-ba28-f28c0515a6fb",
   "metadata": {
    "execution": {
     "iopub.execute_input": "2025-08-05T16:18:13.211897Z",
     "iopub.status.busy": "2025-08-05T16:18:13.211433Z",
     "iopub.status.idle": "2025-08-05T16:18:14.218712Z",
     "shell.execute_reply": "2025-08-05T16:18:14.217576Z"
    },
    "papermill": {
     "duration": 1.038087,
     "end_time": "2025-08-05T16:18:14.220745",
     "exception": false,
     "start_time": "2025-08-05T16:18:13.182658",
     "status": "completed"
    },
    "tags": []
   },
   "outputs": [],
   "source": [
    "from fairness_multiverse.conformal import predict_conformal_sets\n",
    "\n",
    "# Generate prediction sets for each test example\n",
    "pred_sets = predict_conformal_sets(model, X_test, q_hat)"
   ]
  },
  {
   "cell_type": "code",
   "execution_count": 43,
   "id": "d90c9a65-e6db-4f5d-80cd-e68fb7e46829",
   "metadata": {
    "execution": {
     "iopub.execute_input": "2025-08-05T16:18:14.275258Z",
     "iopub.status.busy": "2025-08-05T16:18:14.274695Z",
     "iopub.status.idle": "2025-08-05T16:18:14.281361Z",
     "shell.execute_reply": "2025-08-05T16:18:14.280103Z"
    },
    "papermill": {
     "duration": 0.03691,
     "end_time": "2025-08-05T16:18:14.283383",
     "exception": false,
     "start_time": "2025-08-05T16:18:14.246473",
     "status": "completed"
    },
    "tags": []
   },
   "outputs": [],
   "source": [
    "y_true = y_true.squeeze()"
   ]
  },
  {
   "cell_type": "code",
   "execution_count": 44,
   "id": "3a58a54a-1e68-46b9-927a-df01f18aebc8",
   "metadata": {
    "execution": {
     "iopub.execute_input": "2025-08-05T16:18:14.324854Z",
     "iopub.status.busy": "2025-08-05T16:18:14.324426Z",
     "iopub.status.idle": "2025-08-05T16:18:15.432279Z",
     "shell.execute_reply": "2025-08-05T16:18:15.431353Z"
    },
    "papermill": {
     "duration": 1.124198,
     "end_time": "2025-08-05T16:18:15.434092",
     "exception": false,
     "start_time": "2025-08-05T16:18:14.309894",
     "status": "completed"
    },
    "tags": []
   },
   "outputs": [],
   "source": [
    "from fairness_multiverse.conformal import evaluate_sets\n",
    "\n",
    "# Evaluate coverage and average set size on test data\n",
    "metrics = evaluate_sets(pred_sets, y_true)"
   ]
  },
  {
   "cell_type": "markdown",
   "id": "2b569c12-9aaa-4c88-98c9-bbcd0cf3ebb8",
   "metadata": {
    "papermill": {
     "duration": 0.013187,
     "end_time": "2025-08-05T16:18:15.461349",
     "exception": false,
     "start_time": "2025-08-05T16:18:15.448162",
     "status": "completed"
    },
    "tags": []
   },
   "source": [
    "# CP Metrics"
   ]
  },
  {
   "cell_type": "code",
   "execution_count": 45,
   "id": "5ce0a5cb-201f-45a0-ade5-94c7f0bd6095",
   "metadata": {
    "execution": {
     "iopub.execute_input": "2025-08-05T16:18:15.504681Z",
     "iopub.status.busy": "2025-08-05T16:18:15.503833Z",
     "iopub.status.idle": "2025-08-05T16:18:15.512536Z",
     "shell.execute_reply": "2025-08-05T16:18:15.511335Z"
    },
    "papermill": {
     "duration": 0.039459,
     "end_time": "2025-08-05T16:18:15.514431",
     "exception": false,
     "start_time": "2025-08-05T16:18:15.474972",
     "status": "completed"
    },
    "tags": []
   },
   "outputs": [
    {
     "data": {
      "text/plain": [
       "{'coverage': 0.9107345892319697, 'avg_size': 1.2026975810946383}"
      ]
     },
     "execution_count": 45,
     "metadata": {},
     "output_type": "execute_result"
    }
   ],
   "source": [
    "metrics"
   ]
  },
  {
   "cell_type": "code",
   "execution_count": 46,
   "id": "9b9a838d-31c9-430b-ae14-12baee460d17",
   "metadata": {
    "execution": {
     "iopub.execute_input": "2025-08-05T16:18:15.569051Z",
     "iopub.status.busy": "2025-08-05T16:18:15.568233Z",
     "iopub.status.idle": "2025-08-05T16:18:15.576363Z",
     "shell.execute_reply": "2025-08-05T16:18:15.575161Z"
    },
    "papermill": {
     "duration": 0.037225,
     "end_time": "2025-08-05T16:18:15.578172",
     "exception": false,
     "start_time": "2025-08-05T16:18:15.540947",
     "status": "completed"
    },
    "tags": []
   },
   "outputs": [],
   "source": [
    "example_universe = universe.copy()\n",
    "universe_training_year = example_universe.get(\"training_year\")\n",
    "universe_training_size = example_universe.get(\"training_size\")\n",
    "universe_scale = example_universe.get(\"scale\")\n",
    "universe_model = example_universe.get(\"model\")\n",
    "universe_exclude_features = example_universe.get(\"exclude_features\")\n",
    "universe_exclude_subgroups = example_universe.get(\"exclude_subgroups\")"
   ]
  },
  {
   "cell_type": "code",
   "execution_count": 47,
   "id": "f4b6a8ac-9dc0-4245-8a91-5b3b5999c4f9",
   "metadata": {
    "execution": {
     "iopub.execute_input": "2025-08-05T16:18:15.632394Z",
     "iopub.status.busy": "2025-08-05T16:18:15.631364Z",
     "iopub.status.idle": "2025-08-05T16:18:15.639028Z",
     "shell.execute_reply": "2025-08-05T16:18:15.637632Z"
    },
    "papermill": {
     "duration": 0.037353,
     "end_time": "2025-08-05T16:18:15.641041",
     "exception": false,
     "start_time": "2025-08-05T16:18:15.603688",
     "status": "completed"
    },
    "tags": []
   },
   "outputs": [],
   "source": [
    "cp_metrics_dict = {\n",
    "    \"universe_id\": [universe_id],\n",
    "    \"universe_training_year\": [universe_training_year],\n",
    "    \"universe_training_size\": [universe_training_size],\n",
    "    \"universe_scale\": [universe_scale],\n",
    "    \"universe_model\": [universe_model],\n",
    "    \"universe_exclude_features\": [universe_exclude_features],\n",
    "    \"universe_exclude_subgroups\": [universe_exclude_subgroups],\n",
    "    \"q_hat\": [q_hat],\n",
    "    \"coverage\": [metrics[\"coverage\"]],\n",
    "    \"avg_size\": [metrics[\"avg_size\"]],\n",
    "}"
   ]
  },
  {
   "cell_type": "code",
   "execution_count": 48,
   "id": "908acbb1-0371-4915-85ca-3fa520d2efe2",
   "metadata": {
    "execution": {
     "iopub.execute_input": "2025-08-05T16:18:15.702761Z",
     "iopub.status.busy": "2025-08-05T16:18:15.701912Z",
     "iopub.status.idle": "2025-08-05T16:18:15.711755Z",
     "shell.execute_reply": "2025-08-05T16:18:15.710551Z"
    },
    "papermill": {
     "duration": 0.042608,
     "end_time": "2025-08-05T16:18:15.713778",
     "exception": false,
     "start_time": "2025-08-05T16:18:15.671170",
     "status": "completed"
    },
    "tags": []
   },
   "outputs": [
    {
     "data": {
      "text/plain": [
       "{'universe_id': ['052512b8c189f528067f5a0c51afcac7'],\n",
       " 'universe_training_year': ['2012_14'],\n",
       " 'universe_training_size': ['1k'],\n",
       " 'universe_scale': ['scale'],\n",
       " 'universe_model': ['penalized_logreg'],\n",
       " 'universe_exclude_features': ['age'],\n",
       " 'universe_exclude_subgroups': ['keep-all'],\n",
       " 'q_hat': [0.7578490288752924],\n",
       " 'coverage': [0.9107345892319697],\n",
       " 'avg_size': [1.2026975810946383]}"
      ]
     },
     "execution_count": 48,
     "metadata": {},
     "output_type": "execute_result"
    }
   ],
   "source": [
    "cp_metrics_dict"
   ]
  },
  {
   "cell_type": "code",
   "execution_count": 49,
   "id": "33007efc-14e9-4ec6-97ac-56a455c82265",
   "metadata": {
    "execution": {
     "iopub.execute_input": "2025-08-05T16:18:15.774794Z",
     "iopub.status.busy": "2025-08-05T16:18:15.774369Z",
     "iopub.status.idle": "2025-08-05T16:18:15.781331Z",
     "shell.execute_reply": "2025-08-05T16:18:15.780136Z"
    },
    "papermill": {
     "duration": 0.039937,
     "end_time": "2025-08-05T16:18:15.783409",
     "exception": false,
     "start_time": "2025-08-05T16:18:15.743472",
     "status": "completed"
    },
    "tags": []
   },
   "outputs": [],
   "source": [
    "cp_metrics_df = pd.DataFrame(cp_metrics_dict)"
   ]
  },
  {
   "cell_type": "code",
   "execution_count": 50,
   "id": "db12611b-57b2-4910-b9d0-355adfd6e7bf",
   "metadata": {
    "execution": {
     "iopub.execute_input": "2025-08-05T16:18:15.844640Z",
     "iopub.status.busy": "2025-08-05T16:18:15.843886Z",
     "iopub.status.idle": "2025-08-05T16:18:15.867354Z",
     "shell.execute_reply": "2025-08-05T16:18:15.865980Z"
    },
    "papermill": {
     "duration": 0.055734,
     "end_time": "2025-08-05T16:18:15.869417",
     "exception": false,
     "start_time": "2025-08-05T16:18:15.813683",
     "status": "completed"
    },
    "tags": []
   },
   "outputs": [
    {
     "data": {
      "text/html": [
       "<div>\n",
       "<style scoped>\n",
       "    .dataframe tbody tr th:only-of-type {\n",
       "        vertical-align: middle;\n",
       "    }\n",
       "\n",
       "    .dataframe tbody tr th {\n",
       "        vertical-align: top;\n",
       "    }\n",
       "\n",
       "    .dataframe thead th {\n",
       "        text-align: right;\n",
       "    }\n",
       "</style>\n",
       "<table border=\"1\" class=\"dataframe\">\n",
       "  <thead>\n",
       "    <tr style=\"text-align: right;\">\n",
       "      <th></th>\n",
       "      <th>universe_id</th>\n",
       "      <th>universe_training_year</th>\n",
       "      <th>universe_training_size</th>\n",
       "      <th>universe_scale</th>\n",
       "      <th>universe_model</th>\n",
       "      <th>universe_exclude_features</th>\n",
       "      <th>universe_exclude_subgroups</th>\n",
       "      <th>q_hat</th>\n",
       "      <th>coverage</th>\n",
       "      <th>avg_size</th>\n",
       "    </tr>\n",
       "  </thead>\n",
       "  <tbody>\n",
       "    <tr>\n",
       "      <th>0</th>\n",
       "      <td>052512b8c189f528067f5a0c51afcac7</td>\n",
       "      <td>2012_14</td>\n",
       "      <td>1k</td>\n",
       "      <td>scale</td>\n",
       "      <td>penalized_logreg</td>\n",
       "      <td>age</td>\n",
       "      <td>keep-all</td>\n",
       "      <td>0.757849</td>\n",
       "      <td>0.910735</td>\n",
       "      <td>1.202698</td>\n",
       "    </tr>\n",
       "  </tbody>\n",
       "</table>\n",
       "</div>"
      ],
      "text/plain": [
       "                        universe_id universe_training_year  \\\n",
       "0  052512b8c189f528067f5a0c51afcac7                2012_14   \n",
       "\n",
       "  universe_training_size universe_scale    universe_model  \\\n",
       "0                     1k          scale  penalized_logreg   \n",
       "\n",
       "  universe_exclude_features universe_exclude_subgroups     q_hat  coverage  \\\n",
       "0                       age                   keep-all  0.757849  0.910735   \n",
       "\n",
       "   avg_size  \n",
       "0  1.202698  "
      ]
     },
     "execution_count": 50,
     "metadata": {},
     "output_type": "execute_result"
    }
   ],
   "source": [
    "cp_metrics_df"
   ]
  },
  {
   "cell_type": "code",
   "execution_count": 51,
   "id": "b7fbde55-a0a1-47e4-9af6-fe4a17fa8c61",
   "metadata": {
    "execution": {
     "iopub.execute_input": "2025-08-05T16:18:15.932620Z",
     "iopub.status.busy": "2025-08-05T16:18:15.932208Z",
     "iopub.status.idle": "2025-08-05T16:18:15.938403Z",
     "shell.execute_reply": "2025-08-05T16:18:15.937113Z"
    },
    "papermill": {
     "duration": 0.040414,
     "end_time": "2025-08-05T16:18:15.940555",
     "exception": false,
     "start_time": "2025-08-05T16:18:15.900141",
     "status": "completed"
    },
    "tags": []
   },
   "outputs": [],
   "source": [
    "# Conditional Coverage & looking at subgroups"
   ]
  },
  {
   "cell_type": "code",
   "execution_count": 52,
   "id": "027ae886-68dd-4141-96c7-805a5450e1ef",
   "metadata": {
    "execution": {
     "iopub.execute_input": "2025-08-05T16:18:15.998287Z",
     "iopub.status.busy": "2025-08-05T16:18:15.997661Z",
     "iopub.status.idle": "2025-08-05T16:18:16.224018Z",
     "shell.execute_reply": "2025-08-05T16:18:16.222971Z"
    },
    "papermill": {
     "duration": 0.257611,
     "end_time": "2025-08-05T16:18:16.225803",
     "exception": false,
     "start_time": "2025-08-05T16:18:15.968192",
     "status": "completed"
    },
    "tags": []
   },
   "outputs": [],
   "source": [
    "from fairness_multiverse.conformal import build_cp_groups\n",
    "\n",
    "cp_groups_df = build_cp_groups(pred_sets, y_true, X_test.index, org_test)\n",
    "#needs universe_id and setting"
   ]
  },
  {
   "cell_type": "code",
   "execution_count": 53,
   "id": "6cbdab96-b2b2-45af-ad54-d0516db2e28d",
   "metadata": {
    "execution": {
     "iopub.execute_input": "2025-08-05T16:18:16.256175Z",
     "iopub.status.busy": "2025-08-05T16:18:16.255724Z",
     "iopub.status.idle": "2025-08-05T16:18:17.685551Z",
     "shell.execute_reply": "2025-08-05T16:18:17.684525Z"
    },
    "papermill": {
     "duration": 1.446628,
     "end_time": "2025-08-05T16:18:17.687660",
     "exception": false,
     "start_time": "2025-08-05T16:18:16.241032",
     "status": "completed"
    },
    "tags": []
   },
   "outputs": [],
   "source": [
    "# Define covered = 1 if true_label is in the predicted set\n",
    "cp_groups_df['covered'] = cp_groups_df.apply(\n",
    "    lambda r: int(r['true_label'] in r['pred_set']),\n",
    "    axis=1\n",
    ")"
   ]
  },
  {
   "cell_type": "code",
   "execution_count": 54,
   "id": "338ff529-1a6b-4b87-a931-8e4788d52aad",
   "metadata": {
    "execution": {
     "iopub.execute_input": "2025-08-05T16:18:17.743596Z",
     "iopub.status.busy": "2025-08-05T16:18:17.742966Z",
     "iopub.status.idle": "2025-08-05T16:18:17.748734Z",
     "shell.execute_reply": "2025-08-05T16:18:17.747439Z"
    },
    "papermill": {
     "duration": 0.036104,
     "end_time": "2025-08-05T16:18:17.750762",
     "exception": false,
     "start_time": "2025-08-05T16:18:17.714658",
     "status": "completed"
    },
    "tags": []
   },
   "outputs": [],
   "source": [
    "#cp_groups_df"
   ]
  },
  {
   "cell_type": "code",
   "execution_count": 55,
   "id": "90032e27-66df-4540-9169-4e89cfbaa758",
   "metadata": {
    "execution": {
     "iopub.execute_input": "2025-08-05T16:18:17.806080Z",
     "iopub.status.busy": "2025-08-05T16:18:17.805059Z",
     "iopub.status.idle": "2025-08-05T16:18:17.818450Z",
     "shell.execute_reply": "2025-08-05T16:18:17.817283Z"
    },
    "papermill": {
     "duration": 0.042259,
     "end_time": "2025-08-05T16:18:17.820095",
     "exception": false,
     "start_time": "2025-08-05T16:18:17.777836",
     "status": "completed"
    },
    "tags": []
   },
   "outputs": [],
   "source": [
    "subgroups = ['frau1','nongerman','nongerman_male','nongerman_female']\n",
    "\n",
    "# Conditional coverage for subgroup==1\n",
    "cond_coverage = {\n",
    "    g: cp_groups_df.loc[cp_groups_df[g]==1, 'covered'].mean()\n",
    "    for g in subgroups\n",
    "}"
   ]
  },
  {
   "cell_type": "code",
   "execution_count": 56,
   "id": "1e348fb1-b9c3-45bc-ba23-f016827a7e0d",
   "metadata": {
    "execution": {
     "iopub.execute_input": "2025-08-05T16:18:17.850087Z",
     "iopub.status.busy": "2025-08-05T16:18:17.849593Z",
     "iopub.status.idle": "2025-08-05T16:18:17.857465Z",
     "shell.execute_reply": "2025-08-05T16:18:17.856279Z"
    },
    "papermill": {
     "duration": 0.024613,
     "end_time": "2025-08-05T16:18:17.859280",
     "exception": false,
     "start_time": "2025-08-05T16:18:17.834667",
     "status": "completed"
    },
    "tags": []
   },
   "outputs": [
    {
     "data": {
      "text/plain": [
       "{'frau1': 0.9030866693624477,\n",
       " 'nongerman': 0.913770841520238,\n",
       " 'nongerman_male': 0.932090426010988,\n",
       " 'nongerman_female': 0.8834575260804769}"
      ]
     },
     "execution_count": 56,
     "metadata": {},
     "output_type": "execute_result"
    }
   ],
   "source": [
    "cond_coverage"
   ]
  },
  {
   "cell_type": "code",
   "execution_count": 57,
   "id": "f5093324-c3dd-4d63-bc4c-8d945e5c8bbb",
   "metadata": {
    "execution": {
     "iopub.execute_input": "2025-08-05T16:18:17.916312Z",
     "iopub.status.busy": "2025-08-05T16:18:17.915629Z",
     "iopub.status.idle": "2025-08-05T16:18:17.924407Z",
     "shell.execute_reply": "2025-08-05T16:18:17.923029Z"
    },
    "papermill": {
     "duration": 0.039795,
     "end_time": "2025-08-05T16:18:17.926259",
     "exception": false,
     "start_time": "2025-08-05T16:18:17.886464",
     "status": "completed"
    },
    "tags": []
   },
   "outputs": [],
   "source": [
    "for subgroup, cov in cond_coverage.items():\n",
    "    cp_metrics_df[f\"cov_{subgroup}\"] = cov"
   ]
  },
  {
   "cell_type": "code",
   "execution_count": 58,
   "id": "6e872e10-dbe5-49e8-b554-5030c98ff75d",
   "metadata": {
    "execution": {
     "iopub.execute_input": "2025-08-05T16:18:17.982709Z",
     "iopub.status.busy": "2025-08-05T16:18:17.982009Z",
     "iopub.status.idle": "2025-08-05T16:18:18.005949Z",
     "shell.execute_reply": "2025-08-05T16:18:18.004724Z"
    },
    "papermill": {
     "duration": 0.054711,
     "end_time": "2025-08-05T16:18:18.007779",
     "exception": false,
     "start_time": "2025-08-05T16:18:17.953068",
     "status": "completed"
    },
    "tags": []
   },
   "outputs": [
    {
     "data": {
      "text/html": [
       "<div>\n",
       "<style scoped>\n",
       "    .dataframe tbody tr th:only-of-type {\n",
       "        vertical-align: middle;\n",
       "    }\n",
       "\n",
       "    .dataframe tbody tr th {\n",
       "        vertical-align: top;\n",
       "    }\n",
       "\n",
       "    .dataframe thead th {\n",
       "        text-align: right;\n",
       "    }\n",
       "</style>\n",
       "<table border=\"1\" class=\"dataframe\">\n",
       "  <thead>\n",
       "    <tr style=\"text-align: right;\">\n",
       "      <th></th>\n",
       "      <th>universe_id</th>\n",
       "      <th>universe_training_year</th>\n",
       "      <th>universe_training_size</th>\n",
       "      <th>universe_scale</th>\n",
       "      <th>universe_model</th>\n",
       "      <th>universe_exclude_features</th>\n",
       "      <th>universe_exclude_subgroups</th>\n",
       "      <th>q_hat</th>\n",
       "      <th>coverage</th>\n",
       "      <th>avg_size</th>\n",
       "      <th>cov_frau1</th>\n",
       "      <th>cov_nongerman</th>\n",
       "      <th>cov_nongerman_male</th>\n",
       "      <th>cov_nongerman_female</th>\n",
       "    </tr>\n",
       "  </thead>\n",
       "  <tbody>\n",
       "    <tr>\n",
       "      <th>0</th>\n",
       "      <td>052512b8c189f528067f5a0c51afcac7</td>\n",
       "      <td>2012_14</td>\n",
       "      <td>1k</td>\n",
       "      <td>scale</td>\n",
       "      <td>penalized_logreg</td>\n",
       "      <td>age</td>\n",
       "      <td>keep-all</td>\n",
       "      <td>0.757849</td>\n",
       "      <td>0.910735</td>\n",
       "      <td>1.202698</td>\n",
       "      <td>0.903087</td>\n",
       "      <td>0.913771</td>\n",
       "      <td>0.93209</td>\n",
       "      <td>0.883458</td>\n",
       "    </tr>\n",
       "  </tbody>\n",
       "</table>\n",
       "</div>"
      ],
      "text/plain": [
       "                        universe_id universe_training_year  \\\n",
       "0  052512b8c189f528067f5a0c51afcac7                2012_14   \n",
       "\n",
       "  universe_training_size universe_scale    universe_model  \\\n",
       "0                     1k          scale  penalized_logreg   \n",
       "\n",
       "  universe_exclude_features universe_exclude_subgroups     q_hat  coverage  \\\n",
       "0                       age                   keep-all  0.757849  0.910735   \n",
       "\n",
       "   avg_size  cov_frau1  cov_nongerman  cov_nongerman_male  \\\n",
       "0  1.202698   0.903087       0.913771             0.93209   \n",
       "\n",
       "   cov_nongerman_female  \n",
       "0              0.883458  "
      ]
     },
     "execution_count": 58,
     "metadata": {},
     "output_type": "execute_result"
    }
   ],
   "source": [
    "cp_metrics_df"
   ]
  },
  {
   "cell_type": "markdown",
   "id": "33774451",
   "metadata": {
    "papermill": {
     "duration": 0.02845,
     "end_time": "2025-08-05T16:18:18.063544",
     "exception": false,
     "start_time": "2025-08-05T16:18:18.035094",
     "status": "completed"
    },
    "tags": []
   },
   "source": [
    "# (Fairness) Metrics"
   ]
  },
  {
   "cell_type": "code",
   "execution_count": 59,
   "id": "debc5d62",
   "metadata": {
    "execution": {
     "iopub.execute_input": "2025-08-05T16:18:18.120689Z",
     "iopub.status.busy": "2025-08-05T16:18:18.119727Z",
     "iopub.status.idle": "2025-08-05T16:18:18.145613Z",
     "shell.execute_reply": "2025-08-05T16:18:18.144412Z"
    },
    "papermill": {
     "duration": 0.056969,
     "end_time": "2025-08-05T16:18:18.148118",
     "exception": false,
     "start_time": "2025-08-05T16:18:18.091149",
     "status": "completed"
    },
    "tags": []
   },
   "outputs": [],
   "source": [
    "# do I need to include maxdeutsch1.missing?\n",
    "\n",
    "import numpy as np\n",
    "\n",
    "colname_to_bin = \"maxdeutsch1\"\n",
    "majority_value = org_train[colname_to_bin].mode()[0]\n",
    "\n",
    "org_test[\"majmin\"] = np.where(org_test[colname_to_bin] == majority_value, \"majority\", \"minority\")"
   ]
  },
  {
   "cell_type": "code",
   "execution_count": 60,
   "id": "06a50de5",
   "metadata": {
    "execution": {
     "iopub.execute_input": "2025-08-05T16:18:18.206796Z",
     "iopub.status.busy": "2025-08-05T16:18:18.206158Z",
     "iopub.status.idle": "2025-08-05T16:18:20.360700Z",
     "shell.execute_reply": "2025-08-05T16:18:20.359835Z"
    },
    "papermill": {
     "duration": 2.185397,
     "end_time": "2025-08-05T16:18:20.362369",
     "exception": false,
     "start_time": "2025-08-05T16:18:18.176972",
     "status": "completed"
    },
    "tags": []
   },
   "outputs": [],
   "source": [
    "example_universe = universe.copy()\n",
    "example_universe[\"cutoff\"] = example_universe[\"cutoff\"][0]\n",
    "example_universe[\"eval_fairness_grouping\"] = example_universe[\"eval_fairness_grouping\"][0]\n",
    "fairness_dict, metric_frame = universe_analysis.compute_metrics(\n",
    "    example_universe,\n",
    "    y_pred_prob=probs_test,\n",
    "    y_test=y_true,\n",
    "    org_test=org_test,\n",
    ")"
   ]
  },
  {
   "cell_type": "markdown",
   "id": "f95d4e02",
   "metadata": {
    "papermill": {
     "duration": 0.01331,
     "end_time": "2025-08-05T16:18:20.391942",
     "exception": false,
     "start_time": "2025-08-05T16:18:20.378632",
     "status": "completed"
    },
    "tags": []
   },
   "source": [
    "# Overall"
   ]
  },
  {
   "cell_type": "markdown",
   "id": "bdee4871",
   "metadata": {
    "papermill": {
     "duration": 0.012707,
     "end_time": "2025-08-05T16:18:20.418080",
     "exception": false,
     "start_time": "2025-08-05T16:18:20.405373",
     "status": "completed"
    },
    "tags": []
   },
   "source": [
    "Fairness\n",
    "Main fairness target: Equalized Odds. Seems to be a better fit than equal opportunity, since we're not only interested in Y = 1. Seems to be a better fit than demographic parity, since we also care about accuracy, not just equal distribution of preds.\n",
    "\n",
    "Pick column for computation of fairness metrics\n",
    "\n",
    "Performance\n",
    "Overall performance measures, most interesting in relation to the measures split by group below"
   ]
  },
  {
   "cell_type": "code",
   "execution_count": 61,
   "id": "c4e067c6",
   "metadata": {
    "execution": {
     "iopub.execute_input": "2025-08-05T16:18:20.443233Z",
     "iopub.status.busy": "2025-08-05T16:18:20.442351Z",
     "iopub.status.idle": "2025-08-05T16:18:20.451283Z",
     "shell.execute_reply": "2025-08-05T16:18:20.450496Z"
    },
    "papermill": {
     "duration": 0.023466,
     "end_time": "2025-08-05T16:18:20.452835",
     "exception": false,
     "start_time": "2025-08-05T16:18:20.429369",
     "status": "completed"
    },
    "tags": []
   },
   "outputs": [
    {
     "data": {
      "text/plain": [
       "accuracy                   0.219229\n",
       "balanced accuracy          0.537122\n",
       "f1                         0.240702\n",
       "precision                  0.137505\n",
       "false positive rate        0.890476\n",
       "false negative rate        0.035280\n",
       "selection rate             0.900000\n",
       "count                  89710.000000\n",
       "dtype: float64"
      ]
     },
     "execution_count": 61,
     "metadata": {},
     "output_type": "execute_result"
    }
   ],
   "source": [
    "metric_frame.overall"
   ]
  },
  {
   "cell_type": "markdown",
   "id": "e968fe9d",
   "metadata": {
    "papermill": {
     "duration": 0.01368,
     "end_time": "2025-08-05T16:18:20.482685",
     "exception": false,
     "start_time": "2025-08-05T16:18:20.469005",
     "status": "completed"
    },
    "tags": []
   },
   "source": [
    "By Group"
   ]
  },
  {
   "cell_type": "code",
   "execution_count": 62,
   "id": "ec325bce",
   "metadata": {
    "execution": {
     "iopub.execute_input": "2025-08-05T16:18:20.510731Z",
     "iopub.status.busy": "2025-08-05T16:18:20.509931Z",
     "iopub.status.idle": "2025-08-05T16:18:20.523994Z",
     "shell.execute_reply": "2025-08-05T16:18:20.523153Z"
    },
    "papermill": {
     "duration": 0.02961,
     "end_time": "2025-08-05T16:18:20.525493",
     "exception": false,
     "start_time": "2025-08-05T16:18:20.495883",
     "status": "completed"
    },
    "tags": []
   },
   "outputs": [
    {
     "data": {
      "text/html": [
       "<div>\n",
       "<style scoped>\n",
       "    .dataframe tbody tr th:only-of-type {\n",
       "        vertical-align: middle;\n",
       "    }\n",
       "\n",
       "    .dataframe tbody tr th {\n",
       "        vertical-align: top;\n",
       "    }\n",
       "\n",
       "    .dataframe thead th {\n",
       "        text-align: right;\n",
       "    }\n",
       "</style>\n",
       "<table border=\"1\" class=\"dataframe\">\n",
       "  <thead>\n",
       "    <tr style=\"text-align: right;\">\n",
       "      <th></th>\n",
       "      <th>accuracy</th>\n",
       "      <th>balanced accuracy</th>\n",
       "      <th>f1</th>\n",
       "      <th>precision</th>\n",
       "      <th>false positive rate</th>\n",
       "      <th>false negative rate</th>\n",
       "      <th>selection rate</th>\n",
       "      <th>count</th>\n",
       "    </tr>\n",
       "    <tr>\n",
       "      <th>majmin</th>\n",
       "      <th></th>\n",
       "      <th></th>\n",
       "      <th></th>\n",
       "      <th></th>\n",
       "      <th></th>\n",
       "      <th></th>\n",
       "      <th></th>\n",
       "      <th></th>\n",
       "    </tr>\n",
       "  </thead>\n",
       "  <tbody>\n",
       "    <tr>\n",
       "      <th>majority</th>\n",
       "      <td>0.239396</td>\n",
       "      <td>0.544450</td>\n",
       "      <td>0.249947</td>\n",
       "      <td>0.143698</td>\n",
       "      <td>0.870182</td>\n",
       "      <td>0.040919</td>\n",
       "      <td>0.881929</td>\n",
       "      <td>69170.0</td>\n",
       "    </tr>\n",
       "    <tr>\n",
       "      <th>minority</th>\n",
       "      <td>0.151315</td>\n",
       "      <td>0.514485</td>\n",
       "      <td>0.211364</td>\n",
       "      <td>0.118362</td>\n",
       "      <td>0.957517</td>\n",
       "      <td>0.013514</td>\n",
       "      <td>0.960857</td>\n",
       "      <td>20540.0</td>\n",
       "    </tr>\n",
       "  </tbody>\n",
       "</table>\n",
       "</div>"
      ],
      "text/plain": [
       "          accuracy  balanced accuracy        f1  precision  \\\n",
       "majmin                                                       \n",
       "majority  0.239396           0.544450  0.249947   0.143698   \n",
       "minority  0.151315           0.514485  0.211364   0.118362   \n",
       "\n",
       "          false positive rate  false negative rate  selection rate    count  \n",
       "majmin                                                                       \n",
       "majority             0.870182             0.040919        0.881929  69170.0  \n",
       "minority             0.957517             0.013514        0.960857  20540.0  "
      ]
     },
     "execution_count": 62,
     "metadata": {},
     "output_type": "execute_result"
    }
   ],
   "source": [
    "metric_frame.by_group"
   ]
  },
  {
   "cell_type": "code",
   "execution_count": 63,
   "id": "a9ddbe63",
   "metadata": {
    "execution": {
     "iopub.execute_input": "2025-08-05T16:18:20.552294Z",
     "iopub.status.busy": "2025-08-05T16:18:20.551757Z",
     "iopub.status.idle": "2025-08-05T16:18:22.498395Z",
     "shell.execute_reply": "2025-08-05T16:18:22.497408Z"
    },
    "papermill": {
     "duration": 1.960682,
     "end_time": "2025-08-05T16:18:22.499972",
     "exception": false,
     "start_time": "2025-08-05T16:18:20.539290",
     "status": "completed"
    },
    "tags": []
   },
   "outputs": [
    {
     "data": {
      "text/plain": [
       "array([[<Axes: title={'center': 'accuracy'}, xlabel='majmin'>,\n",
       "        <Axes: title={'center': 'balanced accuracy'}, xlabel='majmin'>,\n",
       "        <Axes: title={'center': 'f1'}, xlabel='majmin'>],\n",
       "       [<Axes: title={'center': 'precision'}, xlabel='majmin'>,\n",
       "        <Axes: title={'center': 'false positive rate'}, xlabel='majmin'>,\n",
       "        <Axes: title={'center': 'false negative rate'}, xlabel='majmin'>],\n",
       "       [<Axes: title={'center': 'selection rate'}, xlabel='majmin'>,\n",
       "        <Axes: title={'center': 'count'}, xlabel='majmin'>,\n",
       "        <Axes: xlabel='majmin'>]], dtype=object)"
      ]
     },
     "execution_count": 63,
     "metadata": {},
     "output_type": "execute_result"
    },
    {
     "data": {
      "image/png": "[encoded data removed]",
      "text/plain": [
       "<Figure size 1200x800 with 9 Axes>"
      ]
     },
     "metadata": {},
     "output_type": "display_data"
    }
   ],
   "source": [
    "# In a graphic\n",
    "metric_frame.by_group.plot.bar(\n",
    "    subplots=True,\n",
    "    layout=[3, 3],\n",
    "    legend=False,\n",
    "    figsize=[12, 8],\n",
    "    title=\"Show all metrics\",\n",
    ")"
   ]
  },
  {
   "cell_type": "markdown",
   "id": "f57a0bac",
   "metadata": {
    "papermill": {
     "duration": 0.015884,
     "end_time": "2025-08-05T16:18:22.534330",
     "exception": false,
     "start_time": "2025-08-05T16:18:22.518446",
     "status": "completed"
    },
    "tags": []
   },
   "source": [
    "# Final Output"
   ]
  },
  {
   "cell_type": "code",
   "execution_count": 64,
   "id": "96d280a3",
   "metadata": {
    "execution": {
     "iopub.execute_input": "2025-08-05T16:18:22.567775Z",
     "iopub.status.busy": "2025-08-05T16:18:22.567259Z",
     "iopub.status.idle": "2025-08-05T16:18:22.575597Z",
     "shell.execute_reply": "2025-08-05T16:18:22.574787Z"
    },
    "papermill": {
     "duration": 0.02676,
     "end_time": "2025-08-05T16:18:22.577384",
     "exception": false,
     "start_time": "2025-08-05T16:18:22.550624",
     "status": "completed"
    },
    "tags": []
   },
   "outputs": [
    {
     "data": {
      "text/plain": [
       "4"
      ]
     },
     "execution_count": 64,
     "metadata": {},
     "output_type": "execute_result"
    }
   ],
   "source": [
    "sub_universes = universe_analysis.generate_sub_universes()\n",
    "len(sub_universes)"
   ]
  },
  {
   "cell_type": "code",
   "execution_count": 65,
   "id": "92adf7ba",
   "metadata": {
    "execution": {
     "iopub.execute_input": "2025-08-05T16:18:22.610427Z",
     "iopub.status.busy": "2025-08-05T16:18:22.609824Z",
     "iopub.status.idle": "2025-08-05T16:18:22.626435Z",
     "shell.execute_reply": "2025-08-05T16:18:22.625602Z"
    },
    "papermill": {
     "duration": 0.034785,
     "end_time": "2025-08-05T16:18:22.628084",
     "exception": false,
     "start_time": "2025-08-05T16:18:22.593299",
     "status": "completed"
    },
    "tags": []
   },
   "outputs": [],
   "source": [
    "def filter_sub_universe_data(sub_universe, org_test):\n",
    "    # Keep all rows — no filtering\n",
    "    keep_rows_mask = np.ones(org_test.shape[0], dtype=bool)\n",
    "\n",
    "    print(f\"[INFO] Keeping all rows: {keep_rows_mask.sum()} rows retained.\")\n",
    "    return keep_rows_mask"
   ]
  },
  {
   "cell_type": "code",
   "execution_count": 66,
   "id": "4a759155",
   "metadata": {
    "execution": {
     "iopub.execute_input": "2025-08-05T16:18:22.662658Z",
     "iopub.status.busy": "2025-08-05T16:18:22.661993Z",
     "iopub.status.idle": "2025-08-05T16:18:29.379550Z",
     "shell.execute_reply": "2025-08-05T16:18:29.378665Z"
    },
    "papermill": {
     "duration": 6.73631,
     "end_time": "2025-08-05T16:18:29.381140",
     "exception": false,
     "start_time": "2025-08-05T16:18:22.644830",
     "status": "completed"
    },
    "tags": []
   },
   "outputs": [
    {
     "name": "stdout",
     "output_type": "stream",
     "text": [
      "Stopping execution_time clock.\n",
      "[INFO] Keeping all rows: 89710 rows retained.\n"
     ]
    },
    {
     "name": "stdout",
     "output_type": "stream",
     "text": [
      "[INFO] Keeping all rows: 89710 rows retained.\n"
     ]
    },
    {
     "name": "stdout",
     "output_type": "stream",
     "text": [
      "[INFO] Keeping all rows: 89710 rows retained.\n"
     ]
    },
    {
     "name": "stdout",
     "output_type": "stream",
     "text": [
      "[INFO] Keeping all rows: 89710 rows retained.\n"
     ]
    },
    {
     "data": {
      "text/html": [
       "<div>\n",
       "<style scoped>\n",
       "    .dataframe tbody tr th:only-of-type {\n",
       "        vertical-align: middle;\n",
       "    }\n",
       "\n",
       "    .dataframe tbody tr th {\n",
       "        vertical-align: top;\n",
       "    }\n",
       "\n",
       "    .dataframe thead th {\n",
       "        text-align: right;\n",
       "    }\n",
       "</style>\n",
       "<table border=\"1\" class=\"dataframe\">\n",
       "  <thead>\n",
       "    <tr style=\"text-align: right;\">\n",
       "      <th></th>\n",
       "      <th>run_no</th>\n",
       "      <th>universe_id</th>\n",
       "      <th>universe_settings</th>\n",
       "      <th>execution_time</th>\n",
       "      <th>test_size_n</th>\n",
       "      <th>test_size_frac</th>\n",
       "      <th>fair_main_equalized_odds_difference</th>\n",
       "      <th>fair_main_equalized_odds_ratio</th>\n",
       "      <th>fair_main_demographic_parity_difference</th>\n",
       "      <th>fair_main_demographic_parity_ratio</th>\n",
       "      <th>...</th>\n",
       "      <th>perf_grp_precision_0</th>\n",
       "      <th>perf_grp_precision_1</th>\n",
       "      <th>perf_grp_false positive rate_0</th>\n",
       "      <th>perf_grp_false positive rate_1</th>\n",
       "      <th>perf_grp_false negative rate_0</th>\n",
       "      <th>perf_grp_false negative rate_1</th>\n",
       "      <th>perf_grp_selection rate_0</th>\n",
       "      <th>perf_grp_selection rate_1</th>\n",
       "      <th>perf_grp_count_0</th>\n",
       "      <th>perf_grp_count_1</th>\n",
       "    </tr>\n",
       "  </thead>\n",
       "  <tbody>\n",
       "    <tr>\n",
       "      <th>0</th>\n",
       "      <td>15</td>\n",
       "      <td>052512b8c189f528067f5a0c51afcac7</td>\n",
       "      <td>{\"cutoff\": \"quantile_0.1\", \"eval_fairness_grou...</td>\n",
       "      <td>26.153622</td>\n",
       "      <td>89710</td>\n",
       "      <td>1.0</td>\n",
       "      <td>0.087335</td>\n",
       "      <td>0.908790</td>\n",
       "      <td>0.078928</td>\n",
       "      <td>0.917856</td>\n",
       "      <td>...</td>\n",
       "      <td>NaN</td>\n",
       "      <td>NaN</td>\n",
       "      <td>NaN</td>\n",
       "      <td>NaN</td>\n",
       "      <td>NaN</td>\n",
       "      <td>NaN</td>\n",
       "      <td>NaN</td>\n",
       "      <td>NaN</td>\n",
       "      <td>NaN</td>\n",
       "      <td>NaN</td>\n",
       "    </tr>\n",
       "    <tr>\n",
       "      <th>0</th>\n",
       "      <td>15</td>\n",
       "      <td>052512b8c189f528067f5a0c51afcac7</td>\n",
       "      <td>{\"cutoff\": \"quantile_0.1\", \"eval_fairness_grou...</td>\n",
       "      <td>26.153622</td>\n",
       "      <td>89710</td>\n",
       "      <td>1.0</td>\n",
       "      <td>0.087335</td>\n",
       "      <td>0.908790</td>\n",
       "      <td>0.078928</td>\n",
       "      <td>0.917856</td>\n",
       "      <td>...</td>\n",
       "      <td>0.118362</td>\n",
       "      <td>0.143698</td>\n",
       "      <td>0.957517</td>\n",
       "      <td>0.870182</td>\n",
       "      <td>0.013514</td>\n",
       "      <td>0.040919</td>\n",
       "      <td>0.960857</td>\n",
       "      <td>0.881929</td>\n",
       "      <td>20540.0</td>\n",
       "      <td>69170.0</td>\n",
       "    </tr>\n",
       "    <tr>\n",
       "      <th>0</th>\n",
       "      <td>15</td>\n",
       "      <td>052512b8c189f528067f5a0c51afcac7</td>\n",
       "      <td>{\"cutoff\": \"quantile_0.25\", \"eval_fairness_gro...</td>\n",
       "      <td>26.153622</td>\n",
       "      <td>89710</td>\n",
       "      <td>1.0</td>\n",
       "      <td>0.170007</td>\n",
       "      <td>0.802255</td>\n",
       "      <td>0.154580</td>\n",
       "      <td>0.822154</td>\n",
       "      <td>...</td>\n",
       "      <td>NaN</td>\n",
       "      <td>NaN</td>\n",
       "      <td>NaN</td>\n",
       "      <td>NaN</td>\n",
       "      <td>NaN</td>\n",
       "      <td>NaN</td>\n",
       "      <td>NaN</td>\n",
       "      <td>NaN</td>\n",
       "      <td>NaN</td>\n",
       "      <td>NaN</td>\n",
       "    </tr>\n",
       "    <tr>\n",
       "      <th>0</th>\n",
       "      <td>15</td>\n",
       "      <td>052512b8c189f528067f5a0c51afcac7</td>\n",
       "      <td>{\"cutoff\": \"quantile_0.25\", \"eval_fairness_gro...</td>\n",
       "      <td>26.153622</td>\n",
       "      <td>89710</td>\n",
       "      <td>1.0</td>\n",
       "      <td>0.170007</td>\n",
       "      <td>0.802255</td>\n",
       "      <td>0.154580</td>\n",
       "      <td>0.822154</td>\n",
       "      <td>...</td>\n",
       "      <td>0.124909</td>\n",
       "      <td>0.162354</td>\n",
       "      <td>0.859729</td>\n",
       "      <td>0.689722</td>\n",
       "      <td>0.058277</td>\n",
       "      <td>0.121991</td>\n",
       "      <td>0.869182</td>\n",
       "      <td>0.714602</td>\n",
       "      <td>20540.0</td>\n",
       "      <td>69170.0</td>\n",
       "    </tr>\n",
       "  </tbody>\n",
       "</table>\n",
       "<p>4 rows × 50 columns</p>\n",
       "</div>"
      ],
      "text/plain": [
       "  run_no                       universe_id  \\\n",
       "0     15  052512b8c189f528067f5a0c51afcac7   \n",
       "0     15  052512b8c189f528067f5a0c51afcac7   \n",
       "0     15  052512b8c189f528067f5a0c51afcac7   \n",
       "0     15  052512b8c189f528067f5a0c51afcac7   \n",
       "\n",
       "                                   universe_settings  execution_time  \\\n",
       "0  {\"cutoff\": \"quantile_0.1\", \"eval_fairness_grou...       26.153622   \n",
       "0  {\"cutoff\": \"quantile_0.1\", \"eval_fairness_grou...       26.153622   \n",
       "0  {\"cutoff\": \"quantile_0.25\", \"eval_fairness_gro...       26.153622   \n",
       "0  {\"cutoff\": \"quantile_0.25\", \"eval_fairness_gro...       26.153622   \n",
       "\n",
       "   test_size_n  test_size_frac  fair_main_equalized_odds_difference  \\\n",
       "0        89710             1.0                             0.087335   \n",
       "0        89710             1.0                             0.087335   \n",
       "0        89710             1.0                             0.170007   \n",
       "0        89710             1.0                             0.170007   \n",
       "\n",
       "   fair_main_equalized_odds_ratio  fair_main_demographic_parity_difference  \\\n",
       "0                        0.908790                                 0.078928   \n",
       "0                        0.908790                                 0.078928   \n",
       "0                        0.802255                                 0.154580   \n",
       "0                        0.802255                                 0.154580   \n",
       "\n",
       "   fair_main_demographic_parity_ratio  ...  perf_grp_precision_0  \\\n",
       "0                            0.917856  ...                   NaN   \n",
       "0                            0.917856  ...              0.118362   \n",
       "0                            0.822154  ...                   NaN   \n",
       "0                            0.822154  ...              0.124909   \n",
       "\n",
       "   perf_grp_precision_1  perf_grp_false positive rate_0  \\\n",
       "0                   NaN                             NaN   \n",
       "0              0.143698                        0.957517   \n",
       "0                   NaN                             NaN   \n",
       "0              0.162354                        0.859729   \n",
       "\n",
       "   perf_grp_false positive rate_1  perf_grp_false negative rate_0  \\\n",
       "0                             NaN                             NaN   \n",
       "0                        0.870182                        0.013514   \n",
       "0                             NaN                             NaN   \n",
       "0                        0.689722                        0.058277   \n",
       "\n",
       "   perf_grp_false negative rate_1  perf_grp_selection rate_0  \\\n",
       "0                             NaN                        NaN   \n",
       "0                        0.040919                   0.960857   \n",
       "0                             NaN                        NaN   \n",
       "0                        0.121991                   0.869182   \n",
       "\n",
       "   perf_grp_selection rate_1  perf_grp_count_0  perf_grp_count_1  \n",
       "0                        NaN               NaN               NaN  \n",
       "0                   0.881929           20540.0           69170.0  \n",
       "0                        NaN               NaN               NaN  \n",
       "0                   0.714602           20540.0           69170.0  \n",
       "\n",
       "[4 rows x 50 columns]"
      ]
     },
     "execution_count": 66,
     "metadata": {},
     "output_type": "execute_result"
    }
   ],
   "source": [
    "final_output = universe_analysis.generate_final_output(\n",
    "    y_pred_prob=probs_test,\n",
    "    y_test=y_true,\n",
    "    org_test=org_test,\n",
    "    filter_data=filter_sub_universe_data,\n",
    "    cp_metrics_df=cp_metrics_df,\n",
    "    save=True,\n",
    ")\n",
    "final_output"
   ]
  }
 ],
 "metadata": {
  "celltoolbar": "Tags",
  "kernelspec": {
   "display_name": "Python (CMA Fairness)",
   "language": "python",
   "name": "cma_fair_env"
  },
  "language_info": {
   "codemirror_mode": {
    "name": "ipython",
    "version": 3
   },
   "file_extension": ".py",
   "mimetype": "text/x-python",
   "name": "python",
   "nbconvert_exporter": "python",
   "pygments_lexer": "ipython3",
   "version": "3.10.12"
  },
  "papermill": {
   "default_parameters": {},
   "duration": 37.594621,
   "end_time": "2025-08-05T16:18:30.227901",
   "environment_variables": {},
   "exception": null,
   "input_path": "universe_analysis.ipynb",
   "output_path": "output/runs/15/notebooks/m_15-052512b8c189f528067f5a0c51afcac7.ipynb",
   "parameters": {
    "output_dir": "output",
    "run_no": "15",
    "seed": "2023",
    "universe": "{\"cutoff\": [\"quantile_0.1\", \"quantile_0.25\"], \"eval_fairness_grouping\": [\"majority-minority\", \"nationality-all\"], \"exclude_features\": \"age\", \"exclude_subgroups\": \"keep-all\", \"model\": \"penalized_logreg\", \"scale\": \"scale\", \"training_size\": \"1k\", \"training_year\": \"2012_14\"}",
    "universe_id": "052512b8c189f528067f5a0c51afcac7"
   },
   "start_time": "2025-08-05T16:17:52.633280",
   "version": "2.6.0"
  }
 },
 "nbformat": 4,
 "nbformat_minor": 5
}