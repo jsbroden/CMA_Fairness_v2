{
 "cells": [
  {
   "cell_type": "code",
   "execution_count": 1,
   "id": "f159f837-637b-42ba-96b5-ec9a68c44524",
   "metadata": {
    "execution": {
     "iopub.execute_input": "2025-08-05T16:33:53.460046Z",
     "iopub.status.busy": "2025-08-05T16:33:53.459090Z",
     "iopub.status.idle": "2025-08-05T16:33:53.476922Z",
     "shell.execute_reply": "2025-08-05T16:33:53.475752Z"
    },
    "papermill": {
     "duration": 0.048789,
     "end_time": "2025-08-05T16:33:53.479297",
     "exception": false,
     "start_time": "2025-08-05T16:33:53.430508",
     "status": "completed"
    },
    "tags": []
   },
   "outputs": [
    {
     "name": "stdout",
     "output_type": "stream",
     "text": [
      "/dss/dsshome1/0C/ra93lal2/cma/CMA_Fairness_v2\n"
     ]
    },
    {
     "name": "stderr",
     "output_type": "stream",
     "text": [
      "/dss/dsshome1/0C/ra93lal2/.local/share/virtualenvs/CMA_Fairness_v2-3j10GkSs/lib/python3.10/site-packages/IPython/core/magics/osm.py:393: UserWarning: This is now an optional IPython functionality, using bookmarks requires you to install the `pickleshare` library.\n",
      "  bkms = self.shell.db.get('bookmarks', {})\n",
      "/dss/dsshome1/0C/ra93lal2/.local/share/virtualenvs/CMA_Fairness_v2-3j10GkSs/lib/python3.10/site-packages/IPython/core/magics/osm.py:417: UserWarning: This is now an optional IPython functionality, setting dhist requires you to install the `pickleshare` library.\n",
      "  self.shell.db['dhist'] = compress_dhist(dhist)[-100:]\n"
     ]
    }
   ],
   "source": [
    "%cd ~/cma/CMA_Fairness_v2"
   ]
  },
  {
   "cell_type": "markdown",
   "id": "de2603b9",
   "metadata": {
    "papermill": {
     "duration": 0.020709,
     "end_time": "2025-08-05T16:33:53.526908",
     "exception": false,
     "start_time": "2025-08-05T16:33:53.506199",
     "status": "completed"
    },
    "tags": []
   },
   "source": [
    "The following cell holds the definition of our parameters, these values can be overriden by rendering the with e.g. the following command:\n",
    "\n",
    "papermill -p alpha 0.2 -p ratio 0.3 universe_analysis.ipynb output/test_run.ipynb"
   ]
  },
  {
   "cell_type": "code",
   "execution_count": 2,
   "id": "a80968a0-40bb-4fa9-85ef-2d5eefb01975",
   "metadata": {
    "execution": {
     "iopub.execute_input": "2025-08-05T16:33:53.634360Z",
     "iopub.status.busy": "2025-08-05T16:33:53.633377Z",
     "iopub.status.idle": "2025-08-05T16:33:53.640651Z",
     "shell.execute_reply": "2025-08-05T16:33:53.639618Z"
    },
    "papermill": {
     "duration": 0.093221,
     "end_time": "2025-08-05T16:33:53.642595",
     "exception": false,
     "start_time": "2025-08-05T16:33:53.549374",
     "status": "completed"
    },
    "tags": []
   },
   "outputs": [
    {
     "name": "stdout",
     "output_type": "stream",
     "text": [
      "Current working directory: /dss/dsshome1/0C/ra93lal2/cma/CMA_Fairness_v2\n"
     ]
    }
   ],
   "source": [
    "import os\n",
    "print(\"Current working directory:\", os.getcwd())"
   ]
  },
  {
   "cell_type": "code",
   "execution_count": 3,
   "id": "2dce4c03",
   "metadata": {
    "execution": {
     "iopub.execute_input": "2025-08-05T16:33:53.685600Z",
     "iopub.status.busy": "2025-08-05T16:33:53.685003Z",
     "iopub.status.idle": "2025-08-05T16:33:53.692466Z",
     "shell.execute_reply": "2025-08-05T16:33:53.691443Z"
    },
    "papermill": {
     "duration": 0.031774,
     "end_time": "2025-08-05T16:33:53.694377",
     "exception": false,
     "start_time": "2025-08-05T16:33:53.662603",
     "status": "completed"
    },
    "tags": [
     "parameters"
    ]
   },
   "outputs": [],
   "source": [
    "run_no = 0\n",
    "universe_id = \"test\"\n",
    "universe = {\n",
    "    \"training_size\": \"25k\", # \"25k\", \"5k\", \"1k\"\n",
    "    \"training_year\": \"2014\", # \"2014\", \"2012_14\", \"2010_14\"\n",
    "    \"scale\": \"scale\", # \"scale\", \"do-not-scale\",\n",
    "    \"model\": \"elasticnet\", # \"logreg\", \"penalized_logreg\", \"rf\", \"gbm\", \"elasticnet\"\n",
    "    \"cutoff\": [\"quantile_0.15\", \"quantile_0.30\"],\n",
    "    \"exclude_features\": \"age\", # \"none\", \"nationality\", \"sex\", \"nationality-sex\", \"age\"\n",
    "    \"exclude_subgroups\": \"keep-all\", # \"keep-all\", \"drop-non-german\"\n",
    "    \"eval_fairness_grouping\": [\"majority-minority\", \"nationality-all\"]\n",
    "}\n",
    "\n",
    "output_dir=\"./output\"\n",
    "seed=0"
   ]
  },
  {
   "cell_type": "code",
   "execution_count": 4,
   "id": "c214860b",
   "metadata": {
    "execution": {
     "iopub.execute_input": "2025-08-05T16:33:53.720819Z",
     "iopub.status.busy": "2025-08-05T16:33:53.720387Z",
     "iopub.status.idle": "2025-08-05T16:33:53.725927Z",
     "shell.execute_reply": "2025-08-05T16:33:53.725103Z"
    },
    "papermill": {
     "duration": 0.019701,
     "end_time": "2025-08-05T16:33:53.727560",
     "exception": false,
     "start_time": "2025-08-05T16:33:53.707859",
     "status": "completed"
    },
    "tags": [
     "injected-parameters"
    ]
   },
   "outputs": [],
   "source": [
    "# Parameters\n",
    "universe_id = \"8c6353d5edf94eaa8deebd2508714d09\"\n",
    "run_no = \"15\"\n",
    "universe = \"{\\\"cutoff\\\": [\\\"quantile_0.1\\\", \\\"quantile_0.25\\\"], \\\"eval_fairness_grouping\\\": [\\\"majority-minority\\\", \\\"nationality-all\\\"], \\\"exclude_features\\\": \\\"none\\\", \\\"exclude_subgroups\\\": \\\"keep-all\\\", \\\"model\\\": \\\"rf\\\", \\\"scale\\\": \\\"scale\\\", \\\"training_size\\\": \\\"1k\\\", \\\"training_year\\\": \\\"2010_14\\\"}\"\n",
    "output_dir = \"output\"\n",
    "seed = \"2023\"\n"
   ]
  },
  {
   "cell_type": "code",
   "execution_count": 5,
   "id": "1650acaf",
   "metadata": {
    "execution": {
     "iopub.execute_input": "2025-08-05T16:33:53.753031Z",
     "iopub.status.busy": "2025-08-05T16:33:53.752240Z",
     "iopub.status.idle": "2025-08-05T16:33:53.757469Z",
     "shell.execute_reply": "2025-08-05T16:33:53.756584Z"
    },
    "papermill": {
     "duration": 0.019324,
     "end_time": "2025-08-05T16:33:53.759075",
     "exception": false,
     "start_time": "2025-08-05T16:33:53.739751",
     "status": "completed"
    },
    "tags": []
   },
   "outputs": [],
   "source": [
    "import json\n",
    "if isinstance(universe, str):\n",
    "    universe = json.loads(universe)"
   ]
  },
  {
   "cell_type": "code",
   "execution_count": 6,
   "id": "16620c48",
   "metadata": {
    "execution": {
     "iopub.execute_input": "2025-08-05T16:33:53.784285Z",
     "iopub.status.busy": "2025-08-05T16:33:53.783461Z",
     "iopub.status.idle": "2025-08-05T16:33:53.817656Z",
     "shell.execute_reply": "2025-08-05T16:33:53.816716Z"
    },
    "papermill": {
     "duration": 0.048648,
     "end_time": "2025-08-05T16:33:53.819563",
     "exception": false,
     "start_time": "2025-08-05T16:33:53.770915",
     "status": "completed"
    },
    "tags": []
   },
   "outputs": [],
   "source": [
    "# Auto-reload the custom package\n",
    "%load_ext autoreload\n",
    "%autoreload 1\n",
    "%aimport fairness_multiverse"
   ]
  },
  {
   "cell_type": "code",
   "execution_count": 7,
   "id": "01c5c9f3",
   "metadata": {
    "execution": {
     "iopub.execute_input": "2025-08-05T16:33:53.844137Z",
     "iopub.status.busy": "2025-08-05T16:33:53.843328Z",
     "iopub.status.idle": "2025-08-05T16:33:56.057134Z",
     "shell.execute_reply": "2025-08-05T16:33:56.055746Z"
    },
    "papermill": {
     "duration": 2.22874,
     "end_time": "2025-08-05T16:33:56.059598",
     "exception": false,
     "start_time": "2025-08-05T16:33:53.830858",
     "status": "completed"
    },
    "tags": []
   },
   "outputs": [],
   "source": [
    "from fairness_multiverse.universe import UniverseAnalysis\n",
    "\n",
    "universe_analysis = UniverseAnalysis(\n",
    "    run_no = run_no,\n",
    "    universe_id = universe_id,\n",
    "    universe = universe,\n",
    "    output_dir=output_dir,\n",
    ")"
   ]
  },
  {
   "cell_type": "code",
   "execution_count": 8,
   "id": "106241f5",
   "metadata": {
    "execution": {
     "iopub.execute_input": "2025-08-05T16:33:56.109132Z",
     "iopub.status.busy": "2025-08-05T16:33:56.108608Z",
     "iopub.status.idle": "2025-08-05T16:33:56.115763Z",
     "shell.execute_reply": "2025-08-05T16:33:56.114573Z"
    },
    "papermill": {
     "duration": 0.033471,
     "end_time": "2025-08-05T16:33:56.117440",
     "exception": false,
     "start_time": "2025-08-05T16:33:56.083969",
     "status": "completed"
    },
    "tags": []
   },
   "outputs": [
    {
     "name": "stdout",
     "output_type": "stream",
     "text": [
      "Using Seed: 2023\n"
     ]
    }
   ],
   "source": [
    "import numpy as np\n",
    "parsed_seed = int(seed)\n",
    "np.random.seed(parsed_seed)\n",
    "print(f\"Using Seed: {parsed_seed}\")"
   ]
  },
  {
   "cell_type": "markdown",
   "id": "e0ebdc57",
   "metadata": {
    "papermill": {
     "duration": 0.013726,
     "end_time": "2025-08-05T16:33:56.143802",
     "exception": false,
     "start_time": "2025-08-05T16:33:56.130076",
     "status": "completed"
    },
    "tags": []
   },
   "source": [
    "# Loading Data"
   ]
  },
  {
   "cell_type": "code",
   "execution_count": 9,
   "id": "f0496b8a",
   "metadata": {
    "execution": {
     "iopub.execute_input": "2025-08-05T16:33:56.166543Z",
     "iopub.status.busy": "2025-08-05T16:33:56.166190Z",
     "iopub.status.idle": "2025-08-05T16:34:10.657927Z",
     "shell.execute_reply": "2025-08-05T16:34:10.656150Z"
    },
    "papermill": {
     "duration": 14.505626,
     "end_time": "2025-08-05T16:34:10.660288",
     "exception": false,
     "start_time": "2025-08-05T16:33:56.154662",
     "status": "completed"
    },
    "tags": []
   },
   "outputs": [
    {
     "name": "stdout",
     "output_type": "stream",
     "text": [
      "Loading SIAB data from cache: data/siab_cached.csv.gz\n"
     ]
    },
    {
     "name": "stdout",
     "output_type": "stream",
     "text": [
      "(643690, 164)\n"
     ]
    }
   ],
   "source": [
    "from pathlib import Path\n",
    "import pandas as pd\n",
    "\n",
    "# File paths\n",
    "raw_file = Path(\"data/raw/siab.csv\")\n",
    "cache_file = Path(\"data/siab_cached.csv.gz\")\n",
    "\n",
    "# Ensure cache directory exists\n",
    "cache_file.parent.mkdir(parents=True, exist_ok=True)\n",
    "\n",
    "# Load with simple caching\n",
    "if cache_file.exists():\n",
    "    print(f\"Loading SIAB data from cache: {cache_file}\")\n",
    "    siab = pd.read_csv(cache_file, compression='gzip')\n",
    "else:\n",
    "    print(f\"Cache not found. Reading raw SIAB data: {raw_file}\")\n",
    "    siab = pd.read_csv(raw_file)\n",
    "    siab.to_csv(cache_file, index=False, compression='gzip')\n",
    "    print(f\"Cached SIAB data to: {cache_file}\")\n",
    "\n",
    "print(siab.shape)"
   ]
  },
  {
   "cell_type": "code",
   "execution_count": 10,
   "id": "db0ca512-5f53-4dba-abdb-a2888bca41ba",
   "metadata": {
    "execution": {
     "iopub.execute_input": "2025-08-05T16:34:10.717029Z",
     "iopub.status.busy": "2025-08-05T16:34:10.716419Z",
     "iopub.status.idle": "2025-08-05T16:34:10.723481Z",
     "shell.execute_reply": "2025-08-05T16:34:10.722163Z"
    },
    "papermill": {
     "duration": 0.036014,
     "end_time": "2025-08-05T16:34:10.725806",
     "exception": false,
     "start_time": "2025-08-05T16:34:10.689792",
     "status": "completed"
    },
    "tags": []
   },
   "outputs": [],
   "source": [
    "#siab"
   ]
  },
  {
   "cell_type": "markdown",
   "id": "997051c5-15bd-4b69-9786-c3001a3ce484",
   "metadata": {
    "papermill": {
     "duration": 0.025012,
     "end_time": "2025-08-05T16:34:10.776867",
     "exception": false,
     "start_time": "2025-08-05T16:34:10.751855",
     "status": "completed"
    },
    "tags": []
   },
   "source": [
    "# Splitting Data and Setting Training Data Size"
   ]
  },
  {
   "cell_type": "code",
   "execution_count": 11,
   "id": "aea9c6ef-6f46-42c8-85eb-5a62025c1508",
   "metadata": {
    "execution": {
     "iopub.execute_input": "2025-08-05T16:34:10.830681Z",
     "iopub.status.busy": "2025-08-05T16:34:10.829689Z",
     "iopub.status.idle": "2025-08-05T16:34:11.932113Z",
     "shell.execute_reply": "2025-08-05T16:34:11.930743Z"
    },
    "papermill": {
     "duration": 1.13268,
     "end_time": "2025-08-05T16:34:11.935206",
     "exception": false,
     "start_time": "2025-08-05T16:34:10.802526",
     "status": "completed"
    },
    "tags": []
   },
   "outputs": [],
   "source": [
    "from fairness_multiverse.universe import sample_by_year_size\n",
    "\n",
    "siab_train = sample_by_year_size(siab,\n",
    "                               training_year=universe[\"training_year\"],\n",
    "                               training_size=universe[\"training_size\"])"
   ]
  },
  {
   "cell_type": "code",
   "execution_count": 12,
   "id": "8d3afb32-789d-442c-8d5d-9f5aa8dd2eed",
   "metadata": {
    "execution": {
     "iopub.execute_input": "2025-08-05T16:34:11.988860Z",
     "iopub.status.busy": "2025-08-05T16:34:11.987827Z",
     "iopub.status.idle": "2025-08-05T16:34:11.993864Z",
     "shell.execute_reply": "2025-08-05T16:34:11.992712Z"
    },
    "papermill": {
     "duration": 0.03195,
     "end_time": "2025-08-05T16:34:11.995794",
     "exception": false,
     "start_time": "2025-08-05T16:34:11.963844",
     "status": "completed"
    },
    "tags": []
   },
   "outputs": [],
   "source": [
    "#siab_train.shape"
   ]
  },
  {
   "cell_type": "code",
   "execution_count": 13,
   "id": "d582db68-1a4c-47fb-84fc-08518dc1975a",
   "metadata": {
    "execution": {
     "iopub.execute_input": "2025-08-05T16:34:12.043795Z",
     "iopub.status.busy": "2025-08-05T16:34:12.042951Z",
     "iopub.status.idle": "2025-08-05T16:34:12.049467Z",
     "shell.execute_reply": "2025-08-05T16:34:12.048249Z"
    },
    "papermill": {
     "duration": 0.033956,
     "end_time": "2025-08-05T16:34:12.051687",
     "exception": false,
     "start_time": "2025-08-05T16:34:12.017731",
     "status": "completed"
    },
    "tags": []
   },
   "outputs": [],
   "source": [
    "#display(siab_train.groupby(\"year\").size())"
   ]
  },
  {
   "cell_type": "code",
   "execution_count": 14,
   "id": "a561edb4-d032-42cb-8256-22eac1111c64",
   "metadata": {
    "execution": {
     "iopub.execute_input": "2025-08-05T16:34:12.107733Z",
     "iopub.status.busy": "2025-08-05T16:34:12.106389Z",
     "iopub.status.idle": "2025-08-05T16:34:12.453312Z",
     "shell.execute_reply": "2025-08-05T16:34:12.451905Z"
    },
    "papermill": {
     "duration": 0.37776,
     "end_time": "2025-08-05T16:34:12.455749",
     "exception": false,
     "start_time": "2025-08-05T16:34:12.077989",
     "status": "completed"
    },
    "tags": []
   },
   "outputs": [],
   "source": [
    "#siab_train = siab_s[siab_s.year < 2015]\n",
    "siab_calib = siab[siab.year == 2015]\n",
    "siab_test = siab[siab.year == 2016]"
   ]
  },
  {
   "cell_type": "code",
   "execution_count": 15,
   "id": "472de16f-c3db-4916-846b-1f0de9cf1746",
   "metadata": {
    "execution": {
     "iopub.execute_input": "2025-08-05T16:34:12.504798Z",
     "iopub.status.busy": "2025-08-05T16:34:12.503772Z",
     "iopub.status.idle": "2025-08-05T16:34:12.513369Z",
     "shell.execute_reply": "2025-08-05T16:34:12.512100Z"
    },
    "papermill": {
     "duration": 0.035876,
     "end_time": "2025-08-05T16:34:12.515668",
     "exception": false,
     "start_time": "2025-08-05T16:34:12.479792",
     "status": "completed"
    },
    "tags": []
   },
   "outputs": [],
   "source": [
    "X_train = siab_train.iloc[:,4:164]\n",
    "y_train = siab_train.iloc[:, [3]]"
   ]
  },
  {
   "cell_type": "code",
   "execution_count": 16,
   "id": "828c96af-f43a-4ed6-ba47-8ac73a47d56c",
   "metadata": {
    "execution": {
     "iopub.execute_input": "2025-08-05T16:34:12.570574Z",
     "iopub.status.busy": "2025-08-05T16:34:12.569613Z",
     "iopub.status.idle": "2025-08-05T16:34:12.607564Z",
     "shell.execute_reply": "2025-08-05T16:34:12.606139Z"
    },
    "papermill": {
     "duration": 0.068039,
     "end_time": "2025-08-05T16:34:12.610133",
     "exception": false,
     "start_time": "2025-08-05T16:34:12.542094",
     "status": "completed"
    },
    "tags": []
   },
   "outputs": [],
   "source": [
    "X_calib = siab_calib.iloc[:,4:164]\n",
    "y_calib = siab_calib.iloc[:, [3]]"
   ]
  },
  {
   "cell_type": "code",
   "execution_count": 17,
   "id": "c34be9c3-6bd6-476e-acd3-845840e303be",
   "metadata": {
    "execution": {
     "iopub.execute_input": "2025-08-05T16:34:12.665881Z",
     "iopub.status.busy": "2025-08-05T16:34:12.665060Z",
     "iopub.status.idle": "2025-08-05T16:34:12.739074Z",
     "shell.execute_reply": "2025-08-05T16:34:12.737849Z"
    },
    "papermill": {
     "duration": 0.10418,
     "end_time": "2025-08-05T16:34:12.741376",
     "exception": false,
     "start_time": "2025-08-05T16:34:12.637196",
     "status": "completed"
    },
    "tags": []
   },
   "outputs": [],
   "source": [
    "X_test = siab_test.iloc[:,4:164]\n",
    "y_true = siab_test.iloc[:, [3]]"
   ]
  },
  {
   "cell_type": "code",
   "execution_count": 18,
   "id": "e6c733c5",
   "metadata": {
    "execution": {
     "iopub.execute_input": "2025-08-05T16:34:12.796755Z",
     "iopub.status.busy": "2025-08-05T16:34:12.795902Z",
     "iopub.status.idle": "2025-08-05T16:34:12.906221Z",
     "shell.execute_reply": "2025-08-05T16:34:12.904820Z"
    },
    "papermill": {
     "duration": 0.140907,
     "end_time": "2025-08-05T16:34:12.908975",
     "exception": false,
     "start_time": "2025-08-05T16:34:12.768068",
     "status": "completed"
    },
    "tags": []
   },
   "outputs": [],
   "source": [
    "# Auxiliary data needed downstream in the pipeline\n",
    "\n",
    "org_train = X_train.copy()\n",
    "org_test = X_test.copy()\n",
    "org_calib = X_calib.copy()"
   ]
  },
  {
   "cell_type": "markdown",
   "id": "0a4a1b33",
   "metadata": {
    "papermill": {
     "duration": 0.026681,
     "end_time": "2025-08-05T16:34:12.963485",
     "exception": false,
     "start_time": "2025-08-05T16:34:12.936804",
     "status": "completed"
    },
    "tags": []
   },
   "source": [
    "# Preprocessing Data"
   ]
  },
  {
   "cell_type": "code",
   "execution_count": 19,
   "id": "ca879031",
   "metadata": {
    "execution": {
     "iopub.execute_input": "2025-08-05T16:34:13.026433Z",
     "iopub.status.busy": "2025-08-05T16:34:13.025936Z",
     "iopub.status.idle": "2025-08-05T16:34:13.033677Z",
     "shell.execute_reply": "2025-08-05T16:34:13.032344Z"
    },
    "papermill": {
     "duration": 0.042155,
     "end_time": "2025-08-05T16:34:13.036107",
     "exception": false,
     "start_time": "2025-08-05T16:34:12.993952",
     "status": "completed"
    },
    "tags": []
   },
   "outputs": [],
   "source": [
    "# EXCLUDE PROTECTED FEATURES\n",
    "# ----------------------\n",
    "# \"exclude_features\": \"none\", # \"nationality\", \"sex\", \"nationality-sex\"\n",
    "\n",
    "excluded_features = universe[\"exclude_features\"].split(\"-\") # split, e.g.: \"nationality-sex\" -> [\"nationality\", \"sex\"]\n",
    "excluded_features_dictionary = {\n",
    "    \"nationality\": [\"maxdeutsch1\", \"maxdeutsch.Missing.\"],\n",
    "    \"sex\": [\"frau1\"],\n",
    "    \"age\": [\"age\"],\n",
    "}"
   ]
  },
  {
   "cell_type": "code",
   "execution_count": 20,
   "id": "b745ac60",
   "metadata": {
    "execution": {
     "iopub.execute_input": "2025-08-05T16:34:13.100714Z",
     "iopub.status.busy": "2025-08-05T16:34:13.099832Z",
     "iopub.status.idle": "2025-08-05T16:34:13.107250Z",
     "shell.execute_reply": "2025-08-05T16:34:13.106013Z"
    },
    "papermill": {
     "duration": 0.04195,
     "end_time": "2025-08-05T16:34:13.109473",
     "exception": false,
     "start_time": "2025-08-05T16:34:13.067523",
     "status": "completed"
    },
    "tags": []
   },
   "outputs": [],
   "source": [
    "# Code nice names to column names\n",
    "\n",
    "excluded_features_columns = [\n",
    "    excluded_features_dictionary[f] for f in excluded_features if len(f) > 0 and f != \"none\"\n",
    "]"
   ]
  },
  {
   "cell_type": "code",
   "execution_count": 21,
   "id": "f84f73a2",
   "metadata": {
    "execution": {
     "iopub.execute_input": "2025-08-05T16:34:13.174261Z",
     "iopub.status.busy": "2025-08-05T16:34:13.172800Z",
     "iopub.status.idle": "2025-08-05T16:34:13.182189Z",
     "shell.execute_reply": "2025-08-05T16:34:13.180878Z"
    },
    "papermill": {
     "duration": 0.04355,
     "end_time": "2025-08-05T16:34:13.184094",
     "exception": false,
     "start_time": "2025-08-05T16:34:13.140544",
     "status": "completed"
    },
    "tags": []
   },
   "outputs": [],
   "source": [
    "from utils import flatten_once\n",
    "\n",
    "excluded_features_columns = flatten_once(excluded_features_columns)"
   ]
  },
  {
   "cell_type": "code",
   "execution_count": 22,
   "id": "884dea22",
   "metadata": {
    "execution": {
     "iopub.execute_input": "2025-08-05T16:34:13.233864Z",
     "iopub.status.busy": "2025-08-05T16:34:13.232945Z",
     "iopub.status.idle": "2025-08-05T16:34:13.241771Z",
     "shell.execute_reply": "2025-08-05T16:34:13.240515Z"
    },
    "papermill": {
     "duration": 0.035744,
     "end_time": "2025-08-05T16:34:13.243845",
     "exception": false,
     "start_time": "2025-08-05T16:34:13.208101",
     "status": "completed"
    },
    "tags": []
   },
   "outputs": [],
   "source": [
    "if len(excluded_features_columns) > 0:\n",
    "    print(f\"Dropping features: {excluded_features_columns}\")\n",
    "    X_train.drop(excluded_features_columns, axis=1, inplace=True)"
   ]
  },
  {
   "cell_type": "code",
   "execution_count": 23,
   "id": "95ab8b16",
   "metadata": {
    "execution": {
     "iopub.execute_input": "2025-08-05T16:34:13.293409Z",
     "iopub.status.busy": "2025-08-05T16:34:13.292398Z",
     "iopub.status.idle": "2025-08-05T16:34:13.302066Z",
     "shell.execute_reply": "2025-08-05T16:34:13.300645Z"
    },
    "papermill": {
     "duration": 0.0365,
     "end_time": "2025-08-05T16:34:13.304322",
     "exception": false,
     "start_time": "2025-08-05T16:34:13.267822",
     "status": "completed"
    },
    "tags": []
   },
   "outputs": [],
   "source": [
    "if len(excluded_features_columns) > 0:\n",
    "    print(f\"Dropping features: {excluded_features_columns}\")\n",
    "    X_test.drop(excluded_features_columns, axis=1, inplace=True)"
   ]
  },
  {
   "cell_type": "code",
   "execution_count": 24,
   "id": "1853aaf5-fb9f-46cb-a2b5-8ea4ae2237e4",
   "metadata": {
    "execution": {
     "iopub.execute_input": "2025-08-05T16:34:13.356075Z",
     "iopub.status.busy": "2025-08-05T16:34:13.355144Z",
     "iopub.status.idle": "2025-08-05T16:34:13.363528Z",
     "shell.execute_reply": "2025-08-05T16:34:13.362078Z"
    },
    "papermill": {
     "duration": 0.036707,
     "end_time": "2025-08-05T16:34:13.365572",
     "exception": false,
     "start_time": "2025-08-05T16:34:13.328865",
     "status": "completed"
    },
    "tags": []
   },
   "outputs": [],
   "source": [
    "if len(excluded_features_columns) > 0:\n",
    "    print(f\"Dropping features: {excluded_features_columns}\")\n",
    "    X_calib.drop(excluded_features_columns, axis=1, inplace=True)"
   ]
  },
  {
   "cell_type": "code",
   "execution_count": 25,
   "id": "76c4dc6d",
   "metadata": {
    "execution": {
     "iopub.execute_input": "2025-08-05T16:34:13.415389Z",
     "iopub.status.busy": "2025-08-05T16:34:13.414068Z",
     "iopub.status.idle": "2025-08-05T16:34:13.422212Z",
     "shell.execute_reply": "2025-08-05T16:34:13.420991Z"
    },
    "papermill": {
     "duration": 0.034857,
     "end_time": "2025-08-05T16:34:13.424122",
     "exception": false,
     "start_time": "2025-08-05T16:34:13.389265",
     "status": "completed"
    },
    "tags": []
   },
   "outputs": [],
   "source": [
    "# EXCLUDE CERTAIN SUBGROUPS\n",
    "# ----------------------\n",
    "\n",
    "mode = universe.get(\"exclude_subgroups\", \"keep-all\") \n",
    "# Fetches the exclude_subgroups setting from the universe dict.\n",
    "# Defaults to \"keep-all\" if the key is missing."
   ]
  },
  {
   "cell_type": "code",
   "execution_count": 26,
   "id": "21994072",
   "metadata": {
    "execution": {
     "iopub.execute_input": "2025-08-05T16:34:13.474764Z",
     "iopub.status.busy": "2025-08-05T16:34:13.473872Z",
     "iopub.status.idle": "2025-08-05T16:34:13.483753Z",
     "shell.execute_reply": "2025-08-05T16:34:13.482499Z"
    },
    "papermill": {
     "duration": 0.037175,
     "end_time": "2025-08-05T16:34:13.485654",
     "exception": false,
     "start_time": "2025-08-05T16:34:13.448479",
     "status": "completed"
    },
    "tags": []
   },
   "outputs": [],
   "source": [
    "if mode == \"keep-all\":\n",
    "    keep_mask = pd.Series(True, index=org_train.index)\n",
    "\n",
    "# org_train contains the original feature columns from features_org (in Simson)\n",
    "# features_org contains unprocessed features, for me X_train at beginning ???\n",
    "# For keep-all, creates a boolean Series (keep_mask) of all True, so no rows are removed.\n",
    "\n",
    "elif mode == \"drop-non-german\":\n",
    "    keep_mask = org_train[\"maxdeutsch1\"] == 1 # ??? what about missing values?\n",
    "\n",
    "else:\n",
    "    raise ValueError(f\"Unsupported mode for exclude_subgroups: {mode}\")"
   ]
  },
  {
   "cell_type": "code",
   "execution_count": 27,
   "id": "71651440",
   "metadata": {
    "execution": {
     "iopub.execute_input": "2025-08-05T16:34:13.537332Z",
     "iopub.status.busy": "2025-08-05T16:34:13.536003Z",
     "iopub.status.idle": "2025-08-05T16:34:13.545309Z",
     "shell.execute_reply": "2025-08-05T16:34:13.544053Z"
    },
    "papermill": {
     "duration": 0.03756,
     "end_time": "2025-08-05T16:34:13.547470",
     "exception": false,
     "start_time": "2025-08-05T16:34:13.509910",
     "status": "completed"
    },
    "tags": []
   },
   "outputs": [],
   "source": [
    "n_drop = (~keep_mask).sum() # Calculates how many rows are set to be dropped\n",
    "if n_drop > 0:\n",
    "    pct = n_drop / len(keep_mask) * 100\n",
    "    print(f\"Dropping {n_drop} rows ({pct:.2f}%) where mode='{mode}'\")"
   ]
  },
  {
   "cell_type": "code",
   "execution_count": 28,
   "id": "5fb8eee5",
   "metadata": {
    "execution": {
     "iopub.execute_input": "2025-08-05T16:34:13.598243Z",
     "iopub.status.busy": "2025-08-05T16:34:13.597362Z",
     "iopub.status.idle": "2025-08-05T16:34:13.606551Z",
     "shell.execute_reply": "2025-08-05T16:34:13.605269Z"
    },
    "papermill": {
     "duration": 0.037338,
     "end_time": "2025-08-05T16:34:13.608609",
     "exception": false,
     "start_time": "2025-08-05T16:34:13.571271",
     "status": "completed"
    },
    "tags": []
   },
   "outputs": [],
   "source": [
    "X_train = X_train[keep_mask]"
   ]
  },
  {
   "cell_type": "code",
   "execution_count": 29,
   "id": "b202bb3a",
   "metadata": {
    "execution": {
     "iopub.execute_input": "2025-08-05T16:34:13.654967Z",
     "iopub.status.busy": "2025-08-05T16:34:13.654083Z",
     "iopub.status.idle": "2025-08-05T16:34:13.662344Z",
     "shell.execute_reply": "2025-08-05T16:34:13.660950Z"
    },
    "papermill": {
     "duration": 0.033473,
     "end_time": "2025-08-05T16:34:13.664397",
     "exception": false,
     "start_time": "2025-08-05T16:34:13.630924",
     "status": "completed"
    },
    "tags": []
   },
   "outputs": [],
   "source": [
    "y_train = y_train[keep_mask]"
   ]
  },
  {
   "cell_type": "markdown",
   "id": "493e2ac3",
   "metadata": {
    "papermill": {
     "duration": 0.02121,
     "end_time": "2025-08-05T16:34:13.707330",
     "exception": false,
     "start_time": "2025-08-05T16:34:13.686120",
     "status": "completed"
    },
    "tags": []
   },
   "source": [
    "# Model Training"
   ]
  },
  {
   "cell_type": "code",
   "execution_count": 30,
   "id": "679e1268",
   "metadata": {
    "execution": {
     "iopub.execute_input": "2025-08-05T16:34:13.753651Z",
     "iopub.status.busy": "2025-08-05T16:34:13.752864Z",
     "iopub.status.idle": "2025-08-05T16:34:13.879717Z",
     "shell.execute_reply": "2025-08-05T16:34:13.878574Z"
    },
    "papermill": {
     "duration": 0.152137,
     "end_time": "2025-08-05T16:34:13.882069",
     "exception": false,
     "start_time": "2025-08-05T16:34:13.729932",
     "status": "completed"
    },
    "tags": []
   },
   "outputs": [],
   "source": [
    "from sklearn.linear_model import LogisticRegression\n",
    "from sklearn.ensemble import GradientBoostingClassifier, RandomForestClassifier\n",
    "\n",
    "if (universe[\"model\"] == \"logreg\"):\n",
    "    model = LogisticRegression() #penalty=\"none\", solver=\"newton-cg\", max_iter=1) # include random_state=19 ?\n",
    "elif (universe[\"model\"] == \"penalized_logreg\"):\n",
    "    model = LogisticRegression(penalty=\"l2\", C=0.1) #, solver=\"newton-cg\", max_iter=1)\n",
    "elif (universe[\"model\"] == \"rf\"):\n",
    "    model = RandomForestClassifier() # n_estimators=100, n_jobs=-1\n",
    "elif (universe[\"model\"] == \"gbm\"):\n",
    "    model = GradientBoostingClassifier()\n",
    "elif (universe[\"model\"] == \"elasticnet\"):\n",
    "    model = LogisticRegression(penalty = 'elasticnet', solver = 'saga', l1_ratio = 0.5) # max_iter=5000\n",
    "else:\n",
    "    raise \"Unsupported universe.model\""
   ]
  },
  {
   "cell_type": "code",
   "execution_count": 31,
   "id": "0cc8f744",
   "metadata": {
    "execution": {
     "iopub.execute_input": "2025-08-05T16:34:13.928908Z",
     "iopub.status.busy": "2025-08-05T16:34:13.927825Z",
     "iopub.status.idle": "2025-08-05T16:34:13.935599Z",
     "shell.execute_reply": "2025-08-05T16:34:13.934581Z"
    },
    "papermill": {
     "duration": 0.032743,
     "end_time": "2025-08-05T16:34:13.937446",
     "exception": false,
     "start_time": "2025-08-05T16:34:13.904703",
     "status": "completed"
    },
    "tags": []
   },
   "outputs": [],
   "source": [
    "import numpy as np\n",
    "from sklearn.pipeline import Pipeline\n",
    "from sklearn.preprocessing import StandardScaler\n",
    "\n",
    "model = Pipeline([\n",
    "    #(\"continuous_processor\", continuous_processor),\n",
    "    #(\"categorical_preprocessor\", categorical_preprocessor),\n",
    "    (\"scale\", StandardScaler() if universe[\"scale\"] == \"scale\" else None), \n",
    "    (\"model\", model),\n",
    "])"
   ]
  },
  {
   "cell_type": "code",
   "execution_count": 32,
   "id": "9442c04d",
   "metadata": {
    "execution": {
     "iopub.execute_input": "2025-08-05T16:34:13.989938Z",
     "iopub.status.busy": "2025-08-05T16:34:13.989229Z",
     "iopub.status.idle": "2025-08-05T16:34:14.510291Z",
     "shell.execute_reply": "2025-08-05T16:34:14.509161Z"
    },
    "papermill": {
     "duration": 0.549667,
     "end_time": "2025-08-05T16:34:14.512530",
     "exception": false,
     "start_time": "2025-08-05T16:34:13.962863",
     "status": "completed"
    },
    "tags": []
   },
   "outputs": [
    {
     "data": {
      "text/html": [
       "<style>#sk-container-id-1 {color: black;background-color: white;}#sk-container-id-1 pre{padding: 0;}#sk-container-id-1 div.sk-toggleable {background-color: white;}#sk-container-id-1 label.sk-toggleable__label {cursor: pointer;display: block;width: 100%;margin-bottom: 0;padding: 0.3em;box-sizing: border-box;text-align: center;}#sk-container-id-1 label.sk-toggleable__label-arrow:before {content: \"▸\";float: left;margin-right: 0.25em;color: #696969;}#sk-container-id-1 label.sk-toggleable__label-arrow:hover:before {color: black;}#sk-container-id-1 div.sk-estimator:hover label.sk-toggleable__label-arrow:before {color: black;}#sk-container-id-1 div.sk-toggleable__content {max-height: 0;max-width: 0;overflow: hidden;text-align: left;background-color: #f0f8ff;}#sk-container-id-1 div.sk-toggleable__content pre {margin: 0.2em;color: black;border-radius: 0.25em;background-color: #f0f8ff;}#sk-container-id-1 input.sk-toggleable__control:checked~div.sk-toggleable__content {max-height: 200px;max-width: 100%;overflow: auto;}#sk-container-id-1 input.sk-toggleable__control:checked~label.sk-toggleable__label-arrow:before {content: \"▾\";}#sk-container-id-1 div.sk-estimator input.sk-toggleable__control:checked~label.sk-toggleable__label {background-color: #d4ebff;}#sk-container-id-1 div.sk-label input.sk-toggleable__control:checked~label.sk-toggleable__label {background-color: #d4ebff;}#sk-container-id-1 input.sk-hidden--visually {border: 0;clip: rect(1px 1px 1px 1px);clip: rect(1px, 1px, 1px, 1px);height: 1px;margin: -1px;overflow: hidden;padding: 0;position: absolute;width: 1px;}#sk-container-id-1 div.sk-estimator {font-family: monospace;background-color: #f0f8ff;border: 1px dotted black;border-radius: 0.25em;box-sizing: border-box;margin-bottom: 0.5em;}#sk-container-id-1 div.sk-estimator:hover {background-color: #d4ebff;}#sk-container-id-1 div.sk-parallel-item::after {content: \"\";width: 100%;border-bottom: 1px solid gray;flex-grow: 1;}#sk-container-id-1 div.sk-label:hover label.sk-toggleable__label {background-color: #d4ebff;}#sk-container-id-1 div.sk-serial::before {content: \"\";position: absolute;border-left: 1px solid gray;box-sizing: border-box;top: 0;bottom: 0;left: 50%;z-index: 0;}#sk-container-id-1 div.sk-serial {display: flex;flex-direction: column;align-items: center;background-color: white;padding-right: 0.2em;padding-left: 0.2em;position: relative;}#sk-container-id-1 div.sk-item {position: relative;z-index: 1;}#sk-container-id-1 div.sk-parallel {display: flex;align-items: stretch;justify-content: center;background-color: white;position: relative;}#sk-container-id-1 div.sk-item::before, #sk-container-id-1 div.sk-parallel-item::before {content: \"\";position: absolute;border-left: 1px solid gray;box-sizing: border-box;top: 0;bottom: 0;left: 50%;z-index: -1;}#sk-container-id-1 div.sk-parallel-item {display: flex;flex-direction: column;z-index: 1;position: relative;background-color: white;}#sk-container-id-1 div.sk-parallel-item:first-child::after {align-self: flex-end;width: 50%;}#sk-container-id-1 div.sk-parallel-item:last-child::after {align-self: flex-start;width: 50%;}#sk-container-id-1 div.sk-parallel-item:only-child::after {width: 0;}#sk-container-id-1 div.sk-dashed-wrapped {border: 1px dashed gray;margin: 0 0.4em 0.5em 0.4em;box-sizing: border-box;padding-bottom: 0.4em;background-color: white;}#sk-container-id-1 div.sk-label label {font-family: monospace;font-weight: bold;display: inline-block;line-height: 1.2em;}#sk-container-id-1 div.sk-label-container {text-align: center;}#sk-container-id-1 div.sk-container {/* jupyter's `normalize.less` sets `[hidden] { display: none; }` but bootstrap.min.css set `[hidden] { display: none !important; }` so we also need the `!important` here to be able to override the default hidden behavior on the sphinx rendered scikit-learn.org. See: https://github.com/scikit-learn/scikit-learn/issues/21755 */display: inline-block !important;position: relative;}#sk-container-id-1 div.sk-text-repr-fallback {display: none;}</style><div id=\"sk-container-id-1\" class=\"sk-top-container\"><div class=\"sk-text-repr-fallback\"><pre>Pipeline(steps=[(&#x27;scale&#x27;, StandardScaler()),\n",
       "                (&#x27;model&#x27;, RandomForestClassifier())])</pre><b>In a Jupyter environment, please rerun this cell to show the HTML representation or trust the notebook. <br />On GitHub, the HTML representation is unable to render, please try loading this page with nbviewer.org.</b></div><div class=\"sk-container\" hidden><div class=\"sk-item sk-dashed-wrapped\"><div class=\"sk-label-container\"><div class=\"sk-label sk-toggleable\"><input class=\"sk-toggleable__control sk-hidden--visually\" id=\"sk-estimator-id-1\" type=\"checkbox\" ><label for=\"sk-estimator-id-1\" class=\"sk-toggleable__label sk-toggleable__label-arrow\">Pipeline</label><div class=\"sk-toggleable__content\"><pre>Pipeline(steps=[(&#x27;scale&#x27;, StandardScaler()),\n",
       "                (&#x27;model&#x27;, RandomForestClassifier())])</pre></div></div></div><div class=\"sk-serial\"><div class=\"sk-item\"><div class=\"sk-estimator sk-toggleable\"><input class=\"sk-toggleable__control sk-hidden--visually\" id=\"sk-estimator-id-2\" type=\"checkbox\" ><label for=\"sk-estimator-id-2\" class=\"sk-toggleable__label sk-toggleable__label-arrow\">StandardScaler</label><div class=\"sk-toggleable__content\"><pre>StandardScaler()</pre></div></div></div><div class=\"sk-item\"><div class=\"sk-estimator sk-toggleable\"><input class=\"sk-toggleable__control sk-hidden--visually\" id=\"sk-estimator-id-3\" type=\"checkbox\" ><label for=\"sk-estimator-id-3\" class=\"sk-toggleable__label sk-toggleable__label-arrow\">RandomForestClassifier</label><div class=\"sk-toggleable__content\"><pre>RandomForestClassifier()</pre></div></div></div></div></div></div></div>"
      ],
      "text/plain": [
       "Pipeline(steps=[('scale', StandardScaler()),\n",
       "                ('model', RandomForestClassifier())])"
      ]
     },
     "execution_count": 32,
     "metadata": {},
     "output_type": "execute_result"
    }
   ],
   "source": [
    "model.fit(X_train, y_train.values.ravel())"
   ]
  },
  {
   "cell_type": "code",
   "execution_count": 33,
   "id": "af59f8c0",
   "metadata": {
    "execution": {
     "iopub.execute_input": "2025-08-05T16:34:14.569591Z",
     "iopub.status.busy": "2025-08-05T16:34:14.568394Z",
     "iopub.status.idle": "2025-08-05T16:34:14.575005Z",
     "shell.execute_reply": "2025-08-05T16:34:14.573963Z"
    },
    "papermill": {
     "duration": 0.035164,
     "end_time": "2025-08-05T16:34:14.577017",
     "exception": false,
     "start_time": "2025-08-05T16:34:14.541853",
     "status": "completed"
    },
    "tags": []
   },
   "outputs": [],
   "source": [
    "from fairness_multiverse.universe import predict_w_threshold"
   ]
  },
  {
   "cell_type": "code",
   "execution_count": 34,
   "id": "a7cf2e16",
   "metadata": {
    "execution": {
     "iopub.execute_input": "2025-08-05T16:34:14.629994Z",
     "iopub.status.busy": "2025-08-05T16:34:14.629455Z",
     "iopub.status.idle": "2025-08-05T16:34:16.593748Z",
     "shell.execute_reply": "2025-08-05T16:34:16.592525Z"
    },
    "papermill": {
     "duration": 1.993719,
     "end_time": "2025-08-05T16:34:16.595815",
     "exception": false,
     "start_time": "2025-08-05T16:34:14.602096",
     "status": "completed"
    },
    "tags": []
   },
   "outputs": [
    {
     "data": {
      "text/plain": [
       "0.8609296622450117"
      ]
     },
     "execution_count": 34,
     "metadata": {},
     "output_type": "execute_result"
    }
   ],
   "source": [
    "probs_test = model.predict_proba(X_test)\n",
    "\n",
    "'''\n",
    "Below code returns a boolean array (or binary 0/1 array depending on how it’s used) where each element \n",
    "is True if the probability of class 1 is greater than or equal to the threshold, and False otherwise.\n",
    "'''\n",
    "y_pred_default = predict_w_threshold(probs_test, 0.5)\n",
    "\n",
    "from sklearn.metrics import accuracy_score\n",
    "\n",
    "# Naive prediction\n",
    "accuracy_score(y_true = y_true, y_pred = y_pred_default)"
   ]
  },
  {
   "cell_type": "code",
   "execution_count": 35,
   "id": "081964c3",
   "metadata": {
    "execution": {
     "iopub.execute_input": "2025-08-05T16:34:16.651634Z",
     "iopub.status.busy": "2025-08-05T16:34:16.650915Z",
     "iopub.status.idle": "2025-08-05T16:34:18.566255Z",
     "shell.execute_reply": "2025-08-05T16:34:18.565267Z"
    },
    "papermill": {
     "duration": 1.944396,
     "end_time": "2025-08-05T16:34:18.567917",
     "exception": false,
     "start_time": "2025-08-05T16:34:16.623521",
     "status": "completed"
    },
    "tags": []
   },
   "outputs": [
    {
     "data": {
      "text/plain": [
       "array([0, 0, 0, ..., 0, 0, 0])"
      ]
     },
     "execution_count": 35,
     "metadata": {},
     "output_type": "execute_result"
    }
   ],
   "source": [
    "model.predict(X_test)"
   ]
  },
  {
   "cell_type": "markdown",
   "id": "56c9705b",
   "metadata": {
    "papermill": {
     "duration": 0.021095,
     "end_time": "2025-08-05T16:34:18.611922",
     "exception": false,
     "start_time": "2025-08-05T16:34:18.590827",
     "status": "completed"
    },
    "tags": []
   },
   "source": [
    "# Conformal Prediction"
   ]
  },
  {
   "cell_type": "code",
   "execution_count": 36,
   "id": "160ec6ff",
   "metadata": {
    "execution": {
     "iopub.execute_input": "2025-08-05T16:34:18.656362Z",
     "iopub.status.busy": "2025-08-05T16:34:18.655472Z",
     "iopub.status.idle": "2025-08-05T16:34:18.660738Z",
     "shell.execute_reply": "2025-08-05T16:34:18.659837Z"
    },
    "papermill": {
     "duration": 0.029129,
     "end_time": "2025-08-05T16:34:18.662462",
     "exception": false,
     "start_time": "2025-08-05T16:34:18.633333",
     "status": "completed"
    },
    "tags": []
   },
   "outputs": [],
   "source": [
    "# Miscoverage level for conformal prediction (10% allowed error rate => 90% target coverage)\n",
    "alpha = 0.1"
   ]
  },
  {
   "cell_type": "code",
   "execution_count": 37,
   "id": "eadf4555-3dd3-440e-8e35-f82a4ad9f855",
   "metadata": {
    "execution": {
     "iopub.execute_input": "2025-08-05T16:34:18.706654Z",
     "iopub.status.busy": "2025-08-05T16:34:18.705745Z",
     "iopub.status.idle": "2025-08-05T16:34:20.484287Z",
     "shell.execute_reply": "2025-08-05T16:34:20.483078Z"
    },
    "papermill": {
     "duration": 1.80284,
     "end_time": "2025-08-05T16:34:20.486778",
     "exception": false,
     "start_time": "2025-08-05T16:34:18.683938",
     "status": "completed"
    },
    "tags": []
   },
   "outputs": [],
   "source": [
    "probs_calib = model.predict_proba(X_calib)"
   ]
  },
  {
   "cell_type": "code",
   "execution_count": 38,
   "id": "2ed93547-6d5d-4983-9b36-1ecb300da49a",
   "metadata": {
    "execution": {
     "iopub.execute_input": "2025-08-05T16:34:20.546260Z",
     "iopub.status.busy": "2025-08-05T16:34:20.545493Z",
     "iopub.status.idle": "2025-08-05T16:34:20.552515Z",
     "shell.execute_reply": "2025-08-05T16:34:20.551393Z"
    },
    "papermill": {
     "duration": 0.037878,
     "end_time": "2025-08-05T16:34:20.554721",
     "exception": false,
     "start_time": "2025-08-05T16:34:20.516843",
     "status": "completed"
    },
    "tags": []
   },
   "outputs": [],
   "source": [
    "y_calib = y_calib.values.ravel().astype(int)"
   ]
  },
  {
   "cell_type": "code",
   "execution_count": 39,
   "id": "65d1320d-f588-4b38-9072-62af1ae97f7d",
   "metadata": {
    "execution": {
     "iopub.execute_input": "2025-08-05T16:34:20.613266Z",
     "iopub.status.busy": "2025-08-05T16:34:20.612708Z",
     "iopub.status.idle": "2025-08-05T16:34:20.621689Z",
     "shell.execute_reply": "2025-08-05T16:34:20.620565Z"
    },
    "papermill": {
     "duration": 0.04074,
     "end_time": "2025-08-05T16:34:20.623528",
     "exception": false,
     "start_time": "2025-08-05T16:34:20.582788",
     "status": "completed"
    },
    "tags": []
   },
   "outputs": [],
   "source": [
    "from fairness_multiverse.conformal import compute_nc_scores\n",
    "\n",
    "# Compute nonconformity scores on calibration set (1 - probability of true class)\n",
    "nc_scores = compute_nc_scores(probs_calib, y_calib)"
   ]
  },
  {
   "cell_type": "code",
   "execution_count": 40,
   "id": "df3b8ca3-53b7-43d5-9667-7c85da7aeda2",
   "metadata": {
    "execution": {
     "iopub.execute_input": "2025-08-05T16:34:20.670135Z",
     "iopub.status.busy": "2025-08-05T16:34:20.669156Z",
     "iopub.status.idle": "2025-08-05T16:34:20.676803Z",
     "shell.execute_reply": "2025-08-05T16:34:20.675701Z"
    },
    "papermill": {
     "duration": 0.032807,
     "end_time": "2025-08-05T16:34:20.678686",
     "exception": false,
     "start_time": "2025-08-05T16:34:20.645879",
     "status": "completed"
    },
    "tags": []
   },
   "outputs": [],
   "source": [
    "from fairness_multiverse.conformal import find_threshold\n",
    "\n",
    "# Find conformal threshold q_hat for the given alpha (split conformal method)\n",
    "q_hat = find_threshold(nc_scores, alpha)"
   ]
  },
  {
   "cell_type": "code",
   "execution_count": 41,
   "id": "4d29e6c1-0ef6-4aa4-b8fe-4fe79b0d033a",
   "metadata": {
    "execution": {
     "iopub.execute_input": "2025-08-05T16:34:20.724938Z",
     "iopub.status.busy": "2025-08-05T16:34:20.724420Z",
     "iopub.status.idle": "2025-08-05T16:34:20.732837Z",
     "shell.execute_reply": "2025-08-05T16:34:20.731778Z"
    },
    "papermill": {
     "duration": 0.033468,
     "end_time": "2025-08-05T16:34:20.734916",
     "exception": false,
     "start_time": "2025-08-05T16:34:20.701448",
     "status": "completed"
    },
    "tags": []
   },
   "outputs": [
    {
     "data": {
      "text/plain": [
       "0.65"
      ]
     },
     "execution_count": 41,
     "metadata": {},
     "output_type": "execute_result"
    }
   ],
   "source": [
    "q_hat"
   ]
  },
  {
   "cell_type": "code",
   "execution_count": 42,
   "id": "92460794-cdac-4be2-ba28-f28c0515a6fb",
   "metadata": {
    "execution": {
     "iopub.execute_input": "2025-08-05T16:34:20.786899Z",
     "iopub.status.busy": "2025-08-05T16:34:20.786273Z",
     "iopub.status.idle": "2025-08-05T16:34:23.807514Z",
     "shell.execute_reply": "2025-08-05T16:34:23.806325Z"
    },
    "papermill": {
     "duration": 3.048446,
     "end_time": "2025-08-05T16:34:23.809659",
     "exception": false,
     "start_time": "2025-08-05T16:34:20.761213",
     "status": "completed"
    },
    "tags": []
   },
   "outputs": [],
   "source": [
    "from fairness_multiverse.conformal import predict_conformal_sets\n",
    "\n",
    "# Generate prediction sets for each test example\n",
    "pred_sets = predict_conformal_sets(model, X_test, q_hat)"
   ]
  },
  {
   "cell_type": "code",
   "execution_count": 43,
   "id": "d90c9a65-e6db-4f5d-80cd-e68fb7e46829",
   "metadata": {
    "execution": {
     "iopub.execute_input": "2025-08-05T16:34:23.859728Z",
     "iopub.status.busy": "2025-08-05T16:34:23.858709Z",
     "iopub.status.idle": "2025-08-05T16:34:23.865349Z",
     "shell.execute_reply": "2025-08-05T16:34:23.864175Z"
    },
    "papermill": {
     "duration": 0.033466,
     "end_time": "2025-08-05T16:34:23.867343",
     "exception": false,
     "start_time": "2025-08-05T16:34:23.833877",
     "status": "completed"
    },
    "tags": []
   },
   "outputs": [],
   "source": [
    "y_true = y_true.squeeze()"
   ]
  },
  {
   "cell_type": "code",
   "execution_count": 44,
   "id": "3a58a54a-1e68-46b9-927a-df01f18aebc8",
   "metadata": {
    "execution": {
     "iopub.execute_input": "2025-08-05T16:34:23.915813Z",
     "iopub.status.busy": "2025-08-05T16:34:23.914933Z",
     "iopub.status.idle": "2025-08-05T16:34:25.101209Z",
     "shell.execute_reply": "2025-08-05T16:34:25.100318Z"
    },
    "papermill": {
     "duration": 1.212745,
     "end_time": "2025-08-05T16:34:25.102917",
     "exception": false,
     "start_time": "2025-08-05T16:34:23.890172",
     "status": "completed"
    },
    "tags": []
   },
   "outputs": [],
   "source": [
    "from fairness_multiverse.conformal import evaluate_sets\n",
    "\n",
    "# Evaluate coverage and average set size on test data\n",
    "metrics = evaluate_sets(pred_sets, y_true)"
   ]
  },
  {
   "cell_type": "markdown",
   "id": "2b569c12-9aaa-4c88-98c9-bbcd0cf3ebb8",
   "metadata": {
    "papermill": {
     "duration": 0.012666,
     "end_time": "2025-08-05T16:34:25.131699",
     "exception": false,
     "start_time": "2025-08-05T16:34:25.119033",
     "status": "completed"
    },
    "tags": []
   },
   "source": [
    "# CP Metrics"
   ]
  },
  {
   "cell_type": "code",
   "execution_count": 45,
   "id": "5ce0a5cb-201f-45a0-ade5-94c7f0bd6095",
   "metadata": {
    "execution": {
     "iopub.execute_input": "2025-08-05T16:34:25.158773Z",
     "iopub.status.busy": "2025-08-05T16:34:25.158074Z",
     "iopub.status.idle": "2025-08-05T16:34:25.166113Z",
     "shell.execute_reply": "2025-08-05T16:34:25.164960Z"
    },
    "papermill": {
     "duration": 0.023619,
     "end_time": "2025-08-05T16:34:25.168036",
     "exception": false,
     "start_time": "2025-08-05T16:34:25.144417",
     "status": "completed"
    },
    "tags": []
   },
   "outputs": [
    {
     "data": {
      "text/plain": [
       "{'coverage': 0.9139895217924423, 'avg_size': 1.149838368074908}"
      ]
     },
     "execution_count": 45,
     "metadata": {},
     "output_type": "execute_result"
    }
   ],
   "source": [
    "metrics"
   ]
  },
  {
   "cell_type": "code",
   "execution_count": 46,
   "id": "9b9a838d-31c9-430b-ae14-12baee460d17",
   "metadata": {
    "execution": {
     "iopub.execute_input": "2025-08-05T16:34:25.217021Z",
     "iopub.status.busy": "2025-08-05T16:34:25.216581Z",
     "iopub.status.idle": "2025-08-05T16:34:25.223935Z",
     "shell.execute_reply": "2025-08-05T16:34:25.222776Z"
    },
    "papermill": {
     "duration": 0.033778,
     "end_time": "2025-08-05T16:34:25.225782",
     "exception": false,
     "start_time": "2025-08-05T16:34:25.192004",
     "status": "completed"
    },
    "tags": []
   },
   "outputs": [],
   "source": [
    "example_universe = universe.copy()\n",
    "universe_training_year = example_universe.get(\"training_year\")\n",
    "universe_training_size = example_universe.get(\"training_size\")\n",
    "universe_scale = example_universe.get(\"scale\")\n",
    "universe_model = example_universe.get(\"model\")\n",
    "universe_exclude_features = example_universe.get(\"exclude_features\")\n",
    "universe_exclude_subgroups = example_universe.get(\"exclude_subgroups\")"
   ]
  },
  {
   "cell_type": "code",
   "execution_count": 47,
   "id": "f4b6a8ac-9dc0-4245-8a91-5b3b5999c4f9",
   "metadata": {
    "execution": {
     "iopub.execute_input": "2025-08-05T16:34:25.275513Z",
     "iopub.status.busy": "2025-08-05T16:34:25.274886Z",
     "iopub.status.idle": "2025-08-05T16:34:25.280954Z",
     "shell.execute_reply": "2025-08-05T16:34:25.280031Z"
    },
    "papermill": {
     "duration": 0.033967,
     "end_time": "2025-08-05T16:34:25.282836",
     "exception": false,
     "start_time": "2025-08-05T16:34:25.248869",
     "status": "completed"
    },
    "tags": []
   },
   "outputs": [],
   "source": [
    "cp_metrics_dict = {\n",
    "    \"universe_id\": [universe_id],\n",
    "    \"universe_training_year\": [universe_training_year],\n",
    "    \"universe_training_size\": [universe_training_size],\n",
    "    \"universe_scale\": [universe_scale],\n",
    "    \"universe_model\": [universe_model],\n",
    "    \"universe_exclude_features\": [universe_exclude_features],\n",
    "    \"universe_exclude_subgroups\": [universe_exclude_subgroups],\n",
    "    \"q_hat\": [q_hat],\n",
    "    \"coverage\": [metrics[\"coverage\"]],\n",
    "    \"avg_size\": [metrics[\"avg_size\"]],\n",
    "}"
   ]
  },
  {
   "cell_type": "code",
   "execution_count": 48,
   "id": "908acbb1-0371-4915-85ca-3fa520d2efe2",
   "metadata": {
    "execution": {
     "iopub.execute_input": "2025-08-05T16:34:25.310954Z",
     "iopub.status.busy": "2025-08-05T16:34:25.310244Z",
     "iopub.status.idle": "2025-08-05T16:34:25.317412Z",
     "shell.execute_reply": "2025-08-05T16:34:25.316515Z"
    },
    "papermill": {
     "duration": 0.022787,
     "end_time": "2025-08-05T16:34:25.319114",
     "exception": false,
     "start_time": "2025-08-05T16:34:25.296327",
     "status": "completed"
    },
    "tags": []
   },
   "outputs": [
    {
     "data": {
      "text/plain": [
       "{'universe_id': ['8c6353d5edf94eaa8deebd2508714d09'],\n",
       " 'universe_training_year': ['2010_14'],\n",
       " 'universe_training_size': ['1k'],\n",
       " 'universe_scale': ['scale'],\n",
       " 'universe_model': ['rf'],\n",
       " 'universe_exclude_features': ['none'],\n",
       " 'universe_exclude_subgroups': ['keep-all'],\n",
       " 'q_hat': [0.65],\n",
       " 'coverage': [0.9139895217924423],\n",
       " 'avg_size': [1.149838368074908]}"
      ]
     },
     "execution_count": 48,
     "metadata": {},
     "output_type": "execute_result"
    }
   ],
   "source": [
    "cp_metrics_dict"
   ]
  },
  {
   "cell_type": "code",
   "execution_count": 49,
   "id": "33007efc-14e9-4ec6-97ac-56a455c82265",
   "metadata": {
    "execution": {
     "iopub.execute_input": "2025-08-05T16:34:25.368606Z",
     "iopub.status.busy": "2025-08-05T16:34:25.368007Z",
     "iopub.status.idle": "2025-08-05T16:34:25.375764Z",
     "shell.execute_reply": "2025-08-05T16:34:25.374670Z"
    },
    "papermill": {
     "duration": 0.034137,
     "end_time": "2025-08-05T16:34:25.377549",
     "exception": false,
     "start_time": "2025-08-05T16:34:25.343412",
     "status": "completed"
    },
    "tags": []
   },
   "outputs": [],
   "source": [
    "cp_metrics_df = pd.DataFrame(cp_metrics_dict)"
   ]
  },
  {
   "cell_type": "code",
   "execution_count": 50,
   "id": "db12611b-57b2-4910-b9d0-355adfd6e7bf",
   "metadata": {
    "execution": {
     "iopub.execute_input": "2025-08-05T16:34:25.435290Z",
     "iopub.status.busy": "2025-08-05T16:34:25.434647Z",
     "iopub.status.idle": "2025-08-05T16:34:25.456973Z",
     "shell.execute_reply": "2025-08-05T16:34:25.455818Z"
    },
    "papermill": {
     "duration": 0.056585,
     "end_time": "2025-08-05T16:34:25.459248",
     "exception": false,
     "start_time": "2025-08-05T16:34:25.402663",
     "status": "completed"
    },
    "tags": []
   },
   "outputs": [
    {
     "data": {
      "text/html": [
       "<div>\n",
       "<style scoped>\n",
       "    .dataframe tbody tr th:only-of-type {\n",
       "        vertical-align: middle;\n",
       "    }\n",
       "\n",
       "    .dataframe tbody tr th {\n",
       "        vertical-align: top;\n",
       "    }\n",
       "\n",
       "    .dataframe thead th {\n",
       "        text-align: right;\n",
       "    }\n",
       "</style>\n",
       "<table border=\"1\" class=\"dataframe\">\n",
       "  <thead>\n",
       "    <tr style=\"text-align: right;\">\n",
       "      <th></th>\n",
       "      <th>universe_id</th>\n",
       "      <th>universe_training_year</th>\n",
       "      <th>universe_training_size</th>\n",
       "      <th>universe_scale</th>\n",
       "      <th>universe_model</th>\n",
       "      <th>universe_exclude_features</th>\n",
       "      <th>universe_exclude_subgroups</th>\n",
       "      <th>q_hat</th>\n",
       "      <th>coverage</th>\n",
       "      <th>avg_size</th>\n",
       "    </tr>\n",
       "  </thead>\n",
       "  <tbody>\n",
       "    <tr>\n",
       "      <th>0</th>\n",
       "      <td>8c6353d5edf94eaa8deebd2508714d09</td>\n",
       "      <td>2010_14</td>\n",
       "      <td>1k</td>\n",
       "      <td>scale</td>\n",
       "      <td>rf</td>\n",
       "      <td>none</td>\n",
       "      <td>keep-all</td>\n",
       "      <td>0.65</td>\n",
       "      <td>0.91399</td>\n",
       "      <td>1.149838</td>\n",
       "    </tr>\n",
       "  </tbody>\n",
       "</table>\n",
       "</div>"
      ],
      "text/plain": [
       "                        universe_id universe_training_year  \\\n",
       "0  8c6353d5edf94eaa8deebd2508714d09                2010_14   \n",
       "\n",
       "  universe_training_size universe_scale universe_model  \\\n",
       "0                     1k          scale             rf   \n",
       "\n",
       "  universe_exclude_features universe_exclude_subgroups  q_hat  coverage  \\\n",
       "0                      none                   keep-all   0.65   0.91399   \n",
       "\n",
       "   avg_size  \n",
       "0  1.149838  "
      ]
     },
     "execution_count": 50,
     "metadata": {},
     "output_type": "execute_result"
    }
   ],
   "source": [
    "cp_metrics_df"
   ]
  },
  {
   "cell_type": "code",
   "execution_count": 51,
   "id": "b7fbde55-a0a1-47e4-9af6-fe4a17fa8c61",
   "metadata": {
    "execution": {
     "iopub.execute_input": "2025-08-05T16:34:25.510896Z",
     "iopub.status.busy": "2025-08-05T16:34:25.510031Z",
     "iopub.status.idle": "2025-08-05T16:34:25.515985Z",
     "shell.execute_reply": "2025-08-05T16:34:25.514813Z"
    },
    "papermill": {
     "duration": 0.032771,
     "end_time": "2025-08-05T16:34:25.517806",
     "exception": false,
     "start_time": "2025-08-05T16:34:25.485035",
     "status": "completed"
    },
    "tags": []
   },
   "outputs": [],
   "source": [
    "# Conditional Coverage & looking at subgroups"
   ]
  },
  {
   "cell_type": "code",
   "execution_count": 52,
   "id": "027ae886-68dd-4141-96c7-805a5450e1ef",
   "metadata": {
    "execution": {
     "iopub.execute_input": "2025-08-05T16:34:25.570025Z",
     "iopub.status.busy": "2025-08-05T16:34:25.569260Z",
     "iopub.status.idle": "2025-08-05T16:34:25.860650Z",
     "shell.execute_reply": "2025-08-05T16:34:25.859489Z"
    },
    "papermill": {
     "duration": 0.31989,
     "end_time": "2025-08-05T16:34:25.862985",
     "exception": false,
     "start_time": "2025-08-05T16:34:25.543095",
     "status": "completed"
    },
    "tags": []
   },
   "outputs": [],
   "source": [
    "from fairness_multiverse.conformal import build_cp_groups\n",
    "\n",
    "cp_groups_df = build_cp_groups(pred_sets, y_true, X_test.index, org_test)\n",
    "#needs universe_id and setting"
   ]
  },
  {
   "cell_type": "code",
   "execution_count": 53,
   "id": "6cbdab96-b2b2-45af-ad54-d0516db2e28d",
   "metadata": {
    "execution": {
     "iopub.execute_input": "2025-08-05T16:34:25.915833Z",
     "iopub.status.busy": "2025-08-05T16:34:25.914965Z",
     "iopub.status.idle": "2025-08-05T16:34:28.340644Z",
     "shell.execute_reply": "2025-08-05T16:34:28.339274Z"
    },
    "papermill": {
     "duration": 2.454558,
     "end_time": "2025-08-05T16:34:28.342819",
     "exception": false,
     "start_time": "2025-08-05T16:34:25.888261",
     "status": "completed"
    },
    "tags": []
   },
   "outputs": [],
   "source": [
    "# Define covered = 1 if true_label is in the predicted set\n",
    "cp_groups_df['covered'] = cp_groups_df.apply(\n",
    "    lambda r: int(r['true_label'] in r['pred_set']),\n",
    "    axis=1\n",
    ")"
   ]
  },
  {
   "cell_type": "code",
   "execution_count": 54,
   "id": "338ff529-1a6b-4b87-a931-8e4788d52aad",
   "metadata": {
    "execution": {
     "iopub.execute_input": "2025-08-05T16:34:28.398502Z",
     "iopub.status.busy": "2025-08-05T16:34:28.397812Z",
     "iopub.status.idle": "2025-08-05T16:34:28.403885Z",
     "shell.execute_reply": "2025-08-05T16:34:28.402777Z"
    },
    "papermill": {
     "duration": 0.035435,
     "end_time": "2025-08-05T16:34:28.405738",
     "exception": false,
     "start_time": "2025-08-05T16:34:28.370303",
     "status": "completed"
    },
    "tags": []
   },
   "outputs": [],
   "source": [
    "#cp_groups_df"
   ]
  },
  {
   "cell_type": "code",
   "execution_count": 55,
   "id": "90032e27-66df-4540-9169-4e89cfbaa758",
   "metadata": {
    "execution": {
     "iopub.execute_input": "2025-08-05T16:34:28.459441Z",
     "iopub.status.busy": "2025-08-05T16:34:28.458828Z",
     "iopub.status.idle": "2025-08-05T16:34:28.472620Z",
     "shell.execute_reply": "2025-08-05T16:34:28.471556Z"
    },
    "papermill": {
     "duration": 0.043341,
     "end_time": "2025-08-05T16:34:28.474442",
     "exception": false,
     "start_time": "2025-08-05T16:34:28.431101",
     "status": "completed"
    },
    "tags": []
   },
   "outputs": [],
   "source": [
    "subgroups = ['frau1','nongerman','nongerman_male','nongerman_female']\n",
    "\n",
    "# Conditional coverage for subgroup==1\n",
    "cond_coverage = {\n",
    "    g: cp_groups_df.loc[cp_groups_df[g]==1, 'covered'].mean()\n",
    "    for g in subgroups\n",
    "}"
   ]
  },
  {
   "cell_type": "code",
   "execution_count": 56,
   "id": "1e348fb1-b9c3-45bc-ba23-f016827a7e0d",
   "metadata": {
    "execution": {
     "iopub.execute_input": "2025-08-05T16:34:28.529080Z",
     "iopub.status.busy": "2025-08-05T16:34:28.528057Z",
     "iopub.status.idle": "2025-08-05T16:34:28.537133Z",
     "shell.execute_reply": "2025-08-05T16:34:28.535861Z"
    },
    "papermill": {
     "duration": 0.038816,
     "end_time": "2025-08-05T16:34:28.539159",
     "exception": false,
     "start_time": "2025-08-05T16:34:28.500343",
     "status": "completed"
    },
    "tags": []
   },
   "outputs": [
    {
     "data": {
      "text/plain": [
       "{'frau1': 0.9127645235206902,\n",
       " 'nongerman': 0.9088306293156684,\n",
       " 'nongerman_male': 0.9245249031793209,\n",
       " 'nongerman_female': 0.8828614008941877}"
      ]
     },
     "execution_count": 56,
     "metadata": {},
     "output_type": "execute_result"
    }
   ],
   "source": [
    "cond_coverage"
   ]
  },
  {
   "cell_type": "code",
   "execution_count": 57,
   "id": "f5093324-c3dd-4d63-bc4c-8d945e5c8bbb",
   "metadata": {
    "execution": {
     "iopub.execute_input": "2025-08-05T16:34:28.602062Z",
     "iopub.status.busy": "2025-08-05T16:34:28.600929Z",
     "iopub.status.idle": "2025-08-05T16:34:28.610450Z",
     "shell.execute_reply": "2025-08-05T16:34:28.609285Z"
    },
    "papermill": {
     "duration": 0.043082,
     "end_time": "2025-08-05T16:34:28.612380",
     "exception": false,
     "start_time": "2025-08-05T16:34:28.569298",
     "status": "completed"
    },
    "tags": []
   },
   "outputs": [],
   "source": [
    "for subgroup, cov in cond_coverage.items():\n",
    "    cp_metrics_df[f\"cov_{subgroup}\"] = cov"
   ]
  },
  {
   "cell_type": "code",
   "execution_count": 58,
   "id": "6e872e10-dbe5-49e8-b554-5030c98ff75d",
   "metadata": {
    "execution": {
     "iopub.execute_input": "2025-08-05T16:34:28.668338Z",
     "iopub.status.busy": "2025-08-05T16:34:28.667752Z",
     "iopub.status.idle": "2025-08-05T16:34:28.692482Z",
     "shell.execute_reply": "2025-08-05T16:34:28.691229Z"
    },
    "papermill": {
     "duration": 0.055702,
     "end_time": "2025-08-05T16:34:28.694462",
     "exception": false,
     "start_time": "2025-08-05T16:34:28.638760",
     "status": "completed"
    },
    "tags": []
   },
   "outputs": [
    {
     "data": {
      "text/html": [
       "<div>\n",
       "<style scoped>\n",
       "    .dataframe tbody tr th:only-of-type {\n",
       "        vertical-align: middle;\n",
       "    }\n",
       "\n",
       "    .dataframe tbody tr th {\n",
       "        vertical-align: top;\n",
       "    }\n",
       "\n",
       "    .dataframe thead th {\n",
       "        text-align: right;\n",
       "    }\n",
       "</style>\n",
       "<table border=\"1\" class=\"dataframe\">\n",
       "  <thead>\n",
       "    <tr style=\"text-align: right;\">\n",
       "      <th></th>\n",
       "      <th>universe_id</th>\n",
       "      <th>universe_training_year</th>\n",
       "      <th>universe_training_size</th>\n",
       "      <th>universe_scale</th>\n",
       "      <th>universe_model</th>\n",
       "      <th>universe_exclude_features</th>\n",
       "      <th>universe_exclude_subgroups</th>\n",
       "      <th>q_hat</th>\n",
       "      <th>coverage</th>\n",
       "      <th>avg_size</th>\n",
       "      <th>cov_frau1</th>\n",
       "      <th>cov_nongerman</th>\n",
       "      <th>cov_nongerman_male</th>\n",
       "      <th>cov_nongerman_female</th>\n",
       "    </tr>\n",
       "  </thead>\n",
       "  <tbody>\n",
       "    <tr>\n",
       "      <th>0</th>\n",
       "      <td>8c6353d5edf94eaa8deebd2508714d09</td>\n",
       "      <td>2010_14</td>\n",
       "      <td>1k</td>\n",
       "      <td>scale</td>\n",
       "      <td>rf</td>\n",
       "      <td>none</td>\n",
       "      <td>keep-all</td>\n",
       "      <td>0.65</td>\n",
       "      <td>0.91399</td>\n",
       "      <td>1.149838</td>\n",
       "      <td>0.912765</td>\n",
       "      <td>0.908831</td>\n",
       "      <td>0.924525</td>\n",
       "      <td>0.882861</td>\n",
       "    </tr>\n",
       "  </tbody>\n",
       "</table>\n",
       "</div>"
      ],
      "text/plain": [
       "                        universe_id universe_training_year  \\\n",
       "0  8c6353d5edf94eaa8deebd2508714d09                2010_14   \n",
       "\n",
       "  universe_training_size universe_scale universe_model  \\\n",
       "0                     1k          scale             rf   \n",
       "\n",
       "  universe_exclude_features universe_exclude_subgroups  q_hat  coverage  \\\n",
       "0                      none                   keep-all   0.65   0.91399   \n",
       "\n",
       "   avg_size  cov_frau1  cov_nongerman  cov_nongerman_male  \\\n",
       "0  1.149838   0.912765       0.908831            0.924525   \n",
       "\n",
       "   cov_nongerman_female  \n",
       "0              0.882861  "
      ]
     },
     "execution_count": 58,
     "metadata": {},
     "output_type": "execute_result"
    }
   ],
   "source": [
    "cp_metrics_df"
   ]
  },
  {
   "cell_type": "markdown",
   "id": "33774451",
   "metadata": {
    "papermill": {
     "duration": 0.027158,
     "end_time": "2025-08-05T16:34:28.749794",
     "exception": false,
     "start_time": "2025-08-05T16:34:28.722636",
     "status": "completed"
    },
    "tags": []
   },
   "source": [
    "# (Fairness) Metrics"
   ]
  },
  {
   "cell_type": "code",
   "execution_count": 59,
   "id": "debc5d62",
   "metadata": {
    "execution": {
     "iopub.execute_input": "2025-08-05T16:34:28.805235Z",
     "iopub.status.busy": "2025-08-05T16:34:28.804239Z",
     "iopub.status.idle": "2025-08-05T16:34:28.829622Z",
     "shell.execute_reply": "2025-08-05T16:34:28.828430Z"
    },
    "papermill": {
     "duration": 0.056429,
     "end_time": "2025-08-05T16:34:28.832113",
     "exception": false,
     "start_time": "2025-08-05T16:34:28.775684",
     "status": "completed"
    },
    "tags": []
   },
   "outputs": [],
   "source": [
    "# do I need to include maxdeutsch1.missing?\n",
    "\n",
    "import numpy as np\n",
    "\n",
    "colname_to_bin = \"maxdeutsch1\"\n",
    "majority_value = org_train[colname_to_bin].mode()[0]\n",
    "\n",
    "org_test[\"majmin\"] = np.where(org_test[colname_to_bin] == majority_value, \"majority\", \"minority\")"
   ]
  },
  {
   "cell_type": "code",
   "execution_count": 60,
   "id": "06a50de5",
   "metadata": {
    "execution": {
     "iopub.execute_input": "2025-08-05T16:34:28.896889Z",
     "iopub.status.busy": "2025-08-05T16:34:28.895872Z",
     "iopub.status.idle": "2025-08-05T16:34:31.540084Z",
     "shell.execute_reply": "2025-08-05T16:34:31.538927Z"
    },
    "papermill": {
     "duration": 2.678207,
     "end_time": "2025-08-05T16:34:31.541946",
     "exception": false,
     "start_time": "2025-08-05T16:34:28.863739",
     "status": "completed"
    },
    "tags": []
   },
   "outputs": [],
   "source": [
    "example_universe = universe.copy()\n",
    "example_universe[\"cutoff\"] = example_universe[\"cutoff\"][0]\n",
    "example_universe[\"eval_fairness_grouping\"] = example_universe[\"eval_fairness_grouping\"][0]\n",
    "fairness_dict, metric_frame = universe_analysis.compute_metrics(\n",
    "    example_universe,\n",
    "    y_pred_prob=probs_test,\n",
    "    y_test=y_true,\n",
    "    org_test=org_test,\n",
    ")"
   ]
  },
  {
   "cell_type": "markdown",
   "id": "f95d4e02",
   "metadata": {
    "papermill": {
     "duration": 0.013966,
     "end_time": "2025-08-05T16:34:31.571010",
     "exception": false,
     "start_time": "2025-08-05T16:34:31.557044",
     "status": "completed"
    },
    "tags": []
   },
   "source": [
    "# Overall"
   ]
  },
  {
   "cell_type": "markdown",
   "id": "bdee4871",
   "metadata": {
    "papermill": {
     "duration": 0.013963,
     "end_time": "2025-08-05T16:34:31.599035",
     "exception": false,
     "start_time": "2025-08-05T16:34:31.585072",
     "status": "completed"
    },
    "tags": []
   },
   "source": [
    "Fairness\n",
    "Main fairness target: Equalized Odds. Seems to be a better fit than equal opportunity, since we're not only interested in Y = 1. Seems to be a better fit than demographic parity, since we also care about accuracy, not just equal distribution of preds.\n",
    "\n",
    "Pick column for computation of fairness metrics\n",
    "\n",
    "Performance\n",
    "Overall performance measures, most interesting in relation to the measures split by group below"
   ]
  },
  {
   "cell_type": "code",
   "execution_count": 61,
   "id": "c4e067c6",
   "metadata": {
    "execution": {
     "iopub.execute_input": "2025-08-05T16:34:31.629131Z",
     "iopub.status.busy": "2025-08-05T16:34:31.628459Z",
     "iopub.status.idle": "2025-08-05T16:34:31.638084Z",
     "shell.execute_reply": "2025-08-05T16:34:31.637194Z"
    },
    "papermill": {
     "duration": 0.026423,
     "end_time": "2025-08-05T16:34:31.639646",
     "exception": false,
     "start_time": "2025-08-05T16:34:31.613223",
     "status": "completed"
    },
    "tags": []
   },
   "outputs": [
    {
     "data": {
      "text/plain": [
       "accuracy                   0.203489\n",
       "balanced accuracy          0.532170\n",
       "f1                         0.238861\n",
       "precision                  0.136116\n",
       "false positive rate        0.909938\n",
       "false negative rate        0.025721\n",
       "selection rate             0.918192\n",
       "count                  89710.000000\n",
       "dtype: float64"
      ]
     },
     "execution_count": 61,
     "metadata": {},
     "output_type": "execute_result"
    }
   ],
   "source": [
    "metric_frame.overall"
   ]
  },
  {
   "cell_type": "markdown",
   "id": "e968fe9d",
   "metadata": {
    "papermill": {
     "duration": 0.014161,
     "end_time": "2025-08-05T16:34:31.668550",
     "exception": false,
     "start_time": "2025-08-05T16:34:31.654389",
     "status": "completed"
    },
    "tags": []
   },
   "source": [
    "By Group"
   ]
  },
  {
   "cell_type": "code",
   "execution_count": 62,
   "id": "ec325bce",
   "metadata": {
    "execution": {
     "iopub.execute_input": "2025-08-05T16:34:31.699025Z",
     "iopub.status.busy": "2025-08-05T16:34:31.698040Z",
     "iopub.status.idle": "2025-08-05T16:34:31.713093Z",
     "shell.execute_reply": "2025-08-05T16:34:31.712030Z"
    },
    "papermill": {
     "duration": 0.031772,
     "end_time": "2025-08-05T16:34:31.714625",
     "exception": false,
     "start_time": "2025-08-05T16:34:31.682853",
     "status": "completed"
    },
    "tags": []
   },
   "outputs": [
    {
     "data": {
      "text/html": [
       "<div>\n",
       "<style scoped>\n",
       "    .dataframe tbody tr th:only-of-type {\n",
       "        vertical-align: middle;\n",
       "    }\n",
       "\n",
       "    .dataframe tbody tr th {\n",
       "        vertical-align: top;\n",
       "    }\n",
       "\n",
       "    .dataframe thead th {\n",
       "        text-align: right;\n",
       "    }\n",
       "</style>\n",
       "<table border=\"1\" class=\"dataframe\">\n",
       "  <thead>\n",
       "    <tr style=\"text-align: right;\">\n",
       "      <th></th>\n",
       "      <th>accuracy</th>\n",
       "      <th>balanced accuracy</th>\n",
       "      <th>f1</th>\n",
       "      <th>precision</th>\n",
       "      <th>false positive rate</th>\n",
       "      <th>false negative rate</th>\n",
       "      <th>selection rate</th>\n",
       "      <th>count</th>\n",
       "    </tr>\n",
       "    <tr>\n",
       "      <th>majmin</th>\n",
       "      <th></th>\n",
       "      <th></th>\n",
       "      <th></th>\n",
       "      <th></th>\n",
       "      <th></th>\n",
       "      <th></th>\n",
       "      <th></th>\n",
       "      <th></th>\n",
       "    </tr>\n",
       "  </thead>\n",
       "  <tbody>\n",
       "    <tr>\n",
       "      <th>majority</th>\n",
       "      <td>0.195634</td>\n",
       "      <td>0.532408</td>\n",
       "      <td>0.245464</td>\n",
       "      <td>0.140097</td>\n",
       "      <td>0.925337</td>\n",
       "      <td>0.009847</td>\n",
       "      <td>0.933902</td>\n",
       "      <td>69170.0</td>\n",
       "    </tr>\n",
       "    <tr>\n",
       "      <th>minority</th>\n",
       "      <td>0.229942</td>\n",
       "      <td>0.526969</td>\n",
       "      <td>0.214686</td>\n",
       "      <td>0.121645</td>\n",
       "      <td>0.859069</td>\n",
       "      <td>0.086993</td>\n",
       "      <td>0.865287</td>\n",
       "      <td>20540.0</td>\n",
       "    </tr>\n",
       "  </tbody>\n",
       "</table>\n",
       "</div>"
      ],
      "text/plain": [
       "          accuracy  balanced accuracy        f1  precision  \\\n",
       "majmin                                                       \n",
       "majority  0.195634           0.532408  0.245464   0.140097   \n",
       "minority  0.229942           0.526969  0.214686   0.121645   \n",
       "\n",
       "          false positive rate  false negative rate  selection rate    count  \n",
       "majmin                                                                       \n",
       "majority             0.925337             0.009847        0.933902  69170.0  \n",
       "minority             0.859069             0.086993        0.865287  20540.0  "
      ]
     },
     "execution_count": 62,
     "metadata": {},
     "output_type": "execute_result"
    }
   ],
   "source": [
    "metric_frame.by_group"
   ]
  },
  {
   "cell_type": "code",
   "execution_count": 63,
   "id": "a9ddbe63",
   "metadata": {
    "execution": {
     "iopub.execute_input": "2025-08-05T16:34:31.747656Z",
     "iopub.status.busy": "2025-08-05T16:34:31.746798Z",
     "iopub.status.idle": "2025-08-05T16:34:33.769636Z",
     "shell.execute_reply": "2025-08-05T16:34:33.768660Z"
    },
    "papermill": {
     "duration": 2.040274,
     "end_time": "2025-08-05T16:34:33.771364",
     "exception": false,
     "start_time": "2025-08-05T16:34:31.731090",
     "status": "completed"
    },
    "tags": []
   },
   "outputs": [
    {
     "data": {
      "text/plain": [
       "array([[<Axes: title={'center': 'accuracy'}, xlabel='majmin'>,\n",
       "        <Axes: title={'center': 'balanced accuracy'}, xlabel='majmin'>,\n",
       "        <Axes: title={'center': 'f1'}, xlabel='majmin'>],\n",
       "       [<Axes: title={'center': 'precision'}, xlabel='majmin'>,\n",
       "        <Axes: title={'center': 'false positive rate'}, xlabel='majmin'>,\n",
       "        <Axes: title={'center': 'false negative rate'}, xlabel='majmin'>],\n",
       "       [<Axes: title={'center': 'selection rate'}, xlabel='majmin'>,\n",
       "        <Axes: title={'center': 'count'}, xlabel='majmin'>,\n",
       "        <Axes: xlabel='majmin'>]], dtype=object)"
      ]
     },
     "execution_count": 63,
     "metadata": {},
     "output_type": "execute_result"
    },
    {
     "data": {
      "image/png": "[encoded data removed]",
      "text/plain": [
       "<Figure size 1200x800 with 9 Axes>"
      ]
     },
     "metadata": {},
     "output_type": "display_data"
    }
   ],
   "source": [
    "# In a graphic\n",
    "metric_frame.by_group.plot.bar(\n",
    "    subplots=True,\n",
    "    layout=[3, 3],\n",
    "    legend=False,\n",
    "    figsize=[12, 8],\n",
    "    title=\"Show all metrics\",\n",
    ")"
   ]
  },
  {
   "cell_type": "markdown",
   "id": "f57a0bac",
   "metadata": {
    "papermill": {
     "duration": 0.016229,
     "end_time": "2025-08-05T16:34:33.804412",
     "exception": false,
     "start_time": "2025-08-05T16:34:33.788183",
     "status": "completed"
    },
    "tags": []
   },
   "source": [
    "# Final Output"
   ]
  },
  {
   "cell_type": "code",
   "execution_count": 64,
   "id": "96d280a3",
   "metadata": {
    "execution": {
     "iopub.execute_input": "2025-08-05T16:34:33.838239Z",
     "iopub.status.busy": "2025-08-05T16:34:33.837583Z",
     "iopub.status.idle": "2025-08-05T16:34:33.846516Z",
     "shell.execute_reply": "2025-08-05T16:34:33.845620Z"
    },
    "papermill": {
     "duration": 0.027543,
     "end_time": "2025-08-05T16:34:33.848131",
     "exception": false,
     "start_time": "2025-08-05T16:34:33.820588",
     "status": "completed"
    },
    "tags": []
   },
   "outputs": [
    {
     "data": {
      "text/plain": [
       "4"
      ]
     },
     "execution_count": 64,
     "metadata": {},
     "output_type": "execute_result"
    }
   ],
   "source": [
    "sub_universes = universe_analysis.generate_sub_universes()\n",
    "len(sub_universes)"
   ]
  },
  {
   "cell_type": "code",
   "execution_count": 65,
   "id": "92adf7ba",
   "metadata": {
    "execution": {
     "iopub.execute_input": "2025-08-05T16:34:33.882136Z",
     "iopub.status.busy": "2025-08-05T16:34:33.881743Z",
     "iopub.status.idle": "2025-08-05T16:34:33.887954Z",
     "shell.execute_reply": "2025-08-05T16:34:33.886975Z"
    },
    "papermill": {
     "duration": 0.025515,
     "end_time": "2025-08-05T16:34:33.889825",
     "exception": false,
     "start_time": "2025-08-05T16:34:33.864310",
     "status": "completed"
    },
    "tags": []
   },
   "outputs": [],
   "source": [
    "def filter_sub_universe_data(sub_universe, org_test):\n",
    "    # Keep all rows — no filtering\n",
    "    keep_rows_mask = np.ones(org_test.shape[0], dtype=bool)\n",
    "\n",
    "    print(f\"[INFO] Keeping all rows: {keep_rows_mask.sum()} rows retained.\")\n",
    "    return keep_rows_mask"
   ]
  },
  {
   "cell_type": "code",
   "execution_count": 66,
   "id": "4a759155",
   "metadata": {
    "execution": {
     "iopub.execute_input": "2025-08-05T16:34:33.923459Z",
     "iopub.status.busy": "2025-08-05T16:34:33.922920Z",
     "iopub.status.idle": "2025-08-05T16:34:47.093736Z",
     "shell.execute_reply": "2025-08-05T16:34:47.092618Z"
    },
    "papermill": {
     "duration": 13.189553,
     "end_time": "2025-08-05T16:34:47.095671",
     "exception": false,
     "start_time": "2025-08-05T16:34:33.906118",
     "status": "completed"
    },
    "tags": []
   },
   "outputs": [
    {
     "name": "stdout",
     "output_type": "stream",
     "text": [
      "Stopping execution_time clock.\n",
      "[INFO] Keeping all rows: 89710 rows retained.\n"
     ]
    },
    {
     "name": "stdout",
     "output_type": "stream",
     "text": [
      "[INFO] Keeping all rows: 89710 rows retained.\n"
     ]
    },
    {
     "name": "stdout",
     "output_type": "stream",
     "text": [
      "[INFO] Keeping all rows: 89710 rows retained.\n"
     ]
    },
    {
     "name": "stdout",
     "output_type": "stream",
     "text": [
      "[INFO] Keeping all rows: 89710 rows retained.\n"
     ]
    },
    {
     "data": {
      "text/html": [
       "<div>\n",
       "<style scoped>\n",
       "    .dataframe tbody tr th:only-of-type {\n",
       "        vertical-align: middle;\n",
       "    }\n",
       "\n",
       "    .dataframe tbody tr th {\n",
       "        vertical-align: top;\n",
       "    }\n",
       "\n",
       "    .dataframe thead th {\n",
       "        text-align: right;\n",
       "    }\n",
       "</style>\n",
       "<table border=\"1\" class=\"dataframe\">\n",
       "  <thead>\n",
       "    <tr style=\"text-align: right;\">\n",
       "      <th></th>\n",
       "      <th>run_no</th>\n",
       "      <th>universe_id</th>\n",
       "      <th>universe_settings</th>\n",
       "      <th>execution_time</th>\n",
       "      <th>test_size_n</th>\n",
       "      <th>test_size_frac</th>\n",
       "      <th>fair_main_equalized_odds_difference</th>\n",
       "      <th>fair_main_equalized_odds_ratio</th>\n",
       "      <th>fair_main_demographic_parity_difference</th>\n",
       "      <th>fair_main_demographic_parity_ratio</th>\n",
       "      <th>...</th>\n",
       "      <th>perf_grp_precision_0</th>\n",
       "      <th>perf_grp_precision_1</th>\n",
       "      <th>perf_grp_false positive rate_0</th>\n",
       "      <th>perf_grp_false positive rate_1</th>\n",
       "      <th>perf_grp_false negative rate_0</th>\n",
       "      <th>perf_grp_false negative rate_1</th>\n",
       "      <th>perf_grp_selection rate_0</th>\n",
       "      <th>perf_grp_selection rate_1</th>\n",
       "      <th>perf_grp_count_0</th>\n",
       "      <th>perf_grp_count_1</th>\n",
       "    </tr>\n",
       "  </thead>\n",
       "  <tbody>\n",
       "    <tr>\n",
       "      <th>0</th>\n",
       "      <td>15</td>\n",
       "      <td>8c6353d5edf94eaa8deebd2508714d09</td>\n",
       "      <td>{\"cutoff\": \"quantile_0.1\", \"eval_fairness_grou...</td>\n",
       "      <td>37.930863</td>\n",
       "      <td>89710</td>\n",
       "      <td>1.0</td>\n",
       "      <td>0.077146</td>\n",
       "      <td>0.922086</td>\n",
       "      <td>0.068615</td>\n",
       "      <td>0.926529</td>\n",
       "      <td>...</td>\n",
       "      <td>NaN</td>\n",
       "      <td>NaN</td>\n",
       "      <td>NaN</td>\n",
       "      <td>NaN</td>\n",
       "      <td>NaN</td>\n",
       "      <td>NaN</td>\n",
       "      <td>NaN</td>\n",
       "      <td>NaN</td>\n",
       "      <td>NaN</td>\n",
       "      <td>NaN</td>\n",
       "    </tr>\n",
       "    <tr>\n",
       "      <th>0</th>\n",
       "      <td>15</td>\n",
       "      <td>8c6353d5edf94eaa8deebd2508714d09</td>\n",
       "      <td>{\"cutoff\": \"quantile_0.1\", \"eval_fairness_grou...</td>\n",
       "      <td>37.930863</td>\n",
       "      <td>89710</td>\n",
       "      <td>1.0</td>\n",
       "      <td>0.077146</td>\n",
       "      <td>0.922086</td>\n",
       "      <td>0.068615</td>\n",
       "      <td>0.926529</td>\n",
       "      <td>...</td>\n",
       "      <td>0.121645</td>\n",
       "      <td>0.140097</td>\n",
       "      <td>0.859069</td>\n",
       "      <td>0.925337</td>\n",
       "      <td>0.086993</td>\n",
       "      <td>0.009847</td>\n",
       "      <td>0.865287</td>\n",
       "      <td>0.933902</td>\n",
       "      <td>20540.0</td>\n",
       "      <td>69170.0</td>\n",
       "    </tr>\n",
       "    <tr>\n",
       "      <th>0</th>\n",
       "      <td>15</td>\n",
       "      <td>8c6353d5edf94eaa8deebd2508714d09</td>\n",
       "      <td>{\"cutoff\": \"quantile_0.25\", \"eval_fairness_gro...</td>\n",
       "      <td>37.930863</td>\n",
       "      <td>89710</td>\n",
       "      <td>1.0</td>\n",
       "      <td>0.152012</td>\n",
       "      <td>0.840722</td>\n",
       "      <td>0.118510</td>\n",
       "      <td>0.853523</td>\n",
       "      <td>...</td>\n",
       "      <td>NaN</td>\n",
       "      <td>NaN</td>\n",
       "      <td>NaN</td>\n",
       "      <td>NaN</td>\n",
       "      <td>NaN</td>\n",
       "      <td>NaN</td>\n",
       "      <td>NaN</td>\n",
       "      <td>NaN</td>\n",
       "      <td>NaN</td>\n",
       "      <td>NaN</td>\n",
       "    </tr>\n",
       "    <tr>\n",
       "      <th>0</th>\n",
       "      <td>15</td>\n",
       "      <td>8c6353d5edf94eaa8deebd2508714d09</td>\n",
       "      <td>{\"cutoff\": \"quantile_0.25\", \"eval_fairness_gro...</td>\n",
       "      <td>37.930863</td>\n",
       "      <td>89710</td>\n",
       "      <td>1.0</td>\n",
       "      <td>0.152012</td>\n",
       "      <td>0.840722</td>\n",
       "      <td>0.118510</td>\n",
       "      <td>0.853523</td>\n",
       "      <td>...</td>\n",
       "      <td>0.133954</td>\n",
       "      <td>0.155871</td>\n",
       "      <td>0.675985</td>\n",
       "      <td>0.786940</td>\n",
       "      <td>0.197635</td>\n",
       "      <td>0.045624</td>\n",
       "      <td>0.690555</td>\n",
       "      <td>0.809065</td>\n",
       "      <td>20540.0</td>\n",
       "      <td>69170.0</td>\n",
       "    </tr>\n",
       "  </tbody>\n",
       "</table>\n",
       "<p>4 rows × 50 columns</p>\n",
       "</div>"
      ],
      "text/plain": [
       "  run_no                       universe_id  \\\n",
       "0     15  8c6353d5edf94eaa8deebd2508714d09   \n",
       "0     15  8c6353d5edf94eaa8deebd2508714d09   \n",
       "0     15  8c6353d5edf94eaa8deebd2508714d09   \n",
       "0     15  8c6353d5edf94eaa8deebd2508714d09   \n",
       "\n",
       "                                   universe_settings  execution_time  \\\n",
       "0  {\"cutoff\": \"quantile_0.1\", \"eval_fairness_grou...       37.930863   \n",
       "0  {\"cutoff\": \"quantile_0.1\", \"eval_fairness_grou...       37.930863   \n",
       "0  {\"cutoff\": \"quantile_0.25\", \"eval_fairness_gro...       37.930863   \n",
       "0  {\"cutoff\": \"quantile_0.25\", \"eval_fairness_gro...       37.930863   \n",
       "\n",
       "   test_size_n  test_size_frac  fair_main_equalized_odds_difference  \\\n",
       "0        89710             1.0                             0.077146   \n",
       "0        89710             1.0                             0.077146   \n",
       "0        89710             1.0                             0.152012   \n",
       "0        89710             1.0                             0.152012   \n",
       "\n",
       "   fair_main_equalized_odds_ratio  fair_main_demographic_parity_difference  \\\n",
       "0                        0.922086                                 0.068615   \n",
       "0                        0.922086                                 0.068615   \n",
       "0                        0.840722                                 0.118510   \n",
       "0                        0.840722                                 0.118510   \n",
       "\n",
       "   fair_main_demographic_parity_ratio  ...  perf_grp_precision_0  \\\n",
       "0                            0.926529  ...                   NaN   \n",
       "0                            0.926529  ...              0.121645   \n",
       "0                            0.853523  ...                   NaN   \n",
       "0                            0.853523  ...              0.133954   \n",
       "\n",
       "   perf_grp_precision_1  perf_grp_false positive rate_0  \\\n",
       "0                   NaN                             NaN   \n",
       "0              0.140097                        0.859069   \n",
       "0                   NaN                             NaN   \n",
       "0              0.155871                        0.675985   \n",
       "\n",
       "   perf_grp_false positive rate_1  perf_grp_false negative rate_0  \\\n",
       "0                             NaN                             NaN   \n",
       "0                        0.925337                        0.086993   \n",
       "0                             NaN                             NaN   \n",
       "0                        0.786940                        0.197635   \n",
       "\n",
       "   perf_grp_false negative rate_1  perf_grp_selection rate_0  \\\n",
       "0                             NaN                        NaN   \n",
       "0                        0.009847                   0.865287   \n",
       "0                             NaN                        NaN   \n",
       "0                        0.045624                   0.690555   \n",
       "\n",
       "   perf_grp_selection rate_1  perf_grp_count_0  perf_grp_count_1  \n",
       "0                        NaN               NaN               NaN  \n",
       "0                   0.933902           20540.0           69170.0  \n",
       "0                        NaN               NaN               NaN  \n",
       "0                   0.809065           20540.0           69170.0  \n",
       "\n",
       "[4 rows x 50 columns]"
      ]
     },
     "execution_count": 66,
     "metadata": {},
     "output_type": "execute_result"
    }
   ],
   "source": [
    "final_output = universe_analysis.generate_final_output(\n",
    "    y_pred_prob=probs_test,\n",
    "    y_test=y_true,\n",
    "    org_test=org_test,\n",
    "    filter_data=filter_sub_universe_data,\n",
    "    cp_metrics_df=cp_metrics_df,\n",
    "    save=True,\n",
    ")\n",
    "final_output"
   ]
  }
 ],
 "metadata": {
  "celltoolbar": "Tags",
  "kernelspec": {
   "display_name": "Python (CMA Fairness)",
   "language": "python",
   "name": "cma_fair_env"
  },
  "language_info": {
   "codemirror_mode": {
    "name": "ipython",
    "version": 3
   },
   "file_extension": ".py",
   "mimetype": "text/x-python",
   "name": "python",
   "nbconvert_exporter": "python",
   "pygments_lexer": "ipython3",
   "version": "3.10.12"
  },
  "papermill": {
   "default_parameters": {},
   "duration": 55.870956,
   "end_time": "2025-08-05T16:34:48.053210",
   "environment_variables": {},
   "exception": null,
   "input_path": "universe_analysis.ipynb",
   "output_path": "output/runs/15/notebooks/m_15-8c6353d5edf94eaa8deebd2508714d09.ipynb",
   "parameters": {
    "output_dir": "output",
    "run_no": "15",
    "seed": "2023",
    "universe": "{\"cutoff\": [\"quantile_0.1\", \"quantile_0.25\"], \"eval_fairness_grouping\": [\"majority-minority\", \"nationality-all\"], \"exclude_features\": \"none\", \"exclude_subgroups\": \"keep-all\", \"model\": \"rf\", \"scale\": \"scale\", \"training_size\": \"1k\", \"training_year\": \"2010_14\"}",
    "universe_id": "8c6353d5edf94eaa8deebd2508714d09"
   },
   "start_time": "2025-08-05T16:33:52.182254",
   "version": "2.6.0"
  }
 },
 "nbformat": 4,
 "nbformat_minor": 5
}