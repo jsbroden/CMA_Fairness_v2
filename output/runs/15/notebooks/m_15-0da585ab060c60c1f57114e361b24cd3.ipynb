{
 "cells": [
  {
   "cell_type": "code",
   "execution_count": 1,
   "id": "f159f837-637b-42ba-96b5-ec9a68c44524",
   "metadata": {
    "execution": {
     "iopub.execute_input": "2025-08-05T16:11:37.226681Z",
     "iopub.status.busy": "2025-08-05T16:11:37.226189Z",
     "iopub.status.idle": "2025-08-05T16:11:37.237334Z",
     "shell.execute_reply": "2025-08-05T16:11:37.236538Z"
    },
    "papermill": {
     "duration": 0.022484,
     "end_time": "2025-08-05T16:11:37.238822",
     "exception": false,
     "start_time": "2025-08-05T16:11:37.216338",
     "status": "completed"
    },
    "tags": []
   },
   "outputs": [
    {
     "name": "stdout",
     "output_type": "stream",
     "text": [
      "/dss/dsshome1/0C/ra93lal2/cma/CMA_Fairness_v2\n"
     ]
    },
    {
     "name": "stderr",
     "output_type": "stream",
     "text": [
      "/dss/dsshome1/0C/ra93lal2/.local/share/virtualenvs/CMA_Fairness_v2-3j10GkSs/lib/python3.10/site-packages/IPython/core/magics/osm.py:393: UserWarning: This is now an optional IPython functionality, using bookmarks requires you to install the `pickleshare` library.\n",
      "  bkms = self.shell.db.get('bookmarks', {})\n",
      "/dss/dsshome1/0C/ra93lal2/.local/share/virtualenvs/CMA_Fairness_v2-3j10GkSs/lib/python3.10/site-packages/IPython/core/magics/osm.py:417: UserWarning: This is now an optional IPython functionality, setting dhist requires you to install the `pickleshare` library.\n",
      "  self.shell.db['dhist'] = compress_dhist(dhist)[-100:]\n"
     ]
    }
   ],
   "source": [
    "%cd ~/cma/CMA_Fairness_v2"
   ]
  },
  {
   "cell_type": "markdown",
   "id": "de2603b9",
   "metadata": {
    "papermill": {
     "duration": 0.008201,
     "end_time": "2025-08-05T16:11:37.256416",
     "exception": false,
     "start_time": "2025-08-05T16:11:37.248215",
     "status": "completed"
    },
    "tags": []
   },
   "source": [
    "The following cell holds the definition of our parameters, these values can be overriden by rendering the with e.g. the following command:\n",
    "\n",
    "papermill -p alpha 0.2 -p ratio 0.3 universe_analysis.ipynb output/test_run.ipynb"
   ]
  },
  {
   "cell_type": "code",
   "execution_count": 2,
   "id": "a80968a0-40bb-4fa9-85ef-2d5eefb01975",
   "metadata": {
    "execution": {
     "iopub.execute_input": "2025-08-05T16:11:37.319427Z",
     "iopub.status.busy": "2025-08-05T16:11:37.319085Z",
     "iopub.status.idle": "2025-08-05T16:11:37.323817Z",
     "shell.execute_reply": "2025-08-05T16:11:37.323050Z"
    },
    "papermill": {
     "duration": 0.059894,
     "end_time": "2025-08-05T16:11:37.325197",
     "exception": false,
     "start_time": "2025-08-05T16:11:37.265303",
     "status": "completed"
    },
    "tags": []
   },
   "outputs": [
    {
     "name": "stdout",
     "output_type": "stream",
     "text": [
      "Current working directory: /dss/dsshome1/0C/ra93lal2/cma/CMA_Fairness_v2\n"
     ]
    }
   ],
   "source": [
    "import os\n",
    "print(\"Current working directory:\", os.getcwd())"
   ]
  },
  {
   "cell_type": "code",
   "execution_count": 3,
   "id": "2dce4c03",
   "metadata": {
    "execution": {
     "iopub.execute_input": "2025-08-05T16:11:37.344287Z",
     "iopub.status.busy": "2025-08-05T16:11:37.343996Z",
     "iopub.status.idle": "2025-08-05T16:11:37.348385Z",
     "shell.execute_reply": "2025-08-05T16:11:37.347698Z"
    },
    "papermill": {
     "duration": 0.015336,
     "end_time": "2025-08-05T16:11:37.349835",
     "exception": false,
     "start_time": "2025-08-05T16:11:37.334499",
     "status": "completed"
    },
    "tags": [
     "parameters"
    ]
   },
   "outputs": [],
   "source": [
    "run_no = 0\n",
    "universe_id = \"test\"\n",
    "universe = {\n",
    "    \"training_size\": \"25k\", # \"25k\", \"5k\", \"1k\"\n",
    "    \"training_year\": \"2014\", # \"2014\", \"2012_14\", \"2010_14\"\n",
    "    \"scale\": \"scale\", # \"scale\", \"do-not-scale\",\n",
    "    \"model\": \"elasticnet\", # \"logreg\", \"penalized_logreg\", \"rf\", \"gbm\", \"elasticnet\"\n",
    "    \"cutoff\": [\"quantile_0.15\", \"quantile_0.30\"],\n",
    "    \"exclude_features\": \"age\", # \"none\", \"nationality\", \"sex\", \"nationality-sex\", \"age\"\n",
    "    \"exclude_subgroups\": \"keep-all\", # \"keep-all\", \"drop-non-german\"\n",
    "    \"eval_fairness_grouping\": [\"majority-minority\", \"nationality-all\"]\n",
    "}\n",
    "\n",
    "output_dir=\"./output\"\n",
    "seed=0"
   ]
  },
  {
   "cell_type": "code",
   "execution_count": 4,
   "id": "cadf7422",
   "metadata": {
    "execution": {
     "iopub.execute_input": "2025-08-05T16:11:37.368380Z",
     "iopub.status.busy": "2025-08-05T16:11:37.368068Z",
     "iopub.status.idle": "2025-08-05T16:11:37.372061Z",
     "shell.execute_reply": "2025-08-05T16:11:37.371243Z"
    },
    "papermill": {
     "duration": 0.01442,
     "end_time": "2025-08-05T16:11:37.373449",
     "exception": false,
     "start_time": "2025-08-05T16:11:37.359029",
     "status": "completed"
    },
    "tags": [
     "injected-parameters"
    ]
   },
   "outputs": [],
   "source": [
    "# Parameters\n",
    "universe_id = \"0da585ab060c60c1f57114e361b24cd3\"\n",
    "run_no = \"15\"\n",
    "universe = \"{\\\"cutoff\\\": [\\\"quantile_0.1\\\", \\\"quantile_0.25\\\"], \\\"eval_fairness_grouping\\\": [\\\"majority-minority\\\", \\\"nationality-all\\\"], \\\"exclude_features\\\": \\\"nationality-sex\\\", \\\"exclude_subgroups\\\": \\\"keep-all\\\", \\\"model\\\": \\\"rf\\\", \\\"scale\\\": \\\"do-not-scale\\\", \\\"training_size\\\": \\\"1k\\\", \\\"training_year\\\": \\\"2014\\\"}\"\n",
    "output_dir = \"output\"\n",
    "seed = \"2023\"\n"
   ]
  },
  {
   "cell_type": "code",
   "execution_count": 5,
   "id": "1650acaf",
   "metadata": {
    "execution": {
     "iopub.execute_input": "2025-08-05T16:11:37.391470Z",
     "iopub.status.busy": "2025-08-05T16:11:37.391259Z",
     "iopub.status.idle": "2025-08-05T16:11:37.394647Z",
     "shell.execute_reply": "2025-08-05T16:11:37.393946Z"
    },
    "papermill": {
     "duration": 0.01364,
     "end_time": "2025-08-05T16:11:37.395954",
     "exception": false,
     "start_time": "2025-08-05T16:11:37.382314",
     "status": "completed"
    },
    "tags": []
   },
   "outputs": [],
   "source": [
    "import json\n",
    "if isinstance(universe, str):\n",
    "    universe = json.loads(universe)"
   ]
  },
  {
   "cell_type": "code",
   "execution_count": 6,
   "id": "16620c48",
   "metadata": {
    "execution": {
     "iopub.execute_input": "2025-08-05T16:11:37.414966Z",
     "iopub.status.busy": "2025-08-05T16:11:37.414491Z",
     "iopub.status.idle": "2025-08-05T16:11:37.442400Z",
     "shell.execute_reply": "2025-08-05T16:11:37.441768Z"
    },
    "papermill": {
     "duration": 0.038785,
     "end_time": "2025-08-05T16:11:37.443631",
     "exception": false,
     "start_time": "2025-08-05T16:11:37.404846",
     "status": "completed"
    },
    "tags": []
   },
   "outputs": [],
   "source": [
    "# Auto-reload the custom package\n",
    "%load_ext autoreload\n",
    "%autoreload 1\n",
    "%aimport fairness_multiverse"
   ]
  },
  {
   "cell_type": "code",
   "execution_count": 7,
   "id": "01c5c9f3",
   "metadata": {
    "execution": {
     "iopub.execute_input": "2025-08-05T16:11:37.462002Z",
     "iopub.status.busy": "2025-08-05T16:11:37.461452Z",
     "iopub.status.idle": "2025-08-05T16:11:39.485091Z",
     "shell.execute_reply": "2025-08-05T16:11:39.483989Z"
    },
    "papermill": {
     "duration": 2.034902,
     "end_time": "2025-08-05T16:11:39.487187",
     "exception": false,
     "start_time": "2025-08-05T16:11:37.452285",
     "status": "completed"
    },
    "tags": []
   },
   "outputs": [],
   "source": [
    "from fairness_multiverse.universe import UniverseAnalysis\n",
    "\n",
    "universe_analysis = UniverseAnalysis(\n",
    "    run_no = run_no,\n",
    "    universe_id = universe_id,\n",
    "    universe = universe,\n",
    "    output_dir=output_dir,\n",
    ")"
   ]
  },
  {
   "cell_type": "code",
   "execution_count": 8,
   "id": "106241f5",
   "metadata": {
    "execution": {
     "iopub.execute_input": "2025-08-05T16:11:39.519379Z",
     "iopub.status.busy": "2025-08-05T16:11:39.518684Z",
     "iopub.status.idle": "2025-08-05T16:11:39.525310Z",
     "shell.execute_reply": "2025-08-05T16:11:39.524466Z"
    },
    "papermill": {
     "duration": 0.024856,
     "end_time": "2025-08-05T16:11:39.527201",
     "exception": false,
     "start_time": "2025-08-05T16:11:39.502345",
     "status": "completed"
    },
    "tags": []
   },
   "outputs": [
    {
     "name": "stdout",
     "output_type": "stream",
     "text": [
      "Using Seed: 2023\n"
     ]
    }
   ],
   "source": [
    "import numpy as np\n",
    "parsed_seed = int(seed)\n",
    "np.random.seed(parsed_seed)\n",
    "print(f\"Using Seed: {parsed_seed}\")"
   ]
  },
  {
   "cell_type": "markdown",
   "id": "e0ebdc57",
   "metadata": {
    "papermill": {
     "duration": 0.018807,
     "end_time": "2025-08-05T16:11:39.563563",
     "exception": false,
     "start_time": "2025-08-05T16:11:39.544756",
     "status": "completed"
    },
    "tags": []
   },
   "source": [
    "# Loading Data"
   ]
  },
  {
   "cell_type": "code",
   "execution_count": 9,
   "id": "f0496b8a",
   "metadata": {
    "execution": {
     "iopub.execute_input": "2025-08-05T16:11:39.600495Z",
     "iopub.status.busy": "2025-08-05T16:11:39.599715Z",
     "iopub.status.idle": "2025-08-05T16:11:51.716696Z",
     "shell.execute_reply": "2025-08-05T16:11:51.715429Z"
    },
    "papermill": {
     "duration": 12.137693,
     "end_time": "2025-08-05T16:11:51.718605",
     "exception": false,
     "start_time": "2025-08-05T16:11:39.580912",
     "status": "completed"
    },
    "tags": []
   },
   "outputs": [
    {
     "name": "stdout",
     "output_type": "stream",
     "text": [
      "Loading SIAB data from cache: data/siab_cached.csv.gz\n"
     ]
    },
    {
     "name": "stdout",
     "output_type": "stream",
     "text": [
      "(643690, 164)\n"
     ]
    }
   ],
   "source": [
    "from pathlib import Path\n",
    "import pandas as pd\n",
    "\n",
    "# File paths\n",
    "raw_file = Path(\"data/raw/siab.csv\")\n",
    "cache_file = Path(\"data/siab_cached.csv.gz\")\n",
    "\n",
    "# Ensure cache directory exists\n",
    "cache_file.parent.mkdir(parents=True, exist_ok=True)\n",
    "\n",
    "# Load with simple caching\n",
    "if cache_file.exists():\n",
    "    print(f\"Loading SIAB data from cache: {cache_file}\")\n",
    "    siab = pd.read_csv(cache_file, compression='gzip')\n",
    "else:\n",
    "    print(f\"Cache not found. Reading raw SIAB data: {raw_file}\")\n",
    "    siab = pd.read_csv(raw_file)\n",
    "    siab.to_csv(cache_file, index=False, compression='gzip')\n",
    "    print(f\"Cached SIAB data to: {cache_file}\")\n",
    "\n",
    "print(siab.shape)"
   ]
  },
  {
   "cell_type": "code",
   "execution_count": 10,
   "id": "db0ca512-5f53-4dba-abdb-a2888bca41ba",
   "metadata": {
    "execution": {
     "iopub.execute_input": "2025-08-05T16:11:51.758833Z",
     "iopub.status.busy": "2025-08-05T16:11:51.758091Z",
     "iopub.status.idle": "2025-08-05T16:11:51.763947Z",
     "shell.execute_reply": "2025-08-05T16:11:51.762922Z"
    },
    "papermill": {
     "duration": 0.026617,
     "end_time": "2025-08-05T16:11:51.766047",
     "exception": false,
     "start_time": "2025-08-05T16:11:51.739430",
     "status": "completed"
    },
    "tags": []
   },
   "outputs": [],
   "source": [
    "#siab"
   ]
  },
  {
   "cell_type": "markdown",
   "id": "997051c5-15bd-4b69-9786-c3001a3ce484",
   "metadata": {
    "papermill": {
     "duration": 0.016199,
     "end_time": "2025-08-05T16:11:51.799686",
     "exception": false,
     "start_time": "2025-08-05T16:11:51.783487",
     "status": "completed"
    },
    "tags": []
   },
   "source": [
    "# Splitting Data and Setting Training Data Size"
   ]
  },
  {
   "cell_type": "code",
   "execution_count": 11,
   "id": "aea9c6ef-6f46-42c8-85eb-5a62025c1508",
   "metadata": {
    "execution": {
     "iopub.execute_input": "2025-08-05T16:11:51.832912Z",
     "iopub.status.busy": "2025-08-05T16:11:51.832066Z",
     "iopub.status.idle": "2025-08-05T16:11:52.008036Z",
     "shell.execute_reply": "2025-08-05T16:11:52.006984Z"
    },
    "papermill": {
     "duration": 0.195156,
     "end_time": "2025-08-05T16:11:52.010059",
     "exception": false,
     "start_time": "2025-08-05T16:11:51.814903",
     "status": "completed"
    },
    "tags": []
   },
   "outputs": [],
   "source": [
    "from fairness_multiverse.universe import sample_by_year_size\n",
    "\n",
    "siab_train = sample_by_year_size(siab,\n",
    "                               training_year=universe[\"training_year\"],\n",
    "                               training_size=universe[\"training_size\"])"
   ]
  },
  {
   "cell_type": "code",
   "execution_count": 12,
   "id": "8d3afb32-789d-442c-8d5d-9f5aa8dd2eed",
   "metadata": {
    "execution": {
     "iopub.execute_input": "2025-08-05T16:11:52.048564Z",
     "iopub.status.busy": "2025-08-05T16:11:52.048018Z",
     "iopub.status.idle": "2025-08-05T16:11:52.053886Z",
     "shell.execute_reply": "2025-08-05T16:11:52.052732Z"
    },
    "papermill": {
     "duration": 0.027264,
     "end_time": "2025-08-05T16:11:52.055670",
     "exception": false,
     "start_time": "2025-08-05T16:11:52.028406",
     "status": "completed"
    },
    "tags": []
   },
   "outputs": [],
   "source": [
    "#siab_train.shape"
   ]
  },
  {
   "cell_type": "code",
   "execution_count": 13,
   "id": "d582db68-1a4c-47fb-84fc-08518dc1975a",
   "metadata": {
    "execution": {
     "iopub.execute_input": "2025-08-05T16:11:52.095139Z",
     "iopub.status.busy": "2025-08-05T16:11:52.094665Z",
     "iopub.status.idle": "2025-08-05T16:11:52.099871Z",
     "shell.execute_reply": "2025-08-05T16:11:52.098788Z"
    },
    "papermill": {
     "duration": 0.027184,
     "end_time": "2025-08-05T16:11:52.101454",
     "exception": false,
     "start_time": "2025-08-05T16:11:52.074270",
     "status": "completed"
    },
    "tags": []
   },
   "outputs": [],
   "source": [
    "#display(siab_train.groupby(\"year\").size())"
   ]
  },
  {
   "cell_type": "code",
   "execution_count": 14,
   "id": "a561edb4-d032-42cb-8256-22eac1111c64",
   "metadata": {
    "execution": {
     "iopub.execute_input": "2025-08-05T16:11:52.139962Z",
     "iopub.status.busy": "2025-08-05T16:11:52.139412Z",
     "iopub.status.idle": "2025-08-05T16:11:52.375703Z",
     "shell.execute_reply": "2025-08-05T16:11:52.374779Z"
    },
    "papermill": {
     "duration": 0.257379,
     "end_time": "2025-08-05T16:11:52.377359",
     "exception": false,
     "start_time": "2025-08-05T16:11:52.119980",
     "status": "completed"
    },
    "tags": []
   },
   "outputs": [],
   "source": [
    "#siab_train = siab_s[siab_s.year < 2015]\n",
    "siab_calib = siab[siab.year == 2015]\n",
    "siab_test = siab[siab.year == 2016]"
   ]
  },
  {
   "cell_type": "code",
   "execution_count": 15,
   "id": "472de16f-c3db-4916-846b-1f0de9cf1746",
   "metadata": {
    "execution": {
     "iopub.execute_input": "2025-08-05T16:11:52.399955Z",
     "iopub.status.busy": "2025-08-05T16:11:52.399108Z",
     "iopub.status.idle": "2025-08-05T16:11:52.405341Z",
     "shell.execute_reply": "2025-08-05T16:11:52.404298Z"
    },
    "papermill": {
     "duration": 0.018499,
     "end_time": "2025-08-05T16:11:52.407028",
     "exception": false,
     "start_time": "2025-08-05T16:11:52.388529",
     "status": "completed"
    },
    "tags": []
   },
   "outputs": [],
   "source": [
    "X_train = siab_train.iloc[:,4:164]\n",
    "y_train = siab_train.iloc[:, [3]]"
   ]
  },
  {
   "cell_type": "code",
   "execution_count": 16,
   "id": "828c96af-f43a-4ed6-ba47-8ac73a47d56c",
   "metadata": {
    "execution": {
     "iopub.execute_input": "2025-08-05T16:11:52.442120Z",
     "iopub.status.busy": "2025-08-05T16:11:52.441164Z",
     "iopub.status.idle": "2025-08-05T16:11:52.476645Z",
     "shell.execute_reply": "2025-08-05T16:11:52.475468Z"
    },
    "papermill": {
     "duration": 0.05518,
     "end_time": "2025-08-05T16:11:52.479041",
     "exception": false,
     "start_time": "2025-08-05T16:11:52.423861",
     "status": "completed"
    },
    "tags": []
   },
   "outputs": [],
   "source": [
    "X_calib = siab_calib.iloc[:,4:164]\n",
    "y_calib = siab_calib.iloc[:, [3]]"
   ]
  },
  {
   "cell_type": "code",
   "execution_count": 17,
   "id": "c34be9c3-6bd6-476e-acd3-845840e303be",
   "metadata": {
    "execution": {
     "iopub.execute_input": "2025-08-05T16:11:52.514207Z",
     "iopub.status.busy": "2025-08-05T16:11:52.513237Z",
     "iopub.status.idle": "2025-08-05T16:11:52.567967Z",
     "shell.execute_reply": "2025-08-05T16:11:52.566794Z"
    },
    "papermill": {
     "duration": 0.073934,
     "end_time": "2025-08-05T16:11:52.569959",
     "exception": false,
     "start_time": "2025-08-05T16:11:52.496025",
     "status": "completed"
    },
    "tags": []
   },
   "outputs": [],
   "source": [
    "X_test = siab_test.iloc[:,4:164]\n",
    "y_true = siab_test.iloc[:, [3]]"
   ]
  },
  {
   "cell_type": "code",
   "execution_count": 18,
   "id": "e6c733c5",
   "metadata": {
    "execution": {
     "iopub.execute_input": "2025-08-05T16:11:52.606235Z",
     "iopub.status.busy": "2025-08-05T16:11:52.605225Z",
     "iopub.status.idle": "2025-08-05T16:11:52.705475Z",
     "shell.execute_reply": "2025-08-05T16:11:52.704532Z"
    },
    "papermill": {
     "duration": 0.119973,
     "end_time": "2025-08-05T16:11:52.707355",
     "exception": false,
     "start_time": "2025-08-05T16:11:52.587382",
     "status": "completed"
    },
    "tags": []
   },
   "outputs": [],
   "source": [
    "# Auxiliary data needed downstream in the pipeline\n",
    "\n",
    "org_train = X_train.copy()\n",
    "org_test = X_test.copy()\n",
    "org_calib = X_calib.copy()"
   ]
  },
  {
   "cell_type": "markdown",
   "id": "0a4a1b33",
   "metadata": {
    "papermill": {
     "duration": 0.016786,
     "end_time": "2025-08-05T16:11:52.740588",
     "exception": false,
     "start_time": "2025-08-05T16:11:52.723802",
     "status": "completed"
    },
    "tags": []
   },
   "source": [
    "# Preprocessing Data"
   ]
  },
  {
   "cell_type": "code",
   "execution_count": 19,
   "id": "ca879031",
   "metadata": {
    "execution": {
     "iopub.execute_input": "2025-08-05T16:11:52.774326Z",
     "iopub.status.busy": "2025-08-05T16:11:52.773496Z",
     "iopub.status.idle": "2025-08-05T16:11:52.780047Z",
     "shell.execute_reply": "2025-08-05T16:11:52.779064Z"
    },
    "papermill": {
     "duration": 0.025018,
     "end_time": "2025-08-05T16:11:52.781700",
     "exception": false,
     "start_time": "2025-08-05T16:11:52.756682",
     "status": "completed"
    },
    "tags": []
   },
   "outputs": [],
   "source": [
    "# EXCLUDE PROTECTED FEATURES\n",
    "# ----------------------\n",
    "# \"exclude_features\": \"none\", # \"nationality\", \"sex\", \"nationality-sex\"\n",
    "\n",
    "excluded_features = universe[\"exclude_features\"].split(\"-\") # split, e.g.: \"nationality-sex\" -> [\"nationality\", \"sex\"]\n",
    "excluded_features_dictionary = {\n",
    "    \"nationality\": [\"maxdeutsch1\", \"maxdeutsch.Missing.\"],\n",
    "    \"sex\": [\"frau1\"],\n",
    "    \"age\": [\"age\"],\n",
    "}"
   ]
  },
  {
   "cell_type": "code",
   "execution_count": 20,
   "id": "b745ac60",
   "metadata": {
    "execution": {
     "iopub.execute_input": "2025-08-05T16:11:52.817097Z",
     "iopub.status.busy": "2025-08-05T16:11:52.816161Z",
     "iopub.status.idle": "2025-08-05T16:11:52.828361Z",
     "shell.execute_reply": "2025-08-05T16:11:52.821137Z"
    },
    "papermill": {
     "duration": 0.031224,
     "end_time": "2025-08-05T16:11:52.830237",
     "exception": false,
     "start_time": "2025-08-05T16:11:52.799013",
     "status": "completed"
    },
    "tags": []
   },
   "outputs": [],
   "source": [
    "# Code nice names to column names\n",
    "\n",
    "excluded_features_columns = [\n",
    "    excluded_features_dictionary[f] for f in excluded_features if len(f) > 0 and f != \"none\"\n",
    "]"
   ]
  },
  {
   "cell_type": "code",
   "execution_count": 21,
   "id": "f84f73a2",
   "metadata": {
    "execution": {
     "iopub.execute_input": "2025-08-05T16:11:52.876028Z",
     "iopub.status.busy": "2025-08-05T16:11:52.875365Z",
     "iopub.status.idle": "2025-08-05T16:11:52.882438Z",
     "shell.execute_reply": "2025-08-05T16:11:52.881382Z"
    },
    "papermill": {
     "duration": 0.031993,
     "end_time": "2025-08-05T16:11:52.884159",
     "exception": false,
     "start_time": "2025-08-05T16:11:52.852166",
     "status": "completed"
    },
    "tags": []
   },
   "outputs": [],
   "source": [
    "from utils import flatten_once\n",
    "\n",
    "excluded_features_columns = flatten_once(excluded_features_columns)"
   ]
  },
  {
   "cell_type": "code",
   "execution_count": 22,
   "id": "884dea22",
   "metadata": {
    "execution": {
     "iopub.execute_input": "2025-08-05T16:11:52.918785Z",
     "iopub.status.busy": "2025-08-05T16:11:52.917952Z",
     "iopub.status.idle": "2025-08-05T16:11:52.926624Z",
     "shell.execute_reply": "2025-08-05T16:11:52.925706Z"
    },
    "papermill": {
     "duration": 0.027695,
     "end_time": "2025-08-05T16:11:52.928627",
     "exception": false,
     "start_time": "2025-08-05T16:11:52.900932",
     "status": "completed"
    },
    "tags": []
   },
   "outputs": [
    {
     "name": "stdout",
     "output_type": "stream",
     "text": [
      "Dropping features: ['maxdeutsch1', 'maxdeutsch.Missing.', 'frau1']\n"
     ]
    }
   ],
   "source": [
    "if len(excluded_features_columns) > 0:\n",
    "    print(f\"Dropping features: {excluded_features_columns}\")\n",
    "    X_train.drop(excluded_features_columns, axis=1, inplace=True)"
   ]
  },
  {
   "cell_type": "code",
   "execution_count": 23,
   "id": "95ab8b16",
   "metadata": {
    "execution": {
     "iopub.execute_input": "2025-08-05T16:11:52.974997Z",
     "iopub.status.busy": "2025-08-05T16:11:52.974469Z",
     "iopub.status.idle": "2025-08-05T16:11:53.033440Z",
     "shell.execute_reply": "2025-08-05T16:11:53.032398Z"
    },
    "papermill": {
     "duration": 0.084901,
     "end_time": "2025-08-05T16:11:53.035148",
     "exception": false,
     "start_time": "2025-08-05T16:11:52.950247",
     "status": "completed"
    },
    "tags": []
   },
   "outputs": [
    {
     "name": "stdout",
     "output_type": "stream",
     "text": [
      "Dropping features: ['maxdeutsch1', 'maxdeutsch.Missing.', 'frau1']\n"
     ]
    }
   ],
   "source": [
    "if len(excluded_features_columns) > 0:\n",
    "    print(f\"Dropping features: {excluded_features_columns}\")\n",
    "    X_test.drop(excluded_features_columns, axis=1, inplace=True)"
   ]
  },
  {
   "cell_type": "code",
   "execution_count": 24,
   "id": "1853aaf5-fb9f-46cb-a2b5-8ea4ae2237e4",
   "metadata": {
    "execution": {
     "iopub.execute_input": "2025-08-05T16:11:53.070515Z",
     "iopub.status.busy": "2025-08-05T16:11:53.069439Z",
     "iopub.status.idle": "2025-08-05T16:11:53.158529Z",
     "shell.execute_reply": "2025-08-05T16:11:53.157178Z"
    },
    "papermill": {
     "duration": 0.107985,
     "end_time": "2025-08-05T16:11:53.160405",
     "exception": false,
     "start_time": "2025-08-05T16:11:53.052420",
     "status": "completed"
    },
    "tags": []
   },
   "outputs": [
    {
     "name": "stdout",
     "output_type": "stream",
     "text": [
      "Dropping features: ['maxdeutsch1', 'maxdeutsch.Missing.', 'frau1']\n"
     ]
    }
   ],
   "source": [
    "if len(excluded_features_columns) > 0:\n",
    "    print(f\"Dropping features: {excluded_features_columns}\")\n",
    "    X_calib.drop(excluded_features_columns, axis=1, inplace=True)"
   ]
  },
  {
   "cell_type": "code",
   "execution_count": 25,
   "id": "76c4dc6d",
   "metadata": {
    "execution": {
     "iopub.execute_input": "2025-08-05T16:11:53.203111Z",
     "iopub.status.busy": "2025-08-05T16:11:53.202652Z",
     "iopub.status.idle": "2025-08-05T16:11:53.208294Z",
     "shell.execute_reply": "2025-08-05T16:11:53.207118Z"
    },
    "papermill": {
     "duration": 0.027969,
     "end_time": "2025-08-05T16:11:53.210010",
     "exception": false,
     "start_time": "2025-08-05T16:11:53.182041",
     "status": "completed"
    },
    "tags": []
   },
   "outputs": [],
   "source": [
    "# EXCLUDE CERTAIN SUBGROUPS\n",
    "# ----------------------\n",
    "\n",
    "mode = universe.get(\"exclude_subgroups\", \"keep-all\") \n",
    "# Fetches the exclude_subgroups setting from the universe dict.\n",
    "# Defaults to \"keep-all\" if the key is missing."
   ]
  },
  {
   "cell_type": "code",
   "execution_count": 26,
   "id": "21994072",
   "metadata": {
    "execution": {
     "iopub.execute_input": "2025-08-05T16:11:53.245804Z",
     "iopub.status.busy": "2025-08-05T16:11:53.245200Z",
     "iopub.status.idle": "2025-08-05T16:11:53.253259Z",
     "shell.execute_reply": "2025-08-05T16:11:53.252152Z"
    },
    "papermill": {
     "duration": 0.027266,
     "end_time": "2025-08-05T16:11:53.255303",
     "exception": false,
     "start_time": "2025-08-05T16:11:53.228037",
     "status": "completed"
    },
    "tags": []
   },
   "outputs": [],
   "source": [
    "if mode == \"keep-all\":\n",
    "    keep_mask = pd.Series(True, index=org_train.index)\n",
    "\n",
    "# org_train contains the original feature columns from features_org (in Simson)\n",
    "# features_org contains unprocessed features, for me X_train at beginning ???\n",
    "# For keep-all, creates a boolean Series (keep_mask) of all True, so no rows are removed.\n",
    "\n",
    "elif mode == \"drop-non-german\":\n",
    "    keep_mask = org_train[\"maxdeutsch1\"] == 1 # ??? what about missing values?\n",
    "\n",
    "else:\n",
    "    raise ValueError(f\"Unsupported mode for exclude_subgroups: {mode}\")"
   ]
  },
  {
   "cell_type": "code",
   "execution_count": 27,
   "id": "71651440",
   "metadata": {
    "execution": {
     "iopub.execute_input": "2025-08-05T16:11:53.291842Z",
     "iopub.status.busy": "2025-08-05T16:11:53.291052Z",
     "iopub.status.idle": "2025-08-05T16:11:53.298391Z",
     "shell.execute_reply": "2025-08-05T16:11:53.297279Z"
    },
    "papermill": {
     "duration": 0.027248,
     "end_time": "2025-08-05T16:11:53.300076",
     "exception": false,
     "start_time": "2025-08-05T16:11:53.272828",
     "status": "completed"
    },
    "tags": []
   },
   "outputs": [],
   "source": [
    "n_drop = (~keep_mask).sum() # Calculates how many rows are set to be dropped\n",
    "if n_drop > 0:\n",
    "    pct = n_drop / len(keep_mask) * 100\n",
    "    print(f\"Dropping {n_drop} rows ({pct:.2f}%) where mode='{mode}'\")"
   ]
  },
  {
   "cell_type": "code",
   "execution_count": 28,
   "id": "5fb8eee5",
   "metadata": {
    "execution": {
     "iopub.execute_input": "2025-08-05T16:11:53.335675Z",
     "iopub.status.busy": "2025-08-05T16:11:53.334811Z",
     "iopub.status.idle": "2025-08-05T16:11:53.342443Z",
     "shell.execute_reply": "2025-08-05T16:11:53.341256Z"
    },
    "papermill": {
     "duration": 0.027097,
     "end_time": "2025-08-05T16:11:53.344382",
     "exception": false,
     "start_time": "2025-08-05T16:11:53.317285",
     "status": "completed"
    },
    "tags": []
   },
   "outputs": [],
   "source": [
    "X_train = X_train[keep_mask]"
   ]
  },
  {
   "cell_type": "code",
   "execution_count": 29,
   "id": "b202bb3a",
   "metadata": {
    "execution": {
     "iopub.execute_input": "2025-08-05T16:11:53.380045Z",
     "iopub.status.busy": "2025-08-05T16:11:53.379473Z",
     "iopub.status.idle": "2025-08-05T16:11:53.386289Z",
     "shell.execute_reply": "2025-08-05T16:11:53.385291Z"
    },
    "papermill": {
     "duration": 0.026234,
     "end_time": "2025-08-05T16:11:53.388253",
     "exception": false,
     "start_time": "2025-08-05T16:11:53.362019",
     "status": "completed"
    },
    "tags": []
   },
   "outputs": [],
   "source": [
    "y_train = y_train[keep_mask]"
   ]
  },
  {
   "cell_type": "markdown",
   "id": "493e2ac3",
   "metadata": {
    "papermill": {
     "duration": 0.021926,
     "end_time": "2025-08-05T16:11:53.427545",
     "exception": false,
     "start_time": "2025-08-05T16:11:53.405619",
     "status": "completed"
    },
    "tags": []
   },
   "source": [
    "# Model Training"
   ]
  },
  {
   "cell_type": "code",
   "execution_count": 30,
   "id": "679e1268",
   "metadata": {
    "execution": {
     "iopub.execute_input": "2025-08-05T16:11:53.466867Z",
     "iopub.status.busy": "2025-08-05T16:11:53.466259Z",
     "iopub.status.idle": "2025-08-05T16:11:53.583533Z",
     "shell.execute_reply": "2025-08-05T16:11:53.582566Z"
    },
    "papermill": {
     "duration": 0.137071,
     "end_time": "2025-08-05T16:11:53.585326",
     "exception": false,
     "start_time": "2025-08-05T16:11:53.448255",
     "status": "completed"
    },
    "tags": []
   },
   "outputs": [],
   "source": [
    "from sklearn.linear_model import LogisticRegression\n",
    "from sklearn.ensemble import GradientBoostingClassifier, RandomForestClassifier\n",
    "\n",
    "if (universe[\"model\"] == \"logreg\"):\n",
    "    model = LogisticRegression() #penalty=\"none\", solver=\"newton-cg\", max_iter=1) # include random_state=19 ?\n",
    "elif (universe[\"model\"] == \"penalized_logreg\"):\n",
    "    model = LogisticRegression(penalty=\"l2\", C=0.1) #, solver=\"newton-cg\", max_iter=1)\n",
    "elif (universe[\"model\"] == \"rf\"):\n",
    "    model = RandomForestClassifier() # n_estimators=100, n_jobs=-1\n",
    "elif (universe[\"model\"] == \"gbm\"):\n",
    "    model = GradientBoostingClassifier()\n",
    "elif (universe[\"model\"] == \"elasticnet\"):\n",
    "    model = LogisticRegression(penalty = 'elasticnet', solver = 'saga', l1_ratio = 0.5) # max_iter=5000\n",
    "else:\n",
    "    raise \"Unsupported universe.model\""
   ]
  },
  {
   "cell_type": "code",
   "execution_count": 31,
   "id": "0cc8f744",
   "metadata": {
    "execution": {
     "iopub.execute_input": "2025-08-05T16:11:53.622056Z",
     "iopub.status.busy": "2025-08-05T16:11:53.621475Z",
     "iopub.status.idle": "2025-08-05T16:11:53.628447Z",
     "shell.execute_reply": "2025-08-05T16:11:53.627458Z"
    },
    "papermill": {
     "duration": 0.02739,
     "end_time": "2025-08-05T16:11:53.630194",
     "exception": false,
     "start_time": "2025-08-05T16:11:53.602804",
     "status": "completed"
    },
    "tags": []
   },
   "outputs": [],
   "source": [
    "import numpy as np\n",
    "from sklearn.pipeline import Pipeline\n",
    "from sklearn.preprocessing import StandardScaler\n",
    "\n",
    "model = Pipeline([\n",
    "    #(\"continuous_processor\", continuous_processor),\n",
    "    #(\"categorical_preprocessor\", categorical_preprocessor),\n",
    "    (\"scale\", StandardScaler() if universe[\"scale\"] == \"scale\" else None), \n",
    "    (\"model\", model),\n",
    "])"
   ]
  },
  {
   "cell_type": "code",
   "execution_count": 32,
   "id": "9442c04d",
   "metadata": {
    "execution": {
     "iopub.execute_input": "2025-08-05T16:11:53.672561Z",
     "iopub.status.busy": "2025-08-05T16:11:53.671651Z",
     "iopub.status.idle": "2025-08-05T16:11:54.071200Z",
     "shell.execute_reply": "2025-08-05T16:11:54.070252Z"
    },
    "papermill": {
     "duration": 0.423484,
     "end_time": "2025-08-05T16:11:54.073036",
     "exception": false,
     "start_time": "2025-08-05T16:11:53.649552",
     "status": "completed"
    },
    "tags": []
   },
   "outputs": [
    {
     "data": {
      "text/html": [
       "<style>#sk-container-id-1 {color: black;background-color: white;}#sk-container-id-1 pre{padding: 0;}#sk-container-id-1 div.sk-toggleable {background-color: white;}#sk-container-id-1 label.sk-toggleable__label {cursor: pointer;display: block;width: 100%;margin-bottom: 0;padding: 0.3em;box-sizing: border-box;text-align: center;}#sk-container-id-1 label.sk-toggleable__label-arrow:before {content: \"▸\";float: left;margin-right: 0.25em;color: #696969;}#sk-container-id-1 label.sk-toggleable__label-arrow:hover:before {color: black;}#sk-container-id-1 div.sk-estimator:hover label.sk-toggleable__label-arrow:before {color: black;}#sk-container-id-1 div.sk-toggleable__content {max-height: 0;max-width: 0;overflow: hidden;text-align: left;background-color: #f0f8ff;}#sk-container-id-1 div.sk-toggleable__content pre {margin: 0.2em;color: black;border-radius: 0.25em;background-color: #f0f8ff;}#sk-container-id-1 input.sk-toggleable__control:checked~div.sk-toggleable__content {max-height: 200px;max-width: 100%;overflow: auto;}#sk-container-id-1 input.sk-toggleable__control:checked~label.sk-toggleable__label-arrow:before {content: \"▾\";}#sk-container-id-1 div.sk-estimator input.sk-toggleable__control:checked~label.sk-toggleable__label {background-color: #d4ebff;}#sk-container-id-1 div.sk-label input.sk-toggleable__control:checked~label.sk-toggleable__label {background-color: #d4ebff;}#sk-container-id-1 input.sk-hidden--visually {border: 0;clip: rect(1px 1px 1px 1px);clip: rect(1px, 1px, 1px, 1px);height: 1px;margin: -1px;overflow: hidden;padding: 0;position: absolute;width: 1px;}#sk-container-id-1 div.sk-estimator {font-family: monospace;background-color: #f0f8ff;border: 1px dotted black;border-radius: 0.25em;box-sizing: border-box;margin-bottom: 0.5em;}#sk-container-id-1 div.sk-estimator:hover {background-color: #d4ebff;}#sk-container-id-1 div.sk-parallel-item::after {content: \"\";width: 100%;border-bottom: 1px solid gray;flex-grow: 1;}#sk-container-id-1 div.sk-label:hover label.sk-toggleable__label {background-color: #d4ebff;}#sk-container-id-1 div.sk-serial::before {content: \"\";position: absolute;border-left: 1px solid gray;box-sizing: border-box;top: 0;bottom: 0;left: 50%;z-index: 0;}#sk-container-id-1 div.sk-serial {display: flex;flex-direction: column;align-items: center;background-color: white;padding-right: 0.2em;padding-left: 0.2em;position: relative;}#sk-container-id-1 div.sk-item {position: relative;z-index: 1;}#sk-container-id-1 div.sk-parallel {display: flex;align-items: stretch;justify-content: center;background-color: white;position: relative;}#sk-container-id-1 div.sk-item::before, #sk-container-id-1 div.sk-parallel-item::before {content: \"\";position: absolute;border-left: 1px solid gray;box-sizing: border-box;top: 0;bottom: 0;left: 50%;z-index: -1;}#sk-container-id-1 div.sk-parallel-item {display: flex;flex-direction: column;z-index: 1;position: relative;background-color: white;}#sk-container-id-1 div.sk-parallel-item:first-child::after {align-self: flex-end;width: 50%;}#sk-container-id-1 div.sk-parallel-item:last-child::after {align-self: flex-start;width: 50%;}#sk-container-id-1 div.sk-parallel-item:only-child::after {width: 0;}#sk-container-id-1 div.sk-dashed-wrapped {border: 1px dashed gray;margin: 0 0.4em 0.5em 0.4em;box-sizing: border-box;padding-bottom: 0.4em;background-color: white;}#sk-container-id-1 div.sk-label label {font-family: monospace;font-weight: bold;display: inline-block;line-height: 1.2em;}#sk-container-id-1 div.sk-label-container {text-align: center;}#sk-container-id-1 div.sk-container {/* jupyter's `normalize.less` sets `[hidden] { display: none; }` but bootstrap.min.css set `[hidden] { display: none !important; }` so we also need the `!important` here to be able to override the default hidden behavior on the sphinx rendered scikit-learn.org. See: https://github.com/scikit-learn/scikit-learn/issues/21755 */display: inline-block !important;position: relative;}#sk-container-id-1 div.sk-text-repr-fallback {display: none;}</style><div id=\"sk-container-id-1\" class=\"sk-top-container\"><div class=\"sk-text-repr-fallback\"><pre>Pipeline(steps=[(&#x27;scale&#x27;, None), (&#x27;model&#x27;, RandomForestClassifier())])</pre><b>In a Jupyter environment, please rerun this cell to show the HTML representation or trust the notebook. <br />On GitHub, the HTML representation is unable to render, please try loading this page with nbviewer.org.</b></div><div class=\"sk-container\" hidden><div class=\"sk-item sk-dashed-wrapped\"><div class=\"sk-label-container\"><div class=\"sk-label sk-toggleable\"><input class=\"sk-toggleable__control sk-hidden--visually\" id=\"sk-estimator-id-1\" type=\"checkbox\" ><label for=\"sk-estimator-id-1\" class=\"sk-toggleable__label sk-toggleable__label-arrow\">Pipeline</label><div class=\"sk-toggleable__content\"><pre>Pipeline(steps=[(&#x27;scale&#x27;, None), (&#x27;model&#x27;, RandomForestClassifier())])</pre></div></div></div><div class=\"sk-serial\"><div class=\"sk-item\"><div class=\"sk-estimator sk-toggleable\"><input class=\"sk-toggleable__control sk-hidden--visually\" id=\"sk-estimator-id-2\" type=\"checkbox\" ><label for=\"sk-estimator-id-2\" class=\"sk-toggleable__label sk-toggleable__label-arrow\">None</label><div class=\"sk-toggleable__content\"><pre>None</pre></div></div></div><div class=\"sk-item\"><div class=\"sk-estimator sk-toggleable\"><input class=\"sk-toggleable__control sk-hidden--visually\" id=\"sk-estimator-id-3\" type=\"checkbox\" ><label for=\"sk-estimator-id-3\" class=\"sk-toggleable__label sk-toggleable__label-arrow\">RandomForestClassifier</label><div class=\"sk-toggleable__content\"><pre>RandomForestClassifier()</pre></div></div></div></div></div></div></div>"
      ],
      "text/plain": [
       "Pipeline(steps=[('scale', None), ('model', RandomForestClassifier())])"
      ]
     },
     "execution_count": 32,
     "metadata": {},
     "output_type": "execute_result"
    }
   ],
   "source": [
    "model.fit(X_train, y_train.values.ravel())"
   ]
  },
  {
   "cell_type": "code",
   "execution_count": 33,
   "id": "af59f8c0",
   "metadata": {
    "execution": {
     "iopub.execute_input": "2025-08-05T16:11:54.118206Z",
     "iopub.status.busy": "2025-08-05T16:11:54.117293Z",
     "iopub.status.idle": "2025-08-05T16:11:54.122999Z",
     "shell.execute_reply": "2025-08-05T16:11:54.121964Z"
    },
    "papermill": {
     "duration": 0.028996,
     "end_time": "2025-08-05T16:11:54.124763",
     "exception": false,
     "start_time": "2025-08-05T16:11:54.095767",
     "status": "completed"
    },
    "tags": []
   },
   "outputs": [],
   "source": [
    "from fairness_multiverse.universe import predict_w_threshold"
   ]
  },
  {
   "cell_type": "code",
   "execution_count": 34,
   "id": "a7cf2e16",
   "metadata": {
    "execution": {
     "iopub.execute_input": "2025-08-05T16:11:54.165993Z",
     "iopub.status.busy": "2025-08-05T16:11:54.165487Z",
     "iopub.status.idle": "2025-08-05T16:11:55.908682Z",
     "shell.execute_reply": "2025-08-05T16:11:55.907666Z"
    },
    "papermill": {
     "duration": 1.764852,
     "end_time": "2025-08-05T16:11:55.910442",
     "exception": false,
     "start_time": "2025-08-05T16:11:54.145590",
     "status": "completed"
    },
    "tags": []
   },
   "outputs": [
    {
     "data": {
      "text/plain": [
       "0.8622673057630141"
      ]
     },
     "execution_count": 34,
     "metadata": {},
     "output_type": "execute_result"
    }
   ],
   "source": [
    "probs_test = model.predict_proba(X_test)\n",
    "\n",
    "'''\n",
    "Below code returns a boolean array (or binary 0/1 array depending on how it’s used) where each element \n",
    "is True if the probability of class 1 is greater than or equal to the threshold, and False otherwise.\n",
    "'''\n",
    "y_pred_default = predict_w_threshold(probs_test, 0.5)\n",
    "\n",
    "from sklearn.metrics import accuracy_score\n",
    "\n",
    "# Naive prediction\n",
    "accuracy_score(y_true = y_true, y_pred = y_pred_default)"
   ]
  },
  {
   "cell_type": "code",
   "execution_count": 35,
   "id": "081964c3",
   "metadata": {
    "execution": {
     "iopub.execute_input": "2025-08-05T16:11:55.967703Z",
     "iopub.status.busy": "2025-08-05T16:11:55.966823Z",
     "iopub.status.idle": "2025-08-05T16:11:57.715589Z",
     "shell.execute_reply": "2025-08-05T16:11:57.714678Z"
    },
    "papermill": {
     "duration": 1.772312,
     "end_time": "2025-08-05T16:11:57.717202",
     "exception": false,
     "start_time": "2025-08-05T16:11:55.944890",
     "status": "completed"
    },
    "tags": []
   },
   "outputs": [
    {
     "data": {
      "text/plain": [
       "array([0, 0, 0, ..., 0, 0, 0])"
      ]
     },
     "execution_count": 35,
     "metadata": {},
     "output_type": "execute_result"
    }
   ],
   "source": [
    "model.predict(X_test)"
   ]
  },
  {
   "cell_type": "markdown",
   "id": "56c9705b",
   "metadata": {
    "papermill": {
     "duration": 0.020169,
     "end_time": "2025-08-05T16:11:57.758847",
     "exception": false,
     "start_time": "2025-08-05T16:11:57.738678",
     "status": "completed"
    },
    "tags": []
   },
   "source": [
    "# Conformal Prediction"
   ]
  },
  {
   "cell_type": "code",
   "execution_count": 36,
   "id": "160ec6ff",
   "metadata": {
    "execution": {
     "iopub.execute_input": "2025-08-05T16:11:57.802264Z",
     "iopub.status.busy": "2025-08-05T16:11:57.801570Z",
     "iopub.status.idle": "2025-08-05T16:11:57.806769Z",
     "shell.execute_reply": "2025-08-05T16:11:57.805725Z"
    },
    "papermill": {
     "duration": 0.029074,
     "end_time": "2025-08-05T16:11:57.808472",
     "exception": false,
     "start_time": "2025-08-05T16:11:57.779398",
     "status": "completed"
    },
    "tags": []
   },
   "outputs": [],
   "source": [
    "# Miscoverage level for conformal prediction (10% allowed error rate => 90% target coverage)\n",
    "alpha = 0.1"
   ]
  },
  {
   "cell_type": "code",
   "execution_count": 37,
   "id": "eadf4555-3dd3-440e-8e35-f82a4ad9f855",
   "metadata": {
    "execution": {
     "iopub.execute_input": "2025-08-05T16:11:57.853388Z",
     "iopub.status.busy": "2025-08-05T16:11:57.852468Z",
     "iopub.status.idle": "2025-08-05T16:11:59.529331Z",
     "shell.execute_reply": "2025-08-05T16:11:59.528311Z"
    },
    "papermill": {
     "duration": 1.700113,
     "end_time": "2025-08-05T16:11:59.531549",
     "exception": false,
     "start_time": "2025-08-05T16:11:57.831436",
     "status": "completed"
    },
    "tags": []
   },
   "outputs": [],
   "source": [
    "probs_calib = model.predict_proba(X_calib)"
   ]
  },
  {
   "cell_type": "code",
   "execution_count": 38,
   "id": "2ed93547-6d5d-4983-9b36-1ecb300da49a",
   "metadata": {
    "execution": {
     "iopub.execute_input": "2025-08-05T16:11:59.581558Z",
     "iopub.status.busy": "2025-08-05T16:11:59.581062Z",
     "iopub.status.idle": "2025-08-05T16:11:59.587504Z",
     "shell.execute_reply": "2025-08-05T16:11:59.586449Z"
    },
    "papermill": {
     "duration": 0.032489,
     "end_time": "2025-08-05T16:11:59.589547",
     "exception": false,
     "start_time": "2025-08-05T16:11:59.557058",
     "status": "completed"
    },
    "tags": []
   },
   "outputs": [],
   "source": [
    "y_calib = y_calib.values.ravel().astype(int)"
   ]
  },
  {
   "cell_type": "code",
   "execution_count": 39,
   "id": "65d1320d-f588-4b38-9072-62af1ae97f7d",
   "metadata": {
    "execution": {
     "iopub.execute_input": "2025-08-05T16:11:59.639206Z",
     "iopub.status.busy": "2025-08-05T16:11:59.638519Z",
     "iopub.status.idle": "2025-08-05T16:11:59.646703Z",
     "shell.execute_reply": "2025-08-05T16:11:59.645608Z"
    },
    "papermill": {
     "duration": 0.034737,
     "end_time": "2025-08-05T16:11:59.648560",
     "exception": false,
     "start_time": "2025-08-05T16:11:59.613823",
     "status": "completed"
    },
    "tags": []
   },
   "outputs": [],
   "source": [
    "from fairness_multiverse.conformal import compute_nc_scores\n",
    "\n",
    "# Compute nonconformity scores on calibration set (1 - probability of true class)\n",
    "nc_scores = compute_nc_scores(probs_calib, y_calib)"
   ]
  },
  {
   "cell_type": "code",
   "execution_count": 40,
   "id": "df3b8ca3-53b7-43d5-9667-7c85da7aeda2",
   "metadata": {
    "execution": {
     "iopub.execute_input": "2025-08-05T16:11:59.698415Z",
     "iopub.status.busy": "2025-08-05T16:11:59.697749Z",
     "iopub.status.idle": "2025-08-05T16:11:59.705302Z",
     "shell.execute_reply": "2025-08-05T16:11:59.704226Z"
    },
    "papermill": {
     "duration": 0.035235,
     "end_time": "2025-08-05T16:11:59.707198",
     "exception": false,
     "start_time": "2025-08-05T16:11:59.671963",
     "status": "completed"
    },
    "tags": []
   },
   "outputs": [],
   "source": [
    "from fairness_multiverse.conformal import find_threshold\n",
    "\n",
    "# Find conformal threshold q_hat for the given alpha (split conformal method)\n",
    "q_hat = find_threshold(nc_scores, alpha)"
   ]
  },
  {
   "cell_type": "code",
   "execution_count": 41,
   "id": "4d29e6c1-0ef6-4aa4-b8fe-4fe79b0d033a",
   "metadata": {
    "execution": {
     "iopub.execute_input": "2025-08-05T16:11:59.748238Z",
     "iopub.status.busy": "2025-08-05T16:11:59.747467Z",
     "iopub.status.idle": "2025-08-05T16:11:59.754890Z",
     "shell.execute_reply": "2025-08-05T16:11:59.753827Z"
    },
    "papermill": {
     "duration": 0.029225,
     "end_time": "2025-08-05T16:11:59.756711",
     "exception": false,
     "start_time": "2025-08-05T16:11:59.727486",
     "status": "completed"
    },
    "tags": []
   },
   "outputs": [
    {
     "data": {
      "text/plain": [
       "0.6699999999999999"
      ]
     },
     "execution_count": 41,
     "metadata": {},
     "output_type": "execute_result"
    }
   ],
   "source": [
    "q_hat"
   ]
  },
  {
   "cell_type": "code",
   "execution_count": 42,
   "id": "92460794-cdac-4be2-ba28-f28c0515a6fb",
   "metadata": {
    "execution": {
     "iopub.execute_input": "2025-08-05T16:11:59.808970Z",
     "iopub.status.busy": "2025-08-05T16:11:59.808280Z",
     "iopub.status.idle": "2025-08-05T16:12:02.296984Z",
     "shell.execute_reply": "2025-08-05T16:12:02.296067Z"
    },
    "papermill": {
     "duration": 2.516795,
     "end_time": "2025-08-05T16:12:02.298928",
     "exception": false,
     "start_time": "2025-08-05T16:11:59.782133",
     "status": "completed"
    },
    "tags": []
   },
   "outputs": [],
   "source": [
    "from fairness_multiverse.conformal import predict_conformal_sets\n",
    "\n",
    "# Generate prediction sets for each test example\n",
    "pred_sets = predict_conformal_sets(model, X_test, q_hat)"
   ]
  },
  {
   "cell_type": "code",
   "execution_count": 43,
   "id": "d90c9a65-e6db-4f5d-80cd-e68fb7e46829",
   "metadata": {
    "execution": {
     "iopub.execute_input": "2025-08-05T16:12:02.345785Z",
     "iopub.status.busy": "2025-08-05T16:12:02.345352Z",
     "iopub.status.idle": "2025-08-05T16:12:02.350631Z",
     "shell.execute_reply": "2025-08-05T16:12:02.349456Z"
    },
    "papermill": {
     "duration": 0.031498,
     "end_time": "2025-08-05T16:12:02.352530",
     "exception": false,
     "start_time": "2025-08-05T16:12:02.321032",
     "status": "completed"
    },
    "tags": []
   },
   "outputs": [],
   "source": [
    "y_true = y_true.squeeze()"
   ]
  },
  {
   "cell_type": "code",
   "execution_count": 44,
   "id": "3a58a54a-1e68-46b9-927a-df01f18aebc8",
   "metadata": {
    "execution": {
     "iopub.execute_input": "2025-08-05T16:12:02.397560Z",
     "iopub.status.busy": "2025-08-05T16:12:02.396903Z",
     "iopub.status.idle": "2025-08-05T16:12:03.274629Z",
     "shell.execute_reply": "2025-08-05T16:12:03.273809Z"
    },
    "papermill": {
     "duration": 0.902433,
     "end_time": "2025-08-05T16:12:03.276542",
     "exception": false,
     "start_time": "2025-08-05T16:12:02.374109",
     "status": "completed"
    },
    "tags": []
   },
   "outputs": [],
   "source": [
    "from fairness_multiverse.conformal import evaluate_sets\n",
    "\n",
    "# Evaluate coverage and average set size on test data\n",
    "metrics = evaluate_sets(pred_sets, y_true)"
   ]
  },
  {
   "cell_type": "markdown",
   "id": "2b569c12-9aaa-4c88-98c9-bbcd0cf3ebb8",
   "metadata": {
    "papermill": {
     "duration": 0.010848,
     "end_time": "2025-08-05T16:12:03.320448",
     "exception": false,
     "start_time": "2025-08-05T16:12:03.309600",
     "status": "completed"
    },
    "tags": []
   },
   "source": [
    "# CP Metrics"
   ]
  },
  {
   "cell_type": "code",
   "execution_count": 45,
   "id": "5ce0a5cb-201f-45a0-ade5-94c7f0bd6095",
   "metadata": {
    "execution": {
     "iopub.execute_input": "2025-08-05T16:12:03.343967Z",
     "iopub.status.busy": "2025-08-05T16:12:03.343386Z",
     "iopub.status.idle": "2025-08-05T16:12:03.350712Z",
     "shell.execute_reply": "2025-08-05T16:12:03.349859Z"
    },
    "papermill": {
     "duration": 0.020805,
     "end_time": "2025-08-05T16:12:03.352150",
     "exception": false,
     "start_time": "2025-08-05T16:12:03.331345",
     "status": "completed"
    },
    "tags": []
   },
   "outputs": [
    {
     "data": {
      "text/plain": [
       "{'coverage': 0.914000668821759, 'avg_size': 1.151655333853528}"
      ]
     },
     "execution_count": 45,
     "metadata": {},
     "output_type": "execute_result"
    }
   ],
   "source": [
    "metrics"
   ]
  },
  {
   "cell_type": "code",
   "execution_count": 46,
   "id": "9b9a838d-31c9-430b-ae14-12baee460d17",
   "metadata": {
    "execution": {
     "iopub.execute_input": "2025-08-05T16:12:03.377169Z",
     "iopub.status.busy": "2025-08-05T16:12:03.376685Z",
     "iopub.status.idle": "2025-08-05T16:12:03.382344Z",
     "shell.execute_reply": "2025-08-05T16:12:03.381587Z"
    },
    "papermill": {
     "duration": 0.018874,
     "end_time": "2025-08-05T16:12:03.383893",
     "exception": false,
     "start_time": "2025-08-05T16:12:03.365019",
     "status": "completed"
    },
    "tags": []
   },
   "outputs": [],
   "source": [
    "example_universe = universe.copy()\n",
    "universe_training_year = example_universe.get(\"training_year\")\n",
    "universe_training_size = example_universe.get(\"training_size\")\n",
    "universe_scale = example_universe.get(\"scale\")\n",
    "universe_model = example_universe.get(\"model\")\n",
    "universe_exclude_features = example_universe.get(\"exclude_features\")\n",
    "universe_exclude_subgroups = example_universe.get(\"exclude_subgroups\")"
   ]
  },
  {
   "cell_type": "code",
   "execution_count": 47,
   "id": "f4b6a8ac-9dc0-4245-8a91-5b3b5999c4f9",
   "metadata": {
    "execution": {
     "iopub.execute_input": "2025-08-05T16:12:03.408186Z",
     "iopub.status.busy": "2025-08-05T16:12:03.407835Z",
     "iopub.status.idle": "2025-08-05T16:12:03.413199Z",
     "shell.execute_reply": "2025-08-05T16:12:03.412448Z"
    },
    "papermill": {
     "duration": 0.01901,
     "end_time": "2025-08-05T16:12:03.414801",
     "exception": false,
     "start_time": "2025-08-05T16:12:03.395791",
     "status": "completed"
    },
    "tags": []
   },
   "outputs": [],
   "source": [
    "cp_metrics_dict = {\n",
    "    \"universe_id\": [universe_id],\n",
    "    \"universe_training_year\": [universe_training_year],\n",
    "    \"universe_training_size\": [universe_training_size],\n",
    "    \"universe_scale\": [universe_scale],\n",
    "    \"universe_model\": [universe_model],\n",
    "    \"universe_exclude_features\": [universe_exclude_features],\n",
    "    \"universe_exclude_subgroups\": [universe_exclude_subgroups],\n",
    "    \"q_hat\": [q_hat],\n",
    "    \"coverage\": [metrics[\"coverage\"]],\n",
    "    \"avg_size\": [metrics[\"avg_size\"]],\n",
    "}"
   ]
  },
  {
   "cell_type": "code",
   "execution_count": 48,
   "id": "908acbb1-0371-4915-85ca-3fa520d2efe2",
   "metadata": {
    "execution": {
     "iopub.execute_input": "2025-08-05T16:12:03.438937Z",
     "iopub.status.busy": "2025-08-05T16:12:03.438591Z",
     "iopub.status.idle": "2025-08-05T16:12:03.445093Z",
     "shell.execute_reply": "2025-08-05T16:12:03.444116Z"
    },
    "papermill": {
     "duration": 0.019837,
     "end_time": "2025-08-05T16:12:03.446666",
     "exception": false,
     "start_time": "2025-08-05T16:12:03.426829",
     "status": "completed"
    },
    "tags": []
   },
   "outputs": [
    {
     "data": {
      "text/plain": [
       "{'universe_id': ['0da585ab060c60c1f57114e361b24cd3'],\n",
       " 'universe_training_year': ['2014'],\n",
       " 'universe_training_size': ['1k'],\n",
       " 'universe_scale': ['do-not-scale'],\n",
       " 'universe_model': ['rf'],\n",
       " 'universe_exclude_features': ['nationality-sex'],\n",
       " 'universe_exclude_subgroups': ['keep-all'],\n",
       " 'q_hat': [0.6699999999999999],\n",
       " 'coverage': [0.914000668821759],\n",
       " 'avg_size': [1.151655333853528]}"
      ]
     },
     "execution_count": 48,
     "metadata": {},
     "output_type": "execute_result"
    }
   ],
   "source": [
    "cp_metrics_dict"
   ]
  },
  {
   "cell_type": "code",
   "execution_count": 49,
   "id": "33007efc-14e9-4ec6-97ac-56a455c82265",
   "metadata": {
    "execution": {
     "iopub.execute_input": "2025-08-05T16:12:03.471345Z",
     "iopub.status.busy": "2025-08-05T16:12:03.470856Z",
     "iopub.status.idle": "2025-08-05T16:12:03.476533Z",
     "shell.execute_reply": "2025-08-05T16:12:03.475718Z"
    },
    "papermill": {
     "duration": 0.018956,
     "end_time": "2025-08-05T16:12:03.478024",
     "exception": false,
     "start_time": "2025-08-05T16:12:03.459068",
     "status": "completed"
    },
    "tags": []
   },
   "outputs": [],
   "source": [
    "cp_metrics_df = pd.DataFrame(cp_metrics_dict)"
   ]
  },
  {
   "cell_type": "code",
   "execution_count": 50,
   "id": "db12611b-57b2-4910-b9d0-355adfd6e7bf",
   "metadata": {
    "execution": {
     "iopub.execute_input": "2025-08-05T16:12:03.504716Z",
     "iopub.status.busy": "2025-08-05T16:12:03.504217Z",
     "iopub.status.idle": "2025-08-05T16:12:03.522306Z",
     "shell.execute_reply": "2025-08-05T16:12:03.521058Z"
    },
    "papermill": {
     "duration": 0.033519,
     "end_time": "2025-08-05T16:12:03.524018",
     "exception": false,
     "start_time": "2025-08-05T16:12:03.490499",
     "status": "completed"
    },
    "tags": []
   },
   "outputs": [
    {
     "data": {
      "text/html": [
       "<div>\n",
       "<style scoped>\n",
       "    .dataframe tbody tr th:only-of-type {\n",
       "        vertical-align: middle;\n",
       "    }\n",
       "\n",
       "    .dataframe tbody tr th {\n",
       "        vertical-align: top;\n",
       "    }\n",
       "\n",
       "    .dataframe thead th {\n",
       "        text-align: right;\n",
       "    }\n",
       "</style>\n",
       "<table border=\"1\" class=\"dataframe\">\n",
       "  <thead>\n",
       "    <tr style=\"text-align: right;\">\n",
       "      <th></th>\n",
       "      <th>universe_id</th>\n",
       "      <th>universe_training_year</th>\n",
       "      <th>universe_training_size</th>\n",
       "      <th>universe_scale</th>\n",
       "      <th>universe_model</th>\n",
       "      <th>universe_exclude_features</th>\n",
       "      <th>universe_exclude_subgroups</th>\n",
       "      <th>q_hat</th>\n",
       "      <th>coverage</th>\n",
       "      <th>avg_size</th>\n",
       "    </tr>\n",
       "  </thead>\n",
       "  <tbody>\n",
       "    <tr>\n",
       "      <th>0</th>\n",
       "      <td>0da585ab060c60c1f57114e361b24cd3</td>\n",
       "      <td>2014</td>\n",
       "      <td>1k</td>\n",
       "      <td>do-not-scale</td>\n",
       "      <td>rf</td>\n",
       "      <td>nationality-sex</td>\n",
       "      <td>keep-all</td>\n",
       "      <td>0.67</td>\n",
       "      <td>0.914001</td>\n",
       "      <td>1.151655</td>\n",
       "    </tr>\n",
       "  </tbody>\n",
       "</table>\n",
       "</div>"
      ],
      "text/plain": [
       "                        universe_id universe_training_year  \\\n",
       "0  0da585ab060c60c1f57114e361b24cd3                   2014   \n",
       "\n",
       "  universe_training_size universe_scale universe_model  \\\n",
       "0                     1k   do-not-scale             rf   \n",
       "\n",
       "  universe_exclude_features universe_exclude_subgroups  q_hat  coverage  \\\n",
       "0           nationality-sex                   keep-all   0.67  0.914001   \n",
       "\n",
       "   avg_size  \n",
       "0  1.151655  "
      ]
     },
     "execution_count": 50,
     "metadata": {},
     "output_type": "execute_result"
    }
   ],
   "source": [
    "cp_metrics_df"
   ]
  },
  {
   "cell_type": "code",
   "execution_count": 51,
   "id": "b7fbde55-a0a1-47e4-9af6-fe4a17fa8c61",
   "metadata": {
    "execution": {
     "iopub.execute_input": "2025-08-05T16:12:03.570467Z",
     "iopub.status.busy": "2025-08-05T16:12:03.569397Z",
     "iopub.status.idle": "2025-08-05T16:12:03.574872Z",
     "shell.execute_reply": "2025-08-05T16:12:03.573879Z"
    },
    "papermill": {
     "duration": 0.0303,
     "end_time": "2025-08-05T16:12:03.576774",
     "exception": false,
     "start_time": "2025-08-05T16:12:03.546474",
     "status": "completed"
    },
    "tags": []
   },
   "outputs": [],
   "source": [
    "# Conditional Coverage & looking at subgroups"
   ]
  },
  {
   "cell_type": "code",
   "execution_count": 52,
   "id": "027ae886-68dd-4141-96c7-805a5450e1ef",
   "metadata": {
    "execution": {
     "iopub.execute_input": "2025-08-05T16:12:03.623632Z",
     "iopub.status.busy": "2025-08-05T16:12:03.622725Z",
     "iopub.status.idle": "2025-08-05T16:12:03.904021Z",
     "shell.execute_reply": "2025-08-05T16:12:03.903033Z"
    },
    "papermill": {
     "duration": 0.306405,
     "end_time": "2025-08-05T16:12:03.906071",
     "exception": false,
     "start_time": "2025-08-05T16:12:03.599666",
     "status": "completed"
    },
    "tags": []
   },
   "outputs": [],
   "source": [
    "from fairness_multiverse.conformal import build_cp_groups\n",
    "\n",
    "cp_groups_df = build_cp_groups(pred_sets, y_true, X_test.index, org_test)\n",
    "#needs universe_id and setting"
   ]
  },
  {
   "cell_type": "code",
   "execution_count": 53,
   "id": "6cbdab96-b2b2-45af-ad54-d0516db2e28d",
   "metadata": {
    "execution": {
     "iopub.execute_input": "2025-08-05T16:12:03.952107Z",
     "iopub.status.busy": "2025-08-05T16:12:03.951440Z",
     "iopub.status.idle": "2025-08-05T16:12:05.475955Z",
     "shell.execute_reply": "2025-08-05T16:12:05.475029Z"
    },
    "papermill": {
     "duration": 1.549324,
     "end_time": "2025-08-05T16:12:05.477724",
     "exception": false,
     "start_time": "2025-08-05T16:12:03.928400",
     "status": "completed"
    },
    "tags": []
   },
   "outputs": [],
   "source": [
    "# Define covered = 1 if true_label is in the predicted set\n",
    "cp_groups_df['covered'] = cp_groups_df.apply(\n",
    "    lambda r: int(r['true_label'] in r['pred_set']),\n",
    "    axis=1\n",
    ")"
   ]
  },
  {
   "cell_type": "code",
   "execution_count": 54,
   "id": "338ff529-1a6b-4b87-a931-8e4788d52aad",
   "metadata": {
    "execution": {
     "iopub.execute_input": "2025-08-05T16:12:05.527254Z",
     "iopub.status.busy": "2025-08-05T16:12:05.526590Z",
     "iopub.status.idle": "2025-08-05T16:12:05.531782Z",
     "shell.execute_reply": "2025-08-05T16:12:05.530911Z"
    },
    "papermill": {
     "duration": 0.030047,
     "end_time": "2025-08-05T16:12:05.533744",
     "exception": false,
     "start_time": "2025-08-05T16:12:05.503697",
     "status": "completed"
    },
    "tags": []
   },
   "outputs": [],
   "source": [
    "#cp_groups_df"
   ]
  },
  {
   "cell_type": "code",
   "execution_count": 55,
   "id": "90032e27-66df-4540-9169-4e89cfbaa758",
   "metadata": {
    "execution": {
     "iopub.execute_input": "2025-08-05T16:12:05.582004Z",
     "iopub.status.busy": "2025-08-05T16:12:05.581279Z",
     "iopub.status.idle": "2025-08-05T16:12:05.593236Z",
     "shell.execute_reply": "2025-08-05T16:12:05.592228Z"
    },
    "papermill": {
     "duration": 0.037916,
     "end_time": "2025-08-05T16:12:05.595116",
     "exception": false,
     "start_time": "2025-08-05T16:12:05.557200",
     "status": "completed"
    },
    "tags": []
   },
   "outputs": [],
   "source": [
    "subgroups = ['frau1','nongerman','nongerman_male','nongerman_female']\n",
    "\n",
    "# Conditional coverage for subgroup==1\n",
    "cond_coverage = {\n",
    "    g: cp_groups_df.loc[cp_groups_df[g]==1, 'covered'].mean()\n",
    "    for g in subgroups\n",
    "}"
   ]
  },
  {
   "cell_type": "code",
   "execution_count": 56,
   "id": "1e348fb1-b9c3-45bc-ba23-f016827a7e0d",
   "metadata": {
    "execution": {
     "iopub.execute_input": "2025-08-05T16:12:05.642174Z",
     "iopub.status.busy": "2025-08-05T16:12:05.641675Z",
     "iopub.status.idle": "2025-08-05T16:12:05.649076Z",
     "shell.execute_reply": "2025-08-05T16:12:05.647930Z"
    },
    "papermill": {
     "duration": 0.032144,
     "end_time": "2025-08-05T16:12:05.650774",
     "exception": false,
     "start_time": "2025-08-05T16:12:05.618630",
     "status": "completed"
    },
    "tags": []
   },
   "outputs": [
    {
     "data": {
      "text/plain": [
       "{'frau1': 0.9101226580401671,\n",
       " 'nongerman': 0.9101779599169146,\n",
       " 'nongerman_male': 0.9258758893992615,\n",
       " 'nongerman_female': 0.8842026825633383}"
      ]
     },
     "execution_count": 56,
     "metadata": {},
     "output_type": "execute_result"
    }
   ],
   "source": [
    "cond_coverage"
   ]
  },
  {
   "cell_type": "code",
   "execution_count": 57,
   "id": "f5093324-c3dd-4d63-bc4c-8d945e5c8bbb",
   "metadata": {
    "execution": {
     "iopub.execute_input": "2025-08-05T16:12:05.699594Z",
     "iopub.status.busy": "2025-08-05T16:12:05.699067Z",
     "iopub.status.idle": "2025-08-05T16:12:05.707070Z",
     "shell.execute_reply": "2025-08-05T16:12:05.705914Z"
    },
    "papermill": {
     "duration": 0.035176,
     "end_time": "2025-08-05T16:12:05.709231",
     "exception": false,
     "start_time": "2025-08-05T16:12:05.674055",
     "status": "completed"
    },
    "tags": []
   },
   "outputs": [],
   "source": [
    "for subgroup, cov in cond_coverage.items():\n",
    "    cp_metrics_df[f\"cov_{subgroup}\"] = cov"
   ]
  },
  {
   "cell_type": "code",
   "execution_count": 58,
   "id": "6e872e10-dbe5-49e8-b554-5030c98ff75d",
   "metadata": {
    "execution": {
     "iopub.execute_input": "2025-08-05T16:12:05.756003Z",
     "iopub.status.busy": "2025-08-05T16:12:05.755335Z",
     "iopub.status.idle": "2025-08-05T16:12:05.774585Z",
     "shell.execute_reply": "2025-08-05T16:12:05.773446Z"
    },
    "papermill": {
     "duration": 0.044318,
     "end_time": "2025-08-05T16:12:05.776265",
     "exception": false,
     "start_time": "2025-08-05T16:12:05.731947",
     "status": "completed"
    },
    "tags": []
   },
   "outputs": [
    {
     "data": {
      "text/html": [
       "<div>\n",
       "<style scoped>\n",
       "    .dataframe tbody tr th:only-of-type {\n",
       "        vertical-align: middle;\n",
       "    }\n",
       "\n",
       "    .dataframe tbody tr th {\n",
       "        vertical-align: top;\n",
       "    }\n",
       "\n",
       "    .dataframe thead th {\n",
       "        text-align: right;\n",
       "    }\n",
       "</style>\n",
       "<table border=\"1\" class=\"dataframe\">\n",
       "  <thead>\n",
       "    <tr style=\"text-align: right;\">\n",
       "      <th></th>\n",
       "      <th>universe_id</th>\n",
       "      <th>universe_training_year</th>\n",
       "      <th>universe_training_size</th>\n",
       "      <th>universe_scale</th>\n",
       "      <th>universe_model</th>\n",
       "      <th>universe_exclude_features</th>\n",
       "      <th>universe_exclude_subgroups</th>\n",
       "      <th>q_hat</th>\n",
       "      <th>coverage</th>\n",
       "      <th>avg_size</th>\n",
       "      <th>cov_frau1</th>\n",
       "      <th>cov_nongerman</th>\n",
       "      <th>cov_nongerman_male</th>\n",
       "      <th>cov_nongerman_female</th>\n",
       "    </tr>\n",
       "  </thead>\n",
       "  <tbody>\n",
       "    <tr>\n",
       "      <th>0</th>\n",
       "      <td>0da585ab060c60c1f57114e361b24cd3</td>\n",
       "      <td>2014</td>\n",
       "      <td>1k</td>\n",
       "      <td>do-not-scale</td>\n",
       "      <td>rf</td>\n",
       "      <td>nationality-sex</td>\n",
       "      <td>keep-all</td>\n",
       "      <td>0.67</td>\n",
       "      <td>0.914001</td>\n",
       "      <td>1.151655</td>\n",
       "      <td>0.910123</td>\n",
       "      <td>0.910178</td>\n",
       "      <td>0.925876</td>\n",
       "      <td>0.884203</td>\n",
       "    </tr>\n",
       "  </tbody>\n",
       "</table>\n",
       "</div>"
      ],
      "text/plain": [
       "                        universe_id universe_training_year  \\\n",
       "0  0da585ab060c60c1f57114e361b24cd3                   2014   \n",
       "\n",
       "  universe_training_size universe_scale universe_model  \\\n",
       "0                     1k   do-not-scale             rf   \n",
       "\n",
       "  universe_exclude_features universe_exclude_subgroups  q_hat  coverage  \\\n",
       "0           nationality-sex                   keep-all   0.67  0.914001   \n",
       "\n",
       "   avg_size  cov_frau1  cov_nongerman  cov_nongerman_male  \\\n",
       "0  1.151655   0.910123       0.910178            0.925876   \n",
       "\n",
       "   cov_nongerman_female  \n",
       "0              0.884203  "
      ]
     },
     "execution_count": 58,
     "metadata": {},
     "output_type": "execute_result"
    }
   ],
   "source": [
    "cp_metrics_df"
   ]
  },
  {
   "cell_type": "markdown",
   "id": "33774451",
   "metadata": {
    "papermill": {
     "duration": 0.023614,
     "end_time": "2025-08-05T16:12:05.824589",
     "exception": false,
     "start_time": "2025-08-05T16:12:05.800975",
     "status": "completed"
    },
    "tags": []
   },
   "source": [
    "# (Fairness) Metrics"
   ]
  },
  {
   "cell_type": "code",
   "execution_count": 59,
   "id": "debc5d62",
   "metadata": {
    "execution": {
     "iopub.execute_input": "2025-08-05T16:12:05.874442Z",
     "iopub.status.busy": "2025-08-05T16:12:05.873928Z",
     "iopub.status.idle": "2025-08-05T16:12:05.895135Z",
     "shell.execute_reply": "2025-08-05T16:12:05.894211Z"
    },
    "papermill": {
     "duration": 0.048704,
     "end_time": "2025-08-05T16:12:05.896733",
     "exception": false,
     "start_time": "2025-08-05T16:12:05.848029",
     "status": "completed"
    },
    "tags": []
   },
   "outputs": [],
   "source": [
    "# do I need to include maxdeutsch1.missing?\n",
    "\n",
    "import numpy as np\n",
    "\n",
    "colname_to_bin = \"maxdeutsch1\"\n",
    "majority_value = org_train[colname_to_bin].mode()[0]\n",
    "\n",
    "org_test[\"majmin\"] = np.where(org_test[colname_to_bin] == majority_value, \"majority\", \"minority\")"
   ]
  },
  {
   "cell_type": "code",
   "execution_count": 60,
   "id": "06a50de5",
   "metadata": {
    "execution": {
     "iopub.execute_input": "2025-08-05T16:12:05.947128Z",
     "iopub.status.busy": "2025-08-05T16:12:05.946238Z",
     "iopub.status.idle": "2025-08-05T16:12:08.259938Z",
     "shell.execute_reply": "2025-08-05T16:12:08.259155Z"
    },
    "papermill": {
     "duration": 2.339016,
     "end_time": "2025-08-05T16:12:08.261458",
     "exception": false,
     "start_time": "2025-08-05T16:12:05.922442",
     "status": "completed"
    },
    "tags": []
   },
   "outputs": [],
   "source": [
    "example_universe = universe.copy()\n",
    "example_universe[\"cutoff\"] = example_universe[\"cutoff\"][0]\n",
    "example_universe[\"eval_fairness_grouping\"] = example_universe[\"eval_fairness_grouping\"][0]\n",
    "fairness_dict, metric_frame = universe_analysis.compute_metrics(\n",
    "    example_universe,\n",
    "    y_pred_prob=probs_test,\n",
    "    y_test=y_true,\n",
    "    org_test=org_test,\n",
    ")"
   ]
  },
  {
   "cell_type": "markdown",
   "id": "f95d4e02",
   "metadata": {
    "papermill": {
     "duration": 0.024224,
     "end_time": "2025-08-05T16:12:08.307505",
     "exception": false,
     "start_time": "2025-08-05T16:12:08.283281",
     "status": "completed"
    },
    "tags": []
   },
   "source": [
    "# Overall"
   ]
  },
  {
   "cell_type": "markdown",
   "id": "bdee4871",
   "metadata": {
    "papermill": {
     "duration": 0.024482,
     "end_time": "2025-08-05T16:12:08.353343",
     "exception": false,
     "start_time": "2025-08-05T16:12:08.328861",
     "status": "completed"
    },
    "tags": []
   },
   "source": [
    "Fairness\n",
    "Main fairness target: Equalized Odds. Seems to be a better fit than equal opportunity, since we're not only interested in Y = 1. Seems to be a better fit than demographic parity, since we also care about accuracy, not just equal distribution of preds.\n",
    "\n",
    "Pick column for computation of fairness metrics\n",
    "\n",
    "Performance\n",
    "Overall performance measures, most interesting in relation to the measures split by group below"
   ]
  },
  {
   "cell_type": "code",
   "execution_count": 61,
   "id": "c4e067c6",
   "metadata": {
    "execution": {
     "iopub.execute_input": "2025-08-05T16:12:08.402408Z",
     "iopub.status.busy": "2025-08-05T16:12:08.401971Z",
     "iopub.status.idle": "2025-08-05T16:12:08.411159Z",
     "shell.execute_reply": "2025-08-05T16:12:08.409858Z"
    },
    "papermill": {
     "duration": 0.036139,
     "end_time": "2025-08-05T16:12:08.413862",
     "exception": false,
     "start_time": "2025-08-05T16:12:08.377723",
     "status": "completed"
    },
    "tags": []
   },
   "outputs": [
    {
     "data": {
      "text/plain": [
       "accuracy                   0.217189\n",
       "balanced accuracy          0.537138\n",
       "f1                         0.240751\n",
       "precision                  0.137481\n",
       "false positive rate        0.893225\n",
       "false negative rate        0.032499\n",
       "selection rate             0.902753\n",
       "count                  89710.000000\n",
       "dtype: float64"
      ]
     },
     "execution_count": 61,
     "metadata": {},
     "output_type": "execute_result"
    }
   ],
   "source": [
    "metric_frame.overall"
   ]
  },
  {
   "cell_type": "markdown",
   "id": "e968fe9d",
   "metadata": {
    "papermill": {
     "duration": 0.030311,
     "end_time": "2025-08-05T16:12:08.475280",
     "exception": false,
     "start_time": "2025-08-05T16:12:08.444969",
     "status": "completed"
    },
    "tags": []
   },
   "source": [
    "By Group"
   ]
  },
  {
   "cell_type": "code",
   "execution_count": 62,
   "id": "ec325bce",
   "metadata": {
    "execution": {
     "iopub.execute_input": "2025-08-05T16:12:08.537583Z",
     "iopub.status.busy": "2025-08-05T16:12:08.536738Z",
     "iopub.status.idle": "2025-08-05T16:12:08.556512Z",
     "shell.execute_reply": "2025-08-05T16:12:08.555144Z"
    },
    "papermill": {
     "duration": 0.053445,
     "end_time": "2025-08-05T16:12:08.558765",
     "exception": false,
     "start_time": "2025-08-05T16:12:08.505320",
     "status": "completed"
    },
    "tags": []
   },
   "outputs": [
    {
     "data": {
      "text/html": [
       "<div>\n",
       "<style scoped>\n",
       "    .dataframe tbody tr th:only-of-type {\n",
       "        vertical-align: middle;\n",
       "    }\n",
       "\n",
       "    .dataframe tbody tr th {\n",
       "        vertical-align: top;\n",
       "    }\n",
       "\n",
       "    .dataframe thead th {\n",
       "        text-align: right;\n",
       "    }\n",
       "</style>\n",
       "<table border=\"1\" class=\"dataframe\">\n",
       "  <thead>\n",
       "    <tr style=\"text-align: right;\">\n",
       "      <th></th>\n",
       "      <th>accuracy</th>\n",
       "      <th>balanced accuracy</th>\n",
       "      <th>f1</th>\n",
       "      <th>precision</th>\n",
       "      <th>false positive rate</th>\n",
       "      <th>false negative rate</th>\n",
       "      <th>selection rate</th>\n",
       "      <th>count</th>\n",
       "    </tr>\n",
       "    <tr>\n",
       "      <th>majmin</th>\n",
       "      <th></th>\n",
       "      <th></th>\n",
       "      <th></th>\n",
       "      <th></th>\n",
       "      <th></th>\n",
       "      <th></th>\n",
       "      <th></th>\n",
       "      <th></th>\n",
       "    </tr>\n",
       "  </thead>\n",
       "  <tbody>\n",
       "    <tr>\n",
       "      <th>majority</th>\n",
       "      <td>0.210033</td>\n",
       "      <td>0.539359</td>\n",
       "      <td>0.248225</td>\n",
       "      <td>0.141965</td>\n",
       "      <td>0.908263</td>\n",
       "      <td>0.013020</td>\n",
       "      <td>0.918664</td>\n",
       "      <td>69170.0</td>\n",
       "    </tr>\n",
       "    <tr>\n",
       "      <th>minority</th>\n",
       "      <td>0.241285</td>\n",
       "      <td>0.524382</td>\n",
       "      <td>0.213327</td>\n",
       "      <td>0.121144</td>\n",
       "      <td>0.843551</td>\n",
       "      <td>0.107686</td>\n",
       "      <td>0.849172</td>\n",
       "      <td>20540.0</td>\n",
       "    </tr>\n",
       "  </tbody>\n",
       "</table>\n",
       "</div>"
      ],
      "text/plain": [
       "          accuracy  balanced accuracy        f1  precision  \\\n",
       "majmin                                                       \n",
       "majority  0.210033           0.539359  0.248225   0.141965   \n",
       "minority  0.241285           0.524382  0.213327   0.121144   \n",
       "\n",
       "          false positive rate  false negative rate  selection rate    count  \n",
       "majmin                                                                       \n",
       "majority             0.908263             0.013020        0.918664  69170.0  \n",
       "minority             0.843551             0.107686        0.849172  20540.0  "
      ]
     },
     "execution_count": 62,
     "metadata": {},
     "output_type": "execute_result"
    }
   ],
   "source": [
    "metric_frame.by_group"
   ]
  },
  {
   "cell_type": "code",
   "execution_count": 63,
   "id": "a9ddbe63",
   "metadata": {
    "execution": {
     "iopub.execute_input": "2025-08-05T16:12:08.626639Z",
     "iopub.status.busy": "2025-08-05T16:12:08.625903Z",
     "iopub.status.idle": "2025-08-05T16:12:10.639179Z",
     "shell.execute_reply": "2025-08-05T16:12:10.638477Z"
    },
    "papermill": {
     "duration": 2.048006,
     "end_time": "2025-08-05T16:12:10.640638",
     "exception": false,
     "start_time": "2025-08-05T16:12:08.592632",
     "status": "completed"
    },
    "tags": []
   },
   "outputs": [
    {
     "data": {
      "text/plain": [
       "array([[<Axes: title={'center': 'accuracy'}, xlabel='majmin'>,\n",
       "        <Axes: title={'center': 'balanced accuracy'}, xlabel='majmin'>,\n",
       "        <Axes: title={'center': 'f1'}, xlabel='majmin'>],\n",
       "       [<Axes: title={'center': 'precision'}, xlabel='majmin'>,\n",
       "        <Axes: title={'center': 'false positive rate'}, xlabel='majmin'>,\n",
       "        <Axes: title={'center': 'false negative rate'}, xlabel='majmin'>],\n",
       "       [<Axes: title={'center': 'selection rate'}, xlabel='majmin'>,\n",
       "        <Axes: title={'center': 'count'}, xlabel='majmin'>,\n",
       "        <Axes: xlabel='majmin'>]], dtype=object)"
      ]
     },
     "execution_count": 63,
     "metadata": {},
     "output_type": "execute_result"
    },
    {
     "data": {
      "image/png": "[encoded data removed]",
      "text/plain": [
       "<Figure size 1200x800 with 9 Axes>"
      ]
     },
     "metadata": {},
     "output_type": "display_data"
    }
   ],
   "source": [
    "# In a graphic\n",
    "metric_frame.by_group.plot.bar(\n",
    "    subplots=True,\n",
    "    layout=[3, 3],\n",
    "    legend=False,\n",
    "    figsize=[12, 8],\n",
    "    title=\"Show all metrics\",\n",
    ")"
   ]
  },
  {
   "cell_type": "markdown",
   "id": "f57a0bac",
   "metadata": {
    "papermill": {
     "duration": 0.013046,
     "end_time": "2025-08-05T16:12:10.669743",
     "exception": false,
     "start_time": "2025-08-05T16:12:10.656697",
     "status": "completed"
    },
    "tags": []
   },
   "source": [
    "# Final Output"
   ]
  },
  {
   "cell_type": "code",
   "execution_count": 64,
   "id": "96d280a3",
   "metadata": {
    "execution": {
     "iopub.execute_input": "2025-08-05T16:12:10.697678Z",
     "iopub.status.busy": "2025-08-05T16:12:10.697186Z",
     "iopub.status.idle": "2025-08-05T16:12:10.704155Z",
     "shell.execute_reply": "2025-08-05T16:12:10.703364Z"
    },
    "papermill": {
     "duration": 0.022276,
     "end_time": "2025-08-05T16:12:10.705328",
     "exception": false,
     "start_time": "2025-08-05T16:12:10.683052",
     "status": "completed"
    },
    "tags": []
   },
   "outputs": [
    {
     "data": {
      "text/plain": [
       "4"
      ]
     },
     "execution_count": 64,
     "metadata": {},
     "output_type": "execute_result"
    }
   ],
   "source": [
    "sub_universes = universe_analysis.generate_sub_universes()\n",
    "len(sub_universes)"
   ]
  },
  {
   "cell_type": "code",
   "execution_count": 65,
   "id": "92adf7ba",
   "metadata": {
    "execution": {
     "iopub.execute_input": "2025-08-05T16:12:10.735360Z",
     "iopub.status.busy": "2025-08-05T16:12:10.734453Z",
     "iopub.status.idle": "2025-08-05T16:12:10.746799Z",
     "shell.execute_reply": "2025-08-05T16:12:10.745753Z"
    },
    "papermill": {
     "duration": 0.030022,
     "end_time": "2025-08-05T16:12:10.748443",
     "exception": false,
     "start_time": "2025-08-05T16:12:10.718421",
     "status": "completed"
    },
    "tags": []
   },
   "outputs": [],
   "source": [
    "def filter_sub_universe_data(sub_universe, org_test):\n",
    "    # Keep all rows — no filtering\n",
    "    keep_rows_mask = np.ones(org_test.shape[0], dtype=bool)\n",
    "\n",
    "    print(f\"[INFO] Keeping all rows: {keep_rows_mask.sum()} rows retained.\")\n",
    "    return keep_rows_mask"
   ]
  },
  {
   "cell_type": "code",
   "execution_count": 66,
   "id": "4a759155",
   "metadata": {
    "execution": {
     "iopub.execute_input": "2025-08-05T16:12:10.797199Z",
     "iopub.status.busy": "2025-08-05T16:12:10.796342Z",
     "iopub.status.idle": "2025-08-05T16:12:20.254659Z",
     "shell.execute_reply": "2025-08-05T16:12:20.253230Z"
    },
    "papermill": {
     "duration": 9.484356,
     "end_time": "2025-08-05T16:12:20.256629",
     "exception": false,
     "start_time": "2025-08-05T16:12:10.772273",
     "status": "completed"
    },
    "tags": []
   },
   "outputs": [
    {
     "name": "stdout",
     "output_type": "stream",
     "text": [
      "Stopping execution_time clock.\n",
      "[INFO] Keeping all rows: 89710 rows retained.\n"
     ]
    },
    {
     "name": "stdout",
     "output_type": "stream",
     "text": [
      "[INFO] Keeping all rows: 89710 rows retained.\n"
     ]
    },
    {
     "name": "stdout",
     "output_type": "stream",
     "text": [
      "[INFO] Keeping all rows: 89710 rows retained.\n"
     ]
    },
    {
     "name": "stdout",
     "output_type": "stream",
     "text": [
      "[INFO] Keeping all rows: 89710 rows retained.\n"
     ]
    },
    {
     "data": {
      "text/html": [
       "<div>\n",
       "<style scoped>\n",
       "    .dataframe tbody tr th:only-of-type {\n",
       "        vertical-align: middle;\n",
       "    }\n",
       "\n",
       "    .dataframe tbody tr th {\n",
       "        vertical-align: top;\n",
       "    }\n",
       "\n",
       "    .dataframe thead th {\n",
       "        text-align: right;\n",
       "    }\n",
       "</style>\n",
       "<table border=\"1\" class=\"dataframe\">\n",
       "  <thead>\n",
       "    <tr style=\"text-align: right;\">\n",
       "      <th></th>\n",
       "      <th>run_no</th>\n",
       "      <th>universe_id</th>\n",
       "      <th>universe_settings</th>\n",
       "      <th>execution_time</th>\n",
       "      <th>test_size_n</th>\n",
       "      <th>test_size_frac</th>\n",
       "      <th>fair_main_equalized_odds_difference</th>\n",
       "      <th>fair_main_equalized_odds_ratio</th>\n",
       "      <th>fair_main_demographic_parity_difference</th>\n",
       "      <th>fair_main_demographic_parity_ratio</th>\n",
       "      <th>...</th>\n",
       "      <th>perf_grp_precision_0</th>\n",
       "      <th>perf_grp_precision_1</th>\n",
       "      <th>perf_grp_false positive rate_0</th>\n",
       "      <th>perf_grp_false positive rate_1</th>\n",
       "      <th>perf_grp_false negative rate_0</th>\n",
       "      <th>perf_grp_false negative rate_1</th>\n",
       "      <th>perf_grp_selection rate_0</th>\n",
       "      <th>perf_grp_selection rate_1</th>\n",
       "      <th>perf_grp_count_0</th>\n",
       "      <th>perf_grp_count_1</th>\n",
       "    </tr>\n",
       "  </thead>\n",
       "  <tbody>\n",
       "    <tr>\n",
       "      <th>0</th>\n",
       "      <td>15</td>\n",
       "      <td>0da585ab060c60c1f57114e361b24cd3</td>\n",
       "      <td>{\"cutoff\": \"quantile_0.1\", \"eval_fairness_grou...</td>\n",
       "      <td>31.385907</td>\n",
       "      <td>89710</td>\n",
       "      <td>1.0</td>\n",
       "      <td>0.094666</td>\n",
       "      <td>0.904085</td>\n",
       "      <td>0.069492</td>\n",
       "      <td>0.924356</td>\n",
       "      <td>...</td>\n",
       "      <td>NaN</td>\n",
       "      <td>NaN</td>\n",
       "      <td>NaN</td>\n",
       "      <td>NaN</td>\n",
       "      <td>NaN</td>\n",
       "      <td>NaN</td>\n",
       "      <td>NaN</td>\n",
       "      <td>NaN</td>\n",
       "      <td>NaN</td>\n",
       "      <td>NaN</td>\n",
       "    </tr>\n",
       "    <tr>\n",
       "      <th>0</th>\n",
       "      <td>15</td>\n",
       "      <td>0da585ab060c60c1f57114e361b24cd3</td>\n",
       "      <td>{\"cutoff\": \"quantile_0.1\", \"eval_fairness_grou...</td>\n",
       "      <td>31.385907</td>\n",
       "      <td>89710</td>\n",
       "      <td>1.0</td>\n",
       "      <td>0.094666</td>\n",
       "      <td>0.904085</td>\n",
       "      <td>0.069492</td>\n",
       "      <td>0.924356</td>\n",
       "      <td>...</td>\n",
       "      <td>0.121144</td>\n",
       "      <td>0.141965</td>\n",
       "      <td>0.843551</td>\n",
       "      <td>0.908263</td>\n",
       "      <td>0.107686</td>\n",
       "      <td>0.013020</td>\n",
       "      <td>0.849172</td>\n",
       "      <td>0.918664</td>\n",
       "      <td>20540.0</td>\n",
       "      <td>69170.0</td>\n",
       "    </tr>\n",
       "    <tr>\n",
       "      <th>0</th>\n",
       "      <td>15</td>\n",
       "      <td>0da585ab060c60c1f57114e361b24cd3</td>\n",
       "      <td>{\"cutoff\": \"quantile_0.25\", \"eval_fairness_gro...</td>\n",
       "      <td>31.385907</td>\n",
       "      <td>89710</td>\n",
       "      <td>1.0</td>\n",
       "      <td>0.114679</td>\n",
       "      <td>0.879605</td>\n",
       "      <td>0.069444</td>\n",
       "      <td>0.913407</td>\n",
       "      <td>...</td>\n",
       "      <td>NaN</td>\n",
       "      <td>NaN</td>\n",
       "      <td>NaN</td>\n",
       "      <td>NaN</td>\n",
       "      <td>NaN</td>\n",
       "      <td>NaN</td>\n",
       "      <td>NaN</td>\n",
       "      <td>NaN</td>\n",
       "      <td>NaN</td>\n",
       "      <td>NaN</td>\n",
       "    </tr>\n",
       "    <tr>\n",
       "      <th>0</th>\n",
       "      <td>15</td>\n",
       "      <td>0da585ab060c60c1f57114e361b24cd3</td>\n",
       "      <td>{\"cutoff\": \"quantile_0.25\", \"eval_fairness_gro...</td>\n",
       "      <td>31.385907</td>\n",
       "      <td>89710</td>\n",
       "      <td>1.0</td>\n",
       "      <td>0.114679</td>\n",
       "      <td>0.879605</td>\n",
       "      <td>0.069444</td>\n",
       "      <td>0.913407</td>\n",
       "      <td>...</td>\n",
       "      <td>0.131862</td>\n",
       "      <td>0.156944</td>\n",
       "      <td>0.718798</td>\n",
       "      <td>0.779044</td>\n",
       "      <td>0.162162</td>\n",
       "      <td>0.047484</td>\n",
       "      <td>0.732522</td>\n",
       "      <td>0.801966</td>\n",
       "      <td>20540.0</td>\n",
       "      <td>69170.0</td>\n",
       "    </tr>\n",
       "  </tbody>\n",
       "</table>\n",
       "<p>4 rows × 50 columns</p>\n",
       "</div>"
      ],
      "text/plain": [
       "  run_no                       universe_id  \\\n",
       "0     15  0da585ab060c60c1f57114e361b24cd3   \n",
       "0     15  0da585ab060c60c1f57114e361b24cd3   \n",
       "0     15  0da585ab060c60c1f57114e361b24cd3   \n",
       "0     15  0da585ab060c60c1f57114e361b24cd3   \n",
       "\n",
       "                                   universe_settings  execution_time  \\\n",
       "0  {\"cutoff\": \"quantile_0.1\", \"eval_fairness_grou...       31.385907   \n",
       "0  {\"cutoff\": \"quantile_0.1\", \"eval_fairness_grou...       31.385907   \n",
       "0  {\"cutoff\": \"quantile_0.25\", \"eval_fairness_gro...       31.385907   \n",
       "0  {\"cutoff\": \"quantile_0.25\", \"eval_fairness_gro...       31.385907   \n",
       "\n",
       "   test_size_n  test_size_frac  fair_main_equalized_odds_difference  \\\n",
       "0        89710             1.0                             0.094666   \n",
       "0        89710             1.0                             0.094666   \n",
       "0        89710             1.0                             0.114679   \n",
       "0        89710             1.0                             0.114679   \n",
       "\n",
       "   fair_main_equalized_odds_ratio  fair_main_demographic_parity_difference  \\\n",
       "0                        0.904085                                 0.069492   \n",
       "0                        0.904085                                 0.069492   \n",
       "0                        0.879605                                 0.069444   \n",
       "0                        0.879605                                 0.069444   \n",
       "\n",
       "   fair_main_demographic_parity_ratio  ...  perf_grp_precision_0  \\\n",
       "0                            0.924356  ...                   NaN   \n",
       "0                            0.924356  ...              0.121144   \n",
       "0                            0.913407  ...                   NaN   \n",
       "0                            0.913407  ...              0.131862   \n",
       "\n",
       "   perf_grp_precision_1  perf_grp_false positive rate_0  \\\n",
       "0                   NaN                             NaN   \n",
       "0              0.141965                        0.843551   \n",
       "0                   NaN                             NaN   \n",
       "0              0.156944                        0.718798   \n",
       "\n",
       "   perf_grp_false positive rate_1  perf_grp_false negative rate_0  \\\n",
       "0                             NaN                             NaN   \n",
       "0                        0.908263                        0.107686   \n",
       "0                             NaN                             NaN   \n",
       "0                        0.779044                        0.162162   \n",
       "\n",
       "   perf_grp_false negative rate_1  perf_grp_selection rate_0  \\\n",
       "0                             NaN                        NaN   \n",
       "0                        0.013020                   0.849172   \n",
       "0                             NaN                        NaN   \n",
       "0                        0.047484                   0.732522   \n",
       "\n",
       "   perf_grp_selection rate_1  perf_grp_count_0  perf_grp_count_1  \n",
       "0                        NaN               NaN               NaN  \n",
       "0                   0.918664           20540.0           69170.0  \n",
       "0                        NaN               NaN               NaN  \n",
       "0                   0.801966           20540.0           69170.0  \n",
       "\n",
       "[4 rows x 50 columns]"
      ]
     },
     "execution_count": 66,
     "metadata": {},
     "output_type": "execute_result"
    }
   ],
   "source": [
    "final_output = universe_analysis.generate_final_output(\n",
    "    y_pred_prob=probs_test,\n",
    "    y_test=y_true,\n",
    "    org_test=org_test,\n",
    "    filter_data=filter_sub_universe_data,\n",
    "    cp_metrics_df=cp_metrics_df,\n",
    "    save=True,\n",
    ")\n",
    "final_output"
   ]
  }
 ],
 "metadata": {
  "celltoolbar": "Tags",
  "kernelspec": {
   "display_name": "Python (CMA Fairness)",
   "language": "python",
   "name": "cma_fair_env"
  },
  "language_info": {
   "codemirror_mode": {
    "name": "ipython",
    "version": 3
   },
   "file_extension": ".py",
   "mimetype": "text/x-python",
   "name": "python",
   "nbconvert_exporter": "python",
   "pygments_lexer": "ipython3",
   "version": "3.10.12"
  },
  "papermill": {
   "default_parameters": {},
   "duration": 45.061583,
   "end_time": "2025-08-05T16:12:21.213532",
   "environment_variables": {},
   "exception": null,
   "input_path": "universe_analysis.ipynb",
   "output_path": "output/runs/15/notebooks/m_15-0da585ab060c60c1f57114e361b24cd3.ipynb",
   "parameters": {
    "output_dir": "output",
    "run_no": "15",
    "seed": "2023",
    "universe": "{\"cutoff\": [\"quantile_0.1\", \"quantile_0.25\"], \"eval_fairness_grouping\": [\"majority-minority\", \"nationality-all\"], \"exclude_features\": \"nationality-sex\", \"exclude_subgroups\": \"keep-all\", \"model\": \"rf\", \"scale\": \"do-not-scale\", \"training_size\": \"1k\", \"training_year\": \"2014\"}",
    "universe_id": "0da585ab060c60c1f57114e361b24cd3"
   },
   "start_time": "2025-08-05T16:11:36.151949",
   "version": "2.6.0"
  }
 },
 "nbformat": 4,
 "nbformat_minor": 5
}