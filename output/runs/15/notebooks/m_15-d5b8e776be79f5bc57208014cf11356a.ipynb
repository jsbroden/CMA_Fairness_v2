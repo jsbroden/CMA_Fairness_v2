{
 "cells": [
  {
   "cell_type": "code",
   "execution_count": 1,
   "id": "f159f837-637b-42ba-96b5-ec9a68c44524",
   "metadata": {
    "execution": {
     "iopub.execute_input": "2025-08-05T16:19:24.582226Z",
     "iopub.status.busy": "2025-08-05T16:19:24.581633Z",
     "iopub.status.idle": "2025-08-05T16:19:24.600210Z",
     "shell.execute_reply": "2025-08-05T16:19:24.599108Z"
    },
    "papermill": {
     "duration": 0.048383,
     "end_time": "2025-08-05T16:19:24.602226",
     "exception": false,
     "start_time": "2025-08-05T16:19:24.553843",
     "status": "completed"
    },
    "tags": []
   },
   "outputs": [
    {
     "name": "stdout",
     "output_type": "stream",
     "text": [
      "/dss/dsshome1/0C/ra93lal2/cma/CMA_Fairness_v2\n"
     ]
    },
    {
     "name": "stderr",
     "output_type": "stream",
     "text": [
      "/dss/dsshome1/0C/ra93lal2/.local/share/virtualenvs/CMA_Fairness_v2-3j10GkSs/lib/python3.10/site-packages/IPython/core/magics/osm.py:393: UserWarning: This is now an optional IPython functionality, using bookmarks requires you to install the `pickleshare` library.\n",
      "  bkms = self.shell.db.get('bookmarks', {})\n",
      "/dss/dsshome1/0C/ra93lal2/.local/share/virtualenvs/CMA_Fairness_v2-3j10GkSs/lib/python3.10/site-packages/IPython/core/magics/osm.py:417: UserWarning: This is now an optional IPython functionality, setting dhist requires you to install the `pickleshare` library.\n",
      "  self.shell.db['dhist'] = compress_dhist(dhist)[-100:]\n"
     ]
    }
   ],
   "source": [
    "%cd ~/cma/CMA_Fairness_v2"
   ]
  },
  {
   "cell_type": "markdown",
   "id": "de2603b9",
   "metadata": {
    "papermill": {
     "duration": 0.092127,
     "end_time": "2025-08-05T16:19:24.714265",
     "exception": false,
     "start_time": "2025-08-05T16:19:24.622138",
     "status": "completed"
    },
    "tags": []
   },
   "source": [
    "The following cell holds the definition of our parameters, these values can be overriden by rendering the with e.g. the following command:\n",
    "\n",
    "papermill -p alpha 0.2 -p ratio 0.3 universe_analysis.ipynb output/test_run.ipynb"
   ]
  },
  {
   "cell_type": "code",
   "execution_count": 2,
   "id": "a80968a0-40bb-4fa9-85ef-2d5eefb01975",
   "metadata": {
    "execution": {
     "iopub.execute_input": "2025-08-05T16:19:24.767978Z",
     "iopub.status.busy": "2025-08-05T16:19:24.767424Z",
     "iopub.status.idle": "2025-08-05T16:19:24.774290Z",
     "shell.execute_reply": "2025-08-05T16:19:24.773022Z"
    },
    "papermill": {
     "duration": 0.034016,
     "end_time": "2025-08-05T16:19:24.776650",
     "exception": false,
     "start_time": "2025-08-05T16:19:24.742634",
     "status": "completed"
    },
    "tags": []
   },
   "outputs": [
    {
     "name": "stdout",
     "output_type": "stream",
     "text": [
      "Current working directory: /dss/dsshome1/0C/ra93lal2/cma/CMA_Fairness_v2\n"
     ]
    }
   ],
   "source": [
    "import os\n",
    "print(\"Current working directory:\", os.getcwd())"
   ]
  },
  {
   "cell_type": "code",
   "execution_count": 3,
   "id": "2dce4c03",
   "metadata": {
    "execution": {
     "iopub.execute_input": "2025-08-05T16:19:24.832877Z",
     "iopub.status.busy": "2025-08-05T16:19:24.832336Z",
     "iopub.status.idle": "2025-08-05T16:19:24.840864Z",
     "shell.execute_reply": "2025-08-05T16:19:24.839634Z"
    },
    "papermill": {
     "duration": 0.039188,
     "end_time": "2025-08-05T16:19:24.842796",
     "exception": false,
     "start_time": "2025-08-05T16:19:24.803608",
     "status": "completed"
    },
    "tags": [
     "parameters"
    ]
   },
   "outputs": [],
   "source": [
    "run_no = 0\n",
    "universe_id = \"test\"\n",
    "universe = {\n",
    "    \"training_size\": \"25k\", # \"25k\", \"5k\", \"1k\"\n",
    "    \"training_year\": \"2014\", # \"2014\", \"2012_14\", \"2010_14\"\n",
    "    \"scale\": \"scale\", # \"scale\", \"do-not-scale\",\n",
    "    \"model\": \"elasticnet\", # \"logreg\", \"penalized_logreg\", \"rf\", \"gbm\", \"elasticnet\"\n",
    "    \"cutoff\": [\"quantile_0.15\", \"quantile_0.30\"],\n",
    "    \"exclude_features\": \"age\", # \"none\", \"nationality\", \"sex\", \"nationality-sex\", \"age\"\n",
    "    \"exclude_subgroups\": \"keep-all\", # \"keep-all\", \"drop-non-german\"\n",
    "    \"eval_fairness_grouping\": [\"majority-minority\", \"nationality-all\"]\n",
    "}\n",
    "\n",
    "output_dir=\"./output\"\n",
    "seed=0"
   ]
  },
  {
   "cell_type": "code",
   "execution_count": 4,
   "id": "0fdc82c3",
   "metadata": {
    "execution": {
     "iopub.execute_input": "2025-08-05T16:19:24.888739Z",
     "iopub.status.busy": "2025-08-05T16:19:24.887663Z",
     "iopub.status.idle": "2025-08-05T16:19:24.896030Z",
     "shell.execute_reply": "2025-08-05T16:19:24.894788Z"
    },
    "papermill": {
     "duration": 0.035391,
     "end_time": "2025-08-05T16:19:24.898234",
     "exception": false,
     "start_time": "2025-08-05T16:19:24.862843",
     "status": "completed"
    },
    "tags": [
     "injected-parameters"
    ]
   },
   "outputs": [],
   "source": [
    "# Parameters\n",
    "universe_id = \"d5b8e776be79f5bc57208014cf11356a\"\n",
    "run_no = \"15\"\n",
    "universe = \"{\\\"cutoff\\\": [\\\"quantile_0.1\\\", \\\"quantile_0.25\\\"], \\\"eval_fairness_grouping\\\": [\\\"majority-minority\\\", \\\"nationality-all\\\"], \\\"exclude_features\\\": \\\"nationality-sex\\\", \\\"exclude_subgroups\\\": \\\"keep-all\\\", \\\"model\\\": \\\"rf\\\", \\\"scale\\\": \\\"scale\\\", \\\"training_size\\\": \\\"1k\\\", \\\"training_year\\\": \\\"2012_14\\\"}\"\n",
    "output_dir = \"output\"\n",
    "seed = \"2023\"\n"
   ]
  },
  {
   "cell_type": "code",
   "execution_count": 5,
   "id": "1650acaf",
   "metadata": {
    "execution": {
     "iopub.execute_input": "2025-08-05T16:19:24.939148Z",
     "iopub.status.busy": "2025-08-05T16:19:24.938569Z",
     "iopub.status.idle": "2025-08-05T16:19:24.944032Z",
     "shell.execute_reply": "2025-08-05T16:19:24.943171Z"
    },
    "papermill": {
     "duration": 0.023524,
     "end_time": "2025-08-05T16:19:24.945496",
     "exception": false,
     "start_time": "2025-08-05T16:19:24.921972",
     "status": "completed"
    },
    "tags": []
   },
   "outputs": [],
   "source": [
    "import json\n",
    "if isinstance(universe, str):\n",
    "    universe = json.loads(universe)"
   ]
  },
  {
   "cell_type": "code",
   "execution_count": 6,
   "id": "16620c48",
   "metadata": {
    "execution": {
     "iopub.execute_input": "2025-08-05T16:19:24.982157Z",
     "iopub.status.busy": "2025-08-05T16:19:24.981650Z",
     "iopub.status.idle": "2025-08-05T16:19:25.035670Z",
     "shell.execute_reply": "2025-08-05T16:19:25.034470Z"
    },
    "papermill": {
     "duration": 0.079365,
     "end_time": "2025-08-05T16:19:25.037985",
     "exception": false,
     "start_time": "2025-08-05T16:19:24.958620",
     "status": "completed"
    },
    "tags": []
   },
   "outputs": [],
   "source": [
    "# Auto-reload the custom package\n",
    "%load_ext autoreload\n",
    "%autoreload 1\n",
    "%aimport fairness_multiverse"
   ]
  },
  {
   "cell_type": "code",
   "execution_count": 7,
   "id": "01c5c9f3",
   "metadata": {
    "execution": {
     "iopub.execute_input": "2025-08-05T16:19:25.069754Z",
     "iopub.status.busy": "2025-08-05T16:19:25.069182Z",
     "iopub.status.idle": "2025-08-05T16:19:27.267821Z",
     "shell.execute_reply": "2025-08-05T16:19:27.266467Z"
    },
    "papermill": {
     "duration": 2.213761,
     "end_time": "2025-08-05T16:19:27.270336",
     "exception": false,
     "start_time": "2025-08-05T16:19:25.056575",
     "status": "completed"
    },
    "tags": []
   },
   "outputs": [],
   "source": [
    "from fairness_multiverse.universe import UniverseAnalysis\n",
    "\n",
    "universe_analysis = UniverseAnalysis(\n",
    "    run_no = run_no,\n",
    "    universe_id = universe_id,\n",
    "    universe = universe,\n",
    "    output_dir=output_dir,\n",
    ")"
   ]
  },
  {
   "cell_type": "code",
   "execution_count": 8,
   "id": "106241f5",
   "metadata": {
    "execution": {
     "iopub.execute_input": "2025-08-05T16:19:27.324679Z",
     "iopub.status.busy": "2025-08-05T16:19:27.324005Z",
     "iopub.status.idle": "2025-08-05T16:19:27.331880Z",
     "shell.execute_reply": "2025-08-05T16:19:27.330723Z"
    },
    "papermill": {
     "duration": 0.035759,
     "end_time": "2025-08-05T16:19:27.333788",
     "exception": false,
     "start_time": "2025-08-05T16:19:27.298029",
     "status": "completed"
    },
    "tags": []
   },
   "outputs": [
    {
     "name": "stdout",
     "output_type": "stream",
     "text": [
      "Using Seed: 2023\n"
     ]
    }
   ],
   "source": [
    "import numpy as np\n",
    "parsed_seed = int(seed)\n",
    "np.random.seed(parsed_seed)\n",
    "print(f\"Using Seed: {parsed_seed}\")"
   ]
  },
  {
   "cell_type": "markdown",
   "id": "e0ebdc57",
   "metadata": {
    "papermill": {
     "duration": 0.025383,
     "end_time": "2025-08-05T16:19:27.384723",
     "exception": false,
     "start_time": "2025-08-05T16:19:27.359340",
     "status": "completed"
    },
    "tags": []
   },
   "source": [
    "# Loading Data"
   ]
  },
  {
   "cell_type": "code",
   "execution_count": 9,
   "id": "f0496b8a",
   "metadata": {
    "execution": {
     "iopub.execute_input": "2025-08-05T16:19:27.436669Z",
     "iopub.status.busy": "2025-08-05T16:19:27.436131Z",
     "iopub.status.idle": "2025-08-05T16:19:41.575694Z",
     "shell.execute_reply": "2025-08-05T16:19:41.574465Z"
    },
    "papermill": {
     "duration": 14.168201,
     "end_time": "2025-08-05T16:19:41.577550",
     "exception": false,
     "start_time": "2025-08-05T16:19:27.409349",
     "status": "completed"
    },
    "tags": []
   },
   "outputs": [
    {
     "name": "stdout",
     "output_type": "stream",
     "text": [
      "Loading SIAB data from cache: data/siab_cached.csv.gz\n"
     ]
    },
    {
     "name": "stdout",
     "output_type": "stream",
     "text": [
      "(643690, 164)\n"
     ]
    }
   ],
   "source": [
    "from pathlib import Path\n",
    "import pandas as pd\n",
    "\n",
    "# File paths\n",
    "raw_file = Path(\"data/raw/siab.csv\")\n",
    "cache_file = Path(\"data/siab_cached.csv.gz\")\n",
    "\n",
    "# Ensure cache directory exists\n",
    "cache_file.parent.mkdir(parents=True, exist_ok=True)\n",
    "\n",
    "# Load with simple caching\n",
    "if cache_file.exists():\n",
    "    print(f\"Loading SIAB data from cache: {cache_file}\")\n",
    "    siab = pd.read_csv(cache_file, compression='gzip')\n",
    "else:\n",
    "    print(f\"Cache not found. Reading raw SIAB data: {raw_file}\")\n",
    "    siab = pd.read_csv(raw_file)\n",
    "    siab.to_csv(cache_file, index=False, compression='gzip')\n",
    "    print(f\"Cached SIAB data to: {cache_file}\")\n",
    "\n",
    "print(siab.shape)"
   ]
  },
  {
   "cell_type": "code",
   "execution_count": 10,
   "id": "db0ca512-5f53-4dba-abdb-a2888bca41ba",
   "metadata": {
    "execution": {
     "iopub.execute_input": "2025-08-05T16:19:41.622834Z",
     "iopub.status.busy": "2025-08-05T16:19:41.622312Z",
     "iopub.status.idle": "2025-08-05T16:19:41.628812Z",
     "shell.execute_reply": "2025-08-05T16:19:41.627665Z"
    },
    "papermill": {
     "duration": 0.029444,
     "end_time": "2025-08-05T16:19:41.630970",
     "exception": false,
     "start_time": "2025-08-05T16:19:41.601526",
     "status": "completed"
    },
    "tags": []
   },
   "outputs": [],
   "source": [
    "#siab"
   ]
  },
  {
   "cell_type": "markdown",
   "id": "997051c5-15bd-4b69-9786-c3001a3ce484",
   "metadata": {
    "papermill": {
     "duration": 0.017062,
     "end_time": "2025-08-05T16:19:41.666788",
     "exception": false,
     "start_time": "2025-08-05T16:19:41.649726",
     "status": "completed"
    },
    "tags": []
   },
   "source": [
    "# Splitting Data and Setting Training Data Size"
   ]
  },
  {
   "cell_type": "code",
   "execution_count": 11,
   "id": "aea9c6ef-6f46-42c8-85eb-5a62025c1508",
   "metadata": {
    "execution": {
     "iopub.execute_input": "2025-08-05T16:19:41.703200Z",
     "iopub.status.busy": "2025-08-05T16:19:41.702079Z",
     "iopub.status.idle": "2025-08-05T16:19:42.322683Z",
     "shell.execute_reply": "2025-08-05T16:19:42.321676Z"
    },
    "papermill": {
     "duration": 0.64087,
     "end_time": "2025-08-05T16:19:42.324584",
     "exception": false,
     "start_time": "2025-08-05T16:19:41.683714",
     "status": "completed"
    },
    "tags": []
   },
   "outputs": [],
   "source": [
    "from fairness_multiverse.universe import sample_by_year_size\n",
    "\n",
    "siab_train = sample_by_year_size(siab,\n",
    "                               training_year=universe[\"training_year\"],\n",
    "                               training_size=universe[\"training_size\"])"
   ]
  },
  {
   "cell_type": "code",
   "execution_count": 12,
   "id": "8d3afb32-789d-442c-8d5d-9f5aa8dd2eed",
   "metadata": {
    "execution": {
     "iopub.execute_input": "2025-08-05T16:19:42.360962Z",
     "iopub.status.busy": "2025-08-05T16:19:42.360473Z",
     "iopub.status.idle": "2025-08-05T16:19:42.366049Z",
     "shell.execute_reply": "2025-08-05T16:19:42.364942Z"
    },
    "papermill": {
     "duration": 0.025808,
     "end_time": "2025-08-05T16:19:42.368000",
     "exception": false,
     "start_time": "2025-08-05T16:19:42.342192",
     "status": "completed"
    },
    "tags": []
   },
   "outputs": [],
   "source": [
    "#siab_train.shape"
   ]
  },
  {
   "cell_type": "code",
   "execution_count": 13,
   "id": "d582db68-1a4c-47fb-84fc-08518dc1975a",
   "metadata": {
    "execution": {
     "iopub.execute_input": "2025-08-05T16:19:42.404619Z",
     "iopub.status.busy": "2025-08-05T16:19:42.404022Z",
     "iopub.status.idle": "2025-08-05T16:19:42.409252Z",
     "shell.execute_reply": "2025-08-05T16:19:42.408168Z"
    },
    "papermill": {
     "duration": 0.025192,
     "end_time": "2025-08-05T16:19:42.411186",
     "exception": false,
     "start_time": "2025-08-05T16:19:42.385994",
     "status": "completed"
    },
    "tags": []
   },
   "outputs": [],
   "source": [
    "#display(siab_train.groupby(\"year\").size())"
   ]
  },
  {
   "cell_type": "code",
   "execution_count": 14,
   "id": "a561edb4-d032-42cb-8256-22eac1111c64",
   "metadata": {
    "execution": {
     "iopub.execute_input": "2025-08-05T16:19:42.457045Z",
     "iopub.status.busy": "2025-08-05T16:19:42.456233Z",
     "iopub.status.idle": "2025-08-05T16:19:42.702612Z",
     "shell.execute_reply": "2025-08-05T16:19:42.701522Z"
    },
    "papermill": {
     "duration": 0.274989,
     "end_time": "2025-08-05T16:19:42.704433",
     "exception": false,
     "start_time": "2025-08-05T16:19:42.429444",
     "status": "completed"
    },
    "tags": []
   },
   "outputs": [],
   "source": [
    "#siab_train = siab_s[siab_s.year < 2015]\n",
    "siab_calib = siab[siab.year == 2015]\n",
    "siab_test = siab[siab.year == 2016]"
   ]
  },
  {
   "cell_type": "code",
   "execution_count": 15,
   "id": "472de16f-c3db-4916-846b-1f0de9cf1746",
   "metadata": {
    "execution": {
     "iopub.execute_input": "2025-08-05T16:19:42.740877Z",
     "iopub.status.busy": "2025-08-05T16:19:42.740392Z",
     "iopub.status.idle": "2025-08-05T16:19:42.746928Z",
     "shell.execute_reply": "2025-08-05T16:19:42.745858Z"
    },
    "papermill": {
     "duration": 0.026959,
     "end_time": "2025-08-05T16:19:42.748868",
     "exception": false,
     "start_time": "2025-08-05T16:19:42.721909",
     "status": "completed"
    },
    "tags": []
   },
   "outputs": [],
   "source": [
    "X_train = siab_train.iloc[:,4:164]\n",
    "y_train = siab_train.iloc[:, [3]]"
   ]
  },
  {
   "cell_type": "code",
   "execution_count": 16,
   "id": "828c96af-f43a-4ed6-ba47-8ac73a47d56c",
   "metadata": {
    "execution": {
     "iopub.execute_input": "2025-08-05T16:19:42.785920Z",
     "iopub.status.busy": "2025-08-05T16:19:42.785375Z",
     "iopub.status.idle": "2025-08-05T16:19:42.840969Z",
     "shell.execute_reply": "2025-08-05T16:19:42.839751Z"
    },
    "papermill": {
     "duration": 0.076674,
     "end_time": "2025-08-05T16:19:42.842955",
     "exception": false,
     "start_time": "2025-08-05T16:19:42.766281",
     "status": "completed"
    },
    "tags": []
   },
   "outputs": [],
   "source": [
    "X_calib = siab_calib.iloc[:,4:164]\n",
    "y_calib = siab_calib.iloc[:, [3]]"
   ]
  },
  {
   "cell_type": "code",
   "execution_count": 17,
   "id": "c34be9c3-6bd6-476e-acd3-845840e303be",
   "metadata": {
    "execution": {
     "iopub.execute_input": "2025-08-05T16:19:42.878022Z",
     "iopub.status.busy": "2025-08-05T16:19:42.877439Z",
     "iopub.status.idle": "2025-08-05T16:19:42.928373Z",
     "shell.execute_reply": "2025-08-05T16:19:42.927062Z"
    },
    "papermill": {
     "duration": 0.06999,
     "end_time": "2025-08-05T16:19:42.930417",
     "exception": false,
     "start_time": "2025-08-05T16:19:42.860427",
     "status": "completed"
    },
    "tags": []
   },
   "outputs": [],
   "source": [
    "X_test = siab_test.iloc[:,4:164]\n",
    "y_true = siab_test.iloc[:, [3]]"
   ]
  },
  {
   "cell_type": "code",
   "execution_count": 18,
   "id": "e6c733c5",
   "metadata": {
    "execution": {
     "iopub.execute_input": "2025-08-05T16:19:42.968419Z",
     "iopub.status.busy": "2025-08-05T16:19:42.967728Z",
     "iopub.status.idle": "2025-08-05T16:19:43.071799Z",
     "shell.execute_reply": "2025-08-05T16:19:43.070718Z"
    },
    "papermill": {
     "duration": 0.124988,
     "end_time": "2025-08-05T16:19:43.073712",
     "exception": false,
     "start_time": "2025-08-05T16:19:42.948724",
     "status": "completed"
    },
    "tags": []
   },
   "outputs": [],
   "source": [
    "# Auxiliary data needed downstream in the pipeline\n",
    "\n",
    "org_train = X_train.copy()\n",
    "org_test = X_test.copy()\n",
    "org_calib = X_calib.copy()"
   ]
  },
  {
   "cell_type": "markdown",
   "id": "0a4a1b33",
   "metadata": {
    "papermill": {
     "duration": 0.01706,
     "end_time": "2025-08-05T16:19:43.109204",
     "exception": false,
     "start_time": "2025-08-05T16:19:43.092144",
     "status": "completed"
    },
    "tags": []
   },
   "source": [
    "# Preprocessing Data"
   ]
  },
  {
   "cell_type": "code",
   "execution_count": 19,
   "id": "ca879031",
   "metadata": {
    "execution": {
     "iopub.execute_input": "2025-08-05T16:19:43.147065Z",
     "iopub.status.busy": "2025-08-05T16:19:43.146531Z",
     "iopub.status.idle": "2025-08-05T16:19:43.154375Z",
     "shell.execute_reply": "2025-08-05T16:19:43.153070Z"
    },
    "papermill": {
     "duration": 0.030792,
     "end_time": "2025-08-05T16:19:43.156600",
     "exception": false,
     "start_time": "2025-08-05T16:19:43.125808",
     "status": "completed"
    },
    "tags": []
   },
   "outputs": [],
   "source": [
    "# EXCLUDE PROTECTED FEATURES\n",
    "# ----------------------\n",
    "# \"exclude_features\": \"none\", # \"nationality\", \"sex\", \"nationality-sex\"\n",
    "\n",
    "excluded_features = universe[\"exclude_features\"].split(\"-\") # split, e.g.: \"nationality-sex\" -> [\"nationality\", \"sex\"]\n",
    "excluded_features_dictionary = {\n",
    "    \"nationality\": [\"maxdeutsch1\", \"maxdeutsch.Missing.\"],\n",
    "    \"sex\": [\"frau1\"],\n",
    "    \"age\": [\"age\"],\n",
    "}"
   ]
  },
  {
   "cell_type": "code",
   "execution_count": 20,
   "id": "b745ac60",
   "metadata": {
    "execution": {
     "iopub.execute_input": "2025-08-05T16:19:43.195864Z",
     "iopub.status.busy": "2025-08-05T16:19:43.195264Z",
     "iopub.status.idle": "2025-08-05T16:19:43.202502Z",
     "shell.execute_reply": "2025-08-05T16:19:43.201397Z"
    },
    "papermill": {
     "duration": 0.028776,
     "end_time": "2025-08-05T16:19:43.204555",
     "exception": false,
     "start_time": "2025-08-05T16:19:43.175779",
     "status": "completed"
    },
    "tags": []
   },
   "outputs": [],
   "source": [
    "# Code nice names to column names\n",
    "\n",
    "excluded_features_columns = [\n",
    "    excluded_features_dictionary[f] for f in excluded_features if len(f) > 0 and f != \"none\"\n",
    "]"
   ]
  },
  {
   "cell_type": "code",
   "execution_count": 21,
   "id": "f84f73a2",
   "metadata": {
    "execution": {
     "iopub.execute_input": "2025-08-05T16:19:43.247884Z",
     "iopub.status.busy": "2025-08-05T16:19:43.246718Z",
     "iopub.status.idle": "2025-08-05T16:19:43.255836Z",
     "shell.execute_reply": "2025-08-05T16:19:43.254644Z"
    },
    "papermill": {
     "duration": 0.033923,
     "end_time": "2025-08-05T16:19:43.258023",
     "exception": false,
     "start_time": "2025-08-05T16:19:43.224100",
     "status": "completed"
    },
    "tags": []
   },
   "outputs": [],
   "source": [
    "from utils import flatten_once\n",
    "\n",
    "excluded_features_columns = flatten_once(excluded_features_columns)"
   ]
  },
  {
   "cell_type": "code",
   "execution_count": 22,
   "id": "884dea22",
   "metadata": {
    "execution": {
     "iopub.execute_input": "2025-08-05T16:19:43.307369Z",
     "iopub.status.busy": "2025-08-05T16:19:43.306270Z",
     "iopub.status.idle": "2025-08-05T16:19:43.315886Z",
     "shell.execute_reply": "2025-08-05T16:19:43.314473Z"
    },
    "papermill": {
     "duration": 0.035345,
     "end_time": "2025-08-05T16:19:43.318294",
     "exception": false,
     "start_time": "2025-08-05T16:19:43.282949",
     "status": "completed"
    },
    "tags": []
   },
   "outputs": [
    {
     "name": "stdout",
     "output_type": "stream",
     "text": [
      "Dropping features: ['maxdeutsch1', 'maxdeutsch.Missing.', 'frau1']\n"
     ]
    }
   ],
   "source": [
    "if len(excluded_features_columns) > 0:\n",
    "    print(f\"Dropping features: {excluded_features_columns}\")\n",
    "    X_train.drop(excluded_features_columns, axis=1, inplace=True)"
   ]
  },
  {
   "cell_type": "code",
   "execution_count": 23,
   "id": "95ab8b16",
   "metadata": {
    "execution": {
     "iopub.execute_input": "2025-08-05T16:19:43.383276Z",
     "iopub.status.busy": "2025-08-05T16:19:43.382384Z",
     "iopub.status.idle": "2025-08-05T16:19:43.459458Z",
     "shell.execute_reply": "2025-08-05T16:19:43.458207Z"
    },
    "papermill": {
     "duration": 0.111772,
     "end_time": "2025-08-05T16:19:43.461506",
     "exception": false,
     "start_time": "2025-08-05T16:19:43.349734",
     "status": "completed"
    },
    "tags": []
   },
   "outputs": [
    {
     "name": "stdout",
     "output_type": "stream",
     "text": [
      "Dropping features: ['maxdeutsch1', 'maxdeutsch.Missing.', 'frau1']\n"
     ]
    }
   ],
   "source": [
    "if len(excluded_features_columns) > 0:\n",
    "    print(f\"Dropping features: {excluded_features_columns}\")\n",
    "    X_test.drop(excluded_features_columns, axis=1, inplace=True)"
   ]
  },
  {
   "cell_type": "code",
   "execution_count": 24,
   "id": "1853aaf5-fb9f-46cb-a2b5-8ea4ae2237e4",
   "metadata": {
    "execution": {
     "iopub.execute_input": "2025-08-05T16:19:43.508096Z",
     "iopub.status.busy": "2025-08-05T16:19:43.506986Z",
     "iopub.status.idle": "2025-08-05T16:19:43.563254Z",
     "shell.execute_reply": "2025-08-05T16:19:43.562152Z"
    },
    "papermill": {
     "duration": 0.082106,
     "end_time": "2025-08-05T16:19:43.565836",
     "exception": false,
     "start_time": "2025-08-05T16:19:43.483730",
     "status": "completed"
    },
    "tags": []
   },
   "outputs": [
    {
     "name": "stdout",
     "output_type": "stream",
     "text": [
      "Dropping features: ['maxdeutsch1', 'maxdeutsch.Missing.', 'frau1']"
     ]
    },
    {
     "name": "stdout",
     "output_type": "stream",
     "text": [
      "\n"
     ]
    }
   ],
   "source": [
    "if len(excluded_features_columns) > 0:\n",
    "    print(f\"Dropping features: {excluded_features_columns}\")\n",
    "    X_calib.drop(excluded_features_columns, axis=1, inplace=True)"
   ]
  },
  {
   "cell_type": "code",
   "execution_count": 25,
   "id": "76c4dc6d",
   "metadata": {
    "execution": {
     "iopub.execute_input": "2025-08-05T16:19:43.632081Z",
     "iopub.status.busy": "2025-08-05T16:19:43.631067Z",
     "iopub.status.idle": "2025-08-05T16:19:43.638846Z",
     "shell.execute_reply": "2025-08-05T16:19:43.637445Z"
    },
    "papermill": {
     "duration": 0.043188,
     "end_time": "2025-08-05T16:19:43.640955",
     "exception": false,
     "start_time": "2025-08-05T16:19:43.597767",
     "status": "completed"
    },
    "tags": []
   },
   "outputs": [],
   "source": [
    "# EXCLUDE CERTAIN SUBGROUPS\n",
    "# ----------------------\n",
    "\n",
    "mode = universe.get(\"exclude_subgroups\", \"keep-all\") \n",
    "# Fetches the exclude_subgroups setting from the universe dict.\n",
    "# Defaults to \"keep-all\" if the key is missing."
   ]
  },
  {
   "cell_type": "code",
   "execution_count": 26,
   "id": "21994072",
   "metadata": {
    "execution": {
     "iopub.execute_input": "2025-08-05T16:19:43.690246Z",
     "iopub.status.busy": "2025-08-05T16:19:43.689120Z",
     "iopub.status.idle": "2025-08-05T16:19:43.697342Z",
     "shell.execute_reply": "2025-08-05T16:19:43.696122Z"
    },
    "papermill": {
     "duration": 0.035105,
     "end_time": "2025-08-05T16:19:43.699908",
     "exception": false,
     "start_time": "2025-08-05T16:19:43.664803",
     "status": "completed"
    },
    "tags": []
   },
   "outputs": [],
   "source": [
    "if mode == \"keep-all\":\n",
    "    keep_mask = pd.Series(True, index=org_train.index)\n",
    "\n",
    "# org_train contains the original feature columns from features_org (in Simson)\n",
    "# features_org contains unprocessed features, for me X_train at beginning ???\n",
    "# For keep-all, creates a boolean Series (keep_mask) of all True, so no rows are removed.\n",
    "\n",
    "elif mode == \"drop-non-german\":\n",
    "    keep_mask = org_train[\"maxdeutsch1\"] == 1 # ??? what about missing values?\n",
    "\n",
    "else:\n",
    "    raise ValueError(f\"Unsupported mode for exclude_subgroups: {mode}\")"
   ]
  },
  {
   "cell_type": "code",
   "execution_count": 27,
   "id": "71651440",
   "metadata": {
    "execution": {
     "iopub.execute_input": "2025-08-05T16:19:43.772626Z",
     "iopub.status.busy": "2025-08-05T16:19:43.772164Z",
     "iopub.status.idle": "2025-08-05T16:19:43.780411Z",
     "shell.execute_reply": "2025-08-05T16:19:43.779169Z"
    },
    "papermill": {
     "duration": 0.049392,
     "end_time": "2025-08-05T16:19:43.783118",
     "exception": false,
     "start_time": "2025-08-05T16:19:43.733726",
     "status": "completed"
    },
    "tags": []
   },
   "outputs": [],
   "source": [
    "n_drop = (~keep_mask).sum() # Calculates how many rows are set to be dropped\n",
    "if n_drop > 0:\n",
    "    pct = n_drop / len(keep_mask) * 100\n",
    "    print(f\"Dropping {n_drop} rows ({pct:.2f}%) where mode='{mode}'\")"
   ]
  },
  {
   "cell_type": "code",
   "execution_count": 28,
   "id": "5fb8eee5",
   "metadata": {
    "execution": {
     "iopub.execute_input": "2025-08-05T16:19:43.861336Z",
     "iopub.status.busy": "2025-08-05T16:19:43.860882Z",
     "iopub.status.idle": "2025-08-05T16:19:43.868677Z",
     "shell.execute_reply": "2025-08-05T16:19:43.867437Z"
    },
    "papermill": {
     "duration": 0.049609,
     "end_time": "2025-08-05T16:19:43.871331",
     "exception": false,
     "start_time": "2025-08-05T16:19:43.821722",
     "status": "completed"
    },
    "tags": []
   },
   "outputs": [],
   "source": [
    "X_train = X_train[keep_mask]"
   ]
  },
  {
   "cell_type": "code",
   "execution_count": 29,
   "id": "b202bb3a",
   "metadata": {
    "execution": {
     "iopub.execute_input": "2025-08-05T16:19:43.948334Z",
     "iopub.status.busy": "2025-08-05T16:19:43.947871Z",
     "iopub.status.idle": "2025-08-05T16:19:43.954890Z",
     "shell.execute_reply": "2025-08-05T16:19:43.953735Z"
    },
    "papermill": {
     "duration": 0.048815,
     "end_time": "2025-08-05T16:19:43.957607",
     "exception": false,
     "start_time": "2025-08-05T16:19:43.908792",
     "status": "completed"
    },
    "tags": []
   },
   "outputs": [],
   "source": [
    "y_train = y_train[keep_mask]"
   ]
  },
  {
   "cell_type": "markdown",
   "id": "493e2ac3",
   "metadata": {
    "papermill": {
     "duration": 0.037229,
     "end_time": "2025-08-05T16:19:44.032592",
     "exception": false,
     "start_time": "2025-08-05T16:19:43.995363",
     "status": "completed"
    },
    "tags": []
   },
   "source": [
    "# Model Training"
   ]
  },
  {
   "cell_type": "code",
   "execution_count": 30,
   "id": "679e1268",
   "metadata": {
    "execution": {
     "iopub.execute_input": "2025-08-05T16:19:44.107989Z",
     "iopub.status.busy": "2025-08-05T16:19:44.107539Z",
     "iopub.status.idle": "2025-08-05T16:19:44.258550Z",
     "shell.execute_reply": "2025-08-05T16:19:44.257137Z"
    },
    "papermill": {
     "duration": 0.192463,
     "end_time": "2025-08-05T16:19:44.261614",
     "exception": false,
     "start_time": "2025-08-05T16:19:44.069151",
     "status": "completed"
    },
    "tags": []
   },
   "outputs": [],
   "source": [
    "from sklearn.linear_model import LogisticRegression\n",
    "from sklearn.ensemble import GradientBoostingClassifier, RandomForestClassifier\n",
    "\n",
    "if (universe[\"model\"] == \"logreg\"):\n",
    "    model = LogisticRegression() #penalty=\"none\", solver=\"newton-cg\", max_iter=1) # include random_state=19 ?\n",
    "elif (universe[\"model\"] == \"penalized_logreg\"):\n",
    "    model = LogisticRegression(penalty=\"l2\", C=0.1) #, solver=\"newton-cg\", max_iter=1)\n",
    "elif (universe[\"model\"] == \"rf\"):\n",
    "    model = RandomForestClassifier() # n_estimators=100, n_jobs=-1\n",
    "elif (universe[\"model\"] == \"gbm\"):\n",
    "    model = GradientBoostingClassifier()\n",
    "elif (universe[\"model\"] == \"elasticnet\"):\n",
    "    model = LogisticRegression(penalty = 'elasticnet', solver = 'saga', l1_ratio = 0.5) # max_iter=5000\n",
    "else:\n",
    "    raise \"Unsupported universe.model\""
   ]
  },
  {
   "cell_type": "code",
   "execution_count": 31,
   "id": "0cc8f744",
   "metadata": {
    "execution": {
     "iopub.execute_input": "2025-08-05T16:19:44.339013Z",
     "iopub.status.busy": "2025-08-05T16:19:44.338547Z",
     "iopub.status.idle": "2025-08-05T16:19:44.347063Z",
     "shell.execute_reply": "2025-08-05T16:19:44.345577Z"
    },
    "papermill": {
     "duration": 0.049928,
     "end_time": "2025-08-05T16:19:44.349229",
     "exception": false,
     "start_time": "2025-08-05T16:19:44.299301",
     "status": "completed"
    },
    "tags": []
   },
   "outputs": [],
   "source": [
    "import numpy as np\n",
    "from sklearn.pipeline import Pipeline\n",
    "from sklearn.preprocessing import StandardScaler\n",
    "\n",
    "model = Pipeline([\n",
    "    #(\"continuous_processor\", continuous_processor),\n",
    "    #(\"categorical_preprocessor\", categorical_preprocessor),\n",
    "    (\"scale\", StandardScaler() if universe[\"scale\"] == \"scale\" else None), \n",
    "    (\"model\", model),\n",
    "])"
   ]
  },
  {
   "cell_type": "code",
   "execution_count": 32,
   "id": "9442c04d",
   "metadata": {
    "execution": {
     "iopub.execute_input": "2025-08-05T16:19:44.398041Z",
     "iopub.status.busy": "2025-08-05T16:19:44.396571Z",
     "iopub.status.idle": "2025-08-05T16:19:45.003307Z",
     "shell.execute_reply": "2025-08-05T16:19:45.002071Z"
    },
    "papermill": {
     "duration": 0.632596,
     "end_time": "2025-08-05T16:19:45.005130",
     "exception": false,
     "start_time": "2025-08-05T16:19:44.372534",
     "status": "completed"
    },
    "tags": []
   },
   "outputs": [
    {
     "data": {
      "text/html": [
       "<style>#sk-container-id-1 {color: black;background-color: white;}#sk-container-id-1 pre{padding: 0;}#sk-container-id-1 div.sk-toggleable {background-color: white;}#sk-container-id-1 label.sk-toggleable__label {cursor: pointer;display: block;width: 100%;margin-bottom: 0;padding: 0.3em;box-sizing: border-box;text-align: center;}#sk-container-id-1 label.sk-toggleable__label-arrow:before {content: \"▸\";float: left;margin-right: 0.25em;color: #696969;}#sk-container-id-1 label.sk-toggleable__label-arrow:hover:before {color: black;}#sk-container-id-1 div.sk-estimator:hover label.sk-toggleable__label-arrow:before {color: black;}#sk-container-id-1 div.sk-toggleable__content {max-height: 0;max-width: 0;overflow: hidden;text-align: left;background-color: #f0f8ff;}#sk-container-id-1 div.sk-toggleable__content pre {margin: 0.2em;color: black;border-radius: 0.25em;background-color: #f0f8ff;}#sk-container-id-1 input.sk-toggleable__control:checked~div.sk-toggleable__content {max-height: 200px;max-width: 100%;overflow: auto;}#sk-container-id-1 input.sk-toggleable__control:checked~label.sk-toggleable__label-arrow:before {content: \"▾\";}#sk-container-id-1 div.sk-estimator input.sk-toggleable__control:checked~label.sk-toggleable__label {background-color: #d4ebff;}#sk-container-id-1 div.sk-label input.sk-toggleable__control:checked~label.sk-toggleable__label {background-color: #d4ebff;}#sk-container-id-1 input.sk-hidden--visually {border: 0;clip: rect(1px 1px 1px 1px);clip: rect(1px, 1px, 1px, 1px);height: 1px;margin: -1px;overflow: hidden;padding: 0;position: absolute;width: 1px;}#sk-container-id-1 div.sk-estimator {font-family: monospace;background-color: #f0f8ff;border: 1px dotted black;border-radius: 0.25em;box-sizing: border-box;margin-bottom: 0.5em;}#sk-container-id-1 div.sk-estimator:hover {background-color: #d4ebff;}#sk-container-id-1 div.sk-parallel-item::after {content: \"\";width: 100%;border-bottom: 1px solid gray;flex-grow: 1;}#sk-container-id-1 div.sk-label:hover label.sk-toggleable__label {background-color: #d4ebff;}#sk-container-id-1 div.sk-serial::before {content: \"\";position: absolute;border-left: 1px solid gray;box-sizing: border-box;top: 0;bottom: 0;left: 50%;z-index: 0;}#sk-container-id-1 div.sk-serial {display: flex;flex-direction: column;align-items: center;background-color: white;padding-right: 0.2em;padding-left: 0.2em;position: relative;}#sk-container-id-1 div.sk-item {position: relative;z-index: 1;}#sk-container-id-1 div.sk-parallel {display: flex;align-items: stretch;justify-content: center;background-color: white;position: relative;}#sk-container-id-1 div.sk-item::before, #sk-container-id-1 div.sk-parallel-item::before {content: \"\";position: absolute;border-left: 1px solid gray;box-sizing: border-box;top: 0;bottom: 0;left: 50%;z-index: -1;}#sk-container-id-1 div.sk-parallel-item {display: flex;flex-direction: column;z-index: 1;position: relative;background-color: white;}#sk-container-id-1 div.sk-parallel-item:first-child::after {align-self: flex-end;width: 50%;}#sk-container-id-1 div.sk-parallel-item:last-child::after {align-self: flex-start;width: 50%;}#sk-container-id-1 div.sk-parallel-item:only-child::after {width: 0;}#sk-container-id-1 div.sk-dashed-wrapped {border: 1px dashed gray;margin: 0 0.4em 0.5em 0.4em;box-sizing: border-box;padding-bottom: 0.4em;background-color: white;}#sk-container-id-1 div.sk-label label {font-family: monospace;font-weight: bold;display: inline-block;line-height: 1.2em;}#sk-container-id-1 div.sk-label-container {text-align: center;}#sk-container-id-1 div.sk-container {/* jupyter's `normalize.less` sets `[hidden] { display: none; }` but bootstrap.min.css set `[hidden] { display: none !important; }` so we also need the `!important` here to be able to override the default hidden behavior on the sphinx rendered scikit-learn.org. See: https://github.com/scikit-learn/scikit-learn/issues/21755 */display: inline-block !important;position: relative;}#sk-container-id-1 div.sk-text-repr-fallback {display: none;}</style><div id=\"sk-container-id-1\" class=\"sk-top-container\"><div class=\"sk-text-repr-fallback\"><pre>Pipeline(steps=[(&#x27;scale&#x27;, StandardScaler()),\n",
       "                (&#x27;model&#x27;, RandomForestClassifier())])</pre><b>In a Jupyter environment, please rerun this cell to show the HTML representation or trust the notebook. <br />On GitHub, the HTML representation is unable to render, please try loading this page with nbviewer.org.</b></div><div class=\"sk-container\" hidden><div class=\"sk-item sk-dashed-wrapped\"><div class=\"sk-label-container\"><div class=\"sk-label sk-toggleable\"><input class=\"sk-toggleable__control sk-hidden--visually\" id=\"sk-estimator-id-1\" type=\"checkbox\" ><label for=\"sk-estimator-id-1\" class=\"sk-toggleable__label sk-toggleable__label-arrow\">Pipeline</label><div class=\"sk-toggleable__content\"><pre>Pipeline(steps=[(&#x27;scale&#x27;, StandardScaler()),\n",
       "                (&#x27;model&#x27;, RandomForestClassifier())])</pre></div></div></div><div class=\"sk-serial\"><div class=\"sk-item\"><div class=\"sk-estimator sk-toggleable\"><input class=\"sk-toggleable__control sk-hidden--visually\" id=\"sk-estimator-id-2\" type=\"checkbox\" ><label for=\"sk-estimator-id-2\" class=\"sk-toggleable__label sk-toggleable__label-arrow\">StandardScaler</label><div class=\"sk-toggleable__content\"><pre>StandardScaler()</pre></div></div></div><div class=\"sk-item\"><div class=\"sk-estimator sk-toggleable\"><input class=\"sk-toggleable__control sk-hidden--visually\" id=\"sk-estimator-id-3\" type=\"checkbox\" ><label for=\"sk-estimator-id-3\" class=\"sk-toggleable__label sk-toggleable__label-arrow\">RandomForestClassifier</label><div class=\"sk-toggleable__content\"><pre>RandomForestClassifier()</pre></div></div></div></div></div></div></div>"
      ],
      "text/plain": [
       "Pipeline(steps=[('scale', StandardScaler()),\n",
       "                ('model', RandomForestClassifier())])"
      ]
     },
     "execution_count": 32,
     "metadata": {},
     "output_type": "execute_result"
    }
   ],
   "source": [
    "model.fit(X_train, y_train.values.ravel())"
   ]
  },
  {
   "cell_type": "code",
   "execution_count": 33,
   "id": "af59f8c0",
   "metadata": {
    "execution": {
     "iopub.execute_input": "2025-08-05T16:19:45.055144Z",
     "iopub.status.busy": "2025-08-05T16:19:45.054403Z",
     "iopub.status.idle": "2025-08-05T16:19:45.061463Z",
     "shell.execute_reply": "2025-08-05T16:19:45.060393Z"
    },
    "papermill": {
     "duration": 0.035316,
     "end_time": "2025-08-05T16:19:45.063626",
     "exception": false,
     "start_time": "2025-08-05T16:19:45.028310",
     "status": "completed"
    },
    "tags": []
   },
   "outputs": [],
   "source": [
    "from fairness_multiverse.universe import predict_w_threshold"
   ]
  },
  {
   "cell_type": "code",
   "execution_count": 34,
   "id": "a7cf2e16",
   "metadata": {
    "execution": {
     "iopub.execute_input": "2025-08-05T16:19:45.114367Z",
     "iopub.status.busy": "2025-08-05T16:19:45.113789Z",
     "iopub.status.idle": "2025-08-05T16:19:47.220179Z",
     "shell.execute_reply": "2025-08-05T16:19:47.218886Z"
    },
    "papermill": {
     "duration": 2.134044,
     "end_time": "2025-08-05T16:19:47.222439",
     "exception": false,
     "start_time": "2025-08-05T16:19:45.088395",
     "status": "completed"
    },
    "tags": []
   },
   "outputs": [
    {
     "data": {
      "text/plain": [
       "0.8622561587336974"
      ]
     },
     "execution_count": 34,
     "metadata": {},
     "output_type": "execute_result"
    }
   ],
   "source": [
    "probs_test = model.predict_proba(X_test)\n",
    "\n",
    "'''\n",
    "Below code returns a boolean array (or binary 0/1 array depending on how it’s used) where each element \n",
    "is True if the probability of class 1 is greater than or equal to the threshold, and False otherwise.\n",
    "'''\n",
    "y_pred_default = predict_w_threshold(probs_test, 0.5)\n",
    "\n",
    "from sklearn.metrics import accuracy_score\n",
    "\n",
    "# Naive prediction\n",
    "accuracy_score(y_true = y_true, y_pred = y_pred_default)"
   ]
  },
  {
   "cell_type": "code",
   "execution_count": 35,
   "id": "081964c3",
   "metadata": {
    "execution": {
     "iopub.execute_input": "2025-08-05T16:19:47.281778Z",
     "iopub.status.busy": "2025-08-05T16:19:47.280076Z",
     "iopub.status.idle": "2025-08-05T16:19:49.025846Z",
     "shell.execute_reply": "2025-08-05T16:19:49.024971Z"
    },
    "papermill": {
     "duration": 1.776657,
     "end_time": "2025-08-05T16:19:49.027414",
     "exception": false,
     "start_time": "2025-08-05T16:19:47.250757",
     "status": "completed"
    },
    "tags": []
   },
   "outputs": [
    {
     "data": {
      "text/plain": [
       "array([0, 0, 0, ..., 0, 0, 0])"
      ]
     },
     "execution_count": 35,
     "metadata": {},
     "output_type": "execute_result"
    }
   ],
   "source": [
    "model.predict(X_test)"
   ]
  },
  {
   "cell_type": "markdown",
   "id": "56c9705b",
   "metadata": {
    "papermill": {
     "duration": 0.012793,
     "end_time": "2025-08-05T16:19:49.053815",
     "exception": false,
     "start_time": "2025-08-05T16:19:49.041022",
     "status": "completed"
    },
    "tags": []
   },
   "source": [
    "# Conformal Prediction"
   ]
  },
  {
   "cell_type": "code",
   "execution_count": 36,
   "id": "160ec6ff",
   "metadata": {
    "execution": {
     "iopub.execute_input": "2025-08-05T16:19:49.085214Z",
     "iopub.status.busy": "2025-08-05T16:19:49.084692Z",
     "iopub.status.idle": "2025-08-05T16:19:49.090260Z",
     "shell.execute_reply": "2025-08-05T16:19:49.089217Z"
    },
    "papermill": {
     "duration": 0.025685,
     "end_time": "2025-08-05T16:19:49.092154",
     "exception": false,
     "start_time": "2025-08-05T16:19:49.066469",
     "status": "completed"
    },
    "tags": []
   },
   "outputs": [],
   "source": [
    "# Miscoverage level for conformal prediction (10% allowed error rate => 90% target coverage)\n",
    "alpha = 0.1"
   ]
  },
  {
   "cell_type": "code",
   "execution_count": 37,
   "id": "eadf4555-3dd3-440e-8e35-f82a4ad9f855",
   "metadata": {
    "execution": {
     "iopub.execute_input": "2025-08-05T16:19:49.140612Z",
     "iopub.status.busy": "2025-08-05T16:19:49.140168Z",
     "iopub.status.idle": "2025-08-05T16:19:51.123112Z",
     "shell.execute_reply": "2025-08-05T16:19:51.121932Z"
    },
    "papermill": {
     "duration": 2.006473,
     "end_time": "2025-08-05T16:19:51.125388",
     "exception": false,
     "start_time": "2025-08-05T16:19:49.118915",
     "status": "completed"
    },
    "tags": []
   },
   "outputs": [],
   "source": [
    "probs_calib = model.predict_proba(X_calib)"
   ]
  },
  {
   "cell_type": "code",
   "execution_count": 38,
   "id": "2ed93547-6d5d-4983-9b36-1ecb300da49a",
   "metadata": {
    "execution": {
     "iopub.execute_input": "2025-08-05T16:19:51.183840Z",
     "iopub.status.busy": "2025-08-05T16:19:51.183080Z",
     "iopub.status.idle": "2025-08-05T16:19:51.190207Z",
     "shell.execute_reply": "2025-08-05T16:19:51.189142Z"
    },
    "papermill": {
     "duration": 0.038213,
     "end_time": "2025-08-05T16:19:51.192200",
     "exception": false,
     "start_time": "2025-08-05T16:19:51.153987",
     "status": "completed"
    },
    "tags": []
   },
   "outputs": [],
   "source": [
    "y_calib = y_calib.values.ravel().astype(int)"
   ]
  },
  {
   "cell_type": "code",
   "execution_count": 39,
   "id": "65d1320d-f588-4b38-9072-62af1ae97f7d",
   "metadata": {
    "execution": {
     "iopub.execute_input": "2025-08-05T16:19:51.249471Z",
     "iopub.status.busy": "2025-08-05T16:19:51.248712Z",
     "iopub.status.idle": "2025-08-05T16:19:51.258269Z",
     "shell.execute_reply": "2025-08-05T16:19:51.257205Z"
    },
    "papermill": {
     "duration": 0.040404,
     "end_time": "2025-08-05T16:19:51.260238",
     "exception": false,
     "start_time": "2025-08-05T16:19:51.219834",
     "status": "completed"
    },
    "tags": []
   },
   "outputs": [],
   "source": [
    "from fairness_multiverse.conformal import compute_nc_scores\n",
    "\n",
    "# Compute nonconformity scores on calibration set (1 - probability of true class)\n",
    "nc_scores = compute_nc_scores(probs_calib, y_calib)"
   ]
  },
  {
   "cell_type": "code",
   "execution_count": 40,
   "id": "df3b8ca3-53b7-43d5-9667-7c85da7aeda2",
   "metadata": {
    "execution": {
     "iopub.execute_input": "2025-08-05T16:19:51.317393Z",
     "iopub.status.busy": "2025-08-05T16:19:51.316597Z",
     "iopub.status.idle": "2025-08-05T16:19:51.324916Z",
     "shell.execute_reply": "2025-08-05T16:19:51.323887Z"
    },
    "papermill": {
     "duration": 0.038865,
     "end_time": "2025-08-05T16:19:51.326857",
     "exception": false,
     "start_time": "2025-08-05T16:19:51.287992",
     "status": "completed"
    },
    "tags": []
   },
   "outputs": [],
   "source": [
    "from fairness_multiverse.conformal import find_threshold\n",
    "\n",
    "# Find conformal threshold q_hat for the given alpha (split conformal method)\n",
    "q_hat = find_threshold(nc_scores, alpha)"
   ]
  },
  {
   "cell_type": "code",
   "execution_count": 41,
   "id": "4d29e6c1-0ef6-4aa4-b8fe-4fe79b0d033a",
   "metadata": {
    "execution": {
     "iopub.execute_input": "2025-08-05T16:19:51.384369Z",
     "iopub.status.busy": "2025-08-05T16:19:51.383590Z",
     "iopub.status.idle": "2025-08-05T16:19:51.391998Z",
     "shell.execute_reply": "2025-08-05T16:19:51.390834Z"
    },
    "papermill": {
     "duration": 0.039511,
     "end_time": "2025-08-05T16:19:51.394049",
     "exception": false,
     "start_time": "2025-08-05T16:19:51.354538",
     "status": "completed"
    },
    "tags": []
   },
   "outputs": [
    {
     "data": {
      "text/plain": [
       "0.6699999999999999"
      ]
     },
     "execution_count": 41,
     "metadata": {},
     "output_type": "execute_result"
    }
   ],
   "source": [
    "q_hat"
   ]
  },
  {
   "cell_type": "code",
   "execution_count": 42,
   "id": "92460794-cdac-4be2-ba28-f28c0515a6fb",
   "metadata": {
    "execution": {
     "iopub.execute_input": "2025-08-05T16:19:51.452194Z",
     "iopub.status.busy": "2025-08-05T16:19:51.451407Z",
     "iopub.status.idle": "2025-08-05T16:19:54.022396Z",
     "shell.execute_reply": "2025-08-05T16:19:54.021187Z"
    },
    "papermill": {
     "duration": 2.602687,
     "end_time": "2025-08-05T16:19:54.024761",
     "exception": false,
     "start_time": "2025-08-05T16:19:51.422074",
     "status": "completed"
    },
    "tags": []
   },
   "outputs": [],
   "source": [
    "from fairness_multiverse.conformal import predict_conformal_sets\n",
    "\n",
    "# Generate prediction sets for each test example\n",
    "pred_sets = predict_conformal_sets(model, X_test, q_hat)"
   ]
  },
  {
   "cell_type": "code",
   "execution_count": 43,
   "id": "d90c9a65-e6db-4f5d-80cd-e68fb7e46829",
   "metadata": {
    "execution": {
     "iopub.execute_input": "2025-08-05T16:19:54.084655Z",
     "iopub.status.busy": "2025-08-05T16:19:54.084139Z",
     "iopub.status.idle": "2025-08-05T16:19:54.090703Z",
     "shell.execute_reply": "2025-08-05T16:19:54.089501Z"
    },
    "papermill": {
     "duration": 0.03879,
     "end_time": "2025-08-05T16:19:54.092689",
     "exception": false,
     "start_time": "2025-08-05T16:19:54.053899",
     "status": "completed"
    },
    "tags": []
   },
   "outputs": [],
   "source": [
    "y_true = y_true.squeeze()"
   ]
  },
  {
   "cell_type": "code",
   "execution_count": 44,
   "id": "3a58a54a-1e68-46b9-927a-df01f18aebc8",
   "metadata": {
    "execution": {
     "iopub.execute_input": "2025-08-05T16:19:54.147481Z",
     "iopub.status.busy": "2025-08-05T16:19:54.146859Z",
     "iopub.status.idle": "2025-08-05T16:19:55.391988Z",
     "shell.execute_reply": "2025-08-05T16:19:55.390863Z"
    },
    "papermill": {
     "duration": 1.272428,
     "end_time": "2025-08-05T16:19:55.394080",
     "exception": false,
     "start_time": "2025-08-05T16:19:54.121652",
     "status": "completed"
    },
    "tags": []
   },
   "outputs": [],
   "source": [
    "from fairness_multiverse.conformal import evaluate_sets\n",
    "\n",
    "# Evaluate coverage and average set size on test data\n",
    "metrics = evaluate_sets(pred_sets, y_true)"
   ]
  },
  {
   "cell_type": "markdown",
   "id": "2b569c12-9aaa-4c88-98c9-bbcd0cf3ebb8",
   "metadata": {
    "papermill": {
     "duration": 0.025109,
     "end_time": "2025-08-05T16:19:55.443868",
     "exception": false,
     "start_time": "2025-08-05T16:19:55.418759",
     "status": "completed"
    },
    "tags": []
   },
   "source": [
    "# CP Metrics"
   ]
  },
  {
   "cell_type": "code",
   "execution_count": 45,
   "id": "5ce0a5cb-201f-45a0-ade5-94c7f0bd6095",
   "metadata": {
    "execution": {
     "iopub.execute_input": "2025-08-05T16:19:55.494651Z",
     "iopub.status.busy": "2025-08-05T16:19:55.493595Z",
     "iopub.status.idle": "2025-08-05T16:19:55.502377Z",
     "shell.execute_reply": "2025-08-05T16:19:55.501074Z"
    },
    "papermill": {
     "duration": 0.036654,
     "end_time": "2025-08-05T16:19:55.504121",
     "exception": false,
     "start_time": "2025-08-05T16:19:55.467467",
     "status": "completed"
    },
    "tags": []
   },
   "outputs": [
    {
     "data": {
      "text/plain": [
       "{'coverage': 0.9149258722550441, 'avg_size': 1.1507524244788765}"
      ]
     },
     "execution_count": 45,
     "metadata": {},
     "output_type": "execute_result"
    }
   ],
   "source": [
    "metrics"
   ]
  },
  {
   "cell_type": "code",
   "execution_count": 46,
   "id": "9b9a838d-31c9-430b-ae14-12baee460d17",
   "metadata": {
    "execution": {
     "iopub.execute_input": "2025-08-05T16:19:55.559718Z",
     "iopub.status.busy": "2025-08-05T16:19:55.559019Z",
     "iopub.status.idle": "2025-08-05T16:19:55.566811Z",
     "shell.execute_reply": "2025-08-05T16:19:55.565803Z"
    },
    "papermill": {
     "duration": 0.037924,
     "end_time": "2025-08-05T16:19:55.568519",
     "exception": false,
     "start_time": "2025-08-05T16:19:55.530595",
     "status": "completed"
    },
    "tags": []
   },
   "outputs": [],
   "source": [
    "example_universe = universe.copy()\n",
    "universe_training_year = example_universe.get(\"training_year\")\n",
    "universe_training_size = example_universe.get(\"training_size\")\n",
    "universe_scale = example_universe.get(\"scale\")\n",
    "universe_model = example_universe.get(\"model\")\n",
    "universe_exclude_features = example_universe.get(\"exclude_features\")\n",
    "universe_exclude_subgroups = example_universe.get(\"exclude_subgroups\")"
   ]
  },
  {
   "cell_type": "code",
   "execution_count": 47,
   "id": "f4b6a8ac-9dc0-4245-8a91-5b3b5999c4f9",
   "metadata": {
    "execution": {
     "iopub.execute_input": "2025-08-05T16:19:55.619536Z",
     "iopub.status.busy": "2025-08-05T16:19:55.618744Z",
     "iopub.status.idle": "2025-08-05T16:19:55.626394Z",
     "shell.execute_reply": "2025-08-05T16:19:55.625409Z"
    },
    "papermill": {
     "duration": 0.035122,
     "end_time": "2025-08-05T16:19:55.628174",
     "exception": false,
     "start_time": "2025-08-05T16:19:55.593052",
     "status": "completed"
    },
    "tags": []
   },
   "outputs": [],
   "source": [
    "cp_metrics_dict = {\n",
    "    \"universe_id\": [universe_id],\n",
    "    \"universe_training_year\": [universe_training_year],\n",
    "    \"universe_training_size\": [universe_training_size],\n",
    "    \"universe_scale\": [universe_scale],\n",
    "    \"universe_model\": [universe_model],\n",
    "    \"universe_exclude_features\": [universe_exclude_features],\n",
    "    \"universe_exclude_subgroups\": [universe_exclude_subgroups],\n",
    "    \"q_hat\": [q_hat],\n",
    "    \"coverage\": [metrics[\"coverage\"]],\n",
    "    \"avg_size\": [metrics[\"avg_size\"]],\n",
    "}"
   ]
  },
  {
   "cell_type": "code",
   "execution_count": 48,
   "id": "908acbb1-0371-4915-85ca-3fa520d2efe2",
   "metadata": {
    "execution": {
     "iopub.execute_input": "2025-08-05T16:19:55.680216Z",
     "iopub.status.busy": "2025-08-05T16:19:55.679557Z",
     "iopub.status.idle": "2025-08-05T16:19:55.688325Z",
     "shell.execute_reply": "2025-08-05T16:19:55.687159Z"
    },
    "papermill": {
     "duration": 0.037505,
     "end_time": "2025-08-05T16:19:55.690277",
     "exception": false,
     "start_time": "2025-08-05T16:19:55.652772",
     "status": "completed"
    },
    "tags": []
   },
   "outputs": [
    {
     "data": {
      "text/plain": [
       "{'universe_id': ['d5b8e776be79f5bc57208014cf11356a'],\n",
       " 'universe_training_year': ['2012_14'],\n",
       " 'universe_training_size': ['1k'],\n",
       " 'universe_scale': ['scale'],\n",
       " 'universe_model': ['rf'],\n",
       " 'universe_exclude_features': ['nationality-sex'],\n",
       " 'universe_exclude_subgroups': ['keep-all'],\n",
       " 'q_hat': [0.6699999999999999],\n",
       " 'coverage': [0.9149258722550441],\n",
       " 'avg_size': [1.1507524244788765]}"
      ]
     },
     "execution_count": 48,
     "metadata": {},
     "output_type": "execute_result"
    }
   ],
   "source": [
    "cp_metrics_dict"
   ]
  },
  {
   "cell_type": "code",
   "execution_count": 49,
   "id": "33007efc-14e9-4ec6-97ac-56a455c82265",
   "metadata": {
    "execution": {
     "iopub.execute_input": "2025-08-05T16:19:55.741658Z",
     "iopub.status.busy": "2025-08-05T16:19:55.741063Z",
     "iopub.status.idle": "2025-08-05T16:19:55.748620Z",
     "shell.execute_reply": "2025-08-05T16:19:55.747577Z"
    },
    "papermill": {
     "duration": 0.034897,
     "end_time": "2025-08-05T16:19:55.750406",
     "exception": false,
     "start_time": "2025-08-05T16:19:55.715509",
     "status": "completed"
    },
    "tags": []
   },
   "outputs": [],
   "source": [
    "cp_metrics_df = pd.DataFrame(cp_metrics_dict)"
   ]
  },
  {
   "cell_type": "code",
   "execution_count": 50,
   "id": "db12611b-57b2-4910-b9d0-355adfd6e7bf",
   "metadata": {
    "execution": {
     "iopub.execute_input": "2025-08-05T16:19:55.802596Z",
     "iopub.status.busy": "2025-08-05T16:19:55.802059Z",
     "iopub.status.idle": "2025-08-05T16:19:55.822704Z",
     "shell.execute_reply": "2025-08-05T16:19:55.821672Z"
    },
    "papermill": {
     "duration": 0.048944,
     "end_time": "2025-08-05T16:19:55.824495",
     "exception": false,
     "start_time": "2025-08-05T16:19:55.775551",
     "status": "completed"
    },
    "tags": []
   },
   "outputs": [
    {
     "data": {
      "text/html": [
       "<div>\n",
       "<style scoped>\n",
       "    .dataframe tbody tr th:only-of-type {\n",
       "        vertical-align: middle;\n",
       "    }\n",
       "\n",
       "    .dataframe tbody tr th {\n",
       "        vertical-align: top;\n",
       "    }\n",
       "\n",
       "    .dataframe thead th {\n",
       "        text-align: right;\n",
       "    }\n",
       "</style>\n",
       "<table border=\"1\" class=\"dataframe\">\n",
       "  <thead>\n",
       "    <tr style=\"text-align: right;\">\n",
       "      <th></th>\n",
       "      <th>universe_id</th>\n",
       "      <th>universe_training_year</th>\n",
       "      <th>universe_training_size</th>\n",
       "      <th>universe_scale</th>\n",
       "      <th>universe_model</th>\n",
       "      <th>universe_exclude_features</th>\n",
       "      <th>universe_exclude_subgroups</th>\n",
       "      <th>q_hat</th>\n",
       "      <th>coverage</th>\n",
       "      <th>avg_size</th>\n",
       "    </tr>\n",
       "  </thead>\n",
       "  <tbody>\n",
       "    <tr>\n",
       "      <th>0</th>\n",
       "      <td>d5b8e776be79f5bc57208014cf11356a</td>\n",
       "      <td>2012_14</td>\n",
       "      <td>1k</td>\n",
       "      <td>scale</td>\n",
       "      <td>rf</td>\n",
       "      <td>nationality-sex</td>\n",
       "      <td>keep-all</td>\n",
       "      <td>0.67</td>\n",
       "      <td>0.914926</td>\n",
       "      <td>1.150752</td>\n",
       "    </tr>\n",
       "  </tbody>\n",
       "</table>\n",
       "</div>"
      ],
      "text/plain": [
       "                        universe_id universe_training_year  \\\n",
       "0  d5b8e776be79f5bc57208014cf11356a                2012_14   \n",
       "\n",
       "  universe_training_size universe_scale universe_model  \\\n",
       "0                     1k          scale             rf   \n",
       "\n",
       "  universe_exclude_features universe_exclude_subgroups  q_hat  coverage  \\\n",
       "0           nationality-sex                   keep-all   0.67  0.914926   \n",
       "\n",
       "   avg_size  \n",
       "0  1.150752  "
      ]
     },
     "execution_count": 50,
     "metadata": {},
     "output_type": "execute_result"
    }
   ],
   "source": [
    "cp_metrics_df"
   ]
  },
  {
   "cell_type": "code",
   "execution_count": 51,
   "id": "b7fbde55-a0a1-47e4-9af6-fe4a17fa8c61",
   "metadata": {
    "execution": {
     "iopub.execute_input": "2025-08-05T16:19:55.879140Z",
     "iopub.status.busy": "2025-08-05T16:19:55.878603Z",
     "iopub.status.idle": "2025-08-05T16:19:55.884280Z",
     "shell.execute_reply": "2025-08-05T16:19:55.883195Z"
    },
    "papermill": {
     "duration": 0.035981,
     "end_time": "2025-08-05T16:19:55.886125",
     "exception": false,
     "start_time": "2025-08-05T16:19:55.850144",
     "status": "completed"
    },
    "tags": []
   },
   "outputs": [],
   "source": [
    "# Conditional Coverage & looking at subgroups"
   ]
  },
  {
   "cell_type": "code",
   "execution_count": 52,
   "id": "027ae886-68dd-4141-96c7-805a5450e1ef",
   "metadata": {
    "execution": {
     "iopub.execute_input": "2025-08-05T16:19:55.938594Z",
     "iopub.status.busy": "2025-08-05T16:19:55.937684Z",
     "iopub.status.idle": "2025-08-05T16:19:56.238708Z",
     "shell.execute_reply": "2025-08-05T16:19:56.237536Z"
    },
    "papermill": {
     "duration": 0.329815,
     "end_time": "2025-08-05T16:19:56.241159",
     "exception": false,
     "start_time": "2025-08-05T16:19:55.911344",
     "status": "completed"
    },
    "tags": []
   },
   "outputs": [],
   "source": [
    "from fairness_multiverse.conformal import build_cp_groups\n",
    "\n",
    "cp_groups_df = build_cp_groups(pred_sets, y_true, X_test.index, org_test)\n",
    "#needs universe_id and setting"
   ]
  },
  {
   "cell_type": "code",
   "execution_count": 53,
   "id": "6cbdab96-b2b2-45af-ad54-d0516db2e28d",
   "metadata": {
    "execution": {
     "iopub.execute_input": "2025-08-05T16:19:56.304340Z",
     "iopub.status.busy": "2025-08-05T16:19:56.303416Z",
     "iopub.status.idle": "2025-08-05T16:19:58.884632Z",
     "shell.execute_reply": "2025-08-05T16:19:58.883429Z"
    },
    "papermill": {
     "duration": 2.614285,
     "end_time": "2025-08-05T16:19:58.886915",
     "exception": false,
     "start_time": "2025-08-05T16:19:56.272630",
     "status": "completed"
    },
    "tags": []
   },
   "outputs": [],
   "source": [
    "# Define covered = 1 if true_label is in the predicted set\n",
    "cp_groups_df['covered'] = cp_groups_df.apply(\n",
    "    lambda r: int(r['true_label'] in r['pred_set']),\n",
    "    axis=1\n",
    ")"
   ]
  },
  {
   "cell_type": "code",
   "execution_count": 54,
   "id": "338ff529-1a6b-4b87-a931-8e4788d52aad",
   "metadata": {
    "execution": {
     "iopub.execute_input": "2025-08-05T16:19:58.943924Z",
     "iopub.status.busy": "2025-08-05T16:19:58.942912Z",
     "iopub.status.idle": "2025-08-05T16:19:58.949149Z",
     "shell.execute_reply": "2025-08-05T16:19:58.947988Z"
    },
    "papermill": {
     "duration": 0.035599,
     "end_time": "2025-08-05T16:19:58.951270",
     "exception": false,
     "start_time": "2025-08-05T16:19:58.915671",
     "status": "completed"
    },
    "tags": []
   },
   "outputs": [],
   "source": [
    "#cp_groups_df"
   ]
  },
  {
   "cell_type": "code",
   "execution_count": 55,
   "id": "90032e27-66df-4540-9169-4e89cfbaa758",
   "metadata": {
    "execution": {
     "iopub.execute_input": "2025-08-05T16:19:59.014840Z",
     "iopub.status.busy": "2025-08-05T16:19:59.013941Z",
     "iopub.status.idle": "2025-08-05T16:19:59.028140Z",
     "shell.execute_reply": "2025-08-05T16:19:59.026967Z"
    },
    "papermill": {
     "duration": 0.047334,
     "end_time": "2025-08-05T16:19:59.030210",
     "exception": false,
     "start_time": "2025-08-05T16:19:58.982876",
     "status": "completed"
    },
    "tags": []
   },
   "outputs": [],
   "source": [
    "subgroups = ['frau1','nongerman','nongerman_male','nongerman_female']\n",
    "\n",
    "# Conditional coverage for subgroup==1\n",
    "cond_coverage = {\n",
    "    g: cp_groups_df.loc[cp_groups_df[g]==1, 'covered'].mean()\n",
    "    for g in subgroups\n",
    "}"
   ]
  },
  {
   "cell_type": "code",
   "execution_count": 56,
   "id": "1e348fb1-b9c3-45bc-ba23-f016827a7e0d",
   "metadata": {
    "execution": {
     "iopub.execute_input": "2025-08-05T16:19:59.094920Z",
     "iopub.status.busy": "2025-08-05T16:19:59.093881Z",
     "iopub.status.idle": "2025-08-05T16:19:59.102988Z",
     "shell.execute_reply": "2025-08-05T16:19:59.101721Z"
    },
    "papermill": {
     "duration": 0.042897,
     "end_time": "2025-08-05T16:19:59.104977",
     "exception": false,
     "start_time": "2025-08-05T16:19:59.062080",
     "status": "completed"
    },
    "tags": []
   },
   "outputs": [
    {
     "data": {
      "text/plain": [
       "{'frau1': 0.9133845531742822,\n",
       " 'nongerman': 0.9083815191152529,\n",
       " 'nongerman_male': 0.9257858236512654,\n",
       " 'nongerman_female': 0.8795827123695976}"
      ]
     },
     "execution_count": 56,
     "metadata": {},
     "output_type": "execute_result"
    }
   ],
   "source": [
    "cond_coverage"
   ]
  },
  {
   "cell_type": "code",
   "execution_count": 57,
   "id": "f5093324-c3dd-4d63-bc4c-8d945e5c8bbb",
   "metadata": {
    "execution": {
     "iopub.execute_input": "2025-08-05T16:19:59.170156Z",
     "iopub.status.busy": "2025-08-05T16:19:59.169015Z",
     "iopub.status.idle": "2025-08-05T16:19:59.177731Z",
     "shell.execute_reply": "2025-08-05T16:19:59.176544Z"
    },
    "papermill": {
     "duration": 0.042284,
     "end_time": "2025-08-05T16:19:59.179512",
     "exception": false,
     "start_time": "2025-08-05T16:19:59.137228",
     "status": "completed"
    },
    "tags": []
   },
   "outputs": [],
   "source": [
    "for subgroup, cov in cond_coverage.items():\n",
    "    cp_metrics_df[f\"cov_{subgroup}\"] = cov"
   ]
  },
  {
   "cell_type": "code",
   "execution_count": 58,
   "id": "6e872e10-dbe5-49e8-b554-5030c98ff75d",
   "metadata": {
    "execution": {
     "iopub.execute_input": "2025-08-05T16:19:59.244262Z",
     "iopub.status.busy": "2025-08-05T16:19:59.243411Z",
     "iopub.status.idle": "2025-08-05T16:19:59.267919Z",
     "shell.execute_reply": "2025-08-05T16:19:59.266747Z"
    },
    "papermill": {
     "duration": 0.058809,
     "end_time": "2025-08-05T16:19:59.270089",
     "exception": false,
     "start_time": "2025-08-05T16:19:59.211280",
     "status": "completed"
    },
    "tags": []
   },
   "outputs": [
    {
     "data": {
      "text/html": [
       "<div>\n",
       "<style scoped>\n",
       "    .dataframe tbody tr th:only-of-type {\n",
       "        vertical-align: middle;\n",
       "    }\n",
       "\n",
       "    .dataframe tbody tr th {\n",
       "        vertical-align: top;\n",
       "    }\n",
       "\n",
       "    .dataframe thead th {\n",
       "        text-align: right;\n",
       "    }\n",
       "</style>\n",
       "<table border=\"1\" class=\"dataframe\">\n",
       "  <thead>\n",
       "    <tr style=\"text-align: right;\">\n",
       "      <th></th>\n",
       "      <th>universe_id</th>\n",
       "      <th>universe_training_year</th>\n",
       "      <th>universe_training_size</th>\n",
       "      <th>universe_scale</th>\n",
       "      <th>universe_model</th>\n",
       "      <th>universe_exclude_features</th>\n",
       "      <th>universe_exclude_subgroups</th>\n",
       "      <th>q_hat</th>\n",
       "      <th>coverage</th>\n",
       "      <th>avg_size</th>\n",
       "      <th>cov_frau1</th>\n",
       "      <th>cov_nongerman</th>\n",
       "      <th>cov_nongerman_male</th>\n",
       "      <th>cov_nongerman_female</th>\n",
       "    </tr>\n",
       "  </thead>\n",
       "  <tbody>\n",
       "    <tr>\n",
       "      <th>0</th>\n",
       "      <td>d5b8e776be79f5bc57208014cf11356a</td>\n",
       "      <td>2012_14</td>\n",
       "      <td>1k</td>\n",
       "      <td>scale</td>\n",
       "      <td>rf</td>\n",
       "      <td>nationality-sex</td>\n",
       "      <td>keep-all</td>\n",
       "      <td>0.67</td>\n",
       "      <td>0.914926</td>\n",
       "      <td>1.150752</td>\n",
       "      <td>0.913385</td>\n",
       "      <td>0.908382</td>\n",
       "      <td>0.925786</td>\n",
       "      <td>0.879583</td>\n",
       "    </tr>\n",
       "  </tbody>\n",
       "</table>\n",
       "</div>"
      ],
      "text/plain": [
       "                        universe_id universe_training_year  \\\n",
       "0  d5b8e776be79f5bc57208014cf11356a                2012_14   \n",
       "\n",
       "  universe_training_size universe_scale universe_model  \\\n",
       "0                     1k          scale             rf   \n",
       "\n",
       "  universe_exclude_features universe_exclude_subgroups  q_hat  coverage  \\\n",
       "0           nationality-sex                   keep-all   0.67  0.914926   \n",
       "\n",
       "   avg_size  cov_frau1  cov_nongerman  cov_nongerman_male  \\\n",
       "0  1.150752   0.913385       0.908382            0.925786   \n",
       "\n",
       "   cov_nongerman_female  \n",
       "0              0.879583  "
      ]
     },
     "execution_count": 58,
     "metadata": {},
     "output_type": "execute_result"
    }
   ],
   "source": [
    "cp_metrics_df"
   ]
  },
  {
   "cell_type": "markdown",
   "id": "33774451",
   "metadata": {
    "papermill": {
     "duration": 0.030485,
     "end_time": "2025-08-05T16:19:59.333332",
     "exception": false,
     "start_time": "2025-08-05T16:19:59.302847",
     "status": "completed"
    },
    "tags": []
   },
   "source": [
    "# (Fairness) Metrics"
   ]
  },
  {
   "cell_type": "code",
   "execution_count": 59,
   "id": "debc5d62",
   "metadata": {
    "execution": {
     "iopub.execute_input": "2025-08-05T16:19:59.398825Z",
     "iopub.status.busy": "2025-08-05T16:19:59.397755Z",
     "iopub.status.idle": "2025-08-05T16:19:59.423396Z",
     "shell.execute_reply": "2025-08-05T16:19:59.422202Z"
    },
    "papermill": {
     "duration": 0.060345,
     "end_time": "2025-08-05T16:19:59.425475",
     "exception": false,
     "start_time": "2025-08-05T16:19:59.365130",
     "status": "completed"
    },
    "tags": []
   },
   "outputs": [],
   "source": [
    "# do I need to include maxdeutsch1.missing?\n",
    "\n",
    "import numpy as np\n",
    "\n",
    "colname_to_bin = \"maxdeutsch1\"\n",
    "majority_value = org_train[colname_to_bin].mode()[0]\n",
    "\n",
    "org_test[\"majmin\"] = np.where(org_test[colname_to_bin] == majority_value, \"majority\", \"minority\")"
   ]
  },
  {
   "cell_type": "code",
   "execution_count": 60,
   "id": "06a50de5",
   "metadata": {
    "execution": {
     "iopub.execute_input": "2025-08-05T16:19:59.484939Z",
     "iopub.status.busy": "2025-08-05T16:19:59.484030Z",
     "iopub.status.idle": "2025-08-05T16:20:03.008269Z",
     "shell.execute_reply": "2025-08-05T16:20:03.006399Z"
    },
    "papermill": {
     "duration": 3.55563,
     "end_time": "2025-08-05T16:20:03.010700",
     "exception": false,
     "start_time": "2025-08-05T16:19:59.455070",
     "status": "completed"
    },
    "tags": []
   },
   "outputs": [],
   "source": [
    "example_universe = universe.copy()\n",
    "example_universe[\"cutoff\"] = example_universe[\"cutoff\"][0]\n",
    "example_universe[\"eval_fairness_grouping\"] = example_universe[\"eval_fairness_grouping\"][0]\n",
    "fairness_dict, metric_frame = universe_analysis.compute_metrics(\n",
    "    example_universe,\n",
    "    y_pred_prob=probs_test,\n",
    "    y_test=y_true,\n",
    "    org_test=org_test,\n",
    ")"
   ]
  },
  {
   "cell_type": "markdown",
   "id": "f95d4e02",
   "metadata": {
    "papermill": {
     "duration": 0.028133,
     "end_time": "2025-08-05T16:20:03.069374",
     "exception": false,
     "start_time": "2025-08-05T16:20:03.041241",
     "status": "completed"
    },
    "tags": []
   },
   "source": [
    "# Overall"
   ]
  },
  {
   "cell_type": "markdown",
   "id": "bdee4871",
   "metadata": {
    "papermill": {
     "duration": 0.028868,
     "end_time": "2025-08-05T16:20:03.126695",
     "exception": false,
     "start_time": "2025-08-05T16:20:03.097827",
     "status": "completed"
    },
    "tags": []
   },
   "source": [
    "Fairness\n",
    "Main fairness target: Equalized Odds. Seems to be a better fit than equal opportunity, since we're not only interested in Y = 1. Seems to be a better fit than demographic parity, since we also care about accuracy, not just equal distribution of preds.\n",
    "\n",
    "Pick column for computation of fairness metrics\n",
    "\n",
    "Performance\n",
    "Overall performance measures, most interesting in relation to the measures split by group below"
   ]
  },
  {
   "cell_type": "code",
   "execution_count": 61,
   "id": "c4e067c6",
   "metadata": {
    "execution": {
     "iopub.execute_input": "2025-08-05T16:20:03.190282Z",
     "iopub.status.busy": "2025-08-05T16:20:03.188925Z",
     "iopub.status.idle": "2025-08-05T16:20:03.201138Z",
     "shell.execute_reply": "2025-08-05T16:20:03.199713Z"
    },
    "papermill": {
     "duration": 0.047318,
     "end_time": "2025-08-05T16:20:03.203855",
     "exception": false,
     "start_time": "2025-08-05T16:20:03.156537",
     "status": "completed"
    },
    "tags": []
   },
   "outputs": [
    {
     "data": {
      "text/plain": [
       "accuracy                   0.200914\n",
       "balanced accuracy          0.531842\n",
       "f1                         0.238776\n",
       "precision                  0.136008\n",
       "false positive rate        0.913289\n",
       "false negative rate        0.023027\n",
       "selection rate             0.921458\n",
       "count                  89710.000000\n",
       "dtype: float64"
      ]
     },
     "execution_count": 61,
     "metadata": {},
     "output_type": "execute_result"
    }
   ],
   "source": [
    "metric_frame.overall"
   ]
  },
  {
   "cell_type": "markdown",
   "id": "e968fe9d",
   "metadata": {
    "papermill": {
     "duration": 0.045079,
     "end_time": "2025-08-05T16:20:03.293923",
     "exception": false,
     "start_time": "2025-08-05T16:20:03.248844",
     "status": "completed"
    },
    "tags": []
   },
   "source": [
    "By Group"
   ]
  },
  {
   "cell_type": "code",
   "execution_count": 62,
   "id": "ec325bce",
   "metadata": {
    "execution": {
     "iopub.execute_input": "2025-08-05T16:20:03.386422Z",
     "iopub.status.busy": "2025-08-05T16:20:03.385898Z",
     "iopub.status.idle": "2025-08-05T16:20:03.407179Z",
     "shell.execute_reply": "2025-08-05T16:20:03.405729Z"
    },
    "papermill": {
     "duration": 0.070226,
     "end_time": "2025-08-05T16:20:03.409749",
     "exception": false,
     "start_time": "2025-08-05T16:20:03.339523",
     "status": "completed"
    },
    "tags": []
   },
   "outputs": [
    {
     "data": {
      "text/html": [
       "<div>\n",
       "<style scoped>\n",
       "    .dataframe tbody tr th:only-of-type {\n",
       "        vertical-align: middle;\n",
       "    }\n",
       "\n",
       "    .dataframe tbody tr th {\n",
       "        vertical-align: top;\n",
       "    }\n",
       "\n",
       "    .dataframe thead th {\n",
       "        text-align: right;\n",
       "    }\n",
       "</style>\n",
       "<table border=\"1\" class=\"dataframe\">\n",
       "  <thead>\n",
       "    <tr style=\"text-align: right;\">\n",
       "      <th></th>\n",
       "      <th>accuracy</th>\n",
       "      <th>balanced accuracy</th>\n",
       "      <th>f1</th>\n",
       "      <th>precision</th>\n",
       "      <th>false positive rate</th>\n",
       "      <th>false negative rate</th>\n",
       "      <th>selection rate</th>\n",
       "      <th>count</th>\n",
       "    </tr>\n",
       "    <tr>\n",
       "      <th>majmin</th>\n",
       "      <th></th>\n",
       "      <th></th>\n",
       "      <th></th>\n",
       "      <th></th>\n",
       "      <th></th>\n",
       "      <th></th>\n",
       "      <th></th>\n",
       "      <th></th>\n",
       "    </tr>\n",
       "  </thead>\n",
       "  <tbody>\n",
       "    <tr>\n",
       "      <th>majority</th>\n",
       "      <td>0.201807</td>\n",
       "      <td>0.534805</td>\n",
       "      <td>0.246379</td>\n",
       "      <td>0.140750</td>\n",
       "      <td>0.917808</td>\n",
       "      <td>0.012582</td>\n",
       "      <td>0.927006</td>\n",
       "      <td>69170.0</td>\n",
       "    </tr>\n",
       "    <tr>\n",
       "      <th>minority</th>\n",
       "      <td>0.197907</td>\n",
       "      <td>0.519148</td>\n",
       "      <td>0.212137</td>\n",
       "      <td>0.119614</td>\n",
       "      <td>0.898360</td>\n",
       "      <td>0.063345</td>\n",
       "      <td>0.902775</td>\n",
       "      <td>20540.0</td>\n",
       "    </tr>\n",
       "  </tbody>\n",
       "</table>\n",
       "</div>"
      ],
      "text/plain": [
       "          accuracy  balanced accuracy        f1  precision  \\\n",
       "majmin                                                       \n",
       "majority  0.201807           0.534805  0.246379   0.140750   \n",
       "minority  0.197907           0.519148  0.212137   0.119614   \n",
       "\n",
       "          false positive rate  false negative rate  selection rate    count  \n",
       "majmin                                                                       \n",
       "majority             0.917808             0.012582        0.927006  69170.0  \n",
       "minority             0.898360             0.063345        0.902775  20540.0  "
      ]
     },
     "execution_count": 62,
     "metadata": {},
     "output_type": "execute_result"
    }
   ],
   "source": [
    "metric_frame.by_group"
   ]
  },
  {
   "cell_type": "code",
   "execution_count": 63,
   "id": "a9ddbe63",
   "metadata": {
    "execution": {
     "iopub.execute_input": "2025-08-05T16:20:03.501761Z",
     "iopub.status.busy": "2025-08-05T16:20:03.500842Z",
     "iopub.status.idle": "2025-08-05T16:20:06.011878Z",
     "shell.execute_reply": "2025-08-05T16:20:06.010266Z"
    },
    "papermill": {
     "duration": 2.560036,
     "end_time": "2025-08-05T16:20:06.014638",
     "exception": false,
     "start_time": "2025-08-05T16:20:03.454602",
     "status": "completed"
    },
    "tags": []
   },
   "outputs": [
    {
     "data": {
      "text/plain": [
       "array([[<Axes: title={'center': 'accuracy'}, xlabel='majmin'>,\n",
       "        <Axes: title={'center': 'balanced accuracy'}, xlabel='majmin'>,\n",
       "        <Axes: title={'center': 'f1'}, xlabel='majmin'>],\n",
       "       [<Axes: title={'center': 'precision'}, xlabel='majmin'>,\n",
       "        <Axes: title={'center': 'false positive rate'}, xlabel='majmin'>,\n",
       "        <Axes: title={'center': 'false negative rate'}, xlabel='majmin'>],\n",
       "       [<Axes: title={'center': 'selection rate'}, xlabel='majmin'>,\n",
       "        <Axes: title={'center': 'count'}, xlabel='majmin'>,\n",
       "        <Axes: xlabel='majmin'>]], dtype=object)"
      ]
     },
     "execution_count": 63,
     "metadata": {},
     "output_type": "execute_result"
    },
    {
     "data": {
      "image/png": "[encoded data removed]",
      "text/plain": [
       "<Figure size 1200x800 with 9 Axes>"
      ]
     },
     "metadata": {},
     "output_type": "display_data"
    }
   ],
   "source": [
    "# In a graphic\n",
    "metric_frame.by_group.plot.bar(\n",
    "    subplots=True,\n",
    "    layout=[3, 3],\n",
    "    legend=False,\n",
    "    figsize=[12, 8],\n",
    "    title=\"Show all metrics\",\n",
    ")"
   ]
  },
  {
   "cell_type": "markdown",
   "id": "f57a0bac",
   "metadata": {
    "papermill": {
     "duration": 0.031002,
     "end_time": "2025-08-05T16:20:06.084500",
     "exception": false,
     "start_time": "2025-08-05T16:20:06.053498",
     "status": "completed"
    },
    "tags": []
   },
   "source": [
    "# Final Output"
   ]
  },
  {
   "cell_type": "code",
   "execution_count": 64,
   "id": "96d280a3",
   "metadata": {
    "execution": {
     "iopub.execute_input": "2025-08-05T16:20:06.150607Z",
     "iopub.status.busy": "2025-08-05T16:20:06.149748Z",
     "iopub.status.idle": "2025-08-05T16:20:06.159949Z",
     "shell.execute_reply": "2025-08-05T16:20:06.158730Z"
    },
    "papermill": {
     "duration": 0.046688,
     "end_time": "2025-08-05T16:20:06.163195",
     "exception": false,
     "start_time": "2025-08-05T16:20:06.116507",
     "status": "completed"
    },
    "tags": []
   },
   "outputs": [
    {
     "data": {
      "text/plain": [
       "4"
      ]
     },
     "execution_count": 64,
     "metadata": {},
     "output_type": "execute_result"
    }
   ],
   "source": [
    "sub_universes = universe_analysis.generate_sub_universes()\n",
    "len(sub_universes)"
   ]
  },
  {
   "cell_type": "code",
   "execution_count": 65,
   "id": "92adf7ba",
   "metadata": {
    "execution": {
     "iopub.execute_input": "2025-08-05T16:20:06.230660Z",
     "iopub.status.busy": "2025-08-05T16:20:06.229779Z",
     "iopub.status.idle": "2025-08-05T16:20:06.239877Z",
     "shell.execute_reply": "2025-08-05T16:20:06.238862Z"
    },
    "papermill": {
     "duration": 0.045387,
     "end_time": "2025-08-05T16:20:06.241772",
     "exception": false,
     "start_time": "2025-08-05T16:20:06.196385",
     "status": "completed"
    },
    "tags": []
   },
   "outputs": [],
   "source": [
    "def filter_sub_universe_data(sub_universe, org_test):\n",
    "    # Keep all rows — no filtering\n",
    "    keep_rows_mask = np.ones(org_test.shape[0], dtype=bool)\n",
    "\n",
    "    print(f\"[INFO] Keeping all rows: {keep_rows_mask.sum()} rows retained.\")\n",
    "    return keep_rows_mask"
   ]
  },
  {
   "cell_type": "code",
   "execution_count": 66,
   "id": "4a759155",
   "metadata": {
    "execution": {
     "iopub.execute_input": "2025-08-05T16:20:06.301944Z",
     "iopub.status.busy": "2025-08-05T16:20:06.301486Z",
     "iopub.status.idle": "2025-08-05T16:20:13.939773Z",
     "shell.execute_reply": "2025-08-05T16:20:13.938777Z"
    },
    "papermill": {
     "duration": 7.666611,
     "end_time": "2025-08-05T16:20:13.941342",
     "exception": false,
     "start_time": "2025-08-05T16:20:06.274731",
     "status": "completed"
    },
    "tags": []
   },
   "outputs": [
    {
     "name": "stdout",
     "output_type": "stream",
     "text": [
      "Stopping execution_time clock.\n",
      "[INFO] Keeping all rows: 89710 rows retained.\n"
     ]
    },
    {
     "name": "stdout",
     "output_type": "stream",
     "text": [
      "[INFO] Keeping all rows: 89710 rows retained.\n"
     ]
    },
    {
     "name": "stdout",
     "output_type": "stream",
     "text": [
      "[INFO] Keeping all rows: 89710 rows retained.\n"
     ]
    },
    {
     "name": "stdout",
     "output_type": "stream",
     "text": [
      "[INFO] Keeping all rows: 89710 rows retained.\n"
     ]
    },
    {
     "data": {
      "text/html": [
       "<div>\n",
       "<style scoped>\n",
       "    .dataframe tbody tr th:only-of-type {\n",
       "        vertical-align: middle;\n",
       "    }\n",
       "\n",
       "    .dataframe tbody tr th {\n",
       "        vertical-align: top;\n",
       "    }\n",
       "\n",
       "    .dataframe thead th {\n",
       "        text-align: right;\n",
       "    }\n",
       "</style>\n",
       "<table border=\"1\" class=\"dataframe\">\n",
       "  <thead>\n",
       "    <tr style=\"text-align: right;\">\n",
       "      <th></th>\n",
       "      <th>run_no</th>\n",
       "      <th>universe_id</th>\n",
       "      <th>universe_settings</th>\n",
       "      <th>execution_time</th>\n",
       "      <th>test_size_n</th>\n",
       "      <th>test_size_frac</th>\n",
       "      <th>fair_main_equalized_odds_difference</th>\n",
       "      <th>fair_main_equalized_odds_ratio</th>\n",
       "      <th>fair_main_demographic_parity_difference</th>\n",
       "      <th>fair_main_demographic_parity_ratio</th>\n",
       "      <th>...</th>\n",
       "      <th>perf_grp_precision_0</th>\n",
       "      <th>perf_grp_precision_1</th>\n",
       "      <th>perf_grp_false positive rate_0</th>\n",
       "      <th>perf_grp_false positive rate_1</th>\n",
       "      <th>perf_grp_false negative rate_0</th>\n",
       "      <th>perf_grp_false negative rate_1</th>\n",
       "      <th>perf_grp_selection rate_0</th>\n",
       "      <th>perf_grp_selection rate_1</th>\n",
       "      <th>perf_grp_count_0</th>\n",
       "      <th>perf_grp_count_1</th>\n",
       "    </tr>\n",
       "  </thead>\n",
       "  <tbody>\n",
       "    <tr>\n",
       "      <th>0</th>\n",
       "      <td>15</td>\n",
       "      <td>d5b8e776be79f5bc57208014cf11356a</td>\n",
       "      <td>{\"cutoff\": \"quantile_0.1\", \"eval_fairness_grou...</td>\n",
       "      <td>39.108038</td>\n",
       "      <td>89710</td>\n",
       "      <td>1.0</td>\n",
       "      <td>0.050763</td>\n",
       "      <td>0.948591</td>\n",
       "      <td>0.024231</td>\n",
       "      <td>0.973861</td>\n",
       "      <td>...</td>\n",
       "      <td>NaN</td>\n",
       "      <td>NaN</td>\n",
       "      <td>NaN</td>\n",
       "      <td>NaN</td>\n",
       "      <td>NaN</td>\n",
       "      <td>NaN</td>\n",
       "      <td>NaN</td>\n",
       "      <td>NaN</td>\n",
       "      <td>NaN</td>\n",
       "      <td>NaN</td>\n",
       "    </tr>\n",
       "    <tr>\n",
       "      <th>0</th>\n",
       "      <td>15</td>\n",
       "      <td>d5b8e776be79f5bc57208014cf11356a</td>\n",
       "      <td>{\"cutoff\": \"quantile_0.1\", \"eval_fairness_grou...</td>\n",
       "      <td>39.108038</td>\n",
       "      <td>89710</td>\n",
       "      <td>1.0</td>\n",
       "      <td>0.050763</td>\n",
       "      <td>0.948591</td>\n",
       "      <td>0.024231</td>\n",
       "      <td>0.973861</td>\n",
       "      <td>...</td>\n",
       "      <td>0.119614</td>\n",
       "      <td>0.140750</td>\n",
       "      <td>0.89836</td>\n",
       "      <td>0.917808</td>\n",
       "      <td>0.063345</td>\n",
       "      <td>0.012582</td>\n",
       "      <td>0.902775</td>\n",
       "      <td>0.927006</td>\n",
       "      <td>20540.0</td>\n",
       "      <td>69170.0</td>\n",
       "    </tr>\n",
       "    <tr>\n",
       "      <th>0</th>\n",
       "      <td>15</td>\n",
       "      <td>d5b8e776be79f5bc57208014cf11356a</td>\n",
       "      <td>{\"cutoff\": \"quantile_0.25\", \"eval_fairness_gro...</td>\n",
       "      <td>39.108038</td>\n",
       "      <td>89710</td>\n",
       "      <td>1.0</td>\n",
       "      <td>0.124697</td>\n",
       "      <td>0.867365</td>\n",
       "      <td>0.051926</td>\n",
       "      <td>0.932469</td>\n",
       "      <td>...</td>\n",
       "      <td>NaN</td>\n",
       "      <td>NaN</td>\n",
       "      <td>NaN</td>\n",
       "      <td>NaN</td>\n",
       "      <td>NaN</td>\n",
       "      <td>NaN</td>\n",
       "      <td>NaN</td>\n",
       "      <td>NaN</td>\n",
       "      <td>NaN</td>\n",
       "      <td>NaN</td>\n",
       "    </tr>\n",
       "    <tr>\n",
       "      <th>0</th>\n",
       "      <td>15</td>\n",
       "      <td>d5b8e776be79f5bc57208014cf11356a</td>\n",
       "      <td>{\"cutoff\": \"quantile_0.25\", \"eval_fairness_gro...</td>\n",
       "      <td>39.108038</td>\n",
       "      <td>89710</td>\n",
       "      <td>1.0</td>\n",
       "      <td>0.124697</td>\n",
       "      <td>0.867365</td>\n",
       "      <td>0.051926</td>\n",
       "      <td>0.932469</td>\n",
       "      <td>...</td>\n",
       "      <td>0.131120</td>\n",
       "      <td>0.161565</td>\n",
       "      <td>0.70416</td>\n",
       "      <td>0.742845</td>\n",
       "      <td>0.184544</td>\n",
       "      <td>0.059847</td>\n",
       "      <td>0.716991</td>\n",
       "      <td>0.768917</td>\n",
       "      <td>20540.0</td>\n",
       "      <td>69170.0</td>\n",
       "    </tr>\n",
       "  </tbody>\n",
       "</table>\n",
       "<p>4 rows × 50 columns</p>\n",
       "</div>"
      ],
      "text/plain": [
       "  run_no                       universe_id  \\\n",
       "0     15  d5b8e776be79f5bc57208014cf11356a   \n",
       "0     15  d5b8e776be79f5bc57208014cf11356a   \n",
       "0     15  d5b8e776be79f5bc57208014cf11356a   \n",
       "0     15  d5b8e776be79f5bc57208014cf11356a   \n",
       "\n",
       "                                   universe_settings  execution_time  \\\n",
       "0  {\"cutoff\": \"quantile_0.1\", \"eval_fairness_grou...       39.108038   \n",
       "0  {\"cutoff\": \"quantile_0.1\", \"eval_fairness_grou...       39.108038   \n",
       "0  {\"cutoff\": \"quantile_0.25\", \"eval_fairness_gro...       39.108038   \n",
       "0  {\"cutoff\": \"quantile_0.25\", \"eval_fairness_gro...       39.108038   \n",
       "\n",
       "   test_size_n  test_size_frac  fair_main_equalized_odds_difference  \\\n",
       "0        89710             1.0                             0.050763   \n",
       "0        89710             1.0                             0.050763   \n",
       "0        89710             1.0                             0.124697   \n",
       "0        89710             1.0                             0.124697   \n",
       "\n",
       "   fair_main_equalized_odds_ratio  fair_main_demographic_parity_difference  \\\n",
       "0                        0.948591                                 0.024231   \n",
       "0                        0.948591                                 0.024231   \n",
       "0                        0.867365                                 0.051926   \n",
       "0                        0.867365                                 0.051926   \n",
       "\n",
       "   fair_main_demographic_parity_ratio  ...  perf_grp_precision_0  \\\n",
       "0                            0.973861  ...                   NaN   \n",
       "0                            0.973861  ...              0.119614   \n",
       "0                            0.932469  ...                   NaN   \n",
       "0                            0.932469  ...              0.131120   \n",
       "\n",
       "   perf_grp_precision_1  perf_grp_false positive rate_0  \\\n",
       "0                   NaN                             NaN   \n",
       "0              0.140750                         0.89836   \n",
       "0                   NaN                             NaN   \n",
       "0              0.161565                         0.70416   \n",
       "\n",
       "   perf_grp_false positive rate_1  perf_grp_false negative rate_0  \\\n",
       "0                             NaN                             NaN   \n",
       "0                        0.917808                        0.063345   \n",
       "0                             NaN                             NaN   \n",
       "0                        0.742845                        0.184544   \n",
       "\n",
       "   perf_grp_false negative rate_1  perf_grp_selection rate_0  \\\n",
       "0                             NaN                        NaN   \n",
       "0                        0.012582                   0.902775   \n",
       "0                             NaN                        NaN   \n",
       "0                        0.059847                   0.716991   \n",
       "\n",
       "   perf_grp_selection rate_1  perf_grp_count_0  perf_grp_count_1  \n",
       "0                        NaN               NaN               NaN  \n",
       "0                   0.927006           20540.0           69170.0  \n",
       "0                        NaN               NaN               NaN  \n",
       "0                   0.768917           20540.0           69170.0  \n",
       "\n",
       "[4 rows x 50 columns]"
      ]
     },
     "execution_count": 66,
     "metadata": {},
     "output_type": "execute_result"
    }
   ],
   "source": [
    "final_output = universe_analysis.generate_final_output(\n",
    "    y_pred_prob=probs_test,\n",
    "    y_test=y_true,\n",
    "    org_test=org_test,\n",
    "    filter_data=filter_sub_universe_data,\n",
    "    cp_metrics_df=cp_metrics_df,\n",
    "    save=True,\n",
    ")\n",
    "final_output"
   ]
  }
 ],
 "metadata": {
  "celltoolbar": "Tags",
  "kernelspec": {
   "display_name": "Python (CMA Fairness)",
   "language": "python",
   "name": "cma_fair_env"
  },
  "language_info": {
   "codemirror_mode": {
    "name": "ipython",
    "version": 3
   },
   "file_extension": ".py",
   "mimetype": "text/x-python",
   "name": "python",
   "nbconvert_exporter": "python",
   "pygments_lexer": "ipython3",
   "version": "3.10.12"
  },
  "papermill": {
   "default_parameters": {},
   "duration": 51.662102,
   "end_time": "2025-08-05T16:20:14.680693",
   "environment_variables": {},
   "exception": null,
   "input_path": "universe_analysis.ipynb",
   "output_path": "output/runs/15/notebooks/m_15-d5b8e776be79f5bc57208014cf11356a.ipynb",
   "parameters": {
    "output_dir": "output",
    "run_no": "15",
    "seed": "2023",
    "universe": "{\"cutoff\": [\"quantile_0.1\", \"quantile_0.25\"], \"eval_fairness_grouping\": [\"majority-minority\", \"nationality-all\"], \"exclude_features\": \"nationality-sex\", \"exclude_subgroups\": \"keep-all\", \"model\": \"rf\", \"scale\": \"scale\", \"training_size\": \"1k\", \"training_year\": \"2012_14\"}",
    "universe_id": "d5b8e776be79f5bc57208014cf11356a"
   },
   "start_time": "2025-08-05T16:19:23.018591",
   "version": "2.6.0"
  }
 },
 "nbformat": 4,
 "nbformat_minor": 5
}