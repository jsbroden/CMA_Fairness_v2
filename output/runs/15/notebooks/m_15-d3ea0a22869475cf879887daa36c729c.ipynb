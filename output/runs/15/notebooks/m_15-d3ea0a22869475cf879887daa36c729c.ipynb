{
 "cells": [
  {
   "cell_type": "code",
   "execution_count": 1,
   "id": "f159f837-637b-42ba-96b5-ec9a68c44524",
   "metadata": {
    "execution": {
     "iopub.execute_input": "2025-08-05T15:52:32.359804Z",
     "iopub.status.busy": "2025-08-05T15:52:32.359354Z",
     "iopub.status.idle": "2025-08-05T15:52:32.372713Z",
     "shell.execute_reply": "2025-08-05T15:52:32.371696Z"
    },
    "papermill": {
     "duration": 0.032403,
     "end_time": "2025-08-05T15:52:32.374253",
     "exception": false,
     "start_time": "2025-08-05T15:52:32.341850",
     "status": "completed"
    },
    "tags": []
   },
   "outputs": [
    {
     "name": "stdout",
     "output_type": "stream",
     "text": [
      "/dss/dsshome1/0C/ra93lal2/cma/CMA_Fairness_v2\n"
     ]
    },
    {
     "name": "stderr",
     "output_type": "stream",
     "text": [
      "/dss/dsshome1/0C/ra93lal2/.local/share/virtualenvs/CMA_Fairness_v2-3j10GkSs/lib/python3.10/site-packages/IPython/core/magics/osm.py:393: UserWarning: This is now an optional IPython functionality, using bookmarks requires you to install the `pickleshare` library.\n",
      "  bkms = self.shell.db.get('bookmarks', {})\n",
      "/dss/dsshome1/0C/ra93lal2/.local/share/virtualenvs/CMA_Fairness_v2-3j10GkSs/lib/python3.10/site-packages/IPython/core/magics/osm.py:417: UserWarning: This is now an optional IPython functionality, setting dhist requires you to install the `pickleshare` library.\n",
      "  self.shell.db['dhist'] = compress_dhist(dhist)[-100:]\n"
     ]
    }
   ],
   "source": [
    "%cd ~/cma/CMA_Fairness_v2"
   ]
  },
  {
   "cell_type": "markdown",
   "id": "de2603b9",
   "metadata": {
    "papermill": {
     "duration": 0.008133,
     "end_time": "2025-08-05T15:52:32.391563",
     "exception": false,
     "start_time": "2025-08-05T15:52:32.383430",
     "status": "completed"
    },
    "tags": []
   },
   "source": [
    "The following cell holds the definition of our parameters, these values can be overriden by rendering the with e.g. the following command:\n",
    "\n",
    "papermill -p alpha 0.2 -p ratio 0.3 universe_analysis.ipynb output/test_run.ipynb"
   ]
  },
  {
   "cell_type": "code",
   "execution_count": 2,
   "id": "a80968a0-40bb-4fa9-85ef-2d5eefb01975",
   "metadata": {
    "execution": {
     "iopub.execute_input": "2025-08-05T15:52:32.413979Z",
     "iopub.status.busy": "2025-08-05T15:52:32.413638Z",
     "iopub.status.idle": "2025-08-05T15:52:32.418663Z",
     "shell.execute_reply": "2025-08-05T15:52:32.417752Z"
    },
    "papermill": {
     "duration": 0.016078,
     "end_time": "2025-08-05T15:52:32.420143",
     "exception": false,
     "start_time": "2025-08-05T15:52:32.404065",
     "status": "completed"
    },
    "tags": []
   },
   "outputs": [
    {
     "name": "stdout",
     "output_type": "stream",
     "text": [
      "Current working directory: /dss/dsshome1/0C/ra93lal2/cma/CMA_Fairness_v2\n"
     ]
    }
   ],
   "source": [
    "import os\n",
    "print(\"Current working directory:\", os.getcwd())"
   ]
  },
  {
   "cell_type": "code",
   "execution_count": 3,
   "id": "2dce4c03",
   "metadata": {
    "execution": {
     "iopub.execute_input": "2025-08-05T15:52:32.439539Z",
     "iopub.status.busy": "2025-08-05T15:52:32.439037Z",
     "iopub.status.idle": "2025-08-05T15:52:32.444562Z",
     "shell.execute_reply": "2025-08-05T15:52:32.443441Z"
    },
    "papermill": {
     "duration": 0.017501,
     "end_time": "2025-08-05T15:52:32.446712",
     "exception": false,
     "start_time": "2025-08-05T15:52:32.429211",
     "status": "completed"
    },
    "tags": [
     "parameters"
    ]
   },
   "outputs": [],
   "source": [
    "run_no = 0\n",
    "universe_id = \"test\"\n",
    "universe = {\n",
    "    \"training_size\": \"25k\", # \"25k\", \"5k\", \"1k\"\n",
    "    \"training_year\": \"2014\", # \"2014\", \"2012_14\", \"2010_14\"\n",
    "    \"scale\": \"scale\", # \"scale\", \"do-not-scale\",\n",
    "    \"model\": \"elasticnet\", # \"logreg\", \"penalized_logreg\", \"rf\", \"gbm\", \"elasticnet\"\n",
    "    \"cutoff\": [\"quantile_0.15\", \"quantile_0.30\"],\n",
    "    \"exclude_features\": \"age\", # \"none\", \"nationality\", \"sex\", \"nationality-sex\", \"age\"\n",
    "    \"exclude_subgroups\": \"keep-all\", # \"keep-all\", \"drop-non-german\"\n",
    "    \"eval_fairness_grouping\": [\"majority-minority\", \"nationality-all\"]\n",
    "}\n",
    "\n",
    "output_dir=\"./output\"\n",
    "seed=0"
   ]
  },
  {
   "cell_type": "code",
   "execution_count": 4,
   "id": "4dbfa92a",
   "metadata": {
    "execution": {
     "iopub.execute_input": "2025-08-05T15:52:32.492974Z",
     "iopub.status.busy": "2025-08-05T15:52:32.492467Z",
     "iopub.status.idle": "2025-08-05T15:52:32.498366Z",
     "shell.execute_reply": "2025-08-05T15:52:32.497230Z"
    },
    "papermill": {
     "duration": 0.03359,
     "end_time": "2025-08-05T15:52:32.500285",
     "exception": false,
     "start_time": "2025-08-05T15:52:32.466695",
     "status": "completed"
    },
    "tags": [
     "injected-parameters"
    ]
   },
   "outputs": [],
   "source": [
    "# Parameters\n",
    "universe_id = \"d3ea0a22869475cf879887daa36c729c\"\n",
    "run_no = \"15\"\n",
    "universe = \"{\\\"cutoff\\\": [\\\"quantile_0.1\\\", \\\"quantile_0.25\\\"], \\\"eval_fairness_grouping\\\": [\\\"majority-minority\\\", \\\"nationality-all\\\"], \\\"exclude_features\\\": \\\"nationality-sex\\\", \\\"exclude_subgroups\\\": \\\"keep-all\\\", \\\"model\\\": \\\"gbm\\\", \\\"scale\\\": \\\"scale\\\", \\\"training_size\\\": \\\"5k\\\", \\\"training_year\\\": \\\"2010_14\\\"}\"\n",
    "output_dir = \"output\"\n",
    "seed = \"2023\"\n"
   ]
  },
  {
   "cell_type": "code",
   "execution_count": 5,
   "id": "1650acaf",
   "metadata": {
    "execution": {
     "iopub.execute_input": "2025-08-05T15:52:32.542073Z",
     "iopub.status.busy": "2025-08-05T15:52:32.541170Z",
     "iopub.status.idle": "2025-08-05T15:52:32.546793Z",
     "shell.execute_reply": "2025-08-05T15:52:32.545812Z"
    },
    "papermill": {
     "duration": 0.028009,
     "end_time": "2025-08-05T15:52:32.548701",
     "exception": false,
     "start_time": "2025-08-05T15:52:32.520692",
     "status": "completed"
    },
    "tags": []
   },
   "outputs": [],
   "source": [
    "import json\n",
    "if isinstance(universe, str):\n",
    "    universe = json.loads(universe)"
   ]
  },
  {
   "cell_type": "code",
   "execution_count": 6,
   "id": "16620c48",
   "metadata": {
    "execution": {
     "iopub.execute_input": "2025-08-05T15:52:32.594197Z",
     "iopub.status.busy": "2025-08-05T15:52:32.593384Z",
     "iopub.status.idle": "2025-08-05T15:52:32.638822Z",
     "shell.execute_reply": "2025-08-05T15:52:32.637759Z"
    },
    "papermill": {
     "duration": 0.072299,
     "end_time": "2025-08-05T15:52:32.640945",
     "exception": false,
     "start_time": "2025-08-05T15:52:32.568646",
     "status": "completed"
    },
    "tags": []
   },
   "outputs": [],
   "source": [
    "# Auto-reload the custom package\n",
    "%load_ext autoreload\n",
    "%autoreload 1\n",
    "%aimport fairness_multiverse"
   ]
  },
  {
   "cell_type": "code",
   "execution_count": 7,
   "id": "01c5c9f3",
   "metadata": {
    "execution": {
     "iopub.execute_input": "2025-08-05T15:52:32.683682Z",
     "iopub.status.busy": "2025-08-05T15:52:32.683048Z",
     "iopub.status.idle": "2025-08-05T15:52:34.554651Z",
     "shell.execute_reply": "2025-08-05T15:52:34.553848Z"
    },
    "papermill": {
     "duration": 1.893099,
     "end_time": "2025-08-05T15:52:34.556220",
     "exception": false,
     "start_time": "2025-08-05T15:52:32.663121",
     "status": "completed"
    },
    "tags": []
   },
   "outputs": [],
   "source": [
    "from fairness_multiverse.universe import UniverseAnalysis\n",
    "\n",
    "universe_analysis = UniverseAnalysis(\n",
    "    run_no = run_no,\n",
    "    universe_id = universe_id,\n",
    "    universe = universe,\n",
    "    output_dir=output_dir,\n",
    ")"
   ]
  },
  {
   "cell_type": "code",
   "execution_count": 8,
   "id": "106241f5",
   "metadata": {
    "execution": {
     "iopub.execute_input": "2025-08-05T15:52:34.579701Z",
     "iopub.status.busy": "2025-08-05T15:52:34.579331Z",
     "iopub.status.idle": "2025-08-05T15:52:34.584930Z",
     "shell.execute_reply": "2025-08-05T15:52:34.583904Z"
    },
    "papermill": {
     "duration": 0.01815,
     "end_time": "2025-08-05T15:52:34.587180",
     "exception": false,
     "start_time": "2025-08-05T15:52:34.569030",
     "status": "completed"
    },
    "tags": []
   },
   "outputs": [
    {
     "name": "stdout",
     "output_type": "stream",
     "text": [
      "Using Seed: 2023\n"
     ]
    }
   ],
   "source": [
    "import numpy as np\n",
    "parsed_seed = int(seed)\n",
    "np.random.seed(parsed_seed)\n",
    "print(f\"Using Seed: {parsed_seed}\")"
   ]
  },
  {
   "cell_type": "markdown",
   "id": "e0ebdc57",
   "metadata": {
    "papermill": {
     "duration": 0.009278,
     "end_time": "2025-08-05T15:52:34.606662",
     "exception": false,
     "start_time": "2025-08-05T15:52:34.597384",
     "status": "completed"
    },
    "tags": []
   },
   "source": [
    "# Loading Data"
   ]
  },
  {
   "cell_type": "code",
   "execution_count": 9,
   "id": "f0496b8a",
   "metadata": {
    "execution": {
     "iopub.execute_input": "2025-08-05T15:52:34.626981Z",
     "iopub.status.busy": "2025-08-05T15:52:34.626224Z",
     "iopub.status.idle": "2025-08-05T15:52:47.153032Z",
     "shell.execute_reply": "2025-08-05T15:52:47.152056Z"
    },
    "papermill": {
     "duration": 12.53867,
     "end_time": "2025-08-05T15:52:47.154600",
     "exception": false,
     "start_time": "2025-08-05T15:52:34.615930",
     "status": "completed"
    },
    "tags": []
   },
   "outputs": [
    {
     "name": "stdout",
     "output_type": "stream",
     "text": [
      "Loading SIAB data from cache: data/siab_cached.csv.gz\n"
     ]
    },
    {
     "name": "stdout",
     "output_type": "stream",
     "text": [
      "(643690, 164)\n"
     ]
    }
   ],
   "source": [
    "from pathlib import Path\n",
    "import pandas as pd\n",
    "\n",
    "# File paths\n",
    "raw_file = Path(\"data/raw/siab.csv\")\n",
    "cache_file = Path(\"data/siab_cached.csv.gz\")\n",
    "\n",
    "# Ensure cache directory exists\n",
    "cache_file.parent.mkdir(parents=True, exist_ok=True)\n",
    "\n",
    "# Load with simple caching\n",
    "if cache_file.exists():\n",
    "    print(f\"Loading SIAB data from cache: {cache_file}\")\n",
    "    siab = pd.read_csv(cache_file, compression='gzip')\n",
    "else:\n",
    "    print(f\"Cache not found. Reading raw SIAB data: {raw_file}\")\n",
    "    siab = pd.read_csv(raw_file)\n",
    "    siab.to_csv(cache_file, index=False, compression='gzip')\n",
    "    print(f\"Cached SIAB data to: {cache_file}\")\n",
    "\n",
    "print(siab.shape)"
   ]
  },
  {
   "cell_type": "code",
   "execution_count": 10,
   "id": "db0ca512-5f53-4dba-abdb-a2888bca41ba",
   "metadata": {
    "execution": {
     "iopub.execute_input": "2025-08-05T15:52:47.182013Z",
     "iopub.status.busy": "2025-08-05T15:52:47.181065Z",
     "iopub.status.idle": "2025-08-05T15:52:47.188131Z",
     "shell.execute_reply": "2025-08-05T15:52:47.186990Z"
    },
    "papermill": {
     "duration": 0.022532,
     "end_time": "2025-08-05T15:52:47.189780",
     "exception": false,
     "start_time": "2025-08-05T15:52:47.167248",
     "status": "completed"
    },
    "tags": []
   },
   "outputs": [],
   "source": [
    "#siab"
   ]
  },
  {
   "cell_type": "markdown",
   "id": "997051c5-15bd-4b69-9786-c3001a3ce484",
   "metadata": {
    "papermill": {
     "duration": 0.016863,
     "end_time": "2025-08-05T15:52:47.225193",
     "exception": false,
     "start_time": "2025-08-05T15:52:47.208330",
     "status": "completed"
    },
    "tags": []
   },
   "source": [
    "# Splitting Data and Setting Training Data Size"
   ]
  },
  {
   "cell_type": "code",
   "execution_count": 11,
   "id": "aea9c6ef-6f46-42c8-85eb-5a62025c1508",
   "metadata": {
    "execution": {
     "iopub.execute_input": "2025-08-05T15:52:47.263218Z",
     "iopub.status.busy": "2025-08-05T15:52:47.262697Z",
     "iopub.status.idle": "2025-08-05T15:52:48.436364Z",
     "shell.execute_reply": "2025-08-05T15:52:48.435348Z"
    },
    "papermill": {
     "duration": 1.193803,
     "end_time": "2025-08-05T15:52:48.438166",
     "exception": false,
     "start_time": "2025-08-05T15:52:47.244363",
     "status": "completed"
    },
    "tags": []
   },
   "outputs": [],
   "source": [
    "from fairness_multiverse.universe import sample_by_year_size\n",
    "\n",
    "siab_train = sample_by_year_size(siab,\n",
    "                               training_year=universe[\"training_year\"],\n",
    "                               training_size=universe[\"training_size\"])"
   ]
  },
  {
   "cell_type": "code",
   "execution_count": 12,
   "id": "8d3afb32-789d-442c-8d5d-9f5aa8dd2eed",
   "metadata": {
    "execution": {
     "iopub.execute_input": "2025-08-05T15:52:48.474165Z",
     "iopub.status.busy": "2025-08-05T15:52:48.473445Z",
     "iopub.status.idle": "2025-08-05T15:52:48.479050Z",
     "shell.execute_reply": "2025-08-05T15:52:48.478047Z"
    },
    "papermill": {
     "duration": 0.025157,
     "end_time": "2025-08-05T15:52:48.480793",
     "exception": false,
     "start_time": "2025-08-05T15:52:48.455636",
     "status": "completed"
    },
    "tags": []
   },
   "outputs": [],
   "source": [
    "#siab_train.shape"
   ]
  },
  {
   "cell_type": "code",
   "execution_count": 13,
   "id": "d582db68-1a4c-47fb-84fc-08518dc1975a",
   "metadata": {
    "execution": {
     "iopub.execute_input": "2025-08-05T15:52:48.523247Z",
     "iopub.status.busy": "2025-08-05T15:52:48.522770Z",
     "iopub.status.idle": "2025-08-05T15:52:48.528224Z",
     "shell.execute_reply": "2025-08-05T15:52:48.526963Z"
    },
    "papermill": {
     "duration": 0.030148,
     "end_time": "2025-08-05T15:52:48.530128",
     "exception": false,
     "start_time": "2025-08-05T15:52:48.499980",
     "status": "completed"
    },
    "tags": []
   },
   "outputs": [],
   "source": [
    "#display(siab_train.groupby(\"year\").size())"
   ]
  },
  {
   "cell_type": "code",
   "execution_count": 14,
   "id": "a561edb4-d032-42cb-8256-22eac1111c64",
   "metadata": {
    "execution": {
     "iopub.execute_input": "2025-08-05T15:52:48.568203Z",
     "iopub.status.busy": "2025-08-05T15:52:48.567474Z",
     "iopub.status.idle": "2025-08-05T15:52:48.841760Z",
     "shell.execute_reply": "2025-08-05T15:52:48.840932Z"
    },
    "papermill": {
     "duration": 0.294703,
     "end_time": "2025-08-05T15:52:48.843515",
     "exception": false,
     "start_time": "2025-08-05T15:52:48.548812",
     "status": "completed"
    },
    "tags": []
   },
   "outputs": [],
   "source": [
    "#siab_train = siab_s[siab_s.year < 2015]\n",
    "siab_calib = siab[siab.year == 2015]\n",
    "siab_test = siab[siab.year == 2016]"
   ]
  },
  {
   "cell_type": "code",
   "execution_count": 15,
   "id": "472de16f-c3db-4916-846b-1f0de9cf1746",
   "metadata": {
    "execution": {
     "iopub.execute_input": "2025-08-05T15:52:48.893461Z",
     "iopub.status.busy": "2025-08-05T15:52:48.893137Z",
     "iopub.status.idle": "2025-08-05T15:52:48.900887Z",
     "shell.execute_reply": "2025-08-05T15:52:48.899816Z"
    },
    "papermill": {
     "duration": 0.028583,
     "end_time": "2025-08-05T15:52:48.903013",
     "exception": false,
     "start_time": "2025-08-05T15:52:48.874430",
     "status": "completed"
    },
    "tags": []
   },
   "outputs": [],
   "source": [
    "X_train = siab_train.iloc[:,4:164]\n",
    "y_train = siab_train.iloc[:, [3]]"
   ]
  },
  {
   "cell_type": "code",
   "execution_count": 16,
   "id": "828c96af-f43a-4ed6-ba47-8ac73a47d56c",
   "metadata": {
    "execution": {
     "iopub.execute_input": "2025-08-05T15:52:48.941251Z",
     "iopub.status.busy": "2025-08-05T15:52:48.940457Z",
     "iopub.status.idle": "2025-08-05T15:52:48.992802Z",
     "shell.execute_reply": "2025-08-05T15:52:48.991635Z"
    },
    "papermill": {
     "duration": 0.073355,
     "end_time": "2025-08-05T15:52:48.994716",
     "exception": false,
     "start_time": "2025-08-05T15:52:48.921361",
     "status": "completed"
    },
    "tags": []
   },
   "outputs": [],
   "source": [
    "X_calib = siab_calib.iloc[:,4:164]\n",
    "y_calib = siab_calib.iloc[:, [3]]"
   ]
  },
  {
   "cell_type": "code",
   "execution_count": 17,
   "id": "c34be9c3-6bd6-476e-acd3-845840e303be",
   "metadata": {
    "execution": {
     "iopub.execute_input": "2025-08-05T15:52:49.032730Z",
     "iopub.status.busy": "2025-08-05T15:52:49.032336Z",
     "iopub.status.idle": "2025-08-05T15:52:49.087567Z",
     "shell.execute_reply": "2025-08-05T15:52:49.086269Z"
    },
    "papermill": {
     "duration": 0.07627,
     "end_time": "2025-08-05T15:52:49.089748",
     "exception": false,
     "start_time": "2025-08-05T15:52:49.013478",
     "status": "completed"
    },
    "tags": []
   },
   "outputs": [],
   "source": [
    "X_test = siab_test.iloc[:,4:164]\n",
    "y_true = siab_test.iloc[:, [3]]"
   ]
  },
  {
   "cell_type": "code",
   "execution_count": 18,
   "id": "e6c733c5",
   "metadata": {
    "execution": {
     "iopub.execute_input": "2025-08-05T15:52:49.135120Z",
     "iopub.status.busy": "2025-08-05T15:52:49.134393Z",
     "iopub.status.idle": "2025-08-05T15:52:49.233345Z",
     "shell.execute_reply": "2025-08-05T15:52:49.232248Z"
    },
    "papermill": {
     "duration": 0.123749,
     "end_time": "2025-08-05T15:52:49.235472",
     "exception": false,
     "start_time": "2025-08-05T15:52:49.111723",
     "status": "completed"
    },
    "tags": []
   },
   "outputs": [],
   "source": [
    "# Auxiliary data needed downstream in the pipeline\n",
    "\n",
    "org_train = X_train.copy()\n",
    "org_test = X_test.copy()\n",
    "org_calib = X_calib.copy()"
   ]
  },
  {
   "cell_type": "markdown",
   "id": "0a4a1b33",
   "metadata": {
    "papermill": {
     "duration": 0.021782,
     "end_time": "2025-08-05T15:52:49.276560",
     "exception": false,
     "start_time": "2025-08-05T15:52:49.254778",
     "status": "completed"
    },
    "tags": []
   },
   "source": [
    "# Preprocessing Data"
   ]
  },
  {
   "cell_type": "code",
   "execution_count": 19,
   "id": "ca879031",
   "metadata": {
    "execution": {
     "iopub.execute_input": "2025-08-05T15:52:49.319576Z",
     "iopub.status.busy": "2025-08-05T15:52:49.318897Z",
     "iopub.status.idle": "2025-08-05T15:52:49.326154Z",
     "shell.execute_reply": "2025-08-05T15:52:49.324968Z"
    },
    "papermill": {
     "duration": 0.032033,
     "end_time": "2025-08-05T15:52:49.328221",
     "exception": false,
     "start_time": "2025-08-05T15:52:49.296188",
     "status": "completed"
    },
    "tags": []
   },
   "outputs": [],
   "source": [
    "# EXCLUDE PROTECTED FEATURES\n",
    "# ----------------------\n",
    "# \"exclude_features\": \"none\", # \"nationality\", \"sex\", \"nationality-sex\"\n",
    "\n",
    "excluded_features = universe[\"exclude_features\"].split(\"-\") # split, e.g.: \"nationality-sex\" -> [\"nationality\", \"sex\"]\n",
    "excluded_features_dictionary = {\n",
    "    \"nationality\": [\"maxdeutsch1\", \"maxdeutsch.Missing.\"],\n",
    "    \"sex\": [\"frau1\"],\n",
    "    \"age\": [\"age\"],\n",
    "}"
   ]
  },
  {
   "cell_type": "code",
   "execution_count": 20,
   "id": "b745ac60",
   "metadata": {
    "execution": {
     "iopub.execute_input": "2025-08-05T15:52:49.369400Z",
     "iopub.status.busy": "2025-08-05T15:52:49.368704Z",
     "iopub.status.idle": "2025-08-05T15:52:49.375242Z",
     "shell.execute_reply": "2025-08-05T15:52:49.374094Z"
    },
    "papermill": {
     "duration": 0.028085,
     "end_time": "2025-08-05T15:52:49.377096",
     "exception": false,
     "start_time": "2025-08-05T15:52:49.349011",
     "status": "completed"
    },
    "tags": []
   },
   "outputs": [],
   "source": [
    "# Code nice names to column names\n",
    "\n",
    "excluded_features_columns = [\n",
    "    excluded_features_dictionary[f] for f in excluded_features if len(f) > 0 and f != \"none\"\n",
    "]"
   ]
  },
  {
   "cell_type": "code",
   "execution_count": 21,
   "id": "f84f73a2",
   "metadata": {
    "execution": {
     "iopub.execute_input": "2025-08-05T15:52:49.420504Z",
     "iopub.status.busy": "2025-08-05T15:52:49.419785Z",
     "iopub.status.idle": "2025-08-05T15:52:49.426901Z",
     "shell.execute_reply": "2025-08-05T15:52:49.425582Z"
    },
    "papermill": {
     "duration": 0.030128,
     "end_time": "2025-08-05T15:52:49.428489",
     "exception": false,
     "start_time": "2025-08-05T15:52:49.398361",
     "status": "completed"
    },
    "tags": []
   },
   "outputs": [],
   "source": [
    "from utils import flatten_once\n",
    "\n",
    "excluded_features_columns = flatten_once(excluded_features_columns)"
   ]
  },
  {
   "cell_type": "code",
   "execution_count": 22,
   "id": "884dea22",
   "metadata": {
    "execution": {
     "iopub.execute_input": "2025-08-05T15:52:49.471623Z",
     "iopub.status.busy": "2025-08-05T15:52:49.470832Z",
     "iopub.status.idle": "2025-08-05T15:52:49.480276Z",
     "shell.execute_reply": "2025-08-05T15:52:49.479304Z"
    },
    "papermill": {
     "duration": 0.031843,
     "end_time": "2025-08-05T15:52:49.481984",
     "exception": false,
     "start_time": "2025-08-05T15:52:49.450141",
     "status": "completed"
    },
    "tags": []
   },
   "outputs": [
    {
     "name": "stdout",
     "output_type": "stream",
     "text": [
      "Dropping features: ['maxdeutsch1', 'maxdeutsch.Missing.', 'frau1']\n"
     ]
    }
   ],
   "source": [
    "if len(excluded_features_columns) > 0:\n",
    "    print(f\"Dropping features: {excluded_features_columns}\")\n",
    "    X_train.drop(excluded_features_columns, axis=1, inplace=True)"
   ]
  },
  {
   "cell_type": "code",
   "execution_count": 23,
   "id": "95ab8b16",
   "metadata": {
    "execution": {
     "iopub.execute_input": "2025-08-05T15:52:49.527001Z",
     "iopub.status.busy": "2025-08-05T15:52:49.526143Z",
     "iopub.status.idle": "2025-08-05T15:52:49.582757Z",
     "shell.execute_reply": "2025-08-05T15:52:49.581575Z"
    },
    "papermill": {
     "duration": 0.080888,
     "end_time": "2025-08-05T15:52:49.584683",
     "exception": false,
     "start_time": "2025-08-05T15:52:49.503795",
     "status": "completed"
    },
    "tags": []
   },
   "outputs": [
    {
     "name": "stdout",
     "output_type": "stream",
     "text": [
      "Dropping features: ['maxdeutsch1', 'maxdeutsch.Missing.', 'frau1']\n"
     ]
    }
   ],
   "source": [
    "if len(excluded_features_columns) > 0:\n",
    "    print(f\"Dropping features: {excluded_features_columns}\")\n",
    "    X_test.drop(excluded_features_columns, axis=1, inplace=True)"
   ]
  },
  {
   "cell_type": "code",
   "execution_count": 24,
   "id": "1853aaf5-fb9f-46cb-a2b5-8ea4ae2237e4",
   "metadata": {
    "execution": {
     "iopub.execute_input": "2025-08-05T15:52:49.623886Z",
     "iopub.status.busy": "2025-08-05T15:52:49.623506Z",
     "iopub.status.idle": "2025-08-05T15:52:49.675507Z",
     "shell.execute_reply": "2025-08-05T15:52:49.674170Z"
    },
    "papermill": {
     "duration": 0.074827,
     "end_time": "2025-08-05T15:52:49.678748",
     "exception": false,
     "start_time": "2025-08-05T15:52:49.603921",
     "status": "completed"
    },
    "tags": []
   },
   "outputs": [
    {
     "name": "stdout",
     "output_type": "stream",
     "text": [
      "Dropping features: ['maxdeutsch1', 'maxdeutsch.Missing.', 'frau1']\n"
     ]
    }
   ],
   "source": [
    "if len(excluded_features_columns) > 0:\n",
    "    print(f\"Dropping features: {excluded_features_columns}\")\n",
    "    X_calib.drop(excluded_features_columns, axis=1, inplace=True)"
   ]
  },
  {
   "cell_type": "code",
   "execution_count": 25,
   "id": "76c4dc6d",
   "metadata": {
    "execution": {
     "iopub.execute_input": "2025-08-05T15:52:49.720183Z",
     "iopub.status.busy": "2025-08-05T15:52:49.719703Z",
     "iopub.status.idle": "2025-08-05T15:52:49.725130Z",
     "shell.execute_reply": "2025-08-05T15:52:49.724094Z"
    },
    "papermill": {
     "duration": 0.027387,
     "end_time": "2025-08-05T15:52:49.726711",
     "exception": false,
     "start_time": "2025-08-05T15:52:49.699324",
     "status": "completed"
    },
    "tags": []
   },
   "outputs": [],
   "source": [
    "# EXCLUDE CERTAIN SUBGROUPS\n",
    "# ----------------------\n",
    "\n",
    "mode = universe.get(\"exclude_subgroups\", \"keep-all\") \n",
    "# Fetches the exclude_subgroups setting from the universe dict.\n",
    "# Defaults to \"keep-all\" if the key is missing."
   ]
  },
  {
   "cell_type": "code",
   "execution_count": 26,
   "id": "21994072",
   "metadata": {
    "execution": {
     "iopub.execute_input": "2025-08-05T15:52:49.749649Z",
     "iopub.status.busy": "2025-08-05T15:52:49.749303Z",
     "iopub.status.idle": "2025-08-05T15:52:49.754963Z",
     "shell.execute_reply": "2025-08-05T15:52:49.753758Z"
    },
    "papermill": {
     "duration": 0.018545,
     "end_time": "2025-08-05T15:52:49.756701",
     "exception": false,
     "start_time": "2025-08-05T15:52:49.738156",
     "status": "completed"
    },
    "tags": []
   },
   "outputs": [],
   "source": [
    "if mode == \"keep-all\":\n",
    "    keep_mask = pd.Series(True, index=org_train.index)\n",
    "\n",
    "# org_train contains the original feature columns from features_org (in Simson)\n",
    "# features_org contains unprocessed features, for me X_train at beginning ???\n",
    "# For keep-all, creates a boolean Series (keep_mask) of all True, so no rows are removed.\n",
    "\n",
    "elif mode == \"drop-non-german\":\n",
    "    keep_mask = org_train[\"maxdeutsch1\"] == 1 # ??? what about missing values?\n",
    "\n",
    "else:\n",
    "    raise ValueError(f\"Unsupported mode for exclude_subgroups: {mode}\")"
   ]
  },
  {
   "cell_type": "code",
   "execution_count": 27,
   "id": "71651440",
   "metadata": {
    "execution": {
     "iopub.execute_input": "2025-08-05T15:52:49.780400Z",
     "iopub.status.busy": "2025-08-05T15:52:49.779866Z",
     "iopub.status.idle": "2025-08-05T15:52:49.785501Z",
     "shell.execute_reply": "2025-08-05T15:52:49.784627Z"
    },
    "papermill": {
     "duration": 0.019195,
     "end_time": "2025-08-05T15:52:49.787118",
     "exception": false,
     "start_time": "2025-08-05T15:52:49.767923",
     "status": "completed"
    },
    "tags": []
   },
   "outputs": [],
   "source": [
    "n_drop = (~keep_mask).sum() # Calculates how many rows are set to be dropped\n",
    "if n_drop > 0:\n",
    "    pct = n_drop / len(keep_mask) * 100\n",
    "    print(f\"Dropping {n_drop} rows ({pct:.2f}%) where mode='{mode}'\")"
   ]
  },
  {
   "cell_type": "code",
   "execution_count": 28,
   "id": "5fb8eee5",
   "metadata": {
    "execution": {
     "iopub.execute_input": "2025-08-05T15:52:49.808465Z",
     "iopub.status.busy": "2025-08-05T15:52:49.808019Z",
     "iopub.status.idle": "2025-08-05T15:52:49.828960Z",
     "shell.execute_reply": "2025-08-05T15:52:49.828053Z"
    },
    "papermill": {
     "duration": 0.033049,
     "end_time": "2025-08-05T15:52:49.830643",
     "exception": false,
     "start_time": "2025-08-05T15:52:49.797594",
     "status": "completed"
    },
    "tags": []
   },
   "outputs": [],
   "source": [
    "X_train = X_train[keep_mask]"
   ]
  },
  {
   "cell_type": "code",
   "execution_count": 29,
   "id": "b202bb3a",
   "metadata": {
    "execution": {
     "iopub.execute_input": "2025-08-05T15:52:49.854769Z",
     "iopub.status.busy": "2025-08-05T15:52:49.854165Z",
     "iopub.status.idle": "2025-08-05T15:52:49.859439Z",
     "shell.execute_reply": "2025-08-05T15:52:49.858525Z"
    },
    "papermill": {
     "duration": 0.018457,
     "end_time": "2025-08-05T15:52:49.860877",
     "exception": false,
     "start_time": "2025-08-05T15:52:49.842420",
     "status": "completed"
    },
    "tags": []
   },
   "outputs": [],
   "source": [
    "y_train = y_train[keep_mask]"
   ]
  },
  {
   "cell_type": "markdown",
   "id": "493e2ac3",
   "metadata": {
    "papermill": {
     "duration": 0.019137,
     "end_time": "2025-08-05T15:52:49.891191",
     "exception": false,
     "start_time": "2025-08-05T15:52:49.872054",
     "status": "completed"
    },
    "tags": []
   },
   "source": [
    "# Model Training"
   ]
  },
  {
   "cell_type": "code",
   "execution_count": 30,
   "id": "679e1268",
   "metadata": {
    "execution": {
     "iopub.execute_input": "2025-08-05T15:52:49.936051Z",
     "iopub.status.busy": "2025-08-05T15:52:49.935524Z",
     "iopub.status.idle": "2025-08-05T15:52:50.064824Z",
     "shell.execute_reply": "2025-08-05T15:52:50.063760Z"
    },
    "papermill": {
     "duration": 0.154798,
     "end_time": "2025-08-05T15:52:50.067137",
     "exception": false,
     "start_time": "2025-08-05T15:52:49.912339",
     "status": "completed"
    },
    "tags": []
   },
   "outputs": [],
   "source": [
    "from sklearn.linear_model import LogisticRegression\n",
    "from sklearn.ensemble import GradientBoostingClassifier, RandomForestClassifier\n",
    "\n",
    "if (universe[\"model\"] == \"logreg\"):\n",
    "    model = LogisticRegression() #penalty=\"none\", solver=\"newton-cg\", max_iter=1) # include random_state=19 ?\n",
    "elif (universe[\"model\"] == \"penalized_logreg\"):\n",
    "    model = LogisticRegression(penalty=\"l2\", C=0.1) #, solver=\"newton-cg\", max_iter=1)\n",
    "elif (universe[\"model\"] == \"rf\"):\n",
    "    model = RandomForestClassifier() # n_estimators=100, n_jobs=-1\n",
    "elif (universe[\"model\"] == \"gbm\"):\n",
    "    model = GradientBoostingClassifier()\n",
    "elif (universe[\"model\"] == \"elasticnet\"):\n",
    "    model = LogisticRegression(penalty = 'elasticnet', solver = 'saga', l1_ratio = 0.5) # max_iter=5000\n",
    "else:\n",
    "    raise \"Unsupported universe.model\""
   ]
  },
  {
   "cell_type": "code",
   "execution_count": 31,
   "id": "0cc8f744",
   "metadata": {
    "execution": {
     "iopub.execute_input": "2025-08-05T15:52:50.112988Z",
     "iopub.status.busy": "2025-08-05T15:52:50.112376Z",
     "iopub.status.idle": "2025-08-05T15:52:50.118560Z",
     "shell.execute_reply": "2025-08-05T15:52:50.117462Z"
    },
    "papermill": {
     "duration": 0.030854,
     "end_time": "2025-08-05T15:52:50.120419",
     "exception": false,
     "start_time": "2025-08-05T15:52:50.089565",
     "status": "completed"
    },
    "tags": []
   },
   "outputs": [],
   "source": [
    "import numpy as np\n",
    "from sklearn.pipeline import Pipeline\n",
    "from sklearn.preprocessing import StandardScaler\n",
    "\n",
    "model = Pipeline([\n",
    "    #(\"continuous_processor\", continuous_processor),\n",
    "    #(\"categorical_preprocessor\", categorical_preprocessor),\n",
    "    (\"scale\", StandardScaler() if universe[\"scale\"] == \"scale\" else None), \n",
    "    (\"model\", model),\n",
    "])"
   ]
  },
  {
   "cell_type": "code",
   "execution_count": 32,
   "id": "9442c04d",
   "metadata": {
    "execution": {
     "iopub.execute_input": "2025-08-05T15:52:50.161284Z",
     "iopub.status.busy": "2025-08-05T15:52:50.160934Z",
     "iopub.status.idle": "2025-08-05T15:52:55.127517Z",
     "shell.execute_reply": "2025-08-05T15:52:55.126515Z"
    },
    "papermill": {
     "duration": 4.98765,
     "end_time": "2025-08-05T15:52:55.129385",
     "exception": false,
     "start_time": "2025-08-05T15:52:50.141735",
     "status": "completed"
    },
    "tags": []
   },
   "outputs": [
    {
     "data": {
      "text/html": [
       "<style>#sk-container-id-1 {color: black;background-color: white;}#sk-container-id-1 pre{padding: 0;}#sk-container-id-1 div.sk-toggleable {background-color: white;}#sk-container-id-1 label.sk-toggleable__label {cursor: pointer;display: block;width: 100%;margin-bottom: 0;padding: 0.3em;box-sizing: border-box;text-align: center;}#sk-container-id-1 label.sk-toggleable__label-arrow:before {content: \"▸\";float: left;margin-right: 0.25em;color: #696969;}#sk-container-id-1 label.sk-toggleable__label-arrow:hover:before {color: black;}#sk-container-id-1 div.sk-estimator:hover label.sk-toggleable__label-arrow:before {color: black;}#sk-container-id-1 div.sk-toggleable__content {max-height: 0;max-width: 0;overflow: hidden;text-align: left;background-color: #f0f8ff;}#sk-container-id-1 div.sk-toggleable__content pre {margin: 0.2em;color: black;border-radius: 0.25em;background-color: #f0f8ff;}#sk-container-id-1 input.sk-toggleable__control:checked~div.sk-toggleable__content {max-height: 200px;max-width: 100%;overflow: auto;}#sk-container-id-1 input.sk-toggleable__control:checked~label.sk-toggleable__label-arrow:before {content: \"▾\";}#sk-container-id-1 div.sk-estimator input.sk-toggleable__control:checked~label.sk-toggleable__label {background-color: #d4ebff;}#sk-container-id-1 div.sk-label input.sk-toggleable__control:checked~label.sk-toggleable__label {background-color: #d4ebff;}#sk-container-id-1 input.sk-hidden--visually {border: 0;clip: rect(1px 1px 1px 1px);clip: rect(1px, 1px, 1px, 1px);height: 1px;margin: -1px;overflow: hidden;padding: 0;position: absolute;width: 1px;}#sk-container-id-1 div.sk-estimator {font-family: monospace;background-color: #f0f8ff;border: 1px dotted black;border-radius: 0.25em;box-sizing: border-box;margin-bottom: 0.5em;}#sk-container-id-1 div.sk-estimator:hover {background-color: #d4ebff;}#sk-container-id-1 div.sk-parallel-item::after {content: \"\";width: 100%;border-bottom: 1px solid gray;flex-grow: 1;}#sk-container-id-1 div.sk-label:hover label.sk-toggleable__label {background-color: #d4ebff;}#sk-container-id-1 div.sk-serial::before {content: \"\";position: absolute;border-left: 1px solid gray;box-sizing: border-box;top: 0;bottom: 0;left: 50%;z-index: 0;}#sk-container-id-1 div.sk-serial {display: flex;flex-direction: column;align-items: center;background-color: white;padding-right: 0.2em;padding-left: 0.2em;position: relative;}#sk-container-id-1 div.sk-item {position: relative;z-index: 1;}#sk-container-id-1 div.sk-parallel {display: flex;align-items: stretch;justify-content: center;background-color: white;position: relative;}#sk-container-id-1 div.sk-item::before, #sk-container-id-1 div.sk-parallel-item::before {content: \"\";position: absolute;border-left: 1px solid gray;box-sizing: border-box;top: 0;bottom: 0;left: 50%;z-index: -1;}#sk-container-id-1 div.sk-parallel-item {display: flex;flex-direction: column;z-index: 1;position: relative;background-color: white;}#sk-container-id-1 div.sk-parallel-item:first-child::after {align-self: flex-end;width: 50%;}#sk-container-id-1 div.sk-parallel-item:last-child::after {align-self: flex-start;width: 50%;}#sk-container-id-1 div.sk-parallel-item:only-child::after {width: 0;}#sk-container-id-1 div.sk-dashed-wrapped {border: 1px dashed gray;margin: 0 0.4em 0.5em 0.4em;box-sizing: border-box;padding-bottom: 0.4em;background-color: white;}#sk-container-id-1 div.sk-label label {font-family: monospace;font-weight: bold;display: inline-block;line-height: 1.2em;}#sk-container-id-1 div.sk-label-container {text-align: center;}#sk-container-id-1 div.sk-container {/* jupyter's `normalize.less` sets `[hidden] { display: none; }` but bootstrap.min.css set `[hidden] { display: none !important; }` so we also need the `!important` here to be able to override the default hidden behavior on the sphinx rendered scikit-learn.org. See: https://github.com/scikit-learn/scikit-learn/issues/21755 */display: inline-block !important;position: relative;}#sk-container-id-1 div.sk-text-repr-fallback {display: none;}</style><div id=\"sk-container-id-1\" class=\"sk-top-container\"><div class=\"sk-text-repr-fallback\"><pre>Pipeline(steps=[(&#x27;scale&#x27;, StandardScaler()),\n",
       "                (&#x27;model&#x27;, GradientBoostingClassifier())])</pre><b>In a Jupyter environment, please rerun this cell to show the HTML representation or trust the notebook. <br />On GitHub, the HTML representation is unable to render, please try loading this page with nbviewer.org.</b></div><div class=\"sk-container\" hidden><div class=\"sk-item sk-dashed-wrapped\"><div class=\"sk-label-container\"><div class=\"sk-label sk-toggleable\"><input class=\"sk-toggleable__control sk-hidden--visually\" id=\"sk-estimator-id-1\" type=\"checkbox\" ><label for=\"sk-estimator-id-1\" class=\"sk-toggleable__label sk-toggleable__label-arrow\">Pipeline</label><div class=\"sk-toggleable__content\"><pre>Pipeline(steps=[(&#x27;scale&#x27;, StandardScaler()),\n",
       "                (&#x27;model&#x27;, GradientBoostingClassifier())])</pre></div></div></div><div class=\"sk-serial\"><div class=\"sk-item\"><div class=\"sk-estimator sk-toggleable\"><input class=\"sk-toggleable__control sk-hidden--visually\" id=\"sk-estimator-id-2\" type=\"checkbox\" ><label for=\"sk-estimator-id-2\" class=\"sk-toggleable__label sk-toggleable__label-arrow\">StandardScaler</label><div class=\"sk-toggleable__content\"><pre>StandardScaler()</pre></div></div></div><div class=\"sk-item\"><div class=\"sk-estimator sk-toggleable\"><input class=\"sk-toggleable__control sk-hidden--visually\" id=\"sk-estimator-id-3\" type=\"checkbox\" ><label for=\"sk-estimator-id-3\" class=\"sk-toggleable__label sk-toggleable__label-arrow\">GradientBoostingClassifier</label><div class=\"sk-toggleable__content\"><pre>GradientBoostingClassifier()</pre></div></div></div></div></div></div></div>"
      ],
      "text/plain": [
       "Pipeline(steps=[('scale', StandardScaler()),\n",
       "                ('model', GradientBoostingClassifier())])"
      ]
     },
     "execution_count": 32,
     "metadata": {},
     "output_type": "execute_result"
    }
   ],
   "source": [
    "model.fit(X_train, y_train.values.ravel())"
   ]
  },
  {
   "cell_type": "code",
   "execution_count": 33,
   "id": "af59f8c0",
   "metadata": {
    "execution": {
     "iopub.execute_input": "2025-08-05T15:52:55.178188Z",
     "iopub.status.busy": "2025-08-05T15:52:55.177298Z",
     "iopub.status.idle": "2025-08-05T15:52:55.183393Z",
     "shell.execute_reply": "2025-08-05T15:52:55.182283Z"
    },
    "papermill": {
     "duration": 0.030162,
     "end_time": "2025-08-05T15:52:55.185394",
     "exception": false,
     "start_time": "2025-08-05T15:52:55.155232",
     "status": "completed"
    },
    "tags": []
   },
   "outputs": [],
   "source": [
    "from fairness_multiverse.universe import predict_w_threshold"
   ]
  },
  {
   "cell_type": "code",
   "execution_count": 34,
   "id": "a7cf2e16",
   "metadata": {
    "execution": {
     "iopub.execute_input": "2025-08-05T15:52:55.232992Z",
     "iopub.status.busy": "2025-08-05T15:52:55.232520Z",
     "iopub.status.idle": "2025-08-05T15:52:55.955813Z",
     "shell.execute_reply": "2025-08-05T15:52:55.954913Z"
    },
    "papermill": {
     "duration": 0.748014,
     "end_time": "2025-08-05T15:52:55.957396",
     "exception": false,
     "start_time": "2025-08-05T15:52:55.209382",
     "status": "completed"
    },
    "tags": []
   },
   "outputs": [
    {
     "data": {
      "text/plain": [
       "0.8603946048378107"
      ]
     },
     "execution_count": 34,
     "metadata": {},
     "output_type": "execute_result"
    }
   ],
   "source": [
    "probs_test = model.predict_proba(X_test)\n",
    "\n",
    "'''\n",
    "Below code returns a boolean array (or binary 0/1 array depending on how it’s used) where each element \n",
    "is True if the probability of class 1 is greater than or equal to the threshold, and False otherwise.\n",
    "'''\n",
    "y_pred_default = predict_w_threshold(probs_test, 0.5)\n",
    "\n",
    "from sklearn.metrics import accuracy_score\n",
    "\n",
    "# Naive prediction\n",
    "accuracy_score(y_true = y_true, y_pred = y_pred_default)"
   ]
  },
  {
   "cell_type": "code",
   "execution_count": 35,
   "id": "081964c3",
   "metadata": {
    "execution": {
     "iopub.execute_input": "2025-08-05T15:52:55.996817Z",
     "iopub.status.busy": "2025-08-05T15:52:55.996197Z",
     "iopub.status.idle": "2025-08-05T15:52:56.631786Z",
     "shell.execute_reply": "2025-08-05T15:52:56.630914Z"
    },
    "papermill": {
     "duration": 0.656366,
     "end_time": "2025-08-05T15:52:56.633427",
     "exception": false,
     "start_time": "2025-08-05T15:52:55.977061",
     "status": "completed"
    },
    "tags": []
   },
   "outputs": [
    {
     "data": {
      "text/plain": [
       "array([0, 0, 0, ..., 0, 0, 0])"
      ]
     },
     "execution_count": 35,
     "metadata": {},
     "output_type": "execute_result"
    }
   ],
   "source": [
    "model.predict(X_test)"
   ]
  },
  {
   "cell_type": "markdown",
   "id": "56c9705b",
   "metadata": {
    "papermill": {
     "duration": 0.020612,
     "end_time": "2025-08-05T15:52:56.676666",
     "exception": false,
     "start_time": "2025-08-05T15:52:56.656054",
     "status": "completed"
    },
    "tags": []
   },
   "source": [
    "# Conformal Prediction"
   ]
  },
  {
   "cell_type": "code",
   "execution_count": 36,
   "id": "160ec6ff",
   "metadata": {
    "execution": {
     "iopub.execute_input": "2025-08-05T15:52:56.719374Z",
     "iopub.status.busy": "2025-08-05T15:52:56.718407Z",
     "iopub.status.idle": "2025-08-05T15:52:56.723903Z",
     "shell.execute_reply": "2025-08-05T15:52:56.722905Z"
    },
    "papermill": {
     "duration": 0.028437,
     "end_time": "2025-08-05T15:52:56.725540",
     "exception": false,
     "start_time": "2025-08-05T15:52:56.697103",
     "status": "completed"
    },
    "tags": []
   },
   "outputs": [],
   "source": [
    "# Miscoverage level for conformal prediction (10% allowed error rate => 90% target coverage)\n",
    "alpha = 0.1"
   ]
  },
  {
   "cell_type": "code",
   "execution_count": 37,
   "id": "eadf4555-3dd3-440e-8e35-f82a4ad9f855",
   "metadata": {
    "execution": {
     "iopub.execute_input": "2025-08-05T15:52:56.768226Z",
     "iopub.status.busy": "2025-08-05T15:52:56.767286Z",
     "iopub.status.idle": "2025-08-05T15:52:57.443435Z",
     "shell.execute_reply": "2025-08-05T15:52:57.442331Z"
    },
    "papermill": {
     "duration": 0.69925,
     "end_time": "2025-08-05T15:52:57.445420",
     "exception": false,
     "start_time": "2025-08-05T15:52:56.746170",
     "status": "completed"
    },
    "tags": []
   },
   "outputs": [],
   "source": [
    "probs_calib = model.predict_proba(X_calib)"
   ]
  },
  {
   "cell_type": "code",
   "execution_count": 38,
   "id": "2ed93547-6d5d-4983-9b36-1ecb300da49a",
   "metadata": {
    "execution": {
     "iopub.execute_input": "2025-08-05T15:52:57.489275Z",
     "iopub.status.busy": "2025-08-05T15:52:57.488316Z",
     "iopub.status.idle": "2025-08-05T15:52:57.494566Z",
     "shell.execute_reply": "2025-08-05T15:52:57.493565Z"
    },
    "papermill": {
     "duration": 0.029812,
     "end_time": "2025-08-05T15:52:57.496330",
     "exception": false,
     "start_time": "2025-08-05T15:52:57.466518",
     "status": "completed"
    },
    "tags": []
   },
   "outputs": [],
   "source": [
    "y_calib = y_calib.values.ravel().astype(int)"
   ]
  },
  {
   "cell_type": "code",
   "execution_count": 39,
   "id": "65d1320d-f588-4b38-9072-62af1ae97f7d",
   "metadata": {
    "execution": {
     "iopub.execute_input": "2025-08-05T15:52:57.539598Z",
     "iopub.status.busy": "2025-08-05T15:52:57.538908Z",
     "iopub.status.idle": "2025-08-05T15:52:57.546672Z",
     "shell.execute_reply": "2025-08-05T15:52:57.545618Z"
    },
    "papermill": {
     "duration": 0.031496,
     "end_time": "2025-08-05T15:52:57.548536",
     "exception": false,
     "start_time": "2025-08-05T15:52:57.517040",
     "status": "completed"
    },
    "tags": []
   },
   "outputs": [],
   "source": [
    "from fairness_multiverse.conformal import compute_nc_scores\n",
    "\n",
    "# Compute nonconformity scores on calibration set (1 - probability of true class)\n",
    "nc_scores = compute_nc_scores(probs_calib, y_calib)"
   ]
  },
  {
   "cell_type": "code",
   "execution_count": 40,
   "id": "df3b8ca3-53b7-43d5-9667-7c85da7aeda2",
   "metadata": {
    "execution": {
     "iopub.execute_input": "2025-08-05T15:52:57.589862Z",
     "iopub.status.busy": "2025-08-05T15:52:57.589050Z",
     "iopub.status.idle": "2025-08-05T15:52:57.596561Z",
     "shell.execute_reply": "2025-08-05T15:52:57.595532Z"
    },
    "papermill": {
     "duration": 0.029792,
     "end_time": "2025-08-05T15:52:57.598473",
     "exception": false,
     "start_time": "2025-08-05T15:52:57.568681",
     "status": "completed"
    },
    "tags": []
   },
   "outputs": [],
   "source": [
    "from fairness_multiverse.conformal import find_threshold\n",
    "\n",
    "# Find conformal threshold q_hat for the given alpha (split conformal method)\n",
    "q_hat = find_threshold(nc_scores, alpha)"
   ]
  },
  {
   "cell_type": "code",
   "execution_count": 41,
   "id": "4d29e6c1-0ef6-4aa4-b8fe-4fe79b0d033a",
   "metadata": {
    "execution": {
     "iopub.execute_input": "2025-08-05T15:52:57.642125Z",
     "iopub.status.busy": "2025-08-05T15:52:57.641306Z",
     "iopub.status.idle": "2025-08-05T15:52:57.649797Z",
     "shell.execute_reply": "2025-08-05T15:52:57.648678Z"
    },
    "papermill": {
     "duration": 0.031193,
     "end_time": "2025-08-05T15:52:57.651633",
     "exception": false,
     "start_time": "2025-08-05T15:52:57.620440",
     "status": "completed"
    },
    "tags": []
   },
   "outputs": [
    {
     "data": {
      "text/plain": [
       "0.6828784431176221"
      ]
     },
     "execution_count": 41,
     "metadata": {},
     "output_type": "execute_result"
    }
   ],
   "source": [
    "q_hat"
   ]
  },
  {
   "cell_type": "code",
   "execution_count": 42,
   "id": "92460794-cdac-4be2-ba28-f28c0515a6fb",
   "metadata": {
    "execution": {
     "iopub.execute_input": "2025-08-05T15:52:57.696854Z",
     "iopub.status.busy": "2025-08-05T15:52:57.696024Z",
     "iopub.status.idle": "2025-08-05T15:52:59.005315Z",
     "shell.execute_reply": "2025-08-05T15:52:59.004562Z"
    },
    "papermill": {
     "duration": 1.333079,
     "end_time": "2025-08-05T15:52:59.006794",
     "exception": false,
     "start_time": "2025-08-05T15:52:57.673715",
     "status": "completed"
    },
    "tags": []
   },
   "outputs": [],
   "source": [
    "from fairness_multiverse.conformal import predict_conformal_sets\n",
    "\n",
    "# Generate prediction sets for each test example\n",
    "pred_sets = predict_conformal_sets(model, X_test, q_hat)"
   ]
  },
  {
   "cell_type": "code",
   "execution_count": 43,
   "id": "d90c9a65-e6db-4f5d-80cd-e68fb7e46829",
   "metadata": {
    "execution": {
     "iopub.execute_input": "2025-08-05T15:52:59.029933Z",
     "iopub.status.busy": "2025-08-05T15:52:59.029565Z",
     "iopub.status.idle": "2025-08-05T15:52:59.034207Z",
     "shell.execute_reply": "2025-08-05T15:52:59.033362Z"
    },
    "papermill": {
     "duration": 0.017745,
     "end_time": "2025-08-05T15:52:59.035573",
     "exception": false,
     "start_time": "2025-08-05T15:52:59.017828",
     "status": "completed"
    },
    "tags": []
   },
   "outputs": [],
   "source": [
    "y_true = y_true.squeeze()"
   ]
  },
  {
   "cell_type": "code",
   "execution_count": 44,
   "id": "3a58a54a-1e68-46b9-927a-df01f18aebc8",
   "metadata": {
    "execution": {
     "iopub.execute_input": "2025-08-05T15:52:59.088542Z",
     "iopub.status.busy": "2025-08-05T15:52:59.087586Z",
     "iopub.status.idle": "2025-08-05T15:53:00.001370Z",
     "shell.execute_reply": "2025-08-05T15:53:00.000394Z"
    },
    "papermill": {
     "duration": 0.944579,
     "end_time": "2025-08-05T15:53:00.003433",
     "exception": false,
     "start_time": "2025-08-05T15:52:59.058854",
     "status": "completed"
    },
    "tags": []
   },
   "outputs": [],
   "source": [
    "from fairness_multiverse.conformal import evaluate_sets\n",
    "\n",
    "# Evaluate coverage and average set size on test data\n",
    "metrics = evaluate_sets(pred_sets, y_true)"
   ]
  },
  {
   "cell_type": "markdown",
   "id": "2b569c12-9aaa-4c88-98c9-bbcd0cf3ebb8",
   "metadata": {
    "papermill": {
     "duration": 0.018709,
     "end_time": "2025-08-05T15:53:00.042300",
     "exception": false,
     "start_time": "2025-08-05T15:53:00.023591",
     "status": "completed"
    },
    "tags": []
   },
   "source": [
    "# CP Metrics"
   ]
  },
  {
   "cell_type": "code",
   "execution_count": 45,
   "id": "5ce0a5cb-201f-45a0-ade5-94c7f0bd6095",
   "metadata": {
    "execution": {
     "iopub.execute_input": "2025-08-05T15:53:00.083567Z",
     "iopub.status.busy": "2025-08-05T15:53:00.082857Z",
     "iopub.status.idle": "2025-08-05T15:53:00.090733Z",
     "shell.execute_reply": "2025-08-05T15:53:00.089616Z"
    },
    "papermill": {
     "duration": 0.0312,
     "end_time": "2025-08-05T15:53:00.092728",
     "exception": false,
     "start_time": "2025-08-05T15:53:00.061528",
     "status": "completed"
    },
    "tags": []
   },
   "outputs": [
    {
     "data": {
      "text/plain": [
       "{'coverage': 0.911113588228737, 'avg_size': 1.13277226619106}"
      ]
     },
     "execution_count": 45,
     "metadata": {},
     "output_type": "execute_result"
    }
   ],
   "source": [
    "metrics"
   ]
  },
  {
   "cell_type": "code",
   "execution_count": 46,
   "id": "9b9a838d-31c9-430b-ae14-12baee460d17",
   "metadata": {
    "execution": {
     "iopub.execute_input": "2025-08-05T15:53:00.137863Z",
     "iopub.status.busy": "2025-08-05T15:53:00.137301Z",
     "iopub.status.idle": "2025-08-05T15:53:00.144521Z",
     "shell.execute_reply": "2025-08-05T15:53:00.143492Z"
    },
    "papermill": {
     "duration": 0.029542,
     "end_time": "2025-08-05T15:53:00.146197",
     "exception": false,
     "start_time": "2025-08-05T15:53:00.116655",
     "status": "completed"
    },
    "tags": []
   },
   "outputs": [],
   "source": [
    "example_universe = universe.copy()\n",
    "universe_training_year = example_universe.get(\"training_year\")\n",
    "universe_training_size = example_universe.get(\"training_size\")\n",
    "universe_scale = example_universe.get(\"scale\")\n",
    "universe_model = example_universe.get(\"model\")\n",
    "universe_exclude_features = example_universe.get(\"exclude_features\")\n",
    "universe_exclude_subgroups = example_universe.get(\"exclude_subgroups\")"
   ]
  },
  {
   "cell_type": "code",
   "execution_count": 47,
   "id": "f4b6a8ac-9dc0-4245-8a91-5b3b5999c4f9",
   "metadata": {
    "execution": {
     "iopub.execute_input": "2025-08-05T15:53:00.188008Z",
     "iopub.status.busy": "2025-08-05T15:53:00.187033Z",
     "iopub.status.idle": "2025-08-05T15:53:00.193903Z",
     "shell.execute_reply": "2025-08-05T15:53:00.192970Z"
    },
    "papermill": {
     "duration": 0.029216,
     "end_time": "2025-08-05T15:53:00.195634",
     "exception": false,
     "start_time": "2025-08-05T15:53:00.166418",
     "status": "completed"
    },
    "tags": []
   },
   "outputs": [],
   "source": [
    "cp_metrics_dict = {\n",
    "    \"universe_id\": [universe_id],\n",
    "    \"universe_training_year\": [universe_training_year],\n",
    "    \"universe_training_size\": [universe_training_size],\n",
    "    \"universe_scale\": [universe_scale],\n",
    "    \"universe_model\": [universe_model],\n",
    "    \"universe_exclude_features\": [universe_exclude_features],\n",
    "    \"universe_exclude_subgroups\": [universe_exclude_subgroups],\n",
    "    \"q_hat\": [q_hat],\n",
    "    \"coverage\": [metrics[\"coverage\"]],\n",
    "    \"avg_size\": [metrics[\"avg_size\"]],\n",
    "}"
   ]
  },
  {
   "cell_type": "code",
   "execution_count": 48,
   "id": "908acbb1-0371-4915-85ca-3fa520d2efe2",
   "metadata": {
    "execution": {
     "iopub.execute_input": "2025-08-05T15:53:00.238207Z",
     "iopub.status.busy": "2025-08-05T15:53:00.237534Z",
     "iopub.status.idle": "2025-08-05T15:53:00.245295Z",
     "shell.execute_reply": "2025-08-05T15:53:00.244372Z"
    },
    "papermill": {
     "duration": 0.030086,
     "end_time": "2025-08-05T15:53:00.247074",
     "exception": false,
     "start_time": "2025-08-05T15:53:00.216988",
     "status": "completed"
    },
    "tags": []
   },
   "outputs": [
    {
     "data": {
      "text/plain": [
       "{'universe_id': ['d3ea0a22869475cf879887daa36c729c'],\n",
       " 'universe_training_year': ['2010_14'],\n",
       " 'universe_training_size': ['5k'],\n",
       " 'universe_scale': ['scale'],\n",
       " 'universe_model': ['gbm'],\n",
       " 'universe_exclude_features': ['nationality-sex'],\n",
       " 'universe_exclude_subgroups': ['keep-all'],\n",
       " 'q_hat': [0.6828784431176221],\n",
       " 'coverage': [0.911113588228737],\n",
       " 'avg_size': [1.13277226619106]}"
      ]
     },
     "execution_count": 48,
     "metadata": {},
     "output_type": "execute_result"
    }
   ],
   "source": [
    "cp_metrics_dict"
   ]
  },
  {
   "cell_type": "code",
   "execution_count": 49,
   "id": "33007efc-14e9-4ec6-97ac-56a455c82265",
   "metadata": {
    "execution": {
     "iopub.execute_input": "2025-08-05T15:53:00.289109Z",
     "iopub.status.busy": "2025-08-05T15:53:00.288310Z",
     "iopub.status.idle": "2025-08-05T15:53:00.294881Z",
     "shell.execute_reply": "2025-08-05T15:53:00.293972Z"
    },
    "papermill": {
     "duration": 0.029095,
     "end_time": "2025-08-05T15:53:00.296564",
     "exception": false,
     "start_time": "2025-08-05T15:53:00.267469",
     "status": "completed"
    },
    "tags": []
   },
   "outputs": [],
   "source": [
    "cp_metrics_df = pd.DataFrame(cp_metrics_dict)"
   ]
  },
  {
   "cell_type": "code",
   "execution_count": 50,
   "id": "db12611b-57b2-4910-b9d0-355adfd6e7bf",
   "metadata": {
    "execution": {
     "iopub.execute_input": "2025-08-05T15:53:00.340226Z",
     "iopub.status.busy": "2025-08-05T15:53:00.339580Z",
     "iopub.status.idle": "2025-08-05T15:53:00.359923Z",
     "shell.execute_reply": "2025-08-05T15:53:00.358883Z"
    },
    "papermill": {
     "duration": 0.043802,
     "end_time": "2025-08-05T15:53:00.361542",
     "exception": false,
     "start_time": "2025-08-05T15:53:00.317740",
     "status": "completed"
    },
    "tags": []
   },
   "outputs": [
    {
     "data": {
      "text/html": [
       "<div>\n",
       "<style scoped>\n",
       "    .dataframe tbody tr th:only-of-type {\n",
       "        vertical-align: middle;\n",
       "    }\n",
       "\n",
       "    .dataframe tbody tr th {\n",
       "        vertical-align: top;\n",
       "    }\n",
       "\n",
       "    .dataframe thead th {\n",
       "        text-align: right;\n",
       "    }\n",
       "</style>\n",
       "<table border=\"1\" class=\"dataframe\">\n",
       "  <thead>\n",
       "    <tr style=\"text-align: right;\">\n",
       "      <th></th>\n",
       "      <th>universe_id</th>\n",
       "      <th>universe_training_year</th>\n",
       "      <th>universe_training_size</th>\n",
       "      <th>universe_scale</th>\n",
       "      <th>universe_model</th>\n",
       "      <th>universe_exclude_features</th>\n",
       "      <th>universe_exclude_subgroups</th>\n",
       "      <th>q_hat</th>\n",
       "      <th>coverage</th>\n",
       "      <th>avg_size</th>\n",
       "    </tr>\n",
       "  </thead>\n",
       "  <tbody>\n",
       "    <tr>\n",
       "      <th>0</th>\n",
       "      <td>d3ea0a22869475cf879887daa36c729c</td>\n",
       "      <td>2010_14</td>\n",
       "      <td>5k</td>\n",
       "      <td>scale</td>\n",
       "      <td>gbm</td>\n",
       "      <td>nationality-sex</td>\n",
       "      <td>keep-all</td>\n",
       "      <td>0.682878</td>\n",
       "      <td>0.911114</td>\n",
       "      <td>1.132772</td>\n",
       "    </tr>\n",
       "  </tbody>\n",
       "</table>\n",
       "</div>"
      ],
      "text/plain": [
       "                        universe_id universe_training_year  \\\n",
       "0  d3ea0a22869475cf879887daa36c729c                2010_14   \n",
       "\n",
       "  universe_training_size universe_scale universe_model  \\\n",
       "0                     5k          scale            gbm   \n",
       "\n",
       "  universe_exclude_features universe_exclude_subgroups     q_hat  coverage  \\\n",
       "0           nationality-sex                   keep-all  0.682878  0.911114   \n",
       "\n",
       "   avg_size  \n",
       "0  1.132772  "
      ]
     },
     "execution_count": 50,
     "metadata": {},
     "output_type": "execute_result"
    }
   ],
   "source": [
    "cp_metrics_df"
   ]
  },
  {
   "cell_type": "code",
   "execution_count": 51,
   "id": "b7fbde55-a0a1-47e4-9af6-fe4a17fa8c61",
   "metadata": {
    "execution": {
     "iopub.execute_input": "2025-08-05T15:53:00.405305Z",
     "iopub.status.busy": "2025-08-05T15:53:00.404612Z",
     "iopub.status.idle": "2025-08-05T15:53:00.410930Z",
     "shell.execute_reply": "2025-08-05T15:53:00.409785Z"
    },
    "papermill": {
     "duration": 0.029299,
     "end_time": "2025-08-05T15:53:00.412974",
     "exception": false,
     "start_time": "2025-08-05T15:53:00.383675",
     "status": "completed"
    },
    "tags": []
   },
   "outputs": [],
   "source": [
    "# Conditional Coverage & looking at subgroups"
   ]
  },
  {
   "cell_type": "code",
   "execution_count": 52,
   "id": "027ae886-68dd-4141-96c7-805a5450e1ef",
   "metadata": {
    "execution": {
     "iopub.execute_input": "2025-08-05T15:53:00.459310Z",
     "iopub.status.busy": "2025-08-05T15:53:00.458580Z",
     "iopub.status.idle": "2025-08-05T15:53:00.725957Z",
     "shell.execute_reply": "2025-08-05T15:53:00.724992Z"
    },
    "papermill": {
     "duration": 0.290942,
     "end_time": "2025-08-05T15:53:00.727907",
     "exception": false,
     "start_time": "2025-08-05T15:53:00.436965",
     "status": "completed"
    },
    "tags": []
   },
   "outputs": [],
   "source": [
    "from fairness_multiverse.conformal import build_cp_groups\n",
    "\n",
    "cp_groups_df = build_cp_groups(pred_sets, y_true, X_test.index, org_test)\n",
    "#needs universe_id and setting"
   ]
  },
  {
   "cell_type": "code",
   "execution_count": 53,
   "id": "6cbdab96-b2b2-45af-ad54-d0516db2e28d",
   "metadata": {
    "execution": {
     "iopub.execute_input": "2025-08-05T15:53:00.771975Z",
     "iopub.status.busy": "2025-08-05T15:53:00.771334Z",
     "iopub.status.idle": "2025-08-05T15:53:02.437549Z",
     "shell.execute_reply": "2025-08-05T15:53:02.436531Z"
    },
    "papermill": {
     "duration": 1.689265,
     "end_time": "2025-08-05T15:53:02.439495",
     "exception": false,
     "start_time": "2025-08-05T15:53:00.750230",
     "status": "completed"
    },
    "tags": []
   },
   "outputs": [],
   "source": [
    "# Define covered = 1 if true_label is in the predicted set\n",
    "cp_groups_df['covered'] = cp_groups_df.apply(\n",
    "    lambda r: int(r['true_label'] in r['pred_set']),\n",
    "    axis=1\n",
    ")"
   ]
  },
  {
   "cell_type": "code",
   "execution_count": 54,
   "id": "338ff529-1a6b-4b87-a931-8e4788d52aad",
   "metadata": {
    "execution": {
     "iopub.execute_input": "2025-08-05T15:53:02.485973Z",
     "iopub.status.busy": "2025-08-05T15:53:02.485070Z",
     "iopub.status.idle": "2025-08-05T15:53:02.490526Z",
     "shell.execute_reply": "2025-08-05T15:53:02.489526Z"
    },
    "papermill": {
     "duration": 0.029182,
     "end_time": "2025-08-05T15:53:02.492297",
     "exception": false,
     "start_time": "2025-08-05T15:53:02.463115",
     "status": "completed"
    },
    "tags": []
   },
   "outputs": [],
   "source": [
    "#cp_groups_df"
   ]
  },
  {
   "cell_type": "code",
   "execution_count": 55,
   "id": "90032e27-66df-4540-9169-4e89cfbaa758",
   "metadata": {
    "execution": {
     "iopub.execute_input": "2025-08-05T15:53:02.539226Z",
     "iopub.status.busy": "2025-08-05T15:53:02.538739Z",
     "iopub.status.idle": "2025-08-05T15:53:02.551001Z",
     "shell.execute_reply": "2025-08-05T15:53:02.549953Z"
    },
    "papermill": {
     "duration": 0.037093,
     "end_time": "2025-08-05T15:53:02.552979",
     "exception": false,
     "start_time": "2025-08-05T15:53:02.515886",
     "status": "completed"
    },
    "tags": []
   },
   "outputs": [],
   "source": [
    "subgroups = ['frau1','nongerman','nongerman_male','nongerman_female']\n",
    "\n",
    "# Conditional coverage for subgroup==1\n",
    "cond_coverage = {\n",
    "    g: cp_groups_df.loc[cp_groups_df[g]==1, 'covered'].mean()\n",
    "    for g in subgroups\n",
    "}"
   ]
  },
  {
   "cell_type": "code",
   "execution_count": 56,
   "id": "1e348fb1-b9c3-45bc-ba23-f016827a7e0d",
   "metadata": {
    "execution": {
     "iopub.execute_input": "2025-08-05T15:53:02.600238Z",
     "iopub.status.busy": "2025-08-05T15:53:02.599541Z",
     "iopub.status.idle": "2025-08-05T15:53:02.607129Z",
     "shell.execute_reply": "2025-08-05T15:53:02.606062Z"
    },
    "papermill": {
     "duration": 0.032316,
     "end_time": "2025-08-05T15:53:02.608806",
     "exception": false,
     "start_time": "2025-08-05T15:53:02.576490",
     "status": "completed"
    },
    "tags": []
   },
   "outputs": [
    {
     "data": {
      "text/plain": [
       "{'frau1': 0.9113896751583771,\n",
       " 'nongerman': 0.9110761803177455,\n",
       " 'nongerman_male': 0.9256957579032694,\n",
       " 'nongerman_female': 0.8868852459016393}"
      ]
     },
     "execution_count": 56,
     "metadata": {},
     "output_type": "execute_result"
    }
   ],
   "source": [
    "cond_coverage"
   ]
  },
  {
   "cell_type": "code",
   "execution_count": 57,
   "id": "f5093324-c3dd-4d63-bc4c-8d945e5c8bbb",
   "metadata": {
    "execution": {
     "iopub.execute_input": "2025-08-05T15:53:02.658870Z",
     "iopub.status.busy": "2025-08-05T15:53:02.658146Z",
     "iopub.status.idle": "2025-08-05T15:53:02.666975Z",
     "shell.execute_reply": "2025-08-05T15:53:02.665926Z"
    },
    "papermill": {
     "duration": 0.036716,
     "end_time": "2025-08-05T15:53:02.668737",
     "exception": false,
     "start_time": "2025-08-05T15:53:02.632021",
     "status": "completed"
    },
    "tags": []
   },
   "outputs": [],
   "source": [
    "for subgroup, cov in cond_coverage.items():\n",
    "    cp_metrics_df[f\"cov_{subgroup}\"] = cov"
   ]
  },
  {
   "cell_type": "code",
   "execution_count": 58,
   "id": "6e872e10-dbe5-49e8-b554-5030c98ff75d",
   "metadata": {
    "execution": {
     "iopub.execute_input": "2025-08-05T15:53:02.716886Z",
     "iopub.status.busy": "2025-08-05T15:53:02.716193Z",
     "iopub.status.idle": "2025-08-05T15:53:02.735242Z",
     "shell.execute_reply": "2025-08-05T15:53:02.734323Z"
    },
    "papermill": {
     "duration": 0.045426,
     "end_time": "2025-08-05T15:53:02.737106",
     "exception": false,
     "start_time": "2025-08-05T15:53:02.691680",
     "status": "completed"
    },
    "tags": []
   },
   "outputs": [
    {
     "data": {
      "text/html": [
       "<div>\n",
       "<style scoped>\n",
       "    .dataframe tbody tr th:only-of-type {\n",
       "        vertical-align: middle;\n",
       "    }\n",
       "\n",
       "    .dataframe tbody tr th {\n",
       "        vertical-align: top;\n",
       "    }\n",
       "\n",
       "    .dataframe thead th {\n",
       "        text-align: right;\n",
       "    }\n",
       "</style>\n",
       "<table border=\"1\" class=\"dataframe\">\n",
       "  <thead>\n",
       "    <tr style=\"text-align: right;\">\n",
       "      <th></th>\n",
       "      <th>universe_id</th>\n",
       "      <th>universe_training_year</th>\n",
       "      <th>universe_training_size</th>\n",
       "      <th>universe_scale</th>\n",
       "      <th>universe_model</th>\n",
       "      <th>universe_exclude_features</th>\n",
       "      <th>universe_exclude_subgroups</th>\n",
       "      <th>q_hat</th>\n",
       "      <th>coverage</th>\n",
       "      <th>avg_size</th>\n",
       "      <th>cov_frau1</th>\n",
       "      <th>cov_nongerman</th>\n",
       "      <th>cov_nongerman_male</th>\n",
       "      <th>cov_nongerman_female</th>\n",
       "    </tr>\n",
       "  </thead>\n",
       "  <tbody>\n",
       "    <tr>\n",
       "      <th>0</th>\n",
       "      <td>d3ea0a22869475cf879887daa36c729c</td>\n",
       "      <td>2010_14</td>\n",
       "      <td>5k</td>\n",
       "      <td>scale</td>\n",
       "      <td>gbm</td>\n",
       "      <td>nationality-sex</td>\n",
       "      <td>keep-all</td>\n",
       "      <td>0.682878</td>\n",
       "      <td>0.911114</td>\n",
       "      <td>1.132772</td>\n",
       "      <td>0.91139</td>\n",
       "      <td>0.911076</td>\n",
       "      <td>0.925696</td>\n",
       "      <td>0.886885</td>\n",
       "    </tr>\n",
       "  </tbody>\n",
       "</table>\n",
       "</div>"
      ],
      "text/plain": [
       "                        universe_id universe_training_year  \\\n",
       "0  d3ea0a22869475cf879887daa36c729c                2010_14   \n",
       "\n",
       "  universe_training_size universe_scale universe_model  \\\n",
       "0                     5k          scale            gbm   \n",
       "\n",
       "  universe_exclude_features universe_exclude_subgroups     q_hat  coverage  \\\n",
       "0           nationality-sex                   keep-all  0.682878  0.911114   \n",
       "\n",
       "   avg_size  cov_frau1  cov_nongerman  cov_nongerman_male  \\\n",
       "0  1.132772    0.91139       0.911076            0.925696   \n",
       "\n",
       "   cov_nongerman_female  \n",
       "0              0.886885  "
      ]
     },
     "execution_count": 58,
     "metadata": {},
     "output_type": "execute_result"
    }
   ],
   "source": [
    "cp_metrics_df"
   ]
  },
  {
   "cell_type": "markdown",
   "id": "33774451",
   "metadata": {
    "papermill": {
     "duration": 0.024275,
     "end_time": "2025-08-05T15:53:02.784822",
     "exception": false,
     "start_time": "2025-08-05T15:53:02.760547",
     "status": "completed"
    },
    "tags": []
   },
   "source": [
    "# (Fairness) Metrics"
   ]
  },
  {
   "cell_type": "code",
   "execution_count": 59,
   "id": "debc5d62",
   "metadata": {
    "execution": {
     "iopub.execute_input": "2025-08-05T15:53:02.833388Z",
     "iopub.status.busy": "2025-08-05T15:53:02.832705Z",
     "iopub.status.idle": "2025-08-05T15:53:02.855154Z",
     "shell.execute_reply": "2025-08-05T15:53:02.854125Z"
    },
    "papermill": {
     "duration": 0.048433,
     "end_time": "2025-08-05T15:53:02.857071",
     "exception": false,
     "start_time": "2025-08-05T15:53:02.808638",
     "status": "completed"
    },
    "tags": []
   },
   "outputs": [],
   "source": [
    "# do I need to include maxdeutsch1.missing?\n",
    "\n",
    "import numpy as np\n",
    "\n",
    "colname_to_bin = \"maxdeutsch1\"\n",
    "majority_value = org_train[colname_to_bin].mode()[0]\n",
    "\n",
    "org_test[\"majmin\"] = np.where(org_test[colname_to_bin] == majority_value, \"majority\", \"minority\")"
   ]
  },
  {
   "cell_type": "code",
   "execution_count": 60,
   "id": "06a50de5",
   "metadata": {
    "execution": {
     "iopub.execute_input": "2025-08-05T15:53:02.906440Z",
     "iopub.status.busy": "2025-08-05T15:53:02.905751Z",
     "iopub.status.idle": "2025-08-05T15:53:05.707412Z",
     "shell.execute_reply": "2025-08-05T15:53:05.706439Z"
    },
    "papermill": {
     "duration": 2.828346,
     "end_time": "2025-08-05T15:53:05.709282",
     "exception": false,
     "start_time": "2025-08-05T15:53:02.880936",
     "status": "completed"
    },
    "tags": []
   },
   "outputs": [],
   "source": [
    "example_universe = universe.copy()\n",
    "example_universe[\"cutoff\"] = example_universe[\"cutoff\"][0]\n",
    "example_universe[\"eval_fairness_grouping\"] = example_universe[\"eval_fairness_grouping\"][0]\n",
    "fairness_dict, metric_frame = universe_analysis.compute_metrics(\n",
    "    example_universe,\n",
    "    y_pred_prob=probs_test,\n",
    "    y_test=y_true,\n",
    "    org_test=org_test,\n",
    ")"
   ]
  },
  {
   "cell_type": "markdown",
   "id": "f95d4e02",
   "metadata": {
    "papermill": {
     "duration": 0.020836,
     "end_time": "2025-08-05T15:53:05.752622",
     "exception": false,
     "start_time": "2025-08-05T15:53:05.731786",
     "status": "completed"
    },
    "tags": []
   },
   "source": [
    "# Overall"
   ]
  },
  {
   "cell_type": "markdown",
   "id": "bdee4871",
   "metadata": {
    "papermill": {
     "duration": 0.021296,
     "end_time": "2025-08-05T15:53:05.796019",
     "exception": false,
     "start_time": "2025-08-05T15:53:05.774723",
     "status": "completed"
    },
    "tags": []
   },
   "source": [
    "Fairness\n",
    "Main fairness target: Equalized Odds. Seems to be a better fit than equal opportunity, since we're not only interested in Y = 1. Seems to be a better fit than demographic parity, since we also care about accuracy, not just equal distribution of preds.\n",
    "\n",
    "Pick column for computation of fairness metrics\n",
    "\n",
    "Performance\n",
    "Overall performance measures, most interesting in relation to the measures split by group below"
   ]
  },
  {
   "cell_type": "code",
   "execution_count": 61,
   "id": "c4e067c6",
   "metadata": {
    "execution": {
     "iopub.execute_input": "2025-08-05T15:53:05.841160Z",
     "iopub.status.busy": "2025-08-05T15:53:05.840252Z",
     "iopub.status.idle": "2025-08-05T15:53:05.849208Z",
     "shell.execute_reply": "2025-08-05T15:53:05.848218Z"
    },
    "papermill": {
     "duration": 0.033927,
     "end_time": "2025-08-05T15:53:05.850860",
     "exception": false,
     "start_time": "2025-08-05T15:53:05.816933",
     "status": "completed"
    },
    "tags": []
   },
   "outputs": [
    {
     "data": {
      "text/plain": [
       "accuracy                   0.224501\n",
       "balanced accuracy          0.549521\n",
       "f1                         0.246099\n",
       "precision                  0.140581\n",
       "false positive rate        0.887663\n",
       "false negative rate        0.013295\n",
       "selection rate             0.900368\n",
       "count                  89710.000000\n",
       "dtype: float64"
      ]
     },
     "execution_count": 61,
     "metadata": {},
     "output_type": "execute_result"
    }
   ],
   "source": [
    "metric_frame.overall"
   ]
  },
  {
   "cell_type": "markdown",
   "id": "e968fe9d",
   "metadata": {
    "papermill": {
     "duration": 0.022471,
     "end_time": "2025-08-05T15:53:05.895666",
     "exception": false,
     "start_time": "2025-08-05T15:53:05.873195",
     "status": "completed"
    },
    "tags": []
   },
   "source": [
    "By Group"
   ]
  },
  {
   "cell_type": "code",
   "execution_count": 62,
   "id": "ec325bce",
   "metadata": {
    "execution": {
     "iopub.execute_input": "2025-08-05T15:53:05.941235Z",
     "iopub.status.busy": "2025-08-05T15:53:05.940438Z",
     "iopub.status.idle": "2025-08-05T15:53:05.960596Z",
     "shell.execute_reply": "2025-08-05T15:53:05.959358Z"
    },
    "papermill": {
     "duration": 0.045394,
     "end_time": "2025-08-05T15:53:05.962390",
     "exception": false,
     "start_time": "2025-08-05T15:53:05.916996",
     "status": "completed"
    },
    "tags": []
   },
   "outputs": [
    {
     "data": {
      "text/html": [
       "<div>\n",
       "<style scoped>\n",
       "    .dataframe tbody tr th:only-of-type {\n",
       "        vertical-align: middle;\n",
       "    }\n",
       "\n",
       "    .dataframe tbody tr th {\n",
       "        vertical-align: top;\n",
       "    }\n",
       "\n",
       "    .dataframe thead th {\n",
       "        text-align: right;\n",
       "    }\n",
       "</style>\n",
       "<table border=\"1\" class=\"dataframe\">\n",
       "  <thead>\n",
       "    <tr style=\"text-align: right;\">\n",
       "      <th></th>\n",
       "      <th>accuracy</th>\n",
       "      <th>balanced accuracy</th>\n",
       "      <th>f1</th>\n",
       "      <th>precision</th>\n",
       "      <th>false positive rate</th>\n",
       "      <th>false negative rate</th>\n",
       "      <th>selection rate</th>\n",
       "      <th>count</th>\n",
       "    </tr>\n",
       "    <tr>\n",
       "      <th>majmin</th>\n",
       "      <th></th>\n",
       "      <th></th>\n",
       "      <th></th>\n",
       "      <th></th>\n",
       "      <th></th>\n",
       "      <th></th>\n",
       "      <th></th>\n",
       "      <th></th>\n",
       "    </tr>\n",
       "  </thead>\n",
       "  <tbody>\n",
       "    <tr>\n",
       "      <th>majority</th>\n",
       "      <td>0.243661</td>\n",
       "      <td>0.557991</td>\n",
       "      <td>0.256093</td>\n",
       "      <td>0.147174</td>\n",
       "      <td>0.869249</td>\n",
       "      <td>0.014770</td>\n",
       "      <td>0.884574</td>\n",
       "      <td>69170.0</td>\n",
       "    </tr>\n",
       "    <tr>\n",
       "      <th>minority</th>\n",
       "      <td>0.159981</td>\n",
       "      <td>0.521953</td>\n",
       "      <td>0.214084</td>\n",
       "      <td>0.119984</td>\n",
       "      <td>0.948492</td>\n",
       "      <td>0.007601</td>\n",
       "      <td>0.953554</td>\n",
       "      <td>20540.0</td>\n",
       "    </tr>\n",
       "  </tbody>\n",
       "</table>\n",
       "</div>"
      ],
      "text/plain": [
       "          accuracy  balanced accuracy        f1  precision  \\\n",
       "majmin                                                       \n",
       "majority  0.243661           0.557991  0.256093   0.147174   \n",
       "minority  0.159981           0.521953  0.214084   0.119984   \n",
       "\n",
       "          false positive rate  false negative rate  selection rate    count  \n",
       "majmin                                                                       \n",
       "majority             0.869249             0.014770        0.884574  69170.0  \n",
       "minority             0.948492             0.007601        0.953554  20540.0  "
      ]
     },
     "execution_count": 62,
     "metadata": {},
     "output_type": "execute_result"
    }
   ],
   "source": [
    "metric_frame.by_group"
   ]
  },
  {
   "cell_type": "code",
   "execution_count": 63,
   "id": "a9ddbe63",
   "metadata": {
    "execution": {
     "iopub.execute_input": "2025-08-05T15:53:06.016237Z",
     "iopub.status.busy": "2025-08-05T15:53:06.015430Z",
     "iopub.status.idle": "2025-08-05T15:53:07.809752Z",
     "shell.execute_reply": "2025-08-05T15:53:07.808563Z"
    },
    "papermill": {
     "duration": 1.824301,
     "end_time": "2025-08-05T15:53:07.811739",
     "exception": false,
     "start_time": "2025-08-05T15:53:05.987438",
     "status": "completed"
    },
    "tags": []
   },
   "outputs": [
    {
     "data": {
      "text/plain": [
       "array([[<Axes: title={'center': 'accuracy'}, xlabel='majmin'>,\n",
       "        <Axes: title={'center': 'balanced accuracy'}, xlabel='majmin'>,\n",
       "        <Axes: title={'center': 'f1'}, xlabel='majmin'>],\n",
       "       [<Axes: title={'center': 'precision'}, xlabel='majmin'>,\n",
       "        <Axes: title={'center': 'false positive rate'}, xlabel='majmin'>,\n",
       "        <Axes: title={'center': 'false negative rate'}, xlabel='majmin'>],\n",
       "       [<Axes: title={'center': 'selection rate'}, xlabel='majmin'>,\n",
       "        <Axes: title={'center': 'count'}, xlabel='majmin'>,\n",
       "        <Axes: xlabel='majmin'>]], dtype=object)"
      ]
     },
     "execution_count": 63,
     "metadata": {},
     "output_type": "execute_result"
    },
    {
     "data": {
      "image/png": "[encoded data removed]",
      "text/plain": [
       "<Figure size 1200x800 with 9 Axes>"
      ]
     },
     "metadata": {},
     "output_type": "display_data"
    }
   ],
   "source": [
    "# In a graphic\n",
    "metric_frame.by_group.plot.bar(\n",
    "    subplots=True,\n",
    "    layout=[3, 3],\n",
    "    legend=False,\n",
    "    figsize=[12, 8],\n",
    "    title=\"Show all metrics\",\n",
    ")"
   ]
  },
  {
   "cell_type": "markdown",
   "id": "f57a0bac",
   "metadata": {
    "papermill": {
     "duration": 0.027125,
     "end_time": "2025-08-05T15:53:07.868725",
     "exception": false,
     "start_time": "2025-08-05T15:53:07.841600",
     "status": "completed"
    },
    "tags": []
   },
   "source": [
    "# Final Output"
   ]
  },
  {
   "cell_type": "code",
   "execution_count": 64,
   "id": "96d280a3",
   "metadata": {
    "execution": {
     "iopub.execute_input": "2025-08-05T15:53:07.922184Z",
     "iopub.status.busy": "2025-08-05T15:53:07.921576Z",
     "iopub.status.idle": "2025-08-05T15:53:07.929317Z",
     "shell.execute_reply": "2025-08-05T15:53:07.928442Z"
    },
    "papermill": {
     "duration": 0.036818,
     "end_time": "2025-08-05T15:53:07.930889",
     "exception": false,
     "start_time": "2025-08-05T15:53:07.894071",
     "status": "completed"
    },
    "tags": []
   },
   "outputs": [
    {
     "data": {
      "text/plain": [
       "4"
      ]
     },
     "execution_count": 64,
     "metadata": {},
     "output_type": "execute_result"
    }
   ],
   "source": [
    "sub_universes = universe_analysis.generate_sub_universes()\n",
    "len(sub_universes)"
   ]
  },
  {
   "cell_type": "code",
   "execution_count": 65,
   "id": "92adf7ba",
   "metadata": {
    "execution": {
     "iopub.execute_input": "2025-08-05T15:53:07.960139Z",
     "iopub.status.busy": "2025-08-05T15:53:07.959436Z",
     "iopub.status.idle": "2025-08-05T15:53:07.964719Z",
     "shell.execute_reply": "2025-08-05T15:53:07.963941Z"
    },
    "papermill": {
     "duration": 0.021346,
     "end_time": "2025-08-05T15:53:07.966283",
     "exception": false,
     "start_time": "2025-08-05T15:53:07.944937",
     "status": "completed"
    },
    "tags": []
   },
   "outputs": [],
   "source": [
    "def filter_sub_universe_data(sub_universe, org_test):\n",
    "    # Keep all rows — no filtering\n",
    "    keep_rows_mask = np.ones(org_test.shape[0], dtype=bool)\n",
    "\n",
    "    print(f\"[INFO] Keeping all rows: {keep_rows_mask.sum()} rows retained.\")\n",
    "    return keep_rows_mask"
   ]
  },
  {
   "cell_type": "code",
   "execution_count": 66,
   "id": "4a759155",
   "metadata": {
    "execution": {
     "iopub.execute_input": "2025-08-05T15:53:07.997334Z",
     "iopub.status.busy": "2025-08-05T15:53:07.996814Z",
     "iopub.status.idle": "2025-08-05T15:53:15.140876Z",
     "shell.execute_reply": "2025-08-05T15:53:15.140000Z"
    },
    "papermill": {
     "duration": 7.161133,
     "end_time": "2025-08-05T15:53:15.142344",
     "exception": false,
     "start_time": "2025-08-05T15:53:07.981211",
     "status": "completed"
    },
    "tags": []
   },
   "outputs": [
    {
     "name": "stdout",
     "output_type": "stream",
     "text": [
      "Stopping execution_time clock.\n",
      "[INFO] Keeping all rows: 89710 rows retained.\n"
     ]
    },
    {
     "name": "stdout",
     "output_type": "stream",
     "text": [
      "[INFO] Keeping all rows: 89710 rows retained.\n"
     ]
    },
    {
     "name": "stdout",
     "output_type": "stream",
     "text": [
      "[INFO] Keeping all rows: 89710 rows retained.\n"
     ]
    },
    {
     "name": "stdout",
     "output_type": "stream",
     "text": [
      "[INFO] Keeping all rows: 89710 rows retained.\n"
     ]
    },
    {
     "data": {
      "text/html": [
       "<div>\n",
       "<style scoped>\n",
       "    .dataframe tbody tr th:only-of-type {\n",
       "        vertical-align: middle;\n",
       "    }\n",
       "\n",
       "    .dataframe tbody tr th {\n",
       "        vertical-align: top;\n",
       "    }\n",
       "\n",
       "    .dataframe thead th {\n",
       "        text-align: right;\n",
       "    }\n",
       "</style>\n",
       "<table border=\"1\" class=\"dataframe\">\n",
       "  <thead>\n",
       "    <tr style=\"text-align: right;\">\n",
       "      <th></th>\n",
       "      <th>run_no</th>\n",
       "      <th>universe_id</th>\n",
       "      <th>universe_settings</th>\n",
       "      <th>execution_time</th>\n",
       "      <th>test_size_n</th>\n",
       "      <th>test_size_frac</th>\n",
       "      <th>fair_main_equalized_odds_difference</th>\n",
       "      <th>fair_main_equalized_odds_ratio</th>\n",
       "      <th>fair_main_demographic_parity_difference</th>\n",
       "      <th>fair_main_demographic_parity_ratio</th>\n",
       "      <th>...</th>\n",
       "      <th>perf_grp_precision_0</th>\n",
       "      <th>perf_grp_precision_1</th>\n",
       "      <th>perf_grp_false positive rate_0</th>\n",
       "      <th>perf_grp_false positive rate_1</th>\n",
       "      <th>perf_grp_false negative rate_0</th>\n",
       "      <th>perf_grp_false negative rate_1</th>\n",
       "      <th>perf_grp_selection rate_0</th>\n",
       "      <th>perf_grp_selection rate_1</th>\n",
       "      <th>perf_grp_count_0</th>\n",
       "      <th>perf_grp_count_1</th>\n",
       "    </tr>\n",
       "  </thead>\n",
       "  <tbody>\n",
       "    <tr>\n",
       "      <th>0</th>\n",
       "      <td>15</td>\n",
       "      <td>d3ea0a22869475cf879887daa36c729c</td>\n",
       "      <td>{\"cutoff\": \"quantile_0.1\", \"eval_fairness_grou...</td>\n",
       "      <td>33.48005</td>\n",
       "      <td>89710</td>\n",
       "      <td>1.0</td>\n",
       "      <td>0.079243</td>\n",
       "      <td>0.916453</td>\n",
       "      <td>0.068980</td>\n",
       "      <td>0.927660</td>\n",
       "      <td>...</td>\n",
       "      <td>NaN</td>\n",
       "      <td>NaN</td>\n",
       "      <td>NaN</td>\n",
       "      <td>NaN</td>\n",
       "      <td>NaN</td>\n",
       "      <td>NaN</td>\n",
       "      <td>NaN</td>\n",
       "      <td>NaN</td>\n",
       "      <td>NaN</td>\n",
       "      <td>NaN</td>\n",
       "    </tr>\n",
       "    <tr>\n",
       "      <th>0</th>\n",
       "      <td>15</td>\n",
       "      <td>d3ea0a22869475cf879887daa36c729c</td>\n",
       "      <td>{\"cutoff\": \"quantile_0.1\", \"eval_fairness_grou...</td>\n",
       "      <td>33.48005</td>\n",
       "      <td>89710</td>\n",
       "      <td>1.0</td>\n",
       "      <td>0.079243</td>\n",
       "      <td>0.916453</td>\n",
       "      <td>0.068980</td>\n",
       "      <td>0.927660</td>\n",
       "      <td>...</td>\n",
       "      <td>0.119984</td>\n",
       "      <td>0.147174</td>\n",
       "      <td>0.948492</td>\n",
       "      <td>0.869249</td>\n",
       "      <td>0.007601</td>\n",
       "      <td>0.014770</td>\n",
       "      <td>0.953554</td>\n",
       "      <td>0.884574</td>\n",
       "      <td>20540.0</td>\n",
       "      <td>69170.0</td>\n",
       "    </tr>\n",
       "    <tr>\n",
       "      <th>0</th>\n",
       "      <td>15</td>\n",
       "      <td>d3ea0a22869475cf879887daa36c729c</td>\n",
       "      <td>{\"cutoff\": \"quantile_0.25\", \"eval_fairness_gro...</td>\n",
       "      <td>33.48005</td>\n",
       "      <td>89710</td>\n",
       "      <td>1.0</td>\n",
       "      <td>0.063530</td>\n",
       "      <td>0.917550</td>\n",
       "      <td>0.050016</td>\n",
       "      <td>0.936573</td>\n",
       "      <td>...</td>\n",
       "      <td>NaN</td>\n",
       "      <td>NaN</td>\n",
       "      <td>NaN</td>\n",
       "      <td>NaN</td>\n",
       "      <td>NaN</td>\n",
       "      <td>NaN</td>\n",
       "      <td>NaN</td>\n",
       "      <td>NaN</td>\n",
       "      <td>NaN</td>\n",
       "      <td>NaN</td>\n",
       "    </tr>\n",
       "    <tr>\n",
       "      <th>0</th>\n",
       "      <td>15</td>\n",
       "      <td>d3ea0a22869475cf879887daa36c729c</td>\n",
       "      <td>{\"cutoff\": \"quantile_0.25\", \"eval_fairness_gro...</td>\n",
       "      <td>33.48005</td>\n",
       "      <td>89710</td>\n",
       "      <td>1.0</td>\n",
       "      <td>0.063530</td>\n",
       "      <td>0.917550</td>\n",
       "      <td>0.050016</td>\n",
       "      <td>0.936573</td>\n",
       "      <td>...</td>\n",
       "      <td>0.135519</td>\n",
       "      <td>0.169208</td>\n",
       "      <td>0.770526</td>\n",
       "      <td>0.706997</td>\n",
       "      <td>0.073057</td>\n",
       "      <td>0.054267</td>\n",
       "      <td>0.788559</td>\n",
       "      <td>0.738543</td>\n",
       "      <td>20540.0</td>\n",
       "      <td>69170.0</td>\n",
       "    </tr>\n",
       "  </tbody>\n",
       "</table>\n",
       "<p>4 rows × 50 columns</p>\n",
       "</div>"
      ],
      "text/plain": [
       "  run_no                       universe_id  \\\n",
       "0     15  d3ea0a22869475cf879887daa36c729c   \n",
       "0     15  d3ea0a22869475cf879887daa36c729c   \n",
       "0     15  d3ea0a22869475cf879887daa36c729c   \n",
       "0     15  d3ea0a22869475cf879887daa36c729c   \n",
       "\n",
       "                                   universe_settings  execution_time  \\\n",
       "0  {\"cutoff\": \"quantile_0.1\", \"eval_fairness_grou...        33.48005   \n",
       "0  {\"cutoff\": \"quantile_0.1\", \"eval_fairness_grou...        33.48005   \n",
       "0  {\"cutoff\": \"quantile_0.25\", \"eval_fairness_gro...        33.48005   \n",
       "0  {\"cutoff\": \"quantile_0.25\", \"eval_fairness_gro...        33.48005   \n",
       "\n",
       "   test_size_n  test_size_frac  fair_main_equalized_odds_difference  \\\n",
       "0        89710             1.0                             0.079243   \n",
       "0        89710             1.0                             0.079243   \n",
       "0        89710             1.0                             0.063530   \n",
       "0        89710             1.0                             0.063530   \n",
       "\n",
       "   fair_main_equalized_odds_ratio  fair_main_demographic_parity_difference  \\\n",
       "0                        0.916453                                 0.068980   \n",
       "0                        0.916453                                 0.068980   \n",
       "0                        0.917550                                 0.050016   \n",
       "0                        0.917550                                 0.050016   \n",
       "\n",
       "   fair_main_demographic_parity_ratio  ...  perf_grp_precision_0  \\\n",
       "0                            0.927660  ...                   NaN   \n",
       "0                            0.927660  ...              0.119984   \n",
       "0                            0.936573  ...                   NaN   \n",
       "0                            0.936573  ...              0.135519   \n",
       "\n",
       "   perf_grp_precision_1  perf_grp_false positive rate_0  \\\n",
       "0                   NaN                             NaN   \n",
       "0              0.147174                        0.948492   \n",
       "0                   NaN                             NaN   \n",
       "0              0.169208                        0.770526   \n",
       "\n",
       "   perf_grp_false positive rate_1  perf_grp_false negative rate_0  \\\n",
       "0                             NaN                             NaN   \n",
       "0                        0.869249                        0.007601   \n",
       "0                             NaN                             NaN   \n",
       "0                        0.706997                        0.073057   \n",
       "\n",
       "   perf_grp_false negative rate_1  perf_grp_selection rate_0  \\\n",
       "0                             NaN                        NaN   \n",
       "0                        0.014770                   0.953554   \n",
       "0                             NaN                        NaN   \n",
       "0                        0.054267                   0.788559   \n",
       "\n",
       "   perf_grp_selection rate_1  perf_grp_count_0  perf_grp_count_1  \n",
       "0                        NaN               NaN               NaN  \n",
       "0                   0.884574           20540.0           69170.0  \n",
       "0                        NaN               NaN               NaN  \n",
       "0                   0.738543           20540.0           69170.0  \n",
       "\n",
       "[4 rows x 50 columns]"
      ]
     },
     "execution_count": 66,
     "metadata": {},
     "output_type": "execute_result"
    }
   ],
   "source": [
    "final_output = universe_analysis.generate_final_output(\n",
    "    y_pred_prob=probs_test,\n",
    "    y_test=y_true,\n",
    "    org_test=org_test,\n",
    "    filter_data=filter_sub_universe_data,\n",
    "    cp_metrics_df=cp_metrics_df,\n",
    "    save=True,\n",
    ")\n",
    "final_output"
   ]
  }
 ],
 "metadata": {
  "celltoolbar": "Tags",
  "kernelspec": {
   "display_name": "Python (CMA Fairness)",
   "language": "python",
   "name": "cma_fair_env"
  },
  "language_info": {
   "codemirror_mode": {
    "name": "ipython",
    "version": 3
   },
   "file_extension": ".py",
   "mimetype": "text/x-python",
   "name": "python",
   "nbconvert_exporter": "python",
   "pygments_lexer": "ipython3",
   "version": "3.10.12"
  },
  "papermill": {
   "default_parameters": {},
   "duration": 44.577469,
   "end_time": "2025-08-05T15:53:15.879753",
   "environment_variables": {},
   "exception": null,
   "input_path": "universe_analysis.ipynb",
   "output_path": "output/runs/15/notebooks/m_15-d3ea0a22869475cf879887daa36c729c.ipynb",
   "parameters": {
    "output_dir": "output",
    "run_no": "15",
    "seed": "2023",
    "universe": "{\"cutoff\": [\"quantile_0.1\", \"quantile_0.25\"], \"eval_fairness_grouping\": [\"majority-minority\", \"nationality-all\"], \"exclude_features\": \"nationality-sex\", \"exclude_subgroups\": \"keep-all\", \"model\": \"gbm\", \"scale\": \"scale\", \"training_size\": \"5k\", \"training_year\": \"2010_14\"}",
    "universe_id": "d3ea0a22869475cf879887daa36c729c"
   },
   "start_time": "2025-08-05T15:52:31.302284",
   "version": "2.6.0"
  }
 },
 "nbformat": 4,
 "nbformat_minor": 5
}