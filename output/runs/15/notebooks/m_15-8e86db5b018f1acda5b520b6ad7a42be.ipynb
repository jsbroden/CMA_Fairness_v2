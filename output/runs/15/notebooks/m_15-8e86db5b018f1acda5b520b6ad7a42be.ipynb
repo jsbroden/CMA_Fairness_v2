{
 "cells": [
  {
   "cell_type": "code",
   "execution_count": 1,
   "id": "f159f837-637b-42ba-96b5-ec9a68c44524",
   "metadata": {
    "execution": {
     "iopub.execute_input": "2025-08-05T16:45:28.716482Z",
     "iopub.status.busy": "2025-08-05T16:45:28.715676Z",
     "iopub.status.idle": "2025-08-05T16:45:28.732586Z",
     "shell.execute_reply": "2025-08-05T16:45:28.731371Z"
    },
    "papermill": {
     "duration": 0.039188,
     "end_time": "2025-08-05T16:45:28.734352",
     "exception": false,
     "start_time": "2025-08-05T16:45:28.695164",
     "status": "completed"
    },
    "tags": []
   },
   "outputs": [
    {
     "name": "stdout",
     "output_type": "stream",
     "text": [
      "/dss/dsshome1/0C/ra93lal2/cma/CMA_Fairness_v2\n"
     ]
    },
    {
     "name": "stderr",
     "output_type": "stream",
     "text": [
      "/dss/dsshome1/0C/ra93lal2/.local/share/virtualenvs/CMA_Fairness_v2-3j10GkSs/lib/python3.10/site-packages/IPython/core/magics/osm.py:393: UserWarning: This is now an optional IPython functionality, using bookmarks requires you to install the `pickleshare` library.\n",
      "  bkms = self.shell.db.get('bookmarks', {})\n",
      "/dss/dsshome1/0C/ra93lal2/.local/share/virtualenvs/CMA_Fairness_v2-3j10GkSs/lib/python3.10/site-packages/IPython/core/magics/osm.py:417: UserWarning: This is now an optional IPython functionality, setting dhist requires you to install the `pickleshare` library.\n",
      "  self.shell.db['dhist'] = compress_dhist(dhist)[-100:]\n"
     ]
    }
   ],
   "source": [
    "%cd ~/cma/CMA_Fairness_v2"
   ]
  },
  {
   "cell_type": "markdown",
   "id": "de2603b9",
   "metadata": {
    "papermill": {
     "duration": 0.018451,
     "end_time": "2025-08-05T16:45:28.771605",
     "exception": false,
     "start_time": "2025-08-05T16:45:28.753154",
     "status": "completed"
    },
    "tags": []
   },
   "source": [
    "The following cell holds the definition of our parameters, these values can be overriden by rendering the with e.g. the following command:\n",
    "\n",
    "papermill -p alpha 0.2 -p ratio 0.3 universe_analysis.ipynb output/test_run.ipynb"
   ]
  },
  {
   "cell_type": "code",
   "execution_count": 2,
   "id": "a80968a0-40bb-4fa9-85ef-2d5eefb01975",
   "metadata": {
    "execution": {
     "iopub.execute_input": "2025-08-05T16:45:28.810229Z",
     "iopub.status.busy": "2025-08-05T16:45:28.809639Z",
     "iopub.status.idle": "2025-08-05T16:45:28.817150Z",
     "shell.execute_reply": "2025-08-05T16:45:28.815848Z"
    },
    "papermill": {
     "duration": 0.029145,
     "end_time": "2025-08-05T16:45:28.819159",
     "exception": false,
     "start_time": "2025-08-05T16:45:28.790014",
     "status": "completed"
    },
    "tags": []
   },
   "outputs": [
    {
     "name": "stdout",
     "output_type": "stream",
     "text": [
      "Current working directory: /dss/dsshome1/0C/ra93lal2/cma/CMA_Fairness_v2\n"
     ]
    }
   ],
   "source": [
    "import os\n",
    "print(\"Current working directory:\", os.getcwd())"
   ]
  },
  {
   "cell_type": "code",
   "execution_count": 3,
   "id": "2dce4c03",
   "metadata": {
    "execution": {
     "iopub.execute_input": "2025-08-05T16:45:28.860065Z",
     "iopub.status.busy": "2025-08-05T16:45:28.859105Z",
     "iopub.status.idle": "2025-08-05T16:45:28.866398Z",
     "shell.execute_reply": "2025-08-05T16:45:28.865353Z"
    },
    "papermill": {
     "duration": 0.028618,
     "end_time": "2025-08-05T16:45:28.868127",
     "exception": false,
     "start_time": "2025-08-05T16:45:28.839509",
     "status": "completed"
    },
    "tags": [
     "parameters"
    ]
   },
   "outputs": [],
   "source": [
    "run_no = 0\n",
    "universe_id = \"test\"\n",
    "universe = {\n",
    "    \"training_size\": \"25k\", # \"25k\", \"5k\", \"1k\"\n",
    "    \"training_year\": \"2014\", # \"2014\", \"2012_14\", \"2010_14\"\n",
    "    \"scale\": \"scale\", # \"scale\", \"do-not-scale\",\n",
    "    \"model\": \"elasticnet\", # \"logreg\", \"penalized_logreg\", \"rf\", \"gbm\", \"elasticnet\"\n",
    "    \"cutoff\": [\"quantile_0.15\", \"quantile_0.30\"],\n",
    "    \"exclude_features\": \"age\", # \"none\", \"nationality\", \"sex\", \"nationality-sex\", \"age\"\n",
    "    \"exclude_subgroups\": \"keep-all\", # \"keep-all\", \"drop-non-german\"\n",
    "    \"eval_fairness_grouping\": [\"majority-minority\", \"nationality-all\"]\n",
    "}\n",
    "\n",
    "output_dir=\"./output\"\n",
    "seed=0"
   ]
  },
  {
   "cell_type": "code",
   "execution_count": 4,
   "id": "422bbc43",
   "metadata": {
    "execution": {
     "iopub.execute_input": "2025-08-05T16:45:28.910835Z",
     "iopub.status.busy": "2025-08-05T16:45:28.910040Z",
     "iopub.status.idle": "2025-08-05T16:45:28.916055Z",
     "shell.execute_reply": "2025-08-05T16:45:28.915036Z"
    },
    "papermill": {
     "duration": 0.029264,
     "end_time": "2025-08-05T16:45:28.917887",
     "exception": false,
     "start_time": "2025-08-05T16:45:28.888623",
     "status": "completed"
    },
    "tags": [
     "injected-parameters"
    ]
   },
   "outputs": [],
   "source": [
    "# Parameters\n",
    "universe_id = \"8e86db5b018f1acda5b520b6ad7a42be\"\n",
    "run_no = \"15\"\n",
    "universe = \"{\\\"cutoff\\\": [\\\"quantile_0.1\\\", \\\"quantile_0.25\\\"], \\\"eval_fairness_grouping\\\": [\\\"majority-minority\\\", \\\"nationality-all\\\"], \\\"exclude_features\\\": \\\"age\\\", \\\"exclude_subgroups\\\": \\\"keep-all\\\", \\\"model\\\": \\\"elasticnet\\\", \\\"scale\\\": \\\"do-not-scale\\\", \\\"training_size\\\": \\\"1k\\\", \\\"training_year\\\": \\\"2010_14\\\"}\"\n",
    "output_dir = \"output\"\n",
    "seed = \"2023\"\n"
   ]
  },
  {
   "cell_type": "code",
   "execution_count": 5,
   "id": "1650acaf",
   "metadata": {
    "execution": {
     "iopub.execute_input": "2025-08-05T16:45:28.957830Z",
     "iopub.status.busy": "2025-08-05T16:45:28.956977Z",
     "iopub.status.idle": "2025-08-05T16:45:28.962705Z",
     "shell.execute_reply": "2025-08-05T16:45:28.961570Z"
    },
    "papermill": {
     "duration": 0.027632,
     "end_time": "2025-08-05T16:45:28.964485",
     "exception": false,
     "start_time": "2025-08-05T16:45:28.936853",
     "status": "completed"
    },
    "tags": []
   },
   "outputs": [],
   "source": [
    "import json\n",
    "if isinstance(universe, str):\n",
    "    universe = json.loads(universe)"
   ]
  },
  {
   "cell_type": "code",
   "execution_count": 6,
   "id": "16620c48",
   "metadata": {
    "execution": {
     "iopub.execute_input": "2025-08-05T16:45:29.004165Z",
     "iopub.status.busy": "2025-08-05T16:45:29.003262Z",
     "iopub.status.idle": "2025-08-05T16:45:29.057247Z",
     "shell.execute_reply": "2025-08-05T16:45:29.056269Z"
    },
    "papermill": {
     "duration": 0.07612,
     "end_time": "2025-08-05T16:45:29.059255",
     "exception": false,
     "start_time": "2025-08-05T16:45:28.983135",
     "status": "completed"
    },
    "tags": []
   },
   "outputs": [],
   "source": [
    "# Auto-reload the custom package\n",
    "%load_ext autoreload\n",
    "%autoreload 1\n",
    "%aimport fairness_multiverse"
   ]
  },
  {
   "cell_type": "code",
   "execution_count": 7,
   "id": "01c5c9f3",
   "metadata": {
    "execution": {
     "iopub.execute_input": "2025-08-05T16:45:29.101072Z",
     "iopub.status.busy": "2025-08-05T16:45:29.100142Z",
     "iopub.status.idle": "2025-08-05T16:45:31.017498Z",
     "shell.execute_reply": "2025-08-05T16:45:31.016608Z"
    },
    "papermill": {
     "duration": 1.940344,
     "end_time": "2025-08-05T16:45:31.019234",
     "exception": false,
     "start_time": "2025-08-05T16:45:29.078890",
     "status": "completed"
    },
    "tags": []
   },
   "outputs": [],
   "source": [
    "from fairness_multiverse.universe import UniverseAnalysis\n",
    "\n",
    "universe_analysis = UniverseAnalysis(\n",
    "    run_no = run_no,\n",
    "    universe_id = universe_id,\n",
    "    universe = universe,\n",
    "    output_dir=output_dir,\n",
    ")"
   ]
  },
  {
   "cell_type": "code",
   "execution_count": 8,
   "id": "106241f5",
   "metadata": {
    "execution": {
     "iopub.execute_input": "2025-08-05T16:45:31.042989Z",
     "iopub.status.busy": "2025-08-05T16:45:31.042153Z",
     "iopub.status.idle": "2025-08-05T16:45:31.048690Z",
     "shell.execute_reply": "2025-08-05T16:45:31.047813Z"
    },
    "papermill": {
     "duration": 0.019787,
     "end_time": "2025-08-05T16:45:31.050361",
     "exception": false,
     "start_time": "2025-08-05T16:45:31.030574",
     "status": "completed"
    },
    "tags": []
   },
   "outputs": [
    {
     "name": "stdout",
     "output_type": "stream",
     "text": [
      "Using Seed: 2023\n"
     ]
    }
   ],
   "source": [
    "import numpy as np\n",
    "parsed_seed = int(seed)\n",
    "np.random.seed(parsed_seed)\n",
    "print(f\"Using Seed: {parsed_seed}\")"
   ]
  },
  {
   "cell_type": "markdown",
   "id": "e0ebdc57",
   "metadata": {
    "papermill": {
     "duration": 0.010639,
     "end_time": "2025-08-05T16:45:31.072111",
     "exception": false,
     "start_time": "2025-08-05T16:45:31.061472",
     "status": "completed"
    },
    "tags": []
   },
   "source": [
    "# Loading Data"
   ]
  },
  {
   "cell_type": "code",
   "execution_count": 9,
   "id": "f0496b8a",
   "metadata": {
    "execution": {
     "iopub.execute_input": "2025-08-05T16:45:31.095024Z",
     "iopub.status.busy": "2025-08-05T16:45:31.094254Z",
     "iopub.status.idle": "2025-08-05T16:45:41.330392Z",
     "shell.execute_reply": "2025-08-05T16:45:41.329317Z"
    },
    "papermill": {
     "duration": 10.249639,
     "end_time": "2025-08-05T16:45:41.332421",
     "exception": false,
     "start_time": "2025-08-05T16:45:31.082782",
     "status": "completed"
    },
    "tags": []
   },
   "outputs": [
    {
     "name": "stdout",
     "output_type": "stream",
     "text": [
      "Loading SIAB data from cache: data/siab_cached.csv.gz\n"
     ]
    },
    {
     "name": "stdout",
     "output_type": "stream",
     "text": [
      "(643690, 164)\n"
     ]
    }
   ],
   "source": [
    "from pathlib import Path\n",
    "import pandas as pd\n",
    "\n",
    "# File paths\n",
    "raw_file = Path(\"data/raw/siab.csv\")\n",
    "cache_file = Path(\"data/siab_cached.csv.gz\")\n",
    "\n",
    "# Ensure cache directory exists\n",
    "cache_file.parent.mkdir(parents=True, exist_ok=True)\n",
    "\n",
    "# Load with simple caching\n",
    "if cache_file.exists():\n",
    "    print(f\"Loading SIAB data from cache: {cache_file}\")\n",
    "    siab = pd.read_csv(cache_file, compression='gzip')\n",
    "else:\n",
    "    print(f\"Cache not found. Reading raw SIAB data: {raw_file}\")\n",
    "    siab = pd.read_csv(raw_file)\n",
    "    siab.to_csv(cache_file, index=False, compression='gzip')\n",
    "    print(f\"Cached SIAB data to: {cache_file}\")\n",
    "\n",
    "print(siab.shape)"
   ]
  },
  {
   "cell_type": "code",
   "execution_count": 10,
   "id": "db0ca512-5f53-4dba-abdb-a2888bca41ba",
   "metadata": {
    "execution": {
     "iopub.execute_input": "2025-08-05T16:45:41.382818Z",
     "iopub.status.busy": "2025-08-05T16:45:41.382320Z",
     "iopub.status.idle": "2025-08-05T16:45:41.387895Z",
     "shell.execute_reply": "2025-08-05T16:45:41.386890Z"
    },
    "papermill": {
     "duration": 0.032645,
     "end_time": "2025-08-05T16:45:41.389790",
     "exception": false,
     "start_time": "2025-08-05T16:45:41.357145",
     "status": "completed"
    },
    "tags": []
   },
   "outputs": [],
   "source": [
    "#siab"
   ]
  },
  {
   "cell_type": "markdown",
   "id": "997051c5-15bd-4b69-9786-c3001a3ce484",
   "metadata": {
    "papermill": {
     "duration": 0.024594,
     "end_time": "2025-08-05T16:45:41.439504",
     "exception": false,
     "start_time": "2025-08-05T16:45:41.414910",
     "status": "completed"
    },
    "tags": []
   },
   "source": [
    "# Splitting Data and Setting Training Data Size"
   ]
  },
  {
   "cell_type": "code",
   "execution_count": 11,
   "id": "aea9c6ef-6f46-42c8-85eb-5a62025c1508",
   "metadata": {
    "execution": {
     "iopub.execute_input": "2025-08-05T16:45:41.489585Z",
     "iopub.status.busy": "2025-08-05T16:45:41.489095Z",
     "iopub.status.idle": "2025-08-05T16:45:42.549842Z",
     "shell.execute_reply": "2025-08-05T16:45:42.548583Z"
    },
    "papermill": {
     "duration": 1.088532,
     "end_time": "2025-08-05T16:45:42.551665",
     "exception": false,
     "start_time": "2025-08-05T16:45:41.463133",
     "status": "completed"
    },
    "tags": []
   },
   "outputs": [],
   "source": [
    "from fairness_multiverse.universe import sample_by_year_size\n",
    "\n",
    "siab_train = sample_by_year_size(siab,\n",
    "                               training_year=universe[\"training_year\"],\n",
    "                               training_size=universe[\"training_size\"])"
   ]
  },
  {
   "cell_type": "code",
   "execution_count": 12,
   "id": "8d3afb32-789d-442c-8d5d-9f5aa8dd2eed",
   "metadata": {
    "execution": {
     "iopub.execute_input": "2025-08-05T16:45:42.589669Z",
     "iopub.status.busy": "2025-08-05T16:45:42.589253Z",
     "iopub.status.idle": "2025-08-05T16:45:42.594068Z",
     "shell.execute_reply": "2025-08-05T16:45:42.593056Z"
    },
    "papermill": {
     "duration": 0.031118,
     "end_time": "2025-08-05T16:45:42.595947",
     "exception": false,
     "start_time": "2025-08-05T16:45:42.564829",
     "status": "completed"
    },
    "tags": []
   },
   "outputs": [],
   "source": [
    "#siab_train.shape"
   ]
  },
  {
   "cell_type": "code",
   "execution_count": 13,
   "id": "d582db68-1a4c-47fb-84fc-08518dc1975a",
   "metadata": {
    "execution": {
     "iopub.execute_input": "2025-08-05T16:45:42.644476Z",
     "iopub.status.busy": "2025-08-05T16:45:42.644141Z",
     "iopub.status.idle": "2025-08-05T16:45:42.648260Z",
     "shell.execute_reply": "2025-08-05T16:45:42.647369Z"
    },
    "papermill": {
     "duration": 0.029953,
     "end_time": "2025-08-05T16:45:42.649722",
     "exception": false,
     "start_time": "2025-08-05T16:45:42.619769",
     "status": "completed"
    },
    "tags": []
   },
   "outputs": [],
   "source": [
    "#display(siab_train.groupby(\"year\").size())"
   ]
  },
  {
   "cell_type": "code",
   "execution_count": 14,
   "id": "a561edb4-d032-42cb-8256-22eac1111c64",
   "metadata": {
    "execution": {
     "iopub.execute_input": "2025-08-05T16:45:42.674661Z",
     "iopub.status.busy": "2025-08-05T16:45:42.673854Z",
     "iopub.status.idle": "2025-08-05T16:45:42.964596Z",
     "shell.execute_reply": "2025-08-05T16:45:42.963565Z"
    },
    "papermill": {
     "duration": 0.304353,
     "end_time": "2025-08-05T16:45:42.966377",
     "exception": false,
     "start_time": "2025-08-05T16:45:42.662024",
     "status": "completed"
    },
    "tags": []
   },
   "outputs": [],
   "source": [
    "#siab_train = siab_s[siab_s.year < 2015]\n",
    "siab_calib = siab[siab.year == 2015]\n",
    "siab_test = siab[siab.year == 2016]"
   ]
  },
  {
   "cell_type": "code",
   "execution_count": 15,
   "id": "472de16f-c3db-4916-846b-1f0de9cf1746",
   "metadata": {
    "execution": {
     "iopub.execute_input": "2025-08-05T16:45:42.991611Z",
     "iopub.status.busy": "2025-08-05T16:45:42.991151Z",
     "iopub.status.idle": "2025-08-05T16:45:42.997646Z",
     "shell.execute_reply": "2025-08-05T16:45:42.996640Z"
    },
    "papermill": {
     "duration": 0.020575,
     "end_time": "2025-08-05T16:45:42.999117",
     "exception": false,
     "start_time": "2025-08-05T16:45:42.978542",
     "status": "completed"
    },
    "tags": []
   },
   "outputs": [],
   "source": [
    "X_train = siab_train.iloc[:,4:164]\n",
    "y_train = siab_train.iloc[:, [3]]"
   ]
  },
  {
   "cell_type": "code",
   "execution_count": 16,
   "id": "828c96af-f43a-4ed6-ba47-8ac73a47d56c",
   "metadata": {
    "execution": {
     "iopub.execute_input": "2025-08-05T16:45:43.025348Z",
     "iopub.status.busy": "2025-08-05T16:45:43.024814Z",
     "iopub.status.idle": "2025-08-05T16:45:43.076389Z",
     "shell.execute_reply": "2025-08-05T16:45:43.075478Z"
    },
    "papermill": {
     "duration": 0.066719,
     "end_time": "2025-08-05T16:45:43.077762",
     "exception": false,
     "start_time": "2025-08-05T16:45:43.011043",
     "status": "completed"
    },
    "tags": []
   },
   "outputs": [],
   "source": [
    "X_calib = siab_calib.iloc[:,4:164]\n",
    "y_calib = siab_calib.iloc[:, [3]]"
   ]
  },
  {
   "cell_type": "code",
   "execution_count": 17,
   "id": "c34be9c3-6bd6-476e-acd3-845840e303be",
   "metadata": {
    "execution": {
     "iopub.execute_input": "2025-08-05T16:45:43.101864Z",
     "iopub.status.busy": "2025-08-05T16:45:43.101505Z",
     "iopub.status.idle": "2025-08-05T16:45:43.153525Z",
     "shell.execute_reply": "2025-08-05T16:45:43.152657Z"
    },
    "papermill": {
     "duration": 0.065,
     "end_time": "2025-08-05T16:45:43.154841",
     "exception": false,
     "start_time": "2025-08-05T16:45:43.089841",
     "status": "completed"
    },
    "tags": []
   },
   "outputs": [],
   "source": [
    "X_test = siab_test.iloc[:,4:164]\n",
    "y_true = siab_test.iloc[:, [3]]"
   ]
  },
  {
   "cell_type": "code",
   "execution_count": 18,
   "id": "e6c733c5",
   "metadata": {
    "execution": {
     "iopub.execute_input": "2025-08-05T16:45:43.180086Z",
     "iopub.status.busy": "2025-08-05T16:45:43.179661Z",
     "iopub.status.idle": "2025-08-05T16:45:43.284015Z",
     "shell.execute_reply": "2025-08-05T16:45:43.282968Z"
    },
    "papermill": {
     "duration": 0.118368,
     "end_time": "2025-08-05T16:45:43.285770",
     "exception": false,
     "start_time": "2025-08-05T16:45:43.167402",
     "status": "completed"
    },
    "tags": []
   },
   "outputs": [],
   "source": [
    "# Auxiliary data needed downstream in the pipeline\n",
    "\n",
    "org_train = X_train.copy()\n",
    "org_test = X_test.copy()\n",
    "org_calib = X_calib.copy()"
   ]
  },
  {
   "cell_type": "markdown",
   "id": "0a4a1b33",
   "metadata": {
    "papermill": {
     "duration": 0.023838,
     "end_time": "2025-08-05T16:45:43.333257",
     "exception": false,
     "start_time": "2025-08-05T16:45:43.309419",
     "status": "completed"
    },
    "tags": []
   },
   "source": [
    "# Preprocessing Data"
   ]
  },
  {
   "cell_type": "code",
   "execution_count": 19,
   "id": "ca879031",
   "metadata": {
    "execution": {
     "iopub.execute_input": "2025-08-05T16:45:43.382725Z",
     "iopub.status.busy": "2025-08-05T16:45:43.382250Z",
     "iopub.status.idle": "2025-08-05T16:45:43.389185Z",
     "shell.execute_reply": "2025-08-05T16:45:43.388057Z"
    },
    "papermill": {
     "duration": 0.034324,
     "end_time": "2025-08-05T16:45:43.391180",
     "exception": false,
     "start_time": "2025-08-05T16:45:43.356856",
     "status": "completed"
    },
    "tags": []
   },
   "outputs": [],
   "source": [
    "# EXCLUDE PROTECTED FEATURES\n",
    "# ----------------------\n",
    "# \"exclude_features\": \"none\", # \"nationality\", \"sex\", \"nationality-sex\"\n",
    "\n",
    "excluded_features = universe[\"exclude_features\"].split(\"-\") # split, e.g.: \"nationality-sex\" -> [\"nationality\", \"sex\"]\n",
    "excluded_features_dictionary = {\n",
    "    \"nationality\": [\"maxdeutsch1\", \"maxdeutsch.Missing.\"],\n",
    "    \"sex\": [\"frau1\"],\n",
    "    \"age\": [\"age\"],\n",
    "}"
   ]
  },
  {
   "cell_type": "code",
   "execution_count": 20,
   "id": "b745ac60",
   "metadata": {
    "execution": {
     "iopub.execute_input": "2025-08-05T16:45:43.426938Z",
     "iopub.status.busy": "2025-08-05T16:45:43.426641Z",
     "iopub.status.idle": "2025-08-05T16:45:43.431939Z",
     "shell.execute_reply": "2025-08-05T16:45:43.431082Z"
    },
    "papermill": {
     "duration": 0.021309,
     "end_time": "2025-08-05T16:45:43.433802",
     "exception": false,
     "start_time": "2025-08-05T16:45:43.412493",
     "status": "completed"
    },
    "tags": []
   },
   "outputs": [],
   "source": [
    "# Code nice names to column names\n",
    "\n",
    "excluded_features_columns = [\n",
    "    excluded_features_dictionary[f] for f in excluded_features if len(f) > 0 and f != \"none\"\n",
    "]"
   ]
  },
  {
   "cell_type": "code",
   "execution_count": 21,
   "id": "f84f73a2",
   "metadata": {
    "execution": {
     "iopub.execute_input": "2025-08-05T16:45:43.479544Z",
     "iopub.status.busy": "2025-08-05T16:45:43.479176Z",
     "iopub.status.idle": "2025-08-05T16:45:43.484361Z",
     "shell.execute_reply": "2025-08-05T16:45:43.483523Z"
    },
    "papermill": {
     "duration": 0.029541,
     "end_time": "2025-08-05T16:45:43.486014",
     "exception": false,
     "start_time": "2025-08-05T16:45:43.456473",
     "status": "completed"
    },
    "tags": []
   },
   "outputs": [],
   "source": [
    "from utils import flatten_once\n",
    "\n",
    "excluded_features_columns = flatten_once(excluded_features_columns)"
   ]
  },
  {
   "cell_type": "code",
   "execution_count": 22,
   "id": "884dea22",
   "metadata": {
    "execution": {
     "iopub.execute_input": "2025-08-05T16:45:43.531014Z",
     "iopub.status.busy": "2025-08-05T16:45:43.530683Z",
     "iopub.status.idle": "2025-08-05T16:45:43.537148Z",
     "shell.execute_reply": "2025-08-05T16:45:43.536253Z"
    },
    "papermill": {
     "duration": 0.031344,
     "end_time": "2025-08-05T16:45:43.538691",
     "exception": false,
     "start_time": "2025-08-05T16:45:43.507347",
     "status": "completed"
    },
    "tags": []
   },
   "outputs": [
    {
     "name": "stdout",
     "output_type": "stream",
     "text": [
      "Dropping features: ['age']\n"
     ]
    }
   ],
   "source": [
    "if len(excluded_features_columns) > 0:\n",
    "    print(f\"Dropping features: {excluded_features_columns}\")\n",
    "    X_train.drop(excluded_features_columns, axis=1, inplace=True)"
   ]
  },
  {
   "cell_type": "code",
   "execution_count": 23,
   "id": "95ab8b16",
   "metadata": {
    "execution": {
     "iopub.execute_input": "2025-08-05T16:45:43.563025Z",
     "iopub.status.busy": "2025-08-05T16:45:43.562281Z",
     "iopub.status.idle": "2025-08-05T16:45:43.619623Z",
     "shell.execute_reply": "2025-08-05T16:45:43.618437Z"
    },
    "papermill": {
     "duration": 0.070816,
     "end_time": "2025-08-05T16:45:43.620979",
     "exception": false,
     "start_time": "2025-08-05T16:45:43.550163",
     "status": "completed"
    },
    "tags": []
   },
   "outputs": [
    {
     "name": "stdout",
     "output_type": "stream",
     "text": [
      "Dropping features: ['age']\n"
     ]
    }
   ],
   "source": [
    "if len(excluded_features_columns) > 0:\n",
    "    print(f\"Dropping features: {excluded_features_columns}\")\n",
    "    X_test.drop(excluded_features_columns, axis=1, inplace=True)"
   ]
  },
  {
   "cell_type": "code",
   "execution_count": 24,
   "id": "1853aaf5-fb9f-46cb-a2b5-8ea4ae2237e4",
   "metadata": {
    "execution": {
     "iopub.execute_input": "2025-08-05T16:45:43.645670Z",
     "iopub.status.busy": "2025-08-05T16:45:43.645250Z",
     "iopub.status.idle": "2025-08-05T16:45:43.699409Z",
     "shell.execute_reply": "2025-08-05T16:45:43.698367Z"
    },
    "papermill": {
     "duration": 0.068146,
     "end_time": "2025-08-05T16:45:43.701110",
     "exception": false,
     "start_time": "2025-08-05T16:45:43.632964",
     "status": "completed"
    },
    "tags": []
   },
   "outputs": [
    {
     "name": "stdout",
     "output_type": "stream",
     "text": [
      "Dropping features: ['age']\n"
     ]
    }
   ],
   "source": [
    "if len(excluded_features_columns) > 0:\n",
    "    print(f\"Dropping features: {excluded_features_columns}\")\n",
    "    X_calib.drop(excluded_features_columns, axis=1, inplace=True)"
   ]
  },
  {
   "cell_type": "code",
   "execution_count": 25,
   "id": "76c4dc6d",
   "metadata": {
    "execution": {
     "iopub.execute_input": "2025-08-05T16:45:43.745260Z",
     "iopub.status.busy": "2025-08-05T16:45:43.744437Z",
     "iopub.status.idle": "2025-08-05T16:45:43.749952Z",
     "shell.execute_reply": "2025-08-05T16:45:43.749029Z"
    },
    "papermill": {
     "duration": 0.028977,
     "end_time": "2025-08-05T16:45:43.751652",
     "exception": false,
     "start_time": "2025-08-05T16:45:43.722675",
     "status": "completed"
    },
    "tags": []
   },
   "outputs": [],
   "source": [
    "# EXCLUDE CERTAIN SUBGROUPS\n",
    "# ----------------------\n",
    "\n",
    "mode = universe.get(\"exclude_subgroups\", \"keep-all\") \n",
    "# Fetches the exclude_subgroups setting from the universe dict.\n",
    "# Defaults to \"keep-all\" if the key is missing."
   ]
  },
  {
   "cell_type": "code",
   "execution_count": 26,
   "id": "21994072",
   "metadata": {
    "execution": {
     "iopub.execute_input": "2025-08-05T16:45:43.788320Z",
     "iopub.status.busy": "2025-08-05T16:45:43.787931Z",
     "iopub.status.idle": "2025-08-05T16:45:43.795207Z",
     "shell.execute_reply": "2025-08-05T16:45:43.794291Z"
    },
    "papermill": {
     "duration": 0.0232,
     "end_time": "2025-08-05T16:45:43.797075",
     "exception": false,
     "start_time": "2025-08-05T16:45:43.773875",
     "status": "completed"
    },
    "tags": []
   },
   "outputs": [],
   "source": [
    "if mode == \"keep-all\":\n",
    "    keep_mask = pd.Series(True, index=org_train.index)\n",
    "\n",
    "# org_train contains the original feature columns from features_org (in Simson)\n",
    "# features_org contains unprocessed features, for me X_train at beginning ???\n",
    "# For keep-all, creates a boolean Series (keep_mask) of all True, so no rows are removed.\n",
    "\n",
    "elif mode == \"drop-non-german\":\n",
    "    keep_mask = org_train[\"maxdeutsch1\"] == 1 # ??? what about missing values?\n",
    "\n",
    "else:\n",
    "    raise ValueError(f\"Unsupported mode for exclude_subgroups: {mode}\")"
   ]
  },
  {
   "cell_type": "code",
   "execution_count": 27,
   "id": "71651440",
   "metadata": {
    "execution": {
     "iopub.execute_input": "2025-08-05T16:45:43.850673Z",
     "iopub.status.busy": "2025-08-05T16:45:43.850240Z",
     "iopub.status.idle": "2025-08-05T16:45:43.856183Z",
     "shell.execute_reply": "2025-08-05T16:45:43.855235Z"
    },
    "papermill": {
     "duration": 0.034947,
     "end_time": "2025-08-05T16:45:43.858085",
     "exception": false,
     "start_time": "2025-08-05T16:45:43.823138",
     "status": "completed"
    },
    "tags": []
   },
   "outputs": [],
   "source": [
    "n_drop = (~keep_mask).sum() # Calculates how many rows are set to be dropped\n",
    "if n_drop > 0:\n",
    "    pct = n_drop / len(keep_mask) * 100\n",
    "    print(f\"Dropping {n_drop} rows ({pct:.2f}%) where mode='{mode}'\")"
   ]
  },
  {
   "cell_type": "code",
   "execution_count": 28,
   "id": "5fb8eee5",
   "metadata": {
    "execution": {
     "iopub.execute_input": "2025-08-05T16:45:43.912826Z",
     "iopub.status.busy": "2025-08-05T16:45:43.912185Z",
     "iopub.status.idle": "2025-08-05T16:45:43.919485Z",
     "shell.execute_reply": "2025-08-05T16:45:43.918586Z"
    },
    "papermill": {
     "duration": 0.038046,
     "end_time": "2025-08-05T16:45:43.921457",
     "exception": false,
     "start_time": "2025-08-05T16:45:43.883411",
     "status": "completed"
    },
    "tags": []
   },
   "outputs": [],
   "source": [
    "X_train = X_train[keep_mask]"
   ]
  },
  {
   "cell_type": "code",
   "execution_count": 29,
   "id": "b202bb3a",
   "metadata": {
    "execution": {
     "iopub.execute_input": "2025-08-05T16:45:43.967600Z",
     "iopub.status.busy": "2025-08-05T16:45:43.966759Z",
     "iopub.status.idle": "2025-08-05T16:45:43.973860Z",
     "shell.execute_reply": "2025-08-05T16:45:43.972631Z"
    },
    "papermill": {
     "duration": 0.030191,
     "end_time": "2025-08-05T16:45:43.975351",
     "exception": false,
     "start_time": "2025-08-05T16:45:43.945160",
     "status": "completed"
    },
    "tags": []
   },
   "outputs": [],
   "source": [
    "y_train = y_train[keep_mask]"
   ]
  },
  {
   "cell_type": "markdown",
   "id": "493e2ac3",
   "metadata": {
    "papermill": {
     "duration": 0.012118,
     "end_time": "2025-08-05T16:45:44.000828",
     "exception": false,
     "start_time": "2025-08-05T16:45:43.988710",
     "status": "completed"
    },
    "tags": []
   },
   "source": [
    "# Model Training"
   ]
  },
  {
   "cell_type": "code",
   "execution_count": 30,
   "id": "679e1268",
   "metadata": {
    "execution": {
     "iopub.execute_input": "2025-08-05T16:45:44.027543Z",
     "iopub.status.busy": "2025-08-05T16:45:44.026926Z",
     "iopub.status.idle": "2025-08-05T16:45:44.115380Z",
     "shell.execute_reply": "2025-08-05T16:45:44.114475Z"
    },
    "papermill": {
     "duration": 0.103861,
     "end_time": "2025-08-05T16:45:44.117063",
     "exception": false,
     "start_time": "2025-08-05T16:45:44.013202",
     "status": "completed"
    },
    "tags": []
   },
   "outputs": [],
   "source": [
    "from sklearn.linear_model import LogisticRegression\n",
    "from sklearn.ensemble import GradientBoostingClassifier, RandomForestClassifier\n",
    "\n",
    "if (universe[\"model\"] == \"logreg\"):\n",
    "    model = LogisticRegression() #penalty=\"none\", solver=\"newton-cg\", max_iter=1) # include random_state=19 ?\n",
    "elif (universe[\"model\"] == \"penalized_logreg\"):\n",
    "    model = LogisticRegression(penalty=\"l2\", C=0.1) #, solver=\"newton-cg\", max_iter=1)\n",
    "elif (universe[\"model\"] == \"rf\"):\n",
    "    model = RandomForestClassifier() # n_estimators=100, n_jobs=-1\n",
    "elif (universe[\"model\"] == \"gbm\"):\n",
    "    model = GradientBoostingClassifier()\n",
    "elif (universe[\"model\"] == \"elasticnet\"):\n",
    "    model = LogisticRegression(penalty = 'elasticnet', solver = 'saga', l1_ratio = 0.5) # max_iter=5000\n",
    "else:\n",
    "    raise \"Unsupported universe.model\""
   ]
  },
  {
   "cell_type": "code",
   "execution_count": 31,
   "id": "0cc8f744",
   "metadata": {
    "execution": {
     "iopub.execute_input": "2025-08-05T16:45:44.142615Z",
     "iopub.status.busy": "2025-08-05T16:45:44.141984Z",
     "iopub.status.idle": "2025-08-05T16:45:44.147227Z",
     "shell.execute_reply": "2025-08-05T16:45:44.146375Z"
    },
    "papermill": {
     "duration": 0.019092,
     "end_time": "2025-08-05T16:45:44.148489",
     "exception": false,
     "start_time": "2025-08-05T16:45:44.129397",
     "status": "completed"
    },
    "tags": []
   },
   "outputs": [],
   "source": [
    "import numpy as np\n",
    "from sklearn.pipeline import Pipeline\n",
    "from sklearn.preprocessing import StandardScaler\n",
    "\n",
    "model = Pipeline([\n",
    "    #(\"continuous_processor\", continuous_processor),\n",
    "    #(\"categorical_preprocessor\", categorical_preprocessor),\n",
    "    (\"scale\", StandardScaler() if universe[\"scale\"] == \"scale\" else None), \n",
    "    (\"model\", model),\n",
    "])"
   ]
  },
  {
   "cell_type": "code",
   "execution_count": 32,
   "id": "9442c04d",
   "metadata": {
    "execution": {
     "iopub.execute_input": "2025-08-05T16:45:44.173874Z",
     "iopub.status.busy": "2025-08-05T16:45:44.173316Z",
     "iopub.status.idle": "2025-08-05T16:45:44.481303Z",
     "shell.execute_reply": "2025-08-05T16:45:44.480432Z"
    },
    "papermill": {
     "duration": 0.32334,
     "end_time": "2025-08-05T16:45:44.484150",
     "exception": false,
     "start_time": "2025-08-05T16:45:44.160810",
     "status": "completed"
    },
    "tags": []
   },
   "outputs": [
    {
     "name": "stderr",
     "output_type": "stream",
     "text": [
      "/dss/dsshome1/0C/ra93lal2/.local/share/virtualenvs/CMA_Fairness_v2-3j10GkSs/lib/python3.10/site-packages/sklearn/linear_model/_sag.py:350: ConvergenceWarning: The max_iter was reached which means the coef_ did not converge\n",
      "  warnings.warn(\n"
     ]
    },
    {
     "data": {
      "text/html": [
       "<style>#sk-container-id-1 {color: black;background-color: white;}#sk-container-id-1 pre{padding: 0;}#sk-container-id-1 div.sk-toggleable {background-color: white;}#sk-container-id-1 label.sk-toggleable__label {cursor: pointer;display: block;width: 100%;margin-bottom: 0;padding: 0.3em;box-sizing: border-box;text-align: center;}#sk-container-id-1 label.sk-toggleable__label-arrow:before {content: \"▸\";float: left;margin-right: 0.25em;color: #696969;}#sk-container-id-1 label.sk-toggleable__label-arrow:hover:before {color: black;}#sk-container-id-1 div.sk-estimator:hover label.sk-toggleable__label-arrow:before {color: black;}#sk-container-id-1 div.sk-toggleable__content {max-height: 0;max-width: 0;overflow: hidden;text-align: left;background-color: #f0f8ff;}#sk-container-id-1 div.sk-toggleable__content pre {margin: 0.2em;color: black;border-radius: 0.25em;background-color: #f0f8ff;}#sk-container-id-1 input.sk-toggleable__control:checked~div.sk-toggleable__content {max-height: 200px;max-width: 100%;overflow: auto;}#sk-container-id-1 input.sk-toggleable__control:checked~label.sk-toggleable__label-arrow:before {content: \"▾\";}#sk-container-id-1 div.sk-estimator input.sk-toggleable__control:checked~label.sk-toggleable__label {background-color: #d4ebff;}#sk-container-id-1 div.sk-label input.sk-toggleable__control:checked~label.sk-toggleable__label {background-color: #d4ebff;}#sk-container-id-1 input.sk-hidden--visually {border: 0;clip: rect(1px 1px 1px 1px);clip: rect(1px, 1px, 1px, 1px);height: 1px;margin: -1px;overflow: hidden;padding: 0;position: absolute;width: 1px;}#sk-container-id-1 div.sk-estimator {font-family: monospace;background-color: #f0f8ff;border: 1px dotted black;border-radius: 0.25em;box-sizing: border-box;margin-bottom: 0.5em;}#sk-container-id-1 div.sk-estimator:hover {background-color: #d4ebff;}#sk-container-id-1 div.sk-parallel-item::after {content: \"\";width: 100%;border-bottom: 1px solid gray;flex-grow: 1;}#sk-container-id-1 div.sk-label:hover label.sk-toggleable__label {background-color: #d4ebff;}#sk-container-id-1 div.sk-serial::before {content: \"\";position: absolute;border-left: 1px solid gray;box-sizing: border-box;top: 0;bottom: 0;left: 50%;z-index: 0;}#sk-container-id-1 div.sk-serial {display: flex;flex-direction: column;align-items: center;background-color: white;padding-right: 0.2em;padding-left: 0.2em;position: relative;}#sk-container-id-1 div.sk-item {position: relative;z-index: 1;}#sk-container-id-1 div.sk-parallel {display: flex;align-items: stretch;justify-content: center;background-color: white;position: relative;}#sk-container-id-1 div.sk-item::before, #sk-container-id-1 div.sk-parallel-item::before {content: \"\";position: absolute;border-left: 1px solid gray;box-sizing: border-box;top: 0;bottom: 0;left: 50%;z-index: -1;}#sk-container-id-1 div.sk-parallel-item {display: flex;flex-direction: column;z-index: 1;position: relative;background-color: white;}#sk-container-id-1 div.sk-parallel-item:first-child::after {align-self: flex-end;width: 50%;}#sk-container-id-1 div.sk-parallel-item:last-child::after {align-self: flex-start;width: 50%;}#sk-container-id-1 div.sk-parallel-item:only-child::after {width: 0;}#sk-container-id-1 div.sk-dashed-wrapped {border: 1px dashed gray;margin: 0 0.4em 0.5em 0.4em;box-sizing: border-box;padding-bottom: 0.4em;background-color: white;}#sk-container-id-1 div.sk-label label {font-family: monospace;font-weight: bold;display: inline-block;line-height: 1.2em;}#sk-container-id-1 div.sk-label-container {text-align: center;}#sk-container-id-1 div.sk-container {/* jupyter's `normalize.less` sets `[hidden] { display: none; }` but bootstrap.min.css set `[hidden] { display: none !important; }` so we also need the `!important` here to be able to override the default hidden behavior on the sphinx rendered scikit-learn.org. See: https://github.com/scikit-learn/scikit-learn/issues/21755 */display: inline-block !important;position: relative;}#sk-container-id-1 div.sk-text-repr-fallback {display: none;}</style><div id=\"sk-container-id-1\" class=\"sk-top-container\"><div class=\"sk-text-repr-fallback\"><pre>Pipeline(steps=[(&#x27;scale&#x27;, None),\n",
       "                (&#x27;model&#x27;,\n",
       "                 LogisticRegression(l1_ratio=0.5, penalty=&#x27;elasticnet&#x27;,\n",
       "                                    solver=&#x27;saga&#x27;))])</pre><b>In a Jupyter environment, please rerun this cell to show the HTML representation or trust the notebook. <br />On GitHub, the HTML representation is unable to render, please try loading this page with nbviewer.org.</b></div><div class=\"sk-container\" hidden><div class=\"sk-item sk-dashed-wrapped\"><div class=\"sk-label-container\"><div class=\"sk-label sk-toggleable\"><input class=\"sk-toggleable__control sk-hidden--visually\" id=\"sk-estimator-id-1\" type=\"checkbox\" ><label for=\"sk-estimator-id-1\" class=\"sk-toggleable__label sk-toggleable__label-arrow\">Pipeline</label><div class=\"sk-toggleable__content\"><pre>Pipeline(steps=[(&#x27;scale&#x27;, None),\n",
       "                (&#x27;model&#x27;,\n",
       "                 LogisticRegression(l1_ratio=0.5, penalty=&#x27;elasticnet&#x27;,\n",
       "                                    solver=&#x27;saga&#x27;))])</pre></div></div></div><div class=\"sk-serial\"><div class=\"sk-item\"><div class=\"sk-estimator sk-toggleable\"><input class=\"sk-toggleable__control sk-hidden--visually\" id=\"sk-estimator-id-2\" type=\"checkbox\" ><label for=\"sk-estimator-id-2\" class=\"sk-toggleable__label sk-toggleable__label-arrow\">None</label><div class=\"sk-toggleable__content\"><pre>None</pre></div></div></div><div class=\"sk-item\"><div class=\"sk-estimator sk-toggleable\"><input class=\"sk-toggleable__control sk-hidden--visually\" id=\"sk-estimator-id-3\" type=\"checkbox\" ><label for=\"sk-estimator-id-3\" class=\"sk-toggleable__label sk-toggleable__label-arrow\">LogisticRegression</label><div class=\"sk-toggleable__content\"><pre>LogisticRegression(l1_ratio=0.5, penalty=&#x27;elasticnet&#x27;, solver=&#x27;saga&#x27;)</pre></div></div></div></div></div></div></div>"
      ],
      "text/plain": [
       "Pipeline(steps=[('scale', None),\n",
       "                ('model',\n",
       "                 LogisticRegression(l1_ratio=0.5, penalty='elasticnet',\n",
       "                                    solver='saga'))])"
      ]
     },
     "execution_count": 32,
     "metadata": {},
     "output_type": "execute_result"
    }
   ],
   "source": [
    "model.fit(X_train, y_train.values.ravel())"
   ]
  },
  {
   "cell_type": "code",
   "execution_count": 33,
   "id": "af59f8c0",
   "metadata": {
    "execution": {
     "iopub.execute_input": "2025-08-05T16:45:44.549455Z",
     "iopub.status.busy": "2025-08-05T16:45:44.549033Z",
     "iopub.status.idle": "2025-08-05T16:45:44.554741Z",
     "shell.execute_reply": "2025-08-05T16:45:44.553434Z"
    },
    "papermill": {
     "duration": 0.040222,
     "end_time": "2025-08-05T16:45:44.556353",
     "exception": false,
     "start_time": "2025-08-05T16:45:44.516131",
     "status": "completed"
    },
    "tags": []
   },
   "outputs": [],
   "source": [
    "from fairness_multiverse.universe import predict_w_threshold"
   ]
  },
  {
   "cell_type": "code",
   "execution_count": 34,
   "id": "a7cf2e16",
   "metadata": {
    "execution": {
     "iopub.execute_input": "2025-08-05T16:45:44.611400Z",
     "iopub.status.busy": "2025-08-05T16:45:44.610809Z",
     "iopub.status.idle": "2025-08-05T16:45:44.745113Z",
     "shell.execute_reply": "2025-08-05T16:45:44.744073Z"
    },
    "papermill": {
     "duration": 0.168491,
     "end_time": "2025-08-05T16:45:44.746583",
     "exception": false,
     "start_time": "2025-08-05T16:45:44.578092",
     "status": "completed"
    },
    "tags": []
   },
   "outputs": [
    {
     "data": {
      "text/plain": [
       "0.8679857318024746"
      ]
     },
     "execution_count": 34,
     "metadata": {},
     "output_type": "execute_result"
    }
   ],
   "source": [
    "probs_test = model.predict_proba(X_test)\n",
    "\n",
    "'''\n",
    "Below code returns a boolean array (or binary 0/1 array depending on how it’s used) where each element \n",
    "is True if the probability of class 1 is greater than or equal to the threshold, and False otherwise.\n",
    "'''\n",
    "y_pred_default = predict_w_threshold(probs_test, 0.5)\n",
    "\n",
    "from sklearn.metrics import accuracy_score\n",
    "\n",
    "# Naive prediction\n",
    "accuracy_score(y_true = y_true, y_pred = y_pred_default)"
   ]
  },
  {
   "cell_type": "code",
   "execution_count": 35,
   "id": "081964c3",
   "metadata": {
    "execution": {
     "iopub.execute_input": "2025-08-05T16:45:44.773849Z",
     "iopub.status.busy": "2025-08-05T16:45:44.773212Z",
     "iopub.status.idle": "2025-08-05T16:45:44.913328Z",
     "shell.execute_reply": "2025-08-05T16:45:44.912306Z"
    },
    "papermill": {
     "duration": 0.155727,
     "end_time": "2025-08-05T16:45:44.915277",
     "exception": false,
     "start_time": "2025-08-05T16:45:44.759550",
     "status": "completed"
    },
    "tags": []
   },
   "outputs": [
    {
     "data": {
      "text/plain": [
       "array([0, 0, 0, ..., 0, 0, 0])"
      ]
     },
     "execution_count": 35,
     "metadata": {},
     "output_type": "execute_result"
    }
   ],
   "source": [
    "model.predict(X_test)"
   ]
  },
  {
   "cell_type": "markdown",
   "id": "56c9705b",
   "metadata": {
    "papermill": {
     "duration": 0.026614,
     "end_time": "2025-08-05T16:45:44.969317",
     "exception": false,
     "start_time": "2025-08-05T16:45:44.942703",
     "status": "completed"
    },
    "tags": []
   },
   "source": [
    "# Conformal Prediction"
   ]
  },
  {
   "cell_type": "code",
   "execution_count": 36,
   "id": "160ec6ff",
   "metadata": {
    "execution": {
     "iopub.execute_input": "2025-08-05T16:45:45.024105Z",
     "iopub.status.busy": "2025-08-05T16:45:45.023546Z",
     "iopub.status.idle": "2025-08-05T16:45:45.028375Z",
     "shell.execute_reply": "2025-08-05T16:45:45.027373Z"
    },
    "papermill": {
     "duration": 0.034374,
     "end_time": "2025-08-05T16:45:45.030208",
     "exception": false,
     "start_time": "2025-08-05T16:45:44.995834",
     "status": "completed"
    },
    "tags": []
   },
   "outputs": [],
   "source": [
    "# Miscoverage level for conformal prediction (10% allowed error rate => 90% target coverage)\n",
    "alpha = 0.1"
   ]
  },
  {
   "cell_type": "code",
   "execution_count": 37,
   "id": "eadf4555-3dd3-440e-8e35-f82a4ad9f855",
   "metadata": {
    "execution": {
     "iopub.execute_input": "2025-08-05T16:45:45.061907Z",
     "iopub.status.busy": "2025-08-05T16:45:45.060701Z",
     "iopub.status.idle": "2025-08-05T16:45:45.147618Z",
     "shell.execute_reply": "2025-08-05T16:45:45.146385Z"
    },
    "papermill": {
     "duration": 0.102574,
     "end_time": "2025-08-05T16:45:45.149431",
     "exception": false,
     "start_time": "2025-08-05T16:45:45.046857",
     "status": "completed"
    },
    "tags": []
   },
   "outputs": [],
   "source": [
    "probs_calib = model.predict_proba(X_calib)"
   ]
  },
  {
   "cell_type": "code",
   "execution_count": 38,
   "id": "2ed93547-6d5d-4983-9b36-1ecb300da49a",
   "metadata": {
    "execution": {
     "iopub.execute_input": "2025-08-05T16:45:45.177198Z",
     "iopub.status.busy": "2025-08-05T16:45:45.176767Z",
     "iopub.status.idle": "2025-08-05T16:45:45.182783Z",
     "shell.execute_reply": "2025-08-05T16:45:45.181665Z"
    },
    "papermill": {
     "duration": 0.021435,
     "end_time": "2025-08-05T16:45:45.184237",
     "exception": false,
     "start_time": "2025-08-05T16:45:45.162802",
     "status": "completed"
    },
    "tags": []
   },
   "outputs": [],
   "source": [
    "y_calib = y_calib.values.ravel().astype(int)"
   ]
  },
  {
   "cell_type": "code",
   "execution_count": 39,
   "id": "65d1320d-f588-4b38-9072-62af1ae97f7d",
   "metadata": {
    "execution": {
     "iopub.execute_input": "2025-08-05T16:45:45.210720Z",
     "iopub.status.busy": "2025-08-05T16:45:45.210343Z",
     "iopub.status.idle": "2025-08-05T16:45:45.217935Z",
     "shell.execute_reply": "2025-08-05T16:45:45.216991Z"
    },
    "papermill": {
     "duration": 0.02242,
     "end_time": "2025-08-05T16:45:45.219400",
     "exception": false,
     "start_time": "2025-08-05T16:45:45.196980",
     "status": "completed"
    },
    "tags": []
   },
   "outputs": [],
   "source": [
    "from fairness_multiverse.conformal import compute_nc_scores\n",
    "\n",
    "# Compute nonconformity scores on calibration set (1 - probability of true class)\n",
    "nc_scores = compute_nc_scores(probs_calib, y_calib)"
   ]
  },
  {
   "cell_type": "code",
   "execution_count": 40,
   "id": "df3b8ca3-53b7-43d5-9667-7c85da7aeda2",
   "metadata": {
    "execution": {
     "iopub.execute_input": "2025-08-05T16:45:45.246435Z",
     "iopub.status.busy": "2025-08-05T16:45:45.245800Z",
     "iopub.status.idle": "2025-08-05T16:45:45.252478Z",
     "shell.execute_reply": "2025-08-05T16:45:45.251491Z"
    },
    "papermill": {
     "duration": 0.021726,
     "end_time": "2025-08-05T16:45:45.253990",
     "exception": false,
     "start_time": "2025-08-05T16:45:45.232264",
     "status": "completed"
    },
    "tags": []
   },
   "outputs": [],
   "source": [
    "from fairness_multiverse.conformal import find_threshold\n",
    "\n",
    "# Find conformal threshold q_hat for the given alpha (split conformal method)\n",
    "q_hat = find_threshold(nc_scores, alpha)"
   ]
  },
  {
   "cell_type": "code",
   "execution_count": 41,
   "id": "4d29e6c1-0ef6-4aa4-b8fe-4fe79b0d033a",
   "metadata": {
    "execution": {
     "iopub.execute_input": "2025-08-05T16:45:45.281086Z",
     "iopub.status.busy": "2025-08-05T16:45:45.280348Z",
     "iopub.status.idle": "2025-08-05T16:45:45.287434Z",
     "shell.execute_reply": "2025-08-05T16:45:45.286538Z"
    },
    "papermill": {
     "duration": 0.023065,
     "end_time": "2025-08-05T16:45:45.289860",
     "exception": false,
     "start_time": "2025-08-05T16:45:45.266795",
     "status": "completed"
    },
    "tags": []
   },
   "outputs": [
    {
     "data": {
      "text/plain": [
       "0.6869493135120739"
      ]
     },
     "execution_count": 41,
     "metadata": {},
     "output_type": "execute_result"
    }
   ],
   "source": [
    "q_hat"
   ]
  },
  {
   "cell_type": "code",
   "execution_count": 42,
   "id": "92460794-cdac-4be2-ba28-f28c0515a6fb",
   "metadata": {
    "execution": {
     "iopub.execute_input": "2025-08-05T16:45:45.369429Z",
     "iopub.status.busy": "2025-08-05T16:45:45.368969Z",
     "iopub.status.idle": "2025-08-05T16:45:45.913008Z",
     "shell.execute_reply": "2025-08-05T16:45:45.912128Z"
    },
    "papermill": {
     "duration": 0.585908,
     "end_time": "2025-08-05T16:45:45.914625",
     "exception": false,
     "start_time": "2025-08-05T16:45:45.328717",
     "status": "completed"
    },
    "tags": []
   },
   "outputs": [],
   "source": [
    "from fairness_multiverse.conformal import predict_conformal_sets\n",
    "\n",
    "# Generate prediction sets for each test example\n",
    "pred_sets = predict_conformal_sets(model, X_test, q_hat)"
   ]
  },
  {
   "cell_type": "code",
   "execution_count": 43,
   "id": "d90c9a65-e6db-4f5d-80cd-e68fb7e46829",
   "metadata": {
    "execution": {
     "iopub.execute_input": "2025-08-05T16:45:45.944165Z",
     "iopub.status.busy": "2025-08-05T16:45:45.943597Z",
     "iopub.status.idle": "2025-08-05T16:45:45.949412Z",
     "shell.execute_reply": "2025-08-05T16:45:45.948568Z"
    },
    "papermill": {
     "duration": 0.022845,
     "end_time": "2025-08-05T16:45:45.950957",
     "exception": false,
     "start_time": "2025-08-05T16:45:45.928112",
     "status": "completed"
    },
    "tags": []
   },
   "outputs": [],
   "source": [
    "y_true = y_true.squeeze()"
   ]
  },
  {
   "cell_type": "code",
   "execution_count": 44,
   "id": "3a58a54a-1e68-46b9-927a-df01f18aebc8",
   "metadata": {
    "execution": {
     "iopub.execute_input": "2025-08-05T16:45:45.978404Z",
     "iopub.status.busy": "2025-08-05T16:45:45.977805Z",
     "iopub.status.idle": "2025-08-05T16:45:46.773768Z",
     "shell.execute_reply": "2025-08-05T16:45:46.772689Z"
    },
    "papermill": {
     "duration": 0.812289,
     "end_time": "2025-08-05T16:45:46.776469",
     "exception": false,
     "start_time": "2025-08-05T16:45:45.964180",
     "status": "completed"
    },
    "tags": []
   },
   "outputs": [],
   "source": [
    "from fairness_multiverse.conformal import evaluate_sets\n",
    "\n",
    "# Evaluate coverage and average set size on test data\n",
    "metrics = evaluate_sets(pred_sets, y_true)"
   ]
  },
  {
   "cell_type": "markdown",
   "id": "2b569c12-9aaa-4c88-98c9-bbcd0cf3ebb8",
   "metadata": {
    "papermill": {
     "duration": 0.013368,
     "end_time": "2025-08-05T16:45:46.816707",
     "exception": false,
     "start_time": "2025-08-05T16:45:46.803339",
     "status": "completed"
    },
    "tags": []
   },
   "source": [
    "# CP Metrics"
   ]
  },
  {
   "cell_type": "code",
   "execution_count": 45,
   "id": "5ce0a5cb-201f-45a0-ade5-94c7f0bd6095",
   "metadata": {
    "execution": {
     "iopub.execute_input": "2025-08-05T16:45:46.845214Z",
     "iopub.status.busy": "2025-08-05T16:45:46.844624Z",
     "iopub.status.idle": "2025-08-05T16:45:46.853572Z",
     "shell.execute_reply": "2025-08-05T16:45:46.852510Z"
    },
    "papermill": {
     "duration": 0.025141,
     "end_time": "2025-08-05T16:45:46.855077",
     "exception": false,
     "start_time": "2025-08-05T16:45:46.829936",
     "status": "completed"
    },
    "tags": []
   },
   "outputs": [
    {
     "data": {
      "text/plain": [
       "{'coverage': 0.9123174673949392, 'avg_size': 1.3166982499163973}"
      ]
     },
     "execution_count": 45,
     "metadata": {},
     "output_type": "execute_result"
    }
   ],
   "source": [
    "metrics"
   ]
  },
  {
   "cell_type": "code",
   "execution_count": 46,
   "id": "9b9a838d-31c9-430b-ae14-12baee460d17",
   "metadata": {
    "execution": {
     "iopub.execute_input": "2025-08-05T16:45:46.883775Z",
     "iopub.status.busy": "2025-08-05T16:45:46.883355Z",
     "iopub.status.idle": "2025-08-05T16:45:46.889444Z",
     "shell.execute_reply": "2025-08-05T16:45:46.888520Z"
    },
    "papermill": {
     "duration": 0.022797,
     "end_time": "2025-08-05T16:45:46.891650",
     "exception": false,
     "start_time": "2025-08-05T16:45:46.868853",
     "status": "completed"
    },
    "tags": []
   },
   "outputs": [],
   "source": [
    "example_universe = universe.copy()\n",
    "universe_training_year = example_universe.get(\"training_year\")\n",
    "universe_training_size = example_universe.get(\"training_size\")\n",
    "universe_scale = example_universe.get(\"scale\")\n",
    "universe_model = example_universe.get(\"model\")\n",
    "universe_exclude_features = example_universe.get(\"exclude_features\")\n",
    "universe_exclude_subgroups = example_universe.get(\"exclude_subgroups\")"
   ]
  },
  {
   "cell_type": "code",
   "execution_count": 47,
   "id": "f4b6a8ac-9dc0-4245-8a91-5b3b5999c4f9",
   "metadata": {
    "execution": {
     "iopub.execute_input": "2025-08-05T16:45:46.960763Z",
     "iopub.status.busy": "2025-08-05T16:45:46.960342Z",
     "iopub.status.idle": "2025-08-05T16:45:46.966314Z",
     "shell.execute_reply": "2025-08-05T16:45:46.965381Z"
    },
    "papermill": {
     "duration": 0.042883,
     "end_time": "2025-08-05T16:45:46.968309",
     "exception": false,
     "start_time": "2025-08-05T16:45:46.925426",
     "status": "completed"
    },
    "tags": []
   },
   "outputs": [],
   "source": [
    "cp_metrics_dict = {\n",
    "    \"universe_id\": [universe_id],\n",
    "    \"universe_training_year\": [universe_training_year],\n",
    "    \"universe_training_size\": [universe_training_size],\n",
    "    \"universe_scale\": [universe_scale],\n",
    "    \"universe_model\": [universe_model],\n",
    "    \"universe_exclude_features\": [universe_exclude_features],\n",
    "    \"universe_exclude_subgroups\": [universe_exclude_subgroups],\n",
    "    \"q_hat\": [q_hat],\n",
    "    \"coverage\": [metrics[\"coverage\"]],\n",
    "    \"avg_size\": [metrics[\"avg_size\"]],\n",
    "}"
   ]
  },
  {
   "cell_type": "code",
   "execution_count": 48,
   "id": "908acbb1-0371-4915-85ca-3fa520d2efe2",
   "metadata": {
    "execution": {
     "iopub.execute_input": "2025-08-05T16:45:47.030478Z",
     "iopub.status.busy": "2025-08-05T16:45:47.030058Z",
     "iopub.status.idle": "2025-08-05T16:45:47.037150Z",
     "shell.execute_reply": "2025-08-05T16:45:47.036247Z"
    },
    "papermill": {
     "duration": 0.040279,
     "end_time": "2025-08-05T16:45:47.039068",
     "exception": false,
     "start_time": "2025-08-05T16:45:46.998789",
     "status": "completed"
    },
    "tags": []
   },
   "outputs": [
    {
     "data": {
      "text/plain": [
       "{'universe_id': ['8e86db5b018f1acda5b520b6ad7a42be'],\n",
       " 'universe_training_year': ['2010_14'],\n",
       " 'universe_training_size': ['1k'],\n",
       " 'universe_scale': ['do-not-scale'],\n",
       " 'universe_model': ['elasticnet'],\n",
       " 'universe_exclude_features': ['age'],\n",
       " 'universe_exclude_subgroups': ['keep-all'],\n",
       " 'q_hat': [0.6869493135120739],\n",
       " 'coverage': [0.9123174673949392],\n",
       " 'avg_size': [1.3166982499163973]}"
      ]
     },
     "execution_count": 48,
     "metadata": {},
     "output_type": "execute_result"
    }
   ],
   "source": [
    "cp_metrics_dict"
   ]
  },
  {
   "cell_type": "code",
   "execution_count": 49,
   "id": "33007efc-14e9-4ec6-97ac-56a455c82265",
   "metadata": {
    "execution": {
     "iopub.execute_input": "2025-08-05T16:45:47.072793Z",
     "iopub.status.busy": "2025-08-05T16:45:47.072096Z",
     "iopub.status.idle": "2025-08-05T16:45:47.078845Z",
     "shell.execute_reply": "2025-08-05T16:45:47.077747Z"
    },
    "papermill": {
     "duration": 0.022413,
     "end_time": "2025-08-05T16:45:47.080453",
     "exception": false,
     "start_time": "2025-08-05T16:45:47.058040",
     "status": "completed"
    },
    "tags": []
   },
   "outputs": [],
   "source": [
    "cp_metrics_df = pd.DataFrame(cp_metrics_dict)"
   ]
  },
  {
   "cell_type": "code",
   "execution_count": 50,
   "id": "db12611b-57b2-4910-b9d0-355adfd6e7bf",
   "metadata": {
    "execution": {
     "iopub.execute_input": "2025-08-05T16:45:47.109910Z",
     "iopub.status.busy": "2025-08-05T16:45:47.109581Z",
     "iopub.status.idle": "2025-08-05T16:45:47.124226Z",
     "shell.execute_reply": "2025-08-05T16:45:47.123308Z"
    },
    "papermill": {
     "duration": 0.031971,
     "end_time": "2025-08-05T16:45:47.125630",
     "exception": false,
     "start_time": "2025-08-05T16:45:47.093659",
     "status": "completed"
    },
    "tags": []
   },
   "outputs": [
    {
     "data": {
      "text/html": [
       "<div>\n",
       "<style scoped>\n",
       "    .dataframe tbody tr th:only-of-type {\n",
       "        vertical-align: middle;\n",
       "    }\n",
       "\n",
       "    .dataframe tbody tr th {\n",
       "        vertical-align: top;\n",
       "    }\n",
       "\n",
       "    .dataframe thead th {\n",
       "        text-align: right;\n",
       "    }\n",
       "</style>\n",
       "<table border=\"1\" class=\"dataframe\">\n",
       "  <thead>\n",
       "    <tr style=\"text-align: right;\">\n",
       "      <th></th>\n",
       "      <th>universe_id</th>\n",
       "      <th>universe_training_year</th>\n",
       "      <th>universe_training_size</th>\n",
       "      <th>universe_scale</th>\n",
       "      <th>universe_model</th>\n",
       "      <th>universe_exclude_features</th>\n",
       "      <th>universe_exclude_subgroups</th>\n",
       "      <th>q_hat</th>\n",
       "      <th>coverage</th>\n",
       "      <th>avg_size</th>\n",
       "    </tr>\n",
       "  </thead>\n",
       "  <tbody>\n",
       "    <tr>\n",
       "      <th>0</th>\n",
       "      <td>8e86db5b018f1acda5b520b6ad7a42be</td>\n",
       "      <td>2010_14</td>\n",
       "      <td>1k</td>\n",
       "      <td>do-not-scale</td>\n",
       "      <td>elasticnet</td>\n",
       "      <td>age</td>\n",
       "      <td>keep-all</td>\n",
       "      <td>0.686949</td>\n",
       "      <td>0.912317</td>\n",
       "      <td>1.316698</td>\n",
       "    </tr>\n",
       "  </tbody>\n",
       "</table>\n",
       "</div>"
      ],
      "text/plain": [
       "                        universe_id universe_training_year  \\\n",
       "0  8e86db5b018f1acda5b520b6ad7a42be                2010_14   \n",
       "\n",
       "  universe_training_size universe_scale universe_model  \\\n",
       "0                     1k   do-not-scale     elasticnet   \n",
       "\n",
       "  universe_exclude_features universe_exclude_subgroups     q_hat  coverage  \\\n",
       "0                       age                   keep-all  0.686949  0.912317   \n",
       "\n",
       "   avg_size  \n",
       "0  1.316698  "
      ]
     },
     "execution_count": 50,
     "metadata": {},
     "output_type": "execute_result"
    }
   ],
   "source": [
    "cp_metrics_df"
   ]
  },
  {
   "cell_type": "code",
   "execution_count": 51,
   "id": "b7fbde55-a0a1-47e4-9af6-fe4a17fa8c61",
   "metadata": {
    "execution": {
     "iopub.execute_input": "2025-08-05T16:45:47.174670Z",
     "iopub.status.busy": "2025-08-05T16:45:47.174244Z",
     "iopub.status.idle": "2025-08-05T16:45:47.179210Z",
     "shell.execute_reply": "2025-08-05T16:45:47.178307Z"
    },
    "papermill": {
     "duration": 0.035517,
     "end_time": "2025-08-05T16:45:47.181021",
     "exception": false,
     "start_time": "2025-08-05T16:45:47.145504",
     "status": "completed"
    },
    "tags": []
   },
   "outputs": [],
   "source": [
    "# Conditional Coverage & looking at subgroups"
   ]
  },
  {
   "cell_type": "code",
   "execution_count": 52,
   "id": "027ae886-68dd-4141-96c7-805a5450e1ef",
   "metadata": {
    "execution": {
     "iopub.execute_input": "2025-08-05T16:45:47.245892Z",
     "iopub.status.busy": "2025-08-05T16:45:47.245207Z",
     "iopub.status.idle": "2025-08-05T16:45:47.474988Z",
     "shell.execute_reply": "2025-08-05T16:45:47.474103Z"
    },
    "papermill": {
     "duration": 0.265075,
     "end_time": "2025-08-05T16:45:47.477132",
     "exception": false,
     "start_time": "2025-08-05T16:45:47.212057",
     "status": "completed"
    },
    "tags": []
   },
   "outputs": [],
   "source": [
    "from fairness_multiverse.conformal import build_cp_groups\n",
    "\n",
    "cp_groups_df = build_cp_groups(pred_sets, y_true, X_test.index, org_test)\n",
    "#needs universe_id and setting"
   ]
  },
  {
   "cell_type": "code",
   "execution_count": 53,
   "id": "6cbdab96-b2b2-45af-ad54-d0516db2e28d",
   "metadata": {
    "execution": {
     "iopub.execute_input": "2025-08-05T16:45:47.522765Z",
     "iopub.status.busy": "2025-08-05T16:45:47.522431Z",
     "iopub.status.idle": "2025-08-05T16:45:48.816998Z",
     "shell.execute_reply": "2025-08-05T16:45:48.816140Z"
    },
    "papermill": {
     "duration": 1.31258,
     "end_time": "2025-08-05T16:45:48.818591",
     "exception": false,
     "start_time": "2025-08-05T16:45:47.506011",
     "status": "completed"
    },
    "tags": []
   },
   "outputs": [],
   "source": [
    "# Define covered = 1 if true_label is in the predicted set\n",
    "cp_groups_df['covered'] = cp_groups_df.apply(\n",
    "    lambda r: int(r['true_label'] in r['pred_set']),\n",
    "    axis=1\n",
    ")"
   ]
  },
  {
   "cell_type": "code",
   "execution_count": 54,
   "id": "338ff529-1a6b-4b87-a931-8e4788d52aad",
   "metadata": {
    "execution": {
     "iopub.execute_input": "2025-08-05T16:45:48.847590Z",
     "iopub.status.busy": "2025-08-05T16:45:48.847217Z",
     "iopub.status.idle": "2025-08-05T16:45:48.851951Z",
     "shell.execute_reply": "2025-08-05T16:45:48.850920Z"
    },
    "papermill": {
     "duration": 0.020396,
     "end_time": "2025-08-05T16:45:48.853348",
     "exception": false,
     "start_time": "2025-08-05T16:45:48.832952",
     "status": "completed"
    },
    "tags": []
   },
   "outputs": [],
   "source": [
    "#cp_groups_df"
   ]
  },
  {
   "cell_type": "code",
   "execution_count": 55,
   "id": "90032e27-66df-4540-9169-4e89cfbaa758",
   "metadata": {
    "execution": {
     "iopub.execute_input": "2025-08-05T16:45:48.881447Z",
     "iopub.status.busy": "2025-08-05T16:45:48.881081Z",
     "iopub.status.idle": "2025-08-05T16:45:48.893060Z",
     "shell.execute_reply": "2025-08-05T16:45:48.892262Z"
    },
    "papermill": {
     "duration": 0.027719,
     "end_time": "2025-08-05T16:45:48.894442",
     "exception": false,
     "start_time": "2025-08-05T16:45:48.866723",
     "status": "completed"
    },
    "tags": []
   },
   "outputs": [],
   "source": [
    "subgroups = ['frau1','nongerman','nongerman_male','nongerman_female']\n",
    "\n",
    "# Conditional coverage for subgroup==1\n",
    "cond_coverage = {\n",
    "    g: cp_groups_df.loc[cp_groups_df[g]==1, 'covered'].mean()\n",
    "    for g in subgroups\n",
    "}"
   ]
  },
  {
   "cell_type": "code",
   "execution_count": 56,
   "id": "1e348fb1-b9c3-45bc-ba23-f016827a7e0d",
   "metadata": {
    "execution": {
     "iopub.execute_input": "2025-08-05T16:45:48.925362Z",
     "iopub.status.busy": "2025-08-05T16:45:48.924683Z",
     "iopub.status.idle": "2025-08-05T16:45:48.931340Z",
     "shell.execute_reply": "2025-08-05T16:45:48.930392Z"
    },
    "papermill": {
     "duration": 0.024904,
     "end_time": "2025-08-05T16:45:48.933068",
     "exception": false,
     "start_time": "2025-08-05T16:45:48.908164",
     "status": "completed"
    },
    "tags": []
   },
   "outputs": [
    {
     "data": {
      "text/plain": [
       "{'frau1': 0.9109044345599138,\n",
       " 'nongerman': 0.9696850614719587,\n",
       " 'nongerman_male': 0.9778438259929749,\n",
       " 'nongerman_female': 0.9561847988077496}"
      ]
     },
     "execution_count": 56,
     "metadata": {},
     "output_type": "execute_result"
    }
   ],
   "source": [
    "cond_coverage"
   ]
  },
  {
   "cell_type": "code",
   "execution_count": 57,
   "id": "f5093324-c3dd-4d63-bc4c-8d945e5c8bbb",
   "metadata": {
    "execution": {
     "iopub.execute_input": "2025-08-05T16:45:48.991380Z",
     "iopub.status.busy": "2025-08-05T16:45:48.990918Z",
     "iopub.status.idle": "2025-08-05T16:45:48.997652Z",
     "shell.execute_reply": "2025-08-05T16:45:48.996714Z"
    },
    "papermill": {
     "duration": 0.038509,
     "end_time": "2025-08-05T16:45:48.998994",
     "exception": false,
     "start_time": "2025-08-05T16:45:48.960485",
     "status": "completed"
    },
    "tags": []
   },
   "outputs": [],
   "source": [
    "for subgroup, cov in cond_coverage.items():\n",
    "    cp_metrics_df[f\"cov_{subgroup}\"] = cov"
   ]
  },
  {
   "cell_type": "code",
   "execution_count": 58,
   "id": "6e872e10-dbe5-49e8-b554-5030c98ff75d",
   "metadata": {
    "execution": {
     "iopub.execute_input": "2025-08-05T16:45:49.030309Z",
     "iopub.status.busy": "2025-08-05T16:45:49.029830Z",
     "iopub.status.idle": "2025-08-05T16:45:49.049577Z",
     "shell.execute_reply": "2025-08-05T16:45:49.048748Z"
    },
    "papermill": {
     "duration": 0.037228,
     "end_time": "2025-08-05T16:45:49.050873",
     "exception": false,
     "start_time": "2025-08-05T16:45:49.013645",
     "status": "completed"
    },
    "tags": []
   },
   "outputs": [
    {
     "data": {
      "text/html": [
       "<div>\n",
       "<style scoped>\n",
       "    .dataframe tbody tr th:only-of-type {\n",
       "        vertical-align: middle;\n",
       "    }\n",
       "\n",
       "    .dataframe tbody tr th {\n",
       "        vertical-align: top;\n",
       "    }\n",
       "\n",
       "    .dataframe thead th {\n",
       "        text-align: right;\n",
       "    }\n",
       "</style>\n",
       "<table border=\"1\" class=\"dataframe\">\n",
       "  <thead>\n",
       "    <tr style=\"text-align: right;\">\n",
       "      <th></th>\n",
       "      <th>universe_id</th>\n",
       "      <th>universe_training_year</th>\n",
       "      <th>universe_training_size</th>\n",
       "      <th>universe_scale</th>\n",
       "      <th>universe_model</th>\n",
       "      <th>universe_exclude_features</th>\n",
       "      <th>universe_exclude_subgroups</th>\n",
       "      <th>q_hat</th>\n",
       "      <th>coverage</th>\n",
       "      <th>avg_size</th>\n",
       "      <th>cov_frau1</th>\n",
       "      <th>cov_nongerman</th>\n",
       "      <th>cov_nongerman_male</th>\n",
       "      <th>cov_nongerman_female</th>\n",
       "    </tr>\n",
       "  </thead>\n",
       "  <tbody>\n",
       "    <tr>\n",
       "      <th>0</th>\n",
       "      <td>8e86db5b018f1acda5b520b6ad7a42be</td>\n",
       "      <td>2010_14</td>\n",
       "      <td>1k</td>\n",
       "      <td>do-not-scale</td>\n",
       "      <td>elasticnet</td>\n",
       "      <td>age</td>\n",
       "      <td>keep-all</td>\n",
       "      <td>0.686949</td>\n",
       "      <td>0.912317</td>\n",
       "      <td>1.316698</td>\n",
       "      <td>0.910904</td>\n",
       "      <td>0.969685</td>\n",
       "      <td>0.977844</td>\n",
       "      <td>0.956185</td>\n",
       "    </tr>\n",
       "  </tbody>\n",
       "</table>\n",
       "</div>"
      ],
      "text/plain": [
       "                        universe_id universe_training_year  \\\n",
       "0  8e86db5b018f1acda5b520b6ad7a42be                2010_14   \n",
       "\n",
       "  universe_training_size universe_scale universe_model  \\\n",
       "0                     1k   do-not-scale     elasticnet   \n",
       "\n",
       "  universe_exclude_features universe_exclude_subgroups     q_hat  coverage  \\\n",
       "0                       age                   keep-all  0.686949  0.912317   \n",
       "\n",
       "   avg_size  cov_frau1  cov_nongerman  cov_nongerman_male  \\\n",
       "0  1.316698   0.910904       0.969685            0.977844   \n",
       "\n",
       "   cov_nongerman_female  \n",
       "0              0.956185  "
      ]
     },
     "execution_count": 58,
     "metadata": {},
     "output_type": "execute_result"
    }
   ],
   "source": [
    "cp_metrics_df"
   ]
  },
  {
   "cell_type": "markdown",
   "id": "33774451",
   "metadata": {
    "papermill": {
     "duration": 0.013817,
     "end_time": "2025-08-05T16:45:49.079233",
     "exception": false,
     "start_time": "2025-08-05T16:45:49.065416",
     "status": "completed"
    },
    "tags": []
   },
   "source": [
    "# (Fairness) Metrics"
   ]
  },
  {
   "cell_type": "code",
   "execution_count": 59,
   "id": "debc5d62",
   "metadata": {
    "execution": {
     "iopub.execute_input": "2025-08-05T16:45:49.109796Z",
     "iopub.status.busy": "2025-08-05T16:45:49.109206Z",
     "iopub.status.idle": "2025-08-05T16:45:49.132866Z",
     "shell.execute_reply": "2025-08-05T16:45:49.131962Z"
    },
    "papermill": {
     "duration": 0.041553,
     "end_time": "2025-08-05T16:45:49.134539",
     "exception": false,
     "start_time": "2025-08-05T16:45:49.092986",
     "status": "completed"
    },
    "tags": []
   },
   "outputs": [],
   "source": [
    "# do I need to include maxdeutsch1.missing?\n",
    "\n",
    "import numpy as np\n",
    "\n",
    "colname_to_bin = \"maxdeutsch1\"\n",
    "majority_value = org_train[colname_to_bin].mode()[0]\n",
    "\n",
    "org_test[\"majmin\"] = np.where(org_test[colname_to_bin] == majority_value, \"majority\", \"minority\")"
   ]
  },
  {
   "cell_type": "code",
   "execution_count": 60,
   "id": "06a50de5",
   "metadata": {
    "execution": {
     "iopub.execute_input": "2025-08-05T16:45:49.166653Z",
     "iopub.status.busy": "2025-08-05T16:45:49.165553Z",
     "iopub.status.idle": "2025-08-05T16:45:51.289052Z",
     "shell.execute_reply": "2025-08-05T16:45:51.288127Z"
    },
    "papermill": {
     "duration": 2.141169,
     "end_time": "2025-08-05T16:45:51.290661",
     "exception": false,
     "start_time": "2025-08-05T16:45:49.149492",
     "status": "completed"
    },
    "tags": []
   },
   "outputs": [],
   "source": [
    "example_universe = universe.copy()\n",
    "example_universe[\"cutoff\"] = example_universe[\"cutoff\"][0]\n",
    "example_universe[\"eval_fairness_grouping\"] = example_universe[\"eval_fairness_grouping\"][0]\n",
    "fairness_dict, metric_frame = universe_analysis.compute_metrics(\n",
    "    example_universe,\n",
    "    y_pred_prob=probs_test,\n",
    "    y_test=y_true,\n",
    "    org_test=org_test,\n",
    ")"
   ]
  },
  {
   "cell_type": "markdown",
   "id": "f95d4e02",
   "metadata": {
    "papermill": {
     "duration": 0.014645,
     "end_time": "2025-08-05T16:45:51.324047",
     "exception": false,
     "start_time": "2025-08-05T16:45:51.309402",
     "status": "completed"
    },
    "tags": []
   },
   "source": [
    "# Overall"
   ]
  },
  {
   "cell_type": "markdown",
   "id": "bdee4871",
   "metadata": {
    "papermill": {
     "duration": 0.014202,
     "end_time": "2025-08-05T16:45:51.352354",
     "exception": false,
     "start_time": "2025-08-05T16:45:51.338152",
     "status": "completed"
    },
    "tags": []
   },
   "source": [
    "Fairness\n",
    "Main fairness target: Equalized Odds. Seems to be a better fit than equal opportunity, since we're not only interested in Y = 1. Seems to be a better fit than demographic parity, since we also care about accuracy, not just equal distribution of preds.\n",
    "\n",
    "Pick column for computation of fairness metrics\n",
    "\n",
    "Performance\n",
    "Overall performance measures, most interesting in relation to the measures split by group below"
   ]
  },
  {
   "cell_type": "code",
   "execution_count": 61,
   "id": "c4e067c6",
   "metadata": {
    "execution": {
     "iopub.execute_input": "2025-08-05T16:45:51.383286Z",
     "iopub.status.busy": "2025-08-05T16:45:51.382438Z",
     "iopub.status.idle": "2025-08-05T16:45:51.390837Z",
     "shell.execute_reply": "2025-08-05T16:45:51.389894Z"
    },
    "papermill": {
     "duration": 0.025346,
     "end_time": "2025-08-05T16:45:51.392207",
     "exception": false,
     "start_time": "2025-08-05T16:45:51.366861",
     "status": "completed"
    },
    "tags": []
   },
   "outputs": [
    {
     "data": {
      "text/plain": [
       "accuracy                   0.205451\n",
       "balanced accuracy          0.506320\n",
       "f1                         0.227303\n",
       "precision                  0.129851\n",
       "false positive rate        0.898379\n",
       "false negative rate        0.088982\n",
       "selection rate             0.900000\n",
       "count                  89710.000000\n",
       "dtype: float64"
      ]
     },
     "execution_count": 61,
     "metadata": {},
     "output_type": "execute_result"
    }
   ],
   "source": [
    "metric_frame.overall"
   ]
  },
  {
   "cell_type": "markdown",
   "id": "e968fe9d",
   "metadata": {
    "papermill": {
     "duration": 0.014653,
     "end_time": "2025-08-05T16:45:51.422119",
     "exception": false,
     "start_time": "2025-08-05T16:45:51.407466",
     "status": "completed"
    },
    "tags": []
   },
   "source": [
    "By Group"
   ]
  },
  {
   "cell_type": "code",
   "execution_count": 62,
   "id": "ec325bce",
   "metadata": {
    "execution": {
     "iopub.execute_input": "2025-08-05T16:45:51.452439Z",
     "iopub.status.busy": "2025-08-05T16:45:51.451887Z",
     "iopub.status.idle": "2025-08-05T16:45:51.471881Z",
     "shell.execute_reply": "2025-08-05T16:45:51.470891Z"
    },
    "papermill": {
     "duration": 0.037029,
     "end_time": "2025-08-05T16:45:51.473368",
     "exception": false,
     "start_time": "2025-08-05T16:45:51.436339",
     "status": "completed"
    },
    "tags": []
   },
   "outputs": [
    {
     "data": {
      "text/html": [
       "<div>\n",
       "<style scoped>\n",
       "    .dataframe tbody tr th:only-of-type {\n",
       "        vertical-align: middle;\n",
       "    }\n",
       "\n",
       "    .dataframe tbody tr th {\n",
       "        vertical-align: top;\n",
       "    }\n",
       "\n",
       "    .dataframe thead th {\n",
       "        text-align: right;\n",
       "    }\n",
       "</style>\n",
       "<table border=\"1\" class=\"dataframe\">\n",
       "  <thead>\n",
       "    <tr style=\"text-align: right;\">\n",
       "      <th></th>\n",
       "      <th>accuracy</th>\n",
       "      <th>balanced accuracy</th>\n",
       "      <th>f1</th>\n",
       "      <th>precision</th>\n",
       "      <th>false positive rate</th>\n",
       "      <th>false negative rate</th>\n",
       "      <th>selection rate</th>\n",
       "      <th>count</th>\n",
       "    </tr>\n",
       "    <tr>\n",
       "      <th>majmin</th>\n",
       "      <th></th>\n",
       "      <th></th>\n",
       "      <th></th>\n",
       "      <th></th>\n",
       "      <th></th>\n",
       "      <th></th>\n",
       "      <th></th>\n",
       "      <th></th>\n",
       "    </tr>\n",
       "  </thead>\n",
       "  <tbody>\n",
       "    <tr>\n",
       "      <th>majority</th>\n",
       "      <td>0.225141</td>\n",
       "      <td>0.508876</td>\n",
       "      <td>0.233770</td>\n",
       "      <td>0.134454</td>\n",
       "      <td>0.876778</td>\n",
       "      <td>0.105470</td>\n",
       "      <td>0.879124</td>\n",
       "      <td>69170.0</td>\n",
       "    </tr>\n",
       "    <tr>\n",
       "      <th>minority</th>\n",
       "      <td>0.139143</td>\n",
       "      <td>0.502464</td>\n",
       "      <td>0.207014</td>\n",
       "      <td>0.115805</td>\n",
       "      <td>0.969734</td>\n",
       "      <td>0.025338</td>\n",
       "      <td>0.970302</td>\n",
       "      <td>20540.0</td>\n",
       "    </tr>\n",
       "  </tbody>\n",
       "</table>\n",
       "</div>"
      ],
      "text/plain": [
       "          accuracy  balanced accuracy        f1  precision  \\\n",
       "majmin                                                       \n",
       "majority  0.225141           0.508876  0.233770   0.134454   \n",
       "minority  0.139143           0.502464  0.207014   0.115805   \n",
       "\n",
       "          false positive rate  false negative rate  selection rate    count  \n",
       "majmin                                                                       \n",
       "majority             0.876778             0.105470        0.879124  69170.0  \n",
       "minority             0.969734             0.025338        0.970302  20540.0  "
      ]
     },
     "execution_count": 62,
     "metadata": {},
     "output_type": "execute_result"
    }
   ],
   "source": [
    "metric_frame.by_group"
   ]
  },
  {
   "cell_type": "code",
   "execution_count": 63,
   "id": "a9ddbe63",
   "metadata": {
    "execution": {
     "iopub.execute_input": "2025-08-05T16:45:51.505032Z",
     "iopub.status.busy": "2025-08-05T16:45:51.504424Z",
     "iopub.status.idle": "2025-08-05T16:45:53.513213Z",
     "shell.execute_reply": "2025-08-05T16:45:53.512354Z"
    },
    "papermill": {
     "duration": 2.026169,
     "end_time": "2025-08-05T16:45:53.514911",
     "exception": false,
     "start_time": "2025-08-05T16:45:51.488742",
     "status": "completed"
    },
    "tags": []
   },
   "outputs": [
    {
     "data": {
      "text/plain": [
       "array([[<Axes: title={'center': 'accuracy'}, xlabel='majmin'>,\n",
       "        <Axes: title={'center': 'balanced accuracy'}, xlabel='majmin'>,\n",
       "        <Axes: title={'center': 'f1'}, xlabel='majmin'>],\n",
       "       [<Axes: title={'center': 'precision'}, xlabel='majmin'>,\n",
       "        <Axes: title={'center': 'false positive rate'}, xlabel='majmin'>,\n",
       "        <Axes: title={'center': 'false negative rate'}, xlabel='majmin'>],\n",
       "       [<Axes: title={'center': 'selection rate'}, xlabel='majmin'>,\n",
       "        <Axes: title={'center': 'count'}, xlabel='majmin'>,\n",
       "        <Axes: xlabel='majmin'>]], dtype=object)"
      ]
     },
     "execution_count": 63,
     "metadata": {},
     "output_type": "execute_result"
    },
    {
     "data": {
      "image/png": "[encoded data removed]",
      "text/plain": [
       "<Figure size 1200x800 with 9 Axes>"
      ]
     },
     "metadata": {},
     "output_type": "display_data"
    }
   ],
   "source": [
    "# In a graphic\n",
    "metric_frame.by_group.plot.bar(\n",
    "    subplots=True,\n",
    "    layout=[3, 3],\n",
    "    legend=False,\n",
    "    figsize=[12, 8],\n",
    "    title=\"Show all metrics\",\n",
    ")"
   ]
  },
  {
   "cell_type": "markdown",
   "id": "f57a0bac",
   "metadata": {
    "papermill": {
     "duration": 0.030929,
     "end_time": "2025-08-05T16:45:53.577762",
     "exception": false,
     "start_time": "2025-08-05T16:45:53.546833",
     "status": "completed"
    },
    "tags": []
   },
   "source": [
    "# Final Output"
   ]
  },
  {
   "cell_type": "code",
   "execution_count": 64,
   "id": "96d280a3",
   "metadata": {
    "execution": {
     "iopub.execute_input": "2025-08-05T16:45:53.642525Z",
     "iopub.status.busy": "2025-08-05T16:45:53.642024Z",
     "iopub.status.idle": "2025-08-05T16:45:53.648457Z",
     "shell.execute_reply": "2025-08-05T16:45:53.647620Z"
    },
    "papermill": {
     "duration": 0.040352,
     "end_time": "2025-08-05T16:45:53.649760",
     "exception": false,
     "start_time": "2025-08-05T16:45:53.609408",
     "status": "completed"
    },
    "tags": []
   },
   "outputs": [
    {
     "data": {
      "text/plain": [
       "4"
      ]
     },
     "execution_count": 64,
     "metadata": {},
     "output_type": "execute_result"
    }
   ],
   "source": [
    "sub_universes = universe_analysis.generate_sub_universes()\n",
    "len(sub_universes)"
   ]
  },
  {
   "cell_type": "code",
   "execution_count": 65,
   "id": "92adf7ba",
   "metadata": {
    "execution": {
     "iopub.execute_input": "2025-08-05T16:45:53.682705Z",
     "iopub.status.busy": "2025-08-05T16:45:53.682027Z",
     "iopub.status.idle": "2025-08-05T16:45:53.697998Z",
     "shell.execute_reply": "2025-08-05T16:45:53.697088Z"
    },
    "papermill": {
     "duration": 0.03388,
     "end_time": "2025-08-05T16:45:53.699402",
     "exception": false,
     "start_time": "2025-08-05T16:45:53.665522",
     "status": "completed"
    },
    "tags": []
   },
   "outputs": [],
   "source": [
    "def filter_sub_universe_data(sub_universe, org_test):\n",
    "    # Keep all rows — no filtering\n",
    "    keep_rows_mask = np.ones(org_test.shape[0], dtype=bool)\n",
    "\n",
    "    print(f\"[INFO] Keeping all rows: {keep_rows_mask.sum()} rows retained.\")\n",
    "    return keep_rows_mask"
   ]
  },
  {
   "cell_type": "code",
   "execution_count": 66,
   "id": "4a759155",
   "metadata": {
    "execution": {
     "iopub.execute_input": "2025-08-05T16:45:53.732042Z",
     "iopub.status.busy": "2025-08-05T16:45:53.731653Z",
     "iopub.status.idle": "2025-08-05T16:46:00.990893Z",
     "shell.execute_reply": "2025-08-05T16:46:00.990021Z"
    },
    "papermill": {
     "duration": 7.277195,
     "end_time": "2025-08-05T16:46:00.992261",
     "exception": false,
     "start_time": "2025-08-05T16:45:53.715066",
     "status": "completed"
    },
    "tags": []
   },
   "outputs": [
    {
     "name": "stdout",
     "output_type": "stream",
     "text": [
      "Stopping execution_time clock.\n",
      "[INFO] Keeping all rows: 89710 rows retained.\n"
     ]
    },
    {
     "name": "stdout",
     "output_type": "stream",
     "text": [
      "[INFO] Keeping all rows: 89710 rows retained.\n"
     ]
    },
    {
     "name": "stdout",
     "output_type": "stream",
     "text": [
      "[INFO] Keeping all rows: 89710 rows retained.\n"
     ]
    },
    {
     "name": "stdout",
     "output_type": "stream",
     "text": [
      "[INFO] Keeping all rows: 89710 rows retained.\n"
     ]
    },
    {
     "data": {
      "text/html": [
       "<div>\n",
       "<style scoped>\n",
       "    .dataframe tbody tr th:only-of-type {\n",
       "        vertical-align: middle;\n",
       "    }\n",
       "\n",
       "    .dataframe tbody tr th {\n",
       "        vertical-align: top;\n",
       "    }\n",
       "\n",
       "    .dataframe thead th {\n",
       "        text-align: right;\n",
       "    }\n",
       "</style>\n",
       "<table border=\"1\" class=\"dataframe\">\n",
       "  <thead>\n",
       "    <tr style=\"text-align: right;\">\n",
       "      <th></th>\n",
       "      <th>run_no</th>\n",
       "      <th>universe_id</th>\n",
       "      <th>universe_settings</th>\n",
       "      <th>execution_time</th>\n",
       "      <th>test_size_n</th>\n",
       "      <th>test_size_frac</th>\n",
       "      <th>fair_main_equalized_odds_difference</th>\n",
       "      <th>fair_main_equalized_odds_ratio</th>\n",
       "      <th>fair_main_demographic_parity_difference</th>\n",
       "      <th>fair_main_demographic_parity_ratio</th>\n",
       "      <th>...</th>\n",
       "      <th>perf_grp_precision_0</th>\n",
       "      <th>perf_grp_precision_1</th>\n",
       "      <th>perf_grp_false positive rate_0</th>\n",
       "      <th>perf_grp_false positive rate_1</th>\n",
       "      <th>perf_grp_false negative rate_0</th>\n",
       "      <th>perf_grp_false negative rate_1</th>\n",
       "      <th>perf_grp_selection rate_0</th>\n",
       "      <th>perf_grp_selection rate_1</th>\n",
       "      <th>perf_grp_count_0</th>\n",
       "      <th>perf_grp_count_1</th>\n",
       "    </tr>\n",
       "  </thead>\n",
       "  <tbody>\n",
       "    <tr>\n",
       "      <th>0</th>\n",
       "      <td>15</td>\n",
       "      <td>8e86db5b018f1acda5b520b6ad7a42be</td>\n",
       "      <td>{\"cutoff\": \"quantile_0.1\", \"eval_fairness_grou...</td>\n",
       "      <td>22.774989</td>\n",
       "      <td>89710</td>\n",
       "      <td>1.0</td>\n",
       "      <td>0.092955</td>\n",
       "      <td>0.904143</td>\n",
       "      <td>0.091178</td>\n",
       "      <td>0.906031</td>\n",
       "      <td>...</td>\n",
       "      <td>NaN</td>\n",
       "      <td>NaN</td>\n",
       "      <td>NaN</td>\n",
       "      <td>NaN</td>\n",
       "      <td>NaN</td>\n",
       "      <td>NaN</td>\n",
       "      <td>NaN</td>\n",
       "      <td>NaN</td>\n",
       "      <td>NaN</td>\n",
       "      <td>NaN</td>\n",
       "    </tr>\n",
       "    <tr>\n",
       "      <th>0</th>\n",
       "      <td>15</td>\n",
       "      <td>8e86db5b018f1acda5b520b6ad7a42be</td>\n",
       "      <td>{\"cutoff\": \"quantile_0.1\", \"eval_fairness_grou...</td>\n",
       "      <td>22.774989</td>\n",
       "      <td>89710</td>\n",
       "      <td>1.0</td>\n",
       "      <td>0.092955</td>\n",
       "      <td>0.904143</td>\n",
       "      <td>0.091178</td>\n",
       "      <td>0.906031</td>\n",
       "      <td>...</td>\n",
       "      <td>0.115805</td>\n",
       "      <td>0.134454</td>\n",
       "      <td>0.969734</td>\n",
       "      <td>0.876778</td>\n",
       "      <td>0.025338</td>\n",
       "      <td>0.105470</td>\n",
       "      <td>0.970302</td>\n",
       "      <td>0.879124</td>\n",
       "      <td>20540.0</td>\n",
       "      <td>69170.0</td>\n",
       "    </tr>\n",
       "    <tr>\n",
       "      <th>0</th>\n",
       "      <td>15</td>\n",
       "      <td>8e86db5b018f1acda5b520b6ad7a42be</td>\n",
       "      <td>{\"cutoff\": \"quantile_0.25\", \"eval_fairness_gro...</td>\n",
       "      <td>22.774989</td>\n",
       "      <td>89710</td>\n",
       "      <td>1.0</td>\n",
       "      <td>0.227204</td>\n",
       "      <td>0.752413</td>\n",
       "      <td>0.217849</td>\n",
       "      <td>0.762682</td>\n",
       "      <td>...</td>\n",
       "      <td>NaN</td>\n",
       "      <td>NaN</td>\n",
       "      <td>NaN</td>\n",
       "      <td>NaN</td>\n",
       "      <td>NaN</td>\n",
       "      <td>NaN</td>\n",
       "      <td>NaN</td>\n",
       "      <td>NaN</td>\n",
       "      <td>NaN</td>\n",
       "      <td>NaN</td>\n",
       "    </tr>\n",
       "    <tr>\n",
       "      <th>0</th>\n",
       "      <td>15</td>\n",
       "      <td>8e86db5b018f1acda5b520b6ad7a42be</td>\n",
       "      <td>{\"cutoff\": \"quantile_0.25\", \"eval_fairness_gro...</td>\n",
       "      <td>22.774989</td>\n",
       "      <td>89710</td>\n",
       "      <td>1.0</td>\n",
       "      <td>0.227204</td>\n",
       "      <td>0.752413</td>\n",
       "      <td>0.217849</td>\n",
       "      <td>0.762682</td>\n",
       "      <td>...</td>\n",
       "      <td>0.115566</td>\n",
       "      <td>0.144093</td>\n",
       "      <td>0.917676</td>\n",
       "      <td>0.690471</td>\n",
       "      <td>0.079814</td>\n",
       "      <td>0.236543</td>\n",
       "      <td>0.917965</td>\n",
       "      <td>0.700116</td>\n",
       "      <td>20540.0</td>\n",
       "      <td>69170.0</td>\n",
       "    </tr>\n",
       "  </tbody>\n",
       "</table>\n",
       "<p>4 rows × 50 columns</p>\n",
       "</div>"
      ],
      "text/plain": [
       "  run_no                       universe_id  \\\n",
       "0     15  8e86db5b018f1acda5b520b6ad7a42be   \n",
       "0     15  8e86db5b018f1acda5b520b6ad7a42be   \n",
       "0     15  8e86db5b018f1acda5b520b6ad7a42be   \n",
       "0     15  8e86db5b018f1acda5b520b6ad7a42be   \n",
       "\n",
       "                                   universe_settings  execution_time  \\\n",
       "0  {\"cutoff\": \"quantile_0.1\", \"eval_fairness_grou...       22.774989   \n",
       "0  {\"cutoff\": \"quantile_0.1\", \"eval_fairness_grou...       22.774989   \n",
       "0  {\"cutoff\": \"quantile_0.25\", \"eval_fairness_gro...       22.774989   \n",
       "0  {\"cutoff\": \"quantile_0.25\", \"eval_fairness_gro...       22.774989   \n",
       "\n",
       "   test_size_n  test_size_frac  fair_main_equalized_odds_difference  \\\n",
       "0        89710             1.0                             0.092955   \n",
       "0        89710             1.0                             0.092955   \n",
       "0        89710             1.0                             0.227204   \n",
       "0        89710             1.0                             0.227204   \n",
       "\n",
       "   fair_main_equalized_odds_ratio  fair_main_demographic_parity_difference  \\\n",
       "0                        0.904143                                 0.091178   \n",
       "0                        0.904143                                 0.091178   \n",
       "0                        0.752413                                 0.217849   \n",
       "0                        0.752413                                 0.217849   \n",
       "\n",
       "   fair_main_demographic_parity_ratio  ...  perf_grp_precision_0  \\\n",
       "0                            0.906031  ...                   NaN   \n",
       "0                            0.906031  ...              0.115805   \n",
       "0                            0.762682  ...                   NaN   \n",
       "0                            0.762682  ...              0.115566   \n",
       "\n",
       "   perf_grp_precision_1  perf_grp_false positive rate_0  \\\n",
       "0                   NaN                             NaN   \n",
       "0              0.134454                        0.969734   \n",
       "0                   NaN                             NaN   \n",
       "0              0.144093                        0.917676   \n",
       "\n",
       "   perf_grp_false positive rate_1  perf_grp_false negative rate_0  \\\n",
       "0                             NaN                             NaN   \n",
       "0                        0.876778                        0.025338   \n",
       "0                             NaN                             NaN   \n",
       "0                        0.690471                        0.079814   \n",
       "\n",
       "   perf_grp_false negative rate_1  perf_grp_selection rate_0  \\\n",
       "0                             NaN                        NaN   \n",
       "0                        0.105470                   0.970302   \n",
       "0                             NaN                        NaN   \n",
       "0                        0.236543                   0.917965   \n",
       "\n",
       "   perf_grp_selection rate_1  perf_grp_count_0  perf_grp_count_1  \n",
       "0                        NaN               NaN               NaN  \n",
       "0                   0.879124           20540.0           69170.0  \n",
       "0                        NaN               NaN               NaN  \n",
       "0                   0.700116           20540.0           69170.0  \n",
       "\n",
       "[4 rows x 50 columns]"
      ]
     },
     "execution_count": 66,
     "metadata": {},
     "output_type": "execute_result"
    }
   ],
   "source": [
    "final_output = universe_analysis.generate_final_output(\n",
    "    y_pred_prob=probs_test,\n",
    "    y_test=y_true,\n",
    "    org_test=org_test,\n",
    "    filter_data=filter_sub_universe_data,\n",
    "    cp_metrics_df=cp_metrics_df,\n",
    "    save=True,\n",
    ")\n",
    "final_output"
   ]
  }
 ],
 "metadata": {
  "celltoolbar": "Tags",
  "kernelspec": {
   "display_name": "Python (CMA Fairness)",
   "language": "python",
   "name": "cma_fair_env"
  },
  "language_info": {
   "codemirror_mode": {
    "name": "ipython",
    "version": 3
   },
   "file_extension": ".py",
   "mimetype": "text/x-python",
   "name": "python",
   "nbconvert_exporter": "python",
   "pygments_lexer": "ipython3",
   "version": "3.10.12"
  },
  "papermill": {
   "default_parameters": {},
   "duration": 34.151011,
   "end_time": "2025-08-05T16:46:01.627014",
   "environment_variables": {},
   "exception": null,
   "input_path": "universe_analysis.ipynb",
   "output_path": "output/runs/15/notebooks/m_15-8e86db5b018f1acda5b520b6ad7a42be.ipynb",
   "parameters": {
    "output_dir": "output",
    "run_no": "15",
    "seed": "2023",
    "universe": "{\"cutoff\": [\"quantile_0.1\", \"quantile_0.25\"], \"eval_fairness_grouping\": [\"majority-minority\", \"nationality-all\"], \"exclude_features\": \"age\", \"exclude_subgroups\": \"keep-all\", \"model\": \"elasticnet\", \"scale\": \"do-not-scale\", \"training_size\": \"1k\", \"training_year\": \"2010_14\"}",
    "universe_id": "8e86db5b018f1acda5b520b6ad7a42be"
   },
   "start_time": "2025-08-05T16:45:27.476003",
   "version": "2.6.0"
  }
 },
 "nbformat": 4,
 "nbformat_minor": 5
}