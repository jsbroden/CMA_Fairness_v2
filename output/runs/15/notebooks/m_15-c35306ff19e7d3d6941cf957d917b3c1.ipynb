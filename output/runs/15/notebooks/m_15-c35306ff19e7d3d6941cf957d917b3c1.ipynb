{
 "cells": [
  {
   "cell_type": "code",
   "execution_count": 1,
   "id": "f159f837-637b-42ba-96b5-ec9a68c44524",
   "metadata": {
    "execution": {
     "iopub.execute_input": "2025-08-05T16:18:33.257868Z",
     "iopub.status.busy": "2025-08-05T16:18:33.256704Z",
     "iopub.status.idle": "2025-08-05T16:18:33.275072Z",
     "shell.execute_reply": "2025-08-05T16:18:33.273715Z"
    },
    "papermill": {
     "duration": 0.047985,
     "end_time": "2025-08-05T16:18:33.277289",
     "exception": false,
     "start_time": "2025-08-05T16:18:33.229304",
     "status": "completed"
    },
    "tags": []
   },
   "outputs": [
    {
     "name": "stdout",
     "output_type": "stream",
     "text": [
      "/dss/dsshome1/0C/ra93lal2/cma/CMA_Fairness_v2\n"
     ]
    },
    {
     "name": "stderr",
     "output_type": "stream",
     "text": [
      "/dss/dsshome1/0C/ra93lal2/.local/share/virtualenvs/CMA_Fairness_v2-3j10GkSs/lib/python3.10/site-packages/IPython/core/magics/osm.py:393: UserWarning: This is now an optional IPython functionality, using bookmarks requires you to install the `pickleshare` library.\n",
      "  bkms = self.shell.db.get('bookmarks', {})\n",
      "/dss/dsshome1/0C/ra93lal2/.local/share/virtualenvs/CMA_Fairness_v2-3j10GkSs/lib/python3.10/site-packages/IPython/core/magics/osm.py:417: UserWarning: This is now an optional IPython functionality, setting dhist requires you to install the `pickleshare` library.\n",
      "  self.shell.db['dhist'] = compress_dhist(dhist)[-100:]\n"
     ]
    }
   ],
   "source": [
    "%cd ~/cma/CMA_Fairness_v2"
   ]
  },
  {
   "cell_type": "markdown",
   "id": "de2603b9",
   "metadata": {
    "papermill": {
     "duration": 0.023557,
     "end_time": "2025-08-05T16:18:33.324856",
     "exception": false,
     "start_time": "2025-08-05T16:18:33.301299",
     "status": "completed"
    },
    "tags": []
   },
   "source": [
    "The following cell holds the definition of our parameters, these values can be overriden by rendering the with e.g. the following command:\n",
    "\n",
    "papermill -p alpha 0.2 -p ratio 0.3 universe_analysis.ipynb output/test_run.ipynb"
   ]
  },
  {
   "cell_type": "code",
   "execution_count": 2,
   "id": "a80968a0-40bb-4fa9-85ef-2d5eefb01975",
   "metadata": {
    "execution": {
     "iopub.execute_input": "2025-08-05T16:18:33.371378Z",
     "iopub.status.busy": "2025-08-05T16:18:33.370273Z",
     "iopub.status.idle": "2025-08-05T16:18:33.377773Z",
     "shell.execute_reply": "2025-08-05T16:18:33.376657Z"
    },
    "papermill": {
     "duration": 0.030804,
     "end_time": "2025-08-05T16:18:33.379434",
     "exception": false,
     "start_time": "2025-08-05T16:18:33.348630",
     "status": "completed"
    },
    "tags": []
   },
   "outputs": [
    {
     "name": "stdout",
     "output_type": "stream",
     "text": [
      "Current working directory: /dss/dsshome1/0C/ra93lal2/cma/CMA_Fairness_v2\n"
     ]
    }
   ],
   "source": [
    "import os\n",
    "print(\"Current working directory:\", os.getcwd())"
   ]
  },
  {
   "cell_type": "code",
   "execution_count": 3,
   "id": "2dce4c03",
   "metadata": {
    "execution": {
     "iopub.execute_input": "2025-08-05T16:18:33.403656Z",
     "iopub.status.busy": "2025-08-05T16:18:33.403260Z",
     "iopub.status.idle": "2025-08-05T16:18:33.409291Z",
     "shell.execute_reply": "2025-08-05T16:18:33.408230Z"
    },
    "papermill": {
     "duration": 0.020248,
     "end_time": "2025-08-05T16:18:33.411379",
     "exception": false,
     "start_time": "2025-08-05T16:18:33.391131",
     "status": "completed"
    },
    "tags": [
     "parameters"
    ]
   },
   "outputs": [],
   "source": [
    "run_no = 0\n",
    "universe_id = \"test\"\n",
    "universe = {\n",
    "    \"training_size\": \"25k\", # \"25k\", \"5k\", \"1k\"\n",
    "    \"training_year\": \"2014\", # \"2014\", \"2012_14\", \"2010_14\"\n",
    "    \"scale\": \"scale\", # \"scale\", \"do-not-scale\",\n",
    "    \"model\": \"elasticnet\", # \"logreg\", \"penalized_logreg\", \"rf\", \"gbm\", \"elasticnet\"\n",
    "    \"cutoff\": [\"quantile_0.15\", \"quantile_0.30\"],\n",
    "    \"exclude_features\": \"age\", # \"none\", \"nationality\", \"sex\", \"nationality-sex\", \"age\"\n",
    "    \"exclude_subgroups\": \"keep-all\", # \"keep-all\", \"drop-non-german\"\n",
    "    \"eval_fairness_grouping\": [\"majority-minority\", \"nationality-all\"]\n",
    "}\n",
    "\n",
    "output_dir=\"./output\"\n",
    "seed=0"
   ]
  },
  {
   "cell_type": "code",
   "execution_count": 4,
   "id": "a3c19ccb",
   "metadata": {
    "execution": {
     "iopub.execute_input": "2025-08-05T16:18:33.461849Z",
     "iopub.status.busy": "2025-08-05T16:18:33.460762Z",
     "iopub.status.idle": "2025-08-05T16:18:33.467116Z",
     "shell.execute_reply": "2025-08-05T16:18:33.466047Z"
    },
    "papermill": {
     "duration": 0.033132,
     "end_time": "2025-08-05T16:18:33.468822",
     "exception": false,
     "start_time": "2025-08-05T16:18:33.435690",
     "status": "completed"
    },
    "tags": [
     "injected-parameters"
    ]
   },
   "outputs": [],
   "source": [
    "# Parameters\n",
    "universe_id = \"c35306ff19e7d3d6941cf957d917b3c1\"\n",
    "run_no = \"15\"\n",
    "universe = \"{\\\"cutoff\\\": [\\\"quantile_0.1\\\", \\\"quantile_0.25\\\"], \\\"eval_fairness_grouping\\\": [\\\"majority-minority\\\", \\\"nationality-all\\\"], \\\"exclude_features\\\": \\\"nationality\\\", \\\"exclude_subgroups\\\": \\\"drop-non-german\\\", \\\"model\\\": \\\"rf\\\", \\\"scale\\\": \\\"scale\\\", \\\"training_size\\\": \\\"1k\\\", \\\"training_year\\\": \\\"2012_14\\\"}\"\n",
    "output_dir = \"output\"\n",
    "seed = \"2023\"\n"
   ]
  },
  {
   "cell_type": "code",
   "execution_count": 5,
   "id": "1650acaf",
   "metadata": {
    "execution": {
     "iopub.execute_input": "2025-08-05T16:18:33.515056Z",
     "iopub.status.busy": "2025-08-05T16:18:33.513936Z",
     "iopub.status.idle": "2025-08-05T16:18:33.520579Z",
     "shell.execute_reply": "2025-08-05T16:18:33.519449Z"
    },
    "papermill": {
     "duration": 0.033219,
     "end_time": "2025-08-05T16:18:33.522778",
     "exception": false,
     "start_time": "2025-08-05T16:18:33.489559",
     "status": "completed"
    },
    "tags": []
   },
   "outputs": [],
   "source": [
    "import json\n",
    "if isinstance(universe, str):\n",
    "    universe = json.loads(universe)"
   ]
  },
  {
   "cell_type": "code",
   "execution_count": 6,
   "id": "16620c48",
   "metadata": {
    "execution": {
     "iopub.execute_input": "2025-08-05T16:18:33.556795Z",
     "iopub.status.busy": "2025-08-05T16:18:33.556322Z",
     "iopub.status.idle": "2025-08-05T16:18:33.594283Z",
     "shell.execute_reply": "2025-08-05T16:18:33.593345Z"
    },
    "papermill": {
     "duration": 0.055958,
     "end_time": "2025-08-05T16:18:33.596063",
     "exception": false,
     "start_time": "2025-08-05T16:18:33.540105",
     "status": "completed"
    },
    "tags": []
   },
   "outputs": [],
   "source": [
    "# Auto-reload the custom package\n",
    "%load_ext autoreload\n",
    "%autoreload 1\n",
    "%aimport fairness_multiverse"
   ]
  },
  {
   "cell_type": "code",
   "execution_count": 7,
   "id": "01c5c9f3",
   "metadata": {
    "execution": {
     "iopub.execute_input": "2025-08-05T16:18:33.621016Z",
     "iopub.status.busy": "2025-08-05T16:18:33.620000Z",
     "iopub.status.idle": "2025-08-05T16:18:36.056914Z",
     "shell.execute_reply": "2025-08-05T16:18:36.055623Z"
    },
    "papermill": {
     "duration": 2.451855,
     "end_time": "2025-08-05T16:18:36.059495",
     "exception": false,
     "start_time": "2025-08-05T16:18:33.607640",
     "status": "completed"
    },
    "tags": []
   },
   "outputs": [],
   "source": [
    "from fairness_multiverse.universe import UniverseAnalysis\n",
    "\n",
    "universe_analysis = UniverseAnalysis(\n",
    "    run_no = run_no,\n",
    "    universe_id = universe_id,\n",
    "    universe = universe,\n",
    "    output_dir=output_dir,\n",
    ")"
   ]
  },
  {
   "cell_type": "code",
   "execution_count": 8,
   "id": "106241f5",
   "metadata": {
    "execution": {
     "iopub.execute_input": "2025-08-05T16:18:36.115348Z",
     "iopub.status.busy": "2025-08-05T16:18:36.114432Z",
     "iopub.status.idle": "2025-08-05T16:18:36.123734Z",
     "shell.execute_reply": "2025-08-05T16:18:36.122574Z"
    },
    "papermill": {
     "duration": 0.04179,
     "end_time": "2025-08-05T16:18:36.125972",
     "exception": false,
     "start_time": "2025-08-05T16:18:36.084182",
     "status": "completed"
    },
    "tags": []
   },
   "outputs": [
    {
     "name": "stdout",
     "output_type": "stream",
     "text": [
      "Using Seed: 2023\n"
     ]
    }
   ],
   "source": [
    "import numpy as np\n",
    "parsed_seed = int(seed)\n",
    "np.random.seed(parsed_seed)\n",
    "print(f\"Using Seed: {parsed_seed}\")"
   ]
  },
  {
   "cell_type": "markdown",
   "id": "e0ebdc57",
   "metadata": {
    "papermill": {
     "duration": 0.023355,
     "end_time": "2025-08-05T16:18:36.173530",
     "exception": false,
     "start_time": "2025-08-05T16:18:36.150175",
     "status": "completed"
    },
    "tags": []
   },
   "source": [
    "# Loading Data"
   ]
  },
  {
   "cell_type": "code",
   "execution_count": 9,
   "id": "f0496b8a",
   "metadata": {
    "execution": {
     "iopub.execute_input": "2025-08-05T16:18:36.222491Z",
     "iopub.status.busy": "2025-08-05T16:18:36.221670Z",
     "iopub.status.idle": "2025-08-05T16:18:50.241137Z",
     "shell.execute_reply": "2025-08-05T16:18:50.239823Z"
    },
    "papermill": {
     "duration": 14.046836,
     "end_time": "2025-08-05T16:18:50.243210",
     "exception": false,
     "start_time": "2025-08-05T16:18:36.196374",
     "status": "completed"
    },
    "tags": []
   },
   "outputs": [
    {
     "name": "stdout",
     "output_type": "stream",
     "text": [
      "Loading SIAB data from cache: data/siab_cached.csv.gz\n"
     ]
    },
    {
     "name": "stdout",
     "output_type": "stream",
     "text": [
      "(643690, 164)\n"
     ]
    }
   ],
   "source": [
    "from pathlib import Path\n",
    "import pandas as pd\n",
    "\n",
    "# File paths\n",
    "raw_file = Path(\"data/raw/siab.csv\")\n",
    "cache_file = Path(\"data/siab_cached.csv.gz\")\n",
    "\n",
    "# Ensure cache directory exists\n",
    "cache_file.parent.mkdir(parents=True, exist_ok=True)\n",
    "\n",
    "# Load with simple caching\n",
    "if cache_file.exists():\n",
    "    print(f\"Loading SIAB data from cache: {cache_file}\")\n",
    "    siab = pd.read_csv(cache_file, compression='gzip')\n",
    "else:\n",
    "    print(f\"Cache not found. Reading raw SIAB data: {raw_file}\")\n",
    "    siab = pd.read_csv(raw_file)\n",
    "    siab.to_csv(cache_file, index=False, compression='gzip')\n",
    "    print(f\"Cached SIAB data to: {cache_file}\")\n",
    "\n",
    "print(siab.shape)"
   ]
  },
  {
   "cell_type": "code",
   "execution_count": 10,
   "id": "db0ca512-5f53-4dba-abdb-a2888bca41ba",
   "metadata": {
    "execution": {
     "iopub.execute_input": "2025-08-05T16:18:50.297924Z",
     "iopub.status.busy": "2025-08-05T16:18:50.297271Z",
     "iopub.status.idle": "2025-08-05T16:18:50.304432Z",
     "shell.execute_reply": "2025-08-05T16:18:50.303290Z"
    },
    "papermill": {
     "duration": 0.034249,
     "end_time": "2025-08-05T16:18:50.306547",
     "exception": false,
     "start_time": "2025-08-05T16:18:50.272298",
     "status": "completed"
    },
    "tags": []
   },
   "outputs": [],
   "source": [
    "#siab"
   ]
  },
  {
   "cell_type": "markdown",
   "id": "997051c5-15bd-4b69-9786-c3001a3ce484",
   "metadata": {
    "papermill": {
     "duration": 0.022858,
     "end_time": "2025-08-05T16:18:50.354842",
     "exception": false,
     "start_time": "2025-08-05T16:18:50.331984",
     "status": "completed"
    },
    "tags": []
   },
   "source": [
    "# Splitting Data and Setting Training Data Size"
   ]
  },
  {
   "cell_type": "code",
   "execution_count": 11,
   "id": "aea9c6ef-6f46-42c8-85eb-5a62025c1508",
   "metadata": {
    "execution": {
     "iopub.execute_input": "2025-08-05T16:18:50.405357Z",
     "iopub.status.busy": "2025-08-05T16:18:50.404802Z",
     "iopub.status.idle": "2025-08-05T16:18:51.064830Z",
     "shell.execute_reply": "2025-08-05T16:18:51.063757Z"
    },
    "papermill": {
     "duration": 0.687904,
     "end_time": "2025-08-05T16:18:51.067670",
     "exception": false,
     "start_time": "2025-08-05T16:18:50.379766",
     "status": "completed"
    },
    "tags": []
   },
   "outputs": [],
   "source": [
    "from fairness_multiverse.universe import sample_by_year_size\n",
    "\n",
    "siab_train = sample_by_year_size(siab,\n",
    "                               training_year=universe[\"training_year\"],\n",
    "                               training_size=universe[\"training_size\"])"
   ]
  },
  {
   "cell_type": "code",
   "execution_count": 12,
   "id": "8d3afb32-789d-442c-8d5d-9f5aa8dd2eed",
   "metadata": {
    "execution": {
     "iopub.execute_input": "2025-08-05T16:18:51.129047Z",
     "iopub.status.busy": "2025-08-05T16:18:51.128296Z",
     "iopub.status.idle": "2025-08-05T16:18:51.134178Z",
     "shell.execute_reply": "2025-08-05T16:18:51.133123Z"
    },
    "papermill": {
     "duration": 0.029972,
     "end_time": "2025-08-05T16:18:51.136188",
     "exception": false,
     "start_time": "2025-08-05T16:18:51.106216",
     "status": "completed"
    },
    "tags": []
   },
   "outputs": [],
   "source": [
    "#siab_train.shape"
   ]
  },
  {
   "cell_type": "code",
   "execution_count": 13,
   "id": "d582db68-1a4c-47fb-84fc-08518dc1975a",
   "metadata": {
    "execution": {
     "iopub.execute_input": "2025-08-05T16:18:51.178574Z",
     "iopub.status.busy": "2025-08-05T16:18:51.178024Z",
     "iopub.status.idle": "2025-08-05T16:18:51.183729Z",
     "shell.execute_reply": "2025-08-05T16:18:51.182630Z"
    },
    "papermill": {
     "duration": 0.029092,
     "end_time": "2025-08-05T16:18:51.185727",
     "exception": false,
     "start_time": "2025-08-05T16:18:51.156635",
     "status": "completed"
    },
    "tags": []
   },
   "outputs": [],
   "source": [
    "#display(siab_train.groupby(\"year\").size())"
   ]
  },
  {
   "cell_type": "code",
   "execution_count": 14,
   "id": "a561edb4-d032-42cb-8256-22eac1111c64",
   "metadata": {
    "execution": {
     "iopub.execute_input": "2025-08-05T16:18:51.229445Z",
     "iopub.status.busy": "2025-08-05T16:18:51.228412Z",
     "iopub.status.idle": "2025-08-05T16:18:51.477378Z",
     "shell.execute_reply": "2025-08-05T16:18:51.476334Z"
    },
    "papermill": {
     "duration": 0.272674,
     "end_time": "2025-08-05T16:18:51.479592",
     "exception": false,
     "start_time": "2025-08-05T16:18:51.206918",
     "status": "completed"
    },
    "tags": []
   },
   "outputs": [],
   "source": [
    "#siab_train = siab_s[siab_s.year < 2015]\n",
    "siab_calib = siab[siab.year == 2015]\n",
    "siab_test = siab[siab.year == 2016]"
   ]
  },
  {
   "cell_type": "code",
   "execution_count": 15,
   "id": "472de16f-c3db-4916-846b-1f0de9cf1746",
   "metadata": {
    "execution": {
     "iopub.execute_input": "2025-08-05T16:18:51.523017Z",
     "iopub.status.busy": "2025-08-05T16:18:51.522087Z",
     "iopub.status.idle": "2025-08-05T16:18:51.530359Z",
     "shell.execute_reply": "2025-08-05T16:18:51.529171Z"
    },
    "papermill": {
     "duration": 0.031825,
     "end_time": "2025-08-05T16:18:51.532343",
     "exception": false,
     "start_time": "2025-08-05T16:18:51.500518",
     "status": "completed"
    },
    "tags": []
   },
   "outputs": [],
   "source": [
    "X_train = siab_train.iloc[:,4:164]\n",
    "y_train = siab_train.iloc[:, [3]]"
   ]
  },
  {
   "cell_type": "code",
   "execution_count": 16,
   "id": "828c96af-f43a-4ed6-ba47-8ac73a47d56c",
   "metadata": {
    "execution": {
     "iopub.execute_input": "2025-08-05T16:18:51.582147Z",
     "iopub.status.busy": "2025-08-05T16:18:51.581409Z",
     "iopub.status.idle": "2025-08-05T16:18:51.650210Z",
     "shell.execute_reply": "2025-08-05T16:18:51.649095Z"
    },
    "papermill": {
     "duration": 0.096442,
     "end_time": "2025-08-05T16:18:51.652767",
     "exception": false,
     "start_time": "2025-08-05T16:18:51.556325",
     "status": "completed"
    },
    "tags": []
   },
   "outputs": [],
   "source": [
    "X_calib = siab_calib.iloc[:,4:164]\n",
    "y_calib = siab_calib.iloc[:, [3]]"
   ]
  },
  {
   "cell_type": "code",
   "execution_count": 17,
   "id": "c34be9c3-6bd6-476e-acd3-845840e303be",
   "metadata": {
    "execution": {
     "iopub.execute_input": "2025-08-05T16:18:51.703297Z",
     "iopub.status.busy": "2025-08-05T16:18:51.702360Z",
     "iopub.status.idle": "2025-08-05T16:18:51.761978Z",
     "shell.execute_reply": "2025-08-05T16:18:51.760829Z"
    },
    "papermill": {
     "duration": 0.08376,
     "end_time": "2025-08-05T16:18:51.764002",
     "exception": false,
     "start_time": "2025-08-05T16:18:51.680242",
     "status": "completed"
    },
    "tags": []
   },
   "outputs": [],
   "source": [
    "X_test = siab_test.iloc[:,4:164]\n",
    "y_true = siab_test.iloc[:, [3]]"
   ]
  },
  {
   "cell_type": "code",
   "execution_count": 18,
   "id": "e6c733c5",
   "metadata": {
    "execution": {
     "iopub.execute_input": "2025-08-05T16:18:51.810770Z",
     "iopub.status.busy": "2025-08-05T16:18:51.809974Z",
     "iopub.status.idle": "2025-08-05T16:18:51.912077Z",
     "shell.execute_reply": "2025-08-05T16:18:51.911023Z"
    },
    "papermill": {
     "duration": 0.12784,
     "end_time": "2025-08-05T16:18:51.914290",
     "exception": false,
     "start_time": "2025-08-05T16:18:51.786450",
     "status": "completed"
    },
    "tags": []
   },
   "outputs": [],
   "source": [
    "# Auxiliary data needed downstream in the pipeline\n",
    "\n",
    "org_train = X_train.copy()\n",
    "org_test = X_test.copy()\n",
    "org_calib = X_calib.copy()"
   ]
  },
  {
   "cell_type": "markdown",
   "id": "0a4a1b33",
   "metadata": {
    "papermill": {
     "duration": 0.021246,
     "end_time": "2025-08-05T16:18:51.957451",
     "exception": false,
     "start_time": "2025-08-05T16:18:51.936205",
     "status": "completed"
    },
    "tags": []
   },
   "source": [
    "# Preprocessing Data"
   ]
  },
  {
   "cell_type": "code",
   "execution_count": 19,
   "id": "ca879031",
   "metadata": {
    "execution": {
     "iopub.execute_input": "2025-08-05T16:18:52.003149Z",
     "iopub.status.busy": "2025-08-05T16:18:52.002366Z",
     "iopub.status.idle": "2025-08-05T16:18:52.009404Z",
     "shell.execute_reply": "2025-08-05T16:18:52.008199Z"
    },
    "papermill": {
     "duration": 0.031831,
     "end_time": "2025-08-05T16:18:52.011176",
     "exception": false,
     "start_time": "2025-08-05T16:18:51.979345",
     "status": "completed"
    },
    "tags": []
   },
   "outputs": [],
   "source": [
    "# EXCLUDE PROTECTED FEATURES\n",
    "# ----------------------\n",
    "# \"exclude_features\": \"none\", # \"nationality\", \"sex\", \"nationality-sex\"\n",
    "\n",
    "excluded_features = universe[\"exclude_features\"].split(\"-\") # split, e.g.: \"nationality-sex\" -> [\"nationality\", \"sex\"]\n",
    "excluded_features_dictionary = {\n",
    "    \"nationality\": [\"maxdeutsch1\", \"maxdeutsch.Missing.\"],\n",
    "    \"sex\": [\"frau1\"],\n",
    "    \"age\": [\"age\"],\n",
    "}"
   ]
  },
  {
   "cell_type": "code",
   "execution_count": 20,
   "id": "b745ac60",
   "metadata": {
    "execution": {
     "iopub.execute_input": "2025-08-05T16:18:52.054769Z",
     "iopub.status.busy": "2025-08-05T16:18:52.053804Z",
     "iopub.status.idle": "2025-08-05T16:18:52.060884Z",
     "shell.execute_reply": "2025-08-05T16:18:52.059748Z"
    },
    "papermill": {
     "duration": 0.030626,
     "end_time": "2025-08-05T16:18:52.062771",
     "exception": false,
     "start_time": "2025-08-05T16:18:52.032145",
     "status": "completed"
    },
    "tags": []
   },
   "outputs": [],
   "source": [
    "# Code nice names to column names\n",
    "\n",
    "excluded_features_columns = [\n",
    "    excluded_features_dictionary[f] for f in excluded_features if len(f) > 0 and f != \"none\"\n",
    "]"
   ]
  },
  {
   "cell_type": "code",
   "execution_count": 21,
   "id": "f84f73a2",
   "metadata": {
    "execution": {
     "iopub.execute_input": "2025-08-05T16:18:52.106370Z",
     "iopub.status.busy": "2025-08-05T16:18:52.105383Z",
     "iopub.status.idle": "2025-08-05T16:18:52.112692Z",
     "shell.execute_reply": "2025-08-05T16:18:52.111658Z"
    },
    "papermill": {
     "duration": 0.030788,
     "end_time": "2025-08-05T16:18:52.114562",
     "exception": false,
     "start_time": "2025-08-05T16:18:52.083774",
     "status": "completed"
    },
    "tags": []
   },
   "outputs": [],
   "source": [
    "from utils import flatten_once\n",
    "\n",
    "excluded_features_columns = flatten_once(excluded_features_columns)"
   ]
  },
  {
   "cell_type": "code",
   "execution_count": 22,
   "id": "884dea22",
   "metadata": {
    "execution": {
     "iopub.execute_input": "2025-08-05T16:18:52.160220Z",
     "iopub.status.busy": "2025-08-05T16:18:52.159329Z",
     "iopub.status.idle": "2025-08-05T16:18:52.168233Z",
     "shell.execute_reply": "2025-08-05T16:18:52.167180Z"
    },
    "papermill": {
     "duration": 0.033769,
     "end_time": "2025-08-05T16:18:52.169968",
     "exception": false,
     "start_time": "2025-08-05T16:18:52.136199",
     "status": "completed"
    },
    "tags": []
   },
   "outputs": [
    {
     "name": "stdout",
     "output_type": "stream",
     "text": [
      "Dropping features: ['maxdeutsch1', 'maxdeutsch.Missing.']\n"
     ]
    }
   ],
   "source": [
    "if len(excluded_features_columns) > 0:\n",
    "    print(f\"Dropping features: {excluded_features_columns}\")\n",
    "    X_train.drop(excluded_features_columns, axis=1, inplace=True)"
   ]
  },
  {
   "cell_type": "code",
   "execution_count": 23,
   "id": "95ab8b16",
   "metadata": {
    "execution": {
     "iopub.execute_input": "2025-08-05T16:18:52.214298Z",
     "iopub.status.busy": "2025-08-05T16:18:52.213289Z",
     "iopub.status.idle": "2025-08-05T16:18:52.269839Z",
     "shell.execute_reply": "2025-08-05T16:18:52.268714Z"
    },
    "papermill": {
     "duration": 0.080606,
     "end_time": "2025-08-05T16:18:52.271832",
     "exception": false,
     "start_time": "2025-08-05T16:18:52.191226",
     "status": "completed"
    },
    "tags": []
   },
   "outputs": [
    {
     "name": "stdout",
     "output_type": "stream",
     "text": [
      "Dropping features: ['maxdeutsch1', 'maxdeutsch.Missing.']\n"
     ]
    }
   ],
   "source": [
    "if len(excluded_features_columns) > 0:\n",
    "    print(f\"Dropping features: {excluded_features_columns}\")\n",
    "    X_test.drop(excluded_features_columns, axis=1, inplace=True)"
   ]
  },
  {
   "cell_type": "code",
   "execution_count": 24,
   "id": "1853aaf5-fb9f-46cb-a2b5-8ea4ae2237e4",
   "metadata": {
    "execution": {
     "iopub.execute_input": "2025-08-05T16:18:52.317391Z",
     "iopub.status.busy": "2025-08-05T16:18:52.316657Z",
     "iopub.status.idle": "2025-08-05T16:18:52.375383Z",
     "shell.execute_reply": "2025-08-05T16:18:52.374361Z"
    },
    "papermill": {
     "duration": 0.083768,
     "end_time": "2025-08-05T16:18:52.377227",
     "exception": false,
     "start_time": "2025-08-05T16:18:52.293459",
     "status": "completed"
    },
    "tags": []
   },
   "outputs": [
    {
     "name": "stdout",
     "output_type": "stream",
     "text": [
      "Dropping features: ['maxdeutsch1', 'maxdeutsch.Missing.']\n"
     ]
    }
   ],
   "source": [
    "if len(excluded_features_columns) > 0:\n",
    "    print(f\"Dropping features: {excluded_features_columns}\")\n",
    "    X_calib.drop(excluded_features_columns, axis=1, inplace=True)"
   ]
  },
  {
   "cell_type": "code",
   "execution_count": 25,
   "id": "76c4dc6d",
   "metadata": {
    "execution": {
     "iopub.execute_input": "2025-08-05T16:18:52.422010Z",
     "iopub.status.busy": "2025-08-05T16:18:52.420949Z",
     "iopub.status.idle": "2025-08-05T16:18:52.427527Z",
     "shell.execute_reply": "2025-08-05T16:18:52.426313Z"
    },
    "papermill": {
     "duration": 0.030662,
     "end_time": "2025-08-05T16:18:52.429451",
     "exception": false,
     "start_time": "2025-08-05T16:18:52.398789",
     "status": "completed"
    },
    "tags": []
   },
   "outputs": [],
   "source": [
    "# EXCLUDE CERTAIN SUBGROUPS\n",
    "# ----------------------\n",
    "\n",
    "mode = universe.get(\"exclude_subgroups\", \"keep-all\") \n",
    "# Fetches the exclude_subgroups setting from the universe dict.\n",
    "# Defaults to \"keep-all\" if the key is missing."
   ]
  },
  {
   "cell_type": "code",
   "execution_count": 26,
   "id": "21994072",
   "metadata": {
    "execution": {
     "iopub.execute_input": "2025-08-05T16:18:52.475538Z",
     "iopub.status.busy": "2025-08-05T16:18:52.474457Z",
     "iopub.status.idle": "2025-08-05T16:18:52.482686Z",
     "shell.execute_reply": "2025-08-05T16:18:52.481426Z"
    },
    "papermill": {
     "duration": 0.033203,
     "end_time": "2025-08-05T16:18:52.484786",
     "exception": false,
     "start_time": "2025-08-05T16:18:52.451583",
     "status": "completed"
    },
    "tags": []
   },
   "outputs": [],
   "source": [
    "if mode == \"keep-all\":\n",
    "    keep_mask = pd.Series(True, index=org_train.index)\n",
    "\n",
    "# org_train contains the original feature columns from features_org (in Simson)\n",
    "# features_org contains unprocessed features, for me X_train at beginning ???\n",
    "# For keep-all, creates a boolean Series (keep_mask) of all True, so no rows are removed.\n",
    "\n",
    "elif mode == \"drop-non-german\":\n",
    "    keep_mask = org_train[\"maxdeutsch1\"] == 1 # ??? what about missing values?\n",
    "\n",
    "else:\n",
    "    raise ValueError(f\"Unsupported mode for exclude_subgroups: {mode}\")"
   ]
  },
  {
   "cell_type": "code",
   "execution_count": 27,
   "id": "71651440",
   "metadata": {
    "execution": {
     "iopub.execute_input": "2025-08-05T16:18:52.530939Z",
     "iopub.status.busy": "2025-08-05T16:18:52.529907Z",
     "iopub.status.idle": "2025-08-05T16:18:52.538016Z",
     "shell.execute_reply": "2025-08-05T16:18:52.536940Z"
    },
    "papermill": {
     "duration": 0.032136,
     "end_time": "2025-08-05T16:18:52.539748",
     "exception": false,
     "start_time": "2025-08-05T16:18:52.507612",
     "status": "completed"
    },
    "tags": []
   },
   "outputs": [
    {
     "name": "stdout",
     "output_type": "stream",
     "text": [
      "Dropping 147 rows (14.70%) where mode='drop-non-german'\n"
     ]
    }
   ],
   "source": [
    "n_drop = (~keep_mask).sum() # Calculates how many rows are set to be dropped\n",
    "if n_drop > 0:\n",
    "    pct = n_drop / len(keep_mask) * 100\n",
    "    print(f\"Dropping {n_drop} rows ({pct:.2f}%) where mode='{mode}'\")"
   ]
  },
  {
   "cell_type": "code",
   "execution_count": 28,
   "id": "5fb8eee5",
   "metadata": {
    "execution": {
     "iopub.execute_input": "2025-08-05T16:18:52.585349Z",
     "iopub.status.busy": "2025-08-05T16:18:52.584388Z",
     "iopub.status.idle": "2025-08-05T16:18:52.591922Z",
     "shell.execute_reply": "2025-08-05T16:18:52.590681Z"
    },
    "papermill": {
     "duration": 0.032076,
     "end_time": "2025-08-05T16:18:52.593763",
     "exception": false,
     "start_time": "2025-08-05T16:18:52.561687",
     "status": "completed"
    },
    "tags": []
   },
   "outputs": [],
   "source": [
    "X_train = X_train[keep_mask]"
   ]
  },
  {
   "cell_type": "code",
   "execution_count": 29,
   "id": "b202bb3a",
   "metadata": {
    "execution": {
     "iopub.execute_input": "2025-08-05T16:18:52.641875Z",
     "iopub.status.busy": "2025-08-05T16:18:52.640934Z",
     "iopub.status.idle": "2025-08-05T16:18:52.648418Z",
     "shell.execute_reply": "2025-08-05T16:18:52.647361Z"
    },
    "papermill": {
     "duration": 0.032314,
     "end_time": "2025-08-05T16:18:52.650200",
     "exception": false,
     "start_time": "2025-08-05T16:18:52.617886",
     "status": "completed"
    },
    "tags": []
   },
   "outputs": [],
   "source": [
    "y_train = y_train[keep_mask]"
   ]
  },
  {
   "cell_type": "markdown",
   "id": "493e2ac3",
   "metadata": {
    "papermill": {
     "duration": 0.021594,
     "end_time": "2025-08-05T16:18:52.694315",
     "exception": false,
     "start_time": "2025-08-05T16:18:52.672721",
     "status": "completed"
    },
    "tags": []
   },
   "source": [
    "# Model Training"
   ]
  },
  {
   "cell_type": "code",
   "execution_count": 30,
   "id": "679e1268",
   "metadata": {
    "execution": {
     "iopub.execute_input": "2025-08-05T16:18:52.741199Z",
     "iopub.status.busy": "2025-08-05T16:18:52.740386Z",
     "iopub.status.idle": "2025-08-05T16:18:52.860974Z",
     "shell.execute_reply": "2025-08-05T16:18:52.859917Z"
    },
    "papermill": {
     "duration": 0.146357,
     "end_time": "2025-08-05T16:18:52.863302",
     "exception": false,
     "start_time": "2025-08-05T16:18:52.716945",
     "status": "completed"
    },
    "tags": []
   },
   "outputs": [],
   "source": [
    "from sklearn.linear_model import LogisticRegression\n",
    "from sklearn.ensemble import GradientBoostingClassifier, RandomForestClassifier\n",
    "\n",
    "if (universe[\"model\"] == \"logreg\"):\n",
    "    model = LogisticRegression() #penalty=\"none\", solver=\"newton-cg\", max_iter=1) # include random_state=19 ?\n",
    "elif (universe[\"model\"] == \"penalized_logreg\"):\n",
    "    model = LogisticRegression(penalty=\"l2\", C=0.1) #, solver=\"newton-cg\", max_iter=1)\n",
    "elif (universe[\"model\"] == \"rf\"):\n",
    "    model = RandomForestClassifier() # n_estimators=100, n_jobs=-1\n",
    "elif (universe[\"model\"] == \"gbm\"):\n",
    "    model = GradientBoostingClassifier()\n",
    "elif (universe[\"model\"] == \"elasticnet\"):\n",
    "    model = LogisticRegression(penalty = 'elasticnet', solver = 'saga', l1_ratio = 0.5) # max_iter=5000\n",
    "else:\n",
    "    raise \"Unsupported universe.model\""
   ]
  },
  {
   "cell_type": "code",
   "execution_count": 31,
   "id": "0cc8f744",
   "metadata": {
    "execution": {
     "iopub.execute_input": "2025-08-05T16:18:52.911898Z",
     "iopub.status.busy": "2025-08-05T16:18:52.911014Z",
     "iopub.status.idle": "2025-08-05T16:18:52.918527Z",
     "shell.execute_reply": "2025-08-05T16:18:52.917420Z"
    },
    "papermill": {
     "duration": 0.034093,
     "end_time": "2025-08-05T16:18:52.920323",
     "exception": false,
     "start_time": "2025-08-05T16:18:52.886230",
     "status": "completed"
    },
    "tags": []
   },
   "outputs": [],
   "source": [
    "import numpy as np\n",
    "from sklearn.pipeline import Pipeline\n",
    "from sklearn.preprocessing import StandardScaler\n",
    "\n",
    "model = Pipeline([\n",
    "    #(\"continuous_processor\", continuous_processor),\n",
    "    #(\"categorical_preprocessor\", categorical_preprocessor),\n",
    "    (\"scale\", StandardScaler() if universe[\"scale\"] == \"scale\" else None), \n",
    "    (\"model\", model),\n",
    "])"
   ]
  },
  {
   "cell_type": "code",
   "execution_count": 32,
   "id": "9442c04d",
   "metadata": {
    "execution": {
     "iopub.execute_input": "2025-08-05T16:18:52.966648Z",
     "iopub.status.busy": "2025-08-05T16:18:52.965613Z",
     "iopub.status.idle": "2025-08-05T16:18:53.431959Z",
     "shell.execute_reply": "2025-08-05T16:18:53.430842Z"
    },
    "papermill": {
     "duration": 0.491601,
     "end_time": "2025-08-05T16:18:53.433957",
     "exception": false,
     "start_time": "2025-08-05T16:18:52.942356",
     "status": "completed"
    },
    "tags": []
   },
   "outputs": [
    {
     "data": {
      "text/html": [
       "<style>#sk-container-id-1 {color: black;background-color: white;}#sk-container-id-1 pre{padding: 0;}#sk-container-id-1 div.sk-toggleable {background-color: white;}#sk-container-id-1 label.sk-toggleable__label {cursor: pointer;display: block;width: 100%;margin-bottom: 0;padding: 0.3em;box-sizing: border-box;text-align: center;}#sk-container-id-1 label.sk-toggleable__label-arrow:before {content: \"▸\";float: left;margin-right: 0.25em;color: #696969;}#sk-container-id-1 label.sk-toggleable__label-arrow:hover:before {color: black;}#sk-container-id-1 div.sk-estimator:hover label.sk-toggleable__label-arrow:before {color: black;}#sk-container-id-1 div.sk-toggleable__content {max-height: 0;max-width: 0;overflow: hidden;text-align: left;background-color: #f0f8ff;}#sk-container-id-1 div.sk-toggleable__content pre {margin: 0.2em;color: black;border-radius: 0.25em;background-color: #f0f8ff;}#sk-container-id-1 input.sk-toggleable__control:checked~div.sk-toggleable__content {max-height: 200px;max-width: 100%;overflow: auto;}#sk-container-id-1 input.sk-toggleable__control:checked~label.sk-toggleable__label-arrow:before {content: \"▾\";}#sk-container-id-1 div.sk-estimator input.sk-toggleable__control:checked~label.sk-toggleable__label {background-color: #d4ebff;}#sk-container-id-1 div.sk-label input.sk-toggleable__control:checked~label.sk-toggleable__label {background-color: #d4ebff;}#sk-container-id-1 input.sk-hidden--visually {border: 0;clip: rect(1px 1px 1px 1px);clip: rect(1px, 1px, 1px, 1px);height: 1px;margin: -1px;overflow: hidden;padding: 0;position: absolute;width: 1px;}#sk-container-id-1 div.sk-estimator {font-family: monospace;background-color: #f0f8ff;border: 1px dotted black;border-radius: 0.25em;box-sizing: border-box;margin-bottom: 0.5em;}#sk-container-id-1 div.sk-estimator:hover {background-color: #d4ebff;}#sk-container-id-1 div.sk-parallel-item::after {content: \"\";width: 100%;border-bottom: 1px solid gray;flex-grow: 1;}#sk-container-id-1 div.sk-label:hover label.sk-toggleable__label {background-color: #d4ebff;}#sk-container-id-1 div.sk-serial::before {content: \"\";position: absolute;border-left: 1px solid gray;box-sizing: border-box;top: 0;bottom: 0;left: 50%;z-index: 0;}#sk-container-id-1 div.sk-serial {display: flex;flex-direction: column;align-items: center;background-color: white;padding-right: 0.2em;padding-left: 0.2em;position: relative;}#sk-container-id-1 div.sk-item {position: relative;z-index: 1;}#sk-container-id-1 div.sk-parallel {display: flex;align-items: stretch;justify-content: center;background-color: white;position: relative;}#sk-container-id-1 div.sk-item::before, #sk-container-id-1 div.sk-parallel-item::before {content: \"\";position: absolute;border-left: 1px solid gray;box-sizing: border-box;top: 0;bottom: 0;left: 50%;z-index: -1;}#sk-container-id-1 div.sk-parallel-item {display: flex;flex-direction: column;z-index: 1;position: relative;background-color: white;}#sk-container-id-1 div.sk-parallel-item:first-child::after {align-self: flex-end;width: 50%;}#sk-container-id-1 div.sk-parallel-item:last-child::after {align-self: flex-start;width: 50%;}#sk-container-id-1 div.sk-parallel-item:only-child::after {width: 0;}#sk-container-id-1 div.sk-dashed-wrapped {border: 1px dashed gray;margin: 0 0.4em 0.5em 0.4em;box-sizing: border-box;padding-bottom: 0.4em;background-color: white;}#sk-container-id-1 div.sk-label label {font-family: monospace;font-weight: bold;display: inline-block;line-height: 1.2em;}#sk-container-id-1 div.sk-label-container {text-align: center;}#sk-container-id-1 div.sk-container {/* jupyter's `normalize.less` sets `[hidden] { display: none; }` but bootstrap.min.css set `[hidden] { display: none !important; }` so we also need the `!important` here to be able to override the default hidden behavior on the sphinx rendered scikit-learn.org. See: https://github.com/scikit-learn/scikit-learn/issues/21755 */display: inline-block !important;position: relative;}#sk-container-id-1 div.sk-text-repr-fallback {display: none;}</style><div id=\"sk-container-id-1\" class=\"sk-top-container\"><div class=\"sk-text-repr-fallback\"><pre>Pipeline(steps=[(&#x27;scale&#x27;, StandardScaler()),\n",
       "                (&#x27;model&#x27;, RandomForestClassifier())])</pre><b>In a Jupyter environment, please rerun this cell to show the HTML representation or trust the notebook. <br />On GitHub, the HTML representation is unable to render, please try loading this page with nbviewer.org.</b></div><div class=\"sk-container\" hidden><div class=\"sk-item sk-dashed-wrapped\"><div class=\"sk-label-container\"><div class=\"sk-label sk-toggleable\"><input class=\"sk-toggleable__control sk-hidden--visually\" id=\"sk-estimator-id-1\" type=\"checkbox\" ><label for=\"sk-estimator-id-1\" class=\"sk-toggleable__label sk-toggleable__label-arrow\">Pipeline</label><div class=\"sk-toggleable__content\"><pre>Pipeline(steps=[(&#x27;scale&#x27;, StandardScaler()),\n",
       "                (&#x27;model&#x27;, RandomForestClassifier())])</pre></div></div></div><div class=\"sk-serial\"><div class=\"sk-item\"><div class=\"sk-estimator sk-toggleable\"><input class=\"sk-toggleable__control sk-hidden--visually\" id=\"sk-estimator-id-2\" type=\"checkbox\" ><label for=\"sk-estimator-id-2\" class=\"sk-toggleable__label sk-toggleable__label-arrow\">StandardScaler</label><div class=\"sk-toggleable__content\"><pre>StandardScaler()</pre></div></div></div><div class=\"sk-item\"><div class=\"sk-estimator sk-toggleable\"><input class=\"sk-toggleable__control sk-hidden--visually\" id=\"sk-estimator-id-3\" type=\"checkbox\" ><label for=\"sk-estimator-id-3\" class=\"sk-toggleable__label sk-toggleable__label-arrow\">RandomForestClassifier</label><div class=\"sk-toggleable__content\"><pre>RandomForestClassifier()</pre></div></div></div></div></div></div></div>"
      ],
      "text/plain": [
       "Pipeline(steps=[('scale', StandardScaler()),\n",
       "                ('model', RandomForestClassifier())])"
      ]
     },
     "execution_count": 32,
     "metadata": {},
     "output_type": "execute_result"
    }
   ],
   "source": [
    "model.fit(X_train, y_train.values.ravel())"
   ]
  },
  {
   "cell_type": "code",
   "execution_count": 33,
   "id": "af59f8c0",
   "metadata": {
    "execution": {
     "iopub.execute_input": "2025-08-05T16:18:53.485382Z",
     "iopub.status.busy": "2025-08-05T16:18:53.484588Z",
     "iopub.status.idle": "2025-08-05T16:18:53.491028Z",
     "shell.execute_reply": "2025-08-05T16:18:53.489763Z"
    },
    "papermill": {
     "duration": 0.034666,
     "end_time": "2025-08-05T16:18:53.492951",
     "exception": false,
     "start_time": "2025-08-05T16:18:53.458285",
     "status": "completed"
    },
    "tags": []
   },
   "outputs": [],
   "source": [
    "from fairness_multiverse.universe import predict_w_threshold"
   ]
  },
  {
   "cell_type": "code",
   "execution_count": 34,
   "id": "a7cf2e16",
   "metadata": {
    "execution": {
     "iopub.execute_input": "2025-08-05T16:18:53.547121Z",
     "iopub.status.busy": "2025-08-05T16:18:53.546350Z",
     "iopub.status.idle": "2025-08-05T16:18:55.560128Z",
     "shell.execute_reply": "2025-08-05T16:18:55.558980Z"
    },
    "papermill": {
     "duration": 2.043803,
     "end_time": "2025-08-05T16:18:55.562414",
     "exception": false,
     "start_time": "2025-08-05T16:18:53.518611",
     "status": "completed"
    },
    "tags": []
   },
   "outputs": [
    {
     "data": {
      "text/plain": [
       "0.8577416118604392"
      ]
     },
     "execution_count": 34,
     "metadata": {},
     "output_type": "execute_result"
    }
   ],
   "source": [
    "probs_test = model.predict_proba(X_test)\n",
    "\n",
    "'''\n",
    "Below code returns a boolean array (or binary 0/1 array depending on how it’s used) where each element \n",
    "is True if the probability of class 1 is greater than or equal to the threshold, and False otherwise.\n",
    "'''\n",
    "y_pred_default = predict_w_threshold(probs_test, 0.5)\n",
    "\n",
    "from sklearn.metrics import accuracy_score\n",
    "\n",
    "# Naive prediction\n",
    "accuracy_score(y_true = y_true, y_pred = y_pred_default)"
   ]
  },
  {
   "cell_type": "code",
   "execution_count": 35,
   "id": "081964c3",
   "metadata": {
    "execution": {
     "iopub.execute_input": "2025-08-05T16:18:55.615704Z",
     "iopub.status.busy": "2025-08-05T16:18:55.615197Z",
     "iopub.status.idle": "2025-08-05T16:18:57.101126Z",
     "shell.execute_reply": "2025-08-05T16:18:57.100266Z"
    },
    "papermill": {
     "duration": 1.514109,
     "end_time": "2025-08-05T16:18:57.102663",
     "exception": false,
     "start_time": "2025-08-05T16:18:55.588554",
     "status": "completed"
    },
    "tags": []
   },
   "outputs": [
    {
     "data": {
      "text/plain": [
       "array([0, 0, 0, ..., 0, 0, 0])"
      ]
     },
     "execution_count": 35,
     "metadata": {},
     "output_type": "execute_result"
    }
   ],
   "source": [
    "model.predict(X_test)"
   ]
  },
  {
   "cell_type": "markdown",
   "id": "56c9705b",
   "metadata": {
    "papermill": {
     "duration": 0.012918,
     "end_time": "2025-08-05T16:18:57.129239",
     "exception": false,
     "start_time": "2025-08-05T16:18:57.116321",
     "status": "completed"
    },
    "tags": []
   },
   "source": [
    "# Conformal Prediction"
   ]
  },
  {
   "cell_type": "code",
   "execution_count": 36,
   "id": "160ec6ff",
   "metadata": {
    "execution": {
     "iopub.execute_input": "2025-08-05T16:18:57.157352Z",
     "iopub.status.busy": "2025-08-05T16:18:57.156441Z",
     "iopub.status.idle": "2025-08-05T16:18:57.162256Z",
     "shell.execute_reply": "2025-08-05T16:18:57.161209Z"
    },
    "papermill": {
     "duration": 0.02123,
     "end_time": "2025-08-05T16:18:57.163770",
     "exception": false,
     "start_time": "2025-08-05T16:18:57.142540",
     "status": "completed"
    },
    "tags": []
   },
   "outputs": [],
   "source": [
    "# Miscoverage level for conformal prediction (10% allowed error rate => 90% target coverage)\n",
    "alpha = 0.1"
   ]
  },
  {
   "cell_type": "code",
   "execution_count": 37,
   "id": "eadf4555-3dd3-440e-8e35-f82a4ad9f855",
   "metadata": {
    "execution": {
     "iopub.execute_input": "2025-08-05T16:18:57.192519Z",
     "iopub.status.busy": "2025-08-05T16:18:57.191662Z",
     "iopub.status.idle": "2025-08-05T16:18:58.997955Z",
     "shell.execute_reply": "2025-08-05T16:18:58.996672Z"
    },
    "papermill": {
     "duration": 1.822797,
     "end_time": "2025-08-05T16:18:59.000289",
     "exception": false,
     "start_time": "2025-08-05T16:18:57.177492",
     "status": "completed"
    },
    "tags": []
   },
   "outputs": [],
   "source": [
    "probs_calib = model.predict_proba(X_calib)"
   ]
  },
  {
   "cell_type": "code",
   "execution_count": 38,
   "id": "2ed93547-6d5d-4983-9b36-1ecb300da49a",
   "metadata": {
    "execution": {
     "iopub.execute_input": "2025-08-05T16:18:59.056035Z",
     "iopub.status.busy": "2025-08-05T16:18:59.055030Z",
     "iopub.status.idle": "2025-08-05T16:18:59.061818Z",
     "shell.execute_reply": "2025-08-05T16:18:59.060538Z"
    },
    "papermill": {
     "duration": 0.037091,
     "end_time": "2025-08-05T16:18:59.063801",
     "exception": false,
     "start_time": "2025-08-05T16:18:59.026710",
     "status": "completed"
    },
    "tags": []
   },
   "outputs": [],
   "source": [
    "y_calib = y_calib.values.ravel().astype(int)"
   ]
  },
  {
   "cell_type": "code",
   "execution_count": 39,
   "id": "65d1320d-f588-4b38-9072-62af1ae97f7d",
   "metadata": {
    "execution": {
     "iopub.execute_input": "2025-08-05T16:18:59.116442Z",
     "iopub.status.busy": "2025-08-05T16:18:59.115639Z",
     "iopub.status.idle": "2025-08-05T16:18:59.125705Z",
     "shell.execute_reply": "2025-08-05T16:18:59.124485Z"
    },
    "papermill": {
     "duration": 0.037323,
     "end_time": "2025-08-05T16:18:59.127621",
     "exception": false,
     "start_time": "2025-08-05T16:18:59.090298",
     "status": "completed"
    },
    "tags": []
   },
   "outputs": [],
   "source": [
    "from fairness_multiverse.conformal import compute_nc_scores\n",
    "\n",
    "# Compute nonconformity scores on calibration set (1 - probability of true class)\n",
    "nc_scores = compute_nc_scores(probs_calib, y_calib)"
   ]
  },
  {
   "cell_type": "code",
   "execution_count": 40,
   "id": "df3b8ca3-53b7-43d5-9667-7c85da7aeda2",
   "metadata": {
    "execution": {
     "iopub.execute_input": "2025-08-05T16:18:59.183156Z",
     "iopub.status.busy": "2025-08-05T16:18:59.182249Z",
     "iopub.status.idle": "2025-08-05T16:18:59.195054Z",
     "shell.execute_reply": "2025-08-05T16:18:59.193845Z"
    },
    "papermill": {
     "duration": 0.042007,
     "end_time": "2025-08-05T16:18:59.197193",
     "exception": false,
     "start_time": "2025-08-05T16:18:59.155186",
     "status": "completed"
    },
    "tags": []
   },
   "outputs": [],
   "source": [
    "from fairness_multiverse.conformal import find_threshold\n",
    "\n",
    "# Find conformal threshold q_hat for the given alpha (split conformal method)\n",
    "q_hat = find_threshold(nc_scores, alpha)"
   ]
  },
  {
   "cell_type": "code",
   "execution_count": 41,
   "id": "4d29e6c1-0ef6-4aa4-b8fe-4fe79b0d033a",
   "metadata": {
    "execution": {
     "iopub.execute_input": "2025-08-05T16:18:59.247719Z",
     "iopub.status.busy": "2025-08-05T16:18:59.246710Z",
     "iopub.status.idle": "2025-08-05T16:18:59.255641Z",
     "shell.execute_reply": "2025-08-05T16:18:59.254372Z"
    },
    "papermill": {
     "duration": 0.034131,
     "end_time": "2025-08-05T16:18:59.257618",
     "exception": false,
     "start_time": "2025-08-05T16:18:59.223487",
     "status": "completed"
    },
    "tags": []
   },
   "outputs": [
    {
     "data": {
      "text/plain": [
       "0.6699999999999999"
      ]
     },
     "execution_count": 41,
     "metadata": {},
     "output_type": "execute_result"
    }
   ],
   "source": [
    "q_hat"
   ]
  },
  {
   "cell_type": "code",
   "execution_count": 42,
   "id": "92460794-cdac-4be2-ba28-f28c0515a6fb",
   "metadata": {
    "execution": {
     "iopub.execute_input": "2025-08-05T16:18:59.302965Z",
     "iopub.status.busy": "2025-08-05T16:18:59.302004Z",
     "iopub.status.idle": "2025-08-05T16:19:01.646693Z",
     "shell.execute_reply": "2025-08-05T16:19:01.645503Z"
    },
    "papermill": {
     "duration": 2.365366,
     "end_time": "2025-08-05T16:19:01.648973",
     "exception": false,
     "start_time": "2025-08-05T16:18:59.283607",
     "status": "completed"
    },
    "tags": []
   },
   "outputs": [],
   "source": [
    "from fairness_multiverse.conformal import predict_conformal_sets\n",
    "\n",
    "# Generate prediction sets for each test example\n",
    "pred_sets = predict_conformal_sets(model, X_test, q_hat)"
   ]
  },
  {
   "cell_type": "code",
   "execution_count": 43,
   "id": "d90c9a65-e6db-4f5d-80cd-e68fb7e46829",
   "metadata": {
    "execution": {
     "iopub.execute_input": "2025-08-05T16:19:01.695870Z",
     "iopub.status.busy": "2025-08-05T16:19:01.695366Z",
     "iopub.status.idle": "2025-08-05T16:19:01.701193Z",
     "shell.execute_reply": "2025-08-05T16:19:01.700239Z"
    },
    "papermill": {
     "duration": 0.028169,
     "end_time": "2025-08-05T16:19:01.703015",
     "exception": false,
     "start_time": "2025-08-05T16:19:01.674846",
     "status": "completed"
    },
    "tags": []
   },
   "outputs": [],
   "source": [
    "y_true = y_true.squeeze()"
   ]
  },
  {
   "cell_type": "code",
   "execution_count": 44,
   "id": "3a58a54a-1e68-46b9-927a-df01f18aebc8",
   "metadata": {
    "execution": {
     "iopub.execute_input": "2025-08-05T16:19:01.743016Z",
     "iopub.status.busy": "2025-08-05T16:19:01.742256Z",
     "iopub.status.idle": "2025-08-05T16:19:02.715497Z",
     "shell.execute_reply": "2025-08-05T16:19:02.714321Z"
    },
    "papermill": {
     "duration": 0.995166,
     "end_time": "2025-08-05T16:19:02.717760",
     "exception": false,
     "start_time": "2025-08-05T16:19:01.722594",
     "status": "completed"
    },
    "tags": []
   },
   "outputs": [],
   "source": [
    "from fairness_multiverse.conformal import evaluate_sets\n",
    "\n",
    "# Evaluate coverage and average set size on test data\n",
    "metrics = evaluate_sets(pred_sets, y_true)"
   ]
  },
  {
   "cell_type": "markdown",
   "id": "2b569c12-9aaa-4c88-98c9-bbcd0cf3ebb8",
   "metadata": {
    "papermill": {
     "duration": 0.025936,
     "end_time": "2025-08-05T16:19:02.769691",
     "exception": false,
     "start_time": "2025-08-05T16:19:02.743755",
     "status": "completed"
    },
    "tags": []
   },
   "source": [
    "# CP Metrics"
   ]
  },
  {
   "cell_type": "code",
   "execution_count": 45,
   "id": "5ce0a5cb-201f-45a0-ade5-94c7f0bd6095",
   "metadata": {
    "execution": {
     "iopub.execute_input": "2025-08-05T16:19:02.818517Z",
     "iopub.status.busy": "2025-08-05T16:19:02.817563Z",
     "iopub.status.idle": "2025-08-05T16:19:02.826685Z",
     "shell.execute_reply": "2025-08-05T16:19:02.825443Z"
    },
    "papermill": {
     "duration": 0.035567,
     "end_time": "2025-08-05T16:19:02.828593",
     "exception": false,
     "start_time": "2025-08-05T16:19:02.793026",
     "status": "completed"
    },
    "tags": []
   },
   "outputs": [
    {
     "data": {
      "text/plain": [
       "{'coverage': 0.915605841043362, 'avg_size': 1.1836361609631034}"
      ]
     },
     "execution_count": 45,
     "metadata": {},
     "output_type": "execute_result"
    }
   ],
   "source": [
    "metrics"
   ]
  },
  {
   "cell_type": "code",
   "execution_count": 46,
   "id": "9b9a838d-31c9-430b-ae14-12baee460d17",
   "metadata": {
    "execution": {
     "iopub.execute_input": "2025-08-05T16:19:02.878124Z",
     "iopub.status.busy": "2025-08-05T16:19:02.877205Z",
     "iopub.status.idle": "2025-08-05T16:19:02.884962Z",
     "shell.execute_reply": "2025-08-05T16:19:02.883834Z"
    },
    "papermill": {
     "duration": 0.034835,
     "end_time": "2025-08-05T16:19:02.887233",
     "exception": false,
     "start_time": "2025-08-05T16:19:02.852398",
     "status": "completed"
    },
    "tags": []
   },
   "outputs": [],
   "source": [
    "example_universe = universe.copy()\n",
    "universe_training_year = example_universe.get(\"training_year\")\n",
    "universe_training_size = example_universe.get(\"training_size\")\n",
    "universe_scale = example_universe.get(\"scale\")\n",
    "universe_model = example_universe.get(\"model\")\n",
    "universe_exclude_features = example_universe.get(\"exclude_features\")\n",
    "universe_exclude_subgroups = example_universe.get(\"exclude_subgroups\")"
   ]
  },
  {
   "cell_type": "code",
   "execution_count": 47,
   "id": "f4b6a8ac-9dc0-4245-8a91-5b3b5999c4f9",
   "metadata": {
    "execution": {
     "iopub.execute_input": "2025-08-05T16:19:02.936961Z",
     "iopub.status.busy": "2025-08-05T16:19:02.936373Z",
     "iopub.status.idle": "2025-08-05T16:19:02.944182Z",
     "shell.execute_reply": "2025-08-05T16:19:02.942896Z"
    },
    "papermill": {
     "duration": 0.034885,
     "end_time": "2025-08-05T16:19:02.946286",
     "exception": false,
     "start_time": "2025-08-05T16:19:02.911401",
     "status": "completed"
    },
    "tags": []
   },
   "outputs": [],
   "source": [
    "cp_metrics_dict = {\n",
    "    \"universe_id\": [universe_id],\n",
    "    \"universe_training_year\": [universe_training_year],\n",
    "    \"universe_training_size\": [universe_training_size],\n",
    "    \"universe_scale\": [universe_scale],\n",
    "    \"universe_model\": [universe_model],\n",
    "    \"universe_exclude_features\": [universe_exclude_features],\n",
    "    \"universe_exclude_subgroups\": [universe_exclude_subgroups],\n",
    "    \"q_hat\": [q_hat],\n",
    "    \"coverage\": [metrics[\"coverage\"]],\n",
    "    \"avg_size\": [metrics[\"avg_size\"]],\n",
    "}"
   ]
  },
  {
   "cell_type": "code",
   "execution_count": 48,
   "id": "908acbb1-0371-4915-85ca-3fa520d2efe2",
   "metadata": {
    "execution": {
     "iopub.execute_input": "2025-08-05T16:19:03.008113Z",
     "iopub.status.busy": "2025-08-05T16:19:03.007074Z",
     "iopub.status.idle": "2025-08-05T16:19:03.016083Z",
     "shell.execute_reply": "2025-08-05T16:19:03.014789Z"
    },
    "papermill": {
     "duration": 0.041597,
     "end_time": "2025-08-05T16:19:03.018310",
     "exception": false,
     "start_time": "2025-08-05T16:19:02.976713",
     "status": "completed"
    },
    "tags": []
   },
   "outputs": [
    {
     "data": {
      "text/plain": [
       "{'universe_id': ['c35306ff19e7d3d6941cf957d917b3c1'],\n",
       " 'universe_training_year': ['2012_14'],\n",
       " 'universe_training_size': ['1k'],\n",
       " 'universe_scale': ['scale'],\n",
       " 'universe_model': ['rf'],\n",
       " 'universe_exclude_features': ['nationality'],\n",
       " 'universe_exclude_subgroups': ['drop-non-german'],\n",
       " 'q_hat': [0.6699999999999999],\n",
       " 'coverage': [0.915605841043362],\n",
       " 'avg_size': [1.1836361609631034]}"
      ]
     },
     "execution_count": 48,
     "metadata": {},
     "output_type": "execute_result"
    }
   ],
   "source": [
    "cp_metrics_dict"
   ]
  },
  {
   "cell_type": "code",
   "execution_count": 49,
   "id": "33007efc-14e9-4ec6-97ac-56a455c82265",
   "metadata": {
    "execution": {
     "iopub.execute_input": "2025-08-05T16:19:03.081161Z",
     "iopub.status.busy": "2025-08-05T16:19:03.080308Z",
     "iopub.status.idle": "2025-08-05T16:19:03.088575Z",
     "shell.execute_reply": "2025-08-05T16:19:03.087289Z"
    },
    "papermill": {
     "duration": 0.041675,
     "end_time": "2025-08-05T16:19:03.090521",
     "exception": false,
     "start_time": "2025-08-05T16:19:03.048846",
     "status": "completed"
    },
    "tags": []
   },
   "outputs": [],
   "source": [
    "cp_metrics_df = pd.DataFrame(cp_metrics_dict)"
   ]
  },
  {
   "cell_type": "code",
   "execution_count": 50,
   "id": "db12611b-57b2-4910-b9d0-355adfd6e7bf",
   "metadata": {
    "execution": {
     "iopub.execute_input": "2025-08-05T16:19:03.154058Z",
     "iopub.status.busy": "2025-08-05T16:19:03.152947Z",
     "iopub.status.idle": "2025-08-05T16:19:03.174148Z",
     "shell.execute_reply": "2025-08-05T16:19:03.172971Z"
    },
    "papermill": {
     "duration": 0.055634,
     "end_time": "2025-08-05T16:19:03.176259",
     "exception": false,
     "start_time": "2025-08-05T16:19:03.120625",
     "status": "completed"
    },
    "tags": []
   },
   "outputs": [
    {
     "data": {
      "text/html": [
       "<div>\n",
       "<style scoped>\n",
       "    .dataframe tbody tr th:only-of-type {\n",
       "        vertical-align: middle;\n",
       "    }\n",
       "\n",
       "    .dataframe tbody tr th {\n",
       "        vertical-align: top;\n",
       "    }\n",
       "\n",
       "    .dataframe thead th {\n",
       "        text-align: right;\n",
       "    }\n",
       "</style>\n",
       "<table border=\"1\" class=\"dataframe\">\n",
       "  <thead>\n",
       "    <tr style=\"text-align: right;\">\n",
       "      <th></th>\n",
       "      <th>universe_id</th>\n",
       "      <th>universe_training_year</th>\n",
       "      <th>universe_training_size</th>\n",
       "      <th>universe_scale</th>\n",
       "      <th>universe_model</th>\n",
       "      <th>universe_exclude_features</th>\n",
       "      <th>universe_exclude_subgroups</th>\n",
       "      <th>q_hat</th>\n",
       "      <th>coverage</th>\n",
       "      <th>avg_size</th>\n",
       "    </tr>\n",
       "  </thead>\n",
       "  <tbody>\n",
       "    <tr>\n",
       "      <th>0</th>\n",
       "      <td>c35306ff19e7d3d6941cf957d917b3c1</td>\n",
       "      <td>2012_14</td>\n",
       "      <td>1k</td>\n",
       "      <td>scale</td>\n",
       "      <td>rf</td>\n",
       "      <td>nationality</td>\n",
       "      <td>drop-non-german</td>\n",
       "      <td>0.67</td>\n",
       "      <td>0.915606</td>\n",
       "      <td>1.183636</td>\n",
       "    </tr>\n",
       "  </tbody>\n",
       "</table>\n",
       "</div>"
      ],
      "text/plain": [
       "                        universe_id universe_training_year  \\\n",
       "0  c35306ff19e7d3d6941cf957d917b3c1                2012_14   \n",
       "\n",
       "  universe_training_size universe_scale universe_model  \\\n",
       "0                     1k          scale             rf   \n",
       "\n",
       "  universe_exclude_features universe_exclude_subgroups  q_hat  coverage  \\\n",
       "0               nationality            drop-non-german   0.67  0.915606   \n",
       "\n",
       "   avg_size  \n",
       "0  1.183636  "
      ]
     },
     "execution_count": 50,
     "metadata": {},
     "output_type": "execute_result"
    }
   ],
   "source": [
    "cp_metrics_df"
   ]
  },
  {
   "cell_type": "code",
   "execution_count": 51,
   "id": "b7fbde55-a0a1-47e4-9af6-fe4a17fa8c61",
   "metadata": {
    "execution": {
     "iopub.execute_input": "2025-08-05T16:19:03.239439Z",
     "iopub.status.busy": "2025-08-05T16:19:03.238527Z",
     "iopub.status.idle": "2025-08-05T16:19:03.244828Z",
     "shell.execute_reply": "2025-08-05T16:19:03.243668Z"
    },
    "papermill": {
     "duration": 0.039315,
     "end_time": "2025-08-05T16:19:03.246932",
     "exception": false,
     "start_time": "2025-08-05T16:19:03.207617",
     "status": "completed"
    },
    "tags": []
   },
   "outputs": [],
   "source": [
    "# Conditional Coverage & looking at subgroups"
   ]
  },
  {
   "cell_type": "code",
   "execution_count": 52,
   "id": "027ae886-68dd-4141-96c7-805a5450e1ef",
   "metadata": {
    "execution": {
     "iopub.execute_input": "2025-08-05T16:19:03.310483Z",
     "iopub.status.busy": "2025-08-05T16:19:03.309357Z",
     "iopub.status.idle": "2025-08-05T16:19:03.594353Z",
     "shell.execute_reply": "2025-08-05T16:19:03.593066Z"
    },
    "papermill": {
     "duration": 0.319746,
     "end_time": "2025-08-05T16:19:03.597120",
     "exception": false,
     "start_time": "2025-08-05T16:19:03.277374",
     "status": "completed"
    },
    "tags": []
   },
   "outputs": [],
   "source": [
    "from fairness_multiverse.conformal import build_cp_groups\n",
    "\n",
    "cp_groups_df = build_cp_groups(pred_sets, y_true, X_test.index, org_test)\n",
    "#needs universe_id and setting"
   ]
  },
  {
   "cell_type": "code",
   "execution_count": 53,
   "id": "6cbdab96-b2b2-45af-ad54-d0516db2e28d",
   "metadata": {
    "execution": {
     "iopub.execute_input": "2025-08-05T16:19:03.660496Z",
     "iopub.status.busy": "2025-08-05T16:19:03.659424Z",
     "iopub.status.idle": "2025-08-05T16:19:05.602744Z",
     "shell.execute_reply": "2025-08-05T16:19:05.601377Z"
    },
    "papermill": {
     "duration": 1.975814,
     "end_time": "2025-08-05T16:19:05.604787",
     "exception": false,
     "start_time": "2025-08-05T16:19:03.628973",
     "status": "completed"
    },
    "tags": []
   },
   "outputs": [],
   "source": [
    "# Define covered = 1 if true_label is in the predicted set\n",
    "cp_groups_df['covered'] = cp_groups_df.apply(\n",
    "    lambda r: int(r['true_label'] in r['pred_set']),\n",
    "    axis=1\n",
    ")"
   ]
  },
  {
   "cell_type": "code",
   "execution_count": 54,
   "id": "338ff529-1a6b-4b87-a931-8e4788d52aad",
   "metadata": {
    "execution": {
     "iopub.execute_input": "2025-08-05T16:19:05.658323Z",
     "iopub.status.busy": "2025-08-05T16:19:05.657438Z",
     "iopub.status.idle": "2025-08-05T16:19:05.663526Z",
     "shell.execute_reply": "2025-08-05T16:19:05.662467Z"
    },
    "papermill": {
     "duration": 0.034409,
     "end_time": "2025-08-05T16:19:05.665503",
     "exception": false,
     "start_time": "2025-08-05T16:19:05.631094",
     "status": "completed"
    },
    "tags": []
   },
   "outputs": [],
   "source": [
    "#cp_groups_df"
   ]
  },
  {
   "cell_type": "code",
   "execution_count": 55,
   "id": "90032e27-66df-4540-9169-4e89cfbaa758",
   "metadata": {
    "execution": {
     "iopub.execute_input": "2025-08-05T16:19:05.714562Z",
     "iopub.status.busy": "2025-08-05T16:19:05.714134Z",
     "iopub.status.idle": "2025-08-05T16:19:05.724853Z",
     "shell.execute_reply": "2025-08-05T16:19:05.724048Z"
    },
    "papermill": {
     "duration": 0.031547,
     "end_time": "2025-08-05T16:19:05.726386",
     "exception": false,
     "start_time": "2025-08-05T16:19:05.694839",
     "status": "completed"
    },
    "tags": []
   },
   "outputs": [],
   "source": [
    "subgroups = ['frau1','nongerman','nongerman_male','nongerman_female']\n",
    "\n",
    "# Conditional coverage for subgroup==1\n",
    "cond_coverage = {\n",
    "    g: cp_groups_df.loc[cp_groups_df[g]==1, 'covered'].mean()\n",
    "    for g in subgroups\n",
    "}"
   ]
  },
  {
   "cell_type": "code",
   "execution_count": 56,
   "id": "1e348fb1-b9c3-45bc-ba23-f016827a7e0d",
   "metadata": {
    "execution": {
     "iopub.execute_input": "2025-08-05T16:19:05.755830Z",
     "iopub.status.busy": "2025-08-05T16:19:05.755205Z",
     "iopub.status.idle": "2025-08-05T16:19:05.762583Z",
     "shell.execute_reply": "2025-08-05T16:19:05.761734Z"
    },
    "papermill": {
     "duration": 0.023569,
     "end_time": "2025-08-05T16:19:05.764092",
     "exception": false,
     "start_time": "2025-08-05T16:19:05.740523",
     "status": "completed"
    },
    "tags": []
   },
   "outputs": [
    {
     "data": {
      "text/plain": [
       "{'frau1': 0.913627173473514,\n",
       " 'nongerman': 0.9136585639701341,\n",
       " 'nongerman_male': 0.9257858236512654,\n",
       " 'nongerman_female': 0.893591654247392}"
      ]
     },
     "execution_count": 56,
     "metadata": {},
     "output_type": "execute_result"
    }
   ],
   "source": [
    "cond_coverage"
   ]
  },
  {
   "cell_type": "code",
   "execution_count": 57,
   "id": "f5093324-c3dd-4d63-bc4c-8d945e5c8bbb",
   "metadata": {
    "execution": {
     "iopub.execute_input": "2025-08-05T16:19:05.793757Z",
     "iopub.status.busy": "2025-08-05T16:19:05.792809Z",
     "iopub.status.idle": "2025-08-05T16:19:05.799663Z",
     "shell.execute_reply": "2025-08-05T16:19:05.798728Z"
    },
    "papermill": {
     "duration": 0.022798,
     "end_time": "2025-08-05T16:19:05.801083",
     "exception": false,
     "start_time": "2025-08-05T16:19:05.778285",
     "status": "completed"
    },
    "tags": []
   },
   "outputs": [],
   "source": [
    "for subgroup, cov in cond_coverage.items():\n",
    "    cp_metrics_df[f\"cov_{subgroup}\"] = cov"
   ]
  },
  {
   "cell_type": "code",
   "execution_count": 58,
   "id": "6e872e10-dbe5-49e8-b554-5030c98ff75d",
   "metadata": {
    "execution": {
     "iopub.execute_input": "2025-08-05T16:19:05.830329Z",
     "iopub.status.busy": "2025-08-05T16:19:05.829924Z",
     "iopub.status.idle": "2025-08-05T16:19:05.845988Z",
     "shell.execute_reply": "2025-08-05T16:19:05.845097Z"
    },
    "papermill": {
     "duration": 0.032199,
     "end_time": "2025-08-05T16:19:05.847508",
     "exception": false,
     "start_time": "2025-08-05T16:19:05.815309",
     "status": "completed"
    },
    "tags": []
   },
   "outputs": [
    {
     "data": {
      "text/html": [
       "<div>\n",
       "<style scoped>\n",
       "    .dataframe tbody tr th:only-of-type {\n",
       "        vertical-align: middle;\n",
       "    }\n",
       "\n",
       "    .dataframe tbody tr th {\n",
       "        vertical-align: top;\n",
       "    }\n",
       "\n",
       "    .dataframe thead th {\n",
       "        text-align: right;\n",
       "    }\n",
       "</style>\n",
       "<table border=\"1\" class=\"dataframe\">\n",
       "  <thead>\n",
       "    <tr style=\"text-align: right;\">\n",
       "      <th></th>\n",
       "      <th>universe_id</th>\n",
       "      <th>universe_training_year</th>\n",
       "      <th>universe_training_size</th>\n",
       "      <th>universe_scale</th>\n",
       "      <th>universe_model</th>\n",
       "      <th>universe_exclude_features</th>\n",
       "      <th>universe_exclude_subgroups</th>\n",
       "      <th>q_hat</th>\n",
       "      <th>coverage</th>\n",
       "      <th>avg_size</th>\n",
       "      <th>cov_frau1</th>\n",
       "      <th>cov_nongerman</th>\n",
       "      <th>cov_nongerman_male</th>\n",
       "      <th>cov_nongerman_female</th>\n",
       "    </tr>\n",
       "  </thead>\n",
       "  <tbody>\n",
       "    <tr>\n",
       "      <th>0</th>\n",
       "      <td>c35306ff19e7d3d6941cf957d917b3c1</td>\n",
       "      <td>2012_14</td>\n",
       "      <td>1k</td>\n",
       "      <td>scale</td>\n",
       "      <td>rf</td>\n",
       "      <td>nationality</td>\n",
       "      <td>drop-non-german</td>\n",
       "      <td>0.67</td>\n",
       "      <td>0.915606</td>\n",
       "      <td>1.183636</td>\n",
       "      <td>0.913627</td>\n",
       "      <td>0.913659</td>\n",
       "      <td>0.925786</td>\n",
       "      <td>0.893592</td>\n",
       "    </tr>\n",
       "  </tbody>\n",
       "</table>\n",
       "</div>"
      ],
      "text/plain": [
       "                        universe_id universe_training_year  \\\n",
       "0  c35306ff19e7d3d6941cf957d917b3c1                2012_14   \n",
       "\n",
       "  universe_training_size universe_scale universe_model  \\\n",
       "0                     1k          scale             rf   \n",
       "\n",
       "  universe_exclude_features universe_exclude_subgroups  q_hat  coverage  \\\n",
       "0               nationality            drop-non-german   0.67  0.915606   \n",
       "\n",
       "   avg_size  cov_frau1  cov_nongerman  cov_nongerman_male  \\\n",
       "0  1.183636   0.913627       0.913659            0.925786   \n",
       "\n",
       "   cov_nongerman_female  \n",
       "0              0.893592  "
      ]
     },
     "execution_count": 58,
     "metadata": {},
     "output_type": "execute_result"
    }
   ],
   "source": [
    "cp_metrics_df"
   ]
  },
  {
   "cell_type": "markdown",
   "id": "33774451",
   "metadata": {
    "papermill": {
     "duration": 0.020091,
     "end_time": "2025-08-05T16:19:05.881846",
     "exception": false,
     "start_time": "2025-08-05T16:19:05.861755",
     "status": "completed"
    },
    "tags": []
   },
   "source": [
    "# (Fairness) Metrics"
   ]
  },
  {
   "cell_type": "code",
   "execution_count": 59,
   "id": "debc5d62",
   "metadata": {
    "execution": {
     "iopub.execute_input": "2025-08-05T16:19:05.911389Z",
     "iopub.status.busy": "2025-08-05T16:19:05.910800Z",
     "iopub.status.idle": "2025-08-05T16:19:05.926819Z",
     "shell.execute_reply": "2025-08-05T16:19:05.925923Z"
    },
    "papermill": {
     "duration": 0.032456,
     "end_time": "2025-08-05T16:19:05.928487",
     "exception": false,
     "start_time": "2025-08-05T16:19:05.896031",
     "status": "completed"
    },
    "tags": []
   },
   "outputs": [],
   "source": [
    "# do I need to include maxdeutsch1.missing?\n",
    "\n",
    "import numpy as np\n",
    "\n",
    "colname_to_bin = \"maxdeutsch1\"\n",
    "majority_value = org_train[colname_to_bin].mode()[0]\n",
    "\n",
    "org_test[\"majmin\"] = np.where(org_test[colname_to_bin] == majority_value, \"majority\", \"minority\")"
   ]
  },
  {
   "cell_type": "code",
   "execution_count": 60,
   "id": "06a50de5",
   "metadata": {
    "execution": {
     "iopub.execute_input": "2025-08-05T16:19:05.958680Z",
     "iopub.status.busy": "2025-08-05T16:19:05.958107Z",
     "iopub.status.idle": "2025-08-05T16:19:09.157732Z",
     "shell.execute_reply": "2025-08-05T16:19:09.156243Z"
    },
    "papermill": {
     "duration": 3.217226,
     "end_time": "2025-08-05T16:19:09.160053",
     "exception": false,
     "start_time": "2025-08-05T16:19:05.942827",
     "status": "completed"
    },
    "tags": []
   },
   "outputs": [],
   "source": [
    "example_universe = universe.copy()\n",
    "example_universe[\"cutoff\"] = example_universe[\"cutoff\"][0]\n",
    "example_universe[\"eval_fairness_grouping\"] = example_universe[\"eval_fairness_grouping\"][0]\n",
    "fairness_dict, metric_frame = universe_analysis.compute_metrics(\n",
    "    example_universe,\n",
    "    y_pred_prob=probs_test,\n",
    "    y_test=y_true,\n",
    "    org_test=org_test,\n",
    ")"
   ]
  },
  {
   "cell_type": "markdown",
   "id": "f95d4e02",
   "metadata": {
    "papermill": {
     "duration": 0.030116,
     "end_time": "2025-08-05T16:19:09.219197",
     "exception": false,
     "start_time": "2025-08-05T16:19:09.189081",
     "status": "completed"
    },
    "tags": []
   },
   "source": [
    "# Overall"
   ]
  },
  {
   "cell_type": "markdown",
   "id": "bdee4871",
   "metadata": {
    "papermill": {
     "duration": 0.030376,
     "end_time": "2025-08-05T16:19:09.279816",
     "exception": false,
     "start_time": "2025-08-05T16:19:09.249440",
     "status": "completed"
    },
    "tags": []
   },
   "source": [
    "Fairness\n",
    "Main fairness target: Equalized Odds. Seems to be a better fit than equal opportunity, since we're not only interested in Y = 1. Seems to be a better fit than demographic parity, since we also care about accuracy, not just equal distribution of preds.\n",
    "\n",
    "Pick column for computation of fairness metrics\n",
    "\n",
    "Performance\n",
    "Overall performance measures, most interesting in relation to the measures split by group below"
   ]
  },
  {
   "cell_type": "code",
   "execution_count": 61,
   "id": "c4e067c6",
   "metadata": {
    "execution": {
     "iopub.execute_input": "2025-08-05T16:19:09.338611Z",
     "iopub.status.busy": "2025-08-05T16:19:09.337438Z",
     "iopub.status.idle": "2025-08-05T16:19:09.349374Z",
     "shell.execute_reply": "2025-08-05T16:19:09.348161Z"
    },
    "papermill": {
     "duration": 0.041882,
     "end_time": "2025-08-05T16:19:09.351452",
     "exception": false,
     "start_time": "2025-08-05T16:19:09.309570",
     "status": "completed"
    },
    "tags": []
   },
   "outputs": [
    {
     "data": {
      "text/plain": [
       "accuracy                   0.209798\n",
       "balanced accuracy          0.540384\n",
       "f1                         0.242323\n",
       "precision                  0.138155\n",
       "false positive rate        0.904286\n",
       "false negative rate        0.014946\n",
       "selection rate             0.914647\n",
       "count                  89710.000000\n",
       "dtype: float64"
      ]
     },
     "execution_count": 61,
     "metadata": {},
     "output_type": "execute_result"
    }
   ],
   "source": [
    "metric_frame.overall"
   ]
  },
  {
   "cell_type": "markdown",
   "id": "e968fe9d",
   "metadata": {
    "papermill": {
     "duration": 0.031633,
     "end_time": "2025-08-05T16:19:09.416296",
     "exception": false,
     "start_time": "2025-08-05T16:19:09.384663",
     "status": "completed"
    },
    "tags": []
   },
   "source": [
    "By Group"
   ]
  },
  {
   "cell_type": "code",
   "execution_count": 62,
   "id": "ec325bce",
   "metadata": {
    "execution": {
     "iopub.execute_input": "2025-08-05T16:19:09.478259Z",
     "iopub.status.busy": "2025-08-05T16:19:09.477481Z",
     "iopub.status.idle": "2025-08-05T16:19:09.498173Z",
     "shell.execute_reply": "2025-08-05T16:19:09.496823Z"
    },
    "papermill": {
     "duration": 0.054008,
     "end_time": "2025-08-05T16:19:09.500070",
     "exception": false,
     "start_time": "2025-08-05T16:19:09.446062",
     "status": "completed"
    },
    "tags": []
   },
   "outputs": [
    {
     "data": {
      "text/html": [
       "<div>\n",
       "<style scoped>\n",
       "    .dataframe tbody tr th:only-of-type {\n",
       "        vertical-align: middle;\n",
       "    }\n",
       "\n",
       "    .dataframe tbody tr th {\n",
       "        vertical-align: top;\n",
       "    }\n",
       "\n",
       "    .dataframe thead th {\n",
       "        text-align: right;\n",
       "    }\n",
       "</style>\n",
       "<table border=\"1\" class=\"dataframe\">\n",
       "  <thead>\n",
       "    <tr style=\"text-align: right;\">\n",
       "      <th></th>\n",
       "      <th>accuracy</th>\n",
       "      <th>balanced accuracy</th>\n",
       "      <th>f1</th>\n",
       "      <th>precision</th>\n",
       "      <th>false positive rate</th>\n",
       "      <th>false negative rate</th>\n",
       "      <th>selection rate</th>\n",
       "      <th>count</th>\n",
       "    </tr>\n",
       "    <tr>\n",
       "      <th>majmin</th>\n",
       "      <th></th>\n",
       "      <th></th>\n",
       "      <th></th>\n",
       "      <th></th>\n",
       "      <th></th>\n",
       "      <th></th>\n",
       "      <th></th>\n",
       "      <th></th>\n",
       "    </tr>\n",
       "  </thead>\n",
       "  <tbody>\n",
       "    <tr>\n",
       "      <th>majority</th>\n",
       "      <td>0.222409</td>\n",
       "      <td>0.546025</td>\n",
       "      <td>0.250975</td>\n",
       "      <td>0.143789</td>\n",
       "      <td>0.893836</td>\n",
       "      <td>0.014114</td>\n",
       "      <td>0.906000</td>\n",
       "      <td>69170.0</td>\n",
       "    </tr>\n",
       "    <tr>\n",
       "      <th>minority</th>\n",
       "      <td>0.167332</td>\n",
       "      <td>0.521517</td>\n",
       "      <td>0.213764</td>\n",
       "      <td>0.119938</td>\n",
       "      <td>0.938807</td>\n",
       "      <td>0.018159</td>\n",
       "      <td>0.943768</td>\n",
       "      <td>20540.0</td>\n",
       "    </tr>\n",
       "  </tbody>\n",
       "</table>\n",
       "</div>"
      ],
      "text/plain": [
       "          accuracy  balanced accuracy        f1  precision  \\\n",
       "majmin                                                       \n",
       "majority  0.222409           0.546025  0.250975   0.143789   \n",
       "minority  0.167332           0.521517  0.213764   0.119938   \n",
       "\n",
       "          false positive rate  false negative rate  selection rate    count  \n",
       "majmin                                                                       \n",
       "majority             0.893836             0.014114        0.906000  69170.0  \n",
       "minority             0.938807             0.018159        0.943768  20540.0  "
      ]
     },
     "execution_count": 62,
     "metadata": {},
     "output_type": "execute_result"
    }
   ],
   "source": [
    "metric_frame.by_group"
   ]
  },
  {
   "cell_type": "code",
   "execution_count": 63,
   "id": "a9ddbe63",
   "metadata": {
    "execution": {
     "iopub.execute_input": "2025-08-05T16:19:09.556309Z",
     "iopub.status.busy": "2025-08-05T16:19:09.555562Z",
     "iopub.status.idle": "2025-08-05T16:19:12.357601Z",
     "shell.execute_reply": "2025-08-05T16:19:12.356246Z"
    },
    "papermill": {
     "duration": 2.832032,
     "end_time": "2025-08-05T16:19:12.359883",
     "exception": false,
     "start_time": "2025-08-05T16:19:09.527851",
     "status": "completed"
    },
    "tags": []
   },
   "outputs": [
    {
     "data": {
      "text/plain": [
       "array([[<Axes: title={'center': 'accuracy'}, xlabel='majmin'>,\n",
       "        <Axes: title={'center': 'balanced accuracy'}, xlabel='majmin'>,\n",
       "        <Axes: title={'center': 'f1'}, xlabel='majmin'>],\n",
       "       [<Axes: title={'center': 'precision'}, xlabel='majmin'>,\n",
       "        <Axes: title={'center': 'false positive rate'}, xlabel='majmin'>,\n",
       "        <Axes: title={'center': 'false negative rate'}, xlabel='majmin'>],\n",
       "       [<Axes: title={'center': 'selection rate'}, xlabel='majmin'>,\n",
       "        <Axes: title={'center': 'count'}, xlabel='majmin'>,\n",
       "        <Axes: xlabel='majmin'>]], dtype=object)"
      ]
     },
     "execution_count": 63,
     "metadata": {},
     "output_type": "execute_result"
    },
    {
     "data": {
      "image/png": "[encoded data removed]",
      "text/plain": [
       "<Figure size 1200x800 with 9 Axes>"
      ]
     },
     "metadata": {},
     "output_type": "display_data"
    }
   ],
   "source": [
    "# In a graphic\n",
    "metric_frame.by_group.plot.bar(\n",
    "    subplots=True,\n",
    "    layout=[3, 3],\n",
    "    legend=False,\n",
    "    figsize=[12, 8],\n",
    "    title=\"Show all metrics\",\n",
    ")"
   ]
  },
  {
   "cell_type": "markdown",
   "id": "f57a0bac",
   "metadata": {
    "papermill": {
     "duration": 0.028943,
     "end_time": "2025-08-05T16:19:12.417617",
     "exception": false,
     "start_time": "2025-08-05T16:19:12.388674",
     "status": "completed"
    },
    "tags": []
   },
   "source": [
    "# Final Output"
   ]
  },
  {
   "cell_type": "code",
   "execution_count": 64,
   "id": "96d280a3",
   "metadata": {
    "execution": {
     "iopub.execute_input": "2025-08-05T16:19:12.479579Z",
     "iopub.status.busy": "2025-08-05T16:19:12.477971Z",
     "iopub.status.idle": "2025-08-05T16:19:12.489342Z",
     "shell.execute_reply": "2025-08-05T16:19:12.487909Z"
    },
    "papermill": {
     "duration": 0.047895,
     "end_time": "2025-08-05T16:19:12.494656",
     "exception": false,
     "start_time": "2025-08-05T16:19:12.446761",
     "status": "completed"
    },
    "tags": []
   },
   "outputs": [
    {
     "data": {
      "text/plain": [
       "4"
      ]
     },
     "execution_count": 64,
     "metadata": {},
     "output_type": "execute_result"
    }
   ],
   "source": [
    "sub_universes = universe_analysis.generate_sub_universes()\n",
    "len(sub_universes)"
   ]
  },
  {
   "cell_type": "code",
   "execution_count": 65,
   "id": "92adf7ba",
   "metadata": {
    "execution": {
     "iopub.execute_input": "2025-08-05T16:19:12.591442Z",
     "iopub.status.busy": "2025-08-05T16:19:12.590984Z",
     "iopub.status.idle": "2025-08-05T16:19:12.598462Z",
     "shell.execute_reply": "2025-08-05T16:19:12.597299Z"
    },
    "papermill": {
     "duration": 0.058923,
     "end_time": "2025-08-05T16:19:12.600832",
     "exception": false,
     "start_time": "2025-08-05T16:19:12.541909",
     "status": "completed"
    },
    "tags": []
   },
   "outputs": [],
   "source": [
    "def filter_sub_universe_data(sub_universe, org_test):\n",
    "    # Keep all rows — no filtering\n",
    "    keep_rows_mask = np.ones(org_test.shape[0], dtype=bool)\n",
    "\n",
    "    print(f\"[INFO] Keeping all rows: {keep_rows_mask.sum()} rows retained.\")\n",
    "    return keep_rows_mask"
   ]
  },
  {
   "cell_type": "code",
   "execution_count": 66,
   "id": "4a759155",
   "metadata": {
    "execution": {
     "iopub.execute_input": "2025-08-05T16:19:12.698427Z",
     "iopub.status.busy": "2025-08-05T16:19:12.697962Z",
     "iopub.status.idle": "2025-08-05T16:19:24.963438Z",
     "shell.execute_reply": "2025-08-05T16:19:24.962174Z"
    },
    "papermill": {
     "duration": 12.316862,
     "end_time": "2025-08-05T16:19:24.965501",
     "exception": false,
     "start_time": "2025-08-05T16:19:12.648639",
     "status": "completed"
    },
    "tags": []
   },
   "outputs": [
    {
     "name": "stdout",
     "output_type": "stream",
     "text": [
      "Stopping execution_time clock.\n",
      "[INFO] Keeping all rows: 89710 rows retained.\n"
     ]
    },
    {
     "name": "stdout",
     "output_type": "stream",
     "text": [
      "[INFO] Keeping all rows: 89710 rows retained.\n"
     ]
    },
    {
     "name": "stdout",
     "output_type": "stream",
     "text": [
      "[INFO] Keeping all rows: 89710 rows retained.\n"
     ]
    },
    {
     "name": "stdout",
     "output_type": "stream",
     "text": [
      "[INFO] Keeping all rows: 89710 rows retained.\n"
     ]
    },
    {
     "data": {
      "text/html": [
       "<div>\n",
       "<style scoped>\n",
       "    .dataframe tbody tr th:only-of-type {\n",
       "        vertical-align: middle;\n",
       "    }\n",
       "\n",
       "    .dataframe tbody tr th {\n",
       "        vertical-align: top;\n",
       "    }\n",
       "\n",
       "    .dataframe thead th {\n",
       "        text-align: right;\n",
       "    }\n",
       "</style>\n",
       "<table border=\"1\" class=\"dataframe\">\n",
       "  <thead>\n",
       "    <tr style=\"text-align: right;\">\n",
       "      <th></th>\n",
       "      <th>run_no</th>\n",
       "      <th>universe_id</th>\n",
       "      <th>universe_settings</th>\n",
       "      <th>execution_time</th>\n",
       "      <th>test_size_n</th>\n",
       "      <th>test_size_frac</th>\n",
       "      <th>fair_main_equalized_odds_difference</th>\n",
       "      <th>fair_main_equalized_odds_ratio</th>\n",
       "      <th>fair_main_demographic_parity_difference</th>\n",
       "      <th>fair_main_demographic_parity_ratio</th>\n",
       "      <th>...</th>\n",
       "      <th>perf_grp_precision_0</th>\n",
       "      <th>perf_grp_precision_1</th>\n",
       "      <th>perf_grp_false positive rate_0</th>\n",
       "      <th>perf_grp_false positive rate_1</th>\n",
       "      <th>perf_grp_false negative rate_0</th>\n",
       "      <th>perf_grp_false negative rate_1</th>\n",
       "      <th>perf_grp_selection rate_0</th>\n",
       "      <th>perf_grp_selection rate_1</th>\n",
       "      <th>perf_grp_count_0</th>\n",
       "      <th>perf_grp_count_1</th>\n",
       "    </tr>\n",
       "  </thead>\n",
       "  <tbody>\n",
       "    <tr>\n",
       "      <th>0</th>\n",
       "      <td>15</td>\n",
       "      <td>c35306ff19e7d3d6941cf957d917b3c1</td>\n",
       "      <td>{\"cutoff\": \"quantile_0.1\", \"eval_fairness_grou...</td>\n",
       "      <td>36.717686</td>\n",
       "      <td>89710</td>\n",
       "      <td>1.0</td>\n",
       "      <td>0.044971</td>\n",
       "      <td>0.952098</td>\n",
       "      <td>0.037769</td>\n",
       "      <td>0.959981</td>\n",
       "      <td>...</td>\n",
       "      <td>NaN</td>\n",
       "      <td>NaN</td>\n",
       "      <td>NaN</td>\n",
       "      <td>NaN</td>\n",
       "      <td>NaN</td>\n",
       "      <td>NaN</td>\n",
       "      <td>NaN</td>\n",
       "      <td>NaN</td>\n",
       "      <td>NaN</td>\n",
       "      <td>NaN</td>\n",
       "    </tr>\n",
       "    <tr>\n",
       "      <th>0</th>\n",
       "      <td>15</td>\n",
       "      <td>c35306ff19e7d3d6941cf957d917b3c1</td>\n",
       "      <td>{\"cutoff\": \"quantile_0.1\", \"eval_fairness_grou...</td>\n",
       "      <td>36.717686</td>\n",
       "      <td>89710</td>\n",
       "      <td>1.0</td>\n",
       "      <td>0.044971</td>\n",
       "      <td>0.952098</td>\n",
       "      <td>0.037769</td>\n",
       "      <td>0.959981</td>\n",
       "      <td>...</td>\n",
       "      <td>0.119938</td>\n",
       "      <td>0.143789</td>\n",
       "      <td>0.938807</td>\n",
       "      <td>0.893836</td>\n",
       "      <td>0.018159</td>\n",
       "      <td>0.014114</td>\n",
       "      <td>0.943768</td>\n",
       "      <td>0.906000</td>\n",
       "      <td>20540.0</td>\n",
       "      <td>69170.0</td>\n",
       "    </tr>\n",
       "    <tr>\n",
       "      <th>0</th>\n",
       "      <td>15</td>\n",
       "      <td>c35306ff19e7d3d6941cf957d917b3c1</td>\n",
       "      <td>{\"cutoff\": \"quantile_0.25\", \"eval_fairness_gro...</td>\n",
       "      <td>36.717686</td>\n",
       "      <td>89710</td>\n",
       "      <td>1.0</td>\n",
       "      <td>0.099935</td>\n",
       "      <td>0.880107</td>\n",
       "      <td>0.084237</td>\n",
       "      <td>0.900310</td>\n",
       "      <td>...</td>\n",
       "      <td>NaN</td>\n",
       "      <td>NaN</td>\n",
       "      <td>NaN</td>\n",
       "      <td>NaN</td>\n",
       "      <td>NaN</td>\n",
       "      <td>NaN</td>\n",
       "      <td>NaN</td>\n",
       "      <td>NaN</td>\n",
       "      <td>NaN</td>\n",
       "      <td>NaN</td>\n",
       "    </tr>\n",
       "    <tr>\n",
       "      <th>0</th>\n",
       "      <td>15</td>\n",
       "      <td>c35306ff19e7d3d6941cf957d917b3c1</td>\n",
       "      <td>{\"cutoff\": \"quantile_0.25\", \"eval_fairness_gro...</td>\n",
       "      <td>36.717686</td>\n",
       "      <td>89710</td>\n",
       "      <td>1.0</td>\n",
       "      <td>0.099935</td>\n",
       "      <td>0.880107</td>\n",
       "      <td>0.084237</td>\n",
       "      <td>0.900310</td>\n",
       "      <td>...</td>\n",
       "      <td>0.127276</td>\n",
       "      <td>0.163110</td>\n",
       "      <td>0.833535</td>\n",
       "      <td>0.733600</td>\n",
       "      <td>0.067145</td>\n",
       "      <td>0.060941</td>\n",
       "      <td>0.844985</td>\n",
       "      <td>0.760749</td>\n",
       "      <td>20540.0</td>\n",
       "      <td>69170.0</td>\n",
       "    </tr>\n",
       "  </tbody>\n",
       "</table>\n",
       "<p>4 rows × 50 columns</p>\n",
       "</div>"
      ],
      "text/plain": [
       "  run_no                       universe_id  \\\n",
       "0     15  c35306ff19e7d3d6941cf957d917b3c1   \n",
       "0     15  c35306ff19e7d3d6941cf957d917b3c1   \n",
       "0     15  c35306ff19e7d3d6941cf957d917b3c1   \n",
       "0     15  c35306ff19e7d3d6941cf957d917b3c1   \n",
       "\n",
       "                                   universe_settings  execution_time  \\\n",
       "0  {\"cutoff\": \"quantile_0.1\", \"eval_fairness_grou...       36.717686   \n",
       "0  {\"cutoff\": \"quantile_0.1\", \"eval_fairness_grou...       36.717686   \n",
       "0  {\"cutoff\": \"quantile_0.25\", \"eval_fairness_gro...       36.717686   \n",
       "0  {\"cutoff\": \"quantile_0.25\", \"eval_fairness_gro...       36.717686   \n",
       "\n",
       "   test_size_n  test_size_frac  fair_main_equalized_odds_difference  \\\n",
       "0        89710             1.0                             0.044971   \n",
       "0        89710             1.0                             0.044971   \n",
       "0        89710             1.0                             0.099935   \n",
       "0        89710             1.0                             0.099935   \n",
       "\n",
       "   fair_main_equalized_odds_ratio  fair_main_demographic_parity_difference  \\\n",
       "0                        0.952098                                 0.037769   \n",
       "0                        0.952098                                 0.037769   \n",
       "0                        0.880107                                 0.084237   \n",
       "0                        0.880107                                 0.084237   \n",
       "\n",
       "   fair_main_demographic_parity_ratio  ...  perf_grp_precision_0  \\\n",
       "0                            0.959981  ...                   NaN   \n",
       "0                            0.959981  ...              0.119938   \n",
       "0                            0.900310  ...                   NaN   \n",
       "0                            0.900310  ...              0.127276   \n",
       "\n",
       "   perf_grp_precision_1  perf_grp_false positive rate_0  \\\n",
       "0                   NaN                             NaN   \n",
       "0              0.143789                        0.938807   \n",
       "0                   NaN                             NaN   \n",
       "0              0.163110                        0.833535   \n",
       "\n",
       "   perf_grp_false positive rate_1  perf_grp_false negative rate_0  \\\n",
       "0                             NaN                             NaN   \n",
       "0                        0.893836                        0.018159   \n",
       "0                             NaN                             NaN   \n",
       "0                        0.733600                        0.067145   \n",
       "\n",
       "   perf_grp_false negative rate_1  perf_grp_selection rate_0  \\\n",
       "0                             NaN                        NaN   \n",
       "0                        0.014114                   0.943768   \n",
       "0                             NaN                        NaN   \n",
       "0                        0.060941                   0.844985   \n",
       "\n",
       "   perf_grp_selection rate_1  perf_grp_count_0  perf_grp_count_1  \n",
       "0                        NaN               NaN               NaN  \n",
       "0                   0.906000           20540.0           69170.0  \n",
       "0                        NaN               NaN               NaN  \n",
       "0                   0.760749           20540.0           69170.0  \n",
       "\n",
       "[4 rows x 50 columns]"
      ]
     },
     "execution_count": 66,
     "metadata": {},
     "output_type": "execute_result"
    }
   ],
   "source": [
    "final_output = universe_analysis.generate_final_output(\n",
    "    y_pred_prob=probs_test,\n",
    "    y_test=y_true,\n",
    "    org_test=org_test,\n",
    "    filter_data=filter_sub_universe_data,\n",
    "    cp_metrics_df=cp_metrics_df,\n",
    "    save=True,\n",
    ")\n",
    "final_output"
   ]
  }
 ],
 "metadata": {
  "celltoolbar": "Tags",
  "kernelspec": {
   "display_name": "Python (CMA Fairness)",
   "language": "python",
   "name": "cma_fair_env"
  },
  "language_info": {
   "codemirror_mode": {
    "name": "ipython",
    "version": 3
   },
   "file_extension": ".py",
   "mimetype": "text/x-python",
   "name": "python",
   "nbconvert_exporter": "python",
   "pygments_lexer": "ipython3",
   "version": "3.10.12"
  },
  "papermill": {
   "default_parameters": {},
   "duration": 53.895072,
   "end_time": "2025-08-05T16:19:25.820718",
   "environment_variables": {},
   "exception": null,
   "input_path": "universe_analysis.ipynb",
   "output_path": "output/runs/15/notebooks/m_15-c35306ff19e7d3d6941cf957d917b3c1.ipynb",
   "parameters": {
    "output_dir": "output",
    "run_no": "15",
    "seed": "2023",
    "universe": "{\"cutoff\": [\"quantile_0.1\", \"quantile_0.25\"], \"eval_fairness_grouping\": [\"majority-minority\", \"nationality-all\"], \"exclude_features\": \"nationality\", \"exclude_subgroups\": \"drop-non-german\", \"model\": \"rf\", \"scale\": \"scale\", \"training_size\": \"1k\", \"training_year\": \"2012_14\"}",
    "universe_id": "c35306ff19e7d3d6941cf957d917b3c1"
   },
   "start_time": "2025-08-05T16:18:31.925646",
   "version": "2.6.0"
  }
 },
 "nbformat": 4,
 "nbformat_minor": 5
}