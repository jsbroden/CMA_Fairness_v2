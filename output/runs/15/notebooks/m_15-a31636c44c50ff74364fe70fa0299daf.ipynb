{
 "cells": [
  {
   "cell_type": "code",
   "execution_count": 1,
   "id": "f159f837-637b-42ba-96b5-ec9a68c44524",
   "metadata": {
    "execution": {
     "iopub.execute_input": "2025-08-05T16:22:11.229991Z",
     "iopub.status.busy": "2025-08-05T16:22:11.229112Z",
     "iopub.status.idle": "2025-08-05T16:22:11.243413Z",
     "shell.execute_reply": "2025-08-05T16:22:11.241805Z"
    },
    "papermill": {
     "duration": 0.03754,
     "end_time": "2025-08-05T16:22:11.245249",
     "exception": false,
     "start_time": "2025-08-05T16:22:11.207709",
     "status": "completed"
    },
    "tags": []
   },
   "outputs": [
    {
     "name": "stdout",
     "output_type": "stream",
     "text": [
      "/dss/dsshome1/0C/ra93lal2/cma/CMA_Fairness_v2\n"
     ]
    },
    {
     "name": "stderr",
     "output_type": "stream",
     "text": [
      "/dss/dsshome1/0C/ra93lal2/.local/share/virtualenvs/CMA_Fairness_v2-3j10GkSs/lib/python3.10/site-packages/IPython/core/magics/osm.py:393: UserWarning: This is now an optional IPython functionality, using bookmarks requires you to install the `pickleshare` library.\n",
      "  bkms = self.shell.db.get('bookmarks', {})\n",
      "/dss/dsshome1/0C/ra93lal2/.local/share/virtualenvs/CMA_Fairness_v2-3j10GkSs/lib/python3.10/site-packages/IPython/core/magics/osm.py:417: UserWarning: This is now an optional IPython functionality, setting dhist requires you to install the `pickleshare` library.\n",
      "  self.shell.db['dhist'] = compress_dhist(dhist)[-100:]\n"
     ]
    }
   ],
   "source": [
    "%cd ~/cma/CMA_Fairness_v2"
   ]
  },
  {
   "cell_type": "markdown",
   "id": "de2603b9",
   "metadata": {
    "papermill": {
     "duration": 0.015725,
     "end_time": "2025-08-05T16:22:11.278591",
     "exception": false,
     "start_time": "2025-08-05T16:22:11.262866",
     "status": "completed"
    },
    "tags": []
   },
   "source": [
    "The following cell holds the definition of our parameters, these values can be overriden by rendering the with e.g. the following command:\n",
    "\n",
    "papermill -p alpha 0.2 -p ratio 0.3 universe_analysis.ipynb output/test_run.ipynb"
   ]
  },
  {
   "cell_type": "code",
   "execution_count": 2,
   "id": "a80968a0-40bb-4fa9-85ef-2d5eefb01975",
   "metadata": {
    "execution": {
     "iopub.execute_input": "2025-08-05T16:22:11.313407Z",
     "iopub.status.busy": "2025-08-05T16:22:11.312726Z",
     "iopub.status.idle": "2025-08-05T16:22:11.318856Z",
     "shell.execute_reply": "2025-08-05T16:22:11.317822Z"
    },
    "papermill": {
     "duration": 0.02521,
     "end_time": "2025-08-05T16:22:11.320563",
     "exception": false,
     "start_time": "2025-08-05T16:22:11.295353",
     "status": "completed"
    },
    "tags": []
   },
   "outputs": [
    {
     "name": "stdout",
     "output_type": "stream",
     "text": [
      "Current working directory: /dss/dsshome1/0C/ra93lal2/cma/CMA_Fairness_v2\n"
     ]
    }
   ],
   "source": [
    "import os\n",
    "print(\"Current working directory:\", os.getcwd())"
   ]
  },
  {
   "cell_type": "code",
   "execution_count": 3,
   "id": "2dce4c03",
   "metadata": {
    "execution": {
     "iopub.execute_input": "2025-08-05T16:22:11.356623Z",
     "iopub.status.busy": "2025-08-05T16:22:11.355739Z",
     "iopub.status.idle": "2025-08-05T16:22:11.362423Z",
     "shell.execute_reply": "2025-08-05T16:22:11.361304Z"
    },
    "papermill": {
     "duration": 0.026765,
     "end_time": "2025-08-05T16:22:11.364275",
     "exception": false,
     "start_time": "2025-08-05T16:22:11.337510",
     "status": "completed"
    },
    "tags": [
     "parameters"
    ]
   },
   "outputs": [],
   "source": [
    "run_no = 0\n",
    "universe_id = \"test\"\n",
    "universe = {\n",
    "    \"training_size\": \"25k\", # \"25k\", \"5k\", \"1k\"\n",
    "    \"training_year\": \"2014\", # \"2014\", \"2012_14\", \"2010_14\"\n",
    "    \"scale\": \"scale\", # \"scale\", \"do-not-scale\",\n",
    "    \"model\": \"elasticnet\", # \"logreg\", \"penalized_logreg\", \"rf\", \"gbm\", \"elasticnet\"\n",
    "    \"cutoff\": [\"quantile_0.15\", \"quantile_0.30\"],\n",
    "    \"exclude_features\": \"age\", # \"none\", \"nationality\", \"sex\", \"nationality-sex\", \"age\"\n",
    "    \"exclude_subgroups\": \"keep-all\", # \"keep-all\", \"drop-non-german\"\n",
    "    \"eval_fairness_grouping\": [\"majority-minority\", \"nationality-all\"]\n",
    "}\n",
    "\n",
    "output_dir=\"./output\"\n",
    "seed=0"
   ]
  },
  {
   "cell_type": "code",
   "execution_count": 4,
   "id": "a86c21ba",
   "metadata": {
    "execution": {
     "iopub.execute_input": "2025-08-05T16:22:11.400676Z",
     "iopub.status.busy": "2025-08-05T16:22:11.399639Z",
     "iopub.status.idle": "2025-08-05T16:22:11.405013Z",
     "shell.execute_reply": "2025-08-05T16:22:11.404110Z"
    },
    "papermill": {
     "duration": 0.025277,
     "end_time": "2025-08-05T16:22:11.406875",
     "exception": false,
     "start_time": "2025-08-05T16:22:11.381598",
     "status": "completed"
    },
    "tags": [
     "injected-parameters"
    ]
   },
   "outputs": [],
   "source": [
    "# Parameters\n",
    "universe_id = \"a31636c44c50ff74364fe70fa0299daf\"\n",
    "run_no = \"15\"\n",
    "universe = \"{\\\"cutoff\\\": [\\\"quantile_0.1\\\", \\\"quantile_0.25\\\"], \\\"eval_fairness_grouping\\\": [\\\"majority-minority\\\", \\\"nationality-all\\\"], \\\"exclude_features\\\": \\\"sex\\\", \\\"exclude_subgroups\\\": \\\"drop-non-german\\\", \\\"model\\\": \\\"elasticnet\\\", \\\"scale\\\": \\\"scale\\\", \\\"training_size\\\": \\\"1k\\\", \\\"training_year\\\": \\\"2012_14\\\"}\"\n",
    "output_dir = \"output\"\n",
    "seed = \"2023\"\n"
   ]
  },
  {
   "cell_type": "code",
   "execution_count": 5,
   "id": "1650acaf",
   "metadata": {
    "execution": {
     "iopub.execute_input": "2025-08-05T16:22:11.506908Z",
     "iopub.status.busy": "2025-08-05T16:22:11.505954Z",
     "iopub.status.idle": "2025-08-05T16:22:11.511572Z",
     "shell.execute_reply": "2025-08-05T16:22:11.510479Z"
    },
    "papermill": {
     "duration": 0.025755,
     "end_time": "2025-08-05T16:22:11.513506",
     "exception": false,
     "start_time": "2025-08-05T16:22:11.487751",
     "status": "completed"
    },
    "tags": []
   },
   "outputs": [],
   "source": [
    "import json\n",
    "if isinstance(universe, str):\n",
    "    universe = json.loads(universe)"
   ]
  },
  {
   "cell_type": "code",
   "execution_count": 6,
   "id": "16620c48",
   "metadata": {
    "execution": {
     "iopub.execute_input": "2025-08-05T16:22:11.550133Z",
     "iopub.status.busy": "2025-08-05T16:22:11.549357Z",
     "iopub.status.idle": "2025-08-05T16:22:11.594953Z",
     "shell.execute_reply": "2025-08-05T16:22:11.593863Z"
    },
    "papermill": {
     "duration": 0.065166,
     "end_time": "2025-08-05T16:22:11.596841",
     "exception": false,
     "start_time": "2025-08-05T16:22:11.531675",
     "status": "completed"
    },
    "tags": []
   },
   "outputs": [],
   "source": [
    "# Auto-reload the custom package\n",
    "%load_ext autoreload\n",
    "%autoreload 1\n",
    "%aimport fairness_multiverse"
   ]
  },
  {
   "cell_type": "code",
   "execution_count": 7,
   "id": "01c5c9f3",
   "metadata": {
    "execution": {
     "iopub.execute_input": "2025-08-05T16:22:11.633635Z",
     "iopub.status.busy": "2025-08-05T16:22:11.632763Z",
     "iopub.status.idle": "2025-08-05T16:22:13.901191Z",
     "shell.execute_reply": "2025-08-05T16:22:13.899837Z"
    },
    "papermill": {
     "duration": 2.289768,
     "end_time": "2025-08-05T16:22:13.904098",
     "exception": false,
     "start_time": "2025-08-05T16:22:11.614330",
     "status": "completed"
    },
    "tags": []
   },
   "outputs": [],
   "source": [
    "from fairness_multiverse.universe import UniverseAnalysis\n",
    "\n",
    "universe_analysis = UniverseAnalysis(\n",
    "    run_no = run_no,\n",
    "    universe_id = universe_id,\n",
    "    universe = universe,\n",
    "    output_dir=output_dir,\n",
    ")"
   ]
  },
  {
   "cell_type": "code",
   "execution_count": 8,
   "id": "106241f5",
   "metadata": {
    "execution": {
     "iopub.execute_input": "2025-08-05T16:22:13.964301Z",
     "iopub.status.busy": "2025-08-05T16:22:13.963869Z",
     "iopub.status.idle": "2025-08-05T16:22:13.970841Z",
     "shell.execute_reply": "2025-08-05T16:22:13.969698Z"
    },
    "papermill": {
     "duration": 0.040551,
     "end_time": "2025-08-05T16:22:13.973895",
     "exception": false,
     "start_time": "2025-08-05T16:22:13.933344",
     "status": "completed"
    },
    "tags": []
   },
   "outputs": [
    {
     "name": "stdout",
     "output_type": "stream",
     "text": [
      "Using Seed: 2023\n"
     ]
    }
   ],
   "source": [
    "import numpy as np\n",
    "parsed_seed = int(seed)\n",
    "np.random.seed(parsed_seed)\n",
    "print(f\"Using Seed: {parsed_seed}\")"
   ]
  },
  {
   "cell_type": "markdown",
   "id": "e0ebdc57",
   "metadata": {
    "papermill": {
     "duration": 0.029093,
     "end_time": "2025-08-05T16:22:14.032666",
     "exception": false,
     "start_time": "2025-08-05T16:22:14.003573",
     "status": "completed"
    },
    "tags": []
   },
   "source": [
    "# Loading Data"
   ]
  },
  {
   "cell_type": "code",
   "execution_count": 9,
   "id": "f0496b8a",
   "metadata": {
    "execution": {
     "iopub.execute_input": "2025-08-05T16:22:14.093123Z",
     "iopub.status.busy": "2025-08-05T16:22:14.092157Z",
     "iopub.status.idle": "2025-08-05T16:22:28.529069Z",
     "shell.execute_reply": "2025-08-05T16:22:28.528074Z"
    },
    "papermill": {
     "duration": 14.468863,
     "end_time": "2025-08-05T16:22:28.530420",
     "exception": false,
     "start_time": "2025-08-05T16:22:14.061557",
     "status": "completed"
    },
    "tags": []
   },
   "outputs": [
    {
     "name": "stdout",
     "output_type": "stream",
     "text": [
      "Loading SIAB data from cache: data/siab_cached.csv.gz\n"
     ]
    },
    {
     "name": "stdout",
     "output_type": "stream",
     "text": [
      "(643690, 164)\n"
     ]
    }
   ],
   "source": [
    "from pathlib import Path\n",
    "import pandas as pd\n",
    "\n",
    "# File paths\n",
    "raw_file = Path(\"data/raw/siab.csv\")\n",
    "cache_file = Path(\"data/siab_cached.csv.gz\")\n",
    "\n",
    "# Ensure cache directory exists\n",
    "cache_file.parent.mkdir(parents=True, exist_ok=True)\n",
    "\n",
    "# Load with simple caching\n",
    "if cache_file.exists():\n",
    "    print(f\"Loading SIAB data from cache: {cache_file}\")\n",
    "    siab = pd.read_csv(cache_file, compression='gzip')\n",
    "else:\n",
    "    print(f\"Cache not found. Reading raw SIAB data: {raw_file}\")\n",
    "    siab = pd.read_csv(raw_file)\n",
    "    siab.to_csv(cache_file, index=False, compression='gzip')\n",
    "    print(f\"Cached SIAB data to: {cache_file}\")\n",
    "\n",
    "print(siab.shape)"
   ]
  },
  {
   "cell_type": "code",
   "execution_count": 10,
   "id": "db0ca512-5f53-4dba-abdb-a2888bca41ba",
   "metadata": {
    "execution": {
     "iopub.execute_input": "2025-08-05T16:22:28.566162Z",
     "iopub.status.busy": "2025-08-05T16:22:28.565647Z",
     "iopub.status.idle": "2025-08-05T16:22:28.570514Z",
     "shell.execute_reply": "2025-08-05T16:22:28.569569Z"
    },
    "papermill": {
     "duration": 0.029027,
     "end_time": "2025-08-05T16:22:28.572377",
     "exception": false,
     "start_time": "2025-08-05T16:22:28.543350",
     "status": "completed"
    },
    "tags": []
   },
   "outputs": [],
   "source": [
    "#siab"
   ]
  },
  {
   "cell_type": "markdown",
   "id": "997051c5-15bd-4b69-9786-c3001a3ce484",
   "metadata": {
    "papermill": {
     "duration": 0.009492,
     "end_time": "2025-08-05T16:22:28.592968",
     "exception": false,
     "start_time": "2025-08-05T16:22:28.583476",
     "status": "completed"
    },
    "tags": []
   },
   "source": [
    "# Splitting Data and Setting Training Data Size"
   ]
  },
  {
   "cell_type": "code",
   "execution_count": 11,
   "id": "aea9c6ef-6f46-42c8-85eb-5a62025c1508",
   "metadata": {
    "execution": {
     "iopub.execute_input": "2025-08-05T16:22:28.612365Z",
     "iopub.status.busy": "2025-08-05T16:22:28.611635Z",
     "iopub.status.idle": "2025-08-05T16:22:29.211946Z",
     "shell.execute_reply": "2025-08-05T16:22:29.211002Z"
    },
    "papermill": {
     "duration": 0.611745,
     "end_time": "2025-08-05T16:22:29.213725",
     "exception": false,
     "start_time": "2025-08-05T16:22:28.601980",
     "status": "completed"
    },
    "tags": []
   },
   "outputs": [],
   "source": [
    "from fairness_multiverse.universe import sample_by_year_size\n",
    "\n",
    "siab_train = sample_by_year_size(siab,\n",
    "                               training_year=universe[\"training_year\"],\n",
    "                               training_size=universe[\"training_size\"])"
   ]
  },
  {
   "cell_type": "code",
   "execution_count": 12,
   "id": "8d3afb32-789d-442c-8d5d-9f5aa8dd2eed",
   "metadata": {
    "execution": {
     "iopub.execute_input": "2025-08-05T16:22:29.238021Z",
     "iopub.status.busy": "2025-08-05T16:22:29.237621Z",
     "iopub.status.idle": "2025-08-05T16:22:29.242840Z",
     "shell.execute_reply": "2025-08-05T16:22:29.242024Z"
    },
    "papermill": {
     "duration": 0.018997,
     "end_time": "2025-08-05T16:22:29.244470",
     "exception": false,
     "start_time": "2025-08-05T16:22:29.225473",
     "status": "completed"
    },
    "tags": []
   },
   "outputs": [],
   "source": [
    "#siab_train.shape"
   ]
  },
  {
   "cell_type": "code",
   "execution_count": 13,
   "id": "d582db68-1a4c-47fb-84fc-08518dc1975a",
   "metadata": {
    "execution": {
     "iopub.execute_input": "2025-08-05T16:22:29.269047Z",
     "iopub.status.busy": "2025-08-05T16:22:29.268164Z",
     "iopub.status.idle": "2025-08-05T16:22:29.273625Z",
     "shell.execute_reply": "2025-08-05T16:22:29.272749Z"
    },
    "papermill": {
     "duration": 0.019243,
     "end_time": "2025-08-05T16:22:29.275172",
     "exception": false,
     "start_time": "2025-08-05T16:22:29.255929",
     "status": "completed"
    },
    "tags": []
   },
   "outputs": [],
   "source": [
    "#display(siab_train.groupby(\"year\").size())"
   ]
  },
  {
   "cell_type": "code",
   "execution_count": 14,
   "id": "a561edb4-d032-42cb-8256-22eac1111c64",
   "metadata": {
    "execution": {
     "iopub.execute_input": "2025-08-05T16:22:29.299196Z",
     "iopub.status.busy": "2025-08-05T16:22:29.298600Z",
     "iopub.status.idle": "2025-08-05T16:22:29.513450Z",
     "shell.execute_reply": "2025-08-05T16:22:29.512250Z"
    },
    "papermill": {
     "duration": 0.229149,
     "end_time": "2025-08-05T16:22:29.515737",
     "exception": false,
     "start_time": "2025-08-05T16:22:29.286588",
     "status": "completed"
    },
    "tags": []
   },
   "outputs": [],
   "source": [
    "#siab_train = siab_s[siab_s.year < 2015]\n",
    "siab_calib = siab[siab.year == 2015]\n",
    "siab_test = siab[siab.year == 2016]"
   ]
  },
  {
   "cell_type": "code",
   "execution_count": 15,
   "id": "472de16f-c3db-4916-846b-1f0de9cf1746",
   "metadata": {
    "execution": {
     "iopub.execute_input": "2025-08-05T16:22:29.559476Z",
     "iopub.status.busy": "2025-08-05T16:22:29.558974Z",
     "iopub.status.idle": "2025-08-05T16:22:29.567375Z",
     "shell.execute_reply": "2025-08-05T16:22:29.566265Z"
    },
    "papermill": {
     "duration": 0.03254,
     "end_time": "2025-08-05T16:22:29.569472",
     "exception": false,
     "start_time": "2025-08-05T16:22:29.536932",
     "status": "completed"
    },
    "tags": []
   },
   "outputs": [],
   "source": [
    "X_train = siab_train.iloc[:,4:164]\n",
    "y_train = siab_train.iloc[:, [3]]"
   ]
  },
  {
   "cell_type": "code",
   "execution_count": 16,
   "id": "828c96af-f43a-4ed6-ba47-8ac73a47d56c",
   "metadata": {
    "execution": {
     "iopub.execute_input": "2025-08-05T16:22:29.620652Z",
     "iopub.status.busy": "2025-08-05T16:22:29.620216Z",
     "iopub.status.idle": "2025-08-05T16:22:29.676605Z",
     "shell.execute_reply": "2025-08-05T16:22:29.675285Z"
    },
    "papermill": {
     "duration": 0.084384,
     "end_time": "2025-08-05T16:22:29.678835",
     "exception": false,
     "start_time": "2025-08-05T16:22:29.594451",
     "status": "completed"
    },
    "tags": []
   },
   "outputs": [],
   "source": [
    "X_calib = siab_calib.iloc[:,4:164]\n",
    "y_calib = siab_calib.iloc[:, [3]]"
   ]
  },
  {
   "cell_type": "code",
   "execution_count": 17,
   "id": "c34be9c3-6bd6-476e-acd3-845840e303be",
   "metadata": {
    "execution": {
     "iopub.execute_input": "2025-08-05T16:22:29.731098Z",
     "iopub.status.busy": "2025-08-05T16:22:29.730168Z",
     "iopub.status.idle": "2025-08-05T16:22:29.793382Z",
     "shell.execute_reply": "2025-08-05T16:22:29.792103Z"
    },
    "papermill": {
     "duration": 0.091279,
     "end_time": "2025-08-05T16:22:29.795795",
     "exception": false,
     "start_time": "2025-08-05T16:22:29.704516",
     "status": "completed"
    },
    "tags": []
   },
   "outputs": [],
   "source": [
    "X_test = siab_test.iloc[:,4:164]\n",
    "y_true = siab_test.iloc[:, [3]]"
   ]
  },
  {
   "cell_type": "code",
   "execution_count": 18,
   "id": "e6c733c5",
   "metadata": {
    "execution": {
     "iopub.execute_input": "2025-08-05T16:22:29.851031Z",
     "iopub.status.busy": "2025-08-05T16:22:29.850230Z",
     "iopub.status.idle": "2025-08-05T16:22:29.951975Z",
     "shell.execute_reply": "2025-08-05T16:22:29.950715Z"
    },
    "papermill": {
     "duration": 0.131658,
     "end_time": "2025-08-05T16:22:29.954603",
     "exception": false,
     "start_time": "2025-08-05T16:22:29.822945",
     "status": "completed"
    },
    "tags": []
   },
   "outputs": [],
   "source": [
    "# Auxiliary data needed downstream in the pipeline\n",
    "\n",
    "org_train = X_train.copy()\n",
    "org_test = X_test.copy()\n",
    "org_calib = X_calib.copy()"
   ]
  },
  {
   "cell_type": "markdown",
   "id": "0a4a1b33",
   "metadata": {
    "papermill": {
     "duration": 0.025501,
     "end_time": "2025-08-05T16:22:30.007513",
     "exception": false,
     "start_time": "2025-08-05T16:22:29.982012",
     "status": "completed"
    },
    "tags": []
   },
   "source": [
    "# Preprocessing Data"
   ]
  },
  {
   "cell_type": "code",
   "execution_count": 19,
   "id": "ca879031",
   "metadata": {
    "execution": {
     "iopub.execute_input": "2025-08-05T16:22:30.061349Z",
     "iopub.status.busy": "2025-08-05T16:22:30.060682Z",
     "iopub.status.idle": "2025-08-05T16:22:30.068384Z",
     "shell.execute_reply": "2025-08-05T16:22:30.067060Z"
    },
    "papermill": {
     "duration": 0.037362,
     "end_time": "2025-08-05T16:22:30.070635",
     "exception": false,
     "start_time": "2025-08-05T16:22:30.033273",
     "status": "completed"
    },
    "tags": []
   },
   "outputs": [],
   "source": [
    "# EXCLUDE PROTECTED FEATURES\n",
    "# ----------------------\n",
    "# \"exclude_features\": \"none\", # \"nationality\", \"sex\", \"nationality-sex\"\n",
    "\n",
    "excluded_features = universe[\"exclude_features\"].split(\"-\") # split, e.g.: \"nationality-sex\" -> [\"nationality\", \"sex\"]\n",
    "excluded_features_dictionary = {\n",
    "    \"nationality\": [\"maxdeutsch1\", \"maxdeutsch.Missing.\"],\n",
    "    \"sex\": [\"frau1\"],\n",
    "    \"age\": [\"age\"],\n",
    "}"
   ]
  },
  {
   "cell_type": "code",
   "execution_count": 20,
   "id": "b745ac60",
   "metadata": {
    "execution": {
     "iopub.execute_input": "2025-08-05T16:22:30.113601Z",
     "iopub.status.busy": "2025-08-05T16:22:30.112826Z",
     "iopub.status.idle": "2025-08-05T16:22:30.119399Z",
     "shell.execute_reply": "2025-08-05T16:22:30.118253Z"
    },
    "papermill": {
     "duration": 0.029826,
     "end_time": "2025-08-05T16:22:30.121335",
     "exception": false,
     "start_time": "2025-08-05T16:22:30.091509",
     "status": "completed"
    },
    "tags": []
   },
   "outputs": [],
   "source": [
    "# Code nice names to column names\n",
    "\n",
    "excluded_features_columns = [\n",
    "    excluded_features_dictionary[f] for f in excluded_features if len(f) > 0 and f != \"none\"\n",
    "]"
   ]
  },
  {
   "cell_type": "code",
   "execution_count": 21,
   "id": "f84f73a2",
   "metadata": {
    "execution": {
     "iopub.execute_input": "2025-08-05T16:22:30.165273Z",
     "iopub.status.busy": "2025-08-05T16:22:30.164438Z",
     "iopub.status.idle": "2025-08-05T16:22:30.172363Z",
     "shell.execute_reply": "2025-08-05T16:22:30.171244Z"
    },
    "papermill": {
     "duration": 0.030832,
     "end_time": "2025-08-05T16:22:30.174327",
     "exception": false,
     "start_time": "2025-08-05T16:22:30.143495",
     "status": "completed"
    },
    "tags": []
   },
   "outputs": [],
   "source": [
    "from utils import flatten_once\n",
    "\n",
    "excluded_features_columns = flatten_once(excluded_features_columns)"
   ]
  },
  {
   "cell_type": "code",
   "execution_count": 22,
   "id": "884dea22",
   "metadata": {
    "execution": {
     "iopub.execute_input": "2025-08-05T16:22:30.217363Z",
     "iopub.status.busy": "2025-08-05T16:22:30.216699Z",
     "iopub.status.idle": "2025-08-05T16:22:30.226651Z",
     "shell.execute_reply": "2025-08-05T16:22:30.225431Z"
    },
    "papermill": {
     "duration": 0.032727,
     "end_time": "2025-08-05T16:22:30.228575",
     "exception": false,
     "start_time": "2025-08-05T16:22:30.195848",
     "status": "completed"
    },
    "tags": []
   },
   "outputs": [
    {
     "name": "stdout",
     "output_type": "stream",
     "text": [
      "Dropping features: ['frau1']\n"
     ]
    }
   ],
   "source": [
    "if len(excluded_features_columns) > 0:\n",
    "    print(f\"Dropping features: {excluded_features_columns}\")\n",
    "    X_train.drop(excluded_features_columns, axis=1, inplace=True)"
   ]
  },
  {
   "cell_type": "code",
   "execution_count": 23,
   "id": "95ab8b16",
   "metadata": {
    "execution": {
     "iopub.execute_input": "2025-08-05T16:22:30.273100Z",
     "iopub.status.busy": "2025-08-05T16:22:30.272089Z",
     "iopub.status.idle": "2025-08-05T16:22:30.337702Z",
     "shell.execute_reply": "2025-08-05T16:22:30.336364Z"
    },
    "papermill": {
     "duration": 0.089639,
     "end_time": "2025-08-05T16:22:30.339793",
     "exception": false,
     "start_time": "2025-08-05T16:22:30.250154",
     "status": "completed"
    },
    "tags": []
   },
   "outputs": [
    {
     "name": "stdout",
     "output_type": "stream",
     "text": [
      "Dropping features: ['frau1']\n"
     ]
    }
   ],
   "source": [
    "if len(excluded_features_columns) > 0:\n",
    "    print(f\"Dropping features: {excluded_features_columns}\")\n",
    "    X_test.drop(excluded_features_columns, axis=1, inplace=True)"
   ]
  },
  {
   "cell_type": "code",
   "execution_count": 24,
   "id": "1853aaf5-fb9f-46cb-a2b5-8ea4ae2237e4",
   "metadata": {
    "execution": {
     "iopub.execute_input": "2025-08-05T16:22:30.386472Z",
     "iopub.status.busy": "2025-08-05T16:22:30.385583Z",
     "iopub.status.idle": "2025-08-05T16:22:30.424568Z",
     "shell.execute_reply": "2025-08-05T16:22:30.423292Z"
    },
    "papermill": {
     "duration": 0.064637,
     "end_time": "2025-08-05T16:22:30.426549",
     "exception": false,
     "start_time": "2025-08-05T16:22:30.361912",
     "status": "completed"
    },
    "tags": []
   },
   "outputs": [
    {
     "name": "stdout",
     "output_type": "stream",
     "text": [
      "Dropping features: ['frau1']\n"
     ]
    }
   ],
   "source": [
    "if len(excluded_features_columns) > 0:\n",
    "    print(f\"Dropping features: {excluded_features_columns}\")\n",
    "    X_calib.drop(excluded_features_columns, axis=1, inplace=True)"
   ]
  },
  {
   "cell_type": "code",
   "execution_count": 25,
   "id": "76c4dc6d",
   "metadata": {
    "execution": {
     "iopub.execute_input": "2025-08-05T16:22:30.471415Z",
     "iopub.status.busy": "2025-08-05T16:22:30.470690Z",
     "iopub.status.idle": "2025-08-05T16:22:30.477425Z",
     "shell.execute_reply": "2025-08-05T16:22:30.476168Z"
    },
    "papermill": {
     "duration": 0.030639,
     "end_time": "2025-08-05T16:22:30.479380",
     "exception": false,
     "start_time": "2025-08-05T16:22:30.448741",
     "status": "completed"
    },
    "tags": []
   },
   "outputs": [],
   "source": [
    "# EXCLUDE CERTAIN SUBGROUPS\n",
    "# ----------------------\n",
    "\n",
    "mode = universe.get(\"exclude_subgroups\", \"keep-all\") \n",
    "# Fetches the exclude_subgroups setting from the universe dict.\n",
    "# Defaults to \"keep-all\" if the key is missing."
   ]
  },
  {
   "cell_type": "code",
   "execution_count": 26,
   "id": "21994072",
   "metadata": {
    "execution": {
     "iopub.execute_input": "2025-08-05T16:22:30.525744Z",
     "iopub.status.busy": "2025-08-05T16:22:30.525038Z",
     "iopub.status.idle": "2025-08-05T16:22:30.533251Z",
     "shell.execute_reply": "2025-08-05T16:22:30.532162Z"
    },
    "papermill": {
     "duration": 0.033799,
     "end_time": "2025-08-05T16:22:30.535086",
     "exception": false,
     "start_time": "2025-08-05T16:22:30.501287",
     "status": "completed"
    },
    "tags": []
   },
   "outputs": [],
   "source": [
    "if mode == \"keep-all\":\n",
    "    keep_mask = pd.Series(True, index=org_train.index)\n",
    "\n",
    "# org_train contains the original feature columns from features_org (in Simson)\n",
    "# features_org contains unprocessed features, for me X_train at beginning ???\n",
    "# For keep-all, creates a boolean Series (keep_mask) of all True, so no rows are removed.\n",
    "\n",
    "elif mode == \"drop-non-german\":\n",
    "    keep_mask = org_train[\"maxdeutsch1\"] == 1 # ??? what about missing values?\n",
    "\n",
    "else:\n",
    "    raise ValueError(f\"Unsupported mode for exclude_subgroups: {mode}\")"
   ]
  },
  {
   "cell_type": "code",
   "execution_count": 27,
   "id": "71651440",
   "metadata": {
    "execution": {
     "iopub.execute_input": "2025-08-05T16:22:30.579894Z",
     "iopub.status.busy": "2025-08-05T16:22:30.579179Z",
     "iopub.status.idle": "2025-08-05T16:22:30.588273Z",
     "shell.execute_reply": "2025-08-05T16:22:30.587203Z"
    },
    "papermill": {
     "duration": 0.034817,
     "end_time": "2025-08-05T16:22:30.590244",
     "exception": false,
     "start_time": "2025-08-05T16:22:30.555427",
     "status": "completed"
    },
    "tags": []
   },
   "outputs": [
    {
     "name": "stdout",
     "output_type": "stream",
     "text": [
      "Dropping 147 rows (14.70%) where mode='drop-non-german'\n"
     ]
    }
   ],
   "source": [
    "n_drop = (~keep_mask).sum() # Calculates how many rows are set to be dropped\n",
    "if n_drop > 0:\n",
    "    pct = n_drop / len(keep_mask) * 100\n",
    "    print(f\"Dropping {n_drop} rows ({pct:.2f}%) where mode='{mode}'\")"
   ]
  },
  {
   "cell_type": "code",
   "execution_count": 28,
   "id": "5fb8eee5",
   "metadata": {
    "execution": {
     "iopub.execute_input": "2025-08-05T16:22:30.635721Z",
     "iopub.status.busy": "2025-08-05T16:22:30.634698Z",
     "iopub.status.idle": "2025-08-05T16:22:30.642250Z",
     "shell.execute_reply": "2025-08-05T16:22:30.640968Z"
    },
    "papermill": {
     "duration": 0.03234,
     "end_time": "2025-08-05T16:22:30.644411",
     "exception": false,
     "start_time": "2025-08-05T16:22:30.612071",
     "status": "completed"
    },
    "tags": []
   },
   "outputs": [],
   "source": [
    "X_train = X_train[keep_mask]"
   ]
  },
  {
   "cell_type": "code",
   "execution_count": 29,
   "id": "b202bb3a",
   "metadata": {
    "execution": {
     "iopub.execute_input": "2025-08-05T16:22:30.692159Z",
     "iopub.status.busy": "2025-08-05T16:22:30.691308Z",
     "iopub.status.idle": "2025-08-05T16:22:30.698198Z",
     "shell.execute_reply": "2025-08-05T16:22:30.697021Z"
    },
    "papermill": {
     "duration": 0.031796,
     "end_time": "2025-08-05T16:22:30.700006",
     "exception": false,
     "start_time": "2025-08-05T16:22:30.668210",
     "status": "completed"
    },
    "tags": []
   },
   "outputs": [],
   "source": [
    "y_train = y_train[keep_mask]"
   ]
  },
  {
   "cell_type": "markdown",
   "id": "493e2ac3",
   "metadata": {
    "papermill": {
     "duration": 0.021186,
     "end_time": "2025-08-05T16:22:30.742671",
     "exception": false,
     "start_time": "2025-08-05T16:22:30.721485",
     "status": "completed"
    },
    "tags": []
   },
   "source": [
    "# Model Training"
   ]
  },
  {
   "cell_type": "code",
   "execution_count": 30,
   "id": "679e1268",
   "metadata": {
    "execution": {
     "iopub.execute_input": "2025-08-05T16:22:30.787066Z",
     "iopub.status.busy": "2025-08-05T16:22:30.786447Z",
     "iopub.status.idle": "2025-08-05T16:22:30.925806Z",
     "shell.execute_reply": "2025-08-05T16:22:30.924461Z"
    },
    "papermill": {
     "duration": 0.163509,
     "end_time": "2025-08-05T16:22:30.927750",
     "exception": false,
     "start_time": "2025-08-05T16:22:30.764241",
     "status": "completed"
    },
    "tags": []
   },
   "outputs": [],
   "source": [
    "from sklearn.linear_model import LogisticRegression\n",
    "from sklearn.ensemble import GradientBoostingClassifier, RandomForestClassifier\n",
    "\n",
    "if (universe[\"model\"] == \"logreg\"):\n",
    "    model = LogisticRegression() #penalty=\"none\", solver=\"newton-cg\", max_iter=1) # include random_state=19 ?\n",
    "elif (universe[\"model\"] == \"penalized_logreg\"):\n",
    "    model = LogisticRegression(penalty=\"l2\", C=0.1) #, solver=\"newton-cg\", max_iter=1)\n",
    "elif (universe[\"model\"] == \"rf\"):\n",
    "    model = RandomForestClassifier() # n_estimators=100, n_jobs=-1\n",
    "elif (universe[\"model\"] == \"gbm\"):\n",
    "    model = GradientBoostingClassifier()\n",
    "elif (universe[\"model\"] == \"elasticnet\"):\n",
    "    model = LogisticRegression(penalty = 'elasticnet', solver = 'saga', l1_ratio = 0.5) # max_iter=5000\n",
    "else:\n",
    "    raise \"Unsupported universe.model\""
   ]
  },
  {
   "cell_type": "code",
   "execution_count": 31,
   "id": "0cc8f744",
   "metadata": {
    "execution": {
     "iopub.execute_input": "2025-08-05T16:22:30.974398Z",
     "iopub.status.busy": "2025-08-05T16:22:30.973857Z",
     "iopub.status.idle": "2025-08-05T16:22:30.980676Z",
     "shell.execute_reply": "2025-08-05T16:22:30.979628Z"
    },
    "papermill": {
     "duration": 0.031661,
     "end_time": "2025-08-05T16:22:30.982472",
     "exception": false,
     "start_time": "2025-08-05T16:22:30.950811",
     "status": "completed"
    },
    "tags": []
   },
   "outputs": [],
   "source": [
    "import numpy as np\n",
    "from sklearn.pipeline import Pipeline\n",
    "from sklearn.preprocessing import StandardScaler\n",
    "\n",
    "model = Pipeline([\n",
    "    #(\"continuous_processor\", continuous_processor),\n",
    "    #(\"categorical_preprocessor\", categorical_preprocessor),\n",
    "    (\"scale\", StandardScaler() if universe[\"scale\"] == \"scale\" else None), \n",
    "    (\"model\", model),\n",
    "])"
   ]
  },
  {
   "cell_type": "code",
   "execution_count": 32,
   "id": "9442c04d",
   "metadata": {
    "execution": {
     "iopub.execute_input": "2025-08-05T16:22:31.027924Z",
     "iopub.status.busy": "2025-08-05T16:22:31.026969Z",
     "iopub.status.idle": "2025-08-05T16:22:31.480192Z",
     "shell.execute_reply": "2025-08-05T16:22:31.479065Z"
    },
    "papermill": {
     "duration": 0.477999,
     "end_time": "2025-08-05T16:22:31.482301",
     "exception": false,
     "start_time": "2025-08-05T16:22:31.004302",
     "status": "completed"
    },
    "tags": []
   },
   "outputs": [
    {
     "name": "stderr",
     "output_type": "stream",
     "text": [
      "/dss/dsshome1/0C/ra93lal2/.local/share/virtualenvs/CMA_Fairness_v2-3j10GkSs/lib/python3.10/site-packages/sklearn/linear_model/_sag.py:350: ConvergenceWarning: The max_iter was reached which means the coef_ did not converge\n",
      "  warnings.warn(\n"
     ]
    },
    {
     "data": {
      "text/html": [
       "<style>#sk-container-id-1 {color: black;background-color: white;}#sk-container-id-1 pre{padding: 0;}#sk-container-id-1 div.sk-toggleable {background-color: white;}#sk-container-id-1 label.sk-toggleable__label {cursor: pointer;display: block;width: 100%;margin-bottom: 0;padding: 0.3em;box-sizing: border-box;text-align: center;}#sk-container-id-1 label.sk-toggleable__label-arrow:before {content: \"▸\";float: left;margin-right: 0.25em;color: #696969;}#sk-container-id-1 label.sk-toggleable__label-arrow:hover:before {color: black;}#sk-container-id-1 div.sk-estimator:hover label.sk-toggleable__label-arrow:before {color: black;}#sk-container-id-1 div.sk-toggleable__content {max-height: 0;max-width: 0;overflow: hidden;text-align: left;background-color: #f0f8ff;}#sk-container-id-1 div.sk-toggleable__content pre {margin: 0.2em;color: black;border-radius: 0.25em;background-color: #f0f8ff;}#sk-container-id-1 input.sk-toggleable__control:checked~div.sk-toggleable__content {max-height: 200px;max-width: 100%;overflow: auto;}#sk-container-id-1 input.sk-toggleable__control:checked~label.sk-toggleable__label-arrow:before {content: \"▾\";}#sk-container-id-1 div.sk-estimator input.sk-toggleable__control:checked~label.sk-toggleable__label {background-color: #d4ebff;}#sk-container-id-1 div.sk-label input.sk-toggleable__control:checked~label.sk-toggleable__label {background-color: #d4ebff;}#sk-container-id-1 input.sk-hidden--visually {border: 0;clip: rect(1px 1px 1px 1px);clip: rect(1px, 1px, 1px, 1px);height: 1px;margin: -1px;overflow: hidden;padding: 0;position: absolute;width: 1px;}#sk-container-id-1 div.sk-estimator {font-family: monospace;background-color: #f0f8ff;border: 1px dotted black;border-radius: 0.25em;box-sizing: border-box;margin-bottom: 0.5em;}#sk-container-id-1 div.sk-estimator:hover {background-color: #d4ebff;}#sk-container-id-1 div.sk-parallel-item::after {content: \"\";width: 100%;border-bottom: 1px solid gray;flex-grow: 1;}#sk-container-id-1 div.sk-label:hover label.sk-toggleable__label {background-color: #d4ebff;}#sk-container-id-1 div.sk-serial::before {content: \"\";position: absolute;border-left: 1px solid gray;box-sizing: border-box;top: 0;bottom: 0;left: 50%;z-index: 0;}#sk-container-id-1 div.sk-serial {display: flex;flex-direction: column;align-items: center;background-color: white;padding-right: 0.2em;padding-left: 0.2em;position: relative;}#sk-container-id-1 div.sk-item {position: relative;z-index: 1;}#sk-container-id-1 div.sk-parallel {display: flex;align-items: stretch;justify-content: center;background-color: white;position: relative;}#sk-container-id-1 div.sk-item::before, #sk-container-id-1 div.sk-parallel-item::before {content: \"\";position: absolute;border-left: 1px solid gray;box-sizing: border-box;top: 0;bottom: 0;left: 50%;z-index: -1;}#sk-container-id-1 div.sk-parallel-item {display: flex;flex-direction: column;z-index: 1;position: relative;background-color: white;}#sk-container-id-1 div.sk-parallel-item:first-child::after {align-self: flex-end;width: 50%;}#sk-container-id-1 div.sk-parallel-item:last-child::after {align-self: flex-start;width: 50%;}#sk-container-id-1 div.sk-parallel-item:only-child::after {width: 0;}#sk-container-id-1 div.sk-dashed-wrapped {border: 1px dashed gray;margin: 0 0.4em 0.5em 0.4em;box-sizing: border-box;padding-bottom: 0.4em;background-color: white;}#sk-container-id-1 div.sk-label label {font-family: monospace;font-weight: bold;display: inline-block;line-height: 1.2em;}#sk-container-id-1 div.sk-label-container {text-align: center;}#sk-container-id-1 div.sk-container {/* jupyter's `normalize.less` sets `[hidden] { display: none; }` but bootstrap.min.css set `[hidden] { display: none !important; }` so we also need the `!important` here to be able to override the default hidden behavior on the sphinx rendered scikit-learn.org. See: https://github.com/scikit-learn/scikit-learn/issues/21755 */display: inline-block !important;position: relative;}#sk-container-id-1 div.sk-text-repr-fallback {display: none;}</style><div id=\"sk-container-id-1\" class=\"sk-top-container\"><div class=\"sk-text-repr-fallback\"><pre>Pipeline(steps=[(&#x27;scale&#x27;, StandardScaler()),\n",
       "                (&#x27;model&#x27;,\n",
       "                 LogisticRegression(l1_ratio=0.5, penalty=&#x27;elasticnet&#x27;,\n",
       "                                    solver=&#x27;saga&#x27;))])</pre><b>In a Jupyter environment, please rerun this cell to show the HTML representation or trust the notebook. <br />On GitHub, the HTML representation is unable to render, please try loading this page with nbviewer.org.</b></div><div class=\"sk-container\" hidden><div class=\"sk-item sk-dashed-wrapped\"><div class=\"sk-label-container\"><div class=\"sk-label sk-toggleable\"><input class=\"sk-toggleable__control sk-hidden--visually\" id=\"sk-estimator-id-1\" type=\"checkbox\" ><label for=\"sk-estimator-id-1\" class=\"sk-toggleable__label sk-toggleable__label-arrow\">Pipeline</label><div class=\"sk-toggleable__content\"><pre>Pipeline(steps=[(&#x27;scale&#x27;, StandardScaler()),\n",
       "                (&#x27;model&#x27;,\n",
       "                 LogisticRegression(l1_ratio=0.5, penalty=&#x27;elasticnet&#x27;,\n",
       "                                    solver=&#x27;saga&#x27;))])</pre></div></div></div><div class=\"sk-serial\"><div class=\"sk-item\"><div class=\"sk-estimator sk-toggleable\"><input class=\"sk-toggleable__control sk-hidden--visually\" id=\"sk-estimator-id-2\" type=\"checkbox\" ><label for=\"sk-estimator-id-2\" class=\"sk-toggleable__label sk-toggleable__label-arrow\">StandardScaler</label><div class=\"sk-toggleable__content\"><pre>StandardScaler()</pre></div></div></div><div class=\"sk-item\"><div class=\"sk-estimator sk-toggleable\"><input class=\"sk-toggleable__control sk-hidden--visually\" id=\"sk-estimator-id-3\" type=\"checkbox\" ><label for=\"sk-estimator-id-3\" class=\"sk-toggleable__label sk-toggleable__label-arrow\">LogisticRegression</label><div class=\"sk-toggleable__content\"><pre>LogisticRegression(l1_ratio=0.5, penalty=&#x27;elasticnet&#x27;, solver=&#x27;saga&#x27;)</pre></div></div></div></div></div></div></div>"
      ],
      "text/plain": [
       "Pipeline(steps=[('scale', StandardScaler()),\n",
       "                ('model',\n",
       "                 LogisticRegression(l1_ratio=0.5, penalty='elasticnet',\n",
       "                                    solver='saga'))])"
      ]
     },
     "execution_count": 32,
     "metadata": {},
     "output_type": "execute_result"
    }
   ],
   "source": [
    "model.fit(X_train, y_train.values.ravel())"
   ]
  },
  {
   "cell_type": "code",
   "execution_count": 33,
   "id": "af59f8c0",
   "metadata": {
    "execution": {
     "iopub.execute_input": "2025-08-05T16:22:31.533064Z",
     "iopub.status.busy": "2025-08-05T16:22:31.531859Z",
     "iopub.status.idle": "2025-08-05T16:22:31.537803Z",
     "shell.execute_reply": "2025-08-05T16:22:31.536691Z"
    },
    "papermill": {
     "duration": 0.030699,
     "end_time": "2025-08-05T16:22:31.539875",
     "exception": false,
     "start_time": "2025-08-05T16:22:31.509176",
     "status": "completed"
    },
    "tags": []
   },
   "outputs": [],
   "source": [
    "from fairness_multiverse.universe import predict_w_threshold"
   ]
  },
  {
   "cell_type": "code",
   "execution_count": 34,
   "id": "a7cf2e16",
   "metadata": {
    "execution": {
     "iopub.execute_input": "2025-08-05T16:22:31.597019Z",
     "iopub.status.busy": "2025-08-05T16:22:31.596305Z",
     "iopub.status.idle": "2025-08-05T16:22:31.811123Z",
     "shell.execute_reply": "2025-08-05T16:22:31.809954Z"
    },
    "papermill": {
     "duration": 0.246823,
     "end_time": "2025-08-05T16:22:31.813402",
     "exception": false,
     "start_time": "2025-08-05T16:22:31.566579",
     "status": "completed"
    },
    "tags": []
   },
   "outputs": [
    {
     "data": {
      "text/plain": [
       "0.833597146360495"
      ]
     },
     "execution_count": 34,
     "metadata": {},
     "output_type": "execute_result"
    }
   ],
   "source": [
    "probs_test = model.predict_proba(X_test)\n",
    "\n",
    "'''\n",
    "Below code returns a boolean array (or binary 0/1 array depending on how it’s used) where each element \n",
    "is True if the probability of class 1 is greater than or equal to the threshold, and False otherwise.\n",
    "'''\n",
    "y_pred_default = predict_w_threshold(probs_test, 0.5)\n",
    "\n",
    "from sklearn.metrics import accuracy_score\n",
    "\n",
    "# Naive prediction\n",
    "accuracy_score(y_true = y_true, y_pred = y_pred_default)"
   ]
  },
  {
   "cell_type": "code",
   "execution_count": 35,
   "id": "081964c3",
   "metadata": {
    "execution": {
     "iopub.execute_input": "2025-08-05T16:22:31.866928Z",
     "iopub.status.busy": "2025-08-05T16:22:31.866356Z",
     "iopub.status.idle": "2025-08-05T16:22:32.075065Z",
     "shell.execute_reply": "2025-08-05T16:22:32.073915Z"
    },
    "papermill": {
     "duration": 0.237853,
     "end_time": "2025-08-05T16:22:32.077387",
     "exception": false,
     "start_time": "2025-08-05T16:22:31.839534",
     "status": "completed"
    },
    "tags": []
   },
   "outputs": [
    {
     "data": {
      "text/plain": [
       "array([0, 0, 0, ..., 0, 0, 0])"
      ]
     },
     "execution_count": 35,
     "metadata": {},
     "output_type": "execute_result"
    }
   ],
   "source": [
    "model.predict(X_test)"
   ]
  },
  {
   "cell_type": "markdown",
   "id": "56c9705b",
   "metadata": {
    "papermill": {
     "duration": 0.01569,
     "end_time": "2025-08-05T16:22:32.118931",
     "exception": false,
     "start_time": "2025-08-05T16:22:32.103241",
     "status": "completed"
    },
    "tags": []
   },
   "source": [
    "# Conformal Prediction"
   ]
  },
  {
   "cell_type": "code",
   "execution_count": 36,
   "id": "160ec6ff",
   "metadata": {
    "execution": {
     "iopub.execute_input": "2025-08-05T16:22:32.168144Z",
     "iopub.status.busy": "2025-08-05T16:22:32.167224Z",
     "iopub.status.idle": "2025-08-05T16:22:32.172895Z",
     "shell.execute_reply": "2025-08-05T16:22:32.171710Z"
    },
    "papermill": {
     "duration": 0.032854,
     "end_time": "2025-08-05T16:22:32.174937",
     "exception": false,
     "start_time": "2025-08-05T16:22:32.142083",
     "status": "completed"
    },
    "tags": []
   },
   "outputs": [],
   "source": [
    "# Miscoverage level for conformal prediction (10% allowed error rate => 90% target coverage)\n",
    "alpha = 0.1"
   ]
  },
  {
   "cell_type": "code",
   "execution_count": 37,
   "id": "eadf4555-3dd3-440e-8e35-f82a4ad9f855",
   "metadata": {
    "execution": {
     "iopub.execute_input": "2025-08-05T16:22:32.208770Z",
     "iopub.status.busy": "2025-08-05T16:22:32.208253Z",
     "iopub.status.idle": "2025-08-05T16:22:32.403345Z",
     "shell.execute_reply": "2025-08-05T16:22:32.402022Z"
    },
    "papermill": {
     "duration": 0.210964,
     "end_time": "2025-08-05T16:22:32.405457",
     "exception": false,
     "start_time": "2025-08-05T16:22:32.194493",
     "status": "completed"
    },
    "tags": []
   },
   "outputs": [],
   "source": [
    "probs_calib = model.predict_proba(X_calib)"
   ]
  },
  {
   "cell_type": "code",
   "execution_count": 38,
   "id": "2ed93547-6d5d-4983-9b36-1ecb300da49a",
   "metadata": {
    "execution": {
     "iopub.execute_input": "2025-08-05T16:22:32.468529Z",
     "iopub.status.busy": "2025-08-05T16:22:32.467928Z",
     "iopub.status.idle": "2025-08-05T16:22:32.475113Z",
     "shell.execute_reply": "2025-08-05T16:22:32.473904Z"
    },
    "papermill": {
     "duration": 0.036837,
     "end_time": "2025-08-05T16:22:32.477120",
     "exception": false,
     "start_time": "2025-08-05T16:22:32.440283",
     "status": "completed"
    },
    "tags": []
   },
   "outputs": [],
   "source": [
    "y_calib = y_calib.values.ravel().astype(int)"
   ]
  },
  {
   "cell_type": "code",
   "execution_count": 39,
   "id": "65d1320d-f588-4b38-9072-62af1ae97f7d",
   "metadata": {
    "execution": {
     "iopub.execute_input": "2025-08-05T16:22:32.528003Z",
     "iopub.status.busy": "2025-08-05T16:22:32.527568Z",
     "iopub.status.idle": "2025-08-05T16:22:32.535239Z",
     "shell.execute_reply": "2025-08-05T16:22:32.534320Z"
    },
    "papermill": {
     "duration": 0.032889,
     "end_time": "2025-08-05T16:22:32.536791",
     "exception": false,
     "start_time": "2025-08-05T16:22:32.503902",
     "status": "completed"
    },
    "tags": []
   },
   "outputs": [],
   "source": [
    "from fairness_multiverse.conformal import compute_nc_scores\n",
    "\n",
    "# Compute nonconformity scores on calibration set (1 - probability of true class)\n",
    "nc_scores = compute_nc_scores(probs_calib, y_calib)"
   ]
  },
  {
   "cell_type": "code",
   "execution_count": 40,
   "id": "df3b8ca3-53b7-43d5-9667-7c85da7aeda2",
   "metadata": {
    "execution": {
     "iopub.execute_input": "2025-08-05T16:22:32.586675Z",
     "iopub.status.busy": "2025-08-05T16:22:32.586095Z",
     "iopub.status.idle": "2025-08-05T16:22:32.593897Z",
     "shell.execute_reply": "2025-08-05T16:22:32.592395Z"
    },
    "papermill": {
     "duration": 0.036853,
     "end_time": "2025-08-05T16:22:32.595853",
     "exception": false,
     "start_time": "2025-08-05T16:22:32.559000",
     "status": "completed"
    },
    "tags": []
   },
   "outputs": [],
   "source": [
    "from fairness_multiverse.conformal import find_threshold\n",
    "\n",
    "# Find conformal threshold q_hat for the given alpha (split conformal method)\n",
    "q_hat = find_threshold(nc_scores, alpha)"
   ]
  },
  {
   "cell_type": "code",
   "execution_count": 41,
   "id": "4d29e6c1-0ef6-4aa4-b8fe-4fe79b0d033a",
   "metadata": {
    "execution": {
     "iopub.execute_input": "2025-08-05T16:22:32.627887Z",
     "iopub.status.busy": "2025-08-05T16:22:32.627450Z",
     "iopub.status.idle": "2025-08-05T16:22:32.635068Z",
     "shell.execute_reply": "2025-08-05T16:22:32.634177Z"
    },
    "papermill": {
     "duration": 0.022765,
     "end_time": "2025-08-05T16:22:32.636458",
     "exception": false,
     "start_time": "2025-08-05T16:22:32.613693",
     "status": "completed"
    },
    "tags": []
   },
   "outputs": [
    {
     "data": {
      "text/plain": [
       "0.7733047731676986"
      ]
     },
     "execution_count": 41,
     "metadata": {},
     "output_type": "execute_result"
    }
   ],
   "source": [
    "q_hat"
   ]
  },
  {
   "cell_type": "code",
   "execution_count": 42,
   "id": "92460794-cdac-4be2-ba28-f28c0515a6fb",
   "metadata": {
    "execution": {
     "iopub.execute_input": "2025-08-05T16:22:32.664222Z",
     "iopub.status.busy": "2025-08-05T16:22:32.663448Z",
     "iopub.status.idle": "2025-08-05T16:22:33.715889Z",
     "shell.execute_reply": "2025-08-05T16:22:33.714719Z"
    },
    "papermill": {
     "duration": 1.068488,
     "end_time": "2025-08-05T16:22:33.718140",
     "exception": false,
     "start_time": "2025-08-05T16:22:32.649652",
     "status": "completed"
    },
    "tags": []
   },
   "outputs": [],
   "source": [
    "from fairness_multiverse.conformal import predict_conformal_sets\n",
    "\n",
    "# Generate prediction sets for each test example\n",
    "pred_sets = predict_conformal_sets(model, X_test, q_hat)"
   ]
  },
  {
   "cell_type": "code",
   "execution_count": 43,
   "id": "d90c9a65-e6db-4f5d-80cd-e68fb7e46829",
   "metadata": {
    "execution": {
     "iopub.execute_input": "2025-08-05T16:22:33.774728Z",
     "iopub.status.busy": "2025-08-05T16:22:33.773872Z",
     "iopub.status.idle": "2025-08-05T16:22:33.780682Z",
     "shell.execute_reply": "2025-08-05T16:22:33.779504Z"
    },
    "papermill": {
     "duration": 0.035189,
     "end_time": "2025-08-05T16:22:33.783147",
     "exception": false,
     "start_time": "2025-08-05T16:22:33.747958",
     "status": "completed"
    },
    "tags": []
   },
   "outputs": [],
   "source": [
    "y_true = y_true.squeeze()"
   ]
  },
  {
   "cell_type": "code",
   "execution_count": 44,
   "id": "3a58a54a-1e68-46b9-927a-df01f18aebc8",
   "metadata": {
    "execution": {
     "iopub.execute_input": "2025-08-05T16:22:33.838351Z",
     "iopub.status.busy": "2025-08-05T16:22:33.837265Z",
     "iopub.status.idle": "2025-08-05T16:22:35.093348Z",
     "shell.execute_reply": "2025-08-05T16:22:35.092218Z"
    },
    "papermill": {
     "duration": 1.285759,
     "end_time": "2025-08-05T16:22:35.095784",
     "exception": false,
     "start_time": "2025-08-05T16:22:33.810025",
     "status": "completed"
    },
    "tags": []
   },
   "outputs": [],
   "source": [
    "from fairness_multiverse.conformal import evaluate_sets\n",
    "\n",
    "# Evaluate coverage and average set size on test data\n",
    "metrics = evaluate_sets(pred_sets, y_true)"
   ]
  },
  {
   "cell_type": "markdown",
   "id": "2b569c12-9aaa-4c88-98c9-bbcd0cf3ebb8",
   "metadata": {
    "papermill": {
     "duration": 0.029733,
     "end_time": "2025-08-05T16:22:35.168680",
     "exception": false,
     "start_time": "2025-08-05T16:22:35.138947",
     "status": "completed"
    },
    "tags": []
   },
   "source": [
    "# CP Metrics"
   ]
  },
  {
   "cell_type": "code",
   "execution_count": 45,
   "id": "5ce0a5cb-201f-45a0-ade5-94c7f0bd6095",
   "metadata": {
    "execution": {
     "iopub.execute_input": "2025-08-05T16:22:35.228872Z",
     "iopub.status.busy": "2025-08-05T16:22:35.228302Z",
     "iopub.status.idle": "2025-08-05T16:22:35.238103Z",
     "shell.execute_reply": "2025-08-05T16:22:35.236854Z"
    },
    "papermill": {
     "duration": 0.042365,
     "end_time": "2025-08-05T16:22:35.239957",
     "exception": false,
     "start_time": "2025-08-05T16:22:35.197592",
     "status": "completed"
    },
    "tags": []
   },
   "outputs": [
    {
     "data": {
      "text/plain": [
       "{'coverage': 0.9109352357596701, 'avg_size': 1.2270315460929662}"
      ]
     },
     "execution_count": 45,
     "metadata": {},
     "output_type": "execute_result"
    }
   ],
   "source": [
    "metrics"
   ]
  },
  {
   "cell_type": "code",
   "execution_count": 46,
   "id": "9b9a838d-31c9-430b-ae14-12baee460d17",
   "metadata": {
    "execution": {
     "iopub.execute_input": "2025-08-05T16:22:35.296188Z",
     "iopub.status.busy": "2025-08-05T16:22:35.295376Z",
     "iopub.status.idle": "2025-08-05T16:22:35.303150Z",
     "shell.execute_reply": "2025-08-05T16:22:35.302134Z"
    },
    "papermill": {
     "duration": 0.037383,
     "end_time": "2025-08-05T16:22:35.304935",
     "exception": false,
     "start_time": "2025-08-05T16:22:35.267552",
     "status": "completed"
    },
    "tags": []
   },
   "outputs": [],
   "source": [
    "example_universe = universe.copy()\n",
    "universe_training_year = example_universe.get(\"training_year\")\n",
    "universe_training_size = example_universe.get(\"training_size\")\n",
    "universe_scale = example_universe.get(\"scale\")\n",
    "universe_model = example_universe.get(\"model\")\n",
    "universe_exclude_features = example_universe.get(\"exclude_features\")\n",
    "universe_exclude_subgroups = example_universe.get(\"exclude_subgroups\")"
   ]
  },
  {
   "cell_type": "code",
   "execution_count": 47,
   "id": "f4b6a8ac-9dc0-4245-8a91-5b3b5999c4f9",
   "metadata": {
    "execution": {
     "iopub.execute_input": "2025-08-05T16:22:35.364335Z",
     "iopub.status.busy": "2025-08-05T16:22:35.363460Z",
     "iopub.status.idle": "2025-08-05T16:22:35.372728Z",
     "shell.execute_reply": "2025-08-05T16:22:35.371395Z"
    },
    "papermill": {
     "duration": 0.039563,
     "end_time": "2025-08-05T16:22:35.374941",
     "exception": false,
     "start_time": "2025-08-05T16:22:35.335378",
     "status": "completed"
    },
    "tags": []
   },
   "outputs": [],
   "source": [
    "cp_metrics_dict = {\n",
    "    \"universe_id\": [universe_id],\n",
    "    \"universe_training_year\": [universe_training_year],\n",
    "    \"universe_training_size\": [universe_training_size],\n",
    "    \"universe_scale\": [universe_scale],\n",
    "    \"universe_model\": [universe_model],\n",
    "    \"universe_exclude_features\": [universe_exclude_features],\n",
    "    \"universe_exclude_subgroups\": [universe_exclude_subgroups],\n",
    "    \"q_hat\": [q_hat],\n",
    "    \"coverage\": [metrics[\"coverage\"]],\n",
    "    \"avg_size\": [metrics[\"avg_size\"]],\n",
    "}"
   ]
  },
  {
   "cell_type": "code",
   "execution_count": 48,
   "id": "908acbb1-0371-4915-85ca-3fa520d2efe2",
   "metadata": {
    "execution": {
     "iopub.execute_input": "2025-08-05T16:22:35.433281Z",
     "iopub.status.busy": "2025-08-05T16:22:35.432428Z",
     "iopub.status.idle": "2025-08-05T16:22:35.442823Z",
     "shell.execute_reply": "2025-08-05T16:22:35.441707Z"
    },
    "papermill": {
     "duration": 0.040947,
     "end_time": "2025-08-05T16:22:35.444562",
     "exception": false,
     "start_time": "2025-08-05T16:22:35.403615",
     "status": "completed"
    },
    "tags": []
   },
   "outputs": [
    {
     "data": {
      "text/plain": [
       "{'universe_id': ['a31636c44c50ff74364fe70fa0299daf'],\n",
       " 'universe_training_year': ['2012_14'],\n",
       " 'universe_training_size': ['1k'],\n",
       " 'universe_scale': ['scale'],\n",
       " 'universe_model': ['elasticnet'],\n",
       " 'universe_exclude_features': ['sex'],\n",
       " 'universe_exclude_subgroups': ['drop-non-german'],\n",
       " 'q_hat': [0.7733047731676986],\n",
       " 'coverage': [0.9109352357596701],\n",
       " 'avg_size': [1.2270315460929662]}"
      ]
     },
     "execution_count": 48,
     "metadata": {},
     "output_type": "execute_result"
    }
   ],
   "source": [
    "cp_metrics_dict"
   ]
  },
  {
   "cell_type": "code",
   "execution_count": 49,
   "id": "33007efc-14e9-4ec6-97ac-56a455c82265",
   "metadata": {
    "execution": {
     "iopub.execute_input": "2025-08-05T16:22:35.480276Z",
     "iopub.status.busy": "2025-08-05T16:22:35.479797Z",
     "iopub.status.idle": "2025-08-05T16:22:35.485361Z",
     "shell.execute_reply": "2025-08-05T16:22:35.484429Z"
    },
    "papermill": {
     "duration": 0.021479,
     "end_time": "2025-08-05T16:22:35.486898",
     "exception": false,
     "start_time": "2025-08-05T16:22:35.465419",
     "status": "completed"
    },
    "tags": []
   },
   "outputs": [],
   "source": [
    "cp_metrics_df = pd.DataFrame(cp_metrics_dict)"
   ]
  },
  {
   "cell_type": "code",
   "execution_count": 50,
   "id": "db12611b-57b2-4910-b9d0-355adfd6e7bf",
   "metadata": {
    "execution": {
     "iopub.execute_input": "2025-08-05T16:22:35.515488Z",
     "iopub.status.busy": "2025-08-05T16:22:35.515014Z",
     "iopub.status.idle": "2025-08-05T16:22:35.533265Z",
     "shell.execute_reply": "2025-08-05T16:22:35.532385Z"
    },
    "papermill": {
     "duration": 0.034172,
     "end_time": "2025-08-05T16:22:35.534876",
     "exception": false,
     "start_time": "2025-08-05T16:22:35.500704",
     "status": "completed"
    },
    "tags": []
   },
   "outputs": [
    {
     "data": {
      "text/html": [
       "<div>\n",
       "<style scoped>\n",
       "    .dataframe tbody tr th:only-of-type {\n",
       "        vertical-align: middle;\n",
       "    }\n",
       "\n",
       "    .dataframe tbody tr th {\n",
       "        vertical-align: top;\n",
       "    }\n",
       "\n",
       "    .dataframe thead th {\n",
       "        text-align: right;\n",
       "    }\n",
       "</style>\n",
       "<table border=\"1\" class=\"dataframe\">\n",
       "  <thead>\n",
       "    <tr style=\"text-align: right;\">\n",
       "      <th></th>\n",
       "      <th>universe_id</th>\n",
       "      <th>universe_training_year</th>\n",
       "      <th>universe_training_size</th>\n",
       "      <th>universe_scale</th>\n",
       "      <th>universe_model</th>\n",
       "      <th>universe_exclude_features</th>\n",
       "      <th>universe_exclude_subgroups</th>\n",
       "      <th>q_hat</th>\n",
       "      <th>coverage</th>\n",
       "      <th>avg_size</th>\n",
       "    </tr>\n",
       "  </thead>\n",
       "  <tbody>\n",
       "    <tr>\n",
       "      <th>0</th>\n",
       "      <td>a31636c44c50ff74364fe70fa0299daf</td>\n",
       "      <td>2012_14</td>\n",
       "      <td>1k</td>\n",
       "      <td>scale</td>\n",
       "      <td>elasticnet</td>\n",
       "      <td>sex</td>\n",
       "      <td>drop-non-german</td>\n",
       "      <td>0.773305</td>\n",
       "      <td>0.910935</td>\n",
       "      <td>1.227032</td>\n",
       "    </tr>\n",
       "  </tbody>\n",
       "</table>\n",
       "</div>"
      ],
      "text/plain": [
       "                        universe_id universe_training_year  \\\n",
       "0  a31636c44c50ff74364fe70fa0299daf                2012_14   \n",
       "\n",
       "  universe_training_size universe_scale universe_model  \\\n",
       "0                     1k          scale     elasticnet   \n",
       "\n",
       "  universe_exclude_features universe_exclude_subgroups     q_hat  coverage  \\\n",
       "0                       sex            drop-non-german  0.773305  0.910935   \n",
       "\n",
       "   avg_size  \n",
       "0  1.227032  "
      ]
     },
     "execution_count": 50,
     "metadata": {},
     "output_type": "execute_result"
    }
   ],
   "source": [
    "cp_metrics_df"
   ]
  },
  {
   "cell_type": "code",
   "execution_count": 51,
   "id": "b7fbde55-a0a1-47e4-9af6-fe4a17fa8c61",
   "metadata": {
    "execution": {
     "iopub.execute_input": "2025-08-05T16:22:35.564427Z",
     "iopub.status.busy": "2025-08-05T16:22:35.563541Z",
     "iopub.status.idle": "2025-08-05T16:22:35.568689Z",
     "shell.execute_reply": "2025-08-05T16:22:35.567713Z"
    },
    "papermill": {
     "duration": 0.021452,
     "end_time": "2025-08-05T16:22:35.570348",
     "exception": false,
     "start_time": "2025-08-05T16:22:35.548896",
     "status": "completed"
    },
    "tags": []
   },
   "outputs": [],
   "source": [
    "# Conditional Coverage & looking at subgroups"
   ]
  },
  {
   "cell_type": "code",
   "execution_count": 52,
   "id": "027ae886-68dd-4141-96c7-805a5450e1ef",
   "metadata": {
    "execution": {
     "iopub.execute_input": "2025-08-05T16:22:35.601816Z",
     "iopub.status.busy": "2025-08-05T16:22:35.601377Z",
     "iopub.status.idle": "2025-08-05T16:22:35.905504Z",
     "shell.execute_reply": "2025-08-05T16:22:35.904383Z"
    },
    "papermill": {
     "duration": 0.322976,
     "end_time": "2025-08-05T16:22:35.907352",
     "exception": false,
     "start_time": "2025-08-05T16:22:35.584376",
     "status": "completed"
    },
    "tags": []
   },
   "outputs": [],
   "source": [
    "from fairness_multiverse.conformal import build_cp_groups\n",
    "\n",
    "cp_groups_df = build_cp_groups(pred_sets, y_true, X_test.index, org_test)\n",
    "#needs universe_id and setting"
   ]
  },
  {
   "cell_type": "code",
   "execution_count": 53,
   "id": "6cbdab96-b2b2-45af-ad54-d0516db2e28d",
   "metadata": {
    "execution": {
     "iopub.execute_input": "2025-08-05T16:22:35.959019Z",
     "iopub.status.busy": "2025-08-05T16:22:35.958295Z",
     "iopub.status.idle": "2025-08-05T16:22:38.289239Z",
     "shell.execute_reply": "2025-08-05T16:22:38.288104Z"
    },
    "papermill": {
     "duration": 2.359589,
     "end_time": "2025-08-05T16:22:38.291449",
     "exception": false,
     "start_time": "2025-08-05T16:22:35.931860",
     "status": "completed"
    },
    "tags": []
   },
   "outputs": [],
   "source": [
    "# Define covered = 1 if true_label is in the predicted set\n",
    "cp_groups_df['covered'] = cp_groups_df.apply(\n",
    "    lambda r: int(r['true_label'] in r['pred_set']),\n",
    "    axis=1\n",
    ")"
   ]
  },
  {
   "cell_type": "code",
   "execution_count": 54,
   "id": "338ff529-1a6b-4b87-a931-8e4788d52aad",
   "metadata": {
    "execution": {
     "iopub.execute_input": "2025-08-05T16:22:38.347722Z",
     "iopub.status.busy": "2025-08-05T16:22:38.346772Z",
     "iopub.status.idle": "2025-08-05T16:22:38.352578Z",
     "shell.execute_reply": "2025-08-05T16:22:38.351541Z"
    },
    "papermill": {
     "duration": 0.036995,
     "end_time": "2025-08-05T16:22:38.354562",
     "exception": false,
     "start_time": "2025-08-05T16:22:38.317567",
     "status": "completed"
    },
    "tags": []
   },
   "outputs": [],
   "source": [
    "#cp_groups_df"
   ]
  },
  {
   "cell_type": "code",
   "execution_count": 55,
   "id": "90032e27-66df-4540-9169-4e89cfbaa758",
   "metadata": {
    "execution": {
     "iopub.execute_input": "2025-08-05T16:22:38.407163Z",
     "iopub.status.busy": "2025-08-05T16:22:38.406204Z",
     "iopub.status.idle": "2025-08-05T16:22:38.420028Z",
     "shell.execute_reply": "2025-08-05T16:22:38.419006Z"
    },
    "papermill": {
     "duration": 0.042235,
     "end_time": "2025-08-05T16:22:38.421960",
     "exception": false,
     "start_time": "2025-08-05T16:22:38.379725",
     "status": "completed"
    },
    "tags": []
   },
   "outputs": [],
   "source": [
    "subgroups = ['frau1','nongerman','nongerman_male','nongerman_female']\n",
    "\n",
    "# Conditional coverage for subgroup==1\n",
    "cond_coverage = {\n",
    "    g: cp_groups_df.loc[cp_groups_df[g]==1, 'covered'].mean()\n",
    "    for g in subgroups\n",
    "}"
   ]
  },
  {
   "cell_type": "code",
   "execution_count": 56,
   "id": "1e348fb1-b9c3-45bc-ba23-f016827a7e0d",
   "metadata": {
    "execution": {
     "iopub.execute_input": "2025-08-05T16:22:38.476354Z",
     "iopub.status.busy": "2025-08-05T16:22:38.475370Z",
     "iopub.status.idle": "2025-08-05T16:22:38.485692Z",
     "shell.execute_reply": "2025-08-05T16:22:38.484477Z"
    },
    "papermill": {
     "duration": 0.040145,
     "end_time": "2025-08-05T16:22:38.487522",
     "exception": false,
     "start_time": "2025-08-05T16:22:38.447377",
     "status": "completed"
    },
    "tags": []
   },
   "outputs": [
    {
     "data": {
      "text/plain": [
       "{'frau1': 0.9070225097722064,\n",
       " 'nongerman': 0.9196092741256385,\n",
       " 'nongerman_male': 0.9310997027830317,\n",
       " 'nongerman_female': 0.9005961251862892}"
      ]
     },
     "execution_count": 56,
     "metadata": {},
     "output_type": "execute_result"
    }
   ],
   "source": [
    "cond_coverage"
   ]
  },
  {
   "cell_type": "code",
   "execution_count": 57,
   "id": "f5093324-c3dd-4d63-bc4c-8d945e5c8bbb",
   "metadata": {
    "execution": {
     "iopub.execute_input": "2025-08-05T16:22:38.541374Z",
     "iopub.status.busy": "2025-08-05T16:22:38.540566Z",
     "iopub.status.idle": "2025-08-05T16:22:38.549740Z",
     "shell.execute_reply": "2025-08-05T16:22:38.548656Z"
    },
    "papermill": {
     "duration": 0.037831,
     "end_time": "2025-08-05T16:22:38.551513",
     "exception": false,
     "start_time": "2025-08-05T16:22:38.513682",
     "status": "completed"
    },
    "tags": []
   },
   "outputs": [],
   "source": [
    "for subgroup, cov in cond_coverage.items():\n",
    "    cp_metrics_df[f\"cov_{subgroup}\"] = cov"
   ]
  },
  {
   "cell_type": "code",
   "execution_count": 58,
   "id": "6e872e10-dbe5-49e8-b554-5030c98ff75d",
   "metadata": {
    "execution": {
     "iopub.execute_input": "2025-08-05T16:22:38.606173Z",
     "iopub.status.busy": "2025-08-05T16:22:38.605186Z",
     "iopub.status.idle": "2025-08-05T16:22:38.628399Z",
     "shell.execute_reply": "2025-08-05T16:22:38.627217Z"
    },
    "papermill": {
     "duration": 0.051372,
     "end_time": "2025-08-05T16:22:38.630251",
     "exception": false,
     "start_time": "2025-08-05T16:22:38.578879",
     "status": "completed"
    },
    "tags": []
   },
   "outputs": [
    {
     "data": {
      "text/html": [
       "<div>\n",
       "<style scoped>\n",
       "    .dataframe tbody tr th:only-of-type {\n",
       "        vertical-align: middle;\n",
       "    }\n",
       "\n",
       "    .dataframe tbody tr th {\n",
       "        vertical-align: top;\n",
       "    }\n",
       "\n",
       "    .dataframe thead th {\n",
       "        text-align: right;\n",
       "    }\n",
       "</style>\n",
       "<table border=\"1\" class=\"dataframe\">\n",
       "  <thead>\n",
       "    <tr style=\"text-align: right;\">\n",
       "      <th></th>\n",
       "      <th>universe_id</th>\n",
       "      <th>universe_training_year</th>\n",
       "      <th>universe_training_size</th>\n",
       "      <th>universe_scale</th>\n",
       "      <th>universe_model</th>\n",
       "      <th>universe_exclude_features</th>\n",
       "      <th>universe_exclude_subgroups</th>\n",
       "      <th>q_hat</th>\n",
       "      <th>coverage</th>\n",
       "      <th>avg_size</th>\n",
       "      <th>cov_frau1</th>\n",
       "      <th>cov_nongerman</th>\n",
       "      <th>cov_nongerman_male</th>\n",
       "      <th>cov_nongerman_female</th>\n",
       "    </tr>\n",
       "  </thead>\n",
       "  <tbody>\n",
       "    <tr>\n",
       "      <th>0</th>\n",
       "      <td>a31636c44c50ff74364fe70fa0299daf</td>\n",
       "      <td>2012_14</td>\n",
       "      <td>1k</td>\n",
       "      <td>scale</td>\n",
       "      <td>elasticnet</td>\n",
       "      <td>sex</td>\n",
       "      <td>drop-non-german</td>\n",
       "      <td>0.773305</td>\n",
       "      <td>0.910935</td>\n",
       "      <td>1.227032</td>\n",
       "      <td>0.907023</td>\n",
       "      <td>0.919609</td>\n",
       "      <td>0.9311</td>\n",
       "      <td>0.900596</td>\n",
       "    </tr>\n",
       "  </tbody>\n",
       "</table>\n",
       "</div>"
      ],
      "text/plain": [
       "                        universe_id universe_training_year  \\\n",
       "0  a31636c44c50ff74364fe70fa0299daf                2012_14   \n",
       "\n",
       "  universe_training_size universe_scale universe_model  \\\n",
       "0                     1k          scale     elasticnet   \n",
       "\n",
       "  universe_exclude_features universe_exclude_subgroups     q_hat  coverage  \\\n",
       "0                       sex            drop-non-german  0.773305  0.910935   \n",
       "\n",
       "   avg_size  cov_frau1  cov_nongerman  cov_nongerman_male  \\\n",
       "0  1.227032   0.907023       0.919609              0.9311   \n",
       "\n",
       "   cov_nongerman_female  \n",
       "0              0.900596  "
      ]
     },
     "execution_count": 58,
     "metadata": {},
     "output_type": "execute_result"
    }
   ],
   "source": [
    "cp_metrics_df"
   ]
  },
  {
   "cell_type": "markdown",
   "id": "33774451",
   "metadata": {
    "papermill": {
     "duration": 0.025284,
     "end_time": "2025-08-05T16:22:38.682087",
     "exception": false,
     "start_time": "2025-08-05T16:22:38.656803",
     "status": "completed"
    },
    "tags": []
   },
   "source": [
    "# (Fairness) Metrics"
   ]
  },
  {
   "cell_type": "code",
   "execution_count": 59,
   "id": "debc5d62",
   "metadata": {
    "execution": {
     "iopub.execute_input": "2025-08-05T16:22:38.735799Z",
     "iopub.status.busy": "2025-08-05T16:22:38.734954Z",
     "iopub.status.idle": "2025-08-05T16:22:38.759651Z",
     "shell.execute_reply": "2025-08-05T16:22:38.758611Z"
    },
    "papermill": {
     "duration": 0.053588,
     "end_time": "2025-08-05T16:22:38.761585",
     "exception": false,
     "start_time": "2025-08-05T16:22:38.707997",
     "status": "completed"
    },
    "tags": []
   },
   "outputs": [],
   "source": [
    "# do I need to include maxdeutsch1.missing?\n",
    "\n",
    "import numpy as np\n",
    "\n",
    "colname_to_bin = \"maxdeutsch1\"\n",
    "majority_value = org_train[colname_to_bin].mode()[0]\n",
    "\n",
    "org_test[\"majmin\"] = np.where(org_test[colname_to_bin] == majority_value, \"majority\", \"minority\")"
   ]
  },
  {
   "cell_type": "code",
   "execution_count": 60,
   "id": "06a50de5",
   "metadata": {
    "execution": {
     "iopub.execute_input": "2025-08-05T16:22:38.815286Z",
     "iopub.status.busy": "2025-08-05T16:22:38.814303Z",
     "iopub.status.idle": "2025-08-05T16:22:42.190202Z",
     "shell.execute_reply": "2025-08-05T16:22:42.189113Z"
    },
    "papermill": {
     "duration": 3.404798,
     "end_time": "2025-08-05T16:22:42.192188",
     "exception": false,
     "start_time": "2025-08-05T16:22:38.787390",
     "status": "completed"
    },
    "tags": []
   },
   "outputs": [],
   "source": [
    "example_universe = universe.copy()\n",
    "example_universe[\"cutoff\"] = example_universe[\"cutoff\"][0]\n",
    "example_universe[\"eval_fairness_grouping\"] = example_universe[\"eval_fairness_grouping\"][0]\n",
    "fairness_dict, metric_frame = universe_analysis.compute_metrics(\n",
    "    example_universe,\n",
    "    y_pred_prob=probs_test,\n",
    "    y_test=y_true,\n",
    "    org_test=org_test,\n",
    ")"
   ]
  },
  {
   "cell_type": "markdown",
   "id": "f95d4e02",
   "metadata": {
    "papermill": {
     "duration": 0.027477,
     "end_time": "2025-08-05T16:22:42.247080",
     "exception": false,
     "start_time": "2025-08-05T16:22:42.219603",
     "status": "completed"
    },
    "tags": []
   },
   "source": [
    "# Overall"
   ]
  },
  {
   "cell_type": "markdown",
   "id": "bdee4871",
   "metadata": {
    "papermill": {
     "duration": 0.024416,
     "end_time": "2025-08-05T16:22:42.296443",
     "exception": false,
     "start_time": "2025-08-05T16:22:42.272027",
     "status": "completed"
    },
    "tags": []
   },
   "source": [
    "Fairness\n",
    "Main fairness target: Equalized Odds. Seems to be a better fit than equal opportunity, since we're not only interested in Y = 1. Seems to be a better fit than demographic parity, since we also care about accuracy, not just equal distribution of preds.\n",
    "\n",
    "Pick column for computation of fairness metrics\n",
    "\n",
    "Performance\n",
    "Overall performance measures, most interesting in relation to the measures split by group below"
   ]
  },
  {
   "cell_type": "code",
   "execution_count": 61,
   "id": "c4e067c6",
   "metadata": {
    "execution": {
     "iopub.execute_input": "2025-08-05T16:22:42.348775Z",
     "iopub.status.busy": "2025-08-05T16:22:42.348180Z",
     "iopub.status.idle": "2025-08-05T16:22:42.359736Z",
     "shell.execute_reply": "2025-08-05T16:22:42.358501Z"
    },
    "papermill": {
     "duration": 0.04072,
     "end_time": "2025-08-05T16:22:42.361554",
     "exception": false,
     "start_time": "2025-08-05T16:22:42.320834",
     "status": "completed"
    },
    "tags": []
   },
   "outputs": [
    {
     "data": {
      "text/plain": [
       "accuracy                   0.218359\n",
       "balanced accuracy          0.535178\n",
       "f1                         0.239856\n",
       "precision                  0.137022\n",
       "false positive rate        0.890975\n",
       "false negative rate        0.038669\n",
       "selection rate             0.900000\n",
       "count                  89710.000000\n",
       "dtype: float64"
      ]
     },
     "execution_count": 61,
     "metadata": {},
     "output_type": "execute_result"
    }
   ],
   "source": [
    "metric_frame.overall"
   ]
  },
  {
   "cell_type": "markdown",
   "id": "e968fe9d",
   "metadata": {
    "papermill": {
     "duration": 0.026854,
     "end_time": "2025-08-05T16:22:42.413600",
     "exception": false,
     "start_time": "2025-08-05T16:22:42.386746",
     "status": "completed"
    },
    "tags": []
   },
   "source": [
    "By Group"
   ]
  },
  {
   "cell_type": "code",
   "execution_count": 62,
   "id": "ec325bce",
   "metadata": {
    "execution": {
     "iopub.execute_input": "2025-08-05T16:22:42.478429Z",
     "iopub.status.busy": "2025-08-05T16:22:42.477409Z",
     "iopub.status.idle": "2025-08-05T16:22:42.498508Z",
     "shell.execute_reply": "2025-08-05T16:22:42.497301Z"
    },
    "papermill": {
     "duration": 0.055021,
     "end_time": "2025-08-05T16:22:42.500468",
     "exception": false,
     "start_time": "2025-08-05T16:22:42.445447",
     "status": "completed"
    },
    "tags": []
   },
   "outputs": [
    {
     "data": {
      "text/html": [
       "<div>\n",
       "<style scoped>\n",
       "    .dataframe tbody tr th:only-of-type {\n",
       "        vertical-align: middle;\n",
       "    }\n",
       "\n",
       "    .dataframe tbody tr th {\n",
       "        vertical-align: top;\n",
       "    }\n",
       "\n",
       "    .dataframe thead th {\n",
       "        text-align: right;\n",
       "    }\n",
       "</style>\n",
       "<table border=\"1\" class=\"dataframe\">\n",
       "  <thead>\n",
       "    <tr style=\"text-align: right;\">\n",
       "      <th></th>\n",
       "      <th>accuracy</th>\n",
       "      <th>balanced accuracy</th>\n",
       "      <th>f1</th>\n",
       "      <th>precision</th>\n",
       "      <th>false positive rate</th>\n",
       "      <th>false negative rate</th>\n",
       "      <th>selection rate</th>\n",
       "      <th>count</th>\n",
       "    </tr>\n",
       "    <tr>\n",
       "      <th>majmin</th>\n",
       "      <th></th>\n",
       "      <th></th>\n",
       "      <th></th>\n",
       "      <th></th>\n",
       "      <th></th>\n",
       "      <th></th>\n",
       "      <th></th>\n",
       "      <th></th>\n",
       "    </tr>\n",
       "  </thead>\n",
       "  <tbody>\n",
       "    <tr>\n",
       "      <th>majority</th>\n",
       "      <td>0.234075</td>\n",
       "      <td>0.540086</td>\n",
       "      <td>0.248045</td>\n",
       "      <td>0.142510</td>\n",
       "      <td>0.875845</td>\n",
       "      <td>0.043982</td>\n",
       "      <td>0.886439</td>\n",
       "      <td>69170.0</td>\n",
       "    </tr>\n",
       "    <tr>\n",
       "      <th>minority</th>\n",
       "      <td>0.165433</td>\n",
       "      <td>0.520444</td>\n",
       "      <td>0.213381</td>\n",
       "      <td>0.119697</td>\n",
       "      <td>0.940953</td>\n",
       "      <td>0.018159</td>\n",
       "      <td>0.945667</td>\n",
       "      <td>20540.0</td>\n",
       "    </tr>\n",
       "  </tbody>\n",
       "</table>\n",
       "</div>"
      ],
      "text/plain": [
       "          accuracy  balanced accuracy        f1  precision  \\\n",
       "majmin                                                       \n",
       "majority  0.234075           0.540086  0.248045   0.142510   \n",
       "minority  0.165433           0.520444  0.213381   0.119697   \n",
       "\n",
       "          false positive rate  false negative rate  selection rate    count  \n",
       "majmin                                                                       \n",
       "majority             0.875845             0.043982        0.886439  69170.0  \n",
       "minority             0.940953             0.018159        0.945667  20540.0  "
      ]
     },
     "execution_count": 62,
     "metadata": {},
     "output_type": "execute_result"
    }
   ],
   "source": [
    "metric_frame.by_group"
   ]
  },
  {
   "cell_type": "code",
   "execution_count": 63,
   "id": "a9ddbe63",
   "metadata": {
    "execution": {
     "iopub.execute_input": "2025-08-05T16:22:42.555647Z",
     "iopub.status.busy": "2025-08-05T16:22:42.554881Z",
     "iopub.status.idle": "2025-08-05T16:22:45.226911Z",
     "shell.execute_reply": "2025-08-05T16:22:45.225609Z"
    },
    "papermill": {
     "duration": 2.701318,
     "end_time": "2025-08-05T16:22:45.229024",
     "exception": false,
     "start_time": "2025-08-05T16:22:42.527706",
     "status": "completed"
    },
    "tags": []
   },
   "outputs": [
    {
     "data": {
      "text/plain": [
       "array([[<Axes: title={'center': 'accuracy'}, xlabel='majmin'>,\n",
       "        <Axes: title={'center': 'balanced accuracy'}, xlabel='majmin'>,\n",
       "        <Axes: title={'center': 'f1'}, xlabel='majmin'>],\n",
       "       [<Axes: title={'center': 'precision'}, xlabel='majmin'>,\n",
       "        <Axes: title={'center': 'false positive rate'}, xlabel='majmin'>,\n",
       "        <Axes: title={'center': 'false negative rate'}, xlabel='majmin'>],\n",
       "       [<Axes: title={'center': 'selection rate'}, xlabel='majmin'>,\n",
       "        <Axes: title={'center': 'count'}, xlabel='majmin'>,\n",
       "        <Axes: xlabel='majmin'>]], dtype=object)"
      ]
     },
     "execution_count": 63,
     "metadata": {},
     "output_type": "execute_result"
    },
    {
     "data": {
      "image/png": "[encoded data removed]",
      "text/plain": [
       "<Figure size 1200x800 with 9 Axes>"
      ]
     },
     "metadata": {},
     "output_type": "display_data"
    }
   ],
   "source": [
    "# In a graphic\n",
    "metric_frame.by_group.plot.bar(\n",
    "    subplots=True,\n",
    "    layout=[3, 3],\n",
    "    legend=False,\n",
    "    figsize=[12, 8],\n",
    "    title=\"Show all metrics\",\n",
    ")"
   ]
  },
  {
   "cell_type": "markdown",
   "id": "f57a0bac",
   "metadata": {
    "papermill": {
     "duration": 0.02529,
     "end_time": "2025-08-05T16:22:45.271067",
     "exception": false,
     "start_time": "2025-08-05T16:22:45.245777",
     "status": "completed"
    },
    "tags": []
   },
   "source": [
    "# Final Output"
   ]
  },
  {
   "cell_type": "code",
   "execution_count": 64,
   "id": "96d280a3",
   "metadata": {
    "execution": {
     "iopub.execute_input": "2025-08-05T16:22:45.340388Z",
     "iopub.status.busy": "2025-08-05T16:22:45.339744Z",
     "iopub.status.idle": "2025-08-05T16:22:45.349874Z",
     "shell.execute_reply": "2025-08-05T16:22:45.348691Z"
    },
    "papermill": {
     "duration": 0.04656,
     "end_time": "2025-08-05T16:22:45.351657",
     "exception": false,
     "start_time": "2025-08-05T16:22:45.305097",
     "status": "completed"
    },
    "tags": []
   },
   "outputs": [
    {
     "data": {
      "text/plain": [
       "4"
      ]
     },
     "execution_count": 64,
     "metadata": {},
     "output_type": "execute_result"
    }
   ],
   "source": [
    "sub_universes = universe_analysis.generate_sub_universes()\n",
    "len(sub_universes)"
   ]
  },
  {
   "cell_type": "code",
   "execution_count": 65,
   "id": "92adf7ba",
   "metadata": {
    "execution": {
     "iopub.execute_input": "2025-08-05T16:22:45.414167Z",
     "iopub.status.busy": "2025-08-05T16:22:45.412703Z",
     "iopub.status.idle": "2025-08-05T16:22:45.420059Z",
     "shell.execute_reply": "2025-08-05T16:22:45.418954Z"
    },
    "papermill": {
     "duration": 0.041015,
     "end_time": "2025-08-05T16:22:45.421595",
     "exception": false,
     "start_time": "2025-08-05T16:22:45.380580",
     "status": "completed"
    },
    "tags": []
   },
   "outputs": [],
   "source": [
    "def filter_sub_universe_data(sub_universe, org_test):\n",
    "    # Keep all rows — no filtering\n",
    "    keep_rows_mask = np.ones(org_test.shape[0], dtype=bool)\n",
    "\n",
    "    print(f\"[INFO] Keeping all rows: {keep_rows_mask.sum()} rows retained.\")\n",
    "    return keep_rows_mask"
   ]
  },
  {
   "cell_type": "code",
   "execution_count": 66,
   "id": "4a759155",
   "metadata": {
    "execution": {
     "iopub.execute_input": "2025-08-05T16:22:45.455642Z",
     "iopub.status.busy": "2025-08-05T16:22:45.455132Z",
     "iopub.status.idle": "2025-08-05T16:22:53.887513Z",
     "shell.execute_reply": "2025-08-05T16:22:53.886525Z"
    },
    "papermill": {
     "duration": 8.451605,
     "end_time": "2025-08-05T16:22:53.889275",
     "exception": false,
     "start_time": "2025-08-05T16:22:45.437670",
     "status": "completed"
    },
    "tags": []
   },
   "outputs": [
    {
     "name": "stdout",
     "output_type": "stream",
     "text": [
      "Stopping execution_time clock.\n",
      "[INFO] Keeping all rows: 89710 rows retained.\n"
     ]
    },
    {
     "name": "stdout",
     "output_type": "stream",
     "text": [
      "[INFO] Keeping all rows: 89710 rows retained.\n"
     ]
    },
    {
     "name": "stdout",
     "output_type": "stream",
     "text": [
      "[INFO] Keeping all rows: 89710 rows retained.\n"
     ]
    },
    {
     "name": "stdout",
     "output_type": "stream",
     "text": [
      "[INFO] Keeping all rows: 89710 rows retained.\n"
     ]
    },
    {
     "data": {
      "text/html": [
       "<div>\n",
       "<style scoped>\n",
       "    .dataframe tbody tr th:only-of-type {\n",
       "        vertical-align: middle;\n",
       "    }\n",
       "\n",
       "    .dataframe tbody tr th {\n",
       "        vertical-align: top;\n",
       "    }\n",
       "\n",
       "    .dataframe thead th {\n",
       "        text-align: right;\n",
       "    }\n",
       "</style>\n",
       "<table border=\"1\" class=\"dataframe\">\n",
       "  <thead>\n",
       "    <tr style=\"text-align: right;\">\n",
       "      <th></th>\n",
       "      <th>run_no</th>\n",
       "      <th>universe_id</th>\n",
       "      <th>universe_settings</th>\n",
       "      <th>execution_time</th>\n",
       "      <th>test_size_n</th>\n",
       "      <th>test_size_frac</th>\n",
       "      <th>fair_main_equalized_odds_difference</th>\n",
       "      <th>fair_main_equalized_odds_ratio</th>\n",
       "      <th>fair_main_demographic_parity_difference</th>\n",
       "      <th>fair_main_demographic_parity_ratio</th>\n",
       "      <th>...</th>\n",
       "      <th>perf_grp_precision_0</th>\n",
       "      <th>perf_grp_precision_1</th>\n",
       "      <th>perf_grp_false positive rate_0</th>\n",
       "      <th>perf_grp_false positive rate_1</th>\n",
       "      <th>perf_grp_false negative rate_0</th>\n",
       "      <th>perf_grp_false negative rate_1</th>\n",
       "      <th>perf_grp_selection rate_0</th>\n",
       "      <th>perf_grp_selection rate_1</th>\n",
       "      <th>perf_grp_count_0</th>\n",
       "      <th>perf_grp_count_1</th>\n",
       "    </tr>\n",
       "  </thead>\n",
       "  <tbody>\n",
       "    <tr>\n",
       "      <th>0</th>\n",
       "      <td>15</td>\n",
       "      <td>a31636c44c50ff74364fe70fa0299daf</td>\n",
       "      <td>{\"cutoff\": \"quantile_0.1\", \"eval_fairness_grou...</td>\n",
       "      <td>31.641151</td>\n",
       "      <td>89710</td>\n",
       "      <td>1.0</td>\n",
       "      <td>0.065108</td>\n",
       "      <td>0.930807</td>\n",
       "      <td>0.059228</td>\n",
       "      <td>0.937369</td>\n",
       "      <td>...</td>\n",
       "      <td>NaN</td>\n",
       "      <td>NaN</td>\n",
       "      <td>NaN</td>\n",
       "      <td>NaN</td>\n",
       "      <td>NaN</td>\n",
       "      <td>NaN</td>\n",
       "      <td>NaN</td>\n",
       "      <td>NaN</td>\n",
       "      <td>NaN</td>\n",
       "      <td>NaN</td>\n",
       "    </tr>\n",
       "    <tr>\n",
       "      <th>0</th>\n",
       "      <td>15</td>\n",
       "      <td>a31636c44c50ff74364fe70fa0299daf</td>\n",
       "      <td>{\"cutoff\": \"quantile_0.1\", \"eval_fairness_grou...</td>\n",
       "      <td>31.641151</td>\n",
       "      <td>89710</td>\n",
       "      <td>1.0</td>\n",
       "      <td>0.065108</td>\n",
       "      <td>0.930807</td>\n",
       "      <td>0.059228</td>\n",
       "      <td>0.937369</td>\n",
       "      <td>...</td>\n",
       "      <td>0.119697</td>\n",
       "      <td>0.14251</td>\n",
       "      <td>0.940953</td>\n",
       "      <td>0.875845</td>\n",
       "      <td>0.018159</td>\n",
       "      <td>0.043982</td>\n",
       "      <td>0.945667</td>\n",
       "      <td>0.886439</td>\n",
       "      <td>20540.0</td>\n",
       "      <td>69170.0</td>\n",
       "    </tr>\n",
       "    <tr>\n",
       "      <th>0</th>\n",
       "      <td>15</td>\n",
       "      <td>a31636c44c50ff74364fe70fa0299daf</td>\n",
       "      <td>{\"cutoff\": \"quantile_0.25\", \"eval_fairness_gro...</td>\n",
       "      <td>31.641151</td>\n",
       "      <td>89710</td>\n",
       "      <td>1.0</td>\n",
       "      <td>0.141802</td>\n",
       "      <td>0.831028</td>\n",
       "      <td>0.129197</td>\n",
       "      <td>0.847934</td>\n",
       "      <td>...</td>\n",
       "      <td>NaN</td>\n",
       "      <td>NaN</td>\n",
       "      <td>NaN</td>\n",
       "      <td>NaN</td>\n",
       "      <td>NaN</td>\n",
       "      <td>NaN</td>\n",
       "      <td>NaN</td>\n",
       "      <td>NaN</td>\n",
       "      <td>NaN</td>\n",
       "      <td>NaN</td>\n",
       "    </tr>\n",
       "    <tr>\n",
       "      <th>0</th>\n",
       "      <td>15</td>\n",
       "      <td>a31636c44c50ff74364fe70fa0299daf</td>\n",
       "      <td>{\"cutoff\": \"quantile_0.25\", \"eval_fairness_gro...</td>\n",
       "      <td>31.641151</td>\n",
       "      <td>89710</td>\n",
       "      <td>1.0</td>\n",
       "      <td>0.141802</td>\n",
       "      <td>0.831028</td>\n",
       "      <td>0.129197</td>\n",
       "      <td>0.847934</td>\n",
       "      <td>...</td>\n",
       "      <td>0.126125</td>\n",
       "      <td>0.15986</td>\n",
       "      <td>0.839203</td>\n",
       "      <td>0.697401</td>\n",
       "      <td>0.070524</td>\n",
       "      <td>0.128446</td>\n",
       "      <td>0.849611</td>\n",
       "      <td>0.720413</td>\n",
       "      <td>20540.0</td>\n",
       "      <td>69170.0</td>\n",
       "    </tr>\n",
       "  </tbody>\n",
       "</table>\n",
       "<p>4 rows × 50 columns</p>\n",
       "</div>"
      ],
      "text/plain": [
       "  run_no                       universe_id  \\\n",
       "0     15  a31636c44c50ff74364fe70fa0299daf   \n",
       "0     15  a31636c44c50ff74364fe70fa0299daf   \n",
       "0     15  a31636c44c50ff74364fe70fa0299daf   \n",
       "0     15  a31636c44c50ff74364fe70fa0299daf   \n",
       "\n",
       "                                   universe_settings  execution_time  \\\n",
       "0  {\"cutoff\": \"quantile_0.1\", \"eval_fairness_grou...       31.641151   \n",
       "0  {\"cutoff\": \"quantile_0.1\", \"eval_fairness_grou...       31.641151   \n",
       "0  {\"cutoff\": \"quantile_0.25\", \"eval_fairness_gro...       31.641151   \n",
       "0  {\"cutoff\": \"quantile_0.25\", \"eval_fairness_gro...       31.641151   \n",
       "\n",
       "   test_size_n  test_size_frac  fair_main_equalized_odds_difference  \\\n",
       "0        89710             1.0                             0.065108   \n",
       "0        89710             1.0                             0.065108   \n",
       "0        89710             1.0                             0.141802   \n",
       "0        89710             1.0                             0.141802   \n",
       "\n",
       "   fair_main_equalized_odds_ratio  fair_main_demographic_parity_difference  \\\n",
       "0                        0.930807                                 0.059228   \n",
       "0                        0.930807                                 0.059228   \n",
       "0                        0.831028                                 0.129197   \n",
       "0                        0.831028                                 0.129197   \n",
       "\n",
       "   fair_main_demographic_parity_ratio  ...  perf_grp_precision_0  \\\n",
       "0                            0.937369  ...                   NaN   \n",
       "0                            0.937369  ...              0.119697   \n",
       "0                            0.847934  ...                   NaN   \n",
       "0                            0.847934  ...              0.126125   \n",
       "\n",
       "   perf_grp_precision_1  perf_grp_false positive rate_0  \\\n",
       "0                   NaN                             NaN   \n",
       "0               0.14251                        0.940953   \n",
       "0                   NaN                             NaN   \n",
       "0               0.15986                        0.839203   \n",
       "\n",
       "   perf_grp_false positive rate_1  perf_grp_false negative rate_0  \\\n",
       "0                             NaN                             NaN   \n",
       "0                        0.875845                        0.018159   \n",
       "0                             NaN                             NaN   \n",
       "0                        0.697401                        0.070524   \n",
       "\n",
       "   perf_grp_false negative rate_1  perf_grp_selection rate_0  \\\n",
       "0                             NaN                        NaN   \n",
       "0                        0.043982                   0.945667   \n",
       "0                             NaN                        NaN   \n",
       "0                        0.128446                   0.849611   \n",
       "\n",
       "   perf_grp_selection rate_1  perf_grp_count_0  perf_grp_count_1  \n",
       "0                        NaN               NaN               NaN  \n",
       "0                   0.886439           20540.0           69170.0  \n",
       "0                        NaN               NaN               NaN  \n",
       "0                   0.720413           20540.0           69170.0  \n",
       "\n",
       "[4 rows x 50 columns]"
      ]
     },
     "execution_count": 66,
     "metadata": {},
     "output_type": "execute_result"
    }
   ],
   "source": [
    "final_output = universe_analysis.generate_final_output(\n",
    "    y_pred_prob=probs_test,\n",
    "    y_test=y_true,\n",
    "    org_test=org_test,\n",
    "    filter_data=filter_sub_universe_data,\n",
    "    cp_metrics_df=cp_metrics_df,\n",
    "    save=True,\n",
    ")\n",
    "final_output"
   ]
  }
 ],
 "metadata": {
  "celltoolbar": "Tags",
  "kernelspec": {
   "display_name": "Python (CMA Fairness)",
   "language": "python",
   "name": "cma_fair_env"
  },
  "language_info": {
   "codemirror_mode": {
    "name": "ipython",
    "version": 3
   },
   "file_extension": ".py",
   "mimetype": "text/x-python",
   "name": "python",
   "nbconvert_exporter": "python",
   "pygments_lexer": "ipython3",
   "version": "3.10.12"
  },
  "papermill": {
   "default_parameters": {},
   "duration": 44.19516,
   "end_time": "2025-08-05T16:22:54.527773",
   "environment_variables": {},
   "exception": null,
   "input_path": "universe_analysis.ipynb",
   "output_path": "output/runs/15/notebooks/m_15-a31636c44c50ff74364fe70fa0299daf.ipynb",
   "parameters": {
    "output_dir": "output",
    "run_no": "15",
    "seed": "2023",
    "universe": "{\"cutoff\": [\"quantile_0.1\", \"quantile_0.25\"], \"eval_fairness_grouping\": [\"majority-minority\", \"nationality-all\"], \"exclude_features\": \"sex\", \"exclude_subgroups\": \"drop-non-german\", \"model\": \"elasticnet\", \"scale\": \"scale\", \"training_size\": \"1k\", \"training_year\": \"2012_14\"}",
    "universe_id": "a31636c44c50ff74364fe70fa0299daf"
   },
   "start_time": "2025-08-05T16:22:10.332613",
   "version": "2.6.0"
  }
 },
 "nbformat": 4,
 "nbformat_minor": 5
}