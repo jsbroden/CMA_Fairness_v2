{
 "cells": [
  {
   "cell_type": "code",
   "execution_count": 1,
   "id": "f159f837-637b-42ba-96b5-ec9a68c44524",
   "metadata": {
    "execution": {
     "iopub.execute_input": "2025-08-05T16:13:54.092327Z",
     "iopub.status.busy": "2025-08-05T16:13:54.091789Z",
     "iopub.status.idle": "2025-08-05T16:13:54.110044Z",
     "shell.execute_reply": "2025-08-05T16:13:54.108685Z"
    },
    "papermill": {
     "duration": 0.043457,
     "end_time": "2025-08-05T16:13:54.112245",
     "exception": false,
     "start_time": "2025-08-05T16:13:54.068788",
     "status": "completed"
    },
    "tags": []
   },
   "outputs": [
    {
     "name": "stdout",
     "output_type": "stream",
     "text": [
      "/dss/dsshome1/0C/ra93lal2/cma/CMA_Fairness_v2\n"
     ]
    },
    {
     "name": "stderr",
     "output_type": "stream",
     "text": [
      "/dss/dsshome1/0C/ra93lal2/.local/share/virtualenvs/CMA_Fairness_v2-3j10GkSs/lib/python3.10/site-packages/IPython/core/magics/osm.py:393: UserWarning: This is now an optional IPython functionality, using bookmarks requires you to install the `pickleshare` library.\n",
      "  bkms = self.shell.db.get('bookmarks', {})\n",
      "/dss/dsshome1/0C/ra93lal2/.local/share/virtualenvs/CMA_Fairness_v2-3j10GkSs/lib/python3.10/site-packages/IPython/core/magics/osm.py:417: UserWarning: This is now an optional IPython functionality, setting dhist requires you to install the `pickleshare` library.\n",
      "  self.shell.db['dhist'] = compress_dhist(dhist)[-100:]\n"
     ]
    }
   ],
   "source": [
    "%cd ~/cma/CMA_Fairness_v2"
   ]
  },
  {
   "cell_type": "markdown",
   "id": "de2603b9",
   "metadata": {
    "papermill": {
     "duration": 0.01945,
     "end_time": "2025-08-05T16:13:54.152110",
     "exception": false,
     "start_time": "2025-08-05T16:13:54.132660",
     "status": "completed"
    },
    "tags": []
   },
   "source": [
    "The following cell holds the definition of our parameters, these values can be overriden by rendering the with e.g. the following command:\n",
    "\n",
    "papermill -p alpha 0.2 -p ratio 0.3 universe_analysis.ipynb output/test_run.ipynb"
   ]
  },
  {
   "cell_type": "code",
   "execution_count": 2,
   "id": "a80968a0-40bb-4fa9-85ef-2d5eefb01975",
   "metadata": {
    "execution": {
     "iopub.execute_input": "2025-08-05T16:13:54.195180Z",
     "iopub.status.busy": "2025-08-05T16:13:54.194364Z",
     "iopub.status.idle": "2025-08-05T16:13:54.203191Z",
     "shell.execute_reply": "2025-08-05T16:13:54.202002Z"
    },
    "papermill": {
     "duration": 0.032735,
     "end_time": "2025-08-05T16:13:54.205269",
     "exception": false,
     "start_time": "2025-08-05T16:13:54.172534",
     "status": "completed"
    },
    "tags": []
   },
   "outputs": [
    {
     "name": "stdout",
     "output_type": "stream",
     "text": [
      "Current working directory: /dss/dsshome1/0C/ra93lal2/cma/CMA_Fairness_v2\n"
     ]
    }
   ],
   "source": [
    "import os\n",
    "print(\"Current working directory:\", os.getcwd())"
   ]
  },
  {
   "cell_type": "code",
   "execution_count": 3,
   "id": "2dce4c03",
   "metadata": {
    "execution": {
     "iopub.execute_input": "2025-08-05T16:13:54.247719Z",
     "iopub.status.busy": "2025-08-05T16:13:54.246727Z",
     "iopub.status.idle": "2025-08-05T16:13:54.254656Z",
     "shell.execute_reply": "2025-08-05T16:13:54.253464Z"
    },
    "papermill": {
     "duration": 0.031322,
     "end_time": "2025-08-05T16:13:54.256615",
     "exception": false,
     "start_time": "2025-08-05T16:13:54.225293",
     "status": "completed"
    },
    "tags": [
     "parameters"
    ]
   },
   "outputs": [],
   "source": [
    "run_no = 0\n",
    "universe_id = \"test\"\n",
    "universe = {\n",
    "    \"training_size\": \"25k\", # \"25k\", \"5k\", \"1k\"\n",
    "    \"training_year\": \"2014\", # \"2014\", \"2012_14\", \"2010_14\"\n",
    "    \"scale\": \"scale\", # \"scale\", \"do-not-scale\",\n",
    "    \"model\": \"elasticnet\", # \"logreg\", \"penalized_logreg\", \"rf\", \"gbm\", \"elasticnet\"\n",
    "    \"cutoff\": [\"quantile_0.15\", \"quantile_0.30\"],\n",
    "    \"exclude_features\": \"age\", # \"none\", \"nationality\", \"sex\", \"nationality-sex\", \"age\"\n",
    "    \"exclude_subgroups\": \"keep-all\", # \"keep-all\", \"drop-non-german\"\n",
    "    \"eval_fairness_grouping\": [\"majority-minority\", \"nationality-all\"]\n",
    "}\n",
    "\n",
    "output_dir=\"./output\"\n",
    "seed=0"
   ]
  },
  {
   "cell_type": "code",
   "execution_count": 4,
   "id": "e002f364",
   "metadata": {
    "execution": {
     "iopub.execute_input": "2025-08-05T16:13:54.300972Z",
     "iopub.status.busy": "2025-08-05T16:13:54.299924Z",
     "iopub.status.idle": "2025-08-05T16:13:54.306883Z",
     "shell.execute_reply": "2025-08-05T16:13:54.305660Z"
    },
    "papermill": {
     "duration": 0.030717,
     "end_time": "2025-08-05T16:13:54.308755",
     "exception": false,
     "start_time": "2025-08-05T16:13:54.278038",
     "status": "completed"
    },
    "tags": [
     "injected-parameters"
    ]
   },
   "outputs": [],
   "source": [
    "# Parameters\n",
    "universe_id = \"523b4d52292fbf0322ce0d3ad7b649bd\"\n",
    "run_no = \"15\"\n",
    "universe = \"{\\\"cutoff\\\": [\\\"quantile_0.1\\\", \\\"quantile_0.25\\\"], \\\"eval_fairness_grouping\\\": [\\\"majority-minority\\\", \\\"nationality-all\\\"], \\\"exclude_features\\\": \\\"none\\\", \\\"exclude_subgroups\\\": \\\"drop-non-german\\\", \\\"model\\\": \\\"elasticnet\\\", \\\"scale\\\": \\\"do-not-scale\\\", \\\"training_size\\\": \\\"1k\\\", \\\"training_year\\\": \\\"2014\\\"}\"\n",
    "output_dir = \"output\"\n",
    "seed = \"2023\"\n"
   ]
  },
  {
   "cell_type": "code",
   "execution_count": 5,
   "id": "1650acaf",
   "metadata": {
    "execution": {
     "iopub.execute_input": "2025-08-05T16:13:54.353670Z",
     "iopub.status.busy": "2025-08-05T16:13:54.352937Z",
     "iopub.status.idle": "2025-08-05T16:13:54.359294Z",
     "shell.execute_reply": "2025-08-05T16:13:54.358200Z"
    },
    "papermill": {
     "duration": 0.030937,
     "end_time": "2025-08-05T16:13:54.361093",
     "exception": false,
     "start_time": "2025-08-05T16:13:54.330156",
     "status": "completed"
    },
    "tags": []
   },
   "outputs": [],
   "source": [
    "import json\n",
    "if isinstance(universe, str):\n",
    "    universe = json.loads(universe)"
   ]
  },
  {
   "cell_type": "code",
   "execution_count": 6,
   "id": "16620c48",
   "metadata": {
    "execution": {
     "iopub.execute_input": "2025-08-05T16:13:54.403746Z",
     "iopub.status.busy": "2025-08-05T16:13:54.402743Z",
     "iopub.status.idle": "2025-08-05T16:13:54.525898Z",
     "shell.execute_reply": "2025-08-05T16:13:54.524721Z"
    },
    "papermill": {
     "duration": 0.147108,
     "end_time": "2025-08-05T16:13:54.528584",
     "exception": false,
     "start_time": "2025-08-05T16:13:54.381476",
     "status": "completed"
    },
    "tags": []
   },
   "outputs": [],
   "source": [
    "# Auto-reload the custom package\n",
    "%load_ext autoreload\n",
    "%autoreload 1\n",
    "%aimport fairness_multiverse"
   ]
  },
  {
   "cell_type": "code",
   "execution_count": 7,
   "id": "01c5c9f3",
   "metadata": {
    "execution": {
     "iopub.execute_input": "2025-08-05T16:13:54.585249Z",
     "iopub.status.busy": "2025-08-05T16:13:54.584645Z",
     "iopub.status.idle": "2025-08-05T16:13:56.408741Z",
     "shell.execute_reply": "2025-08-05T16:13:56.407749Z"
    },
    "papermill": {
     "duration": 1.856143,
     "end_time": "2025-08-05T16:13:56.410514",
     "exception": false,
     "start_time": "2025-08-05T16:13:54.554371",
     "status": "completed"
    },
    "tags": []
   },
   "outputs": [],
   "source": [
    "from fairness_multiverse.universe import UniverseAnalysis\n",
    "\n",
    "universe_analysis = UniverseAnalysis(\n",
    "    run_no = run_no,\n",
    "    universe_id = universe_id,\n",
    "    universe = universe,\n",
    "    output_dir=output_dir,\n",
    ")"
   ]
  },
  {
   "cell_type": "code",
   "execution_count": 8,
   "id": "106241f5",
   "metadata": {
    "execution": {
     "iopub.execute_input": "2025-08-05T16:13:56.448258Z",
     "iopub.status.busy": "2025-08-05T16:13:56.447702Z",
     "iopub.status.idle": "2025-08-05T16:13:56.455800Z",
     "shell.execute_reply": "2025-08-05T16:13:56.454351Z"
    },
    "papermill": {
     "duration": 0.034634,
     "end_time": "2025-08-05T16:13:56.457728",
     "exception": false,
     "start_time": "2025-08-05T16:13:56.423094",
     "status": "completed"
    },
    "tags": []
   },
   "outputs": [
    {
     "name": "stdout",
     "output_type": "stream",
     "text": [
      "Using Seed: 2023\n"
     ]
    }
   ],
   "source": [
    "import numpy as np\n",
    "parsed_seed = int(seed)\n",
    "np.random.seed(parsed_seed)\n",
    "print(f\"Using Seed: {parsed_seed}\")"
   ]
  },
  {
   "cell_type": "markdown",
   "id": "e0ebdc57",
   "metadata": {
    "papermill": {
     "duration": 0.019594,
     "end_time": "2025-08-05T16:13:56.497923",
     "exception": false,
     "start_time": "2025-08-05T16:13:56.478329",
     "status": "completed"
    },
    "tags": []
   },
   "source": [
    "# Loading Data"
   ]
  },
  {
   "cell_type": "code",
   "execution_count": 9,
   "id": "f0496b8a",
   "metadata": {
    "execution": {
     "iopub.execute_input": "2025-08-05T16:13:56.539359Z",
     "iopub.status.busy": "2025-08-05T16:13:56.538124Z",
     "iopub.status.idle": "2025-08-05T16:14:09.766496Z",
     "shell.execute_reply": "2025-08-05T16:14:09.765596Z"
    },
    "papermill": {
     "duration": 13.250577,
     "end_time": "2025-08-05T16:14:09.767845",
     "exception": false,
     "start_time": "2025-08-05T16:13:56.517268",
     "status": "completed"
    },
    "tags": []
   },
   "outputs": [
    {
     "name": "stdout",
     "output_type": "stream",
     "text": [
      "Loading SIAB data from cache: data/siab_cached.csv.gz\n"
     ]
    },
    {
     "name": "stdout",
     "output_type": "stream",
     "text": [
      "(643690, 164)\n"
     ]
    }
   ],
   "source": [
    "from pathlib import Path\n",
    "import pandas as pd\n",
    "\n",
    "# File paths\n",
    "raw_file = Path(\"data/raw/siab.csv\")\n",
    "cache_file = Path(\"data/siab_cached.csv.gz\")\n",
    "\n",
    "# Ensure cache directory exists\n",
    "cache_file.parent.mkdir(parents=True, exist_ok=True)\n",
    "\n",
    "# Load with simple caching\n",
    "if cache_file.exists():\n",
    "    print(f\"Loading SIAB data from cache: {cache_file}\")\n",
    "    siab = pd.read_csv(cache_file, compression='gzip')\n",
    "else:\n",
    "    print(f\"Cache not found. Reading raw SIAB data: {raw_file}\")\n",
    "    siab = pd.read_csv(raw_file)\n",
    "    siab.to_csv(cache_file, index=False, compression='gzip')\n",
    "    print(f\"Cached SIAB data to: {cache_file}\")\n",
    "\n",
    "print(siab.shape)"
   ]
  },
  {
   "cell_type": "code",
   "execution_count": 10,
   "id": "db0ca512-5f53-4dba-abdb-a2888bca41ba",
   "metadata": {
    "execution": {
     "iopub.execute_input": "2025-08-05T16:14:09.802886Z",
     "iopub.status.busy": "2025-08-05T16:14:09.802328Z",
     "iopub.status.idle": "2025-08-05T16:14:09.808547Z",
     "shell.execute_reply": "2025-08-05T16:14:09.807536Z"
    },
    "papermill": {
     "duration": 0.027272,
     "end_time": "2025-08-05T16:14:09.810150",
     "exception": false,
     "start_time": "2025-08-05T16:14:09.782878",
     "status": "completed"
    },
    "tags": []
   },
   "outputs": [],
   "source": [
    "#siab"
   ]
  },
  {
   "cell_type": "markdown",
   "id": "997051c5-15bd-4b69-9786-c3001a3ce484",
   "metadata": {
    "papermill": {
     "duration": 0.017822,
     "end_time": "2025-08-05T16:14:09.837699",
     "exception": false,
     "start_time": "2025-08-05T16:14:09.819877",
     "status": "completed"
    },
    "tags": []
   },
   "source": [
    "# Splitting Data and Setting Training Data Size"
   ]
  },
  {
   "cell_type": "code",
   "execution_count": 11,
   "id": "aea9c6ef-6f46-42c8-85eb-5a62025c1508",
   "metadata": {
    "execution": {
     "iopub.execute_input": "2025-08-05T16:14:09.862597Z",
     "iopub.status.busy": "2025-08-05T16:14:09.862062Z",
     "iopub.status.idle": "2025-08-05T16:14:10.070186Z",
     "shell.execute_reply": "2025-08-05T16:14:10.069155Z"
    },
    "papermill": {
     "duration": 0.221746,
     "end_time": "2025-08-05T16:14:10.071942",
     "exception": false,
     "start_time": "2025-08-05T16:14:09.850196",
     "status": "completed"
    },
    "tags": []
   },
   "outputs": [],
   "source": [
    "from fairness_multiverse.universe import sample_by_year_size\n",
    "\n",
    "siab_train = sample_by_year_size(siab,\n",
    "                               training_year=universe[\"training_year\"],\n",
    "                               training_size=universe[\"training_size\"])"
   ]
  },
  {
   "cell_type": "code",
   "execution_count": 12,
   "id": "8d3afb32-789d-442c-8d5d-9f5aa8dd2eed",
   "metadata": {
    "execution": {
     "iopub.execute_input": "2025-08-05T16:14:10.107788Z",
     "iopub.status.busy": "2025-08-05T16:14:10.106896Z",
     "iopub.status.idle": "2025-08-05T16:14:10.112463Z",
     "shell.execute_reply": "2025-08-05T16:14:10.111483Z"
    },
    "papermill": {
     "duration": 0.02502,
     "end_time": "2025-08-05T16:14:10.114165",
     "exception": false,
     "start_time": "2025-08-05T16:14:10.089145",
     "status": "completed"
    },
    "tags": []
   },
   "outputs": [],
   "source": [
    "#siab_train.shape"
   ]
  },
  {
   "cell_type": "code",
   "execution_count": 13,
   "id": "d582db68-1a4c-47fb-84fc-08518dc1975a",
   "metadata": {
    "execution": {
     "iopub.execute_input": "2025-08-05T16:14:10.148802Z",
     "iopub.status.busy": "2025-08-05T16:14:10.148042Z",
     "iopub.status.idle": "2025-08-05T16:14:10.153302Z",
     "shell.execute_reply": "2025-08-05T16:14:10.152308Z"
    },
    "papermill": {
     "duration": 0.024475,
     "end_time": "2025-08-05T16:14:10.155138",
     "exception": false,
     "start_time": "2025-08-05T16:14:10.130663",
     "status": "completed"
    },
    "tags": []
   },
   "outputs": [],
   "source": [
    "#display(siab_train.groupby(\"year\").size())"
   ]
  },
  {
   "cell_type": "code",
   "execution_count": 14,
   "id": "a561edb4-d032-42cb-8256-22eac1111c64",
   "metadata": {
    "execution": {
     "iopub.execute_input": "2025-08-05T16:14:10.188638Z",
     "iopub.status.busy": "2025-08-05T16:14:10.188109Z",
     "iopub.status.idle": "2025-08-05T16:14:10.405600Z",
     "shell.execute_reply": "2025-08-05T16:14:10.404540Z"
    },
    "papermill": {
     "duration": 0.236415,
     "end_time": "2025-08-05T16:14:10.408420",
     "exception": false,
     "start_time": "2025-08-05T16:14:10.172005",
     "status": "completed"
    },
    "tags": []
   },
   "outputs": [],
   "source": [
    "#siab_train = siab_s[siab_s.year < 2015]\n",
    "siab_calib = siab[siab.year == 2015]\n",
    "siab_test = siab[siab.year == 2016]"
   ]
  },
  {
   "cell_type": "code",
   "execution_count": 15,
   "id": "472de16f-c3db-4916-846b-1f0de9cf1746",
   "metadata": {
    "execution": {
     "iopub.execute_input": "2025-08-05T16:14:10.443933Z",
     "iopub.status.busy": "2025-08-05T16:14:10.443268Z",
     "iopub.status.idle": "2025-08-05T16:14:10.450199Z",
     "shell.execute_reply": "2025-08-05T16:14:10.448973Z"
    },
    "papermill": {
     "duration": 0.02519,
     "end_time": "2025-08-05T16:14:10.451893",
     "exception": false,
     "start_time": "2025-08-05T16:14:10.426703",
     "status": "completed"
    },
    "tags": []
   },
   "outputs": [],
   "source": [
    "X_train = siab_train.iloc[:,4:164]\n",
    "y_train = siab_train.iloc[:, [3]]"
   ]
  },
  {
   "cell_type": "code",
   "execution_count": 16,
   "id": "828c96af-f43a-4ed6-ba47-8ac73a47d56c",
   "metadata": {
    "execution": {
     "iopub.execute_input": "2025-08-05T16:14:10.488976Z",
     "iopub.status.busy": "2025-08-05T16:14:10.488327Z",
     "iopub.status.idle": "2025-08-05T16:14:10.539725Z",
     "shell.execute_reply": "2025-08-05T16:14:10.538795Z"
    },
    "papermill": {
     "duration": 0.07088,
     "end_time": "2025-08-05T16:14:10.541600",
     "exception": false,
     "start_time": "2025-08-05T16:14:10.470720",
     "status": "completed"
    },
    "tags": []
   },
   "outputs": [],
   "source": [
    "X_calib = siab_calib.iloc[:,4:164]\n",
    "y_calib = siab_calib.iloc[:, [3]]"
   ]
  },
  {
   "cell_type": "code",
   "execution_count": 17,
   "id": "c34be9c3-6bd6-476e-acd3-845840e303be",
   "metadata": {
    "execution": {
     "iopub.execute_input": "2025-08-05T16:14:10.580915Z",
     "iopub.status.busy": "2025-08-05T16:14:10.580155Z",
     "iopub.status.idle": "2025-08-05T16:14:10.636704Z",
     "shell.execute_reply": "2025-08-05T16:14:10.635602Z"
    },
    "papermill": {
     "duration": 0.077658,
     "end_time": "2025-08-05T16:14:10.638526",
     "exception": false,
     "start_time": "2025-08-05T16:14:10.560868",
     "status": "completed"
    },
    "tags": []
   },
   "outputs": [],
   "source": [
    "X_test = siab_test.iloc[:,4:164]\n",
    "y_true = siab_test.iloc[:, [3]]"
   ]
  },
  {
   "cell_type": "code",
   "execution_count": 18,
   "id": "e6c733c5",
   "metadata": {
    "execution": {
     "iopub.execute_input": "2025-08-05T16:14:10.675476Z",
     "iopub.status.busy": "2025-08-05T16:14:10.674709Z",
     "iopub.status.idle": "2025-08-05T16:14:10.771637Z",
     "shell.execute_reply": "2025-08-05T16:14:10.770613Z"
    },
    "papermill": {
     "duration": 0.116595,
     "end_time": "2025-08-05T16:14:10.773394",
     "exception": false,
     "start_time": "2025-08-05T16:14:10.656799",
     "status": "completed"
    },
    "tags": []
   },
   "outputs": [],
   "source": [
    "# Auxiliary data needed downstream in the pipeline\n",
    "\n",
    "org_train = X_train.copy()\n",
    "org_test = X_test.copy()\n",
    "org_calib = X_calib.copy()"
   ]
  },
  {
   "cell_type": "markdown",
   "id": "0a4a1b33",
   "metadata": {
    "papermill": {
     "duration": 0.017081,
     "end_time": "2025-08-05T16:14:10.808482",
     "exception": false,
     "start_time": "2025-08-05T16:14:10.791401",
     "status": "completed"
    },
    "tags": []
   },
   "source": [
    "# Preprocessing Data"
   ]
  },
  {
   "cell_type": "code",
   "execution_count": 19,
   "id": "ca879031",
   "metadata": {
    "execution": {
     "iopub.execute_input": "2025-08-05T16:14:10.845064Z",
     "iopub.status.busy": "2025-08-05T16:14:10.844629Z",
     "iopub.status.idle": "2025-08-05T16:14:10.850283Z",
     "shell.execute_reply": "2025-08-05T16:14:10.849573Z"
    },
    "papermill": {
     "duration": 0.024988,
     "end_time": "2025-08-05T16:14:10.851633",
     "exception": false,
     "start_time": "2025-08-05T16:14:10.826645",
     "status": "completed"
    },
    "tags": []
   },
   "outputs": [],
   "source": [
    "# EXCLUDE PROTECTED FEATURES\n",
    "# ----------------------\n",
    "# \"exclude_features\": \"none\", # \"nationality\", \"sex\", \"nationality-sex\"\n",
    "\n",
    "excluded_features = universe[\"exclude_features\"].split(\"-\") # split, e.g.: \"nationality-sex\" -> [\"nationality\", \"sex\"]\n",
    "excluded_features_dictionary = {\n",
    "    \"nationality\": [\"maxdeutsch1\", \"maxdeutsch.Missing.\"],\n",
    "    \"sex\": [\"frau1\"],\n",
    "    \"age\": [\"age\"],\n",
    "}"
   ]
  },
  {
   "cell_type": "code",
   "execution_count": 20,
   "id": "b745ac60",
   "metadata": {
    "execution": {
     "iopub.execute_input": "2025-08-05T16:14:10.874136Z",
     "iopub.status.busy": "2025-08-05T16:14:10.873460Z",
     "iopub.status.idle": "2025-08-05T16:14:10.880309Z",
     "shell.execute_reply": "2025-08-05T16:14:10.878281Z"
    },
    "papermill": {
     "duration": 0.020191,
     "end_time": "2025-08-05T16:14:10.882230",
     "exception": false,
     "start_time": "2025-08-05T16:14:10.862039",
     "status": "completed"
    },
    "tags": []
   },
   "outputs": [],
   "source": [
    "# Code nice names to column names\n",
    "\n",
    "excluded_features_columns = [\n",
    "    excluded_features_dictionary[f] for f in excluded_features if len(f) > 0 and f != \"none\"\n",
    "]"
   ]
  },
  {
   "cell_type": "code",
   "execution_count": 21,
   "id": "f84f73a2",
   "metadata": {
    "execution": {
     "iopub.execute_input": "2025-08-05T16:14:10.920985Z",
     "iopub.status.busy": "2025-08-05T16:14:10.920300Z",
     "iopub.status.idle": "2025-08-05T16:14:10.928025Z",
     "shell.execute_reply": "2025-08-05T16:14:10.926973Z"
    },
    "papermill": {
     "duration": 0.027857,
     "end_time": "2025-08-05T16:14:10.929628",
     "exception": false,
     "start_time": "2025-08-05T16:14:10.901771",
     "status": "completed"
    },
    "tags": []
   },
   "outputs": [],
   "source": [
    "from utils import flatten_once\n",
    "\n",
    "excluded_features_columns = flatten_once(excluded_features_columns)"
   ]
  },
  {
   "cell_type": "code",
   "execution_count": 22,
   "id": "884dea22",
   "metadata": {
    "execution": {
     "iopub.execute_input": "2025-08-05T16:14:10.968876Z",
     "iopub.status.busy": "2025-08-05T16:14:10.968396Z",
     "iopub.status.idle": "2025-08-05T16:14:10.973655Z",
     "shell.execute_reply": "2025-08-05T16:14:10.972550Z"
    },
    "papermill": {
     "duration": 0.027813,
     "end_time": "2025-08-05T16:14:10.975464",
     "exception": false,
     "start_time": "2025-08-05T16:14:10.947651",
     "status": "completed"
    },
    "tags": []
   },
   "outputs": [],
   "source": [
    "if len(excluded_features_columns) > 0:\n",
    "    print(f\"Dropping features: {excluded_features_columns}\")\n",
    "    X_train.drop(excluded_features_columns, axis=1, inplace=True)"
   ]
  },
  {
   "cell_type": "code",
   "execution_count": 23,
   "id": "95ab8b16",
   "metadata": {
    "execution": {
     "iopub.execute_input": "2025-08-05T16:14:11.014763Z",
     "iopub.status.busy": "2025-08-05T16:14:11.014259Z",
     "iopub.status.idle": "2025-08-05T16:14:11.020377Z",
     "shell.execute_reply": "2025-08-05T16:14:11.019372Z"
    },
    "papermill": {
     "duration": 0.027313,
     "end_time": "2025-08-05T16:14:11.022300",
     "exception": false,
     "start_time": "2025-08-05T16:14:10.994987",
     "status": "completed"
    },
    "tags": []
   },
   "outputs": [],
   "source": [
    "if len(excluded_features_columns) > 0:\n",
    "    print(f\"Dropping features: {excluded_features_columns}\")\n",
    "    X_test.drop(excluded_features_columns, axis=1, inplace=True)"
   ]
  },
  {
   "cell_type": "code",
   "execution_count": 24,
   "id": "1853aaf5-fb9f-46cb-a2b5-8ea4ae2237e4",
   "metadata": {
    "execution": {
     "iopub.execute_input": "2025-08-05T16:14:11.061829Z",
     "iopub.status.busy": "2025-08-05T16:14:11.060961Z",
     "iopub.status.idle": "2025-08-05T16:14:11.067030Z",
     "shell.execute_reply": "2025-08-05T16:14:11.065801Z"
    },
    "papermill": {
     "duration": 0.028504,
     "end_time": "2025-08-05T16:14:11.068959",
     "exception": false,
     "start_time": "2025-08-05T16:14:11.040455",
     "status": "completed"
    },
    "tags": []
   },
   "outputs": [],
   "source": [
    "if len(excluded_features_columns) > 0:\n",
    "    print(f\"Dropping features: {excluded_features_columns}\")\n",
    "    X_calib.drop(excluded_features_columns, axis=1, inplace=True)"
   ]
  },
  {
   "cell_type": "code",
   "execution_count": 25,
   "id": "76c4dc6d",
   "metadata": {
    "execution": {
     "iopub.execute_input": "2025-08-05T16:14:11.108533Z",
     "iopub.status.busy": "2025-08-05T16:14:11.107599Z",
     "iopub.status.idle": "2025-08-05T16:14:11.113752Z",
     "shell.execute_reply": "2025-08-05T16:14:11.112618Z"
    },
    "papermill": {
     "duration": 0.027933,
     "end_time": "2025-08-05T16:14:11.115623",
     "exception": false,
     "start_time": "2025-08-05T16:14:11.087690",
     "status": "completed"
    },
    "tags": []
   },
   "outputs": [],
   "source": [
    "# EXCLUDE CERTAIN SUBGROUPS\n",
    "# ----------------------\n",
    "\n",
    "mode = universe.get(\"exclude_subgroups\", \"keep-all\") \n",
    "# Fetches the exclude_subgroups setting from the universe dict.\n",
    "# Defaults to \"keep-all\" if the key is missing."
   ]
  },
  {
   "cell_type": "code",
   "execution_count": 26,
   "id": "21994072",
   "metadata": {
    "execution": {
     "iopub.execute_input": "2025-08-05T16:14:11.155138Z",
     "iopub.status.busy": "2025-08-05T16:14:11.154467Z",
     "iopub.status.idle": "2025-08-05T16:14:11.163409Z",
     "shell.execute_reply": "2025-08-05T16:14:11.162401Z"
    },
    "papermill": {
     "duration": 0.031098,
     "end_time": "2025-08-05T16:14:11.165349",
     "exception": false,
     "start_time": "2025-08-05T16:14:11.134251",
     "status": "completed"
    },
    "tags": []
   },
   "outputs": [],
   "source": [
    "if mode == \"keep-all\":\n",
    "    keep_mask = pd.Series(True, index=org_train.index)\n",
    "\n",
    "# org_train contains the original feature columns from features_org (in Simson)\n",
    "# features_org contains unprocessed features, for me X_train at beginning ???\n",
    "# For keep-all, creates a boolean Series (keep_mask) of all True, so no rows are removed.\n",
    "\n",
    "elif mode == \"drop-non-german\":\n",
    "    keep_mask = org_train[\"maxdeutsch1\"] == 1 # ??? what about missing values?\n",
    "\n",
    "else:\n",
    "    raise ValueError(f\"Unsupported mode for exclude_subgroups: {mode}\")"
   ]
  },
  {
   "cell_type": "code",
   "execution_count": 27,
   "id": "71651440",
   "metadata": {
    "execution": {
     "iopub.execute_input": "2025-08-05T16:14:11.206004Z",
     "iopub.status.busy": "2025-08-05T16:14:11.205152Z",
     "iopub.status.idle": "2025-08-05T16:14:11.213803Z",
     "shell.execute_reply": "2025-08-05T16:14:11.212711Z"
    },
    "papermill": {
     "duration": 0.030324,
     "end_time": "2025-08-05T16:14:11.215398",
     "exception": false,
     "start_time": "2025-08-05T16:14:11.185074",
     "status": "completed"
    },
    "tags": []
   },
   "outputs": [
    {
     "name": "stdout",
     "output_type": "stream",
     "text": [
      "Dropping 147 rows (14.70%) where mode='drop-non-german'\n"
     ]
    }
   ],
   "source": [
    "n_drop = (~keep_mask).sum() # Calculates how many rows are set to be dropped\n",
    "if n_drop > 0:\n",
    "    pct = n_drop / len(keep_mask) * 100\n",
    "    print(f\"Dropping {n_drop} rows ({pct:.2f}%) where mode='{mode}'\")"
   ]
  },
  {
   "cell_type": "code",
   "execution_count": 28,
   "id": "5fb8eee5",
   "metadata": {
    "execution": {
     "iopub.execute_input": "2025-08-05T16:14:11.255287Z",
     "iopub.status.busy": "2025-08-05T16:14:11.254802Z",
     "iopub.status.idle": "2025-08-05T16:14:11.261928Z",
     "shell.execute_reply": "2025-08-05T16:14:11.260772Z"
    },
    "papermill": {
     "duration": 0.029487,
     "end_time": "2025-08-05T16:14:11.263743",
     "exception": false,
     "start_time": "2025-08-05T16:14:11.234256",
     "status": "completed"
    },
    "tags": []
   },
   "outputs": [],
   "source": [
    "X_train = X_train[keep_mask]"
   ]
  },
  {
   "cell_type": "code",
   "execution_count": 29,
   "id": "b202bb3a",
   "metadata": {
    "execution": {
     "iopub.execute_input": "2025-08-05T16:14:11.300992Z",
     "iopub.status.busy": "2025-08-05T16:14:11.300463Z",
     "iopub.status.idle": "2025-08-05T16:14:11.305226Z",
     "shell.execute_reply": "2025-08-05T16:14:11.304453Z"
    },
    "papermill": {
     "duration": 0.023899,
     "end_time": "2025-08-05T16:14:11.306660",
     "exception": false,
     "start_time": "2025-08-05T16:14:11.282761",
     "status": "completed"
    },
    "tags": []
   },
   "outputs": [],
   "source": [
    "y_train = y_train[keep_mask]"
   ]
  },
  {
   "cell_type": "markdown",
   "id": "493e2ac3",
   "metadata": {
    "papermill": {
     "duration": 0.009526,
     "end_time": "2025-08-05T16:14:11.325850",
     "exception": false,
     "start_time": "2025-08-05T16:14:11.316324",
     "status": "completed"
    },
    "tags": []
   },
   "source": [
    "# Model Training"
   ]
  },
  {
   "cell_type": "code",
   "execution_count": 30,
   "id": "679e1268",
   "metadata": {
    "execution": {
     "iopub.execute_input": "2025-08-05T16:14:11.346237Z",
     "iopub.status.busy": "2025-08-05T16:14:11.345584Z",
     "iopub.status.idle": "2025-08-05T16:14:11.448143Z",
     "shell.execute_reply": "2025-08-05T16:14:11.447109Z"
    },
    "papermill": {
     "duration": 0.114884,
     "end_time": "2025-08-05T16:14:11.450184",
     "exception": false,
     "start_time": "2025-08-05T16:14:11.335300",
     "status": "completed"
    },
    "tags": []
   },
   "outputs": [],
   "source": [
    "from sklearn.linear_model import LogisticRegression\n",
    "from sklearn.ensemble import GradientBoostingClassifier, RandomForestClassifier\n",
    "\n",
    "if (universe[\"model\"] == \"logreg\"):\n",
    "    model = LogisticRegression() #penalty=\"none\", solver=\"newton-cg\", max_iter=1) # include random_state=19 ?\n",
    "elif (universe[\"model\"] == \"penalized_logreg\"):\n",
    "    model = LogisticRegression(penalty=\"l2\", C=0.1) #, solver=\"newton-cg\", max_iter=1)\n",
    "elif (universe[\"model\"] == \"rf\"):\n",
    "    model = RandomForestClassifier() # n_estimators=100, n_jobs=-1\n",
    "elif (universe[\"model\"] == \"gbm\"):\n",
    "    model = GradientBoostingClassifier()\n",
    "elif (universe[\"model\"] == \"elasticnet\"):\n",
    "    model = LogisticRegression(penalty = 'elasticnet', solver = 'saga', l1_ratio = 0.5) # max_iter=5000\n",
    "else:\n",
    "    raise \"Unsupported universe.model\""
   ]
  },
  {
   "cell_type": "code",
   "execution_count": 31,
   "id": "0cc8f744",
   "metadata": {
    "execution": {
     "iopub.execute_input": "2025-08-05T16:14:11.492892Z",
     "iopub.status.busy": "2025-08-05T16:14:11.492374Z",
     "iopub.status.idle": "2025-08-05T16:14:11.498988Z",
     "shell.execute_reply": "2025-08-05T16:14:11.498037Z"
    },
    "papermill": {
     "duration": 0.029371,
     "end_time": "2025-08-05T16:14:11.500748",
     "exception": false,
     "start_time": "2025-08-05T16:14:11.471377",
     "status": "completed"
    },
    "tags": []
   },
   "outputs": [],
   "source": [
    "import numpy as np\n",
    "from sklearn.pipeline import Pipeline\n",
    "from sklearn.preprocessing import StandardScaler\n",
    "\n",
    "model = Pipeline([\n",
    "    #(\"continuous_processor\", continuous_processor),\n",
    "    #(\"categorical_preprocessor\", categorical_preprocessor),\n",
    "    (\"scale\", StandardScaler() if universe[\"scale\"] == \"scale\" else None), \n",
    "    (\"model\", model),\n",
    "])"
   ]
  },
  {
   "cell_type": "code",
   "execution_count": 32,
   "id": "9442c04d",
   "metadata": {
    "execution": {
     "iopub.execute_input": "2025-08-05T16:14:11.542112Z",
     "iopub.status.busy": "2025-08-05T16:14:11.541234Z",
     "iopub.status.idle": "2025-08-05T16:14:11.910813Z",
     "shell.execute_reply": "2025-08-05T16:14:11.909807Z"
    },
    "papermill": {
     "duration": 0.393599,
     "end_time": "2025-08-05T16:14:11.913772",
     "exception": false,
     "start_time": "2025-08-05T16:14:11.520173",
     "status": "completed"
    },
    "tags": []
   },
   "outputs": [
    {
     "name": "stderr",
     "output_type": "stream",
     "text": [
      "/dss/dsshome1/0C/ra93lal2/.local/share/virtualenvs/CMA_Fairness_v2-3j10GkSs/lib/python3.10/site-packages/sklearn/linear_model/_sag.py:350: ConvergenceWarning: The max_iter was reached which means the coef_ did not converge\n",
      "  warnings.warn(\n"
     ]
    },
    {
     "data": {
      "text/html": [
       "<style>#sk-container-id-1 {color: black;background-color: white;}#sk-container-id-1 pre{padding: 0;}#sk-container-id-1 div.sk-toggleable {background-color: white;}#sk-container-id-1 label.sk-toggleable__label {cursor: pointer;display: block;width: 100%;margin-bottom: 0;padding: 0.3em;box-sizing: border-box;text-align: center;}#sk-container-id-1 label.sk-toggleable__label-arrow:before {content: \"▸\";float: left;margin-right: 0.25em;color: #696969;}#sk-container-id-1 label.sk-toggleable__label-arrow:hover:before {color: black;}#sk-container-id-1 div.sk-estimator:hover label.sk-toggleable__label-arrow:before {color: black;}#sk-container-id-1 div.sk-toggleable__content {max-height: 0;max-width: 0;overflow: hidden;text-align: left;background-color: #f0f8ff;}#sk-container-id-1 div.sk-toggleable__content pre {margin: 0.2em;color: black;border-radius: 0.25em;background-color: #f0f8ff;}#sk-container-id-1 input.sk-toggleable__control:checked~div.sk-toggleable__content {max-height: 200px;max-width: 100%;overflow: auto;}#sk-container-id-1 input.sk-toggleable__control:checked~label.sk-toggleable__label-arrow:before {content: \"▾\";}#sk-container-id-1 div.sk-estimator input.sk-toggleable__control:checked~label.sk-toggleable__label {background-color: #d4ebff;}#sk-container-id-1 div.sk-label input.sk-toggleable__control:checked~label.sk-toggleable__label {background-color: #d4ebff;}#sk-container-id-1 input.sk-hidden--visually {border: 0;clip: rect(1px 1px 1px 1px);clip: rect(1px, 1px, 1px, 1px);height: 1px;margin: -1px;overflow: hidden;padding: 0;position: absolute;width: 1px;}#sk-container-id-1 div.sk-estimator {font-family: monospace;background-color: #f0f8ff;border: 1px dotted black;border-radius: 0.25em;box-sizing: border-box;margin-bottom: 0.5em;}#sk-container-id-1 div.sk-estimator:hover {background-color: #d4ebff;}#sk-container-id-1 div.sk-parallel-item::after {content: \"\";width: 100%;border-bottom: 1px solid gray;flex-grow: 1;}#sk-container-id-1 div.sk-label:hover label.sk-toggleable__label {background-color: #d4ebff;}#sk-container-id-1 div.sk-serial::before {content: \"\";position: absolute;border-left: 1px solid gray;box-sizing: border-box;top: 0;bottom: 0;left: 50%;z-index: 0;}#sk-container-id-1 div.sk-serial {display: flex;flex-direction: column;align-items: center;background-color: white;padding-right: 0.2em;padding-left: 0.2em;position: relative;}#sk-container-id-1 div.sk-item {position: relative;z-index: 1;}#sk-container-id-1 div.sk-parallel {display: flex;align-items: stretch;justify-content: center;background-color: white;position: relative;}#sk-container-id-1 div.sk-item::before, #sk-container-id-1 div.sk-parallel-item::before {content: \"\";position: absolute;border-left: 1px solid gray;box-sizing: border-box;top: 0;bottom: 0;left: 50%;z-index: -1;}#sk-container-id-1 div.sk-parallel-item {display: flex;flex-direction: column;z-index: 1;position: relative;background-color: white;}#sk-container-id-1 div.sk-parallel-item:first-child::after {align-self: flex-end;width: 50%;}#sk-container-id-1 div.sk-parallel-item:last-child::after {align-self: flex-start;width: 50%;}#sk-container-id-1 div.sk-parallel-item:only-child::after {width: 0;}#sk-container-id-1 div.sk-dashed-wrapped {border: 1px dashed gray;margin: 0 0.4em 0.5em 0.4em;box-sizing: border-box;padding-bottom: 0.4em;background-color: white;}#sk-container-id-1 div.sk-label label {font-family: monospace;font-weight: bold;display: inline-block;line-height: 1.2em;}#sk-container-id-1 div.sk-label-container {text-align: center;}#sk-container-id-1 div.sk-container {/* jupyter's `normalize.less` sets `[hidden] { display: none; }` but bootstrap.min.css set `[hidden] { display: none !important; }` so we also need the `!important` here to be able to override the default hidden behavior on the sphinx rendered scikit-learn.org. See: https://github.com/scikit-learn/scikit-learn/issues/21755 */display: inline-block !important;position: relative;}#sk-container-id-1 div.sk-text-repr-fallback {display: none;}</style><div id=\"sk-container-id-1\" class=\"sk-top-container\"><div class=\"sk-text-repr-fallback\"><pre>Pipeline(steps=[(&#x27;scale&#x27;, None),\n",
       "                (&#x27;model&#x27;,\n",
       "                 LogisticRegression(l1_ratio=0.5, penalty=&#x27;elasticnet&#x27;,\n",
       "                                    solver=&#x27;saga&#x27;))])</pre><b>In a Jupyter environment, please rerun this cell to show the HTML representation or trust the notebook. <br />On GitHub, the HTML representation is unable to render, please try loading this page with nbviewer.org.</b></div><div class=\"sk-container\" hidden><div class=\"sk-item sk-dashed-wrapped\"><div class=\"sk-label-container\"><div class=\"sk-label sk-toggleable\"><input class=\"sk-toggleable__control sk-hidden--visually\" id=\"sk-estimator-id-1\" type=\"checkbox\" ><label for=\"sk-estimator-id-1\" class=\"sk-toggleable__label sk-toggleable__label-arrow\">Pipeline</label><div class=\"sk-toggleable__content\"><pre>Pipeline(steps=[(&#x27;scale&#x27;, None),\n",
       "                (&#x27;model&#x27;,\n",
       "                 LogisticRegression(l1_ratio=0.5, penalty=&#x27;elasticnet&#x27;,\n",
       "                                    solver=&#x27;saga&#x27;))])</pre></div></div></div><div class=\"sk-serial\"><div class=\"sk-item\"><div class=\"sk-estimator sk-toggleable\"><input class=\"sk-toggleable__control sk-hidden--visually\" id=\"sk-estimator-id-2\" type=\"checkbox\" ><label for=\"sk-estimator-id-2\" class=\"sk-toggleable__label sk-toggleable__label-arrow\">None</label><div class=\"sk-toggleable__content\"><pre>None</pre></div></div></div><div class=\"sk-item\"><div class=\"sk-estimator sk-toggleable\"><input class=\"sk-toggleable__control sk-hidden--visually\" id=\"sk-estimator-id-3\" type=\"checkbox\" ><label for=\"sk-estimator-id-3\" class=\"sk-toggleable__label sk-toggleable__label-arrow\">LogisticRegression</label><div class=\"sk-toggleable__content\"><pre>LogisticRegression(l1_ratio=0.5, penalty=&#x27;elasticnet&#x27;, solver=&#x27;saga&#x27;)</pre></div></div></div></div></div></div></div>"
      ],
      "text/plain": [
       "Pipeline(steps=[('scale', None),\n",
       "                ('model',\n",
       "                 LogisticRegression(l1_ratio=0.5, penalty='elasticnet',\n",
       "                                    solver='saga'))])"
      ]
     },
     "execution_count": 32,
     "metadata": {},
     "output_type": "execute_result"
    }
   ],
   "source": [
    "model.fit(X_train, y_train.values.ravel())"
   ]
  },
  {
   "cell_type": "code",
   "execution_count": 33,
   "id": "af59f8c0",
   "metadata": {
    "execution": {
     "iopub.execute_input": "2025-08-05T16:14:11.954010Z",
     "iopub.status.busy": "2025-08-05T16:14:11.953492Z",
     "iopub.status.idle": "2025-08-05T16:14:11.958793Z",
     "shell.execute_reply": "2025-08-05T16:14:11.957851Z"
    },
    "papermill": {
     "duration": 0.026982,
     "end_time": "2025-08-05T16:14:11.960723",
     "exception": false,
     "start_time": "2025-08-05T16:14:11.933741",
     "status": "completed"
    },
    "tags": []
   },
   "outputs": [],
   "source": [
    "from fairness_multiverse.universe import predict_w_threshold"
   ]
  },
  {
   "cell_type": "code",
   "execution_count": 34,
   "id": "a7cf2e16",
   "metadata": {
    "execution": {
     "iopub.execute_input": "2025-08-05T16:14:12.000798Z",
     "iopub.status.busy": "2025-08-05T16:14:12.000335Z",
     "iopub.status.idle": "2025-08-05T16:14:12.097397Z",
     "shell.execute_reply": "2025-08-05T16:14:12.096281Z"
    },
    "papermill": {
     "duration": 0.119791,
     "end_time": "2025-08-05T16:14:12.099352",
     "exception": false,
     "start_time": "2025-08-05T16:14:11.979561",
     "status": "completed"
    },
    "tags": []
   },
   "outputs": [
    {
     "data": {
      "text/plain": [
       "0.8484672834689555"
      ]
     },
     "execution_count": 34,
     "metadata": {},
     "output_type": "execute_result"
    }
   ],
   "source": [
    "probs_test = model.predict_proba(X_test)\n",
    "\n",
    "'''\n",
    "Below code returns a boolean array (or binary 0/1 array depending on how it’s used) where each element \n",
    "is True if the probability of class 1 is greater than or equal to the threshold, and False otherwise.\n",
    "'''\n",
    "y_pred_default = predict_w_threshold(probs_test, 0.5)\n",
    "\n",
    "from sklearn.metrics import accuracy_score\n",
    "\n",
    "# Naive prediction\n",
    "accuracy_score(y_true = y_true, y_pred = y_pred_default)"
   ]
  },
  {
   "cell_type": "code",
   "execution_count": 35,
   "id": "081964c3",
   "metadata": {
    "execution": {
     "iopub.execute_input": "2025-08-05T16:14:12.131795Z",
     "iopub.status.busy": "2025-08-05T16:14:12.131319Z",
     "iopub.status.idle": "2025-08-05T16:14:12.215928Z",
     "shell.execute_reply": "2025-08-05T16:14:12.214654Z"
    },
    "papermill": {
     "duration": 0.101162,
     "end_time": "2025-08-05T16:14:12.218200",
     "exception": false,
     "start_time": "2025-08-05T16:14:12.117038",
     "status": "completed"
    },
    "tags": []
   },
   "outputs": [
    {
     "data": {
      "text/plain": [
       "array([0, 0, 0, ..., 0, 0, 0])"
      ]
     },
     "execution_count": 35,
     "metadata": {},
     "output_type": "execute_result"
    }
   ],
   "source": [
    "model.predict(X_test)"
   ]
  },
  {
   "cell_type": "markdown",
   "id": "56c9705b",
   "metadata": {
    "papermill": {
     "duration": 0.022961,
     "end_time": "2025-08-05T16:14:12.267961",
     "exception": false,
     "start_time": "2025-08-05T16:14:12.245000",
     "status": "completed"
    },
    "tags": []
   },
   "source": [
    "# Conformal Prediction"
   ]
  },
  {
   "cell_type": "code",
   "execution_count": 36,
   "id": "160ec6ff",
   "metadata": {
    "execution": {
     "iopub.execute_input": "2025-08-05T16:14:12.317982Z",
     "iopub.status.busy": "2025-08-05T16:14:12.317491Z",
     "iopub.status.idle": "2025-08-05T16:14:12.322430Z",
     "shell.execute_reply": "2025-08-05T16:14:12.321493Z"
    },
    "papermill": {
     "duration": 0.031514,
     "end_time": "2025-08-05T16:14:12.324026",
     "exception": false,
     "start_time": "2025-08-05T16:14:12.292512",
     "status": "completed"
    },
    "tags": []
   },
   "outputs": [],
   "source": [
    "# Miscoverage level for conformal prediction (10% allowed error rate => 90% target coverage)\n",
    "alpha = 0.1"
   ]
  },
  {
   "cell_type": "code",
   "execution_count": 37,
   "id": "eadf4555-3dd3-440e-8e35-f82a4ad9f855",
   "metadata": {
    "execution": {
     "iopub.execute_input": "2025-08-05T16:14:12.352512Z",
     "iopub.status.busy": "2025-08-05T16:14:12.352109Z",
     "iopub.status.idle": "2025-08-05T16:14:12.435805Z",
     "shell.execute_reply": "2025-08-05T16:14:12.434594Z"
    },
    "papermill": {
     "duration": 0.099855,
     "end_time": "2025-08-05T16:14:12.437683",
     "exception": false,
     "start_time": "2025-08-05T16:14:12.337828",
     "status": "completed"
    },
    "tags": []
   },
   "outputs": [],
   "source": [
    "probs_calib = model.predict_proba(X_calib)"
   ]
  },
  {
   "cell_type": "code",
   "execution_count": 38,
   "id": "2ed93547-6d5d-4983-9b36-1ecb300da49a",
   "metadata": {
    "execution": {
     "iopub.execute_input": "2025-08-05T16:14:12.490352Z",
     "iopub.status.busy": "2025-08-05T16:14:12.489751Z",
     "iopub.status.idle": "2025-08-05T16:14:12.495986Z",
     "shell.execute_reply": "2025-08-05T16:14:12.494808Z"
    },
    "papermill": {
     "duration": 0.033999,
     "end_time": "2025-08-05T16:14:12.497733",
     "exception": false,
     "start_time": "2025-08-05T16:14:12.463734",
     "status": "completed"
    },
    "tags": []
   },
   "outputs": [],
   "source": [
    "y_calib = y_calib.values.ravel().astype(int)"
   ]
  },
  {
   "cell_type": "code",
   "execution_count": 39,
   "id": "65d1320d-f588-4b38-9072-62af1ae97f7d",
   "metadata": {
    "execution": {
     "iopub.execute_input": "2025-08-05T16:14:12.549443Z",
     "iopub.status.busy": "2025-08-05T16:14:12.548701Z",
     "iopub.status.idle": "2025-08-05T16:14:12.557294Z",
     "shell.execute_reply": "2025-08-05T16:14:12.556141Z"
    },
    "papermill": {
     "duration": 0.03772,
     "end_time": "2025-08-05T16:14:12.559227",
     "exception": false,
     "start_time": "2025-08-05T16:14:12.521507",
     "status": "completed"
    },
    "tags": []
   },
   "outputs": [],
   "source": [
    "from fairness_multiverse.conformal import compute_nc_scores\n",
    "\n",
    "# Compute nonconformity scores on calibration set (1 - probability of true class)\n",
    "nc_scores = compute_nc_scores(probs_calib, y_calib)"
   ]
  },
  {
   "cell_type": "code",
   "execution_count": 40,
   "id": "df3b8ca3-53b7-43d5-9667-7c85da7aeda2",
   "metadata": {
    "execution": {
     "iopub.execute_input": "2025-08-05T16:14:12.608590Z",
     "iopub.status.busy": "2025-08-05T16:14:12.607676Z",
     "iopub.status.idle": "2025-08-05T16:14:12.615141Z",
     "shell.execute_reply": "2025-08-05T16:14:12.614066Z"
    },
    "papermill": {
     "duration": 0.033871,
     "end_time": "2025-08-05T16:14:12.617005",
     "exception": false,
     "start_time": "2025-08-05T16:14:12.583134",
     "status": "completed"
    },
    "tags": []
   },
   "outputs": [],
   "source": [
    "from fairness_multiverse.conformal import find_threshold\n",
    "\n",
    "# Find conformal threshold q_hat for the given alpha (split conformal method)\n",
    "q_hat = find_threshold(nc_scores, alpha)"
   ]
  },
  {
   "cell_type": "code",
   "execution_count": 41,
   "id": "4d29e6c1-0ef6-4aa4-b8fe-4fe79b0d033a",
   "metadata": {
    "execution": {
     "iopub.execute_input": "2025-08-05T16:14:12.667126Z",
     "iopub.status.busy": "2025-08-05T16:14:12.666115Z",
     "iopub.status.idle": "2025-08-05T16:14:12.674587Z",
     "shell.execute_reply": "2025-08-05T16:14:12.673465Z"
    },
    "papermill": {
     "duration": 0.034829,
     "end_time": "2025-08-05T16:14:12.676500",
     "exception": false,
     "start_time": "2025-08-05T16:14:12.641671",
     "status": "completed"
    },
    "tags": []
   },
   "outputs": [
    {
     "data": {
      "text/plain": [
       "0.622696790379228"
      ]
     },
     "execution_count": 41,
     "metadata": {},
     "output_type": "execute_result"
    }
   ],
   "source": [
    "q_hat"
   ]
  },
  {
   "cell_type": "code",
   "execution_count": 42,
   "id": "92460794-cdac-4be2-ba28-f28c0515a6fb",
   "metadata": {
    "execution": {
     "iopub.execute_input": "2025-08-05T16:14:12.729002Z",
     "iopub.status.busy": "2025-08-05T16:14:12.728117Z",
     "iopub.status.idle": "2025-08-05T16:14:13.419541Z",
     "shell.execute_reply": "2025-08-05T16:14:13.418649Z"
    },
    "papermill": {
     "duration": 0.719657,
     "end_time": "2025-08-05T16:14:13.421707",
     "exception": false,
     "start_time": "2025-08-05T16:14:12.702050",
     "status": "completed"
    },
    "tags": []
   },
   "outputs": [],
   "source": [
    "from fairness_multiverse.conformal import predict_conformal_sets\n",
    "\n",
    "# Generate prediction sets for each test example\n",
    "pred_sets = predict_conformal_sets(model, X_test, q_hat)"
   ]
  },
  {
   "cell_type": "code",
   "execution_count": 43,
   "id": "d90c9a65-e6db-4f5d-80cd-e68fb7e46829",
   "metadata": {
    "execution": {
     "iopub.execute_input": "2025-08-05T16:14:13.478740Z",
     "iopub.status.busy": "2025-08-05T16:14:13.477879Z",
     "iopub.status.idle": "2025-08-05T16:14:13.484392Z",
     "shell.execute_reply": "2025-08-05T16:14:13.483280Z"
    },
    "papermill": {
     "duration": 0.02297,
     "end_time": "2025-08-05T16:14:13.486378",
     "exception": false,
     "start_time": "2025-08-05T16:14:13.463408",
     "status": "completed"
    },
    "tags": []
   },
   "outputs": [],
   "source": [
    "y_true = y_true.squeeze()"
   ]
  },
  {
   "cell_type": "code",
   "execution_count": 44,
   "id": "3a58a54a-1e68-46b9-927a-df01f18aebc8",
   "metadata": {
    "execution": {
     "iopub.execute_input": "2025-08-05T16:14:13.539589Z",
     "iopub.status.busy": "2025-08-05T16:14:13.538500Z",
     "iopub.status.idle": "2025-08-05T16:14:14.874061Z",
     "shell.execute_reply": "2025-08-05T16:14:14.872884Z"
    },
    "papermill": {
     "duration": 1.364322,
     "end_time": "2025-08-05T16:14:14.876308",
     "exception": false,
     "start_time": "2025-08-05T16:14:13.511986",
     "status": "completed"
    },
    "tags": []
   },
   "outputs": [],
   "source": [
    "from fairness_multiverse.conformal import evaluate_sets\n",
    "\n",
    "# Evaluate coverage and average set size on test data\n",
    "metrics = evaluate_sets(pred_sets, y_true)"
   ]
  },
  {
   "cell_type": "markdown",
   "id": "2b569c12-9aaa-4c88-98c9-bbcd0cf3ebb8",
   "metadata": {
    "papermill": {
     "duration": 0.0253,
     "end_time": "2025-08-05T16:14:14.928788",
     "exception": false,
     "start_time": "2025-08-05T16:14:14.903488",
     "status": "completed"
    },
    "tags": []
   },
   "source": [
    "# CP Metrics"
   ]
  },
  {
   "cell_type": "code",
   "execution_count": 45,
   "id": "5ce0a5cb-201f-45a0-ade5-94c7f0bd6095",
   "metadata": {
    "execution": {
     "iopub.execute_input": "2025-08-05T16:14:14.979775Z",
     "iopub.status.busy": "2025-08-05T16:14:14.978684Z",
     "iopub.status.idle": "2025-08-05T16:14:14.987593Z",
     "shell.execute_reply": "2025-08-05T16:14:14.986484Z"
    },
    "papermill": {
     "duration": 0.037955,
     "end_time": "2025-08-05T16:14:14.990911",
     "exception": false,
     "start_time": "2025-08-05T16:14:14.952956",
     "status": "completed"
    },
    "tags": []
   },
   "outputs": [
    {
     "data": {
      "text/plain": [
       "{'coverage': 0.9127410545089734, 'avg_size': 1.2859213019730242}"
      ]
     },
     "execution_count": 45,
     "metadata": {},
     "output_type": "execute_result"
    }
   ],
   "source": [
    "metrics"
   ]
  },
  {
   "cell_type": "code",
   "execution_count": 46,
   "id": "9b9a838d-31c9-430b-ae14-12baee460d17",
   "metadata": {
    "execution": {
     "iopub.execute_input": "2025-08-05T16:14:15.042834Z",
     "iopub.status.busy": "2025-08-05T16:14:15.042174Z",
     "iopub.status.idle": "2025-08-05T16:14:15.050234Z",
     "shell.execute_reply": "2025-08-05T16:14:15.049053Z"
    },
    "papermill": {
     "duration": 0.035817,
     "end_time": "2025-08-05T16:14:15.052210",
     "exception": false,
     "start_time": "2025-08-05T16:14:15.016393",
     "status": "completed"
    },
    "tags": []
   },
   "outputs": [],
   "source": [
    "example_universe = universe.copy()\n",
    "universe_training_year = example_universe.get(\"training_year\")\n",
    "universe_training_size = example_universe.get(\"training_size\")\n",
    "universe_scale = example_universe.get(\"scale\")\n",
    "universe_model = example_universe.get(\"model\")\n",
    "universe_exclude_features = example_universe.get(\"exclude_features\")\n",
    "universe_exclude_subgroups = example_universe.get(\"exclude_subgroups\")"
   ]
  },
  {
   "cell_type": "code",
   "execution_count": 47,
   "id": "f4b6a8ac-9dc0-4245-8a91-5b3b5999c4f9",
   "metadata": {
    "execution": {
     "iopub.execute_input": "2025-08-05T16:14:15.105721Z",
     "iopub.status.busy": "2025-08-05T16:14:15.104653Z",
     "iopub.status.idle": "2025-08-05T16:14:15.112220Z",
     "shell.execute_reply": "2025-08-05T16:14:15.111184Z"
    },
    "papermill": {
     "duration": 0.03554,
     "end_time": "2025-08-05T16:14:15.114238",
     "exception": false,
     "start_time": "2025-08-05T16:14:15.078698",
     "status": "completed"
    },
    "tags": []
   },
   "outputs": [],
   "source": [
    "cp_metrics_dict = {\n",
    "    \"universe_id\": [universe_id],\n",
    "    \"universe_training_year\": [universe_training_year],\n",
    "    \"universe_training_size\": [universe_training_size],\n",
    "    \"universe_scale\": [universe_scale],\n",
    "    \"universe_model\": [universe_model],\n",
    "    \"universe_exclude_features\": [universe_exclude_features],\n",
    "    \"universe_exclude_subgroups\": [universe_exclude_subgroups],\n",
    "    \"q_hat\": [q_hat],\n",
    "    \"coverage\": [metrics[\"coverage\"]],\n",
    "    \"avg_size\": [metrics[\"avg_size\"]],\n",
    "}"
   ]
  },
  {
   "cell_type": "code",
   "execution_count": 48,
   "id": "908acbb1-0371-4915-85ca-3fa520d2efe2",
   "metadata": {
    "execution": {
     "iopub.execute_input": "2025-08-05T16:14:15.167649Z",
     "iopub.status.busy": "2025-08-05T16:14:15.166740Z",
     "iopub.status.idle": "2025-08-05T16:14:15.175889Z",
     "shell.execute_reply": "2025-08-05T16:14:15.174808Z"
    },
    "papermill": {
     "duration": 0.037893,
     "end_time": "2025-08-05T16:14:15.177767",
     "exception": false,
     "start_time": "2025-08-05T16:14:15.139874",
     "status": "completed"
    },
    "tags": []
   },
   "outputs": [
    {
     "data": {
      "text/plain": [
       "{'universe_id': ['523b4d52292fbf0322ce0d3ad7b649bd'],\n",
       " 'universe_training_year': ['2014'],\n",
       " 'universe_training_size': ['1k'],\n",
       " 'universe_scale': ['do-not-scale'],\n",
       " 'universe_model': ['elasticnet'],\n",
       " 'universe_exclude_features': ['none'],\n",
       " 'universe_exclude_subgroups': ['drop-non-german'],\n",
       " 'q_hat': [0.622696790379228],\n",
       " 'coverage': [0.9127410545089734],\n",
       " 'avg_size': [1.2859213019730242]}"
      ]
     },
     "execution_count": 48,
     "metadata": {},
     "output_type": "execute_result"
    }
   ],
   "source": [
    "cp_metrics_dict"
   ]
  },
  {
   "cell_type": "code",
   "execution_count": 49,
   "id": "33007efc-14e9-4ec6-97ac-56a455c82265",
   "metadata": {
    "execution": {
     "iopub.execute_input": "2025-08-05T16:14:15.230909Z",
     "iopub.status.busy": "2025-08-05T16:14:15.229895Z",
     "iopub.status.idle": "2025-08-05T16:14:15.237382Z",
     "shell.execute_reply": "2025-08-05T16:14:15.236214Z"
    },
    "papermill": {
     "duration": 0.036737,
     "end_time": "2025-08-05T16:14:15.239344",
     "exception": false,
     "start_time": "2025-08-05T16:14:15.202607",
     "status": "completed"
    },
    "tags": []
   },
   "outputs": [],
   "source": [
    "cp_metrics_df = pd.DataFrame(cp_metrics_dict)"
   ]
  },
  {
   "cell_type": "code",
   "execution_count": 50,
   "id": "db12611b-57b2-4910-b9d0-355adfd6e7bf",
   "metadata": {
    "execution": {
     "iopub.execute_input": "2025-08-05T16:14:15.291918Z",
     "iopub.status.busy": "2025-08-05T16:14:15.290944Z",
     "iopub.status.idle": "2025-08-05T16:14:15.312731Z",
     "shell.execute_reply": "2025-08-05T16:14:15.311635Z"
    },
    "papermill": {
     "duration": 0.049814,
     "end_time": "2025-08-05T16:14:15.314641",
     "exception": false,
     "start_time": "2025-08-05T16:14:15.264827",
     "status": "completed"
    },
    "tags": []
   },
   "outputs": [
    {
     "data": {
      "text/html": [
       "<div>\n",
       "<style scoped>\n",
       "    .dataframe tbody tr th:only-of-type {\n",
       "        vertical-align: middle;\n",
       "    }\n",
       "\n",
       "    .dataframe tbody tr th {\n",
       "        vertical-align: top;\n",
       "    }\n",
       "\n",
       "    .dataframe thead th {\n",
       "        text-align: right;\n",
       "    }\n",
       "</style>\n",
       "<table border=\"1\" class=\"dataframe\">\n",
       "  <thead>\n",
       "    <tr style=\"text-align: right;\">\n",
       "      <th></th>\n",
       "      <th>universe_id</th>\n",
       "      <th>universe_training_year</th>\n",
       "      <th>universe_training_size</th>\n",
       "      <th>universe_scale</th>\n",
       "      <th>universe_model</th>\n",
       "      <th>universe_exclude_features</th>\n",
       "      <th>universe_exclude_subgroups</th>\n",
       "      <th>q_hat</th>\n",
       "      <th>coverage</th>\n",
       "      <th>avg_size</th>\n",
       "    </tr>\n",
       "  </thead>\n",
       "  <tbody>\n",
       "    <tr>\n",
       "      <th>0</th>\n",
       "      <td>523b4d52292fbf0322ce0d3ad7b649bd</td>\n",
       "      <td>2014</td>\n",
       "      <td>1k</td>\n",
       "      <td>do-not-scale</td>\n",
       "      <td>elasticnet</td>\n",
       "      <td>none</td>\n",
       "      <td>drop-non-german</td>\n",
       "      <td>0.622697</td>\n",
       "      <td>0.912741</td>\n",
       "      <td>1.285921</td>\n",
       "    </tr>\n",
       "  </tbody>\n",
       "</table>\n",
       "</div>"
      ],
      "text/plain": [
       "                        universe_id universe_training_year  \\\n",
       "0  523b4d52292fbf0322ce0d3ad7b649bd                   2014   \n",
       "\n",
       "  universe_training_size universe_scale universe_model  \\\n",
       "0                     1k   do-not-scale     elasticnet   \n",
       "\n",
       "  universe_exclude_features universe_exclude_subgroups     q_hat  coverage  \\\n",
       "0                      none            drop-non-german  0.622697  0.912741   \n",
       "\n",
       "   avg_size  \n",
       "0  1.285921  "
      ]
     },
     "execution_count": 50,
     "metadata": {},
     "output_type": "execute_result"
    }
   ],
   "source": [
    "cp_metrics_df"
   ]
  },
  {
   "cell_type": "code",
   "execution_count": 51,
   "id": "b7fbde55-a0a1-47e4-9af6-fe4a17fa8c61",
   "metadata": {
    "execution": {
     "iopub.execute_input": "2025-08-05T16:14:15.369428Z",
     "iopub.status.busy": "2025-08-05T16:14:15.368453Z",
     "iopub.status.idle": "2025-08-05T16:14:15.374998Z",
     "shell.execute_reply": "2025-08-05T16:14:15.373864Z"
    },
    "papermill": {
     "duration": 0.035421,
     "end_time": "2025-08-05T16:14:15.376993",
     "exception": false,
     "start_time": "2025-08-05T16:14:15.341572",
     "status": "completed"
    },
    "tags": []
   },
   "outputs": [],
   "source": [
    "# Conditional Coverage & looking at subgroups"
   ]
  },
  {
   "cell_type": "code",
   "execution_count": 52,
   "id": "027ae886-68dd-4141-96c7-805a5450e1ef",
   "metadata": {
    "execution": {
     "iopub.execute_input": "2025-08-05T16:14:15.432327Z",
     "iopub.status.busy": "2025-08-05T16:14:15.431356Z",
     "iopub.status.idle": "2025-08-05T16:14:15.731133Z",
     "shell.execute_reply": "2025-08-05T16:14:15.729943Z"
    },
    "papermill": {
     "duration": 0.330036,
     "end_time": "2025-08-05T16:14:15.733424",
     "exception": false,
     "start_time": "2025-08-05T16:14:15.403388",
     "status": "completed"
    },
    "tags": []
   },
   "outputs": [],
   "source": [
    "from fairness_multiverse.conformal import build_cp_groups\n",
    "\n",
    "cp_groups_df = build_cp_groups(pred_sets, y_true, X_test.index, org_test)\n",
    "#needs universe_id and setting"
   ]
  },
  {
   "cell_type": "code",
   "execution_count": 53,
   "id": "6cbdab96-b2b2-45af-ad54-d0516db2e28d",
   "metadata": {
    "execution": {
     "iopub.execute_input": "2025-08-05T16:14:15.788960Z",
     "iopub.status.busy": "2025-08-05T16:14:15.788441Z",
     "iopub.status.idle": "2025-08-05T16:14:17.861026Z",
     "shell.execute_reply": "2025-08-05T16:14:17.859532Z"
    },
    "papermill": {
     "duration": 2.10242,
     "end_time": "2025-08-05T16:14:17.863447",
     "exception": false,
     "start_time": "2025-08-05T16:14:15.761027",
     "status": "completed"
    },
    "tags": []
   },
   "outputs": [],
   "source": [
    "# Define covered = 1 if true_label is in the predicted set\n",
    "cp_groups_df['covered'] = cp_groups_df.apply(\n",
    "    lambda r: int(r['true_label'] in r['pred_set']),\n",
    "    axis=1\n",
    ")"
   ]
  },
  {
   "cell_type": "code",
   "execution_count": 54,
   "id": "338ff529-1a6b-4b87-a931-8e4788d52aad",
   "metadata": {
    "execution": {
     "iopub.execute_input": "2025-08-05T16:14:17.920045Z",
     "iopub.status.busy": "2025-08-05T16:14:17.918971Z",
     "iopub.status.idle": "2025-08-05T16:14:17.924523Z",
     "shell.execute_reply": "2025-08-05T16:14:17.923410Z"
    },
    "papermill": {
     "duration": 0.035297,
     "end_time": "2025-08-05T16:14:17.926425",
     "exception": false,
     "start_time": "2025-08-05T16:14:17.891128",
     "status": "completed"
    },
    "tags": []
   },
   "outputs": [],
   "source": [
    "#cp_groups_df"
   ]
  },
  {
   "cell_type": "code",
   "execution_count": 55,
   "id": "90032e27-66df-4540-9169-4e89cfbaa758",
   "metadata": {
    "execution": {
     "iopub.execute_input": "2025-08-05T16:14:17.982212Z",
     "iopub.status.busy": "2025-08-05T16:14:17.981743Z",
     "iopub.status.idle": "2025-08-05T16:14:17.995161Z",
     "shell.execute_reply": "2025-08-05T16:14:17.994158Z"
    },
    "papermill": {
     "duration": 0.043387,
     "end_time": "2025-08-05T16:14:17.996961",
     "exception": false,
     "start_time": "2025-08-05T16:14:17.953574",
     "status": "completed"
    },
    "tags": []
   },
   "outputs": [],
   "source": [
    "subgroups = ['frau1','nongerman','nongerman_male','nongerman_female']\n",
    "\n",
    "# Conditional coverage for subgroup==1\n",
    "cond_coverage = {\n",
    "    g: cp_groups_df.loc[cp_groups_df[g]==1, 'covered'].mean()\n",
    "    for g in subgroups\n",
    "}"
   ]
  },
  {
   "cell_type": "code",
   "execution_count": 56,
   "id": "1e348fb1-b9c3-45bc-ba23-f016827a7e0d",
   "metadata": {
    "execution": {
     "iopub.execute_input": "2025-08-05T16:14:18.052487Z",
     "iopub.status.busy": "2025-08-05T16:14:18.051915Z",
     "iopub.status.idle": "2025-08-05T16:14:18.060626Z",
     "shell.execute_reply": "2025-08-05T16:14:18.059439Z"
    },
    "papermill": {
     "duration": 0.03906,
     "end_time": "2025-08-05T16:14:18.062514",
     "exception": false,
     "start_time": "2025-08-05T16:14:18.023454",
     "status": "completed"
    },
    "tags": []
   },
   "outputs": [
    {
     "data": {
      "text/plain": [
       "{'frau1': 0.9119557891899178,\n",
       " 'nongerman': 0.9659799023185314,\n",
       " 'nongerman_male': 0.9728902098531929,\n",
       " 'nongerman_female': 0.9545454545454546}"
      ]
     },
     "execution_count": 56,
     "metadata": {},
     "output_type": "execute_result"
    }
   ],
   "source": [
    "cond_coverage"
   ]
  },
  {
   "cell_type": "code",
   "execution_count": 57,
   "id": "f5093324-c3dd-4d63-bc4c-8d945e5c8bbb",
   "metadata": {
    "execution": {
     "iopub.execute_input": "2025-08-05T16:14:18.117077Z",
     "iopub.status.busy": "2025-08-05T16:14:18.116563Z",
     "iopub.status.idle": "2025-08-05T16:14:18.126091Z",
     "shell.execute_reply": "2025-08-05T16:14:18.124896Z"
    },
    "papermill": {
     "duration": 0.039644,
     "end_time": "2025-08-05T16:14:18.128183",
     "exception": false,
     "start_time": "2025-08-05T16:14:18.088539",
     "status": "completed"
    },
    "tags": []
   },
   "outputs": [],
   "source": [
    "for subgroup, cov in cond_coverage.items():\n",
    "    cp_metrics_df[f\"cov_{subgroup}\"] = cov"
   ]
  },
  {
   "cell_type": "code",
   "execution_count": 58,
   "id": "6e872e10-dbe5-49e8-b554-5030c98ff75d",
   "metadata": {
    "execution": {
     "iopub.execute_input": "2025-08-05T16:14:18.184898Z",
     "iopub.status.busy": "2025-08-05T16:14:18.184299Z",
     "iopub.status.idle": "2025-08-05T16:14:18.219349Z",
     "shell.execute_reply": "2025-08-05T16:14:18.218173Z"
    },
    "papermill": {
     "duration": 0.065533,
     "end_time": "2025-08-05T16:14:18.221472",
     "exception": false,
     "start_time": "2025-08-05T16:14:18.155939",
     "status": "completed"
    },
    "tags": []
   },
   "outputs": [
    {
     "data": {
      "text/html": [
       "<div>\n",
       "<style scoped>\n",
       "    .dataframe tbody tr th:only-of-type {\n",
       "        vertical-align: middle;\n",
       "    }\n",
       "\n",
       "    .dataframe tbody tr th {\n",
       "        vertical-align: top;\n",
       "    }\n",
       "\n",
       "    .dataframe thead th {\n",
       "        text-align: right;\n",
       "    }\n",
       "</style>\n",
       "<table border=\"1\" class=\"dataframe\">\n",
       "  <thead>\n",
       "    <tr style=\"text-align: right;\">\n",
       "      <th></th>\n",
       "      <th>universe_id</th>\n",
       "      <th>universe_training_year</th>\n",
       "      <th>universe_training_size</th>\n",
       "      <th>universe_scale</th>\n",
       "      <th>universe_model</th>\n",
       "      <th>universe_exclude_features</th>\n",
       "      <th>universe_exclude_subgroups</th>\n",
       "      <th>q_hat</th>\n",
       "      <th>coverage</th>\n",
       "      <th>avg_size</th>\n",
       "      <th>cov_frau1</th>\n",
       "      <th>cov_nongerman</th>\n",
       "      <th>cov_nongerman_male</th>\n",
       "      <th>cov_nongerman_female</th>\n",
       "    </tr>\n",
       "  </thead>\n",
       "  <tbody>\n",
       "    <tr>\n",
       "      <th>0</th>\n",
       "      <td>523b4d52292fbf0322ce0d3ad7b649bd</td>\n",
       "      <td>2014</td>\n",
       "      <td>1k</td>\n",
       "      <td>do-not-scale</td>\n",
       "      <td>elasticnet</td>\n",
       "      <td>none</td>\n",
       "      <td>drop-non-german</td>\n",
       "      <td>0.622697</td>\n",
       "      <td>0.912741</td>\n",
       "      <td>1.285921</td>\n",
       "      <td>0.911956</td>\n",
       "      <td>0.96598</td>\n",
       "      <td>0.97289</td>\n",
       "      <td>0.954545</td>\n",
       "    </tr>\n",
       "  </tbody>\n",
       "</table>\n",
       "</div>"
      ],
      "text/plain": [
       "                        universe_id universe_training_year  \\\n",
       "0  523b4d52292fbf0322ce0d3ad7b649bd                   2014   \n",
       "\n",
       "  universe_training_size universe_scale universe_model  \\\n",
       "0                     1k   do-not-scale     elasticnet   \n",
       "\n",
       "  universe_exclude_features universe_exclude_subgroups     q_hat  coverage  \\\n",
       "0                      none            drop-non-german  0.622697  0.912741   \n",
       "\n",
       "   avg_size  cov_frau1  cov_nongerman  cov_nongerman_male  \\\n",
       "0  1.285921   0.911956        0.96598             0.97289   \n",
       "\n",
       "   cov_nongerman_female  \n",
       "0              0.954545  "
      ]
     },
     "execution_count": 58,
     "metadata": {},
     "output_type": "execute_result"
    }
   ],
   "source": [
    "cp_metrics_df"
   ]
  },
  {
   "cell_type": "markdown",
   "id": "33774451",
   "metadata": {
    "papermill": {
     "duration": 0.027604,
     "end_time": "2025-08-05T16:14:18.276552",
     "exception": false,
     "start_time": "2025-08-05T16:14:18.248948",
     "status": "completed"
    },
    "tags": []
   },
   "source": [
    "# (Fairness) Metrics"
   ]
  },
  {
   "cell_type": "code",
   "execution_count": 59,
   "id": "debc5d62",
   "metadata": {
    "execution": {
     "iopub.execute_input": "2025-08-05T16:14:18.334193Z",
     "iopub.status.busy": "2025-08-05T16:14:18.333613Z",
     "iopub.status.idle": "2025-08-05T16:14:18.370287Z",
     "shell.execute_reply": "2025-08-05T16:14:18.357573Z"
    },
    "papermill": {
     "duration": 0.068811,
     "end_time": "2025-08-05T16:14:18.372836",
     "exception": false,
     "start_time": "2025-08-05T16:14:18.304025",
     "status": "completed"
    },
    "tags": []
   },
   "outputs": [],
   "source": [
    "# do I need to include maxdeutsch1.missing?\n",
    "\n",
    "import numpy as np\n",
    "\n",
    "colname_to_bin = \"maxdeutsch1\"\n",
    "majority_value = org_train[colname_to_bin].mode()[0]\n",
    "\n",
    "org_test[\"majmin\"] = np.where(org_test[colname_to_bin] == majority_value, \"majority\", \"minority\")"
   ]
  },
  {
   "cell_type": "code",
   "execution_count": 60,
   "id": "06a50de5",
   "metadata": {
    "execution": {
     "iopub.execute_input": "2025-08-05T16:14:18.433493Z",
     "iopub.status.busy": "2025-08-05T16:14:18.432912Z",
     "iopub.status.idle": "2025-08-05T16:14:21.921138Z",
     "shell.execute_reply": "2025-08-05T16:14:21.919949Z"
    },
    "papermill": {
     "duration": 3.521002,
     "end_time": "2025-08-05T16:14:21.923380",
     "exception": false,
     "start_time": "2025-08-05T16:14:18.402378",
     "status": "completed"
    },
    "tags": []
   },
   "outputs": [],
   "source": [
    "example_universe = universe.copy()\n",
    "example_universe[\"cutoff\"] = example_universe[\"cutoff\"][0]\n",
    "example_universe[\"eval_fairness_grouping\"] = example_universe[\"eval_fairness_grouping\"][0]\n",
    "fairness_dict, metric_frame = universe_analysis.compute_metrics(\n",
    "    example_universe,\n",
    "    y_pred_prob=probs_test,\n",
    "    y_test=y_true,\n",
    "    org_test=org_test,\n",
    ")"
   ]
  },
  {
   "cell_type": "markdown",
   "id": "f95d4e02",
   "metadata": {
    "papermill": {
     "duration": 0.027828,
     "end_time": "2025-08-05T16:14:21.980639",
     "exception": false,
     "start_time": "2025-08-05T16:14:21.952811",
     "status": "completed"
    },
    "tags": []
   },
   "source": [
    "# Overall"
   ]
  },
  {
   "cell_type": "markdown",
   "id": "bdee4871",
   "metadata": {
    "papermill": {
     "duration": 0.026394,
     "end_time": "2025-08-05T16:14:22.034607",
     "exception": false,
     "start_time": "2025-08-05T16:14:22.008213",
     "status": "completed"
    },
    "tags": []
   },
   "source": [
    "Fairness\n",
    "Main fairness target: Equalized Odds. Seems to be a better fit than equal opportunity, since we're not only interested in Y = 1. Seems to be a better fit than demographic parity, since we also care about accuracy, not just equal distribution of preds.\n",
    "\n",
    "Pick column for computation of fairness metrics\n",
    "\n",
    "Performance\n",
    "Overall performance measures, most interesting in relation to the measures split by group below"
   ]
  },
  {
   "cell_type": "code",
   "execution_count": 61,
   "id": "c4e067c6",
   "metadata": {
    "execution": {
     "iopub.execute_input": "2025-08-05T16:14:22.091603Z",
     "iopub.status.busy": "2025-08-05T16:14:22.090857Z",
     "iopub.status.idle": "2025-08-05T16:14:22.100866Z",
     "shell.execute_reply": "2025-08-05T16:14:22.099858Z"
    },
    "papermill": {
     "duration": 0.040436,
     "end_time": "2025-08-05T16:14:22.102776",
     "exception": false,
     "start_time": "2025-08-05T16:14:22.062340",
     "status": "completed"
    },
    "tags": []
   },
   "outputs": [
    {
     "data": {
      "text/plain": [
       "accuracy                   0.212607\n",
       "balanced accuracy          0.522319\n",
       "f1                         0.234262\n",
       "precision                  0.133826\n",
       "false positive rate        0.894274\n",
       "false negative rate        0.061088\n",
       "selection rate             0.900000\n",
       "count                  89710.000000\n",
       "dtype: float64"
      ]
     },
     "execution_count": 61,
     "metadata": {},
     "output_type": "execute_result"
    }
   ],
   "source": [
    "metric_frame.overall"
   ]
  },
  {
   "cell_type": "markdown",
   "id": "e968fe9d",
   "metadata": {
    "papermill": {
     "duration": 0.027864,
     "end_time": "2025-08-05T16:14:22.158815",
     "exception": false,
     "start_time": "2025-08-05T16:14:22.130951",
     "status": "completed"
    },
    "tags": []
   },
   "source": [
    "By Group"
   ]
  },
  {
   "cell_type": "code",
   "execution_count": 62,
   "id": "ec325bce",
   "metadata": {
    "execution": {
     "iopub.execute_input": "2025-08-05T16:14:22.215721Z",
     "iopub.status.busy": "2025-08-05T16:14:22.214869Z",
     "iopub.status.idle": "2025-08-05T16:14:22.237407Z",
     "shell.execute_reply": "2025-08-05T16:14:22.236287Z"
    },
    "papermill": {
     "duration": 0.053915,
     "end_time": "2025-08-05T16:14:22.239445",
     "exception": false,
     "start_time": "2025-08-05T16:14:22.185530",
     "status": "completed"
    },
    "tags": []
   },
   "outputs": [
    {
     "data": {
      "text/html": [
       "<div>\n",
       "<style scoped>\n",
       "    .dataframe tbody tr th:only-of-type {\n",
       "        vertical-align: middle;\n",
       "    }\n",
       "\n",
       "    .dataframe tbody tr th {\n",
       "        vertical-align: top;\n",
       "    }\n",
       "\n",
       "    .dataframe thead th {\n",
       "        text-align: right;\n",
       "    }\n",
       "</style>\n",
       "<table border=\"1\" class=\"dataframe\">\n",
       "  <thead>\n",
       "    <tr style=\"text-align: right;\">\n",
       "      <th></th>\n",
       "      <th>accuracy</th>\n",
       "      <th>balanced accuracy</th>\n",
       "      <th>f1</th>\n",
       "      <th>precision</th>\n",
       "      <th>false positive rate</th>\n",
       "      <th>false negative rate</th>\n",
       "      <th>selection rate</th>\n",
       "      <th>count</th>\n",
       "    </tr>\n",
       "    <tr>\n",
       "      <th>majmin</th>\n",
       "      <th></th>\n",
       "      <th></th>\n",
       "      <th></th>\n",
       "      <th></th>\n",
       "      <th></th>\n",
       "      <th></th>\n",
       "      <th></th>\n",
       "      <th></th>\n",
       "    </tr>\n",
       "  </thead>\n",
       "  <tbody>\n",
       "    <tr>\n",
       "      <th>majority</th>\n",
       "      <td>0.232702</td>\n",
       "      <td>0.528211</td>\n",
       "      <td>0.242579</td>\n",
       "      <td>0.139483</td>\n",
       "      <td>0.873447</td>\n",
       "      <td>0.070131</td>\n",
       "      <td>0.880902</td>\n",
       "      <td>69170.0</td>\n",
       "    </tr>\n",
       "    <tr>\n",
       "      <th>minority</th>\n",
       "      <td>0.144937</td>\n",
       "      <td>0.505371</td>\n",
       "      <td>0.207982</td>\n",
       "      <td>0.116423</td>\n",
       "      <td>0.963075</td>\n",
       "      <td>0.026182</td>\n",
       "      <td>0.964314</td>\n",
       "      <td>20540.0</td>\n",
       "    </tr>\n",
       "  </tbody>\n",
       "</table>\n",
       "</div>"
      ],
      "text/plain": [
       "          accuracy  balanced accuracy        f1  precision  \\\n",
       "majmin                                                       \n",
       "majority  0.232702           0.528211  0.242579   0.139483   \n",
       "minority  0.144937           0.505371  0.207982   0.116423   \n",
       "\n",
       "          false positive rate  false negative rate  selection rate    count  \n",
       "majmin                                                                       \n",
       "majority             0.873447             0.070131        0.880902  69170.0  \n",
       "minority             0.963075             0.026182        0.964314  20540.0  "
      ]
     },
     "execution_count": 62,
     "metadata": {},
     "output_type": "execute_result"
    }
   ],
   "source": [
    "metric_frame.by_group"
   ]
  },
  {
   "cell_type": "code",
   "execution_count": 63,
   "id": "a9ddbe63",
   "metadata": {
    "execution": {
     "iopub.execute_input": "2025-08-05T16:14:22.299406Z",
     "iopub.status.busy": "2025-08-05T16:14:22.298316Z",
     "iopub.status.idle": "2025-08-05T16:14:25.228816Z",
     "shell.execute_reply": "2025-08-05T16:14:25.227472Z"
    },
    "papermill": {
     "duration": 2.963101,
     "end_time": "2025-08-05T16:14:25.230899",
     "exception": false,
     "start_time": "2025-08-05T16:14:22.267798",
     "status": "completed"
    },
    "tags": []
   },
   "outputs": [
    {
     "data": {
      "text/plain": [
       "array([[<Axes: title={'center': 'accuracy'}, xlabel='majmin'>,\n",
       "        <Axes: title={'center': 'balanced accuracy'}, xlabel='majmin'>,\n",
       "        <Axes: title={'center': 'f1'}, xlabel='majmin'>],\n",
       "       [<Axes: title={'center': 'precision'}, xlabel='majmin'>,\n",
       "        <Axes: title={'center': 'false positive rate'}, xlabel='majmin'>,\n",
       "        <Axes: title={'center': 'false negative rate'}, xlabel='majmin'>],\n",
       "       [<Axes: title={'center': 'selection rate'}, xlabel='majmin'>,\n",
       "        <Axes: title={'center': 'count'}, xlabel='majmin'>,\n",
       "        <Axes: xlabel='majmin'>]], dtype=object)"
      ]
     },
     "execution_count": 63,
     "metadata": {},
     "output_type": "execute_result"
    },
    {
     "data": {
      "image/png": "[encoded data removed]",
      "text/plain": [
       "<Figure size 1200x800 with 9 Axes>"
      ]
     },
     "metadata": {},
     "output_type": "display_data"
    }
   ],
   "source": [
    "# In a graphic\n",
    "metric_frame.by_group.plot.bar(\n",
    "    subplots=True,\n",
    "    layout=[3, 3],\n",
    "    legend=False,\n",
    "    figsize=[12, 8],\n",
    "    title=\"Show all metrics\",\n",
    ")"
   ]
  },
  {
   "cell_type": "markdown",
   "id": "f57a0bac",
   "metadata": {
    "papermill": {
     "duration": 0.016464,
     "end_time": "2025-08-05T16:14:25.271852",
     "exception": false,
     "start_time": "2025-08-05T16:14:25.255388",
     "status": "completed"
    },
    "tags": []
   },
   "source": [
    "# Final Output"
   ]
  },
  {
   "cell_type": "code",
   "execution_count": 64,
   "id": "96d280a3",
   "metadata": {
    "execution": {
     "iopub.execute_input": "2025-08-05T16:14:25.306888Z",
     "iopub.status.busy": "2025-08-05T16:14:25.306262Z",
     "iopub.status.idle": "2025-08-05T16:14:25.315819Z",
     "shell.execute_reply": "2025-08-05T16:14:25.314266Z"
    },
    "papermill": {
     "duration": 0.029531,
     "end_time": "2025-08-05T16:14:25.318189",
     "exception": false,
     "start_time": "2025-08-05T16:14:25.288658",
     "status": "completed"
    },
    "tags": []
   },
   "outputs": [
    {
     "data": {
      "text/plain": [
       "4"
      ]
     },
     "execution_count": 64,
     "metadata": {},
     "output_type": "execute_result"
    }
   ],
   "source": [
    "sub_universes = universe_analysis.generate_sub_universes()\n",
    "len(sub_universes)"
   ]
  },
  {
   "cell_type": "code",
   "execution_count": 65,
   "id": "92adf7ba",
   "metadata": {
    "execution": {
     "iopub.execute_input": "2025-08-05T16:14:25.395757Z",
     "iopub.status.busy": "2025-08-05T16:14:25.394494Z",
     "iopub.status.idle": "2025-08-05T16:14:25.403508Z",
     "shell.execute_reply": "2025-08-05T16:14:25.402174Z"
    },
    "papermill": {
     "duration": 0.051007,
     "end_time": "2025-08-05T16:14:25.406164",
     "exception": false,
     "start_time": "2025-08-05T16:14:25.355157",
     "status": "completed"
    },
    "tags": []
   },
   "outputs": [],
   "source": [
    "def filter_sub_universe_data(sub_universe, org_test):\n",
    "    # Keep all rows — no filtering\n",
    "    keep_rows_mask = np.ones(org_test.shape[0], dtype=bool)\n",
    "\n",
    "    print(f\"[INFO] Keeping all rows: {keep_rows_mask.sum()} rows retained.\")\n",
    "    return keep_rows_mask"
   ]
  },
  {
   "cell_type": "code",
   "execution_count": 66,
   "id": "4a759155",
   "metadata": {
    "execution": {
     "iopub.execute_input": "2025-08-05T16:14:25.479976Z",
     "iopub.status.busy": "2025-08-05T16:14:25.478912Z",
     "iopub.status.idle": "2025-08-05T16:14:38.015420Z",
     "shell.execute_reply": "2025-08-05T16:14:38.014112Z"
    },
    "papermill": {
     "duration": 12.573324,
     "end_time": "2025-08-05T16:14:38.017620",
     "exception": false,
     "start_time": "2025-08-05T16:14:25.444296",
     "status": "completed"
    },
    "tags": []
   },
   "outputs": [
    {
     "name": "stdout",
     "output_type": "stream",
     "text": [
      "Stopping execution_time clock.\n",
      "[INFO] Keeping all rows: 89710 rows retained.\n"
     ]
    },
    {
     "name": "stdout",
     "output_type": "stream",
     "text": [
      "[INFO] Keeping all rows: 89710 rows retained.\n"
     ]
    },
    {
     "name": "stdout",
     "output_type": "stream",
     "text": [
      "[INFO] Keeping all rows: 89710 rows retained.\n"
     ]
    },
    {
     "name": "stdout",
     "output_type": "stream",
     "text": [
      "[INFO] Keeping all rows: 89710 rows retained.\n"
     ]
    },
    {
     "data": {
      "text/html": [
       "<div>\n",
       "<style scoped>\n",
       "    .dataframe tbody tr th:only-of-type {\n",
       "        vertical-align: middle;\n",
       "    }\n",
       "\n",
       "    .dataframe tbody tr th {\n",
       "        vertical-align: top;\n",
       "    }\n",
       "\n",
       "    .dataframe thead th {\n",
       "        text-align: right;\n",
       "    }\n",
       "</style>\n",
       "<table border=\"1\" class=\"dataframe\">\n",
       "  <thead>\n",
       "    <tr style=\"text-align: right;\">\n",
       "      <th></th>\n",
       "      <th>run_no</th>\n",
       "      <th>universe_id</th>\n",
       "      <th>universe_settings</th>\n",
       "      <th>execution_time</th>\n",
       "      <th>test_size_n</th>\n",
       "      <th>test_size_frac</th>\n",
       "      <th>fair_main_equalized_odds_difference</th>\n",
       "      <th>fair_main_equalized_odds_ratio</th>\n",
       "      <th>fair_main_demographic_parity_difference</th>\n",
       "      <th>fair_main_demographic_parity_ratio</th>\n",
       "      <th>...</th>\n",
       "      <th>perf_grp_precision_0</th>\n",
       "      <th>perf_grp_precision_1</th>\n",
       "      <th>perf_grp_false positive rate_0</th>\n",
       "      <th>perf_grp_false positive rate_1</th>\n",
       "      <th>perf_grp_false negative rate_0</th>\n",
       "      <th>perf_grp_false negative rate_1</th>\n",
       "      <th>perf_grp_selection rate_0</th>\n",
       "      <th>perf_grp_selection rate_1</th>\n",
       "      <th>perf_grp_count_0</th>\n",
       "      <th>perf_grp_count_1</th>\n",
       "    </tr>\n",
       "  </thead>\n",
       "  <tbody>\n",
       "    <tr>\n",
       "      <th>0</th>\n",
       "      <td>15</td>\n",
       "      <td>523b4d52292fbf0322ce0d3ad7b649bd</td>\n",
       "      <td>{\"cutoff\": \"quantile_0.1\", \"eval_fairness_grou...</td>\n",
       "      <td>29.119132</td>\n",
       "      <td>89710</td>\n",
       "      <td>1.0</td>\n",
       "      <td>0.089628</td>\n",
       "      <td>0.906935</td>\n",
       "      <td>0.083411</td>\n",
       "      <td>0.913502</td>\n",
       "      <td>...</td>\n",
       "      <td>NaN</td>\n",
       "      <td>NaN</td>\n",
       "      <td>NaN</td>\n",
       "      <td>NaN</td>\n",
       "      <td>NaN</td>\n",
       "      <td>NaN</td>\n",
       "      <td>NaN</td>\n",
       "      <td>NaN</td>\n",
       "      <td>NaN</td>\n",
       "      <td>NaN</td>\n",
       "    </tr>\n",
       "    <tr>\n",
       "      <th>0</th>\n",
       "      <td>15</td>\n",
       "      <td>523b4d52292fbf0322ce0d3ad7b649bd</td>\n",
       "      <td>{\"cutoff\": \"quantile_0.1\", \"eval_fairness_grou...</td>\n",
       "      <td>29.119132</td>\n",
       "      <td>89710</td>\n",
       "      <td>1.0</td>\n",
       "      <td>0.089628</td>\n",
       "      <td>0.906935</td>\n",
       "      <td>0.083411</td>\n",
       "      <td>0.913502</td>\n",
       "      <td>...</td>\n",
       "      <td>0.116423</td>\n",
       "      <td>0.139483</td>\n",
       "      <td>0.963075</td>\n",
       "      <td>0.873447</td>\n",
       "      <td>0.026182</td>\n",
       "      <td>0.070131</td>\n",
       "      <td>0.964314</td>\n",
       "      <td>0.880902</td>\n",
       "      <td>20540.0</td>\n",
       "      <td>69170.0</td>\n",
       "    </tr>\n",
       "    <tr>\n",
       "      <th>0</th>\n",
       "      <td>15</td>\n",
       "      <td>523b4d52292fbf0322ce0d3ad7b649bd</td>\n",
       "      <td>{\"cutoff\": \"quantile_0.25\", \"eval_fairness_gro...</td>\n",
       "      <td>29.119132</td>\n",
       "      <td>89710</td>\n",
       "      <td>1.0</td>\n",
       "      <td>0.218668</td>\n",
       "      <td>0.758691</td>\n",
       "      <td>0.205600</td>\n",
       "      <td>0.773698</td>\n",
       "      <td>...</td>\n",
       "      <td>NaN</td>\n",
       "      <td>NaN</td>\n",
       "      <td>NaN</td>\n",
       "      <td>NaN</td>\n",
       "      <td>NaN</td>\n",
       "      <td>NaN</td>\n",
       "      <td>NaN</td>\n",
       "      <td>NaN</td>\n",
       "      <td>NaN</td>\n",
       "      <td>NaN</td>\n",
       "    </tr>\n",
       "    <tr>\n",
       "      <th>0</th>\n",
       "      <td>15</td>\n",
       "      <td>523b4d52292fbf0322ce0d3ad7b649bd</td>\n",
       "      <td>{\"cutoff\": \"quantile_0.25\", \"eval_fairness_gro...</td>\n",
       "      <td>29.119132</td>\n",
       "      <td>89710</td>\n",
       "      <td>1.0</td>\n",
       "      <td>0.218668</td>\n",
       "      <td>0.758691</td>\n",
       "      <td>0.205600</td>\n",
       "      <td>0.773698</td>\n",
       "      <td>...</td>\n",
       "      <td>0.117571</td>\n",
       "      <td>0.151169</td>\n",
       "      <td>0.906174</td>\n",
       "      <td>0.687506</td>\n",
       "      <td>0.073480</td>\n",
       "      <td>0.195842</td>\n",
       "      <td>0.908520</td>\n",
       "      <td>0.702920</td>\n",
       "      <td>20540.0</td>\n",
       "      <td>69170.0</td>\n",
       "    </tr>\n",
       "  </tbody>\n",
       "</table>\n",
       "<p>4 rows × 50 columns</p>\n",
       "</div>"
      ],
      "text/plain": [
       "  run_no                       universe_id  \\\n",
       "0     15  523b4d52292fbf0322ce0d3ad7b649bd   \n",
       "0     15  523b4d52292fbf0322ce0d3ad7b649bd   \n",
       "0     15  523b4d52292fbf0322ce0d3ad7b649bd   \n",
       "0     15  523b4d52292fbf0322ce0d3ad7b649bd   \n",
       "\n",
       "                                   universe_settings  execution_time  \\\n",
       "0  {\"cutoff\": \"quantile_0.1\", \"eval_fairness_grou...       29.119132   \n",
       "0  {\"cutoff\": \"quantile_0.1\", \"eval_fairness_grou...       29.119132   \n",
       "0  {\"cutoff\": \"quantile_0.25\", \"eval_fairness_gro...       29.119132   \n",
       "0  {\"cutoff\": \"quantile_0.25\", \"eval_fairness_gro...       29.119132   \n",
       "\n",
       "   test_size_n  test_size_frac  fair_main_equalized_odds_difference  \\\n",
       "0        89710             1.0                             0.089628   \n",
       "0        89710             1.0                             0.089628   \n",
       "0        89710             1.0                             0.218668   \n",
       "0        89710             1.0                             0.218668   \n",
       "\n",
       "   fair_main_equalized_odds_ratio  fair_main_demographic_parity_difference  \\\n",
       "0                        0.906935                                 0.083411   \n",
       "0                        0.906935                                 0.083411   \n",
       "0                        0.758691                                 0.205600   \n",
       "0                        0.758691                                 0.205600   \n",
       "\n",
       "   fair_main_demographic_parity_ratio  ...  perf_grp_precision_0  \\\n",
       "0                            0.913502  ...                   NaN   \n",
       "0                            0.913502  ...              0.116423   \n",
       "0                            0.773698  ...                   NaN   \n",
       "0                            0.773698  ...              0.117571   \n",
       "\n",
       "   perf_grp_precision_1  perf_grp_false positive rate_0  \\\n",
       "0                   NaN                             NaN   \n",
       "0              0.139483                        0.963075   \n",
       "0                   NaN                             NaN   \n",
       "0              0.151169                        0.906174   \n",
       "\n",
       "   perf_grp_false positive rate_1  perf_grp_false negative rate_0  \\\n",
       "0                             NaN                             NaN   \n",
       "0                        0.873447                        0.026182   \n",
       "0                             NaN                             NaN   \n",
       "0                        0.687506                        0.073480   \n",
       "\n",
       "   perf_grp_false negative rate_1  perf_grp_selection rate_0  \\\n",
       "0                             NaN                        NaN   \n",
       "0                        0.070131                   0.964314   \n",
       "0                             NaN                        NaN   \n",
       "0                        0.195842                   0.908520   \n",
       "\n",
       "   perf_grp_selection rate_1  perf_grp_count_0  perf_grp_count_1  \n",
       "0                        NaN               NaN               NaN  \n",
       "0                   0.880902           20540.0           69170.0  \n",
       "0                        NaN               NaN               NaN  \n",
       "0                   0.702920           20540.0           69170.0  \n",
       "\n",
       "[4 rows x 50 columns]"
      ]
     },
     "execution_count": 66,
     "metadata": {},
     "output_type": "execute_result"
    }
   ],
   "source": [
    "final_output = universe_analysis.generate_final_output(\n",
    "    y_pred_prob=probs_test,\n",
    "    y_test=y_true,\n",
    "    org_test=org_test,\n",
    "    filter_data=filter_sub_universe_data,\n",
    "    cp_metrics_df=cp_metrics_df,\n",
    "    save=True,\n",
    ")\n",
    "final_output"
   ]
  }
 ],
 "metadata": {
  "celltoolbar": "Tags",
  "kernelspec": {
   "display_name": "Python (CMA Fairness)",
   "language": "python",
   "name": "cma_fair_env"
  },
  "language_info": {
   "codemirror_mode": {
    "name": "ipython",
    "version": 3
   },
   "file_extension": ".py",
   "mimetype": "text/x-python",
   "name": "python",
   "nbconvert_exporter": "python",
   "pygments_lexer": "ipython3",
   "version": "3.10.12"
  },
  "papermill": {
   "default_parameters": {},
   "duration": 46.184547,
   "end_time": "2025-08-05T16:14:38.873301",
   "environment_variables": {},
   "exception": null,
   "input_path": "universe_analysis.ipynb",
   "output_path": "output/runs/15/notebooks/m_15-523b4d52292fbf0322ce0d3ad7b649bd.ipynb",
   "parameters": {
    "output_dir": "output",
    "run_no": "15",
    "seed": "2023",
    "universe": "{\"cutoff\": [\"quantile_0.1\", \"quantile_0.25\"], \"eval_fairness_grouping\": [\"majority-minority\", \"nationality-all\"], \"exclude_features\": \"none\", \"exclude_subgroups\": \"drop-non-german\", \"model\": \"elasticnet\", \"scale\": \"do-not-scale\", \"training_size\": \"1k\", \"training_year\": \"2014\"}",
    "universe_id": "523b4d52292fbf0322ce0d3ad7b649bd"
   },
   "start_time": "2025-08-05T16:13:52.688754",
   "version": "2.6.0"
  }
 },
 "nbformat": 4,
 "nbformat_minor": 5
}