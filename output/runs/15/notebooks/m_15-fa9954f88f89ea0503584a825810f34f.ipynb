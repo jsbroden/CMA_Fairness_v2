{
 "cells": [
  {
   "cell_type": "code",
   "execution_count": 1,
   "id": "f159f837-637b-42ba-96b5-ec9a68c44524",
   "metadata": {
    "execution": {
     "iopub.execute_input": "2025-08-05T16:11:54.303857Z",
     "iopub.status.busy": "2025-08-05T16:11:54.303424Z",
     "iopub.status.idle": "2025-08-05T16:11:54.319503Z",
     "shell.execute_reply": "2025-08-05T16:11:54.318570Z"
    },
    "papermill": {
     "duration": 0.030616,
     "end_time": "2025-08-05T16:11:54.321228",
     "exception": false,
     "start_time": "2025-08-05T16:11:54.290612",
     "status": "completed"
    },
    "tags": []
   },
   "outputs": [
    {
     "name": "stdout",
     "output_type": "stream",
     "text": [
      "/dss/dsshome1/0C/ra93lal2/cma/CMA_Fairness_v2\n"
     ]
    },
    {
     "name": "stderr",
     "output_type": "stream",
     "text": [
      "/dss/dsshome1/0C/ra93lal2/.local/share/virtualenvs/CMA_Fairness_v2-3j10GkSs/lib/python3.10/site-packages/IPython/core/magics/osm.py:393: UserWarning: This is now an optional IPython functionality, using bookmarks requires you to install the `pickleshare` library.\n",
      "  bkms = self.shell.db.get('bookmarks', {})\n",
      "/dss/dsshome1/0C/ra93lal2/.local/share/virtualenvs/CMA_Fairness_v2-3j10GkSs/lib/python3.10/site-packages/IPython/core/magics/osm.py:417: UserWarning: This is now an optional IPython functionality, setting dhist requires you to install the `pickleshare` library.\n",
      "  self.shell.db['dhist'] = compress_dhist(dhist)[-100:]\n"
     ]
    }
   ],
   "source": [
    "%cd ~/cma/CMA_Fairness_v2"
   ]
  },
  {
   "cell_type": "markdown",
   "id": "de2603b9",
   "metadata": {
    "papermill": {
     "duration": 0.019375,
     "end_time": "2025-08-05T16:11:54.360447",
     "exception": false,
     "start_time": "2025-08-05T16:11:54.341072",
     "status": "completed"
    },
    "tags": []
   },
   "source": [
    "The following cell holds the definition of our parameters, these values can be overriden by rendering the with e.g. the following command:\n",
    "\n",
    "papermill -p alpha 0.2 -p ratio 0.3 universe_analysis.ipynb output/test_run.ipynb"
   ]
  },
  {
   "cell_type": "code",
   "execution_count": 2,
   "id": "a80968a0-40bb-4fa9-85ef-2d5eefb01975",
   "metadata": {
    "execution": {
     "iopub.execute_input": "2025-08-05T16:11:54.401063Z",
     "iopub.status.busy": "2025-08-05T16:11:54.400236Z",
     "iopub.status.idle": "2025-08-05T16:11:54.407148Z",
     "shell.execute_reply": "2025-08-05T16:11:54.406008Z"
    },
    "papermill": {
     "duration": 0.029074,
     "end_time": "2025-08-05T16:11:54.408979",
     "exception": false,
     "start_time": "2025-08-05T16:11:54.379905",
     "status": "completed"
    },
    "tags": []
   },
   "outputs": [
    {
     "name": "stdout",
     "output_type": "stream",
     "text": [
      "Current working directory: /dss/dsshome1/0C/ra93lal2/cma/CMA_Fairness_v2\n"
     ]
    }
   ],
   "source": [
    "import os\n",
    "print(\"Current working directory:\", os.getcwd())"
   ]
  },
  {
   "cell_type": "code",
   "execution_count": 3,
   "id": "2dce4c03",
   "metadata": {
    "execution": {
     "iopub.execute_input": "2025-08-05T16:11:54.495677Z",
     "iopub.status.busy": "2025-08-05T16:11:54.495230Z",
     "iopub.status.idle": "2025-08-05T16:11:54.501577Z",
     "shell.execute_reply": "2025-08-05T16:11:54.500587Z"
    },
    "papermill": {
     "duration": 0.074485,
     "end_time": "2025-08-05T16:11:54.503511",
     "exception": false,
     "start_time": "2025-08-05T16:11:54.429026",
     "status": "completed"
    },
    "tags": [
     "parameters"
    ]
   },
   "outputs": [],
   "source": [
    "run_no = 0\n",
    "universe_id = \"test\"\n",
    "universe = {\n",
    "    \"training_size\": \"25k\", # \"25k\", \"5k\", \"1k\"\n",
    "    \"training_year\": \"2014\", # \"2014\", \"2012_14\", \"2010_14\"\n",
    "    \"scale\": \"scale\", # \"scale\", \"do-not-scale\",\n",
    "    \"model\": \"elasticnet\", # \"logreg\", \"penalized_logreg\", \"rf\", \"gbm\", \"elasticnet\"\n",
    "    \"cutoff\": [\"quantile_0.15\", \"quantile_0.30\"],\n",
    "    \"exclude_features\": \"age\", # \"none\", \"nationality\", \"sex\", \"nationality-sex\", \"age\"\n",
    "    \"exclude_subgroups\": \"keep-all\", # \"keep-all\", \"drop-non-german\"\n",
    "    \"eval_fairness_grouping\": [\"majority-minority\", \"nationality-all\"]\n",
    "}\n",
    "\n",
    "output_dir=\"./output\"\n",
    "seed=0"
   ]
  },
  {
   "cell_type": "code",
   "execution_count": 4,
   "id": "7ff734c2",
   "metadata": {
    "execution": {
     "iopub.execute_input": "2025-08-05T16:11:54.545294Z",
     "iopub.status.busy": "2025-08-05T16:11:54.544654Z",
     "iopub.status.idle": "2025-08-05T16:11:54.550069Z",
     "shell.execute_reply": "2025-08-05T16:11:54.548976Z"
    },
    "papermill": {
     "duration": 0.028656,
     "end_time": "2025-08-05T16:11:54.551898",
     "exception": false,
     "start_time": "2025-08-05T16:11:54.523242",
     "status": "completed"
    },
    "tags": [
     "injected-parameters"
    ]
   },
   "outputs": [],
   "source": [
    "# Parameters\n",
    "universe_id = \"fa9954f88f89ea0503584a825810f34f\"\n",
    "run_no = \"15\"\n",
    "universe = \"{\\\"cutoff\\\": [\\\"quantile_0.1\\\", \\\"quantile_0.25\\\"], \\\"eval_fairness_grouping\\\": [\\\"majority-minority\\\", \\\"nationality-all\\\"], \\\"exclude_features\\\": \\\"age\\\", \\\"exclude_subgroups\\\": \\\"keep-all\\\", \\\"model\\\": \\\"rf\\\", \\\"scale\\\": \\\"do-not-scale\\\", \\\"training_size\\\": \\\"1k\\\", \\\"training_year\\\": \\\"2014\\\"}\"\n",
    "output_dir = \"output\"\n",
    "seed = \"2023\"\n"
   ]
  },
  {
   "cell_type": "code",
   "execution_count": 5,
   "id": "1650acaf",
   "metadata": {
    "execution": {
     "iopub.execute_input": "2025-08-05T16:11:54.593007Z",
     "iopub.status.busy": "2025-08-05T16:11:54.592003Z",
     "iopub.status.idle": "2025-08-05T16:11:54.597696Z",
     "shell.execute_reply": "2025-08-05T16:11:54.596729Z"
    },
    "papermill": {
     "duration": 0.028123,
     "end_time": "2025-08-05T16:11:54.599663",
     "exception": false,
     "start_time": "2025-08-05T16:11:54.571540",
     "status": "completed"
    },
    "tags": []
   },
   "outputs": [],
   "source": [
    "import json\n",
    "if isinstance(universe, str):\n",
    "    universe = json.loads(universe)"
   ]
  },
  {
   "cell_type": "code",
   "execution_count": 6,
   "id": "16620c48",
   "metadata": {
    "execution": {
     "iopub.execute_input": "2025-08-05T16:11:54.648851Z",
     "iopub.status.busy": "2025-08-05T16:11:54.648000Z",
     "iopub.status.idle": "2025-08-05T16:11:54.694355Z",
     "shell.execute_reply": "2025-08-05T16:11:54.693269Z"
    },
    "papermill": {
     "duration": 0.069152,
     "end_time": "2025-08-05T16:11:54.696388",
     "exception": false,
     "start_time": "2025-08-05T16:11:54.627236",
     "status": "completed"
    },
    "tags": []
   },
   "outputs": [],
   "source": [
    "# Auto-reload the custom package\n",
    "%load_ext autoreload\n",
    "%autoreload 1\n",
    "%aimport fairness_multiverse"
   ]
  },
  {
   "cell_type": "code",
   "execution_count": 7,
   "id": "01c5c9f3",
   "metadata": {
    "execution": {
     "iopub.execute_input": "2025-08-05T16:11:54.737779Z",
     "iopub.status.busy": "2025-08-05T16:11:54.737056Z",
     "iopub.status.idle": "2025-08-05T16:11:56.810619Z",
     "shell.execute_reply": "2025-08-05T16:11:56.809550Z"
    },
    "papermill": {
     "duration": 2.096141,
     "end_time": "2025-08-05T16:11:56.812663",
     "exception": false,
     "start_time": "2025-08-05T16:11:54.716522",
     "status": "completed"
    },
    "tags": []
   },
   "outputs": [],
   "source": [
    "from fairness_multiverse.universe import UniverseAnalysis\n",
    "\n",
    "universe_analysis = UniverseAnalysis(\n",
    "    run_no = run_no,\n",
    "    universe_id = universe_id,\n",
    "    universe = universe,\n",
    "    output_dir=output_dir,\n",
    ")"
   ]
  },
  {
   "cell_type": "code",
   "execution_count": 8,
   "id": "106241f5",
   "metadata": {
    "execution": {
     "iopub.execute_input": "2025-08-05T16:11:56.857251Z",
     "iopub.status.busy": "2025-08-05T16:11:56.856255Z",
     "iopub.status.idle": "2025-08-05T16:11:56.863675Z",
     "shell.execute_reply": "2025-08-05T16:11:56.862605Z"
    },
    "papermill": {
     "duration": 0.02988,
     "end_time": "2025-08-05T16:11:56.865677",
     "exception": false,
     "start_time": "2025-08-05T16:11:56.835797",
     "status": "completed"
    },
    "tags": []
   },
   "outputs": [
    {
     "name": "stdout",
     "output_type": "stream",
     "text": [
      "Using Seed: 2023\n"
     ]
    }
   ],
   "source": [
    "import numpy as np\n",
    "parsed_seed = int(seed)\n",
    "np.random.seed(parsed_seed)\n",
    "print(f\"Using Seed: {parsed_seed}\")"
   ]
  },
  {
   "cell_type": "markdown",
   "id": "e0ebdc57",
   "metadata": {
    "papermill": {
     "duration": 0.019694,
     "end_time": "2025-08-05T16:11:56.906269",
     "exception": false,
     "start_time": "2025-08-05T16:11:56.886575",
     "status": "completed"
    },
    "tags": []
   },
   "source": [
    "# Loading Data"
   ]
  },
  {
   "cell_type": "code",
   "execution_count": 9,
   "id": "f0496b8a",
   "metadata": {
    "execution": {
     "iopub.execute_input": "2025-08-05T16:11:56.948599Z",
     "iopub.status.busy": "2025-08-05T16:11:56.946891Z",
     "iopub.status.idle": "2025-08-05T16:12:08.270315Z",
     "shell.execute_reply": "2025-08-05T16:12:08.269101Z"
    },
    "papermill": {
     "duration": 11.34622,
     "end_time": "2025-08-05T16:12:08.271940",
     "exception": false,
     "start_time": "2025-08-05T16:11:56.925720",
     "status": "completed"
    },
    "tags": []
   },
   "outputs": [
    {
     "name": "stdout",
     "output_type": "stream",
     "text": [
      "Loading SIAB data from cache: data/siab_cached.csv.gz\n"
     ]
    },
    {
     "name": "stdout",
     "output_type": "stream",
     "text": [
      "(643690, 164)\n"
     ]
    }
   ],
   "source": [
    "from pathlib import Path\n",
    "import pandas as pd\n",
    "\n",
    "# File paths\n",
    "raw_file = Path(\"data/raw/siab.csv\")\n",
    "cache_file = Path(\"data/siab_cached.csv.gz\")\n",
    "\n",
    "# Ensure cache directory exists\n",
    "cache_file.parent.mkdir(parents=True, exist_ok=True)\n",
    "\n",
    "# Load with simple caching\n",
    "if cache_file.exists():\n",
    "    print(f\"Loading SIAB data from cache: {cache_file}\")\n",
    "    siab = pd.read_csv(cache_file, compression='gzip')\n",
    "else:\n",
    "    print(f\"Cache not found. Reading raw SIAB data: {raw_file}\")\n",
    "    siab = pd.read_csv(raw_file)\n",
    "    siab.to_csv(cache_file, index=False, compression='gzip')\n",
    "    print(f\"Cached SIAB data to: {cache_file}\")\n",
    "\n",
    "print(siab.shape)"
   ]
  },
  {
   "cell_type": "code",
   "execution_count": 10,
   "id": "db0ca512-5f53-4dba-abdb-a2888bca41ba",
   "metadata": {
    "execution": {
     "iopub.execute_input": "2025-08-05T16:12:08.313141Z",
     "iopub.status.busy": "2025-08-05T16:12:08.312561Z",
     "iopub.status.idle": "2025-08-05T16:12:08.318690Z",
     "shell.execute_reply": "2025-08-05T16:12:08.317482Z"
    },
    "papermill": {
     "duration": 0.029576,
     "end_time": "2025-08-05T16:12:08.320684",
     "exception": false,
     "start_time": "2025-08-05T16:12:08.291108",
     "status": "completed"
    },
    "tags": []
   },
   "outputs": [],
   "source": [
    "#siab"
   ]
  },
  {
   "cell_type": "markdown",
   "id": "997051c5-15bd-4b69-9786-c3001a3ce484",
   "metadata": {
    "papermill": {
     "duration": 0.01838,
     "end_time": "2025-08-05T16:12:08.358568",
     "exception": false,
     "start_time": "2025-08-05T16:12:08.340188",
     "status": "completed"
    },
    "tags": []
   },
   "source": [
    "# Splitting Data and Setting Training Data Size"
   ]
  },
  {
   "cell_type": "code",
   "execution_count": 11,
   "id": "aea9c6ef-6f46-42c8-85eb-5a62025c1508",
   "metadata": {
    "execution": {
     "iopub.execute_input": "2025-08-05T16:12:08.398504Z",
     "iopub.status.busy": "2025-08-05T16:12:08.397491Z",
     "iopub.status.idle": "2025-08-05T16:12:08.663048Z",
     "shell.execute_reply": "2025-08-05T16:12:08.662037Z"
    },
    "papermill": {
     "duration": 0.287463,
     "end_time": "2025-08-05T16:12:08.665062",
     "exception": false,
     "start_time": "2025-08-05T16:12:08.377599",
     "status": "completed"
    },
    "tags": []
   },
   "outputs": [],
   "source": [
    "from fairness_multiverse.universe import sample_by_year_size\n",
    "\n",
    "siab_train = sample_by_year_size(siab,\n",
    "                               training_year=universe[\"training_year\"],\n",
    "                               training_size=universe[\"training_size\"])"
   ]
  },
  {
   "cell_type": "code",
   "execution_count": 12,
   "id": "8d3afb32-789d-442c-8d5d-9f5aa8dd2eed",
   "metadata": {
    "execution": {
     "iopub.execute_input": "2025-08-05T16:12:08.700445Z",
     "iopub.status.busy": "2025-08-05T16:12:08.699657Z",
     "iopub.status.idle": "2025-08-05T16:12:08.705198Z",
     "shell.execute_reply": "2025-08-05T16:12:08.704149Z"
    },
    "papermill": {
     "duration": 0.026349,
     "end_time": "2025-08-05T16:12:08.707154",
     "exception": false,
     "start_time": "2025-08-05T16:12:08.680805",
     "status": "completed"
    },
    "tags": []
   },
   "outputs": [],
   "source": [
    "#siab_train.shape"
   ]
  },
  {
   "cell_type": "code",
   "execution_count": 13,
   "id": "d582db68-1a4c-47fb-84fc-08518dc1975a",
   "metadata": {
    "execution": {
     "iopub.execute_input": "2025-08-05T16:12:08.747883Z",
     "iopub.status.busy": "2025-08-05T16:12:08.746909Z",
     "iopub.status.idle": "2025-08-05T16:12:08.752195Z",
     "shell.execute_reply": "2025-08-05T16:12:08.751343Z"
    },
    "papermill": {
     "duration": 0.026481,
     "end_time": "2025-08-05T16:12:08.753479",
     "exception": false,
     "start_time": "2025-08-05T16:12:08.726998",
     "status": "completed"
    },
    "tags": []
   },
   "outputs": [],
   "source": [
    "#display(siab_train.groupby(\"year\").size())"
   ]
  },
  {
   "cell_type": "code",
   "execution_count": 14,
   "id": "a561edb4-d032-42cb-8256-22eac1111c64",
   "metadata": {
    "execution": {
     "iopub.execute_input": "2025-08-05T16:12:08.782440Z",
     "iopub.status.busy": "2025-08-05T16:12:08.781631Z",
     "iopub.status.idle": "2025-08-05T16:12:09.051978Z",
     "shell.execute_reply": "2025-08-05T16:12:09.050901Z"
    },
    "papermill": {
     "duration": 0.28929,
     "end_time": "2025-08-05T16:12:09.054149",
     "exception": false,
     "start_time": "2025-08-05T16:12:08.764859",
     "status": "completed"
    },
    "tags": []
   },
   "outputs": [],
   "source": [
    "#siab_train = siab_s[siab_s.year < 2015]\n",
    "siab_calib = siab[siab.year == 2015]\n",
    "siab_test = siab[siab.year == 2016]"
   ]
  },
  {
   "cell_type": "code",
   "execution_count": 15,
   "id": "472de16f-c3db-4916-846b-1f0de9cf1746",
   "metadata": {
    "execution": {
     "iopub.execute_input": "2025-08-05T16:12:09.093011Z",
     "iopub.status.busy": "2025-08-05T16:12:09.092102Z",
     "iopub.status.idle": "2025-08-05T16:12:09.099201Z",
     "shell.execute_reply": "2025-08-05T16:12:09.098141Z"
    },
    "papermill": {
     "duration": 0.027782,
     "end_time": "2025-08-05T16:12:09.100910",
     "exception": false,
     "start_time": "2025-08-05T16:12:09.073128",
     "status": "completed"
    },
    "tags": []
   },
   "outputs": [],
   "source": [
    "X_train = siab_train.iloc[:,4:164]\n",
    "y_train = siab_train.iloc[:, [3]]"
   ]
  },
  {
   "cell_type": "code",
   "execution_count": 16,
   "id": "828c96af-f43a-4ed6-ba47-8ac73a47d56c",
   "metadata": {
    "execution": {
     "iopub.execute_input": "2025-08-05T16:12:09.147569Z",
     "iopub.status.busy": "2025-08-05T16:12:09.146913Z",
     "iopub.status.idle": "2025-08-05T16:12:09.200055Z",
     "shell.execute_reply": "2025-08-05T16:12:09.198666Z"
    },
    "papermill": {
     "duration": 0.080049,
     "end_time": "2025-08-05T16:12:09.202084",
     "exception": false,
     "start_time": "2025-08-05T16:12:09.122035",
     "status": "completed"
    },
    "tags": []
   },
   "outputs": [],
   "source": [
    "X_calib = siab_calib.iloc[:,4:164]\n",
    "y_calib = siab_calib.iloc[:, [3]]"
   ]
  },
  {
   "cell_type": "code",
   "execution_count": 17,
   "id": "c34be9c3-6bd6-476e-acd3-845840e303be",
   "metadata": {
    "execution": {
     "iopub.execute_input": "2025-08-05T16:12:09.242764Z",
     "iopub.status.busy": "2025-08-05T16:12:09.241881Z",
     "iopub.status.idle": "2025-08-05T16:12:09.296390Z",
     "shell.execute_reply": "2025-08-05T16:12:09.295267Z"
    },
    "papermill": {
     "duration": 0.076759,
     "end_time": "2025-08-05T16:12:09.298671",
     "exception": false,
     "start_time": "2025-08-05T16:12:09.221912",
     "status": "completed"
    },
    "tags": []
   },
   "outputs": [],
   "source": [
    "X_test = siab_test.iloc[:,4:164]\n",
    "y_true = siab_test.iloc[:, [3]]"
   ]
  },
  {
   "cell_type": "code",
   "execution_count": 18,
   "id": "e6c733c5",
   "metadata": {
    "execution": {
     "iopub.execute_input": "2025-08-05T16:12:09.342639Z",
     "iopub.status.busy": "2025-08-05T16:12:09.341631Z",
     "iopub.status.idle": "2025-08-05T16:12:09.444104Z",
     "shell.execute_reply": "2025-08-05T16:12:09.442907Z"
    },
    "papermill": {
     "duration": 0.126267,
     "end_time": "2025-08-05T16:12:09.446406",
     "exception": false,
     "start_time": "2025-08-05T16:12:09.320139",
     "status": "completed"
    },
    "tags": []
   },
   "outputs": [],
   "source": [
    "# Auxiliary data needed downstream in the pipeline\n",
    "\n",
    "org_train = X_train.copy()\n",
    "org_test = X_test.copy()\n",
    "org_calib = X_calib.copy()"
   ]
  },
  {
   "cell_type": "markdown",
   "id": "0a4a1b33",
   "metadata": {
    "papermill": {
     "duration": 0.020396,
     "end_time": "2025-08-05T16:12:09.487421",
     "exception": false,
     "start_time": "2025-08-05T16:12:09.467025",
     "status": "completed"
    },
    "tags": []
   },
   "source": [
    "# Preprocessing Data"
   ]
  },
  {
   "cell_type": "code",
   "execution_count": 19,
   "id": "ca879031",
   "metadata": {
    "execution": {
     "iopub.execute_input": "2025-08-05T16:12:09.531566Z",
     "iopub.status.busy": "2025-08-05T16:12:09.529814Z",
     "iopub.status.idle": "2025-08-05T16:12:09.537371Z",
     "shell.execute_reply": "2025-08-05T16:12:09.536265Z"
    },
    "papermill": {
     "duration": 0.031387,
     "end_time": "2025-08-05T16:12:09.539209",
     "exception": false,
     "start_time": "2025-08-05T16:12:09.507822",
     "status": "completed"
    },
    "tags": []
   },
   "outputs": [],
   "source": [
    "# EXCLUDE PROTECTED FEATURES\n",
    "# ----------------------\n",
    "# \"exclude_features\": \"none\", # \"nationality\", \"sex\", \"nationality-sex\"\n",
    "\n",
    "excluded_features = universe[\"exclude_features\"].split(\"-\") # split, e.g.: \"nationality-sex\" -> [\"nationality\", \"sex\"]\n",
    "excluded_features_dictionary = {\n",
    "    \"nationality\": [\"maxdeutsch1\", \"maxdeutsch.Missing.\"],\n",
    "    \"sex\": [\"frau1\"],\n",
    "    \"age\": [\"age\"],\n",
    "}"
   ]
  },
  {
   "cell_type": "code",
   "execution_count": 20,
   "id": "b745ac60",
   "metadata": {
    "execution": {
     "iopub.execute_input": "2025-08-05T16:12:09.583993Z",
     "iopub.status.busy": "2025-08-05T16:12:09.583004Z",
     "iopub.status.idle": "2025-08-05T16:12:09.589300Z",
     "shell.execute_reply": "2025-08-05T16:12:09.588269Z"
    },
    "papermill": {
     "duration": 0.030114,
     "end_time": "2025-08-05T16:12:09.591212",
     "exception": false,
     "start_time": "2025-08-05T16:12:09.561098",
     "status": "completed"
    },
    "tags": []
   },
   "outputs": [],
   "source": [
    "# Code nice names to column names\n",
    "\n",
    "excluded_features_columns = [\n",
    "    excluded_features_dictionary[f] for f in excluded_features if len(f) > 0 and f != \"none\"\n",
    "]"
   ]
  },
  {
   "cell_type": "code",
   "execution_count": 21,
   "id": "f84f73a2",
   "metadata": {
    "execution": {
     "iopub.execute_input": "2025-08-05T16:12:09.637026Z",
     "iopub.status.busy": "2025-08-05T16:12:09.636063Z",
     "iopub.status.idle": "2025-08-05T16:12:09.643506Z",
     "shell.execute_reply": "2025-08-05T16:12:09.642280Z"
    },
    "papermill": {
     "duration": 0.031197,
     "end_time": "2025-08-05T16:12:09.645601",
     "exception": false,
     "start_time": "2025-08-05T16:12:09.614404",
     "status": "completed"
    },
    "tags": []
   },
   "outputs": [],
   "source": [
    "from utils import flatten_once\n",
    "\n",
    "excluded_features_columns = flatten_once(excluded_features_columns)"
   ]
  },
  {
   "cell_type": "code",
   "execution_count": 22,
   "id": "884dea22",
   "metadata": {
    "execution": {
     "iopub.execute_input": "2025-08-05T16:12:09.689275Z",
     "iopub.status.busy": "2025-08-05T16:12:09.688242Z",
     "iopub.status.idle": "2025-08-05T16:12:09.696765Z",
     "shell.execute_reply": "2025-08-05T16:12:09.695649Z"
    },
    "papermill": {
     "duration": 0.032185,
     "end_time": "2025-08-05T16:12:09.698767",
     "exception": false,
     "start_time": "2025-08-05T16:12:09.666582",
     "status": "completed"
    },
    "tags": []
   },
   "outputs": [
    {
     "name": "stdout",
     "output_type": "stream",
     "text": [
      "Dropping features: ['age']\n"
     ]
    }
   ],
   "source": [
    "if len(excluded_features_columns) > 0:\n",
    "    print(f\"Dropping features: {excluded_features_columns}\")\n",
    "    X_train.drop(excluded_features_columns, axis=1, inplace=True)"
   ]
  },
  {
   "cell_type": "code",
   "execution_count": 23,
   "id": "95ab8b16",
   "metadata": {
    "execution": {
     "iopub.execute_input": "2025-08-05T16:12:09.743806Z",
     "iopub.status.busy": "2025-08-05T16:12:09.743038Z",
     "iopub.status.idle": "2025-08-05T16:12:09.801326Z",
     "shell.execute_reply": "2025-08-05T16:12:09.800112Z"
    },
    "papermill": {
     "duration": 0.082408,
     "end_time": "2025-08-05T16:12:09.803542",
     "exception": false,
     "start_time": "2025-08-05T16:12:09.721134",
     "status": "completed"
    },
    "tags": []
   },
   "outputs": [
    {
     "name": "stdout",
     "output_type": "stream",
     "text": [
      "Dropping features: ['age']\n"
     ]
    }
   ],
   "source": [
    "if len(excluded_features_columns) > 0:\n",
    "    print(f\"Dropping features: {excluded_features_columns}\")\n",
    "    X_test.drop(excluded_features_columns, axis=1, inplace=True)"
   ]
  },
  {
   "cell_type": "code",
   "execution_count": 24,
   "id": "1853aaf5-fb9f-46cb-a2b5-8ea4ae2237e4",
   "metadata": {
    "execution": {
     "iopub.execute_input": "2025-08-05T16:12:09.848656Z",
     "iopub.status.busy": "2025-08-05T16:12:09.847774Z",
     "iopub.status.idle": "2025-08-05T16:12:09.903543Z",
     "shell.execute_reply": "2025-08-05T16:12:09.902260Z"
    },
    "papermill": {
     "duration": 0.080772,
     "end_time": "2025-08-05T16:12:09.905812",
     "exception": false,
     "start_time": "2025-08-05T16:12:09.825040",
     "status": "completed"
    },
    "tags": []
   },
   "outputs": [
    {
     "name": "stdout",
     "output_type": "stream",
     "text": [
      "Dropping features: ['age']\n"
     ]
    }
   ],
   "source": [
    "if len(excluded_features_columns) > 0:\n",
    "    print(f\"Dropping features: {excluded_features_columns}\")\n",
    "    X_calib.drop(excluded_features_columns, axis=1, inplace=True)"
   ]
  },
  {
   "cell_type": "code",
   "execution_count": 25,
   "id": "76c4dc6d",
   "metadata": {
    "execution": {
     "iopub.execute_input": "2025-08-05T16:12:09.950130Z",
     "iopub.status.busy": "2025-08-05T16:12:09.949303Z",
     "iopub.status.idle": "2025-08-05T16:12:09.955642Z",
     "shell.execute_reply": "2025-08-05T16:12:09.954526Z"
    },
    "papermill": {
     "duration": 0.030168,
     "end_time": "2025-08-05T16:12:09.957510",
     "exception": false,
     "start_time": "2025-08-05T16:12:09.927342",
     "status": "completed"
    },
    "tags": []
   },
   "outputs": [],
   "source": [
    "# EXCLUDE CERTAIN SUBGROUPS\n",
    "# ----------------------\n",
    "\n",
    "mode = universe.get(\"exclude_subgroups\", \"keep-all\") \n",
    "# Fetches the exclude_subgroups setting from the universe dict.\n",
    "# Defaults to \"keep-all\" if the key is missing."
   ]
  },
  {
   "cell_type": "code",
   "execution_count": 26,
   "id": "21994072",
   "metadata": {
    "execution": {
     "iopub.execute_input": "2025-08-05T16:12:10.001810Z",
     "iopub.status.busy": "2025-08-05T16:12:10.000906Z",
     "iopub.status.idle": "2025-08-05T16:12:10.008342Z",
     "shell.execute_reply": "2025-08-05T16:12:10.007239Z"
    },
    "papermill": {
     "duration": 0.031993,
     "end_time": "2025-08-05T16:12:10.010466",
     "exception": false,
     "start_time": "2025-08-05T16:12:09.978473",
     "status": "completed"
    },
    "tags": []
   },
   "outputs": [],
   "source": [
    "if mode == \"keep-all\":\n",
    "    keep_mask = pd.Series(True, index=org_train.index)\n",
    "\n",
    "# org_train contains the original feature columns from features_org (in Simson)\n",
    "# features_org contains unprocessed features, for me X_train at beginning ???\n",
    "# For keep-all, creates a boolean Series (keep_mask) of all True, so no rows are removed.\n",
    "\n",
    "elif mode == \"drop-non-german\":\n",
    "    keep_mask = org_train[\"maxdeutsch1\"] == 1 # ??? what about missing values?\n",
    "\n",
    "else:\n",
    "    raise ValueError(f\"Unsupported mode for exclude_subgroups: {mode}\")"
   ]
  },
  {
   "cell_type": "code",
   "execution_count": 27,
   "id": "71651440",
   "metadata": {
    "execution": {
     "iopub.execute_input": "2025-08-05T16:12:10.054676Z",
     "iopub.status.busy": "2025-08-05T16:12:10.054250Z",
     "iopub.status.idle": "2025-08-05T16:12:10.061739Z",
     "shell.execute_reply": "2025-08-05T16:12:10.060463Z"
    },
    "papermill": {
     "duration": 0.031804,
     "end_time": "2025-08-05T16:12:10.063822",
     "exception": false,
     "start_time": "2025-08-05T16:12:10.032018",
     "status": "completed"
    },
    "tags": []
   },
   "outputs": [],
   "source": [
    "n_drop = (~keep_mask).sum() # Calculates how many rows are set to be dropped\n",
    "if n_drop > 0:\n",
    "    pct = n_drop / len(keep_mask) * 100\n",
    "    print(f\"Dropping {n_drop} rows ({pct:.2f}%) where mode='{mode}'\")"
   ]
  },
  {
   "cell_type": "code",
   "execution_count": 28,
   "id": "5fb8eee5",
   "metadata": {
    "execution": {
     "iopub.execute_input": "2025-08-05T16:12:10.114836Z",
     "iopub.status.busy": "2025-08-05T16:12:10.114330Z",
     "iopub.status.idle": "2025-08-05T16:12:10.121190Z",
     "shell.execute_reply": "2025-08-05T16:12:10.120178Z"
    },
    "papermill": {
     "duration": 0.036751,
     "end_time": "2025-08-05T16:12:10.123113",
     "exception": false,
     "start_time": "2025-08-05T16:12:10.086362",
     "status": "completed"
    },
    "tags": []
   },
   "outputs": [],
   "source": [
    "X_train = X_train[keep_mask]"
   ]
  },
  {
   "cell_type": "code",
   "execution_count": 29,
   "id": "b202bb3a",
   "metadata": {
    "execution": {
     "iopub.execute_input": "2025-08-05T16:12:10.166667Z",
     "iopub.status.busy": "2025-08-05T16:12:10.165657Z",
     "iopub.status.idle": "2025-08-05T16:12:10.172804Z",
     "shell.execute_reply": "2025-08-05T16:12:10.171707Z"
    },
    "papermill": {
     "duration": 0.030334,
     "end_time": "2025-08-05T16:12:10.174849",
     "exception": false,
     "start_time": "2025-08-05T16:12:10.144515",
     "status": "completed"
    },
    "tags": []
   },
   "outputs": [],
   "source": [
    "y_train = y_train[keep_mask]"
   ]
  },
  {
   "cell_type": "markdown",
   "id": "493e2ac3",
   "metadata": {
    "papermill": {
     "duration": 0.020909,
     "end_time": "2025-08-05T16:12:10.214629",
     "exception": false,
     "start_time": "2025-08-05T16:12:10.193720",
     "status": "completed"
    },
    "tags": []
   },
   "source": [
    "# Model Training"
   ]
  },
  {
   "cell_type": "code",
   "execution_count": 30,
   "id": "679e1268",
   "metadata": {
    "execution": {
     "iopub.execute_input": "2025-08-05T16:12:10.260544Z",
     "iopub.status.busy": "2025-08-05T16:12:10.259596Z",
     "iopub.status.idle": "2025-08-05T16:12:10.430565Z",
     "shell.execute_reply": "2025-08-05T16:12:10.429374Z"
    },
    "papermill": {
     "duration": 0.195576,
     "end_time": "2025-08-05T16:12:10.432691",
     "exception": false,
     "start_time": "2025-08-05T16:12:10.237115",
     "status": "completed"
    },
    "tags": []
   },
   "outputs": [],
   "source": [
    "from sklearn.linear_model import LogisticRegression\n",
    "from sklearn.ensemble import GradientBoostingClassifier, RandomForestClassifier\n",
    "\n",
    "if (universe[\"model\"] == \"logreg\"):\n",
    "    model = LogisticRegression() #penalty=\"none\", solver=\"newton-cg\", max_iter=1) # include random_state=19 ?\n",
    "elif (universe[\"model\"] == \"penalized_logreg\"):\n",
    "    model = LogisticRegression(penalty=\"l2\", C=0.1) #, solver=\"newton-cg\", max_iter=1)\n",
    "elif (universe[\"model\"] == \"rf\"):\n",
    "    model = RandomForestClassifier() # n_estimators=100, n_jobs=-1\n",
    "elif (universe[\"model\"] == \"gbm\"):\n",
    "    model = GradientBoostingClassifier()\n",
    "elif (universe[\"model\"] == \"elasticnet\"):\n",
    "    model = LogisticRegression(penalty = 'elasticnet', solver = 'saga', l1_ratio = 0.5) # max_iter=5000\n",
    "else:\n",
    "    raise \"Unsupported universe.model\""
   ]
  },
  {
   "cell_type": "code",
   "execution_count": 31,
   "id": "0cc8f744",
   "metadata": {
    "execution": {
     "iopub.execute_input": "2025-08-05T16:12:10.478224Z",
     "iopub.status.busy": "2025-08-05T16:12:10.477020Z",
     "iopub.status.idle": "2025-08-05T16:12:10.484346Z",
     "shell.execute_reply": "2025-08-05T16:12:10.483261Z"
    },
    "papermill": {
     "duration": 0.031875,
     "end_time": "2025-08-05T16:12:10.486403",
     "exception": false,
     "start_time": "2025-08-05T16:12:10.454528",
     "status": "completed"
    },
    "tags": []
   },
   "outputs": [],
   "source": [
    "import numpy as np\n",
    "from sklearn.pipeline import Pipeline\n",
    "from sklearn.preprocessing import StandardScaler\n",
    "\n",
    "model = Pipeline([\n",
    "    #(\"continuous_processor\", continuous_processor),\n",
    "    #(\"categorical_preprocessor\", categorical_preprocessor),\n",
    "    (\"scale\", StandardScaler() if universe[\"scale\"] == \"scale\" else None), \n",
    "    (\"model\", model),\n",
    "])"
   ]
  },
  {
   "cell_type": "code",
   "execution_count": 32,
   "id": "9442c04d",
   "metadata": {
    "execution": {
     "iopub.execute_input": "2025-08-05T16:12:10.532625Z",
     "iopub.status.busy": "2025-08-05T16:12:10.531663Z",
     "iopub.status.idle": "2025-08-05T16:12:10.948216Z",
     "shell.execute_reply": "2025-08-05T16:12:10.947329Z"
    },
    "papermill": {
     "duration": 0.440764,
     "end_time": "2025-08-05T16:12:10.949740",
     "exception": false,
     "start_time": "2025-08-05T16:12:10.508976",
     "status": "completed"
    },
    "tags": []
   },
   "outputs": [
    {
     "data": {
      "text/html": [
       "<style>#sk-container-id-1 {color: black;background-color: white;}#sk-container-id-1 pre{padding: 0;}#sk-container-id-1 div.sk-toggleable {background-color: white;}#sk-container-id-1 label.sk-toggleable__label {cursor: pointer;display: block;width: 100%;margin-bottom: 0;padding: 0.3em;box-sizing: border-box;text-align: center;}#sk-container-id-1 label.sk-toggleable__label-arrow:before {content: \"▸\";float: left;margin-right: 0.25em;color: #696969;}#sk-container-id-1 label.sk-toggleable__label-arrow:hover:before {color: black;}#sk-container-id-1 div.sk-estimator:hover label.sk-toggleable__label-arrow:before {color: black;}#sk-container-id-1 div.sk-toggleable__content {max-height: 0;max-width: 0;overflow: hidden;text-align: left;background-color: #f0f8ff;}#sk-container-id-1 div.sk-toggleable__content pre {margin: 0.2em;color: black;border-radius: 0.25em;background-color: #f0f8ff;}#sk-container-id-1 input.sk-toggleable__control:checked~div.sk-toggleable__content {max-height: 200px;max-width: 100%;overflow: auto;}#sk-container-id-1 input.sk-toggleable__control:checked~label.sk-toggleable__label-arrow:before {content: \"▾\";}#sk-container-id-1 div.sk-estimator input.sk-toggleable__control:checked~label.sk-toggleable__label {background-color: #d4ebff;}#sk-container-id-1 div.sk-label input.sk-toggleable__control:checked~label.sk-toggleable__label {background-color: #d4ebff;}#sk-container-id-1 input.sk-hidden--visually {border: 0;clip: rect(1px 1px 1px 1px);clip: rect(1px, 1px, 1px, 1px);height: 1px;margin: -1px;overflow: hidden;padding: 0;position: absolute;width: 1px;}#sk-container-id-1 div.sk-estimator {font-family: monospace;background-color: #f0f8ff;border: 1px dotted black;border-radius: 0.25em;box-sizing: border-box;margin-bottom: 0.5em;}#sk-container-id-1 div.sk-estimator:hover {background-color: #d4ebff;}#sk-container-id-1 div.sk-parallel-item::after {content: \"\";width: 100%;border-bottom: 1px solid gray;flex-grow: 1;}#sk-container-id-1 div.sk-label:hover label.sk-toggleable__label {background-color: #d4ebff;}#sk-container-id-1 div.sk-serial::before {content: \"\";position: absolute;border-left: 1px solid gray;box-sizing: border-box;top: 0;bottom: 0;left: 50%;z-index: 0;}#sk-container-id-1 div.sk-serial {display: flex;flex-direction: column;align-items: center;background-color: white;padding-right: 0.2em;padding-left: 0.2em;position: relative;}#sk-container-id-1 div.sk-item {position: relative;z-index: 1;}#sk-container-id-1 div.sk-parallel {display: flex;align-items: stretch;justify-content: center;background-color: white;position: relative;}#sk-container-id-1 div.sk-item::before, #sk-container-id-1 div.sk-parallel-item::before {content: \"\";position: absolute;border-left: 1px solid gray;box-sizing: border-box;top: 0;bottom: 0;left: 50%;z-index: -1;}#sk-container-id-1 div.sk-parallel-item {display: flex;flex-direction: column;z-index: 1;position: relative;background-color: white;}#sk-container-id-1 div.sk-parallel-item:first-child::after {align-self: flex-end;width: 50%;}#sk-container-id-1 div.sk-parallel-item:last-child::after {align-self: flex-start;width: 50%;}#sk-container-id-1 div.sk-parallel-item:only-child::after {width: 0;}#sk-container-id-1 div.sk-dashed-wrapped {border: 1px dashed gray;margin: 0 0.4em 0.5em 0.4em;box-sizing: border-box;padding-bottom: 0.4em;background-color: white;}#sk-container-id-1 div.sk-label label {font-family: monospace;font-weight: bold;display: inline-block;line-height: 1.2em;}#sk-container-id-1 div.sk-label-container {text-align: center;}#sk-container-id-1 div.sk-container {/* jupyter's `normalize.less` sets `[hidden] { display: none; }` but bootstrap.min.css set `[hidden] { display: none !important; }` so we also need the `!important` here to be able to override the default hidden behavior on the sphinx rendered scikit-learn.org. See: https://github.com/scikit-learn/scikit-learn/issues/21755 */display: inline-block !important;position: relative;}#sk-container-id-1 div.sk-text-repr-fallback {display: none;}</style><div id=\"sk-container-id-1\" class=\"sk-top-container\"><div class=\"sk-text-repr-fallback\"><pre>Pipeline(steps=[(&#x27;scale&#x27;, None), (&#x27;model&#x27;, RandomForestClassifier())])</pre><b>In a Jupyter environment, please rerun this cell to show the HTML representation or trust the notebook. <br />On GitHub, the HTML representation is unable to render, please try loading this page with nbviewer.org.</b></div><div class=\"sk-container\" hidden><div class=\"sk-item sk-dashed-wrapped\"><div class=\"sk-label-container\"><div class=\"sk-label sk-toggleable\"><input class=\"sk-toggleable__control sk-hidden--visually\" id=\"sk-estimator-id-1\" type=\"checkbox\" ><label for=\"sk-estimator-id-1\" class=\"sk-toggleable__label sk-toggleable__label-arrow\">Pipeline</label><div class=\"sk-toggleable__content\"><pre>Pipeline(steps=[(&#x27;scale&#x27;, None), (&#x27;model&#x27;, RandomForestClassifier())])</pre></div></div></div><div class=\"sk-serial\"><div class=\"sk-item\"><div class=\"sk-estimator sk-toggleable\"><input class=\"sk-toggleable__control sk-hidden--visually\" id=\"sk-estimator-id-2\" type=\"checkbox\" ><label for=\"sk-estimator-id-2\" class=\"sk-toggleable__label sk-toggleable__label-arrow\">None</label><div class=\"sk-toggleable__content\"><pre>None</pre></div></div></div><div class=\"sk-item\"><div class=\"sk-estimator sk-toggleable\"><input class=\"sk-toggleable__control sk-hidden--visually\" id=\"sk-estimator-id-3\" type=\"checkbox\" ><label for=\"sk-estimator-id-3\" class=\"sk-toggleable__label sk-toggleable__label-arrow\">RandomForestClassifier</label><div class=\"sk-toggleable__content\"><pre>RandomForestClassifier()</pre></div></div></div></div></div></div></div>"
      ],
      "text/plain": [
       "Pipeline(steps=[('scale', None), ('model', RandomForestClassifier())])"
      ]
     },
     "execution_count": 32,
     "metadata": {},
     "output_type": "execute_result"
    }
   ],
   "source": [
    "model.fit(X_train, y_train.values.ravel())"
   ]
  },
  {
   "cell_type": "code",
   "execution_count": 33,
   "id": "af59f8c0",
   "metadata": {
    "execution": {
     "iopub.execute_input": "2025-08-05T16:12:10.989350Z",
     "iopub.status.busy": "2025-08-05T16:12:10.988547Z",
     "iopub.status.idle": "2025-08-05T16:12:10.993942Z",
     "shell.execute_reply": "2025-08-05T16:12:10.992902Z"
    },
    "papermill": {
     "duration": 0.026217,
     "end_time": "2025-08-05T16:12:10.995673",
     "exception": false,
     "start_time": "2025-08-05T16:12:10.969456",
     "status": "completed"
    },
    "tags": []
   },
   "outputs": [],
   "source": [
    "from fairness_multiverse.universe import predict_w_threshold"
   ]
  },
  {
   "cell_type": "code",
   "execution_count": 34,
   "id": "a7cf2e16",
   "metadata": {
    "execution": {
     "iopub.execute_input": "2025-08-05T16:12:11.035651Z",
     "iopub.status.busy": "2025-08-05T16:12:11.034673Z",
     "iopub.status.idle": "2025-08-05T16:12:12.697397Z",
     "shell.execute_reply": "2025-08-05T16:12:12.696653Z"
    },
    "papermill": {
     "duration": 1.683041,
     "end_time": "2025-08-05T16:12:12.698794",
     "exception": false,
     "start_time": "2025-08-05T16:12:11.015753",
     "status": "completed"
    },
    "tags": []
   },
   "outputs": [
    {
     "data": {
      "text/plain": [
       "0.8615650429160628"
      ]
     },
     "execution_count": 34,
     "metadata": {},
     "output_type": "execute_result"
    }
   ],
   "source": [
    "probs_test = model.predict_proba(X_test)\n",
    "\n",
    "'''\n",
    "Below code returns a boolean array (or binary 0/1 array depending on how it’s used) where each element \n",
    "is True if the probability of class 1 is greater than or equal to the threshold, and False otherwise.\n",
    "'''\n",
    "y_pred_default = predict_w_threshold(probs_test, 0.5)\n",
    "\n",
    "from sklearn.metrics import accuracy_score\n",
    "\n",
    "# Naive prediction\n",
    "accuracy_score(y_true = y_true, y_pred = y_pred_default)"
   ]
  },
  {
   "cell_type": "code",
   "execution_count": 35,
   "id": "081964c3",
   "metadata": {
    "execution": {
     "iopub.execute_input": "2025-08-05T16:12:12.722316Z",
     "iopub.status.busy": "2025-08-05T16:12:12.721965Z",
     "iopub.status.idle": "2025-08-05T16:12:13.912959Z",
     "shell.execute_reply": "2025-08-05T16:12:13.912104Z"
    },
    "papermill": {
     "duration": 1.204016,
     "end_time": "2025-08-05T16:12:13.914338",
     "exception": false,
     "start_time": "2025-08-05T16:12:12.710322",
     "status": "completed"
    },
    "tags": []
   },
   "outputs": [
    {
     "data": {
      "text/plain": [
       "array([0, 0, 0, ..., 0, 0, 0])"
      ]
     },
     "execution_count": 35,
     "metadata": {},
     "output_type": "execute_result"
    }
   ],
   "source": [
    "model.predict(X_test)"
   ]
  },
  {
   "cell_type": "markdown",
   "id": "56c9705b",
   "metadata": {
    "papermill": {
     "duration": 0.010279,
     "end_time": "2025-08-05T16:12:13.937824",
     "exception": false,
     "start_time": "2025-08-05T16:12:13.927545",
     "status": "completed"
    },
    "tags": []
   },
   "source": [
    "# Conformal Prediction"
   ]
  },
  {
   "cell_type": "code",
   "execution_count": 36,
   "id": "160ec6ff",
   "metadata": {
    "execution": {
     "iopub.execute_input": "2025-08-05T16:12:13.960164Z",
     "iopub.status.busy": "2025-08-05T16:12:13.959662Z",
     "iopub.status.idle": "2025-08-05T16:12:13.964090Z",
     "shell.execute_reply": "2025-08-05T16:12:13.963354Z"
    },
    "papermill": {
     "duration": 0.017199,
     "end_time": "2025-08-05T16:12:13.965365",
     "exception": false,
     "start_time": "2025-08-05T16:12:13.948166",
     "status": "completed"
    },
    "tags": []
   },
   "outputs": [],
   "source": [
    "# Miscoverage level for conformal prediction (10% allowed error rate => 90% target coverage)\n",
    "alpha = 0.1"
   ]
  },
  {
   "cell_type": "code",
   "execution_count": 37,
   "id": "eadf4555-3dd3-440e-8e35-f82a4ad9f855",
   "metadata": {
    "execution": {
     "iopub.execute_input": "2025-08-05T16:12:13.988335Z",
     "iopub.status.busy": "2025-08-05T16:12:13.987812Z",
     "iopub.status.idle": "2025-08-05T16:12:15.182202Z",
     "shell.execute_reply": "2025-08-05T16:12:15.181403Z"
    },
    "papermill": {
     "duration": 1.206899,
     "end_time": "2025-08-05T16:12:15.183591",
     "exception": false,
     "start_time": "2025-08-05T16:12:13.976692",
     "status": "completed"
    },
    "tags": []
   },
   "outputs": [],
   "source": [
    "probs_calib = model.predict_proba(X_calib)"
   ]
  },
  {
   "cell_type": "code",
   "execution_count": 38,
   "id": "2ed93547-6d5d-4983-9b36-1ecb300da49a",
   "metadata": {
    "execution": {
     "iopub.execute_input": "2025-08-05T16:12:15.207408Z",
     "iopub.status.busy": "2025-08-05T16:12:15.206712Z",
     "iopub.status.idle": "2025-08-05T16:12:15.211626Z",
     "shell.execute_reply": "2025-08-05T16:12:15.210951Z"
    },
    "papermill": {
     "duration": 0.018187,
     "end_time": "2025-08-05T16:12:15.213102",
     "exception": false,
     "start_time": "2025-08-05T16:12:15.194915",
     "status": "completed"
    },
    "tags": []
   },
   "outputs": [],
   "source": [
    "y_calib = y_calib.values.ravel().astype(int)"
   ]
  },
  {
   "cell_type": "code",
   "execution_count": 39,
   "id": "65d1320d-f588-4b38-9072-62af1ae97f7d",
   "metadata": {
    "execution": {
     "iopub.execute_input": "2025-08-05T16:12:15.236089Z",
     "iopub.status.busy": "2025-08-05T16:12:15.235473Z",
     "iopub.status.idle": "2025-08-05T16:12:15.241228Z",
     "shell.execute_reply": "2025-08-05T16:12:15.240511Z"
    },
    "papermill": {
     "duration": 0.017978,
     "end_time": "2025-08-05T16:12:15.242666",
     "exception": false,
     "start_time": "2025-08-05T16:12:15.224688",
     "status": "completed"
    },
    "tags": []
   },
   "outputs": [],
   "source": [
    "from fairness_multiverse.conformal import compute_nc_scores\n",
    "\n",
    "# Compute nonconformity scores on calibration set (1 - probability of true class)\n",
    "nc_scores = compute_nc_scores(probs_calib, y_calib)"
   ]
  },
  {
   "cell_type": "code",
   "execution_count": 40,
   "id": "df3b8ca3-53b7-43d5-9667-7c85da7aeda2",
   "metadata": {
    "execution": {
     "iopub.execute_input": "2025-08-05T16:12:15.266203Z",
     "iopub.status.busy": "2025-08-05T16:12:15.265468Z",
     "iopub.status.idle": "2025-08-05T16:12:15.271077Z",
     "shell.execute_reply": "2025-08-05T16:12:15.270286Z"
    },
    "papermill": {
     "duration": 0.018473,
     "end_time": "2025-08-05T16:12:15.272526",
     "exception": false,
     "start_time": "2025-08-05T16:12:15.254053",
     "status": "completed"
    },
    "tags": []
   },
   "outputs": [],
   "source": [
    "from fairness_multiverse.conformal import find_threshold\n",
    "\n",
    "# Find conformal threshold q_hat for the given alpha (split conformal method)\n",
    "q_hat = find_threshold(nc_scores, alpha)"
   ]
  },
  {
   "cell_type": "code",
   "execution_count": 41,
   "id": "4d29e6c1-0ef6-4aa4-b8fe-4fe79b0d033a",
   "metadata": {
    "execution": {
     "iopub.execute_input": "2025-08-05T16:12:15.295265Z",
     "iopub.status.busy": "2025-08-05T16:12:15.294617Z",
     "iopub.status.idle": "2025-08-05T16:12:15.300992Z",
     "shell.execute_reply": "2025-08-05T16:12:15.300213Z"
    },
    "papermill": {
     "duration": 0.018842,
     "end_time": "2025-08-05T16:12:15.302440",
     "exception": false,
     "start_time": "2025-08-05T16:12:15.283598",
     "status": "completed"
    },
    "tags": []
   },
   "outputs": [
    {
     "data": {
      "text/plain": [
       "0.6799999999999999"
      ]
     },
     "execution_count": 41,
     "metadata": {},
     "output_type": "execute_result"
    }
   ],
   "source": [
    "q_hat"
   ]
  },
  {
   "cell_type": "code",
   "execution_count": 42,
   "id": "92460794-cdac-4be2-ba28-f28c0515a6fb",
   "metadata": {
    "execution": {
     "iopub.execute_input": "2025-08-05T16:12:15.325929Z",
     "iopub.status.busy": "2025-08-05T16:12:15.325289Z",
     "iopub.status.idle": "2025-08-05T16:12:16.942735Z",
     "shell.execute_reply": "2025-08-05T16:12:16.941994Z"
    },
    "papermill": {
     "duration": 1.630172,
     "end_time": "2025-08-05T16:12:16.944297",
     "exception": false,
     "start_time": "2025-08-05T16:12:15.314125",
     "status": "completed"
    },
    "tags": []
   },
   "outputs": [],
   "source": [
    "from fairness_multiverse.conformal import predict_conformal_sets\n",
    "\n",
    "# Generate prediction sets for each test example\n",
    "pred_sets = predict_conformal_sets(model, X_test, q_hat)"
   ]
  },
  {
   "cell_type": "code",
   "execution_count": 43,
   "id": "d90c9a65-e6db-4f5d-80cd-e68fb7e46829",
   "metadata": {
    "execution": {
     "iopub.execute_input": "2025-08-05T16:12:16.967255Z",
     "iopub.status.busy": "2025-08-05T16:12:16.966934Z",
     "iopub.status.idle": "2025-08-05T16:12:16.971296Z",
     "shell.execute_reply": "2025-08-05T16:12:16.970442Z"
    },
    "papermill": {
     "duration": 0.016858,
     "end_time": "2025-08-05T16:12:16.972650",
     "exception": false,
     "start_time": "2025-08-05T16:12:16.955792",
     "status": "completed"
    },
    "tags": []
   },
   "outputs": [],
   "source": [
    "y_true = y_true.squeeze()"
   ]
  },
  {
   "cell_type": "code",
   "execution_count": 44,
   "id": "3a58a54a-1e68-46b9-927a-df01f18aebc8",
   "metadata": {
    "execution": {
     "iopub.execute_input": "2025-08-05T16:12:16.996850Z",
     "iopub.status.busy": "2025-08-05T16:12:16.996132Z",
     "iopub.status.idle": "2025-08-05T16:12:17.469040Z",
     "shell.execute_reply": "2025-08-05T16:12:17.468289Z"
    },
    "papermill": {
     "duration": 0.485981,
     "end_time": "2025-08-05T16:12:17.470574",
     "exception": false,
     "start_time": "2025-08-05T16:12:16.984593",
     "status": "completed"
    },
    "tags": []
   },
   "outputs": [],
   "source": [
    "from fairness_multiverse.conformal import evaluate_sets\n",
    "\n",
    "# Evaluate coverage and average set size on test data\n",
    "metrics = evaluate_sets(pred_sets, y_true)"
   ]
  },
  {
   "cell_type": "markdown",
   "id": "2b569c12-9aaa-4c88-98c9-bbcd0cf3ebb8",
   "metadata": {
    "papermill": {
     "duration": 0.01044,
     "end_time": "2025-08-05T16:12:17.492163",
     "exception": false,
     "start_time": "2025-08-05T16:12:17.481723",
     "status": "completed"
    },
    "tags": []
   },
   "source": [
    "# CP Metrics"
   ]
  },
  {
   "cell_type": "code",
   "execution_count": 45,
   "id": "5ce0a5cb-201f-45a0-ade5-94c7f0bd6095",
   "metadata": {
    "execution": {
     "iopub.execute_input": "2025-08-05T16:12:17.515177Z",
     "iopub.status.busy": "2025-08-05T16:12:17.514671Z",
     "iopub.status.idle": "2025-08-05T16:12:17.521337Z",
     "shell.execute_reply": "2025-08-05T16:12:17.520515Z"
    },
    "papermill": {
     "duration": 0.019376,
     "end_time": "2025-08-05T16:12:17.522700",
     "exception": false,
     "start_time": "2025-08-05T16:12:17.503324",
     "status": "completed"
    },
    "tags": []
   },
   "outputs": [
    {
     "data": {
      "text/plain": [
       "{'coverage': 0.913075465388474, 'avg_size': 1.148099431501505}"
      ]
     },
     "execution_count": 45,
     "metadata": {},
     "output_type": "execute_result"
    }
   ],
   "source": [
    "metrics"
   ]
  },
  {
   "cell_type": "code",
   "execution_count": 46,
   "id": "9b9a838d-31c9-430b-ae14-12baee460d17",
   "metadata": {
    "execution": {
     "iopub.execute_input": "2025-08-05T16:12:17.546876Z",
     "iopub.status.busy": "2025-08-05T16:12:17.546279Z",
     "iopub.status.idle": "2025-08-05T16:12:17.551450Z",
     "shell.execute_reply": "2025-08-05T16:12:17.550685Z"
    },
    "papermill": {
     "duration": 0.018553,
     "end_time": "2025-08-05T16:12:17.552921",
     "exception": false,
     "start_time": "2025-08-05T16:12:17.534368",
     "status": "completed"
    },
    "tags": []
   },
   "outputs": [],
   "source": [
    "example_universe = universe.copy()\n",
    "universe_training_year = example_universe.get(\"training_year\")\n",
    "universe_training_size = example_universe.get(\"training_size\")\n",
    "universe_scale = example_universe.get(\"scale\")\n",
    "universe_model = example_universe.get(\"model\")\n",
    "universe_exclude_features = example_universe.get(\"exclude_features\")\n",
    "universe_exclude_subgroups = example_universe.get(\"exclude_subgroups\")"
   ]
  },
  {
   "cell_type": "code",
   "execution_count": 47,
   "id": "f4b6a8ac-9dc0-4245-8a91-5b3b5999c4f9",
   "metadata": {
    "execution": {
     "iopub.execute_input": "2025-08-05T16:12:17.576274Z",
     "iopub.status.busy": "2025-08-05T16:12:17.575785Z",
     "iopub.status.idle": "2025-08-05T16:12:17.580737Z",
     "shell.execute_reply": "2025-08-05T16:12:17.579976Z"
    },
    "papermill": {
     "duration": 0.017631,
     "end_time": "2025-08-05T16:12:17.582228",
     "exception": false,
     "start_time": "2025-08-05T16:12:17.564597",
     "status": "completed"
    },
    "tags": []
   },
   "outputs": [],
   "source": [
    "cp_metrics_dict = {\n",
    "    \"universe_id\": [universe_id],\n",
    "    \"universe_training_year\": [universe_training_year],\n",
    "    \"universe_training_size\": [universe_training_size],\n",
    "    \"universe_scale\": [universe_scale],\n",
    "    \"universe_model\": [universe_model],\n",
    "    \"universe_exclude_features\": [universe_exclude_features],\n",
    "    \"universe_exclude_subgroups\": [universe_exclude_subgroups],\n",
    "    \"q_hat\": [q_hat],\n",
    "    \"coverage\": [metrics[\"coverage\"]],\n",
    "    \"avg_size\": [metrics[\"avg_size\"]],\n",
    "}"
   ]
  },
  {
   "cell_type": "code",
   "execution_count": 48,
   "id": "908acbb1-0371-4915-85ca-3fa520d2efe2",
   "metadata": {
    "execution": {
     "iopub.execute_input": "2025-08-05T16:12:17.606262Z",
     "iopub.status.busy": "2025-08-05T16:12:17.605750Z",
     "iopub.status.idle": "2025-08-05T16:12:17.612000Z",
     "shell.execute_reply": "2025-08-05T16:12:17.611332Z"
    },
    "papermill": {
     "duration": 0.01954,
     "end_time": "2025-08-05T16:12:17.613196",
     "exception": false,
     "start_time": "2025-08-05T16:12:17.593656",
     "status": "completed"
    },
    "tags": []
   },
   "outputs": [
    {
     "data": {
      "text/plain": [
       "{'universe_id': ['fa9954f88f89ea0503584a825810f34f'],\n",
       " 'universe_training_year': ['2014'],\n",
       " 'universe_training_size': ['1k'],\n",
       " 'universe_scale': ['do-not-scale'],\n",
       " 'universe_model': ['rf'],\n",
       " 'universe_exclude_features': ['age'],\n",
       " 'universe_exclude_subgroups': ['keep-all'],\n",
       " 'q_hat': [0.6799999999999999],\n",
       " 'coverage': [0.913075465388474],\n",
       " 'avg_size': [1.148099431501505]}"
      ]
     },
     "execution_count": 48,
     "metadata": {},
     "output_type": "execute_result"
    }
   ],
   "source": [
    "cp_metrics_dict"
   ]
  },
  {
   "cell_type": "code",
   "execution_count": 49,
   "id": "33007efc-14e9-4ec6-97ac-56a455c82265",
   "metadata": {
    "execution": {
     "iopub.execute_input": "2025-08-05T16:12:17.636670Z",
     "iopub.status.busy": "2025-08-05T16:12:17.636384Z",
     "iopub.status.idle": "2025-08-05T16:12:17.641035Z",
     "shell.execute_reply": "2025-08-05T16:12:17.640265Z"
    },
    "papermill": {
     "duration": 0.017711,
     "end_time": "2025-08-05T16:12:17.642498",
     "exception": false,
     "start_time": "2025-08-05T16:12:17.624787",
     "status": "completed"
    },
    "tags": []
   },
   "outputs": [],
   "source": [
    "cp_metrics_df = pd.DataFrame(cp_metrics_dict)"
   ]
  },
  {
   "cell_type": "code",
   "execution_count": 50,
   "id": "db12611b-57b2-4910-b9d0-355adfd6e7bf",
   "metadata": {
    "execution": {
     "iopub.execute_input": "2025-08-05T16:12:17.667173Z",
     "iopub.status.busy": "2025-08-05T16:12:17.666527Z",
     "iopub.status.idle": "2025-08-05T16:12:17.688578Z",
     "shell.execute_reply": "2025-08-05T16:12:17.687505Z"
    },
    "papermill": {
     "duration": 0.035326,
     "end_time": "2025-08-05T16:12:17.690315",
     "exception": false,
     "start_time": "2025-08-05T16:12:17.654989",
     "status": "completed"
    },
    "tags": []
   },
   "outputs": [
    {
     "data": {
      "text/html": [
       "<div>\n",
       "<style scoped>\n",
       "    .dataframe tbody tr th:only-of-type {\n",
       "        vertical-align: middle;\n",
       "    }\n",
       "\n",
       "    .dataframe tbody tr th {\n",
       "        vertical-align: top;\n",
       "    }\n",
       "\n",
       "    .dataframe thead th {\n",
       "        text-align: right;\n",
       "    }\n",
       "</style>\n",
       "<table border=\"1\" class=\"dataframe\">\n",
       "  <thead>\n",
       "    <tr style=\"text-align: right;\">\n",
       "      <th></th>\n",
       "      <th>universe_id</th>\n",
       "      <th>universe_training_year</th>\n",
       "      <th>universe_training_size</th>\n",
       "      <th>universe_scale</th>\n",
       "      <th>universe_model</th>\n",
       "      <th>universe_exclude_features</th>\n",
       "      <th>universe_exclude_subgroups</th>\n",
       "      <th>q_hat</th>\n",
       "      <th>coverage</th>\n",
       "      <th>avg_size</th>\n",
       "    </tr>\n",
       "  </thead>\n",
       "  <tbody>\n",
       "    <tr>\n",
       "      <th>0</th>\n",
       "      <td>fa9954f88f89ea0503584a825810f34f</td>\n",
       "      <td>2014</td>\n",
       "      <td>1k</td>\n",
       "      <td>do-not-scale</td>\n",
       "      <td>rf</td>\n",
       "      <td>age</td>\n",
       "      <td>keep-all</td>\n",
       "      <td>0.68</td>\n",
       "      <td>0.913075</td>\n",
       "      <td>1.148099</td>\n",
       "    </tr>\n",
       "  </tbody>\n",
       "</table>\n",
       "</div>"
      ],
      "text/plain": [
       "                        universe_id universe_training_year  \\\n",
       "0  fa9954f88f89ea0503584a825810f34f                   2014   \n",
       "\n",
       "  universe_training_size universe_scale universe_model  \\\n",
       "0                     1k   do-not-scale             rf   \n",
       "\n",
       "  universe_exclude_features universe_exclude_subgroups  q_hat  coverage  \\\n",
       "0                       age                   keep-all   0.68  0.913075   \n",
       "\n",
       "   avg_size  \n",
       "0  1.148099  "
      ]
     },
     "execution_count": 50,
     "metadata": {},
     "output_type": "execute_result"
    }
   ],
   "source": [
    "cp_metrics_df"
   ]
  },
  {
   "cell_type": "code",
   "execution_count": 51,
   "id": "b7fbde55-a0a1-47e4-9af6-fe4a17fa8c61",
   "metadata": {
    "execution": {
     "iopub.execute_input": "2025-08-05T16:12:17.739346Z",
     "iopub.status.busy": "2025-08-05T16:12:17.738639Z",
     "iopub.status.idle": "2025-08-05T16:12:17.743682Z",
     "shell.execute_reply": "2025-08-05T16:12:17.742716Z"
    },
    "papermill": {
     "duration": 0.031285,
     "end_time": "2025-08-05T16:12:17.745741",
     "exception": false,
     "start_time": "2025-08-05T16:12:17.714456",
     "status": "completed"
    },
    "tags": []
   },
   "outputs": [],
   "source": [
    "# Conditional Coverage & looking at subgroups"
   ]
  },
  {
   "cell_type": "code",
   "execution_count": 52,
   "id": "027ae886-68dd-4141-96c7-805a5450e1ef",
   "metadata": {
    "execution": {
     "iopub.execute_input": "2025-08-05T16:12:17.794441Z",
     "iopub.status.busy": "2025-08-05T16:12:17.794102Z",
     "iopub.status.idle": "2025-08-05T16:12:18.036267Z",
     "shell.execute_reply": "2025-08-05T16:12:18.035497Z"
    },
    "papermill": {
     "duration": 0.268418,
     "end_time": "2025-08-05T16:12:18.037816",
     "exception": false,
     "start_time": "2025-08-05T16:12:17.769398",
     "status": "completed"
    },
    "tags": []
   },
   "outputs": [],
   "source": [
    "from fairness_multiverse.conformal import build_cp_groups\n",
    "\n",
    "cp_groups_df = build_cp_groups(pred_sets, y_true, X_test.index, org_test)\n",
    "#needs universe_id and setting"
   ]
  },
  {
   "cell_type": "code",
   "execution_count": 53,
   "id": "6cbdab96-b2b2-45af-ad54-d0516db2e28d",
   "metadata": {
    "execution": {
     "iopub.execute_input": "2025-08-05T16:12:18.062563Z",
     "iopub.status.busy": "2025-08-05T16:12:18.062054Z",
     "iopub.status.idle": "2025-08-05T16:12:18.943389Z",
     "shell.execute_reply": "2025-08-05T16:12:18.942633Z"
    },
    "papermill": {
     "duration": 0.894467,
     "end_time": "2025-08-05T16:12:18.944801",
     "exception": false,
     "start_time": "2025-08-05T16:12:18.050334",
     "status": "completed"
    },
    "tags": []
   },
   "outputs": [],
   "source": [
    "# Define covered = 1 if true_label is in the predicted set\n",
    "cp_groups_df['covered'] = cp_groups_df.apply(\n",
    "    lambda r: int(r['true_label'] in r['pred_set']),\n",
    "    axis=1\n",
    ")"
   ]
  },
  {
   "cell_type": "code",
   "execution_count": 54,
   "id": "338ff529-1a6b-4b87-a931-8e4788d52aad",
   "metadata": {
    "execution": {
     "iopub.execute_input": "2025-08-05T16:12:18.972648Z",
     "iopub.status.busy": "2025-08-05T16:12:18.972039Z",
     "iopub.status.idle": "2025-08-05T16:12:18.976387Z",
     "shell.execute_reply": "2025-08-05T16:12:18.975692Z"
    },
    "papermill": {
     "duration": 0.018478,
     "end_time": "2025-08-05T16:12:18.977817",
     "exception": false,
     "start_time": "2025-08-05T16:12:18.959339",
     "status": "completed"
    },
    "tags": []
   },
   "outputs": [],
   "source": [
    "#cp_groups_df"
   ]
  },
  {
   "cell_type": "code",
   "execution_count": 55,
   "id": "90032e27-66df-4540-9169-4e89cfbaa758",
   "metadata": {
    "execution": {
     "iopub.execute_input": "2025-08-05T16:12:19.002608Z",
     "iopub.status.busy": "2025-08-05T16:12:19.002114Z",
     "iopub.status.idle": "2025-08-05T16:12:19.011908Z",
     "shell.execute_reply": "2025-08-05T16:12:19.011049Z"
    },
    "papermill": {
     "duration": 0.022953,
     "end_time": "2025-08-05T16:12:19.013211",
     "exception": false,
     "start_time": "2025-08-05T16:12:18.990258",
     "status": "completed"
    },
    "tags": []
   },
   "outputs": [],
   "source": [
    "subgroups = ['frau1','nongerman','nongerman_male','nongerman_female']\n",
    "\n",
    "# Conditional coverage for subgroup==1\n",
    "cond_coverage = {\n",
    "    g: cp_groups_df.loc[cp_groups_df[g]==1, 'covered'].mean()\n",
    "    for g in subgroups\n",
    "}"
   ]
  },
  {
   "cell_type": "code",
   "execution_count": 56,
   "id": "1e348fb1-b9c3-45bc-ba23-f016827a7e0d",
   "metadata": {
    "execution": {
     "iopub.execute_input": "2025-08-05T16:12:19.039609Z",
     "iopub.status.busy": "2025-08-05T16:12:19.038916Z",
     "iopub.status.idle": "2025-08-05T16:12:19.044989Z",
     "shell.execute_reply": "2025-08-05T16:12:19.044203Z"
    },
    "papermill": {
     "duration": 0.020446,
     "end_time": "2025-08-05T16:12:19.046468",
     "exception": false,
     "start_time": "2025-08-05T16:12:19.026022",
     "status": "completed"
    },
    "tags": []
   },
   "outputs": [
    {
     "data": {
      "text/plain": [
       "{'frau1': 0.9071572988273352,\n",
       " 'nongerman': 0.9078762701397856,\n",
       " 'nongerman_male': 0.9258758893992615,\n",
       " 'nongerman_female': 0.8780923994038748}"
      ]
     },
     "execution_count": 56,
     "metadata": {},
     "output_type": "execute_result"
    }
   ],
   "source": [
    "cond_coverage"
   ]
  },
  {
   "cell_type": "code",
   "execution_count": 57,
   "id": "f5093324-c3dd-4d63-bc4c-8d945e5c8bbb",
   "metadata": {
    "execution": {
     "iopub.execute_input": "2025-08-05T16:12:19.073745Z",
     "iopub.status.busy": "2025-08-05T16:12:19.073223Z",
     "iopub.status.idle": "2025-08-05T16:12:19.079823Z",
     "shell.execute_reply": "2025-08-05T16:12:19.079091Z"
    },
    "papermill": {
     "duration": 0.021861,
     "end_time": "2025-08-05T16:12:19.081325",
     "exception": false,
     "start_time": "2025-08-05T16:12:19.059464",
     "status": "completed"
    },
    "tags": []
   },
   "outputs": [],
   "source": [
    "for subgroup, cov in cond_coverage.items():\n",
    "    cp_metrics_df[f\"cov_{subgroup}\"] = cov"
   ]
  },
  {
   "cell_type": "code",
   "execution_count": 58,
   "id": "6e872e10-dbe5-49e8-b554-5030c98ff75d",
   "metadata": {
    "execution": {
     "iopub.execute_input": "2025-08-05T16:12:19.107747Z",
     "iopub.status.busy": "2025-08-05T16:12:19.107240Z",
     "iopub.status.idle": "2025-08-05T16:12:19.121309Z",
     "shell.execute_reply": "2025-08-05T16:12:19.120462Z"
    },
    "papermill": {
     "duration": 0.028429,
     "end_time": "2025-08-05T16:12:19.122903",
     "exception": false,
     "start_time": "2025-08-05T16:12:19.094474",
     "status": "completed"
    },
    "tags": []
   },
   "outputs": [
    {
     "data": {
      "text/html": [
       "<div>\n",
       "<style scoped>\n",
       "    .dataframe tbody tr th:only-of-type {\n",
       "        vertical-align: middle;\n",
       "    }\n",
       "\n",
       "    .dataframe tbody tr th {\n",
       "        vertical-align: top;\n",
       "    }\n",
       "\n",
       "    .dataframe thead th {\n",
       "        text-align: right;\n",
       "    }\n",
       "</style>\n",
       "<table border=\"1\" class=\"dataframe\">\n",
       "  <thead>\n",
       "    <tr style=\"text-align: right;\">\n",
       "      <th></th>\n",
       "      <th>universe_id</th>\n",
       "      <th>universe_training_year</th>\n",
       "      <th>universe_training_size</th>\n",
       "      <th>universe_scale</th>\n",
       "      <th>universe_model</th>\n",
       "      <th>universe_exclude_features</th>\n",
       "      <th>universe_exclude_subgroups</th>\n",
       "      <th>q_hat</th>\n",
       "      <th>coverage</th>\n",
       "      <th>avg_size</th>\n",
       "      <th>cov_frau1</th>\n",
       "      <th>cov_nongerman</th>\n",
       "      <th>cov_nongerman_male</th>\n",
       "      <th>cov_nongerman_female</th>\n",
       "    </tr>\n",
       "  </thead>\n",
       "  <tbody>\n",
       "    <tr>\n",
       "      <th>0</th>\n",
       "      <td>fa9954f88f89ea0503584a825810f34f</td>\n",
       "      <td>2014</td>\n",
       "      <td>1k</td>\n",
       "      <td>do-not-scale</td>\n",
       "      <td>rf</td>\n",
       "      <td>age</td>\n",
       "      <td>keep-all</td>\n",
       "      <td>0.68</td>\n",
       "      <td>0.913075</td>\n",
       "      <td>1.148099</td>\n",
       "      <td>0.907157</td>\n",
       "      <td>0.907876</td>\n",
       "      <td>0.925876</td>\n",
       "      <td>0.878092</td>\n",
       "    </tr>\n",
       "  </tbody>\n",
       "</table>\n",
       "</div>"
      ],
      "text/plain": [
       "                        universe_id universe_training_year  \\\n",
       "0  fa9954f88f89ea0503584a825810f34f                   2014   \n",
       "\n",
       "  universe_training_size universe_scale universe_model  \\\n",
       "0                     1k   do-not-scale             rf   \n",
       "\n",
       "  universe_exclude_features universe_exclude_subgroups  q_hat  coverage  \\\n",
       "0                       age                   keep-all   0.68  0.913075   \n",
       "\n",
       "   avg_size  cov_frau1  cov_nongerman  cov_nongerman_male  \\\n",
       "0  1.148099   0.907157       0.907876            0.925876   \n",
       "\n",
       "   cov_nongerman_female  \n",
       "0              0.878092  "
      ]
     },
     "execution_count": 58,
     "metadata": {},
     "output_type": "execute_result"
    }
   ],
   "source": [
    "cp_metrics_df"
   ]
  },
  {
   "cell_type": "markdown",
   "id": "33774451",
   "metadata": {
    "papermill": {
     "duration": 0.013409,
     "end_time": "2025-08-05T16:12:19.149336",
     "exception": false,
     "start_time": "2025-08-05T16:12:19.135927",
     "status": "completed"
    },
    "tags": []
   },
   "source": [
    "# (Fairness) Metrics"
   ]
  },
  {
   "cell_type": "code",
   "execution_count": 59,
   "id": "debc5d62",
   "metadata": {
    "execution": {
     "iopub.execute_input": "2025-08-05T16:12:19.177982Z",
     "iopub.status.busy": "2025-08-05T16:12:19.177525Z",
     "iopub.status.idle": "2025-08-05T16:12:19.192128Z",
     "shell.execute_reply": "2025-08-05T16:12:19.191400Z"
    },
    "papermill": {
     "duration": 0.029134,
     "end_time": "2025-08-05T16:12:19.193439",
     "exception": false,
     "start_time": "2025-08-05T16:12:19.164305",
     "status": "completed"
    },
    "tags": []
   },
   "outputs": [],
   "source": [
    "# do I need to include maxdeutsch1.missing?\n",
    "\n",
    "import numpy as np\n",
    "\n",
    "colname_to_bin = \"maxdeutsch1\"\n",
    "majority_value = org_train[colname_to_bin].mode()[0]\n",
    "\n",
    "org_test[\"majmin\"] = np.where(org_test[colname_to_bin] == majority_value, \"majority\", \"minority\")"
   ]
  },
  {
   "cell_type": "code",
   "execution_count": 60,
   "id": "06a50de5",
   "metadata": {
    "execution": {
     "iopub.execute_input": "2025-08-05T16:12:19.220579Z",
     "iopub.status.busy": "2025-08-05T16:12:19.220041Z",
     "iopub.status.idle": "2025-08-05T16:12:20.910186Z",
     "shell.execute_reply": "2025-08-05T16:12:20.909264Z"
    },
    "papermill": {
     "duration": 1.705427,
     "end_time": "2025-08-05T16:12:20.911933",
     "exception": false,
     "start_time": "2025-08-05T16:12:19.206506",
     "status": "completed"
    },
    "tags": []
   },
   "outputs": [],
   "source": [
    "example_universe = universe.copy()\n",
    "example_universe[\"cutoff\"] = example_universe[\"cutoff\"][0]\n",
    "example_universe[\"eval_fairness_grouping\"] = example_universe[\"eval_fairness_grouping\"][0]\n",
    "fairness_dict, metric_frame = universe_analysis.compute_metrics(\n",
    "    example_universe,\n",
    "    y_pred_prob=probs_test,\n",
    "    y_test=y_true,\n",
    "    org_test=org_test,\n",
    ")"
   ]
  },
  {
   "cell_type": "markdown",
   "id": "f95d4e02",
   "metadata": {
    "papermill": {
     "duration": 0.028802,
     "end_time": "2025-08-05T16:12:20.956967",
     "exception": false,
     "start_time": "2025-08-05T16:12:20.928165",
     "status": "completed"
    },
    "tags": []
   },
   "source": [
    "# Overall"
   ]
  },
  {
   "cell_type": "markdown",
   "id": "bdee4871",
   "metadata": {
    "papermill": {
     "duration": 0.01588,
     "end_time": "2025-08-05T16:12:21.000509",
     "exception": false,
     "start_time": "2025-08-05T16:12:20.984629",
     "status": "completed"
    },
    "tags": []
   },
   "source": [
    "Fairness\n",
    "Main fairness target: Equalized Odds. Seems to be a better fit than equal opportunity, since we're not only interested in Y = 1. Seems to be a better fit than demographic parity, since we also care about accuracy, not just equal distribution of preds.\n",
    "\n",
    "Pick column for computation of fairness metrics\n",
    "\n",
    "Performance\n",
    "Overall performance measures, most interesting in relation to the measures split by group below"
   ]
  },
  {
   "cell_type": "code",
   "execution_count": 61,
   "id": "c4e067c6",
   "metadata": {
    "execution": {
     "iopub.execute_input": "2025-08-05T16:12:21.030541Z",
     "iopub.status.busy": "2025-08-05T16:12:21.030115Z",
     "iopub.status.idle": "2025-08-05T16:12:21.038329Z",
     "shell.execute_reply": "2025-08-05T16:12:21.037451Z"
    },
    "papermill": {
     "duration": 0.025683,
     "end_time": "2025-08-05T16:12:21.040424",
     "exception": false,
     "start_time": "2025-08-05T16:12:21.014741",
     "status": "completed"
    },
    "tags": []
   },
   "outputs": [
    {
     "data": {
      "text/plain": [
       "accuracy                   0.214826\n",
       "balanced accuracy          0.532818\n",
       "f1                         0.238887\n",
       "precision                  0.136405\n",
       "false positive rate        0.894913\n",
       "false negative rate        0.039451\n",
       "selection rate             0.903333\n",
       "count                  89710.000000\n",
       "dtype: float64"
      ]
     },
     "execution_count": 61,
     "metadata": {},
     "output_type": "execute_result"
    }
   ],
   "source": [
    "metric_frame.overall"
   ]
  },
  {
   "cell_type": "markdown",
   "id": "e968fe9d",
   "metadata": {
    "papermill": {
     "duration": 0.034643,
     "end_time": "2025-08-05T16:12:21.109284",
     "exception": false,
     "start_time": "2025-08-05T16:12:21.074641",
     "status": "completed"
    },
    "tags": []
   },
   "source": [
    "By Group"
   ]
  },
  {
   "cell_type": "code",
   "execution_count": 62,
   "id": "ec325bce",
   "metadata": {
    "execution": {
     "iopub.execute_input": "2025-08-05T16:12:21.167447Z",
     "iopub.status.busy": "2025-08-05T16:12:21.166870Z",
     "iopub.status.idle": "2025-08-05T16:12:21.185128Z",
     "shell.execute_reply": "2025-08-05T16:12:21.184242Z"
    },
    "papermill": {
     "duration": 0.04711,
     "end_time": "2025-08-05T16:12:21.186607",
     "exception": false,
     "start_time": "2025-08-05T16:12:21.139497",
     "status": "completed"
    },
    "tags": []
   },
   "outputs": [
    {
     "data": {
      "text/html": [
       "<div>\n",
       "<style scoped>\n",
       "    .dataframe tbody tr th:only-of-type {\n",
       "        vertical-align: middle;\n",
       "    }\n",
       "\n",
       "    .dataframe tbody tr th {\n",
       "        vertical-align: top;\n",
       "    }\n",
       "\n",
       "    .dataframe thead th {\n",
       "        text-align: right;\n",
       "    }\n",
       "</style>\n",
       "<table border=\"1\" class=\"dataframe\">\n",
       "  <thead>\n",
       "    <tr style=\"text-align: right;\">\n",
       "      <th></th>\n",
       "      <th>accuracy</th>\n",
       "      <th>balanced accuracy</th>\n",
       "      <th>f1</th>\n",
       "      <th>precision</th>\n",
       "      <th>false positive rate</th>\n",
       "      <th>false negative rate</th>\n",
       "      <th>selection rate</th>\n",
       "      <th>count</th>\n",
       "    </tr>\n",
       "    <tr>\n",
       "      <th>majmin</th>\n",
       "      <th></th>\n",
       "      <th></th>\n",
       "      <th></th>\n",
       "      <th></th>\n",
       "      <th></th>\n",
       "      <th></th>\n",
       "      <th></th>\n",
       "      <th></th>\n",
       "    </tr>\n",
       "  </thead>\n",
       "  <tbody>\n",
       "    <tr>\n",
       "      <th>majority</th>\n",
       "      <td>0.193885</td>\n",
       "      <td>0.530102</td>\n",
       "      <td>0.244489</td>\n",
       "      <td>0.139523</td>\n",
       "      <td>0.926887</td>\n",
       "      <td>0.012910</td>\n",
       "      <td>0.934842</td>\n",
       "      <td>69170.0</td>\n",
       "    </tr>\n",
       "    <tr>\n",
       "      <th>minority</th>\n",
       "      <td>0.285346</td>\n",
       "      <td>0.534408</td>\n",
       "      <td>0.216828</td>\n",
       "      <td>0.124092</td>\n",
       "      <td>0.789291</td>\n",
       "      <td>0.141892</td>\n",
       "      <td>0.797225</td>\n",
       "      <td>20540.0</td>\n",
       "    </tr>\n",
       "  </tbody>\n",
       "</table>\n",
       "</div>"
      ],
      "text/plain": [
       "          accuracy  balanced accuracy        f1  precision  \\\n",
       "majmin                                                       \n",
       "majority  0.193885           0.530102  0.244489   0.139523   \n",
       "minority  0.285346           0.534408  0.216828   0.124092   \n",
       "\n",
       "          false positive rate  false negative rate  selection rate    count  \n",
       "majmin                                                                       \n",
       "majority             0.926887             0.012910        0.934842  69170.0  \n",
       "minority             0.789291             0.141892        0.797225  20540.0  "
      ]
     },
     "execution_count": 62,
     "metadata": {},
     "output_type": "execute_result"
    }
   ],
   "source": [
    "metric_frame.by_group"
   ]
  },
  {
   "cell_type": "code",
   "execution_count": 63,
   "id": "a9ddbe63",
   "metadata": {
    "execution": {
     "iopub.execute_input": "2025-08-05T16:12:21.225264Z",
     "iopub.status.busy": "2025-08-05T16:12:21.224176Z",
     "iopub.status.idle": "2025-08-05T16:12:24.052958Z",
     "shell.execute_reply": "2025-08-05T16:12:24.051797Z"
    },
    "papermill": {
     "duration": 2.852725,
     "end_time": "2025-08-05T16:12:24.055001",
     "exception": false,
     "start_time": "2025-08-05T16:12:21.202276",
     "status": "completed"
    },
    "tags": []
   },
   "outputs": [
    {
     "data": {
      "text/plain": [
       "array([[<Axes: title={'center': 'accuracy'}, xlabel='majmin'>,\n",
       "        <Axes: title={'center': 'balanced accuracy'}, xlabel='majmin'>,\n",
       "        <Axes: title={'center': 'f1'}, xlabel='majmin'>],\n",
       "       [<Axes: title={'center': 'precision'}, xlabel='majmin'>,\n",
       "        <Axes: title={'center': 'false positive rate'}, xlabel='majmin'>,\n",
       "        <Axes: title={'center': 'false negative rate'}, xlabel='majmin'>],\n",
       "       [<Axes: title={'center': 'selection rate'}, xlabel='majmin'>,\n",
       "        <Axes: title={'center': 'count'}, xlabel='majmin'>,\n",
       "        <Axes: xlabel='majmin'>]], dtype=object)"
      ]
     },
     "execution_count": 63,
     "metadata": {},
     "output_type": "execute_result"
    },
    {
     "data": {
      "image/png": "[encoded data removed]",
      "text/plain": [
       "<Figure size 1200x800 with 9 Axes>"
      ]
     },
     "metadata": {},
     "output_type": "display_data"
    }
   ],
   "source": [
    "# In a graphic\n",
    "metric_frame.by_group.plot.bar(\n",
    "    subplots=True,\n",
    "    layout=[3, 3],\n",
    "    legend=False,\n",
    "    figsize=[12, 8],\n",
    "    title=\"Show all metrics\",\n",
    ")"
   ]
  },
  {
   "cell_type": "markdown",
   "id": "f57a0bac",
   "metadata": {
    "papermill": {
     "duration": 0.035199,
     "end_time": "2025-08-05T16:12:24.123229",
     "exception": false,
     "start_time": "2025-08-05T16:12:24.088030",
     "status": "completed"
    },
    "tags": []
   },
   "source": [
    "# Final Output"
   ]
  },
  {
   "cell_type": "code",
   "execution_count": 64,
   "id": "96d280a3",
   "metadata": {
    "execution": {
     "iopub.execute_input": "2025-08-05T16:12:24.192610Z",
     "iopub.status.busy": "2025-08-05T16:12:24.191862Z",
     "iopub.status.idle": "2025-08-05T16:12:24.201557Z",
     "shell.execute_reply": "2025-08-05T16:12:24.200364Z"
    },
    "papermill": {
     "duration": 0.047343,
     "end_time": "2025-08-05T16:12:24.203457",
     "exception": false,
     "start_time": "2025-08-05T16:12:24.156114",
     "status": "completed"
    },
    "tags": []
   },
   "outputs": [
    {
     "data": {
      "text/plain": [
       "4"
      ]
     },
     "execution_count": 64,
     "metadata": {},
     "output_type": "execute_result"
    }
   ],
   "source": [
    "sub_universes = universe_analysis.generate_sub_universes()\n",
    "len(sub_universes)"
   ]
  },
  {
   "cell_type": "code",
   "execution_count": 65,
   "id": "92adf7ba",
   "metadata": {
    "execution": {
     "iopub.execute_input": "2025-08-05T16:12:24.273428Z",
     "iopub.status.busy": "2025-08-05T16:12:24.272262Z",
     "iopub.status.idle": "2025-08-05T16:12:24.279675Z",
     "shell.execute_reply": "2025-08-05T16:12:24.278513Z"
    },
    "papermill": {
     "duration": 0.044705,
     "end_time": "2025-08-05T16:12:24.281763",
     "exception": false,
     "start_time": "2025-08-05T16:12:24.237058",
     "status": "completed"
    },
    "tags": []
   },
   "outputs": [],
   "source": [
    "def filter_sub_universe_data(sub_universe, org_test):\n",
    "    # Keep all rows — no filtering\n",
    "    keep_rows_mask = np.ones(org_test.shape[0], dtype=bool)\n",
    "\n",
    "    print(f\"[INFO] Keeping all rows: {keep_rows_mask.sum()} rows retained.\")\n",
    "    return keep_rows_mask"
   ]
  },
  {
   "cell_type": "code",
   "execution_count": 66,
   "id": "4a759155",
   "metadata": {
    "execution": {
     "iopub.execute_input": "2025-08-05T16:12:24.352131Z",
     "iopub.status.busy": "2025-08-05T16:12:24.351021Z",
     "iopub.status.idle": "2025-08-05T16:12:34.501839Z",
     "shell.execute_reply": "2025-08-05T16:12:34.500430Z"
    },
    "papermill": {
     "duration": 10.188704,
     "end_time": "2025-08-05T16:12:34.504047",
     "exception": false,
     "start_time": "2025-08-05T16:12:24.315343",
     "status": "completed"
    },
    "tags": []
   },
   "outputs": [
    {
     "name": "stdout",
     "output_type": "stream",
     "text": [
      "Stopping execution_time clock.\n",
      "[INFO] Keeping all rows: 89710 rows retained.\n"
     ]
    },
    {
     "name": "stdout",
     "output_type": "stream",
     "text": [
      "[INFO] Keeping all rows: 89710 rows retained.\n"
     ]
    },
    {
     "name": "stdout",
     "output_type": "stream",
     "text": [
      "[INFO] Keeping all rows: 89710 rows retained.\n"
     ]
    },
    {
     "name": "stdout",
     "output_type": "stream",
     "text": [
      "[INFO] Keeping all rows: 89710 rows retained.\n"
     ]
    },
    {
     "data": {
      "text/html": [
       "<div>\n",
       "<style scoped>\n",
       "    .dataframe tbody tr th:only-of-type {\n",
       "        vertical-align: middle;\n",
       "    }\n",
       "\n",
       "    .dataframe tbody tr th {\n",
       "        vertical-align: top;\n",
       "    }\n",
       "\n",
       "    .dataframe thead th {\n",
       "        text-align: right;\n",
       "    }\n",
       "</style>\n",
       "<table border=\"1\" class=\"dataframe\">\n",
       "  <thead>\n",
       "    <tr style=\"text-align: right;\">\n",
       "      <th></th>\n",
       "      <th>run_no</th>\n",
       "      <th>universe_id</th>\n",
       "      <th>universe_settings</th>\n",
       "      <th>execution_time</th>\n",
       "      <th>test_size_n</th>\n",
       "      <th>test_size_frac</th>\n",
       "      <th>fair_main_equalized_odds_difference</th>\n",
       "      <th>fair_main_equalized_odds_ratio</th>\n",
       "      <th>fair_main_demographic_parity_difference</th>\n",
       "      <th>fair_main_demographic_parity_ratio</th>\n",
       "      <th>...</th>\n",
       "      <th>perf_grp_precision_0</th>\n",
       "      <th>perf_grp_precision_1</th>\n",
       "      <th>perf_grp_false positive rate_0</th>\n",
       "      <th>perf_grp_false positive rate_1</th>\n",
       "      <th>perf_grp_false negative rate_0</th>\n",
       "      <th>perf_grp_false negative rate_1</th>\n",
       "      <th>perf_grp_selection rate_0</th>\n",
       "      <th>perf_grp_selection rate_1</th>\n",
       "      <th>perf_grp_count_0</th>\n",
       "      <th>perf_grp_count_1</th>\n",
       "    </tr>\n",
       "  </thead>\n",
       "  <tbody>\n",
       "    <tr>\n",
       "      <th>0</th>\n",
       "      <td>15</td>\n",
       "      <td>fa9954f88f89ea0503584a825810f34f</td>\n",
       "      <td>{\"cutoff\": \"quantile_0.1\", \"eval_fairness_grou...</td>\n",
       "      <td>27.603852</td>\n",
       "      <td>89710</td>\n",
       "      <td>1.0</td>\n",
       "      <td>0.137595</td>\n",
       "      <td>0.851551</td>\n",
       "      <td>0.137617</td>\n",
       "      <td>0.852791</td>\n",
       "      <td>...</td>\n",
       "      <td>NaN</td>\n",
       "      <td>NaN</td>\n",
       "      <td>NaN</td>\n",
       "      <td>NaN</td>\n",
       "      <td>NaN</td>\n",
       "      <td>NaN</td>\n",
       "      <td>NaN</td>\n",
       "      <td>NaN</td>\n",
       "      <td>NaN</td>\n",
       "      <td>NaN</td>\n",
       "    </tr>\n",
       "    <tr>\n",
       "      <th>0</th>\n",
       "      <td>15</td>\n",
       "      <td>fa9954f88f89ea0503584a825810f34f</td>\n",
       "      <td>{\"cutoff\": \"quantile_0.1\", \"eval_fairness_grou...</td>\n",
       "      <td>27.603852</td>\n",
       "      <td>89710</td>\n",
       "      <td>1.0</td>\n",
       "      <td>0.137595</td>\n",
       "      <td>0.851551</td>\n",
       "      <td>0.137617</td>\n",
       "      <td>0.852791</td>\n",
       "      <td>...</td>\n",
       "      <td>0.124092</td>\n",
       "      <td>0.139523</td>\n",
       "      <td>0.789291</td>\n",
       "      <td>0.926887</td>\n",
       "      <td>0.141892</td>\n",
       "      <td>0.012910</td>\n",
       "      <td>0.797225</td>\n",
       "      <td>0.934842</td>\n",
       "      <td>20540.0</td>\n",
       "      <td>69170.0</td>\n",
       "    </tr>\n",
       "    <tr>\n",
       "      <th>0</th>\n",
       "      <td>15</td>\n",
       "      <td>fa9954f88f89ea0503584a825810f34f</td>\n",
       "      <td>{\"cutoff\": \"quantile_0.25\", \"eval_fairness_gro...</td>\n",
       "      <td>27.603852</td>\n",
       "      <td>89710</td>\n",
       "      <td>1.0</td>\n",
       "      <td>0.140907</td>\n",
       "      <td>0.849594</td>\n",
       "      <td>0.125410</td>\n",
       "      <td>0.847289</td>\n",
       "      <td>...</td>\n",
       "      <td>NaN</td>\n",
       "      <td>NaN</td>\n",
       "      <td>NaN</td>\n",
       "      <td>NaN</td>\n",
       "      <td>NaN</td>\n",
       "      <td>NaN</td>\n",
       "      <td>NaN</td>\n",
       "      <td>NaN</td>\n",
       "      <td>NaN</td>\n",
       "      <td>NaN</td>\n",
       "    </tr>\n",
       "    <tr>\n",
       "      <th>0</th>\n",
       "      <td>15</td>\n",
       "      <td>fa9954f88f89ea0503584a825810f34f</td>\n",
       "      <td>{\"cutoff\": \"quantile_0.25\", \"eval_fairness_gro...</td>\n",
       "      <td>27.603852</td>\n",
       "      <td>89710</td>\n",
       "      <td>1.0</td>\n",
       "      <td>0.140907</td>\n",
       "      <td>0.849594</td>\n",
       "      <td>0.125410</td>\n",
       "      <td>0.847289</td>\n",
       "      <td>...</td>\n",
       "      <td>0.134691</td>\n",
       "      <td>0.153475</td>\n",
       "      <td>0.680552</td>\n",
       "      <td>0.801033</td>\n",
       "      <td>0.187078</td>\n",
       "      <td>0.046171</td>\n",
       "      <td>0.695813</td>\n",
       "      <td>0.821223</td>\n",
       "      <td>20540.0</td>\n",
       "      <td>69170.0</td>\n",
       "    </tr>\n",
       "  </tbody>\n",
       "</table>\n",
       "<p>4 rows × 50 columns</p>\n",
       "</div>"
      ],
      "text/plain": [
       "  run_no                       universe_id  \\\n",
       "0     15  fa9954f88f89ea0503584a825810f34f   \n",
       "0     15  fa9954f88f89ea0503584a825810f34f   \n",
       "0     15  fa9954f88f89ea0503584a825810f34f   \n",
       "0     15  fa9954f88f89ea0503584a825810f34f   \n",
       "\n",
       "                                   universe_settings  execution_time  \\\n",
       "0  {\"cutoff\": \"quantile_0.1\", \"eval_fairness_grou...       27.603852   \n",
       "0  {\"cutoff\": \"quantile_0.1\", \"eval_fairness_grou...       27.603852   \n",
       "0  {\"cutoff\": \"quantile_0.25\", \"eval_fairness_gro...       27.603852   \n",
       "0  {\"cutoff\": \"quantile_0.25\", \"eval_fairness_gro...       27.603852   \n",
       "\n",
       "   test_size_n  test_size_frac  fair_main_equalized_odds_difference  \\\n",
       "0        89710             1.0                             0.137595   \n",
       "0        89710             1.0                             0.137595   \n",
       "0        89710             1.0                             0.140907   \n",
       "0        89710             1.0                             0.140907   \n",
       "\n",
       "   fair_main_equalized_odds_ratio  fair_main_demographic_parity_difference  \\\n",
       "0                        0.851551                                 0.137617   \n",
       "0                        0.851551                                 0.137617   \n",
       "0                        0.849594                                 0.125410   \n",
       "0                        0.849594                                 0.125410   \n",
       "\n",
       "   fair_main_demographic_parity_ratio  ...  perf_grp_precision_0  \\\n",
       "0                            0.852791  ...                   NaN   \n",
       "0                            0.852791  ...              0.124092   \n",
       "0                            0.847289  ...                   NaN   \n",
       "0                            0.847289  ...              0.134691   \n",
       "\n",
       "   perf_grp_precision_1  perf_grp_false positive rate_0  \\\n",
       "0                   NaN                             NaN   \n",
       "0              0.139523                        0.789291   \n",
       "0                   NaN                             NaN   \n",
       "0              0.153475                        0.680552   \n",
       "\n",
       "   perf_grp_false positive rate_1  perf_grp_false negative rate_0  \\\n",
       "0                             NaN                             NaN   \n",
       "0                        0.926887                        0.141892   \n",
       "0                             NaN                             NaN   \n",
       "0                        0.801033                        0.187078   \n",
       "\n",
       "   perf_grp_false negative rate_1  perf_grp_selection rate_0  \\\n",
       "0                             NaN                        NaN   \n",
       "0                        0.012910                   0.797225   \n",
       "0                             NaN                        NaN   \n",
       "0                        0.046171                   0.695813   \n",
       "\n",
       "   perf_grp_selection rate_1  perf_grp_count_0  perf_grp_count_1  \n",
       "0                        NaN               NaN               NaN  \n",
       "0                   0.934842           20540.0           69170.0  \n",
       "0                        NaN               NaN               NaN  \n",
       "0                   0.821223           20540.0           69170.0  \n",
       "\n",
       "[4 rows x 50 columns]"
      ]
     },
     "execution_count": 66,
     "metadata": {},
     "output_type": "execute_result"
    }
   ],
   "source": [
    "final_output = universe_analysis.generate_final_output(\n",
    "    y_pred_prob=probs_test,\n",
    "    y_test=y_true,\n",
    "    org_test=org_test,\n",
    "    filter_data=filter_sub_universe_data,\n",
    "    cp_metrics_df=cp_metrics_df,\n",
    "    save=True,\n",
    ")\n",
    "final_output"
   ]
  }
 ],
 "metadata": {
  "celltoolbar": "Tags",
  "kernelspec": {
   "display_name": "Python (CMA Fairness)",
   "language": "python",
   "name": "cma_fair_env"
  },
  "language_info": {
   "codemirror_mode": {
    "name": "ipython",
    "version": 3
   },
   "file_extension": ".py",
   "mimetype": "text/x-python",
   "name": "python",
   "nbconvert_exporter": "python",
   "pygments_lexer": "ipython3",
   "version": "3.10.12"
  },
  "papermill": {
   "default_parameters": {},
   "duration": 42.272351,
   "end_time": "2025-08-05T16:12:35.360559",
   "environment_variables": {},
   "exception": null,
   "input_path": "universe_analysis.ipynb",
   "output_path": "output/runs/15/notebooks/m_15-fa9954f88f89ea0503584a825810f34f.ipynb",
   "parameters": {
    "output_dir": "output",
    "run_no": "15",
    "seed": "2023",
    "universe": "{\"cutoff\": [\"quantile_0.1\", \"quantile_0.25\"], \"eval_fairness_grouping\": [\"majority-minority\", \"nationality-all\"], \"exclude_features\": \"age\", \"exclude_subgroups\": \"keep-all\", \"model\": \"rf\", \"scale\": \"do-not-scale\", \"training_size\": \"1k\", \"training_year\": \"2014\"}",
    "universe_id": "fa9954f88f89ea0503584a825810f34f"
   },
   "start_time": "2025-08-05T16:11:53.088208",
   "version": "2.6.0"
  }
 },
 "nbformat": 4,
 "nbformat_minor": 5
}