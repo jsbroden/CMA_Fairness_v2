{
 "cells": [
  {
   "cell_type": "code",
   "execution_count": 1,
   "id": "f159f837-637b-42ba-96b5-ec9a68c44524",
   "metadata": {
    "execution": {
     "iopub.execute_input": "2025-08-05T15:49:16.988197Z",
     "iopub.status.busy": "2025-08-05T15:49:16.987708Z",
     "iopub.status.idle": "2025-08-05T15:49:17.007215Z",
     "shell.execute_reply": "2025-08-05T15:49:17.002376Z"
    },
    "papermill": {
     "duration": 0.045635,
     "end_time": "2025-08-05T15:49:17.011100",
     "exception": false,
     "start_time": "2025-08-05T15:49:16.965465",
     "status": "completed"
    },
    "tags": []
   },
   "outputs": [
    {
     "name": "stdout",
     "output_type": "stream",
     "text": [
      "/dss/dsshome1/0C/ra93lal2/cma/CMA_Fairness_v2\n"
     ]
    },
    {
     "name": "stderr",
     "output_type": "stream",
     "text": [
      "/dss/dsshome1/0C/ra93lal2/.local/share/virtualenvs/CMA_Fairness_v2-3j10GkSs/lib/python3.10/site-packages/IPython/core/magics/osm.py:393: UserWarning: This is now an optional IPython functionality, using bookmarks requires you to install the `pickleshare` library.\n",
      "  bkms = self.shell.db.get('bookmarks', {})\n",
      "/dss/dsshome1/0C/ra93lal2/.local/share/virtualenvs/CMA_Fairness_v2-3j10GkSs/lib/python3.10/site-packages/IPython/core/magics/osm.py:417: UserWarning: This is now an optional IPython functionality, setting dhist requires you to install the `pickleshare` library.\n",
      "  self.shell.db['dhist'] = compress_dhist(dhist)[-100:]\n"
     ]
    }
   ],
   "source": [
    "%cd ~/cma/CMA_Fairness_v2"
   ]
  },
  {
   "cell_type": "markdown",
   "id": "de2603b9",
   "metadata": {
    "papermill": {
     "duration": 0.015482,
     "end_time": "2025-08-05T15:49:17.048047",
     "exception": false,
     "start_time": "2025-08-05T15:49:17.032565",
     "status": "completed"
    },
    "tags": []
   },
   "source": [
    "The following cell holds the definition of our parameters, these values can be overriden by rendering the with e.g. the following command:\n",
    "\n",
    "papermill -p alpha 0.2 -p ratio 0.3 universe_analysis.ipynb output/test_run.ipynb"
   ]
  },
  {
   "cell_type": "code",
   "execution_count": 2,
   "id": "a80968a0-40bb-4fa9-85ef-2d5eefb01975",
   "metadata": {
    "execution": {
     "iopub.execute_input": "2025-08-05T15:49:17.086584Z",
     "iopub.status.busy": "2025-08-05T15:49:17.086049Z",
     "iopub.status.idle": "2025-08-05T15:49:17.091913Z",
     "shell.execute_reply": "2025-08-05T15:49:17.090870Z"
    },
    "papermill": {
     "duration": 0.028137,
     "end_time": "2025-08-05T15:49:17.093930",
     "exception": false,
     "start_time": "2025-08-05T15:49:17.065793",
     "status": "completed"
    },
    "tags": []
   },
   "outputs": [
    {
     "name": "stdout",
     "output_type": "stream",
     "text": [
      "Current working directory: /dss/dsshome1/0C/ra93lal2/cma/CMA_Fairness_v2\n"
     ]
    }
   ],
   "source": [
    "import os\n",
    "print(\"Current working directory:\", os.getcwd())"
   ]
  },
  {
   "cell_type": "code",
   "execution_count": 3,
   "id": "2dce4c03",
   "metadata": {
    "execution": {
     "iopub.execute_input": "2025-08-05T15:49:17.132638Z",
     "iopub.status.busy": "2025-08-05T15:49:17.131742Z",
     "iopub.status.idle": "2025-08-05T15:49:17.138906Z",
     "shell.execute_reply": "2025-08-05T15:49:17.137881Z"
    },
    "papermill": {
     "duration": 0.028233,
     "end_time": "2025-08-05T15:49:17.140618",
     "exception": false,
     "start_time": "2025-08-05T15:49:17.112385",
     "status": "completed"
    },
    "tags": [
     "parameters"
    ]
   },
   "outputs": [],
   "source": [
    "run_no = 0\n",
    "universe_id = \"test\"\n",
    "universe = {\n",
    "    \"training_size\": \"25k\", # \"25k\", \"5k\", \"1k\"\n",
    "    \"training_year\": \"2014\", # \"2014\", \"2012_14\", \"2010_14\"\n",
    "    \"scale\": \"scale\", # \"scale\", \"do-not-scale\",\n",
    "    \"model\": \"elasticnet\", # \"logreg\", \"penalized_logreg\", \"rf\", \"gbm\", \"elasticnet\"\n",
    "    \"cutoff\": [\"quantile_0.15\", \"quantile_0.30\"],\n",
    "    \"exclude_features\": \"age\", # \"none\", \"nationality\", \"sex\", \"nationality-sex\", \"age\"\n",
    "    \"exclude_subgroups\": \"keep-all\", # \"keep-all\", \"drop-non-german\"\n",
    "    \"eval_fairness_grouping\": [\"majority-minority\", \"nationality-all\"]\n",
    "}\n",
    "\n",
    "output_dir=\"./output\"\n",
    "seed=0"
   ]
  },
  {
   "cell_type": "code",
   "execution_count": 4,
   "id": "fc2be0e9",
   "metadata": {
    "execution": {
     "iopub.execute_input": "2025-08-05T15:49:17.176207Z",
     "iopub.status.busy": "2025-08-05T15:49:17.175670Z",
     "iopub.status.idle": "2025-08-05T15:49:17.181788Z",
     "shell.execute_reply": "2025-08-05T15:49:17.180747Z"
    },
    "papermill": {
     "duration": 0.025236,
     "end_time": "2025-08-05T15:49:17.183499",
     "exception": false,
     "start_time": "2025-08-05T15:49:17.158263",
     "status": "completed"
    },
    "tags": [
     "injected-parameters"
    ]
   },
   "outputs": [],
   "source": [
    "# Parameters\n",
    "universe_id = \"01ad57a06f1e1b6acf43537ae97981e4\"\n",
    "run_no = \"15\"\n",
    "universe = \"{\\\"cutoff\\\": [\\\"quantile_0.1\\\", \\\"quantile_0.25\\\"], \\\"eval_fairness_grouping\\\": [\\\"majority-minority\\\", \\\"nationality-all\\\"], \\\"exclude_features\\\": \\\"sex\\\", \\\"exclude_subgroups\\\": \\\"keep-all\\\", \\\"model\\\": \\\"penalized_logreg\\\", \\\"scale\\\": \\\"scale\\\", \\\"training_size\\\": \\\"5k\\\", \\\"training_year\\\": \\\"2010_14\\\"}\"\n",
    "output_dir = \"output\"\n",
    "seed = \"2023\"\n"
   ]
  },
  {
   "cell_type": "code",
   "execution_count": 5,
   "id": "1650acaf",
   "metadata": {
    "execution": {
     "iopub.execute_input": "2025-08-05T15:49:17.222972Z",
     "iopub.status.busy": "2025-08-05T15:49:17.222301Z",
     "iopub.status.idle": "2025-08-05T15:49:17.227860Z",
     "shell.execute_reply": "2025-08-05T15:49:17.226669Z"
    },
    "papermill": {
     "duration": 0.027381,
     "end_time": "2025-08-05T15:49:17.229942",
     "exception": false,
     "start_time": "2025-08-05T15:49:17.202561",
     "status": "completed"
    },
    "tags": []
   },
   "outputs": [],
   "source": [
    "import json\n",
    "if isinstance(universe, str):\n",
    "    universe = json.loads(universe)"
   ]
  },
  {
   "cell_type": "code",
   "execution_count": 6,
   "id": "16620c48",
   "metadata": {
    "execution": {
     "iopub.execute_input": "2025-08-05T15:49:17.268992Z",
     "iopub.status.busy": "2025-08-05T15:49:17.268315Z",
     "iopub.status.idle": "2025-08-05T15:49:17.313404Z",
     "shell.execute_reply": "2025-08-05T15:49:17.312681Z"
    },
    "papermill": {
     "duration": 0.071372,
     "end_time": "2025-08-05T15:49:17.318759",
     "exception": false,
     "start_time": "2025-08-05T15:49:17.247387",
     "status": "completed"
    },
    "tags": []
   },
   "outputs": [],
   "source": [
    "# Auto-reload the custom package\n",
    "%load_ext autoreload\n",
    "%autoreload 1\n",
    "%aimport fairness_multiverse"
   ]
  },
  {
   "cell_type": "code",
   "execution_count": 7,
   "id": "01c5c9f3",
   "metadata": {
    "execution": {
     "iopub.execute_input": "2025-08-05T15:49:17.355660Z",
     "iopub.status.busy": "2025-08-05T15:49:17.355166Z",
     "iopub.status.idle": "2025-08-05T15:49:19.371875Z",
     "shell.execute_reply": "2025-08-05T15:49:19.370904Z"
    },
    "papermill": {
     "duration": 2.036713,
     "end_time": "2025-08-05T15:49:19.373647",
     "exception": false,
     "start_time": "2025-08-05T15:49:17.336934",
     "status": "completed"
    },
    "tags": []
   },
   "outputs": [],
   "source": [
    "from fairness_multiverse.universe import UniverseAnalysis\n",
    "\n",
    "universe_analysis = UniverseAnalysis(\n",
    "    run_no = run_no,\n",
    "    universe_id = universe_id,\n",
    "    universe = universe,\n",
    "    output_dir=output_dir,\n",
    ")"
   ]
  },
  {
   "cell_type": "code",
   "execution_count": 8,
   "id": "106241f5",
   "metadata": {
    "execution": {
     "iopub.execute_input": "2025-08-05T15:49:19.412793Z",
     "iopub.status.busy": "2025-08-05T15:49:19.411853Z",
     "iopub.status.idle": "2025-08-05T15:49:19.418804Z",
     "shell.execute_reply": "2025-08-05T15:49:19.417839Z"
    },
    "papermill": {
     "duration": 0.026911,
     "end_time": "2025-08-05T15:49:19.420657",
     "exception": false,
     "start_time": "2025-08-05T15:49:19.393746",
     "status": "completed"
    },
    "tags": []
   },
   "outputs": [
    {
     "name": "stdout",
     "output_type": "stream",
     "text": [
      "Using Seed: 2023\n"
     ]
    }
   ],
   "source": [
    "import numpy as np\n",
    "parsed_seed = int(seed)\n",
    "np.random.seed(parsed_seed)\n",
    "print(f\"Using Seed: {parsed_seed}\")"
   ]
  },
  {
   "cell_type": "markdown",
   "id": "e0ebdc57",
   "metadata": {
    "papermill": {
     "duration": 0.018122,
     "end_time": "2025-08-05T15:49:19.459028",
     "exception": false,
     "start_time": "2025-08-05T15:49:19.440906",
     "status": "completed"
    },
    "tags": []
   },
   "source": [
    "# Loading Data"
   ]
  },
  {
   "cell_type": "code",
   "execution_count": 9,
   "id": "f0496b8a",
   "metadata": {
    "execution": {
     "iopub.execute_input": "2025-08-05T15:49:19.497314Z",
     "iopub.status.busy": "2025-08-05T15:49:19.496588Z",
     "iopub.status.idle": "2025-08-05T15:49:31.852262Z",
     "shell.execute_reply": "2025-08-05T15:49:31.851209Z"
    },
    "papermill": {
     "duration": 12.37659,
     "end_time": "2025-08-05T15:49:31.854284",
     "exception": false,
     "start_time": "2025-08-05T15:49:19.477694",
     "status": "completed"
    },
    "tags": []
   },
   "outputs": [
    {
     "name": "stdout",
     "output_type": "stream",
     "text": [
      "Loading SIAB data from cache: data/siab_cached.csv.gz\n"
     ]
    },
    {
     "name": "stdout",
     "output_type": "stream",
     "text": [
      "(643690, 164)\n"
     ]
    }
   ],
   "source": [
    "from pathlib import Path\n",
    "import pandas as pd\n",
    "\n",
    "# File paths\n",
    "raw_file = Path(\"data/raw/siab.csv\")\n",
    "cache_file = Path(\"data/siab_cached.csv.gz\")\n",
    "\n",
    "# Ensure cache directory exists\n",
    "cache_file.parent.mkdir(parents=True, exist_ok=True)\n",
    "\n",
    "# Load with simple caching\n",
    "if cache_file.exists():\n",
    "    print(f\"Loading SIAB data from cache: {cache_file}\")\n",
    "    siab = pd.read_csv(cache_file, compression='gzip')\n",
    "else:\n",
    "    print(f\"Cache not found. Reading raw SIAB data: {raw_file}\")\n",
    "    siab = pd.read_csv(raw_file)\n",
    "    siab.to_csv(cache_file, index=False, compression='gzip')\n",
    "    print(f\"Cached SIAB data to: {cache_file}\")\n",
    "\n",
    "print(siab.shape)"
   ]
  },
  {
   "cell_type": "code",
   "execution_count": 10,
   "id": "db0ca512-5f53-4dba-abdb-a2888bca41ba",
   "metadata": {
    "execution": {
     "iopub.execute_input": "2025-08-05T15:49:31.909507Z",
     "iopub.status.busy": "2025-08-05T15:49:31.909073Z",
     "iopub.status.idle": "2025-08-05T15:49:31.914537Z",
     "shell.execute_reply": "2025-08-05T15:49:31.913186Z"
    },
    "papermill": {
     "duration": 0.034504,
     "end_time": "2025-08-05T15:49:31.916946",
     "exception": false,
     "start_time": "2025-08-05T15:49:31.882442",
     "status": "completed"
    },
    "tags": []
   },
   "outputs": [],
   "source": [
    "#siab"
   ]
  },
  {
   "cell_type": "markdown",
   "id": "997051c5-15bd-4b69-9786-c3001a3ce484",
   "metadata": {
    "papermill": {
     "duration": 0.025535,
     "end_time": "2025-08-05T15:49:31.968144",
     "exception": false,
     "start_time": "2025-08-05T15:49:31.942609",
     "status": "completed"
    },
    "tags": []
   },
   "source": [
    "# Splitting Data and Setting Training Data Size"
   ]
  },
  {
   "cell_type": "code",
   "execution_count": 11,
   "id": "aea9c6ef-6f46-42c8-85eb-5a62025c1508",
   "metadata": {
    "execution": {
     "iopub.execute_input": "2025-08-05T15:49:32.012747Z",
     "iopub.status.busy": "2025-08-05T15:49:32.011795Z",
     "iopub.status.idle": "2025-08-05T15:49:33.086984Z",
     "shell.execute_reply": "2025-08-05T15:49:33.085914Z"
    },
    "papermill": {
     "duration": 1.09518,
     "end_time": "2025-08-05T15:49:33.088985",
     "exception": false,
     "start_time": "2025-08-05T15:49:31.993805",
     "status": "completed"
    },
    "tags": []
   },
   "outputs": [],
   "source": [
    "from fairness_multiverse.universe import sample_by_year_size\n",
    "\n",
    "siab_train = sample_by_year_size(siab,\n",
    "                               training_year=universe[\"training_year\"],\n",
    "                               training_size=universe[\"training_size\"])"
   ]
  },
  {
   "cell_type": "code",
   "execution_count": 12,
   "id": "8d3afb32-789d-442c-8d5d-9f5aa8dd2eed",
   "metadata": {
    "execution": {
     "iopub.execute_input": "2025-08-05T15:49:33.128289Z",
     "iopub.status.busy": "2025-08-05T15:49:33.127784Z",
     "iopub.status.idle": "2025-08-05T15:49:33.133340Z",
     "shell.execute_reply": "2025-08-05T15:49:33.132198Z"
    },
    "papermill": {
     "duration": 0.02692,
     "end_time": "2025-08-05T15:49:33.135442",
     "exception": false,
     "start_time": "2025-08-05T15:49:33.108522",
     "status": "completed"
    },
    "tags": []
   },
   "outputs": [],
   "source": [
    "#siab_train.shape"
   ]
  },
  {
   "cell_type": "code",
   "execution_count": 13,
   "id": "d582db68-1a4c-47fb-84fc-08518dc1975a",
   "metadata": {
    "execution": {
     "iopub.execute_input": "2025-08-05T15:49:33.174562Z",
     "iopub.status.busy": "2025-08-05T15:49:33.174211Z",
     "iopub.status.idle": "2025-08-05T15:49:33.179107Z",
     "shell.execute_reply": "2025-08-05T15:49:33.178336Z"
    },
    "papermill": {
     "duration": 0.025418,
     "end_time": "2025-08-05T15:49:33.180549",
     "exception": false,
     "start_time": "2025-08-05T15:49:33.155131",
     "status": "completed"
    },
    "tags": []
   },
   "outputs": [],
   "source": [
    "#display(siab_train.groupby(\"year\").size())"
   ]
  },
  {
   "cell_type": "code",
   "execution_count": 14,
   "id": "a561edb4-d032-42cb-8256-22eac1111c64",
   "metadata": {
    "execution": {
     "iopub.execute_input": "2025-08-05T15:49:33.201460Z",
     "iopub.status.busy": "2025-08-05T15:49:33.201118Z",
     "iopub.status.idle": "2025-08-05T15:49:33.417832Z",
     "shell.execute_reply": "2025-08-05T15:49:33.417045Z"
    },
    "papermill": {
     "duration": 0.228217,
     "end_time": "2025-08-05T15:49:33.419357",
     "exception": false,
     "start_time": "2025-08-05T15:49:33.191140",
     "status": "completed"
    },
    "tags": []
   },
   "outputs": [],
   "source": [
    "#siab_train = siab_s[siab_s.year < 2015]\n",
    "siab_calib = siab[siab.year == 2015]\n",
    "siab_test = siab[siab.year == 2016]"
   ]
  },
  {
   "cell_type": "code",
   "execution_count": 15,
   "id": "472de16f-c3db-4916-846b-1f0de9cf1746",
   "metadata": {
    "execution": {
     "iopub.execute_input": "2025-08-05T15:49:33.442104Z",
     "iopub.status.busy": "2025-08-05T15:49:33.441714Z",
     "iopub.status.idle": "2025-08-05T15:49:33.448735Z",
     "shell.execute_reply": "2025-08-05T15:49:33.447885Z"
    },
    "papermill": {
     "duration": 0.019777,
     "end_time": "2025-08-05T15:49:33.450344",
     "exception": false,
     "start_time": "2025-08-05T15:49:33.430567",
     "status": "completed"
    },
    "tags": []
   },
   "outputs": [],
   "source": [
    "X_train = siab_train.iloc[:,4:164]\n",
    "y_train = siab_train.iloc[:, [3]]"
   ]
  },
  {
   "cell_type": "code",
   "execution_count": 16,
   "id": "828c96af-f43a-4ed6-ba47-8ac73a47d56c",
   "metadata": {
    "execution": {
     "iopub.execute_input": "2025-08-05T15:49:33.472225Z",
     "iopub.status.busy": "2025-08-05T15:49:33.471373Z",
     "iopub.status.idle": "2025-08-05T15:49:33.519109Z",
     "shell.execute_reply": "2025-08-05T15:49:33.518184Z"
    },
    "papermill": {
     "duration": 0.05998,
     "end_time": "2025-08-05T15:49:33.520993",
     "exception": false,
     "start_time": "2025-08-05T15:49:33.461013",
     "status": "completed"
    },
    "tags": []
   },
   "outputs": [],
   "source": [
    "X_calib = siab_calib.iloc[:,4:164]\n",
    "y_calib = siab_calib.iloc[:, [3]]"
   ]
  },
  {
   "cell_type": "code",
   "execution_count": 17,
   "id": "c34be9c3-6bd6-476e-acd3-845840e303be",
   "metadata": {
    "execution": {
     "iopub.execute_input": "2025-08-05T15:49:33.542970Z",
     "iopub.status.busy": "2025-08-05T15:49:33.542575Z",
     "iopub.status.idle": "2025-08-05T15:49:33.592698Z",
     "shell.execute_reply": "2025-08-05T15:49:33.591828Z"
    },
    "papermill": {
     "duration": 0.062438,
     "end_time": "2025-08-05T15:49:33.594284",
     "exception": false,
     "start_time": "2025-08-05T15:49:33.531846",
     "status": "completed"
    },
    "tags": []
   },
   "outputs": [],
   "source": [
    "X_test = siab_test.iloc[:,4:164]\n",
    "y_true = siab_test.iloc[:, [3]]"
   ]
  },
  {
   "cell_type": "code",
   "execution_count": 18,
   "id": "e6c733c5",
   "metadata": {
    "execution": {
     "iopub.execute_input": "2025-08-05T15:49:33.616767Z",
     "iopub.status.busy": "2025-08-05T15:49:33.616417Z",
     "iopub.status.idle": "2025-08-05T15:49:33.714666Z",
     "shell.execute_reply": "2025-08-05T15:49:33.713602Z"
    },
    "papermill": {
     "duration": 0.110225,
     "end_time": "2025-08-05T15:49:33.716258",
     "exception": false,
     "start_time": "2025-08-05T15:49:33.606033",
     "status": "completed"
    },
    "tags": []
   },
   "outputs": [],
   "source": [
    "# Auxiliary data needed downstream in the pipeline\n",
    "\n",
    "org_train = X_train.copy()\n",
    "org_test = X_test.copy()\n",
    "org_calib = X_calib.copy()"
   ]
  },
  {
   "cell_type": "markdown",
   "id": "0a4a1b33",
   "metadata": {
    "papermill": {
     "duration": 0.01939,
     "end_time": "2025-08-05T15:49:33.754210",
     "exception": false,
     "start_time": "2025-08-05T15:49:33.734820",
     "status": "completed"
    },
    "tags": []
   },
   "source": [
    "# Preprocessing Data"
   ]
  },
  {
   "cell_type": "code",
   "execution_count": 19,
   "id": "ca879031",
   "metadata": {
    "execution": {
     "iopub.execute_input": "2025-08-05T15:49:33.792020Z",
     "iopub.status.busy": "2025-08-05T15:49:33.791533Z",
     "iopub.status.idle": "2025-08-05T15:49:33.797872Z",
     "shell.execute_reply": "2025-08-05T15:49:33.796846Z"
    },
    "papermill": {
     "duration": 0.026221,
     "end_time": "2025-08-05T15:49:33.799729",
     "exception": false,
     "start_time": "2025-08-05T15:49:33.773508",
     "status": "completed"
    },
    "tags": []
   },
   "outputs": [],
   "source": [
    "# EXCLUDE PROTECTED FEATURES\n",
    "# ----------------------\n",
    "# \"exclude_features\": \"none\", # \"nationality\", \"sex\", \"nationality-sex\"\n",
    "\n",
    "excluded_features = universe[\"exclude_features\"].split(\"-\") # split, e.g.: \"nationality-sex\" -> [\"nationality\", \"sex\"]\n",
    "excluded_features_dictionary = {\n",
    "    \"nationality\": [\"maxdeutsch1\", \"maxdeutsch.Missing.\"],\n",
    "    \"sex\": [\"frau1\"],\n",
    "    \"age\": [\"age\"],\n",
    "}"
   ]
  },
  {
   "cell_type": "code",
   "execution_count": 20,
   "id": "b745ac60",
   "metadata": {
    "execution": {
     "iopub.execute_input": "2025-08-05T15:49:33.838398Z",
     "iopub.status.busy": "2025-08-05T15:49:33.837918Z",
     "iopub.status.idle": "2025-08-05T15:49:33.844301Z",
     "shell.execute_reply": "2025-08-05T15:49:33.843295Z"
    },
    "papermill": {
     "duration": 0.025366,
     "end_time": "2025-08-05T15:49:33.846289",
     "exception": false,
     "start_time": "2025-08-05T15:49:33.820923",
     "status": "completed"
    },
    "tags": []
   },
   "outputs": [],
   "source": [
    "# Code nice names to column names\n",
    "\n",
    "excluded_features_columns = [\n",
    "    excluded_features_dictionary[f] for f in excluded_features if len(f) > 0 and f != \"none\"\n",
    "]"
   ]
  },
  {
   "cell_type": "code",
   "execution_count": 21,
   "id": "f84f73a2",
   "metadata": {
    "execution": {
     "iopub.execute_input": "2025-08-05T15:49:33.889291Z",
     "iopub.status.busy": "2025-08-05T15:49:33.888591Z",
     "iopub.status.idle": "2025-08-05T15:49:33.896228Z",
     "shell.execute_reply": "2025-08-05T15:49:33.895204Z"
    },
    "papermill": {
     "duration": 0.031086,
     "end_time": "2025-08-05T15:49:33.898167",
     "exception": false,
     "start_time": "2025-08-05T15:49:33.867081",
     "status": "completed"
    },
    "tags": []
   },
   "outputs": [],
   "source": [
    "from utils import flatten_once\n",
    "\n",
    "excluded_features_columns = flatten_once(excluded_features_columns)"
   ]
  },
  {
   "cell_type": "code",
   "execution_count": 22,
   "id": "884dea22",
   "metadata": {
    "execution": {
     "iopub.execute_input": "2025-08-05T15:49:33.926784Z",
     "iopub.status.busy": "2025-08-05T15:49:33.926421Z",
     "iopub.status.idle": "2025-08-05T15:49:33.934946Z",
     "shell.execute_reply": "2025-08-05T15:49:33.933903Z"
    },
    "papermill": {
     "duration": 0.022959,
     "end_time": "2025-08-05T15:49:33.936425",
     "exception": false,
     "start_time": "2025-08-05T15:49:33.913466",
     "status": "completed"
    },
    "tags": []
   },
   "outputs": [
    {
     "name": "stdout",
     "output_type": "stream",
     "text": [
      "Dropping features: ['frau1']\n"
     ]
    }
   ],
   "source": [
    "if len(excluded_features_columns) > 0:\n",
    "    print(f\"Dropping features: {excluded_features_columns}\")\n",
    "    X_train.drop(excluded_features_columns, axis=1, inplace=True)"
   ]
  },
  {
   "cell_type": "code",
   "execution_count": 23,
   "id": "95ab8b16",
   "metadata": {
    "execution": {
     "iopub.execute_input": "2025-08-05T15:49:33.959803Z",
     "iopub.status.busy": "2025-08-05T15:49:33.959146Z",
     "iopub.status.idle": "2025-08-05T15:49:34.014329Z",
     "shell.execute_reply": "2025-08-05T15:49:34.012872Z"
    },
    "papermill": {
     "duration": 0.068631,
     "end_time": "2025-08-05T15:49:34.016301",
     "exception": false,
     "start_time": "2025-08-05T15:49:33.947670",
     "status": "completed"
    },
    "tags": []
   },
   "outputs": [
    {
     "name": "stdout",
     "output_type": "stream",
     "text": [
      "Dropping features: ['frau1']\n"
     ]
    }
   ],
   "source": [
    "if len(excluded_features_columns) > 0:\n",
    "    print(f\"Dropping features: {excluded_features_columns}\")\n",
    "    X_test.drop(excluded_features_columns, axis=1, inplace=True)"
   ]
  },
  {
   "cell_type": "code",
   "execution_count": 24,
   "id": "1853aaf5-fb9f-46cb-a2b5-8ea4ae2237e4",
   "metadata": {
    "execution": {
     "iopub.execute_input": "2025-08-05T15:49:34.048231Z",
     "iopub.status.busy": "2025-08-05T15:49:34.047456Z",
     "iopub.status.idle": "2025-08-05T15:49:34.100348Z",
     "shell.execute_reply": "2025-08-05T15:49:34.099583Z"
    },
    "papermill": {
     "duration": 0.067732,
     "end_time": "2025-08-05T15:49:34.101868",
     "exception": false,
     "start_time": "2025-08-05T15:49:34.034136",
     "status": "completed"
    },
    "tags": []
   },
   "outputs": [
    {
     "name": "stdout",
     "output_type": "stream",
     "text": [
      "Dropping features: ['frau1']\n"
     ]
    }
   ],
   "source": [
    "if len(excluded_features_columns) > 0:\n",
    "    print(f\"Dropping features: {excluded_features_columns}\")\n",
    "    X_calib.drop(excluded_features_columns, axis=1, inplace=True)"
   ]
  },
  {
   "cell_type": "code",
   "execution_count": 25,
   "id": "76c4dc6d",
   "metadata": {
    "execution": {
     "iopub.execute_input": "2025-08-05T15:49:34.125008Z",
     "iopub.status.busy": "2025-08-05T15:49:34.124380Z",
     "iopub.status.idle": "2025-08-05T15:49:34.129487Z",
     "shell.execute_reply": "2025-08-05T15:49:34.128720Z"
    },
    "papermill": {
     "duration": 0.017898,
     "end_time": "2025-08-05T15:49:34.131078",
     "exception": false,
     "start_time": "2025-08-05T15:49:34.113180",
     "status": "completed"
    },
    "tags": []
   },
   "outputs": [],
   "source": [
    "# EXCLUDE CERTAIN SUBGROUPS\n",
    "# ----------------------\n",
    "\n",
    "mode = universe.get(\"exclude_subgroups\", \"keep-all\") \n",
    "# Fetches the exclude_subgroups setting from the universe dict.\n",
    "# Defaults to \"keep-all\" if the key is missing."
   ]
  },
  {
   "cell_type": "code",
   "execution_count": 26,
   "id": "21994072",
   "metadata": {
    "execution": {
     "iopub.execute_input": "2025-08-05T15:49:34.154527Z",
     "iopub.status.busy": "2025-08-05T15:49:34.153773Z",
     "iopub.status.idle": "2025-08-05T15:49:34.159987Z",
     "shell.execute_reply": "2025-08-05T15:49:34.159203Z"
    },
    "papermill": {
     "duration": 0.019194,
     "end_time": "2025-08-05T15:49:34.161594",
     "exception": false,
     "start_time": "2025-08-05T15:49:34.142400",
     "status": "completed"
    },
    "tags": []
   },
   "outputs": [],
   "source": [
    "if mode == \"keep-all\":\n",
    "    keep_mask = pd.Series(True, index=org_train.index)\n",
    "\n",
    "# org_train contains the original feature columns from features_org (in Simson)\n",
    "# features_org contains unprocessed features, for me X_train at beginning ???\n",
    "# For keep-all, creates a boolean Series (keep_mask) of all True, so no rows are removed.\n",
    "\n",
    "elif mode == \"drop-non-german\":\n",
    "    keep_mask = org_train[\"maxdeutsch1\"] == 1 # ??? what about missing values?\n",
    "\n",
    "else:\n",
    "    raise ValueError(f\"Unsupported mode for exclude_subgroups: {mode}\")"
   ]
  },
  {
   "cell_type": "code",
   "execution_count": 27,
   "id": "71651440",
   "metadata": {
    "execution": {
     "iopub.execute_input": "2025-08-05T15:49:34.192579Z",
     "iopub.status.busy": "2025-08-05T15:49:34.191739Z",
     "iopub.status.idle": "2025-08-05T15:49:34.199676Z",
     "shell.execute_reply": "2025-08-05T15:49:34.198713Z"
    },
    "papermill": {
     "duration": 0.026748,
     "end_time": "2025-08-05T15:49:34.201461",
     "exception": false,
     "start_time": "2025-08-05T15:49:34.174713",
     "status": "completed"
    },
    "tags": []
   },
   "outputs": [],
   "source": [
    "n_drop = (~keep_mask).sum() # Calculates how many rows are set to be dropped\n",
    "if n_drop > 0:\n",
    "    pct = n_drop / len(keep_mask) * 100\n",
    "    print(f\"Dropping {n_drop} rows ({pct:.2f}%) where mode='{mode}'\")"
   ]
  },
  {
   "cell_type": "code",
   "execution_count": 28,
   "id": "5fb8eee5",
   "metadata": {
    "execution": {
     "iopub.execute_input": "2025-08-05T15:49:34.243947Z",
     "iopub.status.busy": "2025-08-05T15:49:34.243534Z",
     "iopub.status.idle": "2025-08-05T15:49:34.268653Z",
     "shell.execute_reply": "2025-08-05T15:49:34.267391Z"
    },
    "papermill": {
     "duration": 0.049401,
     "end_time": "2025-08-05T15:49:34.270829",
     "exception": false,
     "start_time": "2025-08-05T15:49:34.221428",
     "status": "completed"
    },
    "tags": []
   },
   "outputs": [],
   "source": [
    "X_train = X_train[keep_mask]"
   ]
  },
  {
   "cell_type": "code",
   "execution_count": 29,
   "id": "b202bb3a",
   "metadata": {
    "execution": {
     "iopub.execute_input": "2025-08-05T15:49:34.315243Z",
     "iopub.status.busy": "2025-08-05T15:49:34.314446Z",
     "iopub.status.idle": "2025-08-05T15:49:34.322076Z",
     "shell.execute_reply": "2025-08-05T15:49:34.320846Z"
    },
    "papermill": {
     "duration": 0.036785,
     "end_time": "2025-08-05T15:49:34.328289",
     "exception": false,
     "start_time": "2025-08-05T15:49:34.291504",
     "status": "completed"
    },
    "tags": []
   },
   "outputs": [],
   "source": [
    "y_train = y_train[keep_mask]"
   ]
  },
  {
   "cell_type": "markdown",
   "id": "493e2ac3",
   "metadata": {
    "papermill": {
     "duration": 0.021648,
     "end_time": "2025-08-05T15:49:34.373664",
     "exception": false,
     "start_time": "2025-08-05T15:49:34.352016",
     "status": "completed"
    },
    "tags": []
   },
   "source": [
    "# Model Training"
   ]
  },
  {
   "cell_type": "code",
   "execution_count": 30,
   "id": "679e1268",
   "metadata": {
    "execution": {
     "iopub.execute_input": "2025-08-05T15:49:34.418488Z",
     "iopub.status.busy": "2025-08-05T15:49:34.417129Z",
     "iopub.status.idle": "2025-08-05T15:49:34.525024Z",
     "shell.execute_reply": "2025-08-05T15:49:34.523888Z"
    },
    "papermill": {
     "duration": 0.132002,
     "end_time": "2025-08-05T15:49:34.527178",
     "exception": false,
     "start_time": "2025-08-05T15:49:34.395176",
     "status": "completed"
    },
    "tags": []
   },
   "outputs": [],
   "source": [
    "from sklearn.linear_model import LogisticRegression\n",
    "from sklearn.ensemble import GradientBoostingClassifier, RandomForestClassifier\n",
    "\n",
    "if (universe[\"model\"] == \"logreg\"):\n",
    "    model = LogisticRegression() #penalty=\"none\", solver=\"newton-cg\", max_iter=1) # include random_state=19 ?\n",
    "elif (universe[\"model\"] == \"penalized_logreg\"):\n",
    "    model = LogisticRegression(penalty=\"l2\", C=0.1) #, solver=\"newton-cg\", max_iter=1)\n",
    "elif (universe[\"model\"] == \"rf\"):\n",
    "    model = RandomForestClassifier() # n_estimators=100, n_jobs=-1\n",
    "elif (universe[\"model\"] == \"gbm\"):\n",
    "    model = GradientBoostingClassifier()\n",
    "elif (universe[\"model\"] == \"elasticnet\"):\n",
    "    model = LogisticRegression(penalty = 'elasticnet', solver = 'saga', l1_ratio = 0.5) # max_iter=5000\n",
    "else:\n",
    "    raise \"Unsupported universe.model\""
   ]
  },
  {
   "cell_type": "code",
   "execution_count": 31,
   "id": "0cc8f744",
   "metadata": {
    "execution": {
     "iopub.execute_input": "2025-08-05T15:49:34.574157Z",
     "iopub.status.busy": "2025-08-05T15:49:34.573555Z",
     "iopub.status.idle": "2025-08-05T15:49:34.581275Z",
     "shell.execute_reply": "2025-08-05T15:49:34.580135Z"
    },
    "papermill": {
     "duration": 0.03224,
     "end_time": "2025-08-05T15:49:34.583139",
     "exception": false,
     "start_time": "2025-08-05T15:49:34.550899",
     "status": "completed"
    },
    "tags": []
   },
   "outputs": [],
   "source": [
    "import numpy as np\n",
    "from sklearn.pipeline import Pipeline\n",
    "from sklearn.preprocessing import StandardScaler\n",
    "\n",
    "model = Pipeline([\n",
    "    #(\"continuous_processor\", continuous_processor),\n",
    "    #(\"categorical_preprocessor\", categorical_preprocessor),\n",
    "    (\"scale\", StandardScaler() if universe[\"scale\"] == \"scale\" else None), \n",
    "    (\"model\", model),\n",
    "])"
   ]
  },
  {
   "cell_type": "code",
   "execution_count": 32,
   "id": "9442c04d",
   "metadata": {
    "execution": {
     "iopub.execute_input": "2025-08-05T15:49:34.610840Z",
     "iopub.status.busy": "2025-08-05T15:49:34.610466Z",
     "iopub.status.idle": "2025-08-05T15:49:34.804154Z",
     "shell.execute_reply": "2025-08-05T15:49:34.803070Z"
    },
    "papermill": {
     "duration": 0.210197,
     "end_time": "2025-08-05T15:49:34.806121",
     "exception": false,
     "start_time": "2025-08-05T15:49:34.595924",
     "status": "completed"
    },
    "tags": []
   },
   "outputs": [
    {
     "data": {
      "text/html": [
       "<style>#sk-container-id-1 {color: black;background-color: white;}#sk-container-id-1 pre{padding: 0;}#sk-container-id-1 div.sk-toggleable {background-color: white;}#sk-container-id-1 label.sk-toggleable__label {cursor: pointer;display: block;width: 100%;margin-bottom: 0;padding: 0.3em;box-sizing: border-box;text-align: center;}#sk-container-id-1 label.sk-toggleable__label-arrow:before {content: \"▸\";float: left;margin-right: 0.25em;color: #696969;}#sk-container-id-1 label.sk-toggleable__label-arrow:hover:before {color: black;}#sk-container-id-1 div.sk-estimator:hover label.sk-toggleable__label-arrow:before {color: black;}#sk-container-id-1 div.sk-toggleable__content {max-height: 0;max-width: 0;overflow: hidden;text-align: left;background-color: #f0f8ff;}#sk-container-id-1 div.sk-toggleable__content pre {margin: 0.2em;color: black;border-radius: 0.25em;background-color: #f0f8ff;}#sk-container-id-1 input.sk-toggleable__control:checked~div.sk-toggleable__content {max-height: 200px;max-width: 100%;overflow: auto;}#sk-container-id-1 input.sk-toggleable__control:checked~label.sk-toggleable__label-arrow:before {content: \"▾\";}#sk-container-id-1 div.sk-estimator input.sk-toggleable__control:checked~label.sk-toggleable__label {background-color: #d4ebff;}#sk-container-id-1 div.sk-label input.sk-toggleable__control:checked~label.sk-toggleable__label {background-color: #d4ebff;}#sk-container-id-1 input.sk-hidden--visually {border: 0;clip: rect(1px 1px 1px 1px);clip: rect(1px, 1px, 1px, 1px);height: 1px;margin: -1px;overflow: hidden;padding: 0;position: absolute;width: 1px;}#sk-container-id-1 div.sk-estimator {font-family: monospace;background-color: #f0f8ff;border: 1px dotted black;border-radius: 0.25em;box-sizing: border-box;margin-bottom: 0.5em;}#sk-container-id-1 div.sk-estimator:hover {background-color: #d4ebff;}#sk-container-id-1 div.sk-parallel-item::after {content: \"\";width: 100%;border-bottom: 1px solid gray;flex-grow: 1;}#sk-container-id-1 div.sk-label:hover label.sk-toggleable__label {background-color: #d4ebff;}#sk-container-id-1 div.sk-serial::before {content: \"\";position: absolute;border-left: 1px solid gray;box-sizing: border-box;top: 0;bottom: 0;left: 50%;z-index: 0;}#sk-container-id-1 div.sk-serial {display: flex;flex-direction: column;align-items: center;background-color: white;padding-right: 0.2em;padding-left: 0.2em;position: relative;}#sk-container-id-1 div.sk-item {position: relative;z-index: 1;}#sk-container-id-1 div.sk-parallel {display: flex;align-items: stretch;justify-content: center;background-color: white;position: relative;}#sk-container-id-1 div.sk-item::before, #sk-container-id-1 div.sk-parallel-item::before {content: \"\";position: absolute;border-left: 1px solid gray;box-sizing: border-box;top: 0;bottom: 0;left: 50%;z-index: -1;}#sk-container-id-1 div.sk-parallel-item {display: flex;flex-direction: column;z-index: 1;position: relative;background-color: white;}#sk-container-id-1 div.sk-parallel-item:first-child::after {align-self: flex-end;width: 50%;}#sk-container-id-1 div.sk-parallel-item:last-child::after {align-self: flex-start;width: 50%;}#sk-container-id-1 div.sk-parallel-item:only-child::after {width: 0;}#sk-container-id-1 div.sk-dashed-wrapped {border: 1px dashed gray;margin: 0 0.4em 0.5em 0.4em;box-sizing: border-box;padding-bottom: 0.4em;background-color: white;}#sk-container-id-1 div.sk-label label {font-family: monospace;font-weight: bold;display: inline-block;line-height: 1.2em;}#sk-container-id-1 div.sk-label-container {text-align: center;}#sk-container-id-1 div.sk-container {/* jupyter's `normalize.less` sets `[hidden] { display: none; }` but bootstrap.min.css set `[hidden] { display: none !important; }` so we also need the `!important` here to be able to override the default hidden behavior on the sphinx rendered scikit-learn.org. See: https://github.com/scikit-learn/scikit-learn/issues/21755 */display: inline-block !important;position: relative;}#sk-container-id-1 div.sk-text-repr-fallback {display: none;}</style><div id=\"sk-container-id-1\" class=\"sk-top-container\"><div class=\"sk-text-repr-fallback\"><pre>Pipeline(steps=[(&#x27;scale&#x27;, StandardScaler()),\n",
       "                (&#x27;model&#x27;, LogisticRegression(C=0.1))])</pre><b>In a Jupyter environment, please rerun this cell to show the HTML representation or trust the notebook. <br />On GitHub, the HTML representation is unable to render, please try loading this page with nbviewer.org.</b></div><div class=\"sk-container\" hidden><div class=\"sk-item sk-dashed-wrapped\"><div class=\"sk-label-container\"><div class=\"sk-label sk-toggleable\"><input class=\"sk-toggleable__control sk-hidden--visually\" id=\"sk-estimator-id-1\" type=\"checkbox\" ><label for=\"sk-estimator-id-1\" class=\"sk-toggleable__label sk-toggleable__label-arrow\">Pipeline</label><div class=\"sk-toggleable__content\"><pre>Pipeline(steps=[(&#x27;scale&#x27;, StandardScaler()),\n",
       "                (&#x27;model&#x27;, LogisticRegression(C=0.1))])</pre></div></div></div><div class=\"sk-serial\"><div class=\"sk-item\"><div class=\"sk-estimator sk-toggleable\"><input class=\"sk-toggleable__control sk-hidden--visually\" id=\"sk-estimator-id-2\" type=\"checkbox\" ><label for=\"sk-estimator-id-2\" class=\"sk-toggleable__label sk-toggleable__label-arrow\">StandardScaler</label><div class=\"sk-toggleable__content\"><pre>StandardScaler()</pre></div></div></div><div class=\"sk-item\"><div class=\"sk-estimator sk-toggleable\"><input class=\"sk-toggleable__control sk-hidden--visually\" id=\"sk-estimator-id-3\" type=\"checkbox\" ><label for=\"sk-estimator-id-3\" class=\"sk-toggleable__label sk-toggleable__label-arrow\">LogisticRegression</label><div class=\"sk-toggleable__content\"><pre>LogisticRegression(C=0.1)</pre></div></div></div></div></div></div></div>"
      ],
      "text/plain": [
       "Pipeline(steps=[('scale', StandardScaler()),\n",
       "                ('model', LogisticRegression(C=0.1))])"
      ]
     },
     "execution_count": 32,
     "metadata": {},
     "output_type": "execute_result"
    }
   ],
   "source": [
    "model.fit(X_train, y_train.values.ravel())"
   ]
  },
  {
   "cell_type": "code",
   "execution_count": 33,
   "id": "af59f8c0",
   "metadata": {
    "execution": {
     "iopub.execute_input": "2025-08-05T15:49:34.855464Z",
     "iopub.status.busy": "2025-08-05T15:49:34.854462Z",
     "iopub.status.idle": "2025-08-05T15:49:34.860509Z",
     "shell.execute_reply": "2025-08-05T15:49:34.859377Z"
    },
    "papermill": {
     "duration": 0.033262,
     "end_time": "2025-08-05T15:49:34.863024",
     "exception": false,
     "start_time": "2025-08-05T15:49:34.829762",
     "status": "completed"
    },
    "tags": []
   },
   "outputs": [],
   "source": [
    "from fairness_multiverse.universe import predict_w_threshold"
   ]
  },
  {
   "cell_type": "code",
   "execution_count": 34,
   "id": "a7cf2e16",
   "metadata": {
    "execution": {
     "iopub.execute_input": "2025-08-05T15:49:34.928033Z",
     "iopub.status.busy": "2025-08-05T15:49:34.927123Z",
     "iopub.status.idle": "2025-08-05T15:49:35.256957Z",
     "shell.execute_reply": "2025-08-05T15:49:35.255808Z"
    },
    "papermill": {
     "duration": 0.365047,
     "end_time": "2025-08-05T15:49:35.259600",
     "exception": false,
     "start_time": "2025-08-05T15:49:34.894553",
     "status": "completed"
    },
    "tags": []
   },
   "outputs": [
    {
     "data": {
      "text/plain": [
       "0.8534611526028314"
      ]
     },
     "execution_count": 34,
     "metadata": {},
     "output_type": "execute_result"
    }
   ],
   "source": [
    "probs_test = model.predict_proba(X_test)\n",
    "\n",
    "'''\n",
    "Below code returns a boolean array (or binary 0/1 array depending on how it’s used) where each element \n",
    "is True if the probability of class 1 is greater than or equal to the threshold, and False otherwise.\n",
    "'''\n",
    "y_pred_default = predict_w_threshold(probs_test, 0.5)\n",
    "\n",
    "from sklearn.metrics import accuracy_score\n",
    "\n",
    "# Naive prediction\n",
    "accuracy_score(y_true = y_true, y_pred = y_pred_default)"
   ]
  },
  {
   "cell_type": "code",
   "execution_count": 35,
   "id": "081964c3",
   "metadata": {
    "execution": {
     "iopub.execute_input": "2025-08-05T15:49:35.324439Z",
     "iopub.status.busy": "2025-08-05T15:49:35.323635Z",
     "iopub.status.idle": "2025-08-05T15:49:35.586657Z",
     "shell.execute_reply": "2025-08-05T15:49:35.585484Z"
    },
    "papermill": {
     "duration": 0.296467,
     "end_time": "2025-08-05T15:49:35.588569",
     "exception": false,
     "start_time": "2025-08-05T15:49:35.292102",
     "status": "completed"
    },
    "tags": []
   },
   "outputs": [
    {
     "data": {
      "text/plain": [
       "array([0, 0, 0, ..., 0, 0, 0])"
      ]
     },
     "execution_count": 35,
     "metadata": {},
     "output_type": "execute_result"
    }
   ],
   "source": [
    "model.predict(X_test)"
   ]
  },
  {
   "cell_type": "markdown",
   "id": "56c9705b",
   "metadata": {
    "papermill": {
     "duration": 0.021507,
     "end_time": "2025-08-05T15:49:35.634543",
     "exception": false,
     "start_time": "2025-08-05T15:49:35.613036",
     "status": "completed"
    },
    "tags": []
   },
   "source": [
    "# Conformal Prediction"
   ]
  },
  {
   "cell_type": "code",
   "execution_count": 36,
   "id": "160ec6ff",
   "metadata": {
    "execution": {
     "iopub.execute_input": "2025-08-05T15:49:35.676835Z",
     "iopub.status.busy": "2025-08-05T15:49:35.675816Z",
     "iopub.status.idle": "2025-08-05T15:49:35.681683Z",
     "shell.execute_reply": "2025-08-05T15:49:35.680376Z"
    },
    "papermill": {
     "duration": 0.029611,
     "end_time": "2025-08-05T15:49:35.684189",
     "exception": false,
     "start_time": "2025-08-05T15:49:35.654578",
     "status": "completed"
    },
    "tags": []
   },
   "outputs": [],
   "source": [
    "# Miscoverage level for conformal prediction (10% allowed error rate => 90% target coverage)\n",
    "alpha = 0.1"
   ]
  },
  {
   "cell_type": "code",
   "execution_count": 37,
   "id": "eadf4555-3dd3-440e-8e35-f82a4ad9f855",
   "metadata": {
    "execution": {
     "iopub.execute_input": "2025-08-05T15:49:35.753034Z",
     "iopub.status.busy": "2025-08-05T15:49:35.752482Z",
     "iopub.status.idle": "2025-08-05T15:49:35.944919Z",
     "shell.execute_reply": "2025-08-05T15:49:35.943637Z"
    },
    "papermill": {
     "duration": 0.230376,
     "end_time": "2025-08-05T15:49:35.947237",
     "exception": false,
     "start_time": "2025-08-05T15:49:35.716861",
     "status": "completed"
    },
    "tags": []
   },
   "outputs": [],
   "source": [
    "probs_calib = model.predict_proba(X_calib)"
   ]
  },
  {
   "cell_type": "code",
   "execution_count": 38,
   "id": "2ed93547-6d5d-4983-9b36-1ecb300da49a",
   "metadata": {
    "execution": {
     "iopub.execute_input": "2025-08-05T15:49:35.979240Z",
     "iopub.status.busy": "2025-08-05T15:49:35.978800Z",
     "iopub.status.idle": "2025-08-05T15:49:35.984381Z",
     "shell.execute_reply": "2025-08-05T15:49:35.983546Z"
    },
    "papermill": {
     "duration": 0.02023,
     "end_time": "2025-08-05T15:49:35.986321",
     "exception": false,
     "start_time": "2025-08-05T15:49:35.966091",
     "status": "completed"
    },
    "tags": []
   },
   "outputs": [],
   "source": [
    "y_calib = y_calib.values.ravel().astype(int)"
   ]
  },
  {
   "cell_type": "code",
   "execution_count": 39,
   "id": "65d1320d-f588-4b38-9072-62af1ae97f7d",
   "metadata": {
    "execution": {
     "iopub.execute_input": "2025-08-05T15:49:36.036005Z",
     "iopub.status.busy": "2025-08-05T15:49:36.035616Z",
     "iopub.status.idle": "2025-08-05T15:49:36.042049Z",
     "shell.execute_reply": "2025-08-05T15:49:36.041066Z"
    },
    "papermill": {
     "duration": 0.034375,
     "end_time": "2025-08-05T15:49:36.043900",
     "exception": false,
     "start_time": "2025-08-05T15:49:36.009525",
     "status": "completed"
    },
    "tags": []
   },
   "outputs": [],
   "source": [
    "from fairness_multiverse.conformal import compute_nc_scores\n",
    "\n",
    "# Compute nonconformity scores on calibration set (1 - probability of true class)\n",
    "nc_scores = compute_nc_scores(probs_calib, y_calib)"
   ]
  },
  {
   "cell_type": "code",
   "execution_count": 40,
   "id": "df3b8ca3-53b7-43d5-9667-7c85da7aeda2",
   "metadata": {
    "execution": {
     "iopub.execute_input": "2025-08-05T15:49:36.091627Z",
     "iopub.status.busy": "2025-08-05T15:49:36.091263Z",
     "iopub.status.idle": "2025-08-05T15:49:36.096966Z",
     "shell.execute_reply": "2025-08-05T15:49:36.096091Z"
    },
    "papermill": {
     "duration": 0.032276,
     "end_time": "2025-08-05T15:49:36.098549",
     "exception": false,
     "start_time": "2025-08-05T15:49:36.066273",
     "status": "completed"
    },
    "tags": []
   },
   "outputs": [],
   "source": [
    "from fairness_multiverse.conformal import find_threshold\n",
    "\n",
    "# Find conformal threshold q_hat for the given alpha (split conformal method)\n",
    "q_hat = find_threshold(nc_scores, alpha)"
   ]
  },
  {
   "cell_type": "code",
   "execution_count": 41,
   "id": "4d29e6c1-0ef6-4aa4-b8fe-4fe79b0d033a",
   "metadata": {
    "execution": {
     "iopub.execute_input": "2025-08-05T15:49:36.135328Z",
     "iopub.status.busy": "2025-08-05T15:49:36.134620Z",
     "iopub.status.idle": "2025-08-05T15:49:36.142237Z",
     "shell.execute_reply": "2025-08-05T15:49:36.140946Z"
    },
    "papermill": {
     "duration": 0.032624,
     "end_time": "2025-08-05T15:49:36.145180",
     "exception": false,
     "start_time": "2025-08-05T15:49:36.112556",
     "status": "completed"
    },
    "tags": []
   },
   "outputs": [
    {
     "data": {
      "text/plain": [
       "0.6766195653651433"
      ]
     },
     "execution_count": 41,
     "metadata": {},
     "output_type": "execute_result"
    }
   ],
   "source": [
    "q_hat"
   ]
  },
  {
   "cell_type": "code",
   "execution_count": 42,
   "id": "92460794-cdac-4be2-ba28-f28c0515a6fb",
   "metadata": {
    "execution": {
     "iopub.execute_input": "2025-08-05T15:49:36.199901Z",
     "iopub.status.busy": "2025-08-05T15:49:36.199218Z",
     "iopub.status.idle": "2025-08-05T15:49:37.177386Z",
     "shell.execute_reply": "2025-08-05T15:49:37.176369Z"
    },
    "papermill": {
     "duration": 1.008929,
     "end_time": "2025-08-05T15:49:37.179534",
     "exception": false,
     "start_time": "2025-08-05T15:49:36.170605",
     "status": "completed"
    },
    "tags": []
   },
   "outputs": [],
   "source": [
    "from fairness_multiverse.conformal import predict_conformal_sets\n",
    "\n",
    "# Generate prediction sets for each test example\n",
    "pred_sets = predict_conformal_sets(model, X_test, q_hat)"
   ]
  },
  {
   "cell_type": "code",
   "execution_count": 43,
   "id": "d90c9a65-e6db-4f5d-80cd-e68fb7e46829",
   "metadata": {
    "execution": {
     "iopub.execute_input": "2025-08-05T15:49:37.233675Z",
     "iopub.status.busy": "2025-08-05T15:49:37.232582Z",
     "iopub.status.idle": "2025-08-05T15:49:37.238918Z",
     "shell.execute_reply": "2025-08-05T15:49:37.237652Z"
    },
    "papermill": {
     "duration": 0.034018,
     "end_time": "2025-08-05T15:49:37.240974",
     "exception": false,
     "start_time": "2025-08-05T15:49:37.206956",
     "status": "completed"
    },
    "tags": []
   },
   "outputs": [],
   "source": [
    "y_true = y_true.squeeze()"
   ]
  },
  {
   "cell_type": "code",
   "execution_count": 44,
   "id": "3a58a54a-1e68-46b9-927a-df01f18aebc8",
   "metadata": {
    "execution": {
     "iopub.execute_input": "2025-08-05T15:49:37.289862Z",
     "iopub.status.busy": "2025-08-05T15:49:37.288856Z",
     "iopub.status.idle": "2025-08-05T15:49:38.307403Z",
     "shell.execute_reply": "2025-08-05T15:49:38.306191Z"
    },
    "papermill": {
     "duration": 1.044965,
     "end_time": "2025-08-05T15:49:38.309703",
     "exception": false,
     "start_time": "2025-08-05T15:49:37.264738",
     "status": "completed"
    },
    "tags": []
   },
   "outputs": [],
   "source": [
    "from fairness_multiverse.conformal import evaluate_sets\n",
    "\n",
    "# Evaluate coverage and average set size on test data\n",
    "metrics = evaluate_sets(pred_sets, y_true)"
   ]
  },
  {
   "cell_type": "markdown",
   "id": "2b569c12-9aaa-4c88-98c9-bbcd0cf3ebb8",
   "metadata": {
    "papermill": {
     "duration": 0.013702,
     "end_time": "2025-08-05T15:49:38.347998",
     "exception": false,
     "start_time": "2025-08-05T15:49:38.334296",
     "status": "completed"
    },
    "tags": []
   },
   "source": [
    "# CP Metrics"
   ]
  },
  {
   "cell_type": "code",
   "execution_count": 45,
   "id": "5ce0a5cb-201f-45a0-ade5-94c7f0bd6095",
   "metadata": {
    "execution": {
     "iopub.execute_input": "2025-08-05T15:49:38.377706Z",
     "iopub.status.busy": "2025-08-05T15:49:38.377170Z",
     "iopub.status.idle": "2025-08-05T15:49:38.386283Z",
     "shell.execute_reply": "2025-08-05T15:49:38.385013Z"
    },
    "papermill": {
     "duration": 0.028019,
     "end_time": "2025-08-05T15:49:38.388119",
     "exception": false,
     "start_time": "2025-08-05T15:49:38.360100",
     "status": "completed"
    },
    "tags": []
   },
   "outputs": [
    {
     "data": {
      "text/plain": [
       "{'coverage': 0.9111358822873704, 'avg_size': 1.1445881172667485}"
      ]
     },
     "execution_count": 45,
     "metadata": {},
     "output_type": "execute_result"
    }
   ],
   "source": [
    "metrics"
   ]
  },
  {
   "cell_type": "code",
   "execution_count": 46,
   "id": "9b9a838d-31c9-430b-ae14-12baee460d17",
   "metadata": {
    "execution": {
     "iopub.execute_input": "2025-08-05T15:49:38.436484Z",
     "iopub.status.busy": "2025-08-05T15:49:38.435534Z",
     "iopub.status.idle": "2025-08-05T15:49:38.442787Z",
     "shell.execute_reply": "2025-08-05T15:49:38.441661Z"
    },
    "papermill": {
     "duration": 0.032682,
     "end_time": "2025-08-05T15:49:38.444855",
     "exception": false,
     "start_time": "2025-08-05T15:49:38.412173",
     "status": "completed"
    },
    "tags": []
   },
   "outputs": [],
   "source": [
    "example_universe = universe.copy()\n",
    "universe_training_year = example_universe.get(\"training_year\")\n",
    "universe_training_size = example_universe.get(\"training_size\")\n",
    "universe_scale = example_universe.get(\"scale\")\n",
    "universe_model = example_universe.get(\"model\")\n",
    "universe_exclude_features = example_universe.get(\"exclude_features\")\n",
    "universe_exclude_subgroups = example_universe.get(\"exclude_subgroups\")"
   ]
  },
  {
   "cell_type": "code",
   "execution_count": 47,
   "id": "f4b6a8ac-9dc0-4245-8a91-5b3b5999c4f9",
   "metadata": {
    "execution": {
     "iopub.execute_input": "2025-08-05T15:49:38.488985Z",
     "iopub.status.busy": "2025-08-05T15:49:38.488534Z",
     "iopub.status.idle": "2025-08-05T15:49:38.496265Z",
     "shell.execute_reply": "2025-08-05T15:49:38.495194Z"
    },
    "papermill": {
     "duration": 0.023773,
     "end_time": "2025-08-05T15:49:38.498327",
     "exception": false,
     "start_time": "2025-08-05T15:49:38.474554",
     "status": "completed"
    },
    "tags": []
   },
   "outputs": [],
   "source": [
    "cp_metrics_dict = {\n",
    "    \"universe_id\": [universe_id],\n",
    "    \"universe_training_year\": [universe_training_year],\n",
    "    \"universe_training_size\": [universe_training_size],\n",
    "    \"universe_scale\": [universe_scale],\n",
    "    \"universe_model\": [universe_model],\n",
    "    \"universe_exclude_features\": [universe_exclude_features],\n",
    "    \"universe_exclude_subgroups\": [universe_exclude_subgroups],\n",
    "    \"q_hat\": [q_hat],\n",
    "    \"coverage\": [metrics[\"coverage\"]],\n",
    "    \"avg_size\": [metrics[\"avg_size\"]],\n",
    "}"
   ]
  },
  {
   "cell_type": "code",
   "execution_count": 48,
   "id": "908acbb1-0371-4915-85ca-3fa520d2efe2",
   "metadata": {
    "execution": {
     "iopub.execute_input": "2025-08-05T15:49:38.550150Z",
     "iopub.status.busy": "2025-08-05T15:49:38.549481Z",
     "iopub.status.idle": "2025-08-05T15:49:38.558953Z",
     "shell.execute_reply": "2025-08-05T15:49:38.557727Z"
    },
    "papermill": {
     "duration": 0.036941,
     "end_time": "2025-08-05T15:49:38.561368",
     "exception": false,
     "start_time": "2025-08-05T15:49:38.524427",
     "status": "completed"
    },
    "tags": []
   },
   "outputs": [
    {
     "data": {
      "text/plain": [
       "{'universe_id': ['01ad57a06f1e1b6acf43537ae97981e4'],\n",
       " 'universe_training_year': ['2010_14'],\n",
       " 'universe_training_size': ['5k'],\n",
       " 'universe_scale': ['scale'],\n",
       " 'universe_model': ['penalized_logreg'],\n",
       " 'universe_exclude_features': ['sex'],\n",
       " 'universe_exclude_subgroups': ['keep-all'],\n",
       " 'q_hat': [0.6766195653651433],\n",
       " 'coverage': [0.9111358822873704],\n",
       " 'avg_size': [1.1445881172667485]}"
      ]
     },
     "execution_count": 48,
     "metadata": {},
     "output_type": "execute_result"
    }
   ],
   "source": [
    "cp_metrics_dict"
   ]
  },
  {
   "cell_type": "code",
   "execution_count": 49,
   "id": "33007efc-14e9-4ec6-97ac-56a455c82265",
   "metadata": {
    "execution": {
     "iopub.execute_input": "2025-08-05T15:49:38.620486Z",
     "iopub.status.busy": "2025-08-05T15:49:38.618984Z",
     "iopub.status.idle": "2025-08-05T15:49:38.627664Z",
     "shell.execute_reply": "2025-08-05T15:49:38.626588Z"
    },
    "papermill": {
     "duration": 0.040274,
     "end_time": "2025-08-05T15:49:38.629607",
     "exception": false,
     "start_time": "2025-08-05T15:49:38.589333",
     "status": "completed"
    },
    "tags": []
   },
   "outputs": [],
   "source": [
    "cp_metrics_df = pd.DataFrame(cp_metrics_dict)"
   ]
  },
  {
   "cell_type": "code",
   "execution_count": 50,
   "id": "db12611b-57b2-4910-b9d0-355adfd6e7bf",
   "metadata": {
    "execution": {
     "iopub.execute_input": "2025-08-05T15:49:38.659797Z",
     "iopub.status.busy": "2025-08-05T15:49:38.659388Z",
     "iopub.status.idle": "2025-08-05T15:49:38.689456Z",
     "shell.execute_reply": "2025-08-05T15:49:38.688612Z"
    },
    "papermill": {
     "duration": 0.046147,
     "end_time": "2025-08-05T15:49:38.690951",
     "exception": false,
     "start_time": "2025-08-05T15:49:38.644804",
     "status": "completed"
    },
    "tags": []
   },
   "outputs": [
    {
     "data": {
      "text/html": [
       "<div>\n",
       "<style scoped>\n",
       "    .dataframe tbody tr th:only-of-type {\n",
       "        vertical-align: middle;\n",
       "    }\n",
       "\n",
       "    .dataframe tbody tr th {\n",
       "        vertical-align: top;\n",
       "    }\n",
       "\n",
       "    .dataframe thead th {\n",
       "        text-align: right;\n",
       "    }\n",
       "</style>\n",
       "<table border=\"1\" class=\"dataframe\">\n",
       "  <thead>\n",
       "    <tr style=\"text-align: right;\">\n",
       "      <th></th>\n",
       "      <th>universe_id</th>\n",
       "      <th>universe_training_year</th>\n",
       "      <th>universe_training_size</th>\n",
       "      <th>universe_scale</th>\n",
       "      <th>universe_model</th>\n",
       "      <th>universe_exclude_features</th>\n",
       "      <th>universe_exclude_subgroups</th>\n",
       "      <th>q_hat</th>\n",
       "      <th>coverage</th>\n",
       "      <th>avg_size</th>\n",
       "    </tr>\n",
       "  </thead>\n",
       "  <tbody>\n",
       "    <tr>\n",
       "      <th>0</th>\n",
       "      <td>01ad57a06f1e1b6acf43537ae97981e4</td>\n",
       "      <td>2010_14</td>\n",
       "      <td>5k</td>\n",
       "      <td>scale</td>\n",
       "      <td>penalized_logreg</td>\n",
       "      <td>sex</td>\n",
       "      <td>keep-all</td>\n",
       "      <td>0.67662</td>\n",
       "      <td>0.911136</td>\n",
       "      <td>1.144588</td>\n",
       "    </tr>\n",
       "  </tbody>\n",
       "</table>\n",
       "</div>"
      ],
      "text/plain": [
       "                        universe_id universe_training_year  \\\n",
       "0  01ad57a06f1e1b6acf43537ae97981e4                2010_14   \n",
       "\n",
       "  universe_training_size universe_scale    universe_model  \\\n",
       "0                     5k          scale  penalized_logreg   \n",
       "\n",
       "  universe_exclude_features universe_exclude_subgroups    q_hat  coverage  \\\n",
       "0                       sex                   keep-all  0.67662  0.911136   \n",
       "\n",
       "   avg_size  \n",
       "0  1.144588  "
      ]
     },
     "execution_count": 50,
     "metadata": {},
     "output_type": "execute_result"
    }
   ],
   "source": [
    "cp_metrics_df"
   ]
  },
  {
   "cell_type": "code",
   "execution_count": 51,
   "id": "b7fbde55-a0a1-47e4-9af6-fe4a17fa8c61",
   "metadata": {
    "execution": {
     "iopub.execute_input": "2025-08-05T15:49:38.717257Z",
     "iopub.status.busy": "2025-08-05T15:49:38.716853Z",
     "iopub.status.idle": "2025-08-05T15:49:38.721733Z",
     "shell.execute_reply": "2025-08-05T15:49:38.720749Z"
    },
    "papermill": {
     "duration": 0.018567,
     "end_time": "2025-08-05T15:49:38.723484",
     "exception": false,
     "start_time": "2025-08-05T15:49:38.704917",
     "status": "completed"
    },
    "tags": []
   },
   "outputs": [],
   "source": [
    "# Conditional Coverage & looking at subgroups"
   ]
  },
  {
   "cell_type": "code",
   "execution_count": 52,
   "id": "027ae886-68dd-4141-96c7-805a5450e1ef",
   "metadata": {
    "execution": {
     "iopub.execute_input": "2025-08-05T15:49:38.775637Z",
     "iopub.status.busy": "2025-08-05T15:49:38.775140Z",
     "iopub.status.idle": "2025-08-05T15:49:39.070519Z",
     "shell.execute_reply": "2025-08-05T15:49:39.069451Z"
    },
    "papermill": {
     "duration": 0.324748,
     "end_time": "2025-08-05T15:49:39.072545",
     "exception": false,
     "start_time": "2025-08-05T15:49:38.747797",
     "status": "completed"
    },
    "tags": []
   },
   "outputs": [],
   "source": [
    "from fairness_multiverse.conformal import build_cp_groups\n",
    "\n",
    "cp_groups_df = build_cp_groups(pred_sets, y_true, X_test.index, org_test)\n",
    "#needs universe_id and setting"
   ]
  },
  {
   "cell_type": "code",
   "execution_count": 53,
   "id": "6cbdab96-b2b2-45af-ad54-d0516db2e28d",
   "metadata": {
    "execution": {
     "iopub.execute_input": "2025-08-05T15:49:39.124916Z",
     "iopub.status.busy": "2025-08-05T15:49:39.124010Z",
     "iopub.status.idle": "2025-08-05T15:49:40.199632Z",
     "shell.execute_reply": "2025-08-05T15:49:40.198792Z"
    },
    "papermill": {
     "duration": 1.102784,
     "end_time": "2025-08-05T15:49:40.201120",
     "exception": false,
     "start_time": "2025-08-05T15:49:39.098336",
     "status": "completed"
    },
    "tags": []
   },
   "outputs": [],
   "source": [
    "# Define covered = 1 if true_label is in the predicted set\n",
    "cp_groups_df['covered'] = cp_groups_df.apply(\n",
    "    lambda r: int(r['true_label'] in r['pred_set']),\n",
    "    axis=1\n",
    ")"
   ]
  },
  {
   "cell_type": "code",
   "execution_count": 54,
   "id": "338ff529-1a6b-4b87-a931-8e4788d52aad",
   "metadata": {
    "execution": {
     "iopub.execute_input": "2025-08-05T15:49:40.227272Z",
     "iopub.status.busy": "2025-08-05T15:49:40.226501Z",
     "iopub.status.idle": "2025-08-05T15:49:40.231573Z",
     "shell.execute_reply": "2025-08-05T15:49:40.230702Z"
    },
    "papermill": {
     "duration": 0.019168,
     "end_time": "2025-08-05T15:49:40.232846",
     "exception": false,
     "start_time": "2025-08-05T15:49:40.213678",
     "status": "completed"
    },
    "tags": []
   },
   "outputs": [],
   "source": [
    "#cp_groups_df"
   ]
  },
  {
   "cell_type": "code",
   "execution_count": 55,
   "id": "90032e27-66df-4540-9169-4e89cfbaa758",
   "metadata": {
    "execution": {
     "iopub.execute_input": "2025-08-05T15:49:40.259767Z",
     "iopub.status.busy": "2025-08-05T15:49:40.259018Z",
     "iopub.status.idle": "2025-08-05T15:49:40.268657Z",
     "shell.execute_reply": "2025-08-05T15:49:40.267843Z"
    },
    "papermill": {
     "duration": 0.024299,
     "end_time": "2025-08-05T15:49:40.270196",
     "exception": false,
     "start_time": "2025-08-05T15:49:40.245897",
     "status": "completed"
    },
    "tags": []
   },
   "outputs": [],
   "source": [
    "subgroups = ['frau1','nongerman','nongerman_male','nongerman_female']\n",
    "\n",
    "# Conditional coverage for subgroup==1\n",
    "cond_coverage = {\n",
    "    g: cp_groups_df.loc[cp_groups_df[g]==1, 'covered'].mean()\n",
    "    for g in subgroups\n",
    "}"
   ]
  },
  {
   "cell_type": "code",
   "execution_count": 56,
   "id": "1e348fb1-b9c3-45bc-ba23-f016827a7e0d",
   "metadata": {
    "execution": {
     "iopub.execute_input": "2025-08-05T15:49:40.295994Z",
     "iopub.status.busy": "2025-08-05T15:49:40.295323Z",
     "iopub.status.idle": "2025-08-05T15:49:40.301864Z",
     "shell.execute_reply": "2025-08-05T15:49:40.301012Z"
    },
    "papermill": {
     "duration": 0.020295,
     "end_time": "2025-08-05T15:49:40.303277",
     "exception": false,
     "start_time": "2025-08-05T15:49:40.282982",
     "status": "completed"
    },
    "tags": []
   },
   "outputs": [
    {
     "data": {
      "text/plain": [
       "{'frau1': 0.9099878689850384,\n",
       " 'nongerman': 0.9105709313422781,\n",
       " 'nongerman_male': 0.9257858236512654,\n",
       " 'nongerman_female': 0.8853949329359165}"
      ]
     },
     "execution_count": 56,
     "metadata": {},
     "output_type": "execute_result"
    }
   ],
   "source": [
    "cond_coverage"
   ]
  },
  {
   "cell_type": "code",
   "execution_count": 57,
   "id": "f5093324-c3dd-4d63-bc4c-8d945e5c8bbb",
   "metadata": {
    "execution": {
     "iopub.execute_input": "2025-08-05T15:49:40.327934Z",
     "iopub.status.busy": "2025-08-05T15:49:40.327510Z",
     "iopub.status.idle": "2025-08-05T15:49:40.333464Z",
     "shell.execute_reply": "2025-08-05T15:49:40.332702Z"
    },
    "papermill": {
     "duration": 0.01944,
     "end_time": "2025-08-05T15:49:40.335053",
     "exception": false,
     "start_time": "2025-08-05T15:49:40.315613",
     "status": "completed"
    },
    "tags": []
   },
   "outputs": [],
   "source": [
    "for subgroup, cov in cond_coverage.items():\n",
    "    cp_metrics_df[f\"cov_{subgroup}\"] = cov"
   ]
  },
  {
   "cell_type": "code",
   "execution_count": 58,
   "id": "6e872e10-dbe5-49e8-b554-5030c98ff75d",
   "metadata": {
    "execution": {
     "iopub.execute_input": "2025-08-05T15:49:40.361064Z",
     "iopub.status.busy": "2025-08-05T15:49:40.360392Z",
     "iopub.status.idle": "2025-08-05T15:49:40.374767Z",
     "shell.execute_reply": "2025-08-05T15:49:40.373927Z"
    },
    "papermill": {
     "duration": 0.028487,
     "end_time": "2025-08-05T15:49:40.376197",
     "exception": false,
     "start_time": "2025-08-05T15:49:40.347710",
     "status": "completed"
    },
    "tags": []
   },
   "outputs": [
    {
     "data": {
      "text/html": [
       "<div>\n",
       "<style scoped>\n",
       "    .dataframe tbody tr th:only-of-type {\n",
       "        vertical-align: middle;\n",
       "    }\n",
       "\n",
       "    .dataframe tbody tr th {\n",
       "        vertical-align: top;\n",
       "    }\n",
       "\n",
       "    .dataframe thead th {\n",
       "        text-align: right;\n",
       "    }\n",
       "</style>\n",
       "<table border=\"1\" class=\"dataframe\">\n",
       "  <thead>\n",
       "    <tr style=\"text-align: right;\">\n",
       "      <th></th>\n",
       "      <th>universe_id</th>\n",
       "      <th>universe_training_year</th>\n",
       "      <th>universe_training_size</th>\n",
       "      <th>universe_scale</th>\n",
       "      <th>universe_model</th>\n",
       "      <th>universe_exclude_features</th>\n",
       "      <th>universe_exclude_subgroups</th>\n",
       "      <th>q_hat</th>\n",
       "      <th>coverage</th>\n",
       "      <th>avg_size</th>\n",
       "      <th>cov_frau1</th>\n",
       "      <th>cov_nongerman</th>\n",
       "      <th>cov_nongerman_male</th>\n",
       "      <th>cov_nongerman_female</th>\n",
       "    </tr>\n",
       "  </thead>\n",
       "  <tbody>\n",
       "    <tr>\n",
       "      <th>0</th>\n",
       "      <td>01ad57a06f1e1b6acf43537ae97981e4</td>\n",
       "      <td>2010_14</td>\n",
       "      <td>5k</td>\n",
       "      <td>scale</td>\n",
       "      <td>penalized_logreg</td>\n",
       "      <td>sex</td>\n",
       "      <td>keep-all</td>\n",
       "      <td>0.67662</td>\n",
       "      <td>0.911136</td>\n",
       "      <td>1.144588</td>\n",
       "      <td>0.909988</td>\n",
       "      <td>0.910571</td>\n",
       "      <td>0.925786</td>\n",
       "      <td>0.885395</td>\n",
       "    </tr>\n",
       "  </tbody>\n",
       "</table>\n",
       "</div>"
      ],
      "text/plain": [
       "                        universe_id universe_training_year  \\\n",
       "0  01ad57a06f1e1b6acf43537ae97981e4                2010_14   \n",
       "\n",
       "  universe_training_size universe_scale    universe_model  \\\n",
       "0                     5k          scale  penalized_logreg   \n",
       "\n",
       "  universe_exclude_features universe_exclude_subgroups    q_hat  coverage  \\\n",
       "0                       sex                   keep-all  0.67662  0.911136   \n",
       "\n",
       "   avg_size  cov_frau1  cov_nongerman  cov_nongerman_male  \\\n",
       "0  1.144588   0.909988       0.910571            0.925786   \n",
       "\n",
       "   cov_nongerman_female  \n",
       "0              0.885395  "
      ]
     },
     "execution_count": 58,
     "metadata": {},
     "output_type": "execute_result"
    }
   ],
   "source": [
    "cp_metrics_df"
   ]
  },
  {
   "cell_type": "markdown",
   "id": "33774451",
   "metadata": {
    "papermill": {
     "duration": 0.01192,
     "end_time": "2025-08-05T15:49:40.400720",
     "exception": false,
     "start_time": "2025-08-05T15:49:40.388800",
     "status": "completed"
    },
    "tags": []
   },
   "source": [
    "# (Fairness) Metrics"
   ]
  },
  {
   "cell_type": "code",
   "execution_count": 59,
   "id": "debc5d62",
   "metadata": {
    "execution": {
     "iopub.execute_input": "2025-08-05T15:49:40.427280Z",
     "iopub.status.busy": "2025-08-05T15:49:40.426601Z",
     "iopub.status.idle": "2025-08-05T15:49:40.442381Z",
     "shell.execute_reply": "2025-08-05T15:49:40.441523Z"
    },
    "papermill": {
     "duration": 0.0314,
     "end_time": "2025-08-05T15:49:40.443806",
     "exception": false,
     "start_time": "2025-08-05T15:49:40.412406",
     "status": "completed"
    },
    "tags": []
   },
   "outputs": [],
   "source": [
    "# do I need to include maxdeutsch1.missing?\n",
    "\n",
    "import numpy as np\n",
    "\n",
    "colname_to_bin = \"maxdeutsch1\"\n",
    "majority_value = org_train[colname_to_bin].mode()[0]\n",
    "\n",
    "org_test[\"majmin\"] = np.where(org_test[colname_to_bin] == majority_value, \"majority\", \"minority\")"
   ]
  },
  {
   "cell_type": "code",
   "execution_count": 60,
   "id": "06a50de5",
   "metadata": {
    "execution": {
     "iopub.execute_input": "2025-08-05T15:49:40.470407Z",
     "iopub.status.busy": "2025-08-05T15:49:40.470005Z",
     "iopub.status.idle": "2025-08-05T15:49:42.135210Z",
     "shell.execute_reply": "2025-08-05T15:49:42.134434Z"
    },
    "papermill": {
     "duration": 1.679614,
     "end_time": "2025-08-05T15:49:42.136658",
     "exception": false,
     "start_time": "2025-08-05T15:49:40.457044",
     "status": "completed"
    },
    "tags": []
   },
   "outputs": [],
   "source": [
    "example_universe = universe.copy()\n",
    "example_universe[\"cutoff\"] = example_universe[\"cutoff\"][0]\n",
    "example_universe[\"eval_fairness_grouping\"] = example_universe[\"eval_fairness_grouping\"][0]\n",
    "fairness_dict, metric_frame = universe_analysis.compute_metrics(\n",
    "    example_universe,\n",
    "    y_pred_prob=probs_test,\n",
    "    y_test=y_true,\n",
    "    org_test=org_test,\n",
    ")"
   ]
  },
  {
   "cell_type": "markdown",
   "id": "f95d4e02",
   "metadata": {
    "papermill": {
     "duration": 0.01172,
     "end_time": "2025-08-05T15:49:42.163049",
     "exception": false,
     "start_time": "2025-08-05T15:49:42.151329",
     "status": "completed"
    },
    "tags": []
   },
   "source": [
    "# Overall"
   ]
  },
  {
   "cell_type": "markdown",
   "id": "bdee4871",
   "metadata": {
    "papermill": {
     "duration": 0.011573,
     "end_time": "2025-08-05T15:49:42.186126",
     "exception": false,
     "start_time": "2025-08-05T15:49:42.174553",
     "status": "completed"
    },
    "tags": []
   },
   "source": [
    "Fairness\n",
    "Main fairness target: Equalized Odds. Seems to be a better fit than equal opportunity, since we're not only interested in Y = 1. Seems to be a better fit than demographic parity, since we also care about accuracy, not just equal distribution of preds.\n",
    "\n",
    "Pick column for computation of fairness metrics\n",
    "\n",
    "Performance\n",
    "Overall performance measures, most interesting in relation to the measures split by group below"
   ]
  },
  {
   "cell_type": "code",
   "execution_count": 61,
   "id": "c4e067c6",
   "metadata": {
    "execution": {
     "iopub.execute_input": "2025-08-05T15:49:42.211080Z",
     "iopub.status.busy": "2025-08-05T15:49:42.210571Z",
     "iopub.status.idle": "2025-08-05T15:49:42.218244Z",
     "shell.execute_reply": "2025-08-05T15:49:42.217342Z"
    },
    "papermill": {
     "duration": 0.021652,
     "end_time": "2025-08-05T15:49:42.219640",
     "exception": false,
     "start_time": "2025-08-05T15:49:42.197988",
     "status": "completed"
    },
    "tags": []
   },
   "outputs": [
    {
     "data": {
      "text/plain": [
       "accuracy                   0.223621\n",
       "balanced accuracy          0.546941\n",
       "f1                         0.244973\n",
       "precision                  0.139945\n",
       "false positive rate        0.887957\n",
       "false negative rate        0.018161\n",
       "selection rate             0.900000\n",
       "count                  89710.000000\n",
       "dtype: float64"
      ]
     },
     "execution_count": 61,
     "metadata": {},
     "output_type": "execute_result"
    }
   ],
   "source": [
    "metric_frame.overall"
   ]
  },
  {
   "cell_type": "markdown",
   "id": "e968fe9d",
   "metadata": {
    "papermill": {
     "duration": 0.012105,
     "end_time": "2025-08-05T15:49:42.244372",
     "exception": false,
     "start_time": "2025-08-05T15:49:42.232267",
     "status": "completed"
    },
    "tags": []
   },
   "source": [
    "By Group"
   ]
  },
  {
   "cell_type": "code",
   "execution_count": 62,
   "id": "ec325bce",
   "metadata": {
    "execution": {
     "iopub.execute_input": "2025-08-05T15:49:42.269984Z",
     "iopub.status.busy": "2025-08-05T15:49:42.269211Z",
     "iopub.status.idle": "2025-08-05T15:49:42.281640Z",
     "shell.execute_reply": "2025-08-05T15:49:42.280643Z"
    },
    "papermill": {
     "duration": 0.026898,
     "end_time": "2025-08-05T15:49:42.283142",
     "exception": false,
     "start_time": "2025-08-05T15:49:42.256244",
     "status": "completed"
    },
    "tags": []
   },
   "outputs": [
    {
     "data": {
      "text/html": [
       "<div>\n",
       "<style scoped>\n",
       "    .dataframe tbody tr th:only-of-type {\n",
       "        vertical-align: middle;\n",
       "    }\n",
       "\n",
       "    .dataframe tbody tr th {\n",
       "        vertical-align: top;\n",
       "    }\n",
       "\n",
       "    .dataframe thead th {\n",
       "        text-align: right;\n",
       "    }\n",
       "</style>\n",
       "<table border=\"1\" class=\"dataframe\">\n",
       "  <thead>\n",
       "    <tr style=\"text-align: right;\">\n",
       "      <th></th>\n",
       "      <th>accuracy</th>\n",
       "      <th>balanced accuracy</th>\n",
       "      <th>f1</th>\n",
       "      <th>precision</th>\n",
       "      <th>false positive rate</th>\n",
       "      <th>false negative rate</th>\n",
       "      <th>selection rate</th>\n",
       "      <th>count</th>\n",
       "    </tr>\n",
       "    <tr>\n",
       "      <th>majmin</th>\n",
       "      <th></th>\n",
       "      <th></th>\n",
       "      <th></th>\n",
       "      <th></th>\n",
       "      <th></th>\n",
       "      <th></th>\n",
       "      <th></th>\n",
       "      <th></th>\n",
       "    </tr>\n",
       "  </thead>\n",
       "  <tbody>\n",
       "    <tr>\n",
       "      <th>majority</th>\n",
       "      <td>0.24460</td>\n",
       "      <td>0.556631</td>\n",
       "      <td>0.255461</td>\n",
       "      <td>0.146857</td>\n",
       "      <td>0.867483</td>\n",
       "      <td>0.019256</td>\n",
       "      <td>0.882449</td>\n",
       "      <td>69170.0</td>\n",
       "    </tr>\n",
       "    <tr>\n",
       "      <th>minority</th>\n",
       "      <td>0.15297</td>\n",
       "      <td>0.515237</td>\n",
       "      <td>0.211619</td>\n",
       "      <td>0.118528</td>\n",
       "      <td>0.955591</td>\n",
       "      <td>0.013936</td>\n",
       "      <td>0.959104</td>\n",
       "      <td>20540.0</td>\n",
       "    </tr>\n",
       "  </tbody>\n",
       "</table>\n",
       "</div>"
      ],
      "text/plain": [
       "          accuracy  balanced accuracy        f1  precision  \\\n",
       "majmin                                                       \n",
       "majority   0.24460           0.556631  0.255461   0.146857   \n",
       "minority   0.15297           0.515237  0.211619   0.118528   \n",
       "\n",
       "          false positive rate  false negative rate  selection rate    count  \n",
       "majmin                                                                       \n",
       "majority             0.867483             0.019256        0.882449  69170.0  \n",
       "minority             0.955591             0.013936        0.959104  20540.0  "
      ]
     },
     "execution_count": 62,
     "metadata": {},
     "output_type": "execute_result"
    }
   ],
   "source": [
    "metric_frame.by_group"
   ]
  },
  {
   "cell_type": "code",
   "execution_count": 63,
   "id": "a9ddbe63",
   "metadata": {
    "execution": {
     "iopub.execute_input": "2025-08-05T15:49:42.308688Z",
     "iopub.status.busy": "2025-08-05T15:49:42.308070Z",
     "iopub.status.idle": "2025-08-05T15:49:44.218707Z",
     "shell.execute_reply": "2025-08-05T15:49:44.217811Z"
    },
    "papermill": {
     "duration": 1.924542,
     "end_time": "2025-08-05T15:49:44.220269",
     "exception": false,
     "start_time": "2025-08-05T15:49:42.295727",
     "status": "completed"
    },
    "tags": []
   },
   "outputs": [
    {
     "data": {
      "text/plain": [
       "array([[<Axes: title={'center': 'accuracy'}, xlabel='majmin'>,\n",
       "        <Axes: title={'center': 'balanced accuracy'}, xlabel='majmin'>,\n",
       "        <Axes: title={'center': 'f1'}, xlabel='majmin'>],\n",
       "       [<Axes: title={'center': 'precision'}, xlabel='majmin'>,\n",
       "        <Axes: title={'center': 'false positive rate'}, xlabel='majmin'>,\n",
       "        <Axes: title={'center': 'false negative rate'}, xlabel='majmin'>],\n",
       "       [<Axes: title={'center': 'selection rate'}, xlabel='majmin'>,\n",
       "        <Axes: title={'center': 'count'}, xlabel='majmin'>,\n",
       "        <Axes: xlabel='majmin'>]], dtype=object)"
      ]
     },
     "execution_count": 63,
     "metadata": {},
     "output_type": "execute_result"
    },
    {
     "data": {
      "image/png": "[encoded data removed]",
      "text/plain": [
       "<Figure size 1200x800 with 9 Axes>"
      ]
     },
     "metadata": {},
     "output_type": "display_data"
    }
   ],
   "source": [
    "# In a graphic\n",
    "metric_frame.by_group.plot.bar(\n",
    "    subplots=True,\n",
    "    layout=[3, 3],\n",
    "    legend=False,\n",
    "    figsize=[12, 8],\n",
    "    title=\"Show all metrics\",\n",
    ")"
   ]
  },
  {
   "cell_type": "markdown",
   "id": "f57a0bac",
   "metadata": {
    "papermill": {
     "duration": 0.024158,
     "end_time": "2025-08-05T15:49:44.268807",
     "exception": false,
     "start_time": "2025-08-05T15:49:44.244649",
     "status": "completed"
    },
    "tags": []
   },
   "source": [
    "# Final Output"
   ]
  },
  {
   "cell_type": "code",
   "execution_count": 64,
   "id": "96d280a3",
   "metadata": {
    "execution": {
     "iopub.execute_input": "2025-08-05T15:49:44.319757Z",
     "iopub.status.busy": "2025-08-05T15:49:44.319104Z",
     "iopub.status.idle": "2025-08-05T15:49:44.327266Z",
     "shell.execute_reply": "2025-08-05T15:49:44.326449Z"
    },
    "papermill": {
     "duration": 0.036534,
     "end_time": "2025-08-05T15:49:44.328726",
     "exception": false,
     "start_time": "2025-08-05T15:49:44.292192",
     "status": "completed"
    },
    "tags": []
   },
   "outputs": [
    {
     "data": {
      "text/plain": [
       "4"
      ]
     },
     "execution_count": 64,
     "metadata": {},
     "output_type": "execute_result"
    }
   ],
   "source": [
    "sub_universes = universe_analysis.generate_sub_universes()\n",
    "len(sub_universes)"
   ]
  },
  {
   "cell_type": "code",
   "execution_count": 65,
   "id": "92adf7ba",
   "metadata": {
    "execution": {
     "iopub.execute_input": "2025-08-05T15:49:44.380096Z",
     "iopub.status.busy": "2025-08-05T15:49:44.379413Z",
     "iopub.status.idle": "2025-08-05T15:49:44.385763Z",
     "shell.execute_reply": "2025-08-05T15:49:44.384708Z"
    },
    "papermill": {
     "duration": 0.034305,
     "end_time": "2025-08-05T15:49:44.387522",
     "exception": false,
     "start_time": "2025-08-05T15:49:44.353217",
     "status": "completed"
    },
    "tags": []
   },
   "outputs": [],
   "source": [
    "def filter_sub_universe_data(sub_universe, org_test):\n",
    "    # Keep all rows — no filtering\n",
    "    keep_rows_mask = np.ones(org_test.shape[0], dtype=bool)\n",
    "\n",
    "    print(f\"[INFO] Keeping all rows: {keep_rows_mask.sum()} rows retained.\")\n",
    "    return keep_rows_mask"
   ]
  },
  {
   "cell_type": "code",
   "execution_count": 66,
   "id": "4a759155",
   "metadata": {
    "execution": {
     "iopub.execute_input": "2025-08-05T15:49:44.440316Z",
     "iopub.status.busy": "2025-08-05T15:49:44.439637Z",
     "iopub.status.idle": "2025-08-05T15:49:53.723379Z",
     "shell.execute_reply": "2025-08-05T15:49:53.722357Z"
    },
    "papermill": {
     "duration": 9.313268,
     "end_time": "2025-08-05T15:49:53.725051",
     "exception": false,
     "start_time": "2025-08-05T15:49:44.411783",
     "status": "completed"
    },
    "tags": []
   },
   "outputs": [
    {
     "name": "stdout",
     "output_type": "stream",
     "text": [
      "Stopping execution_time clock.\n",
      "[INFO] Keeping all rows: 89710 rows retained.\n"
     ]
    },
    {
     "name": "stdout",
     "output_type": "stream",
     "text": [
      "[INFO] Keeping all rows: 89710 rows retained.\n"
     ]
    },
    {
     "name": "stdout",
     "output_type": "stream",
     "text": [
      "[INFO] Keeping all rows: 89710 rows retained.\n"
     ]
    },
    {
     "name": "stdout",
     "output_type": "stream",
     "text": [
      "[INFO] Keeping all rows: 89710 rows retained.\n"
     ]
    },
    {
     "data": {
      "text/html": [
       "<div>\n",
       "<style scoped>\n",
       "    .dataframe tbody tr th:only-of-type {\n",
       "        vertical-align: middle;\n",
       "    }\n",
       "\n",
       "    .dataframe tbody tr th {\n",
       "        vertical-align: top;\n",
       "    }\n",
       "\n",
       "    .dataframe thead th {\n",
       "        text-align: right;\n",
       "    }\n",
       "</style>\n",
       "<table border=\"1\" class=\"dataframe\">\n",
       "  <thead>\n",
       "    <tr style=\"text-align: right;\">\n",
       "      <th></th>\n",
       "      <th>run_no</th>\n",
       "      <th>universe_id</th>\n",
       "      <th>universe_settings</th>\n",
       "      <th>execution_time</th>\n",
       "      <th>test_size_n</th>\n",
       "      <th>test_size_frac</th>\n",
       "      <th>fair_main_equalized_odds_difference</th>\n",
       "      <th>fair_main_equalized_odds_ratio</th>\n",
       "      <th>fair_main_demographic_parity_difference</th>\n",
       "      <th>fair_main_demographic_parity_ratio</th>\n",
       "      <th>...</th>\n",
       "      <th>perf_grp_precision_0</th>\n",
       "      <th>perf_grp_precision_1</th>\n",
       "      <th>perf_grp_false positive rate_0</th>\n",
       "      <th>perf_grp_false positive rate_1</th>\n",
       "      <th>perf_grp_false negative rate_0</th>\n",
       "      <th>perf_grp_false negative rate_1</th>\n",
       "      <th>perf_grp_selection rate_0</th>\n",
       "      <th>perf_grp_selection rate_1</th>\n",
       "      <th>perf_grp_count_0</th>\n",
       "      <th>perf_grp_count_1</th>\n",
       "    </tr>\n",
       "  </thead>\n",
       "  <tbody>\n",
       "    <tr>\n",
       "      <th>0</th>\n",
       "      <td>15</td>\n",
       "      <td>01ad57a06f1e1b6acf43537ae97981e4</td>\n",
       "      <td>{\"cutoff\": \"quantile_0.1\", \"eval_fairness_grou...</td>\n",
       "      <td>25.132475</td>\n",
       "      <td>89710</td>\n",
       "      <td>1.0</td>\n",
       "      <td>0.088108</td>\n",
       "      <td>0.907797</td>\n",
       "      <td>0.076655</td>\n",
       "      <td>0.920076</td>\n",
       "      <td>...</td>\n",
       "      <td>NaN</td>\n",
       "      <td>NaN</td>\n",
       "      <td>NaN</td>\n",
       "      <td>NaN</td>\n",
       "      <td>NaN</td>\n",
       "      <td>NaN</td>\n",
       "      <td>NaN</td>\n",
       "      <td>NaN</td>\n",
       "      <td>NaN</td>\n",
       "      <td>NaN</td>\n",
       "    </tr>\n",
       "    <tr>\n",
       "      <th>0</th>\n",
       "      <td>15</td>\n",
       "      <td>01ad57a06f1e1b6acf43537ae97981e4</td>\n",
       "      <td>{\"cutoff\": \"quantile_0.1\", \"eval_fairness_grou...</td>\n",
       "      <td>25.132475</td>\n",
       "      <td>89710</td>\n",
       "      <td>1.0</td>\n",
       "      <td>0.088108</td>\n",
       "      <td>0.907797</td>\n",
       "      <td>0.076655</td>\n",
       "      <td>0.920076</td>\n",
       "      <td>...</td>\n",
       "      <td>0.118528</td>\n",
       "      <td>0.146857</td>\n",
       "      <td>0.955591</td>\n",
       "      <td>0.867483</td>\n",
       "      <td>0.013936</td>\n",
       "      <td>0.019256</td>\n",
       "      <td>0.959104</td>\n",
       "      <td>0.882449</td>\n",
       "      <td>20540.0</td>\n",
       "      <td>69170.0</td>\n",
       "    </tr>\n",
       "    <tr>\n",
       "      <th>0</th>\n",
       "      <td>15</td>\n",
       "      <td>01ad57a06f1e1b6acf43537ae97981e4</td>\n",
       "      <td>{\"cutoff\": \"quantile_0.25\", \"eval_fairness_gro...</td>\n",
       "      <td>25.132475</td>\n",
       "      <td>89710</td>\n",
       "      <td>1.0</td>\n",
       "      <td>0.135714</td>\n",
       "      <td>0.835926</td>\n",
       "      <td>0.116758</td>\n",
       "      <td>0.861006</td>\n",
       "      <td>...</td>\n",
       "      <td>NaN</td>\n",
       "      <td>NaN</td>\n",
       "      <td>NaN</td>\n",
       "      <td>NaN</td>\n",
       "      <td>NaN</td>\n",
       "      <td>NaN</td>\n",
       "      <td>NaN</td>\n",
       "      <td>NaN</td>\n",
       "      <td>NaN</td>\n",
       "      <td>NaN</td>\n",
       "    </tr>\n",
       "    <tr>\n",
       "      <th>0</th>\n",
       "      <td>15</td>\n",
       "      <td>01ad57a06f1e1b6acf43537ae97981e4</td>\n",
       "      <td>{\"cutoff\": \"quantile_0.25\", \"eval_fairness_gro...</td>\n",
       "      <td>25.132475</td>\n",
       "      <td>89710</td>\n",
       "      <td>1.0</td>\n",
       "      <td>0.135714</td>\n",
       "      <td>0.835926</td>\n",
       "      <td>0.116758</td>\n",
       "      <td>0.861006</td>\n",
       "      <td>...</td>\n",
       "      <td>0.128840</td>\n",
       "      <td>0.170325</td>\n",
       "      <td>0.827152</td>\n",
       "      <td>0.691438</td>\n",
       "      <td>0.061233</td>\n",
       "      <td>0.067724</td>\n",
       "      <td>0.840019</td>\n",
       "      <td>0.723262</td>\n",
       "      <td>20540.0</td>\n",
       "      <td>69170.0</td>\n",
       "    </tr>\n",
       "  </tbody>\n",
       "</table>\n",
       "<p>4 rows × 50 columns</p>\n",
       "</div>"
      ],
      "text/plain": [
       "  run_no                       universe_id  \\\n",
       "0     15  01ad57a06f1e1b6acf43537ae97981e4   \n",
       "0     15  01ad57a06f1e1b6acf43537ae97981e4   \n",
       "0     15  01ad57a06f1e1b6acf43537ae97981e4   \n",
       "0     15  01ad57a06f1e1b6acf43537ae97981e4   \n",
       "\n",
       "                                   universe_settings  execution_time  \\\n",
       "0  {\"cutoff\": \"quantile_0.1\", \"eval_fairness_grou...       25.132475   \n",
       "0  {\"cutoff\": \"quantile_0.1\", \"eval_fairness_grou...       25.132475   \n",
       "0  {\"cutoff\": \"quantile_0.25\", \"eval_fairness_gro...       25.132475   \n",
       "0  {\"cutoff\": \"quantile_0.25\", \"eval_fairness_gro...       25.132475   \n",
       "\n",
       "   test_size_n  test_size_frac  fair_main_equalized_odds_difference  \\\n",
       "0        89710             1.0                             0.088108   \n",
       "0        89710             1.0                             0.088108   \n",
       "0        89710             1.0                             0.135714   \n",
       "0        89710             1.0                             0.135714   \n",
       "\n",
       "   fair_main_equalized_odds_ratio  fair_main_demographic_parity_difference  \\\n",
       "0                        0.907797                                 0.076655   \n",
       "0                        0.907797                                 0.076655   \n",
       "0                        0.835926                                 0.116758   \n",
       "0                        0.835926                                 0.116758   \n",
       "\n",
       "   fair_main_demographic_parity_ratio  ...  perf_grp_precision_0  \\\n",
       "0                            0.920076  ...                   NaN   \n",
       "0                            0.920076  ...              0.118528   \n",
       "0                            0.861006  ...                   NaN   \n",
       "0                            0.861006  ...              0.128840   \n",
       "\n",
       "   perf_grp_precision_1  perf_grp_false positive rate_0  \\\n",
       "0                   NaN                             NaN   \n",
       "0              0.146857                        0.955591   \n",
       "0                   NaN                             NaN   \n",
       "0              0.170325                        0.827152   \n",
       "\n",
       "   perf_grp_false positive rate_1  perf_grp_false negative rate_0  \\\n",
       "0                             NaN                             NaN   \n",
       "0                        0.867483                        0.013936   \n",
       "0                             NaN                             NaN   \n",
       "0                        0.691438                        0.061233   \n",
       "\n",
       "   perf_grp_false negative rate_1  perf_grp_selection rate_0  \\\n",
       "0                             NaN                        NaN   \n",
       "0                        0.019256                   0.959104   \n",
       "0                             NaN                        NaN   \n",
       "0                        0.067724                   0.840019   \n",
       "\n",
       "   perf_grp_selection rate_1  perf_grp_count_0  perf_grp_count_1  \n",
       "0                        NaN               NaN               NaN  \n",
       "0                   0.882449           20540.0           69170.0  \n",
       "0                        NaN               NaN               NaN  \n",
       "0                   0.723262           20540.0           69170.0  \n",
       "\n",
       "[4 rows x 50 columns]"
      ]
     },
     "execution_count": 66,
     "metadata": {},
     "output_type": "execute_result"
    }
   ],
   "source": [
    "final_output = universe_analysis.generate_final_output(\n",
    "    y_pred_prob=probs_test,\n",
    "    y_test=y_true,\n",
    "    org_test=org_test,\n",
    "    filter_data=filter_sub_universe_data,\n",
    "    cp_metrics_df=cp_metrics_df,\n",
    "    save=True,\n",
    ")\n",
    "final_output"
   ]
  }
 ],
 "metadata": {
  "celltoolbar": "Tags",
  "kernelspec": {
   "display_name": "Python (CMA Fairness)",
   "language": "python",
   "name": "cma_fair_env"
  },
  "language_info": {
   "codemirror_mode": {
    "name": "ipython",
    "version": 3
   },
   "file_extension": ".py",
   "mimetype": "text/x-python",
   "name": "python",
   "nbconvert_exporter": "python",
   "pygments_lexer": "ipython3",
   "version": "3.10.12"
  },
  "papermill": {
   "default_parameters": {},
   "duration": 38.670993,
   "end_time": "2025-08-05T15:49:54.674564",
   "environment_variables": {},
   "exception": null,
   "input_path": "universe_analysis.ipynb",
   "output_path": "output/runs/15/notebooks/m_15-01ad57a06f1e1b6acf43537ae97981e4.ipynb",
   "parameters": {
    "output_dir": "output",
    "run_no": "15",
    "seed": "2023",
    "universe": "{\"cutoff\": [\"quantile_0.1\", \"quantile_0.25\"], \"eval_fairness_grouping\": [\"majority-minority\", \"nationality-all\"], \"exclude_features\": \"sex\", \"exclude_subgroups\": \"keep-all\", \"model\": \"penalized_logreg\", \"scale\": \"scale\", \"training_size\": \"5k\", \"training_year\": \"2010_14\"}",
    "universe_id": "01ad57a06f1e1b6acf43537ae97981e4"
   },
   "start_time": "2025-08-05T15:49:16.003571",
   "version": "2.6.0"
  }
 },
 "nbformat": 4,
 "nbformat_minor": 5
}