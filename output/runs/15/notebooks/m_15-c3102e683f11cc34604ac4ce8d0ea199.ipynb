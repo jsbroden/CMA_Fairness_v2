{
 "cells": [
  {
   "cell_type": "code",
   "execution_count": 1,
   "id": "f159f837-637b-42ba-96b5-ec9a68c44524",
   "metadata": {
    "execution": {
     "iopub.execute_input": "2025-08-05T15:53:50.356396Z",
     "iopub.status.busy": "2025-08-05T15:53:50.355755Z",
     "iopub.status.idle": "2025-08-05T15:53:50.370102Z",
     "shell.execute_reply": "2025-08-05T15:53:50.369089Z"
    },
    "papermill": {
     "duration": 0.034996,
     "end_time": "2025-08-05T15:53:50.371831",
     "exception": false,
     "start_time": "2025-08-05T15:53:50.336835",
     "status": "completed"
    },
    "tags": []
   },
   "outputs": [
    {
     "name": "stdout",
     "output_type": "stream",
     "text": [
      "/dss/dsshome1/0C/ra93lal2/cma/CMA_Fairness_v2\n"
     ]
    },
    {
     "name": "stderr",
     "output_type": "stream",
     "text": [
      "/dss/dsshome1/0C/ra93lal2/.local/share/virtualenvs/CMA_Fairness_v2-3j10GkSs/lib/python3.10/site-packages/IPython/core/magics/osm.py:393: UserWarning: This is now an optional IPython functionality, using bookmarks requires you to install the `pickleshare` library.\n",
      "  bkms = self.shell.db.get('bookmarks', {})\n",
      "/dss/dsshome1/0C/ra93lal2/.local/share/virtualenvs/CMA_Fairness_v2-3j10GkSs/lib/python3.10/site-packages/IPython/core/magics/osm.py:417: UserWarning: This is now an optional IPython functionality, setting dhist requires you to install the `pickleshare` library.\n",
      "  self.shell.db['dhist'] = compress_dhist(dhist)[-100:]\n"
     ]
    }
   ],
   "source": [
    "%cd ~/cma/CMA_Fairness_v2"
   ]
  },
  {
   "cell_type": "markdown",
   "id": "de2603b9",
   "metadata": {
    "papermill": {
     "duration": 0.016065,
     "end_time": "2025-08-05T15:53:50.404497",
     "exception": false,
     "start_time": "2025-08-05T15:53:50.388432",
     "status": "completed"
    },
    "tags": []
   },
   "source": [
    "The following cell holds the definition of our parameters, these values can be overriden by rendering the with e.g. the following command:\n",
    "\n",
    "papermill -p alpha 0.2 -p ratio 0.3 universe_analysis.ipynb output/test_run.ipynb"
   ]
  },
  {
   "cell_type": "code",
   "execution_count": 2,
   "id": "a80968a0-40bb-4fa9-85ef-2d5eefb01975",
   "metadata": {
    "execution": {
     "iopub.execute_input": "2025-08-05T15:53:50.484245Z",
     "iopub.status.busy": "2025-08-05T15:53:50.483558Z",
     "iopub.status.idle": "2025-08-05T15:53:50.489323Z",
     "shell.execute_reply": "2025-08-05T15:53:50.488353Z"
    },
    "papermill": {
     "duration": 0.02503,
     "end_time": "2025-08-05T15:53:50.491019",
     "exception": false,
     "start_time": "2025-08-05T15:53:50.465989",
     "status": "completed"
    },
    "tags": []
   },
   "outputs": [
    {
     "name": "stdout",
     "output_type": "stream",
     "text": [
      "Current working directory: /dss/dsshome1/0C/ra93lal2/cma/CMA_Fairness_v2\n"
     ]
    }
   ],
   "source": [
    "import os\n",
    "print(\"Current working directory:\", os.getcwd())"
   ]
  },
  {
   "cell_type": "code",
   "execution_count": 3,
   "id": "2dce4c03",
   "metadata": {
    "execution": {
     "iopub.execute_input": "2025-08-05T15:53:50.525354Z",
     "iopub.status.busy": "2025-08-05T15:53:50.524711Z",
     "iopub.status.idle": "2025-08-05T15:53:50.530870Z",
     "shell.execute_reply": "2025-08-05T15:53:50.529776Z"
    },
    "papermill": {
     "duration": 0.025063,
     "end_time": "2025-08-05T15:53:50.532656",
     "exception": false,
     "start_time": "2025-08-05T15:53:50.507593",
     "status": "completed"
    },
    "tags": [
     "parameters"
    ]
   },
   "outputs": [],
   "source": [
    "run_no = 0\n",
    "universe_id = \"test\"\n",
    "universe = {\n",
    "    \"training_size\": \"25k\", # \"25k\", \"5k\", \"1k\"\n",
    "    \"training_year\": \"2014\", # \"2014\", \"2012_14\", \"2010_14\"\n",
    "    \"scale\": \"scale\", # \"scale\", \"do-not-scale\",\n",
    "    \"model\": \"elasticnet\", # \"logreg\", \"penalized_logreg\", \"rf\", \"gbm\", \"elasticnet\"\n",
    "    \"cutoff\": [\"quantile_0.15\", \"quantile_0.30\"],\n",
    "    \"exclude_features\": \"age\", # \"none\", \"nationality\", \"sex\", \"nationality-sex\", \"age\"\n",
    "    \"exclude_subgroups\": \"keep-all\", # \"keep-all\", \"drop-non-german\"\n",
    "    \"eval_fairness_grouping\": [\"majority-minority\", \"nationality-all\"]\n",
    "}\n",
    "\n",
    "output_dir=\"./output\"\n",
    "seed=0"
   ]
  },
  {
   "cell_type": "code",
   "execution_count": 4,
   "id": "15c4699b",
   "metadata": {
    "execution": {
     "iopub.execute_input": "2025-08-05T15:53:50.568369Z",
     "iopub.status.busy": "2025-08-05T15:53:50.567776Z",
     "iopub.status.idle": "2025-08-05T15:53:50.573819Z",
     "shell.execute_reply": "2025-08-05T15:53:50.572810Z"
    },
    "papermill": {
     "duration": 0.02491,
     "end_time": "2025-08-05T15:53:50.575687",
     "exception": false,
     "start_time": "2025-08-05T15:53:50.550777",
     "status": "completed"
    },
    "tags": [
     "injected-parameters"
    ]
   },
   "outputs": [],
   "source": [
    "# Parameters\n",
    "universe_id = \"c3102e683f11cc34604ac4ce8d0ea199\"\n",
    "run_no = \"15\"\n",
    "universe = \"{\\\"cutoff\\\": [\\\"quantile_0.1\\\", \\\"quantile_0.25\\\"], \\\"eval_fairness_grouping\\\": [\\\"majority-minority\\\", \\\"nationality-all\\\"], \\\"exclude_features\\\": \\\"sex\\\", \\\"exclude_subgroups\\\": \\\"drop-non-german\\\", \\\"model\\\": \\\"elasticnet\\\", \\\"scale\\\": \\\"scale\\\", \\\"training_size\\\": \\\"5k\\\", \\\"training_year\\\": \\\"2010_14\\\"}\"\n",
    "output_dir = \"output\"\n",
    "seed = \"2023\"\n"
   ]
  },
  {
   "cell_type": "code",
   "execution_count": 5,
   "id": "1650acaf",
   "metadata": {
    "execution": {
     "iopub.execute_input": "2025-08-05T15:53:50.612923Z",
     "iopub.status.busy": "2025-08-05T15:53:50.612271Z",
     "iopub.status.idle": "2025-08-05T15:53:50.617545Z",
     "shell.execute_reply": "2025-08-05T15:53:50.616620Z"
    },
    "papermill": {
     "duration": 0.026471,
     "end_time": "2025-08-05T15:53:50.619248",
     "exception": false,
     "start_time": "2025-08-05T15:53:50.592777",
     "status": "completed"
    },
    "tags": []
   },
   "outputs": [],
   "source": [
    "import json\n",
    "if isinstance(universe, str):\n",
    "    universe = json.loads(universe)"
   ]
  },
  {
   "cell_type": "code",
   "execution_count": 6,
   "id": "16620c48",
   "metadata": {
    "execution": {
     "iopub.execute_input": "2025-08-05T15:53:50.654335Z",
     "iopub.status.busy": "2025-08-05T15:53:50.653696Z",
     "iopub.status.idle": "2025-08-05T15:53:50.698139Z",
     "shell.execute_reply": "2025-08-05T15:53:50.697011Z"
    },
    "papermill": {
     "duration": 0.063587,
     "end_time": "2025-08-05T15:53:50.700055",
     "exception": false,
     "start_time": "2025-08-05T15:53:50.636468",
     "status": "completed"
    },
    "tags": []
   },
   "outputs": [],
   "source": [
    "# Auto-reload the custom package\n",
    "%load_ext autoreload\n",
    "%autoreload 1\n",
    "%aimport fairness_multiverse"
   ]
  },
  {
   "cell_type": "code",
   "execution_count": 7,
   "id": "01c5c9f3",
   "metadata": {
    "execution": {
     "iopub.execute_input": "2025-08-05T15:53:50.740020Z",
     "iopub.status.busy": "2025-08-05T15:53:50.739613Z",
     "iopub.status.idle": "2025-08-05T15:53:52.630514Z",
     "shell.execute_reply": "2025-08-05T15:53:52.629676Z"
    },
    "papermill": {
     "duration": 1.915527,
     "end_time": "2025-08-05T15:53:52.632370",
     "exception": false,
     "start_time": "2025-08-05T15:53:50.716843",
     "status": "completed"
    },
    "tags": []
   },
   "outputs": [],
   "source": [
    "from fairness_multiverse.universe import UniverseAnalysis\n",
    "\n",
    "universe_analysis = UniverseAnalysis(\n",
    "    run_no = run_no,\n",
    "    universe_id = universe_id,\n",
    "    universe = universe,\n",
    "    output_dir=output_dir,\n",
    ")"
   ]
  },
  {
   "cell_type": "code",
   "execution_count": 8,
   "id": "106241f5",
   "metadata": {
    "execution": {
     "iopub.execute_input": "2025-08-05T15:53:52.668093Z",
     "iopub.status.busy": "2025-08-05T15:53:52.667697Z",
     "iopub.status.idle": "2025-08-05T15:53:52.673282Z",
     "shell.execute_reply": "2025-08-05T15:53:52.672565Z"
    },
    "papermill": {
     "duration": 0.024817,
     "end_time": "2025-08-05T15:53:52.675140",
     "exception": false,
     "start_time": "2025-08-05T15:53:52.650323",
     "status": "completed"
    },
    "tags": []
   },
   "outputs": [
    {
     "name": "stdout",
     "output_type": "stream",
     "text": [
      "Using Seed: 2023\n"
     ]
    }
   ],
   "source": [
    "import numpy as np\n",
    "parsed_seed = int(seed)\n",
    "np.random.seed(parsed_seed)\n",
    "print(f\"Using Seed: {parsed_seed}\")"
   ]
  },
  {
   "cell_type": "markdown",
   "id": "e0ebdc57",
   "metadata": {
    "papermill": {
     "duration": 0.010435,
     "end_time": "2025-08-05T15:53:52.698422",
     "exception": false,
     "start_time": "2025-08-05T15:53:52.687987",
     "status": "completed"
    },
    "tags": []
   },
   "source": [
    "# Loading Data"
   ]
  },
  {
   "cell_type": "code",
   "execution_count": 9,
   "id": "f0496b8a",
   "metadata": {
    "execution": {
     "iopub.execute_input": "2025-08-05T15:53:52.718056Z",
     "iopub.status.busy": "2025-08-05T15:53:52.717600Z",
     "iopub.status.idle": "2025-08-05T15:54:03.814401Z",
     "shell.execute_reply": "2025-08-05T15:54:03.813486Z"
    },
    "papermill": {
     "duration": 11.108201,
     "end_time": "2025-08-05T15:54:03.815822",
     "exception": false,
     "start_time": "2025-08-05T15:53:52.707621",
     "status": "completed"
    },
    "tags": []
   },
   "outputs": [
    {
     "name": "stdout",
     "output_type": "stream",
     "text": [
      "Loading SIAB data from cache: data/siab_cached.csv.gz\n"
     ]
    },
    {
     "name": "stdout",
     "output_type": "stream",
     "text": [
      "(643690, 164)\n"
     ]
    }
   ],
   "source": [
    "from pathlib import Path\n",
    "import pandas as pd\n",
    "\n",
    "# File paths\n",
    "raw_file = Path(\"data/raw/siab.csv\")\n",
    "cache_file = Path(\"data/siab_cached.csv.gz\")\n",
    "\n",
    "# Ensure cache directory exists\n",
    "cache_file.parent.mkdir(parents=True, exist_ok=True)\n",
    "\n",
    "# Load with simple caching\n",
    "if cache_file.exists():\n",
    "    print(f\"Loading SIAB data from cache: {cache_file}\")\n",
    "    siab = pd.read_csv(cache_file, compression='gzip')\n",
    "else:\n",
    "    print(f\"Cache not found. Reading raw SIAB data: {raw_file}\")\n",
    "    siab = pd.read_csv(raw_file)\n",
    "    siab.to_csv(cache_file, index=False, compression='gzip')\n",
    "    print(f\"Cached SIAB data to: {cache_file}\")\n",
    "\n",
    "print(siab.shape)"
   ]
  },
  {
   "cell_type": "code",
   "execution_count": 10,
   "id": "db0ca512-5f53-4dba-abdb-a2888bca41ba",
   "metadata": {
    "execution": {
     "iopub.execute_input": "2025-08-05T15:54:03.838609Z",
     "iopub.status.busy": "2025-08-05T15:54:03.838093Z",
     "iopub.status.idle": "2025-08-05T15:54:03.842898Z",
     "shell.execute_reply": "2025-08-05T15:54:03.842225Z"
    },
    "papermill": {
     "duration": 0.016414,
     "end_time": "2025-08-05T15:54:03.844201",
     "exception": false,
     "start_time": "2025-08-05T15:54:03.827787",
     "status": "completed"
    },
    "tags": []
   },
   "outputs": [],
   "source": [
    "#siab"
   ]
  },
  {
   "cell_type": "markdown",
   "id": "997051c5-15bd-4b69-9786-c3001a3ce484",
   "metadata": {
    "papermill": {
     "duration": 0.018767,
     "end_time": "2025-08-05T15:54:03.873110",
     "exception": false,
     "start_time": "2025-08-05T15:54:03.854343",
     "status": "completed"
    },
    "tags": []
   },
   "source": [
    "# Splitting Data and Setting Training Data Size"
   ]
  },
  {
   "cell_type": "code",
   "execution_count": 11,
   "id": "aea9c6ef-6f46-42c8-85eb-5a62025c1508",
   "metadata": {
    "execution": {
     "iopub.execute_input": "2025-08-05T15:54:03.893421Z",
     "iopub.status.busy": "2025-08-05T15:54:03.892842Z",
     "iopub.status.idle": "2025-08-05T15:54:05.018112Z",
     "shell.execute_reply": "2025-08-05T15:54:05.016914Z"
    },
    "papermill": {
     "duration": 1.137302,
     "end_time": "2025-08-05T15:54:05.020138",
     "exception": false,
     "start_time": "2025-08-05T15:54:03.882836",
     "status": "completed"
    },
    "tags": []
   },
   "outputs": [],
   "source": [
    "from fairness_multiverse.universe import sample_by_year_size\n",
    "\n",
    "siab_train = sample_by_year_size(siab,\n",
    "                               training_year=universe[\"training_year\"],\n",
    "                               training_size=universe[\"training_size\"])"
   ]
  },
  {
   "cell_type": "code",
   "execution_count": 12,
   "id": "8d3afb32-789d-442c-8d5d-9f5aa8dd2eed",
   "metadata": {
    "execution": {
     "iopub.execute_input": "2025-08-05T15:54:05.063745Z",
     "iopub.status.busy": "2025-08-05T15:54:05.063261Z",
     "iopub.status.idle": "2025-08-05T15:54:05.068720Z",
     "shell.execute_reply": "2025-08-05T15:54:05.067617Z"
    },
    "papermill": {
     "duration": 0.027937,
     "end_time": "2025-08-05T15:54:05.070603",
     "exception": false,
     "start_time": "2025-08-05T15:54:05.042666",
     "status": "completed"
    },
    "tags": []
   },
   "outputs": [],
   "source": [
    "#siab_train.shape"
   ]
  },
  {
   "cell_type": "code",
   "execution_count": 13,
   "id": "d582db68-1a4c-47fb-84fc-08518dc1975a",
   "metadata": {
    "execution": {
     "iopub.execute_input": "2025-08-05T15:54:05.108591Z",
     "iopub.status.busy": "2025-08-05T15:54:05.108082Z",
     "iopub.status.idle": "2025-08-05T15:54:05.112947Z",
     "shell.execute_reply": "2025-08-05T15:54:05.111925Z"
    },
    "papermill": {
     "duration": 0.025936,
     "end_time": "2025-08-05T15:54:05.115009",
     "exception": false,
     "start_time": "2025-08-05T15:54:05.089073",
     "status": "completed"
    },
    "tags": []
   },
   "outputs": [],
   "source": [
    "#display(siab_train.groupby(\"year\").size())"
   ]
  },
  {
   "cell_type": "code",
   "execution_count": 14,
   "id": "a561edb4-d032-42cb-8256-22eac1111c64",
   "metadata": {
    "execution": {
     "iopub.execute_input": "2025-08-05T15:54:05.152673Z",
     "iopub.status.busy": "2025-08-05T15:54:05.151961Z",
     "iopub.status.idle": "2025-08-05T15:54:05.403609Z",
     "shell.execute_reply": "2025-08-05T15:54:05.402620Z"
    },
    "papermill": {
     "duration": 0.272059,
     "end_time": "2025-08-05T15:54:05.405594",
     "exception": false,
     "start_time": "2025-08-05T15:54:05.133535",
     "status": "completed"
    },
    "tags": []
   },
   "outputs": [],
   "source": [
    "#siab_train = siab_s[siab_s.year < 2015]\n",
    "siab_calib = siab[siab.year == 2015]\n",
    "siab_test = siab[siab.year == 2016]"
   ]
  },
  {
   "cell_type": "code",
   "execution_count": 15,
   "id": "472de16f-c3db-4916-846b-1f0de9cf1746",
   "metadata": {
    "execution": {
     "iopub.execute_input": "2025-08-05T15:54:05.444816Z",
     "iopub.status.busy": "2025-08-05T15:54:05.443973Z",
     "iopub.status.idle": "2025-08-05T15:54:05.453431Z",
     "shell.execute_reply": "2025-08-05T15:54:05.452067Z"
    },
    "papermill": {
     "duration": 0.030544,
     "end_time": "2025-08-05T15:54:05.455575",
     "exception": false,
     "start_time": "2025-08-05T15:54:05.425031",
     "status": "completed"
    },
    "tags": []
   },
   "outputs": [],
   "source": [
    "X_train = siab_train.iloc[:,4:164]\n",
    "y_train = siab_train.iloc[:, [3]]"
   ]
  },
  {
   "cell_type": "code",
   "execution_count": 16,
   "id": "828c96af-f43a-4ed6-ba47-8ac73a47d56c",
   "metadata": {
    "execution": {
     "iopub.execute_input": "2025-08-05T15:54:05.494081Z",
     "iopub.status.busy": "2025-08-05T15:54:05.493333Z",
     "iopub.status.idle": "2025-08-05T15:54:05.548986Z",
     "shell.execute_reply": "2025-08-05T15:54:05.547791Z"
    },
    "papermill": {
     "duration": 0.076495,
     "end_time": "2025-08-05T15:54:05.551019",
     "exception": false,
     "start_time": "2025-08-05T15:54:05.474524",
     "status": "completed"
    },
    "tags": []
   },
   "outputs": [],
   "source": [
    "X_calib = siab_calib.iloc[:,4:164]\n",
    "y_calib = siab_calib.iloc[:, [3]]"
   ]
  },
  {
   "cell_type": "code",
   "execution_count": 17,
   "id": "c34be9c3-6bd6-476e-acd3-845840e303be",
   "metadata": {
    "execution": {
     "iopub.execute_input": "2025-08-05T15:54:05.593133Z",
     "iopub.status.busy": "2025-08-05T15:54:05.592283Z",
     "iopub.status.idle": "2025-08-05T15:54:05.648715Z",
     "shell.execute_reply": "2025-08-05T15:54:05.647500Z"
    },
    "papermill": {
     "duration": 0.07958,
     "end_time": "2025-08-05T15:54:05.650671",
     "exception": false,
     "start_time": "2025-08-05T15:54:05.571091",
     "status": "completed"
    },
    "tags": []
   },
   "outputs": [],
   "source": [
    "X_test = siab_test.iloc[:,4:164]\n",
    "y_true = siab_test.iloc[:, [3]]"
   ]
  },
  {
   "cell_type": "code",
   "execution_count": 18,
   "id": "e6c733c5",
   "metadata": {
    "execution": {
     "iopub.execute_input": "2025-08-05T15:54:05.690657Z",
     "iopub.status.busy": "2025-08-05T15:54:05.689828Z",
     "iopub.status.idle": "2025-08-05T15:54:05.791936Z",
     "shell.execute_reply": "2025-08-05T15:54:05.791161Z"
    },
    "papermill": {
     "duration": 0.123181,
     "end_time": "2025-08-05T15:54:05.793803",
     "exception": false,
     "start_time": "2025-08-05T15:54:05.670622",
     "status": "completed"
    },
    "tags": []
   },
   "outputs": [],
   "source": [
    "# Auxiliary data needed downstream in the pipeline\n",
    "\n",
    "org_train = X_train.copy()\n",
    "org_test = X_test.copy()\n",
    "org_calib = X_calib.copy()"
   ]
  },
  {
   "cell_type": "markdown",
   "id": "0a4a1b33",
   "metadata": {
    "papermill": {
     "duration": 0.019175,
     "end_time": "2025-08-05T15:54:05.833699",
     "exception": false,
     "start_time": "2025-08-05T15:54:05.814524",
     "status": "completed"
    },
    "tags": []
   },
   "source": [
    "# Preprocessing Data"
   ]
  },
  {
   "cell_type": "code",
   "execution_count": 19,
   "id": "ca879031",
   "metadata": {
    "execution": {
     "iopub.execute_input": "2025-08-05T15:54:05.873511Z",
     "iopub.status.busy": "2025-08-05T15:54:05.872997Z",
     "iopub.status.idle": "2025-08-05T15:54:05.879691Z",
     "shell.execute_reply": "2025-08-05T15:54:05.878444Z"
    },
    "papermill": {
     "duration": 0.028921,
     "end_time": "2025-08-05T15:54:05.881608",
     "exception": false,
     "start_time": "2025-08-05T15:54:05.852687",
     "status": "completed"
    },
    "tags": []
   },
   "outputs": [],
   "source": [
    "# EXCLUDE PROTECTED FEATURES\n",
    "# ----------------------\n",
    "# \"exclude_features\": \"none\", # \"nationality\", \"sex\", \"nationality-sex\"\n",
    "\n",
    "excluded_features = universe[\"exclude_features\"].split(\"-\") # split, e.g.: \"nationality-sex\" -> [\"nationality\", \"sex\"]\n",
    "excluded_features_dictionary = {\n",
    "    \"nationality\": [\"maxdeutsch1\", \"maxdeutsch.Missing.\"],\n",
    "    \"sex\": [\"frau1\"],\n",
    "    \"age\": [\"age\"],\n",
    "}"
   ]
  },
  {
   "cell_type": "code",
   "execution_count": 20,
   "id": "b745ac60",
   "metadata": {
    "execution": {
     "iopub.execute_input": "2025-08-05T15:54:05.921830Z",
     "iopub.status.busy": "2025-08-05T15:54:05.920881Z",
     "iopub.status.idle": "2025-08-05T15:54:05.927226Z",
     "shell.execute_reply": "2025-08-05T15:54:05.926174Z"
    },
    "papermill": {
     "duration": 0.027909,
     "end_time": "2025-08-05T15:54:05.929184",
     "exception": false,
     "start_time": "2025-08-05T15:54:05.901275",
     "status": "completed"
    },
    "tags": []
   },
   "outputs": [],
   "source": [
    "# Code nice names to column names\n",
    "\n",
    "excluded_features_columns = [\n",
    "    excluded_features_dictionary[f] for f in excluded_features if len(f) > 0 and f != \"none\"\n",
    "]"
   ]
  },
  {
   "cell_type": "code",
   "execution_count": 21,
   "id": "f84f73a2",
   "metadata": {
    "execution": {
     "iopub.execute_input": "2025-08-05T15:54:05.968964Z",
     "iopub.status.busy": "2025-08-05T15:54:05.968145Z",
     "iopub.status.idle": "2025-08-05T15:54:05.974682Z",
     "shell.execute_reply": "2025-08-05T15:54:05.973473Z"
    },
    "papermill": {
     "duration": 0.027894,
     "end_time": "2025-08-05T15:54:05.976696",
     "exception": false,
     "start_time": "2025-08-05T15:54:05.948802",
     "status": "completed"
    },
    "tags": []
   },
   "outputs": [],
   "source": [
    "from utils import flatten_once\n",
    "\n",
    "excluded_features_columns = flatten_once(excluded_features_columns)"
   ]
  },
  {
   "cell_type": "code",
   "execution_count": 22,
   "id": "884dea22",
   "metadata": {
    "execution": {
     "iopub.execute_input": "2025-08-05T15:54:06.017793Z",
     "iopub.status.busy": "2025-08-05T15:54:06.016946Z",
     "iopub.status.idle": "2025-08-05T15:54:06.026813Z",
     "shell.execute_reply": "2025-08-05T15:54:06.025605Z"
    },
    "papermill": {
     "duration": 0.031877,
     "end_time": "2025-08-05T15:54:06.028671",
     "exception": false,
     "start_time": "2025-08-05T15:54:05.996794",
     "status": "completed"
    },
    "tags": []
   },
   "outputs": [
    {
     "name": "stdout",
     "output_type": "stream",
     "text": [
      "Dropping features: ['frau1']\n"
     ]
    }
   ],
   "source": [
    "if len(excluded_features_columns) > 0:\n",
    "    print(f\"Dropping features: {excluded_features_columns}\")\n",
    "    X_train.drop(excluded_features_columns, axis=1, inplace=True)"
   ]
  },
  {
   "cell_type": "code",
   "execution_count": 23,
   "id": "95ab8b16",
   "metadata": {
    "execution": {
     "iopub.execute_input": "2025-08-05T15:54:06.082716Z",
     "iopub.status.busy": "2025-08-05T15:54:06.082242Z",
     "iopub.status.idle": "2025-08-05T15:54:06.136675Z",
     "shell.execute_reply": "2025-08-05T15:54:06.135536Z"
    },
    "papermill": {
     "duration": 0.090057,
     "end_time": "2025-08-05T15:54:06.139748",
     "exception": false,
     "start_time": "2025-08-05T15:54:06.049691",
     "status": "completed"
    },
    "tags": []
   },
   "outputs": [
    {
     "name": "stdout",
     "output_type": "stream",
     "text": [
      "Dropping features: ['frau1']\n"
     ]
    }
   ],
   "source": [
    "if len(excluded_features_columns) > 0:\n",
    "    print(f\"Dropping features: {excluded_features_columns}\")\n",
    "    X_test.drop(excluded_features_columns, axis=1, inplace=True)"
   ]
  },
  {
   "cell_type": "code",
   "execution_count": 24,
   "id": "1853aaf5-fb9f-46cb-a2b5-8ea4ae2237e4",
   "metadata": {
    "execution": {
     "iopub.execute_input": "2025-08-05T15:54:06.182399Z",
     "iopub.status.busy": "2025-08-05T15:54:06.181615Z",
     "iopub.status.idle": "2025-08-05T15:54:06.235633Z",
     "shell.execute_reply": "2025-08-05T15:54:06.234362Z"
    },
    "papermill": {
     "duration": 0.076831,
     "end_time": "2025-08-05T15:54:06.237453",
     "exception": false,
     "start_time": "2025-08-05T15:54:06.160622",
     "status": "completed"
    },
    "tags": []
   },
   "outputs": [
    {
     "name": "stdout",
     "output_type": "stream",
     "text": [
      "Dropping features: ['frau1']\n"
     ]
    }
   ],
   "source": [
    "if len(excluded_features_columns) > 0:\n",
    "    print(f\"Dropping features: {excluded_features_columns}\")\n",
    "    X_calib.drop(excluded_features_columns, axis=1, inplace=True)"
   ]
  },
  {
   "cell_type": "code",
   "execution_count": 25,
   "id": "76c4dc6d",
   "metadata": {
    "execution": {
     "iopub.execute_input": "2025-08-05T15:54:06.280471Z",
     "iopub.status.busy": "2025-08-05T15:54:06.279406Z",
     "iopub.status.idle": "2025-08-05T15:54:06.285267Z",
     "shell.execute_reply": "2025-08-05T15:54:06.284249Z"
    },
    "papermill": {
     "duration": 0.028073,
     "end_time": "2025-08-05T15:54:06.287220",
     "exception": false,
     "start_time": "2025-08-05T15:54:06.259147",
     "status": "completed"
    },
    "tags": []
   },
   "outputs": [],
   "source": [
    "# EXCLUDE CERTAIN SUBGROUPS\n",
    "# ----------------------\n",
    "\n",
    "mode = universe.get(\"exclude_subgroups\", \"keep-all\") \n",
    "# Fetches the exclude_subgroups setting from the universe dict.\n",
    "# Defaults to \"keep-all\" if the key is missing."
   ]
  },
  {
   "cell_type": "code",
   "execution_count": 26,
   "id": "21994072",
   "metadata": {
    "execution": {
     "iopub.execute_input": "2025-08-05T15:54:06.329984Z",
     "iopub.status.busy": "2025-08-05T15:54:06.329490Z",
     "iopub.status.idle": "2025-08-05T15:54:06.336602Z",
     "shell.execute_reply": "2025-08-05T15:54:06.335587Z"
    },
    "papermill": {
     "duration": 0.030564,
     "end_time": "2025-08-05T15:54:06.338815",
     "exception": false,
     "start_time": "2025-08-05T15:54:06.308251",
     "status": "completed"
    },
    "tags": []
   },
   "outputs": [],
   "source": [
    "if mode == \"keep-all\":\n",
    "    keep_mask = pd.Series(True, index=org_train.index)\n",
    "\n",
    "# org_train contains the original feature columns from features_org (in Simson)\n",
    "# features_org contains unprocessed features, for me X_train at beginning ???\n",
    "# For keep-all, creates a boolean Series (keep_mask) of all True, so no rows are removed.\n",
    "\n",
    "elif mode == \"drop-non-german\":\n",
    "    keep_mask = org_train[\"maxdeutsch1\"] == 1 # ??? what about missing values?\n",
    "\n",
    "else:\n",
    "    raise ValueError(f\"Unsupported mode for exclude_subgroups: {mode}\")"
   ]
  },
  {
   "cell_type": "code",
   "execution_count": 27,
   "id": "71651440",
   "metadata": {
    "execution": {
     "iopub.execute_input": "2025-08-05T15:54:06.379192Z",
     "iopub.status.busy": "2025-08-05T15:54:06.378597Z",
     "iopub.status.idle": "2025-08-05T15:54:06.386434Z",
     "shell.execute_reply": "2025-08-05T15:54:06.385253Z"
    },
    "papermill": {
     "duration": 0.029991,
     "end_time": "2025-08-05T15:54:06.388443",
     "exception": false,
     "start_time": "2025-08-05T15:54:06.358452",
     "status": "completed"
    },
    "tags": []
   },
   "outputs": [
    {
     "name": "stdout",
     "output_type": "stream",
     "text": [
      "Dropping 657 rows (13.14%) where mode='drop-non-german'\n"
     ]
    }
   ],
   "source": [
    "n_drop = (~keep_mask).sum() # Calculates how many rows are set to be dropped\n",
    "if n_drop > 0:\n",
    "    pct = n_drop / len(keep_mask) * 100\n",
    "    print(f\"Dropping {n_drop} rows ({pct:.2f}%) where mode='{mode}'\")"
   ]
  },
  {
   "cell_type": "code",
   "execution_count": 28,
   "id": "5fb8eee5",
   "metadata": {
    "execution": {
     "iopub.execute_input": "2025-08-05T15:54:06.430070Z",
     "iopub.status.busy": "2025-08-05T15:54:06.429368Z",
     "iopub.status.idle": "2025-08-05T15:54:06.437432Z",
     "shell.execute_reply": "2025-08-05T15:54:06.436540Z"
    },
    "papermill": {
     "duration": 0.029803,
     "end_time": "2025-08-05T15:54:06.438995",
     "exception": false,
     "start_time": "2025-08-05T15:54:06.409192",
     "status": "completed"
    },
    "tags": []
   },
   "outputs": [],
   "source": [
    "X_train = X_train[keep_mask]"
   ]
  },
  {
   "cell_type": "code",
   "execution_count": 29,
   "id": "b202bb3a",
   "metadata": {
    "execution": {
     "iopub.execute_input": "2025-08-05T15:54:06.486023Z",
     "iopub.status.busy": "2025-08-05T15:54:06.485475Z",
     "iopub.status.idle": "2025-08-05T15:54:06.491793Z",
     "shell.execute_reply": "2025-08-05T15:54:06.490578Z"
    },
    "papermill": {
     "duration": 0.032859,
     "end_time": "2025-08-05T15:54:06.493839",
     "exception": false,
     "start_time": "2025-08-05T15:54:06.460980",
     "status": "completed"
    },
    "tags": []
   },
   "outputs": [],
   "source": [
    "y_train = y_train[keep_mask]"
   ]
  },
  {
   "cell_type": "markdown",
   "id": "493e2ac3",
   "metadata": {
    "papermill": {
     "duration": 0.019875,
     "end_time": "2025-08-05T15:54:06.533997",
     "exception": false,
     "start_time": "2025-08-05T15:54:06.514122",
     "status": "completed"
    },
    "tags": []
   },
   "source": [
    "# Model Training"
   ]
  },
  {
   "cell_type": "code",
   "execution_count": 30,
   "id": "679e1268",
   "metadata": {
    "execution": {
     "iopub.execute_input": "2025-08-05T15:54:06.574783Z",
     "iopub.status.busy": "2025-08-05T15:54:06.574264Z",
     "iopub.status.idle": "2025-08-05T15:54:06.795138Z",
     "shell.execute_reply": "2025-08-05T15:54:06.794132Z"
    },
    "papermill": {
     "duration": 0.243018,
     "end_time": "2025-08-05T15:54:06.797023",
     "exception": false,
     "start_time": "2025-08-05T15:54:06.554005",
     "status": "completed"
    },
    "tags": []
   },
   "outputs": [],
   "source": [
    "from sklearn.linear_model import LogisticRegression\n",
    "from sklearn.ensemble import GradientBoostingClassifier, RandomForestClassifier\n",
    "\n",
    "if (universe[\"model\"] == \"logreg\"):\n",
    "    model = LogisticRegression() #penalty=\"none\", solver=\"newton-cg\", max_iter=1) # include random_state=19 ?\n",
    "elif (universe[\"model\"] == \"penalized_logreg\"):\n",
    "    model = LogisticRegression(penalty=\"l2\", C=0.1) #, solver=\"newton-cg\", max_iter=1)\n",
    "elif (universe[\"model\"] == \"rf\"):\n",
    "    model = RandomForestClassifier() # n_estimators=100, n_jobs=-1\n",
    "elif (universe[\"model\"] == \"gbm\"):\n",
    "    model = GradientBoostingClassifier()\n",
    "elif (universe[\"model\"] == \"elasticnet\"):\n",
    "    model = LogisticRegression(penalty = 'elasticnet', solver = 'saga', l1_ratio = 0.5) # max_iter=5000\n",
    "else:\n",
    "    raise \"Unsupported universe.model\""
   ]
  },
  {
   "cell_type": "code",
   "execution_count": 31,
   "id": "0cc8f744",
   "metadata": {
    "execution": {
     "iopub.execute_input": "2025-08-05T15:54:06.838517Z",
     "iopub.status.busy": "2025-08-05T15:54:06.837823Z",
     "iopub.status.idle": "2025-08-05T15:54:06.844269Z",
     "shell.execute_reply": "2025-08-05T15:54:06.843323Z"
    },
    "papermill": {
     "duration": 0.029386,
     "end_time": "2025-08-05T15:54:06.845961",
     "exception": false,
     "start_time": "2025-08-05T15:54:06.816575",
     "status": "completed"
    },
    "tags": []
   },
   "outputs": [],
   "source": [
    "import numpy as np\n",
    "from sklearn.pipeline import Pipeline\n",
    "from sklearn.preprocessing import StandardScaler\n",
    "\n",
    "model = Pipeline([\n",
    "    #(\"continuous_processor\", continuous_processor),\n",
    "    #(\"categorical_preprocessor\", categorical_preprocessor),\n",
    "    (\"scale\", StandardScaler() if universe[\"scale\"] == \"scale\" else None), \n",
    "    (\"model\", model),\n",
    "])"
   ]
  },
  {
   "cell_type": "code",
   "execution_count": 32,
   "id": "9442c04d",
   "metadata": {
    "execution": {
     "iopub.execute_input": "2025-08-05T15:54:06.886070Z",
     "iopub.status.busy": "2025-08-05T15:54:06.885126Z",
     "iopub.status.idle": "2025-08-05T15:54:08.690879Z",
     "shell.execute_reply": "2025-08-05T15:54:08.689818Z"
    },
    "papermill": {
     "duration": 1.826608,
     "end_time": "2025-08-05T15:54:08.692467",
     "exception": false,
     "start_time": "2025-08-05T15:54:06.865859",
     "status": "completed"
    },
    "tags": []
   },
   "outputs": [
    {
     "name": "stderr",
     "output_type": "stream",
     "text": [
      "/dss/dsshome1/0C/ra93lal2/.local/share/virtualenvs/CMA_Fairness_v2-3j10GkSs/lib/python3.10/site-packages/sklearn/linear_model/_sag.py:350: ConvergenceWarning: The max_iter was reached which means the coef_ did not converge\n",
      "  warnings.warn(\n"
     ]
    },
    {
     "data": {
      "text/html": [
       "<style>#sk-container-id-1 {color: black;background-color: white;}#sk-container-id-1 pre{padding: 0;}#sk-container-id-1 div.sk-toggleable {background-color: white;}#sk-container-id-1 label.sk-toggleable__label {cursor: pointer;display: block;width: 100%;margin-bottom: 0;padding: 0.3em;box-sizing: border-box;text-align: center;}#sk-container-id-1 label.sk-toggleable__label-arrow:before {content: \"▸\";float: left;margin-right: 0.25em;color: #696969;}#sk-container-id-1 label.sk-toggleable__label-arrow:hover:before {color: black;}#sk-container-id-1 div.sk-estimator:hover label.sk-toggleable__label-arrow:before {color: black;}#sk-container-id-1 div.sk-toggleable__content {max-height: 0;max-width: 0;overflow: hidden;text-align: left;background-color: #f0f8ff;}#sk-container-id-1 div.sk-toggleable__content pre {margin: 0.2em;color: black;border-radius: 0.25em;background-color: #f0f8ff;}#sk-container-id-1 input.sk-toggleable__control:checked~div.sk-toggleable__content {max-height: 200px;max-width: 100%;overflow: auto;}#sk-container-id-1 input.sk-toggleable__control:checked~label.sk-toggleable__label-arrow:before {content: \"▾\";}#sk-container-id-1 div.sk-estimator input.sk-toggleable__control:checked~label.sk-toggleable__label {background-color: #d4ebff;}#sk-container-id-1 div.sk-label input.sk-toggleable__control:checked~label.sk-toggleable__label {background-color: #d4ebff;}#sk-container-id-1 input.sk-hidden--visually {border: 0;clip: rect(1px 1px 1px 1px);clip: rect(1px, 1px, 1px, 1px);height: 1px;margin: -1px;overflow: hidden;padding: 0;position: absolute;width: 1px;}#sk-container-id-1 div.sk-estimator {font-family: monospace;background-color: #f0f8ff;border: 1px dotted black;border-radius: 0.25em;box-sizing: border-box;margin-bottom: 0.5em;}#sk-container-id-1 div.sk-estimator:hover {background-color: #d4ebff;}#sk-container-id-1 div.sk-parallel-item::after {content: \"\";width: 100%;border-bottom: 1px solid gray;flex-grow: 1;}#sk-container-id-1 div.sk-label:hover label.sk-toggleable__label {background-color: #d4ebff;}#sk-container-id-1 div.sk-serial::before {content: \"\";position: absolute;border-left: 1px solid gray;box-sizing: border-box;top: 0;bottom: 0;left: 50%;z-index: 0;}#sk-container-id-1 div.sk-serial {display: flex;flex-direction: column;align-items: center;background-color: white;padding-right: 0.2em;padding-left: 0.2em;position: relative;}#sk-container-id-1 div.sk-item {position: relative;z-index: 1;}#sk-container-id-1 div.sk-parallel {display: flex;align-items: stretch;justify-content: center;background-color: white;position: relative;}#sk-container-id-1 div.sk-item::before, #sk-container-id-1 div.sk-parallel-item::before {content: \"\";position: absolute;border-left: 1px solid gray;box-sizing: border-box;top: 0;bottom: 0;left: 50%;z-index: -1;}#sk-container-id-1 div.sk-parallel-item {display: flex;flex-direction: column;z-index: 1;position: relative;background-color: white;}#sk-container-id-1 div.sk-parallel-item:first-child::after {align-self: flex-end;width: 50%;}#sk-container-id-1 div.sk-parallel-item:last-child::after {align-self: flex-start;width: 50%;}#sk-container-id-1 div.sk-parallel-item:only-child::after {width: 0;}#sk-container-id-1 div.sk-dashed-wrapped {border: 1px dashed gray;margin: 0 0.4em 0.5em 0.4em;box-sizing: border-box;padding-bottom: 0.4em;background-color: white;}#sk-container-id-1 div.sk-label label {font-family: monospace;font-weight: bold;display: inline-block;line-height: 1.2em;}#sk-container-id-1 div.sk-label-container {text-align: center;}#sk-container-id-1 div.sk-container {/* jupyter's `normalize.less` sets `[hidden] { display: none; }` but bootstrap.min.css set `[hidden] { display: none !important; }` so we also need the `!important` here to be able to override the default hidden behavior on the sphinx rendered scikit-learn.org. See: https://github.com/scikit-learn/scikit-learn/issues/21755 */display: inline-block !important;position: relative;}#sk-container-id-1 div.sk-text-repr-fallback {display: none;}</style><div id=\"sk-container-id-1\" class=\"sk-top-container\"><div class=\"sk-text-repr-fallback\"><pre>Pipeline(steps=[(&#x27;scale&#x27;, StandardScaler()),\n",
       "                (&#x27;model&#x27;,\n",
       "                 LogisticRegression(l1_ratio=0.5, penalty=&#x27;elasticnet&#x27;,\n",
       "                                    solver=&#x27;saga&#x27;))])</pre><b>In a Jupyter environment, please rerun this cell to show the HTML representation or trust the notebook. <br />On GitHub, the HTML representation is unable to render, please try loading this page with nbviewer.org.</b></div><div class=\"sk-container\" hidden><div class=\"sk-item sk-dashed-wrapped\"><div class=\"sk-label-container\"><div class=\"sk-label sk-toggleable\"><input class=\"sk-toggleable__control sk-hidden--visually\" id=\"sk-estimator-id-1\" type=\"checkbox\" ><label for=\"sk-estimator-id-1\" class=\"sk-toggleable__label sk-toggleable__label-arrow\">Pipeline</label><div class=\"sk-toggleable__content\"><pre>Pipeline(steps=[(&#x27;scale&#x27;, StandardScaler()),\n",
       "                (&#x27;model&#x27;,\n",
       "                 LogisticRegression(l1_ratio=0.5, penalty=&#x27;elasticnet&#x27;,\n",
       "                                    solver=&#x27;saga&#x27;))])</pre></div></div></div><div class=\"sk-serial\"><div class=\"sk-item\"><div class=\"sk-estimator sk-toggleable\"><input class=\"sk-toggleable__control sk-hidden--visually\" id=\"sk-estimator-id-2\" type=\"checkbox\" ><label for=\"sk-estimator-id-2\" class=\"sk-toggleable__label sk-toggleable__label-arrow\">StandardScaler</label><div class=\"sk-toggleable__content\"><pre>StandardScaler()</pre></div></div></div><div class=\"sk-item\"><div class=\"sk-estimator sk-toggleable\"><input class=\"sk-toggleable__control sk-hidden--visually\" id=\"sk-estimator-id-3\" type=\"checkbox\" ><label for=\"sk-estimator-id-3\" class=\"sk-toggleable__label sk-toggleable__label-arrow\">LogisticRegression</label><div class=\"sk-toggleable__content\"><pre>LogisticRegression(l1_ratio=0.5, penalty=&#x27;elasticnet&#x27;, solver=&#x27;saga&#x27;)</pre></div></div></div></div></div></div></div>"
      ],
      "text/plain": [
       "Pipeline(steps=[('scale', StandardScaler()),\n",
       "                ('model',\n",
       "                 LogisticRegression(l1_ratio=0.5, penalty='elasticnet',\n",
       "                                    solver='saga'))])"
      ]
     },
     "execution_count": 32,
     "metadata": {},
     "output_type": "execute_result"
    }
   ],
   "source": [
    "model.fit(X_train, y_train.values.ravel())"
   ]
  },
  {
   "cell_type": "code",
   "execution_count": 33,
   "id": "af59f8c0",
   "metadata": {
    "execution": {
     "iopub.execute_input": "2025-08-05T15:54:08.732434Z",
     "iopub.status.busy": "2025-08-05T15:54:08.731450Z",
     "iopub.status.idle": "2025-08-05T15:54:08.738726Z",
     "shell.execute_reply": "2025-08-05T15:54:08.737409Z"
    },
    "papermill": {
     "duration": 0.029537,
     "end_time": "2025-08-05T15:54:08.740792",
     "exception": false,
     "start_time": "2025-08-05T15:54:08.711255",
     "status": "completed"
    },
    "tags": []
   },
   "outputs": [],
   "source": [
    "from fairness_multiverse.universe import predict_w_threshold"
   ]
  },
  {
   "cell_type": "code",
   "execution_count": 34,
   "id": "a7cf2e16",
   "metadata": {
    "execution": {
     "iopub.execute_input": "2025-08-05T15:54:08.782589Z",
     "iopub.status.busy": "2025-08-05T15:54:08.781590Z",
     "iopub.status.idle": "2025-08-05T15:54:09.119975Z",
     "shell.execute_reply": "2025-08-05T15:54:09.118832Z"
    },
    "papermill": {
     "duration": 0.360957,
     "end_time": "2025-08-05T15:54:09.121716",
     "exception": false,
     "start_time": "2025-08-05T15:54:08.760759",
     "status": "completed"
    },
    "tags": []
   },
   "outputs": [
    {
     "data": {
      "text/plain": [
       "0.8532382120164976"
      ]
     },
     "execution_count": 34,
     "metadata": {},
     "output_type": "execute_result"
    }
   ],
   "source": [
    "probs_test = model.predict_proba(X_test)\n",
    "\n",
    "'''\n",
    "Below code returns a boolean array (or binary 0/1 array depending on how it’s used) where each element \n",
    "is True if the probability of class 1 is greater than or equal to the threshold, and False otherwise.\n",
    "'''\n",
    "y_pred_default = predict_w_threshold(probs_test, 0.5)\n",
    "\n",
    "from sklearn.metrics import accuracy_score\n",
    "\n",
    "# Naive prediction\n",
    "accuracy_score(y_true = y_true, y_pred = y_pred_default)"
   ]
  },
  {
   "cell_type": "code",
   "execution_count": 35,
   "id": "081964c3",
   "metadata": {
    "execution": {
     "iopub.execute_input": "2025-08-05T15:54:09.162990Z",
     "iopub.status.busy": "2025-08-05T15:54:09.162042Z",
     "iopub.status.idle": "2025-08-05T15:54:09.342324Z",
     "shell.execute_reply": "2025-08-05T15:54:09.341194Z"
    },
    "papermill": {
     "duration": 0.204699,
     "end_time": "2025-08-05T15:54:09.346565",
     "exception": false,
     "start_time": "2025-08-05T15:54:09.141866",
     "status": "completed"
    },
    "tags": []
   },
   "outputs": [
    {
     "data": {
      "text/plain": [
       "array([0, 0, 0, ..., 0, 0, 0])"
      ]
     },
     "execution_count": 35,
     "metadata": {},
     "output_type": "execute_result"
    }
   ],
   "source": [
    "model.predict(X_test)"
   ]
  },
  {
   "cell_type": "markdown",
   "id": "56c9705b",
   "metadata": {
    "papermill": {
     "duration": 0.029014,
     "end_time": "2025-08-05T15:54:09.405549",
     "exception": false,
     "start_time": "2025-08-05T15:54:09.376535",
     "status": "completed"
    },
    "tags": []
   },
   "source": [
    "# Conformal Prediction"
   ]
  },
  {
   "cell_type": "code",
   "execution_count": 36,
   "id": "160ec6ff",
   "metadata": {
    "execution": {
     "iopub.execute_input": "2025-08-05T15:54:09.468289Z",
     "iopub.status.busy": "2025-08-05T15:54:09.467372Z",
     "iopub.status.idle": "2025-08-05T15:54:09.474231Z",
     "shell.execute_reply": "2025-08-05T15:54:09.473053Z"
    },
    "papermill": {
     "duration": 0.040767,
     "end_time": "2025-08-05T15:54:09.476466",
     "exception": false,
     "start_time": "2025-08-05T15:54:09.435699",
     "status": "completed"
    },
    "tags": []
   },
   "outputs": [],
   "source": [
    "# Miscoverage level for conformal prediction (10% allowed error rate => 90% target coverage)\n",
    "alpha = 0.1"
   ]
  },
  {
   "cell_type": "code",
   "execution_count": 37,
   "id": "eadf4555-3dd3-440e-8e35-f82a4ad9f855",
   "metadata": {
    "execution": {
     "iopub.execute_input": "2025-08-05T15:54:09.537958Z",
     "iopub.status.busy": "2025-08-05T15:54:09.537576Z",
     "iopub.status.idle": "2025-08-05T15:54:09.847474Z",
     "shell.execute_reply": "2025-08-05T15:54:09.846387Z"
    },
    "papermill": {
     "duration": 0.342862,
     "end_time": "2025-08-05T15:54:09.849355",
     "exception": false,
     "start_time": "2025-08-05T15:54:09.506493",
     "status": "completed"
    },
    "tags": []
   },
   "outputs": [],
   "source": [
    "probs_calib = model.predict_proba(X_calib)"
   ]
  },
  {
   "cell_type": "code",
   "execution_count": 38,
   "id": "2ed93547-6d5d-4983-9b36-1ecb300da49a",
   "metadata": {
    "execution": {
     "iopub.execute_input": "2025-08-05T15:54:09.892541Z",
     "iopub.status.busy": "2025-08-05T15:54:09.891524Z",
     "iopub.status.idle": "2025-08-05T15:54:09.897303Z",
     "shell.execute_reply": "2025-08-05T15:54:09.896438Z"
    },
    "papermill": {
     "duration": 0.030158,
     "end_time": "2025-08-05T15:54:09.899181",
     "exception": false,
     "start_time": "2025-08-05T15:54:09.869023",
     "status": "completed"
    },
    "tags": []
   },
   "outputs": [],
   "source": [
    "y_calib = y_calib.values.ravel().astype(int)"
   ]
  },
  {
   "cell_type": "code",
   "execution_count": 39,
   "id": "65d1320d-f588-4b38-9072-62af1ae97f7d",
   "metadata": {
    "execution": {
     "iopub.execute_input": "2025-08-05T15:54:09.938088Z",
     "iopub.status.busy": "2025-08-05T15:54:09.937407Z",
     "iopub.status.idle": "2025-08-05T15:54:09.944029Z",
     "shell.execute_reply": "2025-08-05T15:54:09.943137Z"
    },
    "papermill": {
     "duration": 0.027469,
     "end_time": "2025-08-05T15:54:09.945609",
     "exception": false,
     "start_time": "2025-08-05T15:54:09.918140",
     "status": "completed"
    },
    "tags": []
   },
   "outputs": [],
   "source": [
    "from fairness_multiverse.conformal import compute_nc_scores\n",
    "\n",
    "# Compute nonconformity scores on calibration set (1 - probability of true class)\n",
    "nc_scores = compute_nc_scores(probs_calib, y_calib)"
   ]
  },
  {
   "cell_type": "code",
   "execution_count": 40,
   "id": "df3b8ca3-53b7-43d5-9667-7c85da7aeda2",
   "metadata": {
    "execution": {
     "iopub.execute_input": "2025-08-05T15:54:09.987359Z",
     "iopub.status.busy": "2025-08-05T15:54:09.986592Z",
     "iopub.status.idle": "2025-08-05T15:54:09.993479Z",
     "shell.execute_reply": "2025-08-05T15:54:09.992470Z"
    },
    "papermill": {
     "duration": 0.028802,
     "end_time": "2025-08-05T15:54:09.995202",
     "exception": false,
     "start_time": "2025-08-05T15:54:09.966400",
     "status": "completed"
    },
    "tags": []
   },
   "outputs": [],
   "source": [
    "from fairness_multiverse.conformal import find_threshold\n",
    "\n",
    "# Find conformal threshold q_hat for the given alpha (split conformal method)\n",
    "q_hat = find_threshold(nc_scores, alpha)"
   ]
  },
  {
   "cell_type": "code",
   "execution_count": 41,
   "id": "4d29e6c1-0ef6-4aa4-b8fe-4fe79b0d033a",
   "metadata": {
    "execution": {
     "iopub.execute_input": "2025-08-05T15:54:10.037279Z",
     "iopub.status.busy": "2025-08-05T15:54:10.036897Z",
     "iopub.status.idle": "2025-08-05T15:54:10.044121Z",
     "shell.execute_reply": "2025-08-05T15:54:10.043186Z"
    },
    "papermill": {
     "duration": 0.030009,
     "end_time": "2025-08-05T15:54:10.045898",
     "exception": false,
     "start_time": "2025-08-05T15:54:10.015889",
     "status": "completed"
    },
    "tags": []
   },
   "outputs": [
    {
     "data": {
      "text/plain": [
       "0.6809576398770542"
      ]
     },
     "execution_count": 41,
     "metadata": {},
     "output_type": "execute_result"
    }
   ],
   "source": [
    "q_hat"
   ]
  },
  {
   "cell_type": "code",
   "execution_count": 42,
   "id": "92460794-cdac-4be2-ba28-f28c0515a6fb",
   "metadata": {
    "execution": {
     "iopub.execute_input": "2025-08-05T15:54:10.091421Z",
     "iopub.status.busy": "2025-08-05T15:54:10.090578Z",
     "iopub.status.idle": "2025-08-05T15:54:10.985730Z",
     "shell.execute_reply": "2025-08-05T15:54:10.984807Z"
    },
    "papermill": {
     "duration": 0.919229,
     "end_time": "2025-08-05T15:54:10.987703",
     "exception": false,
     "start_time": "2025-08-05T15:54:10.068474",
     "status": "completed"
    },
    "tags": []
   },
   "outputs": [],
   "source": [
    "from fairness_multiverse.conformal import predict_conformal_sets\n",
    "\n",
    "# Generate prediction sets for each test example\n",
    "pred_sets = predict_conformal_sets(model, X_test, q_hat)"
   ]
  },
  {
   "cell_type": "code",
   "execution_count": 43,
   "id": "d90c9a65-e6db-4f5d-80cd-e68fb7e46829",
   "metadata": {
    "execution": {
     "iopub.execute_input": "2025-08-05T15:54:11.032858Z",
     "iopub.status.busy": "2025-08-05T15:54:11.032304Z",
     "iopub.status.idle": "2025-08-05T15:54:11.039859Z",
     "shell.execute_reply": "2025-08-05T15:54:11.038818Z"
    },
    "papermill": {
     "duration": 0.032022,
     "end_time": "2025-08-05T15:54:11.041753",
     "exception": false,
     "start_time": "2025-08-05T15:54:11.009731",
     "status": "completed"
    },
    "tags": []
   },
   "outputs": [],
   "source": [
    "y_true = y_true.squeeze()"
   ]
  },
  {
   "cell_type": "code",
   "execution_count": 44,
   "id": "3a58a54a-1e68-46b9-927a-df01f18aebc8",
   "metadata": {
    "execution": {
     "iopub.execute_input": "2025-08-05T15:54:11.085100Z",
     "iopub.status.busy": "2025-08-05T15:54:11.084665Z",
     "iopub.status.idle": "2025-08-05T15:54:11.991726Z",
     "shell.execute_reply": "2025-08-05T15:54:11.990614Z"
    },
    "papermill": {
     "duration": 0.931025,
     "end_time": "2025-08-05T15:54:11.993673",
     "exception": false,
     "start_time": "2025-08-05T15:54:11.062648",
     "status": "completed"
    },
    "tags": []
   },
   "outputs": [],
   "source": [
    "from fairness_multiverse.conformal import evaluate_sets\n",
    "\n",
    "# Evaluate coverage and average set size on test data\n",
    "metrics = evaluate_sets(pred_sets, y_true)"
   ]
  },
  {
   "cell_type": "markdown",
   "id": "2b569c12-9aaa-4c88-98c9-bbcd0cf3ebb8",
   "metadata": {
    "papermill": {
     "duration": 0.03859,
     "end_time": "2025-08-05T15:54:12.062852",
     "exception": false,
     "start_time": "2025-08-05T15:54:12.024262",
     "status": "completed"
    },
    "tags": []
   },
   "source": [
    "# CP Metrics"
   ]
  },
  {
   "cell_type": "code",
   "execution_count": 45,
   "id": "5ce0a5cb-201f-45a0-ade5-94c7f0bd6095",
   "metadata": {
    "execution": {
     "iopub.execute_input": "2025-08-05T15:54:12.113828Z",
     "iopub.status.busy": "2025-08-05T15:54:12.113135Z",
     "iopub.status.idle": "2025-08-05T15:54:12.121006Z",
     "shell.execute_reply": "2025-08-05T15:54:12.119833Z"
    },
    "papermill": {
     "duration": 0.036376,
     "end_time": "2025-08-05T15:54:12.123263",
     "exception": false,
     "start_time": "2025-08-05T15:54:12.086887",
     "status": "completed"
    },
    "tags": []
   },
   "outputs": [
    {
     "data": {
      "text/plain": [
       "{'coverage': 0.9106677070560696, 'avg_size': 1.146137554341768}"
      ]
     },
     "execution_count": 45,
     "metadata": {},
     "output_type": "execute_result"
    }
   ],
   "source": [
    "metrics"
   ]
  },
  {
   "cell_type": "code",
   "execution_count": 46,
   "id": "9b9a838d-31c9-430b-ae14-12baee460d17",
   "metadata": {
    "execution": {
     "iopub.execute_input": "2025-08-05T15:54:12.185056Z",
     "iopub.status.busy": "2025-08-05T15:54:12.184592Z",
     "iopub.status.idle": "2025-08-05T15:54:12.191590Z",
     "shell.execute_reply": "2025-08-05T15:54:12.190381Z"
    },
    "papermill": {
     "duration": 0.045706,
     "end_time": "2025-08-05T15:54:12.193487",
     "exception": false,
     "start_time": "2025-08-05T15:54:12.147781",
     "status": "completed"
    },
    "tags": []
   },
   "outputs": [],
   "source": [
    "example_universe = universe.copy()\n",
    "universe_training_year = example_universe.get(\"training_year\")\n",
    "universe_training_size = example_universe.get(\"training_size\")\n",
    "universe_scale = example_universe.get(\"scale\")\n",
    "universe_model = example_universe.get(\"model\")\n",
    "universe_exclude_features = example_universe.get(\"exclude_features\")\n",
    "universe_exclude_subgroups = example_universe.get(\"exclude_subgroups\")"
   ]
  },
  {
   "cell_type": "code",
   "execution_count": 47,
   "id": "f4b6a8ac-9dc0-4245-8a91-5b3b5999c4f9",
   "metadata": {
    "execution": {
     "iopub.execute_input": "2025-08-05T15:54:12.238516Z",
     "iopub.status.busy": "2025-08-05T15:54:12.237664Z",
     "iopub.status.idle": "2025-08-05T15:54:12.244514Z",
     "shell.execute_reply": "2025-08-05T15:54:12.243525Z"
    },
    "papermill": {
     "duration": 0.03051,
     "end_time": "2025-08-05T15:54:12.246377",
     "exception": false,
     "start_time": "2025-08-05T15:54:12.215867",
     "status": "completed"
    },
    "tags": []
   },
   "outputs": [],
   "source": [
    "cp_metrics_dict = {\n",
    "    \"universe_id\": [universe_id],\n",
    "    \"universe_training_year\": [universe_training_year],\n",
    "    \"universe_training_size\": [universe_training_size],\n",
    "    \"universe_scale\": [universe_scale],\n",
    "    \"universe_model\": [universe_model],\n",
    "    \"universe_exclude_features\": [universe_exclude_features],\n",
    "    \"universe_exclude_subgroups\": [universe_exclude_subgroups],\n",
    "    \"q_hat\": [q_hat],\n",
    "    \"coverage\": [metrics[\"coverage\"]],\n",
    "    \"avg_size\": [metrics[\"avg_size\"]],\n",
    "}"
   ]
  },
  {
   "cell_type": "code",
   "execution_count": 48,
   "id": "908acbb1-0371-4915-85ca-3fa520d2efe2",
   "metadata": {
    "execution": {
     "iopub.execute_input": "2025-08-05T15:54:12.296970Z",
     "iopub.status.busy": "2025-08-05T15:54:12.296109Z",
     "iopub.status.idle": "2025-08-05T15:54:12.340552Z",
     "shell.execute_reply": "2025-08-05T15:54:12.339580Z"
    },
    "papermill": {
     "duration": 0.072043,
     "end_time": "2025-08-05T15:54:12.342467",
     "exception": false,
     "start_time": "2025-08-05T15:54:12.270424",
     "status": "completed"
    },
    "tags": []
   },
   "outputs": [
    {
     "data": {
      "text/plain": [
       "{'universe_id': ['c3102e683f11cc34604ac4ce8d0ea199'],\n",
       " 'universe_training_year': ['2010_14'],\n",
       " 'universe_training_size': ['5k'],\n",
       " 'universe_scale': ['scale'],\n",
       " 'universe_model': ['elasticnet'],\n",
       " 'universe_exclude_features': ['sex'],\n",
       " 'universe_exclude_subgroups': ['drop-non-german'],\n",
       " 'q_hat': [0.6809576398770542],\n",
       " 'coverage': [0.9106677070560696],\n",
       " 'avg_size': [1.146137554341768]}"
      ]
     },
     "execution_count": 48,
     "metadata": {},
     "output_type": "execute_result"
    }
   ],
   "source": [
    "cp_metrics_dict"
   ]
  },
  {
   "cell_type": "code",
   "execution_count": 49,
   "id": "33007efc-14e9-4ec6-97ac-56a455c82265",
   "metadata": {
    "execution": {
     "iopub.execute_input": "2025-08-05T15:54:12.388712Z",
     "iopub.status.busy": "2025-08-05T15:54:12.386800Z",
     "iopub.status.idle": "2025-08-05T15:54:12.394651Z",
     "shell.execute_reply": "2025-08-05T15:54:12.393725Z"
    },
    "papermill": {
     "duration": 0.031209,
     "end_time": "2025-08-05T15:54:12.396405",
     "exception": false,
     "start_time": "2025-08-05T15:54:12.365196",
     "status": "completed"
    },
    "tags": []
   },
   "outputs": [],
   "source": [
    "cp_metrics_df = pd.DataFrame(cp_metrics_dict)"
   ]
  },
  {
   "cell_type": "code",
   "execution_count": 50,
   "id": "db12611b-57b2-4910-b9d0-355adfd6e7bf",
   "metadata": {
    "execution": {
     "iopub.execute_input": "2025-08-05T15:54:12.440371Z",
     "iopub.status.busy": "2025-08-05T15:54:12.439969Z",
     "iopub.status.idle": "2025-08-05T15:54:12.461259Z",
     "shell.execute_reply": "2025-08-05T15:54:12.460249Z"
    },
    "papermill": {
     "duration": 0.04638,
     "end_time": "2025-08-05T15:54:12.463016",
     "exception": false,
     "start_time": "2025-08-05T15:54:12.416636",
     "status": "completed"
    },
    "tags": []
   },
   "outputs": [
    {
     "data": {
      "text/html": [
       "<div>\n",
       "<style scoped>\n",
       "    .dataframe tbody tr th:only-of-type {\n",
       "        vertical-align: middle;\n",
       "    }\n",
       "\n",
       "    .dataframe tbody tr th {\n",
       "        vertical-align: top;\n",
       "    }\n",
       "\n",
       "    .dataframe thead th {\n",
       "        text-align: right;\n",
       "    }\n",
       "</style>\n",
       "<table border=\"1\" class=\"dataframe\">\n",
       "  <thead>\n",
       "    <tr style=\"text-align: right;\">\n",
       "      <th></th>\n",
       "      <th>universe_id</th>\n",
       "      <th>universe_training_year</th>\n",
       "      <th>universe_training_size</th>\n",
       "      <th>universe_scale</th>\n",
       "      <th>universe_model</th>\n",
       "      <th>universe_exclude_features</th>\n",
       "      <th>universe_exclude_subgroups</th>\n",
       "      <th>q_hat</th>\n",
       "      <th>coverage</th>\n",
       "      <th>avg_size</th>\n",
       "    </tr>\n",
       "  </thead>\n",
       "  <tbody>\n",
       "    <tr>\n",
       "      <th>0</th>\n",
       "      <td>c3102e683f11cc34604ac4ce8d0ea199</td>\n",
       "      <td>2010_14</td>\n",
       "      <td>5k</td>\n",
       "      <td>scale</td>\n",
       "      <td>elasticnet</td>\n",
       "      <td>sex</td>\n",
       "      <td>drop-non-german</td>\n",
       "      <td>0.680958</td>\n",
       "      <td>0.910668</td>\n",
       "      <td>1.146138</td>\n",
       "    </tr>\n",
       "  </tbody>\n",
       "</table>\n",
       "</div>"
      ],
      "text/plain": [
       "                        universe_id universe_training_year  \\\n",
       "0  c3102e683f11cc34604ac4ce8d0ea199                2010_14   \n",
       "\n",
       "  universe_training_size universe_scale universe_model  \\\n",
       "0                     5k          scale     elasticnet   \n",
       "\n",
       "  universe_exclude_features universe_exclude_subgroups     q_hat  coverage  \\\n",
       "0                       sex            drop-non-german  0.680958  0.910668   \n",
       "\n",
       "   avg_size  \n",
       "0  1.146138  "
      ]
     },
     "execution_count": 50,
     "metadata": {},
     "output_type": "execute_result"
    }
   ],
   "source": [
    "cp_metrics_df"
   ]
  },
  {
   "cell_type": "code",
   "execution_count": 51,
   "id": "b7fbde55-a0a1-47e4-9af6-fe4a17fa8c61",
   "metadata": {
    "execution": {
     "iopub.execute_input": "2025-08-05T15:54:12.519841Z",
     "iopub.status.busy": "2025-08-05T15:54:12.518857Z",
     "iopub.status.idle": "2025-08-05T15:54:12.524441Z",
     "shell.execute_reply": "2025-08-05T15:54:12.523388Z"
    },
    "papermill": {
     "duration": 0.034297,
     "end_time": "2025-08-05T15:54:12.526347",
     "exception": false,
     "start_time": "2025-08-05T15:54:12.492050",
     "status": "completed"
    },
    "tags": []
   },
   "outputs": [],
   "source": [
    "# Conditional Coverage & looking at subgroups"
   ]
  },
  {
   "cell_type": "code",
   "execution_count": 52,
   "id": "027ae886-68dd-4141-96c7-805a5450e1ef",
   "metadata": {
    "execution": {
     "iopub.execute_input": "2025-08-05T15:54:12.579496Z",
     "iopub.status.busy": "2025-08-05T15:54:12.578559Z",
     "iopub.status.idle": "2025-08-05T15:54:12.864205Z",
     "shell.execute_reply": "2025-08-05T15:54:12.863138Z"
    },
    "papermill": {
     "duration": 0.314081,
     "end_time": "2025-08-05T15:54:12.866179",
     "exception": false,
     "start_time": "2025-08-05T15:54:12.552098",
     "status": "completed"
    },
    "tags": []
   },
   "outputs": [],
   "source": [
    "from fairness_multiverse.conformal import build_cp_groups\n",
    "\n",
    "cp_groups_df = build_cp_groups(pred_sets, y_true, X_test.index, org_test)\n",
    "#needs universe_id and setting"
   ]
  },
  {
   "cell_type": "code",
   "execution_count": 53,
   "id": "6cbdab96-b2b2-45af-ad54-d0516db2e28d",
   "metadata": {
    "execution": {
     "iopub.execute_input": "2025-08-05T15:54:12.913136Z",
     "iopub.status.busy": "2025-08-05T15:54:12.912417Z",
     "iopub.status.idle": "2025-08-05T15:54:14.498548Z",
     "shell.execute_reply": "2025-08-05T15:54:14.497553Z"
    },
    "papermill": {
     "duration": 1.611101,
     "end_time": "2025-08-05T15:54:14.500384",
     "exception": false,
     "start_time": "2025-08-05T15:54:12.889283",
     "status": "completed"
    },
    "tags": []
   },
   "outputs": [],
   "source": [
    "# Define covered = 1 if true_label is in the predicted set\n",
    "cp_groups_df['covered'] = cp_groups_df.apply(\n",
    "    lambda r: int(r['true_label'] in r['pred_set']),\n",
    "    axis=1\n",
    ")"
   ]
  },
  {
   "cell_type": "code",
   "execution_count": 54,
   "id": "338ff529-1a6b-4b87-a931-8e4788d52aad",
   "metadata": {
    "execution": {
     "iopub.execute_input": "2025-08-05T15:54:14.558189Z",
     "iopub.status.busy": "2025-08-05T15:54:14.557496Z",
     "iopub.status.idle": "2025-08-05T15:54:14.565688Z",
     "shell.execute_reply": "2025-08-05T15:54:14.564557Z"
    },
    "papermill": {
     "duration": 0.046172,
     "end_time": "2025-08-05T15:54:14.568572",
     "exception": false,
     "start_time": "2025-08-05T15:54:14.522400",
     "status": "completed"
    },
    "tags": []
   },
   "outputs": [],
   "source": [
    "#cp_groups_df"
   ]
  },
  {
   "cell_type": "code",
   "execution_count": 55,
   "id": "90032e27-66df-4540-9169-4e89cfbaa758",
   "metadata": {
    "execution": {
     "iopub.execute_input": "2025-08-05T15:54:14.641284Z",
     "iopub.status.busy": "2025-08-05T15:54:14.640271Z",
     "iopub.status.idle": "2025-08-05T15:54:14.652777Z",
     "shell.execute_reply": "2025-08-05T15:54:14.651734Z"
    },
    "papermill": {
     "duration": 0.051541,
     "end_time": "2025-08-05T15:54:14.655073",
     "exception": false,
     "start_time": "2025-08-05T15:54:14.603532",
     "status": "completed"
    },
    "tags": []
   },
   "outputs": [],
   "source": [
    "subgroups = ['frau1','nongerman','nongerman_male','nongerman_female']\n",
    "\n",
    "# Conditional coverage for subgroup==1\n",
    "cond_coverage = {\n",
    "    g: cp_groups_df.loc[cp_groups_df[g]==1, 'covered'].mean()\n",
    "    for g in subgroups\n",
    "}"
   ]
  },
  {
   "cell_type": "code",
   "execution_count": 56,
   "id": "1e348fb1-b9c3-45bc-ba23-f016827a7e0d",
   "metadata": {
    "execution": {
     "iopub.execute_input": "2025-08-05T15:54:14.717472Z",
     "iopub.status.busy": "2025-08-05T15:54:14.716809Z",
     "iopub.status.idle": "2025-08-05T15:54:14.724116Z",
     "shell.execute_reply": "2025-08-05T15:54:14.723012Z"
    },
    "papermill": {
     "duration": 0.037527,
     "end_time": "2025-08-05T15:54:14.726023",
     "exception": false,
     "start_time": "2025-08-05T15:54:14.688496",
     "status": "completed"
    },
    "tags": []
   },
   "outputs": [
    {
     "data": {
      "text/plain": [
       "{'frau1': 0.9098800377409354,\n",
       " 'nongerman': 0.913770841520238,\n",
       " 'nongerman_male': 0.92704674412321,\n",
       " 'nongerman_female': 0.8918032786885246}"
      ]
     },
     "execution_count": 56,
     "metadata": {},
     "output_type": "execute_result"
    }
   ],
   "source": [
    "cond_coverage"
   ]
  },
  {
   "cell_type": "code",
   "execution_count": 57,
   "id": "f5093324-c3dd-4d63-bc4c-8d945e5c8bbb",
   "metadata": {
    "execution": {
     "iopub.execute_input": "2025-08-05T15:54:14.779918Z",
     "iopub.status.busy": "2025-08-05T15:54:14.779264Z",
     "iopub.status.idle": "2025-08-05T15:54:14.790006Z",
     "shell.execute_reply": "2025-08-05T15:54:14.787445Z"
    },
    "papermill": {
     "duration": 0.038493,
     "end_time": "2025-08-05T15:54:14.791432",
     "exception": false,
     "start_time": "2025-08-05T15:54:14.752939",
     "status": "completed"
    },
    "tags": []
   },
   "outputs": [],
   "source": [
    "for subgroup, cov in cond_coverage.items():\n",
    "    cp_metrics_df[f\"cov_{subgroup}\"] = cov"
   ]
  },
  {
   "cell_type": "code",
   "execution_count": 58,
   "id": "6e872e10-dbe5-49e8-b554-5030c98ff75d",
   "metadata": {
    "execution": {
     "iopub.execute_input": "2025-08-05T15:54:14.819369Z",
     "iopub.status.busy": "2025-08-05T15:54:14.818679Z",
     "iopub.status.idle": "2025-08-05T15:54:14.838684Z",
     "shell.execute_reply": "2025-08-05T15:54:14.837778Z"
    },
    "papermill": {
     "duration": 0.03644,
     "end_time": "2025-08-05T15:54:14.841052",
     "exception": false,
     "start_time": "2025-08-05T15:54:14.804612",
     "status": "completed"
    },
    "tags": []
   },
   "outputs": [
    {
     "data": {
      "text/html": [
       "<div>\n",
       "<style scoped>\n",
       "    .dataframe tbody tr th:only-of-type {\n",
       "        vertical-align: middle;\n",
       "    }\n",
       "\n",
       "    .dataframe tbody tr th {\n",
       "        vertical-align: top;\n",
       "    }\n",
       "\n",
       "    .dataframe thead th {\n",
       "        text-align: right;\n",
       "    }\n",
       "</style>\n",
       "<table border=\"1\" class=\"dataframe\">\n",
       "  <thead>\n",
       "    <tr style=\"text-align: right;\">\n",
       "      <th></th>\n",
       "      <th>universe_id</th>\n",
       "      <th>universe_training_year</th>\n",
       "      <th>universe_training_size</th>\n",
       "      <th>universe_scale</th>\n",
       "      <th>universe_model</th>\n",
       "      <th>universe_exclude_features</th>\n",
       "      <th>universe_exclude_subgroups</th>\n",
       "      <th>q_hat</th>\n",
       "      <th>coverage</th>\n",
       "      <th>avg_size</th>\n",
       "      <th>cov_frau1</th>\n",
       "      <th>cov_nongerman</th>\n",
       "      <th>cov_nongerman_male</th>\n",
       "      <th>cov_nongerman_female</th>\n",
       "    </tr>\n",
       "  </thead>\n",
       "  <tbody>\n",
       "    <tr>\n",
       "      <th>0</th>\n",
       "      <td>c3102e683f11cc34604ac4ce8d0ea199</td>\n",
       "      <td>2010_14</td>\n",
       "      <td>5k</td>\n",
       "      <td>scale</td>\n",
       "      <td>elasticnet</td>\n",
       "      <td>sex</td>\n",
       "      <td>drop-non-german</td>\n",
       "      <td>0.680958</td>\n",
       "      <td>0.910668</td>\n",
       "      <td>1.146138</td>\n",
       "      <td>0.90988</td>\n",
       "      <td>0.913771</td>\n",
       "      <td>0.927047</td>\n",
       "      <td>0.891803</td>\n",
       "    </tr>\n",
       "  </tbody>\n",
       "</table>\n",
       "</div>"
      ],
      "text/plain": [
       "                        universe_id universe_training_year  \\\n",
       "0  c3102e683f11cc34604ac4ce8d0ea199                2010_14   \n",
       "\n",
       "  universe_training_size universe_scale universe_model  \\\n",
       "0                     5k          scale     elasticnet   \n",
       "\n",
       "  universe_exclude_features universe_exclude_subgroups     q_hat  coverage  \\\n",
       "0                       sex            drop-non-german  0.680958  0.910668   \n",
       "\n",
       "   avg_size  cov_frau1  cov_nongerman  cov_nongerman_male  \\\n",
       "0  1.146138    0.90988       0.913771            0.927047   \n",
       "\n",
       "   cov_nongerman_female  \n",
       "0              0.891803  "
      ]
     },
     "execution_count": 58,
     "metadata": {},
     "output_type": "execute_result"
    }
   ],
   "source": [
    "cp_metrics_df"
   ]
  },
  {
   "cell_type": "markdown",
   "id": "33774451",
   "metadata": {
    "papermill": {
     "duration": 0.018077,
     "end_time": "2025-08-05T15:54:14.884139",
     "exception": false,
     "start_time": "2025-08-05T15:54:14.866062",
     "status": "completed"
    },
    "tags": []
   },
   "source": [
    "# (Fairness) Metrics"
   ]
  },
  {
   "cell_type": "code",
   "execution_count": 59,
   "id": "debc5d62",
   "metadata": {
    "execution": {
     "iopub.execute_input": "2025-08-05T15:54:14.937033Z",
     "iopub.status.busy": "2025-08-05T15:54:14.936350Z",
     "iopub.status.idle": "2025-08-05T15:54:14.958933Z",
     "shell.execute_reply": "2025-08-05T15:54:14.957959Z"
    },
    "papermill": {
     "duration": 0.050817,
     "end_time": "2025-08-05T15:54:14.960568",
     "exception": false,
     "start_time": "2025-08-05T15:54:14.909751",
     "status": "completed"
    },
    "tags": []
   },
   "outputs": [],
   "source": [
    "# do I need to include maxdeutsch1.missing?\n",
    "\n",
    "import numpy as np\n",
    "\n",
    "colname_to_bin = \"maxdeutsch1\"\n",
    "majority_value = org_train[colname_to_bin].mode()[0]\n",
    "\n",
    "org_test[\"majmin\"] = np.where(org_test[colname_to_bin] == majority_value, \"majority\", \"minority\")"
   ]
  },
  {
   "cell_type": "code",
   "execution_count": 60,
   "id": "06a50de5",
   "metadata": {
    "execution": {
     "iopub.execute_input": "2025-08-05T15:54:14.988598Z",
     "iopub.status.busy": "2025-08-05T15:54:14.987851Z",
     "iopub.status.idle": "2025-08-05T15:54:17.560913Z",
     "shell.execute_reply": "2025-08-05T15:54:17.559981Z"
    },
    "papermill": {
     "duration": 2.589024,
     "end_time": "2025-08-05T15:54:17.562790",
     "exception": false,
     "start_time": "2025-08-05T15:54:14.973766",
     "status": "completed"
    },
    "tags": []
   },
   "outputs": [],
   "source": [
    "example_universe = universe.copy()\n",
    "example_universe[\"cutoff\"] = example_universe[\"cutoff\"][0]\n",
    "example_universe[\"eval_fairness_grouping\"] = example_universe[\"eval_fairness_grouping\"][0]\n",
    "fairness_dict, metric_frame = universe_analysis.compute_metrics(\n",
    "    example_universe,\n",
    "    y_pred_prob=probs_test,\n",
    "    y_test=y_true,\n",
    "    org_test=org_test,\n",
    ")"
   ]
  },
  {
   "cell_type": "markdown",
   "id": "f95d4e02",
   "metadata": {
    "papermill": {
     "duration": 0.024837,
     "end_time": "2025-08-05T15:54:17.611808",
     "exception": false,
     "start_time": "2025-08-05T15:54:17.586971",
     "status": "completed"
    },
    "tags": []
   },
   "source": [
    "# Overall"
   ]
  },
  {
   "cell_type": "markdown",
   "id": "bdee4871",
   "metadata": {
    "papermill": {
     "duration": 0.022987,
     "end_time": "2025-08-05T15:54:17.656449",
     "exception": false,
     "start_time": "2025-08-05T15:54:17.633462",
     "status": "completed"
    },
    "tags": []
   },
   "source": [
    "Fairness\n",
    "Main fairness target: Equalized Odds. Seems to be a better fit than equal opportunity, since we're not only interested in Y = 1. Seems to be a better fit than demographic parity, since we also care about accuracy, not just equal distribution of preds.\n",
    "\n",
    "Pick column for computation of fairness metrics\n",
    "\n",
    "Performance\n",
    "Overall performance measures, most interesting in relation to the measures split by group below"
   ]
  },
  {
   "cell_type": "code",
   "execution_count": 61,
   "id": "c4e067c6",
   "metadata": {
    "execution": {
     "iopub.execute_input": "2025-08-05T15:54:17.702489Z",
     "iopub.status.busy": "2025-08-05T15:54:17.701787Z",
     "iopub.status.idle": "2025-08-05T15:54:17.711296Z",
     "shell.execute_reply": "2025-08-05T15:54:17.710154Z"
    },
    "papermill": {
     "duration": 0.034797,
     "end_time": "2025-08-05T15:54:17.712966",
     "exception": false,
     "start_time": "2025-08-05T15:54:17.678169",
     "status": "completed"
    },
    "tags": []
   },
   "outputs": [
    {
     "data": {
      "text/plain": [
       "accuracy                   0.223242\n",
       "balanced accuracy          0.546094\n",
       "f1                         0.244604\n",
       "precision                  0.139734\n",
       "false positive rate        0.888174\n",
       "false negative rate        0.019639\n",
       "selection rate             0.900000\n",
       "count                  89710.000000\n",
       "dtype: float64"
      ]
     },
     "execution_count": 61,
     "metadata": {},
     "output_type": "execute_result"
    }
   ],
   "source": [
    "metric_frame.overall"
   ]
  },
  {
   "cell_type": "markdown",
   "id": "e968fe9d",
   "metadata": {
    "papermill": {
     "duration": 0.023521,
     "end_time": "2025-08-05T15:54:17.759151",
     "exception": false,
     "start_time": "2025-08-05T15:54:17.735630",
     "status": "completed"
    },
    "tags": []
   },
   "source": [
    "By Group"
   ]
  },
  {
   "cell_type": "code",
   "execution_count": 62,
   "id": "ec325bce",
   "metadata": {
    "execution": {
     "iopub.execute_input": "2025-08-05T15:54:17.806433Z",
     "iopub.status.busy": "2025-08-05T15:54:17.805953Z",
     "iopub.status.idle": "2025-08-05T15:54:17.823419Z",
     "shell.execute_reply": "2025-08-05T15:54:17.822388Z"
    },
    "papermill": {
     "duration": 0.043226,
     "end_time": "2025-08-05T15:54:17.824945",
     "exception": false,
     "start_time": "2025-08-05T15:54:17.781719",
     "status": "completed"
    },
    "tags": []
   },
   "outputs": [
    {
     "data": {
      "text/html": [
       "<div>\n",
       "<style scoped>\n",
       "    .dataframe tbody tr th:only-of-type {\n",
       "        vertical-align: middle;\n",
       "    }\n",
       "\n",
       "    .dataframe tbody tr th {\n",
       "        vertical-align: top;\n",
       "    }\n",
       "\n",
       "    .dataframe thead th {\n",
       "        text-align: right;\n",
       "    }\n",
       "</style>\n",
       "<table border=\"1\" class=\"dataframe\">\n",
       "  <thead>\n",
       "    <tr style=\"text-align: right;\">\n",
       "      <th></th>\n",
       "      <th>accuracy</th>\n",
       "      <th>balanced accuracy</th>\n",
       "      <th>f1</th>\n",
       "      <th>precision</th>\n",
       "      <th>false positive rate</th>\n",
       "      <th>false negative rate</th>\n",
       "      <th>selection rate</th>\n",
       "      <th>count</th>\n",
       "    </tr>\n",
       "    <tr>\n",
       "      <th>majmin</th>\n",
       "      <th></th>\n",
       "      <th></th>\n",
       "      <th></th>\n",
       "      <th></th>\n",
       "      <th></th>\n",
       "      <th></th>\n",
       "      <th></th>\n",
       "      <th></th>\n",
       "    </tr>\n",
       "  </thead>\n",
       "  <tbody>\n",
       "    <tr>\n",
       "      <th>majority</th>\n",
       "      <td>0.243328</td>\n",
       "      <td>0.554970</td>\n",
       "      <td>0.254717</td>\n",
       "      <td>0.146414</td>\n",
       "      <td>0.868616</td>\n",
       "      <td>0.021444</td>\n",
       "      <td>0.883143</td>\n",
       "      <td>69170.0</td>\n",
       "    </tr>\n",
       "    <tr>\n",
       "      <th>minority</th>\n",
       "      <td>0.155599</td>\n",
       "      <td>0.517273</td>\n",
       "      <td>0.212352</td>\n",
       "      <td>0.118970</td>\n",
       "      <td>0.952785</td>\n",
       "      <td>0.012669</td>\n",
       "      <td>0.956767</td>\n",
       "      <td>20540.0</td>\n",
       "    </tr>\n",
       "  </tbody>\n",
       "</table>\n",
       "</div>"
      ],
      "text/plain": [
       "          accuracy  balanced accuracy        f1  precision  \\\n",
       "majmin                                                       \n",
       "majority  0.243328           0.554970  0.254717   0.146414   \n",
       "minority  0.155599           0.517273  0.212352   0.118970   \n",
       "\n",
       "          false positive rate  false negative rate  selection rate    count  \n",
       "majmin                                                                       \n",
       "majority             0.868616             0.021444        0.883143  69170.0  \n",
       "minority             0.952785             0.012669        0.956767  20540.0  "
      ]
     },
     "execution_count": 62,
     "metadata": {},
     "output_type": "execute_result"
    }
   ],
   "source": [
    "metric_frame.by_group"
   ]
  },
  {
   "cell_type": "code",
   "execution_count": 63,
   "id": "a9ddbe63",
   "metadata": {
    "execution": {
     "iopub.execute_input": "2025-08-05T15:54:17.871706Z",
     "iopub.status.busy": "2025-08-05T15:54:17.871201Z",
     "iopub.status.idle": "2025-08-05T15:54:20.399424Z",
     "shell.execute_reply": "2025-08-05T15:54:20.398497Z"
    },
    "papermill": {
     "duration": 2.553193,
     "end_time": "2025-08-05T15:54:20.401203",
     "exception": false,
     "start_time": "2025-08-05T15:54:17.848010",
     "status": "completed"
    },
    "tags": []
   },
   "outputs": [
    {
     "data": {
      "text/plain": [
       "array([[<Axes: title={'center': 'accuracy'}, xlabel='majmin'>,\n",
       "        <Axes: title={'center': 'balanced accuracy'}, xlabel='majmin'>,\n",
       "        <Axes: title={'center': 'f1'}, xlabel='majmin'>],\n",
       "       [<Axes: title={'center': 'precision'}, xlabel='majmin'>,\n",
       "        <Axes: title={'center': 'false positive rate'}, xlabel='majmin'>,\n",
       "        <Axes: title={'center': 'false negative rate'}, xlabel='majmin'>],\n",
       "       [<Axes: title={'center': 'selection rate'}, xlabel='majmin'>,\n",
       "        <Axes: title={'center': 'count'}, xlabel='majmin'>,\n",
       "        <Axes: xlabel='majmin'>]], dtype=object)"
      ]
     },
     "execution_count": 63,
     "metadata": {},
     "output_type": "execute_result"
    },
    {
     "data": {
      "image/png": "[encoded data removed]",
      "text/plain": [
       "<Figure size 1200x800 with 9 Axes>"
      ]
     },
     "metadata": {},
     "output_type": "display_data"
    }
   ],
   "source": [
    "# In a graphic\n",
    "metric_frame.by_group.plot.bar(\n",
    "    subplots=True,\n",
    "    layout=[3, 3],\n",
    "    legend=False,\n",
    "    figsize=[12, 8],\n",
    "    title=\"Show all metrics\",\n",
    ")"
   ]
  },
  {
   "cell_type": "markdown",
   "id": "f57a0bac",
   "metadata": {
    "papermill": {
     "duration": 0.023891,
     "end_time": "2025-08-05T15:54:20.454762",
     "exception": false,
     "start_time": "2025-08-05T15:54:20.430871",
     "status": "completed"
    },
    "tags": []
   },
   "source": [
    "# Final Output"
   ]
  },
  {
   "cell_type": "code",
   "execution_count": 64,
   "id": "96d280a3",
   "metadata": {
    "execution": {
     "iopub.execute_input": "2025-08-05T15:54:20.507481Z",
     "iopub.status.busy": "2025-08-05T15:54:20.506639Z",
     "iopub.status.idle": "2025-08-05T15:54:20.515176Z",
     "shell.execute_reply": "2025-08-05T15:54:20.513980Z"
    },
    "papermill": {
     "duration": 0.034542,
     "end_time": "2025-08-05T15:54:20.516807",
     "exception": false,
     "start_time": "2025-08-05T15:54:20.482265",
     "status": "completed"
    },
    "tags": []
   },
   "outputs": [
    {
     "data": {
      "text/plain": [
       "4"
      ]
     },
     "execution_count": 64,
     "metadata": {},
     "output_type": "execute_result"
    }
   ],
   "source": [
    "sub_universes = universe_analysis.generate_sub_universes()\n",
    "len(sub_universes)"
   ]
  },
  {
   "cell_type": "code",
   "execution_count": 65,
   "id": "92adf7ba",
   "metadata": {
    "execution": {
     "iopub.execute_input": "2025-08-05T15:54:20.570383Z",
     "iopub.status.busy": "2025-08-05T15:54:20.569693Z",
     "iopub.status.idle": "2025-08-05T15:54:20.575695Z",
     "shell.execute_reply": "2025-08-05T15:54:20.574751Z"
    },
    "papermill": {
     "duration": 0.03391,
     "end_time": "2025-08-05T15:54:20.577641",
     "exception": false,
     "start_time": "2025-08-05T15:54:20.543731",
     "status": "completed"
    },
    "tags": []
   },
   "outputs": [],
   "source": [
    "def filter_sub_universe_data(sub_universe, org_test):\n",
    "    # Keep all rows — no filtering\n",
    "    keep_rows_mask = np.ones(org_test.shape[0], dtype=bool)\n",
    "\n",
    "    print(f\"[INFO] Keeping all rows: {keep_rows_mask.sum()} rows retained.\")\n",
    "    return keep_rows_mask"
   ]
  },
  {
   "cell_type": "code",
   "execution_count": 66,
   "id": "4a759155",
   "metadata": {
    "execution": {
     "iopub.execute_input": "2025-08-05T15:54:20.628649Z",
     "iopub.status.busy": "2025-08-05T15:54:20.628209Z",
     "iopub.status.idle": "2025-08-05T15:54:28.911324Z",
     "shell.execute_reply": "2025-08-05T15:54:28.910404Z"
    },
    "papermill": {
     "duration": 8.310738,
     "end_time": "2025-08-05T15:54:28.913162",
     "exception": false,
     "start_time": "2025-08-05T15:54:20.602424",
     "status": "completed"
    },
    "tags": []
   },
   "outputs": [
    {
     "name": "stdout",
     "output_type": "stream",
     "text": [
      "Stopping execution_time clock.\n",
      "[INFO] Keeping all rows: 89710 rows retained.\n"
     ]
    },
    {
     "name": "stdout",
     "output_type": "stream",
     "text": [
      "[INFO] Keeping all rows: 89710 rows retained.\n"
     ]
    },
    {
     "name": "stdout",
     "output_type": "stream",
     "text": [
      "[INFO] Keeping all rows: 89710 rows retained.\n"
     ]
    },
    {
     "name": "stdout",
     "output_type": "stream",
     "text": [
      "[INFO] Keeping all rows: 89710 rows retained.\n"
     ]
    },
    {
     "data": {
      "text/html": [
       "<div>\n",
       "<style scoped>\n",
       "    .dataframe tbody tr th:only-of-type {\n",
       "        vertical-align: middle;\n",
       "    }\n",
       "\n",
       "    .dataframe tbody tr th {\n",
       "        vertical-align: top;\n",
       "    }\n",
       "\n",
       "    .dataframe thead th {\n",
       "        text-align: right;\n",
       "    }\n",
       "</style>\n",
       "<table border=\"1\" class=\"dataframe\">\n",
       "  <thead>\n",
       "    <tr style=\"text-align: right;\">\n",
       "      <th></th>\n",
       "      <th>run_no</th>\n",
       "      <th>universe_id</th>\n",
       "      <th>universe_settings</th>\n",
       "      <th>execution_time</th>\n",
       "      <th>test_size_n</th>\n",
       "      <th>test_size_frac</th>\n",
       "      <th>fair_main_equalized_odds_difference</th>\n",
       "      <th>fair_main_equalized_odds_ratio</th>\n",
       "      <th>fair_main_demographic_parity_difference</th>\n",
       "      <th>fair_main_demographic_parity_ratio</th>\n",
       "      <th>...</th>\n",
       "      <th>perf_grp_precision_0</th>\n",
       "      <th>perf_grp_precision_1</th>\n",
       "      <th>perf_grp_false positive rate_0</th>\n",
       "      <th>perf_grp_false positive rate_1</th>\n",
       "      <th>perf_grp_false negative rate_0</th>\n",
       "      <th>perf_grp_false negative rate_1</th>\n",
       "      <th>perf_grp_selection rate_0</th>\n",
       "      <th>perf_grp_selection rate_1</th>\n",
       "      <th>perf_grp_count_0</th>\n",
       "      <th>perf_grp_count_1</th>\n",
       "    </tr>\n",
       "  </thead>\n",
       "  <tbody>\n",
       "    <tr>\n",
       "      <th>0</th>\n",
       "      <td>15</td>\n",
       "      <td>c3102e683f11cc34604ac4ce8d0ea199</td>\n",
       "      <td>{\"cutoff\": \"quantile_0.1\", \"eval_fairness_grou...</td>\n",
       "      <td>28.035331</td>\n",
       "      <td>89710</td>\n",
       "      <td>1.0</td>\n",
       "      <td>0.084169</td>\n",
       "      <td>0.911660</td>\n",
       "      <td>0.073624</td>\n",
       "      <td>0.923049</td>\n",
       "      <td>...</td>\n",
       "      <td>NaN</td>\n",
       "      <td>NaN</td>\n",
       "      <td>NaN</td>\n",
       "      <td>NaN</td>\n",
       "      <td>NaN</td>\n",
       "      <td>NaN</td>\n",
       "      <td>NaN</td>\n",
       "      <td>NaN</td>\n",
       "      <td>NaN</td>\n",
       "      <td>NaN</td>\n",
       "    </tr>\n",
       "    <tr>\n",
       "      <th>0</th>\n",
       "      <td>15</td>\n",
       "      <td>c3102e683f11cc34604ac4ce8d0ea199</td>\n",
       "      <td>{\"cutoff\": \"quantile_0.1\", \"eval_fairness_grou...</td>\n",
       "      <td>28.035331</td>\n",
       "      <td>89710</td>\n",
       "      <td>1.0</td>\n",
       "      <td>0.084169</td>\n",
       "      <td>0.911660</td>\n",
       "      <td>0.073624</td>\n",
       "      <td>0.923049</td>\n",
       "      <td>...</td>\n",
       "      <td>0.118970</td>\n",
       "      <td>0.146414</td>\n",
       "      <td>0.952785</td>\n",
       "      <td>0.868616</td>\n",
       "      <td>0.012669</td>\n",
       "      <td>0.021444</td>\n",
       "      <td>0.956767</td>\n",
       "      <td>0.883143</td>\n",
       "      <td>20540.0</td>\n",
       "      <td>69170.0</td>\n",
       "    </tr>\n",
       "    <tr>\n",
       "      <th>0</th>\n",
       "      <td>15</td>\n",
       "      <td>c3102e683f11cc34604ac4ce8d0ea199</td>\n",
       "      <td>{\"cutoff\": \"quantile_0.25\", \"eval_fairness_gro...</td>\n",
       "      <td>28.035331</td>\n",
       "      <td>89710</td>\n",
       "      <td>1.0</td>\n",
       "      <td>0.178820</td>\n",
       "      <td>0.792137</td>\n",
       "      <td>0.156854</td>\n",
       "      <td>0.819902</td>\n",
       "      <td>...</td>\n",
       "      <td>NaN</td>\n",
       "      <td>NaN</td>\n",
       "      <td>NaN</td>\n",
       "      <td>NaN</td>\n",
       "      <td>NaN</td>\n",
       "      <td>NaN</td>\n",
       "      <td>NaN</td>\n",
       "      <td>NaN</td>\n",
       "      <td>NaN</td>\n",
       "      <td>NaN</td>\n",
       "    </tr>\n",
       "    <tr>\n",
       "      <th>0</th>\n",
       "      <td>15</td>\n",
       "      <td>c3102e683f11cc34604ac4ce8d0ea199</td>\n",
       "      <td>{\"cutoff\": \"quantile_0.25\", \"eval_fairness_gro...</td>\n",
       "      <td>28.035331</td>\n",
       "      <td>89710</td>\n",
       "      <td>1.0</td>\n",
       "      <td>0.178820</td>\n",
       "      <td>0.792137</td>\n",
       "      <td>0.156854</td>\n",
       "      <td>0.819902</td>\n",
       "      <td>...</td>\n",
       "      <td>0.126111</td>\n",
       "      <td>0.171785</td>\n",
       "      <td>0.860280</td>\n",
       "      <td>0.681459</td>\n",
       "      <td>0.047297</td>\n",
       "      <td>0.071663</td>\n",
       "      <td>0.870935</td>\n",
       "      <td>0.714081</td>\n",
       "      <td>20540.0</td>\n",
       "      <td>69170.0</td>\n",
       "    </tr>\n",
       "  </tbody>\n",
       "</table>\n",
       "<p>4 rows × 50 columns</p>\n",
       "</div>"
      ],
      "text/plain": [
       "  run_no                       universe_id  \\\n",
       "0     15  c3102e683f11cc34604ac4ce8d0ea199   \n",
       "0     15  c3102e683f11cc34604ac4ce8d0ea199   \n",
       "0     15  c3102e683f11cc34604ac4ce8d0ea199   \n",
       "0     15  c3102e683f11cc34604ac4ce8d0ea199   \n",
       "\n",
       "                                   universe_settings  execution_time  \\\n",
       "0  {\"cutoff\": \"quantile_0.1\", \"eval_fairness_grou...       28.035331   \n",
       "0  {\"cutoff\": \"quantile_0.1\", \"eval_fairness_grou...       28.035331   \n",
       "0  {\"cutoff\": \"quantile_0.25\", \"eval_fairness_gro...       28.035331   \n",
       "0  {\"cutoff\": \"quantile_0.25\", \"eval_fairness_gro...       28.035331   \n",
       "\n",
       "   test_size_n  test_size_frac  fair_main_equalized_odds_difference  \\\n",
       "0        89710             1.0                             0.084169   \n",
       "0        89710             1.0                             0.084169   \n",
       "0        89710             1.0                             0.178820   \n",
       "0        89710             1.0                             0.178820   \n",
       "\n",
       "   fair_main_equalized_odds_ratio  fair_main_demographic_parity_difference  \\\n",
       "0                        0.911660                                 0.073624   \n",
       "0                        0.911660                                 0.073624   \n",
       "0                        0.792137                                 0.156854   \n",
       "0                        0.792137                                 0.156854   \n",
       "\n",
       "   fair_main_demographic_parity_ratio  ...  perf_grp_precision_0  \\\n",
       "0                            0.923049  ...                   NaN   \n",
       "0                            0.923049  ...              0.118970   \n",
       "0                            0.819902  ...                   NaN   \n",
       "0                            0.819902  ...              0.126111   \n",
       "\n",
       "   perf_grp_precision_1  perf_grp_false positive rate_0  \\\n",
       "0                   NaN                             NaN   \n",
       "0              0.146414                        0.952785   \n",
       "0                   NaN                             NaN   \n",
       "0              0.171785                        0.860280   \n",
       "\n",
       "   perf_grp_false positive rate_1  perf_grp_false negative rate_0  \\\n",
       "0                             NaN                             NaN   \n",
       "0                        0.868616                        0.012669   \n",
       "0                             NaN                             NaN   \n",
       "0                        0.681459                        0.047297   \n",
       "\n",
       "   perf_grp_false negative rate_1  perf_grp_selection rate_0  \\\n",
       "0                             NaN                        NaN   \n",
       "0                        0.021444                   0.956767   \n",
       "0                             NaN                        NaN   \n",
       "0                        0.071663                   0.870935   \n",
       "\n",
       "   perf_grp_selection rate_1  perf_grp_count_0  perf_grp_count_1  \n",
       "0                        NaN               NaN               NaN  \n",
       "0                   0.883143           20540.0           69170.0  \n",
       "0                        NaN               NaN               NaN  \n",
       "0                   0.714081           20540.0           69170.0  \n",
       "\n",
       "[4 rows x 50 columns]"
      ]
     },
     "execution_count": 66,
     "metadata": {},
     "output_type": "execute_result"
    }
   ],
   "source": [
    "final_output = universe_analysis.generate_final_output(\n",
    "    y_pred_prob=probs_test,\n",
    "    y_test=y_true,\n",
    "    org_test=org_test,\n",
    "    filter_data=filter_sub_universe_data,\n",
    "    cp_metrics_df=cp_metrics_df,\n",
    "    save=True,\n",
    ")\n",
    "final_output"
   ]
  }
 ],
 "metadata": {
  "celltoolbar": "Tags",
  "kernelspec": {
   "display_name": "Python (CMA Fairness)",
   "language": "python",
   "name": "cma_fair_env"
  },
  "language_info": {
   "codemirror_mode": {
    "name": "ipython",
    "version": 3
   },
   "file_extension": ".py",
   "mimetype": "text/x-python",
   "name": "python",
   "nbconvert_exporter": "python",
   "pygments_lexer": "ipython3",
   "version": "3.10.12"
  },
  "papermill": {
   "default_parameters": {},
   "duration": 40.415793,
   "end_time": "2025-08-05T15:54:29.763707",
   "environment_variables": {},
   "exception": null,
   "input_path": "universe_analysis.ipynb",
   "output_path": "output/runs/15/notebooks/m_15-c3102e683f11cc34604ac4ce8d0ea199.ipynb",
   "parameters": {
    "output_dir": "output",
    "run_no": "15",
    "seed": "2023",
    "universe": "{\"cutoff\": [\"quantile_0.1\", \"quantile_0.25\"], \"eval_fairness_grouping\": [\"majority-minority\", \"nationality-all\"], \"exclude_features\": \"sex\", \"exclude_subgroups\": \"drop-non-german\", \"model\": \"elasticnet\", \"scale\": \"scale\", \"training_size\": \"5k\", \"training_year\": \"2010_14\"}",
    "universe_id": "c3102e683f11cc34604ac4ce8d0ea199"
   },
   "start_time": "2025-08-05T15:53:49.347914",
   "version": "2.6.0"
  }
 },
 "nbformat": 4,
 "nbformat_minor": 5
}