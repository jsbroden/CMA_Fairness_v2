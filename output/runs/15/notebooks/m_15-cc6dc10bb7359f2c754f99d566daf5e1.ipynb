{
 "cells": [
  {
   "cell_type": "code",
   "execution_count": 1,
   "id": "f159f837-637b-42ba-96b5-ec9a68c44524",
   "metadata": {
    "execution": {
     "iopub.execute_input": "2025-08-05T15:42:35.320897Z",
     "iopub.status.busy": "2025-08-05T15:42:35.320382Z",
     "iopub.status.idle": "2025-08-05T15:42:35.335269Z",
     "shell.execute_reply": "2025-08-05T15:42:35.334218Z"
    },
    "papermill": {
     "duration": 0.034583,
     "end_time": "2025-08-05T15:42:35.337293",
     "exception": false,
     "start_time": "2025-08-05T15:42:35.302710",
     "status": "completed"
    },
    "tags": []
   },
   "outputs": [
    {
     "name": "stdout",
     "output_type": "stream",
     "text": [
      "/dss/dsshome1/0C/ra93lal2/cma/CMA_Fairness_v2\n"
     ]
    },
    {
     "name": "stderr",
     "output_type": "stream",
     "text": [
      "/dss/dsshome1/0C/ra93lal2/.local/share/virtualenvs/CMA_Fairness_v2-3j10GkSs/lib/python3.10/site-packages/IPython/core/magics/osm.py:393: UserWarning: This is now an optional IPython functionality, using bookmarks requires you to install the `pickleshare` library.\n",
      "  bkms = self.shell.db.get('bookmarks', {})\n",
      "/dss/dsshome1/0C/ra93lal2/.local/share/virtualenvs/CMA_Fairness_v2-3j10GkSs/lib/python3.10/site-packages/IPython/core/magics/osm.py:417: UserWarning: This is now an optional IPython functionality, setting dhist requires you to install the `pickleshare` library.\n",
      "  self.shell.db['dhist'] = compress_dhist(dhist)[-100:]\n"
     ]
    }
   ],
   "source": [
    "%cd ~/cma/CMA_Fairness_v2"
   ]
  },
  {
   "cell_type": "markdown",
   "id": "de2603b9",
   "metadata": {
    "papermill": {
     "duration": 0.01661,
     "end_time": "2025-08-05T15:42:35.371611",
     "exception": false,
     "start_time": "2025-08-05T15:42:35.355001",
     "status": "completed"
    },
    "tags": []
   },
   "source": [
    "The following cell holds the definition of our parameters, these values can be overriden by rendering the with e.g. the following command:\n",
    "\n",
    "papermill -p alpha 0.2 -p ratio 0.3 universe_analysis.ipynb output/test_run.ipynb"
   ]
  },
  {
   "cell_type": "code",
   "execution_count": 2,
   "id": "a80968a0-40bb-4fa9-85ef-2d5eefb01975",
   "metadata": {
    "execution": {
     "iopub.execute_input": "2025-08-05T15:42:35.406413Z",
     "iopub.status.busy": "2025-08-05T15:42:35.405732Z",
     "iopub.status.idle": "2025-08-05T15:42:35.413967Z",
     "shell.execute_reply": "2025-08-05T15:42:35.412426Z"
    },
    "papermill": {
     "duration": 0.028657,
     "end_time": "2025-08-05T15:42:35.415936",
     "exception": false,
     "start_time": "2025-08-05T15:42:35.387279",
     "status": "completed"
    },
    "tags": []
   },
   "outputs": [
    {
     "name": "stdout",
     "output_type": "stream",
     "text": [
      "Current working directory: /dss/dsshome1/0C/ra93lal2/cma/CMA_Fairness_v2\n"
     ]
    }
   ],
   "source": [
    "import os\n",
    "print(\"Current working directory:\", os.getcwd())"
   ]
  },
  {
   "cell_type": "code",
   "execution_count": 3,
   "id": "2dce4c03",
   "metadata": {
    "execution": {
     "iopub.execute_input": "2025-08-05T15:42:35.454075Z",
     "iopub.status.busy": "2025-08-05T15:42:35.453549Z",
     "iopub.status.idle": "2025-08-05T15:42:35.460259Z",
     "shell.execute_reply": "2025-08-05T15:42:35.459072Z"
    },
    "papermill": {
     "duration": 0.027,
     "end_time": "2025-08-05T15:42:35.462400",
     "exception": false,
     "start_time": "2025-08-05T15:42:35.435400",
     "status": "completed"
    },
    "tags": [
     "parameters"
    ]
   },
   "outputs": [],
   "source": [
    "run_no = 0\n",
    "universe_id = \"test\"\n",
    "universe = {\n",
    "    \"training_size\": \"25k\", # \"25k\", \"5k\", \"1k\"\n",
    "    \"training_year\": \"2014\", # \"2014\", \"2012_14\", \"2010_14\"\n",
    "    \"scale\": \"scale\", # \"scale\", \"do-not-scale\",\n",
    "    \"model\": \"elasticnet\", # \"logreg\", \"penalized_logreg\", \"rf\", \"gbm\", \"elasticnet\"\n",
    "    \"cutoff\": [\"quantile_0.15\", \"quantile_0.30\"],\n",
    "    \"exclude_features\": \"age\", # \"none\", \"nationality\", \"sex\", \"nationality-sex\", \"age\"\n",
    "    \"exclude_subgroups\": \"keep-all\", # \"keep-all\", \"drop-non-german\"\n",
    "    \"eval_fairness_grouping\": [\"majority-minority\", \"nationality-all\"]\n",
    "}\n",
    "\n",
    "output_dir=\"./output\"\n",
    "seed=0"
   ]
  },
  {
   "cell_type": "code",
   "execution_count": 4,
   "id": "a9a6a6eb",
   "metadata": {
    "execution": {
     "iopub.execute_input": "2025-08-05T15:42:35.498691Z",
     "iopub.status.busy": "2025-08-05T15:42:35.498187Z",
     "iopub.status.idle": "2025-08-05T15:42:35.503627Z",
     "shell.execute_reply": "2025-08-05T15:42:35.502548Z"
    },
    "papermill": {
     "duration": 0.025792,
     "end_time": "2025-08-05T15:42:35.505417",
     "exception": false,
     "start_time": "2025-08-05T15:42:35.479625",
     "status": "completed"
    },
    "tags": [
     "injected-parameters"
    ]
   },
   "outputs": [],
   "source": [
    "# Parameters\n",
    "universe_id = \"cc6dc10bb7359f2c754f99d566daf5e1\"\n",
    "run_no = \"15\"\n",
    "universe = \"{\\\"cutoff\\\": [\\\"quantile_0.1\\\", \\\"quantile_0.25\\\"], \\\"eval_fairness_grouping\\\": [\\\"majority-minority\\\", \\\"nationality-all\\\"], \\\"exclude_features\\\": \\\"nationality-sex\\\", \\\"exclude_subgroups\\\": \\\"drop-non-german\\\", \\\"model\\\": \\\"penalized_logreg\\\", \\\"scale\\\": \\\"do-not-scale\\\", \\\"training_size\\\": \\\"5k\\\", \\\"training_year\\\": \\\"2012_14\\\"}\"\n",
    "output_dir = \"output\"\n",
    "seed = \"2023\"\n"
   ]
  },
  {
   "cell_type": "code",
   "execution_count": 5,
   "id": "1650acaf",
   "metadata": {
    "execution": {
     "iopub.execute_input": "2025-08-05T15:42:35.540722Z",
     "iopub.status.busy": "2025-08-05T15:42:35.540224Z",
     "iopub.status.idle": "2025-08-05T15:42:35.545458Z",
     "shell.execute_reply": "2025-08-05T15:42:35.544307Z"
    },
    "papermill": {
     "duration": 0.025124,
     "end_time": "2025-08-05T15:42:35.547274",
     "exception": false,
     "start_time": "2025-08-05T15:42:35.522150",
     "status": "completed"
    },
    "tags": []
   },
   "outputs": [],
   "source": [
    "import json\n",
    "if isinstance(universe, str):\n",
    "    universe = json.loads(universe)"
   ]
  },
  {
   "cell_type": "code",
   "execution_count": 6,
   "id": "16620c48",
   "metadata": {
    "execution": {
     "iopub.execute_input": "2025-08-05T15:42:35.583290Z",
     "iopub.status.busy": "2025-08-05T15:42:35.582888Z",
     "iopub.status.idle": "2025-08-05T15:42:35.628723Z",
     "shell.execute_reply": "2025-08-05T15:42:35.627766Z"
    },
    "papermill": {
     "duration": 0.065521,
     "end_time": "2025-08-05T15:42:35.630574",
     "exception": false,
     "start_time": "2025-08-05T15:42:35.565053",
     "status": "completed"
    },
    "tags": []
   },
   "outputs": [],
   "source": [
    "# Auto-reload the custom package\n",
    "%load_ext autoreload\n",
    "%autoreload 1\n",
    "%aimport fairness_multiverse"
   ]
  },
  {
   "cell_type": "code",
   "execution_count": 7,
   "id": "01c5c9f3",
   "metadata": {
    "execution": {
     "iopub.execute_input": "2025-08-05T15:42:35.666436Z",
     "iopub.status.busy": "2025-08-05T15:42:35.665897Z",
     "iopub.status.idle": "2025-08-05T15:42:37.697669Z",
     "shell.execute_reply": "2025-08-05T15:42:37.696199Z"
    },
    "papermill": {
     "duration": 2.05152,
     "end_time": "2025-08-05T15:42:37.699844",
     "exception": false,
     "start_time": "2025-08-05T15:42:35.648324",
     "status": "completed"
    },
    "tags": []
   },
   "outputs": [],
   "source": [
    "from fairness_multiverse.universe import UniverseAnalysis\n",
    "\n",
    "universe_analysis = UniverseAnalysis(\n",
    "    run_no = run_no,\n",
    "    universe_id = universe_id,\n",
    "    universe = universe,\n",
    "    output_dir=output_dir,\n",
    ")"
   ]
  },
  {
   "cell_type": "code",
   "execution_count": 8,
   "id": "106241f5",
   "metadata": {
    "execution": {
     "iopub.execute_input": "2025-08-05T15:42:37.736713Z",
     "iopub.status.busy": "2025-08-05T15:42:37.736031Z",
     "iopub.status.idle": "2025-08-05T15:42:37.744799Z",
     "shell.execute_reply": "2025-08-05T15:42:37.743400Z"
    },
    "papermill": {
     "duration": 0.029265,
     "end_time": "2025-08-05T15:42:37.746865",
     "exception": false,
     "start_time": "2025-08-05T15:42:37.717600",
     "status": "completed"
    },
    "tags": []
   },
   "outputs": [
    {
     "name": "stdout",
     "output_type": "stream",
     "text": [
      "Using Seed: 2023\n"
     ]
    }
   ],
   "source": [
    "import numpy as np\n",
    "parsed_seed = int(seed)\n",
    "np.random.seed(parsed_seed)\n",
    "print(f\"Using Seed: {parsed_seed}\")"
   ]
  },
  {
   "cell_type": "markdown",
   "id": "e0ebdc57",
   "metadata": {
    "papermill": {
     "duration": 0.017386,
     "end_time": "2025-08-05T15:42:37.782787",
     "exception": false,
     "start_time": "2025-08-05T15:42:37.765401",
     "status": "completed"
    },
    "tags": []
   },
   "source": [
    "# Loading Data"
   ]
  },
  {
   "cell_type": "code",
   "execution_count": 9,
   "id": "f0496b8a",
   "metadata": {
    "execution": {
     "iopub.execute_input": "2025-08-05T15:42:37.818039Z",
     "iopub.status.busy": "2025-08-05T15:42:37.817178Z",
     "iopub.status.idle": "2025-08-05T15:42:49.138311Z",
     "shell.execute_reply": "2025-08-05T15:42:49.136960Z"
    },
    "papermill": {
     "duration": 11.340977,
     "end_time": "2025-08-05T15:42:49.140065",
     "exception": false,
     "start_time": "2025-08-05T15:42:37.799088",
     "status": "completed"
    },
    "tags": []
   },
   "outputs": [
    {
     "name": "stdout",
     "output_type": "stream",
     "text": [
      "Loading SIAB data from cache: data/siab_cached.csv.gz\n"
     ]
    },
    {
     "name": "stdout",
     "output_type": "stream",
     "text": [
      "(643690, 164)\n"
     ]
    }
   ],
   "source": [
    "from pathlib import Path\n",
    "import pandas as pd\n",
    "\n",
    "# File paths\n",
    "raw_file = Path(\"data/raw/siab.csv\")\n",
    "cache_file = Path(\"data/siab_cached.csv.gz\")\n",
    "\n",
    "# Ensure cache directory exists\n",
    "cache_file.parent.mkdir(parents=True, exist_ok=True)\n",
    "\n",
    "# Load with simple caching\n",
    "if cache_file.exists():\n",
    "    print(f\"Loading SIAB data from cache: {cache_file}\")\n",
    "    siab = pd.read_csv(cache_file, compression='gzip')\n",
    "else:\n",
    "    print(f\"Cache not found. Reading raw SIAB data: {raw_file}\")\n",
    "    siab = pd.read_csv(raw_file)\n",
    "    siab.to_csv(cache_file, index=False, compression='gzip')\n",
    "    print(f\"Cached SIAB data to: {cache_file}\")\n",
    "\n",
    "print(siab.shape)"
   ]
  },
  {
   "cell_type": "code",
   "execution_count": 10,
   "id": "db0ca512-5f53-4dba-abdb-a2888bca41ba",
   "metadata": {
    "execution": {
     "iopub.execute_input": "2025-08-05T15:42:49.182849Z",
     "iopub.status.busy": "2025-08-05T15:42:49.181947Z",
     "iopub.status.idle": "2025-08-05T15:42:49.187495Z",
     "shell.execute_reply": "2025-08-05T15:42:49.186478Z"
    },
    "papermill": {
     "duration": 0.026717,
     "end_time": "2025-08-05T15:42:49.189472",
     "exception": false,
     "start_time": "2025-08-05T15:42:49.162755",
     "status": "completed"
    },
    "tags": []
   },
   "outputs": [],
   "source": [
    "#siab"
   ]
  },
  {
   "cell_type": "markdown",
   "id": "997051c5-15bd-4b69-9786-c3001a3ce484",
   "metadata": {
    "papermill": {
     "duration": 0.017805,
     "end_time": "2025-08-05T15:42:49.225665",
     "exception": false,
     "start_time": "2025-08-05T15:42:49.207860",
     "status": "completed"
    },
    "tags": []
   },
   "source": [
    "# Splitting Data and Setting Training Data Size"
   ]
  },
  {
   "cell_type": "code",
   "execution_count": 11,
   "id": "aea9c6ef-6f46-42c8-85eb-5a62025c1508",
   "metadata": {
    "execution": {
     "iopub.execute_input": "2025-08-05T15:42:49.265349Z",
     "iopub.status.busy": "2025-08-05T15:42:49.264420Z",
     "iopub.status.idle": "2025-08-05T15:42:49.898735Z",
     "shell.execute_reply": "2025-08-05T15:42:49.897683Z"
    },
    "papermill": {
     "duration": 0.654749,
     "end_time": "2025-08-05T15:42:49.900775",
     "exception": false,
     "start_time": "2025-08-05T15:42:49.246026",
     "status": "completed"
    },
    "tags": []
   },
   "outputs": [],
   "source": [
    "from fairness_multiverse.universe import sample_by_year_size\n",
    "\n",
    "siab_train = sample_by_year_size(siab,\n",
    "                               training_year=universe[\"training_year\"],\n",
    "                               training_size=universe[\"training_size\"])"
   ]
  },
  {
   "cell_type": "code",
   "execution_count": 12,
   "id": "8d3afb32-789d-442c-8d5d-9f5aa8dd2eed",
   "metadata": {
    "execution": {
     "iopub.execute_input": "2025-08-05T15:42:49.940793Z",
     "iopub.status.busy": "2025-08-05T15:42:49.940025Z",
     "iopub.status.idle": "2025-08-05T15:42:49.945202Z",
     "shell.execute_reply": "2025-08-05T15:42:49.944212Z"
    },
    "papermill": {
     "duration": 0.026415,
     "end_time": "2025-08-05T15:42:49.946955",
     "exception": false,
     "start_time": "2025-08-05T15:42:49.920540",
     "status": "completed"
    },
    "tags": []
   },
   "outputs": [],
   "source": [
    "#siab_train.shape"
   ]
  },
  {
   "cell_type": "code",
   "execution_count": 13,
   "id": "d582db68-1a4c-47fb-84fc-08518dc1975a",
   "metadata": {
    "execution": {
     "iopub.execute_input": "2025-08-05T15:42:49.985678Z",
     "iopub.status.busy": "2025-08-05T15:42:49.984879Z",
     "iopub.status.idle": "2025-08-05T15:42:49.990246Z",
     "shell.execute_reply": "2025-08-05T15:42:49.989121Z"
    },
    "papermill": {
     "duration": 0.026407,
     "end_time": "2025-08-05T15:42:49.992228",
     "exception": false,
     "start_time": "2025-08-05T15:42:49.965821",
     "status": "completed"
    },
    "tags": []
   },
   "outputs": [],
   "source": [
    "#display(siab_train.groupby(\"year\").size())"
   ]
  },
  {
   "cell_type": "code",
   "execution_count": 14,
   "id": "a561edb4-d032-42cb-8256-22eac1111c64",
   "metadata": {
    "execution": {
     "iopub.execute_input": "2025-08-05T15:42:50.030617Z",
     "iopub.status.busy": "2025-08-05T15:42:50.030089Z",
     "iopub.status.idle": "2025-08-05T15:42:50.271735Z",
     "shell.execute_reply": "2025-08-05T15:42:50.270981Z"
    },
    "papermill": {
     "duration": 0.262179,
     "end_time": "2025-08-05T15:42:50.273083",
     "exception": false,
     "start_time": "2025-08-05T15:42:50.010904",
     "status": "completed"
    },
    "tags": []
   },
   "outputs": [],
   "source": [
    "#siab_train = siab_s[siab_s.year < 2015]\n",
    "siab_calib = siab[siab.year == 2015]\n",
    "siab_test = siab[siab.year == 2016]"
   ]
  },
  {
   "cell_type": "code",
   "execution_count": 15,
   "id": "472de16f-c3db-4916-846b-1f0de9cf1746",
   "metadata": {
    "execution": {
     "iopub.execute_input": "2025-08-05T15:42:50.292764Z",
     "iopub.status.busy": "2025-08-05T15:42:50.292280Z",
     "iopub.status.idle": "2025-08-05T15:42:50.298705Z",
     "shell.execute_reply": "2025-08-05T15:42:50.297920Z"
    },
    "papermill": {
     "duration": 0.018305,
     "end_time": "2025-08-05T15:42:50.301082",
     "exception": false,
     "start_time": "2025-08-05T15:42:50.282777",
     "status": "completed"
    },
    "tags": []
   },
   "outputs": [],
   "source": [
    "X_train = siab_train.iloc[:,4:164]\n",
    "y_train = siab_train.iloc[:, [3]]"
   ]
  },
  {
   "cell_type": "code",
   "execution_count": 16,
   "id": "828c96af-f43a-4ed6-ba47-8ac73a47d56c",
   "metadata": {
    "execution": {
     "iopub.execute_input": "2025-08-05T15:42:50.323895Z",
     "iopub.status.busy": "2025-08-05T15:42:50.323668Z",
     "iopub.status.idle": "2025-08-05T15:42:50.374831Z",
     "shell.execute_reply": "2025-08-05T15:42:50.373652Z"
    },
    "papermill": {
     "duration": 0.063639,
     "end_time": "2025-08-05T15:42:50.376802",
     "exception": false,
     "start_time": "2025-08-05T15:42:50.313163",
     "status": "completed"
    },
    "tags": []
   },
   "outputs": [],
   "source": [
    "X_calib = siab_calib.iloc[:,4:164]\n",
    "y_calib = siab_calib.iloc[:, [3]]"
   ]
  },
  {
   "cell_type": "code",
   "execution_count": 17,
   "id": "c34be9c3-6bd6-476e-acd3-845840e303be",
   "metadata": {
    "execution": {
     "iopub.execute_input": "2025-08-05T15:42:50.416088Z",
     "iopub.status.busy": "2025-08-05T15:42:50.415387Z",
     "iopub.status.idle": "2025-08-05T15:42:50.475274Z",
     "shell.execute_reply": "2025-08-05T15:42:50.474416Z"
    },
    "papermill": {
     "duration": 0.081485,
     "end_time": "2025-08-05T15:42:50.477821",
     "exception": false,
     "start_time": "2025-08-05T15:42:50.396336",
     "status": "completed"
    },
    "tags": []
   },
   "outputs": [],
   "source": [
    "X_test = siab_test.iloc[:,4:164]\n",
    "y_true = siab_test.iloc[:, [3]]"
   ]
  },
  {
   "cell_type": "code",
   "execution_count": 18,
   "id": "e6c733c5",
   "metadata": {
    "execution": {
     "iopub.execute_input": "2025-08-05T15:42:50.518281Z",
     "iopub.status.busy": "2025-08-05T15:42:50.517378Z",
     "iopub.status.idle": "2025-08-05T15:42:50.622272Z",
     "shell.execute_reply": "2025-08-05T15:42:50.621218Z"
    },
    "papermill": {
     "duration": 0.1259,
     "end_time": "2025-08-05T15:42:50.624176",
     "exception": false,
     "start_time": "2025-08-05T15:42:50.498276",
     "status": "completed"
    },
    "tags": []
   },
   "outputs": [],
   "source": [
    "# Auxiliary data needed downstream in the pipeline\n",
    "\n",
    "org_train = X_train.copy()\n",
    "org_test = X_test.copy()\n",
    "org_calib = X_calib.copy()"
   ]
  },
  {
   "cell_type": "markdown",
   "id": "0a4a1b33",
   "metadata": {
    "papermill": {
     "duration": 0.008828,
     "end_time": "2025-08-05T15:42:50.645063",
     "exception": false,
     "start_time": "2025-08-05T15:42:50.636235",
     "status": "completed"
    },
    "tags": []
   },
   "source": [
    "# Preprocessing Data"
   ]
  },
  {
   "cell_type": "code",
   "execution_count": 19,
   "id": "ca879031",
   "metadata": {
    "execution": {
     "iopub.execute_input": "2025-08-05T15:42:50.665637Z",
     "iopub.status.busy": "2025-08-05T15:42:50.665197Z",
     "iopub.status.idle": "2025-08-05T15:42:50.671902Z",
     "shell.execute_reply": "2025-08-05T15:42:50.670803Z"
    },
    "papermill": {
     "duration": 0.018797,
     "end_time": "2025-08-05T15:42:50.673843",
     "exception": false,
     "start_time": "2025-08-05T15:42:50.655046",
     "status": "completed"
    },
    "tags": []
   },
   "outputs": [],
   "source": [
    "# EXCLUDE PROTECTED FEATURES\n",
    "# ----------------------\n",
    "# \"exclude_features\": \"none\", # \"nationality\", \"sex\", \"nationality-sex\"\n",
    "\n",
    "excluded_features = universe[\"exclude_features\"].split(\"-\") # split, e.g.: \"nationality-sex\" -> [\"nationality\", \"sex\"]\n",
    "excluded_features_dictionary = {\n",
    "    \"nationality\": [\"maxdeutsch1\", \"maxdeutsch.Missing.\"],\n",
    "    \"sex\": [\"frau1\"],\n",
    "    \"age\": [\"age\"],\n",
    "}"
   ]
  },
  {
   "cell_type": "code",
   "execution_count": 20,
   "id": "b745ac60",
   "metadata": {
    "execution": {
     "iopub.execute_input": "2025-08-05T15:42:50.713428Z",
     "iopub.status.busy": "2025-08-05T15:42:50.712594Z",
     "iopub.status.idle": "2025-08-05T15:42:50.719347Z",
     "shell.execute_reply": "2025-08-05T15:42:50.718228Z"
    },
    "papermill": {
     "duration": 0.02806,
     "end_time": "2025-08-05T15:42:50.721212",
     "exception": false,
     "start_time": "2025-08-05T15:42:50.693152",
     "status": "completed"
    },
    "tags": []
   },
   "outputs": [],
   "source": [
    "# Code nice names to column names\n",
    "\n",
    "excluded_features_columns = [\n",
    "    excluded_features_dictionary[f] for f in excluded_features if len(f) > 0 and f != \"none\"\n",
    "]"
   ]
  },
  {
   "cell_type": "code",
   "execution_count": 21,
   "id": "f84f73a2",
   "metadata": {
    "execution": {
     "iopub.execute_input": "2025-08-05T15:42:50.764457Z",
     "iopub.status.busy": "2025-08-05T15:42:50.763705Z",
     "iopub.status.idle": "2025-08-05T15:42:50.770714Z",
     "shell.execute_reply": "2025-08-05T15:42:50.769598Z"
    },
    "papermill": {
     "duration": 0.030423,
     "end_time": "2025-08-05T15:42:50.772572",
     "exception": false,
     "start_time": "2025-08-05T15:42:50.742149",
     "status": "completed"
    },
    "tags": []
   },
   "outputs": [],
   "source": [
    "from utils import flatten_once\n",
    "\n",
    "excluded_features_columns = flatten_once(excluded_features_columns)"
   ]
  },
  {
   "cell_type": "code",
   "execution_count": 22,
   "id": "884dea22",
   "metadata": {
    "execution": {
     "iopub.execute_input": "2025-08-05T15:42:50.814594Z",
     "iopub.status.busy": "2025-08-05T15:42:50.813996Z",
     "iopub.status.idle": "2025-08-05T15:42:50.826287Z",
     "shell.execute_reply": "2025-08-05T15:42:50.825242Z"
    },
    "papermill": {
     "duration": 0.035083,
     "end_time": "2025-08-05T15:42:50.827984",
     "exception": false,
     "start_time": "2025-08-05T15:42:50.792901",
     "status": "completed"
    },
    "tags": []
   },
   "outputs": [
    {
     "name": "stdout",
     "output_type": "stream",
     "text": [
      "Dropping features: ['maxdeutsch1', 'maxdeutsch.Missing.', 'frau1']\n"
     ]
    }
   ],
   "source": [
    "if len(excluded_features_columns) > 0:\n",
    "    print(f\"Dropping features: {excluded_features_columns}\")\n",
    "    X_train.drop(excluded_features_columns, axis=1, inplace=True)"
   ]
  },
  {
   "cell_type": "code",
   "execution_count": 23,
   "id": "95ab8b16",
   "metadata": {
    "execution": {
     "iopub.execute_input": "2025-08-05T15:42:50.871005Z",
     "iopub.status.busy": "2025-08-05T15:42:50.870499Z",
     "iopub.status.idle": "2025-08-05T15:42:50.928435Z",
     "shell.execute_reply": "2025-08-05T15:42:50.927334Z"
    },
    "papermill": {
     "duration": 0.081689,
     "end_time": "2025-08-05T15:42:50.930448",
     "exception": false,
     "start_time": "2025-08-05T15:42:50.848759",
     "status": "completed"
    },
    "tags": []
   },
   "outputs": [
    {
     "name": "stdout",
     "output_type": "stream",
     "text": [
      "Dropping features: ['maxdeutsch1', 'maxdeutsch.Missing.', 'frau1']\n"
     ]
    }
   ],
   "source": [
    "if len(excluded_features_columns) > 0:\n",
    "    print(f\"Dropping features: {excluded_features_columns}\")\n",
    "    X_test.drop(excluded_features_columns, axis=1, inplace=True)"
   ]
  },
  {
   "cell_type": "code",
   "execution_count": 24,
   "id": "1853aaf5-fb9f-46cb-a2b5-8ea4ae2237e4",
   "metadata": {
    "execution": {
     "iopub.execute_input": "2025-08-05T15:42:50.971989Z",
     "iopub.status.busy": "2025-08-05T15:42:50.971151Z",
     "iopub.status.idle": "2025-08-05T15:42:51.026354Z",
     "shell.execute_reply": "2025-08-05T15:42:51.025185Z"
    },
    "papermill": {
     "duration": 0.077422,
     "end_time": "2025-08-05T15:42:51.028433",
     "exception": false,
     "start_time": "2025-08-05T15:42:50.951011",
     "status": "completed"
    },
    "tags": []
   },
   "outputs": [
    {
     "name": "stdout",
     "output_type": "stream",
     "text": [
      "Dropping features: ['maxdeutsch1', 'maxdeutsch.Missing.', 'frau1']\n"
     ]
    }
   ],
   "source": [
    "if len(excluded_features_columns) > 0:\n",
    "    print(f\"Dropping features: {excluded_features_columns}\")\n",
    "    X_calib.drop(excluded_features_columns, axis=1, inplace=True)"
   ]
  },
  {
   "cell_type": "code",
   "execution_count": 25,
   "id": "76c4dc6d",
   "metadata": {
    "execution": {
     "iopub.execute_input": "2025-08-05T15:42:51.070363Z",
     "iopub.status.busy": "2025-08-05T15:42:51.069601Z",
     "iopub.status.idle": "2025-08-05T15:42:51.075131Z",
     "shell.execute_reply": "2025-08-05T15:42:51.074062Z"
    },
    "papermill": {
     "duration": 0.027723,
     "end_time": "2025-08-05T15:42:51.076986",
     "exception": false,
     "start_time": "2025-08-05T15:42:51.049263",
     "status": "completed"
    },
    "tags": []
   },
   "outputs": [],
   "source": [
    "# EXCLUDE CERTAIN SUBGROUPS\n",
    "# ----------------------\n",
    "\n",
    "mode = universe.get(\"exclude_subgroups\", \"keep-all\") \n",
    "# Fetches the exclude_subgroups setting from the universe dict.\n",
    "# Defaults to \"keep-all\" if the key is missing."
   ]
  },
  {
   "cell_type": "code",
   "execution_count": 26,
   "id": "21994072",
   "metadata": {
    "execution": {
     "iopub.execute_input": "2025-08-05T15:42:51.120673Z",
     "iopub.status.busy": "2025-08-05T15:42:51.119342Z",
     "iopub.status.idle": "2025-08-05T15:42:51.126924Z",
     "shell.execute_reply": "2025-08-05T15:42:51.125825Z"
    },
    "papermill": {
     "duration": 0.030685,
     "end_time": "2025-08-05T15:42:51.128694",
     "exception": false,
     "start_time": "2025-08-05T15:42:51.098009",
     "status": "completed"
    },
    "tags": []
   },
   "outputs": [],
   "source": [
    "if mode == \"keep-all\":\n",
    "    keep_mask = pd.Series(True, index=org_train.index)\n",
    "\n",
    "# org_train contains the original feature columns from features_org (in Simson)\n",
    "# features_org contains unprocessed features, for me X_train at beginning ???\n",
    "# For keep-all, creates a boolean Series (keep_mask) of all True, so no rows are removed.\n",
    "\n",
    "elif mode == \"drop-non-german\":\n",
    "    keep_mask = org_train[\"maxdeutsch1\"] == 1 # ??? what about missing values?\n",
    "\n",
    "else:\n",
    "    raise ValueError(f\"Unsupported mode for exclude_subgroups: {mode}\")"
   ]
  },
  {
   "cell_type": "code",
   "execution_count": 27,
   "id": "71651440",
   "metadata": {
    "execution": {
     "iopub.execute_input": "2025-08-05T15:42:51.165654Z",
     "iopub.status.busy": "2025-08-05T15:42:51.165175Z",
     "iopub.status.idle": "2025-08-05T15:42:51.173645Z",
     "shell.execute_reply": "2025-08-05T15:42:51.172665Z"
    },
    "papermill": {
     "duration": 0.027145,
     "end_time": "2025-08-05T15:42:51.175119",
     "exception": false,
     "start_time": "2025-08-05T15:42:51.147974",
     "status": "completed"
    },
    "tags": []
   },
   "outputs": [
    {
     "name": "stdout",
     "output_type": "stream",
     "text": [
      "Dropping 665 rows (13.30%) where mode='drop-non-german'\n"
     ]
    }
   ],
   "source": [
    "n_drop = (~keep_mask).sum() # Calculates how many rows are set to be dropped\n",
    "if n_drop > 0:\n",
    "    pct = n_drop / len(keep_mask) * 100\n",
    "    print(f\"Dropping {n_drop} rows ({pct:.2f}%) where mode='{mode}'\")"
   ]
  },
  {
   "cell_type": "code",
   "execution_count": 28,
   "id": "5fb8eee5",
   "metadata": {
    "execution": {
     "iopub.execute_input": "2025-08-05T15:42:51.211166Z",
     "iopub.status.busy": "2025-08-05T15:42:51.210831Z",
     "iopub.status.idle": "2025-08-05T15:42:51.218718Z",
     "shell.execute_reply": "2025-08-05T15:42:51.217701Z"
    },
    "papermill": {
     "duration": 0.028566,
     "end_time": "2025-08-05T15:42:51.220589",
     "exception": false,
     "start_time": "2025-08-05T15:42:51.192023",
     "status": "completed"
    },
    "tags": []
   },
   "outputs": [],
   "source": [
    "X_train = X_train[keep_mask]"
   ]
  },
  {
   "cell_type": "code",
   "execution_count": 29,
   "id": "b202bb3a",
   "metadata": {
    "execution": {
     "iopub.execute_input": "2025-08-05T15:42:51.258104Z",
     "iopub.status.busy": "2025-08-05T15:42:51.257461Z",
     "iopub.status.idle": "2025-08-05T15:42:51.262818Z",
     "shell.execute_reply": "2025-08-05T15:42:51.261756Z"
    },
    "papermill": {
     "duration": 0.026928,
     "end_time": "2025-08-05T15:42:51.264575",
     "exception": false,
     "start_time": "2025-08-05T15:42:51.237647",
     "status": "completed"
    },
    "tags": []
   },
   "outputs": [],
   "source": [
    "y_train = y_train[keep_mask]"
   ]
  },
  {
   "cell_type": "markdown",
   "id": "493e2ac3",
   "metadata": {
    "papermill": {
     "duration": 0.019044,
     "end_time": "2025-08-05T15:42:51.303127",
     "exception": false,
     "start_time": "2025-08-05T15:42:51.284083",
     "status": "completed"
    },
    "tags": []
   },
   "source": [
    "# Model Training"
   ]
  },
  {
   "cell_type": "code",
   "execution_count": 30,
   "id": "679e1268",
   "metadata": {
    "execution": {
     "iopub.execute_input": "2025-08-05T15:42:51.339941Z",
     "iopub.status.busy": "2025-08-05T15:42:51.339530Z",
     "iopub.status.idle": "2025-08-05T15:42:51.447578Z",
     "shell.execute_reply": "2025-08-05T15:42:51.446474Z"
    },
    "papermill": {
     "duration": 0.131079,
     "end_time": "2025-08-05T15:42:51.450023",
     "exception": false,
     "start_time": "2025-08-05T15:42:51.318944",
     "status": "completed"
    },
    "tags": []
   },
   "outputs": [],
   "source": [
    "from sklearn.linear_model import LogisticRegression\n",
    "from sklearn.ensemble import GradientBoostingClassifier, RandomForestClassifier\n",
    "\n",
    "if (universe[\"model\"] == \"logreg\"):\n",
    "    model = LogisticRegression() #penalty=\"none\", solver=\"newton-cg\", max_iter=1) # include random_state=19 ?\n",
    "elif (universe[\"model\"] == \"penalized_logreg\"):\n",
    "    model = LogisticRegression(penalty=\"l2\", C=0.1) #, solver=\"newton-cg\", max_iter=1)\n",
    "elif (universe[\"model\"] == \"rf\"):\n",
    "    model = RandomForestClassifier() # n_estimators=100, n_jobs=-1\n",
    "elif (universe[\"model\"] == \"gbm\"):\n",
    "    model = GradientBoostingClassifier()\n",
    "elif (universe[\"model\"] == \"elasticnet\"):\n",
    "    model = LogisticRegression(penalty = 'elasticnet', solver = 'saga', l1_ratio = 0.5) # max_iter=5000\n",
    "else:\n",
    "    raise \"Unsupported universe.model\""
   ]
  },
  {
   "cell_type": "code",
   "execution_count": 31,
   "id": "0cc8f744",
   "metadata": {
    "execution": {
     "iopub.execute_input": "2025-08-05T15:42:51.498868Z",
     "iopub.status.busy": "2025-08-05T15:42:51.498184Z",
     "iopub.status.idle": "2025-08-05T15:42:51.504804Z",
     "shell.execute_reply": "2025-08-05T15:42:51.503736Z"
    },
    "papermill": {
     "duration": 0.030999,
     "end_time": "2025-08-05T15:42:51.506732",
     "exception": false,
     "start_time": "2025-08-05T15:42:51.475733",
     "status": "completed"
    },
    "tags": []
   },
   "outputs": [],
   "source": [
    "import numpy as np\n",
    "from sklearn.pipeline import Pipeline\n",
    "from sklearn.preprocessing import StandardScaler\n",
    "\n",
    "model = Pipeline([\n",
    "    #(\"continuous_processor\", continuous_processor),\n",
    "    #(\"categorical_preprocessor\", categorical_preprocessor),\n",
    "    (\"scale\", StandardScaler() if universe[\"scale\"] == \"scale\" else None), \n",
    "    (\"model\", model),\n",
    "])"
   ]
  },
  {
   "cell_type": "code",
   "execution_count": 32,
   "id": "9442c04d",
   "metadata": {
    "execution": {
     "iopub.execute_input": "2025-08-05T15:42:51.543245Z",
     "iopub.status.busy": "2025-08-05T15:42:51.542469Z",
     "iopub.status.idle": "2025-08-05T15:42:51.677139Z",
     "shell.execute_reply": "2025-08-05T15:42:51.676120Z"
    },
    "papermill": {
     "duration": 0.154492,
     "end_time": "2025-08-05T15:42:51.678974",
     "exception": false,
     "start_time": "2025-08-05T15:42:51.524482",
     "status": "completed"
    },
    "tags": []
   },
   "outputs": [
    {
     "name": "stderr",
     "output_type": "stream",
     "text": [
      "/dss/dsshome1/0C/ra93lal2/.local/share/virtualenvs/CMA_Fairness_v2-3j10GkSs/lib/python3.10/site-packages/sklearn/linear_model/_logistic.py:444: ConvergenceWarning: lbfgs failed to converge (status=1):\n",
      "STOP: TOTAL NO. of ITERATIONS REACHED LIMIT.\n",
      "\n",
      "Increase the number of iterations (max_iter) or scale the data as shown in:\n",
      "    https://scikit-learn.org/stable/modules/preprocessing.html\n",
      "Please also refer to the documentation for alternative solver options:\n",
      "    https://scikit-learn.org/stable/modules/linear_model.html#logistic-regression\n",
      "  n_iter_i = _check_optimize_result(\n"
     ]
    },
    {
     "data": {
      "text/html": [
       "<style>#sk-container-id-1 {color: black;background-color: white;}#sk-container-id-1 pre{padding: 0;}#sk-container-id-1 div.sk-toggleable {background-color: white;}#sk-container-id-1 label.sk-toggleable__label {cursor: pointer;display: block;width: 100%;margin-bottom: 0;padding: 0.3em;box-sizing: border-box;text-align: center;}#sk-container-id-1 label.sk-toggleable__label-arrow:before {content: \"▸\";float: left;margin-right: 0.25em;color: #696969;}#sk-container-id-1 label.sk-toggleable__label-arrow:hover:before {color: black;}#sk-container-id-1 div.sk-estimator:hover label.sk-toggleable__label-arrow:before {color: black;}#sk-container-id-1 div.sk-toggleable__content {max-height: 0;max-width: 0;overflow: hidden;text-align: left;background-color: #f0f8ff;}#sk-container-id-1 div.sk-toggleable__content pre {margin: 0.2em;color: black;border-radius: 0.25em;background-color: #f0f8ff;}#sk-container-id-1 input.sk-toggleable__control:checked~div.sk-toggleable__content {max-height: 200px;max-width: 100%;overflow: auto;}#sk-container-id-1 input.sk-toggleable__control:checked~label.sk-toggleable__label-arrow:before {content: \"▾\";}#sk-container-id-1 div.sk-estimator input.sk-toggleable__control:checked~label.sk-toggleable__label {background-color: #d4ebff;}#sk-container-id-1 div.sk-label input.sk-toggleable__control:checked~label.sk-toggleable__label {background-color: #d4ebff;}#sk-container-id-1 input.sk-hidden--visually {border: 0;clip: rect(1px 1px 1px 1px);clip: rect(1px, 1px, 1px, 1px);height: 1px;margin: -1px;overflow: hidden;padding: 0;position: absolute;width: 1px;}#sk-container-id-1 div.sk-estimator {font-family: monospace;background-color: #f0f8ff;border: 1px dotted black;border-radius: 0.25em;box-sizing: border-box;margin-bottom: 0.5em;}#sk-container-id-1 div.sk-estimator:hover {background-color: #d4ebff;}#sk-container-id-1 div.sk-parallel-item::after {content: \"\";width: 100%;border-bottom: 1px solid gray;flex-grow: 1;}#sk-container-id-1 div.sk-label:hover label.sk-toggleable__label {background-color: #d4ebff;}#sk-container-id-1 div.sk-serial::before {content: \"\";position: absolute;border-left: 1px solid gray;box-sizing: border-box;top: 0;bottom: 0;left: 50%;z-index: 0;}#sk-container-id-1 div.sk-serial {display: flex;flex-direction: column;align-items: center;background-color: white;padding-right: 0.2em;padding-left: 0.2em;position: relative;}#sk-container-id-1 div.sk-item {position: relative;z-index: 1;}#sk-container-id-1 div.sk-parallel {display: flex;align-items: stretch;justify-content: center;background-color: white;position: relative;}#sk-container-id-1 div.sk-item::before, #sk-container-id-1 div.sk-parallel-item::before {content: \"\";position: absolute;border-left: 1px solid gray;box-sizing: border-box;top: 0;bottom: 0;left: 50%;z-index: -1;}#sk-container-id-1 div.sk-parallel-item {display: flex;flex-direction: column;z-index: 1;position: relative;background-color: white;}#sk-container-id-1 div.sk-parallel-item:first-child::after {align-self: flex-end;width: 50%;}#sk-container-id-1 div.sk-parallel-item:last-child::after {align-self: flex-start;width: 50%;}#sk-container-id-1 div.sk-parallel-item:only-child::after {width: 0;}#sk-container-id-1 div.sk-dashed-wrapped {border: 1px dashed gray;margin: 0 0.4em 0.5em 0.4em;box-sizing: border-box;padding-bottom: 0.4em;background-color: white;}#sk-container-id-1 div.sk-label label {font-family: monospace;font-weight: bold;display: inline-block;line-height: 1.2em;}#sk-container-id-1 div.sk-label-container {text-align: center;}#sk-container-id-1 div.sk-container {/* jupyter's `normalize.less` sets `[hidden] { display: none; }` but bootstrap.min.css set `[hidden] { display: none !important; }` so we also need the `!important` here to be able to override the default hidden behavior on the sphinx rendered scikit-learn.org. See: https://github.com/scikit-learn/scikit-learn/issues/21755 */display: inline-block !important;position: relative;}#sk-container-id-1 div.sk-text-repr-fallback {display: none;}</style><div id=\"sk-container-id-1\" class=\"sk-top-container\"><div class=\"sk-text-repr-fallback\"><pre>Pipeline(steps=[(&#x27;scale&#x27;, None), (&#x27;model&#x27;, LogisticRegression(C=0.1))])</pre><b>In a Jupyter environment, please rerun this cell to show the HTML representation or trust the notebook. <br />On GitHub, the HTML representation is unable to render, please try loading this page with nbviewer.org.</b></div><div class=\"sk-container\" hidden><div class=\"sk-item sk-dashed-wrapped\"><div class=\"sk-label-container\"><div class=\"sk-label sk-toggleable\"><input class=\"sk-toggleable__control sk-hidden--visually\" id=\"sk-estimator-id-1\" type=\"checkbox\" ><label for=\"sk-estimator-id-1\" class=\"sk-toggleable__label sk-toggleable__label-arrow\">Pipeline</label><div class=\"sk-toggleable__content\"><pre>Pipeline(steps=[(&#x27;scale&#x27;, None), (&#x27;model&#x27;, LogisticRegression(C=0.1))])</pre></div></div></div><div class=\"sk-serial\"><div class=\"sk-item\"><div class=\"sk-estimator sk-toggleable\"><input class=\"sk-toggleable__control sk-hidden--visually\" id=\"sk-estimator-id-2\" type=\"checkbox\" ><label for=\"sk-estimator-id-2\" class=\"sk-toggleable__label sk-toggleable__label-arrow\">None</label><div class=\"sk-toggleable__content\"><pre>None</pre></div></div></div><div class=\"sk-item\"><div class=\"sk-estimator sk-toggleable\"><input class=\"sk-toggleable__control sk-hidden--visually\" id=\"sk-estimator-id-3\" type=\"checkbox\" ><label for=\"sk-estimator-id-3\" class=\"sk-toggleable__label sk-toggleable__label-arrow\">LogisticRegression</label><div class=\"sk-toggleable__content\"><pre>LogisticRegression(C=0.1)</pre></div></div></div></div></div></div></div>"
      ],
      "text/plain": [
       "Pipeline(steps=[('scale', None), ('model', LogisticRegression(C=0.1))])"
      ]
     },
     "execution_count": 32,
     "metadata": {},
     "output_type": "execute_result"
    }
   ],
   "source": [
    "model.fit(X_train, y_train.values.ravel())"
   ]
  },
  {
   "cell_type": "code",
   "execution_count": 33,
   "id": "af59f8c0",
   "metadata": {
    "execution": {
     "iopub.execute_input": "2025-08-05T15:42:51.718510Z",
     "iopub.status.busy": "2025-08-05T15:42:51.717812Z",
     "iopub.status.idle": "2025-08-05T15:42:51.723529Z",
     "shell.execute_reply": "2025-08-05T15:42:51.722360Z"
    },
    "papermill": {
     "duration": 0.026005,
     "end_time": "2025-08-05T15:42:51.725572",
     "exception": false,
     "start_time": "2025-08-05T15:42:51.699567",
     "status": "completed"
    },
    "tags": []
   },
   "outputs": [],
   "source": [
    "from fairness_multiverse.universe import predict_w_threshold"
   ]
  },
  {
   "cell_type": "code",
   "execution_count": 34,
   "id": "a7cf2e16",
   "metadata": {
    "execution": {
     "iopub.execute_input": "2025-08-05T15:42:51.768849Z",
     "iopub.status.busy": "2025-08-05T15:42:51.768160Z",
     "iopub.status.idle": "2025-08-05T15:42:51.860872Z",
     "shell.execute_reply": "2025-08-05T15:42:51.859907Z"
    },
    "papermill": {
     "duration": 0.116158,
     "end_time": "2025-08-05T15:42:51.862833",
     "exception": false,
     "start_time": "2025-08-05T15:42:51.746675",
     "status": "completed"
    },
    "tags": []
   },
   "outputs": [
    {
     "data": {
      "text/plain": [
       "0.8584996098539739"
      ]
     },
     "execution_count": 34,
     "metadata": {},
     "output_type": "execute_result"
    }
   ],
   "source": [
    "probs_test = model.predict_proba(X_test)\n",
    "\n",
    "'''\n",
    "Below code returns a boolean array (or binary 0/1 array depending on how it’s used) where each element \n",
    "is True if the probability of class 1 is greater than or equal to the threshold, and False otherwise.\n",
    "'''\n",
    "y_pred_default = predict_w_threshold(probs_test, 0.5)\n",
    "\n",
    "from sklearn.metrics import accuracy_score\n",
    "\n",
    "# Naive prediction\n",
    "accuracy_score(y_true = y_true, y_pred = y_pred_default)"
   ]
  },
  {
   "cell_type": "code",
   "execution_count": 35,
   "id": "081964c3",
   "metadata": {
    "execution": {
     "iopub.execute_input": "2025-08-05T15:42:51.907089Z",
     "iopub.status.busy": "2025-08-05T15:42:51.906351Z",
     "iopub.status.idle": "2025-08-05T15:42:51.988928Z",
     "shell.execute_reply": "2025-08-05T15:42:51.988091Z"
    },
    "papermill": {
     "duration": 0.106182,
     "end_time": "2025-08-05T15:42:51.990813",
     "exception": false,
     "start_time": "2025-08-05T15:42:51.884631",
     "status": "completed"
    },
    "tags": []
   },
   "outputs": [
    {
     "data": {
      "text/plain": [
       "array([0, 0, 0, ..., 0, 0, 0])"
      ]
     },
     "execution_count": 35,
     "metadata": {},
     "output_type": "execute_result"
    }
   ],
   "source": [
    "model.predict(X_test)"
   ]
  },
  {
   "cell_type": "markdown",
   "id": "56c9705b",
   "metadata": {
    "papermill": {
     "duration": 0.020519,
     "end_time": "2025-08-05T15:42:52.031256",
     "exception": false,
     "start_time": "2025-08-05T15:42:52.010737",
     "status": "completed"
    },
    "tags": []
   },
   "source": [
    "# Conformal Prediction"
   ]
  },
  {
   "cell_type": "code",
   "execution_count": 36,
   "id": "160ec6ff",
   "metadata": {
    "execution": {
     "iopub.execute_input": "2025-08-05T15:42:52.067526Z",
     "iopub.status.busy": "2025-08-05T15:42:52.066708Z",
     "iopub.status.idle": "2025-08-05T15:42:52.071728Z",
     "shell.execute_reply": "2025-08-05T15:42:52.070744Z"
    },
    "papermill": {
     "duration": 0.026555,
     "end_time": "2025-08-05T15:42:52.073408",
     "exception": false,
     "start_time": "2025-08-05T15:42:52.046853",
     "status": "completed"
    },
    "tags": []
   },
   "outputs": [],
   "source": [
    "# Miscoverage level for conformal prediction (10% allowed error rate => 90% target coverage)\n",
    "alpha = 0.1"
   ]
  },
  {
   "cell_type": "code",
   "execution_count": 37,
   "id": "eadf4555-3dd3-440e-8e35-f82a4ad9f855",
   "metadata": {
    "execution": {
     "iopub.execute_input": "2025-08-05T15:42:52.114976Z",
     "iopub.status.busy": "2025-08-05T15:42:52.114137Z",
     "iopub.status.idle": "2025-08-05T15:42:52.194438Z",
     "shell.execute_reply": "2025-08-05T15:42:52.193397Z"
    },
    "papermill": {
     "duration": 0.101433,
     "end_time": "2025-08-05T15:42:52.195907",
     "exception": false,
     "start_time": "2025-08-05T15:42:52.094474",
     "status": "completed"
    },
    "tags": []
   },
   "outputs": [],
   "source": [
    "probs_calib = model.predict_proba(X_calib)"
   ]
  },
  {
   "cell_type": "code",
   "execution_count": 38,
   "id": "2ed93547-6d5d-4983-9b36-1ecb300da49a",
   "metadata": {
    "execution": {
     "iopub.execute_input": "2025-08-05T15:42:52.238136Z",
     "iopub.status.busy": "2025-08-05T15:42:52.237828Z",
     "iopub.status.idle": "2025-08-05T15:42:52.243382Z",
     "shell.execute_reply": "2025-08-05T15:42:52.242257Z"
    },
    "papermill": {
     "duration": 0.028984,
     "end_time": "2025-08-05T15:42:52.245046",
     "exception": false,
     "start_time": "2025-08-05T15:42:52.216062",
     "status": "completed"
    },
    "tags": []
   },
   "outputs": [],
   "source": [
    "y_calib = y_calib.values.ravel().astype(int)"
   ]
  },
  {
   "cell_type": "code",
   "execution_count": 39,
   "id": "65d1320d-f588-4b38-9072-62af1ae97f7d",
   "metadata": {
    "execution": {
     "iopub.execute_input": "2025-08-05T15:42:52.285983Z",
     "iopub.status.busy": "2025-08-05T15:42:52.285350Z",
     "iopub.status.idle": "2025-08-05T15:42:52.292799Z",
     "shell.execute_reply": "2025-08-05T15:42:52.291790Z"
    },
    "papermill": {
     "duration": 0.028505,
     "end_time": "2025-08-05T15:42:52.294686",
     "exception": false,
     "start_time": "2025-08-05T15:42:52.266181",
     "status": "completed"
    },
    "tags": []
   },
   "outputs": [],
   "source": [
    "from fairness_multiverse.conformal import compute_nc_scores\n",
    "\n",
    "# Compute nonconformity scores on calibration set (1 - probability of true class)\n",
    "nc_scores = compute_nc_scores(probs_calib, y_calib)"
   ]
  },
  {
   "cell_type": "code",
   "execution_count": 40,
   "id": "df3b8ca3-53b7-43d5-9667-7c85da7aeda2",
   "metadata": {
    "execution": {
     "iopub.execute_input": "2025-08-05T15:42:52.338593Z",
     "iopub.status.busy": "2025-08-05T15:42:52.337984Z",
     "iopub.status.idle": "2025-08-05T15:42:52.344092Z",
     "shell.execute_reply": "2025-08-05T15:42:52.343335Z"
    },
    "papermill": {
     "duration": 0.029242,
     "end_time": "2025-08-05T15:42:52.345581",
     "exception": false,
     "start_time": "2025-08-05T15:42:52.316339",
     "status": "completed"
    },
    "tags": []
   },
   "outputs": [],
   "source": [
    "from fairness_multiverse.conformal import find_threshold\n",
    "\n",
    "# Find conformal threshold q_hat for the given alpha (split conformal method)\n",
    "q_hat = find_threshold(nc_scores, alpha)"
   ]
  },
  {
   "cell_type": "code",
   "execution_count": 41,
   "id": "4d29e6c1-0ef6-4aa4-b8fe-4fe79b0d033a",
   "metadata": {
    "execution": {
     "iopub.execute_input": "2025-08-05T15:42:52.368790Z",
     "iopub.status.busy": "2025-08-05T15:42:52.368233Z",
     "iopub.status.idle": "2025-08-05T15:42:52.373908Z",
     "shell.execute_reply": "2025-08-05T15:42:52.373178Z"
    },
    "papermill": {
     "duration": 0.018079,
     "end_time": "2025-08-05T15:42:52.375155",
     "exception": false,
     "start_time": "2025-08-05T15:42:52.357076",
     "status": "completed"
    },
    "tags": []
   },
   "outputs": [
    {
     "data": {
      "text/plain": [
       "0.6799770122392004"
      ]
     },
     "execution_count": 41,
     "metadata": {},
     "output_type": "execute_result"
    }
   ],
   "source": [
    "q_hat"
   ]
  },
  {
   "cell_type": "code",
   "execution_count": 42,
   "id": "92460794-cdac-4be2-ba28-f28c0515a6fb",
   "metadata": {
    "execution": {
     "iopub.execute_input": "2025-08-05T15:42:52.396966Z",
     "iopub.status.busy": "2025-08-05T15:42:52.396489Z",
     "iopub.status.idle": "2025-08-05T15:42:53.191506Z",
     "shell.execute_reply": "2025-08-05T15:42:53.190522Z"
    },
    "papermill": {
     "duration": 0.807627,
     "end_time": "2025-08-05T15:42:53.193095",
     "exception": false,
     "start_time": "2025-08-05T15:42:52.385468",
     "status": "completed"
    },
    "tags": []
   },
   "outputs": [],
   "source": [
    "from fairness_multiverse.conformal import predict_conformal_sets\n",
    "\n",
    "# Generate prediction sets for each test example\n",
    "pred_sets = predict_conformal_sets(model, X_test, q_hat)"
   ]
  },
  {
   "cell_type": "code",
   "execution_count": 43,
   "id": "d90c9a65-e6db-4f5d-80cd-e68fb7e46829",
   "metadata": {
    "execution": {
     "iopub.execute_input": "2025-08-05T15:42:53.238359Z",
     "iopub.status.busy": "2025-08-05T15:42:53.237918Z",
     "iopub.status.idle": "2025-08-05T15:42:53.243562Z",
     "shell.execute_reply": "2025-08-05T15:42:53.242399Z"
    },
    "papermill": {
     "duration": 0.030342,
     "end_time": "2025-08-05T15:42:53.245374",
     "exception": false,
     "start_time": "2025-08-05T15:42:53.215032",
     "status": "completed"
    },
    "tags": []
   },
   "outputs": [],
   "source": [
    "y_true = y_true.squeeze()"
   ]
  },
  {
   "cell_type": "code",
   "execution_count": 44,
   "id": "3a58a54a-1e68-46b9-927a-df01f18aebc8",
   "metadata": {
    "execution": {
     "iopub.execute_input": "2025-08-05T15:42:53.290706Z",
     "iopub.status.busy": "2025-08-05T15:42:53.289934Z",
     "iopub.status.idle": "2025-08-05T15:42:54.034039Z",
     "shell.execute_reply": "2025-08-05T15:42:54.033150Z"
    },
    "papermill": {
     "duration": 0.768539,
     "end_time": "2025-08-05T15:42:54.035984",
     "exception": false,
     "start_time": "2025-08-05T15:42:53.267445",
     "status": "completed"
    },
    "tags": []
   },
   "outputs": [],
   "source": [
    "from fairness_multiverse.conformal import evaluate_sets\n",
    "\n",
    "# Evaluate coverage and average set size on test data\n",
    "metrics = evaluate_sets(pred_sets, y_true)"
   ]
  },
  {
   "cell_type": "markdown",
   "id": "2b569c12-9aaa-4c88-98c9-bbcd0cf3ebb8",
   "metadata": {
    "papermill": {
     "duration": 0.022655,
     "end_time": "2025-08-05T15:42:54.083014",
     "exception": false,
     "start_time": "2025-08-05T15:42:54.060359",
     "status": "completed"
    },
    "tags": []
   },
   "source": [
    "# CP Metrics"
   ]
  },
  {
   "cell_type": "code",
   "execution_count": 45,
   "id": "5ce0a5cb-201f-45a0-ade5-94c7f0bd6095",
   "metadata": {
    "execution": {
     "iopub.execute_input": "2025-08-05T15:42:54.129963Z",
     "iopub.status.busy": "2025-08-05T15:42:54.129048Z",
     "iopub.status.idle": "2025-08-05T15:42:54.137209Z",
     "shell.execute_reply": "2025-08-05T15:42:54.135983Z"
    },
    "papermill": {
     "duration": 0.03364,
     "end_time": "2025-08-05T15:42:54.139047",
     "exception": false,
     "start_time": "2025-08-05T15:42:54.105407",
     "status": "completed"
    },
    "tags": []
   },
   "outputs": [
    {
     "data": {
      "text/plain": [
       "{'coverage': 0.9114591461375543, 'avg_size': 1.20911826998105}"
      ]
     },
     "execution_count": 45,
     "metadata": {},
     "output_type": "execute_result"
    }
   ],
   "source": [
    "metrics"
   ]
  },
  {
   "cell_type": "code",
   "execution_count": 46,
   "id": "9b9a838d-31c9-430b-ae14-12baee460d17",
   "metadata": {
    "execution": {
     "iopub.execute_input": "2025-08-05T15:42:54.184282Z",
     "iopub.status.busy": "2025-08-05T15:42:54.183786Z",
     "iopub.status.idle": "2025-08-05T15:42:54.190831Z",
     "shell.execute_reply": "2025-08-05T15:42:54.189597Z"
    },
    "papermill": {
     "duration": 0.032032,
     "end_time": "2025-08-05T15:42:54.192835",
     "exception": false,
     "start_time": "2025-08-05T15:42:54.160803",
     "status": "completed"
    },
    "tags": []
   },
   "outputs": [],
   "source": [
    "example_universe = universe.copy()\n",
    "universe_training_year = example_universe.get(\"training_year\")\n",
    "universe_training_size = example_universe.get(\"training_size\")\n",
    "universe_scale = example_universe.get(\"scale\")\n",
    "universe_model = example_universe.get(\"model\")\n",
    "universe_exclude_features = example_universe.get(\"exclude_features\")\n",
    "universe_exclude_subgroups = example_universe.get(\"exclude_subgroups\")"
   ]
  },
  {
   "cell_type": "code",
   "execution_count": 47,
   "id": "f4b6a8ac-9dc0-4245-8a91-5b3b5999c4f9",
   "metadata": {
    "execution": {
     "iopub.execute_input": "2025-08-05T15:42:54.240026Z",
     "iopub.status.busy": "2025-08-05T15:42:54.239686Z",
     "iopub.status.idle": "2025-08-05T15:42:54.246156Z",
     "shell.execute_reply": "2025-08-05T15:42:54.244815Z"
    },
    "papermill": {
     "duration": 0.03137,
     "end_time": "2025-08-05T15:42:54.247996",
     "exception": false,
     "start_time": "2025-08-05T15:42:54.216626",
     "status": "completed"
    },
    "tags": []
   },
   "outputs": [],
   "source": [
    "cp_metrics_dict = {\n",
    "    \"universe_id\": [universe_id],\n",
    "    \"universe_training_year\": [universe_training_year],\n",
    "    \"universe_training_size\": [universe_training_size],\n",
    "    \"universe_scale\": [universe_scale],\n",
    "    \"universe_model\": [universe_model],\n",
    "    \"universe_exclude_features\": [universe_exclude_features],\n",
    "    \"universe_exclude_subgroups\": [universe_exclude_subgroups],\n",
    "    \"q_hat\": [q_hat],\n",
    "    \"coverage\": [metrics[\"coverage\"]],\n",
    "    \"avg_size\": [metrics[\"avg_size\"]],\n",
    "}"
   ]
  },
  {
   "cell_type": "code",
   "execution_count": 48,
   "id": "908acbb1-0371-4915-85ca-3fa520d2efe2",
   "metadata": {
    "execution": {
     "iopub.execute_input": "2025-08-05T15:42:54.296712Z",
     "iopub.status.busy": "2025-08-05T15:42:54.296376Z",
     "iopub.status.idle": "2025-08-05T15:42:54.304093Z",
     "shell.execute_reply": "2025-08-05T15:42:54.302906Z"
    },
    "papermill": {
     "duration": 0.03382,
     "end_time": "2025-08-05T15:42:54.306056",
     "exception": false,
     "start_time": "2025-08-05T15:42:54.272236",
     "status": "completed"
    },
    "tags": []
   },
   "outputs": [
    {
     "data": {
      "text/plain": [
       "{'universe_id': ['cc6dc10bb7359f2c754f99d566daf5e1'],\n",
       " 'universe_training_year': ['2012_14'],\n",
       " 'universe_training_size': ['5k'],\n",
       " 'universe_scale': ['do-not-scale'],\n",
       " 'universe_model': ['penalized_logreg'],\n",
       " 'universe_exclude_features': ['nationality-sex'],\n",
       " 'universe_exclude_subgroups': ['drop-non-german'],\n",
       " 'q_hat': [0.6799770122392004],\n",
       " 'coverage': [0.9114591461375543],\n",
       " 'avg_size': [1.20911826998105]}"
      ]
     },
     "execution_count": 48,
     "metadata": {},
     "output_type": "execute_result"
    }
   ],
   "source": [
    "cp_metrics_dict"
   ]
  },
  {
   "cell_type": "code",
   "execution_count": 49,
   "id": "33007efc-14e9-4ec6-97ac-56a455c82265",
   "metadata": {
    "execution": {
     "iopub.execute_input": "2025-08-05T15:42:54.352019Z",
     "iopub.status.busy": "2025-08-05T15:42:54.351355Z",
     "iopub.status.idle": "2025-08-05T15:42:54.357751Z",
     "shell.execute_reply": "2025-08-05T15:42:54.356494Z"
    },
    "papermill": {
     "duration": 0.031856,
     "end_time": "2025-08-05T15:42:54.359697",
     "exception": false,
     "start_time": "2025-08-05T15:42:54.327841",
     "status": "completed"
    },
    "tags": []
   },
   "outputs": [],
   "source": [
    "cp_metrics_df = pd.DataFrame(cp_metrics_dict)"
   ]
  },
  {
   "cell_type": "code",
   "execution_count": 50,
   "id": "db12611b-57b2-4910-b9d0-355adfd6e7bf",
   "metadata": {
    "execution": {
     "iopub.execute_input": "2025-08-05T15:42:54.409245Z",
     "iopub.status.busy": "2025-08-05T15:42:54.408410Z",
     "iopub.status.idle": "2025-08-05T15:42:54.428087Z",
     "shell.execute_reply": "2025-08-05T15:42:54.427178Z"
    },
    "papermill": {
     "duration": 0.045741,
     "end_time": "2025-08-05T15:42:54.429888",
     "exception": false,
     "start_time": "2025-08-05T15:42:54.384147",
     "status": "completed"
    },
    "tags": []
   },
   "outputs": [
    {
     "data": {
      "text/html": [
       "<div>\n",
       "<style scoped>\n",
       "    .dataframe tbody tr th:only-of-type {\n",
       "        vertical-align: middle;\n",
       "    }\n",
       "\n",
       "    .dataframe tbody tr th {\n",
       "        vertical-align: top;\n",
       "    }\n",
       "\n",
       "    .dataframe thead th {\n",
       "        text-align: right;\n",
       "    }\n",
       "</style>\n",
       "<table border=\"1\" class=\"dataframe\">\n",
       "  <thead>\n",
       "    <tr style=\"text-align: right;\">\n",
       "      <th></th>\n",
       "      <th>universe_id</th>\n",
       "      <th>universe_training_year</th>\n",
       "      <th>universe_training_size</th>\n",
       "      <th>universe_scale</th>\n",
       "      <th>universe_model</th>\n",
       "      <th>universe_exclude_features</th>\n",
       "      <th>universe_exclude_subgroups</th>\n",
       "      <th>q_hat</th>\n",
       "      <th>coverage</th>\n",
       "      <th>avg_size</th>\n",
       "    </tr>\n",
       "  </thead>\n",
       "  <tbody>\n",
       "    <tr>\n",
       "      <th>0</th>\n",
       "      <td>cc6dc10bb7359f2c754f99d566daf5e1</td>\n",
       "      <td>2012_14</td>\n",
       "      <td>5k</td>\n",
       "      <td>do-not-scale</td>\n",
       "      <td>penalized_logreg</td>\n",
       "      <td>nationality-sex</td>\n",
       "      <td>drop-non-german</td>\n",
       "      <td>0.679977</td>\n",
       "      <td>0.911459</td>\n",
       "      <td>1.209118</td>\n",
       "    </tr>\n",
       "  </tbody>\n",
       "</table>\n",
       "</div>"
      ],
      "text/plain": [
       "                        universe_id universe_training_year  \\\n",
       "0  cc6dc10bb7359f2c754f99d566daf5e1                2012_14   \n",
       "\n",
       "  universe_training_size universe_scale    universe_model  \\\n",
       "0                     5k   do-not-scale  penalized_logreg   \n",
       "\n",
       "  universe_exclude_features universe_exclude_subgroups     q_hat  coverage  \\\n",
       "0           nationality-sex            drop-non-german  0.679977  0.911459   \n",
       "\n",
       "   avg_size  \n",
       "0  1.209118  "
      ]
     },
     "execution_count": 50,
     "metadata": {},
     "output_type": "execute_result"
    }
   ],
   "source": [
    "cp_metrics_df"
   ]
  },
  {
   "cell_type": "code",
   "execution_count": 51,
   "id": "b7fbde55-a0a1-47e4-9af6-fe4a17fa8c61",
   "metadata": {
    "execution": {
     "iopub.execute_input": "2025-08-05T15:42:54.479258Z",
     "iopub.status.busy": "2025-08-05T15:42:54.478542Z",
     "iopub.status.idle": "2025-08-05T15:42:54.483901Z",
     "shell.execute_reply": "2025-08-05T15:42:54.482687Z"
    },
    "papermill": {
     "duration": 0.03386,
     "end_time": "2025-08-05T15:42:54.485939",
     "exception": false,
     "start_time": "2025-08-05T15:42:54.452079",
     "status": "completed"
    },
    "tags": []
   },
   "outputs": [],
   "source": [
    "# Conditional Coverage & looking at subgroups"
   ]
  },
  {
   "cell_type": "code",
   "execution_count": 52,
   "id": "027ae886-68dd-4141-96c7-805a5450e1ef",
   "metadata": {
    "execution": {
     "iopub.execute_input": "2025-08-05T15:42:54.531161Z",
     "iopub.status.busy": "2025-08-05T15:42:54.530807Z",
     "iopub.status.idle": "2025-08-05T15:42:54.805753Z",
     "shell.execute_reply": "2025-08-05T15:42:54.804565Z"
    },
    "papermill": {
     "duration": 0.299662,
     "end_time": "2025-08-05T15:42:54.807699",
     "exception": false,
     "start_time": "2025-08-05T15:42:54.508037",
     "status": "completed"
    },
    "tags": []
   },
   "outputs": [],
   "source": [
    "from fairness_multiverse.conformal import build_cp_groups\n",
    "\n",
    "cp_groups_df = build_cp_groups(pred_sets, y_true, X_test.index, org_test)\n",
    "#needs universe_id and setting"
   ]
  },
  {
   "cell_type": "code",
   "execution_count": 53,
   "id": "6cbdab96-b2b2-45af-ad54-d0516db2e28d",
   "metadata": {
    "execution": {
     "iopub.execute_input": "2025-08-05T15:42:54.855643Z",
     "iopub.status.busy": "2025-08-05T15:42:54.855188Z",
     "iopub.status.idle": "2025-08-05T15:42:56.350903Z",
     "shell.execute_reply": "2025-08-05T15:42:56.349973Z"
    },
    "papermill": {
     "duration": 1.520415,
     "end_time": "2025-08-05T15:42:56.352753",
     "exception": false,
     "start_time": "2025-08-05T15:42:54.832338",
     "status": "completed"
    },
    "tags": []
   },
   "outputs": [],
   "source": [
    "# Define covered = 1 if true_label is in the predicted set\n",
    "cp_groups_df['covered'] = cp_groups_df.apply(\n",
    "    lambda r: int(r['true_label'] in r['pred_set']),\n",
    "    axis=1\n",
    ")"
   ]
  },
  {
   "cell_type": "code",
   "execution_count": 54,
   "id": "338ff529-1a6b-4b87-a931-8e4788d52aad",
   "metadata": {
    "execution": {
     "iopub.execute_input": "2025-08-05T15:42:56.398836Z",
     "iopub.status.busy": "2025-08-05T15:42:56.398426Z",
     "iopub.status.idle": "2025-08-05T15:42:56.403594Z",
     "shell.execute_reply": "2025-08-05T15:42:56.402530Z"
    },
    "papermill": {
     "duration": 0.029747,
     "end_time": "2025-08-05T15:42:56.405315",
     "exception": false,
     "start_time": "2025-08-05T15:42:56.375568",
     "status": "completed"
    },
    "tags": []
   },
   "outputs": [],
   "source": [
    "#cp_groups_df"
   ]
  },
  {
   "cell_type": "code",
   "execution_count": 55,
   "id": "90032e27-66df-4540-9169-4e89cfbaa758",
   "metadata": {
    "execution": {
     "iopub.execute_input": "2025-08-05T15:42:56.453117Z",
     "iopub.status.busy": "2025-08-05T15:42:56.452331Z",
     "iopub.status.idle": "2025-08-05T15:42:56.463950Z",
     "shell.execute_reply": "2025-08-05T15:42:56.462904Z"
    },
    "papermill": {
     "duration": 0.036637,
     "end_time": "2025-08-05T15:42:56.465715",
     "exception": false,
     "start_time": "2025-08-05T15:42:56.429078",
     "status": "completed"
    },
    "tags": []
   },
   "outputs": [],
   "source": [
    "subgroups = ['frau1','nongerman','nongerman_male','nongerman_female']\n",
    "\n",
    "# Conditional coverage for subgroup==1\n",
    "cond_coverage = {\n",
    "    g: cp_groups_df.loc[cp_groups_df[g]==1, 'covered'].mean()\n",
    "    for g in subgroups\n",
    "}"
   ]
  },
  {
   "cell_type": "code",
   "execution_count": 56,
   "id": "1e348fb1-b9c3-45bc-ba23-f016827a7e0d",
   "metadata": {
    "execution": {
     "iopub.execute_input": "2025-08-05T15:42:56.512340Z",
     "iopub.status.busy": "2025-08-05T15:42:56.511571Z",
     "iopub.status.idle": "2025-08-05T15:42:56.519385Z",
     "shell.execute_reply": "2025-08-05T15:42:56.518278Z"
    },
    "papermill": {
     "duration": 0.032922,
     "end_time": "2025-08-05T15:42:56.521159",
     "exception": false,
     "start_time": "2025-08-05T15:42:56.488237",
     "status": "completed"
    },
    "tags": []
   },
   "outputs": [
    {
     "data": {
      "text/plain": [
       "{'frau1': 0.9092330502763175,\n",
       " 'nongerman': 0.9334755515634648,\n",
       " 'nongerman_male': 0.9455102224623976,\n",
       " 'nongerman_female': 0.9135618479880775}"
      ]
     },
     "execution_count": 56,
     "metadata": {},
     "output_type": "execute_result"
    }
   ],
   "source": [
    "cond_coverage"
   ]
  },
  {
   "cell_type": "code",
   "execution_count": 57,
   "id": "f5093324-c3dd-4d63-bc4c-8d945e5c8bbb",
   "metadata": {
    "execution": {
     "iopub.execute_input": "2025-08-05T15:42:56.569401Z",
     "iopub.status.busy": "2025-08-05T15:42:56.568614Z",
     "iopub.status.idle": "2025-08-05T15:42:56.576130Z",
     "shell.execute_reply": "2025-08-05T15:42:56.575053Z"
    },
    "papermill": {
     "duration": 0.032674,
     "end_time": "2025-08-05T15:42:56.578119",
     "exception": false,
     "start_time": "2025-08-05T15:42:56.545445",
     "status": "completed"
    },
    "tags": []
   },
   "outputs": [],
   "source": [
    "for subgroup, cov in cond_coverage.items():\n",
    "    cp_metrics_df[f\"cov_{subgroup}\"] = cov"
   ]
  },
  {
   "cell_type": "code",
   "execution_count": 58,
   "id": "6e872e10-dbe5-49e8-b554-5030c98ff75d",
   "metadata": {
    "execution": {
     "iopub.execute_input": "2025-08-05T15:42:56.625267Z",
     "iopub.status.busy": "2025-08-05T15:42:56.624510Z",
     "iopub.status.idle": "2025-08-05T15:42:56.643180Z",
     "shell.execute_reply": "2025-08-05T15:42:56.642106Z"
    },
    "papermill": {
     "duration": 0.043443,
     "end_time": "2025-08-05T15:42:56.644825",
     "exception": false,
     "start_time": "2025-08-05T15:42:56.601382",
     "status": "completed"
    },
    "tags": []
   },
   "outputs": [
    {
     "data": {
      "text/html": [
       "<div>\n",
       "<style scoped>\n",
       "    .dataframe tbody tr th:only-of-type {\n",
       "        vertical-align: middle;\n",
       "    }\n",
       "\n",
       "    .dataframe tbody tr th {\n",
       "        vertical-align: top;\n",
       "    }\n",
       "\n",
       "    .dataframe thead th {\n",
       "        text-align: right;\n",
       "    }\n",
       "</style>\n",
       "<table border=\"1\" class=\"dataframe\">\n",
       "  <thead>\n",
       "    <tr style=\"text-align: right;\">\n",
       "      <th></th>\n",
       "      <th>universe_id</th>\n",
       "      <th>universe_training_year</th>\n",
       "      <th>universe_training_size</th>\n",
       "      <th>universe_scale</th>\n",
       "      <th>universe_model</th>\n",
       "      <th>universe_exclude_features</th>\n",
       "      <th>universe_exclude_subgroups</th>\n",
       "      <th>q_hat</th>\n",
       "      <th>coverage</th>\n",
       "      <th>avg_size</th>\n",
       "      <th>cov_frau1</th>\n",
       "      <th>cov_nongerman</th>\n",
       "      <th>cov_nongerman_male</th>\n",
       "      <th>cov_nongerman_female</th>\n",
       "    </tr>\n",
       "  </thead>\n",
       "  <tbody>\n",
       "    <tr>\n",
       "      <th>0</th>\n",
       "      <td>cc6dc10bb7359f2c754f99d566daf5e1</td>\n",
       "      <td>2012_14</td>\n",
       "      <td>5k</td>\n",
       "      <td>do-not-scale</td>\n",
       "      <td>penalized_logreg</td>\n",
       "      <td>nationality-sex</td>\n",
       "      <td>drop-non-german</td>\n",
       "      <td>0.679977</td>\n",
       "      <td>0.911459</td>\n",
       "      <td>1.209118</td>\n",
       "      <td>0.909233</td>\n",
       "      <td>0.933476</td>\n",
       "      <td>0.94551</td>\n",
       "      <td>0.913562</td>\n",
       "    </tr>\n",
       "  </tbody>\n",
       "</table>\n",
       "</div>"
      ],
      "text/plain": [
       "                        universe_id universe_training_year  \\\n",
       "0  cc6dc10bb7359f2c754f99d566daf5e1                2012_14   \n",
       "\n",
       "  universe_training_size universe_scale    universe_model  \\\n",
       "0                     5k   do-not-scale  penalized_logreg   \n",
       "\n",
       "  universe_exclude_features universe_exclude_subgroups     q_hat  coverage  \\\n",
       "0           nationality-sex            drop-non-german  0.679977  0.911459   \n",
       "\n",
       "   avg_size  cov_frau1  cov_nongerman  cov_nongerman_male  \\\n",
       "0  1.209118   0.909233       0.933476             0.94551   \n",
       "\n",
       "   cov_nongerman_female  \n",
       "0              0.913562  "
      ]
     },
     "execution_count": 58,
     "metadata": {},
     "output_type": "execute_result"
    }
   ],
   "source": [
    "cp_metrics_df"
   ]
  },
  {
   "cell_type": "markdown",
   "id": "33774451",
   "metadata": {
    "papermill": {
     "duration": 0.023631,
     "end_time": "2025-08-05T15:42:56.691930",
     "exception": false,
     "start_time": "2025-08-05T15:42:56.668299",
     "status": "completed"
    },
    "tags": []
   },
   "source": [
    "# (Fairness) Metrics"
   ]
  },
  {
   "cell_type": "code",
   "execution_count": 59,
   "id": "debc5d62",
   "metadata": {
    "execution": {
     "iopub.execute_input": "2025-08-05T15:42:56.738592Z",
     "iopub.status.busy": "2025-08-05T15:42:56.737809Z",
     "iopub.status.idle": "2025-08-05T15:42:56.759067Z",
     "shell.execute_reply": "2025-08-05T15:42:56.758238Z"
    },
    "papermill": {
     "duration": 0.046507,
     "end_time": "2025-08-05T15:42:56.760796",
     "exception": false,
     "start_time": "2025-08-05T15:42:56.714289",
     "status": "completed"
    },
    "tags": []
   },
   "outputs": [],
   "source": [
    "# do I need to include maxdeutsch1.missing?\n",
    "\n",
    "import numpy as np\n",
    "\n",
    "colname_to_bin = \"maxdeutsch1\"\n",
    "majority_value = org_train[colname_to_bin].mode()[0]\n",
    "\n",
    "org_test[\"majmin\"] = np.where(org_test[colname_to_bin] == majority_value, \"majority\", \"minority\")"
   ]
  },
  {
   "cell_type": "code",
   "execution_count": 60,
   "id": "06a50de5",
   "metadata": {
    "execution": {
     "iopub.execute_input": "2025-08-05T15:42:56.809191Z",
     "iopub.status.busy": "2025-08-05T15:42:56.808420Z",
     "iopub.status.idle": "2025-08-05T15:42:59.594945Z",
     "shell.execute_reply": "2025-08-05T15:42:59.593977Z"
    },
    "papermill": {
     "duration": 2.812967,
     "end_time": "2025-08-05T15:42:59.596783",
     "exception": false,
     "start_time": "2025-08-05T15:42:56.783816",
     "status": "completed"
    },
    "tags": []
   },
   "outputs": [],
   "source": [
    "example_universe = universe.copy()\n",
    "example_universe[\"cutoff\"] = example_universe[\"cutoff\"][0]\n",
    "example_universe[\"eval_fairness_grouping\"] = example_universe[\"eval_fairness_grouping\"][0]\n",
    "fairness_dict, metric_frame = universe_analysis.compute_metrics(\n",
    "    example_universe,\n",
    "    y_pred_prob=probs_test,\n",
    "    y_test=y_true,\n",
    "    org_test=org_test,\n",
    ")"
   ]
  },
  {
   "cell_type": "markdown",
   "id": "f95d4e02",
   "metadata": {
    "papermill": {
     "duration": 0.020943,
     "end_time": "2025-08-05T15:42:59.641794",
     "exception": false,
     "start_time": "2025-08-05T15:42:59.620851",
     "status": "completed"
    },
    "tags": []
   },
   "source": [
    "# Overall"
   ]
  },
  {
   "cell_type": "markdown",
   "id": "bdee4871",
   "metadata": {
    "papermill": {
     "duration": 0.020125,
     "end_time": "2025-08-05T15:42:59.683511",
     "exception": false,
     "start_time": "2025-08-05T15:42:59.663386",
     "status": "completed"
    },
    "tags": []
   },
   "source": [
    "Fairness\n",
    "Main fairness target: Equalized Odds. Seems to be a better fit than equal opportunity, since we're not only interested in Y = 1. Seems to be a better fit than demographic parity, since we also care about accuracy, not just equal distribution of preds.\n",
    "\n",
    "Pick column for computation of fairness metrics\n",
    "\n",
    "Performance\n",
    "Overall performance measures, most interesting in relation to the measures split by group below"
   ]
  },
  {
   "cell_type": "code",
   "execution_count": 61,
   "id": "c4e067c6",
   "metadata": {
    "execution": {
     "iopub.execute_input": "2025-08-05T15:42:59.726029Z",
     "iopub.status.busy": "2025-08-05T15:42:59.725574Z",
     "iopub.status.idle": "2025-08-05T15:42:59.733992Z",
     "shell.execute_reply": "2025-08-05T15:42:59.732897Z"
    },
    "papermill": {
     "duration": 0.031427,
     "end_time": "2025-08-05T15:42:59.735516",
     "exception": false,
     "start_time": "2025-08-05T15:42:59.704089",
     "status": "completed"
    },
    "tags": []
   },
   "outputs": [
    {
     "data": {
      "text/plain": [
       "accuracy                   0.218315\n",
       "balanced accuracy          0.535079\n",
       "f1                         0.239813\n",
       "precision                  0.136997\n",
       "false positive rate        0.891000\n",
       "false negative rate        0.038843\n",
       "selection rate             0.900000\n",
       "count                  89710.000000\n",
       "dtype: float64"
      ]
     },
     "execution_count": 61,
     "metadata": {},
     "output_type": "execute_result"
    }
   ],
   "source": [
    "metric_frame.overall"
   ]
  },
  {
   "cell_type": "markdown",
   "id": "e968fe9d",
   "metadata": {
    "papermill": {
     "duration": 0.024232,
     "end_time": "2025-08-05T15:42:59.783701",
     "exception": false,
     "start_time": "2025-08-05T15:42:59.759469",
     "status": "completed"
    },
    "tags": []
   },
   "source": [
    "By Group"
   ]
  },
  {
   "cell_type": "code",
   "execution_count": 62,
   "id": "ec325bce",
   "metadata": {
    "execution": {
     "iopub.execute_input": "2025-08-05T15:42:59.827285Z",
     "iopub.status.busy": "2025-08-05T15:42:59.826860Z",
     "iopub.status.idle": "2025-08-05T15:42:59.842302Z",
     "shell.execute_reply": "2025-08-05T15:42:59.841150Z"
    },
    "papermill": {
     "duration": 0.039485,
     "end_time": "2025-08-05T15:42:59.844049",
     "exception": false,
     "start_time": "2025-08-05T15:42:59.804564",
     "status": "completed"
    },
    "tags": []
   },
   "outputs": [
    {
     "data": {
      "text/html": [
       "<div>\n",
       "<style scoped>\n",
       "    .dataframe tbody tr th:only-of-type {\n",
       "        vertical-align: middle;\n",
       "    }\n",
       "\n",
       "    .dataframe tbody tr th {\n",
       "        vertical-align: top;\n",
       "    }\n",
       "\n",
       "    .dataframe thead th {\n",
       "        text-align: right;\n",
       "    }\n",
       "</style>\n",
       "<table border=\"1\" class=\"dataframe\">\n",
       "  <thead>\n",
       "    <tr style=\"text-align: right;\">\n",
       "      <th></th>\n",
       "      <th>accuracy</th>\n",
       "      <th>balanced accuracy</th>\n",
       "      <th>f1</th>\n",
       "      <th>precision</th>\n",
       "      <th>false positive rate</th>\n",
       "      <th>false negative rate</th>\n",
       "      <th>selection rate</th>\n",
       "      <th>count</th>\n",
       "    </tr>\n",
       "    <tr>\n",
       "      <th>majmin</th>\n",
       "      <th></th>\n",
       "      <th></th>\n",
       "      <th></th>\n",
       "      <th></th>\n",
       "      <th></th>\n",
       "      <th></th>\n",
       "      <th></th>\n",
       "      <th></th>\n",
       "    </tr>\n",
       "  </thead>\n",
       "  <tbody>\n",
       "    <tr>\n",
       "      <th>majority</th>\n",
       "      <td>0.240639</td>\n",
       "      <td>0.543543</td>\n",
       "      <td>0.249503</td>\n",
       "      <td>0.143491</td>\n",
       "      <td>0.868166</td>\n",
       "      <td>0.044748</td>\n",
       "      <td>0.879673</td>\n",
       "      <td>69170.0</td>\n",
       "    </tr>\n",
       "    <tr>\n",
       "      <th>minority</th>\n",
       "      <td>0.143135</td>\n",
       "      <td>0.508760</td>\n",
       "      <td>0.209344</td>\n",
       "      <td>0.117133</td>\n",
       "      <td>0.966432</td>\n",
       "      <td>0.016047</td>\n",
       "      <td>0.968452</td>\n",
       "      <td>20540.0</td>\n",
       "    </tr>\n",
       "  </tbody>\n",
       "</table>\n",
       "</div>"
      ],
      "text/plain": [
       "          accuracy  balanced accuracy        f1  precision  \\\n",
       "majmin                                                       \n",
       "majority  0.240639           0.543543  0.249503   0.143491   \n",
       "minority  0.143135           0.508760  0.209344   0.117133   \n",
       "\n",
       "          false positive rate  false negative rate  selection rate    count  \n",
       "majmin                                                                       \n",
       "majority             0.868166             0.044748        0.879673  69170.0  \n",
       "minority             0.966432             0.016047        0.968452  20540.0  "
      ]
     },
     "execution_count": 62,
     "metadata": {},
     "output_type": "execute_result"
    }
   ],
   "source": [
    "metric_frame.by_group"
   ]
  },
  {
   "cell_type": "code",
   "execution_count": 63,
   "id": "a9ddbe63",
   "metadata": {
    "execution": {
     "iopub.execute_input": "2025-08-05T15:42:59.898680Z",
     "iopub.status.busy": "2025-08-05T15:42:59.898366Z",
     "iopub.status.idle": "2025-08-05T15:43:01.785013Z",
     "shell.execute_reply": "2025-08-05T15:43:01.784095Z"
    },
    "papermill": {
     "duration": 1.920262,
     "end_time": "2025-08-05T15:43:01.786795",
     "exception": false,
     "start_time": "2025-08-05T15:42:59.866533",
     "status": "completed"
    },
    "tags": []
   },
   "outputs": [
    {
     "data": {
      "text/plain": [
       "array([[<Axes: title={'center': 'accuracy'}, xlabel='majmin'>,\n",
       "        <Axes: title={'center': 'balanced accuracy'}, xlabel='majmin'>,\n",
       "        <Axes: title={'center': 'f1'}, xlabel='majmin'>],\n",
       "       [<Axes: title={'center': 'precision'}, xlabel='majmin'>,\n",
       "        <Axes: title={'center': 'false positive rate'}, xlabel='majmin'>,\n",
       "        <Axes: title={'center': 'false negative rate'}, xlabel='majmin'>],\n",
       "       [<Axes: title={'center': 'selection rate'}, xlabel='majmin'>,\n",
       "        <Axes: title={'center': 'count'}, xlabel='majmin'>,\n",
       "        <Axes: xlabel='majmin'>]], dtype=object)"
      ]
     },
     "execution_count": 63,
     "metadata": {},
     "output_type": "execute_result"
    },
    {
     "data": {
      "image/png": "[encoded data removed]",
      "text/plain": [
       "<Figure size 1200x800 with 9 Axes>"
      ]
     },
     "metadata": {},
     "output_type": "display_data"
    }
   ],
   "source": [
    "# In a graphic\n",
    "metric_frame.by_group.plot.bar(\n",
    "    subplots=True,\n",
    "    layout=[3, 3],\n",
    "    legend=False,\n",
    "    figsize=[12, 8],\n",
    "    title=\"Show all metrics\",\n",
    ")"
   ]
  },
  {
   "cell_type": "markdown",
   "id": "f57a0bac",
   "metadata": {
    "papermill": {
     "duration": 0.024415,
     "end_time": "2025-08-05T15:43:01.840086",
     "exception": false,
     "start_time": "2025-08-05T15:43:01.815671",
     "status": "completed"
    },
    "tags": []
   },
   "source": [
    "# Final Output"
   ]
  },
  {
   "cell_type": "code",
   "execution_count": 64,
   "id": "96d280a3",
   "metadata": {
    "execution": {
     "iopub.execute_input": "2025-08-05T15:43:01.892511Z",
     "iopub.status.busy": "2025-08-05T15:43:01.891410Z",
     "iopub.status.idle": "2025-08-05T15:43:01.900125Z",
     "shell.execute_reply": "2025-08-05T15:43:01.899009Z"
    },
    "papermill": {
     "duration": 0.036955,
     "end_time": "2025-08-05T15:43:01.902195",
     "exception": false,
     "start_time": "2025-08-05T15:43:01.865240",
     "status": "completed"
    },
    "tags": []
   },
   "outputs": [
    {
     "data": {
      "text/plain": [
       "4"
      ]
     },
     "execution_count": 64,
     "metadata": {},
     "output_type": "execute_result"
    }
   ],
   "source": [
    "sub_universes = universe_analysis.generate_sub_universes()\n",
    "len(sub_universes)"
   ]
  },
  {
   "cell_type": "code",
   "execution_count": 65,
   "id": "92adf7ba",
   "metadata": {
    "execution": {
     "iopub.execute_input": "2025-08-05T15:43:01.958318Z",
     "iopub.status.busy": "2025-08-05T15:43:01.956623Z",
     "iopub.status.idle": "2025-08-05T15:43:01.962924Z",
     "shell.execute_reply": "2025-08-05T15:43:01.962071Z"
    },
    "papermill": {
     "duration": 0.034617,
     "end_time": "2025-08-05T15:43:01.964335",
     "exception": false,
     "start_time": "2025-08-05T15:43:01.929718",
     "status": "completed"
    },
    "tags": []
   },
   "outputs": [],
   "source": [
    "def filter_sub_universe_data(sub_universe, org_test):\n",
    "    # Keep all rows — no filtering\n",
    "    keep_rows_mask = np.ones(org_test.shape[0], dtype=bool)\n",
    "\n",
    "    print(f\"[INFO] Keeping all rows: {keep_rows_mask.sum()} rows retained.\")\n",
    "    return keep_rows_mask"
   ]
  },
  {
   "cell_type": "code",
   "execution_count": 66,
   "id": "4a759155",
   "metadata": {
    "execution": {
     "iopub.execute_input": "2025-08-05T15:43:01.992344Z",
     "iopub.status.busy": "2025-08-05T15:43:01.991724Z",
     "iopub.status.idle": "2025-08-05T15:43:11.185146Z",
     "shell.execute_reply": "2025-08-05T15:43:11.184094Z"
    },
    "papermill": {
     "duration": 9.208728,
     "end_time": "2025-08-05T15:43:11.187134",
     "exception": false,
     "start_time": "2025-08-05T15:43:01.978406",
     "status": "completed"
    },
    "tags": []
   },
   "outputs": [
    {
     "name": "stdout",
     "output_type": "stream",
     "text": [
      "Stopping execution_time clock.\n",
      "[INFO] Keeping all rows: 89710 rows retained.\n"
     ]
    },
    {
     "name": "stdout",
     "output_type": "stream",
     "text": [
      "[INFO] Keeping all rows: 89710 rows retained.\n"
     ]
    },
    {
     "name": "stdout",
     "output_type": "stream",
     "text": [
      "[INFO] Keeping all rows: 89710 rows retained.\n"
     ]
    },
    {
     "name": "stdout",
     "output_type": "stream",
     "text": [
      "[INFO] Keeping all rows: 89710 rows retained.\n"
     ]
    },
    {
     "data": {
      "text/html": [
       "<div>\n",
       "<style scoped>\n",
       "    .dataframe tbody tr th:only-of-type {\n",
       "        vertical-align: middle;\n",
       "    }\n",
       "\n",
       "    .dataframe tbody tr th {\n",
       "        vertical-align: top;\n",
       "    }\n",
       "\n",
       "    .dataframe thead th {\n",
       "        text-align: right;\n",
       "    }\n",
       "</style>\n",
       "<table border=\"1\" class=\"dataframe\">\n",
       "  <thead>\n",
       "    <tr style=\"text-align: right;\">\n",
       "      <th></th>\n",
       "      <th>run_no</th>\n",
       "      <th>universe_id</th>\n",
       "      <th>universe_settings</th>\n",
       "      <th>execution_time</th>\n",
       "      <th>test_size_n</th>\n",
       "      <th>test_size_frac</th>\n",
       "      <th>fair_main_equalized_odds_difference</th>\n",
       "      <th>fair_main_equalized_odds_ratio</th>\n",
       "      <th>fair_main_demographic_parity_difference</th>\n",
       "      <th>fair_main_demographic_parity_ratio</th>\n",
       "      <th>...</th>\n",
       "      <th>perf_grp_precision_0</th>\n",
       "      <th>perf_grp_precision_1</th>\n",
       "      <th>perf_grp_false positive rate_0</th>\n",
       "      <th>perf_grp_false positive rate_1</th>\n",
       "      <th>perf_grp_false negative rate_0</th>\n",
       "      <th>perf_grp_false negative rate_1</th>\n",
       "      <th>perf_grp_selection rate_0</th>\n",
       "      <th>perf_grp_selection rate_1</th>\n",
       "      <th>perf_grp_count_0</th>\n",
       "      <th>perf_grp_count_1</th>\n",
       "    </tr>\n",
       "  </thead>\n",
       "  <tbody>\n",
       "    <tr>\n",
       "      <th>0</th>\n",
       "      <td>15</td>\n",
       "      <td>cc6dc10bb7359f2c754f99d566daf5e1</td>\n",
       "      <td>{\"cutoff\": \"quantile_0.1\", \"eval_fairness_grou...</td>\n",
       "      <td>24.364651</td>\n",
       "      <td>89710</td>\n",
       "      <td>1.0</td>\n",
       "      <td>0.098266</td>\n",
       "      <td>0.898321</td>\n",
       "      <td>0.088779</td>\n",
       "      <td>0.908329</td>\n",
       "      <td>...</td>\n",
       "      <td>NaN</td>\n",
       "      <td>NaN</td>\n",
       "      <td>NaN</td>\n",
       "      <td>NaN</td>\n",
       "      <td>NaN</td>\n",
       "      <td>NaN</td>\n",
       "      <td>NaN</td>\n",
       "      <td>NaN</td>\n",
       "      <td>NaN</td>\n",
       "      <td>NaN</td>\n",
       "    </tr>\n",
       "    <tr>\n",
       "      <th>0</th>\n",
       "      <td>15</td>\n",
       "      <td>cc6dc10bb7359f2c754f99d566daf5e1</td>\n",
       "      <td>{\"cutoff\": \"quantile_0.1\", \"eval_fairness_grou...</td>\n",
       "      <td>24.364651</td>\n",
       "      <td>89710</td>\n",
       "      <td>1.0</td>\n",
       "      <td>0.098266</td>\n",
       "      <td>0.898321</td>\n",
       "      <td>0.088779</td>\n",
       "      <td>0.908329</td>\n",
       "      <td>...</td>\n",
       "      <td>0.117133</td>\n",
       "      <td>0.143491</td>\n",
       "      <td>0.966432</td>\n",
       "      <td>0.868166</td>\n",
       "      <td>0.016047</td>\n",
       "      <td>0.044748</td>\n",
       "      <td>0.968452</td>\n",
       "      <td>0.879673</td>\n",
       "      <td>20540.0</td>\n",
       "      <td>69170.0</td>\n",
       "    </tr>\n",
       "    <tr>\n",
       "      <th>0</th>\n",
       "      <td>15</td>\n",
       "      <td>cc6dc10bb7359f2c754f99d566daf5e1</td>\n",
       "      <td>{\"cutoff\": \"quantile_0.25\", \"eval_fairness_gro...</td>\n",
       "      <td>24.364651</td>\n",
       "      <td>89710</td>\n",
       "      <td>1.0</td>\n",
       "      <td>0.221484</td>\n",
       "      <td>0.754060</td>\n",
       "      <td>0.202695</td>\n",
       "      <td>0.776344</td>\n",
       "      <td>...</td>\n",
       "      <td>NaN</td>\n",
       "      <td>NaN</td>\n",
       "      <td>NaN</td>\n",
       "      <td>NaN</td>\n",
       "      <td>NaN</td>\n",
       "      <td>NaN</td>\n",
       "      <td>NaN</td>\n",
       "      <td>NaN</td>\n",
       "      <td>NaN</td>\n",
       "      <td>NaN</td>\n",
       "    </tr>\n",
       "    <tr>\n",
       "      <th>0</th>\n",
       "      <td>15</td>\n",
       "      <td>cc6dc10bb7359f2c754f99d566daf5e1</td>\n",
       "      <td>{\"cutoff\": \"quantile_0.25\", \"eval_fairness_gro...</td>\n",
       "      <td>24.364651</td>\n",
       "      <td>89710</td>\n",
       "      <td>1.0</td>\n",
       "      <td>0.221484</td>\n",
       "      <td>0.754060</td>\n",
       "      <td>0.202695</td>\n",
       "      <td>0.776344</td>\n",
       "      <td>...</td>\n",
       "      <td>0.120870</td>\n",
       "      <td>0.162369</td>\n",
       "      <td>0.900561</td>\n",
       "      <td>0.679077</td>\n",
       "      <td>0.049831</td>\n",
       "      <td>0.135449</td>\n",
       "      <td>0.906280</td>\n",
       "      <td>0.703585</td>\n",
       "      <td>20540.0</td>\n",
       "      <td>69170.0</td>\n",
       "    </tr>\n",
       "  </tbody>\n",
       "</table>\n",
       "<p>4 rows × 50 columns</p>\n",
       "</div>"
      ],
      "text/plain": [
       "  run_no                       universe_id  \\\n",
       "0     15  cc6dc10bb7359f2c754f99d566daf5e1   \n",
       "0     15  cc6dc10bb7359f2c754f99d566daf5e1   \n",
       "0     15  cc6dc10bb7359f2c754f99d566daf5e1   \n",
       "0     15  cc6dc10bb7359f2c754f99d566daf5e1   \n",
       "\n",
       "                                   universe_settings  execution_time  \\\n",
       "0  {\"cutoff\": \"quantile_0.1\", \"eval_fairness_grou...       24.364651   \n",
       "0  {\"cutoff\": \"quantile_0.1\", \"eval_fairness_grou...       24.364651   \n",
       "0  {\"cutoff\": \"quantile_0.25\", \"eval_fairness_gro...       24.364651   \n",
       "0  {\"cutoff\": \"quantile_0.25\", \"eval_fairness_gro...       24.364651   \n",
       "\n",
       "   test_size_n  test_size_frac  fair_main_equalized_odds_difference  \\\n",
       "0        89710             1.0                             0.098266   \n",
       "0        89710             1.0                             0.098266   \n",
       "0        89710             1.0                             0.221484   \n",
       "0        89710             1.0                             0.221484   \n",
       "\n",
       "   fair_main_equalized_odds_ratio  fair_main_demographic_parity_difference  \\\n",
       "0                        0.898321                                 0.088779   \n",
       "0                        0.898321                                 0.088779   \n",
       "0                        0.754060                                 0.202695   \n",
       "0                        0.754060                                 0.202695   \n",
       "\n",
       "   fair_main_demographic_parity_ratio  ...  perf_grp_precision_0  \\\n",
       "0                            0.908329  ...                   NaN   \n",
       "0                            0.908329  ...              0.117133   \n",
       "0                            0.776344  ...                   NaN   \n",
       "0                            0.776344  ...              0.120870   \n",
       "\n",
       "   perf_grp_precision_1  perf_grp_false positive rate_0  \\\n",
       "0                   NaN                             NaN   \n",
       "0              0.143491                        0.966432   \n",
       "0                   NaN                             NaN   \n",
       "0              0.162369                        0.900561   \n",
       "\n",
       "   perf_grp_false positive rate_1  perf_grp_false negative rate_0  \\\n",
       "0                             NaN                             NaN   \n",
       "0                        0.868166                        0.016047   \n",
       "0                             NaN                             NaN   \n",
       "0                        0.679077                        0.049831   \n",
       "\n",
       "   perf_grp_false negative rate_1  perf_grp_selection rate_0  \\\n",
       "0                             NaN                        NaN   \n",
       "0                        0.044748                   0.968452   \n",
       "0                             NaN                        NaN   \n",
       "0                        0.135449                   0.906280   \n",
       "\n",
       "   perf_grp_selection rate_1  perf_grp_count_0  perf_grp_count_1  \n",
       "0                        NaN               NaN               NaN  \n",
       "0                   0.879673           20540.0           69170.0  \n",
       "0                        NaN               NaN               NaN  \n",
       "0                   0.703585           20540.0           69170.0  \n",
       "\n",
       "[4 rows x 50 columns]"
      ]
     },
     "execution_count": 66,
     "metadata": {},
     "output_type": "execute_result"
    }
   ],
   "source": [
    "final_output = universe_analysis.generate_final_output(\n",
    "    y_pred_prob=probs_test,\n",
    "    y_test=y_true,\n",
    "    org_test=org_test,\n",
    "    filter_data=filter_sub_universe_data,\n",
    "    cp_metrics_df=cp_metrics_df,\n",
    "    save=True,\n",
    ")\n",
    "final_output"
   ]
  }
 ],
 "metadata": {
  "celltoolbar": "Tags",
  "kernelspec": {
   "display_name": "Python (CMA Fairness)",
   "language": "python",
   "name": "cma_fair_env"
  },
  "language_info": {
   "codemirror_mode": {
    "name": "ipython",
    "version": 3
   },
   "file_extension": ".py",
   "mimetype": "text/x-python",
   "name": "python",
   "nbconvert_exporter": "python",
   "pygments_lexer": "ipython3",
   "version": "3.10.12"
  },
  "papermill": {
   "default_parameters": {},
   "duration": 37.883856,
   "end_time": "2025-08-05T15:43:12.043332",
   "environment_variables": {},
   "exception": null,
   "input_path": "universe_analysis.ipynb",
   "output_path": "output/runs/15/notebooks/m_15-cc6dc10bb7359f2c754f99d566daf5e1.ipynb",
   "parameters": {
    "output_dir": "output",
    "run_no": "15",
    "seed": "2023",
    "universe": "{\"cutoff\": [\"quantile_0.1\", \"quantile_0.25\"], \"eval_fairness_grouping\": [\"majority-minority\", \"nationality-all\"], \"exclude_features\": \"nationality-sex\", \"exclude_subgroups\": \"drop-non-german\", \"model\": \"penalized_logreg\", \"scale\": \"do-not-scale\", \"training_size\": \"5k\", \"training_year\": \"2012_14\"}",
    "universe_id": "cc6dc10bb7359f2c754f99d566daf5e1"
   },
   "start_time": "2025-08-05T15:42:34.159476",
   "version": "2.6.0"
  }
 },
 "nbformat": 4,
 "nbformat_minor": 5
}