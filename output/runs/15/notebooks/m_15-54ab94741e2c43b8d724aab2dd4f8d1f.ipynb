{
 "cells": [
  {
   "cell_type": "code",
   "execution_count": 1,
   "id": "f159f837-637b-42ba-96b5-ec9a68c44524",
   "metadata": {
    "execution": {
     "iopub.execute_input": "2025-08-05T16:41:36.786973Z",
     "iopub.status.busy": "2025-08-05T16:41:36.786077Z",
     "iopub.status.idle": "2025-08-05T16:41:36.799455Z",
     "shell.execute_reply": "2025-08-05T16:41:36.798309Z"
    },
    "papermill": {
     "duration": 0.033355,
     "end_time": "2025-08-05T16:41:36.801293",
     "exception": false,
     "start_time": "2025-08-05T16:41:36.767938",
     "status": "completed"
    },
    "tags": []
   },
   "outputs": [
    {
     "name": "stdout",
     "output_type": "stream",
     "text": [
      "/dss/dsshome1/0C/ra93lal2/cma/CMA_Fairness_v2\n"
     ]
    },
    {
     "name": "stderr",
     "output_type": "stream",
     "text": [
      "/dss/dsshome1/0C/ra93lal2/.local/share/virtualenvs/CMA_Fairness_v2-3j10GkSs/lib/python3.10/site-packages/IPython/core/magics/osm.py:393: UserWarning: This is now an optional IPython functionality, using bookmarks requires you to install the `pickleshare` library.\n",
      "  bkms = self.shell.db.get('bookmarks', {})\n",
      "/dss/dsshome1/0C/ra93lal2/.local/share/virtualenvs/CMA_Fairness_v2-3j10GkSs/lib/python3.10/site-packages/IPython/core/magics/osm.py:417: UserWarning: This is now an optional IPython functionality, setting dhist requires you to install the `pickleshare` library.\n",
      "  self.shell.db['dhist'] = compress_dhist(dhist)[-100:]\n"
     ]
    }
   ],
   "source": [
    "%cd ~/cma/CMA_Fairness_v2"
   ]
  },
  {
   "cell_type": "markdown",
   "id": "de2603b9",
   "metadata": {
    "papermill": {
     "duration": 0.01644,
     "end_time": "2025-08-05T16:41:36.835926",
     "exception": false,
     "start_time": "2025-08-05T16:41:36.819486",
     "status": "completed"
    },
    "tags": []
   },
   "source": [
    "The following cell holds the definition of our parameters, these values can be overriden by rendering the with e.g. the following command:\n",
    "\n",
    "papermill -p alpha 0.2 -p ratio 0.3 universe_analysis.ipynb output/test_run.ipynb"
   ]
  },
  {
   "cell_type": "code",
   "execution_count": 2,
   "id": "a80968a0-40bb-4fa9-85ef-2d5eefb01975",
   "metadata": {
    "execution": {
     "iopub.execute_input": "2025-08-05T16:41:36.870314Z",
     "iopub.status.busy": "2025-08-05T16:41:36.869800Z",
     "iopub.status.idle": "2025-08-05T16:41:36.875584Z",
     "shell.execute_reply": "2025-08-05T16:41:36.874444Z"
    },
    "papermill": {
     "duration": 0.02542,
     "end_time": "2025-08-05T16:41:36.877447",
     "exception": false,
     "start_time": "2025-08-05T16:41:36.852027",
     "status": "completed"
    },
    "tags": []
   },
   "outputs": [
    {
     "name": "stdout",
     "output_type": "stream",
     "text": [
      "Current working directory: /dss/dsshome1/0C/ra93lal2/cma/CMA_Fairness_v2\n"
     ]
    }
   ],
   "source": [
    "import os\n",
    "print(\"Current working directory:\", os.getcwd())"
   ]
  },
  {
   "cell_type": "code",
   "execution_count": 3,
   "id": "2dce4c03",
   "metadata": {
    "execution": {
     "iopub.execute_input": "2025-08-05T16:41:36.916084Z",
     "iopub.status.busy": "2025-08-05T16:41:36.915490Z",
     "iopub.status.idle": "2025-08-05T16:41:36.922863Z",
     "shell.execute_reply": "2025-08-05T16:41:36.921691Z"
    },
    "papermill": {
     "duration": 0.028464,
     "end_time": "2025-08-05T16:41:36.924747",
     "exception": false,
     "start_time": "2025-08-05T16:41:36.896283",
     "status": "completed"
    },
    "tags": [
     "parameters"
    ]
   },
   "outputs": [],
   "source": [
    "run_no = 0\n",
    "universe_id = \"test\"\n",
    "universe = {\n",
    "    \"training_size\": \"25k\", # \"25k\", \"5k\", \"1k\"\n",
    "    \"training_year\": \"2014\", # \"2014\", \"2012_14\", \"2010_14\"\n",
    "    \"scale\": \"scale\", # \"scale\", \"do-not-scale\",\n",
    "    \"model\": \"elasticnet\", # \"logreg\", \"penalized_logreg\", \"rf\", \"gbm\", \"elasticnet\"\n",
    "    \"cutoff\": [\"quantile_0.15\", \"quantile_0.30\"],\n",
    "    \"exclude_features\": \"age\", # \"none\", \"nationality\", \"sex\", \"nationality-sex\", \"age\"\n",
    "    \"exclude_subgroups\": \"keep-all\", # \"keep-all\", \"drop-non-german\"\n",
    "    \"eval_fairness_grouping\": [\"majority-minority\", \"nationality-all\"]\n",
    "}\n",
    "\n",
    "output_dir=\"./output\"\n",
    "seed=0"
   ]
  },
  {
   "cell_type": "code",
   "execution_count": 4,
   "id": "06418429",
   "metadata": {
    "execution": {
     "iopub.execute_input": "2025-08-05T16:41:36.962427Z",
     "iopub.status.busy": "2025-08-05T16:41:36.961780Z",
     "iopub.status.idle": "2025-08-05T16:41:36.966802Z",
     "shell.execute_reply": "2025-08-05T16:41:36.965868Z"
    },
    "papermill": {
     "duration": 0.025949,
     "end_time": "2025-08-05T16:41:36.968624",
     "exception": false,
     "start_time": "2025-08-05T16:41:36.942675",
     "status": "completed"
    },
    "tags": [
     "injected-parameters"
    ]
   },
   "outputs": [],
   "source": [
    "# Parameters\n",
    "universe_id = \"54ab94741e2c43b8d724aab2dd4f8d1f\"\n",
    "run_no = \"15\"\n",
    "universe = \"{\\\"cutoff\\\": [\\\"quantile_0.1\\\", \\\"quantile_0.25\\\"], \\\"eval_fairness_grouping\\\": [\\\"majority-minority\\\", \\\"nationality-all\\\"], \\\"exclude_features\\\": \\\"sex\\\", \\\"exclude_subgroups\\\": \\\"drop-non-german\\\", \\\"model\\\": \\\"rf\\\", \\\"scale\\\": \\\"do-not-scale\\\", \\\"training_size\\\": \\\"1k\\\", \\\"training_year\\\": \\\"2010_14\\\"}\"\n",
    "output_dir = \"output\"\n",
    "seed = \"2023\"\n"
   ]
  },
  {
   "cell_type": "code",
   "execution_count": 5,
   "id": "1650acaf",
   "metadata": {
    "execution": {
     "iopub.execute_input": "2025-08-05T16:41:37.003843Z",
     "iopub.status.busy": "2025-08-05T16:41:37.003147Z",
     "iopub.status.idle": "2025-08-05T16:41:37.008785Z",
     "shell.execute_reply": "2025-08-05T16:41:37.007762Z"
    },
    "papermill": {
     "duration": 0.024957,
     "end_time": "2025-08-05T16:41:37.010672",
     "exception": false,
     "start_time": "2025-08-05T16:41:36.985715",
     "status": "completed"
    },
    "tags": []
   },
   "outputs": [],
   "source": [
    "import json\n",
    "if isinstance(universe, str):\n",
    "    universe = json.loads(universe)"
   ]
  },
  {
   "cell_type": "code",
   "execution_count": 6,
   "id": "16620c48",
   "metadata": {
    "execution": {
     "iopub.execute_input": "2025-08-05T16:41:37.047351Z",
     "iopub.status.busy": "2025-08-05T16:41:37.046570Z",
     "iopub.status.idle": "2025-08-05T16:41:37.092887Z",
     "shell.execute_reply": "2025-08-05T16:41:37.091983Z"
    },
    "papermill": {
     "duration": 0.066052,
     "end_time": "2025-08-05T16:41:37.095010",
     "exception": false,
     "start_time": "2025-08-05T16:41:37.028958",
     "status": "completed"
    },
    "tags": []
   },
   "outputs": [],
   "source": [
    "# Auto-reload the custom package\n",
    "%load_ext autoreload\n",
    "%autoreload 1\n",
    "%aimport fairness_multiverse"
   ]
  },
  {
   "cell_type": "code",
   "execution_count": 7,
   "id": "01c5c9f3",
   "metadata": {
    "execution": {
     "iopub.execute_input": "2025-08-05T16:41:37.128719Z",
     "iopub.status.busy": "2025-08-05T16:41:37.127776Z",
     "iopub.status.idle": "2025-08-05T16:41:39.168080Z",
     "shell.execute_reply": "2025-08-05T16:41:39.166942Z"
    },
    "papermill": {
     "duration": 2.060204,
     "end_time": "2025-08-05T16:41:39.170682",
     "exception": false,
     "start_time": "2025-08-05T16:41:37.110478",
     "status": "completed"
    },
    "tags": []
   },
   "outputs": [],
   "source": [
    "from fairness_multiverse.universe import UniverseAnalysis\n",
    "\n",
    "universe_analysis = UniverseAnalysis(\n",
    "    run_no = run_no,\n",
    "    universe_id = universe_id,\n",
    "    universe = universe,\n",
    "    output_dir=output_dir,\n",
    ")"
   ]
  },
  {
   "cell_type": "code",
   "execution_count": 8,
   "id": "106241f5",
   "metadata": {
    "execution": {
     "iopub.execute_input": "2025-08-05T16:41:39.222954Z",
     "iopub.status.busy": "2025-08-05T16:41:39.221758Z",
     "iopub.status.idle": "2025-08-05T16:41:39.229697Z",
     "shell.execute_reply": "2025-08-05T16:41:39.228354Z"
    },
    "papermill": {
     "duration": 0.036926,
     "end_time": "2025-08-05T16:41:39.232310",
     "exception": false,
     "start_time": "2025-08-05T16:41:39.195384",
     "status": "completed"
    },
    "tags": []
   },
   "outputs": [
    {
     "name": "stdout",
     "output_type": "stream",
     "text": [
      "Using Seed: 2023\n"
     ]
    }
   ],
   "source": [
    "import numpy as np\n",
    "parsed_seed = int(seed)\n",
    "np.random.seed(parsed_seed)\n",
    "print(f\"Using Seed: {parsed_seed}\")"
   ]
  },
  {
   "cell_type": "markdown",
   "id": "e0ebdc57",
   "metadata": {
    "papermill": {
     "duration": 0.024654,
     "end_time": "2025-08-05T16:41:39.285095",
     "exception": false,
     "start_time": "2025-08-05T16:41:39.260441",
     "status": "completed"
    },
    "tags": []
   },
   "source": [
    "# Loading Data"
   ]
  },
  {
   "cell_type": "code",
   "execution_count": 9,
   "id": "f0496b8a",
   "metadata": {
    "execution": {
     "iopub.execute_input": "2025-08-05T16:41:39.335817Z",
     "iopub.status.busy": "2025-08-05T16:41:39.335331Z",
     "iopub.status.idle": "2025-08-05T16:41:53.586601Z",
     "shell.execute_reply": "2025-08-05T16:41:53.585591Z"
    },
    "papermill": {
     "duration": 14.27868,
     "end_time": "2025-08-05T16:41:53.588266",
     "exception": false,
     "start_time": "2025-08-05T16:41:39.309586",
     "status": "completed"
    },
    "tags": []
   },
   "outputs": [
    {
     "name": "stdout",
     "output_type": "stream",
     "text": [
      "Loading SIAB data from cache: data/siab_cached.csv.gz\n"
     ]
    },
    {
     "name": "stdout",
     "output_type": "stream",
     "text": [
      "(643690, 164)\n"
     ]
    }
   ],
   "source": [
    "from pathlib import Path\n",
    "import pandas as pd\n",
    "\n",
    "# File paths\n",
    "raw_file = Path(\"data/raw/siab.csv\")\n",
    "cache_file = Path(\"data/siab_cached.csv.gz\")\n",
    "\n",
    "# Ensure cache directory exists\n",
    "cache_file.parent.mkdir(parents=True, exist_ok=True)\n",
    "\n",
    "# Load with simple caching\n",
    "if cache_file.exists():\n",
    "    print(f\"Loading SIAB data from cache: {cache_file}\")\n",
    "    siab = pd.read_csv(cache_file, compression='gzip')\n",
    "else:\n",
    "    print(f\"Cache not found. Reading raw SIAB data: {raw_file}\")\n",
    "    siab = pd.read_csv(raw_file)\n",
    "    siab.to_csv(cache_file, index=False, compression='gzip')\n",
    "    print(f\"Cached SIAB data to: {cache_file}\")\n",
    "\n",
    "print(siab.shape)"
   ]
  },
  {
   "cell_type": "code",
   "execution_count": 10,
   "id": "db0ca512-5f53-4dba-abdb-a2888bca41ba",
   "metadata": {
    "execution": {
     "iopub.execute_input": "2025-08-05T16:41:53.612311Z",
     "iopub.status.busy": "2025-08-05T16:41:53.611928Z",
     "iopub.status.idle": "2025-08-05T16:41:53.617202Z",
     "shell.execute_reply": "2025-08-05T16:41:53.616266Z"
    },
    "papermill": {
     "duration": 0.018521,
     "end_time": "2025-08-05T16:41:53.618652",
     "exception": false,
     "start_time": "2025-08-05T16:41:53.600131",
     "status": "completed"
    },
    "tags": []
   },
   "outputs": [],
   "source": [
    "#siab"
   ]
  },
  {
   "cell_type": "markdown",
   "id": "997051c5-15bd-4b69-9786-c3001a3ce484",
   "metadata": {
    "papermill": {
     "duration": 0.010548,
     "end_time": "2025-08-05T16:41:53.640170",
     "exception": false,
     "start_time": "2025-08-05T16:41:53.629622",
     "status": "completed"
    },
    "tags": []
   },
   "source": [
    "# Splitting Data and Setting Training Data Size"
   ]
  },
  {
   "cell_type": "code",
   "execution_count": 11,
   "id": "aea9c6ef-6f46-42c8-85eb-5a62025c1508",
   "metadata": {
    "execution": {
     "iopub.execute_input": "2025-08-05T16:41:53.665471Z",
     "iopub.status.busy": "2025-08-05T16:41:53.665009Z",
     "iopub.status.idle": "2025-08-05T16:41:54.711231Z",
     "shell.execute_reply": "2025-08-05T16:41:54.710320Z"
    },
    "papermill": {
     "duration": 1.059504,
     "end_time": "2025-08-05T16:41:54.712954",
     "exception": false,
     "start_time": "2025-08-05T16:41:53.653450",
     "status": "completed"
    },
    "tags": []
   },
   "outputs": [],
   "source": [
    "from fairness_multiverse.universe import sample_by_year_size\n",
    "\n",
    "siab_train = sample_by_year_size(siab,\n",
    "                               training_year=universe[\"training_year\"],\n",
    "                               training_size=universe[\"training_size\"])"
   ]
  },
  {
   "cell_type": "code",
   "execution_count": 12,
   "id": "8d3afb32-789d-442c-8d5d-9f5aa8dd2eed",
   "metadata": {
    "execution": {
     "iopub.execute_input": "2025-08-05T16:41:54.737299Z",
     "iopub.status.busy": "2025-08-05T16:41:54.736902Z",
     "iopub.status.idle": "2025-08-05T16:41:54.741756Z",
     "shell.execute_reply": "2025-08-05T16:41:54.740646Z"
    },
    "papermill": {
     "duration": 0.018485,
     "end_time": "2025-08-05T16:41:54.743211",
     "exception": false,
     "start_time": "2025-08-05T16:41:54.724726",
     "status": "completed"
    },
    "tags": []
   },
   "outputs": [],
   "source": [
    "#siab_train.shape"
   ]
  },
  {
   "cell_type": "code",
   "execution_count": 13,
   "id": "d582db68-1a4c-47fb-84fc-08518dc1975a",
   "metadata": {
    "execution": {
     "iopub.execute_input": "2025-08-05T16:41:54.768076Z",
     "iopub.status.busy": "2025-08-05T16:41:54.767476Z",
     "iopub.status.idle": "2025-08-05T16:41:54.772880Z",
     "shell.execute_reply": "2025-08-05T16:41:54.771964Z"
    },
    "papermill": {
     "duration": 0.019322,
     "end_time": "2025-08-05T16:41:54.774409",
     "exception": false,
     "start_time": "2025-08-05T16:41:54.755087",
     "status": "completed"
    },
    "tags": []
   },
   "outputs": [],
   "source": [
    "#display(siab_train.groupby(\"year\").size())"
   ]
  },
  {
   "cell_type": "code",
   "execution_count": 14,
   "id": "a561edb4-d032-42cb-8256-22eac1111c64",
   "metadata": {
    "execution": {
     "iopub.execute_input": "2025-08-05T16:41:54.799830Z",
     "iopub.status.busy": "2025-08-05T16:41:54.798900Z",
     "iopub.status.idle": "2025-08-05T16:41:55.029383Z",
     "shell.execute_reply": "2025-08-05T16:41:55.028481Z"
    },
    "papermill": {
     "duration": 0.244689,
     "end_time": "2025-08-05T16:41:55.031070",
     "exception": false,
     "start_time": "2025-08-05T16:41:54.786381",
     "status": "completed"
    },
    "tags": []
   },
   "outputs": [],
   "source": [
    "#siab_train = siab_s[siab_s.year < 2015]\n",
    "siab_calib = siab[siab.year == 2015]\n",
    "siab_test = siab[siab.year == 2016]"
   ]
  },
  {
   "cell_type": "code",
   "execution_count": 15,
   "id": "472de16f-c3db-4916-846b-1f0de9cf1746",
   "metadata": {
    "execution": {
     "iopub.execute_input": "2025-08-05T16:41:55.055590Z",
     "iopub.status.busy": "2025-08-05T16:41:55.054915Z",
     "iopub.status.idle": "2025-08-05T16:41:55.061226Z",
     "shell.execute_reply": "2025-08-05T16:41:55.060261Z"
    },
    "papermill": {
     "duration": 0.019876,
     "end_time": "2025-08-05T16:41:55.062749",
     "exception": false,
     "start_time": "2025-08-05T16:41:55.042873",
     "status": "completed"
    },
    "tags": []
   },
   "outputs": [],
   "source": [
    "X_train = siab_train.iloc[:,4:164]\n",
    "y_train = siab_train.iloc[:, [3]]"
   ]
  },
  {
   "cell_type": "code",
   "execution_count": 16,
   "id": "828c96af-f43a-4ed6-ba47-8ac73a47d56c",
   "metadata": {
    "execution": {
     "iopub.execute_input": "2025-08-05T16:41:55.087127Z",
     "iopub.status.busy": "2025-08-05T16:41:55.086339Z",
     "iopub.status.idle": "2025-08-05T16:41:55.138397Z",
     "shell.execute_reply": "2025-08-05T16:41:55.137207Z"
    },
    "papermill": {
     "duration": 0.066448,
     "end_time": "2025-08-05T16:41:55.140928",
     "exception": false,
     "start_time": "2025-08-05T16:41:55.074480",
     "status": "completed"
    },
    "tags": []
   },
   "outputs": [],
   "source": [
    "X_calib = siab_calib.iloc[:,4:164]\n",
    "y_calib = siab_calib.iloc[:, [3]]"
   ]
  },
  {
   "cell_type": "code",
   "execution_count": 17,
   "id": "c34be9c3-6bd6-476e-acd3-845840e303be",
   "metadata": {
    "execution": {
     "iopub.execute_input": "2025-08-05T16:41:55.190346Z",
     "iopub.status.busy": "2025-08-05T16:41:55.189481Z",
     "iopub.status.idle": "2025-08-05T16:41:55.246893Z",
     "shell.execute_reply": "2025-08-05T16:41:55.245432Z"
    },
    "papermill": {
     "duration": 0.084423,
     "end_time": "2025-08-05T16:41:55.248987",
     "exception": false,
     "start_time": "2025-08-05T16:41:55.164564",
     "status": "completed"
    },
    "tags": []
   },
   "outputs": [],
   "source": [
    "X_test = siab_test.iloc[:,4:164]\n",
    "y_true = siab_test.iloc[:, [3]]"
   ]
  },
  {
   "cell_type": "code",
   "execution_count": 18,
   "id": "e6c733c5",
   "metadata": {
    "execution": {
     "iopub.execute_input": "2025-08-05T16:41:55.296631Z",
     "iopub.status.busy": "2025-08-05T16:41:55.295863Z",
     "iopub.status.idle": "2025-08-05T16:41:55.399363Z",
     "shell.execute_reply": "2025-08-05T16:41:55.398185Z"
    },
    "papermill": {
     "duration": 0.129952,
     "end_time": "2025-08-05T16:41:55.401831",
     "exception": false,
     "start_time": "2025-08-05T16:41:55.271879",
     "status": "completed"
    },
    "tags": []
   },
   "outputs": [],
   "source": [
    "# Auxiliary data needed downstream in the pipeline\n",
    "\n",
    "org_train = X_train.copy()\n",
    "org_test = X_test.copy()\n",
    "org_calib = X_calib.copy()"
   ]
  },
  {
   "cell_type": "markdown",
   "id": "0a4a1b33",
   "metadata": {
    "papermill": {
     "duration": 0.02398,
     "end_time": "2025-08-05T16:41:55.450732",
     "exception": false,
     "start_time": "2025-08-05T16:41:55.426752",
     "status": "completed"
    },
    "tags": []
   },
   "source": [
    "# Preprocessing Data"
   ]
  },
  {
   "cell_type": "code",
   "execution_count": 19,
   "id": "ca879031",
   "metadata": {
    "execution": {
     "iopub.execute_input": "2025-08-05T16:41:55.500682Z",
     "iopub.status.busy": "2025-08-05T16:41:55.499892Z",
     "iopub.status.idle": "2025-08-05T16:41:55.507223Z",
     "shell.execute_reply": "2025-08-05T16:41:55.506068Z"
    },
    "papermill": {
     "duration": 0.034534,
     "end_time": "2025-08-05T16:41:55.509158",
     "exception": false,
     "start_time": "2025-08-05T16:41:55.474624",
     "status": "completed"
    },
    "tags": []
   },
   "outputs": [],
   "source": [
    "# EXCLUDE PROTECTED FEATURES\n",
    "# ----------------------\n",
    "# \"exclude_features\": \"none\", # \"nationality\", \"sex\", \"nationality-sex\"\n",
    "\n",
    "excluded_features = universe[\"exclude_features\"].split(\"-\") # split, e.g.: \"nationality-sex\" -> [\"nationality\", \"sex\"]\n",
    "excluded_features_dictionary = {\n",
    "    \"nationality\": [\"maxdeutsch1\", \"maxdeutsch.Missing.\"],\n",
    "    \"sex\": [\"frau1\"],\n",
    "    \"age\": [\"age\"],\n",
    "}"
   ]
  },
  {
   "cell_type": "code",
   "execution_count": 20,
   "id": "b745ac60",
   "metadata": {
    "execution": {
     "iopub.execute_input": "2025-08-05T16:41:55.560071Z",
     "iopub.status.busy": "2025-08-05T16:41:55.559275Z",
     "iopub.status.idle": "2025-08-05T16:41:55.566207Z",
     "shell.execute_reply": "2025-08-05T16:41:55.565063Z"
    },
    "papermill": {
     "duration": 0.0346,
     "end_time": "2025-08-05T16:41:55.568348",
     "exception": false,
     "start_time": "2025-08-05T16:41:55.533748",
     "status": "completed"
    },
    "tags": []
   },
   "outputs": [],
   "source": [
    "# Code nice names to column names\n",
    "\n",
    "excluded_features_columns = [\n",
    "    excluded_features_dictionary[f] for f in excluded_features if len(f) > 0 and f != \"none\"\n",
    "]"
   ]
  },
  {
   "cell_type": "code",
   "execution_count": 21,
   "id": "f84f73a2",
   "metadata": {
    "execution": {
     "iopub.execute_input": "2025-08-05T16:41:55.620174Z",
     "iopub.status.busy": "2025-08-05T16:41:55.619382Z",
     "iopub.status.idle": "2025-08-05T16:41:55.627543Z",
     "shell.execute_reply": "2025-08-05T16:41:55.626503Z"
    },
    "papermill": {
     "duration": 0.036343,
     "end_time": "2025-08-05T16:41:55.629451",
     "exception": false,
     "start_time": "2025-08-05T16:41:55.593108",
     "status": "completed"
    },
    "tags": []
   },
   "outputs": [],
   "source": [
    "from utils import flatten_once\n",
    "\n",
    "excluded_features_columns = flatten_once(excluded_features_columns)"
   ]
  },
  {
   "cell_type": "code",
   "execution_count": 22,
   "id": "884dea22",
   "metadata": {
    "execution": {
     "iopub.execute_input": "2025-08-05T16:41:55.673999Z",
     "iopub.status.busy": "2025-08-05T16:41:55.673038Z",
     "iopub.status.idle": "2025-08-05T16:41:55.683020Z",
     "shell.execute_reply": "2025-08-05T16:41:55.681977Z"
    },
    "papermill": {
     "duration": 0.034309,
     "end_time": "2025-08-05T16:41:55.684880",
     "exception": false,
     "start_time": "2025-08-05T16:41:55.650571",
     "status": "completed"
    },
    "tags": []
   },
   "outputs": [
    {
     "name": "stdout",
     "output_type": "stream",
     "text": [
      "Dropping features: ['frau1']\n"
     ]
    }
   ],
   "source": [
    "if len(excluded_features_columns) > 0:\n",
    "    print(f\"Dropping features: {excluded_features_columns}\")\n",
    "    X_train.drop(excluded_features_columns, axis=1, inplace=True)"
   ]
  },
  {
   "cell_type": "code",
   "execution_count": 23,
   "id": "95ab8b16",
   "metadata": {
    "execution": {
     "iopub.execute_input": "2025-08-05T16:41:55.730232Z",
     "iopub.status.busy": "2025-08-05T16:41:55.729167Z",
     "iopub.status.idle": "2025-08-05T16:41:55.789738Z",
     "shell.execute_reply": "2025-08-05T16:41:55.788428Z"
    },
    "papermill": {
     "duration": 0.085938,
     "end_time": "2025-08-05T16:41:55.792101",
     "exception": false,
     "start_time": "2025-08-05T16:41:55.706163",
     "status": "completed"
    },
    "tags": []
   },
   "outputs": [
    {
     "name": "stdout",
     "output_type": "stream",
     "text": [
      "Dropping features: ['frau1']\n"
     ]
    }
   ],
   "source": [
    "if len(excluded_features_columns) > 0:\n",
    "    print(f\"Dropping features: {excluded_features_columns}\")\n",
    "    X_test.drop(excluded_features_columns, axis=1, inplace=True)"
   ]
  },
  {
   "cell_type": "code",
   "execution_count": 24,
   "id": "1853aaf5-fb9f-46cb-a2b5-8ea4ae2237e4",
   "metadata": {
    "execution": {
     "iopub.execute_input": "2025-08-05T16:41:55.846495Z",
     "iopub.status.busy": "2025-08-05T16:41:55.845312Z",
     "iopub.status.idle": "2025-08-05T16:41:55.902942Z",
     "shell.execute_reply": "2025-08-05T16:41:55.901540Z"
    },
    "papermill": {
     "duration": 0.086322,
     "end_time": "2025-08-05T16:41:55.905367",
     "exception": false,
     "start_time": "2025-08-05T16:41:55.819045",
     "status": "completed"
    },
    "tags": []
   },
   "outputs": [
    {
     "name": "stdout",
     "output_type": "stream",
     "text": [
      "Dropping features: ['frau1']\n"
     ]
    }
   ],
   "source": [
    "if len(excluded_features_columns) > 0:\n",
    "    print(f\"Dropping features: {excluded_features_columns}\")\n",
    "    X_calib.drop(excluded_features_columns, axis=1, inplace=True)"
   ]
  },
  {
   "cell_type": "code",
   "execution_count": 25,
   "id": "76c4dc6d",
   "metadata": {
    "execution": {
     "iopub.execute_input": "2025-08-05T16:41:55.960083Z",
     "iopub.status.busy": "2025-08-05T16:41:55.958954Z",
     "iopub.status.idle": "2025-08-05T16:41:55.965572Z",
     "shell.execute_reply": "2025-08-05T16:41:55.964277Z"
    },
    "papermill": {
     "duration": 0.035479,
     "end_time": "2025-08-05T16:41:55.967817",
     "exception": false,
     "start_time": "2025-08-05T16:41:55.932338",
     "status": "completed"
    },
    "tags": []
   },
   "outputs": [],
   "source": [
    "# EXCLUDE CERTAIN SUBGROUPS\n",
    "# ----------------------\n",
    "\n",
    "mode = universe.get(\"exclude_subgroups\", \"keep-all\") \n",
    "# Fetches the exclude_subgroups setting from the universe dict.\n",
    "# Defaults to \"keep-all\" if the key is missing."
   ]
  },
  {
   "cell_type": "code",
   "execution_count": 26,
   "id": "21994072",
   "metadata": {
    "execution": {
     "iopub.execute_input": "2025-08-05T16:41:56.023409Z",
     "iopub.status.busy": "2025-08-05T16:41:56.022563Z",
     "iopub.status.idle": "2025-08-05T16:41:56.032548Z",
     "shell.execute_reply": "2025-08-05T16:41:56.031435Z"
    },
    "papermill": {
     "duration": 0.040346,
     "end_time": "2025-08-05T16:41:56.034642",
     "exception": false,
     "start_time": "2025-08-05T16:41:55.994296",
     "status": "completed"
    },
    "tags": []
   },
   "outputs": [],
   "source": [
    "if mode == \"keep-all\":\n",
    "    keep_mask = pd.Series(True, index=org_train.index)\n",
    "\n",
    "# org_train contains the original feature columns from features_org (in Simson)\n",
    "# features_org contains unprocessed features, for me X_train at beginning ???\n",
    "# For keep-all, creates a boolean Series (keep_mask) of all True, so no rows are removed.\n",
    "\n",
    "elif mode == \"drop-non-german\":\n",
    "    keep_mask = org_train[\"maxdeutsch1\"] == 1 # ??? what about missing values?\n",
    "\n",
    "else:\n",
    "    raise ValueError(f\"Unsupported mode for exclude_subgroups: {mode}\")"
   ]
  },
  {
   "cell_type": "code",
   "execution_count": 27,
   "id": "71651440",
   "metadata": {
    "execution": {
     "iopub.execute_input": "2025-08-05T16:41:56.089734Z",
     "iopub.status.busy": "2025-08-05T16:41:56.088886Z",
     "iopub.status.idle": "2025-08-05T16:41:56.097094Z",
     "shell.execute_reply": "2025-08-05T16:41:56.095977Z"
    },
    "papermill": {
     "duration": 0.037641,
     "end_time": "2025-08-05T16:41:56.099244",
     "exception": false,
     "start_time": "2025-08-05T16:41:56.061603",
     "status": "completed"
    },
    "tags": []
   },
   "outputs": [
    {
     "name": "stdout",
     "output_type": "stream",
     "text": [
      "Dropping 131 rows (13.10%) where mode='drop-non-german'\n"
     ]
    }
   ],
   "source": [
    "n_drop = (~keep_mask).sum() # Calculates how many rows are set to be dropped\n",
    "if n_drop > 0:\n",
    "    pct = n_drop / len(keep_mask) * 100\n",
    "    print(f\"Dropping {n_drop} rows ({pct:.2f}%) where mode='{mode}'\")"
   ]
  },
  {
   "cell_type": "code",
   "execution_count": 28,
   "id": "5fb8eee5",
   "metadata": {
    "execution": {
     "iopub.execute_input": "2025-08-05T16:41:56.154780Z",
     "iopub.status.busy": "2025-08-05T16:41:56.153597Z",
     "iopub.status.idle": "2025-08-05T16:41:56.161591Z",
     "shell.execute_reply": "2025-08-05T16:41:56.160401Z"
    },
    "papermill": {
     "duration": 0.037786,
     "end_time": "2025-08-05T16:41:56.163559",
     "exception": false,
     "start_time": "2025-08-05T16:41:56.125773",
     "status": "completed"
    },
    "tags": []
   },
   "outputs": [],
   "source": [
    "X_train = X_train[keep_mask]"
   ]
  },
  {
   "cell_type": "code",
   "execution_count": 29,
   "id": "b202bb3a",
   "metadata": {
    "execution": {
     "iopub.execute_input": "2025-08-05T16:41:56.218890Z",
     "iopub.status.busy": "2025-08-05T16:41:56.218023Z",
     "iopub.status.idle": "2025-08-05T16:41:56.225372Z",
     "shell.execute_reply": "2025-08-05T16:41:56.224259Z"
    },
    "papermill": {
     "duration": 0.036627,
     "end_time": "2025-08-05T16:41:56.227455",
     "exception": false,
     "start_time": "2025-08-05T16:41:56.190828",
     "status": "completed"
    },
    "tags": []
   },
   "outputs": [],
   "source": [
    "y_train = y_train[keep_mask]"
   ]
  },
  {
   "cell_type": "markdown",
   "id": "493e2ac3",
   "metadata": {
    "papermill": {
     "duration": 0.026022,
     "end_time": "2025-08-05T16:41:56.280079",
     "exception": false,
     "start_time": "2025-08-05T16:41:56.254057",
     "status": "completed"
    },
    "tags": []
   },
   "source": [
    "# Model Training"
   ]
  },
  {
   "cell_type": "code",
   "execution_count": 30,
   "id": "679e1268",
   "metadata": {
    "execution": {
     "iopub.execute_input": "2025-08-05T16:41:56.334750Z",
     "iopub.status.busy": "2025-08-05T16:41:56.333753Z",
     "iopub.status.idle": "2025-08-05T16:41:56.476649Z",
     "shell.execute_reply": "2025-08-05T16:41:56.475462Z"
    },
    "papermill": {
     "duration": 0.172697,
     "end_time": "2025-08-05T16:41:56.478968",
     "exception": false,
     "start_time": "2025-08-05T16:41:56.306271",
     "status": "completed"
    },
    "tags": []
   },
   "outputs": [],
   "source": [
    "from sklearn.linear_model import LogisticRegression\n",
    "from sklearn.ensemble import GradientBoostingClassifier, RandomForestClassifier\n",
    "\n",
    "if (universe[\"model\"] == \"logreg\"):\n",
    "    model = LogisticRegression() #penalty=\"none\", solver=\"newton-cg\", max_iter=1) # include random_state=19 ?\n",
    "elif (universe[\"model\"] == \"penalized_logreg\"):\n",
    "    model = LogisticRegression(penalty=\"l2\", C=0.1) #, solver=\"newton-cg\", max_iter=1)\n",
    "elif (universe[\"model\"] == \"rf\"):\n",
    "    model = RandomForestClassifier() # n_estimators=100, n_jobs=-1\n",
    "elif (universe[\"model\"] == \"gbm\"):\n",
    "    model = GradientBoostingClassifier()\n",
    "elif (universe[\"model\"] == \"elasticnet\"):\n",
    "    model = LogisticRegression(penalty = 'elasticnet', solver = 'saga', l1_ratio = 0.5) # max_iter=5000\n",
    "else:\n",
    "    raise \"Unsupported universe.model\""
   ]
  },
  {
   "cell_type": "code",
   "execution_count": 31,
   "id": "0cc8f744",
   "metadata": {
    "execution": {
     "iopub.execute_input": "2025-08-05T16:41:56.534144Z",
     "iopub.status.busy": "2025-08-05T16:41:56.533051Z",
     "iopub.status.idle": "2025-08-05T16:41:56.540801Z",
     "shell.execute_reply": "2025-08-05T16:41:56.539554Z"
    },
    "papermill": {
     "duration": 0.03851,
     "end_time": "2025-08-05T16:41:56.544575",
     "exception": false,
     "start_time": "2025-08-05T16:41:56.506065",
     "status": "completed"
    },
    "tags": []
   },
   "outputs": [],
   "source": [
    "import numpy as np\n",
    "from sklearn.pipeline import Pipeline\n",
    "from sklearn.preprocessing import StandardScaler\n",
    "\n",
    "model = Pipeline([\n",
    "    #(\"continuous_processor\", continuous_processor),\n",
    "    #(\"categorical_preprocessor\", categorical_preprocessor),\n",
    "    (\"scale\", StandardScaler() if universe[\"scale\"] == \"scale\" else None), \n",
    "    (\"model\", model),\n",
    "])"
   ]
  },
  {
   "cell_type": "code",
   "execution_count": 32,
   "id": "9442c04d",
   "metadata": {
    "execution": {
     "iopub.execute_input": "2025-08-05T16:41:56.599773Z",
     "iopub.status.busy": "2025-08-05T16:41:56.598978Z",
     "iopub.status.idle": "2025-08-05T16:41:57.103676Z",
     "shell.execute_reply": "2025-08-05T16:41:57.102274Z"
    },
    "papermill": {
     "duration": 0.535743,
     "end_time": "2025-08-05T16:41:57.106382",
     "exception": false,
     "start_time": "2025-08-05T16:41:56.570639",
     "status": "completed"
    },
    "tags": []
   },
   "outputs": [
    {
     "data": {
      "text/html": [
       "<style>#sk-container-id-1 {color: black;background-color: white;}#sk-container-id-1 pre{padding: 0;}#sk-container-id-1 div.sk-toggleable {background-color: white;}#sk-container-id-1 label.sk-toggleable__label {cursor: pointer;display: block;width: 100%;margin-bottom: 0;padding: 0.3em;box-sizing: border-box;text-align: center;}#sk-container-id-1 label.sk-toggleable__label-arrow:before {content: \"▸\";float: left;margin-right: 0.25em;color: #696969;}#sk-container-id-1 label.sk-toggleable__label-arrow:hover:before {color: black;}#sk-container-id-1 div.sk-estimator:hover label.sk-toggleable__label-arrow:before {color: black;}#sk-container-id-1 div.sk-toggleable__content {max-height: 0;max-width: 0;overflow: hidden;text-align: left;background-color: #f0f8ff;}#sk-container-id-1 div.sk-toggleable__content pre {margin: 0.2em;color: black;border-radius: 0.25em;background-color: #f0f8ff;}#sk-container-id-1 input.sk-toggleable__control:checked~div.sk-toggleable__content {max-height: 200px;max-width: 100%;overflow: auto;}#sk-container-id-1 input.sk-toggleable__control:checked~label.sk-toggleable__label-arrow:before {content: \"▾\";}#sk-container-id-1 div.sk-estimator input.sk-toggleable__control:checked~label.sk-toggleable__label {background-color: #d4ebff;}#sk-container-id-1 div.sk-label input.sk-toggleable__control:checked~label.sk-toggleable__label {background-color: #d4ebff;}#sk-container-id-1 input.sk-hidden--visually {border: 0;clip: rect(1px 1px 1px 1px);clip: rect(1px, 1px, 1px, 1px);height: 1px;margin: -1px;overflow: hidden;padding: 0;position: absolute;width: 1px;}#sk-container-id-1 div.sk-estimator {font-family: monospace;background-color: #f0f8ff;border: 1px dotted black;border-radius: 0.25em;box-sizing: border-box;margin-bottom: 0.5em;}#sk-container-id-1 div.sk-estimator:hover {background-color: #d4ebff;}#sk-container-id-1 div.sk-parallel-item::after {content: \"\";width: 100%;border-bottom: 1px solid gray;flex-grow: 1;}#sk-container-id-1 div.sk-label:hover label.sk-toggleable__label {background-color: #d4ebff;}#sk-container-id-1 div.sk-serial::before {content: \"\";position: absolute;border-left: 1px solid gray;box-sizing: border-box;top: 0;bottom: 0;left: 50%;z-index: 0;}#sk-container-id-1 div.sk-serial {display: flex;flex-direction: column;align-items: center;background-color: white;padding-right: 0.2em;padding-left: 0.2em;position: relative;}#sk-container-id-1 div.sk-item {position: relative;z-index: 1;}#sk-container-id-1 div.sk-parallel {display: flex;align-items: stretch;justify-content: center;background-color: white;position: relative;}#sk-container-id-1 div.sk-item::before, #sk-container-id-1 div.sk-parallel-item::before {content: \"\";position: absolute;border-left: 1px solid gray;box-sizing: border-box;top: 0;bottom: 0;left: 50%;z-index: -1;}#sk-container-id-1 div.sk-parallel-item {display: flex;flex-direction: column;z-index: 1;position: relative;background-color: white;}#sk-container-id-1 div.sk-parallel-item:first-child::after {align-self: flex-end;width: 50%;}#sk-container-id-1 div.sk-parallel-item:last-child::after {align-self: flex-start;width: 50%;}#sk-container-id-1 div.sk-parallel-item:only-child::after {width: 0;}#sk-container-id-1 div.sk-dashed-wrapped {border: 1px dashed gray;margin: 0 0.4em 0.5em 0.4em;box-sizing: border-box;padding-bottom: 0.4em;background-color: white;}#sk-container-id-1 div.sk-label label {font-family: monospace;font-weight: bold;display: inline-block;line-height: 1.2em;}#sk-container-id-1 div.sk-label-container {text-align: center;}#sk-container-id-1 div.sk-container {/* jupyter's `normalize.less` sets `[hidden] { display: none; }` but bootstrap.min.css set `[hidden] { display: none !important; }` so we also need the `!important` here to be able to override the default hidden behavior on the sphinx rendered scikit-learn.org. See: https://github.com/scikit-learn/scikit-learn/issues/21755 */display: inline-block !important;position: relative;}#sk-container-id-1 div.sk-text-repr-fallback {display: none;}</style><div id=\"sk-container-id-1\" class=\"sk-top-container\"><div class=\"sk-text-repr-fallback\"><pre>Pipeline(steps=[(&#x27;scale&#x27;, None), (&#x27;model&#x27;, RandomForestClassifier())])</pre><b>In a Jupyter environment, please rerun this cell to show the HTML representation or trust the notebook. <br />On GitHub, the HTML representation is unable to render, please try loading this page with nbviewer.org.</b></div><div class=\"sk-container\" hidden><div class=\"sk-item sk-dashed-wrapped\"><div class=\"sk-label-container\"><div class=\"sk-label sk-toggleable\"><input class=\"sk-toggleable__control sk-hidden--visually\" id=\"sk-estimator-id-1\" type=\"checkbox\" ><label for=\"sk-estimator-id-1\" class=\"sk-toggleable__label sk-toggleable__label-arrow\">Pipeline</label><div class=\"sk-toggleable__content\"><pre>Pipeline(steps=[(&#x27;scale&#x27;, None), (&#x27;model&#x27;, RandomForestClassifier())])</pre></div></div></div><div class=\"sk-serial\"><div class=\"sk-item\"><div class=\"sk-estimator sk-toggleable\"><input class=\"sk-toggleable__control sk-hidden--visually\" id=\"sk-estimator-id-2\" type=\"checkbox\" ><label for=\"sk-estimator-id-2\" class=\"sk-toggleable__label sk-toggleable__label-arrow\">None</label><div class=\"sk-toggleable__content\"><pre>None</pre></div></div></div><div class=\"sk-item\"><div class=\"sk-estimator sk-toggleable\"><input class=\"sk-toggleable__control sk-hidden--visually\" id=\"sk-estimator-id-3\" type=\"checkbox\" ><label for=\"sk-estimator-id-3\" class=\"sk-toggleable__label sk-toggleable__label-arrow\">RandomForestClassifier</label><div class=\"sk-toggleable__content\"><pre>RandomForestClassifier()</pre></div></div></div></div></div></div></div>"
      ],
      "text/plain": [
       "Pipeline(steps=[('scale', None), ('model', RandomForestClassifier())])"
      ]
     },
     "execution_count": 32,
     "metadata": {},
     "output_type": "execute_result"
    }
   ],
   "source": [
    "model.fit(X_train, y_train.values.ravel())"
   ]
  },
  {
   "cell_type": "code",
   "execution_count": 33,
   "id": "af59f8c0",
   "metadata": {
    "execution": {
     "iopub.execute_input": "2025-08-05T16:41:57.183156Z",
     "iopub.status.busy": "2025-08-05T16:41:57.182635Z",
     "iopub.status.idle": "2025-08-05T16:41:57.189793Z",
     "shell.execute_reply": "2025-08-05T16:41:57.188213Z"
    },
    "papermill": {
     "duration": 0.048617,
     "end_time": "2025-08-05T16:41:57.192441",
     "exception": false,
     "start_time": "2025-08-05T16:41:57.143824",
     "status": "completed"
    },
    "tags": []
   },
   "outputs": [],
   "source": [
    "from fairness_multiverse.universe import predict_w_threshold"
   ]
  },
  {
   "cell_type": "code",
   "execution_count": 34,
   "id": "a7cf2e16",
   "metadata": {
    "execution": {
     "iopub.execute_input": "2025-08-05T16:41:57.262117Z",
     "iopub.status.busy": "2025-08-05T16:41:57.261251Z",
     "iopub.status.idle": "2025-08-05T16:41:59.185851Z",
     "shell.execute_reply": "2025-08-05T16:41:59.184658Z"
    },
    "papermill": {
     "duration": 1.964033,
     "end_time": "2025-08-05T16:41:59.187371",
     "exception": false,
     "start_time": "2025-08-05T16:41:57.223338",
     "status": "completed"
    },
    "tags": []
   },
   "outputs": [
    {
     "data": {
      "text/plain": [
       "0.8611637498606621"
      ]
     },
     "execution_count": 34,
     "metadata": {},
     "output_type": "execute_result"
    }
   ],
   "source": [
    "probs_test = model.predict_proba(X_test)\n",
    "\n",
    "'''\n",
    "Below code returns a boolean array (or binary 0/1 array depending on how it’s used) where each element \n",
    "is True if the probability of class 1 is greater than or equal to the threshold, and False otherwise.\n",
    "'''\n",
    "y_pred_default = predict_w_threshold(probs_test, 0.5)\n",
    "\n",
    "from sklearn.metrics import accuracy_score\n",
    "\n",
    "# Naive prediction\n",
    "accuracy_score(y_true = y_true, y_pred = y_pred_default)"
   ]
  },
  {
   "cell_type": "code",
   "execution_count": 35,
   "id": "081964c3",
   "metadata": {
    "execution": {
     "iopub.execute_input": "2025-08-05T16:41:59.242198Z",
     "iopub.status.busy": "2025-08-05T16:41:59.241167Z",
     "iopub.status.idle": "2025-08-05T16:42:00.978147Z",
     "shell.execute_reply": "2025-08-05T16:42:00.976999Z"
    },
    "papermill": {
     "duration": 1.766983,
     "end_time": "2025-08-05T16:42:00.980134",
     "exception": false,
     "start_time": "2025-08-05T16:41:59.213151",
     "status": "completed"
    },
    "tags": []
   },
   "outputs": [
    {
     "data": {
      "text/plain": [
       "array([0, 0, 0, ..., 0, 0, 0])"
      ]
     },
     "execution_count": 35,
     "metadata": {},
     "output_type": "execute_result"
    }
   ],
   "source": [
    "model.predict(X_test)"
   ]
  },
  {
   "cell_type": "markdown",
   "id": "56c9705b",
   "metadata": {
    "papermill": {
     "duration": 0.025325,
     "end_time": "2025-08-05T16:42:01.031141",
     "exception": false,
     "start_time": "2025-08-05T16:42:01.005816",
     "status": "completed"
    },
    "tags": []
   },
   "source": [
    "# Conformal Prediction"
   ]
  },
  {
   "cell_type": "code",
   "execution_count": 36,
   "id": "160ec6ff",
   "metadata": {
    "execution": {
     "iopub.execute_input": "2025-08-05T16:42:01.082580Z",
     "iopub.status.busy": "2025-08-05T16:42:01.081620Z",
     "iopub.status.idle": "2025-08-05T16:42:01.088007Z",
     "shell.execute_reply": "2025-08-05T16:42:01.086770Z"
    },
    "papermill": {
     "duration": 0.034735,
     "end_time": "2025-08-05T16:42:01.089977",
     "exception": false,
     "start_time": "2025-08-05T16:42:01.055242",
     "status": "completed"
    },
    "tags": []
   },
   "outputs": [],
   "source": [
    "# Miscoverage level for conformal prediction (10% allowed error rate => 90% target coverage)\n",
    "alpha = 0.1"
   ]
  },
  {
   "cell_type": "code",
   "execution_count": 37,
   "id": "eadf4555-3dd3-440e-8e35-f82a4ad9f855",
   "metadata": {
    "execution": {
     "iopub.execute_input": "2025-08-05T16:42:01.142447Z",
     "iopub.status.busy": "2025-08-05T16:42:01.141436Z",
     "iopub.status.idle": "2025-08-05T16:42:03.025014Z",
     "shell.execute_reply": "2025-08-05T16:42:03.023756Z"
    },
    "papermill": {
     "duration": 1.911921,
     "end_time": "2025-08-05T16:42:03.027284",
     "exception": false,
     "start_time": "2025-08-05T16:42:01.115363",
     "status": "completed"
    },
    "tags": []
   },
   "outputs": [],
   "source": [
    "probs_calib = model.predict_proba(X_calib)"
   ]
  },
  {
   "cell_type": "code",
   "execution_count": 38,
   "id": "2ed93547-6d5d-4983-9b36-1ecb300da49a",
   "metadata": {
    "execution": {
     "iopub.execute_input": "2025-08-05T16:42:03.081845Z",
     "iopub.status.busy": "2025-08-05T16:42:03.081207Z",
     "iopub.status.idle": "2025-08-05T16:42:03.088239Z",
     "shell.execute_reply": "2025-08-05T16:42:03.086879Z"
    },
    "papermill": {
     "duration": 0.036072,
     "end_time": "2025-08-05T16:42:03.090200",
     "exception": false,
     "start_time": "2025-08-05T16:42:03.054128",
     "status": "completed"
    },
    "tags": []
   },
   "outputs": [],
   "source": [
    "y_calib = y_calib.values.ravel().astype(int)"
   ]
  },
  {
   "cell_type": "code",
   "execution_count": 39,
   "id": "65d1320d-f588-4b38-9072-62af1ae97f7d",
   "metadata": {
    "execution": {
     "iopub.execute_input": "2025-08-05T16:42:03.144901Z",
     "iopub.status.busy": "2025-08-05T16:42:03.143971Z",
     "iopub.status.idle": "2025-08-05T16:42:03.152891Z",
     "shell.execute_reply": "2025-08-05T16:42:03.151714Z"
    },
    "papermill": {
     "duration": 0.038262,
     "end_time": "2025-08-05T16:42:03.154884",
     "exception": false,
     "start_time": "2025-08-05T16:42:03.116622",
     "status": "completed"
    },
    "tags": []
   },
   "outputs": [],
   "source": [
    "from fairness_multiverse.conformal import compute_nc_scores\n",
    "\n",
    "# Compute nonconformity scores on calibration set (1 - probability of true class)\n",
    "nc_scores = compute_nc_scores(probs_calib, y_calib)"
   ]
  },
  {
   "cell_type": "code",
   "execution_count": 40,
   "id": "df3b8ca3-53b7-43d5-9667-7c85da7aeda2",
   "metadata": {
    "execution": {
     "iopub.execute_input": "2025-08-05T16:42:03.209133Z",
     "iopub.status.busy": "2025-08-05T16:42:03.207959Z",
     "iopub.status.idle": "2025-08-05T16:42:03.215992Z",
     "shell.execute_reply": "2025-08-05T16:42:03.214808Z"
    },
    "papermill": {
     "duration": 0.037328,
     "end_time": "2025-08-05T16:42:03.218068",
     "exception": false,
     "start_time": "2025-08-05T16:42:03.180740",
     "status": "completed"
    },
    "tags": []
   },
   "outputs": [],
   "source": [
    "from fairness_multiverse.conformal import find_threshold\n",
    "\n",
    "# Find conformal threshold q_hat for the given alpha (split conformal method)\n",
    "q_hat = find_threshold(nc_scores, alpha)"
   ]
  },
  {
   "cell_type": "code",
   "execution_count": 41,
   "id": "4d29e6c1-0ef6-4aa4-b8fe-4fe79b0d033a",
   "metadata": {
    "execution": {
     "iopub.execute_input": "2025-08-05T16:42:03.272509Z",
     "iopub.status.busy": "2025-08-05T16:42:03.271471Z",
     "iopub.status.idle": "2025-08-05T16:42:03.279539Z",
     "shell.execute_reply": "2025-08-05T16:42:03.278532Z"
    },
    "papermill": {
     "duration": 0.037098,
     "end_time": "2025-08-05T16:42:03.281408",
     "exception": false,
     "start_time": "2025-08-05T16:42:03.244310",
     "status": "completed"
    },
    "tags": []
   },
   "outputs": [
    {
     "data": {
      "text/plain": [
       "0.6599999999999999"
      ]
     },
     "execution_count": 41,
     "metadata": {},
     "output_type": "execute_result"
    }
   ],
   "source": [
    "q_hat"
   ]
  },
  {
   "cell_type": "code",
   "execution_count": 42,
   "id": "92460794-cdac-4be2-ba28-f28c0515a6fb",
   "metadata": {
    "execution": {
     "iopub.execute_input": "2025-08-05T16:42:03.318651Z",
     "iopub.status.busy": "2025-08-05T16:42:03.318261Z",
     "iopub.status.idle": "2025-08-05T16:42:05.999439Z",
     "shell.execute_reply": "2025-08-05T16:42:05.998285Z"
    },
    "papermill": {
     "duration": 2.69704,
     "end_time": "2025-08-05T16:42:06.001781",
     "exception": false,
     "start_time": "2025-08-05T16:42:03.304741",
     "status": "completed"
    },
    "tags": []
   },
   "outputs": [],
   "source": [
    "from fairness_multiverse.conformal import predict_conformal_sets\n",
    "\n",
    "# Generate prediction sets for each test example\n",
    "pred_sets = predict_conformal_sets(model, X_test, q_hat)"
   ]
  },
  {
   "cell_type": "code",
   "execution_count": 43,
   "id": "d90c9a65-e6db-4f5d-80cd-e68fb7e46829",
   "metadata": {
    "execution": {
     "iopub.execute_input": "2025-08-05T16:42:06.061998Z",
     "iopub.status.busy": "2025-08-05T16:42:06.060698Z",
     "iopub.status.idle": "2025-08-05T16:42:06.067333Z",
     "shell.execute_reply": "2025-08-05T16:42:06.066190Z"
    },
    "papermill": {
     "duration": 0.038096,
     "end_time": "2025-08-05T16:42:06.069329",
     "exception": false,
     "start_time": "2025-08-05T16:42:06.031233",
     "status": "completed"
    },
    "tags": []
   },
   "outputs": [],
   "source": [
    "y_true = y_true.squeeze()"
   ]
  },
  {
   "cell_type": "code",
   "execution_count": 44,
   "id": "3a58a54a-1e68-46b9-927a-df01f18aebc8",
   "metadata": {
    "execution": {
     "iopub.execute_input": "2025-08-05T16:42:06.128584Z",
     "iopub.status.busy": "2025-08-05T16:42:06.127839Z",
     "iopub.status.idle": "2025-08-05T16:42:07.248460Z",
     "shell.execute_reply": "2025-08-05T16:42:07.247286Z"
    },
    "papermill": {
     "duration": 1.152335,
     "end_time": "2025-08-05T16:42:07.250517",
     "exception": false,
     "start_time": "2025-08-05T16:42:06.098182",
     "status": "completed"
    },
    "tags": []
   },
   "outputs": [],
   "source": [
    "from fairness_multiverse.conformal import evaluate_sets\n",
    "\n",
    "# Evaluate coverage and average set size on test data\n",
    "metrics = evaluate_sets(pred_sets, y_true)"
   ]
  },
  {
   "cell_type": "markdown",
   "id": "2b569c12-9aaa-4c88-98c9-bbcd0cf3ebb8",
   "metadata": {
    "papermill": {
     "duration": 0.028723,
     "end_time": "2025-08-05T16:42:07.304961",
     "exception": false,
     "start_time": "2025-08-05T16:42:07.276238",
     "status": "completed"
    },
    "tags": []
   },
   "source": [
    "# CP Metrics"
   ]
  },
  {
   "cell_type": "code",
   "execution_count": 45,
   "id": "5ce0a5cb-201f-45a0-ade5-94c7f0bd6095",
   "metadata": {
    "execution": {
     "iopub.execute_input": "2025-08-05T16:42:07.360274Z",
     "iopub.status.busy": "2025-08-05T16:42:07.359712Z",
     "iopub.status.idle": "2025-08-05T16:42:07.367524Z",
     "shell.execute_reply": "2025-08-05T16:42:07.366667Z"
    },
    "papermill": {
     "duration": 0.036131,
     "end_time": "2025-08-05T16:42:07.369022",
     "exception": false,
     "start_time": "2025-08-05T16:42:07.332891",
     "status": "completed"
    },
    "tags": []
   },
   "outputs": [
    {
     "data": {
      "text/plain": [
       "{'coverage': 0.9165979266525471, 'avg_size': 1.1662245011704382}"
      ]
     },
     "execution_count": 45,
     "metadata": {},
     "output_type": "execute_result"
    }
   ],
   "source": [
    "metrics"
   ]
  },
  {
   "cell_type": "code",
   "execution_count": 46,
   "id": "9b9a838d-31c9-430b-ae14-12baee460d17",
   "metadata": {
    "execution": {
     "iopub.execute_input": "2025-08-05T16:42:07.398451Z",
     "iopub.status.busy": "2025-08-05T16:42:07.398060Z",
     "iopub.status.idle": "2025-08-05T16:42:07.433745Z",
     "shell.execute_reply": "2025-08-05T16:42:07.432713Z"
    },
    "papermill": {
     "duration": 0.052469,
     "end_time": "2025-08-05T16:42:07.435452",
     "exception": false,
     "start_time": "2025-08-05T16:42:07.382983",
     "status": "completed"
    },
    "tags": []
   },
   "outputs": [],
   "source": [
    "example_universe = universe.copy()\n",
    "universe_training_year = example_universe.get(\"training_year\")\n",
    "universe_training_size = example_universe.get(\"training_size\")\n",
    "universe_scale = example_universe.get(\"scale\")\n",
    "universe_model = example_universe.get(\"model\")\n",
    "universe_exclude_features = example_universe.get(\"exclude_features\")\n",
    "universe_exclude_subgroups = example_universe.get(\"exclude_subgroups\")"
   ]
  },
  {
   "cell_type": "code",
   "execution_count": 47,
   "id": "f4b6a8ac-9dc0-4245-8a91-5b3b5999c4f9",
   "metadata": {
    "execution": {
     "iopub.execute_input": "2025-08-05T16:42:07.468709Z",
     "iopub.status.busy": "2025-08-05T16:42:07.468296Z",
     "iopub.status.idle": "2025-08-05T16:42:07.474215Z",
     "shell.execute_reply": "2025-08-05T16:42:07.473329Z"
    },
    "papermill": {
     "duration": 0.022218,
     "end_time": "2025-08-05T16:42:07.476060",
     "exception": false,
     "start_time": "2025-08-05T16:42:07.453842",
     "status": "completed"
    },
    "tags": []
   },
   "outputs": [],
   "source": [
    "cp_metrics_dict = {\n",
    "    \"universe_id\": [universe_id],\n",
    "    \"universe_training_year\": [universe_training_year],\n",
    "    \"universe_training_size\": [universe_training_size],\n",
    "    \"universe_scale\": [universe_scale],\n",
    "    \"universe_model\": [universe_model],\n",
    "    \"universe_exclude_features\": [universe_exclude_features],\n",
    "    \"universe_exclude_subgroups\": [universe_exclude_subgroups],\n",
    "    \"q_hat\": [q_hat],\n",
    "    \"coverage\": [metrics[\"coverage\"]],\n",
    "    \"avg_size\": [metrics[\"avg_size\"]],\n",
    "}"
   ]
  },
  {
   "cell_type": "code",
   "execution_count": 48,
   "id": "908acbb1-0371-4915-85ca-3fa520d2efe2",
   "metadata": {
    "execution": {
     "iopub.execute_input": "2025-08-05T16:42:07.530869Z",
     "iopub.status.busy": "2025-08-05T16:42:07.530455Z",
     "iopub.status.idle": "2025-08-05T16:42:07.538256Z",
     "shell.execute_reply": "2025-08-05T16:42:07.537341Z"
    },
    "papermill": {
     "duration": 0.036558,
     "end_time": "2025-08-05T16:42:07.539977",
     "exception": false,
     "start_time": "2025-08-05T16:42:07.503419",
     "status": "completed"
    },
    "tags": []
   },
   "outputs": [
    {
     "data": {
      "text/plain": [
       "{'universe_id': ['54ab94741e2c43b8d724aab2dd4f8d1f'],\n",
       " 'universe_training_year': ['2010_14'],\n",
       " 'universe_training_size': ['1k'],\n",
       " 'universe_scale': ['do-not-scale'],\n",
       " 'universe_model': ['rf'],\n",
       " 'universe_exclude_features': ['sex'],\n",
       " 'universe_exclude_subgroups': ['drop-non-german'],\n",
       " 'q_hat': [0.6599999999999999],\n",
       " 'coverage': [0.9165979266525471],\n",
       " 'avg_size': [1.1662245011704382]}"
      ]
     },
     "execution_count": 48,
     "metadata": {},
     "output_type": "execute_result"
    }
   ],
   "source": [
    "cp_metrics_dict"
   ]
  },
  {
   "cell_type": "code",
   "execution_count": 49,
   "id": "33007efc-14e9-4ec6-97ac-56a455c82265",
   "metadata": {
    "execution": {
     "iopub.execute_input": "2025-08-05T16:42:07.590382Z",
     "iopub.status.busy": "2025-08-05T16:42:07.589999Z",
     "iopub.status.idle": "2025-08-05T16:42:07.595887Z",
     "shell.execute_reply": "2025-08-05T16:42:07.595008Z"
    },
    "papermill": {
     "duration": 0.032809,
     "end_time": "2025-08-05T16:42:07.597395",
     "exception": false,
     "start_time": "2025-08-05T16:42:07.564586",
     "status": "completed"
    },
    "tags": []
   },
   "outputs": [],
   "source": [
    "cp_metrics_df = pd.DataFrame(cp_metrics_dict)"
   ]
  },
  {
   "cell_type": "code",
   "execution_count": 50,
   "id": "db12611b-57b2-4910-b9d0-355adfd6e7bf",
   "metadata": {
    "execution": {
     "iopub.execute_input": "2025-08-05T16:42:07.626985Z",
     "iopub.status.busy": "2025-08-05T16:42:07.626587Z",
     "iopub.status.idle": "2025-08-05T16:42:07.645276Z",
     "shell.execute_reply": "2025-08-05T16:42:07.644461Z"
    },
    "papermill": {
     "duration": 0.034886,
     "end_time": "2025-08-05T16:42:07.646728",
     "exception": false,
     "start_time": "2025-08-05T16:42:07.611842",
     "status": "completed"
    },
    "tags": []
   },
   "outputs": [
    {
     "data": {
      "text/html": [
       "<div>\n",
       "<style scoped>\n",
       "    .dataframe tbody tr th:only-of-type {\n",
       "        vertical-align: middle;\n",
       "    }\n",
       "\n",
       "    .dataframe tbody tr th {\n",
       "        vertical-align: top;\n",
       "    }\n",
       "\n",
       "    .dataframe thead th {\n",
       "        text-align: right;\n",
       "    }\n",
       "</style>\n",
       "<table border=\"1\" class=\"dataframe\">\n",
       "  <thead>\n",
       "    <tr style=\"text-align: right;\">\n",
       "      <th></th>\n",
       "      <th>universe_id</th>\n",
       "      <th>universe_training_year</th>\n",
       "      <th>universe_training_size</th>\n",
       "      <th>universe_scale</th>\n",
       "      <th>universe_model</th>\n",
       "      <th>universe_exclude_features</th>\n",
       "      <th>universe_exclude_subgroups</th>\n",
       "      <th>q_hat</th>\n",
       "      <th>coverage</th>\n",
       "      <th>avg_size</th>\n",
       "    </tr>\n",
       "  </thead>\n",
       "  <tbody>\n",
       "    <tr>\n",
       "      <th>0</th>\n",
       "      <td>54ab94741e2c43b8d724aab2dd4f8d1f</td>\n",
       "      <td>2010_14</td>\n",
       "      <td>1k</td>\n",
       "      <td>do-not-scale</td>\n",
       "      <td>rf</td>\n",
       "      <td>sex</td>\n",
       "      <td>drop-non-german</td>\n",
       "      <td>0.66</td>\n",
       "      <td>0.916598</td>\n",
       "      <td>1.166225</td>\n",
       "    </tr>\n",
       "  </tbody>\n",
       "</table>\n",
       "</div>"
      ],
      "text/plain": [
       "                        universe_id universe_training_year  \\\n",
       "0  54ab94741e2c43b8d724aab2dd4f8d1f                2010_14   \n",
       "\n",
       "  universe_training_size universe_scale universe_model  \\\n",
       "0                     1k   do-not-scale             rf   \n",
       "\n",
       "  universe_exclude_features universe_exclude_subgroups  q_hat  coverage  \\\n",
       "0                       sex            drop-non-german   0.66  0.916598   \n",
       "\n",
       "   avg_size  \n",
       "0  1.166225  "
      ]
     },
     "execution_count": 50,
     "metadata": {},
     "output_type": "execute_result"
    }
   ],
   "source": [
    "cp_metrics_df"
   ]
  },
  {
   "cell_type": "code",
   "execution_count": 51,
   "id": "b7fbde55-a0a1-47e4-9af6-fe4a17fa8c61",
   "metadata": {
    "execution": {
     "iopub.execute_input": "2025-08-05T16:42:07.677989Z",
     "iopub.status.busy": "2025-08-05T16:42:07.677636Z",
     "iopub.status.idle": "2025-08-05T16:42:07.683282Z",
     "shell.execute_reply": "2025-08-05T16:42:07.682200Z"
    },
    "papermill": {
     "duration": 0.024342,
     "end_time": "2025-08-05T16:42:07.685121",
     "exception": false,
     "start_time": "2025-08-05T16:42:07.660779",
     "status": "completed"
    },
    "tags": []
   },
   "outputs": [],
   "source": [
    "# Conditional Coverage & looking at subgroups"
   ]
  },
  {
   "cell_type": "code",
   "execution_count": 52,
   "id": "027ae886-68dd-4141-96c7-805a5450e1ef",
   "metadata": {
    "execution": {
     "iopub.execute_input": "2025-08-05T16:42:07.737435Z",
     "iopub.status.busy": "2025-08-05T16:42:07.736883Z",
     "iopub.status.idle": "2025-08-05T16:42:08.020023Z",
     "shell.execute_reply": "2025-08-05T16:42:08.018850Z"
    },
    "papermill": {
     "duration": 0.312447,
     "end_time": "2025-08-05T16:42:08.022537",
     "exception": false,
     "start_time": "2025-08-05T16:42:07.710090",
     "status": "completed"
    },
    "tags": []
   },
   "outputs": [],
   "source": [
    "from fairness_multiverse.conformal import build_cp_groups\n",
    "\n",
    "cp_groups_df = build_cp_groups(pred_sets, y_true, X_test.index, org_test)\n",
    "#needs universe_id and setting"
   ]
  },
  {
   "cell_type": "code",
   "execution_count": 53,
   "id": "6cbdab96-b2b2-45af-ad54-d0516db2e28d",
   "metadata": {
    "execution": {
     "iopub.execute_input": "2025-08-05T16:42:08.085561Z",
     "iopub.status.busy": "2025-08-05T16:42:08.085041Z",
     "iopub.status.idle": "2025-08-05T16:42:10.007785Z",
     "shell.execute_reply": "2025-08-05T16:42:10.006581Z"
    },
    "papermill": {
     "duration": 1.95603,
     "end_time": "2025-08-05T16:42:10.010124",
     "exception": false,
     "start_time": "2025-08-05T16:42:08.054094",
     "status": "completed"
    },
    "tags": []
   },
   "outputs": [],
   "source": [
    "# Define covered = 1 if true_label is in the predicted set\n",
    "cp_groups_df['covered'] = cp_groups_df.apply(\n",
    "    lambda r: int(r['true_label'] in r['pred_set']),\n",
    "    axis=1\n",
    ")"
   ]
  },
  {
   "cell_type": "code",
   "execution_count": 54,
   "id": "338ff529-1a6b-4b87-a931-8e4788d52aad",
   "metadata": {
    "execution": {
     "iopub.execute_input": "2025-08-05T16:42:10.070189Z",
     "iopub.status.busy": "2025-08-05T16:42:10.069492Z",
     "iopub.status.idle": "2025-08-05T16:42:10.075102Z",
     "shell.execute_reply": "2025-08-05T16:42:10.073964Z"
    },
    "papermill": {
     "duration": 0.036406,
     "end_time": "2025-08-05T16:42:10.076835",
     "exception": false,
     "start_time": "2025-08-05T16:42:10.040429",
     "status": "completed"
    },
    "tags": []
   },
   "outputs": [],
   "source": [
    "#cp_groups_df"
   ]
  },
  {
   "cell_type": "code",
   "execution_count": 55,
   "id": "90032e27-66df-4540-9169-4e89cfbaa758",
   "metadata": {
    "execution": {
     "iopub.execute_input": "2025-08-05T16:42:10.128196Z",
     "iopub.status.busy": "2025-08-05T16:42:10.127695Z",
     "iopub.status.idle": "2025-08-05T16:42:10.140901Z",
     "shell.execute_reply": "2025-08-05T16:42:10.139761Z"
    },
    "papermill": {
     "duration": 0.041233,
     "end_time": "2025-08-05T16:42:10.142989",
     "exception": false,
     "start_time": "2025-08-05T16:42:10.101756",
     "status": "completed"
    },
    "tags": []
   },
   "outputs": [],
   "source": [
    "subgroups = ['frau1','nongerman','nongerman_male','nongerman_female']\n",
    "\n",
    "# Conditional coverage for subgroup==1\n",
    "cond_coverage = {\n",
    "    g: cp_groups_df.loc[cp_groups_df[g]==1, 'covered'].mean()\n",
    "    for g in subgroups\n",
    "}"
   ]
  },
  {
   "cell_type": "code",
   "execution_count": 56,
   "id": "1e348fb1-b9c3-45bc-ba23-f016827a7e0d",
   "metadata": {
    "execution": {
     "iopub.execute_input": "2025-08-05T16:42:10.204356Z",
     "iopub.status.busy": "2025-08-05T16:42:10.203956Z",
     "iopub.status.idle": "2025-08-05T16:42:10.212272Z",
     "shell.execute_reply": "2025-08-05T16:42:10.211138Z"
    },
    "papermill": {
     "duration": 0.041136,
     "end_time": "2025-08-05T16:42:10.214320",
     "exception": false,
     "start_time": "2025-08-05T16:42:10.173184",
     "status": "completed"
    },
    "tags": []
   },
   "outputs": [
    {
     "data": {
      "text/plain": [
       "{'frau1': 0.9145976546704407,\n",
       " 'nongerman': 0.9059114130129681,\n",
       " 'nongerman_male': 0.924795100423309,\n",
       " 'nongerman_female': 0.8746646795827123}"
      ]
     },
     "execution_count": 56,
     "metadata": {},
     "output_type": "execute_result"
    }
   ],
   "source": [
    "cond_coverage"
   ]
  },
  {
   "cell_type": "code",
   "execution_count": 57,
   "id": "f5093324-c3dd-4d63-bc4c-8d945e5c8bbb",
   "metadata": {
    "execution": {
     "iopub.execute_input": "2025-08-05T16:42:10.256122Z",
     "iopub.status.busy": "2025-08-05T16:42:10.255729Z",
     "iopub.status.idle": "2025-08-05T16:42:10.263150Z",
     "shell.execute_reply": "2025-08-05T16:42:10.262218Z"
    },
    "papermill": {
     "duration": 0.023746,
     "end_time": "2025-08-05T16:42:10.264615",
     "exception": false,
     "start_time": "2025-08-05T16:42:10.240869",
     "status": "completed"
    },
    "tags": []
   },
   "outputs": [],
   "source": [
    "for subgroup, cov in cond_coverage.items():\n",
    "    cp_metrics_df[f\"cov_{subgroup}\"] = cov"
   ]
  },
  {
   "cell_type": "code",
   "execution_count": 58,
   "id": "6e872e10-dbe5-49e8-b554-5030c98ff75d",
   "metadata": {
    "execution": {
     "iopub.execute_input": "2025-08-05T16:42:10.300256Z",
     "iopub.status.busy": "2025-08-05T16:42:10.299225Z",
     "iopub.status.idle": "2025-08-05T16:42:10.316340Z",
     "shell.execute_reply": "2025-08-05T16:42:10.315195Z"
    },
    "papermill": {
     "duration": 0.038693,
     "end_time": "2025-08-05T16:42:10.317938",
     "exception": false,
     "start_time": "2025-08-05T16:42:10.279245",
     "status": "completed"
    },
    "tags": []
   },
   "outputs": [
    {
     "data": {
      "text/html": [
       "<div>\n",
       "<style scoped>\n",
       "    .dataframe tbody tr th:only-of-type {\n",
       "        vertical-align: middle;\n",
       "    }\n",
       "\n",
       "    .dataframe tbody tr th {\n",
       "        vertical-align: top;\n",
       "    }\n",
       "\n",
       "    .dataframe thead th {\n",
       "        text-align: right;\n",
       "    }\n",
       "</style>\n",
       "<table border=\"1\" class=\"dataframe\">\n",
       "  <thead>\n",
       "    <tr style=\"text-align: right;\">\n",
       "      <th></th>\n",
       "      <th>universe_id</th>\n",
       "      <th>universe_training_year</th>\n",
       "      <th>universe_training_size</th>\n",
       "      <th>universe_scale</th>\n",
       "      <th>universe_model</th>\n",
       "      <th>universe_exclude_features</th>\n",
       "      <th>universe_exclude_subgroups</th>\n",
       "      <th>q_hat</th>\n",
       "      <th>coverage</th>\n",
       "      <th>avg_size</th>\n",
       "      <th>cov_frau1</th>\n",
       "      <th>cov_nongerman</th>\n",
       "      <th>cov_nongerman_male</th>\n",
       "      <th>cov_nongerman_female</th>\n",
       "    </tr>\n",
       "  </thead>\n",
       "  <tbody>\n",
       "    <tr>\n",
       "      <th>0</th>\n",
       "      <td>54ab94741e2c43b8d724aab2dd4f8d1f</td>\n",
       "      <td>2010_14</td>\n",
       "      <td>1k</td>\n",
       "      <td>do-not-scale</td>\n",
       "      <td>rf</td>\n",
       "      <td>sex</td>\n",
       "      <td>drop-non-german</td>\n",
       "      <td>0.66</td>\n",
       "      <td>0.916598</td>\n",
       "      <td>1.166225</td>\n",
       "      <td>0.914598</td>\n",
       "      <td>0.905911</td>\n",
       "      <td>0.924795</td>\n",
       "      <td>0.874665</td>\n",
       "    </tr>\n",
       "  </tbody>\n",
       "</table>\n",
       "</div>"
      ],
      "text/plain": [
       "                        universe_id universe_training_year  \\\n",
       "0  54ab94741e2c43b8d724aab2dd4f8d1f                2010_14   \n",
       "\n",
       "  universe_training_size universe_scale universe_model  \\\n",
       "0                     1k   do-not-scale             rf   \n",
       "\n",
       "  universe_exclude_features universe_exclude_subgroups  q_hat  coverage  \\\n",
       "0                       sex            drop-non-german   0.66  0.916598   \n",
       "\n",
       "   avg_size  cov_frau1  cov_nongerman  cov_nongerman_male  \\\n",
       "0  1.166225   0.914598       0.905911            0.924795   \n",
       "\n",
       "   cov_nongerman_female  \n",
       "0              0.874665  "
      ]
     },
     "execution_count": 58,
     "metadata": {},
     "output_type": "execute_result"
    }
   ],
   "source": [
    "cp_metrics_df"
   ]
  },
  {
   "cell_type": "markdown",
   "id": "33774451",
   "metadata": {
    "papermill": {
     "duration": 0.014142,
     "end_time": "2025-08-05T16:42:10.346808",
     "exception": false,
     "start_time": "2025-08-05T16:42:10.332666",
     "status": "completed"
    },
    "tags": []
   },
   "source": [
    "# (Fairness) Metrics"
   ]
  },
  {
   "cell_type": "code",
   "execution_count": 59,
   "id": "debc5d62",
   "metadata": {
    "execution": {
     "iopub.execute_input": "2025-08-05T16:42:10.379318Z",
     "iopub.status.busy": "2025-08-05T16:42:10.378219Z",
     "iopub.status.idle": "2025-08-05T16:42:10.395894Z",
     "shell.execute_reply": "2025-08-05T16:42:10.395047Z"
    },
    "papermill": {
     "duration": 0.036617,
     "end_time": "2025-08-05T16:42:10.397504",
     "exception": false,
     "start_time": "2025-08-05T16:42:10.360887",
     "status": "completed"
    },
    "tags": []
   },
   "outputs": [],
   "source": [
    "# do I need to include maxdeutsch1.missing?\n",
    "\n",
    "import numpy as np\n",
    "\n",
    "colname_to_bin = \"maxdeutsch1\"\n",
    "majority_value = org_train[colname_to_bin].mode()[0]\n",
    "\n",
    "org_test[\"majmin\"] = np.where(org_test[colname_to_bin] == majority_value, \"majority\", \"minority\")"
   ]
  },
  {
   "cell_type": "code",
   "execution_count": 60,
   "id": "06a50de5",
   "metadata": {
    "execution": {
     "iopub.execute_input": "2025-08-05T16:42:10.429041Z",
     "iopub.status.busy": "2025-08-05T16:42:10.428399Z",
     "iopub.status.idle": "2025-08-05T16:42:12.396918Z",
     "shell.execute_reply": "2025-08-05T16:42:12.395710Z"
    },
    "papermill": {
     "duration": 1.985983,
     "end_time": "2025-08-05T16:42:12.398986",
     "exception": false,
     "start_time": "2025-08-05T16:42:10.413003",
     "status": "completed"
    },
    "tags": []
   },
   "outputs": [],
   "source": [
    "example_universe = universe.copy()\n",
    "example_universe[\"cutoff\"] = example_universe[\"cutoff\"][0]\n",
    "example_universe[\"eval_fairness_grouping\"] = example_universe[\"eval_fairness_grouping\"][0]\n",
    "fairness_dict, metric_frame = universe_analysis.compute_metrics(\n",
    "    example_universe,\n",
    "    y_pred_prob=probs_test,\n",
    "    y_test=y_true,\n",
    "    org_test=org_test,\n",
    ")"
   ]
  },
  {
   "cell_type": "markdown",
   "id": "f95d4e02",
   "metadata": {
    "papermill": {
     "duration": 0.014127,
     "end_time": "2025-08-05T16:42:12.428454",
     "exception": false,
     "start_time": "2025-08-05T16:42:12.414327",
     "status": "completed"
    },
    "tags": []
   },
   "source": [
    "# Overall"
   ]
  },
  {
   "cell_type": "markdown",
   "id": "bdee4871",
   "metadata": {
    "papermill": {
     "duration": 0.014151,
     "end_time": "2025-08-05T16:42:12.456914",
     "exception": false,
     "start_time": "2025-08-05T16:42:12.442763",
     "status": "completed"
    },
    "tags": []
   },
   "source": [
    "Fairness\n",
    "Main fairness target: Equalized Odds. Seems to be a better fit than equal opportunity, since we're not only interested in Y = 1. Seems to be a better fit than demographic parity, since we also care about accuracy, not just equal distribution of preds.\n",
    "\n",
    "Pick column for computation of fairness metrics\n",
    "\n",
    "Performance\n",
    "Overall performance measures, most interesting in relation to the measures split by group below"
   ]
  },
  {
   "cell_type": "code",
   "execution_count": 61,
   "id": "c4e067c6",
   "metadata": {
    "execution": {
     "iopub.execute_input": "2025-08-05T16:42:12.487741Z",
     "iopub.status.busy": "2025-08-05T16:42:12.486556Z",
     "iopub.status.idle": "2025-08-05T16:42:12.495900Z",
     "shell.execute_reply": "2025-08-05T16:42:12.494947Z"
    },
    "papermill": {
     "duration": 0.026479,
     "end_time": "2025-08-05T16:42:12.497562",
     "exception": false,
     "start_time": "2025-08-05T16:42:12.471083",
     "status": "completed"
    },
    "tags": []
   },
   "outputs": [
    {
     "data": {
      "text/plain": [
       "accuracy                   0.195720\n",
       "balanced accuracy          0.532123\n",
       "f1                         0.239015\n",
       "precision                  0.136017\n",
       "false positive rate        0.920373\n",
       "false negative rate        0.015381\n",
       "selection rate             0.928614\n",
       "count                  89710.000000\n",
       "dtype: float64"
      ]
     },
     "execution_count": 61,
     "metadata": {},
     "output_type": "execute_result"
    }
   ],
   "source": [
    "metric_frame.overall"
   ]
  },
  {
   "cell_type": "markdown",
   "id": "e968fe9d",
   "metadata": {
    "papermill": {
     "duration": 0.014376,
     "end_time": "2025-08-05T16:42:12.526971",
     "exception": false,
     "start_time": "2025-08-05T16:42:12.512595",
     "status": "completed"
    },
    "tags": []
   },
   "source": [
    "By Group"
   ]
  },
  {
   "cell_type": "code",
   "execution_count": 62,
   "id": "ec325bce",
   "metadata": {
    "execution": {
     "iopub.execute_input": "2025-08-05T16:42:12.557417Z",
     "iopub.status.busy": "2025-08-05T16:42:12.556582Z",
     "iopub.status.idle": "2025-08-05T16:42:12.571399Z",
     "shell.execute_reply": "2025-08-05T16:42:12.570468Z"
    },
    "papermill": {
     "duration": 0.031661,
     "end_time": "2025-08-05T16:42:12.572976",
     "exception": false,
     "start_time": "2025-08-05T16:42:12.541315",
     "status": "completed"
    },
    "tags": []
   },
   "outputs": [
    {
     "data": {
      "text/html": [
       "<div>\n",
       "<style scoped>\n",
       "    .dataframe tbody tr th:only-of-type {\n",
       "        vertical-align: middle;\n",
       "    }\n",
       "\n",
       "    .dataframe tbody tr th {\n",
       "        vertical-align: top;\n",
       "    }\n",
       "\n",
       "    .dataframe thead th {\n",
       "        text-align: right;\n",
       "    }\n",
       "</style>\n",
       "<table border=\"1\" class=\"dataframe\">\n",
       "  <thead>\n",
       "    <tr style=\"text-align: right;\">\n",
       "      <th></th>\n",
       "      <th>accuracy</th>\n",
       "      <th>balanced accuracy</th>\n",
       "      <th>f1</th>\n",
       "      <th>precision</th>\n",
       "      <th>false positive rate</th>\n",
       "      <th>false negative rate</th>\n",
       "      <th>selection rate</th>\n",
       "      <th>count</th>\n",
       "    </tr>\n",
       "    <tr>\n",
       "      <th>majmin</th>\n",
       "      <th></th>\n",
       "      <th></th>\n",
       "      <th></th>\n",
       "      <th></th>\n",
       "      <th></th>\n",
       "      <th></th>\n",
       "      <th></th>\n",
       "      <th></th>\n",
       "    </tr>\n",
       "  </thead>\n",
       "  <tbody>\n",
       "    <tr>\n",
       "      <th>majority</th>\n",
       "      <td>0.200275</td>\n",
       "      <td>0.53369</td>\n",
       "      <td>0.245921</td>\n",
       "      <td>0.140461</td>\n",
       "      <td>0.919490</td>\n",
       "      <td>0.013129</td>\n",
       "      <td>0.928394</td>\n",
       "      <td>69170.0</td>\n",
       "    </tr>\n",
       "    <tr>\n",
       "      <th>minority</th>\n",
       "      <td>0.180380</td>\n",
       "      <td>0.52632</td>\n",
       "      <td>0.215408</td>\n",
       "      <td>0.121064</td>\n",
       "      <td>0.923289</td>\n",
       "      <td>0.024071</td>\n",
       "      <td>0.929357</td>\n",
       "      <td>20540.0</td>\n",
       "    </tr>\n",
       "  </tbody>\n",
       "</table>\n",
       "</div>"
      ],
      "text/plain": [
       "          accuracy  balanced accuracy        f1  precision  \\\n",
       "majmin                                                       \n",
       "majority  0.200275            0.53369  0.245921   0.140461   \n",
       "minority  0.180380            0.52632  0.215408   0.121064   \n",
       "\n",
       "          false positive rate  false negative rate  selection rate    count  \n",
       "majmin                                                                       \n",
       "majority             0.919490             0.013129        0.928394  69170.0  \n",
       "minority             0.923289             0.024071        0.929357  20540.0  "
      ]
     },
     "execution_count": 62,
     "metadata": {},
     "output_type": "execute_result"
    }
   ],
   "source": [
    "metric_frame.by_group"
   ]
  },
  {
   "cell_type": "code",
   "execution_count": 63,
   "id": "a9ddbe63",
   "metadata": {
    "execution": {
     "iopub.execute_input": "2025-08-05T16:42:12.604260Z",
     "iopub.status.busy": "2025-08-05T16:42:12.603680Z",
     "iopub.status.idle": "2025-08-05T16:42:15.542744Z",
     "shell.execute_reply": "2025-08-05T16:42:15.541580Z"
    },
    "papermill": {
     "duration": 2.956464,
     "end_time": "2025-08-05T16:42:15.544780",
     "exception": false,
     "start_time": "2025-08-05T16:42:12.588316",
     "status": "completed"
    },
    "tags": []
   },
   "outputs": [
    {
     "data": {
      "text/plain": [
       "array([[<Axes: title={'center': 'accuracy'}, xlabel='majmin'>,\n",
       "        <Axes: title={'center': 'balanced accuracy'}, xlabel='majmin'>,\n",
       "        <Axes: title={'center': 'f1'}, xlabel='majmin'>],\n",
       "       [<Axes: title={'center': 'precision'}, xlabel='majmin'>,\n",
       "        <Axes: title={'center': 'false positive rate'}, xlabel='majmin'>,\n",
       "        <Axes: title={'center': 'false negative rate'}, xlabel='majmin'>],\n",
       "       [<Axes: title={'center': 'selection rate'}, xlabel='majmin'>,\n",
       "        <Axes: title={'center': 'count'}, xlabel='majmin'>,\n",
       "        <Axes: xlabel='majmin'>]], dtype=object)"
      ]
     },
     "execution_count": 63,
     "metadata": {},
     "output_type": "execute_result"
    },
    {
     "data": {
      "image/png": "[encoded data removed]",
      "text/plain": [
       "<Figure size 1200x800 with 9 Axes>"
      ]
     },
     "metadata": {},
     "output_type": "display_data"
    }
   ],
   "source": [
    "# In a graphic\n",
    "metric_frame.by_group.plot.bar(\n",
    "    subplots=True,\n",
    "    layout=[3, 3],\n",
    "    legend=False,\n",
    "    figsize=[12, 8],\n",
    "    title=\"Show all metrics\",\n",
    ")"
   ]
  },
  {
   "cell_type": "markdown",
   "id": "f57a0bac",
   "metadata": {
    "papermill": {
     "duration": 0.027921,
     "end_time": "2025-08-05T16:42:15.601773",
     "exception": false,
     "start_time": "2025-08-05T16:42:15.573852",
     "status": "completed"
    },
    "tags": []
   },
   "source": [
    "# Final Output"
   ]
  },
  {
   "cell_type": "code",
   "execution_count": 64,
   "id": "96d280a3",
   "metadata": {
    "execution": {
     "iopub.execute_input": "2025-08-05T16:42:15.665078Z",
     "iopub.status.busy": "2025-08-05T16:42:15.664258Z",
     "iopub.status.idle": "2025-08-05T16:42:15.674605Z",
     "shell.execute_reply": "2025-08-05T16:42:15.673415Z"
    },
    "papermill": {
     "duration": 0.046811,
     "end_time": "2025-08-05T16:42:15.676595",
     "exception": false,
     "start_time": "2025-08-05T16:42:15.629784",
     "status": "completed"
    },
    "tags": []
   },
   "outputs": [
    {
     "data": {
      "text/plain": [
       "4"
      ]
     },
     "execution_count": 64,
     "metadata": {},
     "output_type": "execute_result"
    }
   ],
   "source": [
    "sub_universes = universe_analysis.generate_sub_universes()\n",
    "len(sub_universes)"
   ]
  },
  {
   "cell_type": "code",
   "execution_count": 65,
   "id": "92adf7ba",
   "metadata": {
    "execution": {
     "iopub.execute_input": "2025-08-05T16:42:15.750698Z",
     "iopub.status.busy": "2025-08-05T16:42:15.750255Z",
     "iopub.status.idle": "2025-08-05T16:42:15.756294Z",
     "shell.execute_reply": "2025-08-05T16:42:15.755405Z"
    },
    "papermill": {
     "duration": 0.048941,
     "end_time": "2025-08-05T16:42:15.757822",
     "exception": false,
     "start_time": "2025-08-05T16:42:15.708881",
     "status": "completed"
    },
    "tags": []
   },
   "outputs": [],
   "source": [
    "def filter_sub_universe_data(sub_universe, org_test):\n",
    "    # Keep all rows — no filtering\n",
    "    keep_rows_mask = np.ones(org_test.shape[0], dtype=bool)\n",
    "\n",
    "    print(f\"[INFO] Keeping all rows: {keep_rows_mask.sum()} rows retained.\")\n",
    "    return keep_rows_mask"
   ]
  },
  {
   "cell_type": "code",
   "execution_count": 66,
   "id": "4a759155",
   "metadata": {
    "execution": {
     "iopub.execute_input": "2025-08-05T16:42:15.816131Z",
     "iopub.status.busy": "2025-08-05T16:42:15.815194Z",
     "iopub.status.idle": "2025-08-05T16:42:29.136932Z",
     "shell.execute_reply": "2025-08-05T16:42:29.135735Z"
    },
    "papermill": {
     "duration": 13.358399,
     "end_time": "2025-08-05T16:42:29.138962",
     "exception": false,
     "start_time": "2025-08-05T16:42:15.780563",
     "status": "completed"
    },
    "tags": []
   },
   "outputs": [
    {
     "name": "stdout",
     "output_type": "stream",
     "text": [
      "Stopping execution_time clock.\n",
      "[INFO] Keeping all rows: 89710 rows retained.\n"
     ]
    },
    {
     "name": "stdout",
     "output_type": "stream",
     "text": [
      "[INFO] Keeping all rows: 89710 rows retained.\n"
     ]
    },
    {
     "name": "stdout",
     "output_type": "stream",
     "text": [
      "[INFO] Keeping all rows: 89710 rows retained.\n"
     ]
    },
    {
     "name": "stdout",
     "output_type": "stream",
     "text": [
      "[INFO] Keeping all rows: 89710 rows retained.\n"
     ]
    },
    {
     "data": {
      "text/html": [
       "<div>\n",
       "<style scoped>\n",
       "    .dataframe tbody tr th:only-of-type {\n",
       "        vertical-align: middle;\n",
       "    }\n",
       "\n",
       "    .dataframe tbody tr th {\n",
       "        vertical-align: top;\n",
       "    }\n",
       "\n",
       "    .dataframe thead th {\n",
       "        text-align: right;\n",
       "    }\n",
       "</style>\n",
       "<table border=\"1\" class=\"dataframe\">\n",
       "  <thead>\n",
       "    <tr style=\"text-align: right;\">\n",
       "      <th></th>\n",
       "      <th>run_no</th>\n",
       "      <th>universe_id</th>\n",
       "      <th>universe_settings</th>\n",
       "      <th>execution_time</th>\n",
       "      <th>test_size_n</th>\n",
       "      <th>test_size_frac</th>\n",
       "      <th>fair_main_equalized_odds_difference</th>\n",
       "      <th>fair_main_equalized_odds_ratio</th>\n",
       "      <th>fair_main_demographic_parity_difference</th>\n",
       "      <th>fair_main_demographic_parity_ratio</th>\n",
       "      <th>...</th>\n",
       "      <th>perf_grp_precision_0</th>\n",
       "      <th>perf_grp_precision_1</th>\n",
       "      <th>perf_grp_false positive rate_0</th>\n",
       "      <th>perf_grp_false positive rate_1</th>\n",
       "      <th>perf_grp_false negative rate_0</th>\n",
       "      <th>perf_grp_false negative rate_1</th>\n",
       "      <th>perf_grp_selection rate_0</th>\n",
       "      <th>perf_grp_selection rate_1</th>\n",
       "      <th>perf_grp_count_0</th>\n",
       "      <th>perf_grp_count_1</th>\n",
       "    </tr>\n",
       "  </thead>\n",
       "  <tbody>\n",
       "    <tr>\n",
       "      <th>0</th>\n",
       "      <td>15</td>\n",
       "      <td>54ab94741e2c43b8d724aab2dd4f8d1f</td>\n",
       "      <td>{\"cutoff\": \"quantile_0.1\", \"eval_fairness_grou...</td>\n",
       "      <td>36.708288</td>\n",
       "      <td>89710</td>\n",
       "      <td>1.0</td>\n",
       "      <td>0.010942</td>\n",
       "      <td>0.988913</td>\n",
       "      <td>0.000964</td>\n",
       "      <td>0.998963</td>\n",
       "      <td>...</td>\n",
       "      <td>NaN</td>\n",
       "      <td>NaN</td>\n",
       "      <td>NaN</td>\n",
       "      <td>NaN</td>\n",
       "      <td>NaN</td>\n",
       "      <td>NaN</td>\n",
       "      <td>NaN</td>\n",
       "      <td>NaN</td>\n",
       "      <td>NaN</td>\n",
       "      <td>NaN</td>\n",
       "    </tr>\n",
       "    <tr>\n",
       "      <th>0</th>\n",
       "      <td>15</td>\n",
       "      <td>54ab94741e2c43b8d724aab2dd4f8d1f</td>\n",
       "      <td>{\"cutoff\": \"quantile_0.1\", \"eval_fairness_grou...</td>\n",
       "      <td>36.708288</td>\n",
       "      <td>89710</td>\n",
       "      <td>1.0</td>\n",
       "      <td>0.010942</td>\n",
       "      <td>0.988913</td>\n",
       "      <td>0.000964</td>\n",
       "      <td>0.998963</td>\n",
       "      <td>...</td>\n",
       "      <td>0.121064</td>\n",
       "      <td>0.140461</td>\n",
       "      <td>0.923289</td>\n",
       "      <td>0.919490</td>\n",
       "      <td>0.024071</td>\n",
       "      <td>0.013129</td>\n",
       "      <td>0.929357</td>\n",
       "      <td>0.928394</td>\n",
       "      <td>20540.0</td>\n",
       "      <td>69170.0</td>\n",
       "    </tr>\n",
       "    <tr>\n",
       "      <th>0</th>\n",
       "      <td>15</td>\n",
       "      <td>54ab94741e2c43b8d724aab2dd4f8d1f</td>\n",
       "      <td>{\"cutoff\": \"quantile_0.25\", \"eval_fairness_gro...</td>\n",
       "      <td>36.708288</td>\n",
       "      <td>89710</td>\n",
       "      <td>1.0</td>\n",
       "      <td>0.058306</td>\n",
       "      <td>0.937612</td>\n",
       "      <td>0.010551</td>\n",
       "      <td>0.986303</td>\n",
       "      <td>...</td>\n",
       "      <td>NaN</td>\n",
       "      <td>NaN</td>\n",
       "      <td>NaN</td>\n",
       "      <td>NaN</td>\n",
       "      <td>NaN</td>\n",
       "      <td>NaN</td>\n",
       "      <td>NaN</td>\n",
       "      <td>NaN</td>\n",
       "      <td>NaN</td>\n",
       "      <td>NaN</td>\n",
       "    </tr>\n",
       "    <tr>\n",
       "      <th>0</th>\n",
       "      <td>15</td>\n",
       "      <td>54ab94741e2c43b8d724aab2dd4f8d1f</td>\n",
       "      <td>{\"cutoff\": \"quantile_0.25\", \"eval_fairness_gro...</td>\n",
       "      <td>36.708288</td>\n",
       "      <td>89710</td>\n",
       "      <td>1.0</td>\n",
       "      <td>0.058306</td>\n",
       "      <td>0.937612</td>\n",
       "      <td>0.010551</td>\n",
       "      <td>0.986303</td>\n",
       "      <td>...</td>\n",
       "      <td>0.131147</td>\n",
       "      <td>0.162544</td>\n",
       "      <td>0.756494</td>\n",
       "      <td>0.733133</td>\n",
       "      <td>0.123733</td>\n",
       "      <td>0.065427</td>\n",
       "      <td>0.770302</td>\n",
       "      <td>0.759751</td>\n",
       "      <td>20540.0</td>\n",
       "      <td>69170.0</td>\n",
       "    </tr>\n",
       "  </tbody>\n",
       "</table>\n",
       "<p>4 rows × 50 columns</p>\n",
       "</div>"
      ],
      "text/plain": [
       "  run_no                       universe_id  \\\n",
       "0     15  54ab94741e2c43b8d724aab2dd4f8d1f   \n",
       "0     15  54ab94741e2c43b8d724aab2dd4f8d1f   \n",
       "0     15  54ab94741e2c43b8d724aab2dd4f8d1f   \n",
       "0     15  54ab94741e2c43b8d724aab2dd4f8d1f   \n",
       "\n",
       "                                   universe_settings  execution_time  \\\n",
       "0  {\"cutoff\": \"quantile_0.1\", \"eval_fairness_grou...       36.708288   \n",
       "0  {\"cutoff\": \"quantile_0.1\", \"eval_fairness_grou...       36.708288   \n",
       "0  {\"cutoff\": \"quantile_0.25\", \"eval_fairness_gro...       36.708288   \n",
       "0  {\"cutoff\": \"quantile_0.25\", \"eval_fairness_gro...       36.708288   \n",
       "\n",
       "   test_size_n  test_size_frac  fair_main_equalized_odds_difference  \\\n",
       "0        89710             1.0                             0.010942   \n",
       "0        89710             1.0                             0.010942   \n",
       "0        89710             1.0                             0.058306   \n",
       "0        89710             1.0                             0.058306   \n",
       "\n",
       "   fair_main_equalized_odds_ratio  fair_main_demographic_parity_difference  \\\n",
       "0                        0.988913                                 0.000964   \n",
       "0                        0.988913                                 0.000964   \n",
       "0                        0.937612                                 0.010551   \n",
       "0                        0.937612                                 0.010551   \n",
       "\n",
       "   fair_main_demographic_parity_ratio  ...  perf_grp_precision_0  \\\n",
       "0                            0.998963  ...                   NaN   \n",
       "0                            0.998963  ...              0.121064   \n",
       "0                            0.986303  ...                   NaN   \n",
       "0                            0.986303  ...              0.131147   \n",
       "\n",
       "   perf_grp_precision_1  perf_grp_false positive rate_0  \\\n",
       "0                   NaN                             NaN   \n",
       "0              0.140461                        0.923289   \n",
       "0                   NaN                             NaN   \n",
       "0              0.162544                        0.756494   \n",
       "\n",
       "   perf_grp_false positive rate_1  perf_grp_false negative rate_0  \\\n",
       "0                             NaN                             NaN   \n",
       "0                        0.919490                        0.024071   \n",
       "0                             NaN                             NaN   \n",
       "0                        0.733133                        0.123733   \n",
       "\n",
       "   perf_grp_false negative rate_1  perf_grp_selection rate_0  \\\n",
       "0                             NaN                        NaN   \n",
       "0                        0.013129                   0.929357   \n",
       "0                             NaN                        NaN   \n",
       "0                        0.065427                   0.770302   \n",
       "\n",
       "   perf_grp_selection rate_1  perf_grp_count_0  perf_grp_count_1  \n",
       "0                        NaN               NaN               NaN  \n",
       "0                   0.928394           20540.0           69170.0  \n",
       "0                        NaN               NaN               NaN  \n",
       "0                   0.759751           20540.0           69170.0  \n",
       "\n",
       "[4 rows x 50 columns]"
      ]
     },
     "execution_count": 66,
     "metadata": {},
     "output_type": "execute_result"
    }
   ],
   "source": [
    "final_output = universe_analysis.generate_final_output(\n",
    "    y_pred_prob=probs_test,\n",
    "    y_test=y_true,\n",
    "    org_test=org_test,\n",
    "    filter_data=filter_sub_universe_data,\n",
    "    cp_metrics_df=cp_metrics_df,\n",
    "    save=True,\n",
    ")\n",
    "final_output"
   ]
  }
 ],
 "metadata": {
  "celltoolbar": "Tags",
  "kernelspec": {
   "display_name": "Python (CMA Fairness)",
   "language": "python",
   "name": "cma_fair_env"
  },
  "language_info": {
   "codemirror_mode": {
    "name": "ipython",
    "version": 3
   },
   "file_extension": ".py",
   "mimetype": "text/x-python",
   "name": "python",
   "nbconvert_exporter": "python",
   "pygments_lexer": "ipython3",
   "version": "3.10.12"
  },
  "papermill": {
   "default_parameters": {},
   "duration": 54.412349,
   "end_time": "2025-08-05T16:42:30.093414",
   "environment_variables": {},
   "exception": null,
   "input_path": "universe_analysis.ipynb",
   "output_path": "output/runs/15/notebooks/m_15-54ab94741e2c43b8d724aab2dd4f8d1f.ipynb",
   "parameters": {
    "output_dir": "output",
    "run_no": "15",
    "seed": "2023",
    "universe": "{\"cutoff\": [\"quantile_0.1\", \"quantile_0.25\"], \"eval_fairness_grouping\": [\"majority-minority\", \"nationality-all\"], \"exclude_features\": \"sex\", \"exclude_subgroups\": \"drop-non-german\", \"model\": \"rf\", \"scale\": \"do-not-scale\", \"training_size\": \"1k\", \"training_year\": \"2010_14\"}",
    "universe_id": "54ab94741e2c43b8d724aab2dd4f8d1f"
   },
   "start_time": "2025-08-05T16:41:35.681065",
   "version": "2.6.0"
  }
 },
 "nbformat": 4,
 "nbformat_minor": 5
}