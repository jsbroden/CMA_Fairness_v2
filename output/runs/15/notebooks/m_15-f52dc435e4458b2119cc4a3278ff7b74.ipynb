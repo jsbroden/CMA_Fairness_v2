{
 "cells": [
  {
   "cell_type": "code",
   "execution_count": 1,
   "id": "f159f837-637b-42ba-96b5-ec9a68c44524",
   "metadata": {
    "execution": {
     "iopub.execute_input": "2025-08-05T15:46:45.897692Z",
     "iopub.status.busy": "2025-08-05T15:46:45.897376Z",
     "iopub.status.idle": "2025-08-05T15:46:45.907996Z",
     "shell.execute_reply": "2025-08-05T15:46:45.906890Z"
    },
    "papermill": {
     "duration": 0.023723,
     "end_time": "2025-08-05T15:46:45.910335",
     "exception": false,
     "start_time": "2025-08-05T15:46:45.886612",
     "status": "completed"
    },
    "tags": []
   },
   "outputs": [
    {
     "name": "stdout",
     "output_type": "stream",
     "text": [
      "/dss/dsshome1/0C/ra93lal2/cma/CMA_Fairness_v2\n"
     ]
    },
    {
     "name": "stderr",
     "output_type": "stream",
     "text": [
      "/dss/dsshome1/0C/ra93lal2/.local/share/virtualenvs/CMA_Fairness_v2-3j10GkSs/lib/python3.10/site-packages/IPython/core/magics/osm.py:393: UserWarning: This is now an optional IPython functionality, using bookmarks requires you to install the `pickleshare` library.\n",
      "  bkms = self.shell.db.get('bookmarks', {})\n",
      "/dss/dsshome1/0C/ra93lal2/.local/share/virtualenvs/CMA_Fairness_v2-3j10GkSs/lib/python3.10/site-packages/IPython/core/magics/osm.py:417: UserWarning: This is now an optional IPython functionality, setting dhist requires you to install the `pickleshare` library.\n",
      "  self.shell.db['dhist'] = compress_dhist(dhist)[-100:]\n"
     ]
    }
   ],
   "source": [
    "%cd ~/cma/CMA_Fairness_v2"
   ]
  },
  {
   "cell_type": "markdown",
   "id": "de2603b9",
   "metadata": {
    "papermill": {
     "duration": 0.023006,
     "end_time": "2025-08-05T15:46:45.957063",
     "exception": false,
     "start_time": "2025-08-05T15:46:45.934057",
     "status": "completed"
    },
    "tags": []
   },
   "source": [
    "The following cell holds the definition of our parameters, these values can be overriden by rendering the with e.g. the following command:\n",
    "\n",
    "papermill -p alpha 0.2 -p ratio 0.3 universe_analysis.ipynb output/test_run.ipynb"
   ]
  },
  {
   "cell_type": "code",
   "execution_count": 2,
   "id": "a80968a0-40bb-4fa9-85ef-2d5eefb01975",
   "metadata": {
    "execution": {
     "iopub.execute_input": "2025-08-05T15:46:46.004532Z",
     "iopub.status.busy": "2025-08-05T15:46:46.004115Z",
     "iopub.status.idle": "2025-08-05T15:46:46.009492Z",
     "shell.execute_reply": "2025-08-05T15:46:46.008562Z"
    },
    "papermill": {
     "duration": 0.03308,
     "end_time": "2025-08-05T15:46:46.011821",
     "exception": false,
     "start_time": "2025-08-05T15:46:45.978741",
     "status": "completed"
    },
    "tags": []
   },
   "outputs": [
    {
     "name": "stdout",
     "output_type": "stream",
     "text": [
      "Current working directory: /dss/dsshome1/0C/ra93lal2/cma/CMA_Fairness_v2\n"
     ]
    }
   ],
   "source": [
    "import os\n",
    "print(\"Current working directory:\", os.getcwd())"
   ]
  },
  {
   "cell_type": "code",
   "execution_count": 3,
   "id": "2dce4c03",
   "metadata": {
    "execution": {
     "iopub.execute_input": "2025-08-05T15:46:46.062815Z",
     "iopub.status.busy": "2025-08-05T15:46:46.062428Z",
     "iopub.status.idle": "2025-08-05T15:46:46.069073Z",
     "shell.execute_reply": "2025-08-05T15:46:46.067881Z"
    },
    "papermill": {
     "duration": 0.035243,
     "end_time": "2025-08-05T15:46:46.071401",
     "exception": false,
     "start_time": "2025-08-05T15:46:46.036158",
     "status": "completed"
    },
    "tags": [
     "parameters"
    ]
   },
   "outputs": [],
   "source": [
    "run_no = 0\n",
    "universe_id = \"test\"\n",
    "universe = {\n",
    "    \"training_size\": \"25k\", # \"25k\", \"5k\", \"1k\"\n",
    "    \"training_year\": \"2014\", # \"2014\", \"2012_14\", \"2010_14\"\n",
    "    \"scale\": \"scale\", # \"scale\", \"do-not-scale\",\n",
    "    \"model\": \"elasticnet\", # \"logreg\", \"penalized_logreg\", \"rf\", \"gbm\", \"elasticnet\"\n",
    "    \"cutoff\": [\"quantile_0.15\", \"quantile_0.30\"],\n",
    "    \"exclude_features\": \"age\", # \"none\", \"nationality\", \"sex\", \"nationality-sex\", \"age\"\n",
    "    \"exclude_subgroups\": \"keep-all\", # \"keep-all\", \"drop-non-german\"\n",
    "    \"eval_fairness_grouping\": [\"majority-minority\", \"nationality-all\"]\n",
    "}\n",
    "\n",
    "output_dir=\"./output\"\n",
    "seed=0"
   ]
  },
  {
   "cell_type": "code",
   "execution_count": 4,
   "id": "f3caee20",
   "metadata": {
    "execution": {
     "iopub.execute_input": "2025-08-05T15:46:46.119184Z",
     "iopub.status.busy": "2025-08-05T15:46:46.118313Z",
     "iopub.status.idle": "2025-08-05T15:46:46.123820Z",
     "shell.execute_reply": "2025-08-05T15:46:46.122869Z"
    },
    "papermill": {
     "duration": 0.030239,
     "end_time": "2025-08-05T15:46:46.125435",
     "exception": false,
     "start_time": "2025-08-05T15:46:46.095196",
     "status": "completed"
    },
    "tags": [
     "injected-parameters"
    ]
   },
   "outputs": [],
   "source": [
    "# Parameters\n",
    "universe_id = \"f52dc435e4458b2119cc4a3278ff7b74\"\n",
    "run_no = \"15\"\n",
    "universe = \"{\\\"cutoff\\\": [\\\"quantile_0.1\\\", \\\"quantile_0.25\\\"], \\\"eval_fairness_grouping\\\": [\\\"majority-minority\\\", \\\"nationality-all\\\"], \\\"exclude_features\\\": \\\"sex\\\", \\\"exclude_subgroups\\\": \\\"drop-non-german\\\", \\\"model\\\": \\\"elasticnet\\\", \\\"scale\\\": \\\"do-not-scale\\\", \\\"training_size\\\": \\\"5k\\\", \\\"training_year\\\": \\\"2012_14\\\"}\"\n",
    "output_dir = \"output\"\n",
    "seed = \"2023\"\n"
   ]
  },
  {
   "cell_type": "code",
   "execution_count": 5,
   "id": "1650acaf",
   "metadata": {
    "execution": {
     "iopub.execute_input": "2025-08-05T15:46:46.157720Z",
     "iopub.status.busy": "2025-08-05T15:46:46.156886Z",
     "iopub.status.idle": "2025-08-05T15:46:46.162985Z",
     "shell.execute_reply": "2025-08-05T15:46:46.161965Z"
    },
    "papermill": {
     "duration": 0.023628,
     "end_time": "2025-08-05T15:46:46.164729",
     "exception": false,
     "start_time": "2025-08-05T15:46:46.141101",
     "status": "completed"
    },
    "tags": []
   },
   "outputs": [],
   "source": [
    "import json\n",
    "if isinstance(universe, str):\n",
    "    universe = json.loads(universe)"
   ]
  },
  {
   "cell_type": "code",
   "execution_count": 6,
   "id": "16620c48",
   "metadata": {
    "execution": {
     "iopub.execute_input": "2025-08-05T15:46:46.202397Z",
     "iopub.status.busy": "2025-08-05T15:46:46.201929Z",
     "iopub.status.idle": "2025-08-05T15:46:46.247687Z",
     "shell.execute_reply": "2025-08-05T15:46:46.246675Z"
    },
    "papermill": {
     "duration": 0.067832,
     "end_time": "2025-08-05T15:46:46.249920",
     "exception": false,
     "start_time": "2025-08-05T15:46:46.182088",
     "status": "completed"
    },
    "tags": []
   },
   "outputs": [],
   "source": [
    "# Auto-reload the custom package\n",
    "%load_ext autoreload\n",
    "%autoreload 1\n",
    "%aimport fairness_multiverse"
   ]
  },
  {
   "cell_type": "code",
   "execution_count": 7,
   "id": "01c5c9f3",
   "metadata": {
    "execution": {
     "iopub.execute_input": "2025-08-05T15:46:46.298055Z",
     "iopub.status.busy": "2025-08-05T15:46:46.296957Z",
     "iopub.status.idle": "2025-08-05T15:46:48.185682Z",
     "shell.execute_reply": "2025-08-05T15:46:48.184806Z"
    },
    "papermill": {
     "duration": 1.914394,
     "end_time": "2025-08-05T15:46:48.187724",
     "exception": false,
     "start_time": "2025-08-05T15:46:46.273330",
     "status": "completed"
    },
    "tags": []
   },
   "outputs": [],
   "source": [
    "from fairness_multiverse.universe import UniverseAnalysis\n",
    "\n",
    "universe_analysis = UniverseAnalysis(\n",
    "    run_no = run_no,\n",
    "    universe_id = universe_id,\n",
    "    universe = universe,\n",
    "    output_dir=output_dir,\n",
    ")"
   ]
  },
  {
   "cell_type": "code",
   "execution_count": 8,
   "id": "106241f5",
   "metadata": {
    "execution": {
     "iopub.execute_input": "2025-08-05T15:46:48.215373Z",
     "iopub.status.busy": "2025-08-05T15:46:48.214610Z",
     "iopub.status.idle": "2025-08-05T15:46:48.220241Z",
     "shell.execute_reply": "2025-08-05T15:46:48.219516Z"
    },
    "papermill": {
     "duration": 0.01626,
     "end_time": "2025-08-05T15:46:48.221599",
     "exception": false,
     "start_time": "2025-08-05T15:46:48.205339",
     "status": "completed"
    },
    "tags": []
   },
   "outputs": [
    {
     "name": "stdout",
     "output_type": "stream",
     "text": [
      "Using Seed: 2023\n"
     ]
    }
   ],
   "source": [
    "import numpy as np\n",
    "parsed_seed = int(seed)\n",
    "np.random.seed(parsed_seed)\n",
    "print(f\"Using Seed: {parsed_seed}\")"
   ]
  },
  {
   "cell_type": "markdown",
   "id": "e0ebdc57",
   "metadata": {
    "papermill": {
     "duration": 0.00857,
     "end_time": "2025-08-05T15:46:48.239546",
     "exception": false,
     "start_time": "2025-08-05T15:46:48.230976",
     "status": "completed"
    },
    "tags": []
   },
   "source": [
    "# Loading Data"
   ]
  },
  {
   "cell_type": "code",
   "execution_count": 9,
   "id": "f0496b8a",
   "metadata": {
    "execution": {
     "iopub.execute_input": "2025-08-05T15:46:48.258279Z",
     "iopub.status.busy": "2025-08-05T15:46:48.257565Z",
     "iopub.status.idle": "2025-08-05T15:46:58.964605Z",
     "shell.execute_reply": "2025-08-05T15:46:58.963505Z"
    },
    "papermill": {
     "duration": 10.717951,
     "end_time": "2025-08-05T15:46:58.966186",
     "exception": false,
     "start_time": "2025-08-05T15:46:48.248235",
     "status": "completed"
    },
    "tags": []
   },
   "outputs": [
    {
     "name": "stdout",
     "output_type": "stream",
     "text": [
      "Loading SIAB data from cache: data/siab_cached.csv.gz\n"
     ]
    },
    {
     "name": "stdout",
     "output_type": "stream",
     "text": [
      "(643690, 164)\n"
     ]
    }
   ],
   "source": [
    "from pathlib import Path\n",
    "import pandas as pd\n",
    "\n",
    "# File paths\n",
    "raw_file = Path(\"data/raw/siab.csv\")\n",
    "cache_file = Path(\"data/siab_cached.csv.gz\")\n",
    "\n",
    "# Ensure cache directory exists\n",
    "cache_file.parent.mkdir(parents=True, exist_ok=True)\n",
    "\n",
    "# Load with simple caching\n",
    "if cache_file.exists():\n",
    "    print(f\"Loading SIAB data from cache: {cache_file}\")\n",
    "    siab = pd.read_csv(cache_file, compression='gzip')\n",
    "else:\n",
    "    print(f\"Cache not found. Reading raw SIAB data: {raw_file}\")\n",
    "    siab = pd.read_csv(raw_file)\n",
    "    siab.to_csv(cache_file, index=False, compression='gzip')\n",
    "    print(f\"Cached SIAB data to: {cache_file}\")\n",
    "\n",
    "print(siab.shape)"
   ]
  },
  {
   "cell_type": "code",
   "execution_count": 10,
   "id": "db0ca512-5f53-4dba-abdb-a2888bca41ba",
   "metadata": {
    "execution": {
     "iopub.execute_input": "2025-08-05T15:46:59.001861Z",
     "iopub.status.busy": "2025-08-05T15:46:59.001361Z",
     "iopub.status.idle": "2025-08-05T15:46:59.007193Z",
     "shell.execute_reply": "2025-08-05T15:46:59.005995Z"
    },
    "papermill": {
     "duration": 0.02412,
     "end_time": "2025-08-05T15:46:59.008773",
     "exception": false,
     "start_time": "2025-08-05T15:46:58.984653",
     "status": "completed"
    },
    "tags": []
   },
   "outputs": [],
   "source": [
    "#siab"
   ]
  },
  {
   "cell_type": "markdown",
   "id": "997051c5-15bd-4b69-9786-c3001a3ce484",
   "metadata": {
    "papermill": {
     "duration": 0.015856,
     "end_time": "2025-08-05T15:46:59.041116",
     "exception": false,
     "start_time": "2025-08-05T15:46:59.025260",
     "status": "completed"
    },
    "tags": []
   },
   "source": [
    "# Splitting Data and Setting Training Data Size"
   ]
  },
  {
   "cell_type": "code",
   "execution_count": 11,
   "id": "aea9c6ef-6f46-42c8-85eb-5a62025c1508",
   "metadata": {
    "execution": {
     "iopub.execute_input": "2025-08-05T15:46:59.074255Z",
     "iopub.status.busy": "2025-08-05T15:46:59.073448Z",
     "iopub.status.idle": "2025-08-05T15:46:59.706082Z",
     "shell.execute_reply": "2025-08-05T15:46:59.703777Z"
    },
    "papermill": {
     "duration": 0.651884,
     "end_time": "2025-08-05T15:46:59.708633",
     "exception": false,
     "start_time": "2025-08-05T15:46:59.056749",
     "status": "completed"
    },
    "tags": []
   },
   "outputs": [],
   "source": [
    "from fairness_multiverse.universe import sample_by_year_size\n",
    "\n",
    "siab_train = sample_by_year_size(siab,\n",
    "                               training_year=universe[\"training_year\"],\n",
    "                               training_size=universe[\"training_size\"])"
   ]
  },
  {
   "cell_type": "code",
   "execution_count": 12,
   "id": "8d3afb32-789d-442c-8d5d-9f5aa8dd2eed",
   "metadata": {
    "execution": {
     "iopub.execute_input": "2025-08-05T15:46:59.755232Z",
     "iopub.status.busy": "2025-08-05T15:46:59.754153Z",
     "iopub.status.idle": "2025-08-05T15:46:59.759917Z",
     "shell.execute_reply": "2025-08-05T15:46:59.758760Z"
    },
    "papermill": {
     "duration": 0.029035,
     "end_time": "2025-08-05T15:46:59.761924",
     "exception": false,
     "start_time": "2025-08-05T15:46:59.732889",
     "status": "completed"
    },
    "tags": []
   },
   "outputs": [],
   "source": [
    "#siab_train.shape"
   ]
  },
  {
   "cell_type": "code",
   "execution_count": 13,
   "id": "d582db68-1a4c-47fb-84fc-08518dc1975a",
   "metadata": {
    "execution": {
     "iopub.execute_input": "2025-08-05T15:46:59.804107Z",
     "iopub.status.busy": "2025-08-05T15:46:59.803605Z",
     "iopub.status.idle": "2025-08-05T15:46:59.809073Z",
     "shell.execute_reply": "2025-08-05T15:46:59.808112Z"
    },
    "papermill": {
     "duration": 0.02769,
     "end_time": "2025-08-05T15:46:59.811051",
     "exception": false,
     "start_time": "2025-08-05T15:46:59.783361",
     "status": "completed"
    },
    "tags": []
   },
   "outputs": [],
   "source": [
    "#display(siab_train.groupby(\"year\").size())"
   ]
  },
  {
   "cell_type": "code",
   "execution_count": 14,
   "id": "a561edb4-d032-42cb-8256-22eac1111c64",
   "metadata": {
    "execution": {
     "iopub.execute_input": "2025-08-05T15:46:59.851792Z",
     "iopub.status.busy": "2025-08-05T15:46:59.851379Z",
     "iopub.status.idle": "2025-08-05T15:47:00.076415Z",
     "shell.execute_reply": "2025-08-05T15:47:00.075412Z"
    },
    "papermill": {
     "duration": 0.247472,
     "end_time": "2025-08-05T15:47:00.078456",
     "exception": false,
     "start_time": "2025-08-05T15:46:59.830984",
     "status": "completed"
    },
    "tags": []
   },
   "outputs": [],
   "source": [
    "#siab_train = siab_s[siab_s.year < 2015]\n",
    "siab_calib = siab[siab.year == 2015]\n",
    "siab_test = siab[siab.year == 2016]"
   ]
  },
  {
   "cell_type": "code",
   "execution_count": 15,
   "id": "472de16f-c3db-4916-846b-1f0de9cf1746",
   "metadata": {
    "execution": {
     "iopub.execute_input": "2025-08-05T15:47:00.121970Z",
     "iopub.status.busy": "2025-08-05T15:47:00.121032Z",
     "iopub.status.idle": "2025-08-05T15:47:00.131624Z",
     "shell.execute_reply": "2025-08-05T15:47:00.130334Z"
    },
    "papermill": {
     "duration": 0.034815,
     "end_time": "2025-08-05T15:47:00.133725",
     "exception": false,
     "start_time": "2025-08-05T15:47:00.098910",
     "status": "completed"
    },
    "tags": []
   },
   "outputs": [],
   "source": [
    "X_train = siab_train.iloc[:,4:164]\n",
    "y_train = siab_train.iloc[:, [3]]"
   ]
  },
  {
   "cell_type": "code",
   "execution_count": 16,
   "id": "828c96af-f43a-4ed6-ba47-8ac73a47d56c",
   "metadata": {
    "execution": {
     "iopub.execute_input": "2025-08-05T15:47:00.177180Z",
     "iopub.status.busy": "2025-08-05T15:47:00.176456Z",
     "iopub.status.idle": "2025-08-05T15:47:00.230652Z",
     "shell.execute_reply": "2025-08-05T15:47:00.229213Z"
    },
    "papermill": {
     "duration": 0.077911,
     "end_time": "2025-08-05T15:47:00.232836",
     "exception": false,
     "start_time": "2025-08-05T15:47:00.154925",
     "status": "completed"
    },
    "tags": []
   },
   "outputs": [],
   "source": [
    "X_calib = siab_calib.iloc[:,4:164]\n",
    "y_calib = siab_calib.iloc[:, [3]]"
   ]
  },
  {
   "cell_type": "code",
   "execution_count": 17,
   "id": "c34be9c3-6bd6-476e-acd3-845840e303be",
   "metadata": {
    "execution": {
     "iopub.execute_input": "2025-08-05T15:47:00.275713Z",
     "iopub.status.busy": "2025-08-05T15:47:00.274990Z",
     "iopub.status.idle": "2025-08-05T15:47:00.331055Z",
     "shell.execute_reply": "2025-08-05T15:47:00.329815Z"
    },
    "papermill": {
     "duration": 0.078877,
     "end_time": "2025-08-05T15:47:00.333163",
     "exception": false,
     "start_time": "2025-08-05T15:47:00.254286",
     "status": "completed"
    },
    "tags": []
   },
   "outputs": [],
   "source": [
    "X_test = siab_test.iloc[:,4:164]\n",
    "y_true = siab_test.iloc[:, [3]]"
   ]
  },
  {
   "cell_type": "code",
   "execution_count": 18,
   "id": "e6c733c5",
   "metadata": {
    "execution": {
     "iopub.execute_input": "2025-08-05T15:47:00.377035Z",
     "iopub.status.busy": "2025-08-05T15:47:00.376097Z",
     "iopub.status.idle": "2025-08-05T15:47:00.474587Z",
     "shell.execute_reply": "2025-08-05T15:47:00.473479Z"
    },
    "papermill": {
     "duration": 0.121915,
     "end_time": "2025-08-05T15:47:00.476591",
     "exception": false,
     "start_time": "2025-08-05T15:47:00.354676",
     "status": "completed"
    },
    "tags": []
   },
   "outputs": [],
   "source": [
    "# Auxiliary data needed downstream in the pipeline\n",
    "\n",
    "org_train = X_train.copy()\n",
    "org_test = X_test.copy()\n",
    "org_calib = X_calib.copy()"
   ]
  },
  {
   "cell_type": "markdown",
   "id": "0a4a1b33",
   "metadata": {
    "papermill": {
     "duration": 0.015682,
     "end_time": "2025-08-05T15:47:00.509048",
     "exception": false,
     "start_time": "2025-08-05T15:47:00.493366",
     "status": "completed"
    },
    "tags": []
   },
   "source": [
    "# Preprocessing Data"
   ]
  },
  {
   "cell_type": "code",
   "execution_count": 19,
   "id": "ca879031",
   "metadata": {
    "execution": {
     "iopub.execute_input": "2025-08-05T15:47:00.544086Z",
     "iopub.status.busy": "2025-08-05T15:47:00.541292Z",
     "iopub.status.idle": "2025-08-05T15:47:00.554816Z",
     "shell.execute_reply": "2025-08-05T15:47:00.553837Z"
    },
    "papermill": {
     "duration": 0.031611,
     "end_time": "2025-08-05T15:47:00.556551",
     "exception": false,
     "start_time": "2025-08-05T15:47:00.524940",
     "status": "completed"
    },
    "tags": []
   },
   "outputs": [],
   "source": [
    "# EXCLUDE PROTECTED FEATURES\n",
    "# ----------------------\n",
    "# \"exclude_features\": \"none\", # \"nationality\", \"sex\", \"nationality-sex\"\n",
    "\n",
    "excluded_features = universe[\"exclude_features\"].split(\"-\") # split, e.g.: \"nationality-sex\" -> [\"nationality\", \"sex\"]\n",
    "excluded_features_dictionary = {\n",
    "    \"nationality\": [\"maxdeutsch1\", \"maxdeutsch.Missing.\"],\n",
    "    \"sex\": [\"frau1\"],\n",
    "    \"age\": [\"age\"],\n",
    "}"
   ]
  },
  {
   "cell_type": "code",
   "execution_count": 20,
   "id": "b745ac60",
   "metadata": {
    "execution": {
     "iopub.execute_input": "2025-08-05T15:47:00.597182Z",
     "iopub.status.busy": "2025-08-05T15:47:00.596501Z",
     "iopub.status.idle": "2025-08-05T15:47:00.601901Z",
     "shell.execute_reply": "2025-08-05T15:47:00.600903Z"
    },
    "papermill": {
     "duration": 0.02693,
     "end_time": "2025-08-05T15:47:00.603435",
     "exception": false,
     "start_time": "2025-08-05T15:47:00.576505",
     "status": "completed"
    },
    "tags": []
   },
   "outputs": [],
   "source": [
    "# Code nice names to column names\n",
    "\n",
    "excluded_features_columns = [\n",
    "    excluded_features_dictionary[f] for f in excluded_features if len(f) > 0 and f != \"none\"\n",
    "]"
   ]
  },
  {
   "cell_type": "code",
   "execution_count": 21,
   "id": "f84f73a2",
   "metadata": {
    "execution": {
     "iopub.execute_input": "2025-08-05T15:47:00.628280Z",
     "iopub.status.busy": "2025-08-05T15:47:00.627780Z",
     "iopub.status.idle": "2025-08-05T15:47:00.632544Z",
     "shell.execute_reply": "2025-08-05T15:47:00.631883Z"
    },
    "papermill": {
     "duration": 0.016165,
     "end_time": "2025-08-05T15:47:00.633756",
     "exception": false,
     "start_time": "2025-08-05T15:47:00.617591",
     "status": "completed"
    },
    "tags": []
   },
   "outputs": [],
   "source": [
    "from utils import flatten_once\n",
    "\n",
    "excluded_features_columns = flatten_once(excluded_features_columns)"
   ]
  },
  {
   "cell_type": "code",
   "execution_count": 22,
   "id": "884dea22",
   "metadata": {
    "execution": {
     "iopub.execute_input": "2025-08-05T15:47:00.653763Z",
     "iopub.status.busy": "2025-08-05T15:47:00.653223Z",
     "iopub.status.idle": "2025-08-05T15:47:00.682590Z",
     "shell.execute_reply": "2025-08-05T15:47:00.681460Z"
    },
    "papermill": {
     "duration": 0.041375,
     "end_time": "2025-08-05T15:47:00.684434",
     "exception": false,
     "start_time": "2025-08-05T15:47:00.643059",
     "status": "completed"
    },
    "tags": []
   },
   "outputs": [
    {
     "name": "stdout",
     "output_type": "stream",
     "text": [
      "Dropping features: ['frau1']\n"
     ]
    }
   ],
   "source": [
    "if len(excluded_features_columns) > 0:\n",
    "    print(f\"Dropping features: {excluded_features_columns}\")\n",
    "    X_train.drop(excluded_features_columns, axis=1, inplace=True)"
   ]
  },
  {
   "cell_type": "code",
   "execution_count": 23,
   "id": "95ab8b16",
   "metadata": {
    "execution": {
     "iopub.execute_input": "2025-08-05T15:47:00.729348Z",
     "iopub.status.busy": "2025-08-05T15:47:00.728554Z",
     "iopub.status.idle": "2025-08-05T15:47:00.795563Z",
     "shell.execute_reply": "2025-08-05T15:47:00.794754Z"
    },
    "papermill": {
     "duration": 0.091107,
     "end_time": "2025-08-05T15:47:00.796920",
     "exception": false,
     "start_time": "2025-08-05T15:47:00.705813",
     "status": "completed"
    },
    "tags": []
   },
   "outputs": [
    {
     "name": "stdout",
     "output_type": "stream",
     "text": [
      "Dropping features: ['frau1']\n"
     ]
    }
   ],
   "source": [
    "if len(excluded_features_columns) > 0:\n",
    "    print(f\"Dropping features: {excluded_features_columns}\")\n",
    "    X_test.drop(excluded_features_columns, axis=1, inplace=True)"
   ]
  },
  {
   "cell_type": "code",
   "execution_count": 24,
   "id": "1853aaf5-fb9f-46cb-a2b5-8ea4ae2237e4",
   "metadata": {
    "execution": {
     "iopub.execute_input": "2025-08-05T15:47:00.819144Z",
     "iopub.status.busy": "2025-08-05T15:47:00.818397Z",
     "iopub.status.idle": "2025-08-05T15:47:00.867073Z",
     "shell.execute_reply": "2025-08-05T15:47:00.866078Z"
    },
    "papermill": {
     "duration": 0.061473,
     "end_time": "2025-08-05T15:47:00.868985",
     "exception": false,
     "start_time": "2025-08-05T15:47:00.807512",
     "status": "completed"
    },
    "tags": []
   },
   "outputs": [
    {
     "name": "stdout",
     "output_type": "stream",
     "text": [
      "Dropping features: ['frau1']\n"
     ]
    }
   ],
   "source": [
    "if len(excluded_features_columns) > 0:\n",
    "    print(f\"Dropping features: {excluded_features_columns}\")\n",
    "    X_calib.drop(excluded_features_columns, axis=1, inplace=True)"
   ]
  },
  {
   "cell_type": "code",
   "execution_count": 25,
   "id": "76c4dc6d",
   "metadata": {
    "execution": {
     "iopub.execute_input": "2025-08-05T15:47:00.908667Z",
     "iopub.status.busy": "2025-08-05T15:47:00.907953Z",
     "iopub.status.idle": "2025-08-05T15:47:00.913569Z",
     "shell.execute_reply": "2025-08-05T15:47:00.912630Z"
    },
    "papermill": {
     "duration": 0.02624,
     "end_time": "2025-08-05T15:47:00.915234",
     "exception": false,
     "start_time": "2025-08-05T15:47:00.888994",
     "status": "completed"
    },
    "tags": []
   },
   "outputs": [],
   "source": [
    "# EXCLUDE CERTAIN SUBGROUPS\n",
    "# ----------------------\n",
    "\n",
    "mode = universe.get(\"exclude_subgroups\", \"keep-all\") \n",
    "# Fetches the exclude_subgroups setting from the universe dict.\n",
    "# Defaults to \"keep-all\" if the key is missing."
   ]
  },
  {
   "cell_type": "code",
   "execution_count": 26,
   "id": "21994072",
   "metadata": {
    "execution": {
     "iopub.execute_input": "2025-08-05T15:47:00.951277Z",
     "iopub.status.busy": "2025-08-05T15:47:00.950757Z",
     "iopub.status.idle": "2025-08-05T15:47:00.957550Z",
     "shell.execute_reply": "2025-08-05T15:47:00.956554Z"
    },
    "papermill": {
     "duration": 0.026087,
     "end_time": "2025-08-05T15:47:00.959174",
     "exception": false,
     "start_time": "2025-08-05T15:47:00.933087",
     "status": "completed"
    },
    "tags": []
   },
   "outputs": [],
   "source": [
    "if mode == \"keep-all\":\n",
    "    keep_mask = pd.Series(True, index=org_train.index)\n",
    "\n",
    "# org_train contains the original feature columns from features_org (in Simson)\n",
    "# features_org contains unprocessed features, for me X_train at beginning ???\n",
    "# For keep-all, creates a boolean Series (keep_mask) of all True, so no rows are removed.\n",
    "\n",
    "elif mode == \"drop-non-german\":\n",
    "    keep_mask = org_train[\"maxdeutsch1\"] == 1 # ??? what about missing values?\n",
    "\n",
    "else:\n",
    "    raise ValueError(f\"Unsupported mode for exclude_subgroups: {mode}\")"
   ]
  },
  {
   "cell_type": "code",
   "execution_count": 27,
   "id": "71651440",
   "metadata": {
    "execution": {
     "iopub.execute_input": "2025-08-05T15:47:00.995333Z",
     "iopub.status.busy": "2025-08-05T15:47:00.994856Z",
     "iopub.status.idle": "2025-08-05T15:47:01.001890Z",
     "shell.execute_reply": "2025-08-05T15:47:01.001117Z"
    },
    "papermill": {
     "duration": 0.026276,
     "end_time": "2025-08-05T15:47:01.003301",
     "exception": false,
     "start_time": "2025-08-05T15:47:00.977025",
     "status": "completed"
    },
    "tags": []
   },
   "outputs": [
    {
     "name": "stdout",
     "output_type": "stream",
     "text": [
      "Dropping 665 rows (13.30%) where mode='drop-non-german'\n"
     ]
    }
   ],
   "source": [
    "n_drop = (~keep_mask).sum() # Calculates how many rows are set to be dropped\n",
    "if n_drop > 0:\n",
    "    pct = n_drop / len(keep_mask) * 100\n",
    "    print(f\"Dropping {n_drop} rows ({pct:.2f}%) where mode='{mode}'\")"
   ]
  },
  {
   "cell_type": "code",
   "execution_count": 28,
   "id": "5fb8eee5",
   "metadata": {
    "execution": {
     "iopub.execute_input": "2025-08-05T15:47:01.024349Z",
     "iopub.status.busy": "2025-08-05T15:47:01.023865Z",
     "iopub.status.idle": "2025-08-05T15:47:01.029716Z",
     "shell.execute_reply": "2025-08-05T15:47:01.029007Z"
    },
    "papermill": {
     "duration": 0.017386,
     "end_time": "2025-08-05T15:47:01.031118",
     "exception": false,
     "start_time": "2025-08-05T15:47:01.013732",
     "status": "completed"
    },
    "tags": []
   },
   "outputs": [],
   "source": [
    "X_train = X_train[keep_mask]"
   ]
  },
  {
   "cell_type": "code",
   "execution_count": 29,
   "id": "b202bb3a",
   "metadata": {
    "execution": {
     "iopub.execute_input": "2025-08-05T15:47:01.052430Z",
     "iopub.status.busy": "2025-08-05T15:47:01.052037Z",
     "iopub.status.idle": "2025-08-05T15:47:01.056708Z",
     "shell.execute_reply": "2025-08-05T15:47:01.055984Z"
    },
    "papermill": {
     "duration": 0.016095,
     "end_time": "2025-08-05T15:47:01.057993",
     "exception": false,
     "start_time": "2025-08-05T15:47:01.041898",
     "status": "completed"
    },
    "tags": []
   },
   "outputs": [],
   "source": [
    "y_train = y_train[keep_mask]"
   ]
  },
  {
   "cell_type": "markdown",
   "id": "493e2ac3",
   "metadata": {
    "papermill": {
     "duration": 0.009325,
     "end_time": "2025-08-05T15:47:01.077435",
     "exception": false,
     "start_time": "2025-08-05T15:47:01.068110",
     "status": "completed"
    },
    "tags": []
   },
   "source": [
    "# Model Training"
   ]
  },
  {
   "cell_type": "code",
   "execution_count": 30,
   "id": "679e1268",
   "metadata": {
    "execution": {
     "iopub.execute_input": "2025-08-05T15:47:01.097675Z",
     "iopub.status.busy": "2025-08-05T15:47:01.097054Z",
     "iopub.status.idle": "2025-08-05T15:47:01.168168Z",
     "shell.execute_reply": "2025-08-05T15:47:01.167444Z"
    },
    "papermill": {
     "duration": 0.082714,
     "end_time": "2025-08-05T15:47:01.169593",
     "exception": false,
     "start_time": "2025-08-05T15:47:01.086879",
     "status": "completed"
    },
    "tags": []
   },
   "outputs": [],
   "source": [
    "from sklearn.linear_model import LogisticRegression\n",
    "from sklearn.ensemble import GradientBoostingClassifier, RandomForestClassifier\n",
    "\n",
    "if (universe[\"model\"] == \"logreg\"):\n",
    "    model = LogisticRegression() #penalty=\"none\", solver=\"newton-cg\", max_iter=1) # include random_state=19 ?\n",
    "elif (universe[\"model\"] == \"penalized_logreg\"):\n",
    "    model = LogisticRegression(penalty=\"l2\", C=0.1) #, solver=\"newton-cg\", max_iter=1)\n",
    "elif (universe[\"model\"] == \"rf\"):\n",
    "    model = RandomForestClassifier() # n_estimators=100, n_jobs=-1\n",
    "elif (universe[\"model\"] == \"gbm\"):\n",
    "    model = GradientBoostingClassifier()\n",
    "elif (universe[\"model\"] == \"elasticnet\"):\n",
    "    model = LogisticRegression(penalty = 'elasticnet', solver = 'saga', l1_ratio = 0.5) # max_iter=5000\n",
    "else:\n",
    "    raise \"Unsupported universe.model\""
   ]
  },
  {
   "cell_type": "code",
   "execution_count": 31,
   "id": "0cc8f744",
   "metadata": {
    "execution": {
     "iopub.execute_input": "2025-08-05T15:47:01.190792Z",
     "iopub.status.busy": "2025-08-05T15:47:01.190292Z",
     "iopub.status.idle": "2025-08-05T15:47:01.194777Z",
     "shell.execute_reply": "2025-08-05T15:47:01.194039Z"
    },
    "papermill": {
     "duration": 0.016312,
     "end_time": "2025-08-05T15:47:01.196194",
     "exception": false,
     "start_time": "2025-08-05T15:47:01.179882",
     "status": "completed"
    },
    "tags": []
   },
   "outputs": [],
   "source": [
    "import numpy as np\n",
    "from sklearn.pipeline import Pipeline\n",
    "from sklearn.preprocessing import StandardScaler\n",
    "\n",
    "model = Pipeline([\n",
    "    #(\"continuous_processor\", continuous_processor),\n",
    "    #(\"categorical_preprocessor\", categorical_preprocessor),\n",
    "    (\"scale\", StandardScaler() if universe[\"scale\"] == \"scale\" else None), \n",
    "    (\"model\", model),\n",
    "])"
   ]
  },
  {
   "cell_type": "code",
   "execution_count": 32,
   "id": "9442c04d",
   "metadata": {
    "execution": {
     "iopub.execute_input": "2025-08-05T15:47:01.217527Z",
     "iopub.status.busy": "2025-08-05T15:47:01.216962Z",
     "iopub.status.idle": "2025-08-05T15:47:02.268708Z",
     "shell.execute_reply": "2025-08-05T15:47:02.267989Z"
    },
    "papermill": {
     "duration": 1.063127,
     "end_time": "2025-08-05T15:47:02.270009",
     "exception": false,
     "start_time": "2025-08-05T15:47:01.206882",
     "status": "completed"
    },
    "tags": []
   },
   "outputs": [
    {
     "name": "stderr",
     "output_type": "stream",
     "text": [
      "/dss/dsshome1/0C/ra93lal2/.local/share/virtualenvs/CMA_Fairness_v2-3j10GkSs/lib/python3.10/site-packages/sklearn/linear_model/_sag.py:350: ConvergenceWarning: The max_iter was reached which means the coef_ did not converge\n",
      "  warnings.warn(\n"
     ]
    },
    {
     "data": {
      "text/html": [
       "<style>#sk-container-id-1 {color: black;background-color: white;}#sk-container-id-1 pre{padding: 0;}#sk-container-id-1 div.sk-toggleable {background-color: white;}#sk-container-id-1 label.sk-toggleable__label {cursor: pointer;display: block;width: 100%;margin-bottom: 0;padding: 0.3em;box-sizing: border-box;text-align: center;}#sk-container-id-1 label.sk-toggleable__label-arrow:before {content: \"▸\";float: left;margin-right: 0.25em;color: #696969;}#sk-container-id-1 label.sk-toggleable__label-arrow:hover:before {color: black;}#sk-container-id-1 div.sk-estimator:hover label.sk-toggleable__label-arrow:before {color: black;}#sk-container-id-1 div.sk-toggleable__content {max-height: 0;max-width: 0;overflow: hidden;text-align: left;background-color: #f0f8ff;}#sk-container-id-1 div.sk-toggleable__content pre {margin: 0.2em;color: black;border-radius: 0.25em;background-color: #f0f8ff;}#sk-container-id-1 input.sk-toggleable__control:checked~div.sk-toggleable__content {max-height: 200px;max-width: 100%;overflow: auto;}#sk-container-id-1 input.sk-toggleable__control:checked~label.sk-toggleable__label-arrow:before {content: \"▾\";}#sk-container-id-1 div.sk-estimator input.sk-toggleable__control:checked~label.sk-toggleable__label {background-color: #d4ebff;}#sk-container-id-1 div.sk-label input.sk-toggleable__control:checked~label.sk-toggleable__label {background-color: #d4ebff;}#sk-container-id-1 input.sk-hidden--visually {border: 0;clip: rect(1px 1px 1px 1px);clip: rect(1px, 1px, 1px, 1px);height: 1px;margin: -1px;overflow: hidden;padding: 0;position: absolute;width: 1px;}#sk-container-id-1 div.sk-estimator {font-family: monospace;background-color: #f0f8ff;border: 1px dotted black;border-radius: 0.25em;box-sizing: border-box;margin-bottom: 0.5em;}#sk-container-id-1 div.sk-estimator:hover {background-color: #d4ebff;}#sk-container-id-1 div.sk-parallel-item::after {content: \"\";width: 100%;border-bottom: 1px solid gray;flex-grow: 1;}#sk-container-id-1 div.sk-label:hover label.sk-toggleable__label {background-color: #d4ebff;}#sk-container-id-1 div.sk-serial::before {content: \"\";position: absolute;border-left: 1px solid gray;box-sizing: border-box;top: 0;bottom: 0;left: 50%;z-index: 0;}#sk-container-id-1 div.sk-serial {display: flex;flex-direction: column;align-items: center;background-color: white;padding-right: 0.2em;padding-left: 0.2em;position: relative;}#sk-container-id-1 div.sk-item {position: relative;z-index: 1;}#sk-container-id-1 div.sk-parallel {display: flex;align-items: stretch;justify-content: center;background-color: white;position: relative;}#sk-container-id-1 div.sk-item::before, #sk-container-id-1 div.sk-parallel-item::before {content: \"\";position: absolute;border-left: 1px solid gray;box-sizing: border-box;top: 0;bottom: 0;left: 50%;z-index: -1;}#sk-container-id-1 div.sk-parallel-item {display: flex;flex-direction: column;z-index: 1;position: relative;background-color: white;}#sk-container-id-1 div.sk-parallel-item:first-child::after {align-self: flex-end;width: 50%;}#sk-container-id-1 div.sk-parallel-item:last-child::after {align-self: flex-start;width: 50%;}#sk-container-id-1 div.sk-parallel-item:only-child::after {width: 0;}#sk-container-id-1 div.sk-dashed-wrapped {border: 1px dashed gray;margin: 0 0.4em 0.5em 0.4em;box-sizing: border-box;padding-bottom: 0.4em;background-color: white;}#sk-container-id-1 div.sk-label label {font-family: monospace;font-weight: bold;display: inline-block;line-height: 1.2em;}#sk-container-id-1 div.sk-label-container {text-align: center;}#sk-container-id-1 div.sk-container {/* jupyter's `normalize.less` sets `[hidden] { display: none; }` but bootstrap.min.css set `[hidden] { display: none !important; }` so we also need the `!important` here to be able to override the default hidden behavior on the sphinx rendered scikit-learn.org. See: https://github.com/scikit-learn/scikit-learn/issues/21755 */display: inline-block !important;position: relative;}#sk-container-id-1 div.sk-text-repr-fallback {display: none;}</style><div id=\"sk-container-id-1\" class=\"sk-top-container\"><div class=\"sk-text-repr-fallback\"><pre>Pipeline(steps=[(&#x27;scale&#x27;, None),\n",
       "                (&#x27;model&#x27;,\n",
       "                 LogisticRegression(l1_ratio=0.5, penalty=&#x27;elasticnet&#x27;,\n",
       "                                    solver=&#x27;saga&#x27;))])</pre><b>In a Jupyter environment, please rerun this cell to show the HTML representation or trust the notebook. <br />On GitHub, the HTML representation is unable to render, please try loading this page with nbviewer.org.</b></div><div class=\"sk-container\" hidden><div class=\"sk-item sk-dashed-wrapped\"><div class=\"sk-label-container\"><div class=\"sk-label sk-toggleable\"><input class=\"sk-toggleable__control sk-hidden--visually\" id=\"sk-estimator-id-1\" type=\"checkbox\" ><label for=\"sk-estimator-id-1\" class=\"sk-toggleable__label sk-toggleable__label-arrow\">Pipeline</label><div class=\"sk-toggleable__content\"><pre>Pipeline(steps=[(&#x27;scale&#x27;, None),\n",
       "                (&#x27;model&#x27;,\n",
       "                 LogisticRegression(l1_ratio=0.5, penalty=&#x27;elasticnet&#x27;,\n",
       "                                    solver=&#x27;saga&#x27;))])</pre></div></div></div><div class=\"sk-serial\"><div class=\"sk-item\"><div class=\"sk-estimator sk-toggleable\"><input class=\"sk-toggleable__control sk-hidden--visually\" id=\"sk-estimator-id-2\" type=\"checkbox\" ><label for=\"sk-estimator-id-2\" class=\"sk-toggleable__label sk-toggleable__label-arrow\">None</label><div class=\"sk-toggleable__content\"><pre>None</pre></div></div></div><div class=\"sk-item\"><div class=\"sk-estimator sk-toggleable\"><input class=\"sk-toggleable__control sk-hidden--visually\" id=\"sk-estimator-id-3\" type=\"checkbox\" ><label for=\"sk-estimator-id-3\" class=\"sk-toggleable__label sk-toggleable__label-arrow\">LogisticRegression</label><div class=\"sk-toggleable__content\"><pre>LogisticRegression(l1_ratio=0.5, penalty=&#x27;elasticnet&#x27;, solver=&#x27;saga&#x27;)</pre></div></div></div></div></div></div></div>"
      ],
      "text/plain": [
       "Pipeline(steps=[('scale', None),\n",
       "                ('model',\n",
       "                 LogisticRegression(l1_ratio=0.5, penalty='elasticnet',\n",
       "                                    solver='saga'))])"
      ]
     },
     "execution_count": 32,
     "metadata": {},
     "output_type": "execute_result"
    }
   ],
   "source": [
    "model.fit(X_train, y_train.values.ravel())"
   ]
  },
  {
   "cell_type": "code",
   "execution_count": 33,
   "id": "af59f8c0",
   "metadata": {
    "execution": {
     "iopub.execute_input": "2025-08-05T15:47:02.292496Z",
     "iopub.status.busy": "2025-08-05T15:47:02.292139Z",
     "iopub.status.idle": "2025-08-05T15:47:02.296877Z",
     "shell.execute_reply": "2025-08-05T15:47:02.296183Z"
    },
    "papermill": {
     "duration": 0.017412,
     "end_time": "2025-08-05T15:47:02.298278",
     "exception": false,
     "start_time": "2025-08-05T15:47:02.280866",
     "status": "completed"
    },
    "tags": []
   },
   "outputs": [],
   "source": [
    "from fairness_multiverse.universe import predict_w_threshold"
   ]
  },
  {
   "cell_type": "code",
   "execution_count": 34,
   "id": "a7cf2e16",
   "metadata": {
    "execution": {
     "iopub.execute_input": "2025-08-05T15:47:02.321642Z",
     "iopub.status.busy": "2025-08-05T15:47:02.321131Z",
     "iopub.status.idle": "2025-08-05T15:47:02.409187Z",
     "shell.execute_reply": "2025-08-05T15:47:02.408413Z"
    },
    "papermill": {
     "duration": 0.100616,
     "end_time": "2025-08-05T15:47:02.410445",
     "exception": false,
     "start_time": "2025-08-05T15:47:02.309829",
     "status": "completed"
    },
    "tags": []
   },
   "outputs": [
    {
     "data": {
      "text/plain": [
       "0.8669713521346561"
      ]
     },
     "execution_count": 34,
     "metadata": {},
     "output_type": "execute_result"
    }
   ],
   "source": [
    "probs_test = model.predict_proba(X_test)\n",
    "\n",
    "'''\n",
    "Below code returns a boolean array (or binary 0/1 array depending on how it’s used) where each element \n",
    "is True if the probability of class 1 is greater than or equal to the threshold, and False otherwise.\n",
    "'''\n",
    "y_pred_default = predict_w_threshold(probs_test, 0.5)\n",
    "\n",
    "from sklearn.metrics import accuracy_score\n",
    "\n",
    "# Naive prediction\n",
    "accuracy_score(y_true = y_true, y_pred = y_pred_default)"
   ]
  },
  {
   "cell_type": "code",
   "execution_count": 35,
   "id": "081964c3",
   "metadata": {
    "execution": {
     "iopub.execute_input": "2025-08-05T15:47:02.435121Z",
     "iopub.status.busy": "2025-08-05T15:47:02.434326Z",
     "iopub.status.idle": "2025-08-05T15:47:02.519189Z",
     "shell.execute_reply": "2025-08-05T15:47:02.518480Z"
    },
    "papermill": {
     "duration": 0.099145,
     "end_time": "2025-08-05T15:47:02.520363",
     "exception": false,
     "start_time": "2025-08-05T15:47:02.421218",
     "status": "completed"
    },
    "tags": []
   },
   "outputs": [
    {
     "data": {
      "text/plain": [
       "array([0, 0, 0, ..., 0, 0, 0])"
      ]
     },
     "execution_count": 35,
     "metadata": {},
     "output_type": "execute_result"
    }
   ],
   "source": [
    "model.predict(X_test)"
   ]
  },
  {
   "cell_type": "markdown",
   "id": "56c9705b",
   "metadata": {
    "papermill": {
     "duration": 0.010175,
     "end_time": "2025-08-05T15:47:02.541454",
     "exception": false,
     "start_time": "2025-08-05T15:47:02.531279",
     "status": "completed"
    },
    "tags": []
   },
   "source": [
    "# Conformal Prediction"
   ]
  },
  {
   "cell_type": "code",
   "execution_count": 36,
   "id": "160ec6ff",
   "metadata": {
    "execution": {
     "iopub.execute_input": "2025-08-05T15:47:02.563534Z",
     "iopub.status.busy": "2025-08-05T15:47:02.562843Z",
     "iopub.status.idle": "2025-08-05T15:47:02.567223Z",
     "shell.execute_reply": "2025-08-05T15:47:02.566483Z"
    },
    "papermill": {
     "duration": 0.016936,
     "end_time": "2025-08-05T15:47:02.568538",
     "exception": false,
     "start_time": "2025-08-05T15:47:02.551602",
     "status": "completed"
    },
    "tags": []
   },
   "outputs": [],
   "source": [
    "# Miscoverage level for conformal prediction (10% allowed error rate => 90% target coverage)\n",
    "alpha = 0.1"
   ]
  },
  {
   "cell_type": "code",
   "execution_count": 37,
   "id": "eadf4555-3dd3-440e-8e35-f82a4ad9f855",
   "metadata": {
    "execution": {
     "iopub.execute_input": "2025-08-05T15:47:02.591490Z",
     "iopub.status.busy": "2025-08-05T15:47:02.590733Z",
     "iopub.status.idle": "2025-08-05T15:47:02.663600Z",
     "shell.execute_reply": "2025-08-05T15:47:02.662852Z"
    },
    "papermill": {
     "duration": 0.085184,
     "end_time": "2025-08-05T15:47:02.665037",
     "exception": false,
     "start_time": "2025-08-05T15:47:02.579853",
     "status": "completed"
    },
    "tags": []
   },
   "outputs": [],
   "source": [
    "probs_calib = model.predict_proba(X_calib)"
   ]
  },
  {
   "cell_type": "code",
   "execution_count": 38,
   "id": "2ed93547-6d5d-4983-9b36-1ecb300da49a",
   "metadata": {
    "execution": {
     "iopub.execute_input": "2025-08-05T15:47:02.687763Z",
     "iopub.status.busy": "2025-08-05T15:47:02.687056Z",
     "iopub.status.idle": "2025-08-05T15:47:02.692148Z",
     "shell.execute_reply": "2025-08-05T15:47:02.691395Z"
    },
    "papermill": {
     "duration": 0.017576,
     "end_time": "2025-08-05T15:47:02.693477",
     "exception": false,
     "start_time": "2025-08-05T15:47:02.675901",
     "status": "completed"
    },
    "tags": []
   },
   "outputs": [],
   "source": [
    "y_calib = y_calib.values.ravel().astype(int)"
   ]
  },
  {
   "cell_type": "code",
   "execution_count": 39,
   "id": "65d1320d-f588-4b38-9072-62af1ae97f7d",
   "metadata": {
    "execution": {
     "iopub.execute_input": "2025-08-05T15:47:02.716407Z",
     "iopub.status.busy": "2025-08-05T15:47:02.715734Z",
     "iopub.status.idle": "2025-08-05T15:47:02.722078Z",
     "shell.execute_reply": "2025-08-05T15:47:02.721314Z"
    },
    "papermill": {
     "duration": 0.018857,
     "end_time": "2025-08-05T15:47:02.723419",
     "exception": false,
     "start_time": "2025-08-05T15:47:02.704562",
     "status": "completed"
    },
    "tags": []
   },
   "outputs": [],
   "source": [
    "from fairness_multiverse.conformal import compute_nc_scores\n",
    "\n",
    "# Compute nonconformity scores on calibration set (1 - probability of true class)\n",
    "nc_scores = compute_nc_scores(probs_calib, y_calib)"
   ]
  },
  {
   "cell_type": "code",
   "execution_count": 40,
   "id": "df3b8ca3-53b7-43d5-9667-7c85da7aeda2",
   "metadata": {
    "execution": {
     "iopub.execute_input": "2025-08-05T15:47:02.746124Z",
     "iopub.status.busy": "2025-08-05T15:47:02.745467Z",
     "iopub.status.idle": "2025-08-05T15:47:02.751019Z",
     "shell.execute_reply": "2025-08-05T15:47:02.750328Z"
    },
    "papermill": {
     "duration": 0.018037,
     "end_time": "2025-08-05T15:47:02.752418",
     "exception": false,
     "start_time": "2025-08-05T15:47:02.734381",
     "status": "completed"
    },
    "tags": []
   },
   "outputs": [],
   "source": [
    "from fairness_multiverse.conformal import find_threshold\n",
    "\n",
    "# Find conformal threshold q_hat for the given alpha (split conformal method)\n",
    "q_hat = find_threshold(nc_scores, alpha)"
   ]
  },
  {
   "cell_type": "code",
   "execution_count": 41,
   "id": "4d29e6c1-0ef6-4aa4-b8fe-4fe79b0d033a",
   "metadata": {
    "execution": {
     "iopub.execute_input": "2025-08-05T15:47:02.775711Z",
     "iopub.status.busy": "2025-08-05T15:47:02.775058Z",
     "iopub.status.idle": "2025-08-05T15:47:02.781381Z",
     "shell.execute_reply": "2025-08-05T15:47:02.780592Z"
    },
    "papermill": {
     "duration": 0.019054,
     "end_time": "2025-08-05T15:47:02.782843",
     "exception": false,
     "start_time": "2025-08-05T15:47:02.763789",
     "status": "completed"
    },
    "tags": []
   },
   "outputs": [
    {
     "data": {
      "text/plain": [
       "0.6721045743327904"
      ]
     },
     "execution_count": 41,
     "metadata": {},
     "output_type": "execute_result"
    }
   ],
   "source": [
    "q_hat"
   ]
  },
  {
   "cell_type": "code",
   "execution_count": 42,
   "id": "92460794-cdac-4be2-ba28-f28c0515a6fb",
   "metadata": {
    "execution": {
     "iopub.execute_input": "2025-08-05T15:47:02.806212Z",
     "iopub.status.busy": "2025-08-05T15:47:02.805538Z",
     "iopub.status.idle": "2025-08-05T15:47:03.310973Z",
     "shell.execute_reply": "2025-08-05T15:47:03.310245Z"
    },
    "papermill": {
     "duration": 0.518123,
     "end_time": "2025-08-05T15:47:03.312418",
     "exception": false,
     "start_time": "2025-08-05T15:47:02.794295",
     "status": "completed"
    },
    "tags": []
   },
   "outputs": [],
   "source": [
    "from fairness_multiverse.conformal import predict_conformal_sets\n",
    "\n",
    "# Generate prediction sets for each test example\n",
    "pred_sets = predict_conformal_sets(model, X_test, q_hat)"
   ]
  },
  {
   "cell_type": "code",
   "execution_count": 43,
   "id": "d90c9a65-e6db-4f5d-80cd-e68fb7e46829",
   "metadata": {
    "execution": {
     "iopub.execute_input": "2025-08-05T15:47:03.338933Z",
     "iopub.status.busy": "2025-08-05T15:47:03.338134Z",
     "iopub.status.idle": "2025-08-05T15:47:03.344444Z",
     "shell.execute_reply": "2025-08-05T15:47:03.343417Z"
    },
    "papermill": {
     "duration": 0.022755,
     "end_time": "2025-08-05T15:47:03.346211",
     "exception": false,
     "start_time": "2025-08-05T15:47:03.323456",
     "status": "completed"
    },
    "tags": []
   },
   "outputs": [],
   "source": [
    "y_true = y_true.squeeze()"
   ]
  },
  {
   "cell_type": "code",
   "execution_count": 44,
   "id": "3a58a54a-1e68-46b9-927a-df01f18aebc8",
   "metadata": {
    "execution": {
     "iopub.execute_input": "2025-08-05T15:47:03.385360Z",
     "iopub.status.busy": "2025-08-05T15:47:03.384542Z",
     "iopub.status.idle": "2025-08-05T15:47:03.870241Z",
     "shell.execute_reply": "2025-08-05T15:47:03.869486Z"
    },
    "papermill": {
     "duration": 0.505872,
     "end_time": "2025-08-05T15:47:03.871600",
     "exception": false,
     "start_time": "2025-08-05T15:47:03.365728",
     "status": "completed"
    },
    "tags": []
   },
   "outputs": [],
   "source": [
    "from fairness_multiverse.conformal import evaluate_sets\n",
    "\n",
    "# Evaluate coverage and average set size on test data\n",
    "metrics = evaluate_sets(pred_sets, y_true)"
   ]
  },
  {
   "cell_type": "markdown",
   "id": "2b569c12-9aaa-4c88-98c9-bbcd0cf3ebb8",
   "metadata": {
    "papermill": {
     "duration": 0.010832,
     "end_time": "2025-08-05T15:47:03.893829",
     "exception": false,
     "start_time": "2025-08-05T15:47:03.882997",
     "status": "completed"
    },
    "tags": []
   },
   "source": [
    "# CP Metrics"
   ]
  },
  {
   "cell_type": "code",
   "execution_count": 45,
   "id": "5ce0a5cb-201f-45a0-ade5-94c7f0bd6095",
   "metadata": {
    "execution": {
     "iopub.execute_input": "2025-08-05T15:47:03.917005Z",
     "iopub.status.busy": "2025-08-05T15:47:03.916505Z",
     "iopub.status.idle": "2025-08-05T15:47:03.922615Z",
     "shell.execute_reply": "2025-08-05T15:47:03.921866Z"
    },
    "papermill": {
     "duration": 0.019452,
     "end_time": "2025-08-05T15:47:03.924080",
     "exception": false,
     "start_time": "2025-08-05T15:47:03.904628",
     "status": "completed"
    },
    "tags": []
   },
   "outputs": [
    {
     "data": {
      "text/plain": [
       "{'coverage': 0.9128636718314569, 'avg_size': 1.2764909151711068}"
      ]
     },
     "execution_count": 45,
     "metadata": {},
     "output_type": "execute_result"
    }
   ],
   "source": [
    "metrics"
   ]
  },
  {
   "cell_type": "code",
   "execution_count": 46,
   "id": "9b9a838d-31c9-430b-ae14-12baee460d17",
   "metadata": {
    "execution": {
     "iopub.execute_input": "2025-08-05T15:47:03.948732Z",
     "iopub.status.busy": "2025-08-05T15:47:03.948241Z",
     "iopub.status.idle": "2025-08-05T15:47:03.953692Z",
     "shell.execute_reply": "2025-08-05T15:47:03.952965Z"
    },
    "papermill": {
     "duration": 0.019212,
     "end_time": "2025-08-05T15:47:03.955089",
     "exception": false,
     "start_time": "2025-08-05T15:47:03.935877",
     "status": "completed"
    },
    "tags": []
   },
   "outputs": [],
   "source": [
    "example_universe = universe.copy()\n",
    "universe_training_year = example_universe.get(\"training_year\")\n",
    "universe_training_size = example_universe.get(\"training_size\")\n",
    "universe_scale = example_universe.get(\"scale\")\n",
    "universe_model = example_universe.get(\"model\")\n",
    "universe_exclude_features = example_universe.get(\"exclude_features\")\n",
    "universe_exclude_subgroups = example_universe.get(\"exclude_subgroups\")"
   ]
  },
  {
   "cell_type": "code",
   "execution_count": 47,
   "id": "f4b6a8ac-9dc0-4245-8a91-5b3b5999c4f9",
   "metadata": {
    "execution": {
     "iopub.execute_input": "2025-08-05T15:47:03.979582Z",
     "iopub.status.busy": "2025-08-05T15:47:03.979085Z",
     "iopub.status.idle": "2025-08-05T15:47:03.984424Z",
     "shell.execute_reply": "2025-08-05T15:47:03.983722Z"
    },
    "papermill": {
     "duration": 0.018788,
     "end_time": "2025-08-05T15:47:03.985916",
     "exception": false,
     "start_time": "2025-08-05T15:47:03.967128",
     "status": "completed"
    },
    "tags": []
   },
   "outputs": [],
   "source": [
    "cp_metrics_dict = {\n",
    "    \"universe_id\": [universe_id],\n",
    "    \"universe_training_year\": [universe_training_year],\n",
    "    \"universe_training_size\": [universe_training_size],\n",
    "    \"universe_scale\": [universe_scale],\n",
    "    \"universe_model\": [universe_model],\n",
    "    \"universe_exclude_features\": [universe_exclude_features],\n",
    "    \"universe_exclude_subgroups\": [universe_exclude_subgroups],\n",
    "    \"q_hat\": [q_hat],\n",
    "    \"coverage\": [metrics[\"coverage\"]],\n",
    "    \"avg_size\": [metrics[\"avg_size\"]],\n",
    "}"
   ]
  },
  {
   "cell_type": "code",
   "execution_count": 48,
   "id": "908acbb1-0371-4915-85ca-3fa520d2efe2",
   "metadata": {
    "execution": {
     "iopub.execute_input": "2025-08-05T15:47:04.009942Z",
     "iopub.status.busy": "2025-08-05T15:47:04.009378Z",
     "iopub.status.idle": "2025-08-05T15:47:04.016027Z",
     "shell.execute_reply": "2025-08-05T15:47:04.015302Z"
    },
    "papermill": {
     "duration": 0.019455,
     "end_time": "2025-08-05T15:47:04.017373",
     "exception": false,
     "start_time": "2025-08-05T15:47:03.997918",
     "status": "completed"
    },
    "tags": []
   },
   "outputs": [
    {
     "data": {
      "text/plain": [
       "{'universe_id': ['f52dc435e4458b2119cc4a3278ff7b74'],\n",
       " 'universe_training_year': ['2012_14'],\n",
       " 'universe_training_size': ['5k'],\n",
       " 'universe_scale': ['do-not-scale'],\n",
       " 'universe_model': ['elasticnet'],\n",
       " 'universe_exclude_features': ['sex'],\n",
       " 'universe_exclude_subgroups': ['drop-non-german'],\n",
       " 'q_hat': [0.6721045743327904],\n",
       " 'coverage': [0.9128636718314569],\n",
       " 'avg_size': [1.2764909151711068]}"
      ]
     },
     "execution_count": 48,
     "metadata": {},
     "output_type": "execute_result"
    }
   ],
   "source": [
    "cp_metrics_dict"
   ]
  },
  {
   "cell_type": "code",
   "execution_count": 49,
   "id": "33007efc-14e9-4ec6-97ac-56a455c82265",
   "metadata": {
    "execution": {
     "iopub.execute_input": "2025-08-05T15:47:04.053674Z",
     "iopub.status.busy": "2025-08-05T15:47:04.053201Z",
     "iopub.status.idle": "2025-08-05T15:47:04.059294Z",
     "shell.execute_reply": "2025-08-05T15:47:04.058242Z"
    },
    "papermill": {
     "duration": 0.032266,
     "end_time": "2025-08-05T15:47:04.061279",
     "exception": false,
     "start_time": "2025-08-05T15:47:04.029013",
     "status": "completed"
    },
    "tags": []
   },
   "outputs": [],
   "source": [
    "cp_metrics_df = pd.DataFrame(cp_metrics_dict)"
   ]
  },
  {
   "cell_type": "code",
   "execution_count": 50,
   "id": "db12611b-57b2-4910-b9d0-355adfd6e7bf",
   "metadata": {
    "execution": {
     "iopub.execute_input": "2025-08-05T15:47:04.112234Z",
     "iopub.status.busy": "2025-08-05T15:47:04.111655Z",
     "iopub.status.idle": "2025-08-05T15:47:04.128851Z",
     "shell.execute_reply": "2025-08-05T15:47:04.127746Z"
    },
    "papermill": {
     "duration": 0.043814,
     "end_time": "2025-08-05T15:47:04.130708",
     "exception": false,
     "start_time": "2025-08-05T15:47:04.086894",
     "status": "completed"
    },
    "tags": []
   },
   "outputs": [
    {
     "data": {
      "text/html": [
       "<div>\n",
       "<style scoped>\n",
       "    .dataframe tbody tr th:only-of-type {\n",
       "        vertical-align: middle;\n",
       "    }\n",
       "\n",
       "    .dataframe tbody tr th {\n",
       "        vertical-align: top;\n",
       "    }\n",
       "\n",
       "    .dataframe thead th {\n",
       "        text-align: right;\n",
       "    }\n",
       "</style>\n",
       "<table border=\"1\" class=\"dataframe\">\n",
       "  <thead>\n",
       "    <tr style=\"text-align: right;\">\n",
       "      <th></th>\n",
       "      <th>universe_id</th>\n",
       "      <th>universe_training_year</th>\n",
       "      <th>universe_training_size</th>\n",
       "      <th>universe_scale</th>\n",
       "      <th>universe_model</th>\n",
       "      <th>universe_exclude_features</th>\n",
       "      <th>universe_exclude_subgroups</th>\n",
       "      <th>q_hat</th>\n",
       "      <th>coverage</th>\n",
       "      <th>avg_size</th>\n",
       "    </tr>\n",
       "  </thead>\n",
       "  <tbody>\n",
       "    <tr>\n",
       "      <th>0</th>\n",
       "      <td>f52dc435e4458b2119cc4a3278ff7b74</td>\n",
       "      <td>2012_14</td>\n",
       "      <td>5k</td>\n",
       "      <td>do-not-scale</td>\n",
       "      <td>elasticnet</td>\n",
       "      <td>sex</td>\n",
       "      <td>drop-non-german</td>\n",
       "      <td>0.672105</td>\n",
       "      <td>0.912864</td>\n",
       "      <td>1.276491</td>\n",
       "    </tr>\n",
       "  </tbody>\n",
       "</table>\n",
       "</div>"
      ],
      "text/plain": [
       "                        universe_id universe_training_year  \\\n",
       "0  f52dc435e4458b2119cc4a3278ff7b74                2012_14   \n",
       "\n",
       "  universe_training_size universe_scale universe_model  \\\n",
       "0                     5k   do-not-scale     elasticnet   \n",
       "\n",
       "  universe_exclude_features universe_exclude_subgroups     q_hat  coverage  \\\n",
       "0                       sex            drop-non-german  0.672105  0.912864   \n",
       "\n",
       "   avg_size  \n",
       "0  1.276491  "
      ]
     },
     "execution_count": 50,
     "metadata": {},
     "output_type": "execute_result"
    }
   ],
   "source": [
    "cp_metrics_df"
   ]
  },
  {
   "cell_type": "code",
   "execution_count": 51,
   "id": "b7fbde55-a0a1-47e4-9af6-fe4a17fa8c61",
   "metadata": {
    "execution": {
     "iopub.execute_input": "2025-08-05T15:47:04.184243Z",
     "iopub.status.busy": "2025-08-05T15:47:04.183669Z",
     "iopub.status.idle": "2025-08-05T15:47:04.189997Z",
     "shell.execute_reply": "2025-08-05T15:47:04.188848Z"
    },
    "papermill": {
     "duration": 0.034371,
     "end_time": "2025-08-05T15:47:04.191963",
     "exception": false,
     "start_time": "2025-08-05T15:47:04.157592",
     "status": "completed"
    },
    "tags": []
   },
   "outputs": [],
   "source": [
    "# Conditional Coverage & looking at subgroups"
   ]
  },
  {
   "cell_type": "code",
   "execution_count": 52,
   "id": "027ae886-68dd-4141-96c7-805a5450e1ef",
   "metadata": {
    "execution": {
     "iopub.execute_input": "2025-08-05T15:47:04.246221Z",
     "iopub.status.busy": "2025-08-05T15:47:04.245278Z",
     "iopub.status.idle": "2025-08-05T15:47:04.515848Z",
     "shell.execute_reply": "2025-08-05T15:47:04.514745Z"
    },
    "papermill": {
     "duration": 0.298603,
     "end_time": "2025-08-05T15:47:04.517994",
     "exception": false,
     "start_time": "2025-08-05T15:47:04.219391",
     "status": "completed"
    },
    "tags": []
   },
   "outputs": [],
   "source": [
    "from fairness_multiverse.conformal import build_cp_groups\n",
    "\n",
    "cp_groups_df = build_cp_groups(pred_sets, y_true, X_test.index, org_test)\n",
    "#needs universe_id and setting"
   ]
  },
  {
   "cell_type": "code",
   "execution_count": 53,
   "id": "6cbdab96-b2b2-45af-ad54-d0516db2e28d",
   "metadata": {
    "execution": {
     "iopub.execute_input": "2025-08-05T15:47:04.549967Z",
     "iopub.status.busy": "2025-08-05T15:47:04.549502Z",
     "iopub.status.idle": "2025-08-05T15:47:05.698054Z",
     "shell.execute_reply": "2025-08-05T15:47:05.697251Z"
    },
    "papermill": {
     "duration": 1.163009,
     "end_time": "2025-08-05T15:47:05.699841",
     "exception": false,
     "start_time": "2025-08-05T15:47:04.536832",
     "status": "completed"
    },
    "tags": []
   },
   "outputs": [],
   "source": [
    "# Define covered = 1 if true_label is in the predicted set\n",
    "cp_groups_df['covered'] = cp_groups_df.apply(\n",
    "    lambda r: int(r['true_label'] in r['pred_set']),\n",
    "    axis=1\n",
    ")"
   ]
  },
  {
   "cell_type": "code",
   "execution_count": 54,
   "id": "338ff529-1a6b-4b87-a931-8e4788d52aad",
   "metadata": {
    "execution": {
     "iopub.execute_input": "2025-08-05T15:47:05.750638Z",
     "iopub.status.busy": "2025-08-05T15:47:05.750324Z",
     "iopub.status.idle": "2025-08-05T15:47:05.755302Z",
     "shell.execute_reply": "2025-08-05T15:47:05.754310Z"
    },
    "papermill": {
     "duration": 0.03318,
     "end_time": "2025-08-05T15:47:05.757174",
     "exception": false,
     "start_time": "2025-08-05T15:47:05.723994",
     "status": "completed"
    },
    "tags": []
   },
   "outputs": [],
   "source": [
    "#cp_groups_df"
   ]
  },
  {
   "cell_type": "code",
   "execution_count": 55,
   "id": "90032e27-66df-4540-9169-4e89cfbaa758",
   "metadata": {
    "execution": {
     "iopub.execute_input": "2025-08-05T15:47:05.810972Z",
     "iopub.status.busy": "2025-08-05T15:47:05.810312Z",
     "iopub.status.idle": "2025-08-05T15:47:05.822644Z",
     "shell.execute_reply": "2025-08-05T15:47:05.821631Z"
    },
    "papermill": {
     "duration": 0.042533,
     "end_time": "2025-08-05T15:47:05.824282",
     "exception": false,
     "start_time": "2025-08-05T15:47:05.781749",
     "status": "completed"
    },
    "tags": []
   },
   "outputs": [],
   "source": [
    "subgroups = ['frau1','nongerman','nongerman_male','nongerman_female']\n",
    "\n",
    "# Conditional coverage for subgroup==1\n",
    "cond_coverage = {\n",
    "    g: cp_groups_df.loc[cp_groups_df[g]==1, 'covered'].mean()\n",
    "    for g in subgroups\n",
    "}"
   ]
  },
  {
   "cell_type": "code",
   "execution_count": 56,
   "id": "1e348fb1-b9c3-45bc-ba23-f016827a7e0d",
   "metadata": {
    "execution": {
     "iopub.execute_input": "2025-08-05T15:47:05.867573Z",
     "iopub.status.busy": "2025-08-05T15:47:05.866706Z",
     "iopub.status.idle": "2025-08-05T15:47:05.874252Z",
     "shell.execute_reply": "2025-08-05T15:47:05.873153Z"
    },
    "papermill": {
     "duration": 0.03067,
     "end_time": "2025-08-05T15:47:05.875872",
     "exception": false,
     "start_time": "2025-08-05T15:47:05.845202",
     "status": "completed"
    },
    "tags": []
   },
   "outputs": [
    {
     "data": {
      "text/plain": [
       "{'frau1': 0.9092330502763175,\n",
       " 'nongerman': 0.964744849267389,\n",
       " 'nongerman_male': 0.973430604341169,\n",
       " 'nongerman_female': 0.9503725782414307}"
      ]
     },
     "execution_count": 56,
     "metadata": {},
     "output_type": "execute_result"
    }
   ],
   "source": [
    "cond_coverage"
   ]
  },
  {
   "cell_type": "code",
   "execution_count": 57,
   "id": "f5093324-c3dd-4d63-bc4c-8d945e5c8bbb",
   "metadata": {
    "execution": {
     "iopub.execute_input": "2025-08-05T15:47:05.917957Z",
     "iopub.status.busy": "2025-08-05T15:47:05.917223Z",
     "iopub.status.idle": "2025-08-05T15:47:05.924939Z",
     "shell.execute_reply": "2025-08-05T15:47:05.923995Z"
    },
    "papermill": {
     "duration": 0.030198,
     "end_time": "2025-08-05T15:47:05.926615",
     "exception": false,
     "start_time": "2025-08-05T15:47:05.896417",
     "status": "completed"
    },
    "tags": []
   },
   "outputs": [],
   "source": [
    "for subgroup, cov in cond_coverage.items():\n",
    "    cp_metrics_df[f\"cov_{subgroup}\"] = cov"
   ]
  },
  {
   "cell_type": "code",
   "execution_count": 58,
   "id": "6e872e10-dbe5-49e8-b554-5030c98ff75d",
   "metadata": {
    "execution": {
     "iopub.execute_input": "2025-08-05T15:47:05.969017Z",
     "iopub.status.busy": "2025-08-05T15:47:05.968262Z",
     "iopub.status.idle": "2025-08-05T15:47:05.985843Z",
     "shell.execute_reply": "2025-08-05T15:47:05.984658Z"
    },
    "papermill": {
     "duration": 0.04028,
     "end_time": "2025-08-05T15:47:05.987615",
     "exception": false,
     "start_time": "2025-08-05T15:47:05.947335",
     "status": "completed"
    },
    "tags": []
   },
   "outputs": [
    {
     "data": {
      "text/html": [
       "<div>\n",
       "<style scoped>\n",
       "    .dataframe tbody tr th:only-of-type {\n",
       "        vertical-align: middle;\n",
       "    }\n",
       "\n",
       "    .dataframe tbody tr th {\n",
       "        vertical-align: top;\n",
       "    }\n",
       "\n",
       "    .dataframe thead th {\n",
       "        text-align: right;\n",
       "    }\n",
       "</style>\n",
       "<table border=\"1\" class=\"dataframe\">\n",
       "  <thead>\n",
       "    <tr style=\"text-align: right;\">\n",
       "      <th></th>\n",
       "      <th>universe_id</th>\n",
       "      <th>universe_training_year</th>\n",
       "      <th>universe_training_size</th>\n",
       "      <th>universe_scale</th>\n",
       "      <th>universe_model</th>\n",
       "      <th>universe_exclude_features</th>\n",
       "      <th>universe_exclude_subgroups</th>\n",
       "      <th>q_hat</th>\n",
       "      <th>coverage</th>\n",
       "      <th>avg_size</th>\n",
       "      <th>cov_frau1</th>\n",
       "      <th>cov_nongerman</th>\n",
       "      <th>cov_nongerman_male</th>\n",
       "      <th>cov_nongerman_female</th>\n",
       "    </tr>\n",
       "  </thead>\n",
       "  <tbody>\n",
       "    <tr>\n",
       "      <th>0</th>\n",
       "      <td>f52dc435e4458b2119cc4a3278ff7b74</td>\n",
       "      <td>2012_14</td>\n",
       "      <td>5k</td>\n",
       "      <td>do-not-scale</td>\n",
       "      <td>elasticnet</td>\n",
       "      <td>sex</td>\n",
       "      <td>drop-non-german</td>\n",
       "      <td>0.672105</td>\n",
       "      <td>0.912864</td>\n",
       "      <td>1.276491</td>\n",
       "      <td>0.909233</td>\n",
       "      <td>0.964745</td>\n",
       "      <td>0.973431</td>\n",
       "      <td>0.950373</td>\n",
       "    </tr>\n",
       "  </tbody>\n",
       "</table>\n",
       "</div>"
      ],
      "text/plain": [
       "                        universe_id universe_training_year  \\\n",
       "0  f52dc435e4458b2119cc4a3278ff7b74                2012_14   \n",
       "\n",
       "  universe_training_size universe_scale universe_model  \\\n",
       "0                     5k   do-not-scale     elasticnet   \n",
       "\n",
       "  universe_exclude_features universe_exclude_subgroups     q_hat  coverage  \\\n",
       "0                       sex            drop-non-german  0.672105  0.912864   \n",
       "\n",
       "   avg_size  cov_frau1  cov_nongerman  cov_nongerman_male  \\\n",
       "0  1.276491   0.909233       0.964745            0.973431   \n",
       "\n",
       "   cov_nongerman_female  \n",
       "0              0.950373  "
      ]
     },
     "execution_count": 58,
     "metadata": {},
     "output_type": "execute_result"
    }
   ],
   "source": [
    "cp_metrics_df"
   ]
  },
  {
   "cell_type": "markdown",
   "id": "33774451",
   "metadata": {
    "papermill": {
     "duration": 0.025198,
     "end_time": "2025-08-05T15:47:06.039937",
     "exception": false,
     "start_time": "2025-08-05T15:47:06.014739",
     "status": "completed"
    },
    "tags": []
   },
   "source": [
    "# (Fairness) Metrics"
   ]
  },
  {
   "cell_type": "code",
   "execution_count": 59,
   "id": "debc5d62",
   "metadata": {
    "execution": {
     "iopub.execute_input": "2025-08-05T15:47:06.093096Z",
     "iopub.status.busy": "2025-08-05T15:47:06.092442Z",
     "iopub.status.idle": "2025-08-05T15:47:06.112981Z",
     "shell.execute_reply": "2025-08-05T15:47:06.112112Z"
    },
    "papermill": {
     "duration": 0.048192,
     "end_time": "2025-08-05T15:47:06.114503",
     "exception": false,
     "start_time": "2025-08-05T15:47:06.066311",
     "status": "completed"
    },
    "tags": []
   },
   "outputs": [],
   "source": [
    "# do I need to include maxdeutsch1.missing?\n",
    "\n",
    "import numpy as np\n",
    "\n",
    "colname_to_bin = \"maxdeutsch1\"\n",
    "majority_value = org_train[colname_to_bin].mode()[0]\n",
    "\n",
    "org_test[\"majmin\"] = np.where(org_test[colname_to_bin] == majority_value, \"majority\", \"minority\")"
   ]
  },
  {
   "cell_type": "code",
   "execution_count": 60,
   "id": "06a50de5",
   "metadata": {
    "execution": {
     "iopub.execute_input": "2025-08-05T15:47:06.157401Z",
     "iopub.status.busy": "2025-08-05T15:47:06.156682Z",
     "iopub.status.idle": "2025-08-05T15:47:08.826682Z",
     "shell.execute_reply": "2025-08-05T15:47:08.825290Z"
    },
    "papermill": {
     "duration": 2.69332,
     "end_time": "2025-08-05T15:47:08.828717",
     "exception": false,
     "start_time": "2025-08-05T15:47:06.135397",
     "status": "completed"
    },
    "tags": []
   },
   "outputs": [],
   "source": [
    "example_universe = universe.copy()\n",
    "example_universe[\"cutoff\"] = example_universe[\"cutoff\"][0]\n",
    "example_universe[\"eval_fairness_grouping\"] = example_universe[\"eval_fairness_grouping\"][0]\n",
    "fairness_dict, metric_frame = universe_analysis.compute_metrics(\n",
    "    example_universe,\n",
    "    y_pred_prob=probs_test,\n",
    "    y_test=y_true,\n",
    "    org_test=org_test,\n",
    ")"
   ]
  },
  {
   "cell_type": "markdown",
   "id": "f95d4e02",
   "metadata": {
    "papermill": {
     "duration": 0.022008,
     "end_time": "2025-08-05T15:47:08.875313",
     "exception": false,
     "start_time": "2025-08-05T15:47:08.853305",
     "status": "completed"
    },
    "tags": []
   },
   "source": [
    "# Overall"
   ]
  },
  {
   "cell_type": "markdown",
   "id": "bdee4871",
   "metadata": {
    "papermill": {
     "duration": 0.018398,
     "end_time": "2025-08-05T15:47:08.905949",
     "exception": false,
     "start_time": "2025-08-05T15:47:08.887551",
     "status": "completed"
    },
    "tags": []
   },
   "source": [
    "Fairness\n",
    "Main fairness target: Equalized Odds. Seems to be a better fit than equal opportunity, since we're not only interested in Y = 1. Seems to be a better fit than demographic parity, since we also care about accuracy, not just equal distribution of preds.\n",
    "\n",
    "Pick column for computation of fairness metrics\n",
    "\n",
    "Performance\n",
    "Overall performance measures, most interesting in relation to the measures split by group below"
   ]
  },
  {
   "cell_type": "code",
   "execution_count": 61,
   "id": "c4e067c6",
   "metadata": {
    "execution": {
     "iopub.execute_input": "2025-08-05T15:47:08.951361Z",
     "iopub.status.busy": "2025-08-05T15:47:08.950737Z",
     "iopub.status.idle": "2025-08-05T15:47:08.960267Z",
     "shell.execute_reply": "2025-08-05T15:47:08.959212Z"
    },
    "papermill": {
     "duration": 0.035305,
     "end_time": "2025-08-05T15:47:08.964781",
     "exception": false,
     "start_time": "2025-08-05T15:47:08.929476",
     "status": "completed"
    },
    "tags": []
   },
   "outputs": [
    {
     "data": {
      "text/plain": [
       "accuracy                   0.214257\n",
       "balanced accuracy          0.526007\n",
       "f1                         0.235867\n",
       "precision                  0.134743\n",
       "false positive rate        0.893328\n",
       "false negative rate        0.054658\n",
       "selection rate             0.900000\n",
       "count                  89710.000000\n",
       "dtype: float64"
      ]
     },
     "execution_count": 61,
     "metadata": {},
     "output_type": "execute_result"
    }
   ],
   "source": [
    "metric_frame.overall"
   ]
  },
  {
   "cell_type": "markdown",
   "id": "e968fe9d",
   "metadata": {
    "papermill": {
     "duration": 0.017025,
     "end_time": "2025-08-05T15:47:09.007256",
     "exception": false,
     "start_time": "2025-08-05T15:47:08.990231",
     "status": "completed"
    },
    "tags": []
   },
   "source": [
    "By Group"
   ]
  },
  {
   "cell_type": "code",
   "execution_count": 62,
   "id": "ec325bce",
   "metadata": {
    "execution": {
     "iopub.execute_input": "2025-08-05T15:47:09.035201Z",
     "iopub.status.busy": "2025-08-05T15:47:09.034700Z",
     "iopub.status.idle": "2025-08-05T15:47:09.047929Z",
     "shell.execute_reply": "2025-08-05T15:47:09.047065Z"
    },
    "papermill": {
     "duration": 0.029549,
     "end_time": "2025-08-05T15:47:09.049440",
     "exception": false,
     "start_time": "2025-08-05T15:47:09.019891",
     "status": "completed"
    },
    "tags": []
   },
   "outputs": [
    {
     "data": {
      "text/html": [
       "<div>\n",
       "<style scoped>\n",
       "    .dataframe tbody tr th:only-of-type {\n",
       "        vertical-align: middle;\n",
       "    }\n",
       "\n",
       "    .dataframe tbody tr th {\n",
       "        vertical-align: top;\n",
       "    }\n",
       "\n",
       "    .dataframe thead th {\n",
       "        text-align: right;\n",
       "    }\n",
       "</style>\n",
       "<table border=\"1\" class=\"dataframe\">\n",
       "  <thead>\n",
       "    <tr style=\"text-align: right;\">\n",
       "      <th></th>\n",
       "      <th>accuracy</th>\n",
       "      <th>balanced accuracy</th>\n",
       "      <th>f1</th>\n",
       "      <th>precision</th>\n",
       "      <th>false positive rate</th>\n",
       "      <th>false negative rate</th>\n",
       "      <th>selection rate</th>\n",
       "      <th>count</th>\n",
       "    </tr>\n",
       "    <tr>\n",
       "      <th>majmin</th>\n",
       "      <th></th>\n",
       "      <th></th>\n",
       "      <th></th>\n",
       "      <th></th>\n",
       "      <th></th>\n",
       "      <th></th>\n",
       "      <th></th>\n",
       "      <th></th>\n",
       "    </tr>\n",
       "  </thead>\n",
       "  <tbody>\n",
       "    <tr>\n",
       "      <th>majority</th>\n",
       "      <td>0.235189</td>\n",
       "      <td>0.533075</td>\n",
       "      <td>0.244775</td>\n",
       "      <td>0.140753</td>\n",
       "      <td>0.871814</td>\n",
       "      <td>0.062035</td>\n",
       "      <td>0.880555</td>\n",
       "      <td>69170.0</td>\n",
       "    </tr>\n",
       "    <tr>\n",
       "      <th>minority</th>\n",
       "      <td>0.143768</td>\n",
       "      <td>0.504711</td>\n",
       "      <td>0.207757</td>\n",
       "      <td>0.116283</td>\n",
       "      <td>0.964396</td>\n",
       "      <td>0.026182</td>\n",
       "      <td>0.965482</td>\n",
       "      <td>20540.0</td>\n",
       "    </tr>\n",
       "  </tbody>\n",
       "</table>\n",
       "</div>"
      ],
      "text/plain": [
       "          accuracy  balanced accuracy        f1  precision  \\\n",
       "majmin                                                       \n",
       "majority  0.235189           0.533075  0.244775   0.140753   \n",
       "minority  0.143768           0.504711  0.207757   0.116283   \n",
       "\n",
       "          false positive rate  false negative rate  selection rate    count  \n",
       "majmin                                                                       \n",
       "majority             0.871814             0.062035        0.880555  69170.0  \n",
       "minority             0.964396             0.026182        0.965482  20540.0  "
      ]
     },
     "execution_count": 62,
     "metadata": {},
     "output_type": "execute_result"
    }
   ],
   "source": [
    "metric_frame.by_group"
   ]
  },
  {
   "cell_type": "code",
   "execution_count": 63,
   "id": "a9ddbe63",
   "metadata": {
    "execution": {
     "iopub.execute_input": "2025-08-05T15:47:09.076589Z",
     "iopub.status.busy": "2025-08-05T15:47:09.075825Z",
     "iopub.status.idle": "2025-08-05T15:47:11.184651Z",
     "shell.execute_reply": "2025-08-05T15:47:11.183650Z"
    },
    "papermill": {
     "duration": 2.12338,
     "end_time": "2025-08-05T15:47:11.185955",
     "exception": false,
     "start_time": "2025-08-05T15:47:09.062575",
     "status": "completed"
    },
    "tags": []
   },
   "outputs": [
    {
     "data": {
      "text/plain": [
       "array([[<Axes: title={'center': 'accuracy'}, xlabel='majmin'>,\n",
       "        <Axes: title={'center': 'balanced accuracy'}, xlabel='majmin'>,\n",
       "        <Axes: title={'center': 'f1'}, xlabel='majmin'>],\n",
       "       [<Axes: title={'center': 'precision'}, xlabel='majmin'>,\n",
       "        <Axes: title={'center': 'false positive rate'}, xlabel='majmin'>,\n",
       "        <Axes: title={'center': 'false negative rate'}, xlabel='majmin'>],\n",
       "       [<Axes: title={'center': 'selection rate'}, xlabel='majmin'>,\n",
       "        <Axes: title={'center': 'count'}, xlabel='majmin'>,\n",
       "        <Axes: xlabel='majmin'>]], dtype=object)"
      ]
     },
     "execution_count": 63,
     "metadata": {},
     "output_type": "execute_result"
    },
    {
     "data": {
      "image/png": "[encoded data removed]",
      "text/plain": [
       "<Figure size 1200x800 with 9 Axes>"
      ]
     },
     "metadata": {},
     "output_type": "display_data"
    }
   ],
   "source": [
    "# In a graphic\n",
    "metric_frame.by_group.plot.bar(\n",
    "    subplots=True,\n",
    "    layout=[3, 3],\n",
    "    legend=False,\n",
    "    figsize=[12, 8],\n",
    "    title=\"Show all metrics\",\n",
    ")"
   ]
  },
  {
   "cell_type": "markdown",
   "id": "f57a0bac",
   "metadata": {
    "papermill": {
     "duration": 0.013257,
     "end_time": "2025-08-05T15:47:11.215131",
     "exception": false,
     "start_time": "2025-08-05T15:47:11.201874",
     "status": "completed"
    },
    "tags": []
   },
   "source": [
    "# Final Output"
   ]
  },
  {
   "cell_type": "code",
   "execution_count": 64,
   "id": "96d280a3",
   "metadata": {
    "execution": {
     "iopub.execute_input": "2025-08-05T15:47:11.243015Z",
     "iopub.status.busy": "2025-08-05T15:47:11.242535Z",
     "iopub.status.idle": "2025-08-05T15:47:11.249027Z",
     "shell.execute_reply": "2025-08-05T15:47:11.248281Z"
    },
    "papermill": {
     "duration": 0.022191,
     "end_time": "2025-08-05T15:47:11.250582",
     "exception": false,
     "start_time": "2025-08-05T15:47:11.228391",
     "status": "completed"
    },
    "tags": []
   },
   "outputs": [
    {
     "data": {
      "text/plain": [
       "4"
      ]
     },
     "execution_count": 64,
     "metadata": {},
     "output_type": "execute_result"
    }
   ],
   "source": [
    "sub_universes = universe_analysis.generate_sub_universes()\n",
    "len(sub_universes)"
   ]
  },
  {
   "cell_type": "code",
   "execution_count": 65,
   "id": "92adf7ba",
   "metadata": {
    "execution": {
     "iopub.execute_input": "2025-08-05T15:47:11.279414Z",
     "iopub.status.busy": "2025-08-05T15:47:11.278343Z",
     "iopub.status.idle": "2025-08-05T15:47:11.290805Z",
     "shell.execute_reply": "2025-08-05T15:47:11.290019Z"
    },
    "papermill": {
     "duration": 0.028404,
     "end_time": "2025-08-05T15:47:11.292384",
     "exception": false,
     "start_time": "2025-08-05T15:47:11.263980",
     "status": "completed"
    },
    "tags": []
   },
   "outputs": [],
   "source": [
    "def filter_sub_universe_data(sub_universe, org_test):\n",
    "    # Keep all rows — no filtering\n",
    "    keep_rows_mask = np.ones(org_test.shape[0], dtype=bool)\n",
    "\n",
    "    print(f\"[INFO] Keeping all rows: {keep_rows_mask.sum()} rows retained.\")\n",
    "    return keep_rows_mask"
   ]
  },
  {
   "cell_type": "code",
   "execution_count": 66,
   "id": "4a759155",
   "metadata": {
    "execution": {
     "iopub.execute_input": "2025-08-05T15:47:11.320919Z",
     "iopub.status.busy": "2025-08-05T15:47:11.320279Z",
     "iopub.status.idle": "2025-08-05T15:47:19.407357Z",
     "shell.execute_reply": "2025-08-05T15:47:19.406493Z"
    },
    "papermill": {
     "duration": 8.102242,
     "end_time": "2025-08-05T15:47:19.408968",
     "exception": false,
     "start_time": "2025-08-05T15:47:11.306726",
     "status": "completed"
    },
    "tags": []
   },
   "outputs": [
    {
     "name": "stdout",
     "output_type": "stream",
     "text": [
      "Stopping execution_time clock.\n",
      "[INFO] Keeping all rows: 89710 rows retained.\n"
     ]
    },
    {
     "name": "stdout",
     "output_type": "stream",
     "text": [
      "[INFO] Keeping all rows: 89710 rows retained.\n"
     ]
    },
    {
     "name": "stdout",
     "output_type": "stream",
     "text": [
      "[INFO] Keeping all rows: 89710 rows retained.\n"
     ]
    },
    {
     "name": "stdout",
     "output_type": "stream",
     "text": [
      "[INFO] Keeping all rows: 89710 rows retained.\n"
     ]
    },
    {
     "data": {
      "text/html": [
       "<div>\n",
       "<style scoped>\n",
       "    .dataframe tbody tr th:only-of-type {\n",
       "        vertical-align: middle;\n",
       "    }\n",
       "\n",
       "    .dataframe tbody tr th {\n",
       "        vertical-align: top;\n",
       "    }\n",
       "\n",
       "    .dataframe thead th {\n",
       "        text-align: right;\n",
       "    }\n",
       "</style>\n",
       "<table border=\"1\" class=\"dataframe\">\n",
       "  <thead>\n",
       "    <tr style=\"text-align: right;\">\n",
       "      <th></th>\n",
       "      <th>run_no</th>\n",
       "      <th>universe_id</th>\n",
       "      <th>universe_settings</th>\n",
       "      <th>execution_time</th>\n",
       "      <th>test_size_n</th>\n",
       "      <th>test_size_frac</th>\n",
       "      <th>fair_main_equalized_odds_difference</th>\n",
       "      <th>fair_main_equalized_odds_ratio</th>\n",
       "      <th>fair_main_demographic_parity_difference</th>\n",
       "      <th>fair_main_demographic_parity_ratio</th>\n",
       "      <th>...</th>\n",
       "      <th>perf_grp_precision_0</th>\n",
       "      <th>perf_grp_precision_1</th>\n",
       "      <th>perf_grp_false positive rate_0</th>\n",
       "      <th>perf_grp_false positive rate_1</th>\n",
       "      <th>perf_grp_false negative rate_0</th>\n",
       "      <th>perf_grp_false negative rate_1</th>\n",
       "      <th>perf_grp_selection rate_0</th>\n",
       "      <th>perf_grp_selection rate_1</th>\n",
       "      <th>perf_grp_count_0</th>\n",
       "      <th>perf_grp_count_1</th>\n",
       "    </tr>\n",
       "  </thead>\n",
       "  <tbody>\n",
       "    <tr>\n",
       "      <th>0</th>\n",
       "      <td>15</td>\n",
       "      <td>f52dc435e4458b2119cc4a3278ff7b74</td>\n",
       "      <td>{\"cutoff\": \"quantile_0.1\", \"eval_fairness_grou...</td>\n",
       "      <td>23.193719</td>\n",
       "      <td>89710</td>\n",
       "      <td>1.0</td>\n",
       "      <td>0.092582</td>\n",
       "      <td>0.904000</td>\n",
       "      <td>0.084927</td>\n",
       "      <td>0.912037</td>\n",
       "      <td>...</td>\n",
       "      <td>NaN</td>\n",
       "      <td>NaN</td>\n",
       "      <td>NaN</td>\n",
       "      <td>NaN</td>\n",
       "      <td>NaN</td>\n",
       "      <td>NaN</td>\n",
       "      <td>NaN</td>\n",
       "      <td>NaN</td>\n",
       "      <td>NaN</td>\n",
       "      <td>NaN</td>\n",
       "    </tr>\n",
       "    <tr>\n",
       "      <th>0</th>\n",
       "      <td>15</td>\n",
       "      <td>f52dc435e4458b2119cc4a3278ff7b74</td>\n",
       "      <td>{\"cutoff\": \"quantile_0.1\", \"eval_fairness_grou...</td>\n",
       "      <td>23.193719</td>\n",
       "      <td>89710</td>\n",
       "      <td>1.0</td>\n",
       "      <td>0.092582</td>\n",
       "      <td>0.904000</td>\n",
       "      <td>0.084927</td>\n",
       "      <td>0.912037</td>\n",
       "      <td>...</td>\n",
       "      <td>0.116283</td>\n",
       "      <td>0.140753</td>\n",
       "      <td>0.964396</td>\n",
       "      <td>0.871814</td>\n",
       "      <td>0.026182</td>\n",
       "      <td>0.062035</td>\n",
       "      <td>0.965482</td>\n",
       "      <td>0.880555</td>\n",
       "      <td>20540.0</td>\n",
       "      <td>69170.0</td>\n",
       "    </tr>\n",
       "    <tr>\n",
       "      <th>0</th>\n",
       "      <td>15</td>\n",
       "      <td>f52dc435e4458b2119cc4a3278ff7b74</td>\n",
       "      <td>{\"cutoff\": \"quantile_0.25\", \"eval_fairness_gro...</td>\n",
       "      <td>23.193719</td>\n",
       "      <td>89710</td>\n",
       "      <td>1.0</td>\n",
       "      <td>0.223038</td>\n",
       "      <td>0.754524</td>\n",
       "      <td>0.209199</td>\n",
       "      <td>0.770438</td>\n",
       "      <td>...</td>\n",
       "      <td>NaN</td>\n",
       "      <td>NaN</td>\n",
       "      <td>NaN</td>\n",
       "      <td>NaN</td>\n",
       "      <td>NaN</td>\n",
       "      <td>NaN</td>\n",
       "      <td>NaN</td>\n",
       "      <td>NaN</td>\n",
       "      <td>NaN</td>\n",
       "      <td>NaN</td>\n",
       "    </tr>\n",
       "    <tr>\n",
       "      <th>0</th>\n",
       "      <td>15</td>\n",
       "      <td>f52dc435e4458b2119cc4a3278ff7b74</td>\n",
       "      <td>{\"cutoff\": \"quantile_0.25\", \"eval_fairness_gro...</td>\n",
       "      <td>23.193719</td>\n",
       "      <td>89710</td>\n",
       "      <td>1.0</td>\n",
       "      <td>0.223038</td>\n",
       "      <td>0.754524</td>\n",
       "      <td>0.209199</td>\n",
       "      <td>0.770438</td>\n",
       "      <td>...</td>\n",
       "      <td>0.117908</td>\n",
       "      <td>0.152582</td>\n",
       "      <td>0.908596</td>\n",
       "      <td>0.685557</td>\n",
       "      <td>0.067990</td>\n",
       "      <td>0.189278</td>\n",
       "      <td>0.911295</td>\n",
       "      <td>0.702096</td>\n",
       "      <td>20540.0</td>\n",
       "      <td>69170.0</td>\n",
       "    </tr>\n",
       "  </tbody>\n",
       "</table>\n",
       "<p>4 rows × 50 columns</p>\n",
       "</div>"
      ],
      "text/plain": [
       "  run_no                       universe_id  \\\n",
       "0     15  f52dc435e4458b2119cc4a3278ff7b74   \n",
       "0     15  f52dc435e4458b2119cc4a3278ff7b74   \n",
       "0     15  f52dc435e4458b2119cc4a3278ff7b74   \n",
       "0     15  f52dc435e4458b2119cc4a3278ff7b74   \n",
       "\n",
       "                                   universe_settings  execution_time  \\\n",
       "0  {\"cutoff\": \"quantile_0.1\", \"eval_fairness_grou...       23.193719   \n",
       "0  {\"cutoff\": \"quantile_0.1\", \"eval_fairness_grou...       23.193719   \n",
       "0  {\"cutoff\": \"quantile_0.25\", \"eval_fairness_gro...       23.193719   \n",
       "0  {\"cutoff\": \"quantile_0.25\", \"eval_fairness_gro...       23.193719   \n",
       "\n",
       "   test_size_n  test_size_frac  fair_main_equalized_odds_difference  \\\n",
       "0        89710             1.0                             0.092582   \n",
       "0        89710             1.0                             0.092582   \n",
       "0        89710             1.0                             0.223038   \n",
       "0        89710             1.0                             0.223038   \n",
       "\n",
       "   fair_main_equalized_odds_ratio  fair_main_demographic_parity_difference  \\\n",
       "0                        0.904000                                 0.084927   \n",
       "0                        0.904000                                 0.084927   \n",
       "0                        0.754524                                 0.209199   \n",
       "0                        0.754524                                 0.209199   \n",
       "\n",
       "   fair_main_demographic_parity_ratio  ...  perf_grp_precision_0  \\\n",
       "0                            0.912037  ...                   NaN   \n",
       "0                            0.912037  ...              0.116283   \n",
       "0                            0.770438  ...                   NaN   \n",
       "0                            0.770438  ...              0.117908   \n",
       "\n",
       "   perf_grp_precision_1  perf_grp_false positive rate_0  \\\n",
       "0                   NaN                             NaN   \n",
       "0              0.140753                        0.964396   \n",
       "0                   NaN                             NaN   \n",
       "0              0.152582                        0.908596   \n",
       "\n",
       "   perf_grp_false positive rate_1  perf_grp_false negative rate_0  \\\n",
       "0                             NaN                             NaN   \n",
       "0                        0.871814                        0.026182   \n",
       "0                             NaN                             NaN   \n",
       "0                        0.685557                        0.067990   \n",
       "\n",
       "   perf_grp_false negative rate_1  perf_grp_selection rate_0  \\\n",
       "0                             NaN                        NaN   \n",
       "0                        0.062035                   0.965482   \n",
       "0                             NaN                        NaN   \n",
       "0                        0.189278                   0.911295   \n",
       "\n",
       "   perf_grp_selection rate_1  perf_grp_count_0  perf_grp_count_1  \n",
       "0                        NaN               NaN               NaN  \n",
       "0                   0.880555           20540.0           69170.0  \n",
       "0                        NaN               NaN               NaN  \n",
       "0                   0.702096           20540.0           69170.0  \n",
       "\n",
       "[4 rows x 50 columns]"
      ]
     },
     "execution_count": 66,
     "metadata": {},
     "output_type": "execute_result"
    }
   ],
   "source": [
    "final_output = universe_analysis.generate_final_output(\n",
    "    y_pred_prob=probs_test,\n",
    "    y_test=y_true,\n",
    "    org_test=org_test,\n",
    "    filter_data=filter_sub_universe_data,\n",
    "    cp_metrics_df=cp_metrics_df,\n",
    "    save=True,\n",
    ")\n",
    "final_output"
   ]
  }
 ],
 "metadata": {
  "celltoolbar": "Tags",
  "kernelspec": {
   "display_name": "Python (CMA Fairness)",
   "language": "python",
   "name": "cma_fair_env"
  },
  "language_info": {
   "codemirror_mode": {
    "name": "ipython",
    "version": 3
   },
   "file_extension": ".py",
   "mimetype": "text/x-python",
   "name": "python",
   "nbconvert_exporter": "python",
   "pygments_lexer": "ipython3",
   "version": "3.10.12"
  },
  "papermill": {
   "default_parameters": {},
   "duration": 35.567693,
   "end_time": "2025-08-05T15:47:20.159035",
   "environment_variables": {},
   "exception": null,
   "input_path": "universe_analysis.ipynb",
   "output_path": "output/runs/15/notebooks/m_15-f52dc435e4458b2119cc4a3278ff7b74.ipynb",
   "parameters": {
    "output_dir": "output",
    "run_no": "15",
    "seed": "2023",
    "universe": "{\"cutoff\": [\"quantile_0.1\", \"quantile_0.25\"], \"eval_fairness_grouping\": [\"majority-minority\", \"nationality-all\"], \"exclude_features\": \"sex\", \"exclude_subgroups\": \"drop-non-german\", \"model\": \"elasticnet\", \"scale\": \"do-not-scale\", \"training_size\": \"5k\", \"training_year\": \"2012_14\"}",
    "universe_id": "f52dc435e4458b2119cc4a3278ff7b74"
   },
   "start_time": "2025-08-05T15:46:44.591342",
   "version": "2.6.0"
  }
 },
 "nbformat": 4,
 "nbformat_minor": 5
}