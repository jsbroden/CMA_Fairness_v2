{
 "cells": [
  {
   "cell_type": "code",
   "execution_count": 1,
   "id": "f159f837-637b-42ba-96b5-ec9a68c44524",
   "metadata": {
    "execution": {
     "iopub.execute_input": "2025-08-05T15:24:57.356365Z",
     "iopub.status.busy": "2025-08-05T15:24:57.355519Z",
     "iopub.status.idle": "2025-08-05T15:24:57.367725Z",
     "shell.execute_reply": "2025-08-05T15:24:57.366735Z"
    },
    "papermill": {
     "duration": 0.031949,
     "end_time": "2025-08-05T15:24:57.369824",
     "exception": false,
     "start_time": "2025-08-05T15:24:57.337875",
     "status": "completed"
    },
    "tags": []
   },
   "outputs": [
    {
     "name": "stdout",
     "output_type": "stream",
     "text": [
      "/dss/dsshome1/0C/ra93lal2/cma/CMA_Fairness_v2\n"
     ]
    },
    {
     "name": "stderr",
     "output_type": "stream",
     "text": [
      "/dss/dsshome1/0C/ra93lal2/.local/share/virtualenvs/CMA_Fairness_v2-3j10GkSs/lib/python3.10/site-packages/IPython/core/magics/osm.py:393: UserWarning: This is now an optional IPython functionality, using bookmarks requires you to install the `pickleshare` library.\n",
      "  bkms = self.shell.db.get('bookmarks', {})\n",
      "/dss/dsshome1/0C/ra93lal2/.local/share/virtualenvs/CMA_Fairness_v2-3j10GkSs/lib/python3.10/site-packages/IPython/core/magics/osm.py:417: UserWarning: This is now an optional IPython functionality, setting dhist requires you to install the `pickleshare` library.\n",
      "  self.shell.db['dhist'] = compress_dhist(dhist)[-100:]\n"
     ]
    }
   ],
   "source": [
    "%cd ~/cma/CMA_Fairness_v2"
   ]
  },
  {
   "cell_type": "markdown",
   "id": "de2603b9",
   "metadata": {
    "papermill": {
     "duration": 0.015981,
     "end_time": "2025-08-05T15:24:57.403247",
     "exception": false,
     "start_time": "2025-08-05T15:24:57.387266",
     "status": "completed"
    },
    "tags": []
   },
   "source": [
    "The following cell holds the definition of our parameters, these values can be overriden by rendering the with e.g. the following command:\n",
    "\n",
    "papermill -p alpha 0.2 -p ratio 0.3 universe_analysis.ipynb output/test_run.ipynb"
   ]
  },
  {
   "cell_type": "code",
   "execution_count": 2,
   "id": "a80968a0-40bb-4fa9-85ef-2d5eefb01975",
   "metadata": {
    "execution": {
     "iopub.execute_input": "2025-08-05T15:24:57.435430Z",
     "iopub.status.busy": "2025-08-05T15:24:57.434804Z",
     "iopub.status.idle": "2025-08-05T15:24:57.440788Z",
     "shell.execute_reply": "2025-08-05T15:24:57.439643Z"
    },
    "papermill": {
     "duration": 0.024748,
     "end_time": "2025-08-05T15:24:57.442843",
     "exception": false,
     "start_time": "2025-08-05T15:24:57.418095",
     "status": "completed"
    },
    "tags": []
   },
   "outputs": [
    {
     "name": "stdout",
     "output_type": "stream",
     "text": [
      "Current working directory: /dss/dsshome1/0C/ra93lal2/cma/CMA_Fairness_v2\n"
     ]
    }
   ],
   "source": [
    "import os\n",
    "print(\"Current working directory:\", os.getcwd())"
   ]
  },
  {
   "cell_type": "code",
   "execution_count": 3,
   "id": "2dce4c03",
   "metadata": {
    "execution": {
     "iopub.execute_input": "2025-08-05T15:24:57.478139Z",
     "iopub.status.busy": "2025-08-05T15:24:57.477333Z",
     "iopub.status.idle": "2025-08-05T15:24:57.483639Z",
     "shell.execute_reply": "2025-08-05T15:24:57.482723Z"
    },
    "papermill": {
     "duration": 0.02528,
     "end_time": "2025-08-05T15:24:57.485550",
     "exception": false,
     "start_time": "2025-08-05T15:24:57.460270",
     "status": "completed"
    },
    "tags": [
     "parameters"
    ]
   },
   "outputs": [],
   "source": [
    "run_no = 0\n",
    "universe_id = \"test\"\n",
    "universe = {\n",
    "    \"training_size\": \"25k\", # \"25k\", \"5k\", \"1k\"\n",
    "    \"training_year\": \"2014\", # \"2014\", \"2012_14\", \"2010_14\"\n",
    "    \"scale\": \"scale\", # \"scale\", \"do-not-scale\",\n",
    "    \"model\": \"elasticnet\", # \"logreg\", \"penalized_logreg\", \"rf\", \"gbm\", \"elasticnet\"\n",
    "    \"cutoff\": [\"quantile_0.15\", \"quantile_0.30\"],\n",
    "    \"exclude_features\": \"age\", # \"none\", \"nationality\", \"sex\", \"nationality-sex\", \"age\"\n",
    "    \"exclude_subgroups\": \"keep-all\", # \"keep-all\", \"drop-non-german\"\n",
    "    \"eval_fairness_grouping\": [\"majority-minority\", \"nationality-all\"]\n",
    "}\n",
    "\n",
    "output_dir=\"./output\"\n",
    "seed=0"
   ]
  },
  {
   "cell_type": "code",
   "execution_count": 4,
   "id": "69b3d97f",
   "metadata": {
    "execution": {
     "iopub.execute_input": "2025-08-05T15:24:57.520699Z",
     "iopub.status.busy": "2025-08-05T15:24:57.520327Z",
     "iopub.status.idle": "2025-08-05T15:24:57.525535Z",
     "shell.execute_reply": "2025-08-05T15:24:57.524459Z"
    },
    "papermill": {
     "duration": 0.024613,
     "end_time": "2025-08-05T15:24:57.527268",
     "exception": false,
     "start_time": "2025-08-05T15:24:57.502655",
     "status": "completed"
    },
    "tags": [
     "injected-parameters"
    ]
   },
   "outputs": [],
   "source": [
    "# Parameters\n",
    "universe_id = \"3c9743cf38e93c1900e102acc50d0ebf\"\n",
    "run_no = \"15\"\n",
    "universe = \"{\\\"cutoff\\\": [\\\"quantile_0.1\\\", \\\"quantile_0.25\\\"], \\\"eval_fairness_grouping\\\": [\\\"majority-minority\\\", \\\"nationality-all\\\"], \\\"exclude_features\\\": \\\"sex\\\", \\\"exclude_subgroups\\\": \\\"keep-all\\\", \\\"model\\\": \\\"gbm\\\", \\\"scale\\\": \\\"scale\\\", \\\"training_size\\\": \\\"5k\\\", \\\"training_year\\\": \\\"2014\\\"}\"\n",
    "output_dir = \"output\"\n",
    "seed = \"2023\"\n"
   ]
  },
  {
   "cell_type": "code",
   "execution_count": 5,
   "id": "1650acaf",
   "metadata": {
    "execution": {
     "iopub.execute_input": "2025-08-05T15:24:57.560550Z",
     "iopub.status.busy": "2025-08-05T15:24:57.559820Z",
     "iopub.status.idle": "2025-08-05T15:24:57.564606Z",
     "shell.execute_reply": "2025-08-05T15:24:57.563650Z"
    },
    "papermill": {
     "duration": 0.022627,
     "end_time": "2025-08-05T15:24:57.566554",
     "exception": false,
     "start_time": "2025-08-05T15:24:57.543927",
     "status": "completed"
    },
    "tags": []
   },
   "outputs": [],
   "source": [
    "import json\n",
    "if isinstance(universe, str):\n",
    "    universe = json.loads(universe)"
   ]
  },
  {
   "cell_type": "code",
   "execution_count": 6,
   "id": "16620c48",
   "metadata": {
    "execution": {
     "iopub.execute_input": "2025-08-05T15:24:57.599211Z",
     "iopub.status.busy": "2025-08-05T15:24:57.598532Z",
     "iopub.status.idle": "2025-08-05T15:24:57.643958Z",
     "shell.execute_reply": "2025-08-05T15:24:57.643044Z"
    },
    "papermill": {
     "duration": 0.0632,
     "end_time": "2025-08-05T15:24:57.645713",
     "exception": false,
     "start_time": "2025-08-05T15:24:57.582513",
     "status": "completed"
    },
    "tags": []
   },
   "outputs": [],
   "source": [
    "# Auto-reload the custom package\n",
    "%load_ext autoreload\n",
    "%autoreload 1\n",
    "%aimport fairness_multiverse"
   ]
  },
  {
   "cell_type": "code",
   "execution_count": 7,
   "id": "01c5c9f3",
   "metadata": {
    "execution": {
     "iopub.execute_input": "2025-08-05T15:24:57.679644Z",
     "iopub.status.busy": "2025-08-05T15:24:57.678742Z",
     "iopub.status.idle": "2025-08-05T15:24:59.821113Z",
     "shell.execute_reply": "2025-08-05T15:24:59.819969Z"
    },
    "papermill": {
     "duration": 2.160724,
     "end_time": "2025-08-05T15:24:59.823092",
     "exception": false,
     "start_time": "2025-08-05T15:24:57.662368",
     "status": "completed"
    },
    "tags": []
   },
   "outputs": [],
   "source": [
    "from fairness_multiverse.universe import UniverseAnalysis\n",
    "\n",
    "universe_analysis = UniverseAnalysis(\n",
    "    run_no = run_no,\n",
    "    universe_id = universe_id,\n",
    "    universe = universe,\n",
    "    output_dir=output_dir,\n",
    ")"
   ]
  },
  {
   "cell_type": "code",
   "execution_count": 8,
   "id": "106241f5",
   "metadata": {
    "execution": {
     "iopub.execute_input": "2025-08-05T15:24:59.860688Z",
     "iopub.status.busy": "2025-08-05T15:24:59.859746Z",
     "iopub.status.idle": "2025-08-05T15:24:59.866433Z",
     "shell.execute_reply": "2025-08-05T15:24:59.865363Z"
    },
    "papermill": {
     "duration": 0.027537,
     "end_time": "2025-08-05T15:24:59.869035",
     "exception": false,
     "start_time": "2025-08-05T15:24:59.841498",
     "status": "completed"
    },
    "tags": []
   },
   "outputs": [
    {
     "name": "stdout",
     "output_type": "stream",
     "text": [
      "Using Seed: 2023\n"
     ]
    }
   ],
   "source": [
    "import numpy as np\n",
    "parsed_seed = int(seed)\n",
    "np.random.seed(parsed_seed)\n",
    "print(f\"Using Seed: {parsed_seed}\")"
   ]
  },
  {
   "cell_type": "markdown",
   "id": "e0ebdc57",
   "metadata": {
    "papermill": {
     "duration": 0.024458,
     "end_time": "2025-08-05T15:24:59.918974",
     "exception": false,
     "start_time": "2025-08-05T15:24:59.894516",
     "status": "completed"
    },
    "tags": []
   },
   "source": [
    "# Loading Data"
   ]
  },
  {
   "cell_type": "code",
   "execution_count": 9,
   "id": "f0496b8a",
   "metadata": {
    "execution": {
     "iopub.execute_input": "2025-08-05T15:24:59.968984Z",
     "iopub.status.busy": "2025-08-05T15:24:59.968213Z",
     "iopub.status.idle": "2025-08-05T15:25:10.492194Z",
     "shell.execute_reply": "2025-08-05T15:25:10.490960Z"
    },
    "papermill": {
     "duration": 10.551257,
     "end_time": "2025-08-05T15:25:10.494379",
     "exception": false,
     "start_time": "2025-08-05T15:24:59.943122",
     "status": "completed"
    },
    "tags": []
   },
   "outputs": [
    {
     "name": "stdout",
     "output_type": "stream",
     "text": [
      "Loading SIAB data from cache: data/siab_cached.csv.gz\n"
     ]
    },
    {
     "name": "stdout",
     "output_type": "stream",
     "text": [
      "(643690, 164)\n"
     ]
    }
   ],
   "source": [
    "from pathlib import Path\n",
    "import pandas as pd\n",
    "\n",
    "# File paths\n",
    "raw_file = Path(\"data/raw/siab.csv\")\n",
    "cache_file = Path(\"data/siab_cached.csv.gz\")\n",
    "\n",
    "# Ensure cache directory exists\n",
    "cache_file.parent.mkdir(parents=True, exist_ok=True)\n",
    "\n",
    "# Load with simple caching\n",
    "if cache_file.exists():\n",
    "    print(f\"Loading SIAB data from cache: {cache_file}\")\n",
    "    siab = pd.read_csv(cache_file, compression='gzip')\n",
    "else:\n",
    "    print(f\"Cache not found. Reading raw SIAB data: {raw_file}\")\n",
    "    siab = pd.read_csv(raw_file)\n",
    "    siab.to_csv(cache_file, index=False, compression='gzip')\n",
    "    print(f\"Cached SIAB data to: {cache_file}\")\n",
    "\n",
    "print(siab.shape)"
   ]
  },
  {
   "cell_type": "code",
   "execution_count": 10,
   "id": "db0ca512-5f53-4dba-abdb-a2888bca41ba",
   "metadata": {
    "execution": {
     "iopub.execute_input": "2025-08-05T15:25:10.538197Z",
     "iopub.status.busy": "2025-08-05T15:25:10.537222Z",
     "iopub.status.idle": "2025-08-05T15:25:10.543721Z",
     "shell.execute_reply": "2025-08-05T15:25:10.542668Z"
    },
    "papermill": {
     "duration": 0.028694,
     "end_time": "2025-08-05T15:25:10.545685",
     "exception": false,
     "start_time": "2025-08-05T15:25:10.516991",
     "status": "completed"
    },
    "tags": []
   },
   "outputs": [],
   "source": [
    "#siab"
   ]
  },
  {
   "cell_type": "markdown",
   "id": "997051c5-15bd-4b69-9786-c3001a3ce484",
   "metadata": {
    "papermill": {
     "duration": 0.016781,
     "end_time": "2025-08-05T15:25:10.581030",
     "exception": false,
     "start_time": "2025-08-05T15:25:10.564249",
     "status": "completed"
    },
    "tags": []
   },
   "source": [
    "# Splitting Data and Setting Training Data Size"
   ]
  },
  {
   "cell_type": "code",
   "execution_count": 11,
   "id": "aea9c6ef-6f46-42c8-85eb-5a62025c1508",
   "metadata": {
    "execution": {
     "iopub.execute_input": "2025-08-05T15:25:10.616754Z",
     "iopub.status.busy": "2025-08-05T15:25:10.616073Z",
     "iopub.status.idle": "2025-08-05T15:25:10.853870Z",
     "shell.execute_reply": "2025-08-05T15:25:10.852905Z"
    },
    "papermill": {
     "duration": 0.258619,
     "end_time": "2025-08-05T15:25:10.855864",
     "exception": false,
     "start_time": "2025-08-05T15:25:10.597245",
     "status": "completed"
    },
    "tags": []
   },
   "outputs": [],
   "source": [
    "from fairness_multiverse.universe import sample_by_year_size\n",
    "\n",
    "siab_train = sample_by_year_size(siab,\n",
    "                               training_year=universe[\"training_year\"],\n",
    "                               training_size=universe[\"training_size\"])"
   ]
  },
  {
   "cell_type": "code",
   "execution_count": 12,
   "id": "8d3afb32-789d-442c-8d5d-9f5aa8dd2eed",
   "metadata": {
    "execution": {
     "iopub.execute_input": "2025-08-05T15:25:10.892324Z",
     "iopub.status.busy": "2025-08-05T15:25:10.891644Z",
     "iopub.status.idle": "2025-08-05T15:25:10.897113Z",
     "shell.execute_reply": "2025-08-05T15:25:10.896046Z"
    },
    "papermill": {
     "duration": 0.026121,
     "end_time": "2025-08-05T15:25:10.899102",
     "exception": false,
     "start_time": "2025-08-05T15:25:10.872981",
     "status": "completed"
    },
    "tags": []
   },
   "outputs": [],
   "source": [
    "#siab_train.shape"
   ]
  },
  {
   "cell_type": "code",
   "execution_count": 13,
   "id": "d582db68-1a4c-47fb-84fc-08518dc1975a",
   "metadata": {
    "execution": {
     "iopub.execute_input": "2025-08-05T15:25:10.936479Z",
     "iopub.status.busy": "2025-08-05T15:25:10.935987Z",
     "iopub.status.idle": "2025-08-05T15:25:10.942113Z",
     "shell.execute_reply": "2025-08-05T15:25:10.940883Z"
    },
    "papermill": {
     "duration": 0.02688,
     "end_time": "2025-08-05T15:25:10.944691",
     "exception": false,
     "start_time": "2025-08-05T15:25:10.917811",
     "status": "completed"
    },
    "tags": []
   },
   "outputs": [],
   "source": [
    "#display(siab_train.groupby(\"year\").size())"
   ]
  },
  {
   "cell_type": "code",
   "execution_count": 14,
   "id": "a561edb4-d032-42cb-8256-22eac1111c64",
   "metadata": {
    "execution": {
     "iopub.execute_input": "2025-08-05T15:25:10.987059Z",
     "iopub.status.busy": "2025-08-05T15:25:10.986593Z",
     "iopub.status.idle": "2025-08-05T15:25:11.229683Z",
     "shell.execute_reply": "2025-08-05T15:25:11.228676Z"
    },
    "papermill": {
     "duration": 0.266423,
     "end_time": "2025-08-05T15:25:11.231823",
     "exception": false,
     "start_time": "2025-08-05T15:25:10.965400",
     "status": "completed"
    },
    "tags": []
   },
   "outputs": [],
   "source": [
    "#siab_train = siab_s[siab_s.year < 2015]\n",
    "siab_calib = siab[siab.year == 2015]\n",
    "siab_test = siab[siab.year == 2016]"
   ]
  },
  {
   "cell_type": "code",
   "execution_count": 15,
   "id": "472de16f-c3db-4916-846b-1f0de9cf1746",
   "metadata": {
    "execution": {
     "iopub.execute_input": "2025-08-05T15:25:11.275166Z",
     "iopub.status.busy": "2025-08-05T15:25:11.274391Z",
     "iopub.status.idle": "2025-08-05T15:25:11.283322Z",
     "shell.execute_reply": "2025-08-05T15:25:11.282242Z"
    },
    "papermill": {
     "duration": 0.031935,
     "end_time": "2025-08-05T15:25:11.285091",
     "exception": false,
     "start_time": "2025-08-05T15:25:11.253156",
     "status": "completed"
    },
    "tags": []
   },
   "outputs": [],
   "source": [
    "X_train = siab_train.iloc[:,4:164]\n",
    "y_train = siab_train.iloc[:, [3]]"
   ]
  },
  {
   "cell_type": "code",
   "execution_count": 16,
   "id": "828c96af-f43a-4ed6-ba47-8ac73a47d56c",
   "metadata": {
    "execution": {
     "iopub.execute_input": "2025-08-05T15:25:11.329188Z",
     "iopub.status.busy": "2025-08-05T15:25:11.328268Z",
     "iopub.status.idle": "2025-08-05T15:25:11.380569Z",
     "shell.execute_reply": "2025-08-05T15:25:11.379414Z"
    },
    "papermill": {
     "duration": 0.076405,
     "end_time": "2025-08-05T15:25:11.382693",
     "exception": false,
     "start_time": "2025-08-05T15:25:11.306288",
     "status": "completed"
    },
    "tags": []
   },
   "outputs": [],
   "source": [
    "X_calib = siab_calib.iloc[:,4:164]\n",
    "y_calib = siab_calib.iloc[:, [3]]"
   ]
  },
  {
   "cell_type": "code",
   "execution_count": 17,
   "id": "c34be9c3-6bd6-476e-acd3-845840e303be",
   "metadata": {
    "execution": {
     "iopub.execute_input": "2025-08-05T15:25:11.425583Z",
     "iopub.status.busy": "2025-08-05T15:25:11.425058Z",
     "iopub.status.idle": "2025-08-05T15:25:11.480367Z",
     "shell.execute_reply": "2025-08-05T15:25:11.479027Z"
    },
    "papermill": {
     "duration": 0.077914,
     "end_time": "2025-08-05T15:25:11.482432",
     "exception": false,
     "start_time": "2025-08-05T15:25:11.404518",
     "status": "completed"
    },
    "tags": []
   },
   "outputs": [],
   "source": [
    "X_test = siab_test.iloc[:,4:164]\n",
    "y_true = siab_test.iloc[:, [3]]"
   ]
  },
  {
   "cell_type": "code",
   "execution_count": 18,
   "id": "e6c733c5",
   "metadata": {
    "execution": {
     "iopub.execute_input": "2025-08-05T15:25:11.528301Z",
     "iopub.status.busy": "2025-08-05T15:25:11.527371Z",
     "iopub.status.idle": "2025-08-05T15:25:11.629426Z",
     "shell.execute_reply": "2025-08-05T15:25:11.628357Z"
    },
    "papermill": {
     "duration": 0.127028,
     "end_time": "2025-08-05T15:25:11.631405",
     "exception": false,
     "start_time": "2025-08-05T15:25:11.504377",
     "status": "completed"
    },
    "tags": []
   },
   "outputs": [],
   "source": [
    "# Auxiliary data needed downstream in the pipeline\n",
    "\n",
    "org_train = X_train.copy()\n",
    "org_test = X_test.copy()\n",
    "org_calib = X_calib.copy()"
   ]
  },
  {
   "cell_type": "markdown",
   "id": "0a4a1b33",
   "metadata": {
    "papermill": {
     "duration": 0.021879,
     "end_time": "2025-08-05T15:25:11.674172",
     "exception": false,
     "start_time": "2025-08-05T15:25:11.652293",
     "status": "completed"
    },
    "tags": []
   },
   "source": [
    "# Preprocessing Data"
   ]
  },
  {
   "cell_type": "code",
   "execution_count": 19,
   "id": "ca879031",
   "metadata": {
    "execution": {
     "iopub.execute_input": "2025-08-05T15:25:11.716217Z",
     "iopub.status.busy": "2025-08-05T15:25:11.715301Z",
     "iopub.status.idle": "2025-08-05T15:25:11.721712Z",
     "shell.execute_reply": "2025-08-05T15:25:11.720680Z"
    },
    "papermill": {
     "duration": 0.029086,
     "end_time": "2025-08-05T15:25:11.723687",
     "exception": false,
     "start_time": "2025-08-05T15:25:11.694601",
     "status": "completed"
    },
    "tags": []
   },
   "outputs": [],
   "source": [
    "# EXCLUDE PROTECTED FEATURES\n",
    "# ----------------------\n",
    "# \"exclude_features\": \"none\", # \"nationality\", \"sex\", \"nationality-sex\"\n",
    "\n",
    "excluded_features = universe[\"exclude_features\"].split(\"-\") # split, e.g.: \"nationality-sex\" -> [\"nationality\", \"sex\"]\n",
    "excluded_features_dictionary = {\n",
    "    \"nationality\": [\"maxdeutsch1\", \"maxdeutsch.Missing.\"],\n",
    "    \"sex\": [\"frau1\"],\n",
    "    \"age\": [\"age\"],\n",
    "}"
   ]
  },
  {
   "cell_type": "code",
   "execution_count": 20,
   "id": "b745ac60",
   "metadata": {
    "execution": {
     "iopub.execute_input": "2025-08-05T15:25:11.764339Z",
     "iopub.status.busy": "2025-08-05T15:25:11.763537Z",
     "iopub.status.idle": "2025-08-05T15:25:11.769408Z",
     "shell.execute_reply": "2025-08-05T15:25:11.768379Z"
    },
    "papermill": {
     "duration": 0.02869,
     "end_time": "2025-08-05T15:25:11.771230",
     "exception": false,
     "start_time": "2025-08-05T15:25:11.742540",
     "status": "completed"
    },
    "tags": []
   },
   "outputs": [],
   "source": [
    "# Code nice names to column names\n",
    "\n",
    "excluded_features_columns = [\n",
    "    excluded_features_dictionary[f] for f in excluded_features if len(f) > 0 and f != \"none\"\n",
    "]"
   ]
  },
  {
   "cell_type": "code",
   "execution_count": 21,
   "id": "f84f73a2",
   "metadata": {
    "execution": {
     "iopub.execute_input": "2025-08-05T15:25:11.808758Z",
     "iopub.status.busy": "2025-08-05T15:25:11.807921Z",
     "iopub.status.idle": "2025-08-05T15:25:11.814620Z",
     "shell.execute_reply": "2025-08-05T15:25:11.813439Z"
    },
    "papermill": {
     "duration": 0.026673,
     "end_time": "2025-08-05T15:25:11.816530",
     "exception": false,
     "start_time": "2025-08-05T15:25:11.789857",
     "status": "completed"
    },
    "tags": []
   },
   "outputs": [],
   "source": [
    "from utils import flatten_once\n",
    "\n",
    "excluded_features_columns = flatten_once(excluded_features_columns)"
   ]
  },
  {
   "cell_type": "code",
   "execution_count": 22,
   "id": "884dea22",
   "metadata": {
    "execution": {
     "iopub.execute_input": "2025-08-05T15:25:11.854999Z",
     "iopub.status.busy": "2025-08-05T15:25:11.854195Z",
     "iopub.status.idle": "2025-08-05T15:25:11.866015Z",
     "shell.execute_reply": "2025-08-05T15:25:11.864665Z"
    },
    "papermill": {
     "duration": 0.03226,
     "end_time": "2025-08-05T15:25:11.867980",
     "exception": false,
     "start_time": "2025-08-05T15:25:11.835720",
     "status": "completed"
    },
    "tags": []
   },
   "outputs": [
    {
     "name": "stdout",
     "output_type": "stream",
     "text": [
      "Dropping features: ['frau1']\n"
     ]
    }
   ],
   "source": [
    "if len(excluded_features_columns) > 0:\n",
    "    print(f\"Dropping features: {excluded_features_columns}\")\n",
    "    X_train.drop(excluded_features_columns, axis=1, inplace=True)"
   ]
  },
  {
   "cell_type": "code",
   "execution_count": 23,
   "id": "95ab8b16",
   "metadata": {
    "execution": {
     "iopub.execute_input": "2025-08-05T15:25:11.907982Z",
     "iopub.status.busy": "2025-08-05T15:25:11.907157Z",
     "iopub.status.idle": "2025-08-05T15:25:11.968606Z",
     "shell.execute_reply": "2025-08-05T15:25:11.967655Z"
    },
    "papermill": {
     "duration": 0.082898,
     "end_time": "2025-08-05T15:25:11.970485",
     "exception": false,
     "start_time": "2025-08-05T15:25:11.887587",
     "status": "completed"
    },
    "tags": []
   },
   "outputs": [
    {
     "name": "stdout",
     "output_type": "stream",
     "text": [
      "Dropping features: ['frau1']\n"
     ]
    }
   ],
   "source": [
    "if len(excluded_features_columns) > 0:\n",
    "    print(f\"Dropping features: {excluded_features_columns}\")\n",
    "    X_test.drop(excluded_features_columns, axis=1, inplace=True)"
   ]
  },
  {
   "cell_type": "code",
   "execution_count": 24,
   "id": "1853aaf5-fb9f-46cb-a2b5-8ea4ae2237e4",
   "metadata": {
    "execution": {
     "iopub.execute_input": "2025-08-05T15:25:12.010250Z",
     "iopub.status.busy": "2025-08-05T15:25:12.009388Z",
     "iopub.status.idle": "2025-08-05T15:25:12.047106Z",
     "shell.execute_reply": "2025-08-05T15:25:12.045892Z"
    },
    "papermill": {
     "duration": 0.05903,
     "end_time": "2025-08-05T15:25:12.049164",
     "exception": false,
     "start_time": "2025-08-05T15:25:11.990134",
     "status": "completed"
    },
    "tags": []
   },
   "outputs": [
    {
     "name": "stdout",
     "output_type": "stream",
     "text": [
      "Dropping features: ['frau1']\n"
     ]
    }
   ],
   "source": [
    "if len(excluded_features_columns) > 0:\n",
    "    print(f\"Dropping features: {excluded_features_columns}\")\n",
    "    X_calib.drop(excluded_features_columns, axis=1, inplace=True)"
   ]
  },
  {
   "cell_type": "code",
   "execution_count": 25,
   "id": "76c4dc6d",
   "metadata": {
    "execution": {
     "iopub.execute_input": "2025-08-05T15:25:12.092140Z",
     "iopub.status.busy": "2025-08-05T15:25:12.091333Z",
     "iopub.status.idle": "2025-08-05T15:25:12.096847Z",
     "shell.execute_reply": "2025-08-05T15:25:12.095761Z"
    },
    "papermill": {
     "duration": 0.026982,
     "end_time": "2025-08-05T15:25:12.098737",
     "exception": false,
     "start_time": "2025-08-05T15:25:12.071755",
     "status": "completed"
    },
    "tags": []
   },
   "outputs": [],
   "source": [
    "# EXCLUDE CERTAIN SUBGROUPS\n",
    "# ----------------------\n",
    "\n",
    "mode = universe.get(\"exclude_subgroups\", \"keep-all\") \n",
    "# Fetches the exclude_subgroups setting from the universe dict.\n",
    "# Defaults to \"keep-all\" if the key is missing."
   ]
  },
  {
   "cell_type": "code",
   "execution_count": 26,
   "id": "21994072",
   "metadata": {
    "execution": {
     "iopub.execute_input": "2025-08-05T15:25:12.139212Z",
     "iopub.status.busy": "2025-08-05T15:25:12.138602Z",
     "iopub.status.idle": "2025-08-05T15:25:12.145422Z",
     "shell.execute_reply": "2025-08-05T15:25:12.144431Z"
    },
    "papermill": {
     "duration": 0.028004,
     "end_time": "2025-08-05T15:25:12.147252",
     "exception": false,
     "start_time": "2025-08-05T15:25:12.119248",
     "status": "completed"
    },
    "tags": []
   },
   "outputs": [],
   "source": [
    "if mode == \"keep-all\":\n",
    "    keep_mask = pd.Series(True, index=org_train.index)\n",
    "\n",
    "# org_train contains the original feature columns from features_org (in Simson)\n",
    "# features_org contains unprocessed features, for me X_train at beginning ???\n",
    "# For keep-all, creates a boolean Series (keep_mask) of all True, so no rows are removed.\n",
    "\n",
    "elif mode == \"drop-non-german\":\n",
    "    keep_mask = org_train[\"maxdeutsch1\"] == 1 # ??? what about missing values?\n",
    "\n",
    "else:\n",
    "    raise ValueError(f\"Unsupported mode for exclude_subgroups: {mode}\")"
   ]
  },
  {
   "cell_type": "code",
   "execution_count": 27,
   "id": "71651440",
   "metadata": {
    "execution": {
     "iopub.execute_input": "2025-08-05T15:25:12.188655Z",
     "iopub.status.busy": "2025-08-05T15:25:12.188048Z",
     "iopub.status.idle": "2025-08-05T15:25:12.194725Z",
     "shell.execute_reply": "2025-08-05T15:25:12.193830Z"
    },
    "papermill": {
     "duration": 0.028427,
     "end_time": "2025-08-05T15:25:12.196585",
     "exception": false,
     "start_time": "2025-08-05T15:25:12.168158",
     "status": "completed"
    },
    "tags": []
   },
   "outputs": [],
   "source": [
    "n_drop = (~keep_mask).sum() # Calculates how many rows are set to be dropped\n",
    "if n_drop > 0:\n",
    "    pct = n_drop / len(keep_mask) * 100\n",
    "    print(f\"Dropping {n_drop} rows ({pct:.2f}%) where mode='{mode}'\")"
   ]
  },
  {
   "cell_type": "code",
   "execution_count": 28,
   "id": "5fb8eee5",
   "metadata": {
    "execution": {
     "iopub.execute_input": "2025-08-05T15:25:12.236643Z",
     "iopub.status.busy": "2025-08-05T15:25:12.235805Z",
     "iopub.status.idle": "2025-08-05T15:25:12.243671Z",
     "shell.execute_reply": "2025-08-05T15:25:12.242744Z"
    },
    "papermill": {
     "duration": 0.029346,
     "end_time": "2025-08-05T15:25:12.245162",
     "exception": false,
     "start_time": "2025-08-05T15:25:12.215816",
     "status": "completed"
    },
    "tags": []
   },
   "outputs": [],
   "source": [
    "X_train = X_train[keep_mask]"
   ]
  },
  {
   "cell_type": "code",
   "execution_count": 29,
   "id": "b202bb3a",
   "metadata": {
    "execution": {
     "iopub.execute_input": "2025-08-05T15:25:12.285008Z",
     "iopub.status.busy": "2025-08-05T15:25:12.284459Z",
     "iopub.status.idle": "2025-08-05T15:25:12.291096Z",
     "shell.execute_reply": "2025-08-05T15:25:12.290041Z"
    },
    "papermill": {
     "duration": 0.02946,
     "end_time": "2025-08-05T15:25:12.292983",
     "exception": false,
     "start_time": "2025-08-05T15:25:12.263523",
     "status": "completed"
    },
    "tags": []
   },
   "outputs": [],
   "source": [
    "y_train = y_train[keep_mask]"
   ]
  },
  {
   "cell_type": "markdown",
   "id": "493e2ac3",
   "metadata": {
    "papermill": {
     "duration": 0.019565,
     "end_time": "2025-08-05T15:25:12.332389",
     "exception": false,
     "start_time": "2025-08-05T15:25:12.312824",
     "status": "completed"
    },
    "tags": []
   },
   "source": [
    "# Model Training"
   ]
  },
  {
   "cell_type": "code",
   "execution_count": 30,
   "id": "679e1268",
   "metadata": {
    "execution": {
     "iopub.execute_input": "2025-08-05T15:25:12.371268Z",
     "iopub.status.busy": "2025-08-05T15:25:12.370403Z",
     "iopub.status.idle": "2025-08-05T15:25:12.474032Z",
     "shell.execute_reply": "2025-08-05T15:25:12.473008Z"
    },
    "papermill": {
     "duration": 0.124699,
     "end_time": "2025-08-05T15:25:12.475998",
     "exception": false,
     "start_time": "2025-08-05T15:25:12.351299",
     "status": "completed"
    },
    "tags": []
   },
   "outputs": [],
   "source": [
    "from sklearn.linear_model import LogisticRegression\n",
    "from sklearn.ensemble import GradientBoostingClassifier, RandomForestClassifier\n",
    "\n",
    "if (universe[\"model\"] == \"logreg\"):\n",
    "    model = LogisticRegression() #penalty=\"none\", solver=\"newton-cg\", max_iter=1) # include random_state=19 ?\n",
    "elif (universe[\"model\"] == \"penalized_logreg\"):\n",
    "    model = LogisticRegression(penalty=\"l2\", C=0.1) #, solver=\"newton-cg\", max_iter=1)\n",
    "elif (universe[\"model\"] == \"rf\"):\n",
    "    model = RandomForestClassifier() # n_estimators=100, n_jobs=-1\n",
    "elif (universe[\"model\"] == \"gbm\"):\n",
    "    model = GradientBoostingClassifier()\n",
    "elif (universe[\"model\"] == \"elasticnet\"):\n",
    "    model = LogisticRegression(penalty = 'elasticnet', solver = 'saga', l1_ratio = 0.5) # max_iter=5000\n",
    "else:\n",
    "    raise \"Unsupported universe.model\""
   ]
  },
  {
   "cell_type": "code",
   "execution_count": 31,
   "id": "0cc8f744",
   "metadata": {
    "execution": {
     "iopub.execute_input": "2025-08-05T15:25:12.515961Z",
     "iopub.status.busy": "2025-08-05T15:25:12.515185Z",
     "iopub.status.idle": "2025-08-05T15:25:12.522084Z",
     "shell.execute_reply": "2025-08-05T15:25:12.521088Z"
    },
    "papermill": {
     "duration": 0.028441,
     "end_time": "2025-08-05T15:25:12.524214",
     "exception": false,
     "start_time": "2025-08-05T15:25:12.495773",
     "status": "completed"
    },
    "tags": []
   },
   "outputs": [],
   "source": [
    "import numpy as np\n",
    "from sklearn.pipeline import Pipeline\n",
    "from sklearn.preprocessing import StandardScaler\n",
    "\n",
    "model = Pipeline([\n",
    "    #(\"continuous_processor\", continuous_processor),\n",
    "    #(\"categorical_preprocessor\", categorical_preprocessor),\n",
    "    (\"scale\", StandardScaler() if universe[\"scale\"] == \"scale\" else None), \n",
    "    (\"model\", model),\n",
    "])"
   ]
  },
  {
   "cell_type": "code",
   "execution_count": 32,
   "id": "9442c04d",
   "metadata": {
    "execution": {
     "iopub.execute_input": "2025-08-05T15:25:12.565506Z",
     "iopub.status.busy": "2025-08-05T15:25:12.564895Z",
     "iopub.status.idle": "2025-08-05T15:25:17.871757Z",
     "shell.execute_reply": "2025-08-05T15:25:17.870811Z"
    },
    "papermill": {
     "duration": 5.328008,
     "end_time": "2025-08-05T15:25:17.873505",
     "exception": false,
     "start_time": "2025-08-05T15:25:12.545497",
     "status": "completed"
    },
    "tags": []
   },
   "outputs": [
    {
     "data": {
      "text/html": [
       "<style>#sk-container-id-1 {color: black;background-color: white;}#sk-container-id-1 pre{padding: 0;}#sk-container-id-1 div.sk-toggleable {background-color: white;}#sk-container-id-1 label.sk-toggleable__label {cursor: pointer;display: block;width: 100%;margin-bottom: 0;padding: 0.3em;box-sizing: border-box;text-align: center;}#sk-container-id-1 label.sk-toggleable__label-arrow:before {content: \"▸\";float: left;margin-right: 0.25em;color: #696969;}#sk-container-id-1 label.sk-toggleable__label-arrow:hover:before {color: black;}#sk-container-id-1 div.sk-estimator:hover label.sk-toggleable__label-arrow:before {color: black;}#sk-container-id-1 div.sk-toggleable__content {max-height: 0;max-width: 0;overflow: hidden;text-align: left;background-color: #f0f8ff;}#sk-container-id-1 div.sk-toggleable__content pre {margin: 0.2em;color: black;border-radius: 0.25em;background-color: #f0f8ff;}#sk-container-id-1 input.sk-toggleable__control:checked~div.sk-toggleable__content {max-height: 200px;max-width: 100%;overflow: auto;}#sk-container-id-1 input.sk-toggleable__control:checked~label.sk-toggleable__label-arrow:before {content: \"▾\";}#sk-container-id-1 div.sk-estimator input.sk-toggleable__control:checked~label.sk-toggleable__label {background-color: #d4ebff;}#sk-container-id-1 div.sk-label input.sk-toggleable__control:checked~label.sk-toggleable__label {background-color: #d4ebff;}#sk-container-id-1 input.sk-hidden--visually {border: 0;clip: rect(1px 1px 1px 1px);clip: rect(1px, 1px, 1px, 1px);height: 1px;margin: -1px;overflow: hidden;padding: 0;position: absolute;width: 1px;}#sk-container-id-1 div.sk-estimator {font-family: monospace;background-color: #f0f8ff;border: 1px dotted black;border-radius: 0.25em;box-sizing: border-box;margin-bottom: 0.5em;}#sk-container-id-1 div.sk-estimator:hover {background-color: #d4ebff;}#sk-container-id-1 div.sk-parallel-item::after {content: \"\";width: 100%;border-bottom: 1px solid gray;flex-grow: 1;}#sk-container-id-1 div.sk-label:hover label.sk-toggleable__label {background-color: #d4ebff;}#sk-container-id-1 div.sk-serial::before {content: \"\";position: absolute;border-left: 1px solid gray;box-sizing: border-box;top: 0;bottom: 0;left: 50%;z-index: 0;}#sk-container-id-1 div.sk-serial {display: flex;flex-direction: column;align-items: center;background-color: white;padding-right: 0.2em;padding-left: 0.2em;position: relative;}#sk-container-id-1 div.sk-item {position: relative;z-index: 1;}#sk-container-id-1 div.sk-parallel {display: flex;align-items: stretch;justify-content: center;background-color: white;position: relative;}#sk-container-id-1 div.sk-item::before, #sk-container-id-1 div.sk-parallel-item::before {content: \"\";position: absolute;border-left: 1px solid gray;box-sizing: border-box;top: 0;bottom: 0;left: 50%;z-index: -1;}#sk-container-id-1 div.sk-parallel-item {display: flex;flex-direction: column;z-index: 1;position: relative;background-color: white;}#sk-container-id-1 div.sk-parallel-item:first-child::after {align-self: flex-end;width: 50%;}#sk-container-id-1 div.sk-parallel-item:last-child::after {align-self: flex-start;width: 50%;}#sk-container-id-1 div.sk-parallel-item:only-child::after {width: 0;}#sk-container-id-1 div.sk-dashed-wrapped {border: 1px dashed gray;margin: 0 0.4em 0.5em 0.4em;box-sizing: border-box;padding-bottom: 0.4em;background-color: white;}#sk-container-id-1 div.sk-label label {font-family: monospace;font-weight: bold;display: inline-block;line-height: 1.2em;}#sk-container-id-1 div.sk-label-container {text-align: center;}#sk-container-id-1 div.sk-container {/* jupyter's `normalize.less` sets `[hidden] { display: none; }` but bootstrap.min.css set `[hidden] { display: none !important; }` so we also need the `!important` here to be able to override the default hidden behavior on the sphinx rendered scikit-learn.org. See: https://github.com/scikit-learn/scikit-learn/issues/21755 */display: inline-block !important;position: relative;}#sk-container-id-1 div.sk-text-repr-fallback {display: none;}</style><div id=\"sk-container-id-1\" class=\"sk-top-container\"><div class=\"sk-text-repr-fallback\"><pre>Pipeline(steps=[(&#x27;scale&#x27;, StandardScaler()),\n",
       "                (&#x27;model&#x27;, GradientBoostingClassifier())])</pre><b>In a Jupyter environment, please rerun this cell to show the HTML representation or trust the notebook. <br />On GitHub, the HTML representation is unable to render, please try loading this page with nbviewer.org.</b></div><div class=\"sk-container\" hidden><div class=\"sk-item sk-dashed-wrapped\"><div class=\"sk-label-container\"><div class=\"sk-label sk-toggleable\"><input class=\"sk-toggleable__control sk-hidden--visually\" id=\"sk-estimator-id-1\" type=\"checkbox\" ><label for=\"sk-estimator-id-1\" class=\"sk-toggleable__label sk-toggleable__label-arrow\">Pipeline</label><div class=\"sk-toggleable__content\"><pre>Pipeline(steps=[(&#x27;scale&#x27;, StandardScaler()),\n",
       "                (&#x27;model&#x27;, GradientBoostingClassifier())])</pre></div></div></div><div class=\"sk-serial\"><div class=\"sk-item\"><div class=\"sk-estimator sk-toggleable\"><input class=\"sk-toggleable__control sk-hidden--visually\" id=\"sk-estimator-id-2\" type=\"checkbox\" ><label for=\"sk-estimator-id-2\" class=\"sk-toggleable__label sk-toggleable__label-arrow\">StandardScaler</label><div class=\"sk-toggleable__content\"><pre>StandardScaler()</pre></div></div></div><div class=\"sk-item\"><div class=\"sk-estimator sk-toggleable\"><input class=\"sk-toggleable__control sk-hidden--visually\" id=\"sk-estimator-id-3\" type=\"checkbox\" ><label for=\"sk-estimator-id-3\" class=\"sk-toggleable__label sk-toggleable__label-arrow\">GradientBoostingClassifier</label><div class=\"sk-toggleable__content\"><pre>GradientBoostingClassifier()</pre></div></div></div></div></div></div></div>"
      ],
      "text/plain": [
       "Pipeline(steps=[('scale', StandardScaler()),\n",
       "                ('model', GradientBoostingClassifier())])"
      ]
     },
     "execution_count": 32,
     "metadata": {},
     "output_type": "execute_result"
    }
   ],
   "source": [
    "model.fit(X_train, y_train.values.ravel())"
   ]
  },
  {
   "cell_type": "code",
   "execution_count": 33,
   "id": "af59f8c0",
   "metadata": {
    "execution": {
     "iopub.execute_input": "2025-08-05T15:25:17.924002Z",
     "iopub.status.busy": "2025-08-05T15:25:17.923046Z",
     "iopub.status.idle": "2025-08-05T15:25:17.928399Z",
     "shell.execute_reply": "2025-08-05T15:25:17.927569Z"
    },
    "papermill": {
     "duration": 0.031076,
     "end_time": "2025-08-05T15:25:17.929949",
     "exception": false,
     "start_time": "2025-08-05T15:25:17.898873",
     "status": "completed"
    },
    "tags": []
   },
   "outputs": [],
   "source": [
    "from fairness_multiverse.universe import predict_w_threshold"
   ]
  },
  {
   "cell_type": "code",
   "execution_count": 34,
   "id": "a7cf2e16",
   "metadata": {
    "execution": {
     "iopub.execute_input": "2025-08-05T15:25:17.953653Z",
     "iopub.status.busy": "2025-08-05T15:25:17.952917Z",
     "iopub.status.idle": "2025-08-05T15:25:18.437531Z",
     "shell.execute_reply": "2025-08-05T15:25:18.436635Z"
    },
    "papermill": {
     "duration": 0.497077,
     "end_time": "2025-08-05T15:25:18.439045",
     "exception": false,
     "start_time": "2025-08-05T15:25:17.941968",
     "status": "completed"
    },
    "tags": []
   },
   "outputs": [
    {
     "data": {
      "text/plain": [
       "0.8661018838479545"
      ]
     },
     "execution_count": 34,
     "metadata": {},
     "output_type": "execute_result"
    }
   ],
   "source": [
    "probs_test = model.predict_proba(X_test)\n",
    "\n",
    "'''\n",
    "Below code returns a boolean array (or binary 0/1 array depending on how it’s used) where each element \n",
    "is True if the probability of class 1 is greater than or equal to the threshold, and False otherwise.\n",
    "'''\n",
    "y_pred_default = predict_w_threshold(probs_test, 0.5)\n",
    "\n",
    "from sklearn.metrics import accuracy_score\n",
    "\n",
    "# Naive prediction\n",
    "accuracy_score(y_true = y_true, y_pred = y_pred_default)"
   ]
  },
  {
   "cell_type": "code",
   "execution_count": 35,
   "id": "081964c3",
   "metadata": {
    "execution": {
     "iopub.execute_input": "2025-08-05T15:25:18.461643Z",
     "iopub.status.busy": "2025-08-05T15:25:18.461284Z",
     "iopub.status.idle": "2025-08-05T15:25:18.925337Z",
     "shell.execute_reply": "2025-08-05T15:25:18.924443Z"
    },
    "papermill": {
     "duration": 0.476594,
     "end_time": "2025-08-05T15:25:18.926824",
     "exception": false,
     "start_time": "2025-08-05T15:25:18.450230",
     "status": "completed"
    },
    "tags": []
   },
   "outputs": [
    {
     "data": {
      "text/plain": [
       "array([0, 0, 0, ..., 0, 0, 0])"
      ]
     },
     "execution_count": 35,
     "metadata": {},
     "output_type": "execute_result"
    }
   ],
   "source": [
    "model.predict(X_test)"
   ]
  },
  {
   "cell_type": "markdown",
   "id": "56c9705b",
   "metadata": {
    "papermill": {
     "duration": 0.01015,
     "end_time": "2025-08-05T15:25:18.947949",
     "exception": false,
     "start_time": "2025-08-05T15:25:18.937799",
     "status": "completed"
    },
    "tags": []
   },
   "source": [
    "# Conformal Prediction"
   ]
  },
  {
   "cell_type": "code",
   "execution_count": 36,
   "id": "160ec6ff",
   "metadata": {
    "execution": {
     "iopub.execute_input": "2025-08-05T15:25:18.971556Z",
     "iopub.status.busy": "2025-08-05T15:25:18.971034Z",
     "iopub.status.idle": "2025-08-05T15:25:18.975975Z",
     "shell.execute_reply": "2025-08-05T15:25:18.975137Z"
    },
    "papermill": {
     "duration": 0.018081,
     "end_time": "2025-08-05T15:25:18.977743",
     "exception": false,
     "start_time": "2025-08-05T15:25:18.959662",
     "status": "completed"
    },
    "tags": []
   },
   "outputs": [],
   "source": [
    "# Miscoverage level for conformal prediction (10% allowed error rate => 90% target coverage)\n",
    "alpha = 0.1"
   ]
  },
  {
   "cell_type": "code",
   "execution_count": 37,
   "id": "eadf4555-3dd3-440e-8e35-f82a4ad9f855",
   "metadata": {
    "execution": {
     "iopub.execute_input": "2025-08-05T15:25:19.002160Z",
     "iopub.status.busy": "2025-08-05T15:25:19.001380Z",
     "iopub.status.idle": "2025-08-05T15:25:19.466836Z",
     "shell.execute_reply": "2025-08-05T15:25:19.466027Z"
    },
    "papermill": {
     "duration": 0.478396,
     "end_time": "2025-08-05T15:25:19.468357",
     "exception": false,
     "start_time": "2025-08-05T15:25:18.989961",
     "status": "completed"
    },
    "tags": []
   },
   "outputs": [],
   "source": [
    "probs_calib = model.predict_proba(X_calib)"
   ]
  },
  {
   "cell_type": "code",
   "execution_count": 38,
   "id": "2ed93547-6d5d-4983-9b36-1ecb300da49a",
   "metadata": {
    "execution": {
     "iopub.execute_input": "2025-08-05T15:25:19.491940Z",
     "iopub.status.busy": "2025-08-05T15:25:19.491588Z",
     "iopub.status.idle": "2025-08-05T15:25:19.497179Z",
     "shell.execute_reply": "2025-08-05T15:25:19.496048Z"
    },
    "papermill": {
     "duration": 0.019229,
     "end_time": "2025-08-05T15:25:19.498991",
     "exception": false,
     "start_time": "2025-08-05T15:25:19.479762",
     "status": "completed"
    },
    "tags": []
   },
   "outputs": [],
   "source": [
    "y_calib = y_calib.values.ravel().astype(int)"
   ]
  },
  {
   "cell_type": "code",
   "execution_count": 39,
   "id": "65d1320d-f588-4b38-9072-62af1ae97f7d",
   "metadata": {
    "execution": {
     "iopub.execute_input": "2025-08-05T15:25:19.523236Z",
     "iopub.status.busy": "2025-08-05T15:25:19.522502Z",
     "iopub.status.idle": "2025-08-05T15:25:19.529035Z",
     "shell.execute_reply": "2025-08-05T15:25:19.528160Z"
    },
    "papermill": {
     "duration": 0.019737,
     "end_time": "2025-08-05T15:25:19.530699",
     "exception": false,
     "start_time": "2025-08-05T15:25:19.510962",
     "status": "completed"
    },
    "tags": []
   },
   "outputs": [],
   "source": [
    "from fairness_multiverse.conformal import compute_nc_scores\n",
    "\n",
    "# Compute nonconformity scores on calibration set (1 - probability of true class)\n",
    "nc_scores = compute_nc_scores(probs_calib, y_calib)"
   ]
  },
  {
   "cell_type": "code",
   "execution_count": 40,
   "id": "df3b8ca3-53b7-43d5-9667-7c85da7aeda2",
   "metadata": {
    "execution": {
     "iopub.execute_input": "2025-08-05T15:25:19.554568Z",
     "iopub.status.busy": "2025-08-05T15:25:19.554049Z",
     "iopub.status.idle": "2025-08-05T15:25:19.560348Z",
     "shell.execute_reply": "2025-08-05T15:25:19.559394Z"
    },
    "papermill": {
     "duration": 0.019325,
     "end_time": "2025-08-05T15:25:19.561995",
     "exception": false,
     "start_time": "2025-08-05T15:25:19.542670",
     "status": "completed"
    },
    "tags": []
   },
   "outputs": [],
   "source": [
    "from fairness_multiverse.conformal import find_threshold\n",
    "\n",
    "# Find conformal threshold q_hat for the given alpha (split conformal method)\n",
    "q_hat = find_threshold(nc_scores, alpha)"
   ]
  },
  {
   "cell_type": "code",
   "execution_count": 41,
   "id": "4d29e6c1-0ef6-4aa4-b8fe-4fe79b0d033a",
   "metadata": {
    "execution": {
     "iopub.execute_input": "2025-08-05T15:25:19.586032Z",
     "iopub.status.busy": "2025-08-05T15:25:19.585307Z",
     "iopub.status.idle": "2025-08-05T15:25:19.591688Z",
     "shell.execute_reply": "2025-08-05T15:25:19.590809Z"
    },
    "papermill": {
     "duration": 0.01951,
     "end_time": "2025-08-05T15:25:19.593375",
     "exception": false,
     "start_time": "2025-08-05T15:25:19.573865",
     "status": "completed"
    },
    "tags": []
   },
   "outputs": [
    {
     "data": {
      "text/plain": [
       "0.7210493504406232"
      ]
     },
     "execution_count": 41,
     "metadata": {},
     "output_type": "execute_result"
    }
   ],
   "source": [
    "q_hat"
   ]
  },
  {
   "cell_type": "code",
   "execution_count": 42,
   "id": "92460794-cdac-4be2-ba28-f28c0515a6fb",
   "metadata": {
    "execution": {
     "iopub.execute_input": "2025-08-05T15:25:19.630651Z",
     "iopub.status.busy": "2025-08-05T15:25:19.630140Z",
     "iopub.status.idle": "2025-08-05T15:25:21.401267Z",
     "shell.execute_reply": "2025-08-05T15:25:21.400341Z"
    },
    "papermill": {
     "duration": 1.795743,
     "end_time": "2025-08-05T15:25:21.404177",
     "exception": false,
     "start_time": "2025-08-05T15:25:19.608434",
     "status": "completed"
    },
    "tags": []
   },
   "outputs": [],
   "source": [
    "from fairness_multiverse.conformal import predict_conformal_sets\n",
    "\n",
    "# Generate prediction sets for each test example\n",
    "pred_sets = predict_conformal_sets(model, X_test, q_hat)"
   ]
  },
  {
   "cell_type": "code",
   "execution_count": 43,
   "id": "d90c9a65-e6db-4f5d-80cd-e68fb7e46829",
   "metadata": {
    "execution": {
     "iopub.execute_input": "2025-08-05T15:25:21.468255Z",
     "iopub.status.busy": "2025-08-05T15:25:21.467575Z",
     "iopub.status.idle": "2025-08-05T15:25:21.473258Z",
     "shell.execute_reply": "2025-08-05T15:25:21.472385Z"
    },
    "papermill": {
     "duration": 0.029167,
     "end_time": "2025-08-05T15:25:21.474805",
     "exception": false,
     "start_time": "2025-08-05T15:25:21.445638",
     "status": "completed"
    },
    "tags": []
   },
   "outputs": [],
   "source": [
    "y_true = y_true.squeeze()"
   ]
  },
  {
   "cell_type": "code",
   "execution_count": 44,
   "id": "3a58a54a-1e68-46b9-927a-df01f18aebc8",
   "metadata": {
    "execution": {
     "iopub.execute_input": "2025-08-05T15:25:21.519789Z",
     "iopub.status.busy": "2025-08-05T15:25:21.519161Z",
     "iopub.status.idle": "2025-08-05T15:25:22.362266Z",
     "shell.execute_reply": "2025-08-05T15:25:22.361286Z"
    },
    "papermill": {
     "duration": 0.867796,
     "end_time": "2025-08-05T15:25:22.364253",
     "exception": false,
     "start_time": "2025-08-05T15:25:21.496457",
     "status": "completed"
    },
    "tags": []
   },
   "outputs": [],
   "source": [
    "from fairness_multiverse.conformal import evaluate_sets\n",
    "\n",
    "# Evaluate coverage and average set size on test data\n",
    "metrics = evaluate_sets(pred_sets, y_true)"
   ]
  },
  {
   "cell_type": "markdown",
   "id": "2b569c12-9aaa-4c88-98c9-bbcd0cf3ebb8",
   "metadata": {
    "papermill": {
     "duration": 0.022236,
     "end_time": "2025-08-05T15:25:22.407613",
     "exception": false,
     "start_time": "2025-08-05T15:25:22.385377",
     "status": "completed"
    },
    "tags": []
   },
   "source": [
    "# CP Metrics"
   ]
  },
  {
   "cell_type": "code",
   "execution_count": 45,
   "id": "5ce0a5cb-201f-45a0-ade5-94c7f0bd6095",
   "metadata": {
    "execution": {
     "iopub.execute_input": "2025-08-05T15:25:22.434490Z",
     "iopub.status.busy": "2025-08-05T15:25:22.434034Z",
     "iopub.status.idle": "2025-08-05T15:25:22.440818Z",
     "shell.execute_reply": "2025-08-05T15:25:22.440039Z"
    },
    "papermill": {
     "duration": 0.020968,
     "end_time": "2025-08-05T15:25:22.442549",
     "exception": false,
     "start_time": "2025-08-05T15:25:22.421581",
     "status": "completed"
    },
    "tags": []
   },
   "outputs": [
    {
     "data": {
      "text/plain": [
       "{'coverage': 0.9123397614535727, 'avg_size': 1.1334633820086948}"
      ]
     },
     "execution_count": 45,
     "metadata": {},
     "output_type": "execute_result"
    }
   ],
   "source": [
    "metrics"
   ]
  },
  {
   "cell_type": "code",
   "execution_count": 46,
   "id": "9b9a838d-31c9-430b-ae14-12baee460d17",
   "metadata": {
    "execution": {
     "iopub.execute_input": "2025-08-05T15:25:22.470216Z",
     "iopub.status.busy": "2025-08-05T15:25:22.469754Z",
     "iopub.status.idle": "2025-08-05T15:25:22.476946Z",
     "shell.execute_reply": "2025-08-05T15:25:22.475821Z"
    },
    "papermill": {
     "duration": 0.023704,
     "end_time": "2025-08-05T15:25:22.478733",
     "exception": false,
     "start_time": "2025-08-05T15:25:22.455029",
     "status": "completed"
    },
    "tags": []
   },
   "outputs": [],
   "source": [
    "example_universe = universe.copy()\n",
    "universe_training_year = example_universe.get(\"training_year\")\n",
    "universe_training_size = example_universe.get(\"training_size\")\n",
    "universe_scale = example_universe.get(\"scale\")\n",
    "universe_model = example_universe.get(\"model\")\n",
    "universe_exclude_features = example_universe.get(\"exclude_features\")\n",
    "universe_exclude_subgroups = example_universe.get(\"exclude_subgroups\")"
   ]
  },
  {
   "cell_type": "code",
   "execution_count": 47,
   "id": "f4b6a8ac-9dc0-4245-8a91-5b3b5999c4f9",
   "metadata": {
    "execution": {
     "iopub.execute_input": "2025-08-05T15:25:22.524635Z",
     "iopub.status.busy": "2025-08-05T15:25:22.524117Z",
     "iopub.status.idle": "2025-08-05T15:25:22.531820Z",
     "shell.execute_reply": "2025-08-05T15:25:22.530769Z"
    },
    "papermill": {
     "duration": 0.033703,
     "end_time": "2025-08-05T15:25:22.536767",
     "exception": false,
     "start_time": "2025-08-05T15:25:22.503064",
     "status": "completed"
    },
    "tags": []
   },
   "outputs": [],
   "source": [
    "cp_metrics_dict = {\n",
    "    \"universe_id\": [universe_id],\n",
    "    \"universe_training_year\": [universe_training_year],\n",
    "    \"universe_training_size\": [universe_training_size],\n",
    "    \"universe_scale\": [universe_scale],\n",
    "    \"universe_model\": [universe_model],\n",
    "    \"universe_exclude_features\": [universe_exclude_features],\n",
    "    \"universe_exclude_subgroups\": [universe_exclude_subgroups],\n",
    "    \"q_hat\": [q_hat],\n",
    "    \"coverage\": [metrics[\"coverage\"]],\n",
    "    \"avg_size\": [metrics[\"avg_size\"]],\n",
    "}"
   ]
  },
  {
   "cell_type": "code",
   "execution_count": 48,
   "id": "908acbb1-0371-4915-85ca-3fa520d2efe2",
   "metadata": {
    "execution": {
     "iopub.execute_input": "2025-08-05T15:25:22.601133Z",
     "iopub.status.busy": "2025-08-05T15:25:22.600718Z",
     "iopub.status.idle": "2025-08-05T15:25:22.609343Z",
     "shell.execute_reply": "2025-08-05T15:25:22.607965Z"
    },
    "papermill": {
     "duration": 0.042893,
     "end_time": "2025-08-05T15:25:22.611764",
     "exception": false,
     "start_time": "2025-08-05T15:25:22.568871",
     "status": "completed"
    },
    "tags": []
   },
   "outputs": [
    {
     "data": {
      "text/plain": [
       "{'universe_id': ['3c9743cf38e93c1900e102acc50d0ebf'],\n",
       " 'universe_training_year': ['2014'],\n",
       " 'universe_training_size': ['5k'],\n",
       " 'universe_scale': ['scale'],\n",
       " 'universe_model': ['gbm'],\n",
       " 'universe_exclude_features': ['sex'],\n",
       " 'universe_exclude_subgroups': ['keep-all'],\n",
       " 'q_hat': [0.7210493504406232],\n",
       " 'coverage': [0.9123397614535727],\n",
       " 'avg_size': [1.1334633820086948]}"
      ]
     },
     "execution_count": 48,
     "metadata": {},
     "output_type": "execute_result"
    }
   ],
   "source": [
    "cp_metrics_dict"
   ]
  },
  {
   "cell_type": "code",
   "execution_count": 49,
   "id": "33007efc-14e9-4ec6-97ac-56a455c82265",
   "metadata": {
    "execution": {
     "iopub.execute_input": "2025-08-05T15:25:22.640884Z",
     "iopub.status.busy": "2025-08-05T15:25:22.640388Z",
     "iopub.status.idle": "2025-08-05T15:25:22.646561Z",
     "shell.execute_reply": "2025-08-05T15:25:22.645830Z"
    },
    "papermill": {
     "duration": 0.021341,
     "end_time": "2025-08-05T15:25:22.647911",
     "exception": false,
     "start_time": "2025-08-05T15:25:22.626570",
     "status": "completed"
    },
    "tags": []
   },
   "outputs": [],
   "source": [
    "cp_metrics_df = pd.DataFrame(cp_metrics_dict)"
   ]
  },
  {
   "cell_type": "code",
   "execution_count": 50,
   "id": "db12611b-57b2-4910-b9d0-355adfd6e7bf",
   "metadata": {
    "execution": {
     "iopub.execute_input": "2025-08-05T15:25:22.673602Z",
     "iopub.status.busy": "2025-08-05T15:25:22.673221Z",
     "iopub.status.idle": "2025-08-05T15:25:22.687752Z",
     "shell.execute_reply": "2025-08-05T15:25:22.686942Z"
    },
    "papermill": {
     "duration": 0.028074,
     "end_time": "2025-08-05T15:25:22.689102",
     "exception": false,
     "start_time": "2025-08-05T15:25:22.661028",
     "status": "completed"
    },
    "tags": []
   },
   "outputs": [
    {
     "data": {
      "text/html": [
       "<div>\n",
       "<style scoped>\n",
       "    .dataframe tbody tr th:only-of-type {\n",
       "        vertical-align: middle;\n",
       "    }\n",
       "\n",
       "    .dataframe tbody tr th {\n",
       "        vertical-align: top;\n",
       "    }\n",
       "\n",
       "    .dataframe thead th {\n",
       "        text-align: right;\n",
       "    }\n",
       "</style>\n",
       "<table border=\"1\" class=\"dataframe\">\n",
       "  <thead>\n",
       "    <tr style=\"text-align: right;\">\n",
       "      <th></th>\n",
       "      <th>universe_id</th>\n",
       "      <th>universe_training_year</th>\n",
       "      <th>universe_training_size</th>\n",
       "      <th>universe_scale</th>\n",
       "      <th>universe_model</th>\n",
       "      <th>universe_exclude_features</th>\n",
       "      <th>universe_exclude_subgroups</th>\n",
       "      <th>q_hat</th>\n",
       "      <th>coverage</th>\n",
       "      <th>avg_size</th>\n",
       "    </tr>\n",
       "  </thead>\n",
       "  <tbody>\n",
       "    <tr>\n",
       "      <th>0</th>\n",
       "      <td>3c9743cf38e93c1900e102acc50d0ebf</td>\n",
       "      <td>2014</td>\n",
       "      <td>5k</td>\n",
       "      <td>scale</td>\n",
       "      <td>gbm</td>\n",
       "      <td>sex</td>\n",
       "      <td>keep-all</td>\n",
       "      <td>0.721049</td>\n",
       "      <td>0.91234</td>\n",
       "      <td>1.133463</td>\n",
       "    </tr>\n",
       "  </tbody>\n",
       "</table>\n",
       "</div>"
      ],
      "text/plain": [
       "                        universe_id universe_training_year  \\\n",
       "0  3c9743cf38e93c1900e102acc50d0ebf                   2014   \n",
       "\n",
       "  universe_training_size universe_scale universe_model  \\\n",
       "0                     5k          scale            gbm   \n",
       "\n",
       "  universe_exclude_features universe_exclude_subgroups     q_hat  coverage  \\\n",
       "0                       sex                   keep-all  0.721049   0.91234   \n",
       "\n",
       "   avg_size  \n",
       "0  1.133463  "
      ]
     },
     "execution_count": 50,
     "metadata": {},
     "output_type": "execute_result"
    }
   ],
   "source": [
    "cp_metrics_df"
   ]
  },
  {
   "cell_type": "code",
   "execution_count": 51,
   "id": "b7fbde55-a0a1-47e4-9af6-fe4a17fa8c61",
   "metadata": {
    "execution": {
     "iopub.execute_input": "2025-08-05T15:25:22.714713Z",
     "iopub.status.busy": "2025-08-05T15:25:22.714057Z",
     "iopub.status.idle": "2025-08-05T15:25:22.719367Z",
     "shell.execute_reply": "2025-08-05T15:25:22.718117Z"
    },
    "papermill": {
     "duration": 0.020748,
     "end_time": "2025-08-05T15:25:22.722283",
     "exception": false,
     "start_time": "2025-08-05T15:25:22.701535",
     "status": "completed"
    },
    "tags": []
   },
   "outputs": [],
   "source": [
    "# Conditional Coverage & looking at subgroups"
   ]
  },
  {
   "cell_type": "code",
   "execution_count": 52,
   "id": "027ae886-68dd-4141-96c7-805a5450e1ef",
   "metadata": {
    "execution": {
     "iopub.execute_input": "2025-08-05T15:25:22.750830Z",
     "iopub.status.busy": "2025-08-05T15:25:22.750482Z",
     "iopub.status.idle": "2025-08-05T15:25:23.007173Z",
     "shell.execute_reply": "2025-08-05T15:25:23.006399Z"
    },
    "papermill": {
     "duration": 0.271172,
     "end_time": "2025-08-05T15:25:23.008566",
     "exception": false,
     "start_time": "2025-08-05T15:25:22.737394",
     "status": "completed"
    },
    "tags": []
   },
   "outputs": [],
   "source": [
    "from fairness_multiverse.conformal import build_cp_groups\n",
    "\n",
    "cp_groups_df = build_cp_groups(pred_sets, y_true, X_test.index, org_test)\n",
    "#needs universe_id and setting"
   ]
  },
  {
   "cell_type": "code",
   "execution_count": 53,
   "id": "6cbdab96-b2b2-45af-ad54-d0516db2e28d",
   "metadata": {
    "execution": {
     "iopub.execute_input": "2025-08-05T15:25:23.033601Z",
     "iopub.status.busy": "2025-08-05T15:25:23.033148Z",
     "iopub.status.idle": "2025-08-05T15:25:24.236224Z",
     "shell.execute_reply": "2025-08-05T15:25:24.235478Z"
    },
    "papermill": {
     "duration": 1.217236,
     "end_time": "2025-08-05T15:25:24.237690",
     "exception": false,
     "start_time": "2025-08-05T15:25:23.020454",
     "status": "completed"
    },
    "tags": []
   },
   "outputs": [],
   "source": [
    "# Define covered = 1 if true_label is in the predicted set\n",
    "cp_groups_df['covered'] = cp_groups_df.apply(\n",
    "    lambda r: int(r['true_label'] in r['pred_set']),\n",
    "    axis=1\n",
    ")"
   ]
  },
  {
   "cell_type": "code",
   "execution_count": 54,
   "id": "338ff529-1a6b-4b87-a931-8e4788d52aad",
   "metadata": {
    "execution": {
     "iopub.execute_input": "2025-08-05T15:25:24.264239Z",
     "iopub.status.busy": "2025-08-05T15:25:24.263751Z",
     "iopub.status.idle": "2025-08-05T15:25:24.267987Z",
     "shell.execute_reply": "2025-08-05T15:25:24.267313Z"
    },
    "papermill": {
     "duration": 0.017739,
     "end_time": "2025-08-05T15:25:24.269391",
     "exception": false,
     "start_time": "2025-08-05T15:25:24.251652",
     "status": "completed"
    },
    "tags": []
   },
   "outputs": [],
   "source": [
    "#cp_groups_df"
   ]
  },
  {
   "cell_type": "code",
   "execution_count": 55,
   "id": "90032e27-66df-4540-9169-4e89cfbaa758",
   "metadata": {
    "execution": {
     "iopub.execute_input": "2025-08-05T15:25:24.295945Z",
     "iopub.status.busy": "2025-08-05T15:25:24.295132Z",
     "iopub.status.idle": "2025-08-05T15:25:24.304512Z",
     "shell.execute_reply": "2025-08-05T15:25:24.303646Z"
    },
    "papermill": {
     "duration": 0.023737,
     "end_time": "2025-08-05T15:25:24.306148",
     "exception": false,
     "start_time": "2025-08-05T15:25:24.282411",
     "status": "completed"
    },
    "tags": []
   },
   "outputs": [],
   "source": [
    "subgroups = ['frau1','nongerman','nongerman_male','nongerman_female']\n",
    "\n",
    "# Conditional coverage for subgroup==1\n",
    "cond_coverage = {\n",
    "    g: cp_groups_df.loc[cp_groups_df[g]==1, 'covered'].mean()\n",
    "    for g in subgroups\n",
    "}"
   ]
  },
  {
   "cell_type": "code",
   "execution_count": 56,
   "id": "1e348fb1-b9c3-45bc-ba23-f016827a7e0d",
   "metadata": {
    "execution": {
     "iopub.execute_input": "2025-08-05T15:25:24.332040Z",
     "iopub.status.busy": "2025-08-05T15:25:24.331537Z",
     "iopub.status.idle": "2025-08-05T15:25:24.338317Z",
     "shell.execute_reply": "2025-08-05T15:25:24.337290Z"
    },
    "papermill": {
     "duration": 0.02103,
     "end_time": "2025-08-05T15:25:24.339873",
     "exception": false,
     "start_time": "2025-08-05T15:25:24.318843",
     "status": "completed"
    },
    "tags": []
   },
   "outputs": [
    {
     "data": {
      "text/plain": [
       "{'frau1': 0.9092330502763175,\n",
       " 'nongerman': 0.9113007354179532,\n",
       " 'nongerman_male': 0.927136809871206,\n",
       " 'nongerman_female': 0.885096870342772}"
      ]
     },
     "execution_count": 56,
     "metadata": {},
     "output_type": "execute_result"
    }
   ],
   "source": [
    "cond_coverage"
   ]
  },
  {
   "cell_type": "code",
   "execution_count": 57,
   "id": "f5093324-c3dd-4d63-bc4c-8d945e5c8bbb",
   "metadata": {
    "execution": {
     "iopub.execute_input": "2025-08-05T15:25:24.366373Z",
     "iopub.status.busy": "2025-08-05T15:25:24.365676Z",
     "iopub.status.idle": "2025-08-05T15:25:24.371703Z",
     "shell.execute_reply": "2025-08-05T15:25:24.370916Z"
    },
    "papermill": {
     "duration": 0.020213,
     "end_time": "2025-08-05T15:25:24.373218",
     "exception": false,
     "start_time": "2025-08-05T15:25:24.353005",
     "status": "completed"
    },
    "tags": []
   },
   "outputs": [],
   "source": [
    "for subgroup, cov in cond_coverage.items():\n",
    "    cp_metrics_df[f\"cov_{subgroup}\"] = cov"
   ]
  },
  {
   "cell_type": "code",
   "execution_count": 58,
   "id": "6e872e10-dbe5-49e8-b554-5030c98ff75d",
   "metadata": {
    "execution": {
     "iopub.execute_input": "2025-08-05T15:25:24.399955Z",
     "iopub.status.busy": "2025-08-05T15:25:24.399449Z",
     "iopub.status.idle": "2025-08-05T15:25:24.414026Z",
     "shell.execute_reply": "2025-08-05T15:25:24.412977Z"
    },
    "papermill": {
     "duration": 0.028897,
     "end_time": "2025-08-05T15:25:24.415611",
     "exception": false,
     "start_time": "2025-08-05T15:25:24.386714",
     "status": "completed"
    },
    "tags": []
   },
   "outputs": [
    {
     "data": {
      "text/html": [
       "<div>\n",
       "<style scoped>\n",
       "    .dataframe tbody tr th:only-of-type {\n",
       "        vertical-align: middle;\n",
       "    }\n",
       "\n",
       "    .dataframe tbody tr th {\n",
       "        vertical-align: top;\n",
       "    }\n",
       "\n",
       "    .dataframe thead th {\n",
       "        text-align: right;\n",
       "    }\n",
       "</style>\n",
       "<table border=\"1\" class=\"dataframe\">\n",
       "  <thead>\n",
       "    <tr style=\"text-align: right;\">\n",
       "      <th></th>\n",
       "      <th>universe_id</th>\n",
       "      <th>universe_training_year</th>\n",
       "      <th>universe_training_size</th>\n",
       "      <th>universe_scale</th>\n",
       "      <th>universe_model</th>\n",
       "      <th>universe_exclude_features</th>\n",
       "      <th>universe_exclude_subgroups</th>\n",
       "      <th>q_hat</th>\n",
       "      <th>coverage</th>\n",
       "      <th>avg_size</th>\n",
       "      <th>cov_frau1</th>\n",
       "      <th>cov_nongerman</th>\n",
       "      <th>cov_nongerman_male</th>\n",
       "      <th>cov_nongerman_female</th>\n",
       "    </tr>\n",
       "  </thead>\n",
       "  <tbody>\n",
       "    <tr>\n",
       "      <th>0</th>\n",
       "      <td>3c9743cf38e93c1900e102acc50d0ebf</td>\n",
       "      <td>2014</td>\n",
       "      <td>5k</td>\n",
       "      <td>scale</td>\n",
       "      <td>gbm</td>\n",
       "      <td>sex</td>\n",
       "      <td>keep-all</td>\n",
       "      <td>0.721049</td>\n",
       "      <td>0.91234</td>\n",
       "      <td>1.133463</td>\n",
       "      <td>0.909233</td>\n",
       "      <td>0.911301</td>\n",
       "      <td>0.927137</td>\n",
       "      <td>0.885097</td>\n",
       "    </tr>\n",
       "  </tbody>\n",
       "</table>\n",
       "</div>"
      ],
      "text/plain": [
       "                        universe_id universe_training_year  \\\n",
       "0  3c9743cf38e93c1900e102acc50d0ebf                   2014   \n",
       "\n",
       "  universe_training_size universe_scale universe_model  \\\n",
       "0                     5k          scale            gbm   \n",
       "\n",
       "  universe_exclude_features universe_exclude_subgroups     q_hat  coverage  \\\n",
       "0                       sex                   keep-all  0.721049   0.91234   \n",
       "\n",
       "   avg_size  cov_frau1  cov_nongerman  cov_nongerman_male  \\\n",
       "0  1.133463   0.909233       0.911301            0.927137   \n",
       "\n",
       "   cov_nongerman_female  \n",
       "0              0.885097  "
      ]
     },
     "execution_count": 58,
     "metadata": {},
     "output_type": "execute_result"
    }
   ],
   "source": [
    "cp_metrics_df"
   ]
  },
  {
   "cell_type": "markdown",
   "id": "33774451",
   "metadata": {
    "papermill": {
     "duration": 0.011947,
     "end_time": "2025-08-05T15:25:24.441007",
     "exception": false,
     "start_time": "2025-08-05T15:25:24.429060",
     "status": "completed"
    },
    "tags": []
   },
   "source": [
    "# (Fairness) Metrics"
   ]
  },
  {
   "cell_type": "code",
   "execution_count": 59,
   "id": "debc5d62",
   "metadata": {
    "execution": {
     "iopub.execute_input": "2025-08-05T15:25:24.466571Z",
     "iopub.status.busy": "2025-08-05T15:25:24.466064Z",
     "iopub.status.idle": "2025-08-05T15:25:24.481234Z",
     "shell.execute_reply": "2025-08-05T15:25:24.480486Z"
    },
    "papermill": {
     "duration": 0.029849,
     "end_time": "2025-08-05T15:25:24.482670",
     "exception": false,
     "start_time": "2025-08-05T15:25:24.452821",
     "status": "completed"
    },
    "tags": []
   },
   "outputs": [],
   "source": [
    "# do I need to include maxdeutsch1.missing?\n",
    "\n",
    "import numpy as np\n",
    "\n",
    "colname_to_bin = \"maxdeutsch1\"\n",
    "majority_value = org_train[colname_to_bin].mode()[0]\n",
    "\n",
    "org_test[\"majmin\"] = np.where(org_test[colname_to_bin] == majority_value, \"majority\", \"minority\")"
   ]
  },
  {
   "cell_type": "code",
   "execution_count": 60,
   "id": "06a50de5",
   "metadata": {
    "execution": {
     "iopub.execute_input": "2025-08-05T15:25:24.508869Z",
     "iopub.status.busy": "2025-08-05T15:25:24.508328Z",
     "iopub.status.idle": "2025-08-05T15:25:25.935917Z",
     "shell.execute_reply": "2025-08-05T15:25:25.935186Z"
    },
    "papermill": {
     "duration": 1.44209,
     "end_time": "2025-08-05T15:25:25.937326",
     "exception": false,
     "start_time": "2025-08-05T15:25:24.495236",
     "status": "completed"
    },
    "tags": []
   },
   "outputs": [],
   "source": [
    "example_universe = universe.copy()\n",
    "example_universe[\"cutoff\"] = example_universe[\"cutoff\"][0]\n",
    "example_universe[\"eval_fairness_grouping\"] = example_universe[\"eval_fairness_grouping\"][0]\n",
    "fairness_dict, metric_frame = universe_analysis.compute_metrics(\n",
    "    example_universe,\n",
    "    y_pred_prob=probs_test,\n",
    "    y_test=y_true,\n",
    "    org_test=org_test,\n",
    ")"
   ]
  },
  {
   "cell_type": "markdown",
   "id": "f95d4e02",
   "metadata": {
    "papermill": {
     "duration": 0.011295,
     "end_time": "2025-08-05T15:25:25.960881",
     "exception": false,
     "start_time": "2025-08-05T15:25:25.949586",
     "status": "completed"
    },
    "tags": []
   },
   "source": [
    "# Overall"
   ]
  },
  {
   "cell_type": "markdown",
   "id": "bdee4871",
   "metadata": {
    "papermill": {
     "duration": 0.011227,
     "end_time": "2025-08-05T15:25:25.983520",
     "exception": false,
     "start_time": "2025-08-05T15:25:25.972293",
     "status": "completed"
    },
    "tags": []
   },
   "source": [
    "Fairness\n",
    "Main fairness target: Equalized Odds. Seems to be a better fit than equal opportunity, since we're not only interested in Y = 1. Seems to be a better fit than demographic parity, since we also care about accuracy, not just equal distribution of preds.\n",
    "\n",
    "Pick column for computation of fairness metrics\n",
    "\n",
    "Performance\n",
    "Overall performance measures, most interesting in relation to the measures split by group below"
   ]
  },
  {
   "cell_type": "code",
   "execution_count": 61,
   "id": "c4e067c6",
   "metadata": {
    "execution": {
     "iopub.execute_input": "2025-08-05T15:25:26.008014Z",
     "iopub.status.busy": "2025-08-05T15:25:26.007277Z",
     "iopub.status.idle": "2025-08-05T15:25:26.013859Z",
     "shell.execute_reply": "2025-08-05T15:25:26.013018Z"
    },
    "papermill": {
     "duration": 0.020581,
     "end_time": "2025-08-05T15:25:26.015378",
     "exception": false,
     "start_time": "2025-08-05T15:25:25.994797",
     "status": "completed"
    },
    "tags": []
   },
   "outputs": [
    {
     "data": {
      "text/plain": [
       "accuracy                   0.224758\n",
       "balanced accuracy          0.549483\n",
       "f1                         0.246078\n",
       "precision                  0.140576\n",
       "false positive rate        0.887305\n",
       "false negative rate        0.013730\n",
       "selection rate             0.900000\n",
       "count                  89710.000000\n",
       "dtype: float64"
      ]
     },
     "execution_count": 61,
     "metadata": {},
     "output_type": "execute_result"
    }
   ],
   "source": [
    "metric_frame.overall"
   ]
  },
  {
   "cell_type": "markdown",
   "id": "e968fe9d",
   "metadata": {
    "papermill": {
     "duration": 0.011915,
     "end_time": "2025-08-05T15:25:26.039968",
     "exception": false,
     "start_time": "2025-08-05T15:25:26.028053",
     "status": "completed"
    },
    "tags": []
   },
   "source": [
    "By Group"
   ]
  },
  {
   "cell_type": "code",
   "execution_count": 62,
   "id": "ec325bce",
   "metadata": {
    "execution": {
     "iopub.execute_input": "2025-08-05T15:25:26.064121Z",
     "iopub.status.busy": "2025-08-05T15:25:26.063643Z",
     "iopub.status.idle": "2025-08-05T15:25:26.074928Z",
     "shell.execute_reply": "2025-08-05T15:25:26.074260Z"
    },
    "papermill": {
     "duration": 0.024909,
     "end_time": "2025-08-05T15:25:26.076510",
     "exception": false,
     "start_time": "2025-08-05T15:25:26.051601",
     "status": "completed"
    },
    "tags": []
   },
   "outputs": [
    {
     "data": {
      "text/html": [
       "<div>\n",
       "<style scoped>\n",
       "    .dataframe tbody tr th:only-of-type {\n",
       "        vertical-align: middle;\n",
       "    }\n",
       "\n",
       "    .dataframe tbody tr th {\n",
       "        vertical-align: top;\n",
       "    }\n",
       "\n",
       "    .dataframe thead th {\n",
       "        text-align: right;\n",
       "    }\n",
       "</style>\n",
       "<table border=\"1\" class=\"dataframe\">\n",
       "  <thead>\n",
       "    <tr style=\"text-align: right;\">\n",
       "      <th></th>\n",
       "      <th>accuracy</th>\n",
       "      <th>balanced accuracy</th>\n",
       "      <th>f1</th>\n",
       "      <th>precision</th>\n",
       "      <th>false positive rate</th>\n",
       "      <th>false negative rate</th>\n",
       "      <th>selection rate</th>\n",
       "      <th>count</th>\n",
       "    </tr>\n",
       "    <tr>\n",
       "      <th>majmin</th>\n",
       "      <th></th>\n",
       "      <th></th>\n",
       "      <th></th>\n",
       "      <th></th>\n",
       "      <th></th>\n",
       "      <th></th>\n",
       "      <th></th>\n",
       "      <th></th>\n",
       "    </tr>\n",
       "  </thead>\n",
       "  <tbody>\n",
       "    <tr>\n",
       "      <th>majority</th>\n",
       "      <td>0.247159</td>\n",
       "      <td>0.559357</td>\n",
       "      <td>0.256680</td>\n",
       "      <td>0.147597</td>\n",
       "      <td>0.864984</td>\n",
       "      <td>0.016302</td>\n",
       "      <td>0.880671</td>\n",
       "      <td>69170.0</td>\n",
       "    </tr>\n",
       "    <tr>\n",
       "      <th>minority</th>\n",
       "      <td>0.149318</td>\n",
       "      <td>0.517580</td>\n",
       "      <td>0.212609</td>\n",
       "      <td>0.119003</td>\n",
       "      <td>0.961039</td>\n",
       "      <td>0.003801</td>\n",
       "      <td>0.965093</td>\n",
       "      <td>20540.0</td>\n",
       "    </tr>\n",
       "  </tbody>\n",
       "</table>\n",
       "</div>"
      ],
      "text/plain": [
       "          accuracy  balanced accuracy        f1  precision  \\\n",
       "majmin                                                       \n",
       "majority  0.247159           0.559357  0.256680   0.147597   \n",
       "minority  0.149318           0.517580  0.212609   0.119003   \n",
       "\n",
       "          false positive rate  false negative rate  selection rate    count  \n",
       "majmin                                                                       \n",
       "majority             0.864984             0.016302        0.880671  69170.0  \n",
       "minority             0.961039             0.003801        0.965093  20540.0  "
      ]
     },
     "execution_count": 62,
     "metadata": {},
     "output_type": "execute_result"
    }
   ],
   "source": [
    "metric_frame.by_group"
   ]
  },
  {
   "cell_type": "code",
   "execution_count": 63,
   "id": "a9ddbe63",
   "metadata": {
    "execution": {
     "iopub.execute_input": "2025-08-05T15:25:26.102100Z",
     "iopub.status.busy": "2025-08-05T15:25:26.101526Z",
     "iopub.status.idle": "2025-08-05T15:25:28.247244Z",
     "shell.execute_reply": "2025-08-05T15:25:28.246510Z"
    },
    "papermill": {
     "duration": 2.159251,
     "end_time": "2025-08-05T15:25:28.248482",
     "exception": false,
     "start_time": "2025-08-05T15:25:26.089231",
     "status": "completed"
    },
    "tags": []
   },
   "outputs": [
    {
     "data": {
      "text/plain": [
       "array([[<Axes: title={'center': 'accuracy'}, xlabel='majmin'>,\n",
       "        <Axes: title={'center': 'balanced accuracy'}, xlabel='majmin'>,\n",
       "        <Axes: title={'center': 'f1'}, xlabel='majmin'>],\n",
       "       [<Axes: title={'center': 'precision'}, xlabel='majmin'>,\n",
       "        <Axes: title={'center': 'false positive rate'}, xlabel='majmin'>,\n",
       "        <Axes: title={'center': 'false negative rate'}, xlabel='majmin'>],\n",
       "       [<Axes: title={'center': 'selection rate'}, xlabel='majmin'>,\n",
       "        <Axes: title={'center': 'count'}, xlabel='majmin'>,\n",
       "        <Axes: xlabel='majmin'>]], dtype=object)"
      ]
     },
     "execution_count": 63,
     "metadata": {},
     "output_type": "execute_result"
    },
    {
     "data": {
      "image/png": "[encoded data removed]",
      "text/plain": [
       "<Figure size 1200x800 with 9 Axes>"
      ]
     },
     "metadata": {},
     "output_type": "display_data"
    }
   ],
   "source": [
    "# In a graphic\n",
    "metric_frame.by_group.plot.bar(\n",
    "    subplots=True,\n",
    "    layout=[3, 3],\n",
    "    legend=False,\n",
    "    figsize=[12, 8],\n",
    "    title=\"Show all metrics\",\n",
    ")"
   ]
  },
  {
   "cell_type": "markdown",
   "id": "f57a0bac",
   "metadata": {
    "papermill": {
     "duration": 0.013646,
     "end_time": "2025-08-05T15:25:28.276048",
     "exception": false,
     "start_time": "2025-08-05T15:25:28.262402",
     "status": "completed"
    },
    "tags": []
   },
   "source": [
    "# Final Output"
   ]
  },
  {
   "cell_type": "code",
   "execution_count": 64,
   "id": "96d280a3",
   "metadata": {
    "execution": {
     "iopub.execute_input": "2025-08-05T15:25:28.305595Z",
     "iopub.status.busy": "2025-08-05T15:25:28.304935Z",
     "iopub.status.idle": "2025-08-05T15:25:28.312165Z",
     "shell.execute_reply": "2025-08-05T15:25:28.311366Z"
    },
    "papermill": {
     "duration": 0.023742,
     "end_time": "2025-08-05T15:25:28.313729",
     "exception": false,
     "start_time": "2025-08-05T15:25:28.289987",
     "status": "completed"
    },
    "tags": []
   },
   "outputs": [
    {
     "data": {
      "text/plain": [
       "4"
      ]
     },
     "execution_count": 64,
     "metadata": {},
     "output_type": "execute_result"
    }
   ],
   "source": [
    "sub_universes = universe_analysis.generate_sub_universes()\n",
    "len(sub_universes)"
   ]
  },
  {
   "cell_type": "code",
   "execution_count": 65,
   "id": "92adf7ba",
   "metadata": {
    "execution": {
     "iopub.execute_input": "2025-08-05T15:25:28.343752Z",
     "iopub.status.busy": "2025-08-05T15:25:28.343232Z",
     "iopub.status.idle": "2025-08-05T15:25:28.348751Z",
     "shell.execute_reply": "2025-08-05T15:25:28.347956Z"
    },
    "papermill": {
     "duration": 0.022005,
     "end_time": "2025-08-05T15:25:28.350379",
     "exception": false,
     "start_time": "2025-08-05T15:25:28.328374",
     "status": "completed"
    },
    "tags": []
   },
   "outputs": [],
   "source": [
    "def filter_sub_universe_data(sub_universe, org_test):\n",
    "    # Keep all rows — no filtering\n",
    "    keep_rows_mask = np.ones(org_test.shape[0], dtype=bool)\n",
    "\n",
    "    print(f\"[INFO] Keeping all rows: {keep_rows_mask.sum()} rows retained.\")\n",
    "    return keep_rows_mask"
   ]
  },
  {
   "cell_type": "code",
   "execution_count": 66,
   "id": "4a759155",
   "metadata": {
    "execution": {
     "iopub.execute_input": "2025-08-05T15:25:28.381216Z",
     "iopub.status.busy": "2025-08-05T15:25:28.380611Z",
     "iopub.status.idle": "2025-08-05T15:25:37.135186Z",
     "shell.execute_reply": "2025-08-05T15:25:37.134396Z"
    },
    "papermill": {
     "duration": 8.770738,
     "end_time": "2025-08-05T15:25:37.136499",
     "exception": false,
     "start_time": "2025-08-05T15:25:28.365761",
     "status": "completed"
    },
    "tags": []
   },
   "outputs": [
    {
     "name": "stdout",
     "output_type": "stream",
     "text": [
      "Stopping execution_time clock.\n",
      "[INFO] Keeping all rows: 89710 rows retained.\n"
     ]
    },
    {
     "name": "stdout",
     "output_type": "stream",
     "text": [
      "[INFO] Keeping all rows: 89710 rows retained.\n"
     ]
    },
    {
     "name": "stdout",
     "output_type": "stream",
     "text": [
      "[INFO] Keeping all rows: 89710 rows retained.\n"
     ]
    },
    {
     "name": "stdout",
     "output_type": "stream",
     "text": [
      "[INFO] Keeping all rows: 89710 rows retained.\n"
     ]
    },
    {
     "data": {
      "text/html": [
       "<div>\n",
       "<style scoped>\n",
       "    .dataframe tbody tr th:only-of-type {\n",
       "        vertical-align: middle;\n",
       "    }\n",
       "\n",
       "    .dataframe tbody tr th {\n",
       "        vertical-align: top;\n",
       "    }\n",
       "\n",
       "    .dataframe thead th {\n",
       "        text-align: right;\n",
       "    }\n",
       "</style>\n",
       "<table border=\"1\" class=\"dataframe\">\n",
       "  <thead>\n",
       "    <tr style=\"text-align: right;\">\n",
       "      <th></th>\n",
       "      <th>run_no</th>\n",
       "      <th>universe_id</th>\n",
       "      <th>universe_settings</th>\n",
       "      <th>execution_time</th>\n",
       "      <th>test_size_n</th>\n",
       "      <th>test_size_frac</th>\n",
       "      <th>fair_main_equalized_odds_difference</th>\n",
       "      <th>fair_main_equalized_odds_ratio</th>\n",
       "      <th>fair_main_demographic_parity_difference</th>\n",
       "      <th>fair_main_demographic_parity_ratio</th>\n",
       "      <th>...</th>\n",
       "      <th>perf_grp_precision_0</th>\n",
       "      <th>perf_grp_precision_1</th>\n",
       "      <th>perf_grp_false positive rate_0</th>\n",
       "      <th>perf_grp_false positive rate_1</th>\n",
       "      <th>perf_grp_false negative rate_0</th>\n",
       "      <th>perf_grp_false negative rate_1</th>\n",
       "      <th>perf_grp_selection rate_0</th>\n",
       "      <th>perf_grp_selection rate_1</th>\n",
       "      <th>perf_grp_count_0</th>\n",
       "      <th>perf_grp_count_1</th>\n",
       "    </tr>\n",
       "  </thead>\n",
       "  <tbody>\n",
       "    <tr>\n",
       "      <th>0</th>\n",
       "      <td>15</td>\n",
       "      <td>3c9743cf38e93c1900e102acc50d0ebf</td>\n",
       "      <td>{\"cutoff\": \"quantile_0.1\", \"eval_fairness_grou...</td>\n",
       "      <td>28.625486</td>\n",
       "      <td>89710</td>\n",
       "      <td>1.0</td>\n",
       "      <td>0.096055</td>\n",
       "      <td>0.900051</td>\n",
       "      <td>0.084422</td>\n",
       "      <td>0.912525</td>\n",
       "      <td>...</td>\n",
       "      <td>NaN</td>\n",
       "      <td>NaN</td>\n",
       "      <td>NaN</td>\n",
       "      <td>NaN</td>\n",
       "      <td>NaN</td>\n",
       "      <td>NaN</td>\n",
       "      <td>NaN</td>\n",
       "      <td>NaN</td>\n",
       "      <td>NaN</td>\n",
       "      <td>NaN</td>\n",
       "    </tr>\n",
       "    <tr>\n",
       "      <th>0</th>\n",
       "      <td>15</td>\n",
       "      <td>3c9743cf38e93c1900e102acc50d0ebf</td>\n",
       "      <td>{\"cutoff\": \"quantile_0.1\", \"eval_fairness_grou...</td>\n",
       "      <td>28.625486</td>\n",
       "      <td>89710</td>\n",
       "      <td>1.0</td>\n",
       "      <td>0.096055</td>\n",
       "      <td>0.900051</td>\n",
       "      <td>0.084422</td>\n",
       "      <td>0.912525</td>\n",
       "      <td>...</td>\n",
       "      <td>0.119003</td>\n",
       "      <td>0.147597</td>\n",
       "      <td>0.961039</td>\n",
       "      <td>0.864984</td>\n",
       "      <td>0.003801</td>\n",
       "      <td>0.016302</td>\n",
       "      <td>0.965093</td>\n",
       "      <td>0.880671</td>\n",
       "      <td>20540.0</td>\n",
       "      <td>69170.0</td>\n",
       "    </tr>\n",
       "    <tr>\n",
       "      <th>0</th>\n",
       "      <td>15</td>\n",
       "      <td>3c9743cf38e93c1900e102acc50d0ebf</td>\n",
       "      <td>{\"cutoff\": \"quantile_0.25\", \"eval_fairness_gro...</td>\n",
       "      <td>28.625486</td>\n",
       "      <td>89710</td>\n",
       "      <td>1.0</td>\n",
       "      <td>0.071260</td>\n",
       "      <td>0.908232</td>\n",
       "      <td>0.057846</td>\n",
       "      <td>0.927201</td>\n",
       "      <td>...</td>\n",
       "      <td>NaN</td>\n",
       "      <td>NaN</td>\n",
       "      <td>NaN</td>\n",
       "      <td>NaN</td>\n",
       "      <td>NaN</td>\n",
       "      <td>NaN</td>\n",
       "      <td>NaN</td>\n",
       "      <td>NaN</td>\n",
       "      <td>NaN</td>\n",
       "      <td>NaN</td>\n",
       "    </tr>\n",
       "    <tr>\n",
       "      <th>0</th>\n",
       "      <td>15</td>\n",
       "      <td>3c9743cf38e93c1900e102acc50d0ebf</td>\n",
       "      <td>{\"cutoff\": \"quantile_0.25\", \"eval_fairness_gro...</td>\n",
       "      <td>28.625486</td>\n",
       "      <td>89710</td>\n",
       "      <td>1.0</td>\n",
       "      <td>0.071260</td>\n",
       "      <td>0.908232</td>\n",
       "      <td>0.057846</td>\n",
       "      <td>0.927201</td>\n",
       "      <td>...</td>\n",
       "      <td>0.135408</td>\n",
       "      <td>0.169227</td>\n",
       "      <td>0.776524</td>\n",
       "      <td>0.705264</td>\n",
       "      <td>0.066723</td>\n",
       "      <td>0.056455</td>\n",
       "      <td>0.794596</td>\n",
       "      <td>0.736750</td>\n",
       "      <td>20540.0</td>\n",
       "      <td>69170.0</td>\n",
       "    </tr>\n",
       "  </tbody>\n",
       "</table>\n",
       "<p>4 rows × 50 columns</p>\n",
       "</div>"
      ],
      "text/plain": [
       "  run_no                       universe_id  \\\n",
       "0     15  3c9743cf38e93c1900e102acc50d0ebf   \n",
       "0     15  3c9743cf38e93c1900e102acc50d0ebf   \n",
       "0     15  3c9743cf38e93c1900e102acc50d0ebf   \n",
       "0     15  3c9743cf38e93c1900e102acc50d0ebf   \n",
       "\n",
       "                                   universe_settings  execution_time  \\\n",
       "0  {\"cutoff\": \"quantile_0.1\", \"eval_fairness_grou...       28.625486   \n",
       "0  {\"cutoff\": \"quantile_0.1\", \"eval_fairness_grou...       28.625486   \n",
       "0  {\"cutoff\": \"quantile_0.25\", \"eval_fairness_gro...       28.625486   \n",
       "0  {\"cutoff\": \"quantile_0.25\", \"eval_fairness_gro...       28.625486   \n",
       "\n",
       "   test_size_n  test_size_frac  fair_main_equalized_odds_difference  \\\n",
       "0        89710             1.0                             0.096055   \n",
       "0        89710             1.0                             0.096055   \n",
       "0        89710             1.0                             0.071260   \n",
       "0        89710             1.0                             0.071260   \n",
       "\n",
       "   fair_main_equalized_odds_ratio  fair_main_demographic_parity_difference  \\\n",
       "0                        0.900051                                 0.084422   \n",
       "0                        0.900051                                 0.084422   \n",
       "0                        0.908232                                 0.057846   \n",
       "0                        0.908232                                 0.057846   \n",
       "\n",
       "   fair_main_demographic_parity_ratio  ...  perf_grp_precision_0  \\\n",
       "0                            0.912525  ...                   NaN   \n",
       "0                            0.912525  ...              0.119003   \n",
       "0                            0.927201  ...                   NaN   \n",
       "0                            0.927201  ...              0.135408   \n",
       "\n",
       "   perf_grp_precision_1  perf_grp_false positive rate_0  \\\n",
       "0                   NaN                             NaN   \n",
       "0              0.147597                        0.961039   \n",
       "0                   NaN                             NaN   \n",
       "0              0.169227                        0.776524   \n",
       "\n",
       "   perf_grp_false positive rate_1  perf_grp_false negative rate_0  \\\n",
       "0                             NaN                             NaN   \n",
       "0                        0.864984                        0.003801   \n",
       "0                             NaN                             NaN   \n",
       "0                        0.705264                        0.066723   \n",
       "\n",
       "   perf_grp_false negative rate_1  perf_grp_selection rate_0  \\\n",
       "0                             NaN                        NaN   \n",
       "0                        0.016302                   0.965093   \n",
       "0                             NaN                        NaN   \n",
       "0                        0.056455                   0.794596   \n",
       "\n",
       "   perf_grp_selection rate_1  perf_grp_count_0  perf_grp_count_1  \n",
       "0                        NaN               NaN               NaN  \n",
       "0                   0.880671           20540.0           69170.0  \n",
       "0                        NaN               NaN               NaN  \n",
       "0                   0.736750           20540.0           69170.0  \n",
       "\n",
       "[4 rows x 50 columns]"
      ]
     },
     "execution_count": 66,
     "metadata": {},
     "output_type": "execute_result"
    }
   ],
   "source": [
    "final_output = universe_analysis.generate_final_output(\n",
    "    y_pred_prob=probs_test,\n",
    "    y_test=y_true,\n",
    "    org_test=org_test,\n",
    "    filter_data=filter_sub_universe_data,\n",
    "    cp_metrics_df=cp_metrics_df,\n",
    "    save=True,\n",
    ")\n",
    "final_output"
   ]
  }
 ],
 "metadata": {
  "celltoolbar": "Tags",
  "kernelspec": {
   "display_name": "Python (CMA Fairness)",
   "language": "python",
   "name": "cma_fair_env"
  },
  "language_info": {
   "codemirror_mode": {
    "name": "ipython",
    "version": 3
   },
   "file_extension": ".py",
   "mimetype": "text/x-python",
   "name": "python",
   "nbconvert_exporter": "python",
   "pygments_lexer": "ipython3",
   "version": "3.10.12"
  },
  "papermill": {
   "default_parameters": {},
   "duration": 41.544491,
   "end_time": "2025-08-05T15:25:37.769677",
   "environment_variables": {},
   "exception": null,
   "input_path": "universe_analysis.ipynb",
   "output_path": "output/runs/15/notebooks/m_15-3c9743cf38e93c1900e102acc50d0ebf.ipynb",
   "parameters": {
    "output_dir": "output",
    "run_no": "15",
    "seed": "2023",
    "universe": "{\"cutoff\": [\"quantile_0.1\", \"quantile_0.25\"], \"eval_fairness_grouping\": [\"majority-minority\", \"nationality-all\"], \"exclude_features\": \"sex\", \"exclude_subgroups\": \"keep-all\", \"model\": \"gbm\", \"scale\": \"scale\", \"training_size\": \"5k\", \"training_year\": \"2014\"}",
    "universe_id": "3c9743cf38e93c1900e102acc50d0ebf"
   },
   "start_time": "2025-08-05T15:24:56.225186",
   "version": "2.6.0"
  }
 },
 "nbformat": 4,
 "nbformat_minor": 5
}