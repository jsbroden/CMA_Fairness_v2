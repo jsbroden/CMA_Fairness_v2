{
 "cells": [
  {
   "cell_type": "code",
   "execution_count": 1,
   "id": "f159f837-637b-42ba-96b5-ec9a68c44524",
   "metadata": {
    "execution": {
     "iopub.execute_input": "2025-08-05T16:18:16.329579Z",
     "iopub.status.busy": "2025-08-05T16:18:16.329032Z",
     "iopub.status.idle": "2025-08-05T16:18:16.345961Z",
     "shell.execute_reply": "2025-08-05T16:18:16.344538Z"
    },
    "papermill": {
     "duration": 0.041696,
     "end_time": "2025-08-05T16:18:16.347915",
     "exception": false,
     "start_time": "2025-08-05T16:18:16.306219",
     "status": "completed"
    },
    "tags": []
   },
   "outputs": [
    {
     "name": "stdout",
     "output_type": "stream",
     "text": [
      "/dss/dsshome1/0C/ra93lal2/cma/CMA_Fairness_v2\n"
     ]
    },
    {
     "name": "stderr",
     "output_type": "stream",
     "text": [
      "/dss/dsshome1/0C/ra93lal2/.local/share/virtualenvs/CMA_Fairness_v2-3j10GkSs/lib/python3.10/site-packages/IPython/core/magics/osm.py:393: UserWarning: This is now an optional IPython functionality, using bookmarks requires you to install the `pickleshare` library.\n",
      "  bkms = self.shell.db.get('bookmarks', {})\n",
      "/dss/dsshome1/0C/ra93lal2/.local/share/virtualenvs/CMA_Fairness_v2-3j10GkSs/lib/python3.10/site-packages/IPython/core/magics/osm.py:417: UserWarning: This is now an optional IPython functionality, setting dhist requires you to install the `pickleshare` library.\n",
      "  self.shell.db['dhist'] = compress_dhist(dhist)[-100:]\n"
     ]
    }
   ],
   "source": [
    "%cd ~/cma/CMA_Fairness_v2"
   ]
  },
  {
   "cell_type": "markdown",
   "id": "de2603b9",
   "metadata": {
    "papermill": {
     "duration": 0.020487,
     "end_time": "2025-08-05T16:18:16.388620",
     "exception": false,
     "start_time": "2025-08-05T16:18:16.368133",
     "status": "completed"
    },
    "tags": []
   },
   "source": [
    "The following cell holds the definition of our parameters, these values can be overriden by rendering the with e.g. the following command:\n",
    "\n",
    "papermill -p alpha 0.2 -p ratio 0.3 universe_analysis.ipynb output/test_run.ipynb"
   ]
  },
  {
   "cell_type": "code",
   "execution_count": 2,
   "id": "a80968a0-40bb-4fa9-85ef-2d5eefb01975",
   "metadata": {
    "execution": {
     "iopub.execute_input": "2025-08-05T16:18:16.430064Z",
     "iopub.status.busy": "2025-08-05T16:18:16.429216Z",
     "iopub.status.idle": "2025-08-05T16:18:16.435758Z",
     "shell.execute_reply": "2025-08-05T16:18:16.434504Z"
    },
    "papermill": {
     "duration": 0.029023,
     "end_time": "2025-08-05T16:18:16.437759",
     "exception": false,
     "start_time": "2025-08-05T16:18:16.408736",
     "status": "completed"
    },
    "tags": []
   },
   "outputs": [
    {
     "name": "stdout",
     "output_type": "stream",
     "text": [
      "Current working directory: /dss/dsshome1/0C/ra93lal2/cma/CMA_Fairness_v2\n"
     ]
    }
   ],
   "source": [
    "import os\n",
    "print(\"Current working directory:\", os.getcwd())"
   ]
  },
  {
   "cell_type": "code",
   "execution_count": 3,
   "id": "2dce4c03",
   "metadata": {
    "execution": {
     "iopub.execute_input": "2025-08-05T16:18:16.480774Z",
     "iopub.status.busy": "2025-08-05T16:18:16.479990Z",
     "iopub.status.idle": "2025-08-05T16:18:16.487037Z",
     "shell.execute_reply": "2025-08-05T16:18:16.485978Z"
    },
    "papermill": {
     "duration": 0.030523,
     "end_time": "2025-08-05T16:18:16.488883",
     "exception": false,
     "start_time": "2025-08-05T16:18:16.458360",
     "status": "completed"
    },
    "tags": [
     "parameters"
    ]
   },
   "outputs": [],
   "source": [
    "run_no = 0\n",
    "universe_id = \"test\"\n",
    "universe = {\n",
    "    \"training_size\": \"25k\", # \"25k\", \"5k\", \"1k\"\n",
    "    \"training_year\": \"2014\", # \"2014\", \"2012_14\", \"2010_14\"\n",
    "    \"scale\": \"scale\", # \"scale\", \"do-not-scale\",\n",
    "    \"model\": \"elasticnet\", # \"logreg\", \"penalized_logreg\", \"rf\", \"gbm\", \"elasticnet\"\n",
    "    \"cutoff\": [\"quantile_0.15\", \"quantile_0.30\"],\n",
    "    \"exclude_features\": \"age\", # \"none\", \"nationality\", \"sex\", \"nationality-sex\", \"age\"\n",
    "    \"exclude_subgroups\": \"keep-all\", # \"keep-all\", \"drop-non-german\"\n",
    "    \"eval_fairness_grouping\": [\"majority-minority\", \"nationality-all\"]\n",
    "}\n",
    "\n",
    "output_dir=\"./output\"\n",
    "seed=0"
   ]
  },
  {
   "cell_type": "code",
   "execution_count": 4,
   "id": "cec4ecf4",
   "metadata": {
    "execution": {
     "iopub.execute_input": "2025-08-05T16:18:16.531431Z",
     "iopub.status.busy": "2025-08-05T16:18:16.530888Z",
     "iopub.status.idle": "2025-08-05T16:18:16.537083Z",
     "shell.execute_reply": "2025-08-05T16:18:16.535860Z"
    },
    "papermill": {
     "duration": 0.030256,
     "end_time": "2025-08-05T16:18:16.539009",
     "exception": false,
     "start_time": "2025-08-05T16:18:16.508753",
     "status": "completed"
    },
    "tags": [
     "injected-parameters"
    ]
   },
   "outputs": [],
   "source": [
    "# Parameters\n",
    "universe_id = \"9a5563ee2a4c156ad52a3eb2cc64dd99\"\n",
    "run_no = \"15\"\n",
    "universe = \"{\\\"cutoff\\\": [\\\"quantile_0.1\\\", \\\"quantile_0.25\\\"], \\\"eval_fairness_grouping\\\": [\\\"majority-minority\\\", \\\"nationality-all\\\"], \\\"exclude_features\\\": \\\"none\\\", \\\"exclude_subgroups\\\": \\\"keep-all\\\", \\\"model\\\": \\\"rf\\\", \\\"scale\\\": \\\"scale\\\", \\\"training_size\\\": \\\"1k\\\", \\\"training_year\\\": \\\"2012_14\\\"}\"\n",
    "output_dir = \"output\"\n",
    "seed = \"2023\"\n"
   ]
  },
  {
   "cell_type": "code",
   "execution_count": 5,
   "id": "1650acaf",
   "metadata": {
    "execution": {
     "iopub.execute_input": "2025-08-05T16:18:16.624532Z",
     "iopub.status.busy": "2025-08-05T16:18:16.623518Z",
     "iopub.status.idle": "2025-08-05T16:18:16.629554Z",
     "shell.execute_reply": "2025-08-05T16:18:16.628389Z"
    },
    "papermill": {
     "duration": 0.030462,
     "end_time": "2025-08-05T16:18:16.631611",
     "exception": false,
     "start_time": "2025-08-05T16:18:16.601149",
     "status": "completed"
    },
    "tags": []
   },
   "outputs": [],
   "source": [
    "import json\n",
    "if isinstance(universe, str):\n",
    "    universe = json.loads(universe)"
   ]
  },
  {
   "cell_type": "code",
   "execution_count": 6,
   "id": "16620c48",
   "metadata": {
    "execution": {
     "iopub.execute_input": "2025-08-05T16:18:16.679655Z",
     "iopub.status.busy": "2025-08-05T16:18:16.679279Z",
     "iopub.status.idle": "2025-08-05T16:18:16.732795Z",
     "shell.execute_reply": "2025-08-05T16:18:16.731654Z"
    },
    "papermill": {
     "duration": 0.07984,
     "end_time": "2025-08-05T16:18:16.735018",
     "exception": false,
     "start_time": "2025-08-05T16:18:16.655178",
     "status": "completed"
    },
    "tags": []
   },
   "outputs": [],
   "source": [
    "# Auto-reload the custom package\n",
    "%load_ext autoreload\n",
    "%autoreload 1\n",
    "%aimport fairness_multiverse"
   ]
  },
  {
   "cell_type": "code",
   "execution_count": 7,
   "id": "01c5c9f3",
   "metadata": {
    "execution": {
     "iopub.execute_input": "2025-08-05T16:18:16.784253Z",
     "iopub.status.busy": "2025-08-05T16:18:16.783419Z",
     "iopub.status.idle": "2025-08-05T16:18:18.926658Z",
     "shell.execute_reply": "2025-08-05T16:18:18.925432Z"
    },
    "papermill": {
     "duration": 2.170191,
     "end_time": "2025-08-05T16:18:18.929260",
     "exception": false,
     "start_time": "2025-08-05T16:18:16.759069",
     "status": "completed"
    },
    "tags": []
   },
   "outputs": [],
   "source": [
    "from fairness_multiverse.universe import UniverseAnalysis\n",
    "\n",
    "universe_analysis = UniverseAnalysis(\n",
    "    run_no = run_no,\n",
    "    universe_id = universe_id,\n",
    "    universe = universe,\n",
    "    output_dir=output_dir,\n",
    ")"
   ]
  },
  {
   "cell_type": "code",
   "execution_count": 8,
   "id": "106241f5",
   "metadata": {
    "execution": {
     "iopub.execute_input": "2025-08-05T16:18:18.971782Z",
     "iopub.status.busy": "2025-08-05T16:18:18.971036Z",
     "iopub.status.idle": "2025-08-05T16:18:18.978561Z",
     "shell.execute_reply": "2025-08-05T16:18:18.977481Z"
    },
    "papermill": {
     "duration": 0.02971,
     "end_time": "2025-08-05T16:18:18.980383",
     "exception": false,
     "start_time": "2025-08-05T16:18:18.950673",
     "status": "completed"
    },
    "tags": []
   },
   "outputs": [
    {
     "name": "stdout",
     "output_type": "stream",
     "text": [
      "Using Seed: 2023\n"
     ]
    }
   ],
   "source": [
    "import numpy as np\n",
    "parsed_seed = int(seed)\n",
    "np.random.seed(parsed_seed)\n",
    "print(f\"Using Seed: {parsed_seed}\")"
   ]
  },
  {
   "cell_type": "markdown",
   "id": "e0ebdc57",
   "metadata": {
    "papermill": {
     "duration": 0.019452,
     "end_time": "2025-08-05T16:18:19.019354",
     "exception": false,
     "start_time": "2025-08-05T16:18:18.999902",
     "status": "completed"
    },
    "tags": []
   },
   "source": [
    "# Loading Data"
   ]
  },
  {
   "cell_type": "code",
   "execution_count": 9,
   "id": "f0496b8a",
   "metadata": {
    "execution": {
     "iopub.execute_input": "2025-08-05T16:18:19.060979Z",
     "iopub.status.busy": "2025-08-05T16:18:19.060059Z",
     "iopub.status.idle": "2025-08-05T16:18:33.075665Z",
     "shell.execute_reply": "2025-08-05T16:18:33.074409Z"
    },
    "papermill": {
     "duration": 14.038093,
     "end_time": "2025-08-05T16:18:33.077225",
     "exception": false,
     "start_time": "2025-08-05T16:18:19.039132",
     "status": "completed"
    },
    "tags": []
   },
   "outputs": [
    {
     "name": "stdout",
     "output_type": "stream",
     "text": [
      "Loading SIAB data from cache: data/siab_cached.csv.gz\n"
     ]
    },
    {
     "name": "stdout",
     "output_type": "stream",
     "text": [
      "(643690, 164)\n"
     ]
    }
   ],
   "source": [
    "from pathlib import Path\n",
    "import pandas as pd\n",
    "\n",
    "# File paths\n",
    "raw_file = Path(\"data/raw/siab.csv\")\n",
    "cache_file = Path(\"data/siab_cached.csv.gz\")\n",
    "\n",
    "# Ensure cache directory exists\n",
    "cache_file.parent.mkdir(parents=True, exist_ok=True)\n",
    "\n",
    "# Load with simple caching\n",
    "if cache_file.exists():\n",
    "    print(f\"Loading SIAB data from cache: {cache_file}\")\n",
    "    siab = pd.read_csv(cache_file, compression='gzip')\n",
    "else:\n",
    "    print(f\"Cache not found. Reading raw SIAB data: {raw_file}\")\n",
    "    siab = pd.read_csv(raw_file)\n",
    "    siab.to_csv(cache_file, index=False, compression='gzip')\n",
    "    print(f\"Cached SIAB data to: {cache_file}\")\n",
    "\n",
    "print(siab.shape)"
   ]
  },
  {
   "cell_type": "code",
   "execution_count": 10,
   "id": "db0ca512-5f53-4dba-abdb-a2888bca41ba",
   "metadata": {
    "execution": {
     "iopub.execute_input": "2025-08-05T16:18:33.107061Z",
     "iopub.status.busy": "2025-08-05T16:18:33.106679Z",
     "iopub.status.idle": "2025-08-05T16:18:33.112504Z",
     "shell.execute_reply": "2025-08-05T16:18:33.111588Z"
    },
    "papermill": {
     "duration": 0.020633,
     "end_time": "2025-08-05T16:18:33.114421",
     "exception": false,
     "start_time": "2025-08-05T16:18:33.093788",
     "status": "completed"
    },
    "tags": []
   },
   "outputs": [],
   "source": [
    "#siab"
   ]
  },
  {
   "cell_type": "markdown",
   "id": "997051c5-15bd-4b69-9786-c3001a3ce484",
   "metadata": {
    "papermill": {
     "duration": 0.02283,
     "end_time": "2025-08-05T16:18:33.161021",
     "exception": false,
     "start_time": "2025-08-05T16:18:33.138191",
     "status": "completed"
    },
    "tags": []
   },
   "source": [
    "# Splitting Data and Setting Training Data Size"
   ]
  },
  {
   "cell_type": "code",
   "execution_count": 11,
   "id": "aea9c6ef-6f46-42c8-85eb-5a62025c1508",
   "metadata": {
    "execution": {
     "iopub.execute_input": "2025-08-05T16:18:33.208230Z",
     "iopub.status.busy": "2025-08-05T16:18:33.207611Z",
     "iopub.status.idle": "2025-08-05T16:18:33.853752Z",
     "shell.execute_reply": "2025-08-05T16:18:33.852475Z"
    },
    "papermill": {
     "duration": 0.671835,
     "end_time": "2025-08-05T16:18:33.856051",
     "exception": false,
     "start_time": "2025-08-05T16:18:33.184216",
     "status": "completed"
    },
    "tags": []
   },
   "outputs": [],
   "source": [
    "from fairness_multiverse.universe import sample_by_year_size\n",
    "\n",
    "siab_train = sample_by_year_size(siab,\n",
    "                               training_year=universe[\"training_year\"],\n",
    "                               training_size=universe[\"training_size\"])"
   ]
  },
  {
   "cell_type": "code",
   "execution_count": 12,
   "id": "8d3afb32-789d-442c-8d5d-9f5aa8dd2eed",
   "metadata": {
    "execution": {
     "iopub.execute_input": "2025-08-05T16:18:33.904746Z",
     "iopub.status.busy": "2025-08-05T16:18:33.904192Z",
     "iopub.status.idle": "2025-08-05T16:18:33.910472Z",
     "shell.execute_reply": "2025-08-05T16:18:33.909247Z"
    },
    "papermill": {
     "duration": 0.034628,
     "end_time": "2025-08-05T16:18:33.912547",
     "exception": false,
     "start_time": "2025-08-05T16:18:33.877919",
     "status": "completed"
    },
    "tags": []
   },
   "outputs": [],
   "source": [
    "#siab_train.shape"
   ]
  },
  {
   "cell_type": "code",
   "execution_count": 13,
   "id": "d582db68-1a4c-47fb-84fc-08518dc1975a",
   "metadata": {
    "execution": {
     "iopub.execute_input": "2025-08-05T16:18:33.961956Z",
     "iopub.status.busy": "2025-08-05T16:18:33.961175Z",
     "iopub.status.idle": "2025-08-05T16:18:33.966798Z",
     "shell.execute_reply": "2025-08-05T16:18:33.965635Z"
    },
    "papermill": {
     "duration": 0.032273,
     "end_time": "2025-08-05T16:18:33.968724",
     "exception": false,
     "start_time": "2025-08-05T16:18:33.936451",
     "status": "completed"
    },
    "tags": []
   },
   "outputs": [],
   "source": [
    "#display(siab_train.groupby(\"year\").size())"
   ]
  },
  {
   "cell_type": "code",
   "execution_count": 14,
   "id": "a561edb4-d032-42cb-8256-22eac1111c64",
   "metadata": {
    "execution": {
     "iopub.execute_input": "2025-08-05T16:18:34.014640Z",
     "iopub.status.busy": "2025-08-05T16:18:34.014147Z",
     "iopub.status.idle": "2025-08-05T16:18:34.235749Z",
     "shell.execute_reply": "2025-08-05T16:18:34.234820Z"
    },
    "papermill": {
     "duration": 0.247191,
     "end_time": "2025-08-05T16:18:34.237846",
     "exception": false,
     "start_time": "2025-08-05T16:18:33.990655",
     "status": "completed"
    },
    "tags": []
   },
   "outputs": [],
   "source": [
    "#siab_train = siab_s[siab_s.year < 2015]\n",
    "siab_calib = siab[siab.year == 2015]\n",
    "siab_test = siab[siab.year == 2016]"
   ]
  },
  {
   "cell_type": "code",
   "execution_count": 15,
   "id": "472de16f-c3db-4916-846b-1f0de9cf1746",
   "metadata": {
    "execution": {
     "iopub.execute_input": "2025-08-05T16:18:34.281681Z",
     "iopub.status.busy": "2025-08-05T16:18:34.280946Z",
     "iopub.status.idle": "2025-08-05T16:18:34.288150Z",
     "shell.execute_reply": "2025-08-05T16:18:34.287150Z"
    },
    "papermill": {
     "duration": 0.029618,
     "end_time": "2025-08-05T16:18:34.289693",
     "exception": false,
     "start_time": "2025-08-05T16:18:34.260075",
     "status": "completed"
    },
    "tags": []
   },
   "outputs": [],
   "source": [
    "X_train = siab_train.iloc[:,4:164]\n",
    "y_train = siab_train.iloc[:, [3]]"
   ]
  },
  {
   "cell_type": "code",
   "execution_count": 16,
   "id": "828c96af-f43a-4ed6-ba47-8ac73a47d56c",
   "metadata": {
    "execution": {
     "iopub.execute_input": "2025-08-05T16:18:34.314086Z",
     "iopub.status.busy": "2025-08-05T16:18:34.313621Z",
     "iopub.status.idle": "2025-08-05T16:18:34.364994Z",
     "shell.execute_reply": "2025-08-05T16:18:34.363927Z"
    },
    "papermill": {
     "duration": 0.06517,
     "end_time": "2025-08-05T16:18:34.366580",
     "exception": false,
     "start_time": "2025-08-05T16:18:34.301410",
     "status": "completed"
    },
    "tags": []
   },
   "outputs": [],
   "source": [
    "X_calib = siab_calib.iloc[:,4:164]\n",
    "y_calib = siab_calib.iloc[:, [3]]"
   ]
  },
  {
   "cell_type": "code",
   "execution_count": 17,
   "id": "c34be9c3-6bd6-476e-acd3-845840e303be",
   "metadata": {
    "execution": {
     "iopub.execute_input": "2025-08-05T16:18:34.391736Z",
     "iopub.status.busy": "2025-08-05T16:18:34.391131Z",
     "iopub.status.idle": "2025-08-05T16:18:34.447025Z",
     "shell.execute_reply": "2025-08-05T16:18:34.446044Z"
    },
    "papermill": {
     "duration": 0.069449,
     "end_time": "2025-08-05T16:18:34.448533",
     "exception": false,
     "start_time": "2025-08-05T16:18:34.379084",
     "status": "completed"
    },
    "tags": []
   },
   "outputs": [],
   "source": [
    "X_test = siab_test.iloc[:,4:164]\n",
    "y_true = siab_test.iloc[:, [3]]"
   ]
  },
  {
   "cell_type": "code",
   "execution_count": 18,
   "id": "e6c733c5",
   "metadata": {
    "execution": {
     "iopub.execute_input": "2025-08-05T16:18:34.498332Z",
     "iopub.status.busy": "2025-08-05T16:18:34.497282Z",
     "iopub.status.idle": "2025-08-05T16:18:34.593846Z",
     "shell.execute_reply": "2025-08-05T16:18:34.592918Z"
    },
    "papermill": {
     "duration": 0.123841,
     "end_time": "2025-08-05T16:18:34.596130",
     "exception": false,
     "start_time": "2025-08-05T16:18:34.472289",
     "status": "completed"
    },
    "tags": []
   },
   "outputs": [],
   "source": [
    "# Auxiliary data needed downstream in the pipeline\n",
    "\n",
    "org_train = X_train.copy()\n",
    "org_test = X_test.copy()\n",
    "org_calib = X_calib.copy()"
   ]
  },
  {
   "cell_type": "markdown",
   "id": "0a4a1b33",
   "metadata": {
    "papermill": {
     "duration": 0.024832,
     "end_time": "2025-08-05T16:18:34.646660",
     "exception": false,
     "start_time": "2025-08-05T16:18:34.621828",
     "status": "completed"
    },
    "tags": []
   },
   "source": [
    "# Preprocessing Data"
   ]
  },
  {
   "cell_type": "code",
   "execution_count": 19,
   "id": "ca879031",
   "metadata": {
    "execution": {
     "iopub.execute_input": "2025-08-05T16:18:34.696517Z",
     "iopub.status.busy": "2025-08-05T16:18:34.694332Z",
     "iopub.status.idle": "2025-08-05T16:18:34.702715Z",
     "shell.execute_reply": "2025-08-05T16:18:34.701568Z"
    },
    "papermill": {
     "duration": 0.033954,
     "end_time": "2025-08-05T16:18:34.704731",
     "exception": false,
     "start_time": "2025-08-05T16:18:34.670777",
     "status": "completed"
    },
    "tags": []
   },
   "outputs": [],
   "source": [
    "# EXCLUDE PROTECTED FEATURES\n",
    "# ----------------------\n",
    "# \"exclude_features\": \"none\", # \"nationality\", \"sex\", \"nationality-sex\"\n",
    "\n",
    "excluded_features = universe[\"exclude_features\"].split(\"-\") # split, e.g.: \"nationality-sex\" -> [\"nationality\", \"sex\"]\n",
    "excluded_features_dictionary = {\n",
    "    \"nationality\": [\"maxdeutsch1\", \"maxdeutsch.Missing.\"],\n",
    "    \"sex\": [\"frau1\"],\n",
    "    \"age\": [\"age\"],\n",
    "}"
   ]
  },
  {
   "cell_type": "code",
   "execution_count": 20,
   "id": "b745ac60",
   "metadata": {
    "execution": {
     "iopub.execute_input": "2025-08-05T16:18:34.749328Z",
     "iopub.status.busy": "2025-08-05T16:18:34.748640Z",
     "iopub.status.idle": "2025-08-05T16:18:34.756035Z",
     "shell.execute_reply": "2025-08-05T16:18:34.754820Z"
    },
    "papermill": {
     "duration": 0.032183,
     "end_time": "2025-08-05T16:18:34.758326",
     "exception": false,
     "start_time": "2025-08-05T16:18:34.726143",
     "status": "completed"
    },
    "tags": []
   },
   "outputs": [],
   "source": [
    "# Code nice names to column names\n",
    "\n",
    "excluded_features_columns = [\n",
    "    excluded_features_dictionary[f] for f in excluded_features if len(f) > 0 and f != \"none\"\n",
    "]"
   ]
  },
  {
   "cell_type": "code",
   "execution_count": 21,
   "id": "f84f73a2",
   "metadata": {
    "execution": {
     "iopub.execute_input": "2025-08-05T16:18:34.805180Z",
     "iopub.status.busy": "2025-08-05T16:18:34.804609Z",
     "iopub.status.idle": "2025-08-05T16:18:34.812611Z",
     "shell.execute_reply": "2025-08-05T16:18:34.811389Z"
    },
    "papermill": {
     "duration": 0.033772,
     "end_time": "2025-08-05T16:18:34.814468",
     "exception": false,
     "start_time": "2025-08-05T16:18:34.780696",
     "status": "completed"
    },
    "tags": []
   },
   "outputs": [],
   "source": [
    "from utils import flatten_once\n",
    "\n",
    "excluded_features_columns = flatten_once(excluded_features_columns)"
   ]
  },
  {
   "cell_type": "code",
   "execution_count": 22,
   "id": "884dea22",
   "metadata": {
    "execution": {
     "iopub.execute_input": "2025-08-05T16:18:34.861679Z",
     "iopub.status.busy": "2025-08-05T16:18:34.860750Z",
     "iopub.status.idle": "2025-08-05T16:18:34.867639Z",
     "shell.execute_reply": "2025-08-05T16:18:34.866482Z"
    },
    "papermill": {
     "duration": 0.032794,
     "end_time": "2025-08-05T16:18:34.869591",
     "exception": false,
     "start_time": "2025-08-05T16:18:34.836797",
     "status": "completed"
    },
    "tags": []
   },
   "outputs": [],
   "source": [
    "if len(excluded_features_columns) > 0:\n",
    "    print(f\"Dropping features: {excluded_features_columns}\")\n",
    "    X_train.drop(excluded_features_columns, axis=1, inplace=True)"
   ]
  },
  {
   "cell_type": "code",
   "execution_count": 23,
   "id": "95ab8b16",
   "metadata": {
    "execution": {
     "iopub.execute_input": "2025-08-05T16:18:34.917927Z",
     "iopub.status.busy": "2025-08-05T16:18:34.916805Z",
     "iopub.status.idle": "2025-08-05T16:18:34.923685Z",
     "shell.execute_reply": "2025-08-05T16:18:34.922532Z"
    },
    "papermill": {
     "duration": 0.03309,
     "end_time": "2025-08-05T16:18:34.925561",
     "exception": false,
     "start_time": "2025-08-05T16:18:34.892471",
     "status": "completed"
    },
    "tags": []
   },
   "outputs": [],
   "source": [
    "if len(excluded_features_columns) > 0:\n",
    "    print(f\"Dropping features: {excluded_features_columns}\")\n",
    "    X_test.drop(excluded_features_columns, axis=1, inplace=True)"
   ]
  },
  {
   "cell_type": "code",
   "execution_count": 24,
   "id": "1853aaf5-fb9f-46cb-a2b5-8ea4ae2237e4",
   "metadata": {
    "execution": {
     "iopub.execute_input": "2025-08-05T16:18:34.973343Z",
     "iopub.status.busy": "2025-08-05T16:18:34.972609Z",
     "iopub.status.idle": "2025-08-05T16:18:34.979591Z",
     "shell.execute_reply": "2025-08-05T16:18:34.978422Z"
    },
    "papermill": {
     "duration": 0.032991,
     "end_time": "2025-08-05T16:18:34.981462",
     "exception": false,
     "start_time": "2025-08-05T16:18:34.948471",
     "status": "completed"
    },
    "tags": []
   },
   "outputs": [],
   "source": [
    "if len(excluded_features_columns) > 0:\n",
    "    print(f\"Dropping features: {excluded_features_columns}\")\n",
    "    X_calib.drop(excluded_features_columns, axis=1, inplace=True)"
   ]
  },
  {
   "cell_type": "code",
   "execution_count": 25,
   "id": "76c4dc6d",
   "metadata": {
    "execution": {
     "iopub.execute_input": "2025-08-05T16:18:35.030409Z",
     "iopub.status.busy": "2025-08-05T16:18:35.029405Z",
     "iopub.status.idle": "2025-08-05T16:18:35.036073Z",
     "shell.execute_reply": "2025-08-05T16:18:35.034951Z"
    },
    "papermill": {
     "duration": 0.033522,
     "end_time": "2025-08-05T16:18:35.038062",
     "exception": false,
     "start_time": "2025-08-05T16:18:35.004540",
     "status": "completed"
    },
    "tags": []
   },
   "outputs": [],
   "source": [
    "# EXCLUDE CERTAIN SUBGROUPS\n",
    "# ----------------------\n",
    "\n",
    "mode = universe.get(\"exclude_subgroups\", \"keep-all\") \n",
    "# Fetches the exclude_subgroups setting from the universe dict.\n",
    "# Defaults to \"keep-all\" if the key is missing."
   ]
  },
  {
   "cell_type": "code",
   "execution_count": 26,
   "id": "21994072",
   "metadata": {
    "execution": {
     "iopub.execute_input": "2025-08-05T16:18:35.064784Z",
     "iopub.status.busy": "2025-08-05T16:18:35.064313Z",
     "iopub.status.idle": "2025-08-05T16:18:35.070036Z",
     "shell.execute_reply": "2025-08-05T16:18:35.069171Z"
    },
    "papermill": {
     "duration": 0.019507,
     "end_time": "2025-08-05T16:18:35.071544",
     "exception": false,
     "start_time": "2025-08-05T16:18:35.052037",
     "status": "completed"
    },
    "tags": []
   },
   "outputs": [],
   "source": [
    "if mode == \"keep-all\":\n",
    "    keep_mask = pd.Series(True, index=org_train.index)\n",
    "\n",
    "# org_train contains the original feature columns from features_org (in Simson)\n",
    "# features_org contains unprocessed features, for me X_train at beginning ???\n",
    "# For keep-all, creates a boolean Series (keep_mask) of all True, so no rows are removed.\n",
    "\n",
    "elif mode == \"drop-non-german\":\n",
    "    keep_mask = org_train[\"maxdeutsch1\"] == 1 # ??? what about missing values?\n",
    "\n",
    "else:\n",
    "    raise ValueError(f\"Unsupported mode for exclude_subgroups: {mode}\")"
   ]
  },
  {
   "cell_type": "code",
   "execution_count": 27,
   "id": "71651440",
   "metadata": {
    "execution": {
     "iopub.execute_input": "2025-08-05T16:18:35.104558Z",
     "iopub.status.busy": "2025-08-05T16:18:35.104198Z",
     "iopub.status.idle": "2025-08-05T16:18:35.110360Z",
     "shell.execute_reply": "2025-08-05T16:18:35.109294Z"
    },
    "papermill": {
     "duration": 0.029026,
     "end_time": "2025-08-05T16:18:35.112346",
     "exception": false,
     "start_time": "2025-08-05T16:18:35.083320",
     "status": "completed"
    },
    "tags": []
   },
   "outputs": [],
   "source": [
    "n_drop = (~keep_mask).sum() # Calculates how many rows are set to be dropped\n",
    "if n_drop > 0:\n",
    "    pct = n_drop / len(keep_mask) * 100\n",
    "    print(f\"Dropping {n_drop} rows ({pct:.2f}%) where mode='{mode}'\")"
   ]
  },
  {
   "cell_type": "code",
   "execution_count": 28,
   "id": "5fb8eee5",
   "metadata": {
    "execution": {
     "iopub.execute_input": "2025-08-05T16:18:35.159031Z",
     "iopub.status.busy": "2025-08-05T16:18:35.158199Z",
     "iopub.status.idle": "2025-08-05T16:18:35.165312Z",
     "shell.execute_reply": "2025-08-05T16:18:35.164197Z"
    },
    "papermill": {
     "duration": 0.032753,
     "end_time": "2025-08-05T16:18:35.167199",
     "exception": false,
     "start_time": "2025-08-05T16:18:35.134446",
     "status": "completed"
    },
    "tags": []
   },
   "outputs": [],
   "source": [
    "X_train = X_train[keep_mask]"
   ]
  },
  {
   "cell_type": "code",
   "execution_count": 29,
   "id": "b202bb3a",
   "metadata": {
    "execution": {
     "iopub.execute_input": "2025-08-05T16:18:35.213736Z",
     "iopub.status.busy": "2025-08-05T16:18:35.213132Z",
     "iopub.status.idle": "2025-08-05T16:18:35.220726Z",
     "shell.execute_reply": "2025-08-05T16:18:35.219574Z"
    },
    "papermill": {
     "duration": 0.033507,
     "end_time": "2025-08-05T16:18:35.222883",
     "exception": false,
     "start_time": "2025-08-05T16:18:35.189376",
     "status": "completed"
    },
    "tags": []
   },
   "outputs": [],
   "source": [
    "y_train = y_train[keep_mask]"
   ]
  },
  {
   "cell_type": "markdown",
   "id": "493e2ac3",
   "metadata": {
    "papermill": {
     "duration": 0.023514,
     "end_time": "2025-08-05T16:18:35.271124",
     "exception": false,
     "start_time": "2025-08-05T16:18:35.247610",
     "status": "completed"
    },
    "tags": []
   },
   "source": [
    "# Model Training"
   ]
  },
  {
   "cell_type": "code",
   "execution_count": 30,
   "id": "679e1268",
   "metadata": {
    "execution": {
     "iopub.execute_input": "2025-08-05T16:18:35.319030Z",
     "iopub.status.busy": "2025-08-05T16:18:35.318336Z",
     "iopub.status.idle": "2025-08-05T16:18:35.468069Z",
     "shell.execute_reply": "2025-08-05T16:18:35.466782Z"
    },
    "papermill": {
     "duration": 0.178483,
     "end_time": "2025-08-05T16:18:35.470497",
     "exception": false,
     "start_time": "2025-08-05T16:18:35.292014",
     "status": "completed"
    },
    "tags": []
   },
   "outputs": [],
   "source": [
    "from sklearn.linear_model import LogisticRegression\n",
    "from sklearn.ensemble import GradientBoostingClassifier, RandomForestClassifier\n",
    "\n",
    "if (universe[\"model\"] == \"logreg\"):\n",
    "    model = LogisticRegression() #penalty=\"none\", solver=\"newton-cg\", max_iter=1) # include random_state=19 ?\n",
    "elif (universe[\"model\"] == \"penalized_logreg\"):\n",
    "    model = LogisticRegression(penalty=\"l2\", C=0.1) #, solver=\"newton-cg\", max_iter=1)\n",
    "elif (universe[\"model\"] == \"rf\"):\n",
    "    model = RandomForestClassifier() # n_estimators=100, n_jobs=-1\n",
    "elif (universe[\"model\"] == \"gbm\"):\n",
    "    model = GradientBoostingClassifier()\n",
    "elif (universe[\"model\"] == \"elasticnet\"):\n",
    "    model = LogisticRegression(penalty = 'elasticnet', solver = 'saga', l1_ratio = 0.5) # max_iter=5000\n",
    "else:\n",
    "    raise \"Unsupported universe.model\""
   ]
  },
  {
   "cell_type": "code",
   "execution_count": 31,
   "id": "0cc8f744",
   "metadata": {
    "execution": {
     "iopub.execute_input": "2025-08-05T16:18:35.523223Z",
     "iopub.status.busy": "2025-08-05T16:18:35.522146Z",
     "iopub.status.idle": "2025-08-05T16:18:35.530155Z",
     "shell.execute_reply": "2025-08-05T16:18:35.528821Z"
    },
    "papermill": {
     "duration": 0.035967,
     "end_time": "2025-08-05T16:18:35.532230",
     "exception": false,
     "start_time": "2025-08-05T16:18:35.496263",
     "status": "completed"
    },
    "tags": []
   },
   "outputs": [],
   "source": [
    "import numpy as np\n",
    "from sklearn.pipeline import Pipeline\n",
    "from sklearn.preprocessing import StandardScaler\n",
    "\n",
    "model = Pipeline([\n",
    "    #(\"continuous_processor\", continuous_processor),\n",
    "    #(\"categorical_preprocessor\", categorical_preprocessor),\n",
    "    (\"scale\", StandardScaler() if universe[\"scale\"] == \"scale\" else None), \n",
    "    (\"model\", model),\n",
    "])"
   ]
  },
  {
   "cell_type": "code",
   "execution_count": 32,
   "id": "9442c04d",
   "metadata": {
    "execution": {
     "iopub.execute_input": "2025-08-05T16:18:35.585304Z",
     "iopub.status.busy": "2025-08-05T16:18:35.584635Z",
     "iopub.status.idle": "2025-08-05T16:18:36.108957Z",
     "shell.execute_reply": "2025-08-05T16:18:36.107900Z"
    },
    "papermill": {
     "duration": 0.552287,
     "end_time": "2025-08-05T16:18:36.111149",
     "exception": false,
     "start_time": "2025-08-05T16:18:35.558862",
     "status": "completed"
    },
    "tags": []
   },
   "outputs": [
    {
     "data": {
      "text/html": [
       "<style>#sk-container-id-1 {color: black;background-color: white;}#sk-container-id-1 pre{padding: 0;}#sk-container-id-1 div.sk-toggleable {background-color: white;}#sk-container-id-1 label.sk-toggleable__label {cursor: pointer;display: block;width: 100%;margin-bottom: 0;padding: 0.3em;box-sizing: border-box;text-align: center;}#sk-container-id-1 label.sk-toggleable__label-arrow:before {content: \"▸\";float: left;margin-right: 0.25em;color: #696969;}#sk-container-id-1 label.sk-toggleable__label-arrow:hover:before {color: black;}#sk-container-id-1 div.sk-estimator:hover label.sk-toggleable__label-arrow:before {color: black;}#sk-container-id-1 div.sk-toggleable__content {max-height: 0;max-width: 0;overflow: hidden;text-align: left;background-color: #f0f8ff;}#sk-container-id-1 div.sk-toggleable__content pre {margin: 0.2em;color: black;border-radius: 0.25em;background-color: #f0f8ff;}#sk-container-id-1 input.sk-toggleable__control:checked~div.sk-toggleable__content {max-height: 200px;max-width: 100%;overflow: auto;}#sk-container-id-1 input.sk-toggleable__control:checked~label.sk-toggleable__label-arrow:before {content: \"▾\";}#sk-container-id-1 div.sk-estimator input.sk-toggleable__control:checked~label.sk-toggleable__label {background-color: #d4ebff;}#sk-container-id-1 div.sk-label input.sk-toggleable__control:checked~label.sk-toggleable__label {background-color: #d4ebff;}#sk-container-id-1 input.sk-hidden--visually {border: 0;clip: rect(1px 1px 1px 1px);clip: rect(1px, 1px, 1px, 1px);height: 1px;margin: -1px;overflow: hidden;padding: 0;position: absolute;width: 1px;}#sk-container-id-1 div.sk-estimator {font-family: monospace;background-color: #f0f8ff;border: 1px dotted black;border-radius: 0.25em;box-sizing: border-box;margin-bottom: 0.5em;}#sk-container-id-1 div.sk-estimator:hover {background-color: #d4ebff;}#sk-container-id-1 div.sk-parallel-item::after {content: \"\";width: 100%;border-bottom: 1px solid gray;flex-grow: 1;}#sk-container-id-1 div.sk-label:hover label.sk-toggleable__label {background-color: #d4ebff;}#sk-container-id-1 div.sk-serial::before {content: \"\";position: absolute;border-left: 1px solid gray;box-sizing: border-box;top: 0;bottom: 0;left: 50%;z-index: 0;}#sk-container-id-1 div.sk-serial {display: flex;flex-direction: column;align-items: center;background-color: white;padding-right: 0.2em;padding-left: 0.2em;position: relative;}#sk-container-id-1 div.sk-item {position: relative;z-index: 1;}#sk-container-id-1 div.sk-parallel {display: flex;align-items: stretch;justify-content: center;background-color: white;position: relative;}#sk-container-id-1 div.sk-item::before, #sk-container-id-1 div.sk-parallel-item::before {content: \"\";position: absolute;border-left: 1px solid gray;box-sizing: border-box;top: 0;bottom: 0;left: 50%;z-index: -1;}#sk-container-id-1 div.sk-parallel-item {display: flex;flex-direction: column;z-index: 1;position: relative;background-color: white;}#sk-container-id-1 div.sk-parallel-item:first-child::after {align-self: flex-end;width: 50%;}#sk-container-id-1 div.sk-parallel-item:last-child::after {align-self: flex-start;width: 50%;}#sk-container-id-1 div.sk-parallel-item:only-child::after {width: 0;}#sk-container-id-1 div.sk-dashed-wrapped {border: 1px dashed gray;margin: 0 0.4em 0.5em 0.4em;box-sizing: border-box;padding-bottom: 0.4em;background-color: white;}#sk-container-id-1 div.sk-label label {font-family: monospace;font-weight: bold;display: inline-block;line-height: 1.2em;}#sk-container-id-1 div.sk-label-container {text-align: center;}#sk-container-id-1 div.sk-container {/* jupyter's `normalize.less` sets `[hidden] { display: none; }` but bootstrap.min.css set `[hidden] { display: none !important; }` so we also need the `!important` here to be able to override the default hidden behavior on the sphinx rendered scikit-learn.org. See: https://github.com/scikit-learn/scikit-learn/issues/21755 */display: inline-block !important;position: relative;}#sk-container-id-1 div.sk-text-repr-fallback {display: none;}</style><div id=\"sk-container-id-1\" class=\"sk-top-container\"><div class=\"sk-text-repr-fallback\"><pre>Pipeline(steps=[(&#x27;scale&#x27;, StandardScaler()),\n",
       "                (&#x27;model&#x27;, RandomForestClassifier())])</pre><b>In a Jupyter environment, please rerun this cell to show the HTML representation or trust the notebook. <br />On GitHub, the HTML representation is unable to render, please try loading this page with nbviewer.org.</b></div><div class=\"sk-container\" hidden><div class=\"sk-item sk-dashed-wrapped\"><div class=\"sk-label-container\"><div class=\"sk-label sk-toggleable\"><input class=\"sk-toggleable__control sk-hidden--visually\" id=\"sk-estimator-id-1\" type=\"checkbox\" ><label for=\"sk-estimator-id-1\" class=\"sk-toggleable__label sk-toggleable__label-arrow\">Pipeline</label><div class=\"sk-toggleable__content\"><pre>Pipeline(steps=[(&#x27;scale&#x27;, StandardScaler()),\n",
       "                (&#x27;model&#x27;, RandomForestClassifier())])</pre></div></div></div><div class=\"sk-serial\"><div class=\"sk-item\"><div class=\"sk-estimator sk-toggleable\"><input class=\"sk-toggleable__control sk-hidden--visually\" id=\"sk-estimator-id-2\" type=\"checkbox\" ><label for=\"sk-estimator-id-2\" class=\"sk-toggleable__label sk-toggleable__label-arrow\">StandardScaler</label><div class=\"sk-toggleable__content\"><pre>StandardScaler()</pre></div></div></div><div class=\"sk-item\"><div class=\"sk-estimator sk-toggleable\"><input class=\"sk-toggleable__control sk-hidden--visually\" id=\"sk-estimator-id-3\" type=\"checkbox\" ><label for=\"sk-estimator-id-3\" class=\"sk-toggleable__label sk-toggleable__label-arrow\">RandomForestClassifier</label><div class=\"sk-toggleable__content\"><pre>RandomForestClassifier()</pre></div></div></div></div></div></div></div>"
      ],
      "text/plain": [
       "Pipeline(steps=[('scale', StandardScaler()),\n",
       "                ('model', RandomForestClassifier())])"
      ]
     },
     "execution_count": 32,
     "metadata": {},
     "output_type": "execute_result"
    }
   ],
   "source": [
    "model.fit(X_train, y_train.values.ravel())"
   ]
  },
  {
   "cell_type": "code",
   "execution_count": 33,
   "id": "af59f8c0",
   "metadata": {
    "execution": {
     "iopub.execute_input": "2025-08-05T16:18:36.165458Z",
     "iopub.status.busy": "2025-08-05T16:18:36.164395Z",
     "iopub.status.idle": "2025-08-05T16:18:36.171069Z",
     "shell.execute_reply": "2025-08-05T16:18:36.169724Z"
    },
    "papermill": {
     "duration": 0.035357,
     "end_time": "2025-08-05T16:18:36.173168",
     "exception": false,
     "start_time": "2025-08-05T16:18:36.137811",
     "status": "completed"
    },
    "tags": []
   },
   "outputs": [],
   "source": [
    "from fairness_multiverse.universe import predict_w_threshold"
   ]
  },
  {
   "cell_type": "code",
   "execution_count": 34,
   "id": "a7cf2e16",
   "metadata": {
    "execution": {
     "iopub.execute_input": "2025-08-05T16:18:36.227477Z",
     "iopub.status.busy": "2025-08-05T16:18:36.226571Z",
     "iopub.status.idle": "2025-08-05T16:18:38.289099Z",
     "shell.execute_reply": "2025-08-05T16:18:38.287931Z"
    },
    "papermill": {
     "duration": 2.092669,
     "end_time": "2025-08-05T16:18:38.291243",
     "exception": false,
     "start_time": "2025-08-05T16:18:36.198574",
     "status": "completed"
    },
    "tags": []
   },
   "outputs": [
    {
     "data": {
      "text/plain": [
       "0.8626017166425147"
      ]
     },
     "execution_count": 34,
     "metadata": {},
     "output_type": "execute_result"
    }
   ],
   "source": [
    "probs_test = model.predict_proba(X_test)\n",
    "\n",
    "'''\n",
    "Below code returns a boolean array (or binary 0/1 array depending on how it’s used) where each element \n",
    "is True if the probability of class 1 is greater than or equal to the threshold, and False otherwise.\n",
    "'''\n",
    "y_pred_default = predict_w_threshold(probs_test, 0.5)\n",
    "\n",
    "from sklearn.metrics import accuracy_score\n",
    "\n",
    "# Naive prediction\n",
    "accuracy_score(y_true = y_true, y_pred = y_pred_default)"
   ]
  },
  {
   "cell_type": "code",
   "execution_count": 35,
   "id": "081964c3",
   "metadata": {
    "execution": {
     "iopub.execute_input": "2025-08-05T16:18:38.347528Z",
     "iopub.status.busy": "2025-08-05T16:18:38.346701Z",
     "iopub.status.idle": "2025-08-05T16:18:40.415748Z",
     "shell.execute_reply": "2025-08-05T16:18:40.414519Z"
    },
    "papermill": {
     "duration": 2.09908,
     "end_time": "2025-08-05T16:18:40.418438",
     "exception": false,
     "start_time": "2025-08-05T16:18:38.319358",
     "status": "completed"
    },
    "tags": []
   },
   "outputs": [
    {
     "data": {
      "text/plain": [
       "array([0, 0, 0, ..., 0, 0, 0])"
      ]
     },
     "execution_count": 35,
     "metadata": {},
     "output_type": "execute_result"
    }
   ],
   "source": [
    "model.predict(X_test)"
   ]
  },
  {
   "cell_type": "markdown",
   "id": "56c9705b",
   "metadata": {
    "papermill": {
     "duration": 0.026288,
     "end_time": "2025-08-05T16:18:40.472635",
     "exception": false,
     "start_time": "2025-08-05T16:18:40.446347",
     "status": "completed"
    },
    "tags": []
   },
   "source": [
    "# Conformal Prediction"
   ]
  },
  {
   "cell_type": "code",
   "execution_count": 36,
   "id": "160ec6ff",
   "metadata": {
    "execution": {
     "iopub.execute_input": "2025-08-05T16:18:40.529545Z",
     "iopub.status.busy": "2025-08-05T16:18:40.528306Z",
     "iopub.status.idle": "2025-08-05T16:18:40.534737Z",
     "shell.execute_reply": "2025-08-05T16:18:40.533535Z"
    },
    "papermill": {
     "duration": 0.037009,
     "end_time": "2025-08-05T16:18:40.536749",
     "exception": false,
     "start_time": "2025-08-05T16:18:40.499740",
     "status": "completed"
    },
    "tags": []
   },
   "outputs": [],
   "source": [
    "# Miscoverage level for conformal prediction (10% allowed error rate => 90% target coverage)\n",
    "alpha = 0.1"
   ]
  },
  {
   "cell_type": "code",
   "execution_count": 37,
   "id": "eadf4555-3dd3-440e-8e35-f82a4ad9f855",
   "metadata": {
    "execution": {
     "iopub.execute_input": "2025-08-05T16:18:40.592559Z",
     "iopub.status.busy": "2025-08-05T16:18:40.591793Z",
     "iopub.status.idle": "2025-08-05T16:18:42.581395Z",
     "shell.execute_reply": "2025-08-05T16:18:42.580175Z"
    },
    "papermill": {
     "duration": 2.020679,
     "end_time": "2025-08-05T16:18:42.583845",
     "exception": false,
     "start_time": "2025-08-05T16:18:40.563166",
     "status": "completed"
    },
    "tags": []
   },
   "outputs": [],
   "source": [
    "probs_calib = model.predict_proba(X_calib)"
   ]
  },
  {
   "cell_type": "code",
   "execution_count": 38,
   "id": "2ed93547-6d5d-4983-9b36-1ecb300da49a",
   "metadata": {
    "execution": {
     "iopub.execute_input": "2025-08-05T16:18:42.635691Z",
     "iopub.status.busy": "2025-08-05T16:18:42.634704Z",
     "iopub.status.idle": "2025-08-05T16:18:42.641192Z",
     "shell.execute_reply": "2025-08-05T16:18:42.640168Z"
    },
    "papermill": {
     "duration": 0.033127,
     "end_time": "2025-08-05T16:18:42.643140",
     "exception": false,
     "start_time": "2025-08-05T16:18:42.610013",
     "status": "completed"
    },
    "tags": []
   },
   "outputs": [],
   "source": [
    "y_calib = y_calib.values.ravel().astype(int)"
   ]
  },
  {
   "cell_type": "code",
   "execution_count": 39,
   "id": "65d1320d-f588-4b38-9072-62af1ae97f7d",
   "metadata": {
    "execution": {
     "iopub.execute_input": "2025-08-05T16:18:42.694857Z",
     "iopub.status.busy": "2025-08-05T16:18:42.693708Z",
     "iopub.status.idle": "2025-08-05T16:18:42.702247Z",
     "shell.execute_reply": "2025-08-05T16:18:42.701106Z"
    },
    "papermill": {
     "duration": 0.035823,
     "end_time": "2025-08-05T16:18:42.704008",
     "exception": false,
     "start_time": "2025-08-05T16:18:42.668185",
     "status": "completed"
    },
    "tags": []
   },
   "outputs": [],
   "source": [
    "from fairness_multiverse.conformal import compute_nc_scores\n",
    "\n",
    "# Compute nonconformity scores on calibration set (1 - probability of true class)\n",
    "nc_scores = compute_nc_scores(probs_calib, y_calib)"
   ]
  },
  {
   "cell_type": "code",
   "execution_count": 40,
   "id": "df3b8ca3-53b7-43d5-9667-7c85da7aeda2",
   "metadata": {
    "execution": {
     "iopub.execute_input": "2025-08-05T16:18:42.754504Z",
     "iopub.status.busy": "2025-08-05T16:18:42.753261Z",
     "iopub.status.idle": "2025-08-05T16:18:42.761296Z",
     "shell.execute_reply": "2025-08-05T16:18:42.760180Z"
    },
    "papermill": {
     "duration": 0.03556,
     "end_time": "2025-08-05T16:18:42.763249",
     "exception": false,
     "start_time": "2025-08-05T16:18:42.727689",
     "status": "completed"
    },
    "tags": []
   },
   "outputs": [],
   "source": [
    "from fairness_multiverse.conformal import find_threshold\n",
    "\n",
    "# Find conformal threshold q_hat for the given alpha (split conformal method)\n",
    "q_hat = find_threshold(nc_scores, alpha)"
   ]
  },
  {
   "cell_type": "code",
   "execution_count": 41,
   "id": "4d29e6c1-0ef6-4aa4-b8fe-4fe79b0d033a",
   "metadata": {
    "execution": {
     "iopub.execute_input": "2025-08-05T16:18:42.812622Z",
     "iopub.status.busy": "2025-08-05T16:18:42.811981Z",
     "iopub.status.idle": "2025-08-05T16:18:42.820925Z",
     "shell.execute_reply": "2025-08-05T16:18:42.819778Z"
    },
    "papermill": {
     "duration": 0.03565,
     "end_time": "2025-08-05T16:18:42.822925",
     "exception": false,
     "start_time": "2025-08-05T16:18:42.787275",
     "status": "completed"
    },
    "tags": []
   },
   "outputs": [
    {
     "data": {
      "text/plain": [
       "0.6699999999999999"
      ]
     },
     "execution_count": 41,
     "metadata": {},
     "output_type": "execute_result"
    }
   ],
   "source": [
    "q_hat"
   ]
  },
  {
   "cell_type": "code",
   "execution_count": 42,
   "id": "92460794-cdac-4be2-ba28-f28c0515a6fb",
   "metadata": {
    "execution": {
     "iopub.execute_input": "2025-08-05T16:18:42.874170Z",
     "iopub.status.busy": "2025-08-05T16:18:42.873233Z",
     "iopub.status.idle": "2025-08-05T16:18:45.853360Z",
     "shell.execute_reply": "2025-08-05T16:18:45.852094Z"
    },
    "papermill": {
     "duration": 3.008141,
     "end_time": "2025-08-05T16:18:45.856100",
     "exception": false,
     "start_time": "2025-08-05T16:18:42.847959",
     "status": "completed"
    },
    "tags": []
   },
   "outputs": [],
   "source": [
    "from fairness_multiverse.conformal import predict_conformal_sets\n",
    "\n",
    "# Generate prediction sets for each test example\n",
    "pred_sets = predict_conformal_sets(model, X_test, q_hat)"
   ]
  },
  {
   "cell_type": "code",
   "execution_count": 43,
   "id": "d90c9a65-e6db-4f5d-80cd-e68fb7e46829",
   "metadata": {
    "execution": {
     "iopub.execute_input": "2025-08-05T16:18:45.928373Z",
     "iopub.status.busy": "2025-08-05T16:18:45.927279Z",
     "iopub.status.idle": "2025-08-05T16:18:45.935520Z",
     "shell.execute_reply": "2025-08-05T16:18:45.934052Z"
    },
    "papermill": {
     "duration": 0.047219,
     "end_time": "2025-08-05T16:18:45.938335",
     "exception": false,
     "start_time": "2025-08-05T16:18:45.891116",
     "status": "completed"
    },
    "tags": []
   },
   "outputs": [],
   "source": [
    "y_true = y_true.squeeze()"
   ]
  },
  {
   "cell_type": "code",
   "execution_count": 44,
   "id": "3a58a54a-1e68-46b9-927a-df01f18aebc8",
   "metadata": {
    "execution": {
     "iopub.execute_input": "2025-08-05T16:18:46.010702Z",
     "iopub.status.busy": "2025-08-05T16:18:46.009813Z",
     "iopub.status.idle": "2025-08-05T16:18:47.637294Z",
     "shell.execute_reply": "2025-08-05T16:18:47.635909Z"
    },
    "papermill": {
     "duration": 1.666366,
     "end_time": "2025-08-05T16:18:47.639695",
     "exception": false,
     "start_time": "2025-08-05T16:18:45.973329",
     "status": "completed"
    },
    "tags": []
   },
   "outputs": [],
   "source": [
    "from fairness_multiverse.conformal import evaluate_sets\n",
    "\n",
    "# Evaluate coverage and average set size on test data\n",
    "metrics = evaluate_sets(pred_sets, y_true)"
   ]
  },
  {
   "cell_type": "markdown",
   "id": "2b569c12-9aaa-4c88-98c9-bbcd0cf3ebb8",
   "metadata": {
    "papermill": {
     "duration": 0.013681,
     "end_time": "2025-08-05T16:18:47.676618",
     "exception": false,
     "start_time": "2025-08-05T16:18:47.662937",
     "status": "completed"
    },
    "tags": []
   },
   "source": [
    "# CP Metrics"
   ]
  },
  {
   "cell_type": "code",
   "execution_count": 45,
   "id": "5ce0a5cb-201f-45a0-ade5-94c7f0bd6095",
   "metadata": {
    "execution": {
     "iopub.execute_input": "2025-08-05T16:18:47.705763Z",
     "iopub.status.busy": "2025-08-05T16:18:47.705154Z",
     "iopub.status.idle": "2025-08-05T16:18:47.713489Z",
     "shell.execute_reply": "2025-08-05T16:18:47.712364Z"
    },
    "papermill": {
     "duration": 0.024975,
     "end_time": "2025-08-05T16:18:47.715108",
     "exception": false,
     "start_time": "2025-08-05T16:18:47.690133",
     "status": "completed"
    },
    "tags": []
   },
   "outputs": [
    {
     "data": {
      "text/plain": [
       "{'coverage': 0.9162746628023631, 'avg_size': 1.1570504960428045}"
      ]
     },
     "execution_count": 45,
     "metadata": {},
     "output_type": "execute_result"
    }
   ],
   "source": [
    "metrics"
   ]
  },
  {
   "cell_type": "code",
   "execution_count": 46,
   "id": "9b9a838d-31c9-430b-ae14-12baee460d17",
   "metadata": {
    "execution": {
     "iopub.execute_input": "2025-08-05T16:18:47.744640Z",
     "iopub.status.busy": "2025-08-05T16:18:47.743808Z",
     "iopub.status.idle": "2025-08-05T16:18:47.750189Z",
     "shell.execute_reply": "2025-08-05T16:18:47.749351Z"
    },
    "papermill": {
     "duration": 0.022598,
     "end_time": "2025-08-05T16:18:47.751781",
     "exception": false,
     "start_time": "2025-08-05T16:18:47.729183",
     "status": "completed"
    },
    "tags": []
   },
   "outputs": [],
   "source": [
    "example_universe = universe.copy()\n",
    "universe_training_year = example_universe.get(\"training_year\")\n",
    "universe_training_size = example_universe.get(\"training_size\")\n",
    "universe_scale = example_universe.get(\"scale\")\n",
    "universe_model = example_universe.get(\"model\")\n",
    "universe_exclude_features = example_universe.get(\"exclude_features\")\n",
    "universe_exclude_subgroups = example_universe.get(\"exclude_subgroups\")"
   ]
  },
  {
   "cell_type": "code",
   "execution_count": 47,
   "id": "f4b6a8ac-9dc0-4245-8a91-5b3b5999c4f9",
   "metadata": {
    "execution": {
     "iopub.execute_input": "2025-08-05T16:18:47.781861Z",
     "iopub.status.busy": "2025-08-05T16:18:47.780855Z",
     "iopub.status.idle": "2025-08-05T16:18:47.787832Z",
     "shell.execute_reply": "2025-08-05T16:18:47.786972Z"
    },
    "papermill": {
     "duration": 0.023336,
     "end_time": "2025-08-05T16:18:47.789432",
     "exception": false,
     "start_time": "2025-08-05T16:18:47.766096",
     "status": "completed"
    },
    "tags": []
   },
   "outputs": [],
   "source": [
    "cp_metrics_dict = {\n",
    "    \"universe_id\": [universe_id],\n",
    "    \"universe_training_year\": [universe_training_year],\n",
    "    \"universe_training_size\": [universe_training_size],\n",
    "    \"universe_scale\": [universe_scale],\n",
    "    \"universe_model\": [universe_model],\n",
    "    \"universe_exclude_features\": [universe_exclude_features],\n",
    "    \"universe_exclude_subgroups\": [universe_exclude_subgroups],\n",
    "    \"q_hat\": [q_hat],\n",
    "    \"coverage\": [metrics[\"coverage\"]],\n",
    "    \"avg_size\": [metrics[\"avg_size\"]],\n",
    "}"
   ]
  },
  {
   "cell_type": "code",
   "execution_count": 48,
   "id": "908acbb1-0371-4915-85ca-3fa520d2efe2",
   "metadata": {
    "execution": {
     "iopub.execute_input": "2025-08-05T16:18:47.819545Z",
     "iopub.status.busy": "2025-08-05T16:18:47.818500Z",
     "iopub.status.idle": "2025-08-05T16:18:47.826324Z",
     "shell.execute_reply": "2025-08-05T16:18:47.825322Z"
    },
    "papermill": {
     "duration": 0.024347,
     "end_time": "2025-08-05T16:18:47.827990",
     "exception": false,
     "start_time": "2025-08-05T16:18:47.803643",
     "status": "completed"
    },
    "tags": []
   },
   "outputs": [
    {
     "data": {
      "text/plain": [
       "{'universe_id': ['9a5563ee2a4c156ad52a3eb2cc64dd99'],\n",
       " 'universe_training_year': ['2012_14'],\n",
       " 'universe_training_size': ['1k'],\n",
       " 'universe_scale': ['scale'],\n",
       " 'universe_model': ['rf'],\n",
       " 'universe_exclude_features': ['none'],\n",
       " 'universe_exclude_subgroups': ['keep-all'],\n",
       " 'q_hat': [0.6699999999999999],\n",
       " 'coverage': [0.9162746628023631],\n",
       " 'avg_size': [1.1570504960428045]}"
      ]
     },
     "execution_count": 48,
     "metadata": {},
     "output_type": "execute_result"
    }
   ],
   "source": [
    "cp_metrics_dict"
   ]
  },
  {
   "cell_type": "code",
   "execution_count": 49,
   "id": "33007efc-14e9-4ec6-97ac-56a455c82265",
   "metadata": {
    "execution": {
     "iopub.execute_input": "2025-08-05T16:18:47.857964Z",
     "iopub.status.busy": "2025-08-05T16:18:47.857110Z",
     "iopub.status.idle": "2025-08-05T16:18:47.863507Z",
     "shell.execute_reply": "2025-08-05T16:18:47.862673Z"
    },
    "papermill": {
     "duration": 0.022937,
     "end_time": "2025-08-05T16:18:47.865210",
     "exception": false,
     "start_time": "2025-08-05T16:18:47.842273",
     "status": "completed"
    },
    "tags": []
   },
   "outputs": [],
   "source": [
    "cp_metrics_df = pd.DataFrame(cp_metrics_dict)"
   ]
  },
  {
   "cell_type": "code",
   "execution_count": 50,
   "id": "db12611b-57b2-4910-b9d0-355adfd6e7bf",
   "metadata": {
    "execution": {
     "iopub.execute_input": "2025-08-05T16:18:47.895547Z",
     "iopub.status.busy": "2025-08-05T16:18:47.894602Z",
     "iopub.status.idle": "2025-08-05T16:18:47.911241Z",
     "shell.execute_reply": "2025-08-05T16:18:47.910365Z"
    },
    "papermill": {
     "duration": 0.033184,
     "end_time": "2025-08-05T16:18:47.912794",
     "exception": false,
     "start_time": "2025-08-05T16:18:47.879610",
     "status": "completed"
    },
    "tags": []
   },
   "outputs": [
    {
     "data": {
      "text/html": [
       "<div>\n",
       "<style scoped>\n",
       "    .dataframe tbody tr th:only-of-type {\n",
       "        vertical-align: middle;\n",
       "    }\n",
       "\n",
       "    .dataframe tbody tr th {\n",
       "        vertical-align: top;\n",
       "    }\n",
       "\n",
       "    .dataframe thead th {\n",
       "        text-align: right;\n",
       "    }\n",
       "</style>\n",
       "<table border=\"1\" class=\"dataframe\">\n",
       "  <thead>\n",
       "    <tr style=\"text-align: right;\">\n",
       "      <th></th>\n",
       "      <th>universe_id</th>\n",
       "      <th>universe_training_year</th>\n",
       "      <th>universe_training_size</th>\n",
       "      <th>universe_scale</th>\n",
       "      <th>universe_model</th>\n",
       "      <th>universe_exclude_features</th>\n",
       "      <th>universe_exclude_subgroups</th>\n",
       "      <th>q_hat</th>\n",
       "      <th>coverage</th>\n",
       "      <th>avg_size</th>\n",
       "    </tr>\n",
       "  </thead>\n",
       "  <tbody>\n",
       "    <tr>\n",
       "      <th>0</th>\n",
       "      <td>9a5563ee2a4c156ad52a3eb2cc64dd99</td>\n",
       "      <td>2012_14</td>\n",
       "      <td>1k</td>\n",
       "      <td>scale</td>\n",
       "      <td>rf</td>\n",
       "      <td>none</td>\n",
       "      <td>keep-all</td>\n",
       "      <td>0.67</td>\n",
       "      <td>0.916275</td>\n",
       "      <td>1.15705</td>\n",
       "    </tr>\n",
       "  </tbody>\n",
       "</table>\n",
       "</div>"
      ],
      "text/plain": [
       "                        universe_id universe_training_year  \\\n",
       "0  9a5563ee2a4c156ad52a3eb2cc64dd99                2012_14   \n",
       "\n",
       "  universe_training_size universe_scale universe_model  \\\n",
       "0                     1k          scale             rf   \n",
       "\n",
       "  universe_exclude_features universe_exclude_subgroups  q_hat  coverage  \\\n",
       "0                      none                   keep-all   0.67  0.916275   \n",
       "\n",
       "   avg_size  \n",
       "0   1.15705  "
      ]
     },
     "execution_count": 50,
     "metadata": {},
     "output_type": "execute_result"
    }
   ],
   "source": [
    "cp_metrics_df"
   ]
  },
  {
   "cell_type": "code",
   "execution_count": 51,
   "id": "b7fbde55-a0a1-47e4-9af6-fe4a17fa8c61",
   "metadata": {
    "execution": {
     "iopub.execute_input": "2025-08-05T16:18:47.942820Z",
     "iopub.status.busy": "2025-08-05T16:18:47.941984Z",
     "iopub.status.idle": "2025-08-05T16:18:47.947203Z",
     "shell.execute_reply": "2025-08-05T16:18:47.946393Z"
    },
    "papermill": {
     "duration": 0.021536,
     "end_time": "2025-08-05T16:18:47.948776",
     "exception": false,
     "start_time": "2025-08-05T16:18:47.927240",
     "status": "completed"
    },
    "tags": []
   },
   "outputs": [],
   "source": [
    "# Conditional Coverage & looking at subgroups"
   ]
  },
  {
   "cell_type": "code",
   "execution_count": 52,
   "id": "027ae886-68dd-4141-96c7-805a5450e1ef",
   "metadata": {
    "execution": {
     "iopub.execute_input": "2025-08-05T16:18:47.979127Z",
     "iopub.status.busy": "2025-08-05T16:18:47.978652Z",
     "iopub.status.idle": "2025-08-05T16:18:48.233926Z",
     "shell.execute_reply": "2025-08-05T16:18:48.232986Z"
    },
    "papermill": {
     "duration": 0.272106,
     "end_time": "2025-08-05T16:18:48.235645",
     "exception": false,
     "start_time": "2025-08-05T16:18:47.963539",
     "status": "completed"
    },
    "tags": []
   },
   "outputs": [],
   "source": [
    "from fairness_multiverse.conformal import build_cp_groups\n",
    "\n",
    "cp_groups_df = build_cp_groups(pred_sets, y_true, X_test.index, org_test)\n",
    "#needs universe_id and setting"
   ]
  },
  {
   "cell_type": "code",
   "execution_count": 53,
   "id": "6cbdab96-b2b2-45af-ad54-d0516db2e28d",
   "metadata": {
    "execution": {
     "iopub.execute_input": "2025-08-05T16:18:48.266778Z",
     "iopub.status.busy": "2025-08-05T16:18:48.266054Z",
     "iopub.status.idle": "2025-08-05T16:18:50.022129Z",
     "shell.execute_reply": "2025-08-05T16:18:50.021209Z"
    },
    "papermill": {
     "duration": 1.773245,
     "end_time": "2025-08-05T16:18:50.023756",
     "exception": false,
     "start_time": "2025-08-05T16:18:48.250511",
     "status": "completed"
    },
    "tags": []
   },
   "outputs": [],
   "source": [
    "# Define covered = 1 if true_label is in the predicted set\n",
    "cp_groups_df['covered'] = cp_groups_df.apply(\n",
    "    lambda r: int(r['true_label'] in r['pred_set']),\n",
    "    axis=1\n",
    ")"
   ]
  },
  {
   "cell_type": "code",
   "execution_count": 54,
   "id": "338ff529-1a6b-4b87-a931-8e4788d52aad",
   "metadata": {
    "execution": {
     "iopub.execute_input": "2025-08-05T16:18:50.055034Z",
     "iopub.status.busy": "2025-08-05T16:18:50.054159Z",
     "iopub.status.idle": "2025-08-05T16:18:50.059611Z",
     "shell.execute_reply": "2025-08-05T16:18:50.058806Z"
    },
    "papermill": {
     "duration": 0.022335,
     "end_time": "2025-08-05T16:18:50.061210",
     "exception": false,
     "start_time": "2025-08-05T16:18:50.038875",
     "status": "completed"
    },
    "tags": []
   },
   "outputs": [],
   "source": [
    "#cp_groups_df"
   ]
  },
  {
   "cell_type": "code",
   "execution_count": 55,
   "id": "90032e27-66df-4540-9169-4e89cfbaa758",
   "metadata": {
    "execution": {
     "iopub.execute_input": "2025-08-05T16:18:50.091669Z",
     "iopub.status.busy": "2025-08-05T16:18:50.090840Z",
     "iopub.status.idle": "2025-08-05T16:18:50.101188Z",
     "shell.execute_reply": "2025-08-05T16:18:50.100342Z"
    },
    "papermill": {
     "duration": 0.026728,
     "end_time": "2025-08-05T16:18:50.102673",
     "exception": false,
     "start_time": "2025-08-05T16:18:50.075945",
     "status": "completed"
    },
    "tags": []
   },
   "outputs": [],
   "source": [
    "subgroups = ['frau1','nongerman','nongerman_male','nongerman_female']\n",
    "\n",
    "# Conditional coverage for subgroup==1\n",
    "cond_coverage = {\n",
    "    g: cp_groups_df.loc[cp_groups_df[g]==1, 'covered'].mean()\n",
    "    for g in subgroups\n",
    "}"
   ]
  },
  {
   "cell_type": "code",
   "execution_count": 56,
   "id": "1e348fb1-b9c3-45bc-ba23-f016827a7e0d",
   "metadata": {
    "execution": {
     "iopub.execute_input": "2025-08-05T16:18:50.132821Z",
     "iopub.status.busy": "2025-08-05T16:18:50.132000Z",
     "iopub.status.idle": "2025-08-05T16:18:50.139227Z",
     "shell.execute_reply": "2025-08-05T16:18:50.138375Z"
    },
    "papermill": {
     "duration": 0.023551,
     "end_time": "2025-08-05T16:18:50.140744",
     "exception": false,
     "start_time": "2025-08-05T16:18:50.117193",
     "status": "completed"
    },
    "tags": []
   },
   "outputs": [
    {
     "data": {
      "text/plain": [
       "{'frau1': 0.9141932875050546,\n",
       " 'nongerman': 0.906697355863695,\n",
       " 'nongerman_male': 0.924614968927317,\n",
       " 'nongerman_female': 0.8770491803278688}"
      ]
     },
     "execution_count": 56,
     "metadata": {},
     "output_type": "execute_result"
    }
   ],
   "source": [
    "cond_coverage"
   ]
  },
  {
   "cell_type": "code",
   "execution_count": 57,
   "id": "f5093324-c3dd-4d63-bc4c-8d945e5c8bbb",
   "metadata": {
    "execution": {
     "iopub.execute_input": "2025-08-05T16:18:50.197020Z",
     "iopub.status.busy": "2025-08-05T16:18:50.196538Z",
     "iopub.status.idle": "2025-08-05T16:18:50.205632Z",
     "shell.execute_reply": "2025-08-05T16:18:50.204453Z"
    },
    "papermill": {
     "duration": 0.040093,
     "end_time": "2025-08-05T16:18:50.207424",
     "exception": false,
     "start_time": "2025-08-05T16:18:50.167331",
     "status": "completed"
    },
    "tags": []
   },
   "outputs": [],
   "source": [
    "for subgroup, cov in cond_coverage.items():\n",
    "    cp_metrics_df[f\"cov_{subgroup}\"] = cov"
   ]
  },
  {
   "cell_type": "code",
   "execution_count": 58,
   "id": "6e872e10-dbe5-49e8-b554-5030c98ff75d",
   "metadata": {
    "execution": {
     "iopub.execute_input": "2025-08-05T16:18:50.263974Z",
     "iopub.status.busy": "2025-08-05T16:18:50.263336Z",
     "iopub.status.idle": "2025-08-05T16:18:50.280858Z",
     "shell.execute_reply": "2025-08-05T16:18:50.279825Z"
    },
    "papermill": {
     "duration": 0.046882,
     "end_time": "2025-08-05T16:18:50.282557",
     "exception": false,
     "start_time": "2025-08-05T16:18:50.235675",
     "status": "completed"
    },
    "tags": []
   },
   "outputs": [
    {
     "data": {
      "text/html": [
       "<div>\n",
       "<style scoped>\n",
       "    .dataframe tbody tr th:only-of-type {\n",
       "        vertical-align: middle;\n",
       "    }\n",
       "\n",
       "    .dataframe tbody tr th {\n",
       "        vertical-align: top;\n",
       "    }\n",
       "\n",
       "    .dataframe thead th {\n",
       "        text-align: right;\n",
       "    }\n",
       "</style>\n",
       "<table border=\"1\" class=\"dataframe\">\n",
       "  <thead>\n",
       "    <tr style=\"text-align: right;\">\n",
       "      <th></th>\n",
       "      <th>universe_id</th>\n",
       "      <th>universe_training_year</th>\n",
       "      <th>universe_training_size</th>\n",
       "      <th>universe_scale</th>\n",
       "      <th>universe_model</th>\n",
       "      <th>universe_exclude_features</th>\n",
       "      <th>universe_exclude_subgroups</th>\n",
       "      <th>q_hat</th>\n",
       "      <th>coverage</th>\n",
       "      <th>avg_size</th>\n",
       "      <th>cov_frau1</th>\n",
       "      <th>cov_nongerman</th>\n",
       "      <th>cov_nongerman_male</th>\n",
       "      <th>cov_nongerman_female</th>\n",
       "    </tr>\n",
       "  </thead>\n",
       "  <tbody>\n",
       "    <tr>\n",
       "      <th>0</th>\n",
       "      <td>9a5563ee2a4c156ad52a3eb2cc64dd99</td>\n",
       "      <td>2012_14</td>\n",
       "      <td>1k</td>\n",
       "      <td>scale</td>\n",
       "      <td>rf</td>\n",
       "      <td>none</td>\n",
       "      <td>keep-all</td>\n",
       "      <td>0.67</td>\n",
       "      <td>0.916275</td>\n",
       "      <td>1.15705</td>\n",
       "      <td>0.914193</td>\n",
       "      <td>0.906697</td>\n",
       "      <td>0.924615</td>\n",
       "      <td>0.877049</td>\n",
       "    </tr>\n",
       "  </tbody>\n",
       "</table>\n",
       "</div>"
      ],
      "text/plain": [
       "                        universe_id universe_training_year  \\\n",
       "0  9a5563ee2a4c156ad52a3eb2cc64dd99                2012_14   \n",
       "\n",
       "  universe_training_size universe_scale universe_model  \\\n",
       "0                     1k          scale             rf   \n",
       "\n",
       "  universe_exclude_features universe_exclude_subgroups  q_hat  coverage  \\\n",
       "0                      none                   keep-all   0.67  0.916275   \n",
       "\n",
       "   avg_size  cov_frau1  cov_nongerman  cov_nongerman_male  \\\n",
       "0   1.15705   0.914193       0.906697            0.924615   \n",
       "\n",
       "   cov_nongerman_female  \n",
       "0              0.877049  "
      ]
     },
     "execution_count": 58,
     "metadata": {},
     "output_type": "execute_result"
    }
   ],
   "source": [
    "cp_metrics_df"
   ]
  },
  {
   "cell_type": "markdown",
   "id": "33774451",
   "metadata": {
    "papermill": {
     "duration": 0.016493,
     "end_time": "2025-08-05T16:18:50.314142",
     "exception": false,
     "start_time": "2025-08-05T16:18:50.297649",
     "status": "completed"
    },
    "tags": []
   },
   "source": [
    "# (Fairness) Metrics"
   ]
  },
  {
   "cell_type": "code",
   "execution_count": 59,
   "id": "debc5d62",
   "metadata": {
    "execution": {
     "iopub.execute_input": "2025-08-05T16:18:50.343751Z",
     "iopub.status.busy": "2025-08-05T16:18:50.342945Z",
     "iopub.status.idle": "2025-08-05T16:18:50.359052Z",
     "shell.execute_reply": "2025-08-05T16:18:50.358252Z"
    },
    "papermill": {
     "duration": 0.03245,
     "end_time": "2025-08-05T16:18:50.360687",
     "exception": false,
     "start_time": "2025-08-05T16:18:50.328237",
     "status": "completed"
    },
    "tags": []
   },
   "outputs": [],
   "source": [
    "# do I need to include maxdeutsch1.missing?\n",
    "\n",
    "import numpy as np\n",
    "\n",
    "colname_to_bin = \"maxdeutsch1\"\n",
    "majority_value = org_train[colname_to_bin].mode()[0]\n",
    "\n",
    "org_test[\"majmin\"] = np.where(org_test[colname_to_bin] == majority_value, \"majority\", \"minority\")"
   ]
  },
  {
   "cell_type": "code",
   "execution_count": 60,
   "id": "06a50de5",
   "metadata": {
    "execution": {
     "iopub.execute_input": "2025-08-05T16:18:50.390060Z",
     "iopub.status.busy": "2025-08-05T16:18:50.389426Z",
     "iopub.status.idle": "2025-08-05T16:18:53.110720Z",
     "shell.execute_reply": "2025-08-05T16:18:53.109593Z"
    },
    "papermill": {
     "duration": 2.737721,
     "end_time": "2025-08-05T16:18:53.112518",
     "exception": false,
     "start_time": "2025-08-05T16:18:50.374797",
     "status": "completed"
    },
    "tags": []
   },
   "outputs": [],
   "source": [
    "example_universe = universe.copy()\n",
    "example_universe[\"cutoff\"] = example_universe[\"cutoff\"][0]\n",
    "example_universe[\"eval_fairness_grouping\"] = example_universe[\"eval_fairness_grouping\"][0]\n",
    "fairness_dict, metric_frame = universe_analysis.compute_metrics(\n",
    "    example_universe,\n",
    "    y_pred_prob=probs_test,\n",
    "    y_test=y_true,\n",
    "    org_test=org_test,\n",
    ")"
   ]
  },
  {
   "cell_type": "markdown",
   "id": "f95d4e02",
   "metadata": {
    "papermill": {
     "duration": 0.014567,
     "end_time": "2025-08-05T16:18:53.142385",
     "exception": false,
     "start_time": "2025-08-05T16:18:53.127818",
     "status": "completed"
    },
    "tags": []
   },
   "source": [
    "# Overall"
   ]
  },
  {
   "cell_type": "markdown",
   "id": "bdee4871",
   "metadata": {
    "papermill": {
     "duration": 0.014607,
     "end_time": "2025-08-05T16:18:53.171487",
     "exception": false,
     "start_time": "2025-08-05T16:18:53.156880",
     "status": "completed"
    },
    "tags": []
   },
   "source": [
    "Fairness\n",
    "Main fairness target: Equalized Odds. Seems to be a better fit than equal opportunity, since we're not only interested in Y = 1. Seems to be a better fit than demographic parity, since we also care about accuracy, not just equal distribution of preds.\n",
    "\n",
    "Pick column for computation of fairness metrics\n",
    "\n",
    "Performance\n",
    "Overall performance measures, most interesting in relation to the measures split by group below"
   ]
  },
  {
   "cell_type": "code",
   "execution_count": 61,
   "id": "c4e067c6",
   "metadata": {
    "execution": {
     "iopub.execute_input": "2025-08-05T16:18:53.203235Z",
     "iopub.status.busy": "2025-08-05T16:18:53.202237Z",
     "iopub.status.idle": "2025-08-05T16:18:53.211567Z",
     "shell.execute_reply": "2025-08-05T16:18:53.210589Z"
    },
    "papermill": {
     "duration": 0.026795,
     "end_time": "2025-08-05T16:18:53.213157",
     "exception": false,
     "start_time": "2025-08-05T16:18:53.186362",
     "status": "completed"
    },
    "tags": []
   },
   "outputs": [
    {
     "data": {
      "text/plain": [
       "accuracy                   0.194293\n",
       "balanced accuracy          0.530860\n",
       "f1                         0.238501\n",
       "precision                  0.135703\n",
       "false positive rate        0.921856\n",
       "false negative rate        0.016423\n",
       "selection rate             0.929774\n",
       "count                  89710.000000\n",
       "dtype: float64"
      ]
     },
     "execution_count": 61,
     "metadata": {},
     "output_type": "execute_result"
    }
   ],
   "source": [
    "metric_frame.overall"
   ]
  },
  {
   "cell_type": "markdown",
   "id": "e968fe9d",
   "metadata": {
    "papermill": {
     "duration": 0.014828,
     "end_time": "2025-08-05T16:18:53.243275",
     "exception": false,
     "start_time": "2025-08-05T16:18:53.228447",
     "status": "completed"
    },
    "tags": []
   },
   "source": [
    "By Group"
   ]
  },
  {
   "cell_type": "code",
   "execution_count": 62,
   "id": "ec325bce",
   "metadata": {
    "execution": {
     "iopub.execute_input": "2025-08-05T16:18:53.275200Z",
     "iopub.status.busy": "2025-08-05T16:18:53.274374Z",
     "iopub.status.idle": "2025-08-05T16:18:53.289659Z",
     "shell.execute_reply": "2025-08-05T16:18:53.288688Z"
    },
    "papermill": {
     "duration": 0.032796,
     "end_time": "2025-08-05T16:18:53.291245",
     "exception": false,
     "start_time": "2025-08-05T16:18:53.258449",
     "status": "completed"
    },
    "tags": []
   },
   "outputs": [
    {
     "data": {
      "text/html": [
       "<div>\n",
       "<style scoped>\n",
       "    .dataframe tbody tr th:only-of-type {\n",
       "        vertical-align: middle;\n",
       "    }\n",
       "\n",
       "    .dataframe tbody tr th {\n",
       "        vertical-align: top;\n",
       "    }\n",
       "\n",
       "    .dataframe thead th {\n",
       "        text-align: right;\n",
       "    }\n",
       "</style>\n",
       "<table border=\"1\" class=\"dataframe\">\n",
       "  <thead>\n",
       "    <tr style=\"text-align: right;\">\n",
       "      <th></th>\n",
       "      <th>accuracy</th>\n",
       "      <th>balanced accuracy</th>\n",
       "      <th>f1</th>\n",
       "      <th>precision</th>\n",
       "      <th>false positive rate</th>\n",
       "      <th>false negative rate</th>\n",
       "      <th>selection rate</th>\n",
       "      <th>count</th>\n",
       "    </tr>\n",
       "    <tr>\n",
       "      <th>majmin</th>\n",
       "      <th></th>\n",
       "      <th></th>\n",
       "      <th></th>\n",
       "      <th></th>\n",
       "      <th></th>\n",
       "      <th></th>\n",
       "      <th></th>\n",
       "      <th></th>\n",
       "    </tr>\n",
       "  </thead>\n",
       "  <tbody>\n",
       "    <tr>\n",
       "      <th>majority</th>\n",
       "      <td>0.200289</td>\n",
       "      <td>0.534904</td>\n",
       "      <td>0.246458</td>\n",
       "      <td>0.140754</td>\n",
       "      <td>0.919907</td>\n",
       "      <td>0.010284</td>\n",
       "      <td>0.929131</td>\n",
       "      <td>69170.0</td>\n",
       "    </tr>\n",
       "    <tr>\n",
       "      <th>minority</th>\n",
       "      <td>0.174099</td>\n",
       "      <td>0.515793</td>\n",
       "      <td>0.211344</td>\n",
       "      <td>0.118744</td>\n",
       "      <td>0.928296</td>\n",
       "      <td>0.040118</td>\n",
       "      <td>0.931938</td>\n",
       "      <td>20540.0</td>\n",
       "    </tr>\n",
       "  </tbody>\n",
       "</table>\n",
       "</div>"
      ],
      "text/plain": [
       "          accuracy  balanced accuracy        f1  precision  \\\n",
       "majmin                                                       \n",
       "majority  0.200289           0.534904  0.246458   0.140754   \n",
       "minority  0.174099           0.515793  0.211344   0.118744   \n",
       "\n",
       "          false positive rate  false negative rate  selection rate    count  \n",
       "majmin                                                                       \n",
       "majority             0.919907             0.010284        0.929131  69170.0  \n",
       "minority             0.928296             0.040118        0.931938  20540.0  "
      ]
     },
     "execution_count": 62,
     "metadata": {},
     "output_type": "execute_result"
    }
   ],
   "source": [
    "metric_frame.by_group"
   ]
  },
  {
   "cell_type": "code",
   "execution_count": 63,
   "id": "a9ddbe63",
   "metadata": {
    "execution": {
     "iopub.execute_input": "2025-08-05T16:18:53.322886Z",
     "iopub.status.busy": "2025-08-05T16:18:53.322276Z",
     "iopub.status.idle": "2025-08-05T16:18:55.531095Z",
     "shell.execute_reply": "2025-08-05T16:18:55.529992Z"
    },
    "papermill": {
     "duration": 2.226254,
     "end_time": "2025-08-05T16:18:55.533083",
     "exception": false,
     "start_time": "2025-08-05T16:18:53.306829",
     "status": "completed"
    },
    "tags": []
   },
   "outputs": [
    {
     "data": {
      "text/plain": [
       "array([[<Axes: title={'center': 'accuracy'}, xlabel='majmin'>,\n",
       "        <Axes: title={'center': 'balanced accuracy'}, xlabel='majmin'>,\n",
       "        <Axes: title={'center': 'f1'}, xlabel='majmin'>],\n",
       "       [<Axes: title={'center': 'precision'}, xlabel='majmin'>,\n",
       "        <Axes: title={'center': 'false positive rate'}, xlabel='majmin'>,\n",
       "        <Axes: title={'center': 'false negative rate'}, xlabel='majmin'>],\n",
       "       [<Axes: title={'center': 'selection rate'}, xlabel='majmin'>,\n",
       "        <Axes: title={'center': 'count'}, xlabel='majmin'>,\n",
       "        <Axes: xlabel='majmin'>]], dtype=object)"
      ]
     },
     "execution_count": 63,
     "metadata": {},
     "output_type": "execute_result"
    },
    {
     "data": {
      "image/png": "[encoded data removed]",
      "text/plain": [
       "<Figure size 1200x800 with 9 Axes>"
      ]
     },
     "metadata": {},
     "output_type": "display_data"
    }
   ],
   "source": [
    "# In a graphic\n",
    "metric_frame.by_group.plot.bar(\n",
    "    subplots=True,\n",
    "    layout=[3, 3],\n",
    "    legend=False,\n",
    "    figsize=[12, 8],\n",
    "    title=\"Show all metrics\",\n",
    ")"
   ]
  },
  {
   "cell_type": "markdown",
   "id": "f57a0bac",
   "metadata": {
    "papermill": {
     "duration": 0.029952,
     "end_time": "2025-08-05T16:18:55.596402",
     "exception": false,
     "start_time": "2025-08-05T16:18:55.566450",
     "status": "completed"
    },
    "tags": []
   },
   "source": [
    "# Final Output"
   ]
  },
  {
   "cell_type": "code",
   "execution_count": 64,
   "id": "96d280a3",
   "metadata": {
    "execution": {
     "iopub.execute_input": "2025-08-05T16:18:55.674459Z",
     "iopub.status.busy": "2025-08-05T16:18:55.673783Z",
     "iopub.status.idle": "2025-08-05T16:18:55.684463Z",
     "shell.execute_reply": "2025-08-05T16:18:55.683121Z"
    },
    "papermill": {
     "duration": 0.058393,
     "end_time": "2025-08-05T16:18:55.686998",
     "exception": false,
     "start_time": "2025-08-05T16:18:55.628605",
     "status": "completed"
    },
    "tags": []
   },
   "outputs": [
    {
     "data": {
      "text/plain": [
       "4"
      ]
     },
     "execution_count": 64,
     "metadata": {},
     "output_type": "execute_result"
    }
   ],
   "source": [
    "sub_universes = universe_analysis.generate_sub_universes()\n",
    "len(sub_universes)"
   ]
  },
  {
   "cell_type": "code",
   "execution_count": 65,
   "id": "92adf7ba",
   "metadata": {
    "execution": {
     "iopub.execute_input": "2025-08-05T16:18:55.780328Z",
     "iopub.status.busy": "2025-08-05T16:18:55.779744Z",
     "iopub.status.idle": "2025-08-05T16:18:55.787649Z",
     "shell.execute_reply": "2025-08-05T16:18:55.786376Z"
    },
    "papermill": {
     "duration": 0.058634,
     "end_time": "2025-08-05T16:18:55.790096",
     "exception": false,
     "start_time": "2025-08-05T16:18:55.731462",
     "status": "completed"
    },
    "tags": []
   },
   "outputs": [],
   "source": [
    "def filter_sub_universe_data(sub_universe, org_test):\n",
    "    # Keep all rows — no filtering\n",
    "    keep_rows_mask = np.ones(org_test.shape[0], dtype=bool)\n",
    "\n",
    "    print(f\"[INFO] Keeping all rows: {keep_rows_mask.sum()} rows retained.\")\n",
    "    return keep_rows_mask"
   ]
  },
  {
   "cell_type": "code",
   "execution_count": 66,
   "id": "4a759155",
   "metadata": {
    "execution": {
     "iopub.execute_input": "2025-08-05T16:18:55.866865Z",
     "iopub.status.busy": "2025-08-05T16:18:55.866214Z",
     "iopub.status.idle": "2025-08-05T16:19:06.979652Z",
     "shell.execute_reply": "2025-08-05T16:19:06.978757Z"
    },
    "papermill": {
     "duration": 11.148486,
     "end_time": "2025-08-05T16:19:06.981178",
     "exception": false,
     "start_time": "2025-08-05T16:18:55.832692",
     "status": "completed"
    },
    "tags": []
   },
   "outputs": [
    {
     "name": "stdout",
     "output_type": "stream",
     "text": [
      "Stopping execution_time clock.\n",
      "[INFO] Keeping all rows: 89710 rows retained.\n"
     ]
    },
    {
     "name": "stdout",
     "output_type": "stream",
     "text": [
      "[INFO] Keeping all rows: 89710 rows retained.\n"
     ]
    },
    {
     "name": "stdout",
     "output_type": "stream",
     "text": [
      "[INFO] Keeping all rows: 89710 rows retained.\n"
     ]
    },
    {
     "name": "stdout",
     "output_type": "stream",
     "text": [
      "[INFO] Keeping all rows: 89710 rows retained.\n"
     ]
    },
    {
     "data": {
      "text/html": [
       "<div>\n",
       "<style scoped>\n",
       "    .dataframe tbody tr th:only-of-type {\n",
       "        vertical-align: middle;\n",
       "    }\n",
       "\n",
       "    .dataframe tbody tr th {\n",
       "        vertical-align: top;\n",
       "    }\n",
       "\n",
       "    .dataframe thead th {\n",
       "        text-align: right;\n",
       "    }\n",
       "</style>\n",
       "<table border=\"1\" class=\"dataframe\">\n",
       "  <thead>\n",
       "    <tr style=\"text-align: right;\">\n",
       "      <th></th>\n",
       "      <th>run_no</th>\n",
       "      <th>universe_id</th>\n",
       "      <th>universe_settings</th>\n",
       "      <th>execution_time</th>\n",
       "      <th>test_size_n</th>\n",
       "      <th>test_size_frac</th>\n",
       "      <th>fair_main_equalized_odds_difference</th>\n",
       "      <th>fair_main_equalized_odds_ratio</th>\n",
       "      <th>fair_main_demographic_parity_difference</th>\n",
       "      <th>fair_main_demographic_parity_ratio</th>\n",
       "      <th>...</th>\n",
       "      <th>perf_grp_precision_0</th>\n",
       "      <th>perf_grp_precision_1</th>\n",
       "      <th>perf_grp_false positive rate_0</th>\n",
       "      <th>perf_grp_false positive rate_1</th>\n",
       "      <th>perf_grp_false negative rate_0</th>\n",
       "      <th>perf_grp_false negative rate_1</th>\n",
       "      <th>perf_grp_selection rate_0</th>\n",
       "      <th>perf_grp_selection rate_1</th>\n",
       "      <th>perf_grp_count_0</th>\n",
       "      <th>perf_grp_count_1</th>\n",
       "    </tr>\n",
       "  </thead>\n",
       "  <tbody>\n",
       "    <tr>\n",
       "      <th>0</th>\n",
       "      <td>15</td>\n",
       "      <td>9a5563ee2a4c156ad52a3eb2cc64dd99</td>\n",
       "      <td>{\"cutoff\": \"quantile_0.1\", \"eval_fairness_grou...</td>\n",
       "      <td>37.009855</td>\n",
       "      <td>89710</td>\n",
       "      <td>1.0</td>\n",
       "      <td>0.029834</td>\n",
       "      <td>0.969856</td>\n",
       "      <td>0.002807</td>\n",
       "      <td>0.996988</td>\n",
       "      <td>...</td>\n",
       "      <td>NaN</td>\n",
       "      <td>NaN</td>\n",
       "      <td>NaN</td>\n",
       "      <td>NaN</td>\n",
       "      <td>NaN</td>\n",
       "      <td>NaN</td>\n",
       "      <td>NaN</td>\n",
       "      <td>NaN</td>\n",
       "      <td>NaN</td>\n",
       "      <td>NaN</td>\n",
       "    </tr>\n",
       "    <tr>\n",
       "      <th>0</th>\n",
       "      <td>15</td>\n",
       "      <td>9a5563ee2a4c156ad52a3eb2cc64dd99</td>\n",
       "      <td>{\"cutoff\": \"quantile_0.1\", \"eval_fairness_grou...</td>\n",
       "      <td>37.009855</td>\n",
       "      <td>89710</td>\n",
       "      <td>1.0</td>\n",
       "      <td>0.029834</td>\n",
       "      <td>0.969856</td>\n",
       "      <td>0.002807</td>\n",
       "      <td>0.996988</td>\n",
       "      <td>...</td>\n",
       "      <td>0.118744</td>\n",
       "      <td>0.140754</td>\n",
       "      <td>0.928296</td>\n",
       "      <td>0.919907</td>\n",
       "      <td>0.040118</td>\n",
       "      <td>0.010284</td>\n",
       "      <td>0.931938</td>\n",
       "      <td>0.929131</td>\n",
       "      <td>20540.0</td>\n",
       "      <td>69170.0</td>\n",
       "    </tr>\n",
       "    <tr>\n",
       "      <th>0</th>\n",
       "      <td>15</td>\n",
       "      <td>9a5563ee2a4c156ad52a3eb2cc64dd99</td>\n",
       "      <td>{\"cutoff\": \"quantile_0.25\", \"eval_fairness_gro...</td>\n",
       "      <td>37.009855</td>\n",
       "      <td>89710</td>\n",
       "      <td>1.0</td>\n",
       "      <td>0.118422</td>\n",
       "      <td>0.874667</td>\n",
       "      <td>0.030450</td>\n",
       "      <td>0.960813</td>\n",
       "      <td>...</td>\n",
       "      <td>NaN</td>\n",
       "      <td>NaN</td>\n",
       "      <td>NaN</td>\n",
       "      <td>NaN</td>\n",
       "      <td>NaN</td>\n",
       "      <td>NaN</td>\n",
       "      <td>NaN</td>\n",
       "      <td>NaN</td>\n",
       "      <td>NaN</td>\n",
       "      <td>NaN</td>\n",
       "    </tr>\n",
       "    <tr>\n",
       "      <th>0</th>\n",
       "      <td>15</td>\n",
       "      <td>9a5563ee2a4c156ad52a3eb2cc64dd99</td>\n",
       "      <td>{\"cutoff\": \"quantile_0.25\", \"eval_fairness_gro...</td>\n",
       "      <td>37.009855</td>\n",
       "      <td>89710</td>\n",
       "      <td>1.0</td>\n",
       "      <td>0.118422</td>\n",
       "      <td>0.874667</td>\n",
       "      <td>0.030450</td>\n",
       "      <td>0.960813</td>\n",
       "      <td>...</td>\n",
       "      <td>0.127617</td>\n",
       "      <td>0.160676</td>\n",
       "      <td>0.736188</td>\n",
       "      <td>0.751491</td>\n",
       "      <td>0.173564</td>\n",
       "      <td>0.055142</td>\n",
       "      <td>0.746592</td>\n",
       "      <td>0.777042</td>\n",
       "      <td>20540.0</td>\n",
       "      <td>69170.0</td>\n",
       "    </tr>\n",
       "  </tbody>\n",
       "</table>\n",
       "<p>4 rows × 50 columns</p>\n",
       "</div>"
      ],
      "text/plain": [
       "  run_no                       universe_id  \\\n",
       "0     15  9a5563ee2a4c156ad52a3eb2cc64dd99   \n",
       "0     15  9a5563ee2a4c156ad52a3eb2cc64dd99   \n",
       "0     15  9a5563ee2a4c156ad52a3eb2cc64dd99   \n",
       "0     15  9a5563ee2a4c156ad52a3eb2cc64dd99   \n",
       "\n",
       "                                   universe_settings  execution_time  \\\n",
       "0  {\"cutoff\": \"quantile_0.1\", \"eval_fairness_grou...       37.009855   \n",
       "0  {\"cutoff\": \"quantile_0.1\", \"eval_fairness_grou...       37.009855   \n",
       "0  {\"cutoff\": \"quantile_0.25\", \"eval_fairness_gro...       37.009855   \n",
       "0  {\"cutoff\": \"quantile_0.25\", \"eval_fairness_gro...       37.009855   \n",
       "\n",
       "   test_size_n  test_size_frac  fair_main_equalized_odds_difference  \\\n",
       "0        89710             1.0                             0.029834   \n",
       "0        89710             1.0                             0.029834   \n",
       "0        89710             1.0                             0.118422   \n",
       "0        89710             1.0                             0.118422   \n",
       "\n",
       "   fair_main_equalized_odds_ratio  fair_main_demographic_parity_difference  \\\n",
       "0                        0.969856                                 0.002807   \n",
       "0                        0.969856                                 0.002807   \n",
       "0                        0.874667                                 0.030450   \n",
       "0                        0.874667                                 0.030450   \n",
       "\n",
       "   fair_main_demographic_parity_ratio  ...  perf_grp_precision_0  \\\n",
       "0                            0.996988  ...                   NaN   \n",
       "0                            0.996988  ...              0.118744   \n",
       "0                            0.960813  ...                   NaN   \n",
       "0                            0.960813  ...              0.127617   \n",
       "\n",
       "   perf_grp_precision_1  perf_grp_false positive rate_0  \\\n",
       "0                   NaN                             NaN   \n",
       "0              0.140754                        0.928296   \n",
       "0                   NaN                             NaN   \n",
       "0              0.160676                        0.736188   \n",
       "\n",
       "   perf_grp_false positive rate_1  perf_grp_false negative rate_0  \\\n",
       "0                             NaN                             NaN   \n",
       "0                        0.919907                        0.040118   \n",
       "0                             NaN                             NaN   \n",
       "0                        0.751491                        0.173564   \n",
       "\n",
       "   perf_grp_false negative rate_1  perf_grp_selection rate_0  \\\n",
       "0                             NaN                        NaN   \n",
       "0                        0.010284                   0.931938   \n",
       "0                             NaN                        NaN   \n",
       "0                        0.055142                   0.746592   \n",
       "\n",
       "   perf_grp_selection rate_1  perf_grp_count_0  perf_grp_count_1  \n",
       "0                        NaN               NaN               NaN  \n",
       "0                   0.929131           20540.0           69170.0  \n",
       "0                        NaN               NaN               NaN  \n",
       "0                   0.777042           20540.0           69170.0  \n",
       "\n",
       "[4 rows x 50 columns]"
      ]
     },
     "execution_count": 66,
     "metadata": {},
     "output_type": "execute_result"
    }
   ],
   "source": [
    "final_output = universe_analysis.generate_final_output(\n",
    "    y_pred_prob=probs_test,\n",
    "    y_test=y_true,\n",
    "    org_test=org_test,\n",
    "    filter_data=filter_sub_universe_data,\n",
    "    cp_metrics_df=cp_metrics_df,\n",
    "    save=True,\n",
    ")\n",
    "final_output"
   ]
  }
 ],
 "metadata": {
  "celltoolbar": "Tags",
  "kernelspec": {
   "display_name": "Python (CMA Fairness)",
   "language": "python",
   "name": "cma_fair_env"
  },
  "language_info": {
   "codemirror_mode": {
    "name": "ipython",
    "version": 3
   },
   "file_extension": ".py",
   "mimetype": "text/x-python",
   "name": "python",
   "nbconvert_exporter": "python",
   "pygments_lexer": "ipython3",
   "version": "3.10.12"
  },
  "papermill": {
   "default_parameters": {},
   "duration": 52.643928,
   "end_time": "2025-08-05T16:19:07.619630",
   "environment_variables": {},
   "exception": null,
   "input_path": "universe_analysis.ipynb",
   "output_path": "output/runs/15/notebooks/m_15-9a5563ee2a4c156ad52a3eb2cc64dd99.ipynb",
   "parameters": {
    "output_dir": "output",
    "run_no": "15",
    "seed": "2023",
    "universe": "{\"cutoff\": [\"quantile_0.1\", \"quantile_0.25\"], \"eval_fairness_grouping\": [\"majority-minority\", \"nationality-all\"], \"exclude_features\": \"none\", \"exclude_subgroups\": \"keep-all\", \"model\": \"rf\", \"scale\": \"scale\", \"training_size\": \"1k\", \"training_year\": \"2012_14\"}",
    "universe_id": "9a5563ee2a4c156ad52a3eb2cc64dd99"
   },
   "start_time": "2025-08-05T16:18:14.975702",
   "version": "2.6.0"
  }
 },
 "nbformat": 4,
 "nbformat_minor": 5
}