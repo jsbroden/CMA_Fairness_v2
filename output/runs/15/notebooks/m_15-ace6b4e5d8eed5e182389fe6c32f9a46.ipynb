{
 "cells": [
  {
   "cell_type": "code",
   "execution_count": 1,
   "id": "f159f837-637b-42ba-96b5-ec9a68c44524",
   "metadata": {
    "execution": {
     "iopub.execute_input": "2025-08-05T16:25:06.976953Z",
     "iopub.status.busy": "2025-08-05T16:25:06.975956Z",
     "iopub.status.idle": "2025-08-05T16:25:06.991789Z",
     "shell.execute_reply": "2025-08-05T16:25:06.990627Z"
    },
    "papermill": {
     "duration": 0.039235,
     "end_time": "2025-08-05T16:25:06.993635",
     "exception": false,
     "start_time": "2025-08-05T16:25:06.954400",
     "status": "completed"
    },
    "tags": []
   },
   "outputs": [
    {
     "name": "stdout",
     "output_type": "stream",
     "text": [
      "/dss/dsshome1/0C/ra93lal2/cma/CMA_Fairness_v2\n"
     ]
    },
    {
     "name": "stderr",
     "output_type": "stream",
     "text": [
      "/dss/dsshome1/0C/ra93lal2/.local/share/virtualenvs/CMA_Fairness_v2-3j10GkSs/lib/python3.10/site-packages/IPython/core/magics/osm.py:393: UserWarning: This is now an optional IPython functionality, using bookmarks requires you to install the `pickleshare` library.\n",
      "  bkms = self.shell.db.get('bookmarks', {})\n",
      "/dss/dsshome1/0C/ra93lal2/.local/share/virtualenvs/CMA_Fairness_v2-3j10GkSs/lib/python3.10/site-packages/IPython/core/magics/osm.py:417: UserWarning: This is now an optional IPython functionality, setting dhist requires you to install the `pickleshare` library.\n",
      "  self.shell.db['dhist'] = compress_dhist(dhist)[-100:]\n"
     ]
    }
   ],
   "source": [
    "%cd ~/cma/CMA_Fairness_v2"
   ]
  },
  {
   "cell_type": "markdown",
   "id": "de2603b9",
   "metadata": {
    "papermill": {
     "duration": 0.019633,
     "end_time": "2025-08-05T16:25:07.033895",
     "exception": false,
     "start_time": "2025-08-05T16:25:07.014262",
     "status": "completed"
    },
    "tags": []
   },
   "source": [
    "The following cell holds the definition of our parameters, these values can be overriden by rendering the with e.g. the following command:\n",
    "\n",
    "papermill -p alpha 0.2 -p ratio 0.3 universe_analysis.ipynb output/test_run.ipynb"
   ]
  },
  {
   "cell_type": "code",
   "execution_count": 2,
   "id": "a80968a0-40bb-4fa9-85ef-2d5eefb01975",
   "metadata": {
    "execution": {
     "iopub.execute_input": "2025-08-05T16:25:07.075127Z",
     "iopub.status.busy": "2025-08-05T16:25:07.074355Z",
     "iopub.status.idle": "2025-08-05T16:25:07.081052Z",
     "shell.execute_reply": "2025-08-05T16:25:07.079957Z"
    },
    "papermill": {
     "duration": 0.029048,
     "end_time": "2025-08-05T16:25:07.082932",
     "exception": false,
     "start_time": "2025-08-05T16:25:07.053884",
     "status": "completed"
    },
    "tags": []
   },
   "outputs": [
    {
     "name": "stdout",
     "output_type": "stream",
     "text": [
      "Current working directory: /dss/dsshome1/0C/ra93lal2/cma/CMA_Fairness_v2\n"
     ]
    }
   ],
   "source": [
    "import os\n",
    "print(\"Current working directory:\", os.getcwd())"
   ]
  },
  {
   "cell_type": "code",
   "execution_count": 3,
   "id": "2dce4c03",
   "metadata": {
    "execution": {
     "iopub.execute_input": "2025-08-05T16:25:07.125355Z",
     "iopub.status.busy": "2025-08-05T16:25:07.124659Z",
     "iopub.status.idle": "2025-08-05T16:25:07.132037Z",
     "shell.execute_reply": "2025-08-05T16:25:07.131038Z"
    },
    "papermill": {
     "duration": 0.030458,
     "end_time": "2025-08-05T16:25:07.133895",
     "exception": false,
     "start_time": "2025-08-05T16:25:07.103437",
     "status": "completed"
    },
    "tags": [
     "parameters"
    ]
   },
   "outputs": [],
   "source": [
    "run_no = 0\n",
    "universe_id = \"test\"\n",
    "universe = {\n",
    "    \"training_size\": \"25k\", # \"25k\", \"5k\", \"1k\"\n",
    "    \"training_year\": \"2014\", # \"2014\", \"2012_14\", \"2010_14\"\n",
    "    \"scale\": \"scale\", # \"scale\", \"do-not-scale\",\n",
    "    \"model\": \"elasticnet\", # \"logreg\", \"penalized_logreg\", \"rf\", \"gbm\", \"elasticnet\"\n",
    "    \"cutoff\": [\"quantile_0.15\", \"quantile_0.30\"],\n",
    "    \"exclude_features\": \"age\", # \"none\", \"nationality\", \"sex\", \"nationality-sex\", \"age\"\n",
    "    \"exclude_subgroups\": \"keep-all\", # \"keep-all\", \"drop-non-german\"\n",
    "    \"eval_fairness_grouping\": [\"majority-minority\", \"nationality-all\"]\n",
    "}\n",
    "\n",
    "output_dir=\"./output\"\n",
    "seed=0"
   ]
  },
  {
   "cell_type": "code",
   "execution_count": 4,
   "id": "614036af",
   "metadata": {
    "execution": {
     "iopub.execute_input": "2025-08-05T16:25:07.175873Z",
     "iopub.status.busy": "2025-08-05T16:25:07.175270Z",
     "iopub.status.idle": "2025-08-05T16:25:07.182677Z",
     "shell.execute_reply": "2025-08-05T16:25:07.181647Z"
    },
    "papermill": {
     "duration": 0.030925,
     "end_time": "2025-08-05T16:25:07.184643",
     "exception": false,
     "start_time": "2025-08-05T16:25:07.153718",
     "status": "completed"
    },
    "tags": [
     "injected-parameters"
    ]
   },
   "outputs": [],
   "source": [
    "# Parameters\n",
    "universe_id = \"ace6b4e5d8eed5e182389fe6c32f9a46\"\n",
    "run_no = \"15\"\n",
    "universe = \"{\\\"cutoff\\\": [\\\"quantile_0.1\\\", \\\"quantile_0.25\\\"], \\\"eval_fairness_grouping\\\": [\\\"majority-minority\\\", \\\"nationality-all\\\"], \\\"exclude_features\\\": \\\"sex\\\", \\\"exclude_subgroups\\\": \\\"keep-all\\\", \\\"model\\\": \\\"penalized_logreg\\\", \\\"scale\\\": \\\"do-not-scale\\\", \\\"training_size\\\": \\\"1k\\\", \\\"training_year\\\": \\\"2012_14\\\"}\"\n",
    "output_dir = \"output\"\n",
    "seed = \"2023\"\n"
   ]
  },
  {
   "cell_type": "code",
   "execution_count": 5,
   "id": "1650acaf",
   "metadata": {
    "execution": {
     "iopub.execute_input": "2025-08-05T16:25:07.226105Z",
     "iopub.status.busy": "2025-08-05T16:25:07.224929Z",
     "iopub.status.idle": "2025-08-05T16:25:07.230848Z",
     "shell.execute_reply": "2025-08-05T16:25:07.229824Z"
    },
    "papermill": {
     "duration": 0.027671,
     "end_time": "2025-08-05T16:25:07.232627",
     "exception": false,
     "start_time": "2025-08-05T16:25:07.204956",
     "status": "completed"
    },
    "tags": []
   },
   "outputs": [],
   "source": [
    "import json\n",
    "if isinstance(universe, str):\n",
    "    universe = json.loads(universe)"
   ]
  },
  {
   "cell_type": "code",
   "execution_count": 6,
   "id": "16620c48",
   "metadata": {
    "execution": {
     "iopub.execute_input": "2025-08-05T16:25:07.274803Z",
     "iopub.status.busy": "2025-08-05T16:25:07.274173Z",
     "iopub.status.idle": "2025-08-05T16:25:07.328103Z",
     "shell.execute_reply": "2025-08-05T16:25:07.327123Z"
    },
    "papermill": {
     "duration": 0.077691,
     "end_time": "2025-08-05T16:25:07.330207",
     "exception": false,
     "start_time": "2025-08-05T16:25:07.252516",
     "status": "completed"
    },
    "tags": []
   },
   "outputs": [],
   "source": [
    "# Auto-reload the custom package\n",
    "%load_ext autoreload\n",
    "%autoreload 1\n",
    "%aimport fairness_multiverse"
   ]
  },
  {
   "cell_type": "code",
   "execution_count": 7,
   "id": "01c5c9f3",
   "metadata": {
    "execution": {
     "iopub.execute_input": "2025-08-05T16:25:07.374715Z",
     "iopub.status.busy": "2025-08-05T16:25:07.373747Z",
     "iopub.status.idle": "2025-08-05T16:25:09.332477Z",
     "shell.execute_reply": "2025-08-05T16:25:09.331540Z"
    },
    "papermill": {
     "duration": 1.983967,
     "end_time": "2025-08-05T16:25:09.334239",
     "exception": false,
     "start_time": "2025-08-05T16:25:07.350272",
     "status": "completed"
    },
    "tags": []
   },
   "outputs": [],
   "source": [
    "from fairness_multiverse.universe import UniverseAnalysis\n",
    "\n",
    "universe_analysis = UniverseAnalysis(\n",
    "    run_no = run_no,\n",
    "    universe_id = universe_id,\n",
    "    universe = universe,\n",
    "    output_dir=output_dir,\n",
    ")"
   ]
  },
  {
   "cell_type": "code",
   "execution_count": 8,
   "id": "106241f5",
   "metadata": {
    "execution": {
     "iopub.execute_input": "2025-08-05T16:25:09.357270Z",
     "iopub.status.busy": "2025-08-05T16:25:09.356870Z",
     "iopub.status.idle": "2025-08-05T16:25:09.362920Z",
     "shell.execute_reply": "2025-08-05T16:25:09.361882Z"
    },
    "papermill": {
     "duration": 0.019929,
     "end_time": "2025-08-05T16:25:09.365169",
     "exception": false,
     "start_time": "2025-08-05T16:25:09.345240",
     "status": "completed"
    },
    "tags": []
   },
   "outputs": [
    {
     "name": "stdout",
     "output_type": "stream",
     "text": [
      "Using Seed: 2023\n"
     ]
    }
   ],
   "source": [
    "import numpy as np\n",
    "parsed_seed = int(seed)\n",
    "np.random.seed(parsed_seed)\n",
    "print(f\"Using Seed: {parsed_seed}\")"
   ]
  },
  {
   "cell_type": "markdown",
   "id": "e0ebdc57",
   "metadata": {
    "papermill": {
     "duration": 0.012054,
     "end_time": "2025-08-05T16:25:09.388505",
     "exception": false,
     "start_time": "2025-08-05T16:25:09.376451",
     "status": "completed"
    },
    "tags": []
   },
   "source": [
    "# Loading Data"
   ]
  },
  {
   "cell_type": "code",
   "execution_count": 9,
   "id": "f0496b8a",
   "metadata": {
    "execution": {
     "iopub.execute_input": "2025-08-05T16:25:09.411940Z",
     "iopub.status.busy": "2025-08-05T16:25:09.410932Z",
     "iopub.status.idle": "2025-08-05T16:25:21.920491Z",
     "shell.execute_reply": "2025-08-05T16:25:21.919202Z"
    },
    "papermill": {
     "duration": 12.523335,
     "end_time": "2025-08-05T16:25:21.922431",
     "exception": false,
     "start_time": "2025-08-05T16:25:09.399096",
     "status": "completed"
    },
    "tags": []
   },
   "outputs": [
    {
     "name": "stdout",
     "output_type": "stream",
     "text": [
      "Loading SIAB data from cache: data/siab_cached.csv.gz\n"
     ]
    },
    {
     "name": "stdout",
     "output_type": "stream",
     "text": [
      "(643690, 164)\n"
     ]
    }
   ],
   "source": [
    "from pathlib import Path\n",
    "import pandas as pd\n",
    "\n",
    "# File paths\n",
    "raw_file = Path(\"data/raw/siab.csv\")\n",
    "cache_file = Path(\"data/siab_cached.csv.gz\")\n",
    "\n",
    "# Ensure cache directory exists\n",
    "cache_file.parent.mkdir(parents=True, exist_ok=True)\n",
    "\n",
    "# Load with simple caching\n",
    "if cache_file.exists():\n",
    "    print(f\"Loading SIAB data from cache: {cache_file}\")\n",
    "    siab = pd.read_csv(cache_file, compression='gzip')\n",
    "else:\n",
    "    print(f\"Cache not found. Reading raw SIAB data: {raw_file}\")\n",
    "    siab = pd.read_csv(raw_file)\n",
    "    siab.to_csv(cache_file, index=False, compression='gzip')\n",
    "    print(f\"Cached SIAB data to: {cache_file}\")\n",
    "\n",
    "print(siab.shape)"
   ]
  },
  {
   "cell_type": "code",
   "execution_count": 10,
   "id": "db0ca512-5f53-4dba-abdb-a2888bca41ba",
   "metadata": {
    "execution": {
     "iopub.execute_input": "2025-08-05T16:25:21.962600Z",
     "iopub.status.busy": "2025-08-05T16:25:21.961688Z",
     "iopub.status.idle": "2025-08-05T16:25:21.968221Z",
     "shell.execute_reply": "2025-08-05T16:25:21.967232Z"
    },
    "papermill": {
     "duration": 0.02708,
     "end_time": "2025-08-05T16:25:21.970395",
     "exception": false,
     "start_time": "2025-08-05T16:25:21.943315",
     "status": "completed"
    },
    "tags": []
   },
   "outputs": [],
   "source": [
    "#siab"
   ]
  },
  {
   "cell_type": "markdown",
   "id": "997051c5-15bd-4b69-9786-c3001a3ce484",
   "metadata": {
    "papermill": {
     "duration": 0.019583,
     "end_time": "2025-08-05T16:25:22.011693",
     "exception": false,
     "start_time": "2025-08-05T16:25:21.992110",
     "status": "completed"
    },
    "tags": []
   },
   "source": [
    "# Splitting Data and Setting Training Data Size"
   ]
  },
  {
   "cell_type": "code",
   "execution_count": 11,
   "id": "aea9c6ef-6f46-42c8-85eb-5a62025c1508",
   "metadata": {
    "execution": {
     "iopub.execute_input": "2025-08-05T16:25:22.054927Z",
     "iopub.status.busy": "2025-08-05T16:25:22.053961Z",
     "iopub.status.idle": "2025-08-05T16:25:22.713374Z",
     "shell.execute_reply": "2025-08-05T16:25:22.712283Z"
    },
    "papermill": {
     "duration": 0.683984,
     "end_time": "2025-08-05T16:25:22.715122",
     "exception": false,
     "start_time": "2025-08-05T16:25:22.031138",
     "status": "completed"
    },
    "tags": []
   },
   "outputs": [],
   "source": [
    "from fairness_multiverse.universe import sample_by_year_size\n",
    "\n",
    "siab_train = sample_by_year_size(siab,\n",
    "                               training_year=universe[\"training_year\"],\n",
    "                               training_size=universe[\"training_size\"])"
   ]
  },
  {
   "cell_type": "code",
   "execution_count": 12,
   "id": "8d3afb32-789d-442c-8d5d-9f5aa8dd2eed",
   "metadata": {
    "execution": {
     "iopub.execute_input": "2025-08-05T16:25:22.761495Z",
     "iopub.status.busy": "2025-08-05T16:25:22.760521Z",
     "iopub.status.idle": "2025-08-05T16:25:22.766279Z",
     "shell.execute_reply": "2025-08-05T16:25:22.765151Z"
    },
    "papermill": {
     "duration": 0.031593,
     "end_time": "2025-08-05T16:25:22.768053",
     "exception": false,
     "start_time": "2025-08-05T16:25:22.736460",
     "status": "completed"
    },
    "tags": []
   },
   "outputs": [],
   "source": [
    "#siab_train.shape"
   ]
  },
  {
   "cell_type": "code",
   "execution_count": 13,
   "id": "d582db68-1a4c-47fb-84fc-08518dc1975a",
   "metadata": {
    "execution": {
     "iopub.execute_input": "2025-08-05T16:25:22.809969Z",
     "iopub.status.busy": "2025-08-05T16:25:22.809156Z",
     "iopub.status.idle": "2025-08-05T16:25:22.814887Z",
     "shell.execute_reply": "2025-08-05T16:25:22.813853Z"
    },
    "papermill": {
     "duration": 0.028574,
     "end_time": "2025-08-05T16:25:22.816617",
     "exception": false,
     "start_time": "2025-08-05T16:25:22.788043",
     "status": "completed"
    },
    "tags": []
   },
   "outputs": [],
   "source": [
    "#display(siab_train.groupby(\"year\").size())"
   ]
  },
  {
   "cell_type": "code",
   "execution_count": 14,
   "id": "a561edb4-d032-42cb-8256-22eac1111c64",
   "metadata": {
    "execution": {
     "iopub.execute_input": "2025-08-05T16:25:22.858676Z",
     "iopub.status.busy": "2025-08-05T16:25:22.858081Z",
     "iopub.status.idle": "2025-08-05T16:25:23.129570Z",
     "shell.execute_reply": "2025-08-05T16:25:23.128432Z"
    },
    "papermill": {
     "duration": 0.295292,
     "end_time": "2025-08-05T16:25:23.131721",
     "exception": false,
     "start_time": "2025-08-05T16:25:22.836429",
     "status": "completed"
    },
    "tags": []
   },
   "outputs": [],
   "source": [
    "#siab_train = siab_s[siab_s.year < 2015]\n",
    "siab_calib = siab[siab.year == 2015]\n",
    "siab_test = siab[siab.year == 2016]"
   ]
  },
  {
   "cell_type": "code",
   "execution_count": 15,
   "id": "472de16f-c3db-4916-846b-1f0de9cf1746",
   "metadata": {
    "execution": {
     "iopub.execute_input": "2025-08-05T16:25:23.189366Z",
     "iopub.status.busy": "2025-08-05T16:25:23.188562Z",
     "iopub.status.idle": "2025-08-05T16:25:23.196885Z",
     "shell.execute_reply": "2025-08-05T16:25:23.195716Z"
    },
    "papermill": {
     "duration": 0.046304,
     "end_time": "2025-08-05T16:25:23.198872",
     "exception": false,
     "start_time": "2025-08-05T16:25:23.152568",
     "status": "completed"
    },
    "tags": []
   },
   "outputs": [],
   "source": [
    "X_train = siab_train.iloc[:,4:164]\n",
    "y_train = siab_train.iloc[:, [3]]"
   ]
  },
  {
   "cell_type": "code",
   "execution_count": 16,
   "id": "828c96af-f43a-4ed6-ba47-8ac73a47d56c",
   "metadata": {
    "execution": {
     "iopub.execute_input": "2025-08-05T16:25:23.247355Z",
     "iopub.status.busy": "2025-08-05T16:25:23.246496Z",
     "iopub.status.idle": "2025-08-05T16:25:23.307558Z",
     "shell.execute_reply": "2025-08-05T16:25:23.306386Z"
    },
    "papermill": {
     "duration": 0.087196,
     "end_time": "2025-08-05T16:25:23.309578",
     "exception": false,
     "start_time": "2025-08-05T16:25:23.222382",
     "status": "completed"
    },
    "tags": []
   },
   "outputs": [],
   "source": [
    "X_calib = siab_calib.iloc[:,4:164]\n",
    "y_calib = siab_calib.iloc[:, [3]]"
   ]
  },
  {
   "cell_type": "code",
   "execution_count": 17,
   "id": "c34be9c3-6bd6-476e-acd3-845840e303be",
   "metadata": {
    "execution": {
     "iopub.execute_input": "2025-08-05T16:25:23.358960Z",
     "iopub.status.busy": "2025-08-05T16:25:23.358037Z",
     "iopub.status.idle": "2025-08-05T16:25:23.419015Z",
     "shell.execute_reply": "2025-08-05T16:25:23.417653Z"
    },
    "papermill": {
     "duration": 0.08758,
     "end_time": "2025-08-05T16:25:23.421397",
     "exception": false,
     "start_time": "2025-08-05T16:25:23.333817",
     "status": "completed"
    },
    "tags": []
   },
   "outputs": [],
   "source": [
    "X_test = siab_test.iloc[:,4:164]\n",
    "y_true = siab_test.iloc[:, [3]]"
   ]
  },
  {
   "cell_type": "code",
   "execution_count": 18,
   "id": "e6c733c5",
   "metadata": {
    "execution": {
     "iopub.execute_input": "2025-08-05T16:25:23.471944Z",
     "iopub.status.busy": "2025-08-05T16:25:23.471026Z",
     "iopub.status.idle": "2025-08-05T16:25:23.576855Z",
     "shell.execute_reply": "2025-08-05T16:25:23.575607Z"
    },
    "papermill": {
     "duration": 0.133829,
     "end_time": "2025-08-05T16:25:23.579476",
     "exception": false,
     "start_time": "2025-08-05T16:25:23.445647",
     "status": "completed"
    },
    "tags": []
   },
   "outputs": [],
   "source": [
    "# Auxiliary data needed downstream in the pipeline\n",
    "\n",
    "org_train = X_train.copy()\n",
    "org_test = X_test.copy()\n",
    "org_calib = X_calib.copy()"
   ]
  },
  {
   "cell_type": "markdown",
   "id": "0a4a1b33",
   "metadata": {
    "papermill": {
     "duration": 0.023927,
     "end_time": "2025-08-05T16:25:23.629220",
     "exception": false,
     "start_time": "2025-08-05T16:25:23.605293",
     "status": "completed"
    },
    "tags": []
   },
   "source": [
    "# Preprocessing Data"
   ]
  },
  {
   "cell_type": "code",
   "execution_count": 19,
   "id": "ca879031",
   "metadata": {
    "execution": {
     "iopub.execute_input": "2025-08-05T16:25:23.680644Z",
     "iopub.status.busy": "2025-08-05T16:25:23.679616Z",
     "iopub.status.idle": "2025-08-05T16:25:23.687007Z",
     "shell.execute_reply": "2025-08-05T16:25:23.685783Z"
    },
    "papermill": {
     "duration": 0.035885,
     "end_time": "2025-08-05T16:25:23.689021",
     "exception": false,
     "start_time": "2025-08-05T16:25:23.653136",
     "status": "completed"
    },
    "tags": []
   },
   "outputs": [],
   "source": [
    "# EXCLUDE PROTECTED FEATURES\n",
    "# ----------------------\n",
    "# \"exclude_features\": \"none\", # \"nationality\", \"sex\", \"nationality-sex\"\n",
    "\n",
    "excluded_features = universe[\"exclude_features\"].split(\"-\") # split, e.g.: \"nationality-sex\" -> [\"nationality\", \"sex\"]\n",
    "excluded_features_dictionary = {\n",
    "    \"nationality\": [\"maxdeutsch1\", \"maxdeutsch.Missing.\"],\n",
    "    \"sex\": [\"frau1\"],\n",
    "    \"age\": [\"age\"],\n",
    "}"
   ]
  },
  {
   "cell_type": "code",
   "execution_count": 20,
   "id": "b745ac60",
   "metadata": {
    "execution": {
     "iopub.execute_input": "2025-08-05T16:25:23.738665Z",
     "iopub.status.busy": "2025-08-05T16:25:23.738264Z",
     "iopub.status.idle": "2025-08-05T16:25:23.744435Z",
     "shell.execute_reply": "2025-08-05T16:25:23.743249Z"
    },
    "papermill": {
     "duration": 0.033837,
     "end_time": "2025-08-05T16:25:23.746522",
     "exception": false,
     "start_time": "2025-08-05T16:25:23.712685",
     "status": "completed"
    },
    "tags": []
   },
   "outputs": [],
   "source": [
    "# Code nice names to column names\n",
    "\n",
    "excluded_features_columns = [\n",
    "    excluded_features_dictionary[f] for f in excluded_features if len(f) > 0 and f != \"none\"\n",
    "]"
   ]
  },
  {
   "cell_type": "code",
   "execution_count": 21,
   "id": "f84f73a2",
   "metadata": {
    "execution": {
     "iopub.execute_input": "2025-08-05T16:25:23.796509Z",
     "iopub.status.busy": "2025-08-05T16:25:23.796088Z",
     "iopub.status.idle": "2025-08-05T16:25:23.802936Z",
     "shell.execute_reply": "2025-08-05T16:25:23.801727Z"
    },
    "papermill": {
     "duration": 0.033609,
     "end_time": "2025-08-05T16:25:23.804958",
     "exception": false,
     "start_time": "2025-08-05T16:25:23.771349",
     "status": "completed"
    },
    "tags": []
   },
   "outputs": [],
   "source": [
    "from utils import flatten_once\n",
    "\n",
    "excluded_features_columns = flatten_once(excluded_features_columns)"
   ]
  },
  {
   "cell_type": "code",
   "execution_count": 22,
   "id": "884dea22",
   "metadata": {
    "execution": {
     "iopub.execute_input": "2025-08-05T16:25:23.856954Z",
     "iopub.status.busy": "2025-08-05T16:25:23.856247Z",
     "iopub.status.idle": "2025-08-05T16:25:23.866156Z",
     "shell.execute_reply": "2025-08-05T16:25:23.865008Z"
    },
    "papermill": {
     "duration": 0.037326,
     "end_time": "2025-08-05T16:25:23.868210",
     "exception": false,
     "start_time": "2025-08-05T16:25:23.830884",
     "status": "completed"
    },
    "tags": []
   },
   "outputs": [
    {
     "name": "stdout",
     "output_type": "stream",
     "text": [
      "Dropping features: ['frau1']\n"
     ]
    }
   ],
   "source": [
    "if len(excluded_features_columns) > 0:\n",
    "    print(f\"Dropping features: {excluded_features_columns}\")\n",
    "    X_train.drop(excluded_features_columns, axis=1, inplace=True)"
   ]
  },
  {
   "cell_type": "code",
   "execution_count": 23,
   "id": "95ab8b16",
   "metadata": {
    "execution": {
     "iopub.execute_input": "2025-08-05T16:25:23.920296Z",
     "iopub.status.busy": "2025-08-05T16:25:23.919719Z",
     "iopub.status.idle": "2025-08-05T16:25:23.982725Z",
     "shell.execute_reply": "2025-08-05T16:25:23.981510Z"
    },
    "papermill": {
     "duration": 0.091722,
     "end_time": "2025-08-05T16:25:23.985053",
     "exception": false,
     "start_time": "2025-08-05T16:25:23.893331",
     "status": "completed"
    },
    "tags": []
   },
   "outputs": [
    {
     "name": "stdout",
     "output_type": "stream",
     "text": [
      "Dropping features: ['frau1']\n"
     ]
    }
   ],
   "source": [
    "if len(excluded_features_columns) > 0:\n",
    "    print(f\"Dropping features: {excluded_features_columns}\")\n",
    "    X_test.drop(excluded_features_columns, axis=1, inplace=True)"
   ]
  },
  {
   "cell_type": "code",
   "execution_count": 24,
   "id": "1853aaf5-fb9f-46cb-a2b5-8ea4ae2237e4",
   "metadata": {
    "execution": {
     "iopub.execute_input": "2025-08-05T16:25:24.035162Z",
     "iopub.status.busy": "2025-08-05T16:25:24.034488Z",
     "iopub.status.idle": "2025-08-05T16:25:24.094298Z",
     "shell.execute_reply": "2025-08-05T16:25:24.093131Z"
    },
    "papermill": {
     "duration": 0.086873,
     "end_time": "2025-08-05T16:25:24.096382",
     "exception": false,
     "start_time": "2025-08-05T16:25:24.009509",
     "status": "completed"
    },
    "tags": []
   },
   "outputs": [
    {
     "name": "stdout",
     "output_type": "stream",
     "text": [
      "Dropping features: ['frau1']\n"
     ]
    }
   ],
   "source": [
    "if len(excluded_features_columns) > 0:\n",
    "    print(f\"Dropping features: {excluded_features_columns}\")\n",
    "    X_calib.drop(excluded_features_columns, axis=1, inplace=True)"
   ]
  },
  {
   "cell_type": "code",
   "execution_count": 25,
   "id": "76c4dc6d",
   "metadata": {
    "execution": {
     "iopub.execute_input": "2025-08-05T16:25:24.146690Z",
     "iopub.status.busy": "2025-08-05T16:25:24.145682Z",
     "iopub.status.idle": "2025-08-05T16:25:24.152018Z",
     "shell.execute_reply": "2025-08-05T16:25:24.150825Z"
    },
    "papermill": {
     "duration": 0.033305,
     "end_time": "2025-08-05T16:25:24.154153",
     "exception": false,
     "start_time": "2025-08-05T16:25:24.120848",
     "status": "completed"
    },
    "tags": []
   },
   "outputs": [],
   "source": [
    "# EXCLUDE CERTAIN SUBGROUPS\n",
    "# ----------------------\n",
    "\n",
    "mode = universe.get(\"exclude_subgroups\", \"keep-all\") \n",
    "# Fetches the exclude_subgroups setting from the universe dict.\n",
    "# Defaults to \"keep-all\" if the key is missing."
   ]
  },
  {
   "cell_type": "code",
   "execution_count": 26,
   "id": "21994072",
   "metadata": {
    "execution": {
     "iopub.execute_input": "2025-08-05T16:25:24.188205Z",
     "iopub.status.busy": "2025-08-05T16:25:24.187701Z",
     "iopub.status.idle": "2025-08-05T16:25:24.194186Z",
     "shell.execute_reply": "2025-08-05T16:25:24.193336Z"
    },
    "papermill": {
     "duration": 0.023183,
     "end_time": "2025-08-05T16:25:24.195810",
     "exception": false,
     "start_time": "2025-08-05T16:25:24.172627",
     "status": "completed"
    },
    "tags": []
   },
   "outputs": [],
   "source": [
    "if mode == \"keep-all\":\n",
    "    keep_mask = pd.Series(True, index=org_train.index)\n",
    "\n",
    "# org_train contains the original feature columns from features_org (in Simson)\n",
    "# features_org contains unprocessed features, for me X_train at beginning ???\n",
    "# For keep-all, creates a boolean Series (keep_mask) of all True, so no rows are removed.\n",
    "\n",
    "elif mode == \"drop-non-german\":\n",
    "    keep_mask = org_train[\"maxdeutsch1\"] == 1 # ??? what about missing values?\n",
    "\n",
    "else:\n",
    "    raise ValueError(f\"Unsupported mode for exclude_subgroups: {mode}\")"
   ]
  },
  {
   "cell_type": "code",
   "execution_count": 27,
   "id": "71651440",
   "metadata": {
    "execution": {
     "iopub.execute_input": "2025-08-05T16:25:24.242021Z",
     "iopub.status.busy": "2025-08-05T16:25:24.240954Z",
     "iopub.status.idle": "2025-08-05T16:25:24.248299Z",
     "shell.execute_reply": "2025-08-05T16:25:24.247200Z"
    },
    "papermill": {
     "duration": 0.033572,
     "end_time": "2025-08-05T16:25:24.250190",
     "exception": false,
     "start_time": "2025-08-05T16:25:24.216618",
     "status": "completed"
    },
    "tags": []
   },
   "outputs": [],
   "source": [
    "n_drop = (~keep_mask).sum() # Calculates how many rows are set to be dropped\n",
    "if n_drop > 0:\n",
    "    pct = n_drop / len(keep_mask) * 100\n",
    "    print(f\"Dropping {n_drop} rows ({pct:.2f}%) where mode='{mode}'\")"
   ]
  },
  {
   "cell_type": "code",
   "execution_count": 28,
   "id": "5fb8eee5",
   "metadata": {
    "execution": {
     "iopub.execute_input": "2025-08-05T16:25:24.300803Z",
     "iopub.status.busy": "2025-08-05T16:25:24.299892Z",
     "iopub.status.idle": "2025-08-05T16:25:24.307770Z",
     "shell.execute_reply": "2025-08-05T16:25:24.306736Z"
    },
    "papermill": {
     "duration": 0.034796,
     "end_time": "2025-08-05T16:25:24.309814",
     "exception": false,
     "start_time": "2025-08-05T16:25:24.275018",
     "status": "completed"
    },
    "tags": []
   },
   "outputs": [],
   "source": [
    "X_train = X_train[keep_mask]"
   ]
  },
  {
   "cell_type": "code",
   "execution_count": 29,
   "id": "b202bb3a",
   "metadata": {
    "execution": {
     "iopub.execute_input": "2025-08-05T16:25:24.362341Z",
     "iopub.status.busy": "2025-08-05T16:25:24.361787Z",
     "iopub.status.idle": "2025-08-05T16:25:24.369078Z",
     "shell.execute_reply": "2025-08-05T16:25:24.367891Z"
    },
    "papermill": {
     "duration": 0.03531,
     "end_time": "2025-08-05T16:25:24.371318",
     "exception": false,
     "start_time": "2025-08-05T16:25:24.336008",
     "status": "completed"
    },
    "tags": []
   },
   "outputs": [],
   "source": [
    "y_train = y_train[keep_mask]"
   ]
  },
  {
   "cell_type": "markdown",
   "id": "493e2ac3",
   "metadata": {
    "papermill": {
     "duration": 0.02108,
     "end_time": "2025-08-05T16:25:24.414682",
     "exception": false,
     "start_time": "2025-08-05T16:25:24.393602",
     "status": "completed"
    },
    "tags": []
   },
   "source": [
    "# Model Training"
   ]
  },
  {
   "cell_type": "code",
   "execution_count": 30,
   "id": "679e1268",
   "metadata": {
    "execution": {
     "iopub.execute_input": "2025-08-05T16:25:24.464879Z",
     "iopub.status.busy": "2025-08-05T16:25:24.464285Z",
     "iopub.status.idle": "2025-08-05T16:25:24.580220Z",
     "shell.execute_reply": "2025-08-05T16:25:24.579315Z"
    },
    "papermill": {
     "duration": 0.14315,
     "end_time": "2025-08-05T16:25:24.582017",
     "exception": false,
     "start_time": "2025-08-05T16:25:24.438867",
     "status": "completed"
    },
    "tags": []
   },
   "outputs": [],
   "source": [
    "from sklearn.linear_model import LogisticRegression\n",
    "from sklearn.ensemble import GradientBoostingClassifier, RandomForestClassifier\n",
    "\n",
    "if (universe[\"model\"] == \"logreg\"):\n",
    "    model = LogisticRegression() #penalty=\"none\", solver=\"newton-cg\", max_iter=1) # include random_state=19 ?\n",
    "elif (universe[\"model\"] == \"penalized_logreg\"):\n",
    "    model = LogisticRegression(penalty=\"l2\", C=0.1) #, solver=\"newton-cg\", max_iter=1)\n",
    "elif (universe[\"model\"] == \"rf\"):\n",
    "    model = RandomForestClassifier() # n_estimators=100, n_jobs=-1\n",
    "elif (universe[\"model\"] == \"gbm\"):\n",
    "    model = GradientBoostingClassifier()\n",
    "elif (universe[\"model\"] == \"elasticnet\"):\n",
    "    model = LogisticRegression(penalty = 'elasticnet', solver = 'saga', l1_ratio = 0.5) # max_iter=5000\n",
    "else:\n",
    "    raise \"Unsupported universe.model\""
   ]
  },
  {
   "cell_type": "code",
   "execution_count": 31,
   "id": "0cc8f744",
   "metadata": {
    "execution": {
     "iopub.execute_input": "2025-08-05T16:25:24.608308Z",
     "iopub.status.busy": "2025-08-05T16:25:24.607507Z",
     "iopub.status.idle": "2025-08-05T16:25:24.615284Z",
     "shell.execute_reply": "2025-08-05T16:25:24.614034Z"
    },
    "papermill": {
     "duration": 0.023044,
     "end_time": "2025-08-05T16:25:24.617496",
     "exception": false,
     "start_time": "2025-08-05T16:25:24.594452",
     "status": "completed"
    },
    "tags": []
   },
   "outputs": [],
   "source": [
    "import numpy as np\n",
    "from sklearn.pipeline import Pipeline\n",
    "from sklearn.preprocessing import StandardScaler\n",
    "\n",
    "model = Pipeline([\n",
    "    #(\"continuous_processor\", continuous_processor),\n",
    "    #(\"categorical_preprocessor\", categorical_preprocessor),\n",
    "    (\"scale\", StandardScaler() if universe[\"scale\"] == \"scale\" else None), \n",
    "    (\"model\", model),\n",
    "])"
   ]
  },
  {
   "cell_type": "code",
   "execution_count": 32,
   "id": "9442c04d",
   "metadata": {
    "execution": {
     "iopub.execute_input": "2025-08-05T16:25:24.645504Z",
     "iopub.status.busy": "2025-08-05T16:25:24.645009Z",
     "iopub.status.idle": "2025-08-05T16:25:24.712243Z",
     "shell.execute_reply": "2025-08-05T16:25:24.711227Z"
    },
    "papermill": {
     "duration": 0.081839,
     "end_time": "2025-08-05T16:25:24.713716",
     "exception": false,
     "start_time": "2025-08-05T16:25:24.631877",
     "status": "completed"
    },
    "tags": []
   },
   "outputs": [
    {
     "name": "stderr",
     "output_type": "stream",
     "text": [
      "/dss/dsshome1/0C/ra93lal2/.local/share/virtualenvs/CMA_Fairness_v2-3j10GkSs/lib/python3.10/site-packages/sklearn/linear_model/_logistic.py:444: ConvergenceWarning: lbfgs failed to converge (status=1):\n",
      "STOP: TOTAL NO. of ITERATIONS REACHED LIMIT.\n",
      "\n",
      "Increase the number of iterations (max_iter) or scale the data as shown in:\n",
      "    https://scikit-learn.org/stable/modules/preprocessing.html\n",
      "Please also refer to the documentation for alternative solver options:\n",
      "    https://scikit-learn.org/stable/modules/linear_model.html#logistic-regression\n",
      "  n_iter_i = _check_optimize_result(\n"
     ]
    },
    {
     "data": {
      "text/html": [
       "<style>#sk-container-id-1 {color: black;background-color: white;}#sk-container-id-1 pre{padding: 0;}#sk-container-id-1 div.sk-toggleable {background-color: white;}#sk-container-id-1 label.sk-toggleable__label {cursor: pointer;display: block;width: 100%;margin-bottom: 0;padding: 0.3em;box-sizing: border-box;text-align: center;}#sk-container-id-1 label.sk-toggleable__label-arrow:before {content: \"▸\";float: left;margin-right: 0.25em;color: #696969;}#sk-container-id-1 label.sk-toggleable__label-arrow:hover:before {color: black;}#sk-container-id-1 div.sk-estimator:hover label.sk-toggleable__label-arrow:before {color: black;}#sk-container-id-1 div.sk-toggleable__content {max-height: 0;max-width: 0;overflow: hidden;text-align: left;background-color: #f0f8ff;}#sk-container-id-1 div.sk-toggleable__content pre {margin: 0.2em;color: black;border-radius: 0.25em;background-color: #f0f8ff;}#sk-container-id-1 input.sk-toggleable__control:checked~div.sk-toggleable__content {max-height: 200px;max-width: 100%;overflow: auto;}#sk-container-id-1 input.sk-toggleable__control:checked~label.sk-toggleable__label-arrow:before {content: \"▾\";}#sk-container-id-1 div.sk-estimator input.sk-toggleable__control:checked~label.sk-toggleable__label {background-color: #d4ebff;}#sk-container-id-1 div.sk-label input.sk-toggleable__control:checked~label.sk-toggleable__label {background-color: #d4ebff;}#sk-container-id-1 input.sk-hidden--visually {border: 0;clip: rect(1px 1px 1px 1px);clip: rect(1px, 1px, 1px, 1px);height: 1px;margin: -1px;overflow: hidden;padding: 0;position: absolute;width: 1px;}#sk-container-id-1 div.sk-estimator {font-family: monospace;background-color: #f0f8ff;border: 1px dotted black;border-radius: 0.25em;box-sizing: border-box;margin-bottom: 0.5em;}#sk-container-id-1 div.sk-estimator:hover {background-color: #d4ebff;}#sk-container-id-1 div.sk-parallel-item::after {content: \"\";width: 100%;border-bottom: 1px solid gray;flex-grow: 1;}#sk-container-id-1 div.sk-label:hover label.sk-toggleable__label {background-color: #d4ebff;}#sk-container-id-1 div.sk-serial::before {content: \"\";position: absolute;border-left: 1px solid gray;box-sizing: border-box;top: 0;bottom: 0;left: 50%;z-index: 0;}#sk-container-id-1 div.sk-serial {display: flex;flex-direction: column;align-items: center;background-color: white;padding-right: 0.2em;padding-left: 0.2em;position: relative;}#sk-container-id-1 div.sk-item {position: relative;z-index: 1;}#sk-container-id-1 div.sk-parallel {display: flex;align-items: stretch;justify-content: center;background-color: white;position: relative;}#sk-container-id-1 div.sk-item::before, #sk-container-id-1 div.sk-parallel-item::before {content: \"\";position: absolute;border-left: 1px solid gray;box-sizing: border-box;top: 0;bottom: 0;left: 50%;z-index: -1;}#sk-container-id-1 div.sk-parallel-item {display: flex;flex-direction: column;z-index: 1;position: relative;background-color: white;}#sk-container-id-1 div.sk-parallel-item:first-child::after {align-self: flex-end;width: 50%;}#sk-container-id-1 div.sk-parallel-item:last-child::after {align-self: flex-start;width: 50%;}#sk-container-id-1 div.sk-parallel-item:only-child::after {width: 0;}#sk-container-id-1 div.sk-dashed-wrapped {border: 1px dashed gray;margin: 0 0.4em 0.5em 0.4em;box-sizing: border-box;padding-bottom: 0.4em;background-color: white;}#sk-container-id-1 div.sk-label label {font-family: monospace;font-weight: bold;display: inline-block;line-height: 1.2em;}#sk-container-id-1 div.sk-label-container {text-align: center;}#sk-container-id-1 div.sk-container {/* jupyter's `normalize.less` sets `[hidden] { display: none; }` but bootstrap.min.css set `[hidden] { display: none !important; }` so we also need the `!important` here to be able to override the default hidden behavior on the sphinx rendered scikit-learn.org. See: https://github.com/scikit-learn/scikit-learn/issues/21755 */display: inline-block !important;position: relative;}#sk-container-id-1 div.sk-text-repr-fallback {display: none;}</style><div id=\"sk-container-id-1\" class=\"sk-top-container\"><div class=\"sk-text-repr-fallback\"><pre>Pipeline(steps=[(&#x27;scale&#x27;, None), (&#x27;model&#x27;, LogisticRegression(C=0.1))])</pre><b>In a Jupyter environment, please rerun this cell to show the HTML representation or trust the notebook. <br />On GitHub, the HTML representation is unable to render, please try loading this page with nbviewer.org.</b></div><div class=\"sk-container\" hidden><div class=\"sk-item sk-dashed-wrapped\"><div class=\"sk-label-container\"><div class=\"sk-label sk-toggleable\"><input class=\"sk-toggleable__control sk-hidden--visually\" id=\"sk-estimator-id-1\" type=\"checkbox\" ><label for=\"sk-estimator-id-1\" class=\"sk-toggleable__label sk-toggleable__label-arrow\">Pipeline</label><div class=\"sk-toggleable__content\"><pre>Pipeline(steps=[(&#x27;scale&#x27;, None), (&#x27;model&#x27;, LogisticRegression(C=0.1))])</pre></div></div></div><div class=\"sk-serial\"><div class=\"sk-item\"><div class=\"sk-estimator sk-toggleable\"><input class=\"sk-toggleable__control sk-hidden--visually\" id=\"sk-estimator-id-2\" type=\"checkbox\" ><label for=\"sk-estimator-id-2\" class=\"sk-toggleable__label sk-toggleable__label-arrow\">None</label><div class=\"sk-toggleable__content\"><pre>None</pre></div></div></div><div class=\"sk-item\"><div class=\"sk-estimator sk-toggleable\"><input class=\"sk-toggleable__control sk-hidden--visually\" id=\"sk-estimator-id-3\" type=\"checkbox\" ><label for=\"sk-estimator-id-3\" class=\"sk-toggleable__label sk-toggleable__label-arrow\">LogisticRegression</label><div class=\"sk-toggleable__content\"><pre>LogisticRegression(C=0.1)</pre></div></div></div></div></div></div></div>"
      ],
      "text/plain": [
       "Pipeline(steps=[('scale', None), ('model', LogisticRegression(C=0.1))])"
      ]
     },
     "execution_count": 32,
     "metadata": {},
     "output_type": "execute_result"
    }
   ],
   "source": [
    "model.fit(X_train, y_train.values.ravel())"
   ]
  },
  {
   "cell_type": "code",
   "execution_count": 33,
   "id": "af59f8c0",
   "metadata": {
    "execution": {
     "iopub.execute_input": "2025-08-05T16:25:24.739998Z",
     "iopub.status.busy": "2025-08-05T16:25:24.739137Z",
     "iopub.status.idle": "2025-08-05T16:25:24.744141Z",
     "shell.execute_reply": "2025-08-05T16:25:24.743169Z"
    },
    "papermill": {
     "duration": 0.01936,
     "end_time": "2025-08-05T16:25:24.745585",
     "exception": false,
     "start_time": "2025-08-05T16:25:24.726225",
     "status": "completed"
    },
    "tags": []
   },
   "outputs": [],
   "source": [
    "from fairness_multiverse.universe import predict_w_threshold"
   ]
  },
  {
   "cell_type": "code",
   "execution_count": 34,
   "id": "a7cf2e16",
   "metadata": {
    "execution": {
     "iopub.execute_input": "2025-08-05T16:25:24.789311Z",
     "iopub.status.busy": "2025-08-05T16:25:24.788404Z",
     "iopub.status.idle": "2025-08-05T16:25:24.897390Z",
     "shell.execute_reply": "2025-08-05T16:25:24.896299Z"
    },
    "papermill": {
     "duration": 0.137764,
     "end_time": "2025-08-05T16:25:24.899985",
     "exception": false,
     "start_time": "2025-08-05T16:25:24.762221",
     "status": "completed"
    },
    "tags": []
   },
   "outputs": [
    {
     "data": {
      "text/plain": [
       "0.8612083379779288"
      ]
     },
     "execution_count": 34,
     "metadata": {},
     "output_type": "execute_result"
    }
   ],
   "source": [
    "probs_test = model.predict_proba(X_test)\n",
    "\n",
    "'''\n",
    "Below code returns a boolean array (or binary 0/1 array depending on how it’s used) where each element \n",
    "is True if the probability of class 1 is greater than or equal to the threshold, and False otherwise.\n",
    "'''\n",
    "y_pred_default = predict_w_threshold(probs_test, 0.5)\n",
    "\n",
    "from sklearn.metrics import accuracy_score\n",
    "\n",
    "# Naive prediction\n",
    "accuracy_score(y_true = y_true, y_pred = y_pred_default)"
   ]
  },
  {
   "cell_type": "code",
   "execution_count": 35,
   "id": "081964c3",
   "metadata": {
    "execution": {
     "iopub.execute_input": "2025-08-05T16:25:24.958416Z",
     "iopub.status.busy": "2025-08-05T16:25:24.957256Z",
     "iopub.status.idle": "2025-08-05T16:25:25.049730Z",
     "shell.execute_reply": "2025-08-05T16:25:25.048563Z"
    },
    "papermill": {
     "duration": 0.12415,
     "end_time": "2025-08-05T16:25:25.051699",
     "exception": false,
     "start_time": "2025-08-05T16:25:24.927549",
     "status": "completed"
    },
    "tags": []
   },
   "outputs": [
    {
     "data": {
      "text/plain": [
       "array([0, 0, 0, ..., 0, 0, 0])"
      ]
     },
     "execution_count": 35,
     "metadata": {},
     "output_type": "execute_result"
    }
   ],
   "source": [
    "model.predict(X_test)"
   ]
  },
  {
   "cell_type": "markdown",
   "id": "56c9705b",
   "metadata": {
    "papermill": {
     "duration": 0.027266,
     "end_time": "2025-08-05T16:25:25.105890",
     "exception": false,
     "start_time": "2025-08-05T16:25:25.078624",
     "status": "completed"
    },
    "tags": []
   },
   "source": [
    "# Conformal Prediction"
   ]
  },
  {
   "cell_type": "code",
   "execution_count": 36,
   "id": "160ec6ff",
   "metadata": {
    "execution": {
     "iopub.execute_input": "2025-08-05T16:25:25.160646Z",
     "iopub.status.busy": "2025-08-05T16:25:25.160063Z",
     "iopub.status.idle": "2025-08-05T16:25:25.166452Z",
     "shell.execute_reply": "2025-08-05T16:25:25.165137Z"
    },
    "papermill": {
     "duration": 0.035777,
     "end_time": "2025-08-05T16:25:25.168583",
     "exception": false,
     "start_time": "2025-08-05T16:25:25.132806",
     "status": "completed"
    },
    "tags": []
   },
   "outputs": [],
   "source": [
    "# Miscoverage level for conformal prediction (10% allowed error rate => 90% target coverage)\n",
    "alpha = 0.1"
   ]
  },
  {
   "cell_type": "code",
   "execution_count": 37,
   "id": "eadf4555-3dd3-440e-8e35-f82a4ad9f855",
   "metadata": {
    "execution": {
     "iopub.execute_input": "2025-08-05T16:25:25.225495Z",
     "iopub.status.busy": "2025-08-05T16:25:25.224387Z",
     "iopub.status.idle": "2025-08-05T16:25:25.318534Z",
     "shell.execute_reply": "2025-08-05T16:25:25.317255Z"
    },
    "papermill": {
     "duration": 0.124312,
     "end_time": "2025-08-05T16:25:25.320959",
     "exception": false,
     "start_time": "2025-08-05T16:25:25.196647",
     "status": "completed"
    },
    "tags": []
   },
   "outputs": [],
   "source": [
    "probs_calib = model.predict_proba(X_calib)"
   ]
  },
  {
   "cell_type": "code",
   "execution_count": 38,
   "id": "2ed93547-6d5d-4983-9b36-1ecb300da49a",
   "metadata": {
    "execution": {
     "iopub.execute_input": "2025-08-05T16:25:25.379187Z",
     "iopub.status.busy": "2025-08-05T16:25:25.378107Z",
     "iopub.status.idle": "2025-08-05T16:25:25.385365Z",
     "shell.execute_reply": "2025-08-05T16:25:25.384245Z"
    },
    "papermill": {
     "duration": 0.038453,
     "end_time": "2025-08-05T16:25:25.387332",
     "exception": false,
     "start_time": "2025-08-05T16:25:25.348879",
     "status": "completed"
    },
    "tags": []
   },
   "outputs": [],
   "source": [
    "y_calib = y_calib.values.ravel().astype(int)"
   ]
  },
  {
   "cell_type": "code",
   "execution_count": 39,
   "id": "65d1320d-f588-4b38-9072-62af1ae97f7d",
   "metadata": {
    "execution": {
     "iopub.execute_input": "2025-08-05T16:25:25.443214Z",
     "iopub.status.busy": "2025-08-05T16:25:25.442796Z",
     "iopub.status.idle": "2025-08-05T16:25:25.451297Z",
     "shell.execute_reply": "2025-08-05T16:25:25.450131Z"
    },
    "papermill": {
     "duration": 0.038734,
     "end_time": "2025-08-05T16:25:25.453292",
     "exception": false,
     "start_time": "2025-08-05T16:25:25.414558",
     "status": "completed"
    },
    "tags": []
   },
   "outputs": [],
   "source": [
    "from fairness_multiverse.conformal import compute_nc_scores\n",
    "\n",
    "# Compute nonconformity scores on calibration set (1 - probability of true class)\n",
    "nc_scores = compute_nc_scores(probs_calib, y_calib)"
   ]
  },
  {
   "cell_type": "code",
   "execution_count": 40,
   "id": "df3b8ca3-53b7-43d5-9667-7c85da7aeda2",
   "metadata": {
    "execution": {
     "iopub.execute_input": "2025-08-05T16:25:25.509851Z",
     "iopub.status.busy": "2025-08-05T16:25:25.508846Z",
     "iopub.status.idle": "2025-08-05T16:25:25.516702Z",
     "shell.execute_reply": "2025-08-05T16:25:25.515531Z"
    },
    "papermill": {
     "duration": 0.037713,
     "end_time": "2025-08-05T16:25:25.518831",
     "exception": false,
     "start_time": "2025-08-05T16:25:25.481118",
     "status": "completed"
    },
    "tags": []
   },
   "outputs": [],
   "source": [
    "from fairness_multiverse.conformal import find_threshold\n",
    "\n",
    "# Find conformal threshold q_hat for the given alpha (split conformal method)\n",
    "q_hat = find_threshold(nc_scores, alpha)"
   ]
  },
  {
   "cell_type": "code",
   "execution_count": 41,
   "id": "4d29e6c1-0ef6-4aa4-b8fe-4fe79b0d033a",
   "metadata": {
    "execution": {
     "iopub.execute_input": "2025-08-05T16:25:25.575514Z",
     "iopub.status.busy": "2025-08-05T16:25:25.574914Z",
     "iopub.status.idle": "2025-08-05T16:25:25.583501Z",
     "shell.execute_reply": "2025-08-05T16:25:25.582288Z"
    },
    "papermill": {
     "duration": 0.038389,
     "end_time": "2025-08-05T16:25:25.585566",
     "exception": false,
     "start_time": "2025-08-05T16:25:25.547177",
     "status": "completed"
    },
    "tags": []
   },
   "outputs": [
    {
     "data": {
      "text/plain": [
       "0.6972878882227722"
      ]
     },
     "execution_count": 41,
     "metadata": {},
     "output_type": "execute_result"
    }
   ],
   "source": [
    "q_hat"
   ]
  },
  {
   "cell_type": "code",
   "execution_count": 42,
   "id": "92460794-cdac-4be2-ba28-f28c0515a6fb",
   "metadata": {
    "execution": {
     "iopub.execute_input": "2025-08-05T16:25:25.643308Z",
     "iopub.status.busy": "2025-08-05T16:25:25.642708Z",
     "iopub.status.idle": "2025-08-05T16:25:26.763114Z",
     "shell.execute_reply": "2025-08-05T16:25:26.761782Z"
    },
    "papermill": {
     "duration": 1.152538,
     "end_time": "2025-08-05T16:25:26.766590",
     "exception": false,
     "start_time": "2025-08-05T16:25:25.614052",
     "status": "completed"
    },
    "tags": []
   },
   "outputs": [],
   "source": [
    "from fairness_multiverse.conformal import predict_conformal_sets\n",
    "\n",
    "# Generate prediction sets for each test example\n",
    "pred_sets = predict_conformal_sets(model, X_test, q_hat)"
   ]
  },
  {
   "cell_type": "code",
   "execution_count": 43,
   "id": "d90c9a65-e6db-4f5d-80cd-e68fb7e46829",
   "metadata": {
    "execution": {
     "iopub.execute_input": "2025-08-05T16:25:26.848543Z",
     "iopub.status.busy": "2025-08-05T16:25:26.847295Z",
     "iopub.status.idle": "2025-08-05T16:25:26.854579Z",
     "shell.execute_reply": "2025-08-05T16:25:26.853241Z"
    },
    "papermill": {
     "duration": 0.05068,
     "end_time": "2025-08-05T16:25:26.856983",
     "exception": false,
     "start_time": "2025-08-05T16:25:26.806303",
     "status": "completed"
    },
    "tags": []
   },
   "outputs": [],
   "source": [
    "y_true = y_true.squeeze()"
   ]
  },
  {
   "cell_type": "code",
   "execution_count": 44,
   "id": "3a58a54a-1e68-46b9-927a-df01f18aebc8",
   "metadata": {
    "execution": {
     "iopub.execute_input": "2025-08-05T16:25:26.938071Z",
     "iopub.status.busy": "2025-08-05T16:25:26.937588Z",
     "iopub.status.idle": "2025-08-05T16:25:27.918309Z",
     "shell.execute_reply": "2025-08-05T16:25:27.914296Z"
    },
    "papermill": {
     "duration": 1.023601,
     "end_time": "2025-08-05T16:25:27.920609",
     "exception": false,
     "start_time": "2025-08-05T16:25:26.897008",
     "status": "completed"
    },
    "tags": []
   },
   "outputs": [],
   "source": [
    "from fairness_multiverse.conformal import evaluate_sets\n",
    "\n",
    "# Evaluate coverage and average set size on test data\n",
    "metrics = evaluate_sets(pred_sets, y_true)"
   ]
  },
  {
   "cell_type": "markdown",
   "id": "2b569c12-9aaa-4c88-98c9-bbcd0cf3ebb8",
   "metadata": {
    "papermill": {
     "duration": 0.023924,
     "end_time": "2025-08-05T16:25:27.973535",
     "exception": false,
     "start_time": "2025-08-05T16:25:27.949611",
     "status": "completed"
    },
    "tags": []
   },
   "source": [
    "# CP Metrics"
   ]
  },
  {
   "cell_type": "code",
   "execution_count": 45,
   "id": "5ce0a5cb-201f-45a0-ade5-94c7f0bd6095",
   "metadata": {
    "execution": {
     "iopub.execute_input": "2025-08-05T16:25:28.031321Z",
     "iopub.status.busy": "2025-08-05T16:25:28.030779Z",
     "iopub.status.idle": "2025-08-05T16:25:28.038870Z",
     "shell.execute_reply": "2025-08-05T16:25:28.037624Z"
    },
    "papermill": {
     "duration": 0.039857,
     "end_time": "2025-08-05T16:25:28.041063",
     "exception": false,
     "start_time": "2025-08-05T16:25:28.001206",
     "status": "completed"
    },
    "tags": []
   },
   "outputs": [
    {
     "data": {
      "text/plain": [
       "{'coverage': 0.911793557017055, 'avg_size': 1.2003121168208672}"
      ]
     },
     "execution_count": 45,
     "metadata": {},
     "output_type": "execute_result"
    }
   ],
   "source": [
    "metrics"
   ]
  },
  {
   "cell_type": "code",
   "execution_count": 46,
   "id": "9b9a838d-31c9-430b-ae14-12baee460d17",
   "metadata": {
    "execution": {
     "iopub.execute_input": "2025-08-05T16:25:28.102572Z",
     "iopub.status.busy": "2025-08-05T16:25:28.101957Z",
     "iopub.status.idle": "2025-08-05T16:25:28.110920Z",
     "shell.execute_reply": "2025-08-05T16:25:28.109577Z"
    },
    "papermill": {
     "duration": 0.044501,
     "end_time": "2025-08-05T16:25:28.112905",
     "exception": false,
     "start_time": "2025-08-05T16:25:28.068404",
     "status": "completed"
    },
    "tags": []
   },
   "outputs": [],
   "source": [
    "example_universe = universe.copy()\n",
    "universe_training_year = example_universe.get(\"training_year\")\n",
    "universe_training_size = example_universe.get(\"training_size\")\n",
    "universe_scale = example_universe.get(\"scale\")\n",
    "universe_model = example_universe.get(\"model\")\n",
    "universe_exclude_features = example_universe.get(\"exclude_features\")\n",
    "universe_exclude_subgroups = example_universe.get(\"exclude_subgroups\")"
   ]
  },
  {
   "cell_type": "code",
   "execution_count": 47,
   "id": "f4b6a8ac-9dc0-4245-8a91-5b3b5999c4f9",
   "metadata": {
    "execution": {
     "iopub.execute_input": "2025-08-05T16:25:28.166379Z",
     "iopub.status.busy": "2025-08-05T16:25:28.165112Z",
     "iopub.status.idle": "2025-08-05T16:25:28.174325Z",
     "shell.execute_reply": "2025-08-05T16:25:28.172886Z"
    },
    "papermill": {
     "duration": 0.037775,
     "end_time": "2025-08-05T16:25:28.176265",
     "exception": false,
     "start_time": "2025-08-05T16:25:28.138490",
     "status": "completed"
    },
    "tags": []
   },
   "outputs": [],
   "source": [
    "cp_metrics_dict = {\n",
    "    \"universe_id\": [universe_id],\n",
    "    \"universe_training_year\": [universe_training_year],\n",
    "    \"universe_training_size\": [universe_training_size],\n",
    "    \"universe_scale\": [universe_scale],\n",
    "    \"universe_model\": [universe_model],\n",
    "    \"universe_exclude_features\": [universe_exclude_features],\n",
    "    \"universe_exclude_subgroups\": [universe_exclude_subgroups],\n",
    "    \"q_hat\": [q_hat],\n",
    "    \"coverage\": [metrics[\"coverage\"]],\n",
    "    \"avg_size\": [metrics[\"avg_size\"]],\n",
    "}"
   ]
  },
  {
   "cell_type": "code",
   "execution_count": 48,
   "id": "908acbb1-0371-4915-85ca-3fa520d2efe2",
   "metadata": {
    "execution": {
     "iopub.execute_input": "2025-08-05T16:25:28.228632Z",
     "iopub.status.busy": "2025-08-05T16:25:28.227538Z",
     "iopub.status.idle": "2025-08-05T16:25:28.238333Z",
     "shell.execute_reply": "2025-08-05T16:25:28.237139Z"
    },
    "papermill": {
     "duration": 0.03885,
     "end_time": "2025-08-05T16:25:28.240292",
     "exception": false,
     "start_time": "2025-08-05T16:25:28.201442",
     "status": "completed"
    },
    "tags": []
   },
   "outputs": [
    {
     "data": {
      "text/plain": [
       "{'universe_id': ['ace6b4e5d8eed5e182389fe6c32f9a46'],\n",
       " 'universe_training_year': ['2012_14'],\n",
       " 'universe_training_size': ['1k'],\n",
       " 'universe_scale': ['do-not-scale'],\n",
       " 'universe_model': ['penalized_logreg'],\n",
       " 'universe_exclude_features': ['sex'],\n",
       " 'universe_exclude_subgroups': ['keep-all'],\n",
       " 'q_hat': [0.6972878882227722],\n",
       " 'coverage': [0.911793557017055],\n",
       " 'avg_size': [1.2003121168208672]}"
      ]
     },
     "execution_count": 48,
     "metadata": {},
     "output_type": "execute_result"
    }
   ],
   "source": [
    "cp_metrics_dict"
   ]
  },
  {
   "cell_type": "code",
   "execution_count": 49,
   "id": "33007efc-14e9-4ec6-97ac-56a455c82265",
   "metadata": {
    "execution": {
     "iopub.execute_input": "2025-08-05T16:25:28.296045Z",
     "iopub.status.busy": "2025-08-05T16:25:28.295092Z",
     "iopub.status.idle": "2025-08-05T16:25:28.305162Z",
     "shell.execute_reply": "2025-08-05T16:25:28.303722Z"
    },
    "papermill": {
     "duration": 0.041436,
     "end_time": "2025-08-05T16:25:28.307323",
     "exception": false,
     "start_time": "2025-08-05T16:25:28.265887",
     "status": "completed"
    },
    "tags": []
   },
   "outputs": [],
   "source": [
    "cp_metrics_df = pd.DataFrame(cp_metrics_dict)"
   ]
  },
  {
   "cell_type": "code",
   "execution_count": 50,
   "id": "db12611b-57b2-4910-b9d0-355adfd6e7bf",
   "metadata": {
    "execution": {
     "iopub.execute_input": "2025-08-05T16:25:28.361296Z",
     "iopub.status.busy": "2025-08-05T16:25:28.360209Z",
     "iopub.status.idle": "2025-08-05T16:25:28.390909Z",
     "shell.execute_reply": "2025-08-05T16:25:28.389580Z"
    },
    "papermill": {
     "duration": 0.05942,
     "end_time": "2025-08-05T16:25:28.393020",
     "exception": false,
     "start_time": "2025-08-05T16:25:28.333600",
     "status": "completed"
    },
    "tags": []
   },
   "outputs": [
    {
     "data": {
      "text/html": [
       "<div>\n",
       "<style scoped>\n",
       "    .dataframe tbody tr th:only-of-type {\n",
       "        vertical-align: middle;\n",
       "    }\n",
       "\n",
       "    .dataframe tbody tr th {\n",
       "        vertical-align: top;\n",
       "    }\n",
       "\n",
       "    .dataframe thead th {\n",
       "        text-align: right;\n",
       "    }\n",
       "</style>\n",
       "<table border=\"1\" class=\"dataframe\">\n",
       "  <thead>\n",
       "    <tr style=\"text-align: right;\">\n",
       "      <th></th>\n",
       "      <th>universe_id</th>\n",
       "      <th>universe_training_year</th>\n",
       "      <th>universe_training_size</th>\n",
       "      <th>universe_scale</th>\n",
       "      <th>universe_model</th>\n",
       "      <th>universe_exclude_features</th>\n",
       "      <th>universe_exclude_subgroups</th>\n",
       "      <th>q_hat</th>\n",
       "      <th>coverage</th>\n",
       "      <th>avg_size</th>\n",
       "    </tr>\n",
       "  </thead>\n",
       "  <tbody>\n",
       "    <tr>\n",
       "      <th>0</th>\n",
       "      <td>ace6b4e5d8eed5e182389fe6c32f9a46</td>\n",
       "      <td>2012_14</td>\n",
       "      <td>1k</td>\n",
       "      <td>do-not-scale</td>\n",
       "      <td>penalized_logreg</td>\n",
       "      <td>sex</td>\n",
       "      <td>keep-all</td>\n",
       "      <td>0.697288</td>\n",
       "      <td>0.911794</td>\n",
       "      <td>1.200312</td>\n",
       "    </tr>\n",
       "  </tbody>\n",
       "</table>\n",
       "</div>"
      ],
      "text/plain": [
       "                        universe_id universe_training_year  \\\n",
       "0  ace6b4e5d8eed5e182389fe6c32f9a46                2012_14   \n",
       "\n",
       "  universe_training_size universe_scale    universe_model  \\\n",
       "0                     1k   do-not-scale  penalized_logreg   \n",
       "\n",
       "  universe_exclude_features universe_exclude_subgroups     q_hat  coverage  \\\n",
       "0                       sex                   keep-all  0.697288  0.911794   \n",
       "\n",
       "   avg_size  \n",
       "0  1.200312  "
      ]
     },
     "execution_count": 50,
     "metadata": {},
     "output_type": "execute_result"
    }
   ],
   "source": [
    "cp_metrics_df"
   ]
  },
  {
   "cell_type": "code",
   "execution_count": 51,
   "id": "b7fbde55-a0a1-47e4-9af6-fe4a17fa8c61",
   "metadata": {
    "execution": {
     "iopub.execute_input": "2025-08-05T16:25:28.451917Z",
     "iopub.status.busy": "2025-08-05T16:25:28.450794Z",
     "iopub.status.idle": "2025-08-05T16:25:28.457659Z",
     "shell.execute_reply": "2025-08-05T16:25:28.456422Z"
    },
    "papermill": {
     "duration": 0.036648,
     "end_time": "2025-08-05T16:25:28.459781",
     "exception": false,
     "start_time": "2025-08-05T16:25:28.423133",
     "status": "completed"
    },
    "tags": []
   },
   "outputs": [],
   "source": [
    "# Conditional Coverage & looking at subgroups"
   ]
  },
  {
   "cell_type": "code",
   "execution_count": 52,
   "id": "027ae886-68dd-4141-96c7-805a5450e1ef",
   "metadata": {
    "execution": {
     "iopub.execute_input": "2025-08-05T16:25:28.513892Z",
     "iopub.status.busy": "2025-08-05T16:25:28.512780Z",
     "iopub.status.idle": "2025-08-05T16:25:28.794963Z",
     "shell.execute_reply": "2025-08-05T16:25:28.793997Z"
    },
    "papermill": {
     "duration": 0.311721,
     "end_time": "2025-08-05T16:25:28.796972",
     "exception": false,
     "start_time": "2025-08-05T16:25:28.485251",
     "status": "completed"
    },
    "tags": []
   },
   "outputs": [],
   "source": [
    "from fairness_multiverse.conformal import build_cp_groups\n",
    "\n",
    "cp_groups_df = build_cp_groups(pred_sets, y_true, X_test.index, org_test)\n",
    "#needs universe_id and setting"
   ]
  },
  {
   "cell_type": "code",
   "execution_count": 53,
   "id": "6cbdab96-b2b2-45af-ad54-d0516db2e28d",
   "metadata": {
    "execution": {
     "iopub.execute_input": "2025-08-05T16:25:28.865774Z",
     "iopub.status.busy": "2025-08-05T16:25:28.864906Z",
     "iopub.status.idle": "2025-08-05T16:25:30.892421Z",
     "shell.execute_reply": "2025-08-05T16:25:30.891125Z"
    },
    "papermill": {
     "duration": 2.057644,
     "end_time": "2025-08-05T16:25:30.895124",
     "exception": false,
     "start_time": "2025-08-05T16:25:28.837480",
     "status": "completed"
    },
    "tags": []
   },
   "outputs": [],
   "source": [
    "# Define covered = 1 if true_label is in the predicted set\n",
    "cp_groups_df['covered'] = cp_groups_df.apply(\n",
    "    lambda r: int(r['true_label'] in r['pred_set']),\n",
    "    axis=1\n",
    ")"
   ]
  },
  {
   "cell_type": "code",
   "execution_count": 54,
   "id": "338ff529-1a6b-4b87-a931-8e4788d52aad",
   "metadata": {
    "execution": {
     "iopub.execute_input": "2025-08-05T16:25:30.954735Z",
     "iopub.status.busy": "2025-08-05T16:25:30.953559Z",
     "iopub.status.idle": "2025-08-05T16:25:30.974010Z",
     "shell.execute_reply": "2025-08-05T16:25:30.958672Z"
    },
    "papermill": {
     "duration": 0.052257,
     "end_time": "2025-08-05T16:25:30.976288",
     "exception": false,
     "start_time": "2025-08-05T16:25:30.924031",
     "status": "completed"
    },
    "tags": []
   },
   "outputs": [],
   "source": [
    "#cp_groups_df"
   ]
  },
  {
   "cell_type": "code",
   "execution_count": 55,
   "id": "90032e27-66df-4540-9169-4e89cfbaa758",
   "metadata": {
    "execution": {
     "iopub.execute_input": "2025-08-05T16:25:31.030678Z",
     "iopub.status.busy": "2025-08-05T16:25:31.029200Z",
     "iopub.status.idle": "2025-08-05T16:25:31.046821Z",
     "shell.execute_reply": "2025-08-05T16:25:31.045619Z"
    },
    "papermill": {
     "duration": 0.043959,
     "end_time": "2025-08-05T16:25:31.048753",
     "exception": false,
     "start_time": "2025-08-05T16:25:31.004794",
     "status": "completed"
    },
    "tags": []
   },
   "outputs": [],
   "source": [
    "subgroups = ['frau1','nongerman','nongerman_male','nongerman_female']\n",
    "\n",
    "# Conditional coverage for subgroup==1\n",
    "cond_coverage = {\n",
    "    g: cp_groups_df.loc[cp_groups_df[g]==1, 'covered'].mean()\n",
    "    for g in subgroups\n",
    "}"
   ]
  },
  {
   "cell_type": "code",
   "execution_count": 56,
   "id": "1e348fb1-b9c3-45bc-ba23-f016827a7e0d",
   "metadata": {
    "execution": {
     "iopub.execute_input": "2025-08-05T16:25:31.102478Z",
     "iopub.status.busy": "2025-08-05T16:25:31.101796Z",
     "iopub.status.idle": "2025-08-05T16:25:31.172500Z",
     "shell.execute_reply": "2025-08-05T16:25:31.171146Z"
    },
    "papermill": {
     "duration": 0.098871,
     "end_time": "2025-08-05T16:25:31.174682",
     "exception": false,
     "start_time": "2025-08-05T16:25:31.075811",
     "status": "completed"
    },
    "tags": []
   },
   "outputs": [
    {
     "data": {
      "text/plain": [
       "{'frau1': 0.9092600080873433,\n",
       " 'nongerman': 0.9268511761073374,\n",
       " 'nongerman_male': 0.9410970008105918,\n",
       " 'nongerman_female': 0.9032786885245901}"
      ]
     },
     "execution_count": 56,
     "metadata": {},
     "output_type": "execute_result"
    }
   ],
   "source": [
    "cond_coverage"
   ]
  },
  {
   "cell_type": "code",
   "execution_count": 57,
   "id": "f5093324-c3dd-4d63-bc4c-8d945e5c8bbb",
   "metadata": {
    "execution": {
     "iopub.execute_input": "2025-08-05T16:25:31.229443Z",
     "iopub.status.busy": "2025-08-05T16:25:31.228368Z",
     "iopub.status.idle": "2025-08-05T16:25:31.266076Z",
     "shell.execute_reply": "2025-08-05T16:25:31.264895Z"
    },
    "papermill": {
     "duration": 0.067681,
     "end_time": "2025-08-05T16:25:31.268204",
     "exception": false,
     "start_time": "2025-08-05T16:25:31.200523",
     "status": "completed"
    },
    "tags": []
   },
   "outputs": [],
   "source": [
    "for subgroup, cov in cond_coverage.items():\n",
    "    cp_metrics_df[f\"cov_{subgroup}\"] = cov"
   ]
  },
  {
   "cell_type": "code",
   "execution_count": 58,
   "id": "6e872e10-dbe5-49e8-b554-5030c98ff75d",
   "metadata": {
    "execution": {
     "iopub.execute_input": "2025-08-05T16:25:31.324467Z",
     "iopub.status.busy": "2025-08-05T16:25:31.323571Z",
     "iopub.status.idle": "2025-08-05T16:25:31.345483Z",
     "shell.execute_reply": "2025-08-05T16:25:31.344373Z"
    },
    "papermill": {
     "duration": 0.050793,
     "end_time": "2025-08-05T16:25:31.347301",
     "exception": false,
     "start_time": "2025-08-05T16:25:31.296508",
     "status": "completed"
    },
    "tags": []
   },
   "outputs": [
    {
     "data": {
      "text/html": [
       "<div>\n",
       "<style scoped>\n",
       "    .dataframe tbody tr th:only-of-type {\n",
       "        vertical-align: middle;\n",
       "    }\n",
       "\n",
       "    .dataframe tbody tr th {\n",
       "        vertical-align: top;\n",
       "    }\n",
       "\n",
       "    .dataframe thead th {\n",
       "        text-align: right;\n",
       "    }\n",
       "</style>\n",
       "<table border=\"1\" class=\"dataframe\">\n",
       "  <thead>\n",
       "    <tr style=\"text-align: right;\">\n",
       "      <th></th>\n",
       "      <th>universe_id</th>\n",
       "      <th>universe_training_year</th>\n",
       "      <th>universe_training_size</th>\n",
       "      <th>universe_scale</th>\n",
       "      <th>universe_model</th>\n",
       "      <th>universe_exclude_features</th>\n",
       "      <th>universe_exclude_subgroups</th>\n",
       "      <th>q_hat</th>\n",
       "      <th>coverage</th>\n",
       "      <th>avg_size</th>\n",
       "      <th>cov_frau1</th>\n",
       "      <th>cov_nongerman</th>\n",
       "      <th>cov_nongerman_male</th>\n",
       "      <th>cov_nongerman_female</th>\n",
       "    </tr>\n",
       "  </thead>\n",
       "  <tbody>\n",
       "    <tr>\n",
       "      <th>0</th>\n",
       "      <td>ace6b4e5d8eed5e182389fe6c32f9a46</td>\n",
       "      <td>2012_14</td>\n",
       "      <td>1k</td>\n",
       "      <td>do-not-scale</td>\n",
       "      <td>penalized_logreg</td>\n",
       "      <td>sex</td>\n",
       "      <td>keep-all</td>\n",
       "      <td>0.697288</td>\n",
       "      <td>0.911794</td>\n",
       "      <td>1.200312</td>\n",
       "      <td>0.90926</td>\n",
       "      <td>0.926851</td>\n",
       "      <td>0.941097</td>\n",
       "      <td>0.903279</td>\n",
       "    </tr>\n",
       "  </tbody>\n",
       "</table>\n",
       "</div>"
      ],
      "text/plain": [
       "                        universe_id universe_training_year  \\\n",
       "0  ace6b4e5d8eed5e182389fe6c32f9a46                2012_14   \n",
       "\n",
       "  universe_training_size universe_scale    universe_model  \\\n",
       "0                     1k   do-not-scale  penalized_logreg   \n",
       "\n",
       "  universe_exclude_features universe_exclude_subgroups     q_hat  coverage  \\\n",
       "0                       sex                   keep-all  0.697288  0.911794   \n",
       "\n",
       "   avg_size  cov_frau1  cov_nongerman  cov_nongerman_male  \\\n",
       "0  1.200312    0.90926       0.926851            0.941097   \n",
       "\n",
       "   cov_nongerman_female  \n",
       "0              0.903279  "
      ]
     },
     "execution_count": 58,
     "metadata": {},
     "output_type": "execute_result"
    }
   ],
   "source": [
    "cp_metrics_df"
   ]
  },
  {
   "cell_type": "markdown",
   "id": "33774451",
   "metadata": {
    "papermill": {
     "duration": 0.026882,
     "end_time": "2025-08-05T16:25:31.400670",
     "exception": false,
     "start_time": "2025-08-05T16:25:31.373788",
     "status": "completed"
    },
    "tags": []
   },
   "source": [
    "# (Fairness) Metrics"
   ]
  },
  {
   "cell_type": "code",
   "execution_count": 59,
   "id": "debc5d62",
   "metadata": {
    "execution": {
     "iopub.execute_input": "2025-08-05T16:25:31.458538Z",
     "iopub.status.busy": "2025-08-05T16:25:31.457583Z",
     "iopub.status.idle": "2025-08-05T16:25:31.481465Z",
     "shell.execute_reply": "2025-08-05T16:25:31.480302Z"
    },
    "papermill": {
     "duration": 0.053092,
     "end_time": "2025-08-05T16:25:31.483525",
     "exception": false,
     "start_time": "2025-08-05T16:25:31.430433",
     "status": "completed"
    },
    "tags": []
   },
   "outputs": [],
   "source": [
    "# do I need to include maxdeutsch1.missing?\n",
    "\n",
    "import numpy as np\n",
    "\n",
    "colname_to_bin = \"maxdeutsch1\"\n",
    "majority_value = org_train[colname_to_bin].mode()[0]\n",
    "\n",
    "org_test[\"majmin\"] = np.where(org_test[colname_to_bin] == majority_value, \"majority\", \"minority\")"
   ]
  },
  {
   "cell_type": "code",
   "execution_count": 60,
   "id": "06a50de5",
   "metadata": {
    "execution": {
     "iopub.execute_input": "2025-08-05T16:25:31.539109Z",
     "iopub.status.busy": "2025-08-05T16:25:31.538245Z",
     "iopub.status.idle": "2025-08-05T16:25:35.076885Z",
     "shell.execute_reply": "2025-08-05T16:25:35.075968Z"
    },
    "papermill": {
     "duration": 3.567328,
     "end_time": "2025-08-05T16:25:35.078867",
     "exception": false,
     "start_time": "2025-08-05T16:25:31.511539",
     "status": "completed"
    },
    "tags": []
   },
   "outputs": [],
   "source": [
    "example_universe = universe.copy()\n",
    "example_universe[\"cutoff\"] = example_universe[\"cutoff\"][0]\n",
    "example_universe[\"eval_fairness_grouping\"] = example_universe[\"eval_fairness_grouping\"][0]\n",
    "fairness_dict, metric_frame = universe_analysis.compute_metrics(\n",
    "    example_universe,\n",
    "    y_pred_prob=probs_test,\n",
    "    y_test=y_true,\n",
    "    org_test=org_test,\n",
    ")"
   ]
  },
  {
   "cell_type": "markdown",
   "id": "f95d4e02",
   "metadata": {
    "papermill": {
     "duration": 0.024238,
     "end_time": "2025-08-05T16:25:35.132391",
     "exception": false,
     "start_time": "2025-08-05T16:25:35.108153",
     "status": "completed"
    },
    "tags": []
   },
   "source": [
    "# Overall"
   ]
  },
  {
   "cell_type": "markdown",
   "id": "bdee4871",
   "metadata": {
    "papermill": {
     "duration": 0.026351,
     "end_time": "2025-08-05T16:25:35.190642",
     "exception": false,
     "start_time": "2025-08-05T16:25:35.164291",
     "status": "completed"
    },
    "tags": []
   },
   "source": [
    "Fairness\n",
    "Main fairness target: Equalized Odds. Seems to be a better fit than equal opportunity, since we're not only interested in Y = 1. Seems to be a better fit than demographic parity, since we also care about accuracy, not just equal distribution of preds.\n",
    "\n",
    "Pick column for computation of fairness metrics\n",
    "\n",
    "Performance\n",
    "Overall performance measures, most interesting in relation to the measures split by group below"
   ]
  },
  {
   "cell_type": "code",
   "execution_count": 61,
   "id": "c4e067c6",
   "metadata": {
    "execution": {
     "iopub.execute_input": "2025-08-05T16:25:35.243966Z",
     "iopub.status.busy": "2025-08-05T16:25:35.243041Z",
     "iopub.status.idle": "2025-08-05T16:25:35.252302Z",
     "shell.execute_reply": "2025-08-05T16:25:35.251229Z"
    },
    "papermill": {
     "duration": 0.040854,
     "end_time": "2025-08-05T16:25:35.254293",
     "exception": false,
     "start_time": "2025-08-05T16:25:35.213439",
     "status": "completed"
    },
    "tags": []
   },
   "outputs": [
    {
     "data": {
      "text/plain": [
       "accuracy                   0.214859\n",
       "balanced accuracy          0.527353\n",
       "f1                         0.236452\n",
       "precision                  0.135077\n",
       "false positive rate        0.892982\n",
       "false negative rate        0.052311\n",
       "selection rate             0.900000\n",
       "count                  89710.000000\n",
       "dtype: float64"
      ]
     },
     "execution_count": 61,
     "metadata": {},
     "output_type": "execute_result"
    }
   ],
   "source": [
    "metric_frame.overall"
   ]
  },
  {
   "cell_type": "markdown",
   "id": "e968fe9d",
   "metadata": {
    "papermill": {
     "duration": 0.024024,
     "end_time": "2025-08-05T16:25:35.302867",
     "exception": false,
     "start_time": "2025-08-05T16:25:35.278843",
     "status": "completed"
    },
    "tags": []
   },
   "source": [
    "By Group"
   ]
  },
  {
   "cell_type": "code",
   "execution_count": 62,
   "id": "ec325bce",
   "metadata": {
    "execution": {
     "iopub.execute_input": "2025-08-05T16:25:35.356229Z",
     "iopub.status.busy": "2025-08-05T16:25:35.355464Z",
     "iopub.status.idle": "2025-08-05T16:25:35.373416Z",
     "shell.execute_reply": "2025-08-05T16:25:35.372358Z"
    },
    "papermill": {
     "duration": 0.04932,
     "end_time": "2025-08-05T16:25:35.375232",
     "exception": false,
     "start_time": "2025-08-05T16:25:35.325912",
     "status": "completed"
    },
    "tags": []
   },
   "outputs": [
    {
     "data": {
      "text/html": [
       "<div>\n",
       "<style scoped>\n",
       "    .dataframe tbody tr th:only-of-type {\n",
       "        vertical-align: middle;\n",
       "    }\n",
       "\n",
       "    .dataframe tbody tr th {\n",
       "        vertical-align: top;\n",
       "    }\n",
       "\n",
       "    .dataframe thead th {\n",
       "        text-align: right;\n",
       "    }\n",
       "</style>\n",
       "<table border=\"1\" class=\"dataframe\">\n",
       "  <thead>\n",
       "    <tr style=\"text-align: right;\">\n",
       "      <th></th>\n",
       "      <th>accuracy</th>\n",
       "      <th>balanced accuracy</th>\n",
       "      <th>f1</th>\n",
       "      <th>precision</th>\n",
       "      <th>false positive rate</th>\n",
       "      <th>false negative rate</th>\n",
       "      <th>selection rate</th>\n",
       "      <th>count</th>\n",
       "    </tr>\n",
       "    <tr>\n",
       "      <th>majmin</th>\n",
       "      <th></th>\n",
       "      <th></th>\n",
       "      <th></th>\n",
       "      <th></th>\n",
       "      <th></th>\n",
       "      <th></th>\n",
       "      <th></th>\n",
       "      <th></th>\n",
       "    </tr>\n",
       "  </thead>\n",
       "  <tbody>\n",
       "    <tr>\n",
       "      <th>majority</th>\n",
       "      <td>0.236143</td>\n",
       "      <td>0.533672</td>\n",
       "      <td>0.245027</td>\n",
       "      <td>0.140918</td>\n",
       "      <td>0.870731</td>\n",
       "      <td>0.061926</td>\n",
       "      <td>0.879630</td>\n",
       "      <td>69170.0</td>\n",
       "    </tr>\n",
       "    <tr>\n",
       "      <th>minority</th>\n",
       "      <td>0.143184</td>\n",
       "      <td>0.509155</td>\n",
       "      <td>0.209496</td>\n",
       "      <td>0.117215</td>\n",
       "      <td>0.966487</td>\n",
       "      <td>0.015203</td>\n",
       "      <td>0.968598</td>\n",
       "      <td>20540.0</td>\n",
       "    </tr>\n",
       "  </tbody>\n",
       "</table>\n",
       "</div>"
      ],
      "text/plain": [
       "          accuracy  balanced accuracy        f1  precision  \\\n",
       "majmin                                                       \n",
       "majority  0.236143           0.533672  0.245027   0.140918   \n",
       "minority  0.143184           0.509155  0.209496   0.117215   \n",
       "\n",
       "          false positive rate  false negative rate  selection rate    count  \n",
       "majmin                                                                       \n",
       "majority             0.870731             0.061926        0.879630  69170.0  \n",
       "minority             0.966487             0.015203        0.968598  20540.0  "
      ]
     },
     "execution_count": 62,
     "metadata": {},
     "output_type": "execute_result"
    }
   ],
   "source": [
    "metric_frame.by_group"
   ]
  },
  {
   "cell_type": "code",
   "execution_count": 63,
   "id": "a9ddbe63",
   "metadata": {
    "execution": {
     "iopub.execute_input": "2025-08-05T16:25:35.435274Z",
     "iopub.status.busy": "2025-08-05T16:25:35.434330Z",
     "iopub.status.idle": "2025-08-05T16:25:38.108164Z",
     "shell.execute_reply": "2025-08-05T16:25:38.107126Z"
    },
    "papermill": {
     "duration": 2.705304,
     "end_time": "2025-08-05T16:25:38.110102",
     "exception": false,
     "start_time": "2025-08-05T16:25:35.404798",
     "status": "completed"
    },
    "tags": []
   },
   "outputs": [
    {
     "data": {
      "text/plain": [
       "array([[<Axes: title={'center': 'accuracy'}, xlabel='majmin'>,\n",
       "        <Axes: title={'center': 'balanced accuracy'}, xlabel='majmin'>,\n",
       "        <Axes: title={'center': 'f1'}, xlabel='majmin'>],\n",
       "       [<Axes: title={'center': 'precision'}, xlabel='majmin'>,\n",
       "        <Axes: title={'center': 'false positive rate'}, xlabel='majmin'>,\n",
       "        <Axes: title={'center': 'false negative rate'}, xlabel='majmin'>],\n",
       "       [<Axes: title={'center': 'selection rate'}, xlabel='majmin'>,\n",
       "        <Axes: title={'center': 'count'}, xlabel='majmin'>,\n",
       "        <Axes: xlabel='majmin'>]], dtype=object)"
      ]
     },
     "execution_count": 63,
     "metadata": {},
     "output_type": "execute_result"
    },
    {
     "data": {
      "image/png": "[encoded data removed]",
      "text/plain": [
       "<Figure size 1200x800 with 9 Axes>"
      ]
     },
     "metadata": {},
     "output_type": "display_data"
    }
   ],
   "source": [
    "# In a graphic\n",
    "metric_frame.by_group.plot.bar(\n",
    "    subplots=True,\n",
    "    layout=[3, 3],\n",
    "    legend=False,\n",
    "    figsize=[12, 8],\n",
    "    title=\"Show all metrics\",\n",
    ")"
   ]
  },
  {
   "cell_type": "markdown",
   "id": "f57a0bac",
   "metadata": {
    "papermill": {
     "duration": 0.033275,
     "end_time": "2025-08-05T16:25:38.175529",
     "exception": false,
     "start_time": "2025-08-05T16:25:38.142254",
     "status": "completed"
    },
    "tags": []
   },
   "source": [
    "# Final Output"
   ]
  },
  {
   "cell_type": "code",
   "execution_count": 64,
   "id": "96d280a3",
   "metadata": {
    "execution": {
     "iopub.execute_input": "2025-08-05T16:25:38.239402Z",
     "iopub.status.busy": "2025-08-05T16:25:38.238675Z",
     "iopub.status.idle": "2025-08-05T16:25:38.248384Z",
     "shell.execute_reply": "2025-08-05T16:25:38.247344Z"
    },
    "papermill": {
     "duration": 0.043878,
     "end_time": "2025-08-05T16:25:38.250312",
     "exception": false,
     "start_time": "2025-08-05T16:25:38.206434",
     "status": "completed"
    },
    "tags": []
   },
   "outputs": [
    {
     "data": {
      "text/plain": [
       "4"
      ]
     },
     "execution_count": 64,
     "metadata": {},
     "output_type": "execute_result"
    }
   ],
   "source": [
    "sub_universes = universe_analysis.generate_sub_universes()\n",
    "len(sub_universes)"
   ]
  },
  {
   "cell_type": "code",
   "execution_count": 65,
   "id": "92adf7ba",
   "metadata": {
    "execution": {
     "iopub.execute_input": "2025-08-05T16:25:38.315676Z",
     "iopub.status.busy": "2025-08-05T16:25:38.314690Z",
     "iopub.status.idle": "2025-08-05T16:25:38.321928Z",
     "shell.execute_reply": "2025-08-05T16:25:38.320713Z"
    },
    "papermill": {
     "duration": 0.0418,
     "end_time": "2025-08-05T16:25:38.323930",
     "exception": false,
     "start_time": "2025-08-05T16:25:38.282130",
     "status": "completed"
    },
    "tags": []
   },
   "outputs": [],
   "source": [
    "def filter_sub_universe_data(sub_universe, org_test):\n",
    "    # Keep all rows — no filtering\n",
    "    keep_rows_mask = np.ones(org_test.shape[0], dtype=bool)\n",
    "\n",
    "    print(f\"[INFO] Keeping all rows: {keep_rows_mask.sum()} rows retained.\")\n",
    "    return keep_rows_mask"
   ]
  },
  {
   "cell_type": "code",
   "execution_count": 66,
   "id": "4a759155",
   "metadata": {
    "execution": {
     "iopub.execute_input": "2025-08-05T16:25:38.389009Z",
     "iopub.status.busy": "2025-08-05T16:25:38.388303Z",
     "iopub.status.idle": "2025-08-05T16:25:48.977774Z",
     "shell.execute_reply": "2025-08-05T16:25:48.976707Z"
    },
    "papermill": {
     "duration": 10.623897,
     "end_time": "2025-08-05T16:25:48.979419",
     "exception": false,
     "start_time": "2025-08-05T16:25:38.355522",
     "status": "completed"
    },
    "tags": []
   },
   "outputs": [
    {
     "name": "stdout",
     "output_type": "stream",
     "text": [
      "Stopping execution_time clock.\n",
      "[INFO] Keeping all rows: 89710 rows retained.\n"
     ]
    },
    {
     "name": "stdout",
     "output_type": "stream",
     "text": [
      "[INFO] Keeping all rows: 89710 rows retained.\n"
     ]
    },
    {
     "name": "stdout",
     "output_type": "stream",
     "text": [
      "[INFO] Keeping all rows: 89710 rows retained.\n"
     ]
    },
    {
     "name": "stdout",
     "output_type": "stream",
     "text": [
      "[INFO] Keeping all rows: 89710 rows retained.\n"
     ]
    },
    {
     "data": {
      "text/html": [
       "<div>\n",
       "<style scoped>\n",
       "    .dataframe tbody tr th:only-of-type {\n",
       "        vertical-align: middle;\n",
       "    }\n",
       "\n",
       "    .dataframe tbody tr th {\n",
       "        vertical-align: top;\n",
       "    }\n",
       "\n",
       "    .dataframe thead th {\n",
       "        text-align: right;\n",
       "    }\n",
       "</style>\n",
       "<table border=\"1\" class=\"dataframe\">\n",
       "  <thead>\n",
       "    <tr style=\"text-align: right;\">\n",
       "      <th></th>\n",
       "      <th>run_no</th>\n",
       "      <th>universe_id</th>\n",
       "      <th>universe_settings</th>\n",
       "      <th>execution_time</th>\n",
       "      <th>test_size_n</th>\n",
       "      <th>test_size_frac</th>\n",
       "      <th>fair_main_equalized_odds_difference</th>\n",
       "      <th>fair_main_equalized_odds_ratio</th>\n",
       "      <th>fair_main_demographic_parity_difference</th>\n",
       "      <th>fair_main_demographic_parity_ratio</th>\n",
       "      <th>...</th>\n",
       "      <th>perf_grp_precision_0</th>\n",
       "      <th>perf_grp_precision_1</th>\n",
       "      <th>perf_grp_false positive rate_0</th>\n",
       "      <th>perf_grp_false positive rate_1</th>\n",
       "      <th>perf_grp_false negative rate_0</th>\n",
       "      <th>perf_grp_false negative rate_1</th>\n",
       "      <th>perf_grp_selection rate_0</th>\n",
       "      <th>perf_grp_selection rate_1</th>\n",
       "      <th>perf_grp_count_0</th>\n",
       "      <th>perf_grp_count_1</th>\n",
       "    </tr>\n",
       "  </thead>\n",
       "  <tbody>\n",
       "    <tr>\n",
       "      <th>0</th>\n",
       "      <td>15</td>\n",
       "      <td>ace6b4e5d8eed5e182389fe6c32f9a46</td>\n",
       "      <td>{\"cutoff\": \"quantile_0.1\", \"eval_fairness_grou...</td>\n",
       "      <td>29.10234</td>\n",
       "      <td>89710</td>\n",
       "      <td>1.0</td>\n",
       "      <td>0.095756</td>\n",
       "      <td>0.900924</td>\n",
       "      <td>0.088968</td>\n",
       "      <td>0.908148</td>\n",
       "      <td>...</td>\n",
       "      <td>NaN</td>\n",
       "      <td>NaN</td>\n",
       "      <td>NaN</td>\n",
       "      <td>NaN</td>\n",
       "      <td>NaN</td>\n",
       "      <td>NaN</td>\n",
       "      <td>NaN</td>\n",
       "      <td>NaN</td>\n",
       "      <td>NaN</td>\n",
       "      <td>NaN</td>\n",
       "    </tr>\n",
       "    <tr>\n",
       "      <th>0</th>\n",
       "      <td>15</td>\n",
       "      <td>ace6b4e5d8eed5e182389fe6c32f9a46</td>\n",
       "      <td>{\"cutoff\": \"quantile_0.1\", \"eval_fairness_grou...</td>\n",
       "      <td>29.10234</td>\n",
       "      <td>89710</td>\n",
       "      <td>1.0</td>\n",
       "      <td>0.095756</td>\n",
       "      <td>0.900924</td>\n",
       "      <td>0.088968</td>\n",
       "      <td>0.908148</td>\n",
       "      <td>...</td>\n",
       "      <td>0.117215</td>\n",
       "      <td>0.140918</td>\n",
       "      <td>0.966487</td>\n",
       "      <td>0.870731</td>\n",
       "      <td>0.015203</td>\n",
       "      <td>0.061926</td>\n",
       "      <td>0.968598</td>\n",
       "      <td>0.879630</td>\n",
       "      <td>20540.0</td>\n",
       "      <td>69170.0</td>\n",
       "    </tr>\n",
       "    <tr>\n",
       "      <th>0</th>\n",
       "      <td>15</td>\n",
       "      <td>ace6b4e5d8eed5e182389fe6c32f9a46</td>\n",
       "      <td>{\"cutoff\": \"quantile_0.25\", \"eval_fairness_gro...</td>\n",
       "      <td>29.10234</td>\n",
       "      <td>89710</td>\n",
       "      <td>1.0</td>\n",
       "      <td>0.216505</td>\n",
       "      <td>0.759059</td>\n",
       "      <td>0.199917</td>\n",
       "      <td>0.778887</td>\n",
       "      <td>...</td>\n",
       "      <td>NaN</td>\n",
       "      <td>NaN</td>\n",
       "      <td>NaN</td>\n",
       "      <td>NaN</td>\n",
       "      <td>NaN</td>\n",
       "      <td>NaN</td>\n",
       "      <td>NaN</td>\n",
       "      <td>NaN</td>\n",
       "      <td>NaN</td>\n",
       "      <td>NaN</td>\n",
       "    </tr>\n",
       "    <tr>\n",
       "      <th>0</th>\n",
       "      <td>15</td>\n",
       "      <td>ace6b4e5d8eed5e182389fe6c32f9a46</td>\n",
       "      <td>{\"cutoff\": \"quantile_0.25\", \"eval_fairness_gro...</td>\n",
       "      <td>29.10234</td>\n",
       "      <td>89710</td>\n",
       "      <td>1.0</td>\n",
       "      <td>0.216505</td>\n",
       "      <td>0.759059</td>\n",
       "      <td>0.199917</td>\n",
       "      <td>0.778887</td>\n",
       "      <td>...</td>\n",
       "      <td>0.120726</td>\n",
       "      <td>0.159430</td>\n",
       "      <td>0.898580</td>\n",
       "      <td>0.682076</td>\n",
       "      <td>0.053209</td>\n",
       "      <td>0.150328</td>\n",
       "      <td>0.904138</td>\n",
       "      <td>0.704221</td>\n",
       "      <td>20540.0</td>\n",
       "      <td>69170.0</td>\n",
       "    </tr>\n",
       "  </tbody>\n",
       "</table>\n",
       "<p>4 rows × 50 columns</p>\n",
       "</div>"
      ],
      "text/plain": [
       "  run_no                       universe_id  \\\n",
       "0     15  ace6b4e5d8eed5e182389fe6c32f9a46   \n",
       "0     15  ace6b4e5d8eed5e182389fe6c32f9a46   \n",
       "0     15  ace6b4e5d8eed5e182389fe6c32f9a46   \n",
       "0     15  ace6b4e5d8eed5e182389fe6c32f9a46   \n",
       "\n",
       "                                   universe_settings  execution_time  \\\n",
       "0  {\"cutoff\": \"quantile_0.1\", \"eval_fairness_grou...        29.10234   \n",
       "0  {\"cutoff\": \"quantile_0.1\", \"eval_fairness_grou...        29.10234   \n",
       "0  {\"cutoff\": \"quantile_0.25\", \"eval_fairness_gro...        29.10234   \n",
       "0  {\"cutoff\": \"quantile_0.25\", \"eval_fairness_gro...        29.10234   \n",
       "\n",
       "   test_size_n  test_size_frac  fair_main_equalized_odds_difference  \\\n",
       "0        89710             1.0                             0.095756   \n",
       "0        89710             1.0                             0.095756   \n",
       "0        89710             1.0                             0.216505   \n",
       "0        89710             1.0                             0.216505   \n",
       "\n",
       "   fair_main_equalized_odds_ratio  fair_main_demographic_parity_difference  \\\n",
       "0                        0.900924                                 0.088968   \n",
       "0                        0.900924                                 0.088968   \n",
       "0                        0.759059                                 0.199917   \n",
       "0                        0.759059                                 0.199917   \n",
       "\n",
       "   fair_main_demographic_parity_ratio  ...  perf_grp_precision_0  \\\n",
       "0                            0.908148  ...                   NaN   \n",
       "0                            0.908148  ...              0.117215   \n",
       "0                            0.778887  ...                   NaN   \n",
       "0                            0.778887  ...              0.120726   \n",
       "\n",
       "   perf_grp_precision_1  perf_grp_false positive rate_0  \\\n",
       "0                   NaN                             NaN   \n",
       "0              0.140918                        0.966487   \n",
       "0                   NaN                             NaN   \n",
       "0              0.159430                        0.898580   \n",
       "\n",
       "   perf_grp_false positive rate_1  perf_grp_false negative rate_0  \\\n",
       "0                             NaN                             NaN   \n",
       "0                        0.870731                        0.015203   \n",
       "0                             NaN                             NaN   \n",
       "0                        0.682076                        0.053209   \n",
       "\n",
       "   perf_grp_false negative rate_1  perf_grp_selection rate_0  \\\n",
       "0                             NaN                        NaN   \n",
       "0                        0.061926                   0.968598   \n",
       "0                             NaN                        NaN   \n",
       "0                        0.150328                   0.904138   \n",
       "\n",
       "   perf_grp_selection rate_1  perf_grp_count_0  perf_grp_count_1  \n",
       "0                        NaN               NaN               NaN  \n",
       "0                   0.879630           20540.0           69170.0  \n",
       "0                        NaN               NaN               NaN  \n",
       "0                   0.704221           20540.0           69170.0  \n",
       "\n",
       "[4 rows x 50 columns]"
      ]
     },
     "execution_count": 66,
     "metadata": {},
     "output_type": "execute_result"
    }
   ],
   "source": [
    "final_output = universe_analysis.generate_final_output(\n",
    "    y_pred_prob=probs_test,\n",
    "    y_test=y_true,\n",
    "    org_test=org_test,\n",
    "    filter_data=filter_sub_universe_data,\n",
    "    cp_metrics_df=cp_metrics_df,\n",
    "    save=True,\n",
    ")\n",
    "final_output"
   ]
  }
 ],
 "metadata": {
  "celltoolbar": "Tags",
  "kernelspec": {
   "display_name": "Python (CMA Fairness)",
   "language": "python",
   "name": "cma_fair_env"
  },
  "language_info": {
   "codemirror_mode": {
    "name": "ipython",
    "version": 3
   },
   "file_extension": ".py",
   "mimetype": "text/x-python",
   "name": "python",
   "nbconvert_exporter": "python",
   "pygments_lexer": "ipython3",
   "version": "3.10.12"
  },
  "papermill": {
   "default_parameters": {},
   "duration": 43.87251,
   "end_time": "2025-08-05T16:25:49.620275",
   "environment_variables": {},
   "exception": null,
   "input_path": "universe_analysis.ipynb",
   "output_path": "output/runs/15/notebooks/m_15-ace6b4e5d8eed5e182389fe6c32f9a46.ipynb",
   "parameters": {
    "output_dir": "output",
    "run_no": "15",
    "seed": "2023",
    "universe": "{\"cutoff\": [\"quantile_0.1\", \"quantile_0.25\"], \"eval_fairness_grouping\": [\"majority-minority\", \"nationality-all\"], \"exclude_features\": \"sex\", \"exclude_subgroups\": \"keep-all\", \"model\": \"penalized_logreg\", \"scale\": \"do-not-scale\", \"training_size\": \"1k\", \"training_year\": \"2012_14\"}",
    "universe_id": "ace6b4e5d8eed5e182389fe6c32f9a46"
   },
   "start_time": "2025-08-05T16:25:05.747765",
   "version": "2.6.0"
  }
 },
 "nbformat": 4,
 "nbformat_minor": 5
}