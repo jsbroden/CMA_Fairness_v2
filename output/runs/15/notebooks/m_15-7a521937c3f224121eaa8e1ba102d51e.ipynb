{
 "cells": [
  {
   "cell_type": "code",
   "execution_count": 1,
   "id": "f159f837-637b-42ba-96b5-ec9a68c44524",
   "metadata": {
    "execution": {
     "iopub.execute_input": "2025-08-05T15:35:57.802748Z",
     "iopub.status.busy": "2025-08-05T15:35:57.802247Z",
     "iopub.status.idle": "2025-08-05T15:35:57.816597Z",
     "shell.execute_reply": "2025-08-05T15:35:57.815596Z"
    },
    "papermill": {
     "duration": 0.036385,
     "end_time": "2025-08-05T15:35:57.818576",
     "exception": false,
     "start_time": "2025-08-05T15:35:57.782191",
     "status": "completed"
    },
    "tags": []
   },
   "outputs": [
    {
     "name": "stdout",
     "output_type": "stream",
     "text": [
      "/dss/dsshome1/0C/ra93lal2/cma/CMA_Fairness_v2\n"
     ]
    },
    {
     "name": "stderr",
     "output_type": "stream",
     "text": [
      "/dss/dsshome1/0C/ra93lal2/.local/share/virtualenvs/CMA_Fairness_v2-3j10GkSs/lib/python3.10/site-packages/IPython/core/magics/osm.py:393: UserWarning: This is now an optional IPython functionality, using bookmarks requires you to install the `pickleshare` library.\n",
      "  bkms = self.shell.db.get('bookmarks', {})\n",
      "/dss/dsshome1/0C/ra93lal2/.local/share/virtualenvs/CMA_Fairness_v2-3j10GkSs/lib/python3.10/site-packages/IPython/core/magics/osm.py:417: UserWarning: This is now an optional IPython functionality, setting dhist requires you to install the `pickleshare` library.\n",
      "  self.shell.db['dhist'] = compress_dhist(dhist)[-100:]\n"
     ]
    }
   ],
   "source": [
    "%cd ~/cma/CMA_Fairness_v2"
   ]
  },
  {
   "cell_type": "markdown",
   "id": "de2603b9",
   "metadata": {
    "papermill": {
     "duration": 0.017789,
     "end_time": "2025-08-05T15:35:57.854291",
     "exception": false,
     "start_time": "2025-08-05T15:35:57.836502",
     "status": "completed"
    },
    "tags": []
   },
   "source": [
    "The following cell holds the definition of our parameters, these values can be overriden by rendering the with e.g. the following command:\n",
    "\n",
    "papermill -p alpha 0.2 -p ratio 0.3 universe_analysis.ipynb output/test_run.ipynb"
   ]
  },
  {
   "cell_type": "code",
   "execution_count": 2,
   "id": "a80968a0-40bb-4fa9-85ef-2d5eefb01975",
   "metadata": {
    "execution": {
     "iopub.execute_input": "2025-08-05T15:35:57.888462Z",
     "iopub.status.busy": "2025-08-05T15:35:57.887739Z",
     "iopub.status.idle": "2025-08-05T15:35:57.893988Z",
     "shell.execute_reply": "2025-08-05T15:35:57.892947Z"
    },
    "papermill": {
     "duration": 0.026109,
     "end_time": "2025-08-05T15:35:57.895911",
     "exception": false,
     "start_time": "2025-08-05T15:35:57.869802",
     "status": "completed"
    },
    "tags": []
   },
   "outputs": [
    {
     "name": "stdout",
     "output_type": "stream",
     "text": [
      "Current working directory: /dss/dsshome1/0C/ra93lal2/cma/CMA_Fairness_v2\n"
     ]
    }
   ],
   "source": [
    "import os\n",
    "print(\"Current working directory:\", os.getcwd())"
   ]
  },
  {
   "cell_type": "code",
   "execution_count": 3,
   "id": "2dce4c03",
   "metadata": {
    "execution": {
     "iopub.execute_input": "2025-08-05T15:35:57.935453Z",
     "iopub.status.busy": "2025-08-05T15:35:57.934960Z",
     "iopub.status.idle": "2025-08-05T15:35:57.941316Z",
     "shell.execute_reply": "2025-08-05T15:35:57.940320Z"
    },
    "papermill": {
     "duration": 0.027245,
     "end_time": "2025-08-05T15:35:57.943127",
     "exception": false,
     "start_time": "2025-08-05T15:35:57.915882",
     "status": "completed"
    },
    "tags": [
     "parameters"
    ]
   },
   "outputs": [],
   "source": [
    "run_no = 0\n",
    "universe_id = \"test\"\n",
    "universe = {\n",
    "    \"training_size\": \"25k\", # \"25k\", \"5k\", \"1k\"\n",
    "    \"training_year\": \"2014\", # \"2014\", \"2012_14\", \"2010_14\"\n",
    "    \"scale\": \"scale\", # \"scale\", \"do-not-scale\",\n",
    "    \"model\": \"elasticnet\", # \"logreg\", \"penalized_logreg\", \"rf\", \"gbm\", \"elasticnet\"\n",
    "    \"cutoff\": [\"quantile_0.15\", \"quantile_0.30\"],\n",
    "    \"exclude_features\": \"age\", # \"none\", \"nationality\", \"sex\", \"nationality-sex\", \"age\"\n",
    "    \"exclude_subgroups\": \"keep-all\", # \"keep-all\", \"drop-non-german\"\n",
    "    \"eval_fairness_grouping\": [\"majority-minority\", \"nationality-all\"]\n",
    "}\n",
    "\n",
    "output_dir=\"./output\"\n",
    "seed=0"
   ]
  },
  {
   "cell_type": "code",
   "execution_count": 4,
   "id": "0a3c3ece",
   "metadata": {
    "execution": {
     "iopub.execute_input": "2025-08-05T15:35:57.982345Z",
     "iopub.status.busy": "2025-08-05T15:35:57.981895Z",
     "iopub.status.idle": "2025-08-05T15:35:57.987806Z",
     "shell.execute_reply": "2025-08-05T15:35:57.986797Z"
    },
    "papermill": {
     "duration": 0.027455,
     "end_time": "2025-08-05T15:35:57.989697",
     "exception": false,
     "start_time": "2025-08-05T15:35:57.962242",
     "status": "completed"
    },
    "tags": [
     "injected-parameters"
    ]
   },
   "outputs": [],
   "source": [
    "# Parameters\n",
    "universe_id = \"7a521937c3f224121eaa8e1ba102d51e\"\n",
    "run_no = \"15\"\n",
    "universe = \"{\\\"cutoff\\\": [\\\"quantile_0.1\\\", \\\"quantile_0.25\\\"], \\\"eval_fairness_grouping\\\": [\\\"majority-minority\\\", \\\"nationality-all\\\"], \\\"exclude_features\\\": \\\"age\\\", \\\"exclude_subgroups\\\": \\\"keep-all\\\", \\\"model\\\": \\\"penalized_logreg\\\", \\\"scale\\\": \\\"scale\\\", \\\"training_size\\\": \\\"5k\\\", \\\"training_year\\\": \\\"2012_14\\\"}\"\n",
    "output_dir = \"output\"\n",
    "seed = \"2023\"\n"
   ]
  },
  {
   "cell_type": "code",
   "execution_count": 5,
   "id": "1650acaf",
   "metadata": {
    "execution": {
     "iopub.execute_input": "2025-08-05T15:35:58.029049Z",
     "iopub.status.busy": "2025-08-05T15:35:58.028600Z",
     "iopub.status.idle": "2025-08-05T15:35:58.033964Z",
     "shell.execute_reply": "2025-08-05T15:35:58.032893Z"
    },
    "papermill": {
     "duration": 0.027142,
     "end_time": "2025-08-05T15:35:58.035729",
     "exception": false,
     "start_time": "2025-08-05T15:35:58.008587",
     "status": "completed"
    },
    "tags": []
   },
   "outputs": [],
   "source": [
    "import json\n",
    "if isinstance(universe, str):\n",
    "    universe = json.loads(universe)"
   ]
  },
  {
   "cell_type": "code",
   "execution_count": 6,
   "id": "16620c48",
   "metadata": {
    "execution": {
     "iopub.execute_input": "2025-08-05T15:35:58.075766Z",
     "iopub.status.busy": "2025-08-05T15:35:58.075254Z",
     "iopub.status.idle": "2025-08-05T15:35:58.120607Z",
     "shell.execute_reply": "2025-08-05T15:35:58.119651Z"
    },
    "papermill": {
     "duration": 0.067347,
     "end_time": "2025-08-05T15:35:58.122565",
     "exception": false,
     "start_time": "2025-08-05T15:35:58.055218",
     "status": "completed"
    },
    "tags": []
   },
   "outputs": [],
   "source": [
    "# Auto-reload the custom package\n",
    "%load_ext autoreload\n",
    "%autoreload 1\n",
    "%aimport fairness_multiverse"
   ]
  },
  {
   "cell_type": "code",
   "execution_count": 7,
   "id": "01c5c9f3",
   "metadata": {
    "execution": {
     "iopub.execute_input": "2025-08-05T15:35:58.161172Z",
     "iopub.status.busy": "2025-08-05T15:35:58.160244Z",
     "iopub.status.idle": "2025-08-05T15:35:59.989591Z",
     "shell.execute_reply": "2025-08-05T15:35:59.988403Z"
    },
    "papermill": {
     "duration": 1.851576,
     "end_time": "2025-08-05T15:35:59.991853",
     "exception": false,
     "start_time": "2025-08-05T15:35:58.140277",
     "status": "completed"
    },
    "tags": []
   },
   "outputs": [],
   "source": [
    "from fairness_multiverse.universe import UniverseAnalysis\n",
    "\n",
    "universe_analysis = UniverseAnalysis(\n",
    "    run_no = run_no,\n",
    "    universe_id = universe_id,\n",
    "    universe = universe,\n",
    "    output_dir=output_dir,\n",
    ")"
   ]
  },
  {
   "cell_type": "code",
   "execution_count": 8,
   "id": "106241f5",
   "metadata": {
    "execution": {
     "iopub.execute_input": "2025-08-05T15:36:00.013292Z",
     "iopub.status.busy": "2025-08-05T15:36:00.012804Z",
     "iopub.status.idle": "2025-08-05T15:36:00.020139Z",
     "shell.execute_reply": "2025-08-05T15:36:00.018998Z"
    },
    "papermill": {
     "duration": 0.020427,
     "end_time": "2025-08-05T15:36:00.022581",
     "exception": false,
     "start_time": "2025-08-05T15:36:00.002154",
     "status": "completed"
    },
    "tags": []
   },
   "outputs": [
    {
     "name": "stdout",
     "output_type": "stream",
     "text": [
      "Using Seed: 2023\n"
     ]
    }
   ],
   "source": [
    "import numpy as np\n",
    "parsed_seed = int(seed)\n",
    "np.random.seed(parsed_seed)\n",
    "print(f\"Using Seed: {parsed_seed}\")"
   ]
  },
  {
   "cell_type": "markdown",
   "id": "e0ebdc57",
   "metadata": {
    "papermill": {
     "duration": 0.021666,
     "end_time": "2025-08-05T15:36:00.067422",
     "exception": false,
     "start_time": "2025-08-05T15:36:00.045756",
     "status": "completed"
    },
    "tags": []
   },
   "source": [
    "# Loading Data"
   ]
  },
  {
   "cell_type": "code",
   "execution_count": 9,
   "id": "f0496b8a",
   "metadata": {
    "execution": {
     "iopub.execute_input": "2025-08-05T15:36:00.114841Z",
     "iopub.status.busy": "2025-08-05T15:36:00.114288Z",
     "iopub.status.idle": "2025-08-05T15:36:12.139380Z",
     "shell.execute_reply": "2025-08-05T15:36:12.138273Z"
    },
    "papermill": {
     "duration": 12.050901,
     "end_time": "2025-08-05T15:36:12.141059",
     "exception": false,
     "start_time": "2025-08-05T15:36:00.090158",
     "status": "completed"
    },
    "tags": []
   },
   "outputs": [
    {
     "name": "stdout",
     "output_type": "stream",
     "text": [
      "Loading SIAB data from cache: data/siab_cached.csv.gz\n"
     ]
    },
    {
     "name": "stdout",
     "output_type": "stream",
     "text": [
      "(643690, 164)\n"
     ]
    }
   ],
   "source": [
    "from pathlib import Path\n",
    "import pandas as pd\n",
    "\n",
    "# File paths\n",
    "raw_file = Path(\"data/raw/siab.csv\")\n",
    "cache_file = Path(\"data/siab_cached.csv.gz\")\n",
    "\n",
    "# Ensure cache directory exists\n",
    "cache_file.parent.mkdir(parents=True, exist_ok=True)\n",
    "\n",
    "# Load with simple caching\n",
    "if cache_file.exists():\n",
    "    print(f\"Loading SIAB data from cache: {cache_file}\")\n",
    "    siab = pd.read_csv(cache_file, compression='gzip')\n",
    "else:\n",
    "    print(f\"Cache not found. Reading raw SIAB data: {raw_file}\")\n",
    "    siab = pd.read_csv(raw_file)\n",
    "    siab.to_csv(cache_file, index=False, compression='gzip')\n",
    "    print(f\"Cached SIAB data to: {cache_file}\")\n",
    "\n",
    "print(siab.shape)"
   ]
  },
  {
   "cell_type": "code",
   "execution_count": 10,
   "id": "db0ca512-5f53-4dba-abdb-a2888bca41ba",
   "metadata": {
    "execution": {
     "iopub.execute_input": "2025-08-05T15:36:12.177675Z",
     "iopub.status.busy": "2025-08-05T15:36:12.176914Z",
     "iopub.status.idle": "2025-08-05T15:36:12.182439Z",
     "shell.execute_reply": "2025-08-05T15:36:12.181556Z"
    },
    "papermill": {
     "duration": 0.024043,
     "end_time": "2025-08-05T15:36:12.184241",
     "exception": false,
     "start_time": "2025-08-05T15:36:12.160198",
     "status": "completed"
    },
    "tags": []
   },
   "outputs": [],
   "source": [
    "#siab"
   ]
  },
  {
   "cell_type": "markdown",
   "id": "997051c5-15bd-4b69-9786-c3001a3ce484",
   "metadata": {
    "papermill": {
     "duration": 0.015243,
     "end_time": "2025-08-05T15:36:12.215926",
     "exception": false,
     "start_time": "2025-08-05T15:36:12.200683",
     "status": "completed"
    },
    "tags": []
   },
   "source": [
    "# Splitting Data and Setting Training Data Size"
   ]
  },
  {
   "cell_type": "code",
   "execution_count": 11,
   "id": "aea9c6ef-6f46-42c8-85eb-5a62025c1508",
   "metadata": {
    "execution": {
     "iopub.execute_input": "2025-08-05T15:36:12.248530Z",
     "iopub.status.busy": "2025-08-05T15:36:12.247948Z",
     "iopub.status.idle": "2025-08-05T15:36:12.858236Z",
     "shell.execute_reply": "2025-08-05T15:36:12.857332Z"
    },
    "papermill": {
     "duration": 0.628465,
     "end_time": "2025-08-05T15:36:12.860060",
     "exception": false,
     "start_time": "2025-08-05T15:36:12.231595",
     "status": "completed"
    },
    "tags": []
   },
   "outputs": [],
   "source": [
    "from fairness_multiverse.universe import sample_by_year_size\n",
    "\n",
    "siab_train = sample_by_year_size(siab,\n",
    "                               training_year=universe[\"training_year\"],\n",
    "                               training_size=universe[\"training_size\"])"
   ]
  },
  {
   "cell_type": "code",
   "execution_count": 12,
   "id": "8d3afb32-789d-442c-8d5d-9f5aa8dd2eed",
   "metadata": {
    "execution": {
     "iopub.execute_input": "2025-08-05T15:36:12.898157Z",
     "iopub.status.busy": "2025-08-05T15:36:12.897797Z",
     "iopub.status.idle": "2025-08-05T15:36:12.902261Z",
     "shell.execute_reply": "2025-08-05T15:36:12.901233Z"
    },
    "papermill": {
     "duration": 0.022564,
     "end_time": "2025-08-05T15:36:12.904128",
     "exception": false,
     "start_time": "2025-08-05T15:36:12.881564",
     "status": "completed"
    },
    "tags": []
   },
   "outputs": [],
   "source": [
    "#siab_train.shape"
   ]
  },
  {
   "cell_type": "code",
   "execution_count": 13,
   "id": "d582db68-1a4c-47fb-84fc-08518dc1975a",
   "metadata": {
    "execution": {
     "iopub.execute_input": "2025-08-05T15:36:12.937424Z",
     "iopub.status.busy": "2025-08-05T15:36:12.936735Z",
     "iopub.status.idle": "2025-08-05T15:36:12.941466Z",
     "shell.execute_reply": "2025-08-05T15:36:12.940569Z"
    },
    "papermill": {
     "duration": 0.02307,
     "end_time": "2025-08-05T15:36:12.943396",
     "exception": false,
     "start_time": "2025-08-05T15:36:12.920326",
     "status": "completed"
    },
    "tags": []
   },
   "outputs": [],
   "source": [
    "#display(siab_train.groupby(\"year\").size())"
   ]
  },
  {
   "cell_type": "code",
   "execution_count": 14,
   "id": "a561edb4-d032-42cb-8256-22eac1111c64",
   "metadata": {
    "execution": {
     "iopub.execute_input": "2025-08-05T15:36:12.978918Z",
     "iopub.status.busy": "2025-08-05T15:36:12.978537Z",
     "iopub.status.idle": "2025-08-05T15:36:13.226536Z",
     "shell.execute_reply": "2025-08-05T15:36:13.225634Z"
    },
    "papermill": {
     "duration": 0.268676,
     "end_time": "2025-08-05T15:36:13.228374",
     "exception": false,
     "start_time": "2025-08-05T15:36:12.959698",
     "status": "completed"
    },
    "tags": []
   },
   "outputs": [],
   "source": [
    "#siab_train = siab_s[siab_s.year < 2015]\n",
    "siab_calib = siab[siab.year == 2015]\n",
    "siab_test = siab[siab.year == 2016]"
   ]
  },
  {
   "cell_type": "code",
   "execution_count": 15,
   "id": "472de16f-c3db-4916-846b-1f0de9cf1746",
   "metadata": {
    "execution": {
     "iopub.execute_input": "2025-08-05T15:36:13.262789Z",
     "iopub.status.busy": "2025-08-05T15:36:13.262476Z",
     "iopub.status.idle": "2025-08-05T15:36:13.270040Z",
     "shell.execute_reply": "2025-08-05T15:36:13.269101Z"
    },
    "papermill": {
     "duration": 0.0263,
     "end_time": "2025-08-05T15:36:13.272070",
     "exception": false,
     "start_time": "2025-08-05T15:36:13.245770",
     "status": "completed"
    },
    "tags": []
   },
   "outputs": [],
   "source": [
    "X_train = siab_train.iloc[:,4:164]\n",
    "y_train = siab_train.iloc[:, [3]]"
   ]
  },
  {
   "cell_type": "code",
   "execution_count": 16,
   "id": "828c96af-f43a-4ed6-ba47-8ac73a47d56c",
   "metadata": {
    "execution": {
     "iopub.execute_input": "2025-08-05T15:36:13.306395Z",
     "iopub.status.busy": "2025-08-05T15:36:13.305550Z",
     "iopub.status.idle": "2025-08-05T15:36:13.357355Z",
     "shell.execute_reply": "2025-08-05T15:36:13.356180Z"
    },
    "papermill": {
     "duration": 0.070942,
     "end_time": "2025-08-05T15:36:13.359797",
     "exception": false,
     "start_time": "2025-08-05T15:36:13.288855",
     "status": "completed"
    },
    "tags": []
   },
   "outputs": [],
   "source": [
    "X_calib = siab_calib.iloc[:,4:164]\n",
    "y_calib = siab_calib.iloc[:, [3]]"
   ]
  },
  {
   "cell_type": "code",
   "execution_count": 17,
   "id": "c34be9c3-6bd6-476e-acd3-845840e303be",
   "metadata": {
    "execution": {
     "iopub.execute_input": "2025-08-05T15:36:13.395148Z",
     "iopub.status.busy": "2025-08-05T15:36:13.394558Z",
     "iopub.status.idle": "2025-08-05T15:36:13.444475Z",
     "shell.execute_reply": "2025-08-05T15:36:13.443351Z"
    },
    "papermill": {
     "duration": 0.068346,
     "end_time": "2025-08-05T15:36:13.446283",
     "exception": false,
     "start_time": "2025-08-05T15:36:13.377937",
     "status": "completed"
    },
    "tags": []
   },
   "outputs": [],
   "source": [
    "X_test = siab_test.iloc[:,4:164]\n",
    "y_true = siab_test.iloc[:, [3]]"
   ]
  },
  {
   "cell_type": "code",
   "execution_count": 18,
   "id": "e6c733c5",
   "metadata": {
    "execution": {
     "iopub.execute_input": "2025-08-05T15:36:13.480682Z",
     "iopub.status.busy": "2025-08-05T15:36:13.480064Z",
     "iopub.status.idle": "2025-08-05T15:36:13.577957Z",
     "shell.execute_reply": "2025-08-05T15:36:13.576936Z"
    },
    "papermill": {
     "duration": 0.116667,
     "end_time": "2025-08-05T15:36:13.579759",
     "exception": false,
     "start_time": "2025-08-05T15:36:13.463092",
     "status": "completed"
    },
    "tags": []
   },
   "outputs": [],
   "source": [
    "# Auxiliary data needed downstream in the pipeline\n",
    "\n",
    "org_train = X_train.copy()\n",
    "org_test = X_test.copy()\n",
    "org_calib = X_calib.copy()"
   ]
  },
  {
   "cell_type": "markdown",
   "id": "0a4a1b33",
   "metadata": {
    "papermill": {
     "duration": 0.015749,
     "end_time": "2025-08-05T15:36:13.612307",
     "exception": false,
     "start_time": "2025-08-05T15:36:13.596558",
     "status": "completed"
    },
    "tags": []
   },
   "source": [
    "# Preprocessing Data"
   ]
  },
  {
   "cell_type": "code",
   "execution_count": 19,
   "id": "ca879031",
   "metadata": {
    "execution": {
     "iopub.execute_input": "2025-08-05T15:36:13.645901Z",
     "iopub.status.busy": "2025-08-05T15:36:13.645139Z",
     "iopub.status.idle": "2025-08-05T15:36:13.651086Z",
     "shell.execute_reply": "2025-08-05T15:36:13.650145Z"
    },
    "papermill": {
     "duration": 0.024623,
     "end_time": "2025-08-05T15:36:13.652685",
     "exception": false,
     "start_time": "2025-08-05T15:36:13.628062",
     "status": "completed"
    },
    "tags": []
   },
   "outputs": [],
   "source": [
    "# EXCLUDE PROTECTED FEATURES\n",
    "# ----------------------\n",
    "# \"exclude_features\": \"none\", # \"nationality\", \"sex\", \"nationality-sex\"\n",
    "\n",
    "excluded_features = universe[\"exclude_features\"].split(\"-\") # split, e.g.: \"nationality-sex\" -> [\"nationality\", \"sex\"]\n",
    "excluded_features_dictionary = {\n",
    "    \"nationality\": [\"maxdeutsch1\", \"maxdeutsch.Missing.\"],\n",
    "    \"sex\": [\"frau1\"],\n",
    "    \"age\": [\"age\"],\n",
    "}"
   ]
  },
  {
   "cell_type": "code",
   "execution_count": 20,
   "id": "b745ac60",
   "metadata": {
    "execution": {
     "iopub.execute_input": "2025-08-05T15:36:13.687811Z",
     "iopub.status.busy": "2025-08-05T15:36:13.687073Z",
     "iopub.status.idle": "2025-08-05T15:36:13.692295Z",
     "shell.execute_reply": "2025-08-05T15:36:13.691403Z"
    },
    "papermill": {
     "duration": 0.02386,
     "end_time": "2025-08-05T15:36:13.694005",
     "exception": false,
     "start_time": "2025-08-05T15:36:13.670145",
     "status": "completed"
    },
    "tags": []
   },
   "outputs": [],
   "source": [
    "# Code nice names to column names\n",
    "\n",
    "excluded_features_columns = [\n",
    "    excluded_features_dictionary[f] for f in excluded_features if len(f) > 0 and f != \"none\"\n",
    "]"
   ]
  },
  {
   "cell_type": "code",
   "execution_count": 21,
   "id": "f84f73a2",
   "metadata": {
    "execution": {
     "iopub.execute_input": "2025-08-05T15:36:13.730763Z",
     "iopub.status.busy": "2025-08-05T15:36:13.730032Z",
     "iopub.status.idle": "2025-08-05T15:36:13.735711Z",
     "shell.execute_reply": "2025-08-05T15:36:13.734830Z"
    },
    "papermill": {
     "duration": 0.026624,
     "end_time": "2025-08-05T15:36:13.737343",
     "exception": false,
     "start_time": "2025-08-05T15:36:13.710719",
     "status": "completed"
    },
    "tags": []
   },
   "outputs": [],
   "source": [
    "from utils import flatten_once\n",
    "\n",
    "excluded_features_columns = flatten_once(excluded_features_columns)"
   ]
  },
  {
   "cell_type": "code",
   "execution_count": 22,
   "id": "884dea22",
   "metadata": {
    "execution": {
     "iopub.execute_input": "2025-08-05T15:36:13.771713Z",
     "iopub.status.busy": "2025-08-05T15:36:13.771129Z",
     "iopub.status.idle": "2025-08-05T15:36:13.779816Z",
     "shell.execute_reply": "2025-08-05T15:36:13.778930Z"
    },
    "papermill": {
     "duration": 0.027216,
     "end_time": "2025-08-05T15:36:13.781377",
     "exception": false,
     "start_time": "2025-08-05T15:36:13.754161",
     "status": "completed"
    },
    "tags": []
   },
   "outputs": [
    {
     "name": "stdout",
     "output_type": "stream",
     "text": [
      "Dropping features: ['age']\n"
     ]
    }
   ],
   "source": [
    "if len(excluded_features_columns) > 0:\n",
    "    print(f\"Dropping features: {excluded_features_columns}\")\n",
    "    X_train.drop(excluded_features_columns, axis=1, inplace=True)"
   ]
  },
  {
   "cell_type": "code",
   "execution_count": 23,
   "id": "95ab8b16",
   "metadata": {
    "execution": {
     "iopub.execute_input": "2025-08-05T15:36:13.815953Z",
     "iopub.status.busy": "2025-08-05T15:36:13.815278Z",
     "iopub.status.idle": "2025-08-05T15:36:13.867826Z",
     "shell.execute_reply": "2025-08-05T15:36:13.866632Z"
    },
    "papermill": {
     "duration": 0.071615,
     "end_time": "2025-08-05T15:36:13.869781",
     "exception": false,
     "start_time": "2025-08-05T15:36:13.798166",
     "status": "completed"
    },
    "tags": []
   },
   "outputs": [
    {
     "name": "stdout",
     "output_type": "stream",
     "text": [
      "Dropping features: ['age']\n"
     ]
    }
   ],
   "source": [
    "if len(excluded_features_columns) > 0:\n",
    "    print(f\"Dropping features: {excluded_features_columns}\")\n",
    "    X_test.drop(excluded_features_columns, axis=1, inplace=True)"
   ]
  },
  {
   "cell_type": "code",
   "execution_count": 24,
   "id": "1853aaf5-fb9f-46cb-a2b5-8ea4ae2237e4",
   "metadata": {
    "execution": {
     "iopub.execute_input": "2025-08-05T15:36:13.906068Z",
     "iopub.status.busy": "2025-08-05T15:36:13.905192Z",
     "iopub.status.idle": "2025-08-05T15:36:13.969834Z",
     "shell.execute_reply": "2025-08-05T15:36:13.968753Z"
    },
    "papermill": {
     "duration": 0.084336,
     "end_time": "2025-08-05T15:36:13.971877",
     "exception": false,
     "start_time": "2025-08-05T15:36:13.887541",
     "status": "completed"
    },
    "tags": []
   },
   "outputs": [
    {
     "name": "stdout",
     "output_type": "stream",
     "text": [
      "Dropping features: ['age']\n"
     ]
    }
   ],
   "source": [
    "if len(excluded_features_columns) > 0:\n",
    "    print(f\"Dropping features: {excluded_features_columns}\")\n",
    "    X_calib.drop(excluded_features_columns, axis=1, inplace=True)"
   ]
  },
  {
   "cell_type": "code",
   "execution_count": 25,
   "id": "76c4dc6d",
   "metadata": {
    "execution": {
     "iopub.execute_input": "2025-08-05T15:36:14.008630Z",
     "iopub.status.busy": "2025-08-05T15:36:14.007907Z",
     "iopub.status.idle": "2025-08-05T15:36:14.012921Z",
     "shell.execute_reply": "2025-08-05T15:36:14.012060Z"
    },
    "papermill": {
     "duration": 0.025204,
     "end_time": "2025-08-05T15:36:14.014819",
     "exception": false,
     "start_time": "2025-08-05T15:36:13.989615",
     "status": "completed"
    },
    "tags": []
   },
   "outputs": [],
   "source": [
    "# EXCLUDE CERTAIN SUBGROUPS\n",
    "# ----------------------\n",
    "\n",
    "mode = universe.get(\"exclude_subgroups\", \"keep-all\") \n",
    "# Fetches the exclude_subgroups setting from the universe dict.\n",
    "# Defaults to \"keep-all\" if the key is missing."
   ]
  },
  {
   "cell_type": "code",
   "execution_count": 26,
   "id": "21994072",
   "metadata": {
    "execution": {
     "iopub.execute_input": "2025-08-05T15:36:14.052558Z",
     "iopub.status.busy": "2025-08-05T15:36:14.051714Z",
     "iopub.status.idle": "2025-08-05T15:36:14.059185Z",
     "shell.execute_reply": "2025-08-05T15:36:14.057983Z"
    },
    "papermill": {
     "duration": 0.027743,
     "end_time": "2025-08-05T15:36:14.061171",
     "exception": false,
     "start_time": "2025-08-05T15:36:14.033428",
     "status": "completed"
    },
    "tags": []
   },
   "outputs": [],
   "source": [
    "if mode == \"keep-all\":\n",
    "    keep_mask = pd.Series(True, index=org_train.index)\n",
    "\n",
    "# org_train contains the original feature columns from features_org (in Simson)\n",
    "# features_org contains unprocessed features, for me X_train at beginning ???\n",
    "# For keep-all, creates a boolean Series (keep_mask) of all True, so no rows are removed.\n",
    "\n",
    "elif mode == \"drop-non-german\":\n",
    "    keep_mask = org_train[\"maxdeutsch1\"] == 1 # ??? what about missing values?\n",
    "\n",
    "else:\n",
    "    raise ValueError(f\"Unsupported mode for exclude_subgroups: {mode}\")"
   ]
  },
  {
   "cell_type": "code",
   "execution_count": 27,
   "id": "71651440",
   "metadata": {
    "execution": {
     "iopub.execute_input": "2025-08-05T15:36:14.099349Z",
     "iopub.status.busy": "2025-08-05T15:36:14.098688Z",
     "iopub.status.idle": "2025-08-05T15:36:14.105261Z",
     "shell.execute_reply": "2025-08-05T15:36:14.104231Z"
    },
    "papermill": {
     "duration": 0.026277,
     "end_time": "2025-08-05T15:36:14.106960",
     "exception": false,
     "start_time": "2025-08-05T15:36:14.080683",
     "status": "completed"
    },
    "tags": []
   },
   "outputs": [],
   "source": [
    "n_drop = (~keep_mask).sum() # Calculates how many rows are set to be dropped\n",
    "if n_drop > 0:\n",
    "    pct = n_drop / len(keep_mask) * 100\n",
    "    print(f\"Dropping {n_drop} rows ({pct:.2f}%) where mode='{mode}'\")"
   ]
  },
  {
   "cell_type": "code",
   "execution_count": 28,
   "id": "5fb8eee5",
   "metadata": {
    "execution": {
     "iopub.execute_input": "2025-08-05T15:36:14.146119Z",
     "iopub.status.busy": "2025-08-05T15:36:14.145432Z",
     "iopub.status.idle": "2025-08-05T15:36:14.153129Z",
     "shell.execute_reply": "2025-08-05T15:36:14.152064Z"
    },
    "papermill": {
     "duration": 0.027763,
     "end_time": "2025-08-05T15:36:14.154857",
     "exception": false,
     "start_time": "2025-08-05T15:36:14.127094",
     "status": "completed"
    },
    "tags": []
   },
   "outputs": [],
   "source": [
    "X_train = X_train[keep_mask]"
   ]
  },
  {
   "cell_type": "code",
   "execution_count": 29,
   "id": "b202bb3a",
   "metadata": {
    "execution": {
     "iopub.execute_input": "2025-08-05T15:36:14.190946Z",
     "iopub.status.busy": "2025-08-05T15:36:14.190182Z",
     "iopub.status.idle": "2025-08-05T15:36:14.195364Z",
     "shell.execute_reply": "2025-08-05T15:36:14.194387Z"
    },
    "papermill": {
     "duration": 0.024457,
     "end_time": "2025-08-05T15:36:14.196918",
     "exception": false,
     "start_time": "2025-08-05T15:36:14.172461",
     "status": "completed"
    },
    "tags": []
   },
   "outputs": [],
   "source": [
    "y_train = y_train[keep_mask]"
   ]
  },
  {
   "cell_type": "markdown",
   "id": "493e2ac3",
   "metadata": {
    "papermill": {
     "duration": 0.017197,
     "end_time": "2025-08-05T15:36:14.231288",
     "exception": false,
     "start_time": "2025-08-05T15:36:14.214091",
     "status": "completed"
    },
    "tags": []
   },
   "source": [
    "# Model Training"
   ]
  },
  {
   "cell_type": "code",
   "execution_count": 30,
   "id": "679e1268",
   "metadata": {
    "execution": {
     "iopub.execute_input": "2025-08-05T15:36:14.267957Z",
     "iopub.status.busy": "2025-08-05T15:36:14.267219Z",
     "iopub.status.idle": "2025-08-05T15:36:14.366371Z",
     "shell.execute_reply": "2025-08-05T15:36:14.365534Z"
    },
    "papermill": {
     "duration": 0.119081,
     "end_time": "2025-08-05T15:36:14.368123",
     "exception": false,
     "start_time": "2025-08-05T15:36:14.249042",
     "status": "completed"
    },
    "tags": []
   },
   "outputs": [],
   "source": [
    "from sklearn.linear_model import LogisticRegression\n",
    "from sklearn.ensemble import GradientBoostingClassifier, RandomForestClassifier\n",
    "\n",
    "if (universe[\"model\"] == \"logreg\"):\n",
    "    model = LogisticRegression() #penalty=\"none\", solver=\"newton-cg\", max_iter=1) # include random_state=19 ?\n",
    "elif (universe[\"model\"] == \"penalized_logreg\"):\n",
    "    model = LogisticRegression(penalty=\"l2\", C=0.1) #, solver=\"newton-cg\", max_iter=1)\n",
    "elif (universe[\"model\"] == \"rf\"):\n",
    "    model = RandomForestClassifier() # n_estimators=100, n_jobs=-1\n",
    "elif (universe[\"model\"] == \"gbm\"):\n",
    "    model = GradientBoostingClassifier()\n",
    "elif (universe[\"model\"] == \"elasticnet\"):\n",
    "    model = LogisticRegression(penalty = 'elasticnet', solver = 'saga', l1_ratio = 0.5) # max_iter=5000\n",
    "else:\n",
    "    raise \"Unsupported universe.model\""
   ]
  },
  {
   "cell_type": "code",
   "execution_count": 31,
   "id": "0cc8f744",
   "metadata": {
    "execution": {
     "iopub.execute_input": "2025-08-05T15:36:14.404220Z",
     "iopub.status.busy": "2025-08-05T15:36:14.403496Z",
     "iopub.status.idle": "2025-08-05T15:36:14.409546Z",
     "shell.execute_reply": "2025-08-05T15:36:14.408577Z"
    },
    "papermill": {
     "duration": 0.025645,
     "end_time": "2025-08-05T15:36:14.411435",
     "exception": false,
     "start_time": "2025-08-05T15:36:14.385790",
     "status": "completed"
    },
    "tags": []
   },
   "outputs": [],
   "source": [
    "import numpy as np\n",
    "from sklearn.pipeline import Pipeline\n",
    "from sklearn.preprocessing import StandardScaler\n",
    "\n",
    "model = Pipeline([\n",
    "    #(\"continuous_processor\", continuous_processor),\n",
    "    #(\"categorical_preprocessor\", categorical_preprocessor),\n",
    "    (\"scale\", StandardScaler() if universe[\"scale\"] == \"scale\" else None), \n",
    "    (\"model\", model),\n",
    "])"
   ]
  },
  {
   "cell_type": "code",
   "execution_count": 32,
   "id": "9442c04d",
   "metadata": {
    "execution": {
     "iopub.execute_input": "2025-08-05T15:36:14.453996Z",
     "iopub.status.busy": "2025-08-05T15:36:14.453502Z",
     "iopub.status.idle": "2025-08-05T15:36:14.608838Z",
     "shell.execute_reply": "2025-08-05T15:36:14.608000Z"
    },
    "papermill": {
     "duration": 0.178101,
     "end_time": "2025-08-05T15:36:14.610415",
     "exception": false,
     "start_time": "2025-08-05T15:36:14.432314",
     "status": "completed"
    },
    "tags": []
   },
   "outputs": [
    {
     "data": {
      "text/html": [
       "<style>#sk-container-id-1 {color: black;background-color: white;}#sk-container-id-1 pre{padding: 0;}#sk-container-id-1 div.sk-toggleable {background-color: white;}#sk-container-id-1 label.sk-toggleable__label {cursor: pointer;display: block;width: 100%;margin-bottom: 0;padding: 0.3em;box-sizing: border-box;text-align: center;}#sk-container-id-1 label.sk-toggleable__label-arrow:before {content: \"▸\";float: left;margin-right: 0.25em;color: #696969;}#sk-container-id-1 label.sk-toggleable__label-arrow:hover:before {color: black;}#sk-container-id-1 div.sk-estimator:hover label.sk-toggleable__label-arrow:before {color: black;}#sk-container-id-1 div.sk-toggleable__content {max-height: 0;max-width: 0;overflow: hidden;text-align: left;background-color: #f0f8ff;}#sk-container-id-1 div.sk-toggleable__content pre {margin: 0.2em;color: black;border-radius: 0.25em;background-color: #f0f8ff;}#sk-container-id-1 input.sk-toggleable__control:checked~div.sk-toggleable__content {max-height: 200px;max-width: 100%;overflow: auto;}#sk-container-id-1 input.sk-toggleable__control:checked~label.sk-toggleable__label-arrow:before {content: \"▾\";}#sk-container-id-1 div.sk-estimator input.sk-toggleable__control:checked~label.sk-toggleable__label {background-color: #d4ebff;}#sk-container-id-1 div.sk-label input.sk-toggleable__control:checked~label.sk-toggleable__label {background-color: #d4ebff;}#sk-container-id-1 input.sk-hidden--visually {border: 0;clip: rect(1px 1px 1px 1px);clip: rect(1px, 1px, 1px, 1px);height: 1px;margin: -1px;overflow: hidden;padding: 0;position: absolute;width: 1px;}#sk-container-id-1 div.sk-estimator {font-family: monospace;background-color: #f0f8ff;border: 1px dotted black;border-radius: 0.25em;box-sizing: border-box;margin-bottom: 0.5em;}#sk-container-id-1 div.sk-estimator:hover {background-color: #d4ebff;}#sk-container-id-1 div.sk-parallel-item::after {content: \"\";width: 100%;border-bottom: 1px solid gray;flex-grow: 1;}#sk-container-id-1 div.sk-label:hover label.sk-toggleable__label {background-color: #d4ebff;}#sk-container-id-1 div.sk-serial::before {content: \"\";position: absolute;border-left: 1px solid gray;box-sizing: border-box;top: 0;bottom: 0;left: 50%;z-index: 0;}#sk-container-id-1 div.sk-serial {display: flex;flex-direction: column;align-items: center;background-color: white;padding-right: 0.2em;padding-left: 0.2em;position: relative;}#sk-container-id-1 div.sk-item {position: relative;z-index: 1;}#sk-container-id-1 div.sk-parallel {display: flex;align-items: stretch;justify-content: center;background-color: white;position: relative;}#sk-container-id-1 div.sk-item::before, #sk-container-id-1 div.sk-parallel-item::before {content: \"\";position: absolute;border-left: 1px solid gray;box-sizing: border-box;top: 0;bottom: 0;left: 50%;z-index: -1;}#sk-container-id-1 div.sk-parallel-item {display: flex;flex-direction: column;z-index: 1;position: relative;background-color: white;}#sk-container-id-1 div.sk-parallel-item:first-child::after {align-self: flex-end;width: 50%;}#sk-container-id-1 div.sk-parallel-item:last-child::after {align-self: flex-start;width: 50%;}#sk-container-id-1 div.sk-parallel-item:only-child::after {width: 0;}#sk-container-id-1 div.sk-dashed-wrapped {border: 1px dashed gray;margin: 0 0.4em 0.5em 0.4em;box-sizing: border-box;padding-bottom: 0.4em;background-color: white;}#sk-container-id-1 div.sk-label label {font-family: monospace;font-weight: bold;display: inline-block;line-height: 1.2em;}#sk-container-id-1 div.sk-label-container {text-align: center;}#sk-container-id-1 div.sk-container {/* jupyter's `normalize.less` sets `[hidden] { display: none; }` but bootstrap.min.css set `[hidden] { display: none !important; }` so we also need the `!important` here to be able to override the default hidden behavior on the sphinx rendered scikit-learn.org. See: https://github.com/scikit-learn/scikit-learn/issues/21755 */display: inline-block !important;position: relative;}#sk-container-id-1 div.sk-text-repr-fallback {display: none;}</style><div id=\"sk-container-id-1\" class=\"sk-top-container\"><div class=\"sk-text-repr-fallback\"><pre>Pipeline(steps=[(&#x27;scale&#x27;, StandardScaler()),\n",
       "                (&#x27;model&#x27;, LogisticRegression(C=0.1))])</pre><b>In a Jupyter environment, please rerun this cell to show the HTML representation or trust the notebook. <br />On GitHub, the HTML representation is unable to render, please try loading this page with nbviewer.org.</b></div><div class=\"sk-container\" hidden><div class=\"sk-item sk-dashed-wrapped\"><div class=\"sk-label-container\"><div class=\"sk-label sk-toggleable\"><input class=\"sk-toggleable__control sk-hidden--visually\" id=\"sk-estimator-id-1\" type=\"checkbox\" ><label for=\"sk-estimator-id-1\" class=\"sk-toggleable__label sk-toggleable__label-arrow\">Pipeline</label><div class=\"sk-toggleable__content\"><pre>Pipeline(steps=[(&#x27;scale&#x27;, StandardScaler()),\n",
       "                (&#x27;model&#x27;, LogisticRegression(C=0.1))])</pre></div></div></div><div class=\"sk-serial\"><div class=\"sk-item\"><div class=\"sk-estimator sk-toggleable\"><input class=\"sk-toggleable__control sk-hidden--visually\" id=\"sk-estimator-id-2\" type=\"checkbox\" ><label for=\"sk-estimator-id-2\" class=\"sk-toggleable__label sk-toggleable__label-arrow\">StandardScaler</label><div class=\"sk-toggleable__content\"><pre>StandardScaler()</pre></div></div></div><div class=\"sk-item\"><div class=\"sk-estimator sk-toggleable\"><input class=\"sk-toggleable__control sk-hidden--visually\" id=\"sk-estimator-id-3\" type=\"checkbox\" ><label for=\"sk-estimator-id-3\" class=\"sk-toggleable__label sk-toggleable__label-arrow\">LogisticRegression</label><div class=\"sk-toggleable__content\"><pre>LogisticRegression(C=0.1)</pre></div></div></div></div></div></div></div>"
      ],
      "text/plain": [
       "Pipeline(steps=[('scale', StandardScaler()),\n",
       "                ('model', LogisticRegression(C=0.1))])"
      ]
     },
     "execution_count": 32,
     "metadata": {},
     "output_type": "execute_result"
    }
   ],
   "source": [
    "model.fit(X_train, y_train.values.ravel())"
   ]
  },
  {
   "cell_type": "code",
   "execution_count": 33,
   "id": "af59f8c0",
   "metadata": {
    "execution": {
     "iopub.execute_input": "2025-08-05T15:36:14.649689Z",
     "iopub.status.busy": "2025-08-05T15:36:14.648742Z",
     "iopub.status.idle": "2025-08-05T15:36:14.654460Z",
     "shell.execute_reply": "2025-08-05T15:36:14.653277Z"
    },
    "papermill": {
     "duration": 0.026697,
     "end_time": "2025-08-05T15:36:14.656199",
     "exception": false,
     "start_time": "2025-08-05T15:36:14.629502",
     "status": "completed"
    },
    "tags": []
   },
   "outputs": [],
   "source": [
    "from fairness_multiverse.universe import predict_w_threshold"
   ]
  },
  {
   "cell_type": "code",
   "execution_count": 34,
   "id": "a7cf2e16",
   "metadata": {
    "execution": {
     "iopub.execute_input": "2025-08-05T15:36:14.694879Z",
     "iopub.status.busy": "2025-08-05T15:36:14.694358Z",
     "iopub.status.idle": "2025-08-05T15:36:14.893849Z",
     "shell.execute_reply": "2025-08-05T15:36:14.892813Z"
    },
    "papermill": {
     "duration": 0.220411,
     "end_time": "2025-08-05T15:36:14.895870",
     "exception": false,
     "start_time": "2025-08-05T15:36:14.675459",
     "status": "completed"
    },
    "tags": []
   },
   "outputs": [
    {
     "data": {
      "text/plain": [
       "0.8559469401404526"
      ]
     },
     "execution_count": 34,
     "metadata": {},
     "output_type": "execute_result"
    }
   ],
   "source": [
    "probs_test = model.predict_proba(X_test)\n",
    "\n",
    "'''\n",
    "Below code returns a boolean array (or binary 0/1 array depending on how it’s used) where each element \n",
    "is True if the probability of class 1 is greater than or equal to the threshold, and False otherwise.\n",
    "'''\n",
    "y_pred_default = predict_w_threshold(probs_test, 0.5)\n",
    "\n",
    "from sklearn.metrics import accuracy_score\n",
    "\n",
    "# Naive prediction\n",
    "accuracy_score(y_true = y_true, y_pred = y_pred_default)"
   ]
  },
  {
   "cell_type": "code",
   "execution_count": 35,
   "id": "081964c3",
   "metadata": {
    "execution": {
     "iopub.execute_input": "2025-08-05T15:36:14.944637Z",
     "iopub.status.busy": "2025-08-05T15:36:14.943903Z",
     "iopub.status.idle": "2025-08-05T15:36:15.134067Z",
     "shell.execute_reply": "2025-08-05T15:36:15.133230Z"
    },
    "papermill": {
     "duration": 0.217106,
     "end_time": "2025-08-05T15:36:15.135642",
     "exception": false,
     "start_time": "2025-08-05T15:36:14.918536",
     "status": "completed"
    },
    "tags": []
   },
   "outputs": [
    {
     "data": {
      "text/plain": [
       "array([0, 0, 0, ..., 0, 0, 0])"
      ]
     },
     "execution_count": 35,
     "metadata": {},
     "output_type": "execute_result"
    }
   ],
   "source": [
    "model.predict(X_test)"
   ]
  },
  {
   "cell_type": "markdown",
   "id": "56c9705b",
   "metadata": {
    "papermill": {
     "duration": 0.016709,
     "end_time": "2025-08-05T15:36:15.170375",
     "exception": false,
     "start_time": "2025-08-05T15:36:15.153666",
     "status": "completed"
    },
    "tags": []
   },
   "source": [
    "# Conformal Prediction"
   ]
  },
  {
   "cell_type": "code",
   "execution_count": 36,
   "id": "160ec6ff",
   "metadata": {
    "execution": {
     "iopub.execute_input": "2025-08-05T15:36:15.206832Z",
     "iopub.status.busy": "2025-08-05T15:36:15.206190Z",
     "iopub.status.idle": "2025-08-05T15:36:15.211334Z",
     "shell.execute_reply": "2025-08-05T15:36:15.210368Z"
    },
    "papermill": {
     "duration": 0.025572,
     "end_time": "2025-08-05T15:36:15.213021",
     "exception": false,
     "start_time": "2025-08-05T15:36:15.187449",
     "status": "completed"
    },
    "tags": []
   },
   "outputs": [],
   "source": [
    "# Miscoverage level for conformal prediction (10% allowed error rate => 90% target coverage)\n",
    "alpha = 0.1"
   ]
  },
  {
   "cell_type": "code",
   "execution_count": 37,
   "id": "eadf4555-3dd3-440e-8e35-f82a4ad9f855",
   "metadata": {
    "execution": {
     "iopub.execute_input": "2025-08-05T15:36:15.235564Z",
     "iopub.status.busy": "2025-08-05T15:36:15.235241Z",
     "iopub.status.idle": "2025-08-05T15:36:15.407658Z",
     "shell.execute_reply": "2025-08-05T15:36:15.406679Z"
    },
    "papermill": {
     "duration": 0.184973,
     "end_time": "2025-08-05T15:36:15.409511",
     "exception": false,
     "start_time": "2025-08-05T15:36:15.224538",
     "status": "completed"
    },
    "tags": []
   },
   "outputs": [],
   "source": [
    "probs_calib = model.predict_proba(X_calib)"
   ]
  },
  {
   "cell_type": "code",
   "execution_count": 38,
   "id": "2ed93547-6d5d-4983-9b36-1ecb300da49a",
   "metadata": {
    "execution": {
     "iopub.execute_input": "2025-08-05T15:36:15.451769Z",
     "iopub.status.busy": "2025-08-05T15:36:15.451059Z",
     "iopub.status.idle": "2025-08-05T15:36:15.456609Z",
     "shell.execute_reply": "2025-08-05T15:36:15.455715Z"
    },
    "papermill": {
     "duration": 0.028167,
     "end_time": "2025-08-05T15:36:15.458408",
     "exception": false,
     "start_time": "2025-08-05T15:36:15.430241",
     "status": "completed"
    },
    "tags": []
   },
   "outputs": [],
   "source": [
    "y_calib = y_calib.values.ravel().astype(int)"
   ]
  },
  {
   "cell_type": "code",
   "execution_count": 39,
   "id": "65d1320d-f588-4b38-9072-62af1ae97f7d",
   "metadata": {
    "execution": {
     "iopub.execute_input": "2025-08-05T15:36:15.501242Z",
     "iopub.status.busy": "2025-08-05T15:36:15.500636Z",
     "iopub.status.idle": "2025-08-05T15:36:15.507427Z",
     "shell.execute_reply": "2025-08-05T15:36:15.506421Z"
    },
    "papermill": {
     "duration": 0.029026,
     "end_time": "2025-08-05T15:36:15.509178",
     "exception": false,
     "start_time": "2025-08-05T15:36:15.480152",
     "status": "completed"
    },
    "tags": []
   },
   "outputs": [],
   "source": [
    "from fairness_multiverse.conformal import compute_nc_scores\n",
    "\n",
    "# Compute nonconformity scores on calibration set (1 - probability of true class)\n",
    "nc_scores = compute_nc_scores(probs_calib, y_calib)"
   ]
  },
  {
   "cell_type": "code",
   "execution_count": 40,
   "id": "df3b8ca3-53b7-43d5-9667-7c85da7aeda2",
   "metadata": {
    "execution": {
     "iopub.execute_input": "2025-08-05T15:36:15.550028Z",
     "iopub.status.busy": "2025-08-05T15:36:15.549137Z",
     "iopub.status.idle": "2025-08-05T15:36:15.555735Z",
     "shell.execute_reply": "2025-08-05T15:36:15.554666Z"
    },
    "papermill": {
     "duration": 0.028598,
     "end_time": "2025-08-05T15:36:15.557365",
     "exception": false,
     "start_time": "2025-08-05T15:36:15.528767",
     "status": "completed"
    },
    "tags": []
   },
   "outputs": [],
   "source": [
    "from fairness_multiverse.conformal import find_threshold\n",
    "\n",
    "# Find conformal threshold q_hat for the given alpha (split conformal method)\n",
    "q_hat = find_threshold(nc_scores, alpha)"
   ]
  },
  {
   "cell_type": "code",
   "execution_count": 41,
   "id": "4d29e6c1-0ef6-4aa4-b8fe-4fe79b0d033a",
   "metadata": {
    "execution": {
     "iopub.execute_input": "2025-08-05T15:36:15.599122Z",
     "iopub.status.busy": "2025-08-05T15:36:15.598810Z",
     "iopub.status.idle": "2025-08-05T15:36:15.605124Z",
     "shell.execute_reply": "2025-08-05T15:36:15.604336Z"
    },
    "papermill": {
     "duration": 0.028793,
     "end_time": "2025-08-05T15:36:15.606535",
     "exception": false,
     "start_time": "2025-08-05T15:36:15.577742",
     "status": "completed"
    },
    "tags": []
   },
   "outputs": [
    {
     "data": {
      "text/plain": [
       "0.691591513790117"
      ]
     },
     "execution_count": 41,
     "metadata": {},
     "output_type": "execute_result"
    }
   ],
   "source": [
    "q_hat"
   ]
  },
  {
   "cell_type": "code",
   "execution_count": 42,
   "id": "92460794-cdac-4be2-ba28-f28c0515a6fb",
   "metadata": {
    "execution": {
     "iopub.execute_input": "2025-08-05T15:36:15.628542Z",
     "iopub.status.busy": "2025-08-05T15:36:15.628064Z",
     "iopub.status.idle": "2025-08-05T15:36:16.177464Z",
     "shell.execute_reply": "2025-08-05T15:36:16.176728Z"
    },
    "papermill": {
     "duration": 0.561555,
     "end_time": "2025-08-05T15:36:16.178856",
     "exception": false,
     "start_time": "2025-08-05T15:36:15.617301",
     "status": "completed"
    },
    "tags": []
   },
   "outputs": [],
   "source": [
    "from fairness_multiverse.conformal import predict_conformal_sets\n",
    "\n",
    "# Generate prediction sets for each test example\n",
    "pred_sets = predict_conformal_sets(model, X_test, q_hat)"
   ]
  },
  {
   "cell_type": "code",
   "execution_count": 43,
   "id": "d90c9a65-e6db-4f5d-80cd-e68fb7e46829",
   "metadata": {
    "execution": {
     "iopub.execute_input": "2025-08-05T15:36:16.201222Z",
     "iopub.status.busy": "2025-08-05T15:36:16.200842Z",
     "iopub.status.idle": "2025-08-05T15:36:16.205104Z",
     "shell.execute_reply": "2025-08-05T15:36:16.204286Z"
    },
    "papermill": {
     "duration": 0.016558,
     "end_time": "2025-08-05T15:36:16.206396",
     "exception": false,
     "start_time": "2025-08-05T15:36:16.189838",
     "status": "completed"
    },
    "tags": []
   },
   "outputs": [],
   "source": [
    "y_true = y_true.squeeze()"
   ]
  },
  {
   "cell_type": "code",
   "execution_count": 44,
   "id": "3a58a54a-1e68-46b9-927a-df01f18aebc8",
   "metadata": {
    "execution": {
     "iopub.execute_input": "2025-08-05T15:36:16.228437Z",
     "iopub.status.busy": "2025-08-05T15:36:16.228107Z",
     "iopub.status.idle": "2025-08-05T15:36:16.855779Z",
     "shell.execute_reply": "2025-08-05T15:36:16.854724Z"
    },
    "papermill": {
     "duration": 0.640676,
     "end_time": "2025-08-05T15:36:16.857848",
     "exception": false,
     "start_time": "2025-08-05T15:36:16.217172",
     "status": "completed"
    },
    "tags": []
   },
   "outputs": [],
   "source": [
    "from fairness_multiverse.conformal import evaluate_sets\n",
    "\n",
    "# Evaluate coverage and average set size on test data\n",
    "metrics = evaluate_sets(pred_sets, y_true)"
   ]
  },
  {
   "cell_type": "markdown",
   "id": "2b569c12-9aaa-4c88-98c9-bbcd0cf3ebb8",
   "metadata": {
    "papermill": {
     "duration": 0.022492,
     "end_time": "2025-08-05T15:36:16.902841",
     "exception": false,
     "start_time": "2025-08-05T15:36:16.880349",
     "status": "completed"
    },
    "tags": []
   },
   "source": [
    "# CP Metrics"
   ]
  },
  {
   "cell_type": "code",
   "execution_count": 45,
   "id": "5ce0a5cb-201f-45a0-ade5-94c7f0bd6095",
   "metadata": {
    "execution": {
     "iopub.execute_input": "2025-08-05T15:36:16.944818Z",
     "iopub.status.busy": "2025-08-05T15:36:16.944349Z",
     "iopub.status.idle": "2025-08-05T15:36:16.951566Z",
     "shell.execute_reply": "2025-08-05T15:36:16.950670Z"
    },
    "papermill": {
     "duration": 0.029296,
     "end_time": "2025-08-05T15:36:16.953295",
     "exception": false,
     "start_time": "2025-08-05T15:36:16.923999",
     "status": "completed"
    },
    "tags": []
   },
   "outputs": [
    {
     "data": {
      "text/plain": [
       "{'coverage': 0.9106008248801695, 'avg_size': 1.137264519005685}"
      ]
     },
     "execution_count": 45,
     "metadata": {},
     "output_type": "execute_result"
    }
   ],
   "source": [
    "metrics"
   ]
  },
  {
   "cell_type": "code",
   "execution_count": 46,
   "id": "9b9a838d-31c9-430b-ae14-12baee460d17",
   "metadata": {
    "execution": {
     "iopub.execute_input": "2025-08-05T15:36:16.994636Z",
     "iopub.status.busy": "2025-08-05T15:36:16.993754Z",
     "iopub.status.idle": "2025-08-05T15:36:17.000430Z",
     "shell.execute_reply": "2025-08-05T15:36:16.999449Z"
    },
    "papermill": {
     "duration": 0.028729,
     "end_time": "2025-08-05T15:36:17.002527",
     "exception": false,
     "start_time": "2025-08-05T15:36:16.973798",
     "status": "completed"
    },
    "tags": []
   },
   "outputs": [],
   "source": [
    "example_universe = universe.copy()\n",
    "universe_training_year = example_universe.get(\"training_year\")\n",
    "universe_training_size = example_universe.get(\"training_size\")\n",
    "universe_scale = example_universe.get(\"scale\")\n",
    "universe_model = example_universe.get(\"model\")\n",
    "universe_exclude_features = example_universe.get(\"exclude_features\")\n",
    "universe_exclude_subgroups = example_universe.get(\"exclude_subgroups\")"
   ]
  },
  {
   "cell_type": "code",
   "execution_count": 47,
   "id": "f4b6a8ac-9dc0-4245-8a91-5b3b5999c4f9",
   "metadata": {
    "execution": {
     "iopub.execute_input": "2025-08-05T15:36:17.044869Z",
     "iopub.status.busy": "2025-08-05T15:36:17.044485Z",
     "iopub.status.idle": "2025-08-05T15:36:17.050875Z",
     "shell.execute_reply": "2025-08-05T15:36:17.049691Z"
    },
    "papermill": {
     "duration": 0.029412,
     "end_time": "2025-08-05T15:36:17.052796",
     "exception": false,
     "start_time": "2025-08-05T15:36:17.023384",
     "status": "completed"
    },
    "tags": []
   },
   "outputs": [],
   "source": [
    "cp_metrics_dict = {\n",
    "    \"universe_id\": [universe_id],\n",
    "    \"universe_training_year\": [universe_training_year],\n",
    "    \"universe_training_size\": [universe_training_size],\n",
    "    \"universe_scale\": [universe_scale],\n",
    "    \"universe_model\": [universe_model],\n",
    "    \"universe_exclude_features\": [universe_exclude_features],\n",
    "    \"universe_exclude_subgroups\": [universe_exclude_subgroups],\n",
    "    \"q_hat\": [q_hat],\n",
    "    \"coverage\": [metrics[\"coverage\"]],\n",
    "    \"avg_size\": [metrics[\"avg_size\"]],\n",
    "}"
   ]
  },
  {
   "cell_type": "code",
   "execution_count": 48,
   "id": "908acbb1-0371-4915-85ca-3fa520d2efe2",
   "metadata": {
    "execution": {
     "iopub.execute_input": "2025-08-05T15:36:17.102642Z",
     "iopub.status.busy": "2025-08-05T15:36:17.101918Z",
     "iopub.status.idle": "2025-08-05T15:36:17.111277Z",
     "shell.execute_reply": "2025-08-05T15:36:17.110290Z"
    },
    "papermill": {
     "duration": 0.036713,
     "end_time": "2025-08-05T15:36:17.113068",
     "exception": false,
     "start_time": "2025-08-05T15:36:17.076355",
     "status": "completed"
    },
    "tags": []
   },
   "outputs": [
    {
     "data": {
      "text/plain": [
       "{'universe_id': ['7a521937c3f224121eaa8e1ba102d51e'],\n",
       " 'universe_training_year': ['2012_14'],\n",
       " 'universe_training_size': ['5k'],\n",
       " 'universe_scale': ['scale'],\n",
       " 'universe_model': ['penalized_logreg'],\n",
       " 'universe_exclude_features': ['age'],\n",
       " 'universe_exclude_subgroups': ['keep-all'],\n",
       " 'q_hat': [0.691591513790117],\n",
       " 'coverage': [0.9106008248801695],\n",
       " 'avg_size': [1.137264519005685]}"
      ]
     },
     "execution_count": 48,
     "metadata": {},
     "output_type": "execute_result"
    }
   ],
   "source": [
    "cp_metrics_dict"
   ]
  },
  {
   "cell_type": "code",
   "execution_count": 49,
   "id": "33007efc-14e9-4ec6-97ac-56a455c82265",
   "metadata": {
    "execution": {
     "iopub.execute_input": "2025-08-05T15:36:17.138079Z",
     "iopub.status.busy": "2025-08-05T15:36:17.137655Z",
     "iopub.status.idle": "2025-08-05T15:36:17.142425Z",
     "shell.execute_reply": "2025-08-05T15:36:17.141718Z"
    },
    "papermill": {
     "duration": 0.018822,
     "end_time": "2025-08-05T15:36:17.143766",
     "exception": false,
     "start_time": "2025-08-05T15:36:17.124944",
     "status": "completed"
    },
    "tags": []
   },
   "outputs": [],
   "source": [
    "cp_metrics_df = pd.DataFrame(cp_metrics_dict)"
   ]
  },
  {
   "cell_type": "code",
   "execution_count": 50,
   "id": "db12611b-57b2-4910-b9d0-355adfd6e7bf",
   "metadata": {
    "execution": {
     "iopub.execute_input": "2025-08-05T15:36:17.187064Z",
     "iopub.status.busy": "2025-08-05T15:36:17.186216Z",
     "iopub.status.idle": "2025-08-05T15:36:17.204626Z",
     "shell.execute_reply": "2025-08-05T15:36:17.203717Z"
    },
    "papermill": {
     "duration": 0.041134,
     "end_time": "2025-08-05T15:36:17.206476",
     "exception": false,
     "start_time": "2025-08-05T15:36:17.165342",
     "status": "completed"
    },
    "tags": []
   },
   "outputs": [
    {
     "data": {
      "text/html": [
       "<div>\n",
       "<style scoped>\n",
       "    .dataframe tbody tr th:only-of-type {\n",
       "        vertical-align: middle;\n",
       "    }\n",
       "\n",
       "    .dataframe tbody tr th {\n",
       "        vertical-align: top;\n",
       "    }\n",
       "\n",
       "    .dataframe thead th {\n",
       "        text-align: right;\n",
       "    }\n",
       "</style>\n",
       "<table border=\"1\" class=\"dataframe\">\n",
       "  <thead>\n",
       "    <tr style=\"text-align: right;\">\n",
       "      <th></th>\n",
       "      <th>universe_id</th>\n",
       "      <th>universe_training_year</th>\n",
       "      <th>universe_training_size</th>\n",
       "      <th>universe_scale</th>\n",
       "      <th>universe_model</th>\n",
       "      <th>universe_exclude_features</th>\n",
       "      <th>universe_exclude_subgroups</th>\n",
       "      <th>q_hat</th>\n",
       "      <th>coverage</th>\n",
       "      <th>avg_size</th>\n",
       "    </tr>\n",
       "  </thead>\n",
       "  <tbody>\n",
       "    <tr>\n",
       "      <th>0</th>\n",
       "      <td>7a521937c3f224121eaa8e1ba102d51e</td>\n",
       "      <td>2012_14</td>\n",
       "      <td>5k</td>\n",
       "      <td>scale</td>\n",
       "      <td>penalized_logreg</td>\n",
       "      <td>age</td>\n",
       "      <td>keep-all</td>\n",
       "      <td>0.691592</td>\n",
       "      <td>0.910601</td>\n",
       "      <td>1.137265</td>\n",
       "    </tr>\n",
       "  </tbody>\n",
       "</table>\n",
       "</div>"
      ],
      "text/plain": [
       "                        universe_id universe_training_year  \\\n",
       "0  7a521937c3f224121eaa8e1ba102d51e                2012_14   \n",
       "\n",
       "  universe_training_size universe_scale    universe_model  \\\n",
       "0                     5k          scale  penalized_logreg   \n",
       "\n",
       "  universe_exclude_features universe_exclude_subgroups     q_hat  coverage  \\\n",
       "0                       age                   keep-all  0.691592  0.910601   \n",
       "\n",
       "   avg_size  \n",
       "0  1.137265  "
      ]
     },
     "execution_count": 50,
     "metadata": {},
     "output_type": "execute_result"
    }
   ],
   "source": [
    "cp_metrics_df"
   ]
  },
  {
   "cell_type": "code",
   "execution_count": 51,
   "id": "b7fbde55-a0a1-47e4-9af6-fe4a17fa8c61",
   "metadata": {
    "execution": {
     "iopub.execute_input": "2025-08-05T15:36:17.253040Z",
     "iopub.status.busy": "2025-08-05T15:36:17.252120Z",
     "iopub.status.idle": "2025-08-05T15:36:17.257110Z",
     "shell.execute_reply": "2025-08-05T15:36:17.256212Z"
    },
    "papermill": {
     "duration": 0.030349,
     "end_time": "2025-08-05T15:36:17.258771",
     "exception": false,
     "start_time": "2025-08-05T15:36:17.228422",
     "status": "completed"
    },
    "tags": []
   },
   "outputs": [],
   "source": [
    "# Conditional Coverage & looking at subgroups"
   ]
  },
  {
   "cell_type": "code",
   "execution_count": 52,
   "id": "027ae886-68dd-4141-96c7-805a5450e1ef",
   "metadata": {
    "execution": {
     "iopub.execute_input": "2025-08-05T15:36:17.301102Z",
     "iopub.status.busy": "2025-08-05T15:36:17.300207Z",
     "iopub.status.idle": "2025-08-05T15:36:17.549955Z",
     "shell.execute_reply": "2025-08-05T15:36:17.548850Z"
    },
    "papermill": {
     "duration": 0.272216,
     "end_time": "2025-08-05T15:36:17.551438",
     "exception": false,
     "start_time": "2025-08-05T15:36:17.279222",
     "status": "completed"
    },
    "tags": []
   },
   "outputs": [],
   "source": [
    "from fairness_multiverse.conformal import build_cp_groups\n",
    "\n",
    "cp_groups_df = build_cp_groups(pred_sets, y_true, X_test.index, org_test)\n",
    "#needs universe_id and setting"
   ]
  },
  {
   "cell_type": "code",
   "execution_count": 53,
   "id": "6cbdab96-b2b2-45af-ad54-d0516db2e28d",
   "metadata": {
    "execution": {
     "iopub.execute_input": "2025-08-05T15:36:17.578920Z",
     "iopub.status.busy": "2025-08-05T15:36:17.578566Z",
     "iopub.status.idle": "2025-08-05T15:36:18.918582Z",
     "shell.execute_reply": "2025-08-05T15:36:18.917564Z"
    },
    "papermill": {
     "duration": 1.356332,
     "end_time": "2025-08-05T15:36:18.920441",
     "exception": false,
     "start_time": "2025-08-05T15:36:17.564109",
     "status": "completed"
    },
    "tags": []
   },
   "outputs": [],
   "source": [
    "# Define covered = 1 if true_label is in the predicted set\n",
    "cp_groups_df['covered'] = cp_groups_df.apply(\n",
    "    lambda r: int(r['true_label'] in r['pred_set']),\n",
    "    axis=1\n",
    ")"
   ]
  },
  {
   "cell_type": "code",
   "execution_count": 54,
   "id": "338ff529-1a6b-4b87-a931-8e4788d52aad",
   "metadata": {
    "execution": {
     "iopub.execute_input": "2025-08-05T15:36:18.956893Z",
     "iopub.status.busy": "2025-08-05T15:36:18.956477Z",
     "iopub.status.idle": "2025-08-05T15:36:18.960135Z",
     "shell.execute_reply": "2025-08-05T15:36:18.959465Z"
    },
    "papermill": {
     "duration": 0.019291,
     "end_time": "2025-08-05T15:36:18.961513",
     "exception": false,
     "start_time": "2025-08-05T15:36:18.942222",
     "status": "completed"
    },
    "tags": []
   },
   "outputs": [],
   "source": [
    "#cp_groups_df"
   ]
  },
  {
   "cell_type": "code",
   "execution_count": 55,
   "id": "90032e27-66df-4540-9169-4e89cfbaa758",
   "metadata": {
    "execution": {
     "iopub.execute_input": "2025-08-05T15:36:18.986189Z",
     "iopub.status.busy": "2025-08-05T15:36:18.985689Z",
     "iopub.status.idle": "2025-08-05T15:36:18.996780Z",
     "shell.execute_reply": "2025-08-05T15:36:18.995929Z"
    },
    "papermill": {
     "duration": 0.024187,
     "end_time": "2025-08-05T15:36:18.998361",
     "exception": false,
     "start_time": "2025-08-05T15:36:18.974174",
     "status": "completed"
    },
    "tags": []
   },
   "outputs": [],
   "source": [
    "subgroups = ['frau1','nongerman','nongerman_male','nongerman_female']\n",
    "\n",
    "# Conditional coverage for subgroup==1\n",
    "cond_coverage = {\n",
    "    g: cp_groups_df.loc[cp_groups_df[g]==1, 'covered'].mean()\n",
    "    for g in subgroups\n",
    "}"
   ]
  },
  {
   "cell_type": "code",
   "execution_count": 56,
   "id": "1e348fb1-b9c3-45bc-ba23-f016827a7e0d",
   "metadata": {
    "execution": {
     "iopub.execute_input": "2025-08-05T15:36:19.041998Z",
     "iopub.status.busy": "2025-08-05T15:36:19.041543Z",
     "iopub.status.idle": "2025-08-05T15:36:19.048689Z",
     "shell.execute_reply": "2025-08-05T15:36:19.047667Z"
    },
    "papermill": {
     "duration": 0.031637,
     "end_time": "2025-08-05T15:36:19.050412",
     "exception": false,
     "start_time": "2025-08-05T15:36:19.018775",
     "status": "completed"
    },
    "tags": []
   },
   "outputs": [
    {
     "data": {
      "text/plain": [
       "{'frau1': 0.9056207035988678,\n",
       " 'nongerman': 0.911413012968057,\n",
       " 'nongerman_male': 0.9283076645951545,\n",
       " 'nongerman_female': 0.8834575260804769}"
      ]
     },
     "execution_count": 56,
     "metadata": {},
     "output_type": "execute_result"
    }
   ],
   "source": [
    "cond_coverage"
   ]
  },
  {
   "cell_type": "code",
   "execution_count": 57,
   "id": "f5093324-c3dd-4d63-bc4c-8d945e5c8bbb",
   "metadata": {
    "execution": {
     "iopub.execute_input": "2025-08-05T15:36:19.099178Z",
     "iopub.status.busy": "2025-08-05T15:36:19.098774Z",
     "iopub.status.idle": "2025-08-05T15:36:19.105340Z",
     "shell.execute_reply": "2025-08-05T15:36:19.104572Z"
    },
    "papermill": {
     "duration": 0.03271,
     "end_time": "2025-08-05T15:36:19.106870",
     "exception": false,
     "start_time": "2025-08-05T15:36:19.074160",
     "status": "completed"
    },
    "tags": []
   },
   "outputs": [],
   "source": [
    "for subgroup, cov in cond_coverage.items():\n",
    "    cp_metrics_df[f\"cov_{subgroup}\"] = cov"
   ]
  },
  {
   "cell_type": "code",
   "execution_count": 58,
   "id": "6e872e10-dbe5-49e8-b554-5030c98ff75d",
   "metadata": {
    "execution": {
     "iopub.execute_input": "2025-08-05T15:36:19.131808Z",
     "iopub.status.busy": "2025-08-05T15:36:19.131478Z",
     "iopub.status.idle": "2025-08-05T15:36:19.145032Z",
     "shell.execute_reply": "2025-08-05T15:36:19.144263Z"
    },
    "papermill": {
     "duration": 0.027054,
     "end_time": "2025-08-05T15:36:19.146527",
     "exception": false,
     "start_time": "2025-08-05T15:36:19.119473",
     "status": "completed"
    },
    "tags": []
   },
   "outputs": [
    {
     "data": {
      "text/html": [
       "<div>\n",
       "<style scoped>\n",
       "    .dataframe tbody tr th:only-of-type {\n",
       "        vertical-align: middle;\n",
       "    }\n",
       "\n",
       "    .dataframe tbody tr th {\n",
       "        vertical-align: top;\n",
       "    }\n",
       "\n",
       "    .dataframe thead th {\n",
       "        text-align: right;\n",
       "    }\n",
       "</style>\n",
       "<table border=\"1\" class=\"dataframe\">\n",
       "  <thead>\n",
       "    <tr style=\"text-align: right;\">\n",
       "      <th></th>\n",
       "      <th>universe_id</th>\n",
       "      <th>universe_training_year</th>\n",
       "      <th>universe_training_size</th>\n",
       "      <th>universe_scale</th>\n",
       "      <th>universe_model</th>\n",
       "      <th>universe_exclude_features</th>\n",
       "      <th>universe_exclude_subgroups</th>\n",
       "      <th>q_hat</th>\n",
       "      <th>coverage</th>\n",
       "      <th>avg_size</th>\n",
       "      <th>cov_frau1</th>\n",
       "      <th>cov_nongerman</th>\n",
       "      <th>cov_nongerman_male</th>\n",
       "      <th>cov_nongerman_female</th>\n",
       "    </tr>\n",
       "  </thead>\n",
       "  <tbody>\n",
       "    <tr>\n",
       "      <th>0</th>\n",
       "      <td>7a521937c3f224121eaa8e1ba102d51e</td>\n",
       "      <td>2012_14</td>\n",
       "      <td>5k</td>\n",
       "      <td>scale</td>\n",
       "      <td>penalized_logreg</td>\n",
       "      <td>age</td>\n",
       "      <td>keep-all</td>\n",
       "      <td>0.691592</td>\n",
       "      <td>0.910601</td>\n",
       "      <td>1.137265</td>\n",
       "      <td>0.905621</td>\n",
       "      <td>0.911413</td>\n",
       "      <td>0.928308</td>\n",
       "      <td>0.883458</td>\n",
       "    </tr>\n",
       "  </tbody>\n",
       "</table>\n",
       "</div>"
      ],
      "text/plain": [
       "                        universe_id universe_training_year  \\\n",
       "0  7a521937c3f224121eaa8e1ba102d51e                2012_14   \n",
       "\n",
       "  universe_training_size universe_scale    universe_model  \\\n",
       "0                     5k          scale  penalized_logreg   \n",
       "\n",
       "  universe_exclude_features universe_exclude_subgroups     q_hat  coverage  \\\n",
       "0                       age                   keep-all  0.691592  0.910601   \n",
       "\n",
       "   avg_size  cov_frau1  cov_nongerman  cov_nongerman_male  \\\n",
       "0  1.137265   0.905621       0.911413            0.928308   \n",
       "\n",
       "   cov_nongerman_female  \n",
       "0              0.883458  "
      ]
     },
     "execution_count": 58,
     "metadata": {},
     "output_type": "execute_result"
    }
   ],
   "source": [
    "cp_metrics_df"
   ]
  },
  {
   "cell_type": "markdown",
   "id": "33774451",
   "metadata": {
    "papermill": {
     "duration": 0.011112,
     "end_time": "2025-08-05T15:36:19.170017",
     "exception": false,
     "start_time": "2025-08-05T15:36:19.158905",
     "status": "completed"
    },
    "tags": []
   },
   "source": [
    "# (Fairness) Metrics"
   ]
  },
  {
   "cell_type": "code",
   "execution_count": 59,
   "id": "debc5d62",
   "metadata": {
    "execution": {
     "iopub.execute_input": "2025-08-05T15:36:19.193339Z",
     "iopub.status.busy": "2025-08-05T15:36:19.192857Z",
     "iopub.status.idle": "2025-08-05T15:36:19.206449Z",
     "shell.execute_reply": "2025-08-05T15:36:19.205792Z"
    },
    "papermill": {
     "duration": 0.026622,
     "end_time": "2025-08-05T15:36:19.207664",
     "exception": false,
     "start_time": "2025-08-05T15:36:19.181042",
     "status": "completed"
    },
    "tags": []
   },
   "outputs": [],
   "source": [
    "# do I need to include maxdeutsch1.missing?\n",
    "\n",
    "import numpy as np\n",
    "\n",
    "colname_to_bin = \"maxdeutsch1\"\n",
    "majority_value = org_train[colname_to_bin].mode()[0]\n",
    "\n",
    "org_test[\"majmin\"] = np.where(org_test[colname_to_bin] == majority_value, \"majority\", \"minority\")"
   ]
  },
  {
   "cell_type": "code",
   "execution_count": 60,
   "id": "06a50de5",
   "metadata": {
    "execution": {
     "iopub.execute_input": "2025-08-05T15:36:19.231534Z",
     "iopub.status.busy": "2025-08-05T15:36:19.231040Z",
     "iopub.status.idle": "2025-08-05T15:36:20.650686Z",
     "shell.execute_reply": "2025-08-05T15:36:20.649967Z"
    },
    "papermill": {
     "duration": 1.432827,
     "end_time": "2025-08-05T15:36:20.652063",
     "exception": false,
     "start_time": "2025-08-05T15:36:19.219236",
     "status": "completed"
    },
    "tags": []
   },
   "outputs": [],
   "source": [
    "example_universe = universe.copy()\n",
    "example_universe[\"cutoff\"] = example_universe[\"cutoff\"][0]\n",
    "example_universe[\"eval_fairness_grouping\"] = example_universe[\"eval_fairness_grouping\"][0]\n",
    "fairness_dict, metric_frame = universe_analysis.compute_metrics(\n",
    "    example_universe,\n",
    "    y_pred_prob=probs_test,\n",
    "    y_test=y_true,\n",
    "    org_test=org_test,\n",
    ")"
   ]
  },
  {
   "cell_type": "markdown",
   "id": "f95d4e02",
   "metadata": {
    "papermill": {
     "duration": 0.011398,
     "end_time": "2025-08-05T15:36:20.678859",
     "exception": false,
     "start_time": "2025-08-05T15:36:20.667461",
     "status": "completed"
    },
    "tags": []
   },
   "source": [
    "# Overall"
   ]
  },
  {
   "cell_type": "markdown",
   "id": "bdee4871",
   "metadata": {
    "papermill": {
     "duration": 0.011216,
     "end_time": "2025-08-05T15:36:20.701483",
     "exception": false,
     "start_time": "2025-08-05T15:36:20.690267",
     "status": "completed"
    },
    "tags": []
   },
   "source": [
    "Fairness\n",
    "Main fairness target: Equalized Odds. Seems to be a better fit than equal opportunity, since we're not only interested in Y = 1. Seems to be a better fit than demographic parity, since we also care about accuracy, not just equal distribution of preds.\n",
    "\n",
    "Pick column for computation of fairness metrics\n",
    "\n",
    "Performance\n",
    "Overall performance measures, most interesting in relation to the measures split by group below"
   ]
  },
  {
   "cell_type": "code",
   "execution_count": 61,
   "id": "c4e067c6",
   "metadata": {
    "execution": {
     "iopub.execute_input": "2025-08-05T15:36:20.725376Z",
     "iopub.status.busy": "2025-08-05T15:36:20.724703Z",
     "iopub.status.idle": "2025-08-05T15:36:20.735204Z",
     "shell.execute_reply": "2025-08-05T15:36:20.734180Z"
    },
    "papermill": {
     "duration": 0.024556,
     "end_time": "2025-08-05T15:36:20.737158",
     "exception": false,
     "start_time": "2025-08-05T15:36:20.712602",
     "status": "completed"
    },
    "tags": []
   },
   "outputs": [
    {
     "data": {
      "text/plain": [
       "accuracy                   0.223754\n",
       "balanced accuracy          0.547240\n",
       "f1                         0.245103\n",
       "precision                  0.140019\n",
       "false positive rate        0.887880\n",
       "false negative rate        0.017640\n",
       "selection rate             0.900000\n",
       "count                  89710.000000\n",
       "dtype: float64"
      ]
     },
     "execution_count": 61,
     "metadata": {},
     "output_type": "execute_result"
    }
   ],
   "source": [
    "metric_frame.overall"
   ]
  },
  {
   "cell_type": "markdown",
   "id": "e968fe9d",
   "metadata": {
    "papermill": {
     "duration": 0.026359,
     "end_time": "2025-08-05T15:36:20.788730",
     "exception": false,
     "start_time": "2025-08-05T15:36:20.762371",
     "status": "completed"
    },
    "tags": []
   },
   "source": [
    "By Group"
   ]
  },
  {
   "cell_type": "code",
   "execution_count": 62,
   "id": "ec325bce",
   "metadata": {
    "execution": {
     "iopub.execute_input": "2025-08-05T15:36:20.844239Z",
     "iopub.status.busy": "2025-08-05T15:36:20.843600Z",
     "iopub.status.idle": "2025-08-05T15:36:20.863425Z",
     "shell.execute_reply": "2025-08-05T15:36:20.861965Z"
    },
    "papermill": {
     "duration": 0.050036,
     "end_time": "2025-08-05T15:36:20.865446",
     "exception": false,
     "start_time": "2025-08-05T15:36:20.815410",
     "status": "completed"
    },
    "tags": []
   },
   "outputs": [
    {
     "data": {
      "text/html": [
       "<div>\n",
       "<style scoped>\n",
       "    .dataframe tbody tr th:only-of-type {\n",
       "        vertical-align: middle;\n",
       "    }\n",
       "\n",
       "    .dataframe tbody tr th {\n",
       "        vertical-align: top;\n",
       "    }\n",
       "\n",
       "    .dataframe thead th {\n",
       "        text-align: right;\n",
       "    }\n",
       "</style>\n",
       "<table border=\"1\" class=\"dataframe\">\n",
       "  <thead>\n",
       "    <tr style=\"text-align: right;\">\n",
       "      <th></th>\n",
       "      <th>accuracy</th>\n",
       "      <th>balanced accuracy</th>\n",
       "      <th>f1</th>\n",
       "      <th>precision</th>\n",
       "      <th>false positive rate</th>\n",
       "      <th>false negative rate</th>\n",
       "      <th>selection rate</th>\n",
       "      <th>count</th>\n",
       "    </tr>\n",
       "    <tr>\n",
       "      <th>majmin</th>\n",
       "      <th></th>\n",
       "      <th></th>\n",
       "      <th></th>\n",
       "      <th></th>\n",
       "      <th></th>\n",
       "      <th></th>\n",
       "      <th></th>\n",
       "      <th></th>\n",
       "    </tr>\n",
       "  </thead>\n",
       "  <tbody>\n",
       "    <tr>\n",
       "      <th>majority</th>\n",
       "      <td>0.247824</td>\n",
       "      <td>0.557978</td>\n",
       "      <td>0.256041</td>\n",
       "      <td>0.147268</td>\n",
       "      <td>0.863585</td>\n",
       "      <td>0.020460</td>\n",
       "      <td>0.878907</td>\n",
       "      <td>69170.0</td>\n",
       "    </tr>\n",
       "    <tr>\n",
       "      <th>minority</th>\n",
       "      <td>0.142697</td>\n",
       "      <td>0.512553</td>\n",
       "      <td>0.210819</td>\n",
       "      <td>0.117924</td>\n",
       "      <td>0.968138</td>\n",
       "      <td>0.006757</td>\n",
       "      <td>0.971032</td>\n",
       "      <td>20540.0</td>\n",
       "    </tr>\n",
       "  </tbody>\n",
       "</table>\n",
       "</div>"
      ],
      "text/plain": [
       "          accuracy  balanced accuracy        f1  precision  \\\n",
       "majmin                                                       \n",
       "majority  0.247824           0.557978  0.256041   0.147268   \n",
       "minority  0.142697           0.512553  0.210819   0.117924   \n",
       "\n",
       "          false positive rate  false negative rate  selection rate    count  \n",
       "majmin                                                                       \n",
       "majority             0.863585             0.020460        0.878907  69170.0  \n",
       "minority             0.968138             0.006757        0.971032  20540.0  "
      ]
     },
     "execution_count": 62,
     "metadata": {},
     "output_type": "execute_result"
    }
   ],
   "source": [
    "metric_frame.by_group"
   ]
  },
  {
   "cell_type": "code",
   "execution_count": 63,
   "id": "a9ddbe63",
   "metadata": {
    "execution": {
     "iopub.execute_input": "2025-08-05T15:36:20.921389Z",
     "iopub.status.busy": "2025-08-05T15:36:20.920445Z",
     "iopub.status.idle": "2025-08-05T15:36:23.050759Z",
     "shell.execute_reply": "2025-08-05T15:36:23.049743Z"
    },
    "papermill": {
     "duration": 2.159573,
     "end_time": "2025-08-05T15:36:23.052043",
     "exception": false,
     "start_time": "2025-08-05T15:36:20.892470",
     "status": "completed"
    },
    "tags": []
   },
   "outputs": [
    {
     "data": {
      "text/plain": [
       "array([[<Axes: title={'center': 'accuracy'}, xlabel='majmin'>,\n",
       "        <Axes: title={'center': 'balanced accuracy'}, xlabel='majmin'>,\n",
       "        <Axes: title={'center': 'f1'}, xlabel='majmin'>],\n",
       "       [<Axes: title={'center': 'precision'}, xlabel='majmin'>,\n",
       "        <Axes: title={'center': 'false positive rate'}, xlabel='majmin'>,\n",
       "        <Axes: title={'center': 'false negative rate'}, xlabel='majmin'>],\n",
       "       [<Axes: title={'center': 'selection rate'}, xlabel='majmin'>,\n",
       "        <Axes: title={'center': 'count'}, xlabel='majmin'>,\n",
       "        <Axes: xlabel='majmin'>]], dtype=object)"
      ]
     },
     "execution_count": 63,
     "metadata": {},
     "output_type": "execute_result"
    },
    {
     "data": {
      "image/png": "[encoded data removed]",
      "text/plain": [
       "<Figure size 1200x800 with 9 Axes>"
      ]
     },
     "metadata": {},
     "output_type": "display_data"
    }
   ],
   "source": [
    "# In a graphic\n",
    "metric_frame.by_group.plot.bar(\n",
    "    subplots=True,\n",
    "    layout=[3, 3],\n",
    "    legend=False,\n",
    "    figsize=[12, 8],\n",
    "    title=\"Show all metrics\",\n",
    ")"
   ]
  },
  {
   "cell_type": "markdown",
   "id": "f57a0bac",
   "metadata": {
    "papermill": {
     "duration": 0.012884,
     "end_time": "2025-08-05T15:36:23.080943",
     "exception": false,
     "start_time": "2025-08-05T15:36:23.068059",
     "status": "completed"
    },
    "tags": []
   },
   "source": [
    "# Final Output"
   ]
  },
  {
   "cell_type": "code",
   "execution_count": 64,
   "id": "96d280a3",
   "metadata": {
    "execution": {
     "iopub.execute_input": "2025-08-05T15:36:23.108036Z",
     "iopub.status.busy": "2025-08-05T15:36:23.107504Z",
     "iopub.status.idle": "2025-08-05T15:36:23.114820Z",
     "shell.execute_reply": "2025-08-05T15:36:23.113952Z"
    },
    "papermill": {
     "duration": 0.02246,
     "end_time": "2025-08-05T15:36:23.116022",
     "exception": false,
     "start_time": "2025-08-05T15:36:23.093562",
     "status": "completed"
    },
    "tags": []
   },
   "outputs": [
    {
     "data": {
      "text/plain": [
       "4"
      ]
     },
     "execution_count": 64,
     "metadata": {},
     "output_type": "execute_result"
    }
   ],
   "source": [
    "sub_universes = universe_analysis.generate_sub_universes()\n",
    "len(sub_universes)"
   ]
  },
  {
   "cell_type": "code",
   "execution_count": 65,
   "id": "92adf7ba",
   "metadata": {
    "execution": {
     "iopub.execute_input": "2025-08-05T15:36:23.143007Z",
     "iopub.status.busy": "2025-08-05T15:36:23.142560Z",
     "iopub.status.idle": "2025-08-05T15:36:23.163408Z",
     "shell.execute_reply": "2025-08-05T15:36:23.162545Z"
    },
    "papermill": {
     "duration": 0.035856,
     "end_time": "2025-08-05T15:36:23.164864",
     "exception": false,
     "start_time": "2025-08-05T15:36:23.129008",
     "status": "completed"
    },
    "tags": []
   },
   "outputs": [],
   "source": [
    "def filter_sub_universe_data(sub_universe, org_test):\n",
    "    # Keep all rows — no filtering\n",
    "    keep_rows_mask = np.ones(org_test.shape[0], dtype=bool)\n",
    "\n",
    "    print(f\"[INFO] Keeping all rows: {keep_rows_mask.sum()} rows retained.\")\n",
    "    return keep_rows_mask"
   ]
  },
  {
   "cell_type": "code",
   "execution_count": 66,
   "id": "4a759155",
   "metadata": {
    "execution": {
     "iopub.execute_input": "2025-08-05T15:36:23.221398Z",
     "iopub.status.busy": "2025-08-05T15:36:23.220890Z",
     "iopub.status.idle": "2025-08-05T15:36:32.608778Z",
     "shell.execute_reply": "2025-08-05T15:36:32.607693Z"
    },
    "papermill": {
     "duration": 9.417903,
     "end_time": "2025-08-05T15:36:32.610593",
     "exception": false,
     "start_time": "2025-08-05T15:36:23.192690",
     "status": "completed"
    },
    "tags": []
   },
   "outputs": [
    {
     "name": "stdout",
     "output_type": "stream",
     "text": [
      "Stopping execution_time clock.\n",
      "[INFO] Keeping all rows: 89710 rows retained.\n"
     ]
    },
    {
     "name": "stdout",
     "output_type": "stream",
     "text": [
      "[INFO] Keeping all rows: 89710 rows retained.\n"
     ]
    },
    {
     "name": "stdout",
     "output_type": "stream",
     "text": [
      "[INFO] Keeping all rows: 89710 rows retained.\n"
     ]
    },
    {
     "name": "stdout",
     "output_type": "stream",
     "text": [
      "[INFO] Keeping all rows: 89710 rows retained.\n"
     ]
    },
    {
     "data": {
      "text/html": [
       "<div>\n",
       "<style scoped>\n",
       "    .dataframe tbody tr th:only-of-type {\n",
       "        vertical-align: middle;\n",
       "    }\n",
       "\n",
       "    .dataframe tbody tr th {\n",
       "        vertical-align: top;\n",
       "    }\n",
       "\n",
       "    .dataframe thead th {\n",
       "        text-align: right;\n",
       "    }\n",
       "</style>\n",
       "<table border=\"1\" class=\"dataframe\">\n",
       "  <thead>\n",
       "    <tr style=\"text-align: right;\">\n",
       "      <th></th>\n",
       "      <th>run_no</th>\n",
       "      <th>universe_id</th>\n",
       "      <th>universe_settings</th>\n",
       "      <th>execution_time</th>\n",
       "      <th>test_size_n</th>\n",
       "      <th>test_size_frac</th>\n",
       "      <th>fair_main_equalized_odds_difference</th>\n",
       "      <th>fair_main_equalized_odds_ratio</th>\n",
       "      <th>fair_main_demographic_parity_difference</th>\n",
       "      <th>fair_main_demographic_parity_ratio</th>\n",
       "      <th>...</th>\n",
       "      <th>perf_grp_precision_0</th>\n",
       "      <th>perf_grp_precision_1</th>\n",
       "      <th>perf_grp_false positive rate_0</th>\n",
       "      <th>perf_grp_false positive rate_1</th>\n",
       "      <th>perf_grp_false negative rate_0</th>\n",
       "      <th>perf_grp_false negative rate_1</th>\n",
       "      <th>perf_grp_selection rate_0</th>\n",
       "      <th>perf_grp_selection rate_1</th>\n",
       "      <th>perf_grp_count_0</th>\n",
       "      <th>perf_grp_count_1</th>\n",
       "    </tr>\n",
       "  </thead>\n",
       "  <tbody>\n",
       "    <tr>\n",
       "      <th>0</th>\n",
       "      <td>15</td>\n",
       "      <td>7a521937c3f224121eaa8e1ba102d51e</td>\n",
       "      <td>{\"cutoff\": \"quantile_0.1\", \"eval_fairness_grou...</td>\n",
       "      <td>23.299663</td>\n",
       "      <td>89710</td>\n",
       "      <td>1.0</td>\n",
       "      <td>0.104553</td>\n",
       "      <td>0.892006</td>\n",
       "      <td>0.092125</td>\n",
       "      <td>0.905127</td>\n",
       "      <td>...</td>\n",
       "      <td>NaN</td>\n",
       "      <td>NaN</td>\n",
       "      <td>NaN</td>\n",
       "      <td>NaN</td>\n",
       "      <td>NaN</td>\n",
       "      <td>NaN</td>\n",
       "      <td>NaN</td>\n",
       "      <td>NaN</td>\n",
       "      <td>NaN</td>\n",
       "      <td>NaN</td>\n",
       "    </tr>\n",
       "    <tr>\n",
       "      <th>0</th>\n",
       "      <td>15</td>\n",
       "      <td>7a521937c3f224121eaa8e1ba102d51e</td>\n",
       "      <td>{\"cutoff\": \"quantile_0.1\", \"eval_fairness_grou...</td>\n",
       "      <td>23.299663</td>\n",
       "      <td>89710</td>\n",
       "      <td>1.0</td>\n",
       "      <td>0.104553</td>\n",
       "      <td>0.892006</td>\n",
       "      <td>0.092125</td>\n",
       "      <td>0.905127</td>\n",
       "      <td>...</td>\n",
       "      <td>0.117924</td>\n",
       "      <td>0.147268</td>\n",
       "      <td>0.968138</td>\n",
       "      <td>0.863585</td>\n",
       "      <td>0.006757</td>\n",
       "      <td>0.020460</td>\n",
       "      <td>0.971032</td>\n",
       "      <td>0.878907</td>\n",
       "      <td>20540.0</td>\n",
       "      <td>69170.0</td>\n",
       "    </tr>\n",
       "    <tr>\n",
       "      <th>0</th>\n",
       "      <td>15</td>\n",
       "      <td>7a521937c3f224121eaa8e1ba102d51e</td>\n",
       "      <td>{\"cutoff\": \"quantile_0.25\", \"eval_fairness_gro...</td>\n",
       "      <td>23.299663</td>\n",
       "      <td>89710</td>\n",
       "      <td>1.0</td>\n",
       "      <td>0.199041</td>\n",
       "      <td>0.772746</td>\n",
       "      <td>0.176428</td>\n",
       "      <td>0.800878</td>\n",
       "      <td>...</td>\n",
       "      <td>NaN</td>\n",
       "      <td>NaN</td>\n",
       "      <td>NaN</td>\n",
       "      <td>NaN</td>\n",
       "      <td>NaN</td>\n",
       "      <td>NaN</td>\n",
       "      <td>NaN</td>\n",
       "      <td>NaN</td>\n",
       "      <td>NaN</td>\n",
       "      <td>NaN</td>\n",
       "    </tr>\n",
       "    <tr>\n",
       "      <th>0</th>\n",
       "      <td>15</td>\n",
       "      <td>7a521937c3f224121eaa8e1ba102d51e</td>\n",
       "      <td>{\"cutoff\": \"quantile_0.25\", \"eval_fairness_gro...</td>\n",
       "      <td>23.299663</td>\n",
       "      <td>89710</td>\n",
       "      <td>1.0</td>\n",
       "      <td>0.199041</td>\n",
       "      <td>0.772746</td>\n",
       "      <td>0.176428</td>\n",
       "      <td>0.800878</td>\n",
       "      <td>...</td>\n",
       "      <td>0.125446</td>\n",
       "      <td>0.172239</td>\n",
       "      <td>0.875853</td>\n",
       "      <td>0.676812</td>\n",
       "      <td>0.035895</td>\n",
       "      <td>0.075055</td>\n",
       "      <td>0.886027</td>\n",
       "      <td>0.709600</td>\n",
       "      <td>20540.0</td>\n",
       "      <td>69170.0</td>\n",
       "    </tr>\n",
       "  </tbody>\n",
       "</table>\n",
       "<p>4 rows × 50 columns</p>\n",
       "</div>"
      ],
      "text/plain": [
       "  run_no                       universe_id  \\\n",
       "0     15  7a521937c3f224121eaa8e1ba102d51e   \n",
       "0     15  7a521937c3f224121eaa8e1ba102d51e   \n",
       "0     15  7a521937c3f224121eaa8e1ba102d51e   \n",
       "0     15  7a521937c3f224121eaa8e1ba102d51e   \n",
       "\n",
       "                                   universe_settings  execution_time  \\\n",
       "0  {\"cutoff\": \"quantile_0.1\", \"eval_fairness_grou...       23.299663   \n",
       "0  {\"cutoff\": \"quantile_0.1\", \"eval_fairness_grou...       23.299663   \n",
       "0  {\"cutoff\": \"quantile_0.25\", \"eval_fairness_gro...       23.299663   \n",
       "0  {\"cutoff\": \"quantile_0.25\", \"eval_fairness_gro...       23.299663   \n",
       "\n",
       "   test_size_n  test_size_frac  fair_main_equalized_odds_difference  \\\n",
       "0        89710             1.0                             0.104553   \n",
       "0        89710             1.0                             0.104553   \n",
       "0        89710             1.0                             0.199041   \n",
       "0        89710             1.0                             0.199041   \n",
       "\n",
       "   fair_main_equalized_odds_ratio  fair_main_demographic_parity_difference  \\\n",
       "0                        0.892006                                 0.092125   \n",
       "0                        0.892006                                 0.092125   \n",
       "0                        0.772746                                 0.176428   \n",
       "0                        0.772746                                 0.176428   \n",
       "\n",
       "   fair_main_demographic_parity_ratio  ...  perf_grp_precision_0  \\\n",
       "0                            0.905127  ...                   NaN   \n",
       "0                            0.905127  ...              0.117924   \n",
       "0                            0.800878  ...                   NaN   \n",
       "0                            0.800878  ...              0.125446   \n",
       "\n",
       "   perf_grp_precision_1  perf_grp_false positive rate_0  \\\n",
       "0                   NaN                             NaN   \n",
       "0              0.147268                        0.968138   \n",
       "0                   NaN                             NaN   \n",
       "0              0.172239                        0.875853   \n",
       "\n",
       "   perf_grp_false positive rate_1  perf_grp_false negative rate_0  \\\n",
       "0                             NaN                             NaN   \n",
       "0                        0.863585                        0.006757   \n",
       "0                             NaN                             NaN   \n",
       "0                        0.676812                        0.035895   \n",
       "\n",
       "   perf_grp_false negative rate_1  perf_grp_selection rate_0  \\\n",
       "0                             NaN                        NaN   \n",
       "0                        0.020460                   0.971032   \n",
       "0                             NaN                        NaN   \n",
       "0                        0.075055                   0.886027   \n",
       "\n",
       "   perf_grp_selection rate_1  perf_grp_count_0  perf_grp_count_1  \n",
       "0                        NaN               NaN               NaN  \n",
       "0                   0.878907           20540.0           69170.0  \n",
       "0                        NaN               NaN               NaN  \n",
       "0                   0.709600           20540.0           69170.0  \n",
       "\n",
       "[4 rows x 50 columns]"
      ]
     },
     "execution_count": 66,
     "metadata": {},
     "output_type": "execute_result"
    }
   ],
   "source": [
    "final_output = universe_analysis.generate_final_output(\n",
    "    y_pred_prob=probs_test,\n",
    "    y_test=y_true,\n",
    "    org_test=org_test,\n",
    "    filter_data=filter_sub_universe_data,\n",
    "    cp_metrics_df=cp_metrics_df,\n",
    "    save=True,\n",
    ")\n",
    "final_output"
   ]
  }
 ],
 "metadata": {
  "celltoolbar": "Tags",
  "kernelspec": {
   "display_name": "Python (CMA Fairness)",
   "language": "python",
   "name": "cma_fair_env"
  },
  "language_info": {
   "codemirror_mode": {
    "name": "ipython",
    "version": 3
   },
   "file_extension": ".py",
   "mimetype": "text/x-python",
   "name": "python",
   "nbconvert_exporter": "python",
   "pygments_lexer": "ipython3",
   "version": "3.10.12"
  },
  "papermill": {
   "default_parameters": {},
   "duration": 36.873414,
   "end_time": "2025-08-05T15:36:33.461877",
   "environment_variables": {},
   "exception": null,
   "input_path": "universe_analysis.ipynb",
   "output_path": "output/runs/15/notebooks/m_15-7a521937c3f224121eaa8e1ba102d51e.ipynb",
   "parameters": {
    "output_dir": "output",
    "run_no": "15",
    "seed": "2023",
    "universe": "{\"cutoff\": [\"quantile_0.1\", \"quantile_0.25\"], \"eval_fairness_grouping\": [\"majority-minority\", \"nationality-all\"], \"exclude_features\": \"age\", \"exclude_subgroups\": \"keep-all\", \"model\": \"penalized_logreg\", \"scale\": \"scale\", \"training_size\": \"5k\", \"training_year\": \"2012_14\"}",
    "universe_id": "7a521937c3f224121eaa8e1ba102d51e"
   },
   "start_time": "2025-08-05T15:35:56.588463",
   "version": "2.6.0"
  }
 },
 "nbformat": 4,
 "nbformat_minor": 5
}