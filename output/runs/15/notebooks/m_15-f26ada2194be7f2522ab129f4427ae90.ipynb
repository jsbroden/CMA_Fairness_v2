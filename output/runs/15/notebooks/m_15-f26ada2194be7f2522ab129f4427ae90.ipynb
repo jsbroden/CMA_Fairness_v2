{
 "cells": [
  {
   "cell_type": "code",
   "execution_count": 1,
   "id": "f159f837-637b-42ba-96b5-ec9a68c44524",
   "metadata": {
    "execution": {
     "iopub.execute_input": "2025-08-05T15:22:44.976536Z",
     "iopub.status.busy": "2025-08-05T15:22:44.975978Z",
     "iopub.status.idle": "2025-08-05T15:22:44.990506Z",
     "shell.execute_reply": "2025-08-05T15:22:44.989617Z"
    },
    "papermill": {
     "duration": 0.034584,
     "end_time": "2025-08-05T15:22:44.991943",
     "exception": false,
     "start_time": "2025-08-05T15:22:44.957359",
     "status": "completed"
    },
    "tags": []
   },
   "outputs": [
    {
     "name": "stdout",
     "output_type": "stream",
     "text": [
      "/dss/dsshome1/0C/ra93lal2/cma/CMA_Fairness_v2\n"
     ]
    },
    {
     "name": "stderr",
     "output_type": "stream",
     "text": [
      "/dss/dsshome1/0C/ra93lal2/.local/share/virtualenvs/CMA_Fairness_v2-3j10GkSs/lib/python3.10/site-packages/IPython/core/magics/osm.py:393: UserWarning: This is now an optional IPython functionality, using bookmarks requires you to install the `pickleshare` library.\n",
      "  bkms = self.shell.db.get('bookmarks', {})\n",
      "/dss/dsshome1/0C/ra93lal2/.local/share/virtualenvs/CMA_Fairness_v2-3j10GkSs/lib/python3.10/site-packages/IPython/core/magics/osm.py:417: UserWarning: This is now an optional IPython functionality, setting dhist requires you to install the `pickleshare` library.\n",
      "  self.shell.db['dhist'] = compress_dhist(dhist)[-100:]\n"
     ]
    }
   ],
   "source": [
    "%cd ~/cma/CMA_Fairness_v2"
   ]
  },
  {
   "cell_type": "markdown",
   "id": "de2603b9",
   "metadata": {
    "papermill": {
     "duration": 0.017308,
     "end_time": "2025-08-05T15:22:45.025495",
     "exception": false,
     "start_time": "2025-08-05T15:22:45.008187",
     "status": "completed"
    },
    "tags": []
   },
   "source": [
    "The following cell holds the definition of our parameters, these values can be overriden by rendering the with e.g. the following command:\n",
    "\n",
    "papermill -p alpha 0.2 -p ratio 0.3 universe_analysis.ipynb output/test_run.ipynb"
   ]
  },
  {
   "cell_type": "code",
   "execution_count": 2,
   "id": "a80968a0-40bb-4fa9-85ef-2d5eefb01975",
   "metadata": {
    "execution": {
     "iopub.execute_input": "2025-08-05T15:22:45.061853Z",
     "iopub.status.busy": "2025-08-05T15:22:45.061308Z",
     "iopub.status.idle": "2025-08-05T15:22:45.067317Z",
     "shell.execute_reply": "2025-08-05T15:22:45.066224Z"
    },
    "papermill": {
     "duration": 0.026193,
     "end_time": "2025-08-05T15:22:45.069094",
     "exception": false,
     "start_time": "2025-08-05T15:22:45.042901",
     "status": "completed"
    },
    "tags": []
   },
   "outputs": [
    {
     "name": "stdout",
     "output_type": "stream",
     "text": [
      "Current working directory: /dss/dsshome1/0C/ra93lal2/cma/CMA_Fairness_v2\n"
     ]
    }
   ],
   "source": [
    "import os\n",
    "print(\"Current working directory:\", os.getcwd())"
   ]
  },
  {
   "cell_type": "code",
   "execution_count": 3,
   "id": "2dce4c03",
   "metadata": {
    "execution": {
     "iopub.execute_input": "2025-08-05T15:22:45.101415Z",
     "iopub.status.busy": "2025-08-05T15:22:45.100892Z",
     "iopub.status.idle": "2025-08-05T15:22:45.106839Z",
     "shell.execute_reply": "2025-08-05T15:22:45.105700Z"
    },
    "papermill": {
     "duration": 0.023288,
     "end_time": "2025-08-05T15:22:45.108501",
     "exception": false,
     "start_time": "2025-08-05T15:22:45.085213",
     "status": "completed"
    },
    "tags": [
     "parameters"
    ]
   },
   "outputs": [],
   "source": [
    "run_no = 0\n",
    "universe_id = \"test\"\n",
    "universe = {\n",
    "    \"training_size\": \"25k\", # \"25k\", \"5k\", \"1k\"\n",
    "    \"training_year\": \"2014\", # \"2014\", \"2012_14\", \"2010_14\"\n",
    "    \"scale\": \"scale\", # \"scale\", \"do-not-scale\",\n",
    "    \"model\": \"elasticnet\", # \"logreg\", \"penalized_logreg\", \"rf\", \"gbm\", \"elasticnet\"\n",
    "    \"cutoff\": [\"quantile_0.15\", \"quantile_0.30\"],\n",
    "    \"exclude_features\": \"age\", # \"none\", \"nationality\", \"sex\", \"nationality-sex\", \"age\"\n",
    "    \"exclude_subgroups\": \"keep-all\", # \"keep-all\", \"drop-non-german\"\n",
    "    \"eval_fairness_grouping\": [\"majority-minority\", \"nationality-all\"]\n",
    "}\n",
    "\n",
    "output_dir=\"./output\"\n",
    "seed=0"
   ]
  },
  {
   "cell_type": "code",
   "execution_count": 4,
   "id": "31d1681f",
   "metadata": {
    "execution": {
     "iopub.execute_input": "2025-08-05T15:22:45.140542Z",
     "iopub.status.busy": "2025-08-05T15:22:45.140019Z",
     "iopub.status.idle": "2025-08-05T15:22:45.145098Z",
     "shell.execute_reply": "2025-08-05T15:22:45.144102Z"
    },
    "papermill": {
     "duration": 0.022745,
     "end_time": "2025-08-05T15:22:45.146819",
     "exception": false,
     "start_time": "2025-08-05T15:22:45.124074",
     "status": "completed"
    },
    "tags": [
     "injected-parameters"
    ]
   },
   "outputs": [],
   "source": [
    "# Parameters\n",
    "universe_id = \"f26ada2194be7f2522ab129f4427ae90\"\n",
    "run_no = \"15\"\n",
    "universe = \"{\\\"cutoff\\\": [\\\"quantile_0.1\\\", \\\"quantile_0.25\\\"], \\\"eval_fairness_grouping\\\": [\\\"majority-minority\\\", \\\"nationality-all\\\"], \\\"exclude_features\\\": \\\"none\\\", \\\"exclude_subgroups\\\": \\\"keep-all\\\", \\\"model\\\": \\\"rf\\\", \\\"scale\\\": \\\"scale\\\", \\\"training_size\\\": \\\"5k\\\", \\\"training_year\\\": \\\"2014\\\"}\"\n",
    "output_dir = \"output\"\n",
    "seed = \"2023\"\n"
   ]
  },
  {
   "cell_type": "code",
   "execution_count": 5,
   "id": "1650acaf",
   "metadata": {
    "execution": {
     "iopub.execute_input": "2025-08-05T15:22:45.180113Z",
     "iopub.status.busy": "2025-08-05T15:22:45.179453Z",
     "iopub.status.idle": "2025-08-05T15:22:45.184437Z",
     "shell.execute_reply": "2025-08-05T15:22:45.183506Z"
    },
    "papermill": {
     "duration": 0.022964,
     "end_time": "2025-08-05T15:22:45.186097",
     "exception": false,
     "start_time": "2025-08-05T15:22:45.163133",
     "status": "completed"
    },
    "tags": []
   },
   "outputs": [],
   "source": [
    "import json\n",
    "if isinstance(universe, str):\n",
    "    universe = json.loads(universe)"
   ]
  },
  {
   "cell_type": "code",
   "execution_count": 6,
   "id": "16620c48",
   "metadata": {
    "execution": {
     "iopub.execute_input": "2025-08-05T15:22:45.218082Z",
     "iopub.status.busy": "2025-08-05T15:22:45.217674Z",
     "iopub.status.idle": "2025-08-05T15:22:45.251063Z",
     "shell.execute_reply": "2025-08-05T15:22:45.250222Z"
    },
    "papermill": {
     "duration": 0.050642,
     "end_time": "2025-08-05T15:22:45.252362",
     "exception": false,
     "start_time": "2025-08-05T15:22:45.201720",
     "status": "completed"
    },
    "tags": []
   },
   "outputs": [],
   "source": [
    "# Auto-reload the custom package\n",
    "%load_ext autoreload\n",
    "%autoreload 1\n",
    "%aimport fairness_multiverse"
   ]
  },
  {
   "cell_type": "code",
   "execution_count": 7,
   "id": "01c5c9f3",
   "metadata": {
    "execution": {
     "iopub.execute_input": "2025-08-05T15:22:45.289966Z",
     "iopub.status.busy": "2025-08-05T15:22:45.289606Z",
     "iopub.status.idle": "2025-08-05T15:22:47.130904Z",
     "shell.execute_reply": "2025-08-05T15:22:47.129817Z"
    },
    "papermill": {
     "duration": 1.863078,
     "end_time": "2025-08-05T15:22:47.133011",
     "exception": false,
     "start_time": "2025-08-05T15:22:45.269933",
     "status": "completed"
    },
    "tags": []
   },
   "outputs": [],
   "source": [
    "from fairness_multiverse.universe import UniverseAnalysis\n",
    "\n",
    "universe_analysis = UniverseAnalysis(\n",
    "    run_no = run_no,\n",
    "    universe_id = universe_id,\n",
    "    universe = universe,\n",
    "    output_dir=output_dir,\n",
    ")"
   ]
  },
  {
   "cell_type": "code",
   "execution_count": 8,
   "id": "106241f5",
   "metadata": {
    "execution": {
     "iopub.execute_input": "2025-08-05T15:22:47.172642Z",
     "iopub.status.busy": "2025-08-05T15:22:47.172232Z",
     "iopub.status.idle": "2025-08-05T15:22:47.179264Z",
     "shell.execute_reply": "2025-08-05T15:22:47.178133Z"
    },
    "papermill": {
     "duration": 0.028102,
     "end_time": "2025-08-05T15:22:47.181353",
     "exception": false,
     "start_time": "2025-08-05T15:22:47.153251",
     "status": "completed"
    },
    "tags": []
   },
   "outputs": [
    {
     "name": "stdout",
     "output_type": "stream",
     "text": [
      "Using Seed: 2023\n"
     ]
    }
   ],
   "source": [
    "import numpy as np\n",
    "parsed_seed = int(seed)\n",
    "np.random.seed(parsed_seed)\n",
    "print(f\"Using Seed: {parsed_seed}\")"
   ]
  },
  {
   "cell_type": "markdown",
   "id": "e0ebdc57",
   "metadata": {
    "papermill": {
     "duration": 0.019138,
     "end_time": "2025-08-05T15:22:47.220557",
     "exception": false,
     "start_time": "2025-08-05T15:22:47.201419",
     "status": "completed"
    },
    "tags": []
   },
   "source": [
    "# Loading Data"
   ]
  },
  {
   "cell_type": "code",
   "execution_count": 9,
   "id": "f0496b8a",
   "metadata": {
    "execution": {
     "iopub.execute_input": "2025-08-05T15:22:47.259490Z",
     "iopub.status.busy": "2025-08-05T15:22:47.258838Z",
     "iopub.status.idle": "2025-08-05T15:23:00.204900Z",
     "shell.execute_reply": "2025-08-05T15:23:00.203581Z"
    },
    "papermill": {
     "duration": 12.967961,
     "end_time": "2025-08-05T15:23:00.206706",
     "exception": false,
     "start_time": "2025-08-05T15:22:47.238745",
     "status": "completed"
    },
    "tags": []
   },
   "outputs": [
    {
     "name": "stdout",
     "output_type": "stream",
     "text": [
      "Loading SIAB data from cache: data/siab_cached.csv.gz\n"
     ]
    },
    {
     "name": "stdout",
     "output_type": "stream",
     "text": [
      "(643690, 164)\n"
     ]
    }
   ],
   "source": [
    "from pathlib import Path\n",
    "import pandas as pd\n",
    "\n",
    "# File paths\n",
    "raw_file = Path(\"data/raw/siab.csv\")\n",
    "cache_file = Path(\"data/siab_cached.csv.gz\")\n",
    "\n",
    "# Ensure cache directory exists\n",
    "cache_file.parent.mkdir(parents=True, exist_ok=True)\n",
    "\n",
    "# Load with simple caching\n",
    "if cache_file.exists():\n",
    "    print(f\"Loading SIAB data from cache: {cache_file}\")\n",
    "    siab = pd.read_csv(cache_file, compression='gzip')\n",
    "else:\n",
    "    print(f\"Cache not found. Reading raw SIAB data: {raw_file}\")\n",
    "    siab = pd.read_csv(raw_file)\n",
    "    siab.to_csv(cache_file, index=False, compression='gzip')\n",
    "    print(f\"Cached SIAB data to: {cache_file}\")\n",
    "\n",
    "print(siab.shape)"
   ]
  },
  {
   "cell_type": "code",
   "execution_count": 10,
   "id": "db0ca512-5f53-4dba-abdb-a2888bca41ba",
   "metadata": {
    "execution": {
     "iopub.execute_input": "2025-08-05T15:23:00.247622Z",
     "iopub.status.busy": "2025-08-05T15:23:00.247015Z",
     "iopub.status.idle": "2025-08-05T15:23:00.253418Z",
     "shell.execute_reply": "2025-08-05T15:23:00.252374Z"
    },
    "papermill": {
     "duration": 0.028306,
     "end_time": "2025-08-05T15:23:00.255601",
     "exception": false,
     "start_time": "2025-08-05T15:23:00.227295",
     "status": "completed"
    },
    "tags": []
   },
   "outputs": [],
   "source": [
    "#siab"
   ]
  },
  {
   "cell_type": "markdown",
   "id": "997051c5-15bd-4b69-9786-c3001a3ce484",
   "metadata": {
    "papermill": {
     "duration": 0.010183,
     "end_time": "2025-08-05T15:23:00.278609",
     "exception": false,
     "start_time": "2025-08-05T15:23:00.268426",
     "status": "completed"
    },
    "tags": []
   },
   "source": [
    "# Splitting Data and Setting Training Data Size"
   ]
  },
  {
   "cell_type": "code",
   "execution_count": 11,
   "id": "aea9c6ef-6f46-42c8-85eb-5a62025c1508",
   "metadata": {
    "execution": {
     "iopub.execute_input": "2025-08-05T15:23:00.311423Z",
     "iopub.status.busy": "2025-08-05T15:23:00.310520Z",
     "iopub.status.idle": "2025-08-05T15:23:00.713364Z",
     "shell.execute_reply": "2025-08-05T15:23:00.712304Z"
    },
    "papermill": {
     "duration": 0.42389,
     "end_time": "2025-08-05T15:23:00.714952",
     "exception": false,
     "start_time": "2025-08-05T15:23:00.291062",
     "status": "completed"
    },
    "tags": []
   },
   "outputs": [],
   "source": [
    "from fairness_multiverse.universe import sample_by_year_size\n",
    "\n",
    "siab_train = sample_by_year_size(siab,\n",
    "                               training_year=universe[\"training_year\"],\n",
    "                               training_size=universe[\"training_size\"])"
   ]
  },
  {
   "cell_type": "code",
   "execution_count": 12,
   "id": "8d3afb32-789d-442c-8d5d-9f5aa8dd2eed",
   "metadata": {
    "execution": {
     "iopub.execute_input": "2025-08-05T15:23:00.739258Z",
     "iopub.status.busy": "2025-08-05T15:23:00.738662Z",
     "iopub.status.idle": "2025-08-05T15:23:00.744762Z",
     "shell.execute_reply": "2025-08-05T15:23:00.743977Z"
    },
    "papermill": {
     "duration": 0.018779,
     "end_time": "2025-08-05T15:23:00.746080",
     "exception": false,
     "start_time": "2025-08-05T15:23:00.727301",
     "status": "completed"
    },
    "tags": []
   },
   "outputs": [],
   "source": [
    "#siab_train.shape"
   ]
  },
  {
   "cell_type": "code",
   "execution_count": 13,
   "id": "d582db68-1a4c-47fb-84fc-08518dc1975a",
   "metadata": {
    "execution": {
     "iopub.execute_input": "2025-08-05T15:23:00.766849Z",
     "iopub.status.busy": "2025-08-05T15:23:00.766192Z",
     "iopub.status.idle": "2025-08-05T15:23:00.775532Z",
     "shell.execute_reply": "2025-08-05T15:23:00.774835Z"
    },
    "papermill": {
     "duration": 0.021528,
     "end_time": "2025-08-05T15:23:00.776995",
     "exception": false,
     "start_time": "2025-08-05T15:23:00.755467",
     "status": "completed"
    },
    "tags": []
   },
   "outputs": [],
   "source": [
    "#display(siab_train.groupby(\"year\").size())"
   ]
  },
  {
   "cell_type": "code",
   "execution_count": 14,
   "id": "a561edb4-d032-42cb-8256-22eac1111c64",
   "metadata": {
    "execution": {
     "iopub.execute_input": "2025-08-05T15:23:00.797240Z",
     "iopub.status.busy": "2025-08-05T15:23:00.796583Z",
     "iopub.status.idle": "2025-08-05T15:23:01.000538Z",
     "shell.execute_reply": "2025-08-05T15:23:00.999756Z"
    },
    "papermill": {
     "duration": 0.215169,
     "end_time": "2025-08-05T15:23:01.002084",
     "exception": false,
     "start_time": "2025-08-05T15:23:00.786915",
     "status": "completed"
    },
    "tags": []
   },
   "outputs": [],
   "source": [
    "#siab_train = siab_s[siab_s.year < 2015]\n",
    "siab_calib = siab[siab.year == 2015]\n",
    "siab_test = siab[siab.year == 2016]"
   ]
  },
  {
   "cell_type": "code",
   "execution_count": 15,
   "id": "472de16f-c3db-4916-846b-1f0de9cf1746",
   "metadata": {
    "execution": {
     "iopub.execute_input": "2025-08-05T15:23:01.021755Z",
     "iopub.status.busy": "2025-08-05T15:23:01.021394Z",
     "iopub.status.idle": "2025-08-05T15:23:01.028183Z",
     "shell.execute_reply": "2025-08-05T15:23:01.027250Z"
    },
    "papermill": {
     "duration": 0.017972,
     "end_time": "2025-08-05T15:23:01.029588",
     "exception": false,
     "start_time": "2025-08-05T15:23:01.011616",
     "status": "completed"
    },
    "tags": []
   },
   "outputs": [],
   "source": [
    "X_train = siab_train.iloc[:,4:164]\n",
    "y_train = siab_train.iloc[:, [3]]"
   ]
  },
  {
   "cell_type": "code",
   "execution_count": 16,
   "id": "828c96af-f43a-4ed6-ba47-8ac73a47d56c",
   "metadata": {
    "execution": {
     "iopub.execute_input": "2025-08-05T15:23:01.049892Z",
     "iopub.status.busy": "2025-08-05T15:23:01.049222Z",
     "iopub.status.idle": "2025-08-05T15:23:01.095915Z",
     "shell.execute_reply": "2025-08-05T15:23:01.095053Z"
    },
    "papermill": {
     "duration": 0.057976,
     "end_time": "2025-08-05T15:23:01.097435",
     "exception": false,
     "start_time": "2025-08-05T15:23:01.039459",
     "status": "completed"
    },
    "tags": []
   },
   "outputs": [],
   "source": [
    "X_calib = siab_calib.iloc[:,4:164]\n",
    "y_calib = siab_calib.iloc[:, [3]]"
   ]
  },
  {
   "cell_type": "code",
   "execution_count": 17,
   "id": "c34be9c3-6bd6-476e-acd3-845840e303be",
   "metadata": {
    "execution": {
     "iopub.execute_input": "2025-08-05T15:23:01.118072Z",
     "iopub.status.busy": "2025-08-05T15:23:01.117720Z",
     "iopub.status.idle": "2025-08-05T15:23:01.168138Z",
     "shell.execute_reply": "2025-08-05T15:23:01.167069Z"
    },
    "papermill": {
     "duration": 0.061759,
     "end_time": "2025-08-05T15:23:01.169572",
     "exception": false,
     "start_time": "2025-08-05T15:23:01.107813",
     "status": "completed"
    },
    "tags": []
   },
   "outputs": [],
   "source": [
    "X_test = siab_test.iloc[:,4:164]\n",
    "y_true = siab_test.iloc[:, [3]]"
   ]
  },
  {
   "cell_type": "code",
   "execution_count": 18,
   "id": "e6c733c5",
   "metadata": {
    "execution": {
     "iopub.execute_input": "2025-08-05T15:23:01.190571Z",
     "iopub.status.busy": "2025-08-05T15:23:01.190229Z",
     "iopub.status.idle": "2025-08-05T15:23:01.278112Z",
     "shell.execute_reply": "2025-08-05T15:23:01.277363Z"
    },
    "papermill": {
     "duration": 0.099745,
     "end_time": "2025-08-05T15:23:01.279560",
     "exception": false,
     "start_time": "2025-08-05T15:23:01.179815",
     "status": "completed"
    },
    "tags": []
   },
   "outputs": [],
   "source": [
    "# Auxiliary data needed downstream in the pipeline\n",
    "\n",
    "org_train = X_train.copy()\n",
    "org_test = X_test.copy()\n",
    "org_calib = X_calib.copy()"
   ]
  },
  {
   "cell_type": "markdown",
   "id": "0a4a1b33",
   "metadata": {
    "papermill": {
     "duration": 0.008915,
     "end_time": "2025-08-05T15:23:01.298145",
     "exception": false,
     "start_time": "2025-08-05T15:23:01.289230",
     "status": "completed"
    },
    "tags": []
   },
   "source": [
    "# Preprocessing Data"
   ]
  },
  {
   "cell_type": "code",
   "execution_count": 19,
   "id": "ca879031",
   "metadata": {
    "execution": {
     "iopub.execute_input": "2025-08-05T15:23:01.317469Z",
     "iopub.status.busy": "2025-08-05T15:23:01.317179Z",
     "iopub.status.idle": "2025-08-05T15:23:01.321968Z",
     "shell.execute_reply": "2025-08-05T15:23:01.321201Z"
    },
    "papermill": {
     "duration": 0.016313,
     "end_time": "2025-08-05T15:23:01.323449",
     "exception": false,
     "start_time": "2025-08-05T15:23:01.307136",
     "status": "completed"
    },
    "tags": []
   },
   "outputs": [],
   "source": [
    "# EXCLUDE PROTECTED FEATURES\n",
    "# ----------------------\n",
    "# \"exclude_features\": \"none\", # \"nationality\", \"sex\", \"nationality-sex\"\n",
    "\n",
    "excluded_features = universe[\"exclude_features\"].split(\"-\") # split, e.g.: \"nationality-sex\" -> [\"nationality\", \"sex\"]\n",
    "excluded_features_dictionary = {\n",
    "    \"nationality\": [\"maxdeutsch1\", \"maxdeutsch.Missing.\"],\n",
    "    \"sex\": [\"frau1\"],\n",
    "    \"age\": [\"age\"],\n",
    "}"
   ]
  },
  {
   "cell_type": "code",
   "execution_count": 20,
   "id": "b745ac60",
   "metadata": {
    "execution": {
     "iopub.execute_input": "2025-08-05T15:23:01.344034Z",
     "iopub.status.busy": "2025-08-05T15:23:01.343283Z",
     "iopub.status.idle": "2025-08-05T15:23:01.348177Z",
     "shell.execute_reply": "2025-08-05T15:23:01.347400Z"
    },
    "papermill": {
     "duration": 0.016354,
     "end_time": "2025-08-05T15:23:01.349723",
     "exception": false,
     "start_time": "2025-08-05T15:23:01.333369",
     "status": "completed"
    },
    "tags": []
   },
   "outputs": [],
   "source": [
    "# Code nice names to column names\n",
    "\n",
    "excluded_features_columns = [\n",
    "    excluded_features_dictionary[f] for f in excluded_features if len(f) > 0 and f != \"none\"\n",
    "]"
   ]
  },
  {
   "cell_type": "code",
   "execution_count": 21,
   "id": "f84f73a2",
   "metadata": {
    "execution": {
     "iopub.execute_input": "2025-08-05T15:23:01.369934Z",
     "iopub.status.busy": "2025-08-05T15:23:01.369475Z",
     "iopub.status.idle": "2025-08-05T15:23:01.375191Z",
     "shell.execute_reply": "2025-08-05T15:23:01.374347Z"
    },
    "papermill": {
     "duration": 0.01694,
     "end_time": "2025-08-05T15:23:01.376624",
     "exception": false,
     "start_time": "2025-08-05T15:23:01.359684",
     "status": "completed"
    },
    "tags": []
   },
   "outputs": [],
   "source": [
    "from utils import flatten_once\n",
    "\n",
    "excluded_features_columns = flatten_once(excluded_features_columns)"
   ]
  },
  {
   "cell_type": "code",
   "execution_count": 22,
   "id": "884dea22",
   "metadata": {
    "execution": {
     "iopub.execute_input": "2025-08-05T15:23:01.396226Z",
     "iopub.status.busy": "2025-08-05T15:23:01.395913Z",
     "iopub.status.idle": "2025-08-05T15:23:01.400578Z",
     "shell.execute_reply": "2025-08-05T15:23:01.399860Z"
    },
    "papermill": {
     "duration": 0.015975,
     "end_time": "2025-08-05T15:23:01.402110",
     "exception": false,
     "start_time": "2025-08-05T15:23:01.386135",
     "status": "completed"
    },
    "tags": []
   },
   "outputs": [],
   "source": [
    "if len(excluded_features_columns) > 0:\n",
    "    print(f\"Dropping features: {excluded_features_columns}\")\n",
    "    X_train.drop(excluded_features_columns, axis=1, inplace=True)"
   ]
  },
  {
   "cell_type": "code",
   "execution_count": 23,
   "id": "95ab8b16",
   "metadata": {
    "execution": {
     "iopub.execute_input": "2025-08-05T15:23:01.422355Z",
     "iopub.status.busy": "2025-08-05T15:23:01.421820Z",
     "iopub.status.idle": "2025-08-05T15:23:01.426504Z",
     "shell.execute_reply": "2025-08-05T15:23:01.425794Z"
    },
    "papermill": {
     "duration": 0.016068,
     "end_time": "2025-08-05T15:23:01.428015",
     "exception": false,
     "start_time": "2025-08-05T15:23:01.411947",
     "status": "completed"
    },
    "tags": []
   },
   "outputs": [],
   "source": [
    "if len(excluded_features_columns) > 0:\n",
    "    print(f\"Dropping features: {excluded_features_columns}\")\n",
    "    X_test.drop(excluded_features_columns, axis=1, inplace=True)"
   ]
  },
  {
   "cell_type": "code",
   "execution_count": 24,
   "id": "1853aaf5-fb9f-46cb-a2b5-8ea4ae2237e4",
   "metadata": {
    "execution": {
     "iopub.execute_input": "2025-08-05T15:23:01.448533Z",
     "iopub.status.busy": "2025-08-05T15:23:01.447867Z",
     "iopub.status.idle": "2025-08-05T15:23:01.452712Z",
     "shell.execute_reply": "2025-08-05T15:23:01.451999Z"
    },
    "papermill": {
     "duration": 0.016321,
     "end_time": "2025-08-05T15:23:01.454189",
     "exception": false,
     "start_time": "2025-08-05T15:23:01.437868",
     "status": "completed"
    },
    "tags": []
   },
   "outputs": [],
   "source": [
    "if len(excluded_features_columns) > 0:\n",
    "    print(f\"Dropping features: {excluded_features_columns}\")\n",
    "    X_calib.drop(excluded_features_columns, axis=1, inplace=True)"
   ]
  },
  {
   "cell_type": "code",
   "execution_count": 25,
   "id": "76c4dc6d",
   "metadata": {
    "execution": {
     "iopub.execute_input": "2025-08-05T15:23:01.475216Z",
     "iopub.status.busy": "2025-08-05T15:23:01.474400Z",
     "iopub.status.idle": "2025-08-05T15:23:01.478945Z",
     "shell.execute_reply": "2025-08-05T15:23:01.478260Z"
    },
    "papermill": {
     "duration": 0.016116,
     "end_time": "2025-08-05T15:23:01.480356",
     "exception": false,
     "start_time": "2025-08-05T15:23:01.464240",
     "status": "completed"
    },
    "tags": []
   },
   "outputs": [],
   "source": [
    "# EXCLUDE CERTAIN SUBGROUPS\n",
    "# ----------------------\n",
    "\n",
    "mode = universe.get(\"exclude_subgroups\", \"keep-all\") \n",
    "# Fetches the exclude_subgroups setting from the universe dict.\n",
    "# Defaults to \"keep-all\" if the key is missing."
   ]
  },
  {
   "cell_type": "code",
   "execution_count": 26,
   "id": "21994072",
   "metadata": {
    "execution": {
     "iopub.execute_input": "2025-08-05T15:23:01.500731Z",
     "iopub.status.busy": "2025-08-05T15:23:01.500221Z",
     "iopub.status.idle": "2025-08-05T15:23:01.506581Z",
     "shell.execute_reply": "2025-08-05T15:23:01.505663Z"
    },
    "papermill": {
     "duration": 0.017679,
     "end_time": "2025-08-05T15:23:01.507976",
     "exception": false,
     "start_time": "2025-08-05T15:23:01.490297",
     "status": "completed"
    },
    "tags": []
   },
   "outputs": [],
   "source": [
    "if mode == \"keep-all\":\n",
    "    keep_mask = pd.Series(True, index=org_train.index)\n",
    "\n",
    "# org_train contains the original feature columns from features_org (in Simson)\n",
    "# features_org contains unprocessed features, for me X_train at beginning ???\n",
    "# For keep-all, creates a boolean Series (keep_mask) of all True, so no rows are removed.\n",
    "\n",
    "elif mode == \"drop-non-german\":\n",
    "    keep_mask = org_train[\"maxdeutsch1\"] == 1 # ??? what about missing values?\n",
    "\n",
    "else:\n",
    "    raise ValueError(f\"Unsupported mode for exclude_subgroups: {mode}\")"
   ]
  },
  {
   "cell_type": "code",
   "execution_count": 27,
   "id": "71651440",
   "metadata": {
    "execution": {
     "iopub.execute_input": "2025-08-05T15:23:01.528725Z",
     "iopub.status.busy": "2025-08-05T15:23:01.528015Z",
     "iopub.status.idle": "2025-08-05T15:23:01.533298Z",
     "shell.execute_reply": "2025-08-05T15:23:01.532614Z"
    },
    "papermill": {
     "duration": 0.016723,
     "end_time": "2025-08-05T15:23:01.534782",
     "exception": false,
     "start_time": "2025-08-05T15:23:01.518059",
     "status": "completed"
    },
    "tags": []
   },
   "outputs": [],
   "source": [
    "n_drop = (~keep_mask).sum() # Calculates how many rows are set to be dropped\n",
    "if n_drop > 0:\n",
    "    pct = n_drop / len(keep_mask) * 100\n",
    "    print(f\"Dropping {n_drop} rows ({pct:.2f}%) where mode='{mode}'\")"
   ]
  },
  {
   "cell_type": "code",
   "execution_count": 28,
   "id": "5fb8eee5",
   "metadata": {
    "execution": {
     "iopub.execute_input": "2025-08-05T15:23:01.555641Z",
     "iopub.status.busy": "2025-08-05T15:23:01.555002Z",
     "iopub.status.idle": "2025-08-05T15:23:01.561671Z",
     "shell.execute_reply": "2025-08-05T15:23:01.560779Z"
    },
    "papermill": {
     "duration": 0.018136,
     "end_time": "2025-08-05T15:23:01.563045",
     "exception": false,
     "start_time": "2025-08-05T15:23:01.544909",
     "status": "completed"
    },
    "tags": []
   },
   "outputs": [],
   "source": [
    "X_train = X_train[keep_mask]"
   ]
  },
  {
   "cell_type": "code",
   "execution_count": 29,
   "id": "b202bb3a",
   "metadata": {
    "execution": {
     "iopub.execute_input": "2025-08-05T15:23:01.583953Z",
     "iopub.status.busy": "2025-08-05T15:23:01.583416Z",
     "iopub.status.idle": "2025-08-05T15:23:01.588466Z",
     "shell.execute_reply": "2025-08-05T15:23:01.587698Z"
    },
    "papermill": {
     "duration": 0.016513,
     "end_time": "2025-08-05T15:23:01.589932",
     "exception": false,
     "start_time": "2025-08-05T15:23:01.573419",
     "status": "completed"
    },
    "tags": []
   },
   "outputs": [],
   "source": [
    "y_train = y_train[keep_mask]"
   ]
  },
  {
   "cell_type": "markdown",
   "id": "493e2ac3",
   "metadata": {
    "papermill": {
     "duration": 0.017251,
     "end_time": "2025-08-05T15:23:01.621711",
     "exception": false,
     "start_time": "2025-08-05T15:23:01.604460",
     "status": "completed"
    },
    "tags": []
   },
   "source": [
    "# Model Training"
   ]
  },
  {
   "cell_type": "code",
   "execution_count": 30,
   "id": "679e1268",
   "metadata": {
    "execution": {
     "iopub.execute_input": "2025-08-05T15:23:01.654686Z",
     "iopub.status.busy": "2025-08-05T15:23:01.654170Z",
     "iopub.status.idle": "2025-08-05T15:23:01.746525Z",
     "shell.execute_reply": "2025-08-05T15:23:01.745722Z"
    },
    "papermill": {
     "duration": 0.107705,
     "end_time": "2025-08-05T15:23:01.747875",
     "exception": false,
     "start_time": "2025-08-05T15:23:01.640170",
     "status": "completed"
    },
    "tags": []
   },
   "outputs": [],
   "source": [
    "from sklearn.linear_model import LogisticRegression\n",
    "from sklearn.ensemble import GradientBoostingClassifier, RandomForestClassifier\n",
    "\n",
    "if (universe[\"model\"] == \"logreg\"):\n",
    "    model = LogisticRegression() #penalty=\"none\", solver=\"newton-cg\", max_iter=1) # include random_state=19 ?\n",
    "elif (universe[\"model\"] == \"penalized_logreg\"):\n",
    "    model = LogisticRegression(penalty=\"l2\", C=0.1) #, solver=\"newton-cg\", max_iter=1)\n",
    "elif (universe[\"model\"] == \"rf\"):\n",
    "    model = RandomForestClassifier() # n_estimators=100, n_jobs=-1\n",
    "elif (universe[\"model\"] == \"gbm\"):\n",
    "    model = GradientBoostingClassifier()\n",
    "elif (universe[\"model\"] == \"elasticnet\"):\n",
    "    model = LogisticRegression(penalty = 'elasticnet', solver = 'saga', l1_ratio = 0.5) # max_iter=5000\n",
    "else:\n",
    "    raise \"Unsupported universe.model\""
   ]
  },
  {
   "cell_type": "code",
   "execution_count": 31,
   "id": "0cc8f744",
   "metadata": {
    "execution": {
     "iopub.execute_input": "2025-08-05T15:23:01.770190Z",
     "iopub.status.busy": "2025-08-05T15:23:01.769603Z",
     "iopub.status.idle": "2025-08-05T15:23:01.774847Z",
     "shell.execute_reply": "2025-08-05T15:23:01.774072Z"
    },
    "papermill": {
     "duration": 0.017763,
     "end_time": "2025-08-05T15:23:01.776323",
     "exception": false,
     "start_time": "2025-08-05T15:23:01.758560",
     "status": "completed"
    },
    "tags": []
   },
   "outputs": [],
   "source": [
    "import numpy as np\n",
    "from sklearn.pipeline import Pipeline\n",
    "from sklearn.preprocessing import StandardScaler\n",
    "\n",
    "model = Pipeline([\n",
    "    #(\"continuous_processor\", continuous_processor),\n",
    "    #(\"categorical_preprocessor\", categorical_preprocessor),\n",
    "    (\"scale\", StandardScaler() if universe[\"scale\"] == \"scale\" else None), \n",
    "    (\"model\", model),\n",
    "])"
   ]
  },
  {
   "cell_type": "code",
   "execution_count": 32,
   "id": "9442c04d",
   "metadata": {
    "execution": {
     "iopub.execute_input": "2025-08-05T15:23:01.799041Z",
     "iopub.status.busy": "2025-08-05T15:23:01.798535Z",
     "iopub.status.idle": "2025-08-05T15:23:03.127456Z",
     "shell.execute_reply": "2025-08-05T15:23:03.126354Z"
    },
    "papermill": {
     "duration": 1.342202,
     "end_time": "2025-08-05T15:23:03.129614",
     "exception": false,
     "start_time": "2025-08-05T15:23:01.787412",
     "status": "completed"
    },
    "tags": []
   },
   "outputs": [
    {
     "data": {
      "text/html": [
       "<style>#sk-container-id-1 {color: black;background-color: white;}#sk-container-id-1 pre{padding: 0;}#sk-container-id-1 div.sk-toggleable {background-color: white;}#sk-container-id-1 label.sk-toggleable__label {cursor: pointer;display: block;width: 100%;margin-bottom: 0;padding: 0.3em;box-sizing: border-box;text-align: center;}#sk-container-id-1 label.sk-toggleable__label-arrow:before {content: \"▸\";float: left;margin-right: 0.25em;color: #696969;}#sk-container-id-1 label.sk-toggleable__label-arrow:hover:before {color: black;}#sk-container-id-1 div.sk-estimator:hover label.sk-toggleable__label-arrow:before {color: black;}#sk-container-id-1 div.sk-toggleable__content {max-height: 0;max-width: 0;overflow: hidden;text-align: left;background-color: #f0f8ff;}#sk-container-id-1 div.sk-toggleable__content pre {margin: 0.2em;color: black;border-radius: 0.25em;background-color: #f0f8ff;}#sk-container-id-1 input.sk-toggleable__control:checked~div.sk-toggleable__content {max-height: 200px;max-width: 100%;overflow: auto;}#sk-container-id-1 input.sk-toggleable__control:checked~label.sk-toggleable__label-arrow:before {content: \"▾\";}#sk-container-id-1 div.sk-estimator input.sk-toggleable__control:checked~label.sk-toggleable__label {background-color: #d4ebff;}#sk-container-id-1 div.sk-label input.sk-toggleable__control:checked~label.sk-toggleable__label {background-color: #d4ebff;}#sk-container-id-1 input.sk-hidden--visually {border: 0;clip: rect(1px 1px 1px 1px);clip: rect(1px, 1px, 1px, 1px);height: 1px;margin: -1px;overflow: hidden;padding: 0;position: absolute;width: 1px;}#sk-container-id-1 div.sk-estimator {font-family: monospace;background-color: #f0f8ff;border: 1px dotted black;border-radius: 0.25em;box-sizing: border-box;margin-bottom: 0.5em;}#sk-container-id-1 div.sk-estimator:hover {background-color: #d4ebff;}#sk-container-id-1 div.sk-parallel-item::after {content: \"\";width: 100%;border-bottom: 1px solid gray;flex-grow: 1;}#sk-container-id-1 div.sk-label:hover label.sk-toggleable__label {background-color: #d4ebff;}#sk-container-id-1 div.sk-serial::before {content: \"\";position: absolute;border-left: 1px solid gray;box-sizing: border-box;top: 0;bottom: 0;left: 50%;z-index: 0;}#sk-container-id-1 div.sk-serial {display: flex;flex-direction: column;align-items: center;background-color: white;padding-right: 0.2em;padding-left: 0.2em;position: relative;}#sk-container-id-1 div.sk-item {position: relative;z-index: 1;}#sk-container-id-1 div.sk-parallel {display: flex;align-items: stretch;justify-content: center;background-color: white;position: relative;}#sk-container-id-1 div.sk-item::before, #sk-container-id-1 div.sk-parallel-item::before {content: \"\";position: absolute;border-left: 1px solid gray;box-sizing: border-box;top: 0;bottom: 0;left: 50%;z-index: -1;}#sk-container-id-1 div.sk-parallel-item {display: flex;flex-direction: column;z-index: 1;position: relative;background-color: white;}#sk-container-id-1 div.sk-parallel-item:first-child::after {align-self: flex-end;width: 50%;}#sk-container-id-1 div.sk-parallel-item:last-child::after {align-self: flex-start;width: 50%;}#sk-container-id-1 div.sk-parallel-item:only-child::after {width: 0;}#sk-container-id-1 div.sk-dashed-wrapped {border: 1px dashed gray;margin: 0 0.4em 0.5em 0.4em;box-sizing: border-box;padding-bottom: 0.4em;background-color: white;}#sk-container-id-1 div.sk-label label {font-family: monospace;font-weight: bold;display: inline-block;line-height: 1.2em;}#sk-container-id-1 div.sk-label-container {text-align: center;}#sk-container-id-1 div.sk-container {/* jupyter's `normalize.less` sets `[hidden] { display: none; }` but bootstrap.min.css set `[hidden] { display: none !important; }` so we also need the `!important` here to be able to override the default hidden behavior on the sphinx rendered scikit-learn.org. See: https://github.com/scikit-learn/scikit-learn/issues/21755 */display: inline-block !important;position: relative;}#sk-container-id-1 div.sk-text-repr-fallback {display: none;}</style><div id=\"sk-container-id-1\" class=\"sk-top-container\"><div class=\"sk-text-repr-fallback\"><pre>Pipeline(steps=[(&#x27;scale&#x27;, StandardScaler()),\n",
       "                (&#x27;model&#x27;, RandomForestClassifier())])</pre><b>In a Jupyter environment, please rerun this cell to show the HTML representation or trust the notebook. <br />On GitHub, the HTML representation is unable to render, please try loading this page with nbviewer.org.</b></div><div class=\"sk-container\" hidden><div class=\"sk-item sk-dashed-wrapped\"><div class=\"sk-label-container\"><div class=\"sk-label sk-toggleable\"><input class=\"sk-toggleable__control sk-hidden--visually\" id=\"sk-estimator-id-1\" type=\"checkbox\" ><label for=\"sk-estimator-id-1\" class=\"sk-toggleable__label sk-toggleable__label-arrow\">Pipeline</label><div class=\"sk-toggleable__content\"><pre>Pipeline(steps=[(&#x27;scale&#x27;, StandardScaler()),\n",
       "                (&#x27;model&#x27;, RandomForestClassifier())])</pre></div></div></div><div class=\"sk-serial\"><div class=\"sk-item\"><div class=\"sk-estimator sk-toggleable\"><input class=\"sk-toggleable__control sk-hidden--visually\" id=\"sk-estimator-id-2\" type=\"checkbox\" ><label for=\"sk-estimator-id-2\" class=\"sk-toggleable__label sk-toggleable__label-arrow\">StandardScaler</label><div class=\"sk-toggleable__content\"><pre>StandardScaler()</pre></div></div></div><div class=\"sk-item\"><div class=\"sk-estimator sk-toggleable\"><input class=\"sk-toggleable__control sk-hidden--visually\" id=\"sk-estimator-id-3\" type=\"checkbox\" ><label for=\"sk-estimator-id-3\" class=\"sk-toggleable__label sk-toggleable__label-arrow\">RandomForestClassifier</label><div class=\"sk-toggleable__content\"><pre>RandomForestClassifier()</pre></div></div></div></div></div></div></div>"
      ],
      "text/plain": [
       "Pipeline(steps=[('scale', StandardScaler()),\n",
       "                ('model', RandomForestClassifier())])"
      ]
     },
     "execution_count": 32,
     "metadata": {},
     "output_type": "execute_result"
    }
   ],
   "source": [
    "model.fit(X_train, y_train.values.ravel())"
   ]
  },
  {
   "cell_type": "code",
   "execution_count": 33,
   "id": "af59f8c0",
   "metadata": {
    "execution": {
     "iopub.execute_input": "2025-08-05T15:23:03.189267Z",
     "iopub.status.busy": "2025-08-05T15:23:03.188856Z",
     "iopub.status.idle": "2025-08-05T15:23:03.195220Z",
     "shell.execute_reply": "2025-08-05T15:23:03.193883Z"
    },
    "papermill": {
     "duration": 0.038245,
     "end_time": "2025-08-05T15:23:03.197267",
     "exception": false,
     "start_time": "2025-08-05T15:23:03.159022",
     "status": "completed"
    },
    "tags": []
   },
   "outputs": [],
   "source": [
    "from fairness_multiverse.universe import predict_w_threshold"
   ]
  },
  {
   "cell_type": "code",
   "execution_count": 34,
   "id": "a7cf2e16",
   "metadata": {
    "execution": {
     "iopub.execute_input": "2025-08-05T15:23:03.253876Z",
     "iopub.status.busy": "2025-08-05T15:23:03.253303Z",
     "iopub.status.idle": "2025-08-05T15:23:05.882979Z",
     "shell.execute_reply": "2025-08-05T15:23:05.881479Z"
    },
    "papermill": {
     "duration": 2.659557,
     "end_time": "2025-08-05T15:23:05.884599",
     "exception": false,
     "start_time": "2025-08-05T15:23:03.225042",
     "status": "completed"
    },
    "tags": []
   },
   "outputs": [
    {
     "data": {
      "text/plain": [
       "0.8644186824211347"
      ]
     },
     "execution_count": 34,
     "metadata": {},
     "output_type": "execute_result"
    }
   ],
   "source": [
    "probs_test = model.predict_proba(X_test)\n",
    "\n",
    "'''\n",
    "Below code returns a boolean array (or binary 0/1 array depending on how it’s used) where each element \n",
    "is True if the probability of class 1 is greater than or equal to the threshold, and False otherwise.\n",
    "'''\n",
    "y_pred_default = predict_w_threshold(probs_test, 0.5)\n",
    "\n",
    "from sklearn.metrics import accuracy_score\n",
    "\n",
    "# Naive prediction\n",
    "accuracy_score(y_true = y_true, y_pred = y_pred_default)"
   ]
  },
  {
   "cell_type": "code",
   "execution_count": 35,
   "id": "081964c3",
   "metadata": {
    "execution": {
     "iopub.execute_input": "2025-08-05T15:23:05.925699Z",
     "iopub.status.busy": "2025-08-05T15:23:05.924956Z",
     "iopub.status.idle": "2025-08-05T15:23:08.130101Z",
     "shell.execute_reply": "2025-08-05T15:23:08.129395Z"
    },
    "papermill": {
     "duration": 2.2273,
     "end_time": "2025-08-05T15:23:08.131328",
     "exception": false,
     "start_time": "2025-08-05T15:23:05.904028",
     "status": "completed"
    },
    "tags": []
   },
   "outputs": [
    {
     "data": {
      "text/plain": [
       "array([0, 0, 0, ..., 0, 0, 0])"
      ]
     },
     "execution_count": 35,
     "metadata": {},
     "output_type": "execute_result"
    }
   ],
   "source": [
    "model.predict(X_test)"
   ]
  },
  {
   "cell_type": "markdown",
   "id": "56c9705b",
   "metadata": {
    "papermill": {
     "duration": 0.009662,
     "end_time": "2025-08-05T15:23:08.151444",
     "exception": false,
     "start_time": "2025-08-05T15:23:08.141782",
     "status": "completed"
    },
    "tags": []
   },
   "source": [
    "# Conformal Prediction"
   ]
  },
  {
   "cell_type": "code",
   "execution_count": 36,
   "id": "160ec6ff",
   "metadata": {
    "execution": {
     "iopub.execute_input": "2025-08-05T15:23:08.172396Z",
     "iopub.status.busy": "2025-08-05T15:23:08.171899Z",
     "iopub.status.idle": "2025-08-05T15:23:08.176414Z",
     "shell.execute_reply": "2025-08-05T15:23:08.175713Z"
    },
    "papermill": {
     "duration": 0.016697,
     "end_time": "2025-08-05T15:23:08.177857",
     "exception": false,
     "start_time": "2025-08-05T15:23:08.161160",
     "status": "completed"
    },
    "tags": []
   },
   "outputs": [],
   "source": [
    "# Miscoverage level for conformal prediction (10% allowed error rate => 90% target coverage)\n",
    "alpha = 0.1"
   ]
  },
  {
   "cell_type": "code",
   "execution_count": 37,
   "id": "eadf4555-3dd3-440e-8e35-f82a4ad9f855",
   "metadata": {
    "execution": {
     "iopub.execute_input": "2025-08-05T15:23:08.199843Z",
     "iopub.status.busy": "2025-08-05T15:23:08.199215Z",
     "iopub.status.idle": "2025-08-05T15:23:10.440253Z",
     "shell.execute_reply": "2025-08-05T15:23:10.439264Z"
    },
    "papermill": {
     "duration": 2.253905,
     "end_time": "2025-08-05T15:23:10.442384",
     "exception": false,
     "start_time": "2025-08-05T15:23:08.188479",
     "status": "completed"
    },
    "tags": []
   },
   "outputs": [],
   "source": [
    "probs_calib = model.predict_proba(X_calib)"
   ]
  },
  {
   "cell_type": "code",
   "execution_count": 38,
   "id": "2ed93547-6d5d-4983-9b36-1ecb300da49a",
   "metadata": {
    "execution": {
     "iopub.execute_input": "2025-08-05T15:23:10.489747Z",
     "iopub.status.busy": "2025-08-05T15:23:10.489042Z",
     "iopub.status.idle": "2025-08-05T15:23:10.495097Z",
     "shell.execute_reply": "2025-08-05T15:23:10.494180Z"
    },
    "papermill": {
     "duration": 0.030362,
     "end_time": "2025-08-05T15:23:10.497556",
     "exception": false,
     "start_time": "2025-08-05T15:23:10.467194",
     "status": "completed"
    },
    "tags": []
   },
   "outputs": [],
   "source": [
    "y_calib = y_calib.values.ravel().astype(int)"
   ]
  },
  {
   "cell_type": "code",
   "execution_count": 39,
   "id": "65d1320d-f588-4b38-9072-62af1ae97f7d",
   "metadata": {
    "execution": {
     "iopub.execute_input": "2025-08-05T15:23:10.543335Z",
     "iopub.status.busy": "2025-08-05T15:23:10.542672Z",
     "iopub.status.idle": "2025-08-05T15:23:10.551835Z",
     "shell.execute_reply": "2025-08-05T15:23:10.550767Z"
    },
    "papermill": {
     "duration": 0.033326,
     "end_time": "2025-08-05T15:23:10.553740",
     "exception": false,
     "start_time": "2025-08-05T15:23:10.520414",
     "status": "completed"
    },
    "tags": []
   },
   "outputs": [],
   "source": [
    "from fairness_multiverse.conformal import compute_nc_scores\n",
    "\n",
    "# Compute nonconformity scores on calibration set (1 - probability of true class)\n",
    "nc_scores = compute_nc_scores(probs_calib, y_calib)"
   ]
  },
  {
   "cell_type": "code",
   "execution_count": 40,
   "id": "df3b8ca3-53b7-43d5-9667-7c85da7aeda2",
   "metadata": {
    "execution": {
     "iopub.execute_input": "2025-08-05T15:23:10.599520Z",
     "iopub.status.busy": "2025-08-05T15:23:10.598865Z",
     "iopub.status.idle": "2025-08-05T15:23:10.606066Z",
     "shell.execute_reply": "2025-08-05T15:23:10.604914Z"
    },
    "papermill": {
     "duration": 0.0304,
     "end_time": "2025-08-05T15:23:10.607857",
     "exception": false,
     "start_time": "2025-08-05T15:23:10.577457",
     "status": "completed"
    },
    "tags": []
   },
   "outputs": [],
   "source": [
    "from fairness_multiverse.conformal import find_threshold\n",
    "\n",
    "# Find conformal threshold q_hat for the given alpha (split conformal method)\n",
    "q_hat = find_threshold(nc_scores, alpha)"
   ]
  },
  {
   "cell_type": "code",
   "execution_count": 41,
   "id": "4d29e6c1-0ef6-4aa4-b8fe-4fe79b0d033a",
   "metadata": {
    "execution": {
     "iopub.execute_input": "2025-08-05T15:23:10.651357Z",
     "iopub.status.busy": "2025-08-05T15:23:10.650689Z",
     "iopub.status.idle": "2025-08-05T15:23:10.658302Z",
     "shell.execute_reply": "2025-08-05T15:23:10.657294Z"
    },
    "papermill": {
     "duration": 0.030885,
     "end_time": "2025-08-05T15:23:10.660064",
     "exception": false,
     "start_time": "2025-08-05T15:23:10.629179",
     "status": "completed"
    },
    "tags": []
   },
   "outputs": [
    {
     "data": {
      "text/plain": [
       "0.6599999999999999"
      ]
     },
     "execution_count": 41,
     "metadata": {},
     "output_type": "execute_result"
    }
   ],
   "source": [
    "q_hat"
   ]
  },
  {
   "cell_type": "code",
   "execution_count": 42,
   "id": "92460794-cdac-4be2-ba28-f28c0515a6fb",
   "metadata": {
    "execution": {
     "iopub.execute_input": "2025-08-05T15:23:10.707455Z",
     "iopub.status.busy": "2025-08-05T15:23:10.706809Z",
     "iopub.status.idle": "2025-08-05T15:23:13.959218Z",
     "shell.execute_reply": "2025-08-05T15:23:13.958390Z"
    },
    "papermill": {
     "duration": 3.278368,
     "end_time": "2025-08-05T15:23:13.960591",
     "exception": false,
     "start_time": "2025-08-05T15:23:10.682223",
     "status": "completed"
    },
    "tags": []
   },
   "outputs": [],
   "source": [
    "from fairness_multiverse.conformal import predict_conformal_sets\n",
    "\n",
    "# Generate prediction sets for each test example\n",
    "pred_sets = predict_conformal_sets(model, X_test, q_hat)"
   ]
  },
  {
   "cell_type": "code",
   "execution_count": 43,
   "id": "d90c9a65-e6db-4f5d-80cd-e68fb7e46829",
   "metadata": {
    "execution": {
     "iopub.execute_input": "2025-08-05T15:23:13.983818Z",
     "iopub.status.busy": "2025-08-05T15:23:13.983388Z",
     "iopub.status.idle": "2025-08-05T15:23:13.989245Z",
     "shell.execute_reply": "2025-08-05T15:23:13.988117Z"
    },
    "papermill": {
     "duration": 0.019139,
     "end_time": "2025-08-05T15:23:13.991289",
     "exception": false,
     "start_time": "2025-08-05T15:23:13.972150",
     "status": "completed"
    },
    "tags": []
   },
   "outputs": [],
   "source": [
    "y_true = y_true.squeeze()"
   ]
  },
  {
   "cell_type": "code",
   "execution_count": 44,
   "id": "3a58a54a-1e68-46b9-927a-df01f18aebc8",
   "metadata": {
    "execution": {
     "iopub.execute_input": "2025-08-05T15:23:14.037426Z",
     "iopub.status.busy": "2025-08-05T15:23:14.036739Z",
     "iopub.status.idle": "2025-08-05T15:23:14.879720Z",
     "shell.execute_reply": "2025-08-05T15:23:14.878793Z"
    },
    "papermill": {
     "duration": 0.868431,
     "end_time": "2025-08-05T15:23:14.881525",
     "exception": false,
     "start_time": "2025-08-05T15:23:14.013094",
     "status": "completed"
    },
    "tags": []
   },
   "outputs": [],
   "source": [
    "from fairness_multiverse.conformal import evaluate_sets\n",
    "\n",
    "# Evaluate coverage and average set size on test data\n",
    "metrics = evaluate_sets(pred_sets, y_true)"
   ]
  },
  {
   "cell_type": "markdown",
   "id": "2b569c12-9aaa-4c88-98c9-bbcd0cf3ebb8",
   "metadata": {
    "papermill": {
     "duration": 0.018652,
     "end_time": "2025-08-05T15:23:14.920853",
     "exception": false,
     "start_time": "2025-08-05T15:23:14.902201",
     "status": "completed"
    },
    "tags": []
   },
   "source": [
    "# CP Metrics"
   ]
  },
  {
   "cell_type": "code",
   "execution_count": 45,
   "id": "5ce0a5cb-201f-45a0-ade5-94c7f0bd6095",
   "metadata": {
    "execution": {
     "iopub.execute_input": "2025-08-05T15:23:14.962753Z",
     "iopub.status.busy": "2025-08-05T15:23:14.961740Z",
     "iopub.status.idle": "2025-08-05T15:23:14.969751Z",
     "shell.execute_reply": "2025-08-05T15:23:14.968724Z"
    },
    "papermill": {
     "duration": 0.031081,
     "end_time": "2025-08-05T15:23:14.971330",
     "exception": false,
     "start_time": "2025-08-05T15:23:14.940249",
     "status": "completed"
    },
    "tags": []
   },
   "outputs": [
    {
     "data": {
      "text/plain": [
       "{'coverage': 0.9122171441310891, 'avg_size': 1.1384572511425706}"
      ]
     },
     "execution_count": 45,
     "metadata": {},
     "output_type": "execute_result"
    }
   ],
   "source": [
    "metrics"
   ]
  },
  {
   "cell_type": "code",
   "execution_count": 46,
   "id": "9b9a838d-31c9-430b-ae14-12baee460d17",
   "metadata": {
    "execution": {
     "iopub.execute_input": "2025-08-05T15:23:15.014991Z",
     "iopub.status.busy": "2025-08-05T15:23:15.014538Z",
     "iopub.status.idle": "2025-08-05T15:23:15.021316Z",
     "shell.execute_reply": "2025-08-05T15:23:15.020375Z"
    },
    "papermill": {
     "duration": 0.031178,
     "end_time": "2025-08-05T15:23:15.023065",
     "exception": false,
     "start_time": "2025-08-05T15:23:14.991887",
     "status": "completed"
    },
    "tags": []
   },
   "outputs": [],
   "source": [
    "example_universe = universe.copy()\n",
    "universe_training_year = example_universe.get(\"training_year\")\n",
    "universe_training_size = example_universe.get(\"training_size\")\n",
    "universe_scale = example_universe.get(\"scale\")\n",
    "universe_model = example_universe.get(\"model\")\n",
    "universe_exclude_features = example_universe.get(\"exclude_features\")\n",
    "universe_exclude_subgroups = example_universe.get(\"exclude_subgroups\")"
   ]
  },
  {
   "cell_type": "code",
   "execution_count": 47,
   "id": "f4b6a8ac-9dc0-4245-8a91-5b3b5999c4f9",
   "metadata": {
    "execution": {
     "iopub.execute_input": "2025-08-05T15:23:15.067126Z",
     "iopub.status.busy": "2025-08-05T15:23:15.066530Z",
     "iopub.status.idle": "2025-08-05T15:23:15.072572Z",
     "shell.execute_reply": "2025-08-05T15:23:15.071581Z"
    },
    "papermill": {
     "duration": 0.030882,
     "end_time": "2025-08-05T15:23:15.074376",
     "exception": false,
     "start_time": "2025-08-05T15:23:15.043494",
     "status": "completed"
    },
    "tags": []
   },
   "outputs": [],
   "source": [
    "cp_metrics_dict = {\n",
    "    \"universe_id\": [universe_id],\n",
    "    \"universe_training_year\": [universe_training_year],\n",
    "    \"universe_training_size\": [universe_training_size],\n",
    "    \"universe_scale\": [universe_scale],\n",
    "    \"universe_model\": [universe_model],\n",
    "    \"universe_exclude_features\": [universe_exclude_features],\n",
    "    \"universe_exclude_subgroups\": [universe_exclude_subgroups],\n",
    "    \"q_hat\": [q_hat],\n",
    "    \"coverage\": [metrics[\"coverage\"]],\n",
    "    \"avg_size\": [metrics[\"avg_size\"]],\n",
    "}"
   ]
  },
  {
   "cell_type": "code",
   "execution_count": 48,
   "id": "908acbb1-0371-4915-85ca-3fa520d2efe2",
   "metadata": {
    "execution": {
     "iopub.execute_input": "2025-08-05T15:23:15.116848Z",
     "iopub.status.busy": "2025-08-05T15:23:15.116060Z",
     "iopub.status.idle": "2025-08-05T15:23:15.123249Z",
     "shell.execute_reply": "2025-08-05T15:23:15.122252Z"
    },
    "papermill": {
     "duration": 0.030158,
     "end_time": "2025-08-05T15:23:15.124999",
     "exception": false,
     "start_time": "2025-08-05T15:23:15.094841",
     "status": "completed"
    },
    "tags": []
   },
   "outputs": [
    {
     "data": {
      "text/plain": [
       "{'universe_id': ['f26ada2194be7f2522ab129f4427ae90'],\n",
       " 'universe_training_year': ['2014'],\n",
       " 'universe_training_size': ['5k'],\n",
       " 'universe_scale': ['scale'],\n",
       " 'universe_model': ['rf'],\n",
       " 'universe_exclude_features': ['none'],\n",
       " 'universe_exclude_subgroups': ['keep-all'],\n",
       " 'q_hat': [0.6599999999999999],\n",
       " 'coverage': [0.9122171441310891],\n",
       " 'avg_size': [1.1384572511425706]}"
      ]
     },
     "execution_count": 48,
     "metadata": {},
     "output_type": "execute_result"
    }
   ],
   "source": [
    "cp_metrics_dict"
   ]
  },
  {
   "cell_type": "code",
   "execution_count": 49,
   "id": "33007efc-14e9-4ec6-97ac-56a455c82265",
   "metadata": {
    "execution": {
     "iopub.execute_input": "2025-08-05T15:23:15.168766Z",
     "iopub.status.busy": "2025-08-05T15:23:15.167965Z",
     "iopub.status.idle": "2025-08-05T15:23:15.175032Z",
     "shell.execute_reply": "2025-08-05T15:23:15.173921Z"
    },
    "papermill": {
     "duration": 0.030701,
     "end_time": "2025-08-05T15:23:15.176667",
     "exception": false,
     "start_time": "2025-08-05T15:23:15.145966",
     "status": "completed"
    },
    "tags": []
   },
   "outputs": [],
   "source": [
    "cp_metrics_df = pd.DataFrame(cp_metrics_dict)"
   ]
  },
  {
   "cell_type": "code",
   "execution_count": 50,
   "id": "db12611b-57b2-4910-b9d0-355adfd6e7bf",
   "metadata": {
    "execution": {
     "iopub.execute_input": "2025-08-05T15:23:15.219067Z",
     "iopub.status.busy": "2025-08-05T15:23:15.218220Z",
     "iopub.status.idle": "2025-08-05T15:23:15.236186Z",
     "shell.execute_reply": "2025-08-05T15:23:15.235171Z"
    },
    "papermill": {
     "duration": 0.040051,
     "end_time": "2025-08-05T15:23:15.237900",
     "exception": false,
     "start_time": "2025-08-05T15:23:15.197849",
     "status": "completed"
    },
    "tags": []
   },
   "outputs": [
    {
     "data": {
      "text/html": [
       "<div>\n",
       "<style scoped>\n",
       "    .dataframe tbody tr th:only-of-type {\n",
       "        vertical-align: middle;\n",
       "    }\n",
       "\n",
       "    .dataframe tbody tr th {\n",
       "        vertical-align: top;\n",
       "    }\n",
       "\n",
       "    .dataframe thead th {\n",
       "        text-align: right;\n",
       "    }\n",
       "</style>\n",
       "<table border=\"1\" class=\"dataframe\">\n",
       "  <thead>\n",
       "    <tr style=\"text-align: right;\">\n",
       "      <th></th>\n",
       "      <th>universe_id</th>\n",
       "      <th>universe_training_year</th>\n",
       "      <th>universe_training_size</th>\n",
       "      <th>universe_scale</th>\n",
       "      <th>universe_model</th>\n",
       "      <th>universe_exclude_features</th>\n",
       "      <th>universe_exclude_subgroups</th>\n",
       "      <th>q_hat</th>\n",
       "      <th>coverage</th>\n",
       "      <th>avg_size</th>\n",
       "    </tr>\n",
       "  </thead>\n",
       "  <tbody>\n",
       "    <tr>\n",
       "      <th>0</th>\n",
       "      <td>f26ada2194be7f2522ab129f4427ae90</td>\n",
       "      <td>2014</td>\n",
       "      <td>5k</td>\n",
       "      <td>scale</td>\n",
       "      <td>rf</td>\n",
       "      <td>none</td>\n",
       "      <td>keep-all</td>\n",
       "      <td>0.66</td>\n",
       "      <td>0.912217</td>\n",
       "      <td>1.138457</td>\n",
       "    </tr>\n",
       "  </tbody>\n",
       "</table>\n",
       "</div>"
      ],
      "text/plain": [
       "                        universe_id universe_training_year  \\\n",
       "0  f26ada2194be7f2522ab129f4427ae90                   2014   \n",
       "\n",
       "  universe_training_size universe_scale universe_model  \\\n",
       "0                     5k          scale             rf   \n",
       "\n",
       "  universe_exclude_features universe_exclude_subgroups  q_hat  coverage  \\\n",
       "0                      none                   keep-all   0.66  0.912217   \n",
       "\n",
       "   avg_size  \n",
       "0  1.138457  "
      ]
     },
     "execution_count": 50,
     "metadata": {},
     "output_type": "execute_result"
    }
   ],
   "source": [
    "cp_metrics_df"
   ]
  },
  {
   "cell_type": "code",
   "execution_count": 51,
   "id": "b7fbde55-a0a1-47e4-9af6-fe4a17fa8c61",
   "metadata": {
    "execution": {
     "iopub.execute_input": "2025-08-05T15:23:15.288761Z",
     "iopub.status.busy": "2025-08-05T15:23:15.288058Z",
     "iopub.status.idle": "2025-08-05T15:23:15.293715Z",
     "shell.execute_reply": "2025-08-05T15:23:15.292776Z"
    },
    "papermill": {
     "duration": 0.032421,
     "end_time": "2025-08-05T15:23:15.295403",
     "exception": false,
     "start_time": "2025-08-05T15:23:15.262982",
     "status": "completed"
    },
    "tags": []
   },
   "outputs": [],
   "source": [
    "# Conditional Coverage & looking at subgroups"
   ]
  },
  {
   "cell_type": "code",
   "execution_count": 52,
   "id": "027ae886-68dd-4141-96c7-805a5450e1ef",
   "metadata": {
    "execution": {
     "iopub.execute_input": "2025-08-05T15:23:15.337597Z",
     "iopub.status.busy": "2025-08-05T15:23:15.336804Z",
     "iopub.status.idle": "2025-08-05T15:23:15.588927Z",
     "shell.execute_reply": "2025-08-05T15:23:15.587867Z"
    },
    "papermill": {
     "duration": 0.275696,
     "end_time": "2025-08-05T15:23:15.590795",
     "exception": false,
     "start_time": "2025-08-05T15:23:15.315099",
     "status": "completed"
    },
    "tags": []
   },
   "outputs": [],
   "source": [
    "from fairness_multiverse.conformal import build_cp_groups\n",
    "\n",
    "cp_groups_df = build_cp_groups(pred_sets, y_true, X_test.index, org_test)\n",
    "#needs universe_id and setting"
   ]
  },
  {
   "cell_type": "code",
   "execution_count": 53,
   "id": "6cbdab96-b2b2-45af-ad54-d0516db2e28d",
   "metadata": {
    "execution": {
     "iopub.execute_input": "2025-08-05T15:23:15.635061Z",
     "iopub.status.busy": "2025-08-05T15:23:15.634734Z",
     "iopub.status.idle": "2025-08-05T15:23:17.183772Z",
     "shell.execute_reply": "2025-08-05T15:23:17.182840Z"
    },
    "papermill": {
     "duration": 1.57359,
     "end_time": "2025-08-05T15:23:17.185698",
     "exception": false,
     "start_time": "2025-08-05T15:23:15.612108",
     "status": "completed"
    },
    "tags": []
   },
   "outputs": [],
   "source": [
    "# Define covered = 1 if true_label is in the predicted set\n",
    "cp_groups_df['covered'] = cp_groups_df.apply(\n",
    "    lambda r: int(r['true_label'] in r['pred_set']),\n",
    "    axis=1\n",
    ")"
   ]
  },
  {
   "cell_type": "code",
   "execution_count": 54,
   "id": "338ff529-1a6b-4b87-a931-8e4788d52aad",
   "metadata": {
    "execution": {
     "iopub.execute_input": "2025-08-05T15:23:17.229404Z",
     "iopub.status.busy": "2025-08-05T15:23:17.228959Z",
     "iopub.status.idle": "2025-08-05T15:23:17.233934Z",
     "shell.execute_reply": "2025-08-05T15:23:17.232905Z"
    },
    "papermill": {
     "duration": 0.027943,
     "end_time": "2025-08-05T15:23:17.235678",
     "exception": false,
     "start_time": "2025-08-05T15:23:17.207735",
     "status": "completed"
    },
    "tags": []
   },
   "outputs": [],
   "source": [
    "#cp_groups_df"
   ]
  },
  {
   "cell_type": "code",
   "execution_count": 55,
   "id": "90032e27-66df-4540-9169-4e89cfbaa758",
   "metadata": {
    "execution": {
     "iopub.execute_input": "2025-08-05T15:23:17.280302Z",
     "iopub.status.busy": "2025-08-05T15:23:17.279665Z",
     "iopub.status.idle": "2025-08-05T15:23:17.291255Z",
     "shell.execute_reply": "2025-08-05T15:23:17.290343Z"
    },
    "papermill": {
     "duration": 0.035381,
     "end_time": "2025-08-05T15:23:17.293053",
     "exception": false,
     "start_time": "2025-08-05T15:23:17.257672",
     "status": "completed"
    },
    "tags": []
   },
   "outputs": [],
   "source": [
    "subgroups = ['frau1','nongerman','nongerman_male','nongerman_female']\n",
    "\n",
    "# Conditional coverage for subgroup==1\n",
    "cond_coverage = {\n",
    "    g: cp_groups_df.loc[cp_groups_df[g]==1, 'covered'].mean()\n",
    "    for g in subgroups\n",
    "}"
   ]
  },
  {
   "cell_type": "code",
   "execution_count": 56,
   "id": "1e348fb1-b9c3-45bc-ba23-f016827a7e0d",
   "metadata": {
    "execution": {
     "iopub.execute_input": "2025-08-05T15:23:17.338275Z",
     "iopub.status.busy": "2025-08-05T15:23:17.337625Z",
     "iopub.status.idle": "2025-08-05T15:23:17.344641Z",
     "shell.execute_reply": "2025-08-05T15:23:17.343756Z"
    },
    "papermill": {
     "duration": 0.030771,
     "end_time": "2025-08-05T15:23:17.346124",
     "exception": false,
     "start_time": "2025-08-05T15:23:17.315353",
     "status": "completed"
    },
    "tags": []
   },
   "outputs": [
    {
     "data": {
      "text/plain": [
       "{'frau1': 0.9111470548591455,\n",
       " 'nongerman': 0.9059114130129681,\n",
       " 'nongerman_male': 0.9209222732594794,\n",
       " 'nongerman_female': 0.8810730253353204}"
      ]
     },
     "execution_count": 56,
     "metadata": {},
     "output_type": "execute_result"
    }
   ],
   "source": [
    "cond_coverage"
   ]
  },
  {
   "cell_type": "code",
   "execution_count": 57,
   "id": "f5093324-c3dd-4d63-bc4c-8d945e5c8bbb",
   "metadata": {
    "execution": {
     "iopub.execute_input": "2025-08-05T15:23:17.390883Z",
     "iopub.status.busy": "2025-08-05T15:23:17.390216Z",
     "iopub.status.idle": "2025-08-05T15:23:17.397808Z",
     "shell.execute_reply": "2025-08-05T15:23:17.396911Z"
    },
    "papermill": {
     "duration": 0.031999,
     "end_time": "2025-08-05T15:23:17.399492",
     "exception": false,
     "start_time": "2025-08-05T15:23:17.367493",
     "status": "completed"
    },
    "tags": []
   },
   "outputs": [],
   "source": [
    "for subgroup, cov in cond_coverage.items():\n",
    "    cp_metrics_df[f\"cov_{subgroup}\"] = cov"
   ]
  },
  {
   "cell_type": "code",
   "execution_count": 58,
   "id": "6e872e10-dbe5-49e8-b554-5030c98ff75d",
   "metadata": {
    "execution": {
     "iopub.execute_input": "2025-08-05T15:23:17.444063Z",
     "iopub.status.busy": "2025-08-05T15:23:17.443421Z",
     "iopub.status.idle": "2025-08-05T15:23:17.462444Z",
     "shell.execute_reply": "2025-08-05T15:23:17.461193Z"
    },
    "papermill": {
     "duration": 0.043251,
     "end_time": "2025-08-05T15:23:17.464047",
     "exception": false,
     "start_time": "2025-08-05T15:23:17.420796",
     "status": "completed"
    },
    "tags": []
   },
   "outputs": [
    {
     "data": {
      "text/html": [
       "<div>\n",
       "<style scoped>\n",
       "    .dataframe tbody tr th:only-of-type {\n",
       "        vertical-align: middle;\n",
       "    }\n",
       "\n",
       "    .dataframe tbody tr th {\n",
       "        vertical-align: top;\n",
       "    }\n",
       "\n",
       "    .dataframe thead th {\n",
       "        text-align: right;\n",
       "    }\n",
       "</style>\n",
       "<table border=\"1\" class=\"dataframe\">\n",
       "  <thead>\n",
       "    <tr style=\"text-align: right;\">\n",
       "      <th></th>\n",
       "      <th>universe_id</th>\n",
       "      <th>universe_training_year</th>\n",
       "      <th>universe_training_size</th>\n",
       "      <th>universe_scale</th>\n",
       "      <th>universe_model</th>\n",
       "      <th>universe_exclude_features</th>\n",
       "      <th>universe_exclude_subgroups</th>\n",
       "      <th>q_hat</th>\n",
       "      <th>coverage</th>\n",
       "      <th>avg_size</th>\n",
       "      <th>cov_frau1</th>\n",
       "      <th>cov_nongerman</th>\n",
       "      <th>cov_nongerman_male</th>\n",
       "      <th>cov_nongerman_female</th>\n",
       "    </tr>\n",
       "  </thead>\n",
       "  <tbody>\n",
       "    <tr>\n",
       "      <th>0</th>\n",
       "      <td>f26ada2194be7f2522ab129f4427ae90</td>\n",
       "      <td>2014</td>\n",
       "      <td>5k</td>\n",
       "      <td>scale</td>\n",
       "      <td>rf</td>\n",
       "      <td>none</td>\n",
       "      <td>keep-all</td>\n",
       "      <td>0.66</td>\n",
       "      <td>0.912217</td>\n",
       "      <td>1.138457</td>\n",
       "      <td>0.911147</td>\n",
       "      <td>0.905911</td>\n",
       "      <td>0.920922</td>\n",
       "      <td>0.881073</td>\n",
       "    </tr>\n",
       "  </tbody>\n",
       "</table>\n",
       "</div>"
      ],
      "text/plain": [
       "                        universe_id universe_training_year  \\\n",
       "0  f26ada2194be7f2522ab129f4427ae90                   2014   \n",
       "\n",
       "  universe_training_size universe_scale universe_model  \\\n",
       "0                     5k          scale             rf   \n",
       "\n",
       "  universe_exclude_features universe_exclude_subgroups  q_hat  coverage  \\\n",
       "0                      none                   keep-all   0.66  0.912217   \n",
       "\n",
       "   avg_size  cov_frau1  cov_nongerman  cov_nongerman_male  \\\n",
       "0  1.138457   0.911147       0.905911            0.920922   \n",
       "\n",
       "   cov_nongerman_female  \n",
       "0              0.881073  "
      ]
     },
     "execution_count": 58,
     "metadata": {},
     "output_type": "execute_result"
    }
   ],
   "source": [
    "cp_metrics_df"
   ]
  },
  {
   "cell_type": "markdown",
   "id": "33774451",
   "metadata": {
    "papermill": {
     "duration": 0.020054,
     "end_time": "2025-08-05T15:23:17.505101",
     "exception": false,
     "start_time": "2025-08-05T15:23:17.485047",
     "status": "completed"
    },
    "tags": []
   },
   "source": [
    "# (Fairness) Metrics"
   ]
  },
  {
   "cell_type": "code",
   "execution_count": 59,
   "id": "debc5d62",
   "metadata": {
    "execution": {
     "iopub.execute_input": "2025-08-05T15:23:17.547323Z",
     "iopub.status.busy": "2025-08-05T15:23:17.546685Z",
     "iopub.status.idle": "2025-08-05T15:23:17.567734Z",
     "shell.execute_reply": "2025-08-05T15:23:17.566898Z"
    },
    "papermill": {
     "duration": 0.043831,
     "end_time": "2025-08-05T15:23:17.569377",
     "exception": false,
     "start_time": "2025-08-05T15:23:17.525546",
     "status": "completed"
    },
    "tags": []
   },
   "outputs": [],
   "source": [
    "# do I need to include maxdeutsch1.missing?\n",
    "\n",
    "import numpy as np\n",
    "\n",
    "colname_to_bin = \"maxdeutsch1\"\n",
    "majority_value = org_train[colname_to_bin].mode()[0]\n",
    "\n",
    "org_test[\"majmin\"] = np.where(org_test[colname_to_bin] == majority_value, \"majority\", \"minority\")"
   ]
  },
  {
   "cell_type": "code",
   "execution_count": 60,
   "id": "06a50de5",
   "metadata": {
    "execution": {
     "iopub.execute_input": "2025-08-05T15:23:17.616123Z",
     "iopub.status.busy": "2025-08-05T15:23:17.615493Z",
     "iopub.status.idle": "2025-08-05T15:23:20.052675Z",
     "shell.execute_reply": "2025-08-05T15:23:20.051560Z"
    },
    "papermill": {
     "duration": 2.462188,
     "end_time": "2025-08-05T15:23:20.054532",
     "exception": false,
     "start_time": "2025-08-05T15:23:17.592344",
     "status": "completed"
    },
    "tags": []
   },
   "outputs": [],
   "source": [
    "example_universe = universe.copy()\n",
    "example_universe[\"cutoff\"] = example_universe[\"cutoff\"][0]\n",
    "example_universe[\"eval_fairness_grouping\"] = example_universe[\"eval_fairness_grouping\"][0]\n",
    "fairness_dict, metric_frame = universe_analysis.compute_metrics(\n",
    "    example_universe,\n",
    "    y_pred_prob=probs_test,\n",
    "    y_test=y_true,\n",
    "    org_test=org_test,\n",
    ")"
   ]
  },
  {
   "cell_type": "markdown",
   "id": "f95d4e02",
   "metadata": {
    "papermill": {
     "duration": 0.021563,
     "end_time": "2025-08-05T15:23:20.100062",
     "exception": false,
     "start_time": "2025-08-05T15:23:20.078499",
     "status": "completed"
    },
    "tags": []
   },
   "source": [
    "# Overall"
   ]
  },
  {
   "cell_type": "markdown",
   "id": "bdee4871",
   "metadata": {
    "papermill": {
     "duration": 0.020706,
     "end_time": "2025-08-05T15:23:20.142249",
     "exception": false,
     "start_time": "2025-08-05T15:23:20.121543",
     "status": "completed"
    },
    "tags": []
   },
   "source": [
    "Fairness\n",
    "Main fairness target: Equalized Odds. Seems to be a better fit than equal opportunity, since we're not only interested in Y = 1. Seems to be a better fit than demographic parity, since we also care about accuracy, not just equal distribution of preds.\n",
    "\n",
    "Pick column for computation of fairness metrics\n",
    "\n",
    "Performance\n",
    "Overall performance measures, most interesting in relation to the measures split by group below"
   ]
  },
  {
   "cell_type": "code",
   "execution_count": 61,
   "id": "c4e067c6",
   "metadata": {
    "execution": {
     "iopub.execute_input": "2025-08-05T15:23:20.188138Z",
     "iopub.status.busy": "2025-08-05T15:23:20.187540Z",
     "iopub.status.idle": "2025-08-05T15:23:20.197019Z",
     "shell.execute_reply": "2025-08-05T15:23:20.196089Z"
    },
    "papermill": {
     "duration": 0.034399,
     "end_time": "2025-08-05T15:23:20.198689",
     "exception": false,
     "start_time": "2025-08-05T15:23:20.164290",
     "status": "completed"
    },
    "tags": []
   },
   "outputs": [
    {
     "data": {
      "text/plain": [
       "accuracy                   0.197603\n",
       "balanced accuracy          0.533834\n",
       "f1                         0.239715\n",
       "precision                  0.136442\n",
       "false positive rate        0.918429\n",
       "false negative rate        0.013903\n",
       "selection rate             0.927110\n",
       "count                  89710.000000\n",
       "dtype: float64"
      ]
     },
     "execution_count": 61,
     "metadata": {},
     "output_type": "execute_result"
    }
   ],
   "source": [
    "metric_frame.overall"
   ]
  },
  {
   "cell_type": "markdown",
   "id": "e968fe9d",
   "metadata": {
    "papermill": {
     "duration": 0.022194,
     "end_time": "2025-08-05T15:23:20.243986",
     "exception": false,
     "start_time": "2025-08-05T15:23:20.221792",
     "status": "completed"
    },
    "tags": []
   },
   "source": [
    "By Group"
   ]
  },
  {
   "cell_type": "code",
   "execution_count": 62,
   "id": "ec325bce",
   "metadata": {
    "execution": {
     "iopub.execute_input": "2025-08-05T15:23:20.288826Z",
     "iopub.status.busy": "2025-08-05T15:23:20.288233Z",
     "iopub.status.idle": "2025-08-05T15:23:20.303562Z",
     "shell.execute_reply": "2025-08-05T15:23:20.302475Z"
    },
    "papermill": {
     "duration": 0.040175,
     "end_time": "2025-08-05T15:23:20.305397",
     "exception": false,
     "start_time": "2025-08-05T15:23:20.265222",
     "status": "completed"
    },
    "tags": []
   },
   "outputs": [
    {
     "data": {
      "text/html": [
       "<div>\n",
       "<style scoped>\n",
       "    .dataframe tbody tr th:only-of-type {\n",
       "        vertical-align: middle;\n",
       "    }\n",
       "\n",
       "    .dataframe tbody tr th {\n",
       "        vertical-align: top;\n",
       "    }\n",
       "\n",
       "    .dataframe thead th {\n",
       "        text-align: right;\n",
       "    }\n",
       "</style>\n",
       "<table border=\"1\" class=\"dataframe\">\n",
       "  <thead>\n",
       "    <tr style=\"text-align: right;\">\n",
       "      <th></th>\n",
       "      <th>accuracy</th>\n",
       "      <th>balanced accuracy</th>\n",
       "      <th>f1</th>\n",
       "      <th>precision</th>\n",
       "      <th>false positive rate</th>\n",
       "      <th>false negative rate</th>\n",
       "      <th>selection rate</th>\n",
       "      <th>count</th>\n",
       "    </tr>\n",
       "    <tr>\n",
       "      <th>majmin</th>\n",
       "      <th></th>\n",
       "      <th></th>\n",
       "      <th></th>\n",
       "      <th></th>\n",
       "      <th></th>\n",
       "      <th></th>\n",
       "      <th></th>\n",
       "      <th></th>\n",
       "    </tr>\n",
       "  </thead>\n",
       "  <tbody>\n",
       "    <tr>\n",
       "      <th>majority</th>\n",
       "      <td>0.197239</td>\n",
       "      <td>0.533843</td>\n",
       "      <td>0.246059</td>\n",
       "      <td>0.140461</td>\n",
       "      <td>0.923671</td>\n",
       "      <td>0.008643</td>\n",
       "      <td>0.932615</td>\n",
       "      <td>69170.0</td>\n",
       "    </tr>\n",
       "    <tr>\n",
       "      <th>minority</th>\n",
       "      <td>0.198832</td>\n",
       "      <td>0.532341</td>\n",
       "      <td>0.217499</td>\n",
       "      <td>0.122548</td>\n",
       "      <td>0.901112</td>\n",
       "      <td>0.034206</td>\n",
       "      <td>0.908569</td>\n",
       "      <td>20540.0</td>\n",
       "    </tr>\n",
       "  </tbody>\n",
       "</table>\n",
       "</div>"
      ],
      "text/plain": [
       "          accuracy  balanced accuracy        f1  precision  \\\n",
       "majmin                                                       \n",
       "majority  0.197239           0.533843  0.246059   0.140461   \n",
       "minority  0.198832           0.532341  0.217499   0.122548   \n",
       "\n",
       "          false positive rate  false negative rate  selection rate    count  \n",
       "majmin                                                                       \n",
       "majority             0.923671             0.008643        0.932615  69170.0  \n",
       "minority             0.901112             0.034206        0.908569  20540.0  "
      ]
     },
     "execution_count": 62,
     "metadata": {},
     "output_type": "execute_result"
    }
   ],
   "source": [
    "metric_frame.by_group"
   ]
  },
  {
   "cell_type": "code",
   "execution_count": 63,
   "id": "a9ddbe63",
   "metadata": {
    "execution": {
     "iopub.execute_input": "2025-08-05T15:23:20.349447Z",
     "iopub.status.busy": "2025-08-05T15:23:20.348775Z",
     "iopub.status.idle": "2025-08-05T15:23:22.766191Z",
     "shell.execute_reply": "2025-08-05T15:23:22.765049Z"
    },
    "papermill": {
     "duration": 2.441377,
     "end_time": "2025-08-05T15:23:22.768298",
     "exception": false,
     "start_time": "2025-08-05T15:23:20.326921",
     "status": "completed"
    },
    "tags": []
   },
   "outputs": [
    {
     "data": {
      "text/plain": [
       "array([[<Axes: title={'center': 'accuracy'}, xlabel='majmin'>,\n",
       "        <Axes: title={'center': 'balanced accuracy'}, xlabel='majmin'>,\n",
       "        <Axes: title={'center': 'f1'}, xlabel='majmin'>],\n",
       "       [<Axes: title={'center': 'precision'}, xlabel='majmin'>,\n",
       "        <Axes: title={'center': 'false positive rate'}, xlabel='majmin'>,\n",
       "        <Axes: title={'center': 'false negative rate'}, xlabel='majmin'>],\n",
       "       [<Axes: title={'center': 'selection rate'}, xlabel='majmin'>,\n",
       "        <Axes: title={'center': 'count'}, xlabel='majmin'>,\n",
       "        <Axes: xlabel='majmin'>]], dtype=object)"
      ]
     },
     "execution_count": 63,
     "metadata": {},
     "output_type": "execute_result"
    },
    {
     "data": {
      "image/png": "[encoded data removed]",
      "text/plain": [
       "<Figure size 1200x800 with 9 Axes>"
      ]
     },
     "metadata": {},
     "output_type": "display_data"
    }
   ],
   "source": [
    "# In a graphic\n",
    "metric_frame.by_group.plot.bar(\n",
    "    subplots=True,\n",
    "    layout=[3, 3],\n",
    "    legend=False,\n",
    "    figsize=[12, 8],\n",
    "    title=\"Show all metrics\",\n",
    ")"
   ]
  },
  {
   "cell_type": "markdown",
   "id": "f57a0bac",
   "metadata": {
    "papermill": {
     "duration": 0.02839,
     "end_time": "2025-08-05T15:23:22.825658",
     "exception": false,
     "start_time": "2025-08-05T15:23:22.797268",
     "status": "completed"
    },
    "tags": []
   },
   "source": [
    "# Final Output"
   ]
  },
  {
   "cell_type": "code",
   "execution_count": 64,
   "id": "96d280a3",
   "metadata": {
    "execution": {
     "iopub.execute_input": "2025-08-05T15:23:22.882106Z",
     "iopub.status.busy": "2025-08-05T15:23:22.881440Z",
     "iopub.status.idle": "2025-08-05T15:23:22.889401Z",
     "shell.execute_reply": "2025-08-05T15:23:22.888460Z"
    },
    "papermill": {
     "duration": 0.038284,
     "end_time": "2025-08-05T15:23:22.891195",
     "exception": false,
     "start_time": "2025-08-05T15:23:22.852911",
     "status": "completed"
    },
    "tags": []
   },
   "outputs": [
    {
     "data": {
      "text/plain": [
       "4"
      ]
     },
     "execution_count": 64,
     "metadata": {},
     "output_type": "execute_result"
    }
   ],
   "source": [
    "sub_universes = universe_analysis.generate_sub_universes()\n",
    "len(sub_universes)"
   ]
  },
  {
   "cell_type": "code",
   "execution_count": 65,
   "id": "92adf7ba",
   "metadata": {
    "execution": {
     "iopub.execute_input": "2025-08-05T15:23:22.945200Z",
     "iopub.status.busy": "2025-08-05T15:23:22.944432Z",
     "iopub.status.idle": "2025-08-05T15:23:22.950964Z",
     "shell.execute_reply": "2025-08-05T15:23:22.950030Z"
    },
    "papermill": {
     "duration": 0.034723,
     "end_time": "2025-08-05T15:23:22.952697",
     "exception": false,
     "start_time": "2025-08-05T15:23:22.917974",
     "status": "completed"
    },
    "tags": []
   },
   "outputs": [],
   "source": [
    "def filter_sub_universe_data(sub_universe, org_test):\n",
    "    # Keep all rows — no filtering\n",
    "    keep_rows_mask = np.ones(org_test.shape[0], dtype=bool)\n",
    "\n",
    "    print(f\"[INFO] Keeping all rows: {keep_rows_mask.sum()} rows retained.\")\n",
    "    return keep_rows_mask"
   ]
  },
  {
   "cell_type": "code",
   "execution_count": 66,
   "id": "4a759155",
   "metadata": {
    "execution": {
     "iopub.execute_input": "2025-08-05T15:23:23.006189Z",
     "iopub.status.busy": "2025-08-05T15:23:23.005285Z",
     "iopub.status.idle": "2025-08-05T15:23:31.078758Z",
     "shell.execute_reply": "2025-08-05T15:23:31.078040Z"
    },
    "papermill": {
     "duration": 8.100127,
     "end_time": "2025-08-05T15:23:31.079986",
     "exception": false,
     "start_time": "2025-08-05T15:23:22.979859",
     "status": "completed"
    },
    "tags": []
   },
   "outputs": [
    {
     "name": "stdout",
     "output_type": "stream",
     "text": [
      "Stopping execution_time clock.\n",
      "[INFO] Keeping all rows: 89710 rows retained.\n"
     ]
    },
    {
     "name": "stdout",
     "output_type": "stream",
     "text": [
      "[INFO] Keeping all rows: 89710 rows retained.\n"
     ]
    },
    {
     "name": "stdout",
     "output_type": "stream",
     "text": [
      "[INFO] Keeping all rows: 89710 rows retained.\n"
     ]
    },
    {
     "name": "stdout",
     "output_type": "stream",
     "text": [
      "[INFO] Keeping all rows: 89710 rows retained.\n"
     ]
    },
    {
     "data": {
      "text/html": [
       "<div>\n",
       "<style scoped>\n",
       "    .dataframe tbody tr th:only-of-type {\n",
       "        vertical-align: middle;\n",
       "    }\n",
       "\n",
       "    .dataframe tbody tr th {\n",
       "        vertical-align: top;\n",
       "    }\n",
       "\n",
       "    .dataframe thead th {\n",
       "        text-align: right;\n",
       "    }\n",
       "</style>\n",
       "<table border=\"1\" class=\"dataframe\">\n",
       "  <thead>\n",
       "    <tr style=\"text-align: right;\">\n",
       "      <th></th>\n",
       "      <th>run_no</th>\n",
       "      <th>universe_id</th>\n",
       "      <th>universe_settings</th>\n",
       "      <th>execution_time</th>\n",
       "      <th>test_size_n</th>\n",
       "      <th>test_size_frac</th>\n",
       "      <th>fair_main_equalized_odds_difference</th>\n",
       "      <th>fair_main_equalized_odds_ratio</th>\n",
       "      <th>fair_main_demographic_parity_difference</th>\n",
       "      <th>fair_main_demographic_parity_ratio</th>\n",
       "      <th>...</th>\n",
       "      <th>perf_grp_precision_0</th>\n",
       "      <th>perf_grp_precision_1</th>\n",
       "      <th>perf_grp_false positive rate_0</th>\n",
       "      <th>perf_grp_false positive rate_1</th>\n",
       "      <th>perf_grp_false negative rate_0</th>\n",
       "      <th>perf_grp_false negative rate_1</th>\n",
       "      <th>perf_grp_selection rate_0</th>\n",
       "      <th>perf_grp_selection rate_1</th>\n",
       "      <th>perf_grp_count_0</th>\n",
       "      <th>perf_grp_count_1</th>\n",
       "    </tr>\n",
       "  </thead>\n",
       "  <tbody>\n",
       "    <tr>\n",
       "      <th>0</th>\n",
       "      <td>15</td>\n",
       "      <td>f26ada2194be7f2522ab129f4427ae90</td>\n",
       "      <td>{\"cutoff\": \"quantile_0.1\", \"eval_fairness_grou...</td>\n",
       "      <td>35.93466</td>\n",
       "      <td>89710</td>\n",
       "      <td>1.0</td>\n",
       "      <td>0.025563</td>\n",
       "      <td>0.974214</td>\n",
       "      <td>0.024047</td>\n",
       "      <td>0.974216</td>\n",
       "      <td>...</td>\n",
       "      <td>NaN</td>\n",
       "      <td>NaN</td>\n",
       "      <td>NaN</td>\n",
       "      <td>NaN</td>\n",
       "      <td>NaN</td>\n",
       "      <td>NaN</td>\n",
       "      <td>NaN</td>\n",
       "      <td>NaN</td>\n",
       "      <td>NaN</td>\n",
       "      <td>NaN</td>\n",
       "    </tr>\n",
       "    <tr>\n",
       "      <th>0</th>\n",
       "      <td>15</td>\n",
       "      <td>f26ada2194be7f2522ab129f4427ae90</td>\n",
       "      <td>{\"cutoff\": \"quantile_0.1\", \"eval_fairness_grou...</td>\n",
       "      <td>35.93466</td>\n",
       "      <td>89710</td>\n",
       "      <td>1.0</td>\n",
       "      <td>0.025563</td>\n",
       "      <td>0.974214</td>\n",
       "      <td>0.024047</td>\n",
       "      <td>0.974216</td>\n",
       "      <td>...</td>\n",
       "      <td>0.122548</td>\n",
       "      <td>0.140461</td>\n",
       "      <td>0.901112</td>\n",
       "      <td>0.923671</td>\n",
       "      <td>0.034206</td>\n",
       "      <td>0.008643</td>\n",
       "      <td>0.908569</td>\n",
       "      <td>0.932615</td>\n",
       "      <td>20540.0</td>\n",
       "      <td>69170.0</td>\n",
       "    </tr>\n",
       "    <tr>\n",
       "      <th>0</th>\n",
       "      <td>15</td>\n",
       "      <td>f26ada2194be7f2522ab129f4427ae90</td>\n",
       "      <td>{\"cutoff\": \"quantile_0.25\", \"eval_fairness_gro...</td>\n",
       "      <td>35.93466</td>\n",
       "      <td>89710</td>\n",
       "      <td>1.0</td>\n",
       "      <td>0.070059</td>\n",
       "      <td>0.926066</td>\n",
       "      <td>0.044978</td>\n",
       "      <td>0.941728</td>\n",
       "      <td>...</td>\n",
       "      <td>NaN</td>\n",
       "      <td>NaN</td>\n",
       "      <td>NaN</td>\n",
       "      <td>NaN</td>\n",
       "      <td>NaN</td>\n",
       "      <td>NaN</td>\n",
       "      <td>NaN</td>\n",
       "      <td>NaN</td>\n",
       "      <td>NaN</td>\n",
       "      <td>NaN</td>\n",
       "    </tr>\n",
       "    <tr>\n",
       "      <th>0</th>\n",
       "      <td>15</td>\n",
       "      <td>f26ada2194be7f2522ab129f4427ae90</td>\n",
       "      <td>{\"cutoff\": \"quantile_0.25\", \"eval_fairness_gro...</td>\n",
       "      <td>35.93466</td>\n",
       "      <td>89710</td>\n",
       "      <td>1.0</td>\n",
       "      <td>0.070059</td>\n",
       "      <td>0.926066</td>\n",
       "      <td>0.044978</td>\n",
       "      <td>0.941728</td>\n",
       "      <td>...</td>\n",
       "      <td>0.139183</td>\n",
       "      <td>0.162224</td>\n",
       "      <td>0.707242</td>\n",
       "      <td>0.745094</td>\n",
       "      <td>0.122466</td>\n",
       "      <td>0.052407</td>\n",
       "      <td>0.726874</td>\n",
       "      <td>0.771852</td>\n",
       "      <td>20540.0</td>\n",
       "      <td>69170.0</td>\n",
       "    </tr>\n",
       "  </tbody>\n",
       "</table>\n",
       "<p>4 rows × 50 columns</p>\n",
       "</div>"
      ],
      "text/plain": [
       "  run_no                       universe_id  \\\n",
       "0     15  f26ada2194be7f2522ab129f4427ae90   \n",
       "0     15  f26ada2194be7f2522ab129f4427ae90   \n",
       "0     15  f26ada2194be7f2522ab129f4427ae90   \n",
       "0     15  f26ada2194be7f2522ab129f4427ae90   \n",
       "\n",
       "                                   universe_settings  execution_time  \\\n",
       "0  {\"cutoff\": \"quantile_0.1\", \"eval_fairness_grou...        35.93466   \n",
       "0  {\"cutoff\": \"quantile_0.1\", \"eval_fairness_grou...        35.93466   \n",
       "0  {\"cutoff\": \"quantile_0.25\", \"eval_fairness_gro...        35.93466   \n",
       "0  {\"cutoff\": \"quantile_0.25\", \"eval_fairness_gro...        35.93466   \n",
       "\n",
       "   test_size_n  test_size_frac  fair_main_equalized_odds_difference  \\\n",
       "0        89710             1.0                             0.025563   \n",
       "0        89710             1.0                             0.025563   \n",
       "0        89710             1.0                             0.070059   \n",
       "0        89710             1.0                             0.070059   \n",
       "\n",
       "   fair_main_equalized_odds_ratio  fair_main_demographic_parity_difference  \\\n",
       "0                        0.974214                                 0.024047   \n",
       "0                        0.974214                                 0.024047   \n",
       "0                        0.926066                                 0.044978   \n",
       "0                        0.926066                                 0.044978   \n",
       "\n",
       "   fair_main_demographic_parity_ratio  ...  perf_grp_precision_0  \\\n",
       "0                            0.974216  ...                   NaN   \n",
       "0                            0.974216  ...              0.122548   \n",
       "0                            0.941728  ...                   NaN   \n",
       "0                            0.941728  ...              0.139183   \n",
       "\n",
       "   perf_grp_precision_1  perf_grp_false positive rate_0  \\\n",
       "0                   NaN                             NaN   \n",
       "0              0.140461                        0.901112   \n",
       "0                   NaN                             NaN   \n",
       "0              0.162224                        0.707242   \n",
       "\n",
       "   perf_grp_false positive rate_1  perf_grp_false negative rate_0  \\\n",
       "0                             NaN                             NaN   \n",
       "0                        0.923671                        0.034206   \n",
       "0                             NaN                             NaN   \n",
       "0                        0.745094                        0.122466   \n",
       "\n",
       "   perf_grp_false negative rate_1  perf_grp_selection rate_0  \\\n",
       "0                             NaN                        NaN   \n",
       "0                        0.008643                   0.908569   \n",
       "0                             NaN                        NaN   \n",
       "0                        0.052407                   0.726874   \n",
       "\n",
       "   perf_grp_selection rate_1  perf_grp_count_0  perf_grp_count_1  \n",
       "0                        NaN               NaN               NaN  \n",
       "0                   0.932615           20540.0           69170.0  \n",
       "0                        NaN               NaN               NaN  \n",
       "0                   0.771852           20540.0           69170.0  \n",
       "\n",
       "[4 rows x 50 columns]"
      ]
     },
     "execution_count": 66,
     "metadata": {},
     "output_type": "execute_result"
    }
   ],
   "source": [
    "final_output = universe_analysis.generate_final_output(\n",
    "    y_pred_prob=probs_test,\n",
    "    y_test=y_true,\n",
    "    org_test=org_test,\n",
    "    filter_data=filter_sub_universe_data,\n",
    "    cp_metrics_df=cp_metrics_df,\n",
    "    save=True,\n",
    ")\n",
    "final_output"
   ]
  }
 ],
 "metadata": {
  "celltoolbar": "Tags",
  "kernelspec": {
   "display_name": "Python (CMA Fairness)",
   "language": "python",
   "name": "cma_fair_env"
  },
  "language_info": {
   "codemirror_mode": {
    "name": "ipython",
    "version": 3
   },
   "file_extension": ".py",
   "mimetype": "text/x-python",
   "name": "python",
   "nbconvert_exporter": "python",
   "pygments_lexer": "ipython3",
   "version": "3.10.12"
  },
  "papermill": {
   "default_parameters": {},
   "duration": 47.998976,
   "end_time": "2025-08-05T15:23:31.813259",
   "environment_variables": {},
   "exception": null,
   "input_path": "universe_analysis.ipynb",
   "output_path": "output/runs/15/notebooks/m_15-f26ada2194be7f2522ab129f4427ae90.ipynb",
   "parameters": {
    "output_dir": "output",
    "run_no": "15",
    "seed": "2023",
    "universe": "{\"cutoff\": [\"quantile_0.1\", \"quantile_0.25\"], \"eval_fairness_grouping\": [\"majority-minority\", \"nationality-all\"], \"exclude_features\": \"none\", \"exclude_subgroups\": \"keep-all\", \"model\": \"rf\", \"scale\": \"scale\", \"training_size\": \"5k\", \"training_year\": \"2014\"}",
    "universe_id": "f26ada2194be7f2522ab129f4427ae90"
   },
   "start_time": "2025-08-05T15:22:43.814283",
   "version": "2.6.0"
  }
 },
 "nbformat": 4,
 "nbformat_minor": 5
}