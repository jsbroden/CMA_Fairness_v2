{
 "cells": [
  {
   "cell_type": "code",
   "execution_count": 1,
   "id": "f159f837-637b-42ba-96b5-ec9a68c44524",
   "metadata": {
    "execution": {
     "iopub.execute_input": "2025-08-05T16:12:32.970187Z",
     "iopub.status.busy": "2025-08-05T16:12:32.969055Z",
     "iopub.status.idle": "2025-08-05T16:12:32.986192Z",
     "shell.execute_reply": "2025-08-05T16:12:32.984998Z"
    },
    "papermill": {
     "duration": 0.040439,
     "end_time": "2025-08-05T16:12:32.988129",
     "exception": false,
     "start_time": "2025-08-05T16:12:32.947690",
     "status": "completed"
    },
    "tags": []
   },
   "outputs": [
    {
     "name": "stdout",
     "output_type": "stream",
     "text": [
      "/dss/dsshome1/0C/ra93lal2/cma/CMA_Fairness_v2\n"
     ]
    },
    {
     "name": "stderr",
     "output_type": "stream",
     "text": [
      "/dss/dsshome1/0C/ra93lal2/.local/share/virtualenvs/CMA_Fairness_v2-3j10GkSs/lib/python3.10/site-packages/IPython/core/magics/osm.py:393: UserWarning: This is now an optional IPython functionality, using bookmarks requires you to install the `pickleshare` library.\n",
      "  bkms = self.shell.db.get('bookmarks', {})\n",
      "/dss/dsshome1/0C/ra93lal2/.local/share/virtualenvs/CMA_Fairness_v2-3j10GkSs/lib/python3.10/site-packages/IPython/core/magics/osm.py:417: UserWarning: This is now an optional IPython functionality, setting dhist requires you to install the `pickleshare` library.\n",
      "  self.shell.db['dhist'] = compress_dhist(dhist)[-100:]\n"
     ]
    }
   ],
   "source": [
    "%cd ~/cma/CMA_Fairness_v2"
   ]
  },
  {
   "cell_type": "markdown",
   "id": "de2603b9",
   "metadata": {
    "papermill": {
     "duration": 0.010434,
     "end_time": "2025-08-05T16:12:33.016989",
     "exception": false,
     "start_time": "2025-08-05T16:12:33.006555",
     "status": "completed"
    },
    "tags": []
   },
   "source": [
    "The following cell holds the definition of our parameters, these values can be overriden by rendering the with e.g. the following command:\n",
    "\n",
    "papermill -p alpha 0.2 -p ratio 0.3 universe_analysis.ipynb output/test_run.ipynb"
   ]
  },
  {
   "cell_type": "code",
   "execution_count": 2,
   "id": "a80968a0-40bb-4fa9-85ef-2d5eefb01975",
   "metadata": {
    "execution": {
     "iopub.execute_input": "2025-08-05T16:12:33.039481Z",
     "iopub.status.busy": "2025-08-05T16:12:33.039045Z",
     "iopub.status.idle": "2025-08-05T16:12:33.045479Z",
     "shell.execute_reply": "2025-08-05T16:12:33.044636Z"
    },
    "papermill": {
     "duration": 0.019589,
     "end_time": "2025-08-05T16:12:33.047026",
     "exception": false,
     "start_time": "2025-08-05T16:12:33.027437",
     "status": "completed"
    },
    "tags": []
   },
   "outputs": [
    {
     "name": "stdout",
     "output_type": "stream",
     "text": [
      "Current working directory: /dss/dsshome1/0C/ra93lal2/cma/CMA_Fairness_v2\n"
     ]
    }
   ],
   "source": [
    "import os\n",
    "print(\"Current working directory:\", os.getcwd())"
   ]
  },
  {
   "cell_type": "code",
   "execution_count": 3,
   "id": "2dce4c03",
   "metadata": {
    "execution": {
     "iopub.execute_input": "2025-08-05T16:12:33.083642Z",
     "iopub.status.busy": "2025-08-05T16:12:33.083214Z",
     "iopub.status.idle": "2025-08-05T16:12:33.090000Z",
     "shell.execute_reply": "2025-08-05T16:12:33.088856Z"
    },
    "papermill": {
     "duration": 0.030816,
     "end_time": "2025-08-05T16:12:33.091815",
     "exception": false,
     "start_time": "2025-08-05T16:12:33.060999",
     "status": "completed"
    },
    "tags": [
     "parameters"
    ]
   },
   "outputs": [],
   "source": [
    "run_no = 0\n",
    "universe_id = \"test\"\n",
    "universe = {\n",
    "    \"training_size\": \"25k\", # \"25k\", \"5k\", \"1k\"\n",
    "    \"training_year\": \"2014\", # \"2014\", \"2012_14\", \"2010_14\"\n",
    "    \"scale\": \"scale\", # \"scale\", \"do-not-scale\",\n",
    "    \"model\": \"elasticnet\", # \"logreg\", \"penalized_logreg\", \"rf\", \"gbm\", \"elasticnet\"\n",
    "    \"cutoff\": [\"quantile_0.15\", \"quantile_0.30\"],\n",
    "    \"exclude_features\": \"age\", # \"none\", \"nationality\", \"sex\", \"nationality-sex\", \"age\"\n",
    "    \"exclude_subgroups\": \"keep-all\", # \"keep-all\", \"drop-non-german\"\n",
    "    \"eval_fairness_grouping\": [\"majority-minority\", \"nationality-all\"]\n",
    "}\n",
    "\n",
    "output_dir=\"./output\"\n",
    "seed=0"
   ]
  },
  {
   "cell_type": "code",
   "execution_count": 4,
   "id": "b2435f4d",
   "metadata": {
    "execution": {
     "iopub.execute_input": "2025-08-05T16:12:33.132739Z",
     "iopub.status.busy": "2025-08-05T16:12:33.132396Z",
     "iopub.status.idle": "2025-08-05T16:12:33.137685Z",
     "shell.execute_reply": "2025-08-05T16:12:33.136732Z"
    },
    "papermill": {
     "duration": 0.026802,
     "end_time": "2025-08-05T16:12:33.139438",
     "exception": false,
     "start_time": "2025-08-05T16:12:33.112636",
     "status": "completed"
    },
    "tags": [
     "injected-parameters"
    ]
   },
   "outputs": [],
   "source": [
    "# Parameters\n",
    "universe_id = \"4fe275890e60c4b7b97b9c650de2a732\"\n",
    "run_no = \"15\"\n",
    "universe = \"{\\\"cutoff\\\": [\\\"quantile_0.1\\\", \\\"quantile_0.25\\\"], \\\"eval_fairness_grouping\\\": [\\\"majority-minority\\\", \\\"nationality-all\\\"], \\\"exclude_features\\\": \\\"nationality\\\", \\\"exclude_subgroups\\\": \\\"keep-all\\\", \\\"model\\\": \\\"gbm\\\", \\\"scale\\\": \\\"do-not-scale\\\", \\\"training_size\\\": \\\"1k\\\", \\\"training_year\\\": \\\"2014\\\"}\"\n",
    "output_dir = \"output\"\n",
    "seed = \"2023\"\n"
   ]
  },
  {
   "cell_type": "code",
   "execution_count": 5,
   "id": "1650acaf",
   "metadata": {
    "execution": {
     "iopub.execute_input": "2025-08-05T16:12:33.179726Z",
     "iopub.status.busy": "2025-08-05T16:12:33.179053Z",
     "iopub.status.idle": "2025-08-05T16:12:33.184642Z",
     "shell.execute_reply": "2025-08-05T16:12:33.183567Z"
    },
    "papermill": {
     "duration": 0.025555,
     "end_time": "2025-08-05T16:12:33.186736",
     "exception": false,
     "start_time": "2025-08-05T16:12:33.161181",
     "status": "completed"
    },
    "tags": []
   },
   "outputs": [],
   "source": [
    "import json\n",
    "if isinstance(universe, str):\n",
    "    universe = json.loads(universe)"
   ]
  },
  {
   "cell_type": "code",
   "execution_count": 6,
   "id": "16620c48",
   "metadata": {
    "execution": {
     "iopub.execute_input": "2025-08-05T16:12:33.227954Z",
     "iopub.status.busy": "2025-08-05T16:12:33.227070Z",
     "iopub.status.idle": "2025-08-05T16:12:33.273691Z",
     "shell.execute_reply": "2025-08-05T16:12:33.272869Z"
    },
    "papermill": {
     "duration": 0.080096,
     "end_time": "2025-08-05T16:12:33.287058",
     "exception": false,
     "start_time": "2025-08-05T16:12:33.206962",
     "status": "completed"
    },
    "tags": []
   },
   "outputs": [],
   "source": [
    "# Auto-reload the custom package\n",
    "%load_ext autoreload\n",
    "%autoreload 1\n",
    "%aimport fairness_multiverse"
   ]
  },
  {
   "cell_type": "code",
   "execution_count": 7,
   "id": "01c5c9f3",
   "metadata": {
    "execution": {
     "iopub.execute_input": "2025-08-05T16:12:33.337283Z",
     "iopub.status.busy": "2025-08-05T16:12:33.336185Z",
     "iopub.status.idle": "2025-08-05T16:12:35.294597Z",
     "shell.execute_reply": "2025-08-05T16:12:35.293692Z"
    },
    "papermill": {
     "duration": 1.983611,
     "end_time": "2025-08-05T16:12:35.296231",
     "exception": false,
     "start_time": "2025-08-05T16:12:33.312620",
     "status": "completed"
    },
    "tags": []
   },
   "outputs": [],
   "source": [
    "from fairness_multiverse.universe import UniverseAnalysis\n",
    "\n",
    "universe_analysis = UniverseAnalysis(\n",
    "    run_no = run_no,\n",
    "    universe_id = universe_id,\n",
    "    universe = universe,\n",
    "    output_dir=output_dir,\n",
    ")"
   ]
  },
  {
   "cell_type": "code",
   "execution_count": 8,
   "id": "106241f5",
   "metadata": {
    "execution": {
     "iopub.execute_input": "2025-08-05T16:12:35.319578Z",
     "iopub.status.busy": "2025-08-05T16:12:35.319113Z",
     "iopub.status.idle": "2025-08-05T16:12:35.324802Z",
     "shell.execute_reply": "2025-08-05T16:12:35.323919Z"
    },
    "papermill": {
     "duration": 0.019056,
     "end_time": "2025-08-05T16:12:35.326799",
     "exception": false,
     "start_time": "2025-08-05T16:12:35.307743",
     "status": "completed"
    },
    "tags": []
   },
   "outputs": [
    {
     "name": "stdout",
     "output_type": "stream",
     "text": [
      "Using Seed: 2023\n"
     ]
    }
   ],
   "source": [
    "import numpy as np\n",
    "parsed_seed = int(seed)\n",
    "np.random.seed(parsed_seed)\n",
    "print(f\"Using Seed: {parsed_seed}\")"
   ]
  },
  {
   "cell_type": "markdown",
   "id": "e0ebdc57",
   "metadata": {
    "papermill": {
     "duration": 0.022774,
     "end_time": "2025-08-05T16:12:35.372699",
     "exception": false,
     "start_time": "2025-08-05T16:12:35.349925",
     "status": "completed"
    },
    "tags": []
   },
   "source": [
    "# Loading Data"
   ]
  },
  {
   "cell_type": "code",
   "execution_count": 9,
   "id": "f0496b8a",
   "metadata": {
    "execution": {
     "iopub.execute_input": "2025-08-05T16:12:35.419450Z",
     "iopub.status.busy": "2025-08-05T16:12:35.418972Z",
     "iopub.status.idle": "2025-08-05T16:12:48.112848Z",
     "shell.execute_reply": "2025-08-05T16:12:48.111457Z"
    },
    "papermill": {
     "duration": 12.719297,
     "end_time": "2025-08-05T16:12:48.114726",
     "exception": false,
     "start_time": "2025-08-05T16:12:35.395429",
     "status": "completed"
    },
    "tags": []
   },
   "outputs": [
    {
     "name": "stdout",
     "output_type": "stream",
     "text": [
      "Loading SIAB data from cache: data/siab_cached.csv.gz\n"
     ]
    },
    {
     "name": "stdout",
     "output_type": "stream",
     "text": [
      "(643690, 164)\n"
     ]
    }
   ],
   "source": [
    "from pathlib import Path\n",
    "import pandas as pd\n",
    "\n",
    "# File paths\n",
    "raw_file = Path(\"data/raw/siab.csv\")\n",
    "cache_file = Path(\"data/siab_cached.csv.gz\")\n",
    "\n",
    "# Ensure cache directory exists\n",
    "cache_file.parent.mkdir(parents=True, exist_ok=True)\n",
    "\n",
    "# Load with simple caching\n",
    "if cache_file.exists():\n",
    "    print(f\"Loading SIAB data from cache: {cache_file}\")\n",
    "    siab = pd.read_csv(cache_file, compression='gzip')\n",
    "else:\n",
    "    print(f\"Cache not found. Reading raw SIAB data: {raw_file}\")\n",
    "    siab = pd.read_csv(raw_file)\n",
    "    siab.to_csv(cache_file, index=False, compression='gzip')\n",
    "    print(f\"Cached SIAB data to: {cache_file}\")\n",
    "\n",
    "print(siab.shape)"
   ]
  },
  {
   "cell_type": "code",
   "execution_count": 10,
   "id": "db0ca512-5f53-4dba-abdb-a2888bca41ba",
   "metadata": {
    "execution": {
     "iopub.execute_input": "2025-08-05T16:12:48.163170Z",
     "iopub.status.busy": "2025-08-05T16:12:48.162629Z",
     "iopub.status.idle": "2025-08-05T16:12:48.169180Z",
     "shell.execute_reply": "2025-08-05T16:12:48.168101Z"
    },
    "papermill": {
     "duration": 0.034807,
     "end_time": "2025-08-05T16:12:48.171142",
     "exception": false,
     "start_time": "2025-08-05T16:12:48.136335",
     "status": "completed"
    },
    "tags": []
   },
   "outputs": [],
   "source": [
    "#siab"
   ]
  },
  {
   "cell_type": "markdown",
   "id": "997051c5-15bd-4b69-9786-c3001a3ce484",
   "metadata": {
    "papermill": {
     "duration": 0.022638,
     "end_time": "2025-08-05T16:12:48.216046",
     "exception": false,
     "start_time": "2025-08-05T16:12:48.193408",
     "status": "completed"
    },
    "tags": []
   },
   "source": [
    "# Splitting Data and Setting Training Data Size"
   ]
  },
  {
   "cell_type": "code",
   "execution_count": 11,
   "id": "aea9c6ef-6f46-42c8-85eb-5a62025c1508",
   "metadata": {
    "execution": {
     "iopub.execute_input": "2025-08-05T16:12:48.261360Z",
     "iopub.status.busy": "2025-08-05T16:12:48.260936Z",
     "iopub.status.idle": "2025-08-05T16:12:48.497916Z",
     "shell.execute_reply": "2025-08-05T16:12:48.496815Z"
    },
    "papermill": {
     "duration": 0.261707,
     "end_time": "2025-08-05T16:12:48.500054",
     "exception": false,
     "start_time": "2025-08-05T16:12:48.238347",
     "status": "completed"
    },
    "tags": []
   },
   "outputs": [],
   "source": [
    "from fairness_multiverse.universe import sample_by_year_size\n",
    "\n",
    "siab_train = sample_by_year_size(siab,\n",
    "                               training_year=universe[\"training_year\"],\n",
    "                               training_size=universe[\"training_size\"])"
   ]
  },
  {
   "cell_type": "code",
   "execution_count": 12,
   "id": "8d3afb32-789d-442c-8d5d-9f5aa8dd2eed",
   "metadata": {
    "execution": {
     "iopub.execute_input": "2025-08-05T16:12:48.534804Z",
     "iopub.status.busy": "2025-08-05T16:12:48.533821Z",
     "iopub.status.idle": "2025-08-05T16:12:48.539222Z",
     "shell.execute_reply": "2025-08-05T16:12:48.538049Z"
    },
    "papermill": {
     "duration": 0.029395,
     "end_time": "2025-08-05T16:12:48.541212",
     "exception": false,
     "start_time": "2025-08-05T16:12:48.511817",
     "status": "completed"
    },
    "tags": []
   },
   "outputs": [],
   "source": [
    "#siab_train.shape"
   ]
  },
  {
   "cell_type": "code",
   "execution_count": 13,
   "id": "d582db68-1a4c-47fb-84fc-08518dc1975a",
   "metadata": {
    "execution": {
     "iopub.execute_input": "2025-08-05T16:12:48.588197Z",
     "iopub.status.busy": "2025-08-05T16:12:48.587824Z",
     "iopub.status.idle": "2025-08-05T16:12:48.592635Z",
     "shell.execute_reply": "2025-08-05T16:12:48.591628Z"
    },
    "papermill": {
     "duration": 0.030447,
     "end_time": "2025-08-05T16:12:48.594422",
     "exception": false,
     "start_time": "2025-08-05T16:12:48.563975",
     "status": "completed"
    },
    "tags": []
   },
   "outputs": [],
   "source": [
    "#display(siab_train.groupby(\"year\").size())"
   ]
  },
  {
   "cell_type": "code",
   "execution_count": 14,
   "id": "a561edb4-d032-42cb-8256-22eac1111c64",
   "metadata": {
    "execution": {
     "iopub.execute_input": "2025-08-05T16:12:48.637539Z",
     "iopub.status.busy": "2025-08-05T16:12:48.637128Z",
     "iopub.status.idle": "2025-08-05T16:12:48.857242Z",
     "shell.execute_reply": "2025-08-05T16:12:48.856016Z"
    },
    "papermill": {
     "duration": 0.241979,
     "end_time": "2025-08-05T16:12:48.859120",
     "exception": false,
     "start_time": "2025-08-05T16:12:48.617141",
     "status": "completed"
    },
    "tags": []
   },
   "outputs": [],
   "source": [
    "#siab_train = siab_s[siab_s.year < 2015]\n",
    "siab_calib = siab[siab.year == 2015]\n",
    "siab_test = siab[siab.year == 2016]"
   ]
  },
  {
   "cell_type": "code",
   "execution_count": 15,
   "id": "472de16f-c3db-4916-846b-1f0de9cf1746",
   "metadata": {
    "execution": {
     "iopub.execute_input": "2025-08-05T16:12:48.901184Z",
     "iopub.status.busy": "2025-08-05T16:12:48.900688Z",
     "iopub.status.idle": "2025-08-05T16:12:48.908814Z",
     "shell.execute_reply": "2025-08-05T16:12:48.907577Z"
    },
    "papermill": {
     "duration": 0.03184,
     "end_time": "2025-08-05T16:12:48.910691",
     "exception": false,
     "start_time": "2025-08-05T16:12:48.878851",
     "status": "completed"
    },
    "tags": []
   },
   "outputs": [],
   "source": [
    "X_train = siab_train.iloc[:,4:164]\n",
    "y_train = siab_train.iloc[:, [3]]"
   ]
  },
  {
   "cell_type": "code",
   "execution_count": 16,
   "id": "828c96af-f43a-4ed6-ba47-8ac73a47d56c",
   "metadata": {
    "execution": {
     "iopub.execute_input": "2025-08-05T16:12:48.953284Z",
     "iopub.status.busy": "2025-08-05T16:12:48.952617Z",
     "iopub.status.idle": "2025-08-05T16:12:49.010156Z",
     "shell.execute_reply": "2025-08-05T16:12:49.008783Z"
    },
    "papermill": {
     "duration": 0.08128,
     "end_time": "2025-08-05T16:12:49.012445",
     "exception": false,
     "start_time": "2025-08-05T16:12:48.931165",
     "status": "completed"
    },
    "tags": []
   },
   "outputs": [],
   "source": [
    "X_calib = siab_calib.iloc[:,4:164]\n",
    "y_calib = siab_calib.iloc[:, [3]]"
   ]
  },
  {
   "cell_type": "code",
   "execution_count": 17,
   "id": "c34be9c3-6bd6-476e-acd3-845840e303be",
   "metadata": {
    "execution": {
     "iopub.execute_input": "2025-08-05T16:12:49.057831Z",
     "iopub.status.busy": "2025-08-05T16:12:49.056778Z",
     "iopub.status.idle": "2025-08-05T16:12:49.132557Z",
     "shell.execute_reply": "2025-08-05T16:12:49.131389Z"
    },
    "papermill": {
     "duration": 0.100408,
     "end_time": "2025-08-05T16:12:49.135076",
     "exception": false,
     "start_time": "2025-08-05T16:12:49.034668",
     "status": "completed"
    },
    "tags": []
   },
   "outputs": [],
   "source": [
    "X_test = siab_test.iloc[:,4:164]\n",
    "y_true = siab_test.iloc[:, [3]]"
   ]
  },
  {
   "cell_type": "code",
   "execution_count": 18,
   "id": "e6c733c5",
   "metadata": {
    "execution": {
     "iopub.execute_input": "2025-08-05T16:12:49.180957Z",
     "iopub.status.busy": "2025-08-05T16:12:49.179963Z",
     "iopub.status.idle": "2025-08-05T16:12:49.281141Z",
     "shell.execute_reply": "2025-08-05T16:12:49.280078Z"
    },
    "papermill": {
     "duration": 0.125279,
     "end_time": "2025-08-05T16:12:49.283246",
     "exception": false,
     "start_time": "2025-08-05T16:12:49.157967",
     "status": "completed"
    },
    "tags": []
   },
   "outputs": [],
   "source": [
    "# Auxiliary data needed downstream in the pipeline\n",
    "\n",
    "org_train = X_train.copy()\n",
    "org_test = X_test.copy()\n",
    "org_calib = X_calib.copy()"
   ]
  },
  {
   "cell_type": "markdown",
   "id": "0a4a1b33",
   "metadata": {
    "papermill": {
     "duration": 0.020613,
     "end_time": "2025-08-05T16:12:49.325984",
     "exception": false,
     "start_time": "2025-08-05T16:12:49.305371",
     "status": "completed"
    },
    "tags": []
   },
   "source": [
    "# Preprocessing Data"
   ]
  },
  {
   "cell_type": "code",
   "execution_count": 19,
   "id": "ca879031",
   "metadata": {
    "execution": {
     "iopub.execute_input": "2025-08-05T16:12:49.369629Z",
     "iopub.status.busy": "2025-08-05T16:12:49.368575Z",
     "iopub.status.idle": "2025-08-05T16:12:49.375969Z",
     "shell.execute_reply": "2025-08-05T16:12:49.374856Z"
    },
    "papermill": {
     "duration": 0.031179,
     "end_time": "2025-08-05T16:12:49.377788",
     "exception": false,
     "start_time": "2025-08-05T16:12:49.346609",
     "status": "completed"
    },
    "tags": []
   },
   "outputs": [],
   "source": [
    "# EXCLUDE PROTECTED FEATURES\n",
    "# ----------------------\n",
    "# \"exclude_features\": \"none\", # \"nationality\", \"sex\", \"nationality-sex\"\n",
    "\n",
    "excluded_features = universe[\"exclude_features\"].split(\"-\") # split, e.g.: \"nationality-sex\" -> [\"nationality\", \"sex\"]\n",
    "excluded_features_dictionary = {\n",
    "    \"nationality\": [\"maxdeutsch1\", \"maxdeutsch.Missing.\"],\n",
    "    \"sex\": [\"frau1\"],\n",
    "    \"age\": [\"age\"],\n",
    "}"
   ]
  },
  {
   "cell_type": "code",
   "execution_count": 20,
   "id": "b745ac60",
   "metadata": {
    "execution": {
     "iopub.execute_input": "2025-08-05T16:12:49.421400Z",
     "iopub.status.busy": "2025-08-05T16:12:49.420443Z",
     "iopub.status.idle": "2025-08-05T16:12:49.426910Z",
     "shell.execute_reply": "2025-08-05T16:12:49.425797Z"
    },
    "papermill": {
     "duration": 0.030193,
     "end_time": "2025-08-05T16:12:49.428927",
     "exception": false,
     "start_time": "2025-08-05T16:12:49.398734",
     "status": "completed"
    },
    "tags": []
   },
   "outputs": [],
   "source": [
    "# Code nice names to column names\n",
    "\n",
    "excluded_features_columns = [\n",
    "    excluded_features_dictionary[f] for f in excluded_features if len(f) > 0 and f != \"none\"\n",
    "]"
   ]
  },
  {
   "cell_type": "code",
   "execution_count": 21,
   "id": "f84f73a2",
   "metadata": {
    "execution": {
     "iopub.execute_input": "2025-08-05T16:12:49.473176Z",
     "iopub.status.busy": "2025-08-05T16:12:49.472645Z",
     "iopub.status.idle": "2025-08-05T16:12:49.479560Z",
     "shell.execute_reply": "2025-08-05T16:12:49.478600Z"
    },
    "papermill": {
     "duration": 0.030373,
     "end_time": "2025-08-05T16:12:49.481374",
     "exception": false,
     "start_time": "2025-08-05T16:12:49.451001",
     "status": "completed"
    },
    "tags": []
   },
   "outputs": [],
   "source": [
    "from utils import flatten_once\n",
    "\n",
    "excluded_features_columns = flatten_once(excluded_features_columns)"
   ]
  },
  {
   "cell_type": "code",
   "execution_count": 22,
   "id": "884dea22",
   "metadata": {
    "execution": {
     "iopub.execute_input": "2025-08-05T16:12:49.525746Z",
     "iopub.status.busy": "2025-08-05T16:12:49.524720Z",
     "iopub.status.idle": "2025-08-05T16:12:49.533433Z",
     "shell.execute_reply": "2025-08-05T16:12:49.532442Z"
    },
    "papermill": {
     "duration": 0.033225,
     "end_time": "2025-08-05T16:12:49.535308",
     "exception": false,
     "start_time": "2025-08-05T16:12:49.502083",
     "status": "completed"
    },
    "tags": []
   },
   "outputs": [
    {
     "name": "stdout",
     "output_type": "stream",
     "text": [
      "Dropping features: ['maxdeutsch1', 'maxdeutsch.Missing.']\n"
     ]
    }
   ],
   "source": [
    "if len(excluded_features_columns) > 0:\n",
    "    print(f\"Dropping features: {excluded_features_columns}\")\n",
    "    X_train.drop(excluded_features_columns, axis=1, inplace=True)"
   ]
  },
  {
   "cell_type": "code",
   "execution_count": 23,
   "id": "95ab8b16",
   "metadata": {
    "execution": {
     "iopub.execute_input": "2025-08-05T16:12:49.580201Z",
     "iopub.status.busy": "2025-08-05T16:12:49.579276Z",
     "iopub.status.idle": "2025-08-05T16:12:49.641253Z",
     "shell.execute_reply": "2025-08-05T16:12:49.640125Z"
    },
    "papermill": {
     "duration": 0.087418,
     "end_time": "2025-08-05T16:12:49.643581",
     "exception": false,
     "start_time": "2025-08-05T16:12:49.556163",
     "status": "completed"
    },
    "tags": []
   },
   "outputs": [
    {
     "name": "stdout",
     "output_type": "stream",
     "text": [
      "Dropping features: ['maxdeutsch1', 'maxdeutsch.Missing.']\n"
     ]
    }
   ],
   "source": [
    "if len(excluded_features_columns) > 0:\n",
    "    print(f\"Dropping features: {excluded_features_columns}\")\n",
    "    X_test.drop(excluded_features_columns, axis=1, inplace=True)"
   ]
  },
  {
   "cell_type": "code",
   "execution_count": 24,
   "id": "1853aaf5-fb9f-46cb-a2b5-8ea4ae2237e4",
   "metadata": {
    "execution": {
     "iopub.execute_input": "2025-08-05T16:12:49.691000Z",
     "iopub.status.busy": "2025-08-05T16:12:49.689940Z",
     "iopub.status.idle": "2025-08-05T16:12:49.747647Z",
     "shell.execute_reply": "2025-08-05T16:12:49.746645Z"
    },
    "papermill": {
     "duration": 0.08399,
     "end_time": "2025-08-05T16:12:49.749750",
     "exception": false,
     "start_time": "2025-08-05T16:12:49.665760",
     "status": "completed"
    },
    "tags": []
   },
   "outputs": [
    {
     "name": "stdout",
     "output_type": "stream",
     "text": [
      "Dropping features: ['maxdeutsch1', 'maxdeutsch.Missing.']\n"
     ]
    }
   ],
   "source": [
    "if len(excluded_features_columns) > 0:\n",
    "    print(f\"Dropping features: {excluded_features_columns}\")\n",
    "    X_calib.drop(excluded_features_columns, axis=1, inplace=True)"
   ]
  },
  {
   "cell_type": "code",
   "execution_count": 25,
   "id": "76c4dc6d",
   "metadata": {
    "execution": {
     "iopub.execute_input": "2025-08-05T16:12:49.795930Z",
     "iopub.status.busy": "2025-08-05T16:12:49.795209Z",
     "iopub.status.idle": "2025-08-05T16:12:49.801570Z",
     "shell.execute_reply": "2025-08-05T16:12:49.800562Z"
    },
    "papermill": {
     "duration": 0.031556,
     "end_time": "2025-08-05T16:12:49.803336",
     "exception": false,
     "start_time": "2025-08-05T16:12:49.771780",
     "status": "completed"
    },
    "tags": []
   },
   "outputs": [],
   "source": [
    "# EXCLUDE CERTAIN SUBGROUPS\n",
    "# ----------------------\n",
    "\n",
    "mode = universe.get(\"exclude_subgroups\", \"keep-all\") \n",
    "# Fetches the exclude_subgroups setting from the universe dict.\n",
    "# Defaults to \"keep-all\" if the key is missing."
   ]
  },
  {
   "cell_type": "code",
   "execution_count": 26,
   "id": "21994072",
   "metadata": {
    "execution": {
     "iopub.execute_input": "2025-08-05T16:12:49.848426Z",
     "iopub.status.busy": "2025-08-05T16:12:49.847512Z",
     "iopub.status.idle": "2025-08-05T16:12:49.855075Z",
     "shell.execute_reply": "2025-08-05T16:12:49.853963Z"
    },
    "papermill": {
     "duration": 0.032002,
     "end_time": "2025-08-05T16:12:49.856901",
     "exception": false,
     "start_time": "2025-08-05T16:12:49.824899",
     "status": "completed"
    },
    "tags": []
   },
   "outputs": [],
   "source": [
    "if mode == \"keep-all\":\n",
    "    keep_mask = pd.Series(True, index=org_train.index)\n",
    "\n",
    "# org_train contains the original feature columns from features_org (in Simson)\n",
    "# features_org contains unprocessed features, for me X_train at beginning ???\n",
    "# For keep-all, creates a boolean Series (keep_mask) of all True, so no rows are removed.\n",
    "\n",
    "elif mode == \"drop-non-german\":\n",
    "    keep_mask = org_train[\"maxdeutsch1\"] == 1 # ??? what about missing values?\n",
    "\n",
    "else:\n",
    "    raise ValueError(f\"Unsupported mode for exclude_subgroups: {mode}\")"
   ]
  },
  {
   "cell_type": "code",
   "execution_count": 27,
   "id": "71651440",
   "metadata": {
    "execution": {
     "iopub.execute_input": "2025-08-05T16:12:49.902284Z",
     "iopub.status.busy": "2025-08-05T16:12:49.901300Z",
     "iopub.status.idle": "2025-08-05T16:12:49.908310Z",
     "shell.execute_reply": "2025-08-05T16:12:49.907341Z"
    },
    "papermill": {
     "duration": 0.031524,
     "end_time": "2025-08-05T16:12:49.910107",
     "exception": false,
     "start_time": "2025-08-05T16:12:49.878583",
     "status": "completed"
    },
    "tags": []
   },
   "outputs": [],
   "source": [
    "n_drop = (~keep_mask).sum() # Calculates how many rows are set to be dropped\n",
    "if n_drop > 0:\n",
    "    pct = n_drop / len(keep_mask) * 100\n",
    "    print(f\"Dropping {n_drop} rows ({pct:.2f}%) where mode='{mode}'\")"
   ]
  },
  {
   "cell_type": "code",
   "execution_count": 28,
   "id": "5fb8eee5",
   "metadata": {
    "execution": {
     "iopub.execute_input": "2025-08-05T16:12:49.955167Z",
     "iopub.status.busy": "2025-08-05T16:12:49.954272Z",
     "iopub.status.idle": "2025-08-05T16:12:49.962075Z",
     "shell.execute_reply": "2025-08-05T16:12:49.960726Z"
    },
    "papermill": {
     "duration": 0.032027,
     "end_time": "2025-08-05T16:12:49.963809",
     "exception": false,
     "start_time": "2025-08-05T16:12:49.931782",
     "status": "completed"
    },
    "tags": []
   },
   "outputs": [],
   "source": [
    "X_train = X_train[keep_mask]"
   ]
  },
  {
   "cell_type": "code",
   "execution_count": 29,
   "id": "b202bb3a",
   "metadata": {
    "execution": {
     "iopub.execute_input": "2025-08-05T16:12:50.009399Z",
     "iopub.status.busy": "2025-08-05T16:12:50.008682Z",
     "iopub.status.idle": "2025-08-05T16:12:50.015605Z",
     "shell.execute_reply": "2025-08-05T16:12:50.014653Z"
    },
    "papermill": {
     "duration": 0.031436,
     "end_time": "2025-08-05T16:12:50.017319",
     "exception": false,
     "start_time": "2025-08-05T16:12:49.985883",
     "status": "completed"
    },
    "tags": []
   },
   "outputs": [],
   "source": [
    "y_train = y_train[keep_mask]"
   ]
  },
  {
   "cell_type": "markdown",
   "id": "493e2ac3",
   "metadata": {
    "papermill": {
     "duration": 0.02155,
     "end_time": "2025-08-05T16:12:50.060464",
     "exception": false,
     "start_time": "2025-08-05T16:12:50.038914",
     "status": "completed"
    },
    "tags": []
   },
   "source": [
    "# Model Training"
   ]
  },
  {
   "cell_type": "code",
   "execution_count": 30,
   "id": "679e1268",
   "metadata": {
    "execution": {
     "iopub.execute_input": "2025-08-05T16:12:50.106353Z",
     "iopub.status.busy": "2025-08-05T16:12:50.105712Z",
     "iopub.status.idle": "2025-08-05T16:12:50.227048Z",
     "shell.execute_reply": "2025-08-05T16:12:50.225945Z"
    },
    "papermill": {
     "duration": 0.146936,
     "end_time": "2025-08-05T16:12:50.229218",
     "exception": false,
     "start_time": "2025-08-05T16:12:50.082282",
     "status": "completed"
    },
    "tags": []
   },
   "outputs": [],
   "source": [
    "from sklearn.linear_model import LogisticRegression\n",
    "from sklearn.ensemble import GradientBoostingClassifier, RandomForestClassifier\n",
    "\n",
    "if (universe[\"model\"] == \"logreg\"):\n",
    "    model = LogisticRegression() #penalty=\"none\", solver=\"newton-cg\", max_iter=1) # include random_state=19 ?\n",
    "elif (universe[\"model\"] == \"penalized_logreg\"):\n",
    "    model = LogisticRegression(penalty=\"l2\", C=0.1) #, solver=\"newton-cg\", max_iter=1)\n",
    "elif (universe[\"model\"] == \"rf\"):\n",
    "    model = RandomForestClassifier() # n_estimators=100, n_jobs=-1\n",
    "elif (universe[\"model\"] == \"gbm\"):\n",
    "    model = GradientBoostingClassifier()\n",
    "elif (universe[\"model\"] == \"elasticnet\"):\n",
    "    model = LogisticRegression(penalty = 'elasticnet', solver = 'saga', l1_ratio = 0.5) # max_iter=5000\n",
    "else:\n",
    "    raise \"Unsupported universe.model\""
   ]
  },
  {
   "cell_type": "code",
   "execution_count": 31,
   "id": "0cc8f744",
   "metadata": {
    "execution": {
     "iopub.execute_input": "2025-08-05T16:12:50.276112Z",
     "iopub.status.busy": "2025-08-05T16:12:50.275259Z",
     "iopub.status.idle": "2025-08-05T16:12:50.282393Z",
     "shell.execute_reply": "2025-08-05T16:12:50.281376Z"
    },
    "papermill": {
     "duration": 0.03214,
     "end_time": "2025-08-05T16:12:50.284124",
     "exception": false,
     "start_time": "2025-08-05T16:12:50.251984",
     "status": "completed"
    },
    "tags": []
   },
   "outputs": [],
   "source": [
    "import numpy as np\n",
    "from sklearn.pipeline import Pipeline\n",
    "from sklearn.preprocessing import StandardScaler\n",
    "\n",
    "model = Pipeline([\n",
    "    #(\"continuous_processor\", continuous_processor),\n",
    "    #(\"categorical_preprocessor\", categorical_preprocessor),\n",
    "    (\"scale\", StandardScaler() if universe[\"scale\"] == \"scale\" else None), \n",
    "    (\"model\", model),\n",
    "])"
   ]
  },
  {
   "cell_type": "code",
   "execution_count": 32,
   "id": "9442c04d",
   "metadata": {
    "execution": {
     "iopub.execute_input": "2025-08-05T16:12:50.330198Z",
     "iopub.status.busy": "2025-08-05T16:12:50.329137Z",
     "iopub.status.idle": "2025-08-05T16:12:51.651404Z",
     "shell.execute_reply": "2025-08-05T16:12:51.650567Z"
    },
    "papermill": {
     "duration": 1.346919,
     "end_time": "2025-08-05T16:12:51.653164",
     "exception": false,
     "start_time": "2025-08-05T16:12:50.306245",
     "status": "completed"
    },
    "tags": []
   },
   "outputs": [
    {
     "data": {
      "text/html": [
       "<style>#sk-container-id-1 {color: black;background-color: white;}#sk-container-id-1 pre{padding: 0;}#sk-container-id-1 div.sk-toggleable {background-color: white;}#sk-container-id-1 label.sk-toggleable__label {cursor: pointer;display: block;width: 100%;margin-bottom: 0;padding: 0.3em;box-sizing: border-box;text-align: center;}#sk-container-id-1 label.sk-toggleable__label-arrow:before {content: \"▸\";float: left;margin-right: 0.25em;color: #696969;}#sk-container-id-1 label.sk-toggleable__label-arrow:hover:before {color: black;}#sk-container-id-1 div.sk-estimator:hover label.sk-toggleable__label-arrow:before {color: black;}#sk-container-id-1 div.sk-toggleable__content {max-height: 0;max-width: 0;overflow: hidden;text-align: left;background-color: #f0f8ff;}#sk-container-id-1 div.sk-toggleable__content pre {margin: 0.2em;color: black;border-radius: 0.25em;background-color: #f0f8ff;}#sk-container-id-1 input.sk-toggleable__control:checked~div.sk-toggleable__content {max-height: 200px;max-width: 100%;overflow: auto;}#sk-container-id-1 input.sk-toggleable__control:checked~label.sk-toggleable__label-arrow:before {content: \"▾\";}#sk-container-id-1 div.sk-estimator input.sk-toggleable__control:checked~label.sk-toggleable__label {background-color: #d4ebff;}#sk-container-id-1 div.sk-label input.sk-toggleable__control:checked~label.sk-toggleable__label {background-color: #d4ebff;}#sk-container-id-1 input.sk-hidden--visually {border: 0;clip: rect(1px 1px 1px 1px);clip: rect(1px, 1px, 1px, 1px);height: 1px;margin: -1px;overflow: hidden;padding: 0;position: absolute;width: 1px;}#sk-container-id-1 div.sk-estimator {font-family: monospace;background-color: #f0f8ff;border: 1px dotted black;border-radius: 0.25em;box-sizing: border-box;margin-bottom: 0.5em;}#sk-container-id-1 div.sk-estimator:hover {background-color: #d4ebff;}#sk-container-id-1 div.sk-parallel-item::after {content: \"\";width: 100%;border-bottom: 1px solid gray;flex-grow: 1;}#sk-container-id-1 div.sk-label:hover label.sk-toggleable__label {background-color: #d4ebff;}#sk-container-id-1 div.sk-serial::before {content: \"\";position: absolute;border-left: 1px solid gray;box-sizing: border-box;top: 0;bottom: 0;left: 50%;z-index: 0;}#sk-container-id-1 div.sk-serial {display: flex;flex-direction: column;align-items: center;background-color: white;padding-right: 0.2em;padding-left: 0.2em;position: relative;}#sk-container-id-1 div.sk-item {position: relative;z-index: 1;}#sk-container-id-1 div.sk-parallel {display: flex;align-items: stretch;justify-content: center;background-color: white;position: relative;}#sk-container-id-1 div.sk-item::before, #sk-container-id-1 div.sk-parallel-item::before {content: \"\";position: absolute;border-left: 1px solid gray;box-sizing: border-box;top: 0;bottom: 0;left: 50%;z-index: -1;}#sk-container-id-1 div.sk-parallel-item {display: flex;flex-direction: column;z-index: 1;position: relative;background-color: white;}#sk-container-id-1 div.sk-parallel-item:first-child::after {align-self: flex-end;width: 50%;}#sk-container-id-1 div.sk-parallel-item:last-child::after {align-self: flex-start;width: 50%;}#sk-container-id-1 div.sk-parallel-item:only-child::after {width: 0;}#sk-container-id-1 div.sk-dashed-wrapped {border: 1px dashed gray;margin: 0 0.4em 0.5em 0.4em;box-sizing: border-box;padding-bottom: 0.4em;background-color: white;}#sk-container-id-1 div.sk-label label {font-family: monospace;font-weight: bold;display: inline-block;line-height: 1.2em;}#sk-container-id-1 div.sk-label-container {text-align: center;}#sk-container-id-1 div.sk-container {/* jupyter's `normalize.less` sets `[hidden] { display: none; }` but bootstrap.min.css set `[hidden] { display: none !important; }` so we also need the `!important` here to be able to override the default hidden behavior on the sphinx rendered scikit-learn.org. See: https://github.com/scikit-learn/scikit-learn/issues/21755 */display: inline-block !important;position: relative;}#sk-container-id-1 div.sk-text-repr-fallback {display: none;}</style><div id=\"sk-container-id-1\" class=\"sk-top-container\"><div class=\"sk-text-repr-fallback\"><pre>Pipeline(steps=[(&#x27;scale&#x27;, None), (&#x27;model&#x27;, GradientBoostingClassifier())])</pre><b>In a Jupyter environment, please rerun this cell to show the HTML representation or trust the notebook. <br />On GitHub, the HTML representation is unable to render, please try loading this page with nbviewer.org.</b></div><div class=\"sk-container\" hidden><div class=\"sk-item sk-dashed-wrapped\"><div class=\"sk-label-container\"><div class=\"sk-label sk-toggleable\"><input class=\"sk-toggleable__control sk-hidden--visually\" id=\"sk-estimator-id-1\" type=\"checkbox\" ><label for=\"sk-estimator-id-1\" class=\"sk-toggleable__label sk-toggleable__label-arrow\">Pipeline</label><div class=\"sk-toggleable__content\"><pre>Pipeline(steps=[(&#x27;scale&#x27;, None), (&#x27;model&#x27;, GradientBoostingClassifier())])</pre></div></div></div><div class=\"sk-serial\"><div class=\"sk-item\"><div class=\"sk-estimator sk-toggleable\"><input class=\"sk-toggleable__control sk-hidden--visually\" id=\"sk-estimator-id-2\" type=\"checkbox\" ><label for=\"sk-estimator-id-2\" class=\"sk-toggleable__label sk-toggleable__label-arrow\">None</label><div class=\"sk-toggleable__content\"><pre>None</pre></div></div></div><div class=\"sk-item\"><div class=\"sk-estimator sk-toggleable\"><input class=\"sk-toggleable__control sk-hidden--visually\" id=\"sk-estimator-id-3\" type=\"checkbox\" ><label for=\"sk-estimator-id-3\" class=\"sk-toggleable__label sk-toggleable__label-arrow\">GradientBoostingClassifier</label><div class=\"sk-toggleable__content\"><pre>GradientBoostingClassifier()</pre></div></div></div></div></div></div></div>"
      ],
      "text/plain": [
       "Pipeline(steps=[('scale', None), ('model', GradientBoostingClassifier())])"
      ]
     },
     "execution_count": 32,
     "metadata": {},
     "output_type": "execute_result"
    }
   ],
   "source": [
    "model.fit(X_train, y_train.values.ravel())"
   ]
  },
  {
   "cell_type": "code",
   "execution_count": 33,
   "id": "af59f8c0",
   "metadata": {
    "execution": {
     "iopub.execute_input": "2025-08-05T16:12:51.709723Z",
     "iopub.status.busy": "2025-08-05T16:12:51.709225Z",
     "iopub.status.idle": "2025-08-05T16:12:51.716073Z",
     "shell.execute_reply": "2025-08-05T16:12:51.715019Z"
    },
    "papermill": {
     "duration": 0.033029,
     "end_time": "2025-08-05T16:12:51.717907",
     "exception": false,
     "start_time": "2025-08-05T16:12:51.684878",
     "status": "completed"
    },
    "tags": []
   },
   "outputs": [],
   "source": [
    "from fairness_multiverse.universe import predict_w_threshold"
   ]
  },
  {
   "cell_type": "code",
   "execution_count": 34,
   "id": "a7cf2e16",
   "metadata": {
    "execution": {
     "iopub.execute_input": "2025-08-05T16:12:51.766143Z",
     "iopub.status.busy": "2025-08-05T16:12:51.765192Z",
     "iopub.status.idle": "2025-08-05T16:12:52.236910Z",
     "shell.execute_reply": "2025-08-05T16:12:52.236043Z"
    },
    "papermill": {
     "duration": 0.497185,
     "end_time": "2025-08-05T16:12:52.238421",
     "exception": false,
     "start_time": "2025-08-05T16:12:51.741236",
     "status": "completed"
    },
    "tags": []
   },
   "outputs": [
    {
     "data": {
      "text/plain": [
       "0.8497268977817412"
      ]
     },
     "execution_count": 34,
     "metadata": {},
     "output_type": "execute_result"
    }
   ],
   "source": [
    "probs_test = model.predict_proba(X_test)\n",
    "\n",
    "'''\n",
    "Below code returns a boolean array (or binary 0/1 array depending on how it’s used) where each element \n",
    "is True if the probability of class 1 is greater than or equal to the threshold, and False otherwise.\n",
    "'''\n",
    "y_pred_default = predict_w_threshold(probs_test, 0.5)\n",
    "\n",
    "from sklearn.metrics import accuracy_score\n",
    "\n",
    "# Naive prediction\n",
    "accuracy_score(y_true = y_true, y_pred = y_pred_default)"
   ]
  },
  {
   "cell_type": "code",
   "execution_count": 35,
   "id": "081964c3",
   "metadata": {
    "execution": {
     "iopub.execute_input": "2025-08-05T16:12:52.266609Z",
     "iopub.status.busy": "2025-08-05T16:12:52.265727Z",
     "iopub.status.idle": "2025-08-05T16:12:52.676174Z",
     "shell.execute_reply": "2025-08-05T16:12:52.675358Z"
    },
    "papermill": {
     "duration": 0.425858,
     "end_time": "2025-08-05T16:12:52.677665",
     "exception": false,
     "start_time": "2025-08-05T16:12:52.251807",
     "status": "completed"
    },
    "tags": []
   },
   "outputs": [
    {
     "data": {
      "text/plain": [
       "array([0, 0, 0, ..., 0, 0, 0])"
      ]
     },
     "execution_count": 35,
     "metadata": {},
     "output_type": "execute_result"
    }
   ],
   "source": [
    "model.predict(X_test)"
   ]
  },
  {
   "cell_type": "markdown",
   "id": "56c9705b",
   "metadata": {
    "papermill": {
     "duration": 0.012503,
     "end_time": "2025-08-05T16:12:52.703403",
     "exception": false,
     "start_time": "2025-08-05T16:12:52.690900",
     "status": "completed"
    },
    "tags": []
   },
   "source": [
    "# Conformal Prediction"
   ]
  },
  {
   "cell_type": "code",
   "execution_count": 36,
   "id": "160ec6ff",
   "metadata": {
    "execution": {
     "iopub.execute_input": "2025-08-05T16:12:52.730223Z",
     "iopub.status.busy": "2025-08-05T16:12:52.729613Z",
     "iopub.status.idle": "2025-08-05T16:12:52.735217Z",
     "shell.execute_reply": "2025-08-05T16:12:52.734427Z"
    },
    "papermill": {
     "duration": 0.020738,
     "end_time": "2025-08-05T16:12:52.736690",
     "exception": false,
     "start_time": "2025-08-05T16:12:52.715952",
     "status": "completed"
    },
    "tags": []
   },
   "outputs": [],
   "source": [
    "# Miscoverage level for conformal prediction (10% allowed error rate => 90% target coverage)\n",
    "alpha = 0.1"
   ]
  },
  {
   "cell_type": "code",
   "execution_count": 37,
   "id": "eadf4555-3dd3-440e-8e35-f82a4ad9f855",
   "metadata": {
    "execution": {
     "iopub.execute_input": "2025-08-05T16:12:52.764725Z",
     "iopub.status.busy": "2025-08-05T16:12:52.763836Z",
     "iopub.status.idle": "2025-08-05T16:12:53.168806Z",
     "shell.execute_reply": "2025-08-05T16:12:53.167922Z"
    },
    "papermill": {
     "duration": 0.420535,
     "end_time": "2025-08-05T16:12:53.170535",
     "exception": false,
     "start_time": "2025-08-05T16:12:52.750000",
     "status": "completed"
    },
    "tags": []
   },
   "outputs": [],
   "source": [
    "probs_calib = model.predict_proba(X_calib)"
   ]
  },
  {
   "cell_type": "code",
   "execution_count": 38,
   "id": "2ed93547-6d5d-4983-9b36-1ecb300da49a",
   "metadata": {
    "execution": {
     "iopub.execute_input": "2025-08-05T16:12:53.198518Z",
     "iopub.status.busy": "2025-08-05T16:12:53.197677Z",
     "iopub.status.idle": "2025-08-05T16:12:53.203547Z",
     "shell.execute_reply": "2025-08-05T16:12:53.202733Z"
    },
    "papermill": {
     "duration": 0.021157,
     "end_time": "2025-08-05T16:12:53.205132",
     "exception": false,
     "start_time": "2025-08-05T16:12:53.183975",
     "status": "completed"
    },
    "tags": []
   },
   "outputs": [],
   "source": [
    "y_calib = y_calib.values.ravel().astype(int)"
   ]
  },
  {
   "cell_type": "code",
   "execution_count": 39,
   "id": "65d1320d-f588-4b38-9072-62af1ae97f7d",
   "metadata": {
    "execution": {
     "iopub.execute_input": "2025-08-05T16:12:53.233166Z",
     "iopub.status.busy": "2025-08-05T16:12:53.232265Z",
     "iopub.status.idle": "2025-08-05T16:12:53.239494Z",
     "shell.execute_reply": "2025-08-05T16:12:53.238626Z"
    },
    "papermill": {
     "duration": 0.022401,
     "end_time": "2025-08-05T16:12:53.241036",
     "exception": false,
     "start_time": "2025-08-05T16:12:53.218635",
     "status": "completed"
    },
    "tags": []
   },
   "outputs": [],
   "source": [
    "from fairness_multiverse.conformal import compute_nc_scores\n",
    "\n",
    "# Compute nonconformity scores on calibration set (1 - probability of true class)\n",
    "nc_scores = compute_nc_scores(probs_calib, y_calib)"
   ]
  },
  {
   "cell_type": "code",
   "execution_count": 40,
   "id": "df3b8ca3-53b7-43d5-9667-7c85da7aeda2",
   "metadata": {
    "execution": {
     "iopub.execute_input": "2025-08-05T16:12:53.269036Z",
     "iopub.status.busy": "2025-08-05T16:12:53.268224Z",
     "iopub.status.idle": "2025-08-05T16:12:53.274471Z",
     "shell.execute_reply": "2025-08-05T16:12:53.273701Z"
    },
    "papermill": {
     "duration": 0.021503,
     "end_time": "2025-08-05T16:12:53.276017",
     "exception": false,
     "start_time": "2025-08-05T16:12:53.254514",
     "status": "completed"
    },
    "tags": []
   },
   "outputs": [],
   "source": [
    "from fairness_multiverse.conformal import find_threshold\n",
    "\n",
    "# Find conformal threshold q_hat for the given alpha (split conformal method)\n",
    "q_hat = find_threshold(nc_scores, alpha)"
   ]
  },
  {
   "cell_type": "code",
   "execution_count": 41,
   "id": "4d29e6c1-0ef6-4aa4-b8fe-4fe79b0d033a",
   "metadata": {
    "execution": {
     "iopub.execute_input": "2025-08-05T16:12:53.305679Z",
     "iopub.status.busy": "2025-08-05T16:12:53.305061Z",
     "iopub.status.idle": "2025-08-05T16:12:53.312731Z",
     "shell.execute_reply": "2025-08-05T16:12:53.311859Z"
    },
    "papermill": {
     "duration": 0.023089,
     "end_time": "2025-08-05T16:12:53.314264",
     "exception": false,
     "start_time": "2025-08-05T16:12:53.291175",
     "status": "completed"
    },
    "tags": []
   },
   "outputs": [
    {
     "data": {
      "text/plain": [
       "0.7470942757361663"
      ]
     },
     "execution_count": 41,
     "metadata": {},
     "output_type": "execute_result"
    }
   ],
   "source": [
    "q_hat"
   ]
  },
  {
   "cell_type": "code",
   "execution_count": 42,
   "id": "92460794-cdac-4be2-ba28-f28c0515a6fb",
   "metadata": {
    "execution": {
     "iopub.execute_input": "2025-08-05T16:12:53.342779Z",
     "iopub.status.busy": "2025-08-05T16:12:53.341951Z",
     "iopub.status.idle": "2025-08-05T16:12:54.578586Z",
     "shell.execute_reply": "2025-08-05T16:12:54.577009Z"
    },
    "papermill": {
     "duration": 1.252687,
     "end_time": "2025-08-05T16:12:54.580681",
     "exception": false,
     "start_time": "2025-08-05T16:12:53.327994",
     "status": "completed"
    },
    "tags": []
   },
   "outputs": [],
   "source": [
    "from fairness_multiverse.conformal import predict_conformal_sets\n",
    "\n",
    "# Generate prediction sets for each test example\n",
    "pred_sets = predict_conformal_sets(model, X_test, q_hat)"
   ]
  },
  {
   "cell_type": "code",
   "execution_count": 43,
   "id": "d90c9a65-e6db-4f5d-80cd-e68fb7e46829",
   "metadata": {
    "execution": {
     "iopub.execute_input": "2025-08-05T16:12:54.632280Z",
     "iopub.status.busy": "2025-08-05T16:12:54.631759Z",
     "iopub.status.idle": "2025-08-05T16:12:54.638825Z",
     "shell.execute_reply": "2025-08-05T16:12:54.637603Z"
    },
    "papermill": {
     "duration": 0.037018,
     "end_time": "2025-08-05T16:12:54.640948",
     "exception": false,
     "start_time": "2025-08-05T16:12:54.603930",
     "status": "completed"
    },
    "tags": []
   },
   "outputs": [],
   "source": [
    "y_true = y_true.squeeze()"
   ]
  },
  {
   "cell_type": "code",
   "execution_count": 44,
   "id": "3a58a54a-1e68-46b9-927a-df01f18aebc8",
   "metadata": {
    "execution": {
     "iopub.execute_input": "2025-08-05T16:12:54.702923Z",
     "iopub.status.busy": "2025-08-05T16:12:54.702426Z",
     "iopub.status.idle": "2025-08-05T16:12:55.751667Z",
     "shell.execute_reply": "2025-08-05T16:12:55.750720Z"
    },
    "papermill": {
     "duration": 1.085549,
     "end_time": "2025-08-05T16:12:55.753314",
     "exception": false,
     "start_time": "2025-08-05T16:12:54.667765",
     "status": "completed"
    },
    "tags": []
   },
   "outputs": [],
   "source": [
    "from fairness_multiverse.conformal import evaluate_sets\n",
    "\n",
    "# Evaluate coverage and average set size on test data\n",
    "metrics = evaluate_sets(pred_sets, y_true)"
   ]
  },
  {
   "cell_type": "markdown",
   "id": "2b569c12-9aaa-4c88-98c9-bbcd0cf3ebb8",
   "metadata": {
    "papermill": {
     "duration": 0.013037,
     "end_time": "2025-08-05T16:12:55.780050",
     "exception": false,
     "start_time": "2025-08-05T16:12:55.767013",
     "status": "completed"
    },
    "tags": []
   },
   "source": [
    "# CP Metrics"
   ]
  },
  {
   "cell_type": "code",
   "execution_count": 45,
   "id": "5ce0a5cb-201f-45a0-ade5-94c7f0bd6095",
   "metadata": {
    "execution": {
     "iopub.execute_input": "2025-08-05T16:12:55.808552Z",
     "iopub.status.busy": "2025-08-05T16:12:55.808129Z",
     "iopub.status.idle": "2025-08-05T16:12:55.815136Z",
     "shell.execute_reply": "2025-08-05T16:12:55.814086Z"
    },
    "papermill": {
     "duration": 0.023157,
     "end_time": "2025-08-05T16:12:55.816596",
     "exception": false,
     "start_time": "2025-08-05T16:12:55.793439",
     "status": "completed"
    },
    "tags": []
   },
   "outputs": [
    {
     "data": {
      "text/plain": [
       "{'coverage': 0.9095641511537176, 'avg_size': 1.157106231189388}"
      ]
     },
     "execution_count": 45,
     "metadata": {},
     "output_type": "execute_result"
    }
   ],
   "source": [
    "metrics"
   ]
  },
  {
   "cell_type": "code",
   "execution_count": 46,
   "id": "9b9a838d-31c9-430b-ae14-12baee460d17",
   "metadata": {
    "execution": {
     "iopub.execute_input": "2025-08-05T16:12:55.847040Z",
     "iopub.status.busy": "2025-08-05T16:12:55.846601Z",
     "iopub.status.idle": "2025-08-05T16:12:55.852284Z",
     "shell.execute_reply": "2025-08-05T16:12:55.851479Z"
    },
    "papermill": {
     "duration": 0.022176,
     "end_time": "2025-08-05T16:12:55.853962",
     "exception": false,
     "start_time": "2025-08-05T16:12:55.831786",
     "status": "completed"
    },
    "tags": []
   },
   "outputs": [],
   "source": [
    "example_universe = universe.copy()\n",
    "universe_training_year = example_universe.get(\"training_year\")\n",
    "universe_training_size = example_universe.get(\"training_size\")\n",
    "universe_scale = example_universe.get(\"scale\")\n",
    "universe_model = example_universe.get(\"model\")\n",
    "universe_exclude_features = example_universe.get(\"exclude_features\")\n",
    "universe_exclude_subgroups = example_universe.get(\"exclude_subgroups\")"
   ]
  },
  {
   "cell_type": "code",
   "execution_count": 47,
   "id": "f4b6a8ac-9dc0-4245-8a91-5b3b5999c4f9",
   "metadata": {
    "execution": {
     "iopub.execute_input": "2025-08-05T16:12:55.904346Z",
     "iopub.status.busy": "2025-08-05T16:12:55.903559Z",
     "iopub.status.idle": "2025-08-05T16:12:55.909640Z",
     "shell.execute_reply": "2025-08-05T16:12:55.908754Z"
    },
    "papermill": {
     "duration": 0.035291,
     "end_time": "2025-08-05T16:12:55.913443",
     "exception": false,
     "start_time": "2025-08-05T16:12:55.878152",
     "status": "completed"
    },
    "tags": []
   },
   "outputs": [],
   "source": [
    "cp_metrics_dict = {\n",
    "    \"universe_id\": [universe_id],\n",
    "    \"universe_training_year\": [universe_training_year],\n",
    "    \"universe_training_size\": [universe_training_size],\n",
    "    \"universe_scale\": [universe_scale],\n",
    "    \"universe_model\": [universe_model],\n",
    "    \"universe_exclude_features\": [universe_exclude_features],\n",
    "    \"universe_exclude_subgroups\": [universe_exclude_subgroups],\n",
    "    \"q_hat\": [q_hat],\n",
    "    \"coverage\": [metrics[\"coverage\"]],\n",
    "    \"avg_size\": [metrics[\"avg_size\"]],\n",
    "}"
   ]
  },
  {
   "cell_type": "code",
   "execution_count": 48,
   "id": "908acbb1-0371-4915-85ca-3fa520d2efe2",
   "metadata": {
    "execution": {
     "iopub.execute_input": "2025-08-05T16:12:55.949942Z",
     "iopub.status.busy": "2025-08-05T16:12:55.949039Z",
     "iopub.status.idle": "2025-08-05T16:12:55.955924Z",
     "shell.execute_reply": "2025-08-05T16:12:55.954960Z"
    },
    "papermill": {
     "duration": 0.026953,
     "end_time": "2025-08-05T16:12:55.957423",
     "exception": false,
     "start_time": "2025-08-05T16:12:55.930470",
     "status": "completed"
    },
    "tags": []
   },
   "outputs": [
    {
     "data": {
      "text/plain": [
       "{'universe_id': ['4fe275890e60c4b7b97b9c650de2a732'],\n",
       " 'universe_training_year': ['2014'],\n",
       " 'universe_training_size': ['1k'],\n",
       " 'universe_scale': ['do-not-scale'],\n",
       " 'universe_model': ['gbm'],\n",
       " 'universe_exclude_features': ['nationality'],\n",
       " 'universe_exclude_subgroups': ['keep-all'],\n",
       " 'q_hat': [0.7470942757361663],\n",
       " 'coverage': [0.9095641511537176],\n",
       " 'avg_size': [1.157106231189388]}"
      ]
     },
     "execution_count": 48,
     "metadata": {},
     "output_type": "execute_result"
    }
   ],
   "source": [
    "cp_metrics_dict"
   ]
  },
  {
   "cell_type": "code",
   "execution_count": 49,
   "id": "33007efc-14e9-4ec6-97ac-56a455c82265",
   "metadata": {
    "execution": {
     "iopub.execute_input": "2025-08-05T16:12:55.985710Z",
     "iopub.status.busy": "2025-08-05T16:12:55.985137Z",
     "iopub.status.idle": "2025-08-05T16:12:55.990353Z",
     "shell.execute_reply": "2025-08-05T16:12:55.989497Z"
    },
    "papermill": {
     "duration": 0.020798,
     "end_time": "2025-08-05T16:12:55.991792",
     "exception": false,
     "start_time": "2025-08-05T16:12:55.970994",
     "status": "completed"
    },
    "tags": []
   },
   "outputs": [],
   "source": [
    "cp_metrics_df = pd.DataFrame(cp_metrics_dict)"
   ]
  },
  {
   "cell_type": "code",
   "execution_count": 50,
   "id": "db12611b-57b2-4910-b9d0-355adfd6e7bf",
   "metadata": {
    "execution": {
     "iopub.execute_input": "2025-08-05T16:12:56.026951Z",
     "iopub.status.busy": "2025-08-05T16:12:56.026347Z",
     "iopub.status.idle": "2025-08-05T16:12:56.041582Z",
     "shell.execute_reply": "2025-08-05T16:12:56.040761Z"
    },
    "papermill": {
     "duration": 0.031445,
     "end_time": "2025-08-05T16:12:56.042958",
     "exception": false,
     "start_time": "2025-08-05T16:12:56.011513",
     "status": "completed"
    },
    "tags": []
   },
   "outputs": [
    {
     "data": {
      "text/html": [
       "<div>\n",
       "<style scoped>\n",
       "    .dataframe tbody tr th:only-of-type {\n",
       "        vertical-align: middle;\n",
       "    }\n",
       "\n",
       "    .dataframe tbody tr th {\n",
       "        vertical-align: top;\n",
       "    }\n",
       "\n",
       "    .dataframe thead th {\n",
       "        text-align: right;\n",
       "    }\n",
       "</style>\n",
       "<table border=\"1\" class=\"dataframe\">\n",
       "  <thead>\n",
       "    <tr style=\"text-align: right;\">\n",
       "      <th></th>\n",
       "      <th>universe_id</th>\n",
       "      <th>universe_training_year</th>\n",
       "      <th>universe_training_size</th>\n",
       "      <th>universe_scale</th>\n",
       "      <th>universe_model</th>\n",
       "      <th>universe_exclude_features</th>\n",
       "      <th>universe_exclude_subgroups</th>\n",
       "      <th>q_hat</th>\n",
       "      <th>coverage</th>\n",
       "      <th>avg_size</th>\n",
       "    </tr>\n",
       "  </thead>\n",
       "  <tbody>\n",
       "    <tr>\n",
       "      <th>0</th>\n",
       "      <td>4fe275890e60c4b7b97b9c650de2a732</td>\n",
       "      <td>2014</td>\n",
       "      <td>1k</td>\n",
       "      <td>do-not-scale</td>\n",
       "      <td>gbm</td>\n",
       "      <td>nationality</td>\n",
       "      <td>keep-all</td>\n",
       "      <td>0.747094</td>\n",
       "      <td>0.909564</td>\n",
       "      <td>1.157106</td>\n",
       "    </tr>\n",
       "  </tbody>\n",
       "</table>\n",
       "</div>"
      ],
      "text/plain": [
       "                        universe_id universe_training_year  \\\n",
       "0  4fe275890e60c4b7b97b9c650de2a732                   2014   \n",
       "\n",
       "  universe_training_size universe_scale universe_model  \\\n",
       "0                     1k   do-not-scale            gbm   \n",
       "\n",
       "  universe_exclude_features universe_exclude_subgroups     q_hat  coverage  \\\n",
       "0               nationality                   keep-all  0.747094  0.909564   \n",
       "\n",
       "   avg_size  \n",
       "0  1.157106  "
      ]
     },
     "execution_count": 50,
     "metadata": {},
     "output_type": "execute_result"
    }
   ],
   "source": [
    "cp_metrics_df"
   ]
  },
  {
   "cell_type": "code",
   "execution_count": 51,
   "id": "b7fbde55-a0a1-47e4-9af6-fe4a17fa8c61",
   "metadata": {
    "execution": {
     "iopub.execute_input": "2025-08-05T16:12:56.078812Z",
     "iopub.status.busy": "2025-08-05T16:12:56.077868Z",
     "iopub.status.idle": "2025-08-05T16:12:56.083439Z",
     "shell.execute_reply": "2025-08-05T16:12:56.082451Z"
    },
    "papermill": {
     "duration": 0.022429,
     "end_time": "2025-08-05T16:12:56.085268",
     "exception": false,
     "start_time": "2025-08-05T16:12:56.062839",
     "status": "completed"
    },
    "tags": []
   },
   "outputs": [],
   "source": [
    "# Conditional Coverage & looking at subgroups"
   ]
  },
  {
   "cell_type": "code",
   "execution_count": 52,
   "id": "027ae886-68dd-4141-96c7-805a5450e1ef",
   "metadata": {
    "execution": {
     "iopub.execute_input": "2025-08-05T16:12:56.139637Z",
     "iopub.status.busy": "2025-08-05T16:12:56.139132Z",
     "iopub.status.idle": "2025-08-05T16:12:56.433349Z",
     "shell.execute_reply": "2025-08-05T16:12:56.432200Z"
    },
    "papermill": {
     "duration": 0.322654,
     "end_time": "2025-08-05T16:12:56.435757",
     "exception": false,
     "start_time": "2025-08-05T16:12:56.113103",
     "status": "completed"
    },
    "tags": []
   },
   "outputs": [],
   "source": [
    "from fairness_multiverse.conformal import build_cp_groups\n",
    "\n",
    "cp_groups_df = build_cp_groups(pred_sets, y_true, X_test.index, org_test)\n",
    "#needs universe_id and setting"
   ]
  },
  {
   "cell_type": "code",
   "execution_count": 53,
   "id": "6cbdab96-b2b2-45af-ad54-d0516db2e28d",
   "metadata": {
    "execution": {
     "iopub.execute_input": "2025-08-05T16:12:56.494075Z",
     "iopub.status.busy": "2025-08-05T16:12:56.493593Z",
     "iopub.status.idle": "2025-08-05T16:12:58.384214Z",
     "shell.execute_reply": "2025-08-05T16:12:58.382989Z"
    },
    "papermill": {
     "duration": 1.922143,
     "end_time": "2025-08-05T16:12:58.386712",
     "exception": false,
     "start_time": "2025-08-05T16:12:56.464569",
     "status": "completed"
    },
    "tags": []
   },
   "outputs": [],
   "source": [
    "# Define covered = 1 if true_label is in the predicted set\n",
    "cp_groups_df['covered'] = cp_groups_df.apply(\n",
    "    lambda r: int(r['true_label'] in r['pred_set']),\n",
    "    axis=1\n",
    ")"
   ]
  },
  {
   "cell_type": "code",
   "execution_count": 54,
   "id": "338ff529-1a6b-4b87-a931-8e4788d52aad",
   "metadata": {
    "execution": {
     "iopub.execute_input": "2025-08-05T16:12:58.452730Z",
     "iopub.status.busy": "2025-08-05T16:12:58.451934Z",
     "iopub.status.idle": "2025-08-05T16:12:58.458310Z",
     "shell.execute_reply": "2025-08-05T16:12:58.457104Z"
    },
    "papermill": {
     "duration": 0.04145,
     "end_time": "2025-08-05T16:12:58.460302",
     "exception": false,
     "start_time": "2025-08-05T16:12:58.418852",
     "status": "completed"
    },
    "tags": []
   },
   "outputs": [],
   "source": [
    "#cp_groups_df"
   ]
  },
  {
   "cell_type": "code",
   "execution_count": 55,
   "id": "90032e27-66df-4540-9169-4e89cfbaa758",
   "metadata": {
    "execution": {
     "iopub.execute_input": "2025-08-05T16:12:58.526117Z",
     "iopub.status.busy": "2025-08-05T16:12:58.524904Z",
     "iopub.status.idle": "2025-08-05T16:12:58.542086Z",
     "shell.execute_reply": "2025-08-05T16:12:58.540705Z"
    },
    "papermill": {
     "duration": 0.052755,
     "end_time": "2025-08-05T16:12:58.544547",
     "exception": false,
     "start_time": "2025-08-05T16:12:58.491792",
     "status": "completed"
    },
    "tags": []
   },
   "outputs": [],
   "source": [
    "subgroups = ['frau1','nongerman','nongerman_male','nongerman_female']\n",
    "\n",
    "# Conditional coverage for subgroup==1\n",
    "cond_coverage = {\n",
    "    g: cp_groups_df.loc[cp_groups_df[g]==1, 'covered'].mean()\n",
    "    for g in subgroups\n",
    "}"
   ]
  },
  {
   "cell_type": "code",
   "execution_count": 56,
   "id": "1e348fb1-b9c3-45bc-ba23-f016827a7e0d",
   "metadata": {
    "execution": {
     "iopub.execute_input": "2025-08-05T16:12:58.610767Z",
     "iopub.status.busy": "2025-08-05T16:12:58.609983Z",
     "iopub.status.idle": "2025-08-05T16:12:58.618905Z",
     "shell.execute_reply": "2025-08-05T16:12:58.617629Z"
    },
    "papermill": {
     "duration": 0.044182,
     "end_time": "2025-08-05T16:12:58.620891",
     "exception": false,
     "start_time": "2025-08-05T16:12:58.576709",
     "status": "completed"
    },
    "tags": []
   },
   "outputs": [
    {
     "data": {
      "text/plain": [
       "{'frau1': 0.9058363660870737,\n",
       " 'nongerman': 0.906753494638747,\n",
       " 'nongerman_male': 0.924705034675313,\n",
       " 'nongerman_female': 0.8770491803278688}"
      ]
     },
     "execution_count": 56,
     "metadata": {},
     "output_type": "execute_result"
    }
   ],
   "source": [
    "cond_coverage"
   ]
  },
  {
   "cell_type": "code",
   "execution_count": 57,
   "id": "f5093324-c3dd-4d63-bc4c-8d945e5c8bbb",
   "metadata": {
    "execution": {
     "iopub.execute_input": "2025-08-05T16:12:58.676741Z",
     "iopub.status.busy": "2025-08-05T16:12:58.675726Z",
     "iopub.status.idle": "2025-08-05T16:12:58.684272Z",
     "shell.execute_reply": "2025-08-05T16:12:58.683033Z"
    },
    "papermill": {
     "duration": 0.039363,
     "end_time": "2025-08-05T16:12:58.686738",
     "exception": false,
     "start_time": "2025-08-05T16:12:58.647375",
     "status": "completed"
    },
    "tags": []
   },
   "outputs": [],
   "source": [
    "for subgroup, cov in cond_coverage.items():\n",
    "    cp_metrics_df[f\"cov_{subgroup}\"] = cov"
   ]
  },
  {
   "cell_type": "code",
   "execution_count": 58,
   "id": "6e872e10-dbe5-49e8-b554-5030c98ff75d",
   "metadata": {
    "execution": {
     "iopub.execute_input": "2025-08-05T16:12:58.752777Z",
     "iopub.status.busy": "2025-08-05T16:12:58.751968Z",
     "iopub.status.idle": "2025-08-05T16:12:58.776947Z",
     "shell.execute_reply": "2025-08-05T16:12:58.775824Z"
    },
    "papermill": {
     "duration": 0.060317,
     "end_time": "2025-08-05T16:12:58.778590",
     "exception": false,
     "start_time": "2025-08-05T16:12:58.718273",
     "status": "completed"
    },
    "tags": []
   },
   "outputs": [
    {
     "data": {
      "text/html": [
       "<div>\n",
       "<style scoped>\n",
       "    .dataframe tbody tr th:only-of-type {\n",
       "        vertical-align: middle;\n",
       "    }\n",
       "\n",
       "    .dataframe tbody tr th {\n",
       "        vertical-align: top;\n",
       "    }\n",
       "\n",
       "    .dataframe thead th {\n",
       "        text-align: right;\n",
       "    }\n",
       "</style>\n",
       "<table border=\"1\" class=\"dataframe\">\n",
       "  <thead>\n",
       "    <tr style=\"text-align: right;\">\n",
       "      <th></th>\n",
       "      <th>universe_id</th>\n",
       "      <th>universe_training_year</th>\n",
       "      <th>universe_training_size</th>\n",
       "      <th>universe_scale</th>\n",
       "      <th>universe_model</th>\n",
       "      <th>universe_exclude_features</th>\n",
       "      <th>universe_exclude_subgroups</th>\n",
       "      <th>q_hat</th>\n",
       "      <th>coverage</th>\n",
       "      <th>avg_size</th>\n",
       "      <th>cov_frau1</th>\n",
       "      <th>cov_nongerman</th>\n",
       "      <th>cov_nongerman_male</th>\n",
       "      <th>cov_nongerman_female</th>\n",
       "    </tr>\n",
       "  </thead>\n",
       "  <tbody>\n",
       "    <tr>\n",
       "      <th>0</th>\n",
       "      <td>4fe275890e60c4b7b97b9c650de2a732</td>\n",
       "      <td>2014</td>\n",
       "      <td>1k</td>\n",
       "      <td>do-not-scale</td>\n",
       "      <td>gbm</td>\n",
       "      <td>nationality</td>\n",
       "      <td>keep-all</td>\n",
       "      <td>0.747094</td>\n",
       "      <td>0.909564</td>\n",
       "      <td>1.157106</td>\n",
       "      <td>0.905836</td>\n",
       "      <td>0.906753</td>\n",
       "      <td>0.924705</td>\n",
       "      <td>0.877049</td>\n",
       "    </tr>\n",
       "  </tbody>\n",
       "</table>\n",
       "</div>"
      ],
      "text/plain": [
       "                        universe_id universe_training_year  \\\n",
       "0  4fe275890e60c4b7b97b9c650de2a732                   2014   \n",
       "\n",
       "  universe_training_size universe_scale universe_model  \\\n",
       "0                     1k   do-not-scale            gbm   \n",
       "\n",
       "  universe_exclude_features universe_exclude_subgroups     q_hat  coverage  \\\n",
       "0               nationality                   keep-all  0.747094  0.909564   \n",
       "\n",
       "   avg_size  cov_frau1  cov_nongerman  cov_nongerman_male  \\\n",
       "0  1.157106   0.905836       0.906753            0.924705   \n",
       "\n",
       "   cov_nongerman_female  \n",
       "0              0.877049  "
      ]
     },
     "execution_count": 58,
     "metadata": {},
     "output_type": "execute_result"
    }
   ],
   "source": [
    "cp_metrics_df"
   ]
  },
  {
   "cell_type": "markdown",
   "id": "33774451",
   "metadata": {
    "papermill": {
     "duration": 0.015145,
     "end_time": "2025-08-05T16:12:58.809480",
     "exception": false,
     "start_time": "2025-08-05T16:12:58.794335",
     "status": "completed"
    },
    "tags": []
   },
   "source": [
    "# (Fairness) Metrics"
   ]
  },
  {
   "cell_type": "code",
   "execution_count": 59,
   "id": "debc5d62",
   "metadata": {
    "execution": {
     "iopub.execute_input": "2025-08-05T16:12:58.842040Z",
     "iopub.status.busy": "2025-08-05T16:12:58.841156Z",
     "iopub.status.idle": "2025-08-05T16:12:58.857957Z",
     "shell.execute_reply": "2025-08-05T16:12:58.856918Z"
    },
    "papermill": {
     "duration": 0.035449,
     "end_time": "2025-08-05T16:12:58.859846",
     "exception": false,
     "start_time": "2025-08-05T16:12:58.824397",
     "status": "completed"
    },
    "tags": []
   },
   "outputs": [],
   "source": [
    "# do I need to include maxdeutsch1.missing?\n",
    "\n",
    "import numpy as np\n",
    "\n",
    "colname_to_bin = \"maxdeutsch1\"\n",
    "majority_value = org_train[colname_to_bin].mode()[0]\n",
    "\n",
    "org_test[\"majmin\"] = np.where(org_test[colname_to_bin] == majority_value, \"majority\", \"minority\")"
   ]
  },
  {
   "cell_type": "code",
   "execution_count": 60,
   "id": "06a50de5",
   "metadata": {
    "execution": {
     "iopub.execute_input": "2025-08-05T16:12:58.892678Z",
     "iopub.status.busy": "2025-08-05T16:12:58.891539Z",
     "iopub.status.idle": "2025-08-05T16:13:01.148498Z",
     "shell.execute_reply": "2025-08-05T16:13:01.147602Z"
    },
    "papermill": {
     "duration": 2.274932,
     "end_time": "2025-08-05T16:13:01.150276",
     "exception": false,
     "start_time": "2025-08-05T16:12:58.875344",
     "status": "completed"
    },
    "tags": []
   },
   "outputs": [],
   "source": [
    "example_universe = universe.copy()\n",
    "example_universe[\"cutoff\"] = example_universe[\"cutoff\"][0]\n",
    "example_universe[\"eval_fairness_grouping\"] = example_universe[\"eval_fairness_grouping\"][0]\n",
    "fairness_dict, metric_frame = universe_analysis.compute_metrics(\n",
    "    example_universe,\n",
    "    y_pred_prob=probs_test,\n",
    "    y_test=y_true,\n",
    "    org_test=org_test,\n",
    ")"
   ]
  },
  {
   "cell_type": "markdown",
   "id": "f95d4e02",
   "metadata": {
    "papermill": {
     "duration": 0.014711,
     "end_time": "2025-08-05T16:13:01.180409",
     "exception": false,
     "start_time": "2025-08-05T16:13:01.165698",
     "status": "completed"
    },
    "tags": []
   },
   "source": [
    "# Overall"
   ]
  },
  {
   "cell_type": "markdown",
   "id": "bdee4871",
   "metadata": {
    "papermill": {
     "duration": 0.014901,
     "end_time": "2025-08-05T16:13:01.210047",
     "exception": false,
     "start_time": "2025-08-05T16:13:01.195146",
     "status": "completed"
    },
    "tags": []
   },
   "source": [
    "Fairness\n",
    "Main fairness target: Equalized Odds. Seems to be a better fit than equal opportunity, since we're not only interested in Y = 1. Seems to be a better fit than demographic parity, since we also care about accuracy, not just equal distribution of preds.\n",
    "\n",
    "Pick column for computation of fairness metrics\n",
    "\n",
    "Performance\n",
    "Overall performance measures, most interesting in relation to the measures split by group below"
   ]
  },
  {
   "cell_type": "code",
   "execution_count": 61,
   "id": "c4e067c6",
   "metadata": {
    "execution": {
     "iopub.execute_input": "2025-08-05T16:13:01.241092Z",
     "iopub.status.busy": "2025-08-05T16:13:01.240349Z",
     "iopub.status.idle": "2025-08-05T16:13:01.248993Z",
     "shell.execute_reply": "2025-08-05T16:13:01.248163Z"
    },
    "papermill": {
     "duration": 0.025973,
     "end_time": "2025-08-05T16:13:01.250672",
     "exception": false,
     "start_time": "2025-08-05T16:13:01.224699",
     "status": "completed"
    },
    "tags": []
   },
   "outputs": [
    {
     "data": {
      "text/plain": [
       "accuracy                   0.221592\n",
       "balanced accuracy          0.542405\n",
       "f1                         0.243000\n",
       "precision                  0.138818\n",
       "false positive rate        0.889120\n",
       "false negative rate        0.026069\n",
       "selection rate             0.900000\n",
       "count                  89710.000000\n",
       "dtype: float64"
      ]
     },
     "execution_count": 61,
     "metadata": {},
     "output_type": "execute_result"
    }
   ],
   "source": [
    "metric_frame.overall"
   ]
  },
  {
   "cell_type": "markdown",
   "id": "e968fe9d",
   "metadata": {
    "papermill": {
     "duration": 0.015042,
     "end_time": "2025-08-05T16:13:01.280800",
     "exception": false,
     "start_time": "2025-08-05T16:13:01.265758",
     "status": "completed"
    },
    "tags": []
   },
   "source": [
    "By Group"
   ]
  },
  {
   "cell_type": "code",
   "execution_count": 62,
   "id": "ec325bce",
   "metadata": {
    "execution": {
     "iopub.execute_input": "2025-08-05T16:13:01.312837Z",
     "iopub.status.busy": "2025-08-05T16:13:01.311863Z",
     "iopub.status.idle": "2025-08-05T16:13:01.326744Z",
     "shell.execute_reply": "2025-08-05T16:13:01.325606Z"
    },
    "papermill": {
     "duration": 0.033053,
     "end_time": "2025-08-05T16:13:01.328849",
     "exception": false,
     "start_time": "2025-08-05T16:13:01.295796",
     "status": "completed"
    },
    "tags": []
   },
   "outputs": [
    {
     "data": {
      "text/html": [
       "<div>\n",
       "<style scoped>\n",
       "    .dataframe tbody tr th:only-of-type {\n",
       "        vertical-align: middle;\n",
       "    }\n",
       "\n",
       "    .dataframe tbody tr th {\n",
       "        vertical-align: top;\n",
       "    }\n",
       "\n",
       "    .dataframe thead th {\n",
       "        text-align: right;\n",
       "    }\n",
       "</style>\n",
       "<table border=\"1\" class=\"dataframe\">\n",
       "  <thead>\n",
       "    <tr style=\"text-align: right;\">\n",
       "      <th></th>\n",
       "      <th>accuracy</th>\n",
       "      <th>balanced accuracy</th>\n",
       "      <th>f1</th>\n",
       "      <th>precision</th>\n",
       "      <th>false positive rate</th>\n",
       "      <th>false negative rate</th>\n",
       "      <th>selection rate</th>\n",
       "      <th>count</th>\n",
       "    </tr>\n",
       "    <tr>\n",
       "      <th>majmin</th>\n",
       "      <th></th>\n",
       "      <th></th>\n",
       "      <th></th>\n",
       "      <th></th>\n",
       "      <th></th>\n",
       "      <th></th>\n",
       "      <th></th>\n",
       "      <th></th>\n",
       "    </tr>\n",
       "  </thead>\n",
       "  <tbody>\n",
       "    <tr>\n",
       "      <th>majority</th>\n",
       "      <td>0.242851</td>\n",
       "      <td>0.550939</td>\n",
       "      <td>0.252875</td>\n",
       "      <td>0.145395</td>\n",
       "      <td>0.867816</td>\n",
       "      <td>0.030306</td>\n",
       "      <td>0.881278</td>\n",
       "      <td>69170.0</td>\n",
       "    </tr>\n",
       "    <tr>\n",
       "      <th>minority</th>\n",
       "      <td>0.150000</td>\n",
       "      <td>0.515395</td>\n",
       "      <td>0.211748</td>\n",
       "      <td>0.118548</td>\n",
       "      <td>0.959498</td>\n",
       "      <td>0.009713</td>\n",
       "      <td>0.963048</td>\n",
       "      <td>20540.0</td>\n",
       "    </tr>\n",
       "  </tbody>\n",
       "</table>\n",
       "</div>"
      ],
      "text/plain": [
       "          accuracy  balanced accuracy        f1  precision  \\\n",
       "majmin                                                       \n",
       "majority  0.242851           0.550939  0.252875   0.145395   \n",
       "minority  0.150000           0.515395  0.211748   0.118548   \n",
       "\n",
       "          false positive rate  false negative rate  selection rate    count  \n",
       "majmin                                                                       \n",
       "majority             0.867816             0.030306        0.881278  69170.0  \n",
       "minority             0.959498             0.009713        0.963048  20540.0  "
      ]
     },
     "execution_count": 62,
     "metadata": {},
     "output_type": "execute_result"
    }
   ],
   "source": [
    "metric_frame.by_group"
   ]
  },
  {
   "cell_type": "code",
   "execution_count": 63,
   "id": "a9ddbe63",
   "metadata": {
    "execution": {
     "iopub.execute_input": "2025-08-05T16:13:01.389189Z",
     "iopub.status.busy": "2025-08-05T16:13:01.388166Z",
     "iopub.status.idle": "2025-08-05T16:13:04.173505Z",
     "shell.execute_reply": "2025-08-05T16:13:04.172365Z"
    },
    "papermill": {
     "duration": 2.817517,
     "end_time": "2025-08-05T16:13:04.175693",
     "exception": false,
     "start_time": "2025-08-05T16:13:01.358176",
     "status": "completed"
    },
    "tags": []
   },
   "outputs": [
    {
     "data": {
      "text/plain": [
       "array([[<Axes: title={'center': 'accuracy'}, xlabel='majmin'>,\n",
       "        <Axes: title={'center': 'balanced accuracy'}, xlabel='majmin'>,\n",
       "        <Axes: title={'center': 'f1'}, xlabel='majmin'>],\n",
       "       [<Axes: title={'center': 'precision'}, xlabel='majmin'>,\n",
       "        <Axes: title={'center': 'false positive rate'}, xlabel='majmin'>,\n",
       "        <Axes: title={'center': 'false negative rate'}, xlabel='majmin'>],\n",
       "       [<Axes: title={'center': 'selection rate'}, xlabel='majmin'>,\n",
       "        <Axes: title={'center': 'count'}, xlabel='majmin'>,\n",
       "        <Axes: xlabel='majmin'>]], dtype=object)"
      ]
     },
     "execution_count": 63,
     "metadata": {},
     "output_type": "execute_result"
    },
    {
     "data": {
      "image/png": "[encoded data removed]",
      "text/plain": [
       "<Figure size 1200x800 with 9 Axes>"
      ]
     },
     "metadata": {},
     "output_type": "display_data"
    }
   ],
   "source": [
    "# In a graphic\n",
    "metric_frame.by_group.plot.bar(\n",
    "    subplots=True,\n",
    "    layout=[3, 3],\n",
    "    legend=False,\n",
    "    figsize=[12, 8],\n",
    "    title=\"Show all metrics\",\n",
    ")"
   ]
  },
  {
   "cell_type": "markdown",
   "id": "f57a0bac",
   "metadata": {
    "papermill": {
     "duration": 0.03405,
     "end_time": "2025-08-05T16:13:04.245570",
     "exception": false,
     "start_time": "2025-08-05T16:13:04.211520",
     "status": "completed"
    },
    "tags": []
   },
   "source": [
    "# Final Output"
   ]
  },
  {
   "cell_type": "code",
   "execution_count": 64,
   "id": "96d280a3",
   "metadata": {
    "execution": {
     "iopub.execute_input": "2025-08-05T16:13:04.316297Z",
     "iopub.status.busy": "2025-08-05T16:13:04.315349Z",
     "iopub.status.idle": "2025-08-05T16:13:04.324845Z",
     "shell.execute_reply": "2025-08-05T16:13:04.323620Z"
    },
    "papermill": {
     "duration": 0.047154,
     "end_time": "2025-08-05T16:13:04.326905",
     "exception": false,
     "start_time": "2025-08-05T16:13:04.279751",
     "status": "completed"
    },
    "tags": []
   },
   "outputs": [
    {
     "data": {
      "text/plain": [
       "4"
      ]
     },
     "execution_count": 64,
     "metadata": {},
     "output_type": "execute_result"
    }
   ],
   "source": [
    "sub_universes = universe_analysis.generate_sub_universes()\n",
    "len(sub_universes)"
   ]
  },
  {
   "cell_type": "code",
   "execution_count": 65,
   "id": "92adf7ba",
   "metadata": {
    "execution": {
     "iopub.execute_input": "2025-08-05T16:13:04.398265Z",
     "iopub.status.busy": "2025-08-05T16:13:04.397529Z",
     "iopub.status.idle": "2025-08-05T16:13:04.404467Z",
     "shell.execute_reply": "2025-08-05T16:13:04.403262Z"
    },
    "papermill": {
     "duration": 0.044368,
     "end_time": "2025-08-05T16:13:04.406286",
     "exception": false,
     "start_time": "2025-08-05T16:13:04.361918",
     "status": "completed"
    },
    "tags": []
   },
   "outputs": [],
   "source": [
    "def filter_sub_universe_data(sub_universe, org_test):\n",
    "    # Keep all rows — no filtering\n",
    "    keep_rows_mask = np.ones(org_test.shape[0], dtype=bool)\n",
    "\n",
    "    print(f\"[INFO] Keeping all rows: {keep_rows_mask.sum()} rows retained.\")\n",
    "    return keep_rows_mask"
   ]
  },
  {
   "cell_type": "code",
   "execution_count": 66,
   "id": "4a759155",
   "metadata": {
    "execution": {
     "iopub.execute_input": "2025-08-05T16:13:04.472384Z",
     "iopub.status.busy": "2025-08-05T16:13:04.471368Z",
     "iopub.status.idle": "2025-08-05T16:13:16.198262Z",
     "shell.execute_reply": "2025-08-05T16:13:16.196916Z"
    },
    "papermill": {
     "duration": 11.762291,
     "end_time": "2025-08-05T16:13:16.200364",
     "exception": false,
     "start_time": "2025-08-05T16:13:04.438073",
     "status": "completed"
    },
    "tags": []
   },
   "outputs": [
    {
     "name": "stdout",
     "output_type": "stream",
     "text": [
      "Stopping execution_time clock.\n",
      "[INFO] Keeping all rows: 89710 rows retained.\n"
     ]
    },
    {
     "name": "stdout",
     "output_type": "stream",
     "text": [
      "[INFO] Keeping all rows: 89710 rows retained.\n"
     ]
    },
    {
     "name": "stdout",
     "output_type": "stream",
     "text": [
      "[INFO] Keeping all rows: 89710 rows retained.\n"
     ]
    },
    {
     "name": "stdout",
     "output_type": "stream",
     "text": [
      "[INFO] Keeping all rows: 89710 rows retained.\n"
     ]
    },
    {
     "data": {
      "text/html": [
       "<div>\n",
       "<style scoped>\n",
       "    .dataframe tbody tr th:only-of-type {\n",
       "        vertical-align: middle;\n",
       "    }\n",
       "\n",
       "    .dataframe tbody tr th {\n",
       "        vertical-align: top;\n",
       "    }\n",
       "\n",
       "    .dataframe thead th {\n",
       "        text-align: right;\n",
       "    }\n",
       "</style>\n",
       "<table border=\"1\" class=\"dataframe\">\n",
       "  <thead>\n",
       "    <tr style=\"text-align: right;\">\n",
       "      <th></th>\n",
       "      <th>run_no</th>\n",
       "      <th>universe_id</th>\n",
       "      <th>universe_settings</th>\n",
       "      <th>execution_time</th>\n",
       "      <th>test_size_n</th>\n",
       "      <th>test_size_frac</th>\n",
       "      <th>fair_main_equalized_odds_difference</th>\n",
       "      <th>fair_main_equalized_odds_ratio</th>\n",
       "      <th>fair_main_demographic_parity_difference</th>\n",
       "      <th>fair_main_demographic_parity_ratio</th>\n",
       "      <th>...</th>\n",
       "      <th>perf_grp_precision_0</th>\n",
       "      <th>perf_grp_precision_1</th>\n",
       "      <th>perf_grp_false positive rate_0</th>\n",
       "      <th>perf_grp_false positive rate_1</th>\n",
       "      <th>perf_grp_false negative rate_0</th>\n",
       "      <th>perf_grp_false negative rate_1</th>\n",
       "      <th>perf_grp_selection rate_0</th>\n",
       "      <th>perf_grp_selection rate_1</th>\n",
       "      <th>perf_grp_count_0</th>\n",
       "      <th>perf_grp_count_1</th>\n",
       "    </tr>\n",
       "  </thead>\n",
       "  <tbody>\n",
       "    <tr>\n",
       "      <th>0</th>\n",
       "      <td>15</td>\n",
       "      <td>4fe275890e60c4b7b97b9c650de2a732</td>\n",
       "      <td>{\"cutoff\": \"quantile_0.1\", \"eval_fairness_grou...</td>\n",
       "      <td>29.225092</td>\n",
       "      <td>89710</td>\n",
       "      <td>1.0</td>\n",
       "      <td>0.091682</td>\n",
       "      <td>0.904448</td>\n",
       "      <td>0.081770</td>\n",
       "      <td>0.915093</td>\n",
       "      <td>...</td>\n",
       "      <td>NaN</td>\n",
       "      <td>NaN</td>\n",
       "      <td>NaN</td>\n",
       "      <td>NaN</td>\n",
       "      <td>NaN</td>\n",
       "      <td>NaN</td>\n",
       "      <td>NaN</td>\n",
       "      <td>NaN</td>\n",
       "      <td>NaN</td>\n",
       "      <td>NaN</td>\n",
       "    </tr>\n",
       "    <tr>\n",
       "      <th>0</th>\n",
       "      <td>15</td>\n",
       "      <td>4fe275890e60c4b7b97b9c650de2a732</td>\n",
       "      <td>{\"cutoff\": \"quantile_0.1\", \"eval_fairness_grou...</td>\n",
       "      <td>29.225092</td>\n",
       "      <td>89710</td>\n",
       "      <td>1.0</td>\n",
       "      <td>0.091682</td>\n",
       "      <td>0.904448</td>\n",
       "      <td>0.081770</td>\n",
       "      <td>0.915093</td>\n",
       "      <td>...</td>\n",
       "      <td>0.118548</td>\n",
       "      <td>0.145395</td>\n",
       "      <td>0.959498</td>\n",
       "      <td>0.867816</td>\n",
       "      <td>0.009713</td>\n",
       "      <td>0.030306</td>\n",
       "      <td>0.963048</td>\n",
       "      <td>0.881278</td>\n",
       "      <td>20540.0</td>\n",
       "      <td>69170.0</td>\n",
       "    </tr>\n",
       "    <tr>\n",
       "      <th>0</th>\n",
       "      <td>15</td>\n",
       "      <td>4fe275890e60c4b7b97b9c650de2a732</td>\n",
       "      <td>{\"cutoff\": \"quantile_0.25\", \"eval_fairness_gro...</td>\n",
       "      <td>29.225092</td>\n",
       "      <td>89710</td>\n",
       "      <td>1.0</td>\n",
       "      <td>0.110720</td>\n",
       "      <td>0.863314</td>\n",
       "      <td>0.095037</td>\n",
       "      <td>0.884562</td>\n",
       "      <td>...</td>\n",
       "      <td>NaN</td>\n",
       "      <td>NaN</td>\n",
       "      <td>NaN</td>\n",
       "      <td>NaN</td>\n",
       "      <td>NaN</td>\n",
       "      <td>NaN</td>\n",
       "      <td>NaN</td>\n",
       "      <td>NaN</td>\n",
       "      <td>NaN</td>\n",
       "      <td>NaN</td>\n",
       "    </tr>\n",
       "    <tr>\n",
       "      <th>0</th>\n",
       "      <td>15</td>\n",
       "      <td>4fe275890e60c4b7b97b9c650de2a732</td>\n",
       "      <td>{\"cutoff\": \"quantile_0.25\", \"eval_fairness_gro...</td>\n",
       "      <td>29.225092</td>\n",
       "      <td>89710</td>\n",
       "      <td>1.0</td>\n",
       "      <td>0.110720</td>\n",
       "      <td>0.863314</td>\n",
       "      <td>0.095037</td>\n",
       "      <td>0.884562</td>\n",
       "      <td>...</td>\n",
       "      <td>0.129509</td>\n",
       "      <td>0.166600</td>\n",
       "      <td>0.810037</td>\n",
       "      <td>0.699317</td>\n",
       "      <td>0.075169</td>\n",
       "      <td>0.081838</td>\n",
       "      <td>0.823272</td>\n",
       "      <td>0.728235</td>\n",
       "      <td>20540.0</td>\n",
       "      <td>69170.0</td>\n",
       "    </tr>\n",
       "  </tbody>\n",
       "</table>\n",
       "<p>4 rows × 50 columns</p>\n",
       "</div>"
      ],
      "text/plain": [
       "  run_no                       universe_id  \\\n",
       "0     15  4fe275890e60c4b7b97b9c650de2a732   \n",
       "0     15  4fe275890e60c4b7b97b9c650de2a732   \n",
       "0     15  4fe275890e60c4b7b97b9c650de2a732   \n",
       "0     15  4fe275890e60c4b7b97b9c650de2a732   \n",
       "\n",
       "                                   universe_settings  execution_time  \\\n",
       "0  {\"cutoff\": \"quantile_0.1\", \"eval_fairness_grou...       29.225092   \n",
       "0  {\"cutoff\": \"quantile_0.1\", \"eval_fairness_grou...       29.225092   \n",
       "0  {\"cutoff\": \"quantile_0.25\", \"eval_fairness_gro...       29.225092   \n",
       "0  {\"cutoff\": \"quantile_0.25\", \"eval_fairness_gro...       29.225092   \n",
       "\n",
       "   test_size_n  test_size_frac  fair_main_equalized_odds_difference  \\\n",
       "0        89710             1.0                             0.091682   \n",
       "0        89710             1.0                             0.091682   \n",
       "0        89710             1.0                             0.110720   \n",
       "0        89710             1.0                             0.110720   \n",
       "\n",
       "   fair_main_equalized_odds_ratio  fair_main_demographic_parity_difference  \\\n",
       "0                        0.904448                                 0.081770   \n",
       "0                        0.904448                                 0.081770   \n",
       "0                        0.863314                                 0.095037   \n",
       "0                        0.863314                                 0.095037   \n",
       "\n",
       "   fair_main_demographic_parity_ratio  ...  perf_grp_precision_0  \\\n",
       "0                            0.915093  ...                   NaN   \n",
       "0                            0.915093  ...              0.118548   \n",
       "0                            0.884562  ...                   NaN   \n",
       "0                            0.884562  ...              0.129509   \n",
       "\n",
       "   perf_grp_precision_1  perf_grp_false positive rate_0  \\\n",
       "0                   NaN                             NaN   \n",
       "0              0.145395                        0.959498   \n",
       "0                   NaN                             NaN   \n",
       "0              0.166600                        0.810037   \n",
       "\n",
       "   perf_grp_false positive rate_1  perf_grp_false negative rate_0  \\\n",
       "0                             NaN                             NaN   \n",
       "0                        0.867816                        0.009713   \n",
       "0                             NaN                             NaN   \n",
       "0                        0.699317                        0.075169   \n",
       "\n",
       "   perf_grp_false negative rate_1  perf_grp_selection rate_0  \\\n",
       "0                             NaN                        NaN   \n",
       "0                        0.030306                   0.963048   \n",
       "0                             NaN                        NaN   \n",
       "0                        0.081838                   0.823272   \n",
       "\n",
       "   perf_grp_selection rate_1  perf_grp_count_0  perf_grp_count_1  \n",
       "0                        NaN               NaN               NaN  \n",
       "0                   0.881278           20540.0           69170.0  \n",
       "0                        NaN               NaN               NaN  \n",
       "0                   0.728235           20540.0           69170.0  \n",
       "\n",
       "[4 rows x 50 columns]"
      ]
     },
     "execution_count": 66,
     "metadata": {},
     "output_type": "execute_result"
    }
   ],
   "source": [
    "final_output = universe_analysis.generate_final_output(\n",
    "    y_pred_prob=probs_test,\n",
    "    y_test=y_true,\n",
    "    org_test=org_test,\n",
    "    filter_data=filter_sub_universe_data,\n",
    "    cp_metrics_df=cp_metrics_df,\n",
    "    save=True,\n",
    ")\n",
    "final_output"
   ]
  }
 ],
 "metadata": {
  "celltoolbar": "Tags",
  "kernelspec": {
   "display_name": "Python (CMA Fairness)",
   "language": "python",
   "name": "cma_fair_env"
  },
  "language_info": {
   "codemirror_mode": {
    "name": "ipython",
    "version": 3
   },
   "file_extension": ".py",
   "mimetype": "text/x-python",
   "name": "python",
   "nbconvert_exporter": "python",
   "pygments_lexer": "ipython3",
   "version": "3.10.12"
  },
  "papermill": {
   "default_parameters": {},
   "duration": 45.316913,
   "end_time": "2025-08-05T16:13:17.157918",
   "environment_variables": {},
   "exception": null,
   "input_path": "universe_analysis.ipynb",
   "output_path": "output/runs/15/notebooks/m_15-4fe275890e60c4b7b97b9c650de2a732.ipynb",
   "parameters": {
    "output_dir": "output",
    "run_no": "15",
    "seed": "2023",
    "universe": "{\"cutoff\": [\"quantile_0.1\", \"quantile_0.25\"], \"eval_fairness_grouping\": [\"majority-minority\", \"nationality-all\"], \"exclude_features\": \"nationality\", \"exclude_subgroups\": \"keep-all\", \"model\": \"gbm\", \"scale\": \"do-not-scale\", \"training_size\": \"1k\", \"training_year\": \"2014\"}",
    "universe_id": "4fe275890e60c4b7b97b9c650de2a732"
   },
   "start_time": "2025-08-05T16:12:31.841005",
   "version": "2.6.0"
  }
 },
 "nbformat": 4,
 "nbformat_minor": 5
}