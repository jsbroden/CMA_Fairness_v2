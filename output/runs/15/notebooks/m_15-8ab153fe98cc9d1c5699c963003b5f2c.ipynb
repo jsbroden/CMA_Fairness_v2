{
 "cells": [
  {
   "cell_type": "code",
   "execution_count": 1,
   "id": "f159f837-637b-42ba-96b5-ec9a68c44524",
   "metadata": {
    "execution": {
     "iopub.execute_input": "2025-08-05T15:22:05.415630Z",
     "iopub.status.busy": "2025-08-05T15:22:05.415087Z",
     "iopub.status.idle": "2025-08-05T15:22:05.429350Z",
     "shell.execute_reply": "2025-08-05T15:22:05.428541Z"
    },
    "papermill": {
     "duration": 0.034332,
     "end_time": "2025-08-05T15:22:05.431108",
     "exception": false,
     "start_time": "2025-08-05T15:22:05.396776",
     "status": "completed"
    },
    "tags": []
   },
   "outputs": [
    {
     "name": "stdout",
     "output_type": "stream",
     "text": [
      "/dss/dsshome1/0C/ra93lal2/cma/CMA_Fairness_v2\n"
     ]
    },
    {
     "name": "stderr",
     "output_type": "stream",
     "text": [
      "/dss/dsshome1/0C/ra93lal2/.local/share/virtualenvs/CMA_Fairness_v2-3j10GkSs/lib/python3.10/site-packages/IPython/core/magics/osm.py:393: UserWarning: This is now an optional IPython functionality, using bookmarks requires you to install the `pickleshare` library.\n",
      "  bkms = self.shell.db.get('bookmarks', {})\n",
      "/dss/dsshome1/0C/ra93lal2/.local/share/virtualenvs/CMA_Fairness_v2-3j10GkSs/lib/python3.10/site-packages/IPython/core/magics/osm.py:417: UserWarning: This is now an optional IPython functionality, setting dhist requires you to install the `pickleshare` library.\n",
      "  self.shell.db['dhist'] = compress_dhist(dhist)[-100:]\n"
     ]
    }
   ],
   "source": [
    "%cd ~/cma/CMA_Fairness_v2"
   ]
  },
  {
   "cell_type": "markdown",
   "id": "de2603b9",
   "metadata": {
    "papermill": {
     "duration": 0.014583,
     "end_time": "2025-08-05T15:22:05.460871",
     "exception": false,
     "start_time": "2025-08-05T15:22:05.446288",
     "status": "completed"
    },
    "tags": []
   },
   "source": [
    "The following cell holds the definition of our parameters, these values can be overriden by rendering the with e.g. the following command:\n",
    "\n",
    "papermill -p alpha 0.2 -p ratio 0.3 universe_analysis.ipynb output/test_run.ipynb"
   ]
  },
  {
   "cell_type": "code",
   "execution_count": 2,
   "id": "a80968a0-40bb-4fa9-85ef-2d5eefb01975",
   "metadata": {
    "execution": {
     "iopub.execute_input": "2025-08-05T15:22:05.492522Z",
     "iopub.status.busy": "2025-08-05T15:22:05.492077Z",
     "iopub.status.idle": "2025-08-05T15:22:05.497396Z",
     "shell.execute_reply": "2025-08-05T15:22:05.496363Z"
    },
    "papermill": {
     "duration": 0.023215,
     "end_time": "2025-08-05T15:22:05.499105",
     "exception": false,
     "start_time": "2025-08-05T15:22:05.475890",
     "status": "completed"
    },
    "tags": []
   },
   "outputs": [
    {
     "name": "stdout",
     "output_type": "stream",
     "text": [
      "Current working directory: /dss/dsshome1/0C/ra93lal2/cma/CMA_Fairness_v2\n"
     ]
    }
   ],
   "source": [
    "import os\n",
    "print(\"Current working directory:\", os.getcwd())"
   ]
  },
  {
   "cell_type": "code",
   "execution_count": 3,
   "id": "2dce4c03",
   "metadata": {
    "execution": {
     "iopub.execute_input": "2025-08-05T15:22:05.534910Z",
     "iopub.status.busy": "2025-08-05T15:22:05.534522Z",
     "iopub.status.idle": "2025-08-05T15:22:05.538831Z",
     "shell.execute_reply": "2025-08-05T15:22:05.538037Z"
    },
    "papermill": {
     "duration": 0.023876,
     "end_time": "2025-08-05T15:22:05.540491",
     "exception": false,
     "start_time": "2025-08-05T15:22:05.516615",
     "status": "completed"
    },
    "tags": [
     "parameters"
    ]
   },
   "outputs": [],
   "source": [
    "run_no = 0\n",
    "universe_id = \"test\"\n",
    "universe = {\n",
    "    \"training_size\": \"25k\", # \"25k\", \"5k\", \"1k\"\n",
    "    \"training_year\": \"2014\", # \"2014\", \"2012_14\", \"2010_14\"\n",
    "    \"scale\": \"scale\", # \"scale\", \"do-not-scale\",\n",
    "    \"model\": \"elasticnet\", # \"logreg\", \"penalized_logreg\", \"rf\", \"gbm\", \"elasticnet\"\n",
    "    \"cutoff\": [\"quantile_0.15\", \"quantile_0.30\"],\n",
    "    \"exclude_features\": \"age\", # \"none\", \"nationality\", \"sex\", \"nationality-sex\", \"age\"\n",
    "    \"exclude_subgroups\": \"keep-all\", # \"keep-all\", \"drop-non-german\"\n",
    "    \"eval_fairness_grouping\": [\"majority-minority\", \"nationality-all\"]\n",
    "}\n",
    "\n",
    "output_dir=\"./output\"\n",
    "seed=0"
   ]
  },
  {
   "cell_type": "code",
   "execution_count": 4,
   "id": "5695ea1f",
   "metadata": {
    "execution": {
     "iopub.execute_input": "2025-08-05T15:22:05.576265Z",
     "iopub.status.busy": "2025-08-05T15:22:05.575638Z",
     "iopub.status.idle": "2025-08-05T15:22:05.580670Z",
     "shell.execute_reply": "2025-08-05T15:22:05.579673Z"
    },
    "papermill": {
     "duration": 0.02503,
     "end_time": "2025-08-05T15:22:05.582442",
     "exception": false,
     "start_time": "2025-08-05T15:22:05.557412",
     "status": "completed"
    },
    "tags": [
     "injected-parameters"
    ]
   },
   "outputs": [],
   "source": [
    "# Parameters\n",
    "universe_id = \"8ab153fe98cc9d1c5699c963003b5f2c\"\n",
    "run_no = \"15\"\n",
    "universe = \"{\\\"cutoff\\\": [\\\"quantile_0.1\\\", \\\"quantile_0.25\\\"], \\\"eval_fairness_grouping\\\": [\\\"majority-minority\\\", \\\"nationality-all\\\"], \\\"exclude_features\\\": \\\"sex\\\", \\\"exclude_subgroups\\\": \\\"keep-all\\\", \\\"model\\\": \\\"penalized_logreg\\\", \\\"scale\\\": \\\"scale\\\", \\\"training_size\\\": \\\"5k\\\", \\\"training_year\\\": \\\"2014\\\"}\"\n",
    "output_dir = \"output\"\n",
    "seed = \"2023\"\n"
   ]
  },
  {
   "cell_type": "code",
   "execution_count": 5,
   "id": "1650acaf",
   "metadata": {
    "execution": {
     "iopub.execute_input": "2025-08-05T15:22:05.619831Z",
     "iopub.status.busy": "2025-08-05T15:22:05.619126Z",
     "iopub.status.idle": "2025-08-05T15:22:05.624448Z",
     "shell.execute_reply": "2025-08-05T15:22:05.623273Z"
    },
    "papermill": {
     "duration": 0.026675,
     "end_time": "2025-08-05T15:22:05.626427",
     "exception": false,
     "start_time": "2025-08-05T15:22:05.599752",
     "status": "completed"
    },
    "tags": []
   },
   "outputs": [],
   "source": [
    "import json\n",
    "if isinstance(universe, str):\n",
    "    universe = json.loads(universe)"
   ]
  },
  {
   "cell_type": "code",
   "execution_count": 6,
   "id": "16620c48",
   "metadata": {
    "execution": {
     "iopub.execute_input": "2025-08-05T15:22:05.671070Z",
     "iopub.status.busy": "2025-08-05T15:22:05.670574Z",
     "iopub.status.idle": "2025-08-05T15:22:05.718245Z",
     "shell.execute_reply": "2025-08-05T15:22:05.717082Z"
    },
    "papermill": {
     "duration": 0.071491,
     "end_time": "2025-08-05T15:22:05.719901",
     "exception": false,
     "start_time": "2025-08-05T15:22:05.648410",
     "status": "completed"
    },
    "tags": []
   },
   "outputs": [],
   "source": [
    "# Auto-reload the custom package\n",
    "%load_ext autoreload\n",
    "%autoreload 1\n",
    "%aimport fairness_multiverse"
   ]
  },
  {
   "cell_type": "code",
   "execution_count": 7,
   "id": "01c5c9f3",
   "metadata": {
    "execution": {
     "iopub.execute_input": "2025-08-05T15:22:05.739918Z",
     "iopub.status.busy": "2025-08-05T15:22:05.739335Z",
     "iopub.status.idle": "2025-08-05T15:22:07.466882Z",
     "shell.execute_reply": "2025-08-05T15:22:07.465868Z"
    },
    "papermill": {
     "duration": 1.739523,
     "end_time": "2025-08-05T15:22:07.468782",
     "exception": false,
     "start_time": "2025-08-05T15:22:05.729259",
     "status": "completed"
    },
    "tags": []
   },
   "outputs": [],
   "source": [
    "from fairness_multiverse.universe import UniverseAnalysis\n",
    "\n",
    "universe_analysis = UniverseAnalysis(\n",
    "    run_no = run_no,\n",
    "    universe_id = universe_id,\n",
    "    universe = universe,\n",
    "    output_dir=output_dir,\n",
    ")"
   ]
  },
  {
   "cell_type": "code",
   "execution_count": 8,
   "id": "106241f5",
   "metadata": {
    "execution": {
     "iopub.execute_input": "2025-08-05T15:22:07.505853Z",
     "iopub.status.busy": "2025-08-05T15:22:07.505312Z",
     "iopub.status.idle": "2025-08-05T15:22:07.511785Z",
     "shell.execute_reply": "2025-08-05T15:22:07.510812Z"
    },
    "papermill": {
     "duration": 0.027049,
     "end_time": "2025-08-05T15:22:07.513455",
     "exception": false,
     "start_time": "2025-08-05T15:22:07.486406",
     "status": "completed"
    },
    "tags": []
   },
   "outputs": [
    {
     "name": "stdout",
     "output_type": "stream",
     "text": [
      "Using Seed: 2023\n"
     ]
    }
   ],
   "source": [
    "import numpy as np\n",
    "parsed_seed = int(seed)\n",
    "np.random.seed(parsed_seed)\n",
    "print(f\"Using Seed: {parsed_seed}\")"
   ]
  },
  {
   "cell_type": "markdown",
   "id": "e0ebdc57",
   "metadata": {
    "papermill": {
     "duration": 0.015416,
     "end_time": "2025-08-05T15:22:07.545126",
     "exception": false,
     "start_time": "2025-08-05T15:22:07.529710",
     "status": "completed"
    },
    "tags": []
   },
   "source": [
    "# Loading Data"
   ]
  },
  {
   "cell_type": "code",
   "execution_count": 9,
   "id": "f0496b8a",
   "metadata": {
    "execution": {
     "iopub.execute_input": "2025-08-05T15:22:07.580515Z",
     "iopub.status.busy": "2025-08-05T15:22:07.579401Z",
     "iopub.status.idle": "2025-08-05T15:22:19.869107Z",
     "shell.execute_reply": "2025-08-05T15:22:19.867911Z"
    },
    "papermill": {
     "duration": 12.309793,
     "end_time": "2025-08-05T15:22:19.870996",
     "exception": false,
     "start_time": "2025-08-05T15:22:07.561203",
     "status": "completed"
    },
    "tags": []
   },
   "outputs": [
    {
     "name": "stdout",
     "output_type": "stream",
     "text": [
      "Loading SIAB data from cache: data/siab_cached.csv.gz\n"
     ]
    },
    {
     "name": "stdout",
     "output_type": "stream",
     "text": [
      "(643690, 164)\n"
     ]
    }
   ],
   "source": [
    "from pathlib import Path\n",
    "import pandas as pd\n",
    "\n",
    "# File paths\n",
    "raw_file = Path(\"data/raw/siab.csv\")\n",
    "cache_file = Path(\"data/siab_cached.csv.gz\")\n",
    "\n",
    "# Ensure cache directory exists\n",
    "cache_file.parent.mkdir(parents=True, exist_ok=True)\n",
    "\n",
    "# Load with simple caching\n",
    "if cache_file.exists():\n",
    "    print(f\"Loading SIAB data from cache: {cache_file}\")\n",
    "    siab = pd.read_csv(cache_file, compression='gzip')\n",
    "else:\n",
    "    print(f\"Cache not found. Reading raw SIAB data: {raw_file}\")\n",
    "    siab = pd.read_csv(raw_file)\n",
    "    siab.to_csv(cache_file, index=False, compression='gzip')\n",
    "    print(f\"Cached SIAB data to: {cache_file}\")\n",
    "\n",
    "print(siab.shape)"
   ]
  },
  {
   "cell_type": "code",
   "execution_count": 10,
   "id": "db0ca512-5f53-4dba-abdb-a2888bca41ba",
   "metadata": {
    "execution": {
     "iopub.execute_input": "2025-08-05T15:22:19.911694Z",
     "iopub.status.busy": "2025-08-05T15:22:19.910765Z",
     "iopub.status.idle": "2025-08-05T15:22:19.917378Z",
     "shell.execute_reply": "2025-08-05T15:22:19.916325Z"
    },
    "papermill": {
     "duration": 0.027115,
     "end_time": "2025-08-05T15:22:19.919330",
     "exception": false,
     "start_time": "2025-08-05T15:22:19.892215",
     "status": "completed"
    },
    "tags": []
   },
   "outputs": [],
   "source": [
    "#siab"
   ]
  },
  {
   "cell_type": "markdown",
   "id": "997051c5-15bd-4b69-9786-c3001a3ce484",
   "metadata": {
    "papermill": {
     "duration": 0.017877,
     "end_time": "2025-08-05T15:22:19.955849",
     "exception": false,
     "start_time": "2025-08-05T15:22:19.937972",
     "status": "completed"
    },
    "tags": []
   },
   "source": [
    "# Splitting Data and Setting Training Data Size"
   ]
  },
  {
   "cell_type": "code",
   "execution_count": 11,
   "id": "aea9c6ef-6f46-42c8-85eb-5a62025c1508",
   "metadata": {
    "execution": {
     "iopub.execute_input": "2025-08-05T15:22:19.993173Z",
     "iopub.status.busy": "2025-08-05T15:22:19.992455Z",
     "iopub.status.idle": "2025-08-05T15:22:20.305543Z",
     "shell.execute_reply": "2025-08-05T15:22:20.304403Z"
    },
    "papermill": {
     "duration": 0.333687,
     "end_time": "2025-08-05T15:22:20.307466",
     "exception": false,
     "start_time": "2025-08-05T15:22:19.973779",
     "status": "completed"
    },
    "tags": []
   },
   "outputs": [],
   "source": [
    "from fairness_multiverse.universe import sample_by_year_size\n",
    "\n",
    "siab_train = sample_by_year_size(siab,\n",
    "                               training_year=universe[\"training_year\"],\n",
    "                               training_size=universe[\"training_size\"])"
   ]
  },
  {
   "cell_type": "code",
   "execution_count": 12,
   "id": "8d3afb32-789d-442c-8d5d-9f5aa8dd2eed",
   "metadata": {
    "execution": {
     "iopub.execute_input": "2025-08-05T15:22:20.343534Z",
     "iopub.status.busy": "2025-08-05T15:22:20.343033Z",
     "iopub.status.idle": "2025-08-05T15:22:20.348452Z",
     "shell.execute_reply": "2025-08-05T15:22:20.347353Z"
    },
    "papermill": {
     "duration": 0.02584,
     "end_time": "2025-08-05T15:22:20.350609",
     "exception": false,
     "start_time": "2025-08-05T15:22:20.324769",
     "status": "completed"
    },
    "tags": []
   },
   "outputs": [],
   "source": [
    "#siab_train.shape"
   ]
  },
  {
   "cell_type": "code",
   "execution_count": 13,
   "id": "d582db68-1a4c-47fb-84fc-08518dc1975a",
   "metadata": {
    "execution": {
     "iopub.execute_input": "2025-08-05T15:22:20.387142Z",
     "iopub.status.busy": "2025-08-05T15:22:20.386760Z",
     "iopub.status.idle": "2025-08-05T15:22:20.392140Z",
     "shell.execute_reply": "2025-08-05T15:22:20.390936Z"
    },
    "papermill": {
     "duration": 0.025106,
     "end_time": "2025-08-05T15:22:20.394429",
     "exception": false,
     "start_time": "2025-08-05T15:22:20.369323",
     "status": "completed"
    },
    "tags": []
   },
   "outputs": [],
   "source": [
    "#display(siab_train.groupby(\"year\").size())"
   ]
  },
  {
   "cell_type": "code",
   "execution_count": 14,
   "id": "a561edb4-d032-42cb-8256-22eac1111c64",
   "metadata": {
    "execution": {
     "iopub.execute_input": "2025-08-05T15:22:20.438863Z",
     "iopub.status.busy": "2025-08-05T15:22:20.438366Z",
     "iopub.status.idle": "2025-08-05T15:22:20.744292Z",
     "shell.execute_reply": "2025-08-05T15:22:20.742784Z"
    },
    "papermill": {
     "duration": 0.33022,
     "end_time": "2025-08-05T15:22:20.746009",
     "exception": false,
     "start_time": "2025-08-05T15:22:20.415789",
     "status": "completed"
    },
    "tags": []
   },
   "outputs": [],
   "source": [
    "#siab_train = siab_s[siab_s.year < 2015]\n",
    "siab_calib = siab[siab.year == 2015]\n",
    "siab_test = siab[siab.year == 2016]"
   ]
  },
  {
   "cell_type": "code",
   "execution_count": 15,
   "id": "472de16f-c3db-4916-846b-1f0de9cf1746",
   "metadata": {
    "execution": {
     "iopub.execute_input": "2025-08-05T15:22:20.769167Z",
     "iopub.status.busy": "2025-08-05T15:22:20.768720Z",
     "iopub.status.idle": "2025-08-05T15:22:20.780478Z",
     "shell.execute_reply": "2025-08-05T15:22:20.779162Z"
    },
    "papermill": {
     "duration": 0.02493,
     "end_time": "2025-08-05T15:22:20.782674",
     "exception": false,
     "start_time": "2025-08-05T15:22:20.757744",
     "status": "completed"
    },
    "tags": []
   },
   "outputs": [],
   "source": [
    "X_train = siab_train.iloc[:,4:164]\n",
    "y_train = siab_train.iloc[:, [3]]"
   ]
  },
  {
   "cell_type": "code",
   "execution_count": 16,
   "id": "828c96af-f43a-4ed6-ba47-8ac73a47d56c",
   "metadata": {
    "execution": {
     "iopub.execute_input": "2025-08-05T15:22:20.832697Z",
     "iopub.status.busy": "2025-08-05T15:22:20.831574Z",
     "iopub.status.idle": "2025-08-05T15:22:20.890558Z",
     "shell.execute_reply": "2025-08-05T15:22:20.889090Z"
    },
    "papermill": {
     "duration": 0.077445,
     "end_time": "2025-08-05T15:22:20.892769",
     "exception": false,
     "start_time": "2025-08-05T15:22:20.815324",
     "status": "completed"
    },
    "tags": []
   },
   "outputs": [],
   "source": [
    "X_calib = siab_calib.iloc[:,4:164]\n",
    "y_calib = siab_calib.iloc[:, [3]]"
   ]
  },
  {
   "cell_type": "code",
   "execution_count": 17,
   "id": "c34be9c3-6bd6-476e-acd3-845840e303be",
   "metadata": {
    "execution": {
     "iopub.execute_input": "2025-08-05T15:22:20.937790Z",
     "iopub.status.busy": "2025-08-05T15:22:20.937133Z",
     "iopub.status.idle": "2025-08-05T15:22:21.014704Z",
     "shell.execute_reply": "2025-08-05T15:22:21.013423Z"
    },
    "papermill": {
     "duration": 0.103006,
     "end_time": "2025-08-05T15:22:21.017399",
     "exception": false,
     "start_time": "2025-08-05T15:22:20.914393",
     "status": "completed"
    },
    "tags": []
   },
   "outputs": [],
   "source": [
    "X_test = siab_test.iloc[:,4:164]\n",
    "y_true = siab_test.iloc[:, [3]]"
   ]
  },
  {
   "cell_type": "code",
   "execution_count": 18,
   "id": "e6c733c5",
   "metadata": {
    "execution": {
     "iopub.execute_input": "2025-08-05T15:22:21.068810Z",
     "iopub.status.busy": "2025-08-05T15:22:21.068294Z",
     "iopub.status.idle": "2025-08-05T15:22:21.167057Z",
     "shell.execute_reply": "2025-08-05T15:22:21.166073Z"
    },
    "papermill": {
     "duration": 0.125262,
     "end_time": "2025-08-05T15:22:21.169131",
     "exception": false,
     "start_time": "2025-08-05T15:22:21.043869",
     "status": "completed"
    },
    "tags": []
   },
   "outputs": [],
   "source": [
    "# Auxiliary data needed downstream in the pipeline\n",
    "\n",
    "org_train = X_train.copy()\n",
    "org_test = X_test.copy()\n",
    "org_calib = X_calib.copy()"
   ]
  },
  {
   "cell_type": "markdown",
   "id": "0a4a1b33",
   "metadata": {
    "papermill": {
     "duration": 0.021714,
     "end_time": "2025-08-05T15:22:21.210719",
     "exception": false,
     "start_time": "2025-08-05T15:22:21.189005",
     "status": "completed"
    },
    "tags": []
   },
   "source": [
    "# Preprocessing Data"
   ]
  },
  {
   "cell_type": "code",
   "execution_count": 19,
   "id": "ca879031",
   "metadata": {
    "execution": {
     "iopub.execute_input": "2025-08-05T15:22:21.252874Z",
     "iopub.status.busy": "2025-08-05T15:22:21.252347Z",
     "iopub.status.idle": "2025-08-05T15:22:21.259349Z",
     "shell.execute_reply": "2025-08-05T15:22:21.258191Z"
    },
    "papermill": {
     "duration": 0.030634,
     "end_time": "2025-08-05T15:22:21.261206",
     "exception": false,
     "start_time": "2025-08-05T15:22:21.230572",
     "status": "completed"
    },
    "tags": []
   },
   "outputs": [],
   "source": [
    "# EXCLUDE PROTECTED FEATURES\n",
    "# ----------------------\n",
    "# \"exclude_features\": \"none\", # \"nationality\", \"sex\", \"nationality-sex\"\n",
    "\n",
    "excluded_features = universe[\"exclude_features\"].split(\"-\") # split, e.g.: \"nationality-sex\" -> [\"nationality\", \"sex\"]\n",
    "excluded_features_dictionary = {\n",
    "    \"nationality\": [\"maxdeutsch1\", \"maxdeutsch.Missing.\"],\n",
    "    \"sex\": [\"frau1\"],\n",
    "    \"age\": [\"age\"],\n",
    "}"
   ]
  },
  {
   "cell_type": "code",
   "execution_count": 20,
   "id": "b745ac60",
   "metadata": {
    "execution": {
     "iopub.execute_input": "2025-08-05T15:22:21.299144Z",
     "iopub.status.busy": "2025-08-05T15:22:21.298421Z",
     "iopub.status.idle": "2025-08-05T15:22:21.304497Z",
     "shell.execute_reply": "2025-08-05T15:22:21.303483Z"
    },
    "papermill": {
     "duration": 0.026254,
     "end_time": "2025-08-05T15:22:21.306436",
     "exception": false,
     "start_time": "2025-08-05T15:22:21.280182",
     "status": "completed"
    },
    "tags": []
   },
   "outputs": [],
   "source": [
    "# Code nice names to column names\n",
    "\n",
    "excluded_features_columns = [\n",
    "    excluded_features_dictionary[f] for f in excluded_features if len(f) > 0 and f != \"none\"\n",
    "]"
   ]
  },
  {
   "cell_type": "code",
   "execution_count": 21,
   "id": "f84f73a2",
   "metadata": {
    "execution": {
     "iopub.execute_input": "2025-08-05T15:22:21.349749Z",
     "iopub.status.busy": "2025-08-05T15:22:21.349215Z",
     "iopub.status.idle": "2025-08-05T15:22:21.356959Z",
     "shell.execute_reply": "2025-08-05T15:22:21.355651Z"
    },
    "papermill": {
     "duration": 0.031639,
     "end_time": "2025-08-05T15:22:21.359040",
     "exception": false,
     "start_time": "2025-08-05T15:22:21.327401",
     "status": "completed"
    },
    "tags": []
   },
   "outputs": [],
   "source": [
    "from utils import flatten_once\n",
    "\n",
    "excluded_features_columns = flatten_once(excluded_features_columns)"
   ]
  },
  {
   "cell_type": "code",
   "execution_count": 22,
   "id": "884dea22",
   "metadata": {
    "execution": {
     "iopub.execute_input": "2025-08-05T15:22:21.402202Z",
     "iopub.status.busy": "2025-08-05T15:22:21.401255Z",
     "iopub.status.idle": "2025-08-05T15:22:21.411511Z",
     "shell.execute_reply": "2025-08-05T15:22:21.410262Z"
    },
    "papermill": {
     "duration": 0.030546,
     "end_time": "2025-08-05T15:22:21.413315",
     "exception": false,
     "start_time": "2025-08-05T15:22:21.382769",
     "status": "completed"
    },
    "tags": []
   },
   "outputs": [
    {
     "name": "stdout",
     "output_type": "stream",
     "text": [
      "Dropping features: ['frau1']\n"
     ]
    }
   ],
   "source": [
    "if len(excluded_features_columns) > 0:\n",
    "    print(f\"Dropping features: {excluded_features_columns}\")\n",
    "    X_train.drop(excluded_features_columns, axis=1, inplace=True)"
   ]
  },
  {
   "cell_type": "code",
   "execution_count": 23,
   "id": "95ab8b16",
   "metadata": {
    "execution": {
     "iopub.execute_input": "2025-08-05T15:22:21.453157Z",
     "iopub.status.busy": "2025-08-05T15:22:21.452447Z",
     "iopub.status.idle": "2025-08-05T15:22:21.508673Z",
     "shell.execute_reply": "2025-08-05T15:22:21.507489Z"
    },
    "papermill": {
     "duration": 0.076702,
     "end_time": "2025-08-05T15:22:21.510585",
     "exception": false,
     "start_time": "2025-08-05T15:22:21.433883",
     "status": "completed"
    },
    "tags": []
   },
   "outputs": [
    {
     "name": "stdout",
     "output_type": "stream",
     "text": [
      "Dropping features: ['frau1']\n"
     ]
    }
   ],
   "source": [
    "if len(excluded_features_columns) > 0:\n",
    "    print(f\"Dropping features: {excluded_features_columns}\")\n",
    "    X_test.drop(excluded_features_columns, axis=1, inplace=True)"
   ]
  },
  {
   "cell_type": "code",
   "execution_count": 24,
   "id": "1853aaf5-fb9f-46cb-a2b5-8ea4ae2237e4",
   "metadata": {
    "execution": {
     "iopub.execute_input": "2025-08-05T15:22:21.549985Z",
     "iopub.status.busy": "2025-08-05T15:22:21.549005Z",
     "iopub.status.idle": "2025-08-05T15:22:21.604720Z",
     "shell.execute_reply": "2025-08-05T15:22:21.603544Z"
    },
    "papermill": {
     "duration": 0.077269,
     "end_time": "2025-08-05T15:22:21.606948",
     "exception": false,
     "start_time": "2025-08-05T15:22:21.529679",
     "status": "completed"
    },
    "tags": []
   },
   "outputs": [
    {
     "name": "stdout",
     "output_type": "stream",
     "text": [
      "Dropping features: ['frau1']\n"
     ]
    }
   ],
   "source": [
    "if len(excluded_features_columns) > 0:\n",
    "    print(f\"Dropping features: {excluded_features_columns}\")\n",
    "    X_calib.drop(excluded_features_columns, axis=1, inplace=True)"
   ]
  },
  {
   "cell_type": "code",
   "execution_count": 25,
   "id": "76c4dc6d",
   "metadata": {
    "execution": {
     "iopub.execute_input": "2025-08-05T15:22:21.646027Z",
     "iopub.status.busy": "2025-08-05T15:22:21.645689Z",
     "iopub.status.idle": "2025-08-05T15:22:21.666335Z",
     "shell.execute_reply": "2025-08-05T15:22:21.652256Z"
    },
    "papermill": {
     "duration": 0.041161,
     "end_time": "2025-08-05T15:22:21.668395",
     "exception": false,
     "start_time": "2025-08-05T15:22:21.627234",
     "status": "completed"
    },
    "tags": []
   },
   "outputs": [],
   "source": [
    "# EXCLUDE CERTAIN SUBGROUPS\n",
    "# ----------------------\n",
    "\n",
    "mode = universe.get(\"exclude_subgroups\", \"keep-all\") \n",
    "# Fetches the exclude_subgroups setting from the universe dict.\n",
    "# Defaults to \"keep-all\" if the key is missing."
   ]
  },
  {
   "cell_type": "code",
   "execution_count": 26,
   "id": "21994072",
   "metadata": {
    "execution": {
     "iopub.execute_input": "2025-08-05T15:22:21.715311Z",
     "iopub.status.busy": "2025-08-05T15:22:21.714561Z",
     "iopub.status.idle": "2025-08-05T15:22:21.722697Z",
     "shell.execute_reply": "2025-08-05T15:22:21.721560Z"
    },
    "papermill": {
     "duration": 0.037047,
     "end_time": "2025-08-05T15:22:21.727078",
     "exception": false,
     "start_time": "2025-08-05T15:22:21.690031",
     "status": "completed"
    },
    "tags": []
   },
   "outputs": [],
   "source": [
    "if mode == \"keep-all\":\n",
    "    keep_mask = pd.Series(True, index=org_train.index)\n",
    "\n",
    "# org_train contains the original feature columns from features_org (in Simson)\n",
    "# features_org contains unprocessed features, for me X_train at beginning ???\n",
    "# For keep-all, creates a boolean Series (keep_mask) of all True, so no rows are removed.\n",
    "\n",
    "elif mode == \"drop-non-german\":\n",
    "    keep_mask = org_train[\"maxdeutsch1\"] == 1 # ??? what about missing values?\n",
    "\n",
    "else:\n",
    "    raise ValueError(f\"Unsupported mode for exclude_subgroups: {mode}\")"
   ]
  },
  {
   "cell_type": "code",
   "execution_count": 27,
   "id": "71651440",
   "metadata": {
    "execution": {
     "iopub.execute_input": "2025-08-05T15:22:21.773110Z",
     "iopub.status.busy": "2025-08-05T15:22:21.772127Z",
     "iopub.status.idle": "2025-08-05T15:22:21.779452Z",
     "shell.execute_reply": "2025-08-05T15:22:21.778328Z"
    },
    "papermill": {
     "duration": 0.032089,
     "end_time": "2025-08-05T15:22:21.781450",
     "exception": false,
     "start_time": "2025-08-05T15:22:21.749361",
     "status": "completed"
    },
    "tags": []
   },
   "outputs": [],
   "source": [
    "n_drop = (~keep_mask).sum() # Calculates how many rows are set to be dropped\n",
    "if n_drop > 0:\n",
    "    pct = n_drop / len(keep_mask) * 100\n",
    "    print(f\"Dropping {n_drop} rows ({pct:.2f}%) where mode='{mode}'\")"
   ]
  },
  {
   "cell_type": "code",
   "execution_count": 28,
   "id": "5fb8eee5",
   "metadata": {
    "execution": {
     "iopub.execute_input": "2025-08-05T15:22:21.827394Z",
     "iopub.status.busy": "2025-08-05T15:22:21.826730Z",
     "iopub.status.idle": "2025-08-05T15:22:21.836252Z",
     "shell.execute_reply": "2025-08-05T15:22:21.835123Z"
    },
    "papermill": {
     "duration": 0.034089,
     "end_time": "2025-08-05T15:22:21.838305",
     "exception": false,
     "start_time": "2025-08-05T15:22:21.804216",
     "status": "completed"
    },
    "tags": []
   },
   "outputs": [],
   "source": [
    "X_train = X_train[keep_mask]"
   ]
  },
  {
   "cell_type": "code",
   "execution_count": 29,
   "id": "b202bb3a",
   "metadata": {
    "execution": {
     "iopub.execute_input": "2025-08-05T15:22:21.884212Z",
     "iopub.status.busy": "2025-08-05T15:22:21.882692Z",
     "iopub.status.idle": "2025-08-05T15:22:21.889643Z",
     "shell.execute_reply": "2025-08-05T15:22:21.888580Z"
    },
    "papermill": {
     "duration": 0.030619,
     "end_time": "2025-08-05T15:22:21.891378",
     "exception": false,
     "start_time": "2025-08-05T15:22:21.860759",
     "status": "completed"
    },
    "tags": []
   },
   "outputs": [],
   "source": [
    "y_train = y_train[keep_mask]"
   ]
  },
  {
   "cell_type": "markdown",
   "id": "493e2ac3",
   "metadata": {
    "papermill": {
     "duration": 0.021467,
     "end_time": "2025-08-05T15:22:21.932282",
     "exception": false,
     "start_time": "2025-08-05T15:22:21.910815",
     "status": "completed"
    },
    "tags": []
   },
   "source": [
    "# Model Training"
   ]
  },
  {
   "cell_type": "code",
   "execution_count": 30,
   "id": "679e1268",
   "metadata": {
    "execution": {
     "iopub.execute_input": "2025-08-05T15:22:21.975888Z",
     "iopub.status.busy": "2025-08-05T15:22:21.974948Z",
     "iopub.status.idle": "2025-08-05T15:22:22.079229Z",
     "shell.execute_reply": "2025-08-05T15:22:22.077959Z"
    },
    "papermill": {
     "duration": 0.127591,
     "end_time": "2025-08-05T15:22:22.081415",
     "exception": false,
     "start_time": "2025-08-05T15:22:21.953824",
     "status": "completed"
    },
    "tags": []
   },
   "outputs": [],
   "source": [
    "from sklearn.linear_model import LogisticRegression\n",
    "from sklearn.ensemble import GradientBoostingClassifier, RandomForestClassifier\n",
    "\n",
    "if (universe[\"model\"] == \"logreg\"):\n",
    "    model = LogisticRegression() #penalty=\"none\", solver=\"newton-cg\", max_iter=1) # include random_state=19 ?\n",
    "elif (universe[\"model\"] == \"penalized_logreg\"):\n",
    "    model = LogisticRegression(penalty=\"l2\", C=0.1) #, solver=\"newton-cg\", max_iter=1)\n",
    "elif (universe[\"model\"] == \"rf\"):\n",
    "    model = RandomForestClassifier() # n_estimators=100, n_jobs=-1\n",
    "elif (universe[\"model\"] == \"gbm\"):\n",
    "    model = GradientBoostingClassifier()\n",
    "elif (universe[\"model\"] == \"elasticnet\"):\n",
    "    model = LogisticRegression(penalty = 'elasticnet', solver = 'saga', l1_ratio = 0.5) # max_iter=5000\n",
    "else:\n",
    "    raise \"Unsupported universe.model\""
   ]
  },
  {
   "cell_type": "code",
   "execution_count": 31,
   "id": "0cc8f744",
   "metadata": {
    "execution": {
     "iopub.execute_input": "2025-08-05T15:22:22.125486Z",
     "iopub.status.busy": "2025-08-05T15:22:22.124827Z",
     "iopub.status.idle": "2025-08-05T15:22:22.131774Z",
     "shell.execute_reply": "2025-08-05T15:22:22.130754Z"
    },
    "papermill": {
     "duration": 0.030884,
     "end_time": "2025-08-05T15:22:22.133685",
     "exception": false,
     "start_time": "2025-08-05T15:22:22.102801",
     "status": "completed"
    },
    "tags": []
   },
   "outputs": [],
   "source": [
    "import numpy as np\n",
    "from sklearn.pipeline import Pipeline\n",
    "from sklearn.preprocessing import StandardScaler\n",
    "\n",
    "model = Pipeline([\n",
    "    #(\"continuous_processor\", continuous_processor),\n",
    "    #(\"categorical_preprocessor\", categorical_preprocessor),\n",
    "    (\"scale\", StandardScaler() if universe[\"scale\"] == \"scale\" else None), \n",
    "    (\"model\", model),\n",
    "])"
   ]
  },
  {
   "cell_type": "code",
   "execution_count": 32,
   "id": "9442c04d",
   "metadata": {
    "execution": {
     "iopub.execute_input": "2025-08-05T15:22:22.178455Z",
     "iopub.status.busy": "2025-08-05T15:22:22.177722Z",
     "iopub.status.idle": "2025-08-05T15:22:22.316249Z",
     "shell.execute_reply": "2025-08-05T15:22:22.315230Z"
    },
    "papermill": {
     "duration": 0.16224,
     "end_time": "2025-08-05T15:22:22.318426",
     "exception": false,
     "start_time": "2025-08-05T15:22:22.156186",
     "status": "completed"
    },
    "tags": []
   },
   "outputs": [
    {
     "data": {
      "text/html": [
       "<style>#sk-container-id-1 {color: black;background-color: white;}#sk-container-id-1 pre{padding: 0;}#sk-container-id-1 div.sk-toggleable {background-color: white;}#sk-container-id-1 label.sk-toggleable__label {cursor: pointer;display: block;width: 100%;margin-bottom: 0;padding: 0.3em;box-sizing: border-box;text-align: center;}#sk-container-id-1 label.sk-toggleable__label-arrow:before {content: \"▸\";float: left;margin-right: 0.25em;color: #696969;}#sk-container-id-1 label.sk-toggleable__label-arrow:hover:before {color: black;}#sk-container-id-1 div.sk-estimator:hover label.sk-toggleable__label-arrow:before {color: black;}#sk-container-id-1 div.sk-toggleable__content {max-height: 0;max-width: 0;overflow: hidden;text-align: left;background-color: #f0f8ff;}#sk-container-id-1 div.sk-toggleable__content pre {margin: 0.2em;color: black;border-radius: 0.25em;background-color: #f0f8ff;}#sk-container-id-1 input.sk-toggleable__control:checked~div.sk-toggleable__content {max-height: 200px;max-width: 100%;overflow: auto;}#sk-container-id-1 input.sk-toggleable__control:checked~label.sk-toggleable__label-arrow:before {content: \"▾\";}#sk-container-id-1 div.sk-estimator input.sk-toggleable__control:checked~label.sk-toggleable__label {background-color: #d4ebff;}#sk-container-id-1 div.sk-label input.sk-toggleable__control:checked~label.sk-toggleable__label {background-color: #d4ebff;}#sk-container-id-1 input.sk-hidden--visually {border: 0;clip: rect(1px 1px 1px 1px);clip: rect(1px, 1px, 1px, 1px);height: 1px;margin: -1px;overflow: hidden;padding: 0;position: absolute;width: 1px;}#sk-container-id-1 div.sk-estimator {font-family: monospace;background-color: #f0f8ff;border: 1px dotted black;border-radius: 0.25em;box-sizing: border-box;margin-bottom: 0.5em;}#sk-container-id-1 div.sk-estimator:hover {background-color: #d4ebff;}#sk-container-id-1 div.sk-parallel-item::after {content: \"\";width: 100%;border-bottom: 1px solid gray;flex-grow: 1;}#sk-container-id-1 div.sk-label:hover label.sk-toggleable__label {background-color: #d4ebff;}#sk-container-id-1 div.sk-serial::before {content: \"\";position: absolute;border-left: 1px solid gray;box-sizing: border-box;top: 0;bottom: 0;left: 50%;z-index: 0;}#sk-container-id-1 div.sk-serial {display: flex;flex-direction: column;align-items: center;background-color: white;padding-right: 0.2em;padding-left: 0.2em;position: relative;}#sk-container-id-1 div.sk-item {position: relative;z-index: 1;}#sk-container-id-1 div.sk-parallel {display: flex;align-items: stretch;justify-content: center;background-color: white;position: relative;}#sk-container-id-1 div.sk-item::before, #sk-container-id-1 div.sk-parallel-item::before {content: \"\";position: absolute;border-left: 1px solid gray;box-sizing: border-box;top: 0;bottom: 0;left: 50%;z-index: -1;}#sk-container-id-1 div.sk-parallel-item {display: flex;flex-direction: column;z-index: 1;position: relative;background-color: white;}#sk-container-id-1 div.sk-parallel-item:first-child::after {align-self: flex-end;width: 50%;}#sk-container-id-1 div.sk-parallel-item:last-child::after {align-self: flex-start;width: 50%;}#sk-container-id-1 div.sk-parallel-item:only-child::after {width: 0;}#sk-container-id-1 div.sk-dashed-wrapped {border: 1px dashed gray;margin: 0 0.4em 0.5em 0.4em;box-sizing: border-box;padding-bottom: 0.4em;background-color: white;}#sk-container-id-1 div.sk-label label {font-family: monospace;font-weight: bold;display: inline-block;line-height: 1.2em;}#sk-container-id-1 div.sk-label-container {text-align: center;}#sk-container-id-1 div.sk-container {/* jupyter's `normalize.less` sets `[hidden] { display: none; }` but bootstrap.min.css set `[hidden] { display: none !important; }` so we also need the `!important` here to be able to override the default hidden behavior on the sphinx rendered scikit-learn.org. See: https://github.com/scikit-learn/scikit-learn/issues/21755 */display: inline-block !important;position: relative;}#sk-container-id-1 div.sk-text-repr-fallback {display: none;}</style><div id=\"sk-container-id-1\" class=\"sk-top-container\"><div class=\"sk-text-repr-fallback\"><pre>Pipeline(steps=[(&#x27;scale&#x27;, StandardScaler()),\n",
       "                (&#x27;model&#x27;, LogisticRegression(C=0.1))])</pre><b>In a Jupyter environment, please rerun this cell to show the HTML representation or trust the notebook. <br />On GitHub, the HTML representation is unable to render, please try loading this page with nbviewer.org.</b></div><div class=\"sk-container\" hidden><div class=\"sk-item sk-dashed-wrapped\"><div class=\"sk-label-container\"><div class=\"sk-label sk-toggleable\"><input class=\"sk-toggleable__control sk-hidden--visually\" id=\"sk-estimator-id-1\" type=\"checkbox\" ><label for=\"sk-estimator-id-1\" class=\"sk-toggleable__label sk-toggleable__label-arrow\">Pipeline</label><div class=\"sk-toggleable__content\"><pre>Pipeline(steps=[(&#x27;scale&#x27;, StandardScaler()),\n",
       "                (&#x27;model&#x27;, LogisticRegression(C=0.1))])</pre></div></div></div><div class=\"sk-serial\"><div class=\"sk-item\"><div class=\"sk-estimator sk-toggleable\"><input class=\"sk-toggleable__control sk-hidden--visually\" id=\"sk-estimator-id-2\" type=\"checkbox\" ><label for=\"sk-estimator-id-2\" class=\"sk-toggleable__label sk-toggleable__label-arrow\">StandardScaler</label><div class=\"sk-toggleable__content\"><pre>StandardScaler()</pre></div></div></div><div class=\"sk-item\"><div class=\"sk-estimator sk-toggleable\"><input class=\"sk-toggleable__control sk-hidden--visually\" id=\"sk-estimator-id-3\" type=\"checkbox\" ><label for=\"sk-estimator-id-3\" class=\"sk-toggleable__label sk-toggleable__label-arrow\">LogisticRegression</label><div class=\"sk-toggleable__content\"><pre>LogisticRegression(C=0.1)</pre></div></div></div></div></div></div></div>"
      ],
      "text/plain": [
       "Pipeline(steps=[('scale', StandardScaler()),\n",
       "                ('model', LogisticRegression(C=0.1))])"
      ]
     },
     "execution_count": 32,
     "metadata": {},
     "output_type": "execute_result"
    }
   ],
   "source": [
    "model.fit(X_train, y_train.values.ravel())"
   ]
  },
  {
   "cell_type": "code",
   "execution_count": 33,
   "id": "af59f8c0",
   "metadata": {
    "execution": {
     "iopub.execute_input": "2025-08-05T15:22:22.358967Z",
     "iopub.status.busy": "2025-08-05T15:22:22.358350Z",
     "iopub.status.idle": "2025-08-05T15:22:22.363772Z",
     "shell.execute_reply": "2025-08-05T15:22:22.362764Z"
    },
    "papermill": {
     "duration": 0.026603,
     "end_time": "2025-08-05T15:22:22.365607",
     "exception": false,
     "start_time": "2025-08-05T15:22:22.339004",
     "status": "completed"
    },
    "tags": []
   },
   "outputs": [],
   "source": [
    "from fairness_multiverse.universe import predict_w_threshold"
   ]
  },
  {
   "cell_type": "code",
   "execution_count": 34,
   "id": "a7cf2e16",
   "metadata": {
    "execution": {
     "iopub.execute_input": "2025-08-05T15:22:22.406687Z",
     "iopub.status.busy": "2025-08-05T15:22:22.405979Z",
     "iopub.status.idle": "2025-08-05T15:22:22.600540Z",
     "shell.execute_reply": "2025-08-05T15:22:22.599394Z"
    },
    "papermill": {
     "duration": 0.216675,
     "end_time": "2025-08-05T15:22:22.602545",
     "exception": false,
     "start_time": "2025-08-05T15:22:22.385870",
     "status": "completed"
    },
    "tags": []
   },
   "outputs": [
    {
     "data": {
      "text/plain": [
       "0.8587448444989411"
      ]
     },
     "execution_count": 34,
     "metadata": {},
     "output_type": "execute_result"
    }
   ],
   "source": [
    "probs_test = model.predict_proba(X_test)\n",
    "\n",
    "'''\n",
    "Below code returns a boolean array (or binary 0/1 array depending on how it’s used) where each element \n",
    "is True if the probability of class 1 is greater than or equal to the threshold, and False otherwise.\n",
    "'''\n",
    "y_pred_default = predict_w_threshold(probs_test, 0.5)\n",
    "\n",
    "from sklearn.metrics import accuracy_score\n",
    "\n",
    "# Naive prediction\n",
    "accuracy_score(y_true = y_true, y_pred = y_pred_default)"
   ]
  },
  {
   "cell_type": "code",
   "execution_count": 35,
   "id": "081964c3",
   "metadata": {
    "execution": {
     "iopub.execute_input": "2025-08-05T15:22:22.645195Z",
     "iopub.status.busy": "2025-08-05T15:22:22.644624Z",
     "iopub.status.idle": "2025-08-05T15:22:22.832589Z",
     "shell.execute_reply": "2025-08-05T15:22:22.831490Z"
    },
    "papermill": {
     "duration": 0.210681,
     "end_time": "2025-08-05T15:22:22.834493",
     "exception": false,
     "start_time": "2025-08-05T15:22:22.623812",
     "status": "completed"
    },
    "tags": []
   },
   "outputs": [
    {
     "data": {
      "text/plain": [
       "array([0, 0, 0, ..., 0, 0, 0])"
      ]
     },
     "execution_count": 35,
     "metadata": {},
     "output_type": "execute_result"
    }
   ],
   "source": [
    "model.predict(X_test)"
   ]
  },
  {
   "cell_type": "markdown",
   "id": "56c9705b",
   "metadata": {
    "papermill": {
     "duration": 0.017431,
     "end_time": "2025-08-05T15:22:22.873656",
     "exception": false,
     "start_time": "2025-08-05T15:22:22.856225",
     "status": "completed"
    },
    "tags": []
   },
   "source": [
    "# Conformal Prediction"
   ]
  },
  {
   "cell_type": "code",
   "execution_count": 36,
   "id": "160ec6ff",
   "metadata": {
    "execution": {
     "iopub.execute_input": "2025-08-05T15:22:22.918190Z",
     "iopub.status.busy": "2025-08-05T15:22:22.917307Z",
     "iopub.status.idle": "2025-08-05T15:22:22.923189Z",
     "shell.execute_reply": "2025-08-05T15:22:22.921930Z"
    },
    "papermill": {
     "duration": 0.030608,
     "end_time": "2025-08-05T15:22:22.926245",
     "exception": false,
     "start_time": "2025-08-05T15:22:22.895637",
     "status": "completed"
    },
    "tags": []
   },
   "outputs": [],
   "source": [
    "# Miscoverage level for conformal prediction (10% allowed error rate => 90% target coverage)\n",
    "alpha = 0.1"
   ]
  },
  {
   "cell_type": "code",
   "execution_count": 37,
   "id": "eadf4555-3dd3-440e-8e35-f82a4ad9f855",
   "metadata": {
    "execution": {
     "iopub.execute_input": "2025-08-05T15:22:22.975948Z",
     "iopub.status.busy": "2025-08-05T15:22:22.975056Z",
     "iopub.status.idle": "2025-08-05T15:22:23.159084Z",
     "shell.execute_reply": "2025-08-05T15:22:23.158082Z"
    },
    "papermill": {
     "duration": 0.211776,
     "end_time": "2025-08-05T15:22:23.161334",
     "exception": false,
     "start_time": "2025-08-05T15:22:22.949558",
     "status": "completed"
    },
    "tags": []
   },
   "outputs": [],
   "source": [
    "probs_calib = model.predict_proba(X_calib)"
   ]
  },
  {
   "cell_type": "code",
   "execution_count": 38,
   "id": "2ed93547-6d5d-4983-9b36-1ecb300da49a",
   "metadata": {
    "execution": {
     "iopub.execute_input": "2025-08-05T15:22:23.207908Z",
     "iopub.status.busy": "2025-08-05T15:22:23.207227Z",
     "iopub.status.idle": "2025-08-05T15:22:23.212991Z",
     "shell.execute_reply": "2025-08-05T15:22:23.211818Z"
    },
    "papermill": {
     "duration": 0.031216,
     "end_time": "2025-08-05T15:22:23.214823",
     "exception": false,
     "start_time": "2025-08-05T15:22:23.183607",
     "status": "completed"
    },
    "tags": []
   },
   "outputs": [],
   "source": [
    "y_calib = y_calib.values.ravel().astype(int)"
   ]
  },
  {
   "cell_type": "code",
   "execution_count": 39,
   "id": "65d1320d-f588-4b38-9072-62af1ae97f7d",
   "metadata": {
    "execution": {
     "iopub.execute_input": "2025-08-05T15:22:23.260986Z",
     "iopub.status.busy": "2025-08-05T15:22:23.260485Z",
     "iopub.status.idle": "2025-08-05T15:22:23.268750Z",
     "shell.execute_reply": "2025-08-05T15:22:23.267669Z"
    },
    "papermill": {
     "duration": 0.033428,
     "end_time": "2025-08-05T15:22:23.270662",
     "exception": false,
     "start_time": "2025-08-05T15:22:23.237234",
     "status": "completed"
    },
    "tags": []
   },
   "outputs": [],
   "source": [
    "from fairness_multiverse.conformal import compute_nc_scores\n",
    "\n",
    "# Compute nonconformity scores on calibration set (1 - probability of true class)\n",
    "nc_scores = compute_nc_scores(probs_calib, y_calib)"
   ]
  },
  {
   "cell_type": "code",
   "execution_count": 40,
   "id": "df3b8ca3-53b7-43d5-9667-7c85da7aeda2",
   "metadata": {
    "execution": {
     "iopub.execute_input": "2025-08-05T15:22:23.318427Z",
     "iopub.status.busy": "2025-08-05T15:22:23.317550Z",
     "iopub.status.idle": "2025-08-05T15:22:23.324513Z",
     "shell.execute_reply": "2025-08-05T15:22:23.323423Z"
    },
    "papermill": {
     "duration": 0.031236,
     "end_time": "2025-08-05T15:22:23.326404",
     "exception": false,
     "start_time": "2025-08-05T15:22:23.295168",
     "status": "completed"
    },
    "tags": []
   },
   "outputs": [],
   "source": [
    "from fairness_multiverse.conformal import find_threshold\n",
    "\n",
    "# Find conformal threshold q_hat for the given alpha (split conformal method)\n",
    "q_hat = find_threshold(nc_scores, alpha)"
   ]
  },
  {
   "cell_type": "code",
   "execution_count": 41,
   "id": "4d29e6c1-0ef6-4aa4-b8fe-4fe79b0d033a",
   "metadata": {
    "execution": {
     "iopub.execute_input": "2025-08-05T15:22:23.372037Z",
     "iopub.status.busy": "2025-08-05T15:22:23.371265Z",
     "iopub.status.idle": "2025-08-05T15:22:23.379435Z",
     "shell.execute_reply": "2025-08-05T15:22:23.378197Z"
    },
    "papermill": {
     "duration": 0.03267,
     "end_time": "2025-08-05T15:22:23.381402",
     "exception": false,
     "start_time": "2025-08-05T15:22:23.348732",
     "status": "completed"
    },
    "tags": []
   },
   "outputs": [
    {
     "data": {
      "text/plain": [
       "0.6836159362421244"
      ]
     },
     "execution_count": 41,
     "metadata": {},
     "output_type": "execute_result"
    }
   ],
   "source": [
    "q_hat"
   ]
  },
  {
   "cell_type": "code",
   "execution_count": 42,
   "id": "92460794-cdac-4be2-ba28-f28c0515a6fb",
   "metadata": {
    "execution": {
     "iopub.execute_input": "2025-08-05T15:22:23.426642Z",
     "iopub.status.busy": "2025-08-05T15:22:23.426140Z",
     "iopub.status.idle": "2025-08-05T15:22:24.674410Z",
     "shell.execute_reply": "2025-08-05T15:22:24.673345Z"
    },
    "papermill": {
     "duration": 1.272754,
     "end_time": "2025-08-05T15:22:24.676194",
     "exception": false,
     "start_time": "2025-08-05T15:22:23.403440",
     "status": "completed"
    },
    "tags": []
   },
   "outputs": [],
   "source": [
    "from fairness_multiverse.conformal import predict_conformal_sets\n",
    "\n",
    "# Generate prediction sets for each test example\n",
    "pred_sets = predict_conformal_sets(model, X_test, q_hat)"
   ]
  },
  {
   "cell_type": "code",
   "execution_count": 43,
   "id": "d90c9a65-e6db-4f5d-80cd-e68fb7e46829",
   "metadata": {
    "execution": {
     "iopub.execute_input": "2025-08-05T15:22:24.721179Z",
     "iopub.status.busy": "2025-08-05T15:22:24.720109Z",
     "iopub.status.idle": "2025-08-05T15:22:24.727338Z",
     "shell.execute_reply": "2025-08-05T15:22:24.726241Z"
    },
    "papermill": {
     "duration": 0.03144,
     "end_time": "2025-08-05T15:22:24.728995",
     "exception": false,
     "start_time": "2025-08-05T15:22:24.697555",
     "status": "completed"
    },
    "tags": []
   },
   "outputs": [],
   "source": [
    "y_true = y_true.squeeze()"
   ]
  },
  {
   "cell_type": "code",
   "execution_count": 44,
   "id": "3a58a54a-1e68-46b9-927a-df01f18aebc8",
   "metadata": {
    "execution": {
     "iopub.execute_input": "2025-08-05T15:22:24.759704Z",
     "iopub.status.busy": "2025-08-05T15:22:24.759205Z",
     "iopub.status.idle": "2025-08-05T15:22:25.231352Z",
     "shell.execute_reply": "2025-08-05T15:22:25.229010Z"
    },
    "papermill": {
     "duration": 0.487634,
     "end_time": "2025-08-05T15:22:25.232987",
     "exception": false,
     "start_time": "2025-08-05T15:22:24.745353",
     "status": "completed"
    },
    "tags": []
   },
   "outputs": [],
   "source": [
    "from fairness_multiverse.conformal import evaluate_sets\n",
    "\n",
    "# Evaluate coverage and average set size on test data\n",
    "metrics = evaluate_sets(pred_sets, y_true)"
   ]
  },
  {
   "cell_type": "markdown",
   "id": "2b569c12-9aaa-4c88-98c9-bbcd0cf3ebb8",
   "metadata": {
    "papermill": {
     "duration": 0.018741,
     "end_time": "2025-08-05T15:22:25.272092",
     "exception": false,
     "start_time": "2025-08-05T15:22:25.253351",
     "status": "completed"
    },
    "tags": []
   },
   "source": [
    "# CP Metrics"
   ]
  },
  {
   "cell_type": "code",
   "execution_count": 45,
   "id": "5ce0a5cb-201f-45a0-ade5-94c7f0bd6095",
   "metadata": {
    "execution": {
     "iopub.execute_input": "2025-08-05T15:22:25.315034Z",
     "iopub.status.busy": "2025-08-05T15:22:25.314569Z",
     "iopub.status.idle": "2025-08-05T15:22:25.322038Z",
     "shell.execute_reply": "2025-08-05T15:22:25.320802Z"
    },
    "papermill": {
     "duration": 0.030975,
     "end_time": "2025-08-05T15:22:25.323830",
     "exception": false,
     "start_time": "2025-08-05T15:22:25.292855",
     "status": "completed"
    },
    "tags": []
   },
   "outputs": [
    {
     "data": {
      "text/plain": [
       "{'coverage': 0.9105005016163192, 'avg_size': 1.1327834132203767}"
      ]
     },
     "execution_count": 45,
     "metadata": {},
     "output_type": "execute_result"
    }
   ],
   "source": [
    "metrics"
   ]
  },
  {
   "cell_type": "code",
   "execution_count": 46,
   "id": "9b9a838d-31c9-430b-ae14-12baee460d17",
   "metadata": {
    "execution": {
     "iopub.execute_input": "2025-08-05T15:22:25.352720Z",
     "iopub.status.busy": "2025-08-05T15:22:25.352283Z",
     "iopub.status.idle": "2025-08-05T15:22:25.359816Z",
     "shell.execute_reply": "2025-08-05T15:22:25.358741Z"
    },
    "papermill": {
     "duration": 0.022095,
     "end_time": "2025-08-05T15:22:25.361884",
     "exception": false,
     "start_time": "2025-08-05T15:22:25.339789",
     "status": "completed"
    },
    "tags": []
   },
   "outputs": [],
   "source": [
    "example_universe = universe.copy()\n",
    "universe_training_year = example_universe.get(\"training_year\")\n",
    "universe_training_size = example_universe.get(\"training_size\")\n",
    "universe_scale = example_universe.get(\"scale\")\n",
    "universe_model = example_universe.get(\"model\")\n",
    "universe_exclude_features = example_universe.get(\"exclude_features\")\n",
    "universe_exclude_subgroups = example_universe.get(\"exclude_subgroups\")"
   ]
  },
  {
   "cell_type": "code",
   "execution_count": 47,
   "id": "f4b6a8ac-9dc0-4245-8a91-5b3b5999c4f9",
   "metadata": {
    "execution": {
     "iopub.execute_input": "2025-08-05T15:22:25.420571Z",
     "iopub.status.busy": "2025-08-05T15:22:25.419817Z",
     "iopub.status.idle": "2025-08-05T15:22:25.427280Z",
     "shell.execute_reply": "2025-08-05T15:22:25.426013Z"
    },
    "papermill": {
     "duration": 0.039305,
     "end_time": "2025-08-05T15:22:25.429435",
     "exception": false,
     "start_time": "2025-08-05T15:22:25.390130",
     "status": "completed"
    },
    "tags": []
   },
   "outputs": [],
   "source": [
    "cp_metrics_dict = {\n",
    "    \"universe_id\": [universe_id],\n",
    "    \"universe_training_year\": [universe_training_year],\n",
    "    \"universe_training_size\": [universe_training_size],\n",
    "    \"universe_scale\": [universe_scale],\n",
    "    \"universe_model\": [universe_model],\n",
    "    \"universe_exclude_features\": [universe_exclude_features],\n",
    "    \"universe_exclude_subgroups\": [universe_exclude_subgroups],\n",
    "    \"q_hat\": [q_hat],\n",
    "    \"coverage\": [metrics[\"coverage\"]],\n",
    "    \"avg_size\": [metrics[\"avg_size\"]],\n",
    "}"
   ]
  },
  {
   "cell_type": "code",
   "execution_count": 48,
   "id": "908acbb1-0371-4915-85ca-3fa520d2efe2",
   "metadata": {
    "execution": {
     "iopub.execute_input": "2025-08-05T15:22:25.489808Z",
     "iopub.status.busy": "2025-08-05T15:22:25.489003Z",
     "iopub.status.idle": "2025-08-05T15:22:25.497760Z",
     "shell.execute_reply": "2025-08-05T15:22:25.496714Z"
    },
    "papermill": {
     "duration": 0.040667,
     "end_time": "2025-08-05T15:22:25.499584",
     "exception": false,
     "start_time": "2025-08-05T15:22:25.458917",
     "status": "completed"
    },
    "tags": []
   },
   "outputs": [
    {
     "data": {
      "text/plain": [
       "{'universe_id': ['8ab153fe98cc9d1c5699c963003b5f2c'],\n",
       " 'universe_training_year': ['2014'],\n",
       " 'universe_training_size': ['5k'],\n",
       " 'universe_scale': ['scale'],\n",
       " 'universe_model': ['penalized_logreg'],\n",
       " 'universe_exclude_features': ['sex'],\n",
       " 'universe_exclude_subgroups': ['keep-all'],\n",
       " 'q_hat': [0.6836159362421244],\n",
       " 'coverage': [0.9105005016163192],\n",
       " 'avg_size': [1.1327834132203767]}"
      ]
     },
     "execution_count": 48,
     "metadata": {},
     "output_type": "execute_result"
    }
   ],
   "source": [
    "cp_metrics_dict"
   ]
  },
  {
   "cell_type": "code",
   "execution_count": 49,
   "id": "33007efc-14e9-4ec6-97ac-56a455c82265",
   "metadata": {
    "execution": {
     "iopub.execute_input": "2025-08-05T15:22:25.547476Z",
     "iopub.status.busy": "2025-08-05T15:22:25.546972Z",
     "iopub.status.idle": "2025-08-05T15:22:25.553637Z",
     "shell.execute_reply": "2025-08-05T15:22:25.552485Z"
    },
    "papermill": {
     "duration": 0.03098,
     "end_time": "2025-08-05T15:22:25.555433",
     "exception": false,
     "start_time": "2025-08-05T15:22:25.524453",
     "status": "completed"
    },
    "tags": []
   },
   "outputs": [],
   "source": [
    "cp_metrics_df = pd.DataFrame(cp_metrics_dict)"
   ]
  },
  {
   "cell_type": "code",
   "execution_count": 50,
   "id": "db12611b-57b2-4910-b9d0-355adfd6e7bf",
   "metadata": {
    "execution": {
     "iopub.execute_input": "2025-08-05T15:22:25.600796Z",
     "iopub.status.busy": "2025-08-05T15:22:25.600030Z",
     "iopub.status.idle": "2025-08-05T15:22:25.619918Z",
     "shell.execute_reply": "2025-08-05T15:22:25.618998Z"
    },
    "papermill": {
     "duration": 0.043874,
     "end_time": "2025-08-05T15:22:25.621493",
     "exception": false,
     "start_time": "2025-08-05T15:22:25.577619",
     "status": "completed"
    },
    "tags": []
   },
   "outputs": [
    {
     "data": {
      "text/html": [
       "<div>\n",
       "<style scoped>\n",
       "    .dataframe tbody tr th:only-of-type {\n",
       "        vertical-align: middle;\n",
       "    }\n",
       "\n",
       "    .dataframe tbody tr th {\n",
       "        vertical-align: top;\n",
       "    }\n",
       "\n",
       "    .dataframe thead th {\n",
       "        text-align: right;\n",
       "    }\n",
       "</style>\n",
       "<table border=\"1\" class=\"dataframe\">\n",
       "  <thead>\n",
       "    <tr style=\"text-align: right;\">\n",
       "      <th></th>\n",
       "      <th>universe_id</th>\n",
       "      <th>universe_training_year</th>\n",
       "      <th>universe_training_size</th>\n",
       "      <th>universe_scale</th>\n",
       "      <th>universe_model</th>\n",
       "      <th>universe_exclude_features</th>\n",
       "      <th>universe_exclude_subgroups</th>\n",
       "      <th>q_hat</th>\n",
       "      <th>coverage</th>\n",
       "      <th>avg_size</th>\n",
       "    </tr>\n",
       "  </thead>\n",
       "  <tbody>\n",
       "    <tr>\n",
       "      <th>0</th>\n",
       "      <td>8ab153fe98cc9d1c5699c963003b5f2c</td>\n",
       "      <td>2014</td>\n",
       "      <td>5k</td>\n",
       "      <td>scale</td>\n",
       "      <td>penalized_logreg</td>\n",
       "      <td>sex</td>\n",
       "      <td>keep-all</td>\n",
       "      <td>0.683616</td>\n",
       "      <td>0.910501</td>\n",
       "      <td>1.132783</td>\n",
       "    </tr>\n",
       "  </tbody>\n",
       "</table>\n",
       "</div>"
      ],
      "text/plain": [
       "                        universe_id universe_training_year  \\\n",
       "0  8ab153fe98cc9d1c5699c963003b5f2c                   2014   \n",
       "\n",
       "  universe_training_size universe_scale    universe_model  \\\n",
       "0                     5k          scale  penalized_logreg   \n",
       "\n",
       "  universe_exclude_features universe_exclude_subgroups     q_hat  coverage  \\\n",
       "0                       sex                   keep-all  0.683616  0.910501   \n",
       "\n",
       "   avg_size  \n",
       "0  1.132783  "
      ]
     },
     "execution_count": 50,
     "metadata": {},
     "output_type": "execute_result"
    }
   ],
   "source": [
    "cp_metrics_df"
   ]
  },
  {
   "cell_type": "code",
   "execution_count": 51,
   "id": "b7fbde55-a0a1-47e4-9af6-fe4a17fa8c61",
   "metadata": {
    "execution": {
     "iopub.execute_input": "2025-08-05T15:22:25.656706Z",
     "iopub.status.busy": "2025-08-05T15:22:25.656236Z",
     "iopub.status.idle": "2025-08-05T15:22:25.661571Z",
     "shell.execute_reply": "2025-08-05T15:22:25.660720Z"
    },
    "papermill": {
     "duration": 0.021231,
     "end_time": "2025-08-05T15:22:25.662979",
     "exception": false,
     "start_time": "2025-08-05T15:22:25.641748",
     "status": "completed"
    },
    "tags": []
   },
   "outputs": [],
   "source": [
    "# Conditional Coverage & looking at subgroups"
   ]
  },
  {
   "cell_type": "code",
   "execution_count": 52,
   "id": "027ae886-68dd-4141-96c7-805a5450e1ef",
   "metadata": {
    "execution": {
     "iopub.execute_input": "2025-08-05T15:22:25.689220Z",
     "iopub.status.busy": "2025-08-05T15:22:25.688707Z",
     "iopub.status.idle": "2025-08-05T15:22:25.885439Z",
     "shell.execute_reply": "2025-08-05T15:22:25.884368Z"
    },
    "papermill": {
     "duration": 0.211342,
     "end_time": "2025-08-05T15:22:25.887504",
     "exception": false,
     "start_time": "2025-08-05T15:22:25.676162",
     "status": "completed"
    },
    "tags": []
   },
   "outputs": [],
   "source": [
    "from fairness_multiverse.conformal import build_cp_groups\n",
    "\n",
    "cp_groups_df = build_cp_groups(pred_sets, y_true, X_test.index, org_test)\n",
    "#needs universe_id and setting"
   ]
  },
  {
   "cell_type": "code",
   "execution_count": 53,
   "id": "6cbdab96-b2b2-45af-ad54-d0516db2e28d",
   "metadata": {
    "execution": {
     "iopub.execute_input": "2025-08-05T15:22:25.932102Z",
     "iopub.status.busy": "2025-08-05T15:22:25.931619Z",
     "iopub.status.idle": "2025-08-05T15:22:27.223084Z",
     "shell.execute_reply": "2025-08-05T15:22:27.222310Z"
    },
    "papermill": {
     "duration": 1.316699,
     "end_time": "2025-08-05T15:22:27.225122",
     "exception": false,
     "start_time": "2025-08-05T15:22:25.908423",
     "status": "completed"
    },
    "tags": []
   },
   "outputs": [],
   "source": [
    "# Define covered = 1 if true_label is in the predicted set\n",
    "cp_groups_df['covered'] = cp_groups_df.apply(\n",
    "    lambda r: int(r['true_label'] in r['pred_set']),\n",
    "    axis=1\n",
    ")"
   ]
  },
  {
   "cell_type": "code",
   "execution_count": 54,
   "id": "338ff529-1a6b-4b87-a931-8e4788d52aad",
   "metadata": {
    "execution": {
     "iopub.execute_input": "2025-08-05T15:22:27.269743Z",
     "iopub.status.busy": "2025-08-05T15:22:27.268526Z",
     "iopub.status.idle": "2025-08-05T15:22:27.275671Z",
     "shell.execute_reply": "2025-08-05T15:22:27.274461Z"
    },
    "papermill": {
     "duration": 0.030839,
     "end_time": "2025-08-05T15:22:27.277659",
     "exception": false,
     "start_time": "2025-08-05T15:22:27.246820",
     "status": "completed"
    },
    "tags": []
   },
   "outputs": [],
   "source": [
    "#cp_groups_df"
   ]
  },
  {
   "cell_type": "code",
   "execution_count": 55,
   "id": "90032e27-66df-4540-9169-4e89cfbaa758",
   "metadata": {
    "execution": {
     "iopub.execute_input": "2025-08-05T15:22:27.323513Z",
     "iopub.status.busy": "2025-08-05T15:22:27.322604Z",
     "iopub.status.idle": "2025-08-05T15:22:27.337962Z",
     "shell.execute_reply": "2025-08-05T15:22:27.336740Z"
    },
    "papermill": {
     "duration": 0.040059,
     "end_time": "2025-08-05T15:22:27.340112",
     "exception": false,
     "start_time": "2025-08-05T15:22:27.300053",
     "status": "completed"
    },
    "tags": []
   },
   "outputs": [],
   "source": [
    "subgroups = ['frau1','nongerman','nongerman_male','nongerman_female']\n",
    "\n",
    "# Conditional coverage for subgroup==1\n",
    "cond_coverage = {\n",
    "    g: cp_groups_df.loc[cp_groups_df[g]==1, 'covered'].mean()\n",
    "    for g in subgroups\n",
    "}"
   ]
  },
  {
   "cell_type": "code",
   "execution_count": 56,
   "id": "1e348fb1-b9c3-45bc-ba23-f016827a7e0d",
   "metadata": {
    "execution": {
     "iopub.execute_input": "2025-08-05T15:22:27.385621Z",
     "iopub.status.busy": "2025-08-05T15:22:27.384931Z",
     "iopub.status.idle": "2025-08-05T15:22:27.392812Z",
     "shell.execute_reply": "2025-08-05T15:22:27.391788Z"
    },
    "papermill": {
     "duration": 0.032076,
     "end_time": "2025-08-05T15:22:27.394705",
     "exception": false,
     "start_time": "2025-08-05T15:22:27.362629",
     "status": "completed"
    },
    "tags": []
   },
   "outputs": [
    {
     "data": {
      "text/plain": [
       "{'frau1': 0.909610459630678,\n",
       " 'nongerman': 0.9100656823668107,\n",
       " 'nongerman_male': 0.9269566783752139,\n",
       " 'nongerman_female': 0.8821162444113264}"
      ]
     },
     "execution_count": 56,
     "metadata": {},
     "output_type": "execute_result"
    }
   ],
   "source": [
    "cond_coverage"
   ]
  },
  {
   "cell_type": "code",
   "execution_count": 57,
   "id": "f5093324-c3dd-4d63-bc4c-8d945e5c8bbb",
   "metadata": {
    "execution": {
     "iopub.execute_input": "2025-08-05T15:22:27.441060Z",
     "iopub.status.busy": "2025-08-05T15:22:27.440632Z",
     "iopub.status.idle": "2025-08-05T15:22:27.446939Z",
     "shell.execute_reply": "2025-08-05T15:22:27.446180Z"
    },
    "papermill": {
     "duration": 0.032982,
     "end_time": "2025-08-05T15:22:27.451755",
     "exception": false,
     "start_time": "2025-08-05T15:22:27.418773",
     "status": "completed"
    },
    "tags": []
   },
   "outputs": [],
   "source": [
    "for subgroup, cov in cond_coverage.items():\n",
    "    cp_metrics_df[f\"cov_{subgroup}\"] = cov"
   ]
  },
  {
   "cell_type": "code",
   "execution_count": 58,
   "id": "6e872e10-dbe5-49e8-b554-5030c98ff75d",
   "metadata": {
    "execution": {
     "iopub.execute_input": "2025-08-05T15:22:27.515602Z",
     "iopub.status.busy": "2025-08-05T15:22:27.515078Z",
     "iopub.status.idle": "2025-08-05T15:22:27.536923Z",
     "shell.execute_reply": "2025-08-05T15:22:27.535786Z"
    },
    "papermill": {
     "duration": 0.056881,
     "end_time": "2025-08-05T15:22:27.539198",
     "exception": false,
     "start_time": "2025-08-05T15:22:27.482317",
     "status": "completed"
    },
    "tags": []
   },
   "outputs": [
    {
     "data": {
      "text/html": [
       "<div>\n",
       "<style scoped>\n",
       "    .dataframe tbody tr th:only-of-type {\n",
       "        vertical-align: middle;\n",
       "    }\n",
       "\n",
       "    .dataframe tbody tr th {\n",
       "        vertical-align: top;\n",
       "    }\n",
       "\n",
       "    .dataframe thead th {\n",
       "        text-align: right;\n",
       "    }\n",
       "</style>\n",
       "<table border=\"1\" class=\"dataframe\">\n",
       "  <thead>\n",
       "    <tr style=\"text-align: right;\">\n",
       "      <th></th>\n",
       "      <th>universe_id</th>\n",
       "      <th>universe_training_year</th>\n",
       "      <th>universe_training_size</th>\n",
       "      <th>universe_scale</th>\n",
       "      <th>universe_model</th>\n",
       "      <th>universe_exclude_features</th>\n",
       "      <th>universe_exclude_subgroups</th>\n",
       "      <th>q_hat</th>\n",
       "      <th>coverage</th>\n",
       "      <th>avg_size</th>\n",
       "      <th>cov_frau1</th>\n",
       "      <th>cov_nongerman</th>\n",
       "      <th>cov_nongerman_male</th>\n",
       "      <th>cov_nongerman_female</th>\n",
       "    </tr>\n",
       "  </thead>\n",
       "  <tbody>\n",
       "    <tr>\n",
       "      <th>0</th>\n",
       "      <td>8ab153fe98cc9d1c5699c963003b5f2c</td>\n",
       "      <td>2014</td>\n",
       "      <td>5k</td>\n",
       "      <td>scale</td>\n",
       "      <td>penalized_logreg</td>\n",
       "      <td>sex</td>\n",
       "      <td>keep-all</td>\n",
       "      <td>0.683616</td>\n",
       "      <td>0.910501</td>\n",
       "      <td>1.132783</td>\n",
       "      <td>0.90961</td>\n",
       "      <td>0.910066</td>\n",
       "      <td>0.926957</td>\n",
       "      <td>0.882116</td>\n",
       "    </tr>\n",
       "  </tbody>\n",
       "</table>\n",
       "</div>"
      ],
      "text/plain": [
       "                        universe_id universe_training_year  \\\n",
       "0  8ab153fe98cc9d1c5699c963003b5f2c                   2014   \n",
       "\n",
       "  universe_training_size universe_scale    universe_model  \\\n",
       "0                     5k          scale  penalized_logreg   \n",
       "\n",
       "  universe_exclude_features universe_exclude_subgroups     q_hat  coverage  \\\n",
       "0                       sex                   keep-all  0.683616  0.910501   \n",
       "\n",
       "   avg_size  cov_frau1  cov_nongerman  cov_nongerman_male  \\\n",
       "0  1.132783    0.90961       0.910066            0.926957   \n",
       "\n",
       "   cov_nongerman_female  \n",
       "0              0.882116  "
      ]
     },
     "execution_count": 58,
     "metadata": {},
     "output_type": "execute_result"
    }
   ],
   "source": [
    "cp_metrics_df"
   ]
  },
  {
   "cell_type": "markdown",
   "id": "33774451",
   "metadata": {
    "papermill": {
     "duration": 0.014524,
     "end_time": "2025-08-05T15:22:27.582059",
     "exception": false,
     "start_time": "2025-08-05T15:22:27.567535",
     "status": "completed"
    },
    "tags": []
   },
   "source": [
    "# (Fairness) Metrics"
   ]
  },
  {
   "cell_type": "code",
   "execution_count": 59,
   "id": "debc5d62",
   "metadata": {
    "execution": {
     "iopub.execute_input": "2025-08-05T15:22:27.607803Z",
     "iopub.status.busy": "2025-08-05T15:22:27.607441Z",
     "iopub.status.idle": "2025-08-05T15:22:27.621860Z",
     "shell.execute_reply": "2025-08-05T15:22:27.620827Z"
    },
    "papermill": {
     "duration": 0.029468,
     "end_time": "2025-08-05T15:22:27.623585",
     "exception": false,
     "start_time": "2025-08-05T15:22:27.594117",
     "status": "completed"
    },
    "tags": []
   },
   "outputs": [],
   "source": [
    "# do I need to include maxdeutsch1.missing?\n",
    "\n",
    "import numpy as np\n",
    "\n",
    "colname_to_bin = \"maxdeutsch1\"\n",
    "majority_value = org_train[colname_to_bin].mode()[0]\n",
    "\n",
    "org_test[\"majmin\"] = np.where(org_test[colname_to_bin] == majority_value, \"majority\", \"minority\")"
   ]
  },
  {
   "cell_type": "code",
   "execution_count": 60,
   "id": "06a50de5",
   "metadata": {
    "execution": {
     "iopub.execute_input": "2025-08-05T15:22:27.651226Z",
     "iopub.status.busy": "2025-08-05T15:22:27.650710Z",
     "iopub.status.idle": "2025-08-05T15:22:29.891946Z",
     "shell.execute_reply": "2025-08-05T15:22:29.890842Z"
    },
    "papermill": {
     "duration": 2.256962,
     "end_time": "2025-08-05T15:22:29.893984",
     "exception": false,
     "start_time": "2025-08-05T15:22:27.637022",
     "status": "completed"
    },
    "tags": []
   },
   "outputs": [],
   "source": [
    "example_universe = universe.copy()\n",
    "example_universe[\"cutoff\"] = example_universe[\"cutoff\"][0]\n",
    "example_universe[\"eval_fairness_grouping\"] = example_universe[\"eval_fairness_grouping\"][0]\n",
    "fairness_dict, metric_frame = universe_analysis.compute_metrics(\n",
    "    example_universe,\n",
    "    y_pred_prob=probs_test,\n",
    "    y_test=y_true,\n",
    "    org_test=org_test,\n",
    ")"
   ]
  },
  {
   "cell_type": "markdown",
   "id": "f95d4e02",
   "metadata": {
    "papermill": {
     "duration": 0.024194,
     "end_time": "2025-08-05T15:22:29.944656",
     "exception": false,
     "start_time": "2025-08-05T15:22:29.920462",
     "status": "completed"
    },
    "tags": []
   },
   "source": [
    "# Overall"
   ]
  },
  {
   "cell_type": "markdown",
   "id": "bdee4871",
   "metadata": {
    "papermill": {
     "duration": 0.025788,
     "end_time": "2025-08-05T15:22:29.994292",
     "exception": false,
     "start_time": "2025-08-05T15:22:29.968504",
     "status": "completed"
    },
    "tags": []
   },
   "source": [
    "Fairness\n",
    "Main fairness target: Equalized Odds. Seems to be a better fit than equal opportunity, since we're not only interested in Y = 1. Seems to be a better fit than demographic parity, since we also care about accuracy, not just equal distribution of preds.\n",
    "\n",
    "Pick column for computation of fairness metrics\n",
    "\n",
    "Performance\n",
    "Overall performance measures, most interesting in relation to the measures split by group below"
   ]
  },
  {
   "cell_type": "code",
   "execution_count": 61,
   "id": "c4e067c6",
   "metadata": {
    "execution": {
     "iopub.execute_input": "2025-08-05T15:22:30.045631Z",
     "iopub.status.busy": "2025-08-05T15:22:30.044998Z",
     "iopub.status.idle": "2025-08-05T15:22:30.054568Z",
     "shell.execute_reply": "2025-08-05T15:22:30.053554Z"
    },
    "papermill": {
     "duration": 0.037434,
     "end_time": "2025-08-05T15:22:30.056324",
     "exception": false,
     "start_time": "2025-08-05T15:22:30.018890",
     "status": "completed"
    },
    "tags": []
   },
   "outputs": [
    {
     "data": {
      "text/plain": [
       "accuracy                   0.224356\n",
       "balanced accuracy          0.548586\n",
       "f1                         0.245688\n",
       "precision                  0.140353\n",
       "false positive rate        0.887535\n",
       "false negative rate        0.015294\n",
       "selection rate             0.900000\n",
       "count                  89710.000000\n",
       "dtype: float64"
      ]
     },
     "execution_count": 61,
     "metadata": {},
     "output_type": "execute_result"
    }
   ],
   "source": [
    "metric_frame.overall"
   ]
  },
  {
   "cell_type": "markdown",
   "id": "e968fe9d",
   "metadata": {
    "papermill": {
     "duration": 0.025553,
     "end_time": "2025-08-05T15:22:30.107978",
     "exception": false,
     "start_time": "2025-08-05T15:22:30.082425",
     "status": "completed"
    },
    "tags": []
   },
   "source": [
    "By Group"
   ]
  },
  {
   "cell_type": "code",
   "execution_count": 62,
   "id": "ec325bce",
   "metadata": {
    "execution": {
     "iopub.execute_input": "2025-08-05T15:22:30.162118Z",
     "iopub.status.busy": "2025-08-05T15:22:30.161101Z",
     "iopub.status.idle": "2025-08-05T15:22:30.183796Z",
     "shell.execute_reply": "2025-08-05T15:22:30.182507Z"
    },
    "papermill": {
     "duration": 0.052029,
     "end_time": "2025-08-05T15:22:30.185900",
     "exception": false,
     "start_time": "2025-08-05T15:22:30.133871",
     "status": "completed"
    },
    "tags": []
   },
   "outputs": [
    {
     "data": {
      "text/html": [
       "<div>\n",
       "<style scoped>\n",
       "    .dataframe tbody tr th:only-of-type {\n",
       "        vertical-align: middle;\n",
       "    }\n",
       "\n",
       "    .dataframe tbody tr th {\n",
       "        vertical-align: top;\n",
       "    }\n",
       "\n",
       "    .dataframe thead th {\n",
       "        text-align: right;\n",
       "    }\n",
       "</style>\n",
       "<table border=\"1\" class=\"dataframe\">\n",
       "  <thead>\n",
       "    <tr style=\"text-align: right;\">\n",
       "      <th></th>\n",
       "      <th>accuracy</th>\n",
       "      <th>balanced accuracy</th>\n",
       "      <th>f1</th>\n",
       "      <th>precision</th>\n",
       "      <th>false positive rate</th>\n",
       "      <th>false negative rate</th>\n",
       "      <th>selection rate</th>\n",
       "      <th>count</th>\n",
       "    </tr>\n",
       "    <tr>\n",
       "      <th>majmin</th>\n",
       "      <th></th>\n",
       "      <th></th>\n",
       "      <th></th>\n",
       "      <th></th>\n",
       "      <th></th>\n",
       "      <th></th>\n",
       "      <th></th>\n",
       "      <th></th>\n",
       "    </tr>\n",
       "  </thead>\n",
       "  <tbody>\n",
       "    <tr>\n",
       "      <th>majority</th>\n",
       "      <td>0.243024</td>\n",
       "      <td>0.557207</td>\n",
       "      <td>0.255743</td>\n",
       "      <td>0.146965</td>\n",
       "      <td>0.869832</td>\n",
       "      <td>0.015755</td>\n",
       "      <td>0.884950</td>\n",
       "      <td>69170.0</td>\n",
       "    </tr>\n",
       "    <tr>\n",
       "      <th>minority</th>\n",
       "      <td>0.161490</td>\n",
       "      <td>0.520235</td>\n",
       "      <td>0.213382</td>\n",
       "      <td>0.119629</td>\n",
       "      <td>0.946016</td>\n",
       "      <td>0.013514</td>\n",
       "      <td>0.950682</td>\n",
       "      <td>20540.0</td>\n",
       "    </tr>\n",
       "  </tbody>\n",
       "</table>\n",
       "</div>"
      ],
      "text/plain": [
       "          accuracy  balanced accuracy        f1  precision  \\\n",
       "majmin                                                       \n",
       "majority  0.243024           0.557207  0.255743   0.146965   \n",
       "minority  0.161490           0.520235  0.213382   0.119629   \n",
       "\n",
       "          false positive rate  false negative rate  selection rate    count  \n",
       "majmin                                                                       \n",
       "majority             0.869832             0.015755        0.884950  69170.0  \n",
       "minority             0.946016             0.013514        0.950682  20540.0  "
      ]
     },
     "execution_count": 62,
     "metadata": {},
     "output_type": "execute_result"
    }
   ],
   "source": [
    "metric_frame.by_group"
   ]
  },
  {
   "cell_type": "code",
   "execution_count": 63,
   "id": "a9ddbe63",
   "metadata": {
    "execution": {
     "iopub.execute_input": "2025-08-05T15:22:30.241260Z",
     "iopub.status.busy": "2025-08-05T15:22:30.240589Z",
     "iopub.status.idle": "2025-08-05T15:22:32.496670Z",
     "shell.execute_reply": "2025-08-05T15:22:32.495724Z"
    },
    "papermill": {
     "duration": 2.285775,
     "end_time": "2025-08-05T15:22:32.498755",
     "exception": false,
     "start_time": "2025-08-05T15:22:30.212980",
     "status": "completed"
    },
    "tags": []
   },
   "outputs": [
    {
     "data": {
      "text/plain": [
       "array([[<Axes: title={'center': 'accuracy'}, xlabel='majmin'>,\n",
       "        <Axes: title={'center': 'balanced accuracy'}, xlabel='majmin'>,\n",
       "        <Axes: title={'center': 'f1'}, xlabel='majmin'>],\n",
       "       [<Axes: title={'center': 'precision'}, xlabel='majmin'>,\n",
       "        <Axes: title={'center': 'false positive rate'}, xlabel='majmin'>,\n",
       "        <Axes: title={'center': 'false negative rate'}, xlabel='majmin'>],\n",
       "       [<Axes: title={'center': 'selection rate'}, xlabel='majmin'>,\n",
       "        <Axes: title={'center': 'count'}, xlabel='majmin'>,\n",
       "        <Axes: xlabel='majmin'>]], dtype=object)"
      ]
     },
     "execution_count": 63,
     "metadata": {},
     "output_type": "execute_result"
    },
    {
     "data": {
      "image/png": "[encoded data removed]",
      "text/plain": [
       "<Figure size 1200x800 with 9 Axes>"
      ]
     },
     "metadata": {},
     "output_type": "display_data"
    }
   ],
   "source": [
    "# In a graphic\n",
    "metric_frame.by_group.plot.bar(\n",
    "    subplots=True,\n",
    "    layout=[3, 3],\n",
    "    legend=False,\n",
    "    figsize=[12, 8],\n",
    "    title=\"Show all metrics\",\n",
    ")"
   ]
  },
  {
   "cell_type": "markdown",
   "id": "f57a0bac",
   "metadata": {
    "papermill": {
     "duration": 0.027913,
     "end_time": "2025-08-05T15:22:32.552172",
     "exception": false,
     "start_time": "2025-08-05T15:22:32.524259",
     "status": "completed"
    },
    "tags": []
   },
   "source": [
    "# Final Output"
   ]
  },
  {
   "cell_type": "code",
   "execution_count": 64,
   "id": "96d280a3",
   "metadata": {
    "execution": {
     "iopub.execute_input": "2025-08-05T15:22:32.606011Z",
     "iopub.status.busy": "2025-08-05T15:22:32.605433Z",
     "iopub.status.idle": "2025-08-05T15:22:32.613747Z",
     "shell.execute_reply": "2025-08-05T15:22:32.612734Z"
    },
    "papermill": {
     "duration": 0.036734,
     "end_time": "2025-08-05T15:22:32.615363",
     "exception": false,
     "start_time": "2025-08-05T15:22:32.578629",
     "status": "completed"
    },
    "tags": []
   },
   "outputs": [
    {
     "data": {
      "text/plain": [
       "4"
      ]
     },
     "execution_count": 64,
     "metadata": {},
     "output_type": "execute_result"
    }
   ],
   "source": [
    "sub_universes = universe_analysis.generate_sub_universes()\n",
    "len(sub_universes)"
   ]
  },
  {
   "cell_type": "code",
   "execution_count": 65,
   "id": "92adf7ba",
   "metadata": {
    "execution": {
     "iopub.execute_input": "2025-08-05T15:22:32.665063Z",
     "iopub.status.busy": "2025-08-05T15:22:32.664668Z",
     "iopub.status.idle": "2025-08-05T15:22:32.670543Z",
     "shell.execute_reply": "2025-08-05T15:22:32.669477Z"
    },
    "papermill": {
     "duration": 0.03304,
     "end_time": "2025-08-05T15:22:32.672291",
     "exception": false,
     "start_time": "2025-08-05T15:22:32.639251",
     "status": "completed"
    },
    "tags": []
   },
   "outputs": [],
   "source": [
    "def filter_sub_universe_data(sub_universe, org_test):\n",
    "    # Keep all rows — no filtering\n",
    "    keep_rows_mask = np.ones(org_test.shape[0], dtype=bool)\n",
    "\n",
    "    print(f\"[INFO] Keeping all rows: {keep_rows_mask.sum()} rows retained.\")\n",
    "    return keep_rows_mask"
   ]
  },
  {
   "cell_type": "code",
   "execution_count": 66,
   "id": "4a759155",
   "metadata": {
    "execution": {
     "iopub.execute_input": "2025-08-05T15:22:32.724862Z",
     "iopub.status.busy": "2025-08-05T15:22:32.724487Z",
     "iopub.status.idle": "2025-08-05T15:22:43.011554Z",
     "shell.execute_reply": "2025-08-05T15:22:43.010861Z"
    },
    "papermill": {
     "duration": 10.314981,
     "end_time": "2025-08-05T15:22:43.012792",
     "exception": false,
     "start_time": "2025-08-05T15:22:32.697811",
     "status": "completed"
    },
    "tags": []
   },
   "outputs": [
    {
     "name": "stdout",
     "output_type": "stream",
     "text": [
      "Stopping execution_time clock.\n",
      "[INFO] Keeping all rows: 89710 rows retained.\n"
     ]
    },
    {
     "name": "stdout",
     "output_type": "stream",
     "text": [
      "[INFO] Keeping all rows: 89710 rows retained.\n"
     ]
    },
    {
     "name": "stdout",
     "output_type": "stream",
     "text": [
      "[INFO] Keeping all rows: 89710 rows retained.\n"
     ]
    },
    {
     "name": "stdout",
     "output_type": "stream",
     "text": [
      "[INFO] Keeping all rows: 89710 rows retained.\n"
     ]
    },
    {
     "data": {
      "text/html": [
       "<div>\n",
       "<style scoped>\n",
       "    .dataframe tbody tr th:only-of-type {\n",
       "        vertical-align: middle;\n",
       "    }\n",
       "\n",
       "    .dataframe tbody tr th {\n",
       "        vertical-align: top;\n",
       "    }\n",
       "\n",
       "    .dataframe thead th {\n",
       "        text-align: right;\n",
       "    }\n",
       "</style>\n",
       "<table border=\"1\" class=\"dataframe\">\n",
       "  <thead>\n",
       "    <tr style=\"text-align: right;\">\n",
       "      <th></th>\n",
       "      <th>run_no</th>\n",
       "      <th>universe_id</th>\n",
       "      <th>universe_settings</th>\n",
       "      <th>execution_time</th>\n",
       "      <th>test_size_n</th>\n",
       "      <th>test_size_frac</th>\n",
       "      <th>fair_main_equalized_odds_difference</th>\n",
       "      <th>fair_main_equalized_odds_ratio</th>\n",
       "      <th>fair_main_demographic_parity_difference</th>\n",
       "      <th>fair_main_demographic_parity_ratio</th>\n",
       "      <th>...</th>\n",
       "      <th>perf_grp_precision_0</th>\n",
       "      <th>perf_grp_precision_1</th>\n",
       "      <th>perf_grp_false positive rate_0</th>\n",
       "      <th>perf_grp_false positive rate_1</th>\n",
       "      <th>perf_grp_false negative rate_0</th>\n",
       "      <th>perf_grp_false negative rate_1</th>\n",
       "      <th>perf_grp_selection rate_0</th>\n",
       "      <th>perf_grp_selection rate_1</th>\n",
       "      <th>perf_grp_count_0</th>\n",
       "      <th>perf_grp_count_1</th>\n",
       "    </tr>\n",
       "  </thead>\n",
       "  <tbody>\n",
       "    <tr>\n",
       "      <th>0</th>\n",
       "      <td>15</td>\n",
       "      <td>8ab153fe98cc9d1c5699c963003b5f2c</td>\n",
       "      <td>{\"cutoff\": \"quantile_0.1\", \"eval_fairness_grou...</td>\n",
       "      <td>25.322495</td>\n",
       "      <td>89710</td>\n",
       "      <td>1.0</td>\n",
       "      <td>0.076184</td>\n",
       "      <td>0.919468</td>\n",
       "      <td>0.065731</td>\n",
       "      <td>0.930859</td>\n",
       "      <td>...</td>\n",
       "      <td>NaN</td>\n",
       "      <td>NaN</td>\n",
       "      <td>NaN</td>\n",
       "      <td>NaN</td>\n",
       "      <td>NaN</td>\n",
       "      <td>NaN</td>\n",
       "      <td>NaN</td>\n",
       "      <td>NaN</td>\n",
       "      <td>NaN</td>\n",
       "      <td>NaN</td>\n",
       "    </tr>\n",
       "    <tr>\n",
       "      <th>0</th>\n",
       "      <td>15</td>\n",
       "      <td>8ab153fe98cc9d1c5699c963003b5f2c</td>\n",
       "      <td>{\"cutoff\": \"quantile_0.1\", \"eval_fairness_grou...</td>\n",
       "      <td>25.322495</td>\n",
       "      <td>89710</td>\n",
       "      <td>1.0</td>\n",
       "      <td>0.076184</td>\n",
       "      <td>0.919468</td>\n",
       "      <td>0.065731</td>\n",
       "      <td>0.930859</td>\n",
       "      <td>...</td>\n",
       "      <td>0.119629</td>\n",
       "      <td>0.146965</td>\n",
       "      <td>0.946016</td>\n",
       "      <td>0.869832</td>\n",
       "      <td>0.013514</td>\n",
       "      <td>0.015755</td>\n",
       "      <td>0.950682</td>\n",
       "      <td>0.884950</td>\n",
       "      <td>20540.0</td>\n",
       "      <td>69170.0</td>\n",
       "    </tr>\n",
       "    <tr>\n",
       "      <th>0</th>\n",
       "      <td>15</td>\n",
       "      <td>8ab153fe98cc9d1c5699c963003b5f2c</td>\n",
       "      <td>{\"cutoff\": \"quantile_0.25\", \"eval_fairness_gro...</td>\n",
       "      <td>25.322495</td>\n",
       "      <td>89710</td>\n",
       "      <td>1.0</td>\n",
       "      <td>0.153629</td>\n",
       "      <td>0.817210</td>\n",
       "      <td>0.133428</td>\n",
       "      <td>0.843555</td>\n",
       "      <td>...</td>\n",
       "      <td>NaN</td>\n",
       "      <td>NaN</td>\n",
       "      <td>NaN</td>\n",
       "      <td>NaN</td>\n",
       "      <td>NaN</td>\n",
       "      <td>NaN</td>\n",
       "      <td>NaN</td>\n",
       "      <td>NaN</td>\n",
       "      <td>NaN</td>\n",
       "      <td>NaN</td>\n",
       "    </tr>\n",
       "    <tr>\n",
       "      <th>0</th>\n",
       "      <td>15</td>\n",
       "      <td>8ab153fe98cc9d1c5699c963003b5f2c</td>\n",
       "      <td>{\"cutoff\": \"quantile_0.25\", \"eval_fairness_gro...</td>\n",
       "      <td>25.322495</td>\n",
       "      <td>89710</td>\n",
       "      <td>1.0</td>\n",
       "      <td>0.153629</td>\n",
       "      <td>0.817210</td>\n",
       "      <td>0.133428</td>\n",
       "      <td>0.843555</td>\n",
       "      <td>...</td>\n",
       "      <td>0.128154</td>\n",
       "      <td>0.171469</td>\n",
       "      <td>0.840469</td>\n",
       "      <td>0.686840</td>\n",
       "      <td>0.051943</td>\n",
       "      <td>0.066411</td>\n",
       "      <td>0.852872</td>\n",
       "      <td>0.719445</td>\n",
       "      <td>20540.0</td>\n",
       "      <td>69170.0</td>\n",
       "    </tr>\n",
       "  </tbody>\n",
       "</table>\n",
       "<p>4 rows × 50 columns</p>\n",
       "</div>"
      ],
      "text/plain": [
       "  run_no                       universe_id  \\\n",
       "0     15  8ab153fe98cc9d1c5699c963003b5f2c   \n",
       "0     15  8ab153fe98cc9d1c5699c963003b5f2c   \n",
       "0     15  8ab153fe98cc9d1c5699c963003b5f2c   \n",
       "0     15  8ab153fe98cc9d1c5699c963003b5f2c   \n",
       "\n",
       "                                   universe_settings  execution_time  \\\n",
       "0  {\"cutoff\": \"quantile_0.1\", \"eval_fairness_grou...       25.322495   \n",
       "0  {\"cutoff\": \"quantile_0.1\", \"eval_fairness_grou...       25.322495   \n",
       "0  {\"cutoff\": \"quantile_0.25\", \"eval_fairness_gro...       25.322495   \n",
       "0  {\"cutoff\": \"quantile_0.25\", \"eval_fairness_gro...       25.322495   \n",
       "\n",
       "   test_size_n  test_size_frac  fair_main_equalized_odds_difference  \\\n",
       "0        89710             1.0                             0.076184   \n",
       "0        89710             1.0                             0.076184   \n",
       "0        89710             1.0                             0.153629   \n",
       "0        89710             1.0                             0.153629   \n",
       "\n",
       "   fair_main_equalized_odds_ratio  fair_main_demographic_parity_difference  \\\n",
       "0                        0.919468                                 0.065731   \n",
       "0                        0.919468                                 0.065731   \n",
       "0                        0.817210                                 0.133428   \n",
       "0                        0.817210                                 0.133428   \n",
       "\n",
       "   fair_main_demographic_parity_ratio  ...  perf_grp_precision_0  \\\n",
       "0                            0.930859  ...                   NaN   \n",
       "0                            0.930859  ...              0.119629   \n",
       "0                            0.843555  ...                   NaN   \n",
       "0                            0.843555  ...              0.128154   \n",
       "\n",
       "   perf_grp_precision_1  perf_grp_false positive rate_0  \\\n",
       "0                   NaN                             NaN   \n",
       "0              0.146965                        0.946016   \n",
       "0                   NaN                             NaN   \n",
       "0              0.171469                        0.840469   \n",
       "\n",
       "   perf_grp_false positive rate_1  perf_grp_false negative rate_0  \\\n",
       "0                             NaN                             NaN   \n",
       "0                        0.869832                        0.013514   \n",
       "0                             NaN                             NaN   \n",
       "0                        0.686840                        0.051943   \n",
       "\n",
       "   perf_grp_false negative rate_1  perf_grp_selection rate_0  \\\n",
       "0                             NaN                        NaN   \n",
       "0                        0.015755                   0.950682   \n",
       "0                             NaN                        NaN   \n",
       "0                        0.066411                   0.852872   \n",
       "\n",
       "   perf_grp_selection rate_1  perf_grp_count_0  perf_grp_count_1  \n",
       "0                        NaN               NaN               NaN  \n",
       "0                   0.884950           20540.0           69170.0  \n",
       "0                        NaN               NaN               NaN  \n",
       "0                   0.719445           20540.0           69170.0  \n",
       "\n",
       "[4 rows x 50 columns]"
      ]
     },
     "execution_count": 66,
     "metadata": {},
     "output_type": "execute_result"
    }
   ],
   "source": [
    "final_output = universe_analysis.generate_final_output(\n",
    "    y_pred_prob=probs_test,\n",
    "    y_test=y_true,\n",
    "    org_test=org_test,\n",
    "    filter_data=filter_sub_universe_data,\n",
    "    cp_metrics_df=cp_metrics_df,\n",
    "    save=True,\n",
    ")\n",
    "final_output"
   ]
  }
 ],
 "metadata": {
  "celltoolbar": "Tags",
  "kernelspec": {
   "display_name": "Python (CMA Fairness)",
   "language": "python",
   "name": "cma_fair_env"
  },
  "language_info": {
   "codemirror_mode": {
    "name": "ipython",
    "version": 3
   },
   "file_extension": ".py",
   "mimetype": "text/x-python",
   "name": "python",
   "nbconvert_exporter": "python",
   "pygments_lexer": "ipython3",
   "version": "3.10.12"
  },
  "papermill": {
   "default_parameters": {},
   "duration": 39.465309,
   "end_time": "2025-08-05T15:22:43.746477",
   "environment_variables": {},
   "exception": null,
   "input_path": "universe_analysis.ipynb",
   "output_path": "output/runs/15/notebooks/m_15-8ab153fe98cc9d1c5699c963003b5f2c.ipynb",
   "parameters": {
    "output_dir": "output",
    "run_no": "15",
    "seed": "2023",
    "universe": "{\"cutoff\": [\"quantile_0.1\", \"quantile_0.25\"], \"eval_fairness_grouping\": [\"majority-minority\", \"nationality-all\"], \"exclude_features\": \"sex\", \"exclude_subgroups\": \"keep-all\", \"model\": \"penalized_logreg\", \"scale\": \"scale\", \"training_size\": \"5k\", \"training_year\": \"2014\"}",
    "universe_id": "8ab153fe98cc9d1c5699c963003b5f2c"
   },
   "start_time": "2025-08-05T15:22:04.281168",
   "version": "2.6.0"
  }
 },
 "nbformat": 4,
 "nbformat_minor": 5
}