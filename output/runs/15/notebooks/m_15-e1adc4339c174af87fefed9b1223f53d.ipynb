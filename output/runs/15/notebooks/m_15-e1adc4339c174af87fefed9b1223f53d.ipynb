{
 "cells": [
  {
   "cell_type": "code",
   "execution_count": 1,
   "id": "f159f837-637b-42ba-96b5-ec9a68c44524",
   "metadata": {
    "execution": {
     "iopub.execute_input": "2025-08-05T14:38:21.139782Z",
     "iopub.status.busy": "2025-08-05T14:38:21.139154Z",
     "iopub.status.idle": "2025-08-05T14:38:21.152215Z",
     "shell.execute_reply": "2025-08-05T14:38:21.151139Z"
    },
    "papermill": {
     "duration": 0.038317,
     "end_time": "2025-08-05T14:38:21.154029",
     "exception": false,
     "start_time": "2025-08-05T14:38:21.115712",
     "status": "completed"
    },
    "tags": []
   },
   "outputs": [
    {
     "name": "stdout",
     "output_type": "stream",
     "text": [
      "/dss/dsshome1/0C/ra93lal2/cma/CMA_Fairness_v2\n"
     ]
    },
    {
     "name": "stderr",
     "output_type": "stream",
     "text": [
      "/dss/dsshome1/0C/ra93lal2/.local/share/virtualenvs/CMA_Fairness_v2-3j10GkSs/lib/python3.10/site-packages/IPython/core/magics/osm.py:393: UserWarning: This is now an optional IPython functionality, using bookmarks requires you to install the `pickleshare` library.\n",
      "  bkms = self.shell.db.get('bookmarks', {})\n",
      "/dss/dsshome1/0C/ra93lal2/.local/share/virtualenvs/CMA_Fairness_v2-3j10GkSs/lib/python3.10/site-packages/IPython/core/magics/osm.py:417: UserWarning: This is now an optional IPython functionality, setting dhist requires you to install the `pickleshare` library.\n",
      "  self.shell.db['dhist'] = compress_dhist(dhist)[-100:]\n"
     ]
    }
   ],
   "source": [
    "%cd ~/cma/CMA_Fairness_v2"
   ]
  },
  {
   "cell_type": "markdown",
   "id": "de2603b9",
   "metadata": {
    "papermill": {
     "duration": 0.020358,
     "end_time": "2025-08-05T14:38:21.195574",
     "exception": false,
     "start_time": "2025-08-05T14:38:21.175216",
     "status": "completed"
    },
    "tags": []
   },
   "source": [
    "The following cell holds the definition of our parameters, these values can be overriden by rendering the with e.g. the following command:\n",
    "\n",
    "papermill -p alpha 0.2 -p ratio 0.3 universe_analysis.ipynb output/test_run.ipynb"
   ]
  },
  {
   "cell_type": "code",
   "execution_count": 2,
   "id": "a80968a0-40bb-4fa9-85ef-2d5eefb01975",
   "metadata": {
    "execution": {
     "iopub.execute_input": "2025-08-05T14:38:21.238379Z",
     "iopub.status.busy": "2025-08-05T14:38:21.237773Z",
     "iopub.status.idle": "2025-08-05T14:38:21.243383Z",
     "shell.execute_reply": "2025-08-05T14:38:21.242334Z"
    },
    "papermill": {
     "duration": 0.028653,
     "end_time": "2025-08-05T14:38:21.245209",
     "exception": false,
     "start_time": "2025-08-05T14:38:21.216556",
     "status": "completed"
    },
    "tags": []
   },
   "outputs": [
    {
     "name": "stdout",
     "output_type": "stream",
     "text": [
      "Current working directory: /dss/dsshome1/0C/ra93lal2/cma/CMA_Fairness_v2\n"
     ]
    }
   ],
   "source": [
    "import os\n",
    "print(\"Current working directory:\", os.getcwd())"
   ]
  },
  {
   "cell_type": "code",
   "execution_count": 3,
   "id": "2dce4c03",
   "metadata": {
    "execution": {
     "iopub.execute_input": "2025-08-05T14:38:21.287923Z",
     "iopub.status.busy": "2025-08-05T14:38:21.287632Z",
     "iopub.status.idle": "2025-08-05T14:38:21.293410Z",
     "shell.execute_reply": "2025-08-05T14:38:21.292424Z"
    },
    "papermill": {
     "duration": 0.028934,
     "end_time": "2025-08-05T14:38:21.295249",
     "exception": false,
     "start_time": "2025-08-05T14:38:21.266315",
     "status": "completed"
    },
    "tags": [
     "parameters"
    ]
   },
   "outputs": [],
   "source": [
    "run_no = 0\n",
    "universe_id = \"test\"\n",
    "universe = {\n",
    "    \"training_size\": \"25k\", # \"25k\", \"5k\", \"1k\"\n",
    "    \"training_year\": \"2014\", # \"2014\", \"2012_14\", \"2010_14\"\n",
    "    \"scale\": \"scale\", # \"scale\", \"do-not-scale\",\n",
    "    \"model\": \"elasticnet\", # \"logreg\", \"penalized_logreg\", \"rf\", \"gbm\", \"elasticnet\"\n",
    "    \"cutoff\": [\"quantile_0.15\", \"quantile_0.30\"],\n",
    "    \"exclude_features\": \"age\", # \"none\", \"nationality\", \"sex\", \"nationality-sex\", \"age\"\n",
    "    \"exclude_subgroups\": \"keep-all\", # \"keep-all\", \"drop-non-german\"\n",
    "    \"eval_fairness_grouping\": [\"majority-minority\", \"nationality-all\"]\n",
    "}\n",
    "\n",
    "output_dir=\"./output\"\n",
    "seed=0"
   ]
  },
  {
   "cell_type": "code",
   "execution_count": 4,
   "id": "2523f9f6",
   "metadata": {
    "execution": {
     "iopub.execute_input": "2025-08-05T14:38:21.338313Z",
     "iopub.status.busy": "2025-08-05T14:38:21.338032Z",
     "iopub.status.idle": "2025-08-05T14:38:21.345878Z",
     "shell.execute_reply": "2025-08-05T14:38:21.341696Z"
    },
    "papermill": {
     "duration": 0.031017,
     "end_time": "2025-08-05T14:38:21.347683",
     "exception": false,
     "start_time": "2025-08-05T14:38:21.316666",
     "status": "completed"
    },
    "tags": [
     "injected-parameters"
    ]
   },
   "outputs": [],
   "source": [
    "# Parameters\n",
    "universe_id = \"e1adc4339c174af87fefed9b1223f53d\"\n",
    "run_no = \"15\"\n",
    "universe = \"{\\\"cutoff\\\": [\\\"quantile_0.1\\\", \\\"quantile_0.25\\\"], \\\"eval_fairness_grouping\\\": [\\\"majority-minority\\\", \\\"nationality-all\\\"], \\\"exclude_features\\\": \\\"none\\\", \\\"exclude_subgroups\\\": \\\"keep-all\\\", \\\"model\\\": \\\"elasticnet\\\", \\\"scale\\\": \\\"scale\\\", \\\"training_size\\\": \\\"25k\\\", \\\"training_year\\\": \\\"2014\\\"}\"\n",
    "output_dir = \"output\"\n",
    "seed = \"2023\"\n"
   ]
  },
  {
   "cell_type": "code",
   "execution_count": 5,
   "id": "1650acaf",
   "metadata": {
    "execution": {
     "iopub.execute_input": "2025-08-05T14:38:21.391357Z",
     "iopub.status.busy": "2025-08-05T14:38:21.391007Z",
     "iopub.status.idle": "2025-08-05T14:38:21.395219Z",
     "shell.execute_reply": "2025-08-05T14:38:21.394295Z"
    },
    "papermill": {
     "duration": 0.028286,
     "end_time": "2025-08-05T14:38:21.396913",
     "exception": false,
     "start_time": "2025-08-05T14:38:21.368627",
     "status": "completed"
    },
    "tags": []
   },
   "outputs": [],
   "source": [
    "import json\n",
    "if isinstance(universe, str):\n",
    "    universe = json.loads(universe)"
   ]
  },
  {
   "cell_type": "code",
   "execution_count": 6,
   "id": "16620c48",
   "metadata": {
    "execution": {
     "iopub.execute_input": "2025-08-05T14:38:21.440801Z",
     "iopub.status.busy": "2025-08-05T14:38:21.440506Z",
     "iopub.status.idle": "2025-08-05T14:38:21.482390Z",
     "shell.execute_reply": "2025-08-05T14:38:21.481417Z"
    },
    "papermill": {
     "duration": 0.065209,
     "end_time": "2025-08-05T14:38:21.483997",
     "exception": false,
     "start_time": "2025-08-05T14:38:21.418788",
     "status": "completed"
    },
    "tags": []
   },
   "outputs": [],
   "source": [
    "# Auto-reload the custom package\n",
    "%load_ext autoreload\n",
    "%autoreload 1\n",
    "%aimport fairness_multiverse"
   ]
  },
  {
   "cell_type": "code",
   "execution_count": 7,
   "id": "01c5c9f3",
   "metadata": {
    "execution": {
     "iopub.execute_input": "2025-08-05T14:38:21.528364Z",
     "iopub.status.busy": "2025-08-05T14:38:21.527505Z",
     "iopub.status.idle": "2025-08-05T14:38:23.383349Z",
     "shell.execute_reply": "2025-08-05T14:38:23.382438Z"
    },
    "papermill": {
     "duration": 1.879288,
     "end_time": "2025-08-05T14:38:23.385201",
     "exception": false,
     "start_time": "2025-08-05T14:38:21.505913",
     "status": "completed"
    },
    "tags": []
   },
   "outputs": [],
   "source": [
    "from fairness_multiverse.universe import UniverseAnalysis\n",
    "\n",
    "universe_analysis = UniverseAnalysis(\n",
    "    run_no = run_no,\n",
    "    universe_id = universe_id,\n",
    "    universe = universe,\n",
    "    output_dir=output_dir,\n",
    ")"
   ]
  },
  {
   "cell_type": "code",
   "execution_count": 8,
   "id": "106241f5",
   "metadata": {
    "execution": {
     "iopub.execute_input": "2025-08-05T14:38:23.422688Z",
     "iopub.status.busy": "2025-08-05T14:38:23.422244Z",
     "iopub.status.idle": "2025-08-05T14:38:23.428625Z",
     "shell.execute_reply": "2025-08-05T14:38:23.427754Z"
    },
    "papermill": {
     "duration": 0.026853,
     "end_time": "2025-08-05T14:38:23.430425",
     "exception": false,
     "start_time": "2025-08-05T14:38:23.403572",
     "status": "completed"
    },
    "tags": []
   },
   "outputs": [
    {
     "name": "stdout",
     "output_type": "stream",
     "text": [
      "Using Seed: 2023\n"
     ]
    }
   ],
   "source": [
    "import numpy as np\n",
    "parsed_seed = int(seed)\n",
    "np.random.seed(parsed_seed)\n",
    "print(f\"Using Seed: {parsed_seed}\")"
   ]
  },
  {
   "cell_type": "markdown",
   "id": "e0ebdc57",
   "metadata": {
    "papermill": {
     "duration": 0.017728,
     "end_time": "2025-08-05T14:38:23.466609",
     "exception": false,
     "start_time": "2025-08-05T14:38:23.448881",
     "status": "completed"
    },
    "tags": []
   },
   "source": [
    "# Loading Data"
   ]
  },
  {
   "cell_type": "markdown",
   "id": "681925a3",
   "metadata": {
    "papermill": {
     "duration": 0.017601,
     "end_time": "2025-08-05T14:38:23.501820",
     "exception": false,
     "start_time": "2025-08-05T14:38:23.484219",
     "status": "completed"
    },
    "tags": []
   },
   "source": [
    "Load siab_train, siab_test, siab_calib and/or \n",
    "load siab_train_features, siab_train_labels"
   ]
  },
  {
   "cell_type": "code",
   "execution_count": 9,
   "id": "f0496b8a",
   "metadata": {
    "execution": {
     "iopub.execute_input": "2025-08-05T14:38:23.539628Z",
     "iopub.status.busy": "2025-08-05T14:38:23.538955Z",
     "iopub.status.idle": "2025-08-05T14:38:34.631109Z",
     "shell.execute_reply": "2025-08-05T14:38:34.629767Z"
    },
    "papermill": {
     "duration": 11.113353,
     "end_time": "2025-08-05T14:38:34.632861",
     "exception": false,
     "start_time": "2025-08-05T14:38:23.519508",
     "status": "completed"
    },
    "tags": []
   },
   "outputs": [
    {
     "name": "stdout",
     "output_type": "stream",
     "text": [
      "Loading SIAB data from cache: data/siab_cached.csv.gz\n"
     ]
    },
    {
     "name": "stdout",
     "output_type": "stream",
     "text": [
      "(643690, 164)\n"
     ]
    }
   ],
   "source": [
    "from pathlib import Path\n",
    "import pandas as pd\n",
    "\n",
    "# File paths\n",
    "raw_file = Path(\"data/raw/siab.csv\")\n",
    "cache_file = Path(\"data/siab_cached.csv.gz\")\n",
    "\n",
    "# Ensure cache directory exists\n",
    "cache_file.parent.mkdir(parents=True, exist_ok=True)\n",
    "\n",
    "# Load with simple caching\n",
    "if cache_file.exists():\n",
    "    print(f\"Loading SIAB data from cache: {cache_file}\")\n",
    "    siab = pd.read_csv(cache_file, compression='gzip')\n",
    "else:\n",
    "    print(f\"Cache not found. Reading raw SIAB data: {raw_file}\")\n",
    "    siab = pd.read_csv(raw_file)\n",
    "    siab.to_csv(cache_file, index=False, compression='gzip')\n",
    "    print(f\"Cached SIAB data to: {cache_file}\")\n",
    "\n",
    "print(siab.shape)"
   ]
  },
  {
   "cell_type": "code",
   "execution_count": 10,
   "id": "db0ca512-5f53-4dba-abdb-a2888bca41ba",
   "metadata": {
    "execution": {
     "iopub.execute_input": "2025-08-05T14:38:34.676207Z",
     "iopub.status.busy": "2025-08-05T14:38:34.675335Z",
     "iopub.status.idle": "2025-08-05T14:38:34.681785Z",
     "shell.execute_reply": "2025-08-05T14:38:34.680732Z"
    },
    "papermill": {
     "duration": 0.028137,
     "end_time": "2025-08-05T14:38:34.683575",
     "exception": false,
     "start_time": "2025-08-05T14:38:34.655438",
     "status": "completed"
    },
    "tags": []
   },
   "outputs": [],
   "source": [
    "#siab"
   ]
  },
  {
   "cell_type": "markdown",
   "id": "997051c5-15bd-4b69-9786-c3001a3ce484",
   "metadata": {
    "papermill": {
     "duration": 0.019174,
     "end_time": "2025-08-05T14:38:34.723211",
     "exception": false,
     "start_time": "2025-08-05T14:38:34.704037",
     "status": "completed"
    },
    "tags": []
   },
   "source": [
    "# Splitting Data and Setting Training Data Size"
   ]
  },
  {
   "cell_type": "code",
   "execution_count": 11,
   "id": "e993b61f-042d-41a6-8c81-f55681f86335",
   "metadata": {
    "execution": {
     "iopub.execute_input": "2025-08-05T14:38:34.761369Z",
     "iopub.status.busy": "2025-08-05T14:38:34.760882Z",
     "iopub.status.idle": "2025-08-05T14:38:34.774527Z",
     "shell.execute_reply": "2025-08-05T14:38:34.773470Z"
    },
    "papermill": {
     "duration": 0.035692,
     "end_time": "2025-08-05T14:38:34.776548",
     "exception": false,
     "start_time": "2025-08-05T14:38:34.740856",
     "status": "completed"
    },
    "tags": []
   },
   "outputs": [],
   "source": [
    "def sample_by_year_size(df,\n",
    "                        training_year: str,\n",
    "                        training_size: str,\n",
    "                        random_state: int = 42):\n",
    "    # --- parse training_year into a list of int years ---\n",
    "    if \"_\" in training_year:\n",
    "        start_str, end_str = training_year.split(\"_\", 1)\n",
    "        start = int(start_str)\n",
    "        end   = int(end_str) if len(end_str) == 4 else (int(end_str) + (start // 100)*100)\n",
    "        years = list(range(start, end + 1))\n",
    "    else:\n",
    "        years = [int(training_year)]\n",
    "\n",
    "    df = df[df[\"year\"].isin(years)].reset_index(drop=True)\n",
    "\n",
    "    # --- map training_size to total number of samples ---\n",
    "    total_map = {\"25k\": 25_000, \"5k\": 5_000, \"1k\": 1_000}\n",
    "    if training_size not in total_map:\n",
    "        return df  # e.g. \"all\"\n",
    "\n",
    "    total_samples = total_map[training_size]\n",
    "    n_years       = len(years)\n",
    "    base          = total_samples // n_years\n",
    "    remainder     = total_samples % n_years\n",
    "\n",
    "    # --- build a dict: year -> how many to sample ---\n",
    "    # give +1 to the first `remainder` years in ascending order\n",
    "    quotas = {\n",
    "        year: base + (1 if idx < remainder else 0)\n",
    "        for idx, year in enumerate(sorted(years))\n",
    "    }\n",
    "\n",
    "    # --- sample per‐year according to the quota dict ---\n",
    "    sampled = (\n",
    "        df\n",
    "        .groupby(\"year\", group_keys=False)\n",
    "        .apply(lambda grp: grp.sample(\n",
    "            n=min(len(grp), quotas[grp.name]),\n",
    "            random_state=random_state))\n",
    "        .reset_index(drop=True)\n",
    "    )\n",
    "\n",
    "    return sampled"
   ]
  },
  {
   "cell_type": "code",
   "execution_count": 12,
   "id": "aea9c6ef-6f46-42c8-85eb-5a62025c1508",
   "metadata": {
    "execution": {
     "iopub.execute_input": "2025-08-05T14:38:34.816581Z",
     "iopub.status.busy": "2025-08-05T14:38:34.815968Z",
     "iopub.status.idle": "2025-08-05T14:38:35.083974Z",
     "shell.execute_reply": "2025-08-05T14:38:35.082954Z"
    },
    "papermill": {
     "duration": 0.289401,
     "end_time": "2025-08-05T14:38:35.085872",
     "exception": false,
     "start_time": "2025-08-05T14:38:34.796471",
     "status": "completed"
    },
    "tags": []
   },
   "outputs": [],
   "source": [
    "siab_train = sample_by_year_size(siab,\n",
    "                               training_year=universe[\"training_year\"],\n",
    "                               training_size=universe[\"training_size\"])"
   ]
  },
  {
   "cell_type": "code",
   "execution_count": 13,
   "id": "8d3afb32-789d-442c-8d5d-9f5aa8dd2eed",
   "metadata": {
    "execution": {
     "iopub.execute_input": "2025-08-05T14:38:35.127392Z",
     "iopub.status.busy": "2025-08-05T14:38:35.126909Z",
     "iopub.status.idle": "2025-08-05T14:38:35.132060Z",
     "shell.execute_reply": "2025-08-05T14:38:35.131090Z"
    },
    "papermill": {
     "duration": 0.027514,
     "end_time": "2025-08-05T14:38:35.133833",
     "exception": false,
     "start_time": "2025-08-05T14:38:35.106319",
     "status": "completed"
    },
    "tags": []
   },
   "outputs": [],
   "source": [
    "#siab_train.shape"
   ]
  },
  {
   "cell_type": "code",
   "execution_count": 14,
   "id": "d582db68-1a4c-47fb-84fc-08518dc1975a",
   "metadata": {
    "execution": {
     "iopub.execute_input": "2025-08-05T14:38:35.174685Z",
     "iopub.status.busy": "2025-08-05T14:38:35.173837Z",
     "iopub.status.idle": "2025-08-05T14:38:35.179143Z",
     "shell.execute_reply": "2025-08-05T14:38:35.178048Z"
    },
    "papermill": {
     "duration": 0.02797,
     "end_time": "2025-08-05T14:38:35.180955",
     "exception": false,
     "start_time": "2025-08-05T14:38:35.152985",
     "status": "completed"
    },
    "tags": []
   },
   "outputs": [],
   "source": [
    "#display(siab_train.groupby(\"year\").size())"
   ]
  },
  {
   "cell_type": "code",
   "execution_count": 15,
   "id": "a561edb4-d032-42cb-8256-22eac1111c64",
   "metadata": {
    "execution": {
     "iopub.execute_input": "2025-08-05T14:38:35.221810Z",
     "iopub.status.busy": "2025-08-05T14:38:35.220892Z",
     "iopub.status.idle": "2025-08-05T14:38:35.443224Z",
     "shell.execute_reply": "2025-08-05T14:38:35.442212Z"
    },
    "papermill": {
     "duration": 0.24414,
     "end_time": "2025-08-05T14:38:35.445271",
     "exception": false,
     "start_time": "2025-08-05T14:38:35.201131",
     "status": "completed"
    },
    "tags": []
   },
   "outputs": [],
   "source": [
    "#siab_train = siab_s[siab_s.year < 2015]\n",
    "siab_calib = siab[siab.year == 2015]\n",
    "siab_test = siab[siab.year == 2016]"
   ]
  },
  {
   "cell_type": "code",
   "execution_count": 16,
   "id": "472de16f-c3db-4916-846b-1f0de9cf1746",
   "metadata": {
    "execution": {
     "iopub.execute_input": "2025-08-05T14:38:35.486975Z",
     "iopub.status.busy": "2025-08-05T14:38:35.486101Z",
     "iopub.status.idle": "2025-08-05T14:38:35.501020Z",
     "shell.execute_reply": "2025-08-05T14:38:35.499842Z"
    },
    "papermill": {
     "duration": 0.03726,
     "end_time": "2025-08-05T14:38:35.503109",
     "exception": false,
     "start_time": "2025-08-05T14:38:35.465849",
     "status": "completed"
    },
    "tags": []
   },
   "outputs": [],
   "source": [
    "X_train = siab_train.iloc[:,4:164]\n",
    "y_train = siab_train.iloc[:, [3]]"
   ]
  },
  {
   "cell_type": "code",
   "execution_count": 17,
   "id": "828c96af-f43a-4ed6-ba47-8ac73a47d56c",
   "metadata": {
    "execution": {
     "iopub.execute_input": "2025-08-05T14:38:35.545681Z",
     "iopub.status.busy": "2025-08-05T14:38:35.544864Z",
     "iopub.status.idle": "2025-08-05T14:38:35.596588Z",
     "shell.execute_reply": "2025-08-05T14:38:35.595380Z"
    },
    "papermill": {
     "duration": 0.074496,
     "end_time": "2025-08-05T14:38:35.598669",
     "exception": false,
     "start_time": "2025-08-05T14:38:35.524173",
     "status": "completed"
    },
    "tags": []
   },
   "outputs": [],
   "source": [
    "X_calib = siab_calib.iloc[:,4:164]\n",
    "y_calib = siab_calib.iloc[:, [3]]"
   ]
  },
  {
   "cell_type": "code",
   "execution_count": 18,
   "id": "c34be9c3-6bd6-476e-acd3-845840e303be",
   "metadata": {
    "execution": {
     "iopub.execute_input": "2025-08-05T14:38:35.646405Z",
     "iopub.status.busy": "2025-08-05T14:38:35.645533Z",
     "iopub.status.idle": "2025-08-05T14:38:35.699336Z",
     "shell.execute_reply": "2025-08-05T14:38:35.698032Z"
    },
    "papermill": {
     "duration": 0.079006,
     "end_time": "2025-08-05T14:38:35.701367",
     "exception": false,
     "start_time": "2025-08-05T14:38:35.622361",
     "status": "completed"
    },
    "tags": []
   },
   "outputs": [],
   "source": [
    "X_test = siab_test.iloc[:,4:164]\n",
    "y_true = siab_test.iloc[:, [3]]"
   ]
  },
  {
   "cell_type": "markdown",
   "id": "9901737e-04df-44f0-9100-f5ad144ed040",
   "metadata": {
    "papermill": {
     "duration": 0.020052,
     "end_time": "2025-08-05T14:38:35.741717",
     "exception": false,
     "start_time": "2025-08-05T14:38:35.721665",
     "status": "completed"
    },
    "tags": []
   },
   "source": [
    "# Splitting Data and Setting Training Data Size OLD VERSION"
   ]
  },
  {
   "cell_type": "code",
   "execution_count": 19,
   "id": "acbc8f7d-8fc8-4e86-8c59-5dcb0f58384b",
   "metadata": {
    "execution": {
     "iopub.execute_input": "2025-08-05T14:38:35.783143Z",
     "iopub.status.busy": "2025-08-05T14:38:35.782282Z",
     "iopub.status.idle": "2025-08-05T14:38:35.787857Z",
     "shell.execute_reply": "2025-08-05T14:38:35.786907Z"
    },
    "papermill": {
     "duration": 0.028082,
     "end_time": "2025-08-05T14:38:35.789856",
     "exception": false,
     "start_time": "2025-08-05T14:38:35.761774",
     "status": "completed"
    },
    "tags": []
   },
   "outputs": [],
   "source": [
    "#def sample_by_year(df, training_size, random_state=42):\n",
    "#    if training_size == \"2014\":\n",
    "#        return df[df[\"year\"] == 2014].reset_index(drop=True)\n",
    "#    \n",
    "#    size_map = {\n",
    "#        \"25k\": 5000,\n",
    "#        \"5k\": 1000,\n",
    "#        \"1k\": 200\n",
    "#    }\n",
    "#\n",
    "#    if training_size not in size_map:\n",
    "#        return df.reset_index(drop=True)  # use all data\n",
    "#\n",
    "#    n_per_year = size_map[training_size]\n",
    "#    grouped = df.groupby(\"year\")\n",
    "#    sampled = grouped.apply(lambda x: x.sample(n=min(n_per_year, len(x)), random_state=random_state))\n",
    "#    return sampled.reset_index(drop=True)"
   ]
  },
  {
   "cell_type": "code",
   "execution_count": 20,
   "id": "6d931f52-beaf-43ff-9e78-9d44a448d54e",
   "metadata": {
    "execution": {
     "iopub.execute_input": "2025-08-05T14:38:35.838019Z",
     "iopub.status.busy": "2025-08-05T14:38:35.836974Z",
     "iopub.status.idle": "2025-08-05T14:38:35.842945Z",
     "shell.execute_reply": "2025-08-05T14:38:35.841742Z"
    },
    "papermill": {
     "duration": 0.031557,
     "end_time": "2025-08-05T14:38:35.844767",
     "exception": false,
     "start_time": "2025-08-05T14:38:35.813210",
     "status": "completed"
    },
    "tags": []
   },
   "outputs": [],
   "source": [
    "#siab_s = sample_by_year(siab, universe[\"training_size\"])"
   ]
  },
  {
   "cell_type": "code",
   "execution_count": 21,
   "id": "5db0a40e-a4e2-4920-be85-b12ae061d70d",
   "metadata": {
    "execution": {
     "iopub.execute_input": "2025-08-05T14:38:35.892488Z",
     "iopub.status.busy": "2025-08-05T14:38:35.891544Z",
     "iopub.status.idle": "2025-08-05T14:38:35.897285Z",
     "shell.execute_reply": "2025-08-05T14:38:35.896229Z"
    },
    "papermill": {
     "duration": 0.030931,
     "end_time": "2025-08-05T14:38:35.899329",
     "exception": false,
     "start_time": "2025-08-05T14:38:35.868398",
     "status": "completed"
    },
    "tags": []
   },
   "outputs": [],
   "source": [
    "#display(siab_s.groupby(\"year\").size())"
   ]
  },
  {
   "cell_type": "code",
   "execution_count": 22,
   "id": "e6c733c5",
   "metadata": {
    "execution": {
     "iopub.execute_input": "2025-08-05T14:38:35.947207Z",
     "iopub.status.busy": "2025-08-05T14:38:35.946353Z",
     "iopub.status.idle": "2025-08-05T14:38:36.050468Z",
     "shell.execute_reply": "2025-08-05T14:38:36.049374Z"
    },
    "papermill": {
     "duration": 0.129444,
     "end_time": "2025-08-05T14:38:36.052506",
     "exception": false,
     "start_time": "2025-08-05T14:38:35.923062",
     "status": "completed"
    },
    "tags": []
   },
   "outputs": [],
   "source": [
    "# Auxiliary data needed downstream in the pipeline\n",
    "\n",
    "org_train = X_train.copy()\n",
    "org_test = X_test.copy()\n",
    "org_calib = X_calib.copy()"
   ]
  },
  {
   "cell_type": "code",
   "execution_count": 23,
   "id": "1466abac-c6da-4492-a62f-4240ae3783af",
   "metadata": {
    "execution": {
     "iopub.execute_input": "2025-08-05T14:38:36.101163Z",
     "iopub.status.busy": "2025-08-05T14:38:36.100270Z",
     "iopub.status.idle": "2025-08-05T14:38:36.106462Z",
     "shell.execute_reply": "2025-08-05T14:38:36.105460Z"
    },
    "papermill": {
     "duration": 0.031458,
     "end_time": "2025-08-05T14:38:36.108360",
     "exception": false,
     "start_time": "2025-08-05T14:38:36.076902",
     "status": "completed"
    },
    "tags": []
   },
   "outputs": [],
   "source": [
    "# put in other script?\n",
    "# Group sizes\n",
    "\n",
    "#def calculate_percentages(df, df_name):\n",
    "#    total_entries = len(df)\n",
    "#\n",
    "#    female_pct = (df['frau1'] == 1).mean() * 100\n",
    "#    non_german_pct = ((df['maxdeutsch1'] == 0) & (df['maxdeutsch.Missing.'] == 0)).mean() * 100\n",
    "#    non_german_male_pct = ((df['frau1'] == 0) & (df['maxdeutsch1'] == 0) & (df['maxdeutsch.Missing.'] == 0)).mean() * 100\n",
    "#    non_german_female_pct = ((df['frau1'] == 1) & (df['maxdeutsch1'] == 0) & (df['maxdeutsch.Missing.'] == 0)).mean() * 100\n",
    "#\n",
    "#    print(f\"--- {df_name} ---\")\n",
    "#    print(f\"Female: {female_pct:.2f}%\")\n",
    "#    print(f\"Non-German: {non_german_pct:.2f}%\")\n",
    "#    print(f\"Non-German Male: {non_german_male_pct:.2f}%\")\n",
    "#    print(f\"Non-German Female: {non_german_female_pct:.2f}%\\n\")\n",
    "#\n",
    "## Calculate for each DataFrame\n",
    "#calculate_percentages(siab_calib, \"siab_calib\")\n",
    "#calculate_percentages(siab_test, \"siab_test\")\n",
    "#calculate_percentages(siab_train, \"siab_train\")"
   ]
  },
  {
   "cell_type": "markdown",
   "id": "0a4a1b33",
   "metadata": {
    "papermill": {
     "duration": 0.01995,
     "end_time": "2025-08-05T14:38:36.149944",
     "exception": false,
     "start_time": "2025-08-05T14:38:36.129994",
     "status": "completed"
    },
    "tags": []
   },
   "source": [
    "# Preprocessing Data"
   ]
  },
  {
   "cell_type": "code",
   "execution_count": 24,
   "id": "ca879031",
   "metadata": {
    "execution": {
     "iopub.execute_input": "2025-08-05T14:38:36.191983Z",
     "iopub.status.busy": "2025-08-05T14:38:36.191084Z",
     "iopub.status.idle": "2025-08-05T14:38:36.197547Z",
     "shell.execute_reply": "2025-08-05T14:38:36.196483Z"
    },
    "papermill": {
     "duration": 0.030524,
     "end_time": "2025-08-05T14:38:36.199512",
     "exception": false,
     "start_time": "2025-08-05T14:38:36.168988",
     "status": "completed"
    },
    "tags": []
   },
   "outputs": [],
   "source": [
    "# EXCLUDE PROTECTED FEATURES\n",
    "# ----------------------\n",
    "# \"exclude_features\": \"none\", # \"nationality\", \"sex\", \"nationality-sex\"\n",
    "\n",
    "excluded_features = universe[\"exclude_features\"].split(\"-\") # split, e.g.: \"nationality-sex\" -> [\"nationality\", \"sex\"]\n",
    "excluded_features_dictionary = {\n",
    "    \"nationality\": [\"maxdeutsch1\", \"maxdeutsch.Missing.\"],\n",
    "    \"sex\": [\"frau1\"],\n",
    "    \"age\": [\"age\"],\n",
    "}\n"
   ]
  },
  {
   "cell_type": "code",
   "execution_count": 25,
   "id": "b745ac60",
   "metadata": {
    "execution": {
     "iopub.execute_input": "2025-08-05T14:38:36.248261Z",
     "iopub.status.busy": "2025-08-05T14:38:36.247613Z",
     "iopub.status.idle": "2025-08-05T14:38:36.253624Z",
     "shell.execute_reply": "2025-08-05T14:38:36.252619Z"
    },
    "papermill": {
     "duration": 0.031992,
     "end_time": "2025-08-05T14:38:36.255598",
     "exception": false,
     "start_time": "2025-08-05T14:38:36.223606",
     "status": "completed"
    },
    "tags": []
   },
   "outputs": [],
   "source": [
    "# Code nice names to column names\n",
    "\n",
    "excluded_features_columns = [\n",
    "    excluded_features_dictionary[f] for f in excluded_features if len(f) > 0 and f != \"none\"\n",
    "]"
   ]
  },
  {
   "cell_type": "code",
   "execution_count": 26,
   "id": "f84f73a2",
   "metadata": {
    "execution": {
     "iopub.execute_input": "2025-08-05T14:38:36.304865Z",
     "iopub.status.busy": "2025-08-05T14:38:36.304224Z",
     "iopub.status.idle": "2025-08-05T14:38:36.311629Z",
     "shell.execute_reply": "2025-08-05T14:38:36.310628Z"
    },
    "papermill": {
     "duration": 0.033699,
     "end_time": "2025-08-05T14:38:36.313567",
     "exception": false,
     "start_time": "2025-08-05T14:38:36.279868",
     "status": "completed"
    },
    "tags": []
   },
   "outputs": [],
   "source": [
    "from utils import flatten_once\n",
    "\n",
    "excluded_features_columns = flatten_once(excluded_features_columns)"
   ]
  },
  {
   "cell_type": "code",
   "execution_count": 27,
   "id": "884dea22",
   "metadata": {
    "execution": {
     "iopub.execute_input": "2025-08-05T14:38:36.361745Z",
     "iopub.status.busy": "2025-08-05T14:38:36.361226Z",
     "iopub.status.idle": "2025-08-05T14:38:36.367390Z",
     "shell.execute_reply": "2025-08-05T14:38:36.366437Z"
    },
    "papermill": {
     "duration": 0.032731,
     "end_time": "2025-08-05T14:38:36.369256",
     "exception": false,
     "start_time": "2025-08-05T14:38:36.336525",
     "status": "completed"
    },
    "tags": []
   },
   "outputs": [],
   "source": [
    "if len(excluded_features_columns) > 0:\n",
    "    print(f\"Dropping features: {excluded_features_columns}\")\n",
    "    X_train.drop(excluded_features_columns, axis=1, inplace=True)"
   ]
  },
  {
   "cell_type": "code",
   "execution_count": 28,
   "id": "95ab8b16",
   "metadata": {
    "execution": {
     "iopub.execute_input": "2025-08-05T14:38:36.417389Z",
     "iopub.status.busy": "2025-08-05T14:38:36.416889Z",
     "iopub.status.idle": "2025-08-05T14:38:36.423096Z",
     "shell.execute_reply": "2025-08-05T14:38:36.422021Z"
    },
    "papermill": {
     "duration": 0.03281,
     "end_time": "2025-08-05T14:38:36.425045",
     "exception": false,
     "start_time": "2025-08-05T14:38:36.392235",
     "status": "completed"
    },
    "tags": []
   },
   "outputs": [],
   "source": [
    "if len(excluded_features_columns) > 0:\n",
    "    print(f\"Dropping features: {excluded_features_columns}\")\n",
    "    X_test.drop(excluded_features_columns, axis=1, inplace=True)"
   ]
  },
  {
   "cell_type": "code",
   "execution_count": 29,
   "id": "1853aaf5-fb9f-46cb-a2b5-8ea4ae2237e4",
   "metadata": {
    "execution": {
     "iopub.execute_input": "2025-08-05T14:38:36.473599Z",
     "iopub.status.busy": "2025-08-05T14:38:36.472878Z",
     "iopub.status.idle": "2025-08-05T14:38:36.478959Z",
     "shell.execute_reply": "2025-08-05T14:38:36.477858Z"
    },
    "papermill": {
     "duration": 0.032061,
     "end_time": "2025-08-05T14:38:36.480869",
     "exception": false,
     "start_time": "2025-08-05T14:38:36.448808",
     "status": "completed"
    },
    "tags": []
   },
   "outputs": [],
   "source": [
    "if len(excluded_features_columns) > 0:\n",
    "    print(f\"Dropping features: {excluded_features_columns}\")\n",
    "    X_calib.drop(excluded_features_columns, axis=1, inplace=True)"
   ]
  },
  {
   "cell_type": "code",
   "execution_count": 30,
   "id": "6727d079-03e5-481e-9d38-292a90b7a0a8",
   "metadata": {
    "execution": {
     "iopub.execute_input": "2025-08-05T14:38:36.529272Z",
     "iopub.status.busy": "2025-08-05T14:38:36.528235Z",
     "iopub.status.idle": "2025-08-05T14:38:36.533575Z",
     "shell.execute_reply": "2025-08-05T14:38:36.532495Z"
    },
    "papermill": {
     "duration": 0.030654,
     "end_time": "2025-08-05T14:38:36.535624",
     "exception": false,
     "start_time": "2025-08-05T14:38:36.504970",
     "status": "completed"
    },
    "tags": []
   },
   "outputs": [],
   "source": [
    "# SPLIT & STRATIFY DATA\n",
    "# ----------------------"
   ]
  },
  {
   "cell_type": "code",
   "execution_count": 31,
   "id": "76c4dc6d",
   "metadata": {
    "execution": {
     "iopub.execute_input": "2025-08-05T14:38:36.584155Z",
     "iopub.status.busy": "2025-08-05T14:38:36.583440Z",
     "iopub.status.idle": "2025-08-05T14:38:36.589292Z",
     "shell.execute_reply": "2025-08-05T14:38:36.588210Z"
    },
    "papermill": {
     "duration": 0.0315,
     "end_time": "2025-08-05T14:38:36.591161",
     "exception": false,
     "start_time": "2025-08-05T14:38:36.559661",
     "status": "completed"
    },
    "tags": []
   },
   "outputs": [],
   "source": [
    "# EXCLUDE CERTAIN SUBGROUPS\n",
    "# ----------------------\n",
    "\n",
    "mode = universe.get(\"exclude_subgroups\", \"keep-all\") \n",
    "# Fetches the exclude_subgroups setting from the universe dict.\n",
    "# Defaults to \"keep-all\" if the key is missing."
   ]
  },
  {
   "cell_type": "code",
   "execution_count": 32,
   "id": "21994072",
   "metadata": {
    "execution": {
     "iopub.execute_input": "2025-08-05T14:38:36.641367Z",
     "iopub.status.busy": "2025-08-05T14:38:36.640482Z",
     "iopub.status.idle": "2025-08-05T14:38:36.647669Z",
     "shell.execute_reply": "2025-08-05T14:38:36.646703Z"
    },
    "papermill": {
     "duration": 0.033928,
     "end_time": "2025-08-05T14:38:36.649605",
     "exception": false,
     "start_time": "2025-08-05T14:38:36.615677",
     "status": "completed"
    },
    "tags": []
   },
   "outputs": [],
   "source": [
    "if mode == \"keep-all\":\n",
    "    keep_mask = pd.Series(True, index=org_train.index)\n",
    "\n",
    "# org_train contains the original feature columns from features_org (in Simson)\n",
    "# features_org contains unprocessed features, for me X_train at beginning ???\n",
    "# For keep-all, creates a boolean Series (keep_mask) of all True, so no rows are removed.\n",
    "\n",
    "elif mode == \"drop-non-german\":\n",
    "    keep_mask = org_train[\"maxdeutsch1\"] == 1 # ??? what about missing values?\n",
    "\n",
    "else:\n",
    "    raise ValueError(f\"Unsupported mode for exclude_subgroups: {mode}\")\n"
   ]
  },
  {
   "cell_type": "code",
   "execution_count": 33,
   "id": "71651440",
   "metadata": {
    "execution": {
     "iopub.execute_input": "2025-08-05T14:38:36.698836Z",
     "iopub.status.busy": "2025-08-05T14:38:36.698192Z",
     "iopub.status.idle": "2025-08-05T14:38:36.705294Z",
     "shell.execute_reply": "2025-08-05T14:38:36.704265Z"
    },
    "papermill": {
     "duration": 0.033678,
     "end_time": "2025-08-05T14:38:36.707078",
     "exception": false,
     "start_time": "2025-08-05T14:38:36.673400",
     "status": "completed"
    },
    "tags": []
   },
   "outputs": [],
   "source": [
    "n_drop = (~keep_mask).sum() # Calculates how many rows are set to be dropped\n",
    "if n_drop > 0:\n",
    "    pct = n_drop / len(keep_mask) * 100\n",
    "    print(f\"Dropping {n_drop} rows ({pct:.2f}%) where mode='{mode}'\")"
   ]
  },
  {
   "cell_type": "code",
   "execution_count": 34,
   "id": "5fb8eee5",
   "metadata": {
    "execution": {
     "iopub.execute_input": "2025-08-05T14:38:36.751371Z",
     "iopub.status.busy": "2025-08-05T14:38:36.750724Z",
     "iopub.status.idle": "2025-08-05T14:38:36.767927Z",
     "shell.execute_reply": "2025-08-05T14:38:36.766877Z"
    },
    "papermill": {
     "duration": 0.041541,
     "end_time": "2025-08-05T14:38:36.770153",
     "exception": false,
     "start_time": "2025-08-05T14:38:36.728612",
     "status": "completed"
    },
    "tags": []
   },
   "outputs": [],
   "source": [
    "X_train = X_train[keep_mask]"
   ]
  },
  {
   "cell_type": "code",
   "execution_count": 35,
   "id": "b202bb3a",
   "metadata": {
    "execution": {
     "iopub.execute_input": "2025-08-05T14:38:36.820331Z",
     "iopub.status.busy": "2025-08-05T14:38:36.819377Z",
     "iopub.status.idle": "2025-08-05T14:38:36.826572Z",
     "shell.execute_reply": "2025-08-05T14:38:36.825389Z"
    },
    "papermill": {
     "duration": 0.033455,
     "end_time": "2025-08-05T14:38:36.828342",
     "exception": false,
     "start_time": "2025-08-05T14:38:36.794887",
     "status": "completed"
    },
    "tags": []
   },
   "outputs": [],
   "source": [
    "y_train = y_train[keep_mask]"
   ]
  },
  {
   "cell_type": "markdown",
   "id": "493e2ac3",
   "metadata": {
    "papermill": {
     "duration": 0.023574,
     "end_time": "2025-08-05T14:38:36.876841",
     "exception": false,
     "start_time": "2025-08-05T14:38:36.853267",
     "status": "completed"
    },
    "tags": []
   },
   "source": [
    "# Model Training"
   ]
  },
  {
   "cell_type": "code",
   "execution_count": 36,
   "id": "679e1268",
   "metadata": {
    "execution": {
     "iopub.execute_input": "2025-08-05T14:38:36.925816Z",
     "iopub.status.busy": "2025-08-05T14:38:36.925054Z",
     "iopub.status.idle": "2025-08-05T14:38:37.028479Z",
     "shell.execute_reply": "2025-08-05T14:38:37.027476Z"
    },
    "papermill": {
     "duration": 0.130944,
     "end_time": "2025-08-05T14:38:37.030404",
     "exception": false,
     "start_time": "2025-08-05T14:38:36.899460",
     "status": "completed"
    },
    "tags": []
   },
   "outputs": [],
   "source": [
    "from sklearn.linear_model import LogisticRegression\n",
    "from sklearn.ensemble import GradientBoostingClassifier, RandomForestClassifier\n",
    "\n",
    "if (universe[\"model\"] == \"logreg\"):\n",
    "    model = LogisticRegression() #penalty=\"none\", solver=\"newton-cg\", max_iter=1) # include random_state=19 ?\n",
    "elif (universe[\"model\"] == \"penalized_logreg\"):\n",
    "    model = LogisticRegression(penalty=\"l2\", C=0.1) #, solver=\"newton-cg\", max_iter=1)\n",
    "elif (universe[\"model\"] == \"rf\"):\n",
    "    model = RandomForestClassifier() # n_estimators=100, n_jobs=-1\n",
    "elif (universe[\"model\"] == \"gbm\"):\n",
    "    model = GradientBoostingClassifier()\n",
    "elif (universe[\"model\"] == \"elasticnet\"):\n",
    "    model = LogisticRegression(penalty = 'elasticnet', solver = 'saga', l1_ratio = 0.5) # max_iter=5000\n",
    "else:\n",
    "    raise \"Unsupported universe.model\""
   ]
  },
  {
   "cell_type": "code",
   "execution_count": 37,
   "id": "0cc8f744",
   "metadata": {
    "execution": {
     "iopub.execute_input": "2025-08-05T14:38:37.075733Z",
     "iopub.status.busy": "2025-08-05T14:38:37.075027Z",
     "iopub.status.idle": "2025-08-05T14:38:37.081736Z",
     "shell.execute_reply": "2025-08-05T14:38:37.080639Z"
    },
    "papermill": {
     "duration": 0.03093,
     "end_time": "2025-08-05T14:38:37.083481",
     "exception": false,
     "start_time": "2025-08-05T14:38:37.052551",
     "status": "completed"
    },
    "tags": []
   },
   "outputs": [],
   "source": [
    "import numpy as np\n",
    "from sklearn.pipeline import Pipeline\n",
    "from sklearn.preprocessing import StandardScaler\n",
    "\n",
    "model = Pipeline([\n",
    "    #(\"continuous_processor\", continuous_processor),\n",
    "    #(\"categorical_preprocessor\", categorical_preprocessor),\n",
    "    (\"scale\", StandardScaler() if universe[\"scale\"] == \"scale\" else None), \n",
    "    (\"model\", model),\n",
    "])"
   ]
  },
  {
   "cell_type": "code",
   "execution_count": 38,
   "id": "9442c04d",
   "metadata": {
    "execution": {
     "iopub.execute_input": "2025-08-05T14:38:37.128682Z",
     "iopub.status.busy": "2025-08-05T14:38:37.128067Z",
     "iopub.status.idle": "2025-08-05T14:38:45.453552Z",
     "shell.execute_reply": "2025-08-05T14:38:45.452800Z"
    },
    "papermill": {
     "duration": 8.349498,
     "end_time": "2025-08-05T14:38:45.454795",
     "exception": false,
     "start_time": "2025-08-05T14:38:37.105297",
     "status": "completed"
    },
    "tags": []
   },
   "outputs": [
    {
     "name": "stderr",
     "output_type": "stream",
     "text": [
      "/dss/dsshome1/0C/ra93lal2/.local/share/virtualenvs/CMA_Fairness_v2-3j10GkSs/lib/python3.10/site-packages/sklearn/linear_model/_sag.py:350: ConvergenceWarning: The max_iter was reached which means the coef_ did not converge\n",
      "  warnings.warn(\n"
     ]
    },
    {
     "data": {
      "text/html": [
       "<style>#sk-container-id-1 {color: black;background-color: white;}#sk-container-id-1 pre{padding: 0;}#sk-container-id-1 div.sk-toggleable {background-color: white;}#sk-container-id-1 label.sk-toggleable__label {cursor: pointer;display: block;width: 100%;margin-bottom: 0;padding: 0.3em;box-sizing: border-box;text-align: center;}#sk-container-id-1 label.sk-toggleable__label-arrow:before {content: \"▸\";float: left;margin-right: 0.25em;color: #696969;}#sk-container-id-1 label.sk-toggleable__label-arrow:hover:before {color: black;}#sk-container-id-1 div.sk-estimator:hover label.sk-toggleable__label-arrow:before {color: black;}#sk-container-id-1 div.sk-toggleable__content {max-height: 0;max-width: 0;overflow: hidden;text-align: left;background-color: #f0f8ff;}#sk-container-id-1 div.sk-toggleable__content pre {margin: 0.2em;color: black;border-radius: 0.25em;background-color: #f0f8ff;}#sk-container-id-1 input.sk-toggleable__control:checked~div.sk-toggleable__content {max-height: 200px;max-width: 100%;overflow: auto;}#sk-container-id-1 input.sk-toggleable__control:checked~label.sk-toggleable__label-arrow:before {content: \"▾\";}#sk-container-id-1 div.sk-estimator input.sk-toggleable__control:checked~label.sk-toggleable__label {background-color: #d4ebff;}#sk-container-id-1 div.sk-label input.sk-toggleable__control:checked~label.sk-toggleable__label {background-color: #d4ebff;}#sk-container-id-1 input.sk-hidden--visually {border: 0;clip: rect(1px 1px 1px 1px);clip: rect(1px, 1px, 1px, 1px);height: 1px;margin: -1px;overflow: hidden;padding: 0;position: absolute;width: 1px;}#sk-container-id-1 div.sk-estimator {font-family: monospace;background-color: #f0f8ff;border: 1px dotted black;border-radius: 0.25em;box-sizing: border-box;margin-bottom: 0.5em;}#sk-container-id-1 div.sk-estimator:hover {background-color: #d4ebff;}#sk-container-id-1 div.sk-parallel-item::after {content: \"\";width: 100%;border-bottom: 1px solid gray;flex-grow: 1;}#sk-container-id-1 div.sk-label:hover label.sk-toggleable__label {background-color: #d4ebff;}#sk-container-id-1 div.sk-serial::before {content: \"\";position: absolute;border-left: 1px solid gray;box-sizing: border-box;top: 0;bottom: 0;left: 50%;z-index: 0;}#sk-container-id-1 div.sk-serial {display: flex;flex-direction: column;align-items: center;background-color: white;padding-right: 0.2em;padding-left: 0.2em;position: relative;}#sk-container-id-1 div.sk-item {position: relative;z-index: 1;}#sk-container-id-1 div.sk-parallel {display: flex;align-items: stretch;justify-content: center;background-color: white;position: relative;}#sk-container-id-1 div.sk-item::before, #sk-container-id-1 div.sk-parallel-item::before {content: \"\";position: absolute;border-left: 1px solid gray;box-sizing: border-box;top: 0;bottom: 0;left: 50%;z-index: -1;}#sk-container-id-1 div.sk-parallel-item {display: flex;flex-direction: column;z-index: 1;position: relative;background-color: white;}#sk-container-id-1 div.sk-parallel-item:first-child::after {align-self: flex-end;width: 50%;}#sk-container-id-1 div.sk-parallel-item:last-child::after {align-self: flex-start;width: 50%;}#sk-container-id-1 div.sk-parallel-item:only-child::after {width: 0;}#sk-container-id-1 div.sk-dashed-wrapped {border: 1px dashed gray;margin: 0 0.4em 0.5em 0.4em;box-sizing: border-box;padding-bottom: 0.4em;background-color: white;}#sk-container-id-1 div.sk-label label {font-family: monospace;font-weight: bold;display: inline-block;line-height: 1.2em;}#sk-container-id-1 div.sk-label-container {text-align: center;}#sk-container-id-1 div.sk-container {/* jupyter's `normalize.less` sets `[hidden] { display: none; }` but bootstrap.min.css set `[hidden] { display: none !important; }` so we also need the `!important` here to be able to override the default hidden behavior on the sphinx rendered scikit-learn.org. See: https://github.com/scikit-learn/scikit-learn/issues/21755 */display: inline-block !important;position: relative;}#sk-container-id-1 div.sk-text-repr-fallback {display: none;}</style><div id=\"sk-container-id-1\" class=\"sk-top-container\"><div class=\"sk-text-repr-fallback\"><pre>Pipeline(steps=[(&#x27;scale&#x27;, StandardScaler()),\n",
       "                (&#x27;model&#x27;,\n",
       "                 LogisticRegression(l1_ratio=0.5, penalty=&#x27;elasticnet&#x27;,\n",
       "                                    solver=&#x27;saga&#x27;))])</pre><b>In a Jupyter environment, please rerun this cell to show the HTML representation or trust the notebook. <br />On GitHub, the HTML representation is unable to render, please try loading this page with nbviewer.org.</b></div><div class=\"sk-container\" hidden><div class=\"sk-item sk-dashed-wrapped\"><div class=\"sk-label-container\"><div class=\"sk-label sk-toggleable\"><input class=\"sk-toggleable__control sk-hidden--visually\" id=\"sk-estimator-id-1\" type=\"checkbox\" ><label for=\"sk-estimator-id-1\" class=\"sk-toggleable__label sk-toggleable__label-arrow\">Pipeline</label><div class=\"sk-toggleable__content\"><pre>Pipeline(steps=[(&#x27;scale&#x27;, StandardScaler()),\n",
       "                (&#x27;model&#x27;,\n",
       "                 LogisticRegression(l1_ratio=0.5, penalty=&#x27;elasticnet&#x27;,\n",
       "                                    solver=&#x27;saga&#x27;))])</pre></div></div></div><div class=\"sk-serial\"><div class=\"sk-item\"><div class=\"sk-estimator sk-toggleable\"><input class=\"sk-toggleable__control sk-hidden--visually\" id=\"sk-estimator-id-2\" type=\"checkbox\" ><label for=\"sk-estimator-id-2\" class=\"sk-toggleable__label sk-toggleable__label-arrow\">StandardScaler</label><div class=\"sk-toggleable__content\"><pre>StandardScaler()</pre></div></div></div><div class=\"sk-item\"><div class=\"sk-estimator sk-toggleable\"><input class=\"sk-toggleable__control sk-hidden--visually\" id=\"sk-estimator-id-3\" type=\"checkbox\" ><label for=\"sk-estimator-id-3\" class=\"sk-toggleable__label sk-toggleable__label-arrow\">LogisticRegression</label><div class=\"sk-toggleable__content\"><pre>LogisticRegression(l1_ratio=0.5, penalty=&#x27;elasticnet&#x27;, solver=&#x27;saga&#x27;)</pre></div></div></div></div></div></div></div>"
      ],
      "text/plain": [
       "Pipeline(steps=[('scale', StandardScaler()),\n",
       "                ('model',\n",
       "                 LogisticRegression(l1_ratio=0.5, penalty='elasticnet',\n",
       "                                    solver='saga'))])"
      ]
     },
     "execution_count": 38,
     "metadata": {},
     "output_type": "execute_result"
    }
   ],
   "source": [
    "model.fit(X_train, y_train.values.ravel())"
   ]
  },
  {
   "cell_type": "code",
   "execution_count": 39,
   "id": "af59f8c0",
   "metadata": {
    "execution": {
     "iopub.execute_input": "2025-08-05T14:38:45.481974Z",
     "iopub.status.busy": "2025-08-05T14:38:45.481185Z",
     "iopub.status.idle": "2025-08-05T14:38:45.486173Z",
     "shell.execute_reply": "2025-08-05T14:38:45.485302Z"
    },
    "papermill": {
     "duration": 0.018805,
     "end_time": "2025-08-05T14:38:45.487718",
     "exception": false,
     "start_time": "2025-08-05T14:38:45.468913",
     "status": "completed"
    },
    "tags": []
   },
   "outputs": [],
   "source": [
    "from fairness_multiverse.universe import predict_w_threshold"
   ]
  },
  {
   "cell_type": "code",
   "execution_count": 40,
   "id": "a7cf2e16",
   "metadata": {
    "execution": {
     "iopub.execute_input": "2025-08-05T14:38:45.513245Z",
     "iopub.status.busy": "2025-08-05T14:38:45.512411Z",
     "iopub.status.idle": "2025-08-05T14:38:45.689256Z",
     "shell.execute_reply": "2025-08-05T14:38:45.688356Z"
    },
    "papermill": {
     "duration": 0.190431,
     "end_time": "2025-08-05T14:38:45.690711",
     "exception": false,
     "start_time": "2025-08-05T14:38:45.500280",
     "status": "completed"
    },
    "tags": []
   },
   "outputs": [
    {
     "data": {
      "text/plain": [
       "0.8653550328837365"
      ]
     },
     "execution_count": 40,
     "metadata": {},
     "output_type": "execute_result"
    }
   ],
   "source": [
    "probs_test = model.predict_proba(X_test)\n",
    "\n",
    "'''\n",
    "Below code returns a boolean array (or binary 0/1 array depending on how it’s used) where each element \n",
    "is True if the probability of class 1 is greater than or equal to the threshold, and False otherwise.\n",
    "'''\n",
    "y_pred_default = predict_w_threshold(probs_test, 0.5)\n",
    "\n",
    "from sklearn.metrics import accuracy_score\n",
    "\n",
    "# Naive prediction\n",
    "accuracy_score(y_true = y_true, y_pred = y_pred_default)"
   ]
  },
  {
   "cell_type": "code",
   "execution_count": 41,
   "id": "081964c3",
   "metadata": {
    "execution": {
     "iopub.execute_input": "2025-08-05T14:38:45.715305Z",
     "iopub.status.busy": "2025-08-05T14:38:45.714958Z",
     "iopub.status.idle": "2025-08-05T14:38:45.879952Z",
     "shell.execute_reply": "2025-08-05T14:38:45.879209Z"
    },
    "papermill": {
     "duration": 0.17848,
     "end_time": "2025-08-05T14:38:45.881249",
     "exception": false,
     "start_time": "2025-08-05T14:38:45.702769",
     "status": "completed"
    },
    "tags": []
   },
   "outputs": [
    {
     "data": {
      "text/plain": [
       "array([0, 0, 0, ..., 0, 0, 0])"
      ]
     },
     "execution_count": 41,
     "metadata": {},
     "output_type": "execute_result"
    }
   ],
   "source": [
    "model.predict(X_test)"
   ]
  },
  {
   "cell_type": "markdown",
   "id": "56c9705b",
   "metadata": {
    "papermill": {
     "duration": 0.01126,
     "end_time": "2025-08-05T14:38:45.904922",
     "exception": false,
     "start_time": "2025-08-05T14:38:45.893662",
     "status": "completed"
    },
    "tags": []
   },
   "source": [
    "# Conformal Prediction"
   ]
  },
  {
   "cell_type": "code",
   "execution_count": 42,
   "id": "160ec6ff",
   "metadata": {
    "execution": {
     "iopub.execute_input": "2025-08-05T14:38:45.929140Z",
     "iopub.status.busy": "2025-08-05T14:38:45.928786Z",
     "iopub.status.idle": "2025-08-05T14:38:45.933345Z",
     "shell.execute_reply": "2025-08-05T14:38:45.932540Z"
    },
    "papermill": {
     "duration": 0.018426,
     "end_time": "2025-08-05T14:38:45.934673",
     "exception": false,
     "start_time": "2025-08-05T14:38:45.916247",
     "status": "completed"
    },
    "tags": []
   },
   "outputs": [],
   "source": [
    "# Miscoverage level for conformal prediction (10% allowed error rate => 90% target coverage)\n",
    "alpha = 0.1"
   ]
  },
  {
   "cell_type": "code",
   "execution_count": 43,
   "id": "eadf4555-3dd3-440e-8e35-f82a4ad9f855",
   "metadata": {
    "execution": {
     "iopub.execute_input": "2025-08-05T14:38:45.976214Z",
     "iopub.status.busy": "2025-08-05T14:38:45.975888Z",
     "iopub.status.idle": "2025-08-05T14:38:46.155907Z",
     "shell.execute_reply": "2025-08-05T14:38:46.154769Z"
    },
    "papermill": {
     "duration": 0.204712,
     "end_time": "2025-08-05T14:38:46.158424",
     "exception": false,
     "start_time": "2025-08-05T14:38:45.953712",
     "status": "completed"
    },
    "tags": []
   },
   "outputs": [],
   "source": [
    "probs_calib = model.predict_proba(X_calib)"
   ]
  },
  {
   "cell_type": "code",
   "execution_count": 44,
   "id": "2ed93547-6d5d-4983-9b36-1ecb300da49a",
   "metadata": {
    "execution": {
     "iopub.execute_input": "2025-08-05T14:38:46.230969Z",
     "iopub.status.busy": "2025-08-05T14:38:46.230272Z",
     "iopub.status.idle": "2025-08-05T14:38:46.237127Z",
     "shell.execute_reply": "2025-08-05T14:38:46.235797Z"
    },
    "papermill": {
     "duration": 0.045306,
     "end_time": "2025-08-05T14:38:46.239519",
     "exception": false,
     "start_time": "2025-08-05T14:38:46.194213",
     "status": "completed"
    },
    "tags": []
   },
   "outputs": [],
   "source": [
    "y_calib = y_calib.values.ravel().astype(int)"
   ]
  },
  {
   "cell_type": "code",
   "execution_count": 45,
   "id": "65d1320d-f588-4b38-9072-62af1ae97f7d",
   "metadata": {
    "execution": {
     "iopub.execute_input": "2025-08-05T14:38:46.299855Z",
     "iopub.status.busy": "2025-08-05T14:38:46.298814Z",
     "iopub.status.idle": "2025-08-05T14:38:46.307233Z",
     "shell.execute_reply": "2025-08-05T14:38:46.305742Z"
    },
    "papermill": {
     "duration": 0.042175,
     "end_time": "2025-08-05T14:38:46.310135",
     "exception": false,
     "start_time": "2025-08-05T14:38:46.267960",
     "status": "completed"
    },
    "tags": []
   },
   "outputs": [],
   "source": [
    "from fairness_multiverse.conformal import compute_nc_scores\n",
    "\n",
    "# Compute nonconformity scores on calibration set (1 - probability of true class)\n",
    "nc_scores = compute_nc_scores(probs_calib, y_calib)"
   ]
  },
  {
   "cell_type": "code",
   "execution_count": 46,
   "id": "df3b8ca3-53b7-43d5-9667-7c85da7aeda2",
   "metadata": {
    "execution": {
     "iopub.execute_input": "2025-08-05T14:38:46.358945Z",
     "iopub.status.busy": "2025-08-05T14:38:46.358591Z",
     "iopub.status.idle": "2025-08-05T14:38:46.365010Z",
     "shell.execute_reply": "2025-08-05T14:38:46.364051Z"
    },
    "papermill": {
     "duration": 0.022463,
     "end_time": "2025-08-05T14:38:46.366619",
     "exception": false,
     "start_time": "2025-08-05T14:38:46.344156",
     "status": "completed"
    },
    "tags": []
   },
   "outputs": [],
   "source": [
    "from fairness_multiverse.conformal import find_threshold\n",
    "\n",
    "# Find conformal threshold q_hat for the given alpha (split conformal method)\n",
    "q_hat = find_threshold(nc_scores, alpha)"
   ]
  },
  {
   "cell_type": "code",
   "execution_count": 47,
   "id": "4d29e6c1-0ef6-4aa4-b8fe-4fe79b0d033a",
   "metadata": {
    "execution": {
     "iopub.execute_input": "2025-08-05T14:38:46.393255Z",
     "iopub.status.busy": "2025-08-05T14:38:46.391784Z",
     "iopub.status.idle": "2025-08-05T14:38:46.399890Z",
     "shell.execute_reply": "2025-08-05T14:38:46.399082Z"
    },
    "papermill": {
     "duration": 0.022412,
     "end_time": "2025-08-05T14:38:46.401280",
     "exception": false,
     "start_time": "2025-08-05T14:38:46.378868",
     "status": "completed"
    },
    "tags": []
   },
   "outputs": [
    {
     "data": {
      "text/plain": [
       "0.6757035356595213"
      ]
     },
     "execution_count": 47,
     "metadata": {},
     "output_type": "execute_result"
    }
   ],
   "source": [
    "q_hat"
   ]
  },
  {
   "cell_type": "code",
   "execution_count": 48,
   "id": "92460794-cdac-4be2-ba28-f28c0515a6fb",
   "metadata": {
    "execution": {
     "iopub.execute_input": "2025-08-05T14:38:46.427963Z",
     "iopub.status.busy": "2025-08-05T14:38:46.427334Z",
     "iopub.status.idle": "2025-08-05T14:38:47.494903Z",
     "shell.execute_reply": "2025-08-05T14:38:47.493799Z"
    },
    "papermill": {
     "duration": 1.081857,
     "end_time": "2025-08-05T14:38:47.496433",
     "exception": false,
     "start_time": "2025-08-05T14:38:46.414576",
     "status": "completed"
    },
    "tags": []
   },
   "outputs": [],
   "source": [
    "from fairness_multiverse.conformal import predict_conformal_sets\n",
    "\n",
    "# Generate prediction sets for each test example\n",
    "pred_sets = predict_conformal_sets(model, X_test, q_hat)"
   ]
  },
  {
   "cell_type": "code",
   "execution_count": 49,
   "id": "d90c9a65-e6db-4f5d-80cd-e68fb7e46829",
   "metadata": {
    "execution": {
     "iopub.execute_input": "2025-08-05T14:38:47.522243Z",
     "iopub.status.busy": "2025-08-05T14:38:47.521366Z",
     "iopub.status.idle": "2025-08-05T14:38:47.526467Z",
     "shell.execute_reply": "2025-08-05T14:38:47.525613Z"
    },
    "papermill": {
     "duration": 0.019066,
     "end_time": "2025-08-05T14:38:47.527954",
     "exception": false,
     "start_time": "2025-08-05T14:38:47.508888",
     "status": "completed"
    },
    "tags": []
   },
   "outputs": [],
   "source": [
    "y_true = y_true.squeeze()"
   ]
  },
  {
   "cell_type": "code",
   "execution_count": 50,
   "id": "3a58a54a-1e68-46b9-927a-df01f18aebc8",
   "metadata": {
    "execution": {
     "iopub.execute_input": "2025-08-05T14:38:47.557973Z",
     "iopub.status.busy": "2025-08-05T14:38:47.557194Z",
     "iopub.status.idle": "2025-08-05T14:38:48.230204Z",
     "shell.execute_reply": "2025-08-05T14:38:48.229157Z"
    },
    "papermill": {
     "duration": 0.691209,
     "end_time": "2025-08-05T14:38:48.232025",
     "exception": false,
     "start_time": "2025-08-05T14:38:47.540816",
     "status": "completed"
    },
    "tags": []
   },
   "outputs": [],
   "source": [
    "from fairness_multiverse.conformal import evaluate_sets\n",
    "\n",
    "# Evaluate coverage and average set size on test data\n",
    "metrics = evaluate_sets(pred_sets, y_true)"
   ]
  },
  {
   "cell_type": "markdown",
   "id": "2b569c12-9aaa-4c88-98c9-bbcd0cf3ebb8",
   "metadata": {
    "papermill": {
     "duration": 0.011401,
     "end_time": "2025-08-05T14:38:48.266190",
     "exception": false,
     "start_time": "2025-08-05T14:38:48.254789",
     "status": "completed"
    },
    "tags": []
   },
   "source": [
    "# CP Metrics"
   ]
  },
  {
   "cell_type": "code",
   "execution_count": 51,
   "id": "5ce0a5cb-201f-45a0-ade5-94c7f0bd6095",
   "metadata": {
    "execution": {
     "iopub.execute_input": "2025-08-05T14:38:48.294489Z",
     "iopub.status.busy": "2025-08-05T14:38:48.294075Z",
     "iopub.status.idle": "2025-08-05T14:38:48.300990Z",
     "shell.execute_reply": "2025-08-05T14:38:48.300256Z"
    },
    "papermill": {
     "duration": 0.021807,
     "end_time": "2025-08-05T14:38:48.303096",
     "exception": false,
     "start_time": "2025-08-05T14:38:48.281289",
     "status": "completed"
    },
    "tags": []
   },
   "outputs": [
    {
     "data": {
      "text/plain": [
       "{'coverage': 0.9124289376881061, 'avg_size': 1.1254152268420465}"
      ]
     },
     "execution_count": 51,
     "metadata": {},
     "output_type": "execute_result"
    }
   ],
   "source": [
    "metrics"
   ]
  },
  {
   "cell_type": "code",
   "execution_count": 52,
   "id": "9b9a838d-31c9-430b-ae14-12baee460d17",
   "metadata": {
    "execution": {
     "iopub.execute_input": "2025-08-05T14:38:48.332785Z",
     "iopub.status.busy": "2025-08-05T14:38:48.332033Z",
     "iopub.status.idle": "2025-08-05T14:38:48.338818Z",
     "shell.execute_reply": "2025-08-05T14:38:48.337828Z"
    },
    "papermill": {
     "duration": 0.022577,
     "end_time": "2025-08-05T14:38:48.340537",
     "exception": false,
     "start_time": "2025-08-05T14:38:48.317960",
     "status": "completed"
    },
    "tags": []
   },
   "outputs": [],
   "source": [
    "example_universe = universe.copy()\n",
    "universe_training_year = example_universe.get(\"training_year\")\n",
    "universe_training_size = example_universe.get(\"training_size\")\n",
    "universe_scale = example_universe.get(\"scale\")\n",
    "universe_model = example_universe.get(\"model\")\n",
    "universe_exclude_features = example_universe.get(\"exclude_features\")\n",
    "universe_exclude_subgroups = example_universe.get(\"exclude_subgroups\")"
   ]
  },
  {
   "cell_type": "code",
   "execution_count": 53,
   "id": "f4b6a8ac-9dc0-4245-8a91-5b3b5999c4f9",
   "metadata": {
    "execution": {
     "iopub.execute_input": "2025-08-05T14:38:48.388668Z",
     "iopub.status.busy": "2025-08-05T14:38:48.388291Z",
     "iopub.status.idle": "2025-08-05T14:38:48.394024Z",
     "shell.execute_reply": "2025-08-05T14:38:48.393307Z"
    },
    "papermill": {
     "duration": 0.03021,
     "end_time": "2025-08-05T14:38:48.395203",
     "exception": false,
     "start_time": "2025-08-05T14:38:48.364993",
     "status": "completed"
    },
    "tags": []
   },
   "outputs": [],
   "source": [
    "cp_metrics_dict = {\n",
    "    \"universe_id\": [universe_id],\n",
    "    \"universe_training_year\": [universe_training_year],\n",
    "    \"universe_training_size\": [universe_training_size],\n",
    "    \"universe_scale\": [universe_scale],\n",
    "    \"universe_model\": [universe_model],\n",
    "    \"universe_exclude_features\": [universe_exclude_features],\n",
    "    \"universe_exclude_subgroups\": [universe_exclude_subgroups],\n",
    "    \"q_hat\": [q_hat],\n",
    "    \"coverage\": [metrics[\"coverage\"]],\n",
    "    \"avg_size\": [metrics[\"avg_size\"]],\n",
    "}"
   ]
  },
  {
   "cell_type": "code",
   "execution_count": 54,
   "id": "908acbb1-0371-4915-85ca-3fa520d2efe2",
   "metadata": {
    "execution": {
     "iopub.execute_input": "2025-08-05T14:38:48.438860Z",
     "iopub.status.busy": "2025-08-05T14:38:48.438364Z",
     "iopub.status.idle": "2025-08-05T14:38:48.465474Z",
     "shell.execute_reply": "2025-08-05T14:38:48.464285Z"
    },
    "papermill": {
     "duration": 0.055426,
     "end_time": "2025-08-05T14:38:48.467309",
     "exception": false,
     "start_time": "2025-08-05T14:38:48.411883",
     "status": "completed"
    },
    "tags": []
   },
   "outputs": [
    {
     "data": {
      "text/plain": [
       "{'universe_id': ['e1adc4339c174af87fefed9b1223f53d'],\n",
       " 'universe_training_year': ['2014'],\n",
       " 'universe_training_size': ['25k'],\n",
       " 'universe_scale': ['scale'],\n",
       " 'universe_model': ['elasticnet'],\n",
       " 'universe_exclude_features': ['none'],\n",
       " 'universe_exclude_subgroups': ['keep-all'],\n",
       " 'q_hat': [0.6757035356595213],\n",
       " 'coverage': [0.9124289376881061],\n",
       " 'avg_size': [1.1254152268420465]}"
      ]
     },
     "execution_count": 54,
     "metadata": {},
     "output_type": "execute_result"
    }
   ],
   "source": [
    "cp_metrics_dict"
   ]
  },
  {
   "cell_type": "code",
   "execution_count": 55,
   "id": "33007efc-14e9-4ec6-97ac-56a455c82265",
   "metadata": {
    "execution": {
     "iopub.execute_input": "2025-08-05T14:38:48.521308Z",
     "iopub.status.busy": "2025-08-05T14:38:48.520380Z",
     "iopub.status.idle": "2025-08-05T14:38:48.528353Z",
     "shell.execute_reply": "2025-08-05T14:38:48.527217Z"
    },
    "papermill": {
     "duration": 0.03673,
     "end_time": "2025-08-05T14:38:48.530428",
     "exception": false,
     "start_time": "2025-08-05T14:38:48.493698",
     "status": "completed"
    },
    "tags": []
   },
   "outputs": [],
   "source": [
    "cp_metrics_df = pd.DataFrame(cp_metrics_dict)"
   ]
  },
  {
   "cell_type": "code",
   "execution_count": 56,
   "id": "db12611b-57b2-4910-b9d0-355adfd6e7bf",
   "metadata": {
    "execution": {
     "iopub.execute_input": "2025-08-05T14:38:48.566868Z",
     "iopub.status.busy": "2025-08-05T14:38:48.566057Z",
     "iopub.status.idle": "2025-08-05T14:38:48.580490Z",
     "shell.execute_reply": "2025-08-05T14:38:48.579641Z"
    },
    "papermill": {
     "duration": 0.030092,
     "end_time": "2025-08-05T14:38:48.581823",
     "exception": false,
     "start_time": "2025-08-05T14:38:48.551731",
     "status": "completed"
    },
    "tags": []
   },
   "outputs": [
    {
     "data": {
      "text/html": [
       "<div>\n",
       "<style scoped>\n",
       "    .dataframe tbody tr th:only-of-type {\n",
       "        vertical-align: middle;\n",
       "    }\n",
       "\n",
       "    .dataframe tbody tr th {\n",
       "        vertical-align: top;\n",
       "    }\n",
       "\n",
       "    .dataframe thead th {\n",
       "        text-align: right;\n",
       "    }\n",
       "</style>\n",
       "<table border=\"1\" class=\"dataframe\">\n",
       "  <thead>\n",
       "    <tr style=\"text-align: right;\">\n",
       "      <th></th>\n",
       "      <th>universe_id</th>\n",
       "      <th>universe_training_year</th>\n",
       "      <th>universe_training_size</th>\n",
       "      <th>universe_scale</th>\n",
       "      <th>universe_model</th>\n",
       "      <th>universe_exclude_features</th>\n",
       "      <th>universe_exclude_subgroups</th>\n",
       "      <th>q_hat</th>\n",
       "      <th>coverage</th>\n",
       "      <th>avg_size</th>\n",
       "    </tr>\n",
       "  </thead>\n",
       "  <tbody>\n",
       "    <tr>\n",
       "      <th>0</th>\n",
       "      <td>e1adc4339c174af87fefed9b1223f53d</td>\n",
       "      <td>2014</td>\n",
       "      <td>25k</td>\n",
       "      <td>scale</td>\n",
       "      <td>elasticnet</td>\n",
       "      <td>none</td>\n",
       "      <td>keep-all</td>\n",
       "      <td>0.675704</td>\n",
       "      <td>0.912429</td>\n",
       "      <td>1.125415</td>\n",
       "    </tr>\n",
       "  </tbody>\n",
       "</table>\n",
       "</div>"
      ],
      "text/plain": [
       "                        universe_id universe_training_year  \\\n",
       "0  e1adc4339c174af87fefed9b1223f53d                   2014   \n",
       "\n",
       "  universe_training_size universe_scale universe_model  \\\n",
       "0                    25k          scale     elasticnet   \n",
       "\n",
       "  universe_exclude_features universe_exclude_subgroups     q_hat  coverage  \\\n",
       "0                      none                   keep-all  0.675704  0.912429   \n",
       "\n",
       "   avg_size  \n",
       "0  1.125415  "
      ]
     },
     "execution_count": 56,
     "metadata": {},
     "output_type": "execute_result"
    }
   ],
   "source": [
    "cp_metrics_df"
   ]
  },
  {
   "cell_type": "code",
   "execution_count": 57,
   "id": "b7fbde55-a0a1-47e4-9af6-fe4a17fa8c61",
   "metadata": {
    "execution": {
     "iopub.execute_input": "2025-08-05T14:38:48.608767Z",
     "iopub.status.busy": "2025-08-05T14:38:48.608048Z",
     "iopub.status.idle": "2025-08-05T14:38:48.612594Z",
     "shell.execute_reply": "2025-08-05T14:38:48.611910Z"
    },
    "papermill": {
     "duration": 0.019801,
     "end_time": "2025-08-05T14:38:48.614603",
     "exception": false,
     "start_time": "2025-08-05T14:38:48.594802",
     "status": "completed"
    },
    "tags": []
   },
   "outputs": [],
   "source": [
    "# Conditional Coverage & looking at subgroups"
   ]
  },
  {
   "cell_type": "code",
   "execution_count": 58,
   "id": "027ae886-68dd-4141-96c7-805a5450e1ef",
   "metadata": {
    "execution": {
     "iopub.execute_input": "2025-08-05T14:38:48.688908Z",
     "iopub.status.busy": "2025-08-05T14:38:48.688402Z",
     "iopub.status.idle": "2025-08-05T14:38:48.922006Z",
     "shell.execute_reply": "2025-08-05T14:38:48.920861Z"
    },
    "papermill": {
     "duration": 0.275378,
     "end_time": "2025-08-05T14:38:48.923590",
     "exception": false,
     "start_time": "2025-08-05T14:38:48.648212",
     "status": "completed"
    },
    "tags": []
   },
   "outputs": [],
   "source": [
    "from fairness_multiverse.conformal import build_cp_groups\n",
    "\n",
    "cp_groups_df = build_cp_groups(pred_sets, y_true, X_test.index, org_test)\n",
    "#needs universe_id and setting"
   ]
  },
  {
   "cell_type": "code",
   "execution_count": 59,
   "id": "01d5802c-663a-4d1f-9d69-e036faaffbf7",
   "metadata": {
    "execution": {
     "iopub.execute_input": "2025-08-05T14:38:48.974494Z",
     "iopub.status.busy": "2025-08-05T14:38:48.973834Z",
     "iopub.status.idle": "2025-08-05T14:38:48.979442Z",
     "shell.execute_reply": "2025-08-05T14:38:48.978332Z"
    },
    "papermill": {
     "duration": 0.03396,
     "end_time": "2025-08-05T14:38:48.981245",
     "exception": false,
     "start_time": "2025-08-05T14:38:48.947285",
     "status": "completed"
    },
    "tags": []
   },
   "outputs": [],
   "source": [
    "#delete\n",
    "#cp_groups_df"
   ]
  },
  {
   "cell_type": "code",
   "execution_count": 60,
   "id": "fa424af1-d1eb-443d-b717-2d279ada8408",
   "metadata": {
    "execution": {
     "iopub.execute_input": "2025-08-05T14:38:49.034635Z",
     "iopub.status.busy": "2025-08-05T14:38:49.033803Z",
     "iopub.status.idle": "2025-08-05T14:38:49.039544Z",
     "shell.execute_reply": "2025-08-05T14:38:49.038476Z"
    },
    "papermill": {
     "duration": 0.03446,
     "end_time": "2025-08-05T14:38:49.041402",
     "exception": false,
     "start_time": "2025-08-05T14:38:49.006942",
     "status": "completed"
    },
    "tags": []
   },
   "outputs": [],
   "source": [
    "#delete\n",
    "#percentage = (cp_groups_df['nongerman_female'] == 1).mean() * 100\n",
    "#print(percentage)\n"
   ]
  },
  {
   "cell_type": "code",
   "execution_count": 61,
   "id": "6cbdab96-b2b2-45af-ad54-d0516db2e28d",
   "metadata": {
    "execution": {
     "iopub.execute_input": "2025-08-05T14:38:49.095407Z",
     "iopub.status.busy": "2025-08-05T14:38:49.093105Z",
     "iopub.status.idle": "2025-08-05T14:38:50.279830Z",
     "shell.execute_reply": "2025-08-05T14:38:50.279102Z"
    },
    "papermill": {
     "duration": 1.214172,
     "end_time": "2025-08-05T14:38:50.281247",
     "exception": false,
     "start_time": "2025-08-05T14:38:49.067075",
     "status": "completed"
    },
    "tags": []
   },
   "outputs": [],
   "source": [
    "# Define covered = 1 if true_label is in the predicted set\n",
    "cp_groups_df['covered'] = cp_groups_df.apply(\n",
    "    lambda r: int(r['true_label'] in r['pred_set']),\n",
    "    axis=1\n",
    ")"
   ]
  },
  {
   "cell_type": "code",
   "execution_count": 62,
   "id": "338ff529-1a6b-4b87-a931-8e4788d52aad",
   "metadata": {
    "execution": {
     "iopub.execute_input": "2025-08-05T14:38:50.312344Z",
     "iopub.status.busy": "2025-08-05T14:38:50.312003Z",
     "iopub.status.idle": "2025-08-05T14:38:50.317304Z",
     "shell.execute_reply": "2025-08-05T14:38:50.316631Z"
    },
    "papermill": {
     "duration": 0.022037,
     "end_time": "2025-08-05T14:38:50.318611",
     "exception": false,
     "start_time": "2025-08-05T14:38:50.296574",
     "status": "completed"
    },
    "tags": []
   },
   "outputs": [],
   "source": [
    "#cp_groups_df"
   ]
  },
  {
   "cell_type": "code",
   "execution_count": 63,
   "id": "90032e27-66df-4540-9169-4e89cfbaa758",
   "metadata": {
    "execution": {
     "iopub.execute_input": "2025-08-05T14:38:50.346820Z",
     "iopub.status.busy": "2025-08-05T14:38:50.346591Z",
     "iopub.status.idle": "2025-08-05T14:38:50.354885Z",
     "shell.execute_reply": "2025-08-05T14:38:50.354092Z"
    },
    "papermill": {
     "duration": 0.022633,
     "end_time": "2025-08-05T14:38:50.356312",
     "exception": false,
     "start_time": "2025-08-05T14:38:50.333679",
     "status": "completed"
    },
    "tags": []
   },
   "outputs": [],
   "source": [
    "subgroups = ['frau1','nongerman','nongerman_male','nongerman_female']\n",
    "\n",
    "# Conditional coverage for subgroup==1\n",
    "cond_coverage = {\n",
    "    g: cp_groups_df.loc[cp_groups_df[g]==1, 'covered'].mean()\n",
    "    for g in subgroups\n",
    "}"
   ]
  },
  {
   "cell_type": "code",
   "execution_count": 64,
   "id": "1e348fb1-b9c3-45bc-ba23-f016827a7e0d",
   "metadata": {
    "execution": {
     "iopub.execute_input": "2025-08-05T14:38:50.387378Z",
     "iopub.status.busy": "2025-08-05T14:38:50.386716Z",
     "iopub.status.idle": "2025-08-05T14:38:50.392884Z",
     "shell.execute_reply": "2025-08-05T14:38:50.391844Z"
    },
    "papermill": {
     "duration": 0.020972,
     "end_time": "2025-08-05T14:38:50.394536",
     "exception": false,
     "start_time": "2025-08-05T14:38:50.373564",
     "status": "completed"
    },
    "tags": []
   },
   "outputs": [
    {
     "data": {
      "text/plain": [
       "{'frau1': 0.9111740126701712,\n",
       " 'nongerman': 0.9128726211194071,\n",
       " 'nongerman_male': 0.9282175988471584,\n",
       " 'nongerman_female': 0.8874813710879285}"
      ]
     },
     "execution_count": 64,
     "metadata": {},
     "output_type": "execute_result"
    }
   ],
   "source": [
    "cond_coverage"
   ]
  },
  {
   "cell_type": "code",
   "execution_count": 65,
   "id": "f5093324-c3dd-4d63-bc4c-8d945e5c8bbb",
   "metadata": {
    "execution": {
     "iopub.execute_input": "2025-08-05T14:38:50.448438Z",
     "iopub.status.busy": "2025-08-05T14:38:50.447542Z",
     "iopub.status.idle": "2025-08-05T14:38:50.455438Z",
     "shell.execute_reply": "2025-08-05T14:38:50.454536Z"
    },
    "papermill": {
     "duration": 0.036176,
     "end_time": "2025-08-05T14:38:50.456953",
     "exception": false,
     "start_time": "2025-08-05T14:38:50.420777",
     "status": "completed"
    },
    "tags": []
   },
   "outputs": [],
   "source": [
    "for subgroup, cov in cond_coverage.items():\n",
    "    cp_metrics_df[f\"cov_{subgroup}\"] = cov"
   ]
  },
  {
   "cell_type": "code",
   "execution_count": 66,
   "id": "6e872e10-dbe5-49e8-b554-5030c98ff75d",
   "metadata": {
    "execution": {
     "iopub.execute_input": "2025-08-05T14:38:50.509338Z",
     "iopub.status.busy": "2025-08-05T14:38:50.508835Z",
     "iopub.status.idle": "2025-08-05T14:38:50.524096Z",
     "shell.execute_reply": "2025-08-05T14:38:50.523273Z"
    },
    "papermill": {
     "duration": 0.043088,
     "end_time": "2025-08-05T14:38:50.525610",
     "exception": false,
     "start_time": "2025-08-05T14:38:50.482522",
     "status": "completed"
    },
    "tags": []
   },
   "outputs": [
    {
     "data": {
      "text/html": [
       "<div>\n",
       "<style scoped>\n",
       "    .dataframe tbody tr th:only-of-type {\n",
       "        vertical-align: middle;\n",
       "    }\n",
       "\n",
       "    .dataframe tbody tr th {\n",
       "        vertical-align: top;\n",
       "    }\n",
       "\n",
       "    .dataframe thead th {\n",
       "        text-align: right;\n",
       "    }\n",
       "</style>\n",
       "<table border=\"1\" class=\"dataframe\">\n",
       "  <thead>\n",
       "    <tr style=\"text-align: right;\">\n",
       "      <th></th>\n",
       "      <th>universe_id</th>\n",
       "      <th>universe_training_year</th>\n",
       "      <th>universe_training_size</th>\n",
       "      <th>universe_scale</th>\n",
       "      <th>universe_model</th>\n",
       "      <th>universe_exclude_features</th>\n",
       "      <th>universe_exclude_subgroups</th>\n",
       "      <th>q_hat</th>\n",
       "      <th>coverage</th>\n",
       "      <th>avg_size</th>\n",
       "      <th>cov_frau1</th>\n",
       "      <th>cov_nongerman</th>\n",
       "      <th>cov_nongerman_male</th>\n",
       "      <th>cov_nongerman_female</th>\n",
       "    </tr>\n",
       "  </thead>\n",
       "  <tbody>\n",
       "    <tr>\n",
       "      <th>0</th>\n",
       "      <td>e1adc4339c174af87fefed9b1223f53d</td>\n",
       "      <td>2014</td>\n",
       "      <td>25k</td>\n",
       "      <td>scale</td>\n",
       "      <td>elasticnet</td>\n",
       "      <td>none</td>\n",
       "      <td>keep-all</td>\n",
       "      <td>0.675704</td>\n",
       "      <td>0.912429</td>\n",
       "      <td>1.125415</td>\n",
       "      <td>0.911174</td>\n",
       "      <td>0.912873</td>\n",
       "      <td>0.928218</td>\n",
       "      <td>0.887481</td>\n",
       "    </tr>\n",
       "  </tbody>\n",
       "</table>\n",
       "</div>"
      ],
      "text/plain": [
       "                        universe_id universe_training_year  \\\n",
       "0  e1adc4339c174af87fefed9b1223f53d                   2014   \n",
       "\n",
       "  universe_training_size universe_scale universe_model  \\\n",
       "0                    25k          scale     elasticnet   \n",
       "\n",
       "  universe_exclude_features universe_exclude_subgroups     q_hat  coverage  \\\n",
       "0                      none                   keep-all  0.675704  0.912429   \n",
       "\n",
       "   avg_size  cov_frau1  cov_nongerman  cov_nongerman_male  \\\n",
       "0  1.125415   0.911174       0.912873            0.928218   \n",
       "\n",
       "   cov_nongerman_female  \n",
       "0              0.887481  "
      ]
     },
     "execution_count": 66,
     "metadata": {},
     "output_type": "execute_result"
    }
   ],
   "source": [
    "cp_metrics_df"
   ]
  },
  {
   "cell_type": "markdown",
   "id": "33774451",
   "metadata": {
    "papermill": {
     "duration": 0.012429,
     "end_time": "2025-08-05T14:38:50.551205",
     "exception": false,
     "start_time": "2025-08-05T14:38:50.538776",
     "status": "completed"
    },
    "tags": []
   },
   "source": [
    "# (Fairness) Metrics"
   ]
  },
  {
   "cell_type": "code",
   "execution_count": 67,
   "id": "debc5d62",
   "metadata": {
    "execution": {
     "iopub.execute_input": "2025-08-05T14:38:50.577589Z",
     "iopub.status.busy": "2025-08-05T14:38:50.576790Z",
     "iopub.status.idle": "2025-08-05T14:38:50.590973Z",
     "shell.execute_reply": "2025-08-05T14:38:50.590320Z"
    },
    "papermill": {
     "duration": 0.028618,
     "end_time": "2025-08-05T14:38:50.592215",
     "exception": false,
     "start_time": "2025-08-05T14:38:50.563597",
     "status": "completed"
    },
    "tags": []
   },
   "outputs": [],
   "source": [
    "# do I need to include maxdeutsch1.missing?\n",
    "\n",
    "import numpy as np\n",
    "\n",
    "colname_to_bin = \"maxdeutsch1\"\n",
    "majority_value = org_train[colname_to_bin].mode()[0]\n",
    "\n",
    "org_test[\"majmin\"] = np.where(org_test[colname_to_bin] == majority_value, \"majority\", \"minority\")"
   ]
  },
  {
   "cell_type": "code",
   "execution_count": 68,
   "id": "06a50de5",
   "metadata": {
    "execution": {
     "iopub.execute_input": "2025-08-05T14:38:50.641383Z",
     "iopub.status.busy": "2025-08-05T14:38:50.640980Z",
     "iopub.status.idle": "2025-08-05T14:38:53.486770Z",
     "shell.execute_reply": "2025-08-05T14:38:53.485700Z"
    },
    "papermill": {
     "duration": 2.875062,
     "end_time": "2025-08-05T14:38:53.489204",
     "exception": false,
     "start_time": "2025-08-05T14:38:50.614142",
     "status": "completed"
    },
    "tags": []
   },
   "outputs": [],
   "source": [
    "example_universe = universe.copy()\n",
    "example_universe[\"cutoff\"] = example_universe[\"cutoff\"][0]\n",
    "example_universe[\"eval_fairness_grouping\"] = example_universe[\"eval_fairness_grouping\"][0]\n",
    "fairness_dict, metric_frame = universe_analysis.compute_metrics(\n",
    "    example_universe,\n",
    "    y_pred_prob=probs_test,\n",
    "    y_test=y_true,\n",
    "    org_test=org_test,\n",
    ")"
   ]
  },
  {
   "cell_type": "markdown",
   "id": "f95d4e02",
   "metadata": {
    "papermill": {
     "duration": 0.032083,
     "end_time": "2025-08-05T14:38:53.556255",
     "exception": false,
     "start_time": "2025-08-05T14:38:53.524172",
     "status": "completed"
    },
    "tags": []
   },
   "source": [
    "# Overall"
   ]
  },
  {
   "cell_type": "markdown",
   "id": "bdee4871",
   "metadata": {
    "papermill": {
     "duration": 0.025057,
     "end_time": "2025-08-05T14:38:53.606775",
     "exception": false,
     "start_time": "2025-08-05T14:38:53.581718",
     "status": "completed"
    },
    "tags": []
   },
   "source": [
    "Fairness\n",
    "Main fairness target: Equalized Odds. Seems to be a better fit than equal opportunity, since we're not only interested in Y = 1. Seems to be a better fit than demographic parity, since we also care about accuracy, not just equal distribution of preds.\n",
    "\n",
    "Pick column for computation of fairness metrics\n",
    "\n",
    "Performance\n",
    "Overall performance measures, most interesting in relation to the measures split by group below"
   ]
  },
  {
   "cell_type": "code",
   "execution_count": 69,
   "id": "c4e067c6",
   "metadata": {
    "execution": {
     "iopub.execute_input": "2025-08-05T14:38:53.636864Z",
     "iopub.status.busy": "2025-08-05T14:38:53.636457Z",
     "iopub.status.idle": "2025-08-05T14:38:53.644029Z",
     "shell.execute_reply": "2025-08-05T14:38:53.643132Z"
    },
    "papermill": {
     "duration": 0.022683,
     "end_time": "2025-08-05T14:38:53.645590",
     "exception": false,
     "start_time": "2025-08-05T14:38:53.622907",
     "status": "completed"
    },
    "tags": []
   },
   "outputs": [
    {
     "data": {
      "text/plain": [
       "accuracy                   0.225516\n",
       "balanced accuracy          0.551177\n",
       "f1                         0.246816\n",
       "precision                  0.140998\n",
       "false positive rate        0.886870\n",
       "false negative rate        0.010775\n",
       "selection rate             0.900000\n",
       "count                  89710.000000\n",
       "dtype: float64"
      ]
     },
     "execution_count": 69,
     "metadata": {},
     "output_type": "execute_result"
    }
   ],
   "source": [
    "metric_frame.overall"
   ]
  },
  {
   "cell_type": "markdown",
   "id": "e968fe9d",
   "metadata": {
    "papermill": {
     "duration": 0.018068,
     "end_time": "2025-08-05T14:38:53.677260",
     "exception": false,
     "start_time": "2025-08-05T14:38:53.659192",
     "status": "completed"
    },
    "tags": []
   },
   "source": [
    "By Group"
   ]
  },
  {
   "cell_type": "code",
   "execution_count": 70,
   "id": "ec325bce",
   "metadata": {
    "execution": {
     "iopub.execute_input": "2025-08-05T14:38:53.705159Z",
     "iopub.status.busy": "2025-08-05T14:38:53.704809Z",
     "iopub.status.idle": "2025-08-05T14:38:53.717214Z",
     "shell.execute_reply": "2025-08-05T14:38:53.716435Z"
    },
    "papermill": {
     "duration": 0.028098,
     "end_time": "2025-08-05T14:38:53.718614",
     "exception": false,
     "start_time": "2025-08-05T14:38:53.690516",
     "status": "completed"
    },
    "tags": []
   },
   "outputs": [
    {
     "data": {
      "text/html": [
       "<div>\n",
       "<style scoped>\n",
       "    .dataframe tbody tr th:only-of-type {\n",
       "        vertical-align: middle;\n",
       "    }\n",
       "\n",
       "    .dataframe tbody tr th {\n",
       "        vertical-align: top;\n",
       "    }\n",
       "\n",
       "    .dataframe thead th {\n",
       "        text-align: right;\n",
       "    }\n",
       "</style>\n",
       "<table border=\"1\" class=\"dataframe\">\n",
       "  <thead>\n",
       "    <tr style=\"text-align: right;\">\n",
       "      <th></th>\n",
       "      <th>accuracy</th>\n",
       "      <th>balanced accuracy</th>\n",
       "      <th>f1</th>\n",
       "      <th>precision</th>\n",
       "      <th>false positive rate</th>\n",
       "      <th>false negative rate</th>\n",
       "      <th>selection rate</th>\n",
       "      <th>count</th>\n",
       "    </tr>\n",
       "    <tr>\n",
       "      <th>majmin</th>\n",
       "      <th></th>\n",
       "      <th></th>\n",
       "      <th></th>\n",
       "      <th></th>\n",
       "      <th></th>\n",
       "      <th></th>\n",
       "      <th></th>\n",
       "      <th></th>\n",
       "    </tr>\n",
       "  </thead>\n",
       "  <tbody>\n",
       "    <tr>\n",
       "      <th>majority</th>\n",
       "      <td>0.247564</td>\n",
       "      <td>0.561399</td>\n",
       "      <td>0.257610</td>\n",
       "      <td>0.148115</td>\n",
       "      <td>0.865167</td>\n",
       "      <td>0.012035</td>\n",
       "      <td>0.881394</td>\n",
       "      <td>69170.0</td>\n",
       "    </tr>\n",
       "    <tr>\n",
       "      <th>minority</th>\n",
       "      <td>0.151266</td>\n",
       "      <td>0.517763</td>\n",
       "      <td>0.212637</td>\n",
       "      <td>0.119051</td>\n",
       "      <td>0.958563</td>\n",
       "      <td>0.005912</td>\n",
       "      <td>0.962658</td>\n",
       "      <td>20540.0</td>\n",
       "    </tr>\n",
       "  </tbody>\n",
       "</table>\n",
       "</div>"
      ],
      "text/plain": [
       "          accuracy  balanced accuracy        f1  precision  \\\n",
       "majmin                                                       \n",
       "majority  0.247564           0.561399  0.257610   0.148115   \n",
       "minority  0.151266           0.517763  0.212637   0.119051   \n",
       "\n",
       "          false positive rate  false negative rate  selection rate    count  \n",
       "majmin                                                                       \n",
       "majority             0.865167             0.012035        0.881394  69170.0  \n",
       "minority             0.958563             0.005912        0.962658  20540.0  "
      ]
     },
     "execution_count": 70,
     "metadata": {},
     "output_type": "execute_result"
    }
   ],
   "source": [
    "metric_frame.by_group"
   ]
  },
  {
   "cell_type": "code",
   "execution_count": 71,
   "id": "a9ddbe63",
   "metadata": {
    "execution": {
     "iopub.execute_input": "2025-08-05T14:38:53.752372Z",
     "iopub.status.busy": "2025-08-05T14:38:53.751691Z",
     "iopub.status.idle": "2025-08-05T14:38:56.211292Z",
     "shell.execute_reply": "2025-08-05T14:38:56.210412Z"
    },
    "papermill": {
     "duration": 2.475172,
     "end_time": "2025-08-05T14:38:56.212819",
     "exception": false,
     "start_time": "2025-08-05T14:38:53.737647",
     "status": "completed"
    },
    "tags": []
   },
   "outputs": [
    {
     "data": {
      "text/plain": [
       "array([[<Axes: title={'center': 'accuracy'}, xlabel='majmin'>,\n",
       "        <Axes: title={'center': 'balanced accuracy'}, xlabel='majmin'>,\n",
       "        <Axes: title={'center': 'f1'}, xlabel='majmin'>],\n",
       "       [<Axes: title={'center': 'precision'}, xlabel='majmin'>,\n",
       "        <Axes: title={'center': 'false positive rate'}, xlabel='majmin'>,\n",
       "        <Axes: title={'center': 'false negative rate'}, xlabel='majmin'>],\n",
       "       [<Axes: title={'center': 'selection rate'}, xlabel='majmin'>,\n",
       "        <Axes: title={'center': 'count'}, xlabel='majmin'>,\n",
       "        <Axes: xlabel='majmin'>]], dtype=object)"
      ]
     },
     "execution_count": 71,
     "metadata": {},
     "output_type": "execute_result"
    },
    {
     "data": {
      "image/png": "[encoded data removed]",
      "text/plain": [
       "<Figure size 1200x800 with 9 Axes>"
      ]
     },
     "metadata": {},
     "output_type": "display_data"
    }
   ],
   "source": [
    "# In a graphic\n",
    "metric_frame.by_group.plot.bar(\n",
    "    subplots=True,\n",
    "    layout=[3, 3],\n",
    "    legend=False,\n",
    "    figsize=[12, 8],\n",
    "    title=\"Show all metrics\",\n",
    ")"
   ]
  },
  {
   "cell_type": "markdown",
   "id": "f57a0bac",
   "metadata": {
    "papermill": {
     "duration": 0.025112,
     "end_time": "2025-08-05T14:38:56.268816",
     "exception": false,
     "start_time": "2025-08-05T14:38:56.243704",
     "status": "completed"
    },
    "tags": []
   },
   "source": [
    "# Final Output"
   ]
  },
  {
   "cell_type": "code",
   "execution_count": 72,
   "id": "96d280a3",
   "metadata": {
    "execution": {
     "iopub.execute_input": "2025-08-05T14:38:56.320500Z",
     "iopub.status.busy": "2025-08-05T14:38:56.319895Z",
     "iopub.status.idle": "2025-08-05T14:38:56.327884Z",
     "shell.execute_reply": "2025-08-05T14:38:56.327061Z"
    },
    "papermill": {
     "duration": 0.03534,
     "end_time": "2025-08-05T14:38:56.329361",
     "exception": false,
     "start_time": "2025-08-05T14:38:56.294021",
     "status": "completed"
    },
    "tags": []
   },
   "outputs": [
    {
     "data": {
      "text/plain": [
       "4"
      ]
     },
     "execution_count": 72,
     "metadata": {},
     "output_type": "execute_result"
    }
   ],
   "source": [
    "sub_universes = universe_analysis.generate_sub_universes()\n",
    "len(sub_universes)"
   ]
  },
  {
   "cell_type": "code",
   "execution_count": 73,
   "id": "92adf7ba",
   "metadata": {
    "execution": {
     "iopub.execute_input": "2025-08-05T14:38:56.380610Z",
     "iopub.status.busy": "2025-08-05T14:38:56.379883Z",
     "iopub.status.idle": "2025-08-05T14:38:56.385763Z",
     "shell.execute_reply": "2025-08-05T14:38:56.384779Z"
    },
    "papermill": {
     "duration": 0.033326,
     "end_time": "2025-08-05T14:38:56.387550",
     "exception": false,
     "start_time": "2025-08-05T14:38:56.354224",
     "status": "completed"
    },
    "tags": []
   },
   "outputs": [],
   "source": [
    "def filter_sub_universe_data(sub_universe, org_test):\n",
    "    # Keep all rows — no filtering\n",
    "    keep_rows_mask = np.ones(org_test.shape[0], dtype=bool)\n",
    "\n",
    "    print(f\"[INFO] Keeping all rows: {keep_rows_mask.sum()} rows retained.\")\n",
    "    return keep_rows_mask"
   ]
  },
  {
   "cell_type": "code",
   "execution_count": 74,
   "id": "4a759155",
   "metadata": {
    "execution": {
     "iopub.execute_input": "2025-08-05T14:38:56.444601Z",
     "iopub.status.busy": "2025-08-05T14:38:56.444019Z",
     "iopub.status.idle": "2025-08-05T14:39:04.947675Z",
     "shell.execute_reply": "2025-08-05T14:39:04.946593Z"
    },
    "papermill": {
     "duration": 8.533872,
     "end_time": "2025-08-05T14:39:04.949547",
     "exception": false,
     "start_time": "2025-08-05T14:38:56.415675",
     "status": "completed"
    },
    "tags": []
   },
   "outputs": [
    {
     "name": "stdout",
     "output_type": "stream",
     "text": [
      "Stopping execution_time clock.\n",
      "[INFO] Keeping all rows: 89710 rows retained.\n"
     ]
    },
    {
     "name": "stdout",
     "output_type": "stream",
     "text": [
      "[INFO] Keeping all rows: 89710 rows retained.\n"
     ]
    },
    {
     "name": "stdout",
     "output_type": "stream",
     "text": [
      "[INFO] Keeping all rows: 89710 rows retained.\n"
     ]
    },
    {
     "name": "stdout",
     "output_type": "stream",
     "text": [
      "[INFO] Keeping all rows: 89710 rows retained.\n"
     ]
    },
    {
     "data": {
      "text/html": [
       "<div>\n",
       "<style scoped>\n",
       "    .dataframe tbody tr th:only-of-type {\n",
       "        vertical-align: middle;\n",
       "    }\n",
       "\n",
       "    .dataframe tbody tr th {\n",
       "        vertical-align: top;\n",
       "    }\n",
       "\n",
       "    .dataframe thead th {\n",
       "        text-align: right;\n",
       "    }\n",
       "</style>\n",
       "<table border=\"1\" class=\"dataframe\">\n",
       "  <thead>\n",
       "    <tr style=\"text-align: right;\">\n",
       "      <th></th>\n",
       "      <th>run_no</th>\n",
       "      <th>universe_id</th>\n",
       "      <th>universe_settings</th>\n",
       "      <th>execution_time</th>\n",
       "      <th>test_size_n</th>\n",
       "      <th>test_size_frac</th>\n",
       "      <th>fair_main_equalized_odds_difference</th>\n",
       "      <th>fair_main_equalized_odds_ratio</th>\n",
       "      <th>fair_main_demographic_parity_difference</th>\n",
       "      <th>fair_main_demographic_parity_ratio</th>\n",
       "      <th>...</th>\n",
       "      <th>perf_grp_precision_0</th>\n",
       "      <th>perf_grp_precision_1</th>\n",
       "      <th>perf_grp_false positive rate_0</th>\n",
       "      <th>perf_grp_false positive rate_1</th>\n",
       "      <th>perf_grp_false negative rate_0</th>\n",
       "      <th>perf_grp_false negative rate_1</th>\n",
       "      <th>perf_grp_selection rate_0</th>\n",
       "      <th>perf_grp_selection rate_1</th>\n",
       "      <th>perf_grp_count_0</th>\n",
       "      <th>perf_grp_count_1</th>\n",
       "    </tr>\n",
       "  </thead>\n",
       "  <tbody>\n",
       "    <tr>\n",
       "      <th>0</th>\n",
       "      <td>15</td>\n",
       "      <td>e1adc4339c174af87fefed9b1223f53d</td>\n",
       "      <td>{\"cutoff\": \"quantile_0.1\", \"eval_fairness_grou...</td>\n",
       "      <td>33.119286</td>\n",
       "      <td>89710</td>\n",
       "      <td>1.0</td>\n",
       "      <td>0.093395</td>\n",
       "      <td>0.902567</td>\n",
       "      <td>0.081265</td>\n",
       "      <td>0.915583</td>\n",
       "      <td>...</td>\n",
       "      <td>NaN</td>\n",
       "      <td>NaN</td>\n",
       "      <td>NaN</td>\n",
       "      <td>NaN</td>\n",
       "      <td>NaN</td>\n",
       "      <td>NaN</td>\n",
       "      <td>NaN</td>\n",
       "      <td>NaN</td>\n",
       "      <td>NaN</td>\n",
       "      <td>NaN</td>\n",
       "    </tr>\n",
       "    <tr>\n",
       "      <th>0</th>\n",
       "      <td>15</td>\n",
       "      <td>e1adc4339c174af87fefed9b1223f53d</td>\n",
       "      <td>{\"cutoff\": \"quantile_0.1\", \"eval_fairness_grou...</td>\n",
       "      <td>33.119286</td>\n",
       "      <td>89710</td>\n",
       "      <td>1.0</td>\n",
       "      <td>0.093395</td>\n",
       "      <td>0.902567</td>\n",
       "      <td>0.081265</td>\n",
       "      <td>0.915583</td>\n",
       "      <td>...</td>\n",
       "      <td>0.119051</td>\n",
       "      <td>0.148115</td>\n",
       "      <td>0.958563</td>\n",
       "      <td>0.865167</td>\n",
       "      <td>0.005912</td>\n",
       "      <td>0.012035</td>\n",
       "      <td>0.962658</td>\n",
       "      <td>0.881394</td>\n",
       "      <td>20540.0</td>\n",
       "      <td>69170.0</td>\n",
       "    </tr>\n",
       "    <tr>\n",
       "      <th>0</th>\n",
       "      <td>15</td>\n",
       "      <td>e1adc4339c174af87fefed9b1223f53d</td>\n",
       "      <td>{\"cutoff\": \"quantile_0.25\", \"eval_fairness_gro...</td>\n",
       "      <td>33.119286</td>\n",
       "      <td>89710</td>\n",
       "      <td>1.0</td>\n",
       "      <td>0.173976</td>\n",
       "      <td>0.796230</td>\n",
       "      <td>0.151234</td>\n",
       "      <td>0.825486</td>\n",
       "      <td>...</td>\n",
       "      <td>NaN</td>\n",
       "      <td>NaN</td>\n",
       "      <td>NaN</td>\n",
       "      <td>NaN</td>\n",
       "      <td>NaN</td>\n",
       "      <td>NaN</td>\n",
       "      <td>NaN</td>\n",
       "      <td>NaN</td>\n",
       "      <td>NaN</td>\n",
       "      <td>NaN</td>\n",
       "    </tr>\n",
       "    <tr>\n",
       "      <th>0</th>\n",
       "      <td>15</td>\n",
       "      <td>e1adc4339c174af87fefed9b1223f53d</td>\n",
       "      <td>{\"cutoff\": \"quantile_0.25\", \"eval_fairness_gro...</td>\n",
       "      <td>33.119286</td>\n",
       "      <td>89710</td>\n",
       "      <td>1.0</td>\n",
       "      <td>0.173976</td>\n",
       "      <td>0.796230</td>\n",
       "      <td>0.151234</td>\n",
       "      <td>0.825486</td>\n",
       "      <td>...</td>\n",
       "      <td>0.128371</td>\n",
       "      <td>0.175276</td>\n",
       "      <td>0.853786</td>\n",
       "      <td>0.679810</td>\n",
       "      <td>0.035051</td>\n",
       "      <td>0.051094</td>\n",
       "      <td>0.866602</td>\n",
       "      <td>0.715368</td>\n",
       "      <td>20540.0</td>\n",
       "      <td>69170.0</td>\n",
       "    </tr>\n",
       "  </tbody>\n",
       "</table>\n",
       "<p>4 rows × 50 columns</p>\n",
       "</div>"
      ],
      "text/plain": [
       "  run_no                       universe_id  \\\n",
       "0     15  e1adc4339c174af87fefed9b1223f53d   \n",
       "0     15  e1adc4339c174af87fefed9b1223f53d   \n",
       "0     15  e1adc4339c174af87fefed9b1223f53d   \n",
       "0     15  e1adc4339c174af87fefed9b1223f53d   \n",
       "\n",
       "                                   universe_settings  execution_time  \\\n",
       "0  {\"cutoff\": \"quantile_0.1\", \"eval_fairness_grou...       33.119286   \n",
       "0  {\"cutoff\": \"quantile_0.1\", \"eval_fairness_grou...       33.119286   \n",
       "0  {\"cutoff\": \"quantile_0.25\", \"eval_fairness_gro...       33.119286   \n",
       "0  {\"cutoff\": \"quantile_0.25\", \"eval_fairness_gro...       33.119286   \n",
       "\n",
       "   test_size_n  test_size_frac  fair_main_equalized_odds_difference  \\\n",
       "0        89710             1.0                             0.093395   \n",
       "0        89710             1.0                             0.093395   \n",
       "0        89710             1.0                             0.173976   \n",
       "0        89710             1.0                             0.173976   \n",
       "\n",
       "   fair_main_equalized_odds_ratio  fair_main_demographic_parity_difference  \\\n",
       "0                        0.902567                                 0.081265   \n",
       "0                        0.902567                                 0.081265   \n",
       "0                        0.796230                                 0.151234   \n",
       "0                        0.796230                                 0.151234   \n",
       "\n",
       "   fair_main_demographic_parity_ratio  ...  perf_grp_precision_0  \\\n",
       "0                            0.915583  ...                   NaN   \n",
       "0                            0.915583  ...              0.119051   \n",
       "0                            0.825486  ...                   NaN   \n",
       "0                            0.825486  ...              0.128371   \n",
       "\n",
       "   perf_grp_precision_1  perf_grp_false positive rate_0  \\\n",
       "0                   NaN                             NaN   \n",
       "0              0.148115                        0.958563   \n",
       "0                   NaN                             NaN   \n",
       "0              0.175276                        0.853786   \n",
       "\n",
       "   perf_grp_false positive rate_1  perf_grp_false negative rate_0  \\\n",
       "0                             NaN                             NaN   \n",
       "0                        0.865167                        0.005912   \n",
       "0                             NaN                             NaN   \n",
       "0                        0.679810                        0.035051   \n",
       "\n",
       "   perf_grp_false negative rate_1  perf_grp_selection rate_0  \\\n",
       "0                             NaN                        NaN   \n",
       "0                        0.012035                   0.962658   \n",
       "0                             NaN                        NaN   \n",
       "0                        0.051094                   0.866602   \n",
       "\n",
       "   perf_grp_selection rate_1  perf_grp_count_0  perf_grp_count_1  \n",
       "0                        NaN               NaN               NaN  \n",
       "0                   0.881394           20540.0           69170.0  \n",
       "0                        NaN               NaN               NaN  \n",
       "0                   0.715368           20540.0           69170.0  \n",
       "\n",
       "[4 rows x 50 columns]"
      ]
     },
     "execution_count": 74,
     "metadata": {},
     "output_type": "execute_result"
    }
   ],
   "source": [
    "final_output = universe_analysis.generate_final_output(\n",
    "    y_pred_prob=probs_test,\n",
    "    y_test=y_true,\n",
    "    org_test=org_test,\n",
    "    filter_data=filter_sub_universe_data,\n",
    "    cp_metrics_df=cp_metrics_df,\n",
    "    save=True,\n",
    ")\n",
    "final_output"
   ]
  },
  {
   "cell_type": "code",
   "execution_count": null,
   "id": "721ff514-cb11-46f8-b6fc-50392f74b5cb",
   "metadata": {
    "papermill": {
     "duration": 0.028903,
     "end_time": "2025-08-05T14:39:05.010996",
     "exception": false,
     "start_time": "2025-08-05T14:39:04.982093",
     "status": "completed"
    },
    "tags": []
   },
   "outputs": [],
   "source": []
  }
 ],
 "metadata": {
  "celltoolbar": "Tags",
  "kernelspec": {
   "display_name": "Python (CMA Fairness)",
   "language": "python",
   "name": "cma_fair_env"
  },
  "language_info": {
   "codemirror_mode": {
    "name": "ipython",
    "version": 3
   },
   "file_extension": ".py",
   "mimetype": "text/x-python",
   "name": "python",
   "nbconvert_exporter": "python",
   "pygments_lexer": "ipython3",
   "version": "3.10.12"
  },
  "papermill": {
   "default_parameters": {},
   "duration": 45.745099,
   "end_time": "2025-08-05T14:39:05.759570",
   "environment_variables": {},
   "exception": null,
   "input_path": "universe_analysis.ipynb",
   "output_path": "output/runs/15/notebooks/m_15-e1adc4339c174af87fefed9b1223f53d.ipynb",
   "parameters": {
    "output_dir": "output",
    "run_no": "15",
    "seed": "2023",
    "universe": "{\"cutoff\": [\"quantile_0.1\", \"quantile_0.25\"], \"eval_fairness_grouping\": [\"majority-minority\", \"nationality-all\"], \"exclude_features\": \"none\", \"exclude_subgroups\": \"keep-all\", \"model\": \"elasticnet\", \"scale\": \"scale\", \"training_size\": \"25k\", \"training_year\": \"2014\"}",
    "universe_id": "e1adc4339c174af87fefed9b1223f53d"
   },
   "start_time": "2025-08-05T14:38:20.014471",
   "version": "2.6.0"
  }
 },
 "nbformat": 4,
 "nbformat_minor": 5
}