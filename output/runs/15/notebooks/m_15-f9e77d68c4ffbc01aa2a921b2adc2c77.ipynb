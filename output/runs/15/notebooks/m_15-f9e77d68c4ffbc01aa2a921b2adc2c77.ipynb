{
 "cells": [
  {
   "cell_type": "code",
   "execution_count": 1,
   "id": "f159f837-637b-42ba-96b5-ec9a68c44524",
   "metadata": {
    "execution": {
     "iopub.execute_input": "2025-08-05T16:27:39.262022Z",
     "iopub.status.busy": "2025-08-05T16:27:39.261189Z",
     "iopub.status.idle": "2025-08-05T16:27:39.278934Z",
     "shell.execute_reply": "2025-08-05T16:27:39.277624Z"
    },
    "papermill": {
     "duration": 0.050318,
     "end_time": "2025-08-05T16:27:39.280878",
     "exception": false,
     "start_time": "2025-08-05T16:27:39.230560",
     "status": "completed"
    },
    "tags": []
   },
   "outputs": [
    {
     "name": "stdout",
     "output_type": "stream",
     "text": [
      "/dss/dsshome1/0C/ra93lal2/cma/CMA_Fairness_v2\n"
     ]
    },
    {
     "name": "stderr",
     "output_type": "stream",
     "text": [
      "/dss/dsshome1/0C/ra93lal2/.local/share/virtualenvs/CMA_Fairness_v2-3j10GkSs/lib/python3.10/site-packages/IPython/core/magics/osm.py:393: UserWarning: This is now an optional IPython functionality, using bookmarks requires you to install the `pickleshare` library.\n",
      "  bkms = self.shell.db.get('bookmarks', {})\n",
      "/dss/dsshome1/0C/ra93lal2/.local/share/virtualenvs/CMA_Fairness_v2-3j10GkSs/lib/python3.10/site-packages/IPython/core/magics/osm.py:417: UserWarning: This is now an optional IPython functionality, setting dhist requires you to install the `pickleshare` library.\n",
      "  self.shell.db['dhist'] = compress_dhist(dhist)[-100:]\n"
     ]
    }
   ],
   "source": [
    "%cd ~/cma/CMA_Fairness_v2"
   ]
  },
  {
   "cell_type": "markdown",
   "id": "de2603b9",
   "metadata": {
    "papermill": {
     "duration": 0.018848,
     "end_time": "2025-08-05T16:27:39.318593",
     "exception": false,
     "start_time": "2025-08-05T16:27:39.299745",
     "status": "completed"
    },
    "tags": []
   },
   "source": [
    "The following cell holds the definition of our parameters, these values can be overriden by rendering the with e.g. the following command:\n",
    "\n",
    "papermill -p alpha 0.2 -p ratio 0.3 universe_analysis.ipynb output/test_run.ipynb"
   ]
  },
  {
   "cell_type": "code",
   "execution_count": 2,
   "id": "a80968a0-40bb-4fa9-85ef-2d5eefb01975",
   "metadata": {
    "execution": {
     "iopub.execute_input": "2025-08-05T16:27:39.356592Z",
     "iopub.status.busy": "2025-08-05T16:27:39.356083Z",
     "iopub.status.idle": "2025-08-05T16:27:39.362144Z",
     "shell.execute_reply": "2025-08-05T16:27:39.360872Z"
    },
    "papermill": {
     "duration": 0.026846,
     "end_time": "2025-08-05T16:27:39.363933",
     "exception": false,
     "start_time": "2025-08-05T16:27:39.337087",
     "status": "completed"
    },
    "tags": []
   },
   "outputs": [
    {
     "name": "stdout",
     "output_type": "stream",
     "text": [
      "Current working directory: /dss/dsshome1/0C/ra93lal2/cma/CMA_Fairness_v2\n"
     ]
    }
   ],
   "source": [
    "import os\n",
    "print(\"Current working directory:\", os.getcwd())"
   ]
  },
  {
   "cell_type": "code",
   "execution_count": 3,
   "id": "2dce4c03",
   "metadata": {
    "execution": {
     "iopub.execute_input": "2025-08-05T16:27:39.406241Z",
     "iopub.status.busy": "2025-08-05T16:27:39.405063Z",
     "iopub.status.idle": "2025-08-05T16:27:39.413456Z",
     "shell.execute_reply": "2025-08-05T16:27:39.412167Z"
    },
    "papermill": {
     "duration": 0.033166,
     "end_time": "2025-08-05T16:27:39.415503",
     "exception": false,
     "start_time": "2025-08-05T16:27:39.382337",
     "status": "completed"
    },
    "tags": [
     "parameters"
    ]
   },
   "outputs": [],
   "source": [
    "run_no = 0\n",
    "universe_id = \"test\"\n",
    "universe = {\n",
    "    \"training_size\": \"25k\", # \"25k\", \"5k\", \"1k\"\n",
    "    \"training_year\": \"2014\", # \"2014\", \"2012_14\", \"2010_14\"\n",
    "    \"scale\": \"scale\", # \"scale\", \"do-not-scale\",\n",
    "    \"model\": \"elasticnet\", # \"logreg\", \"penalized_logreg\", \"rf\", \"gbm\", \"elasticnet\"\n",
    "    \"cutoff\": [\"quantile_0.15\", \"quantile_0.30\"],\n",
    "    \"exclude_features\": \"age\", # \"none\", \"nationality\", \"sex\", \"nationality-sex\", \"age\"\n",
    "    \"exclude_subgroups\": \"keep-all\", # \"keep-all\", \"drop-non-german\"\n",
    "    \"eval_fairness_grouping\": [\"majority-minority\", \"nationality-all\"]\n",
    "}\n",
    "\n",
    "output_dir=\"./output\"\n",
    "seed=0"
   ]
  },
  {
   "cell_type": "code",
   "execution_count": 4,
   "id": "7fab9397",
   "metadata": {
    "execution": {
     "iopub.execute_input": "2025-08-05T16:27:39.455625Z",
     "iopub.status.busy": "2025-08-05T16:27:39.455077Z",
     "iopub.status.idle": "2025-08-05T16:27:39.461627Z",
     "shell.execute_reply": "2025-08-05T16:27:39.460411Z"
    },
    "papermill": {
     "duration": 0.02878,
     "end_time": "2025-08-05T16:27:39.463466",
     "exception": false,
     "start_time": "2025-08-05T16:27:39.434686",
     "status": "completed"
    },
    "tags": [
     "injected-parameters"
    ]
   },
   "outputs": [],
   "source": [
    "# Parameters\n",
    "universe_id = \"f9e77d68c4ffbc01aa2a921b2adc2c77\"\n",
    "run_no = \"15\"\n",
    "universe = \"{\\\"cutoff\\\": [\\\"quantile_0.1\\\", \\\"quantile_0.25\\\"], \\\"eval_fairness_grouping\\\": [\\\"majority-minority\\\", \\\"nationality-all\\\"], \\\"exclude_features\\\": \\\"none\\\", \\\"exclude_subgroups\\\": \\\"keep-all\\\", \\\"model\\\": \\\"gbm\\\", \\\"scale\\\": \\\"do-not-scale\\\", \\\"training_size\\\": \\\"1k\\\", \\\"training_year\\\": \\\"2012_14\\\"}\"\n",
    "output_dir = \"output\"\n",
    "seed = \"2023\"\n"
   ]
  },
  {
   "cell_type": "code",
   "execution_count": 5,
   "id": "1650acaf",
   "metadata": {
    "execution": {
     "iopub.execute_input": "2025-08-05T16:27:39.503500Z",
     "iopub.status.busy": "2025-08-05T16:27:39.502788Z",
     "iopub.status.idle": "2025-08-05T16:27:39.510600Z",
     "shell.execute_reply": "2025-08-05T16:27:39.509180Z"
    },
    "papermill": {
     "duration": 0.030507,
     "end_time": "2025-08-05T16:27:39.512732",
     "exception": false,
     "start_time": "2025-08-05T16:27:39.482225",
     "status": "completed"
    },
    "tags": []
   },
   "outputs": [],
   "source": [
    "import json\n",
    "if isinstance(universe, str):\n",
    "    universe = json.loads(universe)"
   ]
  },
  {
   "cell_type": "code",
   "execution_count": 6,
   "id": "16620c48",
   "metadata": {
    "execution": {
     "iopub.execute_input": "2025-08-05T16:27:39.552215Z",
     "iopub.status.busy": "2025-08-05T16:27:39.551319Z",
     "iopub.status.idle": "2025-08-05T16:27:39.588173Z",
     "shell.execute_reply": "2025-08-05T16:27:39.587269Z"
    },
    "papermill": {
     "duration": 0.058885,
     "end_time": "2025-08-05T16:27:39.590759",
     "exception": false,
     "start_time": "2025-08-05T16:27:39.531874",
     "status": "completed"
    },
    "tags": []
   },
   "outputs": [],
   "source": [
    "# Auto-reload the custom package\n",
    "%load_ext autoreload\n",
    "%autoreload 1\n",
    "%aimport fairness_multiverse"
   ]
  },
  {
   "cell_type": "code",
   "execution_count": 7,
   "id": "01c5c9f3",
   "metadata": {
    "execution": {
     "iopub.execute_input": "2025-08-05T16:27:39.638628Z",
     "iopub.status.busy": "2025-08-05T16:27:39.637727Z",
     "iopub.status.idle": "2025-08-05T16:27:41.927996Z",
     "shell.execute_reply": "2025-08-05T16:27:41.926394Z"
    },
    "papermill": {
     "duration": 2.304793,
     "end_time": "2025-08-05T16:27:41.930146",
     "exception": false,
     "start_time": "2025-08-05T16:27:39.625353",
     "status": "completed"
    },
    "tags": []
   },
   "outputs": [],
   "source": [
    "from fairness_multiverse.universe import UniverseAnalysis\n",
    "\n",
    "universe_analysis = UniverseAnalysis(\n",
    "    run_no = run_no,\n",
    "    universe_id = universe_id,\n",
    "    universe = universe,\n",
    "    output_dir=output_dir,\n",
    ")"
   ]
  },
  {
   "cell_type": "code",
   "execution_count": 8,
   "id": "106241f5",
   "metadata": {
    "execution": {
     "iopub.execute_input": "2025-08-05T16:27:41.980159Z",
     "iopub.status.busy": "2025-08-05T16:27:41.979098Z",
     "iopub.status.idle": "2025-08-05T16:27:41.987009Z",
     "shell.execute_reply": "2025-08-05T16:27:41.985882Z"
    },
    "papermill": {
     "duration": 0.03458,
     "end_time": "2025-08-05T16:27:41.988844",
     "exception": false,
     "start_time": "2025-08-05T16:27:41.954264",
     "status": "completed"
    },
    "tags": []
   },
   "outputs": [
    {
     "name": "stdout",
     "output_type": "stream",
     "text": [
      "Using Seed: 2023\n"
     ]
    }
   ],
   "source": [
    "import numpy as np\n",
    "parsed_seed = int(seed)\n",
    "np.random.seed(parsed_seed)\n",
    "print(f\"Using Seed: {parsed_seed}\")"
   ]
  },
  {
   "cell_type": "markdown",
   "id": "e0ebdc57",
   "metadata": {
    "papermill": {
     "duration": 0.01854,
     "end_time": "2025-08-05T16:27:42.026705",
     "exception": false,
     "start_time": "2025-08-05T16:27:42.008165",
     "status": "completed"
    },
    "tags": []
   },
   "source": [
    "# Loading Data"
   ]
  },
  {
   "cell_type": "code",
   "execution_count": 9,
   "id": "f0496b8a",
   "metadata": {
    "execution": {
     "iopub.execute_input": "2025-08-05T16:27:42.065937Z",
     "iopub.status.busy": "2025-08-05T16:27:42.064876Z",
     "iopub.status.idle": "2025-08-05T16:27:55.676695Z",
     "shell.execute_reply": "2025-08-05T16:27:55.675065Z"
    },
    "papermill": {
     "duration": 13.633298,
     "end_time": "2025-08-05T16:27:55.678791",
     "exception": false,
     "start_time": "2025-08-05T16:27:42.045493",
     "status": "completed"
    },
    "tags": []
   },
   "outputs": [
    {
     "name": "stdout",
     "output_type": "stream",
     "text": [
      "Loading SIAB data from cache: data/siab_cached.csv.gz\n"
     ]
    },
    {
     "name": "stdout",
     "output_type": "stream",
     "text": [
      "(643690, 164)\n"
     ]
    }
   ],
   "source": [
    "from pathlib import Path\n",
    "import pandas as pd\n",
    "\n",
    "# File paths\n",
    "raw_file = Path(\"data/raw/siab.csv\")\n",
    "cache_file = Path(\"data/siab_cached.csv.gz\")\n",
    "\n",
    "# Ensure cache directory exists\n",
    "cache_file.parent.mkdir(parents=True, exist_ok=True)\n",
    "\n",
    "# Load with simple caching\n",
    "if cache_file.exists():\n",
    "    print(f\"Loading SIAB data from cache: {cache_file}\")\n",
    "    siab = pd.read_csv(cache_file, compression='gzip')\n",
    "else:\n",
    "    print(f\"Cache not found. Reading raw SIAB data: {raw_file}\")\n",
    "    siab = pd.read_csv(raw_file)\n",
    "    siab.to_csv(cache_file, index=False, compression='gzip')\n",
    "    print(f\"Cached SIAB data to: {cache_file}\")\n",
    "\n",
    "print(siab.shape)"
   ]
  },
  {
   "cell_type": "code",
   "execution_count": 10,
   "id": "db0ca512-5f53-4dba-abdb-a2888bca41ba",
   "metadata": {
    "execution": {
     "iopub.execute_input": "2025-08-05T16:27:55.728695Z",
     "iopub.status.busy": "2025-08-05T16:27:55.728019Z",
     "iopub.status.idle": "2025-08-05T16:27:55.734555Z",
     "shell.execute_reply": "2025-08-05T16:27:55.733306Z"
    },
    "papermill": {
     "duration": 0.031861,
     "end_time": "2025-08-05T16:27:55.736597",
     "exception": false,
     "start_time": "2025-08-05T16:27:55.704736",
     "status": "completed"
    },
    "tags": []
   },
   "outputs": [],
   "source": [
    "#siab"
   ]
  },
  {
   "cell_type": "markdown",
   "id": "997051c5-15bd-4b69-9786-c3001a3ce484",
   "metadata": {
    "papermill": {
     "duration": 0.022094,
     "end_time": "2025-08-05T16:27:55.780547",
     "exception": false,
     "start_time": "2025-08-05T16:27:55.758453",
     "status": "completed"
    },
    "tags": []
   },
   "source": [
    "# Splitting Data and Setting Training Data Size"
   ]
  },
  {
   "cell_type": "code",
   "execution_count": 11,
   "id": "aea9c6ef-6f46-42c8-85eb-5a62025c1508",
   "metadata": {
    "execution": {
     "iopub.execute_input": "2025-08-05T16:27:55.826610Z",
     "iopub.status.busy": "2025-08-05T16:27:55.825710Z",
     "iopub.status.idle": "2025-08-05T16:27:56.533914Z",
     "shell.execute_reply": "2025-08-05T16:27:56.532569Z"
    },
    "papermill": {
     "duration": 0.733433,
     "end_time": "2025-08-05T16:27:56.536275",
     "exception": false,
     "start_time": "2025-08-05T16:27:55.802842",
     "status": "completed"
    },
    "tags": []
   },
   "outputs": [],
   "source": [
    "from fairness_multiverse.universe import sample_by_year_size\n",
    "\n",
    "siab_train = sample_by_year_size(siab,\n",
    "                               training_year=universe[\"training_year\"],\n",
    "                               training_size=universe[\"training_size\"])"
   ]
  },
  {
   "cell_type": "code",
   "execution_count": 12,
   "id": "8d3afb32-789d-442c-8d5d-9f5aa8dd2eed",
   "metadata": {
    "execution": {
     "iopub.execute_input": "2025-08-05T16:27:56.581329Z",
     "iopub.status.busy": "2025-08-05T16:27:56.580260Z",
     "iopub.status.idle": "2025-08-05T16:27:56.586401Z",
     "shell.execute_reply": "2025-08-05T16:27:56.585306Z"
    },
    "papermill": {
     "duration": 0.029464,
     "end_time": "2025-08-05T16:27:56.588442",
     "exception": false,
     "start_time": "2025-08-05T16:27:56.558978",
     "status": "completed"
    },
    "tags": []
   },
   "outputs": [],
   "source": [
    "#siab_train.shape"
   ]
  },
  {
   "cell_type": "code",
   "execution_count": 13,
   "id": "d582db68-1a4c-47fb-84fc-08518dc1975a",
   "metadata": {
    "execution": {
     "iopub.execute_input": "2025-08-05T16:27:56.654917Z",
     "iopub.status.busy": "2025-08-05T16:27:56.654412Z",
     "iopub.status.idle": "2025-08-05T16:27:56.659501Z",
     "shell.execute_reply": "2025-08-05T16:27:56.658404Z"
    },
    "papermill": {
     "duration": 0.050763,
     "end_time": "2025-08-05T16:27:56.661535",
     "exception": false,
     "start_time": "2025-08-05T16:27:56.610772",
     "status": "completed"
    },
    "tags": []
   },
   "outputs": [],
   "source": [
    "#display(siab_train.groupby(\"year\").size())"
   ]
  },
  {
   "cell_type": "code",
   "execution_count": 14,
   "id": "a561edb4-d032-42cb-8256-22eac1111c64",
   "metadata": {
    "execution": {
     "iopub.execute_input": "2025-08-05T16:27:56.708405Z",
     "iopub.status.busy": "2025-08-05T16:27:56.707783Z",
     "iopub.status.idle": "2025-08-05T16:27:56.996402Z",
     "shell.execute_reply": "2025-08-05T16:27:56.995302Z"
    },
    "papermill": {
     "duration": 0.314301,
     "end_time": "2025-08-05T16:27:56.998737",
     "exception": false,
     "start_time": "2025-08-05T16:27:56.684436",
     "status": "completed"
    },
    "tags": []
   },
   "outputs": [],
   "source": [
    "#siab_train = siab_s[siab_s.year < 2015]\n",
    "siab_calib = siab[siab.year == 2015]\n",
    "siab_test = siab[siab.year == 2016]"
   ]
  },
  {
   "cell_type": "code",
   "execution_count": 15,
   "id": "472de16f-c3db-4916-846b-1f0de9cf1746",
   "metadata": {
    "execution": {
     "iopub.execute_input": "2025-08-05T16:27:57.039798Z",
     "iopub.status.busy": "2025-08-05T16:27:57.039436Z",
     "iopub.status.idle": "2025-08-05T16:27:57.045711Z",
     "shell.execute_reply": "2025-08-05T16:27:57.044816Z"
    },
    "papermill": {
     "duration": 0.019784,
     "end_time": "2025-08-05T16:27:57.047235",
     "exception": false,
     "start_time": "2025-08-05T16:27:57.027451",
     "status": "completed"
    },
    "tags": []
   },
   "outputs": [],
   "source": [
    "X_train = siab_train.iloc[:,4:164]\n",
    "y_train = siab_train.iloc[:, [3]]"
   ]
  },
  {
   "cell_type": "code",
   "execution_count": 16,
   "id": "828c96af-f43a-4ed6-ba47-8ac73a47d56c",
   "metadata": {
    "execution": {
     "iopub.execute_input": "2025-08-05T16:27:57.081321Z",
     "iopub.status.busy": "2025-08-05T16:27:57.080839Z",
     "iopub.status.idle": "2025-08-05T16:27:57.139041Z",
     "shell.execute_reply": "2025-08-05T16:27:57.137765Z"
    },
    "papermill": {
     "duration": 0.082236,
     "end_time": "2025-08-05T16:27:57.141279",
     "exception": false,
     "start_time": "2025-08-05T16:27:57.059043",
     "status": "completed"
    },
    "tags": []
   },
   "outputs": [],
   "source": [
    "X_calib = siab_calib.iloc[:,4:164]\n",
    "y_calib = siab_calib.iloc[:, [3]]"
   ]
  },
  {
   "cell_type": "code",
   "execution_count": 17,
   "id": "c34be9c3-6bd6-476e-acd3-845840e303be",
   "metadata": {
    "execution": {
     "iopub.execute_input": "2025-08-05T16:27:57.190202Z",
     "iopub.status.busy": "2025-08-05T16:27:57.189192Z",
     "iopub.status.idle": "2025-08-05T16:27:57.250754Z",
     "shell.execute_reply": "2025-08-05T16:27:57.249443Z"
    },
    "papermill": {
     "duration": 0.089014,
     "end_time": "2025-08-05T16:27:57.252911",
     "exception": false,
     "start_time": "2025-08-05T16:27:57.163897",
     "status": "completed"
    },
    "tags": []
   },
   "outputs": [],
   "source": [
    "X_test = siab_test.iloc[:,4:164]\n",
    "y_true = siab_test.iloc[:, [3]]"
   ]
  },
  {
   "cell_type": "code",
   "execution_count": 18,
   "id": "e6c733c5",
   "metadata": {
    "execution": {
     "iopub.execute_input": "2025-08-05T16:27:57.304014Z",
     "iopub.status.busy": "2025-08-05T16:27:57.303114Z",
     "iopub.status.idle": "2025-08-05T16:27:57.406754Z",
     "shell.execute_reply": "2025-08-05T16:27:57.405522Z"
    },
    "papermill": {
     "duration": 0.131229,
     "end_time": "2025-08-05T16:27:57.409082",
     "exception": false,
     "start_time": "2025-08-05T16:27:57.277853",
     "status": "completed"
    },
    "tags": []
   },
   "outputs": [],
   "source": [
    "# Auxiliary data needed downstream in the pipeline\n",
    "\n",
    "org_train = X_train.copy()\n",
    "org_test = X_test.copy()\n",
    "org_calib = X_calib.copy()"
   ]
  },
  {
   "cell_type": "markdown",
   "id": "0a4a1b33",
   "metadata": {
    "papermill": {
     "duration": 0.023543,
     "end_time": "2025-08-05T16:27:57.457957",
     "exception": false,
     "start_time": "2025-08-05T16:27:57.434414",
     "status": "completed"
    },
    "tags": []
   },
   "source": [
    "# Preprocessing Data"
   ]
  },
  {
   "cell_type": "code",
   "execution_count": 19,
   "id": "ca879031",
   "metadata": {
    "execution": {
     "iopub.execute_input": "2025-08-05T16:27:57.506930Z",
     "iopub.status.busy": "2025-08-05T16:27:57.506170Z",
     "iopub.status.idle": "2025-08-05T16:27:57.513323Z",
     "shell.execute_reply": "2025-08-05T16:27:57.512154Z"
    },
    "papermill": {
     "duration": 0.033789,
     "end_time": "2025-08-05T16:27:57.515326",
     "exception": false,
     "start_time": "2025-08-05T16:27:57.481537",
     "status": "completed"
    },
    "tags": []
   },
   "outputs": [],
   "source": [
    "# EXCLUDE PROTECTED FEATURES\n",
    "# ----------------------\n",
    "# \"exclude_features\": \"none\", # \"nationality\", \"sex\", \"nationality-sex\"\n",
    "\n",
    "excluded_features = universe[\"exclude_features\"].split(\"-\") # split, e.g.: \"nationality-sex\" -> [\"nationality\", \"sex\"]\n",
    "excluded_features_dictionary = {\n",
    "    \"nationality\": [\"maxdeutsch1\", \"maxdeutsch.Missing.\"],\n",
    "    \"sex\": [\"frau1\"],\n",
    "    \"age\": [\"age\"],\n",
    "}"
   ]
  },
  {
   "cell_type": "code",
   "execution_count": 20,
   "id": "b745ac60",
   "metadata": {
    "execution": {
     "iopub.execute_input": "2025-08-05T16:27:57.564748Z",
     "iopub.status.busy": "2025-08-05T16:27:57.563796Z",
     "iopub.status.idle": "2025-08-05T16:27:57.570423Z",
     "shell.execute_reply": "2025-08-05T16:27:57.569380Z"
    },
    "papermill": {
     "duration": 0.033129,
     "end_time": "2025-08-05T16:27:57.572341",
     "exception": false,
     "start_time": "2025-08-05T16:27:57.539212",
     "status": "completed"
    },
    "tags": []
   },
   "outputs": [],
   "source": [
    "# Code nice names to column names\n",
    "\n",
    "excluded_features_columns = [\n",
    "    excluded_features_dictionary[f] for f in excluded_features if len(f) > 0 and f != \"none\"\n",
    "]"
   ]
  },
  {
   "cell_type": "code",
   "execution_count": 21,
   "id": "f84f73a2",
   "metadata": {
    "execution": {
     "iopub.execute_input": "2025-08-05T16:27:57.622084Z",
     "iopub.status.busy": "2025-08-05T16:27:57.621135Z",
     "iopub.status.idle": "2025-08-05T16:27:57.628278Z",
     "shell.execute_reply": "2025-08-05T16:27:57.627148Z"
    },
    "papermill": {
     "duration": 0.033778,
     "end_time": "2025-08-05T16:27:57.630277",
     "exception": false,
     "start_time": "2025-08-05T16:27:57.596499",
     "status": "completed"
    },
    "tags": []
   },
   "outputs": [],
   "source": [
    "from utils import flatten_once\n",
    "\n",
    "excluded_features_columns = flatten_once(excluded_features_columns)"
   ]
  },
  {
   "cell_type": "code",
   "execution_count": 22,
   "id": "884dea22",
   "metadata": {
    "execution": {
     "iopub.execute_input": "2025-08-05T16:27:57.679353Z",
     "iopub.status.busy": "2025-08-05T16:27:57.678683Z",
     "iopub.status.idle": "2025-08-05T16:27:57.685318Z",
     "shell.execute_reply": "2025-08-05T16:27:57.684156Z"
    },
    "papermill": {
     "duration": 0.033177,
     "end_time": "2025-08-05T16:27:57.687231",
     "exception": false,
     "start_time": "2025-08-05T16:27:57.654054",
     "status": "completed"
    },
    "tags": []
   },
   "outputs": [],
   "source": [
    "if len(excluded_features_columns) > 0:\n",
    "    print(f\"Dropping features: {excluded_features_columns}\")\n",
    "    X_train.drop(excluded_features_columns, axis=1, inplace=True)"
   ]
  },
  {
   "cell_type": "code",
   "execution_count": 23,
   "id": "95ab8b16",
   "metadata": {
    "execution": {
     "iopub.execute_input": "2025-08-05T16:27:57.736881Z",
     "iopub.status.busy": "2025-08-05T16:27:57.735942Z",
     "iopub.status.idle": "2025-08-05T16:27:57.742568Z",
     "shell.execute_reply": "2025-08-05T16:27:57.741438Z"
    },
    "papermill": {
     "duration": 0.03335,
     "end_time": "2025-08-05T16:27:57.744560",
     "exception": false,
     "start_time": "2025-08-05T16:27:57.711210",
     "status": "completed"
    },
    "tags": []
   },
   "outputs": [],
   "source": [
    "if len(excluded_features_columns) > 0:\n",
    "    print(f\"Dropping features: {excluded_features_columns}\")\n",
    "    X_test.drop(excluded_features_columns, axis=1, inplace=True)"
   ]
  },
  {
   "cell_type": "code",
   "execution_count": 24,
   "id": "1853aaf5-fb9f-46cb-a2b5-8ea4ae2237e4",
   "metadata": {
    "execution": {
     "iopub.execute_input": "2025-08-05T16:27:57.793782Z",
     "iopub.status.busy": "2025-08-05T16:27:57.793075Z",
     "iopub.status.idle": "2025-08-05T16:27:57.799368Z",
     "shell.execute_reply": "2025-08-05T16:27:57.798266Z"
    },
    "papermill": {
     "duration": 0.032802,
     "end_time": "2025-08-05T16:27:57.801302",
     "exception": false,
     "start_time": "2025-08-05T16:27:57.768500",
     "status": "completed"
    },
    "tags": []
   },
   "outputs": [],
   "source": [
    "if len(excluded_features_columns) > 0:\n",
    "    print(f\"Dropping features: {excluded_features_columns}\")\n",
    "    X_calib.drop(excluded_features_columns, axis=1, inplace=True)"
   ]
  },
  {
   "cell_type": "code",
   "execution_count": 25,
   "id": "76c4dc6d",
   "metadata": {
    "execution": {
     "iopub.execute_input": "2025-08-05T16:27:57.850550Z",
     "iopub.status.busy": "2025-08-05T16:27:57.849812Z",
     "iopub.status.idle": "2025-08-05T16:27:57.855812Z",
     "shell.execute_reply": "2025-08-05T16:27:57.854797Z"
    },
    "papermill": {
     "duration": 0.032583,
     "end_time": "2025-08-05T16:27:57.857710",
     "exception": false,
     "start_time": "2025-08-05T16:27:57.825127",
     "status": "completed"
    },
    "tags": []
   },
   "outputs": [],
   "source": [
    "# EXCLUDE CERTAIN SUBGROUPS\n",
    "# ----------------------\n",
    "\n",
    "mode = universe.get(\"exclude_subgroups\", \"keep-all\") \n",
    "# Fetches the exclude_subgroups setting from the universe dict.\n",
    "# Defaults to \"keep-all\" if the key is missing."
   ]
  },
  {
   "cell_type": "code",
   "execution_count": 26,
   "id": "21994072",
   "metadata": {
    "execution": {
     "iopub.execute_input": "2025-08-05T16:27:57.907678Z",
     "iopub.status.busy": "2025-08-05T16:27:57.906748Z",
     "iopub.status.idle": "2025-08-05T16:27:57.914322Z",
     "shell.execute_reply": "2025-08-05T16:27:57.913294Z"
    },
    "papermill": {
     "duration": 0.034609,
     "end_time": "2025-08-05T16:27:57.916487",
     "exception": false,
     "start_time": "2025-08-05T16:27:57.881878",
     "status": "completed"
    },
    "tags": []
   },
   "outputs": [],
   "source": [
    "if mode == \"keep-all\":\n",
    "    keep_mask = pd.Series(True, index=org_train.index)\n",
    "\n",
    "# org_train contains the original feature columns from features_org (in Simson)\n",
    "# features_org contains unprocessed features, for me X_train at beginning ???\n",
    "# For keep-all, creates a boolean Series (keep_mask) of all True, so no rows are removed.\n",
    "\n",
    "elif mode == \"drop-non-german\":\n",
    "    keep_mask = org_train[\"maxdeutsch1\"] == 1 # ??? what about missing values?\n",
    "\n",
    "else:\n",
    "    raise ValueError(f\"Unsupported mode for exclude_subgroups: {mode}\")"
   ]
  },
  {
   "cell_type": "code",
   "execution_count": 27,
   "id": "71651440",
   "metadata": {
    "execution": {
     "iopub.execute_input": "2025-08-05T16:27:57.966423Z",
     "iopub.status.busy": "2025-08-05T16:27:57.965952Z",
     "iopub.status.idle": "2025-08-05T16:27:57.973130Z",
     "shell.execute_reply": "2025-08-05T16:27:57.972048Z"
    },
    "papermill": {
     "duration": 0.034356,
     "end_time": "2025-08-05T16:27:57.975044",
     "exception": false,
     "start_time": "2025-08-05T16:27:57.940688",
     "status": "completed"
    },
    "tags": []
   },
   "outputs": [],
   "source": [
    "n_drop = (~keep_mask).sum() # Calculates how many rows are set to be dropped\n",
    "if n_drop > 0:\n",
    "    pct = n_drop / len(keep_mask) * 100\n",
    "    print(f\"Dropping {n_drop} rows ({pct:.2f}%) where mode='{mode}'\")"
   ]
  },
  {
   "cell_type": "code",
   "execution_count": 28,
   "id": "5fb8eee5",
   "metadata": {
    "execution": {
     "iopub.execute_input": "2025-08-05T16:27:58.025191Z",
     "iopub.status.busy": "2025-08-05T16:27:58.024407Z",
     "iopub.status.idle": "2025-08-05T16:27:58.031685Z",
     "shell.execute_reply": "2025-08-05T16:27:58.030572Z"
    },
    "papermill": {
     "duration": 0.034433,
     "end_time": "2025-08-05T16:27:58.033732",
     "exception": false,
     "start_time": "2025-08-05T16:27:57.999299",
     "status": "completed"
    },
    "tags": []
   },
   "outputs": [],
   "source": [
    "X_train = X_train[keep_mask]"
   ]
  },
  {
   "cell_type": "code",
   "execution_count": 29,
   "id": "b202bb3a",
   "metadata": {
    "execution": {
     "iopub.execute_input": "2025-08-05T16:27:58.084607Z",
     "iopub.status.busy": "2025-08-05T16:27:58.083615Z",
     "iopub.status.idle": "2025-08-05T16:27:58.090225Z",
     "shell.execute_reply": "2025-08-05T16:27:58.089010Z"
    },
    "papermill": {
     "duration": 0.034356,
     "end_time": "2025-08-05T16:27:58.092417",
     "exception": false,
     "start_time": "2025-08-05T16:27:58.058061",
     "status": "completed"
    },
    "tags": []
   },
   "outputs": [],
   "source": [
    "y_train = y_train[keep_mask]"
   ]
  },
  {
   "cell_type": "markdown",
   "id": "493e2ac3",
   "metadata": {
    "papermill": {
     "duration": 0.024407,
     "end_time": "2025-08-05T16:27:58.141463",
     "exception": false,
     "start_time": "2025-08-05T16:27:58.117056",
     "status": "completed"
    },
    "tags": []
   },
   "source": [
    "# Model Training"
   ]
  },
  {
   "cell_type": "code",
   "execution_count": 30,
   "id": "679e1268",
   "metadata": {
    "execution": {
     "iopub.execute_input": "2025-08-05T16:27:58.193024Z",
     "iopub.status.busy": "2025-08-05T16:27:58.192060Z",
     "iopub.status.idle": "2025-08-05T16:27:58.319434Z",
     "shell.execute_reply": "2025-08-05T16:27:58.318169Z"
    },
    "papermill": {
     "duration": 0.155602,
     "end_time": "2025-08-05T16:27:58.321716",
     "exception": false,
     "start_time": "2025-08-05T16:27:58.166114",
     "status": "completed"
    },
    "tags": []
   },
   "outputs": [],
   "source": [
    "from sklearn.linear_model import LogisticRegression\n",
    "from sklearn.ensemble import GradientBoostingClassifier, RandomForestClassifier\n",
    "\n",
    "if (universe[\"model\"] == \"logreg\"):\n",
    "    model = LogisticRegression() #penalty=\"none\", solver=\"newton-cg\", max_iter=1) # include random_state=19 ?\n",
    "elif (universe[\"model\"] == \"penalized_logreg\"):\n",
    "    model = LogisticRegression(penalty=\"l2\", C=0.1) #, solver=\"newton-cg\", max_iter=1)\n",
    "elif (universe[\"model\"] == \"rf\"):\n",
    "    model = RandomForestClassifier() # n_estimators=100, n_jobs=-1\n",
    "elif (universe[\"model\"] == \"gbm\"):\n",
    "    model = GradientBoostingClassifier()\n",
    "elif (universe[\"model\"] == \"elasticnet\"):\n",
    "    model = LogisticRegression(penalty = 'elasticnet', solver = 'saga', l1_ratio = 0.5) # max_iter=5000\n",
    "else:\n",
    "    raise \"Unsupported universe.model\""
   ]
  },
  {
   "cell_type": "code",
   "execution_count": 31,
   "id": "0cc8f744",
   "metadata": {
    "execution": {
     "iopub.execute_input": "2025-08-05T16:27:58.371721Z",
     "iopub.status.busy": "2025-08-05T16:27:58.371184Z",
     "iopub.status.idle": "2025-08-05T16:27:58.378441Z",
     "shell.execute_reply": "2025-08-05T16:27:58.377248Z"
    },
    "papermill": {
     "duration": 0.032713,
     "end_time": "2025-08-05T16:27:58.380404",
     "exception": false,
     "start_time": "2025-08-05T16:27:58.347691",
     "status": "completed"
    },
    "tags": []
   },
   "outputs": [],
   "source": [
    "import numpy as np\n",
    "from sklearn.pipeline import Pipeline\n",
    "from sklearn.preprocessing import StandardScaler\n",
    "\n",
    "model = Pipeline([\n",
    "    #(\"continuous_processor\", continuous_processor),\n",
    "    #(\"categorical_preprocessor\", categorical_preprocessor),\n",
    "    (\"scale\", StandardScaler() if universe[\"scale\"] == \"scale\" else None), \n",
    "    (\"model\", model),\n",
    "])"
   ]
  },
  {
   "cell_type": "code",
   "execution_count": 32,
   "id": "9442c04d",
   "metadata": {
    "execution": {
     "iopub.execute_input": "2025-08-05T16:27:58.425549Z",
     "iopub.status.busy": "2025-08-05T16:27:58.425133Z",
     "iopub.status.idle": "2025-08-05T16:27:59.690057Z",
     "shell.execute_reply": "2025-08-05T16:27:59.688929Z"
    },
    "papermill": {
     "duration": 1.290026,
     "end_time": "2025-08-05T16:27:59.692193",
     "exception": false,
     "start_time": "2025-08-05T16:27:58.402167",
     "status": "completed"
    },
    "tags": []
   },
   "outputs": [
    {
     "data": {
      "text/html": [
       "<style>#sk-container-id-1 {color: black;background-color: white;}#sk-container-id-1 pre{padding: 0;}#sk-container-id-1 div.sk-toggleable {background-color: white;}#sk-container-id-1 label.sk-toggleable__label {cursor: pointer;display: block;width: 100%;margin-bottom: 0;padding: 0.3em;box-sizing: border-box;text-align: center;}#sk-container-id-1 label.sk-toggleable__label-arrow:before {content: \"▸\";float: left;margin-right: 0.25em;color: #696969;}#sk-container-id-1 label.sk-toggleable__label-arrow:hover:before {color: black;}#sk-container-id-1 div.sk-estimator:hover label.sk-toggleable__label-arrow:before {color: black;}#sk-container-id-1 div.sk-toggleable__content {max-height: 0;max-width: 0;overflow: hidden;text-align: left;background-color: #f0f8ff;}#sk-container-id-1 div.sk-toggleable__content pre {margin: 0.2em;color: black;border-radius: 0.25em;background-color: #f0f8ff;}#sk-container-id-1 input.sk-toggleable__control:checked~div.sk-toggleable__content {max-height: 200px;max-width: 100%;overflow: auto;}#sk-container-id-1 input.sk-toggleable__control:checked~label.sk-toggleable__label-arrow:before {content: \"▾\";}#sk-container-id-1 div.sk-estimator input.sk-toggleable__control:checked~label.sk-toggleable__label {background-color: #d4ebff;}#sk-container-id-1 div.sk-label input.sk-toggleable__control:checked~label.sk-toggleable__label {background-color: #d4ebff;}#sk-container-id-1 input.sk-hidden--visually {border: 0;clip: rect(1px 1px 1px 1px);clip: rect(1px, 1px, 1px, 1px);height: 1px;margin: -1px;overflow: hidden;padding: 0;position: absolute;width: 1px;}#sk-container-id-1 div.sk-estimator {font-family: monospace;background-color: #f0f8ff;border: 1px dotted black;border-radius: 0.25em;box-sizing: border-box;margin-bottom: 0.5em;}#sk-container-id-1 div.sk-estimator:hover {background-color: #d4ebff;}#sk-container-id-1 div.sk-parallel-item::after {content: \"\";width: 100%;border-bottom: 1px solid gray;flex-grow: 1;}#sk-container-id-1 div.sk-label:hover label.sk-toggleable__label {background-color: #d4ebff;}#sk-container-id-1 div.sk-serial::before {content: \"\";position: absolute;border-left: 1px solid gray;box-sizing: border-box;top: 0;bottom: 0;left: 50%;z-index: 0;}#sk-container-id-1 div.sk-serial {display: flex;flex-direction: column;align-items: center;background-color: white;padding-right: 0.2em;padding-left: 0.2em;position: relative;}#sk-container-id-1 div.sk-item {position: relative;z-index: 1;}#sk-container-id-1 div.sk-parallel {display: flex;align-items: stretch;justify-content: center;background-color: white;position: relative;}#sk-container-id-1 div.sk-item::before, #sk-container-id-1 div.sk-parallel-item::before {content: \"\";position: absolute;border-left: 1px solid gray;box-sizing: border-box;top: 0;bottom: 0;left: 50%;z-index: -1;}#sk-container-id-1 div.sk-parallel-item {display: flex;flex-direction: column;z-index: 1;position: relative;background-color: white;}#sk-container-id-1 div.sk-parallel-item:first-child::after {align-self: flex-end;width: 50%;}#sk-container-id-1 div.sk-parallel-item:last-child::after {align-self: flex-start;width: 50%;}#sk-container-id-1 div.sk-parallel-item:only-child::after {width: 0;}#sk-container-id-1 div.sk-dashed-wrapped {border: 1px dashed gray;margin: 0 0.4em 0.5em 0.4em;box-sizing: border-box;padding-bottom: 0.4em;background-color: white;}#sk-container-id-1 div.sk-label label {font-family: monospace;font-weight: bold;display: inline-block;line-height: 1.2em;}#sk-container-id-1 div.sk-label-container {text-align: center;}#sk-container-id-1 div.sk-container {/* jupyter's `normalize.less` sets `[hidden] { display: none; }` but bootstrap.min.css set `[hidden] { display: none !important; }` so we also need the `!important` here to be able to override the default hidden behavior on the sphinx rendered scikit-learn.org. See: https://github.com/scikit-learn/scikit-learn/issues/21755 */display: inline-block !important;position: relative;}#sk-container-id-1 div.sk-text-repr-fallback {display: none;}</style><div id=\"sk-container-id-1\" class=\"sk-top-container\"><div class=\"sk-text-repr-fallback\"><pre>Pipeline(steps=[(&#x27;scale&#x27;, None), (&#x27;model&#x27;, GradientBoostingClassifier())])</pre><b>In a Jupyter environment, please rerun this cell to show the HTML representation or trust the notebook. <br />On GitHub, the HTML representation is unable to render, please try loading this page with nbviewer.org.</b></div><div class=\"sk-container\" hidden><div class=\"sk-item sk-dashed-wrapped\"><div class=\"sk-label-container\"><div class=\"sk-label sk-toggleable\"><input class=\"sk-toggleable__control sk-hidden--visually\" id=\"sk-estimator-id-1\" type=\"checkbox\" ><label for=\"sk-estimator-id-1\" class=\"sk-toggleable__label sk-toggleable__label-arrow\">Pipeline</label><div class=\"sk-toggleable__content\"><pre>Pipeline(steps=[(&#x27;scale&#x27;, None), (&#x27;model&#x27;, GradientBoostingClassifier())])</pre></div></div></div><div class=\"sk-serial\"><div class=\"sk-item\"><div class=\"sk-estimator sk-toggleable\"><input class=\"sk-toggleable__control sk-hidden--visually\" id=\"sk-estimator-id-2\" type=\"checkbox\" ><label for=\"sk-estimator-id-2\" class=\"sk-toggleable__label sk-toggleable__label-arrow\">None</label><div class=\"sk-toggleable__content\"><pre>None</pre></div></div></div><div class=\"sk-item\"><div class=\"sk-estimator sk-toggleable\"><input class=\"sk-toggleable__control sk-hidden--visually\" id=\"sk-estimator-id-3\" type=\"checkbox\" ><label for=\"sk-estimator-id-3\" class=\"sk-toggleable__label sk-toggleable__label-arrow\">GradientBoostingClassifier</label><div class=\"sk-toggleable__content\"><pre>GradientBoostingClassifier()</pre></div></div></div></div></div></div></div>"
      ],
      "text/plain": [
       "Pipeline(steps=[('scale', None), ('model', GradientBoostingClassifier())])"
      ]
     },
     "execution_count": 32,
     "metadata": {},
     "output_type": "execute_result"
    }
   ],
   "source": [
    "model.fit(X_train, y_train.values.ravel())"
   ]
  },
  {
   "cell_type": "code",
   "execution_count": 33,
   "id": "af59f8c0",
   "metadata": {
    "execution": {
     "iopub.execute_input": "2025-08-05T16:27:59.745061Z",
     "iopub.status.busy": "2025-08-05T16:27:59.744562Z",
     "iopub.status.idle": "2025-08-05T16:27:59.750797Z",
     "shell.execute_reply": "2025-08-05T16:27:59.749675Z"
    },
    "papermill": {
     "duration": 0.032759,
     "end_time": "2025-08-05T16:27:59.752731",
     "exception": false,
     "start_time": "2025-08-05T16:27:59.719972",
     "status": "completed"
    },
    "tags": []
   },
   "outputs": [],
   "source": [
    "from fairness_multiverse.universe import predict_w_threshold"
   ]
  },
  {
   "cell_type": "code",
   "execution_count": 34,
   "id": "a7cf2e16",
   "metadata": {
    "execution": {
     "iopub.execute_input": "2025-08-05T16:27:59.802206Z",
     "iopub.status.busy": "2025-08-05T16:27:59.801835Z",
     "iopub.status.idle": "2025-08-05T16:28:00.456422Z",
     "shell.execute_reply": "2025-08-05T16:28:00.455386Z"
    },
    "papermill": {
     "duration": 0.6818,
     "end_time": "2025-08-05T16:28:00.458535",
     "exception": false,
     "start_time": "2025-08-05T16:27:59.776735",
     "status": "completed"
    },
    "tags": []
   },
   "outputs": [
    {
     "data": {
      "text/plain": [
       "0.8413331847062758"
      ]
     },
     "execution_count": 34,
     "metadata": {},
     "output_type": "execute_result"
    }
   ],
   "source": [
    "probs_test = model.predict_proba(X_test)\n",
    "\n",
    "'''\n",
    "Below code returns a boolean array (or binary 0/1 array depending on how it’s used) where each element \n",
    "is True if the probability of class 1 is greater than or equal to the threshold, and False otherwise.\n",
    "'''\n",
    "y_pred_default = predict_w_threshold(probs_test, 0.5)\n",
    "\n",
    "from sklearn.metrics import accuracy_score\n",
    "\n",
    "# Naive prediction\n",
    "accuracy_score(y_true = y_true, y_pred = y_pred_default)"
   ]
  },
  {
   "cell_type": "code",
   "execution_count": 35,
   "id": "081964c3",
   "metadata": {
    "execution": {
     "iopub.execute_input": "2025-08-05T16:28:00.505097Z",
     "iopub.status.busy": "2025-08-05T16:28:00.504279Z",
     "iopub.status.idle": "2025-08-05T16:28:01.107690Z",
     "shell.execute_reply": "2025-08-05T16:28:01.106358Z"
    },
    "papermill": {
     "duration": 0.628495,
     "end_time": "2025-08-05T16:28:01.109879",
     "exception": false,
     "start_time": "2025-08-05T16:28:00.481384",
     "status": "completed"
    },
    "tags": []
   },
   "outputs": [
    {
     "data": {
      "text/plain": [
       "array([0, 0, 0, ..., 0, 0, 0])"
      ]
     },
     "execution_count": 35,
     "metadata": {},
     "output_type": "execute_result"
    }
   ],
   "source": [
    "model.predict(X_test)"
   ]
  },
  {
   "cell_type": "markdown",
   "id": "56c9705b",
   "metadata": {
    "papermill": {
     "duration": 0.022013,
     "end_time": "2025-08-05T16:28:01.155231",
     "exception": false,
     "start_time": "2025-08-05T16:28:01.133218",
     "status": "completed"
    },
    "tags": []
   },
   "source": [
    "# Conformal Prediction"
   ]
  },
  {
   "cell_type": "code",
   "execution_count": 36,
   "id": "160ec6ff",
   "metadata": {
    "execution": {
     "iopub.execute_input": "2025-08-05T16:28:01.202437Z",
     "iopub.status.busy": "2025-08-05T16:28:01.201618Z",
     "iopub.status.idle": "2025-08-05T16:28:01.207686Z",
     "shell.execute_reply": "2025-08-05T16:28:01.206532Z"
    },
    "papermill": {
     "duration": 0.031762,
     "end_time": "2025-08-05T16:28:01.209498",
     "exception": false,
     "start_time": "2025-08-05T16:28:01.177736",
     "status": "completed"
    },
    "tags": []
   },
   "outputs": [],
   "source": [
    "# Miscoverage level for conformal prediction (10% allowed error rate => 90% target coverage)\n",
    "alpha = 0.1"
   ]
  },
  {
   "cell_type": "code",
   "execution_count": 37,
   "id": "eadf4555-3dd3-440e-8e35-f82a4ad9f855",
   "metadata": {
    "execution": {
     "iopub.execute_input": "2025-08-05T16:28:01.255477Z",
     "iopub.status.busy": "2025-08-05T16:28:01.254588Z",
     "iopub.status.idle": "2025-08-05T16:28:01.811390Z",
     "shell.execute_reply": "2025-08-05T16:28:01.810301Z"
    },
    "papermill": {
     "duration": 0.582062,
     "end_time": "2025-08-05T16:28:01.813603",
     "exception": false,
     "start_time": "2025-08-05T16:28:01.231541",
     "status": "completed"
    },
    "tags": []
   },
   "outputs": [],
   "source": [
    "probs_calib = model.predict_proba(X_calib)"
   ]
  },
  {
   "cell_type": "code",
   "execution_count": 38,
   "id": "2ed93547-6d5d-4983-9b36-1ecb300da49a",
   "metadata": {
    "execution": {
     "iopub.execute_input": "2025-08-05T16:28:01.859865Z",
     "iopub.status.busy": "2025-08-05T16:28:01.859028Z",
     "iopub.status.idle": "2025-08-05T16:28:01.866287Z",
     "shell.execute_reply": "2025-08-05T16:28:01.865296Z"
    },
    "papermill": {
     "duration": 0.031855,
     "end_time": "2025-08-05T16:28:01.868161",
     "exception": false,
     "start_time": "2025-08-05T16:28:01.836306",
     "status": "completed"
    },
    "tags": []
   },
   "outputs": [],
   "source": [
    "y_calib = y_calib.values.ravel().astype(int)"
   ]
  },
  {
   "cell_type": "code",
   "execution_count": 39,
   "id": "65d1320d-f588-4b38-9072-62af1ae97f7d",
   "metadata": {
    "execution": {
     "iopub.execute_input": "2025-08-05T16:28:01.915827Z",
     "iopub.status.busy": "2025-08-05T16:28:01.914868Z",
     "iopub.status.idle": "2025-08-05T16:28:01.923227Z",
     "shell.execute_reply": "2025-08-05T16:28:01.922111Z"
    },
    "papermill": {
     "duration": 0.033814,
     "end_time": "2025-08-05T16:28:01.924962",
     "exception": false,
     "start_time": "2025-08-05T16:28:01.891148",
     "status": "completed"
    },
    "tags": []
   },
   "outputs": [],
   "source": [
    "from fairness_multiverse.conformal import compute_nc_scores\n",
    "\n",
    "# Compute nonconformity scores on calibration set (1 - probability of true class)\n",
    "nc_scores = compute_nc_scores(probs_calib, y_calib)"
   ]
  },
  {
   "cell_type": "code",
   "execution_count": 40,
   "id": "df3b8ca3-53b7-43d5-9667-7c85da7aeda2",
   "metadata": {
    "execution": {
     "iopub.execute_input": "2025-08-05T16:28:01.973600Z",
     "iopub.status.busy": "2025-08-05T16:28:01.972891Z",
     "iopub.status.idle": "2025-08-05T16:28:01.980421Z",
     "shell.execute_reply": "2025-08-05T16:28:01.979417Z"
    },
    "papermill": {
     "duration": 0.034776,
     "end_time": "2025-08-05T16:28:01.982242",
     "exception": false,
     "start_time": "2025-08-05T16:28:01.947466",
     "status": "completed"
    },
    "tags": []
   },
   "outputs": [],
   "source": [
    "from fairness_multiverse.conformal import find_threshold\n",
    "\n",
    "# Find conformal threshold q_hat for the given alpha (split conformal method)\n",
    "q_hat = find_threshold(nc_scores, alpha)"
   ]
  },
  {
   "cell_type": "code",
   "execution_count": 41,
   "id": "4d29e6c1-0ef6-4aa4-b8fe-4fe79b0d033a",
   "metadata": {
    "execution": {
     "iopub.execute_input": "2025-08-05T16:28:02.028753Z",
     "iopub.status.busy": "2025-08-05T16:28:02.027866Z",
     "iopub.status.idle": "2025-08-05T16:28:02.035876Z",
     "shell.execute_reply": "2025-08-05T16:28:02.034687Z"
    },
    "papermill": {
     "duration": 0.032956,
     "end_time": "2025-08-05T16:28:02.037832",
     "exception": false,
     "start_time": "2025-08-05T16:28:02.004876",
     "status": "completed"
    },
    "tags": []
   },
   "outputs": [
    {
     "data": {
      "text/plain": [
       "0.7556709418233363"
      ]
     },
     "execution_count": 41,
     "metadata": {},
     "output_type": "execute_result"
    }
   ],
   "source": [
    "q_hat"
   ]
  },
  {
   "cell_type": "code",
   "execution_count": 42,
   "id": "92460794-cdac-4be2-ba28-f28c0515a6fb",
   "metadata": {
    "execution": {
     "iopub.execute_input": "2025-08-05T16:28:02.085738Z",
     "iopub.status.busy": "2025-08-05T16:28:02.085160Z",
     "iopub.status.idle": "2025-08-05T16:28:03.827470Z",
     "shell.execute_reply": "2025-08-05T16:28:03.826198Z"
    },
    "papermill": {
     "duration": 1.768722,
     "end_time": "2025-08-05T16:28:03.829953",
     "exception": false,
     "start_time": "2025-08-05T16:28:02.061231",
     "status": "completed"
    },
    "tags": []
   },
   "outputs": [],
   "source": [
    "from fairness_multiverse.conformal import predict_conformal_sets\n",
    "\n",
    "# Generate prediction sets for each test example\n",
    "pred_sets = predict_conformal_sets(model, X_test, q_hat)"
   ]
  },
  {
   "cell_type": "code",
   "execution_count": 43,
   "id": "d90c9a65-e6db-4f5d-80cd-e68fb7e46829",
   "metadata": {
    "execution": {
     "iopub.execute_input": "2025-08-05T16:28:03.881340Z",
     "iopub.status.busy": "2025-08-05T16:28:03.880731Z",
     "iopub.status.idle": "2025-08-05T16:28:03.886808Z",
     "shell.execute_reply": "2025-08-05T16:28:03.885681Z"
    },
    "papermill": {
     "duration": 0.031638,
     "end_time": "2025-08-05T16:28:03.888584",
     "exception": false,
     "start_time": "2025-08-05T16:28:03.856946",
     "status": "completed"
    },
    "tags": []
   },
   "outputs": [],
   "source": [
    "y_true = y_true.squeeze()"
   ]
  },
  {
   "cell_type": "code",
   "execution_count": 44,
   "id": "3a58a54a-1e68-46b9-927a-df01f18aebc8",
   "metadata": {
    "execution": {
     "iopub.execute_input": "2025-08-05T16:28:03.938383Z",
     "iopub.status.busy": "2025-08-05T16:28:03.937439Z",
     "iopub.status.idle": "2025-08-05T16:28:04.865557Z",
     "shell.execute_reply": "2025-08-05T16:28:04.864708Z"
    },
    "papermill": {
     "duration": 0.955972,
     "end_time": "2025-08-05T16:28:04.867267",
     "exception": false,
     "start_time": "2025-08-05T16:28:03.911295",
     "status": "completed"
    },
    "tags": []
   },
   "outputs": [],
   "source": [
    "from fairness_multiverse.conformal import evaluate_sets\n",
    "\n",
    "# Evaluate coverage and average set size on test data\n",
    "metrics = evaluate_sets(pred_sets, y_true)"
   ]
  },
  {
   "cell_type": "markdown",
   "id": "2b569c12-9aaa-4c88-98c9-bbcd0cf3ebb8",
   "metadata": {
    "papermill": {
     "duration": 0.017959,
     "end_time": "2025-08-05T16:28:04.907453",
     "exception": false,
     "start_time": "2025-08-05T16:28:04.889494",
     "status": "completed"
    },
    "tags": []
   },
   "source": [
    "# CP Metrics"
   ]
  },
  {
   "cell_type": "code",
   "execution_count": 45,
   "id": "5ce0a5cb-201f-45a0-ade5-94c7f0bd6095",
   "metadata": {
    "execution": {
     "iopub.execute_input": "2025-08-05T16:28:04.946883Z",
     "iopub.status.busy": "2025-08-05T16:28:04.946225Z",
     "iopub.status.idle": "2025-08-05T16:28:04.953444Z",
     "shell.execute_reply": "2025-08-05T16:28:04.952436Z"
    },
    "papermill": {
     "duration": 0.028836,
     "end_time": "2025-08-05T16:28:04.955168",
     "exception": false,
     "start_time": "2025-08-05T16:28:04.926332",
     "status": "completed"
    },
    "tags": []
   },
   "outputs": [
    {
     "data": {
      "text/plain": [
       "{'coverage': 0.9102664140006688, 'avg_size': 1.172466837587783}"
      ]
     },
     "execution_count": 45,
     "metadata": {},
     "output_type": "execute_result"
    }
   ],
   "source": [
    "metrics"
   ]
  },
  {
   "cell_type": "code",
   "execution_count": 46,
   "id": "9b9a838d-31c9-430b-ae14-12baee460d17",
   "metadata": {
    "execution": {
     "iopub.execute_input": "2025-08-05T16:28:04.997103Z",
     "iopub.status.busy": "2025-08-05T16:28:04.996445Z",
     "iopub.status.idle": "2025-08-05T16:28:05.003297Z",
     "shell.execute_reply": "2025-08-05T16:28:05.002348Z"
    },
    "papermill": {
     "duration": 0.029706,
     "end_time": "2025-08-05T16:28:05.004972",
     "exception": false,
     "start_time": "2025-08-05T16:28:04.975266",
     "status": "completed"
    },
    "tags": []
   },
   "outputs": [],
   "source": [
    "example_universe = universe.copy()\n",
    "universe_training_year = example_universe.get(\"training_year\")\n",
    "universe_training_size = example_universe.get(\"training_size\")\n",
    "universe_scale = example_universe.get(\"scale\")\n",
    "universe_model = example_universe.get(\"model\")\n",
    "universe_exclude_features = example_universe.get(\"exclude_features\")\n",
    "universe_exclude_subgroups = example_universe.get(\"exclude_subgroups\")"
   ]
  },
  {
   "cell_type": "code",
   "execution_count": 47,
   "id": "f4b6a8ac-9dc0-4245-8a91-5b3b5999c4f9",
   "metadata": {
    "execution": {
     "iopub.execute_input": "2025-08-05T16:28:05.044936Z",
     "iopub.status.busy": "2025-08-05T16:28:05.044209Z",
     "iopub.status.idle": "2025-08-05T16:28:05.050961Z",
     "shell.execute_reply": "2025-08-05T16:28:05.049872Z"
    },
    "papermill": {
     "duration": 0.028951,
     "end_time": "2025-08-05T16:28:05.052886",
     "exception": false,
     "start_time": "2025-08-05T16:28:05.023935",
     "status": "completed"
    },
    "tags": []
   },
   "outputs": [],
   "source": [
    "cp_metrics_dict = {\n",
    "    \"universe_id\": [universe_id],\n",
    "    \"universe_training_year\": [universe_training_year],\n",
    "    \"universe_training_size\": [universe_training_size],\n",
    "    \"universe_scale\": [universe_scale],\n",
    "    \"universe_model\": [universe_model],\n",
    "    \"universe_exclude_features\": [universe_exclude_features],\n",
    "    \"universe_exclude_subgroups\": [universe_exclude_subgroups],\n",
    "    \"q_hat\": [q_hat],\n",
    "    \"coverage\": [metrics[\"coverage\"]],\n",
    "    \"avg_size\": [metrics[\"avg_size\"]],\n",
    "}"
   ]
  },
  {
   "cell_type": "code",
   "execution_count": 48,
   "id": "908acbb1-0371-4915-85ca-3fa520d2efe2",
   "metadata": {
    "execution": {
     "iopub.execute_input": "2025-08-05T16:28:05.095300Z",
     "iopub.status.busy": "2025-08-05T16:28:05.094572Z",
     "iopub.status.idle": "2025-08-05T16:28:05.101775Z",
     "shell.execute_reply": "2025-08-05T16:28:05.100701Z"
    },
    "papermill": {
     "duration": 0.029833,
     "end_time": "2025-08-05T16:28:05.103406",
     "exception": false,
     "start_time": "2025-08-05T16:28:05.073573",
     "status": "completed"
    },
    "tags": []
   },
   "outputs": [
    {
     "data": {
      "text/plain": [
       "{'universe_id': ['f9e77d68c4ffbc01aa2a921b2adc2c77'],\n",
       " 'universe_training_year': ['2012_14'],\n",
       " 'universe_training_size': ['1k'],\n",
       " 'universe_scale': ['do-not-scale'],\n",
       " 'universe_model': ['gbm'],\n",
       " 'universe_exclude_features': ['none'],\n",
       " 'universe_exclude_subgroups': ['keep-all'],\n",
       " 'q_hat': [0.7556709418233363],\n",
       " 'coverage': [0.9102664140006688],\n",
       " 'avg_size': [1.172466837587783]}"
      ]
     },
     "execution_count": 48,
     "metadata": {},
     "output_type": "execute_result"
    }
   ],
   "source": [
    "cp_metrics_dict"
   ]
  },
  {
   "cell_type": "code",
   "execution_count": 49,
   "id": "33007efc-14e9-4ec6-97ac-56a455c82265",
   "metadata": {
    "execution": {
     "iopub.execute_input": "2025-08-05T16:28:05.148647Z",
     "iopub.status.busy": "2025-08-05T16:28:05.147898Z",
     "iopub.status.idle": "2025-08-05T16:28:05.154371Z",
     "shell.execute_reply": "2025-08-05T16:28:05.153263Z"
    },
    "papermill": {
     "duration": 0.03082,
     "end_time": "2025-08-05T16:28:05.155956",
     "exception": false,
     "start_time": "2025-08-05T16:28:05.125136",
     "status": "completed"
    },
    "tags": []
   },
   "outputs": [],
   "source": [
    "cp_metrics_df = pd.DataFrame(cp_metrics_dict)"
   ]
  },
  {
   "cell_type": "code",
   "execution_count": 50,
   "id": "db12611b-57b2-4910-b9d0-355adfd6e7bf",
   "metadata": {
    "execution": {
     "iopub.execute_input": "2025-08-05T16:28:05.203628Z",
     "iopub.status.busy": "2025-08-05T16:28:05.202797Z",
     "iopub.status.idle": "2025-08-05T16:28:05.221077Z",
     "shell.execute_reply": "2025-08-05T16:28:05.220134Z"
    },
    "papermill": {
     "duration": 0.042722,
     "end_time": "2025-08-05T16:28:05.222611",
     "exception": false,
     "start_time": "2025-08-05T16:28:05.179889",
     "status": "completed"
    },
    "tags": []
   },
   "outputs": [
    {
     "data": {
      "text/html": [
       "<div>\n",
       "<style scoped>\n",
       "    .dataframe tbody tr th:only-of-type {\n",
       "        vertical-align: middle;\n",
       "    }\n",
       "\n",
       "    .dataframe tbody tr th {\n",
       "        vertical-align: top;\n",
       "    }\n",
       "\n",
       "    .dataframe thead th {\n",
       "        text-align: right;\n",
       "    }\n",
       "</style>\n",
       "<table border=\"1\" class=\"dataframe\">\n",
       "  <thead>\n",
       "    <tr style=\"text-align: right;\">\n",
       "      <th></th>\n",
       "      <th>universe_id</th>\n",
       "      <th>universe_training_year</th>\n",
       "      <th>universe_training_size</th>\n",
       "      <th>universe_scale</th>\n",
       "      <th>universe_model</th>\n",
       "      <th>universe_exclude_features</th>\n",
       "      <th>universe_exclude_subgroups</th>\n",
       "      <th>q_hat</th>\n",
       "      <th>coverage</th>\n",
       "      <th>avg_size</th>\n",
       "    </tr>\n",
       "  </thead>\n",
       "  <tbody>\n",
       "    <tr>\n",
       "      <th>0</th>\n",
       "      <td>f9e77d68c4ffbc01aa2a921b2adc2c77</td>\n",
       "      <td>2012_14</td>\n",
       "      <td>1k</td>\n",
       "      <td>do-not-scale</td>\n",
       "      <td>gbm</td>\n",
       "      <td>none</td>\n",
       "      <td>keep-all</td>\n",
       "      <td>0.755671</td>\n",
       "      <td>0.910266</td>\n",
       "      <td>1.172467</td>\n",
       "    </tr>\n",
       "  </tbody>\n",
       "</table>\n",
       "</div>"
      ],
      "text/plain": [
       "                        universe_id universe_training_year  \\\n",
       "0  f9e77d68c4ffbc01aa2a921b2adc2c77                2012_14   \n",
       "\n",
       "  universe_training_size universe_scale universe_model  \\\n",
       "0                     1k   do-not-scale            gbm   \n",
       "\n",
       "  universe_exclude_features universe_exclude_subgroups     q_hat  coverage  \\\n",
       "0                      none                   keep-all  0.755671  0.910266   \n",
       "\n",
       "   avg_size  \n",
       "0  1.172467  "
      ]
     },
     "execution_count": 50,
     "metadata": {},
     "output_type": "execute_result"
    }
   ],
   "source": [
    "cp_metrics_df"
   ]
  },
  {
   "cell_type": "code",
   "execution_count": 51,
   "id": "b7fbde55-a0a1-47e4-9af6-fe4a17fa8c61",
   "metadata": {
    "execution": {
     "iopub.execute_input": "2025-08-05T16:28:05.263531Z",
     "iopub.status.busy": "2025-08-05T16:28:05.262723Z",
     "iopub.status.idle": "2025-08-05T16:28:05.267930Z",
     "shell.execute_reply": "2025-08-05T16:28:05.266886Z"
    },
    "papermill": {
     "duration": 0.028254,
     "end_time": "2025-08-05T16:28:05.270249",
     "exception": false,
     "start_time": "2025-08-05T16:28:05.241995",
     "status": "completed"
    },
    "tags": []
   },
   "outputs": [],
   "source": [
    "# Conditional Coverage & looking at subgroups"
   ]
  },
  {
   "cell_type": "code",
   "execution_count": 52,
   "id": "027ae886-68dd-4141-96c7-805a5450e1ef",
   "metadata": {
    "execution": {
     "iopub.execute_input": "2025-08-05T16:28:05.313182Z",
     "iopub.status.busy": "2025-08-05T16:28:05.312757Z",
     "iopub.status.idle": "2025-08-05T16:28:05.534842Z",
     "shell.execute_reply": "2025-08-05T16:28:05.534044Z"
    },
    "papermill": {
     "duration": 0.245217,
     "end_time": "2025-08-05T16:28:05.536816",
     "exception": false,
     "start_time": "2025-08-05T16:28:05.291599",
     "status": "completed"
    },
    "tags": []
   },
   "outputs": [],
   "source": [
    "from fairness_multiverse.conformal import build_cp_groups\n",
    "\n",
    "cp_groups_df = build_cp_groups(pred_sets, y_true, X_test.index, org_test)\n",
    "#needs universe_id and setting"
   ]
  },
  {
   "cell_type": "code",
   "execution_count": 53,
   "id": "6cbdab96-b2b2-45af-ad54-d0516db2e28d",
   "metadata": {
    "execution": {
     "iopub.execute_input": "2025-08-05T16:28:05.587629Z",
     "iopub.status.busy": "2025-08-05T16:28:05.586883Z",
     "iopub.status.idle": "2025-08-05T16:28:07.143373Z",
     "shell.execute_reply": "2025-08-05T16:28:07.142451Z"
    },
    "papermill": {
     "duration": 1.583933,
     "end_time": "2025-08-05T16:28:07.145198",
     "exception": false,
     "start_time": "2025-08-05T16:28:05.561265",
     "status": "completed"
    },
    "tags": []
   },
   "outputs": [],
   "source": [
    "# Define covered = 1 if true_label is in the predicted set\n",
    "cp_groups_df['covered'] = cp_groups_df.apply(\n",
    "    lambda r: int(r['true_label'] in r['pred_set']),\n",
    "    axis=1\n",
    ")"
   ]
  },
  {
   "cell_type": "code",
   "execution_count": 54,
   "id": "338ff529-1a6b-4b87-a931-8e4788d52aad",
   "metadata": {
    "execution": {
     "iopub.execute_input": "2025-08-05T16:28:07.189267Z",
     "iopub.status.busy": "2025-08-05T16:28:07.188666Z",
     "iopub.status.idle": "2025-08-05T16:28:07.193675Z",
     "shell.execute_reply": "2025-08-05T16:28:07.192733Z"
    },
    "papermill": {
     "duration": 0.028869,
     "end_time": "2025-08-05T16:28:07.195353",
     "exception": false,
     "start_time": "2025-08-05T16:28:07.166484",
     "status": "completed"
    },
    "tags": []
   },
   "outputs": [],
   "source": [
    "#cp_groups_df"
   ]
  },
  {
   "cell_type": "code",
   "execution_count": 55,
   "id": "90032e27-66df-4540-9169-4e89cfbaa758",
   "metadata": {
    "execution": {
     "iopub.execute_input": "2025-08-05T16:28:07.241464Z",
     "iopub.status.busy": "2025-08-05T16:28:07.240949Z",
     "iopub.status.idle": "2025-08-05T16:28:07.252020Z",
     "shell.execute_reply": "2025-08-05T16:28:07.251108Z"
    },
    "papermill": {
     "duration": 0.036604,
     "end_time": "2025-08-05T16:28:07.253810",
     "exception": false,
     "start_time": "2025-08-05T16:28:07.217206",
     "status": "completed"
    },
    "tags": []
   },
   "outputs": [],
   "source": [
    "subgroups = ['frau1','nongerman','nongerman_male','nongerman_female']\n",
    "\n",
    "# Conditional coverage for subgroup==1\n",
    "cond_coverage = {\n",
    "    g: cp_groups_df.loc[cp_groups_df[g]==1, 'covered'].mean()\n",
    "    for g in subgroups\n",
    "}"
   ]
  },
  {
   "cell_type": "code",
   "execution_count": 56,
   "id": "1e348fb1-b9c3-45bc-ba23-f016827a7e0d",
   "metadata": {
    "execution": {
     "iopub.execute_input": "2025-08-05T16:28:07.296981Z",
     "iopub.status.busy": "2025-08-05T16:28:07.296239Z",
     "iopub.status.idle": "2025-08-05T16:28:07.304658Z",
     "shell.execute_reply": "2025-08-05T16:28:07.303636Z"
    },
    "papermill": {
     "duration": 0.031123,
     "end_time": "2025-08-05T16:28:07.306446",
     "exception": false,
     "start_time": "2025-08-05T16:28:07.275323",
     "status": "completed"
    },
    "tags": []
   },
   "outputs": [
    {
     "data": {
      "text/plain": [
       "{'frau1': 0.9076694972368243,\n",
       " 'nongerman': 0.9080446864649413,\n",
       " 'nongerman_male': 0.9252454291632892,\n",
       " 'nongerman_female': 0.8795827123695976}"
      ]
     },
     "execution_count": 56,
     "metadata": {},
     "output_type": "execute_result"
    }
   ],
   "source": [
    "cond_coverage"
   ]
  },
  {
   "cell_type": "code",
   "execution_count": 57,
   "id": "f5093324-c3dd-4d63-bc4c-8d945e5c8bbb",
   "metadata": {
    "execution": {
     "iopub.execute_input": "2025-08-05T16:28:07.349585Z",
     "iopub.status.busy": "2025-08-05T16:28:07.349075Z",
     "iopub.status.idle": "2025-08-05T16:28:07.356418Z",
     "shell.execute_reply": "2025-08-05T16:28:07.355359Z"
    },
    "papermill": {
     "duration": 0.029892,
     "end_time": "2025-08-05T16:28:07.358167",
     "exception": false,
     "start_time": "2025-08-05T16:28:07.328275",
     "status": "completed"
    },
    "tags": []
   },
   "outputs": [],
   "source": [
    "for subgroup, cov in cond_coverage.items():\n",
    "    cp_metrics_df[f\"cov_{subgroup}\"] = cov"
   ]
  },
  {
   "cell_type": "code",
   "execution_count": 58,
   "id": "6e872e10-dbe5-49e8-b554-5030c98ff75d",
   "metadata": {
    "execution": {
     "iopub.execute_input": "2025-08-05T16:28:07.400405Z",
     "iopub.status.busy": "2025-08-05T16:28:07.399658Z",
     "iopub.status.idle": "2025-08-05T16:28:07.419733Z",
     "shell.execute_reply": "2025-08-05T16:28:07.418576Z"
    },
    "papermill": {
     "duration": 0.042331,
     "end_time": "2025-08-05T16:28:07.421612",
     "exception": false,
     "start_time": "2025-08-05T16:28:07.379281",
     "status": "completed"
    },
    "tags": []
   },
   "outputs": [
    {
     "data": {
      "text/html": [
       "<div>\n",
       "<style scoped>\n",
       "    .dataframe tbody tr th:only-of-type {\n",
       "        vertical-align: middle;\n",
       "    }\n",
       "\n",
       "    .dataframe tbody tr th {\n",
       "        vertical-align: top;\n",
       "    }\n",
       "\n",
       "    .dataframe thead th {\n",
       "        text-align: right;\n",
       "    }\n",
       "</style>\n",
       "<table border=\"1\" class=\"dataframe\">\n",
       "  <thead>\n",
       "    <tr style=\"text-align: right;\">\n",
       "      <th></th>\n",
       "      <th>universe_id</th>\n",
       "      <th>universe_training_year</th>\n",
       "      <th>universe_training_size</th>\n",
       "      <th>universe_scale</th>\n",
       "      <th>universe_model</th>\n",
       "      <th>universe_exclude_features</th>\n",
       "      <th>universe_exclude_subgroups</th>\n",
       "      <th>q_hat</th>\n",
       "      <th>coverage</th>\n",
       "      <th>avg_size</th>\n",
       "      <th>cov_frau1</th>\n",
       "      <th>cov_nongerman</th>\n",
       "      <th>cov_nongerman_male</th>\n",
       "      <th>cov_nongerman_female</th>\n",
       "    </tr>\n",
       "  </thead>\n",
       "  <tbody>\n",
       "    <tr>\n",
       "      <th>0</th>\n",
       "      <td>f9e77d68c4ffbc01aa2a921b2adc2c77</td>\n",
       "      <td>2012_14</td>\n",
       "      <td>1k</td>\n",
       "      <td>do-not-scale</td>\n",
       "      <td>gbm</td>\n",
       "      <td>none</td>\n",
       "      <td>keep-all</td>\n",
       "      <td>0.755671</td>\n",
       "      <td>0.910266</td>\n",
       "      <td>1.172467</td>\n",
       "      <td>0.907669</td>\n",
       "      <td>0.908045</td>\n",
       "      <td>0.925245</td>\n",
       "      <td>0.879583</td>\n",
       "    </tr>\n",
       "  </tbody>\n",
       "</table>\n",
       "</div>"
      ],
      "text/plain": [
       "                        universe_id universe_training_year  \\\n",
       "0  f9e77d68c4ffbc01aa2a921b2adc2c77                2012_14   \n",
       "\n",
       "  universe_training_size universe_scale universe_model  \\\n",
       "0                     1k   do-not-scale            gbm   \n",
       "\n",
       "  universe_exclude_features universe_exclude_subgroups     q_hat  coverage  \\\n",
       "0                      none                   keep-all  0.755671  0.910266   \n",
       "\n",
       "   avg_size  cov_frau1  cov_nongerman  cov_nongerman_male  \\\n",
       "0  1.172467   0.907669       0.908045            0.925245   \n",
       "\n",
       "   cov_nongerman_female  \n",
       "0              0.879583  "
      ]
     },
     "execution_count": 58,
     "metadata": {},
     "output_type": "execute_result"
    }
   ],
   "source": [
    "cp_metrics_df"
   ]
  },
  {
   "cell_type": "markdown",
   "id": "33774451",
   "metadata": {
    "papermill": {
     "duration": 0.020016,
     "end_time": "2025-08-05T16:28:07.462589",
     "exception": false,
     "start_time": "2025-08-05T16:28:07.442573",
     "status": "completed"
    },
    "tags": []
   },
   "source": [
    "# (Fairness) Metrics"
   ]
  },
  {
   "cell_type": "code",
   "execution_count": 59,
   "id": "debc5d62",
   "metadata": {
    "execution": {
     "iopub.execute_input": "2025-08-05T16:28:07.506779Z",
     "iopub.status.busy": "2025-08-05T16:28:07.506226Z",
     "iopub.status.idle": "2025-08-05T16:28:07.527513Z",
     "shell.execute_reply": "2025-08-05T16:28:07.526604Z"
    },
    "papermill": {
     "duration": 0.046272,
     "end_time": "2025-08-05T16:28:07.529129",
     "exception": false,
     "start_time": "2025-08-05T16:28:07.482857",
     "status": "completed"
    },
    "tags": []
   },
   "outputs": [],
   "source": [
    "# do I need to include maxdeutsch1.missing?\n",
    "\n",
    "import numpy as np\n",
    "\n",
    "colname_to_bin = \"maxdeutsch1\"\n",
    "majority_value = org_train[colname_to_bin].mode()[0]\n",
    "\n",
    "org_test[\"majmin\"] = np.where(org_test[colname_to_bin] == majority_value, \"majority\", \"minority\")"
   ]
  },
  {
   "cell_type": "code",
   "execution_count": 60,
   "id": "06a50de5",
   "metadata": {
    "execution": {
     "iopub.execute_input": "2025-08-05T16:28:07.573765Z",
     "iopub.status.busy": "2025-08-05T16:28:07.572943Z",
     "iopub.status.idle": "2025-08-05T16:28:10.804689Z",
     "shell.execute_reply": "2025-08-05T16:28:10.803464Z"
    },
    "papermill": {
     "duration": 3.25541,
     "end_time": "2025-08-05T16:28:10.806877",
     "exception": false,
     "start_time": "2025-08-05T16:28:07.551467",
     "status": "completed"
    },
    "tags": []
   },
   "outputs": [],
   "source": [
    "example_universe = universe.copy()\n",
    "example_universe[\"cutoff\"] = example_universe[\"cutoff\"][0]\n",
    "example_universe[\"eval_fairness_grouping\"] = example_universe[\"eval_fairness_grouping\"][0]\n",
    "fairness_dict, metric_frame = universe_analysis.compute_metrics(\n",
    "    example_universe,\n",
    "    y_pred_prob=probs_test,\n",
    "    y_test=y_true,\n",
    "    org_test=org_test,\n",
    ")"
   ]
  },
  {
   "cell_type": "markdown",
   "id": "f95d4e02",
   "metadata": {
    "papermill": {
     "duration": 0.027233,
     "end_time": "2025-08-05T16:28:10.861732",
     "exception": false,
     "start_time": "2025-08-05T16:28:10.834499",
     "status": "completed"
    },
    "tags": []
   },
   "source": [
    "# Overall"
   ]
  },
  {
   "cell_type": "markdown",
   "id": "bdee4871",
   "metadata": {
    "papermill": {
     "duration": 0.026391,
     "end_time": "2025-08-05T16:28:10.914333",
     "exception": false,
     "start_time": "2025-08-05T16:28:10.887942",
     "status": "completed"
    },
    "tags": []
   },
   "source": [
    "Fairness\n",
    "Main fairness target: Equalized Odds. Seems to be a better fit than equal opportunity, since we're not only interested in Y = 1. Seems to be a better fit than demographic parity, since we also care about accuracy, not just equal distribution of preds.\n",
    "\n",
    "Pick column for computation of fairness metrics\n",
    "\n",
    "Performance\n",
    "Overall performance measures, most interesting in relation to the measures split by group below"
   ]
  },
  {
   "cell_type": "code",
   "execution_count": 61,
   "id": "c4e067c6",
   "metadata": {
    "execution": {
     "iopub.execute_input": "2025-08-05T16:28:10.970508Z",
     "iopub.status.busy": "2025-08-05T16:28:10.969810Z",
     "iopub.status.idle": "2025-08-05T16:28:10.980144Z",
     "shell.execute_reply": "2025-08-05T16:28:10.978968Z"
    },
    "papermill": {
     "duration": 0.039994,
     "end_time": "2025-08-05T16:28:10.982066",
     "exception": false,
     "start_time": "2025-08-05T16:28:10.942072",
     "status": "completed"
    },
    "tags": []
   },
   "outputs": [
    {
     "data": {
      "text/plain": [
       "accuracy                   0.223130\n",
       "balanced accuracy          0.545844\n",
       "f1                         0.244496\n",
       "precision                  0.139672\n",
       "false positive rate        0.888238\n",
       "false negative rate        0.020073\n",
       "selection rate             0.900000\n",
       "count                  89710.000000\n",
       "dtype: float64"
      ]
     },
     "execution_count": 61,
     "metadata": {},
     "output_type": "execute_result"
    }
   ],
   "source": [
    "metric_frame.overall"
   ]
  },
  {
   "cell_type": "markdown",
   "id": "e968fe9d",
   "metadata": {
    "papermill": {
     "duration": 0.027049,
     "end_time": "2025-08-05T16:28:11.037351",
     "exception": false,
     "start_time": "2025-08-05T16:28:11.010302",
     "status": "completed"
    },
    "tags": []
   },
   "source": [
    "By Group"
   ]
  },
  {
   "cell_type": "code",
   "execution_count": 62,
   "id": "ec325bce",
   "metadata": {
    "execution": {
     "iopub.execute_input": "2025-08-05T16:28:11.095023Z",
     "iopub.status.busy": "2025-08-05T16:28:11.094370Z",
     "iopub.status.idle": "2025-08-05T16:28:11.114372Z",
     "shell.execute_reply": "2025-08-05T16:28:11.113175Z"
    },
    "papermill": {
     "duration": 0.052342,
     "end_time": "2025-08-05T16:28:11.116295",
     "exception": false,
     "start_time": "2025-08-05T16:28:11.063953",
     "status": "completed"
    },
    "tags": []
   },
   "outputs": [
    {
     "data": {
      "text/html": [
       "<div>\n",
       "<style scoped>\n",
       "    .dataframe tbody tr th:only-of-type {\n",
       "        vertical-align: middle;\n",
       "    }\n",
       "\n",
       "    .dataframe tbody tr th {\n",
       "        vertical-align: top;\n",
       "    }\n",
       "\n",
       "    .dataframe thead th {\n",
       "        text-align: right;\n",
       "    }\n",
       "</style>\n",
       "<table border=\"1\" class=\"dataframe\">\n",
       "  <thead>\n",
       "    <tr style=\"text-align: right;\">\n",
       "      <th></th>\n",
       "      <th>accuracy</th>\n",
       "      <th>balanced accuracy</th>\n",
       "      <th>f1</th>\n",
       "      <th>precision</th>\n",
       "      <th>false positive rate</th>\n",
       "      <th>false negative rate</th>\n",
       "      <th>selection rate</th>\n",
       "      <th>count</th>\n",
       "    </tr>\n",
       "    <tr>\n",
       "      <th>majmin</th>\n",
       "      <th></th>\n",
       "      <th></th>\n",
       "      <th></th>\n",
       "      <th></th>\n",
       "      <th></th>\n",
       "      <th></th>\n",
       "      <th></th>\n",
       "      <th></th>\n",
       "    </tr>\n",
       "  </thead>\n",
       "  <tbody>\n",
       "    <tr>\n",
       "      <th>majority</th>\n",
       "      <td>0.245583</td>\n",
       "      <td>0.555527</td>\n",
       "      <td>0.254944</td>\n",
       "      <td>0.146603</td>\n",
       "      <td>0.865750</td>\n",
       "      <td>0.023195</td>\n",
       "      <td>0.880425</td>\n",
       "      <td>69170.0</td>\n",
       "    </tr>\n",
       "    <tr>\n",
       "      <th>minority</th>\n",
       "      <td>0.147517</td>\n",
       "      <td>0.514726</td>\n",
       "      <td>0.211545</td>\n",
       "      <td>0.118397</td>\n",
       "      <td>0.962525</td>\n",
       "      <td>0.008024</td>\n",
       "      <td>0.965920</td>\n",
       "      <td>20540.0</td>\n",
       "    </tr>\n",
       "  </tbody>\n",
       "</table>\n",
       "</div>"
      ],
      "text/plain": [
       "          accuracy  balanced accuracy        f1  precision  \\\n",
       "majmin                                                       \n",
       "majority  0.245583           0.555527  0.254944   0.146603   \n",
       "minority  0.147517           0.514726  0.211545   0.118397   \n",
       "\n",
       "          false positive rate  false negative rate  selection rate    count  \n",
       "majmin                                                                       \n",
       "majority             0.865750             0.023195        0.880425  69170.0  \n",
       "minority             0.962525             0.008024        0.965920  20540.0  "
      ]
     },
     "execution_count": 62,
     "metadata": {},
     "output_type": "execute_result"
    }
   ],
   "source": [
    "metric_frame.by_group"
   ]
  },
  {
   "cell_type": "code",
   "execution_count": 63,
   "id": "a9ddbe63",
   "metadata": {
    "execution": {
     "iopub.execute_input": "2025-08-05T16:28:11.175076Z",
     "iopub.status.busy": "2025-08-05T16:28:11.174189Z",
     "iopub.status.idle": "2025-08-05T16:28:13.928388Z",
     "shell.execute_reply": "2025-08-05T16:28:13.927270Z"
    },
    "papermill": {
     "duration": 2.785801,
     "end_time": "2025-08-05T16:28:13.930368",
     "exception": false,
     "start_time": "2025-08-05T16:28:11.144567",
     "status": "completed"
    },
    "tags": []
   },
   "outputs": [
    {
     "data": {
      "text/plain": [
       "array([[<Axes: title={'center': 'accuracy'}, xlabel='majmin'>,\n",
       "        <Axes: title={'center': 'balanced accuracy'}, xlabel='majmin'>,\n",
       "        <Axes: title={'center': 'f1'}, xlabel='majmin'>],\n",
       "       [<Axes: title={'center': 'precision'}, xlabel='majmin'>,\n",
       "        <Axes: title={'center': 'false positive rate'}, xlabel='majmin'>,\n",
       "        <Axes: title={'center': 'false negative rate'}, xlabel='majmin'>],\n",
       "       [<Axes: title={'center': 'selection rate'}, xlabel='majmin'>,\n",
       "        <Axes: title={'center': 'count'}, xlabel='majmin'>,\n",
       "        <Axes: xlabel='majmin'>]], dtype=object)"
      ]
     },
     "execution_count": 63,
     "metadata": {},
     "output_type": "execute_result"
    },
    {
     "data": {
      "image/png": "[encoded data removed]",
      "text/plain": [
       "<Figure size 1200x800 with 9 Axes>"
      ]
     },
     "metadata": {},
     "output_type": "display_data"
    }
   ],
   "source": [
    "# In a graphic\n",
    "metric_frame.by_group.plot.bar(\n",
    "    subplots=True,\n",
    "    layout=[3, 3],\n",
    "    legend=False,\n",
    "    figsize=[12, 8],\n",
    "    title=\"Show all metrics\",\n",
    ")"
   ]
  },
  {
   "cell_type": "markdown",
   "id": "f57a0bac",
   "metadata": {
    "papermill": {
     "duration": 0.028793,
     "end_time": "2025-08-05T16:28:13.992867",
     "exception": false,
     "start_time": "2025-08-05T16:28:13.964074",
     "status": "completed"
    },
    "tags": []
   },
   "source": [
    "# Final Output"
   ]
  },
  {
   "cell_type": "code",
   "execution_count": 64,
   "id": "96d280a3",
   "metadata": {
    "execution": {
     "iopub.execute_input": "2025-08-05T16:28:14.055807Z",
     "iopub.status.busy": "2025-08-05T16:28:14.054950Z",
     "iopub.status.idle": "2025-08-05T16:28:14.066543Z",
     "shell.execute_reply": "2025-08-05T16:28:14.065488Z"
    },
    "papermill": {
     "duration": 0.04516,
     "end_time": "2025-08-05T16:28:14.068349",
     "exception": false,
     "start_time": "2025-08-05T16:28:14.023189",
     "status": "completed"
    },
    "tags": []
   },
   "outputs": [
    {
     "data": {
      "text/plain": [
       "4"
      ]
     },
     "execution_count": 64,
     "metadata": {},
     "output_type": "execute_result"
    }
   ],
   "source": [
    "sub_universes = universe_analysis.generate_sub_universes()\n",
    "len(sub_universes)"
   ]
  },
  {
   "cell_type": "code",
   "execution_count": 65,
   "id": "92adf7ba",
   "metadata": {
    "execution": {
     "iopub.execute_input": "2025-08-05T16:28:14.132361Z",
     "iopub.status.busy": "2025-08-05T16:28:14.131298Z",
     "iopub.status.idle": "2025-08-05T16:28:14.138684Z",
     "shell.execute_reply": "2025-08-05T16:28:14.137528Z"
    },
    "papermill": {
     "duration": 0.040868,
     "end_time": "2025-08-05T16:28:14.140593",
     "exception": false,
     "start_time": "2025-08-05T16:28:14.099725",
     "status": "completed"
    },
    "tags": []
   },
   "outputs": [],
   "source": [
    "def filter_sub_universe_data(sub_universe, org_test):\n",
    "    # Keep all rows — no filtering\n",
    "    keep_rows_mask = np.ones(org_test.shape[0], dtype=bool)\n",
    "\n",
    "    print(f\"[INFO] Keeping all rows: {keep_rows_mask.sum()} rows retained.\")\n",
    "    return keep_rows_mask"
   ]
  },
  {
   "cell_type": "code",
   "execution_count": 66,
   "id": "4a759155",
   "metadata": {
    "execution": {
     "iopub.execute_input": "2025-08-05T16:28:14.202389Z",
     "iopub.status.busy": "2025-08-05T16:28:14.201423Z",
     "iopub.status.idle": "2025-08-05T16:28:27.458089Z",
     "shell.execute_reply": "2025-08-05T16:28:27.456546Z"
    },
    "papermill": {
     "duration": 13.290746,
     "end_time": "2025-08-05T16:28:27.460665",
     "exception": false,
     "start_time": "2025-08-05T16:28:14.169919",
     "status": "completed"
    },
    "tags": []
   },
   "outputs": [
    {
     "name": "stdout",
     "output_type": "stream",
     "text": [
      "Stopping execution_time clock.\n",
      "[INFO] Keeping all rows: 89710 rows retained.\n"
     ]
    },
    {
     "name": "stdout",
     "output_type": "stream",
     "text": [
      "[INFO] Keeping all rows: 89710 rows retained.\n"
     ]
    },
    {
     "name": "stdout",
     "output_type": "stream",
     "text": [
      "[INFO] Keeping all rows: 89710 rows retained.\n"
     ]
    },
    {
     "name": "stdout",
     "output_type": "stream",
     "text": [
      "[INFO] Keeping all rows: 89710 rows retained.\n"
     ]
    },
    {
     "data": {
      "text/html": [
       "<div>\n",
       "<style scoped>\n",
       "    .dataframe tbody tr th:only-of-type {\n",
       "        vertical-align: middle;\n",
       "    }\n",
       "\n",
       "    .dataframe tbody tr th {\n",
       "        vertical-align: top;\n",
       "    }\n",
       "\n",
       "    .dataframe thead th {\n",
       "        text-align: right;\n",
       "    }\n",
       "</style>\n",
       "<table border=\"1\" class=\"dataframe\">\n",
       "  <thead>\n",
       "    <tr style=\"text-align: right;\">\n",
       "      <th></th>\n",
       "      <th>run_no</th>\n",
       "      <th>universe_id</th>\n",
       "      <th>universe_settings</th>\n",
       "      <th>execution_time</th>\n",
       "      <th>test_size_n</th>\n",
       "      <th>test_size_frac</th>\n",
       "      <th>fair_main_equalized_odds_difference</th>\n",
       "      <th>fair_main_equalized_odds_ratio</th>\n",
       "      <th>fair_main_demographic_parity_difference</th>\n",
       "      <th>fair_main_demographic_parity_ratio</th>\n",
       "      <th>...</th>\n",
       "      <th>perf_grp_precision_0</th>\n",
       "      <th>perf_grp_precision_1</th>\n",
       "      <th>perf_grp_false positive rate_0</th>\n",
       "      <th>perf_grp_false positive rate_1</th>\n",
       "      <th>perf_grp_false negative rate_0</th>\n",
       "      <th>perf_grp_false negative rate_1</th>\n",
       "      <th>perf_grp_selection rate_0</th>\n",
       "      <th>perf_grp_selection rate_1</th>\n",
       "      <th>perf_grp_count_0</th>\n",
       "      <th>perf_grp_count_1</th>\n",
       "    </tr>\n",
       "  </thead>\n",
       "  <tbody>\n",
       "    <tr>\n",
       "      <th>0</th>\n",
       "      <td>15</td>\n",
       "      <td>f9e77d68c4ffbc01aa2a921b2adc2c77</td>\n",
       "      <td>{\"cutoff\": \"quantile_0.1\", \"eval_fairness_grou...</td>\n",
       "      <td>32.345117</td>\n",
       "      <td>89710</td>\n",
       "      <td>1.0</td>\n",
       "      <td>0.096774</td>\n",
       "      <td>0.899458</td>\n",
       "      <td>0.085495</td>\n",
       "      <td>0.911488</td>\n",
       "      <td>...</td>\n",
       "      <td>NaN</td>\n",
       "      <td>NaN</td>\n",
       "      <td>NaN</td>\n",
       "      <td>NaN</td>\n",
       "      <td>NaN</td>\n",
       "      <td>NaN</td>\n",
       "      <td>NaN</td>\n",
       "      <td>NaN</td>\n",
       "      <td>NaN</td>\n",
       "      <td>NaN</td>\n",
       "    </tr>\n",
       "    <tr>\n",
       "      <th>0</th>\n",
       "      <td>15</td>\n",
       "      <td>f9e77d68c4ffbc01aa2a921b2adc2c77</td>\n",
       "      <td>{\"cutoff\": \"quantile_0.1\", \"eval_fairness_grou...</td>\n",
       "      <td>32.345117</td>\n",
       "      <td>89710</td>\n",
       "      <td>1.0</td>\n",
       "      <td>0.096774</td>\n",
       "      <td>0.899458</td>\n",
       "      <td>0.085495</td>\n",
       "      <td>0.911488</td>\n",
       "      <td>...</td>\n",
       "      <td>0.118397</td>\n",
       "      <td>0.146603</td>\n",
       "      <td>0.962525</td>\n",
       "      <td>0.86575</td>\n",
       "      <td>0.008024</td>\n",
       "      <td>0.023195</td>\n",
       "      <td>0.965920</td>\n",
       "      <td>0.880425</td>\n",
       "      <td>20540.0</td>\n",
       "      <td>69170.0</td>\n",
       "    </tr>\n",
       "    <tr>\n",
       "      <th>0</th>\n",
       "      <td>15</td>\n",
       "      <td>f9e77d68c4ffbc01aa2a921b2adc2c77</td>\n",
       "      <td>{\"cutoff\": \"quantile_0.25\", \"eval_fairness_gro...</td>\n",
       "      <td>32.345117</td>\n",
       "      <td>89710</td>\n",
       "      <td>1.0</td>\n",
       "      <td>0.099042</td>\n",
       "      <td>0.876150</td>\n",
       "      <td>0.084997</td>\n",
       "      <td>0.895777</td>\n",
       "      <td>...</td>\n",
       "      <td>NaN</td>\n",
       "      <td>NaN</td>\n",
       "      <td>NaN</td>\n",
       "      <td>NaN</td>\n",
       "      <td>NaN</td>\n",
       "      <td>NaN</td>\n",
       "      <td>NaN</td>\n",
       "      <td>NaN</td>\n",
       "      <td>NaN</td>\n",
       "      <td>NaN</td>\n",
       "    </tr>\n",
       "    <tr>\n",
       "      <th>0</th>\n",
       "      <td>15</td>\n",
       "      <td>f9e77d68c4ffbc01aa2a921b2adc2c77</td>\n",
       "      <td>{\"cutoff\": \"quantile_0.25\", \"eval_fairness_gro...</td>\n",
       "      <td>32.345117</td>\n",
       "      <td>89710</td>\n",
       "      <td>1.0</td>\n",
       "      <td>0.099042</td>\n",
       "      <td>0.876150</td>\n",
       "      <td>0.084997</td>\n",
       "      <td>0.895777</td>\n",
       "      <td>...</td>\n",
       "      <td>0.132470</td>\n",
       "      <td>0.167640</td>\n",
       "      <td>0.799692</td>\n",
       "      <td>0.70065</td>\n",
       "      <td>0.062922</td>\n",
       "      <td>0.073195</td>\n",
       "      <td>0.815531</td>\n",
       "      <td>0.730533</td>\n",
       "      <td>20540.0</td>\n",
       "      <td>69170.0</td>\n",
       "    </tr>\n",
       "  </tbody>\n",
       "</table>\n",
       "<p>4 rows × 50 columns</p>\n",
       "</div>"
      ],
      "text/plain": [
       "  run_no                       universe_id  \\\n",
       "0     15  f9e77d68c4ffbc01aa2a921b2adc2c77   \n",
       "0     15  f9e77d68c4ffbc01aa2a921b2adc2c77   \n",
       "0     15  f9e77d68c4ffbc01aa2a921b2adc2c77   \n",
       "0     15  f9e77d68c4ffbc01aa2a921b2adc2c77   \n",
       "\n",
       "                                   universe_settings  execution_time  \\\n",
       "0  {\"cutoff\": \"quantile_0.1\", \"eval_fairness_grou...       32.345117   \n",
       "0  {\"cutoff\": \"quantile_0.1\", \"eval_fairness_grou...       32.345117   \n",
       "0  {\"cutoff\": \"quantile_0.25\", \"eval_fairness_gro...       32.345117   \n",
       "0  {\"cutoff\": \"quantile_0.25\", \"eval_fairness_gro...       32.345117   \n",
       "\n",
       "   test_size_n  test_size_frac  fair_main_equalized_odds_difference  \\\n",
       "0        89710             1.0                             0.096774   \n",
       "0        89710             1.0                             0.096774   \n",
       "0        89710             1.0                             0.099042   \n",
       "0        89710             1.0                             0.099042   \n",
       "\n",
       "   fair_main_equalized_odds_ratio  fair_main_demographic_parity_difference  \\\n",
       "0                        0.899458                                 0.085495   \n",
       "0                        0.899458                                 0.085495   \n",
       "0                        0.876150                                 0.084997   \n",
       "0                        0.876150                                 0.084997   \n",
       "\n",
       "   fair_main_demographic_parity_ratio  ...  perf_grp_precision_0  \\\n",
       "0                            0.911488  ...                   NaN   \n",
       "0                            0.911488  ...              0.118397   \n",
       "0                            0.895777  ...                   NaN   \n",
       "0                            0.895777  ...              0.132470   \n",
       "\n",
       "   perf_grp_precision_1  perf_grp_false positive rate_0  \\\n",
       "0                   NaN                             NaN   \n",
       "0              0.146603                        0.962525   \n",
       "0                   NaN                             NaN   \n",
       "0              0.167640                        0.799692   \n",
       "\n",
       "   perf_grp_false positive rate_1  perf_grp_false negative rate_0  \\\n",
       "0                             NaN                             NaN   \n",
       "0                         0.86575                        0.008024   \n",
       "0                             NaN                             NaN   \n",
       "0                         0.70065                        0.062922   \n",
       "\n",
       "   perf_grp_false negative rate_1  perf_grp_selection rate_0  \\\n",
       "0                             NaN                        NaN   \n",
       "0                        0.023195                   0.965920   \n",
       "0                             NaN                        NaN   \n",
       "0                        0.073195                   0.815531   \n",
       "\n",
       "   perf_grp_selection rate_1  perf_grp_count_0  perf_grp_count_1  \n",
       "0                        NaN               NaN               NaN  \n",
       "0                   0.880425           20540.0           69170.0  \n",
       "0                        NaN               NaN               NaN  \n",
       "0                   0.730533           20540.0           69170.0  \n",
       "\n",
       "[4 rows x 50 columns]"
      ]
     },
     "execution_count": 66,
     "metadata": {},
     "output_type": "execute_result"
    }
   ],
   "source": [
    "final_output = universe_analysis.generate_final_output(\n",
    "    y_pred_prob=probs_test,\n",
    "    y_test=y_true,\n",
    "    org_test=org_test,\n",
    "    filter_data=filter_sub_universe_data,\n",
    "    cp_metrics_df=cp_metrics_df,\n",
    "    save=True,\n",
    ")\n",
    "final_output"
   ]
  }
 ],
 "metadata": {
  "celltoolbar": "Tags",
  "kernelspec": {
   "display_name": "Python (CMA Fairness)",
   "language": "python",
   "name": "cma_fair_env"
  },
  "language_info": {
   "codemirror_mode": {
    "name": "ipython",
    "version": 3
   },
   "file_extension": ".py",
   "mimetype": "text/x-python",
   "name": "python",
   "nbconvert_exporter": "python",
   "pygments_lexer": "ipython3",
   "version": "3.10.12"
  },
  "papermill": {
   "default_parameters": {},
   "duration": 50.196791,
   "end_time": "2025-08-05T16:28:28.318962",
   "environment_variables": {},
   "exception": null,
   "input_path": "universe_analysis.ipynb",
   "output_path": "output/runs/15/notebooks/m_15-f9e77d68c4ffbc01aa2a921b2adc2c77.ipynb",
   "parameters": {
    "output_dir": "output",
    "run_no": "15",
    "seed": "2023",
    "universe": "{\"cutoff\": [\"quantile_0.1\", \"quantile_0.25\"], \"eval_fairness_grouping\": [\"majority-minority\", \"nationality-all\"], \"exclude_features\": \"none\", \"exclude_subgroups\": \"keep-all\", \"model\": \"gbm\", \"scale\": \"do-not-scale\", \"training_size\": \"1k\", \"training_year\": \"2012_14\"}",
    "universe_id": "f9e77d68c4ffbc01aa2a921b2adc2c77"
   },
   "start_time": "2025-08-05T16:27:38.122171",
   "version": "2.6.0"
  }
 },
 "nbformat": 4,
 "nbformat_minor": 5
}