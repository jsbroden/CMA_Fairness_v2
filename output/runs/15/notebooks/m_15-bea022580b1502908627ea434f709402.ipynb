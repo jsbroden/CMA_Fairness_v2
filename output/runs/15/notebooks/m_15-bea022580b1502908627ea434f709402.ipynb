{
 "cells": [
  {
   "cell_type": "code",
   "execution_count": 1,
   "id": "f159f837-637b-42ba-96b5-ec9a68c44524",
   "metadata": {
    "execution": {
     "iopub.execute_input": "2025-08-05T16:08:14.247173Z",
     "iopub.status.busy": "2025-08-05T16:08:14.246637Z",
     "iopub.status.idle": "2025-08-05T16:08:14.261015Z",
     "shell.execute_reply": "2025-08-05T16:08:14.259818Z"
    },
    "papermill": {
     "duration": 0.038701,
     "end_time": "2025-08-05T16:08:14.262970",
     "exception": false,
     "start_time": "2025-08-05T16:08:14.224269",
     "status": "completed"
    },
    "tags": []
   },
   "outputs": [
    {
     "name": "stdout",
     "output_type": "stream",
     "text": [
      "/dss/dsshome1/0C/ra93lal2/cma/CMA_Fairness_v2\n"
     ]
    },
    {
     "name": "stderr",
     "output_type": "stream",
     "text": [
      "/dss/dsshome1/0C/ra93lal2/.local/share/virtualenvs/CMA_Fairness_v2-3j10GkSs/lib/python3.10/site-packages/IPython/core/magics/osm.py:393: UserWarning: This is now an optional IPython functionality, using bookmarks requires you to install the `pickleshare` library.\n",
      "  bkms = self.shell.db.get('bookmarks', {})\n",
      "/dss/dsshome1/0C/ra93lal2/.local/share/virtualenvs/CMA_Fairness_v2-3j10GkSs/lib/python3.10/site-packages/IPython/core/magics/osm.py:417: UserWarning: This is now an optional IPython functionality, setting dhist requires you to install the `pickleshare` library.\n",
      "  self.shell.db['dhist'] = compress_dhist(dhist)[-100:]\n"
     ]
    }
   ],
   "source": [
    "%cd ~/cma/CMA_Fairness_v2"
   ]
  },
  {
   "cell_type": "markdown",
   "id": "de2603b9",
   "metadata": {
    "papermill": {
     "duration": 0.016038,
     "end_time": "2025-08-05T16:08:14.296330",
     "exception": false,
     "start_time": "2025-08-05T16:08:14.280292",
     "status": "completed"
    },
    "tags": []
   },
   "source": [
    "The following cell holds the definition of our parameters, these values can be overriden by rendering the with e.g. the following command:\n",
    "\n",
    "papermill -p alpha 0.2 -p ratio 0.3 universe_analysis.ipynb output/test_run.ipynb"
   ]
  },
  {
   "cell_type": "code",
   "execution_count": 2,
   "id": "a80968a0-40bb-4fa9-85ef-2d5eefb01975",
   "metadata": {
    "execution": {
     "iopub.execute_input": "2025-08-05T16:08:14.331012Z",
     "iopub.status.busy": "2025-08-05T16:08:14.330183Z",
     "iopub.status.idle": "2025-08-05T16:08:14.336442Z",
     "shell.execute_reply": "2025-08-05T16:08:14.335369Z"
    },
    "papermill": {
     "duration": 0.025298,
     "end_time": "2025-08-05T16:08:14.338412",
     "exception": false,
     "start_time": "2025-08-05T16:08:14.313114",
     "status": "completed"
    },
    "tags": []
   },
   "outputs": [
    {
     "name": "stdout",
     "output_type": "stream",
     "text": [
      "Current working directory: /dss/dsshome1/0C/ra93lal2/cma/CMA_Fairness_v2\n"
     ]
    }
   ],
   "source": [
    "import os\n",
    "print(\"Current working directory:\", os.getcwd())"
   ]
  },
  {
   "cell_type": "code",
   "execution_count": 3,
   "id": "2dce4c03",
   "metadata": {
    "execution": {
     "iopub.execute_input": "2025-08-05T16:08:14.374344Z",
     "iopub.status.busy": "2025-08-05T16:08:14.373824Z",
     "iopub.status.idle": "2025-08-05T16:08:14.380235Z",
     "shell.execute_reply": "2025-08-05T16:08:14.379180Z"
    },
    "papermill": {
     "duration": 0.025034,
     "end_time": "2025-08-05T16:08:14.381874",
     "exception": false,
     "start_time": "2025-08-05T16:08:14.356840",
     "status": "completed"
    },
    "tags": [
     "parameters"
    ]
   },
   "outputs": [],
   "source": [
    "run_no = 0\n",
    "universe_id = \"test\"\n",
    "universe = {\n",
    "    \"training_size\": \"25k\", # \"25k\", \"5k\", \"1k\"\n",
    "    \"training_year\": \"2014\", # \"2014\", \"2012_14\", \"2010_14\"\n",
    "    \"scale\": \"scale\", # \"scale\", \"do-not-scale\",\n",
    "    \"model\": \"elasticnet\", # \"logreg\", \"penalized_logreg\", \"rf\", \"gbm\", \"elasticnet\"\n",
    "    \"cutoff\": [\"quantile_0.15\", \"quantile_0.30\"],\n",
    "    \"exclude_features\": \"age\", # \"none\", \"nationality\", \"sex\", \"nationality-sex\", \"age\"\n",
    "    \"exclude_subgroups\": \"keep-all\", # \"keep-all\", \"drop-non-german\"\n",
    "    \"eval_fairness_grouping\": [\"majority-minority\", \"nationality-all\"]\n",
    "}\n",
    "\n",
    "output_dir=\"./output\"\n",
    "seed=0"
   ]
  },
  {
   "cell_type": "code",
   "execution_count": 4,
   "id": "337723b7",
   "metadata": {
    "execution": {
     "iopub.execute_input": "2025-08-05T16:08:14.419170Z",
     "iopub.status.busy": "2025-08-05T16:08:14.418687Z",
     "iopub.status.idle": "2025-08-05T16:08:14.423807Z",
     "shell.execute_reply": "2025-08-05T16:08:14.422855Z"
    },
    "papermill": {
     "duration": 0.024586,
     "end_time": "2025-08-05T16:08:14.425592",
     "exception": false,
     "start_time": "2025-08-05T16:08:14.401006",
     "status": "completed"
    },
    "tags": [
     "injected-parameters"
    ]
   },
   "outputs": [],
   "source": [
    "# Parameters\n",
    "universe_id = \"bea022580b1502908627ea434f709402\"\n",
    "run_no = \"15\"\n",
    "universe = \"{\\\"cutoff\\\": [\\\"quantile_0.1\\\", \\\"quantile_0.25\\\"], \\\"eval_fairness_grouping\\\": [\\\"majority-minority\\\", \\\"nationality-all\\\"], \\\"exclude_features\\\": \\\"age\\\", \\\"exclude_subgroups\\\": \\\"keep-all\\\", \\\"model\\\": \\\"elasticnet\\\", \\\"scale\\\": \\\"scale\\\", \\\"training_size\\\": \\\"1k\\\", \\\"training_year\\\": \\\"2014\\\"}\"\n",
    "output_dir = \"output\"\n",
    "seed = \"2023\"\n"
   ]
  },
  {
   "cell_type": "code",
   "execution_count": 5,
   "id": "1650acaf",
   "metadata": {
    "execution": {
     "iopub.execute_input": "2025-08-05T16:08:14.461034Z",
     "iopub.status.busy": "2025-08-05T16:08:14.460325Z",
     "iopub.status.idle": "2025-08-05T16:08:14.465247Z",
     "shell.execute_reply": "2025-08-05T16:08:14.464269Z"
    },
    "papermill": {
     "duration": 0.023618,
     "end_time": "2025-08-05T16:08:14.466996",
     "exception": false,
     "start_time": "2025-08-05T16:08:14.443378",
     "status": "completed"
    },
    "tags": []
   },
   "outputs": [],
   "source": [
    "import json\n",
    "if isinstance(universe, str):\n",
    "    universe = json.loads(universe)"
   ]
  },
  {
   "cell_type": "code",
   "execution_count": 6,
   "id": "16620c48",
   "metadata": {
    "execution": {
     "iopub.execute_input": "2025-08-05T16:08:14.503139Z",
     "iopub.status.busy": "2025-08-05T16:08:14.502284Z",
     "iopub.status.idle": "2025-08-05T16:08:14.548250Z",
     "shell.execute_reply": "2025-08-05T16:08:14.547503Z"
    },
    "papermill": {
     "duration": 0.066327,
     "end_time": "2025-08-05T16:08:14.550048",
     "exception": false,
     "start_time": "2025-08-05T16:08:14.483721",
     "status": "completed"
    },
    "tags": []
   },
   "outputs": [],
   "source": [
    "# Auto-reload the custom package\n",
    "%load_ext autoreload\n",
    "%autoreload 1\n",
    "%aimport fairness_multiverse"
   ]
  },
  {
   "cell_type": "code",
   "execution_count": 7,
   "id": "01c5c9f3",
   "metadata": {
    "execution": {
     "iopub.execute_input": "2025-08-05T16:08:14.584603Z",
     "iopub.status.busy": "2025-08-05T16:08:14.583648Z",
     "iopub.status.idle": "2025-08-05T16:08:16.755373Z",
     "shell.execute_reply": "2025-08-05T16:08:16.754326Z"
    },
    "papermill": {
     "duration": 2.190617,
     "end_time": "2025-08-05T16:08:16.757212",
     "exception": false,
     "start_time": "2025-08-05T16:08:14.566595",
     "status": "completed"
    },
    "tags": []
   },
   "outputs": [],
   "source": [
    "from fairness_multiverse.universe import UniverseAnalysis\n",
    "\n",
    "universe_analysis = UniverseAnalysis(\n",
    "    run_no = run_no,\n",
    "    universe_id = universe_id,\n",
    "    universe = universe,\n",
    "    output_dir=output_dir,\n",
    ")"
   ]
  },
  {
   "cell_type": "code",
   "execution_count": 8,
   "id": "106241f5",
   "metadata": {
    "execution": {
     "iopub.execute_input": "2025-08-05T16:08:16.790994Z",
     "iopub.status.busy": "2025-08-05T16:08:16.790183Z",
     "iopub.status.idle": "2025-08-05T16:08:16.796864Z",
     "shell.execute_reply": "2025-08-05T16:08:16.795852Z"
    },
    "papermill": {
     "duration": 0.025584,
     "end_time": "2025-08-05T16:08:16.798709",
     "exception": false,
     "start_time": "2025-08-05T16:08:16.773125",
     "status": "completed"
    },
    "tags": []
   },
   "outputs": [
    {
     "name": "stdout",
     "output_type": "stream",
     "text": [
      "Using Seed: 2023\n"
     ]
    }
   ],
   "source": [
    "import numpy as np\n",
    "parsed_seed = int(seed)\n",
    "np.random.seed(parsed_seed)\n",
    "print(f\"Using Seed: {parsed_seed}\")"
   ]
  },
  {
   "cell_type": "markdown",
   "id": "e0ebdc57",
   "metadata": {
    "papermill": {
     "duration": 0.017933,
     "end_time": "2025-08-05T16:08:16.836486",
     "exception": false,
     "start_time": "2025-08-05T16:08:16.818553",
     "status": "completed"
    },
    "tags": []
   },
   "source": [
    "# Loading Data"
   ]
  },
  {
   "cell_type": "code",
   "execution_count": 9,
   "id": "f0496b8a",
   "metadata": {
    "execution": {
     "iopub.execute_input": "2025-08-05T16:08:16.873925Z",
     "iopub.status.busy": "2025-08-05T16:08:16.872889Z",
     "iopub.status.idle": "2025-08-05T16:08:28.580747Z",
     "shell.execute_reply": "2025-08-05T16:08:28.579500Z"
    },
    "papermill": {
     "duration": 11.728322,
     "end_time": "2025-08-05T16:08:28.582517",
     "exception": false,
     "start_time": "2025-08-05T16:08:16.854195",
     "status": "completed"
    },
    "tags": []
   },
   "outputs": [
    {
     "name": "stdout",
     "output_type": "stream",
     "text": [
      "Loading SIAB data from cache: data/siab_cached.csv.gz\n"
     ]
    },
    {
     "name": "stdout",
     "output_type": "stream",
     "text": [
      "(643690, 164)\n"
     ]
    }
   ],
   "source": [
    "from pathlib import Path\n",
    "import pandas as pd\n",
    "\n",
    "# File paths\n",
    "raw_file = Path(\"data/raw/siab.csv\")\n",
    "cache_file = Path(\"data/siab_cached.csv.gz\")\n",
    "\n",
    "# Ensure cache directory exists\n",
    "cache_file.parent.mkdir(parents=True, exist_ok=True)\n",
    "\n",
    "# Load with simple caching\n",
    "if cache_file.exists():\n",
    "    print(f\"Loading SIAB data from cache: {cache_file}\")\n",
    "    siab = pd.read_csv(cache_file, compression='gzip')\n",
    "else:\n",
    "    print(f\"Cache not found. Reading raw SIAB data: {raw_file}\")\n",
    "    siab = pd.read_csv(raw_file)\n",
    "    siab.to_csv(cache_file, index=False, compression='gzip')\n",
    "    print(f\"Cached SIAB data to: {cache_file}\")\n",
    "\n",
    "print(siab.shape)"
   ]
  },
  {
   "cell_type": "code",
   "execution_count": 10,
   "id": "db0ca512-5f53-4dba-abdb-a2888bca41ba",
   "metadata": {
    "execution": {
     "iopub.execute_input": "2025-08-05T16:08:28.633981Z",
     "iopub.status.busy": "2025-08-05T16:08:28.633437Z",
     "iopub.status.idle": "2025-08-05T16:08:28.639762Z",
     "shell.execute_reply": "2025-08-05T16:08:28.638657Z"
    },
    "papermill": {
     "duration": 0.031293,
     "end_time": "2025-08-05T16:08:28.641588",
     "exception": false,
     "start_time": "2025-08-05T16:08:28.610295",
     "status": "completed"
    },
    "tags": []
   },
   "outputs": [],
   "source": [
    "#siab"
   ]
  },
  {
   "cell_type": "markdown",
   "id": "997051c5-15bd-4b69-9786-c3001a3ce484",
   "metadata": {
    "papermill": {
     "duration": 0.021318,
     "end_time": "2025-08-05T16:08:28.683752",
     "exception": false,
     "start_time": "2025-08-05T16:08:28.662434",
     "status": "completed"
    },
    "tags": []
   },
   "source": [
    "# Splitting Data and Setting Training Data Size"
   ]
  },
  {
   "cell_type": "code",
   "execution_count": 11,
   "id": "aea9c6ef-6f46-42c8-85eb-5a62025c1508",
   "metadata": {
    "execution": {
     "iopub.execute_input": "2025-08-05T16:08:28.724311Z",
     "iopub.status.busy": "2025-08-05T16:08:28.723790Z",
     "iopub.status.idle": "2025-08-05T16:08:28.883223Z",
     "shell.execute_reply": "2025-08-05T16:08:28.882432Z"
    },
    "papermill": {
     "duration": 0.180974,
     "end_time": "2025-08-05T16:08:28.885176",
     "exception": false,
     "start_time": "2025-08-05T16:08:28.704202",
     "status": "completed"
    },
    "tags": []
   },
   "outputs": [],
   "source": [
    "from fairness_multiverse.universe import sample_by_year_size\n",
    "\n",
    "siab_train = sample_by_year_size(siab,\n",
    "                               training_year=universe[\"training_year\"],\n",
    "                               training_size=universe[\"training_size\"])"
   ]
  },
  {
   "cell_type": "code",
   "execution_count": 12,
   "id": "8d3afb32-789d-442c-8d5d-9f5aa8dd2eed",
   "metadata": {
    "execution": {
     "iopub.execute_input": "2025-08-05T16:08:28.933410Z",
     "iopub.status.busy": "2025-08-05T16:08:28.932905Z",
     "iopub.status.idle": "2025-08-05T16:08:28.938221Z",
     "shell.execute_reply": "2025-08-05T16:08:28.937138Z"
    },
    "papermill": {
     "duration": 0.028081,
     "end_time": "2025-08-05T16:08:28.940070",
     "exception": false,
     "start_time": "2025-08-05T16:08:28.911989",
     "status": "completed"
    },
    "tags": []
   },
   "outputs": [],
   "source": [
    "#siab_train.shape"
   ]
  },
  {
   "cell_type": "code",
   "execution_count": 13,
   "id": "d582db68-1a4c-47fb-84fc-08518dc1975a",
   "metadata": {
    "execution": {
     "iopub.execute_input": "2025-08-05T16:08:28.979864Z",
     "iopub.status.busy": "2025-08-05T16:08:28.979407Z",
     "iopub.status.idle": "2025-08-05T16:08:28.984727Z",
     "shell.execute_reply": "2025-08-05T16:08:28.983484Z"
    },
    "papermill": {
     "duration": 0.027426,
     "end_time": "2025-08-05T16:08:28.986799",
     "exception": false,
     "start_time": "2025-08-05T16:08:28.959373",
     "status": "completed"
    },
    "tags": []
   },
   "outputs": [],
   "source": [
    "#display(siab_train.groupby(\"year\").size())"
   ]
  },
  {
   "cell_type": "code",
   "execution_count": 14,
   "id": "a561edb4-d032-42cb-8256-22eac1111c64",
   "metadata": {
    "execution": {
     "iopub.execute_input": "2025-08-05T16:08:29.026245Z",
     "iopub.status.busy": "2025-08-05T16:08:29.025677Z",
     "iopub.status.idle": "2025-08-05T16:08:29.245310Z",
     "shell.execute_reply": "2025-08-05T16:08:29.244282Z"
    },
    "papermill": {
     "duration": 0.240548,
     "end_time": "2025-08-05T16:08:29.247027",
     "exception": false,
     "start_time": "2025-08-05T16:08:29.006479",
     "status": "completed"
    },
    "tags": []
   },
   "outputs": [],
   "source": [
    "#siab_train = siab_s[siab_s.year < 2015]\n",
    "siab_calib = siab[siab.year == 2015]\n",
    "siab_test = siab[siab.year == 2016]"
   ]
  },
  {
   "cell_type": "code",
   "execution_count": 15,
   "id": "472de16f-c3db-4916-846b-1f0de9cf1746",
   "metadata": {
    "execution": {
     "iopub.execute_input": "2025-08-05T16:08:29.268471Z",
     "iopub.status.busy": "2025-08-05T16:08:29.267956Z",
     "iopub.status.idle": "2025-08-05T16:08:29.275687Z",
     "shell.execute_reply": "2025-08-05T16:08:29.274594Z"
    },
    "papermill": {
     "duration": 0.02049,
     "end_time": "2025-08-05T16:08:29.277864",
     "exception": false,
     "start_time": "2025-08-05T16:08:29.257374",
     "status": "completed"
    },
    "tags": []
   },
   "outputs": [],
   "source": [
    "X_train = siab_train.iloc[:,4:164]\n",
    "y_train = siab_train.iloc[:, [3]]"
   ]
  },
  {
   "cell_type": "code",
   "execution_count": 16,
   "id": "828c96af-f43a-4ed6-ba47-8ac73a47d56c",
   "metadata": {
    "execution": {
     "iopub.execute_input": "2025-08-05T16:08:29.321356Z",
     "iopub.status.busy": "2025-08-05T16:08:29.320433Z",
     "iopub.status.idle": "2025-08-05T16:08:29.374163Z",
     "shell.execute_reply": "2025-08-05T16:08:29.372895Z"
    },
    "papermill": {
     "duration": 0.077212,
     "end_time": "2025-08-05T16:08:29.376697",
     "exception": false,
     "start_time": "2025-08-05T16:08:29.299485",
     "status": "completed"
    },
    "tags": []
   },
   "outputs": [],
   "source": [
    "X_calib = siab_calib.iloc[:,4:164]\n",
    "y_calib = siab_calib.iloc[:, [3]]"
   ]
  },
  {
   "cell_type": "code",
   "execution_count": 17,
   "id": "c34be9c3-6bd6-476e-acd3-845840e303be",
   "metadata": {
    "execution": {
     "iopub.execute_input": "2025-08-05T16:08:29.412443Z",
     "iopub.status.busy": "2025-08-05T16:08:29.411622Z",
     "iopub.status.idle": "2025-08-05T16:08:29.467650Z",
     "shell.execute_reply": "2025-08-05T16:08:29.466459Z"
    },
    "papermill": {
     "duration": 0.073641,
     "end_time": "2025-08-05T16:08:29.469886",
     "exception": false,
     "start_time": "2025-08-05T16:08:29.396245",
     "status": "completed"
    },
    "tags": []
   },
   "outputs": [],
   "source": [
    "X_test = siab_test.iloc[:,4:164]\n",
    "y_true = siab_test.iloc[:, [3]]"
   ]
  },
  {
   "cell_type": "code",
   "execution_count": 18,
   "id": "e6c733c5",
   "metadata": {
    "execution": {
     "iopub.execute_input": "2025-08-05T16:08:29.506131Z",
     "iopub.status.busy": "2025-08-05T16:08:29.505231Z",
     "iopub.status.idle": "2025-08-05T16:08:29.604452Z",
     "shell.execute_reply": "2025-08-05T16:08:29.603341Z"
    },
    "papermill": {
     "duration": 0.118544,
     "end_time": "2025-08-05T16:08:29.606436",
     "exception": false,
     "start_time": "2025-08-05T16:08:29.487892",
     "status": "completed"
    },
    "tags": []
   },
   "outputs": [],
   "source": [
    "# Auxiliary data needed downstream in the pipeline\n",
    "\n",
    "org_train = X_train.copy()\n",
    "org_test = X_test.copy()\n",
    "org_calib = X_calib.copy()"
   ]
  },
  {
   "cell_type": "markdown",
   "id": "0a4a1b33",
   "metadata": {
    "papermill": {
     "duration": 0.015544,
     "end_time": "2025-08-05T16:08:29.639334",
     "exception": false,
     "start_time": "2025-08-05T16:08:29.623790",
     "status": "completed"
    },
    "tags": []
   },
   "source": [
    "# Preprocessing Data"
   ]
  },
  {
   "cell_type": "code",
   "execution_count": 19,
   "id": "ca879031",
   "metadata": {
    "execution": {
     "iopub.execute_input": "2025-08-05T16:08:29.674845Z",
     "iopub.status.busy": "2025-08-05T16:08:29.674326Z",
     "iopub.status.idle": "2025-08-05T16:08:29.681191Z",
     "shell.execute_reply": "2025-08-05T16:08:29.680033Z"
    },
    "papermill": {
     "duration": 0.026791,
     "end_time": "2025-08-05T16:08:29.683215",
     "exception": false,
     "start_time": "2025-08-05T16:08:29.656424",
     "status": "completed"
    },
    "tags": []
   },
   "outputs": [],
   "source": [
    "# EXCLUDE PROTECTED FEATURES\n",
    "# ----------------------\n",
    "# \"exclude_features\": \"none\", # \"nationality\", \"sex\", \"nationality-sex\"\n",
    "\n",
    "excluded_features = universe[\"exclude_features\"].split(\"-\") # split, e.g.: \"nationality-sex\" -> [\"nationality\", \"sex\"]\n",
    "excluded_features_dictionary = {\n",
    "    \"nationality\": [\"maxdeutsch1\", \"maxdeutsch.Missing.\"],\n",
    "    \"sex\": [\"frau1\"],\n",
    "    \"age\": [\"age\"],\n",
    "}"
   ]
  },
  {
   "cell_type": "code",
   "execution_count": 20,
   "id": "b745ac60",
   "metadata": {
    "execution": {
     "iopub.execute_input": "2025-08-05T16:08:29.719709Z",
     "iopub.status.busy": "2025-08-05T16:08:29.719002Z",
     "iopub.status.idle": "2025-08-05T16:08:29.725343Z",
     "shell.execute_reply": "2025-08-05T16:08:29.724478Z"
    },
    "papermill": {
     "duration": 0.02375,
     "end_time": "2025-08-05T16:08:29.726754",
     "exception": false,
     "start_time": "2025-08-05T16:08:29.703004",
     "status": "completed"
    },
    "tags": []
   },
   "outputs": [],
   "source": [
    "# Code nice names to column names\n",
    "\n",
    "excluded_features_columns = [\n",
    "    excluded_features_dictionary[f] for f in excluded_features if len(f) > 0 and f != \"none\"\n",
    "]"
   ]
  },
  {
   "cell_type": "code",
   "execution_count": 21,
   "id": "f84f73a2",
   "metadata": {
    "execution": {
     "iopub.execute_input": "2025-08-05T16:08:29.749067Z",
     "iopub.status.busy": "2025-08-05T16:08:29.748369Z",
     "iopub.status.idle": "2025-08-05T16:08:29.753796Z",
     "shell.execute_reply": "2025-08-05T16:08:29.753015Z"
    },
    "papermill": {
     "duration": 0.017309,
     "end_time": "2025-08-05T16:08:29.755252",
     "exception": false,
     "start_time": "2025-08-05T16:08:29.737943",
     "status": "completed"
    },
    "tags": []
   },
   "outputs": [],
   "source": [
    "from utils import flatten_once\n",
    "\n",
    "excluded_features_columns = flatten_once(excluded_features_columns)"
   ]
  },
  {
   "cell_type": "code",
   "execution_count": 22,
   "id": "884dea22",
   "metadata": {
    "execution": {
     "iopub.execute_input": "2025-08-05T16:08:29.776816Z",
     "iopub.status.busy": "2025-08-05T16:08:29.776133Z",
     "iopub.status.idle": "2025-08-05T16:08:29.783263Z",
     "shell.execute_reply": "2025-08-05T16:08:29.782343Z"
    },
    "papermill": {
     "duration": 0.018698,
     "end_time": "2025-08-05T16:08:29.784761",
     "exception": false,
     "start_time": "2025-08-05T16:08:29.766063",
     "status": "completed"
    },
    "tags": []
   },
   "outputs": [
    {
     "name": "stdout",
     "output_type": "stream",
     "text": [
      "Dropping features: ['age']\n"
     ]
    }
   ],
   "source": [
    "if len(excluded_features_columns) > 0:\n",
    "    print(f\"Dropping features: {excluded_features_columns}\")\n",
    "    X_train.drop(excluded_features_columns, axis=1, inplace=True)"
   ]
  },
  {
   "cell_type": "code",
   "execution_count": 23,
   "id": "95ab8b16",
   "metadata": {
    "execution": {
     "iopub.execute_input": "2025-08-05T16:08:29.806376Z",
     "iopub.status.busy": "2025-08-05T16:08:29.806024Z",
     "iopub.status.idle": "2025-08-05T16:08:29.857140Z",
     "shell.execute_reply": "2025-08-05T16:08:29.856234Z"
    },
    "papermill": {
     "duration": 0.062889,
     "end_time": "2025-08-05T16:08:29.858583",
     "exception": false,
     "start_time": "2025-08-05T16:08:29.795694",
     "status": "completed"
    },
    "tags": []
   },
   "outputs": [
    {
     "name": "stdout",
     "output_type": "stream",
     "text": [
      "Dropping features: ['age']\n"
     ]
    }
   ],
   "source": [
    "if len(excluded_features_columns) > 0:\n",
    "    print(f\"Dropping features: {excluded_features_columns}\")\n",
    "    X_test.drop(excluded_features_columns, axis=1, inplace=True)"
   ]
  },
  {
   "cell_type": "code",
   "execution_count": 24,
   "id": "1853aaf5-fb9f-46cb-a2b5-8ea4ae2237e4",
   "metadata": {
    "execution": {
     "iopub.execute_input": "2025-08-05T16:08:29.880922Z",
     "iopub.status.busy": "2025-08-05T16:08:29.880405Z",
     "iopub.status.idle": "2025-08-05T16:08:29.934342Z",
     "shell.execute_reply": "2025-08-05T16:08:29.928914Z"
    },
    "papermill": {
     "duration": 0.066205,
     "end_time": "2025-08-05T16:08:29.936003",
     "exception": false,
     "start_time": "2025-08-05T16:08:29.869798",
     "status": "completed"
    },
    "tags": []
   },
   "outputs": [
    {
     "name": "stdout",
     "output_type": "stream",
     "text": [
      "Dropping features: ['age']\n"
     ]
    }
   ],
   "source": [
    "if len(excluded_features_columns) > 0:\n",
    "    print(f\"Dropping features: {excluded_features_columns}\")\n",
    "    X_calib.drop(excluded_features_columns, axis=1, inplace=True)"
   ]
  },
  {
   "cell_type": "code",
   "execution_count": 25,
   "id": "76c4dc6d",
   "metadata": {
    "execution": {
     "iopub.execute_input": "2025-08-05T16:08:29.958111Z",
     "iopub.status.busy": "2025-08-05T16:08:29.957466Z",
     "iopub.status.idle": "2025-08-05T16:08:29.962880Z",
     "shell.execute_reply": "2025-08-05T16:08:29.961994Z"
    },
    "papermill": {
     "duration": 0.017486,
     "end_time": "2025-08-05T16:08:29.964221",
     "exception": false,
     "start_time": "2025-08-05T16:08:29.946735",
     "status": "completed"
    },
    "tags": []
   },
   "outputs": [],
   "source": [
    "# EXCLUDE CERTAIN SUBGROUPS\n",
    "# ----------------------\n",
    "\n",
    "mode = universe.get(\"exclude_subgroups\", \"keep-all\") \n",
    "# Fetches the exclude_subgroups setting from the universe dict.\n",
    "# Defaults to \"keep-all\" if the key is missing."
   ]
  },
  {
   "cell_type": "code",
   "execution_count": 26,
   "id": "21994072",
   "metadata": {
    "execution": {
     "iopub.execute_input": "2025-08-05T16:08:29.986832Z",
     "iopub.status.busy": "2025-08-05T16:08:29.986099Z",
     "iopub.status.idle": "2025-08-05T16:08:29.991857Z",
     "shell.execute_reply": "2025-08-05T16:08:29.991151Z"
    },
    "papermill": {
     "duration": 0.017995,
     "end_time": "2025-08-05T16:08:29.993308",
     "exception": false,
     "start_time": "2025-08-05T16:08:29.975313",
     "status": "completed"
    },
    "tags": []
   },
   "outputs": [],
   "source": [
    "if mode == \"keep-all\":\n",
    "    keep_mask = pd.Series(True, index=org_train.index)\n",
    "\n",
    "# org_train contains the original feature columns from features_org (in Simson)\n",
    "# features_org contains unprocessed features, for me X_train at beginning ???\n",
    "# For keep-all, creates a boolean Series (keep_mask) of all True, so no rows are removed.\n",
    "\n",
    "elif mode == \"drop-non-german\":\n",
    "    keep_mask = org_train[\"maxdeutsch1\"] == 1 # ??? what about missing values?\n",
    "\n",
    "else:\n",
    "    raise ValueError(f\"Unsupported mode for exclude_subgroups: {mode}\")"
   ]
  },
  {
   "cell_type": "code",
   "execution_count": 27,
   "id": "71651440",
   "metadata": {
    "execution": {
     "iopub.execute_input": "2025-08-05T16:08:30.016732Z",
     "iopub.status.busy": "2025-08-05T16:08:30.016209Z",
     "iopub.status.idle": "2025-08-05T16:08:30.022373Z",
     "shell.execute_reply": "2025-08-05T16:08:30.021470Z"
    },
    "papermill": {
     "duration": 0.01899,
     "end_time": "2025-08-05T16:08:30.023966",
     "exception": false,
     "start_time": "2025-08-05T16:08:30.004976",
     "status": "completed"
    },
    "tags": []
   },
   "outputs": [],
   "source": [
    "n_drop = (~keep_mask).sum() # Calculates how many rows are set to be dropped\n",
    "if n_drop > 0:\n",
    "    pct = n_drop / len(keep_mask) * 100\n",
    "    print(f\"Dropping {n_drop} rows ({pct:.2f}%) where mode='{mode}'\")"
   ]
  },
  {
   "cell_type": "code",
   "execution_count": 28,
   "id": "5fb8eee5",
   "metadata": {
    "execution": {
     "iopub.execute_input": "2025-08-05T16:08:30.046572Z",
     "iopub.status.busy": "2025-08-05T16:08:30.046229Z",
     "iopub.status.idle": "2025-08-05T16:08:30.052536Z",
     "shell.execute_reply": "2025-08-05T16:08:30.051744Z"
    },
    "papermill": {
     "duration": 0.018688,
     "end_time": "2025-08-05T16:08:30.053952",
     "exception": false,
     "start_time": "2025-08-05T16:08:30.035264",
     "status": "completed"
    },
    "tags": []
   },
   "outputs": [],
   "source": [
    "X_train = X_train[keep_mask]"
   ]
  },
  {
   "cell_type": "code",
   "execution_count": 29,
   "id": "b202bb3a",
   "metadata": {
    "execution": {
     "iopub.execute_input": "2025-08-05T16:08:30.076107Z",
     "iopub.status.busy": "2025-08-05T16:08:30.075766Z",
     "iopub.status.idle": "2025-08-05T16:08:30.081191Z",
     "shell.execute_reply": "2025-08-05T16:08:30.080199Z"
    },
    "papermill": {
     "duration": 0.01738,
     "end_time": "2025-08-05T16:08:30.082519",
     "exception": false,
     "start_time": "2025-08-05T16:08:30.065139",
     "status": "completed"
    },
    "tags": []
   },
   "outputs": [],
   "source": [
    "y_train = y_train[keep_mask]"
   ]
  },
  {
   "cell_type": "markdown",
   "id": "493e2ac3",
   "metadata": {
    "papermill": {
     "duration": 0.010425,
     "end_time": "2025-08-05T16:08:30.104481",
     "exception": false,
     "start_time": "2025-08-05T16:08:30.094056",
     "status": "completed"
    },
    "tags": []
   },
   "source": [
    "# Model Training"
   ]
  },
  {
   "cell_type": "code",
   "execution_count": 30,
   "id": "679e1268",
   "metadata": {
    "execution": {
     "iopub.execute_input": "2025-08-05T16:08:30.126144Z",
     "iopub.status.busy": "2025-08-05T16:08:30.125606Z",
     "iopub.status.idle": "2025-08-05T16:08:30.312722Z",
     "shell.execute_reply": "2025-08-05T16:08:30.311966Z"
    },
    "papermill": {
     "duration": 0.199673,
     "end_time": "2025-08-05T16:08:30.314163",
     "exception": false,
     "start_time": "2025-08-05T16:08:30.114490",
     "status": "completed"
    },
    "tags": []
   },
   "outputs": [],
   "source": [
    "from sklearn.linear_model import LogisticRegression\n",
    "from sklearn.ensemble import GradientBoostingClassifier, RandomForestClassifier\n",
    "\n",
    "if (universe[\"model\"] == \"logreg\"):\n",
    "    model = LogisticRegression() #penalty=\"none\", solver=\"newton-cg\", max_iter=1) # include random_state=19 ?\n",
    "elif (universe[\"model\"] == \"penalized_logreg\"):\n",
    "    model = LogisticRegression(penalty=\"l2\", C=0.1) #, solver=\"newton-cg\", max_iter=1)\n",
    "elif (universe[\"model\"] == \"rf\"):\n",
    "    model = RandomForestClassifier() # n_estimators=100, n_jobs=-1\n",
    "elif (universe[\"model\"] == \"gbm\"):\n",
    "    model = GradientBoostingClassifier()\n",
    "elif (universe[\"model\"] == \"elasticnet\"):\n",
    "    model = LogisticRegression(penalty = 'elasticnet', solver = 'saga', l1_ratio = 0.5) # max_iter=5000\n",
    "else:\n",
    "    raise \"Unsupported universe.model\""
   ]
  },
  {
   "cell_type": "code",
   "execution_count": 31,
   "id": "0cc8f744",
   "metadata": {
    "execution": {
     "iopub.execute_input": "2025-08-05T16:08:30.336336Z",
     "iopub.status.busy": "2025-08-05T16:08:30.335649Z",
     "iopub.status.idle": "2025-08-05T16:08:30.341001Z",
     "shell.execute_reply": "2025-08-05T16:08:30.340244Z"
    },
    "papermill": {
     "duration": 0.017782,
     "end_time": "2025-08-05T16:08:30.342408",
     "exception": false,
     "start_time": "2025-08-05T16:08:30.324626",
     "status": "completed"
    },
    "tags": []
   },
   "outputs": [],
   "source": [
    "import numpy as np\n",
    "from sklearn.pipeline import Pipeline\n",
    "from sklearn.preprocessing import StandardScaler\n",
    "\n",
    "model = Pipeline([\n",
    "    #(\"continuous_processor\", continuous_processor),\n",
    "    #(\"categorical_preprocessor\", categorical_preprocessor),\n",
    "    (\"scale\", StandardScaler() if universe[\"scale\"] == \"scale\" else None), \n",
    "    (\"model\", model),\n",
    "])"
   ]
  },
  {
   "cell_type": "code",
   "execution_count": 32,
   "id": "9442c04d",
   "metadata": {
    "execution": {
     "iopub.execute_input": "2025-08-05T16:08:30.366119Z",
     "iopub.status.busy": "2025-08-05T16:08:30.365345Z",
     "iopub.status.idle": "2025-08-05T16:08:30.602713Z",
     "shell.execute_reply": "2025-08-05T16:08:30.601985Z"
    },
    "papermill": {
     "duration": 0.249571,
     "end_time": "2025-08-05T16:08:30.604072",
     "exception": false,
     "start_time": "2025-08-05T16:08:30.354501",
     "status": "completed"
    },
    "tags": []
   },
   "outputs": [
    {
     "name": "stderr",
     "output_type": "stream",
     "text": [
      "/dss/dsshome1/0C/ra93lal2/.local/share/virtualenvs/CMA_Fairness_v2-3j10GkSs/lib/python3.10/site-packages/sklearn/linear_model/_sag.py:350: ConvergenceWarning: The max_iter was reached which means the coef_ did not converge\n",
      "  warnings.warn(\n"
     ]
    },
    {
     "data": {
      "text/html": [
       "<style>#sk-container-id-1 {color: black;background-color: white;}#sk-container-id-1 pre{padding: 0;}#sk-container-id-1 div.sk-toggleable {background-color: white;}#sk-container-id-1 label.sk-toggleable__label {cursor: pointer;display: block;width: 100%;margin-bottom: 0;padding: 0.3em;box-sizing: border-box;text-align: center;}#sk-container-id-1 label.sk-toggleable__label-arrow:before {content: \"▸\";float: left;margin-right: 0.25em;color: #696969;}#sk-container-id-1 label.sk-toggleable__label-arrow:hover:before {color: black;}#sk-container-id-1 div.sk-estimator:hover label.sk-toggleable__label-arrow:before {color: black;}#sk-container-id-1 div.sk-toggleable__content {max-height: 0;max-width: 0;overflow: hidden;text-align: left;background-color: #f0f8ff;}#sk-container-id-1 div.sk-toggleable__content pre {margin: 0.2em;color: black;border-radius: 0.25em;background-color: #f0f8ff;}#sk-container-id-1 input.sk-toggleable__control:checked~div.sk-toggleable__content {max-height: 200px;max-width: 100%;overflow: auto;}#sk-container-id-1 input.sk-toggleable__control:checked~label.sk-toggleable__label-arrow:before {content: \"▾\";}#sk-container-id-1 div.sk-estimator input.sk-toggleable__control:checked~label.sk-toggleable__label {background-color: #d4ebff;}#sk-container-id-1 div.sk-label input.sk-toggleable__control:checked~label.sk-toggleable__label {background-color: #d4ebff;}#sk-container-id-1 input.sk-hidden--visually {border: 0;clip: rect(1px 1px 1px 1px);clip: rect(1px, 1px, 1px, 1px);height: 1px;margin: -1px;overflow: hidden;padding: 0;position: absolute;width: 1px;}#sk-container-id-1 div.sk-estimator {font-family: monospace;background-color: #f0f8ff;border: 1px dotted black;border-radius: 0.25em;box-sizing: border-box;margin-bottom: 0.5em;}#sk-container-id-1 div.sk-estimator:hover {background-color: #d4ebff;}#sk-container-id-1 div.sk-parallel-item::after {content: \"\";width: 100%;border-bottom: 1px solid gray;flex-grow: 1;}#sk-container-id-1 div.sk-label:hover label.sk-toggleable__label {background-color: #d4ebff;}#sk-container-id-1 div.sk-serial::before {content: \"\";position: absolute;border-left: 1px solid gray;box-sizing: border-box;top: 0;bottom: 0;left: 50%;z-index: 0;}#sk-container-id-1 div.sk-serial {display: flex;flex-direction: column;align-items: center;background-color: white;padding-right: 0.2em;padding-left: 0.2em;position: relative;}#sk-container-id-1 div.sk-item {position: relative;z-index: 1;}#sk-container-id-1 div.sk-parallel {display: flex;align-items: stretch;justify-content: center;background-color: white;position: relative;}#sk-container-id-1 div.sk-item::before, #sk-container-id-1 div.sk-parallel-item::before {content: \"\";position: absolute;border-left: 1px solid gray;box-sizing: border-box;top: 0;bottom: 0;left: 50%;z-index: -1;}#sk-container-id-1 div.sk-parallel-item {display: flex;flex-direction: column;z-index: 1;position: relative;background-color: white;}#sk-container-id-1 div.sk-parallel-item:first-child::after {align-self: flex-end;width: 50%;}#sk-container-id-1 div.sk-parallel-item:last-child::after {align-self: flex-start;width: 50%;}#sk-container-id-1 div.sk-parallel-item:only-child::after {width: 0;}#sk-container-id-1 div.sk-dashed-wrapped {border: 1px dashed gray;margin: 0 0.4em 0.5em 0.4em;box-sizing: border-box;padding-bottom: 0.4em;background-color: white;}#sk-container-id-1 div.sk-label label {font-family: monospace;font-weight: bold;display: inline-block;line-height: 1.2em;}#sk-container-id-1 div.sk-label-container {text-align: center;}#sk-container-id-1 div.sk-container {/* jupyter's `normalize.less` sets `[hidden] { display: none; }` but bootstrap.min.css set `[hidden] { display: none !important; }` so we also need the `!important` here to be able to override the default hidden behavior on the sphinx rendered scikit-learn.org. See: https://github.com/scikit-learn/scikit-learn/issues/21755 */display: inline-block !important;position: relative;}#sk-container-id-1 div.sk-text-repr-fallback {display: none;}</style><div id=\"sk-container-id-1\" class=\"sk-top-container\"><div class=\"sk-text-repr-fallback\"><pre>Pipeline(steps=[(&#x27;scale&#x27;, StandardScaler()),\n",
       "                (&#x27;model&#x27;,\n",
       "                 LogisticRegression(l1_ratio=0.5, penalty=&#x27;elasticnet&#x27;,\n",
       "                                    solver=&#x27;saga&#x27;))])</pre><b>In a Jupyter environment, please rerun this cell to show the HTML representation or trust the notebook. <br />On GitHub, the HTML representation is unable to render, please try loading this page with nbviewer.org.</b></div><div class=\"sk-container\" hidden><div class=\"sk-item sk-dashed-wrapped\"><div class=\"sk-label-container\"><div class=\"sk-label sk-toggleable\"><input class=\"sk-toggleable__control sk-hidden--visually\" id=\"sk-estimator-id-1\" type=\"checkbox\" ><label for=\"sk-estimator-id-1\" class=\"sk-toggleable__label sk-toggleable__label-arrow\">Pipeline</label><div class=\"sk-toggleable__content\"><pre>Pipeline(steps=[(&#x27;scale&#x27;, StandardScaler()),\n",
       "                (&#x27;model&#x27;,\n",
       "                 LogisticRegression(l1_ratio=0.5, penalty=&#x27;elasticnet&#x27;,\n",
       "                                    solver=&#x27;saga&#x27;))])</pre></div></div></div><div class=\"sk-serial\"><div class=\"sk-item\"><div class=\"sk-estimator sk-toggleable\"><input class=\"sk-toggleable__control sk-hidden--visually\" id=\"sk-estimator-id-2\" type=\"checkbox\" ><label for=\"sk-estimator-id-2\" class=\"sk-toggleable__label sk-toggleable__label-arrow\">StandardScaler</label><div class=\"sk-toggleable__content\"><pre>StandardScaler()</pre></div></div></div><div class=\"sk-item\"><div class=\"sk-estimator sk-toggleable\"><input class=\"sk-toggleable__control sk-hidden--visually\" id=\"sk-estimator-id-3\" type=\"checkbox\" ><label for=\"sk-estimator-id-3\" class=\"sk-toggleable__label sk-toggleable__label-arrow\">LogisticRegression</label><div class=\"sk-toggleable__content\"><pre>LogisticRegression(l1_ratio=0.5, penalty=&#x27;elasticnet&#x27;, solver=&#x27;saga&#x27;)</pre></div></div></div></div></div></div></div>"
      ],
      "text/plain": [
       "Pipeline(steps=[('scale', StandardScaler()),\n",
       "                ('model',\n",
       "                 LogisticRegression(l1_ratio=0.5, penalty='elasticnet',\n",
       "                                    solver='saga'))])"
      ]
     },
     "execution_count": 32,
     "metadata": {},
     "output_type": "execute_result"
    }
   ],
   "source": [
    "model.fit(X_train, y_train.values.ravel())"
   ]
  },
  {
   "cell_type": "code",
   "execution_count": 33,
   "id": "af59f8c0",
   "metadata": {
    "execution": {
     "iopub.execute_input": "2025-08-05T16:08:30.626924Z",
     "iopub.status.busy": "2025-08-05T16:08:30.626254Z",
     "iopub.status.idle": "2025-08-05T16:08:30.630911Z",
     "shell.execute_reply": "2025-08-05T16:08:30.629863Z"
    },
    "papermill": {
     "duration": 0.01785,
     "end_time": "2025-08-05T16:08:30.632690",
     "exception": false,
     "start_time": "2025-08-05T16:08:30.614840",
     "status": "completed"
    },
    "tags": []
   },
   "outputs": [],
   "source": [
    "from fairness_multiverse.universe import predict_w_threshold"
   ]
  },
  {
   "cell_type": "code",
   "execution_count": 34,
   "id": "a7cf2e16",
   "metadata": {
    "execution": {
     "iopub.execute_input": "2025-08-05T16:08:30.674945Z",
     "iopub.status.busy": "2025-08-05T16:08:30.674257Z",
     "iopub.status.idle": "2025-08-05T16:08:30.860854Z",
     "shell.execute_reply": "2025-08-05T16:08:30.860125Z"
    },
    "papermill": {
     "duration": 0.208978,
     "end_time": "2025-08-05T16:08:30.862185",
     "exception": false,
     "start_time": "2025-08-05T16:08:30.653207",
     "status": "completed"
    },
    "tags": []
   },
   "outputs": [
    {
     "data": {
      "text/plain": [
       "0.8211124735258054"
      ]
     },
     "execution_count": 34,
     "metadata": {},
     "output_type": "execute_result"
    }
   ],
   "source": [
    "probs_test = model.predict_proba(X_test)\n",
    "\n",
    "'''\n",
    "Below code returns a boolean array (or binary 0/1 array depending on how it’s used) where each element \n",
    "is True if the probability of class 1 is greater than or equal to the threshold, and False otherwise.\n",
    "'''\n",
    "y_pred_default = predict_w_threshold(probs_test, 0.5)\n",
    "\n",
    "from sklearn.metrics import accuracy_score\n",
    "\n",
    "# Naive prediction\n",
    "accuracy_score(y_true = y_true, y_pred = y_pred_default)"
   ]
  },
  {
   "cell_type": "code",
   "execution_count": 35,
   "id": "081964c3",
   "metadata": {
    "execution": {
     "iopub.execute_input": "2025-08-05T16:08:30.885105Z",
     "iopub.status.busy": "2025-08-05T16:08:30.884332Z",
     "iopub.status.idle": "2025-08-05T16:08:31.054746Z",
     "shell.execute_reply": "2025-08-05T16:08:31.053855Z"
    },
    "papermill": {
     "duration": 0.182996,
     "end_time": "2025-08-05T16:08:31.056127",
     "exception": false,
     "start_time": "2025-08-05T16:08:30.873131",
     "status": "completed"
    },
    "tags": []
   },
   "outputs": [
    {
     "data": {
      "text/plain": [
       "array([0, 0, 0, ..., 0, 0, 0])"
      ]
     },
     "execution_count": 35,
     "metadata": {},
     "output_type": "execute_result"
    }
   ],
   "source": [
    "model.predict(X_test)"
   ]
  },
  {
   "cell_type": "markdown",
   "id": "56c9705b",
   "metadata": {
    "papermill": {
     "duration": 0.010655,
     "end_time": "2025-08-05T16:08:31.077469",
     "exception": false,
     "start_time": "2025-08-05T16:08:31.066814",
     "status": "completed"
    },
    "tags": []
   },
   "source": [
    "# Conformal Prediction"
   ]
  },
  {
   "cell_type": "code",
   "execution_count": 36,
   "id": "160ec6ff",
   "metadata": {
    "execution": {
     "iopub.execute_input": "2025-08-05T16:08:31.100096Z",
     "iopub.status.busy": "2025-08-05T16:08:31.099573Z",
     "iopub.status.idle": "2025-08-05T16:08:31.104286Z",
     "shell.execute_reply": "2025-08-05T16:08:31.103438Z"
    },
    "papermill": {
     "duration": 0.017864,
     "end_time": "2025-08-05T16:08:31.105754",
     "exception": false,
     "start_time": "2025-08-05T16:08:31.087890",
     "status": "completed"
    },
    "tags": []
   },
   "outputs": [],
   "source": [
    "# Miscoverage level for conformal prediction (10% allowed error rate => 90% target coverage)\n",
    "alpha = 0.1"
   ]
  },
  {
   "cell_type": "code",
   "execution_count": 37,
   "id": "eadf4555-3dd3-440e-8e35-f82a4ad9f855",
   "metadata": {
    "execution": {
     "iopub.execute_input": "2025-08-05T16:08:31.129646Z",
     "iopub.status.busy": "2025-08-05T16:08:31.128945Z",
     "iopub.status.idle": "2025-08-05T16:08:31.308164Z",
     "shell.execute_reply": "2025-08-05T16:08:31.307144Z"
    },
    "papermill": {
     "duration": 0.192318,
     "end_time": "2025-08-05T16:08:31.310287",
     "exception": false,
     "start_time": "2025-08-05T16:08:31.117969",
     "status": "completed"
    },
    "tags": []
   },
   "outputs": [],
   "source": [
    "probs_calib = model.predict_proba(X_calib)"
   ]
  },
  {
   "cell_type": "code",
   "execution_count": 38,
   "id": "2ed93547-6d5d-4983-9b36-1ecb300da49a",
   "metadata": {
    "execution": {
     "iopub.execute_input": "2025-08-05T16:08:31.356386Z",
     "iopub.status.busy": "2025-08-05T16:08:31.355789Z",
     "iopub.status.idle": "2025-08-05T16:08:31.362433Z",
     "shell.execute_reply": "2025-08-05T16:08:31.361202Z"
    },
    "papermill": {
     "duration": 0.031446,
     "end_time": "2025-08-05T16:08:31.364404",
     "exception": false,
     "start_time": "2025-08-05T16:08:31.332958",
     "status": "completed"
    },
    "tags": []
   },
   "outputs": [],
   "source": [
    "y_calib = y_calib.values.ravel().astype(int)"
   ]
  },
  {
   "cell_type": "code",
   "execution_count": 39,
   "id": "65d1320d-f588-4b38-9072-62af1ae97f7d",
   "metadata": {
    "execution": {
     "iopub.execute_input": "2025-08-05T16:08:31.410899Z",
     "iopub.status.busy": "2025-08-05T16:08:31.410056Z",
     "iopub.status.idle": "2025-08-05T16:08:31.419859Z",
     "shell.execute_reply": "2025-08-05T16:08:31.418383Z"
    },
    "papermill": {
     "duration": 0.035131,
     "end_time": "2025-08-05T16:08:31.422111",
     "exception": false,
     "start_time": "2025-08-05T16:08:31.386980",
     "status": "completed"
    },
    "tags": []
   },
   "outputs": [],
   "source": [
    "from fairness_multiverse.conformal import compute_nc_scores\n",
    "\n",
    "# Compute nonconformity scores on calibration set (1 - probability of true class)\n",
    "nc_scores = compute_nc_scores(probs_calib, y_calib)"
   ]
  },
  {
   "cell_type": "code",
   "execution_count": 40,
   "id": "df3b8ca3-53b7-43d5-9667-7c85da7aeda2",
   "metadata": {
    "execution": {
     "iopub.execute_input": "2025-08-05T16:08:31.466619Z",
     "iopub.status.busy": "2025-08-05T16:08:31.465926Z",
     "iopub.status.idle": "2025-08-05T16:08:31.474265Z",
     "shell.execute_reply": "2025-08-05T16:08:31.472973Z"
    },
    "papermill": {
     "duration": 0.033241,
     "end_time": "2025-08-05T16:08:31.476375",
     "exception": false,
     "start_time": "2025-08-05T16:08:31.443134",
     "status": "completed"
    },
    "tags": []
   },
   "outputs": [],
   "source": [
    "from fairness_multiverse.conformal import find_threshold\n",
    "\n",
    "# Find conformal threshold q_hat for the given alpha (split conformal method)\n",
    "q_hat = find_threshold(nc_scores, alpha)"
   ]
  },
  {
   "cell_type": "code",
   "execution_count": 41,
   "id": "4d29e6c1-0ef6-4aa4-b8fe-4fe79b0d033a",
   "metadata": {
    "execution": {
     "iopub.execute_input": "2025-08-05T16:08:31.518668Z",
     "iopub.status.busy": "2025-08-05T16:08:31.518246Z",
     "iopub.status.idle": "2025-08-05T16:08:31.525191Z",
     "shell.execute_reply": "2025-08-05T16:08:31.524291Z"
    },
    "papermill": {
     "duration": 0.029805,
     "end_time": "2025-08-05T16:08:31.527275",
     "exception": false,
     "start_time": "2025-08-05T16:08:31.497470",
     "status": "completed"
    },
    "tags": []
   },
   "outputs": [
    {
     "data": {
      "text/plain": [
       "0.7822258172652443"
      ]
     },
     "execution_count": 41,
     "metadata": {},
     "output_type": "execute_result"
    }
   ],
   "source": [
    "q_hat"
   ]
  },
  {
   "cell_type": "code",
   "execution_count": 42,
   "id": "92460794-cdac-4be2-ba28-f28c0515a6fb",
   "metadata": {
    "execution": {
     "iopub.execute_input": "2025-08-05T16:08:31.571731Z",
     "iopub.status.busy": "2025-08-05T16:08:31.571172Z",
     "iopub.status.idle": "2025-08-05T16:08:32.431975Z",
     "shell.execute_reply": "2025-08-05T16:08:32.430985Z"
    },
    "papermill": {
     "duration": 0.884305,
     "end_time": "2025-08-05T16:08:32.433847",
     "exception": false,
     "start_time": "2025-08-05T16:08:31.549542",
     "status": "completed"
    },
    "tags": []
   },
   "outputs": [],
   "source": [
    "from fairness_multiverse.conformal import predict_conformal_sets\n",
    "\n",
    "# Generate prediction sets for each test example\n",
    "pred_sets = predict_conformal_sets(model, X_test, q_hat)"
   ]
  },
  {
   "cell_type": "code",
   "execution_count": 43,
   "id": "d90c9a65-e6db-4f5d-80cd-e68fb7e46829",
   "metadata": {
    "execution": {
     "iopub.execute_input": "2025-08-05T16:08:32.479298Z",
     "iopub.status.busy": "2025-08-05T16:08:32.478651Z",
     "iopub.status.idle": "2025-08-05T16:08:32.484159Z",
     "shell.execute_reply": "2025-08-05T16:08:32.483291Z"
    },
    "papermill": {
     "duration": 0.029264,
     "end_time": "2025-08-05T16:08:32.485688",
     "exception": false,
     "start_time": "2025-08-05T16:08:32.456424",
     "status": "completed"
    },
    "tags": []
   },
   "outputs": [],
   "source": [
    "y_true = y_true.squeeze()"
   ]
  },
  {
   "cell_type": "code",
   "execution_count": 44,
   "id": "3a58a54a-1e68-46b9-927a-df01f18aebc8",
   "metadata": {
    "execution": {
     "iopub.execute_input": "2025-08-05T16:08:32.530734Z",
     "iopub.status.busy": "2025-08-05T16:08:32.530029Z",
     "iopub.status.idle": "2025-08-05T16:08:33.156207Z",
     "shell.execute_reply": "2025-08-05T16:08:33.155029Z"
    },
    "papermill": {
     "duration": 0.651217,
     "end_time": "2025-08-05T16:08:33.158204",
     "exception": false,
     "start_time": "2025-08-05T16:08:32.506987",
     "status": "completed"
    },
    "tags": []
   },
   "outputs": [],
   "source": [
    "from fairness_multiverse.conformal import evaluate_sets\n",
    "\n",
    "# Evaluate coverage and average set size on test data\n",
    "metrics = evaluate_sets(pred_sets, y_true)"
   ]
  },
  {
   "cell_type": "markdown",
   "id": "2b569c12-9aaa-4c88-98c9-bbcd0cf3ebb8",
   "metadata": {
    "papermill": {
     "duration": 0.021482,
     "end_time": "2025-08-05T16:08:33.203550",
     "exception": false,
     "start_time": "2025-08-05T16:08:33.182068",
     "status": "completed"
    },
    "tags": []
   },
   "source": [
    "# CP Metrics"
   ]
  },
  {
   "cell_type": "code",
   "execution_count": 45,
   "id": "5ce0a5cb-201f-45a0-ade5-94c7f0bd6095",
   "metadata": {
    "execution": {
     "iopub.execute_input": "2025-08-05T16:08:33.231749Z",
     "iopub.status.busy": "2025-08-05T16:08:33.231383Z",
     "iopub.status.idle": "2025-08-05T16:08:33.237850Z",
     "shell.execute_reply": "2025-08-05T16:08:33.237002Z"
    },
    "papermill": {
     "duration": 0.021792,
     "end_time": "2025-08-05T16:08:33.239346",
     "exception": false,
     "start_time": "2025-08-05T16:08:33.217554",
     "status": "completed"
    },
    "tags": []
   },
   "outputs": [
    {
     "data": {
      "text/plain": [
       "{'coverage': 0.9070449225281463, 'avg_size': 1.2336082933898116}"
      ]
     },
     "execution_count": 45,
     "metadata": {},
     "output_type": "execute_result"
    }
   ],
   "source": [
    "metrics"
   ]
  },
  {
   "cell_type": "code",
   "execution_count": 46,
   "id": "9b9a838d-31c9-430b-ae14-12baee460d17",
   "metadata": {
    "execution": {
     "iopub.execute_input": "2025-08-05T16:08:33.263534Z",
     "iopub.status.busy": "2025-08-05T16:08:33.263193Z",
     "iopub.status.idle": "2025-08-05T16:08:33.268110Z",
     "shell.execute_reply": "2025-08-05T16:08:33.267290Z"
    },
    "papermill": {
     "duration": 0.018053,
     "end_time": "2025-08-05T16:08:33.269506",
     "exception": false,
     "start_time": "2025-08-05T16:08:33.251453",
     "status": "completed"
    },
    "tags": []
   },
   "outputs": [],
   "source": [
    "example_universe = universe.copy()\n",
    "universe_training_year = example_universe.get(\"training_year\")\n",
    "universe_training_size = example_universe.get(\"training_size\")\n",
    "universe_scale = example_universe.get(\"scale\")\n",
    "universe_model = example_universe.get(\"model\")\n",
    "universe_exclude_features = example_universe.get(\"exclude_features\")\n",
    "universe_exclude_subgroups = example_universe.get(\"exclude_subgroups\")"
   ]
  },
  {
   "cell_type": "code",
   "execution_count": 47,
   "id": "f4b6a8ac-9dc0-4245-8a91-5b3b5999c4f9",
   "metadata": {
    "execution": {
     "iopub.execute_input": "2025-08-05T16:08:33.294398Z",
     "iopub.status.busy": "2025-08-05T16:08:33.293718Z",
     "iopub.status.idle": "2025-08-05T16:08:33.299312Z",
     "shell.execute_reply": "2025-08-05T16:08:33.298427Z"
    },
    "papermill": {
     "duration": 0.018776,
     "end_time": "2025-08-05T16:08:33.300767",
     "exception": false,
     "start_time": "2025-08-05T16:08:33.281991",
     "status": "completed"
    },
    "tags": []
   },
   "outputs": [],
   "source": [
    "cp_metrics_dict = {\n",
    "    \"universe_id\": [universe_id],\n",
    "    \"universe_training_year\": [universe_training_year],\n",
    "    \"universe_training_size\": [universe_training_size],\n",
    "    \"universe_scale\": [universe_scale],\n",
    "    \"universe_model\": [universe_model],\n",
    "    \"universe_exclude_features\": [universe_exclude_features],\n",
    "    \"universe_exclude_subgroups\": [universe_exclude_subgroups],\n",
    "    \"q_hat\": [q_hat],\n",
    "    \"coverage\": [metrics[\"coverage\"]],\n",
    "    \"avg_size\": [metrics[\"avg_size\"]],\n",
    "}"
   ]
  },
  {
   "cell_type": "code",
   "execution_count": 48,
   "id": "908acbb1-0371-4915-85ca-3fa520d2efe2",
   "metadata": {
    "execution": {
     "iopub.execute_input": "2025-08-05T16:08:33.326058Z",
     "iopub.status.busy": "2025-08-05T16:08:33.325475Z",
     "iopub.status.idle": "2025-08-05T16:08:33.332682Z",
     "shell.execute_reply": "2025-08-05T16:08:33.331753Z"
    },
    "papermill": {
     "duration": 0.021129,
     "end_time": "2025-08-05T16:08:33.334351",
     "exception": false,
     "start_time": "2025-08-05T16:08:33.313222",
     "status": "completed"
    },
    "tags": []
   },
   "outputs": [
    {
     "data": {
      "text/plain": [
       "{'universe_id': ['bea022580b1502908627ea434f709402'],\n",
       " 'universe_training_year': ['2014'],\n",
       " 'universe_training_size': ['1k'],\n",
       " 'universe_scale': ['scale'],\n",
       " 'universe_model': ['elasticnet'],\n",
       " 'universe_exclude_features': ['age'],\n",
       " 'universe_exclude_subgroups': ['keep-all'],\n",
       " 'q_hat': [0.7822258172652443],\n",
       " 'coverage': [0.9070449225281463],\n",
       " 'avg_size': [1.2336082933898116]}"
      ]
     },
     "execution_count": 48,
     "metadata": {},
     "output_type": "execute_result"
    }
   ],
   "source": [
    "cp_metrics_dict"
   ]
  },
  {
   "cell_type": "code",
   "execution_count": 49,
   "id": "33007efc-14e9-4ec6-97ac-56a455c82265",
   "metadata": {
    "execution": {
     "iopub.execute_input": "2025-08-05T16:08:33.359358Z",
     "iopub.status.busy": "2025-08-05T16:08:33.358871Z",
     "iopub.status.idle": "2025-08-05T16:08:33.364116Z",
     "shell.execute_reply": "2025-08-05T16:08:33.363293Z"
    },
    "papermill": {
     "duration": 0.018548,
     "end_time": "2025-08-05T16:08:33.365618",
     "exception": false,
     "start_time": "2025-08-05T16:08:33.347070",
     "status": "completed"
    },
    "tags": []
   },
   "outputs": [],
   "source": [
    "cp_metrics_df = pd.DataFrame(cp_metrics_dict)"
   ]
  },
  {
   "cell_type": "code",
   "execution_count": 50,
   "id": "db12611b-57b2-4910-b9d0-355adfd6e7bf",
   "metadata": {
    "execution": {
     "iopub.execute_input": "2025-08-05T16:08:33.390169Z",
     "iopub.status.busy": "2025-08-05T16:08:33.389873Z",
     "iopub.status.idle": "2025-08-05T16:08:33.403806Z",
     "shell.execute_reply": "2025-08-05T16:08:33.403022Z"
    },
    "papermill": {
     "duration": 0.026665,
     "end_time": "2025-08-05T16:08:33.405112",
     "exception": false,
     "start_time": "2025-08-05T16:08:33.378447",
     "status": "completed"
    },
    "tags": []
   },
   "outputs": [
    {
     "data": {
      "text/html": [
       "<div>\n",
       "<style scoped>\n",
       "    .dataframe tbody tr th:only-of-type {\n",
       "        vertical-align: middle;\n",
       "    }\n",
       "\n",
       "    .dataframe tbody tr th {\n",
       "        vertical-align: top;\n",
       "    }\n",
       "\n",
       "    .dataframe thead th {\n",
       "        text-align: right;\n",
       "    }\n",
       "</style>\n",
       "<table border=\"1\" class=\"dataframe\">\n",
       "  <thead>\n",
       "    <tr style=\"text-align: right;\">\n",
       "      <th></th>\n",
       "      <th>universe_id</th>\n",
       "      <th>universe_training_year</th>\n",
       "      <th>universe_training_size</th>\n",
       "      <th>universe_scale</th>\n",
       "      <th>universe_model</th>\n",
       "      <th>universe_exclude_features</th>\n",
       "      <th>universe_exclude_subgroups</th>\n",
       "      <th>q_hat</th>\n",
       "      <th>coverage</th>\n",
       "      <th>avg_size</th>\n",
       "    </tr>\n",
       "  </thead>\n",
       "  <tbody>\n",
       "    <tr>\n",
       "      <th>0</th>\n",
       "      <td>bea022580b1502908627ea434f709402</td>\n",
       "      <td>2014</td>\n",
       "      <td>1k</td>\n",
       "      <td>scale</td>\n",
       "      <td>elasticnet</td>\n",
       "      <td>age</td>\n",
       "      <td>keep-all</td>\n",
       "      <td>0.782226</td>\n",
       "      <td>0.907045</td>\n",
       "      <td>1.233608</td>\n",
       "    </tr>\n",
       "  </tbody>\n",
       "</table>\n",
       "</div>"
      ],
      "text/plain": [
       "                        universe_id universe_training_year  \\\n",
       "0  bea022580b1502908627ea434f709402                   2014   \n",
       "\n",
       "  universe_training_size universe_scale universe_model  \\\n",
       "0                     1k          scale     elasticnet   \n",
       "\n",
       "  universe_exclude_features universe_exclude_subgroups     q_hat  coverage  \\\n",
       "0                       age                   keep-all  0.782226  0.907045   \n",
       "\n",
       "   avg_size  \n",
       "0  1.233608  "
      ]
     },
     "execution_count": 50,
     "metadata": {},
     "output_type": "execute_result"
    }
   ],
   "source": [
    "cp_metrics_df"
   ]
  },
  {
   "cell_type": "code",
   "execution_count": 51,
   "id": "b7fbde55-a0a1-47e4-9af6-fe4a17fa8c61",
   "metadata": {
    "execution": {
     "iopub.execute_input": "2025-08-05T16:08:33.429406Z",
     "iopub.status.busy": "2025-08-05T16:08:33.428879Z",
     "iopub.status.idle": "2025-08-05T16:08:33.433349Z",
     "shell.execute_reply": "2025-08-05T16:08:33.432486Z"
    },
    "papermill": {
     "duration": 0.017879,
     "end_time": "2025-08-05T16:08:33.434829",
     "exception": false,
     "start_time": "2025-08-05T16:08:33.416950",
     "status": "completed"
    },
    "tags": []
   },
   "outputs": [],
   "source": [
    "# Conditional Coverage & looking at subgroups"
   ]
  },
  {
   "cell_type": "code",
   "execution_count": 52,
   "id": "027ae886-68dd-4141-96c7-805a5450e1ef",
   "metadata": {
    "execution": {
     "iopub.execute_input": "2025-08-05T16:08:33.459719Z",
     "iopub.status.busy": "2025-08-05T16:08:33.459412Z",
     "iopub.status.idle": "2025-08-05T16:08:33.682553Z",
     "shell.execute_reply": "2025-08-05T16:08:33.681486Z"
    },
    "papermill": {
     "duration": 0.236912,
     "end_time": "2025-08-05T16:08:33.684466",
     "exception": false,
     "start_time": "2025-08-05T16:08:33.447554",
     "status": "completed"
    },
    "tags": []
   },
   "outputs": [],
   "source": [
    "from fairness_multiverse.conformal import build_cp_groups\n",
    "\n",
    "cp_groups_df = build_cp_groups(pred_sets, y_true, X_test.index, org_test)\n",
    "#needs universe_id and setting"
   ]
  },
  {
   "cell_type": "code",
   "execution_count": 53,
   "id": "6cbdab96-b2b2-45af-ad54-d0516db2e28d",
   "metadata": {
    "execution": {
     "iopub.execute_input": "2025-08-05T16:08:33.749106Z",
     "iopub.status.busy": "2025-08-05T16:08:33.748320Z",
     "iopub.status.idle": "2025-08-05T16:08:35.424210Z",
     "shell.execute_reply": "2025-08-05T16:08:35.423189Z"
    },
    "papermill": {
     "duration": 1.710141,
     "end_time": "2025-08-05T16:08:35.426210",
     "exception": false,
     "start_time": "2025-08-05T16:08:33.716069",
     "status": "completed"
    },
    "tags": []
   },
   "outputs": [],
   "source": [
    "# Define covered = 1 if true_label is in the predicted set\n",
    "cp_groups_df['covered'] = cp_groups_df.apply(\n",
    "    lambda r: int(r['true_label'] in r['pred_set']),\n",
    "    axis=1\n",
    ")"
   ]
  },
  {
   "cell_type": "code",
   "execution_count": 54,
   "id": "338ff529-1a6b-4b87-a931-8e4788d52aad",
   "metadata": {
    "execution": {
     "iopub.execute_input": "2025-08-05T16:08:35.475463Z",
     "iopub.status.busy": "2025-08-05T16:08:35.474558Z",
     "iopub.status.idle": "2025-08-05T16:08:35.479997Z",
     "shell.execute_reply": "2025-08-05T16:08:35.478949Z"
    },
    "papermill": {
     "duration": 0.031516,
     "end_time": "2025-08-05T16:08:35.482111",
     "exception": false,
     "start_time": "2025-08-05T16:08:35.450595",
     "status": "completed"
    },
    "tags": []
   },
   "outputs": [],
   "source": [
    "#cp_groups_df"
   ]
  },
  {
   "cell_type": "code",
   "execution_count": 55,
   "id": "90032e27-66df-4540-9169-4e89cfbaa758",
   "metadata": {
    "execution": {
     "iopub.execute_input": "2025-08-05T16:08:35.534048Z",
     "iopub.status.busy": "2025-08-05T16:08:35.533137Z",
     "iopub.status.idle": "2025-08-05T16:08:35.547961Z",
     "shell.execute_reply": "2025-08-05T16:08:35.546780Z"
    },
    "papermill": {
     "duration": 0.042808,
     "end_time": "2025-08-05T16:08:35.550091",
     "exception": false,
     "start_time": "2025-08-05T16:08:35.507283",
     "status": "completed"
    },
    "tags": []
   },
   "outputs": [],
   "source": [
    "subgroups = ['frau1','nongerman','nongerman_male','nongerman_female']\n",
    "\n",
    "# Conditional coverage for subgroup==1\n",
    "cond_coverage = {\n",
    "    g: cp_groups_df.loc[cp_groups_df[g]==1, 'covered'].mean()\n",
    "    for g in subgroups\n",
    "}"
   ]
  },
  {
   "cell_type": "code",
   "execution_count": 56,
   "id": "1e348fb1-b9c3-45bc-ba23-f016827a7e0d",
   "metadata": {
    "execution": {
     "iopub.execute_input": "2025-08-05T16:08:35.601106Z",
     "iopub.status.busy": "2025-08-05T16:08:35.600403Z",
     "iopub.status.idle": "2025-08-05T16:08:35.609297Z",
     "shell.execute_reply": "2025-08-05T16:08:35.608188Z"
    },
    "papermill": {
     "duration": 0.036149,
     "end_time": "2025-08-05T16:08:35.611387",
     "exception": false,
     "start_time": "2025-08-05T16:08:35.575238",
     "status": "completed"
    },
    "tags": []
   },
   "outputs": [
    {
     "data": {
      "text/plain": [
       "{'frau1': 0.9039762771262974,\n",
       " 'nongerman': 0.9079324089148375,\n",
       " 'nongerman_male': 0.927316941367198,\n",
       " 'nongerman_female': 0.8758569299552906}"
      ]
     },
     "execution_count": 56,
     "metadata": {},
     "output_type": "execute_result"
    }
   ],
   "source": [
    "cond_coverage"
   ]
  },
  {
   "cell_type": "code",
   "execution_count": 57,
   "id": "f5093324-c3dd-4d63-bc4c-8d945e5c8bbb",
   "metadata": {
    "execution": {
     "iopub.execute_input": "2025-08-05T16:08:35.662540Z",
     "iopub.status.busy": "2025-08-05T16:08:35.661527Z",
     "iopub.status.idle": "2025-08-05T16:08:35.670594Z",
     "shell.execute_reply": "2025-08-05T16:08:35.669333Z"
    },
    "papermill": {
     "duration": 0.037304,
     "end_time": "2025-08-05T16:08:35.672799",
     "exception": false,
     "start_time": "2025-08-05T16:08:35.635495",
     "status": "completed"
    },
    "tags": []
   },
   "outputs": [],
   "source": [
    "for subgroup, cov in cond_coverage.items():\n",
    "    cp_metrics_df[f\"cov_{subgroup}\"] = cov"
   ]
  },
  {
   "cell_type": "code",
   "execution_count": 58,
   "id": "6e872e10-dbe5-49e8-b554-5030c98ff75d",
   "metadata": {
    "execution": {
     "iopub.execute_input": "2025-08-05T16:08:35.722968Z",
     "iopub.status.busy": "2025-08-05T16:08:35.721934Z",
     "iopub.status.idle": "2025-08-05T16:08:35.747135Z",
     "shell.execute_reply": "2025-08-05T16:08:35.745877Z"
    },
    "papermill": {
     "duration": 0.051233,
     "end_time": "2025-08-05T16:08:35.749115",
     "exception": false,
     "start_time": "2025-08-05T16:08:35.697882",
     "status": "completed"
    },
    "tags": []
   },
   "outputs": [
    {
     "data": {
      "text/html": [
       "<div>\n",
       "<style scoped>\n",
       "    .dataframe tbody tr th:only-of-type {\n",
       "        vertical-align: middle;\n",
       "    }\n",
       "\n",
       "    .dataframe tbody tr th {\n",
       "        vertical-align: top;\n",
       "    }\n",
       "\n",
       "    .dataframe thead th {\n",
       "        text-align: right;\n",
       "    }\n",
       "</style>\n",
       "<table border=\"1\" class=\"dataframe\">\n",
       "  <thead>\n",
       "    <tr style=\"text-align: right;\">\n",
       "      <th></th>\n",
       "      <th>universe_id</th>\n",
       "      <th>universe_training_year</th>\n",
       "      <th>universe_training_size</th>\n",
       "      <th>universe_scale</th>\n",
       "      <th>universe_model</th>\n",
       "      <th>universe_exclude_features</th>\n",
       "      <th>universe_exclude_subgroups</th>\n",
       "      <th>q_hat</th>\n",
       "      <th>coverage</th>\n",
       "      <th>avg_size</th>\n",
       "      <th>cov_frau1</th>\n",
       "      <th>cov_nongerman</th>\n",
       "      <th>cov_nongerman_male</th>\n",
       "      <th>cov_nongerman_female</th>\n",
       "    </tr>\n",
       "  </thead>\n",
       "  <tbody>\n",
       "    <tr>\n",
       "      <th>0</th>\n",
       "      <td>bea022580b1502908627ea434f709402</td>\n",
       "      <td>2014</td>\n",
       "      <td>1k</td>\n",
       "      <td>scale</td>\n",
       "      <td>elasticnet</td>\n",
       "      <td>age</td>\n",
       "      <td>keep-all</td>\n",
       "      <td>0.782226</td>\n",
       "      <td>0.907045</td>\n",
       "      <td>1.233608</td>\n",
       "      <td>0.903976</td>\n",
       "      <td>0.907932</td>\n",
       "      <td>0.927317</td>\n",
       "      <td>0.875857</td>\n",
       "    </tr>\n",
       "  </tbody>\n",
       "</table>\n",
       "</div>"
      ],
      "text/plain": [
       "                        universe_id universe_training_year  \\\n",
       "0  bea022580b1502908627ea434f709402                   2014   \n",
       "\n",
       "  universe_training_size universe_scale universe_model  \\\n",
       "0                     1k          scale     elasticnet   \n",
       "\n",
       "  universe_exclude_features universe_exclude_subgroups     q_hat  coverage  \\\n",
       "0                       age                   keep-all  0.782226  0.907045   \n",
       "\n",
       "   avg_size  cov_frau1  cov_nongerman  cov_nongerman_male  \\\n",
       "0  1.233608   0.903976       0.907932            0.927317   \n",
       "\n",
       "   cov_nongerman_female  \n",
       "0              0.875857  "
      ]
     },
     "execution_count": 58,
     "metadata": {},
     "output_type": "execute_result"
    }
   ],
   "source": [
    "cp_metrics_df"
   ]
  },
  {
   "cell_type": "markdown",
   "id": "33774451",
   "metadata": {
    "papermill": {
     "duration": 0.025405,
     "end_time": "2025-08-05T16:08:35.794410",
     "exception": false,
     "start_time": "2025-08-05T16:08:35.769005",
     "status": "completed"
    },
    "tags": []
   },
   "source": [
    "# (Fairness) Metrics"
   ]
  },
  {
   "cell_type": "code",
   "execution_count": 59,
   "id": "debc5d62",
   "metadata": {
    "execution": {
     "iopub.execute_input": "2025-08-05T16:08:35.839010Z",
     "iopub.status.busy": "2025-08-05T16:08:35.837912Z",
     "iopub.status.idle": "2025-08-05T16:08:35.863592Z",
     "shell.execute_reply": "2025-08-05T16:08:35.862468Z"
    },
    "papermill": {
     "duration": 0.046652,
     "end_time": "2025-08-05T16:08:35.865302",
     "exception": false,
     "start_time": "2025-08-05T16:08:35.818650",
     "status": "completed"
    },
    "tags": []
   },
   "outputs": [],
   "source": [
    "# do I need to include maxdeutsch1.missing?\n",
    "\n",
    "import numpy as np\n",
    "\n",
    "colname_to_bin = \"maxdeutsch1\"\n",
    "majority_value = org_train[colname_to_bin].mode()[0]\n",
    "\n",
    "org_test[\"majmin\"] = np.where(org_test[colname_to_bin] == majority_value, \"majority\", \"minority\")"
   ]
  },
  {
   "cell_type": "code",
   "execution_count": 60,
   "id": "06a50de5",
   "metadata": {
    "execution": {
     "iopub.execute_input": "2025-08-05T16:08:35.914525Z",
     "iopub.status.busy": "2025-08-05T16:08:35.913492Z",
     "iopub.status.idle": "2025-08-05T16:08:37.534668Z",
     "shell.execute_reply": "2025-08-05T16:08:37.533883Z"
    },
    "papermill": {
     "duration": 1.648523,
     "end_time": "2025-08-05T16:08:37.536103",
     "exception": false,
     "start_time": "2025-08-05T16:08:35.887580",
     "status": "completed"
    },
    "tags": []
   },
   "outputs": [],
   "source": [
    "example_universe = universe.copy()\n",
    "example_universe[\"cutoff\"] = example_universe[\"cutoff\"][0]\n",
    "example_universe[\"eval_fairness_grouping\"] = example_universe[\"eval_fairness_grouping\"][0]\n",
    "fairness_dict, metric_frame = universe_analysis.compute_metrics(\n",
    "    example_universe,\n",
    "    y_pred_prob=probs_test,\n",
    "    y_test=y_true,\n",
    "    org_test=org_test,\n",
    ")"
   ]
  },
  {
   "cell_type": "markdown",
   "id": "f95d4e02",
   "metadata": {
    "papermill": {
     "duration": 0.012104,
     "end_time": "2025-08-05T16:08:37.560929",
     "exception": false,
     "start_time": "2025-08-05T16:08:37.548825",
     "status": "completed"
    },
    "tags": []
   },
   "source": [
    "# Overall"
   ]
  },
  {
   "cell_type": "markdown",
   "id": "bdee4871",
   "metadata": {
    "papermill": {
     "duration": 0.011877,
     "end_time": "2025-08-05T16:08:37.584981",
     "exception": false,
     "start_time": "2025-08-05T16:08:37.573104",
     "status": "completed"
    },
    "tags": []
   },
   "source": [
    "Fairness\n",
    "Main fairness target: Equalized Odds. Seems to be a better fit than equal opportunity, since we're not only interested in Y = 1. Seems to be a better fit than demographic parity, since we also care about accuracy, not just equal distribution of preds.\n",
    "\n",
    "Pick column for computation of fairness metrics\n",
    "\n",
    "Performance\n",
    "Overall performance measures, most interesting in relation to the measures split by group below"
   ]
  },
  {
   "cell_type": "code",
   "execution_count": 61,
   "id": "c4e067c6",
   "metadata": {
    "execution": {
     "iopub.execute_input": "2025-08-05T16:08:37.631618Z",
     "iopub.status.busy": "2025-08-05T16:08:37.630753Z",
     "iopub.status.idle": "2025-08-05T16:08:37.640300Z",
     "shell.execute_reply": "2025-08-05T16:08:37.639114Z"
    },
    "papermill": {
     "duration": 0.037988,
     "end_time": "2025-08-05T16:08:37.644109",
     "exception": false,
     "start_time": "2025-08-05T16:08:37.606121",
     "status": "completed"
    },
    "tags": []
   },
   "outputs": [
    {
     "data": {
      "text/plain": [
       "accuracy                   0.218582\n",
       "balanced accuracy          0.535677\n",
       "f1                         0.240073\n",
       "precision                  0.137146\n",
       "false positive rate        0.890847\n",
       "false negative rate        0.037800\n",
       "selection rate             0.900000\n",
       "count                  89710.000000\n",
       "dtype: float64"
      ]
     },
     "execution_count": 61,
     "metadata": {},
     "output_type": "execute_result"
    }
   ],
   "source": [
    "metric_frame.overall"
   ]
  },
  {
   "cell_type": "markdown",
   "id": "e968fe9d",
   "metadata": {
    "papermill": {
     "duration": 0.01892,
     "end_time": "2025-08-05T16:08:37.688647",
     "exception": false,
     "start_time": "2025-08-05T16:08:37.669727",
     "status": "completed"
    },
    "tags": []
   },
   "source": [
    "By Group"
   ]
  },
  {
   "cell_type": "code",
   "execution_count": 62,
   "id": "ec325bce",
   "metadata": {
    "execution": {
     "iopub.execute_input": "2025-08-05T16:08:37.714230Z",
     "iopub.status.busy": "2025-08-05T16:08:37.713879Z",
     "iopub.status.idle": "2025-08-05T16:08:37.730101Z",
     "shell.execute_reply": "2025-08-05T16:08:37.728347Z"
    },
    "papermill": {
     "duration": 0.034273,
     "end_time": "2025-08-05T16:08:37.735106",
     "exception": false,
     "start_time": "2025-08-05T16:08:37.700833",
     "status": "completed"
    },
    "tags": []
   },
   "outputs": [
    {
     "data": {
      "text/html": [
       "<div>\n",
       "<style scoped>\n",
       "    .dataframe tbody tr th:only-of-type {\n",
       "        vertical-align: middle;\n",
       "    }\n",
       "\n",
       "    .dataframe tbody tr th {\n",
       "        vertical-align: top;\n",
       "    }\n",
       "\n",
       "    .dataframe thead th {\n",
       "        text-align: right;\n",
       "    }\n",
       "</style>\n",
       "<table border=\"1\" class=\"dataframe\">\n",
       "  <thead>\n",
       "    <tr style=\"text-align: right;\">\n",
       "      <th></th>\n",
       "      <th>accuracy</th>\n",
       "      <th>balanced accuracy</th>\n",
       "      <th>f1</th>\n",
       "      <th>precision</th>\n",
       "      <th>false positive rate</th>\n",
       "      <th>false negative rate</th>\n",
       "      <th>selection rate</th>\n",
       "      <th>count</th>\n",
       "    </tr>\n",
       "    <tr>\n",
       "      <th>majmin</th>\n",
       "      <th></th>\n",
       "      <th></th>\n",
       "      <th></th>\n",
       "      <th></th>\n",
       "      <th></th>\n",
       "      <th></th>\n",
       "      <th></th>\n",
       "      <th></th>\n",
       "    </tr>\n",
       "  </thead>\n",
       "  <tbody>\n",
       "    <tr>\n",
       "      <th>majority</th>\n",
       "      <td>0.236374</td>\n",
       "      <td>0.542755</td>\n",
       "      <td>0.249225</td>\n",
       "      <td>0.143219</td>\n",
       "      <td>0.873680</td>\n",
       "      <td>0.040810</td>\n",
       "      <td>0.884979</td>\n",
       "      <td>69170.0</td>\n",
       "    </tr>\n",
       "    <tr>\n",
       "      <th>minority</th>\n",
       "      <td>0.158666</td>\n",
       "      <td>0.513130</td>\n",
       "      <td>0.210661</td>\n",
       "      <td>0.118105</td>\n",
       "      <td>0.947557</td>\n",
       "      <td>0.026182</td>\n",
       "      <td>0.950584</td>\n",
       "      <td>20540.0</td>\n",
       "    </tr>\n",
       "  </tbody>\n",
       "</table>\n",
       "</div>"
      ],
      "text/plain": [
       "          accuracy  balanced accuracy        f1  precision  \\\n",
       "majmin                                                       \n",
       "majority  0.236374           0.542755  0.249225   0.143219   \n",
       "minority  0.158666           0.513130  0.210661   0.118105   \n",
       "\n",
       "          false positive rate  false negative rate  selection rate    count  \n",
       "majmin                                                                       \n",
       "majority             0.873680             0.040810        0.884979  69170.0  \n",
       "minority             0.947557             0.026182        0.950584  20540.0  "
      ]
     },
     "execution_count": 62,
     "metadata": {},
     "output_type": "execute_result"
    }
   ],
   "source": [
    "metric_frame.by_group"
   ]
  },
  {
   "cell_type": "code",
   "execution_count": 63,
   "id": "a9ddbe63",
   "metadata": {
    "execution": {
     "iopub.execute_input": "2025-08-05T16:08:37.801853Z",
     "iopub.status.busy": "2025-08-05T16:08:37.801019Z",
     "iopub.status.idle": "2025-08-05T16:08:40.131959Z",
     "shell.execute_reply": "2025-08-05T16:08:40.130992Z"
    },
    "papermill": {
     "duration": 2.365737,
     "end_time": "2025-08-05T16:08:40.134156",
     "exception": false,
     "start_time": "2025-08-05T16:08:37.768419",
     "status": "completed"
    },
    "tags": []
   },
   "outputs": [
    {
     "data": {
      "text/plain": [
       "array([[<Axes: title={'center': 'accuracy'}, xlabel='majmin'>,\n",
       "        <Axes: title={'center': 'balanced accuracy'}, xlabel='majmin'>,\n",
       "        <Axes: title={'center': 'f1'}, xlabel='majmin'>],\n",
       "       [<Axes: title={'center': 'precision'}, xlabel='majmin'>,\n",
       "        <Axes: title={'center': 'false positive rate'}, xlabel='majmin'>,\n",
       "        <Axes: title={'center': 'false negative rate'}, xlabel='majmin'>],\n",
       "       [<Axes: title={'center': 'selection rate'}, xlabel='majmin'>,\n",
       "        <Axes: title={'center': 'count'}, xlabel='majmin'>,\n",
       "        <Axes: xlabel='majmin'>]], dtype=object)"
      ]
     },
     "execution_count": 63,
     "metadata": {},
     "output_type": "execute_result"
    },
    {
     "data": {
      "image/png": "[encoded data removed]",
      "text/plain": [
       "<Figure size 1200x800 with 9 Axes>"
      ]
     },
     "metadata": {},
     "output_type": "display_data"
    }
   ],
   "source": [
    "# In a graphic\n",
    "metric_frame.by_group.plot.bar(\n",
    "    subplots=True,\n",
    "    layout=[3, 3],\n",
    "    legend=False,\n",
    "    figsize=[12, 8],\n",
    "    title=\"Show all metrics\",\n",
    ")"
   ]
  },
  {
   "cell_type": "markdown",
   "id": "f57a0bac",
   "metadata": {
    "papermill": {
     "duration": 0.029947,
     "end_time": "2025-08-05T16:08:40.195250",
     "exception": false,
     "start_time": "2025-08-05T16:08:40.165303",
     "status": "completed"
    },
    "tags": []
   },
   "source": [
    "# Final Output"
   ]
  },
  {
   "cell_type": "code",
   "execution_count": 64,
   "id": "96d280a3",
   "metadata": {
    "execution": {
     "iopub.execute_input": "2025-08-05T16:08:40.254205Z",
     "iopub.status.busy": "2025-08-05T16:08:40.252996Z",
     "iopub.status.idle": "2025-08-05T16:08:40.262116Z",
     "shell.execute_reply": "2025-08-05T16:08:40.260852Z"
    },
    "papermill": {
     "duration": 0.042193,
     "end_time": "2025-08-05T16:08:40.264525",
     "exception": false,
     "start_time": "2025-08-05T16:08:40.222332",
     "status": "completed"
    },
    "tags": []
   },
   "outputs": [
    {
     "data": {
      "text/plain": [
       "4"
      ]
     },
     "execution_count": 64,
     "metadata": {},
     "output_type": "execute_result"
    }
   ],
   "source": [
    "sub_universes = universe_analysis.generate_sub_universes()\n",
    "len(sub_universes)"
   ]
  },
  {
   "cell_type": "code",
   "execution_count": 65,
   "id": "92adf7ba",
   "metadata": {
    "execution": {
     "iopub.execute_input": "2025-08-05T16:08:40.329595Z",
     "iopub.status.busy": "2025-08-05T16:08:40.328776Z",
     "iopub.status.idle": "2025-08-05T16:08:40.336105Z",
     "shell.execute_reply": "2025-08-05T16:08:40.334649Z"
    },
    "papermill": {
     "duration": 0.042549,
     "end_time": "2025-08-05T16:08:40.338406",
     "exception": false,
     "start_time": "2025-08-05T16:08:40.295857",
     "status": "completed"
    },
    "tags": []
   },
   "outputs": [],
   "source": [
    "def filter_sub_universe_data(sub_universe, org_test):\n",
    "    # Keep all rows — no filtering\n",
    "    keep_rows_mask = np.ones(org_test.shape[0], dtype=bool)\n",
    "\n",
    "    print(f\"[INFO] Keeping all rows: {keep_rows_mask.sum()} rows retained.\")\n",
    "    return keep_rows_mask"
   ]
  },
  {
   "cell_type": "code",
   "execution_count": 66,
   "id": "4a759155",
   "metadata": {
    "execution": {
     "iopub.execute_input": "2025-08-05T16:08:40.405557Z",
     "iopub.status.busy": "2025-08-05T16:08:40.404610Z",
     "iopub.status.idle": "2025-08-05T16:08:50.736218Z",
     "shell.execute_reply": "2025-08-05T16:08:50.735363Z"
    },
    "papermill": {
     "duration": 10.36666,
     "end_time": "2025-08-05T16:08:50.737770",
     "exception": false,
     "start_time": "2025-08-05T16:08:40.371110",
     "status": "completed"
    },
    "tags": []
   },
   "outputs": [
    {
     "name": "stdout",
     "output_type": "stream",
     "text": [
      "Stopping execution_time clock.\n",
      "[INFO] Keeping all rows: 89710 rows retained.\n"
     ]
    },
    {
     "name": "stdout",
     "output_type": "stream",
     "text": [
      "[INFO] Keeping all rows: 89710 rows retained.\n"
     ]
    },
    {
     "name": "stdout",
     "output_type": "stream",
     "text": [
      "[INFO] Keeping all rows: 89710 rows retained.\n"
     ]
    },
    {
     "name": "stdout",
     "output_type": "stream",
     "text": [
      "[INFO] Keeping all rows: 89710 rows retained.\n"
     ]
    },
    {
     "data": {
      "text/html": [
       "<div>\n",
       "<style scoped>\n",
       "    .dataframe tbody tr th:only-of-type {\n",
       "        vertical-align: middle;\n",
       "    }\n",
       "\n",
       "    .dataframe tbody tr th {\n",
       "        vertical-align: top;\n",
       "    }\n",
       "\n",
       "    .dataframe thead th {\n",
       "        text-align: right;\n",
       "    }\n",
       "</style>\n",
       "<table border=\"1\" class=\"dataframe\">\n",
       "  <thead>\n",
       "    <tr style=\"text-align: right;\">\n",
       "      <th></th>\n",
       "      <th>run_no</th>\n",
       "      <th>universe_id</th>\n",
       "      <th>universe_settings</th>\n",
       "      <th>execution_time</th>\n",
       "      <th>test_size_n</th>\n",
       "      <th>test_size_frac</th>\n",
       "      <th>fair_main_equalized_odds_difference</th>\n",
       "      <th>fair_main_equalized_odds_ratio</th>\n",
       "      <th>fair_main_demographic_parity_difference</th>\n",
       "      <th>fair_main_demographic_parity_ratio</th>\n",
       "      <th>...</th>\n",
       "      <th>perf_grp_precision_0</th>\n",
       "      <th>perf_grp_precision_1</th>\n",
       "      <th>perf_grp_false positive rate_0</th>\n",
       "      <th>perf_grp_false positive rate_1</th>\n",
       "      <th>perf_grp_false negative rate_0</th>\n",
       "      <th>perf_grp_false negative rate_1</th>\n",
       "      <th>perf_grp_selection rate_0</th>\n",
       "      <th>perf_grp_selection rate_1</th>\n",
       "      <th>perf_grp_count_0</th>\n",
       "      <th>perf_grp_count_1</th>\n",
       "    </tr>\n",
       "  </thead>\n",
       "  <tbody>\n",
       "    <tr>\n",
       "      <th>0</th>\n",
       "      <td>15</td>\n",
       "      <td>bea022580b1502908627ea434f709402</td>\n",
       "      <td>{\"cutoff\": \"quantile_0.1\", \"eval_fairness_grou...</td>\n",
       "      <td>23.711572</td>\n",
       "      <td>89710</td>\n",
       "      <td>1.0</td>\n",
       "      <td>0.073877</td>\n",
       "      <td>0.922034</td>\n",
       "      <td>0.065605</td>\n",
       "      <td>0.930984</td>\n",
       "      <td>...</td>\n",
       "      <td>NaN</td>\n",
       "      <td>NaN</td>\n",
       "      <td>NaN</td>\n",
       "      <td>NaN</td>\n",
       "      <td>NaN</td>\n",
       "      <td>NaN</td>\n",
       "      <td>NaN</td>\n",
       "      <td>NaN</td>\n",
       "      <td>NaN</td>\n",
       "      <td>NaN</td>\n",
       "    </tr>\n",
       "    <tr>\n",
       "      <th>0</th>\n",
       "      <td>15</td>\n",
       "      <td>bea022580b1502908627ea434f709402</td>\n",
       "      <td>{\"cutoff\": \"quantile_0.1\", \"eval_fairness_grou...</td>\n",
       "      <td>23.711572</td>\n",
       "      <td>89710</td>\n",
       "      <td>1.0</td>\n",
       "      <td>0.073877</td>\n",
       "      <td>0.922034</td>\n",
       "      <td>0.065605</td>\n",
       "      <td>0.930984</td>\n",
       "      <td>...</td>\n",
       "      <td>0.118105</td>\n",
       "      <td>0.143219</td>\n",
       "      <td>0.947557</td>\n",
       "      <td>0.873680</td>\n",
       "      <td>0.026182</td>\n",
       "      <td>0.040810</td>\n",
       "      <td>0.950584</td>\n",
       "      <td>0.884979</td>\n",
       "      <td>20540.0</td>\n",
       "      <td>69170.0</td>\n",
       "    </tr>\n",
       "    <tr>\n",
       "      <th>0</th>\n",
       "      <td>15</td>\n",
       "      <td>bea022580b1502908627ea434f709402</td>\n",
       "      <td>{\"cutoff\": \"quantile_0.25\", \"eval_fairness_gro...</td>\n",
       "      <td>23.711572</td>\n",
       "      <td>89710</td>\n",
       "      <td>1.0</td>\n",
       "      <td>0.099845</td>\n",
       "      <td>0.876329</td>\n",
       "      <td>0.088556</td>\n",
       "      <td>0.891820</td>\n",
       "      <td>...</td>\n",
       "      <td>NaN</td>\n",
       "      <td>NaN</td>\n",
       "      <td>NaN</td>\n",
       "      <td>NaN</td>\n",
       "      <td>NaN</td>\n",
       "      <td>NaN</td>\n",
       "      <td>NaN</td>\n",
       "      <td>NaN</td>\n",
       "      <td>NaN</td>\n",
       "      <td>NaN</td>\n",
       "    </tr>\n",
       "    <tr>\n",
       "      <th>0</th>\n",
       "      <td>15</td>\n",
       "      <td>bea022580b1502908627ea434f709402</td>\n",
       "      <td>{\"cutoff\": \"quantile_0.25\", \"eval_fairness_gro...</td>\n",
       "      <td>23.711572</td>\n",
       "      <td>89710</td>\n",
       "      <td>1.0</td>\n",
       "      <td>0.099845</td>\n",
       "      <td>0.876329</td>\n",
       "      <td>0.088556</td>\n",
       "      <td>0.891820</td>\n",
       "      <td>...</td>\n",
       "      <td>0.127453</td>\n",
       "      <td>0.158940</td>\n",
       "      <td>0.807341</td>\n",
       "      <td>0.707496</td>\n",
       "      <td>0.095017</td>\n",
       "      <td>0.121882</td>\n",
       "      <td>0.818598</td>\n",
       "      <td>0.730042</td>\n",
       "      <td>20540.0</td>\n",
       "      <td>69170.0</td>\n",
       "    </tr>\n",
       "  </tbody>\n",
       "</table>\n",
       "<p>4 rows × 50 columns</p>\n",
       "</div>"
      ],
      "text/plain": [
       "  run_no                       universe_id  \\\n",
       "0     15  bea022580b1502908627ea434f709402   \n",
       "0     15  bea022580b1502908627ea434f709402   \n",
       "0     15  bea022580b1502908627ea434f709402   \n",
       "0     15  bea022580b1502908627ea434f709402   \n",
       "\n",
       "                                   universe_settings  execution_time  \\\n",
       "0  {\"cutoff\": \"quantile_0.1\", \"eval_fairness_grou...       23.711572   \n",
       "0  {\"cutoff\": \"quantile_0.1\", \"eval_fairness_grou...       23.711572   \n",
       "0  {\"cutoff\": \"quantile_0.25\", \"eval_fairness_gro...       23.711572   \n",
       "0  {\"cutoff\": \"quantile_0.25\", \"eval_fairness_gro...       23.711572   \n",
       "\n",
       "   test_size_n  test_size_frac  fair_main_equalized_odds_difference  \\\n",
       "0        89710             1.0                             0.073877   \n",
       "0        89710             1.0                             0.073877   \n",
       "0        89710             1.0                             0.099845   \n",
       "0        89710             1.0                             0.099845   \n",
       "\n",
       "   fair_main_equalized_odds_ratio  fair_main_demographic_parity_difference  \\\n",
       "0                        0.922034                                 0.065605   \n",
       "0                        0.922034                                 0.065605   \n",
       "0                        0.876329                                 0.088556   \n",
       "0                        0.876329                                 0.088556   \n",
       "\n",
       "   fair_main_demographic_parity_ratio  ...  perf_grp_precision_0  \\\n",
       "0                            0.930984  ...                   NaN   \n",
       "0                            0.930984  ...              0.118105   \n",
       "0                            0.891820  ...                   NaN   \n",
       "0                            0.891820  ...              0.127453   \n",
       "\n",
       "   perf_grp_precision_1  perf_grp_false positive rate_0  \\\n",
       "0                   NaN                             NaN   \n",
       "0              0.143219                        0.947557   \n",
       "0                   NaN                             NaN   \n",
       "0              0.158940                        0.807341   \n",
       "\n",
       "   perf_grp_false positive rate_1  perf_grp_false negative rate_0  \\\n",
       "0                             NaN                             NaN   \n",
       "0                        0.873680                        0.026182   \n",
       "0                             NaN                             NaN   \n",
       "0                        0.707496                        0.095017   \n",
       "\n",
       "   perf_grp_false negative rate_1  perf_grp_selection rate_0  \\\n",
       "0                             NaN                        NaN   \n",
       "0                        0.040810                   0.950584   \n",
       "0                             NaN                        NaN   \n",
       "0                        0.121882                   0.818598   \n",
       "\n",
       "   perf_grp_selection rate_1  perf_grp_count_0  perf_grp_count_1  \n",
       "0                        NaN               NaN               NaN  \n",
       "0                   0.884979           20540.0           69170.0  \n",
       "0                        NaN               NaN               NaN  \n",
       "0                   0.730042           20540.0           69170.0  \n",
       "\n",
       "[4 rows x 50 columns]"
      ]
     },
     "execution_count": 66,
     "metadata": {},
     "output_type": "execute_result"
    }
   ],
   "source": [
    "final_output = universe_analysis.generate_final_output(\n",
    "    y_pred_prob=probs_test,\n",
    "    y_test=y_true,\n",
    "    org_test=org_test,\n",
    "    filter_data=filter_sub_universe_data,\n",
    "    cp_metrics_df=cp_metrics_df,\n",
    "    save=True,\n",
    ")\n",
    "final_output"
   ]
  }
 ],
 "metadata": {
  "celltoolbar": "Tags",
  "kernelspec": {
   "display_name": "Python (CMA Fairness)",
   "language": "python",
   "name": "cma_fair_env"
  },
  "language_info": {
   "codemirror_mode": {
    "name": "ipython",
    "version": 3
   },
   "file_extension": ".py",
   "mimetype": "text/x-python",
   "name": "python",
   "nbconvert_exporter": "python",
   "pygments_lexer": "ipython3",
   "version": "3.10.12"
  },
  "papermill": {
   "default_parameters": {},
   "duration": 38.372696,
   "end_time": "2025-08-05T16:08:51.483331",
   "environment_variables": {},
   "exception": null,
   "input_path": "universe_analysis.ipynb",
   "output_path": "output/runs/15/notebooks/m_15-bea022580b1502908627ea434f709402.ipynb",
   "parameters": {
    "output_dir": "output",
    "run_no": "15",
    "seed": "2023",
    "universe": "{\"cutoff\": [\"quantile_0.1\", \"quantile_0.25\"], \"eval_fairness_grouping\": [\"majority-minority\", \"nationality-all\"], \"exclude_features\": \"age\", \"exclude_subgroups\": \"keep-all\", \"model\": \"elasticnet\", \"scale\": \"scale\", \"training_size\": \"1k\", \"training_year\": \"2014\"}",
    "universe_id": "bea022580b1502908627ea434f709402"
   },
   "start_time": "2025-08-05T16:08:13.110635",
   "version": "2.6.0"
  }
 },
 "nbformat": 4,
 "nbformat_minor": 5
}