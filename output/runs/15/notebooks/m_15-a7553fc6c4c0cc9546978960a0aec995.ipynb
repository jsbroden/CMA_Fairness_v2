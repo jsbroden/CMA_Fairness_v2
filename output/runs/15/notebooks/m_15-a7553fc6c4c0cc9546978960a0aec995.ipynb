{
 "cells": [
  {
   "cell_type": "code",
   "execution_count": 1,
   "id": "f159f837-637b-42ba-96b5-ec9a68c44524",
   "metadata": {
    "execution": {
     "iopub.execute_input": "2025-08-05T16:10:59.065599Z",
     "iopub.status.busy": "2025-08-05T16:10:59.065015Z",
     "iopub.status.idle": "2025-08-05T16:10:59.078906Z",
     "shell.execute_reply": "2025-08-05T16:10:59.077714Z"
    },
    "papermill": {
     "duration": 0.034321,
     "end_time": "2025-08-05T16:10:59.080974",
     "exception": false,
     "start_time": "2025-08-05T16:10:59.046653",
     "status": "completed"
    },
    "tags": []
   },
   "outputs": [
    {
     "name": "stdout",
     "output_type": "stream",
     "text": [
      "/dss/dsshome1/0C/ra93lal2/cma/CMA_Fairness_v2\n"
     ]
    },
    {
     "name": "stderr",
     "output_type": "stream",
     "text": [
      "/dss/dsshome1/0C/ra93lal2/.local/share/virtualenvs/CMA_Fairness_v2-3j10GkSs/lib/python3.10/site-packages/IPython/core/magics/osm.py:393: UserWarning: This is now an optional IPython functionality, using bookmarks requires you to install the `pickleshare` library.\n",
      "  bkms = self.shell.db.get('bookmarks', {})\n",
      "/dss/dsshome1/0C/ra93lal2/.local/share/virtualenvs/CMA_Fairness_v2-3j10GkSs/lib/python3.10/site-packages/IPython/core/magics/osm.py:417: UserWarning: This is now an optional IPython functionality, setting dhist requires you to install the `pickleshare` library.\n",
      "  self.shell.db['dhist'] = compress_dhist(dhist)[-100:]\n"
     ]
    }
   ],
   "source": [
    "%cd ~/cma/CMA_Fairness_v2"
   ]
  },
  {
   "cell_type": "markdown",
   "id": "de2603b9",
   "metadata": {
    "papermill": {
     "duration": 0.017053,
     "end_time": "2025-08-05T16:10:59.115712",
     "exception": false,
     "start_time": "2025-08-05T16:10:59.098659",
     "status": "completed"
    },
    "tags": []
   },
   "source": [
    "The following cell holds the definition of our parameters, these values can be overriden by rendering the with e.g. the following command:\n",
    "\n",
    "papermill -p alpha 0.2 -p ratio 0.3 universe_analysis.ipynb output/test_run.ipynb"
   ]
  },
  {
   "cell_type": "code",
   "execution_count": 2,
   "id": "a80968a0-40bb-4fa9-85ef-2d5eefb01975",
   "metadata": {
    "execution": {
     "iopub.execute_input": "2025-08-05T16:10:59.151599Z",
     "iopub.status.busy": "2025-08-05T16:10:59.151084Z",
     "iopub.status.idle": "2025-08-05T16:10:59.157177Z",
     "shell.execute_reply": "2025-08-05T16:10:59.156161Z"
    },
    "papermill": {
     "duration": 0.025867,
     "end_time": "2025-08-05T16:10:59.159129",
     "exception": false,
     "start_time": "2025-08-05T16:10:59.133262",
     "status": "completed"
    },
    "tags": []
   },
   "outputs": [
    {
     "name": "stdout",
     "output_type": "stream",
     "text": [
      "Current working directory: /dss/dsshome1/0C/ra93lal2/cma/CMA_Fairness_v2\n"
     ]
    }
   ],
   "source": [
    "import os\n",
    "print(\"Current working directory:\", os.getcwd())"
   ]
  },
  {
   "cell_type": "code",
   "execution_count": 3,
   "id": "2dce4c03",
   "metadata": {
    "execution": {
     "iopub.execute_input": "2025-08-05T16:10:59.196987Z",
     "iopub.status.busy": "2025-08-05T16:10:59.196525Z",
     "iopub.status.idle": "2025-08-05T16:10:59.203031Z",
     "shell.execute_reply": "2025-08-05T16:10:59.202066Z"
    },
    "papermill": {
     "duration": 0.02686,
     "end_time": "2025-08-05T16:10:59.204946",
     "exception": false,
     "start_time": "2025-08-05T16:10:59.178086",
     "status": "completed"
    },
    "tags": [
     "parameters"
    ]
   },
   "outputs": [],
   "source": [
    "run_no = 0\n",
    "universe_id = \"test\"\n",
    "universe = {\n",
    "    \"training_size\": \"25k\", # \"25k\", \"5k\", \"1k\"\n",
    "    \"training_year\": \"2014\", # \"2014\", \"2012_14\", \"2010_14\"\n",
    "    \"scale\": \"scale\", # \"scale\", \"do-not-scale\",\n",
    "    \"model\": \"elasticnet\", # \"logreg\", \"penalized_logreg\", \"rf\", \"gbm\", \"elasticnet\"\n",
    "    \"cutoff\": [\"quantile_0.15\", \"quantile_0.30\"],\n",
    "    \"exclude_features\": \"age\", # \"none\", \"nationality\", \"sex\", \"nationality-sex\", \"age\"\n",
    "    \"exclude_subgroups\": \"keep-all\", # \"keep-all\", \"drop-non-german\"\n",
    "    \"eval_fairness_grouping\": [\"majority-minority\", \"nationality-all\"]\n",
    "}\n",
    "\n",
    "output_dir=\"./output\"\n",
    "seed=0"
   ]
  },
  {
   "cell_type": "code",
   "execution_count": 4,
   "id": "94c0552b",
   "metadata": {
    "execution": {
     "iopub.execute_input": "2025-08-05T16:10:59.242768Z",
     "iopub.status.busy": "2025-08-05T16:10:59.241996Z",
     "iopub.status.idle": "2025-08-05T16:10:59.247551Z",
     "shell.execute_reply": "2025-08-05T16:10:59.246581Z"
    },
    "papermill": {
     "duration": 0.026139,
     "end_time": "2025-08-05T16:10:59.249139",
     "exception": false,
     "start_time": "2025-08-05T16:10:59.223000",
     "status": "completed"
    },
    "tags": [
     "injected-parameters"
    ]
   },
   "outputs": [],
   "source": [
    "# Parameters\n",
    "universe_id = \"a7553fc6c4c0cc9546978960a0aec995\"\n",
    "run_no = \"15\"\n",
    "universe = \"{\\\"cutoff\\\": [\\\"quantile_0.1\\\", \\\"quantile_0.25\\\"], \\\"eval_fairness_grouping\\\": [\\\"majority-minority\\\", \\\"nationality-all\\\"], \\\"exclude_features\\\": \\\"nationality\\\", \\\"exclude_subgroups\\\": \\\"keep-all\\\", \\\"model\\\": \\\"rf\\\", \\\"scale\\\": \\\"do-not-scale\\\", \\\"training_size\\\": \\\"1k\\\", \\\"training_year\\\": \\\"2014\\\"}\"\n",
    "output_dir = \"output\"\n",
    "seed = \"2023\"\n"
   ]
  },
  {
   "cell_type": "code",
   "execution_count": 5,
   "id": "1650acaf",
   "metadata": {
    "execution": {
     "iopub.execute_input": "2025-08-05T16:10:59.286558Z",
     "iopub.status.busy": "2025-08-05T16:10:59.286121Z",
     "iopub.status.idle": "2025-08-05T16:10:59.291050Z",
     "shell.execute_reply": "2025-08-05T16:10:59.290025Z"
    },
    "papermill": {
     "duration": 0.025274,
     "end_time": "2025-08-05T16:10:59.292687",
     "exception": false,
     "start_time": "2025-08-05T16:10:59.267413",
     "status": "completed"
    },
    "tags": []
   },
   "outputs": [],
   "source": [
    "import json\n",
    "if isinstance(universe, str):\n",
    "    universe = json.loads(universe)"
   ]
  },
  {
   "cell_type": "code",
   "execution_count": 6,
   "id": "16620c48",
   "metadata": {
    "execution": {
     "iopub.execute_input": "2025-08-05T16:10:59.329730Z",
     "iopub.status.busy": "2025-08-05T16:10:59.329212Z",
     "iopub.status.idle": "2025-08-05T16:10:59.368683Z",
     "shell.execute_reply": "2025-08-05T16:10:59.367945Z"
    },
    "papermill": {
     "duration": 0.059525,
     "end_time": "2025-08-05T16:10:59.370144",
     "exception": false,
     "start_time": "2025-08-05T16:10:59.310619",
     "status": "completed"
    },
    "tags": []
   },
   "outputs": [],
   "source": [
    "# Auto-reload the custom package\n",
    "%load_ext autoreload\n",
    "%autoreload 1\n",
    "%aimport fairness_multiverse"
   ]
  },
  {
   "cell_type": "code",
   "execution_count": 7,
   "id": "01c5c9f3",
   "metadata": {
    "execution": {
     "iopub.execute_input": "2025-08-05T16:10:59.405840Z",
     "iopub.status.busy": "2025-08-05T16:10:59.404923Z",
     "iopub.status.idle": "2025-08-05T16:11:01.427035Z",
     "shell.execute_reply": "2025-08-05T16:11:01.425940Z"
    },
    "papermill": {
     "duration": 2.045295,
     "end_time": "2025-08-05T16:11:01.429009",
     "exception": false,
     "start_time": "2025-08-05T16:10:59.383714",
     "status": "completed"
    },
    "tags": []
   },
   "outputs": [],
   "source": [
    "from fairness_multiverse.universe import UniverseAnalysis\n",
    "\n",
    "universe_analysis = UniverseAnalysis(\n",
    "    run_no = run_no,\n",
    "    universe_id = universe_id,\n",
    "    universe = universe,\n",
    "    output_dir=output_dir,\n",
    ")"
   ]
  },
  {
   "cell_type": "code",
   "execution_count": 8,
   "id": "106241f5",
   "metadata": {
    "execution": {
     "iopub.execute_input": "2025-08-05T16:11:01.466265Z",
     "iopub.status.busy": "2025-08-05T16:11:01.465276Z",
     "iopub.status.idle": "2025-08-05T16:11:01.473582Z",
     "shell.execute_reply": "2025-08-05T16:11:01.472292Z"
    },
    "papermill": {
     "duration": 0.029027,
     "end_time": "2025-08-05T16:11:01.475568",
     "exception": false,
     "start_time": "2025-08-05T16:11:01.446541",
     "status": "completed"
    },
    "tags": []
   },
   "outputs": [
    {
     "name": "stdout",
     "output_type": "stream",
     "text": [
      "Using Seed: 2023\n"
     ]
    }
   ],
   "source": [
    "import numpy as np\n",
    "parsed_seed = int(seed)\n",
    "np.random.seed(parsed_seed)\n",
    "print(f\"Using Seed: {parsed_seed}\")"
   ]
  },
  {
   "cell_type": "markdown",
   "id": "e0ebdc57",
   "metadata": {
    "papermill": {
     "duration": 0.016784,
     "end_time": "2025-08-05T16:11:01.510977",
     "exception": false,
     "start_time": "2025-08-05T16:11:01.494193",
     "status": "completed"
    },
    "tags": []
   },
   "source": [
    "# Loading Data"
   ]
  },
  {
   "cell_type": "code",
   "execution_count": 9,
   "id": "f0496b8a",
   "metadata": {
    "execution": {
     "iopub.execute_input": "2025-08-05T16:11:01.548278Z",
     "iopub.status.busy": "2025-08-05T16:11:01.547334Z",
     "iopub.status.idle": "2025-08-05T16:11:13.820656Z",
     "shell.execute_reply": "2025-08-05T16:11:13.819447Z"
    },
    "papermill": {
     "duration": 12.294247,
     "end_time": "2025-08-05T16:11:13.822406",
     "exception": false,
     "start_time": "2025-08-05T16:11:01.528159",
     "status": "completed"
    },
    "tags": []
   },
   "outputs": [
    {
     "name": "stdout",
     "output_type": "stream",
     "text": [
      "Loading SIAB data from cache: data/siab_cached.csv.gz\n"
     ]
    },
    {
     "name": "stdout",
     "output_type": "stream",
     "text": [
      "(643690, 164)\n"
     ]
    }
   ],
   "source": [
    "from pathlib import Path\n",
    "import pandas as pd\n",
    "\n",
    "# File paths\n",
    "raw_file = Path(\"data/raw/siab.csv\")\n",
    "cache_file = Path(\"data/siab_cached.csv.gz\")\n",
    "\n",
    "# Ensure cache directory exists\n",
    "cache_file.parent.mkdir(parents=True, exist_ok=True)\n",
    "\n",
    "# Load with simple caching\n",
    "if cache_file.exists():\n",
    "    print(f\"Loading SIAB data from cache: {cache_file}\")\n",
    "    siab = pd.read_csv(cache_file, compression='gzip')\n",
    "else:\n",
    "    print(f\"Cache not found. Reading raw SIAB data: {raw_file}\")\n",
    "    siab = pd.read_csv(raw_file)\n",
    "    siab.to_csv(cache_file, index=False, compression='gzip')\n",
    "    print(f\"Cached SIAB data to: {cache_file}\")\n",
    "\n",
    "print(siab.shape)"
   ]
  },
  {
   "cell_type": "code",
   "execution_count": 10,
   "id": "db0ca512-5f53-4dba-abdb-a2888bca41ba",
   "metadata": {
    "execution": {
     "iopub.execute_input": "2025-08-05T16:11:13.862134Z",
     "iopub.status.busy": "2025-08-05T16:11:13.861496Z",
     "iopub.status.idle": "2025-08-05T16:11:13.867951Z",
     "shell.execute_reply": "2025-08-05T16:11:13.866769Z"
    },
    "papermill": {
     "duration": 0.027547,
     "end_time": "2025-08-05T16:11:13.870367",
     "exception": false,
     "start_time": "2025-08-05T16:11:13.842820",
     "status": "completed"
    },
    "tags": []
   },
   "outputs": [],
   "source": [
    "#siab"
   ]
  },
  {
   "cell_type": "markdown",
   "id": "997051c5-15bd-4b69-9786-c3001a3ce484",
   "metadata": {
    "papermill": {
     "duration": 0.017942,
     "end_time": "2025-08-05T16:11:13.906956",
     "exception": false,
     "start_time": "2025-08-05T16:11:13.889014",
     "status": "completed"
    },
    "tags": []
   },
   "source": [
    "# Splitting Data and Setting Training Data Size"
   ]
  },
  {
   "cell_type": "code",
   "execution_count": 11,
   "id": "aea9c6ef-6f46-42c8-85eb-5a62025c1508",
   "metadata": {
    "execution": {
     "iopub.execute_input": "2025-08-05T16:11:13.943353Z",
     "iopub.status.busy": "2025-08-05T16:11:13.942796Z",
     "iopub.status.idle": "2025-08-05T16:11:14.160799Z",
     "shell.execute_reply": "2025-08-05T16:11:14.159764Z"
    },
    "papermill": {
     "duration": 0.238594,
     "end_time": "2025-08-05T16:11:14.162864",
     "exception": false,
     "start_time": "2025-08-05T16:11:13.924270",
     "status": "completed"
    },
    "tags": []
   },
   "outputs": [],
   "source": [
    "from fairness_multiverse.universe import sample_by_year_size\n",
    "\n",
    "siab_train = sample_by_year_size(siab,\n",
    "                               training_year=universe[\"training_year\"],\n",
    "                               training_size=universe[\"training_size\"])"
   ]
  },
  {
   "cell_type": "code",
   "execution_count": 12,
   "id": "8d3afb32-789d-442c-8d5d-9f5aa8dd2eed",
   "metadata": {
    "execution": {
     "iopub.execute_input": "2025-08-05T16:11:14.200699Z",
     "iopub.status.busy": "2025-08-05T16:11:14.200036Z",
     "iopub.status.idle": "2025-08-05T16:11:14.205448Z",
     "shell.execute_reply": "2025-08-05T16:11:14.204403Z"
    },
    "papermill": {
     "duration": 0.027148,
     "end_time": "2025-08-05T16:11:14.207507",
     "exception": false,
     "start_time": "2025-08-05T16:11:14.180359",
     "status": "completed"
    },
    "tags": []
   },
   "outputs": [],
   "source": [
    "#siab_train.shape"
   ]
  },
  {
   "cell_type": "code",
   "execution_count": 13,
   "id": "d582db68-1a4c-47fb-84fc-08518dc1975a",
   "metadata": {
    "execution": {
     "iopub.execute_input": "2025-08-05T16:11:14.245694Z",
     "iopub.status.busy": "2025-08-05T16:11:14.244684Z",
     "iopub.status.idle": "2025-08-05T16:11:14.250259Z",
     "shell.execute_reply": "2025-08-05T16:11:14.249049Z"
    },
    "papermill": {
     "duration": 0.025736,
     "end_time": "2025-08-05T16:11:14.252367",
     "exception": false,
     "start_time": "2025-08-05T16:11:14.226631",
     "status": "completed"
    },
    "tags": []
   },
   "outputs": [],
   "source": [
    "#display(siab_train.groupby(\"year\").size())"
   ]
  },
  {
   "cell_type": "code",
   "execution_count": 14,
   "id": "a561edb4-d032-42cb-8256-22eac1111c64",
   "metadata": {
    "execution": {
     "iopub.execute_input": "2025-08-05T16:11:14.291563Z",
     "iopub.status.busy": "2025-08-05T16:11:14.290622Z",
     "iopub.status.idle": "2025-08-05T16:11:14.537438Z",
     "shell.execute_reply": "2025-08-05T16:11:14.536477Z"
    },
    "papermill": {
     "duration": 0.267858,
     "end_time": "2025-08-05T16:11:14.539529",
     "exception": false,
     "start_time": "2025-08-05T16:11:14.271671",
     "status": "completed"
    },
    "tags": []
   },
   "outputs": [],
   "source": [
    "#siab_train = siab_s[siab_s.year < 2015]\n",
    "siab_calib = siab[siab.year == 2015]\n",
    "siab_test = siab[siab.year == 2016]"
   ]
  },
  {
   "cell_type": "code",
   "execution_count": 15,
   "id": "472de16f-c3db-4916-846b-1f0de9cf1746",
   "metadata": {
    "execution": {
     "iopub.execute_input": "2025-08-05T16:11:14.578360Z",
     "iopub.status.busy": "2025-08-05T16:11:14.577471Z",
     "iopub.status.idle": "2025-08-05T16:11:14.584782Z",
     "shell.execute_reply": "2025-08-05T16:11:14.583649Z"
    },
    "papermill": {
     "duration": 0.028398,
     "end_time": "2025-08-05T16:11:14.586665",
     "exception": false,
     "start_time": "2025-08-05T16:11:14.558267",
     "status": "completed"
    },
    "tags": []
   },
   "outputs": [],
   "source": [
    "X_train = siab_train.iloc[:,4:164]\n",
    "y_train = siab_train.iloc[:, [3]]"
   ]
  },
  {
   "cell_type": "code",
   "execution_count": 16,
   "id": "828c96af-f43a-4ed6-ba47-8ac73a47d56c",
   "metadata": {
    "execution": {
     "iopub.execute_input": "2025-08-05T16:11:14.625610Z",
     "iopub.status.busy": "2025-08-05T16:11:14.624678Z",
     "iopub.status.idle": "2025-08-05T16:11:14.677731Z",
     "shell.execute_reply": "2025-08-05T16:11:14.676493Z"
    },
    "papermill": {
     "duration": 0.074163,
     "end_time": "2025-08-05T16:11:14.680066",
     "exception": false,
     "start_time": "2025-08-05T16:11:14.605903",
     "status": "completed"
    },
    "tags": []
   },
   "outputs": [],
   "source": [
    "X_calib = siab_calib.iloc[:,4:164]\n",
    "y_calib = siab_calib.iloc[:, [3]]"
   ]
  },
  {
   "cell_type": "code",
   "execution_count": 17,
   "id": "c34be9c3-6bd6-476e-acd3-845840e303be",
   "metadata": {
    "execution": {
     "iopub.execute_input": "2025-08-05T16:11:14.720961Z",
     "iopub.status.busy": "2025-08-05T16:11:14.720286Z",
     "iopub.status.idle": "2025-08-05T16:11:14.775277Z",
     "shell.execute_reply": "2025-08-05T16:11:14.774075Z"
    },
    "papermill": {
     "duration": 0.077028,
     "end_time": "2025-08-05T16:11:14.777145",
     "exception": false,
     "start_time": "2025-08-05T16:11:14.700117",
     "status": "completed"
    },
    "tags": []
   },
   "outputs": [],
   "source": [
    "X_test = siab_test.iloc[:,4:164]\n",
    "y_true = siab_test.iloc[:, [3]]"
   ]
  },
  {
   "cell_type": "code",
   "execution_count": 18,
   "id": "e6c733c5",
   "metadata": {
    "execution": {
     "iopub.execute_input": "2025-08-05T16:11:14.818175Z",
     "iopub.status.busy": "2025-08-05T16:11:14.817356Z",
     "iopub.status.idle": "2025-08-05T16:11:14.916784Z",
     "shell.execute_reply": "2025-08-05T16:11:14.915823Z"
    },
    "papermill": {
     "duration": 0.121086,
     "end_time": "2025-08-05T16:11:14.918831",
     "exception": false,
     "start_time": "2025-08-05T16:11:14.797745",
     "status": "completed"
    },
    "tags": []
   },
   "outputs": [],
   "source": [
    "# Auxiliary data needed downstream in the pipeline\n",
    "\n",
    "org_train = X_train.copy()\n",
    "org_test = X_test.copy()\n",
    "org_calib = X_calib.copy()"
   ]
  },
  {
   "cell_type": "markdown",
   "id": "0a4a1b33",
   "metadata": {
    "papermill": {
     "duration": 0.019165,
     "end_time": "2025-08-05T16:11:14.956268",
     "exception": false,
     "start_time": "2025-08-05T16:11:14.937103",
     "status": "completed"
    },
    "tags": []
   },
   "source": [
    "# Preprocessing Data"
   ]
  },
  {
   "cell_type": "code",
   "execution_count": 19,
   "id": "ca879031",
   "metadata": {
    "execution": {
     "iopub.execute_input": "2025-08-05T16:11:14.990915Z",
     "iopub.status.busy": "2025-08-05T16:11:14.989795Z",
     "iopub.status.idle": "2025-08-05T16:11:14.996555Z",
     "shell.execute_reply": "2025-08-05T16:11:14.995506Z"
    },
    "papermill": {
     "duration": 0.02361,
     "end_time": "2025-08-05T16:11:14.998241",
     "exception": false,
     "start_time": "2025-08-05T16:11:14.974631",
     "status": "completed"
    },
    "tags": []
   },
   "outputs": [],
   "source": [
    "# EXCLUDE PROTECTED FEATURES\n",
    "# ----------------------\n",
    "# \"exclude_features\": \"none\", # \"nationality\", \"sex\", \"nationality-sex\"\n",
    "\n",
    "excluded_features = universe[\"exclude_features\"].split(\"-\") # split, e.g.: \"nationality-sex\" -> [\"nationality\", \"sex\"]\n",
    "excluded_features_dictionary = {\n",
    "    \"nationality\": [\"maxdeutsch1\", \"maxdeutsch.Missing.\"],\n",
    "    \"sex\": [\"frau1\"],\n",
    "    \"age\": [\"age\"],\n",
    "}"
   ]
  },
  {
   "cell_type": "code",
   "execution_count": 20,
   "id": "b745ac60",
   "metadata": {
    "execution": {
     "iopub.execute_input": "2025-08-05T16:11:15.040571Z",
     "iopub.status.busy": "2025-08-05T16:11:15.039502Z",
     "iopub.status.idle": "2025-08-05T16:11:15.046183Z",
     "shell.execute_reply": "2025-08-05T16:11:15.044904Z"
    },
    "papermill": {
     "duration": 0.028891,
     "end_time": "2025-08-05T16:11:15.048179",
     "exception": false,
     "start_time": "2025-08-05T16:11:15.019288",
     "status": "completed"
    },
    "tags": []
   },
   "outputs": [],
   "source": [
    "# Code nice names to column names\n",
    "\n",
    "excluded_features_columns = [\n",
    "    excluded_features_dictionary[f] for f in excluded_features if len(f) > 0 and f != \"none\"\n",
    "]"
   ]
  },
  {
   "cell_type": "code",
   "execution_count": 21,
   "id": "f84f73a2",
   "metadata": {
    "execution": {
     "iopub.execute_input": "2025-08-05T16:11:15.072951Z",
     "iopub.status.busy": "2025-08-05T16:11:15.072298Z",
     "iopub.status.idle": "2025-08-05T16:11:15.077635Z",
     "shell.execute_reply": "2025-08-05T16:11:15.076856Z"
    },
    "papermill": {
     "duration": 0.018962,
     "end_time": "2025-08-05T16:11:15.079153",
     "exception": false,
     "start_time": "2025-08-05T16:11:15.060191",
     "status": "completed"
    },
    "tags": []
   },
   "outputs": [],
   "source": [
    "from utils import flatten_once\n",
    "\n",
    "excluded_features_columns = flatten_once(excluded_features_columns)"
   ]
  },
  {
   "cell_type": "code",
   "execution_count": 22,
   "id": "884dea22",
   "metadata": {
    "execution": {
     "iopub.execute_input": "2025-08-05T16:11:15.102778Z",
     "iopub.status.busy": "2025-08-05T16:11:15.102275Z",
     "iopub.status.idle": "2025-08-05T16:11:15.115743Z",
     "shell.execute_reply": "2025-08-05T16:11:15.114657Z"
    },
    "papermill": {
     "duration": 0.02671,
     "end_time": "2025-08-05T16:11:15.117377",
     "exception": false,
     "start_time": "2025-08-05T16:11:15.090667",
     "status": "completed"
    },
    "tags": []
   },
   "outputs": [
    {
     "name": "stdout",
     "output_type": "stream",
     "text": [
      "Dropping features: ['maxdeutsch1', 'maxdeutsch.Missing.']\n"
     ]
    }
   ],
   "source": [
    "if len(excluded_features_columns) > 0:\n",
    "    print(f\"Dropping features: {excluded_features_columns}\")\n",
    "    X_train.drop(excluded_features_columns, axis=1, inplace=True)"
   ]
  },
  {
   "cell_type": "code",
   "execution_count": 23,
   "id": "95ab8b16",
   "metadata": {
    "execution": {
     "iopub.execute_input": "2025-08-05T16:11:15.158752Z",
     "iopub.status.busy": "2025-08-05T16:11:15.158203Z",
     "iopub.status.idle": "2025-08-05T16:11:15.217759Z",
     "shell.execute_reply": "2025-08-05T16:11:15.216496Z"
    },
    "papermill": {
     "duration": 0.081573,
     "end_time": "2025-08-05T16:11:15.219997",
     "exception": false,
     "start_time": "2025-08-05T16:11:15.138424",
     "status": "completed"
    },
    "tags": []
   },
   "outputs": [
    {
     "name": "stdout",
     "output_type": "stream",
     "text": [
      "Dropping features: ['maxdeutsch1', 'maxdeutsch.Missing.']\n"
     ]
    }
   ],
   "source": [
    "if len(excluded_features_columns) > 0:\n",
    "    print(f\"Dropping features: {excluded_features_columns}\")\n",
    "    X_test.drop(excluded_features_columns, axis=1, inplace=True)"
   ]
  },
  {
   "cell_type": "code",
   "execution_count": 24,
   "id": "1853aaf5-fb9f-46cb-a2b5-8ea4ae2237e4",
   "metadata": {
    "execution": {
     "iopub.execute_input": "2025-08-05T16:11:15.265102Z",
     "iopub.status.busy": "2025-08-05T16:11:15.264377Z",
     "iopub.status.idle": "2025-08-05T16:11:15.321079Z",
     "shell.execute_reply": "2025-08-05T16:11:15.319935Z"
    },
    "papermill": {
     "duration": 0.081928,
     "end_time": "2025-08-05T16:11:15.324385",
     "exception": false,
     "start_time": "2025-08-05T16:11:15.242457",
     "status": "completed"
    },
    "tags": []
   },
   "outputs": [
    {
     "name": "stdout",
     "output_type": "stream",
     "text": [
      "Dropping features: ['maxdeutsch1', 'maxdeutsch.Missing.']\n"
     ]
    }
   ],
   "source": [
    "if len(excluded_features_columns) > 0:\n",
    "    print(f\"Dropping features: {excluded_features_columns}\")\n",
    "    X_calib.drop(excluded_features_columns, axis=1, inplace=True)"
   ]
  },
  {
   "cell_type": "code",
   "execution_count": 25,
   "id": "76c4dc6d",
   "metadata": {
    "execution": {
     "iopub.execute_input": "2025-08-05T16:11:15.373670Z",
     "iopub.status.busy": "2025-08-05T16:11:15.373125Z",
     "iopub.status.idle": "2025-08-05T16:11:15.378212Z",
     "shell.execute_reply": "2025-08-05T16:11:15.377259Z"
    },
    "papermill": {
     "duration": 0.017841,
     "end_time": "2025-08-05T16:11:15.379821",
     "exception": false,
     "start_time": "2025-08-05T16:11:15.361980",
     "status": "completed"
    },
    "tags": []
   },
   "outputs": [],
   "source": [
    "# EXCLUDE CERTAIN SUBGROUPS\n",
    "# ----------------------\n",
    "\n",
    "mode = universe.get(\"exclude_subgroups\", \"keep-all\") \n",
    "# Fetches the exclude_subgroups setting from the universe dict.\n",
    "# Defaults to \"keep-all\" if the key is missing."
   ]
  },
  {
   "cell_type": "code",
   "execution_count": 26,
   "id": "21994072",
   "metadata": {
    "execution": {
     "iopub.execute_input": "2025-08-05T16:11:15.405097Z",
     "iopub.status.busy": "2025-08-05T16:11:15.402415Z",
     "iopub.status.idle": "2025-08-05T16:11:15.412771Z",
     "shell.execute_reply": "2025-08-05T16:11:15.411683Z"
    },
    "papermill": {
     "duration": 0.024325,
     "end_time": "2025-08-05T16:11:15.415251",
     "exception": false,
     "start_time": "2025-08-05T16:11:15.390926",
     "status": "completed"
    },
    "tags": []
   },
   "outputs": [],
   "source": [
    "if mode == \"keep-all\":\n",
    "    keep_mask = pd.Series(True, index=org_train.index)\n",
    "\n",
    "# org_train contains the original feature columns from features_org (in Simson)\n",
    "# features_org contains unprocessed features, for me X_train at beginning ???\n",
    "# For keep-all, creates a boolean Series (keep_mask) of all True, so no rows are removed.\n",
    "\n",
    "elif mode == \"drop-non-german\":\n",
    "    keep_mask = org_train[\"maxdeutsch1\"] == 1 # ??? what about missing values?\n",
    "\n",
    "else:\n",
    "    raise ValueError(f\"Unsupported mode for exclude_subgroups: {mode}\")"
   ]
  },
  {
   "cell_type": "code",
   "execution_count": 27,
   "id": "71651440",
   "metadata": {
    "execution": {
     "iopub.execute_input": "2025-08-05T16:11:15.461452Z",
     "iopub.status.busy": "2025-08-05T16:11:15.460711Z",
     "iopub.status.idle": "2025-08-05T16:11:15.468315Z",
     "shell.execute_reply": "2025-08-05T16:11:15.467071Z"
    },
    "papermill": {
     "duration": 0.032145,
     "end_time": "2025-08-05T16:11:15.470339",
     "exception": false,
     "start_time": "2025-08-05T16:11:15.438194",
     "status": "completed"
    },
    "tags": []
   },
   "outputs": [],
   "source": [
    "n_drop = (~keep_mask).sum() # Calculates how many rows are set to be dropped\n",
    "if n_drop > 0:\n",
    "    pct = n_drop / len(keep_mask) * 100\n",
    "    print(f\"Dropping {n_drop} rows ({pct:.2f}%) where mode='{mode}'\")"
   ]
  },
  {
   "cell_type": "code",
   "execution_count": 28,
   "id": "5fb8eee5",
   "metadata": {
    "execution": {
     "iopub.execute_input": "2025-08-05T16:11:15.514882Z",
     "iopub.status.busy": "2025-08-05T16:11:15.514091Z",
     "iopub.status.idle": "2025-08-05T16:11:15.521237Z",
     "shell.execute_reply": "2025-08-05T16:11:15.520070Z"
    },
    "papermill": {
     "duration": 0.030837,
     "end_time": "2025-08-05T16:11:15.523338",
     "exception": false,
     "start_time": "2025-08-05T16:11:15.492501",
     "status": "completed"
    },
    "tags": []
   },
   "outputs": [],
   "source": [
    "X_train = X_train[keep_mask]"
   ]
  },
  {
   "cell_type": "code",
   "execution_count": 29,
   "id": "b202bb3a",
   "metadata": {
    "execution": {
     "iopub.execute_input": "2025-08-05T16:11:15.567788Z",
     "iopub.status.busy": "2025-08-05T16:11:15.566923Z",
     "iopub.status.idle": "2025-08-05T16:11:15.573815Z",
     "shell.execute_reply": "2025-08-05T16:11:15.572486Z"
    },
    "papermill": {
     "duration": 0.030622,
     "end_time": "2025-08-05T16:11:15.575796",
     "exception": false,
     "start_time": "2025-08-05T16:11:15.545174",
     "status": "completed"
    },
    "tags": []
   },
   "outputs": [],
   "source": [
    "y_train = y_train[keep_mask]"
   ]
  },
  {
   "cell_type": "markdown",
   "id": "493e2ac3",
   "metadata": {
    "papermill": {
     "duration": 0.021095,
     "end_time": "2025-08-05T16:11:15.618539",
     "exception": false,
     "start_time": "2025-08-05T16:11:15.597444",
     "status": "completed"
    },
    "tags": []
   },
   "source": [
    "# Model Training"
   ]
  },
  {
   "cell_type": "code",
   "execution_count": 30,
   "id": "679e1268",
   "metadata": {
    "execution": {
     "iopub.execute_input": "2025-08-05T16:11:15.662154Z",
     "iopub.status.busy": "2025-08-05T16:11:15.661403Z",
     "iopub.status.idle": "2025-08-05T16:11:15.780886Z",
     "shell.execute_reply": "2025-08-05T16:11:15.779878Z"
    },
    "papermill": {
     "duration": 0.14351,
     "end_time": "2025-08-05T16:11:15.782987",
     "exception": false,
     "start_time": "2025-08-05T16:11:15.639477",
     "status": "completed"
    },
    "tags": []
   },
   "outputs": [],
   "source": [
    "from sklearn.linear_model import LogisticRegression\n",
    "from sklearn.ensemble import GradientBoostingClassifier, RandomForestClassifier\n",
    "\n",
    "if (universe[\"model\"] == \"logreg\"):\n",
    "    model = LogisticRegression() #penalty=\"none\", solver=\"newton-cg\", max_iter=1) # include random_state=19 ?\n",
    "elif (universe[\"model\"] == \"penalized_logreg\"):\n",
    "    model = LogisticRegression(penalty=\"l2\", C=0.1) #, solver=\"newton-cg\", max_iter=1)\n",
    "elif (universe[\"model\"] == \"rf\"):\n",
    "    model = RandomForestClassifier() # n_estimators=100, n_jobs=-1\n",
    "elif (universe[\"model\"] == \"gbm\"):\n",
    "    model = GradientBoostingClassifier()\n",
    "elif (universe[\"model\"] == \"elasticnet\"):\n",
    "    model = LogisticRegression(penalty = 'elasticnet', solver = 'saga', l1_ratio = 0.5) # max_iter=5000\n",
    "else:\n",
    "    raise \"Unsupported universe.model\""
   ]
  },
  {
   "cell_type": "code",
   "execution_count": 31,
   "id": "0cc8f744",
   "metadata": {
    "execution": {
     "iopub.execute_input": "2025-08-05T16:11:15.828219Z",
     "iopub.status.busy": "2025-08-05T16:11:15.827352Z",
     "iopub.status.idle": "2025-08-05T16:11:15.834582Z",
     "shell.execute_reply": "2025-08-05T16:11:15.833436Z"
    },
    "papermill": {
     "duration": 0.031459,
     "end_time": "2025-08-05T16:11:15.836761",
     "exception": false,
     "start_time": "2025-08-05T16:11:15.805302",
     "status": "completed"
    },
    "tags": []
   },
   "outputs": [],
   "source": [
    "import numpy as np\n",
    "from sklearn.pipeline import Pipeline\n",
    "from sklearn.preprocessing import StandardScaler\n",
    "\n",
    "model = Pipeline([\n",
    "    #(\"continuous_processor\", continuous_processor),\n",
    "    #(\"categorical_preprocessor\", categorical_preprocessor),\n",
    "    (\"scale\", StandardScaler() if universe[\"scale\"] == \"scale\" else None), \n",
    "    (\"model\", model),\n",
    "])"
   ]
  },
  {
   "cell_type": "code",
   "execution_count": 32,
   "id": "9442c04d",
   "metadata": {
    "execution": {
     "iopub.execute_input": "2025-08-05T16:11:15.882308Z",
     "iopub.status.busy": "2025-08-05T16:11:15.881333Z",
     "iopub.status.idle": "2025-08-05T16:11:16.295191Z",
     "shell.execute_reply": "2025-08-05T16:11:16.294189Z"
    },
    "papermill": {
     "duration": 0.437975,
     "end_time": "2025-08-05T16:11:16.297056",
     "exception": false,
     "start_time": "2025-08-05T16:11:15.859081",
     "status": "completed"
    },
    "tags": []
   },
   "outputs": [
    {
     "data": {
      "text/html": [
       "<style>#sk-container-id-1 {color: black;background-color: white;}#sk-container-id-1 pre{padding: 0;}#sk-container-id-1 div.sk-toggleable {background-color: white;}#sk-container-id-1 label.sk-toggleable__label {cursor: pointer;display: block;width: 100%;margin-bottom: 0;padding: 0.3em;box-sizing: border-box;text-align: center;}#sk-container-id-1 label.sk-toggleable__label-arrow:before {content: \"▸\";float: left;margin-right: 0.25em;color: #696969;}#sk-container-id-1 label.sk-toggleable__label-arrow:hover:before {color: black;}#sk-container-id-1 div.sk-estimator:hover label.sk-toggleable__label-arrow:before {color: black;}#sk-container-id-1 div.sk-toggleable__content {max-height: 0;max-width: 0;overflow: hidden;text-align: left;background-color: #f0f8ff;}#sk-container-id-1 div.sk-toggleable__content pre {margin: 0.2em;color: black;border-radius: 0.25em;background-color: #f0f8ff;}#sk-container-id-1 input.sk-toggleable__control:checked~div.sk-toggleable__content {max-height: 200px;max-width: 100%;overflow: auto;}#sk-container-id-1 input.sk-toggleable__control:checked~label.sk-toggleable__label-arrow:before {content: \"▾\";}#sk-container-id-1 div.sk-estimator input.sk-toggleable__control:checked~label.sk-toggleable__label {background-color: #d4ebff;}#sk-container-id-1 div.sk-label input.sk-toggleable__control:checked~label.sk-toggleable__label {background-color: #d4ebff;}#sk-container-id-1 input.sk-hidden--visually {border: 0;clip: rect(1px 1px 1px 1px);clip: rect(1px, 1px, 1px, 1px);height: 1px;margin: -1px;overflow: hidden;padding: 0;position: absolute;width: 1px;}#sk-container-id-1 div.sk-estimator {font-family: monospace;background-color: #f0f8ff;border: 1px dotted black;border-radius: 0.25em;box-sizing: border-box;margin-bottom: 0.5em;}#sk-container-id-1 div.sk-estimator:hover {background-color: #d4ebff;}#sk-container-id-1 div.sk-parallel-item::after {content: \"\";width: 100%;border-bottom: 1px solid gray;flex-grow: 1;}#sk-container-id-1 div.sk-label:hover label.sk-toggleable__label {background-color: #d4ebff;}#sk-container-id-1 div.sk-serial::before {content: \"\";position: absolute;border-left: 1px solid gray;box-sizing: border-box;top: 0;bottom: 0;left: 50%;z-index: 0;}#sk-container-id-1 div.sk-serial {display: flex;flex-direction: column;align-items: center;background-color: white;padding-right: 0.2em;padding-left: 0.2em;position: relative;}#sk-container-id-1 div.sk-item {position: relative;z-index: 1;}#sk-container-id-1 div.sk-parallel {display: flex;align-items: stretch;justify-content: center;background-color: white;position: relative;}#sk-container-id-1 div.sk-item::before, #sk-container-id-1 div.sk-parallel-item::before {content: \"\";position: absolute;border-left: 1px solid gray;box-sizing: border-box;top: 0;bottom: 0;left: 50%;z-index: -1;}#sk-container-id-1 div.sk-parallel-item {display: flex;flex-direction: column;z-index: 1;position: relative;background-color: white;}#sk-container-id-1 div.sk-parallel-item:first-child::after {align-self: flex-end;width: 50%;}#sk-container-id-1 div.sk-parallel-item:last-child::after {align-self: flex-start;width: 50%;}#sk-container-id-1 div.sk-parallel-item:only-child::after {width: 0;}#sk-container-id-1 div.sk-dashed-wrapped {border: 1px dashed gray;margin: 0 0.4em 0.5em 0.4em;box-sizing: border-box;padding-bottom: 0.4em;background-color: white;}#sk-container-id-1 div.sk-label label {font-family: monospace;font-weight: bold;display: inline-block;line-height: 1.2em;}#sk-container-id-1 div.sk-label-container {text-align: center;}#sk-container-id-1 div.sk-container {/* jupyter's `normalize.less` sets `[hidden] { display: none; }` but bootstrap.min.css set `[hidden] { display: none !important; }` so we also need the `!important` here to be able to override the default hidden behavior on the sphinx rendered scikit-learn.org. See: https://github.com/scikit-learn/scikit-learn/issues/21755 */display: inline-block !important;position: relative;}#sk-container-id-1 div.sk-text-repr-fallback {display: none;}</style><div id=\"sk-container-id-1\" class=\"sk-top-container\"><div class=\"sk-text-repr-fallback\"><pre>Pipeline(steps=[(&#x27;scale&#x27;, None), (&#x27;model&#x27;, RandomForestClassifier())])</pre><b>In a Jupyter environment, please rerun this cell to show the HTML representation or trust the notebook. <br />On GitHub, the HTML representation is unable to render, please try loading this page with nbviewer.org.</b></div><div class=\"sk-container\" hidden><div class=\"sk-item sk-dashed-wrapped\"><div class=\"sk-label-container\"><div class=\"sk-label sk-toggleable\"><input class=\"sk-toggleable__control sk-hidden--visually\" id=\"sk-estimator-id-1\" type=\"checkbox\" ><label for=\"sk-estimator-id-1\" class=\"sk-toggleable__label sk-toggleable__label-arrow\">Pipeline</label><div class=\"sk-toggleable__content\"><pre>Pipeline(steps=[(&#x27;scale&#x27;, None), (&#x27;model&#x27;, RandomForestClassifier())])</pre></div></div></div><div class=\"sk-serial\"><div class=\"sk-item\"><div class=\"sk-estimator sk-toggleable\"><input class=\"sk-toggleable__control sk-hidden--visually\" id=\"sk-estimator-id-2\" type=\"checkbox\" ><label for=\"sk-estimator-id-2\" class=\"sk-toggleable__label sk-toggleable__label-arrow\">None</label><div class=\"sk-toggleable__content\"><pre>None</pre></div></div></div><div class=\"sk-item\"><div class=\"sk-estimator sk-toggleable\"><input class=\"sk-toggleable__control sk-hidden--visually\" id=\"sk-estimator-id-3\" type=\"checkbox\" ><label for=\"sk-estimator-id-3\" class=\"sk-toggleable__label sk-toggleable__label-arrow\">RandomForestClassifier</label><div class=\"sk-toggleable__content\"><pre>RandomForestClassifier()</pre></div></div></div></div></div></div></div>"
      ],
      "text/plain": [
       "Pipeline(steps=[('scale', None), ('model', RandomForestClassifier())])"
      ]
     },
     "execution_count": 32,
     "metadata": {},
     "output_type": "execute_result"
    }
   ],
   "source": [
    "model.fit(X_train, y_train.values.ravel())"
   ]
  },
  {
   "cell_type": "code",
   "execution_count": 33,
   "id": "af59f8c0",
   "metadata": {
    "execution": {
     "iopub.execute_input": "2025-08-05T16:11:16.343644Z",
     "iopub.status.busy": "2025-08-05T16:11:16.342660Z",
     "iopub.status.idle": "2025-08-05T16:11:16.348451Z",
     "shell.execute_reply": "2025-08-05T16:11:16.347395Z"
    },
    "papermill": {
     "duration": 0.031271,
     "end_time": "2025-08-05T16:11:16.350891",
     "exception": false,
     "start_time": "2025-08-05T16:11:16.319620",
     "status": "completed"
    },
    "tags": []
   },
   "outputs": [],
   "source": [
    "from fairness_multiverse.universe import predict_w_threshold"
   ]
  },
  {
   "cell_type": "code",
   "execution_count": 34,
   "id": "a7cf2e16",
   "metadata": {
    "execution": {
     "iopub.execute_input": "2025-08-05T16:11:16.397468Z",
     "iopub.status.busy": "2025-08-05T16:11:16.397017Z",
     "iopub.status.idle": "2025-08-05T16:11:18.020956Z",
     "shell.execute_reply": "2025-08-05T16:11:18.020089Z"
    },
    "papermill": {
     "duration": 1.648308,
     "end_time": "2025-08-05T16:11:18.022553",
     "exception": false,
     "start_time": "2025-08-05T16:11:16.374245",
     "status": "completed"
    },
    "tags": []
   },
   "outputs": [
    {
     "data": {
      "text/plain": [
       "0.8618325716196633"
      ]
     },
     "execution_count": 34,
     "metadata": {},
     "output_type": "execute_result"
    }
   ],
   "source": [
    "probs_test = model.predict_proba(X_test)\n",
    "\n",
    "'''\n",
    "Below code returns a boolean array (or binary 0/1 array depending on how it’s used) where each element \n",
    "is True if the probability of class 1 is greater than or equal to the threshold, and False otherwise.\n",
    "'''\n",
    "y_pred_default = predict_w_threshold(probs_test, 0.5)\n",
    "\n",
    "from sklearn.metrics import accuracy_score\n",
    "\n",
    "# Naive prediction\n",
    "accuracy_score(y_true = y_true, y_pred = y_pred_default)"
   ]
  },
  {
   "cell_type": "code",
   "execution_count": 35,
   "id": "081964c3",
   "metadata": {
    "execution": {
     "iopub.execute_input": "2025-08-05T16:11:18.067779Z",
     "iopub.status.busy": "2025-08-05T16:11:18.067285Z",
     "iopub.status.idle": "2025-08-05T16:11:19.678700Z",
     "shell.execute_reply": "2025-08-05T16:11:19.677946Z"
    },
    "papermill": {
     "duration": 1.638278,
     "end_time": "2025-08-05T16:11:19.680260",
     "exception": false,
     "start_time": "2025-08-05T16:11:18.041982",
     "status": "completed"
    },
    "tags": []
   },
   "outputs": [
    {
     "data": {
      "text/plain": [
       "array([0, 0, 0, ..., 0, 0, 0])"
      ]
     },
     "execution_count": 35,
     "metadata": {},
     "output_type": "execute_result"
    }
   ],
   "source": [
    "model.predict(X_test)"
   ]
  },
  {
   "cell_type": "markdown",
   "id": "56c9705b",
   "metadata": {
    "papermill": {
     "duration": 0.022115,
     "end_time": "2025-08-05T16:11:19.729352",
     "exception": false,
     "start_time": "2025-08-05T16:11:19.707237",
     "status": "completed"
    },
    "tags": []
   },
   "source": [
    "# Conformal Prediction"
   ]
  },
  {
   "cell_type": "code",
   "execution_count": 36,
   "id": "160ec6ff",
   "metadata": {
    "execution": {
     "iopub.execute_input": "2025-08-05T16:11:19.777255Z",
     "iopub.status.busy": "2025-08-05T16:11:19.776708Z",
     "iopub.status.idle": "2025-08-05T16:11:19.782301Z",
     "shell.execute_reply": "2025-08-05T16:11:19.781090Z"
    },
    "papermill": {
     "duration": 0.032928,
     "end_time": "2025-08-05T16:11:19.784492",
     "exception": false,
     "start_time": "2025-08-05T16:11:19.751564",
     "status": "completed"
    },
    "tags": []
   },
   "outputs": [],
   "source": [
    "# Miscoverage level for conformal prediction (10% allowed error rate => 90% target coverage)\n",
    "alpha = 0.1"
   ]
  },
  {
   "cell_type": "code",
   "execution_count": 37,
   "id": "eadf4555-3dd3-440e-8e35-f82a4ad9f855",
   "metadata": {
    "execution": {
     "iopub.execute_input": "2025-08-05T16:11:19.833210Z",
     "iopub.status.busy": "2025-08-05T16:11:19.832743Z",
     "iopub.status.idle": "2025-08-05T16:11:21.427681Z",
     "shell.execute_reply": "2025-08-05T16:11:21.426572Z"
    },
    "papermill": {
     "duration": 1.620373,
     "end_time": "2025-08-05T16:11:21.429657",
     "exception": false,
     "start_time": "2025-08-05T16:11:19.809284",
     "status": "completed"
    },
    "tags": []
   },
   "outputs": [],
   "source": [
    "probs_calib = model.predict_proba(X_calib)"
   ]
  },
  {
   "cell_type": "code",
   "execution_count": 38,
   "id": "2ed93547-6d5d-4983-9b36-1ecb300da49a",
   "metadata": {
    "execution": {
     "iopub.execute_input": "2025-08-05T16:11:21.472298Z",
     "iopub.status.busy": "2025-08-05T16:11:21.471579Z",
     "iopub.status.idle": "2025-08-05T16:11:21.477368Z",
     "shell.execute_reply": "2025-08-05T16:11:21.476286Z"
    },
    "papermill": {
     "duration": 0.027588,
     "end_time": "2025-08-05T16:11:21.479125",
     "exception": false,
     "start_time": "2025-08-05T16:11:21.451537",
     "status": "completed"
    },
    "tags": []
   },
   "outputs": [],
   "source": [
    "y_calib = y_calib.values.ravel().astype(int)"
   ]
  },
  {
   "cell_type": "code",
   "execution_count": 39,
   "id": "65d1320d-f588-4b38-9072-62af1ae97f7d",
   "metadata": {
    "execution": {
     "iopub.execute_input": "2025-08-05T16:11:21.519594Z",
     "iopub.status.busy": "2025-08-05T16:11:21.518880Z",
     "iopub.status.idle": "2025-08-05T16:11:21.527053Z",
     "shell.execute_reply": "2025-08-05T16:11:21.526060Z"
    },
    "papermill": {
     "duration": 0.030066,
     "end_time": "2025-08-05T16:11:21.529159",
     "exception": false,
     "start_time": "2025-08-05T16:11:21.499093",
     "status": "completed"
    },
    "tags": []
   },
   "outputs": [],
   "source": [
    "from fairness_multiverse.conformal import compute_nc_scores\n",
    "\n",
    "# Compute nonconformity scores on calibration set (1 - probability of true class)\n",
    "nc_scores = compute_nc_scores(probs_calib, y_calib)"
   ]
  },
  {
   "cell_type": "code",
   "execution_count": 40,
   "id": "df3b8ca3-53b7-43d5-9667-7c85da7aeda2",
   "metadata": {
    "execution": {
     "iopub.execute_input": "2025-08-05T16:11:21.574585Z",
     "iopub.status.busy": "2025-08-05T16:11:21.574175Z",
     "iopub.status.idle": "2025-08-05T16:11:21.580702Z",
     "shell.execute_reply": "2025-08-05T16:11:21.579838Z"
    },
    "papermill": {
     "duration": 0.032097,
     "end_time": "2025-08-05T16:11:21.582634",
     "exception": false,
     "start_time": "2025-08-05T16:11:21.550537",
     "status": "completed"
    },
    "tags": []
   },
   "outputs": [],
   "source": [
    "from fairness_multiverse.conformal import find_threshold\n",
    "\n",
    "# Find conformal threshold q_hat for the given alpha (split conformal method)\n",
    "q_hat = find_threshold(nc_scores, alpha)"
   ]
  },
  {
   "cell_type": "code",
   "execution_count": 41,
   "id": "4d29e6c1-0ef6-4aa4-b8fe-4fe79b0d033a",
   "metadata": {
    "execution": {
     "iopub.execute_input": "2025-08-05T16:11:21.627415Z",
     "iopub.status.busy": "2025-08-05T16:11:21.626743Z",
     "iopub.status.idle": "2025-08-05T16:11:21.634694Z",
     "shell.execute_reply": "2025-08-05T16:11:21.633492Z"
    },
    "papermill": {
     "duration": 0.032127,
     "end_time": "2025-08-05T16:11:21.636488",
     "exception": false,
     "start_time": "2025-08-05T16:11:21.604361",
     "status": "completed"
    },
    "tags": []
   },
   "outputs": [
    {
     "data": {
      "text/plain": [
       "0.6699999999999999"
      ]
     },
     "execution_count": 41,
     "metadata": {},
     "output_type": "execute_result"
    }
   ],
   "source": [
    "q_hat"
   ]
  },
  {
   "cell_type": "code",
   "execution_count": 42,
   "id": "92460794-cdac-4be2-ba28-f28c0515a6fb",
   "metadata": {
    "execution": {
     "iopub.execute_input": "2025-08-05T16:11:21.683661Z",
     "iopub.status.busy": "2025-08-05T16:11:21.683005Z",
     "iopub.status.idle": "2025-08-05T16:11:24.333868Z",
     "shell.execute_reply": "2025-08-05T16:11:24.332775Z"
    },
    "papermill": {
     "duration": 2.676605,
     "end_time": "2025-08-05T16:11:24.335967",
     "exception": false,
     "start_time": "2025-08-05T16:11:21.659362",
     "status": "completed"
    },
    "tags": []
   },
   "outputs": [],
   "source": [
    "from fairness_multiverse.conformal import predict_conformal_sets\n",
    "\n",
    "# Generate prediction sets for each test example\n",
    "pred_sets = predict_conformal_sets(model, X_test, q_hat)"
   ]
  },
  {
   "cell_type": "code",
   "execution_count": 43,
   "id": "d90c9a65-e6db-4f5d-80cd-e68fb7e46829",
   "metadata": {
    "execution": {
     "iopub.execute_input": "2025-08-05T16:11:24.377480Z",
     "iopub.status.busy": "2025-08-05T16:11:24.376899Z",
     "iopub.status.idle": "2025-08-05T16:11:24.383783Z",
     "shell.execute_reply": "2025-08-05T16:11:24.382715Z"
    },
    "papermill": {
     "duration": 0.029119,
     "end_time": "2025-08-05T16:11:24.385313",
     "exception": false,
     "start_time": "2025-08-05T16:11:24.356194",
     "status": "completed"
    },
    "tags": []
   },
   "outputs": [],
   "source": [
    "y_true = y_true.squeeze()"
   ]
  },
  {
   "cell_type": "code",
   "execution_count": 44,
   "id": "3a58a54a-1e68-46b9-927a-df01f18aebc8",
   "metadata": {
    "execution": {
     "iopub.execute_input": "2025-08-05T16:11:24.431830Z",
     "iopub.status.busy": "2025-08-05T16:11:24.431287Z",
     "iopub.status.idle": "2025-08-05T16:11:25.841583Z",
     "shell.execute_reply": "2025-08-05T16:11:25.840853Z"
    },
    "papermill": {
     "duration": 1.436366,
     "end_time": "2025-08-05T16:11:25.843505",
     "exception": false,
     "start_time": "2025-08-05T16:11:24.407139",
     "status": "completed"
    },
    "tags": []
   },
   "outputs": [],
   "source": [
    "from fairness_multiverse.conformal import evaluate_sets\n",
    "\n",
    "# Evaluate coverage and average set size on test data\n",
    "metrics = evaluate_sets(pred_sets, y_true)"
   ]
  },
  {
   "cell_type": "markdown",
   "id": "2b569c12-9aaa-4c88-98c9-bbcd0cf3ebb8",
   "metadata": {
    "papermill": {
     "duration": 0.024857,
     "end_time": "2025-08-05T16:11:25.896723",
     "exception": false,
     "start_time": "2025-08-05T16:11:25.871866",
     "status": "completed"
    },
    "tags": []
   },
   "source": [
    "# CP Metrics"
   ]
  },
  {
   "cell_type": "code",
   "execution_count": 45,
   "id": "5ce0a5cb-201f-45a0-ade5-94c7f0bd6095",
   "metadata": {
    "execution": {
     "iopub.execute_input": "2025-08-05T16:11:25.947244Z",
     "iopub.status.busy": "2025-08-05T16:11:25.946486Z",
     "iopub.status.idle": "2025-08-05T16:11:25.955346Z",
     "shell.execute_reply": "2025-08-05T16:11:25.954218Z"
    },
    "papermill": {
     "duration": 0.036731,
     "end_time": "2025-08-05T16:11:25.957336",
     "exception": false,
     "start_time": "2025-08-05T16:11:25.920605",
     "status": "completed"
    },
    "tags": []
   },
   "outputs": [
    {
     "data": {
      "text/plain": [
       "{'coverage': 0.9132315237989076, 'avg_size': 1.1466168766023854}"
      ]
     },
     "execution_count": 45,
     "metadata": {},
     "output_type": "execute_result"
    }
   ],
   "source": [
    "metrics"
   ]
  },
  {
   "cell_type": "code",
   "execution_count": 46,
   "id": "9b9a838d-31c9-430b-ae14-12baee460d17",
   "metadata": {
    "execution": {
     "iopub.execute_input": "2025-08-05T16:11:26.009613Z",
     "iopub.status.busy": "2025-08-05T16:11:26.008895Z",
     "iopub.status.idle": "2025-08-05T16:11:26.016587Z",
     "shell.execute_reply": "2025-08-05T16:11:26.015429Z"
    },
    "papermill": {
     "duration": 0.036073,
     "end_time": "2025-08-05T16:11:26.018762",
     "exception": false,
     "start_time": "2025-08-05T16:11:25.982689",
     "status": "completed"
    },
    "tags": []
   },
   "outputs": [],
   "source": [
    "example_universe = universe.copy()\n",
    "universe_training_year = example_universe.get(\"training_year\")\n",
    "universe_training_size = example_universe.get(\"training_size\")\n",
    "universe_scale = example_universe.get(\"scale\")\n",
    "universe_model = example_universe.get(\"model\")\n",
    "universe_exclude_features = example_universe.get(\"exclude_features\")\n",
    "universe_exclude_subgroups = example_universe.get(\"exclude_subgroups\")"
   ]
  },
  {
   "cell_type": "code",
   "execution_count": 47,
   "id": "f4b6a8ac-9dc0-4245-8a91-5b3b5999c4f9",
   "metadata": {
    "execution": {
     "iopub.execute_input": "2025-08-05T16:11:26.071788Z",
     "iopub.status.busy": "2025-08-05T16:11:26.070791Z",
     "iopub.status.idle": "2025-08-05T16:11:26.079600Z",
     "shell.execute_reply": "2025-08-05T16:11:26.078511Z"
    },
    "papermill": {
     "duration": 0.036776,
     "end_time": "2025-08-05T16:11:26.081382",
     "exception": false,
     "start_time": "2025-08-05T16:11:26.044606",
     "status": "completed"
    },
    "tags": []
   },
   "outputs": [],
   "source": [
    "cp_metrics_dict = {\n",
    "    \"universe_id\": [universe_id],\n",
    "    \"universe_training_year\": [universe_training_year],\n",
    "    \"universe_training_size\": [universe_training_size],\n",
    "    \"universe_scale\": [universe_scale],\n",
    "    \"universe_model\": [universe_model],\n",
    "    \"universe_exclude_features\": [universe_exclude_features],\n",
    "    \"universe_exclude_subgroups\": [universe_exclude_subgroups],\n",
    "    \"q_hat\": [q_hat],\n",
    "    \"coverage\": [metrics[\"coverage\"]],\n",
    "    \"avg_size\": [metrics[\"avg_size\"]],\n",
    "}"
   ]
  },
  {
   "cell_type": "code",
   "execution_count": 48,
   "id": "908acbb1-0371-4915-85ca-3fa520d2efe2",
   "metadata": {
    "execution": {
     "iopub.execute_input": "2025-08-05T16:11:26.134071Z",
     "iopub.status.busy": "2025-08-05T16:11:26.133367Z",
     "iopub.status.idle": "2025-08-05T16:11:26.142382Z",
     "shell.execute_reply": "2025-08-05T16:11:26.141285Z"
    },
    "papermill": {
     "duration": 0.03692,
     "end_time": "2025-08-05T16:11:26.144044",
     "exception": false,
     "start_time": "2025-08-05T16:11:26.107124",
     "status": "completed"
    },
    "tags": []
   },
   "outputs": [
    {
     "data": {
      "text/plain": [
       "{'universe_id': ['a7553fc6c4c0cc9546978960a0aec995'],\n",
       " 'universe_training_year': ['2014'],\n",
       " 'universe_training_size': ['1k'],\n",
       " 'universe_scale': ['do-not-scale'],\n",
       " 'universe_model': ['rf'],\n",
       " 'universe_exclude_features': ['nationality'],\n",
       " 'universe_exclude_subgroups': ['keep-all'],\n",
       " 'q_hat': [0.6699999999999999],\n",
       " 'coverage': [0.9132315237989076],\n",
       " 'avg_size': [1.1466168766023854]}"
      ]
     },
     "execution_count": 48,
     "metadata": {},
     "output_type": "execute_result"
    }
   ],
   "source": [
    "cp_metrics_dict"
   ]
  },
  {
   "cell_type": "code",
   "execution_count": 49,
   "id": "33007efc-14e9-4ec6-97ac-56a455c82265",
   "metadata": {
    "execution": {
     "iopub.execute_input": "2025-08-05T16:11:26.195787Z",
     "iopub.status.busy": "2025-08-05T16:11:26.195306Z",
     "iopub.status.idle": "2025-08-05T16:11:26.201605Z",
     "shell.execute_reply": "2025-08-05T16:11:26.200306Z"
    },
    "papermill": {
     "duration": 0.034571,
     "end_time": "2025-08-05T16:11:26.203281",
     "exception": false,
     "start_time": "2025-08-05T16:11:26.168710",
     "status": "completed"
    },
    "tags": []
   },
   "outputs": [],
   "source": [
    "cp_metrics_df = pd.DataFrame(cp_metrics_dict)"
   ]
  },
  {
   "cell_type": "code",
   "execution_count": 50,
   "id": "db12611b-57b2-4910-b9d0-355adfd6e7bf",
   "metadata": {
    "execution": {
     "iopub.execute_input": "2025-08-05T16:11:26.257098Z",
     "iopub.status.busy": "2025-08-05T16:11:26.256020Z",
     "iopub.status.idle": "2025-08-05T16:11:26.280351Z",
     "shell.execute_reply": "2025-08-05T16:11:26.279215Z"
    },
    "papermill": {
     "duration": 0.055206,
     "end_time": "2025-08-05T16:11:26.282809",
     "exception": false,
     "start_time": "2025-08-05T16:11:26.227603",
     "status": "completed"
    },
    "tags": []
   },
   "outputs": [
    {
     "data": {
      "text/html": [
       "<div>\n",
       "<style scoped>\n",
       "    .dataframe tbody tr th:only-of-type {\n",
       "        vertical-align: middle;\n",
       "    }\n",
       "\n",
       "    .dataframe tbody tr th {\n",
       "        vertical-align: top;\n",
       "    }\n",
       "\n",
       "    .dataframe thead th {\n",
       "        text-align: right;\n",
       "    }\n",
       "</style>\n",
       "<table border=\"1\" class=\"dataframe\">\n",
       "  <thead>\n",
       "    <tr style=\"text-align: right;\">\n",
       "      <th></th>\n",
       "      <th>universe_id</th>\n",
       "      <th>universe_training_year</th>\n",
       "      <th>universe_training_size</th>\n",
       "      <th>universe_scale</th>\n",
       "      <th>universe_model</th>\n",
       "      <th>universe_exclude_features</th>\n",
       "      <th>universe_exclude_subgroups</th>\n",
       "      <th>q_hat</th>\n",
       "      <th>coverage</th>\n",
       "      <th>avg_size</th>\n",
       "    </tr>\n",
       "  </thead>\n",
       "  <tbody>\n",
       "    <tr>\n",
       "      <th>0</th>\n",
       "      <td>a7553fc6c4c0cc9546978960a0aec995</td>\n",
       "      <td>2014</td>\n",
       "      <td>1k</td>\n",
       "      <td>do-not-scale</td>\n",
       "      <td>rf</td>\n",
       "      <td>nationality</td>\n",
       "      <td>keep-all</td>\n",
       "      <td>0.67</td>\n",
       "      <td>0.913232</td>\n",
       "      <td>1.146617</td>\n",
       "    </tr>\n",
       "  </tbody>\n",
       "</table>\n",
       "</div>"
      ],
      "text/plain": [
       "                        universe_id universe_training_year  \\\n",
       "0  a7553fc6c4c0cc9546978960a0aec995                   2014   \n",
       "\n",
       "  universe_training_size universe_scale universe_model  \\\n",
       "0                     1k   do-not-scale             rf   \n",
       "\n",
       "  universe_exclude_features universe_exclude_subgroups  q_hat  coverage  \\\n",
       "0               nationality                   keep-all   0.67  0.913232   \n",
       "\n",
       "   avg_size  \n",
       "0  1.146617  "
      ]
     },
     "execution_count": 50,
     "metadata": {},
     "output_type": "execute_result"
    }
   ],
   "source": [
    "cp_metrics_df"
   ]
  },
  {
   "cell_type": "code",
   "execution_count": 51,
   "id": "b7fbde55-a0a1-47e4-9af6-fe4a17fa8c61",
   "metadata": {
    "execution": {
     "iopub.execute_input": "2025-08-05T16:11:26.343686Z",
     "iopub.status.busy": "2025-08-05T16:11:26.342706Z",
     "iopub.status.idle": "2025-08-05T16:11:26.348758Z",
     "shell.execute_reply": "2025-08-05T16:11:26.347538Z"
    },
    "papermill": {
     "duration": 0.039029,
     "end_time": "2025-08-05T16:11:26.351149",
     "exception": false,
     "start_time": "2025-08-05T16:11:26.312120",
     "status": "completed"
    },
    "tags": []
   },
   "outputs": [],
   "source": [
    "# Conditional Coverage & looking at subgroups"
   ]
  },
  {
   "cell_type": "code",
   "execution_count": 52,
   "id": "027ae886-68dd-4141-96c7-805a5450e1ef",
   "metadata": {
    "execution": {
     "iopub.execute_input": "2025-08-05T16:11:26.410514Z",
     "iopub.status.busy": "2025-08-05T16:11:26.409678Z",
     "iopub.status.idle": "2025-08-05T16:11:26.696040Z",
     "shell.execute_reply": "2025-08-05T16:11:26.694886Z"
    },
    "papermill": {
     "duration": 0.318943,
     "end_time": "2025-08-05T16:11:26.698122",
     "exception": false,
     "start_time": "2025-08-05T16:11:26.379179",
     "status": "completed"
    },
    "tags": []
   },
   "outputs": [],
   "source": [
    "from fairness_multiverse.conformal import build_cp_groups\n",
    "\n",
    "cp_groups_df = build_cp_groups(pred_sets, y_true, X_test.index, org_test)\n",
    "#needs universe_id and setting"
   ]
  },
  {
   "cell_type": "code",
   "execution_count": 53,
   "id": "6cbdab96-b2b2-45af-ad54-d0516db2e28d",
   "metadata": {
    "execution": {
     "iopub.execute_input": "2025-08-05T16:11:26.763435Z",
     "iopub.status.busy": "2025-08-05T16:11:26.762608Z",
     "iopub.status.idle": "2025-08-05T16:11:28.382014Z",
     "shell.execute_reply": "2025-08-05T16:11:28.380970Z"
    },
    "papermill": {
     "duration": 1.653896,
     "end_time": "2025-08-05T16:11:28.384037",
     "exception": false,
     "start_time": "2025-08-05T16:11:26.730141",
     "status": "completed"
    },
    "tags": []
   },
   "outputs": [],
   "source": [
    "# Define covered = 1 if true_label is in the predicted set\n",
    "cp_groups_df['covered'] = cp_groups_df.apply(\n",
    "    lambda r: int(r['true_label'] in r['pred_set']),\n",
    "    axis=1\n",
    ")"
   ]
  },
  {
   "cell_type": "code",
   "execution_count": 54,
   "id": "338ff529-1a6b-4b87-a931-8e4788d52aad",
   "metadata": {
    "execution": {
     "iopub.execute_input": "2025-08-05T16:11:28.439964Z",
     "iopub.status.busy": "2025-08-05T16:11:28.439022Z",
     "iopub.status.idle": "2025-08-05T16:11:28.444804Z",
     "shell.execute_reply": "2025-08-05T16:11:28.443853Z"
    },
    "papermill": {
     "duration": 0.033707,
     "end_time": "2025-08-05T16:11:28.446446",
     "exception": false,
     "start_time": "2025-08-05T16:11:28.412739",
     "status": "completed"
    },
    "tags": []
   },
   "outputs": [],
   "source": [
    "#cp_groups_df"
   ]
  },
  {
   "cell_type": "code",
   "execution_count": 55,
   "id": "90032e27-66df-4540-9169-4e89cfbaa758",
   "metadata": {
    "execution": {
     "iopub.execute_input": "2025-08-05T16:11:28.499760Z",
     "iopub.status.busy": "2025-08-05T16:11:28.499089Z",
     "iopub.status.idle": "2025-08-05T16:11:28.511267Z",
     "shell.execute_reply": "2025-08-05T16:11:28.510309Z"
    },
    "papermill": {
     "duration": 0.040843,
     "end_time": "2025-08-05T16:11:28.513014",
     "exception": false,
     "start_time": "2025-08-05T16:11:28.472171",
     "status": "completed"
    },
    "tags": []
   },
   "outputs": [],
   "source": [
    "subgroups = ['frau1','nongerman','nongerman_male','nongerman_female']\n",
    "\n",
    "# Conditional coverage for subgroup==1\n",
    "cond_coverage = {\n",
    "    g: cp_groups_df.loc[cp_groups_df[g]==1, 'covered'].mean()\n",
    "    for g in subgroups\n",
    "}"
   ]
  },
  {
   "cell_type": "code",
   "execution_count": 56,
   "id": "1e348fb1-b9c3-45bc-ba23-f016827a7e0d",
   "metadata": {
    "execution": {
     "iopub.execute_input": "2025-08-05T16:11:28.555363Z",
     "iopub.status.busy": "2025-08-05T16:11:28.554670Z",
     "iopub.status.idle": "2025-08-05T16:11:28.562482Z",
     "shell.execute_reply": "2025-08-05T16:11:28.561384Z"
    },
    "papermill": {
     "duration": 0.030038,
     "end_time": "2025-08-05T16:11:28.564067",
     "exception": false,
     "start_time": "2025-08-05T16:11:28.534029",
     "status": "completed"
    },
    "tags": []
   },
   "outputs": [
    {
     "data": {
      "text/plain": [
       "{'frau1': 0.9073460035045154,\n",
       " 'nongerman': 0.9093920170661877,\n",
       " 'nongerman_male': 0.927316941367198,\n",
       " 'nongerman_female': 0.8797317436661699}"
      ]
     },
     "execution_count": 56,
     "metadata": {},
     "output_type": "execute_result"
    }
   ],
   "source": [
    "cond_coverage"
   ]
  },
  {
   "cell_type": "code",
   "execution_count": 57,
   "id": "f5093324-c3dd-4d63-bc4c-8d945e5c8bbb",
   "metadata": {
    "execution": {
     "iopub.execute_input": "2025-08-05T16:11:28.607233Z",
     "iopub.status.busy": "2025-08-05T16:11:28.606360Z",
     "iopub.status.idle": "2025-08-05T16:11:28.613698Z",
     "shell.execute_reply": "2025-08-05T16:11:28.612632Z"
    },
    "papermill": {
     "duration": 0.030926,
     "end_time": "2025-08-05T16:11:28.615500",
     "exception": false,
     "start_time": "2025-08-05T16:11:28.584574",
     "status": "completed"
    },
    "tags": []
   },
   "outputs": [],
   "source": [
    "for subgroup, cov in cond_coverage.items():\n",
    "    cp_metrics_df[f\"cov_{subgroup}\"] = cov"
   ]
  },
  {
   "cell_type": "code",
   "execution_count": 58,
   "id": "6e872e10-dbe5-49e8-b554-5030c98ff75d",
   "metadata": {
    "execution": {
     "iopub.execute_input": "2025-08-05T16:11:28.658825Z",
     "iopub.status.busy": "2025-08-05T16:11:28.658000Z",
     "iopub.status.idle": "2025-08-05T16:11:28.676193Z",
     "shell.execute_reply": "2025-08-05T16:11:28.675156Z"
    },
    "papermill": {
     "duration": 0.041286,
     "end_time": "2025-08-05T16:11:28.678200",
     "exception": false,
     "start_time": "2025-08-05T16:11:28.636914",
     "status": "completed"
    },
    "tags": []
   },
   "outputs": [
    {
     "data": {
      "text/html": [
       "<div>\n",
       "<style scoped>\n",
       "    .dataframe tbody tr th:only-of-type {\n",
       "        vertical-align: middle;\n",
       "    }\n",
       "\n",
       "    .dataframe tbody tr th {\n",
       "        vertical-align: top;\n",
       "    }\n",
       "\n",
       "    .dataframe thead th {\n",
       "        text-align: right;\n",
       "    }\n",
       "</style>\n",
       "<table border=\"1\" class=\"dataframe\">\n",
       "  <thead>\n",
       "    <tr style=\"text-align: right;\">\n",
       "      <th></th>\n",
       "      <th>universe_id</th>\n",
       "      <th>universe_training_year</th>\n",
       "      <th>universe_training_size</th>\n",
       "      <th>universe_scale</th>\n",
       "      <th>universe_model</th>\n",
       "      <th>universe_exclude_features</th>\n",
       "      <th>universe_exclude_subgroups</th>\n",
       "      <th>q_hat</th>\n",
       "      <th>coverage</th>\n",
       "      <th>avg_size</th>\n",
       "      <th>cov_frau1</th>\n",
       "      <th>cov_nongerman</th>\n",
       "      <th>cov_nongerman_male</th>\n",
       "      <th>cov_nongerman_female</th>\n",
       "    </tr>\n",
       "  </thead>\n",
       "  <tbody>\n",
       "    <tr>\n",
       "      <th>0</th>\n",
       "      <td>a7553fc6c4c0cc9546978960a0aec995</td>\n",
       "      <td>2014</td>\n",
       "      <td>1k</td>\n",
       "      <td>do-not-scale</td>\n",
       "      <td>rf</td>\n",
       "      <td>nationality</td>\n",
       "      <td>keep-all</td>\n",
       "      <td>0.67</td>\n",
       "      <td>0.913232</td>\n",
       "      <td>1.146617</td>\n",
       "      <td>0.907346</td>\n",
       "      <td>0.909392</td>\n",
       "      <td>0.927317</td>\n",
       "      <td>0.879732</td>\n",
       "    </tr>\n",
       "  </tbody>\n",
       "</table>\n",
       "</div>"
      ],
      "text/plain": [
       "                        universe_id universe_training_year  \\\n",
       "0  a7553fc6c4c0cc9546978960a0aec995                   2014   \n",
       "\n",
       "  universe_training_size universe_scale universe_model  \\\n",
       "0                     1k   do-not-scale             rf   \n",
       "\n",
       "  universe_exclude_features universe_exclude_subgroups  q_hat  coverage  \\\n",
       "0               nationality                   keep-all   0.67  0.913232   \n",
       "\n",
       "   avg_size  cov_frau1  cov_nongerman  cov_nongerman_male  \\\n",
       "0  1.146617   0.907346       0.909392            0.927317   \n",
       "\n",
       "   cov_nongerman_female  \n",
       "0              0.879732  "
      ]
     },
     "execution_count": 58,
     "metadata": {},
     "output_type": "execute_result"
    }
   ],
   "source": [
    "cp_metrics_df"
   ]
  },
  {
   "cell_type": "markdown",
   "id": "33774451",
   "metadata": {
    "papermill": {
     "duration": 0.025527,
     "end_time": "2025-08-05T16:11:28.730435",
     "exception": false,
     "start_time": "2025-08-05T16:11:28.704908",
     "status": "completed"
    },
    "tags": []
   },
   "source": [
    "# (Fairness) Metrics"
   ]
  },
  {
   "cell_type": "code",
   "execution_count": 59,
   "id": "debc5d62",
   "metadata": {
    "execution": {
     "iopub.execute_input": "2025-08-05T16:11:28.783978Z",
     "iopub.status.busy": "2025-08-05T16:11:28.783319Z",
     "iopub.status.idle": "2025-08-05T16:11:28.804752Z",
     "shell.execute_reply": "2025-08-05T16:11:28.803819Z"
    },
    "papermill": {
     "duration": 0.04992,
     "end_time": "2025-08-05T16:11:28.806509",
     "exception": false,
     "start_time": "2025-08-05T16:11:28.756589",
     "status": "completed"
    },
    "tags": []
   },
   "outputs": [],
   "source": [
    "# do I need to include maxdeutsch1.missing?\n",
    "\n",
    "import numpy as np\n",
    "\n",
    "colname_to_bin = \"maxdeutsch1\"\n",
    "majority_value = org_train[colname_to_bin].mode()[0]\n",
    "\n",
    "org_test[\"majmin\"] = np.where(org_test[colname_to_bin] == majority_value, \"majority\", \"minority\")"
   ]
  },
  {
   "cell_type": "code",
   "execution_count": 60,
   "id": "06a50de5",
   "metadata": {
    "execution": {
     "iopub.execute_input": "2025-08-05T16:11:28.849597Z",
     "iopub.status.busy": "2025-08-05T16:11:28.848657Z",
     "iopub.status.idle": "2025-08-05T16:11:31.720531Z",
     "shell.execute_reply": "2025-08-05T16:11:31.719651Z"
    },
    "papermill": {
     "duration": 2.895436,
     "end_time": "2025-08-05T16:11:31.722763",
     "exception": false,
     "start_time": "2025-08-05T16:11:28.827327",
     "status": "completed"
    },
    "tags": []
   },
   "outputs": [],
   "source": [
    "example_universe = universe.copy()\n",
    "example_universe[\"cutoff\"] = example_universe[\"cutoff\"][0]\n",
    "example_universe[\"eval_fairness_grouping\"] = example_universe[\"eval_fairness_grouping\"][0]\n",
    "fairness_dict, metric_frame = universe_analysis.compute_metrics(\n",
    "    example_universe,\n",
    "    y_pred_prob=probs_test,\n",
    "    y_test=y_true,\n",
    "    org_test=org_test,\n",
    ")"
   ]
  },
  {
   "cell_type": "markdown",
   "id": "f95d4e02",
   "metadata": {
    "papermill": {
     "duration": 0.025723,
     "end_time": "2025-08-05T16:11:31.775424",
     "exception": false,
     "start_time": "2025-08-05T16:11:31.749701",
     "status": "completed"
    },
    "tags": []
   },
   "source": [
    "# Overall"
   ]
  },
  {
   "cell_type": "markdown",
   "id": "bdee4871",
   "metadata": {
    "papermill": {
     "duration": 0.025328,
     "end_time": "2025-08-05T16:11:31.827594",
     "exception": false,
     "start_time": "2025-08-05T16:11:31.802266",
     "status": "completed"
    },
    "tags": []
   },
   "source": [
    "Fairness\n",
    "Main fairness target: Equalized Odds. Seems to be a better fit than equal opportunity, since we're not only interested in Y = 1. Seems to be a better fit than demographic parity, since we also care about accuracy, not just equal distribution of preds.\n",
    "\n",
    "Pick column for computation of fairness metrics\n",
    "\n",
    "Performance\n",
    "Overall performance measures, most interesting in relation to the measures split by group below"
   ]
  },
  {
   "cell_type": "code",
   "execution_count": 61,
   "id": "c4e067c6",
   "metadata": {
    "execution": {
     "iopub.execute_input": "2025-08-05T16:11:31.881226Z",
     "iopub.status.busy": "2025-08-05T16:11:31.880568Z",
     "iopub.status.idle": "2025-08-05T16:11:31.889099Z",
     "shell.execute_reply": "2025-08-05T16:11:31.888085Z"
    },
    "papermill": {
     "duration": 0.038185,
     "end_time": "2025-08-05T16:11:31.890919",
     "exception": false,
     "start_time": "2025-08-05T16:11:31.852734",
     "status": "completed"
    },
    "tags": []
   },
   "outputs": [
    {
     "data": {
      "text/plain": [
       "accuracy                   0.200323\n",
       "balanced accuracy          0.530169\n",
       "f1                         0.238059\n",
       "precision                  0.135604\n",
       "false positive rate        0.913506\n",
       "false negative rate        0.026156\n",
       "selection rate             0.921246\n",
       "count                  89710.000000\n",
       "dtype: float64"
      ]
     },
     "execution_count": 61,
     "metadata": {},
     "output_type": "execute_result"
    }
   ],
   "source": [
    "metric_frame.overall"
   ]
  },
  {
   "cell_type": "markdown",
   "id": "e968fe9d",
   "metadata": {
    "papermill": {
     "duration": 0.026654,
     "end_time": "2025-08-05T16:11:31.944255",
     "exception": false,
     "start_time": "2025-08-05T16:11:31.917601",
     "status": "completed"
    },
    "tags": []
   },
   "source": [
    "By Group"
   ]
  },
  {
   "cell_type": "code",
   "execution_count": 62,
   "id": "ec325bce",
   "metadata": {
    "execution": {
     "iopub.execute_input": "2025-08-05T16:11:31.999827Z",
     "iopub.status.busy": "2025-08-05T16:11:31.999156Z",
     "iopub.status.idle": "2025-08-05T16:11:32.016954Z",
     "shell.execute_reply": "2025-08-05T16:11:32.016062Z"
    },
    "papermill": {
     "duration": 0.048148,
     "end_time": "2025-08-05T16:11:32.018974",
     "exception": false,
     "start_time": "2025-08-05T16:11:31.970826",
     "status": "completed"
    },
    "tags": []
   },
   "outputs": [
    {
     "data": {
      "text/html": [
       "<div>\n",
       "<style scoped>\n",
       "    .dataframe tbody tr th:only-of-type {\n",
       "        vertical-align: middle;\n",
       "    }\n",
       "\n",
       "    .dataframe tbody tr th {\n",
       "        vertical-align: top;\n",
       "    }\n",
       "\n",
       "    .dataframe thead th {\n",
       "        text-align: right;\n",
       "    }\n",
       "</style>\n",
       "<table border=\"1\" class=\"dataframe\">\n",
       "  <thead>\n",
       "    <tr style=\"text-align: right;\">\n",
       "      <th></th>\n",
       "      <th>accuracy</th>\n",
       "      <th>balanced accuracy</th>\n",
       "      <th>f1</th>\n",
       "      <th>precision</th>\n",
       "      <th>false positive rate</th>\n",
       "      <th>false negative rate</th>\n",
       "      <th>selection rate</th>\n",
       "      <th>count</th>\n",
       "    </tr>\n",
       "    <tr>\n",
       "      <th>majmin</th>\n",
       "      <th></th>\n",
       "      <th></th>\n",
       "      <th></th>\n",
       "      <th></th>\n",
       "      <th></th>\n",
       "      <th></th>\n",
       "      <th></th>\n",
       "      <th></th>\n",
       "    </tr>\n",
       "  </thead>\n",
       "  <tbody>\n",
       "    <tr>\n",
       "      <th>majority</th>\n",
       "      <td>0.195041</td>\n",
       "      <td>0.531881</td>\n",
       "      <td>0.245245</td>\n",
       "      <td>0.139964</td>\n",
       "      <td>0.925954</td>\n",
       "      <td>0.010284</td>\n",
       "      <td>0.934379</td>\n",
       "      <td>69170.0</td>\n",
       "    </tr>\n",
       "    <tr>\n",
       "      <th>minority</th>\n",
       "      <td>0.218111</td>\n",
       "      <td>0.520099</td>\n",
       "      <td>0.212050</td>\n",
       "      <td>0.119962</td>\n",
       "      <td>0.872386</td>\n",
       "      <td>0.087416</td>\n",
       "      <td>0.877020</td>\n",
       "      <td>20540.0</td>\n",
       "    </tr>\n",
       "  </tbody>\n",
       "</table>\n",
       "</div>"
      ],
      "text/plain": [
       "          accuracy  balanced accuracy        f1  precision  \\\n",
       "majmin                                                       \n",
       "majority  0.195041           0.531881  0.245245   0.139964   \n",
       "minority  0.218111           0.520099  0.212050   0.119962   \n",
       "\n",
       "          false positive rate  false negative rate  selection rate    count  \n",
       "majmin                                                                       \n",
       "majority             0.925954             0.010284        0.934379  69170.0  \n",
       "minority             0.872386             0.087416        0.877020  20540.0  "
      ]
     },
     "execution_count": 62,
     "metadata": {},
     "output_type": "execute_result"
    }
   ],
   "source": [
    "metric_frame.by_group"
   ]
  },
  {
   "cell_type": "code",
   "execution_count": 63,
   "id": "a9ddbe63",
   "metadata": {
    "execution": {
     "iopub.execute_input": "2025-08-05T16:11:32.065302Z",
     "iopub.status.busy": "2025-08-05T16:11:32.064659Z",
     "iopub.status.idle": "2025-08-05T16:11:34.437007Z",
     "shell.execute_reply": "2025-08-05T16:11:34.435737Z"
    },
    "papermill": {
     "duration": 2.396435,
     "end_time": "2025-08-05T16:11:34.438677",
     "exception": false,
     "start_time": "2025-08-05T16:11:32.042242",
     "status": "completed"
    },
    "tags": []
   },
   "outputs": [
    {
     "data": {
      "text/plain": [
       "array([[<Axes: title={'center': 'accuracy'}, xlabel='majmin'>,\n",
       "        <Axes: title={'center': 'balanced accuracy'}, xlabel='majmin'>,\n",
       "        <Axes: title={'center': 'f1'}, xlabel='majmin'>],\n",
       "       [<Axes: title={'center': 'precision'}, xlabel='majmin'>,\n",
       "        <Axes: title={'center': 'false positive rate'}, xlabel='majmin'>,\n",
       "        <Axes: title={'center': 'false negative rate'}, xlabel='majmin'>],\n",
       "       [<Axes: title={'center': 'selection rate'}, xlabel='majmin'>,\n",
       "        <Axes: title={'center': 'count'}, xlabel='majmin'>,\n",
       "        <Axes: xlabel='majmin'>]], dtype=object)"
      ]
     },
     "execution_count": 63,
     "metadata": {},
     "output_type": "execute_result"
    },
    {
     "data": {
      "image/png": "[encoded data removed]",
      "text/plain": [
       "<Figure size 1200x800 with 9 Axes>"
      ]
     },
     "metadata": {},
     "output_type": "display_data"
    }
   ],
   "source": [
    "# In a graphic\n",
    "metric_frame.by_group.plot.bar(\n",
    "    subplots=True,\n",
    "    layout=[3, 3],\n",
    "    legend=False,\n",
    "    figsize=[12, 8],\n",
    "    title=\"Show all metrics\",\n",
    ")"
   ]
  },
  {
   "cell_type": "markdown",
   "id": "f57a0bac",
   "metadata": {
    "papermill": {
     "duration": 0.025305,
     "end_time": "2025-08-05T16:11:34.491293",
     "exception": false,
     "start_time": "2025-08-05T16:11:34.465988",
     "status": "completed"
    },
    "tags": []
   },
   "source": [
    "# Final Output"
   ]
  },
  {
   "cell_type": "code",
   "execution_count": 64,
   "id": "96d280a3",
   "metadata": {
    "execution": {
     "iopub.execute_input": "2025-08-05T16:11:34.544910Z",
     "iopub.status.busy": "2025-08-05T16:11:34.543737Z",
     "iopub.status.idle": "2025-08-05T16:11:34.554987Z",
     "shell.execute_reply": "2025-08-05T16:11:34.553930Z"
    },
    "papermill": {
     "duration": 0.041186,
     "end_time": "2025-08-05T16:11:34.556499",
     "exception": false,
     "start_time": "2025-08-05T16:11:34.515313",
     "status": "completed"
    },
    "tags": []
   },
   "outputs": [
    {
     "data": {
      "text/plain": [
       "4"
      ]
     },
     "execution_count": 64,
     "metadata": {},
     "output_type": "execute_result"
    }
   ],
   "source": [
    "sub_universes = universe_analysis.generate_sub_universes()\n",
    "len(sub_universes)"
   ]
  },
  {
   "cell_type": "code",
   "execution_count": 65,
   "id": "92adf7ba",
   "metadata": {
    "execution": {
     "iopub.execute_input": "2025-08-05T16:11:34.607764Z",
     "iopub.status.busy": "2025-08-05T16:11:34.607045Z",
     "iopub.status.idle": "2025-08-05T16:11:34.616897Z",
     "shell.execute_reply": "2025-08-05T16:11:34.615444Z"
    },
    "papermill": {
     "duration": 0.038651,
     "end_time": "2025-08-05T16:11:34.618983",
     "exception": false,
     "start_time": "2025-08-05T16:11:34.580332",
     "status": "completed"
    },
    "tags": []
   },
   "outputs": [],
   "source": [
    "def filter_sub_universe_data(sub_universe, org_test):\n",
    "    # Keep all rows — no filtering\n",
    "    keep_rows_mask = np.ones(org_test.shape[0], dtype=bool)\n",
    "\n",
    "    print(f\"[INFO] Keeping all rows: {keep_rows_mask.sum()} rows retained.\")\n",
    "    return keep_rows_mask"
   ]
  },
  {
   "cell_type": "code",
   "execution_count": 66,
   "id": "4a759155",
   "metadata": {
    "execution": {
     "iopub.execute_input": "2025-08-05T16:11:34.670097Z",
     "iopub.status.busy": "2025-08-05T16:11:34.669361Z",
     "iopub.status.idle": "2025-08-05T16:11:42.978654Z",
     "shell.execute_reply": "2025-08-05T16:11:42.977374Z"
    },
    "papermill": {
     "duration": 8.335991,
     "end_time": "2025-08-05T16:11:42.980330",
     "exception": false,
     "start_time": "2025-08-05T16:11:34.644339",
     "status": "completed"
    },
    "tags": []
   },
   "outputs": [
    {
     "name": "stdout",
     "output_type": "stream",
     "text": [
      "Stopping execution_time clock.\n",
      "[INFO] Keeping all rows: 89710 rows retained.\n"
     ]
    },
    {
     "name": "stdout",
     "output_type": "stream",
     "text": [
      "[INFO] Keeping all rows: 89710 rows retained.\n"
     ]
    },
    {
     "name": "stdout",
     "output_type": "stream",
     "text": [
      "[INFO] Keeping all rows: 89710 rows retained.\n"
     ]
    },
    {
     "name": "stdout",
     "output_type": "stream",
     "text": [
      "[INFO] Keeping all rows: 89710 rows retained.\n"
     ]
    },
    {
     "data": {
      "text/html": [
       "<div>\n",
       "<style scoped>\n",
       "    .dataframe tbody tr th:only-of-type {\n",
       "        vertical-align: middle;\n",
       "    }\n",
       "\n",
       "    .dataframe tbody tr th {\n",
       "        vertical-align: top;\n",
       "    }\n",
       "\n",
       "    .dataframe thead th {\n",
       "        text-align: right;\n",
       "    }\n",
       "</style>\n",
       "<table border=\"1\" class=\"dataframe\">\n",
       "  <thead>\n",
       "    <tr style=\"text-align: right;\">\n",
       "      <th></th>\n",
       "      <th>run_no</th>\n",
       "      <th>universe_id</th>\n",
       "      <th>universe_settings</th>\n",
       "      <th>execution_time</th>\n",
       "      <th>test_size_n</th>\n",
       "      <th>test_size_frac</th>\n",
       "      <th>fair_main_equalized_odds_difference</th>\n",
       "      <th>fair_main_equalized_odds_ratio</th>\n",
       "      <th>fair_main_demographic_parity_difference</th>\n",
       "      <th>fair_main_demographic_parity_ratio</th>\n",
       "      <th>...</th>\n",
       "      <th>perf_grp_precision_0</th>\n",
       "      <th>perf_grp_precision_1</th>\n",
       "      <th>perf_grp_false positive rate_0</th>\n",
       "      <th>perf_grp_false positive rate_1</th>\n",
       "      <th>perf_grp_false negative rate_0</th>\n",
       "      <th>perf_grp_false negative rate_1</th>\n",
       "      <th>perf_grp_selection rate_0</th>\n",
       "      <th>perf_grp_selection rate_1</th>\n",
       "      <th>perf_grp_count_0</th>\n",
       "      <th>perf_grp_count_1</th>\n",
       "    </tr>\n",
       "  </thead>\n",
       "  <tbody>\n",
       "    <tr>\n",
       "      <th>0</th>\n",
       "      <td>15</td>\n",
       "      <td>a7553fc6c4c0cc9546978960a0aec995</td>\n",
       "      <td>{\"cutoff\": \"quantile_0.1\", \"eval_fairness_grou...</td>\n",
       "      <td>33.312038</td>\n",
       "      <td>89710</td>\n",
       "      <td>1.0</td>\n",
       "      <td>0.077131</td>\n",
       "      <td>0.922067</td>\n",
       "      <td>0.057359</td>\n",
       "      <td>0.938613</td>\n",
       "      <td>...</td>\n",
       "      <td>NaN</td>\n",
       "      <td>NaN</td>\n",
       "      <td>NaN</td>\n",
       "      <td>NaN</td>\n",
       "      <td>NaN</td>\n",
       "      <td>NaN</td>\n",
       "      <td>NaN</td>\n",
       "      <td>NaN</td>\n",
       "      <td>NaN</td>\n",
       "      <td>NaN</td>\n",
       "    </tr>\n",
       "    <tr>\n",
       "      <th>0</th>\n",
       "      <td>15</td>\n",
       "      <td>a7553fc6c4c0cc9546978960a0aec995</td>\n",
       "      <td>{\"cutoff\": \"quantile_0.1\", \"eval_fairness_grou...</td>\n",
       "      <td>33.312038</td>\n",
       "      <td>89710</td>\n",
       "      <td>1.0</td>\n",
       "      <td>0.077131</td>\n",
       "      <td>0.922067</td>\n",
       "      <td>0.057359</td>\n",
       "      <td>0.938613</td>\n",
       "      <td>...</td>\n",
       "      <td>0.119962</td>\n",
       "      <td>0.139964</td>\n",
       "      <td>0.872386</td>\n",
       "      <td>0.925954</td>\n",
       "      <td>0.087416</td>\n",
       "      <td>0.010284</td>\n",
       "      <td>0.877020</td>\n",
       "      <td>0.934379</td>\n",
       "      <td>20540.0</td>\n",
       "      <td>69170.0</td>\n",
       "    </tr>\n",
       "    <tr>\n",
       "      <th>0</th>\n",
       "      <td>15</td>\n",
       "      <td>a7553fc6c4c0cc9546978960a0aec995</td>\n",
       "      <td>{\"cutoff\": \"quantile_0.25\", \"eval_fairness_gro...</td>\n",
       "      <td>33.312038</td>\n",
       "      <td>89710</td>\n",
       "      <td>1.0</td>\n",
       "      <td>0.124848</td>\n",
       "      <td>0.868232</td>\n",
       "      <td>0.063176</td>\n",
       "      <td>0.919729</td>\n",
       "      <td>...</td>\n",
       "      <td>NaN</td>\n",
       "      <td>NaN</td>\n",
       "      <td>NaN</td>\n",
       "      <td>NaN</td>\n",
       "      <td>NaN</td>\n",
       "      <td>NaN</td>\n",
       "      <td>NaN</td>\n",
       "      <td>NaN</td>\n",
       "      <td>NaN</td>\n",
       "      <td>NaN</td>\n",
       "    </tr>\n",
       "    <tr>\n",
       "      <th>0</th>\n",
       "      <td>15</td>\n",
       "      <td>a7553fc6c4c0cc9546978960a0aec995</td>\n",
       "      <td>{\"cutoff\": \"quantile_0.25\", \"eval_fairness_gro...</td>\n",
       "      <td>33.312038</td>\n",
       "      <td>89710</td>\n",
       "      <td>1.0</td>\n",
       "      <td>0.124848</td>\n",
       "      <td>0.868232</td>\n",
       "      <td>0.063176</td>\n",
       "      <td>0.919729</td>\n",
       "      <td>...</td>\n",
       "      <td>0.131020</td>\n",
       "      <td>0.159077</td>\n",
       "      <td>0.710984</td>\n",
       "      <td>0.762602</td>\n",
       "      <td>0.177365</td>\n",
       "      <td>0.052516</td>\n",
       "      <td>0.723856</td>\n",
       "      <td>0.787032</td>\n",
       "      <td>20540.0</td>\n",
       "      <td>69170.0</td>\n",
       "    </tr>\n",
       "  </tbody>\n",
       "</table>\n",
       "<p>4 rows × 50 columns</p>\n",
       "</div>"
      ],
      "text/plain": [
       "  run_no                       universe_id  \\\n",
       "0     15  a7553fc6c4c0cc9546978960a0aec995   \n",
       "0     15  a7553fc6c4c0cc9546978960a0aec995   \n",
       "0     15  a7553fc6c4c0cc9546978960a0aec995   \n",
       "0     15  a7553fc6c4c0cc9546978960a0aec995   \n",
       "\n",
       "                                   universe_settings  execution_time  \\\n",
       "0  {\"cutoff\": \"quantile_0.1\", \"eval_fairness_grou...       33.312038   \n",
       "0  {\"cutoff\": \"quantile_0.1\", \"eval_fairness_grou...       33.312038   \n",
       "0  {\"cutoff\": \"quantile_0.25\", \"eval_fairness_gro...       33.312038   \n",
       "0  {\"cutoff\": \"quantile_0.25\", \"eval_fairness_gro...       33.312038   \n",
       "\n",
       "   test_size_n  test_size_frac  fair_main_equalized_odds_difference  \\\n",
       "0        89710             1.0                             0.077131   \n",
       "0        89710             1.0                             0.077131   \n",
       "0        89710             1.0                             0.124848   \n",
       "0        89710             1.0                             0.124848   \n",
       "\n",
       "   fair_main_equalized_odds_ratio  fair_main_demographic_parity_difference  \\\n",
       "0                        0.922067                                 0.057359   \n",
       "0                        0.922067                                 0.057359   \n",
       "0                        0.868232                                 0.063176   \n",
       "0                        0.868232                                 0.063176   \n",
       "\n",
       "   fair_main_demographic_parity_ratio  ...  perf_grp_precision_0  \\\n",
       "0                            0.938613  ...                   NaN   \n",
       "0                            0.938613  ...              0.119962   \n",
       "0                            0.919729  ...                   NaN   \n",
       "0                            0.919729  ...              0.131020   \n",
       "\n",
       "   perf_grp_precision_1  perf_grp_false positive rate_0  \\\n",
       "0                   NaN                             NaN   \n",
       "0              0.139964                        0.872386   \n",
       "0                   NaN                             NaN   \n",
       "0              0.159077                        0.710984   \n",
       "\n",
       "   perf_grp_false positive rate_1  perf_grp_false negative rate_0  \\\n",
       "0                             NaN                             NaN   \n",
       "0                        0.925954                        0.087416   \n",
       "0                             NaN                             NaN   \n",
       "0                        0.762602                        0.177365   \n",
       "\n",
       "   perf_grp_false negative rate_1  perf_grp_selection rate_0  \\\n",
       "0                             NaN                        NaN   \n",
       "0                        0.010284                   0.877020   \n",
       "0                             NaN                        NaN   \n",
       "0                        0.052516                   0.723856   \n",
       "\n",
       "   perf_grp_selection rate_1  perf_grp_count_0  perf_grp_count_1  \n",
       "0                        NaN               NaN               NaN  \n",
       "0                   0.934379           20540.0           69170.0  \n",
       "0                        NaN               NaN               NaN  \n",
       "0                   0.787032           20540.0           69170.0  \n",
       "\n",
       "[4 rows x 50 columns]"
      ]
     },
     "execution_count": 66,
     "metadata": {},
     "output_type": "execute_result"
    }
   ],
   "source": [
    "final_output = universe_analysis.generate_final_output(\n",
    "    y_pred_prob=probs_test,\n",
    "    y_test=y_true,\n",
    "    org_test=org_test,\n",
    "    filter_data=filter_sub_universe_data,\n",
    "    cp_metrics_df=cp_metrics_df,\n",
    "    save=True,\n",
    ")\n",
    "final_output"
   ]
  }
 ],
 "metadata": {
  "celltoolbar": "Tags",
  "kernelspec": {
   "display_name": "Python (CMA Fairness)",
   "language": "python",
   "name": "cma_fair_env"
  },
  "language_info": {
   "codemirror_mode": {
    "name": "ipython",
    "version": 3
   },
   "file_extension": ".py",
   "mimetype": "text/x-python",
   "name": "python",
   "nbconvert_exporter": "python",
   "pygments_lexer": "ipython3",
   "version": "3.10.12"
  },
  "papermill": {
   "default_parameters": {},
   "duration": 46.162516,
   "end_time": "2025-08-05T16:11:44.031904",
   "environment_variables": {},
   "exception": null,
   "input_path": "universe_analysis.ipynb",
   "output_path": "output/runs/15/notebooks/m_15-a7553fc6c4c0cc9546978960a0aec995.ipynb",
   "parameters": {
    "output_dir": "output",
    "run_no": "15",
    "seed": "2023",
    "universe": "{\"cutoff\": [\"quantile_0.1\", \"quantile_0.25\"], \"eval_fairness_grouping\": [\"majority-minority\", \"nationality-all\"], \"exclude_features\": \"nationality\", \"exclude_subgroups\": \"keep-all\", \"model\": \"rf\", \"scale\": \"do-not-scale\", \"training_size\": \"1k\", \"training_year\": \"2014\"}",
    "universe_id": "a7553fc6c4c0cc9546978960a0aec995"
   },
   "start_time": "2025-08-05T16:10:57.869388",
   "version": "2.6.0"
  }
 },
 "nbformat": 4,
 "nbformat_minor": 5
}