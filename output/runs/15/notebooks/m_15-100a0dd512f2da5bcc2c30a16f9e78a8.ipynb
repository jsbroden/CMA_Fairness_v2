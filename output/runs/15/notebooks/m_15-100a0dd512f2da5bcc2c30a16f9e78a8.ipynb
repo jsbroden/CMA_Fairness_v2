{
 "cells": [
  {
   "cell_type": "code",
   "execution_count": 1,
   "id": "f159f837-637b-42ba-96b5-ec9a68c44524",
   "metadata": {
    "execution": {
     "iopub.execute_input": "2025-08-05T14:50:43.622802Z",
     "iopub.status.busy": "2025-08-05T14:50:43.622296Z",
     "iopub.status.idle": "2025-08-05T14:50:43.635617Z",
     "shell.execute_reply": "2025-08-05T14:50:43.634561Z"
    },
    "papermill": {
     "duration": 0.032841,
     "end_time": "2025-08-05T14:50:43.637545",
     "exception": false,
     "start_time": "2025-08-05T14:50:43.604704",
     "status": "completed"
    },
    "tags": []
   },
   "outputs": [
    {
     "name": "stdout",
     "output_type": "stream",
     "text": [
      "/dss/dsshome1/0C/ra93lal2/cma/CMA_Fairness_v2\n"
     ]
    },
    {
     "name": "stderr",
     "output_type": "stream",
     "text": [
      "/dss/dsshome1/0C/ra93lal2/.local/share/virtualenvs/CMA_Fairness_v2-3j10GkSs/lib/python3.10/site-packages/IPython/core/magics/osm.py:393: UserWarning: This is now an optional IPython functionality, using bookmarks requires you to install the `pickleshare` library.\n",
      "  bkms = self.shell.db.get('bookmarks', {})\n",
      "/dss/dsshome1/0C/ra93lal2/.local/share/virtualenvs/CMA_Fairness_v2-3j10GkSs/lib/python3.10/site-packages/IPython/core/magics/osm.py:417: UserWarning: This is now an optional IPython functionality, setting dhist requires you to install the `pickleshare` library.\n",
      "  self.shell.db['dhist'] = compress_dhist(dhist)[-100:]\n"
     ]
    }
   ],
   "source": [
    "%cd ~/cma/CMA_Fairness_v2"
   ]
  },
  {
   "cell_type": "markdown",
   "id": "de2603b9",
   "metadata": {
    "papermill": {
     "duration": 0.01777,
     "end_time": "2025-08-05T14:50:43.674075",
     "exception": false,
     "start_time": "2025-08-05T14:50:43.656305",
     "status": "completed"
    },
    "tags": []
   },
   "source": [
    "The following cell holds the definition of our parameters, these values can be overriden by rendering the with e.g. the following command:\n",
    "\n",
    "papermill -p alpha 0.2 -p ratio 0.3 universe_analysis.ipynb output/test_run.ipynb"
   ]
  },
  {
   "cell_type": "code",
   "execution_count": 2,
   "id": "a80968a0-40bb-4fa9-85ef-2d5eefb01975",
   "metadata": {
    "execution": {
     "iopub.execute_input": "2025-08-05T14:50:43.712043Z",
     "iopub.status.busy": "2025-08-05T14:50:43.711395Z",
     "iopub.status.idle": "2025-08-05T14:50:43.717259Z",
     "shell.execute_reply": "2025-08-05T14:50:43.716269Z"
    },
    "papermill": {
     "duration": 0.02696,
     "end_time": "2025-08-05T14:50:43.719142",
     "exception": false,
     "start_time": "2025-08-05T14:50:43.692182",
     "status": "completed"
    },
    "tags": []
   },
   "outputs": [
    {
     "name": "stdout",
     "output_type": "stream",
     "text": [
      "Current working directory: /dss/dsshome1/0C/ra93lal2/cma/CMA_Fairness_v2\n"
     ]
    }
   ],
   "source": [
    "import os\n",
    "print(\"Current working directory:\", os.getcwd())"
   ]
  },
  {
   "cell_type": "code",
   "execution_count": 3,
   "id": "2dce4c03",
   "metadata": {
    "execution": {
     "iopub.execute_input": "2025-08-05T14:50:43.758013Z",
     "iopub.status.busy": "2025-08-05T14:50:43.757359Z",
     "iopub.status.idle": "2025-08-05T14:50:43.763637Z",
     "shell.execute_reply": "2025-08-05T14:50:43.762653Z"
    },
    "papermill": {
     "duration": 0.027712,
     "end_time": "2025-08-05T14:50:43.765704",
     "exception": false,
     "start_time": "2025-08-05T14:50:43.737992",
     "status": "completed"
    },
    "tags": [
     "parameters"
    ]
   },
   "outputs": [],
   "source": [
    "run_no = 0\n",
    "universe_id = \"test\"\n",
    "universe = {\n",
    "    \"training_size\": \"25k\", # \"25k\", \"5k\", \"1k\"\n",
    "    \"training_year\": \"2014\", # \"2014\", \"2012_14\", \"2010_14\"\n",
    "    \"scale\": \"scale\", # \"scale\", \"do-not-scale\",\n",
    "    \"model\": \"elasticnet\", # \"logreg\", \"penalized_logreg\", \"rf\", \"gbm\", \"elasticnet\"\n",
    "    \"cutoff\": [\"quantile_0.15\", \"quantile_0.30\"],\n",
    "    \"exclude_features\": \"age\", # \"none\", \"nationality\", \"sex\", \"nationality-sex\", \"age\"\n",
    "    \"exclude_subgroups\": \"keep-all\", # \"keep-all\", \"drop-non-german\"\n",
    "    \"eval_fairness_grouping\": [\"majority-minority\", \"nationality-all\"]\n",
    "}\n",
    "\n",
    "output_dir=\"./output\"\n",
    "seed=0"
   ]
  },
  {
   "cell_type": "code",
   "execution_count": 4,
   "id": "8c1dcccc",
   "metadata": {
    "execution": {
     "iopub.execute_input": "2025-08-05T14:50:43.804594Z",
     "iopub.status.busy": "2025-08-05T14:50:43.803767Z",
     "iopub.status.idle": "2025-08-05T14:50:43.808941Z",
     "shell.execute_reply": "2025-08-05T14:50:43.807969Z"
    },
    "papermill": {
     "duration": 0.02643,
     "end_time": "2025-08-05T14:50:43.810909",
     "exception": false,
     "start_time": "2025-08-05T14:50:43.784479",
     "status": "completed"
    },
    "tags": [
     "injected-parameters"
    ]
   },
   "outputs": [],
   "source": [
    "# Parameters\n",
    "universe_id = \"100a0dd512f2da5bcc2c30a16f9e78a8\"\n",
    "run_no = \"15\"\n",
    "universe = \"{\\\"cutoff\\\": [\\\"quantile_0.1\\\", \\\"quantile_0.25\\\"], \\\"eval_fairness_grouping\\\": [\\\"majority-minority\\\", \\\"nationality-all\\\"], \\\"exclude_features\\\": \\\"nationality\\\", \\\"exclude_subgroups\\\": \\\"keep-all\\\", \\\"model\\\": \\\"rf\\\", \\\"scale\\\": \\\"scale\\\", \\\"training_size\\\": \\\"25k\\\", \\\"training_year\\\": \\\"2012_14\\\"}\"\n",
    "output_dir = \"output\"\n",
    "seed = \"2023\"\n"
   ]
  },
  {
   "cell_type": "code",
   "execution_count": 5,
   "id": "1650acaf",
   "metadata": {
    "execution": {
     "iopub.execute_input": "2025-08-05T14:50:43.850253Z",
     "iopub.status.busy": "2025-08-05T14:50:43.849726Z",
     "iopub.status.idle": "2025-08-05T14:50:43.854380Z",
     "shell.execute_reply": "2025-08-05T14:50:43.853363Z"
    },
    "papermill": {
     "duration": 0.026276,
     "end_time": "2025-08-05T14:50:43.856204",
     "exception": false,
     "start_time": "2025-08-05T14:50:43.829928",
     "status": "completed"
    },
    "tags": []
   },
   "outputs": [],
   "source": [
    "import json\n",
    "if isinstance(universe, str):\n",
    "    universe = json.loads(universe)"
   ]
  },
  {
   "cell_type": "code",
   "execution_count": 6,
   "id": "16620c48",
   "metadata": {
    "execution": {
     "iopub.execute_input": "2025-08-05T14:50:43.895270Z",
     "iopub.status.busy": "2025-08-05T14:50:43.894675Z",
     "iopub.status.idle": "2025-08-05T14:50:43.936093Z",
     "shell.execute_reply": "2025-08-05T14:50:43.935199Z"
    },
    "papermill": {
     "duration": 0.062641,
     "end_time": "2025-08-05T14:50:43.937925",
     "exception": false,
     "start_time": "2025-08-05T14:50:43.875284",
     "status": "completed"
    },
    "tags": []
   },
   "outputs": [],
   "source": [
    "# Auto-reload the custom package\n",
    "%load_ext autoreload\n",
    "%autoreload 1\n",
    "%aimport fairness_multiverse"
   ]
  },
  {
   "cell_type": "code",
   "execution_count": 7,
   "id": "01c5c9f3",
   "metadata": {
    "execution": {
     "iopub.execute_input": "2025-08-05T14:50:43.976743Z",
     "iopub.status.busy": "2025-08-05T14:50:43.976141Z",
     "iopub.status.idle": "2025-08-05T14:50:45.907017Z",
     "shell.execute_reply": "2025-08-05T14:50:45.905934Z"
    },
    "papermill": {
     "duration": 1.952215,
     "end_time": "2025-08-05T14:50:45.909017",
     "exception": false,
     "start_time": "2025-08-05T14:50:43.956802",
     "status": "completed"
    },
    "tags": []
   },
   "outputs": [],
   "source": [
    "from fairness_multiverse.universe import UniverseAnalysis\n",
    "\n",
    "universe_analysis = UniverseAnalysis(\n",
    "    run_no = run_no,\n",
    "    universe_id = universe_id,\n",
    "    universe = universe,\n",
    "    output_dir=output_dir,\n",
    ")"
   ]
  },
  {
   "cell_type": "code",
   "execution_count": 8,
   "id": "106241f5",
   "metadata": {
    "execution": {
     "iopub.execute_input": "2025-08-05T14:50:45.945323Z",
     "iopub.status.busy": "2025-08-05T14:50:45.944481Z",
     "iopub.status.idle": "2025-08-05T14:50:45.951134Z",
     "shell.execute_reply": "2025-08-05T14:50:45.950063Z"
    },
    "papermill": {
     "duration": 0.026348,
     "end_time": "2025-08-05T14:50:45.952900",
     "exception": false,
     "start_time": "2025-08-05T14:50:45.926552",
     "status": "completed"
    },
    "tags": []
   },
   "outputs": [
    {
     "name": "stdout",
     "output_type": "stream",
     "text": [
      "Using Seed: 2023\n"
     ]
    }
   ],
   "source": [
    "import numpy as np\n",
    "parsed_seed = int(seed)\n",
    "np.random.seed(parsed_seed)\n",
    "print(f\"Using Seed: {parsed_seed}\")"
   ]
  },
  {
   "cell_type": "markdown",
   "id": "e0ebdc57",
   "metadata": {
    "papermill": {
     "duration": 0.008387,
     "end_time": "2025-08-05T14:50:45.974987",
     "exception": false,
     "start_time": "2025-08-05T14:50:45.966600",
     "status": "completed"
    },
    "tags": []
   },
   "source": [
    "# Loading Data"
   ]
  },
  {
   "cell_type": "code",
   "execution_count": 9,
   "id": "f0496b8a",
   "metadata": {
    "execution": {
     "iopub.execute_input": "2025-08-05T14:50:45.993463Z",
     "iopub.status.busy": "2025-08-05T14:50:45.993068Z",
     "iopub.status.idle": "2025-08-05T14:50:55.356125Z",
     "shell.execute_reply": "2025-08-05T14:50:55.355261Z"
    },
    "papermill": {
     "duration": 9.373558,
     "end_time": "2025-08-05T14:50:55.357399",
     "exception": false,
     "start_time": "2025-08-05T14:50:45.983841",
     "status": "completed"
    },
    "tags": []
   },
   "outputs": [
    {
     "name": "stdout",
     "output_type": "stream",
     "text": [
      "Loading SIAB data from cache: data/siab_cached.csv.gz\n"
     ]
    },
    {
     "name": "stdout",
     "output_type": "stream",
     "text": [
      "(643690, 164)\n"
     ]
    }
   ],
   "source": [
    "from pathlib import Path\n",
    "import pandas as pd\n",
    "\n",
    "# File paths\n",
    "raw_file = Path(\"data/raw/siab.csv\")\n",
    "cache_file = Path(\"data/siab_cached.csv.gz\")\n",
    "\n",
    "# Ensure cache directory exists\n",
    "cache_file.parent.mkdir(parents=True, exist_ok=True)\n",
    "\n",
    "# Load with simple caching\n",
    "if cache_file.exists():\n",
    "    print(f\"Loading SIAB data from cache: {cache_file}\")\n",
    "    siab = pd.read_csv(cache_file, compression='gzip')\n",
    "else:\n",
    "    print(f\"Cache not found. Reading raw SIAB data: {raw_file}\")\n",
    "    siab = pd.read_csv(raw_file)\n",
    "    siab.to_csv(cache_file, index=False, compression='gzip')\n",
    "    print(f\"Cached SIAB data to: {cache_file}\")\n",
    "\n",
    "print(siab.shape)"
   ]
  },
  {
   "cell_type": "code",
   "execution_count": 10,
   "id": "db0ca512-5f53-4dba-abdb-a2888bca41ba",
   "metadata": {
    "execution": {
     "iopub.execute_input": "2025-08-05T14:50:55.378230Z",
     "iopub.status.busy": "2025-08-05T14:50:55.377897Z",
     "iopub.status.idle": "2025-08-05T14:50:55.382060Z",
     "shell.execute_reply": "2025-08-05T14:50:55.381227Z"
    },
    "papermill": {
     "duration": 0.01491,
     "end_time": "2025-08-05T14:50:55.383402",
     "exception": false,
     "start_time": "2025-08-05T14:50:55.368492",
     "status": "completed"
    },
    "tags": []
   },
   "outputs": [],
   "source": [
    "#siab"
   ]
  },
  {
   "cell_type": "markdown",
   "id": "997051c5-15bd-4b69-9786-c3001a3ce484",
   "metadata": {
    "papermill": {
     "duration": 0.008727,
     "end_time": "2025-08-05T14:50:55.401626",
     "exception": false,
     "start_time": "2025-08-05T14:50:55.392899",
     "status": "completed"
    },
    "tags": []
   },
   "source": [
    "# Splitting Data and Setting Training Data Size"
   ]
  },
  {
   "cell_type": "code",
   "execution_count": 11,
   "id": "aea9c6ef-6f46-42c8-85eb-5a62025c1508",
   "metadata": {
    "execution": {
     "iopub.execute_input": "2025-08-05T14:50:55.420507Z",
     "iopub.status.busy": "2025-08-05T14:50:55.419660Z",
     "iopub.status.idle": "2025-08-05T14:50:56.012377Z",
     "shell.execute_reply": "2025-08-05T14:50:56.011625Z"
    },
    "papermill": {
     "duration": 0.60367,
     "end_time": "2025-08-05T14:50:56.013862",
     "exception": false,
     "start_time": "2025-08-05T14:50:55.410192",
     "status": "completed"
    },
    "tags": []
   },
   "outputs": [],
   "source": [
    "from fairness_multiverse.universe import sample_by_year_size\n",
    "\n",
    "siab_train = sample_by_year_size(siab,\n",
    "                               training_year=universe[\"training_year\"],\n",
    "                               training_size=universe[\"training_size\"])"
   ]
  },
  {
   "cell_type": "code",
   "execution_count": 12,
   "id": "8d3afb32-789d-442c-8d5d-9f5aa8dd2eed",
   "metadata": {
    "execution": {
     "iopub.execute_input": "2025-08-05T14:50:56.033081Z",
     "iopub.status.busy": "2025-08-05T14:50:56.032516Z",
     "iopub.status.idle": "2025-08-05T14:50:56.036690Z",
     "shell.execute_reply": "2025-08-05T14:50:56.036007Z"
    },
    "papermill": {
     "duration": 0.015126,
     "end_time": "2025-08-05T14:50:56.038132",
     "exception": false,
     "start_time": "2025-08-05T14:50:56.023006",
     "status": "completed"
    },
    "tags": []
   },
   "outputs": [],
   "source": [
    "#siab_train.shape"
   ]
  },
  {
   "cell_type": "code",
   "execution_count": 13,
   "id": "d582db68-1a4c-47fb-84fc-08518dc1975a",
   "metadata": {
    "execution": {
     "iopub.execute_input": "2025-08-05T14:50:56.058494Z",
     "iopub.status.busy": "2025-08-05T14:50:56.057723Z",
     "iopub.status.idle": "2025-08-05T14:50:56.062027Z",
     "shell.execute_reply": "2025-08-05T14:50:56.061238Z"
    },
    "papermill": {
     "duration": 0.015522,
     "end_time": "2025-08-05T14:50:56.063501",
     "exception": false,
     "start_time": "2025-08-05T14:50:56.047979",
     "status": "completed"
    },
    "tags": []
   },
   "outputs": [],
   "source": [
    "#display(siab_train.groupby(\"year\").size())"
   ]
  },
  {
   "cell_type": "code",
   "execution_count": 14,
   "id": "a561edb4-d032-42cb-8256-22eac1111c64",
   "metadata": {
    "execution": {
     "iopub.execute_input": "2025-08-05T14:50:56.083657Z",
     "iopub.status.busy": "2025-08-05T14:50:56.083023Z",
     "iopub.status.idle": "2025-08-05T14:50:56.293028Z",
     "shell.execute_reply": "2025-08-05T14:50:56.292270Z"
    },
    "papermill": {
     "duration": 0.221153,
     "end_time": "2025-08-05T14:50:56.294490",
     "exception": false,
     "start_time": "2025-08-05T14:50:56.073337",
     "status": "completed"
    },
    "tags": []
   },
   "outputs": [],
   "source": [
    "#siab_train = siab_s[siab_s.year < 2015]\n",
    "siab_calib = siab[siab.year == 2015]\n",
    "siab_test = siab[siab.year == 2016]"
   ]
  },
  {
   "cell_type": "code",
   "execution_count": 15,
   "id": "472de16f-c3db-4916-846b-1f0de9cf1746",
   "metadata": {
    "execution": {
     "iopub.execute_input": "2025-08-05T14:50:56.316000Z",
     "iopub.status.busy": "2025-08-05T14:50:56.315386Z",
     "iopub.status.idle": "2025-08-05T14:50:56.328688Z",
     "shell.execute_reply": "2025-08-05T14:50:56.327891Z"
    },
    "papermill": {
     "duration": 0.024251,
     "end_time": "2025-08-05T14:50:56.330157",
     "exception": false,
     "start_time": "2025-08-05T14:50:56.305906",
     "status": "completed"
    },
    "tags": []
   },
   "outputs": [],
   "source": [
    "X_train = siab_train.iloc[:,4:164]\n",
    "y_train = siab_train.iloc[:, [3]]"
   ]
  },
  {
   "cell_type": "code",
   "execution_count": 16,
   "id": "828c96af-f43a-4ed6-ba47-8ac73a47d56c",
   "metadata": {
    "execution": {
     "iopub.execute_input": "2025-08-05T14:50:56.351205Z",
     "iopub.status.busy": "2025-08-05T14:50:56.350875Z",
     "iopub.status.idle": "2025-08-05T14:50:56.399842Z",
     "shell.execute_reply": "2025-08-05T14:50:56.399058Z"
    },
    "papermill": {
     "duration": 0.061059,
     "end_time": "2025-08-05T14:50:56.401225",
     "exception": false,
     "start_time": "2025-08-05T14:50:56.340166",
     "status": "completed"
    },
    "tags": []
   },
   "outputs": [],
   "source": [
    "X_calib = siab_calib.iloc[:,4:164]\n",
    "y_calib = siab_calib.iloc[:, [3]]"
   ]
  },
  {
   "cell_type": "code",
   "execution_count": 17,
   "id": "c34be9c3-6bd6-476e-acd3-845840e303be",
   "metadata": {
    "execution": {
     "iopub.execute_input": "2025-08-05T14:50:56.421319Z",
     "iopub.status.busy": "2025-08-05T14:50:56.420983Z",
     "iopub.status.idle": "2025-08-05T14:50:56.468477Z",
     "shell.execute_reply": "2025-08-05T14:50:56.467414Z"
    },
    "papermill": {
     "duration": 0.058482,
     "end_time": "2025-08-05T14:50:56.469909",
     "exception": false,
     "start_time": "2025-08-05T14:50:56.411427",
     "status": "completed"
    },
    "tags": []
   },
   "outputs": [],
   "source": [
    "X_test = siab_test.iloc[:,4:164]\n",
    "y_true = siab_test.iloc[:, [3]]"
   ]
  },
  {
   "cell_type": "code",
   "execution_count": 18,
   "id": "e6c733c5",
   "metadata": {
    "execution": {
     "iopub.execute_input": "2025-08-05T14:50:56.490149Z",
     "iopub.status.busy": "2025-08-05T14:50:56.489814Z",
     "iopub.status.idle": "2025-08-05T14:50:56.579910Z",
     "shell.execute_reply": "2025-08-05T14:50:56.579161Z"
    },
    "papermill": {
     "duration": 0.101374,
     "end_time": "2025-08-05T14:50:56.581399",
     "exception": false,
     "start_time": "2025-08-05T14:50:56.480025",
     "status": "completed"
    },
    "tags": []
   },
   "outputs": [],
   "source": [
    "# Auxiliary data needed downstream in the pipeline\n",
    "\n",
    "org_train = X_train.copy()\n",
    "org_test = X_test.copy()\n",
    "org_calib = X_calib.copy()"
   ]
  },
  {
   "cell_type": "markdown",
   "id": "0a4a1b33",
   "metadata": {
    "papermill": {
     "duration": 0.0089,
     "end_time": "2025-08-05T14:50:56.599677",
     "exception": false,
     "start_time": "2025-08-05T14:50:56.590777",
     "status": "completed"
    },
    "tags": []
   },
   "source": [
    "# Preprocessing Data"
   ]
  },
  {
   "cell_type": "code",
   "execution_count": 19,
   "id": "ca879031",
   "metadata": {
    "execution": {
     "iopub.execute_input": "2025-08-05T14:50:56.619346Z",
     "iopub.status.busy": "2025-08-05T14:50:56.618844Z",
     "iopub.status.idle": "2025-08-05T14:50:56.624167Z",
     "shell.execute_reply": "2025-08-05T14:50:56.623428Z"
    },
    "papermill": {
     "duration": 0.016693,
     "end_time": "2025-08-05T14:50:56.625626",
     "exception": false,
     "start_time": "2025-08-05T14:50:56.608933",
     "status": "completed"
    },
    "tags": []
   },
   "outputs": [],
   "source": [
    "# EXCLUDE PROTECTED FEATURES\n",
    "# ----------------------\n",
    "# \"exclude_features\": \"none\", # \"nationality\", \"sex\", \"nationality-sex\"\n",
    "\n",
    "excluded_features = universe[\"exclude_features\"].split(\"-\") # split, e.g.: \"nationality-sex\" -> [\"nationality\", \"sex\"]\n",
    "excluded_features_dictionary = {\n",
    "    \"nationality\": [\"maxdeutsch1\", \"maxdeutsch.Missing.\"],\n",
    "    \"sex\": [\"frau1\"],\n",
    "    \"age\": [\"age\"],\n",
    "}"
   ]
  },
  {
   "cell_type": "code",
   "execution_count": 20,
   "id": "b745ac60",
   "metadata": {
    "execution": {
     "iopub.execute_input": "2025-08-05T14:50:56.645896Z",
     "iopub.status.busy": "2025-08-05T14:50:56.645208Z",
     "iopub.status.idle": "2025-08-05T14:50:56.649931Z",
     "shell.execute_reply": "2025-08-05T14:50:56.649231Z"
    },
    "papermill": {
     "duration": 0.015905,
     "end_time": "2025-08-05T14:50:56.651321",
     "exception": false,
     "start_time": "2025-08-05T14:50:56.635416",
     "status": "completed"
    },
    "tags": []
   },
   "outputs": [],
   "source": [
    "# Code nice names to column names\n",
    "\n",
    "excluded_features_columns = [\n",
    "    excluded_features_dictionary[f] for f in excluded_features if len(f) > 0 and f != \"none\"\n",
    "]"
   ]
  },
  {
   "cell_type": "code",
   "execution_count": 21,
   "id": "f84f73a2",
   "metadata": {
    "execution": {
     "iopub.execute_input": "2025-08-05T14:50:56.671431Z",
     "iopub.status.busy": "2025-08-05T14:50:56.670771Z",
     "iopub.status.idle": "2025-08-05T14:50:56.676067Z",
     "shell.execute_reply": "2025-08-05T14:50:56.675290Z"
    },
    "papermill": {
     "duration": 0.01636,
     "end_time": "2025-08-05T14:50:56.677454",
     "exception": false,
     "start_time": "2025-08-05T14:50:56.661094",
     "status": "completed"
    },
    "tags": []
   },
   "outputs": [],
   "source": [
    "from utils import flatten_once\n",
    "\n",
    "excluded_features_columns = flatten_once(excluded_features_columns)"
   ]
  },
  {
   "cell_type": "code",
   "execution_count": 22,
   "id": "884dea22",
   "metadata": {
    "execution": {
     "iopub.execute_input": "2025-08-05T14:50:56.697669Z",
     "iopub.status.busy": "2025-08-05T14:50:56.697186Z",
     "iopub.status.idle": "2025-08-05T14:50:56.711342Z",
     "shell.execute_reply": "2025-08-05T14:50:56.710538Z"
    },
    "papermill": {
     "duration": 0.025484,
     "end_time": "2025-08-05T14:50:56.712749",
     "exception": false,
     "start_time": "2025-08-05T14:50:56.687265",
     "status": "completed"
    },
    "tags": []
   },
   "outputs": [
    {
     "name": "stdout",
     "output_type": "stream",
     "text": [
      "Dropping features: ['maxdeutsch1', 'maxdeutsch.Missing.']\n"
     ]
    }
   ],
   "source": [
    "if len(excluded_features_columns) > 0:\n",
    "    print(f\"Dropping features: {excluded_features_columns}\")\n",
    "    X_train.drop(excluded_features_columns, axis=1, inplace=True)"
   ]
  },
  {
   "cell_type": "code",
   "execution_count": 23,
   "id": "95ab8b16",
   "metadata": {
    "execution": {
     "iopub.execute_input": "2025-08-05T14:50:56.733532Z",
     "iopub.status.busy": "2025-08-05T14:50:56.732693Z",
     "iopub.status.idle": "2025-08-05T14:50:56.781254Z",
     "shell.execute_reply": "2025-08-05T14:50:56.780368Z"
    },
    "papermill": {
     "duration": 0.059849,
     "end_time": "2025-08-05T14:50:56.782822",
     "exception": false,
     "start_time": "2025-08-05T14:50:56.722973",
     "status": "completed"
    },
    "tags": []
   },
   "outputs": [
    {
     "name": "stdout",
     "output_type": "stream",
     "text": [
      "Dropping features: ['maxdeutsch1', 'maxdeutsch.Missing.']\n"
     ]
    }
   ],
   "source": [
    "if len(excluded_features_columns) > 0:\n",
    "    print(f\"Dropping features: {excluded_features_columns}\")\n",
    "    X_test.drop(excluded_features_columns, axis=1, inplace=True)"
   ]
  },
  {
   "cell_type": "code",
   "execution_count": 24,
   "id": "1853aaf5-fb9f-46cb-a2b5-8ea4ae2237e4",
   "metadata": {
    "execution": {
     "iopub.execute_input": "2025-08-05T14:50:56.803679Z",
     "iopub.status.busy": "2025-08-05T14:50:56.803016Z",
     "iopub.status.idle": "2025-08-05T14:50:56.850394Z",
     "shell.execute_reply": "2025-08-05T14:50:56.849667Z"
    },
    "papermill": {
     "duration": 0.058783,
     "end_time": "2025-08-05T14:50:56.851706",
     "exception": false,
     "start_time": "2025-08-05T14:50:56.792923",
     "status": "completed"
    },
    "tags": []
   },
   "outputs": [
    {
     "name": "stdout",
     "output_type": "stream",
     "text": [
      "Dropping features: ['maxdeutsch1', 'maxdeutsch.Missing.']\n"
     ]
    }
   ],
   "source": [
    "if len(excluded_features_columns) > 0:\n",
    "    print(f\"Dropping features: {excluded_features_columns}\")\n",
    "    X_calib.drop(excluded_features_columns, axis=1, inplace=True)"
   ]
  },
  {
   "cell_type": "code",
   "execution_count": 25,
   "id": "76c4dc6d",
   "metadata": {
    "execution": {
     "iopub.execute_input": "2025-08-05T14:50:56.872630Z",
     "iopub.status.busy": "2025-08-05T14:50:56.871982Z",
     "iopub.status.idle": "2025-08-05T14:50:56.876507Z",
     "shell.execute_reply": "2025-08-05T14:50:56.875777Z"
    },
    "papermill": {
     "duration": 0.015854,
     "end_time": "2025-08-05T14:50:56.877916",
     "exception": false,
     "start_time": "2025-08-05T14:50:56.862062",
     "status": "completed"
    },
    "tags": []
   },
   "outputs": [],
   "source": [
    "# EXCLUDE CERTAIN SUBGROUPS\n",
    "# ----------------------\n",
    "\n",
    "mode = universe.get(\"exclude_subgroups\", \"keep-all\") \n",
    "# Fetches the exclude_subgroups setting from the universe dict.\n",
    "# Defaults to \"keep-all\" if the key is missing."
   ]
  },
  {
   "cell_type": "code",
   "execution_count": 26,
   "id": "21994072",
   "metadata": {
    "execution": {
     "iopub.execute_input": "2025-08-05T14:50:56.898756Z",
     "iopub.status.busy": "2025-08-05T14:50:56.897993Z",
     "iopub.status.idle": "2025-08-05T14:50:56.903353Z",
     "shell.execute_reply": "2025-08-05T14:50:56.902606Z"
    },
    "papermill": {
     "duration": 0.016709,
     "end_time": "2025-08-05T14:50:56.904766",
     "exception": false,
     "start_time": "2025-08-05T14:50:56.888057",
     "status": "completed"
    },
    "tags": []
   },
   "outputs": [],
   "source": [
    "if mode == \"keep-all\":\n",
    "    keep_mask = pd.Series(True, index=org_train.index)\n",
    "\n",
    "# org_train contains the original feature columns from features_org (in Simson)\n",
    "# features_org contains unprocessed features, for me X_train at beginning ???\n",
    "# For keep-all, creates a boolean Series (keep_mask) of all True, so no rows are removed.\n",
    "\n",
    "elif mode == \"drop-non-german\":\n",
    "    keep_mask = org_train[\"maxdeutsch1\"] == 1 # ??? what about missing values?\n",
    "\n",
    "else:\n",
    "    raise ValueError(f\"Unsupported mode for exclude_subgroups: {mode}\")"
   ]
  },
  {
   "cell_type": "code",
   "execution_count": 27,
   "id": "71651440",
   "metadata": {
    "execution": {
     "iopub.execute_input": "2025-08-05T14:50:56.925744Z",
     "iopub.status.busy": "2025-08-05T14:50:56.925103Z",
     "iopub.status.idle": "2025-08-05T14:50:56.930542Z",
     "shell.execute_reply": "2025-08-05T14:50:56.929760Z"
    },
    "papermill": {
     "duration": 0.016834,
     "end_time": "2025-08-05T14:50:56.931931",
     "exception": false,
     "start_time": "2025-08-05T14:50:56.915097",
     "status": "completed"
    },
    "tags": []
   },
   "outputs": [],
   "source": [
    "n_drop = (~keep_mask).sum() # Calculates how many rows are set to be dropped\n",
    "if n_drop > 0:\n",
    "    pct = n_drop / len(keep_mask) * 100\n",
    "    print(f\"Dropping {n_drop} rows ({pct:.2f}%) where mode='{mode}'\")"
   ]
  },
  {
   "cell_type": "code",
   "execution_count": 28,
   "id": "5fb8eee5",
   "metadata": {
    "execution": {
     "iopub.execute_input": "2025-08-05T14:50:56.962855Z",
     "iopub.status.busy": "2025-08-05T14:50:56.962372Z",
     "iopub.status.idle": "2025-08-05T14:50:56.975413Z",
     "shell.execute_reply": "2025-08-05T14:50:56.974560Z"
    },
    "papermill": {
     "duration": 0.024757,
     "end_time": "2025-08-05T14:50:56.977010",
     "exception": false,
     "start_time": "2025-08-05T14:50:56.952253",
     "status": "completed"
    },
    "tags": []
   },
   "outputs": [],
   "source": [
    "X_train = X_train[keep_mask]"
   ]
  },
  {
   "cell_type": "code",
   "execution_count": 29,
   "id": "b202bb3a",
   "metadata": {
    "execution": {
     "iopub.execute_input": "2025-08-05T14:50:56.999143Z",
     "iopub.status.busy": "2025-08-05T14:50:56.998667Z",
     "iopub.status.idle": "2025-08-05T14:50:57.004192Z",
     "shell.execute_reply": "2025-08-05T14:50:57.003437Z"
    },
    "papermill": {
     "duration": 0.018133,
     "end_time": "2025-08-05T14:50:57.005608",
     "exception": false,
     "start_time": "2025-08-05T14:50:56.987475",
     "status": "completed"
    },
    "tags": []
   },
   "outputs": [],
   "source": [
    "y_train = y_train[keep_mask]"
   ]
  },
  {
   "cell_type": "markdown",
   "id": "493e2ac3",
   "metadata": {
    "papermill": {
     "duration": 0.009312,
     "end_time": "2025-08-05T14:50:57.025131",
     "exception": false,
     "start_time": "2025-08-05T14:50:57.015819",
     "status": "completed"
    },
    "tags": []
   },
   "source": [
    "# Model Training"
   ]
  },
  {
   "cell_type": "code",
   "execution_count": 30,
   "id": "679e1268",
   "metadata": {
    "execution": {
     "iopub.execute_input": "2025-08-05T14:50:57.046439Z",
     "iopub.status.busy": "2025-08-05T14:50:57.045937Z",
     "iopub.status.idle": "2025-08-05T14:50:57.124438Z",
     "shell.execute_reply": "2025-08-05T14:50:57.123693Z"
    },
    "papermill": {
     "duration": 0.090337,
     "end_time": "2025-08-05T14:50:57.126066",
     "exception": false,
     "start_time": "2025-08-05T14:50:57.035729",
     "status": "completed"
    },
    "tags": []
   },
   "outputs": [],
   "source": [
    "from sklearn.linear_model import LogisticRegression\n",
    "from sklearn.ensemble import GradientBoostingClassifier, RandomForestClassifier\n",
    "\n",
    "if (universe[\"model\"] == \"logreg\"):\n",
    "    model = LogisticRegression() #penalty=\"none\", solver=\"newton-cg\", max_iter=1) # include random_state=19 ?\n",
    "elif (universe[\"model\"] == \"penalized_logreg\"):\n",
    "    model = LogisticRegression(penalty=\"l2\", C=0.1) #, solver=\"newton-cg\", max_iter=1)\n",
    "elif (universe[\"model\"] == \"rf\"):\n",
    "    model = RandomForestClassifier() # n_estimators=100, n_jobs=-1\n",
    "elif (universe[\"model\"] == \"gbm\"):\n",
    "    model = GradientBoostingClassifier()\n",
    "elif (universe[\"model\"] == \"elasticnet\"):\n",
    "    model = LogisticRegression(penalty = 'elasticnet', solver = 'saga', l1_ratio = 0.5) # max_iter=5000\n",
    "else:\n",
    "    raise \"Unsupported universe.model\""
   ]
  },
  {
   "cell_type": "code",
   "execution_count": 31,
   "id": "0cc8f744",
   "metadata": {
    "execution": {
     "iopub.execute_input": "2025-08-05T14:50:57.146777Z",
     "iopub.status.busy": "2025-08-05T14:50:57.146294Z",
     "iopub.status.idle": "2025-08-05T14:50:57.151336Z",
     "shell.execute_reply": "2025-08-05T14:50:57.150567Z"
    },
    "papermill": {
     "duration": 0.016647,
     "end_time": "2025-08-05T14:50:57.152696",
     "exception": false,
     "start_time": "2025-08-05T14:50:57.136049",
     "status": "completed"
    },
    "tags": []
   },
   "outputs": [],
   "source": [
    "import numpy as np\n",
    "from sklearn.pipeline import Pipeline\n",
    "from sklearn.preprocessing import StandardScaler\n",
    "\n",
    "model = Pipeline([\n",
    "    #(\"continuous_processor\", continuous_processor),\n",
    "    #(\"categorical_preprocessor\", categorical_preprocessor),\n",
    "    (\"scale\", StandardScaler() if universe[\"scale\"] == \"scale\" else None), \n",
    "    (\"model\", model),\n",
    "])"
   ]
  },
  {
   "cell_type": "code",
   "execution_count": 32,
   "id": "9442c04d",
   "metadata": {
    "execution": {
     "iopub.execute_input": "2025-08-05T14:50:57.173633Z",
     "iopub.status.busy": "2025-08-05T14:50:57.173161Z",
     "iopub.status.idle": "2025-08-05T14:51:06.345955Z",
     "shell.execute_reply": "2025-08-05T14:51:06.344663Z"
    },
    "papermill": {
     "duration": 9.185007,
     "end_time": "2025-08-05T14:51:06.348069",
     "exception": false,
     "start_time": "2025-08-05T14:50:57.163062",
     "status": "completed"
    },
    "tags": []
   },
   "outputs": [
    {
     "data": {
      "text/html": [
       "<style>#sk-container-id-1 {color: black;background-color: white;}#sk-container-id-1 pre{padding: 0;}#sk-container-id-1 div.sk-toggleable {background-color: white;}#sk-container-id-1 label.sk-toggleable__label {cursor: pointer;display: block;width: 100%;margin-bottom: 0;padding: 0.3em;box-sizing: border-box;text-align: center;}#sk-container-id-1 label.sk-toggleable__label-arrow:before {content: \"▸\";float: left;margin-right: 0.25em;color: #696969;}#sk-container-id-1 label.sk-toggleable__label-arrow:hover:before {color: black;}#sk-container-id-1 div.sk-estimator:hover label.sk-toggleable__label-arrow:before {color: black;}#sk-container-id-1 div.sk-toggleable__content {max-height: 0;max-width: 0;overflow: hidden;text-align: left;background-color: #f0f8ff;}#sk-container-id-1 div.sk-toggleable__content pre {margin: 0.2em;color: black;border-radius: 0.25em;background-color: #f0f8ff;}#sk-container-id-1 input.sk-toggleable__control:checked~div.sk-toggleable__content {max-height: 200px;max-width: 100%;overflow: auto;}#sk-container-id-1 input.sk-toggleable__control:checked~label.sk-toggleable__label-arrow:before {content: \"▾\";}#sk-container-id-1 div.sk-estimator input.sk-toggleable__control:checked~label.sk-toggleable__label {background-color: #d4ebff;}#sk-container-id-1 div.sk-label input.sk-toggleable__control:checked~label.sk-toggleable__label {background-color: #d4ebff;}#sk-container-id-1 input.sk-hidden--visually {border: 0;clip: rect(1px 1px 1px 1px);clip: rect(1px, 1px, 1px, 1px);height: 1px;margin: -1px;overflow: hidden;padding: 0;position: absolute;width: 1px;}#sk-container-id-1 div.sk-estimator {font-family: monospace;background-color: #f0f8ff;border: 1px dotted black;border-radius: 0.25em;box-sizing: border-box;margin-bottom: 0.5em;}#sk-container-id-1 div.sk-estimator:hover {background-color: #d4ebff;}#sk-container-id-1 div.sk-parallel-item::after {content: \"\";width: 100%;border-bottom: 1px solid gray;flex-grow: 1;}#sk-container-id-1 div.sk-label:hover label.sk-toggleable__label {background-color: #d4ebff;}#sk-container-id-1 div.sk-serial::before {content: \"\";position: absolute;border-left: 1px solid gray;box-sizing: border-box;top: 0;bottom: 0;left: 50%;z-index: 0;}#sk-container-id-1 div.sk-serial {display: flex;flex-direction: column;align-items: center;background-color: white;padding-right: 0.2em;padding-left: 0.2em;position: relative;}#sk-container-id-1 div.sk-item {position: relative;z-index: 1;}#sk-container-id-1 div.sk-parallel {display: flex;align-items: stretch;justify-content: center;background-color: white;position: relative;}#sk-container-id-1 div.sk-item::before, #sk-container-id-1 div.sk-parallel-item::before {content: \"\";position: absolute;border-left: 1px solid gray;box-sizing: border-box;top: 0;bottom: 0;left: 50%;z-index: -1;}#sk-container-id-1 div.sk-parallel-item {display: flex;flex-direction: column;z-index: 1;position: relative;background-color: white;}#sk-container-id-1 div.sk-parallel-item:first-child::after {align-self: flex-end;width: 50%;}#sk-container-id-1 div.sk-parallel-item:last-child::after {align-self: flex-start;width: 50%;}#sk-container-id-1 div.sk-parallel-item:only-child::after {width: 0;}#sk-container-id-1 div.sk-dashed-wrapped {border: 1px dashed gray;margin: 0 0.4em 0.5em 0.4em;box-sizing: border-box;padding-bottom: 0.4em;background-color: white;}#sk-container-id-1 div.sk-label label {font-family: monospace;font-weight: bold;display: inline-block;line-height: 1.2em;}#sk-container-id-1 div.sk-label-container {text-align: center;}#sk-container-id-1 div.sk-container {/* jupyter's `normalize.less` sets `[hidden] { display: none; }` but bootstrap.min.css set `[hidden] { display: none !important; }` so we also need the `!important` here to be able to override the default hidden behavior on the sphinx rendered scikit-learn.org. See: https://github.com/scikit-learn/scikit-learn/issues/21755 */display: inline-block !important;position: relative;}#sk-container-id-1 div.sk-text-repr-fallback {display: none;}</style><div id=\"sk-container-id-1\" class=\"sk-top-container\"><div class=\"sk-text-repr-fallback\"><pre>Pipeline(steps=[(&#x27;scale&#x27;, StandardScaler()),\n",
       "                (&#x27;model&#x27;, RandomForestClassifier())])</pre><b>In a Jupyter environment, please rerun this cell to show the HTML representation or trust the notebook. <br />On GitHub, the HTML representation is unable to render, please try loading this page with nbviewer.org.</b></div><div class=\"sk-container\" hidden><div class=\"sk-item sk-dashed-wrapped\"><div class=\"sk-label-container\"><div class=\"sk-label sk-toggleable\"><input class=\"sk-toggleable__control sk-hidden--visually\" id=\"sk-estimator-id-1\" type=\"checkbox\" ><label for=\"sk-estimator-id-1\" class=\"sk-toggleable__label sk-toggleable__label-arrow\">Pipeline</label><div class=\"sk-toggleable__content\"><pre>Pipeline(steps=[(&#x27;scale&#x27;, StandardScaler()),\n",
       "                (&#x27;model&#x27;, RandomForestClassifier())])</pre></div></div></div><div class=\"sk-serial\"><div class=\"sk-item\"><div class=\"sk-estimator sk-toggleable\"><input class=\"sk-toggleable__control sk-hidden--visually\" id=\"sk-estimator-id-2\" type=\"checkbox\" ><label for=\"sk-estimator-id-2\" class=\"sk-toggleable__label sk-toggleable__label-arrow\">StandardScaler</label><div class=\"sk-toggleable__content\"><pre>StandardScaler()</pre></div></div></div><div class=\"sk-item\"><div class=\"sk-estimator sk-toggleable\"><input class=\"sk-toggleable__control sk-hidden--visually\" id=\"sk-estimator-id-3\" type=\"checkbox\" ><label for=\"sk-estimator-id-3\" class=\"sk-toggleable__label sk-toggleable__label-arrow\">RandomForestClassifier</label><div class=\"sk-toggleable__content\"><pre>RandomForestClassifier()</pre></div></div></div></div></div></div></div>"
      ],
      "text/plain": [
       "Pipeline(steps=[('scale', StandardScaler()),\n",
       "                ('model', RandomForestClassifier())])"
      ]
     },
     "execution_count": 32,
     "metadata": {},
     "output_type": "execute_result"
    }
   ],
   "source": [
    "model.fit(X_train, y_train.values.ravel())"
   ]
  },
  {
   "cell_type": "code",
   "execution_count": 33,
   "id": "af59f8c0",
   "metadata": {
    "execution": {
     "iopub.execute_input": "2025-08-05T14:51:06.407811Z",
     "iopub.status.busy": "2025-08-05T14:51:06.406998Z",
     "iopub.status.idle": "2025-08-05T14:51:06.413557Z",
     "shell.execute_reply": "2025-08-05T14:51:06.412369Z"
    },
    "papermill": {
     "duration": 0.037478,
     "end_time": "2025-08-05T14:51:06.415894",
     "exception": false,
     "start_time": "2025-08-05T14:51:06.378416",
     "status": "completed"
    },
    "tags": []
   },
   "outputs": [],
   "source": [
    "from fairness_multiverse.universe import predict_w_threshold"
   ]
  },
  {
   "cell_type": "code",
   "execution_count": 34,
   "id": "a7cf2e16",
   "metadata": {
    "execution": {
     "iopub.execute_input": "2025-08-05T14:51:06.472856Z",
     "iopub.status.busy": "2025-08-05T14:51:06.471857Z",
     "iopub.status.idle": "2025-08-05T14:51:10.130905Z",
     "shell.execute_reply": "2025-08-05T14:51:10.129971Z"
    },
    "papermill": {
     "duration": 3.68896,
     "end_time": "2025-08-05T14:51:10.132567",
     "exception": false,
     "start_time": "2025-08-05T14:51:06.443607",
     "status": "completed"
    },
    "tags": []
   },
   "outputs": [
    {
     "data": {
      "text/plain": [
       "0.8670939694571397"
      ]
     },
     "execution_count": 34,
     "metadata": {},
     "output_type": "execute_result"
    }
   ],
   "source": [
    "probs_test = model.predict_proba(X_test)\n",
    "\n",
    "'''\n",
    "Below code returns a boolean array (or binary 0/1 array depending on how it’s used) where each element \n",
    "is True if the probability of class 1 is greater than or equal to the threshold, and False otherwise.\n",
    "'''\n",
    "y_pred_default = predict_w_threshold(probs_test, 0.5)\n",
    "\n",
    "from sklearn.metrics import accuracy_score\n",
    "\n",
    "# Naive prediction\n",
    "accuracy_score(y_true = y_true, y_pred = y_pred_default)"
   ]
  },
  {
   "cell_type": "code",
   "execution_count": 35,
   "id": "081964c3",
   "metadata": {
    "execution": {
     "iopub.execute_input": "2025-08-05T14:51:10.175137Z",
     "iopub.status.busy": "2025-08-05T14:51:10.174136Z",
     "iopub.status.idle": "2025-08-05T14:51:13.626358Z",
     "shell.execute_reply": "2025-08-05T14:51:13.625427Z"
    },
    "papermill": {
     "duration": 3.475318,
     "end_time": "2025-08-05T14:51:13.627913",
     "exception": false,
     "start_time": "2025-08-05T14:51:10.152595",
     "status": "completed"
    },
    "tags": []
   },
   "outputs": [
    {
     "data": {
      "text/plain": [
       "array([0, 0, 0, ..., 0, 0, 0])"
      ]
     },
     "execution_count": 35,
     "metadata": {},
     "output_type": "execute_result"
    }
   ],
   "source": [
    "model.predict(X_test)"
   ]
  },
  {
   "cell_type": "markdown",
   "id": "56c9705b",
   "metadata": {
    "papermill": {
     "duration": 0.019906,
     "end_time": "2025-08-05T14:51:13.670704",
     "exception": false,
     "start_time": "2025-08-05T14:51:13.650798",
     "status": "completed"
    },
    "tags": []
   },
   "source": [
    "# Conformal Prediction"
   ]
  },
  {
   "cell_type": "code",
   "execution_count": 36,
   "id": "160ec6ff",
   "metadata": {
    "execution": {
     "iopub.execute_input": "2025-08-05T14:51:13.713758Z",
     "iopub.status.busy": "2025-08-05T14:51:13.712818Z",
     "iopub.status.idle": "2025-08-05T14:51:13.718274Z",
     "shell.execute_reply": "2025-08-05T14:51:13.717255Z"
    },
    "papermill": {
     "duration": 0.029257,
     "end_time": "2025-08-05T14:51:13.720103",
     "exception": false,
     "start_time": "2025-08-05T14:51:13.690846",
     "status": "completed"
    },
    "tags": []
   },
   "outputs": [],
   "source": [
    "# Miscoverage level for conformal prediction (10% allowed error rate => 90% target coverage)\n",
    "alpha = 0.1"
   ]
  },
  {
   "cell_type": "code",
   "execution_count": 37,
   "id": "eadf4555-3dd3-440e-8e35-f82a4ad9f855",
   "metadata": {
    "execution": {
     "iopub.execute_input": "2025-08-05T14:51:13.763056Z",
     "iopub.status.busy": "2025-08-05T14:51:13.762568Z",
     "iopub.status.idle": "2025-08-05T14:51:17.096971Z",
     "shell.execute_reply": "2025-08-05T14:51:17.095881Z"
    },
    "papermill": {
     "duration": 3.358247,
     "end_time": "2025-08-05T14:51:17.098830",
     "exception": false,
     "start_time": "2025-08-05T14:51:13.740583",
     "status": "completed"
    },
    "tags": []
   },
   "outputs": [],
   "source": [
    "probs_calib = model.predict_proba(X_calib)"
   ]
  },
  {
   "cell_type": "code",
   "execution_count": 38,
   "id": "2ed93547-6d5d-4983-9b36-1ecb300da49a",
   "metadata": {
    "execution": {
     "iopub.execute_input": "2025-08-05T14:51:17.140809Z",
     "iopub.status.busy": "2025-08-05T14:51:17.139934Z",
     "iopub.status.idle": "2025-08-05T14:51:17.145848Z",
     "shell.execute_reply": "2025-08-05T14:51:17.144571Z"
    },
    "papermill": {
     "duration": 0.027344,
     "end_time": "2025-08-05T14:51:17.147617",
     "exception": false,
     "start_time": "2025-08-05T14:51:17.120273",
     "status": "completed"
    },
    "tags": []
   },
   "outputs": [],
   "source": [
    "y_calib = y_calib.values.ravel().astype(int)"
   ]
  },
  {
   "cell_type": "code",
   "execution_count": 39,
   "id": "65d1320d-f588-4b38-9072-62af1ae97f7d",
   "metadata": {
    "execution": {
     "iopub.execute_input": "2025-08-05T14:51:17.190935Z",
     "iopub.status.busy": "2025-08-05T14:51:17.190501Z",
     "iopub.status.idle": "2025-08-05T14:51:17.199803Z",
     "shell.execute_reply": "2025-08-05T14:51:17.198557Z"
    },
    "papermill": {
     "duration": 0.034937,
     "end_time": "2025-08-05T14:51:17.202001",
     "exception": false,
     "start_time": "2025-08-05T14:51:17.167064",
     "status": "completed"
    },
    "tags": []
   },
   "outputs": [],
   "source": [
    "from fairness_multiverse.conformal import compute_nc_scores\n",
    "\n",
    "# Compute nonconformity scores on calibration set (1 - probability of true class)\n",
    "nc_scores = compute_nc_scores(probs_calib, y_calib)"
   ]
  },
  {
   "cell_type": "code",
   "execution_count": 40,
   "id": "df3b8ca3-53b7-43d5-9667-7c85da7aeda2",
   "metadata": {
    "execution": {
     "iopub.execute_input": "2025-08-05T14:51:17.249915Z",
     "iopub.status.busy": "2025-08-05T14:51:17.249327Z",
     "iopub.status.idle": "2025-08-05T14:51:17.256348Z",
     "shell.execute_reply": "2025-08-05T14:51:17.255470Z"
    },
    "papermill": {
     "duration": 0.031912,
     "end_time": "2025-08-05T14:51:17.257964",
     "exception": false,
     "start_time": "2025-08-05T14:51:17.226052",
     "status": "completed"
    },
    "tags": []
   },
   "outputs": [],
   "source": [
    "from fairness_multiverse.conformal import find_threshold\n",
    "\n",
    "# Find conformal threshold q_hat for the given alpha (split conformal method)\n",
    "q_hat = find_threshold(nc_scores, alpha)"
   ]
  },
  {
   "cell_type": "code",
   "execution_count": 41,
   "id": "4d29e6c1-0ef6-4aa4-b8fe-4fe79b0d033a",
   "metadata": {
    "execution": {
     "iopub.execute_input": "2025-08-05T14:51:17.281231Z",
     "iopub.status.busy": "2025-08-05T14:51:17.280802Z",
     "iopub.status.idle": "2025-08-05T14:51:17.288121Z",
     "shell.execute_reply": "2025-08-05T14:51:17.287308Z"
    },
    "papermill": {
     "duration": 0.020411,
     "end_time": "2025-08-05T14:51:17.289713",
     "exception": false,
     "start_time": "2025-08-05T14:51:17.269302",
     "status": "completed"
    },
    "tags": []
   },
   "outputs": [
    {
     "data": {
      "text/plain": [
       "0.6599999999999999"
      ]
     },
     "execution_count": 41,
     "metadata": {},
     "output_type": "execute_result"
    }
   ],
   "source": [
    "q_hat"
   ]
  },
  {
   "cell_type": "code",
   "execution_count": 42,
   "id": "92460794-cdac-4be2-ba28-f28c0515a6fb",
   "metadata": {
    "execution": {
     "iopub.execute_input": "2025-08-05T14:51:17.313139Z",
     "iopub.status.busy": "2025-08-05T14:51:17.312464Z",
     "iopub.status.idle": "2025-08-05T14:51:21.555836Z",
     "shell.execute_reply": "2025-08-05T14:51:21.554827Z"
    },
    "papermill": {
     "duration": 4.256514,
     "end_time": "2025-08-05T14:51:21.557732",
     "exception": false,
     "start_time": "2025-08-05T14:51:17.301218",
     "status": "completed"
    },
    "tags": []
   },
   "outputs": [],
   "source": [
    "from fairness_multiverse.conformal import predict_conformal_sets\n",
    "\n",
    "# Generate prediction sets for each test example\n",
    "pred_sets = predict_conformal_sets(model, X_test, q_hat)"
   ]
  },
  {
   "cell_type": "code",
   "execution_count": 43,
   "id": "d90c9a65-e6db-4f5d-80cd-e68fb7e46829",
   "metadata": {
    "execution": {
     "iopub.execute_input": "2025-08-05T14:51:21.601724Z",
     "iopub.status.busy": "2025-08-05T14:51:21.601269Z",
     "iopub.status.idle": "2025-08-05T14:51:21.606916Z",
     "shell.execute_reply": "2025-08-05T14:51:21.605880Z"
    },
    "papermill": {
     "duration": 0.028057,
     "end_time": "2025-08-05T14:51:21.608693",
     "exception": false,
     "start_time": "2025-08-05T14:51:21.580636",
     "status": "completed"
    },
    "tags": []
   },
   "outputs": [],
   "source": [
    "y_true = y_true.squeeze()"
   ]
  },
  {
   "cell_type": "code",
   "execution_count": 44,
   "id": "3a58a54a-1e68-46b9-927a-df01f18aebc8",
   "metadata": {
    "execution": {
     "iopub.execute_input": "2025-08-05T14:51:21.649812Z",
     "iopub.status.busy": "2025-08-05T14:51:21.649075Z",
     "iopub.status.idle": "2025-08-05T14:51:22.540916Z",
     "shell.execute_reply": "2025-08-05T14:51:22.539854Z"
    },
    "papermill": {
     "duration": 0.91445,
     "end_time": "2025-08-05T14:51:22.543175",
     "exception": false,
     "start_time": "2025-08-05T14:51:21.628725",
     "status": "completed"
    },
    "tags": []
   },
   "outputs": [],
   "source": [
    "from fairness_multiverse.conformal import evaluate_sets\n",
    "\n",
    "# Evaluate coverage and average set size on test data\n",
    "metrics = evaluate_sets(pred_sets, y_true)"
   ]
  },
  {
   "cell_type": "markdown",
   "id": "2b569c12-9aaa-4c88-98c9-bbcd0cf3ebb8",
   "metadata": {
    "papermill": {
     "duration": 0.022558,
     "end_time": "2025-08-05T14:51:22.589618",
     "exception": false,
     "start_time": "2025-08-05T14:51:22.567060",
     "status": "completed"
    },
    "tags": []
   },
   "source": [
    "# CP Metrics"
   ]
  },
  {
   "cell_type": "code",
   "execution_count": 45,
   "id": "5ce0a5cb-201f-45a0-ade5-94c7f0bd6095",
   "metadata": {
    "execution": {
     "iopub.execute_input": "2025-08-05T14:51:22.639313Z",
     "iopub.status.busy": "2025-08-05T14:51:22.638392Z",
     "iopub.status.idle": "2025-08-05T14:51:22.646006Z",
     "shell.execute_reply": "2025-08-05T14:51:22.644922Z"
    },
    "papermill": {
     "duration": 0.034232,
     "end_time": "2025-08-05T14:51:22.647596",
     "exception": false,
     "start_time": "2025-08-05T14:51:22.613364",
     "status": "completed"
    },
    "tags": []
   },
   "outputs": [
    {
     "data": {
      "text/plain": [
       "{'coverage': 0.9162635157730464, 'avg_size': 1.144922528146249}"
      ]
     },
     "execution_count": 45,
     "metadata": {},
     "output_type": "execute_result"
    }
   ],
   "source": [
    "metrics"
   ]
  },
  {
   "cell_type": "code",
   "execution_count": 46,
   "id": "9b9a838d-31c9-430b-ae14-12baee460d17",
   "metadata": {
    "execution": {
     "iopub.execute_input": "2025-08-05T14:51:22.698748Z",
     "iopub.status.busy": "2025-08-05T14:51:22.698020Z",
     "iopub.status.idle": "2025-08-05T14:51:22.705481Z",
     "shell.execute_reply": "2025-08-05T14:51:22.704420Z"
    },
    "papermill": {
     "duration": 0.035081,
     "end_time": "2025-08-05T14:51:22.707202",
     "exception": false,
     "start_time": "2025-08-05T14:51:22.672121",
     "status": "completed"
    },
    "tags": []
   },
   "outputs": [],
   "source": [
    "example_universe = universe.copy()\n",
    "universe_training_year = example_universe.get(\"training_year\")\n",
    "universe_training_size = example_universe.get(\"training_size\")\n",
    "universe_scale = example_universe.get(\"scale\")\n",
    "universe_model = example_universe.get(\"model\")\n",
    "universe_exclude_features = example_universe.get(\"exclude_features\")\n",
    "universe_exclude_subgroups = example_universe.get(\"exclude_subgroups\")"
   ]
  },
  {
   "cell_type": "code",
   "execution_count": 47,
   "id": "f4b6a8ac-9dc0-4245-8a91-5b3b5999c4f9",
   "metadata": {
    "execution": {
     "iopub.execute_input": "2025-08-05T14:51:22.749690Z",
     "iopub.status.busy": "2025-08-05T14:51:22.748980Z",
     "iopub.status.idle": "2025-08-05T14:51:22.756115Z",
     "shell.execute_reply": "2025-08-05T14:51:22.755107Z"
    },
    "papermill": {
     "duration": 0.030214,
     "end_time": "2025-08-05T14:51:22.758077",
     "exception": false,
     "start_time": "2025-08-05T14:51:22.727863",
     "status": "completed"
    },
    "tags": []
   },
   "outputs": [],
   "source": [
    "cp_metrics_dict = {\n",
    "    \"universe_id\": [universe_id],\n",
    "    \"universe_training_year\": [universe_training_year],\n",
    "    \"universe_training_size\": [universe_training_size],\n",
    "    \"universe_scale\": [universe_scale],\n",
    "    \"universe_model\": [universe_model],\n",
    "    \"universe_exclude_features\": [universe_exclude_features],\n",
    "    \"universe_exclude_subgroups\": [universe_exclude_subgroups],\n",
    "    \"q_hat\": [q_hat],\n",
    "    \"coverage\": [metrics[\"coverage\"]],\n",
    "    \"avg_size\": [metrics[\"avg_size\"]],\n",
    "}"
   ]
  },
  {
   "cell_type": "code",
   "execution_count": 48,
   "id": "908acbb1-0371-4915-85ca-3fa520d2efe2",
   "metadata": {
    "execution": {
     "iopub.execute_input": "2025-08-05T14:51:22.801461Z",
     "iopub.status.busy": "2025-08-05T14:51:22.800781Z",
     "iopub.status.idle": "2025-08-05T14:51:22.809228Z",
     "shell.execute_reply": "2025-08-05T14:51:22.808226Z"
    },
    "papermill": {
     "duration": 0.031293,
     "end_time": "2025-08-05T14:51:22.810906",
     "exception": false,
     "start_time": "2025-08-05T14:51:22.779613",
     "status": "completed"
    },
    "tags": []
   },
   "outputs": [
    {
     "data": {
      "text/plain": [
       "{'universe_id': ['100a0dd512f2da5bcc2c30a16f9e78a8'],\n",
       " 'universe_training_year': ['2012_14'],\n",
       " 'universe_training_size': ['25k'],\n",
       " 'universe_scale': ['scale'],\n",
       " 'universe_model': ['rf'],\n",
       " 'universe_exclude_features': ['nationality'],\n",
       " 'universe_exclude_subgroups': ['keep-all'],\n",
       " 'q_hat': [0.6599999999999999],\n",
       " 'coverage': [0.9162635157730464],\n",
       " 'avg_size': [1.144922528146249]}"
      ]
     },
     "execution_count": 48,
     "metadata": {},
     "output_type": "execute_result"
    }
   ],
   "source": [
    "cp_metrics_dict"
   ]
  },
  {
   "cell_type": "code",
   "execution_count": 49,
   "id": "33007efc-14e9-4ec6-97ac-56a455c82265",
   "metadata": {
    "execution": {
     "iopub.execute_input": "2025-08-05T14:51:22.854441Z",
     "iopub.status.busy": "2025-08-05T14:51:22.853686Z",
     "iopub.status.idle": "2025-08-05T14:51:22.860609Z",
     "shell.execute_reply": "2025-08-05T14:51:22.859538Z"
    },
    "papermill": {
     "duration": 0.030754,
     "end_time": "2025-08-05T14:51:22.862500",
     "exception": false,
     "start_time": "2025-08-05T14:51:22.831746",
     "status": "completed"
    },
    "tags": []
   },
   "outputs": [],
   "source": [
    "cp_metrics_df = pd.DataFrame(cp_metrics_dict)"
   ]
  },
  {
   "cell_type": "code",
   "execution_count": 50,
   "id": "db12611b-57b2-4910-b9d0-355adfd6e7bf",
   "metadata": {
    "execution": {
     "iopub.execute_input": "2025-08-05T14:51:22.906066Z",
     "iopub.status.busy": "2025-08-05T14:51:22.905156Z",
     "iopub.status.idle": "2025-08-05T14:51:22.926823Z",
     "shell.execute_reply": "2025-08-05T14:51:22.925807Z"
    },
    "papermill": {
     "duration": 0.045046,
     "end_time": "2025-08-05T14:51:22.928403",
     "exception": false,
     "start_time": "2025-08-05T14:51:22.883357",
     "status": "completed"
    },
    "tags": []
   },
   "outputs": [
    {
     "data": {
      "text/html": [
       "<div>\n",
       "<style scoped>\n",
       "    .dataframe tbody tr th:only-of-type {\n",
       "        vertical-align: middle;\n",
       "    }\n",
       "\n",
       "    .dataframe tbody tr th {\n",
       "        vertical-align: top;\n",
       "    }\n",
       "\n",
       "    .dataframe thead th {\n",
       "        text-align: right;\n",
       "    }\n",
       "</style>\n",
       "<table border=\"1\" class=\"dataframe\">\n",
       "  <thead>\n",
       "    <tr style=\"text-align: right;\">\n",
       "      <th></th>\n",
       "      <th>universe_id</th>\n",
       "      <th>universe_training_year</th>\n",
       "      <th>universe_training_size</th>\n",
       "      <th>universe_scale</th>\n",
       "      <th>universe_model</th>\n",
       "      <th>universe_exclude_features</th>\n",
       "      <th>universe_exclude_subgroups</th>\n",
       "      <th>q_hat</th>\n",
       "      <th>coverage</th>\n",
       "      <th>avg_size</th>\n",
       "    </tr>\n",
       "  </thead>\n",
       "  <tbody>\n",
       "    <tr>\n",
       "      <th>0</th>\n",
       "      <td>100a0dd512f2da5bcc2c30a16f9e78a8</td>\n",
       "      <td>2012_14</td>\n",
       "      <td>25k</td>\n",
       "      <td>scale</td>\n",
       "      <td>rf</td>\n",
       "      <td>nationality</td>\n",
       "      <td>keep-all</td>\n",
       "      <td>0.66</td>\n",
       "      <td>0.916264</td>\n",
       "      <td>1.144923</td>\n",
       "    </tr>\n",
       "  </tbody>\n",
       "</table>\n",
       "</div>"
      ],
      "text/plain": [
       "                        universe_id universe_training_year  \\\n",
       "0  100a0dd512f2da5bcc2c30a16f9e78a8                2012_14   \n",
       "\n",
       "  universe_training_size universe_scale universe_model  \\\n",
       "0                    25k          scale             rf   \n",
       "\n",
       "  universe_exclude_features universe_exclude_subgroups  q_hat  coverage  \\\n",
       "0               nationality                   keep-all   0.66  0.916264   \n",
       "\n",
       "   avg_size  \n",
       "0  1.144923  "
      ]
     },
     "execution_count": 50,
     "metadata": {},
     "output_type": "execute_result"
    }
   ],
   "source": [
    "cp_metrics_df"
   ]
  },
  {
   "cell_type": "code",
   "execution_count": 51,
   "id": "b7fbde55-a0a1-47e4-9af6-fe4a17fa8c61",
   "metadata": {
    "execution": {
     "iopub.execute_input": "2025-08-05T14:51:22.973141Z",
     "iopub.status.busy": "2025-08-05T14:51:22.972244Z",
     "iopub.status.idle": "2025-08-05T14:51:22.977996Z",
     "shell.execute_reply": "2025-08-05T14:51:22.976656Z"
    },
    "papermill": {
     "duration": 0.033051,
     "end_time": "2025-08-05T14:51:22.983009",
     "exception": false,
     "start_time": "2025-08-05T14:51:22.949958",
     "status": "completed"
    },
    "tags": []
   },
   "outputs": [],
   "source": [
    "# Conditional Coverage & looking at subgroups"
   ]
  },
  {
   "cell_type": "code",
   "execution_count": 52,
   "id": "027ae886-68dd-4141-96c7-805a5450e1ef",
   "metadata": {
    "execution": {
     "iopub.execute_input": "2025-08-05T14:51:23.021780Z",
     "iopub.status.busy": "2025-08-05T14:51:23.021389Z",
     "iopub.status.idle": "2025-08-05T14:51:23.216944Z",
     "shell.execute_reply": "2025-08-05T14:51:23.216154Z"
    },
    "papermill": {
     "duration": 0.212128,
     "end_time": "2025-08-05T14:51:23.218601",
     "exception": false,
     "start_time": "2025-08-05T14:51:23.006473",
     "status": "completed"
    },
    "tags": []
   },
   "outputs": [],
   "source": [
    "from fairness_multiverse.conformal import build_cp_groups\n",
    "\n",
    "cp_groups_df = build_cp_groups(pred_sets, y_true, X_test.index, org_test)\n",
    "#needs universe_id and setting"
   ]
  },
  {
   "cell_type": "code",
   "execution_count": 53,
   "id": "6cbdab96-b2b2-45af-ad54-d0516db2e28d",
   "metadata": {
    "execution": {
     "iopub.execute_input": "2025-08-05T14:51:23.242676Z",
     "iopub.status.busy": "2025-08-05T14:51:23.242189Z",
     "iopub.status.idle": "2025-08-05T14:51:24.093429Z",
     "shell.execute_reply": "2025-08-05T14:51:24.092502Z"
    },
    "papermill": {
     "duration": 0.864628,
     "end_time": "2025-08-05T14:51:24.094997",
     "exception": false,
     "start_time": "2025-08-05T14:51:23.230369",
     "status": "completed"
    },
    "tags": []
   },
   "outputs": [],
   "source": [
    "# Define covered = 1 if true_label is in the predicted set\n",
    "cp_groups_df['covered'] = cp_groups_df.apply(\n",
    "    lambda r: int(r['true_label'] in r['pred_set']),\n",
    "    axis=1\n",
    ")"
   ]
  },
  {
   "cell_type": "code",
   "execution_count": 54,
   "id": "338ff529-1a6b-4b87-a931-8e4788d52aad",
   "metadata": {
    "execution": {
     "iopub.execute_input": "2025-08-05T14:51:24.119131Z",
     "iopub.status.busy": "2025-08-05T14:51:24.118616Z",
     "iopub.status.idle": "2025-08-05T14:51:24.123748Z",
     "shell.execute_reply": "2025-08-05T14:51:24.122999Z"
    },
    "papermill": {
     "duration": 0.018513,
     "end_time": "2025-08-05T14:51:24.125095",
     "exception": false,
     "start_time": "2025-08-05T14:51:24.106582",
     "status": "completed"
    },
    "tags": []
   },
   "outputs": [],
   "source": [
    "#cp_groups_df"
   ]
  },
  {
   "cell_type": "code",
   "execution_count": 55,
   "id": "90032e27-66df-4540-9169-4e89cfbaa758",
   "metadata": {
    "execution": {
     "iopub.execute_input": "2025-08-05T14:51:24.149744Z",
     "iopub.status.busy": "2025-08-05T14:51:24.149245Z",
     "iopub.status.idle": "2025-08-05T14:51:24.158748Z",
     "shell.execute_reply": "2025-08-05T14:51:24.157937Z"
    },
    "papermill": {
     "duration": 0.022781,
     "end_time": "2025-08-05T14:51:24.160042",
     "exception": false,
     "start_time": "2025-08-05T14:51:24.137261",
     "status": "completed"
    },
    "tags": []
   },
   "outputs": [],
   "source": [
    "subgroups = ['frau1','nongerman','nongerman_male','nongerman_female']\n",
    "\n",
    "# Conditional coverage for subgroup==1\n",
    "cond_coverage = {\n",
    "    g: cp_groups_df.loc[cp_groups_df[g]==1, 'covered'].mean()\n",
    "    for g in subgroups\n",
    "}"
   ]
  },
  {
   "cell_type": "code",
   "execution_count": 56,
   "id": "1e348fb1-b9c3-45bc-ba23-f016827a7e0d",
   "metadata": {
    "execution": {
     "iopub.execute_input": "2025-08-05T14:51:24.184140Z",
     "iopub.status.busy": "2025-08-05T14:51:24.183381Z",
     "iopub.status.idle": "2025-08-05T14:51:24.189764Z",
     "shell.execute_reply": "2025-08-05T14:51:24.188970Z"
    },
    "papermill": {
     "duration": 0.019565,
     "end_time": "2025-08-05T14:51:24.191263",
     "exception": false,
     "start_time": "2025-08-05T14:51:24.171698",
     "status": "completed"
    },
    "tags": []
   },
   "outputs": [
    {
     "data": {
      "text/plain": [
       "{'frau1': 0.9155681358673675,\n",
       " 'nongerman': 0.9108516252175377,\n",
       " 'nongerman_male': 0.9235341799513644,\n",
       " 'nongerman_female': 0.889865871833085}"
      ]
     },
     "execution_count": 56,
     "metadata": {},
     "output_type": "execute_result"
    }
   ],
   "source": [
    "cond_coverage"
   ]
  },
  {
   "cell_type": "code",
   "execution_count": 57,
   "id": "f5093324-c3dd-4d63-bc4c-8d945e5c8bbb",
   "metadata": {
    "execution": {
     "iopub.execute_input": "2025-08-05T14:51:24.215390Z",
     "iopub.status.busy": "2025-08-05T14:51:24.214814Z",
     "iopub.status.idle": "2025-08-05T14:51:24.220815Z",
     "shell.execute_reply": "2025-08-05T14:51:24.220002Z"
    },
    "papermill": {
     "duration": 0.019067,
     "end_time": "2025-08-05T14:51:24.222245",
     "exception": false,
     "start_time": "2025-08-05T14:51:24.203178",
     "status": "completed"
    },
    "tags": []
   },
   "outputs": [],
   "source": [
    "for subgroup, cov in cond_coverage.items():\n",
    "    cp_metrics_df[f\"cov_{subgroup}\"] = cov"
   ]
  },
  {
   "cell_type": "code",
   "execution_count": 58,
   "id": "6e872e10-dbe5-49e8-b554-5030c98ff75d",
   "metadata": {
    "execution": {
     "iopub.execute_input": "2025-08-05T14:51:24.246492Z",
     "iopub.status.busy": "2025-08-05T14:51:24.246162Z",
     "iopub.status.idle": "2025-08-05T14:51:24.260599Z",
     "shell.execute_reply": "2025-08-05T14:51:24.259701Z"
    },
    "papermill": {
     "duration": 0.027643,
     "end_time": "2025-08-05T14:51:24.262084",
     "exception": false,
     "start_time": "2025-08-05T14:51:24.234441",
     "status": "completed"
    },
    "tags": []
   },
   "outputs": [
    {
     "data": {
      "text/html": [
       "<div>\n",
       "<style scoped>\n",
       "    .dataframe tbody tr th:only-of-type {\n",
       "        vertical-align: middle;\n",
       "    }\n",
       "\n",
       "    .dataframe tbody tr th {\n",
       "        vertical-align: top;\n",
       "    }\n",
       "\n",
       "    .dataframe thead th {\n",
       "        text-align: right;\n",
       "    }\n",
       "</style>\n",
       "<table border=\"1\" class=\"dataframe\">\n",
       "  <thead>\n",
       "    <tr style=\"text-align: right;\">\n",
       "      <th></th>\n",
       "      <th>universe_id</th>\n",
       "      <th>universe_training_year</th>\n",
       "      <th>universe_training_size</th>\n",
       "      <th>universe_scale</th>\n",
       "      <th>universe_model</th>\n",
       "      <th>universe_exclude_features</th>\n",
       "      <th>universe_exclude_subgroups</th>\n",
       "      <th>q_hat</th>\n",
       "      <th>coverage</th>\n",
       "      <th>avg_size</th>\n",
       "      <th>cov_frau1</th>\n",
       "      <th>cov_nongerman</th>\n",
       "      <th>cov_nongerman_male</th>\n",
       "      <th>cov_nongerman_female</th>\n",
       "    </tr>\n",
       "  </thead>\n",
       "  <tbody>\n",
       "    <tr>\n",
       "      <th>0</th>\n",
       "      <td>100a0dd512f2da5bcc2c30a16f9e78a8</td>\n",
       "      <td>2012_14</td>\n",
       "      <td>25k</td>\n",
       "      <td>scale</td>\n",
       "      <td>rf</td>\n",
       "      <td>nationality</td>\n",
       "      <td>keep-all</td>\n",
       "      <td>0.66</td>\n",
       "      <td>0.916264</td>\n",
       "      <td>1.144923</td>\n",
       "      <td>0.915568</td>\n",
       "      <td>0.910852</td>\n",
       "      <td>0.923534</td>\n",
       "      <td>0.889866</td>\n",
       "    </tr>\n",
       "  </tbody>\n",
       "</table>\n",
       "</div>"
      ],
      "text/plain": [
       "                        universe_id universe_training_year  \\\n",
       "0  100a0dd512f2da5bcc2c30a16f9e78a8                2012_14   \n",
       "\n",
       "  universe_training_size universe_scale universe_model  \\\n",
       "0                    25k          scale             rf   \n",
       "\n",
       "  universe_exclude_features universe_exclude_subgroups  q_hat  coverage  \\\n",
       "0               nationality                   keep-all   0.66  0.916264   \n",
       "\n",
       "   avg_size  cov_frau1  cov_nongerman  cov_nongerman_male  \\\n",
       "0  1.144923   0.915568       0.910852            0.923534   \n",
       "\n",
       "   cov_nongerman_female  \n",
       "0              0.889866  "
      ]
     },
     "execution_count": 58,
     "metadata": {},
     "output_type": "execute_result"
    }
   ],
   "source": [
    "cp_metrics_df"
   ]
  },
  {
   "cell_type": "markdown",
   "id": "33774451",
   "metadata": {
    "papermill": {
     "duration": 0.010941,
     "end_time": "2025-08-05T14:51:24.285347",
     "exception": false,
     "start_time": "2025-08-05T14:51:24.274406",
     "status": "completed"
    },
    "tags": []
   },
   "source": [
    "# (Fairness) Metrics"
   ]
  },
  {
   "cell_type": "code",
   "execution_count": 59,
   "id": "debc5d62",
   "metadata": {
    "execution": {
     "iopub.execute_input": "2025-08-05T14:51:24.339703Z",
     "iopub.status.busy": "2025-08-05T14:51:24.339197Z",
     "iopub.status.idle": "2025-08-05T14:51:24.354054Z",
     "shell.execute_reply": "2025-08-05T14:51:24.353368Z"
    },
    "papermill": {
     "duration": 0.028377,
     "end_time": "2025-08-05T14:51:24.355321",
     "exception": false,
     "start_time": "2025-08-05T14:51:24.326944",
     "status": "completed"
    },
    "tags": []
   },
   "outputs": [],
   "source": [
    "# do I need to include maxdeutsch1.missing?\n",
    "\n",
    "import numpy as np\n",
    "\n",
    "colname_to_bin = \"maxdeutsch1\"\n",
    "majority_value = org_train[colname_to_bin].mode()[0]\n",
    "\n",
    "org_test[\"majmin\"] = np.where(org_test[colname_to_bin] == majority_value, \"majority\", \"minority\")"
   ]
  },
  {
   "cell_type": "code",
   "execution_count": 60,
   "id": "06a50de5",
   "metadata": {
    "execution": {
     "iopub.execute_input": "2025-08-05T14:51:24.380106Z",
     "iopub.status.busy": "2025-08-05T14:51:24.379647Z",
     "iopub.status.idle": "2025-08-05T14:51:26.336704Z",
     "shell.execute_reply": "2025-08-05T14:51:26.335726Z"
    },
    "papermill": {
     "duration": 1.971322,
     "end_time": "2025-08-05T14:51:26.338910",
     "exception": false,
     "start_time": "2025-08-05T14:51:24.367588",
     "status": "completed"
    },
    "tags": []
   },
   "outputs": [],
   "source": [
    "example_universe = universe.copy()\n",
    "example_universe[\"cutoff\"] = example_universe[\"cutoff\"][0]\n",
    "example_universe[\"eval_fairness_grouping\"] = example_universe[\"eval_fairness_grouping\"][0]\n",
    "fairness_dict, metric_frame = universe_analysis.compute_metrics(\n",
    "    example_universe,\n",
    "    y_pred_prob=probs_test,\n",
    "    y_test=y_true,\n",
    "    org_test=org_test,\n",
    ")"
   ]
  },
  {
   "cell_type": "markdown",
   "id": "f95d4e02",
   "metadata": {
    "papermill": {
     "duration": 0.011572,
     "end_time": "2025-08-05T14:51:26.374747",
     "exception": false,
     "start_time": "2025-08-05T14:51:26.363175",
     "status": "completed"
    },
    "tags": []
   },
   "source": [
    "# Overall"
   ]
  },
  {
   "cell_type": "markdown",
   "id": "bdee4871",
   "metadata": {
    "papermill": {
     "duration": 0.011984,
     "end_time": "2025-08-05T14:51:26.398547",
     "exception": false,
     "start_time": "2025-08-05T14:51:26.386563",
     "status": "completed"
    },
    "tags": []
   },
   "source": [
    "Fairness\n",
    "Main fairness target: Equalized Odds. Seems to be a better fit than equal opportunity, since we're not only interested in Y = 1. Seems to be a better fit than demographic parity, since we also care about accuracy, not just equal distribution of preds.\n",
    "\n",
    "Pick column for computation of fairness metrics\n",
    "\n",
    "Performance\n",
    "Overall performance measures, most interesting in relation to the measures split by group below"
   ]
  },
  {
   "cell_type": "code",
   "execution_count": 61,
   "id": "c4e067c6",
   "metadata": {
    "execution": {
     "iopub.execute_input": "2025-08-05T14:51:26.428266Z",
     "iopub.status.busy": "2025-08-05T14:51:26.427921Z",
     "iopub.status.idle": "2025-08-05T14:51:26.435563Z",
     "shell.execute_reply": "2025-08-05T14:51:26.434796Z"
    },
    "papermill": {
     "duration": 0.022746,
     "end_time": "2025-08-05T14:51:26.437023",
     "exception": false,
     "start_time": "2025-08-05T14:51:26.414277",
     "status": "completed"
    },
    "tags": []
   },
   "outputs": [
    {
     "data": {
      "text/plain": [
       "accuracy                   0.197693\n",
       "balanced accuracy          0.531513\n",
       "f1                         0.238706\n",
       "precision                  0.135895\n",
       "false positive rate        0.917509\n",
       "false negative rate        0.019465\n",
       "selection rate             0.925594\n",
       "count                  89710.000000\n",
       "dtype: float64"
      ]
     },
     "execution_count": 61,
     "metadata": {},
     "output_type": "execute_result"
    }
   ],
   "source": [
    "metric_frame.overall"
   ]
  },
  {
   "cell_type": "markdown",
   "id": "e968fe9d",
   "metadata": {
    "papermill": {
     "duration": 0.02121,
     "end_time": "2025-08-05T14:51:26.471033",
     "exception": false,
     "start_time": "2025-08-05T14:51:26.449823",
     "status": "completed"
    },
    "tags": []
   },
   "source": [
    "By Group"
   ]
  },
  {
   "cell_type": "code",
   "execution_count": 62,
   "id": "ec325bce",
   "metadata": {
    "execution": {
     "iopub.execute_input": "2025-08-05T14:51:26.522175Z",
     "iopub.status.busy": "2025-08-05T14:51:26.521665Z",
     "iopub.status.idle": "2025-08-05T14:51:26.540131Z",
     "shell.execute_reply": "2025-08-05T14:51:26.538907Z"
    },
    "papermill": {
     "duration": 0.045842,
     "end_time": "2025-08-05T14:51:26.542057",
     "exception": false,
     "start_time": "2025-08-05T14:51:26.496215",
     "status": "completed"
    },
    "tags": []
   },
   "outputs": [
    {
     "data": {
      "text/html": [
       "<div>\n",
       "<style scoped>\n",
       "    .dataframe tbody tr th:only-of-type {\n",
       "        vertical-align: middle;\n",
       "    }\n",
       "\n",
       "    .dataframe tbody tr th {\n",
       "        vertical-align: top;\n",
       "    }\n",
       "\n",
       "    .dataframe thead th {\n",
       "        text-align: right;\n",
       "    }\n",
       "</style>\n",
       "<table border=\"1\" class=\"dataframe\">\n",
       "  <thead>\n",
       "    <tr style=\"text-align: right;\">\n",
       "      <th></th>\n",
       "      <th>accuracy</th>\n",
       "      <th>balanced accuracy</th>\n",
       "      <th>f1</th>\n",
       "      <th>precision</th>\n",
       "      <th>false positive rate</th>\n",
       "      <th>false negative rate</th>\n",
       "      <th>selection rate</th>\n",
       "      <th>count</th>\n",
       "    </tr>\n",
       "    <tr>\n",
       "      <th>majmin</th>\n",
       "      <th></th>\n",
       "      <th></th>\n",
       "      <th></th>\n",
       "      <th></th>\n",
       "      <th></th>\n",
       "      <th></th>\n",
       "      <th></th>\n",
       "      <th></th>\n",
       "    </tr>\n",
       "  </thead>\n",
       "  <tbody>\n",
       "    <tr>\n",
       "      <th>majority</th>\n",
       "      <td>0.186497</td>\n",
       "      <td>0.527932</td>\n",
       "      <td>0.243723</td>\n",
       "      <td>0.138928</td>\n",
       "      <td>0.936149</td>\n",
       "      <td>0.007987</td>\n",
       "      <td>0.94353</td>\n",
       "      <td>69170.0</td>\n",
       "    </tr>\n",
       "    <tr>\n",
       "      <th>minority</th>\n",
       "      <td>0.235394</td>\n",
       "      <td>0.540150</td>\n",
       "      <td>0.220170</td>\n",
       "      <td>0.124754</td>\n",
       "      <td>0.855932</td>\n",
       "      <td>0.063767</td>\n",
       "      <td>0.86519</td>\n",
       "      <td>20540.0</td>\n",
       "    </tr>\n",
       "  </tbody>\n",
       "</table>\n",
       "</div>"
      ],
      "text/plain": [
       "          accuracy  balanced accuracy        f1  precision  \\\n",
       "majmin                                                       \n",
       "majority  0.186497           0.527932  0.243723   0.138928   \n",
       "minority  0.235394           0.540150  0.220170   0.124754   \n",
       "\n",
       "          false positive rate  false negative rate  selection rate    count  \n",
       "majmin                                                                       \n",
       "majority             0.936149             0.007987         0.94353  69170.0  \n",
       "minority             0.855932             0.063767         0.86519  20540.0  "
      ]
     },
     "execution_count": 62,
     "metadata": {},
     "output_type": "execute_result"
    }
   ],
   "source": [
    "metric_frame.by_group"
   ]
  },
  {
   "cell_type": "code",
   "execution_count": 63,
   "id": "a9ddbe63",
   "metadata": {
    "execution": {
     "iopub.execute_input": "2025-08-05T14:51:26.594305Z",
     "iopub.status.busy": "2025-08-05T14:51:26.593734Z",
     "iopub.status.idle": "2025-08-05T14:51:29.053317Z",
     "shell.execute_reply": "2025-08-05T14:51:29.052592Z"
    },
    "papermill": {
     "duration": 2.487939,
     "end_time": "2025-08-05T14:51:29.054616",
     "exception": false,
     "start_time": "2025-08-05T14:51:26.566677",
     "status": "completed"
    },
    "tags": []
   },
   "outputs": [
    {
     "data": {
      "text/plain": [
       "array([[<Axes: title={'center': 'accuracy'}, xlabel='majmin'>,\n",
       "        <Axes: title={'center': 'balanced accuracy'}, xlabel='majmin'>,\n",
       "        <Axes: title={'center': 'f1'}, xlabel='majmin'>],\n",
       "       [<Axes: title={'center': 'precision'}, xlabel='majmin'>,\n",
       "        <Axes: title={'center': 'false positive rate'}, xlabel='majmin'>,\n",
       "        <Axes: title={'center': 'false negative rate'}, xlabel='majmin'>],\n",
       "       [<Axes: title={'center': 'selection rate'}, xlabel='majmin'>,\n",
       "        <Axes: title={'center': 'count'}, xlabel='majmin'>,\n",
       "        <Axes: xlabel='majmin'>]], dtype=object)"
      ]
     },
     "execution_count": 63,
     "metadata": {},
     "output_type": "execute_result"
    },
    {
     "data": {
      "image/png": "[encoded data removed]",
      "text/plain": [
       "<Figure size 1200x800 with 9 Axes>"
      ]
     },
     "metadata": {},
     "output_type": "display_data"
    }
   ],
   "source": [
    "# In a graphic\n",
    "metric_frame.by_group.plot.bar(\n",
    "    subplots=True,\n",
    "    layout=[3, 3],\n",
    "    legend=False,\n",
    "    figsize=[12, 8],\n",
    "    title=\"Show all metrics\",\n",
    ")"
   ]
  },
  {
   "cell_type": "markdown",
   "id": "f57a0bac",
   "metadata": {
    "papermill": {
     "duration": 0.024845,
     "end_time": "2025-08-05T14:51:29.093080",
     "exception": false,
     "start_time": "2025-08-05T14:51:29.068235",
     "status": "completed"
    },
    "tags": []
   },
   "source": [
    "# Final Output"
   ]
  },
  {
   "cell_type": "code",
   "execution_count": 64,
   "id": "96d280a3",
   "metadata": {
    "execution": {
     "iopub.execute_input": "2025-08-05T14:51:29.144728Z",
     "iopub.status.busy": "2025-08-05T14:51:29.144131Z",
     "iopub.status.idle": "2025-08-05T14:51:29.151972Z",
     "shell.execute_reply": "2025-08-05T14:51:29.150923Z"
    },
    "papermill": {
     "duration": 0.034826,
     "end_time": "2025-08-05T14:51:29.153343",
     "exception": false,
     "start_time": "2025-08-05T14:51:29.118517",
     "status": "completed"
    },
    "tags": []
   },
   "outputs": [
    {
     "data": {
      "text/plain": [
       "4"
      ]
     },
     "execution_count": 64,
     "metadata": {},
     "output_type": "execute_result"
    }
   ],
   "source": [
    "sub_universes = universe_analysis.generate_sub_universes()\n",
    "len(sub_universes)"
   ]
  },
  {
   "cell_type": "code",
   "execution_count": 65,
   "id": "92adf7ba",
   "metadata": {
    "execution": {
     "iopub.execute_input": "2025-08-05T14:51:29.203404Z",
     "iopub.status.busy": "2025-08-05T14:51:29.203001Z",
     "iopub.status.idle": "2025-08-05T14:51:29.219174Z",
     "shell.execute_reply": "2025-08-05T14:51:29.218079Z"
    },
    "papermill": {
     "duration": 0.042439,
     "end_time": "2025-08-05T14:51:29.221133",
     "exception": false,
     "start_time": "2025-08-05T14:51:29.178694",
     "status": "completed"
    },
    "tags": []
   },
   "outputs": [],
   "source": [
    "def filter_sub_universe_data(sub_universe, org_test):\n",
    "    # Keep all rows — no filtering\n",
    "    keep_rows_mask = np.ones(org_test.shape[0], dtype=bool)\n",
    "\n",
    "    print(f\"[INFO] Keeping all rows: {keep_rows_mask.sum()} rows retained.\")\n",
    "    return keep_rows_mask"
   ]
  },
  {
   "cell_type": "code",
   "execution_count": 66,
   "id": "4a759155",
   "metadata": {
    "execution": {
     "iopub.execute_input": "2025-08-05T14:51:29.275499Z",
     "iopub.status.busy": "2025-08-05T14:51:29.275096Z",
     "iopub.status.idle": "2025-08-05T14:51:37.410710Z",
     "shell.execute_reply": "2025-08-05T14:51:37.410003Z"
    },
    "papermill": {
     "duration": 8.162955,
     "end_time": "2025-08-05T14:51:37.411951",
     "exception": false,
     "start_time": "2025-08-05T14:51:29.248996",
     "status": "completed"
    },
    "tags": []
   },
   "outputs": [
    {
     "name": "stdout",
     "output_type": "stream",
     "text": [
      "Stopping execution_time clock.\n",
      "[INFO] Keeping all rows: 89710 rows retained.\n"
     ]
    },
    {
     "name": "stdout",
     "output_type": "stream",
     "text": [
      "[INFO] Keeping all rows: 89710 rows retained.\n"
     ]
    },
    {
     "name": "stdout",
     "output_type": "stream",
     "text": [
      "[INFO] Keeping all rows: 89710 rows retained.\n"
     ]
    },
    {
     "name": "stdout",
     "output_type": "stream",
     "text": [
      "[INFO] Keeping all rows: 89710 rows retained.\n"
     ]
    },
    {
     "data": {
      "text/html": [
       "<div>\n",
       "<style scoped>\n",
       "    .dataframe tbody tr th:only-of-type {\n",
       "        vertical-align: middle;\n",
       "    }\n",
       "\n",
       "    .dataframe tbody tr th {\n",
       "        vertical-align: top;\n",
       "    }\n",
       "\n",
       "    .dataframe thead th {\n",
       "        text-align: right;\n",
       "    }\n",
       "</style>\n",
       "<table border=\"1\" class=\"dataframe\">\n",
       "  <thead>\n",
       "    <tr style=\"text-align: right;\">\n",
       "      <th></th>\n",
       "      <th>run_no</th>\n",
       "      <th>universe_id</th>\n",
       "      <th>universe_settings</th>\n",
       "      <th>execution_time</th>\n",
       "      <th>test_size_n</th>\n",
       "      <th>test_size_frac</th>\n",
       "      <th>fair_main_equalized_odds_difference</th>\n",
       "      <th>fair_main_equalized_odds_ratio</th>\n",
       "      <th>fair_main_demographic_parity_difference</th>\n",
       "      <th>fair_main_demographic_parity_ratio</th>\n",
       "      <th>...</th>\n",
       "      <th>perf_grp_precision_0</th>\n",
       "      <th>perf_grp_precision_1</th>\n",
       "      <th>perf_grp_false positive rate_0</th>\n",
       "      <th>perf_grp_false positive rate_1</th>\n",
       "      <th>perf_grp_false negative rate_0</th>\n",
       "      <th>perf_grp_false negative rate_1</th>\n",
       "      <th>perf_grp_selection rate_0</th>\n",
       "      <th>perf_grp_selection rate_1</th>\n",
       "      <th>perf_grp_count_0</th>\n",
       "      <th>perf_grp_count_1</th>\n",
       "    </tr>\n",
       "  </thead>\n",
       "  <tbody>\n",
       "    <tr>\n",
       "      <th>0</th>\n",
       "      <td>15</td>\n",
       "      <td>100a0dd512f2da5bcc2c30a16f9e78a8</td>\n",
       "      <td>{\"cutoff\": \"quantile_0.1\", \"eval_fairness_grou...</td>\n",
       "      <td>43.429462</td>\n",
       "      <td>89710</td>\n",
       "      <td>1.0</td>\n",
       "      <td>0.080216</td>\n",
       "      <td>0.914312</td>\n",
       "      <td>0.078341</td>\n",
       "      <td>0.916971</td>\n",
       "      <td>...</td>\n",
       "      <td>NaN</td>\n",
       "      <td>NaN</td>\n",
       "      <td>NaN</td>\n",
       "      <td>NaN</td>\n",
       "      <td>NaN</td>\n",
       "      <td>NaN</td>\n",
       "      <td>NaN</td>\n",
       "      <td>NaN</td>\n",
       "      <td>NaN</td>\n",
       "      <td>NaN</td>\n",
       "    </tr>\n",
       "    <tr>\n",
       "      <th>0</th>\n",
       "      <td>15</td>\n",
       "      <td>100a0dd512f2da5bcc2c30a16f9e78a8</td>\n",
       "      <td>{\"cutoff\": \"quantile_0.1\", \"eval_fairness_grou...</td>\n",
       "      <td>43.429462</td>\n",
       "      <td>89710</td>\n",
       "      <td>1.0</td>\n",
       "      <td>0.080216</td>\n",
       "      <td>0.914312</td>\n",
       "      <td>0.078341</td>\n",
       "      <td>0.916971</td>\n",
       "      <td>...</td>\n",
       "      <td>0.124754</td>\n",
       "      <td>0.138928</td>\n",
       "      <td>0.855932</td>\n",
       "      <td>0.936149</td>\n",
       "      <td>0.063767</td>\n",
       "      <td>0.007987</td>\n",
       "      <td>0.865190</td>\n",
       "      <td>0.943530</td>\n",
       "      <td>20540.0</td>\n",
       "      <td>69170.0</td>\n",
       "    </tr>\n",
       "    <tr>\n",
       "      <th>0</th>\n",
       "      <td>15</td>\n",
       "      <td>100a0dd512f2da5bcc2c30a16f9e78a8</td>\n",
       "      <td>{\"cutoff\": \"quantile_0.25\", \"eval_fairness_gro...</td>\n",
       "      <td>43.429462</td>\n",
       "      <td>89710</td>\n",
       "      <td>1.0</td>\n",
       "      <td>0.099986</td>\n",
       "      <td>0.874537</td>\n",
       "      <td>0.100441</td>\n",
       "      <td>0.874027</td>\n",
       "      <td>...</td>\n",
       "      <td>NaN</td>\n",
       "      <td>NaN</td>\n",
       "      <td>NaN</td>\n",
       "      <td>NaN</td>\n",
       "      <td>NaN</td>\n",
       "      <td>NaN</td>\n",
       "      <td>NaN</td>\n",
       "      <td>NaN</td>\n",
       "      <td>NaN</td>\n",
       "      <td>NaN</td>\n",
       "    </tr>\n",
       "    <tr>\n",
       "      <th>0</th>\n",
       "      <td>15</td>\n",
       "      <td>100a0dd512f2da5bcc2c30a16f9e78a8</td>\n",
       "      <td>{\"cutoff\": \"quantile_0.25\", \"eval_fairness_gro...</td>\n",
       "      <td>43.429462</td>\n",
       "      <td>89710</td>\n",
       "      <td>1.0</td>\n",
       "      <td>0.099986</td>\n",
       "      <td>0.874537</td>\n",
       "      <td>0.100441</td>\n",
       "      <td>0.874027</td>\n",
       "      <td>...</td>\n",
       "      <td>0.142448</td>\n",
       "      <td>0.159272</td>\n",
       "      <td>0.675490</td>\n",
       "      <td>0.772397</td>\n",
       "      <td>0.138936</td>\n",
       "      <td>0.038950</td>\n",
       "      <td>0.696884</td>\n",
       "      <td>0.797325</td>\n",
       "      <td>20540.0</td>\n",
       "      <td>69170.0</td>\n",
       "    </tr>\n",
       "  </tbody>\n",
       "</table>\n",
       "<p>4 rows × 50 columns</p>\n",
       "</div>"
      ],
      "text/plain": [
       "  run_no                       universe_id  \\\n",
       "0     15  100a0dd512f2da5bcc2c30a16f9e78a8   \n",
       "0     15  100a0dd512f2da5bcc2c30a16f9e78a8   \n",
       "0     15  100a0dd512f2da5bcc2c30a16f9e78a8   \n",
       "0     15  100a0dd512f2da5bcc2c30a16f9e78a8   \n",
       "\n",
       "                                   universe_settings  execution_time  \\\n",
       "0  {\"cutoff\": \"quantile_0.1\", \"eval_fairness_grou...       43.429462   \n",
       "0  {\"cutoff\": \"quantile_0.1\", \"eval_fairness_grou...       43.429462   \n",
       "0  {\"cutoff\": \"quantile_0.25\", \"eval_fairness_gro...       43.429462   \n",
       "0  {\"cutoff\": \"quantile_0.25\", \"eval_fairness_gro...       43.429462   \n",
       "\n",
       "   test_size_n  test_size_frac  fair_main_equalized_odds_difference  \\\n",
       "0        89710             1.0                             0.080216   \n",
       "0        89710             1.0                             0.080216   \n",
       "0        89710             1.0                             0.099986   \n",
       "0        89710             1.0                             0.099986   \n",
       "\n",
       "   fair_main_equalized_odds_ratio  fair_main_demographic_parity_difference  \\\n",
       "0                        0.914312                                 0.078341   \n",
       "0                        0.914312                                 0.078341   \n",
       "0                        0.874537                                 0.100441   \n",
       "0                        0.874537                                 0.100441   \n",
       "\n",
       "   fair_main_demographic_parity_ratio  ...  perf_grp_precision_0  \\\n",
       "0                            0.916971  ...                   NaN   \n",
       "0                            0.916971  ...              0.124754   \n",
       "0                            0.874027  ...                   NaN   \n",
       "0                            0.874027  ...              0.142448   \n",
       "\n",
       "   perf_grp_precision_1  perf_grp_false positive rate_0  \\\n",
       "0                   NaN                             NaN   \n",
       "0              0.138928                        0.855932   \n",
       "0                   NaN                             NaN   \n",
       "0              0.159272                        0.675490   \n",
       "\n",
       "   perf_grp_false positive rate_1  perf_grp_false negative rate_0  \\\n",
       "0                             NaN                             NaN   \n",
       "0                        0.936149                        0.063767   \n",
       "0                             NaN                             NaN   \n",
       "0                        0.772397                        0.138936   \n",
       "\n",
       "   perf_grp_false negative rate_1  perf_grp_selection rate_0  \\\n",
       "0                             NaN                        NaN   \n",
       "0                        0.007987                   0.865190   \n",
       "0                             NaN                        NaN   \n",
       "0                        0.038950                   0.696884   \n",
       "\n",
       "   perf_grp_selection rate_1  perf_grp_count_0  perf_grp_count_1  \n",
       "0                        NaN               NaN               NaN  \n",
       "0                   0.943530           20540.0           69170.0  \n",
       "0                        NaN               NaN               NaN  \n",
       "0                   0.797325           20540.0           69170.0  \n",
       "\n",
       "[4 rows x 50 columns]"
      ]
     },
     "execution_count": 66,
     "metadata": {},
     "output_type": "execute_result"
    }
   ],
   "source": [
    "final_output = universe_analysis.generate_final_output(\n",
    "    y_pred_prob=probs_test,\n",
    "    y_test=y_true,\n",
    "    org_test=org_test,\n",
    "    filter_data=filter_sub_universe_data,\n",
    "    cp_metrics_df=cp_metrics_df,\n",
    "    save=True,\n",
    ")\n",
    "final_output"
   ]
  }
 ],
 "metadata": {
  "celltoolbar": "Tags",
  "kernelspec": {
   "display_name": "Python (CMA Fairness)",
   "language": "python",
   "name": "cma_fair_env"
  },
  "language_info": {
   "codemirror_mode": {
    "name": "ipython",
    "version": 3
   },
   "file_extension": ".py",
   "mimetype": "text/x-python",
   "name": "python",
   "nbconvert_exporter": "python",
   "pygments_lexer": "ipython3",
   "version": "3.10.12"
  },
  "papermill": {
   "default_parameters": {},
   "duration": 55.481736,
   "end_time": "2025-08-05T14:51:38.045005",
   "environment_variables": {},
   "exception": null,
   "input_path": "universe_analysis.ipynb",
   "output_path": "output/runs/15/notebooks/m_15-100a0dd512f2da5bcc2c30a16f9e78a8.ipynb",
   "parameters": {
    "output_dir": "output",
    "run_no": "15",
    "seed": "2023",
    "universe": "{\"cutoff\": [\"quantile_0.1\", \"quantile_0.25\"], \"eval_fairness_grouping\": [\"majority-minority\", \"nationality-all\"], \"exclude_features\": \"nationality\", \"exclude_subgroups\": \"keep-all\", \"model\": \"rf\", \"scale\": \"scale\", \"training_size\": \"25k\", \"training_year\": \"2012_14\"}",
    "universe_id": "100a0dd512f2da5bcc2c30a16f9e78a8"
   },
   "start_time": "2025-08-05T14:50:42.563269",
   "version": "2.6.0"
  }
 },
 "nbformat": 4,
 "nbformat_minor": 5
}