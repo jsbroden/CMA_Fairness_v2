{
 "cells": [
  {
   "cell_type": "code",
   "execution_count": 1,
   "id": "f159f837-637b-42ba-96b5-ec9a68c44524",
   "metadata": {
    "execution": {
     "iopub.execute_input": "2025-08-05T15:39:27.801031Z",
     "iopub.status.busy": "2025-08-05T15:39:27.800583Z",
     "iopub.status.idle": "2025-08-05T15:39:27.815323Z",
     "shell.execute_reply": "2025-08-05T15:39:27.814362Z"
    },
    "papermill": {
     "duration": 0.02607,
     "end_time": "2025-08-05T15:39:27.816710",
     "exception": false,
     "start_time": "2025-08-05T15:39:27.790640",
     "status": "completed"
    },
    "tags": []
   },
   "outputs": [
    {
     "name": "stdout",
     "output_type": "stream",
     "text": [
      "/dss/dsshome1/0C/ra93lal2/cma/CMA_Fairness_v2\n"
     ]
    },
    {
     "name": "stderr",
     "output_type": "stream",
     "text": [
      "/dss/dsshome1/0C/ra93lal2/.local/share/virtualenvs/CMA_Fairness_v2-3j10GkSs/lib/python3.10/site-packages/IPython/core/magics/osm.py:393: UserWarning: This is now an optional IPython functionality, using bookmarks requires you to install the `pickleshare` library.\n",
      "  bkms = self.shell.db.get('bookmarks', {})\n",
      "/dss/dsshome1/0C/ra93lal2/.local/share/virtualenvs/CMA_Fairness_v2-3j10GkSs/lib/python3.10/site-packages/IPython/core/magics/osm.py:417: UserWarning: This is now an optional IPython functionality, setting dhist requires you to install the `pickleshare` library.\n",
      "  self.shell.db['dhist'] = compress_dhist(dhist)[-100:]\n"
     ]
    }
   ],
   "source": [
    "%cd ~/cma/CMA_Fairness_v2"
   ]
  },
  {
   "cell_type": "markdown",
   "id": "de2603b9",
   "metadata": {
    "papermill": {
     "duration": 0.01675,
     "end_time": "2025-08-05T15:39:27.851488",
     "exception": false,
     "start_time": "2025-08-05T15:39:27.834738",
     "status": "completed"
    },
    "tags": []
   },
   "source": [
    "The following cell holds the definition of our parameters, these values can be overriden by rendering the with e.g. the following command:\n",
    "\n",
    "papermill -p alpha 0.2 -p ratio 0.3 universe_analysis.ipynb output/test_run.ipynb"
   ]
  },
  {
   "cell_type": "code",
   "execution_count": 2,
   "id": "a80968a0-40bb-4fa9-85ef-2d5eefb01975",
   "metadata": {
    "execution": {
     "iopub.execute_input": "2025-08-05T15:39:27.886132Z",
     "iopub.status.busy": "2025-08-05T15:39:27.885506Z",
     "iopub.status.idle": "2025-08-05T15:39:27.891393Z",
     "shell.execute_reply": "2025-08-05T15:39:27.890219Z"
    },
    "papermill": {
     "duration": 0.026084,
     "end_time": "2025-08-05T15:39:27.893098",
     "exception": false,
     "start_time": "2025-08-05T15:39:27.867014",
     "status": "completed"
    },
    "tags": []
   },
   "outputs": [
    {
     "name": "stdout",
     "output_type": "stream",
     "text": [
      "Current working directory: /dss/dsshome1/0C/ra93lal2/cma/CMA_Fairness_v2\n"
     ]
    }
   ],
   "source": [
    "import os\n",
    "print(\"Current working directory:\", os.getcwd())"
   ]
  },
  {
   "cell_type": "code",
   "execution_count": 3,
   "id": "2dce4c03",
   "metadata": {
    "execution": {
     "iopub.execute_input": "2025-08-05T15:39:27.929425Z",
     "iopub.status.busy": "2025-08-05T15:39:27.928847Z",
     "iopub.status.idle": "2025-08-05T15:39:27.935457Z",
     "shell.execute_reply": "2025-08-05T15:39:27.934308Z"
    },
    "papermill": {
     "duration": 0.026203,
     "end_time": "2025-08-05T15:39:27.937163",
     "exception": false,
     "start_time": "2025-08-05T15:39:27.910960",
     "status": "completed"
    },
    "tags": [
     "parameters"
    ]
   },
   "outputs": [],
   "source": [
    "run_no = 0\n",
    "universe_id = \"test\"\n",
    "universe = {\n",
    "    \"training_size\": \"25k\", # \"25k\", \"5k\", \"1k\"\n",
    "    \"training_year\": \"2014\", # \"2014\", \"2012_14\", \"2010_14\"\n",
    "    \"scale\": \"scale\", # \"scale\", \"do-not-scale\",\n",
    "    \"model\": \"elasticnet\", # \"logreg\", \"penalized_logreg\", \"rf\", \"gbm\", \"elasticnet\"\n",
    "    \"cutoff\": [\"quantile_0.15\", \"quantile_0.30\"],\n",
    "    \"exclude_features\": \"age\", # \"none\", \"nationality\", \"sex\", \"nationality-sex\", \"age\"\n",
    "    \"exclude_subgroups\": \"keep-all\", # \"keep-all\", \"drop-non-german\"\n",
    "    \"eval_fairness_grouping\": [\"majority-minority\", \"nationality-all\"]\n",
    "}\n",
    "\n",
    "output_dir=\"./output\"\n",
    "seed=0"
   ]
  },
  {
   "cell_type": "code",
   "execution_count": 4,
   "id": "c683b2b7",
   "metadata": {
    "execution": {
     "iopub.execute_input": "2025-08-05T15:39:27.973148Z",
     "iopub.status.busy": "2025-08-05T15:39:27.972616Z",
     "iopub.status.idle": "2025-08-05T15:39:27.978354Z",
     "shell.execute_reply": "2025-08-05T15:39:27.977163Z"
    },
    "papermill": {
     "duration": 0.025526,
     "end_time": "2025-08-05T15:39:27.980137",
     "exception": false,
     "start_time": "2025-08-05T15:39:27.954611",
     "status": "completed"
    },
    "tags": [
     "injected-parameters"
    ]
   },
   "outputs": [],
   "source": [
    "# Parameters\n",
    "universe_id = \"77ccf370906521224baaf2bf0c594bc7\"\n",
    "run_no = \"15\"\n",
    "universe = \"{\\\"cutoff\\\": [\\\"quantile_0.1\\\", \\\"quantile_0.25\\\"], \\\"eval_fairness_grouping\\\": [\\\"majority-minority\\\", \\\"nationality-all\\\"], \\\"exclude_features\\\": \\\"nationality\\\", \\\"exclude_subgroups\\\": \\\"keep-all\\\", \\\"model\\\": \\\"elasticnet\\\", \\\"scale\\\": \\\"scale\\\", \\\"training_size\\\": \\\"5k\\\", \\\"training_year\\\": \\\"2012_14\\\"}\"\n",
    "output_dir = \"output\"\n",
    "seed = \"2023\"\n"
   ]
  },
  {
   "cell_type": "code",
   "execution_count": 5,
   "id": "1650acaf",
   "metadata": {
    "execution": {
     "iopub.execute_input": "2025-08-05T15:39:28.016486Z",
     "iopub.status.busy": "2025-08-05T15:39:28.015998Z",
     "iopub.status.idle": "2025-08-05T15:39:28.021114Z",
     "shell.execute_reply": "2025-08-05T15:39:28.020044Z"
    },
    "papermill": {
     "duration": 0.024878,
     "end_time": "2025-08-05T15:39:28.022997",
     "exception": false,
     "start_time": "2025-08-05T15:39:27.998119",
     "status": "completed"
    },
    "tags": []
   },
   "outputs": [],
   "source": [
    "import json\n",
    "if isinstance(universe, str):\n",
    "    universe = json.loads(universe)"
   ]
  },
  {
   "cell_type": "code",
   "execution_count": 6,
   "id": "16620c48",
   "metadata": {
    "execution": {
     "iopub.execute_input": "2025-08-05T15:39:28.059500Z",
     "iopub.status.busy": "2025-08-05T15:39:28.058749Z",
     "iopub.status.idle": "2025-08-05T15:39:28.104444Z",
     "shell.execute_reply": "2025-08-05T15:39:28.103566Z"
    },
    "papermill": {
     "duration": 0.065795,
     "end_time": "2025-08-05T15:39:28.106223",
     "exception": false,
     "start_time": "2025-08-05T15:39:28.040428",
     "status": "completed"
    },
    "tags": []
   },
   "outputs": [],
   "source": [
    "# Auto-reload the custom package\n",
    "%load_ext autoreload\n",
    "%autoreload 1\n",
    "%aimport fairness_multiverse"
   ]
  },
  {
   "cell_type": "code",
   "execution_count": 7,
   "id": "01c5c9f3",
   "metadata": {
    "execution": {
     "iopub.execute_input": "2025-08-05T15:39:28.142870Z",
     "iopub.status.busy": "2025-08-05T15:39:28.142286Z",
     "iopub.status.idle": "2025-08-05T15:39:29.702908Z",
     "shell.execute_reply": "2025-08-05T15:39:29.702103Z"
    },
    "papermill": {
     "duration": 1.580439,
     "end_time": "2025-08-05T15:39:29.704402",
     "exception": false,
     "start_time": "2025-08-05T15:39:28.123963",
     "status": "completed"
    },
    "tags": []
   },
   "outputs": [],
   "source": [
    "from fairness_multiverse.universe import UniverseAnalysis\n",
    "\n",
    "universe_analysis = UniverseAnalysis(\n",
    "    run_no = run_no,\n",
    "    universe_id = universe_id,\n",
    "    universe = universe,\n",
    "    output_dir=output_dir,\n",
    ")"
   ]
  },
  {
   "cell_type": "code",
   "execution_count": 8,
   "id": "106241f5",
   "metadata": {
    "execution": {
     "iopub.execute_input": "2025-08-05T15:39:29.722928Z",
     "iopub.status.busy": "2025-08-05T15:39:29.722623Z",
     "iopub.status.idle": "2025-08-05T15:39:29.728813Z",
     "shell.execute_reply": "2025-08-05T15:39:29.728086Z"
    },
    "papermill": {
     "duration": 0.016972,
     "end_time": "2025-08-05T15:39:29.730397",
     "exception": false,
     "start_time": "2025-08-05T15:39:29.713425",
     "status": "completed"
    },
    "tags": []
   },
   "outputs": [
    {
     "name": "stdout",
     "output_type": "stream",
     "text": [
      "Using Seed: 2023\n"
     ]
    }
   ],
   "source": [
    "import numpy as np\n",
    "parsed_seed = int(seed)\n",
    "np.random.seed(parsed_seed)\n",
    "print(f\"Using Seed: {parsed_seed}\")"
   ]
  },
  {
   "cell_type": "markdown",
   "id": "e0ebdc57",
   "metadata": {
    "papermill": {
     "duration": 0.008522,
     "end_time": "2025-08-05T15:39:29.747850",
     "exception": false,
     "start_time": "2025-08-05T15:39:29.739328",
     "status": "completed"
    },
    "tags": []
   },
   "source": [
    "# Loading Data"
   ]
  },
  {
   "cell_type": "code",
   "execution_count": 9,
   "id": "f0496b8a",
   "metadata": {
    "execution": {
     "iopub.execute_input": "2025-08-05T15:39:29.766048Z",
     "iopub.status.busy": "2025-08-05T15:39:29.765502Z",
     "iopub.status.idle": "2025-08-05T15:39:40.097724Z",
     "shell.execute_reply": "2025-08-05T15:39:40.096754Z"
    },
    "papermill": {
     "duration": 10.343281,
     "end_time": "2025-08-05T15:39:40.099485",
     "exception": false,
     "start_time": "2025-08-05T15:39:29.756204",
     "status": "completed"
    },
    "tags": []
   },
   "outputs": [
    {
     "name": "stdout",
     "output_type": "stream",
     "text": [
      "Loading SIAB data from cache: data/siab_cached.csv.gz\n"
     ]
    },
    {
     "name": "stdout",
     "output_type": "stream",
     "text": [
      "(643690, 164)\n"
     ]
    }
   ],
   "source": [
    "from pathlib import Path\n",
    "import pandas as pd\n",
    "\n",
    "# File paths\n",
    "raw_file = Path(\"data/raw/siab.csv\")\n",
    "cache_file = Path(\"data/siab_cached.csv.gz\")\n",
    "\n",
    "# Ensure cache directory exists\n",
    "cache_file.parent.mkdir(parents=True, exist_ok=True)\n",
    "\n",
    "# Load with simple caching\n",
    "if cache_file.exists():\n",
    "    print(f\"Loading SIAB data from cache: {cache_file}\")\n",
    "    siab = pd.read_csv(cache_file, compression='gzip')\n",
    "else:\n",
    "    print(f\"Cache not found. Reading raw SIAB data: {raw_file}\")\n",
    "    siab = pd.read_csv(raw_file)\n",
    "    siab.to_csv(cache_file, index=False, compression='gzip')\n",
    "    print(f\"Cached SIAB data to: {cache_file}\")\n",
    "\n",
    "print(siab.shape)"
   ]
  },
  {
   "cell_type": "code",
   "execution_count": 10,
   "id": "db0ca512-5f53-4dba-abdb-a2888bca41ba",
   "metadata": {
    "execution": {
     "iopub.execute_input": "2025-08-05T15:39:40.143146Z",
     "iopub.status.busy": "2025-08-05T15:39:40.142616Z",
     "iopub.status.idle": "2025-08-05T15:39:40.148380Z",
     "shell.execute_reply": "2025-08-05T15:39:40.147183Z"
    },
    "papermill": {
     "duration": 0.029048,
     "end_time": "2025-08-05T15:39:40.150602",
     "exception": false,
     "start_time": "2025-08-05T15:39:40.121554",
     "status": "completed"
    },
    "tags": []
   },
   "outputs": [],
   "source": [
    "#siab"
   ]
  },
  {
   "cell_type": "markdown",
   "id": "997051c5-15bd-4b69-9786-c3001a3ce484",
   "metadata": {
    "papermill": {
     "duration": 0.019189,
     "end_time": "2025-08-05T15:39:40.190493",
     "exception": false,
     "start_time": "2025-08-05T15:39:40.171304",
     "status": "completed"
    },
    "tags": []
   },
   "source": [
    "# Splitting Data and Setting Training Data Size"
   ]
  },
  {
   "cell_type": "code",
   "execution_count": 11,
   "id": "aea9c6ef-6f46-42c8-85eb-5a62025c1508",
   "metadata": {
    "execution": {
     "iopub.execute_input": "2025-08-05T15:39:40.230620Z",
     "iopub.status.busy": "2025-08-05T15:39:40.230109Z",
     "iopub.status.idle": "2025-08-05T15:39:40.856089Z",
     "shell.execute_reply": "2025-08-05T15:39:40.855069Z"
    },
    "papermill": {
     "duration": 0.648342,
     "end_time": "2025-08-05T15:39:40.858048",
     "exception": false,
     "start_time": "2025-08-05T15:39:40.209706",
     "status": "completed"
    },
    "tags": []
   },
   "outputs": [],
   "source": [
    "from fairness_multiverse.universe import sample_by_year_size\n",
    "\n",
    "siab_train = sample_by_year_size(siab,\n",
    "                               training_year=universe[\"training_year\"],\n",
    "                               training_size=universe[\"training_size\"])"
   ]
  },
  {
   "cell_type": "code",
   "execution_count": 12,
   "id": "8d3afb32-789d-442c-8d5d-9f5aa8dd2eed",
   "metadata": {
    "execution": {
     "iopub.execute_input": "2025-08-05T15:39:40.894142Z",
     "iopub.status.busy": "2025-08-05T15:39:40.893584Z",
     "iopub.status.idle": "2025-08-05T15:39:40.898528Z",
     "shell.execute_reply": "2025-08-05T15:39:40.897631Z"
    },
    "papermill": {
     "duration": 0.025354,
     "end_time": "2025-08-05T15:39:40.900117",
     "exception": false,
     "start_time": "2025-08-05T15:39:40.874763",
     "status": "completed"
    },
    "tags": []
   },
   "outputs": [],
   "source": [
    "#siab_train.shape"
   ]
  },
  {
   "cell_type": "code",
   "execution_count": 13,
   "id": "d582db68-1a4c-47fb-84fc-08518dc1975a",
   "metadata": {
    "execution": {
     "iopub.execute_input": "2025-08-05T15:39:40.936324Z",
     "iopub.status.busy": "2025-08-05T15:39:40.935535Z",
     "iopub.status.idle": "2025-08-05T15:39:40.940468Z",
     "shell.execute_reply": "2025-08-05T15:39:40.939532Z"
    },
    "papermill": {
     "duration": 0.025181,
     "end_time": "2025-08-05T15:39:40.942869",
     "exception": false,
     "start_time": "2025-08-05T15:39:40.917688",
     "status": "completed"
    },
    "tags": []
   },
   "outputs": [],
   "source": [
    "#display(siab_train.groupby(\"year\").size())"
   ]
  },
  {
   "cell_type": "code",
   "execution_count": 14,
   "id": "a561edb4-d032-42cb-8256-22eac1111c64",
   "metadata": {
    "execution": {
     "iopub.execute_input": "2025-08-05T15:39:40.982752Z",
     "iopub.status.busy": "2025-08-05T15:39:40.982304Z",
     "iopub.status.idle": "2025-08-05T15:39:41.229732Z",
     "shell.execute_reply": "2025-08-05T15:39:41.228491Z"
    },
    "papermill": {
     "duration": 0.269086,
     "end_time": "2025-08-05T15:39:41.231886",
     "exception": false,
     "start_time": "2025-08-05T15:39:40.962800",
     "status": "completed"
    },
    "tags": []
   },
   "outputs": [],
   "source": [
    "#siab_train = siab_s[siab_s.year < 2015]\n",
    "siab_calib = siab[siab.year == 2015]\n",
    "siab_test = siab[siab.year == 2016]"
   ]
  },
  {
   "cell_type": "code",
   "execution_count": 15,
   "id": "472de16f-c3db-4916-846b-1f0de9cf1746",
   "metadata": {
    "execution": {
     "iopub.execute_input": "2025-08-05T15:39:41.272497Z",
     "iopub.status.busy": "2025-08-05T15:39:41.272030Z",
     "iopub.status.idle": "2025-08-05T15:39:41.279729Z",
     "shell.execute_reply": "2025-08-05T15:39:41.278844Z"
    },
    "papermill": {
     "duration": 0.027221,
     "end_time": "2025-08-05T15:39:41.281199",
     "exception": false,
     "start_time": "2025-08-05T15:39:41.253978",
     "status": "completed"
    },
    "tags": []
   },
   "outputs": [],
   "source": [
    "X_train = siab_train.iloc[:,4:164]\n",
    "y_train = siab_train.iloc[:, [3]]"
   ]
  },
  {
   "cell_type": "code",
   "execution_count": 16,
   "id": "828c96af-f43a-4ed6-ba47-8ac73a47d56c",
   "metadata": {
    "execution": {
     "iopub.execute_input": "2025-08-05T15:39:41.317959Z",
     "iopub.status.busy": "2025-08-05T15:39:41.317451Z",
     "iopub.status.idle": "2025-08-05T15:39:41.394983Z",
     "shell.execute_reply": "2025-08-05T15:39:41.393900Z"
    },
    "papermill": {
     "duration": 0.09896,
     "end_time": "2025-08-05T15:39:41.397085",
     "exception": false,
     "start_time": "2025-08-05T15:39:41.298125",
     "status": "completed"
    },
    "tags": []
   },
   "outputs": [],
   "source": [
    "X_calib = siab_calib.iloc[:,4:164]\n",
    "y_calib = siab_calib.iloc[:, [3]]"
   ]
  },
  {
   "cell_type": "code",
   "execution_count": 17,
   "id": "c34be9c3-6bd6-476e-acd3-845840e303be",
   "metadata": {
    "execution": {
     "iopub.execute_input": "2025-08-05T15:39:41.433157Z",
     "iopub.status.busy": "2025-08-05T15:39:41.432337Z",
     "iopub.status.idle": "2025-08-05T15:39:41.481713Z",
     "shell.execute_reply": "2025-08-05T15:39:41.480646Z"
    },
    "papermill": {
     "duration": 0.06951,
     "end_time": "2025-08-05T15:39:41.484047",
     "exception": false,
     "start_time": "2025-08-05T15:39:41.414537",
     "status": "completed"
    },
    "tags": []
   },
   "outputs": [],
   "source": [
    "X_test = siab_test.iloc[:,4:164]\n",
    "y_true = siab_test.iloc[:, [3]]"
   ]
  },
  {
   "cell_type": "code",
   "execution_count": 18,
   "id": "e6c733c5",
   "metadata": {
    "execution": {
     "iopub.execute_input": "2025-08-05T15:39:41.521008Z",
     "iopub.status.busy": "2025-08-05T15:39:41.520619Z",
     "iopub.status.idle": "2025-08-05T15:39:41.612728Z",
     "shell.execute_reply": "2025-08-05T15:39:41.611361Z"
    },
    "papermill": {
     "duration": 0.112098,
     "end_time": "2025-08-05T15:39:41.615109",
     "exception": false,
     "start_time": "2025-08-05T15:39:41.503011",
     "status": "completed"
    },
    "tags": []
   },
   "outputs": [],
   "source": [
    "# Auxiliary data needed downstream in the pipeline\n",
    "\n",
    "org_train = X_train.copy()\n",
    "org_test = X_test.copy()\n",
    "org_calib = X_calib.copy()"
   ]
  },
  {
   "cell_type": "markdown",
   "id": "0a4a1b33",
   "metadata": {
    "papermill": {
     "duration": 0.020283,
     "end_time": "2025-08-05T15:39:41.657007",
     "exception": false,
     "start_time": "2025-08-05T15:39:41.636724",
     "status": "completed"
    },
    "tags": []
   },
   "source": [
    "# Preprocessing Data"
   ]
  },
  {
   "cell_type": "code",
   "execution_count": 19,
   "id": "ca879031",
   "metadata": {
    "execution": {
     "iopub.execute_input": "2025-08-05T15:39:41.699294Z",
     "iopub.status.busy": "2025-08-05T15:39:41.698676Z",
     "iopub.status.idle": "2025-08-05T15:39:41.704712Z",
     "shell.execute_reply": "2025-08-05T15:39:41.703660Z"
    },
    "papermill": {
     "duration": 0.029343,
     "end_time": "2025-08-05T15:39:41.706649",
     "exception": false,
     "start_time": "2025-08-05T15:39:41.677306",
     "status": "completed"
    },
    "tags": []
   },
   "outputs": [],
   "source": [
    "# EXCLUDE PROTECTED FEATURES\n",
    "# ----------------------\n",
    "# \"exclude_features\": \"none\", # \"nationality\", \"sex\", \"nationality-sex\"\n",
    "\n",
    "excluded_features = universe[\"exclude_features\"].split(\"-\") # split, e.g.: \"nationality-sex\" -> [\"nationality\", \"sex\"]\n",
    "excluded_features_dictionary = {\n",
    "    \"nationality\": [\"maxdeutsch1\", \"maxdeutsch.Missing.\"],\n",
    "    \"sex\": [\"frau1\"],\n",
    "    \"age\": [\"age\"],\n",
    "}"
   ]
  },
  {
   "cell_type": "code",
   "execution_count": 20,
   "id": "b745ac60",
   "metadata": {
    "execution": {
     "iopub.execute_input": "2025-08-05T15:39:41.748743Z",
     "iopub.status.busy": "2025-08-05T15:39:41.748447Z",
     "iopub.status.idle": "2025-08-05T15:39:41.753542Z",
     "shell.execute_reply": "2025-08-05T15:39:41.752408Z"
    },
    "papermill": {
     "duration": 0.028018,
     "end_time": "2025-08-05T15:39:41.755368",
     "exception": false,
     "start_time": "2025-08-05T15:39:41.727350",
     "status": "completed"
    },
    "tags": []
   },
   "outputs": [],
   "source": [
    "# Code nice names to column names\n",
    "\n",
    "excluded_features_columns = [\n",
    "    excluded_features_dictionary[f] for f in excluded_features if len(f) > 0 and f != \"none\"\n",
    "]"
   ]
  },
  {
   "cell_type": "code",
   "execution_count": 21,
   "id": "f84f73a2",
   "metadata": {
    "execution": {
     "iopub.execute_input": "2025-08-05T15:39:41.797844Z",
     "iopub.status.busy": "2025-08-05T15:39:41.797546Z",
     "iopub.status.idle": "2025-08-05T15:39:41.803306Z",
     "shell.execute_reply": "2025-08-05T15:39:41.802342Z"
    },
    "papermill": {
     "duration": 0.028898,
     "end_time": "2025-08-05T15:39:41.805014",
     "exception": false,
     "start_time": "2025-08-05T15:39:41.776116",
     "status": "completed"
    },
    "tags": []
   },
   "outputs": [],
   "source": [
    "from utils import flatten_once\n",
    "\n",
    "excluded_features_columns = flatten_once(excluded_features_columns)"
   ]
  },
  {
   "cell_type": "code",
   "execution_count": 22,
   "id": "884dea22",
   "metadata": {
    "execution": {
     "iopub.execute_input": "2025-08-05T15:39:41.847411Z",
     "iopub.status.busy": "2025-08-05T15:39:41.847114Z",
     "iopub.status.idle": "2025-08-05T15:39:41.855846Z",
     "shell.execute_reply": "2025-08-05T15:39:41.854669Z"
    },
    "papermill": {
     "duration": 0.031853,
     "end_time": "2025-08-05T15:39:41.857706",
     "exception": false,
     "start_time": "2025-08-05T15:39:41.825853",
     "status": "completed"
    },
    "tags": []
   },
   "outputs": [
    {
     "name": "stdout",
     "output_type": "stream",
     "text": [
      "Dropping features: ['maxdeutsch1', 'maxdeutsch.Missing.']\n"
     ]
    }
   ],
   "source": [
    "if len(excluded_features_columns) > 0:\n",
    "    print(f\"Dropping features: {excluded_features_columns}\")\n",
    "    X_train.drop(excluded_features_columns, axis=1, inplace=True)"
   ]
  },
  {
   "cell_type": "code",
   "execution_count": 23,
   "id": "95ab8b16",
   "metadata": {
    "execution": {
     "iopub.execute_input": "2025-08-05T15:39:41.900978Z",
     "iopub.status.busy": "2025-08-05T15:39:41.900668Z",
     "iopub.status.idle": "2025-08-05T15:39:41.953659Z",
     "shell.execute_reply": "2025-08-05T15:39:41.952586Z"
    },
    "papermill": {
     "duration": 0.076312,
     "end_time": "2025-08-05T15:39:41.955484",
     "exception": false,
     "start_time": "2025-08-05T15:39:41.879172",
     "status": "completed"
    },
    "tags": []
   },
   "outputs": [
    {
     "name": "stdout",
     "output_type": "stream",
     "text": [
      "Dropping features: ['maxdeutsch1', 'maxdeutsch.Missing.']\n"
     ]
    }
   ],
   "source": [
    "if len(excluded_features_columns) > 0:\n",
    "    print(f\"Dropping features: {excluded_features_columns}\")\n",
    "    X_test.drop(excluded_features_columns, axis=1, inplace=True)"
   ]
  },
  {
   "cell_type": "code",
   "execution_count": 24,
   "id": "1853aaf5-fb9f-46cb-a2b5-8ea4ae2237e4",
   "metadata": {
    "execution": {
     "iopub.execute_input": "2025-08-05T15:39:41.991061Z",
     "iopub.status.busy": "2025-08-05T15:39:41.990332Z",
     "iopub.status.idle": "2025-08-05T15:39:42.043319Z",
     "shell.execute_reply": "2025-08-05T15:39:42.042193Z"
    },
    "papermill": {
     "duration": 0.072428,
     "end_time": "2025-08-05T15:39:42.045342",
     "exception": false,
     "start_time": "2025-08-05T15:39:41.972914",
     "status": "completed"
    },
    "tags": []
   },
   "outputs": [
    {
     "name": "stdout",
     "output_type": "stream",
     "text": [
      "Dropping features: ['maxdeutsch1', 'maxdeutsch.Missing.']\n"
     ]
    }
   ],
   "source": [
    "if len(excluded_features_columns) > 0:\n",
    "    print(f\"Dropping features: {excluded_features_columns}\")\n",
    "    X_calib.drop(excluded_features_columns, axis=1, inplace=True)"
   ]
  },
  {
   "cell_type": "code",
   "execution_count": 25,
   "id": "76c4dc6d",
   "metadata": {
    "execution": {
     "iopub.execute_input": "2025-08-05T15:39:42.090555Z",
     "iopub.status.busy": "2025-08-05T15:39:42.090240Z",
     "iopub.status.idle": "2025-08-05T15:39:42.095127Z",
     "shell.execute_reply": "2025-08-05T15:39:42.094142Z"
    },
    "papermill": {
     "duration": 0.028913,
     "end_time": "2025-08-05T15:39:42.097023",
     "exception": false,
     "start_time": "2025-08-05T15:39:42.068110",
     "status": "completed"
    },
    "tags": []
   },
   "outputs": [],
   "source": [
    "# EXCLUDE CERTAIN SUBGROUPS\n",
    "# ----------------------\n",
    "\n",
    "mode = universe.get(\"exclude_subgroups\", \"keep-all\") \n",
    "# Fetches the exclude_subgroups setting from the universe dict.\n",
    "# Defaults to \"keep-all\" if the key is missing."
   ]
  },
  {
   "cell_type": "code",
   "execution_count": 26,
   "id": "21994072",
   "metadata": {
    "execution": {
     "iopub.execute_input": "2025-08-05T15:39:42.140631Z",
     "iopub.status.busy": "2025-08-05T15:39:42.140338Z",
     "iopub.status.idle": "2025-08-05T15:39:42.146355Z",
     "shell.execute_reply": "2025-08-05T15:39:42.145280Z"
    },
    "papermill": {
     "duration": 0.029422,
     "end_time": "2025-08-05T15:39:42.147899",
     "exception": false,
     "start_time": "2025-08-05T15:39:42.118477",
     "status": "completed"
    },
    "tags": []
   },
   "outputs": [],
   "source": [
    "if mode == \"keep-all\":\n",
    "    keep_mask = pd.Series(True, index=org_train.index)\n",
    "\n",
    "# org_train contains the original feature columns from features_org (in Simson)\n",
    "# features_org contains unprocessed features, for me X_train at beginning ???\n",
    "# For keep-all, creates a boolean Series (keep_mask) of all True, so no rows are removed.\n",
    "\n",
    "elif mode == \"drop-non-german\":\n",
    "    keep_mask = org_train[\"maxdeutsch1\"] == 1 # ??? what about missing values?\n",
    "\n",
    "else:\n",
    "    raise ValueError(f\"Unsupported mode for exclude_subgroups: {mode}\")"
   ]
  },
  {
   "cell_type": "code",
   "execution_count": 27,
   "id": "71651440",
   "metadata": {
    "execution": {
     "iopub.execute_input": "2025-08-05T15:39:42.184136Z",
     "iopub.status.busy": "2025-08-05T15:39:42.183676Z",
     "iopub.status.idle": "2025-08-05T15:39:42.189804Z",
     "shell.execute_reply": "2025-08-05T15:39:42.188756Z"
    },
    "papermill": {
     "duration": 0.025453,
     "end_time": "2025-08-05T15:39:42.191517",
     "exception": false,
     "start_time": "2025-08-05T15:39:42.166064",
     "status": "completed"
    },
    "tags": []
   },
   "outputs": [],
   "source": [
    "n_drop = (~keep_mask).sum() # Calculates how many rows are set to be dropped\n",
    "if n_drop > 0:\n",
    "    pct = n_drop / len(keep_mask) * 100\n",
    "    print(f\"Dropping {n_drop} rows ({pct:.2f}%) where mode='{mode}'\")"
   ]
  },
  {
   "cell_type": "code",
   "execution_count": 28,
   "id": "5fb8eee5",
   "metadata": {
    "execution": {
     "iopub.execute_input": "2025-08-05T15:39:42.227263Z",
     "iopub.status.busy": "2025-08-05T15:39:42.226806Z",
     "iopub.status.idle": "2025-08-05T15:39:42.234248Z",
     "shell.execute_reply": "2025-08-05T15:39:42.233217Z"
    },
    "papermill": {
     "duration": 0.027012,
     "end_time": "2025-08-05T15:39:42.235919",
     "exception": false,
     "start_time": "2025-08-05T15:39:42.208907",
     "status": "completed"
    },
    "tags": []
   },
   "outputs": [],
   "source": [
    "X_train = X_train[keep_mask]"
   ]
  },
  {
   "cell_type": "code",
   "execution_count": 29,
   "id": "b202bb3a",
   "metadata": {
    "execution": {
     "iopub.execute_input": "2025-08-05T15:39:42.271881Z",
     "iopub.status.busy": "2025-08-05T15:39:42.271401Z",
     "iopub.status.idle": "2025-08-05T15:39:42.277474Z",
     "shell.execute_reply": "2025-08-05T15:39:42.276384Z"
    },
    "papermill": {
     "duration": 0.025697,
     "end_time": "2025-08-05T15:39:42.279177",
     "exception": false,
     "start_time": "2025-08-05T15:39:42.253480",
     "status": "completed"
    },
    "tags": []
   },
   "outputs": [],
   "source": [
    "y_train = y_train[keep_mask]"
   ]
  },
  {
   "cell_type": "markdown",
   "id": "493e2ac3",
   "metadata": {
    "papermill": {
     "duration": 0.016897,
     "end_time": "2025-08-05T15:39:42.313370",
     "exception": false,
     "start_time": "2025-08-05T15:39:42.296473",
     "status": "completed"
    },
    "tags": []
   },
   "source": [
    "# Model Training"
   ]
  },
  {
   "cell_type": "code",
   "execution_count": 30,
   "id": "679e1268",
   "metadata": {
    "execution": {
     "iopub.execute_input": "2025-08-05T15:39:42.348339Z",
     "iopub.status.busy": "2025-08-05T15:39:42.347869Z",
     "iopub.status.idle": "2025-08-05T15:39:42.452812Z",
     "shell.execute_reply": "2025-08-05T15:39:42.451886Z"
    },
    "papermill": {
     "duration": 0.124417,
     "end_time": "2025-08-05T15:39:42.454643",
     "exception": false,
     "start_time": "2025-08-05T15:39:42.330226",
     "status": "completed"
    },
    "tags": []
   },
   "outputs": [],
   "source": [
    "from sklearn.linear_model import LogisticRegression\n",
    "from sklearn.ensemble import GradientBoostingClassifier, RandomForestClassifier\n",
    "\n",
    "if (universe[\"model\"] == \"logreg\"):\n",
    "    model = LogisticRegression() #penalty=\"none\", solver=\"newton-cg\", max_iter=1) # include random_state=19 ?\n",
    "elif (universe[\"model\"] == \"penalized_logreg\"):\n",
    "    model = LogisticRegression(penalty=\"l2\", C=0.1) #, solver=\"newton-cg\", max_iter=1)\n",
    "elif (universe[\"model\"] == \"rf\"):\n",
    "    model = RandomForestClassifier() # n_estimators=100, n_jobs=-1\n",
    "elif (universe[\"model\"] == \"gbm\"):\n",
    "    model = GradientBoostingClassifier()\n",
    "elif (universe[\"model\"] == \"elasticnet\"):\n",
    "    model = LogisticRegression(penalty = 'elasticnet', solver = 'saga', l1_ratio = 0.5) # max_iter=5000\n",
    "else:\n",
    "    raise \"Unsupported universe.model\""
   ]
  },
  {
   "cell_type": "code",
   "execution_count": 31,
   "id": "0cc8f744",
   "metadata": {
    "execution": {
     "iopub.execute_input": "2025-08-05T15:39:42.490946Z",
     "iopub.status.busy": "2025-08-05T15:39:42.490446Z",
     "iopub.status.idle": "2025-08-05T15:39:42.496581Z",
     "shell.execute_reply": "2025-08-05T15:39:42.495603Z"
    },
    "papermill": {
     "duration": 0.025855,
     "end_time": "2025-08-05T15:39:42.498321",
     "exception": false,
     "start_time": "2025-08-05T15:39:42.472466",
     "status": "completed"
    },
    "tags": []
   },
   "outputs": [],
   "source": [
    "import numpy as np\n",
    "from sklearn.pipeline import Pipeline\n",
    "from sklearn.preprocessing import StandardScaler\n",
    "\n",
    "model = Pipeline([\n",
    "    #(\"continuous_processor\", continuous_processor),\n",
    "    #(\"categorical_preprocessor\", categorical_preprocessor),\n",
    "    (\"scale\", StandardScaler() if universe[\"scale\"] == \"scale\" else None), \n",
    "    (\"model\", model),\n",
    "])"
   ]
  },
  {
   "cell_type": "code",
   "execution_count": 32,
   "id": "9442c04d",
   "metadata": {
    "execution": {
     "iopub.execute_input": "2025-08-05T15:39:42.533982Z",
     "iopub.status.busy": "2025-08-05T15:39:42.533468Z",
     "iopub.status.idle": "2025-08-05T15:39:44.198409Z",
     "shell.execute_reply": "2025-08-05T15:39:44.197470Z"
    },
    "papermill": {
     "duration": 1.684106,
     "end_time": "2025-08-05T15:39:44.199905",
     "exception": false,
     "start_time": "2025-08-05T15:39:42.515799",
     "status": "completed"
    },
    "tags": []
   },
   "outputs": [
    {
     "name": "stderr",
     "output_type": "stream",
     "text": [
      "/dss/dsshome1/0C/ra93lal2/.local/share/virtualenvs/CMA_Fairness_v2-3j10GkSs/lib/python3.10/site-packages/sklearn/linear_model/_sag.py:350: ConvergenceWarning: The max_iter was reached which means the coef_ did not converge\n",
      "  warnings.warn(\n"
     ]
    },
    {
     "data": {
      "text/html": [
       "<style>#sk-container-id-1 {color: black;background-color: white;}#sk-container-id-1 pre{padding: 0;}#sk-container-id-1 div.sk-toggleable {background-color: white;}#sk-container-id-1 label.sk-toggleable__label {cursor: pointer;display: block;width: 100%;margin-bottom: 0;padding: 0.3em;box-sizing: border-box;text-align: center;}#sk-container-id-1 label.sk-toggleable__label-arrow:before {content: \"▸\";float: left;margin-right: 0.25em;color: #696969;}#sk-container-id-1 label.sk-toggleable__label-arrow:hover:before {color: black;}#sk-container-id-1 div.sk-estimator:hover label.sk-toggleable__label-arrow:before {color: black;}#sk-container-id-1 div.sk-toggleable__content {max-height: 0;max-width: 0;overflow: hidden;text-align: left;background-color: #f0f8ff;}#sk-container-id-1 div.sk-toggleable__content pre {margin: 0.2em;color: black;border-radius: 0.25em;background-color: #f0f8ff;}#sk-container-id-1 input.sk-toggleable__control:checked~div.sk-toggleable__content {max-height: 200px;max-width: 100%;overflow: auto;}#sk-container-id-1 input.sk-toggleable__control:checked~label.sk-toggleable__label-arrow:before {content: \"▾\";}#sk-container-id-1 div.sk-estimator input.sk-toggleable__control:checked~label.sk-toggleable__label {background-color: #d4ebff;}#sk-container-id-1 div.sk-label input.sk-toggleable__control:checked~label.sk-toggleable__label {background-color: #d4ebff;}#sk-container-id-1 input.sk-hidden--visually {border: 0;clip: rect(1px 1px 1px 1px);clip: rect(1px, 1px, 1px, 1px);height: 1px;margin: -1px;overflow: hidden;padding: 0;position: absolute;width: 1px;}#sk-container-id-1 div.sk-estimator {font-family: monospace;background-color: #f0f8ff;border: 1px dotted black;border-radius: 0.25em;box-sizing: border-box;margin-bottom: 0.5em;}#sk-container-id-1 div.sk-estimator:hover {background-color: #d4ebff;}#sk-container-id-1 div.sk-parallel-item::after {content: \"\";width: 100%;border-bottom: 1px solid gray;flex-grow: 1;}#sk-container-id-1 div.sk-label:hover label.sk-toggleable__label {background-color: #d4ebff;}#sk-container-id-1 div.sk-serial::before {content: \"\";position: absolute;border-left: 1px solid gray;box-sizing: border-box;top: 0;bottom: 0;left: 50%;z-index: 0;}#sk-container-id-1 div.sk-serial {display: flex;flex-direction: column;align-items: center;background-color: white;padding-right: 0.2em;padding-left: 0.2em;position: relative;}#sk-container-id-1 div.sk-item {position: relative;z-index: 1;}#sk-container-id-1 div.sk-parallel {display: flex;align-items: stretch;justify-content: center;background-color: white;position: relative;}#sk-container-id-1 div.sk-item::before, #sk-container-id-1 div.sk-parallel-item::before {content: \"\";position: absolute;border-left: 1px solid gray;box-sizing: border-box;top: 0;bottom: 0;left: 50%;z-index: -1;}#sk-container-id-1 div.sk-parallel-item {display: flex;flex-direction: column;z-index: 1;position: relative;background-color: white;}#sk-container-id-1 div.sk-parallel-item:first-child::after {align-self: flex-end;width: 50%;}#sk-container-id-1 div.sk-parallel-item:last-child::after {align-self: flex-start;width: 50%;}#sk-container-id-1 div.sk-parallel-item:only-child::after {width: 0;}#sk-container-id-1 div.sk-dashed-wrapped {border: 1px dashed gray;margin: 0 0.4em 0.5em 0.4em;box-sizing: border-box;padding-bottom: 0.4em;background-color: white;}#sk-container-id-1 div.sk-label label {font-family: monospace;font-weight: bold;display: inline-block;line-height: 1.2em;}#sk-container-id-1 div.sk-label-container {text-align: center;}#sk-container-id-1 div.sk-container {/* jupyter's `normalize.less` sets `[hidden] { display: none; }` but bootstrap.min.css set `[hidden] { display: none !important; }` so we also need the `!important` here to be able to override the default hidden behavior on the sphinx rendered scikit-learn.org. See: https://github.com/scikit-learn/scikit-learn/issues/21755 */display: inline-block !important;position: relative;}#sk-container-id-1 div.sk-text-repr-fallback {display: none;}</style><div id=\"sk-container-id-1\" class=\"sk-top-container\"><div class=\"sk-text-repr-fallback\"><pre>Pipeline(steps=[(&#x27;scale&#x27;, StandardScaler()),\n",
       "                (&#x27;model&#x27;,\n",
       "                 LogisticRegression(l1_ratio=0.5, penalty=&#x27;elasticnet&#x27;,\n",
       "                                    solver=&#x27;saga&#x27;))])</pre><b>In a Jupyter environment, please rerun this cell to show the HTML representation or trust the notebook. <br />On GitHub, the HTML representation is unable to render, please try loading this page with nbviewer.org.</b></div><div class=\"sk-container\" hidden><div class=\"sk-item sk-dashed-wrapped\"><div class=\"sk-label-container\"><div class=\"sk-label sk-toggleable\"><input class=\"sk-toggleable__control sk-hidden--visually\" id=\"sk-estimator-id-1\" type=\"checkbox\" ><label for=\"sk-estimator-id-1\" class=\"sk-toggleable__label sk-toggleable__label-arrow\">Pipeline</label><div class=\"sk-toggleable__content\"><pre>Pipeline(steps=[(&#x27;scale&#x27;, StandardScaler()),\n",
       "                (&#x27;model&#x27;,\n",
       "                 LogisticRegression(l1_ratio=0.5, penalty=&#x27;elasticnet&#x27;,\n",
       "                                    solver=&#x27;saga&#x27;))])</pre></div></div></div><div class=\"sk-serial\"><div class=\"sk-item\"><div class=\"sk-estimator sk-toggleable\"><input class=\"sk-toggleable__control sk-hidden--visually\" id=\"sk-estimator-id-2\" type=\"checkbox\" ><label for=\"sk-estimator-id-2\" class=\"sk-toggleable__label sk-toggleable__label-arrow\">StandardScaler</label><div class=\"sk-toggleable__content\"><pre>StandardScaler()</pre></div></div></div><div class=\"sk-item\"><div class=\"sk-estimator sk-toggleable\"><input class=\"sk-toggleable__control sk-hidden--visually\" id=\"sk-estimator-id-3\" type=\"checkbox\" ><label for=\"sk-estimator-id-3\" class=\"sk-toggleable__label sk-toggleable__label-arrow\">LogisticRegression</label><div class=\"sk-toggleable__content\"><pre>LogisticRegression(l1_ratio=0.5, penalty=&#x27;elasticnet&#x27;, solver=&#x27;saga&#x27;)</pre></div></div></div></div></div></div></div>"
      ],
      "text/plain": [
       "Pipeline(steps=[('scale', StandardScaler()),\n",
       "                ('model',\n",
       "                 LogisticRegression(l1_ratio=0.5, penalty='elasticnet',\n",
       "                                    solver='saga'))])"
      ]
     },
     "execution_count": 32,
     "metadata": {},
     "output_type": "execute_result"
    }
   ],
   "source": [
    "model.fit(X_train, y_train.values.ravel())"
   ]
  },
  {
   "cell_type": "code",
   "execution_count": 33,
   "id": "af59f8c0",
   "metadata": {
    "execution": {
     "iopub.execute_input": "2025-08-05T15:39:44.236897Z",
     "iopub.status.busy": "2025-08-05T15:39:44.236170Z",
     "iopub.status.idle": "2025-08-05T15:39:44.241680Z",
     "shell.execute_reply": "2025-08-05T15:39:44.240487Z"
    },
    "papermill": {
     "duration": 0.025658,
     "end_time": "2025-08-05T15:39:44.243547",
     "exception": false,
     "start_time": "2025-08-05T15:39:44.217889",
     "status": "completed"
    },
    "tags": []
   },
   "outputs": [],
   "source": [
    "from fairness_multiverse.universe import predict_w_threshold"
   ]
  },
  {
   "cell_type": "code",
   "execution_count": 34,
   "id": "a7cf2e16",
   "metadata": {
    "execution": {
     "iopub.execute_input": "2025-08-05T15:39:44.290870Z",
     "iopub.status.busy": "2025-08-05T15:39:44.290201Z",
     "iopub.status.idle": "2025-08-05T15:39:44.489994Z",
     "shell.execute_reply": "2025-08-05T15:39:44.488995Z"
    },
    "papermill": {
     "duration": 0.225003,
     "end_time": "2025-08-05T15:39:44.491619",
     "exception": false,
     "start_time": "2025-08-05T15:39:44.266616",
     "status": "completed"
    },
    "tags": []
   },
   "outputs": [
    {
     "data": {
      "text/plain": [
       "0.8576858767138558"
      ]
     },
     "execution_count": 34,
     "metadata": {},
     "output_type": "execute_result"
    }
   ],
   "source": [
    "probs_test = model.predict_proba(X_test)\n",
    "\n",
    "'''\n",
    "Below code returns a boolean array (or binary 0/1 array depending on how it’s used) where each element \n",
    "is True if the probability of class 1 is greater than or equal to the threshold, and False otherwise.\n",
    "'''\n",
    "y_pred_default = predict_w_threshold(probs_test, 0.5)\n",
    "\n",
    "from sklearn.metrics import accuracy_score\n",
    "\n",
    "# Naive prediction\n",
    "accuracy_score(y_true = y_true, y_pred = y_pred_default)"
   ]
  },
  {
   "cell_type": "code",
   "execution_count": 35,
   "id": "081964c3",
   "metadata": {
    "execution": {
     "iopub.execute_input": "2025-08-05T15:39:44.530263Z",
     "iopub.status.busy": "2025-08-05T15:39:44.529664Z",
     "iopub.status.idle": "2025-08-05T15:39:44.710515Z",
     "shell.execute_reply": "2025-08-05T15:39:44.709482Z"
    },
    "papermill": {
     "duration": 0.201076,
     "end_time": "2025-08-05T15:39:44.712111",
     "exception": false,
     "start_time": "2025-08-05T15:39:44.511035",
     "status": "completed"
    },
    "tags": []
   },
   "outputs": [
    {
     "data": {
      "text/plain": [
       "array([0, 0, 0, ..., 0, 0, 0])"
      ]
     },
     "execution_count": 35,
     "metadata": {},
     "output_type": "execute_result"
    }
   ],
   "source": [
    "model.predict(X_test)"
   ]
  },
  {
   "cell_type": "markdown",
   "id": "56c9705b",
   "metadata": {
    "papermill": {
     "duration": 0.020162,
     "end_time": "2025-08-05T15:39:44.753304",
     "exception": false,
     "start_time": "2025-08-05T15:39:44.733142",
     "status": "completed"
    },
    "tags": []
   },
   "source": [
    "# Conformal Prediction"
   ]
  },
  {
   "cell_type": "code",
   "execution_count": 36,
   "id": "160ec6ff",
   "metadata": {
    "execution": {
     "iopub.execute_input": "2025-08-05T15:39:44.795310Z",
     "iopub.status.busy": "2025-08-05T15:39:44.794829Z",
     "iopub.status.idle": "2025-08-05T15:39:44.800277Z",
     "shell.execute_reply": "2025-08-05T15:39:44.799168Z"
    },
    "papermill": {
     "duration": 0.02902,
     "end_time": "2025-08-05T15:39:44.802547",
     "exception": false,
     "start_time": "2025-08-05T15:39:44.773527",
     "status": "completed"
    },
    "tags": []
   },
   "outputs": [],
   "source": [
    "# Miscoverage level for conformal prediction (10% allowed error rate => 90% target coverage)\n",
    "alpha = 0.1"
   ]
  },
  {
   "cell_type": "code",
   "execution_count": 37,
   "id": "eadf4555-3dd3-440e-8e35-f82a4ad9f855",
   "metadata": {
    "execution": {
     "iopub.execute_input": "2025-08-05T15:39:44.849302Z",
     "iopub.status.busy": "2025-08-05T15:39:44.848957Z",
     "iopub.status.idle": "2025-08-05T15:39:45.023912Z",
     "shell.execute_reply": "2025-08-05T15:39:45.022837Z"
    },
    "papermill": {
     "duration": 0.200589,
     "end_time": "2025-08-05T15:39:45.026057",
     "exception": false,
     "start_time": "2025-08-05T15:39:44.825468",
     "status": "completed"
    },
    "tags": []
   },
   "outputs": [],
   "source": [
    "probs_calib = model.predict_proba(X_calib)"
   ]
  },
  {
   "cell_type": "code",
   "execution_count": 38,
   "id": "2ed93547-6d5d-4983-9b36-1ecb300da49a",
   "metadata": {
    "execution": {
     "iopub.execute_input": "2025-08-05T15:39:45.070532Z",
     "iopub.status.busy": "2025-08-05T15:39:45.069808Z",
     "iopub.status.idle": "2025-08-05T15:39:45.075658Z",
     "shell.execute_reply": "2025-08-05T15:39:45.074421Z"
    },
    "papermill": {
     "duration": 0.030561,
     "end_time": "2025-08-05T15:39:45.077455",
     "exception": false,
     "start_time": "2025-08-05T15:39:45.046894",
     "status": "completed"
    },
    "tags": []
   },
   "outputs": [],
   "source": [
    "y_calib = y_calib.values.ravel().astype(int)"
   ]
  },
  {
   "cell_type": "code",
   "execution_count": 39,
   "id": "65d1320d-f588-4b38-9072-62af1ae97f7d",
   "metadata": {
    "execution": {
     "iopub.execute_input": "2025-08-05T15:39:45.120368Z",
     "iopub.status.busy": "2025-08-05T15:39:45.119406Z",
     "iopub.status.idle": "2025-08-05T15:39:45.126604Z",
     "shell.execute_reply": "2025-08-05T15:39:45.125538Z"
    },
    "papermill": {
     "duration": 0.030684,
     "end_time": "2025-08-05T15:39:45.128319",
     "exception": false,
     "start_time": "2025-08-05T15:39:45.097635",
     "status": "completed"
    },
    "tags": []
   },
   "outputs": [],
   "source": [
    "from fairness_multiverse.conformal import compute_nc_scores\n",
    "\n",
    "# Compute nonconformity scores on calibration set (1 - probability of true class)\n",
    "nc_scores = compute_nc_scores(probs_calib, y_calib)"
   ]
  },
  {
   "cell_type": "code",
   "execution_count": 40,
   "id": "df3b8ca3-53b7-43d5-9667-7c85da7aeda2",
   "metadata": {
    "execution": {
     "iopub.execute_input": "2025-08-05T15:39:45.175173Z",
     "iopub.status.busy": "2025-08-05T15:39:45.174452Z",
     "iopub.status.idle": "2025-08-05T15:39:45.182188Z",
     "shell.execute_reply": "2025-08-05T15:39:45.181175Z"
    },
    "papermill": {
     "duration": 0.034926,
     "end_time": "2025-08-05T15:39:45.183892",
     "exception": false,
     "start_time": "2025-08-05T15:39:45.148966",
     "status": "completed"
    },
    "tags": []
   },
   "outputs": [],
   "source": [
    "from fairness_multiverse.conformal import find_threshold\n",
    "\n",
    "# Find conformal threshold q_hat for the given alpha (split conformal method)\n",
    "q_hat = find_threshold(nc_scores, alpha)"
   ]
  },
  {
   "cell_type": "code",
   "execution_count": 41,
   "id": "4d29e6c1-0ef6-4aa4-b8fe-4fe79b0d033a",
   "metadata": {
    "execution": {
     "iopub.execute_input": "2025-08-05T15:39:45.233388Z",
     "iopub.status.busy": "2025-08-05T15:39:45.232693Z",
     "iopub.status.idle": "2025-08-05T15:39:45.240709Z",
     "shell.execute_reply": "2025-08-05T15:39:45.239625Z"
    },
    "papermill": {
     "duration": 0.03479,
     "end_time": "2025-08-05T15:39:45.242763",
     "exception": false,
     "start_time": "2025-08-05T15:39:45.207973",
     "status": "completed"
    },
    "tags": []
   },
   "outputs": [
    {
     "data": {
      "text/plain": [
       "0.6843659785858754"
      ]
     },
     "execution_count": 41,
     "metadata": {},
     "output_type": "execute_result"
    }
   ],
   "source": [
    "q_hat"
   ]
  },
  {
   "cell_type": "code",
   "execution_count": 42,
   "id": "92460794-cdac-4be2-ba28-f28c0515a6fb",
   "metadata": {
    "execution": {
     "iopub.execute_input": "2025-08-05T15:39:45.292637Z",
     "iopub.status.busy": "2025-08-05T15:39:45.291722Z",
     "iopub.status.idle": "2025-08-05T15:39:45.987070Z",
     "shell.execute_reply": "2025-08-05T15:39:45.985872Z"
    },
    "papermill": {
     "duration": 0.721615,
     "end_time": "2025-08-05T15:39:45.988531",
     "exception": false,
     "start_time": "2025-08-05T15:39:45.266916",
     "status": "completed"
    },
    "tags": []
   },
   "outputs": [],
   "source": [
    "from fairness_multiverse.conformal import predict_conformal_sets\n",
    "\n",
    "# Generate prediction sets for each test example\n",
    "pred_sets = predict_conformal_sets(model, X_test, q_hat)"
   ]
  },
  {
   "cell_type": "code",
   "execution_count": 43,
   "id": "d90c9a65-e6db-4f5d-80cd-e68fb7e46829",
   "metadata": {
    "execution": {
     "iopub.execute_input": "2025-08-05T15:39:46.032904Z",
     "iopub.status.busy": "2025-08-05T15:39:46.032076Z",
     "iopub.status.idle": "2025-08-05T15:39:46.037921Z",
     "shell.execute_reply": "2025-08-05T15:39:46.036781Z"
    },
    "papermill": {
     "duration": 0.02824,
     "end_time": "2025-08-05T15:39:46.039887",
     "exception": false,
     "start_time": "2025-08-05T15:39:46.011647",
     "status": "completed"
    },
    "tags": []
   },
   "outputs": [],
   "source": [
    "y_true = y_true.squeeze()"
   ]
  },
  {
   "cell_type": "code",
   "execution_count": 44,
   "id": "3a58a54a-1e68-46b9-927a-df01f18aebc8",
   "metadata": {
    "execution": {
     "iopub.execute_input": "2025-08-05T15:39:46.085510Z",
     "iopub.status.busy": "2025-08-05T15:39:46.084731Z",
     "iopub.status.idle": "2025-08-05T15:39:47.092258Z",
     "shell.execute_reply": "2025-08-05T15:39:47.091203Z"
    },
    "papermill": {
     "duration": 1.030811,
     "end_time": "2025-08-05T15:39:47.094228",
     "exception": false,
     "start_time": "2025-08-05T15:39:46.063417",
     "status": "completed"
    },
    "tags": []
   },
   "outputs": [],
   "source": [
    "from fairness_multiverse.conformal import evaluate_sets\n",
    "\n",
    "# Evaluate coverage and average set size on test data\n",
    "metrics = evaluate_sets(pred_sets, y_true)"
   ]
  },
  {
   "cell_type": "markdown",
   "id": "2b569c12-9aaa-4c88-98c9-bbcd0cf3ebb8",
   "metadata": {
    "papermill": {
     "duration": 0.02307,
     "end_time": "2025-08-05T15:39:47.141313",
     "exception": false,
     "start_time": "2025-08-05T15:39:47.118243",
     "status": "completed"
    },
    "tags": []
   },
   "source": [
    "# CP Metrics"
   ]
  },
  {
   "cell_type": "code",
   "execution_count": 45,
   "id": "5ce0a5cb-201f-45a0-ade5-94c7f0bd6095",
   "metadata": {
    "execution": {
     "iopub.execute_input": "2025-08-05T15:39:47.189706Z",
     "iopub.status.busy": "2025-08-05T15:39:47.188864Z",
     "iopub.status.idle": "2025-08-05T15:39:47.196683Z",
     "shell.execute_reply": "2025-08-05T15:39:47.195572Z"
    },
    "papermill": {
     "duration": 0.033903,
     "end_time": "2025-08-05T15:39:47.198589",
     "exception": false,
     "start_time": "2025-08-05T15:39:47.164686",
     "status": "completed"
    },
    "tags": []
   },
   "outputs": [
    {
     "data": {
      "text/plain": [
       "{'coverage': 0.9106008248801695, 'avg_size': 1.1355367294615986}"
      ]
     },
     "execution_count": 45,
     "metadata": {},
     "output_type": "execute_result"
    }
   ],
   "source": [
    "metrics"
   ]
  },
  {
   "cell_type": "code",
   "execution_count": 46,
   "id": "9b9a838d-31c9-430b-ae14-12baee460d17",
   "metadata": {
    "execution": {
     "iopub.execute_input": "2025-08-05T15:39:47.246980Z",
     "iopub.status.busy": "2025-08-05T15:39:47.246667Z",
     "iopub.status.idle": "2025-08-05T15:39:47.252676Z",
     "shell.execute_reply": "2025-08-05T15:39:47.251620Z"
    },
    "papermill": {
     "duration": 0.032238,
     "end_time": "2025-08-05T15:39:47.254556",
     "exception": false,
     "start_time": "2025-08-05T15:39:47.222318",
     "status": "completed"
    },
    "tags": []
   },
   "outputs": [],
   "source": [
    "example_universe = universe.copy()\n",
    "universe_training_year = example_universe.get(\"training_year\")\n",
    "universe_training_size = example_universe.get(\"training_size\")\n",
    "universe_scale = example_universe.get(\"scale\")\n",
    "universe_model = example_universe.get(\"model\")\n",
    "universe_exclude_features = example_universe.get(\"exclude_features\")\n",
    "universe_exclude_subgroups = example_universe.get(\"exclude_subgroups\")"
   ]
  },
  {
   "cell_type": "code",
   "execution_count": 47,
   "id": "f4b6a8ac-9dc0-4245-8a91-5b3b5999c4f9",
   "metadata": {
    "execution": {
     "iopub.execute_input": "2025-08-05T15:39:47.302584Z",
     "iopub.status.busy": "2025-08-05T15:39:47.302346Z",
     "iopub.status.idle": "2025-08-05T15:39:47.307124Z",
     "shell.execute_reply": "2025-08-05T15:39:47.306379Z"
    },
    "papermill": {
     "duration": 0.017622,
     "end_time": "2025-08-05T15:39:47.308508",
     "exception": false,
     "start_time": "2025-08-05T15:39:47.290886",
     "status": "completed"
    },
    "tags": []
   },
   "outputs": [],
   "source": [
    "cp_metrics_dict = {\n",
    "    \"universe_id\": [universe_id],\n",
    "    \"universe_training_year\": [universe_training_year],\n",
    "    \"universe_training_size\": [universe_training_size],\n",
    "    \"universe_scale\": [universe_scale],\n",
    "    \"universe_model\": [universe_model],\n",
    "    \"universe_exclude_features\": [universe_exclude_features],\n",
    "    \"universe_exclude_subgroups\": [universe_exclude_subgroups],\n",
    "    \"q_hat\": [q_hat],\n",
    "    \"coverage\": [metrics[\"coverage\"]],\n",
    "    \"avg_size\": [metrics[\"avg_size\"]],\n",
    "}"
   ]
  },
  {
   "cell_type": "code",
   "execution_count": 48,
   "id": "908acbb1-0371-4915-85ca-3fa520d2efe2",
   "metadata": {
    "execution": {
     "iopub.execute_input": "2025-08-05T15:39:47.331996Z",
     "iopub.status.busy": "2025-08-05T15:39:47.331367Z",
     "iopub.status.idle": "2025-08-05T15:39:47.337425Z",
     "shell.execute_reply": "2025-08-05T15:39:47.336618Z"
    },
    "papermill": {
     "duration": 0.018547,
     "end_time": "2025-08-05T15:39:47.338895",
     "exception": false,
     "start_time": "2025-08-05T15:39:47.320348",
     "status": "completed"
    },
    "tags": []
   },
   "outputs": [
    {
     "data": {
      "text/plain": [
       "{'universe_id': ['77ccf370906521224baaf2bf0c594bc7'],\n",
       " 'universe_training_year': ['2012_14'],\n",
       " 'universe_training_size': ['5k'],\n",
       " 'universe_scale': ['scale'],\n",
       " 'universe_model': ['elasticnet'],\n",
       " 'universe_exclude_features': ['nationality'],\n",
       " 'universe_exclude_subgroups': ['keep-all'],\n",
       " 'q_hat': [0.6843659785858754],\n",
       " 'coverage': [0.9106008248801695],\n",
       " 'avg_size': [1.1355367294615986]}"
      ]
     },
     "execution_count": 48,
     "metadata": {},
     "output_type": "execute_result"
    }
   ],
   "source": [
    "cp_metrics_dict"
   ]
  },
  {
   "cell_type": "code",
   "execution_count": 49,
   "id": "33007efc-14e9-4ec6-97ac-56a455c82265",
   "metadata": {
    "execution": {
     "iopub.execute_input": "2025-08-05T15:39:47.361532Z",
     "iopub.status.busy": "2025-08-05T15:39:47.361304Z",
     "iopub.status.idle": "2025-08-05T15:39:47.365620Z",
     "shell.execute_reply": "2025-08-05T15:39:47.364842Z"
    },
    "papermill": {
     "duration": 0.016993,
     "end_time": "2025-08-05T15:39:47.367107",
     "exception": false,
     "start_time": "2025-08-05T15:39:47.350114",
     "status": "completed"
    },
    "tags": []
   },
   "outputs": [],
   "source": [
    "cp_metrics_df = pd.DataFrame(cp_metrics_dict)"
   ]
  },
  {
   "cell_type": "code",
   "execution_count": 50,
   "id": "db12611b-57b2-4910-b9d0-355adfd6e7bf",
   "metadata": {
    "execution": {
     "iopub.execute_input": "2025-08-05T15:39:47.389869Z",
     "iopub.status.busy": "2025-08-05T15:39:47.389635Z",
     "iopub.status.idle": "2025-08-05T15:39:47.406188Z",
     "shell.execute_reply": "2025-08-05T15:39:47.405426Z"
    },
    "papermill": {
     "duration": 0.029026,
     "end_time": "2025-08-05T15:39:47.407357",
     "exception": false,
     "start_time": "2025-08-05T15:39:47.378331",
     "status": "completed"
    },
    "tags": []
   },
   "outputs": [
    {
     "data": {
      "text/html": [
       "<div>\n",
       "<style scoped>\n",
       "    .dataframe tbody tr th:only-of-type {\n",
       "        vertical-align: middle;\n",
       "    }\n",
       "\n",
       "    .dataframe tbody tr th {\n",
       "        vertical-align: top;\n",
       "    }\n",
       "\n",
       "    .dataframe thead th {\n",
       "        text-align: right;\n",
       "    }\n",
       "</style>\n",
       "<table border=\"1\" class=\"dataframe\">\n",
       "  <thead>\n",
       "    <tr style=\"text-align: right;\">\n",
       "      <th></th>\n",
       "      <th>universe_id</th>\n",
       "      <th>universe_training_year</th>\n",
       "      <th>universe_training_size</th>\n",
       "      <th>universe_scale</th>\n",
       "      <th>universe_model</th>\n",
       "      <th>universe_exclude_features</th>\n",
       "      <th>universe_exclude_subgroups</th>\n",
       "      <th>q_hat</th>\n",
       "      <th>coverage</th>\n",
       "      <th>avg_size</th>\n",
       "    </tr>\n",
       "  </thead>\n",
       "  <tbody>\n",
       "    <tr>\n",
       "      <th>0</th>\n",
       "      <td>77ccf370906521224baaf2bf0c594bc7</td>\n",
       "      <td>2012_14</td>\n",
       "      <td>5k</td>\n",
       "      <td>scale</td>\n",
       "      <td>elasticnet</td>\n",
       "      <td>nationality</td>\n",
       "      <td>keep-all</td>\n",
       "      <td>0.684366</td>\n",
       "      <td>0.910601</td>\n",
       "      <td>1.135537</td>\n",
       "    </tr>\n",
       "  </tbody>\n",
       "</table>\n",
       "</div>"
      ],
      "text/plain": [
       "                        universe_id universe_training_year  \\\n",
       "0  77ccf370906521224baaf2bf0c594bc7                2012_14   \n",
       "\n",
       "  universe_training_size universe_scale universe_model  \\\n",
       "0                     5k          scale     elasticnet   \n",
       "\n",
       "  universe_exclude_features universe_exclude_subgroups     q_hat  coverage  \\\n",
       "0               nationality                   keep-all  0.684366  0.910601   \n",
       "\n",
       "   avg_size  \n",
       "0  1.135537  "
      ]
     },
     "execution_count": 50,
     "metadata": {},
     "output_type": "execute_result"
    }
   ],
   "source": [
    "cp_metrics_df"
   ]
  },
  {
   "cell_type": "code",
   "execution_count": 51,
   "id": "b7fbde55-a0a1-47e4-9af6-fe4a17fa8c61",
   "metadata": {
    "execution": {
     "iopub.execute_input": "2025-08-05T15:39:47.431254Z",
     "iopub.status.busy": "2025-08-05T15:39:47.430920Z",
     "iopub.status.idle": "2025-08-05T15:39:47.434686Z",
     "shell.execute_reply": "2025-08-05T15:39:47.434035Z"
    },
    "papermill": {
     "duration": 0.01722,
     "end_time": "2025-08-05T15:39:47.435847",
     "exception": false,
     "start_time": "2025-08-05T15:39:47.418627",
     "status": "completed"
    },
    "tags": []
   },
   "outputs": [],
   "source": [
    "# Conditional Coverage & looking at subgroups"
   ]
  },
  {
   "cell_type": "code",
   "execution_count": 52,
   "id": "027ae886-68dd-4141-96c7-805a5450e1ef",
   "metadata": {
    "execution": {
     "iopub.execute_input": "2025-08-05T15:39:47.460038Z",
     "iopub.status.busy": "2025-08-05T15:39:47.459795Z",
     "iopub.status.idle": "2025-08-05T15:39:47.694543Z",
     "shell.execute_reply": "2025-08-05T15:39:47.693501Z"
    },
    "papermill": {
     "duration": 0.250124,
     "end_time": "2025-08-05T15:39:47.696757",
     "exception": false,
     "start_time": "2025-08-05T15:39:47.446633",
     "status": "completed"
    },
    "tags": []
   },
   "outputs": [],
   "source": [
    "from fairness_multiverse.conformal import build_cp_groups\n",
    "\n",
    "cp_groups_df = build_cp_groups(pred_sets, y_true, X_test.index, org_test)\n",
    "#needs universe_id and setting"
   ]
  },
  {
   "cell_type": "code",
   "execution_count": 53,
   "id": "6cbdab96-b2b2-45af-ad54-d0516db2e28d",
   "metadata": {
    "execution": {
     "iopub.execute_input": "2025-08-05T15:39:47.744778Z",
     "iopub.status.busy": "2025-08-05T15:39:47.744032Z",
     "iopub.status.idle": "2025-08-05T15:39:49.430002Z",
     "shell.execute_reply": "2025-08-05T15:39:49.428471Z"
    },
    "papermill": {
     "duration": 1.712119,
     "end_time": "2025-08-05T15:39:49.432026",
     "exception": false,
     "start_time": "2025-08-05T15:39:47.719907",
     "status": "completed"
    },
    "tags": []
   },
   "outputs": [],
   "source": [
    "# Define covered = 1 if true_label is in the predicted set\n",
    "cp_groups_df['covered'] = cp_groups_df.apply(\n",
    "    lambda r: int(r['true_label'] in r['pred_set']),\n",
    "    axis=1\n",
    ")"
   ]
  },
  {
   "cell_type": "code",
   "execution_count": 54,
   "id": "338ff529-1a6b-4b87-a931-8e4788d52aad",
   "metadata": {
    "execution": {
     "iopub.execute_input": "2025-08-05T15:39:49.479910Z",
     "iopub.status.busy": "2025-08-05T15:39:49.479035Z",
     "iopub.status.idle": "2025-08-05T15:39:49.484472Z",
     "shell.execute_reply": "2025-08-05T15:39:49.483526Z"
    },
    "papermill": {
     "duration": 0.031083,
     "end_time": "2025-08-05T15:39:49.486303",
     "exception": false,
     "start_time": "2025-08-05T15:39:49.455220",
     "status": "completed"
    },
    "tags": []
   },
   "outputs": [],
   "source": [
    "#cp_groups_df"
   ]
  },
  {
   "cell_type": "code",
   "execution_count": 55,
   "id": "90032e27-66df-4540-9169-4e89cfbaa758",
   "metadata": {
    "execution": {
     "iopub.execute_input": "2025-08-05T15:39:49.532579Z",
     "iopub.status.busy": "2025-08-05T15:39:49.532102Z",
     "iopub.status.idle": "2025-08-05T15:39:49.544297Z",
     "shell.execute_reply": "2025-08-05T15:39:49.543385Z"
    },
    "papermill": {
     "duration": 0.036913,
     "end_time": "2025-08-05T15:39:49.545777",
     "exception": false,
     "start_time": "2025-08-05T15:39:49.508864",
     "status": "completed"
    },
    "tags": []
   },
   "outputs": [],
   "source": [
    "subgroups = ['frau1','nongerman','nongerman_male','nongerman_female']\n",
    "\n",
    "# Conditional coverage for subgroup==1\n",
    "cond_coverage = {\n",
    "    g: cp_groups_df.loc[cp_groups_df[g]==1, 'covered'].mean()\n",
    "    for g in subgroups\n",
    "}"
   ]
  },
  {
   "cell_type": "code",
   "execution_count": 56,
   "id": "1e348fb1-b9c3-45bc-ba23-f016827a7e0d",
   "metadata": {
    "execution": {
     "iopub.execute_input": "2025-08-05T15:39:49.586990Z",
     "iopub.status.busy": "2025-08-05T15:39:49.586516Z",
     "iopub.status.idle": "2025-08-05T15:39:49.594287Z",
     "shell.execute_reply": "2025-08-05T15:39:49.593032Z"
    },
    "papermill": {
     "duration": 0.030113,
     "end_time": "2025-08-05T15:39:49.595977",
     "exception": false,
     "start_time": "2025-08-05T15:39:49.565864",
     "status": "completed"
    },
    "tags": []
   },
   "outputs": [
    {
     "data": {
      "text/plain": [
       "{'frau1': 0.9054589567327133,\n",
       " 'nongerman': 0.910683208892382,\n",
       " 'nongerman_male': 0.9283076645951545,\n",
       " 'nongerman_female': 0.8815201192250373}"
      ]
     },
     "execution_count": 56,
     "metadata": {},
     "output_type": "execute_result"
    }
   ],
   "source": [
    "cond_coverage"
   ]
  },
  {
   "cell_type": "code",
   "execution_count": 57,
   "id": "f5093324-c3dd-4d63-bc4c-8d945e5c8bbb",
   "metadata": {
    "execution": {
     "iopub.execute_input": "2025-08-05T15:39:49.642894Z",
     "iopub.status.busy": "2025-08-05T15:39:49.642165Z",
     "iopub.status.idle": "2025-08-05T15:39:49.650070Z",
     "shell.execute_reply": "2025-08-05T15:39:49.648835Z"
    },
    "papermill": {
     "duration": 0.033142,
     "end_time": "2025-08-05T15:39:49.651849",
     "exception": false,
     "start_time": "2025-08-05T15:39:49.618707",
     "status": "completed"
    },
    "tags": []
   },
   "outputs": [],
   "source": [
    "for subgroup, cov in cond_coverage.items():\n",
    "    cp_metrics_df[f\"cov_{subgroup}\"] = cov"
   ]
  },
  {
   "cell_type": "code",
   "execution_count": 58,
   "id": "6e872e10-dbe5-49e8-b554-5030c98ff75d",
   "metadata": {
    "execution": {
     "iopub.execute_input": "2025-08-05T15:39:49.699089Z",
     "iopub.status.busy": "2025-08-05T15:39:49.698343Z",
     "iopub.status.idle": "2025-08-05T15:39:49.717255Z",
     "shell.execute_reply": "2025-08-05T15:39:49.716039Z"
    },
    "papermill": {
     "duration": 0.043318,
     "end_time": "2025-08-05T15:39:49.718945",
     "exception": false,
     "start_time": "2025-08-05T15:39:49.675627",
     "status": "completed"
    },
    "tags": []
   },
   "outputs": [
    {
     "data": {
      "text/html": [
       "<div>\n",
       "<style scoped>\n",
       "    .dataframe tbody tr th:only-of-type {\n",
       "        vertical-align: middle;\n",
       "    }\n",
       "\n",
       "    .dataframe tbody tr th {\n",
       "        vertical-align: top;\n",
       "    }\n",
       "\n",
       "    .dataframe thead th {\n",
       "        text-align: right;\n",
       "    }\n",
       "</style>\n",
       "<table border=\"1\" class=\"dataframe\">\n",
       "  <thead>\n",
       "    <tr style=\"text-align: right;\">\n",
       "      <th></th>\n",
       "      <th>universe_id</th>\n",
       "      <th>universe_training_year</th>\n",
       "      <th>universe_training_size</th>\n",
       "      <th>universe_scale</th>\n",
       "      <th>universe_model</th>\n",
       "      <th>universe_exclude_features</th>\n",
       "      <th>universe_exclude_subgroups</th>\n",
       "      <th>q_hat</th>\n",
       "      <th>coverage</th>\n",
       "      <th>avg_size</th>\n",
       "      <th>cov_frau1</th>\n",
       "      <th>cov_nongerman</th>\n",
       "      <th>cov_nongerman_male</th>\n",
       "      <th>cov_nongerman_female</th>\n",
       "    </tr>\n",
       "  </thead>\n",
       "  <tbody>\n",
       "    <tr>\n",
       "      <th>0</th>\n",
       "      <td>77ccf370906521224baaf2bf0c594bc7</td>\n",
       "      <td>2012_14</td>\n",
       "      <td>5k</td>\n",
       "      <td>scale</td>\n",
       "      <td>elasticnet</td>\n",
       "      <td>nationality</td>\n",
       "      <td>keep-all</td>\n",
       "      <td>0.684366</td>\n",
       "      <td>0.910601</td>\n",
       "      <td>1.135537</td>\n",
       "      <td>0.905459</td>\n",
       "      <td>0.910683</td>\n",
       "      <td>0.928308</td>\n",
       "      <td>0.88152</td>\n",
       "    </tr>\n",
       "  </tbody>\n",
       "</table>\n",
       "</div>"
      ],
      "text/plain": [
       "                        universe_id universe_training_year  \\\n",
       "0  77ccf370906521224baaf2bf0c594bc7                2012_14   \n",
       "\n",
       "  universe_training_size universe_scale universe_model  \\\n",
       "0                     5k          scale     elasticnet   \n",
       "\n",
       "  universe_exclude_features universe_exclude_subgroups     q_hat  coverage  \\\n",
       "0               nationality                   keep-all  0.684366  0.910601   \n",
       "\n",
       "   avg_size  cov_frau1  cov_nongerman  cov_nongerman_male  \\\n",
       "0  1.135537   0.905459       0.910683            0.928308   \n",
       "\n",
       "   cov_nongerman_female  \n",
       "0               0.88152  "
      ]
     },
     "execution_count": 58,
     "metadata": {},
     "output_type": "execute_result"
    }
   ],
   "source": [
    "cp_metrics_df"
   ]
  },
  {
   "cell_type": "markdown",
   "id": "33774451",
   "metadata": {
    "papermill": {
     "duration": 0.023374,
     "end_time": "2025-08-05T15:39:49.765168",
     "exception": false,
     "start_time": "2025-08-05T15:39:49.741794",
     "status": "completed"
    },
    "tags": []
   },
   "source": [
    "# (Fairness) Metrics"
   ]
  },
  {
   "cell_type": "code",
   "execution_count": 59,
   "id": "debc5d62",
   "metadata": {
    "execution": {
     "iopub.execute_input": "2025-08-05T15:39:49.813047Z",
     "iopub.status.busy": "2025-08-05T15:39:49.812496Z",
     "iopub.status.idle": "2025-08-05T15:39:49.833022Z",
     "shell.execute_reply": "2025-08-05T15:39:49.832126Z"
    },
    "papermill": {
     "duration": 0.046883,
     "end_time": "2025-08-05T15:39:49.834511",
     "exception": false,
     "start_time": "2025-08-05T15:39:49.787628",
     "status": "completed"
    },
    "tags": []
   },
   "outputs": [],
   "source": [
    "# do I need to include maxdeutsch1.missing?\n",
    "\n",
    "import numpy as np\n",
    "\n",
    "colname_to_bin = \"maxdeutsch1\"\n",
    "majority_value = org_train[colname_to_bin].mode()[0]\n",
    "\n",
    "org_test[\"majmin\"] = np.where(org_test[colname_to_bin] == majority_value, \"majority\", \"minority\")"
   ]
  },
  {
   "cell_type": "code",
   "execution_count": 60,
   "id": "06a50de5",
   "metadata": {
    "execution": {
     "iopub.execute_input": "2025-08-05T15:39:49.881696Z",
     "iopub.status.busy": "2025-08-05T15:39:49.880992Z",
     "iopub.status.idle": "2025-08-05T15:39:51.838403Z",
     "shell.execute_reply": "2025-08-05T15:39:51.837605Z"
    },
    "papermill": {
     "duration": 1.983417,
     "end_time": "2025-08-05T15:39:51.839857",
     "exception": false,
     "start_time": "2025-08-05T15:39:49.856440",
     "status": "completed"
    },
    "tags": []
   },
   "outputs": [],
   "source": [
    "example_universe = universe.copy()\n",
    "example_universe[\"cutoff\"] = example_universe[\"cutoff\"][0]\n",
    "example_universe[\"eval_fairness_grouping\"] = example_universe[\"eval_fairness_grouping\"][0]\n",
    "fairness_dict, metric_frame = universe_analysis.compute_metrics(\n",
    "    example_universe,\n",
    "    y_pred_prob=probs_test,\n",
    "    y_test=y_true,\n",
    "    org_test=org_test,\n",
    ")"
   ]
  },
  {
   "cell_type": "markdown",
   "id": "f95d4e02",
   "metadata": {
    "papermill": {
     "duration": 0.011766,
     "end_time": "2025-08-05T15:39:51.865999",
     "exception": false,
     "start_time": "2025-08-05T15:39:51.854233",
     "status": "completed"
    },
    "tags": []
   },
   "source": [
    "# Overall"
   ]
  },
  {
   "cell_type": "markdown",
   "id": "bdee4871",
   "metadata": {
    "papermill": {
     "duration": 0.011285,
     "end_time": "2025-08-05T15:39:51.888528",
     "exception": false,
     "start_time": "2025-08-05T15:39:51.877243",
     "status": "completed"
    },
    "tags": []
   },
   "source": [
    "Fairness\n",
    "Main fairness target: Equalized Odds. Seems to be a better fit than equal opportunity, since we're not only interested in Y = 1. Seems to be a better fit than demographic parity, since we also care about accuracy, not just equal distribution of preds.\n",
    "\n",
    "Pick column for computation of fairness metrics\n",
    "\n",
    "Performance\n",
    "Overall performance measures, most interesting in relation to the measures split by group below"
   ]
  },
  {
   "cell_type": "code",
   "execution_count": 61,
   "id": "c4e067c6",
   "metadata": {
    "execution": {
     "iopub.execute_input": "2025-08-05T15:39:51.912855Z",
     "iopub.status.busy": "2025-08-05T15:39:51.912557Z",
     "iopub.status.idle": "2025-08-05T15:39:51.920173Z",
     "shell.execute_reply": "2025-08-05T15:39:51.919294Z"
    },
    "papermill": {
     "duration": 0.021532,
     "end_time": "2025-08-05T15:39:51.921562",
     "exception": false,
     "start_time": "2025-08-05T15:39:51.900030",
     "status": "completed"
    },
    "tags": []
   },
   "outputs": [
    {
     "data": {
      "text/plain": [
       "accuracy                   0.224066\n",
       "balanced accuracy          0.547938\n",
       "f1                         0.245406\n",
       "precision                  0.140192\n",
       "false positive rate        0.887701\n",
       "false negative rate        0.016423\n",
       "selection rate             0.900000\n",
       "count                  89710.000000\n",
       "dtype: float64"
      ]
     },
     "execution_count": 61,
     "metadata": {},
     "output_type": "execute_result"
    }
   ],
   "source": [
    "metric_frame.overall"
   ]
  },
  {
   "cell_type": "markdown",
   "id": "e968fe9d",
   "metadata": {
    "papermill": {
     "duration": 0.011579,
     "end_time": "2025-08-05T15:39:51.945733",
     "exception": false,
     "start_time": "2025-08-05T15:39:51.934154",
     "status": "completed"
    },
    "tags": []
   },
   "source": [
    "By Group"
   ]
  },
  {
   "cell_type": "code",
   "execution_count": 62,
   "id": "ec325bce",
   "metadata": {
    "execution": {
     "iopub.execute_input": "2025-08-05T15:39:51.970397Z",
     "iopub.status.busy": "2025-08-05T15:39:51.969901Z",
     "iopub.status.idle": "2025-08-05T15:39:51.982402Z",
     "shell.execute_reply": "2025-08-05T15:39:51.981510Z"
    },
    "papermill": {
     "duration": 0.026656,
     "end_time": "2025-08-05T15:39:51.983867",
     "exception": false,
     "start_time": "2025-08-05T15:39:51.957211",
     "status": "completed"
    },
    "tags": []
   },
   "outputs": [
    {
     "data": {
      "text/html": [
       "<div>\n",
       "<style scoped>\n",
       "    .dataframe tbody tr th:only-of-type {\n",
       "        vertical-align: middle;\n",
       "    }\n",
       "\n",
       "    .dataframe tbody tr th {\n",
       "        vertical-align: top;\n",
       "    }\n",
       "\n",
       "    .dataframe thead th {\n",
       "        text-align: right;\n",
       "    }\n",
       "</style>\n",
       "<table border=\"1\" class=\"dataframe\">\n",
       "  <thead>\n",
       "    <tr style=\"text-align: right;\">\n",
       "      <th></th>\n",
       "      <th>accuracy</th>\n",
       "      <th>balanced accuracy</th>\n",
       "      <th>f1</th>\n",
       "      <th>precision</th>\n",
       "      <th>false positive rate</th>\n",
       "      <th>false negative rate</th>\n",
       "      <th>selection rate</th>\n",
       "      <th>count</th>\n",
       "    </tr>\n",
       "    <tr>\n",
       "      <th>majmin</th>\n",
       "      <th></th>\n",
       "      <th></th>\n",
       "      <th></th>\n",
       "      <th></th>\n",
       "      <th></th>\n",
       "      <th></th>\n",
       "      <th></th>\n",
       "      <th></th>\n",
       "    </tr>\n",
       "  </thead>\n",
       "  <tbody>\n",
       "    <tr>\n",
       "      <th>majority</th>\n",
       "      <td>0.245207</td>\n",
       "      <td>0.557444</td>\n",
       "      <td>0.255826</td>\n",
       "      <td>0.147074</td>\n",
       "      <td>0.866950</td>\n",
       "      <td>0.018162</td>\n",
       "      <td>0.882131</td>\n",
       "      <td>69170.0</td>\n",
       "    </tr>\n",
       "    <tr>\n",
       "      <th>minority</th>\n",
       "      <td>0.152872</td>\n",
       "      <td>0.517018</td>\n",
       "      <td>0.212313</td>\n",
       "      <td>0.118903</td>\n",
       "      <td>0.956251</td>\n",
       "      <td>0.009713</td>\n",
       "      <td>0.960175</td>\n",
       "      <td>20540.0</td>\n",
       "    </tr>\n",
       "  </tbody>\n",
       "</table>\n",
       "</div>"
      ],
      "text/plain": [
       "          accuracy  balanced accuracy        f1  precision  \\\n",
       "majmin                                                       \n",
       "majority  0.245207           0.557444  0.255826   0.147074   \n",
       "minority  0.152872           0.517018  0.212313   0.118903   \n",
       "\n",
       "          false positive rate  false negative rate  selection rate    count  \n",
       "majmin                                                                       \n",
       "majority             0.866950             0.018162        0.882131  69170.0  \n",
       "minority             0.956251             0.009713        0.960175  20540.0  "
      ]
     },
     "execution_count": 62,
     "metadata": {},
     "output_type": "execute_result"
    }
   ],
   "source": [
    "metric_frame.by_group"
   ]
  },
  {
   "cell_type": "code",
   "execution_count": 63,
   "id": "a9ddbe63",
   "metadata": {
    "execution": {
     "iopub.execute_input": "2025-08-05T15:39:52.009886Z",
     "iopub.status.busy": "2025-08-05T15:39:52.009409Z",
     "iopub.status.idle": "2025-08-05T15:39:53.983352Z",
     "shell.execute_reply": "2025-08-05T15:39:53.982398Z"
    },
    "papermill": {
     "duration": 1.988106,
     "end_time": "2025-08-05T15:39:53.985055",
     "exception": false,
     "start_time": "2025-08-05T15:39:51.996949",
     "status": "completed"
    },
    "tags": []
   },
   "outputs": [
    {
     "data": {
      "text/plain": [
       "array([[<Axes: title={'center': 'accuracy'}, xlabel='majmin'>,\n",
       "        <Axes: title={'center': 'balanced accuracy'}, xlabel='majmin'>,\n",
       "        <Axes: title={'center': 'f1'}, xlabel='majmin'>],\n",
       "       [<Axes: title={'center': 'precision'}, xlabel='majmin'>,\n",
       "        <Axes: title={'center': 'false positive rate'}, xlabel='majmin'>,\n",
       "        <Axes: title={'center': 'false negative rate'}, xlabel='majmin'>],\n",
       "       [<Axes: title={'center': 'selection rate'}, xlabel='majmin'>,\n",
       "        <Axes: title={'center': 'count'}, xlabel='majmin'>,\n",
       "        <Axes: xlabel='majmin'>]], dtype=object)"
      ]
     },
     "execution_count": 63,
     "metadata": {},
     "output_type": "execute_result"
    },
    {
     "data": {
      "image/png": "[encoded data removed]",
      "text/plain": [
       "<Figure size 1200x800 with 9 Axes>"
      ]
     },
     "metadata": {},
     "output_type": "display_data"
    }
   ],
   "source": [
    "# In a graphic\n",
    "metric_frame.by_group.plot.bar(\n",
    "    subplots=True,\n",
    "    layout=[3, 3],\n",
    "    legend=False,\n",
    "    figsize=[12, 8],\n",
    "    title=\"Show all metrics\",\n",
    ")"
   ]
  },
  {
   "cell_type": "markdown",
   "id": "f57a0bac",
   "metadata": {
    "papermill": {
     "duration": 0.025725,
     "end_time": "2025-08-05T15:39:54.040303",
     "exception": false,
     "start_time": "2025-08-05T15:39:54.014578",
     "status": "completed"
    },
    "tags": []
   },
   "source": [
    "# Final Output"
   ]
  },
  {
   "cell_type": "code",
   "execution_count": 64,
   "id": "96d280a3",
   "metadata": {
    "execution": {
     "iopub.execute_input": "2025-08-05T15:39:54.093217Z",
     "iopub.status.busy": "2025-08-05T15:39:54.092575Z",
     "iopub.status.idle": "2025-08-05T15:39:54.101118Z",
     "shell.execute_reply": "2025-08-05T15:39:54.100243Z"
    },
    "papermill": {
     "duration": 0.036707,
     "end_time": "2025-08-05T15:39:54.102667",
     "exception": false,
     "start_time": "2025-08-05T15:39:54.065960",
     "status": "completed"
    },
    "tags": []
   },
   "outputs": [
    {
     "data": {
      "text/plain": [
       "4"
      ]
     },
     "execution_count": 64,
     "metadata": {},
     "output_type": "execute_result"
    }
   ],
   "source": [
    "sub_universes = universe_analysis.generate_sub_universes()\n",
    "len(sub_universes)"
   ]
  },
  {
   "cell_type": "code",
   "execution_count": 65,
   "id": "92adf7ba",
   "metadata": {
    "execution": {
     "iopub.execute_input": "2025-08-05T15:39:54.150278Z",
     "iopub.status.busy": "2025-08-05T15:39:54.149694Z",
     "iopub.status.idle": "2025-08-05T15:39:54.155802Z",
     "shell.execute_reply": "2025-08-05T15:39:54.154816Z"
    },
    "papermill": {
     "duration": 0.032064,
     "end_time": "2025-08-05T15:39:54.157482",
     "exception": false,
     "start_time": "2025-08-05T15:39:54.125418",
     "status": "completed"
    },
    "tags": []
   },
   "outputs": [],
   "source": [
    "def filter_sub_universe_data(sub_universe, org_test):\n",
    "    # Keep all rows — no filtering\n",
    "    keep_rows_mask = np.ones(org_test.shape[0], dtype=bool)\n",
    "\n",
    "    print(f\"[INFO] Keeping all rows: {keep_rows_mask.sum()} rows retained.\")\n",
    "    return keep_rows_mask"
   ]
  },
  {
   "cell_type": "code",
   "execution_count": 66,
   "id": "4a759155",
   "metadata": {
    "execution": {
     "iopub.execute_input": "2025-08-05T15:39:54.208400Z",
     "iopub.status.busy": "2025-08-05T15:39:54.208013Z",
     "iopub.status.idle": "2025-08-05T15:40:04.232500Z",
     "shell.execute_reply": "2025-08-05T15:40:04.231764Z"
    },
    "papermill": {
     "duration": 10.0517,
     "end_time": "2025-08-05T15:40:04.233723",
     "exception": false,
     "start_time": "2025-08-05T15:39:54.182023",
     "status": "completed"
    },
    "tags": []
   },
   "outputs": [
    {
     "name": "stdout",
     "output_type": "stream",
     "text": [
      "Stopping execution_time clock.\n",
      "[INFO] Keeping all rows: 89710 rows retained.\n"
     ]
    },
    {
     "name": "stdout",
     "output_type": "stream",
     "text": [
      "[INFO] Keeping all rows: 89710 rows retained.\n"
     ]
    },
    {
     "name": "stdout",
     "output_type": "stream",
     "text": [
      "[INFO] Keeping all rows: 89710 rows retained.\n"
     ]
    },
    {
     "name": "stdout",
     "output_type": "stream",
     "text": [
      "[INFO] Keeping all rows: 89710 rows retained.\n"
     ]
    },
    {
     "data": {
      "text/html": [
       "<div>\n",
       "<style scoped>\n",
       "    .dataframe tbody tr th:only-of-type {\n",
       "        vertical-align: middle;\n",
       "    }\n",
       "\n",
       "    .dataframe tbody tr th {\n",
       "        vertical-align: top;\n",
       "    }\n",
       "\n",
       "    .dataframe thead th {\n",
       "        text-align: right;\n",
       "    }\n",
       "</style>\n",
       "<table border=\"1\" class=\"dataframe\">\n",
       "  <thead>\n",
       "    <tr style=\"text-align: right;\">\n",
       "      <th></th>\n",
       "      <th>run_no</th>\n",
       "      <th>universe_id</th>\n",
       "      <th>universe_settings</th>\n",
       "      <th>execution_time</th>\n",
       "      <th>test_size_n</th>\n",
       "      <th>test_size_frac</th>\n",
       "      <th>fair_main_equalized_odds_difference</th>\n",
       "      <th>fair_main_equalized_odds_ratio</th>\n",
       "      <th>fair_main_demographic_parity_difference</th>\n",
       "      <th>fair_main_demographic_parity_ratio</th>\n",
       "      <th>...</th>\n",
       "      <th>perf_grp_precision_0</th>\n",
       "      <th>perf_grp_precision_1</th>\n",
       "      <th>perf_grp_false positive rate_0</th>\n",
       "      <th>perf_grp_false positive rate_1</th>\n",
       "      <th>perf_grp_false negative rate_0</th>\n",
       "      <th>perf_grp_false negative rate_1</th>\n",
       "      <th>perf_grp_selection rate_0</th>\n",
       "      <th>perf_grp_selection rate_1</th>\n",
       "      <th>perf_grp_count_0</th>\n",
       "      <th>perf_grp_count_1</th>\n",
       "    </tr>\n",
       "  </thead>\n",
       "  <tbody>\n",
       "    <tr>\n",
       "      <th>0</th>\n",
       "      <td>15</td>\n",
       "      <td>77ccf370906521224baaf2bf0c594bc7</td>\n",
       "      <td>{\"cutoff\": \"quantile_0.1\", \"eval_fairness_grou...</td>\n",
       "      <td>24.543073</td>\n",
       "      <td>89710</td>\n",
       "      <td>1.0</td>\n",
       "      <td>0.089302</td>\n",
       "      <td>0.906613</td>\n",
       "      <td>0.078044</td>\n",
       "      <td>0.918719</td>\n",
       "      <td>...</td>\n",
       "      <td>NaN</td>\n",
       "      <td>NaN</td>\n",
       "      <td>NaN</td>\n",
       "      <td>NaN</td>\n",
       "      <td>NaN</td>\n",
       "      <td>NaN</td>\n",
       "      <td>NaN</td>\n",
       "      <td>NaN</td>\n",
       "      <td>NaN</td>\n",
       "      <td>NaN</td>\n",
       "    </tr>\n",
       "    <tr>\n",
       "      <th>0</th>\n",
       "      <td>15</td>\n",
       "      <td>77ccf370906521224baaf2bf0c594bc7</td>\n",
       "      <td>{\"cutoff\": \"quantile_0.1\", \"eval_fairness_grou...</td>\n",
       "      <td>24.543073</td>\n",
       "      <td>89710</td>\n",
       "      <td>1.0</td>\n",
       "      <td>0.089302</td>\n",
       "      <td>0.906613</td>\n",
       "      <td>0.078044</td>\n",
       "      <td>0.918719</td>\n",
       "      <td>...</td>\n",
       "      <td>0.118903</td>\n",
       "      <td>0.147074</td>\n",
       "      <td>0.956251</td>\n",
       "      <td>0.866950</td>\n",
       "      <td>0.009713</td>\n",
       "      <td>0.018162</td>\n",
       "      <td>0.960175</td>\n",
       "      <td>0.882131</td>\n",
       "      <td>20540.0</td>\n",
       "      <td>69170.0</td>\n",
       "    </tr>\n",
       "    <tr>\n",
       "      <th>0</th>\n",
       "      <td>15</td>\n",
       "      <td>77ccf370906521224baaf2bf0c594bc7</td>\n",
       "      <td>{\"cutoff\": \"quantile_0.25\", \"eval_fairness_gro...</td>\n",
       "      <td>24.543073</td>\n",
       "      <td>89710</td>\n",
       "      <td>1.0</td>\n",
       "      <td>0.160039</td>\n",
       "      <td>0.810638</td>\n",
       "      <td>0.139489</td>\n",
       "      <td>0.837339</td>\n",
       "      <td>...</td>\n",
       "      <td>NaN</td>\n",
       "      <td>NaN</td>\n",
       "      <td>NaN</td>\n",
       "      <td>NaN</td>\n",
       "      <td>NaN</td>\n",
       "      <td>NaN</td>\n",
       "      <td>NaN</td>\n",
       "      <td>NaN</td>\n",
       "      <td>NaN</td>\n",
       "      <td>NaN</td>\n",
       "    </tr>\n",
       "    <tr>\n",
       "      <th>0</th>\n",
       "      <td>15</td>\n",
       "      <td>77ccf370906521224baaf2bf0c594bc7</td>\n",
       "      <td>{\"cutoff\": \"quantile_0.25\", \"eval_fairness_gro...</td>\n",
       "      <td>24.543073</td>\n",
       "      <td>89710</td>\n",
       "      <td>1.0</td>\n",
       "      <td>0.160039</td>\n",
       "      <td>0.810638</td>\n",
       "      <td>0.139489</td>\n",
       "      <td>0.837339</td>\n",
       "      <td>...</td>\n",
       "      <td>0.128080</td>\n",
       "      <td>0.171962</td>\n",
       "      <td>0.845146</td>\n",
       "      <td>0.685107</td>\n",
       "      <td>0.047297</td>\n",
       "      <td>0.065536</td>\n",
       "      <td>0.857546</td>\n",
       "      <td>0.718057</td>\n",
       "      <td>20540.0</td>\n",
       "      <td>69170.0</td>\n",
       "    </tr>\n",
       "  </tbody>\n",
       "</table>\n",
       "<p>4 rows × 50 columns</p>\n",
       "</div>"
      ],
      "text/plain": [
       "  run_no                       universe_id  \\\n",
       "0     15  77ccf370906521224baaf2bf0c594bc7   \n",
       "0     15  77ccf370906521224baaf2bf0c594bc7   \n",
       "0     15  77ccf370906521224baaf2bf0c594bc7   \n",
       "0     15  77ccf370906521224baaf2bf0c594bc7   \n",
       "\n",
       "                                   universe_settings  execution_time  \\\n",
       "0  {\"cutoff\": \"quantile_0.1\", \"eval_fairness_grou...       24.543073   \n",
       "0  {\"cutoff\": \"quantile_0.1\", \"eval_fairness_grou...       24.543073   \n",
       "0  {\"cutoff\": \"quantile_0.25\", \"eval_fairness_gro...       24.543073   \n",
       "0  {\"cutoff\": \"quantile_0.25\", \"eval_fairness_gro...       24.543073   \n",
       "\n",
       "   test_size_n  test_size_frac  fair_main_equalized_odds_difference  \\\n",
       "0        89710             1.0                             0.089302   \n",
       "0        89710             1.0                             0.089302   \n",
       "0        89710             1.0                             0.160039   \n",
       "0        89710             1.0                             0.160039   \n",
       "\n",
       "   fair_main_equalized_odds_ratio  fair_main_demographic_parity_difference  \\\n",
       "0                        0.906613                                 0.078044   \n",
       "0                        0.906613                                 0.078044   \n",
       "0                        0.810638                                 0.139489   \n",
       "0                        0.810638                                 0.139489   \n",
       "\n",
       "   fair_main_demographic_parity_ratio  ...  perf_grp_precision_0  \\\n",
       "0                            0.918719  ...                   NaN   \n",
       "0                            0.918719  ...              0.118903   \n",
       "0                            0.837339  ...                   NaN   \n",
       "0                            0.837339  ...              0.128080   \n",
       "\n",
       "   perf_grp_precision_1  perf_grp_false positive rate_0  \\\n",
       "0                   NaN                             NaN   \n",
       "0              0.147074                        0.956251   \n",
       "0                   NaN                             NaN   \n",
       "0              0.171962                        0.845146   \n",
       "\n",
       "   perf_grp_false positive rate_1  perf_grp_false negative rate_0  \\\n",
       "0                             NaN                             NaN   \n",
       "0                        0.866950                        0.009713   \n",
       "0                             NaN                             NaN   \n",
       "0                        0.685107                        0.047297   \n",
       "\n",
       "   perf_grp_false negative rate_1  perf_grp_selection rate_0  \\\n",
       "0                             NaN                        NaN   \n",
       "0                        0.018162                   0.960175   \n",
       "0                             NaN                        NaN   \n",
       "0                        0.065536                   0.857546   \n",
       "\n",
       "   perf_grp_selection rate_1  perf_grp_count_0  perf_grp_count_1  \n",
       "0                        NaN               NaN               NaN  \n",
       "0                   0.882131           20540.0           69170.0  \n",
       "0                        NaN               NaN               NaN  \n",
       "0                   0.718057           20540.0           69170.0  \n",
       "\n",
       "[4 rows x 50 columns]"
      ]
     },
     "execution_count": 66,
     "metadata": {},
     "output_type": "execute_result"
    }
   ],
   "source": [
    "final_output = universe_analysis.generate_final_output(\n",
    "    y_pred_prob=probs_test,\n",
    "    y_test=y_true,\n",
    "    org_test=org_test,\n",
    "    filter_data=filter_sub_universe_data,\n",
    "    cp_metrics_df=cp_metrics_df,\n",
    "    save=True,\n",
    ")\n",
    "final_output"
   ]
  }
 ],
 "metadata": {
  "celltoolbar": "Tags",
  "kernelspec": {
   "display_name": "Python (CMA Fairness)",
   "language": "python",
   "name": "cma_fair_env"
  },
  "language_info": {
   "codemirror_mode": {
    "name": "ipython",
    "version": 3
   },
   "file_extension": ".py",
   "mimetype": "text/x-python",
   "name": "python",
   "nbconvert_exporter": "python",
   "pygments_lexer": "ipython3",
   "version": "3.10.12"
  },
  "papermill": {
   "default_parameters": {},
   "duration": 38.443363,
   "end_time": "2025-08-05T15:40:05.068265",
   "environment_variables": {},
   "exception": null,
   "input_path": "universe_analysis.ipynb",
   "output_path": "output/runs/15/notebooks/m_15-77ccf370906521224baaf2bf0c594bc7.ipynb",
   "parameters": {
    "output_dir": "output",
    "run_no": "15",
    "seed": "2023",
    "universe": "{\"cutoff\": [\"quantile_0.1\", \"quantile_0.25\"], \"eval_fairness_grouping\": [\"majority-minority\", \"nationality-all\"], \"exclude_features\": \"nationality\", \"exclude_subgroups\": \"keep-all\", \"model\": \"elasticnet\", \"scale\": \"scale\", \"training_size\": \"5k\", \"training_year\": \"2012_14\"}",
    "universe_id": "77ccf370906521224baaf2bf0c594bc7"
   },
   "start_time": "2025-08-05T15:39:26.624902",
   "version": "2.6.0"
  }
 },
 "nbformat": 4,
 "nbformat_minor": 5
}