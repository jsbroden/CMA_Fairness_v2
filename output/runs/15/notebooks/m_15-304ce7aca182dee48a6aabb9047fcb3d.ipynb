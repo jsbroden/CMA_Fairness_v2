{
 "cells": [
  {
   "cell_type": "code",
   "execution_count": 1,
   "id": "f159f837-637b-42ba-96b5-ec9a68c44524",
   "metadata": {
    "execution": {
     "iopub.execute_input": "2025-08-05T15:06:21.069047Z",
     "iopub.status.busy": "2025-08-05T15:06:21.068555Z",
     "iopub.status.idle": "2025-08-05T15:06:21.082458Z",
     "shell.execute_reply": "2025-08-05T15:06:21.081367Z"
    },
    "papermill": {
     "duration": 0.036213,
     "end_time": "2025-08-05T15:06:21.086672",
     "exception": false,
     "start_time": "2025-08-05T15:06:21.050459",
     "status": "completed"
    },
    "tags": []
   },
   "outputs": [
    {
     "name": "stdout",
     "output_type": "stream",
     "text": [
      "/dss/dsshome1/0C/ra93lal2/cma/CMA_Fairness_v2\n"
     ]
    },
    {
     "name": "stderr",
     "output_type": "stream",
     "text": [
      "/dss/dsshome1/0C/ra93lal2/.local/share/virtualenvs/CMA_Fairness_v2-3j10GkSs/lib/python3.10/site-packages/IPython/core/magics/osm.py:393: UserWarning: This is now an optional IPython functionality, using bookmarks requires you to install the `pickleshare` library.\n",
      "  bkms = self.shell.db.get('bookmarks', {})\n",
      "/dss/dsshome1/0C/ra93lal2/.local/share/virtualenvs/CMA_Fairness_v2-3j10GkSs/lib/python3.10/site-packages/IPython/core/magics/osm.py:417: UserWarning: This is now an optional IPython functionality, setting dhist requires you to install the `pickleshare` library.\n",
      "  self.shell.db['dhist'] = compress_dhist(dhist)[-100:]\n"
     ]
    }
   ],
   "source": [
    "%cd ~/cma/CMA_Fairness_v2"
   ]
  },
  {
   "cell_type": "markdown",
   "id": "de2603b9",
   "metadata": {
    "papermill": {
     "duration": 0.015315,
     "end_time": "2025-08-05T15:06:21.118161",
     "exception": false,
     "start_time": "2025-08-05T15:06:21.102846",
     "status": "completed"
    },
    "tags": []
   },
   "source": [
    "The following cell holds the definition of our parameters, these values can be overriden by rendering the with e.g. the following command:\n",
    "\n",
    "papermill -p alpha 0.2 -p ratio 0.3 universe_analysis.ipynb output/test_run.ipynb"
   ]
  },
  {
   "cell_type": "code",
   "execution_count": 2,
   "id": "a80968a0-40bb-4fa9-85ef-2d5eefb01975",
   "metadata": {
    "execution": {
     "iopub.execute_input": "2025-08-05T15:06:21.149273Z",
     "iopub.status.busy": "2025-08-05T15:06:21.148618Z",
     "iopub.status.idle": "2025-08-05T15:06:21.154270Z",
     "shell.execute_reply": "2025-08-05T15:06:21.153285Z"
    },
    "papermill": {
     "duration": 0.023659,
     "end_time": "2025-08-05T15:06:21.156118",
     "exception": false,
     "start_time": "2025-08-05T15:06:21.132459",
     "status": "completed"
    },
    "tags": []
   },
   "outputs": [
    {
     "name": "stdout",
     "output_type": "stream",
     "text": [
      "Current working directory: /dss/dsshome1/0C/ra93lal2/cma/CMA_Fairness_v2\n"
     ]
    }
   ],
   "source": [
    "import os\n",
    "print(\"Current working directory:\", os.getcwd())"
   ]
  },
  {
   "cell_type": "code",
   "execution_count": 3,
   "id": "2dce4c03",
   "metadata": {
    "execution": {
     "iopub.execute_input": "2025-08-05T15:06:21.191688Z",
     "iopub.status.busy": "2025-08-05T15:06:21.191254Z",
     "iopub.status.idle": "2025-08-05T15:06:21.197819Z",
     "shell.execute_reply": "2025-08-05T15:06:21.196867Z"
    },
    "papermill": {
     "duration": 0.027261,
     "end_time": "2025-08-05T15:06:21.199661",
     "exception": false,
     "start_time": "2025-08-05T15:06:21.172400",
     "status": "completed"
    },
    "tags": [
     "parameters"
    ]
   },
   "outputs": [],
   "source": [
    "run_no = 0\n",
    "universe_id = \"test\"\n",
    "universe = {\n",
    "    \"training_size\": \"25k\", # \"25k\", \"5k\", \"1k\"\n",
    "    \"training_year\": \"2014\", # \"2014\", \"2012_14\", \"2010_14\"\n",
    "    \"scale\": \"scale\", # \"scale\", \"do-not-scale\",\n",
    "    \"model\": \"elasticnet\", # \"logreg\", \"penalized_logreg\", \"rf\", \"gbm\", \"elasticnet\"\n",
    "    \"cutoff\": [\"quantile_0.15\", \"quantile_0.30\"],\n",
    "    \"exclude_features\": \"age\", # \"none\", \"nationality\", \"sex\", \"nationality-sex\", \"age\"\n",
    "    \"exclude_subgroups\": \"keep-all\", # \"keep-all\", \"drop-non-german\"\n",
    "    \"eval_fairness_grouping\": [\"majority-minority\", \"nationality-all\"]\n",
    "}\n",
    "\n",
    "output_dir=\"./output\"\n",
    "seed=0"
   ]
  },
  {
   "cell_type": "code",
   "execution_count": 4,
   "id": "084d04b0",
   "metadata": {
    "execution": {
     "iopub.execute_input": "2025-08-05T15:06:21.232987Z",
     "iopub.status.busy": "2025-08-05T15:06:21.232583Z",
     "iopub.status.idle": "2025-08-05T15:06:21.237370Z",
     "shell.execute_reply": "2025-08-05T15:06:21.236587Z"
    },
    "papermill": {
     "duration": 0.022926,
     "end_time": "2025-08-05T15:06:21.238784",
     "exception": false,
     "start_time": "2025-08-05T15:06:21.215858",
     "status": "completed"
    },
    "tags": [
     "injected-parameters"
    ]
   },
   "outputs": [],
   "source": [
    "# Parameters\n",
    "universe_id = \"304ce7aca182dee48a6aabb9047fcb3d\"\n",
    "run_no = \"15\"\n",
    "universe = \"{\\\"cutoff\\\": [\\\"quantile_0.1\\\", \\\"quantile_0.25\\\"], \\\"eval_fairness_grouping\\\": [\\\"majority-minority\\\", \\\"nationality-all\\\"], \\\"exclude_features\\\": \\\"age\\\", \\\"exclude_subgroups\\\": \\\"keep-all\\\", \\\"model\\\": \\\"penalized_logreg\\\", \\\"scale\\\": \\\"scale\\\", \\\"training_size\\\": \\\"25k\\\", \\\"training_year\\\": \\\"2010_14\\\"}\"\n",
    "output_dir = \"output\"\n",
    "seed = \"2023\"\n"
   ]
  },
  {
   "cell_type": "code",
   "execution_count": 5,
   "id": "1650acaf",
   "metadata": {
    "execution": {
     "iopub.execute_input": "2025-08-05T15:06:21.270665Z",
     "iopub.status.busy": "2025-08-05T15:06:21.270294Z",
     "iopub.status.idle": "2025-08-05T15:06:21.285197Z",
     "shell.execute_reply": "2025-08-05T15:06:21.284301Z"
    },
    "papermill": {
     "duration": 0.032524,
     "end_time": "2025-08-05T15:06:21.287129",
     "exception": false,
     "start_time": "2025-08-05T15:06:21.254605",
     "status": "completed"
    },
    "tags": []
   },
   "outputs": [],
   "source": [
    "import json\n",
    "if isinstance(universe, str):\n",
    "    universe = json.loads(universe)"
   ]
  },
  {
   "cell_type": "code",
   "execution_count": 6,
   "id": "16620c48",
   "metadata": {
    "execution": {
     "iopub.execute_input": "2025-08-05T15:06:21.322557Z",
     "iopub.status.busy": "2025-08-05T15:06:21.322058Z",
     "iopub.status.idle": "2025-08-05T15:06:21.366249Z",
     "shell.execute_reply": "2025-08-05T15:06:21.365454Z"
    },
    "papermill": {
     "duration": 0.06388,
     "end_time": "2025-08-05T15:06:21.367758",
     "exception": false,
     "start_time": "2025-08-05T15:06:21.303878",
     "status": "completed"
    },
    "tags": []
   },
   "outputs": [],
   "source": [
    "# Auto-reload the custom package\n",
    "%load_ext autoreload\n",
    "%autoreload 1\n",
    "%aimport fairness_multiverse"
   ]
  },
  {
   "cell_type": "code",
   "execution_count": 7,
   "id": "01c5c9f3",
   "metadata": {
    "execution": {
     "iopub.execute_input": "2025-08-05T15:06:21.402810Z",
     "iopub.status.busy": "2025-08-05T15:06:21.401875Z",
     "iopub.status.idle": "2025-08-05T15:06:23.210720Z",
     "shell.execute_reply": "2025-08-05T15:06:23.209659Z"
    },
    "papermill": {
     "duration": 1.829295,
     "end_time": "2025-08-05T15:06:23.212533",
     "exception": false,
     "start_time": "2025-08-05T15:06:21.383238",
     "status": "completed"
    },
    "tags": []
   },
   "outputs": [],
   "source": [
    "from fairness_multiverse.universe import UniverseAnalysis\n",
    "\n",
    "universe_analysis = UniverseAnalysis(\n",
    "    run_no = run_no,\n",
    "    universe_id = universe_id,\n",
    "    universe = universe,\n",
    "    output_dir=output_dir,\n",
    ")"
   ]
  },
  {
   "cell_type": "code",
   "execution_count": 8,
   "id": "106241f5",
   "metadata": {
    "execution": {
     "iopub.execute_input": "2025-08-05T15:06:23.244687Z",
     "iopub.status.busy": "2025-08-05T15:06:23.243862Z",
     "iopub.status.idle": "2025-08-05T15:06:23.250790Z",
     "shell.execute_reply": "2025-08-05T15:06:23.249673Z"
    },
    "papermill": {
     "duration": 0.024726,
     "end_time": "2025-08-05T15:06:23.252848",
     "exception": false,
     "start_time": "2025-08-05T15:06:23.228122",
     "status": "completed"
    },
    "tags": []
   },
   "outputs": [
    {
     "name": "stdout",
     "output_type": "stream",
     "text": [
      "Using Seed: 2023\n"
     ]
    }
   ],
   "source": [
    "import numpy as np\n",
    "parsed_seed = int(seed)\n",
    "np.random.seed(parsed_seed)\n",
    "print(f\"Using Seed: {parsed_seed}\")"
   ]
  },
  {
   "cell_type": "markdown",
   "id": "e0ebdc57",
   "metadata": {
    "papermill": {
     "duration": 0.015522,
     "end_time": "2025-08-05T15:06:23.286831",
     "exception": false,
     "start_time": "2025-08-05T15:06:23.271309",
     "status": "completed"
    },
    "tags": []
   },
   "source": [
    "# Loading Data"
   ]
  },
  {
   "cell_type": "code",
   "execution_count": 9,
   "id": "f0496b8a",
   "metadata": {
    "execution": {
     "iopub.execute_input": "2025-08-05T15:06:23.320482Z",
     "iopub.status.busy": "2025-08-05T15:06:23.319976Z",
     "iopub.status.idle": "2025-08-05T15:06:34.999968Z",
     "shell.execute_reply": "2025-08-05T15:06:34.998793Z"
    },
    "papermill": {
     "duration": 11.699746,
     "end_time": "2025-08-05T15:06:35.001535",
     "exception": false,
     "start_time": "2025-08-05T15:06:23.301789",
     "status": "completed"
    },
    "tags": []
   },
   "outputs": [
    {
     "name": "stdout",
     "output_type": "stream",
     "text": [
      "Loading SIAB data from cache: data/siab_cached.csv.gz\n"
     ]
    },
    {
     "name": "stdout",
     "output_type": "stream",
     "text": [
      "(643690, 164)\n"
     ]
    }
   ],
   "source": [
    "from pathlib import Path\n",
    "import pandas as pd\n",
    "\n",
    "# File paths\n",
    "raw_file = Path(\"data/raw/siab.csv\")\n",
    "cache_file = Path(\"data/siab_cached.csv.gz\")\n",
    "\n",
    "# Ensure cache directory exists\n",
    "cache_file.parent.mkdir(parents=True, exist_ok=True)\n",
    "\n",
    "# Load with simple caching\n",
    "if cache_file.exists():\n",
    "    print(f\"Loading SIAB data from cache: {cache_file}\")\n",
    "    siab = pd.read_csv(cache_file, compression='gzip')\n",
    "else:\n",
    "    print(f\"Cache not found. Reading raw SIAB data: {raw_file}\")\n",
    "    siab = pd.read_csv(raw_file)\n",
    "    siab.to_csv(cache_file, index=False, compression='gzip')\n",
    "    print(f\"Cached SIAB data to: {cache_file}\")\n",
    "\n",
    "print(siab.shape)"
   ]
  },
  {
   "cell_type": "code",
   "execution_count": 10,
   "id": "db0ca512-5f53-4dba-abdb-a2888bca41ba",
   "metadata": {
    "execution": {
     "iopub.execute_input": "2025-08-05T15:06:35.037363Z",
     "iopub.status.busy": "2025-08-05T15:06:35.036951Z",
     "iopub.status.idle": "2025-08-05T15:06:35.041978Z",
     "shell.execute_reply": "2025-08-05T15:06:35.041131Z"
    },
    "papermill": {
     "duration": 0.023038,
     "end_time": "2025-08-05T15:06:35.043619",
     "exception": false,
     "start_time": "2025-08-05T15:06:35.020581",
     "status": "completed"
    },
    "tags": []
   },
   "outputs": [],
   "source": [
    "#siab"
   ]
  },
  {
   "cell_type": "markdown",
   "id": "997051c5-15bd-4b69-9786-c3001a3ce484",
   "metadata": {
    "papermill": {
     "duration": 0.015893,
     "end_time": "2025-08-05T15:06:35.076825",
     "exception": false,
     "start_time": "2025-08-05T15:06:35.060932",
     "status": "completed"
    },
    "tags": []
   },
   "source": [
    "# Splitting Data and Setting Training Data Size"
   ]
  },
  {
   "cell_type": "code",
   "execution_count": 11,
   "id": "aea9c6ef-6f46-42c8-85eb-5a62025c1508",
   "metadata": {
    "execution": {
     "iopub.execute_input": "2025-08-05T15:06:35.109174Z",
     "iopub.status.busy": "2025-08-05T15:06:35.108552Z",
     "iopub.status.idle": "2025-08-05T15:06:36.219615Z",
     "shell.execute_reply": "2025-08-05T15:06:36.218797Z"
    },
    "papermill": {
     "duration": 1.129012,
     "end_time": "2025-08-05T15:06:36.221205",
     "exception": false,
     "start_time": "2025-08-05T15:06:35.092193",
     "status": "completed"
    },
    "tags": []
   },
   "outputs": [],
   "source": [
    "from fairness_multiverse.universe import sample_by_year_size\n",
    "\n",
    "siab_train = sample_by_year_size(siab,\n",
    "                               training_year=universe[\"training_year\"],\n",
    "                               training_size=universe[\"training_size\"])"
   ]
  },
  {
   "cell_type": "code",
   "execution_count": 12,
   "id": "8d3afb32-789d-442c-8d5d-9f5aa8dd2eed",
   "metadata": {
    "execution": {
     "iopub.execute_input": "2025-08-05T15:06:36.242598Z",
     "iopub.status.busy": "2025-08-05T15:06:36.242027Z",
     "iopub.status.idle": "2025-08-05T15:06:36.248570Z",
     "shell.execute_reply": "2025-08-05T15:06:36.247162Z"
    },
    "papermill": {
     "duration": 0.019712,
     "end_time": "2025-08-05T15:06:36.250766",
     "exception": false,
     "start_time": "2025-08-05T15:06:36.231054",
     "status": "completed"
    },
    "tags": []
   },
   "outputs": [],
   "source": [
    "#siab_train.shape"
   ]
  },
  {
   "cell_type": "code",
   "execution_count": 13,
   "id": "d582db68-1a4c-47fb-84fc-08518dc1975a",
   "metadata": {
    "execution": {
     "iopub.execute_input": "2025-08-05T15:06:36.289107Z",
     "iopub.status.busy": "2025-08-05T15:06:36.288237Z",
     "iopub.status.idle": "2025-08-05T15:06:36.294446Z",
     "shell.execute_reply": "2025-08-05T15:06:36.293279Z"
    },
    "papermill": {
     "duration": 0.026526,
     "end_time": "2025-08-05T15:06:36.296235",
     "exception": false,
     "start_time": "2025-08-05T15:06:36.269709",
     "status": "completed"
    },
    "tags": []
   },
   "outputs": [],
   "source": [
    "#display(siab_train.groupby(\"year\").size())"
   ]
  },
  {
   "cell_type": "code",
   "execution_count": 14,
   "id": "a561edb4-d032-42cb-8256-22eac1111c64",
   "metadata": {
    "execution": {
     "iopub.execute_input": "2025-08-05T15:06:36.334873Z",
     "iopub.status.busy": "2025-08-05T15:06:36.333910Z",
     "iopub.status.idle": "2025-08-05T15:06:36.617767Z",
     "shell.execute_reply": "2025-08-05T15:06:36.616593Z"
    },
    "papermill": {
     "duration": 0.306409,
     "end_time": "2025-08-05T15:06:36.620100",
     "exception": false,
     "start_time": "2025-08-05T15:06:36.313691",
     "status": "completed"
    },
    "tags": []
   },
   "outputs": [],
   "source": [
    "#siab_train = siab_s[siab_s.year < 2015]\n",
    "siab_calib = siab[siab.year == 2015]\n",
    "siab_test = siab[siab.year == 2016]"
   ]
  },
  {
   "cell_type": "code",
   "execution_count": 15,
   "id": "472de16f-c3db-4916-846b-1f0de9cf1746",
   "metadata": {
    "execution": {
     "iopub.execute_input": "2025-08-05T15:06:36.669694Z",
     "iopub.status.busy": "2025-08-05T15:06:36.669103Z",
     "iopub.status.idle": "2025-08-05T15:06:36.687311Z",
     "shell.execute_reply": "2025-08-05T15:06:36.686061Z"
    },
    "papermill": {
     "duration": 0.045245,
     "end_time": "2025-08-05T15:06:36.689501",
     "exception": false,
     "start_time": "2025-08-05T15:06:36.644256",
     "status": "completed"
    },
    "tags": []
   },
   "outputs": [],
   "source": [
    "X_train = siab_train.iloc[:,4:164]\n",
    "y_train = siab_train.iloc[:, [3]]"
   ]
  },
  {
   "cell_type": "code",
   "execution_count": 16,
   "id": "828c96af-f43a-4ed6-ba47-8ac73a47d56c",
   "metadata": {
    "execution": {
     "iopub.execute_input": "2025-08-05T15:06:36.739554Z",
     "iopub.status.busy": "2025-08-05T15:06:36.739022Z",
     "iopub.status.idle": "2025-08-05T15:06:36.795875Z",
     "shell.execute_reply": "2025-08-05T15:06:36.794784Z"
    },
    "papermill": {
     "duration": 0.08361,
     "end_time": "2025-08-05T15:06:36.798161",
     "exception": false,
     "start_time": "2025-08-05T15:06:36.714551",
     "status": "completed"
    },
    "tags": []
   },
   "outputs": [],
   "source": [
    "X_calib = siab_calib.iloc[:,4:164]\n",
    "y_calib = siab_calib.iloc[:, [3]]"
   ]
  },
  {
   "cell_type": "code",
   "execution_count": 17,
   "id": "c34be9c3-6bd6-476e-acd3-845840e303be",
   "metadata": {
    "execution": {
     "iopub.execute_input": "2025-08-05T15:06:36.848113Z",
     "iopub.status.busy": "2025-08-05T15:06:36.847610Z",
     "iopub.status.idle": "2025-08-05T15:06:36.904945Z",
     "shell.execute_reply": "2025-08-05T15:06:36.903734Z"
    },
    "papermill": {
     "duration": 0.084163,
     "end_time": "2025-08-05T15:06:36.907077",
     "exception": false,
     "start_time": "2025-08-05T15:06:36.822914",
     "status": "completed"
    },
    "tags": []
   },
   "outputs": [],
   "source": [
    "X_test = siab_test.iloc[:,4:164]\n",
    "y_true = siab_test.iloc[:, [3]]"
   ]
  },
  {
   "cell_type": "code",
   "execution_count": 18,
   "id": "e6c733c5",
   "metadata": {
    "execution": {
     "iopub.execute_input": "2025-08-05T15:06:36.944658Z",
     "iopub.status.busy": "2025-08-05T15:06:36.944305Z",
     "iopub.status.idle": "2025-08-05T15:06:37.045847Z",
     "shell.execute_reply": "2025-08-05T15:06:37.044849Z"
    },
    "papermill": {
     "duration": 0.121426,
     "end_time": "2025-08-05T15:06:37.047380",
     "exception": false,
     "start_time": "2025-08-05T15:06:36.925954",
     "status": "completed"
    },
    "tags": []
   },
   "outputs": [],
   "source": [
    "# Auxiliary data needed downstream in the pipeline\n",
    "\n",
    "org_train = X_train.copy()\n",
    "org_test = X_test.copy()\n",
    "org_calib = X_calib.copy()"
   ]
  },
  {
   "cell_type": "markdown",
   "id": "0a4a1b33",
   "metadata": {
    "papermill": {
     "duration": 0.01804,
     "end_time": "2025-08-05T15:06:37.082427",
     "exception": false,
     "start_time": "2025-08-05T15:06:37.064387",
     "status": "completed"
    },
    "tags": []
   },
   "source": [
    "# Preprocessing Data"
   ]
  },
  {
   "cell_type": "code",
   "execution_count": 19,
   "id": "ca879031",
   "metadata": {
    "execution": {
     "iopub.execute_input": "2025-08-05T15:06:37.119610Z",
     "iopub.status.busy": "2025-08-05T15:06:37.119143Z",
     "iopub.status.idle": "2025-08-05T15:06:37.125374Z",
     "shell.execute_reply": "2025-08-05T15:06:37.124393Z"
    },
    "papermill": {
     "duration": 0.027076,
     "end_time": "2025-08-05T15:06:37.127142",
     "exception": false,
     "start_time": "2025-08-05T15:06:37.100066",
     "status": "completed"
    },
    "tags": []
   },
   "outputs": [],
   "source": [
    "# EXCLUDE PROTECTED FEATURES\n",
    "# ----------------------\n",
    "# \"exclude_features\": \"none\", # \"nationality\", \"sex\", \"nationality-sex\"\n",
    "\n",
    "excluded_features = universe[\"exclude_features\"].split(\"-\") # split, e.g.: \"nationality-sex\" -> [\"nationality\", \"sex\"]\n",
    "excluded_features_dictionary = {\n",
    "    \"nationality\": [\"maxdeutsch1\", \"maxdeutsch.Missing.\"],\n",
    "    \"sex\": [\"frau1\"],\n",
    "    \"age\": [\"age\"],\n",
    "}"
   ]
  },
  {
   "cell_type": "code",
   "execution_count": 20,
   "id": "b745ac60",
   "metadata": {
    "execution": {
     "iopub.execute_input": "2025-08-05T15:06:37.167864Z",
     "iopub.status.busy": "2025-08-05T15:06:37.167397Z",
     "iopub.status.idle": "2025-08-05T15:06:37.173547Z",
     "shell.execute_reply": "2025-08-05T15:06:37.172463Z"
    },
    "papermill": {
     "duration": 0.028108,
     "end_time": "2025-08-05T15:06:37.175439",
     "exception": false,
     "start_time": "2025-08-05T15:06:37.147331",
     "status": "completed"
    },
    "tags": []
   },
   "outputs": [],
   "source": [
    "# Code nice names to column names\n",
    "\n",
    "excluded_features_columns = [\n",
    "    excluded_features_dictionary[f] for f in excluded_features if len(f) > 0 and f != \"none\"\n",
    "]"
   ]
  },
  {
   "cell_type": "code",
   "execution_count": 21,
   "id": "f84f73a2",
   "metadata": {
    "execution": {
     "iopub.execute_input": "2025-08-05T15:06:37.215579Z",
     "iopub.status.busy": "2025-08-05T15:06:37.214623Z",
     "iopub.status.idle": "2025-08-05T15:06:37.221922Z",
     "shell.execute_reply": "2025-08-05T15:06:37.220431Z"
    },
    "papermill": {
     "duration": 0.028984,
     "end_time": "2025-08-05T15:06:37.223947",
     "exception": false,
     "start_time": "2025-08-05T15:06:37.194963",
     "status": "completed"
    },
    "tags": []
   },
   "outputs": [],
   "source": [
    "from utils import flatten_once\n",
    "\n",
    "excluded_features_columns = flatten_once(excluded_features_columns)"
   ]
  },
  {
   "cell_type": "code",
   "execution_count": 22,
   "id": "884dea22",
   "metadata": {
    "execution": {
     "iopub.execute_input": "2025-08-05T15:06:37.263278Z",
     "iopub.status.busy": "2025-08-05T15:06:37.262273Z",
     "iopub.status.idle": "2025-08-05T15:06:37.279406Z",
     "shell.execute_reply": "2025-08-05T15:06:37.278157Z"
    },
    "papermill": {
     "duration": 0.038051,
     "end_time": "2025-08-05T15:06:37.281323",
     "exception": false,
     "start_time": "2025-08-05T15:06:37.243272",
     "status": "completed"
    },
    "tags": []
   },
   "outputs": [
    {
     "name": "stdout",
     "output_type": "stream",
     "text": [
      "Dropping features: ['age']\n"
     ]
    }
   ],
   "source": [
    "if len(excluded_features_columns) > 0:\n",
    "    print(f\"Dropping features: {excluded_features_columns}\")\n",
    "    X_train.drop(excluded_features_columns, axis=1, inplace=True)"
   ]
  },
  {
   "cell_type": "code",
   "execution_count": 23,
   "id": "95ab8b16",
   "metadata": {
    "execution": {
     "iopub.execute_input": "2025-08-05T15:06:37.319568Z",
     "iopub.status.busy": "2025-08-05T15:06:37.318924Z",
     "iopub.status.idle": "2025-08-05T15:06:37.382692Z",
     "shell.execute_reply": "2025-08-05T15:06:37.379843Z"
    },
    "papermill": {
     "duration": 0.084396,
     "end_time": "2025-08-05T15:06:37.384602",
     "exception": false,
     "start_time": "2025-08-05T15:06:37.300206",
     "status": "completed"
    },
    "tags": []
   },
   "outputs": [
    {
     "name": "stdout",
     "output_type": "stream",
     "text": [
      "Dropping features: ['age']\n"
     ]
    }
   ],
   "source": [
    "if len(excluded_features_columns) > 0:\n",
    "    print(f\"Dropping features: {excluded_features_columns}\")\n",
    "    X_test.drop(excluded_features_columns, axis=1, inplace=True)"
   ]
  },
  {
   "cell_type": "code",
   "execution_count": 24,
   "id": "1853aaf5-fb9f-46cb-a2b5-8ea4ae2237e4",
   "metadata": {
    "execution": {
     "iopub.execute_input": "2025-08-05T15:06:37.427670Z",
     "iopub.status.busy": "2025-08-05T15:06:37.426736Z",
     "iopub.status.idle": "2025-08-05T15:06:37.483511Z",
     "shell.execute_reply": "2025-08-05T15:06:37.482073Z"
    },
    "papermill": {
     "duration": 0.0807,
     "end_time": "2025-08-05T15:06:37.485322",
     "exception": false,
     "start_time": "2025-08-05T15:06:37.404622",
     "status": "completed"
    },
    "tags": []
   },
   "outputs": [
    {
     "name": "stdout",
     "output_type": "stream",
     "text": [
      "Dropping features: ['age']\n"
     ]
    }
   ],
   "source": [
    "if len(excluded_features_columns) > 0:\n",
    "    print(f\"Dropping features: {excluded_features_columns}\")\n",
    "    X_calib.drop(excluded_features_columns, axis=1, inplace=True)"
   ]
  },
  {
   "cell_type": "code",
   "execution_count": 25,
   "id": "76c4dc6d",
   "metadata": {
    "execution": {
     "iopub.execute_input": "2025-08-05T15:06:37.527833Z",
     "iopub.status.busy": "2025-08-05T15:06:37.527169Z",
     "iopub.status.idle": "2025-08-05T15:06:37.534438Z",
     "shell.execute_reply": "2025-08-05T15:06:37.533065Z"
    },
    "papermill": {
     "duration": 0.029003,
     "end_time": "2025-08-05T15:06:37.537005",
     "exception": false,
     "start_time": "2025-08-05T15:06:37.508002",
     "status": "completed"
    },
    "tags": []
   },
   "outputs": [],
   "source": [
    "# EXCLUDE CERTAIN SUBGROUPS\n",
    "# ----------------------\n",
    "\n",
    "mode = universe.get(\"exclude_subgroups\", \"keep-all\") \n",
    "# Fetches the exclude_subgroups setting from the universe dict.\n",
    "# Defaults to \"keep-all\" if the key is missing."
   ]
  },
  {
   "cell_type": "code",
   "execution_count": 26,
   "id": "21994072",
   "metadata": {
    "execution": {
     "iopub.execute_input": "2025-08-05T15:06:37.599482Z",
     "iopub.status.busy": "2025-08-05T15:06:37.598917Z",
     "iopub.status.idle": "2025-08-05T15:06:37.606941Z",
     "shell.execute_reply": "2025-08-05T15:06:37.605564Z"
    },
    "papermill": {
     "duration": 0.041126,
     "end_time": "2025-08-05T15:06:37.609031",
     "exception": false,
     "start_time": "2025-08-05T15:06:37.567905",
     "status": "completed"
    },
    "tags": []
   },
   "outputs": [],
   "source": [
    "if mode == \"keep-all\":\n",
    "    keep_mask = pd.Series(True, index=org_train.index)\n",
    "\n",
    "# org_train contains the original feature columns from features_org (in Simson)\n",
    "# features_org contains unprocessed features, for me X_train at beginning ???\n",
    "# For keep-all, creates a boolean Series (keep_mask) of all True, so no rows are removed.\n",
    "\n",
    "elif mode == \"drop-non-german\":\n",
    "    keep_mask = org_train[\"maxdeutsch1\"] == 1 # ??? what about missing values?\n",
    "\n",
    "else:\n",
    "    raise ValueError(f\"Unsupported mode for exclude_subgroups: {mode}\")"
   ]
  },
  {
   "cell_type": "code",
   "execution_count": 27,
   "id": "71651440",
   "metadata": {
    "execution": {
     "iopub.execute_input": "2025-08-05T15:06:37.647484Z",
     "iopub.status.busy": "2025-08-05T15:06:37.647129Z",
     "iopub.status.idle": "2025-08-05T15:06:37.652335Z",
     "shell.execute_reply": "2025-08-05T15:06:37.651664Z"
    },
    "papermill": {
     "duration": 0.02534,
     "end_time": "2025-08-05T15:06:37.653772",
     "exception": false,
     "start_time": "2025-08-05T15:06:37.628432",
     "status": "completed"
    },
    "tags": []
   },
   "outputs": [],
   "source": [
    "n_drop = (~keep_mask).sum() # Calculates how many rows are set to be dropped\n",
    "if n_drop > 0:\n",
    "    pct = n_drop / len(keep_mask) * 100\n",
    "    print(f\"Dropping {n_drop} rows ({pct:.2f}%) where mode='{mode}'\")"
   ]
  },
  {
   "cell_type": "code",
   "execution_count": 28,
   "id": "5fb8eee5",
   "metadata": {
    "execution": {
     "iopub.execute_input": "2025-08-05T15:06:37.675543Z",
     "iopub.status.busy": "2025-08-05T15:06:37.674965Z",
     "iopub.status.idle": "2025-08-05T15:06:37.689840Z",
     "shell.execute_reply": "2025-08-05T15:06:37.688864Z"
    },
    "papermill": {
     "duration": 0.026693,
     "end_time": "2025-08-05T15:06:37.691469",
     "exception": false,
     "start_time": "2025-08-05T15:06:37.664776",
     "status": "completed"
    },
    "tags": []
   },
   "outputs": [],
   "source": [
    "X_train = X_train[keep_mask]"
   ]
  },
  {
   "cell_type": "code",
   "execution_count": 29,
   "id": "b202bb3a",
   "metadata": {
    "execution": {
     "iopub.execute_input": "2025-08-05T15:06:37.712451Z",
     "iopub.status.busy": "2025-08-05T15:06:37.712111Z",
     "iopub.status.idle": "2025-08-05T15:06:37.717546Z",
     "shell.execute_reply": "2025-08-05T15:06:37.716659Z"
    },
    "papermill": {
     "duration": 0.017399,
     "end_time": "2025-08-05T15:06:37.719405",
     "exception": false,
     "start_time": "2025-08-05T15:06:37.702006",
     "status": "completed"
    },
    "tags": []
   },
   "outputs": [],
   "source": [
    "y_train = y_train[keep_mask]"
   ]
  },
  {
   "cell_type": "markdown",
   "id": "493e2ac3",
   "metadata": {
    "papermill": {
     "duration": 0.017344,
     "end_time": "2025-08-05T15:06:37.755682",
     "exception": false,
     "start_time": "2025-08-05T15:06:37.738338",
     "status": "completed"
    },
    "tags": []
   },
   "source": [
    "# Model Training"
   ]
  },
  {
   "cell_type": "code",
   "execution_count": 30,
   "id": "679e1268",
   "metadata": {
    "execution": {
     "iopub.execute_input": "2025-08-05T15:06:37.793062Z",
     "iopub.status.busy": "2025-08-05T15:06:37.792720Z",
     "iopub.status.idle": "2025-08-05T15:06:37.882981Z",
     "shell.execute_reply": "2025-08-05T15:06:37.882249Z"
    },
    "papermill": {
     "duration": 0.110764,
     "end_time": "2025-08-05T15:06:37.884404",
     "exception": false,
     "start_time": "2025-08-05T15:06:37.773640",
     "status": "completed"
    },
    "tags": []
   },
   "outputs": [],
   "source": [
    "from sklearn.linear_model import LogisticRegression\n",
    "from sklearn.ensemble import GradientBoostingClassifier, RandomForestClassifier\n",
    "\n",
    "if (universe[\"model\"] == \"logreg\"):\n",
    "    model = LogisticRegression() #penalty=\"none\", solver=\"newton-cg\", max_iter=1) # include random_state=19 ?\n",
    "elif (universe[\"model\"] == \"penalized_logreg\"):\n",
    "    model = LogisticRegression(penalty=\"l2\", C=0.1) #, solver=\"newton-cg\", max_iter=1)\n",
    "elif (universe[\"model\"] == \"rf\"):\n",
    "    model = RandomForestClassifier() # n_estimators=100, n_jobs=-1\n",
    "elif (universe[\"model\"] == \"gbm\"):\n",
    "    model = GradientBoostingClassifier()\n",
    "elif (universe[\"model\"] == \"elasticnet\"):\n",
    "    model = LogisticRegression(penalty = 'elasticnet', solver = 'saga', l1_ratio = 0.5) # max_iter=5000\n",
    "else:\n",
    "    raise \"Unsupported universe.model\""
   ]
  },
  {
   "cell_type": "code",
   "execution_count": 31,
   "id": "0cc8f744",
   "metadata": {
    "execution": {
     "iopub.execute_input": "2025-08-05T15:06:37.905933Z",
     "iopub.status.busy": "2025-08-05T15:06:37.905249Z",
     "iopub.status.idle": "2025-08-05T15:06:37.910722Z",
     "shell.execute_reply": "2025-08-05T15:06:37.909683Z"
    },
    "papermill": {
     "duration": 0.018633,
     "end_time": "2025-08-05T15:06:37.913129",
     "exception": false,
     "start_time": "2025-08-05T15:06:37.894496",
     "status": "completed"
    },
    "tags": []
   },
   "outputs": [],
   "source": [
    "import numpy as np\n",
    "from sklearn.pipeline import Pipeline\n",
    "from sklearn.preprocessing import StandardScaler\n",
    "\n",
    "model = Pipeline([\n",
    "    #(\"continuous_processor\", continuous_processor),\n",
    "    #(\"categorical_preprocessor\", categorical_preprocessor),\n",
    "    (\"scale\", StandardScaler() if universe[\"scale\"] == \"scale\" else None), \n",
    "    (\"model\", model),\n",
    "])"
   ]
  },
  {
   "cell_type": "code",
   "execution_count": 32,
   "id": "9442c04d",
   "metadata": {
    "execution": {
     "iopub.execute_input": "2025-08-05T15:06:37.954480Z",
     "iopub.status.busy": "2025-08-05T15:06:37.953580Z",
     "iopub.status.idle": "2025-08-05T15:06:39.305190Z",
     "shell.execute_reply": "2025-08-05T15:06:39.304122Z"
    },
    "papermill": {
     "duration": 1.374511,
     "end_time": "2025-08-05T15:06:39.306972",
     "exception": false,
     "start_time": "2025-08-05T15:06:37.932461",
     "status": "completed"
    },
    "tags": []
   },
   "outputs": [
    {
     "name": "stderr",
     "output_type": "stream",
     "text": [
      "/dss/dsshome1/0C/ra93lal2/.local/share/virtualenvs/CMA_Fairness_v2-3j10GkSs/lib/python3.10/site-packages/sklearn/linear_model/_logistic.py:444: ConvergenceWarning: lbfgs failed to converge (status=1):\n",
      "STOP: TOTAL NO. of ITERATIONS REACHED LIMIT.\n",
      "\n",
      "Increase the number of iterations (max_iter) or scale the data as shown in:\n",
      "    https://scikit-learn.org/stable/modules/preprocessing.html\n",
      "Please also refer to the documentation for alternative solver options:\n",
      "    https://scikit-learn.org/stable/modules/linear_model.html#logistic-regression\n",
      "  n_iter_i = _check_optimize_result(\n"
     ]
    },
    {
     "data": {
      "text/html": [
       "<style>#sk-container-id-1 {color: black;background-color: white;}#sk-container-id-1 pre{padding: 0;}#sk-container-id-1 div.sk-toggleable {background-color: white;}#sk-container-id-1 label.sk-toggleable__label {cursor: pointer;display: block;width: 100%;margin-bottom: 0;padding: 0.3em;box-sizing: border-box;text-align: center;}#sk-container-id-1 label.sk-toggleable__label-arrow:before {content: \"▸\";float: left;margin-right: 0.25em;color: #696969;}#sk-container-id-1 label.sk-toggleable__label-arrow:hover:before {color: black;}#sk-container-id-1 div.sk-estimator:hover label.sk-toggleable__label-arrow:before {color: black;}#sk-container-id-1 div.sk-toggleable__content {max-height: 0;max-width: 0;overflow: hidden;text-align: left;background-color: #f0f8ff;}#sk-container-id-1 div.sk-toggleable__content pre {margin: 0.2em;color: black;border-radius: 0.25em;background-color: #f0f8ff;}#sk-container-id-1 input.sk-toggleable__control:checked~div.sk-toggleable__content {max-height: 200px;max-width: 100%;overflow: auto;}#sk-container-id-1 input.sk-toggleable__control:checked~label.sk-toggleable__label-arrow:before {content: \"▾\";}#sk-container-id-1 div.sk-estimator input.sk-toggleable__control:checked~label.sk-toggleable__label {background-color: #d4ebff;}#sk-container-id-1 div.sk-label input.sk-toggleable__control:checked~label.sk-toggleable__label {background-color: #d4ebff;}#sk-container-id-1 input.sk-hidden--visually {border: 0;clip: rect(1px 1px 1px 1px);clip: rect(1px, 1px, 1px, 1px);height: 1px;margin: -1px;overflow: hidden;padding: 0;position: absolute;width: 1px;}#sk-container-id-1 div.sk-estimator {font-family: monospace;background-color: #f0f8ff;border: 1px dotted black;border-radius: 0.25em;box-sizing: border-box;margin-bottom: 0.5em;}#sk-container-id-1 div.sk-estimator:hover {background-color: #d4ebff;}#sk-container-id-1 div.sk-parallel-item::after {content: \"\";width: 100%;border-bottom: 1px solid gray;flex-grow: 1;}#sk-container-id-1 div.sk-label:hover label.sk-toggleable__label {background-color: #d4ebff;}#sk-container-id-1 div.sk-serial::before {content: \"\";position: absolute;border-left: 1px solid gray;box-sizing: border-box;top: 0;bottom: 0;left: 50%;z-index: 0;}#sk-container-id-1 div.sk-serial {display: flex;flex-direction: column;align-items: center;background-color: white;padding-right: 0.2em;padding-left: 0.2em;position: relative;}#sk-container-id-1 div.sk-item {position: relative;z-index: 1;}#sk-container-id-1 div.sk-parallel {display: flex;align-items: stretch;justify-content: center;background-color: white;position: relative;}#sk-container-id-1 div.sk-item::before, #sk-container-id-1 div.sk-parallel-item::before {content: \"\";position: absolute;border-left: 1px solid gray;box-sizing: border-box;top: 0;bottom: 0;left: 50%;z-index: -1;}#sk-container-id-1 div.sk-parallel-item {display: flex;flex-direction: column;z-index: 1;position: relative;background-color: white;}#sk-container-id-1 div.sk-parallel-item:first-child::after {align-self: flex-end;width: 50%;}#sk-container-id-1 div.sk-parallel-item:last-child::after {align-self: flex-start;width: 50%;}#sk-container-id-1 div.sk-parallel-item:only-child::after {width: 0;}#sk-container-id-1 div.sk-dashed-wrapped {border: 1px dashed gray;margin: 0 0.4em 0.5em 0.4em;box-sizing: border-box;padding-bottom: 0.4em;background-color: white;}#sk-container-id-1 div.sk-label label {font-family: monospace;font-weight: bold;display: inline-block;line-height: 1.2em;}#sk-container-id-1 div.sk-label-container {text-align: center;}#sk-container-id-1 div.sk-container {/* jupyter's `normalize.less` sets `[hidden] { display: none; }` but bootstrap.min.css set `[hidden] { display: none !important; }` so we also need the `!important` here to be able to override the default hidden behavior on the sphinx rendered scikit-learn.org. See: https://github.com/scikit-learn/scikit-learn/issues/21755 */display: inline-block !important;position: relative;}#sk-container-id-1 div.sk-text-repr-fallback {display: none;}</style><div id=\"sk-container-id-1\" class=\"sk-top-container\"><div class=\"sk-text-repr-fallback\"><pre>Pipeline(steps=[(&#x27;scale&#x27;, StandardScaler()),\n",
       "                (&#x27;model&#x27;, LogisticRegression(C=0.1))])</pre><b>In a Jupyter environment, please rerun this cell to show the HTML representation or trust the notebook. <br />On GitHub, the HTML representation is unable to render, please try loading this page with nbviewer.org.</b></div><div class=\"sk-container\" hidden><div class=\"sk-item sk-dashed-wrapped\"><div class=\"sk-label-container\"><div class=\"sk-label sk-toggleable\"><input class=\"sk-toggleable__control sk-hidden--visually\" id=\"sk-estimator-id-1\" type=\"checkbox\" ><label for=\"sk-estimator-id-1\" class=\"sk-toggleable__label sk-toggleable__label-arrow\">Pipeline</label><div class=\"sk-toggleable__content\"><pre>Pipeline(steps=[(&#x27;scale&#x27;, StandardScaler()),\n",
       "                (&#x27;model&#x27;, LogisticRegression(C=0.1))])</pre></div></div></div><div class=\"sk-serial\"><div class=\"sk-item\"><div class=\"sk-estimator sk-toggleable\"><input class=\"sk-toggleable__control sk-hidden--visually\" id=\"sk-estimator-id-2\" type=\"checkbox\" ><label for=\"sk-estimator-id-2\" class=\"sk-toggleable__label sk-toggleable__label-arrow\">StandardScaler</label><div class=\"sk-toggleable__content\"><pre>StandardScaler()</pre></div></div></div><div class=\"sk-item\"><div class=\"sk-estimator sk-toggleable\"><input class=\"sk-toggleable__control sk-hidden--visually\" id=\"sk-estimator-id-3\" type=\"checkbox\" ><label for=\"sk-estimator-id-3\" class=\"sk-toggleable__label sk-toggleable__label-arrow\">LogisticRegression</label><div class=\"sk-toggleable__content\"><pre>LogisticRegression(C=0.1)</pre></div></div></div></div></div></div></div>"
      ],
      "text/plain": [
       "Pipeline(steps=[('scale', StandardScaler()),\n",
       "                ('model', LogisticRegression(C=0.1))])"
      ]
     },
     "execution_count": 32,
     "metadata": {},
     "output_type": "execute_result"
    }
   ],
   "source": [
    "model.fit(X_train, y_train.values.ravel())"
   ]
  },
  {
   "cell_type": "code",
   "execution_count": 33,
   "id": "af59f8c0",
   "metadata": {
    "execution": {
     "iopub.execute_input": "2025-08-05T15:06:39.332400Z",
     "iopub.status.busy": "2025-08-05T15:06:39.332038Z",
     "iopub.status.idle": "2025-08-05T15:06:39.336715Z",
     "shell.execute_reply": "2025-08-05T15:06:39.335731Z"
    },
    "papermill": {
     "duration": 0.017139,
     "end_time": "2025-08-05T15:06:39.338184",
     "exception": false,
     "start_time": "2025-08-05T15:06:39.321045",
     "status": "completed"
    },
    "tags": []
   },
   "outputs": [],
   "source": [
    "from fairness_multiverse.universe import predict_w_threshold"
   ]
  },
  {
   "cell_type": "code",
   "execution_count": 34,
   "id": "a7cf2e16",
   "metadata": {
    "execution": {
     "iopub.execute_input": "2025-08-05T15:06:39.361895Z",
     "iopub.status.busy": "2025-08-05T15:06:39.361123Z",
     "iopub.status.idle": "2025-08-05T15:06:39.542734Z",
     "shell.execute_reply": "2025-08-05T15:06:39.541748Z"
    },
    "papermill": {
     "duration": 0.19419,
     "end_time": "2025-08-05T15:06:39.544386",
     "exception": false,
     "start_time": "2025-08-05T15:06:39.350196",
     "status": "completed"
    },
    "tags": []
   },
   "outputs": [
    {
     "data": {
      "text/plain": [
       "0.8581094638278899"
      ]
     },
     "execution_count": 34,
     "metadata": {},
     "output_type": "execute_result"
    }
   ],
   "source": [
    "probs_test = model.predict_proba(X_test)\n",
    "\n",
    "'''\n",
    "Below code returns a boolean array (or binary 0/1 array depending on how it’s used) where each element \n",
    "is True if the probability of class 1 is greater than or equal to the threshold, and False otherwise.\n",
    "'''\n",
    "y_pred_default = predict_w_threshold(probs_test, 0.5)\n",
    "\n",
    "from sklearn.metrics import accuracy_score\n",
    "\n",
    "# Naive prediction\n",
    "accuracy_score(y_true = y_true, y_pred = y_pred_default)"
   ]
  },
  {
   "cell_type": "code",
   "execution_count": 35,
   "id": "081964c3",
   "metadata": {
    "execution": {
     "iopub.execute_input": "2025-08-05T15:06:39.586394Z",
     "iopub.status.busy": "2025-08-05T15:06:39.585943Z",
     "iopub.status.idle": "2025-08-05T15:06:39.778954Z",
     "shell.execute_reply": "2025-08-05T15:06:39.777915Z"
    },
    "papermill": {
     "duration": 0.216251,
     "end_time": "2025-08-05T15:06:39.780436",
     "exception": false,
     "start_time": "2025-08-05T15:06:39.564185",
     "status": "completed"
    },
    "tags": []
   },
   "outputs": [
    {
     "data": {
      "text/plain": [
       "array([0, 0, 0, ..., 0, 0, 0])"
      ]
     },
     "execution_count": 35,
     "metadata": {},
     "output_type": "execute_result"
    }
   ],
   "source": [
    "model.predict(X_test)"
   ]
  },
  {
   "cell_type": "markdown",
   "id": "56c9705b",
   "metadata": {
    "papermill": {
     "duration": 0.020213,
     "end_time": "2025-08-05T15:06:39.820890",
     "exception": false,
     "start_time": "2025-08-05T15:06:39.800677",
     "status": "completed"
    },
    "tags": []
   },
   "source": [
    "# Conformal Prediction"
   ]
  },
  {
   "cell_type": "code",
   "execution_count": 36,
   "id": "160ec6ff",
   "metadata": {
    "execution": {
     "iopub.execute_input": "2025-08-05T15:06:39.862350Z",
     "iopub.status.busy": "2025-08-05T15:06:39.861170Z",
     "iopub.status.idle": "2025-08-05T15:06:39.866646Z",
     "shell.execute_reply": "2025-08-05T15:06:39.865647Z"
    },
    "papermill": {
     "duration": 0.027938,
     "end_time": "2025-08-05T15:06:39.868290",
     "exception": false,
     "start_time": "2025-08-05T15:06:39.840352",
     "status": "completed"
    },
    "tags": []
   },
   "outputs": [],
   "source": [
    "# Miscoverage level for conformal prediction (10% allowed error rate => 90% target coverage)\n",
    "alpha = 0.1"
   ]
  },
  {
   "cell_type": "code",
   "execution_count": 37,
   "id": "eadf4555-3dd3-440e-8e35-f82a4ad9f855",
   "metadata": {
    "execution": {
     "iopub.execute_input": "2025-08-05T15:06:39.911062Z",
     "iopub.status.busy": "2025-08-05T15:06:39.909949Z",
     "iopub.status.idle": "2025-08-05T15:06:40.089481Z",
     "shell.execute_reply": "2025-08-05T15:06:40.088491Z"
    },
    "papermill": {
     "duration": 0.203322,
     "end_time": "2025-08-05T15:06:40.091560",
     "exception": false,
     "start_time": "2025-08-05T15:06:39.888238",
     "status": "completed"
    },
    "tags": []
   },
   "outputs": [],
   "source": [
    "probs_calib = model.predict_proba(X_calib)"
   ]
  },
  {
   "cell_type": "code",
   "execution_count": 38,
   "id": "2ed93547-6d5d-4983-9b36-1ecb300da49a",
   "metadata": {
    "execution": {
     "iopub.execute_input": "2025-08-05T15:06:40.135328Z",
     "iopub.status.busy": "2025-08-05T15:06:40.134824Z",
     "iopub.status.idle": "2025-08-05T15:06:40.140963Z",
     "shell.execute_reply": "2025-08-05T15:06:40.139953Z"
    },
    "papermill": {
     "duration": 0.029548,
     "end_time": "2025-08-05T15:06:40.143714",
     "exception": false,
     "start_time": "2025-08-05T15:06:40.114166",
     "status": "completed"
    },
    "tags": []
   },
   "outputs": [],
   "source": [
    "y_calib = y_calib.values.ravel().astype(int)"
   ]
  },
  {
   "cell_type": "code",
   "execution_count": 39,
   "id": "65d1320d-f588-4b38-9072-62af1ae97f7d",
   "metadata": {
    "execution": {
     "iopub.execute_input": "2025-08-05T15:06:40.181082Z",
     "iopub.status.busy": "2025-08-05T15:06:40.180578Z",
     "iopub.status.idle": "2025-08-05T15:06:40.187603Z",
     "shell.execute_reply": "2025-08-05T15:06:40.186632Z"
    },
    "papermill": {
     "duration": 0.022798,
     "end_time": "2025-08-05T15:06:40.189427",
     "exception": false,
     "start_time": "2025-08-05T15:06:40.166629",
     "status": "completed"
    },
    "tags": []
   },
   "outputs": [],
   "source": [
    "from fairness_multiverse.conformal import compute_nc_scores\n",
    "\n",
    "# Compute nonconformity scores on calibration set (1 - probability of true class)\n",
    "nc_scores = compute_nc_scores(probs_calib, y_calib)"
   ]
  },
  {
   "cell_type": "code",
   "execution_count": 40,
   "id": "df3b8ca3-53b7-43d5-9667-7c85da7aeda2",
   "metadata": {
    "execution": {
     "iopub.execute_input": "2025-08-05T15:06:40.238827Z",
     "iopub.status.busy": "2025-08-05T15:06:40.238428Z",
     "iopub.status.idle": "2025-08-05T15:06:40.244657Z",
     "shell.execute_reply": "2025-08-05T15:06:40.243590Z"
    },
    "papermill": {
     "duration": 0.033192,
     "end_time": "2025-08-05T15:06:40.246690",
     "exception": false,
     "start_time": "2025-08-05T15:06:40.213498",
     "status": "completed"
    },
    "tags": []
   },
   "outputs": [],
   "source": [
    "from fairness_multiverse.conformal import find_threshold\n",
    "\n",
    "# Find conformal threshold q_hat for the given alpha (split conformal method)\n",
    "q_hat = find_threshold(nc_scores, alpha)"
   ]
  },
  {
   "cell_type": "code",
   "execution_count": 41,
   "id": "4d29e6c1-0ef6-4aa4-b8fe-4fe79b0d033a",
   "metadata": {
    "execution": {
     "iopub.execute_input": "2025-08-05T15:06:40.289731Z",
     "iopub.status.busy": "2025-08-05T15:06:40.289283Z",
     "iopub.status.idle": "2025-08-05T15:06:40.298712Z",
     "shell.execute_reply": "2025-08-05T15:06:40.297264Z"
    },
    "papermill": {
     "duration": 0.034078,
     "end_time": "2025-08-05T15:06:40.300409",
     "exception": false,
     "start_time": "2025-08-05T15:06:40.266331",
     "status": "completed"
    },
    "tags": []
   },
   "outputs": [
    {
     "data": {
      "text/plain": [
       "0.6669226686641008"
      ]
     },
     "execution_count": 41,
     "metadata": {},
     "output_type": "execute_result"
    }
   ],
   "source": [
    "q_hat"
   ]
  },
  {
   "cell_type": "code",
   "execution_count": 42,
   "id": "92460794-cdac-4be2-ba28-f28c0515a6fb",
   "metadata": {
    "execution": {
     "iopub.execute_input": "2025-08-05T15:06:40.346117Z",
     "iopub.status.busy": "2025-08-05T15:06:40.344678Z",
     "iopub.status.idle": "2025-08-05T15:06:41.566546Z",
     "shell.execute_reply": "2025-08-05T15:06:41.565452Z"
    },
    "papermill": {
     "duration": 1.246022,
     "end_time": "2025-08-05T15:06:41.568581",
     "exception": false,
     "start_time": "2025-08-05T15:06:40.322559",
     "status": "completed"
    },
    "tags": []
   },
   "outputs": [],
   "source": [
    "from fairness_multiverse.conformal import predict_conformal_sets\n",
    "\n",
    "# Generate prediction sets for each test example\n",
    "pred_sets = predict_conformal_sets(model, X_test, q_hat)"
   ]
  },
  {
   "cell_type": "code",
   "execution_count": 43,
   "id": "d90c9a65-e6db-4f5d-80cd-e68fb7e46829",
   "metadata": {
    "execution": {
     "iopub.execute_input": "2025-08-05T15:06:41.612734Z",
     "iopub.status.busy": "2025-08-05T15:06:41.611991Z",
     "iopub.status.idle": "2025-08-05T15:06:41.618193Z",
     "shell.execute_reply": "2025-08-05T15:06:41.617194Z"
    },
    "papermill": {
     "duration": 0.029979,
     "end_time": "2025-08-05T15:06:41.620074",
     "exception": false,
     "start_time": "2025-08-05T15:06:41.590095",
     "status": "completed"
    },
    "tags": []
   },
   "outputs": [],
   "source": [
    "y_true = y_true.squeeze()"
   ]
  },
  {
   "cell_type": "code",
   "execution_count": 44,
   "id": "3a58a54a-1e68-46b9-927a-df01f18aebc8",
   "metadata": {
    "execution": {
     "iopub.execute_input": "2025-08-05T15:06:41.664908Z",
     "iopub.status.busy": "2025-08-05T15:06:41.664163Z",
     "iopub.status.idle": "2025-08-05T15:06:42.815122Z",
     "shell.execute_reply": "2025-08-05T15:06:42.814129Z"
    },
    "papermill": {
     "duration": 1.175043,
     "end_time": "2025-08-05T15:06:42.817100",
     "exception": false,
     "start_time": "2025-08-05T15:06:41.642057",
     "status": "completed"
    },
    "tags": []
   },
   "outputs": [],
   "source": [
    "from fairness_multiverse.conformal import evaluate_sets\n",
    "\n",
    "# Evaluate coverage and average set size on test data\n",
    "metrics = evaluate_sets(pred_sets, y_true)"
   ]
  },
  {
   "cell_type": "markdown",
   "id": "2b569c12-9aaa-4c88-98c9-bbcd0cf3ebb8",
   "metadata": {
    "papermill": {
     "duration": 0.020087,
     "end_time": "2025-08-05T15:06:42.860355",
     "exception": false,
     "start_time": "2025-08-05T15:06:42.840268",
     "status": "completed"
    },
    "tags": []
   },
   "source": [
    "# CP Metrics"
   ]
  },
  {
   "cell_type": "code",
   "execution_count": 45,
   "id": "5ce0a5cb-201f-45a0-ade5-94c7f0bd6095",
   "metadata": {
    "execution": {
     "iopub.execute_input": "2025-08-05T15:06:42.905195Z",
     "iopub.status.busy": "2025-08-05T15:06:42.904459Z",
     "iopub.status.idle": "2025-08-05T15:06:42.912399Z",
     "shell.execute_reply": "2025-08-05T15:06:42.911193Z"
    },
    "papermill": {
     "duration": 0.032523,
     "end_time": "2025-08-05T15:06:42.914319",
     "exception": false,
     "start_time": "2025-08-05T15:06:42.881796",
     "status": "completed"
    },
    "tags": []
   },
   "outputs": [
    {
     "data": {
      "text/plain": [
       "{'coverage': 0.9096310333296177, 'avg_size': 1.1265856649202988}"
      ]
     },
     "execution_count": 45,
     "metadata": {},
     "output_type": "execute_result"
    }
   ],
   "source": [
    "metrics"
   ]
  },
  {
   "cell_type": "code",
   "execution_count": 46,
   "id": "9b9a838d-31c9-430b-ae14-12baee460d17",
   "metadata": {
    "execution": {
     "iopub.execute_input": "2025-08-05T15:06:42.958150Z",
     "iopub.status.busy": "2025-08-05T15:06:42.957418Z",
     "iopub.status.idle": "2025-08-05T15:06:42.964077Z",
     "shell.execute_reply": "2025-08-05T15:06:42.963107Z"
    },
    "papermill": {
     "duration": 0.030004,
     "end_time": "2025-08-05T15:06:42.965756",
     "exception": false,
     "start_time": "2025-08-05T15:06:42.935752",
     "status": "completed"
    },
    "tags": []
   },
   "outputs": [],
   "source": [
    "example_universe = universe.copy()\n",
    "universe_training_year = example_universe.get(\"training_year\")\n",
    "universe_training_size = example_universe.get(\"training_size\")\n",
    "universe_scale = example_universe.get(\"scale\")\n",
    "universe_model = example_universe.get(\"model\")\n",
    "universe_exclude_features = example_universe.get(\"exclude_features\")\n",
    "universe_exclude_subgroups = example_universe.get(\"exclude_subgroups\")"
   ]
  },
  {
   "cell_type": "code",
   "execution_count": 47,
   "id": "f4b6a8ac-9dc0-4245-8a91-5b3b5999c4f9",
   "metadata": {
    "execution": {
     "iopub.execute_input": "2025-08-05T15:06:43.009405Z",
     "iopub.status.busy": "2025-08-05T15:06:43.008767Z",
     "iopub.status.idle": "2025-08-05T15:06:43.023163Z",
     "shell.execute_reply": "2025-08-05T15:06:43.022076Z"
    },
    "papermill": {
     "duration": 0.037583,
     "end_time": "2025-08-05T15:06:43.024900",
     "exception": false,
     "start_time": "2025-08-05T15:06:42.987317",
     "status": "completed"
    },
    "tags": []
   },
   "outputs": [],
   "source": [
    "cp_metrics_dict = {\n",
    "    \"universe_id\": [universe_id],\n",
    "    \"universe_training_year\": [universe_training_year],\n",
    "    \"universe_training_size\": [universe_training_size],\n",
    "    \"universe_scale\": [universe_scale],\n",
    "    \"universe_model\": [universe_model],\n",
    "    \"universe_exclude_features\": [universe_exclude_features],\n",
    "    \"universe_exclude_subgroups\": [universe_exclude_subgroups],\n",
    "    \"q_hat\": [q_hat],\n",
    "    \"coverage\": [metrics[\"coverage\"]],\n",
    "    \"avg_size\": [metrics[\"avg_size\"]],\n",
    "}"
   ]
  },
  {
   "cell_type": "code",
   "execution_count": 48,
   "id": "908acbb1-0371-4915-85ca-3fa520d2efe2",
   "metadata": {
    "execution": {
     "iopub.execute_input": "2025-08-05T15:06:43.068401Z",
     "iopub.status.busy": "2025-08-05T15:06:43.067592Z",
     "iopub.status.idle": "2025-08-05T15:06:43.075963Z",
     "shell.execute_reply": "2025-08-05T15:06:43.074807Z"
    },
    "papermill": {
     "duration": 0.031532,
     "end_time": "2025-08-05T15:06:43.077951",
     "exception": false,
     "start_time": "2025-08-05T15:06:43.046419",
     "status": "completed"
    },
    "tags": []
   },
   "outputs": [
    {
     "data": {
      "text/plain": [
       "{'universe_id': ['304ce7aca182dee48a6aabb9047fcb3d'],\n",
       " 'universe_training_year': ['2010_14'],\n",
       " 'universe_training_size': ['25k'],\n",
       " 'universe_scale': ['scale'],\n",
       " 'universe_model': ['penalized_logreg'],\n",
       " 'universe_exclude_features': ['age'],\n",
       " 'universe_exclude_subgroups': ['keep-all'],\n",
       " 'q_hat': [0.6669226686641008],\n",
       " 'coverage': [0.9096310333296177],\n",
       " 'avg_size': [1.1265856649202988]}"
      ]
     },
     "execution_count": 48,
     "metadata": {},
     "output_type": "execute_result"
    }
   ],
   "source": [
    "cp_metrics_dict"
   ]
  },
  {
   "cell_type": "code",
   "execution_count": 49,
   "id": "33007efc-14e9-4ec6-97ac-56a455c82265",
   "metadata": {
    "execution": {
     "iopub.execute_input": "2025-08-05T15:06:43.121476Z",
     "iopub.status.busy": "2025-08-05T15:06:43.120875Z",
     "iopub.status.idle": "2025-08-05T15:06:43.127954Z",
     "shell.execute_reply": "2025-08-05T15:06:43.126877Z"
    },
    "papermill": {
     "duration": 0.030058,
     "end_time": "2025-08-05T15:06:43.129850",
     "exception": false,
     "start_time": "2025-08-05T15:06:43.099792",
     "status": "completed"
    },
    "tags": []
   },
   "outputs": [],
   "source": [
    "cp_metrics_df = pd.DataFrame(cp_metrics_dict)"
   ]
  },
  {
   "cell_type": "code",
   "execution_count": 50,
   "id": "db12611b-57b2-4910-b9d0-355adfd6e7bf",
   "metadata": {
    "execution": {
     "iopub.execute_input": "2025-08-05T15:06:43.178403Z",
     "iopub.status.busy": "2025-08-05T15:06:43.177493Z",
     "iopub.status.idle": "2025-08-05T15:06:43.195716Z",
     "shell.execute_reply": "2025-08-05T15:06:43.194572Z"
    },
    "papermill": {
     "duration": 0.042255,
     "end_time": "2025-08-05T15:06:43.197507",
     "exception": false,
     "start_time": "2025-08-05T15:06:43.155252",
     "status": "completed"
    },
    "tags": []
   },
   "outputs": [
    {
     "data": {
      "text/html": [
       "<div>\n",
       "<style scoped>\n",
       "    .dataframe tbody tr th:only-of-type {\n",
       "        vertical-align: middle;\n",
       "    }\n",
       "\n",
       "    .dataframe tbody tr th {\n",
       "        vertical-align: top;\n",
       "    }\n",
       "\n",
       "    .dataframe thead th {\n",
       "        text-align: right;\n",
       "    }\n",
       "</style>\n",
       "<table border=\"1\" class=\"dataframe\">\n",
       "  <thead>\n",
       "    <tr style=\"text-align: right;\">\n",
       "      <th></th>\n",
       "      <th>universe_id</th>\n",
       "      <th>universe_training_year</th>\n",
       "      <th>universe_training_size</th>\n",
       "      <th>universe_scale</th>\n",
       "      <th>universe_model</th>\n",
       "      <th>universe_exclude_features</th>\n",
       "      <th>universe_exclude_subgroups</th>\n",
       "      <th>q_hat</th>\n",
       "      <th>coverage</th>\n",
       "      <th>avg_size</th>\n",
       "    </tr>\n",
       "  </thead>\n",
       "  <tbody>\n",
       "    <tr>\n",
       "      <th>0</th>\n",
       "      <td>304ce7aca182dee48a6aabb9047fcb3d</td>\n",
       "      <td>2010_14</td>\n",
       "      <td>25k</td>\n",
       "      <td>scale</td>\n",
       "      <td>penalized_logreg</td>\n",
       "      <td>age</td>\n",
       "      <td>keep-all</td>\n",
       "      <td>0.666923</td>\n",
       "      <td>0.909631</td>\n",
       "      <td>1.126586</td>\n",
       "    </tr>\n",
       "  </tbody>\n",
       "</table>\n",
       "</div>"
      ],
      "text/plain": [
       "                        universe_id universe_training_year  \\\n",
       "0  304ce7aca182dee48a6aabb9047fcb3d                2010_14   \n",
       "\n",
       "  universe_training_size universe_scale    universe_model  \\\n",
       "0                    25k          scale  penalized_logreg   \n",
       "\n",
       "  universe_exclude_features universe_exclude_subgroups     q_hat  coverage  \\\n",
       "0                       age                   keep-all  0.666923  0.909631   \n",
       "\n",
       "   avg_size  \n",
       "0  1.126586  "
      ]
     },
     "execution_count": 50,
     "metadata": {},
     "output_type": "execute_result"
    }
   ],
   "source": [
    "cp_metrics_df"
   ]
  },
  {
   "cell_type": "code",
   "execution_count": 51,
   "id": "b7fbde55-a0a1-47e4-9af6-fe4a17fa8c61",
   "metadata": {
    "execution": {
     "iopub.execute_input": "2025-08-05T15:06:43.248122Z",
     "iopub.status.busy": "2025-08-05T15:06:43.247238Z",
     "iopub.status.idle": "2025-08-05T15:06:43.252732Z",
     "shell.execute_reply": "2025-08-05T15:06:43.251752Z"
    },
    "papermill": {
     "duration": 0.032799,
     "end_time": "2025-08-05T15:06:43.254575",
     "exception": false,
     "start_time": "2025-08-05T15:06:43.221776",
     "status": "completed"
    },
    "tags": []
   },
   "outputs": [],
   "source": [
    "# Conditional Coverage & looking at subgroups"
   ]
  },
  {
   "cell_type": "code",
   "execution_count": 52,
   "id": "027ae886-68dd-4141-96c7-805a5450e1ef",
   "metadata": {
    "execution": {
     "iopub.execute_input": "2025-08-05T15:06:43.299501Z",
     "iopub.status.busy": "2025-08-05T15:06:43.298738Z",
     "iopub.status.idle": "2025-08-05T15:06:43.557000Z",
     "shell.execute_reply": "2025-08-05T15:06:43.556001Z"
    },
    "papermill": {
     "duration": 0.281589,
     "end_time": "2025-08-05T15:06:43.558953",
     "exception": false,
     "start_time": "2025-08-05T15:06:43.277364",
     "status": "completed"
    },
    "tags": []
   },
   "outputs": [],
   "source": [
    "from fairness_multiverse.conformal import build_cp_groups\n",
    "\n",
    "cp_groups_df = build_cp_groups(pred_sets, y_true, X_test.index, org_test)\n",
    "#needs universe_id and setting"
   ]
  },
  {
   "cell_type": "code",
   "execution_count": 53,
   "id": "6cbdab96-b2b2-45af-ad54-d0516db2e28d",
   "metadata": {
    "execution": {
     "iopub.execute_input": "2025-08-05T15:06:43.604158Z",
     "iopub.status.busy": "2025-08-05T15:06:43.603360Z",
     "iopub.status.idle": "2025-08-05T15:06:45.645286Z",
     "shell.execute_reply": "2025-08-05T15:06:45.644110Z"
    },
    "papermill": {
     "duration": 2.066784,
     "end_time": "2025-08-05T15:06:45.647714",
     "exception": false,
     "start_time": "2025-08-05T15:06:43.580930",
     "status": "completed"
    },
    "tags": []
   },
   "outputs": [],
   "source": [
    "# Define covered = 1 if true_label is in the predicted set\n",
    "cp_groups_df['covered'] = cp_groups_df.apply(\n",
    "    lambda r: int(r['true_label'] in r['pred_set']),\n",
    "    axis=1\n",
    ")"
   ]
  },
  {
   "cell_type": "code",
   "execution_count": 54,
   "id": "338ff529-1a6b-4b87-a931-8e4788d52aad",
   "metadata": {
    "execution": {
     "iopub.execute_input": "2025-08-05T15:06:45.709165Z",
     "iopub.status.busy": "2025-08-05T15:06:45.708377Z",
     "iopub.status.idle": "2025-08-05T15:06:45.714518Z",
     "shell.execute_reply": "2025-08-05T15:06:45.713453Z"
    },
    "papermill": {
     "duration": 0.040344,
     "end_time": "2025-08-05T15:06:45.716950",
     "exception": false,
     "start_time": "2025-08-05T15:06:45.676606",
     "status": "completed"
    },
    "tags": []
   },
   "outputs": [],
   "source": [
    "#cp_groups_df"
   ]
  },
  {
   "cell_type": "code",
   "execution_count": 55,
   "id": "90032e27-66df-4540-9169-4e89cfbaa758",
   "metadata": {
    "execution": {
     "iopub.execute_input": "2025-08-05T15:06:45.781063Z",
     "iopub.status.busy": "2025-08-05T15:06:45.779931Z",
     "iopub.status.idle": "2025-08-05T15:06:45.793018Z",
     "shell.execute_reply": "2025-08-05T15:06:45.791838Z"
    },
    "papermill": {
     "duration": 0.047162,
     "end_time": "2025-08-05T15:06:45.795461",
     "exception": false,
     "start_time": "2025-08-05T15:06:45.748299",
     "status": "completed"
    },
    "tags": []
   },
   "outputs": [],
   "source": [
    "subgroups = ['frau1','nongerman','nongerman_male','nongerman_female']\n",
    "\n",
    "# Conditional coverage for subgroup==1\n",
    "cond_coverage = {\n",
    "    g: cp_groups_df.loc[cp_groups_df[g]==1, 'covered'].mean()\n",
    "    for g in subgroups\n",
    "}"
   ]
  },
  {
   "cell_type": "code",
   "execution_count": 56,
   "id": "1e348fb1-b9c3-45bc-ba23-f016827a7e0d",
   "metadata": {
    "execution": {
     "iopub.execute_input": "2025-08-05T15:06:45.859747Z",
     "iopub.status.busy": "2025-08-05T15:06:45.858609Z",
     "iopub.status.idle": "2025-08-05T15:06:45.867382Z",
     "shell.execute_reply": "2025-08-05T15:06:45.865975Z"
    },
    "papermill": {
     "duration": 0.043331,
     "end_time": "2025-08-05T15:06:45.869996",
     "exception": false,
     "start_time": "2025-08-05T15:06:45.826665",
     "status": "completed"
    },
    "tags": []
   },
   "outputs": [
    {
     "data": {
      "text/plain": [
       "{'frau1': 0.9077773284809274,\n",
       " 'nongerman': 0.9081569640150452,\n",
       " 'nongerman_male': 0.924795100423309,\n",
       " 'nongerman_female': 0.8806259314456035}"
      ]
     },
     "execution_count": 56,
     "metadata": {},
     "output_type": "execute_result"
    }
   ],
   "source": [
    "cond_coverage"
   ]
  },
  {
   "cell_type": "code",
   "execution_count": 57,
   "id": "f5093324-c3dd-4d63-bc4c-8d945e5c8bbb",
   "metadata": {
    "execution": {
     "iopub.execute_input": "2025-08-05T15:06:45.935204Z",
     "iopub.status.busy": "2025-08-05T15:06:45.934051Z",
     "iopub.status.idle": "2025-08-05T15:06:45.943231Z",
     "shell.execute_reply": "2025-08-05T15:06:45.941845Z"
    },
    "papermill": {
     "duration": 0.043935,
     "end_time": "2025-08-05T15:06:45.945664",
     "exception": false,
     "start_time": "2025-08-05T15:06:45.901729",
     "status": "completed"
    },
    "tags": []
   },
   "outputs": [],
   "source": [
    "for subgroup, cov in cond_coverage.items():\n",
    "    cp_metrics_df[f\"cov_{subgroup}\"] = cov"
   ]
  },
  {
   "cell_type": "code",
   "execution_count": 58,
   "id": "6e872e10-dbe5-49e8-b554-5030c98ff75d",
   "metadata": {
    "execution": {
     "iopub.execute_input": "2025-08-05T15:06:46.010596Z",
     "iopub.status.busy": "2025-08-05T15:06:46.009271Z",
     "iopub.status.idle": "2025-08-05T15:06:46.031169Z",
     "shell.execute_reply": "2025-08-05T15:06:46.029843Z"
    },
    "papermill": {
     "duration": 0.056501,
     "end_time": "2025-08-05T15:06:46.033691",
     "exception": false,
     "start_time": "2025-08-05T15:06:45.977190",
     "status": "completed"
    },
    "tags": []
   },
   "outputs": [
    {
     "data": {
      "text/html": [
       "<div>\n",
       "<style scoped>\n",
       "    .dataframe tbody tr th:only-of-type {\n",
       "        vertical-align: middle;\n",
       "    }\n",
       "\n",
       "    .dataframe tbody tr th {\n",
       "        vertical-align: top;\n",
       "    }\n",
       "\n",
       "    .dataframe thead th {\n",
       "        text-align: right;\n",
       "    }\n",
       "</style>\n",
       "<table border=\"1\" class=\"dataframe\">\n",
       "  <thead>\n",
       "    <tr style=\"text-align: right;\">\n",
       "      <th></th>\n",
       "      <th>universe_id</th>\n",
       "      <th>universe_training_year</th>\n",
       "      <th>universe_training_size</th>\n",
       "      <th>universe_scale</th>\n",
       "      <th>universe_model</th>\n",
       "      <th>universe_exclude_features</th>\n",
       "      <th>universe_exclude_subgroups</th>\n",
       "      <th>q_hat</th>\n",
       "      <th>coverage</th>\n",
       "      <th>avg_size</th>\n",
       "      <th>cov_frau1</th>\n",
       "      <th>cov_nongerman</th>\n",
       "      <th>cov_nongerman_male</th>\n",
       "      <th>cov_nongerman_female</th>\n",
       "    </tr>\n",
       "  </thead>\n",
       "  <tbody>\n",
       "    <tr>\n",
       "      <th>0</th>\n",
       "      <td>304ce7aca182dee48a6aabb9047fcb3d</td>\n",
       "      <td>2010_14</td>\n",
       "      <td>25k</td>\n",
       "      <td>scale</td>\n",
       "      <td>penalized_logreg</td>\n",
       "      <td>age</td>\n",
       "      <td>keep-all</td>\n",
       "      <td>0.666923</td>\n",
       "      <td>0.909631</td>\n",
       "      <td>1.126586</td>\n",
       "      <td>0.907777</td>\n",
       "      <td>0.908157</td>\n",
       "      <td>0.924795</td>\n",
       "      <td>0.880626</td>\n",
       "    </tr>\n",
       "  </tbody>\n",
       "</table>\n",
       "</div>"
      ],
      "text/plain": [
       "                        universe_id universe_training_year  \\\n",
       "0  304ce7aca182dee48a6aabb9047fcb3d                2010_14   \n",
       "\n",
       "  universe_training_size universe_scale    universe_model  \\\n",
       "0                    25k          scale  penalized_logreg   \n",
       "\n",
       "  universe_exclude_features universe_exclude_subgroups     q_hat  coverage  \\\n",
       "0                       age                   keep-all  0.666923  0.909631   \n",
       "\n",
       "   avg_size  cov_frau1  cov_nongerman  cov_nongerman_male  \\\n",
       "0  1.126586   0.907777       0.908157            0.924795   \n",
       "\n",
       "   cov_nongerman_female  \n",
       "0              0.880626  "
      ]
     },
     "execution_count": 58,
     "metadata": {},
     "output_type": "execute_result"
    }
   ],
   "source": [
    "cp_metrics_df"
   ]
  },
  {
   "cell_type": "markdown",
   "id": "33774451",
   "metadata": {
    "papermill": {
     "duration": 0.030785,
     "end_time": "2025-08-05T15:06:46.096343",
     "exception": false,
     "start_time": "2025-08-05T15:06:46.065558",
     "status": "completed"
    },
    "tags": []
   },
   "source": [
    "# (Fairness) Metrics"
   ]
  },
  {
   "cell_type": "code",
   "execution_count": 59,
   "id": "debc5d62",
   "metadata": {
    "execution": {
     "iopub.execute_input": "2025-08-05T15:06:46.160256Z",
     "iopub.status.busy": "2025-08-05T15:06:46.159228Z",
     "iopub.status.idle": "2025-08-05T15:06:46.182485Z",
     "shell.execute_reply": "2025-08-05T15:06:46.181270Z"
    },
    "papermill": {
     "duration": 0.057844,
     "end_time": "2025-08-05T15:06:46.184918",
     "exception": false,
     "start_time": "2025-08-05T15:06:46.127074",
     "status": "completed"
    },
    "tags": []
   },
   "outputs": [],
   "source": [
    "# do I need to include maxdeutsch1.missing?\n",
    "\n",
    "import numpy as np\n",
    "\n",
    "colname_to_bin = \"maxdeutsch1\"\n",
    "majority_value = org_train[colname_to_bin].mode()[0]\n",
    "\n",
    "org_test[\"majmin\"] = np.where(org_test[colname_to_bin] == majority_value, \"majority\", \"minority\")"
   ]
  },
  {
   "cell_type": "code",
   "execution_count": 60,
   "id": "06a50de5",
   "metadata": {
    "execution": {
     "iopub.execute_input": "2025-08-05T15:06:46.250203Z",
     "iopub.status.busy": "2025-08-05T15:06:46.248958Z",
     "iopub.status.idle": "2025-08-05T15:06:49.029143Z",
     "shell.execute_reply": "2025-08-05T15:06:49.028160Z"
    },
    "papermill": {
     "duration": 2.81446,
     "end_time": "2025-08-05T15:06:49.030950",
     "exception": false,
     "start_time": "2025-08-05T15:06:46.216490",
     "status": "completed"
    },
    "tags": []
   },
   "outputs": [],
   "source": [
    "example_universe = universe.copy()\n",
    "example_universe[\"cutoff\"] = example_universe[\"cutoff\"][0]\n",
    "example_universe[\"eval_fairness_grouping\"] = example_universe[\"eval_fairness_grouping\"][0]\n",
    "fairness_dict, metric_frame = universe_analysis.compute_metrics(\n",
    "    example_universe,\n",
    "    y_pred_prob=probs_test,\n",
    "    y_test=y_true,\n",
    "    org_test=org_test,\n",
    ")"
   ]
  },
  {
   "cell_type": "markdown",
   "id": "f95d4e02",
   "metadata": {
    "papermill": {
     "duration": 0.022566,
     "end_time": "2025-08-05T15:06:49.077572",
     "exception": false,
     "start_time": "2025-08-05T15:06:49.055006",
     "status": "completed"
    },
    "tags": []
   },
   "source": [
    "# Overall"
   ]
  },
  {
   "cell_type": "markdown",
   "id": "bdee4871",
   "metadata": {
    "papermill": {
     "duration": 0.02134,
     "end_time": "2025-08-05T15:06:49.120889",
     "exception": false,
     "start_time": "2025-08-05T15:06:49.099549",
     "status": "completed"
    },
    "tags": []
   },
   "source": [
    "Fairness\n",
    "Main fairness target: Equalized Odds. Seems to be a better fit than equal opportunity, since we're not only interested in Y = 1. Seems to be a better fit than demographic parity, since we also care about accuracy, not just equal distribution of preds.\n",
    "\n",
    "Pick column for computation of fairness metrics\n",
    "\n",
    "Performance\n",
    "Overall performance measures, most interesting in relation to the measures split by group below"
   ]
  },
  {
   "cell_type": "code",
   "execution_count": 61,
   "id": "c4e067c6",
   "metadata": {
    "execution": {
     "iopub.execute_input": "2025-08-05T15:06:49.167755Z",
     "iopub.status.busy": "2025-08-05T15:06:49.166862Z",
     "iopub.status.idle": "2025-08-05T15:06:49.175341Z",
     "shell.execute_reply": "2025-08-05T15:06:49.174284Z"
    },
    "papermill": {
     "duration": 0.034013,
     "end_time": "2025-08-05T15:06:49.177397",
     "exception": false,
     "start_time": "2025-08-05T15:06:49.143384",
     "status": "completed"
    },
    "tags": []
   },
   "outputs": [
    {
     "data": {
      "text/plain": [
       "accuracy                   0.225181\n",
       "balanced accuracy          0.550430\n",
       "f1                         0.246490\n",
       "precision                  0.140812\n",
       "false positive rate        0.887062\n",
       "false negative rate        0.012079\n",
       "selection rate             0.900000\n",
       "count                  89710.000000\n",
       "dtype: float64"
      ]
     },
     "execution_count": 61,
     "metadata": {},
     "output_type": "execute_result"
    }
   ],
   "source": [
    "metric_frame.overall"
   ]
  },
  {
   "cell_type": "markdown",
   "id": "e968fe9d",
   "metadata": {
    "papermill": {
     "duration": 0.024855,
     "end_time": "2025-08-05T15:06:49.228469",
     "exception": false,
     "start_time": "2025-08-05T15:06:49.203614",
     "status": "completed"
    },
    "tags": []
   },
   "source": [
    "By Group"
   ]
  },
  {
   "cell_type": "code",
   "execution_count": 62,
   "id": "ec325bce",
   "metadata": {
    "execution": {
     "iopub.execute_input": "2025-08-05T15:06:49.281792Z",
     "iopub.status.busy": "2025-08-05T15:06:49.280837Z",
     "iopub.status.idle": "2025-08-05T15:06:49.299537Z",
     "shell.execute_reply": "2025-08-05T15:06:49.298252Z"
    },
    "papermill": {
     "duration": 0.047145,
     "end_time": "2025-08-05T15:06:49.301686",
     "exception": false,
     "start_time": "2025-08-05T15:06:49.254541",
     "status": "completed"
    },
    "tags": []
   },
   "outputs": [
    {
     "data": {
      "text/html": [
       "<div>\n",
       "<style scoped>\n",
       "    .dataframe tbody tr th:only-of-type {\n",
       "        vertical-align: middle;\n",
       "    }\n",
       "\n",
       "    .dataframe tbody tr th {\n",
       "        vertical-align: top;\n",
       "    }\n",
       "\n",
       "    .dataframe thead th {\n",
       "        text-align: right;\n",
       "    }\n",
       "</style>\n",
       "<table border=\"1\" class=\"dataframe\">\n",
       "  <thead>\n",
       "    <tr style=\"text-align: right;\">\n",
       "      <th></th>\n",
       "      <th>accuracy</th>\n",
       "      <th>balanced accuracy</th>\n",
       "      <th>f1</th>\n",
       "      <th>precision</th>\n",
       "      <th>false positive rate</th>\n",
       "      <th>false negative rate</th>\n",
       "      <th>selection rate</th>\n",
       "      <th>count</th>\n",
       "    </tr>\n",
       "    <tr>\n",
       "      <th>majmin</th>\n",
       "      <th></th>\n",
       "      <th></th>\n",
       "      <th></th>\n",
       "      <th></th>\n",
       "      <th></th>\n",
       "      <th></th>\n",
       "      <th></th>\n",
       "      <th></th>\n",
       "    </tr>\n",
       "  </thead>\n",
       "  <tbody>\n",
       "    <tr>\n",
       "      <th>majority</th>\n",
       "      <td>0.248128</td>\n",
       "      <td>0.561213</td>\n",
       "      <td>0.257520</td>\n",
       "      <td>0.148083</td>\n",
       "      <td>0.864334</td>\n",
       "      <td>0.013239</td>\n",
       "      <td>0.880512</td>\n",
       "      <td>69170.0</td>\n",
       "    </tr>\n",
       "    <tr>\n",
       "      <th>minority</th>\n",
       "      <td>0.147907</td>\n",
       "      <td>0.515130</td>\n",
       "      <td>0.211693</td>\n",
       "      <td>0.118483</td>\n",
       "      <td>0.962140</td>\n",
       "      <td>0.007601</td>\n",
       "      <td>0.965628</td>\n",
       "      <td>20540.0</td>\n",
       "    </tr>\n",
       "  </tbody>\n",
       "</table>\n",
       "</div>"
      ],
      "text/plain": [
       "          accuracy  balanced accuracy        f1  precision  \\\n",
       "majmin                                                       \n",
       "majority  0.248128           0.561213  0.257520   0.148083   \n",
       "minority  0.147907           0.515130  0.211693   0.118483   \n",
       "\n",
       "          false positive rate  false negative rate  selection rate    count  \n",
       "majmin                                                                       \n",
       "majority             0.864334             0.013239        0.880512  69170.0  \n",
       "minority             0.962140             0.007601        0.965628  20540.0  "
      ]
     },
     "execution_count": 62,
     "metadata": {},
     "output_type": "execute_result"
    }
   ],
   "source": [
    "metric_frame.by_group"
   ]
  },
  {
   "cell_type": "code",
   "execution_count": 63,
   "id": "a9ddbe63",
   "metadata": {
    "execution": {
     "iopub.execute_input": "2025-08-05T15:06:49.360348Z",
     "iopub.status.busy": "2025-08-05T15:06:49.359585Z",
     "iopub.status.idle": "2025-08-05T15:06:51.849464Z",
     "shell.execute_reply": "2025-08-05T15:06:51.848485Z"
    },
    "papermill": {
     "duration": 2.520544,
     "end_time": "2025-08-05T15:06:51.850944",
     "exception": false,
     "start_time": "2025-08-05T15:06:49.330400",
     "status": "completed"
    },
    "tags": []
   },
   "outputs": [
    {
     "data": {
      "text/plain": [
       "array([[<Axes: title={'center': 'accuracy'}, xlabel='majmin'>,\n",
       "        <Axes: title={'center': 'balanced accuracy'}, xlabel='majmin'>,\n",
       "        <Axes: title={'center': 'f1'}, xlabel='majmin'>],\n",
       "       [<Axes: title={'center': 'precision'}, xlabel='majmin'>,\n",
       "        <Axes: title={'center': 'false positive rate'}, xlabel='majmin'>,\n",
       "        <Axes: title={'center': 'false negative rate'}, xlabel='majmin'>],\n",
       "       [<Axes: title={'center': 'selection rate'}, xlabel='majmin'>,\n",
       "        <Axes: title={'center': 'count'}, xlabel='majmin'>,\n",
       "        <Axes: xlabel='majmin'>]], dtype=object)"
      ]
     },
     "execution_count": 63,
     "metadata": {},
     "output_type": "execute_result"
    },
    {
     "data": {
      "image/png": "[encoded data removed]",
      "text/plain": [
       "<Figure size 1200x800 with 9 Axes>"
      ]
     },
     "metadata": {},
     "output_type": "display_data"
    }
   ],
   "source": [
    "# In a graphic\n",
    "metric_frame.by_group.plot.bar(\n",
    "    subplots=True,\n",
    "    layout=[3, 3],\n",
    "    legend=False,\n",
    "    figsize=[12, 8],\n",
    "    title=\"Show all metrics\",\n",
    ")"
   ]
  },
  {
   "cell_type": "markdown",
   "id": "f57a0bac",
   "metadata": {
    "papermill": {
     "duration": 0.012945,
     "end_time": "2025-08-05T15:06:51.877105",
     "exception": false,
     "start_time": "2025-08-05T15:06:51.864160",
     "status": "completed"
    },
    "tags": []
   },
   "source": [
    "# Final Output"
   ]
  },
  {
   "cell_type": "code",
   "execution_count": 64,
   "id": "96d280a3",
   "metadata": {
    "execution": {
     "iopub.execute_input": "2025-08-05T15:06:51.904505Z",
     "iopub.status.busy": "2025-08-05T15:06:51.904030Z",
     "iopub.status.idle": "2025-08-05T15:06:51.910842Z",
     "shell.execute_reply": "2025-08-05T15:06:51.910026Z"
    },
    "papermill": {
     "duration": 0.021969,
     "end_time": "2025-08-05T15:06:51.912175",
     "exception": false,
     "start_time": "2025-08-05T15:06:51.890206",
     "status": "completed"
    },
    "tags": []
   },
   "outputs": [
    {
     "data": {
      "text/plain": [
       "4"
      ]
     },
     "execution_count": 64,
     "metadata": {},
     "output_type": "execute_result"
    }
   ],
   "source": [
    "sub_universes = universe_analysis.generate_sub_universes()\n",
    "len(sub_universes)"
   ]
  },
  {
   "cell_type": "code",
   "execution_count": 65,
   "id": "92adf7ba",
   "metadata": {
    "execution": {
     "iopub.execute_input": "2025-08-05T15:06:51.940238Z",
     "iopub.status.busy": "2025-08-05T15:06:51.939737Z",
     "iopub.status.idle": "2025-08-05T15:06:51.959994Z",
     "shell.execute_reply": "2025-08-05T15:06:51.959203Z"
    },
    "papermill": {
     "duration": 0.035872,
     "end_time": "2025-08-05T15:06:51.961761",
     "exception": false,
     "start_time": "2025-08-05T15:06:51.925889",
     "status": "completed"
    },
    "tags": []
   },
   "outputs": [],
   "source": [
    "def filter_sub_universe_data(sub_universe, org_test):\n",
    "    # Keep all rows — no filtering\n",
    "    keep_rows_mask = np.ones(org_test.shape[0], dtype=bool)\n",
    "\n",
    "    print(f\"[INFO] Keeping all rows: {keep_rows_mask.sum()} rows retained.\")\n",
    "    return keep_rows_mask"
   ]
  },
  {
   "cell_type": "code",
   "execution_count": 66,
   "id": "4a759155",
   "metadata": {
    "execution": {
     "iopub.execute_input": "2025-08-05T15:06:51.991428Z",
     "iopub.status.busy": "2025-08-05T15:06:51.990920Z",
     "iopub.status.idle": "2025-08-05T15:07:01.940585Z",
     "shell.execute_reply": "2025-08-05T15:07:01.939728Z"
    },
    "papermill": {
     "duration": 9.965252,
     "end_time": "2025-08-05T15:07:01.942146",
     "exception": false,
     "start_time": "2025-08-05T15:06:51.976894",
     "status": "completed"
    },
    "tags": []
   },
   "outputs": [
    {
     "name": "stdout",
     "output_type": "stream",
     "text": [
      "Stopping execution_time clock.\n",
      "[INFO] Keeping all rows: 89710 rows retained.\n"
     ]
    },
    {
     "name": "stdout",
     "output_type": "stream",
     "text": [
      "[INFO] Keeping all rows: 89710 rows retained.\n"
     ]
    },
    {
     "name": "stdout",
     "output_type": "stream",
     "text": [
      "[INFO] Keeping all rows: 89710 rows retained.\n"
     ]
    },
    {
     "name": "stdout",
     "output_type": "stream",
     "text": [
      "[INFO] Keeping all rows: 89710 rows retained.\n"
     ]
    },
    {
     "data": {
      "text/html": [
       "<div>\n",
       "<style scoped>\n",
       "    .dataframe tbody tr th:only-of-type {\n",
       "        vertical-align: middle;\n",
       "    }\n",
       "\n",
       "    .dataframe tbody tr th {\n",
       "        vertical-align: top;\n",
       "    }\n",
       "\n",
       "    .dataframe thead th {\n",
       "        text-align: right;\n",
       "    }\n",
       "</style>\n",
       "<table border=\"1\" class=\"dataframe\">\n",
       "  <thead>\n",
       "    <tr style=\"text-align: right;\">\n",
       "      <th></th>\n",
       "      <th>run_no</th>\n",
       "      <th>universe_id</th>\n",
       "      <th>universe_settings</th>\n",
       "      <th>execution_time</th>\n",
       "      <th>test_size_n</th>\n",
       "      <th>test_size_frac</th>\n",
       "      <th>fair_main_equalized_odds_difference</th>\n",
       "      <th>fair_main_equalized_odds_ratio</th>\n",
       "      <th>fair_main_demographic_parity_difference</th>\n",
       "      <th>fair_main_demographic_parity_ratio</th>\n",
       "      <th>...</th>\n",
       "      <th>perf_grp_precision_0</th>\n",
       "      <th>perf_grp_precision_1</th>\n",
       "      <th>perf_grp_false positive rate_0</th>\n",
       "      <th>perf_grp_false positive rate_1</th>\n",
       "      <th>perf_grp_false negative rate_0</th>\n",
       "      <th>perf_grp_false negative rate_1</th>\n",
       "      <th>perf_grp_selection rate_0</th>\n",
       "      <th>perf_grp_selection rate_1</th>\n",
       "      <th>perf_grp_count_0</th>\n",
       "      <th>perf_grp_count_1</th>\n",
       "    </tr>\n",
       "  </thead>\n",
       "  <tbody>\n",
       "    <tr>\n",
       "      <th>0</th>\n",
       "      <td>15</td>\n",
       "      <td>304ce7aca182dee48a6aabb9047fcb3d</td>\n",
       "      <td>{\"cutoff\": \"quantile_0.1\", \"eval_fairness_grou...</td>\n",
       "      <td>28.843601</td>\n",
       "      <td>89710</td>\n",
       "      <td>1.0</td>\n",
       "      <td>0.097805</td>\n",
       "      <td>0.898346</td>\n",
       "      <td>0.085116</td>\n",
       "      <td>0.911854</td>\n",
       "      <td>...</td>\n",
       "      <td>NaN</td>\n",
       "      <td>NaN</td>\n",
       "      <td>NaN</td>\n",
       "      <td>NaN</td>\n",
       "      <td>NaN</td>\n",
       "      <td>NaN</td>\n",
       "      <td>NaN</td>\n",
       "      <td>NaN</td>\n",
       "      <td>NaN</td>\n",
       "      <td>NaN</td>\n",
       "    </tr>\n",
       "    <tr>\n",
       "      <th>0</th>\n",
       "      <td>15</td>\n",
       "      <td>304ce7aca182dee48a6aabb9047fcb3d</td>\n",
       "      <td>{\"cutoff\": \"quantile_0.1\", \"eval_fairness_grou...</td>\n",
       "      <td>28.843601</td>\n",
       "      <td>89710</td>\n",
       "      <td>1.0</td>\n",
       "      <td>0.097805</td>\n",
       "      <td>0.898346</td>\n",
       "      <td>0.085116</td>\n",
       "      <td>0.911854</td>\n",
       "      <td>...</td>\n",
       "      <td>0.118483</td>\n",
       "      <td>0.148083</td>\n",
       "      <td>0.962140</td>\n",
       "      <td>0.864334</td>\n",
       "      <td>0.007601</td>\n",
       "      <td>0.013239</td>\n",
       "      <td>0.965628</td>\n",
       "      <td>0.880512</td>\n",
       "      <td>20540.0</td>\n",
       "      <td>69170.0</td>\n",
       "    </tr>\n",
       "    <tr>\n",
       "      <th>0</th>\n",
       "      <td>15</td>\n",
       "      <td>304ce7aca182dee48a6aabb9047fcb3d</td>\n",
       "      <td>{\"cutoff\": \"quantile_0.25\", \"eval_fairness_gro...</td>\n",
       "      <td>28.843601</td>\n",
       "      <td>89710</td>\n",
       "      <td>1.0</td>\n",
       "      <td>0.186225</td>\n",
       "      <td>0.784371</td>\n",
       "      <td>0.163168</td>\n",
       "      <td>0.813694</td>\n",
       "      <td>...</td>\n",
       "      <td>NaN</td>\n",
       "      <td>NaN</td>\n",
       "      <td>NaN</td>\n",
       "      <td>NaN</td>\n",
       "      <td>NaN</td>\n",
       "      <td>NaN</td>\n",
       "      <td>NaN</td>\n",
       "      <td>NaN</td>\n",
       "      <td>NaN</td>\n",
       "      <td>NaN</td>\n",
       "    </tr>\n",
       "    <tr>\n",
       "      <th>0</th>\n",
       "      <td>15</td>\n",
       "      <td>304ce7aca182dee48a6aabb9047fcb3d</td>\n",
       "      <td>{\"cutoff\": \"quantile_0.25\", \"eval_fairness_gro...</td>\n",
       "      <td>28.843601</td>\n",
       "      <td>89710</td>\n",
       "      <td>1.0</td>\n",
       "      <td>0.186225</td>\n",
       "      <td>0.784371</td>\n",
       "      <td>0.163168</td>\n",
       "      <td>0.813694</td>\n",
       "      <td>...</td>\n",
       "      <td>0.127578</td>\n",
       "      <td>0.175035</td>\n",
       "      <td>0.863636</td>\n",
       "      <td>0.677411</td>\n",
       "      <td>0.030828</td>\n",
       "      <td>0.056018</td>\n",
       "      <td>0.875803</td>\n",
       "      <td>0.712636</td>\n",
       "      <td>20540.0</td>\n",
       "      <td>69170.0</td>\n",
       "    </tr>\n",
       "  </tbody>\n",
       "</table>\n",
       "<p>4 rows × 50 columns</p>\n",
       "</div>"
      ],
      "text/plain": [
       "  run_no                       universe_id  \\\n",
       "0     15  304ce7aca182dee48a6aabb9047fcb3d   \n",
       "0     15  304ce7aca182dee48a6aabb9047fcb3d   \n",
       "0     15  304ce7aca182dee48a6aabb9047fcb3d   \n",
       "0     15  304ce7aca182dee48a6aabb9047fcb3d   \n",
       "\n",
       "                                   universe_settings  execution_time  \\\n",
       "0  {\"cutoff\": \"quantile_0.1\", \"eval_fairness_grou...       28.843601   \n",
       "0  {\"cutoff\": \"quantile_0.1\", \"eval_fairness_grou...       28.843601   \n",
       "0  {\"cutoff\": \"quantile_0.25\", \"eval_fairness_gro...       28.843601   \n",
       "0  {\"cutoff\": \"quantile_0.25\", \"eval_fairness_gro...       28.843601   \n",
       "\n",
       "   test_size_n  test_size_frac  fair_main_equalized_odds_difference  \\\n",
       "0        89710             1.0                             0.097805   \n",
       "0        89710             1.0                             0.097805   \n",
       "0        89710             1.0                             0.186225   \n",
       "0        89710             1.0                             0.186225   \n",
       "\n",
       "   fair_main_equalized_odds_ratio  fair_main_demographic_parity_difference  \\\n",
       "0                        0.898346                                 0.085116   \n",
       "0                        0.898346                                 0.085116   \n",
       "0                        0.784371                                 0.163168   \n",
       "0                        0.784371                                 0.163168   \n",
       "\n",
       "   fair_main_demographic_parity_ratio  ...  perf_grp_precision_0  \\\n",
       "0                            0.911854  ...                   NaN   \n",
       "0                            0.911854  ...              0.118483   \n",
       "0                            0.813694  ...                   NaN   \n",
       "0                            0.813694  ...              0.127578   \n",
       "\n",
       "   perf_grp_precision_1  perf_grp_false positive rate_0  \\\n",
       "0                   NaN                             NaN   \n",
       "0              0.148083                        0.962140   \n",
       "0                   NaN                             NaN   \n",
       "0              0.175035                        0.863636   \n",
       "\n",
       "   perf_grp_false positive rate_1  perf_grp_false negative rate_0  \\\n",
       "0                             NaN                             NaN   \n",
       "0                        0.864334                        0.007601   \n",
       "0                             NaN                             NaN   \n",
       "0                        0.677411                        0.030828   \n",
       "\n",
       "   perf_grp_false negative rate_1  perf_grp_selection rate_0  \\\n",
       "0                             NaN                        NaN   \n",
       "0                        0.013239                   0.965628   \n",
       "0                             NaN                        NaN   \n",
       "0                        0.056018                   0.875803   \n",
       "\n",
       "   perf_grp_selection rate_1  perf_grp_count_0  perf_grp_count_1  \n",
       "0                        NaN               NaN               NaN  \n",
       "0                   0.880512           20540.0           69170.0  \n",
       "0                        NaN               NaN               NaN  \n",
       "0                   0.712636           20540.0           69170.0  \n",
       "\n",
       "[4 rows x 50 columns]"
      ]
     },
     "execution_count": 66,
     "metadata": {},
     "output_type": "execute_result"
    }
   ],
   "source": [
    "final_output = universe_analysis.generate_final_output(\n",
    "    y_pred_prob=probs_test,\n",
    "    y_test=y_true,\n",
    "    org_test=org_test,\n",
    "    filter_data=filter_sub_universe_data,\n",
    "    cp_metrics_df=cp_metrics_df,\n",
    "    save=True,\n",
    ")\n",
    "final_output"
   ]
  }
 ],
 "metadata": {
  "celltoolbar": "Tags",
  "kernelspec": {
   "display_name": "Python (CMA Fairness)",
   "language": "python",
   "name": "cma_fair_env"
  },
  "language_info": {
   "codemirror_mode": {
    "name": "ipython",
    "version": 3
   },
   "file_extension": ".py",
   "mimetype": "text/x-python",
   "name": "python",
   "nbconvert_exporter": "python",
   "pygments_lexer": "ipython3",
   "version": "3.10.12"
  },
  "papermill": {
   "default_parameters": {},
   "duration": 42.859973,
   "end_time": "2025-08-05T15:07:02.788137",
   "environment_variables": {},
   "exception": null,
   "input_path": "universe_analysis.ipynb",
   "output_path": "output/runs/15/notebooks/m_15-304ce7aca182dee48a6aabb9047fcb3d.ipynb",
   "parameters": {
    "output_dir": "output",
    "run_no": "15",
    "seed": "2023",
    "universe": "{\"cutoff\": [\"quantile_0.1\", \"quantile_0.25\"], \"eval_fairness_grouping\": [\"majority-minority\", \"nationality-all\"], \"exclude_features\": \"age\", \"exclude_subgroups\": \"keep-all\", \"model\": \"penalized_logreg\", \"scale\": \"scale\", \"training_size\": \"25k\", \"training_year\": \"2010_14\"}",
    "universe_id": "304ce7aca182dee48a6aabb9047fcb3d"
   },
   "start_time": "2025-08-05T15:06:19.928164",
   "version": "2.6.0"
  }
 },
 "nbformat": 4,
 "nbformat_minor": 5
}