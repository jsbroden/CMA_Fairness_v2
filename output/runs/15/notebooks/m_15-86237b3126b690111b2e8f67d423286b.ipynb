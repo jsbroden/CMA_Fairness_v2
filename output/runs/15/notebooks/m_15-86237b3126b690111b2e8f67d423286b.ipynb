{
 "cells": [
  {
   "cell_type": "code",
   "execution_count": 1,
   "id": "f159f837-637b-42ba-96b5-ec9a68c44524",
   "metadata": {
    "execution": {
     "iopub.execute_input": "2025-08-05T16:40:50.883603Z",
     "iopub.status.busy": "2025-08-05T16:40:50.882694Z",
     "iopub.status.idle": "2025-08-05T16:40:50.896735Z",
     "shell.execute_reply": "2025-08-05T16:40:50.895544Z"
    },
    "papermill": {
     "duration": 0.032801,
     "end_time": "2025-08-05T16:40:50.898656",
     "exception": false,
     "start_time": "2025-08-05T16:40:50.865855",
     "status": "completed"
    },
    "tags": []
   },
   "outputs": [
    {
     "name": "stdout",
     "output_type": "stream",
     "text": [
      "/dss/dsshome1/0C/ra93lal2/cma/CMA_Fairness_v2\n"
     ]
    },
    {
     "name": "stderr",
     "output_type": "stream",
     "text": [
      "/dss/dsshome1/0C/ra93lal2/.local/share/virtualenvs/CMA_Fairness_v2-3j10GkSs/lib/python3.10/site-packages/IPython/core/magics/osm.py:393: UserWarning: This is now an optional IPython functionality, using bookmarks requires you to install the `pickleshare` library.\n",
      "  bkms = self.shell.db.get('bookmarks', {})\n",
      "/dss/dsshome1/0C/ra93lal2/.local/share/virtualenvs/CMA_Fairness_v2-3j10GkSs/lib/python3.10/site-packages/IPython/core/magics/osm.py:417: UserWarning: This is now an optional IPython functionality, setting dhist requires you to install the `pickleshare` library.\n",
      "  self.shell.db['dhist'] = compress_dhist(dhist)[-100:]\n"
     ]
    }
   ],
   "source": [
    "%cd ~/cma/CMA_Fairness_v2"
   ]
  },
  {
   "cell_type": "markdown",
   "id": "de2603b9",
   "metadata": {
    "papermill": {
     "duration": 0.016807,
     "end_time": "2025-08-05T16:40:50.933400",
     "exception": false,
     "start_time": "2025-08-05T16:40:50.916593",
     "status": "completed"
    },
    "tags": []
   },
   "source": [
    "The following cell holds the definition of our parameters, these values can be overriden by rendering the with e.g. the following command:\n",
    "\n",
    "papermill -p alpha 0.2 -p ratio 0.3 universe_analysis.ipynb output/test_run.ipynb"
   ]
  },
  {
   "cell_type": "code",
   "execution_count": 2,
   "id": "a80968a0-40bb-4fa9-85ef-2d5eefb01975",
   "metadata": {
    "execution": {
     "iopub.execute_input": "2025-08-05T16:40:51.016175Z",
     "iopub.status.busy": "2025-08-05T16:40:51.015209Z",
     "iopub.status.idle": "2025-08-05T16:40:51.021126Z",
     "shell.execute_reply": "2025-08-05T16:40:51.020011Z"
    },
    "papermill": {
     "duration": 0.024593,
     "end_time": "2025-08-05T16:40:51.023063",
     "exception": false,
     "start_time": "2025-08-05T16:40:50.998470",
     "status": "completed"
    },
    "tags": []
   },
   "outputs": [
    {
     "name": "stdout",
     "output_type": "stream",
     "text": [
      "Current working directory: /dss/dsshome1/0C/ra93lal2/cma/CMA_Fairness_v2\n"
     ]
    }
   ],
   "source": [
    "import os\n",
    "print(\"Current working directory:\", os.getcwd())"
   ]
  },
  {
   "cell_type": "code",
   "execution_count": 3,
   "id": "2dce4c03",
   "metadata": {
    "execution": {
     "iopub.execute_input": "2025-08-05T16:40:51.064046Z",
     "iopub.status.busy": "2025-08-05T16:40:51.063392Z",
     "iopub.status.idle": "2025-08-05T16:40:51.069642Z",
     "shell.execute_reply": "2025-08-05T16:40:51.068424Z"
    },
    "papermill": {
     "duration": 0.02878,
     "end_time": "2025-08-05T16:40:51.071623",
     "exception": false,
     "start_time": "2025-08-05T16:40:51.042843",
     "status": "completed"
    },
    "tags": [
     "parameters"
    ]
   },
   "outputs": [],
   "source": [
    "run_no = 0\n",
    "universe_id = \"test\"\n",
    "universe = {\n",
    "    \"training_size\": \"25k\", # \"25k\", \"5k\", \"1k\"\n",
    "    \"training_year\": \"2014\", # \"2014\", \"2012_14\", \"2010_14\"\n",
    "    \"scale\": \"scale\", # \"scale\", \"do-not-scale\",\n",
    "    \"model\": \"elasticnet\", # \"logreg\", \"penalized_logreg\", \"rf\", \"gbm\", \"elasticnet\"\n",
    "    \"cutoff\": [\"quantile_0.15\", \"quantile_0.30\"],\n",
    "    \"exclude_features\": \"age\", # \"none\", \"nationality\", \"sex\", \"nationality-sex\", \"age\"\n",
    "    \"exclude_subgroups\": \"keep-all\", # \"keep-all\", \"drop-non-german\"\n",
    "    \"eval_fairness_grouping\": [\"majority-minority\", \"nationality-all\"]\n",
    "}\n",
    "\n",
    "output_dir=\"./output\"\n",
    "seed=0"
   ]
  },
  {
   "cell_type": "code",
   "execution_count": 4,
   "id": "bb87edf2",
   "metadata": {
    "execution": {
     "iopub.execute_input": "2025-08-05T16:40:51.111684Z",
     "iopub.status.busy": "2025-08-05T16:40:51.111039Z",
     "iopub.status.idle": "2025-08-05T16:40:51.116313Z",
     "shell.execute_reply": "2025-08-05T16:40:51.115358Z"
    },
    "papermill": {
     "duration": 0.027111,
     "end_time": "2025-08-05T16:40:51.118328",
     "exception": false,
     "start_time": "2025-08-05T16:40:51.091217",
     "status": "completed"
    },
    "tags": [
     "injected-parameters"
    ]
   },
   "outputs": [],
   "source": [
    "# Parameters\n",
    "universe_id = \"86237b3126b690111b2e8f67d423286b\"\n",
    "run_no = \"15\"\n",
    "universe = \"{\\\"cutoff\\\": [\\\"quantile_0.1\\\", \\\"quantile_0.25\\\"], \\\"eval_fairness_grouping\\\": [\\\"majority-minority\\\", \\\"nationality-all\\\"], \\\"exclude_features\\\": \\\"none\\\", \\\"exclude_subgroups\\\": \\\"keep-all\\\", \\\"model\\\": \\\"rf\\\", \\\"scale\\\": \\\"do-not-scale\\\", \\\"training_size\\\": \\\"1k\\\", \\\"training_year\\\": \\\"2010_14\\\"}\"\n",
    "output_dir = \"output\"\n",
    "seed = \"2023\"\n"
   ]
  },
  {
   "cell_type": "code",
   "execution_count": 5,
   "id": "1650acaf",
   "metadata": {
    "execution": {
     "iopub.execute_input": "2025-08-05T16:40:51.159162Z",
     "iopub.status.busy": "2025-08-05T16:40:51.158493Z",
     "iopub.status.idle": "2025-08-05T16:40:51.164187Z",
     "shell.execute_reply": "2025-08-05T16:40:51.163043Z"
    },
    "papermill": {
     "duration": 0.027373,
     "end_time": "2025-08-05T16:40:51.165991",
     "exception": false,
     "start_time": "2025-08-05T16:40:51.138618",
     "status": "completed"
    },
    "tags": []
   },
   "outputs": [],
   "source": [
    "import json\n",
    "if isinstance(universe, str):\n",
    "    universe = json.loads(universe)"
   ]
  },
  {
   "cell_type": "code",
   "execution_count": 6,
   "id": "16620c48",
   "metadata": {
    "execution": {
     "iopub.execute_input": "2025-08-05T16:40:51.202420Z",
     "iopub.status.busy": "2025-08-05T16:40:51.201445Z",
     "iopub.status.idle": "2025-08-05T16:40:51.246333Z",
     "shell.execute_reply": "2025-08-05T16:40:51.245328Z"
    },
    "papermill": {
     "duration": 0.065222,
     "end_time": "2025-08-05T16:40:51.248288",
     "exception": false,
     "start_time": "2025-08-05T16:40:51.183066",
     "status": "completed"
    },
    "tags": []
   },
   "outputs": [],
   "source": [
    "# Auto-reload the custom package\n",
    "%load_ext autoreload\n",
    "%autoreload 1\n",
    "%aimport fairness_multiverse"
   ]
  },
  {
   "cell_type": "code",
   "execution_count": 7,
   "id": "01c5c9f3",
   "metadata": {
    "execution": {
     "iopub.execute_input": "2025-08-05T16:40:51.289135Z",
     "iopub.status.busy": "2025-08-05T16:40:51.288143Z",
     "iopub.status.idle": "2025-08-05T16:40:53.463317Z",
     "shell.execute_reply": "2025-08-05T16:40:53.462096Z"
    },
    "papermill": {
     "duration": 2.198405,
     "end_time": "2025-08-05T16:40:53.465986",
     "exception": false,
     "start_time": "2025-08-05T16:40:51.267581",
     "status": "completed"
    },
    "tags": []
   },
   "outputs": [],
   "source": [
    "from fairness_multiverse.universe import UniverseAnalysis\n",
    "\n",
    "universe_analysis = UniverseAnalysis(\n",
    "    run_no = run_no,\n",
    "    universe_id = universe_id,\n",
    "    universe = universe,\n",
    "    output_dir=output_dir,\n",
    ")"
   ]
  },
  {
   "cell_type": "code",
   "execution_count": 8,
   "id": "106241f5",
   "metadata": {
    "execution": {
     "iopub.execute_input": "2025-08-05T16:40:53.518158Z",
     "iopub.status.busy": "2025-08-05T16:40:53.517170Z",
     "iopub.status.idle": "2025-08-05T16:40:53.525827Z",
     "shell.execute_reply": "2025-08-05T16:40:53.524413Z"
    },
    "papermill": {
     "duration": 0.0384,
     "end_time": "2025-08-05T16:40:53.528284",
     "exception": false,
     "start_time": "2025-08-05T16:40:53.489884",
     "status": "completed"
    },
    "tags": []
   },
   "outputs": [
    {
     "name": "stdout",
     "output_type": "stream",
     "text": [
      "Using Seed: 2023\n"
     ]
    }
   ],
   "source": [
    "import numpy as np\n",
    "parsed_seed = int(seed)\n",
    "np.random.seed(parsed_seed)\n",
    "print(f\"Using Seed: {parsed_seed}\")"
   ]
  },
  {
   "cell_type": "markdown",
   "id": "e0ebdc57",
   "metadata": {
    "papermill": {
     "duration": 0.025246,
     "end_time": "2025-08-05T16:40:53.580542",
     "exception": false,
     "start_time": "2025-08-05T16:40:53.555296",
     "status": "completed"
    },
    "tags": []
   },
   "source": [
    "# Loading Data"
   ]
  },
  {
   "cell_type": "code",
   "execution_count": 9,
   "id": "f0496b8a",
   "metadata": {
    "execution": {
     "iopub.execute_input": "2025-08-05T16:40:53.620209Z",
     "iopub.status.busy": "2025-08-05T16:40:53.619854Z",
     "iopub.status.idle": "2025-08-05T16:41:04.786867Z",
     "shell.execute_reply": "2025-08-05T16:41:04.785565Z"
    },
    "papermill": {
     "duration": 11.181755,
     "end_time": "2025-08-05T16:41:04.788719",
     "exception": false,
     "start_time": "2025-08-05T16:40:53.606964",
     "status": "completed"
    },
    "tags": []
   },
   "outputs": [
    {
     "name": "stdout",
     "output_type": "stream",
     "text": [
      "Loading SIAB data from cache: data/siab_cached.csv.gz\n"
     ]
    },
    {
     "name": "stdout",
     "output_type": "stream",
     "text": [
      "(643690, 164)\n"
     ]
    }
   ],
   "source": [
    "from pathlib import Path\n",
    "import pandas as pd\n",
    "\n",
    "# File paths\n",
    "raw_file = Path(\"data/raw/siab.csv\")\n",
    "cache_file = Path(\"data/siab_cached.csv.gz\")\n",
    "\n",
    "# Ensure cache directory exists\n",
    "cache_file.parent.mkdir(parents=True, exist_ok=True)\n",
    "\n",
    "# Load with simple caching\n",
    "if cache_file.exists():\n",
    "    print(f\"Loading SIAB data from cache: {cache_file}\")\n",
    "    siab = pd.read_csv(cache_file, compression='gzip')\n",
    "else:\n",
    "    print(f\"Cache not found. Reading raw SIAB data: {raw_file}\")\n",
    "    siab = pd.read_csv(raw_file)\n",
    "    siab.to_csv(cache_file, index=False, compression='gzip')\n",
    "    print(f\"Cached SIAB data to: {cache_file}\")\n",
    "\n",
    "print(siab.shape)"
   ]
  },
  {
   "cell_type": "code",
   "execution_count": 10,
   "id": "db0ca512-5f53-4dba-abdb-a2888bca41ba",
   "metadata": {
    "execution": {
     "iopub.execute_input": "2025-08-05T16:41:04.832998Z",
     "iopub.status.busy": "2025-08-05T16:41:04.832158Z",
     "iopub.status.idle": "2025-08-05T16:41:04.839439Z",
     "shell.execute_reply": "2025-08-05T16:41:04.838429Z"
    },
    "papermill": {
     "duration": 0.029832,
     "end_time": "2025-08-05T16:41:04.841319",
     "exception": false,
     "start_time": "2025-08-05T16:41:04.811487",
     "status": "completed"
    },
    "tags": []
   },
   "outputs": [],
   "source": [
    "#siab"
   ]
  },
  {
   "cell_type": "markdown",
   "id": "997051c5-15bd-4b69-9786-c3001a3ce484",
   "metadata": {
    "papermill": {
     "duration": 0.01984,
     "end_time": "2025-08-05T16:41:04.881161",
     "exception": false,
     "start_time": "2025-08-05T16:41:04.861321",
     "status": "completed"
    },
    "tags": []
   },
   "source": [
    "# Splitting Data and Setting Training Data Size"
   ]
  },
  {
   "cell_type": "code",
   "execution_count": 11,
   "id": "aea9c6ef-6f46-42c8-85eb-5a62025c1508",
   "metadata": {
    "execution": {
     "iopub.execute_input": "2025-08-05T16:41:04.921326Z",
     "iopub.status.busy": "2025-08-05T16:41:04.920287Z",
     "iopub.status.idle": "2025-08-05T16:41:05.977321Z",
     "shell.execute_reply": "2025-08-05T16:41:05.976298Z"
    },
    "papermill": {
     "duration": 1.078681,
     "end_time": "2025-08-05T16:41:05.979338",
     "exception": false,
     "start_time": "2025-08-05T16:41:04.900657",
     "status": "completed"
    },
    "tags": []
   },
   "outputs": [],
   "source": [
    "from fairness_multiverse.universe import sample_by_year_size\n",
    "\n",
    "siab_train = sample_by_year_size(siab,\n",
    "                               training_year=universe[\"training_year\"],\n",
    "                               training_size=universe[\"training_size\"])"
   ]
  },
  {
   "cell_type": "code",
   "execution_count": 12,
   "id": "8d3afb32-789d-442c-8d5d-9f5aa8dd2eed",
   "metadata": {
    "execution": {
     "iopub.execute_input": "2025-08-05T16:41:06.018370Z",
     "iopub.status.busy": "2025-08-05T16:41:06.017341Z",
     "iopub.status.idle": "2025-08-05T16:41:06.023145Z",
     "shell.execute_reply": "2025-08-05T16:41:06.022158Z"
    },
    "papermill": {
     "duration": 0.026771,
     "end_time": "2025-08-05T16:41:06.024934",
     "exception": false,
     "start_time": "2025-08-05T16:41:05.998163",
     "status": "completed"
    },
    "tags": []
   },
   "outputs": [],
   "source": [
    "#siab_train.shape"
   ]
  },
  {
   "cell_type": "code",
   "execution_count": 13,
   "id": "d582db68-1a4c-47fb-84fc-08518dc1975a",
   "metadata": {
    "execution": {
     "iopub.execute_input": "2025-08-05T16:41:06.066911Z",
     "iopub.status.busy": "2025-08-05T16:41:06.066395Z",
     "iopub.status.idle": "2025-08-05T16:41:06.076373Z",
     "shell.execute_reply": "2025-08-05T16:41:06.075365Z"
    },
    "papermill": {
     "duration": 0.033929,
     "end_time": "2025-08-05T16:41:06.078416",
     "exception": false,
     "start_time": "2025-08-05T16:41:06.044487",
     "status": "completed"
    },
    "tags": []
   },
   "outputs": [],
   "source": [
    "#display(siab_train.groupby(\"year\").size())"
   ]
  },
  {
   "cell_type": "code",
   "execution_count": 14,
   "id": "a561edb4-d032-42cb-8256-22eac1111c64",
   "metadata": {
    "execution": {
     "iopub.execute_input": "2025-08-05T16:41:06.118834Z",
     "iopub.status.busy": "2025-08-05T16:41:06.118183Z",
     "iopub.status.idle": "2025-08-05T16:41:06.333554Z",
     "shell.execute_reply": "2025-08-05T16:41:06.332717Z"
    },
    "papermill": {
     "duration": 0.238289,
     "end_time": "2025-08-05T16:41:06.335578",
     "exception": false,
     "start_time": "2025-08-05T16:41:06.097289",
     "status": "completed"
    },
    "tags": []
   },
   "outputs": [],
   "source": [
    "#siab_train = siab_s[siab_s.year < 2015]\n",
    "siab_calib = siab[siab.year == 2015]\n",
    "siab_test = siab[siab.year == 2016]"
   ]
  },
  {
   "cell_type": "code",
   "execution_count": 15,
   "id": "472de16f-c3db-4916-846b-1f0de9cf1746",
   "metadata": {
    "execution": {
     "iopub.execute_input": "2025-08-05T16:41:06.377111Z",
     "iopub.status.busy": "2025-08-05T16:41:06.376221Z",
     "iopub.status.idle": "2025-08-05T16:41:06.383749Z",
     "shell.execute_reply": "2025-08-05T16:41:06.382613Z"
    },
    "papermill": {
     "duration": 0.029749,
     "end_time": "2025-08-05T16:41:06.385741",
     "exception": false,
     "start_time": "2025-08-05T16:41:06.355992",
     "status": "completed"
    },
    "tags": []
   },
   "outputs": [],
   "source": [
    "X_train = siab_train.iloc[:,4:164]\n",
    "y_train = siab_train.iloc[:, [3]]"
   ]
  },
  {
   "cell_type": "code",
   "execution_count": 16,
   "id": "828c96af-f43a-4ed6-ba47-8ac73a47d56c",
   "metadata": {
    "execution": {
     "iopub.execute_input": "2025-08-05T16:41:06.426456Z",
     "iopub.status.busy": "2025-08-05T16:41:06.425679Z",
     "iopub.status.idle": "2025-08-05T16:41:06.480961Z",
     "shell.execute_reply": "2025-08-05T16:41:06.479707Z"
    },
    "papermill": {
     "duration": 0.077074,
     "end_time": "2025-08-05T16:41:06.483005",
     "exception": false,
     "start_time": "2025-08-05T16:41:06.405931",
     "status": "completed"
    },
    "tags": []
   },
   "outputs": [],
   "source": [
    "X_calib = siab_calib.iloc[:,4:164]\n",
    "y_calib = siab_calib.iloc[:, [3]]"
   ]
  },
  {
   "cell_type": "code",
   "execution_count": 17,
   "id": "c34be9c3-6bd6-476e-acd3-845840e303be",
   "metadata": {
    "execution": {
     "iopub.execute_input": "2025-08-05T16:41:06.525643Z",
     "iopub.status.busy": "2025-08-05T16:41:06.524377Z",
     "iopub.status.idle": "2025-08-05T16:41:06.580289Z",
     "shell.execute_reply": "2025-08-05T16:41:06.579136Z"
    },
    "papermill": {
     "duration": 0.079449,
     "end_time": "2025-08-05T16:41:06.582703",
     "exception": false,
     "start_time": "2025-08-05T16:41:06.503254",
     "status": "completed"
    },
    "tags": []
   },
   "outputs": [],
   "source": [
    "X_test = siab_test.iloc[:,4:164]\n",
    "y_true = siab_test.iloc[:, [3]]"
   ]
  },
  {
   "cell_type": "code",
   "execution_count": 18,
   "id": "e6c733c5",
   "metadata": {
    "execution": {
     "iopub.execute_input": "2025-08-05T16:41:06.624547Z",
     "iopub.status.busy": "2025-08-05T16:41:06.623921Z",
     "iopub.status.idle": "2025-08-05T16:41:06.725146Z",
     "shell.execute_reply": "2025-08-05T16:41:06.724125Z"
    },
    "papermill": {
     "duration": 0.123577,
     "end_time": "2025-08-05T16:41:06.727273",
     "exception": false,
     "start_time": "2025-08-05T16:41:06.603696",
     "status": "completed"
    },
    "tags": []
   },
   "outputs": [],
   "source": [
    "# Auxiliary data needed downstream in the pipeline\n",
    "\n",
    "org_train = X_train.copy()\n",
    "org_test = X_test.copy()\n",
    "org_calib = X_calib.copy()"
   ]
  },
  {
   "cell_type": "markdown",
   "id": "0a4a1b33",
   "metadata": {
    "papermill": {
     "duration": 0.019169,
     "end_time": "2025-08-05T16:41:06.768597",
     "exception": false,
     "start_time": "2025-08-05T16:41:06.749428",
     "status": "completed"
    },
    "tags": []
   },
   "source": [
    "# Preprocessing Data"
   ]
  },
  {
   "cell_type": "code",
   "execution_count": 19,
   "id": "ca879031",
   "metadata": {
    "execution": {
     "iopub.execute_input": "2025-08-05T16:41:06.809795Z",
     "iopub.status.busy": "2025-08-05T16:41:06.808914Z",
     "iopub.status.idle": "2025-08-05T16:41:06.815885Z",
     "shell.execute_reply": "2025-08-05T16:41:06.814812Z"
    },
    "papermill": {
     "duration": 0.029375,
     "end_time": "2025-08-05T16:41:06.817798",
     "exception": false,
     "start_time": "2025-08-05T16:41:06.788423",
     "status": "completed"
    },
    "tags": []
   },
   "outputs": [],
   "source": [
    "# EXCLUDE PROTECTED FEATURES\n",
    "# ----------------------\n",
    "# \"exclude_features\": \"none\", # \"nationality\", \"sex\", \"nationality-sex\"\n",
    "\n",
    "excluded_features = universe[\"exclude_features\"].split(\"-\") # split, e.g.: \"nationality-sex\" -> [\"nationality\", \"sex\"]\n",
    "excluded_features_dictionary = {\n",
    "    \"nationality\": [\"maxdeutsch1\", \"maxdeutsch.Missing.\"],\n",
    "    \"sex\": [\"frau1\"],\n",
    "    \"age\": [\"age\"],\n",
    "}"
   ]
  },
  {
   "cell_type": "code",
   "execution_count": 20,
   "id": "b745ac60",
   "metadata": {
    "execution": {
     "iopub.execute_input": "2025-08-05T16:41:06.859387Z",
     "iopub.status.busy": "2025-08-05T16:41:06.858636Z",
     "iopub.status.idle": "2025-08-05T16:41:06.864947Z",
     "shell.execute_reply": "2025-08-05T16:41:06.863888Z"
    },
    "papermill": {
     "duration": 0.028829,
     "end_time": "2025-08-05T16:41:06.866827",
     "exception": false,
     "start_time": "2025-08-05T16:41:06.837998",
     "status": "completed"
    },
    "tags": []
   },
   "outputs": [],
   "source": [
    "# Code nice names to column names\n",
    "\n",
    "excluded_features_columns = [\n",
    "    excluded_features_dictionary[f] for f in excluded_features if len(f) > 0 and f != \"none\"\n",
    "]"
   ]
  },
  {
   "cell_type": "code",
   "execution_count": 21,
   "id": "f84f73a2",
   "metadata": {
    "execution": {
     "iopub.execute_input": "2025-08-05T16:41:06.907441Z",
     "iopub.status.busy": "2025-08-05T16:41:06.906898Z",
     "iopub.status.idle": "2025-08-05T16:41:06.913601Z",
     "shell.execute_reply": "2025-08-05T16:41:06.912488Z"
    },
    "papermill": {
     "duration": 0.028431,
     "end_time": "2025-08-05T16:41:06.915447",
     "exception": false,
     "start_time": "2025-08-05T16:41:06.887016",
     "status": "completed"
    },
    "tags": []
   },
   "outputs": [],
   "source": [
    "from utils import flatten_once\n",
    "\n",
    "excluded_features_columns = flatten_once(excluded_features_columns)"
   ]
  },
  {
   "cell_type": "code",
   "execution_count": 22,
   "id": "884dea22",
   "metadata": {
    "execution": {
     "iopub.execute_input": "2025-08-05T16:41:06.956780Z",
     "iopub.status.busy": "2025-08-05T16:41:06.956180Z",
     "iopub.status.idle": "2025-08-05T16:41:06.962457Z",
     "shell.execute_reply": "2025-08-05T16:41:06.961302Z"
    },
    "papermill": {
     "duration": 0.028491,
     "end_time": "2025-08-05T16:41:06.964517",
     "exception": false,
     "start_time": "2025-08-05T16:41:06.936026",
     "status": "completed"
    },
    "tags": []
   },
   "outputs": [],
   "source": [
    "if len(excluded_features_columns) > 0:\n",
    "    print(f\"Dropping features: {excluded_features_columns}\")\n",
    "    X_train.drop(excluded_features_columns, axis=1, inplace=True)"
   ]
  },
  {
   "cell_type": "code",
   "execution_count": 23,
   "id": "95ab8b16",
   "metadata": {
    "execution": {
     "iopub.execute_input": "2025-08-05T16:41:07.006492Z",
     "iopub.status.busy": "2025-08-05T16:41:07.005776Z",
     "iopub.status.idle": "2025-08-05T16:41:07.012193Z",
     "shell.execute_reply": "2025-08-05T16:41:07.011164Z"
    },
    "papermill": {
     "duration": 0.028943,
     "end_time": "2025-08-05T16:41:07.014210",
     "exception": false,
     "start_time": "2025-08-05T16:41:06.985267",
     "status": "completed"
    },
    "tags": []
   },
   "outputs": [],
   "source": [
    "if len(excluded_features_columns) > 0:\n",
    "    print(f\"Dropping features: {excluded_features_columns}\")\n",
    "    X_test.drop(excluded_features_columns, axis=1, inplace=True)"
   ]
  },
  {
   "cell_type": "code",
   "execution_count": 24,
   "id": "1853aaf5-fb9f-46cb-a2b5-8ea4ae2237e4",
   "metadata": {
    "execution": {
     "iopub.execute_input": "2025-08-05T16:41:07.058577Z",
     "iopub.status.busy": "2025-08-05T16:41:07.057060Z",
     "iopub.status.idle": "2025-08-05T16:41:07.063616Z",
     "shell.execute_reply": "2025-08-05T16:41:07.062501Z"
    },
    "papermill": {
     "duration": 0.030183,
     "end_time": "2025-08-05T16:41:07.065754",
     "exception": false,
     "start_time": "2025-08-05T16:41:07.035571",
     "status": "completed"
    },
    "tags": []
   },
   "outputs": [],
   "source": [
    "if len(excluded_features_columns) > 0:\n",
    "    print(f\"Dropping features: {excluded_features_columns}\")\n",
    "    X_calib.drop(excluded_features_columns, axis=1, inplace=True)"
   ]
  },
  {
   "cell_type": "code",
   "execution_count": 25,
   "id": "76c4dc6d",
   "metadata": {
    "execution": {
     "iopub.execute_input": "2025-08-05T16:41:07.108561Z",
     "iopub.status.busy": "2025-08-05T16:41:07.107637Z",
     "iopub.status.idle": "2025-08-05T16:41:07.113164Z",
     "shell.execute_reply": "2025-08-05T16:41:07.112153Z"
    },
    "papermill": {
     "duration": 0.028694,
     "end_time": "2025-08-05T16:41:07.115160",
     "exception": false,
     "start_time": "2025-08-05T16:41:07.086466",
     "status": "completed"
    },
    "tags": []
   },
   "outputs": [],
   "source": [
    "# EXCLUDE CERTAIN SUBGROUPS\n",
    "# ----------------------\n",
    "\n",
    "mode = universe.get(\"exclude_subgroups\", \"keep-all\") \n",
    "# Fetches the exclude_subgroups setting from the universe dict.\n",
    "# Defaults to \"keep-all\" if the key is missing."
   ]
  },
  {
   "cell_type": "code",
   "execution_count": 26,
   "id": "21994072",
   "metadata": {
    "execution": {
     "iopub.execute_input": "2025-08-05T16:41:07.157440Z",
     "iopub.status.busy": "2025-08-05T16:41:07.156530Z",
     "iopub.status.idle": "2025-08-05T16:41:07.163480Z",
     "shell.execute_reply": "2025-08-05T16:41:07.162376Z"
    },
    "papermill": {
     "duration": 0.029487,
     "end_time": "2025-08-05T16:41:07.165471",
     "exception": false,
     "start_time": "2025-08-05T16:41:07.135984",
     "status": "completed"
    },
    "tags": []
   },
   "outputs": [],
   "source": [
    "if mode == \"keep-all\":\n",
    "    keep_mask = pd.Series(True, index=org_train.index)\n",
    "\n",
    "# org_train contains the original feature columns from features_org (in Simson)\n",
    "# features_org contains unprocessed features, for me X_train at beginning ???\n",
    "# For keep-all, creates a boolean Series (keep_mask) of all True, so no rows are removed.\n",
    "\n",
    "elif mode == \"drop-non-german\":\n",
    "    keep_mask = org_train[\"maxdeutsch1\"] == 1 # ??? what about missing values?\n",
    "\n",
    "else:\n",
    "    raise ValueError(f\"Unsupported mode for exclude_subgroups: {mode}\")"
   ]
  },
  {
   "cell_type": "code",
   "execution_count": 27,
   "id": "71651440",
   "metadata": {
    "execution": {
     "iopub.execute_input": "2025-08-05T16:41:07.206895Z",
     "iopub.status.busy": "2025-08-05T16:41:07.206542Z",
     "iopub.status.idle": "2025-08-05T16:41:07.212921Z",
     "shell.execute_reply": "2025-08-05T16:41:07.211830Z"
    },
    "papermill": {
     "duration": 0.029214,
     "end_time": "2025-08-05T16:41:07.214766",
     "exception": false,
     "start_time": "2025-08-05T16:41:07.185552",
     "status": "completed"
    },
    "tags": []
   },
   "outputs": [],
   "source": [
    "n_drop = (~keep_mask).sum() # Calculates how many rows are set to be dropped\n",
    "if n_drop > 0:\n",
    "    pct = n_drop / len(keep_mask) * 100\n",
    "    print(f\"Dropping {n_drop} rows ({pct:.2f}%) where mode='{mode}'\")"
   ]
  },
  {
   "cell_type": "code",
   "execution_count": 28,
   "id": "5fb8eee5",
   "metadata": {
    "execution": {
     "iopub.execute_input": "2025-08-05T16:41:07.256554Z",
     "iopub.status.busy": "2025-08-05T16:41:07.255859Z",
     "iopub.status.idle": "2025-08-05T16:41:07.262376Z",
     "shell.execute_reply": "2025-08-05T16:41:07.261184Z"
    },
    "papermill": {
     "duration": 0.028817,
     "end_time": "2025-08-05T16:41:07.264074",
     "exception": false,
     "start_time": "2025-08-05T16:41:07.235257",
     "status": "completed"
    },
    "tags": []
   },
   "outputs": [],
   "source": [
    "X_train = X_train[keep_mask]"
   ]
  },
  {
   "cell_type": "code",
   "execution_count": 29,
   "id": "b202bb3a",
   "metadata": {
    "execution": {
     "iopub.execute_input": "2025-08-05T16:41:07.307832Z",
     "iopub.status.busy": "2025-08-05T16:41:07.306976Z",
     "iopub.status.idle": "2025-08-05T16:41:07.312621Z",
     "shell.execute_reply": "2025-08-05T16:41:07.311697Z"
    },
    "papermill": {
     "duration": 0.029875,
     "end_time": "2025-08-05T16:41:07.314246",
     "exception": false,
     "start_time": "2025-08-05T16:41:07.284371",
     "status": "completed"
    },
    "tags": []
   },
   "outputs": [],
   "source": [
    "y_train = y_train[keep_mask]"
   ]
  },
  {
   "cell_type": "markdown",
   "id": "493e2ac3",
   "metadata": {
    "papermill": {
     "duration": 0.02054,
     "end_time": "2025-08-05T16:41:07.355016",
     "exception": false,
     "start_time": "2025-08-05T16:41:07.334476",
     "status": "completed"
    },
    "tags": []
   },
   "source": [
    "# Model Training"
   ]
  },
  {
   "cell_type": "code",
   "execution_count": 30,
   "id": "679e1268",
   "metadata": {
    "execution": {
     "iopub.execute_input": "2025-08-05T16:41:07.398236Z",
     "iopub.status.busy": "2025-08-05T16:41:07.397309Z",
     "iopub.status.idle": "2025-08-05T16:41:07.499068Z",
     "shell.execute_reply": "2025-08-05T16:41:07.498326Z"
    },
    "papermill": {
     "duration": 0.124932,
     "end_time": "2025-08-05T16:41:07.500456",
     "exception": false,
     "start_time": "2025-08-05T16:41:07.375524",
     "status": "completed"
    },
    "tags": []
   },
   "outputs": [],
   "source": [
    "from sklearn.linear_model import LogisticRegression\n",
    "from sklearn.ensemble import GradientBoostingClassifier, RandomForestClassifier\n",
    "\n",
    "if (universe[\"model\"] == \"logreg\"):\n",
    "    model = LogisticRegression() #penalty=\"none\", solver=\"newton-cg\", max_iter=1) # include random_state=19 ?\n",
    "elif (universe[\"model\"] == \"penalized_logreg\"):\n",
    "    model = LogisticRegression(penalty=\"l2\", C=0.1) #, solver=\"newton-cg\", max_iter=1)\n",
    "elif (universe[\"model\"] == \"rf\"):\n",
    "    model = RandomForestClassifier() # n_estimators=100, n_jobs=-1\n",
    "elif (universe[\"model\"] == \"gbm\"):\n",
    "    model = GradientBoostingClassifier()\n",
    "elif (universe[\"model\"] == \"elasticnet\"):\n",
    "    model = LogisticRegression(penalty = 'elasticnet', solver = 'saga', l1_ratio = 0.5) # max_iter=5000\n",
    "else:\n",
    "    raise \"Unsupported universe.model\""
   ]
  },
  {
   "cell_type": "code",
   "execution_count": 31,
   "id": "0cc8f744",
   "metadata": {
    "execution": {
     "iopub.execute_input": "2025-08-05T16:41:07.522279Z",
     "iopub.status.busy": "2025-08-05T16:41:07.521635Z",
     "iopub.status.idle": "2025-08-05T16:41:07.526976Z",
     "shell.execute_reply": "2025-08-05T16:41:07.526208Z"
    },
    "papermill": {
     "duration": 0.017409,
     "end_time": "2025-08-05T16:41:07.528248",
     "exception": false,
     "start_time": "2025-08-05T16:41:07.510839",
     "status": "completed"
    },
    "tags": []
   },
   "outputs": [],
   "source": [
    "import numpy as np\n",
    "from sklearn.pipeline import Pipeline\n",
    "from sklearn.preprocessing import StandardScaler\n",
    "\n",
    "model = Pipeline([\n",
    "    #(\"continuous_processor\", continuous_processor),\n",
    "    #(\"categorical_preprocessor\", categorical_preprocessor),\n",
    "    (\"scale\", StandardScaler() if universe[\"scale\"] == \"scale\" else None), \n",
    "    (\"model\", model),\n",
    "])"
   ]
  },
  {
   "cell_type": "code",
   "execution_count": 32,
   "id": "9442c04d",
   "metadata": {
    "execution": {
     "iopub.execute_input": "2025-08-05T16:41:07.550359Z",
     "iopub.status.busy": "2025-08-05T16:41:07.549551Z",
     "iopub.status.idle": "2025-08-05T16:41:07.828288Z",
     "shell.execute_reply": "2025-08-05T16:41:07.827548Z"
    },
    "papermill": {
     "duration": 0.290629,
     "end_time": "2025-08-05T16:41:07.829571",
     "exception": false,
     "start_time": "2025-08-05T16:41:07.538942",
     "status": "completed"
    },
    "tags": []
   },
   "outputs": [
    {
     "data": {
      "text/html": [
       "<style>#sk-container-id-1 {color: black;background-color: white;}#sk-container-id-1 pre{padding: 0;}#sk-container-id-1 div.sk-toggleable {background-color: white;}#sk-container-id-1 label.sk-toggleable__label {cursor: pointer;display: block;width: 100%;margin-bottom: 0;padding: 0.3em;box-sizing: border-box;text-align: center;}#sk-container-id-1 label.sk-toggleable__label-arrow:before {content: \"▸\";float: left;margin-right: 0.25em;color: #696969;}#sk-container-id-1 label.sk-toggleable__label-arrow:hover:before {color: black;}#sk-container-id-1 div.sk-estimator:hover label.sk-toggleable__label-arrow:before {color: black;}#sk-container-id-1 div.sk-toggleable__content {max-height: 0;max-width: 0;overflow: hidden;text-align: left;background-color: #f0f8ff;}#sk-container-id-1 div.sk-toggleable__content pre {margin: 0.2em;color: black;border-radius: 0.25em;background-color: #f0f8ff;}#sk-container-id-1 input.sk-toggleable__control:checked~div.sk-toggleable__content {max-height: 200px;max-width: 100%;overflow: auto;}#sk-container-id-1 input.sk-toggleable__control:checked~label.sk-toggleable__label-arrow:before {content: \"▾\";}#sk-container-id-1 div.sk-estimator input.sk-toggleable__control:checked~label.sk-toggleable__label {background-color: #d4ebff;}#sk-container-id-1 div.sk-label input.sk-toggleable__control:checked~label.sk-toggleable__label {background-color: #d4ebff;}#sk-container-id-1 input.sk-hidden--visually {border: 0;clip: rect(1px 1px 1px 1px);clip: rect(1px, 1px, 1px, 1px);height: 1px;margin: -1px;overflow: hidden;padding: 0;position: absolute;width: 1px;}#sk-container-id-1 div.sk-estimator {font-family: monospace;background-color: #f0f8ff;border: 1px dotted black;border-radius: 0.25em;box-sizing: border-box;margin-bottom: 0.5em;}#sk-container-id-1 div.sk-estimator:hover {background-color: #d4ebff;}#sk-container-id-1 div.sk-parallel-item::after {content: \"\";width: 100%;border-bottom: 1px solid gray;flex-grow: 1;}#sk-container-id-1 div.sk-label:hover label.sk-toggleable__label {background-color: #d4ebff;}#sk-container-id-1 div.sk-serial::before {content: \"\";position: absolute;border-left: 1px solid gray;box-sizing: border-box;top: 0;bottom: 0;left: 50%;z-index: 0;}#sk-container-id-1 div.sk-serial {display: flex;flex-direction: column;align-items: center;background-color: white;padding-right: 0.2em;padding-left: 0.2em;position: relative;}#sk-container-id-1 div.sk-item {position: relative;z-index: 1;}#sk-container-id-1 div.sk-parallel {display: flex;align-items: stretch;justify-content: center;background-color: white;position: relative;}#sk-container-id-1 div.sk-item::before, #sk-container-id-1 div.sk-parallel-item::before {content: \"\";position: absolute;border-left: 1px solid gray;box-sizing: border-box;top: 0;bottom: 0;left: 50%;z-index: -1;}#sk-container-id-1 div.sk-parallel-item {display: flex;flex-direction: column;z-index: 1;position: relative;background-color: white;}#sk-container-id-1 div.sk-parallel-item:first-child::after {align-self: flex-end;width: 50%;}#sk-container-id-1 div.sk-parallel-item:last-child::after {align-self: flex-start;width: 50%;}#sk-container-id-1 div.sk-parallel-item:only-child::after {width: 0;}#sk-container-id-1 div.sk-dashed-wrapped {border: 1px dashed gray;margin: 0 0.4em 0.5em 0.4em;box-sizing: border-box;padding-bottom: 0.4em;background-color: white;}#sk-container-id-1 div.sk-label label {font-family: monospace;font-weight: bold;display: inline-block;line-height: 1.2em;}#sk-container-id-1 div.sk-label-container {text-align: center;}#sk-container-id-1 div.sk-container {/* jupyter's `normalize.less` sets `[hidden] { display: none; }` but bootstrap.min.css set `[hidden] { display: none !important; }` so we also need the `!important` here to be able to override the default hidden behavior on the sphinx rendered scikit-learn.org. See: https://github.com/scikit-learn/scikit-learn/issues/21755 */display: inline-block !important;position: relative;}#sk-container-id-1 div.sk-text-repr-fallback {display: none;}</style><div id=\"sk-container-id-1\" class=\"sk-top-container\"><div class=\"sk-text-repr-fallback\"><pre>Pipeline(steps=[(&#x27;scale&#x27;, None), (&#x27;model&#x27;, RandomForestClassifier())])</pre><b>In a Jupyter environment, please rerun this cell to show the HTML representation or trust the notebook. <br />On GitHub, the HTML representation is unable to render, please try loading this page with nbviewer.org.</b></div><div class=\"sk-container\" hidden><div class=\"sk-item sk-dashed-wrapped\"><div class=\"sk-label-container\"><div class=\"sk-label sk-toggleable\"><input class=\"sk-toggleable__control sk-hidden--visually\" id=\"sk-estimator-id-1\" type=\"checkbox\" ><label for=\"sk-estimator-id-1\" class=\"sk-toggleable__label sk-toggleable__label-arrow\">Pipeline</label><div class=\"sk-toggleable__content\"><pre>Pipeline(steps=[(&#x27;scale&#x27;, None), (&#x27;model&#x27;, RandomForestClassifier())])</pre></div></div></div><div class=\"sk-serial\"><div class=\"sk-item\"><div class=\"sk-estimator sk-toggleable\"><input class=\"sk-toggleable__control sk-hidden--visually\" id=\"sk-estimator-id-2\" type=\"checkbox\" ><label for=\"sk-estimator-id-2\" class=\"sk-toggleable__label sk-toggleable__label-arrow\">None</label><div class=\"sk-toggleable__content\"><pre>None</pre></div></div></div><div class=\"sk-item\"><div class=\"sk-estimator sk-toggleable\"><input class=\"sk-toggleable__control sk-hidden--visually\" id=\"sk-estimator-id-3\" type=\"checkbox\" ><label for=\"sk-estimator-id-3\" class=\"sk-toggleable__label sk-toggleable__label-arrow\">RandomForestClassifier</label><div class=\"sk-toggleable__content\"><pre>RandomForestClassifier()</pre></div></div></div></div></div></div></div>"
      ],
      "text/plain": [
       "Pipeline(steps=[('scale', None), ('model', RandomForestClassifier())])"
      ]
     },
     "execution_count": 32,
     "metadata": {},
     "output_type": "execute_result"
    }
   ],
   "source": [
    "model.fit(X_train, y_train.values.ravel())"
   ]
  },
  {
   "cell_type": "code",
   "execution_count": 33,
   "id": "af59f8c0",
   "metadata": {
    "execution": {
     "iopub.execute_input": "2025-08-05T16:41:07.851000Z",
     "iopub.status.busy": "2025-08-05T16:41:07.850659Z",
     "iopub.status.idle": "2025-08-05T16:41:07.856021Z",
     "shell.execute_reply": "2025-08-05T16:41:07.855103Z"
    },
    "papermill": {
     "duration": 0.0174,
     "end_time": "2025-08-05T16:41:07.857477",
     "exception": false,
     "start_time": "2025-08-05T16:41:07.840077",
     "status": "completed"
    },
    "tags": []
   },
   "outputs": [],
   "source": [
    "from fairness_multiverse.universe import predict_w_threshold"
   ]
  },
  {
   "cell_type": "code",
   "execution_count": 34,
   "id": "a7cf2e16",
   "metadata": {
    "execution": {
     "iopub.execute_input": "2025-08-05T16:41:07.891728Z",
     "iopub.status.busy": "2025-08-05T16:41:07.891326Z",
     "iopub.status.idle": "2025-08-05T16:41:09.738691Z",
     "shell.execute_reply": "2025-08-05T16:41:09.737750Z"
    },
    "papermill": {
     "duration": 1.863167,
     "end_time": "2025-08-05T16:41:09.740230",
     "exception": false,
     "start_time": "2025-08-05T16:41:07.877063",
     "status": "completed"
    },
    "tags": []
   },
   "outputs": [
    {
     "data": {
      "text/plain": [
       "0.8610076914502285"
      ]
     },
     "execution_count": 34,
     "metadata": {},
     "output_type": "execute_result"
    }
   ],
   "source": [
    "probs_test = model.predict_proba(X_test)\n",
    "\n",
    "'''\n",
    "Below code returns a boolean array (or binary 0/1 array depending on how it’s used) where each element \n",
    "is True if the probability of class 1 is greater than or equal to the threshold, and False otherwise.\n",
    "'''\n",
    "y_pred_default = predict_w_threshold(probs_test, 0.5)\n",
    "\n",
    "from sklearn.metrics import accuracy_score\n",
    "\n",
    "# Naive prediction\n",
    "accuracy_score(y_true = y_true, y_pred = y_pred_default)"
   ]
  },
  {
   "cell_type": "code",
   "execution_count": 35,
   "id": "081964c3",
   "metadata": {
    "execution": {
     "iopub.execute_input": "2025-08-05T16:41:09.778716Z",
     "iopub.status.busy": "2025-08-05T16:41:09.778044Z",
     "iopub.status.idle": "2025-08-05T16:41:11.409156Z",
     "shell.execute_reply": "2025-08-05T16:41:11.408459Z"
    },
    "papermill": {
     "duration": 1.651641,
     "end_time": "2025-08-05T16:41:11.410590",
     "exception": false,
     "start_time": "2025-08-05T16:41:09.758949",
     "status": "completed"
    },
    "tags": []
   },
   "outputs": [
    {
     "data": {
      "text/plain": [
       "array([0, 0, 0, ..., 0, 0, 0])"
      ]
     },
     "execution_count": 35,
     "metadata": {},
     "output_type": "execute_result"
    }
   ],
   "source": [
    "model.predict(X_test)"
   ]
  },
  {
   "cell_type": "markdown",
   "id": "56c9705b",
   "metadata": {
    "papermill": {
     "duration": 0.010075,
     "end_time": "2025-08-05T16:41:11.431827",
     "exception": false,
     "start_time": "2025-08-05T16:41:11.421752",
     "status": "completed"
    },
    "tags": []
   },
   "source": [
    "# Conformal Prediction"
   ]
  },
  {
   "cell_type": "code",
   "execution_count": 36,
   "id": "160ec6ff",
   "metadata": {
    "execution": {
     "iopub.execute_input": "2025-08-05T16:41:11.458672Z",
     "iopub.status.busy": "2025-08-05T16:41:11.458338Z",
     "iopub.status.idle": "2025-08-05T16:41:11.462998Z",
     "shell.execute_reply": "2025-08-05T16:41:11.462017Z"
    },
    "papermill": {
     "duration": 0.018058,
     "end_time": "2025-08-05T16:41:11.465059",
     "exception": false,
     "start_time": "2025-08-05T16:41:11.447001",
     "status": "completed"
    },
    "tags": []
   },
   "outputs": [],
   "source": [
    "# Miscoverage level for conformal prediction (10% allowed error rate => 90% target coverage)\n",
    "alpha = 0.1"
   ]
  },
  {
   "cell_type": "code",
   "execution_count": 37,
   "id": "eadf4555-3dd3-440e-8e35-f82a4ad9f855",
   "metadata": {
    "execution": {
     "iopub.execute_input": "2025-08-05T16:41:11.504161Z",
     "iopub.status.busy": "2025-08-05T16:41:11.503292Z",
     "iopub.status.idle": "2025-08-05T16:41:12.814965Z",
     "shell.execute_reply": "2025-08-05T16:41:12.814002Z"
    },
    "papermill": {
     "duration": 1.33341,
     "end_time": "2025-08-05T16:41:12.816780",
     "exception": false,
     "start_time": "2025-08-05T16:41:11.483370",
     "status": "completed"
    },
    "tags": []
   },
   "outputs": [],
   "source": [
    "probs_calib = model.predict_proba(X_calib)"
   ]
  },
  {
   "cell_type": "code",
   "execution_count": 38,
   "id": "2ed93547-6d5d-4983-9b36-1ecb300da49a",
   "metadata": {
    "execution": {
     "iopub.execute_input": "2025-08-05T16:41:12.858329Z",
     "iopub.status.busy": "2025-08-05T16:41:12.857879Z",
     "iopub.status.idle": "2025-08-05T16:41:12.862962Z",
     "shell.execute_reply": "2025-08-05T16:41:12.862061Z"
    },
    "papermill": {
     "duration": 0.026254,
     "end_time": "2025-08-05T16:41:12.864601",
     "exception": false,
     "start_time": "2025-08-05T16:41:12.838347",
     "status": "completed"
    },
    "tags": []
   },
   "outputs": [],
   "source": [
    "y_calib = y_calib.values.ravel().astype(int)"
   ]
  },
  {
   "cell_type": "code",
   "execution_count": 39,
   "id": "65d1320d-f588-4b38-9072-62af1ae97f7d",
   "metadata": {
    "execution": {
     "iopub.execute_input": "2025-08-05T16:41:12.903249Z",
     "iopub.status.busy": "2025-08-05T16:41:12.902556Z",
     "iopub.status.idle": "2025-08-05T16:41:12.910173Z",
     "shell.execute_reply": "2025-08-05T16:41:12.909100Z"
    },
    "papermill": {
     "duration": 0.028154,
     "end_time": "2025-08-05T16:41:12.911795",
     "exception": false,
     "start_time": "2025-08-05T16:41:12.883641",
     "status": "completed"
    },
    "tags": []
   },
   "outputs": [],
   "source": [
    "from fairness_multiverse.conformal import compute_nc_scores\n",
    "\n",
    "# Compute nonconformity scores on calibration set (1 - probability of true class)\n",
    "nc_scores = compute_nc_scores(probs_calib, y_calib)"
   ]
  },
  {
   "cell_type": "code",
   "execution_count": 40,
   "id": "df3b8ca3-53b7-43d5-9667-7c85da7aeda2",
   "metadata": {
    "execution": {
     "iopub.execute_input": "2025-08-05T16:41:12.952032Z",
     "iopub.status.busy": "2025-08-05T16:41:12.951308Z",
     "iopub.status.idle": "2025-08-05T16:41:12.958153Z",
     "shell.execute_reply": "2025-08-05T16:41:12.957106Z"
    },
    "papermill": {
     "duration": 0.027813,
     "end_time": "2025-08-05T16:41:12.959733",
     "exception": false,
     "start_time": "2025-08-05T16:41:12.931920",
     "status": "completed"
    },
    "tags": []
   },
   "outputs": [],
   "source": [
    "from fairness_multiverse.conformal import find_threshold\n",
    "\n",
    "# Find conformal threshold q_hat for the given alpha (split conformal method)\n",
    "q_hat = find_threshold(nc_scores, alpha)"
   ]
  },
  {
   "cell_type": "code",
   "execution_count": 41,
   "id": "4d29e6c1-0ef6-4aa4-b8fe-4fe79b0d033a",
   "metadata": {
    "execution": {
     "iopub.execute_input": "2025-08-05T16:41:12.998342Z",
     "iopub.status.busy": "2025-08-05T16:41:12.997666Z",
     "iopub.status.idle": "2025-08-05T16:41:13.004824Z",
     "shell.execute_reply": "2025-08-05T16:41:13.003855Z"
    },
    "papermill": {
     "duration": 0.027685,
     "end_time": "2025-08-05T16:41:13.006362",
     "exception": false,
     "start_time": "2025-08-05T16:41:12.978677",
     "status": "completed"
    },
    "tags": []
   },
   "outputs": [
    {
     "data": {
      "text/plain": [
       "0.65"
      ]
     },
     "execution_count": 41,
     "metadata": {},
     "output_type": "execute_result"
    }
   ],
   "source": [
    "q_hat"
   ]
  },
  {
   "cell_type": "code",
   "execution_count": 42,
   "id": "92460794-cdac-4be2-ba28-f28c0515a6fb",
   "metadata": {
    "execution": {
     "iopub.execute_input": "2025-08-05T16:41:13.045182Z",
     "iopub.status.busy": "2025-08-05T16:41:13.044576Z",
     "iopub.status.idle": "2025-08-05T16:41:15.539146Z",
     "shell.execute_reply": "2025-08-05T16:41:15.538001Z"
    },
    "papermill": {
     "duration": 2.515836,
     "end_time": "2025-08-05T16:41:15.541023",
     "exception": false,
     "start_time": "2025-08-05T16:41:13.025187",
     "status": "completed"
    },
    "tags": []
   },
   "outputs": [],
   "source": [
    "from fairness_multiverse.conformal import predict_conformal_sets\n",
    "\n",
    "# Generate prediction sets for each test example\n",
    "pred_sets = predict_conformal_sets(model, X_test, q_hat)"
   ]
  },
  {
   "cell_type": "code",
   "execution_count": 43,
   "id": "d90c9a65-e6db-4f5d-80cd-e68fb7e46829",
   "metadata": {
    "execution": {
     "iopub.execute_input": "2025-08-05T16:41:15.581612Z",
     "iopub.status.busy": "2025-08-05T16:41:15.580658Z",
     "iopub.status.idle": "2025-08-05T16:41:15.586533Z",
     "shell.execute_reply": "2025-08-05T16:41:15.585415Z"
    },
    "papermill": {
     "duration": 0.028198,
     "end_time": "2025-08-05T16:41:15.588347",
     "exception": false,
     "start_time": "2025-08-05T16:41:15.560149",
     "status": "completed"
    },
    "tags": []
   },
   "outputs": [],
   "source": [
    "y_true = y_true.squeeze()"
   ]
  },
  {
   "cell_type": "code",
   "execution_count": 44,
   "id": "3a58a54a-1e68-46b9-927a-df01f18aebc8",
   "metadata": {
    "execution": {
     "iopub.execute_input": "2025-08-05T16:41:15.629225Z",
     "iopub.status.busy": "2025-08-05T16:41:15.628321Z",
     "iopub.status.idle": "2025-08-05T16:41:16.374729Z",
     "shell.execute_reply": "2025-08-05T16:41:16.373736Z"
    },
    "papermill": {
     "duration": 0.767786,
     "end_time": "2025-08-05T16:41:16.376525",
     "exception": false,
     "start_time": "2025-08-05T16:41:15.608739",
     "status": "completed"
    },
    "tags": []
   },
   "outputs": [],
   "source": [
    "from fairness_multiverse.conformal import evaluate_sets\n",
    "\n",
    "# Evaluate coverage and average set size on test data\n",
    "metrics = evaluate_sets(pred_sets, y_true)"
   ]
  },
  {
   "cell_type": "markdown",
   "id": "2b569c12-9aaa-4c88-98c9-bbcd0cf3ebb8",
   "metadata": {
    "papermill": {
     "duration": 0.018689,
     "end_time": "2025-08-05T16:41:16.414753",
     "exception": false,
     "start_time": "2025-08-05T16:41:16.396064",
     "status": "completed"
    },
    "tags": []
   },
   "source": [
    "# CP Metrics"
   ]
  },
  {
   "cell_type": "code",
   "execution_count": 45,
   "id": "5ce0a5cb-201f-45a0-ade5-94c7f0bd6095",
   "metadata": {
    "execution": {
     "iopub.execute_input": "2025-08-05T16:41:16.454744Z",
     "iopub.status.busy": "2025-08-05T16:41:16.454267Z",
     "iopub.status.idle": "2025-08-05T16:41:16.461840Z",
     "shell.execute_reply": "2025-08-05T16:41:16.460823Z"
    },
    "papermill": {
     "duration": 0.029908,
     "end_time": "2025-08-05T16:41:16.463618",
     "exception": false,
     "start_time": "2025-08-05T16:41:16.433710",
     "status": "completed"
    },
    "tags": []
   },
   "outputs": [
    {
     "data": {
      "text/plain": [
       "{'coverage': 0.9138557574406421, 'avg_size': 1.149202987403857}"
      ]
     },
     "execution_count": 45,
     "metadata": {},
     "output_type": "execute_result"
    }
   ],
   "source": [
    "metrics"
   ]
  },
  {
   "cell_type": "code",
   "execution_count": 46,
   "id": "9b9a838d-31c9-430b-ae14-12baee460d17",
   "metadata": {
    "execution": {
     "iopub.execute_input": "2025-08-05T16:41:16.503670Z",
     "iopub.status.busy": "2025-08-05T16:41:16.502889Z",
     "iopub.status.idle": "2025-08-05T16:41:16.509391Z",
     "shell.execute_reply": "2025-08-05T16:41:16.508438Z"
    },
    "papermill": {
     "duration": 0.027988,
     "end_time": "2025-08-05T16:41:16.511198",
     "exception": false,
     "start_time": "2025-08-05T16:41:16.483210",
     "status": "completed"
    },
    "tags": []
   },
   "outputs": [],
   "source": [
    "example_universe = universe.copy()\n",
    "universe_training_year = example_universe.get(\"training_year\")\n",
    "universe_training_size = example_universe.get(\"training_size\")\n",
    "universe_scale = example_universe.get(\"scale\")\n",
    "universe_model = example_universe.get(\"model\")\n",
    "universe_exclude_features = example_universe.get(\"exclude_features\")\n",
    "universe_exclude_subgroups = example_universe.get(\"exclude_subgroups\")"
   ]
  },
  {
   "cell_type": "code",
   "execution_count": 47,
   "id": "f4b6a8ac-9dc0-4245-8a91-5b3b5999c4f9",
   "metadata": {
    "execution": {
     "iopub.execute_input": "2025-08-05T16:41:16.557209Z",
     "iopub.status.busy": "2025-08-05T16:41:16.556691Z",
     "iopub.status.idle": "2025-08-05T16:41:16.563003Z",
     "shell.execute_reply": "2025-08-05T16:41:16.562300Z"
    },
    "papermill": {
     "duration": 0.032799,
     "end_time": "2025-08-05T16:41:16.564518",
     "exception": false,
     "start_time": "2025-08-05T16:41:16.531719",
     "status": "completed"
    },
    "tags": []
   },
   "outputs": [],
   "source": [
    "cp_metrics_dict = {\n",
    "    \"universe_id\": [universe_id],\n",
    "    \"universe_training_year\": [universe_training_year],\n",
    "    \"universe_training_size\": [universe_training_size],\n",
    "    \"universe_scale\": [universe_scale],\n",
    "    \"universe_model\": [universe_model],\n",
    "    \"universe_exclude_features\": [universe_exclude_features],\n",
    "    \"universe_exclude_subgroups\": [universe_exclude_subgroups],\n",
    "    \"q_hat\": [q_hat],\n",
    "    \"coverage\": [metrics[\"coverage\"]],\n",
    "    \"avg_size\": [metrics[\"avg_size\"]],\n",
    "}"
   ]
  },
  {
   "cell_type": "code",
   "execution_count": 48,
   "id": "908acbb1-0371-4915-85ca-3fa520d2efe2",
   "metadata": {
    "execution": {
     "iopub.execute_input": "2025-08-05T16:41:16.608229Z",
     "iopub.status.busy": "2025-08-05T16:41:16.607755Z",
     "iopub.status.idle": "2025-08-05T16:41:16.615875Z",
     "shell.execute_reply": "2025-08-05T16:41:16.614857Z"
    },
    "papermill": {
     "duration": 0.030996,
     "end_time": "2025-08-05T16:41:16.617615",
     "exception": false,
     "start_time": "2025-08-05T16:41:16.586619",
     "status": "completed"
    },
    "tags": []
   },
   "outputs": [
    {
     "data": {
      "text/plain": [
       "{'universe_id': ['86237b3126b690111b2e8f67d423286b'],\n",
       " 'universe_training_year': ['2010_14'],\n",
       " 'universe_training_size': ['1k'],\n",
       " 'universe_scale': ['do-not-scale'],\n",
       " 'universe_model': ['rf'],\n",
       " 'universe_exclude_features': ['none'],\n",
       " 'universe_exclude_subgroups': ['keep-all'],\n",
       " 'q_hat': [0.65],\n",
       " 'coverage': [0.9138557574406421],\n",
       " 'avg_size': [1.149202987403857]}"
      ]
     },
     "execution_count": 48,
     "metadata": {},
     "output_type": "execute_result"
    }
   ],
   "source": [
    "cp_metrics_dict"
   ]
  },
  {
   "cell_type": "code",
   "execution_count": 49,
   "id": "33007efc-14e9-4ec6-97ac-56a455c82265",
   "metadata": {
    "execution": {
     "iopub.execute_input": "2025-08-05T16:41:16.659418Z",
     "iopub.status.busy": "2025-08-05T16:41:16.659011Z",
     "iopub.status.idle": "2025-08-05T16:41:16.664662Z",
     "shell.execute_reply": "2025-08-05T16:41:16.663832Z"
    },
    "papermill": {
     "duration": 0.028731,
     "end_time": "2025-08-05T16:41:16.665936",
     "exception": false,
     "start_time": "2025-08-05T16:41:16.637205",
     "status": "completed"
    },
    "tags": []
   },
   "outputs": [],
   "source": [
    "cp_metrics_df = pd.DataFrame(cp_metrics_dict)"
   ]
  },
  {
   "cell_type": "code",
   "execution_count": 50,
   "id": "db12611b-57b2-4910-b9d0-355adfd6e7bf",
   "metadata": {
    "execution": {
     "iopub.execute_input": "2025-08-05T16:41:16.707128Z",
     "iopub.status.busy": "2025-08-05T16:41:16.706548Z",
     "iopub.status.idle": "2025-08-05T16:41:16.720151Z",
     "shell.execute_reply": "2025-08-05T16:41:16.719376Z"
    },
    "papermill": {
     "duration": 0.032763,
     "end_time": "2025-08-05T16:41:16.721501",
     "exception": false,
     "start_time": "2025-08-05T16:41:16.688738",
     "status": "completed"
    },
    "tags": []
   },
   "outputs": [
    {
     "data": {
      "text/html": [
       "<div>\n",
       "<style scoped>\n",
       "    .dataframe tbody tr th:only-of-type {\n",
       "        vertical-align: middle;\n",
       "    }\n",
       "\n",
       "    .dataframe tbody tr th {\n",
       "        vertical-align: top;\n",
       "    }\n",
       "\n",
       "    .dataframe thead th {\n",
       "        text-align: right;\n",
       "    }\n",
       "</style>\n",
       "<table border=\"1\" class=\"dataframe\">\n",
       "  <thead>\n",
       "    <tr style=\"text-align: right;\">\n",
       "      <th></th>\n",
       "      <th>universe_id</th>\n",
       "      <th>universe_training_year</th>\n",
       "      <th>universe_training_size</th>\n",
       "      <th>universe_scale</th>\n",
       "      <th>universe_model</th>\n",
       "      <th>universe_exclude_features</th>\n",
       "      <th>universe_exclude_subgroups</th>\n",
       "      <th>q_hat</th>\n",
       "      <th>coverage</th>\n",
       "      <th>avg_size</th>\n",
       "    </tr>\n",
       "  </thead>\n",
       "  <tbody>\n",
       "    <tr>\n",
       "      <th>0</th>\n",
       "      <td>86237b3126b690111b2e8f67d423286b</td>\n",
       "      <td>2010_14</td>\n",
       "      <td>1k</td>\n",
       "      <td>do-not-scale</td>\n",
       "      <td>rf</td>\n",
       "      <td>none</td>\n",
       "      <td>keep-all</td>\n",
       "      <td>0.65</td>\n",
       "      <td>0.913856</td>\n",
       "      <td>1.149203</td>\n",
       "    </tr>\n",
       "  </tbody>\n",
       "</table>\n",
       "</div>"
      ],
      "text/plain": [
       "                        universe_id universe_training_year  \\\n",
       "0  86237b3126b690111b2e8f67d423286b                2010_14   \n",
       "\n",
       "  universe_training_size universe_scale universe_model  \\\n",
       "0                     1k   do-not-scale             rf   \n",
       "\n",
       "  universe_exclude_features universe_exclude_subgroups  q_hat  coverage  \\\n",
       "0                      none                   keep-all   0.65  0.913856   \n",
       "\n",
       "   avg_size  \n",
       "0  1.149203  "
      ]
     },
     "execution_count": 50,
     "metadata": {},
     "output_type": "execute_result"
    }
   ],
   "source": [
    "cp_metrics_df"
   ]
  },
  {
   "cell_type": "code",
   "execution_count": 51,
   "id": "b7fbde55-a0a1-47e4-9af6-fe4a17fa8c61",
   "metadata": {
    "execution": {
     "iopub.execute_input": "2025-08-05T16:41:16.746872Z",
     "iopub.status.busy": "2025-08-05T16:41:16.746364Z",
     "iopub.status.idle": "2025-08-05T16:41:16.750326Z",
     "shell.execute_reply": "2025-08-05T16:41:16.749388Z"
    },
    "papermill": {
     "duration": 0.018922,
     "end_time": "2025-08-05T16:41:16.751670",
     "exception": false,
     "start_time": "2025-08-05T16:41:16.732748",
     "status": "completed"
    },
    "tags": []
   },
   "outputs": [],
   "source": [
    "# Conditional Coverage & looking at subgroups"
   ]
  },
  {
   "cell_type": "code",
   "execution_count": 52,
   "id": "027ae886-68dd-4141-96c7-805a5450e1ef",
   "metadata": {
    "execution": {
     "iopub.execute_input": "2025-08-05T16:41:16.776472Z",
     "iopub.status.busy": "2025-08-05T16:41:16.776119Z",
     "iopub.status.idle": "2025-08-05T16:41:17.019838Z",
     "shell.execute_reply": "2025-08-05T16:41:17.018885Z"
    },
    "papermill": {
     "duration": 0.257822,
     "end_time": "2025-08-05T16:41:17.021879",
     "exception": false,
     "start_time": "2025-08-05T16:41:16.764057",
     "status": "completed"
    },
    "tags": []
   },
   "outputs": [],
   "source": [
    "from fairness_multiverse.conformal import build_cp_groups\n",
    "\n",
    "cp_groups_df = build_cp_groups(pred_sets, y_true, X_test.index, org_test)\n",
    "#needs universe_id and setting"
   ]
  },
  {
   "cell_type": "code",
   "execution_count": 53,
   "id": "6cbdab96-b2b2-45af-ad54-d0516db2e28d",
   "metadata": {
    "execution": {
     "iopub.execute_input": "2025-08-05T16:41:17.066871Z",
     "iopub.status.busy": "2025-08-05T16:41:17.066350Z",
     "iopub.status.idle": "2025-08-05T16:41:18.803880Z",
     "shell.execute_reply": "2025-08-05T16:41:18.803064Z"
    },
    "papermill": {
     "duration": 1.760678,
     "end_time": "2025-08-05T16:41:18.805264",
     "exception": false,
     "start_time": "2025-08-05T16:41:17.044586",
     "status": "completed"
    },
    "tags": []
   },
   "outputs": [],
   "source": [
    "# Define covered = 1 if true_label is in the predicted set\n",
    "cp_groups_df['covered'] = cp_groups_df.apply(\n",
    "    lambda r: int(r['true_label'] in r['pred_set']),\n",
    "    axis=1\n",
    ")"
   ]
  },
  {
   "cell_type": "code",
   "execution_count": 54,
   "id": "338ff529-1a6b-4b87-a931-8e4788d52aad",
   "metadata": {
    "execution": {
     "iopub.execute_input": "2025-08-05T16:41:18.829584Z",
     "iopub.status.busy": "2025-08-05T16:41:18.829169Z",
     "iopub.status.idle": "2025-08-05T16:41:18.834003Z",
     "shell.execute_reply": "2025-08-05T16:41:18.833206Z"
    },
    "papermill": {
     "duration": 0.018193,
     "end_time": "2025-08-05T16:41:18.835280",
     "exception": false,
     "start_time": "2025-08-05T16:41:18.817087",
     "status": "completed"
    },
    "tags": []
   },
   "outputs": [],
   "source": [
    "#cp_groups_df"
   ]
  },
  {
   "cell_type": "code",
   "execution_count": 55,
   "id": "90032e27-66df-4540-9169-4e89cfbaa758",
   "metadata": {
    "execution": {
     "iopub.execute_input": "2025-08-05T16:41:18.858750Z",
     "iopub.status.busy": "2025-08-05T16:41:18.858407Z",
     "iopub.status.idle": "2025-08-05T16:41:18.867998Z",
     "shell.execute_reply": "2025-08-05T16:41:18.867181Z"
    },
    "papermill": {
     "duration": 0.022389,
     "end_time": "2025-08-05T16:41:18.869331",
     "exception": false,
     "start_time": "2025-08-05T16:41:18.846942",
     "status": "completed"
    },
    "tags": []
   },
   "outputs": [],
   "source": [
    "subgroups = ['frau1','nongerman','nongerman_male','nongerman_female']\n",
    "\n",
    "# Conditional coverage for subgroup==1\n",
    "cond_coverage = {\n",
    "    g: cp_groups_df.loc[cp_groups_df[g]==1, 'covered'].mean()\n",
    "    for g in subgroups\n",
    "}"
   ]
  },
  {
   "cell_type": "code",
   "execution_count": 56,
   "id": "1e348fb1-b9c3-45bc-ba23-f016827a7e0d",
   "metadata": {
    "execution": {
     "iopub.execute_input": "2025-08-05T16:41:18.892938Z",
     "iopub.status.busy": "2025-08-05T16:41:18.892386Z",
     "iopub.status.idle": "2025-08-05T16:41:18.900390Z",
     "shell.execute_reply": "2025-08-05T16:41:18.899608Z"
    },
    "papermill": {
     "duration": 0.021182,
     "end_time": "2025-08-05T16:41:18.902156",
     "exception": false,
     "start_time": "2025-08-05T16:41:18.880974",
     "status": "completed"
    },
    "tags": []
   },
   "outputs": [
    {
     "data": {
      "text/plain": [
       "{'frau1': 0.9127106078986387,\n",
       " 'nongerman': 0.9087744905406164,\n",
       " 'nongerman_male': 0.9244348374313248,\n",
       " 'nongerman_female': 0.8828614008941877}"
      ]
     },
     "execution_count": 56,
     "metadata": {},
     "output_type": "execute_result"
    }
   ],
   "source": [
    "cond_coverage"
   ]
  },
  {
   "cell_type": "code",
   "execution_count": 57,
   "id": "f5093324-c3dd-4d63-bc4c-8d945e5c8bbb",
   "metadata": {
    "execution": {
     "iopub.execute_input": "2025-08-05T16:41:18.948147Z",
     "iopub.status.busy": "2025-08-05T16:41:18.947707Z",
     "iopub.status.idle": "2025-08-05T16:41:18.954740Z",
     "shell.execute_reply": "2025-08-05T16:41:18.953664Z"
    },
    "papermill": {
     "duration": 0.030477,
     "end_time": "2025-08-05T16:41:18.956608",
     "exception": false,
     "start_time": "2025-08-05T16:41:18.926131",
     "status": "completed"
    },
    "tags": []
   },
   "outputs": [],
   "source": [
    "for subgroup, cov in cond_coverage.items():\n",
    "    cp_metrics_df[f\"cov_{subgroup}\"] = cov"
   ]
  },
  {
   "cell_type": "code",
   "execution_count": 58,
   "id": "6e872e10-dbe5-49e8-b554-5030c98ff75d",
   "metadata": {
    "execution": {
     "iopub.execute_input": "2025-08-05T16:41:19.003813Z",
     "iopub.status.busy": "2025-08-05T16:41:19.003241Z",
     "iopub.status.idle": "2025-08-05T16:41:19.023877Z",
     "shell.execute_reply": "2025-08-05T16:41:19.022866Z"
    },
    "papermill": {
     "duration": 0.046035,
     "end_time": "2025-08-05T16:41:19.025691",
     "exception": false,
     "start_time": "2025-08-05T16:41:18.979656",
     "status": "completed"
    },
    "tags": []
   },
   "outputs": [
    {
     "data": {
      "text/html": [
       "<div>\n",
       "<style scoped>\n",
       "    .dataframe tbody tr th:only-of-type {\n",
       "        vertical-align: middle;\n",
       "    }\n",
       "\n",
       "    .dataframe tbody tr th {\n",
       "        vertical-align: top;\n",
       "    }\n",
       "\n",
       "    .dataframe thead th {\n",
       "        text-align: right;\n",
       "    }\n",
       "</style>\n",
       "<table border=\"1\" class=\"dataframe\">\n",
       "  <thead>\n",
       "    <tr style=\"text-align: right;\">\n",
       "      <th></th>\n",
       "      <th>universe_id</th>\n",
       "      <th>universe_training_year</th>\n",
       "      <th>universe_training_size</th>\n",
       "      <th>universe_scale</th>\n",
       "      <th>universe_model</th>\n",
       "      <th>universe_exclude_features</th>\n",
       "      <th>universe_exclude_subgroups</th>\n",
       "      <th>q_hat</th>\n",
       "      <th>coverage</th>\n",
       "      <th>avg_size</th>\n",
       "      <th>cov_frau1</th>\n",
       "      <th>cov_nongerman</th>\n",
       "      <th>cov_nongerman_male</th>\n",
       "      <th>cov_nongerman_female</th>\n",
       "    </tr>\n",
       "  </thead>\n",
       "  <tbody>\n",
       "    <tr>\n",
       "      <th>0</th>\n",
       "      <td>86237b3126b690111b2e8f67d423286b</td>\n",
       "      <td>2010_14</td>\n",
       "      <td>1k</td>\n",
       "      <td>do-not-scale</td>\n",
       "      <td>rf</td>\n",
       "      <td>none</td>\n",
       "      <td>keep-all</td>\n",
       "      <td>0.65</td>\n",
       "      <td>0.913856</td>\n",
       "      <td>1.149203</td>\n",
       "      <td>0.912711</td>\n",
       "      <td>0.908774</td>\n",
       "      <td>0.924435</td>\n",
       "      <td>0.882861</td>\n",
       "    </tr>\n",
       "  </tbody>\n",
       "</table>\n",
       "</div>"
      ],
      "text/plain": [
       "                        universe_id universe_training_year  \\\n",
       "0  86237b3126b690111b2e8f67d423286b                2010_14   \n",
       "\n",
       "  universe_training_size universe_scale universe_model  \\\n",
       "0                     1k   do-not-scale             rf   \n",
       "\n",
       "  universe_exclude_features universe_exclude_subgroups  q_hat  coverage  \\\n",
       "0                      none                   keep-all   0.65  0.913856   \n",
       "\n",
       "   avg_size  cov_frau1  cov_nongerman  cov_nongerman_male  \\\n",
       "0  1.149203   0.912711       0.908774            0.924435   \n",
       "\n",
       "   cov_nongerman_female  \n",
       "0              0.882861  "
      ]
     },
     "execution_count": 58,
     "metadata": {},
     "output_type": "execute_result"
    }
   ],
   "source": [
    "cp_metrics_df"
   ]
  },
  {
   "cell_type": "markdown",
   "id": "33774451",
   "metadata": {
    "papermill": {
     "duration": 0.013209,
     "end_time": "2025-08-05T16:41:19.060000",
     "exception": false,
     "start_time": "2025-08-05T16:41:19.046791",
     "status": "completed"
    },
    "tags": []
   },
   "source": [
    "# (Fairness) Metrics"
   ]
  },
  {
   "cell_type": "code",
   "execution_count": 59,
   "id": "debc5d62",
   "metadata": {
    "execution": {
     "iopub.execute_input": "2025-08-05T16:41:19.084075Z",
     "iopub.status.busy": "2025-08-05T16:41:19.083730Z",
     "iopub.status.idle": "2025-08-05T16:41:19.104509Z",
     "shell.execute_reply": "2025-08-05T16:41:19.103475Z"
    },
    "papermill": {
     "duration": 0.03458,
     "end_time": "2025-08-05T16:41:19.106411",
     "exception": false,
     "start_time": "2025-08-05T16:41:19.071831",
     "status": "completed"
    },
    "tags": []
   },
   "outputs": [],
   "source": [
    "# do I need to include maxdeutsch1.missing?\n",
    "\n",
    "import numpy as np\n",
    "\n",
    "colname_to_bin = \"maxdeutsch1\"\n",
    "majority_value = org_train[colname_to_bin].mode()[0]\n",
    "\n",
    "org_test[\"majmin\"] = np.where(org_test[colname_to_bin] == majority_value, \"majority\", \"minority\")"
   ]
  },
  {
   "cell_type": "code",
   "execution_count": 60,
   "id": "06a50de5",
   "metadata": {
    "execution": {
     "iopub.execute_input": "2025-08-05T16:41:19.159062Z",
     "iopub.status.busy": "2025-08-05T16:41:19.158552Z",
     "iopub.status.idle": "2025-08-05T16:41:21.493210Z",
     "shell.execute_reply": "2025-08-05T16:41:21.492443Z"
    },
    "papermill": {
     "duration": 2.361902,
     "end_time": "2025-08-05T16:41:21.494677",
     "exception": false,
     "start_time": "2025-08-05T16:41:19.132775",
     "status": "completed"
    },
    "tags": []
   },
   "outputs": [],
   "source": [
    "example_universe = universe.copy()\n",
    "example_universe[\"cutoff\"] = example_universe[\"cutoff\"][0]\n",
    "example_universe[\"eval_fairness_grouping\"] = example_universe[\"eval_fairness_grouping\"][0]\n",
    "fairness_dict, metric_frame = universe_analysis.compute_metrics(\n",
    "    example_universe,\n",
    "    y_pred_prob=probs_test,\n",
    "    y_test=y_true,\n",
    "    org_test=org_test,\n",
    ")"
   ]
  },
  {
   "cell_type": "markdown",
   "id": "f95d4e02",
   "metadata": {
    "papermill": {
     "duration": 0.011471,
     "end_time": "2025-08-05T16:41:21.518504",
     "exception": false,
     "start_time": "2025-08-05T16:41:21.507033",
     "status": "completed"
    },
    "tags": []
   },
   "source": [
    "# Overall"
   ]
  },
  {
   "cell_type": "markdown",
   "id": "bdee4871",
   "metadata": {
    "papermill": {
     "duration": 0.011302,
     "end_time": "2025-08-05T16:41:21.540803",
     "exception": false,
     "start_time": "2025-08-05T16:41:21.529501",
     "status": "completed"
    },
    "tags": []
   },
   "source": [
    "Fairness\n",
    "Main fairness target: Equalized Odds. Seems to be a better fit than equal opportunity, since we're not only interested in Y = 1. Seems to be a better fit than demographic parity, since we also care about accuracy, not just equal distribution of preds.\n",
    "\n",
    "Pick column for computation of fairness metrics\n",
    "\n",
    "Performance\n",
    "Overall performance measures, most interesting in relation to the measures split by group below"
   ]
  },
  {
   "cell_type": "code",
   "execution_count": 61,
   "id": "c4e067c6",
   "metadata": {
    "execution": {
     "iopub.execute_input": "2025-08-05T16:41:21.569563Z",
     "iopub.status.busy": "2025-08-05T16:41:21.568831Z",
     "iopub.status.idle": "2025-08-05T16:41:21.576092Z",
     "shell.execute_reply": "2025-08-05T16:41:21.575267Z"
    },
    "papermill": {
     "duration": 0.020868,
     "end_time": "2025-08-05T16:41:21.577609",
     "exception": false,
     "start_time": "2025-08-05T16:41:21.556741",
     "status": "completed"
    },
    "tags": []
   },
   "outputs": [
    {
     "data": {
      "text/plain": [
       "accuracy                   0.203288\n",
       "balanced accuracy          0.532129\n",
       "f1                         0.238847\n",
       "precision                  0.136104\n",
       "false positive rate        0.910194\n",
       "false negative rate        0.025547\n",
       "selection rate             0.918437\n",
       "count                  89710.000000\n",
       "dtype: float64"
      ]
     },
     "execution_count": 61,
     "metadata": {},
     "output_type": "execute_result"
    }
   ],
   "source": [
    "metric_frame.overall"
   ]
  },
  {
   "cell_type": "markdown",
   "id": "e968fe9d",
   "metadata": {
    "papermill": {
     "duration": 0.011766,
     "end_time": "2025-08-05T16:41:21.601731",
     "exception": false,
     "start_time": "2025-08-05T16:41:21.589965",
     "status": "completed"
    },
    "tags": []
   },
   "source": [
    "By Group"
   ]
  },
  {
   "cell_type": "code",
   "execution_count": 62,
   "id": "ec325bce",
   "metadata": {
    "execution": {
     "iopub.execute_input": "2025-08-05T16:41:21.626077Z",
     "iopub.status.busy": "2025-08-05T16:41:21.625322Z",
     "iopub.status.idle": "2025-08-05T16:41:21.637297Z",
     "shell.execute_reply": "2025-08-05T16:41:21.636481Z"
    },
    "papermill": {
     "duration": 0.025763,
     "end_time": "2025-08-05T16:41:21.638742",
     "exception": false,
     "start_time": "2025-08-05T16:41:21.612979",
     "status": "completed"
    },
    "tags": []
   },
   "outputs": [
    {
     "data": {
      "text/html": [
       "<div>\n",
       "<style scoped>\n",
       "    .dataframe tbody tr th:only-of-type {\n",
       "        vertical-align: middle;\n",
       "    }\n",
       "\n",
       "    .dataframe tbody tr th {\n",
       "        vertical-align: top;\n",
       "    }\n",
       "\n",
       "    .dataframe thead th {\n",
       "        text-align: right;\n",
       "    }\n",
       "</style>\n",
       "<table border=\"1\" class=\"dataframe\">\n",
       "  <thead>\n",
       "    <tr style=\"text-align: right;\">\n",
       "      <th></th>\n",
       "      <th>accuracy</th>\n",
       "      <th>balanced accuracy</th>\n",
       "      <th>f1</th>\n",
       "      <th>precision</th>\n",
       "      <th>false positive rate</th>\n",
       "      <th>false negative rate</th>\n",
       "      <th>selection rate</th>\n",
       "      <th>count</th>\n",
       "    </tr>\n",
       "    <tr>\n",
       "      <th>majmin</th>\n",
       "      <th></th>\n",
       "      <th></th>\n",
       "      <th></th>\n",
       "      <th></th>\n",
       "      <th></th>\n",
       "      <th></th>\n",
       "      <th></th>\n",
       "      <th></th>\n",
       "    </tr>\n",
       "  </thead>\n",
       "  <tbody>\n",
       "    <tr>\n",
       "      <th>majority</th>\n",
       "      <td>0.195634</td>\n",
       "      <td>0.532454</td>\n",
       "      <td>0.245484</td>\n",
       "      <td>0.140108</td>\n",
       "      <td>0.925354</td>\n",
       "      <td>0.009737</td>\n",
       "      <td>0.933931</td>\n",
       "      <td>69170.0</td>\n",
       "    </tr>\n",
       "    <tr>\n",
       "      <th>minority</th>\n",
       "      <td>0.229065</td>\n",
       "      <td>0.526657</td>\n",
       "      <td>0.214573</td>\n",
       "      <td>0.121565</td>\n",
       "      <td>0.860114</td>\n",
       "      <td>0.086571</td>\n",
       "      <td>0.866261</td>\n",
       "      <td>20540.0</td>\n",
       "    </tr>\n",
       "  </tbody>\n",
       "</table>\n",
       "</div>"
      ],
      "text/plain": [
       "          accuracy  balanced accuracy        f1  precision  \\\n",
       "majmin                                                       \n",
       "majority  0.195634           0.532454  0.245484   0.140108   \n",
       "minority  0.229065           0.526657  0.214573   0.121565   \n",
       "\n",
       "          false positive rate  false negative rate  selection rate    count  \n",
       "majmin                                                                       \n",
       "majority             0.925354             0.009737        0.933931  69170.0  \n",
       "minority             0.860114             0.086571        0.866261  20540.0  "
      ]
     },
     "execution_count": 62,
     "metadata": {},
     "output_type": "execute_result"
    }
   ],
   "source": [
    "metric_frame.by_group"
   ]
  },
  {
   "cell_type": "code",
   "execution_count": 63,
   "id": "a9ddbe63",
   "metadata": {
    "execution": {
     "iopub.execute_input": "2025-08-05T16:41:21.665041Z",
     "iopub.status.busy": "2025-08-05T16:41:21.664503Z",
     "iopub.status.idle": "2025-08-05T16:41:23.416529Z",
     "shell.execute_reply": "2025-08-05T16:41:23.415597Z"
    },
    "papermill": {
     "duration": 1.766681,
     "end_time": "2025-08-05T16:41:23.418399",
     "exception": false,
     "start_time": "2025-08-05T16:41:21.651718",
     "status": "completed"
    },
    "tags": []
   },
   "outputs": [
    {
     "data": {
      "text/plain": [
       "array([[<Axes: title={'center': 'accuracy'}, xlabel='majmin'>,\n",
       "        <Axes: title={'center': 'balanced accuracy'}, xlabel='majmin'>,\n",
       "        <Axes: title={'center': 'f1'}, xlabel='majmin'>],\n",
       "       [<Axes: title={'center': 'precision'}, xlabel='majmin'>,\n",
       "        <Axes: title={'center': 'false positive rate'}, xlabel='majmin'>,\n",
       "        <Axes: title={'center': 'false negative rate'}, xlabel='majmin'>],\n",
       "       [<Axes: title={'center': 'selection rate'}, xlabel='majmin'>,\n",
       "        <Axes: title={'center': 'count'}, xlabel='majmin'>,\n",
       "        <Axes: xlabel='majmin'>]], dtype=object)"
      ]
     },
     "execution_count": 63,
     "metadata": {},
     "output_type": "execute_result"
    },
    {
     "data": {
      "image/png": "[encoded data removed]",
      "text/plain": [
       "<Figure size 1200x800 with 9 Axes>"
      ]
     },
     "metadata": {},
     "output_type": "display_data"
    }
   ],
   "source": [
    "# In a graphic\n",
    "metric_frame.by_group.plot.bar(\n",
    "    subplots=True,\n",
    "    layout=[3, 3],\n",
    "    legend=False,\n",
    "    figsize=[12, 8],\n",
    "    title=\"Show all metrics\",\n",
    ")"
   ]
  },
  {
   "cell_type": "markdown",
   "id": "f57a0bac",
   "metadata": {
    "papermill": {
     "duration": 0.024177,
     "end_time": "2025-08-05T16:41:23.470990",
     "exception": false,
     "start_time": "2025-08-05T16:41:23.446813",
     "status": "completed"
    },
    "tags": []
   },
   "source": [
    "# Final Output"
   ]
  },
  {
   "cell_type": "code",
   "execution_count": 64,
   "id": "96d280a3",
   "metadata": {
    "execution": {
     "iopub.execute_input": "2025-08-05T16:41:23.522028Z",
     "iopub.status.busy": "2025-08-05T16:41:23.521257Z",
     "iopub.status.idle": "2025-08-05T16:41:23.530101Z",
     "shell.execute_reply": "2025-08-05T16:41:23.528894Z"
    },
    "papermill": {
     "duration": 0.036355,
     "end_time": "2025-08-05T16:41:23.531877",
     "exception": false,
     "start_time": "2025-08-05T16:41:23.495522",
     "status": "completed"
    },
    "tags": []
   },
   "outputs": [
    {
     "data": {
      "text/plain": [
       "4"
      ]
     },
     "execution_count": 64,
     "metadata": {},
     "output_type": "execute_result"
    }
   ],
   "source": [
    "sub_universes = universe_analysis.generate_sub_universes()\n",
    "len(sub_universes)"
   ]
  },
  {
   "cell_type": "code",
   "execution_count": 65,
   "id": "92adf7ba",
   "metadata": {
    "execution": {
     "iopub.execute_input": "2025-08-05T16:41:23.584426Z",
     "iopub.status.busy": "2025-08-05T16:41:23.583919Z",
     "iopub.status.idle": "2025-08-05T16:41:23.604156Z",
     "shell.execute_reply": "2025-08-05T16:41:23.603169Z"
    },
    "papermill": {
     "duration": 0.048146,
     "end_time": "2025-08-05T16:41:23.606383",
     "exception": false,
     "start_time": "2025-08-05T16:41:23.558237",
     "status": "completed"
    },
    "tags": []
   },
   "outputs": [],
   "source": [
    "def filter_sub_universe_data(sub_universe, org_test):\n",
    "    # Keep all rows — no filtering\n",
    "    keep_rows_mask = np.ones(org_test.shape[0], dtype=bool)\n",
    "\n",
    "    print(f\"[INFO] Keeping all rows: {keep_rows_mask.sum()} rows retained.\")\n",
    "    return keep_rows_mask"
   ]
  },
  {
   "cell_type": "code",
   "execution_count": 66,
   "id": "4a759155",
   "metadata": {
    "execution": {
     "iopub.execute_input": "2025-08-05T16:41:23.666874Z",
     "iopub.status.busy": "2025-08-05T16:41:23.666351Z",
     "iopub.status.idle": "2025-08-05T16:41:34.755499Z",
     "shell.execute_reply": "2025-08-05T16:41:34.754234Z"
    },
    "papermill": {
     "duration": 11.124942,
     "end_time": "2025-08-05T16:41:34.757605",
     "exception": false,
     "start_time": "2025-08-05T16:41:23.632663",
     "status": "completed"
    },
    "tags": []
   },
   "outputs": [
    {
     "name": "stdout",
     "output_type": "stream",
     "text": [
      "Stopping execution_time clock.\n",
      "[INFO] Keeping all rows: 89710 rows retained.\n"
     ]
    },
    {
     "name": "stdout",
     "output_type": "stream",
     "text": [
      "[INFO] Keeping all rows: 89710 rows retained.\n"
     ]
    },
    {
     "name": "stdout",
     "output_type": "stream",
     "text": [
      "[INFO] Keeping all rows: 89710 rows retained.\n"
     ]
    },
    {
     "name": "stdout",
     "output_type": "stream",
     "text": [
      "[INFO] Keeping all rows: 89710 rows retained.\n"
     ]
    },
    {
     "data": {
      "text/html": [
       "<div>\n",
       "<style scoped>\n",
       "    .dataframe tbody tr th:only-of-type {\n",
       "        vertical-align: middle;\n",
       "    }\n",
       "\n",
       "    .dataframe tbody tr th {\n",
       "        vertical-align: top;\n",
       "    }\n",
       "\n",
       "    .dataframe thead th {\n",
       "        text-align: right;\n",
       "    }\n",
       "</style>\n",
       "<table border=\"1\" class=\"dataframe\">\n",
       "  <thead>\n",
       "    <tr style=\"text-align: right;\">\n",
       "      <th></th>\n",
       "      <th>run_no</th>\n",
       "      <th>universe_id</th>\n",
       "      <th>universe_settings</th>\n",
       "      <th>execution_time</th>\n",
       "      <th>test_size_n</th>\n",
       "      <th>test_size_frac</th>\n",
       "      <th>fair_main_equalized_odds_difference</th>\n",
       "      <th>fair_main_equalized_odds_ratio</th>\n",
       "      <th>fair_main_demographic_parity_difference</th>\n",
       "      <th>fair_main_demographic_parity_ratio</th>\n",
       "      <th>...</th>\n",
       "      <th>perf_grp_precision_0</th>\n",
       "      <th>perf_grp_precision_1</th>\n",
       "      <th>perf_grp_false positive rate_0</th>\n",
       "      <th>perf_grp_false positive rate_1</th>\n",
       "      <th>perf_grp_false negative rate_0</th>\n",
       "      <th>perf_grp_false negative rate_1</th>\n",
       "      <th>perf_grp_selection rate_0</th>\n",
       "      <th>perf_grp_selection rate_1</th>\n",
       "      <th>perf_grp_count_0</th>\n",
       "      <th>perf_grp_count_1</th>\n",
       "    </tr>\n",
       "  </thead>\n",
       "  <tbody>\n",
       "    <tr>\n",
       "      <th>0</th>\n",
       "      <td>15</td>\n",
       "      <td>86237b3126b690111b2e8f67d423286b</td>\n",
       "      <td>{\"cutoff\": \"quantile_0.1\", \"eval_fairness_grou...</td>\n",
       "      <td>30.27151</td>\n",
       "      <td>89710</td>\n",
       "      <td>1.0</td>\n",
       "      <td>0.076834</td>\n",
       "      <td>0.922411</td>\n",
       "      <td>0.067670</td>\n",
       "      <td>0.927543</td>\n",
       "      <td>...</td>\n",
       "      <td>NaN</td>\n",
       "      <td>NaN</td>\n",
       "      <td>NaN</td>\n",
       "      <td>NaN</td>\n",
       "      <td>NaN</td>\n",
       "      <td>NaN</td>\n",
       "      <td>NaN</td>\n",
       "      <td>NaN</td>\n",
       "      <td>NaN</td>\n",
       "      <td>NaN</td>\n",
       "    </tr>\n",
       "    <tr>\n",
       "      <th>0</th>\n",
       "      <td>15</td>\n",
       "      <td>86237b3126b690111b2e8f67d423286b</td>\n",
       "      <td>{\"cutoff\": \"quantile_0.1\", \"eval_fairness_grou...</td>\n",
       "      <td>30.27151</td>\n",
       "      <td>89710</td>\n",
       "      <td>1.0</td>\n",
       "      <td>0.076834</td>\n",
       "      <td>0.922411</td>\n",
       "      <td>0.067670</td>\n",
       "      <td>0.927543</td>\n",
       "      <td>...</td>\n",
       "      <td>0.121565</td>\n",
       "      <td>0.140108</td>\n",
       "      <td>0.860114</td>\n",
       "      <td>0.925354</td>\n",
       "      <td>0.086571</td>\n",
       "      <td>0.009737</td>\n",
       "      <td>0.866261</td>\n",
       "      <td>0.933931</td>\n",
       "      <td>20540.0</td>\n",
       "      <td>69170.0</td>\n",
       "    </tr>\n",
       "    <tr>\n",
       "      <th>0</th>\n",
       "      <td>15</td>\n",
       "      <td>86237b3126b690111b2e8f67d423286b</td>\n",
       "      <td>{\"cutoff\": \"quantile_0.25\", \"eval_fairness_gro...</td>\n",
       "      <td>30.27151</td>\n",
       "      <td>89710</td>\n",
       "      <td>1.0</td>\n",
       "      <td>0.150948</td>\n",
       "      <td>0.841800</td>\n",
       "      <td>0.117438</td>\n",
       "      <td>0.854778</td>\n",
       "      <td>...</td>\n",
       "      <td>NaN</td>\n",
       "      <td>NaN</td>\n",
       "      <td>NaN</td>\n",
       "      <td>NaN</td>\n",
       "      <td>NaN</td>\n",
       "      <td>NaN</td>\n",
       "      <td>NaN</td>\n",
       "      <td>NaN</td>\n",
       "      <td>NaN</td>\n",
       "      <td>NaN</td>\n",
       "    </tr>\n",
       "    <tr>\n",
       "      <th>0</th>\n",
       "      <td>15</td>\n",
       "      <td>86237b3126b690111b2e8f67d423286b</td>\n",
       "      <td>{\"cutoff\": \"quantile_0.25\", \"eval_fairness_gro...</td>\n",
       "      <td>30.27151</td>\n",
       "      <td>89710</td>\n",
       "      <td>1.0</td>\n",
       "      <td>0.150948</td>\n",
       "      <td>0.841800</td>\n",
       "      <td>0.117438</td>\n",
       "      <td>0.854778</td>\n",
       "      <td>...</td>\n",
       "      <td>0.133963</td>\n",
       "      <td>0.155910</td>\n",
       "      <td>0.676645</td>\n",
       "      <td>0.786523</td>\n",
       "      <td>0.196791</td>\n",
       "      <td>0.045842</td>\n",
       "      <td>0.691237</td>\n",
       "      <td>0.808674</td>\n",
       "      <td>20540.0</td>\n",
       "      <td>69170.0</td>\n",
       "    </tr>\n",
       "  </tbody>\n",
       "</table>\n",
       "<p>4 rows × 50 columns</p>\n",
       "</div>"
      ],
      "text/plain": [
       "  run_no                       universe_id  \\\n",
       "0     15  86237b3126b690111b2e8f67d423286b   \n",
       "0     15  86237b3126b690111b2e8f67d423286b   \n",
       "0     15  86237b3126b690111b2e8f67d423286b   \n",
       "0     15  86237b3126b690111b2e8f67d423286b   \n",
       "\n",
       "                                   universe_settings  execution_time  \\\n",
       "0  {\"cutoff\": \"quantile_0.1\", \"eval_fairness_grou...        30.27151   \n",
       "0  {\"cutoff\": \"quantile_0.1\", \"eval_fairness_grou...        30.27151   \n",
       "0  {\"cutoff\": \"quantile_0.25\", \"eval_fairness_gro...        30.27151   \n",
       "0  {\"cutoff\": \"quantile_0.25\", \"eval_fairness_gro...        30.27151   \n",
       "\n",
       "   test_size_n  test_size_frac  fair_main_equalized_odds_difference  \\\n",
       "0        89710             1.0                             0.076834   \n",
       "0        89710             1.0                             0.076834   \n",
       "0        89710             1.0                             0.150948   \n",
       "0        89710             1.0                             0.150948   \n",
       "\n",
       "   fair_main_equalized_odds_ratio  fair_main_demographic_parity_difference  \\\n",
       "0                        0.922411                                 0.067670   \n",
       "0                        0.922411                                 0.067670   \n",
       "0                        0.841800                                 0.117438   \n",
       "0                        0.841800                                 0.117438   \n",
       "\n",
       "   fair_main_demographic_parity_ratio  ...  perf_grp_precision_0  \\\n",
       "0                            0.927543  ...                   NaN   \n",
       "0                            0.927543  ...              0.121565   \n",
       "0                            0.854778  ...                   NaN   \n",
       "0                            0.854778  ...              0.133963   \n",
       "\n",
       "   perf_grp_precision_1  perf_grp_false positive rate_0  \\\n",
       "0                   NaN                             NaN   \n",
       "0              0.140108                        0.860114   \n",
       "0                   NaN                             NaN   \n",
       "0              0.155910                        0.676645   \n",
       "\n",
       "   perf_grp_false positive rate_1  perf_grp_false negative rate_0  \\\n",
       "0                             NaN                             NaN   \n",
       "0                        0.925354                        0.086571   \n",
       "0                             NaN                             NaN   \n",
       "0                        0.786523                        0.196791   \n",
       "\n",
       "   perf_grp_false negative rate_1  perf_grp_selection rate_0  \\\n",
       "0                             NaN                        NaN   \n",
       "0                        0.009737                   0.866261   \n",
       "0                             NaN                        NaN   \n",
       "0                        0.045842                   0.691237   \n",
       "\n",
       "   perf_grp_selection rate_1  perf_grp_count_0  perf_grp_count_1  \n",
       "0                        NaN               NaN               NaN  \n",
       "0                   0.933931           20540.0           69170.0  \n",
       "0                        NaN               NaN               NaN  \n",
       "0                   0.808674           20540.0           69170.0  \n",
       "\n",
       "[4 rows x 50 columns]"
      ]
     },
     "execution_count": 66,
     "metadata": {},
     "output_type": "execute_result"
    }
   ],
   "source": [
    "final_output = universe_analysis.generate_final_output(\n",
    "    y_pred_prob=probs_test,\n",
    "    y_test=y_true,\n",
    "    org_test=org_test,\n",
    "    filter_data=filter_sub_universe_data,\n",
    "    cp_metrics_df=cp_metrics_df,\n",
    "    save=True,\n",
    ")\n",
    "final_output"
   ]
  }
 ],
 "metadata": {
  "celltoolbar": "Tags",
  "kernelspec": {
   "display_name": "Python (CMA Fairness)",
   "language": "python",
   "name": "cma_fair_env"
  },
  "language_info": {
   "codemirror_mode": {
    "name": "ipython",
    "version": 3
   },
   "file_extension": ".py",
   "mimetype": "text/x-python",
   "name": "python",
   "nbconvert_exporter": "python",
   "pygments_lexer": "ipython3",
   "version": "3.10.12"
  },
  "papermill": {
   "default_parameters": {},
   "duration": 45.646347,
   "end_time": "2025-08-05T16:41:35.613707",
   "environment_variables": {},
   "exception": null,
   "input_path": "universe_analysis.ipynb",
   "output_path": "output/runs/15/notebooks/m_15-86237b3126b690111b2e8f67d423286b.ipynb",
   "parameters": {
    "output_dir": "output",
    "run_no": "15",
    "seed": "2023",
    "universe": "{\"cutoff\": [\"quantile_0.1\", \"quantile_0.25\"], \"eval_fairness_grouping\": [\"majority-minority\", \"nationality-all\"], \"exclude_features\": \"none\", \"exclude_subgroups\": \"keep-all\", \"model\": \"rf\", \"scale\": \"do-not-scale\", \"training_size\": \"1k\", \"training_year\": \"2010_14\"}",
    "universe_id": "86237b3126b690111b2e8f67d423286b"
   },
   "start_time": "2025-08-05T16:40:49.967360",
   "version": "2.6.0"
  }
 },
 "nbformat": 4,
 "nbformat_minor": 5
}