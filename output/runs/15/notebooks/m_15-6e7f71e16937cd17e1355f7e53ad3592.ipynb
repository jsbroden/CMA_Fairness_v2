{
 "cells": [
  {
   "cell_type": "code",
   "execution_count": 1,
   "id": "f159f837-637b-42ba-96b5-ec9a68c44524",
   "metadata": {
    "execution": {
     "iopub.execute_input": "2025-08-05T16:07:41.095556Z",
     "iopub.status.busy": "2025-08-05T16:07:41.094690Z",
     "iopub.status.idle": "2025-08-05T16:07:41.108386Z",
     "shell.execute_reply": "2025-08-05T16:07:41.107312Z"
    },
    "papermill": {
     "duration": 0.034388,
     "end_time": "2025-08-05T16:07:41.110369",
     "exception": false,
     "start_time": "2025-08-05T16:07:41.075981",
     "status": "completed"
    },
    "tags": []
   },
   "outputs": [
    {
     "name": "stdout",
     "output_type": "stream",
     "text": [
      "/dss/dsshome1/0C/ra93lal2/cma/CMA_Fairness_v2\n"
     ]
    },
    {
     "name": "stderr",
     "output_type": "stream",
     "text": [
      "/dss/dsshome1/0C/ra93lal2/.local/share/virtualenvs/CMA_Fairness_v2-3j10GkSs/lib/python3.10/site-packages/IPython/core/magics/osm.py:393: UserWarning: This is now an optional IPython functionality, using bookmarks requires you to install the `pickleshare` library.\n",
      "  bkms = self.shell.db.get('bookmarks', {})\n",
      "/dss/dsshome1/0C/ra93lal2/.local/share/virtualenvs/CMA_Fairness_v2-3j10GkSs/lib/python3.10/site-packages/IPython/core/magics/osm.py:417: UserWarning: This is now an optional IPython functionality, setting dhist requires you to install the `pickleshare` library.\n",
      "  self.shell.db['dhist'] = compress_dhist(dhist)[-100:]\n"
     ]
    }
   ],
   "source": [
    "%cd ~/cma/CMA_Fairness_v2"
   ]
  },
  {
   "cell_type": "markdown",
   "id": "de2603b9",
   "metadata": {
    "papermill": {
     "duration": 0.019659,
     "end_time": "2025-08-05T16:07:41.151249",
     "exception": false,
     "start_time": "2025-08-05T16:07:41.131590",
     "status": "completed"
    },
    "tags": []
   },
   "source": [
    "The following cell holds the definition of our parameters, these values can be overriden by rendering the with e.g. the following command:\n",
    "\n",
    "papermill -p alpha 0.2 -p ratio 0.3 universe_analysis.ipynb output/test_run.ipynb"
   ]
  },
  {
   "cell_type": "code",
   "execution_count": 2,
   "id": "a80968a0-40bb-4fa9-85ef-2d5eefb01975",
   "metadata": {
    "execution": {
     "iopub.execute_input": "2025-08-05T16:07:41.192928Z",
     "iopub.status.busy": "2025-08-05T16:07:41.192601Z",
     "iopub.status.idle": "2025-08-05T16:07:41.197614Z",
     "shell.execute_reply": "2025-08-05T16:07:41.196653Z"
    },
    "papermill": {
     "duration": 0.027808,
     "end_time": "2025-08-05T16:07:41.199443",
     "exception": false,
     "start_time": "2025-08-05T16:07:41.171635",
     "status": "completed"
    },
    "tags": []
   },
   "outputs": [
    {
     "name": "stdout",
     "output_type": "stream",
     "text": [
      "Current working directory: /dss/dsshome1/0C/ra93lal2/cma/CMA_Fairness_v2\n"
     ]
    }
   ],
   "source": [
    "import os\n",
    "print(\"Current working directory:\", os.getcwd())"
   ]
  },
  {
   "cell_type": "code",
   "execution_count": 3,
   "id": "2dce4c03",
   "metadata": {
    "execution": {
     "iopub.execute_input": "2025-08-05T16:07:41.241185Z",
     "iopub.status.busy": "2025-08-05T16:07:41.240304Z",
     "iopub.status.idle": "2025-08-05T16:07:41.247168Z",
     "shell.execute_reply": "2025-08-05T16:07:41.246161Z"
    },
    "papermill": {
     "duration": 0.029913,
     "end_time": "2025-08-05T16:07:41.249133",
     "exception": false,
     "start_time": "2025-08-05T16:07:41.219220",
     "status": "completed"
    },
    "tags": [
     "parameters"
    ]
   },
   "outputs": [],
   "source": [
    "run_no = 0\n",
    "universe_id = \"test\"\n",
    "universe = {\n",
    "    \"training_size\": \"25k\", # \"25k\", \"5k\", \"1k\"\n",
    "    \"training_year\": \"2014\", # \"2014\", \"2012_14\", \"2010_14\"\n",
    "    \"scale\": \"scale\", # \"scale\", \"do-not-scale\",\n",
    "    \"model\": \"elasticnet\", # \"logreg\", \"penalized_logreg\", \"rf\", \"gbm\", \"elasticnet\"\n",
    "    \"cutoff\": [\"quantile_0.15\", \"quantile_0.30\"],\n",
    "    \"exclude_features\": \"age\", # \"none\", \"nationality\", \"sex\", \"nationality-sex\", \"age\"\n",
    "    \"exclude_subgroups\": \"keep-all\", # \"keep-all\", \"drop-non-german\"\n",
    "    \"eval_fairness_grouping\": [\"majority-minority\", \"nationality-all\"]\n",
    "}\n",
    "\n",
    "output_dir=\"./output\"\n",
    "seed=0"
   ]
  },
  {
   "cell_type": "code",
   "execution_count": 4,
   "id": "76075dab",
   "metadata": {
    "execution": {
     "iopub.execute_input": "2025-08-05T16:07:41.292247Z",
     "iopub.status.busy": "2025-08-05T16:07:41.291760Z",
     "iopub.status.idle": "2025-08-05T16:07:41.297757Z",
     "shell.execute_reply": "2025-08-05T16:07:41.296421Z"
    },
    "papermill": {
     "duration": 0.029686,
     "end_time": "2025-08-05T16:07:41.299627",
     "exception": false,
     "start_time": "2025-08-05T16:07:41.269941",
     "status": "completed"
    },
    "tags": [
     "injected-parameters"
    ]
   },
   "outputs": [],
   "source": [
    "# Parameters\n",
    "universe_id = \"6e7f71e16937cd17e1355f7e53ad3592\"\n",
    "run_no = \"15\"\n",
    "universe = \"{\\\"cutoff\\\": [\\\"quantile_0.1\\\", \\\"quantile_0.25\\\"], \\\"eval_fairness_grouping\\\": [\\\"majority-minority\\\", \\\"nationality-all\\\"], \\\"exclude_features\\\": \\\"sex\\\", \\\"exclude_subgroups\\\": \\\"drop-non-german\\\", \\\"model\\\": \\\"elasticnet\\\", \\\"scale\\\": \\\"scale\\\", \\\"training_size\\\": \\\"1k\\\", \\\"training_year\\\": \\\"2014\\\"}\"\n",
    "output_dir = \"output\"\n",
    "seed = \"2023\"\n"
   ]
  },
  {
   "cell_type": "code",
   "execution_count": 5,
   "id": "1650acaf",
   "metadata": {
    "execution": {
     "iopub.execute_input": "2025-08-05T16:07:41.335586Z",
     "iopub.status.busy": "2025-08-05T16:07:41.334740Z",
     "iopub.status.idle": "2025-08-05T16:07:41.340303Z",
     "shell.execute_reply": "2025-08-05T16:07:41.339239Z"
    },
    "papermill": {
     "duration": 0.02485,
     "end_time": "2025-08-05T16:07:41.342061",
     "exception": false,
     "start_time": "2025-08-05T16:07:41.317211",
     "status": "completed"
    },
    "tags": []
   },
   "outputs": [],
   "source": [
    "import json\n",
    "if isinstance(universe, str):\n",
    "    universe = json.loads(universe)"
   ]
  },
  {
   "cell_type": "code",
   "execution_count": 6,
   "id": "16620c48",
   "metadata": {
    "execution": {
     "iopub.execute_input": "2025-08-05T16:07:41.391093Z",
     "iopub.status.busy": "2025-08-05T16:07:41.390338Z",
     "iopub.status.idle": "2025-08-05T16:07:41.437161Z",
     "shell.execute_reply": "2025-08-05T16:07:41.436306Z"
    },
    "papermill": {
     "duration": 0.080087,
     "end_time": "2025-08-05T16:07:41.438999",
     "exception": false,
     "start_time": "2025-08-05T16:07:41.358912",
     "status": "completed"
    },
    "tags": []
   },
   "outputs": [],
   "source": [
    "# Auto-reload the custom package\n",
    "%load_ext autoreload\n",
    "%autoreload 1\n",
    "%aimport fairness_multiverse"
   ]
  },
  {
   "cell_type": "code",
   "execution_count": 7,
   "id": "01c5c9f3",
   "metadata": {
    "execution": {
     "iopub.execute_input": "2025-08-05T16:07:41.494390Z",
     "iopub.status.busy": "2025-08-05T16:07:41.493922Z",
     "iopub.status.idle": "2025-08-05T16:07:43.339060Z",
     "shell.execute_reply": "2025-08-05T16:07:43.338037Z"
    },
    "papermill": {
     "duration": 1.884394,
     "end_time": "2025-08-05T16:07:43.341072",
     "exception": false,
     "start_time": "2025-08-05T16:07:41.456678",
     "status": "completed"
    },
    "tags": []
   },
   "outputs": [],
   "source": [
    "from fairness_multiverse.universe import UniverseAnalysis\n",
    "\n",
    "universe_analysis = UniverseAnalysis(\n",
    "    run_no = run_no,\n",
    "    universe_id = universe_id,\n",
    "    universe = universe,\n",
    "    output_dir=output_dir,\n",
    ")"
   ]
  },
  {
   "cell_type": "code",
   "execution_count": 8,
   "id": "106241f5",
   "metadata": {
    "execution": {
     "iopub.execute_input": "2025-08-05T16:07:43.377790Z",
     "iopub.status.busy": "2025-08-05T16:07:43.377110Z",
     "iopub.status.idle": "2025-08-05T16:07:43.386213Z",
     "shell.execute_reply": "2025-08-05T16:07:43.385066Z"
    },
    "papermill": {
     "duration": 0.029035,
     "end_time": "2025-08-05T16:07:43.388253",
     "exception": false,
     "start_time": "2025-08-05T16:07:43.359218",
     "status": "completed"
    },
    "tags": []
   },
   "outputs": [
    {
     "name": "stdout",
     "output_type": "stream",
     "text": [
      "Using Seed: 2023\n"
     ]
    }
   ],
   "source": [
    "import numpy as np\n",
    "parsed_seed = int(seed)\n",
    "np.random.seed(parsed_seed)\n",
    "print(f\"Using Seed: {parsed_seed}\")"
   ]
  },
  {
   "cell_type": "markdown",
   "id": "e0ebdc57",
   "metadata": {
    "papermill": {
     "duration": 0.018903,
     "end_time": "2025-08-05T16:07:43.429059",
     "exception": false,
     "start_time": "2025-08-05T16:07:43.410156",
     "status": "completed"
    },
    "tags": []
   },
   "source": [
    "# Loading Data"
   ]
  },
  {
   "cell_type": "code",
   "execution_count": 9,
   "id": "f0496b8a",
   "metadata": {
    "execution": {
     "iopub.execute_input": "2025-08-05T16:07:43.469691Z",
     "iopub.status.busy": "2025-08-05T16:07:43.468996Z",
     "iopub.status.idle": "2025-08-05T16:07:56.230450Z",
     "shell.execute_reply": "2025-08-05T16:07:56.229002Z"
    },
    "papermill": {
     "duration": 12.784463,
     "end_time": "2025-08-05T16:07:56.232193",
     "exception": false,
     "start_time": "2025-08-05T16:07:43.447730",
     "status": "completed"
    },
    "tags": []
   },
   "outputs": [
    {
     "name": "stdout",
     "output_type": "stream",
     "text": [
      "Loading SIAB data from cache: data/siab_cached.csv.gz\n"
     ]
    },
    {
     "name": "stdout",
     "output_type": "stream",
     "text": [
      "(643690, 164)\n"
     ]
    }
   ],
   "source": [
    "from pathlib import Path\n",
    "import pandas as pd\n",
    "\n",
    "# File paths\n",
    "raw_file = Path(\"data/raw/siab.csv\")\n",
    "cache_file = Path(\"data/siab_cached.csv.gz\")\n",
    "\n",
    "# Ensure cache directory exists\n",
    "cache_file.parent.mkdir(parents=True, exist_ok=True)\n",
    "\n",
    "# Load with simple caching\n",
    "if cache_file.exists():\n",
    "    print(f\"Loading SIAB data from cache: {cache_file}\")\n",
    "    siab = pd.read_csv(cache_file, compression='gzip')\n",
    "else:\n",
    "    print(f\"Cache not found. Reading raw SIAB data: {raw_file}\")\n",
    "    siab = pd.read_csv(raw_file)\n",
    "    siab.to_csv(cache_file, index=False, compression='gzip')\n",
    "    print(f\"Cached SIAB data to: {cache_file}\")\n",
    "\n",
    "print(siab.shape)"
   ]
  },
  {
   "cell_type": "code",
   "execution_count": 10,
   "id": "db0ca512-5f53-4dba-abdb-a2888bca41ba",
   "metadata": {
    "execution": {
     "iopub.execute_input": "2025-08-05T16:07:56.274098Z",
     "iopub.status.busy": "2025-08-05T16:07:56.273506Z",
     "iopub.status.idle": "2025-08-05T16:07:56.279270Z",
     "shell.execute_reply": "2025-08-05T16:07:56.278213Z"
    },
    "papermill": {
     "duration": 0.027716,
     "end_time": "2025-08-05T16:07:56.281352",
     "exception": false,
     "start_time": "2025-08-05T16:07:56.253636",
     "status": "completed"
    },
    "tags": []
   },
   "outputs": [],
   "source": [
    "#siab"
   ]
  },
  {
   "cell_type": "markdown",
   "id": "997051c5-15bd-4b69-9786-c3001a3ce484",
   "metadata": {
    "papermill": {
     "duration": 0.019936,
     "end_time": "2025-08-05T16:07:56.321787",
     "exception": false,
     "start_time": "2025-08-05T16:07:56.301851",
     "status": "completed"
    },
    "tags": []
   },
   "source": [
    "# Splitting Data and Setting Training Data Size"
   ]
  },
  {
   "cell_type": "code",
   "execution_count": 11,
   "id": "aea9c6ef-6f46-42c8-85eb-5a62025c1508",
   "metadata": {
    "execution": {
     "iopub.execute_input": "2025-08-05T16:07:56.363128Z",
     "iopub.status.busy": "2025-08-05T16:07:56.362510Z",
     "iopub.status.idle": "2025-08-05T16:07:56.649653Z",
     "shell.execute_reply": "2025-08-05T16:07:56.648575Z"
    },
    "papermill": {
     "duration": 0.31084,
     "end_time": "2025-08-05T16:07:56.651945",
     "exception": false,
     "start_time": "2025-08-05T16:07:56.341105",
     "status": "completed"
    },
    "tags": []
   },
   "outputs": [],
   "source": [
    "from fairness_multiverse.universe import sample_by_year_size\n",
    "\n",
    "siab_train = sample_by_year_size(siab,\n",
    "                               training_year=universe[\"training_year\"],\n",
    "                               training_size=universe[\"training_size\"])"
   ]
  },
  {
   "cell_type": "code",
   "execution_count": 12,
   "id": "8d3afb32-789d-442c-8d5d-9f5aa8dd2eed",
   "metadata": {
    "execution": {
     "iopub.execute_input": "2025-08-05T16:07:56.688171Z",
     "iopub.status.busy": "2025-08-05T16:07:56.687497Z",
     "iopub.status.idle": "2025-08-05T16:07:56.692387Z",
     "shell.execute_reply": "2025-08-05T16:07:56.691646Z"
    },
    "papermill": {
     "duration": 0.019724,
     "end_time": "2025-08-05T16:07:56.694018",
     "exception": false,
     "start_time": "2025-08-05T16:07:56.674294",
     "status": "completed"
    },
    "tags": []
   },
   "outputs": [],
   "source": [
    "#siab_train.shape"
   ]
  },
  {
   "cell_type": "code",
   "execution_count": 13,
   "id": "d582db68-1a4c-47fb-84fc-08518dc1975a",
   "metadata": {
    "execution": {
     "iopub.execute_input": "2025-08-05T16:07:56.715001Z",
     "iopub.status.busy": "2025-08-05T16:07:56.714465Z",
     "iopub.status.idle": "2025-08-05T16:07:56.718934Z",
     "shell.execute_reply": "2025-08-05T16:07:56.718112Z"
    },
    "papermill": {
     "duration": 0.015822,
     "end_time": "2025-08-05T16:07:56.720504",
     "exception": false,
     "start_time": "2025-08-05T16:07:56.704682",
     "status": "completed"
    },
    "tags": []
   },
   "outputs": [],
   "source": [
    "#display(siab_train.groupby(\"year\").size())"
   ]
  },
  {
   "cell_type": "code",
   "execution_count": 14,
   "id": "a561edb4-d032-42cb-8256-22eac1111c64",
   "metadata": {
    "execution": {
     "iopub.execute_input": "2025-08-05T16:07:56.756063Z",
     "iopub.status.busy": "2025-08-05T16:07:56.755559Z",
     "iopub.status.idle": "2025-08-05T16:07:57.006314Z",
     "shell.execute_reply": "2025-08-05T16:07:57.005262Z"
    },
    "papermill": {
     "duration": 0.273944,
     "end_time": "2025-08-05T16:07:57.008408",
     "exception": false,
     "start_time": "2025-08-05T16:07:56.734464",
     "status": "completed"
    },
    "tags": []
   },
   "outputs": [],
   "source": [
    "#siab_train = siab_s[siab_s.year < 2015]\n",
    "siab_calib = siab[siab.year == 2015]\n",
    "siab_test = siab[siab.year == 2016]"
   ]
  },
  {
   "cell_type": "code",
   "execution_count": 15,
   "id": "472de16f-c3db-4916-846b-1f0de9cf1746",
   "metadata": {
    "execution": {
     "iopub.execute_input": "2025-08-05T16:07:57.049817Z",
     "iopub.status.busy": "2025-08-05T16:07:57.049031Z",
     "iopub.status.idle": "2025-08-05T16:07:57.056347Z",
     "shell.execute_reply": "2025-08-05T16:07:57.055131Z"
    },
    "papermill": {
     "duration": 0.029514,
     "end_time": "2025-08-05T16:07:57.058571",
     "exception": false,
     "start_time": "2025-08-05T16:07:57.029057",
     "status": "completed"
    },
    "tags": []
   },
   "outputs": [],
   "source": [
    "X_train = siab_train.iloc[:,4:164]\n",
    "y_train = siab_train.iloc[:, [3]]"
   ]
  },
  {
   "cell_type": "code",
   "execution_count": 16,
   "id": "828c96af-f43a-4ed6-ba47-8ac73a47d56c",
   "metadata": {
    "execution": {
     "iopub.execute_input": "2025-08-05T16:07:57.101499Z",
     "iopub.status.busy": "2025-08-05T16:07:57.100652Z",
     "iopub.status.idle": "2025-08-05T16:07:57.153279Z",
     "shell.execute_reply": "2025-08-05T16:07:57.152165Z"
    },
    "papermill": {
     "duration": 0.07643,
     "end_time": "2025-08-05T16:07:57.155961",
     "exception": false,
     "start_time": "2025-08-05T16:07:57.079531",
     "status": "completed"
    },
    "tags": []
   },
   "outputs": [],
   "source": [
    "X_calib = siab_calib.iloc[:,4:164]\n",
    "y_calib = siab_calib.iloc[:, [3]]"
   ]
  },
  {
   "cell_type": "code",
   "execution_count": 17,
   "id": "c34be9c3-6bd6-476e-acd3-845840e303be",
   "metadata": {
    "execution": {
     "iopub.execute_input": "2025-08-05T16:07:57.199118Z",
     "iopub.status.busy": "2025-08-05T16:07:57.198157Z",
     "iopub.status.idle": "2025-08-05T16:07:57.260649Z",
     "shell.execute_reply": "2025-08-05T16:07:57.259435Z"
    },
    "papermill": {
     "duration": 0.085382,
     "end_time": "2025-08-05T16:07:57.262755",
     "exception": false,
     "start_time": "2025-08-05T16:07:57.177373",
     "status": "completed"
    },
    "tags": []
   },
   "outputs": [],
   "source": [
    "X_test = siab_test.iloc[:,4:164]\n",
    "y_true = siab_test.iloc[:, [3]]"
   ]
  },
  {
   "cell_type": "code",
   "execution_count": 18,
   "id": "e6c733c5",
   "metadata": {
    "execution": {
     "iopub.execute_input": "2025-08-05T16:07:57.307625Z",
     "iopub.status.busy": "2025-08-05T16:07:57.306629Z",
     "iopub.status.idle": "2025-08-05T16:07:57.407954Z",
     "shell.execute_reply": "2025-08-05T16:07:57.406962Z"
    },
    "papermill": {
     "duration": 0.125448,
     "end_time": "2025-08-05T16:07:57.410132",
     "exception": false,
     "start_time": "2025-08-05T16:07:57.284684",
     "status": "completed"
    },
    "tags": []
   },
   "outputs": [],
   "source": [
    "# Auxiliary data needed downstream in the pipeline\n",
    "\n",
    "org_train = X_train.copy()\n",
    "org_test = X_test.copy()\n",
    "org_calib = X_calib.copy()"
   ]
  },
  {
   "cell_type": "markdown",
   "id": "0a4a1b33",
   "metadata": {
    "papermill": {
     "duration": 0.020723,
     "end_time": "2025-08-05T16:07:57.452015",
     "exception": false,
     "start_time": "2025-08-05T16:07:57.431292",
     "status": "completed"
    },
    "tags": []
   },
   "source": [
    "# Preprocessing Data"
   ]
  },
  {
   "cell_type": "code",
   "execution_count": 19,
   "id": "ca879031",
   "metadata": {
    "execution": {
     "iopub.execute_input": "2025-08-05T16:07:57.493829Z",
     "iopub.status.busy": "2025-08-05T16:07:57.493360Z",
     "iopub.status.idle": "2025-08-05T16:07:57.499999Z",
     "shell.execute_reply": "2025-08-05T16:07:57.498644Z"
    },
    "papermill": {
     "duration": 0.030297,
     "end_time": "2025-08-05T16:07:57.502402",
     "exception": false,
     "start_time": "2025-08-05T16:07:57.472105",
     "status": "completed"
    },
    "tags": []
   },
   "outputs": [],
   "source": [
    "# EXCLUDE PROTECTED FEATURES\n",
    "# ----------------------\n",
    "# \"exclude_features\": \"none\", # \"nationality\", \"sex\", \"nationality-sex\"\n",
    "\n",
    "excluded_features = universe[\"exclude_features\"].split(\"-\") # split, e.g.: \"nationality-sex\" -> [\"nationality\", \"sex\"]\n",
    "excluded_features_dictionary = {\n",
    "    \"nationality\": [\"maxdeutsch1\", \"maxdeutsch.Missing.\"],\n",
    "    \"sex\": [\"frau1\"],\n",
    "    \"age\": [\"age\"],\n",
    "}"
   ]
  },
  {
   "cell_type": "code",
   "execution_count": 20,
   "id": "b745ac60",
   "metadata": {
    "execution": {
     "iopub.execute_input": "2025-08-05T16:07:57.547311Z",
     "iopub.status.busy": "2025-08-05T16:07:57.546578Z",
     "iopub.status.idle": "2025-08-05T16:07:57.552803Z",
     "shell.execute_reply": "2025-08-05T16:07:57.551701Z"
    },
    "papermill": {
     "duration": 0.030468,
     "end_time": "2025-08-05T16:07:57.554831",
     "exception": false,
     "start_time": "2025-08-05T16:07:57.524363",
     "status": "completed"
    },
    "tags": []
   },
   "outputs": [],
   "source": [
    "# Code nice names to column names\n",
    "\n",
    "excluded_features_columns = [\n",
    "    excluded_features_dictionary[f] for f in excluded_features if len(f) > 0 and f != \"none\"\n",
    "]"
   ]
  },
  {
   "cell_type": "code",
   "execution_count": 21,
   "id": "f84f73a2",
   "metadata": {
    "execution": {
     "iopub.execute_input": "2025-08-05T16:07:57.598201Z",
     "iopub.status.busy": "2025-08-05T16:07:57.597703Z",
     "iopub.status.idle": "2025-08-05T16:07:57.604162Z",
     "shell.execute_reply": "2025-08-05T16:07:57.603129Z"
    },
    "papermill": {
     "duration": 0.030004,
     "end_time": "2025-08-05T16:07:57.606306",
     "exception": false,
     "start_time": "2025-08-05T16:07:57.576302",
     "status": "completed"
    },
    "tags": []
   },
   "outputs": [],
   "source": [
    "from utils import flatten_once\n",
    "\n",
    "excluded_features_columns = flatten_once(excluded_features_columns)"
   ]
  },
  {
   "cell_type": "code",
   "execution_count": 22,
   "id": "884dea22",
   "metadata": {
    "execution": {
     "iopub.execute_input": "2025-08-05T16:07:57.638300Z",
     "iopub.status.busy": "2025-08-05T16:07:57.637900Z",
     "iopub.status.idle": "2025-08-05T16:07:57.646809Z",
     "shell.execute_reply": "2025-08-05T16:07:57.645990Z"
    },
    "papermill": {
     "duration": 0.021675,
     "end_time": "2025-08-05T16:07:57.648277",
     "exception": false,
     "start_time": "2025-08-05T16:07:57.626602",
     "status": "completed"
    },
    "tags": []
   },
   "outputs": [
    {
     "name": "stdout",
     "output_type": "stream",
     "text": [
      "Dropping features: ['frau1']\n"
     ]
    }
   ],
   "source": [
    "if len(excluded_features_columns) > 0:\n",
    "    print(f\"Dropping features: {excluded_features_columns}\")\n",
    "    X_train.drop(excluded_features_columns, axis=1, inplace=True)"
   ]
  },
  {
   "cell_type": "code",
   "execution_count": 23,
   "id": "95ab8b16",
   "metadata": {
    "execution": {
     "iopub.execute_input": "2025-08-05T16:07:57.690841Z",
     "iopub.status.busy": "2025-08-05T16:07:57.690316Z",
     "iopub.status.idle": "2025-08-05T16:07:57.812528Z",
     "shell.execute_reply": "2025-08-05T16:07:57.811389Z"
    },
    "papermill": {
     "duration": 0.144568,
     "end_time": "2025-08-05T16:07:57.814741",
     "exception": false,
     "start_time": "2025-08-05T16:07:57.670173",
     "status": "completed"
    },
    "tags": []
   },
   "outputs": [
    {
     "name": "stdout",
     "output_type": "stream",
     "text": [
      "Dropping features: ['frau1']\n"
     ]
    }
   ],
   "source": [
    "if len(excluded_features_columns) > 0:\n",
    "    print(f\"Dropping features: {excluded_features_columns}\")\n",
    "    X_test.drop(excluded_features_columns, axis=1, inplace=True)"
   ]
  },
  {
   "cell_type": "code",
   "execution_count": 24,
   "id": "1853aaf5-fb9f-46cb-a2b5-8ea4ae2237e4",
   "metadata": {
    "execution": {
     "iopub.execute_input": "2025-08-05T16:07:57.858991Z",
     "iopub.status.busy": "2025-08-05T16:07:57.857949Z",
     "iopub.status.idle": "2025-08-05T16:07:57.911944Z",
     "shell.execute_reply": "2025-08-05T16:07:57.910939Z"
    },
    "papermill": {
     "duration": 0.076232,
     "end_time": "2025-08-05T16:07:57.913885",
     "exception": false,
     "start_time": "2025-08-05T16:07:57.837653",
     "status": "completed"
    },
    "tags": []
   },
   "outputs": [
    {
     "name": "stdout",
     "output_type": "stream",
     "text": [
      "Dropping features: ['frau1']\n"
     ]
    }
   ],
   "source": [
    "if len(excluded_features_columns) > 0:\n",
    "    print(f\"Dropping features: {excluded_features_columns}\")\n",
    "    X_calib.drop(excluded_features_columns, axis=1, inplace=True)"
   ]
  },
  {
   "cell_type": "code",
   "execution_count": 25,
   "id": "76c4dc6d",
   "metadata": {
    "execution": {
     "iopub.execute_input": "2025-08-05T16:07:57.956022Z",
     "iopub.status.busy": "2025-08-05T16:07:57.955401Z",
     "iopub.status.idle": "2025-08-05T16:07:57.979116Z",
     "shell.execute_reply": "2025-08-05T16:07:57.978036Z"
    },
    "papermill": {
     "duration": 0.046718,
     "end_time": "2025-08-05T16:07:57.981115",
     "exception": false,
     "start_time": "2025-08-05T16:07:57.934397",
     "status": "completed"
    },
    "tags": []
   },
   "outputs": [],
   "source": [
    "# EXCLUDE CERTAIN SUBGROUPS\n",
    "# ----------------------\n",
    "\n",
    "mode = universe.get(\"exclude_subgroups\", \"keep-all\") \n",
    "# Fetches the exclude_subgroups setting from the universe dict.\n",
    "# Defaults to \"keep-all\" if the key is missing."
   ]
  },
  {
   "cell_type": "code",
   "execution_count": 26,
   "id": "21994072",
   "metadata": {
    "execution": {
     "iopub.execute_input": "2025-08-05T16:07:58.024625Z",
     "iopub.status.busy": "2025-08-05T16:07:58.023955Z",
     "iopub.status.idle": "2025-08-05T16:07:58.031305Z",
     "shell.execute_reply": "2025-08-05T16:07:58.030257Z"
    },
    "papermill": {
     "duration": 0.031156,
     "end_time": "2025-08-05T16:07:58.033218",
     "exception": false,
     "start_time": "2025-08-05T16:07:58.002062",
     "status": "completed"
    },
    "tags": []
   },
   "outputs": [],
   "source": [
    "if mode == \"keep-all\":\n",
    "    keep_mask = pd.Series(True, index=org_train.index)\n",
    "\n",
    "# org_train contains the original feature columns from features_org (in Simson)\n",
    "# features_org contains unprocessed features, for me X_train at beginning ???\n",
    "# For keep-all, creates a boolean Series (keep_mask) of all True, so no rows are removed.\n",
    "\n",
    "elif mode == \"drop-non-german\":\n",
    "    keep_mask = org_train[\"maxdeutsch1\"] == 1 # ??? what about missing values?\n",
    "\n",
    "else:\n",
    "    raise ValueError(f\"Unsupported mode for exclude_subgroups: {mode}\")"
   ]
  },
  {
   "cell_type": "code",
   "execution_count": 27,
   "id": "71651440",
   "metadata": {
    "execution": {
     "iopub.execute_input": "2025-08-05T16:07:58.077135Z",
     "iopub.status.busy": "2025-08-05T16:07:58.076205Z",
     "iopub.status.idle": "2025-08-05T16:07:58.084453Z",
     "shell.execute_reply": "2025-08-05T16:07:58.083200Z"
    },
    "papermill": {
     "duration": 0.031778,
     "end_time": "2025-08-05T16:07:58.086508",
     "exception": false,
     "start_time": "2025-08-05T16:07:58.054730",
     "status": "completed"
    },
    "tags": []
   },
   "outputs": [
    {
     "name": "stdout",
     "output_type": "stream",
     "text": [
      "Dropping 147 rows (14.70%) where mode='drop-non-german'\n"
     ]
    }
   ],
   "source": [
    "n_drop = (~keep_mask).sum() # Calculates how many rows are set to be dropped\n",
    "if n_drop > 0:\n",
    "    pct = n_drop / len(keep_mask) * 100\n",
    "    print(f\"Dropping {n_drop} rows ({pct:.2f}%) where mode='{mode}'\")"
   ]
  },
  {
   "cell_type": "code",
   "execution_count": 28,
   "id": "5fb8eee5",
   "metadata": {
    "execution": {
     "iopub.execute_input": "2025-08-05T16:07:58.131501Z",
     "iopub.status.busy": "2025-08-05T16:07:58.130565Z",
     "iopub.status.idle": "2025-08-05T16:07:58.137425Z",
     "shell.execute_reply": "2025-08-05T16:07:58.136325Z"
    },
    "papermill": {
     "duration": 0.030196,
     "end_time": "2025-08-05T16:07:58.139358",
     "exception": false,
     "start_time": "2025-08-05T16:07:58.109162",
     "status": "completed"
    },
    "tags": []
   },
   "outputs": [],
   "source": [
    "X_train = X_train[keep_mask]"
   ]
  },
  {
   "cell_type": "code",
   "execution_count": 29,
   "id": "b202bb3a",
   "metadata": {
    "execution": {
     "iopub.execute_input": "2025-08-05T16:07:58.181464Z",
     "iopub.status.busy": "2025-08-05T16:07:58.180593Z",
     "iopub.status.idle": "2025-08-05T16:07:58.186974Z",
     "shell.execute_reply": "2025-08-05T16:07:58.185832Z"
    },
    "papermill": {
     "duration": 0.029025,
     "end_time": "2025-08-05T16:07:58.188906",
     "exception": false,
     "start_time": "2025-08-05T16:07:58.159881",
     "status": "completed"
    },
    "tags": []
   },
   "outputs": [],
   "source": [
    "y_train = y_train[keep_mask]"
   ]
  },
  {
   "cell_type": "markdown",
   "id": "493e2ac3",
   "metadata": {
    "papermill": {
     "duration": 0.02007,
     "end_time": "2025-08-05T16:07:58.230651",
     "exception": false,
     "start_time": "2025-08-05T16:07:58.210581",
     "status": "completed"
    },
    "tags": []
   },
   "source": [
    "# Model Training"
   ]
  },
  {
   "cell_type": "code",
   "execution_count": 30,
   "id": "679e1268",
   "metadata": {
    "execution": {
     "iopub.execute_input": "2025-08-05T16:07:58.273737Z",
     "iopub.status.busy": "2025-08-05T16:07:58.272871Z",
     "iopub.status.idle": "2025-08-05T16:07:58.389131Z",
     "shell.execute_reply": "2025-08-05T16:07:58.387998Z"
    },
    "papermill": {
     "duration": 0.140033,
     "end_time": "2025-08-05T16:07:58.391289",
     "exception": false,
     "start_time": "2025-08-05T16:07:58.251256",
     "status": "completed"
    },
    "tags": []
   },
   "outputs": [],
   "source": [
    "from sklearn.linear_model import LogisticRegression\n",
    "from sklearn.ensemble import GradientBoostingClassifier, RandomForestClassifier\n",
    "\n",
    "if (universe[\"model\"] == \"logreg\"):\n",
    "    model = LogisticRegression() #penalty=\"none\", solver=\"newton-cg\", max_iter=1) # include random_state=19 ?\n",
    "elif (universe[\"model\"] == \"penalized_logreg\"):\n",
    "    model = LogisticRegression(penalty=\"l2\", C=0.1) #, solver=\"newton-cg\", max_iter=1)\n",
    "elif (universe[\"model\"] == \"rf\"):\n",
    "    model = RandomForestClassifier() # n_estimators=100, n_jobs=-1\n",
    "elif (universe[\"model\"] == \"gbm\"):\n",
    "    model = GradientBoostingClassifier()\n",
    "elif (universe[\"model\"] == \"elasticnet\"):\n",
    "    model = LogisticRegression(penalty = 'elasticnet', solver = 'saga', l1_ratio = 0.5) # max_iter=5000\n",
    "else:\n",
    "    raise \"Unsupported universe.model\""
   ]
  },
  {
   "cell_type": "code",
   "execution_count": 31,
   "id": "0cc8f744",
   "metadata": {
    "execution": {
     "iopub.execute_input": "2025-08-05T16:07:58.434114Z",
     "iopub.status.busy": "2025-08-05T16:07:58.433194Z",
     "iopub.status.idle": "2025-08-05T16:07:58.440325Z",
     "shell.execute_reply": "2025-08-05T16:07:58.439251Z"
    },
    "papermill": {
     "duration": 0.030527,
     "end_time": "2025-08-05T16:07:58.442272",
     "exception": false,
     "start_time": "2025-08-05T16:07:58.411745",
     "status": "completed"
    },
    "tags": []
   },
   "outputs": [],
   "source": [
    "import numpy as np\n",
    "from sklearn.pipeline import Pipeline\n",
    "from sklearn.preprocessing import StandardScaler\n",
    "\n",
    "model = Pipeline([\n",
    "    #(\"continuous_processor\", continuous_processor),\n",
    "    #(\"categorical_preprocessor\", categorical_preprocessor),\n",
    "    (\"scale\", StandardScaler() if universe[\"scale\"] == \"scale\" else None), \n",
    "    (\"model\", model),\n",
    "])"
   ]
  },
  {
   "cell_type": "code",
   "execution_count": 32,
   "id": "9442c04d",
   "metadata": {
    "execution": {
     "iopub.execute_input": "2025-08-05T16:07:58.489903Z",
     "iopub.status.busy": "2025-08-05T16:07:58.489186Z",
     "iopub.status.idle": "2025-08-05T16:07:58.791296Z",
     "shell.execute_reply": "2025-08-05T16:07:58.790603Z"
    },
    "papermill": {
     "duration": 0.328234,
     "end_time": "2025-08-05T16:07:58.792927",
     "exception": false,
     "start_time": "2025-08-05T16:07:58.464693",
     "status": "completed"
    },
    "tags": []
   },
   "outputs": [
    {
     "name": "stderr",
     "output_type": "stream",
     "text": [
      "/dss/dsshome1/0C/ra93lal2/.local/share/virtualenvs/CMA_Fairness_v2-3j10GkSs/lib/python3.10/site-packages/sklearn/linear_model/_sag.py:350: ConvergenceWarning: The max_iter was reached which means the coef_ did not converge\n",
      "  warnings.warn(\n"
     ]
    },
    {
     "data": {
      "text/html": [
       "<style>#sk-container-id-1 {color: black;background-color: white;}#sk-container-id-1 pre{padding: 0;}#sk-container-id-1 div.sk-toggleable {background-color: white;}#sk-container-id-1 label.sk-toggleable__label {cursor: pointer;display: block;width: 100%;margin-bottom: 0;padding: 0.3em;box-sizing: border-box;text-align: center;}#sk-container-id-1 label.sk-toggleable__label-arrow:before {content: \"▸\";float: left;margin-right: 0.25em;color: #696969;}#sk-container-id-1 label.sk-toggleable__label-arrow:hover:before {color: black;}#sk-container-id-1 div.sk-estimator:hover label.sk-toggleable__label-arrow:before {color: black;}#sk-container-id-1 div.sk-toggleable__content {max-height: 0;max-width: 0;overflow: hidden;text-align: left;background-color: #f0f8ff;}#sk-container-id-1 div.sk-toggleable__content pre {margin: 0.2em;color: black;border-radius: 0.25em;background-color: #f0f8ff;}#sk-container-id-1 input.sk-toggleable__control:checked~div.sk-toggleable__content {max-height: 200px;max-width: 100%;overflow: auto;}#sk-container-id-1 input.sk-toggleable__control:checked~label.sk-toggleable__label-arrow:before {content: \"▾\";}#sk-container-id-1 div.sk-estimator input.sk-toggleable__control:checked~label.sk-toggleable__label {background-color: #d4ebff;}#sk-container-id-1 div.sk-label input.sk-toggleable__control:checked~label.sk-toggleable__label {background-color: #d4ebff;}#sk-container-id-1 input.sk-hidden--visually {border: 0;clip: rect(1px 1px 1px 1px);clip: rect(1px, 1px, 1px, 1px);height: 1px;margin: -1px;overflow: hidden;padding: 0;position: absolute;width: 1px;}#sk-container-id-1 div.sk-estimator {font-family: monospace;background-color: #f0f8ff;border: 1px dotted black;border-radius: 0.25em;box-sizing: border-box;margin-bottom: 0.5em;}#sk-container-id-1 div.sk-estimator:hover {background-color: #d4ebff;}#sk-container-id-1 div.sk-parallel-item::after {content: \"\";width: 100%;border-bottom: 1px solid gray;flex-grow: 1;}#sk-container-id-1 div.sk-label:hover label.sk-toggleable__label {background-color: #d4ebff;}#sk-container-id-1 div.sk-serial::before {content: \"\";position: absolute;border-left: 1px solid gray;box-sizing: border-box;top: 0;bottom: 0;left: 50%;z-index: 0;}#sk-container-id-1 div.sk-serial {display: flex;flex-direction: column;align-items: center;background-color: white;padding-right: 0.2em;padding-left: 0.2em;position: relative;}#sk-container-id-1 div.sk-item {position: relative;z-index: 1;}#sk-container-id-1 div.sk-parallel {display: flex;align-items: stretch;justify-content: center;background-color: white;position: relative;}#sk-container-id-1 div.sk-item::before, #sk-container-id-1 div.sk-parallel-item::before {content: \"\";position: absolute;border-left: 1px solid gray;box-sizing: border-box;top: 0;bottom: 0;left: 50%;z-index: -1;}#sk-container-id-1 div.sk-parallel-item {display: flex;flex-direction: column;z-index: 1;position: relative;background-color: white;}#sk-container-id-1 div.sk-parallel-item:first-child::after {align-self: flex-end;width: 50%;}#sk-container-id-1 div.sk-parallel-item:last-child::after {align-self: flex-start;width: 50%;}#sk-container-id-1 div.sk-parallel-item:only-child::after {width: 0;}#sk-container-id-1 div.sk-dashed-wrapped {border: 1px dashed gray;margin: 0 0.4em 0.5em 0.4em;box-sizing: border-box;padding-bottom: 0.4em;background-color: white;}#sk-container-id-1 div.sk-label label {font-family: monospace;font-weight: bold;display: inline-block;line-height: 1.2em;}#sk-container-id-1 div.sk-label-container {text-align: center;}#sk-container-id-1 div.sk-container {/* jupyter's `normalize.less` sets `[hidden] { display: none; }` but bootstrap.min.css set `[hidden] { display: none !important; }` so we also need the `!important` here to be able to override the default hidden behavior on the sphinx rendered scikit-learn.org. See: https://github.com/scikit-learn/scikit-learn/issues/21755 */display: inline-block !important;position: relative;}#sk-container-id-1 div.sk-text-repr-fallback {display: none;}</style><div id=\"sk-container-id-1\" class=\"sk-top-container\"><div class=\"sk-text-repr-fallback\"><pre>Pipeline(steps=[(&#x27;scale&#x27;, StandardScaler()),\n",
       "                (&#x27;model&#x27;,\n",
       "                 LogisticRegression(l1_ratio=0.5, penalty=&#x27;elasticnet&#x27;,\n",
       "                                    solver=&#x27;saga&#x27;))])</pre><b>In a Jupyter environment, please rerun this cell to show the HTML representation or trust the notebook. <br />On GitHub, the HTML representation is unable to render, please try loading this page with nbviewer.org.</b></div><div class=\"sk-container\" hidden><div class=\"sk-item sk-dashed-wrapped\"><div class=\"sk-label-container\"><div class=\"sk-label sk-toggleable\"><input class=\"sk-toggleable__control sk-hidden--visually\" id=\"sk-estimator-id-1\" type=\"checkbox\" ><label for=\"sk-estimator-id-1\" class=\"sk-toggleable__label sk-toggleable__label-arrow\">Pipeline</label><div class=\"sk-toggleable__content\"><pre>Pipeline(steps=[(&#x27;scale&#x27;, StandardScaler()),\n",
       "                (&#x27;model&#x27;,\n",
       "                 LogisticRegression(l1_ratio=0.5, penalty=&#x27;elasticnet&#x27;,\n",
       "                                    solver=&#x27;saga&#x27;))])</pre></div></div></div><div class=\"sk-serial\"><div class=\"sk-item\"><div class=\"sk-estimator sk-toggleable\"><input class=\"sk-toggleable__control sk-hidden--visually\" id=\"sk-estimator-id-2\" type=\"checkbox\" ><label for=\"sk-estimator-id-2\" class=\"sk-toggleable__label sk-toggleable__label-arrow\">StandardScaler</label><div class=\"sk-toggleable__content\"><pre>StandardScaler()</pre></div></div></div><div class=\"sk-item\"><div class=\"sk-estimator sk-toggleable\"><input class=\"sk-toggleable__control sk-hidden--visually\" id=\"sk-estimator-id-3\" type=\"checkbox\" ><label for=\"sk-estimator-id-3\" class=\"sk-toggleable__label sk-toggleable__label-arrow\">LogisticRegression</label><div class=\"sk-toggleable__content\"><pre>LogisticRegression(l1_ratio=0.5, penalty=&#x27;elasticnet&#x27;, solver=&#x27;saga&#x27;)</pre></div></div></div></div></div></div></div>"
      ],
      "text/plain": [
       "Pipeline(steps=[('scale', StandardScaler()),\n",
       "                ('model',\n",
       "                 LogisticRegression(l1_ratio=0.5, penalty='elasticnet',\n",
       "                                    solver='saga'))])"
      ]
     },
     "execution_count": 32,
     "metadata": {},
     "output_type": "execute_result"
    }
   ],
   "source": [
    "model.fit(X_train, y_train.values.ravel())"
   ]
  },
  {
   "cell_type": "code",
   "execution_count": 33,
   "id": "af59f8c0",
   "metadata": {
    "execution": {
     "iopub.execute_input": "2025-08-05T16:07:58.845214Z",
     "iopub.status.busy": "2025-08-05T16:07:58.844359Z",
     "iopub.status.idle": "2025-08-05T16:07:58.849991Z",
     "shell.execute_reply": "2025-08-05T16:07:58.848899Z"
    },
    "papermill": {
     "duration": 0.026706,
     "end_time": "2025-08-05T16:07:58.852050",
     "exception": false,
     "start_time": "2025-08-05T16:07:58.825344",
     "status": "completed"
    },
    "tags": []
   },
   "outputs": [],
   "source": [
    "from fairness_multiverse.universe import predict_w_threshold"
   ]
  },
  {
   "cell_type": "code",
   "execution_count": 34,
   "id": "a7cf2e16",
   "metadata": {
    "execution": {
     "iopub.execute_input": "2025-08-05T16:07:58.892184Z",
     "iopub.status.busy": "2025-08-05T16:07:58.891761Z",
     "iopub.status.idle": "2025-08-05T16:07:59.083669Z",
     "shell.execute_reply": "2025-08-05T16:07:59.082951Z"
    },
    "papermill": {
     "duration": 0.210876,
     "end_time": "2025-08-05T16:07:59.084913",
     "exception": false,
     "start_time": "2025-08-05T16:07:58.874037",
     "status": "completed"
    },
    "tags": []
   },
   "outputs": [
    {
     "data": {
      "text/plain": [
       "0.8166425147698139"
      ]
     },
     "execution_count": 34,
     "metadata": {},
     "output_type": "execute_result"
    }
   ],
   "source": [
    "probs_test = model.predict_proba(X_test)\n",
    "\n",
    "'''\n",
    "Below code returns a boolean array (or binary 0/1 array depending on how it’s used) where each element \n",
    "is True if the probability of class 1 is greater than or equal to the threshold, and False otherwise.\n",
    "'''\n",
    "y_pred_default = predict_w_threshold(probs_test, 0.5)\n",
    "\n",
    "from sklearn.metrics import accuracy_score\n",
    "\n",
    "# Naive prediction\n",
    "accuracy_score(y_true = y_true, y_pred = y_pred_default)"
   ]
  },
  {
   "cell_type": "code",
   "execution_count": 35,
   "id": "081964c3",
   "metadata": {
    "execution": {
     "iopub.execute_input": "2025-08-05T16:07:59.109416Z",
     "iopub.status.busy": "2025-08-05T16:07:59.109057Z",
     "iopub.status.idle": "2025-08-05T16:07:59.277006Z",
     "shell.execute_reply": "2025-08-05T16:07:59.276128Z"
    },
    "papermill": {
     "duration": 0.181716,
     "end_time": "2025-08-05T16:07:59.278428",
     "exception": false,
     "start_time": "2025-08-05T16:07:59.096712",
     "status": "completed"
    },
    "tags": []
   },
   "outputs": [
    {
     "data": {
      "text/plain": [
       "array([0, 0, 0, ..., 0, 0, 0])"
      ]
     },
     "execution_count": 35,
     "metadata": {},
     "output_type": "execute_result"
    }
   ],
   "source": [
    "model.predict(X_test)"
   ]
  },
  {
   "cell_type": "markdown",
   "id": "56c9705b",
   "metadata": {
    "papermill": {
     "duration": 0.011005,
     "end_time": "2025-08-05T16:07:59.300417",
     "exception": false,
     "start_time": "2025-08-05T16:07:59.289412",
     "status": "completed"
    },
    "tags": []
   },
   "source": [
    "# Conformal Prediction"
   ]
  },
  {
   "cell_type": "code",
   "execution_count": 36,
   "id": "160ec6ff",
   "metadata": {
    "execution": {
     "iopub.execute_input": "2025-08-05T16:07:59.323463Z",
     "iopub.status.busy": "2025-08-05T16:07:59.322685Z",
     "iopub.status.idle": "2025-08-05T16:07:59.327579Z",
     "shell.execute_reply": "2025-08-05T16:07:59.326815Z"
    },
    "papermill": {
     "duration": 0.018085,
     "end_time": "2025-08-05T16:07:59.329195",
     "exception": false,
     "start_time": "2025-08-05T16:07:59.311110",
     "status": "completed"
    },
    "tags": []
   },
   "outputs": [],
   "source": [
    "# Miscoverage level for conformal prediction (10% allowed error rate => 90% target coverage)\n",
    "alpha = 0.1"
   ]
  },
  {
   "cell_type": "code",
   "execution_count": 37,
   "id": "eadf4555-3dd3-440e-8e35-f82a4ad9f855",
   "metadata": {
    "execution": {
     "iopub.execute_input": "2025-08-05T16:07:59.371957Z",
     "iopub.status.busy": "2025-08-05T16:07:59.371512Z",
     "iopub.status.idle": "2025-08-05T16:07:59.539580Z",
     "shell.execute_reply": "2025-08-05T16:07:59.538789Z"
    },
    "papermill": {
     "duration": 0.191869,
     "end_time": "2025-08-05T16:07:59.541139",
     "exception": false,
     "start_time": "2025-08-05T16:07:59.349270",
     "status": "completed"
    },
    "tags": []
   },
   "outputs": [],
   "source": [
    "probs_calib = model.predict_proba(X_calib)"
   ]
  },
  {
   "cell_type": "code",
   "execution_count": 38,
   "id": "2ed93547-6d5d-4983-9b36-1ecb300da49a",
   "metadata": {
    "execution": {
     "iopub.execute_input": "2025-08-05T16:07:59.564556Z",
     "iopub.status.busy": "2025-08-05T16:07:59.564198Z",
     "iopub.status.idle": "2025-08-05T16:07:59.569636Z",
     "shell.execute_reply": "2025-08-05T16:07:59.568710Z"
    },
    "papermill": {
     "duration": 0.018806,
     "end_time": "2025-08-05T16:07:59.571349",
     "exception": false,
     "start_time": "2025-08-05T16:07:59.552543",
     "status": "completed"
    },
    "tags": []
   },
   "outputs": [],
   "source": [
    "y_calib = y_calib.values.ravel().astype(int)"
   ]
  },
  {
   "cell_type": "code",
   "execution_count": 39,
   "id": "65d1320d-f588-4b38-9072-62af1ae97f7d",
   "metadata": {
    "execution": {
     "iopub.execute_input": "2025-08-05T16:07:59.595441Z",
     "iopub.status.busy": "2025-08-05T16:07:59.594902Z",
     "iopub.status.idle": "2025-08-05T16:07:59.601136Z",
     "shell.execute_reply": "2025-08-05T16:07:59.600290Z"
    },
    "papermill": {
     "duration": 0.019341,
     "end_time": "2025-08-05T16:07:59.602780",
     "exception": false,
     "start_time": "2025-08-05T16:07:59.583439",
     "status": "completed"
    },
    "tags": []
   },
   "outputs": [],
   "source": [
    "from fairness_multiverse.conformal import compute_nc_scores\n",
    "\n",
    "# Compute nonconformity scores on calibration set (1 - probability of true class)\n",
    "nc_scores = compute_nc_scores(probs_calib, y_calib)"
   ]
  },
  {
   "cell_type": "code",
   "execution_count": 40,
   "id": "df3b8ca3-53b7-43d5-9667-7c85da7aeda2",
   "metadata": {
    "execution": {
     "iopub.execute_input": "2025-08-05T16:07:59.625310Z",
     "iopub.status.busy": "2025-08-05T16:07:59.624993Z",
     "iopub.status.idle": "2025-08-05T16:07:59.630633Z",
     "shell.execute_reply": "2025-08-05T16:07:59.629796Z"
    },
    "papermill": {
     "duration": 0.018281,
     "end_time": "2025-08-05T16:07:59.632172",
     "exception": false,
     "start_time": "2025-08-05T16:07:59.613891",
     "status": "completed"
    },
    "tags": []
   },
   "outputs": [],
   "source": [
    "from fairness_multiverse.conformal import find_threshold\n",
    "\n",
    "# Find conformal threshold q_hat for the given alpha (split conformal method)\n",
    "q_hat = find_threshold(nc_scores, alpha)"
   ]
  },
  {
   "cell_type": "code",
   "execution_count": 41,
   "id": "4d29e6c1-0ef6-4aa4-b8fe-4fe79b0d033a",
   "metadata": {
    "execution": {
     "iopub.execute_input": "2025-08-05T16:07:59.654966Z",
     "iopub.status.busy": "2025-08-05T16:07:59.654641Z",
     "iopub.status.idle": "2025-08-05T16:07:59.661150Z",
     "shell.execute_reply": "2025-08-05T16:07:59.660406Z"
    },
    "papermill": {
     "duration": 0.018947,
     "end_time": "2025-08-05T16:07:59.662557",
     "exception": false,
     "start_time": "2025-08-05T16:07:59.643610",
     "status": "completed"
    },
    "tags": []
   },
   "outputs": [
    {
     "data": {
      "text/plain": [
       "0.800979663300984"
      ]
     },
     "execution_count": 41,
     "metadata": {},
     "output_type": "execute_result"
    }
   ],
   "source": [
    "q_hat"
   ]
  },
  {
   "cell_type": "code",
   "execution_count": 42,
   "id": "92460794-cdac-4be2-ba28-f28c0515a6fb",
   "metadata": {
    "execution": {
     "iopub.execute_input": "2025-08-05T16:07:59.685964Z",
     "iopub.status.busy": "2025-08-05T16:07:59.685307Z",
     "iopub.status.idle": "2025-08-05T16:08:00.408130Z",
     "shell.execute_reply": "2025-08-05T16:08:00.407402Z"
    },
    "papermill": {
     "duration": 0.735561,
     "end_time": "2025-08-05T16:08:00.409649",
     "exception": false,
     "start_time": "2025-08-05T16:07:59.674088",
     "status": "completed"
    },
    "tags": []
   },
   "outputs": [],
   "source": [
    "from fairness_multiverse.conformal import predict_conformal_sets\n",
    "\n",
    "# Generate prediction sets for each test example\n",
    "pred_sets = predict_conformal_sets(model, X_test, q_hat)"
   ]
  },
  {
   "cell_type": "code",
   "execution_count": 43,
   "id": "d90c9a65-e6db-4f5d-80cd-e68fb7e46829",
   "metadata": {
    "execution": {
     "iopub.execute_input": "2025-08-05T16:08:00.449026Z",
     "iopub.status.busy": "2025-08-05T16:08:00.448569Z",
     "iopub.status.idle": "2025-08-05T16:08:00.454465Z",
     "shell.execute_reply": "2025-08-05T16:08:00.453296Z"
    },
    "papermill": {
     "duration": 0.031781,
     "end_time": "2025-08-05T16:08:00.456351",
     "exception": false,
     "start_time": "2025-08-05T16:08:00.424570",
     "status": "completed"
    },
    "tags": []
   },
   "outputs": [],
   "source": [
    "y_true = y_true.squeeze()"
   ]
  },
  {
   "cell_type": "code",
   "execution_count": 44,
   "id": "3a58a54a-1e68-46b9-927a-df01f18aebc8",
   "metadata": {
    "execution": {
     "iopub.execute_input": "2025-08-05T16:08:00.510510Z",
     "iopub.status.busy": "2025-08-05T16:08:00.509923Z",
     "iopub.status.idle": "2025-08-05T16:08:01.387960Z",
     "shell.execute_reply": "2025-08-05T16:08:01.387219Z"
    },
    "papermill": {
     "duration": 0.907064,
     "end_time": "2025-08-05T16:08:01.390102",
     "exception": false,
     "start_time": "2025-08-05T16:08:00.483038",
     "status": "completed"
    },
    "tags": []
   },
   "outputs": [],
   "source": [
    "from fairness_multiverse.conformal import evaluate_sets\n",
    "\n",
    "# Evaluate coverage and average set size on test data\n",
    "metrics = evaluate_sets(pred_sets, y_true)"
   ]
  },
  {
   "cell_type": "markdown",
   "id": "2b569c12-9aaa-4c88-98c9-bbcd0cf3ebb8",
   "metadata": {
    "papermill": {
     "duration": 0.020417,
     "end_time": "2025-08-05T16:08:01.435347",
     "exception": false,
     "start_time": "2025-08-05T16:08:01.414930",
     "status": "completed"
    },
    "tags": []
   },
   "source": [
    "# CP Metrics"
   ]
  },
  {
   "cell_type": "code",
   "execution_count": 45,
   "id": "5ce0a5cb-201f-45a0-ade5-94c7f0bd6095",
   "metadata": {
    "execution": {
     "iopub.execute_input": "2025-08-05T16:08:01.480479Z",
     "iopub.status.busy": "2025-08-05T16:08:01.479520Z",
     "iopub.status.idle": "2025-08-05T16:08:01.486528Z",
     "shell.execute_reply": "2025-08-05T16:08:01.485586Z"
    },
    "papermill": {
     "duration": 0.029645,
     "end_time": "2025-08-05T16:08:01.487767",
     "exception": false,
     "start_time": "2025-08-05T16:08:01.458122",
     "status": "completed"
    },
    "tags": []
   },
   "outputs": [
    {
     "data": {
      "text/plain": [
       "{'coverage': 0.9072455690558466, 'avg_size': 1.238758220934121}"
      ]
     },
     "execution_count": 45,
     "metadata": {},
     "output_type": "execute_result"
    }
   ],
   "source": [
    "metrics"
   ]
  },
  {
   "cell_type": "code",
   "execution_count": 46,
   "id": "9b9a838d-31c9-430b-ae14-12baee460d17",
   "metadata": {
    "execution": {
     "iopub.execute_input": "2025-08-05T16:08:01.518110Z",
     "iopub.status.busy": "2025-08-05T16:08:01.517721Z",
     "iopub.status.idle": "2025-08-05T16:08:01.522666Z",
     "shell.execute_reply": "2025-08-05T16:08:01.521751Z"
    },
    "papermill": {
     "duration": 0.020679,
     "end_time": "2025-08-05T16:08:01.524136",
     "exception": false,
     "start_time": "2025-08-05T16:08:01.503457",
     "status": "completed"
    },
    "tags": []
   },
   "outputs": [],
   "source": [
    "example_universe = universe.copy()\n",
    "universe_training_year = example_universe.get(\"training_year\")\n",
    "universe_training_size = example_universe.get(\"training_size\")\n",
    "universe_scale = example_universe.get(\"scale\")\n",
    "universe_model = example_universe.get(\"model\")\n",
    "universe_exclude_features = example_universe.get(\"exclude_features\")\n",
    "universe_exclude_subgroups = example_universe.get(\"exclude_subgroups\")"
   ]
  },
  {
   "cell_type": "code",
   "execution_count": 47,
   "id": "f4b6a8ac-9dc0-4245-8a91-5b3b5999c4f9",
   "metadata": {
    "execution": {
     "iopub.execute_input": "2025-08-05T16:08:01.548219Z",
     "iopub.status.busy": "2025-08-05T16:08:01.547729Z",
     "iopub.status.idle": "2025-08-05T16:08:01.553370Z",
     "shell.execute_reply": "2025-08-05T16:08:01.552602Z"
    },
    "papermill": {
     "duration": 0.019116,
     "end_time": "2025-08-05T16:08:01.555099",
     "exception": false,
     "start_time": "2025-08-05T16:08:01.535983",
     "status": "completed"
    },
    "tags": []
   },
   "outputs": [],
   "source": [
    "cp_metrics_dict = {\n",
    "    \"universe_id\": [universe_id],\n",
    "    \"universe_training_year\": [universe_training_year],\n",
    "    \"universe_training_size\": [universe_training_size],\n",
    "    \"universe_scale\": [universe_scale],\n",
    "    \"universe_model\": [universe_model],\n",
    "    \"universe_exclude_features\": [universe_exclude_features],\n",
    "    \"universe_exclude_subgroups\": [universe_exclude_subgroups],\n",
    "    \"q_hat\": [q_hat],\n",
    "    \"coverage\": [metrics[\"coverage\"]],\n",
    "    \"avg_size\": [metrics[\"avg_size\"]],\n",
    "}"
   ]
  },
  {
   "cell_type": "code",
   "execution_count": 48,
   "id": "908acbb1-0371-4915-85ca-3fa520d2efe2",
   "metadata": {
    "execution": {
     "iopub.execute_input": "2025-08-05T16:08:01.582733Z",
     "iopub.status.busy": "2025-08-05T16:08:01.582230Z",
     "iopub.status.idle": "2025-08-05T16:08:01.588708Z",
     "shell.execute_reply": "2025-08-05T16:08:01.587884Z"
    },
    "papermill": {
     "duration": 0.020838,
     "end_time": "2025-08-05T16:08:01.590217",
     "exception": false,
     "start_time": "2025-08-05T16:08:01.569379",
     "status": "completed"
    },
    "tags": []
   },
   "outputs": [
    {
     "data": {
      "text/plain": [
       "{'universe_id': ['6e7f71e16937cd17e1355f7e53ad3592'],\n",
       " 'universe_training_year': ['2014'],\n",
       " 'universe_training_size': ['1k'],\n",
       " 'universe_scale': ['scale'],\n",
       " 'universe_model': ['elasticnet'],\n",
       " 'universe_exclude_features': ['sex'],\n",
       " 'universe_exclude_subgroups': ['drop-non-german'],\n",
       " 'q_hat': [0.800979663300984],\n",
       " 'coverage': [0.9072455690558466],\n",
       " 'avg_size': [1.238758220934121]}"
      ]
     },
     "execution_count": 48,
     "metadata": {},
     "output_type": "execute_result"
    }
   ],
   "source": [
    "cp_metrics_dict"
   ]
  },
  {
   "cell_type": "code",
   "execution_count": 49,
   "id": "33007efc-14e9-4ec6-97ac-56a455c82265",
   "metadata": {
    "execution": {
     "iopub.execute_input": "2025-08-05T16:08:01.623341Z",
     "iopub.status.busy": "2025-08-05T16:08:01.622888Z",
     "iopub.status.idle": "2025-08-05T16:08:01.629272Z",
     "shell.execute_reply": "2025-08-05T16:08:01.628119Z"
    },
    "papermill": {
     "duration": 0.028972,
     "end_time": "2025-08-05T16:08:01.631071",
     "exception": false,
     "start_time": "2025-08-05T16:08:01.602099",
     "status": "completed"
    },
    "tags": []
   },
   "outputs": [],
   "source": [
    "cp_metrics_df = pd.DataFrame(cp_metrics_dict)"
   ]
  },
  {
   "cell_type": "code",
   "execution_count": 50,
   "id": "db12611b-57b2-4910-b9d0-355adfd6e7bf",
   "metadata": {
    "execution": {
     "iopub.execute_input": "2025-08-05T16:08:01.677790Z",
     "iopub.status.busy": "2025-08-05T16:08:01.677252Z",
     "iopub.status.idle": "2025-08-05T16:08:01.697522Z",
     "shell.execute_reply": "2025-08-05T16:08:01.696746Z"
    },
    "papermill": {
     "duration": 0.046754,
     "end_time": "2025-08-05T16:08:01.699104",
     "exception": false,
     "start_time": "2025-08-05T16:08:01.652350",
     "status": "completed"
    },
    "tags": []
   },
   "outputs": [
    {
     "data": {
      "text/html": [
       "<div>\n",
       "<style scoped>\n",
       "    .dataframe tbody tr th:only-of-type {\n",
       "        vertical-align: middle;\n",
       "    }\n",
       "\n",
       "    .dataframe tbody tr th {\n",
       "        vertical-align: top;\n",
       "    }\n",
       "\n",
       "    .dataframe thead th {\n",
       "        text-align: right;\n",
       "    }\n",
       "</style>\n",
       "<table border=\"1\" class=\"dataframe\">\n",
       "  <thead>\n",
       "    <tr style=\"text-align: right;\">\n",
       "      <th></th>\n",
       "      <th>universe_id</th>\n",
       "      <th>universe_training_year</th>\n",
       "      <th>universe_training_size</th>\n",
       "      <th>universe_scale</th>\n",
       "      <th>universe_model</th>\n",
       "      <th>universe_exclude_features</th>\n",
       "      <th>universe_exclude_subgroups</th>\n",
       "      <th>q_hat</th>\n",
       "      <th>coverage</th>\n",
       "      <th>avg_size</th>\n",
       "    </tr>\n",
       "  </thead>\n",
       "  <tbody>\n",
       "    <tr>\n",
       "      <th>0</th>\n",
       "      <td>6e7f71e16937cd17e1355f7e53ad3592</td>\n",
       "      <td>2014</td>\n",
       "      <td>1k</td>\n",
       "      <td>scale</td>\n",
       "      <td>elasticnet</td>\n",
       "      <td>sex</td>\n",
       "      <td>drop-non-german</td>\n",
       "      <td>0.80098</td>\n",
       "      <td>0.907246</td>\n",
       "      <td>1.238758</td>\n",
       "    </tr>\n",
       "  </tbody>\n",
       "</table>\n",
       "</div>"
      ],
      "text/plain": [
       "                        universe_id universe_training_year  \\\n",
       "0  6e7f71e16937cd17e1355f7e53ad3592                   2014   \n",
       "\n",
       "  universe_training_size universe_scale universe_model  \\\n",
       "0                     1k          scale     elasticnet   \n",
       "\n",
       "  universe_exclude_features universe_exclude_subgroups    q_hat  coverage  \\\n",
       "0                       sex            drop-non-german  0.80098  0.907246   \n",
       "\n",
       "   avg_size  \n",
       "0  1.238758  "
      ]
     },
     "execution_count": 50,
     "metadata": {},
     "output_type": "execute_result"
    }
   ],
   "source": [
    "cp_metrics_df"
   ]
  },
  {
   "cell_type": "code",
   "execution_count": 51,
   "id": "b7fbde55-a0a1-47e4-9af6-fe4a17fa8c61",
   "metadata": {
    "execution": {
     "iopub.execute_input": "2025-08-05T16:08:01.747141Z",
     "iopub.status.busy": "2025-08-05T16:08:01.746597Z",
     "iopub.status.idle": "2025-08-05T16:08:01.752485Z",
     "shell.execute_reply": "2025-08-05T16:08:01.751393Z"
    },
    "papermill": {
     "duration": 0.031584,
     "end_time": "2025-08-05T16:08:01.754308",
     "exception": false,
     "start_time": "2025-08-05T16:08:01.722724",
     "status": "completed"
    },
    "tags": []
   },
   "outputs": [],
   "source": [
    "# Conditional Coverage & looking at subgroups"
   ]
  },
  {
   "cell_type": "code",
   "execution_count": 52,
   "id": "027ae886-68dd-4141-96c7-805a5450e1ef",
   "metadata": {
    "execution": {
     "iopub.execute_input": "2025-08-05T16:08:01.803853Z",
     "iopub.status.busy": "2025-08-05T16:08:01.803357Z",
     "iopub.status.idle": "2025-08-05T16:08:02.055669Z",
     "shell.execute_reply": "2025-08-05T16:08:02.054768Z"
    },
    "papermill": {
     "duration": 0.27951,
     "end_time": "2025-08-05T16:08:02.057461",
     "exception": false,
     "start_time": "2025-08-05T16:08:01.777951",
     "status": "completed"
    },
    "tags": []
   },
   "outputs": [],
   "source": [
    "from fairness_multiverse.conformal import build_cp_groups\n",
    "\n",
    "cp_groups_df = build_cp_groups(pred_sets, y_true, X_test.index, org_test)\n",
    "#needs universe_id and setting"
   ]
  },
  {
   "cell_type": "code",
   "execution_count": 53,
   "id": "6cbdab96-b2b2-45af-ad54-d0516db2e28d",
   "metadata": {
    "execution": {
     "iopub.execute_input": "2025-08-05T16:08:02.100992Z",
     "iopub.status.busy": "2025-08-05T16:08:02.100517Z",
     "iopub.status.idle": "2025-08-05T16:08:04.032596Z",
     "shell.execute_reply": "2025-08-05T16:08:04.031709Z"
    },
    "papermill": {
     "duration": 1.955556,
     "end_time": "2025-08-05T16:08:04.034423",
     "exception": false,
     "start_time": "2025-08-05T16:08:02.078867",
     "status": "completed"
    },
    "tags": []
   },
   "outputs": [],
   "source": [
    "# Define covered = 1 if true_label is in the predicted set\n",
    "cp_groups_df['covered'] = cp_groups_df.apply(\n",
    "    lambda r: int(r['true_label'] in r['pred_set']),\n",
    "    axis=1\n",
    ")"
   ]
  },
  {
   "cell_type": "code",
   "execution_count": 54,
   "id": "338ff529-1a6b-4b87-a931-8e4788d52aad",
   "metadata": {
    "execution": {
     "iopub.execute_input": "2025-08-05T16:08:04.080937Z",
     "iopub.status.busy": "2025-08-05T16:08:04.080166Z",
     "iopub.status.idle": "2025-08-05T16:08:04.089555Z",
     "shell.execute_reply": "2025-08-05T16:08:04.084232Z"
    },
    "papermill": {
     "duration": 0.033428,
     "end_time": "2025-08-05T16:08:04.091323",
     "exception": false,
     "start_time": "2025-08-05T16:08:04.057895",
     "status": "completed"
    },
    "tags": []
   },
   "outputs": [],
   "source": [
    "#cp_groups_df"
   ]
  },
  {
   "cell_type": "code",
   "execution_count": 55,
   "id": "90032e27-66df-4540-9169-4e89cfbaa758",
   "metadata": {
    "execution": {
     "iopub.execute_input": "2025-08-05T16:08:04.135375Z",
     "iopub.status.busy": "2025-08-05T16:08:04.134505Z",
     "iopub.status.idle": "2025-08-05T16:08:04.146871Z",
     "shell.execute_reply": "2025-08-05T16:08:04.145498Z"
    },
    "papermill": {
     "duration": 0.035419,
     "end_time": "2025-08-05T16:08:04.148733",
     "exception": false,
     "start_time": "2025-08-05T16:08:04.113314",
     "status": "completed"
    },
    "tags": []
   },
   "outputs": [],
   "source": [
    "subgroups = ['frau1','nongerman','nongerman_male','nongerman_female']\n",
    "\n",
    "# Conditional coverage for subgroup==1\n",
    "cond_coverage = {\n",
    "    g: cp_groups_df.loc[cp_groups_df[g]==1, 'covered'].mean()\n",
    "    for g in subgroups\n",
    "}"
   ]
  },
  {
   "cell_type": "code",
   "execution_count": 56,
   "id": "1e348fb1-b9c3-45bc-ba23-f016827a7e0d",
   "metadata": {
    "execution": {
     "iopub.execute_input": "2025-08-05T16:08:04.193684Z",
     "iopub.status.busy": "2025-08-05T16:08:04.192799Z",
     "iopub.status.idle": "2025-08-05T16:08:04.200176Z",
     "shell.execute_reply": "2025-08-05T16:08:04.199228Z"
    },
    "papermill": {
     "duration": 0.030995,
     "end_time": "2025-08-05T16:08:04.201942",
     "exception": false,
     "start_time": "2025-08-05T16:08:04.170947",
     "status": "completed"
    },
    "tags": []
   },
   "outputs": [
    {
     "data": {
      "text/plain": [
       "{'frau1': 0.904003234937323,\n",
       " 'nongerman': 0.9056307191377084,\n",
       " 'nongerman_male': 0.9238944429433487,\n",
       " 'nongerman_female': 0.8754098360655738}"
      ]
     },
     "execution_count": 56,
     "metadata": {},
     "output_type": "execute_result"
    }
   ],
   "source": [
    "cond_coverage"
   ]
  },
  {
   "cell_type": "code",
   "execution_count": 57,
   "id": "f5093324-c3dd-4d63-bc4c-8d945e5c8bbb",
   "metadata": {
    "execution": {
     "iopub.execute_input": "2025-08-05T16:08:04.246080Z",
     "iopub.status.busy": "2025-08-05T16:08:04.245285Z",
     "iopub.status.idle": "2025-08-05T16:08:04.253274Z",
     "shell.execute_reply": "2025-08-05T16:08:04.252293Z"
    },
    "papermill": {
     "duration": 0.031832,
     "end_time": "2025-08-05T16:08:04.255059",
     "exception": false,
     "start_time": "2025-08-05T16:08:04.223227",
     "status": "completed"
    },
    "tags": []
   },
   "outputs": [],
   "source": [
    "for subgroup, cov in cond_coverage.items():\n",
    "    cp_metrics_df[f\"cov_{subgroup}\"] = cov"
   ]
  },
  {
   "cell_type": "code",
   "execution_count": 58,
   "id": "6e872e10-dbe5-49e8-b554-5030c98ff75d",
   "metadata": {
    "execution": {
     "iopub.execute_input": "2025-08-05T16:08:04.300545Z",
     "iopub.status.busy": "2025-08-05T16:08:04.299703Z",
     "iopub.status.idle": "2025-08-05T16:08:04.319519Z",
     "shell.execute_reply": "2025-08-05T16:08:04.318306Z"
    },
    "papermill": {
     "duration": 0.04495,
     "end_time": "2025-08-05T16:08:04.321394",
     "exception": false,
     "start_time": "2025-08-05T16:08:04.276444",
     "status": "completed"
    },
    "tags": []
   },
   "outputs": [
    {
     "data": {
      "text/html": [
       "<div>\n",
       "<style scoped>\n",
       "    .dataframe tbody tr th:only-of-type {\n",
       "        vertical-align: middle;\n",
       "    }\n",
       "\n",
       "    .dataframe tbody tr th {\n",
       "        vertical-align: top;\n",
       "    }\n",
       "\n",
       "    .dataframe thead th {\n",
       "        text-align: right;\n",
       "    }\n",
       "</style>\n",
       "<table border=\"1\" class=\"dataframe\">\n",
       "  <thead>\n",
       "    <tr style=\"text-align: right;\">\n",
       "      <th></th>\n",
       "      <th>universe_id</th>\n",
       "      <th>universe_training_year</th>\n",
       "      <th>universe_training_size</th>\n",
       "      <th>universe_scale</th>\n",
       "      <th>universe_model</th>\n",
       "      <th>universe_exclude_features</th>\n",
       "      <th>universe_exclude_subgroups</th>\n",
       "      <th>q_hat</th>\n",
       "      <th>coverage</th>\n",
       "      <th>avg_size</th>\n",
       "      <th>cov_frau1</th>\n",
       "      <th>cov_nongerman</th>\n",
       "      <th>cov_nongerman_male</th>\n",
       "      <th>cov_nongerman_female</th>\n",
       "    </tr>\n",
       "  </thead>\n",
       "  <tbody>\n",
       "    <tr>\n",
       "      <th>0</th>\n",
       "      <td>6e7f71e16937cd17e1355f7e53ad3592</td>\n",
       "      <td>2014</td>\n",
       "      <td>1k</td>\n",
       "      <td>scale</td>\n",
       "      <td>elasticnet</td>\n",
       "      <td>sex</td>\n",
       "      <td>drop-non-german</td>\n",
       "      <td>0.80098</td>\n",
       "      <td>0.907246</td>\n",
       "      <td>1.238758</td>\n",
       "      <td>0.904003</td>\n",
       "      <td>0.905631</td>\n",
       "      <td>0.923894</td>\n",
       "      <td>0.87541</td>\n",
       "    </tr>\n",
       "  </tbody>\n",
       "</table>\n",
       "</div>"
      ],
      "text/plain": [
       "                        universe_id universe_training_year  \\\n",
       "0  6e7f71e16937cd17e1355f7e53ad3592                   2014   \n",
       "\n",
       "  universe_training_size universe_scale universe_model  \\\n",
       "0                     1k          scale     elasticnet   \n",
       "\n",
       "  universe_exclude_features universe_exclude_subgroups    q_hat  coverage  \\\n",
       "0                       sex            drop-non-german  0.80098  0.907246   \n",
       "\n",
       "   avg_size  cov_frau1  cov_nongerman  cov_nongerman_male  \\\n",
       "0  1.238758   0.904003       0.905631            0.923894   \n",
       "\n",
       "   cov_nongerman_female  \n",
       "0               0.87541  "
      ]
     },
     "execution_count": 58,
     "metadata": {},
     "output_type": "execute_result"
    }
   ],
   "source": [
    "cp_metrics_df"
   ]
  },
  {
   "cell_type": "markdown",
   "id": "33774451",
   "metadata": {
    "papermill": {
     "duration": 0.025252,
     "end_time": "2025-08-05T16:08:04.374378",
     "exception": false,
     "start_time": "2025-08-05T16:08:04.349126",
     "status": "completed"
    },
    "tags": []
   },
   "source": [
    "# (Fairness) Metrics"
   ]
  },
  {
   "cell_type": "code",
   "execution_count": 59,
   "id": "debc5d62",
   "metadata": {
    "execution": {
     "iopub.execute_input": "2025-08-05T16:08:04.430296Z",
     "iopub.status.busy": "2025-08-05T16:08:04.429266Z",
     "iopub.status.idle": "2025-08-05T16:08:04.450154Z",
     "shell.execute_reply": "2025-08-05T16:08:04.449158Z"
    },
    "papermill": {
     "duration": 0.052298,
     "end_time": "2025-08-05T16:08:04.452004",
     "exception": false,
     "start_time": "2025-08-05T16:08:04.399706",
     "status": "completed"
    },
    "tags": []
   },
   "outputs": [],
   "source": [
    "# do I need to include maxdeutsch1.missing?\n",
    "\n",
    "import numpy as np\n",
    "\n",
    "colname_to_bin = \"maxdeutsch1\"\n",
    "majority_value = org_train[colname_to_bin].mode()[0]\n",
    "\n",
    "org_test[\"majmin\"] = np.where(org_test[colname_to_bin] == majority_value, \"majority\", \"minority\")"
   ]
  },
  {
   "cell_type": "code",
   "execution_count": 60,
   "id": "06a50de5",
   "metadata": {
    "execution": {
     "iopub.execute_input": "2025-08-05T16:08:04.507820Z",
     "iopub.status.busy": "2025-08-05T16:08:04.507363Z",
     "iopub.status.idle": "2025-08-05T16:08:07.425560Z",
     "shell.execute_reply": "2025-08-05T16:08:07.424470Z"
    },
    "papermill": {
     "duration": 2.948473,
     "end_time": "2025-08-05T16:08:07.427566",
     "exception": false,
     "start_time": "2025-08-05T16:08:04.479093",
     "status": "completed"
    },
    "tags": []
   },
   "outputs": [],
   "source": [
    "example_universe = universe.copy()\n",
    "example_universe[\"cutoff\"] = example_universe[\"cutoff\"][0]\n",
    "example_universe[\"eval_fairness_grouping\"] = example_universe[\"eval_fairness_grouping\"][0]\n",
    "fairness_dict, metric_frame = universe_analysis.compute_metrics(\n",
    "    example_universe,\n",
    "    y_pred_prob=probs_test,\n",
    "    y_test=y_true,\n",
    "    org_test=org_test,\n",
    ")"
   ]
  },
  {
   "cell_type": "markdown",
   "id": "f95d4e02",
   "metadata": {
    "papermill": {
     "duration": 0.020734,
     "end_time": "2025-08-05T16:08:07.473074",
     "exception": false,
     "start_time": "2025-08-05T16:08:07.452340",
     "status": "completed"
    },
    "tags": []
   },
   "source": [
    "# Overall"
   ]
  },
  {
   "cell_type": "markdown",
   "id": "bdee4871",
   "metadata": {
    "papermill": {
     "duration": 0.020449,
     "end_time": "2025-08-05T16:08:07.518099",
     "exception": false,
     "start_time": "2025-08-05T16:08:07.497650",
     "status": "completed"
    },
    "tags": []
   },
   "source": [
    "Fairness\n",
    "Main fairness target: Equalized Odds. Seems to be a better fit than equal opportunity, since we're not only interested in Y = 1. Seems to be a better fit than demographic parity, since we also care about accuracy, not just equal distribution of preds.\n",
    "\n",
    "Pick column for computation of fairness metrics\n",
    "\n",
    "Performance\n",
    "Overall performance measures, most interesting in relation to the measures split by group below"
   ]
  },
  {
   "cell_type": "code",
   "execution_count": 61,
   "id": "c4e067c6",
   "metadata": {
    "execution": {
     "iopub.execute_input": "2025-08-05T16:08:07.568199Z",
     "iopub.status.busy": "2025-08-05T16:08:07.567080Z",
     "iopub.status.idle": "2025-08-05T16:08:07.580188Z",
     "shell.execute_reply": "2025-08-05T16:08:07.579233Z"
    },
    "papermill": {
     "duration": 0.037335,
     "end_time": "2025-08-05T16:08:07.582127",
     "exception": false,
     "start_time": "2025-08-05T16:08:07.544792",
     "status": "completed"
    },
    "tags": []
   },
   "outputs": [
    {
     "data": {
      "text/plain": [
       "accuracy                   0.218404\n",
       "balanced accuracy          0.535278\n",
       "f1                         0.239899\n",
       "precision                  0.137047\n",
       "false positive rate        0.890949\n",
       "false negative rate        0.038495\n",
       "selection rate             0.900000\n",
       "count                  89710.000000\n",
       "dtype: float64"
      ]
     },
     "execution_count": 61,
     "metadata": {},
     "output_type": "execute_result"
    }
   ],
   "source": [
    "metric_frame.overall"
   ]
  },
  {
   "cell_type": "markdown",
   "id": "e968fe9d",
   "metadata": {
    "papermill": {
     "duration": 0.020269,
     "end_time": "2025-08-05T16:08:07.627577",
     "exception": false,
     "start_time": "2025-08-05T16:08:07.607308",
     "status": "completed"
    },
    "tags": []
   },
   "source": [
    "By Group"
   ]
  },
  {
   "cell_type": "code",
   "execution_count": 62,
   "id": "ec325bce",
   "metadata": {
    "execution": {
     "iopub.execute_input": "2025-08-05T16:08:07.670134Z",
     "iopub.status.busy": "2025-08-05T16:08:07.669413Z",
     "iopub.status.idle": "2025-08-05T16:08:07.683008Z",
     "shell.execute_reply": "2025-08-05T16:08:07.681788Z"
    },
    "papermill": {
     "duration": 0.039142,
     "end_time": "2025-08-05T16:08:07.690897",
     "exception": false,
     "start_time": "2025-08-05T16:08:07.651755",
     "status": "completed"
    },
    "tags": []
   },
   "outputs": [
    {
     "data": {
      "text/html": [
       "<div>\n",
       "<style scoped>\n",
       "    .dataframe tbody tr th:only-of-type {\n",
       "        vertical-align: middle;\n",
       "    }\n",
       "\n",
       "    .dataframe tbody tr th {\n",
       "        vertical-align: top;\n",
       "    }\n",
       "\n",
       "    .dataframe thead th {\n",
       "        text-align: right;\n",
       "    }\n",
       "</style>\n",
       "<table border=\"1\" class=\"dataframe\">\n",
       "  <thead>\n",
       "    <tr style=\"text-align: right;\">\n",
       "      <th></th>\n",
       "      <th>accuracy</th>\n",
       "      <th>balanced accuracy</th>\n",
       "      <th>f1</th>\n",
       "      <th>precision</th>\n",
       "      <th>false positive rate</th>\n",
       "      <th>false negative rate</th>\n",
       "      <th>selection rate</th>\n",
       "      <th>count</th>\n",
       "    </tr>\n",
       "    <tr>\n",
       "      <th>majmin</th>\n",
       "      <th></th>\n",
       "      <th></th>\n",
       "      <th></th>\n",
       "      <th></th>\n",
       "      <th></th>\n",
       "      <th></th>\n",
       "      <th></th>\n",
       "      <th></th>\n",
       "    </tr>\n",
       "  </thead>\n",
       "  <tbody>\n",
       "    <tr>\n",
       "      <th>majority</th>\n",
       "      <td>0.232832</td>\n",
       "      <td>0.540436</td>\n",
       "      <td>0.248233</td>\n",
       "      <td>0.142578</td>\n",
       "      <td>0.877661</td>\n",
       "      <td>0.041466</td>\n",
       "      <td>0.888348</td>\n",
       "      <td>69170.0</td>\n",
       "    </tr>\n",
       "    <tr>\n",
       "      <th>minority</th>\n",
       "      <td>0.169815</td>\n",
       "      <td>0.519064</td>\n",
       "      <td>0.212742</td>\n",
       "      <td>0.119428</td>\n",
       "      <td>0.934845</td>\n",
       "      <td>0.027027</td>\n",
       "      <td>0.939241</td>\n",
       "      <td>20540.0</td>\n",
       "    </tr>\n",
       "  </tbody>\n",
       "</table>\n",
       "</div>"
      ],
      "text/plain": [
       "          accuracy  balanced accuracy        f1  precision  \\\n",
       "majmin                                                       \n",
       "majority  0.232832           0.540436  0.248233   0.142578   \n",
       "minority  0.169815           0.519064  0.212742   0.119428   \n",
       "\n",
       "          false positive rate  false negative rate  selection rate    count  \n",
       "majmin                                                                       \n",
       "majority             0.877661             0.041466        0.888348  69170.0  \n",
       "minority             0.934845             0.027027        0.939241  20540.0  "
      ]
     },
     "execution_count": 62,
     "metadata": {},
     "output_type": "execute_result"
    }
   ],
   "source": [
    "metric_frame.by_group"
   ]
  },
  {
   "cell_type": "code",
   "execution_count": 63,
   "id": "a9ddbe63",
   "metadata": {
    "execution": {
     "iopub.execute_input": "2025-08-05T16:08:07.741419Z",
     "iopub.status.busy": "2025-08-05T16:08:07.740932Z",
     "iopub.status.idle": "2025-08-05T16:08:10.020031Z",
     "shell.execute_reply": "2025-08-05T16:08:10.018682Z"
    },
    "papermill": {
     "duration": 2.306241,
     "end_time": "2025-08-05T16:08:10.022640",
     "exception": false,
     "start_time": "2025-08-05T16:08:07.716399",
     "status": "completed"
    },
    "tags": []
   },
   "outputs": [
    {
     "data": {
      "text/plain": [
       "array([[<Axes: title={'center': 'accuracy'}, xlabel='majmin'>,\n",
       "        <Axes: title={'center': 'balanced accuracy'}, xlabel='majmin'>,\n",
       "        <Axes: title={'center': 'f1'}, xlabel='majmin'>],\n",
       "       [<Axes: title={'center': 'precision'}, xlabel='majmin'>,\n",
       "        <Axes: title={'center': 'false positive rate'}, xlabel='majmin'>,\n",
       "        <Axes: title={'center': 'false negative rate'}, xlabel='majmin'>],\n",
       "       [<Axes: title={'center': 'selection rate'}, xlabel='majmin'>,\n",
       "        <Axes: title={'center': 'count'}, xlabel='majmin'>,\n",
       "        <Axes: xlabel='majmin'>]], dtype=object)"
      ]
     },
     "execution_count": 63,
     "metadata": {},
     "output_type": "execute_result"
    },
    {
     "data": {
      "image/png": "[encoded data removed]",
      "text/plain": [
       "<Figure size 1200x800 with 9 Axes>"
      ]
     },
     "metadata": {},
     "output_type": "display_data"
    }
   ],
   "source": [
    "# In a graphic\n",
    "metric_frame.by_group.plot.bar(\n",
    "    subplots=True,\n",
    "    layout=[3, 3],\n",
    "    legend=False,\n",
    "    figsize=[12, 8],\n",
    "    title=\"Show all metrics\",\n",
    ")"
   ]
  },
  {
   "cell_type": "markdown",
   "id": "f57a0bac",
   "metadata": {
    "papermill": {
     "duration": 0.027998,
     "end_time": "2025-08-05T16:08:10.080986",
     "exception": false,
     "start_time": "2025-08-05T16:08:10.052988",
     "status": "completed"
    },
    "tags": []
   },
   "source": [
    "# Final Output"
   ]
  },
  {
   "cell_type": "code",
   "execution_count": 64,
   "id": "96d280a3",
   "metadata": {
    "execution": {
     "iopub.execute_input": "2025-08-05T16:08:10.136299Z",
     "iopub.status.busy": "2025-08-05T16:08:10.135601Z",
     "iopub.status.idle": "2025-08-05T16:08:10.144615Z",
     "shell.execute_reply": "2025-08-05T16:08:10.143715Z"
    },
    "papermill": {
     "duration": 0.038183,
     "end_time": "2025-08-05T16:08:10.146262",
     "exception": false,
     "start_time": "2025-08-05T16:08:10.108079",
     "status": "completed"
    },
    "tags": []
   },
   "outputs": [
    {
     "data": {
      "text/plain": [
       "4"
      ]
     },
     "execution_count": 64,
     "metadata": {},
     "output_type": "execute_result"
    }
   ],
   "source": [
    "sub_universes = universe_analysis.generate_sub_universes()\n",
    "len(sub_universes)"
   ]
  },
  {
   "cell_type": "code",
   "execution_count": 65,
   "id": "92adf7ba",
   "metadata": {
    "execution": {
     "iopub.execute_input": "2025-08-05T16:08:10.199821Z",
     "iopub.status.busy": "2025-08-05T16:08:10.198961Z",
     "iopub.status.idle": "2025-08-05T16:08:10.205663Z",
     "shell.execute_reply": "2025-08-05T16:08:10.204598Z"
    },
    "papermill": {
     "duration": 0.036206,
     "end_time": "2025-08-05T16:08:10.207651",
     "exception": false,
     "start_time": "2025-08-05T16:08:10.171445",
     "status": "completed"
    },
    "tags": []
   },
   "outputs": [],
   "source": [
    "def filter_sub_universe_data(sub_universe, org_test):\n",
    "    # Keep all rows — no filtering\n",
    "    keep_rows_mask = np.ones(org_test.shape[0], dtype=bool)\n",
    "\n",
    "    print(f\"[INFO] Keeping all rows: {keep_rows_mask.sum()} rows retained.\")\n",
    "    return keep_rows_mask"
   ]
  },
  {
   "cell_type": "code",
   "execution_count": 66,
   "id": "4a759155",
   "metadata": {
    "execution": {
     "iopub.execute_input": "2025-08-05T16:08:10.262720Z",
     "iopub.status.busy": "2025-08-05T16:08:10.261949Z",
     "iopub.status.idle": "2025-08-05T16:08:19.946242Z",
     "shell.execute_reply": "2025-08-05T16:08:19.945181Z"
    },
    "papermill": {
     "duration": 9.713018,
     "end_time": "2025-08-05T16:08:19.948061",
     "exception": false,
     "start_time": "2025-08-05T16:08:10.235043",
     "status": "completed"
    },
    "tags": []
   },
   "outputs": [
    {
     "name": "stdout",
     "output_type": "stream",
     "text": [
      "Stopping execution_time clock.\n",
      "[INFO] Keeping all rows: 89710 rows retained.\n"
     ]
    },
    {
     "name": "stdout",
     "output_type": "stream",
     "text": [
      "[INFO] Keeping all rows: 89710 rows retained.\n"
     ]
    },
    {
     "name": "stdout",
     "output_type": "stream",
     "text": [
      "[INFO] Keeping all rows: 89710 rows retained.\n"
     ]
    },
    {
     "name": "stdout",
     "output_type": "stream",
     "text": [
      "[INFO] Keeping all rows: 89710 rows retained.\n"
     ]
    },
    {
     "data": {
      "text/html": [
       "<div>\n",
       "<style scoped>\n",
       "    .dataframe tbody tr th:only-of-type {\n",
       "        vertical-align: middle;\n",
       "    }\n",
       "\n",
       "    .dataframe tbody tr th {\n",
       "        vertical-align: top;\n",
       "    }\n",
       "\n",
       "    .dataframe thead th {\n",
       "        text-align: right;\n",
       "    }\n",
       "</style>\n",
       "<table border=\"1\" class=\"dataframe\">\n",
       "  <thead>\n",
       "    <tr style=\"text-align: right;\">\n",
       "      <th></th>\n",
       "      <th>run_no</th>\n",
       "      <th>universe_id</th>\n",
       "      <th>universe_settings</th>\n",
       "      <th>execution_time</th>\n",
       "      <th>test_size_n</th>\n",
       "      <th>test_size_frac</th>\n",
       "      <th>fair_main_equalized_odds_difference</th>\n",
       "      <th>fair_main_equalized_odds_ratio</th>\n",
       "      <th>fair_main_demographic_parity_difference</th>\n",
       "      <th>fair_main_demographic_parity_ratio</th>\n",
       "      <th>...</th>\n",
       "      <th>perf_grp_precision_0</th>\n",
       "      <th>perf_grp_precision_1</th>\n",
       "      <th>perf_grp_false positive rate_0</th>\n",
       "      <th>perf_grp_false positive rate_1</th>\n",
       "      <th>perf_grp_false negative rate_0</th>\n",
       "      <th>perf_grp_false negative rate_1</th>\n",
       "      <th>perf_grp_selection rate_0</th>\n",
       "      <th>perf_grp_selection rate_1</th>\n",
       "      <th>perf_grp_count_0</th>\n",
       "      <th>perf_grp_count_1</th>\n",
       "    </tr>\n",
       "  </thead>\n",
       "  <tbody>\n",
       "    <tr>\n",
       "      <th>0</th>\n",
       "      <td>15</td>\n",
       "      <td>6e7f71e16937cd17e1355f7e53ad3592</td>\n",
       "      <td>{\"cutoff\": \"quantile_0.1\", \"eval_fairness_grou...</td>\n",
       "      <td>26.985203</td>\n",
       "      <td>89710</td>\n",
       "      <td>1.0</td>\n",
       "      <td>0.057184</td>\n",
       "      <td>0.938831</td>\n",
       "      <td>0.050893</td>\n",
       "      <td>0.945815</td>\n",
       "      <td>...</td>\n",
       "      <td>NaN</td>\n",
       "      <td>NaN</td>\n",
       "      <td>NaN</td>\n",
       "      <td>NaN</td>\n",
       "      <td>NaN</td>\n",
       "      <td>NaN</td>\n",
       "      <td>NaN</td>\n",
       "      <td>NaN</td>\n",
       "      <td>NaN</td>\n",
       "      <td>NaN</td>\n",
       "    </tr>\n",
       "    <tr>\n",
       "      <th>0</th>\n",
       "      <td>15</td>\n",
       "      <td>6e7f71e16937cd17e1355f7e53ad3592</td>\n",
       "      <td>{\"cutoff\": \"quantile_0.1\", \"eval_fairness_grou...</td>\n",
       "      <td>26.985203</td>\n",
       "      <td>89710</td>\n",
       "      <td>1.0</td>\n",
       "      <td>0.057184</td>\n",
       "      <td>0.938831</td>\n",
       "      <td>0.050893</td>\n",
       "      <td>0.945815</td>\n",
       "      <td>...</td>\n",
       "      <td>0.119428</td>\n",
       "      <td>0.142578</td>\n",
       "      <td>0.934845</td>\n",
       "      <td>0.877661</td>\n",
       "      <td>0.027027</td>\n",
       "      <td>0.041466</td>\n",
       "      <td>0.939241</td>\n",
       "      <td>0.888348</td>\n",
       "      <td>20540.0</td>\n",
       "      <td>69170.0</td>\n",
       "    </tr>\n",
       "    <tr>\n",
       "      <th>0</th>\n",
       "      <td>15</td>\n",
       "      <td>6e7f71e16937cd17e1355f7e53ad3592</td>\n",
       "      <td>{\"cutoff\": \"quantile_0.25\", \"eval_fairness_gro...</td>\n",
       "      <td>26.985203</td>\n",
       "      <td>89710</td>\n",
       "      <td>1.0</td>\n",
       "      <td>0.039812</td>\n",
       "      <td>0.947594</td>\n",
       "      <td>0.031957</td>\n",
       "      <td>0.958745</td>\n",
       "      <td>...</td>\n",
       "      <td>NaN</td>\n",
       "      <td>NaN</td>\n",
       "      <td>NaN</td>\n",
       "      <td>NaN</td>\n",
       "      <td>NaN</td>\n",
       "      <td>NaN</td>\n",
       "      <td>NaN</td>\n",
       "      <td>NaN</td>\n",
       "      <td>NaN</td>\n",
       "      <td>NaN</td>\n",
       "    </tr>\n",
       "    <tr>\n",
       "      <th>0</th>\n",
       "      <td>15</td>\n",
       "      <td>6e7f71e16937cd17e1355f7e53ad3592</td>\n",
       "      <td>{\"cutoff\": \"quantile_0.25\", \"eval_fairness_gro...</td>\n",
       "      <td>26.985203</td>\n",
       "      <td>89710</td>\n",
       "      <td>1.0</td>\n",
       "      <td>0.039812</td>\n",
       "      <td>0.947594</td>\n",
       "      <td>0.031957</td>\n",
       "      <td>0.958745</td>\n",
       "      <td>...</td>\n",
       "      <td>0.132361</td>\n",
       "      <td>0.158786</td>\n",
       "      <td>0.759685</td>\n",
       "      <td>0.719873</td>\n",
       "      <td>0.110642</td>\n",
       "      <td>0.107549</td>\n",
       "      <td>0.774635</td>\n",
       "      <td>0.742677</td>\n",
       "      <td>20540.0</td>\n",
       "      <td>69170.0</td>\n",
       "    </tr>\n",
       "  </tbody>\n",
       "</table>\n",
       "<p>4 rows × 50 columns</p>\n",
       "</div>"
      ],
      "text/plain": [
       "  run_no                       universe_id  \\\n",
       "0     15  6e7f71e16937cd17e1355f7e53ad3592   \n",
       "0     15  6e7f71e16937cd17e1355f7e53ad3592   \n",
       "0     15  6e7f71e16937cd17e1355f7e53ad3592   \n",
       "0     15  6e7f71e16937cd17e1355f7e53ad3592   \n",
       "\n",
       "                                   universe_settings  execution_time  \\\n",
       "0  {\"cutoff\": \"quantile_0.1\", \"eval_fairness_grou...       26.985203   \n",
       "0  {\"cutoff\": \"quantile_0.1\", \"eval_fairness_grou...       26.985203   \n",
       "0  {\"cutoff\": \"quantile_0.25\", \"eval_fairness_gro...       26.985203   \n",
       "0  {\"cutoff\": \"quantile_0.25\", \"eval_fairness_gro...       26.985203   \n",
       "\n",
       "   test_size_n  test_size_frac  fair_main_equalized_odds_difference  \\\n",
       "0        89710             1.0                             0.057184   \n",
       "0        89710             1.0                             0.057184   \n",
       "0        89710             1.0                             0.039812   \n",
       "0        89710             1.0                             0.039812   \n",
       "\n",
       "   fair_main_equalized_odds_ratio  fair_main_demographic_parity_difference  \\\n",
       "0                        0.938831                                 0.050893   \n",
       "0                        0.938831                                 0.050893   \n",
       "0                        0.947594                                 0.031957   \n",
       "0                        0.947594                                 0.031957   \n",
       "\n",
       "   fair_main_demographic_parity_ratio  ...  perf_grp_precision_0  \\\n",
       "0                            0.945815  ...                   NaN   \n",
       "0                            0.945815  ...              0.119428   \n",
       "0                            0.958745  ...                   NaN   \n",
       "0                            0.958745  ...              0.132361   \n",
       "\n",
       "   perf_grp_precision_1  perf_grp_false positive rate_0  \\\n",
       "0                   NaN                             NaN   \n",
       "0              0.142578                        0.934845   \n",
       "0                   NaN                             NaN   \n",
       "0              0.158786                        0.759685   \n",
       "\n",
       "   perf_grp_false positive rate_1  perf_grp_false negative rate_0  \\\n",
       "0                             NaN                             NaN   \n",
       "0                        0.877661                        0.027027   \n",
       "0                             NaN                             NaN   \n",
       "0                        0.719873                        0.110642   \n",
       "\n",
       "   perf_grp_false negative rate_1  perf_grp_selection rate_0  \\\n",
       "0                             NaN                        NaN   \n",
       "0                        0.041466                   0.939241   \n",
       "0                             NaN                        NaN   \n",
       "0                        0.107549                   0.774635   \n",
       "\n",
       "   perf_grp_selection rate_1  perf_grp_count_0  perf_grp_count_1  \n",
       "0                        NaN               NaN               NaN  \n",
       "0                   0.888348           20540.0           69170.0  \n",
       "0                        NaN               NaN               NaN  \n",
       "0                   0.742677           20540.0           69170.0  \n",
       "\n",
       "[4 rows x 50 columns]"
      ]
     },
     "execution_count": 66,
     "metadata": {},
     "output_type": "execute_result"
    }
   ],
   "source": [
    "final_output = universe_analysis.generate_final_output(\n",
    "    y_pred_prob=probs_test,\n",
    "    y_test=y_true,\n",
    "    org_test=org_test,\n",
    "    filter_data=filter_sub_universe_data,\n",
    "    cp_metrics_df=cp_metrics_df,\n",
    "    save=True,\n",
    ")\n",
    "final_output"
   ]
  }
 ],
 "metadata": {
  "celltoolbar": "Tags",
  "kernelspec": {
   "display_name": "Python (CMA Fairness)",
   "language": "python",
   "name": "cma_fair_env"
  },
  "language_info": {
   "codemirror_mode": {
    "name": "ipython",
    "version": 3
   },
   "file_extension": ".py",
   "mimetype": "text/x-python",
   "name": "python",
   "nbconvert_exporter": "python",
   "pygments_lexer": "ipython3",
   "version": "3.10.12"
  },
  "papermill": {
   "default_parameters": {},
   "duration": 40.879942,
   "end_time": "2025-08-05T16:08:20.800452",
   "environment_variables": {},
   "exception": null,
   "input_path": "universe_analysis.ipynb",
   "output_path": "output/runs/15/notebooks/m_15-6e7f71e16937cd17e1355f7e53ad3592.ipynb",
   "parameters": {
    "output_dir": "output",
    "run_no": "15",
    "seed": "2023",
    "universe": "{\"cutoff\": [\"quantile_0.1\", \"quantile_0.25\"], \"eval_fairness_grouping\": [\"majority-minority\", \"nationality-all\"], \"exclude_features\": \"sex\", \"exclude_subgroups\": \"drop-non-german\", \"model\": \"elasticnet\", \"scale\": \"scale\", \"training_size\": \"1k\", \"training_year\": \"2014\"}",
    "universe_id": "6e7f71e16937cd17e1355f7e53ad3592"
   },
   "start_time": "2025-08-05T16:07:39.920510",
   "version": "2.6.0"
  }
 },
 "nbformat": 4,
 "nbformat_minor": 5
}