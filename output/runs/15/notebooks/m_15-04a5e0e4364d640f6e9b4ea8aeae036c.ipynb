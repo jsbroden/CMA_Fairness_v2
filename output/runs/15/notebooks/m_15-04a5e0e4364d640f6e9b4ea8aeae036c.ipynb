{
 "cells": [
  {
   "cell_type": "code",
   "execution_count": 1,
   "id": "f159f837-637b-42ba-96b5-ec9a68c44524",
   "metadata": {
    "execution": {
     "iopub.execute_input": "2025-08-05T16:39:35.877723Z",
     "iopub.status.busy": "2025-08-05T16:39:35.876791Z",
     "iopub.status.idle": "2025-08-05T16:39:35.890363Z",
     "shell.execute_reply": "2025-08-05T16:39:35.889156Z"
    },
    "papermill": {
     "duration": 0.03524,
     "end_time": "2025-08-05T16:39:35.892605",
     "exception": false,
     "start_time": "2025-08-05T16:39:35.857365",
     "status": "completed"
    },
    "tags": []
   },
   "outputs": [
    {
     "name": "stdout",
     "output_type": "stream",
     "text": [
      "/dss/dsshome1/0C/ra93lal2/cma/CMA_Fairness_v2\n"
     ]
    },
    {
     "name": "stderr",
     "output_type": "stream",
     "text": [
      "/dss/dsshome1/0C/ra93lal2/.local/share/virtualenvs/CMA_Fairness_v2-3j10GkSs/lib/python3.10/site-packages/IPython/core/magics/osm.py:393: UserWarning: This is now an optional IPython functionality, using bookmarks requires you to install the `pickleshare` library.\n",
      "  bkms = self.shell.db.get('bookmarks', {})\n",
      "/dss/dsshome1/0C/ra93lal2/.local/share/virtualenvs/CMA_Fairness_v2-3j10GkSs/lib/python3.10/site-packages/IPython/core/magics/osm.py:417: UserWarning: This is now an optional IPython functionality, setting dhist requires you to install the `pickleshare` library.\n",
      "  self.shell.db['dhist'] = compress_dhist(dhist)[-100:]\n"
     ]
    }
   ],
   "source": [
    "%cd ~/cma/CMA_Fairness_v2"
   ]
  },
  {
   "cell_type": "markdown",
   "id": "de2603b9",
   "metadata": {
    "papermill": {
     "duration": 0.017863,
     "end_time": "2025-08-05T16:39:35.930257",
     "exception": false,
     "start_time": "2025-08-05T16:39:35.912394",
     "status": "completed"
    },
    "tags": []
   },
   "source": [
    "The following cell holds the definition of our parameters, these values can be overriden by rendering the with e.g. the following command:\n",
    "\n",
    "papermill -p alpha 0.2 -p ratio 0.3 universe_analysis.ipynb output/test_run.ipynb"
   ]
  },
  {
   "cell_type": "code",
   "execution_count": 2,
   "id": "a80968a0-40bb-4fa9-85ef-2d5eefb01975",
   "metadata": {
    "execution": {
     "iopub.execute_input": "2025-08-05T16:39:35.970405Z",
     "iopub.status.busy": "2025-08-05T16:39:35.969428Z",
     "iopub.status.idle": "2025-08-05T16:39:35.975285Z",
     "shell.execute_reply": "2025-08-05T16:39:35.974221Z"
    },
    "papermill": {
     "duration": 0.028002,
     "end_time": "2025-08-05T16:39:35.977161",
     "exception": false,
     "start_time": "2025-08-05T16:39:35.949159",
     "status": "completed"
    },
    "tags": []
   },
   "outputs": [
    {
     "name": "stdout",
     "output_type": "stream",
     "text": [
      "Current working directory: /dss/dsshome1/0C/ra93lal2/cma/CMA_Fairness_v2\n"
     ]
    }
   ],
   "source": [
    "import os\n",
    "print(\"Current working directory:\", os.getcwd())"
   ]
  },
  {
   "cell_type": "code",
   "execution_count": 3,
   "id": "2dce4c03",
   "metadata": {
    "execution": {
     "iopub.execute_input": "2025-08-05T16:39:36.017417Z",
     "iopub.status.busy": "2025-08-05T16:39:36.016547Z",
     "iopub.status.idle": "2025-08-05T16:39:36.023307Z",
     "shell.execute_reply": "2025-08-05T16:39:36.022225Z"
    },
    "papermill": {
     "duration": 0.028954,
     "end_time": "2025-08-05T16:39:36.025487",
     "exception": false,
     "start_time": "2025-08-05T16:39:35.996533",
     "status": "completed"
    },
    "tags": [
     "parameters"
    ]
   },
   "outputs": [],
   "source": [
    "run_no = 0\n",
    "universe_id = \"test\"\n",
    "universe = {\n",
    "    \"training_size\": \"25k\", # \"25k\", \"5k\", \"1k\"\n",
    "    \"training_year\": \"2014\", # \"2014\", \"2012_14\", \"2010_14\"\n",
    "    \"scale\": \"scale\", # \"scale\", \"do-not-scale\",\n",
    "    \"model\": \"elasticnet\", # \"logreg\", \"penalized_logreg\", \"rf\", \"gbm\", \"elasticnet\"\n",
    "    \"cutoff\": [\"quantile_0.15\", \"quantile_0.30\"],\n",
    "    \"exclude_features\": \"age\", # \"none\", \"nationality\", \"sex\", \"nationality-sex\", \"age\"\n",
    "    \"exclude_subgroups\": \"keep-all\", # \"keep-all\", \"drop-non-german\"\n",
    "    \"eval_fairness_grouping\": [\"majority-minority\", \"nationality-all\"]\n",
    "}\n",
    "\n",
    "output_dir=\"./output\"\n",
    "seed=0"
   ]
  },
  {
   "cell_type": "code",
   "execution_count": 4,
   "id": "89ab5d2b",
   "metadata": {
    "execution": {
     "iopub.execute_input": "2025-08-05T16:39:36.062289Z",
     "iopub.status.busy": "2025-08-05T16:39:36.061484Z",
     "iopub.status.idle": "2025-08-05T16:39:36.067891Z",
     "shell.execute_reply": "2025-08-05T16:39:36.066581Z"
    },
    "papermill": {
     "duration": 0.026171,
     "end_time": "2025-08-05T16:39:36.069924",
     "exception": false,
     "start_time": "2025-08-05T16:39:36.043753",
     "status": "completed"
    },
    "tags": [
     "injected-parameters"
    ]
   },
   "outputs": [],
   "source": [
    "# Parameters\n",
    "universe_id = \"04a5e0e4364d640f6e9b4ea8aeae036c\"\n",
    "run_no = \"15\"\n",
    "universe = \"{\\\"cutoff\\\": [\\\"quantile_0.1\\\", \\\"quantile_0.25\\\"], \\\"eval_fairness_grouping\\\": [\\\"majority-minority\\\", \\\"nationality-all\\\"], \\\"exclude_features\\\": \\\"none\\\", \\\"exclude_subgroups\\\": \\\"drop-non-german\\\", \\\"model\\\": \\\"penalized_logreg\\\", \\\"scale\\\": \\\"do-not-scale\\\", \\\"training_size\\\": \\\"1k\\\", \\\"training_year\\\": \\\"2010_14\\\"}\"\n",
    "output_dir = \"output\"\n",
    "seed = \"2023\"\n"
   ]
  },
  {
   "cell_type": "code",
   "execution_count": 5,
   "id": "1650acaf",
   "metadata": {
    "execution": {
     "iopub.execute_input": "2025-08-05T16:39:36.107421Z",
     "iopub.status.busy": "2025-08-05T16:39:36.106556Z",
     "iopub.status.idle": "2025-08-05T16:39:36.111941Z",
     "shell.execute_reply": "2025-08-05T16:39:36.110856Z"
    },
    "papermill": {
     "duration": 0.025993,
     "end_time": "2025-08-05T16:39:36.114145",
     "exception": false,
     "start_time": "2025-08-05T16:39:36.088152",
     "status": "completed"
    },
    "tags": []
   },
   "outputs": [],
   "source": [
    "import json\n",
    "if isinstance(universe, str):\n",
    "    universe = json.loads(universe)"
   ]
  },
  {
   "cell_type": "code",
   "execution_count": 6,
   "id": "16620c48",
   "metadata": {
    "execution": {
     "iopub.execute_input": "2025-08-05T16:39:36.139298Z",
     "iopub.status.busy": "2025-08-05T16:39:36.138758Z",
     "iopub.status.idle": "2025-08-05T16:39:36.168386Z",
     "shell.execute_reply": "2025-08-05T16:39:36.167451Z"
    },
    "papermill": {
     "duration": 0.040182,
     "end_time": "2025-08-05T16:39:36.169836",
     "exception": false,
     "start_time": "2025-08-05T16:39:36.129654",
     "status": "completed"
    },
    "tags": []
   },
   "outputs": [],
   "source": [
    "# Auto-reload the custom package\n",
    "%load_ext autoreload\n",
    "%autoreload 1\n",
    "%aimport fairness_multiverse"
   ]
  },
  {
   "cell_type": "code",
   "execution_count": 7,
   "id": "01c5c9f3",
   "metadata": {
    "execution": {
     "iopub.execute_input": "2025-08-05T16:39:36.189656Z",
     "iopub.status.busy": "2025-08-05T16:39:36.189250Z",
     "iopub.status.idle": "2025-08-05T16:39:37.819808Z",
     "shell.execute_reply": "2025-08-05T16:39:37.818630Z"
    },
    "papermill": {
     "duration": 1.642126,
     "end_time": "2025-08-05T16:39:37.822054",
     "exception": false,
     "start_time": "2025-08-05T16:39:36.179928",
     "status": "completed"
    },
    "tags": []
   },
   "outputs": [],
   "source": [
    "from fairness_multiverse.universe import UniverseAnalysis\n",
    "\n",
    "universe_analysis = UniverseAnalysis(\n",
    "    run_no = run_no,\n",
    "    universe_id = universe_id,\n",
    "    universe = universe,\n",
    "    output_dir=output_dir,\n",
    ")"
   ]
  },
  {
   "cell_type": "code",
   "execution_count": 8,
   "id": "106241f5",
   "metadata": {
    "execution": {
     "iopub.execute_input": "2025-08-05T16:39:37.854693Z",
     "iopub.status.busy": "2025-08-05T16:39:37.854285Z",
     "iopub.status.idle": "2025-08-05T16:39:37.859961Z",
     "shell.execute_reply": "2025-08-05T16:39:37.858855Z"
    },
    "papermill": {
     "duration": 0.018256,
     "end_time": "2025-08-05T16:39:37.861375",
     "exception": false,
     "start_time": "2025-08-05T16:39:37.843119",
     "status": "completed"
    },
    "tags": []
   },
   "outputs": [
    {
     "name": "stdout",
     "output_type": "stream",
     "text": [
      "Using Seed: 2023\n"
     ]
    }
   ],
   "source": [
    "import numpy as np\n",
    "parsed_seed = int(seed)\n",
    "np.random.seed(parsed_seed)\n",
    "print(f\"Using Seed: {parsed_seed}\")"
   ]
  },
  {
   "cell_type": "markdown",
   "id": "e0ebdc57",
   "metadata": {
    "papermill": {
     "duration": 0.008653,
     "end_time": "2025-08-05T16:39:37.880614",
     "exception": false,
     "start_time": "2025-08-05T16:39:37.871961",
     "status": "completed"
    },
    "tags": []
   },
   "source": [
    "# Loading Data"
   ]
  },
  {
   "cell_type": "code",
   "execution_count": 9,
   "id": "f0496b8a",
   "metadata": {
    "execution": {
     "iopub.execute_input": "2025-08-05T16:39:37.900048Z",
     "iopub.status.busy": "2025-08-05T16:39:37.899523Z",
     "iopub.status.idle": "2025-08-05T16:39:48.802737Z",
     "shell.execute_reply": "2025-08-05T16:39:48.801506Z"
    },
    "papermill": {
     "duration": 10.915095,
     "end_time": "2025-08-05T16:39:48.804539",
     "exception": false,
     "start_time": "2025-08-05T16:39:37.889444",
     "status": "completed"
    },
    "tags": []
   },
   "outputs": [
    {
     "name": "stdout",
     "output_type": "stream",
     "text": [
      "Loading SIAB data from cache: data/siab_cached.csv.gz\n"
     ]
    },
    {
     "name": "stdout",
     "output_type": "stream",
     "text": [
      "(643690, 164)\n"
     ]
    }
   ],
   "source": [
    "from pathlib import Path\n",
    "import pandas as pd\n",
    "\n",
    "# File paths\n",
    "raw_file = Path(\"data/raw/siab.csv\")\n",
    "cache_file = Path(\"data/siab_cached.csv.gz\")\n",
    "\n",
    "# Ensure cache directory exists\n",
    "cache_file.parent.mkdir(parents=True, exist_ok=True)\n",
    "\n",
    "# Load with simple caching\n",
    "if cache_file.exists():\n",
    "    print(f\"Loading SIAB data from cache: {cache_file}\")\n",
    "    siab = pd.read_csv(cache_file, compression='gzip')\n",
    "else:\n",
    "    print(f\"Cache not found. Reading raw SIAB data: {raw_file}\")\n",
    "    siab = pd.read_csv(raw_file)\n",
    "    siab.to_csv(cache_file, index=False, compression='gzip')\n",
    "    print(f\"Cached SIAB data to: {cache_file}\")\n",
    "\n",
    "print(siab.shape)"
   ]
  },
  {
   "cell_type": "code",
   "execution_count": 10,
   "id": "db0ca512-5f53-4dba-abdb-a2888bca41ba",
   "metadata": {
    "execution": {
     "iopub.execute_input": "2025-08-05T16:39:48.844443Z",
     "iopub.status.busy": "2025-08-05T16:39:48.844037Z",
     "iopub.status.idle": "2025-08-05T16:39:48.850693Z",
     "shell.execute_reply": "2025-08-05T16:39:48.849590Z"
    },
    "papermill": {
     "duration": 0.025601,
     "end_time": "2025-08-05T16:39:48.852463",
     "exception": false,
     "start_time": "2025-08-05T16:39:48.826862",
     "status": "completed"
    },
    "tags": []
   },
   "outputs": [],
   "source": [
    "#siab"
   ]
  },
  {
   "cell_type": "markdown",
   "id": "997051c5-15bd-4b69-9786-c3001a3ce484",
   "metadata": {
    "papermill": {
     "duration": 0.01911,
     "end_time": "2025-08-05T16:39:48.891287",
     "exception": false,
     "start_time": "2025-08-05T16:39:48.872177",
     "status": "completed"
    },
    "tags": []
   },
   "source": [
    "# Splitting Data and Setting Training Data Size"
   ]
  },
  {
   "cell_type": "code",
   "execution_count": 11,
   "id": "aea9c6ef-6f46-42c8-85eb-5a62025c1508",
   "metadata": {
    "execution": {
     "iopub.execute_input": "2025-08-05T16:39:48.931161Z",
     "iopub.status.busy": "2025-08-05T16:39:48.930330Z",
     "iopub.status.idle": "2025-08-05T16:39:49.841063Z",
     "shell.execute_reply": "2025-08-05T16:39:49.839990Z"
    },
    "papermill": {
     "duration": 0.933518,
     "end_time": "2025-08-05T16:39:49.843201",
     "exception": false,
     "start_time": "2025-08-05T16:39:48.909683",
     "status": "completed"
    },
    "tags": []
   },
   "outputs": [],
   "source": [
    "from fairness_multiverse.universe import sample_by_year_size\n",
    "\n",
    "siab_train = sample_by_year_size(siab,\n",
    "                               training_year=universe[\"training_year\"],\n",
    "                               training_size=universe[\"training_size\"])"
   ]
  },
  {
   "cell_type": "code",
   "execution_count": 12,
   "id": "8d3afb32-789d-442c-8d5d-9f5aa8dd2eed",
   "metadata": {
    "execution": {
     "iopub.execute_input": "2025-08-05T16:39:49.884791Z",
     "iopub.status.busy": "2025-08-05T16:39:49.884218Z",
     "iopub.status.idle": "2025-08-05T16:39:49.890079Z",
     "shell.execute_reply": "2025-08-05T16:39:49.888834Z"
    },
    "papermill": {
     "duration": 0.029596,
     "end_time": "2025-08-05T16:39:49.892566",
     "exception": false,
     "start_time": "2025-08-05T16:39:49.862970",
     "status": "completed"
    },
    "tags": []
   },
   "outputs": [],
   "source": [
    "#siab_train.shape"
   ]
  },
  {
   "cell_type": "code",
   "execution_count": 13,
   "id": "d582db68-1a4c-47fb-84fc-08518dc1975a",
   "metadata": {
    "execution": {
     "iopub.execute_input": "2025-08-05T16:39:49.944262Z",
     "iopub.status.busy": "2025-08-05T16:39:49.943183Z",
     "iopub.status.idle": "2025-08-05T16:39:49.949225Z",
     "shell.execute_reply": "2025-08-05T16:39:49.948204Z"
    },
    "papermill": {
     "duration": 0.033423,
     "end_time": "2025-08-05T16:39:49.951589",
     "exception": false,
     "start_time": "2025-08-05T16:39:49.918166",
     "status": "completed"
    },
    "tags": []
   },
   "outputs": [],
   "source": [
    "#display(siab_train.groupby(\"year\").size())"
   ]
  },
  {
   "cell_type": "code",
   "execution_count": 14,
   "id": "a561edb4-d032-42cb-8256-22eac1111c64",
   "metadata": {
    "execution": {
     "iopub.execute_input": "2025-08-05T16:39:50.003463Z",
     "iopub.status.busy": "2025-08-05T16:39:50.002870Z",
     "iopub.status.idle": "2025-08-05T16:39:50.290932Z",
     "shell.execute_reply": "2025-08-05T16:39:50.289824Z"
    },
    "papermill": {
     "duration": 0.316467,
     "end_time": "2025-08-05T16:39:50.293337",
     "exception": false,
     "start_time": "2025-08-05T16:39:49.976870",
     "status": "completed"
    },
    "tags": []
   },
   "outputs": [],
   "source": [
    "#siab_train = siab_s[siab_s.year < 2015]\n",
    "siab_calib = siab[siab.year == 2015]\n",
    "siab_test = siab[siab.year == 2016]"
   ]
  },
  {
   "cell_type": "code",
   "execution_count": 15,
   "id": "472de16f-c3db-4916-846b-1f0de9cf1746",
   "metadata": {
    "execution": {
     "iopub.execute_input": "2025-08-05T16:39:50.335175Z",
     "iopub.status.busy": "2025-08-05T16:39:50.333782Z",
     "iopub.status.idle": "2025-08-05T16:39:50.342647Z",
     "shell.execute_reply": "2025-08-05T16:39:50.341388Z"
    },
    "papermill": {
     "duration": 0.031842,
     "end_time": "2025-08-05T16:39:50.344379",
     "exception": false,
     "start_time": "2025-08-05T16:39:50.312537",
     "status": "completed"
    },
    "tags": []
   },
   "outputs": [],
   "source": [
    "X_train = siab_train.iloc[:,4:164]\n",
    "y_train = siab_train.iloc[:, [3]]"
   ]
  },
  {
   "cell_type": "code",
   "execution_count": 16,
   "id": "828c96af-f43a-4ed6-ba47-8ac73a47d56c",
   "metadata": {
    "execution": {
     "iopub.execute_input": "2025-08-05T16:39:50.393201Z",
     "iopub.status.busy": "2025-08-05T16:39:50.392406Z",
     "iopub.status.idle": "2025-08-05T16:39:50.442626Z",
     "shell.execute_reply": "2025-08-05T16:39:50.441344Z"
    },
    "papermill": {
     "duration": 0.07735,
     "end_time": "2025-08-05T16:39:50.445370",
     "exception": false,
     "start_time": "2025-08-05T16:39:50.368020",
     "status": "completed"
    },
    "tags": []
   },
   "outputs": [],
   "source": [
    "X_calib = siab_calib.iloc[:,4:164]\n",
    "y_calib = siab_calib.iloc[:, [3]]"
   ]
  },
  {
   "cell_type": "code",
   "execution_count": 17,
   "id": "c34be9c3-6bd6-476e-acd3-845840e303be",
   "metadata": {
    "execution": {
     "iopub.execute_input": "2025-08-05T16:39:50.481153Z",
     "iopub.status.busy": "2025-08-05T16:39:50.480764Z",
     "iopub.status.idle": "2025-08-05T16:39:50.534265Z",
     "shell.execute_reply": "2025-08-05T16:39:50.532952Z"
    },
    "papermill": {
     "duration": 0.069257,
     "end_time": "2025-08-05T16:39:50.536221",
     "exception": false,
     "start_time": "2025-08-05T16:39:50.466964",
     "status": "completed"
    },
    "tags": []
   },
   "outputs": [],
   "source": [
    "X_test = siab_test.iloc[:,4:164]\n",
    "y_true = siab_test.iloc[:, [3]]"
   ]
  },
  {
   "cell_type": "code",
   "execution_count": 18,
   "id": "e6c733c5",
   "metadata": {
    "execution": {
     "iopub.execute_input": "2025-08-05T16:39:50.575694Z",
     "iopub.status.busy": "2025-08-05T16:39:50.575117Z",
     "iopub.status.idle": "2025-08-05T16:39:50.679759Z",
     "shell.execute_reply": "2025-08-05T16:39:50.678598Z"
    },
    "papermill": {
     "duration": 0.12722,
     "end_time": "2025-08-05T16:39:50.682313",
     "exception": false,
     "start_time": "2025-08-05T16:39:50.555093",
     "status": "completed"
    },
    "tags": []
   },
   "outputs": [],
   "source": [
    "# Auxiliary data needed downstream in the pipeline\n",
    "\n",
    "org_train = X_train.copy()\n",
    "org_test = X_test.copy()\n",
    "org_calib = X_calib.copy()"
   ]
  },
  {
   "cell_type": "markdown",
   "id": "0a4a1b33",
   "metadata": {
    "papermill": {
     "duration": 0.009154,
     "end_time": "2025-08-05T16:39:50.704866",
     "exception": false,
     "start_time": "2025-08-05T16:39:50.695712",
     "status": "completed"
    },
    "tags": []
   },
   "source": [
    "# Preprocessing Data"
   ]
  },
  {
   "cell_type": "code",
   "execution_count": 19,
   "id": "ca879031",
   "metadata": {
    "execution": {
     "iopub.execute_input": "2025-08-05T16:39:50.723769Z",
     "iopub.status.busy": "2025-08-05T16:39:50.723370Z",
     "iopub.status.idle": "2025-08-05T16:39:50.729058Z",
     "shell.execute_reply": "2025-08-05T16:39:50.727887Z"
    },
    "papermill": {
     "duration": 0.017606,
     "end_time": "2025-08-05T16:39:50.731291",
     "exception": false,
     "start_time": "2025-08-05T16:39:50.713685",
     "status": "completed"
    },
    "tags": []
   },
   "outputs": [],
   "source": [
    "# EXCLUDE PROTECTED FEATURES\n",
    "# ----------------------\n",
    "# \"exclude_features\": \"none\", # \"nationality\", \"sex\", \"nationality-sex\"\n",
    "\n",
    "excluded_features = universe[\"exclude_features\"].split(\"-\") # split, e.g.: \"nationality-sex\" -> [\"nationality\", \"sex\"]\n",
    "excluded_features_dictionary = {\n",
    "    \"nationality\": [\"maxdeutsch1\", \"maxdeutsch.Missing.\"],\n",
    "    \"sex\": [\"frau1\"],\n",
    "    \"age\": [\"age\"],\n",
    "}"
   ]
  },
  {
   "cell_type": "code",
   "execution_count": 20,
   "id": "b745ac60",
   "metadata": {
    "execution": {
     "iopub.execute_input": "2025-08-05T16:39:50.772405Z",
     "iopub.status.busy": "2025-08-05T16:39:50.771521Z",
     "iopub.status.idle": "2025-08-05T16:39:50.777708Z",
     "shell.execute_reply": "2025-08-05T16:39:50.776721Z"
    },
    "papermill": {
     "duration": 0.027567,
     "end_time": "2025-08-05T16:39:50.779689",
     "exception": false,
     "start_time": "2025-08-05T16:39:50.752122",
     "status": "completed"
    },
    "tags": []
   },
   "outputs": [],
   "source": [
    "# Code nice names to column names\n",
    "\n",
    "excluded_features_columns = [\n",
    "    excluded_features_dictionary[f] for f in excluded_features if len(f) > 0 and f != \"none\"\n",
    "]"
   ]
  },
  {
   "cell_type": "code",
   "execution_count": 21,
   "id": "f84f73a2",
   "metadata": {
    "execution": {
     "iopub.execute_input": "2025-08-05T16:39:50.818932Z",
     "iopub.status.busy": "2025-08-05T16:39:50.818064Z",
     "iopub.status.idle": "2025-08-05T16:39:50.825697Z",
     "shell.execute_reply": "2025-08-05T16:39:50.824438Z"
    },
    "papermill": {
     "duration": 0.030203,
     "end_time": "2025-08-05T16:39:50.828163",
     "exception": false,
     "start_time": "2025-08-05T16:39:50.797960",
     "status": "completed"
    },
    "tags": []
   },
   "outputs": [],
   "source": [
    "from utils import flatten_once\n",
    "\n",
    "excluded_features_columns = flatten_once(excluded_features_columns)"
   ]
  },
  {
   "cell_type": "code",
   "execution_count": 22,
   "id": "884dea22",
   "metadata": {
    "execution": {
     "iopub.execute_input": "2025-08-05T16:39:50.881225Z",
     "iopub.status.busy": "2025-08-05T16:39:50.880845Z",
     "iopub.status.idle": "2025-08-05T16:39:50.886810Z",
     "shell.execute_reply": "2025-08-05T16:39:50.885553Z"
    },
    "papermill": {
     "duration": 0.034822,
     "end_time": "2025-08-05T16:39:50.889303",
     "exception": false,
     "start_time": "2025-08-05T16:39:50.854481",
     "status": "completed"
    },
    "tags": []
   },
   "outputs": [],
   "source": [
    "if len(excluded_features_columns) > 0:\n",
    "    print(f\"Dropping features: {excluded_features_columns}\")\n",
    "    X_train.drop(excluded_features_columns, axis=1, inplace=True)"
   ]
  },
  {
   "cell_type": "code",
   "execution_count": 23,
   "id": "95ab8b16",
   "metadata": {
    "execution": {
     "iopub.execute_input": "2025-08-05T16:39:50.931877Z",
     "iopub.status.busy": "2025-08-05T16:39:50.931261Z",
     "iopub.status.idle": "2025-08-05T16:39:50.936797Z",
     "shell.execute_reply": "2025-08-05T16:39:50.935785Z"
    },
    "papermill": {
     "duration": 0.026782,
     "end_time": "2025-08-05T16:39:50.938886",
     "exception": false,
     "start_time": "2025-08-05T16:39:50.912104",
     "status": "completed"
    },
    "tags": []
   },
   "outputs": [],
   "source": [
    "if len(excluded_features_columns) > 0:\n",
    "    print(f\"Dropping features: {excluded_features_columns}\")\n",
    "    X_test.drop(excluded_features_columns, axis=1, inplace=True)"
   ]
  },
  {
   "cell_type": "code",
   "execution_count": 24,
   "id": "1853aaf5-fb9f-46cb-a2b5-8ea4ae2237e4",
   "metadata": {
    "execution": {
     "iopub.execute_input": "2025-08-05T16:39:50.978644Z",
     "iopub.status.busy": "2025-08-05T16:39:50.977718Z",
     "iopub.status.idle": "2025-08-05T16:39:50.983624Z",
     "shell.execute_reply": "2025-08-05T16:39:50.982485Z"
    },
    "papermill": {
     "duration": 0.027677,
     "end_time": "2025-08-05T16:39:50.985490",
     "exception": false,
     "start_time": "2025-08-05T16:39:50.957813",
     "status": "completed"
    },
    "tags": []
   },
   "outputs": [],
   "source": [
    "if len(excluded_features_columns) > 0:\n",
    "    print(f\"Dropping features: {excluded_features_columns}\")\n",
    "    X_calib.drop(excluded_features_columns, axis=1, inplace=True)"
   ]
  },
  {
   "cell_type": "code",
   "execution_count": 25,
   "id": "76c4dc6d",
   "metadata": {
    "execution": {
     "iopub.execute_input": "2025-08-05T16:39:51.025447Z",
     "iopub.status.busy": "2025-08-05T16:39:51.024542Z",
     "iopub.status.idle": "2025-08-05T16:39:51.030037Z",
     "shell.execute_reply": "2025-08-05T16:39:51.029094Z"
    },
    "papermill": {
     "duration": 0.026193,
     "end_time": "2025-08-05T16:39:51.031513",
     "exception": false,
     "start_time": "2025-08-05T16:39:51.005320",
     "status": "completed"
    },
    "tags": []
   },
   "outputs": [],
   "source": [
    "# EXCLUDE CERTAIN SUBGROUPS\n",
    "# ----------------------\n",
    "\n",
    "mode = universe.get(\"exclude_subgroups\", \"keep-all\") \n",
    "# Fetches the exclude_subgroups setting from the universe dict.\n",
    "# Defaults to \"keep-all\" if the key is missing."
   ]
  },
  {
   "cell_type": "code",
   "execution_count": 26,
   "id": "21994072",
   "metadata": {
    "execution": {
     "iopub.execute_input": "2025-08-05T16:39:51.069830Z",
     "iopub.status.busy": "2025-08-05T16:39:51.069076Z",
     "iopub.status.idle": "2025-08-05T16:39:51.075527Z",
     "shell.execute_reply": "2025-08-05T16:39:51.074387Z"
    },
    "papermill": {
     "duration": 0.02713,
     "end_time": "2025-08-05T16:39:51.078026",
     "exception": false,
     "start_time": "2025-08-05T16:39:51.050896",
     "status": "completed"
    },
    "tags": []
   },
   "outputs": [],
   "source": [
    "if mode == \"keep-all\":\n",
    "    keep_mask = pd.Series(True, index=org_train.index)\n",
    "\n",
    "# org_train contains the original feature columns from features_org (in Simson)\n",
    "# features_org contains unprocessed features, for me X_train at beginning ???\n",
    "# For keep-all, creates a boolean Series (keep_mask) of all True, so no rows are removed.\n",
    "\n",
    "elif mode == \"drop-non-german\":\n",
    "    keep_mask = org_train[\"maxdeutsch1\"] == 1 # ??? what about missing values?\n",
    "\n",
    "else:\n",
    "    raise ValueError(f\"Unsupported mode for exclude_subgroups: {mode}\")"
   ]
  },
  {
   "cell_type": "code",
   "execution_count": 27,
   "id": "71651440",
   "metadata": {
    "execution": {
     "iopub.execute_input": "2025-08-05T16:39:51.117496Z",
     "iopub.status.busy": "2025-08-05T16:39:51.117041Z",
     "iopub.status.idle": "2025-08-05T16:39:51.123872Z",
     "shell.execute_reply": "2025-08-05T16:39:51.122774Z"
    },
    "papermill": {
     "duration": 0.029223,
     "end_time": "2025-08-05T16:39:51.125613",
     "exception": false,
     "start_time": "2025-08-05T16:39:51.096390",
     "status": "completed"
    },
    "tags": []
   },
   "outputs": [
    {
     "name": "stdout",
     "output_type": "stream",
     "text": [
      "Dropping 131 rows (13.10%) where mode='drop-non-german'\n"
     ]
    }
   ],
   "source": [
    "n_drop = (~keep_mask).sum() # Calculates how many rows are set to be dropped\n",
    "if n_drop > 0:\n",
    "    pct = n_drop / len(keep_mask) * 100\n",
    "    print(f\"Dropping {n_drop} rows ({pct:.2f}%) where mode='{mode}'\")"
   ]
  },
  {
   "cell_type": "code",
   "execution_count": 28,
   "id": "5fb8eee5",
   "metadata": {
    "execution": {
     "iopub.execute_input": "2025-08-05T16:39:51.164889Z",
     "iopub.status.busy": "2025-08-05T16:39:51.163962Z",
     "iopub.status.idle": "2025-08-05T16:39:51.170799Z",
     "shell.execute_reply": "2025-08-05T16:39:51.169891Z"
    },
    "papermill": {
     "duration": 0.027473,
     "end_time": "2025-08-05T16:39:51.172376",
     "exception": false,
     "start_time": "2025-08-05T16:39:51.144903",
     "status": "completed"
    },
    "tags": []
   },
   "outputs": [],
   "source": [
    "X_train = X_train[keep_mask]"
   ]
  },
  {
   "cell_type": "code",
   "execution_count": 29,
   "id": "b202bb3a",
   "metadata": {
    "execution": {
     "iopub.execute_input": "2025-08-05T16:39:51.210368Z",
     "iopub.status.busy": "2025-08-05T16:39:51.209702Z",
     "iopub.status.idle": "2025-08-05T16:39:51.215463Z",
     "shell.execute_reply": "2025-08-05T16:39:51.214379Z"
    },
    "papermill": {
     "duration": 0.027159,
     "end_time": "2025-08-05T16:39:51.217338",
     "exception": false,
     "start_time": "2025-08-05T16:39:51.190179",
     "status": "completed"
    },
    "tags": []
   },
   "outputs": [],
   "source": [
    "y_train = y_train[keep_mask]"
   ]
  },
  {
   "cell_type": "markdown",
   "id": "493e2ac3",
   "metadata": {
    "papermill": {
     "duration": 0.017043,
     "end_time": "2025-08-05T16:39:51.255417",
     "exception": false,
     "start_time": "2025-08-05T16:39:51.238374",
     "status": "completed"
    },
    "tags": []
   },
   "source": [
    "# Model Training"
   ]
  },
  {
   "cell_type": "code",
   "execution_count": 30,
   "id": "679e1268",
   "metadata": {
    "execution": {
     "iopub.execute_input": "2025-08-05T16:39:51.295173Z",
     "iopub.status.busy": "2025-08-05T16:39:51.294752Z",
     "iopub.status.idle": "2025-08-05T16:39:51.400018Z",
     "shell.execute_reply": "2025-08-05T16:39:51.399063Z"
    },
    "papermill": {
     "duration": 0.126636,
     "end_time": "2025-08-05T16:39:51.401824",
     "exception": false,
     "start_time": "2025-08-05T16:39:51.275188",
     "status": "completed"
    },
    "tags": []
   },
   "outputs": [],
   "source": [
    "from sklearn.linear_model import LogisticRegression\n",
    "from sklearn.ensemble import GradientBoostingClassifier, RandomForestClassifier\n",
    "\n",
    "if (universe[\"model\"] == \"logreg\"):\n",
    "    model = LogisticRegression() #penalty=\"none\", solver=\"newton-cg\", max_iter=1) # include random_state=19 ?\n",
    "elif (universe[\"model\"] == \"penalized_logreg\"):\n",
    "    model = LogisticRegression(penalty=\"l2\", C=0.1) #, solver=\"newton-cg\", max_iter=1)\n",
    "elif (universe[\"model\"] == \"rf\"):\n",
    "    model = RandomForestClassifier() # n_estimators=100, n_jobs=-1\n",
    "elif (universe[\"model\"] == \"gbm\"):\n",
    "    model = GradientBoostingClassifier()\n",
    "elif (universe[\"model\"] == \"elasticnet\"):\n",
    "    model = LogisticRegression(penalty = 'elasticnet', solver = 'saga', l1_ratio = 0.5) # max_iter=5000\n",
    "else:\n",
    "    raise \"Unsupported universe.model\""
   ]
  },
  {
   "cell_type": "code",
   "execution_count": 31,
   "id": "0cc8f744",
   "metadata": {
    "execution": {
     "iopub.execute_input": "2025-08-05T16:39:51.450483Z",
     "iopub.status.busy": "2025-08-05T16:39:51.449928Z",
     "iopub.status.idle": "2025-08-05T16:39:51.454870Z",
     "shell.execute_reply": "2025-08-05T16:39:51.454077Z"
    },
    "papermill": {
     "duration": 0.033531,
     "end_time": "2025-08-05T16:39:51.456276",
     "exception": false,
     "start_time": "2025-08-05T16:39:51.422745",
     "status": "completed"
    },
    "tags": []
   },
   "outputs": [],
   "source": [
    "import numpy as np\n",
    "from sklearn.pipeline import Pipeline\n",
    "from sklearn.preprocessing import StandardScaler\n",
    "\n",
    "model = Pipeline([\n",
    "    #(\"continuous_processor\", continuous_processor),\n",
    "    #(\"categorical_preprocessor\", categorical_preprocessor),\n",
    "    (\"scale\", StandardScaler() if universe[\"scale\"] == \"scale\" else None), \n",
    "    (\"model\", model),\n",
    "])"
   ]
  },
  {
   "cell_type": "code",
   "execution_count": 32,
   "id": "9442c04d",
   "metadata": {
    "execution": {
     "iopub.execute_input": "2025-08-05T16:39:51.478157Z",
     "iopub.status.busy": "2025-08-05T16:39:51.477569Z",
     "iopub.status.idle": "2025-08-05T16:39:51.526389Z",
     "shell.execute_reply": "2025-08-05T16:39:51.524834Z"
    },
    "papermill": {
     "duration": 0.060836,
     "end_time": "2025-08-05T16:39:51.528094",
     "exception": false,
     "start_time": "2025-08-05T16:39:51.467258",
     "status": "completed"
    },
    "tags": []
   },
   "outputs": [
    {
     "name": "stderr",
     "output_type": "stream",
     "text": [
      "/dss/dsshome1/0C/ra93lal2/.local/share/virtualenvs/CMA_Fairness_v2-3j10GkSs/lib/python3.10/site-packages/sklearn/linear_model/_logistic.py:444: ConvergenceWarning: lbfgs failed to converge (status=1):\n",
      "STOP: TOTAL NO. of ITERATIONS REACHED LIMIT.\n",
      "\n",
      "Increase the number of iterations (max_iter) or scale the data as shown in:\n",
      "    https://scikit-learn.org/stable/modules/preprocessing.html\n",
      "Please also refer to the documentation for alternative solver options:\n",
      "    https://scikit-learn.org/stable/modules/linear_model.html#logistic-regression\n",
      "  n_iter_i = _check_optimize_result(\n"
     ]
    },
    {
     "data": {
      "text/html": [
       "<style>#sk-container-id-1 {color: black;background-color: white;}#sk-container-id-1 pre{padding: 0;}#sk-container-id-1 div.sk-toggleable {background-color: white;}#sk-container-id-1 label.sk-toggleable__label {cursor: pointer;display: block;width: 100%;margin-bottom: 0;padding: 0.3em;box-sizing: border-box;text-align: center;}#sk-container-id-1 label.sk-toggleable__label-arrow:before {content: \"▸\";float: left;margin-right: 0.25em;color: #696969;}#sk-container-id-1 label.sk-toggleable__label-arrow:hover:before {color: black;}#sk-container-id-1 div.sk-estimator:hover label.sk-toggleable__label-arrow:before {color: black;}#sk-container-id-1 div.sk-toggleable__content {max-height: 0;max-width: 0;overflow: hidden;text-align: left;background-color: #f0f8ff;}#sk-container-id-1 div.sk-toggleable__content pre {margin: 0.2em;color: black;border-radius: 0.25em;background-color: #f0f8ff;}#sk-container-id-1 input.sk-toggleable__control:checked~div.sk-toggleable__content {max-height: 200px;max-width: 100%;overflow: auto;}#sk-container-id-1 input.sk-toggleable__control:checked~label.sk-toggleable__label-arrow:before {content: \"▾\";}#sk-container-id-1 div.sk-estimator input.sk-toggleable__control:checked~label.sk-toggleable__label {background-color: #d4ebff;}#sk-container-id-1 div.sk-label input.sk-toggleable__control:checked~label.sk-toggleable__label {background-color: #d4ebff;}#sk-container-id-1 input.sk-hidden--visually {border: 0;clip: rect(1px 1px 1px 1px);clip: rect(1px, 1px, 1px, 1px);height: 1px;margin: -1px;overflow: hidden;padding: 0;position: absolute;width: 1px;}#sk-container-id-1 div.sk-estimator {font-family: monospace;background-color: #f0f8ff;border: 1px dotted black;border-radius: 0.25em;box-sizing: border-box;margin-bottom: 0.5em;}#sk-container-id-1 div.sk-estimator:hover {background-color: #d4ebff;}#sk-container-id-1 div.sk-parallel-item::after {content: \"\";width: 100%;border-bottom: 1px solid gray;flex-grow: 1;}#sk-container-id-1 div.sk-label:hover label.sk-toggleable__label {background-color: #d4ebff;}#sk-container-id-1 div.sk-serial::before {content: \"\";position: absolute;border-left: 1px solid gray;box-sizing: border-box;top: 0;bottom: 0;left: 50%;z-index: 0;}#sk-container-id-1 div.sk-serial {display: flex;flex-direction: column;align-items: center;background-color: white;padding-right: 0.2em;padding-left: 0.2em;position: relative;}#sk-container-id-1 div.sk-item {position: relative;z-index: 1;}#sk-container-id-1 div.sk-parallel {display: flex;align-items: stretch;justify-content: center;background-color: white;position: relative;}#sk-container-id-1 div.sk-item::before, #sk-container-id-1 div.sk-parallel-item::before {content: \"\";position: absolute;border-left: 1px solid gray;box-sizing: border-box;top: 0;bottom: 0;left: 50%;z-index: -1;}#sk-container-id-1 div.sk-parallel-item {display: flex;flex-direction: column;z-index: 1;position: relative;background-color: white;}#sk-container-id-1 div.sk-parallel-item:first-child::after {align-self: flex-end;width: 50%;}#sk-container-id-1 div.sk-parallel-item:last-child::after {align-self: flex-start;width: 50%;}#sk-container-id-1 div.sk-parallel-item:only-child::after {width: 0;}#sk-container-id-1 div.sk-dashed-wrapped {border: 1px dashed gray;margin: 0 0.4em 0.5em 0.4em;box-sizing: border-box;padding-bottom: 0.4em;background-color: white;}#sk-container-id-1 div.sk-label label {font-family: monospace;font-weight: bold;display: inline-block;line-height: 1.2em;}#sk-container-id-1 div.sk-label-container {text-align: center;}#sk-container-id-1 div.sk-container {/* jupyter's `normalize.less` sets `[hidden] { display: none; }` but bootstrap.min.css set `[hidden] { display: none !important; }` so we also need the `!important` here to be able to override the default hidden behavior on the sphinx rendered scikit-learn.org. See: https://github.com/scikit-learn/scikit-learn/issues/21755 */display: inline-block !important;position: relative;}#sk-container-id-1 div.sk-text-repr-fallback {display: none;}</style><div id=\"sk-container-id-1\" class=\"sk-top-container\"><div class=\"sk-text-repr-fallback\"><pre>Pipeline(steps=[(&#x27;scale&#x27;, None), (&#x27;model&#x27;, LogisticRegression(C=0.1))])</pre><b>In a Jupyter environment, please rerun this cell to show the HTML representation or trust the notebook. <br />On GitHub, the HTML representation is unable to render, please try loading this page with nbviewer.org.</b></div><div class=\"sk-container\" hidden><div class=\"sk-item sk-dashed-wrapped\"><div class=\"sk-label-container\"><div class=\"sk-label sk-toggleable\"><input class=\"sk-toggleable__control sk-hidden--visually\" id=\"sk-estimator-id-1\" type=\"checkbox\" ><label for=\"sk-estimator-id-1\" class=\"sk-toggleable__label sk-toggleable__label-arrow\">Pipeline</label><div class=\"sk-toggleable__content\"><pre>Pipeline(steps=[(&#x27;scale&#x27;, None), (&#x27;model&#x27;, LogisticRegression(C=0.1))])</pre></div></div></div><div class=\"sk-serial\"><div class=\"sk-item\"><div class=\"sk-estimator sk-toggleable\"><input class=\"sk-toggleable__control sk-hidden--visually\" id=\"sk-estimator-id-2\" type=\"checkbox\" ><label for=\"sk-estimator-id-2\" class=\"sk-toggleable__label sk-toggleable__label-arrow\">None</label><div class=\"sk-toggleable__content\"><pre>None</pre></div></div></div><div class=\"sk-item\"><div class=\"sk-estimator sk-toggleable\"><input class=\"sk-toggleable__control sk-hidden--visually\" id=\"sk-estimator-id-3\" type=\"checkbox\" ><label for=\"sk-estimator-id-3\" class=\"sk-toggleable__label sk-toggleable__label-arrow\">LogisticRegression</label><div class=\"sk-toggleable__content\"><pre>LogisticRegression(C=0.1)</pre></div></div></div></div></div></div></div>"
      ],
      "text/plain": [
       "Pipeline(steps=[('scale', None), ('model', LogisticRegression(C=0.1))])"
      ]
     },
     "execution_count": 32,
     "metadata": {},
     "output_type": "execute_result"
    }
   ],
   "source": [
    "model.fit(X_train, y_train.values.ravel())"
   ]
  },
  {
   "cell_type": "code",
   "execution_count": 33,
   "id": "af59f8c0",
   "metadata": {
    "execution": {
     "iopub.execute_input": "2025-08-05T16:39:51.573099Z",
     "iopub.status.busy": "2025-08-05T16:39:51.572723Z",
     "iopub.status.idle": "2025-08-05T16:39:51.577569Z",
     "shell.execute_reply": "2025-08-05T16:39:51.576649Z"
    },
    "papermill": {
     "duration": 0.029063,
     "end_time": "2025-08-05T16:39:51.579735",
     "exception": false,
     "start_time": "2025-08-05T16:39:51.550672",
     "status": "completed"
    },
    "tags": []
   },
   "outputs": [],
   "source": [
    "from fairness_multiverse.universe import predict_w_threshold"
   ]
  },
  {
   "cell_type": "code",
   "execution_count": 34,
   "id": "a7cf2e16",
   "metadata": {
    "execution": {
     "iopub.execute_input": "2025-08-05T16:39:51.608492Z",
     "iopub.status.busy": "2025-08-05T16:39:51.608097Z",
     "iopub.status.idle": "2025-08-05T16:39:51.696901Z",
     "shell.execute_reply": "2025-08-05T16:39:51.695898Z"
    },
    "papermill": {
     "duration": 0.101085,
     "end_time": "2025-08-05T16:39:51.698136",
     "exception": false,
     "start_time": "2025-08-05T16:39:51.597051",
     "status": "completed"
    },
    "tags": []
   },
   "outputs": [
    {
     "data": {
      "text/plain": [
       "0.8528592130197302"
      ]
     },
     "execution_count": 34,
     "metadata": {},
     "output_type": "execute_result"
    }
   ],
   "source": [
    "probs_test = model.predict_proba(X_test)\n",
    "\n",
    "'''\n",
    "Below code returns a boolean array (or binary 0/1 array depending on how it’s used) where each element \n",
    "is True if the probability of class 1 is greater than or equal to the threshold, and False otherwise.\n",
    "'''\n",
    "y_pred_default = predict_w_threshold(probs_test, 0.5)\n",
    "\n",
    "from sklearn.metrics import accuracy_score\n",
    "\n",
    "# Naive prediction\n",
    "accuracy_score(y_true = y_true, y_pred = y_pred_default)"
   ]
  },
  {
   "cell_type": "code",
   "execution_count": 35,
   "id": "081964c3",
   "metadata": {
    "execution": {
     "iopub.execute_input": "2025-08-05T16:39:51.753407Z",
     "iopub.status.busy": "2025-08-05T16:39:51.752423Z",
     "iopub.status.idle": "2025-08-05T16:39:51.838390Z",
     "shell.execute_reply": "2025-08-05T16:39:51.837551Z"
    },
    "papermill": {
     "duration": 0.125919,
     "end_time": "2025-08-05T16:39:51.839964",
     "exception": false,
     "start_time": "2025-08-05T16:39:51.714045",
     "status": "completed"
    },
    "tags": []
   },
   "outputs": [
    {
     "data": {
      "text/plain": [
       "array([0, 0, 0, ..., 0, 0, 0])"
      ]
     },
     "execution_count": 35,
     "metadata": {},
     "output_type": "execute_result"
    }
   ],
   "source": [
    "model.predict(X_test)"
   ]
  },
  {
   "cell_type": "markdown",
   "id": "56c9705b",
   "metadata": {
    "papermill": {
     "duration": 0.019812,
     "end_time": "2025-08-05T16:39:51.881697",
     "exception": false,
     "start_time": "2025-08-05T16:39:51.861885",
     "status": "completed"
    },
    "tags": []
   },
   "source": [
    "# Conformal Prediction"
   ]
  },
  {
   "cell_type": "code",
   "execution_count": 36,
   "id": "160ec6ff",
   "metadata": {
    "execution": {
     "iopub.execute_input": "2025-08-05T16:39:51.922524Z",
     "iopub.status.busy": "2025-08-05T16:39:51.922007Z",
     "iopub.status.idle": "2025-08-05T16:39:51.927392Z",
     "shell.execute_reply": "2025-08-05T16:39:51.926279Z"
    },
    "papermill": {
     "duration": 0.028542,
     "end_time": "2025-08-05T16:39:51.929295",
     "exception": false,
     "start_time": "2025-08-05T16:39:51.900753",
     "status": "completed"
    },
    "tags": []
   },
   "outputs": [],
   "source": [
    "# Miscoverage level for conformal prediction (10% allowed error rate => 90% target coverage)\n",
    "alpha = 0.1"
   ]
  },
  {
   "cell_type": "code",
   "execution_count": 37,
   "id": "eadf4555-3dd3-440e-8e35-f82a4ad9f855",
   "metadata": {
    "execution": {
     "iopub.execute_input": "2025-08-05T16:39:51.969390Z",
     "iopub.status.busy": "2025-08-05T16:39:51.968734Z",
     "iopub.status.idle": "2025-08-05T16:39:52.054381Z",
     "shell.execute_reply": "2025-08-05T16:39:52.053306Z"
    },
    "papermill": {
     "duration": 0.106968,
     "end_time": "2025-08-05T16:39:52.056118",
     "exception": false,
     "start_time": "2025-08-05T16:39:51.949150",
     "status": "completed"
    },
    "tags": []
   },
   "outputs": [],
   "source": [
    "probs_calib = model.predict_proba(X_calib)"
   ]
  },
  {
   "cell_type": "code",
   "execution_count": 38,
   "id": "2ed93547-6d5d-4983-9b36-1ecb300da49a",
   "metadata": {
    "execution": {
     "iopub.execute_input": "2025-08-05T16:39:52.097899Z",
     "iopub.status.busy": "2025-08-05T16:39:52.097469Z",
     "iopub.status.idle": "2025-08-05T16:39:52.104039Z",
     "shell.execute_reply": "2025-08-05T16:39:52.102895Z"
    },
    "papermill": {
     "duration": 0.029271,
     "end_time": "2025-08-05T16:39:52.106065",
     "exception": false,
     "start_time": "2025-08-05T16:39:52.076794",
     "status": "completed"
    },
    "tags": []
   },
   "outputs": [],
   "source": [
    "y_calib = y_calib.values.ravel().astype(int)"
   ]
  },
  {
   "cell_type": "code",
   "execution_count": 39,
   "id": "65d1320d-f588-4b38-9072-62af1ae97f7d",
   "metadata": {
    "execution": {
     "iopub.execute_input": "2025-08-05T16:39:52.147054Z",
     "iopub.status.busy": "2025-08-05T16:39:52.146077Z",
     "iopub.status.idle": "2025-08-05T16:39:52.153275Z",
     "shell.execute_reply": "2025-08-05T16:39:52.152117Z"
    },
    "papermill": {
     "duration": 0.028245,
     "end_time": "2025-08-05T16:39:52.155121",
     "exception": false,
     "start_time": "2025-08-05T16:39:52.126876",
     "status": "completed"
    },
    "tags": []
   },
   "outputs": [],
   "source": [
    "from fairness_multiverse.conformal import compute_nc_scores\n",
    "\n",
    "# Compute nonconformity scores on calibration set (1 - probability of true class)\n",
    "nc_scores = compute_nc_scores(probs_calib, y_calib)"
   ]
  },
  {
   "cell_type": "code",
   "execution_count": 40,
   "id": "df3b8ca3-53b7-43d5-9667-7c85da7aeda2",
   "metadata": {
    "execution": {
     "iopub.execute_input": "2025-08-05T16:39:52.197584Z",
     "iopub.status.busy": "2025-08-05T16:39:52.196884Z",
     "iopub.status.idle": "2025-08-05T16:39:52.203089Z",
     "shell.execute_reply": "2025-08-05T16:39:52.202095Z"
    },
    "papermill": {
     "duration": 0.028435,
     "end_time": "2025-08-05T16:39:52.204976",
     "exception": false,
     "start_time": "2025-08-05T16:39:52.176541",
     "status": "completed"
    },
    "tags": []
   },
   "outputs": [],
   "source": [
    "from fairness_multiverse.conformal import find_threshold\n",
    "\n",
    "# Find conformal threshold q_hat for the given alpha (split conformal method)\n",
    "q_hat = find_threshold(nc_scores, alpha)"
   ]
  },
  {
   "cell_type": "code",
   "execution_count": 41,
   "id": "4d29e6c1-0ef6-4aa4-b8fe-4fe79b0d033a",
   "metadata": {
    "execution": {
     "iopub.execute_input": "2025-08-05T16:39:52.246883Z",
     "iopub.status.busy": "2025-08-05T16:39:52.246137Z",
     "iopub.status.idle": "2025-08-05T16:39:52.254152Z",
     "shell.execute_reply": "2025-08-05T16:39:52.252924Z"
    },
    "papermill": {
     "duration": 0.030269,
     "end_time": "2025-08-05T16:39:52.256089",
     "exception": false,
     "start_time": "2025-08-05T16:39:52.225820",
     "status": "completed"
    },
    "tags": []
   },
   "outputs": [
    {
     "data": {
      "text/plain": [
       "0.6976114561948996"
      ]
     },
     "execution_count": 41,
     "metadata": {},
     "output_type": "execute_result"
    }
   ],
   "source": [
    "q_hat"
   ]
  },
  {
   "cell_type": "code",
   "execution_count": 42,
   "id": "92460794-cdac-4be2-ba28-f28c0515a6fb",
   "metadata": {
    "execution": {
     "iopub.execute_input": "2025-08-05T16:39:52.301453Z",
     "iopub.status.busy": "2025-08-05T16:39:52.300611Z",
     "iopub.status.idle": "2025-08-05T16:39:53.276179Z",
     "shell.execute_reply": "2025-08-05T16:39:53.275243Z"
    },
    "papermill": {
     "duration": 1.000332,
     "end_time": "2025-08-05T16:39:53.278510",
     "exception": false,
     "start_time": "2025-08-05T16:39:52.278178",
     "status": "completed"
    },
    "tags": []
   },
   "outputs": [],
   "source": [
    "from fairness_multiverse.conformal import predict_conformal_sets\n",
    "\n",
    "# Generate prediction sets for each test example\n",
    "pred_sets = predict_conformal_sets(model, X_test, q_hat)"
   ]
  },
  {
   "cell_type": "code",
   "execution_count": 43,
   "id": "d90c9a65-e6db-4f5d-80cd-e68fb7e46829",
   "metadata": {
    "execution": {
     "iopub.execute_input": "2025-08-05T16:39:53.325530Z",
     "iopub.status.busy": "2025-08-05T16:39:53.325201Z",
     "iopub.status.idle": "2025-08-05T16:39:53.330442Z",
     "shell.execute_reply": "2025-08-05T16:39:53.329480Z"
    },
    "papermill": {
     "duration": 0.030561,
     "end_time": "2025-08-05T16:39:53.332543",
     "exception": false,
     "start_time": "2025-08-05T16:39:53.301982",
     "status": "completed"
    },
    "tags": []
   },
   "outputs": [],
   "source": [
    "y_true = y_true.squeeze()"
   ]
  },
  {
   "cell_type": "code",
   "execution_count": 44,
   "id": "3a58a54a-1e68-46b9-927a-df01f18aebc8",
   "metadata": {
    "execution": {
     "iopub.execute_input": "2025-08-05T16:39:53.379327Z",
     "iopub.status.busy": "2025-08-05T16:39:53.379002Z",
     "iopub.status.idle": "2025-08-05T16:39:54.261498Z",
     "shell.execute_reply": "2025-08-05T16:39:54.260534Z"
    },
    "papermill": {
     "duration": 0.907513,
     "end_time": "2025-08-05T16:39:54.263390",
     "exception": false,
     "start_time": "2025-08-05T16:39:53.355877",
     "status": "completed"
    },
    "tags": []
   },
   "outputs": [],
   "source": [
    "from fairness_multiverse.conformal import evaluate_sets\n",
    "\n",
    "# Evaluate coverage and average set size on test data\n",
    "metrics = evaluate_sets(pred_sets, y_true)"
   ]
  },
  {
   "cell_type": "markdown",
   "id": "2b569c12-9aaa-4c88-98c9-bbcd0cf3ebb8",
   "metadata": {
    "papermill": {
     "duration": 0.018298,
     "end_time": "2025-08-05T16:39:54.301221",
     "exception": false,
     "start_time": "2025-08-05T16:39:54.282923",
     "status": "completed"
    },
    "tags": []
   },
   "source": [
    "# CP Metrics"
   ]
  },
  {
   "cell_type": "code",
   "execution_count": 45,
   "id": "5ce0a5cb-201f-45a0-ade5-94c7f0bd6095",
   "metadata": {
    "execution": {
     "iopub.execute_input": "2025-08-05T16:39:54.340252Z",
     "iopub.status.busy": "2025-08-05T16:39:54.339391Z",
     "iopub.status.idle": "2025-08-05T16:39:54.346734Z",
     "shell.execute_reply": "2025-08-05T16:39:54.345611Z"
    },
    "papermill": {
     "duration": 0.028507,
     "end_time": "2025-08-05T16:39:54.348554",
     "exception": false,
     "start_time": "2025-08-05T16:39:54.320047",
     "status": "completed"
    },
    "tags": []
   },
   "outputs": [
    {
     "data": {
      "text/plain": [
       "{'coverage': 0.9119830565154387, 'avg_size': 1.2413443317355926}"
      ]
     },
     "execution_count": 45,
     "metadata": {},
     "output_type": "execute_result"
    }
   ],
   "source": [
    "metrics"
   ]
  },
  {
   "cell_type": "code",
   "execution_count": 46,
   "id": "9b9a838d-31c9-430b-ae14-12baee460d17",
   "metadata": {
    "execution": {
     "iopub.execute_input": "2025-08-05T16:39:54.388588Z",
     "iopub.status.busy": "2025-08-05T16:39:54.387886Z",
     "iopub.status.idle": "2025-08-05T16:39:54.394195Z",
     "shell.execute_reply": "2025-08-05T16:39:54.393028Z"
    },
    "papermill": {
     "duration": 0.027769,
     "end_time": "2025-08-05T16:39:54.396054",
     "exception": false,
     "start_time": "2025-08-05T16:39:54.368285",
     "status": "completed"
    },
    "tags": []
   },
   "outputs": [],
   "source": [
    "example_universe = universe.copy()\n",
    "universe_training_year = example_universe.get(\"training_year\")\n",
    "universe_training_size = example_universe.get(\"training_size\")\n",
    "universe_scale = example_universe.get(\"scale\")\n",
    "universe_model = example_universe.get(\"model\")\n",
    "universe_exclude_features = example_universe.get(\"exclude_features\")\n",
    "universe_exclude_subgroups = example_universe.get(\"exclude_subgroups\")"
   ]
  },
  {
   "cell_type": "code",
   "execution_count": 47,
   "id": "f4b6a8ac-9dc0-4245-8a91-5b3b5999c4f9",
   "metadata": {
    "execution": {
     "iopub.execute_input": "2025-08-05T16:39:54.448502Z",
     "iopub.status.busy": "2025-08-05T16:39:54.448117Z",
     "iopub.status.idle": "2025-08-05T16:39:54.455351Z",
     "shell.execute_reply": "2025-08-05T16:39:54.454097Z"
    },
    "papermill": {
     "duration": 0.037523,
     "end_time": "2025-08-05T16:39:54.458182",
     "exception": false,
     "start_time": "2025-08-05T16:39:54.420659",
     "status": "completed"
    },
    "tags": []
   },
   "outputs": [],
   "source": [
    "cp_metrics_dict = {\n",
    "    \"universe_id\": [universe_id],\n",
    "    \"universe_training_year\": [universe_training_year],\n",
    "    \"universe_training_size\": [universe_training_size],\n",
    "    \"universe_scale\": [universe_scale],\n",
    "    \"universe_model\": [universe_model],\n",
    "    \"universe_exclude_features\": [universe_exclude_features],\n",
    "    \"universe_exclude_subgroups\": [universe_exclude_subgroups],\n",
    "    \"q_hat\": [q_hat],\n",
    "    \"coverage\": [metrics[\"coverage\"]],\n",
    "    \"avg_size\": [metrics[\"avg_size\"]],\n",
    "}"
   ]
  },
  {
   "cell_type": "code",
   "execution_count": 48,
   "id": "908acbb1-0371-4915-85ca-3fa520d2efe2",
   "metadata": {
    "execution": {
     "iopub.execute_input": "2025-08-05T16:39:54.507986Z",
     "iopub.status.busy": "2025-08-05T16:39:54.507527Z",
     "iopub.status.idle": "2025-08-05T16:39:54.515180Z",
     "shell.execute_reply": "2025-08-05T16:39:54.513902Z"
    },
    "papermill": {
     "duration": 0.030049,
     "end_time": "2025-08-05T16:39:54.517220",
     "exception": false,
     "start_time": "2025-08-05T16:39:54.487171",
     "status": "completed"
    },
    "tags": []
   },
   "outputs": [
    {
     "data": {
      "text/plain": [
       "{'universe_id': ['04a5e0e4364d640f6e9b4ea8aeae036c'],\n",
       " 'universe_training_year': ['2010_14'],\n",
       " 'universe_training_size': ['1k'],\n",
       " 'universe_scale': ['do-not-scale'],\n",
       " 'universe_model': ['penalized_logreg'],\n",
       " 'universe_exclude_features': ['none'],\n",
       " 'universe_exclude_subgroups': ['drop-non-german'],\n",
       " 'q_hat': [0.6976114561948996],\n",
       " 'coverage': [0.9119830565154387],\n",
       " 'avg_size': [1.2413443317355926]}"
      ]
     },
     "execution_count": 48,
     "metadata": {},
     "output_type": "execute_result"
    }
   ],
   "source": [
    "cp_metrics_dict"
   ]
  },
  {
   "cell_type": "code",
   "execution_count": 49,
   "id": "33007efc-14e9-4ec6-97ac-56a455c82265",
   "metadata": {
    "execution": {
     "iopub.execute_input": "2025-08-05T16:39:54.557997Z",
     "iopub.status.busy": "2025-08-05T16:39:54.557637Z",
     "iopub.status.idle": "2025-08-05T16:39:54.562994Z",
     "shell.execute_reply": "2025-08-05T16:39:54.562045Z"
    },
    "papermill": {
     "duration": 0.027,
     "end_time": "2025-08-05T16:39:54.564810",
     "exception": false,
     "start_time": "2025-08-05T16:39:54.537810",
     "status": "completed"
    },
    "tags": []
   },
   "outputs": [],
   "source": [
    "cp_metrics_df = pd.DataFrame(cp_metrics_dict)"
   ]
  },
  {
   "cell_type": "code",
   "execution_count": 50,
   "id": "db12611b-57b2-4910-b9d0-355adfd6e7bf",
   "metadata": {
    "execution": {
     "iopub.execute_input": "2025-08-05T16:39:54.606212Z",
     "iopub.status.busy": "2025-08-05T16:39:54.605833Z",
     "iopub.status.idle": "2025-08-05T16:39:54.623684Z",
     "shell.execute_reply": "2025-08-05T16:39:54.622655Z"
    },
    "papermill": {
     "duration": 0.03961,
     "end_time": "2025-08-05T16:39:54.625291",
     "exception": false,
     "start_time": "2025-08-05T16:39:54.585681",
     "status": "completed"
    },
    "tags": []
   },
   "outputs": [
    {
     "data": {
      "text/html": [
       "<div>\n",
       "<style scoped>\n",
       "    .dataframe tbody tr th:only-of-type {\n",
       "        vertical-align: middle;\n",
       "    }\n",
       "\n",
       "    .dataframe tbody tr th {\n",
       "        vertical-align: top;\n",
       "    }\n",
       "\n",
       "    .dataframe thead th {\n",
       "        text-align: right;\n",
       "    }\n",
       "</style>\n",
       "<table border=\"1\" class=\"dataframe\">\n",
       "  <thead>\n",
       "    <tr style=\"text-align: right;\">\n",
       "      <th></th>\n",
       "      <th>universe_id</th>\n",
       "      <th>universe_training_year</th>\n",
       "      <th>universe_training_size</th>\n",
       "      <th>universe_scale</th>\n",
       "      <th>universe_model</th>\n",
       "      <th>universe_exclude_features</th>\n",
       "      <th>universe_exclude_subgroups</th>\n",
       "      <th>q_hat</th>\n",
       "      <th>coverage</th>\n",
       "      <th>avg_size</th>\n",
       "    </tr>\n",
       "  </thead>\n",
       "  <tbody>\n",
       "    <tr>\n",
       "      <th>0</th>\n",
       "      <td>04a5e0e4364d640f6e9b4ea8aeae036c</td>\n",
       "      <td>2010_14</td>\n",
       "      <td>1k</td>\n",
       "      <td>do-not-scale</td>\n",
       "      <td>penalized_logreg</td>\n",
       "      <td>none</td>\n",
       "      <td>drop-non-german</td>\n",
       "      <td>0.697611</td>\n",
       "      <td>0.911983</td>\n",
       "      <td>1.241344</td>\n",
       "    </tr>\n",
       "  </tbody>\n",
       "</table>\n",
       "</div>"
      ],
      "text/plain": [
       "                        universe_id universe_training_year  \\\n",
       "0  04a5e0e4364d640f6e9b4ea8aeae036c                2010_14   \n",
       "\n",
       "  universe_training_size universe_scale    universe_model  \\\n",
       "0                     1k   do-not-scale  penalized_logreg   \n",
       "\n",
       "  universe_exclude_features universe_exclude_subgroups     q_hat  coverage  \\\n",
       "0                      none            drop-non-german  0.697611  0.911983   \n",
       "\n",
       "   avg_size  \n",
       "0  1.241344  "
      ]
     },
     "execution_count": 50,
     "metadata": {},
     "output_type": "execute_result"
    }
   ],
   "source": [
    "cp_metrics_df"
   ]
  },
  {
   "cell_type": "code",
   "execution_count": 51,
   "id": "b7fbde55-a0a1-47e4-9af6-fe4a17fa8c61",
   "metadata": {
    "execution": {
     "iopub.execute_input": "2025-08-05T16:39:54.666992Z",
     "iopub.status.busy": "2025-08-05T16:39:54.666545Z",
     "iopub.status.idle": "2025-08-05T16:39:54.670978Z",
     "shell.execute_reply": "2025-08-05T16:39:54.669868Z"
    },
    "papermill": {
     "duration": 0.02712,
     "end_time": "2025-08-05T16:39:54.672766",
     "exception": false,
     "start_time": "2025-08-05T16:39:54.645646",
     "status": "completed"
    },
    "tags": []
   },
   "outputs": [],
   "source": [
    "# Conditional Coverage & looking at subgroups"
   ]
  },
  {
   "cell_type": "code",
   "execution_count": 52,
   "id": "027ae886-68dd-4141-96c7-805a5450e1ef",
   "metadata": {
    "execution": {
     "iopub.execute_input": "2025-08-05T16:39:54.715611Z",
     "iopub.status.busy": "2025-08-05T16:39:54.715149Z",
     "iopub.status.idle": "2025-08-05T16:39:54.998794Z",
     "shell.execute_reply": "2025-08-05T16:39:54.997824Z"
    },
    "papermill": {
     "duration": 0.306977,
     "end_time": "2025-08-05T16:39:55.000648",
     "exception": false,
     "start_time": "2025-08-05T16:39:54.693671",
     "status": "completed"
    },
    "tags": []
   },
   "outputs": [],
   "source": [
    "from fairness_multiverse.conformal import build_cp_groups\n",
    "\n",
    "cp_groups_df = build_cp_groups(pred_sets, y_true, X_test.index, org_test)\n",
    "#needs universe_id and setting"
   ]
  },
  {
   "cell_type": "code",
   "execution_count": 53,
   "id": "6cbdab96-b2b2-45af-ad54-d0516db2e28d",
   "metadata": {
    "execution": {
     "iopub.execute_input": "2025-08-05T16:39:55.064551Z",
     "iopub.status.busy": "2025-08-05T16:39:55.063881Z",
     "iopub.status.idle": "2025-08-05T16:39:56.600235Z",
     "shell.execute_reply": "2025-08-05T16:39:56.599172Z"
    },
    "papermill": {
     "duration": 1.56543,
     "end_time": "2025-08-05T16:39:56.602318",
     "exception": false,
     "start_time": "2025-08-05T16:39:55.036888",
     "status": "completed"
    },
    "tags": []
   },
   "outputs": [],
   "source": [
    "# Define covered = 1 if true_label is in the predicted set\n",
    "cp_groups_df['covered'] = cp_groups_df.apply(\n",
    "    lambda r: int(r['true_label'] in r['pred_set']),\n",
    "    axis=1\n",
    ")"
   ]
  },
  {
   "cell_type": "code",
   "execution_count": 54,
   "id": "338ff529-1a6b-4b87-a931-8e4788d52aad",
   "metadata": {
    "execution": {
     "iopub.execute_input": "2025-08-05T16:39:56.653102Z",
     "iopub.status.busy": "2025-08-05T16:39:56.652295Z",
     "iopub.status.idle": "2025-08-05T16:39:56.657752Z",
     "shell.execute_reply": "2025-08-05T16:39:56.656671Z"
    },
    "papermill": {
     "duration": 0.032022,
     "end_time": "2025-08-05T16:39:56.659534",
     "exception": false,
     "start_time": "2025-08-05T16:39:56.627512",
     "status": "completed"
    },
    "tags": []
   },
   "outputs": [],
   "source": [
    "#cp_groups_df"
   ]
  },
  {
   "cell_type": "code",
   "execution_count": 55,
   "id": "90032e27-66df-4540-9169-4e89cfbaa758",
   "metadata": {
    "execution": {
     "iopub.execute_input": "2025-08-05T16:39:56.702955Z",
     "iopub.status.busy": "2025-08-05T16:39:56.702321Z",
     "iopub.status.idle": "2025-08-05T16:39:56.714354Z",
     "shell.execute_reply": "2025-08-05T16:39:56.713375Z"
    },
    "papermill": {
     "duration": 0.035612,
     "end_time": "2025-08-05T16:39:56.716488",
     "exception": false,
     "start_time": "2025-08-05T16:39:56.680876",
     "status": "completed"
    },
    "tags": []
   },
   "outputs": [],
   "source": [
    "subgroups = ['frau1','nongerman','nongerman_male','nongerman_female']\n",
    "\n",
    "# Conditional coverage for subgroup==1\n",
    "cond_coverage = {\n",
    "    g: cp_groups_df.loc[cp_groups_df[g]==1, 'covered'].mean()\n",
    "    for g in subgroups\n",
    "}"
   ]
  },
  {
   "cell_type": "code",
   "execution_count": 56,
   "id": "1e348fb1-b9c3-45bc-ba23-f016827a7e0d",
   "metadata": {
    "execution": {
     "iopub.execute_input": "2025-08-05T16:39:56.758912Z",
     "iopub.status.busy": "2025-08-05T16:39:56.758598Z",
     "iopub.status.idle": "2025-08-05T16:39:56.766064Z",
     "shell.execute_reply": "2025-08-05T16:39:56.764909Z"
    },
    "papermill": {
     "duration": 0.030841,
     "end_time": "2025-08-05T16:39:56.768838",
     "exception": false,
     "start_time": "2025-08-05T16:39:56.737997",
     "status": "completed"
    },
    "tags": []
   },
   "outputs": [
    {
     "data": {
      "text/plain": [
       "{'frau1': 0.9121714516781237,\n",
       " 'nongerman': 0.934991298489867,\n",
       " 'nongerman_male': 0.9474916689183104,\n",
       " 'nongerman_female': 0.9143070044709389}"
      ]
     },
     "execution_count": 56,
     "metadata": {},
     "output_type": "execute_result"
    }
   ],
   "source": [
    "cond_coverage"
   ]
  },
  {
   "cell_type": "code",
   "execution_count": 57,
   "id": "f5093324-c3dd-4d63-bc4c-8d945e5c8bbb",
   "metadata": {
    "execution": {
     "iopub.execute_input": "2025-08-05T16:39:56.819811Z",
     "iopub.status.busy": "2025-08-05T16:39:56.818822Z",
     "iopub.status.idle": "2025-08-05T16:39:56.827261Z",
     "shell.execute_reply": "2025-08-05T16:39:56.825857Z"
    },
    "papermill": {
     "duration": 0.034939,
     "end_time": "2025-08-05T16:39:56.829275",
     "exception": false,
     "start_time": "2025-08-05T16:39:56.794336",
     "status": "completed"
    },
    "tags": []
   },
   "outputs": [],
   "source": [
    "for subgroup, cov in cond_coverage.items():\n",
    "    cp_metrics_df[f\"cov_{subgroup}\"] = cov"
   ]
  },
  {
   "cell_type": "code",
   "execution_count": 58,
   "id": "6e872e10-dbe5-49e8-b554-5030c98ff75d",
   "metadata": {
    "execution": {
     "iopub.execute_input": "2025-08-05T16:39:56.880364Z",
     "iopub.status.busy": "2025-08-05T16:39:56.879604Z",
     "iopub.status.idle": "2025-08-05T16:39:56.896215Z",
     "shell.execute_reply": "2025-08-05T16:39:56.895392Z"
    },
    "papermill": {
     "duration": 0.042388,
     "end_time": "2025-08-05T16:39:56.897505",
     "exception": false,
     "start_time": "2025-08-05T16:39:56.855117",
     "status": "completed"
    },
    "tags": []
   },
   "outputs": [
    {
     "data": {
      "text/html": [
       "<div>\n",
       "<style scoped>\n",
       "    .dataframe tbody tr th:only-of-type {\n",
       "        vertical-align: middle;\n",
       "    }\n",
       "\n",
       "    .dataframe tbody tr th {\n",
       "        vertical-align: top;\n",
       "    }\n",
       "\n",
       "    .dataframe thead th {\n",
       "        text-align: right;\n",
       "    }\n",
       "</style>\n",
       "<table border=\"1\" class=\"dataframe\">\n",
       "  <thead>\n",
       "    <tr style=\"text-align: right;\">\n",
       "      <th></th>\n",
       "      <th>universe_id</th>\n",
       "      <th>universe_training_year</th>\n",
       "      <th>universe_training_size</th>\n",
       "      <th>universe_scale</th>\n",
       "      <th>universe_model</th>\n",
       "      <th>universe_exclude_features</th>\n",
       "      <th>universe_exclude_subgroups</th>\n",
       "      <th>q_hat</th>\n",
       "      <th>coverage</th>\n",
       "      <th>avg_size</th>\n",
       "      <th>cov_frau1</th>\n",
       "      <th>cov_nongerman</th>\n",
       "      <th>cov_nongerman_male</th>\n",
       "      <th>cov_nongerman_female</th>\n",
       "    </tr>\n",
       "  </thead>\n",
       "  <tbody>\n",
       "    <tr>\n",
       "      <th>0</th>\n",
       "      <td>04a5e0e4364d640f6e9b4ea8aeae036c</td>\n",
       "      <td>2010_14</td>\n",
       "      <td>1k</td>\n",
       "      <td>do-not-scale</td>\n",
       "      <td>penalized_logreg</td>\n",
       "      <td>none</td>\n",
       "      <td>drop-non-german</td>\n",
       "      <td>0.697611</td>\n",
       "      <td>0.911983</td>\n",
       "      <td>1.241344</td>\n",
       "      <td>0.912171</td>\n",
       "      <td>0.934991</td>\n",
       "      <td>0.947492</td>\n",
       "      <td>0.914307</td>\n",
       "    </tr>\n",
       "  </tbody>\n",
       "</table>\n",
       "</div>"
      ],
      "text/plain": [
       "                        universe_id universe_training_year  \\\n",
       "0  04a5e0e4364d640f6e9b4ea8aeae036c                2010_14   \n",
       "\n",
       "  universe_training_size universe_scale    universe_model  \\\n",
       "0                     1k   do-not-scale  penalized_logreg   \n",
       "\n",
       "  universe_exclude_features universe_exclude_subgroups     q_hat  coverage  \\\n",
       "0                      none            drop-non-german  0.697611  0.911983   \n",
       "\n",
       "   avg_size  cov_frau1  cov_nongerman  cov_nongerman_male  \\\n",
       "0  1.241344   0.912171       0.934991            0.947492   \n",
       "\n",
       "   cov_nongerman_female  \n",
       "0              0.914307  "
      ]
     },
     "execution_count": 58,
     "metadata": {},
     "output_type": "execute_result"
    }
   ],
   "source": [
    "cp_metrics_df"
   ]
  },
  {
   "cell_type": "markdown",
   "id": "33774451",
   "metadata": {
    "papermill": {
     "duration": 0.011478,
     "end_time": "2025-08-05T16:39:56.921902",
     "exception": false,
     "start_time": "2025-08-05T16:39:56.910424",
     "status": "completed"
    },
    "tags": []
   },
   "source": [
    "# (Fairness) Metrics"
   ]
  },
  {
   "cell_type": "code",
   "execution_count": 59,
   "id": "debc5d62",
   "metadata": {
    "execution": {
     "iopub.execute_input": "2025-08-05T16:39:56.958011Z",
     "iopub.status.busy": "2025-08-05T16:39:56.957680Z",
     "iopub.status.idle": "2025-08-05T16:39:56.971453Z",
     "shell.execute_reply": "2025-08-05T16:39:56.970689Z"
    },
    "papermill": {
     "duration": 0.038987,
     "end_time": "2025-08-05T16:39:56.972750",
     "exception": false,
     "start_time": "2025-08-05T16:39:56.933763",
     "status": "completed"
    },
    "tags": []
   },
   "outputs": [],
   "source": [
    "# do I need to include maxdeutsch1.missing?\n",
    "\n",
    "import numpy as np\n",
    "\n",
    "colname_to_bin = \"maxdeutsch1\"\n",
    "majority_value = org_train[colname_to_bin].mode()[0]\n",
    "\n",
    "org_test[\"majmin\"] = np.where(org_test[colname_to_bin] == majority_value, \"majority\", \"minority\")"
   ]
  },
  {
   "cell_type": "code",
   "execution_count": 60,
   "id": "06a50de5",
   "metadata": {
    "execution": {
     "iopub.execute_input": "2025-08-05T16:39:56.996838Z",
     "iopub.status.busy": "2025-08-05T16:39:56.996334Z",
     "iopub.status.idle": "2025-08-05T16:39:59.693287Z",
     "shell.execute_reply": "2025-08-05T16:39:59.692460Z"
    },
    "papermill": {
     "duration": 2.710099,
     "end_time": "2025-08-05T16:39:59.694709",
     "exception": false,
     "start_time": "2025-08-05T16:39:56.984610",
     "status": "completed"
    },
    "tags": []
   },
   "outputs": [],
   "source": [
    "example_universe = universe.copy()\n",
    "example_universe[\"cutoff\"] = example_universe[\"cutoff\"][0]\n",
    "example_universe[\"eval_fairness_grouping\"] = example_universe[\"eval_fairness_grouping\"][0]\n",
    "fairness_dict, metric_frame = universe_analysis.compute_metrics(\n",
    "    example_universe,\n",
    "    y_pred_prob=probs_test,\n",
    "    y_test=y_true,\n",
    "    org_test=org_test,\n",
    ")"
   ]
  },
  {
   "cell_type": "markdown",
   "id": "f95d4e02",
   "metadata": {
    "papermill": {
     "duration": 0.011201,
     "end_time": "2025-08-05T16:39:59.717966",
     "exception": false,
     "start_time": "2025-08-05T16:39:59.706765",
     "status": "completed"
    },
    "tags": []
   },
   "source": [
    "# Overall"
   ]
  },
  {
   "cell_type": "markdown",
   "id": "bdee4871",
   "metadata": {
    "papermill": {
     "duration": 0.012727,
     "end_time": "2025-08-05T16:39:59.742148",
     "exception": false,
     "start_time": "2025-08-05T16:39:59.729421",
     "status": "completed"
    },
    "tags": []
   },
   "source": [
    "Fairness\n",
    "Main fairness target: Equalized Odds. Seems to be a better fit than equal opportunity, since we're not only interested in Y = 1. Seems to be a better fit than demographic parity, since we also care about accuracy, not just equal distribution of preds.\n",
    "\n",
    "Pick column for computation of fairness metrics\n",
    "\n",
    "Performance\n",
    "Overall performance measures, most interesting in relation to the measures split by group below"
   ]
  },
  {
   "cell_type": "code",
   "execution_count": 61,
   "id": "c4e067c6",
   "metadata": {
    "execution": {
     "iopub.execute_input": "2025-08-05T16:39:59.766164Z",
     "iopub.status.busy": "2025-08-05T16:39:59.765665Z",
     "iopub.status.idle": "2025-08-05T16:39:59.774812Z",
     "shell.execute_reply": "2025-08-05T16:39:59.773756Z"
    },
    "papermill": {
     "duration": 0.023507,
     "end_time": "2025-08-05T16:39:59.776666",
     "exception": false,
     "start_time": "2025-08-05T16:39:59.753159",
     "status": "completed"
    },
    "tags": []
   },
   "outputs": [
    {
     "data": {
      "text/plain": [
       "accuracy                   0.213009\n",
       "balanced accuracy          0.523216\n",
       "f1                         0.234653\n",
       "precision                  0.134049\n",
       "false positive rate        0.894044\n",
       "false negative rate        0.059524\n",
       "selection rate             0.900000\n",
       "count                  89710.000000\n",
       "dtype: float64"
      ]
     },
     "execution_count": 61,
     "metadata": {},
     "output_type": "execute_result"
    }
   ],
   "source": [
    "metric_frame.overall"
   ]
  },
  {
   "cell_type": "markdown",
   "id": "e968fe9d",
   "metadata": {
    "papermill": {
     "duration": 0.022974,
     "end_time": "2025-08-05T16:39:59.823476",
     "exception": false,
     "start_time": "2025-08-05T16:39:59.800502",
     "status": "completed"
    },
    "tags": []
   },
   "source": [
    "By Group"
   ]
  },
  {
   "cell_type": "code",
   "execution_count": 62,
   "id": "ec325bce",
   "metadata": {
    "execution": {
     "iopub.execute_input": "2025-08-05T16:39:59.859517Z",
     "iopub.status.busy": "2025-08-05T16:39:59.859056Z",
     "iopub.status.idle": "2025-08-05T16:39:59.874538Z",
     "shell.execute_reply": "2025-08-05T16:39:59.873457Z"
    },
    "papermill": {
     "duration": 0.039374,
     "end_time": "2025-08-05T16:39:59.876444",
     "exception": false,
     "start_time": "2025-08-05T16:39:59.837070",
     "status": "completed"
    },
    "tags": []
   },
   "outputs": [
    {
     "data": {
      "text/html": [
       "<div>\n",
       "<style scoped>\n",
       "    .dataframe tbody tr th:only-of-type {\n",
       "        vertical-align: middle;\n",
       "    }\n",
       "\n",
       "    .dataframe tbody tr th {\n",
       "        vertical-align: top;\n",
       "    }\n",
       "\n",
       "    .dataframe thead th {\n",
       "        text-align: right;\n",
       "    }\n",
       "</style>\n",
       "<table border=\"1\" class=\"dataframe\">\n",
       "  <thead>\n",
       "    <tr style=\"text-align: right;\">\n",
       "      <th></th>\n",
       "      <th>accuracy</th>\n",
       "      <th>balanced accuracy</th>\n",
       "      <th>f1</th>\n",
       "      <th>precision</th>\n",
       "      <th>false positive rate</th>\n",
       "      <th>false negative rate</th>\n",
       "      <th>selection rate</th>\n",
       "      <th>count</th>\n",
       "    </tr>\n",
       "    <tr>\n",
       "      <th>majmin</th>\n",
       "      <th></th>\n",
       "      <th></th>\n",
       "      <th></th>\n",
       "      <th></th>\n",
       "      <th></th>\n",
       "      <th></th>\n",
       "      <th></th>\n",
       "      <th></th>\n",
       "    </tr>\n",
       "  </thead>\n",
       "  <tbody>\n",
       "    <tr>\n",
       "      <th>majority</th>\n",
       "      <td>0.233382</td>\n",
       "      <td>0.528556</td>\n",
       "      <td>0.242720</td>\n",
       "      <td>0.139579</td>\n",
       "      <td>0.872647</td>\n",
       "      <td>0.070241</td>\n",
       "      <td>0.880194</td>\n",
       "      <td>69170.0</td>\n",
       "    </tr>\n",
       "    <tr>\n",
       "      <th>minority</th>\n",
       "      <td>0.144401</td>\n",
       "      <td>0.508558</td>\n",
       "      <td>0.209233</td>\n",
       "      <td>0.117093</td>\n",
       "      <td>0.964726</td>\n",
       "      <td>0.018159</td>\n",
       "      <td>0.966699</td>\n",
       "      <td>20540.0</td>\n",
       "    </tr>\n",
       "  </tbody>\n",
       "</table>\n",
       "</div>"
      ],
      "text/plain": [
       "          accuracy  balanced accuracy        f1  precision  \\\n",
       "majmin                                                       \n",
       "majority  0.233382           0.528556  0.242720   0.139579   \n",
       "minority  0.144401           0.508558  0.209233   0.117093   \n",
       "\n",
       "          false positive rate  false negative rate  selection rate    count  \n",
       "majmin                                                                       \n",
       "majority             0.872647             0.070241        0.880194  69170.0  \n",
       "minority             0.964726             0.018159        0.966699  20540.0  "
      ]
     },
     "execution_count": 62,
     "metadata": {},
     "output_type": "execute_result"
    }
   ],
   "source": [
    "metric_frame.by_group"
   ]
  },
  {
   "cell_type": "code",
   "execution_count": 63,
   "id": "a9ddbe63",
   "metadata": {
    "execution": {
     "iopub.execute_input": "2025-08-05T16:39:59.929956Z",
     "iopub.status.busy": "2025-08-05T16:39:59.929655Z",
     "iopub.status.idle": "2025-08-05T16:40:01.900227Z",
     "shell.execute_reply": "2025-08-05T16:40:01.899330Z"
    },
    "papermill": {
     "duration": 1.99952,
     "end_time": "2025-08-05T16:40:01.901898",
     "exception": false,
     "start_time": "2025-08-05T16:39:59.902378",
     "status": "completed"
    },
    "tags": []
   },
   "outputs": [
    {
     "data": {
      "text/plain": [
       "array([[<Axes: title={'center': 'accuracy'}, xlabel='majmin'>,\n",
       "        <Axes: title={'center': 'balanced accuracy'}, xlabel='majmin'>,\n",
       "        <Axes: title={'center': 'f1'}, xlabel='majmin'>],\n",
       "       [<Axes: title={'center': 'precision'}, xlabel='majmin'>,\n",
       "        <Axes: title={'center': 'false positive rate'}, xlabel='majmin'>,\n",
       "        <Axes: title={'center': 'false negative rate'}, xlabel='majmin'>],\n",
       "       [<Axes: title={'center': 'selection rate'}, xlabel='majmin'>,\n",
       "        <Axes: title={'center': 'count'}, xlabel='majmin'>,\n",
       "        <Axes: xlabel='majmin'>]], dtype=object)"
      ]
     },
     "execution_count": 63,
     "metadata": {},
     "output_type": "execute_result"
    },
    {
     "data": {
      "image/png": "[encoded data removed]",
      "text/plain": [
       "<Figure size 1200x800 with 9 Axes>"
      ]
     },
     "metadata": {},
     "output_type": "display_data"
    }
   ],
   "source": [
    "# In a graphic\n",
    "metric_frame.by_group.plot.bar(\n",
    "    subplots=True,\n",
    "    layout=[3, 3],\n",
    "    legend=False,\n",
    "    figsize=[12, 8],\n",
    "    title=\"Show all metrics\",\n",
    ")"
   ]
  },
  {
   "cell_type": "markdown",
   "id": "f57a0bac",
   "metadata": {
    "papermill": {
     "duration": 0.023233,
     "end_time": "2025-08-05T16:40:01.948743",
     "exception": false,
     "start_time": "2025-08-05T16:40:01.925510",
     "status": "completed"
    },
    "tags": []
   },
   "source": [
    "# Final Output"
   ]
  },
  {
   "cell_type": "code",
   "execution_count": 64,
   "id": "96d280a3",
   "metadata": {
    "execution": {
     "iopub.execute_input": "2025-08-05T16:40:01.996390Z",
     "iopub.status.busy": "2025-08-05T16:40:01.995428Z",
     "iopub.status.idle": "2025-08-05T16:40:02.003616Z",
     "shell.execute_reply": "2025-08-05T16:40:02.002422Z"
    },
    "papermill": {
     "duration": 0.034305,
     "end_time": "2025-08-05T16:40:02.005485",
     "exception": false,
     "start_time": "2025-08-05T16:40:01.971180",
     "status": "completed"
    },
    "tags": []
   },
   "outputs": [
    {
     "data": {
      "text/plain": [
       "4"
      ]
     },
     "execution_count": 64,
     "metadata": {},
     "output_type": "execute_result"
    }
   ],
   "source": [
    "sub_universes = universe_analysis.generate_sub_universes()\n",
    "len(sub_universes)"
   ]
  },
  {
   "cell_type": "code",
   "execution_count": 65,
   "id": "92adf7ba",
   "metadata": {
    "execution": {
     "iopub.execute_input": "2025-08-05T16:40:02.066939Z",
     "iopub.status.busy": "2025-08-05T16:40:02.066074Z",
     "iopub.status.idle": "2025-08-05T16:40:02.071387Z",
     "shell.execute_reply": "2025-08-05T16:40:02.070620Z"
    },
    "papermill": {
     "duration": 0.037707,
     "end_time": "2025-08-05T16:40:02.072746",
     "exception": false,
     "start_time": "2025-08-05T16:40:02.035039",
     "status": "completed"
    },
    "tags": []
   },
   "outputs": [],
   "source": [
    "def filter_sub_universe_data(sub_universe, org_test):\n",
    "    # Keep all rows — no filtering\n",
    "    keep_rows_mask = np.ones(org_test.shape[0], dtype=bool)\n",
    "\n",
    "    print(f\"[INFO] Keeping all rows: {keep_rows_mask.sum()} rows retained.\")\n",
    "    return keep_rows_mask"
   ]
  },
  {
   "cell_type": "code",
   "execution_count": 66,
   "id": "4a759155",
   "metadata": {
    "execution": {
     "iopub.execute_input": "2025-08-05T16:40:02.100477Z",
     "iopub.status.busy": "2025-08-05T16:40:02.100078Z",
     "iopub.status.idle": "2025-08-05T16:40:09.818330Z",
     "shell.execute_reply": "2025-08-05T16:40:09.817569Z"
    },
    "papermill": {
     "duration": 7.732653,
     "end_time": "2025-08-05T16:40:09.819541",
     "exception": false,
     "start_time": "2025-08-05T16:40:02.086888",
     "status": "completed"
    },
    "tags": []
   },
   "outputs": [
    {
     "name": "stdout",
     "output_type": "stream",
     "text": [
      "Stopping execution_time clock.\n",
      "[INFO] Keeping all rows: 89710 rows retained.\n"
     ]
    },
    {
     "name": "stdout",
     "output_type": "stream",
     "text": [
      "[INFO] Keeping all rows: 89710 rows retained.\n"
     ]
    },
    {
     "name": "stdout",
     "output_type": "stream",
     "text": [
      "[INFO] Keeping all rows: 89710 rows retained.\n"
     ]
    },
    {
     "name": "stdout",
     "output_type": "stream",
     "text": [
      "[INFO] Keeping all rows: 89710 rows retained.\n"
     ]
    },
    {
     "data": {
      "text/html": [
       "<div>\n",
       "<style scoped>\n",
       "    .dataframe tbody tr th:only-of-type {\n",
       "        vertical-align: middle;\n",
       "    }\n",
       "\n",
       "    .dataframe tbody tr th {\n",
       "        vertical-align: top;\n",
       "    }\n",
       "\n",
       "    .dataframe thead th {\n",
       "        text-align: right;\n",
       "    }\n",
       "</style>\n",
       "<table border=\"1\" class=\"dataframe\">\n",
       "  <thead>\n",
       "    <tr style=\"text-align: right;\">\n",
       "      <th></th>\n",
       "      <th>run_no</th>\n",
       "      <th>universe_id</th>\n",
       "      <th>universe_settings</th>\n",
       "      <th>execution_time</th>\n",
       "      <th>test_size_n</th>\n",
       "      <th>test_size_frac</th>\n",
       "      <th>fair_main_equalized_odds_difference</th>\n",
       "      <th>fair_main_equalized_odds_ratio</th>\n",
       "      <th>fair_main_demographic_parity_difference</th>\n",
       "      <th>fair_main_demographic_parity_ratio</th>\n",
       "      <th>...</th>\n",
       "      <th>perf_grp_precision_0</th>\n",
       "      <th>perf_grp_precision_1</th>\n",
       "      <th>perf_grp_false positive rate_0</th>\n",
       "      <th>perf_grp_false positive rate_1</th>\n",
       "      <th>perf_grp_false negative rate_0</th>\n",
       "      <th>perf_grp_false negative rate_1</th>\n",
       "      <th>perf_grp_selection rate_0</th>\n",
       "      <th>perf_grp_selection rate_1</th>\n",
       "      <th>perf_grp_count_0</th>\n",
       "      <th>perf_grp_count_1</th>\n",
       "    </tr>\n",
       "  </thead>\n",
       "  <tbody>\n",
       "    <tr>\n",
       "      <th>0</th>\n",
       "      <td>15</td>\n",
       "      <td>04a5e0e4364d640f6e9b4ea8aeae036c</td>\n",
       "      <td>{\"cutoff\": \"quantile_0.1\", \"eval_fairness_grou...</td>\n",
       "      <td>24.342354</td>\n",
       "      <td>89710</td>\n",
       "      <td>1.0</td>\n",
       "      <td>0.092079</td>\n",
       "      <td>0.904554</td>\n",
       "      <td>0.086505</td>\n",
       "      <td>0.910515</td>\n",
       "      <td>...</td>\n",
       "      <td>NaN</td>\n",
       "      <td>NaN</td>\n",
       "      <td>NaN</td>\n",
       "      <td>NaN</td>\n",
       "      <td>NaN</td>\n",
       "      <td>NaN</td>\n",
       "      <td>NaN</td>\n",
       "      <td>NaN</td>\n",
       "      <td>NaN</td>\n",
       "      <td>NaN</td>\n",
       "    </tr>\n",
       "    <tr>\n",
       "      <th>0</th>\n",
       "      <td>15</td>\n",
       "      <td>04a5e0e4364d640f6e9b4ea8aeae036c</td>\n",
       "      <td>{\"cutoff\": \"quantile_0.1\", \"eval_fairness_grou...</td>\n",
       "      <td>24.342354</td>\n",
       "      <td>89710</td>\n",
       "      <td>1.0</td>\n",
       "      <td>0.092079</td>\n",
       "      <td>0.904554</td>\n",
       "      <td>0.086505</td>\n",
       "      <td>0.910515</td>\n",
       "      <td>...</td>\n",
       "      <td>0.117093</td>\n",
       "      <td>0.139579</td>\n",
       "      <td>0.964726</td>\n",
       "      <td>0.872647</td>\n",
       "      <td>0.018159</td>\n",
       "      <td>0.070241</td>\n",
       "      <td>0.966699</td>\n",
       "      <td>0.880194</td>\n",
       "      <td>20540.0</td>\n",
       "      <td>69170.0</td>\n",
       "    </tr>\n",
       "    <tr>\n",
       "      <th>0</th>\n",
       "      <td>15</td>\n",
       "      <td>04a5e0e4364d640f6e9b4ea8aeae036c</td>\n",
       "      <td>{\"cutoff\": \"quantile_0.25\", \"eval_fairness_gro...</td>\n",
       "      <td>24.342354</td>\n",
       "      <td>89710</td>\n",
       "      <td>1.0</td>\n",
       "      <td>0.208257</td>\n",
       "      <td>0.766680</td>\n",
       "      <td>0.193476</td>\n",
       "      <td>0.784829</td>\n",
       "      <td>...</td>\n",
       "      <td>NaN</td>\n",
       "      <td>NaN</td>\n",
       "      <td>NaN</td>\n",
       "      <td>NaN</td>\n",
       "      <td>NaN</td>\n",
       "      <td>NaN</td>\n",
       "      <td>NaN</td>\n",
       "      <td>NaN</td>\n",
       "      <td>NaN</td>\n",
       "      <td>NaN</td>\n",
       "    </tr>\n",
       "    <tr>\n",
       "      <th>0</th>\n",
       "      <td>15</td>\n",
       "      <td>04a5e0e4364d640f6e9b4ea8aeae036c</td>\n",
       "      <td>{\"cutoff\": \"quantile_0.25\", \"eval_fairness_gro...</td>\n",
       "      <td>24.342354</td>\n",
       "      <td>89710</td>\n",
       "      <td>1.0</td>\n",
       "      <td>0.208257</td>\n",
       "      <td>0.766680</td>\n",
       "      <td>0.193476</td>\n",
       "      <td>0.784829</td>\n",
       "      <td>...</td>\n",
       "      <td>0.121772</td>\n",
       "      <td>0.158421</td>\n",
       "      <td>0.892582</td>\n",
       "      <td>0.684325</td>\n",
       "      <td>0.050253</td>\n",
       "      <td>0.153939</td>\n",
       "      <td>0.899172</td>\n",
       "      <td>0.705696</td>\n",
       "      <td>20540.0</td>\n",
       "      <td>69170.0</td>\n",
       "    </tr>\n",
       "  </tbody>\n",
       "</table>\n",
       "<p>4 rows × 50 columns</p>\n",
       "</div>"
      ],
      "text/plain": [
       "  run_no                       universe_id  \\\n",
       "0     15  04a5e0e4364d640f6e9b4ea8aeae036c   \n",
       "0     15  04a5e0e4364d640f6e9b4ea8aeae036c   \n",
       "0     15  04a5e0e4364d640f6e9b4ea8aeae036c   \n",
       "0     15  04a5e0e4364d640f6e9b4ea8aeae036c   \n",
       "\n",
       "                                   universe_settings  execution_time  \\\n",
       "0  {\"cutoff\": \"quantile_0.1\", \"eval_fairness_grou...       24.342354   \n",
       "0  {\"cutoff\": \"quantile_0.1\", \"eval_fairness_grou...       24.342354   \n",
       "0  {\"cutoff\": \"quantile_0.25\", \"eval_fairness_gro...       24.342354   \n",
       "0  {\"cutoff\": \"quantile_0.25\", \"eval_fairness_gro...       24.342354   \n",
       "\n",
       "   test_size_n  test_size_frac  fair_main_equalized_odds_difference  \\\n",
       "0        89710             1.0                             0.092079   \n",
       "0        89710             1.0                             0.092079   \n",
       "0        89710             1.0                             0.208257   \n",
       "0        89710             1.0                             0.208257   \n",
       "\n",
       "   fair_main_equalized_odds_ratio  fair_main_demographic_parity_difference  \\\n",
       "0                        0.904554                                 0.086505   \n",
       "0                        0.904554                                 0.086505   \n",
       "0                        0.766680                                 0.193476   \n",
       "0                        0.766680                                 0.193476   \n",
       "\n",
       "   fair_main_demographic_parity_ratio  ...  perf_grp_precision_0  \\\n",
       "0                            0.910515  ...                   NaN   \n",
       "0                            0.910515  ...              0.117093   \n",
       "0                            0.784829  ...                   NaN   \n",
       "0                            0.784829  ...              0.121772   \n",
       "\n",
       "   perf_grp_precision_1  perf_grp_false positive rate_0  \\\n",
       "0                   NaN                             NaN   \n",
       "0              0.139579                        0.964726   \n",
       "0                   NaN                             NaN   \n",
       "0              0.158421                        0.892582   \n",
       "\n",
       "   perf_grp_false positive rate_1  perf_grp_false negative rate_0  \\\n",
       "0                             NaN                             NaN   \n",
       "0                        0.872647                        0.018159   \n",
       "0                             NaN                             NaN   \n",
       "0                        0.684325                        0.050253   \n",
       "\n",
       "   perf_grp_false negative rate_1  perf_grp_selection rate_0  \\\n",
       "0                             NaN                        NaN   \n",
       "0                        0.070241                   0.966699   \n",
       "0                             NaN                        NaN   \n",
       "0                        0.153939                   0.899172   \n",
       "\n",
       "   perf_grp_selection rate_1  perf_grp_count_0  perf_grp_count_1  \n",
       "0                        NaN               NaN               NaN  \n",
       "0                   0.880194           20540.0           69170.0  \n",
       "0                        NaN               NaN               NaN  \n",
       "0                   0.705696           20540.0           69170.0  \n",
       "\n",
       "[4 rows x 50 columns]"
      ]
     },
     "execution_count": 66,
     "metadata": {},
     "output_type": "execute_result"
    }
   ],
   "source": [
    "final_output = universe_analysis.generate_final_output(\n",
    "    y_pred_prob=probs_test,\n",
    "    y_test=y_true,\n",
    "    org_test=org_test,\n",
    "    filter_data=filter_sub_universe_data,\n",
    "    cp_metrics_df=cp_metrics_df,\n",
    "    save=True,\n",
    ")\n",
    "final_output"
   ]
  }
 ],
 "metadata": {
  "celltoolbar": "Tags",
  "kernelspec": {
   "display_name": "Python (CMA Fairness)",
   "language": "python",
   "name": "cma_fair_env"
  },
  "language_info": {
   "codemirror_mode": {
    "name": "ipython",
    "version": 3
   },
   "file_extension": ".py",
   "mimetype": "text/x-python",
   "name": "python",
   "nbconvert_exporter": "python",
   "pygments_lexer": "ipython3",
   "version": "3.10.12"
  },
  "papermill": {
   "default_parameters": {},
   "duration": 35.804403,
   "end_time": "2025-08-05T16:40:10.453866",
   "environment_variables": {},
   "exception": null,
   "input_path": "universe_analysis.ipynb",
   "output_path": "output/runs/15/notebooks/m_15-04a5e0e4364d640f6e9b4ea8aeae036c.ipynb",
   "parameters": {
    "output_dir": "output",
    "run_no": "15",
    "seed": "2023",
    "universe": "{\"cutoff\": [\"quantile_0.1\", \"quantile_0.25\"], \"eval_fairness_grouping\": [\"majority-minority\", \"nationality-all\"], \"exclude_features\": \"none\", \"exclude_subgroups\": \"drop-non-german\", \"model\": \"penalized_logreg\", \"scale\": \"do-not-scale\", \"training_size\": \"1k\", \"training_year\": \"2010_14\"}",
    "universe_id": "04a5e0e4364d640f6e9b4ea8aeae036c"
   },
   "start_time": "2025-08-05T16:39:34.649463",
   "version": "2.6.0"
  }
 },
 "nbformat": 4,
 "nbformat_minor": 5
}