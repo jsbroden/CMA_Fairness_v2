{
 "cells": [
  {
   "cell_type": "code",
   "execution_count": 1,
   "id": "f159f837-637b-42ba-96b5-ec9a68c44524",
   "metadata": {
    "execution": {
     "iopub.execute_input": "2025-08-05T16:00:09.574246Z",
     "iopub.status.busy": "2025-08-05T16:00:09.573232Z",
     "iopub.status.idle": "2025-08-05T16:00:09.589338Z",
     "shell.execute_reply": "2025-08-05T16:00:09.588111Z"
    },
    "papermill": {
     "duration": 0.040093,
     "end_time": "2025-08-05T16:00:09.591223",
     "exception": false,
     "start_time": "2025-08-05T16:00:09.551130",
     "status": "completed"
    },
    "tags": []
   },
   "outputs": [
    {
     "name": "stdout",
     "output_type": "stream",
     "text": [
      "/dss/dsshome1/0C/ra93lal2/cma/CMA_Fairness_v2\n"
     ]
    },
    {
     "name": "stderr",
     "output_type": "stream",
     "text": [
      "/dss/dsshome1/0C/ra93lal2/.local/share/virtualenvs/CMA_Fairness_v2-3j10GkSs/lib/python3.10/site-packages/IPython/core/magics/osm.py:393: UserWarning: This is now an optional IPython functionality, using bookmarks requires you to install the `pickleshare` library.\n",
      "  bkms = self.shell.db.get('bookmarks', {})\n",
      "/dss/dsshome1/0C/ra93lal2/.local/share/virtualenvs/CMA_Fairness_v2-3j10GkSs/lib/python3.10/site-packages/IPython/core/magics/osm.py:417: UserWarning: This is now an optional IPython functionality, setting dhist requires you to install the `pickleshare` library.\n",
      "  self.shell.db['dhist'] = compress_dhist(dhist)[-100:]\n"
     ]
    }
   ],
   "source": [
    "%cd ~/cma/CMA_Fairness_v2"
   ]
  },
  {
   "cell_type": "markdown",
   "id": "de2603b9",
   "metadata": {
    "papermill": {
     "duration": 0.016795,
     "end_time": "2025-08-05T16:00:09.626474",
     "exception": false,
     "start_time": "2025-08-05T16:00:09.609679",
     "status": "completed"
    },
    "tags": []
   },
   "source": [
    "The following cell holds the definition of our parameters, these values can be overriden by rendering the with e.g. the following command:\n",
    "\n",
    "papermill -p alpha 0.2 -p ratio 0.3 universe_analysis.ipynb output/test_run.ipynb"
   ]
  },
  {
   "cell_type": "code",
   "execution_count": 2,
   "id": "a80968a0-40bb-4fa9-85ef-2d5eefb01975",
   "metadata": {
    "execution": {
     "iopub.execute_input": "2025-08-05T16:00:09.663921Z",
     "iopub.status.busy": "2025-08-05T16:00:09.662911Z",
     "iopub.status.idle": "2025-08-05T16:00:09.669120Z",
     "shell.execute_reply": "2025-08-05T16:00:09.668032Z"
    },
    "papermill": {
     "duration": 0.027197,
     "end_time": "2025-08-05T16:00:09.670948",
     "exception": false,
     "start_time": "2025-08-05T16:00:09.643751",
     "status": "completed"
    },
    "tags": []
   },
   "outputs": [
    {
     "name": "stdout",
     "output_type": "stream",
     "text": [
      "Current working directory: /dss/dsshome1/0C/ra93lal2/cma/CMA_Fairness_v2\n"
     ]
    }
   ],
   "source": [
    "import os\n",
    "print(\"Current working directory:\", os.getcwd())"
   ]
  },
  {
   "cell_type": "code",
   "execution_count": 3,
   "id": "2dce4c03",
   "metadata": {
    "execution": {
     "iopub.execute_input": "2025-08-05T16:00:09.709225Z",
     "iopub.status.busy": "2025-08-05T16:00:09.708194Z",
     "iopub.status.idle": "2025-08-05T16:00:09.715241Z",
     "shell.execute_reply": "2025-08-05T16:00:09.714189Z"
    },
    "papermill": {
     "duration": 0.027649,
     "end_time": "2025-08-05T16:00:09.717246",
     "exception": false,
     "start_time": "2025-08-05T16:00:09.689597",
     "status": "completed"
    },
    "tags": [
     "parameters"
    ]
   },
   "outputs": [],
   "source": [
    "run_no = 0\n",
    "universe_id = \"test\"\n",
    "universe = {\n",
    "    \"training_size\": \"25k\", # \"25k\", \"5k\", \"1k\"\n",
    "    \"training_year\": \"2014\", # \"2014\", \"2012_14\", \"2010_14\"\n",
    "    \"scale\": \"scale\", # \"scale\", \"do-not-scale\",\n",
    "    \"model\": \"elasticnet\", # \"logreg\", \"penalized_logreg\", \"rf\", \"gbm\", \"elasticnet\"\n",
    "    \"cutoff\": [\"quantile_0.15\", \"quantile_0.30\"],\n",
    "    \"exclude_features\": \"age\", # \"none\", \"nationality\", \"sex\", \"nationality-sex\", \"age\"\n",
    "    \"exclude_subgroups\": \"keep-all\", # \"keep-all\", \"drop-non-german\"\n",
    "    \"eval_fairness_grouping\": [\"majority-minority\", \"nationality-all\"]\n",
    "}\n",
    "\n",
    "output_dir=\"./output\"\n",
    "seed=0"
   ]
  },
  {
   "cell_type": "code",
   "execution_count": 4,
   "id": "0956e50b",
   "metadata": {
    "execution": {
     "iopub.execute_input": "2025-08-05T16:00:09.756128Z",
     "iopub.status.busy": "2025-08-05T16:00:09.755691Z",
     "iopub.status.idle": "2025-08-05T16:00:09.760964Z",
     "shell.execute_reply": "2025-08-05T16:00:09.759756Z"
    },
    "papermill": {
     "duration": 0.026752,
     "end_time": "2025-08-05T16:00:09.762802",
     "exception": false,
     "start_time": "2025-08-05T16:00:09.736050",
     "status": "completed"
    },
    "tags": [
     "injected-parameters"
    ]
   },
   "outputs": [],
   "source": [
    "# Parameters\n",
    "universe_id = \"d9b518faa68b0355cde805179ef3484b\"\n",
    "run_no = \"15\"\n",
    "universe = \"{\\\"cutoff\\\": [\\\"quantile_0.1\\\", \\\"quantile_0.25\\\"], \\\"eval_fairness_grouping\\\": [\\\"majority-minority\\\", \\\"nationality-all\\\"], \\\"exclude_features\\\": \\\"age\\\", \\\"exclude_subgroups\\\": \\\"drop-non-german\\\", \\\"model\\\": \\\"gbm\\\", \\\"scale\\\": \\\"do-not-scale\\\", \\\"training_size\\\": \\\"5k\\\", \\\"training_year\\\": \\\"2010_14\\\"}\"\n",
    "output_dir = \"output\"\n",
    "seed = \"2023\"\n"
   ]
  },
  {
   "cell_type": "code",
   "execution_count": 5,
   "id": "1650acaf",
   "metadata": {
    "execution": {
     "iopub.execute_input": "2025-08-05T16:00:09.806579Z",
     "iopub.status.busy": "2025-08-05T16:00:09.806004Z",
     "iopub.status.idle": "2025-08-05T16:00:09.811561Z",
     "shell.execute_reply": "2025-08-05T16:00:09.810442Z"
    },
    "papermill": {
     "duration": 0.030925,
     "end_time": "2025-08-05T16:00:09.813455",
     "exception": false,
     "start_time": "2025-08-05T16:00:09.782530",
     "status": "completed"
    },
    "tags": []
   },
   "outputs": [],
   "source": [
    "import json\n",
    "if isinstance(universe, str):\n",
    "    universe = json.loads(universe)"
   ]
  },
  {
   "cell_type": "code",
   "execution_count": 6,
   "id": "16620c48",
   "metadata": {
    "execution": {
     "iopub.execute_input": "2025-08-05T16:00:09.852642Z",
     "iopub.status.busy": "2025-08-05T16:00:09.852112Z",
     "iopub.status.idle": "2025-08-05T16:00:09.904156Z",
     "shell.execute_reply": "2025-08-05T16:00:09.903125Z"
    },
    "papermill": {
     "duration": 0.0741,
     "end_time": "2025-08-05T16:00:09.906768",
     "exception": false,
     "start_time": "2025-08-05T16:00:09.832668",
     "status": "completed"
    },
    "tags": []
   },
   "outputs": [],
   "source": [
    "# Auto-reload the custom package\n",
    "%load_ext autoreload\n",
    "%autoreload 1\n",
    "%aimport fairness_multiverse"
   ]
  },
  {
   "cell_type": "code",
   "execution_count": 7,
   "id": "01c5c9f3",
   "metadata": {
    "execution": {
     "iopub.execute_input": "2025-08-05T16:00:09.952961Z",
     "iopub.status.busy": "2025-08-05T16:00:09.952213Z",
     "iopub.status.idle": "2025-08-05T16:00:12.127700Z",
     "shell.execute_reply": "2025-08-05T16:00:12.126566Z"
    },
    "papermill": {
     "duration": 2.201009,
     "end_time": "2025-08-05T16:00:12.129341",
     "exception": false,
     "start_time": "2025-08-05T16:00:09.928332",
     "status": "completed"
    },
    "tags": []
   },
   "outputs": [],
   "source": [
    "from fairness_multiverse.universe import UniverseAnalysis\n",
    "\n",
    "universe_analysis = UniverseAnalysis(\n",
    "    run_no = run_no,\n",
    "    universe_id = universe_id,\n",
    "    universe = universe,\n",
    "    output_dir=output_dir,\n",
    ")"
   ]
  },
  {
   "cell_type": "code",
   "execution_count": 8,
   "id": "106241f5",
   "metadata": {
    "execution": {
     "iopub.execute_input": "2025-08-05T16:00:12.167818Z",
     "iopub.status.busy": "2025-08-05T16:00:12.167352Z",
     "iopub.status.idle": "2025-08-05T16:00:12.174463Z",
     "shell.execute_reply": "2025-08-05T16:00:12.173061Z"
    },
    "papermill": {
     "duration": 0.028348,
     "end_time": "2025-08-05T16:00:12.176283",
     "exception": false,
     "start_time": "2025-08-05T16:00:12.147935",
     "status": "completed"
    },
    "tags": []
   },
   "outputs": [
    {
     "name": "stdout",
     "output_type": "stream",
     "text": [
      "Using Seed: 2023\n"
     ]
    }
   ],
   "source": [
    "import numpy as np\n",
    "parsed_seed = int(seed)\n",
    "np.random.seed(parsed_seed)\n",
    "print(f\"Using Seed: {parsed_seed}\")"
   ]
  },
  {
   "cell_type": "markdown",
   "id": "e0ebdc57",
   "metadata": {
    "papermill": {
     "duration": 0.017966,
     "end_time": "2025-08-05T16:00:12.211474",
     "exception": false,
     "start_time": "2025-08-05T16:00:12.193508",
     "status": "completed"
    },
    "tags": []
   },
   "source": [
    "# Loading Data"
   ]
  },
  {
   "cell_type": "code",
   "execution_count": 9,
   "id": "f0496b8a",
   "metadata": {
    "execution": {
     "iopub.execute_input": "2025-08-05T16:00:12.244973Z",
     "iopub.status.busy": "2025-08-05T16:00:12.244555Z",
     "iopub.status.idle": "2025-08-05T16:00:24.287247Z",
     "shell.execute_reply": "2025-08-05T16:00:24.285785Z"
    },
    "papermill": {
     "duration": 12.059718,
     "end_time": "2025-08-05T16:00:24.289032",
     "exception": false,
     "start_time": "2025-08-05T16:00:12.229314",
     "status": "completed"
    },
    "tags": []
   },
   "outputs": [
    {
     "name": "stdout",
     "output_type": "stream",
     "text": [
      "Loading SIAB data from cache: data/siab_cached.csv.gz\n"
     ]
    },
    {
     "name": "stdout",
     "output_type": "stream",
     "text": [
      "(643690, 164)\n"
     ]
    }
   ],
   "source": [
    "from pathlib import Path\n",
    "import pandas as pd\n",
    "\n",
    "# File paths\n",
    "raw_file = Path(\"data/raw/siab.csv\")\n",
    "cache_file = Path(\"data/siab_cached.csv.gz\")\n",
    "\n",
    "# Ensure cache directory exists\n",
    "cache_file.parent.mkdir(parents=True, exist_ok=True)\n",
    "\n",
    "# Load with simple caching\n",
    "if cache_file.exists():\n",
    "    print(f\"Loading SIAB data from cache: {cache_file}\")\n",
    "    siab = pd.read_csv(cache_file, compression='gzip')\n",
    "else:\n",
    "    print(f\"Cache not found. Reading raw SIAB data: {raw_file}\")\n",
    "    siab = pd.read_csv(raw_file)\n",
    "    siab.to_csv(cache_file, index=False, compression='gzip')\n",
    "    print(f\"Cached SIAB data to: {cache_file}\")\n",
    "\n",
    "print(siab.shape)"
   ]
  },
  {
   "cell_type": "code",
   "execution_count": 10,
   "id": "db0ca512-5f53-4dba-abdb-a2888bca41ba",
   "metadata": {
    "execution": {
     "iopub.execute_input": "2025-08-05T16:00:24.327112Z",
     "iopub.status.busy": "2025-08-05T16:00:24.326563Z",
     "iopub.status.idle": "2025-08-05T16:00:24.333689Z",
     "shell.execute_reply": "2025-08-05T16:00:24.332570Z"
    },
    "papermill": {
     "duration": 0.026192,
     "end_time": "2025-08-05T16:00:24.335752",
     "exception": false,
     "start_time": "2025-08-05T16:00:24.309560",
     "status": "completed"
    },
    "tags": []
   },
   "outputs": [],
   "source": [
    "#siab"
   ]
  },
  {
   "cell_type": "markdown",
   "id": "997051c5-15bd-4b69-9786-c3001a3ce484",
   "metadata": {
    "papermill": {
     "duration": 0.017263,
     "end_time": "2025-08-05T16:00:24.373621",
     "exception": false,
     "start_time": "2025-08-05T16:00:24.356358",
     "status": "completed"
    },
    "tags": []
   },
   "source": [
    "# Splitting Data and Setting Training Data Size"
   ]
  },
  {
   "cell_type": "code",
   "execution_count": 11,
   "id": "aea9c6ef-6f46-42c8-85eb-5a62025c1508",
   "metadata": {
    "execution": {
     "iopub.execute_input": "2025-08-05T16:00:24.414975Z",
     "iopub.status.busy": "2025-08-05T16:00:24.414055Z",
     "iopub.status.idle": "2025-08-05T16:00:25.475165Z",
     "shell.execute_reply": "2025-08-05T16:00:25.474090Z"
    },
    "papermill": {
     "duration": 1.084309,
     "end_time": "2025-08-05T16:00:25.477549",
     "exception": false,
     "start_time": "2025-08-05T16:00:24.393240",
     "status": "completed"
    },
    "tags": []
   },
   "outputs": [],
   "source": [
    "from fairness_multiverse.universe import sample_by_year_size\n",
    "\n",
    "siab_train = sample_by_year_size(siab,\n",
    "                               training_year=universe[\"training_year\"],\n",
    "                               training_size=universe[\"training_size\"])"
   ]
  },
  {
   "cell_type": "code",
   "execution_count": 12,
   "id": "8d3afb32-789d-442c-8d5d-9f5aa8dd2eed",
   "metadata": {
    "execution": {
     "iopub.execute_input": "2025-08-05T16:00:25.523451Z",
     "iopub.status.busy": "2025-08-05T16:00:25.522880Z",
     "iopub.status.idle": "2025-08-05T16:00:25.529789Z",
     "shell.execute_reply": "2025-08-05T16:00:25.528620Z"
    },
    "papermill": {
     "duration": 0.032079,
     "end_time": "2025-08-05T16:00:25.531812",
     "exception": false,
     "start_time": "2025-08-05T16:00:25.499733",
     "status": "completed"
    },
    "tags": []
   },
   "outputs": [],
   "source": [
    "#siab_train.shape"
   ]
  },
  {
   "cell_type": "code",
   "execution_count": 13,
   "id": "d582db68-1a4c-47fb-84fc-08518dc1975a",
   "metadata": {
    "execution": {
     "iopub.execute_input": "2025-08-05T16:00:25.569551Z",
     "iopub.status.busy": "2025-08-05T16:00:25.568661Z",
     "iopub.status.idle": "2025-08-05T16:00:25.573981Z",
     "shell.execute_reply": "2025-08-05T16:00:25.572915Z"
    },
    "papermill": {
     "duration": 0.025981,
     "end_time": "2025-08-05T16:00:25.576328",
     "exception": false,
     "start_time": "2025-08-05T16:00:25.550347",
     "status": "completed"
    },
    "tags": []
   },
   "outputs": [],
   "source": [
    "#display(siab_train.groupby(\"year\").size())"
   ]
  },
  {
   "cell_type": "code",
   "execution_count": 14,
   "id": "a561edb4-d032-42cb-8256-22eac1111c64",
   "metadata": {
    "execution": {
     "iopub.execute_input": "2025-08-05T16:00:25.624697Z",
     "iopub.status.busy": "2025-08-05T16:00:25.623940Z",
     "iopub.status.idle": "2025-08-05T16:00:25.863492Z",
     "shell.execute_reply": "2025-08-05T16:00:25.862278Z"
    },
    "papermill": {
     "duration": 0.26709,
     "end_time": "2025-08-05T16:00:25.866149",
     "exception": false,
     "start_time": "2025-08-05T16:00:25.599059",
     "status": "completed"
    },
    "tags": []
   },
   "outputs": [],
   "source": [
    "#siab_train = siab_s[siab_s.year < 2015]\n",
    "siab_calib = siab[siab.year == 2015]\n",
    "siab_test = siab[siab.year == 2016]"
   ]
  },
  {
   "cell_type": "code",
   "execution_count": 15,
   "id": "472de16f-c3db-4916-846b-1f0de9cf1746",
   "metadata": {
    "execution": {
     "iopub.execute_input": "2025-08-05T16:00:25.919712Z",
     "iopub.status.busy": "2025-08-05T16:00:25.918548Z",
     "iopub.status.idle": "2025-08-05T16:00:25.929281Z",
     "shell.execute_reply": "2025-08-05T16:00:25.928140Z"
    },
    "papermill": {
     "duration": 0.039445,
     "end_time": "2025-08-05T16:00:25.931407",
     "exception": false,
     "start_time": "2025-08-05T16:00:25.891962",
     "status": "completed"
    },
    "tags": []
   },
   "outputs": [],
   "source": [
    "X_train = siab_train.iloc[:,4:164]\n",
    "y_train = siab_train.iloc[:, [3]]"
   ]
  },
  {
   "cell_type": "code",
   "execution_count": 16,
   "id": "828c96af-f43a-4ed6-ba47-8ac73a47d56c",
   "metadata": {
    "execution": {
     "iopub.execute_input": "2025-08-05T16:00:25.970310Z",
     "iopub.status.busy": "2025-08-05T16:00:25.969316Z",
     "iopub.status.idle": "2025-08-05T16:00:26.047539Z",
     "shell.execute_reply": "2025-08-05T16:00:26.046357Z"
    },
    "papermill": {
     "duration": 0.10116,
     "end_time": "2025-08-05T16:00:26.050606",
     "exception": false,
     "start_time": "2025-08-05T16:00:25.949446",
     "status": "completed"
    },
    "tags": []
   },
   "outputs": [],
   "source": [
    "X_calib = siab_calib.iloc[:,4:164]\n",
    "y_calib = siab_calib.iloc[:, [3]]"
   ]
  },
  {
   "cell_type": "code",
   "execution_count": 17,
   "id": "c34be9c3-6bd6-476e-acd3-845840e303be",
   "metadata": {
    "execution": {
     "iopub.execute_input": "2025-08-05T16:00:26.111531Z",
     "iopub.status.busy": "2025-08-05T16:00:26.110646Z",
     "iopub.status.idle": "2025-08-05T16:00:26.168437Z",
     "shell.execute_reply": "2025-08-05T16:00:26.167085Z"
    },
    "papermill": {
     "duration": 0.091925,
     "end_time": "2025-08-05T16:00:26.171254",
     "exception": false,
     "start_time": "2025-08-05T16:00:26.079329",
     "status": "completed"
    },
    "tags": []
   },
   "outputs": [],
   "source": [
    "X_test = siab_test.iloc[:,4:164]\n",
    "y_true = siab_test.iloc[:, [3]]"
   ]
  },
  {
   "cell_type": "code",
   "execution_count": 18,
   "id": "e6c733c5",
   "metadata": {
    "execution": {
     "iopub.execute_input": "2025-08-05T16:00:26.227299Z",
     "iopub.status.busy": "2025-08-05T16:00:26.226478Z",
     "iopub.status.idle": "2025-08-05T16:00:26.376517Z",
     "shell.execute_reply": "2025-08-05T16:00:26.375269Z"
    },
    "papermill": {
     "duration": 0.180785,
     "end_time": "2025-08-05T16:00:26.379203",
     "exception": false,
     "start_time": "2025-08-05T16:00:26.198418",
     "status": "completed"
    },
    "tags": []
   },
   "outputs": [],
   "source": [
    "# Auxiliary data needed downstream in the pipeline\n",
    "\n",
    "org_train = X_train.copy()\n",
    "org_test = X_test.copy()\n",
    "org_calib = X_calib.copy()"
   ]
  },
  {
   "cell_type": "markdown",
   "id": "0a4a1b33",
   "metadata": {
    "papermill": {
     "duration": 0.026774,
     "end_time": "2025-08-05T16:00:26.432391",
     "exception": false,
     "start_time": "2025-08-05T16:00:26.405617",
     "status": "completed"
    },
    "tags": []
   },
   "source": [
    "# Preprocessing Data"
   ]
  },
  {
   "cell_type": "code",
   "execution_count": 19,
   "id": "ca879031",
   "metadata": {
    "execution": {
     "iopub.execute_input": "2025-08-05T16:00:26.486795Z",
     "iopub.status.busy": "2025-08-05T16:00:26.485628Z",
     "iopub.status.idle": "2025-08-05T16:00:26.492694Z",
     "shell.execute_reply": "2025-08-05T16:00:26.491616Z"
    },
    "papermill": {
     "duration": 0.037332,
     "end_time": "2025-08-05T16:00:26.495046",
     "exception": false,
     "start_time": "2025-08-05T16:00:26.457714",
     "status": "completed"
    },
    "tags": []
   },
   "outputs": [],
   "source": [
    "# EXCLUDE PROTECTED FEATURES\n",
    "# ----------------------\n",
    "# \"exclude_features\": \"none\", # \"nationality\", \"sex\", \"nationality-sex\"\n",
    "\n",
    "excluded_features = universe[\"exclude_features\"].split(\"-\") # split, e.g.: \"nationality-sex\" -> [\"nationality\", \"sex\"]\n",
    "excluded_features_dictionary = {\n",
    "    \"nationality\": [\"maxdeutsch1\", \"maxdeutsch.Missing.\"],\n",
    "    \"sex\": [\"frau1\"],\n",
    "    \"age\": [\"age\"],\n",
    "}"
   ]
  },
  {
   "cell_type": "code",
   "execution_count": 20,
   "id": "b745ac60",
   "metadata": {
    "execution": {
     "iopub.execute_input": "2025-08-05T16:00:26.548357Z",
     "iopub.status.busy": "2025-08-05T16:00:26.547952Z",
     "iopub.status.idle": "2025-08-05T16:00:26.554773Z",
     "shell.execute_reply": "2025-08-05T16:00:26.553461Z"
    },
    "papermill": {
     "duration": 0.036179,
     "end_time": "2025-08-05T16:00:26.557167",
     "exception": false,
     "start_time": "2025-08-05T16:00:26.520988",
     "status": "completed"
    },
    "tags": []
   },
   "outputs": [],
   "source": [
    "# Code nice names to column names\n",
    "\n",
    "excluded_features_columns = [\n",
    "    excluded_features_dictionary[f] for f in excluded_features if len(f) > 0 and f != \"none\"\n",
    "]"
   ]
  },
  {
   "cell_type": "code",
   "execution_count": 21,
   "id": "f84f73a2",
   "metadata": {
    "execution": {
     "iopub.execute_input": "2025-08-05T16:00:26.610585Z",
     "iopub.status.busy": "2025-08-05T16:00:26.609851Z",
     "iopub.status.idle": "2025-08-05T16:00:26.617409Z",
     "shell.execute_reply": "2025-08-05T16:00:26.616203Z"
    },
    "papermill": {
     "duration": 0.03698,
     "end_time": "2025-08-05T16:00:26.619770",
     "exception": false,
     "start_time": "2025-08-05T16:00:26.582790",
     "status": "completed"
    },
    "tags": []
   },
   "outputs": [],
   "source": [
    "from utils import flatten_once\n",
    "\n",
    "excluded_features_columns = flatten_once(excluded_features_columns)"
   ]
  },
  {
   "cell_type": "code",
   "execution_count": 22,
   "id": "884dea22",
   "metadata": {
    "execution": {
     "iopub.execute_input": "2025-08-05T16:00:26.674767Z",
     "iopub.status.busy": "2025-08-05T16:00:26.674325Z",
     "iopub.status.idle": "2025-08-05T16:00:26.684380Z",
     "shell.execute_reply": "2025-08-05T16:00:26.683192Z"
    },
    "papermill": {
     "duration": 0.039999,
     "end_time": "2025-08-05T16:00:26.686642",
     "exception": false,
     "start_time": "2025-08-05T16:00:26.646643",
     "status": "completed"
    },
    "tags": []
   },
   "outputs": [
    {
     "name": "stdout",
     "output_type": "stream",
     "text": [
      "Dropping features: ['age']\n"
     ]
    }
   ],
   "source": [
    "if len(excluded_features_columns) > 0:\n",
    "    print(f\"Dropping features: {excluded_features_columns}\")\n",
    "    X_train.drop(excluded_features_columns, axis=1, inplace=True)"
   ]
  },
  {
   "cell_type": "code",
   "execution_count": 23,
   "id": "95ab8b16",
   "metadata": {
    "execution": {
     "iopub.execute_input": "2025-08-05T16:00:26.741432Z",
     "iopub.status.busy": "2025-08-05T16:00:26.740954Z",
     "iopub.status.idle": "2025-08-05T16:00:26.798497Z",
     "shell.execute_reply": "2025-08-05T16:00:26.797225Z"
    },
    "papermill": {
     "duration": 0.086793,
     "end_time": "2025-08-05T16:00:26.800234",
     "exception": false,
     "start_time": "2025-08-05T16:00:26.713441",
     "status": "completed"
    },
    "tags": []
   },
   "outputs": [
    {
     "name": "stdout",
     "output_type": "stream",
     "text": [
      "Dropping features: ['age']\n"
     ]
    }
   ],
   "source": [
    "if len(excluded_features_columns) > 0:\n",
    "    print(f\"Dropping features: {excluded_features_columns}\")\n",
    "    X_test.drop(excluded_features_columns, axis=1, inplace=True)"
   ]
  },
  {
   "cell_type": "code",
   "execution_count": 24,
   "id": "1853aaf5-fb9f-46cb-a2b5-8ea4ae2237e4",
   "metadata": {
    "execution": {
     "iopub.execute_input": "2025-08-05T16:00:26.843727Z",
     "iopub.status.busy": "2025-08-05T16:00:26.842723Z",
     "iopub.status.idle": "2025-08-05T16:00:26.908862Z",
     "shell.execute_reply": "2025-08-05T16:00:26.907724Z"
    },
    "papermill": {
     "duration": 0.089021,
     "end_time": "2025-08-05T16:00:26.910952",
     "exception": false,
     "start_time": "2025-08-05T16:00:26.821931",
     "status": "completed"
    },
    "tags": []
   },
   "outputs": [
    {
     "name": "stdout",
     "output_type": "stream",
     "text": [
      "Dropping features: ['age']\n"
     ]
    }
   ],
   "source": [
    "if len(excluded_features_columns) > 0:\n",
    "    print(f\"Dropping features: {excluded_features_columns}\")\n",
    "    X_calib.drop(excluded_features_columns, axis=1, inplace=True)"
   ]
  },
  {
   "cell_type": "code",
   "execution_count": 25,
   "id": "76c4dc6d",
   "metadata": {
    "execution": {
     "iopub.execute_input": "2025-08-05T16:00:26.957421Z",
     "iopub.status.busy": "2025-08-05T16:00:26.956700Z",
     "iopub.status.idle": "2025-08-05T16:00:26.962098Z",
     "shell.execute_reply": "2025-08-05T16:00:26.961242Z"
    },
    "papermill": {
     "duration": 0.029985,
     "end_time": "2025-08-05T16:00:26.963771",
     "exception": false,
     "start_time": "2025-08-05T16:00:26.933786",
     "status": "completed"
    },
    "tags": []
   },
   "outputs": [],
   "source": [
    "# EXCLUDE CERTAIN SUBGROUPS\n",
    "# ----------------------\n",
    "\n",
    "mode = universe.get(\"exclude_subgroups\", \"keep-all\") \n",
    "# Fetches the exclude_subgroups setting from the universe dict.\n",
    "# Defaults to \"keep-all\" if the key is missing."
   ]
  },
  {
   "cell_type": "code",
   "execution_count": 26,
   "id": "21994072",
   "metadata": {
    "execution": {
     "iopub.execute_input": "2025-08-05T16:00:27.007343Z",
     "iopub.status.busy": "2025-08-05T16:00:27.006685Z",
     "iopub.status.idle": "2025-08-05T16:00:27.308454Z",
     "shell.execute_reply": "2025-08-05T16:00:27.306894Z"
    },
    "papermill": {
     "duration": 0.326162,
     "end_time": "2025-08-05T16:00:27.310808",
     "exception": false,
     "start_time": "2025-08-05T16:00:26.984646",
     "status": "completed"
    },
    "tags": []
   },
   "outputs": [],
   "source": [
    "if mode == \"keep-all\":\n",
    "    keep_mask = pd.Series(True, index=org_train.index)\n",
    "\n",
    "# org_train contains the original feature columns from features_org (in Simson)\n",
    "# features_org contains unprocessed features, for me X_train at beginning ???\n",
    "# For keep-all, creates a boolean Series (keep_mask) of all True, so no rows are removed.\n",
    "\n",
    "elif mode == \"drop-non-german\":\n",
    "    keep_mask = org_train[\"maxdeutsch1\"] == 1 # ??? what about missing values?\n",
    "\n",
    "else:\n",
    "    raise ValueError(f\"Unsupported mode for exclude_subgroups: {mode}\")"
   ]
  },
  {
   "cell_type": "code",
   "execution_count": 27,
   "id": "71651440",
   "metadata": {
    "execution": {
     "iopub.execute_input": "2025-08-05T16:00:27.384798Z",
     "iopub.status.busy": "2025-08-05T16:00:27.384238Z",
     "iopub.status.idle": "2025-08-05T16:00:27.392322Z",
     "shell.execute_reply": "2025-08-05T16:00:27.391151Z"
    },
    "papermill": {
     "duration": 0.043929,
     "end_time": "2025-08-05T16:00:27.394891",
     "exception": false,
     "start_time": "2025-08-05T16:00:27.350962",
     "status": "completed"
    },
    "tags": []
   },
   "outputs": [
    {
     "name": "stdout",
     "output_type": "stream",
     "text": [
      "Dropping 657 rows (13.14%) where mode='drop-non-german'\n"
     ]
    }
   ],
   "source": [
    "n_drop = (~keep_mask).sum() # Calculates how many rows are set to be dropped\n",
    "if n_drop > 0:\n",
    "    pct = n_drop / len(keep_mask) * 100\n",
    "    print(f\"Dropping {n_drop} rows ({pct:.2f}%) where mode='{mode}'\")"
   ]
  },
  {
   "cell_type": "code",
   "execution_count": 28,
   "id": "5fb8eee5",
   "metadata": {
    "execution": {
     "iopub.execute_input": "2025-08-05T16:00:27.455182Z",
     "iopub.status.busy": "2025-08-05T16:00:27.454418Z",
     "iopub.status.idle": "2025-08-05T16:00:27.464854Z",
     "shell.execute_reply": "2025-08-05T16:00:27.463526Z"
    },
    "papermill": {
     "duration": 0.041413,
     "end_time": "2025-08-05T16:00:27.467032",
     "exception": false,
     "start_time": "2025-08-05T16:00:27.425619",
     "status": "completed"
    },
    "tags": []
   },
   "outputs": [],
   "source": [
    "X_train = X_train[keep_mask]"
   ]
  },
  {
   "cell_type": "code",
   "execution_count": 29,
   "id": "b202bb3a",
   "metadata": {
    "execution": {
     "iopub.execute_input": "2025-08-05T16:00:27.512938Z",
     "iopub.status.busy": "2025-08-05T16:00:27.511912Z",
     "iopub.status.idle": "2025-08-05T16:00:27.518791Z",
     "shell.execute_reply": "2025-08-05T16:00:27.517385Z"
    },
    "papermill": {
     "duration": 0.032531,
     "end_time": "2025-08-05T16:00:27.521491",
     "exception": false,
     "start_time": "2025-08-05T16:00:27.488960",
     "status": "completed"
    },
    "tags": []
   },
   "outputs": [],
   "source": [
    "y_train = y_train[keep_mask]"
   ]
  },
  {
   "cell_type": "markdown",
   "id": "493e2ac3",
   "metadata": {
    "papermill": {
     "duration": 0.02979,
     "end_time": "2025-08-05T16:00:27.581010",
     "exception": false,
     "start_time": "2025-08-05T16:00:27.551220",
     "status": "completed"
    },
    "tags": []
   },
   "source": [
    "# Model Training"
   ]
  },
  {
   "cell_type": "code",
   "execution_count": 30,
   "id": "679e1268",
   "metadata": {
    "execution": {
     "iopub.execute_input": "2025-08-05T16:00:27.641971Z",
     "iopub.status.busy": "2025-08-05T16:00:27.641216Z",
     "iopub.status.idle": "2025-08-05T16:00:27.782781Z",
     "shell.execute_reply": "2025-08-05T16:00:27.781707Z"
    },
    "papermill": {
     "duration": 0.174772,
     "end_time": "2025-08-05T16:00:27.784900",
     "exception": false,
     "start_time": "2025-08-05T16:00:27.610128",
     "status": "completed"
    },
    "tags": []
   },
   "outputs": [],
   "source": [
    "from sklearn.linear_model import LogisticRegression\n",
    "from sklearn.ensemble import GradientBoostingClassifier, RandomForestClassifier\n",
    "\n",
    "if (universe[\"model\"] == \"logreg\"):\n",
    "    model = LogisticRegression() #penalty=\"none\", solver=\"newton-cg\", max_iter=1) # include random_state=19 ?\n",
    "elif (universe[\"model\"] == \"penalized_logreg\"):\n",
    "    model = LogisticRegression(penalty=\"l2\", C=0.1) #, solver=\"newton-cg\", max_iter=1)\n",
    "elif (universe[\"model\"] == \"rf\"):\n",
    "    model = RandomForestClassifier() # n_estimators=100, n_jobs=-1\n",
    "elif (universe[\"model\"] == \"gbm\"):\n",
    "    model = GradientBoostingClassifier()\n",
    "elif (universe[\"model\"] == \"elasticnet\"):\n",
    "    model = LogisticRegression(penalty = 'elasticnet', solver = 'saga', l1_ratio = 0.5) # max_iter=5000\n",
    "else:\n",
    "    raise \"Unsupported universe.model\""
   ]
  },
  {
   "cell_type": "code",
   "execution_count": 31,
   "id": "0cc8f744",
   "metadata": {
    "execution": {
     "iopub.execute_input": "2025-08-05T16:00:27.842566Z",
     "iopub.status.busy": "2025-08-05T16:00:27.841881Z",
     "iopub.status.idle": "2025-08-05T16:00:27.847464Z",
     "shell.execute_reply": "2025-08-05T16:00:27.846681Z"
    },
    "papermill": {
     "duration": 0.038697,
     "end_time": "2025-08-05T16:00:27.848967",
     "exception": false,
     "start_time": "2025-08-05T16:00:27.810270",
     "status": "completed"
    },
    "tags": []
   },
   "outputs": [],
   "source": [
    "import numpy as np\n",
    "from sklearn.pipeline import Pipeline\n",
    "from sklearn.preprocessing import StandardScaler\n",
    "\n",
    "model = Pipeline([\n",
    "    #(\"continuous_processor\", continuous_processor),\n",
    "    #(\"categorical_preprocessor\", categorical_preprocessor),\n",
    "    (\"scale\", StandardScaler() if universe[\"scale\"] == \"scale\" else None), \n",
    "    (\"model\", model),\n",
    "])"
   ]
  },
  {
   "cell_type": "code",
   "execution_count": 32,
   "id": "9442c04d",
   "metadata": {
    "execution": {
     "iopub.execute_input": "2025-08-05T16:00:27.871257Z",
     "iopub.status.busy": "2025-08-05T16:00:27.870746Z",
     "iopub.status.idle": "2025-08-05T16:00:31.970108Z",
     "shell.execute_reply": "2025-08-05T16:00:31.969309Z"
    },
    "papermill": {
     "duration": 4.111657,
     "end_time": "2025-08-05T16:00:31.971555",
     "exception": false,
     "start_time": "2025-08-05T16:00:27.859898",
     "status": "completed"
    },
    "tags": []
   },
   "outputs": [
    {
     "data": {
      "text/html": [
       "<style>#sk-container-id-1 {color: black;background-color: white;}#sk-container-id-1 pre{padding: 0;}#sk-container-id-1 div.sk-toggleable {background-color: white;}#sk-container-id-1 label.sk-toggleable__label {cursor: pointer;display: block;width: 100%;margin-bottom: 0;padding: 0.3em;box-sizing: border-box;text-align: center;}#sk-container-id-1 label.sk-toggleable__label-arrow:before {content: \"▸\";float: left;margin-right: 0.25em;color: #696969;}#sk-container-id-1 label.sk-toggleable__label-arrow:hover:before {color: black;}#sk-container-id-1 div.sk-estimator:hover label.sk-toggleable__label-arrow:before {color: black;}#sk-container-id-1 div.sk-toggleable__content {max-height: 0;max-width: 0;overflow: hidden;text-align: left;background-color: #f0f8ff;}#sk-container-id-1 div.sk-toggleable__content pre {margin: 0.2em;color: black;border-radius: 0.25em;background-color: #f0f8ff;}#sk-container-id-1 input.sk-toggleable__control:checked~div.sk-toggleable__content {max-height: 200px;max-width: 100%;overflow: auto;}#sk-container-id-1 input.sk-toggleable__control:checked~label.sk-toggleable__label-arrow:before {content: \"▾\";}#sk-container-id-1 div.sk-estimator input.sk-toggleable__control:checked~label.sk-toggleable__label {background-color: #d4ebff;}#sk-container-id-1 div.sk-label input.sk-toggleable__control:checked~label.sk-toggleable__label {background-color: #d4ebff;}#sk-container-id-1 input.sk-hidden--visually {border: 0;clip: rect(1px 1px 1px 1px);clip: rect(1px, 1px, 1px, 1px);height: 1px;margin: -1px;overflow: hidden;padding: 0;position: absolute;width: 1px;}#sk-container-id-1 div.sk-estimator {font-family: monospace;background-color: #f0f8ff;border: 1px dotted black;border-radius: 0.25em;box-sizing: border-box;margin-bottom: 0.5em;}#sk-container-id-1 div.sk-estimator:hover {background-color: #d4ebff;}#sk-container-id-1 div.sk-parallel-item::after {content: \"\";width: 100%;border-bottom: 1px solid gray;flex-grow: 1;}#sk-container-id-1 div.sk-label:hover label.sk-toggleable__label {background-color: #d4ebff;}#sk-container-id-1 div.sk-serial::before {content: \"\";position: absolute;border-left: 1px solid gray;box-sizing: border-box;top: 0;bottom: 0;left: 50%;z-index: 0;}#sk-container-id-1 div.sk-serial {display: flex;flex-direction: column;align-items: center;background-color: white;padding-right: 0.2em;padding-left: 0.2em;position: relative;}#sk-container-id-1 div.sk-item {position: relative;z-index: 1;}#sk-container-id-1 div.sk-parallel {display: flex;align-items: stretch;justify-content: center;background-color: white;position: relative;}#sk-container-id-1 div.sk-item::before, #sk-container-id-1 div.sk-parallel-item::before {content: \"\";position: absolute;border-left: 1px solid gray;box-sizing: border-box;top: 0;bottom: 0;left: 50%;z-index: -1;}#sk-container-id-1 div.sk-parallel-item {display: flex;flex-direction: column;z-index: 1;position: relative;background-color: white;}#sk-container-id-1 div.sk-parallel-item:first-child::after {align-self: flex-end;width: 50%;}#sk-container-id-1 div.sk-parallel-item:last-child::after {align-self: flex-start;width: 50%;}#sk-container-id-1 div.sk-parallel-item:only-child::after {width: 0;}#sk-container-id-1 div.sk-dashed-wrapped {border: 1px dashed gray;margin: 0 0.4em 0.5em 0.4em;box-sizing: border-box;padding-bottom: 0.4em;background-color: white;}#sk-container-id-1 div.sk-label label {font-family: monospace;font-weight: bold;display: inline-block;line-height: 1.2em;}#sk-container-id-1 div.sk-label-container {text-align: center;}#sk-container-id-1 div.sk-container {/* jupyter's `normalize.less` sets `[hidden] { display: none; }` but bootstrap.min.css set `[hidden] { display: none !important; }` so we also need the `!important` here to be able to override the default hidden behavior on the sphinx rendered scikit-learn.org. See: https://github.com/scikit-learn/scikit-learn/issues/21755 */display: inline-block !important;position: relative;}#sk-container-id-1 div.sk-text-repr-fallback {display: none;}</style><div id=\"sk-container-id-1\" class=\"sk-top-container\"><div class=\"sk-text-repr-fallback\"><pre>Pipeline(steps=[(&#x27;scale&#x27;, None), (&#x27;model&#x27;, GradientBoostingClassifier())])</pre><b>In a Jupyter environment, please rerun this cell to show the HTML representation or trust the notebook. <br />On GitHub, the HTML representation is unable to render, please try loading this page with nbviewer.org.</b></div><div class=\"sk-container\" hidden><div class=\"sk-item sk-dashed-wrapped\"><div class=\"sk-label-container\"><div class=\"sk-label sk-toggleable\"><input class=\"sk-toggleable__control sk-hidden--visually\" id=\"sk-estimator-id-1\" type=\"checkbox\" ><label for=\"sk-estimator-id-1\" class=\"sk-toggleable__label sk-toggleable__label-arrow\">Pipeline</label><div class=\"sk-toggleable__content\"><pre>Pipeline(steps=[(&#x27;scale&#x27;, None), (&#x27;model&#x27;, GradientBoostingClassifier())])</pre></div></div></div><div class=\"sk-serial\"><div class=\"sk-item\"><div class=\"sk-estimator sk-toggleable\"><input class=\"sk-toggleable__control sk-hidden--visually\" id=\"sk-estimator-id-2\" type=\"checkbox\" ><label for=\"sk-estimator-id-2\" class=\"sk-toggleable__label sk-toggleable__label-arrow\">None</label><div class=\"sk-toggleable__content\"><pre>None</pre></div></div></div><div class=\"sk-item\"><div class=\"sk-estimator sk-toggleable\"><input class=\"sk-toggleable__control sk-hidden--visually\" id=\"sk-estimator-id-3\" type=\"checkbox\" ><label for=\"sk-estimator-id-3\" class=\"sk-toggleable__label sk-toggleable__label-arrow\">GradientBoostingClassifier</label><div class=\"sk-toggleable__content\"><pre>GradientBoostingClassifier()</pre></div></div></div></div></div></div></div>"
      ],
      "text/plain": [
       "Pipeline(steps=[('scale', None), ('model', GradientBoostingClassifier())])"
      ]
     },
     "execution_count": 32,
     "metadata": {},
     "output_type": "execute_result"
    }
   ],
   "source": [
    "model.fit(X_train, y_train.values.ravel())"
   ]
  },
  {
   "cell_type": "code",
   "execution_count": 33,
   "id": "af59f8c0",
   "metadata": {
    "execution": {
     "iopub.execute_input": "2025-08-05T16:00:31.995607Z",
     "iopub.status.busy": "2025-08-05T16:00:31.995236Z",
     "iopub.status.idle": "2025-08-05T16:00:32.000252Z",
     "shell.execute_reply": "2025-08-05T16:00:31.999270Z"
    },
    "papermill": {
     "duration": 0.018912,
     "end_time": "2025-08-05T16:00:32.002006",
     "exception": false,
     "start_time": "2025-08-05T16:00:31.983094",
     "status": "completed"
    },
    "tags": []
   },
   "outputs": [],
   "source": [
    "from fairness_multiverse.universe import predict_w_threshold"
   ]
  },
  {
   "cell_type": "code",
   "execution_count": 34,
   "id": "a7cf2e16",
   "metadata": {
    "execution": {
     "iopub.execute_input": "2025-08-05T16:00:32.036964Z",
     "iopub.status.busy": "2025-08-05T16:00:32.036232Z",
     "iopub.status.idle": "2025-08-05T16:00:32.659136Z",
     "shell.execute_reply": "2025-08-05T16:00:32.658385Z"
    },
    "papermill": {
     "duration": 0.646442,
     "end_time": "2025-08-05T16:00:32.660666",
     "exception": false,
     "start_time": "2025-08-05T16:00:32.014224",
     "status": "completed"
    },
    "tags": []
   },
   "outputs": [
    {
     "data": {
      "text/plain": [
       "0.8530152714301639"
      ]
     },
     "execution_count": 34,
     "metadata": {},
     "output_type": "execute_result"
    }
   ],
   "source": [
    "probs_test = model.predict_proba(X_test)\n",
    "\n",
    "'''\n",
    "Below code returns a boolean array (or binary 0/1 array depending on how it’s used) where each element \n",
    "is True if the probability of class 1 is greater than or equal to the threshold, and False otherwise.\n",
    "'''\n",
    "y_pred_default = predict_w_threshold(probs_test, 0.5)\n",
    "\n",
    "from sklearn.metrics import accuracy_score\n",
    "\n",
    "# Naive prediction\n",
    "accuracy_score(y_true = y_true, y_pred = y_pred_default)"
   ]
  },
  {
   "cell_type": "code",
   "execution_count": 35,
   "id": "081964c3",
   "metadata": {
    "execution": {
     "iopub.execute_input": "2025-08-05T16:00:32.717710Z",
     "iopub.status.busy": "2025-08-05T16:00:32.716955Z",
     "iopub.status.idle": "2025-08-05T16:00:33.224689Z",
     "shell.execute_reply": "2025-08-05T16:00:33.223940Z"
    },
    "papermill": {
     "duration": 0.532719,
     "end_time": "2025-08-05T16:00:33.226024",
     "exception": false,
     "start_time": "2025-08-05T16:00:32.693305",
     "status": "completed"
    },
    "tags": []
   },
   "outputs": [
    {
     "data": {
      "text/plain": [
       "array([0, 0, 0, ..., 0, 0, 0])"
      ]
     },
     "execution_count": 35,
     "metadata": {},
     "output_type": "execute_result"
    }
   ],
   "source": [
    "model.predict(X_test)"
   ]
  },
  {
   "cell_type": "markdown",
   "id": "56c9705b",
   "metadata": {
    "papermill": {
     "duration": 0.010323,
     "end_time": "2025-08-05T16:00:33.249895",
     "exception": false,
     "start_time": "2025-08-05T16:00:33.239572",
     "status": "completed"
    },
    "tags": []
   },
   "source": [
    "# Conformal Prediction"
   ]
  },
  {
   "cell_type": "code",
   "execution_count": 36,
   "id": "160ec6ff",
   "metadata": {
    "execution": {
     "iopub.execute_input": "2025-08-05T16:00:33.275984Z",
     "iopub.status.busy": "2025-08-05T16:00:33.275657Z",
     "iopub.status.idle": "2025-08-05T16:00:33.280354Z",
     "shell.execute_reply": "2025-08-05T16:00:33.279545Z"
    },
    "papermill": {
     "duration": 0.017939,
     "end_time": "2025-08-05T16:00:33.282260",
     "exception": false,
     "start_time": "2025-08-05T16:00:33.264321",
     "status": "completed"
    },
    "tags": []
   },
   "outputs": [],
   "source": [
    "# Miscoverage level for conformal prediction (10% allowed error rate => 90% target coverage)\n",
    "alpha = 0.1"
   ]
  },
  {
   "cell_type": "code",
   "execution_count": 37,
   "id": "eadf4555-3dd3-440e-8e35-f82a4ad9f855",
   "metadata": {
    "execution": {
     "iopub.execute_input": "2025-08-05T16:00:33.330675Z",
     "iopub.status.busy": "2025-08-05T16:00:33.330155Z",
     "iopub.status.idle": "2025-08-05T16:00:33.756158Z",
     "shell.execute_reply": "2025-08-05T16:00:33.755152Z"
    },
    "papermill": {
     "duration": 0.451777,
     "end_time": "2025-08-05T16:00:33.758182",
     "exception": false,
     "start_time": "2025-08-05T16:00:33.306405",
     "status": "completed"
    },
    "tags": []
   },
   "outputs": [],
   "source": [
    "probs_calib = model.predict_proba(X_calib)"
   ]
  },
  {
   "cell_type": "code",
   "execution_count": 38,
   "id": "2ed93547-6d5d-4983-9b36-1ecb300da49a",
   "metadata": {
    "execution": {
     "iopub.execute_input": "2025-08-05T16:00:33.798527Z",
     "iopub.status.busy": "2025-08-05T16:00:33.797446Z",
     "iopub.status.idle": "2025-08-05T16:00:33.804339Z",
     "shell.execute_reply": "2025-08-05T16:00:33.803134Z"
    },
    "papermill": {
     "duration": 0.025804,
     "end_time": "2025-08-05T16:00:33.806868",
     "exception": false,
     "start_time": "2025-08-05T16:00:33.781064",
     "status": "completed"
    },
    "tags": []
   },
   "outputs": [],
   "source": [
    "y_calib = y_calib.values.ravel().astype(int)"
   ]
  },
  {
   "cell_type": "code",
   "execution_count": 39,
   "id": "65d1320d-f588-4b38-9072-62af1ae97f7d",
   "metadata": {
    "execution": {
     "iopub.execute_input": "2025-08-05T16:00:33.863786Z",
     "iopub.status.busy": "2025-08-05T16:00:33.863293Z",
     "iopub.status.idle": "2025-08-05T16:00:33.870835Z",
     "shell.execute_reply": "2025-08-05T16:00:33.869760Z"
    },
    "papermill": {
     "duration": 0.037258,
     "end_time": "2025-08-05T16:00:33.872778",
     "exception": false,
     "start_time": "2025-08-05T16:00:33.835520",
     "status": "completed"
    },
    "tags": []
   },
   "outputs": [],
   "source": [
    "from fairness_multiverse.conformal import compute_nc_scores\n",
    "\n",
    "# Compute nonconformity scores on calibration set (1 - probability of true class)\n",
    "nc_scores = compute_nc_scores(probs_calib, y_calib)"
   ]
  },
  {
   "cell_type": "code",
   "execution_count": 40,
   "id": "df3b8ca3-53b7-43d5-9667-7c85da7aeda2",
   "metadata": {
    "execution": {
     "iopub.execute_input": "2025-08-05T16:00:33.912212Z",
     "iopub.status.busy": "2025-08-05T16:00:33.911455Z",
     "iopub.status.idle": "2025-08-05T16:00:33.917882Z",
     "shell.execute_reply": "2025-08-05T16:00:33.916801Z"
    },
    "papermill": {
     "duration": 0.027682,
     "end_time": "2025-08-05T16:00:33.919624",
     "exception": false,
     "start_time": "2025-08-05T16:00:33.891942",
     "status": "completed"
    },
    "tags": []
   },
   "outputs": [],
   "source": [
    "from fairness_multiverse.conformal import find_threshold\n",
    "\n",
    "# Find conformal threshold q_hat for the given alpha (split conformal method)\n",
    "q_hat = find_threshold(nc_scores, alpha)"
   ]
  },
  {
   "cell_type": "code",
   "execution_count": 41,
   "id": "4d29e6c1-0ef6-4aa4-b8fe-4fe79b0d033a",
   "metadata": {
    "execution": {
     "iopub.execute_input": "2025-08-05T16:00:33.959084Z",
     "iopub.status.busy": "2025-08-05T16:00:33.958318Z",
     "iopub.status.idle": "2025-08-05T16:00:33.965102Z",
     "shell.execute_reply": "2025-08-05T16:00:33.964134Z"
    },
    "papermill": {
     "duration": 0.027784,
     "end_time": "2025-08-05T16:00:33.966650",
     "exception": false,
     "start_time": "2025-08-05T16:00:33.938866",
     "status": "completed"
    },
    "tags": []
   },
   "outputs": [
    {
     "data": {
      "text/plain": [
       "0.7162527737748471"
      ]
     },
     "execution_count": 41,
     "metadata": {},
     "output_type": "execute_result"
    }
   ],
   "source": [
    "q_hat"
   ]
  },
  {
   "cell_type": "code",
   "execution_count": 42,
   "id": "92460794-cdac-4be2-ba28-f28c0515a6fb",
   "metadata": {
    "execution": {
     "iopub.execute_input": "2025-08-05T16:00:34.007969Z",
     "iopub.status.busy": "2025-08-05T16:00:34.007202Z",
     "iopub.status.idle": "2025-08-05T16:00:35.246616Z",
     "shell.execute_reply": "2025-08-05T16:00:35.245566Z"
    },
    "papermill": {
     "duration": 1.261754,
     "end_time": "2025-08-05T16:00:35.248746",
     "exception": false,
     "start_time": "2025-08-05T16:00:33.986992",
     "status": "completed"
    },
    "tags": []
   },
   "outputs": [],
   "source": [
    "from fairness_multiverse.conformal import predict_conformal_sets\n",
    "\n",
    "# Generate prediction sets for each test example\n",
    "pred_sets = predict_conformal_sets(model, X_test, q_hat)"
   ]
  },
  {
   "cell_type": "code",
   "execution_count": 43,
   "id": "d90c9a65-e6db-4f5d-80cd-e68fb7e46829",
   "metadata": {
    "execution": {
     "iopub.execute_input": "2025-08-05T16:00:35.303279Z",
     "iopub.status.busy": "2025-08-05T16:00:35.302395Z",
     "iopub.status.idle": "2025-08-05T16:00:35.308983Z",
     "shell.execute_reply": "2025-08-05T16:00:35.307843Z"
    },
    "papermill": {
     "duration": 0.0373,
     "end_time": "2025-08-05T16:00:35.311152",
     "exception": false,
     "start_time": "2025-08-05T16:00:35.273852",
     "status": "completed"
    },
    "tags": []
   },
   "outputs": [],
   "source": [
    "y_true = y_true.squeeze()"
   ]
  },
  {
   "cell_type": "code",
   "execution_count": 44,
   "id": "3a58a54a-1e68-46b9-927a-df01f18aebc8",
   "metadata": {
    "execution": {
     "iopub.execute_input": "2025-08-05T16:00:35.361257Z",
     "iopub.status.busy": "2025-08-05T16:00:35.360619Z",
     "iopub.status.idle": "2025-08-05T16:00:36.255229Z",
     "shell.execute_reply": "2025-08-05T16:00:36.254234Z"
    },
    "papermill": {
     "duration": 0.921272,
     "end_time": "2025-08-05T16:00:36.257263",
     "exception": false,
     "start_time": "2025-08-05T16:00:35.335991",
     "status": "completed"
    },
    "tags": []
   },
   "outputs": [],
   "source": [
    "from fairness_multiverse.conformal import evaluate_sets\n",
    "\n",
    "# Evaluate coverage and average set size on test data\n",
    "metrics = evaluate_sets(pred_sets, y_true)"
   ]
  },
  {
   "cell_type": "markdown",
   "id": "2b569c12-9aaa-4c88-98c9-bbcd0cf3ebb8",
   "metadata": {
    "papermill": {
     "duration": 0.023216,
     "end_time": "2025-08-05T16:00:36.305237",
     "exception": false,
     "start_time": "2025-08-05T16:00:36.282021",
     "status": "completed"
    },
    "tags": []
   },
   "source": [
    "# CP Metrics"
   ]
  },
  {
   "cell_type": "code",
   "execution_count": 45,
   "id": "5ce0a5cb-201f-45a0-ade5-94c7f0bd6095",
   "metadata": {
    "execution": {
     "iopub.execute_input": "2025-08-05T16:00:36.354434Z",
     "iopub.status.busy": "2025-08-05T16:00:36.353478Z",
     "iopub.status.idle": "2025-08-05T16:00:36.363231Z",
     "shell.execute_reply": "2025-08-05T16:00:36.362121Z"
    },
    "papermill": {
     "duration": 0.036677,
     "end_time": "2025-08-05T16:00:36.364981",
     "exception": false,
     "start_time": "2025-08-05T16:00:36.328304",
     "status": "completed"
    },
    "tags": []
   },
   "outputs": [
    {
     "data": {
      "text/plain": [
       "{'coverage': 0.9112807936684874, 'avg_size': 1.1491138111693233}"
      ]
     },
     "execution_count": 45,
     "metadata": {},
     "output_type": "execute_result"
    }
   ],
   "source": [
    "metrics"
   ]
  },
  {
   "cell_type": "code",
   "execution_count": 46,
   "id": "9b9a838d-31c9-430b-ae14-12baee460d17",
   "metadata": {
    "execution": {
     "iopub.execute_input": "2025-08-05T16:00:36.418180Z",
     "iopub.status.busy": "2025-08-05T16:00:36.417402Z",
     "iopub.status.idle": "2025-08-05T16:00:36.424632Z",
     "shell.execute_reply": "2025-08-05T16:00:36.423666Z"
    },
    "papermill": {
     "duration": 0.036,
     "end_time": "2025-08-05T16:00:36.426530",
     "exception": false,
     "start_time": "2025-08-05T16:00:36.390530",
     "status": "completed"
    },
    "tags": []
   },
   "outputs": [],
   "source": [
    "example_universe = universe.copy()\n",
    "universe_training_year = example_universe.get(\"training_year\")\n",
    "universe_training_size = example_universe.get(\"training_size\")\n",
    "universe_scale = example_universe.get(\"scale\")\n",
    "universe_model = example_universe.get(\"model\")\n",
    "universe_exclude_features = example_universe.get(\"exclude_features\")\n",
    "universe_exclude_subgroups = example_universe.get(\"exclude_subgroups\")"
   ]
  },
  {
   "cell_type": "code",
   "execution_count": 47,
   "id": "f4b6a8ac-9dc0-4245-8a91-5b3b5999c4f9",
   "metadata": {
    "execution": {
     "iopub.execute_input": "2025-08-05T16:00:36.471640Z",
     "iopub.status.busy": "2025-08-05T16:00:36.471123Z",
     "iopub.status.idle": "2025-08-05T16:00:36.478317Z",
     "shell.execute_reply": "2025-08-05T16:00:36.477316Z"
    },
    "papermill": {
     "duration": 0.036584,
     "end_time": "2025-08-05T16:00:36.484361",
     "exception": false,
     "start_time": "2025-08-05T16:00:36.447777",
     "status": "completed"
    },
    "tags": []
   },
   "outputs": [],
   "source": [
    "cp_metrics_dict = {\n",
    "    \"universe_id\": [universe_id],\n",
    "    \"universe_training_year\": [universe_training_year],\n",
    "    \"universe_training_size\": [universe_training_size],\n",
    "    \"universe_scale\": [universe_scale],\n",
    "    \"universe_model\": [universe_model],\n",
    "    \"universe_exclude_features\": [universe_exclude_features],\n",
    "    \"universe_exclude_subgroups\": [universe_exclude_subgroups],\n",
    "    \"q_hat\": [q_hat],\n",
    "    \"coverage\": [metrics[\"coverage\"]],\n",
    "    \"avg_size\": [metrics[\"avg_size\"]],\n",
    "}"
   ]
  },
  {
   "cell_type": "code",
   "execution_count": 48,
   "id": "908acbb1-0371-4915-85ca-3fa520d2efe2",
   "metadata": {
    "execution": {
     "iopub.execute_input": "2025-08-05T16:00:36.530941Z",
     "iopub.status.busy": "2025-08-05T16:00:36.530254Z",
     "iopub.status.idle": "2025-08-05T16:00:36.538032Z",
     "shell.execute_reply": "2025-08-05T16:00:36.536825Z"
    },
    "papermill": {
     "duration": 0.031085,
     "end_time": "2025-08-05T16:00:36.539679",
     "exception": false,
     "start_time": "2025-08-05T16:00:36.508594",
     "status": "completed"
    },
    "tags": []
   },
   "outputs": [
    {
     "data": {
      "text/plain": [
       "{'universe_id': ['d9b518faa68b0355cde805179ef3484b'],\n",
       " 'universe_training_year': ['2010_14'],\n",
       " 'universe_training_size': ['5k'],\n",
       " 'universe_scale': ['do-not-scale'],\n",
       " 'universe_model': ['gbm'],\n",
       " 'universe_exclude_features': ['age'],\n",
       " 'universe_exclude_subgroups': ['drop-non-german'],\n",
       " 'q_hat': [0.7162527737748471],\n",
       " 'coverage': [0.9112807936684874],\n",
       " 'avg_size': [1.1491138111693233]}"
      ]
     },
     "execution_count": 48,
     "metadata": {},
     "output_type": "execute_result"
    }
   ],
   "source": [
    "cp_metrics_dict"
   ]
  },
  {
   "cell_type": "code",
   "execution_count": 49,
   "id": "33007efc-14e9-4ec6-97ac-56a455c82265",
   "metadata": {
    "execution": {
     "iopub.execute_input": "2025-08-05T16:00:36.585733Z",
     "iopub.status.busy": "2025-08-05T16:00:36.585298Z",
     "iopub.status.idle": "2025-08-05T16:00:36.591807Z",
     "shell.execute_reply": "2025-08-05T16:00:36.590883Z"
    },
    "papermill": {
     "duration": 0.028854,
     "end_time": "2025-08-05T16:00:36.593452",
     "exception": false,
     "start_time": "2025-08-05T16:00:36.564598",
     "status": "completed"
    },
    "tags": []
   },
   "outputs": [],
   "source": [
    "cp_metrics_df = pd.DataFrame(cp_metrics_dict)"
   ]
  },
  {
   "cell_type": "code",
   "execution_count": 50,
   "id": "db12611b-57b2-4910-b9d0-355adfd6e7bf",
   "metadata": {
    "execution": {
     "iopub.execute_input": "2025-08-05T16:00:36.635773Z",
     "iopub.status.busy": "2025-08-05T16:00:36.635343Z",
     "iopub.status.idle": "2025-08-05T16:00:36.655728Z",
     "shell.execute_reply": "2025-08-05T16:00:36.654377Z"
    },
    "papermill": {
     "duration": 0.043377,
     "end_time": "2025-08-05T16:00:36.657483",
     "exception": false,
     "start_time": "2025-08-05T16:00:36.614106",
     "status": "completed"
    },
    "tags": []
   },
   "outputs": [
    {
     "data": {
      "text/html": [
       "<div>\n",
       "<style scoped>\n",
       "    .dataframe tbody tr th:only-of-type {\n",
       "        vertical-align: middle;\n",
       "    }\n",
       "\n",
       "    .dataframe tbody tr th {\n",
       "        vertical-align: top;\n",
       "    }\n",
       "\n",
       "    .dataframe thead th {\n",
       "        text-align: right;\n",
       "    }\n",
       "</style>\n",
       "<table border=\"1\" class=\"dataframe\">\n",
       "  <thead>\n",
       "    <tr style=\"text-align: right;\">\n",
       "      <th></th>\n",
       "      <th>universe_id</th>\n",
       "      <th>universe_training_year</th>\n",
       "      <th>universe_training_size</th>\n",
       "      <th>universe_scale</th>\n",
       "      <th>universe_model</th>\n",
       "      <th>universe_exclude_features</th>\n",
       "      <th>universe_exclude_subgroups</th>\n",
       "      <th>q_hat</th>\n",
       "      <th>coverage</th>\n",
       "      <th>avg_size</th>\n",
       "    </tr>\n",
       "  </thead>\n",
       "  <tbody>\n",
       "    <tr>\n",
       "      <th>0</th>\n",
       "      <td>d9b518faa68b0355cde805179ef3484b</td>\n",
       "      <td>2010_14</td>\n",
       "      <td>5k</td>\n",
       "      <td>do-not-scale</td>\n",
       "      <td>gbm</td>\n",
       "      <td>age</td>\n",
       "      <td>drop-non-german</td>\n",
       "      <td>0.716253</td>\n",
       "      <td>0.911281</td>\n",
       "      <td>1.149114</td>\n",
       "    </tr>\n",
       "  </tbody>\n",
       "</table>\n",
       "</div>"
      ],
      "text/plain": [
       "                        universe_id universe_training_year  \\\n",
       "0  d9b518faa68b0355cde805179ef3484b                2010_14   \n",
       "\n",
       "  universe_training_size universe_scale universe_model  \\\n",
       "0                     5k   do-not-scale            gbm   \n",
       "\n",
       "  universe_exclude_features universe_exclude_subgroups     q_hat  coverage  \\\n",
       "0                       age            drop-non-german  0.716253  0.911281   \n",
       "\n",
       "   avg_size  \n",
       "0  1.149114  "
      ]
     },
     "execution_count": 50,
     "metadata": {},
     "output_type": "execute_result"
    }
   ],
   "source": [
    "cp_metrics_df"
   ]
  },
  {
   "cell_type": "code",
   "execution_count": 51,
   "id": "b7fbde55-a0a1-47e4-9af6-fe4a17fa8c61",
   "metadata": {
    "execution": {
     "iopub.execute_input": "2025-08-05T16:00:36.701053Z",
     "iopub.status.busy": "2025-08-05T16:00:36.700427Z",
     "iopub.status.idle": "2025-08-05T16:00:36.708222Z",
     "shell.execute_reply": "2025-08-05T16:00:36.707149Z"
    },
    "papermill": {
     "duration": 0.031586,
     "end_time": "2025-08-05T16:00:36.710240",
     "exception": false,
     "start_time": "2025-08-05T16:00:36.678654",
     "status": "completed"
    },
    "tags": []
   },
   "outputs": [],
   "source": [
    "# Conditional Coverage & looking at subgroups"
   ]
  },
  {
   "cell_type": "code",
   "execution_count": 52,
   "id": "027ae886-68dd-4141-96c7-805a5450e1ef",
   "metadata": {
    "execution": {
     "iopub.execute_input": "2025-08-05T16:00:36.755751Z",
     "iopub.status.busy": "2025-08-05T16:00:36.755015Z",
     "iopub.status.idle": "2025-08-05T16:00:37.009720Z",
     "shell.execute_reply": "2025-08-05T16:00:37.008680Z"
    },
    "papermill": {
     "duration": 0.278703,
     "end_time": "2025-08-05T16:00:37.011572",
     "exception": false,
     "start_time": "2025-08-05T16:00:36.732869",
     "status": "completed"
    },
    "tags": []
   },
   "outputs": [],
   "source": [
    "from fairness_multiverse.conformal import build_cp_groups\n",
    "\n",
    "cp_groups_df = build_cp_groups(pred_sets, y_true, X_test.index, org_test)\n",
    "#needs universe_id and setting"
   ]
  },
  {
   "cell_type": "code",
   "execution_count": 53,
   "id": "6cbdab96-b2b2-45af-ad54-d0516db2e28d",
   "metadata": {
    "execution": {
     "iopub.execute_input": "2025-08-05T16:00:37.054244Z",
     "iopub.status.busy": "2025-08-05T16:00:37.053735Z",
     "iopub.status.idle": "2025-08-05T16:00:38.899833Z",
     "shell.execute_reply": "2025-08-05T16:00:38.898890Z"
    },
    "papermill": {
     "duration": 1.868508,
     "end_time": "2025-08-05T16:00:38.901819",
     "exception": false,
     "start_time": "2025-08-05T16:00:37.033311",
     "status": "completed"
    },
    "tags": []
   },
   "outputs": [],
   "source": [
    "# Define covered = 1 if true_label is in the predicted set\n",
    "cp_groups_df['covered'] = cp_groups_df.apply(\n",
    "    lambda r: int(r['true_label'] in r['pred_set']),\n",
    "    axis=1\n",
    ")"
   ]
  },
  {
   "cell_type": "code",
   "execution_count": 54,
   "id": "338ff529-1a6b-4b87-a931-8e4788d52aad",
   "metadata": {
    "execution": {
     "iopub.execute_input": "2025-08-05T16:00:38.949413Z",
     "iopub.status.busy": "2025-08-05T16:00:38.948660Z",
     "iopub.status.idle": "2025-08-05T16:00:38.954018Z",
     "shell.execute_reply": "2025-08-05T16:00:38.952907Z"
    },
    "papermill": {
     "duration": 0.02981,
     "end_time": "2025-08-05T16:00:38.955812",
     "exception": false,
     "start_time": "2025-08-05T16:00:38.926002",
     "status": "completed"
    },
    "tags": []
   },
   "outputs": [],
   "source": [
    "#cp_groups_df"
   ]
  },
  {
   "cell_type": "code",
   "execution_count": 55,
   "id": "90032e27-66df-4540-9169-4e89cfbaa758",
   "metadata": {
    "execution": {
     "iopub.execute_input": "2025-08-05T16:00:39.001121Z",
     "iopub.status.busy": "2025-08-05T16:00:39.000391Z",
     "iopub.status.idle": "2025-08-05T16:00:39.012766Z",
     "shell.execute_reply": "2025-08-05T16:00:39.011821Z"
    },
    "papermill": {
     "duration": 0.037055,
     "end_time": "2025-08-05T16:00:39.014509",
     "exception": false,
     "start_time": "2025-08-05T16:00:38.977454",
     "status": "completed"
    },
    "tags": []
   },
   "outputs": [],
   "source": [
    "subgroups = ['frau1','nongerman','nongerman_male','nongerman_female']\n",
    "\n",
    "# Conditional coverage for subgroup==1\n",
    "cond_coverage = {\n",
    "    g: cp_groups_df.loc[cp_groups_df[g]==1, 'covered'].mean()\n",
    "    for g in subgroups\n",
    "}"
   ]
  },
  {
   "cell_type": "code",
   "execution_count": 56,
   "id": "1e348fb1-b9c3-45bc-ba23-f016827a7e0d",
   "metadata": {
    "execution": {
     "iopub.execute_input": "2025-08-05T16:00:39.059706Z",
     "iopub.status.busy": "2025-08-05T16:00:39.059122Z",
     "iopub.status.idle": "2025-08-05T16:00:39.066951Z",
     "shell.execute_reply": "2025-08-05T16:00:39.066081Z"
    },
    "papermill": {
     "duration": 0.032986,
     "end_time": "2025-08-05T16:00:39.068347",
     "exception": false,
     "start_time": "2025-08-05T16:00:39.035361",
     "status": "completed"
    },
    "tags": []
   },
   "outputs": [
    {
     "data": {
      "text/plain": [
       "{'frau1': 0.9091521768432403,\n",
       " 'nongerman': 0.9084376578903048,\n",
       " 'nongerman_male': 0.9238944429433487,\n",
       " 'nongerman_female': 0.8828614008941877}"
      ]
     },
     "execution_count": 56,
     "metadata": {},
     "output_type": "execute_result"
    }
   ],
   "source": [
    "cond_coverage"
   ]
  },
  {
   "cell_type": "code",
   "execution_count": 57,
   "id": "f5093324-c3dd-4d63-bc4c-8d945e5c8bbb",
   "metadata": {
    "execution": {
     "iopub.execute_input": "2025-08-05T16:00:39.113048Z",
     "iopub.status.busy": "2025-08-05T16:00:39.112534Z",
     "iopub.status.idle": "2025-08-05T16:00:39.120604Z",
     "shell.execute_reply": "2025-08-05T16:00:39.119537Z"
    },
    "papermill": {
     "duration": 0.033127,
     "end_time": "2025-08-05T16:00:39.122433",
     "exception": false,
     "start_time": "2025-08-05T16:00:39.089306",
     "status": "completed"
    },
    "tags": []
   },
   "outputs": [],
   "source": [
    "for subgroup, cov in cond_coverage.items():\n",
    "    cp_metrics_df[f\"cov_{subgroup}\"] = cov"
   ]
  },
  {
   "cell_type": "code",
   "execution_count": 58,
   "id": "6e872e10-dbe5-49e8-b554-5030c98ff75d",
   "metadata": {
    "execution": {
     "iopub.execute_input": "2025-08-05T16:00:39.167015Z",
     "iopub.status.busy": "2025-08-05T16:00:39.166303Z",
     "iopub.status.idle": "2025-08-05T16:00:39.186032Z",
     "shell.execute_reply": "2025-08-05T16:00:39.184593Z"
    },
    "papermill": {
     "duration": 0.043896,
     "end_time": "2025-08-05T16:00:39.188117",
     "exception": false,
     "start_time": "2025-08-05T16:00:39.144221",
     "status": "completed"
    },
    "tags": []
   },
   "outputs": [
    {
     "data": {
      "text/html": [
       "<div>\n",
       "<style scoped>\n",
       "    .dataframe tbody tr th:only-of-type {\n",
       "        vertical-align: middle;\n",
       "    }\n",
       "\n",
       "    .dataframe tbody tr th {\n",
       "        vertical-align: top;\n",
       "    }\n",
       "\n",
       "    .dataframe thead th {\n",
       "        text-align: right;\n",
       "    }\n",
       "</style>\n",
       "<table border=\"1\" class=\"dataframe\">\n",
       "  <thead>\n",
       "    <tr style=\"text-align: right;\">\n",
       "      <th></th>\n",
       "      <th>universe_id</th>\n",
       "      <th>universe_training_year</th>\n",
       "      <th>universe_training_size</th>\n",
       "      <th>universe_scale</th>\n",
       "      <th>universe_model</th>\n",
       "      <th>universe_exclude_features</th>\n",
       "      <th>universe_exclude_subgroups</th>\n",
       "      <th>q_hat</th>\n",
       "      <th>coverage</th>\n",
       "      <th>avg_size</th>\n",
       "      <th>cov_frau1</th>\n",
       "      <th>cov_nongerman</th>\n",
       "      <th>cov_nongerman_male</th>\n",
       "      <th>cov_nongerman_female</th>\n",
       "    </tr>\n",
       "  </thead>\n",
       "  <tbody>\n",
       "    <tr>\n",
       "      <th>0</th>\n",
       "      <td>d9b518faa68b0355cde805179ef3484b</td>\n",
       "      <td>2010_14</td>\n",
       "      <td>5k</td>\n",
       "      <td>do-not-scale</td>\n",
       "      <td>gbm</td>\n",
       "      <td>age</td>\n",
       "      <td>drop-non-german</td>\n",
       "      <td>0.716253</td>\n",
       "      <td>0.911281</td>\n",
       "      <td>1.149114</td>\n",
       "      <td>0.909152</td>\n",
       "      <td>0.908438</td>\n",
       "      <td>0.923894</td>\n",
       "      <td>0.882861</td>\n",
       "    </tr>\n",
       "  </tbody>\n",
       "</table>\n",
       "</div>"
      ],
      "text/plain": [
       "                        universe_id universe_training_year  \\\n",
       "0  d9b518faa68b0355cde805179ef3484b                2010_14   \n",
       "\n",
       "  universe_training_size universe_scale universe_model  \\\n",
       "0                     5k   do-not-scale            gbm   \n",
       "\n",
       "  universe_exclude_features universe_exclude_subgroups     q_hat  coverage  \\\n",
       "0                       age            drop-non-german  0.716253  0.911281   \n",
       "\n",
       "   avg_size  cov_frau1  cov_nongerman  cov_nongerman_male  \\\n",
       "0  1.149114   0.909152       0.908438            0.923894   \n",
       "\n",
       "   cov_nongerman_female  \n",
       "0              0.882861  "
      ]
     },
     "execution_count": 58,
     "metadata": {},
     "output_type": "execute_result"
    }
   ],
   "source": [
    "cp_metrics_df"
   ]
  },
  {
   "cell_type": "markdown",
   "id": "33774451",
   "metadata": {
    "papermill": {
     "duration": 0.026485,
     "end_time": "2025-08-05T16:00:39.241687",
     "exception": false,
     "start_time": "2025-08-05T16:00:39.215202",
     "status": "completed"
    },
    "tags": []
   },
   "source": [
    "# (Fairness) Metrics"
   ]
  },
  {
   "cell_type": "code",
   "execution_count": 59,
   "id": "debc5d62",
   "metadata": {
    "execution": {
     "iopub.execute_input": "2025-08-05T16:00:39.295630Z",
     "iopub.status.busy": "2025-08-05T16:00:39.294925Z",
     "iopub.status.idle": "2025-08-05T16:00:39.316809Z",
     "shell.execute_reply": "2025-08-05T16:00:39.315867Z"
    },
    "papermill": {
     "duration": 0.051332,
     "end_time": "2025-08-05T16:00:39.318743",
     "exception": false,
     "start_time": "2025-08-05T16:00:39.267411",
     "status": "completed"
    },
    "tags": []
   },
   "outputs": [],
   "source": [
    "# do I need to include maxdeutsch1.missing?\n",
    "\n",
    "import numpy as np\n",
    "\n",
    "colname_to_bin = \"maxdeutsch1\"\n",
    "majority_value = org_train[colname_to_bin].mode()[0]\n",
    "\n",
    "org_test[\"majmin\"] = np.where(org_test[colname_to_bin] == majority_value, \"majority\", \"minority\")"
   ]
  },
  {
   "cell_type": "code",
   "execution_count": 60,
   "id": "06a50de5",
   "metadata": {
    "execution": {
     "iopub.execute_input": "2025-08-05T16:00:39.373003Z",
     "iopub.status.busy": "2025-08-05T16:00:39.372326Z",
     "iopub.status.idle": "2025-08-05T16:00:41.587701Z",
     "shell.execute_reply": "2025-08-05T16:00:41.586764Z"
    },
    "papermill": {
     "duration": 2.244072,
     "end_time": "2025-08-05T16:00:41.589704",
     "exception": false,
     "start_time": "2025-08-05T16:00:39.345632",
     "status": "completed"
    },
    "tags": []
   },
   "outputs": [],
   "source": [
    "example_universe = universe.copy()\n",
    "example_universe[\"cutoff\"] = example_universe[\"cutoff\"][0]\n",
    "example_universe[\"eval_fairness_grouping\"] = example_universe[\"eval_fairness_grouping\"][0]\n",
    "fairness_dict, metric_frame = universe_analysis.compute_metrics(\n",
    "    example_universe,\n",
    "    y_pred_prob=probs_test,\n",
    "    y_test=y_true,\n",
    "    org_test=org_test,\n",
    ")"
   ]
  },
  {
   "cell_type": "markdown",
   "id": "f95d4e02",
   "metadata": {
    "papermill": {
     "duration": 0.022527,
     "end_time": "2025-08-05T16:00:41.635065",
     "exception": false,
     "start_time": "2025-08-05T16:00:41.612538",
     "status": "completed"
    },
    "tags": []
   },
   "source": [
    "# Overall"
   ]
  },
  {
   "cell_type": "markdown",
   "id": "bdee4871",
   "metadata": {
    "papermill": {
     "duration": 0.021669,
     "end_time": "2025-08-05T16:00:41.678496",
     "exception": false,
     "start_time": "2025-08-05T16:00:41.656827",
     "status": "completed"
    },
    "tags": []
   },
   "source": [
    "Fairness\n",
    "Main fairness target: Equalized Odds. Seems to be a better fit than equal opportunity, since we're not only interested in Y = 1. Seems to be a better fit than demographic parity, since we also care about accuracy, not just equal distribution of preds.\n",
    "\n",
    "Pick column for computation of fairness metrics\n",
    "\n",
    "Performance\n",
    "Overall performance measures, most interesting in relation to the measures split by group below"
   ]
  },
  {
   "cell_type": "code",
   "execution_count": 61,
   "id": "c4e067c6",
   "metadata": {
    "execution": {
     "iopub.execute_input": "2025-08-05T16:00:41.725049Z",
     "iopub.status.busy": "2025-08-05T16:00:41.724356Z",
     "iopub.status.idle": "2025-08-05T16:00:41.732428Z",
     "shell.execute_reply": "2025-08-05T16:00:41.731335Z"
    },
    "papermill": {
     "duration": 0.032843,
     "end_time": "2025-08-05T16:00:41.734327",
     "exception": false,
     "start_time": "2025-08-05T16:00:41.701484",
     "status": "completed"
    },
    "tags": []
   },
   "outputs": [
    {
     "data": {
      "text/plain": [
       "accuracy                   0.224312\n",
       "balanced accuracy          0.548486\n",
       "f1                         0.245645\n",
       "precision                  0.140329\n",
       "false positive rate        0.887560\n",
       "false negative rate        0.015468\n",
       "selection rate             0.900000\n",
       "count                  89710.000000\n",
       "dtype: float64"
      ]
     },
     "execution_count": 61,
     "metadata": {},
     "output_type": "execute_result"
    }
   ],
   "source": [
    "metric_frame.overall"
   ]
  },
  {
   "cell_type": "markdown",
   "id": "e968fe9d",
   "metadata": {
    "papermill": {
     "duration": 0.022763,
     "end_time": "2025-08-05T16:00:41.780156",
     "exception": false,
     "start_time": "2025-08-05T16:00:41.757393",
     "status": "completed"
    },
    "tags": []
   },
   "source": [
    "By Group"
   ]
  },
  {
   "cell_type": "code",
   "execution_count": 62,
   "id": "ec325bce",
   "metadata": {
    "execution": {
     "iopub.execute_input": "2025-08-05T16:00:41.825830Z",
     "iopub.status.busy": "2025-08-05T16:00:41.825309Z",
     "iopub.status.idle": "2025-08-05T16:00:41.842356Z",
     "shell.execute_reply": "2025-08-05T16:00:41.841193Z"
    },
    "papermill": {
     "duration": 0.042084,
     "end_time": "2025-08-05T16:00:41.844203",
     "exception": false,
     "start_time": "2025-08-05T16:00:41.802119",
     "status": "completed"
    },
    "tags": []
   },
   "outputs": [
    {
     "data": {
      "text/html": [
       "<div>\n",
       "<style scoped>\n",
       "    .dataframe tbody tr th:only-of-type {\n",
       "        vertical-align: middle;\n",
       "    }\n",
       "\n",
       "    .dataframe tbody tr th {\n",
       "        vertical-align: top;\n",
       "    }\n",
       "\n",
       "    .dataframe thead th {\n",
       "        text-align: right;\n",
       "    }\n",
       "</style>\n",
       "<table border=\"1\" class=\"dataframe\">\n",
       "  <thead>\n",
       "    <tr style=\"text-align: right;\">\n",
       "      <th></th>\n",
       "      <th>accuracy</th>\n",
       "      <th>balanced accuracy</th>\n",
       "      <th>f1</th>\n",
       "      <th>precision</th>\n",
       "      <th>false positive rate</th>\n",
       "      <th>false negative rate</th>\n",
       "      <th>selection rate</th>\n",
       "      <th>count</th>\n",
       "    </tr>\n",
       "    <tr>\n",
       "      <th>majmin</th>\n",
       "      <th></th>\n",
       "      <th></th>\n",
       "      <th></th>\n",
       "      <th></th>\n",
       "      <th></th>\n",
       "      <th></th>\n",
       "      <th></th>\n",
       "      <th></th>\n",
       "    </tr>\n",
       "  </thead>\n",
       "  <tbody>\n",
       "    <tr>\n",
       "      <th>majority</th>\n",
       "      <td>0.243039</td>\n",
       "      <td>0.557169</td>\n",
       "      <td>0.255725</td>\n",
       "      <td>0.146956</td>\n",
       "      <td>0.869798</td>\n",
       "      <td>0.015864</td>\n",
       "      <td>0.884907</td>\n",
       "      <td>69170.0</td>\n",
       "    </tr>\n",
       "    <tr>\n",
       "      <th>minority</th>\n",
       "      <td>0.161246</td>\n",
       "      <td>0.519914</td>\n",
       "      <td>0.213261</td>\n",
       "      <td>0.119560</td>\n",
       "      <td>0.946236</td>\n",
       "      <td>0.013936</td>\n",
       "      <td>0.950828</td>\n",
       "      <td>20540.0</td>\n",
       "    </tr>\n",
       "  </tbody>\n",
       "</table>\n",
       "</div>"
      ],
      "text/plain": [
       "          accuracy  balanced accuracy        f1  precision  \\\n",
       "majmin                                                       \n",
       "majority  0.243039           0.557169  0.255725   0.146956   \n",
       "minority  0.161246           0.519914  0.213261   0.119560   \n",
       "\n",
       "          false positive rate  false negative rate  selection rate    count  \n",
       "majmin                                                                       \n",
       "majority             0.869798             0.015864        0.884907  69170.0  \n",
       "minority             0.946236             0.013936        0.950828  20540.0  "
      ]
     },
     "execution_count": 62,
     "metadata": {},
     "output_type": "execute_result"
    }
   ],
   "source": [
    "metric_frame.by_group"
   ]
  },
  {
   "cell_type": "code",
   "execution_count": 63,
   "id": "a9ddbe63",
   "metadata": {
    "execution": {
     "iopub.execute_input": "2025-08-05T16:00:41.900410Z",
     "iopub.status.busy": "2025-08-05T16:00:41.899474Z",
     "iopub.status.idle": "2025-08-05T16:00:44.100149Z",
     "shell.execute_reply": "2025-08-05T16:00:44.099013Z"
    },
    "papermill": {
     "duration": 2.231188,
     "end_time": "2025-08-05T16:00:44.102495",
     "exception": false,
     "start_time": "2025-08-05T16:00:41.871307",
     "status": "completed"
    },
    "tags": []
   },
   "outputs": [
    {
     "data": {
      "text/plain": [
       "array([[<Axes: title={'center': 'accuracy'}, xlabel='majmin'>,\n",
       "        <Axes: title={'center': 'balanced accuracy'}, xlabel='majmin'>,\n",
       "        <Axes: title={'center': 'f1'}, xlabel='majmin'>],\n",
       "       [<Axes: title={'center': 'precision'}, xlabel='majmin'>,\n",
       "        <Axes: title={'center': 'false positive rate'}, xlabel='majmin'>,\n",
       "        <Axes: title={'center': 'false negative rate'}, xlabel='majmin'>],\n",
       "       [<Axes: title={'center': 'selection rate'}, xlabel='majmin'>,\n",
       "        <Axes: title={'center': 'count'}, xlabel='majmin'>,\n",
       "        <Axes: xlabel='majmin'>]], dtype=object)"
      ]
     },
     "execution_count": 63,
     "metadata": {},
     "output_type": "execute_result"
    },
    {
     "data": {
      "image/png": "[encoded data removed]",
      "text/plain": [
       "<Figure size 1200x800 with 9 Axes>"
      ]
     },
     "metadata": {},
     "output_type": "display_data"
    }
   ],
   "source": [
    "# In a graphic\n",
    "metric_frame.by_group.plot.bar(\n",
    "    subplots=True,\n",
    "    layout=[3, 3],\n",
    "    legend=False,\n",
    "    figsize=[12, 8],\n",
    "    title=\"Show all metrics\",\n",
    ")"
   ]
  },
  {
   "cell_type": "markdown",
   "id": "f57a0bac",
   "metadata": {
    "papermill": {
     "duration": 0.024887,
     "end_time": "2025-08-05T16:00:44.158800",
     "exception": false,
     "start_time": "2025-08-05T16:00:44.133913",
     "status": "completed"
    },
    "tags": []
   },
   "source": [
    "# Final Output"
   ]
  },
  {
   "cell_type": "code",
   "execution_count": 64,
   "id": "96d280a3",
   "metadata": {
    "execution": {
     "iopub.execute_input": "2025-08-05T16:00:44.212060Z",
     "iopub.status.busy": "2025-08-05T16:00:44.210691Z",
     "iopub.status.idle": "2025-08-05T16:00:44.219633Z",
     "shell.execute_reply": "2025-08-05T16:00:44.218835Z"
    },
    "papermill": {
     "duration": 0.037509,
     "end_time": "2025-08-05T16:00:44.221151",
     "exception": false,
     "start_time": "2025-08-05T16:00:44.183642",
     "status": "completed"
    },
    "tags": []
   },
   "outputs": [
    {
     "data": {
      "text/plain": [
       "4"
      ]
     },
     "execution_count": 64,
     "metadata": {},
     "output_type": "execute_result"
    }
   ],
   "source": [
    "sub_universes = universe_analysis.generate_sub_universes()\n",
    "len(sub_universes)"
   ]
  },
  {
   "cell_type": "code",
   "execution_count": 65,
   "id": "92adf7ba",
   "metadata": {
    "execution": {
     "iopub.execute_input": "2025-08-05T16:00:44.248820Z",
     "iopub.status.busy": "2025-08-05T16:00:44.248165Z",
     "iopub.status.idle": "2025-08-05T16:00:44.253275Z",
     "shell.execute_reply": "2025-08-05T16:00:44.252530Z"
    },
    "papermill": {
     "duration": 0.020279,
     "end_time": "2025-08-05T16:00:44.254717",
     "exception": false,
     "start_time": "2025-08-05T16:00:44.234438",
     "status": "completed"
    },
    "tags": []
   },
   "outputs": [],
   "source": [
    "def filter_sub_universe_data(sub_universe, org_test):\n",
    "    # Keep all rows — no filtering\n",
    "    keep_rows_mask = np.ones(org_test.shape[0], dtype=bool)\n",
    "\n",
    "    print(f\"[INFO] Keeping all rows: {keep_rows_mask.sum()} rows retained.\")\n",
    "    return keep_rows_mask"
   ]
  },
  {
   "cell_type": "code",
   "execution_count": 66,
   "id": "4a759155",
   "metadata": {
    "execution": {
     "iopub.execute_input": "2025-08-05T16:00:44.284215Z",
     "iopub.status.busy": "2025-08-05T16:00:44.283078Z",
     "iopub.status.idle": "2025-08-05T16:00:54.560021Z",
     "shell.execute_reply": "2025-08-05T16:00:54.558861Z"
    },
    "papermill": {
     "duration": 10.292657,
     "end_time": "2025-08-05T16:00:54.561734",
     "exception": false,
     "start_time": "2025-08-05T16:00:44.269077",
     "status": "completed"
    },
    "tags": []
   },
   "outputs": [
    {
     "name": "stdout",
     "output_type": "stream",
     "text": [
      "Stopping execution_time clock.\n",
      "[INFO] Keeping all rows: 89710 rows retained.\n"
     ]
    },
    {
     "name": "stdout",
     "output_type": "stream",
     "text": [
      "[INFO] Keeping all rows: 89710 rows retained.\n"
     ]
    },
    {
     "name": "stdout",
     "output_type": "stream",
     "text": [
      "[INFO] Keeping all rows: 89710 rows retained.\n"
     ]
    },
    {
     "name": "stdout",
     "output_type": "stream",
     "text": [
      "[INFO] Keeping all rows: 89710 rows retained.\n"
     ]
    },
    {
     "data": {
      "text/html": [
       "<div>\n",
       "<style scoped>\n",
       "    .dataframe tbody tr th:only-of-type {\n",
       "        vertical-align: middle;\n",
       "    }\n",
       "\n",
       "    .dataframe tbody tr th {\n",
       "        vertical-align: top;\n",
       "    }\n",
       "\n",
       "    .dataframe thead th {\n",
       "        text-align: right;\n",
       "    }\n",
       "</style>\n",
       "<table border=\"1\" class=\"dataframe\">\n",
       "  <thead>\n",
       "    <tr style=\"text-align: right;\">\n",
       "      <th></th>\n",
       "      <th>run_no</th>\n",
       "      <th>universe_id</th>\n",
       "      <th>universe_settings</th>\n",
       "      <th>execution_time</th>\n",
       "      <th>test_size_n</th>\n",
       "      <th>test_size_frac</th>\n",
       "      <th>fair_main_equalized_odds_difference</th>\n",
       "      <th>fair_main_equalized_odds_ratio</th>\n",
       "      <th>fair_main_demographic_parity_difference</th>\n",
       "      <th>fair_main_demographic_parity_ratio</th>\n",
       "      <th>...</th>\n",
       "      <th>perf_grp_precision_0</th>\n",
       "      <th>perf_grp_precision_1</th>\n",
       "      <th>perf_grp_false positive rate_0</th>\n",
       "      <th>perf_grp_false positive rate_1</th>\n",
       "      <th>perf_grp_false negative rate_0</th>\n",
       "      <th>perf_grp_false negative rate_1</th>\n",
       "      <th>perf_grp_selection rate_0</th>\n",
       "      <th>perf_grp_selection rate_1</th>\n",
       "      <th>perf_grp_count_0</th>\n",
       "      <th>perf_grp_count_1</th>\n",
       "    </tr>\n",
       "  </thead>\n",
       "  <tbody>\n",
       "    <tr>\n",
       "      <th>0</th>\n",
       "      <td>15</td>\n",
       "      <td>d9b518faa68b0355cde805179ef3484b</td>\n",
       "      <td>{\"cutoff\": \"quantile_0.1\", \"eval_fairness_grou...</td>\n",
       "      <td>32.215495</td>\n",
       "      <td>89710</td>\n",
       "      <td>1.0</td>\n",
       "      <td>0.076438</td>\n",
       "      <td>0.919219</td>\n",
       "      <td>0.065921</td>\n",
       "      <td>0.930670</td>\n",
       "      <td>...</td>\n",
       "      <td>NaN</td>\n",
       "      <td>NaN</td>\n",
       "      <td>NaN</td>\n",
       "      <td>NaN</td>\n",
       "      <td>NaN</td>\n",
       "      <td>NaN</td>\n",
       "      <td>NaN</td>\n",
       "      <td>NaN</td>\n",
       "      <td>NaN</td>\n",
       "      <td>NaN</td>\n",
       "    </tr>\n",
       "    <tr>\n",
       "      <th>0</th>\n",
       "      <td>15</td>\n",
       "      <td>d9b518faa68b0355cde805179ef3484b</td>\n",
       "      <td>{\"cutoff\": \"quantile_0.1\", \"eval_fairness_grou...</td>\n",
       "      <td>32.215495</td>\n",
       "      <td>89710</td>\n",
       "      <td>1.0</td>\n",
       "      <td>0.076438</td>\n",
       "      <td>0.919219</td>\n",
       "      <td>0.065921</td>\n",
       "      <td>0.930670</td>\n",
       "      <td>...</td>\n",
       "      <td>0.119560</td>\n",
       "      <td>0.146956</td>\n",
       "      <td>0.946236</td>\n",
       "      <td>0.869798</td>\n",
       "      <td>0.013936</td>\n",
       "      <td>0.015864</td>\n",
       "      <td>0.950828</td>\n",
       "      <td>0.884907</td>\n",
       "      <td>20540.0</td>\n",
       "      <td>69170.0</td>\n",
       "    </tr>\n",
       "    <tr>\n",
       "      <th>0</th>\n",
       "      <td>15</td>\n",
       "      <td>d9b518faa68b0355cde805179ef3484b</td>\n",
       "      <td>{\"cutoff\": \"quantile_0.25\", \"eval_fairness_gro...</td>\n",
       "      <td>32.215495</td>\n",
       "      <td>89710</td>\n",
       "      <td>1.0</td>\n",
       "      <td>0.115555</td>\n",
       "      <td>0.857481</td>\n",
       "      <td>0.098131</td>\n",
       "      <td>0.881148</td>\n",
       "      <td>...</td>\n",
       "      <td>NaN</td>\n",
       "      <td>NaN</td>\n",
       "      <td>NaN</td>\n",
       "      <td>NaN</td>\n",
       "      <td>NaN</td>\n",
       "      <td>NaN</td>\n",
       "      <td>NaN</td>\n",
       "      <td>NaN</td>\n",
       "      <td>NaN</td>\n",
       "      <td>NaN</td>\n",
       "    </tr>\n",
       "    <tr>\n",
       "      <th>0</th>\n",
       "      <td>15</td>\n",
       "      <td>d9b518faa68b0355cde805179ef3484b</td>\n",
       "      <td>{\"cutoff\": \"quantile_0.25\", \"eval_fairness_gro...</td>\n",
       "      <td>32.215495</td>\n",
       "      <td>89710</td>\n",
       "      <td>1.0</td>\n",
       "      <td>0.115555</td>\n",
       "      <td>0.857481</td>\n",
       "      <td>0.098131</td>\n",
       "      <td>0.881148</td>\n",
       "      <td>...</td>\n",
       "      <td>0.131199</td>\n",
       "      <td>0.170638</td>\n",
       "      <td>0.810808</td>\n",
       "      <td>0.695252</td>\n",
       "      <td>0.060389</td>\n",
       "      <td>0.060503</td>\n",
       "      <td>0.825657</td>\n",
       "      <td>0.727526</td>\n",
       "      <td>20540.0</td>\n",
       "      <td>69170.0</td>\n",
       "    </tr>\n",
       "  </tbody>\n",
       "</table>\n",
       "<p>4 rows × 50 columns</p>\n",
       "</div>"
      ],
      "text/plain": [
       "  run_no                       universe_id  \\\n",
       "0     15  d9b518faa68b0355cde805179ef3484b   \n",
       "0     15  d9b518faa68b0355cde805179ef3484b   \n",
       "0     15  d9b518faa68b0355cde805179ef3484b   \n",
       "0     15  d9b518faa68b0355cde805179ef3484b   \n",
       "\n",
       "                                   universe_settings  execution_time  \\\n",
       "0  {\"cutoff\": \"quantile_0.1\", \"eval_fairness_grou...       32.215495   \n",
       "0  {\"cutoff\": \"quantile_0.1\", \"eval_fairness_grou...       32.215495   \n",
       "0  {\"cutoff\": \"quantile_0.25\", \"eval_fairness_gro...       32.215495   \n",
       "0  {\"cutoff\": \"quantile_0.25\", \"eval_fairness_gro...       32.215495   \n",
       "\n",
       "   test_size_n  test_size_frac  fair_main_equalized_odds_difference  \\\n",
       "0        89710             1.0                             0.076438   \n",
       "0        89710             1.0                             0.076438   \n",
       "0        89710             1.0                             0.115555   \n",
       "0        89710             1.0                             0.115555   \n",
       "\n",
       "   fair_main_equalized_odds_ratio  fair_main_demographic_parity_difference  \\\n",
       "0                        0.919219                                 0.065921   \n",
       "0                        0.919219                                 0.065921   \n",
       "0                        0.857481                                 0.098131   \n",
       "0                        0.857481                                 0.098131   \n",
       "\n",
       "   fair_main_demographic_parity_ratio  ...  perf_grp_precision_0  \\\n",
       "0                            0.930670  ...                   NaN   \n",
       "0                            0.930670  ...              0.119560   \n",
       "0                            0.881148  ...                   NaN   \n",
       "0                            0.881148  ...              0.131199   \n",
       "\n",
       "   perf_grp_precision_1  perf_grp_false positive rate_0  \\\n",
       "0                   NaN                             NaN   \n",
       "0              0.146956                        0.946236   \n",
       "0                   NaN                             NaN   \n",
       "0              0.170638                        0.810808   \n",
       "\n",
       "   perf_grp_false positive rate_1  perf_grp_false negative rate_0  \\\n",
       "0                             NaN                             NaN   \n",
       "0                        0.869798                        0.013936   \n",
       "0                             NaN                             NaN   \n",
       "0                        0.695252                        0.060389   \n",
       "\n",
       "   perf_grp_false negative rate_1  perf_grp_selection rate_0  \\\n",
       "0                             NaN                        NaN   \n",
       "0                        0.015864                   0.950828   \n",
       "0                             NaN                        NaN   \n",
       "0                        0.060503                   0.825657   \n",
       "\n",
       "   perf_grp_selection rate_1  perf_grp_count_0  perf_grp_count_1  \n",
       "0                        NaN               NaN               NaN  \n",
       "0                   0.884907           20540.0           69170.0  \n",
       "0                        NaN               NaN               NaN  \n",
       "0                   0.727526           20540.0           69170.0  \n",
       "\n",
       "[4 rows x 50 columns]"
      ]
     },
     "execution_count": 66,
     "metadata": {},
     "output_type": "execute_result"
    }
   ],
   "source": [
    "final_output = universe_analysis.generate_final_output(\n",
    "    y_pred_prob=probs_test,\n",
    "    y_test=y_true,\n",
    "    org_test=org_test,\n",
    "    filter_data=filter_sub_universe_data,\n",
    "    cp_metrics_df=cp_metrics_df,\n",
    "    save=True,\n",
    ")\n",
    "final_output"
   ]
  }
 ],
 "metadata": {
  "celltoolbar": "Tags",
  "kernelspec": {
   "display_name": "Python (CMA Fairness)",
   "language": "python",
   "name": "cma_fair_env"
  },
  "language_info": {
   "codemirror_mode": {
    "name": "ipython",
    "version": 3
   },
   "file_extension": ".py",
   "mimetype": "text/x-python",
   "name": "python",
   "nbconvert_exporter": "python",
   "pygments_lexer": "ipython3",
   "version": "3.10.12"
  },
  "papermill": {
   "default_parameters": {},
   "duration": 47.148993,
   "end_time": "2025-08-05T16:00:55.514617",
   "environment_variables": {},
   "exception": null,
   "input_path": "universe_analysis.ipynb",
   "output_path": "output/runs/15/notebooks/m_15-d9b518faa68b0355cde805179ef3484b.ipynb",
   "parameters": {
    "output_dir": "output",
    "run_no": "15",
    "seed": "2023",
    "universe": "{\"cutoff\": [\"quantile_0.1\", \"quantile_0.25\"], \"eval_fairness_grouping\": [\"majority-minority\", \"nationality-all\"], \"exclude_features\": \"age\", \"exclude_subgroups\": \"drop-non-german\", \"model\": \"gbm\", \"scale\": \"do-not-scale\", \"training_size\": \"5k\", \"training_year\": \"2010_14\"}",
    "universe_id": "d9b518faa68b0355cde805179ef3484b"
   },
   "start_time": "2025-08-05T16:00:08.365624",
   "version": "2.6.0"
  }
 },
 "nbformat": 4,
 "nbformat_minor": 5
}