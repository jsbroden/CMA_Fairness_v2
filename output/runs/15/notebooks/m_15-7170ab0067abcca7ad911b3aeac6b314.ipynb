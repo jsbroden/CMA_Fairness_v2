{
 "cells": [
  {
   "cell_type": "code",
   "execution_count": 1,
   "id": "f159f837-637b-42ba-96b5-ec9a68c44524",
   "metadata": {
    "execution": {
     "iopub.execute_input": "2025-08-05T15:39:21.119853Z",
     "iopub.status.busy": "2025-08-05T15:39:21.118995Z",
     "iopub.status.idle": "2025-08-05T15:39:21.132104Z",
     "shell.execute_reply": "2025-08-05T15:39:21.131109Z"
    },
    "papermill": {
     "duration": 0.035705,
     "end_time": "2025-08-05T15:39:21.134124",
     "exception": false,
     "start_time": "2025-08-05T15:39:21.098419",
     "status": "completed"
    },
    "tags": []
   },
   "outputs": [
    {
     "name": "stdout",
     "output_type": "stream",
     "text": [
      "/dss/dsshome1/0C/ra93lal2/cma/CMA_Fairness_v2\n"
     ]
    },
    {
     "name": "stderr",
     "output_type": "stream",
     "text": [
      "/dss/dsshome1/0C/ra93lal2/.local/share/virtualenvs/CMA_Fairness_v2-3j10GkSs/lib/python3.10/site-packages/IPython/core/magics/osm.py:393: UserWarning: This is now an optional IPython functionality, using bookmarks requires you to install the `pickleshare` library.\n",
      "  bkms = self.shell.db.get('bookmarks', {})\n",
      "/dss/dsshome1/0C/ra93lal2/.local/share/virtualenvs/CMA_Fairness_v2-3j10GkSs/lib/python3.10/site-packages/IPython/core/magics/osm.py:417: UserWarning: This is now an optional IPython functionality, setting dhist requires you to install the `pickleshare` library.\n",
      "  self.shell.db['dhist'] = compress_dhist(dhist)[-100:]\n"
     ]
    }
   ],
   "source": [
    "%cd ~/cma/CMA_Fairness_v2"
   ]
  },
  {
   "cell_type": "markdown",
   "id": "de2603b9",
   "metadata": {
    "papermill": {
     "duration": 0.018143,
     "end_time": "2025-08-05T15:39:21.171820",
     "exception": false,
     "start_time": "2025-08-05T15:39:21.153677",
     "status": "completed"
    },
    "tags": []
   },
   "source": [
    "The following cell holds the definition of our parameters, these values can be overriden by rendering the with e.g. the following command:\n",
    "\n",
    "papermill -p alpha 0.2 -p ratio 0.3 universe_analysis.ipynb output/test_run.ipynb"
   ]
  },
  {
   "cell_type": "code",
   "execution_count": 2,
   "id": "a80968a0-40bb-4fa9-85ef-2d5eefb01975",
   "metadata": {
    "execution": {
     "iopub.execute_input": "2025-08-05T15:39:21.209419Z",
     "iopub.status.busy": "2025-08-05T15:39:21.209118Z",
     "iopub.status.idle": "2025-08-05T15:39:21.214267Z",
     "shell.execute_reply": "2025-08-05T15:39:21.213050Z"
    },
    "papermill": {
     "duration": 0.026201,
     "end_time": "2025-08-05T15:39:21.216229",
     "exception": false,
     "start_time": "2025-08-05T15:39:21.190028",
     "status": "completed"
    },
    "tags": []
   },
   "outputs": [
    {
     "name": "stdout",
     "output_type": "stream",
     "text": [
      "Current working directory: /dss/dsshome1/0C/ra93lal2/cma/CMA_Fairness_v2\n"
     ]
    }
   ],
   "source": [
    "import os\n",
    "print(\"Current working directory:\", os.getcwd())"
   ]
  },
  {
   "cell_type": "code",
   "execution_count": 3,
   "id": "2dce4c03",
   "metadata": {
    "execution": {
     "iopub.execute_input": "2025-08-05T15:39:21.254982Z",
     "iopub.status.busy": "2025-08-05T15:39:21.254273Z",
     "iopub.status.idle": "2025-08-05T15:39:21.261410Z",
     "shell.execute_reply": "2025-08-05T15:39:21.260353Z"
    },
    "papermill": {
     "duration": 0.028335,
     "end_time": "2025-08-05T15:39:21.263434",
     "exception": false,
     "start_time": "2025-08-05T15:39:21.235099",
     "status": "completed"
    },
    "tags": [
     "parameters"
    ]
   },
   "outputs": [],
   "source": [
    "run_no = 0\n",
    "universe_id = \"test\"\n",
    "universe = {\n",
    "    \"training_size\": \"25k\", # \"25k\", \"5k\", \"1k\"\n",
    "    \"training_year\": \"2014\", # \"2014\", \"2012_14\", \"2010_14\"\n",
    "    \"scale\": \"scale\", # \"scale\", \"do-not-scale\",\n",
    "    \"model\": \"elasticnet\", # \"logreg\", \"penalized_logreg\", \"rf\", \"gbm\", \"elasticnet\"\n",
    "    \"cutoff\": [\"quantile_0.15\", \"quantile_0.30\"],\n",
    "    \"exclude_features\": \"age\", # \"none\", \"nationality\", \"sex\", \"nationality-sex\", \"age\"\n",
    "    \"exclude_subgroups\": \"keep-all\", # \"keep-all\", \"drop-non-german\"\n",
    "    \"eval_fairness_grouping\": [\"majority-minority\", \"nationality-all\"]\n",
    "}\n",
    "\n",
    "output_dir=\"./output\"\n",
    "seed=0"
   ]
  },
  {
   "cell_type": "code",
   "execution_count": 4,
   "id": "c4cb6d29",
   "metadata": {
    "execution": {
     "iopub.execute_input": "2025-08-05T15:39:21.302476Z",
     "iopub.status.busy": "2025-08-05T15:39:21.302195Z",
     "iopub.status.idle": "2025-08-05T15:39:21.307091Z",
     "shell.execute_reply": "2025-08-05T15:39:21.305846Z"
    },
    "papermill": {
     "duration": 0.026077,
     "end_time": "2025-08-05T15:39:21.308959",
     "exception": false,
     "start_time": "2025-08-05T15:39:21.282882",
     "status": "completed"
    },
    "tags": [
     "injected-parameters"
    ]
   },
   "outputs": [],
   "source": [
    "# Parameters\n",
    "universe_id = \"7170ab0067abcca7ad911b3aeac6b314\"\n",
    "run_no = \"15\"\n",
    "universe = \"{\\\"cutoff\\\": [\\\"quantile_0.1\\\", \\\"quantile_0.25\\\"], \\\"eval_fairness_grouping\\\": [\\\"majority-minority\\\", \\\"nationality-all\\\"], \\\"exclude_features\\\": \\\"none\\\", \\\"exclude_subgroups\\\": \\\"keep-all\\\", \\\"model\\\": \\\"elasticnet\\\", \\\"scale\\\": \\\"scale\\\", \\\"training_size\\\": \\\"5k\\\", \\\"training_year\\\": \\\"2012_14\\\"}\"\n",
    "output_dir = \"output\"\n",
    "seed = \"2023\"\n"
   ]
  },
  {
   "cell_type": "code",
   "execution_count": 5,
   "id": "1650acaf",
   "metadata": {
    "execution": {
     "iopub.execute_input": "2025-08-05T15:39:21.348044Z",
     "iopub.status.busy": "2025-08-05T15:39:21.347742Z",
     "iopub.status.idle": "2025-08-05T15:39:21.352348Z",
     "shell.execute_reply": "2025-08-05T15:39:21.351255Z"
    },
    "papermill": {
     "duration": 0.026281,
     "end_time": "2025-08-05T15:39:21.354292",
     "exception": false,
     "start_time": "2025-08-05T15:39:21.328011",
     "status": "completed"
    },
    "tags": []
   },
   "outputs": [],
   "source": [
    "import json\n",
    "if isinstance(universe, str):\n",
    "    universe = json.loads(universe)"
   ]
  },
  {
   "cell_type": "code",
   "execution_count": 6,
   "id": "16620c48",
   "metadata": {
    "execution": {
     "iopub.execute_input": "2025-08-05T15:39:21.393279Z",
     "iopub.status.busy": "2025-08-05T15:39:21.392984Z",
     "iopub.status.idle": "2025-08-05T15:39:21.434346Z",
     "shell.execute_reply": "2025-08-05T15:39:21.433435Z"
    },
    "papermill": {
     "duration": 0.062488,
     "end_time": "2025-08-05T15:39:21.436080",
     "exception": false,
     "start_time": "2025-08-05T15:39:21.373592",
     "status": "completed"
    },
    "tags": []
   },
   "outputs": [],
   "source": [
    "# Auto-reload the custom package\n",
    "%load_ext autoreload\n",
    "%autoreload 1\n",
    "%aimport fairness_multiverse"
   ]
  },
  {
   "cell_type": "code",
   "execution_count": 7,
   "id": "01c5c9f3",
   "metadata": {
    "execution": {
     "iopub.execute_input": "2025-08-05T15:39:21.474513Z",
     "iopub.status.busy": "2025-08-05T15:39:21.474229Z",
     "iopub.status.idle": "2025-08-05T15:39:22.953142Z",
     "shell.execute_reply": "2025-08-05T15:39:22.952283Z"
    },
    "papermill": {
     "duration": 1.500086,
     "end_time": "2025-08-05T15:39:22.954777",
     "exception": false,
     "start_time": "2025-08-05T15:39:21.454691",
     "status": "completed"
    },
    "tags": []
   },
   "outputs": [],
   "source": [
    "from fairness_multiverse.universe import UniverseAnalysis\n",
    "\n",
    "universe_analysis = UniverseAnalysis(\n",
    "    run_no = run_no,\n",
    "    universe_id = universe_id,\n",
    "    universe = universe,\n",
    "    output_dir=output_dir,\n",
    ")"
   ]
  },
  {
   "cell_type": "code",
   "execution_count": 8,
   "id": "106241f5",
   "metadata": {
    "execution": {
     "iopub.execute_input": "2025-08-05T15:39:22.973561Z",
     "iopub.status.busy": "2025-08-05T15:39:22.973207Z",
     "iopub.status.idle": "2025-08-05T15:39:22.978824Z",
     "shell.execute_reply": "2025-08-05T15:39:22.977813Z"
    },
    "papermill": {
     "duration": 0.017147,
     "end_time": "2025-08-05T15:39:22.981044",
     "exception": false,
     "start_time": "2025-08-05T15:39:22.963897",
     "status": "completed"
    },
    "tags": []
   },
   "outputs": [
    {
     "name": "stdout",
     "output_type": "stream",
     "text": [
      "Using Seed: 2023\n"
     ]
    }
   ],
   "source": [
    "import numpy as np\n",
    "parsed_seed = int(seed)\n",
    "np.random.seed(parsed_seed)\n",
    "print(f\"Using Seed: {parsed_seed}\")"
   ]
  },
  {
   "cell_type": "markdown",
   "id": "e0ebdc57",
   "metadata": {
    "papermill": {
     "duration": 0.008844,
     "end_time": "2025-08-05T15:39:22.999483",
     "exception": false,
     "start_time": "2025-08-05T15:39:22.990639",
     "status": "completed"
    },
    "tags": []
   },
   "source": [
    "# Loading Data"
   ]
  },
  {
   "cell_type": "code",
   "execution_count": 9,
   "id": "f0496b8a",
   "metadata": {
    "execution": {
     "iopub.execute_input": "2025-08-05T15:39:23.017808Z",
     "iopub.status.busy": "2025-08-05T15:39:23.017114Z",
     "iopub.status.idle": "2025-08-05T15:39:33.687508Z",
     "shell.execute_reply": "2025-08-05T15:39:33.686444Z"
    },
    "papermill": {
     "duration": 10.68104,
     "end_time": "2025-08-05T15:39:33.689003",
     "exception": false,
     "start_time": "2025-08-05T15:39:23.007963",
     "status": "completed"
    },
    "tags": []
   },
   "outputs": [
    {
     "name": "stdout",
     "output_type": "stream",
     "text": [
      "Loading SIAB data from cache: data/siab_cached.csv.gz\n"
     ]
    },
    {
     "name": "stdout",
     "output_type": "stream",
     "text": [
      "(643690, 164)\n"
     ]
    }
   ],
   "source": [
    "from pathlib import Path\n",
    "import pandas as pd\n",
    "\n",
    "# File paths\n",
    "raw_file = Path(\"data/raw/siab.csv\")\n",
    "cache_file = Path(\"data/siab_cached.csv.gz\")\n",
    "\n",
    "# Ensure cache directory exists\n",
    "cache_file.parent.mkdir(parents=True, exist_ok=True)\n",
    "\n",
    "# Load with simple caching\n",
    "if cache_file.exists():\n",
    "    print(f\"Loading SIAB data from cache: {cache_file}\")\n",
    "    siab = pd.read_csv(cache_file, compression='gzip')\n",
    "else:\n",
    "    print(f\"Cache not found. Reading raw SIAB data: {raw_file}\")\n",
    "    siab = pd.read_csv(raw_file)\n",
    "    siab.to_csv(cache_file, index=False, compression='gzip')\n",
    "    print(f\"Cached SIAB data to: {cache_file}\")\n",
    "\n",
    "print(siab.shape)"
   ]
  },
  {
   "cell_type": "code",
   "execution_count": 10,
   "id": "db0ca512-5f53-4dba-abdb-a2888bca41ba",
   "metadata": {
    "execution": {
     "iopub.execute_input": "2025-08-05T15:39:33.710978Z",
     "iopub.status.busy": "2025-08-05T15:39:33.710622Z",
     "iopub.status.idle": "2025-08-05T15:39:33.715459Z",
     "shell.execute_reply": "2025-08-05T15:39:33.714477Z"
    },
    "papermill": {
     "duration": 0.015928,
     "end_time": "2025-08-05T15:39:33.716906",
     "exception": false,
     "start_time": "2025-08-05T15:39:33.700978",
     "status": "completed"
    },
    "tags": []
   },
   "outputs": [],
   "source": [
    "#siab"
   ]
  },
  {
   "cell_type": "markdown",
   "id": "997051c5-15bd-4b69-9786-c3001a3ce484",
   "metadata": {
    "papermill": {
     "duration": 0.008677,
     "end_time": "2025-08-05T15:39:33.735712",
     "exception": false,
     "start_time": "2025-08-05T15:39:33.727035",
     "status": "completed"
    },
    "tags": []
   },
   "source": [
    "# Splitting Data and Setting Training Data Size"
   ]
  },
  {
   "cell_type": "code",
   "execution_count": 11,
   "id": "aea9c6ef-6f46-42c8-85eb-5a62025c1508",
   "metadata": {
    "execution": {
     "iopub.execute_input": "2025-08-05T15:39:33.754622Z",
     "iopub.status.busy": "2025-08-05T15:39:33.753810Z",
     "iopub.status.idle": "2025-08-05T15:39:34.277187Z",
     "shell.execute_reply": "2025-08-05T15:39:34.276395Z"
    },
    "papermill": {
     "duration": 0.534515,
     "end_time": "2025-08-05T15:39:34.278800",
     "exception": false,
     "start_time": "2025-08-05T15:39:33.744285",
     "status": "completed"
    },
    "tags": []
   },
   "outputs": [],
   "source": [
    "from fairness_multiverse.universe import sample_by_year_size\n",
    "\n",
    "siab_train = sample_by_year_size(siab,\n",
    "                               training_year=universe[\"training_year\"],\n",
    "                               training_size=universe[\"training_size\"])"
   ]
  },
  {
   "cell_type": "code",
   "execution_count": 12,
   "id": "8d3afb32-789d-442c-8d5d-9f5aa8dd2eed",
   "metadata": {
    "execution": {
     "iopub.execute_input": "2025-08-05T15:39:34.298560Z",
     "iopub.status.busy": "2025-08-05T15:39:34.298032Z",
     "iopub.status.idle": "2025-08-05T15:39:34.302276Z",
     "shell.execute_reply": "2025-08-05T15:39:34.301403Z"
    },
    "papermill": {
     "duration": 0.015149,
     "end_time": "2025-08-05T15:39:34.303600",
     "exception": false,
     "start_time": "2025-08-05T15:39:34.288451",
     "status": "completed"
    },
    "tags": []
   },
   "outputs": [],
   "source": [
    "#siab_train.shape"
   ]
  },
  {
   "cell_type": "code",
   "execution_count": 13,
   "id": "d582db68-1a4c-47fb-84fc-08518dc1975a",
   "metadata": {
    "execution": {
     "iopub.execute_input": "2025-08-05T15:39:34.324046Z",
     "iopub.status.busy": "2025-08-05T15:39:34.323539Z",
     "iopub.status.idle": "2025-08-05T15:39:34.327528Z",
     "shell.execute_reply": "2025-08-05T15:39:34.326586Z"
    },
    "papermill": {
     "duration": 0.015359,
     "end_time": "2025-08-05T15:39:34.329141",
     "exception": false,
     "start_time": "2025-08-05T15:39:34.313782",
     "status": "completed"
    },
    "tags": []
   },
   "outputs": [],
   "source": [
    "#display(siab_train.groupby(\"year\").size())"
   ]
  },
  {
   "cell_type": "code",
   "execution_count": 14,
   "id": "a561edb4-d032-42cb-8256-22eac1111c64",
   "metadata": {
    "execution": {
     "iopub.execute_input": "2025-08-05T15:39:34.348852Z",
     "iopub.status.busy": "2025-08-05T15:39:34.348450Z",
     "iopub.status.idle": "2025-08-05T15:39:34.571409Z",
     "shell.execute_reply": "2025-08-05T15:39:34.570565Z"
    },
    "papermill": {
     "duration": 0.233895,
     "end_time": "2025-08-05T15:39:34.572940",
     "exception": false,
     "start_time": "2025-08-05T15:39:34.339045",
     "status": "completed"
    },
    "tags": []
   },
   "outputs": [],
   "source": [
    "#siab_train = siab_s[siab_s.year < 2015]\n",
    "siab_calib = siab[siab.year == 2015]\n",
    "siab_test = siab[siab.year == 2016]"
   ]
  },
  {
   "cell_type": "code",
   "execution_count": 15,
   "id": "472de16f-c3db-4916-846b-1f0de9cf1746",
   "metadata": {
    "execution": {
     "iopub.execute_input": "2025-08-05T15:39:34.604166Z",
     "iopub.status.busy": "2025-08-05T15:39:34.603691Z",
     "iopub.status.idle": "2025-08-05T15:39:34.612259Z",
     "shell.execute_reply": "2025-08-05T15:39:34.611042Z"
    },
    "papermill": {
     "duration": 0.031028,
     "end_time": "2025-08-05T15:39:34.614371",
     "exception": false,
     "start_time": "2025-08-05T15:39:34.583343",
     "status": "completed"
    },
    "tags": []
   },
   "outputs": [],
   "source": [
    "X_train = siab_train.iloc[:,4:164]\n",
    "y_train = siab_train.iloc[:, [3]]"
   ]
  },
  {
   "cell_type": "code",
   "execution_count": 16,
   "id": "828c96af-f43a-4ed6-ba47-8ac73a47d56c",
   "metadata": {
    "execution": {
     "iopub.execute_input": "2025-08-05T15:39:34.656343Z",
     "iopub.status.busy": "2025-08-05T15:39:34.655596Z",
     "iopub.status.idle": "2025-08-05T15:39:34.710295Z",
     "shell.execute_reply": "2025-08-05T15:39:34.709404Z"
    },
    "papermill": {
     "duration": 0.076745,
     "end_time": "2025-08-05T15:39:34.711802",
     "exception": false,
     "start_time": "2025-08-05T15:39:34.635057",
     "status": "completed"
    },
    "tags": []
   },
   "outputs": [],
   "source": [
    "X_calib = siab_calib.iloc[:,4:164]\n",
    "y_calib = siab_calib.iloc[:, [3]]"
   ]
  },
  {
   "cell_type": "code",
   "execution_count": 17,
   "id": "c34be9c3-6bd6-476e-acd3-845840e303be",
   "metadata": {
    "execution": {
     "iopub.execute_input": "2025-08-05T15:39:34.733941Z",
     "iopub.status.busy": "2025-08-05T15:39:34.732938Z",
     "iopub.status.idle": "2025-08-05T15:39:34.780618Z",
     "shell.execute_reply": "2025-08-05T15:39:34.779680Z"
    },
    "papermill": {
     "duration": 0.060668,
     "end_time": "2025-08-05T15:39:34.782518",
     "exception": false,
     "start_time": "2025-08-05T15:39:34.721850",
     "status": "completed"
    },
    "tags": []
   },
   "outputs": [],
   "source": [
    "X_test = siab_test.iloc[:,4:164]\n",
    "y_true = siab_test.iloc[:, [3]]"
   ]
  },
  {
   "cell_type": "code",
   "execution_count": 18,
   "id": "e6c733c5",
   "metadata": {
    "execution": {
     "iopub.execute_input": "2025-08-05T15:39:34.803483Z",
     "iopub.status.busy": "2025-08-05T15:39:34.803106Z",
     "iopub.status.idle": "2025-08-05T15:39:34.902135Z",
     "shell.execute_reply": "2025-08-05T15:39:34.901044Z"
    },
    "papermill": {
     "duration": 0.110523,
     "end_time": "2025-08-05T15:39:34.903713",
     "exception": false,
     "start_time": "2025-08-05T15:39:34.793190",
     "status": "completed"
    },
    "tags": []
   },
   "outputs": [],
   "source": [
    "# Auxiliary data needed downstream in the pipeline\n",
    "\n",
    "org_train = X_train.copy()\n",
    "org_test = X_test.copy()\n",
    "org_calib = X_calib.copy()"
   ]
  },
  {
   "cell_type": "markdown",
   "id": "0a4a1b33",
   "metadata": {
    "papermill": {
     "duration": 0.019785,
     "end_time": "2025-08-05T15:39:34.942759",
     "exception": false,
     "start_time": "2025-08-05T15:39:34.922974",
     "status": "completed"
    },
    "tags": []
   },
   "source": [
    "# Preprocessing Data"
   ]
  },
  {
   "cell_type": "code",
   "execution_count": 19,
   "id": "ca879031",
   "metadata": {
    "execution": {
     "iopub.execute_input": "2025-08-05T15:39:34.982351Z",
     "iopub.status.busy": "2025-08-05T15:39:34.981687Z",
     "iopub.status.idle": "2025-08-05T15:39:34.988420Z",
     "shell.execute_reply": "2025-08-05T15:39:34.987549Z"
    },
    "papermill": {
     "duration": 0.027826,
     "end_time": "2025-08-05T15:39:34.990123",
     "exception": false,
     "start_time": "2025-08-05T15:39:34.962297",
     "status": "completed"
    },
    "tags": []
   },
   "outputs": [],
   "source": [
    "# EXCLUDE PROTECTED FEATURES\n",
    "# ----------------------\n",
    "# \"exclude_features\": \"none\", # \"nationality\", \"sex\", \"nationality-sex\"\n",
    "\n",
    "excluded_features = universe[\"exclude_features\"].split(\"-\") # split, e.g.: \"nationality-sex\" -> [\"nationality\", \"sex\"]\n",
    "excluded_features_dictionary = {\n",
    "    \"nationality\": [\"maxdeutsch1\", \"maxdeutsch.Missing.\"],\n",
    "    \"sex\": [\"frau1\"],\n",
    "    \"age\": [\"age\"],\n",
    "}"
   ]
  },
  {
   "cell_type": "code",
   "execution_count": 20,
   "id": "b745ac60",
   "metadata": {
    "execution": {
     "iopub.execute_input": "2025-08-05T15:39:35.011501Z",
     "iopub.status.busy": "2025-08-05T15:39:35.010762Z",
     "iopub.status.idle": "2025-08-05T15:39:35.015613Z",
     "shell.execute_reply": "2025-08-05T15:39:35.014776Z"
    },
    "papermill": {
     "duration": 0.016373,
     "end_time": "2025-08-05T15:39:35.017162",
     "exception": false,
     "start_time": "2025-08-05T15:39:35.000789",
     "status": "completed"
    },
    "tags": []
   },
   "outputs": [],
   "source": [
    "# Code nice names to column names\n",
    "\n",
    "excluded_features_columns = [\n",
    "    excluded_features_dictionary[f] for f in excluded_features if len(f) > 0 and f != \"none\"\n",
    "]"
   ]
  },
  {
   "cell_type": "code",
   "execution_count": 21,
   "id": "f84f73a2",
   "metadata": {
    "execution": {
     "iopub.execute_input": "2025-08-05T15:39:35.038118Z",
     "iopub.status.busy": "2025-08-05T15:39:35.037738Z",
     "iopub.status.idle": "2025-08-05T15:39:35.043441Z",
     "shell.execute_reply": "2025-08-05T15:39:35.042584Z"
    },
    "papermill": {
     "duration": 0.017388,
     "end_time": "2025-08-05T15:39:35.044967",
     "exception": false,
     "start_time": "2025-08-05T15:39:35.027579",
     "status": "completed"
    },
    "tags": []
   },
   "outputs": [],
   "source": [
    "from utils import flatten_once\n",
    "\n",
    "excluded_features_columns = flatten_once(excluded_features_columns)"
   ]
  },
  {
   "cell_type": "code",
   "execution_count": 22,
   "id": "884dea22",
   "metadata": {
    "execution": {
     "iopub.execute_input": "2025-08-05T15:39:35.066962Z",
     "iopub.status.busy": "2025-08-05T15:39:35.066607Z",
     "iopub.status.idle": "2025-08-05T15:39:35.071656Z",
     "shell.execute_reply": "2025-08-05T15:39:35.070866Z"
    },
    "papermill": {
     "duration": 0.017221,
     "end_time": "2025-08-05T15:39:35.073056",
     "exception": false,
     "start_time": "2025-08-05T15:39:35.055835",
     "status": "completed"
    },
    "tags": []
   },
   "outputs": [],
   "source": [
    "if len(excluded_features_columns) > 0:\n",
    "    print(f\"Dropping features: {excluded_features_columns}\")\n",
    "    X_train.drop(excluded_features_columns, axis=1, inplace=True)"
   ]
  },
  {
   "cell_type": "code",
   "execution_count": 23,
   "id": "95ab8b16",
   "metadata": {
    "execution": {
     "iopub.execute_input": "2025-08-05T15:39:35.094513Z",
     "iopub.status.busy": "2025-08-05T15:39:35.094162Z",
     "iopub.status.idle": "2025-08-05T15:39:35.098907Z",
     "shell.execute_reply": "2025-08-05T15:39:35.097962Z"
    },
    "papermill": {
     "duration": 0.01651,
     "end_time": "2025-08-05T15:39:35.100599",
     "exception": false,
     "start_time": "2025-08-05T15:39:35.084089",
     "status": "completed"
    },
    "tags": []
   },
   "outputs": [],
   "source": [
    "if len(excluded_features_columns) > 0:\n",
    "    print(f\"Dropping features: {excluded_features_columns}\")\n",
    "    X_test.drop(excluded_features_columns, axis=1, inplace=True)"
   ]
  },
  {
   "cell_type": "code",
   "execution_count": 24,
   "id": "1853aaf5-fb9f-46cb-a2b5-8ea4ae2237e4",
   "metadata": {
    "execution": {
     "iopub.execute_input": "2025-08-05T15:39:35.122202Z",
     "iopub.status.busy": "2025-08-05T15:39:35.121840Z",
     "iopub.status.idle": "2025-08-05T15:39:35.126418Z",
     "shell.execute_reply": "2025-08-05T15:39:35.125655Z"
    },
    "papermill": {
     "duration": 0.016254,
     "end_time": "2025-08-05T15:39:35.127826",
     "exception": false,
     "start_time": "2025-08-05T15:39:35.111572",
     "status": "completed"
    },
    "tags": []
   },
   "outputs": [],
   "source": [
    "if len(excluded_features_columns) > 0:\n",
    "    print(f\"Dropping features: {excluded_features_columns}\")\n",
    "    X_calib.drop(excluded_features_columns, axis=1, inplace=True)"
   ]
  },
  {
   "cell_type": "code",
   "execution_count": 25,
   "id": "76c4dc6d",
   "metadata": {
    "execution": {
     "iopub.execute_input": "2025-08-05T15:39:35.151405Z",
     "iopub.status.busy": "2025-08-05T15:39:35.151035Z",
     "iopub.status.idle": "2025-08-05T15:39:35.155534Z",
     "shell.execute_reply": "2025-08-05T15:39:35.154642Z"
    },
    "papermill": {
     "duration": 0.017898,
     "end_time": "2025-08-05T15:39:35.157152",
     "exception": false,
     "start_time": "2025-08-05T15:39:35.139254",
     "status": "completed"
    },
    "tags": []
   },
   "outputs": [],
   "source": [
    "# EXCLUDE CERTAIN SUBGROUPS\n",
    "# ----------------------\n",
    "\n",
    "mode = universe.get(\"exclude_subgroups\", \"keep-all\") \n",
    "# Fetches the exclude_subgroups setting from the universe dict.\n",
    "# Defaults to \"keep-all\" if the key is missing."
   ]
  },
  {
   "cell_type": "code",
   "execution_count": 26,
   "id": "21994072",
   "metadata": {
    "execution": {
     "iopub.execute_input": "2025-08-05T15:39:35.178459Z",
     "iopub.status.busy": "2025-08-05T15:39:35.178063Z",
     "iopub.status.idle": "2025-08-05T15:39:35.183225Z",
     "shell.execute_reply": "2025-08-05T15:39:35.182404Z"
    },
    "papermill": {
     "duration": 0.016729,
     "end_time": "2025-08-05T15:39:35.184812",
     "exception": false,
     "start_time": "2025-08-05T15:39:35.168083",
     "status": "completed"
    },
    "tags": []
   },
   "outputs": [],
   "source": [
    "if mode == \"keep-all\":\n",
    "    keep_mask = pd.Series(True, index=org_train.index)\n",
    "\n",
    "# org_train contains the original feature columns from features_org (in Simson)\n",
    "# features_org contains unprocessed features, for me X_train at beginning ???\n",
    "# For keep-all, creates a boolean Series (keep_mask) of all True, so no rows are removed.\n",
    "\n",
    "elif mode == \"drop-non-german\":\n",
    "    keep_mask = org_train[\"maxdeutsch1\"] == 1 # ??? what about missing values?\n",
    "\n",
    "else:\n",
    "    raise ValueError(f\"Unsupported mode for exclude_subgroups: {mode}\")"
   ]
  },
  {
   "cell_type": "code",
   "execution_count": 27,
   "id": "71651440",
   "metadata": {
    "execution": {
     "iopub.execute_input": "2025-08-05T15:39:35.205440Z",
     "iopub.status.busy": "2025-08-05T15:39:35.204937Z",
     "iopub.status.idle": "2025-08-05T15:39:35.210153Z",
     "shell.execute_reply": "2025-08-05T15:39:35.209319Z"
    },
    "papermill": {
     "duration": 0.016706,
     "end_time": "2025-08-05T15:39:35.211786",
     "exception": false,
     "start_time": "2025-08-05T15:39:35.195080",
     "status": "completed"
    },
    "tags": []
   },
   "outputs": [],
   "source": [
    "n_drop = (~keep_mask).sum() # Calculates how many rows are set to be dropped\n",
    "if n_drop > 0:\n",
    "    pct = n_drop / len(keep_mask) * 100\n",
    "    print(f\"Dropping {n_drop} rows ({pct:.2f}%) where mode='{mode}'\")"
   ]
  },
  {
   "cell_type": "code",
   "execution_count": 28,
   "id": "5fb8eee5",
   "metadata": {
    "execution": {
     "iopub.execute_input": "2025-08-05T15:39:35.232562Z",
     "iopub.status.busy": "2025-08-05T15:39:35.232057Z",
     "iopub.status.idle": "2025-08-05T15:39:35.239590Z",
     "shell.execute_reply": "2025-08-05T15:39:35.238716Z"
    },
    "papermill": {
     "duration": 0.019084,
     "end_time": "2025-08-05T15:39:35.241244",
     "exception": false,
     "start_time": "2025-08-05T15:39:35.222160",
     "status": "completed"
    },
    "tags": []
   },
   "outputs": [],
   "source": [
    "X_train = X_train[keep_mask]"
   ]
  },
  {
   "cell_type": "code",
   "execution_count": 29,
   "id": "b202bb3a",
   "metadata": {
    "execution": {
     "iopub.execute_input": "2025-08-05T15:39:35.262337Z",
     "iopub.status.busy": "2025-08-05T15:39:35.262028Z",
     "iopub.status.idle": "2025-08-05T15:39:35.266675Z",
     "shell.execute_reply": "2025-08-05T15:39:35.265959Z"
    },
    "papermill": {
     "duration": 0.01605,
     "end_time": "2025-08-05T15:39:35.268054",
     "exception": false,
     "start_time": "2025-08-05T15:39:35.252004",
     "status": "completed"
    },
    "tags": []
   },
   "outputs": [],
   "source": [
    "y_train = y_train[keep_mask]"
   ]
  },
  {
   "cell_type": "markdown",
   "id": "493e2ac3",
   "metadata": {
    "papermill": {
     "duration": 0.009214,
     "end_time": "2025-08-05T15:39:35.288276",
     "exception": false,
     "start_time": "2025-08-05T15:39:35.279062",
     "status": "completed"
    },
    "tags": []
   },
   "source": [
    "# Model Training"
   ]
  },
  {
   "cell_type": "code",
   "execution_count": 30,
   "id": "679e1268",
   "metadata": {
    "execution": {
     "iopub.execute_input": "2025-08-05T15:39:35.308018Z",
     "iopub.status.busy": "2025-08-05T15:39:35.307700Z",
     "iopub.status.idle": "2025-08-05T15:39:35.381530Z",
     "shell.execute_reply": "2025-08-05T15:39:35.380736Z"
    },
    "papermill": {
     "duration": 0.085481,
     "end_time": "2025-08-05T15:39:35.383035",
     "exception": false,
     "start_time": "2025-08-05T15:39:35.297554",
     "status": "completed"
    },
    "tags": []
   },
   "outputs": [],
   "source": [
    "from sklearn.linear_model import LogisticRegression\n",
    "from sklearn.ensemble import GradientBoostingClassifier, RandomForestClassifier\n",
    "\n",
    "if (universe[\"model\"] == \"logreg\"):\n",
    "    model = LogisticRegression() #penalty=\"none\", solver=\"newton-cg\", max_iter=1) # include random_state=19 ?\n",
    "elif (universe[\"model\"] == \"penalized_logreg\"):\n",
    "    model = LogisticRegression(penalty=\"l2\", C=0.1) #, solver=\"newton-cg\", max_iter=1)\n",
    "elif (universe[\"model\"] == \"rf\"):\n",
    "    model = RandomForestClassifier() # n_estimators=100, n_jobs=-1\n",
    "elif (universe[\"model\"] == \"gbm\"):\n",
    "    model = GradientBoostingClassifier()\n",
    "elif (universe[\"model\"] == \"elasticnet\"):\n",
    "    model = LogisticRegression(penalty = 'elasticnet', solver = 'saga', l1_ratio = 0.5) # max_iter=5000\n",
    "else:\n",
    "    raise \"Unsupported universe.model\""
   ]
  },
  {
   "cell_type": "code",
   "execution_count": 31,
   "id": "0cc8f744",
   "metadata": {
    "execution": {
     "iopub.execute_input": "2025-08-05T15:39:35.403739Z",
     "iopub.status.busy": "2025-08-05T15:39:35.403219Z",
     "iopub.status.idle": "2025-08-05T15:39:35.408907Z",
     "shell.execute_reply": "2025-08-05T15:39:35.407783Z"
    },
    "papermill": {
     "duration": 0.017771,
     "end_time": "2025-08-05T15:39:35.410867",
     "exception": false,
     "start_time": "2025-08-05T15:39:35.393096",
     "status": "completed"
    },
    "tags": []
   },
   "outputs": [],
   "source": [
    "import numpy as np\n",
    "from sklearn.pipeline import Pipeline\n",
    "from sklearn.preprocessing import StandardScaler\n",
    "\n",
    "model = Pipeline([\n",
    "    #(\"continuous_processor\", continuous_processor),\n",
    "    #(\"categorical_preprocessor\", categorical_preprocessor),\n",
    "    (\"scale\", StandardScaler() if universe[\"scale\"] == \"scale\" else None), \n",
    "    (\"model\", model),\n",
    "])"
   ]
  },
  {
   "cell_type": "code",
   "execution_count": 32,
   "id": "9442c04d",
   "metadata": {
    "execution": {
     "iopub.execute_input": "2025-08-05T15:39:35.450355Z",
     "iopub.status.busy": "2025-08-05T15:39:35.449594Z",
     "iopub.status.idle": "2025-08-05T15:39:37.315230Z",
     "shell.execute_reply": "2025-08-05T15:39:37.314460Z"
    },
    "papermill": {
     "duration": 1.886305,
     "end_time": "2025-08-05T15:39:37.316481",
     "exception": false,
     "start_time": "2025-08-05T15:39:35.430176",
     "status": "completed"
    },
    "tags": []
   },
   "outputs": [
    {
     "name": "stderr",
     "output_type": "stream",
     "text": [
      "/dss/dsshome1/0C/ra93lal2/.local/share/virtualenvs/CMA_Fairness_v2-3j10GkSs/lib/python3.10/site-packages/sklearn/linear_model/_sag.py:350: ConvergenceWarning: The max_iter was reached which means the coef_ did not converge\n",
      "  warnings.warn(\n"
     ]
    },
    {
     "data": {
      "text/html": [
       "<style>#sk-container-id-1 {color: black;background-color: white;}#sk-container-id-1 pre{padding: 0;}#sk-container-id-1 div.sk-toggleable {background-color: white;}#sk-container-id-1 label.sk-toggleable__label {cursor: pointer;display: block;width: 100%;margin-bottom: 0;padding: 0.3em;box-sizing: border-box;text-align: center;}#sk-container-id-1 label.sk-toggleable__label-arrow:before {content: \"▸\";float: left;margin-right: 0.25em;color: #696969;}#sk-container-id-1 label.sk-toggleable__label-arrow:hover:before {color: black;}#sk-container-id-1 div.sk-estimator:hover label.sk-toggleable__label-arrow:before {color: black;}#sk-container-id-1 div.sk-toggleable__content {max-height: 0;max-width: 0;overflow: hidden;text-align: left;background-color: #f0f8ff;}#sk-container-id-1 div.sk-toggleable__content pre {margin: 0.2em;color: black;border-radius: 0.25em;background-color: #f0f8ff;}#sk-container-id-1 input.sk-toggleable__control:checked~div.sk-toggleable__content {max-height: 200px;max-width: 100%;overflow: auto;}#sk-container-id-1 input.sk-toggleable__control:checked~label.sk-toggleable__label-arrow:before {content: \"▾\";}#sk-container-id-1 div.sk-estimator input.sk-toggleable__control:checked~label.sk-toggleable__label {background-color: #d4ebff;}#sk-container-id-1 div.sk-label input.sk-toggleable__control:checked~label.sk-toggleable__label {background-color: #d4ebff;}#sk-container-id-1 input.sk-hidden--visually {border: 0;clip: rect(1px 1px 1px 1px);clip: rect(1px, 1px, 1px, 1px);height: 1px;margin: -1px;overflow: hidden;padding: 0;position: absolute;width: 1px;}#sk-container-id-1 div.sk-estimator {font-family: monospace;background-color: #f0f8ff;border: 1px dotted black;border-radius: 0.25em;box-sizing: border-box;margin-bottom: 0.5em;}#sk-container-id-1 div.sk-estimator:hover {background-color: #d4ebff;}#sk-container-id-1 div.sk-parallel-item::after {content: \"\";width: 100%;border-bottom: 1px solid gray;flex-grow: 1;}#sk-container-id-1 div.sk-label:hover label.sk-toggleable__label {background-color: #d4ebff;}#sk-container-id-1 div.sk-serial::before {content: \"\";position: absolute;border-left: 1px solid gray;box-sizing: border-box;top: 0;bottom: 0;left: 50%;z-index: 0;}#sk-container-id-1 div.sk-serial {display: flex;flex-direction: column;align-items: center;background-color: white;padding-right: 0.2em;padding-left: 0.2em;position: relative;}#sk-container-id-1 div.sk-item {position: relative;z-index: 1;}#sk-container-id-1 div.sk-parallel {display: flex;align-items: stretch;justify-content: center;background-color: white;position: relative;}#sk-container-id-1 div.sk-item::before, #sk-container-id-1 div.sk-parallel-item::before {content: \"\";position: absolute;border-left: 1px solid gray;box-sizing: border-box;top: 0;bottom: 0;left: 50%;z-index: -1;}#sk-container-id-1 div.sk-parallel-item {display: flex;flex-direction: column;z-index: 1;position: relative;background-color: white;}#sk-container-id-1 div.sk-parallel-item:first-child::after {align-self: flex-end;width: 50%;}#sk-container-id-1 div.sk-parallel-item:last-child::after {align-self: flex-start;width: 50%;}#sk-container-id-1 div.sk-parallel-item:only-child::after {width: 0;}#sk-container-id-1 div.sk-dashed-wrapped {border: 1px dashed gray;margin: 0 0.4em 0.5em 0.4em;box-sizing: border-box;padding-bottom: 0.4em;background-color: white;}#sk-container-id-1 div.sk-label label {font-family: monospace;font-weight: bold;display: inline-block;line-height: 1.2em;}#sk-container-id-1 div.sk-label-container {text-align: center;}#sk-container-id-1 div.sk-container {/* jupyter's `normalize.less` sets `[hidden] { display: none; }` but bootstrap.min.css set `[hidden] { display: none !important; }` so we also need the `!important` here to be able to override the default hidden behavior on the sphinx rendered scikit-learn.org. See: https://github.com/scikit-learn/scikit-learn/issues/21755 */display: inline-block !important;position: relative;}#sk-container-id-1 div.sk-text-repr-fallback {display: none;}</style><div id=\"sk-container-id-1\" class=\"sk-top-container\"><div class=\"sk-text-repr-fallback\"><pre>Pipeline(steps=[(&#x27;scale&#x27;, StandardScaler()),\n",
       "                (&#x27;model&#x27;,\n",
       "                 LogisticRegression(l1_ratio=0.5, penalty=&#x27;elasticnet&#x27;,\n",
       "                                    solver=&#x27;saga&#x27;))])</pre><b>In a Jupyter environment, please rerun this cell to show the HTML representation or trust the notebook. <br />On GitHub, the HTML representation is unable to render, please try loading this page with nbviewer.org.</b></div><div class=\"sk-container\" hidden><div class=\"sk-item sk-dashed-wrapped\"><div class=\"sk-label-container\"><div class=\"sk-label sk-toggleable\"><input class=\"sk-toggleable__control sk-hidden--visually\" id=\"sk-estimator-id-1\" type=\"checkbox\" ><label for=\"sk-estimator-id-1\" class=\"sk-toggleable__label sk-toggleable__label-arrow\">Pipeline</label><div class=\"sk-toggleable__content\"><pre>Pipeline(steps=[(&#x27;scale&#x27;, StandardScaler()),\n",
       "                (&#x27;model&#x27;,\n",
       "                 LogisticRegression(l1_ratio=0.5, penalty=&#x27;elasticnet&#x27;,\n",
       "                                    solver=&#x27;saga&#x27;))])</pre></div></div></div><div class=\"sk-serial\"><div class=\"sk-item\"><div class=\"sk-estimator sk-toggleable\"><input class=\"sk-toggleable__control sk-hidden--visually\" id=\"sk-estimator-id-2\" type=\"checkbox\" ><label for=\"sk-estimator-id-2\" class=\"sk-toggleable__label sk-toggleable__label-arrow\">StandardScaler</label><div class=\"sk-toggleable__content\"><pre>StandardScaler()</pre></div></div></div><div class=\"sk-item\"><div class=\"sk-estimator sk-toggleable\"><input class=\"sk-toggleable__control sk-hidden--visually\" id=\"sk-estimator-id-3\" type=\"checkbox\" ><label for=\"sk-estimator-id-3\" class=\"sk-toggleable__label sk-toggleable__label-arrow\">LogisticRegression</label><div class=\"sk-toggleable__content\"><pre>LogisticRegression(l1_ratio=0.5, penalty=&#x27;elasticnet&#x27;, solver=&#x27;saga&#x27;)</pre></div></div></div></div></div></div></div>"
      ],
      "text/plain": [
       "Pipeline(steps=[('scale', StandardScaler()),\n",
       "                ('model',\n",
       "                 LogisticRegression(l1_ratio=0.5, penalty='elasticnet',\n",
       "                                    solver='saga'))])"
      ]
     },
     "execution_count": 32,
     "metadata": {},
     "output_type": "execute_result"
    }
   ],
   "source": [
    "model.fit(X_train, y_train.values.ravel())"
   ]
  },
  {
   "cell_type": "code",
   "execution_count": 33,
   "id": "af59f8c0",
   "metadata": {
    "execution": {
     "iopub.execute_input": "2025-08-05T15:39:37.338162Z",
     "iopub.status.busy": "2025-08-05T15:39:37.337468Z",
     "iopub.status.idle": "2025-08-05T15:39:37.343863Z",
     "shell.execute_reply": "2025-08-05T15:39:37.342765Z"
    },
    "papermill": {
     "duration": 0.019661,
     "end_time": "2025-08-05T15:39:37.346566",
     "exception": false,
     "start_time": "2025-08-05T15:39:37.326905",
     "status": "completed"
    },
    "tags": []
   },
   "outputs": [],
   "source": [
    "from fairness_multiverse.universe import predict_w_threshold"
   ]
  },
  {
   "cell_type": "code",
   "execution_count": 34,
   "id": "a7cf2e16",
   "metadata": {
    "execution": {
     "iopub.execute_input": "2025-08-05T15:39:37.385565Z",
     "iopub.status.busy": "2025-08-05T15:39:37.385228Z",
     "iopub.status.idle": "2025-08-05T15:39:37.587787Z",
     "shell.execute_reply": "2025-08-05T15:39:37.586739Z"
    },
    "papermill": {
     "duration": 0.223158,
     "end_time": "2025-08-05T15:39:37.589290",
     "exception": false,
     "start_time": "2025-08-05T15:39:37.366132",
     "status": "completed"
    },
    "tags": []
   },
   "outputs": [
    {
     "data": {
      "text/plain": [
       "0.8575186712741054"
      ]
     },
     "execution_count": 34,
     "metadata": {},
     "output_type": "execute_result"
    }
   ],
   "source": [
    "probs_test = model.predict_proba(X_test)\n",
    "\n",
    "'''\n",
    "Below code returns a boolean array (or binary 0/1 array depending on how it’s used) where each element \n",
    "is True if the probability of class 1 is greater than or equal to the threshold, and False otherwise.\n",
    "'''\n",
    "y_pred_default = predict_w_threshold(probs_test, 0.5)\n",
    "\n",
    "from sklearn.metrics import accuracy_score\n",
    "\n",
    "# Naive prediction\n",
    "accuracy_score(y_true = y_true, y_pred = y_pred_default)"
   ]
  },
  {
   "cell_type": "code",
   "execution_count": 35,
   "id": "081964c3",
   "metadata": {
    "execution": {
     "iopub.execute_input": "2025-08-05T15:39:37.629815Z",
     "iopub.status.busy": "2025-08-05T15:39:37.629253Z",
     "iopub.status.idle": "2025-08-05T15:39:37.818044Z",
     "shell.execute_reply": "2025-08-05T15:39:37.816971Z"
    },
    "papermill": {
     "duration": 0.211381,
     "end_time": "2025-08-05T15:39:37.820039",
     "exception": false,
     "start_time": "2025-08-05T15:39:37.608658",
     "status": "completed"
    },
    "tags": []
   },
   "outputs": [
    {
     "data": {
      "text/plain": [
       "array([0, 0, 0, ..., 0, 0, 0])"
      ]
     },
     "execution_count": 35,
     "metadata": {},
     "output_type": "execute_result"
    }
   ],
   "source": [
    "model.predict(X_test)"
   ]
  },
  {
   "cell_type": "markdown",
   "id": "56c9705b",
   "metadata": {
    "papermill": {
     "duration": 0.023836,
     "end_time": "2025-08-05T15:39:37.868297",
     "exception": false,
     "start_time": "2025-08-05T15:39:37.844461",
     "status": "completed"
    },
    "tags": []
   },
   "source": [
    "# Conformal Prediction"
   ]
  },
  {
   "cell_type": "code",
   "execution_count": 36,
   "id": "160ec6ff",
   "metadata": {
    "execution": {
     "iopub.execute_input": "2025-08-05T15:39:37.918292Z",
     "iopub.status.busy": "2025-08-05T15:39:37.917493Z",
     "iopub.status.idle": "2025-08-05T15:39:37.923595Z",
     "shell.execute_reply": "2025-08-05T15:39:37.922323Z"
    },
    "papermill": {
     "duration": 0.033448,
     "end_time": "2025-08-05T15:39:37.925624",
     "exception": false,
     "start_time": "2025-08-05T15:39:37.892176",
     "status": "completed"
    },
    "tags": []
   },
   "outputs": [],
   "source": [
    "# Miscoverage level for conformal prediction (10% allowed error rate => 90% target coverage)\n",
    "alpha = 0.1"
   ]
  },
  {
   "cell_type": "code",
   "execution_count": 37,
   "id": "eadf4555-3dd3-440e-8e35-f82a4ad9f855",
   "metadata": {
    "execution": {
     "iopub.execute_input": "2025-08-05T15:39:37.971563Z",
     "iopub.status.busy": "2025-08-05T15:39:37.971084Z",
     "iopub.status.idle": "2025-08-05T15:39:38.226774Z",
     "shell.execute_reply": "2025-08-05T15:39:38.225504Z"
    },
    "papermill": {
     "duration": 0.281613,
     "end_time": "2025-08-05T15:39:38.229277",
     "exception": false,
     "start_time": "2025-08-05T15:39:37.947664",
     "status": "completed"
    },
    "tags": []
   },
   "outputs": [],
   "source": [
    "probs_calib = model.predict_proba(X_calib)"
   ]
  },
  {
   "cell_type": "code",
   "execution_count": 38,
   "id": "2ed93547-6d5d-4983-9b36-1ecb300da49a",
   "metadata": {
    "execution": {
     "iopub.execute_input": "2025-08-05T15:39:38.287445Z",
     "iopub.status.busy": "2025-08-05T15:39:38.287096Z",
     "iopub.status.idle": "2025-08-05T15:39:38.292972Z",
     "shell.execute_reply": "2025-08-05T15:39:38.291784Z"
    },
    "papermill": {
     "duration": 0.037458,
     "end_time": "2025-08-05T15:39:38.295681",
     "exception": false,
     "start_time": "2025-08-05T15:39:38.258223",
     "status": "completed"
    },
    "tags": []
   },
   "outputs": [],
   "source": [
    "y_calib = y_calib.values.ravel().astype(int)"
   ]
  },
  {
   "cell_type": "code",
   "execution_count": 39,
   "id": "65d1320d-f588-4b38-9072-62af1ae97f7d",
   "metadata": {
    "execution": {
     "iopub.execute_input": "2025-08-05T15:39:38.353013Z",
     "iopub.status.busy": "2025-08-05T15:39:38.352655Z",
     "iopub.status.idle": "2025-08-05T15:39:38.360083Z",
     "shell.execute_reply": "2025-08-05T15:39:38.359326Z"
    },
    "papermill": {
     "duration": 0.037377,
     "end_time": "2025-08-05T15:39:38.361467",
     "exception": false,
     "start_time": "2025-08-05T15:39:38.324090",
     "status": "completed"
    },
    "tags": []
   },
   "outputs": [],
   "source": [
    "from fairness_multiverse.conformal import compute_nc_scores\n",
    "\n",
    "# Compute nonconformity scores on calibration set (1 - probability of true class)\n",
    "nc_scores = compute_nc_scores(probs_calib, y_calib)"
   ]
  },
  {
   "cell_type": "code",
   "execution_count": 40,
   "id": "df3b8ca3-53b7-43d5-9667-7c85da7aeda2",
   "metadata": {
    "execution": {
     "iopub.execute_input": "2025-08-05T15:39:38.385417Z",
     "iopub.status.busy": "2025-08-05T15:39:38.384824Z",
     "iopub.status.idle": "2025-08-05T15:39:38.391739Z",
     "shell.execute_reply": "2025-08-05T15:39:38.390866Z"
    },
    "papermill": {
     "duration": 0.020105,
     "end_time": "2025-08-05T15:39:38.393062",
     "exception": false,
     "start_time": "2025-08-05T15:39:38.372957",
     "status": "completed"
    },
    "tags": []
   },
   "outputs": [],
   "source": [
    "from fairness_multiverse.conformal import find_threshold\n",
    "\n",
    "# Find conformal threshold q_hat for the given alpha (split conformal method)\n",
    "q_hat = find_threshold(nc_scores, alpha)"
   ]
  },
  {
   "cell_type": "code",
   "execution_count": 41,
   "id": "4d29e6c1-0ef6-4aa4-b8fe-4fe79b0d033a",
   "metadata": {
    "execution": {
     "iopub.execute_input": "2025-08-05T15:39:38.415901Z",
     "iopub.status.busy": "2025-08-05T15:39:38.415542Z",
     "iopub.status.idle": "2025-08-05T15:39:38.422418Z",
     "shell.execute_reply": "2025-08-05T15:39:38.421602Z"
    },
    "papermill": {
     "duration": 0.020055,
     "end_time": "2025-08-05T15:39:38.424362",
     "exception": false,
     "start_time": "2025-08-05T15:39:38.404307",
     "status": "completed"
    },
    "tags": []
   },
   "outputs": [
    {
     "data": {
      "text/plain": [
       "0.6847725090188004"
      ]
     },
     "execution_count": 41,
     "metadata": {},
     "output_type": "execute_result"
    }
   ],
   "source": [
    "q_hat"
   ]
  },
  {
   "cell_type": "code",
   "execution_count": 42,
   "id": "92460794-cdac-4be2-ba28-f28c0515a6fb",
   "metadata": {
    "execution": {
     "iopub.execute_input": "2025-08-05T15:39:38.481952Z",
     "iopub.status.busy": "2025-08-05T15:39:38.481381Z",
     "iopub.status.idle": "2025-08-05T15:39:39.276226Z",
     "shell.execute_reply": "2025-08-05T15:39:39.275207Z"
    },
    "papermill": {
     "duration": 0.825167,
     "end_time": "2025-08-05T15:39:39.277880",
     "exception": false,
     "start_time": "2025-08-05T15:39:38.452713",
     "status": "completed"
    },
    "tags": []
   },
   "outputs": [],
   "source": [
    "from fairness_multiverse.conformal import predict_conformal_sets\n",
    "\n",
    "# Generate prediction sets for each test example\n",
    "pred_sets = predict_conformal_sets(model, X_test, q_hat)"
   ]
  },
  {
   "cell_type": "code",
   "execution_count": 43,
   "id": "d90c9a65-e6db-4f5d-80cd-e68fb7e46829",
   "metadata": {
    "execution": {
     "iopub.execute_input": "2025-08-05T15:39:39.305909Z",
     "iopub.status.busy": "2025-08-05T15:39:39.305365Z",
     "iopub.status.idle": "2025-08-05T15:39:39.311238Z",
     "shell.execute_reply": "2025-08-05T15:39:39.310093Z"
    },
    "papermill": {
     "duration": 0.019091,
     "end_time": "2025-08-05T15:39:39.313209",
     "exception": false,
     "start_time": "2025-08-05T15:39:39.294118",
     "status": "completed"
    },
    "tags": []
   },
   "outputs": [],
   "source": [
    "y_true = y_true.squeeze()"
   ]
  },
  {
   "cell_type": "code",
   "execution_count": 44,
   "id": "3a58a54a-1e68-46b9-927a-df01f18aebc8",
   "metadata": {
    "execution": {
     "iopub.execute_input": "2025-08-05T15:39:39.357020Z",
     "iopub.status.busy": "2025-08-05T15:39:39.356315Z",
     "iopub.status.idle": "2025-08-05T15:39:40.310870Z",
     "shell.execute_reply": "2025-08-05T15:39:40.309683Z"
    },
    "papermill": {
     "duration": 0.97895,
     "end_time": "2025-08-05T15:39:40.313349",
     "exception": false,
     "start_time": "2025-08-05T15:39:39.334399",
     "status": "completed"
    },
    "tags": []
   },
   "outputs": [],
   "source": [
    "from fairness_multiverse.conformal import evaluate_sets\n",
    "\n",
    "# Evaluate coverage and average set size on test data\n",
    "metrics = evaluate_sets(pred_sets, y_true)"
   ]
  },
  {
   "cell_type": "markdown",
   "id": "2b569c12-9aaa-4c88-98c9-bbcd0cf3ebb8",
   "metadata": {
    "papermill": {
     "duration": 0.023851,
     "end_time": "2025-08-05T15:39:40.370556",
     "exception": false,
     "start_time": "2025-08-05T15:39:40.346705",
     "status": "completed"
    },
    "tags": []
   },
   "source": [
    "# CP Metrics"
   ]
  },
  {
   "cell_type": "code",
   "execution_count": 45,
   "id": "5ce0a5cb-201f-45a0-ade5-94c7f0bd6095",
   "metadata": {
    "execution": {
     "iopub.execute_input": "2025-08-05T15:39:40.430401Z",
     "iopub.status.busy": "2025-08-05T15:39:40.429915Z",
     "iopub.status.idle": "2025-08-05T15:39:40.437469Z",
     "shell.execute_reply": "2025-08-05T15:39:40.436483Z"
    },
    "papermill": {
     "duration": 0.04215,
     "end_time": "2025-08-05T15:39:40.439955",
     "exception": false,
     "start_time": "2025-08-05T15:39:40.397805",
     "status": "completed"
    },
    "tags": []
   },
   "outputs": [
    {
     "data": {
      "text/plain": [
       "{'coverage': 0.9108237654665032, 'avg_size': 1.1363616096310334}"
      ]
     },
     "execution_count": 45,
     "metadata": {},
     "output_type": "execute_result"
    }
   ],
   "source": [
    "metrics"
   ]
  },
  {
   "cell_type": "code",
   "execution_count": 46,
   "id": "9b9a838d-31c9-430b-ae14-12baee460d17",
   "metadata": {
    "execution": {
     "iopub.execute_input": "2025-08-05T15:39:40.506635Z",
     "iopub.status.busy": "2025-08-05T15:39:40.506111Z",
     "iopub.status.idle": "2025-08-05T15:39:40.513556Z",
     "shell.execute_reply": "2025-08-05T15:39:40.512466Z"
    },
    "papermill": {
     "duration": 0.045666,
     "end_time": "2025-08-05T15:39:40.516907",
     "exception": false,
     "start_time": "2025-08-05T15:39:40.471241",
     "status": "completed"
    },
    "tags": []
   },
   "outputs": [],
   "source": [
    "example_universe = universe.copy()\n",
    "universe_training_year = example_universe.get(\"training_year\")\n",
    "universe_training_size = example_universe.get(\"training_size\")\n",
    "universe_scale = example_universe.get(\"scale\")\n",
    "universe_model = example_universe.get(\"model\")\n",
    "universe_exclude_features = example_universe.get(\"exclude_features\")\n",
    "universe_exclude_subgroups = example_universe.get(\"exclude_subgroups\")"
   ]
  },
  {
   "cell_type": "code",
   "execution_count": 47,
   "id": "f4b6a8ac-9dc0-4245-8a91-5b3b5999c4f9",
   "metadata": {
    "execution": {
     "iopub.execute_input": "2025-08-05T15:39:40.586669Z",
     "iopub.status.busy": "2025-08-05T15:39:40.586277Z",
     "iopub.status.idle": "2025-08-05T15:39:40.593372Z",
     "shell.execute_reply": "2025-08-05T15:39:40.592319Z"
    },
    "papermill": {
     "duration": 0.045075,
     "end_time": "2025-08-05T15:39:40.595936",
     "exception": false,
     "start_time": "2025-08-05T15:39:40.550861",
     "status": "completed"
    },
    "tags": []
   },
   "outputs": [],
   "source": [
    "cp_metrics_dict = {\n",
    "    \"universe_id\": [universe_id],\n",
    "    \"universe_training_year\": [universe_training_year],\n",
    "    \"universe_training_size\": [universe_training_size],\n",
    "    \"universe_scale\": [universe_scale],\n",
    "    \"universe_model\": [universe_model],\n",
    "    \"universe_exclude_features\": [universe_exclude_features],\n",
    "    \"universe_exclude_subgroups\": [universe_exclude_subgroups],\n",
    "    \"q_hat\": [q_hat],\n",
    "    \"coverage\": [metrics[\"coverage\"]],\n",
    "    \"avg_size\": [metrics[\"avg_size\"]],\n",
    "}"
   ]
  },
  {
   "cell_type": "code",
   "execution_count": 48,
   "id": "908acbb1-0371-4915-85ca-3fa520d2efe2",
   "metadata": {
    "execution": {
     "iopub.execute_input": "2025-08-05T15:39:40.661756Z",
     "iopub.status.busy": "2025-08-05T15:39:40.661179Z",
     "iopub.status.idle": "2025-08-05T15:39:40.669801Z",
     "shell.execute_reply": "2025-08-05T15:39:40.668554Z"
    },
    "papermill": {
     "duration": 0.044413,
     "end_time": "2025-08-05T15:39:40.672139",
     "exception": false,
     "start_time": "2025-08-05T15:39:40.627726",
     "status": "completed"
    },
    "tags": []
   },
   "outputs": [
    {
     "data": {
      "text/plain": [
       "{'universe_id': ['7170ab0067abcca7ad911b3aeac6b314'],\n",
       " 'universe_training_year': ['2012_14'],\n",
       " 'universe_training_size': ['5k'],\n",
       " 'universe_scale': ['scale'],\n",
       " 'universe_model': ['elasticnet'],\n",
       " 'universe_exclude_features': ['none'],\n",
       " 'universe_exclude_subgroups': ['keep-all'],\n",
       " 'q_hat': [0.6847725090188004],\n",
       " 'coverage': [0.9108237654665032],\n",
       " 'avg_size': [1.1363616096310334]}"
      ]
     },
     "execution_count": 48,
     "metadata": {},
     "output_type": "execute_result"
    }
   ],
   "source": [
    "cp_metrics_dict"
   ]
  },
  {
   "cell_type": "code",
   "execution_count": 49,
   "id": "33007efc-14e9-4ec6-97ac-56a455c82265",
   "metadata": {
    "execution": {
     "iopub.execute_input": "2025-08-05T15:39:40.737415Z",
     "iopub.status.busy": "2025-08-05T15:39:40.736919Z",
     "iopub.status.idle": "2025-08-05T15:39:40.744243Z",
     "shell.execute_reply": "2025-08-05T15:39:40.742905Z"
    },
    "papermill": {
     "duration": 0.042395,
     "end_time": "2025-08-05T15:39:40.746462",
     "exception": false,
     "start_time": "2025-08-05T15:39:40.704067",
     "status": "completed"
    },
    "tags": []
   },
   "outputs": [],
   "source": [
    "cp_metrics_df = pd.DataFrame(cp_metrics_dict)"
   ]
  },
  {
   "cell_type": "code",
   "execution_count": 50,
   "id": "db12611b-57b2-4910-b9d0-355adfd6e7bf",
   "metadata": {
    "execution": {
     "iopub.execute_input": "2025-08-05T15:39:40.813690Z",
     "iopub.status.busy": "2025-08-05T15:39:40.813015Z",
     "iopub.status.idle": "2025-08-05T15:39:40.835498Z",
     "shell.execute_reply": "2025-08-05T15:39:40.834073Z"
    },
    "papermill": {
     "duration": 0.057823,
     "end_time": "2025-08-05T15:39:40.837334",
     "exception": false,
     "start_time": "2025-08-05T15:39:40.779511",
     "status": "completed"
    },
    "tags": []
   },
   "outputs": [
    {
     "data": {
      "text/html": [
       "<div>\n",
       "<style scoped>\n",
       "    .dataframe tbody tr th:only-of-type {\n",
       "        vertical-align: middle;\n",
       "    }\n",
       "\n",
       "    .dataframe tbody tr th {\n",
       "        vertical-align: top;\n",
       "    }\n",
       "\n",
       "    .dataframe thead th {\n",
       "        text-align: right;\n",
       "    }\n",
       "</style>\n",
       "<table border=\"1\" class=\"dataframe\">\n",
       "  <thead>\n",
       "    <tr style=\"text-align: right;\">\n",
       "      <th></th>\n",
       "      <th>universe_id</th>\n",
       "      <th>universe_training_year</th>\n",
       "      <th>universe_training_size</th>\n",
       "      <th>universe_scale</th>\n",
       "      <th>universe_model</th>\n",
       "      <th>universe_exclude_features</th>\n",
       "      <th>universe_exclude_subgroups</th>\n",
       "      <th>q_hat</th>\n",
       "      <th>coverage</th>\n",
       "      <th>avg_size</th>\n",
       "    </tr>\n",
       "  </thead>\n",
       "  <tbody>\n",
       "    <tr>\n",
       "      <th>0</th>\n",
       "      <td>7170ab0067abcca7ad911b3aeac6b314</td>\n",
       "      <td>2012_14</td>\n",
       "      <td>5k</td>\n",
       "      <td>scale</td>\n",
       "      <td>elasticnet</td>\n",
       "      <td>none</td>\n",
       "      <td>keep-all</td>\n",
       "      <td>0.684773</td>\n",
       "      <td>0.910824</td>\n",
       "      <td>1.136362</td>\n",
       "    </tr>\n",
       "  </tbody>\n",
       "</table>\n",
       "</div>"
      ],
      "text/plain": [
       "                        universe_id universe_training_year  \\\n",
       "0  7170ab0067abcca7ad911b3aeac6b314                2012_14   \n",
       "\n",
       "  universe_training_size universe_scale universe_model  \\\n",
       "0                     5k          scale     elasticnet   \n",
       "\n",
       "  universe_exclude_features universe_exclude_subgroups     q_hat  coverage  \\\n",
       "0                      none                   keep-all  0.684773  0.910824   \n",
       "\n",
       "   avg_size  \n",
       "0  1.136362  "
      ]
     },
     "execution_count": 50,
     "metadata": {},
     "output_type": "execute_result"
    }
   ],
   "source": [
    "cp_metrics_df"
   ]
  },
  {
   "cell_type": "code",
   "execution_count": 51,
   "id": "b7fbde55-a0a1-47e4-9af6-fe4a17fa8c61",
   "metadata": {
    "execution": {
     "iopub.execute_input": "2025-08-05T15:39:40.884858Z",
     "iopub.status.busy": "2025-08-05T15:39:40.884330Z",
     "iopub.status.idle": "2025-08-05T15:39:40.889684Z",
     "shell.execute_reply": "2025-08-05T15:39:40.888613Z"
    },
    "papermill": {
     "duration": 0.030301,
     "end_time": "2025-08-05T15:39:40.891575",
     "exception": false,
     "start_time": "2025-08-05T15:39:40.861274",
     "status": "completed"
    },
    "tags": []
   },
   "outputs": [],
   "source": [
    "# Conditional Coverage & looking at subgroups"
   ]
  },
  {
   "cell_type": "code",
   "execution_count": 52,
   "id": "027ae886-68dd-4141-96c7-805a5450e1ef",
   "metadata": {
    "execution": {
     "iopub.execute_input": "2025-08-05T15:39:40.937350Z",
     "iopub.status.busy": "2025-08-05T15:39:40.936948Z",
     "iopub.status.idle": "2025-08-05T15:39:41.187087Z",
     "shell.execute_reply": "2025-08-05T15:39:41.186111Z"
    },
    "papermill": {
     "duration": 0.27417,
     "end_time": "2025-08-05T15:39:41.188828",
     "exception": false,
     "start_time": "2025-08-05T15:39:40.914658",
     "status": "completed"
    },
    "tags": []
   },
   "outputs": [],
   "source": [
    "from fairness_multiverse.conformal import build_cp_groups\n",
    "\n",
    "cp_groups_df = build_cp_groups(pred_sets, y_true, X_test.index, org_test)\n",
    "#needs universe_id and setting"
   ]
  },
  {
   "cell_type": "code",
   "execution_count": 53,
   "id": "6cbdab96-b2b2-45af-ad54-d0516db2e28d",
   "metadata": {
    "execution": {
     "iopub.execute_input": "2025-08-05T15:39:41.215923Z",
     "iopub.status.busy": "2025-08-05T15:39:41.215404Z",
     "iopub.status.idle": "2025-08-05T15:39:42.707265Z",
     "shell.execute_reply": "2025-08-05T15:39:42.706369Z"
    },
    "papermill": {
     "duration": 1.506475,
     "end_time": "2025-08-05T15:39:42.709288",
     "exception": false,
     "start_time": "2025-08-05T15:39:41.202813",
     "status": "completed"
    },
    "tags": []
   },
   "outputs": [],
   "source": [
    "# Define covered = 1 if true_label is in the predicted set\n",
    "cp_groups_df['covered'] = cp_groups_df.apply(\n",
    "    lambda r: int(r['true_label'] in r['pred_set']),\n",
    "    axis=1\n",
    ")"
   ]
  },
  {
   "cell_type": "code",
   "execution_count": 54,
   "id": "338ff529-1a6b-4b87-a931-8e4788d52aad",
   "metadata": {
    "execution": {
     "iopub.execute_input": "2025-08-05T15:39:42.750176Z",
     "iopub.status.busy": "2025-08-05T15:39:42.749821Z",
     "iopub.status.idle": "2025-08-05T15:39:42.754803Z",
     "shell.execute_reply": "2025-08-05T15:39:42.753809Z"
    },
    "papermill": {
     "duration": 0.027163,
     "end_time": "2025-08-05T15:39:42.756654",
     "exception": false,
     "start_time": "2025-08-05T15:39:42.729491",
     "status": "completed"
    },
    "tags": []
   },
   "outputs": [],
   "source": [
    "#cp_groups_df"
   ]
  },
  {
   "cell_type": "code",
   "execution_count": 55,
   "id": "90032e27-66df-4540-9169-4e89cfbaa758",
   "metadata": {
    "execution": {
     "iopub.execute_input": "2025-08-05T15:39:42.787147Z",
     "iopub.status.busy": "2025-08-05T15:39:42.786724Z",
     "iopub.status.idle": "2025-08-05T15:39:42.795701Z",
     "shell.execute_reply": "2025-08-05T15:39:42.794996Z"
    },
    "papermill": {
     "duration": 0.022398,
     "end_time": "2025-08-05T15:39:42.797452",
     "exception": false,
     "start_time": "2025-08-05T15:39:42.775054",
     "status": "completed"
    },
    "tags": []
   },
   "outputs": [],
   "source": [
    "subgroups = ['frau1','nongerman','nongerman_male','nongerman_female']\n",
    "\n",
    "# Conditional coverage for subgroup==1\n",
    "cond_coverage = {\n",
    "    g: cp_groups_df.loc[cp_groups_df[g]==1, 'covered'].mean()\n",
    "    for g in subgroups\n",
    "}"
   ]
  },
  {
   "cell_type": "code",
   "execution_count": 56,
   "id": "1e348fb1-b9c3-45bc-ba23-f016827a7e0d",
   "metadata": {
    "execution": {
     "iopub.execute_input": "2025-08-05T15:39:42.841563Z",
     "iopub.status.busy": "2025-08-05T15:39:42.841132Z",
     "iopub.status.idle": "2025-08-05T15:39:42.848060Z",
     "shell.execute_reply": "2025-08-05T15:39:42.847023Z"
    },
    "papermill": {
     "duration": 0.030831,
     "end_time": "2025-08-05T15:39:42.849818",
     "exception": false,
     "start_time": "2025-08-05T15:39:42.818987",
     "status": "completed"
    },
    "tags": []
   },
   "outputs": [
    {
     "data": {
      "text/plain": [
       "{'frau1': 0.9057824504650223,\n",
       " 'nongerman': 0.912984898669511,\n",
       " 'nongerman_male': 0.9300189138070791,\n",
       " 'nongerman_female': 0.8847988077496274}"
      ]
     },
     "execution_count": 56,
     "metadata": {},
     "output_type": "execute_result"
    }
   ],
   "source": [
    "cond_coverage"
   ]
  },
  {
   "cell_type": "code",
   "execution_count": 57,
   "id": "f5093324-c3dd-4d63-bc4c-8d945e5c8bbb",
   "metadata": {
    "execution": {
     "iopub.execute_input": "2025-08-05T15:39:42.883526Z",
     "iopub.status.busy": "2025-08-05T15:39:42.883121Z",
     "iopub.status.idle": "2025-08-05T15:39:42.889596Z",
     "shell.execute_reply": "2025-08-05T15:39:42.888832Z"
    },
    "papermill": {
     "duration": 0.021854,
     "end_time": "2025-08-05T15:39:42.891099",
     "exception": false,
     "start_time": "2025-08-05T15:39:42.869245",
     "status": "completed"
    },
    "tags": []
   },
   "outputs": [],
   "source": [
    "for subgroup, cov in cond_coverage.items():\n",
    "    cp_metrics_df[f\"cov_{subgroup}\"] = cov"
   ]
  },
  {
   "cell_type": "code",
   "execution_count": 58,
   "id": "6e872e10-dbe5-49e8-b554-5030c98ff75d",
   "metadata": {
    "execution": {
     "iopub.execute_input": "2025-08-05T15:39:42.916642Z",
     "iopub.status.busy": "2025-08-05T15:39:42.916141Z",
     "iopub.status.idle": "2025-08-05T15:39:42.930564Z",
     "shell.execute_reply": "2025-08-05T15:39:42.929564Z"
    },
    "papermill": {
     "duration": 0.028261,
     "end_time": "2025-08-05T15:39:42.931977",
     "exception": false,
     "start_time": "2025-08-05T15:39:42.903716",
     "status": "completed"
    },
    "tags": []
   },
   "outputs": [
    {
     "data": {
      "text/html": [
       "<div>\n",
       "<style scoped>\n",
       "    .dataframe tbody tr th:only-of-type {\n",
       "        vertical-align: middle;\n",
       "    }\n",
       "\n",
       "    .dataframe tbody tr th {\n",
       "        vertical-align: top;\n",
       "    }\n",
       "\n",
       "    .dataframe thead th {\n",
       "        text-align: right;\n",
       "    }\n",
       "</style>\n",
       "<table border=\"1\" class=\"dataframe\">\n",
       "  <thead>\n",
       "    <tr style=\"text-align: right;\">\n",
       "      <th></th>\n",
       "      <th>universe_id</th>\n",
       "      <th>universe_training_year</th>\n",
       "      <th>universe_training_size</th>\n",
       "      <th>universe_scale</th>\n",
       "      <th>universe_model</th>\n",
       "      <th>universe_exclude_features</th>\n",
       "      <th>universe_exclude_subgroups</th>\n",
       "      <th>q_hat</th>\n",
       "      <th>coverage</th>\n",
       "      <th>avg_size</th>\n",
       "      <th>cov_frau1</th>\n",
       "      <th>cov_nongerman</th>\n",
       "      <th>cov_nongerman_male</th>\n",
       "      <th>cov_nongerman_female</th>\n",
       "    </tr>\n",
       "  </thead>\n",
       "  <tbody>\n",
       "    <tr>\n",
       "      <th>0</th>\n",
       "      <td>7170ab0067abcca7ad911b3aeac6b314</td>\n",
       "      <td>2012_14</td>\n",
       "      <td>5k</td>\n",
       "      <td>scale</td>\n",
       "      <td>elasticnet</td>\n",
       "      <td>none</td>\n",
       "      <td>keep-all</td>\n",
       "      <td>0.684773</td>\n",
       "      <td>0.910824</td>\n",
       "      <td>1.136362</td>\n",
       "      <td>0.905782</td>\n",
       "      <td>0.912985</td>\n",
       "      <td>0.930019</td>\n",
       "      <td>0.884799</td>\n",
       "    </tr>\n",
       "  </tbody>\n",
       "</table>\n",
       "</div>"
      ],
      "text/plain": [
       "                        universe_id universe_training_year  \\\n",
       "0  7170ab0067abcca7ad911b3aeac6b314                2012_14   \n",
       "\n",
       "  universe_training_size universe_scale universe_model  \\\n",
       "0                     5k          scale     elasticnet   \n",
       "\n",
       "  universe_exclude_features universe_exclude_subgroups     q_hat  coverage  \\\n",
       "0                      none                   keep-all  0.684773  0.910824   \n",
       "\n",
       "   avg_size  cov_frau1  cov_nongerman  cov_nongerman_male  \\\n",
       "0  1.136362   0.905782       0.912985            0.930019   \n",
       "\n",
       "   cov_nongerman_female  \n",
       "0              0.884799  "
      ]
     },
     "execution_count": 58,
     "metadata": {},
     "output_type": "execute_result"
    }
   ],
   "source": [
    "cp_metrics_df"
   ]
  },
  {
   "cell_type": "markdown",
   "id": "33774451",
   "metadata": {
    "papermill": {
     "duration": 0.01152,
     "end_time": "2025-08-05T15:39:42.955883",
     "exception": false,
     "start_time": "2025-08-05T15:39:42.944363",
     "status": "completed"
    },
    "tags": []
   },
   "source": [
    "# (Fairness) Metrics"
   ]
  },
  {
   "cell_type": "code",
   "execution_count": 59,
   "id": "debc5d62",
   "metadata": {
    "execution": {
     "iopub.execute_input": "2025-08-05T15:39:42.980607Z",
     "iopub.status.busy": "2025-08-05T15:39:42.979936Z",
     "iopub.status.idle": "2025-08-05T15:39:42.994886Z",
     "shell.execute_reply": "2025-08-05T15:39:42.994129Z"
    },
    "papermill": {
     "duration": 0.028932,
     "end_time": "2025-08-05T15:39:42.996366",
     "exception": false,
     "start_time": "2025-08-05T15:39:42.967434",
     "status": "completed"
    },
    "tags": []
   },
   "outputs": [],
   "source": [
    "# do I need to include maxdeutsch1.missing?\n",
    "\n",
    "import numpy as np\n",
    "\n",
    "colname_to_bin = \"maxdeutsch1\"\n",
    "majority_value = org_train[colname_to_bin].mode()[0]\n",
    "\n",
    "org_test[\"majmin\"] = np.where(org_test[colname_to_bin] == majority_value, \"majority\", \"minority\")"
   ]
  },
  {
   "cell_type": "code",
   "execution_count": 60,
   "id": "06a50de5",
   "metadata": {
    "execution": {
     "iopub.execute_input": "2025-08-05T15:39:43.022532Z",
     "iopub.status.busy": "2025-08-05T15:39:43.022243Z",
     "iopub.status.idle": "2025-08-05T15:39:44.702270Z",
     "shell.execute_reply": "2025-08-05T15:39:44.701496Z"
    },
    "papermill": {
     "duration": 1.694925,
     "end_time": "2025-08-05T15:39:44.703664",
     "exception": false,
     "start_time": "2025-08-05T15:39:43.008739",
     "status": "completed"
    },
    "tags": []
   },
   "outputs": [],
   "source": [
    "example_universe = universe.copy()\n",
    "example_universe[\"cutoff\"] = example_universe[\"cutoff\"][0]\n",
    "example_universe[\"eval_fairness_grouping\"] = example_universe[\"eval_fairness_grouping\"][0]\n",
    "fairness_dict, metric_frame = universe_analysis.compute_metrics(\n",
    "    example_universe,\n",
    "    y_pred_prob=probs_test,\n",
    "    y_test=y_true,\n",
    "    org_test=org_test,\n",
    ")"
   ]
  },
  {
   "cell_type": "markdown",
   "id": "f95d4e02",
   "metadata": {
    "papermill": {
     "duration": 0.022536,
     "end_time": "2025-08-05T15:39:44.746030",
     "exception": false,
     "start_time": "2025-08-05T15:39:44.723494",
     "status": "completed"
    },
    "tags": []
   },
   "source": [
    "# Overall"
   ]
  },
  {
   "cell_type": "markdown",
   "id": "bdee4871",
   "metadata": {
    "papermill": {
     "duration": 0.022523,
     "end_time": "2025-08-05T15:39:44.791143",
     "exception": false,
     "start_time": "2025-08-05T15:39:44.768620",
     "status": "completed"
    },
    "tags": []
   },
   "source": [
    "Fairness\n",
    "Main fairness target: Equalized Odds. Seems to be a better fit than equal opportunity, since we're not only interested in Y = 1. Seems to be a better fit than demographic parity, since we also care about accuracy, not just equal distribution of preds.\n",
    "\n",
    "Pick column for computation of fairness metrics\n",
    "\n",
    "Performance\n",
    "Overall performance measures, most interesting in relation to the measures split by group below"
   ]
  },
  {
   "cell_type": "code",
   "execution_count": 61,
   "id": "c4e067c6",
   "metadata": {
    "execution": {
     "iopub.execute_input": "2025-08-05T15:39:44.819298Z",
     "iopub.status.busy": "2025-08-05T15:39:44.818955Z",
     "iopub.status.idle": "2025-08-05T15:39:44.826298Z",
     "shell.execute_reply": "2025-08-05T15:39:44.825425Z"
    },
    "papermill": {
     "duration": 0.021103,
     "end_time": "2025-08-05T15:39:44.827600",
     "exception": false,
     "start_time": "2025-08-05T15:39:44.806497",
     "status": "completed"
    },
    "tags": []
   },
   "outputs": [
    {
     "data": {
      "text/plain": [
       "accuracy                   0.224111\n",
       "balanced accuracy          0.548037\n",
       "f1                         0.245450\n",
       "precision                  0.140217\n",
       "false positive rate        0.887676\n",
       "false negative rate        0.016250\n",
       "selection rate             0.900000\n",
       "count                  89710.000000\n",
       "dtype: float64"
      ]
     },
     "execution_count": 61,
     "metadata": {},
     "output_type": "execute_result"
    }
   ],
   "source": [
    "metric_frame.overall"
   ]
  },
  {
   "cell_type": "markdown",
   "id": "e968fe9d",
   "metadata": {
    "papermill": {
     "duration": 0.01265,
     "end_time": "2025-08-05T15:39:44.852168",
     "exception": false,
     "start_time": "2025-08-05T15:39:44.839518",
     "status": "completed"
    },
    "tags": []
   },
   "source": [
    "By Group"
   ]
  },
  {
   "cell_type": "code",
   "execution_count": 62,
   "id": "ec325bce",
   "metadata": {
    "execution": {
     "iopub.execute_input": "2025-08-05T15:39:44.913926Z",
     "iopub.status.busy": "2025-08-05T15:39:44.913330Z",
     "iopub.status.idle": "2025-08-05T15:39:44.934426Z",
     "shell.execute_reply": "2025-08-05T15:39:44.933004Z"
    },
    "papermill": {
     "duration": 0.054985,
     "end_time": "2025-08-05T15:39:44.936305",
     "exception": false,
     "start_time": "2025-08-05T15:39:44.881320",
     "status": "completed"
    },
    "tags": []
   },
   "outputs": [
    {
     "data": {
      "text/html": [
       "<div>\n",
       "<style scoped>\n",
       "    .dataframe tbody tr th:only-of-type {\n",
       "        vertical-align: middle;\n",
       "    }\n",
       "\n",
       "    .dataframe tbody tr th {\n",
       "        vertical-align: top;\n",
       "    }\n",
       "\n",
       "    .dataframe thead th {\n",
       "        text-align: right;\n",
       "    }\n",
       "</style>\n",
       "<table border=\"1\" class=\"dataframe\">\n",
       "  <thead>\n",
       "    <tr style=\"text-align: right;\">\n",
       "      <th></th>\n",
       "      <th>accuracy</th>\n",
       "      <th>balanced accuracy</th>\n",
       "      <th>f1</th>\n",
       "      <th>precision</th>\n",
       "      <th>false positive rate</th>\n",
       "      <th>false negative rate</th>\n",
       "      <th>selection rate</th>\n",
       "      <th>count</th>\n",
       "    </tr>\n",
       "    <tr>\n",
       "      <th>majmin</th>\n",
       "      <th></th>\n",
       "      <th></th>\n",
       "      <th></th>\n",
       "      <th></th>\n",
       "      <th></th>\n",
       "      <th></th>\n",
       "      <th></th>\n",
       "      <th></th>\n",
       "    </tr>\n",
       "  </thead>\n",
       "  <tbody>\n",
       "    <tr>\n",
       "      <th>majority</th>\n",
       "      <td>0.247824</td>\n",
       "      <td>0.558720</td>\n",
       "      <td>0.256382</td>\n",
       "      <td>0.147453</td>\n",
       "      <td>0.863851</td>\n",
       "      <td>0.018709</td>\n",
       "      <td>0.879370</td>\n",
       "      <td>69170.0</td>\n",
       "    </tr>\n",
       "    <tr>\n",
       "      <th>minority</th>\n",
       "      <td>0.144255</td>\n",
       "      <td>0.513433</td>\n",
       "      <td>0.211122</td>\n",
       "      <td>0.118114</td>\n",
       "      <td>0.966377</td>\n",
       "      <td>0.006757</td>\n",
       "      <td>0.969474</td>\n",
       "      <td>20540.0</td>\n",
       "    </tr>\n",
       "  </tbody>\n",
       "</table>\n",
       "</div>"
      ],
      "text/plain": [
       "          accuracy  balanced accuracy        f1  precision  \\\n",
       "majmin                                                       \n",
       "majority  0.247824           0.558720  0.256382   0.147453   \n",
       "minority  0.144255           0.513433  0.211122   0.118114   \n",
       "\n",
       "          false positive rate  false negative rate  selection rate    count  \n",
       "majmin                                                                       \n",
       "majority             0.863851             0.018709        0.879370  69170.0  \n",
       "minority             0.966377             0.006757        0.969474  20540.0  "
      ]
     },
     "execution_count": 62,
     "metadata": {},
     "output_type": "execute_result"
    }
   ],
   "source": [
    "metric_frame.by_group"
   ]
  },
  {
   "cell_type": "code",
   "execution_count": 63,
   "id": "a9ddbe63",
   "metadata": {
    "execution": {
     "iopub.execute_input": "2025-08-05T15:39:44.984071Z",
     "iopub.status.busy": "2025-08-05T15:39:44.983716Z",
     "iopub.status.idle": "2025-08-05T15:39:47.274754Z",
     "shell.execute_reply": "2025-08-05T15:39:47.274047Z"
    },
    "papermill": {
     "duration": 2.313898,
     "end_time": "2025-08-05T15:39:47.276425",
     "exception": false,
     "start_time": "2025-08-05T15:39:44.962527",
     "status": "completed"
    },
    "tags": []
   },
   "outputs": [
    {
     "data": {
      "text/plain": [
       "array([[<Axes: title={'center': 'accuracy'}, xlabel='majmin'>,\n",
       "        <Axes: title={'center': 'balanced accuracy'}, xlabel='majmin'>,\n",
       "        <Axes: title={'center': 'f1'}, xlabel='majmin'>],\n",
       "       [<Axes: title={'center': 'precision'}, xlabel='majmin'>,\n",
       "        <Axes: title={'center': 'false positive rate'}, xlabel='majmin'>,\n",
       "        <Axes: title={'center': 'false negative rate'}, xlabel='majmin'>],\n",
       "       [<Axes: title={'center': 'selection rate'}, xlabel='majmin'>,\n",
       "        <Axes: title={'center': 'count'}, xlabel='majmin'>,\n",
       "        <Axes: xlabel='majmin'>]], dtype=object)"
      ]
     },
     "execution_count": 63,
     "metadata": {},
     "output_type": "execute_result"
    },
    {
     "data": {
      "image/png": "[encoded data removed]",
      "text/plain": [
       "<Figure size 1200x800 with 9 Axes>"
      ]
     },
     "metadata": {},
     "output_type": "display_data"
    }
   ],
   "source": [
    "# In a graphic\n",
    "metric_frame.by_group.plot.bar(\n",
    "    subplots=True,\n",
    "    layout=[3, 3],\n",
    "    legend=False,\n",
    "    figsize=[12, 8],\n",
    "    title=\"Show all metrics\",\n",
    ")"
   ]
  },
  {
   "cell_type": "markdown",
   "id": "f57a0bac",
   "metadata": {
    "papermill": {
     "duration": 0.027553,
     "end_time": "2025-08-05T15:39:47.339266",
     "exception": false,
     "start_time": "2025-08-05T15:39:47.311713",
     "status": "completed"
    },
    "tags": []
   },
   "source": [
    "# Final Output"
   ]
  },
  {
   "cell_type": "code",
   "execution_count": 64,
   "id": "96d280a3",
   "metadata": {
    "execution": {
     "iopub.execute_input": "2025-08-05T15:39:47.395503Z",
     "iopub.status.busy": "2025-08-05T15:39:47.394868Z",
     "iopub.status.idle": "2025-08-05T15:39:47.403269Z",
     "shell.execute_reply": "2025-08-05T15:39:47.402412Z"
    },
    "papermill": {
     "duration": 0.038598,
     "end_time": "2025-08-05T15:39:47.405053",
     "exception": false,
     "start_time": "2025-08-05T15:39:47.366455",
     "status": "completed"
    },
    "tags": []
   },
   "outputs": [
    {
     "data": {
      "text/plain": [
       "4"
      ]
     },
     "execution_count": 64,
     "metadata": {},
     "output_type": "execute_result"
    }
   ],
   "source": [
    "sub_universes = universe_analysis.generate_sub_universes()\n",
    "len(sub_universes)"
   ]
  },
  {
   "cell_type": "code",
   "execution_count": 65,
   "id": "92adf7ba",
   "metadata": {
    "execution": {
     "iopub.execute_input": "2025-08-05T15:39:47.457631Z",
     "iopub.status.busy": "2025-08-05T15:39:47.457073Z",
     "iopub.status.idle": "2025-08-05T15:39:47.470026Z",
     "shell.execute_reply": "2025-08-05T15:39:47.469136Z"
    },
    "papermill": {
     "duration": 0.039463,
     "end_time": "2025-08-05T15:39:47.471397",
     "exception": false,
     "start_time": "2025-08-05T15:39:47.431934",
     "status": "completed"
    },
    "tags": []
   },
   "outputs": [],
   "source": [
    "def filter_sub_universe_data(sub_universe, org_test):\n",
    "    # Keep all rows — no filtering\n",
    "    keep_rows_mask = np.ones(org_test.shape[0], dtype=bool)\n",
    "\n",
    "    print(f\"[INFO] Keeping all rows: {keep_rows_mask.sum()} rows retained.\")\n",
    "    return keep_rows_mask"
   ]
  },
  {
   "cell_type": "code",
   "execution_count": 66,
   "id": "4a759155",
   "metadata": {
    "execution": {
     "iopub.execute_input": "2025-08-05T15:39:47.520183Z",
     "iopub.status.busy": "2025-08-05T15:39:47.519183Z",
     "iopub.status.idle": "2025-08-05T15:39:56.544122Z",
     "shell.execute_reply": "2025-08-05T15:39:56.543265Z"
    },
    "papermill": {
     "duration": 9.053799,
     "end_time": "2025-08-05T15:39:56.545620",
     "exception": false,
     "start_time": "2025-08-05T15:39:47.491821",
     "status": "completed"
    },
    "tags": []
   },
   "outputs": [
    {
     "name": "stdout",
     "output_type": "stream",
     "text": [
      "Stopping execution_time clock.\n",
      "[INFO] Keeping all rows: 89710 rows retained.\n"
     ]
    },
    {
     "name": "stdout",
     "output_type": "stream",
     "text": [
      "[INFO] Keeping all rows: 89710 rows retained.\n"
     ]
    },
    {
     "name": "stdout",
     "output_type": "stream",
     "text": [
      "[INFO] Keeping all rows: 89710 rows retained.\n"
     ]
    },
    {
     "name": "stdout",
     "output_type": "stream",
     "text": [
      "[INFO] Keeping all rows: 89710 rows retained.\n"
     ]
    },
    {
     "data": {
      "text/html": [
       "<div>\n",
       "<style scoped>\n",
       "    .dataframe tbody tr th:only-of-type {\n",
       "        vertical-align: middle;\n",
       "    }\n",
       "\n",
       "    .dataframe tbody tr th {\n",
       "        vertical-align: top;\n",
       "    }\n",
       "\n",
       "    .dataframe thead th {\n",
       "        text-align: right;\n",
       "    }\n",
       "</style>\n",
       "<table border=\"1\" class=\"dataframe\">\n",
       "  <thead>\n",
       "    <tr style=\"text-align: right;\">\n",
       "      <th></th>\n",
       "      <th>run_no</th>\n",
       "      <th>universe_id</th>\n",
       "      <th>universe_settings</th>\n",
       "      <th>execution_time</th>\n",
       "      <th>test_size_n</th>\n",
       "      <th>test_size_frac</th>\n",
       "      <th>fair_main_equalized_odds_difference</th>\n",
       "      <th>fair_main_equalized_odds_ratio</th>\n",
       "      <th>fair_main_demographic_parity_difference</th>\n",
       "      <th>fair_main_demographic_parity_ratio</th>\n",
       "      <th>...</th>\n",
       "      <th>perf_grp_precision_0</th>\n",
       "      <th>perf_grp_precision_1</th>\n",
       "      <th>perf_grp_false positive rate_0</th>\n",
       "      <th>perf_grp_false positive rate_1</th>\n",
       "      <th>perf_grp_false negative rate_0</th>\n",
       "      <th>perf_grp_false negative rate_1</th>\n",
       "      <th>perf_grp_selection rate_0</th>\n",
       "      <th>perf_grp_selection rate_1</th>\n",
       "      <th>perf_grp_count_0</th>\n",
       "      <th>perf_grp_count_1</th>\n",
       "    </tr>\n",
       "  </thead>\n",
       "  <tbody>\n",
       "    <tr>\n",
       "      <th>0</th>\n",
       "      <td>15</td>\n",
       "      <td>7170ab0067abcca7ad911b3aeac6b314</td>\n",
       "      <td>{\"cutoff\": \"quantile_0.1\", \"eval_fairness_grou...</td>\n",
       "      <td>24.60562</td>\n",
       "      <td>89710</td>\n",
       "      <td>1.0</td>\n",
       "      <td>0.102525</td>\n",
       "      <td>0.893907</td>\n",
       "      <td>0.090105</td>\n",
       "      <td>0.907058</td>\n",
       "      <td>...</td>\n",
       "      <td>NaN</td>\n",
       "      <td>NaN</td>\n",
       "      <td>NaN</td>\n",
       "      <td>NaN</td>\n",
       "      <td>NaN</td>\n",
       "      <td>NaN</td>\n",
       "      <td>NaN</td>\n",
       "      <td>NaN</td>\n",
       "      <td>NaN</td>\n",
       "      <td>NaN</td>\n",
       "    </tr>\n",
       "    <tr>\n",
       "      <th>0</th>\n",
       "      <td>15</td>\n",
       "      <td>7170ab0067abcca7ad911b3aeac6b314</td>\n",
       "      <td>{\"cutoff\": \"quantile_0.1\", \"eval_fairness_grou...</td>\n",
       "      <td>24.60562</td>\n",
       "      <td>89710</td>\n",
       "      <td>1.0</td>\n",
       "      <td>0.102525</td>\n",
       "      <td>0.893907</td>\n",
       "      <td>0.090105</td>\n",
       "      <td>0.907058</td>\n",
       "      <td>...</td>\n",
       "      <td>0.118114</td>\n",
       "      <td>0.147453</td>\n",
       "      <td>0.966377</td>\n",
       "      <td>0.863851</td>\n",
       "      <td>0.006757</td>\n",
       "      <td>0.018709</td>\n",
       "      <td>0.969474</td>\n",
       "      <td>0.879370</td>\n",
       "      <td>20540.0</td>\n",
       "      <td>69170.0</td>\n",
       "    </tr>\n",
       "    <tr>\n",
       "      <th>0</th>\n",
       "      <td>15</td>\n",
       "      <td>7170ab0067abcca7ad911b3aeac6b314</td>\n",
       "      <td>{\"cutoff\": \"quantile_0.25\", \"eval_fairness_gro...</td>\n",
       "      <td>24.60562</td>\n",
       "      <td>89710</td>\n",
       "      <td>1.0</td>\n",
       "      <td>0.195068</td>\n",
       "      <td>0.776285</td>\n",
       "      <td>0.171692</td>\n",
       "      <td>0.805421</td>\n",
       "      <td>...</td>\n",
       "      <td>NaN</td>\n",
       "      <td>NaN</td>\n",
       "      <td>NaN</td>\n",
       "      <td>NaN</td>\n",
       "      <td>NaN</td>\n",
       "      <td>NaN</td>\n",
       "      <td>NaN</td>\n",
       "      <td>NaN</td>\n",
       "      <td>NaN</td>\n",
       "      <td>NaN</td>\n",
       "    </tr>\n",
       "    <tr>\n",
       "      <th>0</th>\n",
       "      <td>15</td>\n",
       "      <td>7170ab0067abcca7ad911b3aeac6b314</td>\n",
       "      <td>{\"cutoff\": \"quantile_0.25\", \"eval_fairness_gro...</td>\n",
       "      <td>24.60562</td>\n",
       "      <td>89710</td>\n",
       "      <td>1.0</td>\n",
       "      <td>0.195068</td>\n",
       "      <td>0.776285</td>\n",
       "      <td>0.171692</td>\n",
       "      <td>0.805421</td>\n",
       "      <td>...</td>\n",
       "      <td>0.125745</td>\n",
       "      <td>0.173420</td>\n",
       "      <td>0.871946</td>\n",
       "      <td>0.676878</td>\n",
       "      <td>0.037584</td>\n",
       "      <td>0.067287</td>\n",
       "      <td>0.882376</td>\n",
       "      <td>0.710684</td>\n",
       "      <td>20540.0</td>\n",
       "      <td>69170.0</td>\n",
       "    </tr>\n",
       "  </tbody>\n",
       "</table>\n",
       "<p>4 rows × 50 columns</p>\n",
       "</div>"
      ],
      "text/plain": [
       "  run_no                       universe_id  \\\n",
       "0     15  7170ab0067abcca7ad911b3aeac6b314   \n",
       "0     15  7170ab0067abcca7ad911b3aeac6b314   \n",
       "0     15  7170ab0067abcca7ad911b3aeac6b314   \n",
       "0     15  7170ab0067abcca7ad911b3aeac6b314   \n",
       "\n",
       "                                   universe_settings  execution_time  \\\n",
       "0  {\"cutoff\": \"quantile_0.1\", \"eval_fairness_grou...        24.60562   \n",
       "0  {\"cutoff\": \"quantile_0.1\", \"eval_fairness_grou...        24.60562   \n",
       "0  {\"cutoff\": \"quantile_0.25\", \"eval_fairness_gro...        24.60562   \n",
       "0  {\"cutoff\": \"quantile_0.25\", \"eval_fairness_gro...        24.60562   \n",
       "\n",
       "   test_size_n  test_size_frac  fair_main_equalized_odds_difference  \\\n",
       "0        89710             1.0                             0.102525   \n",
       "0        89710             1.0                             0.102525   \n",
       "0        89710             1.0                             0.195068   \n",
       "0        89710             1.0                             0.195068   \n",
       "\n",
       "   fair_main_equalized_odds_ratio  fair_main_demographic_parity_difference  \\\n",
       "0                        0.893907                                 0.090105   \n",
       "0                        0.893907                                 0.090105   \n",
       "0                        0.776285                                 0.171692   \n",
       "0                        0.776285                                 0.171692   \n",
       "\n",
       "   fair_main_demographic_parity_ratio  ...  perf_grp_precision_0  \\\n",
       "0                            0.907058  ...                   NaN   \n",
       "0                            0.907058  ...              0.118114   \n",
       "0                            0.805421  ...                   NaN   \n",
       "0                            0.805421  ...              0.125745   \n",
       "\n",
       "   perf_grp_precision_1  perf_grp_false positive rate_0  \\\n",
       "0                   NaN                             NaN   \n",
       "0              0.147453                        0.966377   \n",
       "0                   NaN                             NaN   \n",
       "0              0.173420                        0.871946   \n",
       "\n",
       "   perf_grp_false positive rate_1  perf_grp_false negative rate_0  \\\n",
       "0                             NaN                             NaN   \n",
       "0                        0.863851                        0.006757   \n",
       "0                             NaN                             NaN   \n",
       "0                        0.676878                        0.037584   \n",
       "\n",
       "   perf_grp_false negative rate_1  perf_grp_selection rate_0  \\\n",
       "0                             NaN                        NaN   \n",
       "0                        0.018709                   0.969474   \n",
       "0                             NaN                        NaN   \n",
       "0                        0.067287                   0.882376   \n",
       "\n",
       "   perf_grp_selection rate_1  perf_grp_count_0  perf_grp_count_1  \n",
       "0                        NaN               NaN               NaN  \n",
       "0                   0.879370           20540.0           69170.0  \n",
       "0                        NaN               NaN               NaN  \n",
       "0                   0.710684           20540.0           69170.0  \n",
       "\n",
       "[4 rows x 50 columns]"
      ]
     },
     "execution_count": 66,
     "metadata": {},
     "output_type": "execute_result"
    }
   ],
   "source": [
    "final_output = universe_analysis.generate_final_output(\n",
    "    y_pred_prob=probs_test,\n",
    "    y_test=y_true,\n",
    "    org_test=org_test,\n",
    "    filter_data=filter_sub_universe_data,\n",
    "    cp_metrics_df=cp_metrics_df,\n",
    "    save=True,\n",
    ")\n",
    "final_output"
   ]
  }
 ],
 "metadata": {
  "celltoolbar": "Tags",
  "kernelspec": {
   "display_name": "Python (CMA Fairness)",
   "language": "python",
   "name": "cma_fair_env"
  },
  "language_info": {
   "codemirror_mode": {
    "name": "ipython",
    "version": 3
   },
   "file_extension": ".py",
   "mimetype": "text/x-python",
   "name": "python",
   "nbconvert_exporter": "python",
   "pygments_lexer": "ipython3",
   "version": "3.10.12"
  },
  "papermill": {
   "default_parameters": {},
   "duration": 37.273293,
   "end_time": "2025-08-05T15:39:57.290966",
   "environment_variables": {},
   "exception": null,
   "input_path": "universe_analysis.ipynb",
   "output_path": "output/runs/15/notebooks/m_15-7170ab0067abcca7ad911b3aeac6b314.ipynb",
   "parameters": {
    "output_dir": "output",
    "run_no": "15",
    "seed": "2023",
    "universe": "{\"cutoff\": [\"quantile_0.1\", \"quantile_0.25\"], \"eval_fairness_grouping\": [\"majority-minority\", \"nationality-all\"], \"exclude_features\": \"none\", \"exclude_subgroups\": \"keep-all\", \"model\": \"elasticnet\", \"scale\": \"scale\", \"training_size\": \"5k\", \"training_year\": \"2012_14\"}",
    "universe_id": "7170ab0067abcca7ad911b3aeac6b314"
   },
   "start_time": "2025-08-05T15:39:20.017673",
   "version": "2.6.0"
  }
 },
 "nbformat": 4,
 "nbformat_minor": 5
}