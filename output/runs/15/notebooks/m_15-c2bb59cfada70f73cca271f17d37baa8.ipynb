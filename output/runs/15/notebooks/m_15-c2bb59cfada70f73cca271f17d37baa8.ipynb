{
 "cells": [
  {
   "cell_type": "code",
   "execution_count": 1,
   "id": "f159f837-637b-42ba-96b5-ec9a68c44524",
   "metadata": {
    "execution": {
     "iopub.execute_input": "2025-08-05T15:43:08.511372Z",
     "iopub.status.busy": "2025-08-05T15:43:08.510492Z",
     "iopub.status.idle": "2025-08-05T15:43:08.524113Z",
     "shell.execute_reply": "2025-08-05T15:43:08.523044Z"
    },
    "papermill": {
     "duration": 0.034339,
     "end_time": "2025-08-05T15:43:08.525746",
     "exception": false,
     "start_time": "2025-08-05T15:43:08.491407",
     "status": "completed"
    },
    "tags": []
   },
   "outputs": [
    {
     "name": "stdout",
     "output_type": "stream",
     "text": [
      "/dss/dsshome1/0C/ra93lal2/cma/CMA_Fairness_v2\n"
     ]
    },
    {
     "name": "stderr",
     "output_type": "stream",
     "text": [
      "/dss/dsshome1/0C/ra93lal2/.local/share/virtualenvs/CMA_Fairness_v2-3j10GkSs/lib/python3.10/site-packages/IPython/core/magics/osm.py:393: UserWarning: This is now an optional IPython functionality, using bookmarks requires you to install the `pickleshare` library.\n",
      "  bkms = self.shell.db.get('bookmarks', {})\n",
      "/dss/dsshome1/0C/ra93lal2/.local/share/virtualenvs/CMA_Fairness_v2-3j10GkSs/lib/python3.10/site-packages/IPython/core/magics/osm.py:417: UserWarning: This is now an optional IPython functionality, setting dhist requires you to install the `pickleshare` library.\n",
      "  self.shell.db['dhist'] = compress_dhist(dhist)[-100:]\n"
     ]
    }
   ],
   "source": [
    "%cd ~/cma/CMA_Fairness_v2"
   ]
  },
  {
   "cell_type": "markdown",
   "id": "de2603b9",
   "metadata": {
    "papermill": {
     "duration": 0.016195,
     "end_time": "2025-08-05T15:43:08.560245",
     "exception": false,
     "start_time": "2025-08-05T15:43:08.544050",
     "status": "completed"
    },
    "tags": []
   },
   "source": [
    "The following cell holds the definition of our parameters, these values can be overriden by rendering the with e.g. the following command:\n",
    "\n",
    "papermill -p alpha 0.2 -p ratio 0.3 universe_analysis.ipynb output/test_run.ipynb"
   ]
  },
  {
   "cell_type": "code",
   "execution_count": 2,
   "id": "a80968a0-40bb-4fa9-85ef-2d5eefb01975",
   "metadata": {
    "execution": {
     "iopub.execute_input": "2025-08-05T15:43:08.594519Z",
     "iopub.status.busy": "2025-08-05T15:43:08.593622Z",
     "iopub.status.idle": "2025-08-05T15:43:08.599729Z",
     "shell.execute_reply": "2025-08-05T15:43:08.598727Z"
    },
    "papermill": {
     "duration": 0.024998,
     "end_time": "2025-08-05T15:43:08.601473",
     "exception": false,
     "start_time": "2025-08-05T15:43:08.576475",
     "status": "completed"
    },
    "tags": []
   },
   "outputs": [
    {
     "name": "stdout",
     "output_type": "stream",
     "text": [
      "Current working directory: /dss/dsshome1/0C/ra93lal2/cma/CMA_Fairness_v2\n"
     ]
    }
   ],
   "source": [
    "import os\n",
    "print(\"Current working directory:\", os.getcwd())"
   ]
  },
  {
   "cell_type": "code",
   "execution_count": 3,
   "id": "2dce4c03",
   "metadata": {
    "execution": {
     "iopub.execute_input": "2025-08-05T15:43:08.636976Z",
     "iopub.status.busy": "2025-08-05T15:43:08.636355Z",
     "iopub.status.idle": "2025-08-05T15:43:08.642383Z",
     "shell.execute_reply": "2025-08-05T15:43:08.641268Z"
    },
    "papermill": {
     "duration": 0.029314,
     "end_time": "2025-08-05T15:43:08.647822",
     "exception": false,
     "start_time": "2025-08-05T15:43:08.618508",
     "status": "completed"
    },
    "tags": [
     "parameters"
    ]
   },
   "outputs": [],
   "source": [
    "run_no = 0\n",
    "universe_id = \"test\"\n",
    "universe = {\n",
    "    \"training_size\": \"25k\", # \"25k\", \"5k\", \"1k\"\n",
    "    \"training_year\": \"2014\", # \"2014\", \"2012_14\", \"2010_14\"\n",
    "    \"scale\": \"scale\", # \"scale\", \"do-not-scale\",\n",
    "    \"model\": \"elasticnet\", # \"logreg\", \"penalized_logreg\", \"rf\", \"gbm\", \"elasticnet\"\n",
    "    \"cutoff\": [\"quantile_0.15\", \"quantile_0.30\"],\n",
    "    \"exclude_features\": \"age\", # \"none\", \"nationality\", \"sex\", \"nationality-sex\", \"age\"\n",
    "    \"exclude_subgroups\": \"keep-all\", # \"keep-all\", \"drop-non-german\"\n",
    "    \"eval_fairness_grouping\": [\"majority-minority\", \"nationality-all\"]\n",
    "}\n",
    "\n",
    "output_dir=\"./output\"\n",
    "seed=0"
   ]
  },
  {
   "cell_type": "code",
   "execution_count": 4,
   "id": "0649da62",
   "metadata": {
    "execution": {
     "iopub.execute_input": "2025-08-05T15:43:08.683136Z",
     "iopub.status.busy": "2025-08-05T15:43:08.682221Z",
     "iopub.status.idle": "2025-08-05T15:43:08.687650Z",
     "shell.execute_reply": "2025-08-05T15:43:08.686670Z"
    },
    "papermill": {
     "duration": 0.025389,
     "end_time": "2025-08-05T15:43:08.689170",
     "exception": false,
     "start_time": "2025-08-05T15:43:08.663781",
     "status": "completed"
    },
    "tags": [
     "injected-parameters"
    ]
   },
   "outputs": [],
   "source": [
    "# Parameters\n",
    "universe_id = \"c2bb59cfada70f73cca271f17d37baa8\"\n",
    "run_no = \"15\"\n",
    "universe = \"{\\\"cutoff\\\": [\\\"quantile_0.1\\\", \\\"quantile_0.25\\\"], \\\"eval_fairness_grouping\\\": [\\\"majority-minority\\\", \\\"nationality-all\\\"], \\\"exclude_features\\\": \\\"none\\\", \\\"exclude_subgroups\\\": \\\"drop-non-german\\\", \\\"model\\\": \\\"rf\\\", \\\"scale\\\": \\\"do-not-scale\\\", \\\"training_size\\\": \\\"5k\\\", \\\"training_year\\\": \\\"2012_14\\\"}\"\n",
    "output_dir = \"output\"\n",
    "seed = \"2023\"\n"
   ]
  },
  {
   "cell_type": "code",
   "execution_count": 5,
   "id": "1650acaf",
   "metadata": {
    "execution": {
     "iopub.execute_input": "2025-08-05T15:43:08.724396Z",
     "iopub.status.busy": "2025-08-05T15:43:08.723662Z",
     "iopub.status.idle": "2025-08-05T15:43:08.728652Z",
     "shell.execute_reply": "2025-08-05T15:43:08.727721Z"
    },
    "papermill": {
     "duration": 0.023324,
     "end_time": "2025-08-05T15:43:08.730337",
     "exception": false,
     "start_time": "2025-08-05T15:43:08.707013",
     "status": "completed"
    },
    "tags": []
   },
   "outputs": [],
   "source": [
    "import json\n",
    "if isinstance(universe, str):\n",
    "    universe = json.loads(universe)"
   ]
  },
  {
   "cell_type": "code",
   "execution_count": 6,
   "id": "16620c48",
   "metadata": {
    "execution": {
     "iopub.execute_input": "2025-08-05T15:43:08.769741Z",
     "iopub.status.busy": "2025-08-05T15:43:08.769015Z",
     "iopub.status.idle": "2025-08-05T15:43:08.814113Z",
     "shell.execute_reply": "2025-08-05T15:43:08.813119Z"
    },
    "papermill": {
     "duration": 0.068296,
     "end_time": "2025-08-05T15:43:08.816056",
     "exception": false,
     "start_time": "2025-08-05T15:43:08.747760",
     "status": "completed"
    },
    "tags": []
   },
   "outputs": [],
   "source": [
    "# Auto-reload the custom package\n",
    "%load_ext autoreload\n",
    "%autoreload 1\n",
    "%aimport fairness_multiverse"
   ]
  },
  {
   "cell_type": "code",
   "execution_count": 7,
   "id": "01c5c9f3",
   "metadata": {
    "execution": {
     "iopub.execute_input": "2025-08-05T15:43:08.850915Z",
     "iopub.status.busy": "2025-08-05T15:43:08.849991Z",
     "iopub.status.idle": "2025-08-05T15:43:10.765477Z",
     "shell.execute_reply": "2025-08-05T15:43:10.764433Z"
    },
    "papermill": {
     "duration": 1.934515,
     "end_time": "2025-08-05T15:43:10.767561",
     "exception": false,
     "start_time": "2025-08-05T15:43:08.833046",
     "status": "completed"
    },
    "tags": []
   },
   "outputs": [],
   "source": [
    "from fairness_multiverse.universe import UniverseAnalysis\n",
    "\n",
    "universe_analysis = UniverseAnalysis(\n",
    "    run_no = run_no,\n",
    "    universe_id = universe_id,\n",
    "    universe = universe,\n",
    "    output_dir=output_dir,\n",
    ")"
   ]
  },
  {
   "cell_type": "code",
   "execution_count": 8,
   "id": "106241f5",
   "metadata": {
    "execution": {
     "iopub.execute_input": "2025-08-05T15:43:10.804384Z",
     "iopub.status.busy": "2025-08-05T15:43:10.803497Z",
     "iopub.status.idle": "2025-08-05T15:43:10.809963Z",
     "shell.execute_reply": "2025-08-05T15:43:10.808939Z"
    },
    "papermill": {
     "duration": 0.025625,
     "end_time": "2025-08-05T15:43:10.811793",
     "exception": false,
     "start_time": "2025-08-05T15:43:10.786168",
     "status": "completed"
    },
    "tags": []
   },
   "outputs": [
    {
     "name": "stdout",
     "output_type": "stream",
     "text": [
      "Using Seed: 2023\n"
     ]
    }
   ],
   "source": [
    "import numpy as np\n",
    "parsed_seed = int(seed)\n",
    "np.random.seed(parsed_seed)\n",
    "print(f\"Using Seed: {parsed_seed}\")"
   ]
  },
  {
   "cell_type": "markdown",
   "id": "e0ebdc57",
   "metadata": {
    "papermill": {
     "duration": 0.01589,
     "end_time": "2025-08-05T15:43:10.845274",
     "exception": false,
     "start_time": "2025-08-05T15:43:10.829384",
     "status": "completed"
    },
    "tags": []
   },
   "source": [
    "# Loading Data"
   ]
  },
  {
   "cell_type": "code",
   "execution_count": 9,
   "id": "f0496b8a",
   "metadata": {
    "execution": {
     "iopub.execute_input": "2025-08-05T15:43:10.880742Z",
     "iopub.status.busy": "2025-08-05T15:43:10.879930Z",
     "iopub.status.idle": "2025-08-05T15:43:22.961343Z",
     "shell.execute_reply": "2025-08-05T15:43:22.960329Z"
    },
    "papermill": {
     "duration": 12.101536,
     "end_time": "2025-08-05T15:43:22.963169",
     "exception": false,
     "start_time": "2025-08-05T15:43:10.861633",
     "status": "completed"
    },
    "tags": []
   },
   "outputs": [
    {
     "name": "stdout",
     "output_type": "stream",
     "text": [
      "Loading SIAB data from cache: data/siab_cached.csv.gz\n"
     ]
    },
    {
     "name": "stdout",
     "output_type": "stream",
     "text": [
      "(643690, 164)\n"
     ]
    }
   ],
   "source": [
    "from pathlib import Path\n",
    "import pandas as pd\n",
    "\n",
    "# File paths\n",
    "raw_file = Path(\"data/raw/siab.csv\")\n",
    "cache_file = Path(\"data/siab_cached.csv.gz\")\n",
    "\n",
    "# Ensure cache directory exists\n",
    "cache_file.parent.mkdir(parents=True, exist_ok=True)\n",
    "\n",
    "# Load with simple caching\n",
    "if cache_file.exists():\n",
    "    print(f\"Loading SIAB data from cache: {cache_file}\")\n",
    "    siab = pd.read_csv(cache_file, compression='gzip')\n",
    "else:\n",
    "    print(f\"Cache not found. Reading raw SIAB data: {raw_file}\")\n",
    "    siab = pd.read_csv(raw_file)\n",
    "    siab.to_csv(cache_file, index=False, compression='gzip')\n",
    "    print(f\"Cached SIAB data to: {cache_file}\")\n",
    "\n",
    "print(siab.shape)"
   ]
  },
  {
   "cell_type": "code",
   "execution_count": 10,
   "id": "db0ca512-5f53-4dba-abdb-a2888bca41ba",
   "metadata": {
    "execution": {
     "iopub.execute_input": "2025-08-05T15:43:23.004462Z",
     "iopub.status.busy": "2025-08-05T15:43:23.003651Z",
     "iopub.status.idle": "2025-08-05T15:43:23.009609Z",
     "shell.execute_reply": "2025-08-05T15:43:23.008534Z"
    },
    "papermill": {
     "duration": 0.026916,
     "end_time": "2025-08-05T15:43:23.011422",
     "exception": false,
     "start_time": "2025-08-05T15:43:22.984506",
     "status": "completed"
    },
    "tags": []
   },
   "outputs": [],
   "source": [
    "#siab"
   ]
  },
  {
   "cell_type": "markdown",
   "id": "997051c5-15bd-4b69-9786-c3001a3ce484",
   "metadata": {
    "papermill": {
     "duration": 0.017115,
     "end_time": "2025-08-05T15:43:23.046747",
     "exception": false,
     "start_time": "2025-08-05T15:43:23.029632",
     "status": "completed"
    },
    "tags": []
   },
   "source": [
    "# Splitting Data and Setting Training Data Size"
   ]
  },
  {
   "cell_type": "code",
   "execution_count": 11,
   "id": "aea9c6ef-6f46-42c8-85eb-5a62025c1508",
   "metadata": {
    "execution": {
     "iopub.execute_input": "2025-08-05T15:43:23.082607Z",
     "iopub.status.busy": "2025-08-05T15:43:23.081969Z",
     "iopub.status.idle": "2025-08-05T15:43:23.677498Z",
     "shell.execute_reply": "2025-08-05T15:43:23.676514Z"
    },
    "papermill": {
     "duration": 0.61584,
     "end_time": "2025-08-05T15:43:23.679629",
     "exception": false,
     "start_time": "2025-08-05T15:43:23.063789",
     "status": "completed"
    },
    "tags": []
   },
   "outputs": [],
   "source": [
    "from fairness_multiverse.universe import sample_by_year_size\n",
    "\n",
    "siab_train = sample_by_year_size(siab,\n",
    "                               training_year=universe[\"training_year\"],\n",
    "                               training_size=universe[\"training_size\"])"
   ]
  },
  {
   "cell_type": "code",
   "execution_count": 12,
   "id": "8d3afb32-789d-442c-8d5d-9f5aa8dd2eed",
   "metadata": {
    "execution": {
     "iopub.execute_input": "2025-08-05T15:43:23.716240Z",
     "iopub.status.busy": "2025-08-05T15:43:23.715815Z",
     "iopub.status.idle": "2025-08-05T15:43:23.720973Z",
     "shell.execute_reply": "2025-08-05T15:43:23.719897Z"
    },
    "papermill": {
     "duration": 0.025145,
     "end_time": "2025-08-05T15:43:23.722866",
     "exception": false,
     "start_time": "2025-08-05T15:43:23.697721",
     "status": "completed"
    },
    "tags": []
   },
   "outputs": [],
   "source": [
    "#siab_train.shape"
   ]
  },
  {
   "cell_type": "code",
   "execution_count": 13,
   "id": "d582db68-1a4c-47fb-84fc-08518dc1975a",
   "metadata": {
    "execution": {
     "iopub.execute_input": "2025-08-05T15:43:23.766281Z",
     "iopub.status.busy": "2025-08-05T15:43:23.765589Z",
     "iopub.status.idle": "2025-08-05T15:43:23.770759Z",
     "shell.execute_reply": "2025-08-05T15:43:23.769571Z"
    },
    "papermill": {
     "duration": 0.02869,
     "end_time": "2025-08-05T15:43:23.772557",
     "exception": false,
     "start_time": "2025-08-05T15:43:23.743867",
     "status": "completed"
    },
    "tags": []
   },
   "outputs": [],
   "source": [
    "#display(siab_train.groupby(\"year\").size())"
   ]
  },
  {
   "cell_type": "code",
   "execution_count": 14,
   "id": "a561edb4-d032-42cb-8256-22eac1111c64",
   "metadata": {
    "execution": {
     "iopub.execute_input": "2025-08-05T15:43:23.810242Z",
     "iopub.status.busy": "2025-08-05T15:43:23.809476Z",
     "iopub.status.idle": "2025-08-05T15:43:24.055511Z",
     "shell.execute_reply": "2025-08-05T15:43:24.054516Z"
    },
    "papermill": {
     "duration": 0.267014,
     "end_time": "2025-08-05T15:43:24.057542",
     "exception": false,
     "start_time": "2025-08-05T15:43:23.790528",
     "status": "completed"
    },
    "tags": []
   },
   "outputs": [],
   "source": [
    "#siab_train = siab_s[siab_s.year < 2015]\n",
    "siab_calib = siab[siab.year == 2015]\n",
    "siab_test = siab[siab.year == 2016]"
   ]
  },
  {
   "cell_type": "code",
   "execution_count": 15,
   "id": "472de16f-c3db-4916-846b-1f0de9cf1746",
   "metadata": {
    "execution": {
     "iopub.execute_input": "2025-08-05T15:43:24.096512Z",
     "iopub.status.busy": "2025-08-05T15:43:24.095659Z",
     "iopub.status.idle": "2025-08-05T15:43:24.104270Z",
     "shell.execute_reply": "2025-08-05T15:43:24.103168Z"
    },
    "papermill": {
     "duration": 0.029616,
     "end_time": "2025-08-05T15:43:24.105973",
     "exception": false,
     "start_time": "2025-08-05T15:43:24.076357",
     "status": "completed"
    },
    "tags": []
   },
   "outputs": [],
   "source": [
    "X_train = siab_train.iloc[:,4:164]\n",
    "y_train = siab_train.iloc[:, [3]]"
   ]
  },
  {
   "cell_type": "code",
   "execution_count": 16,
   "id": "828c96af-f43a-4ed6-ba47-8ac73a47d56c",
   "metadata": {
    "execution": {
     "iopub.execute_input": "2025-08-05T15:43:24.146138Z",
     "iopub.status.busy": "2025-08-05T15:43:24.145335Z",
     "iopub.status.idle": "2025-08-05T15:43:24.228760Z",
     "shell.execute_reply": "2025-08-05T15:43:24.227633Z"
    },
    "papermill": {
     "duration": 0.1056,
     "end_time": "2025-08-05T15:43:24.230768",
     "exception": false,
     "start_time": "2025-08-05T15:43:24.125168",
     "status": "completed"
    },
    "tags": []
   },
   "outputs": [],
   "source": [
    "X_calib = siab_calib.iloc[:,4:164]\n",
    "y_calib = siab_calib.iloc[:, [3]]"
   ]
  },
  {
   "cell_type": "code",
   "execution_count": 17,
   "id": "c34be9c3-6bd6-476e-acd3-845840e303be",
   "metadata": {
    "execution": {
     "iopub.execute_input": "2025-08-05T15:43:24.271316Z",
     "iopub.status.busy": "2025-08-05T15:43:24.270380Z",
     "iopub.status.idle": "2025-08-05T15:43:24.324629Z",
     "shell.execute_reply": "2025-08-05T15:43:24.322861Z"
    },
    "papermill": {
     "duration": 0.076679,
     "end_time": "2025-08-05T15:43:24.326342",
     "exception": false,
     "start_time": "2025-08-05T15:43:24.249663",
     "status": "completed"
    },
    "tags": []
   },
   "outputs": [],
   "source": [
    "X_test = siab_test.iloc[:,4:164]\n",
    "y_true = siab_test.iloc[:, [3]]"
   ]
  },
  {
   "cell_type": "code",
   "execution_count": 18,
   "id": "e6c733c5",
   "metadata": {
    "execution": {
     "iopub.execute_input": "2025-08-05T15:43:24.361402Z",
     "iopub.status.busy": "2025-08-05T15:43:24.360859Z",
     "iopub.status.idle": "2025-08-05T15:43:24.461038Z",
     "shell.execute_reply": "2025-08-05T15:43:24.460108Z"
    },
    "papermill": {
     "duration": 0.121211,
     "end_time": "2025-08-05T15:43:24.462579",
     "exception": false,
     "start_time": "2025-08-05T15:43:24.341368",
     "status": "completed"
    },
    "tags": []
   },
   "outputs": [],
   "source": [
    "# Auxiliary data needed downstream in the pipeline\n",
    "\n",
    "org_train = X_train.copy()\n",
    "org_test = X_test.copy()\n",
    "org_calib = X_calib.copy()"
   ]
  },
  {
   "cell_type": "markdown",
   "id": "0a4a1b33",
   "metadata": {
    "papermill": {
     "duration": 0.015737,
     "end_time": "2025-08-05T15:43:24.492545",
     "exception": false,
     "start_time": "2025-08-05T15:43:24.476808",
     "status": "completed"
    },
    "tags": []
   },
   "source": [
    "# Preprocessing Data"
   ]
  },
  {
   "cell_type": "code",
   "execution_count": 19,
   "id": "ca879031",
   "metadata": {
    "execution": {
     "iopub.execute_input": "2025-08-05T15:43:24.528560Z",
     "iopub.status.busy": "2025-08-05T15:43:24.527793Z",
     "iopub.status.idle": "2025-08-05T15:43:24.533963Z",
     "shell.execute_reply": "2025-08-05T15:43:24.532849Z"
    },
    "papermill": {
     "duration": 0.027517,
     "end_time": "2025-08-05T15:43:24.535890",
     "exception": false,
     "start_time": "2025-08-05T15:43:24.508373",
     "status": "completed"
    },
    "tags": []
   },
   "outputs": [],
   "source": [
    "# EXCLUDE PROTECTED FEATURES\n",
    "# ----------------------\n",
    "# \"exclude_features\": \"none\", # \"nationality\", \"sex\", \"nationality-sex\"\n",
    "\n",
    "excluded_features = universe[\"exclude_features\"].split(\"-\") # split, e.g.: \"nationality-sex\" -> [\"nationality\", \"sex\"]\n",
    "excluded_features_dictionary = {\n",
    "    \"nationality\": [\"maxdeutsch1\", \"maxdeutsch.Missing.\"],\n",
    "    \"sex\": [\"frau1\"],\n",
    "    \"age\": [\"age\"],\n",
    "}"
   ]
  },
  {
   "cell_type": "code",
   "execution_count": 20,
   "id": "b745ac60",
   "metadata": {
    "execution": {
     "iopub.execute_input": "2025-08-05T15:43:24.575016Z",
     "iopub.status.busy": "2025-08-05T15:43:24.574132Z",
     "iopub.status.idle": "2025-08-05T15:43:24.579980Z",
     "shell.execute_reply": "2025-08-05T15:43:24.578912Z"
    },
    "papermill": {
     "duration": 0.026919,
     "end_time": "2025-08-05T15:43:24.581793",
     "exception": false,
     "start_time": "2025-08-05T15:43:24.554874",
     "status": "completed"
    },
    "tags": []
   },
   "outputs": [],
   "source": [
    "# Code nice names to column names\n",
    "\n",
    "excluded_features_columns = [\n",
    "    excluded_features_dictionary[f] for f in excluded_features if len(f) > 0 and f != \"none\"\n",
    "]"
   ]
  },
  {
   "cell_type": "code",
   "execution_count": 21,
   "id": "f84f73a2",
   "metadata": {
    "execution": {
     "iopub.execute_input": "2025-08-05T15:43:24.624178Z",
     "iopub.status.busy": "2025-08-05T15:43:24.623305Z",
     "iopub.status.idle": "2025-08-05T15:43:24.629919Z",
     "shell.execute_reply": "2025-08-05T15:43:24.628865Z"
    },
    "papermill": {
     "duration": 0.028928,
     "end_time": "2025-08-05T15:43:24.631640",
     "exception": false,
     "start_time": "2025-08-05T15:43:24.602712",
     "status": "completed"
    },
    "tags": []
   },
   "outputs": [],
   "source": [
    "from utils import flatten_once\n",
    "\n",
    "excluded_features_columns = flatten_once(excluded_features_columns)"
   ]
  },
  {
   "cell_type": "code",
   "execution_count": 22,
   "id": "884dea22",
   "metadata": {
    "execution": {
     "iopub.execute_input": "2025-08-05T15:43:24.674131Z",
     "iopub.status.busy": "2025-08-05T15:43:24.673189Z",
     "iopub.status.idle": "2025-08-05T15:43:24.679432Z",
     "shell.execute_reply": "2025-08-05T15:43:24.678271Z"
    },
    "papermill": {
     "duration": 0.028711,
     "end_time": "2025-08-05T15:43:24.681089",
     "exception": false,
     "start_time": "2025-08-05T15:43:24.652378",
     "status": "completed"
    },
    "tags": []
   },
   "outputs": [],
   "source": [
    "if len(excluded_features_columns) > 0:\n",
    "    print(f\"Dropping features: {excluded_features_columns}\")\n",
    "    X_train.drop(excluded_features_columns, axis=1, inplace=True)"
   ]
  },
  {
   "cell_type": "code",
   "execution_count": 23,
   "id": "95ab8b16",
   "metadata": {
    "execution": {
     "iopub.execute_input": "2025-08-05T15:43:24.723312Z",
     "iopub.status.busy": "2025-08-05T15:43:24.722380Z",
     "iopub.status.idle": "2025-08-05T15:43:24.728539Z",
     "shell.execute_reply": "2025-08-05T15:43:24.727550Z"
    },
    "papermill": {
     "duration": 0.028905,
     "end_time": "2025-08-05T15:43:24.730500",
     "exception": false,
     "start_time": "2025-08-05T15:43:24.701595",
     "status": "completed"
    },
    "tags": []
   },
   "outputs": [],
   "source": [
    "if len(excluded_features_columns) > 0:\n",
    "    print(f\"Dropping features: {excluded_features_columns}\")\n",
    "    X_test.drop(excluded_features_columns, axis=1, inplace=True)"
   ]
  },
  {
   "cell_type": "code",
   "execution_count": 24,
   "id": "1853aaf5-fb9f-46cb-a2b5-8ea4ae2237e4",
   "metadata": {
    "execution": {
     "iopub.execute_input": "2025-08-05T15:43:24.773179Z",
     "iopub.status.busy": "2025-08-05T15:43:24.772304Z",
     "iopub.status.idle": "2025-08-05T15:43:24.778160Z",
     "shell.execute_reply": "2025-08-05T15:43:24.777100Z"
    },
    "papermill": {
     "duration": 0.028653,
     "end_time": "2025-08-05T15:43:24.779894",
     "exception": false,
     "start_time": "2025-08-05T15:43:24.751241",
     "status": "completed"
    },
    "tags": []
   },
   "outputs": [],
   "source": [
    "if len(excluded_features_columns) > 0:\n",
    "    print(f\"Dropping features: {excluded_features_columns}\")\n",
    "    X_calib.drop(excluded_features_columns, axis=1, inplace=True)"
   ]
  },
  {
   "cell_type": "code",
   "execution_count": 25,
   "id": "76c4dc6d",
   "metadata": {
    "execution": {
     "iopub.execute_input": "2025-08-05T15:43:24.822888Z",
     "iopub.status.busy": "2025-08-05T15:43:24.822095Z",
     "iopub.status.idle": "2025-08-05T15:43:24.827825Z",
     "shell.execute_reply": "2025-08-05T15:43:24.826809Z"
    },
    "papermill": {
     "duration": 0.0286,
     "end_time": "2025-08-05T15:43:24.829647",
     "exception": false,
     "start_time": "2025-08-05T15:43:24.801047",
     "status": "completed"
    },
    "tags": []
   },
   "outputs": [],
   "source": [
    "# EXCLUDE CERTAIN SUBGROUPS\n",
    "# ----------------------\n",
    "\n",
    "mode = universe.get(\"exclude_subgroups\", \"keep-all\") \n",
    "# Fetches the exclude_subgroups setting from the universe dict.\n",
    "# Defaults to \"keep-all\" if the key is missing."
   ]
  },
  {
   "cell_type": "code",
   "execution_count": 26,
   "id": "21994072",
   "metadata": {
    "execution": {
     "iopub.execute_input": "2025-08-05T15:43:24.872222Z",
     "iopub.status.busy": "2025-08-05T15:43:24.871360Z",
     "iopub.status.idle": "2025-08-05T15:43:24.878354Z",
     "shell.execute_reply": "2025-08-05T15:43:24.877337Z"
    },
    "papermill": {
     "duration": 0.029426,
     "end_time": "2025-08-05T15:43:24.880031",
     "exception": false,
     "start_time": "2025-08-05T15:43:24.850605",
     "status": "completed"
    },
    "tags": []
   },
   "outputs": [],
   "source": [
    "if mode == \"keep-all\":\n",
    "    keep_mask = pd.Series(True, index=org_train.index)\n",
    "\n",
    "# org_train contains the original feature columns from features_org (in Simson)\n",
    "# features_org contains unprocessed features, for me X_train at beginning ???\n",
    "# For keep-all, creates a boolean Series (keep_mask) of all True, so no rows are removed.\n",
    "\n",
    "elif mode == \"drop-non-german\":\n",
    "    keep_mask = org_train[\"maxdeutsch1\"] == 1 # ??? what about missing values?\n",
    "\n",
    "else:\n",
    "    raise ValueError(f\"Unsupported mode for exclude_subgroups: {mode}\")"
   ]
  },
  {
   "cell_type": "code",
   "execution_count": 27,
   "id": "71651440",
   "metadata": {
    "execution": {
     "iopub.execute_input": "2025-08-05T15:43:24.922352Z",
     "iopub.status.busy": "2025-08-05T15:43:24.920655Z",
     "iopub.status.idle": "2025-08-05T15:43:24.930314Z",
     "shell.execute_reply": "2025-08-05T15:43:24.929222Z"
    },
    "papermill": {
     "duration": 0.030989,
     "end_time": "2025-08-05T15:43:24.932007",
     "exception": false,
     "start_time": "2025-08-05T15:43:24.901018",
     "status": "completed"
    },
    "tags": []
   },
   "outputs": [
    {
     "name": "stdout",
     "output_type": "stream",
     "text": [
      "Dropping 665 rows (13.30%) where mode='drop-non-german'\n"
     ]
    }
   ],
   "source": [
    "n_drop = (~keep_mask).sum() # Calculates how many rows are set to be dropped\n",
    "if n_drop > 0:\n",
    "    pct = n_drop / len(keep_mask) * 100\n",
    "    print(f\"Dropping {n_drop} rows ({pct:.2f}%) where mode='{mode}'\")"
   ]
  },
  {
   "cell_type": "code",
   "execution_count": 28,
   "id": "5fb8eee5",
   "metadata": {
    "execution": {
     "iopub.execute_input": "2025-08-05T15:43:24.976661Z",
     "iopub.status.busy": "2025-08-05T15:43:24.975772Z",
     "iopub.status.idle": "2025-08-05T15:43:24.983582Z",
     "shell.execute_reply": "2025-08-05T15:43:24.982506Z"
    },
    "papermill": {
     "duration": 0.031401,
     "end_time": "2025-08-05T15:43:24.985380",
     "exception": false,
     "start_time": "2025-08-05T15:43:24.953979",
     "status": "completed"
    },
    "tags": []
   },
   "outputs": [],
   "source": [
    "X_train = X_train[keep_mask]"
   ]
  },
  {
   "cell_type": "code",
   "execution_count": 29,
   "id": "b202bb3a",
   "metadata": {
    "execution": {
     "iopub.execute_input": "2025-08-05T15:43:25.030135Z",
     "iopub.status.busy": "2025-08-05T15:43:25.029566Z",
     "iopub.status.idle": "2025-08-05T15:43:25.035890Z",
     "shell.execute_reply": "2025-08-05T15:43:25.034943Z"
    },
    "papermill": {
     "duration": 0.03061,
     "end_time": "2025-08-05T15:43:25.037656",
     "exception": false,
     "start_time": "2025-08-05T15:43:25.007046",
     "status": "completed"
    },
    "tags": []
   },
   "outputs": [],
   "source": [
    "y_train = y_train[keep_mask]"
   ]
  },
  {
   "cell_type": "markdown",
   "id": "493e2ac3",
   "metadata": {
    "papermill": {
     "duration": 0.02052,
     "end_time": "2025-08-05T15:43:25.079896",
     "exception": false,
     "start_time": "2025-08-05T15:43:25.059376",
     "status": "completed"
    },
    "tags": []
   },
   "source": [
    "# Model Training"
   ]
  },
  {
   "cell_type": "code",
   "execution_count": 30,
   "id": "679e1268",
   "metadata": {
    "execution": {
     "iopub.execute_input": "2025-08-05T15:43:25.123496Z",
     "iopub.status.busy": "2025-08-05T15:43:25.122834Z",
     "iopub.status.idle": "2025-08-05T15:43:25.224557Z",
     "shell.execute_reply": "2025-08-05T15:43:25.223609Z"
    },
    "papermill": {
     "duration": 0.126127,
     "end_time": "2025-08-05T15:43:25.226655",
     "exception": false,
     "start_time": "2025-08-05T15:43:25.100528",
     "status": "completed"
    },
    "tags": []
   },
   "outputs": [],
   "source": [
    "from sklearn.linear_model import LogisticRegression\n",
    "from sklearn.ensemble import GradientBoostingClassifier, RandomForestClassifier\n",
    "\n",
    "if (universe[\"model\"] == \"logreg\"):\n",
    "    model = LogisticRegression() #penalty=\"none\", solver=\"newton-cg\", max_iter=1) # include random_state=19 ?\n",
    "elif (universe[\"model\"] == \"penalized_logreg\"):\n",
    "    model = LogisticRegression(penalty=\"l2\", C=0.1) #, solver=\"newton-cg\", max_iter=1)\n",
    "elif (universe[\"model\"] == \"rf\"):\n",
    "    model = RandomForestClassifier() # n_estimators=100, n_jobs=-1\n",
    "elif (universe[\"model\"] == \"gbm\"):\n",
    "    model = GradientBoostingClassifier()\n",
    "elif (universe[\"model\"] == \"elasticnet\"):\n",
    "    model = LogisticRegression(penalty = 'elasticnet', solver = 'saga', l1_ratio = 0.5) # max_iter=5000\n",
    "else:\n",
    "    raise \"Unsupported universe.model\""
   ]
  },
  {
   "cell_type": "code",
   "execution_count": 31,
   "id": "0cc8f744",
   "metadata": {
    "execution": {
     "iopub.execute_input": "2025-08-05T15:43:25.271199Z",
     "iopub.status.busy": "2025-08-05T15:43:25.270287Z",
     "iopub.status.idle": "2025-08-05T15:43:25.276892Z",
     "shell.execute_reply": "2025-08-05T15:43:25.275786Z"
    },
    "papermill": {
     "duration": 0.030731,
     "end_time": "2025-08-05T15:43:25.278789",
     "exception": false,
     "start_time": "2025-08-05T15:43:25.248058",
     "status": "completed"
    },
    "tags": []
   },
   "outputs": [],
   "source": [
    "import numpy as np\n",
    "from sklearn.pipeline import Pipeline\n",
    "from sklearn.preprocessing import StandardScaler\n",
    "\n",
    "model = Pipeline([\n",
    "    #(\"continuous_processor\", continuous_processor),\n",
    "    #(\"categorical_preprocessor\", categorical_preprocessor),\n",
    "    (\"scale\", StandardScaler() if universe[\"scale\"] == \"scale\" else None), \n",
    "    (\"model\", model),\n",
    "])"
   ]
  },
  {
   "cell_type": "code",
   "execution_count": 32,
   "id": "9442c04d",
   "metadata": {
    "execution": {
     "iopub.execute_input": "2025-08-05T15:43:25.323539Z",
     "iopub.status.busy": "2025-08-05T15:43:25.322886Z",
     "iopub.status.idle": "2025-08-05T15:43:26.572499Z",
     "shell.execute_reply": "2025-08-05T15:43:26.571633Z"
    },
    "papermill": {
     "duration": 1.273304,
     "end_time": "2025-08-05T15:43:26.574071",
     "exception": false,
     "start_time": "2025-08-05T15:43:25.300767",
     "status": "completed"
    },
    "tags": []
   },
   "outputs": [
    {
     "data": {
      "text/html": [
       "<style>#sk-container-id-1 {color: black;background-color: white;}#sk-container-id-1 pre{padding: 0;}#sk-container-id-1 div.sk-toggleable {background-color: white;}#sk-container-id-1 label.sk-toggleable__label {cursor: pointer;display: block;width: 100%;margin-bottom: 0;padding: 0.3em;box-sizing: border-box;text-align: center;}#sk-container-id-1 label.sk-toggleable__label-arrow:before {content: \"▸\";float: left;margin-right: 0.25em;color: #696969;}#sk-container-id-1 label.sk-toggleable__label-arrow:hover:before {color: black;}#sk-container-id-1 div.sk-estimator:hover label.sk-toggleable__label-arrow:before {color: black;}#sk-container-id-1 div.sk-toggleable__content {max-height: 0;max-width: 0;overflow: hidden;text-align: left;background-color: #f0f8ff;}#sk-container-id-1 div.sk-toggleable__content pre {margin: 0.2em;color: black;border-radius: 0.25em;background-color: #f0f8ff;}#sk-container-id-1 input.sk-toggleable__control:checked~div.sk-toggleable__content {max-height: 200px;max-width: 100%;overflow: auto;}#sk-container-id-1 input.sk-toggleable__control:checked~label.sk-toggleable__label-arrow:before {content: \"▾\";}#sk-container-id-1 div.sk-estimator input.sk-toggleable__control:checked~label.sk-toggleable__label {background-color: #d4ebff;}#sk-container-id-1 div.sk-label input.sk-toggleable__control:checked~label.sk-toggleable__label {background-color: #d4ebff;}#sk-container-id-1 input.sk-hidden--visually {border: 0;clip: rect(1px 1px 1px 1px);clip: rect(1px, 1px, 1px, 1px);height: 1px;margin: -1px;overflow: hidden;padding: 0;position: absolute;width: 1px;}#sk-container-id-1 div.sk-estimator {font-family: monospace;background-color: #f0f8ff;border: 1px dotted black;border-radius: 0.25em;box-sizing: border-box;margin-bottom: 0.5em;}#sk-container-id-1 div.sk-estimator:hover {background-color: #d4ebff;}#sk-container-id-1 div.sk-parallel-item::after {content: \"\";width: 100%;border-bottom: 1px solid gray;flex-grow: 1;}#sk-container-id-1 div.sk-label:hover label.sk-toggleable__label {background-color: #d4ebff;}#sk-container-id-1 div.sk-serial::before {content: \"\";position: absolute;border-left: 1px solid gray;box-sizing: border-box;top: 0;bottom: 0;left: 50%;z-index: 0;}#sk-container-id-1 div.sk-serial {display: flex;flex-direction: column;align-items: center;background-color: white;padding-right: 0.2em;padding-left: 0.2em;position: relative;}#sk-container-id-1 div.sk-item {position: relative;z-index: 1;}#sk-container-id-1 div.sk-parallel {display: flex;align-items: stretch;justify-content: center;background-color: white;position: relative;}#sk-container-id-1 div.sk-item::before, #sk-container-id-1 div.sk-parallel-item::before {content: \"\";position: absolute;border-left: 1px solid gray;box-sizing: border-box;top: 0;bottom: 0;left: 50%;z-index: -1;}#sk-container-id-1 div.sk-parallel-item {display: flex;flex-direction: column;z-index: 1;position: relative;background-color: white;}#sk-container-id-1 div.sk-parallel-item:first-child::after {align-self: flex-end;width: 50%;}#sk-container-id-1 div.sk-parallel-item:last-child::after {align-self: flex-start;width: 50%;}#sk-container-id-1 div.sk-parallel-item:only-child::after {width: 0;}#sk-container-id-1 div.sk-dashed-wrapped {border: 1px dashed gray;margin: 0 0.4em 0.5em 0.4em;box-sizing: border-box;padding-bottom: 0.4em;background-color: white;}#sk-container-id-1 div.sk-label label {font-family: monospace;font-weight: bold;display: inline-block;line-height: 1.2em;}#sk-container-id-1 div.sk-label-container {text-align: center;}#sk-container-id-1 div.sk-container {/* jupyter's `normalize.less` sets `[hidden] { display: none; }` but bootstrap.min.css set `[hidden] { display: none !important; }` so we also need the `!important` here to be able to override the default hidden behavior on the sphinx rendered scikit-learn.org. See: https://github.com/scikit-learn/scikit-learn/issues/21755 */display: inline-block !important;position: relative;}#sk-container-id-1 div.sk-text-repr-fallback {display: none;}</style><div id=\"sk-container-id-1\" class=\"sk-top-container\"><div class=\"sk-text-repr-fallback\"><pre>Pipeline(steps=[(&#x27;scale&#x27;, None), (&#x27;model&#x27;, RandomForestClassifier())])</pre><b>In a Jupyter environment, please rerun this cell to show the HTML representation or trust the notebook. <br />On GitHub, the HTML representation is unable to render, please try loading this page with nbviewer.org.</b></div><div class=\"sk-container\" hidden><div class=\"sk-item sk-dashed-wrapped\"><div class=\"sk-label-container\"><div class=\"sk-label sk-toggleable\"><input class=\"sk-toggleable__control sk-hidden--visually\" id=\"sk-estimator-id-1\" type=\"checkbox\" ><label for=\"sk-estimator-id-1\" class=\"sk-toggleable__label sk-toggleable__label-arrow\">Pipeline</label><div class=\"sk-toggleable__content\"><pre>Pipeline(steps=[(&#x27;scale&#x27;, None), (&#x27;model&#x27;, RandomForestClassifier())])</pre></div></div></div><div class=\"sk-serial\"><div class=\"sk-item\"><div class=\"sk-estimator sk-toggleable\"><input class=\"sk-toggleable__control sk-hidden--visually\" id=\"sk-estimator-id-2\" type=\"checkbox\" ><label for=\"sk-estimator-id-2\" class=\"sk-toggleable__label sk-toggleable__label-arrow\">None</label><div class=\"sk-toggleable__content\"><pre>None</pre></div></div></div><div class=\"sk-item\"><div class=\"sk-estimator sk-toggleable\"><input class=\"sk-toggleable__control sk-hidden--visually\" id=\"sk-estimator-id-3\" type=\"checkbox\" ><label for=\"sk-estimator-id-3\" class=\"sk-toggleable__label sk-toggleable__label-arrow\">RandomForestClassifier</label><div class=\"sk-toggleable__content\"><pre>RandomForestClassifier()</pre></div></div></div></div></div></div></div>"
      ],
      "text/plain": [
       "Pipeline(steps=[('scale', None), ('model', RandomForestClassifier())])"
      ]
     },
     "execution_count": 32,
     "metadata": {},
     "output_type": "execute_result"
    }
   ],
   "source": [
    "model.fit(X_train, y_train.values.ravel())"
   ]
  },
  {
   "cell_type": "code",
   "execution_count": 33,
   "id": "af59f8c0",
   "metadata": {
    "execution": {
     "iopub.execute_input": "2025-08-05T15:43:26.609768Z",
     "iopub.status.busy": "2025-08-05T15:43:26.609305Z",
     "iopub.status.idle": "2025-08-05T15:43:26.614507Z",
     "shell.execute_reply": "2025-08-05T15:43:26.613502Z"
    },
    "papermill": {
     "duration": 0.024689,
     "end_time": "2025-08-05T15:43:26.616182",
     "exception": false,
     "start_time": "2025-08-05T15:43:26.591493",
     "status": "completed"
    },
    "tags": []
   },
   "outputs": [],
   "source": [
    "from fairness_multiverse.universe import predict_w_threshold"
   ]
  },
  {
   "cell_type": "code",
   "execution_count": 34,
   "id": "a7cf2e16",
   "metadata": {
    "execution": {
     "iopub.execute_input": "2025-08-05T15:43:26.655054Z",
     "iopub.status.busy": "2025-08-05T15:43:26.654225Z",
     "iopub.status.idle": "2025-08-05T15:43:28.770033Z",
     "shell.execute_reply": "2025-08-05T15:43:28.769288Z"
    },
    "papermill": {
     "duration": 2.135659,
     "end_time": "2025-08-05T15:43:28.771234",
     "exception": false,
     "start_time": "2025-08-05T15:43:26.635575",
     "status": "completed"
    },
    "tags": []
   },
   "outputs": [
    {
     "data": {
      "text/plain": [
       "0.8635826552223832"
      ]
     },
     "execution_count": 34,
     "metadata": {},
     "output_type": "execute_result"
    }
   ],
   "source": [
    "probs_test = model.predict_proba(X_test)\n",
    "\n",
    "'''\n",
    "Below code returns a boolean array (or binary 0/1 array depending on how it’s used) where each element \n",
    "is True if the probability of class 1 is greater than or equal to the threshold, and False otherwise.\n",
    "'''\n",
    "y_pred_default = predict_w_threshold(probs_test, 0.5)\n",
    "\n",
    "from sklearn.metrics import accuracy_score\n",
    "\n",
    "# Naive prediction\n",
    "accuracy_score(y_true = y_true, y_pred = y_pred_default)"
   ]
  },
  {
   "cell_type": "code",
   "execution_count": 35,
   "id": "081964c3",
   "metadata": {
    "execution": {
     "iopub.execute_input": "2025-08-05T15:43:28.793030Z",
     "iopub.status.busy": "2025-08-05T15:43:28.792294Z",
     "iopub.status.idle": "2025-08-05T15:43:30.566562Z",
     "shell.execute_reply": "2025-08-05T15:43:30.565445Z"
    },
    "papermill": {
     "duration": 1.786847,
     "end_time": "2025-08-05T15:43:30.568432",
     "exception": false,
     "start_time": "2025-08-05T15:43:28.781585",
     "status": "completed"
    },
    "tags": []
   },
   "outputs": [
    {
     "data": {
      "text/plain": [
       "array([0, 0, 0, ..., 0, 0, 0])"
      ]
     },
     "execution_count": 35,
     "metadata": {},
     "output_type": "execute_result"
    }
   ],
   "source": [
    "model.predict(X_test)"
   ]
  },
  {
   "cell_type": "markdown",
   "id": "56c9705b",
   "metadata": {
    "papermill": {
     "duration": 0.015835,
     "end_time": "2025-08-05T15:43:30.606511",
     "exception": false,
     "start_time": "2025-08-05T15:43:30.590676",
     "status": "completed"
    },
    "tags": []
   },
   "source": [
    "# Conformal Prediction"
   ]
  },
  {
   "cell_type": "code",
   "execution_count": 36,
   "id": "160ec6ff",
   "metadata": {
    "execution": {
     "iopub.execute_input": "2025-08-05T15:43:30.627376Z",
     "iopub.status.busy": "2025-08-05T15:43:30.626970Z",
     "iopub.status.idle": "2025-08-05T15:43:30.632323Z",
     "shell.execute_reply": "2025-08-05T15:43:30.631274Z"
    },
    "papermill": {
     "duration": 0.018064,
     "end_time": "2025-08-05T15:43:30.634170",
     "exception": false,
     "start_time": "2025-08-05T15:43:30.616106",
     "status": "completed"
    },
    "tags": []
   },
   "outputs": [],
   "source": [
    "# Miscoverage level for conformal prediction (10% allowed error rate => 90% target coverage)\n",
    "alpha = 0.1"
   ]
  },
  {
   "cell_type": "code",
   "execution_count": 37,
   "id": "eadf4555-3dd3-440e-8e35-f82a4ad9f855",
   "metadata": {
    "execution": {
     "iopub.execute_input": "2025-08-05T15:43:30.677147Z",
     "iopub.status.busy": "2025-08-05T15:43:30.676486Z",
     "iopub.status.idle": "2025-08-05T15:43:32.714772Z",
     "shell.execute_reply": "2025-08-05T15:43:32.713831Z"
    },
    "papermill": {
     "duration": 2.062774,
     "end_time": "2025-08-05T15:43:32.716703",
     "exception": false,
     "start_time": "2025-08-05T15:43:30.653929",
     "status": "completed"
    },
    "tags": []
   },
   "outputs": [],
   "source": [
    "probs_calib = model.predict_proba(X_calib)"
   ]
  },
  {
   "cell_type": "code",
   "execution_count": 38,
   "id": "2ed93547-6d5d-4983-9b36-1ecb300da49a",
   "metadata": {
    "execution": {
     "iopub.execute_input": "2025-08-05T15:43:32.759940Z",
     "iopub.status.busy": "2025-08-05T15:43:32.759092Z",
     "iopub.status.idle": "2025-08-05T15:43:32.765216Z",
     "shell.execute_reply": "2025-08-05T15:43:32.764276Z"
    },
    "papermill": {
     "duration": 0.029639,
     "end_time": "2025-08-05T15:43:32.767082",
     "exception": false,
     "start_time": "2025-08-05T15:43:32.737443",
     "status": "completed"
    },
    "tags": []
   },
   "outputs": [],
   "source": [
    "y_calib = y_calib.values.ravel().astype(int)"
   ]
  },
  {
   "cell_type": "code",
   "execution_count": 39,
   "id": "65d1320d-f588-4b38-9072-62af1ae97f7d",
   "metadata": {
    "execution": {
     "iopub.execute_input": "2025-08-05T15:43:32.805566Z",
     "iopub.status.busy": "2025-08-05T15:43:32.804743Z",
     "iopub.status.idle": "2025-08-05T15:43:32.811900Z",
     "shell.execute_reply": "2025-08-05T15:43:32.810992Z"
    },
    "papermill": {
     "duration": 0.027469,
     "end_time": "2025-08-05T15:43:32.813527",
     "exception": false,
     "start_time": "2025-08-05T15:43:32.786058",
     "status": "completed"
    },
    "tags": []
   },
   "outputs": [],
   "source": [
    "from fairness_multiverse.conformal import compute_nc_scores\n",
    "\n",
    "# Compute nonconformity scores on calibration set (1 - probability of true class)\n",
    "nc_scores = compute_nc_scores(probs_calib, y_calib)"
   ]
  },
  {
   "cell_type": "code",
   "execution_count": 40,
   "id": "df3b8ca3-53b7-43d5-9667-7c85da7aeda2",
   "metadata": {
    "execution": {
     "iopub.execute_input": "2025-08-05T15:43:32.856265Z",
     "iopub.status.busy": "2025-08-05T15:43:32.855383Z",
     "iopub.status.idle": "2025-08-05T15:43:32.862060Z",
     "shell.execute_reply": "2025-08-05T15:43:32.861025Z"
    },
    "papermill": {
     "duration": 0.029348,
     "end_time": "2025-08-05T15:43:32.863751",
     "exception": false,
     "start_time": "2025-08-05T15:43:32.834403",
     "status": "completed"
    },
    "tags": []
   },
   "outputs": [],
   "source": [
    "from fairness_multiverse.conformal import find_threshold\n",
    "\n",
    "# Find conformal threshold q_hat for the given alpha (split conformal method)\n",
    "q_hat = find_threshold(nc_scores, alpha)"
   ]
  },
  {
   "cell_type": "code",
   "execution_count": 41,
   "id": "4d29e6c1-0ef6-4aa4-b8fe-4fe79b0d033a",
   "metadata": {
    "execution": {
     "iopub.execute_input": "2025-08-05T15:43:32.906195Z",
     "iopub.status.busy": "2025-08-05T15:43:32.905497Z",
     "iopub.status.idle": "2025-08-05T15:43:32.913302Z",
     "shell.execute_reply": "2025-08-05T15:43:32.912107Z"
    },
    "papermill": {
     "duration": 0.030615,
     "end_time": "2025-08-05T15:43:32.915188",
     "exception": false,
     "start_time": "2025-08-05T15:43:32.884573",
     "status": "completed"
    },
    "tags": []
   },
   "outputs": [
    {
     "data": {
      "text/plain": [
       "0.6799999999999999"
      ]
     },
     "execution_count": 41,
     "metadata": {},
     "output_type": "execute_result"
    }
   ],
   "source": [
    "q_hat"
   ]
  },
  {
   "cell_type": "code",
   "execution_count": 42,
   "id": "92460794-cdac-4be2-ba28-f28c0515a6fb",
   "metadata": {
    "execution": {
     "iopub.execute_input": "2025-08-05T15:43:32.962757Z",
     "iopub.status.busy": "2025-08-05T15:43:32.962380Z",
     "iopub.status.idle": "2025-08-05T15:43:35.759329Z",
     "shell.execute_reply": "2025-08-05T15:43:35.758511Z"
    },
    "papermill": {
     "duration": 2.821245,
     "end_time": "2025-08-05T15:43:35.761123",
     "exception": false,
     "start_time": "2025-08-05T15:43:32.939878",
     "status": "completed"
    },
    "tags": []
   },
   "outputs": [],
   "source": [
    "from fairness_multiverse.conformal import predict_conformal_sets\n",
    "\n",
    "# Generate prediction sets for each test example\n",
    "pred_sets = predict_conformal_sets(model, X_test, q_hat)"
   ]
  },
  {
   "cell_type": "code",
   "execution_count": 43,
   "id": "d90c9a65-e6db-4f5d-80cd-e68fb7e46829",
   "metadata": {
    "execution": {
     "iopub.execute_input": "2025-08-05T15:43:35.807704Z",
     "iopub.status.busy": "2025-08-05T15:43:35.806803Z",
     "iopub.status.idle": "2025-08-05T15:43:35.813900Z",
     "shell.execute_reply": "2025-08-05T15:43:35.812040Z"
    },
    "papermill": {
     "duration": 0.031355,
     "end_time": "2025-08-05T15:43:35.815920",
     "exception": false,
     "start_time": "2025-08-05T15:43:35.784565",
     "status": "completed"
    },
    "tags": []
   },
   "outputs": [],
   "source": [
    "y_true = y_true.squeeze()"
   ]
  },
  {
   "cell_type": "code",
   "execution_count": 44,
   "id": "3a58a54a-1e68-46b9-927a-df01f18aebc8",
   "metadata": {
    "execution": {
     "iopub.execute_input": "2025-08-05T15:43:35.855361Z",
     "iopub.status.busy": "2025-08-05T15:43:35.855011Z",
     "iopub.status.idle": "2025-08-05T15:43:36.409043Z",
     "shell.execute_reply": "2025-08-05T15:43:36.408302Z"
    },
    "papermill": {
     "duration": 0.572496,
     "end_time": "2025-08-05T15:43:36.410531",
     "exception": false,
     "start_time": "2025-08-05T15:43:35.838035",
     "status": "completed"
    },
    "tags": []
   },
   "outputs": [],
   "source": [
    "from fairness_multiverse.conformal import evaluate_sets\n",
    "\n",
    "# Evaluate coverage and average set size on test data\n",
    "metrics = evaluate_sets(pred_sets, y_true)"
   ]
  },
  {
   "cell_type": "markdown",
   "id": "2b569c12-9aaa-4c88-98c9-bbcd0cf3ebb8",
   "metadata": {
    "papermill": {
     "duration": 0.010178,
     "end_time": "2025-08-05T15:43:36.431972",
     "exception": false,
     "start_time": "2025-08-05T15:43:36.421794",
     "status": "completed"
    },
    "tags": []
   },
   "source": [
    "# CP Metrics"
   ]
  },
  {
   "cell_type": "code",
   "execution_count": 45,
   "id": "5ce0a5cb-201f-45a0-ade5-94c7f0bd6095",
   "metadata": {
    "execution": {
     "iopub.execute_input": "2025-08-05T15:43:36.453913Z",
     "iopub.status.busy": "2025-08-05T15:43:36.453569Z",
     "iopub.status.idle": "2025-08-05T15:43:36.460038Z",
     "shell.execute_reply": "2025-08-05T15:43:36.458931Z"
    },
    "papermill": {
     "duration": 0.019154,
     "end_time": "2025-08-05T15:43:36.461443",
     "exception": false,
     "start_time": "2025-08-05T15:43:36.442289",
     "status": "completed"
    },
    "tags": []
   },
   "outputs": [
    {
     "data": {
      "text/plain": [
       "{'coverage': 0.9133764351800245, 'avg_size': 1.1469512874818861}"
      ]
     },
     "execution_count": 45,
     "metadata": {},
     "output_type": "execute_result"
    }
   ],
   "source": [
    "metrics"
   ]
  },
  {
   "cell_type": "code",
   "execution_count": 46,
   "id": "9b9a838d-31c9-430b-ae14-12baee460d17",
   "metadata": {
    "execution": {
     "iopub.execute_input": "2025-08-05T15:43:36.501870Z",
     "iopub.status.busy": "2025-08-05T15:43:36.501486Z",
     "iopub.status.idle": "2025-08-05T15:43:36.506699Z",
     "shell.execute_reply": "2025-08-05T15:43:36.505799Z"
    },
    "papermill": {
     "duration": 0.029003,
     "end_time": "2025-08-05T15:43:36.508149",
     "exception": false,
     "start_time": "2025-08-05T15:43:36.479146",
     "status": "completed"
    },
    "tags": []
   },
   "outputs": [],
   "source": [
    "example_universe = universe.copy()\n",
    "universe_training_year = example_universe.get(\"training_year\")\n",
    "universe_training_size = example_universe.get(\"training_size\")\n",
    "universe_scale = example_universe.get(\"scale\")\n",
    "universe_model = example_universe.get(\"model\")\n",
    "universe_exclude_features = example_universe.get(\"exclude_features\")\n",
    "universe_exclude_subgroups = example_universe.get(\"exclude_subgroups\")"
   ]
  },
  {
   "cell_type": "code",
   "execution_count": 47,
   "id": "f4b6a8ac-9dc0-4245-8a91-5b3b5999c4f9",
   "metadata": {
    "execution": {
     "iopub.execute_input": "2025-08-05T15:43:36.548798Z",
     "iopub.status.busy": "2025-08-05T15:43:36.548326Z",
     "iopub.status.idle": "2025-08-05T15:43:36.555228Z",
     "shell.execute_reply": "2025-08-05T15:43:36.554030Z"
    },
    "papermill": {
     "duration": 0.03363,
     "end_time": "2025-08-05T15:43:36.557587",
     "exception": false,
     "start_time": "2025-08-05T15:43:36.523957",
     "status": "completed"
    },
    "tags": []
   },
   "outputs": [],
   "source": [
    "cp_metrics_dict = {\n",
    "    \"universe_id\": [universe_id],\n",
    "    \"universe_training_year\": [universe_training_year],\n",
    "    \"universe_training_size\": [universe_training_size],\n",
    "    \"universe_scale\": [universe_scale],\n",
    "    \"universe_model\": [universe_model],\n",
    "    \"universe_exclude_features\": [universe_exclude_features],\n",
    "    \"universe_exclude_subgroups\": [universe_exclude_subgroups],\n",
    "    \"q_hat\": [q_hat],\n",
    "    \"coverage\": [metrics[\"coverage\"]],\n",
    "    \"avg_size\": [metrics[\"avg_size\"]],\n",
    "}"
   ]
  },
  {
   "cell_type": "code",
   "execution_count": 48,
   "id": "908acbb1-0371-4915-85ca-3fa520d2efe2",
   "metadata": {
    "execution": {
     "iopub.execute_input": "2025-08-05T15:43:36.607236Z",
     "iopub.status.busy": "2025-08-05T15:43:36.606558Z",
     "iopub.status.idle": "2025-08-05T15:43:36.614414Z",
     "shell.execute_reply": "2025-08-05T15:43:36.613321Z"
    },
    "papermill": {
     "duration": 0.034552,
     "end_time": "2025-08-05T15:43:36.616012",
     "exception": false,
     "start_time": "2025-08-05T15:43:36.581460",
     "status": "completed"
    },
    "tags": []
   },
   "outputs": [
    {
     "data": {
      "text/plain": [
       "{'universe_id': ['c2bb59cfada70f73cca271f17d37baa8'],\n",
       " 'universe_training_year': ['2012_14'],\n",
       " 'universe_training_size': ['5k'],\n",
       " 'universe_scale': ['do-not-scale'],\n",
       " 'universe_model': ['rf'],\n",
       " 'universe_exclude_features': ['none'],\n",
       " 'universe_exclude_subgroups': ['drop-non-german'],\n",
       " 'q_hat': [0.6799999999999999],\n",
       " 'coverage': [0.9133764351800245],\n",
       " 'avg_size': [1.1469512874818861]}"
      ]
     },
     "execution_count": 48,
     "metadata": {},
     "output_type": "execute_result"
    }
   ],
   "source": [
    "cp_metrics_dict"
   ]
  },
  {
   "cell_type": "code",
   "execution_count": 49,
   "id": "33007efc-14e9-4ec6-97ac-56a455c82265",
   "metadata": {
    "execution": {
     "iopub.execute_input": "2025-08-05T15:43:36.660052Z",
     "iopub.status.busy": "2025-08-05T15:43:36.659457Z",
     "iopub.status.idle": "2025-08-05T15:43:36.664576Z",
     "shell.execute_reply": "2025-08-05T15:43:36.663705Z"
    },
    "papermill": {
     "duration": 0.028048,
     "end_time": "2025-08-05T15:43:36.666136",
     "exception": false,
     "start_time": "2025-08-05T15:43:36.638088",
     "status": "completed"
    },
    "tags": []
   },
   "outputs": [],
   "source": [
    "cp_metrics_df = pd.DataFrame(cp_metrics_dict)"
   ]
  },
  {
   "cell_type": "code",
   "execution_count": 50,
   "id": "db12611b-57b2-4910-b9d0-355adfd6e7bf",
   "metadata": {
    "execution": {
     "iopub.execute_input": "2025-08-05T15:43:36.689640Z",
     "iopub.status.busy": "2025-08-05T15:43:36.689292Z",
     "iopub.status.idle": "2025-08-05T15:43:36.707856Z",
     "shell.execute_reply": "2025-08-05T15:43:36.707090Z"
    },
    "papermill": {
     "duration": 0.031248,
     "end_time": "2025-08-05T15:43:36.709295",
     "exception": false,
     "start_time": "2025-08-05T15:43:36.678047",
     "status": "completed"
    },
    "tags": []
   },
   "outputs": [
    {
     "data": {
      "text/html": [
       "<div>\n",
       "<style scoped>\n",
       "    .dataframe tbody tr th:only-of-type {\n",
       "        vertical-align: middle;\n",
       "    }\n",
       "\n",
       "    .dataframe tbody tr th {\n",
       "        vertical-align: top;\n",
       "    }\n",
       "\n",
       "    .dataframe thead th {\n",
       "        text-align: right;\n",
       "    }\n",
       "</style>\n",
       "<table border=\"1\" class=\"dataframe\">\n",
       "  <thead>\n",
       "    <tr style=\"text-align: right;\">\n",
       "      <th></th>\n",
       "      <th>universe_id</th>\n",
       "      <th>universe_training_year</th>\n",
       "      <th>universe_training_size</th>\n",
       "      <th>universe_scale</th>\n",
       "      <th>universe_model</th>\n",
       "      <th>universe_exclude_features</th>\n",
       "      <th>universe_exclude_subgroups</th>\n",
       "      <th>q_hat</th>\n",
       "      <th>coverage</th>\n",
       "      <th>avg_size</th>\n",
       "    </tr>\n",
       "  </thead>\n",
       "  <tbody>\n",
       "    <tr>\n",
       "      <th>0</th>\n",
       "      <td>c2bb59cfada70f73cca271f17d37baa8</td>\n",
       "      <td>2012_14</td>\n",
       "      <td>5k</td>\n",
       "      <td>do-not-scale</td>\n",
       "      <td>rf</td>\n",
       "      <td>none</td>\n",
       "      <td>drop-non-german</td>\n",
       "      <td>0.68</td>\n",
       "      <td>0.913376</td>\n",
       "      <td>1.146951</td>\n",
       "    </tr>\n",
       "  </tbody>\n",
       "</table>\n",
       "</div>"
      ],
      "text/plain": [
       "                        universe_id universe_training_year  \\\n",
       "0  c2bb59cfada70f73cca271f17d37baa8                2012_14   \n",
       "\n",
       "  universe_training_size universe_scale universe_model  \\\n",
       "0                     5k   do-not-scale             rf   \n",
       "\n",
       "  universe_exclude_features universe_exclude_subgroups  q_hat  coverage  \\\n",
       "0                      none            drop-non-german   0.68  0.913376   \n",
       "\n",
       "   avg_size  \n",
       "0  1.146951  "
      ]
     },
     "execution_count": 50,
     "metadata": {},
     "output_type": "execute_result"
    }
   ],
   "source": [
    "cp_metrics_df"
   ]
  },
  {
   "cell_type": "code",
   "execution_count": 51,
   "id": "b7fbde55-a0a1-47e4-9af6-fe4a17fa8c61",
   "metadata": {
    "execution": {
     "iopub.execute_input": "2025-08-05T15:43:36.752053Z",
     "iopub.status.busy": "2025-08-05T15:43:36.751614Z",
     "iopub.status.idle": "2025-08-05T15:43:36.755530Z",
     "shell.execute_reply": "2025-08-05T15:43:36.754785Z"
    },
    "papermill": {
     "duration": 0.026678,
     "end_time": "2025-08-05T15:43:36.757045",
     "exception": false,
     "start_time": "2025-08-05T15:43:36.730367",
     "status": "completed"
    },
    "tags": []
   },
   "outputs": [],
   "source": [
    "# Conditional Coverage & looking at subgroups"
   ]
  },
  {
   "cell_type": "code",
   "execution_count": 52,
   "id": "027ae886-68dd-4141-96c7-805a5450e1ef",
   "metadata": {
    "execution": {
     "iopub.execute_input": "2025-08-05T15:43:36.780276Z",
     "iopub.status.busy": "2025-08-05T15:43:36.779919Z",
     "iopub.status.idle": "2025-08-05T15:43:37.022385Z",
     "shell.execute_reply": "2025-08-05T15:43:37.021413Z"
    },
    "papermill": {
     "duration": 0.255674,
     "end_time": "2025-08-05T15:43:37.024112",
     "exception": false,
     "start_time": "2025-08-05T15:43:36.768438",
     "status": "completed"
    },
    "tags": []
   },
   "outputs": [],
   "source": [
    "from fairness_multiverse.conformal import build_cp_groups\n",
    "\n",
    "cp_groups_df = build_cp_groups(pred_sets, y_true, X_test.index, org_test)\n",
    "#needs universe_id and setting"
   ]
  },
  {
   "cell_type": "code",
   "execution_count": 53,
   "id": "6cbdab96-b2b2-45af-ad54-d0516db2e28d",
   "metadata": {
    "execution": {
     "iopub.execute_input": "2025-08-05T15:43:37.068140Z",
     "iopub.status.busy": "2025-08-05T15:43:37.067659Z",
     "iopub.status.idle": "2025-08-05T15:43:38.292099Z",
     "shell.execute_reply": "2025-08-05T15:43:38.291340Z"
    },
    "papermill": {
     "duration": 1.24671,
     "end_time": "2025-08-05T15:43:38.293455",
     "exception": false,
     "start_time": "2025-08-05T15:43:37.046745",
     "status": "completed"
    },
    "tags": []
   },
   "outputs": [],
   "source": [
    "# Define covered = 1 if true_label is in the predicted set\n",
    "cp_groups_df['covered'] = cp_groups_df.apply(\n",
    "    lambda r: int(r['true_label'] in r['pred_set']),\n",
    "    axis=1\n",
    ")"
   ]
  },
  {
   "cell_type": "code",
   "execution_count": 54,
   "id": "338ff529-1a6b-4b87-a931-8e4788d52aad",
   "metadata": {
    "execution": {
     "iopub.execute_input": "2025-08-05T15:43:38.318409Z",
     "iopub.status.busy": "2025-08-05T15:43:38.317957Z",
     "iopub.status.idle": "2025-08-05T15:43:38.322746Z",
     "shell.execute_reply": "2025-08-05T15:43:38.322025Z"
    },
    "papermill": {
     "duration": 0.018299,
     "end_time": "2025-08-05T15:43:38.324128",
     "exception": false,
     "start_time": "2025-08-05T15:43:38.305829",
     "status": "completed"
    },
    "tags": []
   },
   "outputs": [],
   "source": [
    "#cp_groups_df"
   ]
  },
  {
   "cell_type": "code",
   "execution_count": 55,
   "id": "90032e27-66df-4540-9169-4e89cfbaa758",
   "metadata": {
    "execution": {
     "iopub.execute_input": "2025-08-05T15:43:38.347607Z",
     "iopub.status.busy": "2025-08-05T15:43:38.347032Z",
     "iopub.status.idle": "2025-08-05T15:43:38.355920Z",
     "shell.execute_reply": "2025-08-05T15:43:38.355161Z"
    },
    "papermill": {
     "duration": 0.021309,
     "end_time": "2025-08-05T15:43:38.357142",
     "exception": false,
     "start_time": "2025-08-05T15:43:38.335833",
     "status": "completed"
    },
    "tags": []
   },
   "outputs": [],
   "source": [
    "subgroups = ['frau1','nongerman','nongerman_male','nongerman_female']\n",
    "\n",
    "# Conditional coverage for subgroup==1\n",
    "cond_coverage = {\n",
    "    g: cp_groups_df.loc[cp_groups_df[g]==1, 'covered'].mean()\n",
    "    for g in subgroups\n",
    "}"
   ]
  },
  {
   "cell_type": "code",
   "execution_count": 56,
   "id": "1e348fb1-b9c3-45bc-ba23-f016827a7e0d",
   "metadata": {
    "execution": {
     "iopub.execute_input": "2025-08-05T15:43:38.380971Z",
     "iopub.status.busy": "2025-08-05T15:43:38.380306Z",
     "iopub.status.idle": "2025-08-05T15:43:38.386785Z",
     "shell.execute_reply": "2025-08-05T15:43:38.386032Z"
    },
    "papermill": {
     "duration": 0.019625,
     "end_time": "2025-08-05T15:43:38.388142",
     "exception": false,
     "start_time": "2025-08-05T15:43:38.368517",
     "status": "completed"
    },
    "tags": []
   },
   "outputs": [
    {
     "data": {
      "text/plain": [
       "{'frau1': 0.9073729613155411,\n",
       " 'nongerman': 0.9096165721663954,\n",
       " 'nongerman_male': 0.9306493740430515,\n",
       " 'nongerman_female': 0.8748137108792846}"
      ]
     },
     "execution_count": 56,
     "metadata": {},
     "output_type": "execute_result"
    }
   ],
   "source": [
    "cond_coverage"
   ]
  },
  {
   "cell_type": "code",
   "execution_count": 57,
   "id": "f5093324-c3dd-4d63-bc4c-8d945e5c8bbb",
   "metadata": {
    "execution": {
     "iopub.execute_input": "2025-08-05T15:43:38.412621Z",
     "iopub.status.busy": "2025-08-05T15:43:38.411958Z",
     "iopub.status.idle": "2025-08-05T15:43:38.418262Z",
     "shell.execute_reply": "2025-08-05T15:43:38.417140Z"
    },
    "papermill": {
     "duration": 0.019602,
     "end_time": "2025-08-05T15:43:38.419902",
     "exception": false,
     "start_time": "2025-08-05T15:43:38.400300",
     "status": "completed"
    },
    "tags": []
   },
   "outputs": [],
   "source": [
    "for subgroup, cov in cond_coverage.items():\n",
    "    cp_metrics_df[f\"cov_{subgroup}\"] = cov"
   ]
  },
  {
   "cell_type": "code",
   "execution_count": 58,
   "id": "6e872e10-dbe5-49e8-b554-5030c98ff75d",
   "metadata": {
    "execution": {
     "iopub.execute_input": "2025-08-05T15:43:38.450270Z",
     "iopub.status.busy": "2025-08-05T15:43:38.449739Z",
     "iopub.status.idle": "2025-08-05T15:43:38.464229Z",
     "shell.execute_reply": "2025-08-05T15:43:38.463126Z"
    },
    "papermill": {
     "duration": 0.028228,
     "end_time": "2025-08-05T15:43:38.466114",
     "exception": false,
     "start_time": "2025-08-05T15:43:38.437886",
     "status": "completed"
    },
    "tags": []
   },
   "outputs": [
    {
     "data": {
      "text/html": [
       "<div>\n",
       "<style scoped>\n",
       "    .dataframe tbody tr th:only-of-type {\n",
       "        vertical-align: middle;\n",
       "    }\n",
       "\n",
       "    .dataframe tbody tr th {\n",
       "        vertical-align: top;\n",
       "    }\n",
       "\n",
       "    .dataframe thead th {\n",
       "        text-align: right;\n",
       "    }\n",
       "</style>\n",
       "<table border=\"1\" class=\"dataframe\">\n",
       "  <thead>\n",
       "    <tr style=\"text-align: right;\">\n",
       "      <th></th>\n",
       "      <th>universe_id</th>\n",
       "      <th>universe_training_year</th>\n",
       "      <th>universe_training_size</th>\n",
       "      <th>universe_scale</th>\n",
       "      <th>universe_model</th>\n",
       "      <th>universe_exclude_features</th>\n",
       "      <th>universe_exclude_subgroups</th>\n",
       "      <th>q_hat</th>\n",
       "      <th>coverage</th>\n",
       "      <th>avg_size</th>\n",
       "      <th>cov_frau1</th>\n",
       "      <th>cov_nongerman</th>\n",
       "      <th>cov_nongerman_male</th>\n",
       "      <th>cov_nongerman_female</th>\n",
       "    </tr>\n",
       "  </thead>\n",
       "  <tbody>\n",
       "    <tr>\n",
       "      <th>0</th>\n",
       "      <td>c2bb59cfada70f73cca271f17d37baa8</td>\n",
       "      <td>2012_14</td>\n",
       "      <td>5k</td>\n",
       "      <td>do-not-scale</td>\n",
       "      <td>rf</td>\n",
       "      <td>none</td>\n",
       "      <td>drop-non-german</td>\n",
       "      <td>0.68</td>\n",
       "      <td>0.913376</td>\n",
       "      <td>1.146951</td>\n",
       "      <td>0.907373</td>\n",
       "      <td>0.909617</td>\n",
       "      <td>0.930649</td>\n",
       "      <td>0.874814</td>\n",
       "    </tr>\n",
       "  </tbody>\n",
       "</table>\n",
       "</div>"
      ],
      "text/plain": [
       "                        universe_id universe_training_year  \\\n",
       "0  c2bb59cfada70f73cca271f17d37baa8                2012_14   \n",
       "\n",
       "  universe_training_size universe_scale universe_model  \\\n",
       "0                     5k   do-not-scale             rf   \n",
       "\n",
       "  universe_exclude_features universe_exclude_subgroups  q_hat  coverage  \\\n",
       "0                      none            drop-non-german   0.68  0.913376   \n",
       "\n",
       "   avg_size  cov_frau1  cov_nongerman  cov_nongerman_male  \\\n",
       "0  1.146951   0.907373       0.909617            0.930649   \n",
       "\n",
       "   cov_nongerman_female  \n",
       "0              0.874814  "
      ]
     },
     "execution_count": 58,
     "metadata": {},
     "output_type": "execute_result"
    }
   ],
   "source": [
    "cp_metrics_df"
   ]
  },
  {
   "cell_type": "markdown",
   "id": "33774451",
   "metadata": {
    "papermill": {
     "duration": 0.023504,
     "end_time": "2025-08-05T15:43:38.512514",
     "exception": false,
     "start_time": "2025-08-05T15:43:38.489010",
     "status": "completed"
    },
    "tags": []
   },
   "source": [
    "# (Fairness) Metrics"
   ]
  },
  {
   "cell_type": "code",
   "execution_count": 59,
   "id": "debc5d62",
   "metadata": {
    "execution": {
     "iopub.execute_input": "2025-08-05T15:43:38.560640Z",
     "iopub.status.busy": "2025-08-05T15:43:38.559717Z",
     "iopub.status.idle": "2025-08-05T15:43:38.579564Z",
     "shell.execute_reply": "2025-08-05T15:43:38.578883Z"
    },
    "papermill": {
     "duration": 0.045522,
     "end_time": "2025-08-05T15:43:38.580844",
     "exception": false,
     "start_time": "2025-08-05T15:43:38.535322",
     "status": "completed"
    },
    "tags": []
   },
   "outputs": [],
   "source": [
    "# do I need to include maxdeutsch1.missing?\n",
    "\n",
    "import numpy as np\n",
    "\n",
    "colname_to_bin = \"maxdeutsch1\"\n",
    "majority_value = org_train[colname_to_bin].mode()[0]\n",
    "\n",
    "org_test[\"majmin\"] = np.where(org_test[colname_to_bin] == majority_value, \"majority\", \"minority\")"
   ]
  },
  {
   "cell_type": "code",
   "execution_count": 60,
   "id": "06a50de5",
   "metadata": {
    "execution": {
     "iopub.execute_input": "2025-08-05T15:43:38.605172Z",
     "iopub.status.busy": "2025-08-05T15:43:38.604676Z",
     "iopub.status.idle": "2025-08-05T15:43:40.512454Z",
     "shell.execute_reply": "2025-08-05T15:43:40.511436Z"
    },
    "papermill": {
     "duration": 1.921819,
     "end_time": "2025-08-05T15:43:40.514414",
     "exception": false,
     "start_time": "2025-08-05T15:43:38.592595",
     "status": "completed"
    },
    "tags": []
   },
   "outputs": [],
   "source": [
    "example_universe = universe.copy()\n",
    "example_universe[\"cutoff\"] = example_universe[\"cutoff\"][0]\n",
    "example_universe[\"eval_fairness_grouping\"] = example_universe[\"eval_fairness_grouping\"][0]\n",
    "fairness_dict, metric_frame = universe_analysis.compute_metrics(\n",
    "    example_universe,\n",
    "    y_pred_prob=probs_test,\n",
    "    y_test=y_true,\n",
    "    org_test=org_test,\n",
    ")"
   ]
  },
  {
   "cell_type": "markdown",
   "id": "f95d4e02",
   "metadata": {
    "papermill": {
     "duration": 0.024447,
     "end_time": "2025-08-05T15:43:40.564330",
     "exception": false,
     "start_time": "2025-08-05T15:43:40.539883",
     "status": "completed"
    },
    "tags": []
   },
   "source": [
    "# Overall"
   ]
  },
  {
   "cell_type": "markdown",
   "id": "bdee4871",
   "metadata": {
    "papermill": {
     "duration": 0.025148,
     "end_time": "2025-08-05T15:43:40.614452",
     "exception": false,
     "start_time": "2025-08-05T15:43:40.589304",
     "status": "completed"
    },
    "tags": []
   },
   "source": [
    "Fairness\n",
    "Main fairness target: Equalized Odds. Seems to be a better fit than equal opportunity, since we're not only interested in Y = 1. Seems to be a better fit than demographic parity, since we also care about accuracy, not just equal distribution of preds.\n",
    "\n",
    "Pick column for computation of fairness metrics\n",
    "\n",
    "Performance\n",
    "Overall performance measures, most interesting in relation to the measures split by group below"
   ]
  },
  {
   "cell_type": "code",
   "execution_count": 61,
   "id": "c4e067c6",
   "metadata": {
    "execution": {
     "iopub.execute_input": "2025-08-05T15:43:40.667501Z",
     "iopub.status.busy": "2025-08-05T15:43:40.667016Z",
     "iopub.status.idle": "2025-08-05T15:43:40.676077Z",
     "shell.execute_reply": "2025-08-05T15:43:40.674791Z"
    },
    "papermill": {
     "duration": 0.040341,
     "end_time": "2025-08-05T15:43:40.681180",
     "exception": false,
     "start_time": "2025-08-05T15:43:40.640839",
     "status": "completed"
    },
    "tags": []
   },
   "outputs": [
    {
     "data": {
      "text/plain": [
       "accuracy                   0.196946\n",
       "balanced accuracy          0.533456\n",
       "f1                         0.239566\n",
       "precision                  0.136345\n",
       "false positive rate        0.919184\n",
       "false negative rate        0.013903\n",
       "selection rate             0.927767\n",
       "count                  89710.000000\n",
       "dtype: float64"
      ]
     },
     "execution_count": 61,
     "metadata": {},
     "output_type": "execute_result"
    }
   ],
   "source": [
    "metric_frame.overall"
   ]
  },
  {
   "cell_type": "markdown",
   "id": "e968fe9d",
   "metadata": {
    "papermill": {
     "duration": 0.025095,
     "end_time": "2025-08-05T15:43:40.727880",
     "exception": false,
     "start_time": "2025-08-05T15:43:40.702785",
     "status": "completed"
    },
    "tags": []
   },
   "source": [
    "By Group"
   ]
  },
  {
   "cell_type": "code",
   "execution_count": 62,
   "id": "ec325bce",
   "metadata": {
    "execution": {
     "iopub.execute_input": "2025-08-05T15:43:40.782754Z",
     "iopub.status.busy": "2025-08-05T15:43:40.782253Z",
     "iopub.status.idle": "2025-08-05T15:43:40.799753Z",
     "shell.execute_reply": "2025-08-05T15:43:40.798769Z"
    },
    "papermill": {
     "duration": 0.048742,
     "end_time": "2025-08-05T15:43:40.801388",
     "exception": false,
     "start_time": "2025-08-05T15:43:40.752646",
     "status": "completed"
    },
    "tags": []
   },
   "outputs": [
    {
     "data": {
      "text/html": [
       "<div>\n",
       "<style scoped>\n",
       "    .dataframe tbody tr th:only-of-type {\n",
       "        vertical-align: middle;\n",
       "    }\n",
       "\n",
       "    .dataframe tbody tr th {\n",
       "        vertical-align: top;\n",
       "    }\n",
       "\n",
       "    .dataframe thead th {\n",
       "        text-align: right;\n",
       "    }\n",
       "</style>\n",
       "<table border=\"1\" class=\"dataframe\">\n",
       "  <thead>\n",
       "    <tr style=\"text-align: right;\">\n",
       "      <th></th>\n",
       "      <th>accuracy</th>\n",
       "      <th>balanced accuracy</th>\n",
       "      <th>f1</th>\n",
       "      <th>precision</th>\n",
       "      <th>false positive rate</th>\n",
       "      <th>false negative rate</th>\n",
       "      <th>selection rate</th>\n",
       "      <th>count</th>\n",
       "    </tr>\n",
       "    <tr>\n",
       "      <th>majmin</th>\n",
       "      <th></th>\n",
       "      <th></th>\n",
       "      <th></th>\n",
       "      <th></th>\n",
       "      <th></th>\n",
       "      <th></th>\n",
       "      <th></th>\n",
       "      <th></th>\n",
       "    </tr>\n",
       "  </thead>\n",
       "  <tbody>\n",
       "    <tr>\n",
       "      <th>majority</th>\n",
       "      <td>0.203875</td>\n",
       "      <td>0.535996</td>\n",
       "      <td>0.246861</td>\n",
       "      <td>0.141064</td>\n",
       "      <td>0.915426</td>\n",
       "      <td>0.012582</td>\n",
       "      <td>0.924939</td>\n",
       "      <td>69170.0</td>\n",
       "    </tr>\n",
       "    <tr>\n",
       "      <th>minority</th>\n",
       "      <td>0.173612</td>\n",
       "      <td>0.524699</td>\n",
       "      <td>0.214894</td>\n",
       "      <td>0.120663</td>\n",
       "      <td>0.931598</td>\n",
       "      <td>0.019003</td>\n",
       "      <td>0.937293</td>\n",
       "      <td>20540.0</td>\n",
       "    </tr>\n",
       "  </tbody>\n",
       "</table>\n",
       "</div>"
      ],
      "text/plain": [
       "          accuracy  balanced accuracy        f1  precision  \\\n",
       "majmin                                                       \n",
       "majority  0.203875           0.535996  0.246861   0.141064   \n",
       "minority  0.173612           0.524699  0.214894   0.120663   \n",
       "\n",
       "          false positive rate  false negative rate  selection rate    count  \n",
       "majmin                                                                       \n",
       "majority             0.915426             0.012582        0.924939  69170.0  \n",
       "minority             0.931598             0.019003        0.937293  20540.0  "
      ]
     },
     "execution_count": 62,
     "metadata": {},
     "output_type": "execute_result"
    }
   ],
   "source": [
    "metric_frame.by_group"
   ]
  },
  {
   "cell_type": "code",
   "execution_count": 63,
   "id": "a9ddbe63",
   "metadata": {
    "execution": {
     "iopub.execute_input": "2025-08-05T15:43:40.858313Z",
     "iopub.status.busy": "2025-08-05T15:43:40.857572Z",
     "iopub.status.idle": "2025-08-05T15:43:42.801745Z",
     "shell.execute_reply": "2025-08-05T15:43:42.801009Z"
    },
    "papermill": {
     "duration": 1.97507,
     "end_time": "2025-08-05T15:43:42.803036",
     "exception": false,
     "start_time": "2025-08-05T15:43:40.827966",
     "status": "completed"
    },
    "tags": []
   },
   "outputs": [
    {
     "data": {
      "text/plain": [
       "array([[<Axes: title={'center': 'accuracy'}, xlabel='majmin'>,\n",
       "        <Axes: title={'center': 'balanced accuracy'}, xlabel='majmin'>,\n",
       "        <Axes: title={'center': 'f1'}, xlabel='majmin'>],\n",
       "       [<Axes: title={'center': 'precision'}, xlabel='majmin'>,\n",
       "        <Axes: title={'center': 'false positive rate'}, xlabel='majmin'>,\n",
       "        <Axes: title={'center': 'false negative rate'}, xlabel='majmin'>],\n",
       "       [<Axes: title={'center': 'selection rate'}, xlabel='majmin'>,\n",
       "        <Axes: title={'center': 'count'}, xlabel='majmin'>,\n",
       "        <Axes: xlabel='majmin'>]], dtype=object)"
      ]
     },
     "execution_count": 63,
     "metadata": {},
     "output_type": "execute_result"
    },
    {
     "data": {
      "image/png": "[encoded data removed]",
      "text/plain": [
       "<Figure size 1200x800 with 9 Axes>"
      ]
     },
     "metadata": {},
     "output_type": "display_data"
    }
   ],
   "source": [
    "# In a graphic\n",
    "metric_frame.by_group.plot.bar(\n",
    "    subplots=True,\n",
    "    layout=[3, 3],\n",
    "    legend=False,\n",
    "    figsize=[12, 8],\n",
    "    title=\"Show all metrics\",\n",
    ")"
   ]
  },
  {
   "cell_type": "markdown",
   "id": "f57a0bac",
   "metadata": {
    "papermill": {
     "duration": 0.01214,
     "end_time": "2025-08-05T15:43:42.828338",
     "exception": false,
     "start_time": "2025-08-05T15:43:42.816198",
     "status": "completed"
    },
    "tags": []
   },
   "source": [
    "# Final Output"
   ]
  },
  {
   "cell_type": "code",
   "execution_count": 64,
   "id": "96d280a3",
   "metadata": {
    "execution": {
     "iopub.execute_input": "2025-08-05T15:43:42.853950Z",
     "iopub.status.busy": "2025-08-05T15:43:42.853502Z",
     "iopub.status.idle": "2025-08-05T15:43:42.860294Z",
     "shell.execute_reply": "2025-08-05T15:43:42.859476Z"
    },
    "papermill": {
     "duration": 0.020946,
     "end_time": "2025-08-05T15:43:42.861467",
     "exception": false,
     "start_time": "2025-08-05T15:43:42.840521",
     "status": "completed"
    },
    "tags": []
   },
   "outputs": [
    {
     "data": {
      "text/plain": [
       "4"
      ]
     },
     "execution_count": 64,
     "metadata": {},
     "output_type": "execute_result"
    }
   ],
   "source": [
    "sub_universes = universe_analysis.generate_sub_universes()\n",
    "len(sub_universes)"
   ]
  },
  {
   "cell_type": "code",
   "execution_count": 65,
   "id": "92adf7ba",
   "metadata": {
    "execution": {
     "iopub.execute_input": "2025-08-05T15:43:42.887281Z",
     "iopub.status.busy": "2025-08-05T15:43:42.886793Z",
     "iopub.status.idle": "2025-08-05T15:43:42.914117Z",
     "shell.execute_reply": "2025-08-05T15:43:42.913290Z"
    },
    "papermill": {
     "duration": 0.041497,
     "end_time": "2025-08-05T15:43:42.915446",
     "exception": false,
     "start_time": "2025-08-05T15:43:42.873949",
     "status": "completed"
    },
    "tags": []
   },
   "outputs": [],
   "source": [
    "def filter_sub_universe_data(sub_universe, org_test):\n",
    "    # Keep all rows — no filtering\n",
    "    keep_rows_mask = np.ones(org_test.shape[0], dtype=bool)\n",
    "\n",
    "    print(f\"[INFO] Keeping all rows: {keep_rows_mask.sum()} rows retained.\")\n",
    "    return keep_rows_mask"
   ]
  },
  {
   "cell_type": "code",
   "execution_count": 66,
   "id": "4a759155",
   "metadata": {
    "execution": {
     "iopub.execute_input": "2025-08-05T15:43:42.942848Z",
     "iopub.status.busy": "2025-08-05T15:43:42.942088Z",
     "iopub.status.idle": "2025-08-05T15:43:52.575213Z",
     "shell.execute_reply": "2025-08-05T15:43:52.574392Z"
    },
    "papermill": {
     "duration": 9.647461,
     "end_time": "2025-08-05T15:43:52.576542",
     "exception": false,
     "start_time": "2025-08-05T15:43:42.929081",
     "status": "completed"
    },
    "tags": []
   },
   "outputs": [
    {
     "name": "stdout",
     "output_type": "stream",
     "text": [
      "Stopping execution_time clock.\n",
      "[INFO] Keeping all rows: 89710 rows retained.\n"
     ]
    },
    {
     "name": "stdout",
     "output_type": "stream",
     "text": [
      "[INFO] Keeping all rows: 89710 rows retained.\n"
     ]
    },
    {
     "name": "stdout",
     "output_type": "stream",
     "text": [
      "[INFO] Keeping all rows: 89710 rows retained.\n"
     ]
    },
    {
     "name": "stdout",
     "output_type": "stream",
     "text": [
      "[INFO] Keeping all rows: 89710 rows retained.\n"
     ]
    },
    {
     "data": {
      "text/html": [
       "<div>\n",
       "<style scoped>\n",
       "    .dataframe tbody tr th:only-of-type {\n",
       "        vertical-align: middle;\n",
       "    }\n",
       "\n",
       "    .dataframe tbody tr th {\n",
       "        vertical-align: top;\n",
       "    }\n",
       "\n",
       "    .dataframe thead th {\n",
       "        text-align: right;\n",
       "    }\n",
       "</style>\n",
       "<table border=\"1\" class=\"dataframe\">\n",
       "  <thead>\n",
       "    <tr style=\"text-align: right;\">\n",
       "      <th></th>\n",
       "      <th>run_no</th>\n",
       "      <th>universe_id</th>\n",
       "      <th>universe_settings</th>\n",
       "      <th>execution_time</th>\n",
       "      <th>test_size_n</th>\n",
       "      <th>test_size_frac</th>\n",
       "      <th>fair_main_equalized_odds_difference</th>\n",
       "      <th>fair_main_equalized_odds_ratio</th>\n",
       "      <th>fair_main_demographic_parity_difference</th>\n",
       "      <th>fair_main_demographic_parity_ratio</th>\n",
       "      <th>...</th>\n",
       "      <th>perf_grp_precision_0</th>\n",
       "      <th>perf_grp_precision_1</th>\n",
       "      <th>perf_grp_false positive rate_0</th>\n",
       "      <th>perf_grp_false positive rate_1</th>\n",
       "      <th>perf_grp_false negative rate_0</th>\n",
       "      <th>perf_grp_false negative rate_1</th>\n",
       "      <th>perf_grp_selection rate_0</th>\n",
       "      <th>perf_grp_selection rate_1</th>\n",
       "      <th>perf_grp_count_0</th>\n",
       "      <th>perf_grp_count_1</th>\n",
       "    </tr>\n",
       "  </thead>\n",
       "  <tbody>\n",
       "    <tr>\n",
       "      <th>0</th>\n",
       "      <td>15</td>\n",
       "      <td>c2bb59cfada70f73cca271f17d37baa8</td>\n",
       "      <td>{\"cutoff\": \"quantile_0.1\", \"eval_fairness_grou...</td>\n",
       "      <td>32.236167</td>\n",
       "      <td>89710</td>\n",
       "      <td>1.0</td>\n",
       "      <td>0.016172</td>\n",
       "      <td>0.98264</td>\n",
       "      <td>0.012355</td>\n",
       "      <td>0.986819</td>\n",
       "      <td>...</td>\n",
       "      <td>NaN</td>\n",
       "      <td>NaN</td>\n",
       "      <td>NaN</td>\n",
       "      <td>NaN</td>\n",
       "      <td>NaN</td>\n",
       "      <td>NaN</td>\n",
       "      <td>NaN</td>\n",
       "      <td>NaN</td>\n",
       "      <td>NaN</td>\n",
       "      <td>NaN</td>\n",
       "    </tr>\n",
       "    <tr>\n",
       "      <th>0</th>\n",
       "      <td>15</td>\n",
       "      <td>c2bb59cfada70f73cca271f17d37baa8</td>\n",
       "      <td>{\"cutoff\": \"quantile_0.1\", \"eval_fairness_grou...</td>\n",
       "      <td>32.236167</td>\n",
       "      <td>89710</td>\n",
       "      <td>1.0</td>\n",
       "      <td>0.016172</td>\n",
       "      <td>0.98264</td>\n",
       "      <td>0.012355</td>\n",
       "      <td>0.986819</td>\n",
       "      <td>...</td>\n",
       "      <td>0.120663</td>\n",
       "      <td>0.141064</td>\n",
       "      <td>0.931598</td>\n",
       "      <td>0.915426</td>\n",
       "      <td>0.019003</td>\n",
       "      <td>0.012582</td>\n",
       "      <td>0.937293</td>\n",
       "      <td>0.924939</td>\n",
       "      <td>20540.0</td>\n",
       "      <td>69170.0</td>\n",
       "    </tr>\n",
       "    <tr>\n",
       "      <th>0</th>\n",
       "      <td>15</td>\n",
       "      <td>c2bb59cfada70f73cca271f17d37baa8</td>\n",
       "      <td>{\"cutoff\": \"quantile_0.25\", \"eval_fairness_gro...</td>\n",
       "      <td>32.236167</td>\n",
       "      <td>89710</td>\n",
       "      <td>1.0</td>\n",
       "      <td>0.044255</td>\n",
       "      <td>0.95097</td>\n",
       "      <td>0.024685</td>\n",
       "      <td>0.968516</td>\n",
       "      <td>...</td>\n",
       "      <td>NaN</td>\n",
       "      <td>NaN</td>\n",
       "      <td>NaN</td>\n",
       "      <td>NaN</td>\n",
       "      <td>NaN</td>\n",
       "      <td>NaN</td>\n",
       "      <td>NaN</td>\n",
       "      <td>NaN</td>\n",
       "      <td>NaN</td>\n",
       "      <td>NaN</td>\n",
       "    </tr>\n",
       "    <tr>\n",
       "      <th>0</th>\n",
       "      <td>15</td>\n",
       "      <td>c2bb59cfada70f73cca271f17d37baa8</td>\n",
       "      <td>{\"cutoff\": \"quantile_0.25\", \"eval_fairness_gro...</td>\n",
       "      <td>32.236167</td>\n",
       "      <td>89710</td>\n",
       "      <td>1.0</td>\n",
       "      <td>0.044255</td>\n",
       "      <td>0.95097</td>\n",
       "      <td>0.024685</td>\n",
       "      <td>0.968516</td>\n",
       "      <td>...</td>\n",
       "      <td>0.132203</td>\n",
       "      <td>0.164154</td>\n",
       "      <td>0.769040</td>\n",
       "      <td>0.731334</td>\n",
       "      <td>0.100929</td>\n",
       "      <td>0.056674</td>\n",
       "      <td>0.784031</td>\n",
       "      <td>0.759347</td>\n",
       "      <td>20540.0</td>\n",
       "      <td>69170.0</td>\n",
       "    </tr>\n",
       "  </tbody>\n",
       "</table>\n",
       "<p>4 rows × 50 columns</p>\n",
       "</div>"
      ],
      "text/plain": [
       "  run_no                       universe_id  \\\n",
       "0     15  c2bb59cfada70f73cca271f17d37baa8   \n",
       "0     15  c2bb59cfada70f73cca271f17d37baa8   \n",
       "0     15  c2bb59cfada70f73cca271f17d37baa8   \n",
       "0     15  c2bb59cfada70f73cca271f17d37baa8   \n",
       "\n",
       "                                   universe_settings  execution_time  \\\n",
       "0  {\"cutoff\": \"quantile_0.1\", \"eval_fairness_grou...       32.236167   \n",
       "0  {\"cutoff\": \"quantile_0.1\", \"eval_fairness_grou...       32.236167   \n",
       "0  {\"cutoff\": \"quantile_0.25\", \"eval_fairness_gro...       32.236167   \n",
       "0  {\"cutoff\": \"quantile_0.25\", \"eval_fairness_gro...       32.236167   \n",
       "\n",
       "   test_size_n  test_size_frac  fair_main_equalized_odds_difference  \\\n",
       "0        89710             1.0                             0.016172   \n",
       "0        89710             1.0                             0.016172   \n",
       "0        89710             1.0                             0.044255   \n",
       "0        89710             1.0                             0.044255   \n",
       "\n",
       "   fair_main_equalized_odds_ratio  fair_main_demographic_parity_difference  \\\n",
       "0                         0.98264                                 0.012355   \n",
       "0                         0.98264                                 0.012355   \n",
       "0                         0.95097                                 0.024685   \n",
       "0                         0.95097                                 0.024685   \n",
       "\n",
       "   fair_main_demographic_parity_ratio  ...  perf_grp_precision_0  \\\n",
       "0                            0.986819  ...                   NaN   \n",
       "0                            0.986819  ...              0.120663   \n",
       "0                            0.968516  ...                   NaN   \n",
       "0                            0.968516  ...              0.132203   \n",
       "\n",
       "   perf_grp_precision_1  perf_grp_false positive rate_0  \\\n",
       "0                   NaN                             NaN   \n",
       "0              0.141064                        0.931598   \n",
       "0                   NaN                             NaN   \n",
       "0              0.164154                        0.769040   \n",
       "\n",
       "   perf_grp_false positive rate_1  perf_grp_false negative rate_0  \\\n",
       "0                             NaN                             NaN   \n",
       "0                        0.915426                        0.019003   \n",
       "0                             NaN                             NaN   \n",
       "0                        0.731334                        0.100929   \n",
       "\n",
       "   perf_grp_false negative rate_1  perf_grp_selection rate_0  \\\n",
       "0                             NaN                        NaN   \n",
       "0                        0.012582                   0.937293   \n",
       "0                             NaN                        NaN   \n",
       "0                        0.056674                   0.784031   \n",
       "\n",
       "   perf_grp_selection rate_1  perf_grp_count_0  perf_grp_count_1  \n",
       "0                        NaN               NaN               NaN  \n",
       "0                   0.924939           20540.0           69170.0  \n",
       "0                        NaN               NaN               NaN  \n",
       "0                   0.759347           20540.0           69170.0  \n",
       "\n",
       "[4 rows x 50 columns]"
      ]
     },
     "execution_count": 66,
     "metadata": {},
     "output_type": "execute_result"
    }
   ],
   "source": [
    "final_output = universe_analysis.generate_final_output(\n",
    "    y_pred_prob=probs_test,\n",
    "    y_test=y_true,\n",
    "    org_test=org_test,\n",
    "    filter_data=filter_sub_universe_data,\n",
    "    cp_metrics_df=cp_metrics_df,\n",
    "    save=True,\n",
    ")\n",
    "final_output"
   ]
  }
 ],
 "metadata": {
  "celltoolbar": "Tags",
  "kernelspec": {
   "display_name": "Python (CMA Fairness)",
   "language": "python",
   "name": "cma_fair_env"
  },
  "language_info": {
   "codemirror_mode": {
    "name": "ipython",
    "version": 3
   },
   "file_extension": ".py",
   "mimetype": "text/x-python",
   "name": "python",
   "nbconvert_exporter": "python",
   "pygments_lexer": "ipython3",
   "version": "3.10.12"
  },
  "papermill": {
   "default_parameters": {},
   "duration": 46.149058,
   "end_time": "2025-08-05T15:43:53.517120",
   "environment_variables": {},
   "exception": null,
   "input_path": "universe_analysis.ipynb",
   "output_path": "output/runs/15/notebooks/m_15-c2bb59cfada70f73cca271f17d37baa8.ipynb",
   "parameters": {
    "output_dir": "output",
    "run_no": "15",
    "seed": "2023",
    "universe": "{\"cutoff\": [\"quantile_0.1\", \"quantile_0.25\"], \"eval_fairness_grouping\": [\"majority-minority\", \"nationality-all\"], \"exclude_features\": \"none\", \"exclude_subgroups\": \"drop-non-german\", \"model\": \"rf\", \"scale\": \"do-not-scale\", \"training_size\": \"5k\", \"training_year\": \"2012_14\"}",
    "universe_id": "c2bb59cfada70f73cca271f17d37baa8"
   },
   "start_time": "2025-08-05T15:43:07.368062",
   "version": "2.6.0"
  }
 },
 "nbformat": 4,
 "nbformat_minor": 5
}