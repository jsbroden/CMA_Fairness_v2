{
 "cells": [
  {
   "cell_type": "code",
   "execution_count": 1,
   "id": "f159f837-637b-42ba-96b5-ec9a68c44524",
   "metadata": {
    "execution": {
     "iopub.execute_input": "2025-08-05T15:23:36.340574Z",
     "iopub.status.busy": "2025-08-05T15:23:36.339898Z",
     "iopub.status.idle": "2025-08-05T15:23:36.350222Z",
     "shell.execute_reply": "2025-08-05T15:23:36.349261Z"
    },
    "papermill": {
     "duration": 0.025694,
     "end_time": "2025-08-05T15:23:36.352262",
     "exception": false,
     "start_time": "2025-08-05T15:23:36.326568",
     "status": "completed"
    },
    "tags": []
   },
   "outputs": [
    {
     "name": "stdout",
     "output_type": "stream",
     "text": [
      "/dss/dsshome1/0C/ra93lal2/cma/CMA_Fairness_v2\n"
     ]
    },
    {
     "name": "stderr",
     "output_type": "stream",
     "text": [
      "/dss/dsshome1/0C/ra93lal2/.local/share/virtualenvs/CMA_Fairness_v2-3j10GkSs/lib/python3.10/site-packages/IPython/core/magics/osm.py:393: UserWarning: This is now an optional IPython functionality, using bookmarks requires you to install the `pickleshare` library.\n",
      "  bkms = self.shell.db.get('bookmarks', {})\n",
      "/dss/dsshome1/0C/ra93lal2/.local/share/virtualenvs/CMA_Fairness_v2-3j10GkSs/lib/python3.10/site-packages/IPython/core/magics/osm.py:417: UserWarning: This is now an optional IPython functionality, setting dhist requires you to install the `pickleshare` library.\n",
      "  self.shell.db['dhist'] = compress_dhist(dhist)[-100:]\n"
     ]
    }
   ],
   "source": [
    "%cd ~/cma/CMA_Fairness_v2"
   ]
  },
  {
   "cell_type": "markdown",
   "id": "de2603b9",
   "metadata": {
    "papermill": {
     "duration": 0.008418,
     "end_time": "2025-08-05T15:23:36.369701",
     "exception": false,
     "start_time": "2025-08-05T15:23:36.361283",
     "status": "completed"
    },
    "tags": []
   },
   "source": [
    "The following cell holds the definition of our parameters, these values can be overriden by rendering the with e.g. the following command:\n",
    "\n",
    "papermill -p alpha 0.2 -p ratio 0.3 universe_analysis.ipynb output/test_run.ipynb"
   ]
  },
  {
   "cell_type": "code",
   "execution_count": 2,
   "id": "a80968a0-40bb-4fa9-85ef-2d5eefb01975",
   "metadata": {
    "execution": {
     "iopub.execute_input": "2025-08-05T15:23:36.391290Z",
     "iopub.status.busy": "2025-08-05T15:23:36.390965Z",
     "iopub.status.idle": "2025-08-05T15:23:36.395969Z",
     "shell.execute_reply": "2025-08-05T15:23:36.394980Z"
    },
    "papermill": {
     "duration": 0.017253,
     "end_time": "2025-08-05T15:23:36.397433",
     "exception": false,
     "start_time": "2025-08-05T15:23:36.380180",
     "status": "completed"
    },
    "tags": []
   },
   "outputs": [
    {
     "name": "stdout",
     "output_type": "stream",
     "text": [
      "Current working directory: /dss/dsshome1/0C/ra93lal2/cma/CMA_Fairness_v2\n"
     ]
    }
   ],
   "source": [
    "import os\n",
    "print(\"Current working directory:\", os.getcwd())"
   ]
  },
  {
   "cell_type": "code",
   "execution_count": 3,
   "id": "2dce4c03",
   "metadata": {
    "execution": {
     "iopub.execute_input": "2025-08-05T15:23:36.415926Z",
     "iopub.status.busy": "2025-08-05T15:23:36.415537Z",
     "iopub.status.idle": "2025-08-05T15:23:36.420181Z",
     "shell.execute_reply": "2025-08-05T15:23:36.419266Z"
    },
    "papermill": {
     "duration": 0.015652,
     "end_time": "2025-08-05T15:23:36.422190",
     "exception": false,
     "start_time": "2025-08-05T15:23:36.406538",
     "status": "completed"
    },
    "tags": [
     "parameters"
    ]
   },
   "outputs": [],
   "source": [
    "run_no = 0\n",
    "universe_id = \"test\"\n",
    "universe = {\n",
    "    \"training_size\": \"25k\", # \"25k\", \"5k\", \"1k\"\n",
    "    \"training_year\": \"2014\", # \"2014\", \"2012_14\", \"2010_14\"\n",
    "    \"scale\": \"scale\", # \"scale\", \"do-not-scale\",\n",
    "    \"model\": \"elasticnet\", # \"logreg\", \"penalized_logreg\", \"rf\", \"gbm\", \"elasticnet\"\n",
    "    \"cutoff\": [\"quantile_0.15\", \"quantile_0.30\"],\n",
    "    \"exclude_features\": \"age\", # \"none\", \"nationality\", \"sex\", \"nationality-sex\", \"age\"\n",
    "    \"exclude_subgroups\": \"keep-all\", # \"keep-all\", \"drop-non-german\"\n",
    "    \"eval_fairness_grouping\": [\"majority-minority\", \"nationality-all\"]\n",
    "}\n",
    "\n",
    "output_dir=\"./output\"\n",
    "seed=0"
   ]
  },
  {
   "cell_type": "code",
   "execution_count": 4,
   "id": "88b856d1",
   "metadata": {
    "execution": {
     "iopub.execute_input": "2025-08-05T15:23:36.446213Z",
     "iopub.status.busy": "2025-08-05T15:23:36.445775Z",
     "iopub.status.idle": "2025-08-05T15:23:36.450360Z",
     "shell.execute_reply": "2025-08-05T15:23:36.449464Z"
    },
    "papermill": {
     "duration": 0.015795,
     "end_time": "2025-08-05T15:23:36.451892",
     "exception": false,
     "start_time": "2025-08-05T15:23:36.436097",
     "status": "completed"
    },
    "tags": [
     "injected-parameters"
    ]
   },
   "outputs": [],
   "source": [
    "# Parameters\n",
    "universe_id = \"29a35737d5b879291748b5ba3f98e2b9\"\n",
    "run_no = \"15\"\n",
    "universe = \"{\\\"cutoff\\\": [\\\"quantile_0.1\\\", \\\"quantile_0.25\\\"], \\\"eval_fairness_grouping\\\": [\\\"majority-minority\\\", \\\"nationality-all\\\"], \\\"exclude_features\\\": \\\"nationality-sex\\\", \\\"exclude_subgroups\\\": \\\"drop-non-german\\\", \\\"model\\\": \\\"rf\\\", \\\"scale\\\": \\\"scale\\\", \\\"training_size\\\": \\\"5k\\\", \\\"training_year\\\": \\\"2014\\\"}\"\n",
    "output_dir = \"output\"\n",
    "seed = \"2023\"\n"
   ]
  },
  {
   "cell_type": "code",
   "execution_count": 5,
   "id": "1650acaf",
   "metadata": {
    "execution": {
     "iopub.execute_input": "2025-08-05T15:23:36.471084Z",
     "iopub.status.busy": "2025-08-05T15:23:36.470429Z",
     "iopub.status.idle": "2025-08-05T15:23:36.475137Z",
     "shell.execute_reply": "2025-08-05T15:23:36.474059Z"
    },
    "papermill": {
     "duration": 0.015848,
     "end_time": "2025-08-05T15:23:36.477091",
     "exception": false,
     "start_time": "2025-08-05T15:23:36.461243",
     "status": "completed"
    },
    "tags": []
   },
   "outputs": [],
   "source": [
    "import json\n",
    "if isinstance(universe, str):\n",
    "    universe = json.loads(universe)"
   ]
  },
  {
   "cell_type": "code",
   "execution_count": 6,
   "id": "16620c48",
   "metadata": {
    "execution": {
     "iopub.execute_input": "2025-08-05T15:23:36.497579Z",
     "iopub.status.busy": "2025-08-05T15:23:36.497044Z",
     "iopub.status.idle": "2025-08-05T15:23:36.530417Z",
     "shell.execute_reply": "2025-08-05T15:23:36.529597Z"
    },
    "papermill": {
     "duration": 0.044807,
     "end_time": "2025-08-05T15:23:36.531888",
     "exception": false,
     "start_time": "2025-08-05T15:23:36.487081",
     "status": "completed"
    },
    "tags": []
   },
   "outputs": [],
   "source": [
    "# Auto-reload the custom package\n",
    "%load_ext autoreload\n",
    "%autoreload 1\n",
    "%aimport fairness_multiverse"
   ]
  },
  {
   "cell_type": "code",
   "execution_count": 7,
   "id": "01c5c9f3",
   "metadata": {
    "execution": {
     "iopub.execute_input": "2025-08-05T15:23:36.551242Z",
     "iopub.status.busy": "2025-08-05T15:23:36.550826Z",
     "iopub.status.idle": "2025-08-05T15:23:38.419060Z",
     "shell.execute_reply": "2025-08-05T15:23:38.418060Z"
    },
    "papermill": {
     "duration": 1.879235,
     "end_time": "2025-08-05T15:23:38.420937",
     "exception": false,
     "start_time": "2025-08-05T15:23:36.541702",
     "status": "completed"
    },
    "tags": []
   },
   "outputs": [],
   "source": [
    "from fairness_multiverse.universe import UniverseAnalysis\n",
    "\n",
    "universe_analysis = UniverseAnalysis(\n",
    "    run_no = run_no,\n",
    "    universe_id = universe_id,\n",
    "    universe = universe,\n",
    "    output_dir=output_dir,\n",
    ")"
   ]
  },
  {
   "cell_type": "code",
   "execution_count": 8,
   "id": "106241f5",
   "metadata": {
    "execution": {
     "iopub.execute_input": "2025-08-05T15:23:38.455006Z",
     "iopub.status.busy": "2025-08-05T15:23:38.454486Z",
     "iopub.status.idle": "2025-08-05T15:23:38.461290Z",
     "shell.execute_reply": "2025-08-05T15:23:38.460158Z"
    },
    "papermill": {
     "duration": 0.026072,
     "end_time": "2025-08-05T15:23:38.462905",
     "exception": false,
     "start_time": "2025-08-05T15:23:38.436833",
     "status": "completed"
    },
    "tags": []
   },
   "outputs": [
    {
     "name": "stdout",
     "output_type": "stream",
     "text": [
      "Using Seed: 2023\n"
     ]
    }
   ],
   "source": [
    "import numpy as np\n",
    "parsed_seed = int(seed)\n",
    "np.random.seed(parsed_seed)\n",
    "print(f\"Using Seed: {parsed_seed}\")"
   ]
  },
  {
   "cell_type": "markdown",
   "id": "e0ebdc57",
   "metadata": {
    "papermill": {
     "duration": 0.015573,
     "end_time": "2025-08-05T15:23:38.493959",
     "exception": false,
     "start_time": "2025-08-05T15:23:38.478386",
     "status": "completed"
    },
    "tags": []
   },
   "source": [
    "# Loading Data"
   ]
  },
  {
   "cell_type": "code",
   "execution_count": 9,
   "id": "f0496b8a",
   "metadata": {
    "execution": {
     "iopub.execute_input": "2025-08-05T15:23:38.535281Z",
     "iopub.status.busy": "2025-08-05T15:23:38.534730Z",
     "iopub.status.idle": "2025-08-05T15:23:49.704809Z",
     "shell.execute_reply": "2025-08-05T15:23:49.703332Z"
    },
    "papermill": {
     "duration": 11.192124,
     "end_time": "2025-08-05T15:23:49.706718",
     "exception": false,
     "start_time": "2025-08-05T15:23:38.514594",
     "status": "completed"
    },
    "tags": []
   },
   "outputs": [
    {
     "name": "stdout",
     "output_type": "stream",
     "text": [
      "Loading SIAB data from cache: data/siab_cached.csv.gz\n"
     ]
    },
    {
     "name": "stdout",
     "output_type": "stream",
     "text": [
      "(643690, 164)\n"
     ]
    }
   ],
   "source": [
    "from pathlib import Path\n",
    "import pandas as pd\n",
    "\n",
    "# File paths\n",
    "raw_file = Path(\"data/raw/siab.csv\")\n",
    "cache_file = Path(\"data/siab_cached.csv.gz\")\n",
    "\n",
    "# Ensure cache directory exists\n",
    "cache_file.parent.mkdir(parents=True, exist_ok=True)\n",
    "\n",
    "# Load with simple caching\n",
    "if cache_file.exists():\n",
    "    print(f\"Loading SIAB data from cache: {cache_file}\")\n",
    "    siab = pd.read_csv(cache_file, compression='gzip')\n",
    "else:\n",
    "    print(f\"Cache not found. Reading raw SIAB data: {raw_file}\")\n",
    "    siab = pd.read_csv(raw_file)\n",
    "    siab.to_csv(cache_file, index=False, compression='gzip')\n",
    "    print(f\"Cached SIAB data to: {cache_file}\")\n",
    "\n",
    "print(siab.shape)"
   ]
  },
  {
   "cell_type": "code",
   "execution_count": 10,
   "id": "db0ca512-5f53-4dba-abdb-a2888bca41ba",
   "metadata": {
    "execution": {
     "iopub.execute_input": "2025-08-05T15:23:49.752113Z",
     "iopub.status.busy": "2025-08-05T15:23:49.751166Z",
     "iopub.status.idle": "2025-08-05T15:23:49.757775Z",
     "shell.execute_reply": "2025-08-05T15:23:49.756624Z"
    },
    "papermill": {
     "duration": 0.029978,
     "end_time": "2025-08-05T15:23:49.759853",
     "exception": false,
     "start_time": "2025-08-05T15:23:49.729875",
     "status": "completed"
    },
    "tags": []
   },
   "outputs": [],
   "source": [
    "#siab"
   ]
  },
  {
   "cell_type": "markdown",
   "id": "997051c5-15bd-4b69-9786-c3001a3ce484",
   "metadata": {
    "papermill": {
     "duration": 0.016335,
     "end_time": "2025-08-05T15:23:49.793311",
     "exception": false,
     "start_time": "2025-08-05T15:23:49.776976",
     "status": "completed"
    },
    "tags": []
   },
   "source": [
    "# Splitting Data and Setting Training Data Size"
   ]
  },
  {
   "cell_type": "code",
   "execution_count": 11,
   "id": "aea9c6ef-6f46-42c8-85eb-5a62025c1508",
   "metadata": {
    "execution": {
     "iopub.execute_input": "2025-08-05T15:23:49.827446Z",
     "iopub.status.busy": "2025-08-05T15:23:49.826611Z",
     "iopub.status.idle": "2025-08-05T15:23:50.062299Z",
     "shell.execute_reply": "2025-08-05T15:23:50.061145Z"
    },
    "papermill": {
     "duration": 0.255152,
     "end_time": "2025-08-05T15:23:50.064445",
     "exception": false,
     "start_time": "2025-08-05T15:23:49.809293",
     "status": "completed"
    },
    "tags": []
   },
   "outputs": [],
   "source": [
    "from fairness_multiverse.universe import sample_by_year_size\n",
    "\n",
    "siab_train = sample_by_year_size(siab,\n",
    "                               training_year=universe[\"training_year\"],\n",
    "                               training_size=universe[\"training_size\"])"
   ]
  },
  {
   "cell_type": "code",
   "execution_count": 12,
   "id": "8d3afb32-789d-442c-8d5d-9f5aa8dd2eed",
   "metadata": {
    "execution": {
     "iopub.execute_input": "2025-08-05T15:23:50.127164Z",
     "iopub.status.busy": "2025-08-05T15:23:50.126105Z",
     "iopub.status.idle": "2025-08-05T15:23:50.131587Z",
     "shell.execute_reply": "2025-08-05T15:23:50.130564Z"
    },
    "papermill": {
     "duration": 0.048735,
     "end_time": "2025-08-05T15:23:50.133783",
     "exception": false,
     "start_time": "2025-08-05T15:23:50.085048",
     "status": "completed"
    },
    "tags": []
   },
   "outputs": [],
   "source": [
    "#siab_train.shape"
   ]
  },
  {
   "cell_type": "code",
   "execution_count": 13,
   "id": "d582db68-1a4c-47fb-84fc-08518dc1975a",
   "metadata": {
    "execution": {
     "iopub.execute_input": "2025-08-05T15:23:50.172694Z",
     "iopub.status.busy": "2025-08-05T15:23:50.172028Z",
     "iopub.status.idle": "2025-08-05T15:23:50.177496Z",
     "shell.execute_reply": "2025-08-05T15:23:50.176475Z"
    },
    "papermill": {
     "duration": 0.025927,
     "end_time": "2025-08-05T15:23:50.179245",
     "exception": false,
     "start_time": "2025-08-05T15:23:50.153318",
     "status": "completed"
    },
    "tags": []
   },
   "outputs": [],
   "source": [
    "#display(siab_train.groupby(\"year\").size())"
   ]
  },
  {
   "cell_type": "code",
   "execution_count": 14,
   "id": "a561edb4-d032-42cb-8256-22eac1111c64",
   "metadata": {
    "execution": {
     "iopub.execute_input": "2025-08-05T15:23:50.221032Z",
     "iopub.status.busy": "2025-08-05T15:23:50.220578Z",
     "iopub.status.idle": "2025-08-05T15:23:50.501571Z",
     "shell.execute_reply": "2025-08-05T15:23:50.500533Z"
    },
    "papermill": {
     "duration": 0.30502,
     "end_time": "2025-08-05T15:23:50.503100",
     "exception": false,
     "start_time": "2025-08-05T15:23:50.198080",
     "status": "completed"
    },
    "tags": []
   },
   "outputs": [],
   "source": [
    "#siab_train = siab_s[siab_s.year < 2015]\n",
    "siab_calib = siab[siab.year == 2015]\n",
    "siab_test = siab[siab.year == 2016]"
   ]
  },
  {
   "cell_type": "code",
   "execution_count": 15,
   "id": "472de16f-c3db-4916-846b-1f0de9cf1746",
   "metadata": {
    "execution": {
     "iopub.execute_input": "2025-08-05T15:23:50.538883Z",
     "iopub.status.busy": "2025-08-05T15:23:50.538365Z",
     "iopub.status.idle": "2025-08-05T15:23:50.546909Z",
     "shell.execute_reply": "2025-08-05T15:23:50.545732Z"
    },
    "papermill": {
     "duration": 0.029988,
     "end_time": "2025-08-05T15:23:50.549196",
     "exception": false,
     "start_time": "2025-08-05T15:23:50.519208",
     "status": "completed"
    },
    "tags": []
   },
   "outputs": [],
   "source": [
    "X_train = siab_train.iloc[:,4:164]\n",
    "y_train = siab_train.iloc[:, [3]]"
   ]
  },
  {
   "cell_type": "code",
   "execution_count": 16,
   "id": "828c96af-f43a-4ed6-ba47-8ac73a47d56c",
   "metadata": {
    "execution": {
     "iopub.execute_input": "2025-08-05T15:23:50.600365Z",
     "iopub.status.busy": "2025-08-05T15:23:50.599620Z",
     "iopub.status.idle": "2025-08-05T15:23:50.653883Z",
     "shell.execute_reply": "2025-08-05T15:23:50.652794Z"
    },
    "papermill": {
     "duration": 0.081165,
     "end_time": "2025-08-05T15:23:50.656090",
     "exception": false,
     "start_time": "2025-08-05T15:23:50.574925",
     "status": "completed"
    },
    "tags": []
   },
   "outputs": [],
   "source": [
    "X_calib = siab_calib.iloc[:,4:164]\n",
    "y_calib = siab_calib.iloc[:, [3]]"
   ]
  },
  {
   "cell_type": "code",
   "execution_count": 17,
   "id": "c34be9c3-6bd6-476e-acd3-845840e303be",
   "metadata": {
    "execution": {
     "iopub.execute_input": "2025-08-05T15:23:50.696129Z",
     "iopub.status.busy": "2025-08-05T15:23:50.695255Z",
     "iopub.status.idle": "2025-08-05T15:23:50.749711Z",
     "shell.execute_reply": "2025-08-05T15:23:50.748439Z"
    },
    "papermill": {
     "duration": 0.075826,
     "end_time": "2025-08-05T15:23:50.751352",
     "exception": false,
     "start_time": "2025-08-05T15:23:50.675526",
     "status": "completed"
    },
    "tags": []
   },
   "outputs": [],
   "source": [
    "X_test = siab_test.iloc[:,4:164]\n",
    "y_true = siab_test.iloc[:, [3]]"
   ]
  },
  {
   "cell_type": "code",
   "execution_count": 18,
   "id": "e6c733c5",
   "metadata": {
    "execution": {
     "iopub.execute_input": "2025-08-05T15:23:50.786492Z",
     "iopub.status.busy": "2025-08-05T15:23:50.785844Z",
     "iopub.status.idle": "2025-08-05T15:23:50.886860Z",
     "shell.execute_reply": "2025-08-05T15:23:50.885927Z"
    },
    "papermill": {
     "duration": 0.120436,
     "end_time": "2025-08-05T15:23:50.888680",
     "exception": false,
     "start_time": "2025-08-05T15:23:50.768244",
     "status": "completed"
    },
    "tags": []
   },
   "outputs": [],
   "source": [
    "# Auxiliary data needed downstream in the pipeline\n",
    "\n",
    "org_train = X_train.copy()\n",
    "org_test = X_test.copy()\n",
    "org_calib = X_calib.copy()"
   ]
  },
  {
   "cell_type": "markdown",
   "id": "0a4a1b33",
   "metadata": {
    "papermill": {
     "duration": 0.016871,
     "end_time": "2025-08-05T15:23:50.923023",
     "exception": false,
     "start_time": "2025-08-05T15:23:50.906152",
     "status": "completed"
    },
    "tags": []
   },
   "source": [
    "# Preprocessing Data"
   ]
  },
  {
   "cell_type": "code",
   "execution_count": 19,
   "id": "ca879031",
   "metadata": {
    "execution": {
     "iopub.execute_input": "2025-08-05T15:23:50.960901Z",
     "iopub.status.busy": "2025-08-05T15:23:50.960408Z",
     "iopub.status.idle": "2025-08-05T15:23:50.966619Z",
     "shell.execute_reply": "2025-08-05T15:23:50.965719Z"
    },
    "papermill": {
     "duration": 0.028599,
     "end_time": "2025-08-05T15:23:50.968437",
     "exception": false,
     "start_time": "2025-08-05T15:23:50.939838",
     "status": "completed"
    },
    "tags": []
   },
   "outputs": [],
   "source": [
    "# EXCLUDE PROTECTED FEATURES\n",
    "# ----------------------\n",
    "# \"exclude_features\": \"none\", # \"nationality\", \"sex\", \"nationality-sex\"\n",
    "\n",
    "excluded_features = universe[\"exclude_features\"].split(\"-\") # split, e.g.: \"nationality-sex\" -> [\"nationality\", \"sex\"]\n",
    "excluded_features_dictionary = {\n",
    "    \"nationality\": [\"maxdeutsch1\", \"maxdeutsch.Missing.\"],\n",
    "    \"sex\": [\"frau1\"],\n",
    "    \"age\": [\"age\"],\n",
    "}"
   ]
  },
  {
   "cell_type": "code",
   "execution_count": 20,
   "id": "b745ac60",
   "metadata": {
    "execution": {
     "iopub.execute_input": "2025-08-05T15:23:51.004104Z",
     "iopub.status.busy": "2025-08-05T15:23:51.003443Z",
     "iopub.status.idle": "2025-08-05T15:23:51.009005Z",
     "shell.execute_reply": "2025-08-05T15:23:51.008118Z"
    },
    "papermill": {
     "duration": 0.024809,
     "end_time": "2025-08-05T15:23:51.010908",
     "exception": false,
     "start_time": "2025-08-05T15:23:50.986099",
     "status": "completed"
    },
    "tags": []
   },
   "outputs": [],
   "source": [
    "# Code nice names to column names\n",
    "\n",
    "excluded_features_columns = [\n",
    "    excluded_features_dictionary[f] for f in excluded_features if len(f) > 0 and f != \"none\"\n",
    "]"
   ]
  },
  {
   "cell_type": "code",
   "execution_count": 21,
   "id": "f84f73a2",
   "metadata": {
    "execution": {
     "iopub.execute_input": "2025-08-05T15:23:51.048149Z",
     "iopub.status.busy": "2025-08-05T15:23:51.047473Z",
     "iopub.status.idle": "2025-08-05T15:23:51.054365Z",
     "shell.execute_reply": "2025-08-05T15:23:51.053237Z"
    },
    "papermill": {
     "duration": 0.027316,
     "end_time": "2025-08-05T15:23:51.056156",
     "exception": false,
     "start_time": "2025-08-05T15:23:51.028840",
     "status": "completed"
    },
    "tags": []
   },
   "outputs": [],
   "source": [
    "from utils import flatten_once\n",
    "\n",
    "excluded_features_columns = flatten_once(excluded_features_columns)"
   ]
  },
  {
   "cell_type": "code",
   "execution_count": 22,
   "id": "884dea22",
   "metadata": {
    "execution": {
     "iopub.execute_input": "2025-08-05T15:23:51.093967Z",
     "iopub.status.busy": "2025-08-05T15:23:51.093009Z",
     "iopub.status.idle": "2025-08-05T15:23:51.103909Z",
     "shell.execute_reply": "2025-08-05T15:23:51.102970Z"
    },
    "papermill": {
     "duration": 0.030762,
     "end_time": "2025-08-05T15:23:51.105558",
     "exception": false,
     "start_time": "2025-08-05T15:23:51.074796",
     "status": "completed"
    },
    "tags": []
   },
   "outputs": [
    {
     "name": "stdout",
     "output_type": "stream",
     "text": [
      "Dropping features: ['maxdeutsch1', 'maxdeutsch.Missing.', 'frau1']\n"
     ]
    }
   ],
   "source": [
    "if len(excluded_features_columns) > 0:\n",
    "    print(f\"Dropping features: {excluded_features_columns}\")\n",
    "    X_train.drop(excluded_features_columns, axis=1, inplace=True)"
   ]
  },
  {
   "cell_type": "code",
   "execution_count": 23,
   "id": "95ab8b16",
   "metadata": {
    "execution": {
     "iopub.execute_input": "2025-08-05T15:23:51.142083Z",
     "iopub.status.busy": "2025-08-05T15:23:51.141271Z",
     "iopub.status.idle": "2025-08-05T15:23:51.200367Z",
     "shell.execute_reply": "2025-08-05T15:23:51.199389Z"
    },
    "papermill": {
     "duration": 0.078982,
     "end_time": "2025-08-05T15:23:51.202310",
     "exception": false,
     "start_time": "2025-08-05T15:23:51.123328",
     "status": "completed"
    },
    "tags": []
   },
   "outputs": [
    {
     "name": "stdout",
     "output_type": "stream",
     "text": [
      "Dropping features: ['maxdeutsch1', 'maxdeutsch.Missing.', 'frau1']\n"
     ]
    }
   ],
   "source": [
    "if len(excluded_features_columns) > 0:\n",
    "    print(f\"Dropping features: {excluded_features_columns}\")\n",
    "    X_test.drop(excluded_features_columns, axis=1, inplace=True)"
   ]
  },
  {
   "cell_type": "code",
   "execution_count": 24,
   "id": "1853aaf5-fb9f-46cb-a2b5-8ea4ae2237e4",
   "metadata": {
    "execution": {
     "iopub.execute_input": "2025-08-05T15:23:51.239581Z",
     "iopub.status.busy": "2025-08-05T15:23:51.238881Z",
     "iopub.status.idle": "2025-08-05T15:23:51.292471Z",
     "shell.execute_reply": "2025-08-05T15:23:51.291512Z"
    },
    "papermill": {
     "duration": 0.073871,
     "end_time": "2025-08-05T15:23:51.294320",
     "exception": false,
     "start_time": "2025-08-05T15:23:51.220449",
     "status": "completed"
    },
    "tags": []
   },
   "outputs": [
    {
     "name": "stdout",
     "output_type": "stream",
     "text": [
      "Dropping features: ['maxdeutsch1', 'maxdeutsch.Missing.', 'frau1']\n"
     ]
    }
   ],
   "source": [
    "if len(excluded_features_columns) > 0:\n",
    "    print(f\"Dropping features: {excluded_features_columns}\")\n",
    "    X_calib.drop(excluded_features_columns, axis=1, inplace=True)"
   ]
  },
  {
   "cell_type": "code",
   "execution_count": 25,
   "id": "76c4dc6d",
   "metadata": {
    "execution": {
     "iopub.execute_input": "2025-08-05T15:23:51.332188Z",
     "iopub.status.busy": "2025-08-05T15:23:51.331530Z",
     "iopub.status.idle": "2025-08-05T15:23:51.336996Z",
     "shell.execute_reply": "2025-08-05T15:23:51.336075Z"
    },
    "papermill": {
     "duration": 0.026398,
     "end_time": "2025-08-05T15:23:51.338877",
     "exception": false,
     "start_time": "2025-08-05T15:23:51.312479",
     "status": "completed"
    },
    "tags": []
   },
   "outputs": [],
   "source": [
    "# EXCLUDE CERTAIN SUBGROUPS\n",
    "# ----------------------\n",
    "\n",
    "mode = universe.get(\"exclude_subgroups\", \"keep-all\") \n",
    "# Fetches the exclude_subgroups setting from the universe dict.\n",
    "# Defaults to \"keep-all\" if the key is missing."
   ]
  },
  {
   "cell_type": "code",
   "execution_count": 26,
   "id": "21994072",
   "metadata": {
    "execution": {
     "iopub.execute_input": "2025-08-05T15:23:51.376586Z",
     "iopub.status.busy": "2025-08-05T15:23:51.375784Z",
     "iopub.status.idle": "2025-08-05T15:23:51.383230Z",
     "shell.execute_reply": "2025-08-05T15:23:51.382301Z"
    },
    "papermill": {
     "duration": 0.027191,
     "end_time": "2025-08-05T15:23:51.384999",
     "exception": false,
     "start_time": "2025-08-05T15:23:51.357808",
     "status": "completed"
    },
    "tags": []
   },
   "outputs": [],
   "source": [
    "if mode == \"keep-all\":\n",
    "    keep_mask = pd.Series(True, index=org_train.index)\n",
    "\n",
    "# org_train contains the original feature columns from features_org (in Simson)\n",
    "# features_org contains unprocessed features, for me X_train at beginning ???\n",
    "# For keep-all, creates a boolean Series (keep_mask) of all True, so no rows are removed.\n",
    "\n",
    "elif mode == \"drop-non-german\":\n",
    "    keep_mask = org_train[\"maxdeutsch1\"] == 1 # ??? what about missing values?\n",
    "\n",
    "else:\n",
    "    raise ValueError(f\"Unsupported mode for exclude_subgroups: {mode}\")"
   ]
  },
  {
   "cell_type": "code",
   "execution_count": 27,
   "id": "71651440",
   "metadata": {
    "execution": {
     "iopub.execute_input": "2025-08-05T15:23:51.422360Z",
     "iopub.status.busy": "2025-08-05T15:23:51.421498Z",
     "iopub.status.idle": "2025-08-05T15:23:51.429103Z",
     "shell.execute_reply": "2025-08-05T15:23:51.428119Z"
    },
    "papermill": {
     "duration": 0.027725,
     "end_time": "2025-08-05T15:23:51.430807",
     "exception": false,
     "start_time": "2025-08-05T15:23:51.403082",
     "status": "completed"
    },
    "tags": []
   },
   "outputs": [
    {
     "name": "stdout",
     "output_type": "stream",
     "text": [
      "Dropping 741 rows (14.82%) where mode='drop-non-german'\n"
     ]
    }
   ],
   "source": [
    "n_drop = (~keep_mask).sum() # Calculates how many rows are set to be dropped\n",
    "if n_drop > 0:\n",
    "    pct = n_drop / len(keep_mask) * 100\n",
    "    print(f\"Dropping {n_drop} rows ({pct:.2f}%) where mode='{mode}'\")"
   ]
  },
  {
   "cell_type": "code",
   "execution_count": 28,
   "id": "5fb8eee5",
   "metadata": {
    "execution": {
     "iopub.execute_input": "2025-08-05T15:23:51.467544Z",
     "iopub.status.busy": "2025-08-05T15:23:51.466895Z",
     "iopub.status.idle": "2025-08-05T15:23:51.474664Z",
     "shell.execute_reply": "2025-08-05T15:23:51.473670Z"
    },
    "papermill": {
     "duration": 0.027795,
     "end_time": "2025-08-05T15:23:51.476510",
     "exception": false,
     "start_time": "2025-08-05T15:23:51.448715",
     "status": "completed"
    },
    "tags": []
   },
   "outputs": [],
   "source": [
    "X_train = X_train[keep_mask]"
   ]
  },
  {
   "cell_type": "code",
   "execution_count": 29,
   "id": "b202bb3a",
   "metadata": {
    "execution": {
     "iopub.execute_input": "2025-08-05T15:23:51.513660Z",
     "iopub.status.busy": "2025-08-05T15:23:51.512934Z",
     "iopub.status.idle": "2025-08-05T15:23:51.520361Z",
     "shell.execute_reply": "2025-08-05T15:23:51.519463Z"
    },
    "papermill": {
     "duration": 0.02732,
     "end_time": "2025-08-05T15:23:51.522072",
     "exception": false,
     "start_time": "2025-08-05T15:23:51.494752",
     "status": "completed"
    },
    "tags": []
   },
   "outputs": [],
   "source": [
    "y_train = y_train[keep_mask]"
   ]
  },
  {
   "cell_type": "markdown",
   "id": "493e2ac3",
   "metadata": {
    "papermill": {
     "duration": 0.018592,
     "end_time": "2025-08-05T15:23:51.558644",
     "exception": false,
     "start_time": "2025-08-05T15:23:51.540052",
     "status": "completed"
    },
    "tags": []
   },
   "source": [
    "# Model Training"
   ]
  },
  {
   "cell_type": "code",
   "execution_count": 30,
   "id": "679e1268",
   "metadata": {
    "execution": {
     "iopub.execute_input": "2025-08-05T15:23:51.595466Z",
     "iopub.status.busy": "2025-08-05T15:23:51.594612Z",
     "iopub.status.idle": "2025-08-05T15:23:51.697204Z",
     "shell.execute_reply": "2025-08-05T15:23:51.696331Z"
    },
    "papermill": {
     "duration": 0.123059,
     "end_time": "2025-08-05T15:23:51.699064",
     "exception": false,
     "start_time": "2025-08-05T15:23:51.576005",
     "status": "completed"
    },
    "tags": []
   },
   "outputs": [],
   "source": [
    "from sklearn.linear_model import LogisticRegression\n",
    "from sklearn.ensemble import GradientBoostingClassifier, RandomForestClassifier\n",
    "\n",
    "if (universe[\"model\"] == \"logreg\"):\n",
    "    model = LogisticRegression() #penalty=\"none\", solver=\"newton-cg\", max_iter=1) # include random_state=19 ?\n",
    "elif (universe[\"model\"] == \"penalized_logreg\"):\n",
    "    model = LogisticRegression(penalty=\"l2\", C=0.1) #, solver=\"newton-cg\", max_iter=1)\n",
    "elif (universe[\"model\"] == \"rf\"):\n",
    "    model = RandomForestClassifier() # n_estimators=100, n_jobs=-1\n",
    "elif (universe[\"model\"] == \"gbm\"):\n",
    "    model = GradientBoostingClassifier()\n",
    "elif (universe[\"model\"] == \"elasticnet\"):\n",
    "    model = LogisticRegression(penalty = 'elasticnet', solver = 'saga', l1_ratio = 0.5) # max_iter=5000\n",
    "else:\n",
    "    raise \"Unsupported universe.model\""
   ]
  },
  {
   "cell_type": "code",
   "execution_count": 31,
   "id": "0cc8f744",
   "metadata": {
    "execution": {
     "iopub.execute_input": "2025-08-05T15:23:51.738340Z",
     "iopub.status.busy": "2025-08-05T15:23:51.737642Z",
     "iopub.status.idle": "2025-08-05T15:23:51.744173Z",
     "shell.execute_reply": "2025-08-05T15:23:51.743215Z"
    },
    "papermill": {
     "duration": 0.028274,
     "end_time": "2025-08-05T15:23:51.746028",
     "exception": false,
     "start_time": "2025-08-05T15:23:51.717754",
     "status": "completed"
    },
    "tags": []
   },
   "outputs": [],
   "source": [
    "import numpy as np\n",
    "from sklearn.pipeline import Pipeline\n",
    "from sklearn.preprocessing import StandardScaler\n",
    "\n",
    "model = Pipeline([\n",
    "    #(\"continuous_processor\", continuous_processor),\n",
    "    #(\"categorical_preprocessor\", categorical_preprocessor),\n",
    "    (\"scale\", StandardScaler() if universe[\"scale\"] == \"scale\" else None), \n",
    "    (\"model\", model),\n",
    "])"
   ]
  },
  {
   "cell_type": "code",
   "execution_count": 32,
   "id": "9442c04d",
   "metadata": {
    "execution": {
     "iopub.execute_input": "2025-08-05T15:23:51.784603Z",
     "iopub.status.busy": "2025-08-05T15:23:51.783802Z",
     "iopub.status.idle": "2025-08-05T15:23:53.206390Z",
     "shell.execute_reply": "2025-08-05T15:23:53.205439Z"
    },
    "papermill": {
     "duration": 1.443033,
     "end_time": "2025-08-05T15:23:53.207927",
     "exception": false,
     "start_time": "2025-08-05T15:23:51.764894",
     "status": "completed"
    },
    "tags": []
   },
   "outputs": [
    {
     "data": {
      "text/html": [
       "<style>#sk-container-id-1 {color: black;background-color: white;}#sk-container-id-1 pre{padding: 0;}#sk-container-id-1 div.sk-toggleable {background-color: white;}#sk-container-id-1 label.sk-toggleable__label {cursor: pointer;display: block;width: 100%;margin-bottom: 0;padding: 0.3em;box-sizing: border-box;text-align: center;}#sk-container-id-1 label.sk-toggleable__label-arrow:before {content: \"▸\";float: left;margin-right: 0.25em;color: #696969;}#sk-container-id-1 label.sk-toggleable__label-arrow:hover:before {color: black;}#sk-container-id-1 div.sk-estimator:hover label.sk-toggleable__label-arrow:before {color: black;}#sk-container-id-1 div.sk-toggleable__content {max-height: 0;max-width: 0;overflow: hidden;text-align: left;background-color: #f0f8ff;}#sk-container-id-1 div.sk-toggleable__content pre {margin: 0.2em;color: black;border-radius: 0.25em;background-color: #f0f8ff;}#sk-container-id-1 input.sk-toggleable__control:checked~div.sk-toggleable__content {max-height: 200px;max-width: 100%;overflow: auto;}#sk-container-id-1 input.sk-toggleable__control:checked~label.sk-toggleable__label-arrow:before {content: \"▾\";}#sk-container-id-1 div.sk-estimator input.sk-toggleable__control:checked~label.sk-toggleable__label {background-color: #d4ebff;}#sk-container-id-1 div.sk-label input.sk-toggleable__control:checked~label.sk-toggleable__label {background-color: #d4ebff;}#sk-container-id-1 input.sk-hidden--visually {border: 0;clip: rect(1px 1px 1px 1px);clip: rect(1px, 1px, 1px, 1px);height: 1px;margin: -1px;overflow: hidden;padding: 0;position: absolute;width: 1px;}#sk-container-id-1 div.sk-estimator {font-family: monospace;background-color: #f0f8ff;border: 1px dotted black;border-radius: 0.25em;box-sizing: border-box;margin-bottom: 0.5em;}#sk-container-id-1 div.sk-estimator:hover {background-color: #d4ebff;}#sk-container-id-1 div.sk-parallel-item::after {content: \"\";width: 100%;border-bottom: 1px solid gray;flex-grow: 1;}#sk-container-id-1 div.sk-label:hover label.sk-toggleable__label {background-color: #d4ebff;}#sk-container-id-1 div.sk-serial::before {content: \"\";position: absolute;border-left: 1px solid gray;box-sizing: border-box;top: 0;bottom: 0;left: 50%;z-index: 0;}#sk-container-id-1 div.sk-serial {display: flex;flex-direction: column;align-items: center;background-color: white;padding-right: 0.2em;padding-left: 0.2em;position: relative;}#sk-container-id-1 div.sk-item {position: relative;z-index: 1;}#sk-container-id-1 div.sk-parallel {display: flex;align-items: stretch;justify-content: center;background-color: white;position: relative;}#sk-container-id-1 div.sk-item::before, #sk-container-id-1 div.sk-parallel-item::before {content: \"\";position: absolute;border-left: 1px solid gray;box-sizing: border-box;top: 0;bottom: 0;left: 50%;z-index: -1;}#sk-container-id-1 div.sk-parallel-item {display: flex;flex-direction: column;z-index: 1;position: relative;background-color: white;}#sk-container-id-1 div.sk-parallel-item:first-child::after {align-self: flex-end;width: 50%;}#sk-container-id-1 div.sk-parallel-item:last-child::after {align-self: flex-start;width: 50%;}#sk-container-id-1 div.sk-parallel-item:only-child::after {width: 0;}#sk-container-id-1 div.sk-dashed-wrapped {border: 1px dashed gray;margin: 0 0.4em 0.5em 0.4em;box-sizing: border-box;padding-bottom: 0.4em;background-color: white;}#sk-container-id-1 div.sk-label label {font-family: monospace;font-weight: bold;display: inline-block;line-height: 1.2em;}#sk-container-id-1 div.sk-label-container {text-align: center;}#sk-container-id-1 div.sk-container {/* jupyter's `normalize.less` sets `[hidden] { display: none; }` but bootstrap.min.css set `[hidden] { display: none !important; }` so we also need the `!important` here to be able to override the default hidden behavior on the sphinx rendered scikit-learn.org. See: https://github.com/scikit-learn/scikit-learn/issues/21755 */display: inline-block !important;position: relative;}#sk-container-id-1 div.sk-text-repr-fallback {display: none;}</style><div id=\"sk-container-id-1\" class=\"sk-top-container\"><div class=\"sk-text-repr-fallback\"><pre>Pipeline(steps=[(&#x27;scale&#x27;, StandardScaler()),\n",
       "                (&#x27;model&#x27;, RandomForestClassifier())])</pre><b>In a Jupyter environment, please rerun this cell to show the HTML representation or trust the notebook. <br />On GitHub, the HTML representation is unable to render, please try loading this page with nbviewer.org.</b></div><div class=\"sk-container\" hidden><div class=\"sk-item sk-dashed-wrapped\"><div class=\"sk-label-container\"><div class=\"sk-label sk-toggleable\"><input class=\"sk-toggleable__control sk-hidden--visually\" id=\"sk-estimator-id-1\" type=\"checkbox\" ><label for=\"sk-estimator-id-1\" class=\"sk-toggleable__label sk-toggleable__label-arrow\">Pipeline</label><div class=\"sk-toggleable__content\"><pre>Pipeline(steps=[(&#x27;scale&#x27;, StandardScaler()),\n",
       "                (&#x27;model&#x27;, RandomForestClassifier())])</pre></div></div></div><div class=\"sk-serial\"><div class=\"sk-item\"><div class=\"sk-estimator sk-toggleable\"><input class=\"sk-toggleable__control sk-hidden--visually\" id=\"sk-estimator-id-2\" type=\"checkbox\" ><label for=\"sk-estimator-id-2\" class=\"sk-toggleable__label sk-toggleable__label-arrow\">StandardScaler</label><div class=\"sk-toggleable__content\"><pre>StandardScaler()</pre></div></div></div><div class=\"sk-item\"><div class=\"sk-estimator sk-toggleable\"><input class=\"sk-toggleable__control sk-hidden--visually\" id=\"sk-estimator-id-3\" type=\"checkbox\" ><label for=\"sk-estimator-id-3\" class=\"sk-toggleable__label sk-toggleable__label-arrow\">RandomForestClassifier</label><div class=\"sk-toggleable__content\"><pre>RandomForestClassifier()</pre></div></div></div></div></div></div></div>"
      ],
      "text/plain": [
       "Pipeline(steps=[('scale', StandardScaler()),\n",
       "                ('model', RandomForestClassifier())])"
      ]
     },
     "execution_count": 32,
     "metadata": {},
     "output_type": "execute_result"
    }
   ],
   "source": [
    "model.fit(X_train, y_train.values.ravel())"
   ]
  },
  {
   "cell_type": "code",
   "execution_count": 33,
   "id": "af59f8c0",
   "metadata": {
    "execution": {
     "iopub.execute_input": "2025-08-05T15:23:53.246676Z",
     "iopub.status.busy": "2025-08-05T15:23:53.245760Z",
     "iopub.status.idle": "2025-08-05T15:23:53.251439Z",
     "shell.execute_reply": "2025-08-05T15:23:53.250557Z"
    },
    "papermill": {
     "duration": 0.026969,
     "end_time": "2025-08-05T15:23:53.253071",
     "exception": false,
     "start_time": "2025-08-05T15:23:53.226102",
     "status": "completed"
    },
    "tags": []
   },
   "outputs": [],
   "source": [
    "from fairness_multiverse.universe import predict_w_threshold"
   ]
  },
  {
   "cell_type": "code",
   "execution_count": 34,
   "id": "a7cf2e16",
   "metadata": {
    "execution": {
     "iopub.execute_input": "2025-08-05T15:23:53.292906Z",
     "iopub.status.busy": "2025-08-05T15:23:53.292333Z",
     "iopub.status.idle": "2025-08-05T15:23:55.815654Z",
     "shell.execute_reply": "2025-08-05T15:23:55.814814Z"
    },
    "papermill": {
     "duration": 2.543981,
     "end_time": "2025-08-05T15:23:55.817098",
     "exception": false,
     "start_time": "2025-08-05T15:23:53.273117",
     "status": "completed"
    },
    "tags": []
   },
   "outputs": [
    {
     "data": {
      "text/plain": [
       "0.8643295061866013"
      ]
     },
     "execution_count": 34,
     "metadata": {},
     "output_type": "execute_result"
    }
   ],
   "source": [
    "probs_test = model.predict_proba(X_test)\n",
    "\n",
    "'''\n",
    "Below code returns a boolean array (or binary 0/1 array depending on how it’s used) where each element \n",
    "is True if the probability of class 1 is greater than or equal to the threshold, and False otherwise.\n",
    "'''\n",
    "y_pred_default = predict_w_threshold(probs_test, 0.5)\n",
    "\n",
    "from sklearn.metrics import accuracy_score\n",
    "\n",
    "# Naive prediction\n",
    "accuracy_score(y_true = y_true, y_pred = y_pred_default)"
   ]
  },
  {
   "cell_type": "code",
   "execution_count": 35,
   "id": "081964c3",
   "metadata": {
    "execution": {
     "iopub.execute_input": "2025-08-05T15:23:55.861796Z",
     "iopub.status.busy": "2025-08-05T15:23:55.860825Z",
     "iopub.status.idle": "2025-08-05T15:23:58.253197Z",
     "shell.execute_reply": "2025-08-05T15:23:58.252224Z"
    },
    "papermill": {
     "duration": 2.415117,
     "end_time": "2025-08-05T15:23:58.255048",
     "exception": false,
     "start_time": "2025-08-05T15:23:55.839931",
     "status": "completed"
    },
    "tags": []
   },
   "outputs": [
    {
     "data": {
      "text/plain": [
       "array([0, 0, 0, ..., 0, 0, 0])"
      ]
     },
     "execution_count": 35,
     "metadata": {},
     "output_type": "execute_result"
    }
   ],
   "source": [
    "model.predict(X_test)"
   ]
  },
  {
   "cell_type": "markdown",
   "id": "56c9705b",
   "metadata": {
    "papermill": {
     "duration": 0.018835,
     "end_time": "2025-08-05T15:23:58.293959",
     "exception": false,
     "start_time": "2025-08-05T15:23:58.275124",
     "status": "completed"
    },
    "tags": []
   },
   "source": [
    "# Conformal Prediction"
   ]
  },
  {
   "cell_type": "code",
   "execution_count": 36,
   "id": "160ec6ff",
   "metadata": {
    "execution": {
     "iopub.execute_input": "2025-08-05T15:23:58.334594Z",
     "iopub.status.busy": "2025-08-05T15:23:58.334138Z",
     "iopub.status.idle": "2025-08-05T15:23:58.338734Z",
     "shell.execute_reply": "2025-08-05T15:23:58.338035Z"
    },
    "papermill": {
     "duration": 0.027686,
     "end_time": "2025-08-05T15:23:58.340329",
     "exception": false,
     "start_time": "2025-08-05T15:23:58.312643",
     "status": "completed"
    },
    "tags": []
   },
   "outputs": [],
   "source": [
    "# Miscoverage level for conformal prediction (10% allowed error rate => 90% target coverage)\n",
    "alpha = 0.1"
   ]
  },
  {
   "cell_type": "code",
   "execution_count": 37,
   "id": "eadf4555-3dd3-440e-8e35-f82a4ad9f855",
   "metadata": {
    "execution": {
     "iopub.execute_input": "2025-08-05T15:23:58.384418Z",
     "iopub.status.busy": "2025-08-05T15:23:58.384078Z",
     "iopub.status.idle": "2025-08-05T15:24:00.323724Z",
     "shell.execute_reply": "2025-08-05T15:24:00.322983Z"
    },
    "papermill": {
     "duration": 1.962831,
     "end_time": "2025-08-05T15:24:00.325094",
     "exception": false,
     "start_time": "2025-08-05T15:23:58.362263",
     "status": "completed"
    },
    "tags": []
   },
   "outputs": [],
   "source": [
    "probs_calib = model.predict_proba(X_calib)"
   ]
  },
  {
   "cell_type": "code",
   "execution_count": 38,
   "id": "2ed93547-6d5d-4983-9b36-1ecb300da49a",
   "metadata": {
    "execution": {
     "iopub.execute_input": "2025-08-05T15:24:00.350218Z",
     "iopub.status.busy": "2025-08-05T15:24:00.349385Z",
     "iopub.status.idle": "2025-08-05T15:24:00.354138Z",
     "shell.execute_reply": "2025-08-05T15:24:00.353317Z"
    },
    "papermill": {
     "duration": 0.017303,
     "end_time": "2025-08-05T15:24:00.355566",
     "exception": false,
     "start_time": "2025-08-05T15:24:00.338263",
     "status": "completed"
    },
    "tags": []
   },
   "outputs": [],
   "source": [
    "y_calib = y_calib.values.ravel().astype(int)"
   ]
  },
  {
   "cell_type": "code",
   "execution_count": 39,
   "id": "65d1320d-f588-4b38-9072-62af1ae97f7d",
   "metadata": {
    "execution": {
     "iopub.execute_input": "2025-08-05T15:24:00.377628Z",
     "iopub.status.busy": "2025-08-05T15:24:00.377235Z",
     "iopub.status.idle": "2025-08-05T15:24:00.383880Z",
     "shell.execute_reply": "2025-08-05T15:24:00.383003Z"
    },
    "papermill": {
     "duration": 0.01864,
     "end_time": "2025-08-05T15:24:00.385163",
     "exception": false,
     "start_time": "2025-08-05T15:24:00.366523",
     "status": "completed"
    },
    "tags": []
   },
   "outputs": [],
   "source": [
    "from fairness_multiverse.conformal import compute_nc_scores\n",
    "\n",
    "# Compute nonconformity scores on calibration set (1 - probability of true class)\n",
    "nc_scores = compute_nc_scores(probs_calib, y_calib)"
   ]
  },
  {
   "cell_type": "code",
   "execution_count": 40,
   "id": "df3b8ca3-53b7-43d5-9667-7c85da7aeda2",
   "metadata": {
    "execution": {
     "iopub.execute_input": "2025-08-05T15:24:00.407688Z",
     "iopub.status.busy": "2025-08-05T15:24:00.407053Z",
     "iopub.status.idle": "2025-08-05T15:24:00.412664Z",
     "shell.execute_reply": "2025-08-05T15:24:00.411814Z"
    },
    "papermill": {
     "duration": 0.017956,
     "end_time": "2025-08-05T15:24:00.414088",
     "exception": false,
     "start_time": "2025-08-05T15:24:00.396132",
     "status": "completed"
    },
    "tags": []
   },
   "outputs": [],
   "source": [
    "from fairness_multiverse.conformal import find_threshold\n",
    "\n",
    "# Find conformal threshold q_hat for the given alpha (split conformal method)\n",
    "q_hat = find_threshold(nc_scores, alpha)"
   ]
  },
  {
   "cell_type": "code",
   "execution_count": 41,
   "id": "4d29e6c1-0ef6-4aa4-b8fe-4fe79b0d033a",
   "metadata": {
    "execution": {
     "iopub.execute_input": "2025-08-05T15:24:00.436229Z",
     "iopub.status.busy": "2025-08-05T15:24:00.435852Z",
     "iopub.status.idle": "2025-08-05T15:24:00.440940Z",
     "shell.execute_reply": "2025-08-05T15:24:00.440166Z"
    },
    "papermill": {
     "duration": 0.017065,
     "end_time": "2025-08-05T15:24:00.442296",
     "exception": false,
     "start_time": "2025-08-05T15:24:00.425231",
     "status": "completed"
    },
    "tags": []
   },
   "outputs": [
    {
     "data": {
      "text/plain": [
       "0.6599999999999999"
      ]
     },
     "execution_count": 41,
     "metadata": {},
     "output_type": "execute_result"
    }
   ],
   "source": [
    "q_hat"
   ]
  },
  {
   "cell_type": "code",
   "execution_count": 42,
   "id": "92460794-cdac-4be2-ba28-f28c0515a6fb",
   "metadata": {
    "execution": {
     "iopub.execute_input": "2025-08-05T15:24:00.464052Z",
     "iopub.status.busy": "2025-08-05T15:24:00.463672Z",
     "iopub.status.idle": "2025-08-05T15:24:03.044236Z",
     "shell.execute_reply": "2025-08-05T15:24:03.043505Z"
    },
    "papermill": {
     "duration": 2.593015,
     "end_time": "2025-08-05T15:24:03.045964",
     "exception": false,
     "start_time": "2025-08-05T15:24:00.452949",
     "status": "completed"
    },
    "tags": []
   },
   "outputs": [],
   "source": [
    "from fairness_multiverse.conformal import predict_conformal_sets\n",
    "\n",
    "# Generate prediction sets for each test example\n",
    "pred_sets = predict_conformal_sets(model, X_test, q_hat)"
   ]
  },
  {
   "cell_type": "code",
   "execution_count": 43,
   "id": "d90c9a65-e6db-4f5d-80cd-e68fb7e46829",
   "metadata": {
    "execution": {
     "iopub.execute_input": "2025-08-05T15:24:03.100632Z",
     "iopub.status.busy": "2025-08-05T15:24:03.100127Z",
     "iopub.status.idle": "2025-08-05T15:24:03.105922Z",
     "shell.execute_reply": "2025-08-05T15:24:03.104898Z"
    },
    "papermill": {
     "duration": 0.030804,
     "end_time": "2025-08-05T15:24:03.107736",
     "exception": false,
     "start_time": "2025-08-05T15:24:03.076932",
     "status": "completed"
    },
    "tags": []
   },
   "outputs": [],
   "source": [
    "y_true = y_true.squeeze()"
   ]
  },
  {
   "cell_type": "code",
   "execution_count": 44,
   "id": "3a58a54a-1e68-46b9-927a-df01f18aebc8",
   "metadata": {
    "execution": {
     "iopub.execute_input": "2025-08-05T15:24:03.151183Z",
     "iopub.status.busy": "2025-08-05T15:24:03.150849Z",
     "iopub.status.idle": "2025-08-05T15:24:04.179504Z",
     "shell.execute_reply": "2025-08-05T15:24:04.178561Z"
    },
    "papermill": {
     "duration": 1.052238,
     "end_time": "2025-08-05T15:24:04.181302",
     "exception": false,
     "start_time": "2025-08-05T15:24:03.129064",
     "status": "completed"
    },
    "tags": []
   },
   "outputs": [],
   "source": [
    "from fairness_multiverse.conformal import evaluate_sets\n",
    "\n",
    "# Evaluate coverage and average set size on test data\n",
    "metrics = evaluate_sets(pred_sets, y_true)"
   ]
  },
  {
   "cell_type": "markdown",
   "id": "2b569c12-9aaa-4c88-98c9-bbcd0cf3ebb8",
   "metadata": {
    "papermill": {
     "duration": 0.020152,
     "end_time": "2025-08-05T15:24:04.224784",
     "exception": false,
     "start_time": "2025-08-05T15:24:04.204632",
     "status": "completed"
    },
    "tags": []
   },
   "source": [
    "# CP Metrics"
   ]
  },
  {
   "cell_type": "code",
   "execution_count": 45,
   "id": "5ce0a5cb-201f-45a0-ade5-94c7f0bd6095",
   "metadata": {
    "execution": {
     "iopub.execute_input": "2025-08-05T15:24:04.267805Z",
     "iopub.status.busy": "2025-08-05T15:24:04.266896Z",
     "iopub.status.idle": "2025-08-05T15:24:04.274398Z",
     "shell.execute_reply": "2025-08-05T15:24:04.273374Z"
    },
    "papermill": {
     "duration": 0.031079,
     "end_time": "2025-08-05T15:24:04.276104",
     "exception": false,
     "start_time": "2025-08-05T15:24:04.245025",
     "status": "completed"
    },
    "tags": []
   },
   "outputs": [
    {
     "data": {
      "text/plain": [
       "{'coverage': 0.914179021290826, 'avg_size': 1.1451677627912162}"
      ]
     },
     "execution_count": 45,
     "metadata": {},
     "output_type": "execute_result"
    }
   ],
   "source": [
    "metrics"
   ]
  },
  {
   "cell_type": "code",
   "execution_count": 46,
   "id": "9b9a838d-31c9-430b-ae14-12baee460d17",
   "metadata": {
    "execution": {
     "iopub.execute_input": "2025-08-05T15:24:04.319934Z",
     "iopub.status.busy": "2025-08-05T15:24:04.319174Z",
     "iopub.status.idle": "2025-08-05T15:24:04.325389Z",
     "shell.execute_reply": "2025-08-05T15:24:04.324379Z"
    },
    "papermill": {
     "duration": 0.029653,
     "end_time": "2025-08-05T15:24:04.327141",
     "exception": false,
     "start_time": "2025-08-05T15:24:04.297488",
     "status": "completed"
    },
    "tags": []
   },
   "outputs": [],
   "source": [
    "example_universe = universe.copy()\n",
    "universe_training_year = example_universe.get(\"training_year\")\n",
    "universe_training_size = example_universe.get(\"training_size\")\n",
    "universe_scale = example_universe.get(\"scale\")\n",
    "universe_model = example_universe.get(\"model\")\n",
    "universe_exclude_features = example_universe.get(\"exclude_features\")\n",
    "universe_exclude_subgroups = example_universe.get(\"exclude_subgroups\")"
   ]
  },
  {
   "cell_type": "code",
   "execution_count": 47,
   "id": "f4b6a8ac-9dc0-4245-8a91-5b3b5999c4f9",
   "metadata": {
    "execution": {
     "iopub.execute_input": "2025-08-05T15:24:04.372281Z",
     "iopub.status.busy": "2025-08-05T15:24:04.371806Z",
     "iopub.status.idle": "2025-08-05T15:24:04.377998Z",
     "shell.execute_reply": "2025-08-05T15:24:04.376996Z"
    },
    "papermill": {
     "duration": 0.030729,
     "end_time": "2025-08-05T15:24:04.379676",
     "exception": false,
     "start_time": "2025-08-05T15:24:04.348947",
     "status": "completed"
    },
    "tags": []
   },
   "outputs": [],
   "source": [
    "cp_metrics_dict = {\n",
    "    \"universe_id\": [universe_id],\n",
    "    \"universe_training_year\": [universe_training_year],\n",
    "    \"universe_training_size\": [universe_training_size],\n",
    "    \"universe_scale\": [universe_scale],\n",
    "    \"universe_model\": [universe_model],\n",
    "    \"universe_exclude_features\": [universe_exclude_features],\n",
    "    \"universe_exclude_subgroups\": [universe_exclude_subgroups],\n",
    "    \"q_hat\": [q_hat],\n",
    "    \"coverage\": [metrics[\"coverage\"]],\n",
    "    \"avg_size\": [metrics[\"avg_size\"]],\n",
    "}"
   ]
  },
  {
   "cell_type": "code",
   "execution_count": 48,
   "id": "908acbb1-0371-4915-85ca-3fa520d2efe2",
   "metadata": {
    "execution": {
     "iopub.execute_input": "2025-08-05T15:24:04.423653Z",
     "iopub.status.busy": "2025-08-05T15:24:04.423192Z",
     "iopub.status.idle": "2025-08-05T15:24:04.430616Z",
     "shell.execute_reply": "2025-08-05T15:24:04.429561Z"
    },
    "papermill": {
     "duration": 0.031681,
     "end_time": "2025-08-05T15:24:04.432308",
     "exception": false,
     "start_time": "2025-08-05T15:24:04.400627",
     "status": "completed"
    },
    "tags": []
   },
   "outputs": [
    {
     "data": {
      "text/plain": [
       "{'universe_id': ['29a35737d5b879291748b5ba3f98e2b9'],\n",
       " 'universe_training_year': ['2014'],\n",
       " 'universe_training_size': ['5k'],\n",
       " 'universe_scale': ['scale'],\n",
       " 'universe_model': ['rf'],\n",
       " 'universe_exclude_features': ['nationality-sex'],\n",
       " 'universe_exclude_subgroups': ['drop-non-german'],\n",
       " 'q_hat': [0.6599999999999999],\n",
       " 'coverage': [0.914179021290826],\n",
       " 'avg_size': [1.1451677627912162]}"
      ]
     },
     "execution_count": 48,
     "metadata": {},
     "output_type": "execute_result"
    }
   ],
   "source": [
    "cp_metrics_dict"
   ]
  },
  {
   "cell_type": "code",
   "execution_count": 49,
   "id": "33007efc-14e9-4ec6-97ac-56a455c82265",
   "metadata": {
    "execution": {
     "iopub.execute_input": "2025-08-05T15:24:04.476528Z",
     "iopub.status.busy": "2025-08-05T15:24:04.475722Z",
     "iopub.status.idle": "2025-08-05T15:24:04.481851Z",
     "shell.execute_reply": "2025-08-05T15:24:04.480825Z"
    },
    "papermill": {
     "duration": 0.029976,
     "end_time": "2025-08-05T15:24:04.483584",
     "exception": false,
     "start_time": "2025-08-05T15:24:04.453608",
     "status": "completed"
    },
    "tags": []
   },
   "outputs": [],
   "source": [
    "cp_metrics_df = pd.DataFrame(cp_metrics_dict)"
   ]
  },
  {
   "cell_type": "code",
   "execution_count": 50,
   "id": "db12611b-57b2-4910-b9d0-355adfd6e7bf",
   "metadata": {
    "execution": {
     "iopub.execute_input": "2025-08-05T15:24:04.521854Z",
     "iopub.status.busy": "2025-08-05T15:24:04.521375Z",
     "iopub.status.idle": "2025-08-05T15:24:04.536009Z",
     "shell.execute_reply": "2025-08-05T15:24:04.535335Z"
    },
    "papermill": {
     "duration": 0.027304,
     "end_time": "2025-08-05T15:24:04.537220",
     "exception": false,
     "start_time": "2025-08-05T15:24:04.509916",
     "status": "completed"
    },
    "tags": []
   },
   "outputs": [
    {
     "data": {
      "text/html": [
       "<div>\n",
       "<style scoped>\n",
       "    .dataframe tbody tr th:only-of-type {\n",
       "        vertical-align: middle;\n",
       "    }\n",
       "\n",
       "    .dataframe tbody tr th {\n",
       "        vertical-align: top;\n",
       "    }\n",
       "\n",
       "    .dataframe thead th {\n",
       "        text-align: right;\n",
       "    }\n",
       "</style>\n",
       "<table border=\"1\" class=\"dataframe\">\n",
       "  <thead>\n",
       "    <tr style=\"text-align: right;\">\n",
       "      <th></th>\n",
       "      <th>universe_id</th>\n",
       "      <th>universe_training_year</th>\n",
       "      <th>universe_training_size</th>\n",
       "      <th>universe_scale</th>\n",
       "      <th>universe_model</th>\n",
       "      <th>universe_exclude_features</th>\n",
       "      <th>universe_exclude_subgroups</th>\n",
       "      <th>q_hat</th>\n",
       "      <th>coverage</th>\n",
       "      <th>avg_size</th>\n",
       "    </tr>\n",
       "  </thead>\n",
       "  <tbody>\n",
       "    <tr>\n",
       "      <th>0</th>\n",
       "      <td>29a35737d5b879291748b5ba3f98e2b9</td>\n",
       "      <td>2014</td>\n",
       "      <td>5k</td>\n",
       "      <td>scale</td>\n",
       "      <td>rf</td>\n",
       "      <td>nationality-sex</td>\n",
       "      <td>drop-non-german</td>\n",
       "      <td>0.66</td>\n",
       "      <td>0.914179</td>\n",
       "      <td>1.145168</td>\n",
       "    </tr>\n",
       "  </tbody>\n",
       "</table>\n",
       "</div>"
      ],
      "text/plain": [
       "                        universe_id universe_training_year  \\\n",
       "0  29a35737d5b879291748b5ba3f98e2b9                   2014   \n",
       "\n",
       "  universe_training_size universe_scale universe_model  \\\n",
       "0                     5k          scale             rf   \n",
       "\n",
       "  universe_exclude_features universe_exclude_subgroups  q_hat  coverage  \\\n",
       "0           nationality-sex            drop-non-german   0.66  0.914179   \n",
       "\n",
       "   avg_size  \n",
       "0  1.145168  "
      ]
     },
     "execution_count": 50,
     "metadata": {},
     "output_type": "execute_result"
    }
   ],
   "source": [
    "cp_metrics_df"
   ]
  },
  {
   "cell_type": "code",
   "execution_count": 51,
   "id": "b7fbde55-a0a1-47e4-9af6-fe4a17fa8c61",
   "metadata": {
    "execution": {
     "iopub.execute_input": "2025-08-05T15:24:04.564672Z",
     "iopub.status.busy": "2025-08-05T15:24:04.563984Z",
     "iopub.status.idle": "2025-08-05T15:24:04.569111Z",
     "shell.execute_reply": "2025-08-05T15:24:04.568165Z"
    },
    "papermill": {
     "duration": 0.022532,
     "end_time": "2025-08-05T15:24:04.570878",
     "exception": false,
     "start_time": "2025-08-05T15:24:04.548346",
     "status": "completed"
    },
    "tags": []
   },
   "outputs": [],
   "source": [
    "# Conditional Coverage & looking at subgroups"
   ]
  },
  {
   "cell_type": "code",
   "execution_count": 52,
   "id": "027ae886-68dd-4141-96c7-805a5450e1ef",
   "metadata": {
    "execution": {
     "iopub.execute_input": "2025-08-05T15:24:04.617721Z",
     "iopub.status.busy": "2025-08-05T15:24:04.617275Z",
     "iopub.status.idle": "2025-08-05T15:24:04.864271Z",
     "shell.execute_reply": "2025-08-05T15:24:04.863317Z"
    },
    "papermill": {
     "duration": 0.272437,
     "end_time": "2025-08-05T15:24:04.866110",
     "exception": false,
     "start_time": "2025-08-05T15:24:04.593673",
     "status": "completed"
    },
    "tags": []
   },
   "outputs": [],
   "source": [
    "from fairness_multiverse.conformal import build_cp_groups\n",
    "\n",
    "cp_groups_df = build_cp_groups(pred_sets, y_true, X_test.index, org_test)\n",
    "#needs universe_id and setting"
   ]
  },
  {
   "cell_type": "code",
   "execution_count": 53,
   "id": "6cbdab96-b2b2-45af-ad54-d0516db2e28d",
   "metadata": {
    "execution": {
     "iopub.execute_input": "2025-08-05T15:24:04.908503Z",
     "iopub.status.busy": "2025-08-05T15:24:04.907864Z",
     "iopub.status.idle": "2025-08-05T15:24:06.750251Z",
     "shell.execute_reply": "2025-08-05T15:24:06.749268Z"
    },
    "papermill": {
     "duration": 1.865283,
     "end_time": "2025-08-05T15:24:06.752196",
     "exception": false,
     "start_time": "2025-08-05T15:24:04.886913",
     "status": "completed"
    },
    "tags": []
   },
   "outputs": [],
   "source": [
    "# Define covered = 1 if true_label is in the predicted set\n",
    "cp_groups_df['covered'] = cp_groups_df.apply(\n",
    "    lambda r: int(r['true_label'] in r['pred_set']),\n",
    "    axis=1\n",
    ")"
   ]
  },
  {
   "cell_type": "code",
   "execution_count": 54,
   "id": "338ff529-1a6b-4b87-a931-8e4788d52aad",
   "metadata": {
    "execution": {
     "iopub.execute_input": "2025-08-05T15:24:06.799287Z",
     "iopub.status.busy": "2025-08-05T15:24:06.798844Z",
     "iopub.status.idle": "2025-08-05T15:24:06.803427Z",
     "shell.execute_reply": "2025-08-05T15:24:06.802587Z"
    },
    "papermill": {
     "duration": 0.029469,
     "end_time": "2025-08-05T15:24:06.805042",
     "exception": false,
     "start_time": "2025-08-05T15:24:06.775573",
     "status": "completed"
    },
    "tags": []
   },
   "outputs": [],
   "source": [
    "#cp_groups_df"
   ]
  },
  {
   "cell_type": "code",
   "execution_count": 55,
   "id": "90032e27-66df-4540-9169-4e89cfbaa758",
   "metadata": {
    "execution": {
     "iopub.execute_input": "2025-08-05T15:24:06.851522Z",
     "iopub.status.busy": "2025-08-05T15:24:06.850929Z",
     "iopub.status.idle": "2025-08-05T15:24:06.862538Z",
     "shell.execute_reply": "2025-08-05T15:24:06.861613Z"
    },
    "papermill": {
     "duration": 0.036469,
     "end_time": "2025-08-05T15:24:06.864383",
     "exception": false,
     "start_time": "2025-08-05T15:24:06.827914",
     "status": "completed"
    },
    "tags": []
   },
   "outputs": [],
   "source": [
    "subgroups = ['frau1','nongerman','nongerman_male','nongerman_female']\n",
    "\n",
    "# Conditional coverage for subgroup==1\n",
    "cond_coverage = {\n",
    "    g: cp_groups_df.loc[cp_groups_df[g]==1, 'covered'].mean()\n",
    "    for g in subgroups\n",
    "}"
   ]
  },
  {
   "cell_type": "code",
   "execution_count": 56,
   "id": "1e348fb1-b9c3-45bc-ba23-f016827a7e0d",
   "metadata": {
    "execution": {
     "iopub.execute_input": "2025-08-05T15:24:06.910603Z",
     "iopub.status.busy": "2025-08-05T15:24:06.910039Z",
     "iopub.status.idle": "2025-08-05T15:24:06.918462Z",
     "shell.execute_reply": "2025-08-05T15:24:06.917347Z"
    },
    "papermill": {
     "duration": 0.033529,
     "end_time": "2025-08-05T15:24:06.920335",
     "exception": false,
     "start_time": "2025-08-05T15:24:06.886806",
     "status": "completed"
    },
    "tags": []
   },
   "outputs": [
    {
     "data": {
      "text/plain": [
       "{'frau1': 0.9127375657096644,\n",
       " 'nongerman': 0.9120305394936282,\n",
       " 'nongerman_male': 0.9263262181392417,\n",
       " 'nongerman_female': 0.8883755588673622}"
      ]
     },
     "execution_count": 56,
     "metadata": {},
     "output_type": "execute_result"
    }
   ],
   "source": [
    "cond_coverage"
   ]
  },
  {
   "cell_type": "code",
   "execution_count": 57,
   "id": "f5093324-c3dd-4d63-bc4c-8d945e5c8bbb",
   "metadata": {
    "execution": {
     "iopub.execute_input": "2025-08-05T15:24:06.968351Z",
     "iopub.status.busy": "2025-08-05T15:24:06.967767Z",
     "iopub.status.idle": "2025-08-05T15:24:06.975025Z",
     "shell.execute_reply": "2025-08-05T15:24:06.973980Z"
    },
    "papermill": {
     "duration": 0.032735,
     "end_time": "2025-08-05T15:24:06.976838",
     "exception": false,
     "start_time": "2025-08-05T15:24:06.944103",
     "status": "completed"
    },
    "tags": []
   },
   "outputs": [],
   "source": [
    "for subgroup, cov in cond_coverage.items():\n",
    "    cp_metrics_df[f\"cov_{subgroup}\"] = cov"
   ]
  },
  {
   "cell_type": "code",
   "execution_count": 58,
   "id": "6e872e10-dbe5-49e8-b554-5030c98ff75d",
   "metadata": {
    "execution": {
     "iopub.execute_input": "2025-08-05T15:24:07.030903Z",
     "iopub.status.busy": "2025-08-05T15:24:07.030138Z",
     "iopub.status.idle": "2025-08-05T15:24:07.050869Z",
     "shell.execute_reply": "2025-08-05T15:24:07.049714Z"
    },
    "papermill": {
     "duration": 0.05161,
     "end_time": "2025-08-05T15:24:07.052647",
     "exception": false,
     "start_time": "2025-08-05T15:24:07.001037",
     "status": "completed"
    },
    "tags": []
   },
   "outputs": [
    {
     "data": {
      "text/html": [
       "<div>\n",
       "<style scoped>\n",
       "    .dataframe tbody tr th:only-of-type {\n",
       "        vertical-align: middle;\n",
       "    }\n",
       "\n",
       "    .dataframe tbody tr th {\n",
       "        vertical-align: top;\n",
       "    }\n",
       "\n",
       "    .dataframe thead th {\n",
       "        text-align: right;\n",
       "    }\n",
       "</style>\n",
       "<table border=\"1\" class=\"dataframe\">\n",
       "  <thead>\n",
       "    <tr style=\"text-align: right;\">\n",
       "      <th></th>\n",
       "      <th>universe_id</th>\n",
       "      <th>universe_training_year</th>\n",
       "      <th>universe_training_size</th>\n",
       "      <th>universe_scale</th>\n",
       "      <th>universe_model</th>\n",
       "      <th>universe_exclude_features</th>\n",
       "      <th>universe_exclude_subgroups</th>\n",
       "      <th>q_hat</th>\n",
       "      <th>coverage</th>\n",
       "      <th>avg_size</th>\n",
       "      <th>cov_frau1</th>\n",
       "      <th>cov_nongerman</th>\n",
       "      <th>cov_nongerman_male</th>\n",
       "      <th>cov_nongerman_female</th>\n",
       "    </tr>\n",
       "  </thead>\n",
       "  <tbody>\n",
       "    <tr>\n",
       "      <th>0</th>\n",
       "      <td>29a35737d5b879291748b5ba3f98e2b9</td>\n",
       "      <td>2014</td>\n",
       "      <td>5k</td>\n",
       "      <td>scale</td>\n",
       "      <td>rf</td>\n",
       "      <td>nationality-sex</td>\n",
       "      <td>drop-non-german</td>\n",
       "      <td>0.66</td>\n",
       "      <td>0.914179</td>\n",
       "      <td>1.145168</td>\n",
       "      <td>0.912738</td>\n",
       "      <td>0.912031</td>\n",
       "      <td>0.926326</td>\n",
       "      <td>0.888376</td>\n",
       "    </tr>\n",
       "  </tbody>\n",
       "</table>\n",
       "</div>"
      ],
      "text/plain": [
       "                        universe_id universe_training_year  \\\n",
       "0  29a35737d5b879291748b5ba3f98e2b9                   2014   \n",
       "\n",
       "  universe_training_size universe_scale universe_model  \\\n",
       "0                     5k          scale             rf   \n",
       "\n",
       "  universe_exclude_features universe_exclude_subgroups  q_hat  coverage  \\\n",
       "0           nationality-sex            drop-non-german   0.66  0.914179   \n",
       "\n",
       "   avg_size  cov_frau1  cov_nongerman  cov_nongerman_male  \\\n",
       "0  1.145168   0.912738       0.912031            0.926326   \n",
       "\n",
       "   cov_nongerman_female  \n",
       "0              0.888376  "
      ]
     },
     "execution_count": 58,
     "metadata": {},
     "output_type": "execute_result"
    }
   ],
   "source": [
    "cp_metrics_df"
   ]
  },
  {
   "cell_type": "markdown",
   "id": "33774451",
   "metadata": {
    "papermill": {
     "duration": 0.02465,
     "end_time": "2025-08-05T15:24:07.101899",
     "exception": false,
     "start_time": "2025-08-05T15:24:07.077249",
     "status": "completed"
    },
    "tags": []
   },
   "source": [
    "# (Fairness) Metrics"
   ]
  },
  {
   "cell_type": "code",
   "execution_count": 59,
   "id": "debc5d62",
   "metadata": {
    "execution": {
     "iopub.execute_input": "2025-08-05T15:24:07.151208Z",
     "iopub.status.busy": "2025-08-05T15:24:07.150760Z",
     "iopub.status.idle": "2025-08-05T15:24:07.171404Z",
     "shell.execute_reply": "2025-08-05T15:24:07.170377Z"
    },
    "papermill": {
     "duration": 0.047565,
     "end_time": "2025-08-05T15:24:07.173321",
     "exception": false,
     "start_time": "2025-08-05T15:24:07.125756",
     "status": "completed"
    },
    "tags": []
   },
   "outputs": [],
   "source": [
    "# do I need to include maxdeutsch1.missing?\n",
    "\n",
    "import numpy as np\n",
    "\n",
    "colname_to_bin = \"maxdeutsch1\"\n",
    "majority_value = org_train[colname_to_bin].mode()[0]\n",
    "\n",
    "org_test[\"majmin\"] = np.where(org_test[colname_to_bin] == majority_value, \"majority\", \"minority\")"
   ]
  },
  {
   "cell_type": "code",
   "execution_count": 60,
   "id": "06a50de5",
   "metadata": {
    "execution": {
     "iopub.execute_input": "2025-08-05T15:24:07.224036Z",
     "iopub.status.busy": "2025-08-05T15:24:07.223157Z",
     "iopub.status.idle": "2025-08-05T15:24:09.617330Z",
     "shell.execute_reply": "2025-08-05T15:24:09.616556Z"
    },
    "papermill": {
     "duration": 2.420356,
     "end_time": "2025-08-05T15:24:09.619092",
     "exception": false,
     "start_time": "2025-08-05T15:24:07.198736",
     "status": "completed"
    },
    "tags": []
   },
   "outputs": [],
   "source": [
    "example_universe = universe.copy()\n",
    "example_universe[\"cutoff\"] = example_universe[\"cutoff\"][0]\n",
    "example_universe[\"eval_fairness_grouping\"] = example_universe[\"eval_fairness_grouping\"][0]\n",
    "fairness_dict, metric_frame = universe_analysis.compute_metrics(\n",
    "    example_universe,\n",
    "    y_pred_prob=probs_test,\n",
    "    y_test=y_true,\n",
    "    org_test=org_test,\n",
    ")"
   ]
  },
  {
   "cell_type": "markdown",
   "id": "f95d4e02",
   "metadata": {
    "papermill": {
     "duration": 0.027135,
     "end_time": "2025-08-05T15:24:09.669910",
     "exception": false,
     "start_time": "2025-08-05T15:24:09.642775",
     "status": "completed"
    },
    "tags": []
   },
   "source": [
    "# Overall"
   ]
  },
  {
   "cell_type": "markdown",
   "id": "bdee4871",
   "metadata": {
    "papermill": {
     "duration": 0.023669,
     "end_time": "2025-08-05T15:24:09.716781",
     "exception": false,
     "start_time": "2025-08-05T15:24:09.693112",
     "status": "completed"
    },
    "tags": []
   },
   "source": [
    "Fairness\n",
    "Main fairness target: Equalized Odds. Seems to be a better fit than equal opportunity, since we're not only interested in Y = 1. Seems to be a better fit than demographic parity, since we also care about accuracy, not just equal distribution of preds.\n",
    "\n",
    "Pick column for computation of fairness metrics\n",
    "\n",
    "Performance\n",
    "Overall performance measures, most interesting in relation to the measures split by group below"
   ]
  },
  {
   "cell_type": "code",
   "execution_count": 61,
   "id": "c4e067c6",
   "metadata": {
    "execution": {
     "iopub.execute_input": "2025-08-05T15:24:09.765330Z",
     "iopub.status.busy": "2025-08-05T15:24:09.764810Z",
     "iopub.status.idle": "2025-08-05T15:24:09.773997Z",
     "shell.execute_reply": "2025-08-05T15:24:09.772890Z"
    },
    "papermill": {
     "duration": 0.035522,
     "end_time": "2025-08-05T15:24:09.775988",
     "exception": false,
     "start_time": "2025-08-05T15:24:09.740466",
     "status": "completed"
    },
    "tags": []
   },
   "outputs": [
    {
     "data": {
      "text/plain": [
       "accuracy                   0.200178\n",
       "balanced accuracy          0.534162\n",
       "f1                         0.239803\n",
       "precision                  0.136550\n",
       "false positive rate        0.915079\n",
       "false negative rate        0.016597\n",
       "selection rate             0.923843\n",
       "count                  89710.000000\n",
       "dtype: float64"
      ]
     },
     "execution_count": 61,
     "metadata": {},
     "output_type": "execute_result"
    }
   ],
   "source": [
    "metric_frame.overall"
   ]
  },
  {
   "cell_type": "markdown",
   "id": "e968fe9d",
   "metadata": {
    "papermill": {
     "duration": 0.023883,
     "end_time": "2025-08-05T15:24:09.824705",
     "exception": false,
     "start_time": "2025-08-05T15:24:09.800822",
     "status": "completed"
    },
    "tags": []
   },
   "source": [
    "By Group"
   ]
  },
  {
   "cell_type": "code",
   "execution_count": 62,
   "id": "ec325bce",
   "metadata": {
    "execution": {
     "iopub.execute_input": "2025-08-05T15:24:09.876268Z",
     "iopub.status.busy": "2025-08-05T15:24:09.875598Z",
     "iopub.status.idle": "2025-08-05T15:24:09.891950Z",
     "shell.execute_reply": "2025-08-05T15:24:09.890924Z"
    },
    "papermill": {
     "duration": 0.042368,
     "end_time": "2025-08-05T15:24:09.893640",
     "exception": false,
     "start_time": "2025-08-05T15:24:09.851272",
     "status": "completed"
    },
    "tags": []
   },
   "outputs": [
    {
     "data": {
      "text/html": [
       "<div>\n",
       "<style scoped>\n",
       "    .dataframe tbody tr th:only-of-type {\n",
       "        vertical-align: middle;\n",
       "    }\n",
       "\n",
       "    .dataframe tbody tr th {\n",
       "        vertical-align: top;\n",
       "    }\n",
       "\n",
       "    .dataframe thead th {\n",
       "        text-align: right;\n",
       "    }\n",
       "</style>\n",
       "<table border=\"1\" class=\"dataframe\">\n",
       "  <thead>\n",
       "    <tr style=\"text-align: right;\">\n",
       "      <th></th>\n",
       "      <th>accuracy</th>\n",
       "      <th>balanced accuracy</th>\n",
       "      <th>f1</th>\n",
       "      <th>precision</th>\n",
       "      <th>false positive rate</th>\n",
       "      <th>false negative rate</th>\n",
       "      <th>selection rate</th>\n",
       "      <th>count</th>\n",
       "    </tr>\n",
       "    <tr>\n",
       "      <th>majmin</th>\n",
       "      <th></th>\n",
       "      <th></th>\n",
       "      <th></th>\n",
       "      <th></th>\n",
       "      <th></th>\n",
       "      <th></th>\n",
       "      <th></th>\n",
       "      <th></th>\n",
       "    </tr>\n",
       "  </thead>\n",
       "  <tbody>\n",
       "    <tr>\n",
       "      <th>majority</th>\n",
       "      <td>0.202949</td>\n",
       "      <td>0.535602</td>\n",
       "      <td>0.246707</td>\n",
       "      <td>0.140957</td>\n",
       "      <td>0.916542</td>\n",
       "      <td>0.012254</td>\n",
       "      <td>0.925951</td>\n",
       "      <td>69170.0</td>\n",
       "    </tr>\n",
       "    <tr>\n",
       "      <th>minority</th>\n",
       "      <td>0.190847</td>\n",
       "      <td>0.528196</td>\n",
       "      <td>0.215964</td>\n",
       "      <td>0.121561</td>\n",
       "      <td>0.910247</td>\n",
       "      <td>0.033361</td>\n",
       "      <td>0.916748</td>\n",
       "      <td>20540.0</td>\n",
       "    </tr>\n",
       "  </tbody>\n",
       "</table>\n",
       "</div>"
      ],
      "text/plain": [
       "          accuracy  balanced accuracy        f1  precision  \\\n",
       "majmin                                                       \n",
       "majority  0.202949           0.535602  0.246707   0.140957   \n",
       "minority  0.190847           0.528196  0.215964   0.121561   \n",
       "\n",
       "          false positive rate  false negative rate  selection rate    count  \n",
       "majmin                                                                       \n",
       "majority             0.916542             0.012254        0.925951  69170.0  \n",
       "minority             0.910247             0.033361        0.916748  20540.0  "
      ]
     },
     "execution_count": 62,
     "metadata": {},
     "output_type": "execute_result"
    }
   ],
   "source": [
    "metric_frame.by_group"
   ]
  },
  {
   "cell_type": "code",
   "execution_count": 63,
   "id": "a9ddbe63",
   "metadata": {
    "execution": {
     "iopub.execute_input": "2025-08-05T15:24:09.939832Z",
     "iopub.status.busy": "2025-08-05T15:24:09.939065Z",
     "iopub.status.idle": "2025-08-05T15:24:12.236820Z",
     "shell.execute_reply": "2025-08-05T15:24:12.235612Z"
    },
    "papermill": {
     "duration": 2.322645,
     "end_time": "2025-08-05T15:24:12.239037",
     "exception": false,
     "start_time": "2025-08-05T15:24:09.916392",
     "status": "completed"
    },
    "tags": []
   },
   "outputs": [
    {
     "data": {
      "text/plain": [
       "array([[<Axes: title={'center': 'accuracy'}, xlabel='majmin'>,\n",
       "        <Axes: title={'center': 'balanced accuracy'}, xlabel='majmin'>,\n",
       "        <Axes: title={'center': 'f1'}, xlabel='majmin'>],\n",
       "       [<Axes: title={'center': 'precision'}, xlabel='majmin'>,\n",
       "        <Axes: title={'center': 'false positive rate'}, xlabel='majmin'>,\n",
       "        <Axes: title={'center': 'false negative rate'}, xlabel='majmin'>],\n",
       "       [<Axes: title={'center': 'selection rate'}, xlabel='majmin'>,\n",
       "        <Axes: title={'center': 'count'}, xlabel='majmin'>,\n",
       "        <Axes: xlabel='majmin'>]], dtype=object)"
      ]
     },
     "execution_count": 63,
     "metadata": {},
     "output_type": "execute_result"
    },
    {
     "data": {
      "image/png": "[encoded data removed]",
      "text/plain": [
       "<Figure size 1200x800 with 9 Axes>"
      ]
     },
     "metadata": {},
     "output_type": "display_data"
    }
   ],
   "source": [
    "# In a graphic\n",
    "metric_frame.by_group.plot.bar(\n",
    "    subplots=True,\n",
    "    layout=[3, 3],\n",
    "    legend=False,\n",
    "    figsize=[12, 8],\n",
    "    title=\"Show all metrics\",\n",
    ")"
   ]
  },
  {
   "cell_type": "markdown",
   "id": "f57a0bac",
   "metadata": {
    "papermill": {
     "duration": 0.024567,
     "end_time": "2025-08-05T15:24:12.288292",
     "exception": false,
     "start_time": "2025-08-05T15:24:12.263725",
     "status": "completed"
    },
    "tags": []
   },
   "source": [
    "# Final Output"
   ]
  },
  {
   "cell_type": "code",
   "execution_count": 64,
   "id": "96d280a3",
   "metadata": {
    "execution": {
     "iopub.execute_input": "2025-08-05T15:24:12.337235Z",
     "iopub.status.busy": "2025-08-05T15:24:12.336391Z",
     "iopub.status.idle": "2025-08-05T15:24:12.346950Z",
     "shell.execute_reply": "2025-08-05T15:24:12.345966Z"
    },
    "papermill": {
     "duration": 0.037442,
     "end_time": "2025-08-05T15:24:12.348513",
     "exception": false,
     "start_time": "2025-08-05T15:24:12.311071",
     "status": "completed"
    },
    "tags": []
   },
   "outputs": [
    {
     "data": {
      "text/plain": [
       "4"
      ]
     },
     "execution_count": 64,
     "metadata": {},
     "output_type": "execute_result"
    }
   ],
   "source": [
    "sub_universes = universe_analysis.generate_sub_universes()\n",
    "len(sub_universes)"
   ]
  },
  {
   "cell_type": "code",
   "execution_count": 65,
   "id": "92adf7ba",
   "metadata": {
    "execution": {
     "iopub.execute_input": "2025-08-05T15:24:12.402380Z",
     "iopub.status.busy": "2025-08-05T15:24:12.401579Z",
     "iopub.status.idle": "2025-08-05T15:24:12.407815Z",
     "shell.execute_reply": "2025-08-05T15:24:12.406875Z"
    },
    "papermill": {
     "duration": 0.034966,
     "end_time": "2025-08-05T15:24:12.409621",
     "exception": false,
     "start_time": "2025-08-05T15:24:12.374655",
     "status": "completed"
    },
    "tags": []
   },
   "outputs": [],
   "source": [
    "def filter_sub_universe_data(sub_universe, org_test):\n",
    "    # Keep all rows — no filtering\n",
    "    keep_rows_mask = np.ones(org_test.shape[0], dtype=bool)\n",
    "\n",
    "    print(f\"[INFO] Keeping all rows: {keep_rows_mask.sum()} rows retained.\")\n",
    "    return keep_rows_mask"
   ]
  },
  {
   "cell_type": "code",
   "execution_count": 66,
   "id": "4a759155",
   "metadata": {
    "execution": {
     "iopub.execute_input": "2025-08-05T15:24:12.462031Z",
     "iopub.status.busy": "2025-08-05T15:24:12.461334Z",
     "iopub.status.idle": "2025-08-05T15:24:22.081098Z",
     "shell.execute_reply": "2025-08-05T15:24:22.080166Z"
    },
    "papermill": {
     "duration": 9.648518,
     "end_time": "2025-08-05T15:24:22.082754",
     "exception": false,
     "start_time": "2025-08-05T15:24:12.434236",
     "status": "completed"
    },
    "tags": []
   },
   "outputs": [
    {
     "name": "stdout",
     "output_type": "stream",
     "text": [
      "Stopping execution_time clock.\n",
      "[INFO] Keeping all rows: 89710 rows retained.\n"
     ]
    },
    {
     "name": "stdout",
     "output_type": "stream",
     "text": [
      "[INFO] Keeping all rows: 89710 rows retained.\n"
     ]
    },
    {
     "name": "stdout",
     "output_type": "stream",
     "text": [
      "[INFO] Keeping all rows: 89710 rows retained.\n"
     ]
    },
    {
     "name": "stdout",
     "output_type": "stream",
     "text": [
      "[INFO] Keeping all rows: 89710 rows retained.\n"
     ]
    },
    {
     "data": {
      "text/html": [
       "<div>\n",
       "<style scoped>\n",
       "    .dataframe tbody tr th:only-of-type {\n",
       "        vertical-align: middle;\n",
       "    }\n",
       "\n",
       "    .dataframe tbody tr th {\n",
       "        vertical-align: top;\n",
       "    }\n",
       "\n",
       "    .dataframe thead th {\n",
       "        text-align: right;\n",
       "    }\n",
       "</style>\n",
       "<table border=\"1\" class=\"dataframe\">\n",
       "  <thead>\n",
       "    <tr style=\"text-align: right;\">\n",
       "      <th></th>\n",
       "      <th>run_no</th>\n",
       "      <th>universe_id</th>\n",
       "      <th>universe_settings</th>\n",
       "      <th>execution_time</th>\n",
       "      <th>test_size_n</th>\n",
       "      <th>test_size_frac</th>\n",
       "      <th>fair_main_equalized_odds_difference</th>\n",
       "      <th>fair_main_equalized_odds_ratio</th>\n",
       "      <th>fair_main_demographic_parity_difference</th>\n",
       "      <th>fair_main_demographic_parity_ratio</th>\n",
       "      <th>...</th>\n",
       "      <th>perf_grp_precision_0</th>\n",
       "      <th>perf_grp_precision_1</th>\n",
       "      <th>perf_grp_false positive rate_0</th>\n",
       "      <th>perf_grp_false positive rate_1</th>\n",
       "      <th>perf_grp_false negative rate_0</th>\n",
       "      <th>perf_grp_false negative rate_1</th>\n",
       "      <th>perf_grp_selection rate_0</th>\n",
       "      <th>perf_grp_selection rate_1</th>\n",
       "      <th>perf_grp_count_0</th>\n",
       "      <th>perf_grp_count_1</th>\n",
       "    </tr>\n",
       "  </thead>\n",
       "  <tbody>\n",
       "    <tr>\n",
       "      <th>0</th>\n",
       "      <td>15</td>\n",
       "      <td>29a35737d5b879291748b5ba3f98e2b9</td>\n",
       "      <td>{\"cutoff\": \"quantile_0.1\", \"eval_fairness_grou...</td>\n",
       "      <td>34.103578</td>\n",
       "      <td>89710</td>\n",
       "      <td>1.0</td>\n",
       "      <td>0.021108</td>\n",
       "      <td>0.978630</td>\n",
       "      <td>0.009203</td>\n",
       "      <td>0.990061</td>\n",
       "      <td>...</td>\n",
       "      <td>NaN</td>\n",
       "      <td>NaN</td>\n",
       "      <td>NaN</td>\n",
       "      <td>NaN</td>\n",
       "      <td>NaN</td>\n",
       "      <td>NaN</td>\n",
       "      <td>NaN</td>\n",
       "      <td>NaN</td>\n",
       "      <td>NaN</td>\n",
       "      <td>NaN</td>\n",
       "    </tr>\n",
       "    <tr>\n",
       "      <th>0</th>\n",
       "      <td>15</td>\n",
       "      <td>29a35737d5b879291748b5ba3f98e2b9</td>\n",
       "      <td>{\"cutoff\": \"quantile_0.1\", \"eval_fairness_grou...</td>\n",
       "      <td>34.103578</td>\n",
       "      <td>89710</td>\n",
       "      <td>1.0</td>\n",
       "      <td>0.021108</td>\n",
       "      <td>0.978630</td>\n",
       "      <td>0.009203</td>\n",
       "      <td>0.990061</td>\n",
       "      <td>...</td>\n",
       "      <td>0.121561</td>\n",
       "      <td>0.140957</td>\n",
       "      <td>0.910247</td>\n",
       "      <td>0.916542</td>\n",
       "      <td>0.033361</td>\n",
       "      <td>0.012254</td>\n",
       "      <td>0.916748</td>\n",
       "      <td>0.925951</td>\n",
       "      <td>20540.0</td>\n",
       "      <td>69170.0</td>\n",
       "    </tr>\n",
       "    <tr>\n",
       "      <th>0</th>\n",
       "      <td>15</td>\n",
       "      <td>29a35737d5b879291748b5ba3f98e2b9</td>\n",
       "      <td>{\"cutoff\": \"quantile_0.25\", \"eval_fairness_gro...</td>\n",
       "      <td>34.103578</td>\n",
       "      <td>89710</td>\n",
       "      <td>1.0</td>\n",
       "      <td>0.065635</td>\n",
       "      <td>0.930535</td>\n",
       "      <td>0.012119</td>\n",
       "      <td>0.983984</td>\n",
       "      <td>...</td>\n",
       "      <td>NaN</td>\n",
       "      <td>NaN</td>\n",
       "      <td>NaN</td>\n",
       "      <td>NaN</td>\n",
       "      <td>NaN</td>\n",
       "      <td>NaN</td>\n",
       "      <td>NaN</td>\n",
       "      <td>NaN</td>\n",
       "      <td>NaN</td>\n",
       "      <td>NaN</td>\n",
       "    </tr>\n",
       "    <tr>\n",
       "      <th>0</th>\n",
       "      <td>15</td>\n",
       "      <td>29a35737d5b879291748b5ba3f98e2b9</td>\n",
       "      <td>{\"cutoff\": \"quantile_0.25\", \"eval_fairness_gro...</td>\n",
       "      <td>34.103578</td>\n",
       "      <td>89710</td>\n",
       "      <td>1.0</td>\n",
       "      <td>0.065635</td>\n",
       "      <td>0.930535</td>\n",
       "      <td>0.012119</td>\n",
       "      <td>0.983984</td>\n",
       "      <td>...</td>\n",
       "      <td>0.136132</td>\n",
       "      <td>0.164992</td>\n",
       "      <td>0.727053</td>\n",
       "      <td>0.728069</td>\n",
       "      <td>0.120777</td>\n",
       "      <td>0.055142</td>\n",
       "      <td>0.744596</td>\n",
       "      <td>0.756715</td>\n",
       "      <td>20540.0</td>\n",
       "      <td>69170.0</td>\n",
       "    </tr>\n",
       "  </tbody>\n",
       "</table>\n",
       "<p>4 rows × 50 columns</p>\n",
       "</div>"
      ],
      "text/plain": [
       "  run_no                       universe_id  \\\n",
       "0     15  29a35737d5b879291748b5ba3f98e2b9   \n",
       "0     15  29a35737d5b879291748b5ba3f98e2b9   \n",
       "0     15  29a35737d5b879291748b5ba3f98e2b9   \n",
       "0     15  29a35737d5b879291748b5ba3f98e2b9   \n",
       "\n",
       "                                   universe_settings  execution_time  \\\n",
       "0  {\"cutoff\": \"quantile_0.1\", \"eval_fairness_grou...       34.103578   \n",
       "0  {\"cutoff\": \"quantile_0.1\", \"eval_fairness_grou...       34.103578   \n",
       "0  {\"cutoff\": \"quantile_0.25\", \"eval_fairness_gro...       34.103578   \n",
       "0  {\"cutoff\": \"quantile_0.25\", \"eval_fairness_gro...       34.103578   \n",
       "\n",
       "   test_size_n  test_size_frac  fair_main_equalized_odds_difference  \\\n",
       "0        89710             1.0                             0.021108   \n",
       "0        89710             1.0                             0.021108   \n",
       "0        89710             1.0                             0.065635   \n",
       "0        89710             1.0                             0.065635   \n",
       "\n",
       "   fair_main_equalized_odds_ratio  fair_main_demographic_parity_difference  \\\n",
       "0                        0.978630                                 0.009203   \n",
       "0                        0.978630                                 0.009203   \n",
       "0                        0.930535                                 0.012119   \n",
       "0                        0.930535                                 0.012119   \n",
       "\n",
       "   fair_main_demographic_parity_ratio  ...  perf_grp_precision_0  \\\n",
       "0                            0.990061  ...                   NaN   \n",
       "0                            0.990061  ...              0.121561   \n",
       "0                            0.983984  ...                   NaN   \n",
       "0                            0.983984  ...              0.136132   \n",
       "\n",
       "   perf_grp_precision_1  perf_grp_false positive rate_0  \\\n",
       "0                   NaN                             NaN   \n",
       "0              0.140957                        0.910247   \n",
       "0                   NaN                             NaN   \n",
       "0              0.164992                        0.727053   \n",
       "\n",
       "   perf_grp_false positive rate_1  perf_grp_false negative rate_0  \\\n",
       "0                             NaN                             NaN   \n",
       "0                        0.916542                        0.033361   \n",
       "0                             NaN                             NaN   \n",
       "0                        0.728069                        0.120777   \n",
       "\n",
       "   perf_grp_false negative rate_1  perf_grp_selection rate_0  \\\n",
       "0                             NaN                        NaN   \n",
       "0                        0.012254                   0.916748   \n",
       "0                             NaN                        NaN   \n",
       "0                        0.055142                   0.744596   \n",
       "\n",
       "   perf_grp_selection rate_1  perf_grp_count_0  perf_grp_count_1  \n",
       "0                        NaN               NaN               NaN  \n",
       "0                   0.925951           20540.0           69170.0  \n",
       "0                        NaN               NaN               NaN  \n",
       "0                   0.756715           20540.0           69170.0  \n",
       "\n",
       "[4 rows x 50 columns]"
      ]
     },
     "execution_count": 66,
     "metadata": {},
     "output_type": "execute_result"
    }
   ],
   "source": [
    "final_output = universe_analysis.generate_final_output(\n",
    "    y_pred_prob=probs_test,\n",
    "    y_test=y_true,\n",
    "    org_test=org_test,\n",
    "    filter_data=filter_sub_universe_data,\n",
    "    cp_metrics_df=cp_metrics_df,\n",
    "    save=True,\n",
    ")\n",
    "final_output"
   ]
  }
 ],
 "metadata": {
  "celltoolbar": "Tags",
  "kernelspec": {
   "display_name": "Python (CMA Fairness)",
   "language": "python",
   "name": "cma_fair_env"
  },
  "language_info": {
   "codemirror_mode": {
    "name": "ipython",
    "version": 3
   },
   "file_extension": ".py",
   "mimetype": "text/x-python",
   "name": "python",
   "nbconvert_exporter": "python",
   "pygments_lexer": "ipython3",
   "version": "3.10.12"
  },
  "papermill": {
   "default_parameters": {},
   "duration": 47.782373,
   "end_time": "2025-08-05T15:24:22.931787",
   "environment_variables": {},
   "exception": null,
   "input_path": "universe_analysis.ipynb",
   "output_path": "output/runs/15/notebooks/m_15-29a35737d5b879291748b5ba3f98e2b9.ipynb",
   "parameters": {
    "output_dir": "output",
    "run_no": "15",
    "seed": "2023",
    "universe": "{\"cutoff\": [\"quantile_0.1\", \"quantile_0.25\"], \"eval_fairness_grouping\": [\"majority-minority\", \"nationality-all\"], \"exclude_features\": \"nationality-sex\", \"exclude_subgroups\": \"drop-non-german\", \"model\": \"rf\", \"scale\": \"scale\", \"training_size\": \"5k\", \"training_year\": \"2014\"}",
    "universe_id": "29a35737d5b879291748b5ba3f98e2b9"
   },
   "start_time": "2025-08-05T15:23:35.149414",
   "version": "2.6.0"
  }
 },
 "nbformat": 4,
 "nbformat_minor": 5
}