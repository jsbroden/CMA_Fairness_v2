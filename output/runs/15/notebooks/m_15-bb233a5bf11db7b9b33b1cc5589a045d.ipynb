{
 "cells": [
  {
   "cell_type": "code",
   "execution_count": 1,
   "id": "f159f837-637b-42ba-96b5-ec9a68c44524",
   "metadata": {
    "execution": {
     "iopub.execute_input": "2025-08-05T16:38:11.832702Z",
     "iopub.status.busy": "2025-08-05T16:38:11.831854Z",
     "iopub.status.idle": "2025-08-05T16:38:11.845508Z",
     "shell.execute_reply": "2025-08-05T16:38:11.844610Z"
    },
    "papermill": {
     "duration": 0.035436,
     "end_time": "2025-08-05T16:38:11.847397",
     "exception": false,
     "start_time": "2025-08-05T16:38:11.811961",
     "status": "completed"
    },
    "tags": []
   },
   "outputs": [
    {
     "name": "stdout",
     "output_type": "stream",
     "text": [
      "/dss/dsshome1/0C/ra93lal2/cma/CMA_Fairness_v2\n"
     ]
    },
    {
     "name": "stderr",
     "output_type": "stream",
     "text": [
      "/dss/dsshome1/0C/ra93lal2/.local/share/virtualenvs/CMA_Fairness_v2-3j10GkSs/lib/python3.10/site-packages/IPython/core/magics/osm.py:393: UserWarning: This is now an optional IPython functionality, using bookmarks requires you to install the `pickleshare` library.\n",
      "  bkms = self.shell.db.get('bookmarks', {})\n",
      "/dss/dsshome1/0C/ra93lal2/.local/share/virtualenvs/CMA_Fairness_v2-3j10GkSs/lib/python3.10/site-packages/IPython/core/magics/osm.py:417: UserWarning: This is now an optional IPython functionality, setting dhist requires you to install the `pickleshare` library.\n",
      "  self.shell.db['dhist'] = compress_dhist(dhist)[-100:]\n"
     ]
    }
   ],
   "source": [
    "%cd ~/cma/CMA_Fairness_v2"
   ]
  },
  {
   "cell_type": "markdown",
   "id": "de2603b9",
   "metadata": {
    "papermill": {
     "duration": 0.021842,
     "end_time": "2025-08-05T16:38:11.891543",
     "exception": false,
     "start_time": "2025-08-05T16:38:11.869701",
     "status": "completed"
    },
    "tags": []
   },
   "source": [
    "The following cell holds the definition of our parameters, these values can be overriden by rendering the with e.g. the following command:\n",
    "\n",
    "papermill -p alpha 0.2 -p ratio 0.3 universe_analysis.ipynb output/test_run.ipynb"
   ]
  },
  {
   "cell_type": "code",
   "execution_count": 2,
   "id": "a80968a0-40bb-4fa9-85ef-2d5eefb01975",
   "metadata": {
    "execution": {
     "iopub.execute_input": "2025-08-05T16:38:11.929083Z",
     "iopub.status.busy": "2025-08-05T16:38:11.928593Z",
     "iopub.status.idle": "2025-08-05T16:38:11.934373Z",
     "shell.execute_reply": "2025-08-05T16:38:11.933473Z"
    },
    "papermill": {
     "duration": 0.024523,
     "end_time": "2025-08-05T16:38:11.936200",
     "exception": false,
     "start_time": "2025-08-05T16:38:11.911677",
     "status": "completed"
    },
    "tags": []
   },
   "outputs": [
    {
     "name": "stdout",
     "output_type": "stream",
     "text": [
      "Current working directory: /dss/dsshome1/0C/ra93lal2/cma/CMA_Fairness_v2\n"
     ]
    }
   ],
   "source": [
    "import os\n",
    "print(\"Current working directory:\", os.getcwd())"
   ]
  },
  {
   "cell_type": "code",
   "execution_count": 3,
   "id": "2dce4c03",
   "metadata": {
    "execution": {
     "iopub.execute_input": "2025-08-05T16:38:11.968813Z",
     "iopub.status.busy": "2025-08-05T16:38:11.968104Z",
     "iopub.status.idle": "2025-08-05T16:38:11.974753Z",
     "shell.execute_reply": "2025-08-05T16:38:11.973817Z"
    },
    "papermill": {
     "duration": 0.024274,
     "end_time": "2025-08-05T16:38:11.976434",
     "exception": false,
     "start_time": "2025-08-05T16:38:11.952160",
     "status": "completed"
    },
    "tags": [
     "parameters"
    ]
   },
   "outputs": [],
   "source": [
    "run_no = 0\n",
    "universe_id = \"test\"\n",
    "universe = {\n",
    "    \"training_size\": \"25k\", # \"25k\", \"5k\", \"1k\"\n",
    "    \"training_year\": \"2014\", # \"2014\", \"2012_14\", \"2010_14\"\n",
    "    \"scale\": \"scale\", # \"scale\", \"do-not-scale\",\n",
    "    \"model\": \"elasticnet\", # \"logreg\", \"penalized_logreg\", \"rf\", \"gbm\", \"elasticnet\"\n",
    "    \"cutoff\": [\"quantile_0.15\", \"quantile_0.30\"],\n",
    "    \"exclude_features\": \"age\", # \"none\", \"nationality\", \"sex\", \"nationality-sex\", \"age\"\n",
    "    \"exclude_subgroups\": \"keep-all\", # \"keep-all\", \"drop-non-german\"\n",
    "    \"eval_fairness_grouping\": [\"majority-minority\", \"nationality-all\"]\n",
    "}\n",
    "\n",
    "output_dir=\"./output\"\n",
    "seed=0"
   ]
  },
  {
   "cell_type": "code",
   "execution_count": 4,
   "id": "cd1ff9ad",
   "metadata": {
    "execution": {
     "iopub.execute_input": "2025-08-05T16:38:12.008903Z",
     "iopub.status.busy": "2025-08-05T16:38:12.008212Z",
     "iopub.status.idle": "2025-08-05T16:38:12.013867Z",
     "shell.execute_reply": "2025-08-05T16:38:12.012885Z"
    },
    "papermill": {
     "duration": 0.023431,
     "end_time": "2025-08-05T16:38:12.015545",
     "exception": false,
     "start_time": "2025-08-05T16:38:11.992114",
     "status": "completed"
    },
    "tags": [
     "injected-parameters"
    ]
   },
   "outputs": [],
   "source": [
    "# Parameters\n",
    "universe_id = \"bb233a5bf11db7b9b33b1cc5589a045d\"\n",
    "run_no = \"15\"\n",
    "universe = \"{\\\"cutoff\\\": [\\\"quantile_0.1\\\", \\\"quantile_0.25\\\"], \\\"eval_fairness_grouping\\\": [\\\"majority-minority\\\", \\\"nationality-all\\\"], \\\"exclude_features\\\": \\\"age\\\", \\\"exclude_subgroups\\\": \\\"keep-all\\\", \\\"model\\\": \\\"elasticnet\\\", \\\"scale\\\": \\\"scale\\\", \\\"training_size\\\": \\\"1k\\\", \\\"training_year\\\": \\\"2010_14\\\"}\"\n",
    "output_dir = \"output\"\n",
    "seed = \"2023\"\n"
   ]
  },
  {
   "cell_type": "code",
   "execution_count": 5,
   "id": "1650acaf",
   "metadata": {
    "execution": {
     "iopub.execute_input": "2025-08-05T16:38:12.047357Z",
     "iopub.status.busy": "2025-08-05T16:38:12.046753Z",
     "iopub.status.idle": "2025-08-05T16:38:12.053366Z",
     "shell.execute_reply": "2025-08-05T16:38:12.052400Z"
    },
    "papermill": {
     "duration": 0.02415,
     "end_time": "2025-08-05T16:38:12.055282",
     "exception": false,
     "start_time": "2025-08-05T16:38:12.031132",
     "status": "completed"
    },
    "tags": []
   },
   "outputs": [],
   "source": [
    "import json\n",
    "if isinstance(universe, str):\n",
    "    universe = json.loads(universe)"
   ]
  },
  {
   "cell_type": "code",
   "execution_count": 6,
   "id": "16620c48",
   "metadata": {
    "execution": {
     "iopub.execute_input": "2025-08-05T16:38:12.086452Z",
     "iopub.status.busy": "2025-08-05T16:38:12.086087Z",
     "iopub.status.idle": "2025-08-05T16:38:12.128677Z",
     "shell.execute_reply": "2025-08-05T16:38:12.127876Z"
    },
    "papermill": {
     "duration": 0.059731,
     "end_time": "2025-08-05T16:38:12.130228",
     "exception": false,
     "start_time": "2025-08-05T16:38:12.070497",
     "status": "completed"
    },
    "tags": []
   },
   "outputs": [],
   "source": [
    "# Auto-reload the custom package\n",
    "%load_ext autoreload\n",
    "%autoreload 1\n",
    "%aimport fairness_multiverse"
   ]
  },
  {
   "cell_type": "code",
   "execution_count": 7,
   "id": "01c5c9f3",
   "metadata": {
    "execution": {
     "iopub.execute_input": "2025-08-05T16:38:12.163588Z",
     "iopub.status.busy": "2025-08-05T16:38:12.162857Z",
     "iopub.status.idle": "2025-08-05T16:38:14.108624Z",
     "shell.execute_reply": "2025-08-05T16:38:14.107668Z"
    },
    "papermill": {
     "duration": 1.964129,
     "end_time": "2025-08-05T16:38:14.110496",
     "exception": false,
     "start_time": "2025-08-05T16:38:12.146367",
     "status": "completed"
    },
    "tags": []
   },
   "outputs": [],
   "source": [
    "from fairness_multiverse.universe import UniverseAnalysis\n",
    "\n",
    "universe_analysis = UniverseAnalysis(\n",
    "    run_no = run_no,\n",
    "    universe_id = universe_id,\n",
    "    universe = universe,\n",
    "    output_dir=output_dir,\n",
    ")"
   ]
  },
  {
   "cell_type": "code",
   "execution_count": 8,
   "id": "106241f5",
   "metadata": {
    "execution": {
     "iopub.execute_input": "2025-08-05T16:38:14.145257Z",
     "iopub.status.busy": "2025-08-05T16:38:14.144468Z",
     "iopub.status.idle": "2025-08-05T16:38:14.153664Z",
     "shell.execute_reply": "2025-08-05T16:38:14.152519Z"
    },
    "papermill": {
     "duration": 0.028412,
     "end_time": "2025-08-05T16:38:14.155594",
     "exception": false,
     "start_time": "2025-08-05T16:38:14.127182",
     "status": "completed"
    },
    "tags": []
   },
   "outputs": [
    {
     "name": "stdout",
     "output_type": "stream",
     "text": [
      "Using Seed: 2023\n"
     ]
    }
   ],
   "source": [
    "import numpy as np\n",
    "parsed_seed = int(seed)\n",
    "np.random.seed(parsed_seed)\n",
    "print(f\"Using Seed: {parsed_seed}\")"
   ]
  },
  {
   "cell_type": "markdown",
   "id": "e0ebdc57",
   "metadata": {
    "papermill": {
     "duration": 0.0161,
     "end_time": "2025-08-05T16:38:14.189551",
     "exception": false,
     "start_time": "2025-08-05T16:38:14.173451",
     "status": "completed"
    },
    "tags": []
   },
   "source": [
    "# Loading Data"
   ]
  },
  {
   "cell_type": "code",
   "execution_count": 9,
   "id": "f0496b8a",
   "metadata": {
    "execution": {
     "iopub.execute_input": "2025-08-05T16:38:14.224074Z",
     "iopub.status.busy": "2025-08-05T16:38:14.223510Z",
     "iopub.status.idle": "2025-08-05T16:38:24.711347Z",
     "shell.execute_reply": "2025-08-05T16:38:24.710482Z"
    },
    "papermill": {
     "duration": 10.507321,
     "end_time": "2025-08-05T16:38:24.713088",
     "exception": false,
     "start_time": "2025-08-05T16:38:14.205767",
     "status": "completed"
    },
    "tags": []
   },
   "outputs": [
    {
     "name": "stdout",
     "output_type": "stream",
     "text": [
      "Loading SIAB data from cache: data/siab_cached.csv.gz\n"
     ]
    },
    {
     "name": "stdout",
     "output_type": "stream",
     "text": [
      "(643690, 164)\n"
     ]
    }
   ],
   "source": [
    "from pathlib import Path\n",
    "import pandas as pd\n",
    "\n",
    "# File paths\n",
    "raw_file = Path(\"data/raw/siab.csv\")\n",
    "cache_file = Path(\"data/siab_cached.csv.gz\")\n",
    "\n",
    "# Ensure cache directory exists\n",
    "cache_file.parent.mkdir(parents=True, exist_ok=True)\n",
    "\n",
    "# Load with simple caching\n",
    "if cache_file.exists():\n",
    "    print(f\"Loading SIAB data from cache: {cache_file}\")\n",
    "    siab = pd.read_csv(cache_file, compression='gzip')\n",
    "else:\n",
    "    print(f\"Cache not found. Reading raw SIAB data: {raw_file}\")\n",
    "    siab = pd.read_csv(raw_file)\n",
    "    siab.to_csv(cache_file, index=False, compression='gzip')\n",
    "    print(f\"Cached SIAB data to: {cache_file}\")\n",
    "\n",
    "print(siab.shape)"
   ]
  },
  {
   "cell_type": "code",
   "execution_count": 10,
   "id": "db0ca512-5f53-4dba-abdb-a2888bca41ba",
   "metadata": {
    "execution": {
     "iopub.execute_input": "2025-08-05T16:38:24.748475Z",
     "iopub.status.busy": "2025-08-05T16:38:24.748111Z",
     "iopub.status.idle": "2025-08-05T16:38:24.752842Z",
     "shell.execute_reply": "2025-08-05T16:38:24.752038Z"
    },
    "papermill": {
     "duration": 0.018852,
     "end_time": "2025-08-05T16:38:24.754206",
     "exception": false,
     "start_time": "2025-08-05T16:38:24.735354",
     "status": "completed"
    },
    "tags": []
   },
   "outputs": [],
   "source": [
    "#siab"
   ]
  },
  {
   "cell_type": "markdown",
   "id": "997051c5-15bd-4b69-9786-c3001a3ce484",
   "metadata": {
    "papermill": {
     "duration": 0.009035,
     "end_time": "2025-08-05T16:38:24.772862",
     "exception": false,
     "start_time": "2025-08-05T16:38:24.763827",
     "status": "completed"
    },
    "tags": []
   },
   "source": [
    "# Splitting Data and Setting Training Data Size"
   ]
  },
  {
   "cell_type": "code",
   "execution_count": 11,
   "id": "aea9c6ef-6f46-42c8-85eb-5a62025c1508",
   "metadata": {
    "execution": {
     "iopub.execute_input": "2025-08-05T16:38:24.792851Z",
     "iopub.status.busy": "2025-08-05T16:38:24.792203Z",
     "iopub.status.idle": "2025-08-05T16:38:25.770123Z",
     "shell.execute_reply": "2025-08-05T16:38:25.768921Z"
    },
    "papermill": {
     "duration": 0.990504,
     "end_time": "2025-08-05T16:38:25.771840",
     "exception": false,
     "start_time": "2025-08-05T16:38:24.781336",
     "status": "completed"
    },
    "tags": []
   },
   "outputs": [],
   "source": [
    "from fairness_multiverse.universe import sample_by_year_size\n",
    "\n",
    "siab_train = sample_by_year_size(siab,\n",
    "                               training_year=universe[\"training_year\"],\n",
    "                               training_size=universe[\"training_size\"])"
   ]
  },
  {
   "cell_type": "code",
   "execution_count": 12,
   "id": "8d3afb32-789d-442c-8d5d-9f5aa8dd2eed",
   "metadata": {
    "execution": {
     "iopub.execute_input": "2025-08-05T16:38:25.811782Z",
     "iopub.status.busy": "2025-08-05T16:38:25.810965Z",
     "iopub.status.idle": "2025-08-05T16:38:25.816431Z",
     "shell.execute_reply": "2025-08-05T16:38:25.815334Z"
    },
    "papermill": {
     "duration": 0.027009,
     "end_time": "2025-08-05T16:38:25.818233",
     "exception": false,
     "start_time": "2025-08-05T16:38:25.791224",
     "status": "completed"
    },
    "tags": []
   },
   "outputs": [],
   "source": [
    "#siab_train.shape"
   ]
  },
  {
   "cell_type": "code",
   "execution_count": 13,
   "id": "d582db68-1a4c-47fb-84fc-08518dc1975a",
   "metadata": {
    "execution": {
     "iopub.execute_input": "2025-08-05T16:38:25.857926Z",
     "iopub.status.busy": "2025-08-05T16:38:25.857146Z",
     "iopub.status.idle": "2025-08-05T16:38:25.862449Z",
     "shell.execute_reply": "2025-08-05T16:38:25.861484Z"
    },
    "papermill": {
     "duration": 0.026727,
     "end_time": "2025-08-05T16:38:25.864272",
     "exception": false,
     "start_time": "2025-08-05T16:38:25.837545",
     "status": "completed"
    },
    "tags": []
   },
   "outputs": [],
   "source": [
    "#display(siab_train.groupby(\"year\").size())"
   ]
  },
  {
   "cell_type": "code",
   "execution_count": 14,
   "id": "a561edb4-d032-42cb-8256-22eac1111c64",
   "metadata": {
    "execution": {
     "iopub.execute_input": "2025-08-05T16:38:25.903991Z",
     "iopub.status.busy": "2025-08-05T16:38:25.903234Z",
     "iopub.status.idle": "2025-08-05T16:38:26.171613Z",
     "shell.execute_reply": "2025-08-05T16:38:26.170561Z"
    },
    "papermill": {
     "duration": 0.289965,
     "end_time": "2025-08-05T16:38:26.173596",
     "exception": false,
     "start_time": "2025-08-05T16:38:25.883631",
     "status": "completed"
    },
    "tags": []
   },
   "outputs": [],
   "source": [
    "#siab_train = siab_s[siab_s.year < 2015]\n",
    "siab_calib = siab[siab.year == 2015]\n",
    "siab_test = siab[siab.year == 2016]"
   ]
  },
  {
   "cell_type": "code",
   "execution_count": 15,
   "id": "472de16f-c3db-4916-846b-1f0de9cf1746",
   "metadata": {
    "execution": {
     "iopub.execute_input": "2025-08-05T16:38:26.217034Z",
     "iopub.status.busy": "2025-08-05T16:38:26.216155Z",
     "iopub.status.idle": "2025-08-05T16:38:26.223923Z",
     "shell.execute_reply": "2025-08-05T16:38:26.222913Z"
    },
    "papermill": {
     "duration": 0.030605,
     "end_time": "2025-08-05T16:38:26.226115",
     "exception": false,
     "start_time": "2025-08-05T16:38:26.195510",
     "status": "completed"
    },
    "tags": []
   },
   "outputs": [],
   "source": [
    "X_train = siab_train.iloc[:,4:164]\n",
    "y_train = siab_train.iloc[:, [3]]"
   ]
  },
  {
   "cell_type": "code",
   "execution_count": 16,
   "id": "828c96af-f43a-4ed6-ba47-8ac73a47d56c",
   "metadata": {
    "execution": {
     "iopub.execute_input": "2025-08-05T16:38:26.268170Z",
     "iopub.status.busy": "2025-08-05T16:38:26.267461Z",
     "iopub.status.idle": "2025-08-05T16:38:26.320514Z",
     "shell.execute_reply": "2025-08-05T16:38:26.319313Z"
    },
    "papermill": {
     "duration": 0.075477,
     "end_time": "2025-08-05T16:38:26.322446",
     "exception": false,
     "start_time": "2025-08-05T16:38:26.246969",
     "status": "completed"
    },
    "tags": []
   },
   "outputs": [],
   "source": [
    "X_calib = siab_calib.iloc[:,4:164]\n",
    "y_calib = siab_calib.iloc[:, [3]]"
   ]
  },
  {
   "cell_type": "code",
   "execution_count": 17,
   "id": "c34be9c3-6bd6-476e-acd3-845840e303be",
   "metadata": {
    "execution": {
     "iopub.execute_input": "2025-08-05T16:38:26.366125Z",
     "iopub.status.busy": "2025-08-05T16:38:26.365389Z",
     "iopub.status.idle": "2025-08-05T16:38:26.419141Z",
     "shell.execute_reply": "2025-08-05T16:38:26.417991Z"
    },
    "papermill": {
     "duration": 0.076972,
     "end_time": "2025-08-05T16:38:26.421593",
     "exception": false,
     "start_time": "2025-08-05T16:38:26.344621",
     "status": "completed"
    },
    "tags": []
   },
   "outputs": [],
   "source": [
    "X_test = siab_test.iloc[:,4:164]\n",
    "y_true = siab_test.iloc[:, [3]]"
   ]
  },
  {
   "cell_type": "code",
   "execution_count": 18,
   "id": "e6c733c5",
   "metadata": {
    "execution": {
     "iopub.execute_input": "2025-08-05T16:38:26.463469Z",
     "iopub.status.busy": "2025-08-05T16:38:26.462495Z",
     "iopub.status.idle": "2025-08-05T16:38:26.558066Z",
     "shell.execute_reply": "2025-08-05T16:38:26.556991Z"
    },
    "papermill": {
     "duration": 0.11799,
     "end_time": "2025-08-05T16:38:26.560173",
     "exception": false,
     "start_time": "2025-08-05T16:38:26.442183",
     "status": "completed"
    },
    "tags": []
   },
   "outputs": [],
   "source": [
    "# Auxiliary data needed downstream in the pipeline\n",
    "\n",
    "org_train = X_train.copy()\n",
    "org_test = X_test.copy()\n",
    "org_calib = X_calib.copy()"
   ]
  },
  {
   "cell_type": "markdown",
   "id": "0a4a1b33",
   "metadata": {
    "papermill": {
     "duration": 0.019324,
     "end_time": "2025-08-05T16:38:26.600352",
     "exception": false,
     "start_time": "2025-08-05T16:38:26.581028",
     "status": "completed"
    },
    "tags": []
   },
   "source": [
    "# Preprocessing Data"
   ]
  },
  {
   "cell_type": "code",
   "execution_count": 19,
   "id": "ca879031",
   "metadata": {
    "execution": {
     "iopub.execute_input": "2025-08-05T16:38:26.641659Z",
     "iopub.status.busy": "2025-08-05T16:38:26.640922Z",
     "iopub.status.idle": "2025-08-05T16:38:26.647644Z",
     "shell.execute_reply": "2025-08-05T16:38:26.646490Z"
    },
    "papermill": {
     "duration": 0.03005,
     "end_time": "2025-08-05T16:38:26.649485",
     "exception": false,
     "start_time": "2025-08-05T16:38:26.619435",
     "status": "completed"
    },
    "tags": []
   },
   "outputs": [],
   "source": [
    "# EXCLUDE PROTECTED FEATURES\n",
    "# ----------------------\n",
    "# \"exclude_features\": \"none\", # \"nationality\", \"sex\", \"nationality-sex\"\n",
    "\n",
    "excluded_features = universe[\"exclude_features\"].split(\"-\") # split, e.g.: \"nationality-sex\" -> [\"nationality\", \"sex\"]\n",
    "excluded_features_dictionary = {\n",
    "    \"nationality\": [\"maxdeutsch1\", \"maxdeutsch.Missing.\"],\n",
    "    \"sex\": [\"frau1\"],\n",
    "    \"age\": [\"age\"],\n",
    "}"
   ]
  },
  {
   "cell_type": "code",
   "execution_count": 20,
   "id": "b745ac60",
   "metadata": {
    "execution": {
     "iopub.execute_input": "2025-08-05T16:38:26.691276Z",
     "iopub.status.busy": "2025-08-05T16:38:26.690546Z",
     "iopub.status.idle": "2025-08-05T16:38:26.696962Z",
     "shell.execute_reply": "2025-08-05T16:38:26.695941Z"
    },
    "papermill": {
     "duration": 0.0291,
     "end_time": "2025-08-05T16:38:26.698975",
     "exception": false,
     "start_time": "2025-08-05T16:38:26.669875",
     "status": "completed"
    },
    "tags": []
   },
   "outputs": [],
   "source": [
    "# Code nice names to column names\n",
    "\n",
    "excluded_features_columns = [\n",
    "    excluded_features_dictionary[f] for f in excluded_features if len(f) > 0 and f != \"none\"\n",
    "]"
   ]
  },
  {
   "cell_type": "code",
   "execution_count": 21,
   "id": "f84f73a2",
   "metadata": {
    "execution": {
     "iopub.execute_input": "2025-08-05T16:38:26.741023Z",
     "iopub.status.busy": "2025-08-05T16:38:26.740293Z",
     "iopub.status.idle": "2025-08-05T16:38:26.748185Z",
     "shell.execute_reply": "2025-08-05T16:38:26.747121Z"
    },
    "papermill": {
     "duration": 0.030271,
     "end_time": "2025-08-05T16:38:26.750130",
     "exception": false,
     "start_time": "2025-08-05T16:38:26.719859",
     "status": "completed"
    },
    "tags": []
   },
   "outputs": [],
   "source": [
    "from utils import flatten_once\n",
    "\n",
    "excluded_features_columns = flatten_once(excluded_features_columns)"
   ]
  },
  {
   "cell_type": "code",
   "execution_count": 22,
   "id": "884dea22",
   "metadata": {
    "execution": {
     "iopub.execute_input": "2025-08-05T16:38:26.793830Z",
     "iopub.status.busy": "2025-08-05T16:38:26.793053Z",
     "iopub.status.idle": "2025-08-05T16:38:26.801693Z",
     "shell.execute_reply": "2025-08-05T16:38:26.800550Z"
    },
    "papermill": {
     "duration": 0.031718,
     "end_time": "2025-08-05T16:38:26.803472",
     "exception": false,
     "start_time": "2025-08-05T16:38:26.771754",
     "status": "completed"
    },
    "tags": []
   },
   "outputs": [
    {
     "name": "stdout",
     "output_type": "stream",
     "text": [
      "Dropping features: ['age']\n"
     ]
    }
   ],
   "source": [
    "if len(excluded_features_columns) > 0:\n",
    "    print(f\"Dropping features: {excluded_features_columns}\")\n",
    "    X_train.drop(excluded_features_columns, axis=1, inplace=True)"
   ]
  },
  {
   "cell_type": "code",
   "execution_count": 23,
   "id": "95ab8b16",
   "metadata": {
    "execution": {
     "iopub.execute_input": "2025-08-05T16:38:26.846976Z",
     "iopub.status.busy": "2025-08-05T16:38:26.846472Z",
     "iopub.status.idle": "2025-08-05T16:38:26.903407Z",
     "shell.execute_reply": "2025-08-05T16:38:26.902363Z"
    },
    "papermill": {
     "duration": 0.080828,
     "end_time": "2025-08-05T16:38:26.905450",
     "exception": false,
     "start_time": "2025-08-05T16:38:26.824622",
     "status": "completed"
    },
    "tags": []
   },
   "outputs": [
    {
     "name": "stdout",
     "output_type": "stream",
     "text": [
      "Dropping features: ['age']\n"
     ]
    }
   ],
   "source": [
    "if len(excluded_features_columns) > 0:\n",
    "    print(f\"Dropping features: {excluded_features_columns}\")\n",
    "    X_test.drop(excluded_features_columns, axis=1, inplace=True)"
   ]
  },
  {
   "cell_type": "code",
   "execution_count": 24,
   "id": "1853aaf5-fb9f-46cb-a2b5-8ea4ae2237e4",
   "metadata": {
    "execution": {
     "iopub.execute_input": "2025-08-05T16:38:26.942571Z",
     "iopub.status.busy": "2025-08-05T16:38:26.942057Z",
     "iopub.status.idle": "2025-08-05T16:38:26.997616Z",
     "shell.execute_reply": "2025-08-05T16:38:26.996478Z"
    },
    "papermill": {
     "duration": 0.072481,
     "end_time": "2025-08-05T16:38:26.999316",
     "exception": false,
     "start_time": "2025-08-05T16:38:26.926835",
     "status": "completed"
    },
    "tags": []
   },
   "outputs": [
    {
     "name": "stdout",
     "output_type": "stream",
     "text": [
      "Dropping features: ['age']\n"
     ]
    }
   ],
   "source": [
    "if len(excluded_features_columns) > 0:\n",
    "    print(f\"Dropping features: {excluded_features_columns}\")\n",
    "    X_calib.drop(excluded_features_columns, axis=1, inplace=True)"
   ]
  },
  {
   "cell_type": "code",
   "execution_count": 25,
   "id": "76c4dc6d",
   "metadata": {
    "execution": {
     "iopub.execute_input": "2025-08-05T16:38:27.038704Z",
     "iopub.status.busy": "2025-08-05T16:38:27.038351Z",
     "iopub.status.idle": "2025-08-05T16:38:27.043882Z",
     "shell.execute_reply": "2025-08-05T16:38:27.042732Z"
    },
    "papermill": {
     "duration": 0.024761,
     "end_time": "2025-08-05T16:38:27.045943",
     "exception": false,
     "start_time": "2025-08-05T16:38:27.021182",
     "status": "completed"
    },
    "tags": []
   },
   "outputs": [],
   "source": [
    "# EXCLUDE CERTAIN SUBGROUPS\n",
    "# ----------------------\n",
    "\n",
    "mode = universe.get(\"exclude_subgroups\", \"keep-all\") \n",
    "# Fetches the exclude_subgroups setting from the universe dict.\n",
    "# Defaults to \"keep-all\" if the key is missing."
   ]
  },
  {
   "cell_type": "code",
   "execution_count": 26,
   "id": "21994072",
   "metadata": {
    "execution": {
     "iopub.execute_input": "2025-08-05T16:38:27.088749Z",
     "iopub.status.busy": "2025-08-05T16:38:27.087860Z",
     "iopub.status.idle": "2025-08-05T16:38:27.094818Z",
     "shell.execute_reply": "2025-08-05T16:38:27.094017Z"
    },
    "papermill": {
     "duration": 0.034171,
     "end_time": "2025-08-05T16:38:27.101110",
     "exception": false,
     "start_time": "2025-08-05T16:38:27.066939",
     "status": "completed"
    },
    "tags": []
   },
   "outputs": [],
   "source": [
    "if mode == \"keep-all\":\n",
    "    keep_mask = pd.Series(True, index=org_train.index)\n",
    "\n",
    "# org_train contains the original feature columns from features_org (in Simson)\n",
    "# features_org contains unprocessed features, for me X_train at beginning ???\n",
    "# For keep-all, creates a boolean Series (keep_mask) of all True, so no rows are removed.\n",
    "\n",
    "elif mode == \"drop-non-german\":\n",
    "    keep_mask = org_train[\"maxdeutsch1\"] == 1 # ??? what about missing values?\n",
    "\n",
    "else:\n",
    "    raise ValueError(f\"Unsupported mode for exclude_subgroups: {mode}\")"
   ]
  },
  {
   "cell_type": "code",
   "execution_count": 27,
   "id": "71651440",
   "metadata": {
    "execution": {
     "iopub.execute_input": "2025-08-05T16:38:27.147276Z",
     "iopub.status.busy": "2025-08-05T16:38:27.146627Z",
     "iopub.status.idle": "2025-08-05T16:38:27.153979Z",
     "shell.execute_reply": "2025-08-05T16:38:27.152980Z"
    },
    "papermill": {
     "duration": 0.031691,
     "end_time": "2025-08-05T16:38:27.155874",
     "exception": false,
     "start_time": "2025-08-05T16:38:27.124183",
     "status": "completed"
    },
    "tags": []
   },
   "outputs": [],
   "source": [
    "n_drop = (~keep_mask).sum() # Calculates how many rows are set to be dropped\n",
    "if n_drop > 0:\n",
    "    pct = n_drop / len(keep_mask) * 100\n",
    "    print(f\"Dropping {n_drop} rows ({pct:.2f}%) where mode='{mode}'\")"
   ]
  },
  {
   "cell_type": "code",
   "execution_count": 28,
   "id": "5fb8eee5",
   "metadata": {
    "execution": {
     "iopub.execute_input": "2025-08-05T16:38:27.190879Z",
     "iopub.status.busy": "2025-08-05T16:38:27.190438Z",
     "iopub.status.idle": "2025-08-05T16:38:27.199334Z",
     "shell.execute_reply": "2025-08-05T16:38:27.198193Z"
    },
    "papermill": {
     "duration": 0.027394,
     "end_time": "2025-08-05T16:38:27.201277",
     "exception": false,
     "start_time": "2025-08-05T16:38:27.173883",
     "status": "completed"
    },
    "tags": []
   },
   "outputs": [],
   "source": [
    "X_train = X_train[keep_mask]"
   ]
  },
  {
   "cell_type": "code",
   "execution_count": 29,
   "id": "b202bb3a",
   "metadata": {
    "execution": {
     "iopub.execute_input": "2025-08-05T16:38:27.243718Z",
     "iopub.status.busy": "2025-08-05T16:38:27.242831Z",
     "iopub.status.idle": "2025-08-05T16:38:27.249105Z",
     "shell.execute_reply": "2025-08-05T16:38:27.248376Z"
    },
    "papermill": {
     "duration": 0.029364,
     "end_time": "2025-08-05T16:38:27.251043",
     "exception": false,
     "start_time": "2025-08-05T16:38:27.221679",
     "status": "completed"
    },
    "tags": []
   },
   "outputs": [],
   "source": [
    "y_train = y_train[keep_mask]"
   ]
  },
  {
   "cell_type": "markdown",
   "id": "493e2ac3",
   "metadata": {
    "papermill": {
     "duration": 0.021807,
     "end_time": "2025-08-05T16:38:27.294966",
     "exception": false,
     "start_time": "2025-08-05T16:38:27.273159",
     "status": "completed"
    },
    "tags": []
   },
   "source": [
    "# Model Training"
   ]
  },
  {
   "cell_type": "code",
   "execution_count": 30,
   "id": "679e1268",
   "metadata": {
    "execution": {
     "iopub.execute_input": "2025-08-05T16:38:27.339397Z",
     "iopub.status.busy": "2025-08-05T16:38:27.338730Z",
     "iopub.status.idle": "2025-08-05T16:38:27.440507Z",
     "shell.execute_reply": "2025-08-05T16:38:27.439503Z"
    },
    "papermill": {
     "duration": 0.126295,
     "end_time": "2025-08-05T16:38:27.442496",
     "exception": false,
     "start_time": "2025-08-05T16:38:27.316201",
     "status": "completed"
    },
    "tags": []
   },
   "outputs": [],
   "source": [
    "from sklearn.linear_model import LogisticRegression\n",
    "from sklearn.ensemble import GradientBoostingClassifier, RandomForestClassifier\n",
    "\n",
    "if (universe[\"model\"] == \"logreg\"):\n",
    "    model = LogisticRegression() #penalty=\"none\", solver=\"newton-cg\", max_iter=1) # include random_state=19 ?\n",
    "elif (universe[\"model\"] == \"penalized_logreg\"):\n",
    "    model = LogisticRegression(penalty=\"l2\", C=0.1) #, solver=\"newton-cg\", max_iter=1)\n",
    "elif (universe[\"model\"] == \"rf\"):\n",
    "    model = RandomForestClassifier() # n_estimators=100, n_jobs=-1\n",
    "elif (universe[\"model\"] == \"gbm\"):\n",
    "    model = GradientBoostingClassifier()\n",
    "elif (universe[\"model\"] == \"elasticnet\"):\n",
    "    model = LogisticRegression(penalty = 'elasticnet', solver = 'saga', l1_ratio = 0.5) # max_iter=5000\n",
    "else:\n",
    "    raise \"Unsupported universe.model\""
   ]
  },
  {
   "cell_type": "code",
   "execution_count": 31,
   "id": "0cc8f744",
   "metadata": {
    "execution": {
     "iopub.execute_input": "2025-08-05T16:38:27.487649Z",
     "iopub.status.busy": "2025-08-05T16:38:27.486986Z",
     "iopub.status.idle": "2025-08-05T16:38:27.493426Z",
     "shell.execute_reply": "2025-08-05T16:38:27.492454Z"
    },
    "papermill": {
     "duration": 0.031134,
     "end_time": "2025-08-05T16:38:27.495284",
     "exception": false,
     "start_time": "2025-08-05T16:38:27.464150",
     "status": "completed"
    },
    "tags": []
   },
   "outputs": [],
   "source": [
    "import numpy as np\n",
    "from sklearn.pipeline import Pipeline\n",
    "from sklearn.preprocessing import StandardScaler\n",
    "\n",
    "model = Pipeline([\n",
    "    #(\"continuous_processor\", continuous_processor),\n",
    "    #(\"categorical_preprocessor\", categorical_preprocessor),\n",
    "    (\"scale\", StandardScaler() if universe[\"scale\"] == \"scale\" else None), \n",
    "    (\"model\", model),\n",
    "])"
   ]
  },
  {
   "cell_type": "code",
   "execution_count": 32,
   "id": "9442c04d",
   "metadata": {
    "execution": {
     "iopub.execute_input": "2025-08-05T16:38:27.540199Z",
     "iopub.status.busy": "2025-08-05T16:38:27.539433Z",
     "iopub.status.idle": "2025-08-05T16:38:27.963287Z",
     "shell.execute_reply": "2025-08-05T16:38:27.962419Z"
    },
    "papermill": {
     "duration": 0.448396,
     "end_time": "2025-08-05T16:38:27.965037",
     "exception": false,
     "start_time": "2025-08-05T16:38:27.516641",
     "status": "completed"
    },
    "tags": []
   },
   "outputs": [
    {
     "name": "stderr",
     "output_type": "stream",
     "text": [
      "/dss/dsshome1/0C/ra93lal2/.local/share/virtualenvs/CMA_Fairness_v2-3j10GkSs/lib/python3.10/site-packages/sklearn/linear_model/_sag.py:350: ConvergenceWarning: The max_iter was reached which means the coef_ did not converge\n",
      "  warnings.warn(\n"
     ]
    },
    {
     "data": {
      "text/html": [
       "<style>#sk-container-id-1 {color: black;background-color: white;}#sk-container-id-1 pre{padding: 0;}#sk-container-id-1 div.sk-toggleable {background-color: white;}#sk-container-id-1 label.sk-toggleable__label {cursor: pointer;display: block;width: 100%;margin-bottom: 0;padding: 0.3em;box-sizing: border-box;text-align: center;}#sk-container-id-1 label.sk-toggleable__label-arrow:before {content: \"▸\";float: left;margin-right: 0.25em;color: #696969;}#sk-container-id-1 label.sk-toggleable__label-arrow:hover:before {color: black;}#sk-container-id-1 div.sk-estimator:hover label.sk-toggleable__label-arrow:before {color: black;}#sk-container-id-1 div.sk-toggleable__content {max-height: 0;max-width: 0;overflow: hidden;text-align: left;background-color: #f0f8ff;}#sk-container-id-1 div.sk-toggleable__content pre {margin: 0.2em;color: black;border-radius: 0.25em;background-color: #f0f8ff;}#sk-container-id-1 input.sk-toggleable__control:checked~div.sk-toggleable__content {max-height: 200px;max-width: 100%;overflow: auto;}#sk-container-id-1 input.sk-toggleable__control:checked~label.sk-toggleable__label-arrow:before {content: \"▾\";}#sk-container-id-1 div.sk-estimator input.sk-toggleable__control:checked~label.sk-toggleable__label {background-color: #d4ebff;}#sk-container-id-1 div.sk-label input.sk-toggleable__control:checked~label.sk-toggleable__label {background-color: #d4ebff;}#sk-container-id-1 input.sk-hidden--visually {border: 0;clip: rect(1px 1px 1px 1px);clip: rect(1px, 1px, 1px, 1px);height: 1px;margin: -1px;overflow: hidden;padding: 0;position: absolute;width: 1px;}#sk-container-id-1 div.sk-estimator {font-family: monospace;background-color: #f0f8ff;border: 1px dotted black;border-radius: 0.25em;box-sizing: border-box;margin-bottom: 0.5em;}#sk-container-id-1 div.sk-estimator:hover {background-color: #d4ebff;}#sk-container-id-1 div.sk-parallel-item::after {content: \"\";width: 100%;border-bottom: 1px solid gray;flex-grow: 1;}#sk-container-id-1 div.sk-label:hover label.sk-toggleable__label {background-color: #d4ebff;}#sk-container-id-1 div.sk-serial::before {content: \"\";position: absolute;border-left: 1px solid gray;box-sizing: border-box;top: 0;bottom: 0;left: 50%;z-index: 0;}#sk-container-id-1 div.sk-serial {display: flex;flex-direction: column;align-items: center;background-color: white;padding-right: 0.2em;padding-left: 0.2em;position: relative;}#sk-container-id-1 div.sk-item {position: relative;z-index: 1;}#sk-container-id-1 div.sk-parallel {display: flex;align-items: stretch;justify-content: center;background-color: white;position: relative;}#sk-container-id-1 div.sk-item::before, #sk-container-id-1 div.sk-parallel-item::before {content: \"\";position: absolute;border-left: 1px solid gray;box-sizing: border-box;top: 0;bottom: 0;left: 50%;z-index: -1;}#sk-container-id-1 div.sk-parallel-item {display: flex;flex-direction: column;z-index: 1;position: relative;background-color: white;}#sk-container-id-1 div.sk-parallel-item:first-child::after {align-self: flex-end;width: 50%;}#sk-container-id-1 div.sk-parallel-item:last-child::after {align-self: flex-start;width: 50%;}#sk-container-id-1 div.sk-parallel-item:only-child::after {width: 0;}#sk-container-id-1 div.sk-dashed-wrapped {border: 1px dashed gray;margin: 0 0.4em 0.5em 0.4em;box-sizing: border-box;padding-bottom: 0.4em;background-color: white;}#sk-container-id-1 div.sk-label label {font-family: monospace;font-weight: bold;display: inline-block;line-height: 1.2em;}#sk-container-id-1 div.sk-label-container {text-align: center;}#sk-container-id-1 div.sk-container {/* jupyter's `normalize.less` sets `[hidden] { display: none; }` but bootstrap.min.css set `[hidden] { display: none !important; }` so we also need the `!important` here to be able to override the default hidden behavior on the sphinx rendered scikit-learn.org. See: https://github.com/scikit-learn/scikit-learn/issues/21755 */display: inline-block !important;position: relative;}#sk-container-id-1 div.sk-text-repr-fallback {display: none;}</style><div id=\"sk-container-id-1\" class=\"sk-top-container\"><div class=\"sk-text-repr-fallback\"><pre>Pipeline(steps=[(&#x27;scale&#x27;, StandardScaler()),\n",
       "                (&#x27;model&#x27;,\n",
       "                 LogisticRegression(l1_ratio=0.5, penalty=&#x27;elasticnet&#x27;,\n",
       "                                    solver=&#x27;saga&#x27;))])</pre><b>In a Jupyter environment, please rerun this cell to show the HTML representation or trust the notebook. <br />On GitHub, the HTML representation is unable to render, please try loading this page with nbviewer.org.</b></div><div class=\"sk-container\" hidden><div class=\"sk-item sk-dashed-wrapped\"><div class=\"sk-label-container\"><div class=\"sk-label sk-toggleable\"><input class=\"sk-toggleable__control sk-hidden--visually\" id=\"sk-estimator-id-1\" type=\"checkbox\" ><label for=\"sk-estimator-id-1\" class=\"sk-toggleable__label sk-toggleable__label-arrow\">Pipeline</label><div class=\"sk-toggleable__content\"><pre>Pipeline(steps=[(&#x27;scale&#x27;, StandardScaler()),\n",
       "                (&#x27;model&#x27;,\n",
       "                 LogisticRegression(l1_ratio=0.5, penalty=&#x27;elasticnet&#x27;,\n",
       "                                    solver=&#x27;saga&#x27;))])</pre></div></div></div><div class=\"sk-serial\"><div class=\"sk-item\"><div class=\"sk-estimator sk-toggleable\"><input class=\"sk-toggleable__control sk-hidden--visually\" id=\"sk-estimator-id-2\" type=\"checkbox\" ><label for=\"sk-estimator-id-2\" class=\"sk-toggleable__label sk-toggleable__label-arrow\">StandardScaler</label><div class=\"sk-toggleable__content\"><pre>StandardScaler()</pre></div></div></div><div class=\"sk-item\"><div class=\"sk-estimator sk-toggleable\"><input class=\"sk-toggleable__control sk-hidden--visually\" id=\"sk-estimator-id-3\" type=\"checkbox\" ><label for=\"sk-estimator-id-3\" class=\"sk-toggleable__label sk-toggleable__label-arrow\">LogisticRegression</label><div class=\"sk-toggleable__content\"><pre>LogisticRegression(l1_ratio=0.5, penalty=&#x27;elasticnet&#x27;, solver=&#x27;saga&#x27;)</pre></div></div></div></div></div></div></div>"
      ],
      "text/plain": [
       "Pipeline(steps=[('scale', StandardScaler()),\n",
       "                ('model',\n",
       "                 LogisticRegression(l1_ratio=0.5, penalty='elasticnet',\n",
       "                                    solver='saga'))])"
      ]
     },
     "execution_count": 32,
     "metadata": {},
     "output_type": "execute_result"
    }
   ],
   "source": [
    "model.fit(X_train, y_train.values.ravel())"
   ]
  },
  {
   "cell_type": "code",
   "execution_count": 33,
   "id": "af59f8c0",
   "metadata": {
    "execution": {
     "iopub.execute_input": "2025-08-05T16:38:28.007308Z",
     "iopub.status.busy": "2025-08-05T16:38:28.006467Z",
     "iopub.status.idle": "2025-08-05T16:38:28.012393Z",
     "shell.execute_reply": "2025-08-05T16:38:28.011483Z"
    },
    "papermill": {
     "duration": 0.028833,
     "end_time": "2025-08-05T16:38:28.014477",
     "exception": false,
     "start_time": "2025-08-05T16:38:27.985644",
     "status": "completed"
    },
    "tags": []
   },
   "outputs": [],
   "source": [
    "from fairness_multiverse.universe import predict_w_threshold"
   ]
  },
  {
   "cell_type": "code",
   "execution_count": 34,
   "id": "a7cf2e16",
   "metadata": {
    "execution": {
     "iopub.execute_input": "2025-08-05T16:38:28.061252Z",
     "iopub.status.busy": "2025-08-05T16:38:28.060584Z",
     "iopub.status.idle": "2025-08-05T16:38:28.251036Z",
     "shell.execute_reply": "2025-08-05T16:38:28.250105Z"
    },
    "papermill": {
     "duration": 0.216129,
     "end_time": "2025-08-05T16:38:28.252785",
     "exception": false,
     "start_time": "2025-08-05T16:38:28.036656",
     "status": "completed"
    },
    "tags": []
   },
   "outputs": [
    {
     "data": {
      "text/plain": [
       "0.8285586891093524"
      ]
     },
     "execution_count": 34,
     "metadata": {},
     "output_type": "execute_result"
    }
   ],
   "source": [
    "probs_test = model.predict_proba(X_test)\n",
    "\n",
    "'''\n",
    "Below code returns a boolean array (or binary 0/1 array depending on how it’s used) where each element \n",
    "is True if the probability of class 1 is greater than or equal to the threshold, and False otherwise.\n",
    "'''\n",
    "y_pred_default = predict_w_threshold(probs_test, 0.5)\n",
    "\n",
    "from sklearn.metrics import accuracy_score\n",
    "\n",
    "# Naive prediction\n",
    "accuracy_score(y_true = y_true, y_pred = y_pred_default)"
   ]
  },
  {
   "cell_type": "code",
   "execution_count": 35,
   "id": "081964c3",
   "metadata": {
    "execution": {
     "iopub.execute_input": "2025-08-05T16:38:28.298994Z",
     "iopub.status.busy": "2025-08-05T16:38:28.298317Z",
     "iopub.status.idle": "2025-08-05T16:38:28.483528Z",
     "shell.execute_reply": "2025-08-05T16:38:28.482658Z"
    },
    "papermill": {
     "duration": 0.210904,
     "end_time": "2025-08-05T16:38:28.485311",
     "exception": false,
     "start_time": "2025-08-05T16:38:28.274407",
     "status": "completed"
    },
    "tags": []
   },
   "outputs": [
    {
     "data": {
      "text/plain": [
       "array([0, 0, 0, ..., 0, 0, 0])"
      ]
     },
     "execution_count": 35,
     "metadata": {},
     "output_type": "execute_result"
    }
   ],
   "source": [
    "model.predict(X_test)"
   ]
  },
  {
   "cell_type": "markdown",
   "id": "56c9705b",
   "metadata": {
    "papermill": {
     "duration": 0.018933,
     "end_time": "2025-08-05T16:38:28.524347",
     "exception": false,
     "start_time": "2025-08-05T16:38:28.505414",
     "status": "completed"
    },
    "tags": []
   },
   "source": [
    "# Conformal Prediction"
   ]
  },
  {
   "cell_type": "code",
   "execution_count": 36,
   "id": "160ec6ff",
   "metadata": {
    "execution": {
     "iopub.execute_input": "2025-08-05T16:38:28.564618Z",
     "iopub.status.busy": "2025-08-05T16:38:28.563830Z",
     "iopub.status.idle": "2025-08-05T16:38:28.569412Z",
     "shell.execute_reply": "2025-08-05T16:38:28.568475Z"
    },
    "papermill": {
     "duration": 0.028158,
     "end_time": "2025-08-05T16:38:28.571185",
     "exception": false,
     "start_time": "2025-08-05T16:38:28.543027",
     "status": "completed"
    },
    "tags": []
   },
   "outputs": [],
   "source": [
    "# Miscoverage level for conformal prediction (10% allowed error rate => 90% target coverage)\n",
    "alpha = 0.1"
   ]
  },
  {
   "cell_type": "code",
   "execution_count": 37,
   "id": "eadf4555-3dd3-440e-8e35-f82a4ad9f855",
   "metadata": {
    "execution": {
     "iopub.execute_input": "2025-08-05T16:38:28.613239Z",
     "iopub.status.busy": "2025-08-05T16:38:28.612326Z",
     "iopub.status.idle": "2025-08-05T16:38:28.793535Z",
     "shell.execute_reply": "2025-08-05T16:38:28.792590Z"
    },
    "papermill": {
     "duration": 0.20433,
     "end_time": "2025-08-05T16:38:28.795358",
     "exception": false,
     "start_time": "2025-08-05T16:38:28.591028",
     "status": "completed"
    },
    "tags": []
   },
   "outputs": [],
   "source": [
    "probs_calib = model.predict_proba(X_calib)"
   ]
  },
  {
   "cell_type": "code",
   "execution_count": 38,
   "id": "2ed93547-6d5d-4983-9b36-1ecb300da49a",
   "metadata": {
    "execution": {
     "iopub.execute_input": "2025-08-05T16:38:28.834694Z",
     "iopub.status.busy": "2025-08-05T16:38:28.834204Z",
     "iopub.status.idle": "2025-08-05T16:38:28.840581Z",
     "shell.execute_reply": "2025-08-05T16:38:28.839658Z"
    },
    "papermill": {
     "duration": 0.02827,
     "end_time": "2025-08-05T16:38:28.842489",
     "exception": false,
     "start_time": "2025-08-05T16:38:28.814219",
     "status": "completed"
    },
    "tags": []
   },
   "outputs": [],
   "source": [
    "y_calib = y_calib.values.ravel().astype(int)"
   ]
  },
  {
   "cell_type": "code",
   "execution_count": 39,
   "id": "65d1320d-f588-4b38-9072-62af1ae97f7d",
   "metadata": {
    "execution": {
     "iopub.execute_input": "2025-08-05T16:38:28.882678Z",
     "iopub.status.busy": "2025-08-05T16:38:28.881948Z",
     "iopub.status.idle": "2025-08-05T16:38:28.889221Z",
     "shell.execute_reply": "2025-08-05T16:38:28.888265Z"
    },
    "papermill": {
     "duration": 0.029448,
     "end_time": "2025-08-05T16:38:28.890837",
     "exception": false,
     "start_time": "2025-08-05T16:38:28.861389",
     "status": "completed"
    },
    "tags": []
   },
   "outputs": [],
   "source": [
    "from fairness_multiverse.conformal import compute_nc_scores\n",
    "\n",
    "# Compute nonconformity scores on calibration set (1 - probability of true class)\n",
    "nc_scores = compute_nc_scores(probs_calib, y_calib)"
   ]
  },
  {
   "cell_type": "code",
   "execution_count": 40,
   "id": "df3b8ca3-53b7-43d5-9667-7c85da7aeda2",
   "metadata": {
    "execution": {
     "iopub.execute_input": "2025-08-05T16:38:28.931379Z",
     "iopub.status.busy": "2025-08-05T16:38:28.930766Z",
     "iopub.status.idle": "2025-08-05T16:38:28.937733Z",
     "shell.execute_reply": "2025-08-05T16:38:28.936823Z"
    },
    "papermill": {
     "duration": 0.029334,
     "end_time": "2025-08-05T16:38:28.939378",
     "exception": false,
     "start_time": "2025-08-05T16:38:28.910044",
     "status": "completed"
    },
    "tags": []
   },
   "outputs": [],
   "source": [
    "from fairness_multiverse.conformal import find_threshold\n",
    "\n",
    "# Find conformal threshold q_hat for the given alpha (split conformal method)\n",
    "q_hat = find_threshold(nc_scores, alpha)"
   ]
  },
  {
   "cell_type": "code",
   "execution_count": 41,
   "id": "4d29e6c1-0ef6-4aa4-b8fe-4fe79b0d033a",
   "metadata": {
    "execution": {
     "iopub.execute_input": "2025-08-05T16:38:28.981037Z",
     "iopub.status.busy": "2025-08-05T16:38:28.980076Z",
     "iopub.status.idle": "2025-08-05T16:38:28.987528Z",
     "shell.execute_reply": "2025-08-05T16:38:28.986566Z"
    },
    "papermill": {
     "duration": 0.031093,
     "end_time": "2025-08-05T16:38:28.989293",
     "exception": false,
     "start_time": "2025-08-05T16:38:28.958200",
     "status": "completed"
    },
    "tags": []
   },
   "outputs": [
    {
     "data": {
      "text/plain": [
       "0.7465644690254798"
      ]
     },
     "execution_count": 41,
     "metadata": {},
     "output_type": "execute_result"
    }
   ],
   "source": [
    "q_hat"
   ]
  },
  {
   "cell_type": "code",
   "execution_count": 42,
   "id": "92460794-cdac-4be2-ba28-f28c0515a6fb",
   "metadata": {
    "execution": {
     "iopub.execute_input": "2025-08-05T16:38:29.031371Z",
     "iopub.status.busy": "2025-08-05T16:38:29.030568Z",
     "iopub.status.idle": "2025-08-05T16:38:30.275896Z",
     "shell.execute_reply": "2025-08-05T16:38:30.274957Z"
    },
    "papermill": {
     "duration": 1.268175,
     "end_time": "2025-08-05T16:38:30.277687",
     "exception": false,
     "start_time": "2025-08-05T16:38:29.009512",
     "status": "completed"
    },
    "tags": []
   },
   "outputs": [],
   "source": [
    "from fairness_multiverse.conformal import predict_conformal_sets\n",
    "\n",
    "# Generate prediction sets for each test example\n",
    "pred_sets = predict_conformal_sets(model, X_test, q_hat)"
   ]
  },
  {
   "cell_type": "code",
   "execution_count": 43,
   "id": "d90c9a65-e6db-4f5d-80cd-e68fb7e46829",
   "metadata": {
    "execution": {
     "iopub.execute_input": "2025-08-05T16:38:30.321449Z",
     "iopub.status.busy": "2025-08-05T16:38:30.320873Z",
     "iopub.status.idle": "2025-08-05T16:38:30.326315Z",
     "shell.execute_reply": "2025-08-05T16:38:30.325384Z"
    },
    "papermill": {
     "duration": 0.030576,
     "end_time": "2025-08-05T16:38:30.327733",
     "exception": false,
     "start_time": "2025-08-05T16:38:30.297157",
     "status": "completed"
    },
    "tags": []
   },
   "outputs": [],
   "source": [
    "y_true = y_true.squeeze()"
   ]
  },
  {
   "cell_type": "code",
   "execution_count": 44,
   "id": "3a58a54a-1e68-46b9-927a-df01f18aebc8",
   "metadata": {
    "execution": {
     "iopub.execute_input": "2025-08-05T16:38:30.350231Z",
     "iopub.status.busy": "2025-08-05T16:38:30.349854Z",
     "iopub.status.idle": "2025-08-05T16:38:30.989221Z",
     "shell.execute_reply": "2025-08-05T16:38:30.988089Z"
    },
    "papermill": {
     "duration": 0.651979,
     "end_time": "2025-08-05T16:38:30.990773",
     "exception": false,
     "start_time": "2025-08-05T16:38:30.338794",
     "status": "completed"
    },
    "tags": []
   },
   "outputs": [],
   "source": [
    "from fairness_multiverse.conformal import evaluate_sets\n",
    "\n",
    "# Evaluate coverage and average set size on test data\n",
    "metrics = evaluate_sets(pred_sets, y_true)"
   ]
  },
  {
   "cell_type": "markdown",
   "id": "2b569c12-9aaa-4c88-98c9-bbcd0cf3ebb8",
   "metadata": {
    "papermill": {
     "duration": 0.028129,
     "end_time": "2025-08-05T16:38:31.042764",
     "exception": false,
     "start_time": "2025-08-05T16:38:31.014635",
     "status": "completed"
    },
    "tags": []
   },
   "source": [
    "# CP Metrics"
   ]
  },
  {
   "cell_type": "code",
   "execution_count": 45,
   "id": "5ce0a5cb-201f-45a0-ade5-94c7f0bd6095",
   "metadata": {
    "execution": {
     "iopub.execute_input": "2025-08-05T16:38:31.100564Z",
     "iopub.status.busy": "2025-08-05T16:38:31.099509Z",
     "iopub.status.idle": "2025-08-05T16:38:31.109247Z",
     "shell.execute_reply": "2025-08-05T16:38:31.107830Z"
    },
    "papermill": {
     "duration": 0.041295,
     "end_time": "2025-08-05T16:38:31.111654",
     "exception": false,
     "start_time": "2025-08-05T16:38:31.070359",
     "status": "completed"
    },
    "tags": []
   },
   "outputs": [
    {
     "data": {
      "text/plain": [
       "{'coverage': 0.9083602719875153, 'avg_size': 1.214714078698027}"
      ]
     },
     "execution_count": 45,
     "metadata": {},
     "output_type": "execute_result"
    }
   ],
   "source": [
    "metrics"
   ]
  },
  {
   "cell_type": "code",
   "execution_count": 46,
   "id": "9b9a838d-31c9-430b-ae14-12baee460d17",
   "metadata": {
    "execution": {
     "iopub.execute_input": "2025-08-05T16:38:31.169384Z",
     "iopub.status.busy": "2025-08-05T16:38:31.168647Z",
     "iopub.status.idle": "2025-08-05T16:38:31.174350Z",
     "shell.execute_reply": "2025-08-05T16:38:31.173546Z"
    },
    "papermill": {
     "duration": 0.035613,
     "end_time": "2025-08-05T16:38:31.175693",
     "exception": false,
     "start_time": "2025-08-05T16:38:31.140080",
     "status": "completed"
    },
    "tags": []
   },
   "outputs": [],
   "source": [
    "example_universe = universe.copy()\n",
    "universe_training_year = example_universe.get(\"training_year\")\n",
    "universe_training_size = example_universe.get(\"training_size\")\n",
    "universe_scale = example_universe.get(\"scale\")\n",
    "universe_model = example_universe.get(\"model\")\n",
    "universe_exclude_features = example_universe.get(\"exclude_features\")\n",
    "universe_exclude_subgroups = example_universe.get(\"exclude_subgroups\")"
   ]
  },
  {
   "cell_type": "code",
   "execution_count": 47,
   "id": "f4b6a8ac-9dc0-4245-8a91-5b3b5999c4f9",
   "metadata": {
    "execution": {
     "iopub.execute_input": "2025-08-05T16:38:31.199330Z",
     "iopub.status.busy": "2025-08-05T16:38:31.199009Z",
     "iopub.status.idle": "2025-08-05T16:38:31.204408Z",
     "shell.execute_reply": "2025-08-05T16:38:31.203221Z"
    },
    "papermill": {
     "duration": 0.018999,
     "end_time": "2025-08-05T16:38:31.206661",
     "exception": false,
     "start_time": "2025-08-05T16:38:31.187662",
     "status": "completed"
    },
    "tags": []
   },
   "outputs": [],
   "source": [
    "cp_metrics_dict = {\n",
    "    \"universe_id\": [universe_id],\n",
    "    \"universe_training_year\": [universe_training_year],\n",
    "    \"universe_training_size\": [universe_training_size],\n",
    "    \"universe_scale\": [universe_scale],\n",
    "    \"universe_model\": [universe_model],\n",
    "    \"universe_exclude_features\": [universe_exclude_features],\n",
    "    \"universe_exclude_subgroups\": [universe_exclude_subgroups],\n",
    "    \"q_hat\": [q_hat],\n",
    "    \"coverage\": [metrics[\"coverage\"]],\n",
    "    \"avg_size\": [metrics[\"avg_size\"]],\n",
    "}"
   ]
  },
  {
   "cell_type": "code",
   "execution_count": 48,
   "id": "908acbb1-0371-4915-85ca-3fa520d2efe2",
   "metadata": {
    "execution": {
     "iopub.execute_input": "2025-08-05T16:38:31.268009Z",
     "iopub.status.busy": "2025-08-05T16:38:31.267494Z",
     "iopub.status.idle": "2025-08-05T16:38:31.275977Z",
     "shell.execute_reply": "2025-08-05T16:38:31.274795Z"
    },
    "papermill": {
     "duration": 0.0412,
     "end_time": "2025-08-05T16:38:31.277940",
     "exception": false,
     "start_time": "2025-08-05T16:38:31.236740",
     "status": "completed"
    },
    "tags": []
   },
   "outputs": [
    {
     "data": {
      "text/plain": [
       "{'universe_id': ['bb233a5bf11db7b9b33b1cc5589a045d'],\n",
       " 'universe_training_year': ['2010_14'],\n",
       " 'universe_training_size': ['1k'],\n",
       " 'universe_scale': ['scale'],\n",
       " 'universe_model': ['elasticnet'],\n",
       " 'universe_exclude_features': ['age'],\n",
       " 'universe_exclude_subgroups': ['keep-all'],\n",
       " 'q_hat': [0.7465644690254798],\n",
       " 'coverage': [0.9083602719875153],\n",
       " 'avg_size': [1.214714078698027]}"
      ]
     },
     "execution_count": 48,
     "metadata": {},
     "output_type": "execute_result"
    }
   ],
   "source": [
    "cp_metrics_dict"
   ]
  },
  {
   "cell_type": "code",
   "execution_count": 49,
   "id": "33007efc-14e9-4ec6-97ac-56a455c82265",
   "metadata": {
    "execution": {
     "iopub.execute_input": "2025-08-05T16:38:31.324922Z",
     "iopub.status.busy": "2025-08-05T16:38:31.323996Z",
     "iopub.status.idle": "2025-08-05T16:38:31.331033Z",
     "shell.execute_reply": "2025-08-05T16:38:31.329929Z"
    },
    "papermill": {
     "duration": 0.035622,
     "end_time": "2025-08-05T16:38:31.333206",
     "exception": false,
     "start_time": "2025-08-05T16:38:31.297584",
     "status": "completed"
    },
    "tags": []
   },
   "outputs": [],
   "source": [
    "cp_metrics_df = pd.DataFrame(cp_metrics_dict)"
   ]
  },
  {
   "cell_type": "code",
   "execution_count": 50,
   "id": "db12611b-57b2-4910-b9d0-355adfd6e7bf",
   "metadata": {
    "execution": {
     "iopub.execute_input": "2025-08-05T16:38:31.396735Z",
     "iopub.status.busy": "2025-08-05T16:38:31.395558Z",
     "iopub.status.idle": "2025-08-05T16:38:31.420266Z",
     "shell.execute_reply": "2025-08-05T16:38:31.418814Z"
    },
    "papermill": {
     "duration": 0.058905,
     "end_time": "2025-08-05T16:38:31.422549",
     "exception": false,
     "start_time": "2025-08-05T16:38:31.363644",
     "status": "completed"
    },
    "tags": []
   },
   "outputs": [
    {
     "data": {
      "text/html": [
       "<div>\n",
       "<style scoped>\n",
       "    .dataframe tbody tr th:only-of-type {\n",
       "        vertical-align: middle;\n",
       "    }\n",
       "\n",
       "    .dataframe tbody tr th {\n",
       "        vertical-align: top;\n",
       "    }\n",
       "\n",
       "    .dataframe thead th {\n",
       "        text-align: right;\n",
       "    }\n",
       "</style>\n",
       "<table border=\"1\" class=\"dataframe\">\n",
       "  <thead>\n",
       "    <tr style=\"text-align: right;\">\n",
       "      <th></th>\n",
       "      <th>universe_id</th>\n",
       "      <th>universe_training_year</th>\n",
       "      <th>universe_training_size</th>\n",
       "      <th>universe_scale</th>\n",
       "      <th>universe_model</th>\n",
       "      <th>universe_exclude_features</th>\n",
       "      <th>universe_exclude_subgroups</th>\n",
       "      <th>q_hat</th>\n",
       "      <th>coverage</th>\n",
       "      <th>avg_size</th>\n",
       "    </tr>\n",
       "  </thead>\n",
       "  <tbody>\n",
       "    <tr>\n",
       "      <th>0</th>\n",
       "      <td>bb233a5bf11db7b9b33b1cc5589a045d</td>\n",
       "      <td>2010_14</td>\n",
       "      <td>1k</td>\n",
       "      <td>scale</td>\n",
       "      <td>elasticnet</td>\n",
       "      <td>age</td>\n",
       "      <td>keep-all</td>\n",
       "      <td>0.746564</td>\n",
       "      <td>0.90836</td>\n",
       "      <td>1.214714</td>\n",
       "    </tr>\n",
       "  </tbody>\n",
       "</table>\n",
       "</div>"
      ],
      "text/plain": [
       "                        universe_id universe_training_year  \\\n",
       "0  bb233a5bf11db7b9b33b1cc5589a045d                2010_14   \n",
       "\n",
       "  universe_training_size universe_scale universe_model  \\\n",
       "0                     1k          scale     elasticnet   \n",
       "\n",
       "  universe_exclude_features universe_exclude_subgroups     q_hat  coverage  \\\n",
       "0                       age                   keep-all  0.746564   0.90836   \n",
       "\n",
       "   avg_size  \n",
       "0  1.214714  "
      ]
     },
     "execution_count": 50,
     "metadata": {},
     "output_type": "execute_result"
    }
   ],
   "source": [
    "cp_metrics_df"
   ]
  },
  {
   "cell_type": "code",
   "execution_count": 51,
   "id": "b7fbde55-a0a1-47e4-9af6-fe4a17fa8c61",
   "metadata": {
    "execution": {
     "iopub.execute_input": "2025-08-05T16:38:31.485401Z",
     "iopub.status.busy": "2025-08-05T16:38:31.484335Z",
     "iopub.status.idle": "2025-08-05T16:38:31.490949Z",
     "shell.execute_reply": "2025-08-05T16:38:31.489635Z"
    },
    "papermill": {
     "duration": 0.040745,
     "end_time": "2025-08-05T16:38:31.493546",
     "exception": false,
     "start_time": "2025-08-05T16:38:31.452801",
     "status": "completed"
    },
    "tags": []
   },
   "outputs": [],
   "source": [
    "# Conditional Coverage & looking at subgroups"
   ]
  },
  {
   "cell_type": "code",
   "execution_count": 52,
   "id": "027ae886-68dd-4141-96c7-805a5450e1ef",
   "metadata": {
    "execution": {
     "iopub.execute_input": "2025-08-05T16:38:31.550797Z",
     "iopub.status.busy": "2025-08-05T16:38:31.549846Z",
     "iopub.status.idle": "2025-08-05T16:38:31.836430Z",
     "shell.execute_reply": "2025-08-05T16:38:31.835245Z"
    },
    "papermill": {
     "duration": 0.318009,
     "end_time": "2025-08-05T16:38:31.839189",
     "exception": false,
     "start_time": "2025-08-05T16:38:31.521180",
     "status": "completed"
    },
    "tags": []
   },
   "outputs": [],
   "source": [
    "from fairness_multiverse.conformal import build_cp_groups\n",
    "\n",
    "cp_groups_df = build_cp_groups(pred_sets, y_true, X_test.index, org_test)\n",
    "#needs universe_id and setting"
   ]
  },
  {
   "cell_type": "code",
   "execution_count": 53,
   "id": "6cbdab96-b2b2-45af-ad54-d0516db2e28d",
   "metadata": {
    "execution": {
     "iopub.execute_input": "2025-08-05T16:38:31.906792Z",
     "iopub.status.busy": "2025-08-05T16:38:31.905660Z",
     "iopub.status.idle": "2025-08-05T16:38:34.098701Z",
     "shell.execute_reply": "2025-08-05T16:38:34.097964Z"
    },
    "papermill": {
     "duration": 2.220503,
     "end_time": "2025-08-05T16:38:34.100425",
     "exception": false,
     "start_time": "2025-08-05T16:38:31.879922",
     "status": "completed"
    },
    "tags": []
   },
   "outputs": [],
   "source": [
    "# Define covered = 1 if true_label is in the predicted set\n",
    "cp_groups_df['covered'] = cp_groups_df.apply(\n",
    "    lambda r: int(r['true_label'] in r['pred_set']),\n",
    "    axis=1\n",
    ")"
   ]
  },
  {
   "cell_type": "code",
   "execution_count": 54,
   "id": "338ff529-1a6b-4b87-a931-8e4788d52aad",
   "metadata": {
    "execution": {
     "iopub.execute_input": "2025-08-05T16:38:34.149813Z",
     "iopub.status.busy": "2025-08-05T16:38:34.148819Z",
     "iopub.status.idle": "2025-08-05T16:38:34.155346Z",
     "shell.execute_reply": "2025-08-05T16:38:34.154247Z"
    },
    "papermill": {
     "duration": 0.032358,
     "end_time": "2025-08-05T16:38:34.157425",
     "exception": false,
     "start_time": "2025-08-05T16:38:34.125067",
     "status": "completed"
    },
    "tags": []
   },
   "outputs": [],
   "source": [
    "#cp_groups_df"
   ]
  },
  {
   "cell_type": "code",
   "execution_count": 55,
   "id": "90032e27-66df-4540-9169-4e89cfbaa758",
   "metadata": {
    "execution": {
     "iopub.execute_input": "2025-08-05T16:38:34.207444Z",
     "iopub.status.busy": "2025-08-05T16:38:34.206350Z",
     "iopub.status.idle": "2025-08-05T16:38:34.218704Z",
     "shell.execute_reply": "2025-08-05T16:38:34.217583Z"
    },
    "papermill": {
     "duration": 0.039581,
     "end_time": "2025-08-05T16:38:34.220318",
     "exception": false,
     "start_time": "2025-08-05T16:38:34.180737",
     "status": "completed"
    },
    "tags": []
   },
   "outputs": [],
   "source": [
    "subgroups = ['frau1','nongerman','nongerman_male','nongerman_female']\n",
    "\n",
    "# Conditional coverage for subgroup==1\n",
    "cond_coverage = {\n",
    "    g: cp_groups_df.loc[cp_groups_df[g]==1, 'covered'].mean()\n",
    "    for g in subgroups\n",
    "}"
   ]
  },
  {
   "cell_type": "code",
   "execution_count": 56,
   "id": "1e348fb1-b9c3-45bc-ba23-f016827a7e0d",
   "metadata": {
    "execution": {
     "iopub.execute_input": "2025-08-05T16:38:34.268902Z",
     "iopub.status.busy": "2025-08-05T16:38:34.268078Z",
     "iopub.status.idle": "2025-08-05T16:38:34.276179Z",
     "shell.execute_reply": "2025-08-05T16:38:34.275209Z"
    },
    "papermill": {
     "duration": 0.034611,
     "end_time": "2025-08-05T16:38:34.278434",
     "exception": false,
     "start_time": "2025-08-05T16:38:34.243823",
     "status": "completed"
    },
    "tags": []
   },
   "outputs": [
    {
     "data": {
      "text/plain": [
       "{'frau1': 0.9097991643078582,\n",
       " 'nongerman': 0.913770841520238,\n",
       " 'nongerman_male': 0.9274070071151941,\n",
       " 'nongerman_female': 0.8912071535022354}"
      ]
     },
     "execution_count": 56,
     "metadata": {},
     "output_type": "execute_result"
    }
   ],
   "source": [
    "cond_coverage"
   ]
  },
  {
   "cell_type": "code",
   "execution_count": 57,
   "id": "f5093324-c3dd-4d63-bc4c-8d945e5c8bbb",
   "metadata": {
    "execution": {
     "iopub.execute_input": "2025-08-05T16:38:34.330146Z",
     "iopub.status.busy": "2025-08-05T16:38:34.329261Z",
     "iopub.status.idle": "2025-08-05T16:38:34.339534Z",
     "shell.execute_reply": "2025-08-05T16:38:34.338304Z"
    },
    "papermill": {
     "duration": 0.038426,
     "end_time": "2025-08-05T16:38:34.341350",
     "exception": false,
     "start_time": "2025-08-05T16:38:34.302924",
     "status": "completed"
    },
    "tags": []
   },
   "outputs": [],
   "source": [
    "for subgroup, cov in cond_coverage.items():\n",
    "    cp_metrics_df[f\"cov_{subgroup}\"] = cov"
   ]
  },
  {
   "cell_type": "code",
   "execution_count": 58,
   "id": "6e872e10-dbe5-49e8-b554-5030c98ff75d",
   "metadata": {
    "execution": {
     "iopub.execute_input": "2025-08-05T16:38:34.391745Z",
     "iopub.status.busy": "2025-08-05T16:38:34.390935Z",
     "iopub.status.idle": "2025-08-05T16:38:34.411486Z",
     "shell.execute_reply": "2025-08-05T16:38:34.410080Z"
    },
    "papermill": {
     "duration": 0.048922,
     "end_time": "2025-08-05T16:38:34.413746",
     "exception": false,
     "start_time": "2025-08-05T16:38:34.364824",
     "status": "completed"
    },
    "tags": []
   },
   "outputs": [
    {
     "data": {
      "text/html": [
       "<div>\n",
       "<style scoped>\n",
       "    .dataframe tbody tr th:only-of-type {\n",
       "        vertical-align: middle;\n",
       "    }\n",
       "\n",
       "    .dataframe tbody tr th {\n",
       "        vertical-align: top;\n",
       "    }\n",
       "\n",
       "    .dataframe thead th {\n",
       "        text-align: right;\n",
       "    }\n",
       "</style>\n",
       "<table border=\"1\" class=\"dataframe\">\n",
       "  <thead>\n",
       "    <tr style=\"text-align: right;\">\n",
       "      <th></th>\n",
       "      <th>universe_id</th>\n",
       "      <th>universe_training_year</th>\n",
       "      <th>universe_training_size</th>\n",
       "      <th>universe_scale</th>\n",
       "      <th>universe_model</th>\n",
       "      <th>universe_exclude_features</th>\n",
       "      <th>universe_exclude_subgroups</th>\n",
       "      <th>q_hat</th>\n",
       "      <th>coverage</th>\n",
       "      <th>avg_size</th>\n",
       "      <th>cov_frau1</th>\n",
       "      <th>cov_nongerman</th>\n",
       "      <th>cov_nongerman_male</th>\n",
       "      <th>cov_nongerman_female</th>\n",
       "    </tr>\n",
       "  </thead>\n",
       "  <tbody>\n",
       "    <tr>\n",
       "      <th>0</th>\n",
       "      <td>bb233a5bf11db7b9b33b1cc5589a045d</td>\n",
       "      <td>2010_14</td>\n",
       "      <td>1k</td>\n",
       "      <td>scale</td>\n",
       "      <td>elasticnet</td>\n",
       "      <td>age</td>\n",
       "      <td>keep-all</td>\n",
       "      <td>0.746564</td>\n",
       "      <td>0.90836</td>\n",
       "      <td>1.214714</td>\n",
       "      <td>0.909799</td>\n",
       "      <td>0.913771</td>\n",
       "      <td>0.927407</td>\n",
       "      <td>0.891207</td>\n",
       "    </tr>\n",
       "  </tbody>\n",
       "</table>\n",
       "</div>"
      ],
      "text/plain": [
       "                        universe_id universe_training_year  \\\n",
       "0  bb233a5bf11db7b9b33b1cc5589a045d                2010_14   \n",
       "\n",
       "  universe_training_size universe_scale universe_model  \\\n",
       "0                     1k          scale     elasticnet   \n",
       "\n",
       "  universe_exclude_features universe_exclude_subgroups     q_hat  coverage  \\\n",
       "0                       age                   keep-all  0.746564   0.90836   \n",
       "\n",
       "   avg_size  cov_frau1  cov_nongerman  cov_nongerman_male  \\\n",
       "0  1.214714   0.909799       0.913771            0.927407   \n",
       "\n",
       "   cov_nongerman_female  \n",
       "0              0.891207  "
      ]
     },
     "execution_count": 58,
     "metadata": {},
     "output_type": "execute_result"
    }
   ],
   "source": [
    "cp_metrics_df"
   ]
  },
  {
   "cell_type": "markdown",
   "id": "33774451",
   "metadata": {
    "papermill": {
     "duration": 0.025213,
     "end_time": "2025-08-05T16:38:34.462996",
     "exception": false,
     "start_time": "2025-08-05T16:38:34.437783",
     "status": "completed"
    },
    "tags": []
   },
   "source": [
    "# (Fairness) Metrics"
   ]
  },
  {
   "cell_type": "code",
   "execution_count": 59,
   "id": "debc5d62",
   "metadata": {
    "execution": {
     "iopub.execute_input": "2025-08-05T16:38:34.513333Z",
     "iopub.status.busy": "2025-08-05T16:38:34.512491Z",
     "iopub.status.idle": "2025-08-05T16:38:34.534402Z",
     "shell.execute_reply": "2025-08-05T16:38:34.533427Z"
    },
    "papermill": {
     "duration": 0.049091,
     "end_time": "2025-08-05T16:38:34.536208",
     "exception": false,
     "start_time": "2025-08-05T16:38:34.487117",
     "status": "completed"
    },
    "tags": []
   },
   "outputs": [],
   "source": [
    "# do I need to include maxdeutsch1.missing?\n",
    "\n",
    "import numpy as np\n",
    "\n",
    "colname_to_bin = \"maxdeutsch1\"\n",
    "majority_value = org_train[colname_to_bin].mode()[0]\n",
    "\n",
    "org_test[\"majmin\"] = np.where(org_test[colname_to_bin] == majority_value, \"majority\", \"minority\")"
   ]
  },
  {
   "cell_type": "code",
   "execution_count": 60,
   "id": "06a50de5",
   "metadata": {
    "execution": {
     "iopub.execute_input": "2025-08-05T16:38:34.588903Z",
     "iopub.status.busy": "2025-08-05T16:38:34.588193Z",
     "iopub.status.idle": "2025-08-05T16:38:37.443350Z",
     "shell.execute_reply": "2025-08-05T16:38:37.442328Z"
    },
    "papermill": {
     "duration": 2.883726,
     "end_time": "2025-08-05T16:38:37.445227",
     "exception": false,
     "start_time": "2025-08-05T16:38:34.561501",
     "status": "completed"
    },
    "tags": []
   },
   "outputs": [],
   "source": [
    "example_universe = universe.copy()\n",
    "example_universe[\"cutoff\"] = example_universe[\"cutoff\"][0]\n",
    "example_universe[\"eval_fairness_grouping\"] = example_universe[\"eval_fairness_grouping\"][0]\n",
    "fairness_dict, metric_frame = universe_analysis.compute_metrics(\n",
    "    example_universe,\n",
    "    y_pred_prob=probs_test,\n",
    "    y_test=y_true,\n",
    "    org_test=org_test,\n",
    ")"
   ]
  },
  {
   "cell_type": "markdown",
   "id": "f95d4e02",
   "metadata": {
    "papermill": {
     "duration": 0.023958,
     "end_time": "2025-08-05T16:38:37.496238",
     "exception": false,
     "start_time": "2025-08-05T16:38:37.472280",
     "status": "completed"
    },
    "tags": []
   },
   "source": [
    "# Overall"
   ]
  },
  {
   "cell_type": "markdown",
   "id": "bdee4871",
   "metadata": {
    "papermill": {
     "duration": 0.023644,
     "end_time": "2025-08-05T16:38:37.544474",
     "exception": false,
     "start_time": "2025-08-05T16:38:37.520830",
     "status": "completed"
    },
    "tags": []
   },
   "source": [
    "Fairness\n",
    "Main fairness target: Equalized Odds. Seems to be a better fit than equal opportunity, since we're not only interested in Y = 1. Seems to be a better fit than demographic parity, since we also care about accuracy, not just equal distribution of preds.\n",
    "\n",
    "Pick column for computation of fairness metrics\n",
    "\n",
    "Performance\n",
    "Overall performance measures, most interesting in relation to the measures split by group below"
   ]
  },
  {
   "cell_type": "code",
   "execution_count": 61,
   "id": "c4e067c6",
   "metadata": {
    "execution": {
     "iopub.execute_input": "2025-08-05T16:38:37.591994Z",
     "iopub.status.busy": "2025-08-05T16:38:37.591326Z",
     "iopub.status.idle": "2025-08-05T16:38:37.600435Z",
     "shell.execute_reply": "2025-08-05T16:38:37.599688Z"
    },
    "papermill": {
     "duration": 0.035636,
     "end_time": "2025-08-05T16:38:37.601990",
     "exception": false,
     "start_time": "2025-08-05T16:38:37.566354",
     "status": "completed"
    },
    "tags": []
   },
   "outputs": [
    {
     "data": {
      "text/plain": [
       "accuracy                   0.218939\n",
       "balanced accuracy          0.536474\n",
       "f1                         0.240420\n",
       "precision                  0.137344\n",
       "false positive rate        0.890642\n",
       "false negative rate        0.036409\n",
       "selection rate             0.900000\n",
       "count                  89710.000000\n",
       "dtype: float64"
      ]
     },
     "execution_count": 61,
     "metadata": {},
     "output_type": "execute_result"
    }
   ],
   "source": [
    "metric_frame.overall"
   ]
  },
  {
   "cell_type": "markdown",
   "id": "e968fe9d",
   "metadata": {
    "papermill": {
     "duration": 0.012281,
     "end_time": "2025-08-05T16:38:37.627791",
     "exception": false,
     "start_time": "2025-08-05T16:38:37.615510",
     "status": "completed"
    },
    "tags": []
   },
   "source": [
    "By Group"
   ]
  },
  {
   "cell_type": "code",
   "execution_count": 62,
   "id": "ec325bce",
   "metadata": {
    "execution": {
     "iopub.execute_input": "2025-08-05T16:38:37.653335Z",
     "iopub.status.busy": "2025-08-05T16:38:37.652690Z",
     "iopub.status.idle": "2025-08-05T16:38:37.665568Z",
     "shell.execute_reply": "2025-08-05T16:38:37.664740Z"
    },
    "papermill": {
     "duration": 0.026652,
     "end_time": "2025-08-05T16:38:37.667013",
     "exception": false,
     "start_time": "2025-08-05T16:38:37.640361",
     "status": "completed"
    },
    "tags": []
   },
   "outputs": [
    {
     "data": {
      "text/html": [
       "<div>\n",
       "<style scoped>\n",
       "    .dataframe tbody tr th:only-of-type {\n",
       "        vertical-align: middle;\n",
       "    }\n",
       "\n",
       "    .dataframe tbody tr th {\n",
       "        vertical-align: top;\n",
       "    }\n",
       "\n",
       "    .dataframe thead th {\n",
       "        text-align: right;\n",
       "    }\n",
       "</style>\n",
       "<table border=\"1\" class=\"dataframe\">\n",
       "  <thead>\n",
       "    <tr style=\"text-align: right;\">\n",
       "      <th></th>\n",
       "      <th>accuracy</th>\n",
       "      <th>balanced accuracy</th>\n",
       "      <th>f1</th>\n",
       "      <th>precision</th>\n",
       "      <th>false positive rate</th>\n",
       "      <th>false negative rate</th>\n",
       "      <th>selection rate</th>\n",
       "      <th>count</th>\n",
       "    </tr>\n",
       "    <tr>\n",
       "      <th>majmin</th>\n",
       "      <th></th>\n",
       "      <th></th>\n",
       "      <th></th>\n",
       "      <th></th>\n",
       "      <th></th>\n",
       "      <th></th>\n",
       "      <th></th>\n",
       "      <th></th>\n",
       "    </tr>\n",
       "  </thead>\n",
       "  <tbody>\n",
       "    <tr>\n",
       "      <th>majority</th>\n",
       "      <td>0.233165</td>\n",
       "      <td>0.541695</td>\n",
       "      <td>0.248803</td>\n",
       "      <td>0.142899</td>\n",
       "      <td>0.877661</td>\n",
       "      <td>0.038950</td>\n",
       "      <td>0.888680</td>\n",
       "      <td>69170.0</td>\n",
       "    </tr>\n",
       "    <tr>\n",
       "      <th>minority</th>\n",
       "      <td>0.171032</td>\n",
       "      <td>0.519936</td>\n",
       "      <td>0.213061</td>\n",
       "      <td>0.119622</td>\n",
       "      <td>0.933524</td>\n",
       "      <td>0.026605</td>\n",
       "      <td>0.938121</td>\n",
       "      <td>20540.0</td>\n",
       "    </tr>\n",
       "  </tbody>\n",
       "</table>\n",
       "</div>"
      ],
      "text/plain": [
       "          accuracy  balanced accuracy        f1  precision  \\\n",
       "majmin                                                       \n",
       "majority  0.233165           0.541695  0.248803   0.142899   \n",
       "minority  0.171032           0.519936  0.213061   0.119622   \n",
       "\n",
       "          false positive rate  false negative rate  selection rate    count  \n",
       "majmin                                                                       \n",
       "majority             0.877661             0.038950        0.888680  69170.0  \n",
       "minority             0.933524             0.026605        0.938121  20540.0  "
      ]
     },
     "execution_count": 62,
     "metadata": {},
     "output_type": "execute_result"
    }
   ],
   "source": [
    "metric_frame.by_group"
   ]
  },
  {
   "cell_type": "code",
   "execution_count": 63,
   "id": "a9ddbe63",
   "metadata": {
    "execution": {
     "iopub.execute_input": "2025-08-05T16:38:37.693980Z",
     "iopub.status.busy": "2025-08-05T16:38:37.693449Z",
     "iopub.status.idle": "2025-08-05T16:38:40.035835Z",
     "shell.execute_reply": "2025-08-05T16:38:40.034901Z"
    },
    "papermill": {
     "duration": 2.35704,
     "end_time": "2025-08-05T16:38:40.037502",
     "exception": false,
     "start_time": "2025-08-05T16:38:37.680462",
     "status": "completed"
    },
    "tags": []
   },
   "outputs": [
    {
     "data": {
      "text/plain": [
       "array([[<Axes: title={'center': 'accuracy'}, xlabel='majmin'>,\n",
       "        <Axes: title={'center': 'balanced accuracy'}, xlabel='majmin'>,\n",
       "        <Axes: title={'center': 'f1'}, xlabel='majmin'>],\n",
       "       [<Axes: title={'center': 'precision'}, xlabel='majmin'>,\n",
       "        <Axes: title={'center': 'false positive rate'}, xlabel='majmin'>,\n",
       "        <Axes: title={'center': 'false negative rate'}, xlabel='majmin'>],\n",
       "       [<Axes: title={'center': 'selection rate'}, xlabel='majmin'>,\n",
       "        <Axes: title={'center': 'count'}, xlabel='majmin'>,\n",
       "        <Axes: xlabel='majmin'>]], dtype=object)"
      ]
     },
     "execution_count": 63,
     "metadata": {},
     "output_type": "execute_result"
    },
    {
     "data": {
      "image/png": "[encoded data removed]",
      "text/plain": [
       "<Figure size 1200x800 with 9 Axes>"
      ]
     },
     "metadata": {},
     "output_type": "display_data"
    }
   ],
   "source": [
    "# In a graphic\n",
    "metric_frame.by_group.plot.bar(\n",
    "    subplots=True,\n",
    "    layout=[3, 3],\n",
    "    legend=False,\n",
    "    figsize=[12, 8],\n",
    "    title=\"Show all metrics\",\n",
    ")"
   ]
  },
  {
   "cell_type": "markdown",
   "id": "f57a0bac",
   "metadata": {
    "papermill": {
     "duration": 0.026377,
     "end_time": "2025-08-05T16:38:40.093551",
     "exception": false,
     "start_time": "2025-08-05T16:38:40.067174",
     "status": "completed"
    },
    "tags": []
   },
   "source": [
    "# Final Output"
   ]
  },
  {
   "cell_type": "code",
   "execution_count": 64,
   "id": "96d280a3",
   "metadata": {
    "execution": {
     "iopub.execute_input": "2025-08-05T16:38:40.148566Z",
     "iopub.status.busy": "2025-08-05T16:38:40.147942Z",
     "iopub.status.idle": "2025-08-05T16:38:40.155900Z",
     "shell.execute_reply": "2025-08-05T16:38:40.154770Z"
    },
    "papermill": {
     "duration": 0.037244,
     "end_time": "2025-08-05T16:38:40.157745",
     "exception": false,
     "start_time": "2025-08-05T16:38:40.120501",
     "status": "completed"
    },
    "tags": []
   },
   "outputs": [
    {
     "data": {
      "text/plain": [
       "4"
      ]
     },
     "execution_count": 64,
     "metadata": {},
     "output_type": "execute_result"
    }
   ],
   "source": [
    "sub_universes = universe_analysis.generate_sub_universes()\n",
    "len(sub_universes)"
   ]
  },
  {
   "cell_type": "code",
   "execution_count": 65,
   "id": "92adf7ba",
   "metadata": {
    "execution": {
     "iopub.execute_input": "2025-08-05T16:38:40.205467Z",
     "iopub.status.busy": "2025-08-05T16:38:40.204986Z",
     "iopub.status.idle": "2025-08-05T16:38:40.210626Z",
     "shell.execute_reply": "2025-08-05T16:38:40.209641Z"
    },
    "papermill": {
     "duration": 0.030626,
     "end_time": "2025-08-05T16:38:40.212345",
     "exception": false,
     "start_time": "2025-08-05T16:38:40.181719",
     "status": "completed"
    },
    "tags": []
   },
   "outputs": [],
   "source": [
    "def filter_sub_universe_data(sub_universe, org_test):\n",
    "    # Keep all rows — no filtering\n",
    "    keep_rows_mask = np.ones(org_test.shape[0], dtype=bool)\n",
    "\n",
    "    print(f\"[INFO] Keeping all rows: {keep_rows_mask.sum()} rows retained.\")\n",
    "    return keep_rows_mask"
   ]
  },
  {
   "cell_type": "code",
   "execution_count": 66,
   "id": "4a759155",
   "metadata": {
    "execution": {
     "iopub.execute_input": "2025-08-05T16:38:40.260578Z",
     "iopub.status.busy": "2025-08-05T16:38:40.260227Z",
     "iopub.status.idle": "2025-08-05T16:38:48.729564Z",
     "shell.execute_reply": "2025-08-05T16:38:48.728558Z"
    },
    "papermill": {
     "duration": 8.494688,
     "end_time": "2025-08-05T16:38:48.731263",
     "exception": false,
     "start_time": "2025-08-05T16:38:40.236575",
     "status": "completed"
    },
    "tags": []
   },
   "outputs": [
    {
     "name": "stdout",
     "output_type": "stream",
     "text": [
      "Stopping execution_time clock.\n",
      "[INFO] Keeping all rows: 89710 rows retained.\n"
     ]
    },
    {
     "name": "stdout",
     "output_type": "stream",
     "text": [
      "[INFO] Keeping all rows: 89710 rows retained.\n"
     ]
    },
    {
     "name": "stdout",
     "output_type": "stream",
     "text": [
      "[INFO] Keeping all rows: 89710 rows retained.\n"
     ]
    },
    {
     "name": "stdout",
     "output_type": "stream",
     "text": [
      "[INFO] Keeping all rows: 89710 rows retained.\n"
     ]
    },
    {
     "data": {
      "text/html": [
       "<div>\n",
       "<style scoped>\n",
       "    .dataframe tbody tr th:only-of-type {\n",
       "        vertical-align: middle;\n",
       "    }\n",
       "\n",
       "    .dataframe tbody tr th {\n",
       "        vertical-align: top;\n",
       "    }\n",
       "\n",
       "    .dataframe thead th {\n",
       "        text-align: right;\n",
       "    }\n",
       "</style>\n",
       "<table border=\"1\" class=\"dataframe\">\n",
       "  <thead>\n",
       "    <tr style=\"text-align: right;\">\n",
       "      <th></th>\n",
       "      <th>run_no</th>\n",
       "      <th>universe_id</th>\n",
       "      <th>universe_settings</th>\n",
       "      <th>execution_time</th>\n",
       "      <th>test_size_n</th>\n",
       "      <th>test_size_frac</th>\n",
       "      <th>fair_main_equalized_odds_difference</th>\n",
       "      <th>fair_main_equalized_odds_ratio</th>\n",
       "      <th>fair_main_demographic_parity_difference</th>\n",
       "      <th>fair_main_demographic_parity_ratio</th>\n",
       "      <th>...</th>\n",
       "      <th>perf_grp_precision_0</th>\n",
       "      <th>perf_grp_precision_1</th>\n",
       "      <th>perf_grp_false positive rate_0</th>\n",
       "      <th>perf_grp_false positive rate_1</th>\n",
       "      <th>perf_grp_false negative rate_0</th>\n",
       "      <th>perf_grp_false negative rate_1</th>\n",
       "      <th>perf_grp_selection rate_0</th>\n",
       "      <th>perf_grp_selection rate_1</th>\n",
       "      <th>perf_grp_count_0</th>\n",
       "      <th>perf_grp_count_1</th>\n",
       "    </tr>\n",
       "  </thead>\n",
       "  <tbody>\n",
       "    <tr>\n",
       "      <th>0</th>\n",
       "      <td>15</td>\n",
       "      <td>bb233a5bf11db7b9b33b1cc5589a045d</td>\n",
       "      <td>{\"cutoff\": \"quantile_0.1\", \"eval_fairness_grou...</td>\n",
       "      <td>26.212217</td>\n",
       "      <td>89710</td>\n",
       "      <td>1.0</td>\n",
       "      <td>0.055863</td>\n",
       "      <td>0.940159</td>\n",
       "      <td>0.049441</td>\n",
       "      <td>0.947298</td>\n",
       "      <td>...</td>\n",
       "      <td>NaN</td>\n",
       "      <td>NaN</td>\n",
       "      <td>NaN</td>\n",
       "      <td>NaN</td>\n",
       "      <td>NaN</td>\n",
       "      <td>NaN</td>\n",
       "      <td>NaN</td>\n",
       "      <td>NaN</td>\n",
       "      <td>NaN</td>\n",
       "      <td>NaN</td>\n",
       "    </tr>\n",
       "    <tr>\n",
       "      <th>0</th>\n",
       "      <td>15</td>\n",
       "      <td>bb233a5bf11db7b9b33b1cc5589a045d</td>\n",
       "      <td>{\"cutoff\": \"quantile_0.1\", \"eval_fairness_grou...</td>\n",
       "      <td>26.212217</td>\n",
       "      <td>89710</td>\n",
       "      <td>1.0</td>\n",
       "      <td>0.055863</td>\n",
       "      <td>0.940159</td>\n",
       "      <td>0.049441</td>\n",
       "      <td>0.947298</td>\n",
       "      <td>...</td>\n",
       "      <td>0.119622</td>\n",
       "      <td>0.142899</td>\n",
       "      <td>0.933524</td>\n",
       "      <td>0.877661</td>\n",
       "      <td>0.026605</td>\n",
       "      <td>0.038950</td>\n",
       "      <td>0.938121</td>\n",
       "      <td>0.888680</td>\n",
       "      <td>20540.0</td>\n",
       "      <td>69170.0</td>\n",
       "    </tr>\n",
       "    <tr>\n",
       "      <th>0</th>\n",
       "      <td>15</td>\n",
       "      <td>bb233a5bf11db7b9b33b1cc5589a045d</td>\n",
       "      <td>{\"cutoff\": \"quantile_0.25\", \"eval_fairness_gro...</td>\n",
       "      <td>26.212217</td>\n",
       "      <td>89710</td>\n",
       "      <td>1.0</td>\n",
       "      <td>0.102123</td>\n",
       "      <td>0.886723</td>\n",
       "      <td>0.046529</td>\n",
       "      <td>0.938830</td>\n",
       "      <td>...</td>\n",
       "      <td>NaN</td>\n",
       "      <td>NaN</td>\n",
       "      <td>NaN</td>\n",
       "      <td>NaN</td>\n",
       "      <td>NaN</td>\n",
       "      <td>NaN</td>\n",
       "      <td>NaN</td>\n",
       "      <td>NaN</td>\n",
       "      <td>NaN</td>\n",
       "      <td>NaN</td>\n",
       "    </tr>\n",
       "    <tr>\n",
       "      <th>0</th>\n",
       "      <td>15</td>\n",
       "      <td>bb233a5bf11db7b9b33b1cc5589a045d</td>\n",
       "      <td>{\"cutoff\": \"quantile_0.25\", \"eval_fairness_gro...</td>\n",
       "      <td>26.212217</td>\n",
       "      <td>89710</td>\n",
       "      <td>1.0</td>\n",
       "      <td>0.102123</td>\n",
       "      <td>0.886723</td>\n",
       "      <td>0.046529</td>\n",
       "      <td>0.938830</td>\n",
       "      <td>...</td>\n",
       "      <td>0.129056</td>\n",
       "      <td>0.156612</td>\n",
       "      <td>0.703005</td>\n",
       "      <td>0.739197</td>\n",
       "      <td>0.200591</td>\n",
       "      <td>0.098468</td>\n",
       "      <td>0.714119</td>\n",
       "      <td>0.760648</td>\n",
       "      <td>20540.0</td>\n",
       "      <td>69170.0</td>\n",
       "    </tr>\n",
       "  </tbody>\n",
       "</table>\n",
       "<p>4 rows × 50 columns</p>\n",
       "</div>"
      ],
      "text/plain": [
       "  run_no                       universe_id  \\\n",
       "0     15  bb233a5bf11db7b9b33b1cc5589a045d   \n",
       "0     15  bb233a5bf11db7b9b33b1cc5589a045d   \n",
       "0     15  bb233a5bf11db7b9b33b1cc5589a045d   \n",
       "0     15  bb233a5bf11db7b9b33b1cc5589a045d   \n",
       "\n",
       "                                   universe_settings  execution_time  \\\n",
       "0  {\"cutoff\": \"quantile_0.1\", \"eval_fairness_grou...       26.212217   \n",
       "0  {\"cutoff\": \"quantile_0.1\", \"eval_fairness_grou...       26.212217   \n",
       "0  {\"cutoff\": \"quantile_0.25\", \"eval_fairness_gro...       26.212217   \n",
       "0  {\"cutoff\": \"quantile_0.25\", \"eval_fairness_gro...       26.212217   \n",
       "\n",
       "   test_size_n  test_size_frac  fair_main_equalized_odds_difference  \\\n",
       "0        89710             1.0                             0.055863   \n",
       "0        89710             1.0                             0.055863   \n",
       "0        89710             1.0                             0.102123   \n",
       "0        89710             1.0                             0.102123   \n",
       "\n",
       "   fair_main_equalized_odds_ratio  fair_main_demographic_parity_difference  \\\n",
       "0                        0.940159                                 0.049441   \n",
       "0                        0.940159                                 0.049441   \n",
       "0                        0.886723                                 0.046529   \n",
       "0                        0.886723                                 0.046529   \n",
       "\n",
       "   fair_main_demographic_parity_ratio  ...  perf_grp_precision_0  \\\n",
       "0                            0.947298  ...                   NaN   \n",
       "0                            0.947298  ...              0.119622   \n",
       "0                            0.938830  ...                   NaN   \n",
       "0                            0.938830  ...              0.129056   \n",
       "\n",
       "   perf_grp_precision_1  perf_grp_false positive rate_0  \\\n",
       "0                   NaN                             NaN   \n",
       "0              0.142899                        0.933524   \n",
       "0                   NaN                             NaN   \n",
       "0              0.156612                        0.703005   \n",
       "\n",
       "   perf_grp_false positive rate_1  perf_grp_false negative rate_0  \\\n",
       "0                             NaN                             NaN   \n",
       "0                        0.877661                        0.026605   \n",
       "0                             NaN                             NaN   \n",
       "0                        0.739197                        0.200591   \n",
       "\n",
       "   perf_grp_false negative rate_1  perf_grp_selection rate_0  \\\n",
       "0                             NaN                        NaN   \n",
       "0                        0.038950                   0.938121   \n",
       "0                             NaN                        NaN   \n",
       "0                        0.098468                   0.714119   \n",
       "\n",
       "   perf_grp_selection rate_1  perf_grp_count_0  perf_grp_count_1  \n",
       "0                        NaN               NaN               NaN  \n",
       "0                   0.888680           20540.0           69170.0  \n",
       "0                        NaN               NaN               NaN  \n",
       "0                   0.760648           20540.0           69170.0  \n",
       "\n",
       "[4 rows x 50 columns]"
      ]
     },
     "execution_count": 66,
     "metadata": {},
     "output_type": "execute_result"
    }
   ],
   "source": [
    "final_output = universe_analysis.generate_final_output(\n",
    "    y_pred_prob=probs_test,\n",
    "    y_test=y_true,\n",
    "    org_test=org_test,\n",
    "    filter_data=filter_sub_universe_data,\n",
    "    cp_metrics_df=cp_metrics_df,\n",
    "    save=True,\n",
    ")\n",
    "final_output"
   ]
  }
 ],
 "metadata": {
  "celltoolbar": "Tags",
  "kernelspec": {
   "display_name": "Python (CMA Fairness)",
   "language": "python",
   "name": "cma_fair_env"
  },
  "language_info": {
   "codemirror_mode": {
    "name": "ipython",
    "version": 3
   },
   "file_extension": ".py",
   "mimetype": "text/x-python",
   "name": "python",
   "nbconvert_exporter": "python",
   "pygments_lexer": "ipython3",
   "version": "3.10.12"
  },
  "papermill": {
   "default_parameters": {},
   "duration": 38.666977,
   "end_time": "2025-08-05T16:38:49.380063",
   "environment_variables": {},
   "exception": null,
   "input_path": "universe_analysis.ipynb",
   "output_path": "output/runs/15/notebooks/m_15-bb233a5bf11db7b9b33b1cc5589a045d.ipynb",
   "parameters": {
    "output_dir": "output",
    "run_no": "15",
    "seed": "2023",
    "universe": "{\"cutoff\": [\"quantile_0.1\", \"quantile_0.25\"], \"eval_fairness_grouping\": [\"majority-minority\", \"nationality-all\"], \"exclude_features\": \"age\", \"exclude_subgroups\": \"keep-all\", \"model\": \"elasticnet\", \"scale\": \"scale\", \"training_size\": \"1k\", \"training_year\": \"2010_14\"}",
    "universe_id": "bb233a5bf11db7b9b33b1cc5589a045d"
   },
   "start_time": "2025-08-05T16:38:10.713086",
   "version": "2.6.0"
  }
 },
 "nbformat": 4,
 "nbformat_minor": 5
}