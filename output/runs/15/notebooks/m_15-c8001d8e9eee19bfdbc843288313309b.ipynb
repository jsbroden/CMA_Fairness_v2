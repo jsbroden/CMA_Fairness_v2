{
 "cells": [
  {
   "cell_type": "code",
   "execution_count": 1,
   "id": "f159f837-637b-42ba-96b5-ec9a68c44524",
   "metadata": {
    "execution": {
     "iopub.execute_input": "2025-08-05T16:20:15.795860Z",
     "iopub.status.busy": "2025-08-05T16:20:15.795174Z",
     "iopub.status.idle": "2025-08-05T16:20:15.810617Z",
     "shell.execute_reply": "2025-08-05T16:20:15.809475Z"
    },
    "papermill": {
     "duration": 0.041304,
     "end_time": "2025-08-05T16:20:15.812369",
     "exception": false,
     "start_time": "2025-08-05T16:20:15.771065",
     "status": "completed"
    },
    "tags": []
   },
   "outputs": [
    {
     "name": "stdout",
     "output_type": "stream",
     "text": [
      "/dss/dsshome1/0C/ra93lal2/cma/CMA_Fairness_v2\n"
     ]
    },
    {
     "name": "stderr",
     "output_type": "stream",
     "text": [
      "/dss/dsshome1/0C/ra93lal2/.local/share/virtualenvs/CMA_Fairness_v2-3j10GkSs/lib/python3.10/site-packages/IPython/core/magics/osm.py:393: UserWarning: This is now an optional IPython functionality, using bookmarks requires you to install the `pickleshare` library.\n",
      "  bkms = self.shell.db.get('bookmarks', {})\n",
      "/dss/dsshome1/0C/ra93lal2/.local/share/virtualenvs/CMA_Fairness_v2-3j10GkSs/lib/python3.10/site-packages/IPython/core/magics/osm.py:417: UserWarning: This is now an optional IPython functionality, setting dhist requires you to install the `pickleshare` library.\n",
      "  self.shell.db['dhist'] = compress_dhist(dhist)[-100:]\n"
     ]
    }
   ],
   "source": [
    "%cd ~/cma/CMA_Fairness_v2"
   ]
  },
  {
   "cell_type": "markdown",
   "id": "de2603b9",
   "metadata": {
    "papermill": {
     "duration": 0.018481,
     "end_time": "2025-08-05T16:20:15.850119",
     "exception": false,
     "start_time": "2025-08-05T16:20:15.831638",
     "status": "completed"
    },
    "tags": []
   },
   "source": [
    "The following cell holds the definition of our parameters, these values can be overriden by rendering the with e.g. the following command:\n",
    "\n",
    "papermill -p alpha 0.2 -p ratio 0.3 universe_analysis.ipynb output/test_run.ipynb"
   ]
  },
  {
   "cell_type": "code",
   "execution_count": 2,
   "id": "a80968a0-40bb-4fa9-85ef-2d5eefb01975",
   "metadata": {
    "execution": {
     "iopub.execute_input": "2025-08-05T16:20:15.889288Z",
     "iopub.status.busy": "2025-08-05T16:20:15.888537Z",
     "iopub.status.idle": "2025-08-05T16:20:15.894930Z",
     "shell.execute_reply": "2025-08-05T16:20:15.893854Z"
    },
    "papermill": {
     "duration": 0.028118,
     "end_time": "2025-08-05T16:20:15.896844",
     "exception": false,
     "start_time": "2025-08-05T16:20:15.868726",
     "status": "completed"
    },
    "tags": []
   },
   "outputs": [
    {
     "name": "stdout",
     "output_type": "stream",
     "text": [
      "Current working directory: /dss/dsshome1/0C/ra93lal2/cma/CMA_Fairness_v2\n"
     ]
    }
   ],
   "source": [
    "import os\n",
    "print(\"Current working directory:\", os.getcwd())"
   ]
  },
  {
   "cell_type": "code",
   "execution_count": 3,
   "id": "2dce4c03",
   "metadata": {
    "execution": {
     "iopub.execute_input": "2025-08-05T16:20:15.943041Z",
     "iopub.status.busy": "2025-08-05T16:20:15.942660Z",
     "iopub.status.idle": "2025-08-05T16:20:15.949402Z",
     "shell.execute_reply": "2025-08-05T16:20:15.948355Z"
    },
    "papermill": {
     "duration": 0.032301,
     "end_time": "2025-08-05T16:20:15.951558",
     "exception": false,
     "start_time": "2025-08-05T16:20:15.919257",
     "status": "completed"
    },
    "tags": [
     "parameters"
    ]
   },
   "outputs": [],
   "source": [
    "run_no = 0\n",
    "universe_id = \"test\"\n",
    "universe = {\n",
    "    \"training_size\": \"25k\", # \"25k\", \"5k\", \"1k\"\n",
    "    \"training_year\": \"2014\", # \"2014\", \"2012_14\", \"2010_14\"\n",
    "    \"scale\": \"scale\", # \"scale\", \"do-not-scale\",\n",
    "    \"model\": \"elasticnet\", # \"logreg\", \"penalized_logreg\", \"rf\", \"gbm\", \"elasticnet\"\n",
    "    \"cutoff\": [\"quantile_0.15\", \"quantile_0.30\"],\n",
    "    \"exclude_features\": \"age\", # \"none\", \"nationality\", \"sex\", \"nationality-sex\", \"age\"\n",
    "    \"exclude_subgroups\": \"keep-all\", # \"keep-all\", \"drop-non-german\"\n",
    "    \"eval_fairness_grouping\": [\"majority-minority\", \"nationality-all\"]\n",
    "}\n",
    "\n",
    "output_dir=\"./output\"\n",
    "seed=0"
   ]
  },
  {
   "cell_type": "code",
   "execution_count": 4,
   "id": "12709215",
   "metadata": {
    "execution": {
     "iopub.execute_input": "2025-08-05T16:20:15.997847Z",
     "iopub.status.busy": "2025-08-05T16:20:15.997464Z",
     "iopub.status.idle": "2025-08-05T16:20:16.003746Z",
     "shell.execute_reply": "2025-08-05T16:20:16.002593Z"
    },
    "papermill": {
     "duration": 0.031434,
     "end_time": "2025-08-05T16:20:16.005633",
     "exception": false,
     "start_time": "2025-08-05T16:20:15.974199",
     "status": "completed"
    },
    "tags": [
     "injected-parameters"
    ]
   },
   "outputs": [],
   "source": [
    "# Parameters\n",
    "universe_id = \"c8001d8e9eee19bfdbc843288313309b\"\n",
    "run_no = \"15\"\n",
    "universe = \"{\\\"cutoff\\\": [\\\"quantile_0.1\\\", \\\"quantile_0.25\\\"], \\\"eval_fairness_grouping\\\": [\\\"majority-minority\\\", \\\"nationality-all\\\"], \\\"exclude_features\\\": \\\"nationality\\\", \\\"exclude_subgroups\\\": \\\"keep-all\\\", \\\"model\\\": \\\"gbm\\\", \\\"scale\\\": \\\"scale\\\", \\\"training_size\\\": \\\"1k\\\", \\\"training_year\\\": \\\"2012_14\\\"}\"\n",
    "output_dir = \"output\"\n",
    "seed = \"2023\"\n"
   ]
  },
  {
   "cell_type": "code",
   "execution_count": 5,
   "id": "1650acaf",
   "metadata": {
    "execution": {
     "iopub.execute_input": "2025-08-05T16:20:16.054458Z",
     "iopub.status.busy": "2025-08-05T16:20:16.053986Z",
     "iopub.status.idle": "2025-08-05T16:20:16.059349Z",
     "shell.execute_reply": "2025-08-05T16:20:16.058279Z"
    },
    "papermill": {
     "duration": 0.031168,
     "end_time": "2025-08-05T16:20:16.061509",
     "exception": false,
     "start_time": "2025-08-05T16:20:16.030341",
     "status": "completed"
    },
    "tags": []
   },
   "outputs": [],
   "source": [
    "import json\n",
    "if isinstance(universe, str):\n",
    "    universe = json.loads(universe)"
   ]
  },
  {
   "cell_type": "code",
   "execution_count": 6,
   "id": "16620c48",
   "metadata": {
    "execution": {
     "iopub.execute_input": "2025-08-05T16:20:16.108032Z",
     "iopub.status.busy": "2025-08-05T16:20:16.107766Z",
     "iopub.status.idle": "2025-08-05T16:20:16.158484Z",
     "shell.execute_reply": "2025-08-05T16:20:16.157340Z"
    },
    "papermill": {
     "duration": 0.07669,
     "end_time": "2025-08-05T16:20:16.160893",
     "exception": false,
     "start_time": "2025-08-05T16:20:16.084203",
     "status": "completed"
    },
    "tags": []
   },
   "outputs": [],
   "source": [
    "# Auto-reload the custom package\n",
    "%load_ext autoreload\n",
    "%autoreload 1\n",
    "%aimport fairness_multiverse"
   ]
  },
  {
   "cell_type": "code",
   "execution_count": 7,
   "id": "01c5c9f3",
   "metadata": {
    "execution": {
     "iopub.execute_input": "2025-08-05T16:20:16.211080Z",
     "iopub.status.busy": "2025-08-05T16:20:16.210178Z",
     "iopub.status.idle": "2025-08-05T16:20:18.399788Z",
     "shell.execute_reply": "2025-08-05T16:20:18.398494Z"
    },
    "papermill": {
     "duration": 2.217409,
     "end_time": "2025-08-05T16:20:18.402115",
     "exception": false,
     "start_time": "2025-08-05T16:20:16.184706",
     "status": "completed"
    },
    "tags": []
   },
   "outputs": [],
   "source": [
    "from fairness_multiverse.universe import UniverseAnalysis\n",
    "\n",
    "universe_analysis = UniverseAnalysis(\n",
    "    run_no = run_no,\n",
    "    universe_id = universe_id,\n",
    "    universe = universe,\n",
    "    output_dir=output_dir,\n",
    ")"
   ]
  },
  {
   "cell_type": "code",
   "execution_count": 8,
   "id": "106241f5",
   "metadata": {
    "execution": {
     "iopub.execute_input": "2025-08-05T16:20:18.447698Z",
     "iopub.status.busy": "2025-08-05T16:20:18.446575Z",
     "iopub.status.idle": "2025-08-05T16:20:18.454018Z",
     "shell.execute_reply": "2025-08-05T16:20:18.452816Z"
    },
    "papermill": {
     "duration": 0.031248,
     "end_time": "2025-08-05T16:20:18.456032",
     "exception": false,
     "start_time": "2025-08-05T16:20:18.424784",
     "status": "completed"
    },
    "tags": []
   },
   "outputs": [
    {
     "name": "stdout",
     "output_type": "stream",
     "text": [
      "Using Seed: 2023\n"
     ]
    }
   ],
   "source": [
    "import numpy as np\n",
    "parsed_seed = int(seed)\n",
    "np.random.seed(parsed_seed)\n",
    "print(f\"Using Seed: {parsed_seed}\")"
   ]
  },
  {
   "cell_type": "markdown",
   "id": "e0ebdc57",
   "metadata": {
    "papermill": {
     "duration": 0.021756,
     "end_time": "2025-08-05T16:20:18.499759",
     "exception": false,
     "start_time": "2025-08-05T16:20:18.478003",
     "status": "completed"
    },
    "tags": []
   },
   "source": [
    "# Loading Data"
   ]
  },
  {
   "cell_type": "code",
   "execution_count": 9,
   "id": "f0496b8a",
   "metadata": {
    "execution": {
     "iopub.execute_input": "2025-08-05T16:20:18.544699Z",
     "iopub.status.busy": "2025-08-05T16:20:18.544146Z",
     "iopub.status.idle": "2025-08-05T16:20:34.755227Z",
     "shell.execute_reply": "2025-08-05T16:20:34.753741Z"
    },
    "papermill": {
     "duration": 16.235996,
     "end_time": "2025-08-05T16:20:34.757221",
     "exception": false,
     "start_time": "2025-08-05T16:20:18.521225",
     "status": "completed"
    },
    "tags": []
   },
   "outputs": [
    {
     "name": "stdout",
     "output_type": "stream",
     "text": [
      "Loading SIAB data from cache: data/siab_cached.csv.gz\n"
     ]
    },
    {
     "name": "stdout",
     "output_type": "stream",
     "text": [
      "(643690, 164)\n"
     ]
    }
   ],
   "source": [
    "from pathlib import Path\n",
    "import pandas as pd\n",
    "\n",
    "# File paths\n",
    "raw_file = Path(\"data/raw/siab.csv\")\n",
    "cache_file = Path(\"data/siab_cached.csv.gz\")\n",
    "\n",
    "# Ensure cache directory exists\n",
    "cache_file.parent.mkdir(parents=True, exist_ok=True)\n",
    "\n",
    "# Load with simple caching\n",
    "if cache_file.exists():\n",
    "    print(f\"Loading SIAB data from cache: {cache_file}\")\n",
    "    siab = pd.read_csv(cache_file, compression='gzip')\n",
    "else:\n",
    "    print(f\"Cache not found. Reading raw SIAB data: {raw_file}\")\n",
    "    siab = pd.read_csv(raw_file)\n",
    "    siab.to_csv(cache_file, index=False, compression='gzip')\n",
    "    print(f\"Cached SIAB data to: {cache_file}\")\n",
    "\n",
    "print(siab.shape)"
   ]
  },
  {
   "cell_type": "code",
   "execution_count": 10,
   "id": "db0ca512-5f53-4dba-abdb-a2888bca41ba",
   "metadata": {
    "execution": {
     "iopub.execute_input": "2025-08-05T16:20:34.783264Z",
     "iopub.status.busy": "2025-08-05T16:20:34.782713Z",
     "iopub.status.idle": "2025-08-05T16:20:34.788790Z",
     "shell.execute_reply": "2025-08-05T16:20:34.787790Z"
    },
    "papermill": {
     "duration": 0.021172,
     "end_time": "2025-08-05T16:20:34.790307",
     "exception": false,
     "start_time": "2025-08-05T16:20:34.769135",
     "status": "completed"
    },
    "tags": []
   },
   "outputs": [],
   "source": [
    "#siab"
   ]
  },
  {
   "cell_type": "markdown",
   "id": "997051c5-15bd-4b69-9786-c3001a3ce484",
   "metadata": {
    "papermill": {
     "duration": 0.012853,
     "end_time": "2025-08-05T16:20:34.821237",
     "exception": false,
     "start_time": "2025-08-05T16:20:34.808384",
     "status": "completed"
    },
    "tags": []
   },
   "source": [
    "# Splitting Data and Setting Training Data Size"
   ]
  },
  {
   "cell_type": "code",
   "execution_count": 11,
   "id": "aea9c6ef-6f46-42c8-85eb-5a62025c1508",
   "metadata": {
    "execution": {
     "iopub.execute_input": "2025-08-05T16:20:34.855454Z",
     "iopub.status.busy": "2025-08-05T16:20:34.854886Z",
     "iopub.status.idle": "2025-08-05T16:20:35.504554Z",
     "shell.execute_reply": "2025-08-05T16:20:35.503647Z"
    },
    "papermill": {
     "duration": 0.674566,
     "end_time": "2025-08-05T16:20:35.506885",
     "exception": false,
     "start_time": "2025-08-05T16:20:34.832319",
     "status": "completed"
    },
    "tags": []
   },
   "outputs": [],
   "source": [
    "from fairness_multiverse.universe import sample_by_year_size\n",
    "\n",
    "siab_train = sample_by_year_size(siab,\n",
    "                               training_year=universe[\"training_year\"],\n",
    "                               training_size=universe[\"training_size\"])"
   ]
  },
  {
   "cell_type": "code",
   "execution_count": 12,
   "id": "8d3afb32-789d-442c-8d5d-9f5aa8dd2eed",
   "metadata": {
    "execution": {
     "iopub.execute_input": "2025-08-05T16:20:35.562605Z",
     "iopub.status.busy": "2025-08-05T16:20:35.562074Z",
     "iopub.status.idle": "2025-08-05T16:20:35.568302Z",
     "shell.execute_reply": "2025-08-05T16:20:35.567165Z"
    },
    "papermill": {
     "duration": 0.0323,
     "end_time": "2025-08-05T16:20:35.570227",
     "exception": false,
     "start_time": "2025-08-05T16:20:35.537927",
     "status": "completed"
    },
    "tags": []
   },
   "outputs": [],
   "source": [
    "#siab_train.shape"
   ]
  },
  {
   "cell_type": "code",
   "execution_count": 13,
   "id": "d582db68-1a4c-47fb-84fc-08518dc1975a",
   "metadata": {
    "execution": {
     "iopub.execute_input": "2025-08-05T16:20:35.620647Z",
     "iopub.status.busy": "2025-08-05T16:20:35.619503Z",
     "iopub.status.idle": "2025-08-05T16:20:35.626205Z",
     "shell.execute_reply": "2025-08-05T16:20:35.624900Z"
    },
    "papermill": {
     "duration": 0.034973,
     "end_time": "2025-08-05T16:20:35.628723",
     "exception": false,
     "start_time": "2025-08-05T16:20:35.593750",
     "status": "completed"
    },
    "tags": []
   },
   "outputs": [],
   "source": [
    "#display(siab_train.groupby(\"year\").size())"
   ]
  },
  {
   "cell_type": "code",
   "execution_count": 14,
   "id": "a561edb4-d032-42cb-8256-22eac1111c64",
   "metadata": {
    "execution": {
     "iopub.execute_input": "2025-08-05T16:20:35.695554Z",
     "iopub.status.busy": "2025-08-05T16:20:35.694901Z",
     "iopub.status.idle": "2025-08-05T16:20:35.962696Z",
     "shell.execute_reply": "2025-08-05T16:20:35.961618Z"
    },
    "papermill": {
     "duration": 0.303489,
     "end_time": "2025-08-05T16:20:35.964694",
     "exception": false,
     "start_time": "2025-08-05T16:20:35.661205",
     "status": "completed"
    },
    "tags": []
   },
   "outputs": [],
   "source": [
    "#siab_train = siab_s[siab_s.year < 2015]\n",
    "siab_calib = siab[siab.year == 2015]\n",
    "siab_test = siab[siab.year == 2016]"
   ]
  },
  {
   "cell_type": "code",
   "execution_count": 15,
   "id": "472de16f-c3db-4916-846b-1f0de9cf1746",
   "metadata": {
    "execution": {
     "iopub.execute_input": "2025-08-05T16:20:36.003428Z",
     "iopub.status.busy": "2025-08-05T16:20:36.002997Z",
     "iopub.status.idle": "2025-08-05T16:20:36.009636Z",
     "shell.execute_reply": "2025-08-05T16:20:36.008594Z"
    },
    "papermill": {
     "duration": 0.025655,
     "end_time": "2025-08-05T16:20:36.011235",
     "exception": false,
     "start_time": "2025-08-05T16:20:35.985580",
     "status": "completed"
    },
    "tags": []
   },
   "outputs": [],
   "source": [
    "X_train = siab_train.iloc[:,4:164]\n",
    "y_train = siab_train.iloc[:, [3]]"
   ]
  },
  {
   "cell_type": "code",
   "execution_count": 16,
   "id": "828c96af-f43a-4ed6-ba47-8ac73a47d56c",
   "metadata": {
    "execution": {
     "iopub.execute_input": "2025-08-05T16:20:36.039371Z",
     "iopub.status.busy": "2025-08-05T16:20:36.038366Z",
     "iopub.status.idle": "2025-08-05T16:20:36.097164Z",
     "shell.execute_reply": "2025-08-05T16:20:36.095682Z"
    },
    "papermill": {
     "duration": 0.075443,
     "end_time": "2025-08-05T16:20:36.099203",
     "exception": false,
     "start_time": "2025-08-05T16:20:36.023760",
     "status": "completed"
    },
    "tags": []
   },
   "outputs": [],
   "source": [
    "X_calib = siab_calib.iloc[:,4:164]\n",
    "y_calib = siab_calib.iloc[:, [3]]"
   ]
  },
  {
   "cell_type": "code",
   "execution_count": 17,
   "id": "c34be9c3-6bd6-476e-acd3-845840e303be",
   "metadata": {
    "execution": {
     "iopub.execute_input": "2025-08-05T16:20:36.166917Z",
     "iopub.status.busy": "2025-08-05T16:20:36.166424Z",
     "iopub.status.idle": "2025-08-05T16:20:36.234547Z",
     "shell.execute_reply": "2025-08-05T16:20:36.233595Z"
    },
    "papermill": {
     "duration": 0.106329,
     "end_time": "2025-08-05T16:20:36.236302",
     "exception": false,
     "start_time": "2025-08-05T16:20:36.129973",
     "status": "completed"
    },
    "tags": []
   },
   "outputs": [],
   "source": [
    "X_test = siab_test.iloc[:,4:164]\n",
    "y_true = siab_test.iloc[:, [3]]"
   ]
  },
  {
   "cell_type": "code",
   "execution_count": 18,
   "id": "e6c733c5",
   "metadata": {
    "execution": {
     "iopub.execute_input": "2025-08-05T16:20:36.262568Z",
     "iopub.status.busy": "2025-08-05T16:20:36.261701Z",
     "iopub.status.idle": "2025-08-05T16:20:36.366218Z",
     "shell.execute_reply": "2025-08-05T16:20:36.365145Z"
    },
    "papermill": {
     "duration": 0.119619,
     "end_time": "2025-08-05T16:20:36.368308",
     "exception": false,
     "start_time": "2025-08-05T16:20:36.248689",
     "status": "completed"
    },
    "tags": []
   },
   "outputs": [],
   "source": [
    "# Auxiliary data needed downstream in the pipeline\n",
    "\n",
    "org_train = X_train.copy()\n",
    "org_test = X_test.copy()\n",
    "org_calib = X_calib.copy()"
   ]
  },
  {
   "cell_type": "markdown",
   "id": "0a4a1b33",
   "metadata": {
    "papermill": {
     "duration": 0.020808,
     "end_time": "2025-08-05T16:20:36.410582",
     "exception": false,
     "start_time": "2025-08-05T16:20:36.389774",
     "status": "completed"
    },
    "tags": []
   },
   "source": [
    "# Preprocessing Data"
   ]
  },
  {
   "cell_type": "code",
   "execution_count": 19,
   "id": "ca879031",
   "metadata": {
    "execution": {
     "iopub.execute_input": "2025-08-05T16:20:36.453712Z",
     "iopub.status.busy": "2025-08-05T16:20:36.453032Z",
     "iopub.status.idle": "2025-08-05T16:20:36.460479Z",
     "shell.execute_reply": "2025-08-05T16:20:36.459329Z"
    },
    "papermill": {
     "duration": 0.031255,
     "end_time": "2025-08-05T16:20:36.462356",
     "exception": false,
     "start_time": "2025-08-05T16:20:36.431101",
     "status": "completed"
    },
    "tags": []
   },
   "outputs": [],
   "source": [
    "# EXCLUDE PROTECTED FEATURES\n",
    "# ----------------------\n",
    "# \"exclude_features\": \"none\", # \"nationality\", \"sex\", \"nationality-sex\"\n",
    "\n",
    "excluded_features = universe[\"exclude_features\"].split(\"-\") # split, e.g.: \"nationality-sex\" -> [\"nationality\", \"sex\"]\n",
    "excluded_features_dictionary = {\n",
    "    \"nationality\": [\"maxdeutsch1\", \"maxdeutsch.Missing.\"],\n",
    "    \"sex\": [\"frau1\"],\n",
    "    \"age\": [\"age\"],\n",
    "}"
   ]
  },
  {
   "cell_type": "code",
   "execution_count": 20,
   "id": "b745ac60",
   "metadata": {
    "execution": {
     "iopub.execute_input": "2025-08-05T16:20:36.506369Z",
     "iopub.status.busy": "2025-08-05T16:20:36.505421Z",
     "iopub.status.idle": "2025-08-05T16:20:36.512568Z",
     "shell.execute_reply": "2025-08-05T16:20:36.511437Z"
    },
    "papermill": {
     "duration": 0.030766,
     "end_time": "2025-08-05T16:20:36.514466",
     "exception": false,
     "start_time": "2025-08-05T16:20:36.483700",
     "status": "completed"
    },
    "tags": []
   },
   "outputs": [],
   "source": [
    "# Code nice names to column names\n",
    "\n",
    "excluded_features_columns = [\n",
    "    excluded_features_dictionary[f] for f in excluded_features if len(f) > 0 and f != \"none\"\n",
    "]"
   ]
  },
  {
   "cell_type": "code",
   "execution_count": 21,
   "id": "f84f73a2",
   "metadata": {
    "execution": {
     "iopub.execute_input": "2025-08-05T16:20:36.559448Z",
     "iopub.status.busy": "2025-08-05T16:20:36.558531Z",
     "iopub.status.idle": "2025-08-05T16:20:36.567333Z",
     "shell.execute_reply": "2025-08-05T16:20:36.565709Z"
    },
    "papermill": {
     "duration": 0.033327,
     "end_time": "2025-08-05T16:20:36.569138",
     "exception": false,
     "start_time": "2025-08-05T16:20:36.535811",
     "status": "completed"
    },
    "tags": []
   },
   "outputs": [],
   "source": [
    "from utils import flatten_once\n",
    "\n",
    "excluded_features_columns = flatten_once(excluded_features_columns)"
   ]
  },
  {
   "cell_type": "code",
   "execution_count": 22,
   "id": "884dea22",
   "metadata": {
    "execution": {
     "iopub.execute_input": "2025-08-05T16:20:36.614988Z",
     "iopub.status.busy": "2025-08-05T16:20:36.613745Z",
     "iopub.status.idle": "2025-08-05T16:20:36.625121Z",
     "shell.execute_reply": "2025-08-05T16:20:36.623834Z"
    },
    "papermill": {
     "duration": 0.036822,
     "end_time": "2025-08-05T16:20:36.627694",
     "exception": false,
     "start_time": "2025-08-05T16:20:36.590872",
     "status": "completed"
    },
    "tags": []
   },
   "outputs": [
    {
     "name": "stdout",
     "output_type": "stream",
     "text": [
      "Dropping features: ['maxdeutsch1', 'maxdeutsch.Missing.']\n"
     ]
    }
   ],
   "source": [
    "if len(excluded_features_columns) > 0:\n",
    "    print(f\"Dropping features: {excluded_features_columns}\")\n",
    "    X_train.drop(excluded_features_columns, axis=1, inplace=True)"
   ]
  },
  {
   "cell_type": "code",
   "execution_count": 23,
   "id": "95ab8b16",
   "metadata": {
    "execution": {
     "iopub.execute_input": "2025-08-05T16:20:36.696815Z",
     "iopub.status.busy": "2025-08-05T16:20:36.696365Z",
     "iopub.status.idle": "2025-08-05T16:20:36.760751Z",
     "shell.execute_reply": "2025-08-05T16:20:36.759606Z"
    },
    "papermill": {
     "duration": 0.101853,
     "end_time": "2025-08-05T16:20:36.763001",
     "exception": false,
     "start_time": "2025-08-05T16:20:36.661148",
     "status": "completed"
    },
    "tags": []
   },
   "outputs": [
    {
     "name": "stdout",
     "output_type": "stream",
     "text": [
      "Dropping features: ['maxdeutsch1', 'maxdeutsch.Missing.']\n"
     ]
    }
   ],
   "source": [
    "if len(excluded_features_columns) > 0:\n",
    "    print(f\"Dropping features: {excluded_features_columns}\")\n",
    "    X_test.drop(excluded_features_columns, axis=1, inplace=True)"
   ]
  },
  {
   "cell_type": "code",
   "execution_count": 24,
   "id": "1853aaf5-fb9f-46cb-a2b5-8ea4ae2237e4",
   "metadata": {
    "execution": {
     "iopub.execute_input": "2025-08-05T16:20:36.810629Z",
     "iopub.status.busy": "2025-08-05T16:20:36.810017Z",
     "iopub.status.idle": "2025-08-05T16:20:36.871195Z",
     "shell.execute_reply": "2025-08-05T16:20:36.869955Z"
    },
    "papermill": {
     "duration": 0.083816,
     "end_time": "2025-08-05T16:20:36.873435",
     "exception": false,
     "start_time": "2025-08-05T16:20:36.789619",
     "status": "completed"
    },
    "tags": []
   },
   "outputs": [
    {
     "name": "stdout",
     "output_type": "stream",
     "text": [
      "Dropping features: ['maxdeutsch1', 'maxdeutsch.Missing.']\n"
     ]
    }
   ],
   "source": [
    "if len(excluded_features_columns) > 0:\n",
    "    print(f\"Dropping features: {excluded_features_columns}\")\n",
    "    X_calib.drop(excluded_features_columns, axis=1, inplace=True)"
   ]
  },
  {
   "cell_type": "code",
   "execution_count": 25,
   "id": "76c4dc6d",
   "metadata": {
    "execution": {
     "iopub.execute_input": "2025-08-05T16:20:36.920104Z",
     "iopub.status.busy": "2025-08-05T16:20:36.919625Z",
     "iopub.status.idle": "2025-08-05T16:20:36.925994Z",
     "shell.execute_reply": "2025-08-05T16:20:36.924933Z"
    },
    "papermill": {
     "duration": 0.031473,
     "end_time": "2025-08-05T16:20:36.927830",
     "exception": false,
     "start_time": "2025-08-05T16:20:36.896357",
     "status": "completed"
    },
    "tags": []
   },
   "outputs": [],
   "source": [
    "# EXCLUDE CERTAIN SUBGROUPS\n",
    "# ----------------------\n",
    "\n",
    "mode = universe.get(\"exclude_subgroups\", \"keep-all\") \n",
    "# Fetches the exclude_subgroups setting from the universe dict.\n",
    "# Defaults to \"keep-all\" if the key is missing."
   ]
  },
  {
   "cell_type": "code",
   "execution_count": 26,
   "id": "21994072",
   "metadata": {
    "execution": {
     "iopub.execute_input": "2025-08-05T16:20:36.974244Z",
     "iopub.status.busy": "2025-08-05T16:20:36.973616Z",
     "iopub.status.idle": "2025-08-05T16:20:36.982611Z",
     "shell.execute_reply": "2025-08-05T16:20:36.981167Z"
    },
    "papermill": {
     "duration": 0.034363,
     "end_time": "2025-08-05T16:20:36.984605",
     "exception": false,
     "start_time": "2025-08-05T16:20:36.950242",
     "status": "completed"
    },
    "tags": []
   },
   "outputs": [],
   "source": [
    "if mode == \"keep-all\":\n",
    "    keep_mask = pd.Series(True, index=org_train.index)\n",
    "\n",
    "# org_train contains the original feature columns from features_org (in Simson)\n",
    "# features_org contains unprocessed features, for me X_train at beginning ???\n",
    "# For keep-all, creates a boolean Series (keep_mask) of all True, so no rows are removed.\n",
    "\n",
    "elif mode == \"drop-non-german\":\n",
    "    keep_mask = org_train[\"maxdeutsch1\"] == 1 # ??? what about missing values?\n",
    "\n",
    "else:\n",
    "    raise ValueError(f\"Unsupported mode for exclude_subgroups: {mode}\")"
   ]
  },
  {
   "cell_type": "code",
   "execution_count": 27,
   "id": "71651440",
   "metadata": {
    "execution": {
     "iopub.execute_input": "2025-08-05T16:20:37.031945Z",
     "iopub.status.busy": "2025-08-05T16:20:37.030828Z",
     "iopub.status.idle": "2025-08-05T16:20:37.039796Z",
     "shell.execute_reply": "2025-08-05T16:20:37.038669Z"
    },
    "papermill": {
     "duration": 0.035843,
     "end_time": "2025-08-05T16:20:37.042976",
     "exception": false,
     "start_time": "2025-08-05T16:20:37.007133",
     "status": "completed"
    },
    "tags": []
   },
   "outputs": [],
   "source": [
    "n_drop = (~keep_mask).sum() # Calculates how many rows are set to be dropped\n",
    "if n_drop > 0:\n",
    "    pct = n_drop / len(keep_mask) * 100\n",
    "    print(f\"Dropping {n_drop} rows ({pct:.2f}%) where mode='{mode}'\")"
   ]
  },
  {
   "cell_type": "code",
   "execution_count": 28,
   "id": "5fb8eee5",
   "metadata": {
    "execution": {
     "iopub.execute_input": "2025-08-05T16:20:37.097699Z",
     "iopub.status.busy": "2025-08-05T16:20:37.096333Z",
     "iopub.status.idle": "2025-08-05T16:20:37.105266Z",
     "shell.execute_reply": "2025-08-05T16:20:37.104030Z"
    },
    "papermill": {
     "duration": 0.037762,
     "end_time": "2025-08-05T16:20:37.107553",
     "exception": false,
     "start_time": "2025-08-05T16:20:37.069791",
     "status": "completed"
    },
    "tags": []
   },
   "outputs": [],
   "source": [
    "X_train = X_train[keep_mask]"
   ]
  },
  {
   "cell_type": "code",
   "execution_count": 29,
   "id": "b202bb3a",
   "metadata": {
    "execution": {
     "iopub.execute_input": "2025-08-05T16:20:37.165211Z",
     "iopub.status.busy": "2025-08-05T16:20:37.164588Z",
     "iopub.status.idle": "2025-08-05T16:20:37.171838Z",
     "shell.execute_reply": "2025-08-05T16:20:37.170661Z"
    },
    "papermill": {
     "duration": 0.038245,
     "end_time": "2025-08-05T16:20:37.173791",
     "exception": false,
     "start_time": "2025-08-05T16:20:37.135546",
     "status": "completed"
    },
    "tags": []
   },
   "outputs": [],
   "source": [
    "y_train = y_train[keep_mask]"
   ]
  },
  {
   "cell_type": "markdown",
   "id": "493e2ac3",
   "metadata": {
    "papermill": {
     "duration": 0.022967,
     "end_time": "2025-08-05T16:20:37.218102",
     "exception": false,
     "start_time": "2025-08-05T16:20:37.195135",
     "status": "completed"
    },
    "tags": []
   },
   "source": [
    "# Model Training"
   ]
  },
  {
   "cell_type": "code",
   "execution_count": 30,
   "id": "679e1268",
   "metadata": {
    "execution": {
     "iopub.execute_input": "2025-08-05T16:20:37.255639Z",
     "iopub.status.busy": "2025-08-05T16:20:37.255216Z",
     "iopub.status.idle": "2025-08-05T16:20:37.352946Z",
     "shell.execute_reply": "2025-08-05T16:20:37.351579Z"
    },
    "papermill": {
     "duration": 0.11363,
     "end_time": "2025-08-05T16:20:37.355308",
     "exception": false,
     "start_time": "2025-08-05T16:20:37.241678",
     "status": "completed"
    },
    "tags": []
   },
   "outputs": [],
   "source": [
    "from sklearn.linear_model import LogisticRegression\n",
    "from sklearn.ensemble import GradientBoostingClassifier, RandomForestClassifier\n",
    "\n",
    "if (universe[\"model\"] == \"logreg\"):\n",
    "    model = LogisticRegression() #penalty=\"none\", solver=\"newton-cg\", max_iter=1) # include random_state=19 ?\n",
    "elif (universe[\"model\"] == \"penalized_logreg\"):\n",
    "    model = LogisticRegression(penalty=\"l2\", C=0.1) #, solver=\"newton-cg\", max_iter=1)\n",
    "elif (universe[\"model\"] == \"rf\"):\n",
    "    model = RandomForestClassifier() # n_estimators=100, n_jobs=-1\n",
    "elif (universe[\"model\"] == \"gbm\"):\n",
    "    model = GradientBoostingClassifier()\n",
    "elif (universe[\"model\"] == \"elasticnet\"):\n",
    "    model = LogisticRegression(penalty = 'elasticnet', solver = 'saga', l1_ratio = 0.5) # max_iter=5000\n",
    "else:\n",
    "    raise \"Unsupported universe.model\""
   ]
  },
  {
   "cell_type": "code",
   "execution_count": 31,
   "id": "0cc8f744",
   "metadata": {
    "execution": {
     "iopub.execute_input": "2025-08-05T16:20:37.405298Z",
     "iopub.status.busy": "2025-08-05T16:20:37.404077Z",
     "iopub.status.idle": "2025-08-05T16:20:37.412453Z",
     "shell.execute_reply": "2025-08-05T16:20:37.410925Z"
    },
    "papermill": {
     "duration": 0.035201,
     "end_time": "2025-08-05T16:20:37.414838",
     "exception": false,
     "start_time": "2025-08-05T16:20:37.379637",
     "status": "completed"
    },
    "tags": []
   },
   "outputs": [],
   "source": [
    "import numpy as np\n",
    "from sklearn.pipeline import Pipeline\n",
    "from sklearn.preprocessing import StandardScaler\n",
    "\n",
    "model = Pipeline([\n",
    "    #(\"continuous_processor\", continuous_processor),\n",
    "    #(\"categorical_preprocessor\", categorical_preprocessor),\n",
    "    (\"scale\", StandardScaler() if universe[\"scale\"] == \"scale\" else None), \n",
    "    (\"model\", model),\n",
    "])"
   ]
  },
  {
   "cell_type": "code",
   "execution_count": 32,
   "id": "9442c04d",
   "metadata": {
    "execution": {
     "iopub.execute_input": "2025-08-05T16:20:37.464374Z",
     "iopub.status.busy": "2025-08-05T16:20:37.463049Z",
     "iopub.status.idle": "2025-08-05T16:20:38.592235Z",
     "shell.execute_reply": "2025-08-05T16:20:38.591051Z"
    },
    "papermill": {
     "duration": 1.156329,
     "end_time": "2025-08-05T16:20:38.594568",
     "exception": false,
     "start_time": "2025-08-05T16:20:37.438239",
     "status": "completed"
    },
    "tags": []
   },
   "outputs": [
    {
     "data": {
      "text/html": [
       "<style>#sk-container-id-1 {color: black;background-color: white;}#sk-container-id-1 pre{padding: 0;}#sk-container-id-1 div.sk-toggleable {background-color: white;}#sk-container-id-1 label.sk-toggleable__label {cursor: pointer;display: block;width: 100%;margin-bottom: 0;padding: 0.3em;box-sizing: border-box;text-align: center;}#sk-container-id-1 label.sk-toggleable__label-arrow:before {content: \"▸\";float: left;margin-right: 0.25em;color: #696969;}#sk-container-id-1 label.sk-toggleable__label-arrow:hover:before {color: black;}#sk-container-id-1 div.sk-estimator:hover label.sk-toggleable__label-arrow:before {color: black;}#sk-container-id-1 div.sk-toggleable__content {max-height: 0;max-width: 0;overflow: hidden;text-align: left;background-color: #f0f8ff;}#sk-container-id-1 div.sk-toggleable__content pre {margin: 0.2em;color: black;border-radius: 0.25em;background-color: #f0f8ff;}#sk-container-id-1 input.sk-toggleable__control:checked~div.sk-toggleable__content {max-height: 200px;max-width: 100%;overflow: auto;}#sk-container-id-1 input.sk-toggleable__control:checked~label.sk-toggleable__label-arrow:before {content: \"▾\";}#sk-container-id-1 div.sk-estimator input.sk-toggleable__control:checked~label.sk-toggleable__label {background-color: #d4ebff;}#sk-container-id-1 div.sk-label input.sk-toggleable__control:checked~label.sk-toggleable__label {background-color: #d4ebff;}#sk-container-id-1 input.sk-hidden--visually {border: 0;clip: rect(1px 1px 1px 1px);clip: rect(1px, 1px, 1px, 1px);height: 1px;margin: -1px;overflow: hidden;padding: 0;position: absolute;width: 1px;}#sk-container-id-1 div.sk-estimator {font-family: monospace;background-color: #f0f8ff;border: 1px dotted black;border-radius: 0.25em;box-sizing: border-box;margin-bottom: 0.5em;}#sk-container-id-1 div.sk-estimator:hover {background-color: #d4ebff;}#sk-container-id-1 div.sk-parallel-item::after {content: \"\";width: 100%;border-bottom: 1px solid gray;flex-grow: 1;}#sk-container-id-1 div.sk-label:hover label.sk-toggleable__label {background-color: #d4ebff;}#sk-container-id-1 div.sk-serial::before {content: \"\";position: absolute;border-left: 1px solid gray;box-sizing: border-box;top: 0;bottom: 0;left: 50%;z-index: 0;}#sk-container-id-1 div.sk-serial {display: flex;flex-direction: column;align-items: center;background-color: white;padding-right: 0.2em;padding-left: 0.2em;position: relative;}#sk-container-id-1 div.sk-item {position: relative;z-index: 1;}#sk-container-id-1 div.sk-parallel {display: flex;align-items: stretch;justify-content: center;background-color: white;position: relative;}#sk-container-id-1 div.sk-item::before, #sk-container-id-1 div.sk-parallel-item::before {content: \"\";position: absolute;border-left: 1px solid gray;box-sizing: border-box;top: 0;bottom: 0;left: 50%;z-index: -1;}#sk-container-id-1 div.sk-parallel-item {display: flex;flex-direction: column;z-index: 1;position: relative;background-color: white;}#sk-container-id-1 div.sk-parallel-item:first-child::after {align-self: flex-end;width: 50%;}#sk-container-id-1 div.sk-parallel-item:last-child::after {align-self: flex-start;width: 50%;}#sk-container-id-1 div.sk-parallel-item:only-child::after {width: 0;}#sk-container-id-1 div.sk-dashed-wrapped {border: 1px dashed gray;margin: 0 0.4em 0.5em 0.4em;box-sizing: border-box;padding-bottom: 0.4em;background-color: white;}#sk-container-id-1 div.sk-label label {font-family: monospace;font-weight: bold;display: inline-block;line-height: 1.2em;}#sk-container-id-1 div.sk-label-container {text-align: center;}#sk-container-id-1 div.sk-container {/* jupyter's `normalize.less` sets `[hidden] { display: none; }` but bootstrap.min.css set `[hidden] { display: none !important; }` so we also need the `!important` here to be able to override the default hidden behavior on the sphinx rendered scikit-learn.org. See: https://github.com/scikit-learn/scikit-learn/issues/21755 */display: inline-block !important;position: relative;}#sk-container-id-1 div.sk-text-repr-fallback {display: none;}</style><div id=\"sk-container-id-1\" class=\"sk-top-container\"><div class=\"sk-text-repr-fallback\"><pre>Pipeline(steps=[(&#x27;scale&#x27;, StandardScaler()),\n",
       "                (&#x27;model&#x27;, GradientBoostingClassifier())])</pre><b>In a Jupyter environment, please rerun this cell to show the HTML representation or trust the notebook. <br />On GitHub, the HTML representation is unable to render, please try loading this page with nbviewer.org.</b></div><div class=\"sk-container\" hidden><div class=\"sk-item sk-dashed-wrapped\"><div class=\"sk-label-container\"><div class=\"sk-label sk-toggleable\"><input class=\"sk-toggleable__control sk-hidden--visually\" id=\"sk-estimator-id-1\" type=\"checkbox\" ><label for=\"sk-estimator-id-1\" class=\"sk-toggleable__label sk-toggleable__label-arrow\">Pipeline</label><div class=\"sk-toggleable__content\"><pre>Pipeline(steps=[(&#x27;scale&#x27;, StandardScaler()),\n",
       "                (&#x27;model&#x27;, GradientBoostingClassifier())])</pre></div></div></div><div class=\"sk-serial\"><div class=\"sk-item\"><div class=\"sk-estimator sk-toggleable\"><input class=\"sk-toggleable__control sk-hidden--visually\" id=\"sk-estimator-id-2\" type=\"checkbox\" ><label for=\"sk-estimator-id-2\" class=\"sk-toggleable__label sk-toggleable__label-arrow\">StandardScaler</label><div class=\"sk-toggleable__content\"><pre>StandardScaler()</pre></div></div></div><div class=\"sk-item\"><div class=\"sk-estimator sk-toggleable\"><input class=\"sk-toggleable__control sk-hidden--visually\" id=\"sk-estimator-id-3\" type=\"checkbox\" ><label for=\"sk-estimator-id-3\" class=\"sk-toggleable__label sk-toggleable__label-arrow\">GradientBoostingClassifier</label><div class=\"sk-toggleable__content\"><pre>GradientBoostingClassifier()</pre></div></div></div></div></div></div></div>"
      ],
      "text/plain": [
       "Pipeline(steps=[('scale', StandardScaler()),\n",
       "                ('model', GradientBoostingClassifier())])"
      ]
     },
     "execution_count": 32,
     "metadata": {},
     "output_type": "execute_result"
    }
   ],
   "source": [
    "model.fit(X_train, y_train.values.ravel())"
   ]
  },
  {
   "cell_type": "code",
   "execution_count": 33,
   "id": "af59f8c0",
   "metadata": {
    "execution": {
     "iopub.execute_input": "2025-08-05T16:20:38.624368Z",
     "iopub.status.busy": "2025-08-05T16:20:38.623923Z",
     "iopub.status.idle": "2025-08-05T16:20:38.630271Z",
     "shell.execute_reply": "2025-08-05T16:20:38.629085Z"
    },
    "papermill": {
     "duration": 0.025459,
     "end_time": "2025-08-05T16:20:38.635036",
     "exception": false,
     "start_time": "2025-08-05T16:20:38.609577",
     "status": "completed"
    },
    "tags": []
   },
   "outputs": [],
   "source": [
    "from fairness_multiverse.universe import predict_w_threshold"
   ]
  },
  {
   "cell_type": "code",
   "execution_count": 34,
   "id": "a7cf2e16",
   "metadata": {
    "execution": {
     "iopub.execute_input": "2025-08-05T16:20:38.675900Z",
     "iopub.status.busy": "2025-08-05T16:20:38.675417Z",
     "iopub.status.idle": "2025-08-05T16:20:39.212979Z",
     "shell.execute_reply": "2025-08-05T16:20:39.211882Z"
    },
    "papermill": {
     "duration": 0.55522,
     "end_time": "2025-08-05T16:20:39.214751",
     "exception": false,
     "start_time": "2025-08-05T16:20:38.659531",
     "status": "completed"
    },
    "tags": []
   },
   "outputs": [
    {
     "data": {
      "text/plain": [
       "0.8397391595139895"
      ]
     },
     "execution_count": 34,
     "metadata": {},
     "output_type": "execute_result"
    }
   ],
   "source": [
    "probs_test = model.predict_proba(X_test)\n",
    "\n",
    "'''\n",
    "Below code returns a boolean array (or binary 0/1 array depending on how it’s used) where each element \n",
    "is True if the probability of class 1 is greater than or equal to the threshold, and False otherwise.\n",
    "'''\n",
    "y_pred_default = predict_w_threshold(probs_test, 0.5)\n",
    "\n",
    "from sklearn.metrics import accuracy_score\n",
    "\n",
    "# Naive prediction\n",
    "accuracy_score(y_true = y_true, y_pred = y_pred_default)"
   ]
  },
  {
   "cell_type": "code",
   "execution_count": 35,
   "id": "081964c3",
   "metadata": {
    "execution": {
     "iopub.execute_input": "2025-08-05T16:20:39.243051Z",
     "iopub.status.busy": "2025-08-05T16:20:39.242638Z",
     "iopub.status.idle": "2025-08-05T16:20:39.774558Z",
     "shell.execute_reply": "2025-08-05T16:20:39.773680Z"
    },
    "papermill": {
     "duration": 0.54795,
     "end_time": "2025-08-05T16:20:39.776140",
     "exception": false,
     "start_time": "2025-08-05T16:20:39.228190",
     "status": "completed"
    },
    "tags": []
   },
   "outputs": [
    {
     "data": {
      "text/plain": [
       "array([0, 0, 0, ..., 0, 0, 0])"
      ]
     },
     "execution_count": 35,
     "metadata": {},
     "output_type": "execute_result"
    }
   ],
   "source": [
    "model.predict(X_test)"
   ]
  },
  {
   "cell_type": "markdown",
   "id": "56c9705b",
   "metadata": {
    "papermill": {
     "duration": 0.013366,
     "end_time": "2025-08-05T16:20:39.803187",
     "exception": false,
     "start_time": "2025-08-05T16:20:39.789821",
     "status": "completed"
    },
    "tags": []
   },
   "source": [
    "# Conformal Prediction"
   ]
  },
  {
   "cell_type": "code",
   "execution_count": 36,
   "id": "160ec6ff",
   "metadata": {
    "execution": {
     "iopub.execute_input": "2025-08-05T16:20:39.831996Z",
     "iopub.status.busy": "2025-08-05T16:20:39.831527Z",
     "iopub.status.idle": "2025-08-05T16:20:39.837248Z",
     "shell.execute_reply": "2025-08-05T16:20:39.836282Z"
    },
    "papermill": {
     "duration": 0.022166,
     "end_time": "2025-08-05T16:20:39.838977",
     "exception": false,
     "start_time": "2025-08-05T16:20:39.816811",
     "status": "completed"
    },
    "tags": []
   },
   "outputs": [],
   "source": [
    "# Miscoverage level for conformal prediction (10% allowed error rate => 90% target coverage)\n",
    "alpha = 0.1"
   ]
  },
  {
   "cell_type": "code",
   "execution_count": 37,
   "id": "eadf4555-3dd3-440e-8e35-f82a4ad9f855",
   "metadata": {
    "execution": {
     "iopub.execute_input": "2025-08-05T16:20:39.868535Z",
     "iopub.status.busy": "2025-08-05T16:20:39.868113Z",
     "iopub.status.idle": "2025-08-05T16:20:40.728390Z",
     "shell.execute_reply": "2025-08-05T16:20:40.727112Z"
    },
    "papermill": {
     "duration": 0.87767,
     "end_time": "2025-08-05T16:20:40.730708",
     "exception": false,
     "start_time": "2025-08-05T16:20:39.853038",
     "status": "completed"
    },
    "tags": []
   },
   "outputs": [],
   "source": [
    "probs_calib = model.predict_proba(X_calib)"
   ]
  },
  {
   "cell_type": "code",
   "execution_count": 38,
   "id": "2ed93547-6d5d-4983-9b36-1ecb300da49a",
   "metadata": {
    "execution": {
     "iopub.execute_input": "2025-08-05T16:20:40.783902Z",
     "iopub.status.busy": "2025-08-05T16:20:40.783014Z",
     "iopub.status.idle": "2025-08-05T16:20:40.790728Z",
     "shell.execute_reply": "2025-08-05T16:20:40.789568Z"
    },
    "papermill": {
     "duration": 0.036842,
     "end_time": "2025-08-05T16:20:40.792931",
     "exception": false,
     "start_time": "2025-08-05T16:20:40.756089",
     "status": "completed"
    },
    "tags": []
   },
   "outputs": [],
   "source": [
    "y_calib = y_calib.values.ravel().astype(int)"
   ]
  },
  {
   "cell_type": "code",
   "execution_count": 39,
   "id": "65d1320d-f588-4b38-9072-62af1ae97f7d",
   "metadata": {
    "execution": {
     "iopub.execute_input": "2025-08-05T16:20:40.847532Z",
     "iopub.status.busy": "2025-08-05T16:20:40.846824Z",
     "iopub.status.idle": "2025-08-05T16:20:40.856412Z",
     "shell.execute_reply": "2025-08-05T16:20:40.855150Z"
    },
    "papermill": {
     "duration": 0.039528,
     "end_time": "2025-08-05T16:20:40.858740",
     "exception": false,
     "start_time": "2025-08-05T16:20:40.819212",
     "status": "completed"
    },
    "tags": []
   },
   "outputs": [],
   "source": [
    "from fairness_multiverse.conformal import compute_nc_scores\n",
    "\n",
    "# Compute nonconformity scores on calibration set (1 - probability of true class)\n",
    "nc_scores = compute_nc_scores(probs_calib, y_calib)"
   ]
  },
  {
   "cell_type": "code",
   "execution_count": 40,
   "id": "df3b8ca3-53b7-43d5-9667-7c85da7aeda2",
   "metadata": {
    "execution": {
     "iopub.execute_input": "2025-08-05T16:20:40.899087Z",
     "iopub.status.busy": "2025-08-05T16:20:40.898670Z",
     "iopub.status.idle": "2025-08-05T16:20:40.905420Z",
     "shell.execute_reply": "2025-08-05T16:20:40.904517Z"
    },
    "papermill": {
     "duration": 0.023595,
     "end_time": "2025-08-05T16:20:40.907670",
     "exception": false,
     "start_time": "2025-08-05T16:20:40.884075",
     "status": "completed"
    },
    "tags": []
   },
   "outputs": [],
   "source": [
    "from fairness_multiverse.conformal import find_threshold\n",
    "\n",
    "# Find conformal threshold q_hat for the given alpha (split conformal method)\n",
    "q_hat = find_threshold(nc_scores, alpha)"
   ]
  },
  {
   "cell_type": "code",
   "execution_count": 41,
   "id": "4d29e6c1-0ef6-4aa4-b8fe-4fe79b0d033a",
   "metadata": {
    "execution": {
     "iopub.execute_input": "2025-08-05T16:20:40.938112Z",
     "iopub.status.busy": "2025-08-05T16:20:40.937354Z",
     "iopub.status.idle": "2025-08-05T16:20:40.948475Z",
     "shell.execute_reply": "2025-08-05T16:20:40.947059Z"
    },
    "papermill": {
     "duration": 0.029143,
     "end_time": "2025-08-05T16:20:40.951157",
     "exception": false,
     "start_time": "2025-08-05T16:20:40.922014",
     "status": "completed"
    },
    "tags": []
   },
   "outputs": [
    {
     "data": {
      "text/plain": [
       "0.7606156181148304"
      ]
     },
     "execution_count": 41,
     "metadata": {},
     "output_type": "execute_result"
    }
   ],
   "source": [
    "q_hat"
   ]
  },
  {
   "cell_type": "code",
   "execution_count": 42,
   "id": "92460794-cdac-4be2-ba28-f28c0515a6fb",
   "metadata": {
    "execution": {
     "iopub.execute_input": "2025-08-05T16:20:41.030510Z",
     "iopub.status.busy": "2025-08-05T16:20:41.029766Z",
     "iopub.status.idle": "2025-08-05T16:20:42.564240Z",
     "shell.execute_reply": "2025-08-05T16:20:42.563292Z"
    },
    "papermill": {
     "duration": 1.577143,
     "end_time": "2025-08-05T16:20:42.566023",
     "exception": false,
     "start_time": "2025-08-05T16:20:40.988880",
     "status": "completed"
    },
    "tags": []
   },
   "outputs": [],
   "source": [
    "from fairness_multiverse.conformal import predict_conformal_sets\n",
    "\n",
    "# Generate prediction sets for each test example\n",
    "pred_sets = predict_conformal_sets(model, X_test, q_hat)"
   ]
  },
  {
   "cell_type": "code",
   "execution_count": 43,
   "id": "d90c9a65-e6db-4f5d-80cd-e68fb7e46829",
   "metadata": {
    "execution": {
     "iopub.execute_input": "2025-08-05T16:20:42.595997Z",
     "iopub.status.busy": "2025-08-05T16:20:42.595603Z",
     "iopub.status.idle": "2025-08-05T16:20:42.601579Z",
     "shell.execute_reply": "2025-08-05T16:20:42.600287Z"
    },
    "papermill": {
     "duration": 0.022582,
     "end_time": "2025-08-05T16:20:42.603189",
     "exception": false,
     "start_time": "2025-08-05T16:20:42.580607",
     "status": "completed"
    },
    "tags": []
   },
   "outputs": [],
   "source": [
    "y_true = y_true.squeeze()"
   ]
  },
  {
   "cell_type": "code",
   "execution_count": 44,
   "id": "3a58a54a-1e68-46b9-927a-df01f18aebc8",
   "metadata": {
    "execution": {
     "iopub.execute_input": "2025-08-05T16:20:42.633249Z",
     "iopub.status.busy": "2025-08-05T16:20:42.632348Z",
     "iopub.status.idle": "2025-08-05T16:20:43.617572Z",
     "shell.execute_reply": "2025-08-05T16:20:43.616006Z"
    },
    "papermill": {
     "duration": 1.002731,
     "end_time": "2025-08-05T16:20:43.620160",
     "exception": false,
     "start_time": "2025-08-05T16:20:42.617429",
     "status": "completed"
    },
    "tags": []
   },
   "outputs": [],
   "source": [
    "from fairness_multiverse.conformal import evaluate_sets\n",
    "\n",
    "# Evaluate coverage and average set size on test data\n",
    "metrics = evaluate_sets(pred_sets, y_true)"
   ]
  },
  {
   "cell_type": "markdown",
   "id": "2b569c12-9aaa-4c88-98c9-bbcd0cf3ebb8",
   "metadata": {
    "papermill": {
     "duration": 0.029118,
     "end_time": "2025-08-05T16:20:43.679523",
     "exception": false,
     "start_time": "2025-08-05T16:20:43.650405",
     "status": "completed"
    },
    "tags": []
   },
   "source": [
    "# CP Metrics"
   ]
  },
  {
   "cell_type": "code",
   "execution_count": 45,
   "id": "5ce0a5cb-201f-45a0-ade5-94c7f0bd6095",
   "metadata": {
    "execution": {
     "iopub.execute_input": "2025-08-05T16:20:43.742242Z",
     "iopub.status.busy": "2025-08-05T16:20:43.741676Z",
     "iopub.status.idle": "2025-08-05T16:20:43.751823Z",
     "shell.execute_reply": "2025-08-05T16:20:43.750612Z"
    },
    "papermill": {
     "duration": 0.043592,
     "end_time": "2025-08-05T16:20:43.753950",
     "exception": false,
     "start_time": "2025-08-05T16:20:43.710358",
     "status": "completed"
    },
    "tags": []
   },
   "outputs": [
    {
     "data": {
      "text/plain": [
       "{'coverage': 0.9111581763460038, 'avg_size': 1.1729127187604504}"
      ]
     },
     "execution_count": 45,
     "metadata": {},
     "output_type": "execute_result"
    }
   ],
   "source": [
    "metrics"
   ]
  },
  {
   "cell_type": "code",
   "execution_count": 46,
   "id": "9b9a838d-31c9-430b-ae14-12baee460d17",
   "metadata": {
    "execution": {
     "iopub.execute_input": "2025-08-05T16:20:43.811492Z",
     "iopub.status.busy": "2025-08-05T16:20:43.810508Z",
     "iopub.status.idle": "2025-08-05T16:20:43.817222Z",
     "shell.execute_reply": "2025-08-05T16:20:43.816380Z"
    },
    "papermill": {
     "duration": 0.03584,
     "end_time": "2025-08-05T16:20:43.819057",
     "exception": false,
     "start_time": "2025-08-05T16:20:43.783217",
     "status": "completed"
    },
    "tags": []
   },
   "outputs": [],
   "source": [
    "example_universe = universe.copy()\n",
    "universe_training_year = example_universe.get(\"training_year\")\n",
    "universe_training_size = example_universe.get(\"training_size\")\n",
    "universe_scale = example_universe.get(\"scale\")\n",
    "universe_model = example_universe.get(\"model\")\n",
    "universe_exclude_features = example_universe.get(\"exclude_features\")\n",
    "universe_exclude_subgroups = example_universe.get(\"exclude_subgroups\")"
   ]
  },
  {
   "cell_type": "code",
   "execution_count": 47,
   "id": "f4b6a8ac-9dc0-4245-8a91-5b3b5999c4f9",
   "metadata": {
    "execution": {
     "iopub.execute_input": "2025-08-05T16:20:43.847411Z",
     "iopub.status.busy": "2025-08-05T16:20:43.847060Z",
     "iopub.status.idle": "2025-08-05T16:20:43.852837Z",
     "shell.execute_reply": "2025-08-05T16:20:43.851887Z"
    },
    "papermill": {
     "duration": 0.02146,
     "end_time": "2025-08-05T16:20:43.854456",
     "exception": false,
     "start_time": "2025-08-05T16:20:43.832996",
     "status": "completed"
    },
    "tags": []
   },
   "outputs": [],
   "source": [
    "cp_metrics_dict = {\n",
    "    \"universe_id\": [universe_id],\n",
    "    \"universe_training_year\": [universe_training_year],\n",
    "    \"universe_training_size\": [universe_training_size],\n",
    "    \"universe_scale\": [universe_scale],\n",
    "    \"universe_model\": [universe_model],\n",
    "    \"universe_exclude_features\": [universe_exclude_features],\n",
    "    \"universe_exclude_subgroups\": [universe_exclude_subgroups],\n",
    "    \"q_hat\": [q_hat],\n",
    "    \"coverage\": [metrics[\"coverage\"]],\n",
    "    \"avg_size\": [metrics[\"avg_size\"]],\n",
    "}"
   ]
  },
  {
   "cell_type": "code",
   "execution_count": 48,
   "id": "908acbb1-0371-4915-85ca-3fa520d2efe2",
   "metadata": {
    "execution": {
     "iopub.execute_input": "2025-08-05T16:20:43.882816Z",
     "iopub.status.busy": "2025-08-05T16:20:43.882439Z",
     "iopub.status.idle": "2025-08-05T16:20:43.889692Z",
     "shell.execute_reply": "2025-08-05T16:20:43.888850Z"
    },
    "papermill": {
     "duration": 0.023062,
     "end_time": "2025-08-05T16:20:43.891197",
     "exception": false,
     "start_time": "2025-08-05T16:20:43.868135",
     "status": "completed"
    },
    "tags": []
   },
   "outputs": [
    {
     "data": {
      "text/plain": [
       "{'universe_id': ['c8001d8e9eee19bfdbc843288313309b'],\n",
       " 'universe_training_year': ['2012_14'],\n",
       " 'universe_training_size': ['1k'],\n",
       " 'universe_scale': ['scale'],\n",
       " 'universe_model': ['gbm'],\n",
       " 'universe_exclude_features': ['nationality'],\n",
       " 'universe_exclude_subgroups': ['keep-all'],\n",
       " 'q_hat': [0.7606156181148304],\n",
       " 'coverage': [0.9111581763460038],\n",
       " 'avg_size': [1.1729127187604504]}"
      ]
     },
     "execution_count": 48,
     "metadata": {},
     "output_type": "execute_result"
    }
   ],
   "source": [
    "cp_metrics_dict"
   ]
  },
  {
   "cell_type": "code",
   "execution_count": 49,
   "id": "33007efc-14e9-4ec6-97ac-56a455c82265",
   "metadata": {
    "execution": {
     "iopub.execute_input": "2025-08-05T16:20:43.919348Z",
     "iopub.status.busy": "2025-08-05T16:20:43.918990Z",
     "iopub.status.idle": "2025-08-05T16:20:43.924852Z",
     "shell.execute_reply": "2025-08-05T16:20:43.923807Z"
    },
    "papermill": {
     "duration": 0.021698,
     "end_time": "2025-08-05T16:20:43.926454",
     "exception": false,
     "start_time": "2025-08-05T16:20:43.904756",
     "status": "completed"
    },
    "tags": []
   },
   "outputs": [],
   "source": [
    "cp_metrics_df = pd.DataFrame(cp_metrics_dict)"
   ]
  },
  {
   "cell_type": "code",
   "execution_count": 50,
   "id": "db12611b-57b2-4910-b9d0-355adfd6e7bf",
   "metadata": {
    "execution": {
     "iopub.execute_input": "2025-08-05T16:20:43.981024Z",
     "iopub.status.busy": "2025-08-05T16:20:43.980214Z",
     "iopub.status.idle": "2025-08-05T16:20:44.004671Z",
     "shell.execute_reply": "2025-08-05T16:20:44.003611Z"
    },
    "papermill": {
     "duration": 0.056399,
     "end_time": "2025-08-05T16:20:44.006807",
     "exception": false,
     "start_time": "2025-08-05T16:20:43.950408",
     "status": "completed"
    },
    "tags": []
   },
   "outputs": [
    {
     "data": {
      "text/html": [
       "<div>\n",
       "<style scoped>\n",
       "    .dataframe tbody tr th:only-of-type {\n",
       "        vertical-align: middle;\n",
       "    }\n",
       "\n",
       "    .dataframe tbody tr th {\n",
       "        vertical-align: top;\n",
       "    }\n",
       "\n",
       "    .dataframe thead th {\n",
       "        text-align: right;\n",
       "    }\n",
       "</style>\n",
       "<table border=\"1\" class=\"dataframe\">\n",
       "  <thead>\n",
       "    <tr style=\"text-align: right;\">\n",
       "      <th></th>\n",
       "      <th>universe_id</th>\n",
       "      <th>universe_training_year</th>\n",
       "      <th>universe_training_size</th>\n",
       "      <th>universe_scale</th>\n",
       "      <th>universe_model</th>\n",
       "      <th>universe_exclude_features</th>\n",
       "      <th>universe_exclude_subgroups</th>\n",
       "      <th>q_hat</th>\n",
       "      <th>coverage</th>\n",
       "      <th>avg_size</th>\n",
       "    </tr>\n",
       "  </thead>\n",
       "  <tbody>\n",
       "    <tr>\n",
       "      <th>0</th>\n",
       "      <td>c8001d8e9eee19bfdbc843288313309b</td>\n",
       "      <td>2012_14</td>\n",
       "      <td>1k</td>\n",
       "      <td>scale</td>\n",
       "      <td>gbm</td>\n",
       "      <td>nationality</td>\n",
       "      <td>keep-all</td>\n",
       "      <td>0.760616</td>\n",
       "      <td>0.911158</td>\n",
       "      <td>1.172913</td>\n",
       "    </tr>\n",
       "  </tbody>\n",
       "</table>\n",
       "</div>"
      ],
      "text/plain": [
       "                        universe_id universe_training_year  \\\n",
       "0  c8001d8e9eee19bfdbc843288313309b                2012_14   \n",
       "\n",
       "  universe_training_size universe_scale universe_model  \\\n",
       "0                     1k          scale            gbm   \n",
       "\n",
       "  universe_exclude_features universe_exclude_subgroups     q_hat  coverage  \\\n",
       "0               nationality                   keep-all  0.760616  0.911158   \n",
       "\n",
       "   avg_size  \n",
       "0  1.172913  "
      ]
     },
     "execution_count": 50,
     "metadata": {},
     "output_type": "execute_result"
    }
   ],
   "source": [
    "cp_metrics_df"
   ]
  },
  {
   "cell_type": "code",
   "execution_count": 51,
   "id": "b7fbde55-a0a1-47e4-9af6-fe4a17fa8c61",
   "metadata": {
    "execution": {
     "iopub.execute_input": "2025-08-05T16:20:44.054429Z",
     "iopub.status.busy": "2025-08-05T16:20:44.053877Z",
     "iopub.status.idle": "2025-08-05T16:20:44.058752Z",
     "shell.execute_reply": "2025-08-05T16:20:44.057467Z"
    },
    "papermill": {
     "duration": 0.024203,
     "end_time": "2025-08-05T16:20:44.060278",
     "exception": false,
     "start_time": "2025-08-05T16:20:44.036075",
     "status": "completed"
    },
    "tags": []
   },
   "outputs": [],
   "source": [
    "# Conditional Coverage & looking at subgroups"
   ]
  },
  {
   "cell_type": "code",
   "execution_count": 52,
   "id": "027ae886-68dd-4141-96c7-805a5450e1ef",
   "metadata": {
    "execution": {
     "iopub.execute_input": "2025-08-05T16:20:44.090771Z",
     "iopub.status.busy": "2025-08-05T16:20:44.090147Z",
     "iopub.status.idle": "2025-08-05T16:20:44.291426Z",
     "shell.execute_reply": "2025-08-05T16:20:44.290453Z"
    },
    "papermill": {
     "duration": 0.21823,
     "end_time": "2025-08-05T16:20:44.293741",
     "exception": false,
     "start_time": "2025-08-05T16:20:44.075511",
     "status": "completed"
    },
    "tags": []
   },
   "outputs": [],
   "source": [
    "from fairness_multiverse.conformal import build_cp_groups\n",
    "\n",
    "cp_groups_df = build_cp_groups(pred_sets, y_true, X_test.index, org_test)\n",
    "#needs universe_id and setting"
   ]
  },
  {
   "cell_type": "code",
   "execution_count": 53,
   "id": "6cbdab96-b2b2-45af-ad54-d0516db2e28d",
   "metadata": {
    "execution": {
     "iopub.execute_input": "2025-08-05T16:20:44.353087Z",
     "iopub.status.busy": "2025-08-05T16:20:44.352243Z",
     "iopub.status.idle": "2025-08-05T16:20:46.561580Z",
     "shell.execute_reply": "2025-08-05T16:20:46.560601Z"
    },
    "papermill": {
     "duration": 2.240202,
     "end_time": "2025-08-05T16:20:46.563265",
     "exception": false,
     "start_time": "2025-08-05T16:20:44.323063",
     "status": "completed"
    },
    "tags": []
   },
   "outputs": [],
   "source": [
    "# Define covered = 1 if true_label is in the predicted set\n",
    "cp_groups_df['covered'] = cp_groups_df.apply(\n",
    "    lambda r: int(r['true_label'] in r['pred_set']),\n",
    "    axis=1\n",
    ")"
   ]
  },
  {
   "cell_type": "code",
   "execution_count": 54,
   "id": "338ff529-1a6b-4b87-a931-8e4788d52aad",
   "metadata": {
    "execution": {
     "iopub.execute_input": "2025-08-05T16:20:46.593413Z",
     "iopub.status.busy": "2025-08-05T16:20:46.593155Z",
     "iopub.status.idle": "2025-08-05T16:20:46.598094Z",
     "shell.execute_reply": "2025-08-05T16:20:46.596807Z"
    },
    "papermill": {
     "duration": 0.021368,
     "end_time": "2025-08-05T16:20:46.599873",
     "exception": false,
     "start_time": "2025-08-05T16:20:46.578505",
     "status": "completed"
    },
    "tags": []
   },
   "outputs": [],
   "source": [
    "#cp_groups_df"
   ]
  },
  {
   "cell_type": "code",
   "execution_count": 55,
   "id": "90032e27-66df-4540-9169-4e89cfbaa758",
   "metadata": {
    "execution": {
     "iopub.execute_input": "2025-08-05T16:20:46.629929Z",
     "iopub.status.busy": "2025-08-05T16:20:46.629299Z",
     "iopub.status.idle": "2025-08-05T16:20:46.639691Z",
     "shell.execute_reply": "2025-08-05T16:20:46.638767Z"
    },
    "papermill": {
     "duration": 0.027237,
     "end_time": "2025-08-05T16:20:46.641748",
     "exception": false,
     "start_time": "2025-08-05T16:20:46.614511",
     "status": "completed"
    },
    "tags": []
   },
   "outputs": [],
   "source": [
    "subgroups = ['frau1','nongerman','nongerman_male','nongerman_female']\n",
    "\n",
    "# Conditional coverage for subgroup==1\n",
    "cond_coverage = {\n",
    "    g: cp_groups_df.loc[cp_groups_df[g]==1, 'covered'].mean()\n",
    "    for g in subgroups\n",
    "}"
   ]
  },
  {
   "cell_type": "code",
   "execution_count": 56,
   "id": "1e348fb1-b9c3-45bc-ba23-f016827a7e0d",
   "metadata": {
    "execution": {
     "iopub.execute_input": "2025-08-05T16:20:46.696486Z",
     "iopub.status.busy": "2025-08-05T16:20:46.695764Z",
     "iopub.status.idle": "2025-08-05T16:20:46.704341Z",
     "shell.execute_reply": "2025-08-05T16:20:46.703224Z"
    },
    "papermill": {
     "duration": 0.036028,
     "end_time": "2025-08-05T16:20:46.706211",
     "exception": false,
     "start_time": "2025-08-05T16:20:46.670183",
     "status": "completed"
    },
    "tags": []
   },
   "outputs": [
    {
     "data": {
      "text/plain": [
       "{'frau1': 0.9087747674888799,\n",
       " 'nongerman': 0.9076517150395779,\n",
       " 'nongerman_male': 0.9243447716833288,\n",
       " 'nongerman_female': 0.8800298062593145}"
      ]
     },
     "execution_count": 56,
     "metadata": {},
     "output_type": "execute_result"
    }
   ],
   "source": [
    "cond_coverage"
   ]
  },
  {
   "cell_type": "code",
   "execution_count": 57,
   "id": "f5093324-c3dd-4d63-bc4c-8d945e5c8bbb",
   "metadata": {
    "execution": {
     "iopub.execute_input": "2025-08-05T16:20:46.763049Z",
     "iopub.status.busy": "2025-08-05T16:20:46.762507Z",
     "iopub.status.idle": "2025-08-05T16:20:46.771632Z",
     "shell.execute_reply": "2025-08-05T16:20:46.770404Z"
    },
    "papermill": {
     "duration": 0.041963,
     "end_time": "2025-08-05T16:20:46.773530",
     "exception": false,
     "start_time": "2025-08-05T16:20:46.731567",
     "status": "completed"
    },
    "tags": []
   },
   "outputs": [],
   "source": [
    "for subgroup, cov in cond_coverage.items():\n",
    "    cp_metrics_df[f\"cov_{subgroup}\"] = cov"
   ]
  },
  {
   "cell_type": "code",
   "execution_count": 58,
   "id": "6e872e10-dbe5-49e8-b554-5030c98ff75d",
   "metadata": {
    "execution": {
     "iopub.execute_input": "2025-08-05T16:20:46.836540Z",
     "iopub.status.busy": "2025-08-05T16:20:46.834400Z",
     "iopub.status.idle": "2025-08-05T16:20:46.853859Z",
     "shell.execute_reply": "2025-08-05T16:20:46.852623Z"
    },
    "papermill": {
     "duration": 0.053905,
     "end_time": "2025-08-05T16:20:46.855772",
     "exception": false,
     "start_time": "2025-08-05T16:20:46.801867",
     "status": "completed"
    },
    "tags": []
   },
   "outputs": [
    {
     "data": {
      "text/html": [
       "<div>\n",
       "<style scoped>\n",
       "    .dataframe tbody tr th:only-of-type {\n",
       "        vertical-align: middle;\n",
       "    }\n",
       "\n",
       "    .dataframe tbody tr th {\n",
       "        vertical-align: top;\n",
       "    }\n",
       "\n",
       "    .dataframe thead th {\n",
       "        text-align: right;\n",
       "    }\n",
       "</style>\n",
       "<table border=\"1\" class=\"dataframe\">\n",
       "  <thead>\n",
       "    <tr style=\"text-align: right;\">\n",
       "      <th></th>\n",
       "      <th>universe_id</th>\n",
       "      <th>universe_training_year</th>\n",
       "      <th>universe_training_size</th>\n",
       "      <th>universe_scale</th>\n",
       "      <th>universe_model</th>\n",
       "      <th>universe_exclude_features</th>\n",
       "      <th>universe_exclude_subgroups</th>\n",
       "      <th>q_hat</th>\n",
       "      <th>coverage</th>\n",
       "      <th>avg_size</th>\n",
       "      <th>cov_frau1</th>\n",
       "      <th>cov_nongerman</th>\n",
       "      <th>cov_nongerman_male</th>\n",
       "      <th>cov_nongerman_female</th>\n",
       "    </tr>\n",
       "  </thead>\n",
       "  <tbody>\n",
       "    <tr>\n",
       "      <th>0</th>\n",
       "      <td>c8001d8e9eee19bfdbc843288313309b</td>\n",
       "      <td>2012_14</td>\n",
       "      <td>1k</td>\n",
       "      <td>scale</td>\n",
       "      <td>gbm</td>\n",
       "      <td>nationality</td>\n",
       "      <td>keep-all</td>\n",
       "      <td>0.760616</td>\n",
       "      <td>0.911158</td>\n",
       "      <td>1.172913</td>\n",
       "      <td>0.908775</td>\n",
       "      <td>0.907652</td>\n",
       "      <td>0.924345</td>\n",
       "      <td>0.88003</td>\n",
       "    </tr>\n",
       "  </tbody>\n",
       "</table>\n",
       "</div>"
      ],
      "text/plain": [
       "                        universe_id universe_training_year  \\\n",
       "0  c8001d8e9eee19bfdbc843288313309b                2012_14   \n",
       "\n",
       "  universe_training_size universe_scale universe_model  \\\n",
       "0                     1k          scale            gbm   \n",
       "\n",
       "  universe_exclude_features universe_exclude_subgroups     q_hat  coverage  \\\n",
       "0               nationality                   keep-all  0.760616  0.911158   \n",
       "\n",
       "   avg_size  cov_frau1  cov_nongerman  cov_nongerman_male  \\\n",
       "0  1.172913   0.908775       0.907652            0.924345   \n",
       "\n",
       "   cov_nongerman_female  \n",
       "0               0.88003  "
      ]
     },
     "execution_count": 58,
     "metadata": {},
     "output_type": "execute_result"
    }
   ],
   "source": [
    "cp_metrics_df"
   ]
  },
  {
   "cell_type": "markdown",
   "id": "33774451",
   "metadata": {
    "papermill": {
     "duration": 0.028407,
     "end_time": "2025-08-05T16:20:46.912214",
     "exception": false,
     "start_time": "2025-08-05T16:20:46.883807",
     "status": "completed"
    },
    "tags": []
   },
   "source": [
    "# (Fairness) Metrics"
   ]
  },
  {
   "cell_type": "code",
   "execution_count": 59,
   "id": "debc5d62",
   "metadata": {
    "execution": {
     "iopub.execute_input": "2025-08-05T16:20:46.967987Z",
     "iopub.status.busy": "2025-08-05T16:20:46.967057Z",
     "iopub.status.idle": "2025-08-05T16:20:46.995314Z",
     "shell.execute_reply": "2025-08-05T16:20:46.994127Z"
    },
    "papermill": {
     "duration": 0.060312,
     "end_time": "2025-08-05T16:20:46.997391",
     "exception": false,
     "start_time": "2025-08-05T16:20:46.937079",
     "status": "completed"
    },
    "tags": []
   },
   "outputs": [],
   "source": [
    "# do I need to include maxdeutsch1.missing?\n",
    "\n",
    "import numpy as np\n",
    "\n",
    "colname_to_bin = \"maxdeutsch1\"\n",
    "majority_value = org_train[colname_to_bin].mode()[0]\n",
    "\n",
    "org_test[\"majmin\"] = np.where(org_test[colname_to_bin] == majority_value, \"majority\", \"minority\")"
   ]
  },
  {
   "cell_type": "code",
   "execution_count": 60,
   "id": "06a50de5",
   "metadata": {
    "execution": {
     "iopub.execute_input": "2025-08-05T16:20:47.057680Z",
     "iopub.status.busy": "2025-08-05T16:20:47.056799Z",
     "iopub.status.idle": "2025-08-05T16:20:50.470536Z",
     "shell.execute_reply": "2025-08-05T16:20:50.469467Z"
    },
    "papermill": {
     "duration": 3.445465,
     "end_time": "2025-08-05T16:20:50.472299",
     "exception": false,
     "start_time": "2025-08-05T16:20:47.026834",
     "status": "completed"
    },
    "tags": []
   },
   "outputs": [],
   "source": [
    "example_universe = universe.copy()\n",
    "example_universe[\"cutoff\"] = example_universe[\"cutoff\"][0]\n",
    "example_universe[\"eval_fairness_grouping\"] = example_universe[\"eval_fairness_grouping\"][0]\n",
    "fairness_dict, metric_frame = universe_analysis.compute_metrics(\n",
    "    example_universe,\n",
    "    y_pred_prob=probs_test,\n",
    "    y_test=y_true,\n",
    "    org_test=org_test,\n",
    ")"
   ]
  },
  {
   "cell_type": "markdown",
   "id": "f95d4e02",
   "metadata": {
    "papermill": {
     "duration": 0.024233,
     "end_time": "2025-08-05T16:20:50.522635",
     "exception": false,
     "start_time": "2025-08-05T16:20:50.498402",
     "status": "completed"
    },
    "tags": []
   },
   "source": [
    "# Overall"
   ]
  },
  {
   "cell_type": "markdown",
   "id": "bdee4871",
   "metadata": {
    "papermill": {
     "duration": 0.02204,
     "end_time": "2025-08-05T16:20:50.568182",
     "exception": false,
     "start_time": "2025-08-05T16:20:50.546142",
     "status": "completed"
    },
    "tags": []
   },
   "source": [
    "Fairness\n",
    "Main fairness target: Equalized Odds. Seems to be a better fit than equal opportunity, since we're not only interested in Y = 1. Seems to be a better fit than demographic parity, since we also care about accuracy, not just equal distribution of preds.\n",
    "\n",
    "Pick column for computation of fairness metrics\n",
    "\n",
    "Performance\n",
    "Overall performance measures, most interesting in relation to the measures split by group below"
   ]
  },
  {
   "cell_type": "code",
   "execution_count": 61,
   "id": "c4e067c6",
   "metadata": {
    "execution": {
     "iopub.execute_input": "2025-08-05T16:20:50.618228Z",
     "iopub.status.busy": "2025-08-05T16:20:50.617675Z",
     "iopub.status.idle": "2025-08-05T16:20:50.627945Z",
     "shell.execute_reply": "2025-08-05T16:20:50.626738Z"
    },
    "papermill": {
     "duration": 0.037858,
     "end_time": "2025-08-05T16:20:50.629696",
     "exception": false,
     "start_time": "2025-08-05T16:20:50.591838",
     "status": "completed"
    },
    "tags": []
   },
   "outputs": [
    {
     "data": {
      "text/plain": [
       "accuracy                   0.223019\n",
       "balanced accuracy          0.545595\n",
       "f1                         0.244387\n",
       "precision                  0.139610\n",
       "false positive rate        0.888302\n",
       "false negative rate        0.020507\n",
       "selection rate             0.900000\n",
       "count                  89710.000000\n",
       "dtype: float64"
      ]
     },
     "execution_count": 61,
     "metadata": {},
     "output_type": "execute_result"
    }
   ],
   "source": [
    "metric_frame.overall"
   ]
  },
  {
   "cell_type": "markdown",
   "id": "e968fe9d",
   "metadata": {
    "papermill": {
     "duration": 0.024076,
     "end_time": "2025-08-05T16:20:50.677581",
     "exception": false,
     "start_time": "2025-08-05T16:20:50.653505",
     "status": "completed"
    },
    "tags": []
   },
   "source": [
    "By Group"
   ]
  },
  {
   "cell_type": "code",
   "execution_count": 62,
   "id": "ec325bce",
   "metadata": {
    "execution": {
     "iopub.execute_input": "2025-08-05T16:20:50.725737Z",
     "iopub.status.busy": "2025-08-05T16:20:50.725243Z",
     "iopub.status.idle": "2025-08-05T16:20:50.744619Z",
     "shell.execute_reply": "2025-08-05T16:20:50.743476Z"
    },
    "papermill": {
     "duration": 0.045566,
     "end_time": "2025-08-05T16:20:50.746424",
     "exception": false,
     "start_time": "2025-08-05T16:20:50.700858",
     "status": "completed"
    },
    "tags": []
   },
   "outputs": [
    {
     "data": {
      "text/html": [
       "<div>\n",
       "<style scoped>\n",
       "    .dataframe tbody tr th:only-of-type {\n",
       "        vertical-align: middle;\n",
       "    }\n",
       "\n",
       "    .dataframe tbody tr th {\n",
       "        vertical-align: top;\n",
       "    }\n",
       "\n",
       "    .dataframe thead th {\n",
       "        text-align: right;\n",
       "    }\n",
       "</style>\n",
       "<table border=\"1\" class=\"dataframe\">\n",
       "  <thead>\n",
       "    <tr style=\"text-align: right;\">\n",
       "      <th></th>\n",
       "      <th>accuracy</th>\n",
       "      <th>balanced accuracy</th>\n",
       "      <th>f1</th>\n",
       "      <th>precision</th>\n",
       "      <th>false positive rate</th>\n",
       "      <th>false negative rate</th>\n",
       "      <th>selection rate</th>\n",
       "      <th>count</th>\n",
       "    </tr>\n",
       "    <tr>\n",
       "      <th>majmin</th>\n",
       "      <th></th>\n",
       "      <th></th>\n",
       "      <th></th>\n",
       "      <th></th>\n",
       "      <th></th>\n",
       "      <th></th>\n",
       "      <th></th>\n",
       "      <th></th>\n",
       "    </tr>\n",
       "  </thead>\n",
       "  <tbody>\n",
       "    <tr>\n",
       "      <th>majority</th>\n",
       "      <td>0.244036</td>\n",
       "      <td>0.554497</td>\n",
       "      <td>0.254491</td>\n",
       "      <td>0.146311</td>\n",
       "      <td>0.867483</td>\n",
       "      <td>0.023523</td>\n",
       "      <td>0.881885</td>\n",
       "      <td>69170.0</td>\n",
       "    </tr>\n",
       "    <tr>\n",
       "      <th>minority</th>\n",
       "      <td>0.152240</td>\n",
       "      <td>0.517027</td>\n",
       "      <td>0.212331</td>\n",
       "      <td>0.118902</td>\n",
       "      <td>0.957077</td>\n",
       "      <td>0.008868</td>\n",
       "      <td>0.961003</td>\n",
       "      <td>20540.0</td>\n",
       "    </tr>\n",
       "  </tbody>\n",
       "</table>\n",
       "</div>"
      ],
      "text/plain": [
       "          accuracy  balanced accuracy        f1  precision  \\\n",
       "majmin                                                       \n",
       "majority  0.244036           0.554497  0.254491   0.146311   \n",
       "minority  0.152240           0.517027  0.212331   0.118902   \n",
       "\n",
       "          false positive rate  false negative rate  selection rate    count  \n",
       "majmin                                                                       \n",
       "majority             0.867483             0.023523        0.881885  69170.0  \n",
       "minority             0.957077             0.008868        0.961003  20540.0  "
      ]
     },
     "execution_count": 62,
     "metadata": {},
     "output_type": "execute_result"
    }
   ],
   "source": [
    "metric_frame.by_group"
   ]
  },
  {
   "cell_type": "code",
   "execution_count": 63,
   "id": "a9ddbe63",
   "metadata": {
    "execution": {
     "iopub.execute_input": "2025-08-05T16:20:50.789650Z",
     "iopub.status.busy": "2025-08-05T16:20:50.789252Z",
     "iopub.status.idle": "2025-08-05T16:20:53.975592Z",
     "shell.execute_reply": "2025-08-05T16:20:53.974690Z"
    },
    "papermill": {
     "duration": 3.205525,
     "end_time": "2025-08-05T16:20:53.977361",
     "exception": false,
     "start_time": "2025-08-05T16:20:50.771836",
     "status": "completed"
    },
    "tags": []
   },
   "outputs": [
    {
     "data": {
      "text/plain": [
       "array([[<Axes: title={'center': 'accuracy'}, xlabel='majmin'>,\n",
       "        <Axes: title={'center': 'balanced accuracy'}, xlabel='majmin'>,\n",
       "        <Axes: title={'center': 'f1'}, xlabel='majmin'>],\n",
       "       [<Axes: title={'center': 'precision'}, xlabel='majmin'>,\n",
       "        <Axes: title={'center': 'false positive rate'}, xlabel='majmin'>,\n",
       "        <Axes: title={'center': 'false negative rate'}, xlabel='majmin'>],\n",
       "       [<Axes: title={'center': 'selection rate'}, xlabel='majmin'>,\n",
       "        <Axes: title={'center': 'count'}, xlabel='majmin'>,\n",
       "        <Axes: xlabel='majmin'>]], dtype=object)"
      ]
     },
     "execution_count": 63,
     "metadata": {},
     "output_type": "execute_result"
    },
    {
     "data": {
      "image/png": "[encoded data removed]",
      "text/plain": [
       "<Figure size 1200x800 with 9 Axes>"
      ]
     },
     "metadata": {},
     "output_type": "display_data"
    }
   ],
   "source": [
    "# In a graphic\n",
    "metric_frame.by_group.plot.bar(\n",
    "    subplots=True,\n",
    "    layout=[3, 3],\n",
    "    legend=False,\n",
    "    figsize=[12, 8],\n",
    "    title=\"Show all metrics\",\n",
    ")"
   ]
  },
  {
   "cell_type": "markdown",
   "id": "f57a0bac",
   "metadata": {
    "papermill": {
     "duration": 0.030441,
     "end_time": "2025-08-05T16:20:54.057845",
     "exception": false,
     "start_time": "2025-08-05T16:20:54.027404",
     "status": "completed"
    },
    "tags": []
   },
   "source": [
    "# Final Output"
   ]
  },
  {
   "cell_type": "code",
   "execution_count": 64,
   "id": "96d280a3",
   "metadata": {
    "execution": {
     "iopub.execute_input": "2025-08-05T16:20:54.120692Z",
     "iopub.status.busy": "2025-08-05T16:20:54.120038Z",
     "iopub.status.idle": "2025-08-05T16:20:54.129603Z",
     "shell.execute_reply": "2025-08-05T16:20:54.128474Z"
    },
    "papermill": {
     "duration": 0.043593,
     "end_time": "2025-08-05T16:20:54.131311",
     "exception": false,
     "start_time": "2025-08-05T16:20:54.087718",
     "status": "completed"
    },
    "tags": []
   },
   "outputs": [
    {
     "data": {
      "text/plain": [
       "4"
      ]
     },
     "execution_count": 64,
     "metadata": {},
     "output_type": "execute_result"
    }
   ],
   "source": [
    "sub_universes = universe_analysis.generate_sub_universes()\n",
    "len(sub_universes)"
   ]
  },
  {
   "cell_type": "code",
   "execution_count": 65,
   "id": "92adf7ba",
   "metadata": {
    "execution": {
     "iopub.execute_input": "2025-08-05T16:20:54.195464Z",
     "iopub.status.busy": "2025-08-05T16:20:54.194517Z",
     "iopub.status.idle": "2025-08-05T16:20:54.203227Z",
     "shell.execute_reply": "2025-08-05T16:20:54.201964Z"
    },
    "papermill": {
     "duration": 0.044356,
     "end_time": "2025-08-05T16:20:54.205248",
     "exception": false,
     "start_time": "2025-08-05T16:20:54.160892",
     "status": "completed"
    },
    "tags": []
   },
   "outputs": [],
   "source": [
    "def filter_sub_universe_data(sub_universe, org_test):\n",
    "    # Keep all rows — no filtering\n",
    "    keep_rows_mask = np.ones(org_test.shape[0], dtype=bool)\n",
    "\n",
    "    print(f\"[INFO] Keeping all rows: {keep_rows_mask.sum()} rows retained.\")\n",
    "    return keep_rows_mask"
   ]
  },
  {
   "cell_type": "code",
   "execution_count": 66,
   "id": "4a759155",
   "metadata": {
    "execution": {
     "iopub.execute_input": "2025-08-05T16:20:54.269252Z",
     "iopub.status.busy": "2025-08-05T16:20:54.268782Z",
     "iopub.status.idle": "2025-08-05T16:21:07.375835Z",
     "shell.execute_reply": "2025-08-05T16:21:07.374823Z"
    },
    "papermill": {
     "duration": 13.142162,
     "end_time": "2025-08-05T16:21:07.378132",
     "exception": false,
     "start_time": "2025-08-05T16:20:54.235970",
     "status": "completed"
    },
    "tags": []
   },
   "outputs": [
    {
     "name": "stdout",
     "output_type": "stream",
     "text": [
      "Stopping execution_time clock.\n",
      "[INFO] Keeping all rows: 89710 rows retained.\n"
     ]
    },
    {
     "name": "stdout",
     "output_type": "stream",
     "text": [
      "[INFO] Keeping all rows: 89710 rows retained.\n"
     ]
    },
    {
     "name": "stdout",
     "output_type": "stream",
     "text": [
      "[INFO] Keeping all rows: 89710 rows retained.\n"
     ]
    },
    {
     "name": "stdout",
     "output_type": "stream",
     "text": [
      "[INFO] Keeping all rows: 89710 rows retained.\n"
     ]
    },
    {
     "data": {
      "text/html": [
       "<div>\n",
       "<style scoped>\n",
       "    .dataframe tbody tr th:only-of-type {\n",
       "        vertical-align: middle;\n",
       "    }\n",
       "\n",
       "    .dataframe tbody tr th {\n",
       "        vertical-align: top;\n",
       "    }\n",
       "\n",
       "    .dataframe thead th {\n",
       "        text-align: right;\n",
       "    }\n",
       "</style>\n",
       "<table border=\"1\" class=\"dataframe\">\n",
       "  <thead>\n",
       "    <tr style=\"text-align: right;\">\n",
       "      <th></th>\n",
       "      <th>run_no</th>\n",
       "      <th>universe_id</th>\n",
       "      <th>universe_settings</th>\n",
       "      <th>execution_time</th>\n",
       "      <th>test_size_n</th>\n",
       "      <th>test_size_frac</th>\n",
       "      <th>fair_main_equalized_odds_difference</th>\n",
       "      <th>fair_main_equalized_odds_ratio</th>\n",
       "      <th>fair_main_demographic_parity_difference</th>\n",
       "      <th>fair_main_demographic_parity_ratio</th>\n",
       "      <th>...</th>\n",
       "      <th>perf_grp_precision_0</th>\n",
       "      <th>perf_grp_precision_1</th>\n",
       "      <th>perf_grp_false positive rate_0</th>\n",
       "      <th>perf_grp_false positive rate_1</th>\n",
       "      <th>perf_grp_false negative rate_0</th>\n",
       "      <th>perf_grp_false negative rate_1</th>\n",
       "      <th>perf_grp_selection rate_0</th>\n",
       "      <th>perf_grp_selection rate_1</th>\n",
       "      <th>perf_grp_count_0</th>\n",
       "      <th>perf_grp_count_1</th>\n",
       "    </tr>\n",
       "  </thead>\n",
       "  <tbody>\n",
       "    <tr>\n",
       "      <th>0</th>\n",
       "      <td>15</td>\n",
       "      <td>c8001d8e9eee19bfdbc843288313309b</td>\n",
       "      <td>{\"cutoff\": \"quantile_0.1\", \"eval_fairness_grou...</td>\n",
       "      <td>35.922441</td>\n",
       "      <td>89710</td>\n",
       "      <td>1.0</td>\n",
       "      <td>0.089594</td>\n",
       "      <td>0.906388</td>\n",
       "      <td>0.079118</td>\n",
       "      <td>0.917672</td>\n",
       "      <td>...</td>\n",
       "      <td>NaN</td>\n",
       "      <td>NaN</td>\n",
       "      <td>NaN</td>\n",
       "      <td>NaN</td>\n",
       "      <td>NaN</td>\n",
       "      <td>NaN</td>\n",
       "      <td>NaN</td>\n",
       "      <td>NaN</td>\n",
       "      <td>NaN</td>\n",
       "      <td>NaN</td>\n",
       "    </tr>\n",
       "    <tr>\n",
       "      <th>0</th>\n",
       "      <td>15</td>\n",
       "      <td>c8001d8e9eee19bfdbc843288313309b</td>\n",
       "      <td>{\"cutoff\": \"quantile_0.1\", \"eval_fairness_grou...</td>\n",
       "      <td>35.922441</td>\n",
       "      <td>89710</td>\n",
       "      <td>1.0</td>\n",
       "      <td>0.089594</td>\n",
       "      <td>0.906388</td>\n",
       "      <td>0.079118</td>\n",
       "      <td>0.917672</td>\n",
       "      <td>...</td>\n",
       "      <td>0.118902</td>\n",
       "      <td>0.146311</td>\n",
       "      <td>0.957077</td>\n",
       "      <td>0.867483</td>\n",
       "      <td>0.008868</td>\n",
       "      <td>0.023523</td>\n",
       "      <td>0.961003</td>\n",
       "      <td>0.881885</td>\n",
       "      <td>20540.0</td>\n",
       "      <td>69170.0</td>\n",
       "    </tr>\n",
       "    <tr>\n",
       "      <th>0</th>\n",
       "      <td>15</td>\n",
       "      <td>c8001d8e9eee19bfdbc843288313309b</td>\n",
       "      <td>{\"cutoff\": \"quantile_0.25\", \"eval_fairness_gro...</td>\n",
       "      <td>35.922441</td>\n",
       "      <td>89710</td>\n",
       "      <td>1.0</td>\n",
       "      <td>0.133172</td>\n",
       "      <td>0.841103</td>\n",
       "      <td>0.117326</td>\n",
       "      <td>0.862183</td>\n",
       "      <td>...</td>\n",
       "      <td>NaN</td>\n",
       "      <td>NaN</td>\n",
       "      <td>NaN</td>\n",
       "      <td>NaN</td>\n",
       "      <td>NaN</td>\n",
       "      <td>NaN</td>\n",
       "      <td>NaN</td>\n",
       "      <td>NaN</td>\n",
       "      <td>NaN</td>\n",
       "      <td>NaN</td>\n",
       "    </tr>\n",
       "    <tr>\n",
       "      <th>0</th>\n",
       "      <td>15</td>\n",
       "      <td>c8001d8e9eee19bfdbc843288313309b</td>\n",
       "      <td>{\"cutoff\": \"quantile_0.25\", \"eval_fairness_gro...</td>\n",
       "      <td>35.922441</td>\n",
       "      <td>89710</td>\n",
       "      <td>1.0</td>\n",
       "      <td>0.133172</td>\n",
       "      <td>0.841103</td>\n",
       "      <td>0.117326</td>\n",
       "      <td>0.862183</td>\n",
       "      <td>...</td>\n",
       "      <td>0.129017</td>\n",
       "      <td>0.166496</td>\n",
       "      <td>0.838103</td>\n",
       "      <td>0.704931</td>\n",
       "      <td>0.047297</td>\n",
       "      <td>0.075164</td>\n",
       "      <td>0.851315</td>\n",
       "      <td>0.733989</td>\n",
       "      <td>20540.0</td>\n",
       "      <td>69170.0</td>\n",
       "    </tr>\n",
       "  </tbody>\n",
       "</table>\n",
       "<p>4 rows × 50 columns</p>\n",
       "</div>"
      ],
      "text/plain": [
       "  run_no                       universe_id  \\\n",
       "0     15  c8001d8e9eee19bfdbc843288313309b   \n",
       "0     15  c8001d8e9eee19bfdbc843288313309b   \n",
       "0     15  c8001d8e9eee19bfdbc843288313309b   \n",
       "0     15  c8001d8e9eee19bfdbc843288313309b   \n",
       "\n",
       "                                   universe_settings  execution_time  \\\n",
       "0  {\"cutoff\": \"quantile_0.1\", \"eval_fairness_grou...       35.922441   \n",
       "0  {\"cutoff\": \"quantile_0.1\", \"eval_fairness_grou...       35.922441   \n",
       "0  {\"cutoff\": \"quantile_0.25\", \"eval_fairness_gro...       35.922441   \n",
       "0  {\"cutoff\": \"quantile_0.25\", \"eval_fairness_gro...       35.922441   \n",
       "\n",
       "   test_size_n  test_size_frac  fair_main_equalized_odds_difference  \\\n",
       "0        89710             1.0                             0.089594   \n",
       "0        89710             1.0                             0.089594   \n",
       "0        89710             1.0                             0.133172   \n",
       "0        89710             1.0                             0.133172   \n",
       "\n",
       "   fair_main_equalized_odds_ratio  fair_main_demographic_parity_difference  \\\n",
       "0                        0.906388                                 0.079118   \n",
       "0                        0.906388                                 0.079118   \n",
       "0                        0.841103                                 0.117326   \n",
       "0                        0.841103                                 0.117326   \n",
       "\n",
       "   fair_main_demographic_parity_ratio  ...  perf_grp_precision_0  \\\n",
       "0                            0.917672  ...                   NaN   \n",
       "0                            0.917672  ...              0.118902   \n",
       "0                            0.862183  ...                   NaN   \n",
       "0                            0.862183  ...              0.129017   \n",
       "\n",
       "   perf_grp_precision_1  perf_grp_false positive rate_0  \\\n",
       "0                   NaN                             NaN   \n",
       "0              0.146311                        0.957077   \n",
       "0                   NaN                             NaN   \n",
       "0              0.166496                        0.838103   \n",
       "\n",
       "   perf_grp_false positive rate_1  perf_grp_false negative rate_0  \\\n",
       "0                             NaN                             NaN   \n",
       "0                        0.867483                        0.008868   \n",
       "0                             NaN                             NaN   \n",
       "0                        0.704931                        0.047297   \n",
       "\n",
       "   perf_grp_false negative rate_1  perf_grp_selection rate_0  \\\n",
       "0                             NaN                        NaN   \n",
       "0                        0.023523                   0.961003   \n",
       "0                             NaN                        NaN   \n",
       "0                        0.075164                   0.851315   \n",
       "\n",
       "   perf_grp_selection rate_1  perf_grp_count_0  perf_grp_count_1  \n",
       "0                        NaN               NaN               NaN  \n",
       "0                   0.881885           20540.0           69170.0  \n",
       "0                        NaN               NaN               NaN  \n",
       "0                   0.733989           20540.0           69170.0  \n",
       "\n",
       "[4 rows x 50 columns]"
      ]
     },
     "execution_count": 66,
     "metadata": {},
     "output_type": "execute_result"
    }
   ],
   "source": [
    "final_output = universe_analysis.generate_final_output(\n",
    "    y_pred_prob=probs_test,\n",
    "    y_test=y_true,\n",
    "    org_test=org_test,\n",
    "    filter_data=filter_sub_universe_data,\n",
    "    cp_metrics_df=cp_metrics_df,\n",
    "    save=True,\n",
    ")\n",
    "final_output"
   ]
  }
 ],
 "metadata": {
  "celltoolbar": "Tags",
  "kernelspec": {
   "display_name": "Python (CMA Fairness)",
   "language": "python",
   "name": "cma_fair_env"
  },
  "language_info": {
   "codemirror_mode": {
    "name": "ipython",
    "version": 3
   },
   "file_extension": ".py",
   "mimetype": "text/x-python",
   "name": "python",
   "nbconvert_exporter": "python",
   "pygments_lexer": "ipython3",
   "version": "3.10.12"
  },
  "papermill": {
   "default_parameters": {},
   "duration": 53.473061,
   "end_time": "2025-08-05T16:21:08.236801",
   "environment_variables": {},
   "exception": null,
   "input_path": "universe_analysis.ipynb",
   "output_path": "output/runs/15/notebooks/m_15-c8001d8e9eee19bfdbc843288313309b.ipynb",
   "parameters": {
    "output_dir": "output",
    "run_no": "15",
    "seed": "2023",
    "universe": "{\"cutoff\": [\"quantile_0.1\", \"quantile_0.25\"], \"eval_fairness_grouping\": [\"majority-minority\", \"nationality-all\"], \"exclude_features\": \"nationality\", \"exclude_subgroups\": \"keep-all\", \"model\": \"gbm\", \"scale\": \"scale\", \"training_size\": \"1k\", \"training_year\": \"2012_14\"}",
    "universe_id": "c8001d8e9eee19bfdbc843288313309b"
   },
   "start_time": "2025-08-05T16:20:14.763740",
   "version": "2.6.0"
  }
 },
 "nbformat": 4,
 "nbformat_minor": 5
}