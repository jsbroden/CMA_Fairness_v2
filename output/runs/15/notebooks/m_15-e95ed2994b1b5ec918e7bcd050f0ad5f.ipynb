{
 "cells": [
  {
   "cell_type": "code",
   "execution_count": 1,
   "id": "f159f837-637b-42ba-96b5-ec9a68c44524",
   "metadata": {
    "execution": {
     "iopub.execute_input": "2025-08-05T16:04:09.219000Z",
     "iopub.status.busy": "2025-08-05T16:04:09.218548Z",
     "iopub.status.idle": "2025-08-05T16:04:09.231421Z",
     "shell.execute_reply": "2025-08-05T16:04:09.230389Z"
    },
    "papermill": {
     "duration": 0.029959,
     "end_time": "2025-08-05T16:04:09.237039",
     "exception": false,
     "start_time": "2025-08-05T16:04:09.207080",
     "status": "completed"
    },
    "tags": []
   },
   "outputs": [
    {
     "name": "stdout",
     "output_type": "stream",
     "text": [
      "/dss/dsshome1/0C/ra93lal2/cma/CMA_Fairness_v2\n"
     ]
    },
    {
     "name": "stderr",
     "output_type": "stream",
     "text": [
      "/dss/dsshome1/0C/ra93lal2/.local/share/virtualenvs/CMA_Fairness_v2-3j10GkSs/lib/python3.10/site-packages/IPython/core/magics/osm.py:393: UserWarning: This is now an optional IPython functionality, using bookmarks requires you to install the `pickleshare` library.\n",
      "  bkms = self.shell.db.get('bookmarks', {})\n",
      "/dss/dsshome1/0C/ra93lal2/.local/share/virtualenvs/CMA_Fairness_v2-3j10GkSs/lib/python3.10/site-packages/IPython/core/magics/osm.py:417: UserWarning: This is now an optional IPython functionality, setting dhist requires you to install the `pickleshare` library.\n",
      "  self.shell.db['dhist'] = compress_dhist(dhist)[-100:]\n"
     ]
    }
   ],
   "source": [
    "%cd ~/cma/CMA_Fairness_v2"
   ]
  },
  {
   "cell_type": "markdown",
   "id": "de2603b9",
   "metadata": {
    "papermill": {
     "duration": 0.01663,
     "end_time": "2025-08-05T16:04:09.267244",
     "exception": false,
     "start_time": "2025-08-05T16:04:09.250614",
     "status": "completed"
    },
    "tags": []
   },
   "source": [
    "The following cell holds the definition of our parameters, these values can be overriden by rendering the with e.g. the following command:\n",
    "\n",
    "papermill -p alpha 0.2 -p ratio 0.3 universe_analysis.ipynb output/test_run.ipynb"
   ]
  },
  {
   "cell_type": "code",
   "execution_count": 2,
   "id": "a80968a0-40bb-4fa9-85ef-2d5eefb01975",
   "metadata": {
    "execution": {
     "iopub.execute_input": "2025-08-05T16:04:09.303759Z",
     "iopub.status.busy": "2025-08-05T16:04:09.303299Z",
     "iopub.status.idle": "2025-08-05T16:04:09.308778Z",
     "shell.execute_reply": "2025-08-05T16:04:09.307846Z"
    },
    "papermill": {
     "duration": 0.025847,
     "end_time": "2025-08-05T16:04:09.310615",
     "exception": false,
     "start_time": "2025-08-05T16:04:09.284768",
     "status": "completed"
    },
    "tags": []
   },
   "outputs": [
    {
     "name": "stdout",
     "output_type": "stream",
     "text": [
      "Current working directory: /dss/dsshome1/0C/ra93lal2/cma/CMA_Fairness_v2\n"
     ]
    }
   ],
   "source": [
    "import os\n",
    "print(\"Current working directory:\", os.getcwd())"
   ]
  },
  {
   "cell_type": "code",
   "execution_count": 3,
   "id": "2dce4c03",
   "metadata": {
    "execution": {
     "iopub.execute_input": "2025-08-05T16:04:09.341937Z",
     "iopub.status.busy": "2025-08-05T16:04:09.341485Z",
     "iopub.status.idle": "2025-08-05T16:04:09.346111Z",
     "shell.execute_reply": "2025-08-05T16:04:09.345312Z"
    },
    "papermill": {
     "duration": 0.018822,
     "end_time": "2025-08-05T16:04:09.347549",
     "exception": false,
     "start_time": "2025-08-05T16:04:09.328727",
     "status": "completed"
    },
    "tags": [
     "parameters"
    ]
   },
   "outputs": [],
   "source": [
    "run_no = 0\n",
    "universe_id = \"test\"\n",
    "universe = {\n",
    "    \"training_size\": \"25k\", # \"25k\", \"5k\", \"1k\"\n",
    "    \"training_year\": \"2014\", # \"2014\", \"2012_14\", \"2010_14\"\n",
    "    \"scale\": \"scale\", # \"scale\", \"do-not-scale\",\n",
    "    \"model\": \"elasticnet\", # \"logreg\", \"penalized_logreg\", \"rf\", \"gbm\", \"elasticnet\"\n",
    "    \"cutoff\": [\"quantile_0.15\", \"quantile_0.30\"],\n",
    "    \"exclude_features\": \"age\", # \"none\", \"nationality\", \"sex\", \"nationality-sex\", \"age\"\n",
    "    \"exclude_subgroups\": \"keep-all\", # \"keep-all\", \"drop-non-german\"\n",
    "    \"eval_fairness_grouping\": [\"majority-minority\", \"nationality-all\"]\n",
    "}\n",
    "\n",
    "output_dir=\"./output\"\n",
    "seed=0"
   ]
  },
  {
   "cell_type": "code",
   "execution_count": 4,
   "id": "67ec99e9",
   "metadata": {
    "execution": {
     "iopub.execute_input": "2025-08-05T16:04:09.372901Z",
     "iopub.status.busy": "2025-08-05T16:04:09.372283Z",
     "iopub.status.idle": "2025-08-05T16:04:09.379806Z",
     "shell.execute_reply": "2025-08-05T16:04:09.379062Z"
    },
    "papermill": {
     "duration": 0.021778,
     "end_time": "2025-08-05T16:04:09.381698",
     "exception": false,
     "start_time": "2025-08-05T16:04:09.359920",
     "status": "completed"
    },
    "tags": [
     "injected-parameters"
    ]
   },
   "outputs": [],
   "source": [
    "# Parameters\n",
    "universe_id = \"e95ed2994b1b5ec918e7bcd050f0ad5f\"\n",
    "run_no = \"15\"\n",
    "universe = \"{\\\"cutoff\\\": [\\\"quantile_0.1\\\", \\\"quantile_0.25\\\"], \\\"eval_fairness_grouping\\\": [\\\"majority-minority\\\", \\\"nationality-all\\\"], \\\"exclude_features\\\": \\\"none\\\", \\\"exclude_subgroups\\\": \\\"keep-all\\\", \\\"model\\\": \\\"rf\\\", \\\"scale\\\": \\\"scale\\\", \\\"training_size\\\": \\\"1k\\\", \\\"training_year\\\": \\\"2014\\\"}\"\n",
    "output_dir = \"output\"\n",
    "seed = \"2023\"\n"
   ]
  },
  {
   "cell_type": "code",
   "execution_count": 5,
   "id": "1650acaf",
   "metadata": {
    "execution": {
     "iopub.execute_input": "2025-08-05T16:04:09.405048Z",
     "iopub.status.busy": "2025-08-05T16:04:09.404669Z",
     "iopub.status.idle": "2025-08-05T16:04:09.409375Z",
     "shell.execute_reply": "2025-08-05T16:04:09.408439Z"
    },
    "papermill": {
     "duration": 0.019525,
     "end_time": "2025-08-05T16:04:09.411137",
     "exception": false,
     "start_time": "2025-08-05T16:04:09.391612",
     "status": "completed"
    },
    "tags": []
   },
   "outputs": [],
   "source": [
    "import json\n",
    "if isinstance(universe, str):\n",
    "    universe = json.loads(universe)"
   ]
  },
  {
   "cell_type": "code",
   "execution_count": 6,
   "id": "16620c48",
   "metadata": {
    "execution": {
     "iopub.execute_input": "2025-08-05T16:04:09.436983Z",
     "iopub.status.busy": "2025-08-05T16:04:09.436206Z",
     "iopub.status.idle": "2025-08-05T16:04:09.566152Z",
     "shell.execute_reply": "2025-08-05T16:04:09.565143Z"
    },
    "papermill": {
     "duration": 0.142719,
     "end_time": "2025-08-05T16:04:09.568199",
     "exception": false,
     "start_time": "2025-08-05T16:04:09.425480",
     "status": "completed"
    },
    "tags": []
   },
   "outputs": [],
   "source": [
    "# Auto-reload the custom package\n",
    "%load_ext autoreload\n",
    "%autoreload 1\n",
    "%aimport fairness_multiverse"
   ]
  },
  {
   "cell_type": "code",
   "execution_count": 7,
   "id": "01c5c9f3",
   "metadata": {
    "execution": {
     "iopub.execute_input": "2025-08-05T16:04:09.648246Z",
     "iopub.status.busy": "2025-08-05T16:04:09.647724Z",
     "iopub.status.idle": "2025-08-05T16:04:11.607133Z",
     "shell.execute_reply": "2025-08-05T16:04:11.605925Z"
    },
    "papermill": {
     "duration": 1.978449,
     "end_time": "2025-08-05T16:04:11.609119",
     "exception": false,
     "start_time": "2025-08-05T16:04:09.630670",
     "status": "completed"
    },
    "tags": []
   },
   "outputs": [],
   "source": [
    "from fairness_multiverse.universe import UniverseAnalysis\n",
    "\n",
    "universe_analysis = UniverseAnalysis(\n",
    "    run_no = run_no,\n",
    "    universe_id = universe_id,\n",
    "    universe = universe,\n",
    "    output_dir=output_dir,\n",
    ")"
   ]
  },
  {
   "cell_type": "code",
   "execution_count": 8,
   "id": "106241f5",
   "metadata": {
    "execution": {
     "iopub.execute_input": "2025-08-05T16:04:11.645188Z",
     "iopub.status.busy": "2025-08-05T16:04:11.644271Z",
     "iopub.status.idle": "2025-08-05T16:04:11.651892Z",
     "shell.execute_reply": "2025-08-05T16:04:11.650585Z"
    },
    "papermill": {
     "duration": 0.026956,
     "end_time": "2025-08-05T16:04:11.653683",
     "exception": false,
     "start_time": "2025-08-05T16:04:11.626727",
     "status": "completed"
    },
    "tags": []
   },
   "outputs": [
    {
     "name": "stdout",
     "output_type": "stream",
     "text": [
      "Using Seed: 2023\n"
     ]
    }
   ],
   "source": [
    "import numpy as np\n",
    "parsed_seed = int(seed)\n",
    "np.random.seed(parsed_seed)\n",
    "print(f\"Using Seed: {parsed_seed}\")"
   ]
  },
  {
   "cell_type": "markdown",
   "id": "e0ebdc57",
   "metadata": {
    "papermill": {
     "duration": 0.018758,
     "end_time": "2025-08-05T16:04:11.688725",
     "exception": false,
     "start_time": "2025-08-05T16:04:11.669967",
     "status": "completed"
    },
    "tags": []
   },
   "source": [
    "# Loading Data"
   ]
  },
  {
   "cell_type": "code",
   "execution_count": 9,
   "id": "f0496b8a",
   "metadata": {
    "execution": {
     "iopub.execute_input": "2025-08-05T16:04:11.721162Z",
     "iopub.status.busy": "2025-08-05T16:04:11.720744Z",
     "iopub.status.idle": "2025-08-05T16:04:24.104666Z",
     "shell.execute_reply": "2025-08-05T16:04:24.103430Z"
    },
    "papermill": {
     "duration": 12.397182,
     "end_time": "2025-08-05T16:04:24.106440",
     "exception": false,
     "start_time": "2025-08-05T16:04:11.709258",
     "status": "completed"
    },
    "tags": []
   },
   "outputs": [
    {
     "name": "stdout",
     "output_type": "stream",
     "text": [
      "Loading SIAB data from cache: data/siab_cached.csv.gz\n"
     ]
    },
    {
     "name": "stdout",
     "output_type": "stream",
     "text": [
      "(643690, 164)\n"
     ]
    }
   ],
   "source": [
    "from pathlib import Path\n",
    "import pandas as pd\n",
    "\n",
    "# File paths\n",
    "raw_file = Path(\"data/raw/siab.csv\")\n",
    "cache_file = Path(\"data/siab_cached.csv.gz\")\n",
    "\n",
    "# Ensure cache directory exists\n",
    "cache_file.parent.mkdir(parents=True, exist_ok=True)\n",
    "\n",
    "# Load with simple caching\n",
    "if cache_file.exists():\n",
    "    print(f\"Loading SIAB data from cache: {cache_file}\")\n",
    "    siab = pd.read_csv(cache_file, compression='gzip')\n",
    "else:\n",
    "    print(f\"Cache not found. Reading raw SIAB data: {raw_file}\")\n",
    "    siab = pd.read_csv(raw_file)\n",
    "    siab.to_csv(cache_file, index=False, compression='gzip')\n",
    "    print(f\"Cached SIAB data to: {cache_file}\")\n",
    "\n",
    "print(siab.shape)"
   ]
  },
  {
   "cell_type": "code",
   "execution_count": 10,
   "id": "db0ca512-5f53-4dba-abdb-a2888bca41ba",
   "metadata": {
    "execution": {
     "iopub.execute_input": "2025-08-05T16:04:24.147132Z",
     "iopub.status.busy": "2025-08-05T16:04:24.146170Z",
     "iopub.status.idle": "2025-08-05T16:04:24.152771Z",
     "shell.execute_reply": "2025-08-05T16:04:24.151735Z"
    },
    "papermill": {
     "duration": 0.028165,
     "end_time": "2025-08-05T16:04:24.155016",
     "exception": false,
     "start_time": "2025-08-05T16:04:24.126851",
     "status": "completed"
    },
    "tags": []
   },
   "outputs": [],
   "source": [
    "#siab"
   ]
  },
  {
   "cell_type": "markdown",
   "id": "997051c5-15bd-4b69-9786-c3001a3ce484",
   "metadata": {
    "papermill": {
     "duration": 0.020899,
     "end_time": "2025-08-05T16:04:24.197877",
     "exception": false,
     "start_time": "2025-08-05T16:04:24.176978",
     "status": "completed"
    },
    "tags": []
   },
   "source": [
    "# Splitting Data and Setting Training Data Size"
   ]
  },
  {
   "cell_type": "code",
   "execution_count": 11,
   "id": "aea9c6ef-6f46-42c8-85eb-5a62025c1508",
   "metadata": {
    "execution": {
     "iopub.execute_input": "2025-08-05T16:04:24.242703Z",
     "iopub.status.busy": "2025-08-05T16:04:24.242006Z",
     "iopub.status.idle": "2025-08-05T16:04:24.458445Z",
     "shell.execute_reply": "2025-08-05T16:04:24.457257Z"
    },
    "papermill": {
     "duration": 0.24106,
     "end_time": "2025-08-05T16:04:24.460666",
     "exception": false,
     "start_time": "2025-08-05T16:04:24.219606",
     "status": "completed"
    },
    "tags": []
   },
   "outputs": [],
   "source": [
    "from fairness_multiverse.universe import sample_by_year_size\n",
    "\n",
    "siab_train = sample_by_year_size(siab,\n",
    "                               training_year=universe[\"training_year\"],\n",
    "                               training_size=universe[\"training_size\"])"
   ]
  },
  {
   "cell_type": "code",
   "execution_count": 12,
   "id": "8d3afb32-789d-442c-8d5d-9f5aa8dd2eed",
   "metadata": {
    "execution": {
     "iopub.execute_input": "2025-08-05T16:04:24.509181Z",
     "iopub.status.busy": "2025-08-05T16:04:24.508275Z",
     "iopub.status.idle": "2025-08-05T16:04:24.514042Z",
     "shell.execute_reply": "2025-08-05T16:04:24.512828Z"
    },
    "papermill": {
     "duration": 0.031504,
     "end_time": "2025-08-05T16:04:24.516001",
     "exception": false,
     "start_time": "2025-08-05T16:04:24.484497",
     "status": "completed"
    },
    "tags": []
   },
   "outputs": [],
   "source": [
    "#siab_train.shape"
   ]
  },
  {
   "cell_type": "code",
   "execution_count": 13,
   "id": "d582db68-1a4c-47fb-84fc-08518dc1975a",
   "metadata": {
    "execution": {
     "iopub.execute_input": "2025-08-05T16:04:24.559004Z",
     "iopub.status.busy": "2025-08-05T16:04:24.558475Z",
     "iopub.status.idle": "2025-08-05T16:04:24.564016Z",
     "shell.execute_reply": "2025-08-05T16:04:24.562978Z"
    },
    "papermill": {
     "duration": 0.030401,
     "end_time": "2025-08-05T16:04:24.566052",
     "exception": false,
     "start_time": "2025-08-05T16:04:24.535651",
     "status": "completed"
    },
    "tags": []
   },
   "outputs": [],
   "source": [
    "#display(siab_train.groupby(\"year\").size())"
   ]
  },
  {
   "cell_type": "code",
   "execution_count": 14,
   "id": "a561edb4-d032-42cb-8256-22eac1111c64",
   "metadata": {
    "execution": {
     "iopub.execute_input": "2025-08-05T16:04:24.607336Z",
     "iopub.status.busy": "2025-08-05T16:04:24.605809Z",
     "iopub.status.idle": "2025-08-05T16:04:24.829417Z",
     "shell.execute_reply": "2025-08-05T16:04:24.828579Z"
    },
    "papermill": {
     "duration": 0.245318,
     "end_time": "2025-08-05T16:04:24.831112",
     "exception": false,
     "start_time": "2025-08-05T16:04:24.585794",
     "status": "completed"
    },
    "tags": []
   },
   "outputs": [],
   "source": [
    "#siab_train = siab_s[siab_s.year < 2015]\n",
    "siab_calib = siab[siab.year == 2015]\n",
    "siab_test = siab[siab.year == 2016]"
   ]
  },
  {
   "cell_type": "code",
   "execution_count": 15,
   "id": "472de16f-c3db-4916-846b-1f0de9cf1746",
   "metadata": {
    "execution": {
     "iopub.execute_input": "2025-08-05T16:04:24.870575Z",
     "iopub.status.busy": "2025-08-05T16:04:24.869747Z",
     "iopub.status.idle": "2025-08-05T16:04:24.878582Z",
     "shell.execute_reply": "2025-08-05T16:04:24.877252Z"
    },
    "papermill": {
     "duration": 0.031583,
     "end_time": "2025-08-05T16:04:24.880606",
     "exception": false,
     "start_time": "2025-08-05T16:04:24.849023",
     "status": "completed"
    },
    "tags": []
   },
   "outputs": [],
   "source": [
    "X_train = siab_train.iloc[:,4:164]\n",
    "y_train = siab_train.iloc[:, [3]]"
   ]
  },
  {
   "cell_type": "code",
   "execution_count": 16,
   "id": "828c96af-f43a-4ed6-ba47-8ac73a47d56c",
   "metadata": {
    "execution": {
     "iopub.execute_input": "2025-08-05T16:04:24.923110Z",
     "iopub.status.busy": "2025-08-05T16:04:24.922168Z",
     "iopub.status.idle": "2025-08-05T16:04:24.981696Z",
     "shell.execute_reply": "2025-08-05T16:04:24.980401Z"
    },
    "papermill": {
     "duration": 0.082703,
     "end_time": "2025-08-05T16:04:24.984040",
     "exception": false,
     "start_time": "2025-08-05T16:04:24.901337",
     "status": "completed"
    },
    "tags": []
   },
   "outputs": [],
   "source": [
    "X_calib = siab_calib.iloc[:,4:164]\n",
    "y_calib = siab_calib.iloc[:, [3]]"
   ]
  },
  {
   "cell_type": "code",
   "execution_count": 17,
   "id": "c34be9c3-6bd6-476e-acd3-845840e303be",
   "metadata": {
    "execution": {
     "iopub.execute_input": "2025-08-05T16:04:25.035654Z",
     "iopub.status.busy": "2025-08-05T16:04:25.034793Z",
     "iopub.status.idle": "2025-08-05T16:04:25.090557Z",
     "shell.execute_reply": "2025-08-05T16:04:25.089426Z"
    },
    "papermill": {
     "duration": 0.088501,
     "end_time": "2025-08-05T16:04:25.092515",
     "exception": false,
     "start_time": "2025-08-05T16:04:25.004014",
     "status": "completed"
    },
    "tags": []
   },
   "outputs": [],
   "source": [
    "X_test = siab_test.iloc[:,4:164]\n",
    "y_true = siab_test.iloc[:, [3]]"
   ]
  },
  {
   "cell_type": "code",
   "execution_count": 18,
   "id": "e6c733c5",
   "metadata": {
    "execution": {
     "iopub.execute_input": "2025-08-05T16:04:25.133100Z",
     "iopub.status.busy": "2025-08-05T16:04:25.132598Z",
     "iopub.status.idle": "2025-08-05T16:04:25.228160Z",
     "shell.execute_reply": "2025-08-05T16:04:25.227101Z"
    },
    "papermill": {
     "duration": 0.117535,
     "end_time": "2025-08-05T16:04:25.230108",
     "exception": false,
     "start_time": "2025-08-05T16:04:25.112573",
     "status": "completed"
    },
    "tags": []
   },
   "outputs": [],
   "source": [
    "# Auxiliary data needed downstream in the pipeline\n",
    "\n",
    "org_train = X_train.copy()\n",
    "org_test = X_test.copy()\n",
    "org_calib = X_calib.copy()"
   ]
  },
  {
   "cell_type": "markdown",
   "id": "0a4a1b33",
   "metadata": {
    "papermill": {
     "duration": 0.009358,
     "end_time": "2025-08-05T16:04:25.249494",
     "exception": false,
     "start_time": "2025-08-05T16:04:25.240136",
     "status": "completed"
    },
    "tags": []
   },
   "source": [
    "# Preprocessing Data"
   ]
  },
  {
   "cell_type": "code",
   "execution_count": 19,
   "id": "ca879031",
   "metadata": {
    "execution": {
     "iopub.execute_input": "2025-08-05T16:04:25.279208Z",
     "iopub.status.busy": "2025-08-05T16:04:25.278421Z",
     "iopub.status.idle": "2025-08-05T16:04:25.287972Z",
     "shell.execute_reply": "2025-08-05T16:04:25.286970Z"
    },
    "papermill": {
     "duration": 0.030827,
     "end_time": "2025-08-05T16:04:25.289811",
     "exception": false,
     "start_time": "2025-08-05T16:04:25.258984",
     "status": "completed"
    },
    "tags": []
   },
   "outputs": [],
   "source": [
    "# EXCLUDE PROTECTED FEATURES\n",
    "# ----------------------\n",
    "# \"exclude_features\": \"none\", # \"nationality\", \"sex\", \"nationality-sex\"\n",
    "\n",
    "excluded_features = universe[\"exclude_features\"].split(\"-\") # split, e.g.: \"nationality-sex\" -> [\"nationality\", \"sex\"]\n",
    "excluded_features_dictionary = {\n",
    "    \"nationality\": [\"maxdeutsch1\", \"maxdeutsch.Missing.\"],\n",
    "    \"sex\": [\"frau1\"],\n",
    "    \"age\": [\"age\"],\n",
    "}"
   ]
  },
  {
   "cell_type": "code",
   "execution_count": 20,
   "id": "b745ac60",
   "metadata": {
    "execution": {
     "iopub.execute_input": "2025-08-05T16:04:25.341069Z",
     "iopub.status.busy": "2025-08-05T16:04:25.340372Z",
     "iopub.status.idle": "2025-08-05T16:04:25.347764Z",
     "shell.execute_reply": "2025-08-05T16:04:25.346578Z"
    },
    "papermill": {
     "duration": 0.034627,
     "end_time": "2025-08-05T16:04:25.350171",
     "exception": false,
     "start_time": "2025-08-05T16:04:25.315544",
     "status": "completed"
    },
    "tags": []
   },
   "outputs": [],
   "source": [
    "# Code nice names to column names\n",
    "\n",
    "excluded_features_columns = [\n",
    "    excluded_features_dictionary[f] for f in excluded_features if len(f) > 0 and f != \"none\"\n",
    "]"
   ]
  },
  {
   "cell_type": "code",
   "execution_count": 21,
   "id": "f84f73a2",
   "metadata": {
    "execution": {
     "iopub.execute_input": "2025-08-05T16:04:25.398438Z",
     "iopub.status.busy": "2025-08-05T16:04:25.397918Z",
     "iopub.status.idle": "2025-08-05T16:04:25.405015Z",
     "shell.execute_reply": "2025-08-05T16:04:25.403987Z"
    },
    "papermill": {
     "duration": 0.033495,
     "end_time": "2025-08-05T16:04:25.406913",
     "exception": false,
     "start_time": "2025-08-05T16:04:25.373418",
     "status": "completed"
    },
    "tags": []
   },
   "outputs": [],
   "source": [
    "from utils import flatten_once\n",
    "\n",
    "excluded_features_columns = flatten_once(excluded_features_columns)"
   ]
  },
  {
   "cell_type": "code",
   "execution_count": 22,
   "id": "884dea22",
   "metadata": {
    "execution": {
     "iopub.execute_input": "2025-08-05T16:04:25.456645Z",
     "iopub.status.busy": "2025-08-05T16:04:25.455470Z",
     "iopub.status.idle": "2025-08-05T16:04:25.462612Z",
     "shell.execute_reply": "2025-08-05T16:04:25.461383Z"
    },
    "papermill": {
     "duration": 0.034714,
     "end_time": "2025-08-05T16:04:25.465086",
     "exception": false,
     "start_time": "2025-08-05T16:04:25.430372",
     "status": "completed"
    },
    "tags": []
   },
   "outputs": [],
   "source": [
    "if len(excluded_features_columns) > 0:\n",
    "    print(f\"Dropping features: {excluded_features_columns}\")\n",
    "    X_train.drop(excluded_features_columns, axis=1, inplace=True)"
   ]
  },
  {
   "cell_type": "code",
   "execution_count": 23,
   "id": "95ab8b16",
   "metadata": {
    "execution": {
     "iopub.execute_input": "2025-08-05T16:04:25.515758Z",
     "iopub.status.busy": "2025-08-05T16:04:25.514754Z",
     "iopub.status.idle": "2025-08-05T16:04:25.521691Z",
     "shell.execute_reply": "2025-08-05T16:04:25.520453Z"
    },
    "papermill": {
     "duration": 0.034587,
     "end_time": "2025-08-05T16:04:25.524228",
     "exception": false,
     "start_time": "2025-08-05T16:04:25.489641",
     "status": "completed"
    },
    "tags": []
   },
   "outputs": [],
   "source": [
    "if len(excluded_features_columns) > 0:\n",
    "    print(f\"Dropping features: {excluded_features_columns}\")\n",
    "    X_test.drop(excluded_features_columns, axis=1, inplace=True)"
   ]
  },
  {
   "cell_type": "code",
   "execution_count": 24,
   "id": "1853aaf5-fb9f-46cb-a2b5-8ea4ae2237e4",
   "metadata": {
    "execution": {
     "iopub.execute_input": "2025-08-05T16:04:25.572426Z",
     "iopub.status.busy": "2025-08-05T16:04:25.571853Z",
     "iopub.status.idle": "2025-08-05T16:04:25.578861Z",
     "shell.execute_reply": "2025-08-05T16:04:25.577738Z"
    },
    "papermill": {
     "duration": 0.033266,
     "end_time": "2025-08-05T16:04:25.580913",
     "exception": false,
     "start_time": "2025-08-05T16:04:25.547647",
     "status": "completed"
    },
    "tags": []
   },
   "outputs": [],
   "source": [
    "if len(excluded_features_columns) > 0:\n",
    "    print(f\"Dropping features: {excluded_features_columns}\")\n",
    "    X_calib.drop(excluded_features_columns, axis=1, inplace=True)"
   ]
  },
  {
   "cell_type": "code",
   "execution_count": 25,
   "id": "76c4dc6d",
   "metadata": {
    "execution": {
     "iopub.execute_input": "2025-08-05T16:04:25.629242Z",
     "iopub.status.busy": "2025-08-05T16:04:25.627985Z",
     "iopub.status.idle": "2025-08-05T16:04:25.634307Z",
     "shell.execute_reply": "2025-08-05T16:04:25.633308Z"
    },
    "papermill": {
     "duration": 0.032792,
     "end_time": "2025-08-05T16:04:25.636581",
     "exception": false,
     "start_time": "2025-08-05T16:04:25.603789",
     "status": "completed"
    },
    "tags": []
   },
   "outputs": [],
   "source": [
    "# EXCLUDE CERTAIN SUBGROUPS\n",
    "# ----------------------\n",
    "\n",
    "mode = universe.get(\"exclude_subgroups\", \"keep-all\") \n",
    "# Fetches the exclude_subgroups setting from the universe dict.\n",
    "# Defaults to \"keep-all\" if the key is missing."
   ]
  },
  {
   "cell_type": "code",
   "execution_count": 26,
   "id": "21994072",
   "metadata": {
    "execution": {
     "iopub.execute_input": "2025-08-05T16:04:25.685761Z",
     "iopub.status.busy": "2025-08-05T16:04:25.685121Z",
     "iopub.status.idle": "2025-08-05T16:04:25.693887Z",
     "shell.execute_reply": "2025-08-05T16:04:25.692792Z"
    },
    "papermill": {
     "duration": 0.035718,
     "end_time": "2025-08-05T16:04:25.696018",
     "exception": false,
     "start_time": "2025-08-05T16:04:25.660300",
     "status": "completed"
    },
    "tags": []
   },
   "outputs": [],
   "source": [
    "if mode == \"keep-all\":\n",
    "    keep_mask = pd.Series(True, index=org_train.index)\n",
    "\n",
    "# org_train contains the original feature columns from features_org (in Simson)\n",
    "# features_org contains unprocessed features, for me X_train at beginning ???\n",
    "# For keep-all, creates a boolean Series (keep_mask) of all True, so no rows are removed.\n",
    "\n",
    "elif mode == \"drop-non-german\":\n",
    "    keep_mask = org_train[\"maxdeutsch1\"] == 1 # ??? what about missing values?\n",
    "\n",
    "else:\n",
    "    raise ValueError(f\"Unsupported mode for exclude_subgroups: {mode}\")"
   ]
  },
  {
   "cell_type": "code",
   "execution_count": 27,
   "id": "71651440",
   "metadata": {
    "execution": {
     "iopub.execute_input": "2025-08-05T16:04:25.747301Z",
     "iopub.status.busy": "2025-08-05T16:04:25.746542Z",
     "iopub.status.idle": "2025-08-05T16:04:25.754280Z",
     "shell.execute_reply": "2025-08-05T16:04:25.753078Z"
    },
    "papermill": {
     "duration": 0.035154,
     "end_time": "2025-08-05T16:04:25.756506",
     "exception": false,
     "start_time": "2025-08-05T16:04:25.721352",
     "status": "completed"
    },
    "tags": []
   },
   "outputs": [],
   "source": [
    "n_drop = (~keep_mask).sum() # Calculates how many rows are set to be dropped\n",
    "if n_drop > 0:\n",
    "    pct = n_drop / len(keep_mask) * 100\n",
    "    print(f\"Dropping {n_drop} rows ({pct:.2f}%) where mode='{mode}'\")"
   ]
  },
  {
   "cell_type": "code",
   "execution_count": 28,
   "id": "5fb8eee5",
   "metadata": {
    "execution": {
     "iopub.execute_input": "2025-08-05T16:04:25.805946Z",
     "iopub.status.busy": "2025-08-05T16:04:25.805361Z",
     "iopub.status.idle": "2025-08-05T16:04:25.813510Z",
     "shell.execute_reply": "2025-08-05T16:04:25.812250Z"
    },
    "papermill": {
     "duration": 0.035531,
     "end_time": "2025-08-05T16:04:25.815697",
     "exception": false,
     "start_time": "2025-08-05T16:04:25.780166",
     "status": "completed"
    },
    "tags": []
   },
   "outputs": [],
   "source": [
    "X_train = X_train[keep_mask]"
   ]
  },
  {
   "cell_type": "code",
   "execution_count": 29,
   "id": "b202bb3a",
   "metadata": {
    "execution": {
     "iopub.execute_input": "2025-08-05T16:04:25.864875Z",
     "iopub.status.busy": "2025-08-05T16:04:25.864357Z",
     "iopub.status.idle": "2025-08-05T16:04:25.871115Z",
     "shell.execute_reply": "2025-08-05T16:04:25.870059Z"
    },
    "papermill": {
     "duration": 0.03374,
     "end_time": "2025-08-05T16:04:25.873224",
     "exception": false,
     "start_time": "2025-08-05T16:04:25.839484",
     "status": "completed"
    },
    "tags": []
   },
   "outputs": [],
   "source": [
    "y_train = y_train[keep_mask]"
   ]
  },
  {
   "cell_type": "markdown",
   "id": "493e2ac3",
   "metadata": {
    "papermill": {
     "duration": 0.010875,
     "end_time": "2025-08-05T16:04:25.904446",
     "exception": false,
     "start_time": "2025-08-05T16:04:25.893571",
     "status": "completed"
    },
    "tags": []
   },
   "source": [
    "# Model Training"
   ]
  },
  {
   "cell_type": "code",
   "execution_count": 30,
   "id": "679e1268",
   "metadata": {
    "execution": {
     "iopub.execute_input": "2025-08-05T16:04:25.933720Z",
     "iopub.status.busy": "2025-08-05T16:04:25.933150Z",
     "iopub.status.idle": "2025-08-05T16:04:26.044891Z",
     "shell.execute_reply": "2025-08-05T16:04:26.044082Z"
    },
    "papermill": {
     "duration": 0.132777,
     "end_time": "2025-08-05T16:04:26.046957",
     "exception": false,
     "start_time": "2025-08-05T16:04:25.914180",
     "status": "completed"
    },
    "tags": []
   },
   "outputs": [],
   "source": [
    "from sklearn.linear_model import LogisticRegression\n",
    "from sklearn.ensemble import GradientBoostingClassifier, RandomForestClassifier\n",
    "\n",
    "if (universe[\"model\"] == \"logreg\"):\n",
    "    model = LogisticRegression() #penalty=\"none\", solver=\"newton-cg\", max_iter=1) # include random_state=19 ?\n",
    "elif (universe[\"model\"] == \"penalized_logreg\"):\n",
    "    model = LogisticRegression(penalty=\"l2\", C=0.1) #, solver=\"newton-cg\", max_iter=1)\n",
    "elif (universe[\"model\"] == \"rf\"):\n",
    "    model = RandomForestClassifier() # n_estimators=100, n_jobs=-1\n",
    "elif (universe[\"model\"] == \"gbm\"):\n",
    "    model = GradientBoostingClassifier()\n",
    "elif (universe[\"model\"] == \"elasticnet\"):\n",
    "    model = LogisticRegression(penalty = 'elasticnet', solver = 'saga', l1_ratio = 0.5) # max_iter=5000\n",
    "else:\n",
    "    raise \"Unsupported universe.model\""
   ]
  },
  {
   "cell_type": "code",
   "execution_count": 31,
   "id": "0cc8f744",
   "metadata": {
    "execution": {
     "iopub.execute_input": "2025-08-05T16:04:26.099309Z",
     "iopub.status.busy": "2025-08-05T16:04:26.098777Z",
     "iopub.status.idle": "2025-08-05T16:04:26.105914Z",
     "shell.execute_reply": "2025-08-05T16:04:26.104652Z"
    },
    "papermill": {
     "duration": 0.037146,
     "end_time": "2025-08-05T16:04:26.107912",
     "exception": false,
     "start_time": "2025-08-05T16:04:26.070766",
     "status": "completed"
    },
    "tags": []
   },
   "outputs": [],
   "source": [
    "import numpy as np\n",
    "from sklearn.pipeline import Pipeline\n",
    "from sklearn.preprocessing import StandardScaler\n",
    "\n",
    "model = Pipeline([\n",
    "    #(\"continuous_processor\", continuous_processor),\n",
    "    #(\"categorical_preprocessor\", categorical_preprocessor),\n",
    "    (\"scale\", StandardScaler() if universe[\"scale\"] == \"scale\" else None), \n",
    "    (\"model\", model),\n",
    "])"
   ]
  },
  {
   "cell_type": "code",
   "execution_count": 32,
   "id": "9442c04d",
   "metadata": {
    "execution": {
     "iopub.execute_input": "2025-08-05T16:04:26.165675Z",
     "iopub.status.busy": "2025-08-05T16:04:26.164943Z",
     "iopub.status.idle": "2025-08-05T16:04:26.667640Z",
     "shell.execute_reply": "2025-08-05T16:04:26.666486Z"
    },
    "papermill": {
     "duration": 0.537336,
     "end_time": "2025-08-05T16:04:26.669327",
     "exception": false,
     "start_time": "2025-08-05T16:04:26.131991",
     "status": "completed"
    },
    "tags": []
   },
   "outputs": [
    {
     "data": {
      "text/html": [
       "<style>#sk-container-id-1 {color: black;background-color: white;}#sk-container-id-1 pre{padding: 0;}#sk-container-id-1 div.sk-toggleable {background-color: white;}#sk-container-id-1 label.sk-toggleable__label {cursor: pointer;display: block;width: 100%;margin-bottom: 0;padding: 0.3em;box-sizing: border-box;text-align: center;}#sk-container-id-1 label.sk-toggleable__label-arrow:before {content: \"▸\";float: left;margin-right: 0.25em;color: #696969;}#sk-container-id-1 label.sk-toggleable__label-arrow:hover:before {color: black;}#sk-container-id-1 div.sk-estimator:hover label.sk-toggleable__label-arrow:before {color: black;}#sk-container-id-1 div.sk-toggleable__content {max-height: 0;max-width: 0;overflow: hidden;text-align: left;background-color: #f0f8ff;}#sk-container-id-1 div.sk-toggleable__content pre {margin: 0.2em;color: black;border-radius: 0.25em;background-color: #f0f8ff;}#sk-container-id-1 input.sk-toggleable__control:checked~div.sk-toggleable__content {max-height: 200px;max-width: 100%;overflow: auto;}#sk-container-id-1 input.sk-toggleable__control:checked~label.sk-toggleable__label-arrow:before {content: \"▾\";}#sk-container-id-1 div.sk-estimator input.sk-toggleable__control:checked~label.sk-toggleable__label {background-color: #d4ebff;}#sk-container-id-1 div.sk-label input.sk-toggleable__control:checked~label.sk-toggleable__label {background-color: #d4ebff;}#sk-container-id-1 input.sk-hidden--visually {border: 0;clip: rect(1px 1px 1px 1px);clip: rect(1px, 1px, 1px, 1px);height: 1px;margin: -1px;overflow: hidden;padding: 0;position: absolute;width: 1px;}#sk-container-id-1 div.sk-estimator {font-family: monospace;background-color: #f0f8ff;border: 1px dotted black;border-radius: 0.25em;box-sizing: border-box;margin-bottom: 0.5em;}#sk-container-id-1 div.sk-estimator:hover {background-color: #d4ebff;}#sk-container-id-1 div.sk-parallel-item::after {content: \"\";width: 100%;border-bottom: 1px solid gray;flex-grow: 1;}#sk-container-id-1 div.sk-label:hover label.sk-toggleable__label {background-color: #d4ebff;}#sk-container-id-1 div.sk-serial::before {content: \"\";position: absolute;border-left: 1px solid gray;box-sizing: border-box;top: 0;bottom: 0;left: 50%;z-index: 0;}#sk-container-id-1 div.sk-serial {display: flex;flex-direction: column;align-items: center;background-color: white;padding-right: 0.2em;padding-left: 0.2em;position: relative;}#sk-container-id-1 div.sk-item {position: relative;z-index: 1;}#sk-container-id-1 div.sk-parallel {display: flex;align-items: stretch;justify-content: center;background-color: white;position: relative;}#sk-container-id-1 div.sk-item::before, #sk-container-id-1 div.sk-parallel-item::before {content: \"\";position: absolute;border-left: 1px solid gray;box-sizing: border-box;top: 0;bottom: 0;left: 50%;z-index: -1;}#sk-container-id-1 div.sk-parallel-item {display: flex;flex-direction: column;z-index: 1;position: relative;background-color: white;}#sk-container-id-1 div.sk-parallel-item:first-child::after {align-self: flex-end;width: 50%;}#sk-container-id-1 div.sk-parallel-item:last-child::after {align-self: flex-start;width: 50%;}#sk-container-id-1 div.sk-parallel-item:only-child::after {width: 0;}#sk-container-id-1 div.sk-dashed-wrapped {border: 1px dashed gray;margin: 0 0.4em 0.5em 0.4em;box-sizing: border-box;padding-bottom: 0.4em;background-color: white;}#sk-container-id-1 div.sk-label label {font-family: monospace;font-weight: bold;display: inline-block;line-height: 1.2em;}#sk-container-id-1 div.sk-label-container {text-align: center;}#sk-container-id-1 div.sk-container {/* jupyter's `normalize.less` sets `[hidden] { display: none; }` but bootstrap.min.css set `[hidden] { display: none !important; }` so we also need the `!important` here to be able to override the default hidden behavior on the sphinx rendered scikit-learn.org. See: https://github.com/scikit-learn/scikit-learn/issues/21755 */display: inline-block !important;position: relative;}#sk-container-id-1 div.sk-text-repr-fallback {display: none;}</style><div id=\"sk-container-id-1\" class=\"sk-top-container\"><div class=\"sk-text-repr-fallback\"><pre>Pipeline(steps=[(&#x27;scale&#x27;, StandardScaler()),\n",
       "                (&#x27;model&#x27;, RandomForestClassifier())])</pre><b>In a Jupyter environment, please rerun this cell to show the HTML representation or trust the notebook. <br />On GitHub, the HTML representation is unable to render, please try loading this page with nbviewer.org.</b></div><div class=\"sk-container\" hidden><div class=\"sk-item sk-dashed-wrapped\"><div class=\"sk-label-container\"><div class=\"sk-label sk-toggleable\"><input class=\"sk-toggleable__control sk-hidden--visually\" id=\"sk-estimator-id-1\" type=\"checkbox\" ><label for=\"sk-estimator-id-1\" class=\"sk-toggleable__label sk-toggleable__label-arrow\">Pipeline</label><div class=\"sk-toggleable__content\"><pre>Pipeline(steps=[(&#x27;scale&#x27;, StandardScaler()),\n",
       "                (&#x27;model&#x27;, RandomForestClassifier())])</pre></div></div></div><div class=\"sk-serial\"><div class=\"sk-item\"><div class=\"sk-estimator sk-toggleable\"><input class=\"sk-toggleable__control sk-hidden--visually\" id=\"sk-estimator-id-2\" type=\"checkbox\" ><label for=\"sk-estimator-id-2\" class=\"sk-toggleable__label sk-toggleable__label-arrow\">StandardScaler</label><div class=\"sk-toggleable__content\"><pre>StandardScaler()</pre></div></div></div><div class=\"sk-item\"><div class=\"sk-estimator sk-toggleable\"><input class=\"sk-toggleable__control sk-hidden--visually\" id=\"sk-estimator-id-3\" type=\"checkbox\" ><label for=\"sk-estimator-id-3\" class=\"sk-toggleable__label sk-toggleable__label-arrow\">RandomForestClassifier</label><div class=\"sk-toggleable__content\"><pre>RandomForestClassifier()</pre></div></div></div></div></div></div></div>"
      ],
      "text/plain": [
       "Pipeline(steps=[('scale', StandardScaler()),\n",
       "                ('model', RandomForestClassifier())])"
      ]
     },
     "execution_count": 32,
     "metadata": {},
     "output_type": "execute_result"
    }
   ],
   "source": [
    "model.fit(X_train, y_train.values.ravel())"
   ]
  },
  {
   "cell_type": "code",
   "execution_count": 33,
   "id": "af59f8c0",
   "metadata": {
    "execution": {
     "iopub.execute_input": "2025-08-05T16:04:26.712274Z",
     "iopub.status.busy": "2025-08-05T16:04:26.711551Z",
     "iopub.status.idle": "2025-08-05T16:04:26.719591Z",
     "shell.execute_reply": "2025-08-05T16:04:26.718526Z"
    },
    "papermill": {
     "duration": 0.031021,
     "end_time": "2025-08-05T16:04:26.722241",
     "exception": false,
     "start_time": "2025-08-05T16:04:26.691220",
     "status": "completed"
    },
    "tags": []
   },
   "outputs": [],
   "source": [
    "from fairness_multiverse.universe import predict_w_threshold"
   ]
  },
  {
   "cell_type": "code",
   "execution_count": 34,
   "id": "a7cf2e16",
   "metadata": {
    "execution": {
     "iopub.execute_input": "2025-08-05T16:04:26.783275Z",
     "iopub.status.busy": "2025-08-05T16:04:26.782647Z",
     "iopub.status.idle": "2025-08-05T16:04:28.744334Z",
     "shell.execute_reply": "2025-08-05T16:04:28.743427Z"
    },
    "papermill": {
     "duration": 1.994546,
     "end_time": "2025-08-05T16:04:28.746102",
     "exception": false,
     "start_time": "2025-08-05T16:04:26.751556",
     "status": "completed"
    },
    "tags": []
   },
   "outputs": [
    {
     "data": {
      "text/plain": [
       "0.8638613309553004"
      ]
     },
     "execution_count": 34,
     "metadata": {},
     "output_type": "execute_result"
    }
   ],
   "source": [
    "probs_test = model.predict_proba(X_test)\n",
    "\n",
    "'''\n",
    "Below code returns a boolean array (or binary 0/1 array depending on how it’s used) where each element \n",
    "is True if the probability of class 1 is greater than or equal to the threshold, and False otherwise.\n",
    "'''\n",
    "y_pred_default = predict_w_threshold(probs_test, 0.5)\n",
    "\n",
    "from sklearn.metrics import accuracy_score\n",
    "\n",
    "# Naive prediction\n",
    "accuracy_score(y_true = y_true, y_pred = y_pred_default)"
   ]
  },
  {
   "cell_type": "code",
   "execution_count": 35,
   "id": "081964c3",
   "metadata": {
    "execution": {
     "iopub.execute_input": "2025-08-05T16:04:28.789927Z",
     "iopub.status.busy": "2025-08-05T16:04:28.789381Z",
     "iopub.status.idle": "2025-08-05T16:04:30.499458Z",
     "shell.execute_reply": "2025-08-05T16:04:30.498540Z"
    },
    "papermill": {
     "duration": 1.732045,
     "end_time": "2025-08-05T16:04:30.500921",
     "exception": false,
     "start_time": "2025-08-05T16:04:28.768876",
     "status": "completed"
    },
    "tags": []
   },
   "outputs": [
    {
     "data": {
      "text/plain": [
       "array([0, 0, 0, ..., 0, 0, 0])"
      ]
     },
     "execution_count": 35,
     "metadata": {},
     "output_type": "execute_result"
    }
   ],
   "source": [
    "model.predict(X_test)"
   ]
  },
  {
   "cell_type": "markdown",
   "id": "56c9705b",
   "metadata": {
    "papermill": {
     "duration": 0.019189,
     "end_time": "2025-08-05T16:04:30.532246",
     "exception": false,
     "start_time": "2025-08-05T16:04:30.513057",
     "status": "completed"
    },
    "tags": []
   },
   "source": [
    "# Conformal Prediction"
   ]
  },
  {
   "cell_type": "code",
   "execution_count": 36,
   "id": "160ec6ff",
   "metadata": {
    "execution": {
     "iopub.execute_input": "2025-08-05T16:04:30.578020Z",
     "iopub.status.busy": "2025-08-05T16:04:30.577444Z",
     "iopub.status.idle": "2025-08-05T16:04:30.583135Z",
     "shell.execute_reply": "2025-08-05T16:04:30.581955Z"
    },
    "papermill": {
     "duration": 0.031734,
     "end_time": "2025-08-05T16:04:30.585470",
     "exception": false,
     "start_time": "2025-08-05T16:04:30.553736",
     "status": "completed"
    },
    "tags": []
   },
   "outputs": [],
   "source": [
    "# Miscoverage level for conformal prediction (10% allowed error rate => 90% target coverage)\n",
    "alpha = 0.1"
   ]
  },
  {
   "cell_type": "code",
   "execution_count": 37,
   "id": "eadf4555-3dd3-440e-8e35-f82a4ad9f855",
   "metadata": {
    "execution": {
     "iopub.execute_input": "2025-08-05T16:04:30.646776Z",
     "iopub.status.busy": "2025-08-05T16:04:30.645769Z",
     "iopub.status.idle": "2025-08-05T16:04:32.435432Z",
     "shell.execute_reply": "2025-08-05T16:04:32.434436Z"
    },
    "papermill": {
     "duration": 1.823457,
     "end_time": "2025-08-05T16:04:32.437555",
     "exception": false,
     "start_time": "2025-08-05T16:04:30.614098",
     "status": "completed"
    },
    "tags": []
   },
   "outputs": [],
   "source": [
    "probs_calib = model.predict_proba(X_calib)"
   ]
  },
  {
   "cell_type": "code",
   "execution_count": 38,
   "id": "2ed93547-6d5d-4983-9b36-1ecb300da49a",
   "metadata": {
    "execution": {
     "iopub.execute_input": "2025-08-05T16:04:32.511904Z",
     "iopub.status.busy": "2025-08-05T16:04:32.511380Z",
     "iopub.status.idle": "2025-08-05T16:04:32.517302Z",
     "shell.execute_reply": "2025-08-05T16:04:32.516218Z"
    },
    "papermill": {
     "duration": 0.051623,
     "end_time": "2025-08-05T16:04:32.519147",
     "exception": false,
     "start_time": "2025-08-05T16:04:32.467524",
     "status": "completed"
    },
    "tags": []
   },
   "outputs": [],
   "source": [
    "y_calib = y_calib.values.ravel().astype(int)"
   ]
  },
  {
   "cell_type": "code",
   "execution_count": 39,
   "id": "65d1320d-f588-4b38-9072-62af1ae97f7d",
   "metadata": {
    "execution": {
     "iopub.execute_input": "2025-08-05T16:04:32.558768Z",
     "iopub.status.busy": "2025-08-05T16:04:32.558279Z",
     "iopub.status.idle": "2025-08-05T16:04:32.565662Z",
     "shell.execute_reply": "2025-08-05T16:04:32.564764Z"
    },
    "papermill": {
     "duration": 0.029419,
     "end_time": "2025-08-05T16:04:32.567484",
     "exception": false,
     "start_time": "2025-08-05T16:04:32.538065",
     "status": "completed"
    },
    "tags": []
   },
   "outputs": [],
   "source": [
    "from fairness_multiverse.conformal import compute_nc_scores\n",
    "\n",
    "# Compute nonconformity scores on calibration set (1 - probability of true class)\n",
    "nc_scores = compute_nc_scores(probs_calib, y_calib)"
   ]
  },
  {
   "cell_type": "code",
   "execution_count": 40,
   "id": "df3b8ca3-53b7-43d5-9667-7c85da7aeda2",
   "metadata": {
    "execution": {
     "iopub.execute_input": "2025-08-05T16:04:32.606739Z",
     "iopub.status.busy": "2025-08-05T16:04:32.605904Z",
     "iopub.status.idle": "2025-08-05T16:04:32.613325Z",
     "shell.execute_reply": "2025-08-05T16:04:32.612380Z"
    },
    "papermill": {
     "duration": 0.040124,
     "end_time": "2025-08-05T16:04:32.626762",
     "exception": false,
     "start_time": "2025-08-05T16:04:32.586638",
     "status": "completed"
    },
    "tags": []
   },
   "outputs": [],
   "source": [
    "from fairness_multiverse.conformal import find_threshold\n",
    "\n",
    "# Find conformal threshold q_hat for the given alpha (split conformal method)\n",
    "q_hat = find_threshold(nc_scores, alpha)"
   ]
  },
  {
   "cell_type": "code",
   "execution_count": 41,
   "id": "4d29e6c1-0ef6-4aa4-b8fe-4fe79b0d033a",
   "metadata": {
    "execution": {
     "iopub.execute_input": "2025-08-05T16:04:32.664793Z",
     "iopub.status.busy": "2025-08-05T16:04:32.664103Z",
     "iopub.status.idle": "2025-08-05T16:04:32.672674Z",
     "shell.execute_reply": "2025-08-05T16:04:32.671660Z"
    },
    "papermill": {
     "duration": 0.029165,
     "end_time": "2025-08-05T16:04:32.674359",
     "exception": false,
     "start_time": "2025-08-05T16:04:32.645194",
     "status": "completed"
    },
    "tags": []
   },
   "outputs": [
    {
     "data": {
      "text/plain": [
       "0.6699999999999999"
      ]
     },
     "execution_count": 41,
     "metadata": {},
     "output_type": "execute_result"
    }
   ],
   "source": [
    "q_hat"
   ]
  },
  {
   "cell_type": "code",
   "execution_count": 42,
   "id": "92460794-cdac-4be2-ba28-f28c0515a6fb",
   "metadata": {
    "execution": {
     "iopub.execute_input": "2025-08-05T16:04:32.715133Z",
     "iopub.status.busy": "2025-08-05T16:04:32.714644Z",
     "iopub.status.idle": "2025-08-05T16:04:35.359014Z",
     "shell.execute_reply": "2025-08-05T16:04:35.357905Z"
    },
    "papermill": {
     "duration": 2.66692,
     "end_time": "2025-08-05T16:04:35.361165",
     "exception": false,
     "start_time": "2025-08-05T16:04:32.694245",
     "status": "completed"
    },
    "tags": []
   },
   "outputs": [],
   "source": [
    "from fairness_multiverse.conformal import predict_conformal_sets\n",
    "\n",
    "# Generate prediction sets for each test example\n",
    "pred_sets = predict_conformal_sets(model, X_test, q_hat)"
   ]
  },
  {
   "cell_type": "code",
   "execution_count": 43,
   "id": "d90c9a65-e6db-4f5d-80cd-e68fb7e46829",
   "metadata": {
    "execution": {
     "iopub.execute_input": "2025-08-05T16:04:35.413009Z",
     "iopub.status.busy": "2025-08-05T16:04:35.412289Z",
     "iopub.status.idle": "2025-08-05T16:04:35.418417Z",
     "shell.execute_reply": "2025-08-05T16:04:35.417361Z"
    },
    "papermill": {
     "duration": 0.033804,
     "end_time": "2025-08-05T16:04:35.420235",
     "exception": false,
     "start_time": "2025-08-05T16:04:35.386431",
     "status": "completed"
    },
    "tags": []
   },
   "outputs": [],
   "source": [
    "y_true = y_true.squeeze()"
   ]
  },
  {
   "cell_type": "code",
   "execution_count": 44,
   "id": "3a58a54a-1e68-46b9-927a-df01f18aebc8",
   "metadata": {
    "execution": {
     "iopub.execute_input": "2025-08-05T16:04:35.464932Z",
     "iopub.status.busy": "2025-08-05T16:04:35.463921Z",
     "iopub.status.idle": "2025-08-05T16:04:36.383987Z",
     "shell.execute_reply": "2025-08-05T16:04:36.383052Z"
    },
    "papermill": {
     "duration": 0.944165,
     "end_time": "2025-08-05T16:04:36.385845",
     "exception": false,
     "start_time": "2025-08-05T16:04:35.441680",
     "status": "completed"
    },
    "tags": []
   },
   "outputs": [],
   "source": [
    "from fairness_multiverse.conformal import evaluate_sets\n",
    "\n",
    "# Evaluate coverage and average set size on test data\n",
    "metrics = evaluate_sets(pred_sets, y_true)"
   ]
  },
  {
   "cell_type": "markdown",
   "id": "2b569c12-9aaa-4c88-98c9-bbcd0cf3ebb8",
   "metadata": {
    "papermill": {
     "duration": 0.020494,
     "end_time": "2025-08-05T16:04:36.427135",
     "exception": false,
     "start_time": "2025-08-05T16:04:36.406641",
     "status": "completed"
    },
    "tags": []
   },
   "source": [
    "# CP Metrics"
   ]
  },
  {
   "cell_type": "code",
   "execution_count": 45,
   "id": "5ce0a5cb-201f-45a0-ade5-94c7f0bd6095",
   "metadata": {
    "execution": {
     "iopub.execute_input": "2025-08-05T16:04:36.469409Z",
     "iopub.status.busy": "2025-08-05T16:04:36.468760Z",
     "iopub.status.idle": "2025-08-05T16:04:36.475778Z",
     "shell.execute_reply": "2025-08-05T16:04:36.474744Z"
    },
    "papermill": {
     "duration": 0.03051,
     "end_time": "2025-08-05T16:04:36.477492",
     "exception": false,
     "start_time": "2025-08-05T16:04:36.446982",
     "status": "completed"
    },
    "tags": []
   },
   "outputs": [
    {
     "data": {
      "text/plain": [
       "{'coverage': 0.912540407981273, 'avg_size': 1.1422472411102442}"
      ]
     },
     "execution_count": 45,
     "metadata": {},
     "output_type": "execute_result"
    }
   ],
   "source": [
    "metrics"
   ]
  },
  {
   "cell_type": "code",
   "execution_count": 46,
   "id": "9b9a838d-31c9-430b-ae14-12baee460d17",
   "metadata": {
    "execution": {
     "iopub.execute_input": "2025-08-05T16:04:36.521242Z",
     "iopub.status.busy": "2025-08-05T16:04:36.520804Z",
     "iopub.status.idle": "2025-08-05T16:04:36.526979Z",
     "shell.execute_reply": "2025-08-05T16:04:36.526048Z"
    },
    "papermill": {
     "duration": 0.029431,
     "end_time": "2025-08-05T16:04:36.528651",
     "exception": false,
     "start_time": "2025-08-05T16:04:36.499220",
     "status": "completed"
    },
    "tags": []
   },
   "outputs": [],
   "source": [
    "example_universe = universe.copy()\n",
    "universe_training_year = example_universe.get(\"training_year\")\n",
    "universe_training_size = example_universe.get(\"training_size\")\n",
    "universe_scale = example_universe.get(\"scale\")\n",
    "universe_model = example_universe.get(\"model\")\n",
    "universe_exclude_features = example_universe.get(\"exclude_features\")\n",
    "universe_exclude_subgroups = example_universe.get(\"exclude_subgroups\")"
   ]
  },
  {
   "cell_type": "code",
   "execution_count": 47,
   "id": "f4b6a8ac-9dc0-4245-8a91-5b3b5999c4f9",
   "metadata": {
    "execution": {
     "iopub.execute_input": "2025-08-05T16:04:36.572566Z",
     "iopub.status.busy": "2025-08-05T16:04:36.571688Z",
     "iopub.status.idle": "2025-08-05T16:04:36.578401Z",
     "shell.execute_reply": "2025-08-05T16:04:36.577339Z"
    },
    "papermill": {
     "duration": 0.030856,
     "end_time": "2025-08-05T16:04:36.580680",
     "exception": false,
     "start_time": "2025-08-05T16:04:36.549824",
     "status": "completed"
    },
    "tags": []
   },
   "outputs": [],
   "source": [
    "cp_metrics_dict = {\n",
    "    \"universe_id\": [universe_id],\n",
    "    \"universe_training_year\": [universe_training_year],\n",
    "    \"universe_training_size\": [universe_training_size],\n",
    "    \"universe_scale\": [universe_scale],\n",
    "    \"universe_model\": [universe_model],\n",
    "    \"universe_exclude_features\": [universe_exclude_features],\n",
    "    \"universe_exclude_subgroups\": [universe_exclude_subgroups],\n",
    "    \"q_hat\": [q_hat],\n",
    "    \"coverage\": [metrics[\"coverage\"]],\n",
    "    \"avg_size\": [metrics[\"avg_size\"]],\n",
    "}"
   ]
  },
  {
   "cell_type": "code",
   "execution_count": 48,
   "id": "908acbb1-0371-4915-85ca-3fa520d2efe2",
   "metadata": {
    "execution": {
     "iopub.execute_input": "2025-08-05T16:04:36.623971Z",
     "iopub.status.busy": "2025-08-05T16:04:36.623133Z",
     "iopub.status.idle": "2025-08-05T16:04:36.631318Z",
     "shell.execute_reply": "2025-08-05T16:04:36.630194Z"
    },
    "papermill": {
     "duration": 0.031087,
     "end_time": "2025-08-05T16:04:36.633078",
     "exception": false,
     "start_time": "2025-08-05T16:04:36.601991",
     "status": "completed"
    },
    "tags": []
   },
   "outputs": [
    {
     "data": {
      "text/plain": [
       "{'universe_id': ['e95ed2994b1b5ec918e7bcd050f0ad5f'],\n",
       " 'universe_training_year': ['2014'],\n",
       " 'universe_training_size': ['1k'],\n",
       " 'universe_scale': ['scale'],\n",
       " 'universe_model': ['rf'],\n",
       " 'universe_exclude_features': ['none'],\n",
       " 'universe_exclude_subgroups': ['keep-all'],\n",
       " 'q_hat': [0.6699999999999999],\n",
       " 'coverage': [0.912540407981273],\n",
       " 'avg_size': [1.1422472411102442]}"
      ]
     },
     "execution_count": 48,
     "metadata": {},
     "output_type": "execute_result"
    }
   ],
   "source": [
    "cp_metrics_dict"
   ]
  },
  {
   "cell_type": "code",
   "execution_count": 49,
   "id": "33007efc-14e9-4ec6-97ac-56a455c82265",
   "metadata": {
    "execution": {
     "iopub.execute_input": "2025-08-05T16:04:36.682930Z",
     "iopub.status.busy": "2025-08-05T16:04:36.682130Z",
     "iopub.status.idle": "2025-08-05T16:04:36.688944Z",
     "shell.execute_reply": "2025-08-05T16:04:36.687751Z"
    },
    "papermill": {
     "duration": 0.033637,
     "end_time": "2025-08-05T16:04:36.691343",
     "exception": false,
     "start_time": "2025-08-05T16:04:36.657706",
     "status": "completed"
    },
    "tags": []
   },
   "outputs": [],
   "source": [
    "cp_metrics_df = pd.DataFrame(cp_metrics_dict)"
   ]
  },
  {
   "cell_type": "code",
   "execution_count": 50,
   "id": "db12611b-57b2-4910-b9d0-355adfd6e7bf",
   "metadata": {
    "execution": {
     "iopub.execute_input": "2025-08-05T16:04:36.741426Z",
     "iopub.status.busy": "2025-08-05T16:04:36.740527Z",
     "iopub.status.idle": "2025-08-05T16:04:36.762939Z",
     "shell.execute_reply": "2025-08-05T16:04:36.760915Z"
    },
    "papermill": {
     "duration": 0.048765,
     "end_time": "2025-08-05T16:04:36.764667",
     "exception": false,
     "start_time": "2025-08-05T16:04:36.715902",
     "status": "completed"
    },
    "tags": []
   },
   "outputs": [
    {
     "data": {
      "text/html": [
       "<div>\n",
       "<style scoped>\n",
       "    .dataframe tbody tr th:only-of-type {\n",
       "        vertical-align: middle;\n",
       "    }\n",
       "\n",
       "    .dataframe tbody tr th {\n",
       "        vertical-align: top;\n",
       "    }\n",
       "\n",
       "    .dataframe thead th {\n",
       "        text-align: right;\n",
       "    }\n",
       "</style>\n",
       "<table border=\"1\" class=\"dataframe\">\n",
       "  <thead>\n",
       "    <tr style=\"text-align: right;\">\n",
       "      <th></th>\n",
       "      <th>universe_id</th>\n",
       "      <th>universe_training_year</th>\n",
       "      <th>universe_training_size</th>\n",
       "      <th>universe_scale</th>\n",
       "      <th>universe_model</th>\n",
       "      <th>universe_exclude_features</th>\n",
       "      <th>universe_exclude_subgroups</th>\n",
       "      <th>q_hat</th>\n",
       "      <th>coverage</th>\n",
       "      <th>avg_size</th>\n",
       "    </tr>\n",
       "  </thead>\n",
       "  <tbody>\n",
       "    <tr>\n",
       "      <th>0</th>\n",
       "      <td>e95ed2994b1b5ec918e7bcd050f0ad5f</td>\n",
       "      <td>2014</td>\n",
       "      <td>1k</td>\n",
       "      <td>scale</td>\n",
       "      <td>rf</td>\n",
       "      <td>none</td>\n",
       "      <td>keep-all</td>\n",
       "      <td>0.67</td>\n",
       "      <td>0.91254</td>\n",
       "      <td>1.142247</td>\n",
       "    </tr>\n",
       "  </tbody>\n",
       "</table>\n",
       "</div>"
      ],
      "text/plain": [
       "                        universe_id universe_training_year  \\\n",
       "0  e95ed2994b1b5ec918e7bcd050f0ad5f                   2014   \n",
       "\n",
       "  universe_training_size universe_scale universe_model  \\\n",
       "0                     1k          scale             rf   \n",
       "\n",
       "  universe_exclude_features universe_exclude_subgroups  q_hat  coverage  \\\n",
       "0                      none                   keep-all   0.67   0.91254   \n",
       "\n",
       "   avg_size  \n",
       "0  1.142247  "
      ]
     },
     "execution_count": 50,
     "metadata": {},
     "output_type": "execute_result"
    }
   ],
   "source": [
    "cp_metrics_df"
   ]
  },
  {
   "cell_type": "code",
   "execution_count": 51,
   "id": "b7fbde55-a0a1-47e4-9af6-fe4a17fa8c61",
   "metadata": {
    "execution": {
     "iopub.execute_input": "2025-08-05T16:04:36.789594Z",
     "iopub.status.busy": "2025-08-05T16:04:36.789061Z",
     "iopub.status.idle": "2025-08-05T16:04:36.794025Z",
     "shell.execute_reply": "2025-08-05T16:04:36.792834Z"
    },
    "papermill": {
     "duration": 0.018683,
     "end_time": "2025-08-05T16:04:36.795838",
     "exception": false,
     "start_time": "2025-08-05T16:04:36.777155",
     "status": "completed"
    },
    "tags": []
   },
   "outputs": [],
   "source": [
    "# Conditional Coverage & looking at subgroups"
   ]
  },
  {
   "cell_type": "code",
   "execution_count": 52,
   "id": "027ae886-68dd-4141-96c7-805a5450e1ef",
   "metadata": {
    "execution": {
     "iopub.execute_input": "2025-08-05T16:04:36.841780Z",
     "iopub.status.busy": "2025-08-05T16:04:36.841019Z",
     "iopub.status.idle": "2025-08-05T16:04:37.061908Z",
     "shell.execute_reply": "2025-08-05T16:04:37.060873Z"
    },
    "papermill": {
     "duration": 0.245152,
     "end_time": "2025-08-05T16:04:37.063752",
     "exception": false,
     "start_time": "2025-08-05T16:04:36.818600",
     "status": "completed"
    },
    "tags": []
   },
   "outputs": [],
   "source": [
    "from fairness_multiverse.conformal import build_cp_groups\n",
    "\n",
    "cp_groups_df = build_cp_groups(pred_sets, y_true, X_test.index, org_test)\n",
    "#needs universe_id and setting"
   ]
  },
  {
   "cell_type": "code",
   "execution_count": 53,
   "id": "6cbdab96-b2b2-45af-ad54-d0516db2e28d",
   "metadata": {
    "execution": {
     "iopub.execute_input": "2025-08-05T16:04:37.108948Z",
     "iopub.status.busy": "2025-08-05T16:04:37.108088Z",
     "iopub.status.idle": "2025-08-05T16:04:38.431571Z",
     "shell.execute_reply": "2025-08-05T16:04:38.430762Z"
    },
    "papermill": {
     "duration": 1.348646,
     "end_time": "2025-08-05T16:04:38.433135",
     "exception": false,
     "start_time": "2025-08-05T16:04:37.084489",
     "status": "completed"
    },
    "tags": []
   },
   "outputs": [],
   "source": [
    "# Define covered = 1 if true_label is in the predicted set\n",
    "cp_groups_df['covered'] = cp_groups_df.apply(\n",
    "    lambda r: int(r['true_label'] in r['pred_set']),\n",
    "    axis=1\n",
    ")"
   ]
  },
  {
   "cell_type": "code",
   "execution_count": 54,
   "id": "338ff529-1a6b-4b87-a931-8e4788d52aad",
   "metadata": {
    "execution": {
     "iopub.execute_input": "2025-08-05T16:04:38.457225Z",
     "iopub.status.busy": "2025-08-05T16:04:38.456913Z",
     "iopub.status.idle": "2025-08-05T16:04:38.461323Z",
     "shell.execute_reply": "2025-08-05T16:04:38.460362Z"
    },
    "papermill": {
     "duration": 0.0178,
     "end_time": "2025-08-05T16:04:38.462782",
     "exception": false,
     "start_time": "2025-08-05T16:04:38.444982",
     "status": "completed"
    },
    "tags": []
   },
   "outputs": [],
   "source": [
    "#cp_groups_df"
   ]
  },
  {
   "cell_type": "code",
   "execution_count": 55,
   "id": "90032e27-66df-4540-9169-4e89cfbaa758",
   "metadata": {
    "execution": {
     "iopub.execute_input": "2025-08-05T16:04:38.487193Z",
     "iopub.status.busy": "2025-08-05T16:04:38.486693Z",
     "iopub.status.idle": "2025-08-05T16:04:38.495730Z",
     "shell.execute_reply": "2025-08-05T16:04:38.494994Z"
    },
    "papermill": {
     "duration": 0.021811,
     "end_time": "2025-08-05T16:04:38.497106",
     "exception": false,
     "start_time": "2025-08-05T16:04:38.475295",
     "status": "completed"
    },
    "tags": []
   },
   "outputs": [],
   "source": [
    "subgroups = ['frau1','nongerman','nongerman_male','nongerman_female']\n",
    "\n",
    "# Conditional coverage for subgroup==1\n",
    "cond_coverage = {\n",
    "    g: cp_groups_df.loc[cp_groups_df[g]==1, 'covered'].mean()\n",
    "    for g in subgroups\n",
    "}"
   ]
  },
  {
   "cell_type": "code",
   "execution_count": 56,
   "id": "1e348fb1-b9c3-45bc-ba23-f016827a7e0d",
   "metadata": {
    "execution": {
     "iopub.execute_input": "2025-08-05T16:04:38.521293Z",
     "iopub.status.busy": "2025-08-05T16:04:38.520534Z",
     "iopub.status.idle": "2025-08-05T16:04:38.526826Z",
     "shell.execute_reply": "2025-08-05T16:04:38.526016Z"
    },
    "papermill": {
     "duration": 0.019778,
     "end_time": "2025-08-05T16:04:38.528245",
     "exception": false,
     "start_time": "2025-08-05T16:04:38.508467",
     "status": "completed"
    },
    "tags": []
   },
   "outputs": [
    {
     "data": {
      "text/plain": [
       "{'frau1': 0.9075886238037472,\n",
       " 'nongerman': 0.9084937966653568,\n",
       " 'nongerman_male': 0.9256957579032694,\n",
       " 'nongerman_female': 0.8800298062593145}"
      ]
     },
     "execution_count": 56,
     "metadata": {},
     "output_type": "execute_result"
    }
   ],
   "source": [
    "cond_coverage"
   ]
  },
  {
   "cell_type": "code",
   "execution_count": 57,
   "id": "f5093324-c3dd-4d63-bc4c-8d945e5c8bbb",
   "metadata": {
    "execution": {
     "iopub.execute_input": "2025-08-05T16:04:38.553374Z",
     "iopub.status.busy": "2025-08-05T16:04:38.552808Z",
     "iopub.status.idle": "2025-08-05T16:04:38.559314Z",
     "shell.execute_reply": "2025-08-05T16:04:38.558476Z"
    },
    "papermill": {
     "duration": 0.020575,
     "end_time": "2025-08-05T16:04:38.560826",
     "exception": false,
     "start_time": "2025-08-05T16:04:38.540251",
     "status": "completed"
    },
    "tags": []
   },
   "outputs": [],
   "source": [
    "for subgroup, cov in cond_coverage.items():\n",
    "    cp_metrics_df[f\"cov_{subgroup}\"] = cov"
   ]
  },
  {
   "cell_type": "code",
   "execution_count": 58,
   "id": "6e872e10-dbe5-49e8-b554-5030c98ff75d",
   "metadata": {
    "execution": {
     "iopub.execute_input": "2025-08-05T16:04:38.585680Z",
     "iopub.status.busy": "2025-08-05T16:04:38.585178Z",
     "iopub.status.idle": "2025-08-05T16:04:38.600249Z",
     "shell.execute_reply": "2025-08-05T16:04:38.599200Z"
    },
    "papermill": {
     "duration": 0.028998,
     "end_time": "2025-08-05T16:04:38.601855",
     "exception": false,
     "start_time": "2025-08-05T16:04:38.572857",
     "status": "completed"
    },
    "tags": []
   },
   "outputs": [
    {
     "data": {
      "text/html": [
       "<div>\n",
       "<style scoped>\n",
       "    .dataframe tbody tr th:only-of-type {\n",
       "        vertical-align: middle;\n",
       "    }\n",
       "\n",
       "    .dataframe tbody tr th {\n",
       "        vertical-align: top;\n",
       "    }\n",
       "\n",
       "    .dataframe thead th {\n",
       "        text-align: right;\n",
       "    }\n",
       "</style>\n",
       "<table border=\"1\" class=\"dataframe\">\n",
       "  <thead>\n",
       "    <tr style=\"text-align: right;\">\n",
       "      <th></th>\n",
       "      <th>universe_id</th>\n",
       "      <th>universe_training_year</th>\n",
       "      <th>universe_training_size</th>\n",
       "      <th>universe_scale</th>\n",
       "      <th>universe_model</th>\n",
       "      <th>universe_exclude_features</th>\n",
       "      <th>universe_exclude_subgroups</th>\n",
       "      <th>q_hat</th>\n",
       "      <th>coverage</th>\n",
       "      <th>avg_size</th>\n",
       "      <th>cov_frau1</th>\n",
       "      <th>cov_nongerman</th>\n",
       "      <th>cov_nongerman_male</th>\n",
       "      <th>cov_nongerman_female</th>\n",
       "    </tr>\n",
       "  </thead>\n",
       "  <tbody>\n",
       "    <tr>\n",
       "      <th>0</th>\n",
       "      <td>e95ed2994b1b5ec918e7bcd050f0ad5f</td>\n",
       "      <td>2014</td>\n",
       "      <td>1k</td>\n",
       "      <td>scale</td>\n",
       "      <td>rf</td>\n",
       "      <td>none</td>\n",
       "      <td>keep-all</td>\n",
       "      <td>0.67</td>\n",
       "      <td>0.91254</td>\n",
       "      <td>1.142247</td>\n",
       "      <td>0.907589</td>\n",
       "      <td>0.908494</td>\n",
       "      <td>0.925696</td>\n",
       "      <td>0.88003</td>\n",
       "    </tr>\n",
       "  </tbody>\n",
       "</table>\n",
       "</div>"
      ],
      "text/plain": [
       "                        universe_id universe_training_year  \\\n",
       "0  e95ed2994b1b5ec918e7bcd050f0ad5f                   2014   \n",
       "\n",
       "  universe_training_size universe_scale universe_model  \\\n",
       "0                     1k          scale             rf   \n",
       "\n",
       "  universe_exclude_features universe_exclude_subgroups  q_hat  coverage  \\\n",
       "0                      none                   keep-all   0.67   0.91254   \n",
       "\n",
       "   avg_size  cov_frau1  cov_nongerman  cov_nongerman_male  \\\n",
       "0  1.142247   0.907589       0.908494            0.925696   \n",
       "\n",
       "   cov_nongerman_female  \n",
       "0               0.88003  "
      ]
     },
     "execution_count": 58,
     "metadata": {},
     "output_type": "execute_result"
    }
   ],
   "source": [
    "cp_metrics_df"
   ]
  },
  {
   "cell_type": "markdown",
   "id": "33774451",
   "metadata": {
    "papermill": {
     "duration": 0.011528,
     "end_time": "2025-08-05T16:04:38.626463",
     "exception": false,
     "start_time": "2025-08-05T16:04:38.614935",
     "status": "completed"
    },
    "tags": []
   },
   "source": [
    "# (Fairness) Metrics"
   ]
  },
  {
   "cell_type": "code",
   "execution_count": 59,
   "id": "debc5d62",
   "metadata": {
    "execution": {
     "iopub.execute_input": "2025-08-05T16:04:38.651730Z",
     "iopub.status.busy": "2025-08-05T16:04:38.650950Z",
     "iopub.status.idle": "2025-08-05T16:04:38.666041Z",
     "shell.execute_reply": "2025-08-05T16:04:38.665194Z"
    },
    "papermill": {
     "duration": 0.029767,
     "end_time": "2025-08-05T16:04:38.667650",
     "exception": false,
     "start_time": "2025-08-05T16:04:38.637883",
     "status": "completed"
    },
    "tags": []
   },
   "outputs": [],
   "source": [
    "# do I need to include maxdeutsch1.missing?\n",
    "\n",
    "import numpy as np\n",
    "\n",
    "colname_to_bin = \"maxdeutsch1\"\n",
    "majority_value = org_train[colname_to_bin].mode()[0]\n",
    "\n",
    "org_test[\"majmin\"] = np.where(org_test[colname_to_bin] == majority_value, \"majority\", \"minority\")"
   ]
  },
  {
   "cell_type": "code",
   "execution_count": 60,
   "id": "06a50de5",
   "metadata": {
    "execution": {
     "iopub.execute_input": "2025-08-05T16:04:38.692767Z",
     "iopub.status.busy": "2025-08-05T16:04:38.692253Z",
     "iopub.status.idle": "2025-08-05T16:04:40.230499Z",
     "shell.execute_reply": "2025-08-05T16:04:40.229655Z"
    },
    "papermill": {
     "duration": 1.552299,
     "end_time": "2025-08-05T16:04:40.232018",
     "exception": false,
     "start_time": "2025-08-05T16:04:38.679719",
     "status": "completed"
    },
    "tags": []
   },
   "outputs": [],
   "source": [
    "example_universe = universe.copy()\n",
    "example_universe[\"cutoff\"] = example_universe[\"cutoff\"][0]\n",
    "example_universe[\"eval_fairness_grouping\"] = example_universe[\"eval_fairness_grouping\"][0]\n",
    "fairness_dict, metric_frame = universe_analysis.compute_metrics(\n",
    "    example_universe,\n",
    "    y_pred_prob=probs_test,\n",
    "    y_test=y_true,\n",
    "    org_test=org_test,\n",
    ")"
   ]
  },
  {
   "cell_type": "markdown",
   "id": "f95d4e02",
   "metadata": {
    "papermill": {
     "duration": 0.011882,
     "end_time": "2025-08-05T16:04:40.256304",
     "exception": false,
     "start_time": "2025-08-05T16:04:40.244422",
     "status": "completed"
    },
    "tags": []
   },
   "source": [
    "# Overall"
   ]
  },
  {
   "cell_type": "markdown",
   "id": "bdee4871",
   "metadata": {
    "papermill": {
     "duration": 0.011993,
     "end_time": "2025-08-05T16:04:40.280200",
     "exception": false,
     "start_time": "2025-08-05T16:04:40.268207",
     "status": "completed"
    },
    "tags": []
   },
   "source": [
    "Fairness\n",
    "Main fairness target: Equalized Odds. Seems to be a better fit than equal opportunity, since we're not only interested in Y = 1. Seems to be a better fit than demographic parity, since we also care about accuracy, not just equal distribution of preds.\n",
    "\n",
    "Pick column for computation of fairness metrics\n",
    "\n",
    "Performance\n",
    "Overall performance measures, most interesting in relation to the measures split by group below"
   ]
  },
  {
   "cell_type": "code",
   "execution_count": 61,
   "id": "c4e067c6",
   "metadata": {
    "execution": {
     "iopub.execute_input": "2025-08-05T16:04:40.305271Z",
     "iopub.status.busy": "2025-08-05T16:04:40.304481Z",
     "iopub.status.idle": "2025-08-05T16:04:40.312324Z",
     "shell.execute_reply": "2025-08-05T16:04:40.311443Z"
    },
    "papermill": {
     "duration": 0.021932,
     "end_time": "2025-08-05T16:04:40.313919",
     "exception": false,
     "start_time": "2025-08-05T16:04:40.291987",
     "status": "completed"
    },
    "tags": []
   },
   "outputs": [
    {
     "data": {
      "text/plain": [
       "accuracy                   0.205261\n",
       "balanced accuracy          0.530964\n",
       "f1                         0.238291\n",
       "precision                  0.135848\n",
       "false positive rate        0.907138\n",
       "false negative rate        0.030935\n",
       "selection rate             0.915082\n",
       "count                  89710.000000\n",
       "dtype: float64"
      ]
     },
     "execution_count": 61,
     "metadata": {},
     "output_type": "execute_result"
    }
   ],
   "source": [
    "metric_frame.overall"
   ]
  },
  {
   "cell_type": "markdown",
   "id": "e968fe9d",
   "metadata": {
    "papermill": {
     "duration": 0.012084,
     "end_time": "2025-08-05T16:04:40.339479",
     "exception": false,
     "start_time": "2025-08-05T16:04:40.327395",
     "status": "completed"
    },
    "tags": []
   },
   "source": [
    "By Group"
   ]
  },
  {
   "cell_type": "code",
   "execution_count": 62,
   "id": "ec325bce",
   "metadata": {
    "execution": {
     "iopub.execute_input": "2025-08-05T16:04:40.364453Z",
     "iopub.status.busy": "2025-08-05T16:04:40.364072Z",
     "iopub.status.idle": "2025-08-05T16:04:40.376988Z",
     "shell.execute_reply": "2025-08-05T16:04:40.376007Z"
    },
    "papermill": {
     "duration": 0.027417,
     "end_time": "2025-08-05T16:04:40.378563",
     "exception": false,
     "start_time": "2025-08-05T16:04:40.351146",
     "status": "completed"
    },
    "tags": []
   },
   "outputs": [
    {
     "data": {
      "text/html": [
       "<div>\n",
       "<style scoped>\n",
       "    .dataframe tbody tr th:only-of-type {\n",
       "        vertical-align: middle;\n",
       "    }\n",
       "\n",
       "    .dataframe tbody tr th {\n",
       "        vertical-align: top;\n",
       "    }\n",
       "\n",
       "    .dataframe thead th {\n",
       "        text-align: right;\n",
       "    }\n",
       "</style>\n",
       "<table border=\"1\" class=\"dataframe\">\n",
       "  <thead>\n",
       "    <tr style=\"text-align: right;\">\n",
       "      <th></th>\n",
       "      <th>accuracy</th>\n",
       "      <th>balanced accuracy</th>\n",
       "      <th>f1</th>\n",
       "      <th>precision</th>\n",
       "      <th>false positive rate</th>\n",
       "      <th>false negative rate</th>\n",
       "      <th>selection rate</th>\n",
       "      <th>count</th>\n",
       "    </tr>\n",
       "    <tr>\n",
       "      <th>majmin</th>\n",
       "      <th></th>\n",
       "      <th></th>\n",
       "      <th></th>\n",
       "      <th></th>\n",
       "      <th></th>\n",
       "      <th></th>\n",
       "      <th></th>\n",
       "      <th></th>\n",
       "    </tr>\n",
       "  </thead>\n",
       "  <tbody>\n",
       "    <tr>\n",
       "      <th>majority</th>\n",
       "      <td>0.198930</td>\n",
       "      <td>0.533426</td>\n",
       "      <td>0.245835</td>\n",
       "      <td>0.140381</td>\n",
       "      <td>0.921223</td>\n",
       "      <td>0.011926</td>\n",
       "      <td>0.930056</td>\n",
       "      <td>69170.0</td>\n",
       "    </tr>\n",
       "    <tr>\n",
       "      <th>minority</th>\n",
       "      <td>0.226582</td>\n",
       "      <td>0.517541</td>\n",
       "      <td>0.210751</td>\n",
       "      <td>0.119426</td>\n",
       "      <td>0.860610</td>\n",
       "      <td>0.104307</td>\n",
       "      <td>0.864654</td>\n",
       "      <td>20540.0</td>\n",
       "    </tr>\n",
       "  </tbody>\n",
       "</table>\n",
       "</div>"
      ],
      "text/plain": [
       "          accuracy  balanced accuracy        f1  precision  \\\n",
       "majmin                                                       \n",
       "majority  0.198930           0.533426  0.245835   0.140381   \n",
       "minority  0.226582           0.517541  0.210751   0.119426   \n",
       "\n",
       "          false positive rate  false negative rate  selection rate    count  \n",
       "majmin                                                                       \n",
       "majority             0.921223             0.011926        0.930056  69170.0  \n",
       "minority             0.860610             0.104307        0.864654  20540.0  "
      ]
     },
     "execution_count": 62,
     "metadata": {},
     "output_type": "execute_result"
    }
   ],
   "source": [
    "metric_frame.by_group"
   ]
  },
  {
   "cell_type": "code",
   "execution_count": 63,
   "id": "a9ddbe63",
   "metadata": {
    "execution": {
     "iopub.execute_input": "2025-08-05T16:04:40.405411Z",
     "iopub.status.busy": "2025-08-05T16:04:40.404712Z",
     "iopub.status.idle": "2025-08-05T16:04:42.135077Z",
     "shell.execute_reply": "2025-08-05T16:04:42.132199Z"
    },
    "papermill": {
     "duration": 1.746015,
     "end_time": "2025-08-05T16:04:42.137240",
     "exception": false,
     "start_time": "2025-08-05T16:04:40.391225",
     "status": "completed"
    },
    "tags": []
   },
   "outputs": [
    {
     "data": {
      "text/plain": [
       "array([[<Axes: title={'center': 'accuracy'}, xlabel='majmin'>,\n",
       "        <Axes: title={'center': 'balanced accuracy'}, xlabel='majmin'>,\n",
       "        <Axes: title={'center': 'f1'}, xlabel='majmin'>],\n",
       "       [<Axes: title={'center': 'precision'}, xlabel='majmin'>,\n",
       "        <Axes: title={'center': 'false positive rate'}, xlabel='majmin'>,\n",
       "        <Axes: title={'center': 'false negative rate'}, xlabel='majmin'>],\n",
       "       [<Axes: title={'center': 'selection rate'}, xlabel='majmin'>,\n",
       "        <Axes: title={'center': 'count'}, xlabel='majmin'>,\n",
       "        <Axes: xlabel='majmin'>]], dtype=object)"
      ]
     },
     "execution_count": 63,
     "metadata": {},
     "output_type": "execute_result"
    },
    {
     "data": {
      "image/png": "[encoded data removed]",
      "text/plain": [
       "<Figure size 1200x800 with 9 Axes>"
      ]
     },
     "metadata": {},
     "output_type": "display_data"
    }
   ],
   "source": [
    "# In a graphic\n",
    "metric_frame.by_group.plot.bar(\n",
    "    subplots=True,\n",
    "    layout=[3, 3],\n",
    "    legend=False,\n",
    "    figsize=[12, 8],\n",
    "    title=\"Show all metrics\",\n",
    ")"
   ]
  },
  {
   "cell_type": "markdown",
   "id": "f57a0bac",
   "metadata": {
    "papermill": {
     "duration": 0.029561,
     "end_time": "2025-08-05T16:04:42.200717",
     "exception": false,
     "start_time": "2025-08-05T16:04:42.171156",
     "status": "completed"
    },
    "tags": []
   },
   "source": [
    "# Final Output"
   ]
  },
  {
   "cell_type": "code",
   "execution_count": 64,
   "id": "96d280a3",
   "metadata": {
    "execution": {
     "iopub.execute_input": "2025-08-05T16:04:42.252776Z",
     "iopub.status.busy": "2025-08-05T16:04:42.251817Z",
     "iopub.status.idle": "2025-08-05T16:04:42.262513Z",
     "shell.execute_reply": "2025-08-05T16:04:42.261293Z"
    },
    "papermill": {
     "duration": 0.038164,
     "end_time": "2025-08-05T16:04:42.264250",
     "exception": false,
     "start_time": "2025-08-05T16:04:42.226086",
     "status": "completed"
    },
    "tags": []
   },
   "outputs": [
    {
     "data": {
      "text/plain": [
       "4"
      ]
     },
     "execution_count": 64,
     "metadata": {},
     "output_type": "execute_result"
    }
   ],
   "source": [
    "sub_universes = universe_analysis.generate_sub_universes()\n",
    "len(sub_universes)"
   ]
  },
  {
   "cell_type": "code",
   "execution_count": 65,
   "id": "92adf7ba",
   "metadata": {
    "execution": {
     "iopub.execute_input": "2025-08-05T16:04:42.316234Z",
     "iopub.status.busy": "2025-08-05T16:04:42.315280Z",
     "iopub.status.idle": "2025-08-05T16:04:42.323087Z",
     "shell.execute_reply": "2025-08-05T16:04:42.321860Z"
    },
    "papermill": {
     "duration": 0.036646,
     "end_time": "2025-08-05T16:04:42.325008",
     "exception": false,
     "start_time": "2025-08-05T16:04:42.288362",
     "status": "completed"
    },
    "tags": []
   },
   "outputs": [],
   "source": [
    "def filter_sub_universe_data(sub_universe, org_test):\n",
    "    # Keep all rows — no filtering\n",
    "    keep_rows_mask = np.ones(org_test.shape[0], dtype=bool)\n",
    "\n",
    "    print(f\"[INFO] Keeping all rows: {keep_rows_mask.sum()} rows retained.\")\n",
    "    return keep_rows_mask"
   ]
  },
  {
   "cell_type": "code",
   "execution_count": 66,
   "id": "4a759155",
   "metadata": {
    "execution": {
     "iopub.execute_input": "2025-08-05T16:04:42.376230Z",
     "iopub.status.busy": "2025-08-05T16:04:42.375322Z",
     "iopub.status.idle": "2025-08-05T16:04:49.661489Z",
     "shell.execute_reply": "2025-08-05T16:04:49.660625Z"
    },
    "papermill": {
     "duration": 7.312702,
     "end_time": "2025-08-05T16:04:49.662923",
     "exception": false,
     "start_time": "2025-08-05T16:04:42.350221",
     "status": "completed"
    },
    "tags": []
   },
   "outputs": [
    {
     "name": "stdout",
     "output_type": "stream",
     "text": [
      "Stopping execution_time clock.\n",
      "[INFO] Keeping all rows: 89710 rows retained.\n"
     ]
    },
    {
     "name": "stdout",
     "output_type": "stream",
     "text": [
      "[INFO] Keeping all rows: 89710 rows retained.\n"
     ]
    },
    {
     "name": "stdout",
     "output_type": "stream",
     "text": [
      "[INFO] Keeping all rows: 89710 rows retained.\n"
     ]
    },
    {
     "name": "stdout",
     "output_type": "stream",
     "text": [
      "[INFO] Keeping all rows: 89710 rows retained.\n"
     ]
    },
    {
     "data": {
      "text/html": [
       "<div>\n",
       "<style scoped>\n",
       "    .dataframe tbody tr th:only-of-type {\n",
       "        vertical-align: middle;\n",
       "    }\n",
       "\n",
       "    .dataframe tbody tr th {\n",
       "        vertical-align: top;\n",
       "    }\n",
       "\n",
       "    .dataframe thead th {\n",
       "        text-align: right;\n",
       "    }\n",
       "</style>\n",
       "<table border=\"1\" class=\"dataframe\">\n",
       "  <thead>\n",
       "    <tr style=\"text-align: right;\">\n",
       "      <th></th>\n",
       "      <th>run_no</th>\n",
       "      <th>universe_id</th>\n",
       "      <th>universe_settings</th>\n",
       "      <th>execution_time</th>\n",
       "      <th>test_size_n</th>\n",
       "      <th>test_size_frac</th>\n",
       "      <th>fair_main_equalized_odds_difference</th>\n",
       "      <th>fair_main_equalized_odds_ratio</th>\n",
       "      <th>fair_main_demographic_parity_difference</th>\n",
       "      <th>fair_main_demographic_parity_ratio</th>\n",
       "      <th>...</th>\n",
       "      <th>perf_grp_precision_0</th>\n",
       "      <th>perf_grp_precision_1</th>\n",
       "      <th>perf_grp_false positive rate_0</th>\n",
       "      <th>perf_grp_false positive rate_1</th>\n",
       "      <th>perf_grp_false negative rate_0</th>\n",
       "      <th>perf_grp_false negative rate_1</th>\n",
       "      <th>perf_grp_selection rate_0</th>\n",
       "      <th>perf_grp_selection rate_1</th>\n",
       "      <th>perf_grp_count_0</th>\n",
       "      <th>perf_grp_count_1</th>\n",
       "    </tr>\n",
       "  </thead>\n",
       "  <tbody>\n",
       "    <tr>\n",
       "      <th>0</th>\n",
       "      <td>15</td>\n",
       "      <td>e95ed2994b1b5ec918e7bcd050f0ad5f</td>\n",
       "      <td>{\"cutoff\": \"quantile_0.1\", \"eval_fairness_grou...</td>\n",
       "      <td>30.829324</td>\n",
       "      <td>89710</td>\n",
       "      <td>1.0</td>\n",
       "      <td>0.092382</td>\n",
       "      <td>0.906503</td>\n",
       "      <td>0.065402</td>\n",
       "      <td>0.929679</td>\n",
       "      <td>...</td>\n",
       "      <td>NaN</td>\n",
       "      <td>NaN</td>\n",
       "      <td>NaN</td>\n",
       "      <td>NaN</td>\n",
       "      <td>NaN</td>\n",
       "      <td>NaN</td>\n",
       "      <td>NaN</td>\n",
       "      <td>NaN</td>\n",
       "      <td>NaN</td>\n",
       "      <td>NaN</td>\n",
       "    </tr>\n",
       "    <tr>\n",
       "      <th>0</th>\n",
       "      <td>15</td>\n",
       "      <td>e95ed2994b1b5ec918e7bcd050f0ad5f</td>\n",
       "      <td>{\"cutoff\": \"quantile_0.1\", \"eval_fairness_grou...</td>\n",
       "      <td>30.829324</td>\n",
       "      <td>89710</td>\n",
       "      <td>1.0</td>\n",
       "      <td>0.092382</td>\n",
       "      <td>0.906503</td>\n",
       "      <td>0.065402</td>\n",
       "      <td>0.929679</td>\n",
       "      <td>...</td>\n",
       "      <td>0.119426</td>\n",
       "      <td>0.140381</td>\n",
       "      <td>0.860610</td>\n",
       "      <td>0.921223</td>\n",
       "      <td>0.104307</td>\n",
       "      <td>0.011926</td>\n",
       "      <td>0.864654</td>\n",
       "      <td>0.930056</td>\n",
       "      <td>20540.0</td>\n",
       "      <td>69170.0</td>\n",
       "    </tr>\n",
       "    <tr>\n",
       "      <th>0</th>\n",
       "      <td>15</td>\n",
       "      <td>e95ed2994b1b5ec918e7bcd050f0ad5f</td>\n",
       "      <td>{\"cutoff\": \"quantile_0.25\", \"eval_fairness_gro...</td>\n",
       "      <td>30.829324</td>\n",
       "      <td>89710</td>\n",
       "      <td>1.0</td>\n",
       "      <td>0.116890</td>\n",
       "      <td>0.876087</td>\n",
       "      <td>0.053950</td>\n",
       "      <td>0.930104</td>\n",
       "      <td>...</td>\n",
       "      <td>NaN</td>\n",
       "      <td>NaN</td>\n",
       "      <td>NaN</td>\n",
       "      <td>NaN</td>\n",
       "      <td>NaN</td>\n",
       "      <td>NaN</td>\n",
       "      <td>NaN</td>\n",
       "      <td>NaN</td>\n",
       "      <td>NaN</td>\n",
       "      <td>NaN</td>\n",
       "    </tr>\n",
       "    <tr>\n",
       "      <th>0</th>\n",
       "      <td>15</td>\n",
       "      <td>e95ed2994b1b5ec918e7bcd050f0ad5f</td>\n",
       "      <td>{\"cutoff\": \"quantile_0.25\", \"eval_fairness_gro...</td>\n",
       "      <td>30.829324</td>\n",
       "      <td>89710</td>\n",
       "      <td>1.0</td>\n",
       "      <td>0.116890</td>\n",
       "      <td>0.876087</td>\n",
       "      <td>0.053950</td>\n",
       "      <td>0.930104</td>\n",
       "      <td>...</td>\n",
       "      <td>0.132714</td>\n",
       "      <td>0.161491</td>\n",
       "      <td>0.703775</td>\n",
       "      <td>0.745760</td>\n",
       "      <td>0.173564</td>\n",
       "      <td>0.056674</td>\n",
       "      <td>0.717916</td>\n",
       "      <td>0.771866</td>\n",
       "      <td>20540.0</td>\n",
       "      <td>69170.0</td>\n",
       "    </tr>\n",
       "  </tbody>\n",
       "</table>\n",
       "<p>4 rows × 50 columns</p>\n",
       "</div>"
      ],
      "text/plain": [
       "  run_no                       universe_id  \\\n",
       "0     15  e95ed2994b1b5ec918e7bcd050f0ad5f   \n",
       "0     15  e95ed2994b1b5ec918e7bcd050f0ad5f   \n",
       "0     15  e95ed2994b1b5ec918e7bcd050f0ad5f   \n",
       "0     15  e95ed2994b1b5ec918e7bcd050f0ad5f   \n",
       "\n",
       "                                   universe_settings  execution_time  \\\n",
       "0  {\"cutoff\": \"quantile_0.1\", \"eval_fairness_grou...       30.829324   \n",
       "0  {\"cutoff\": \"quantile_0.1\", \"eval_fairness_grou...       30.829324   \n",
       "0  {\"cutoff\": \"quantile_0.25\", \"eval_fairness_gro...       30.829324   \n",
       "0  {\"cutoff\": \"quantile_0.25\", \"eval_fairness_gro...       30.829324   \n",
       "\n",
       "   test_size_n  test_size_frac  fair_main_equalized_odds_difference  \\\n",
       "0        89710             1.0                             0.092382   \n",
       "0        89710             1.0                             0.092382   \n",
       "0        89710             1.0                             0.116890   \n",
       "0        89710             1.0                             0.116890   \n",
       "\n",
       "   fair_main_equalized_odds_ratio  fair_main_demographic_parity_difference  \\\n",
       "0                        0.906503                                 0.065402   \n",
       "0                        0.906503                                 0.065402   \n",
       "0                        0.876087                                 0.053950   \n",
       "0                        0.876087                                 0.053950   \n",
       "\n",
       "   fair_main_demographic_parity_ratio  ...  perf_grp_precision_0  \\\n",
       "0                            0.929679  ...                   NaN   \n",
       "0                            0.929679  ...              0.119426   \n",
       "0                            0.930104  ...                   NaN   \n",
       "0                            0.930104  ...              0.132714   \n",
       "\n",
       "   perf_grp_precision_1  perf_grp_false positive rate_0  \\\n",
       "0                   NaN                             NaN   \n",
       "0              0.140381                        0.860610   \n",
       "0                   NaN                             NaN   \n",
       "0              0.161491                        0.703775   \n",
       "\n",
       "   perf_grp_false positive rate_1  perf_grp_false negative rate_0  \\\n",
       "0                             NaN                             NaN   \n",
       "0                        0.921223                        0.104307   \n",
       "0                             NaN                             NaN   \n",
       "0                        0.745760                        0.173564   \n",
       "\n",
       "   perf_grp_false negative rate_1  perf_grp_selection rate_0  \\\n",
       "0                             NaN                        NaN   \n",
       "0                        0.011926                   0.864654   \n",
       "0                             NaN                        NaN   \n",
       "0                        0.056674                   0.717916   \n",
       "\n",
       "   perf_grp_selection rate_1  perf_grp_count_0  perf_grp_count_1  \n",
       "0                        NaN               NaN               NaN  \n",
       "0                   0.930056           20540.0           69170.0  \n",
       "0                        NaN               NaN               NaN  \n",
       "0                   0.771866           20540.0           69170.0  \n",
       "\n",
       "[4 rows x 50 columns]"
      ]
     },
     "execution_count": 66,
     "metadata": {},
     "output_type": "execute_result"
    }
   ],
   "source": [
    "final_output = universe_analysis.generate_final_output(\n",
    "    y_pred_prob=probs_test,\n",
    "    y_test=y_true,\n",
    "    org_test=org_test,\n",
    "    filter_data=filter_sub_universe_data,\n",
    "    cp_metrics_df=cp_metrics_df,\n",
    "    save=True,\n",
    ")\n",
    "final_output"
   ]
  }
 ],
 "metadata": {
  "celltoolbar": "Tags",
  "kernelspec": {
   "display_name": "Python (CMA Fairness)",
   "language": "python",
   "name": "cma_fair_env"
  },
  "language_info": {
   "codemirror_mode": {
    "name": "ipython",
    "version": 3
   },
   "file_extension": ".py",
   "mimetype": "text/x-python",
   "name": "python",
   "nbconvert_exporter": "python",
   "pygments_lexer": "ipython3",
   "version": "3.10.12"
  },
  "papermill": {
   "default_parameters": {},
   "duration": 42.339603,
   "end_time": "2025-08-05T16:04:50.497342",
   "environment_variables": {},
   "exception": null,
   "input_path": "universe_analysis.ipynb",
   "output_path": "output/runs/15/notebooks/m_15-e95ed2994b1b5ec918e7bcd050f0ad5f.ipynb",
   "parameters": {
    "output_dir": "output",
    "run_no": "15",
    "seed": "2023",
    "universe": "{\"cutoff\": [\"quantile_0.1\", \"quantile_0.25\"], \"eval_fairness_grouping\": [\"majority-minority\", \"nationality-all\"], \"exclude_features\": \"none\", \"exclude_subgroups\": \"keep-all\", \"model\": \"rf\", \"scale\": \"scale\", \"training_size\": \"1k\", \"training_year\": \"2014\"}",
    "universe_id": "e95ed2994b1b5ec918e7bcd050f0ad5f"
   },
   "start_time": "2025-08-05T16:04:08.157739",
   "version": "2.6.0"
  }
 },
 "nbformat": 4,
 "nbformat_minor": 5
}