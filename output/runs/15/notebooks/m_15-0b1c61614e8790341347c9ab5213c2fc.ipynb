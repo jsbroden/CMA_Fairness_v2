{
 "cells": [
  {
   "cell_type": "code",
   "execution_count": 1,
   "id": "f159f837-637b-42ba-96b5-ec9a68c44524",
   "metadata": {
    "execution": {
     "iopub.execute_input": "2025-08-05T15:49:50.571835Z",
     "iopub.status.busy": "2025-08-05T15:49:50.571335Z",
     "iopub.status.idle": "2025-08-05T15:49:50.587730Z",
     "shell.execute_reply": "2025-08-05T15:49:50.586557Z"
    },
    "papermill": {
     "duration": 0.036915,
     "end_time": "2025-08-05T15:49:50.589474",
     "exception": false,
     "start_time": "2025-08-05T15:49:50.552559",
     "status": "completed"
    },
    "tags": []
   },
   "outputs": [
    {
     "name": "stdout",
     "output_type": "stream",
     "text": [
      "/dss/dsshome1/0C/ra93lal2/cma/CMA_Fairness_v2\n"
     ]
    },
    {
     "name": "stderr",
     "output_type": "stream",
     "text": [
      "/dss/dsshome1/0C/ra93lal2/.local/share/virtualenvs/CMA_Fairness_v2-3j10GkSs/lib/python3.10/site-packages/IPython/core/magics/osm.py:393: UserWarning: This is now an optional IPython functionality, using bookmarks requires you to install the `pickleshare` library.\n",
      "  bkms = self.shell.db.get('bookmarks', {})\n",
      "/dss/dsshome1/0C/ra93lal2/.local/share/virtualenvs/CMA_Fairness_v2-3j10GkSs/lib/python3.10/site-packages/IPython/core/magics/osm.py:417: UserWarning: This is now an optional IPython functionality, setting dhist requires you to install the `pickleshare` library.\n",
      "  self.shell.db['dhist'] = compress_dhist(dhist)[-100:]\n"
     ]
    }
   ],
   "source": [
    "%cd ~/cma/CMA_Fairness_v2"
   ]
  },
  {
   "cell_type": "markdown",
   "id": "de2603b9",
   "metadata": {
    "papermill": {
     "duration": 0.017095,
     "end_time": "2025-08-05T15:49:50.624905",
     "exception": false,
     "start_time": "2025-08-05T15:49:50.607810",
     "status": "completed"
    },
    "tags": []
   },
   "source": [
    "The following cell holds the definition of our parameters, these values can be overriden by rendering the with e.g. the following command:\n",
    "\n",
    "papermill -p alpha 0.2 -p ratio 0.3 universe_analysis.ipynb output/test_run.ipynb"
   ]
  },
  {
   "cell_type": "code",
   "execution_count": 2,
   "id": "a80968a0-40bb-4fa9-85ef-2d5eefb01975",
   "metadata": {
    "execution": {
     "iopub.execute_input": "2025-08-05T15:49:50.658035Z",
     "iopub.status.busy": "2025-08-05T15:49:50.657159Z",
     "iopub.status.idle": "2025-08-05T15:49:50.663210Z",
     "shell.execute_reply": "2025-08-05T15:49:50.662074Z"
    },
    "papermill": {
     "duration": 0.025115,
     "end_time": "2025-08-05T15:49:50.665404",
     "exception": false,
     "start_time": "2025-08-05T15:49:50.640289",
     "status": "completed"
    },
    "tags": []
   },
   "outputs": [
    {
     "name": "stdout",
     "output_type": "stream",
     "text": [
      "Current working directory: /dss/dsshome1/0C/ra93lal2/cma/CMA_Fairness_v2\n"
     ]
    }
   ],
   "source": [
    "import os\n",
    "print(\"Current working directory:\", os.getcwd())"
   ]
  },
  {
   "cell_type": "code",
   "execution_count": 3,
   "id": "2dce4c03",
   "metadata": {
    "execution": {
     "iopub.execute_input": "2025-08-05T15:49:50.712276Z",
     "iopub.status.busy": "2025-08-05T15:49:50.711891Z",
     "iopub.status.idle": "2025-08-05T15:49:50.718305Z",
     "shell.execute_reply": "2025-08-05T15:49:50.717144Z"
    },
    "papermill": {
     "duration": 0.032127,
     "end_time": "2025-08-05T15:49:50.720554",
     "exception": false,
     "start_time": "2025-08-05T15:49:50.688427",
     "status": "completed"
    },
    "tags": [
     "parameters"
    ]
   },
   "outputs": [],
   "source": [
    "run_no = 0\n",
    "universe_id = \"test\"\n",
    "universe = {\n",
    "    \"training_size\": \"25k\", # \"25k\", \"5k\", \"1k\"\n",
    "    \"training_year\": \"2014\", # \"2014\", \"2012_14\", \"2010_14\"\n",
    "    \"scale\": \"scale\", # \"scale\", \"do-not-scale\",\n",
    "    \"model\": \"elasticnet\", # \"logreg\", \"penalized_logreg\", \"rf\", \"gbm\", \"elasticnet\"\n",
    "    \"cutoff\": [\"quantile_0.15\", \"quantile_0.30\"],\n",
    "    \"exclude_features\": \"age\", # \"none\", \"nationality\", \"sex\", \"nationality-sex\", \"age\"\n",
    "    \"exclude_subgroups\": \"keep-all\", # \"keep-all\", \"drop-non-german\"\n",
    "    \"eval_fairness_grouping\": [\"majority-minority\", \"nationality-all\"]\n",
    "}\n",
    "\n",
    "output_dir=\"./output\"\n",
    "seed=0"
   ]
  },
  {
   "cell_type": "code",
   "execution_count": 4,
   "id": "d3b39d94",
   "metadata": {
    "execution": {
     "iopub.execute_input": "2025-08-05T15:49:50.772576Z",
     "iopub.status.busy": "2025-08-05T15:49:50.772203Z",
     "iopub.status.idle": "2025-08-05T15:49:50.777510Z",
     "shell.execute_reply": "2025-08-05T15:49:50.776529Z"
    },
    "papermill": {
     "duration": 0.032989,
     "end_time": "2025-08-05T15:49:50.779784",
     "exception": false,
     "start_time": "2025-08-05T15:49:50.746795",
     "status": "completed"
    },
    "tags": [
     "injected-parameters"
    ]
   },
   "outputs": [],
   "source": [
    "# Parameters\n",
    "universe_id = \"0b1c61614e8790341347c9ab5213c2fc\"\n",
    "run_no = \"15\"\n",
    "universe = \"{\\\"cutoff\\\": [\\\"quantile_0.1\\\", \\\"quantile_0.25\\\"], \\\"eval_fairness_grouping\\\": [\\\"majority-minority\\\", \\\"nationality-all\\\"], \\\"exclude_features\\\": \\\"age\\\", \\\"exclude_subgroups\\\": \\\"keep-all\\\", \\\"model\\\": \\\"penalized_logreg\\\", \\\"scale\\\": \\\"scale\\\", \\\"training_size\\\": \\\"5k\\\", \\\"training_year\\\": \\\"2010_14\\\"}\"\n",
    "output_dir = \"output\"\n",
    "seed = \"2023\"\n"
   ]
  },
  {
   "cell_type": "code",
   "execution_count": 5,
   "id": "1650acaf",
   "metadata": {
    "execution": {
     "iopub.execute_input": "2025-08-05T15:49:50.832539Z",
     "iopub.status.busy": "2025-08-05T15:49:50.832164Z",
     "iopub.status.idle": "2025-08-05T15:49:50.837155Z",
     "shell.execute_reply": "2025-08-05T15:49:50.836189Z"
    },
    "papermill": {
     "duration": 0.033695,
     "end_time": "2025-08-05T15:49:50.839724",
     "exception": false,
     "start_time": "2025-08-05T15:49:50.806029",
     "status": "completed"
    },
    "tags": []
   },
   "outputs": [],
   "source": [
    "import json\n",
    "if isinstance(universe, str):\n",
    "    universe = json.loads(universe)"
   ]
  },
  {
   "cell_type": "code",
   "execution_count": 6,
   "id": "16620c48",
   "metadata": {
    "execution": {
     "iopub.execute_input": "2025-08-05T15:49:50.891853Z",
     "iopub.status.busy": "2025-08-05T15:49:50.891095Z",
     "iopub.status.idle": "2025-08-05T15:49:50.936008Z",
     "shell.execute_reply": "2025-08-05T15:49:50.934974Z"
    },
    "papermill": {
     "duration": 0.073745,
     "end_time": "2025-08-05T15:49:50.938548",
     "exception": false,
     "start_time": "2025-08-05T15:49:50.864803",
     "status": "completed"
    },
    "tags": []
   },
   "outputs": [],
   "source": [
    "# Auto-reload the custom package\n",
    "%load_ext autoreload\n",
    "%autoreload 1\n",
    "%aimport fairness_multiverse"
   ]
  },
  {
   "cell_type": "code",
   "execution_count": 7,
   "id": "01c5c9f3",
   "metadata": {
    "execution": {
     "iopub.execute_input": "2025-08-05T15:49:50.991676Z",
     "iopub.status.busy": "2025-08-05T15:49:50.991315Z",
     "iopub.status.idle": "2025-08-05T15:49:53.023015Z",
     "shell.execute_reply": "2025-08-05T15:49:53.022260Z"
    },
    "papermill": {
     "duration": 2.060839,
     "end_time": "2025-08-05T15:49:53.024497",
     "exception": false,
     "start_time": "2025-08-05T15:49:50.963658",
     "status": "completed"
    },
    "tags": []
   },
   "outputs": [],
   "source": [
    "from fairness_multiverse.universe import UniverseAnalysis\n",
    "\n",
    "universe_analysis = UniverseAnalysis(\n",
    "    run_no = run_no,\n",
    "    universe_id = universe_id,\n",
    "    universe = universe,\n",
    "    output_dir=output_dir,\n",
    ")"
   ]
  },
  {
   "cell_type": "code",
   "execution_count": 8,
   "id": "106241f5",
   "metadata": {
    "execution": {
     "iopub.execute_input": "2025-08-05T15:49:53.053115Z",
     "iopub.status.busy": "2025-08-05T15:49:53.052566Z",
     "iopub.status.idle": "2025-08-05T15:49:53.058315Z",
     "shell.execute_reply": "2025-08-05T15:49:53.057306Z"
    },
    "papermill": {
     "duration": 0.020675,
     "end_time": "2025-08-05T15:49:53.060154",
     "exception": false,
     "start_time": "2025-08-05T15:49:53.039479",
     "status": "completed"
    },
    "tags": []
   },
   "outputs": [
    {
     "name": "stdout",
     "output_type": "stream",
     "text": [
      "Using Seed: 2023\n"
     ]
    }
   ],
   "source": [
    "import numpy as np\n",
    "parsed_seed = int(seed)\n",
    "np.random.seed(parsed_seed)\n",
    "print(f\"Using Seed: {parsed_seed}\")"
   ]
  },
  {
   "cell_type": "markdown",
   "id": "e0ebdc57",
   "metadata": {
    "papermill": {
     "duration": 0.017341,
     "end_time": "2025-08-05T15:49:53.087540",
     "exception": false,
     "start_time": "2025-08-05T15:49:53.070199",
     "status": "completed"
    },
    "tags": []
   },
   "source": [
    "# Loading Data"
   ]
  },
  {
   "cell_type": "code",
   "execution_count": 9,
   "id": "f0496b8a",
   "metadata": {
    "execution": {
     "iopub.execute_input": "2025-08-05T15:49:53.135718Z",
     "iopub.status.busy": "2025-08-05T15:49:53.135422Z",
     "iopub.status.idle": "2025-08-05T15:50:05.258500Z",
     "shell.execute_reply": "2025-08-05T15:50:05.257178Z"
    },
    "papermill": {
     "duration": 12.149535,
     "end_time": "2025-08-05T15:50:05.260201",
     "exception": false,
     "start_time": "2025-08-05T15:49:53.110666",
     "status": "completed"
    },
    "tags": []
   },
   "outputs": [
    {
     "name": "stdout",
     "output_type": "stream",
     "text": [
      "Loading SIAB data from cache: data/siab_cached.csv.gz\n"
     ]
    },
    {
     "name": "stdout",
     "output_type": "stream",
     "text": [
      "(643690, 164)\n"
     ]
    }
   ],
   "source": [
    "from pathlib import Path\n",
    "import pandas as pd\n",
    "\n",
    "# File paths\n",
    "raw_file = Path(\"data/raw/siab.csv\")\n",
    "cache_file = Path(\"data/siab_cached.csv.gz\")\n",
    "\n",
    "# Ensure cache directory exists\n",
    "cache_file.parent.mkdir(parents=True, exist_ok=True)\n",
    "\n",
    "# Load with simple caching\n",
    "if cache_file.exists():\n",
    "    print(f\"Loading SIAB data from cache: {cache_file}\")\n",
    "    siab = pd.read_csv(cache_file, compression='gzip')\n",
    "else:\n",
    "    print(f\"Cache not found. Reading raw SIAB data: {raw_file}\")\n",
    "    siab = pd.read_csv(raw_file)\n",
    "    siab.to_csv(cache_file, index=False, compression='gzip')\n",
    "    print(f\"Cached SIAB data to: {cache_file}\")\n",
    "\n",
    "print(siab.shape)"
   ]
  },
  {
   "cell_type": "code",
   "execution_count": 10,
   "id": "db0ca512-5f53-4dba-abdb-a2888bca41ba",
   "metadata": {
    "execution": {
     "iopub.execute_input": "2025-08-05T15:50:05.303246Z",
     "iopub.status.busy": "2025-08-05T15:50:05.302673Z",
     "iopub.status.idle": "2025-08-05T15:50:05.308768Z",
     "shell.execute_reply": "2025-08-05T15:50:05.307656Z"
    },
    "papermill": {
     "duration": 0.028904,
     "end_time": "2025-08-05T15:50:05.310763",
     "exception": false,
     "start_time": "2025-08-05T15:50:05.281859",
     "status": "completed"
    },
    "tags": []
   },
   "outputs": [],
   "source": [
    "#siab"
   ]
  },
  {
   "cell_type": "markdown",
   "id": "997051c5-15bd-4b69-9786-c3001a3ce484",
   "metadata": {
    "papermill": {
     "duration": 0.019515,
     "end_time": "2025-08-05T15:50:05.349113",
     "exception": false,
     "start_time": "2025-08-05T15:50:05.329598",
     "status": "completed"
    },
    "tags": []
   },
   "source": [
    "# Splitting Data and Setting Training Data Size"
   ]
  },
  {
   "cell_type": "code",
   "execution_count": 11,
   "id": "aea9c6ef-6f46-42c8-85eb-5a62025c1508",
   "metadata": {
    "execution": {
     "iopub.execute_input": "2025-08-05T15:50:05.390357Z",
     "iopub.status.busy": "2025-08-05T15:50:05.389872Z",
     "iopub.status.idle": "2025-08-05T15:50:06.399585Z",
     "shell.execute_reply": "2025-08-05T15:50:06.398660Z"
    },
    "papermill": {
     "duration": 1.032531,
     "end_time": "2025-08-05T15:50:06.401321",
     "exception": false,
     "start_time": "2025-08-05T15:50:05.368790",
     "status": "completed"
    },
    "tags": []
   },
   "outputs": [],
   "source": [
    "from fairness_multiverse.universe import sample_by_year_size\n",
    "\n",
    "siab_train = sample_by_year_size(siab,\n",
    "                               training_year=universe[\"training_year\"],\n",
    "                               training_size=universe[\"training_size\"])"
   ]
  },
  {
   "cell_type": "code",
   "execution_count": 12,
   "id": "8d3afb32-789d-442c-8d5d-9f5aa8dd2eed",
   "metadata": {
    "execution": {
     "iopub.execute_input": "2025-08-05T15:50:06.437056Z",
     "iopub.status.busy": "2025-08-05T15:50:06.436452Z",
     "iopub.status.idle": "2025-08-05T15:50:06.442172Z",
     "shell.execute_reply": "2025-08-05T15:50:06.441213Z"
    },
    "papermill": {
     "duration": 0.0254,
     "end_time": "2025-08-05T15:50:06.443900",
     "exception": false,
     "start_time": "2025-08-05T15:50:06.418500",
     "status": "completed"
    },
    "tags": []
   },
   "outputs": [],
   "source": [
    "#siab_train.shape"
   ]
  },
  {
   "cell_type": "code",
   "execution_count": 13,
   "id": "d582db68-1a4c-47fb-84fc-08518dc1975a",
   "metadata": {
    "execution": {
     "iopub.execute_input": "2025-08-05T15:50:06.481203Z",
     "iopub.status.busy": "2025-08-05T15:50:06.480380Z",
     "iopub.status.idle": "2025-08-05T15:50:06.485490Z",
     "shell.execute_reply": "2025-08-05T15:50:06.484625Z"
    },
    "papermill": {
     "duration": 0.025437,
     "end_time": "2025-08-05T15:50:06.487285",
     "exception": false,
     "start_time": "2025-08-05T15:50:06.461848",
     "status": "completed"
    },
    "tags": []
   },
   "outputs": [],
   "source": [
    "#display(siab_train.groupby(\"year\").size())"
   ]
  },
  {
   "cell_type": "code",
   "execution_count": 14,
   "id": "a561edb4-d032-42cb-8256-22eac1111c64",
   "metadata": {
    "execution": {
     "iopub.execute_input": "2025-08-05T15:50:06.527026Z",
     "iopub.status.busy": "2025-08-05T15:50:06.526224Z",
     "iopub.status.idle": "2025-08-05T15:50:06.785052Z",
     "shell.execute_reply": "2025-08-05T15:50:06.784081Z"
    },
    "papermill": {
     "duration": 0.281547,
     "end_time": "2025-08-05T15:50:06.787449",
     "exception": false,
     "start_time": "2025-08-05T15:50:06.505902",
     "status": "completed"
    },
    "tags": []
   },
   "outputs": [],
   "source": [
    "#siab_train = siab_s[siab_s.year < 2015]\n",
    "siab_calib = siab[siab.year == 2015]\n",
    "siab_test = siab[siab.year == 2016]"
   ]
  },
  {
   "cell_type": "code",
   "execution_count": 15,
   "id": "472de16f-c3db-4916-846b-1f0de9cf1746",
   "metadata": {
    "execution": {
     "iopub.execute_input": "2025-08-05T15:50:06.826943Z",
     "iopub.status.busy": "2025-08-05T15:50:06.826305Z",
     "iopub.status.idle": "2025-08-05T15:50:06.835180Z",
     "shell.execute_reply": "2025-08-05T15:50:06.834057Z"
    },
    "papermill": {
     "duration": 0.030593,
     "end_time": "2025-08-05T15:50:06.837143",
     "exception": false,
     "start_time": "2025-08-05T15:50:06.806550",
     "status": "completed"
    },
    "tags": []
   },
   "outputs": [],
   "source": [
    "X_train = siab_train.iloc[:,4:164]\n",
    "y_train = siab_train.iloc[:, [3]]"
   ]
  },
  {
   "cell_type": "code",
   "execution_count": 16,
   "id": "828c96af-f43a-4ed6-ba47-8ac73a47d56c",
   "metadata": {
    "execution": {
     "iopub.execute_input": "2025-08-05T15:50:06.879169Z",
     "iopub.status.busy": "2025-08-05T15:50:06.878289Z",
     "iopub.status.idle": "2025-08-05T15:50:06.932739Z",
     "shell.execute_reply": "2025-08-05T15:50:06.931651Z"
    },
    "papermill": {
     "duration": 0.077782,
     "end_time": "2025-08-05T15:50:06.934828",
     "exception": false,
     "start_time": "2025-08-05T15:50:06.857046",
     "status": "completed"
    },
    "tags": []
   },
   "outputs": [],
   "source": [
    "X_calib = siab_calib.iloc[:,4:164]\n",
    "y_calib = siab_calib.iloc[:, [3]]"
   ]
  },
  {
   "cell_type": "code",
   "execution_count": 17,
   "id": "c34be9c3-6bd6-476e-acd3-845840e303be",
   "metadata": {
    "execution": {
     "iopub.execute_input": "2025-08-05T15:50:06.977012Z",
     "iopub.status.busy": "2025-08-05T15:50:06.976135Z",
     "iopub.status.idle": "2025-08-05T15:50:07.030240Z",
     "shell.execute_reply": "2025-08-05T15:50:07.029331Z"
    },
    "papermill": {
     "duration": 0.076609,
     "end_time": "2025-08-05T15:50:07.031703",
     "exception": false,
     "start_time": "2025-08-05T15:50:06.955094",
     "status": "completed"
    },
    "tags": []
   },
   "outputs": [],
   "source": [
    "X_test = siab_test.iloc[:,4:164]\n",
    "y_true = siab_test.iloc[:, [3]]"
   ]
  },
  {
   "cell_type": "code",
   "execution_count": 18,
   "id": "e6c733c5",
   "metadata": {
    "execution": {
     "iopub.execute_input": "2025-08-05T15:50:07.053635Z",
     "iopub.status.busy": "2025-08-05T15:50:07.053069Z",
     "iopub.status.idle": "2025-08-05T15:50:07.142025Z",
     "shell.execute_reply": "2025-08-05T15:50:07.141094Z"
    },
    "papermill": {
     "duration": 0.101234,
     "end_time": "2025-08-05T15:50:07.143577",
     "exception": false,
     "start_time": "2025-08-05T15:50:07.042343",
     "status": "completed"
    },
    "tags": []
   },
   "outputs": [],
   "source": [
    "# Auxiliary data needed downstream in the pipeline\n",
    "\n",
    "org_train = X_train.copy()\n",
    "org_test = X_test.copy()\n",
    "org_calib = X_calib.copy()"
   ]
  },
  {
   "cell_type": "markdown",
   "id": "0a4a1b33",
   "metadata": {
    "papermill": {
     "duration": 0.009197,
     "end_time": "2025-08-05T15:50:07.163318",
     "exception": false,
     "start_time": "2025-08-05T15:50:07.154121",
     "status": "completed"
    },
    "tags": []
   },
   "source": [
    "# Preprocessing Data"
   ]
  },
  {
   "cell_type": "code",
   "execution_count": 19,
   "id": "ca879031",
   "metadata": {
    "execution": {
     "iopub.execute_input": "2025-08-05T15:50:07.184064Z",
     "iopub.status.busy": "2025-08-05T15:50:07.183286Z",
     "iopub.status.idle": "2025-08-05T15:50:07.188829Z",
     "shell.execute_reply": "2025-08-05T15:50:07.188023Z"
    },
    "papermill": {
     "duration": 0.017524,
     "end_time": "2025-08-05T15:50:07.190276",
     "exception": false,
     "start_time": "2025-08-05T15:50:07.172752",
     "status": "completed"
    },
    "tags": []
   },
   "outputs": [],
   "source": [
    "# EXCLUDE PROTECTED FEATURES\n",
    "# ----------------------\n",
    "# \"exclude_features\": \"none\", # \"nationality\", \"sex\", \"nationality-sex\"\n",
    "\n",
    "excluded_features = universe[\"exclude_features\"].split(\"-\") # split, e.g.: \"nationality-sex\" -> [\"nationality\", \"sex\"]\n",
    "excluded_features_dictionary = {\n",
    "    \"nationality\": [\"maxdeutsch1\", \"maxdeutsch.Missing.\"],\n",
    "    \"sex\": [\"frau1\"],\n",
    "    \"age\": [\"age\"],\n",
    "}"
   ]
  },
  {
   "cell_type": "code",
   "execution_count": 20,
   "id": "b745ac60",
   "metadata": {
    "execution": {
     "iopub.execute_input": "2025-08-05T15:50:07.211877Z",
     "iopub.status.busy": "2025-08-05T15:50:07.211129Z",
     "iopub.status.idle": "2025-08-05T15:50:07.216257Z",
     "shell.execute_reply": "2025-08-05T15:50:07.215383Z"
    },
    "papermill": {
     "duration": 0.016829,
     "end_time": "2025-08-05T15:50:07.217766",
     "exception": false,
     "start_time": "2025-08-05T15:50:07.200937",
     "status": "completed"
    },
    "tags": []
   },
   "outputs": [],
   "source": [
    "# Code nice names to column names\n",
    "\n",
    "excluded_features_columns = [\n",
    "    excluded_features_dictionary[f] for f in excluded_features if len(f) > 0 and f != \"none\"\n",
    "]"
   ]
  },
  {
   "cell_type": "code",
   "execution_count": 21,
   "id": "f84f73a2",
   "metadata": {
    "execution": {
     "iopub.execute_input": "2025-08-05T15:50:07.239516Z",
     "iopub.status.busy": "2025-08-05T15:50:07.238635Z",
     "iopub.status.idle": "2025-08-05T15:50:07.244314Z",
     "shell.execute_reply": "2025-08-05T15:50:07.243525Z"
    },
    "papermill": {
     "duration": 0.017781,
     "end_time": "2025-08-05T15:50:07.246074",
     "exception": false,
     "start_time": "2025-08-05T15:50:07.228293",
     "status": "completed"
    },
    "tags": []
   },
   "outputs": [],
   "source": [
    "from utils import flatten_once\n",
    "\n",
    "excluded_features_columns = flatten_once(excluded_features_columns)"
   ]
  },
  {
   "cell_type": "code",
   "execution_count": 22,
   "id": "884dea22",
   "metadata": {
    "execution": {
     "iopub.execute_input": "2025-08-05T15:50:07.268428Z",
     "iopub.status.busy": "2025-08-05T15:50:07.267651Z",
     "iopub.status.idle": "2025-08-05T15:50:07.275726Z",
     "shell.execute_reply": "2025-08-05T15:50:07.274923Z"
    },
    "papermill": {
     "duration": 0.020074,
     "end_time": "2025-08-05T15:50:07.277184",
     "exception": false,
     "start_time": "2025-08-05T15:50:07.257110",
     "status": "completed"
    },
    "tags": []
   },
   "outputs": [
    {
     "name": "stdout",
     "output_type": "stream",
     "text": [
      "Dropping features: ['age']\n"
     ]
    }
   ],
   "source": [
    "if len(excluded_features_columns) > 0:\n",
    "    print(f\"Dropping features: {excluded_features_columns}\")\n",
    "    X_train.drop(excluded_features_columns, axis=1, inplace=True)"
   ]
  },
  {
   "cell_type": "code",
   "execution_count": 23,
   "id": "95ab8b16",
   "metadata": {
    "execution": {
     "iopub.execute_input": "2025-08-05T15:50:07.300413Z",
     "iopub.status.busy": "2025-08-05T15:50:07.299678Z",
     "iopub.status.idle": "2025-08-05T15:50:07.349151Z",
     "shell.execute_reply": "2025-08-05T15:50:07.348373Z"
    },
    "papermill": {
     "duration": 0.062379,
     "end_time": "2025-08-05T15:50:07.350642",
     "exception": false,
     "start_time": "2025-08-05T15:50:07.288263",
     "status": "completed"
    },
    "tags": []
   },
   "outputs": [
    {
     "name": "stdout",
     "output_type": "stream",
     "text": [
      "Dropping features: ['age']\n"
     ]
    }
   ],
   "source": [
    "if len(excluded_features_columns) > 0:\n",
    "    print(f\"Dropping features: {excluded_features_columns}\")\n",
    "    X_test.drop(excluded_features_columns, axis=1, inplace=True)"
   ]
  },
  {
   "cell_type": "code",
   "execution_count": 24,
   "id": "1853aaf5-fb9f-46cb-a2b5-8ea4ae2237e4",
   "metadata": {
    "execution": {
     "iopub.execute_input": "2025-08-05T15:50:07.372980Z",
     "iopub.status.busy": "2025-08-05T15:50:07.372282Z",
     "iopub.status.idle": "2025-08-05T15:50:07.420740Z",
     "shell.execute_reply": "2025-08-05T15:50:07.419739Z"
    },
    "papermill": {
     "duration": 0.060308,
     "end_time": "2025-08-05T15:50:07.422246",
     "exception": false,
     "start_time": "2025-08-05T15:50:07.361938",
     "status": "completed"
    },
    "tags": []
   },
   "outputs": [
    {
     "name": "stdout",
     "output_type": "stream",
     "text": [
      "Dropping features: ['age']\n"
     ]
    }
   ],
   "source": [
    "if len(excluded_features_columns) > 0:\n",
    "    print(f\"Dropping features: {excluded_features_columns}\")\n",
    "    X_calib.drop(excluded_features_columns, axis=1, inplace=True)"
   ]
  },
  {
   "cell_type": "code",
   "execution_count": 25,
   "id": "76c4dc6d",
   "metadata": {
    "execution": {
     "iopub.execute_input": "2025-08-05T15:50:07.445185Z",
     "iopub.status.busy": "2025-08-05T15:50:07.444601Z",
     "iopub.status.idle": "2025-08-05T15:50:07.449591Z",
     "shell.execute_reply": "2025-08-05T15:50:07.448809Z"
    },
    "papermill": {
     "duration": 0.017679,
     "end_time": "2025-08-05T15:50:07.451026",
     "exception": false,
     "start_time": "2025-08-05T15:50:07.433347",
     "status": "completed"
    },
    "tags": []
   },
   "outputs": [],
   "source": [
    "# EXCLUDE CERTAIN SUBGROUPS\n",
    "# ----------------------\n",
    "\n",
    "mode = universe.get(\"exclude_subgroups\", \"keep-all\") \n",
    "# Fetches the exclude_subgroups setting from the universe dict.\n",
    "# Defaults to \"keep-all\" if the key is missing."
   ]
  },
  {
   "cell_type": "code",
   "execution_count": 26,
   "id": "21994072",
   "metadata": {
    "execution": {
     "iopub.execute_input": "2025-08-05T15:50:07.473815Z",
     "iopub.status.busy": "2025-08-05T15:50:07.473202Z",
     "iopub.status.idle": "2025-08-05T15:50:07.478887Z",
     "shell.execute_reply": "2025-08-05T15:50:07.478029Z"
    },
    "papermill": {
     "duration": 0.018113,
     "end_time": "2025-08-05T15:50:07.480422",
     "exception": false,
     "start_time": "2025-08-05T15:50:07.462309",
     "status": "completed"
    },
    "tags": []
   },
   "outputs": [],
   "source": [
    "if mode == \"keep-all\":\n",
    "    keep_mask = pd.Series(True, index=org_train.index)\n",
    "\n",
    "# org_train contains the original feature columns from features_org (in Simson)\n",
    "# features_org contains unprocessed features, for me X_train at beginning ???\n",
    "# For keep-all, creates a boolean Series (keep_mask) of all True, so no rows are removed.\n",
    "\n",
    "elif mode == \"drop-non-german\":\n",
    "    keep_mask = org_train[\"maxdeutsch1\"] == 1 # ??? what about missing values?\n",
    "\n",
    "else:\n",
    "    raise ValueError(f\"Unsupported mode for exclude_subgroups: {mode}\")"
   ]
  },
  {
   "cell_type": "code",
   "execution_count": 27,
   "id": "71651440",
   "metadata": {
    "execution": {
     "iopub.execute_input": "2025-08-05T15:50:07.502095Z",
     "iopub.status.busy": "2025-08-05T15:50:07.501652Z",
     "iopub.status.idle": "2025-08-05T15:50:07.507244Z",
     "shell.execute_reply": "2025-08-05T15:50:07.506410Z"
    },
    "papermill": {
     "duration": 0.017503,
     "end_time": "2025-08-05T15:50:07.508708",
     "exception": false,
     "start_time": "2025-08-05T15:50:07.491205",
     "status": "completed"
    },
    "tags": []
   },
   "outputs": [],
   "source": [
    "n_drop = (~keep_mask).sum() # Calculates how many rows are set to be dropped\n",
    "if n_drop > 0:\n",
    "    pct = n_drop / len(keep_mask) * 100\n",
    "    print(f\"Dropping {n_drop} rows ({pct:.2f}%) where mode='{mode}'\")"
   ]
  },
  {
   "cell_type": "code",
   "execution_count": 28,
   "id": "5fb8eee5",
   "metadata": {
    "execution": {
     "iopub.execute_input": "2025-08-05T15:50:07.529941Z",
     "iopub.status.busy": "2025-08-05T15:50:07.529378Z",
     "iopub.status.idle": "2025-08-05T15:50:07.536165Z",
     "shell.execute_reply": "2025-08-05T15:50:07.535379Z"
    },
    "papermill": {
     "duration": 0.018516,
     "end_time": "2025-08-05T15:50:07.537665",
     "exception": false,
     "start_time": "2025-08-05T15:50:07.519149",
     "status": "completed"
    },
    "tags": []
   },
   "outputs": [],
   "source": [
    "X_train = X_train[keep_mask]"
   ]
  },
  {
   "cell_type": "code",
   "execution_count": 29,
   "id": "b202bb3a",
   "metadata": {
    "execution": {
     "iopub.execute_input": "2025-08-05T15:50:07.559845Z",
     "iopub.status.busy": "2025-08-05T15:50:07.559176Z",
     "iopub.status.idle": "2025-08-05T15:50:07.564493Z",
     "shell.execute_reply": "2025-08-05T15:50:07.563683Z"
    },
    "papermill": {
     "duration": 0.017535,
     "end_time": "2025-08-05T15:50:07.565994",
     "exception": false,
     "start_time": "2025-08-05T15:50:07.548459",
     "status": "completed"
    },
    "tags": []
   },
   "outputs": [],
   "source": [
    "y_train = y_train[keep_mask]"
   ]
  },
  {
   "cell_type": "markdown",
   "id": "493e2ac3",
   "metadata": {
    "papermill": {
     "duration": 0.009781,
     "end_time": "2025-08-05T15:50:07.586686",
     "exception": false,
     "start_time": "2025-08-05T15:50:07.576905",
     "status": "completed"
    },
    "tags": []
   },
   "source": [
    "# Model Training"
   ]
  },
  {
   "cell_type": "code",
   "execution_count": 30,
   "id": "679e1268",
   "metadata": {
    "execution": {
     "iopub.execute_input": "2025-08-05T15:50:07.608454Z",
     "iopub.status.busy": "2025-08-05T15:50:07.607653Z",
     "iopub.status.idle": "2025-08-05T15:50:07.833928Z",
     "shell.execute_reply": "2025-08-05T15:50:07.833028Z"
    },
    "papermill": {
     "duration": 0.239106,
     "end_time": "2025-08-05T15:50:07.835582",
     "exception": false,
     "start_time": "2025-08-05T15:50:07.596476",
     "status": "completed"
    },
    "tags": []
   },
   "outputs": [],
   "source": [
    "from sklearn.linear_model import LogisticRegression\n",
    "from sklearn.ensemble import GradientBoostingClassifier, RandomForestClassifier\n",
    "\n",
    "if (universe[\"model\"] == \"logreg\"):\n",
    "    model = LogisticRegression() #penalty=\"none\", solver=\"newton-cg\", max_iter=1) # include random_state=19 ?\n",
    "elif (universe[\"model\"] == \"penalized_logreg\"):\n",
    "    model = LogisticRegression(penalty=\"l2\", C=0.1) #, solver=\"newton-cg\", max_iter=1)\n",
    "elif (universe[\"model\"] == \"rf\"):\n",
    "    model = RandomForestClassifier() # n_estimators=100, n_jobs=-1\n",
    "elif (universe[\"model\"] == \"gbm\"):\n",
    "    model = GradientBoostingClassifier()\n",
    "elif (universe[\"model\"] == \"elasticnet\"):\n",
    "    model = LogisticRegression(penalty = 'elasticnet', solver = 'saga', l1_ratio = 0.5) # max_iter=5000\n",
    "else:\n",
    "    raise \"Unsupported universe.model\""
   ]
  },
  {
   "cell_type": "code",
   "execution_count": 31,
   "id": "0cc8f744",
   "metadata": {
    "execution": {
     "iopub.execute_input": "2025-08-05T15:50:07.857939Z",
     "iopub.status.busy": "2025-08-05T15:50:07.857218Z",
     "iopub.status.idle": "2025-08-05T15:50:07.862402Z",
     "shell.execute_reply": "2025-08-05T15:50:07.861632Z"
    },
    "papermill": {
     "duration": 0.017192,
     "end_time": "2025-08-05T15:50:07.863739",
     "exception": false,
     "start_time": "2025-08-05T15:50:07.846547",
     "status": "completed"
    },
    "tags": []
   },
   "outputs": [],
   "source": [
    "import numpy as np\n",
    "from sklearn.pipeline import Pipeline\n",
    "from sklearn.preprocessing import StandardScaler\n",
    "\n",
    "model = Pipeline([\n",
    "    #(\"continuous_processor\", continuous_processor),\n",
    "    #(\"categorical_preprocessor\", categorical_preprocessor),\n",
    "    (\"scale\", StandardScaler() if universe[\"scale\"] == \"scale\" else None), \n",
    "    (\"model\", model),\n",
    "])"
   ]
  },
  {
   "cell_type": "code",
   "execution_count": 32,
   "id": "9442c04d",
   "metadata": {
    "execution": {
     "iopub.execute_input": "2025-08-05T15:50:07.885853Z",
     "iopub.status.busy": "2025-08-05T15:50:07.885282Z",
     "iopub.status.idle": "2025-08-05T15:50:07.984307Z",
     "shell.execute_reply": "2025-08-05T15:50:07.983405Z"
    },
    "papermill": {
     "duration": 0.111535,
     "end_time": "2025-08-05T15:50:07.985921",
     "exception": false,
     "start_time": "2025-08-05T15:50:07.874386",
     "status": "completed"
    },
    "tags": []
   },
   "outputs": [
    {
     "data": {
      "text/html": [
       "<style>#sk-container-id-1 {color: black;background-color: white;}#sk-container-id-1 pre{padding: 0;}#sk-container-id-1 div.sk-toggleable {background-color: white;}#sk-container-id-1 label.sk-toggleable__label {cursor: pointer;display: block;width: 100%;margin-bottom: 0;padding: 0.3em;box-sizing: border-box;text-align: center;}#sk-container-id-1 label.sk-toggleable__label-arrow:before {content: \"▸\";float: left;margin-right: 0.25em;color: #696969;}#sk-container-id-1 label.sk-toggleable__label-arrow:hover:before {color: black;}#sk-container-id-1 div.sk-estimator:hover label.sk-toggleable__label-arrow:before {color: black;}#sk-container-id-1 div.sk-toggleable__content {max-height: 0;max-width: 0;overflow: hidden;text-align: left;background-color: #f0f8ff;}#sk-container-id-1 div.sk-toggleable__content pre {margin: 0.2em;color: black;border-radius: 0.25em;background-color: #f0f8ff;}#sk-container-id-1 input.sk-toggleable__control:checked~div.sk-toggleable__content {max-height: 200px;max-width: 100%;overflow: auto;}#sk-container-id-1 input.sk-toggleable__control:checked~label.sk-toggleable__label-arrow:before {content: \"▾\";}#sk-container-id-1 div.sk-estimator input.sk-toggleable__control:checked~label.sk-toggleable__label {background-color: #d4ebff;}#sk-container-id-1 div.sk-label input.sk-toggleable__control:checked~label.sk-toggleable__label {background-color: #d4ebff;}#sk-container-id-1 input.sk-hidden--visually {border: 0;clip: rect(1px 1px 1px 1px);clip: rect(1px, 1px, 1px, 1px);height: 1px;margin: -1px;overflow: hidden;padding: 0;position: absolute;width: 1px;}#sk-container-id-1 div.sk-estimator {font-family: monospace;background-color: #f0f8ff;border: 1px dotted black;border-radius: 0.25em;box-sizing: border-box;margin-bottom: 0.5em;}#sk-container-id-1 div.sk-estimator:hover {background-color: #d4ebff;}#sk-container-id-1 div.sk-parallel-item::after {content: \"\";width: 100%;border-bottom: 1px solid gray;flex-grow: 1;}#sk-container-id-1 div.sk-label:hover label.sk-toggleable__label {background-color: #d4ebff;}#sk-container-id-1 div.sk-serial::before {content: \"\";position: absolute;border-left: 1px solid gray;box-sizing: border-box;top: 0;bottom: 0;left: 50%;z-index: 0;}#sk-container-id-1 div.sk-serial {display: flex;flex-direction: column;align-items: center;background-color: white;padding-right: 0.2em;padding-left: 0.2em;position: relative;}#sk-container-id-1 div.sk-item {position: relative;z-index: 1;}#sk-container-id-1 div.sk-parallel {display: flex;align-items: stretch;justify-content: center;background-color: white;position: relative;}#sk-container-id-1 div.sk-item::before, #sk-container-id-1 div.sk-parallel-item::before {content: \"\";position: absolute;border-left: 1px solid gray;box-sizing: border-box;top: 0;bottom: 0;left: 50%;z-index: -1;}#sk-container-id-1 div.sk-parallel-item {display: flex;flex-direction: column;z-index: 1;position: relative;background-color: white;}#sk-container-id-1 div.sk-parallel-item:first-child::after {align-self: flex-end;width: 50%;}#sk-container-id-1 div.sk-parallel-item:last-child::after {align-self: flex-start;width: 50%;}#sk-container-id-1 div.sk-parallel-item:only-child::after {width: 0;}#sk-container-id-1 div.sk-dashed-wrapped {border: 1px dashed gray;margin: 0 0.4em 0.5em 0.4em;box-sizing: border-box;padding-bottom: 0.4em;background-color: white;}#sk-container-id-1 div.sk-label label {font-family: monospace;font-weight: bold;display: inline-block;line-height: 1.2em;}#sk-container-id-1 div.sk-label-container {text-align: center;}#sk-container-id-1 div.sk-container {/* jupyter's `normalize.less` sets `[hidden] { display: none; }` but bootstrap.min.css set `[hidden] { display: none !important; }` so we also need the `!important` here to be able to override the default hidden behavior on the sphinx rendered scikit-learn.org. See: https://github.com/scikit-learn/scikit-learn/issues/21755 */display: inline-block !important;position: relative;}#sk-container-id-1 div.sk-text-repr-fallback {display: none;}</style><div id=\"sk-container-id-1\" class=\"sk-top-container\"><div class=\"sk-text-repr-fallback\"><pre>Pipeline(steps=[(&#x27;scale&#x27;, StandardScaler()),\n",
       "                (&#x27;model&#x27;, LogisticRegression(C=0.1))])</pre><b>In a Jupyter environment, please rerun this cell to show the HTML representation or trust the notebook. <br />On GitHub, the HTML representation is unable to render, please try loading this page with nbviewer.org.</b></div><div class=\"sk-container\" hidden><div class=\"sk-item sk-dashed-wrapped\"><div class=\"sk-label-container\"><div class=\"sk-label sk-toggleable\"><input class=\"sk-toggleable__control sk-hidden--visually\" id=\"sk-estimator-id-1\" type=\"checkbox\" ><label for=\"sk-estimator-id-1\" class=\"sk-toggleable__label sk-toggleable__label-arrow\">Pipeline</label><div class=\"sk-toggleable__content\"><pre>Pipeline(steps=[(&#x27;scale&#x27;, StandardScaler()),\n",
       "                (&#x27;model&#x27;, LogisticRegression(C=0.1))])</pre></div></div></div><div class=\"sk-serial\"><div class=\"sk-item\"><div class=\"sk-estimator sk-toggleable\"><input class=\"sk-toggleable__control sk-hidden--visually\" id=\"sk-estimator-id-2\" type=\"checkbox\" ><label for=\"sk-estimator-id-2\" class=\"sk-toggleable__label sk-toggleable__label-arrow\">StandardScaler</label><div class=\"sk-toggleable__content\"><pre>StandardScaler()</pre></div></div></div><div class=\"sk-item\"><div class=\"sk-estimator sk-toggleable\"><input class=\"sk-toggleable__control sk-hidden--visually\" id=\"sk-estimator-id-3\" type=\"checkbox\" ><label for=\"sk-estimator-id-3\" class=\"sk-toggleable__label sk-toggleable__label-arrow\">LogisticRegression</label><div class=\"sk-toggleable__content\"><pre>LogisticRegression(C=0.1)</pre></div></div></div></div></div></div></div>"
      ],
      "text/plain": [
       "Pipeline(steps=[('scale', StandardScaler()),\n",
       "                ('model', LogisticRegression(C=0.1))])"
      ]
     },
     "execution_count": 32,
     "metadata": {},
     "output_type": "execute_result"
    }
   ],
   "source": [
    "model.fit(X_train, y_train.values.ravel())"
   ]
  },
  {
   "cell_type": "code",
   "execution_count": 33,
   "id": "af59f8c0",
   "metadata": {
    "execution": {
     "iopub.execute_input": "2025-08-05T15:50:08.008059Z",
     "iopub.status.busy": "2025-08-05T15:50:08.007752Z",
     "iopub.status.idle": "2025-08-05T15:50:08.012175Z",
     "shell.execute_reply": "2025-08-05T15:50:08.011424Z"
    },
    "papermill": {
     "duration": 0.016364,
     "end_time": "2025-08-05T15:50:08.013483",
     "exception": false,
     "start_time": "2025-08-05T15:50:07.997119",
     "status": "completed"
    },
    "tags": []
   },
   "outputs": [],
   "source": [
    "from fairness_multiverse.universe import predict_w_threshold"
   ]
  },
  {
   "cell_type": "code",
   "execution_count": 34,
   "id": "a7cf2e16",
   "metadata": {
    "execution": {
     "iopub.execute_input": "2025-08-05T15:50:08.036570Z",
     "iopub.status.busy": "2025-08-05T15:50:08.035847Z",
     "iopub.status.idle": "2025-08-05T15:50:08.212763Z",
     "shell.execute_reply": "2025-08-05T15:50:08.211856Z"
    },
    "papermill": {
     "duration": 0.189324,
     "end_time": "2025-08-05T15:50:08.214276",
     "exception": false,
     "start_time": "2025-08-05T15:50:08.024952",
     "status": "completed"
    },
    "tags": []
   },
   "outputs": [
    {
     "data": {
      "text/plain": [
       "0.8518894214691785"
      ]
     },
     "execution_count": 34,
     "metadata": {},
     "output_type": "execute_result"
    }
   ],
   "source": [
    "probs_test = model.predict_proba(X_test)\n",
    "\n",
    "'''\n",
    "Below code returns a boolean array (or binary 0/1 array depending on how it’s used) where each element \n",
    "is True if the probability of class 1 is greater than or equal to the threshold, and False otherwise.\n",
    "'''\n",
    "y_pred_default = predict_w_threshold(probs_test, 0.5)\n",
    "\n",
    "from sklearn.metrics import accuracy_score\n",
    "\n",
    "# Naive prediction\n",
    "accuracy_score(y_true = y_true, y_pred = y_pred_default)"
   ]
  },
  {
   "cell_type": "code",
   "execution_count": 35,
   "id": "081964c3",
   "metadata": {
    "execution": {
     "iopub.execute_input": "2025-08-05T15:50:08.237227Z",
     "iopub.status.busy": "2025-08-05T15:50:08.236884Z",
     "iopub.status.idle": "2025-08-05T15:50:08.403427Z",
     "shell.execute_reply": "2025-08-05T15:50:08.402520Z"
    },
    "papermill": {
     "duration": 0.179402,
     "end_time": "2025-08-05T15:50:08.404847",
     "exception": false,
     "start_time": "2025-08-05T15:50:08.225445",
     "status": "completed"
    },
    "tags": []
   },
   "outputs": [
    {
     "data": {
      "text/plain": [
       "array([0, 0, 0, ..., 0, 0, 0])"
      ]
     },
     "execution_count": 35,
     "metadata": {},
     "output_type": "execute_result"
    }
   ],
   "source": [
    "model.predict(X_test)"
   ]
  },
  {
   "cell_type": "markdown",
   "id": "56c9705b",
   "metadata": {
    "papermill": {
     "duration": 0.010972,
     "end_time": "2025-08-05T15:50:08.427528",
     "exception": false,
     "start_time": "2025-08-05T15:50:08.416556",
     "status": "completed"
    },
    "tags": []
   },
   "source": [
    "# Conformal Prediction"
   ]
  },
  {
   "cell_type": "code",
   "execution_count": 36,
   "id": "160ec6ff",
   "metadata": {
    "execution": {
     "iopub.execute_input": "2025-08-05T15:50:08.450781Z",
     "iopub.status.busy": "2025-08-05T15:50:08.450254Z",
     "iopub.status.idle": "2025-08-05T15:50:08.454984Z",
     "shell.execute_reply": "2025-08-05T15:50:08.454197Z"
    },
    "papermill": {
     "duration": 0.018006,
     "end_time": "2025-08-05T15:50:08.456431",
     "exception": false,
     "start_time": "2025-08-05T15:50:08.438425",
     "status": "completed"
    },
    "tags": []
   },
   "outputs": [],
   "source": [
    "# Miscoverage level for conformal prediction (10% allowed error rate => 90% target coverage)\n",
    "alpha = 0.1"
   ]
  },
  {
   "cell_type": "code",
   "execution_count": 37,
   "id": "eadf4555-3dd3-440e-8e35-f82a4ad9f855",
   "metadata": {
    "execution": {
     "iopub.execute_input": "2025-08-05T15:50:08.481134Z",
     "iopub.status.busy": "2025-08-05T15:50:08.480769Z",
     "iopub.status.idle": "2025-08-05T15:50:08.643299Z",
     "shell.execute_reply": "2025-08-05T15:50:08.642477Z"
    },
    "papermill": {
     "duration": 0.176385,
     "end_time": "2025-08-05T15:50:08.644921",
     "exception": false,
     "start_time": "2025-08-05T15:50:08.468536",
     "status": "completed"
    },
    "tags": []
   },
   "outputs": [],
   "source": [
    "probs_calib = model.predict_proba(X_calib)"
   ]
  },
  {
   "cell_type": "code",
   "execution_count": 38,
   "id": "2ed93547-6d5d-4983-9b36-1ecb300da49a",
   "metadata": {
    "execution": {
     "iopub.execute_input": "2025-08-05T15:50:08.667959Z",
     "iopub.status.busy": "2025-08-05T15:50:08.667665Z",
     "iopub.status.idle": "2025-08-05T15:50:08.672539Z",
     "shell.execute_reply": "2025-08-05T15:50:08.671751Z"
    },
    "papermill": {
     "duration": 0.017607,
     "end_time": "2025-08-05T15:50:08.674044",
     "exception": false,
     "start_time": "2025-08-05T15:50:08.656437",
     "status": "completed"
    },
    "tags": []
   },
   "outputs": [],
   "source": [
    "y_calib = y_calib.values.ravel().astype(int)"
   ]
  },
  {
   "cell_type": "code",
   "execution_count": 39,
   "id": "65d1320d-f588-4b38-9072-62af1ae97f7d",
   "metadata": {
    "execution": {
     "iopub.execute_input": "2025-08-05T15:50:08.698134Z",
     "iopub.status.busy": "2025-08-05T15:50:08.697604Z",
     "iopub.status.idle": "2025-08-05T15:50:08.703869Z",
     "shell.execute_reply": "2025-08-05T15:50:08.702933Z"
    },
    "papermill": {
     "duration": 0.020474,
     "end_time": "2025-08-05T15:50:08.705900",
     "exception": false,
     "start_time": "2025-08-05T15:50:08.685426",
     "status": "completed"
    },
    "tags": []
   },
   "outputs": [],
   "source": [
    "from fairness_multiverse.conformal import compute_nc_scores\n",
    "\n",
    "# Compute nonconformity scores on calibration set (1 - probability of true class)\n",
    "nc_scores = compute_nc_scores(probs_calib, y_calib)"
   ]
  },
  {
   "cell_type": "code",
   "execution_count": 40,
   "id": "df3b8ca3-53b7-43d5-9667-7c85da7aeda2",
   "metadata": {
    "execution": {
     "iopub.execute_input": "2025-08-05T15:50:08.729316Z",
     "iopub.status.busy": "2025-08-05T15:50:08.728775Z",
     "iopub.status.idle": "2025-08-05T15:50:08.734848Z",
     "shell.execute_reply": "2025-08-05T15:50:08.734077Z"
    },
    "papermill": {
     "duration": 0.018936,
     "end_time": "2025-08-05T15:50:08.736361",
     "exception": false,
     "start_time": "2025-08-05T15:50:08.717425",
     "status": "completed"
    },
    "tags": []
   },
   "outputs": [],
   "source": [
    "from fairness_multiverse.conformal import find_threshold\n",
    "\n",
    "# Find conformal threshold q_hat for the given alpha (split conformal method)\n",
    "q_hat = find_threshold(nc_scores, alpha)"
   ]
  },
  {
   "cell_type": "code",
   "execution_count": 41,
   "id": "4d29e6c1-0ef6-4aa4-b8fe-4fe79b0d033a",
   "metadata": {
    "execution": {
     "iopub.execute_input": "2025-08-05T15:50:08.759195Z",
     "iopub.status.busy": "2025-08-05T15:50:08.758676Z",
     "iopub.status.idle": "2025-08-05T15:50:08.765186Z",
     "shell.execute_reply": "2025-08-05T15:50:08.764313Z"
    },
    "papermill": {
     "duration": 0.01928,
     "end_time": "2025-08-05T15:50:08.766681",
     "exception": false,
     "start_time": "2025-08-05T15:50:08.747401",
     "status": "completed"
    },
    "tags": []
   },
   "outputs": [
    {
     "data": {
      "text/plain": [
       "0.6846979173478935"
      ]
     },
     "execution_count": 41,
     "metadata": {},
     "output_type": "execute_result"
    }
   ],
   "source": [
    "q_hat"
   ]
  },
  {
   "cell_type": "code",
   "execution_count": 42,
   "id": "92460794-cdac-4be2-ba28-f28c0515a6fb",
   "metadata": {
    "execution": {
     "iopub.execute_input": "2025-08-05T15:50:08.790510Z",
     "iopub.status.busy": "2025-08-05T15:50:08.790126Z",
     "iopub.status.idle": "2025-08-05T15:50:09.484064Z",
     "shell.execute_reply": "2025-08-05T15:50:09.483255Z"
    },
    "papermill": {
     "duration": 0.707303,
     "end_time": "2025-08-05T15:50:09.485582",
     "exception": false,
     "start_time": "2025-08-05T15:50:08.778279",
     "status": "completed"
    },
    "tags": []
   },
   "outputs": [],
   "source": [
    "from fairness_multiverse.conformal import predict_conformal_sets\n",
    "\n",
    "# Generate prediction sets for each test example\n",
    "pred_sets = predict_conformal_sets(model, X_test, q_hat)"
   ]
  },
  {
   "cell_type": "code",
   "execution_count": 43,
   "id": "d90c9a65-e6db-4f5d-80cd-e68fb7e46829",
   "metadata": {
    "execution": {
     "iopub.execute_input": "2025-08-05T15:50:09.509639Z",
     "iopub.status.busy": "2025-08-05T15:50:09.509268Z",
     "iopub.status.idle": "2025-08-05T15:50:09.514117Z",
     "shell.execute_reply": "2025-08-05T15:50:09.513045Z"
    },
    "papermill": {
     "duration": 0.01804,
     "end_time": "2025-08-05T15:50:09.515610",
     "exception": false,
     "start_time": "2025-08-05T15:50:09.497570",
     "status": "completed"
    },
    "tags": []
   },
   "outputs": [],
   "source": [
    "y_true = y_true.squeeze()"
   ]
  },
  {
   "cell_type": "code",
   "execution_count": 44,
   "id": "3a58a54a-1e68-46b9-927a-df01f18aebc8",
   "metadata": {
    "execution": {
     "iopub.execute_input": "2025-08-05T15:50:09.540959Z",
     "iopub.status.busy": "2025-08-05T15:50:09.540184Z",
     "iopub.status.idle": "2025-08-05T15:50:10.192646Z",
     "shell.execute_reply": "2025-08-05T15:50:10.191827Z"
    },
    "papermill": {
     "duration": 0.666505,
     "end_time": "2025-08-05T15:50:10.194225",
     "exception": false,
     "start_time": "2025-08-05T15:50:09.527720",
     "status": "completed"
    },
    "tags": []
   },
   "outputs": [],
   "source": [
    "from fairness_multiverse.conformal import evaluate_sets\n",
    "\n",
    "# Evaluate coverage and average set size on test data\n",
    "metrics = evaluate_sets(pred_sets, y_true)"
   ]
  },
  {
   "cell_type": "markdown",
   "id": "2b569c12-9aaa-4c88-98c9-bbcd0cf3ebb8",
   "metadata": {
    "papermill": {
     "duration": 0.011481,
     "end_time": "2025-08-05T15:50:10.217641",
     "exception": false,
     "start_time": "2025-08-05T15:50:10.206160",
     "status": "completed"
    },
    "tags": []
   },
   "source": [
    "# CP Metrics"
   ]
  },
  {
   "cell_type": "code",
   "execution_count": 45,
   "id": "5ce0a5cb-201f-45a0-ade5-94c7f0bd6095",
   "metadata": {
    "execution": {
     "iopub.execute_input": "2025-08-05T15:50:10.241028Z",
     "iopub.status.busy": "2025-08-05T15:50:10.240502Z",
     "iopub.status.idle": "2025-08-05T15:50:10.247676Z",
     "shell.execute_reply": "2025-08-05T15:50:10.246830Z"
    },
    "papermill": {
     "duration": 0.020421,
     "end_time": "2025-08-05T15:50:10.249068",
     "exception": false,
     "start_time": "2025-08-05T15:50:10.228647",
     "status": "completed"
    },
    "tags": []
   },
   "outputs": [
    {
     "data": {
      "text/plain": [
       "{'coverage': 0.9107345892319697, 'avg_size': 1.146349347898785}"
      ]
     },
     "execution_count": 45,
     "metadata": {},
     "output_type": "execute_result"
    }
   ],
   "source": [
    "metrics"
   ]
  },
  {
   "cell_type": "code",
   "execution_count": 46,
   "id": "9b9a838d-31c9-430b-ae14-12baee460d17",
   "metadata": {
    "execution": {
     "iopub.execute_input": "2025-08-05T15:50:10.275108Z",
     "iopub.status.busy": "2025-08-05T15:50:10.274353Z",
     "iopub.status.idle": "2025-08-05T15:50:10.280053Z",
     "shell.execute_reply": "2025-08-05T15:50:10.279248Z"
    },
    "papermill": {
     "duration": 0.0203,
     "end_time": "2025-08-05T15:50:10.281529",
     "exception": false,
     "start_time": "2025-08-05T15:50:10.261229",
     "status": "completed"
    },
    "tags": []
   },
   "outputs": [],
   "source": [
    "example_universe = universe.copy()\n",
    "universe_training_year = example_universe.get(\"training_year\")\n",
    "universe_training_size = example_universe.get(\"training_size\")\n",
    "universe_scale = example_universe.get(\"scale\")\n",
    "universe_model = example_universe.get(\"model\")\n",
    "universe_exclude_features = example_universe.get(\"exclude_features\")\n",
    "universe_exclude_subgroups = example_universe.get(\"exclude_subgroups\")"
   ]
  },
  {
   "cell_type": "code",
   "execution_count": 47,
   "id": "f4b6a8ac-9dc0-4245-8a91-5b3b5999c4f9",
   "metadata": {
    "execution": {
     "iopub.execute_input": "2025-08-05T15:50:10.307053Z",
     "iopub.status.busy": "2025-08-05T15:50:10.306535Z",
     "iopub.status.idle": "2025-08-05T15:50:10.312578Z",
     "shell.execute_reply": "2025-08-05T15:50:10.311801Z"
    },
    "papermill": {
     "duration": 0.020256,
     "end_time": "2025-08-05T15:50:10.314228",
     "exception": false,
     "start_time": "2025-08-05T15:50:10.293972",
     "status": "completed"
    },
    "tags": []
   },
   "outputs": [],
   "source": [
    "cp_metrics_dict = {\n",
    "    \"universe_id\": [universe_id],\n",
    "    \"universe_training_year\": [universe_training_year],\n",
    "    \"universe_training_size\": [universe_training_size],\n",
    "    \"universe_scale\": [universe_scale],\n",
    "    \"universe_model\": [universe_model],\n",
    "    \"universe_exclude_features\": [universe_exclude_features],\n",
    "    \"universe_exclude_subgroups\": [universe_exclude_subgroups],\n",
    "    \"q_hat\": [q_hat],\n",
    "    \"coverage\": [metrics[\"coverage\"]],\n",
    "    \"avg_size\": [metrics[\"avg_size\"]],\n",
    "}"
   ]
  },
  {
   "cell_type": "code",
   "execution_count": 48,
   "id": "908acbb1-0371-4915-85ca-3fa520d2efe2",
   "metadata": {
    "execution": {
     "iopub.execute_input": "2025-08-05T15:50:10.339468Z",
     "iopub.status.busy": "2025-08-05T15:50:10.338614Z",
     "iopub.status.idle": "2025-08-05T15:50:10.345776Z",
     "shell.execute_reply": "2025-08-05T15:50:10.344892Z"
    },
    "papermill": {
     "duration": 0.020925,
     "end_time": "2025-08-05T15:50:10.347249",
     "exception": false,
     "start_time": "2025-08-05T15:50:10.326324",
     "status": "completed"
    },
    "tags": []
   },
   "outputs": [
    {
     "data": {
      "text/plain": [
       "{'universe_id': ['0b1c61614e8790341347c9ab5213c2fc'],\n",
       " 'universe_training_year': ['2010_14'],\n",
       " 'universe_training_size': ['5k'],\n",
       " 'universe_scale': ['scale'],\n",
       " 'universe_model': ['penalized_logreg'],\n",
       " 'universe_exclude_features': ['age'],\n",
       " 'universe_exclude_subgroups': ['keep-all'],\n",
       " 'q_hat': [0.6846979173478935],\n",
       " 'coverage': [0.9107345892319697],\n",
       " 'avg_size': [1.146349347898785]}"
      ]
     },
     "execution_count": 48,
     "metadata": {},
     "output_type": "execute_result"
    }
   ],
   "source": [
    "cp_metrics_dict"
   ]
  },
  {
   "cell_type": "code",
   "execution_count": 49,
   "id": "33007efc-14e9-4ec6-97ac-56a455c82265",
   "metadata": {
    "execution": {
     "iopub.execute_input": "2025-08-05T15:50:10.385651Z",
     "iopub.status.busy": "2025-08-05T15:50:10.385113Z",
     "iopub.status.idle": "2025-08-05T15:50:10.391769Z",
     "shell.execute_reply": "2025-08-05T15:50:10.390757Z"
    },
    "papermill": {
     "duration": 0.033106,
     "end_time": "2025-08-05T15:50:10.393687",
     "exception": false,
     "start_time": "2025-08-05T15:50:10.360581",
     "status": "completed"
    },
    "tags": []
   },
   "outputs": [],
   "source": [
    "cp_metrics_df = pd.DataFrame(cp_metrics_dict)"
   ]
  },
  {
   "cell_type": "code",
   "execution_count": 50,
   "id": "db12611b-57b2-4910-b9d0-355adfd6e7bf",
   "metadata": {
    "execution": {
     "iopub.execute_input": "2025-08-05T15:50:10.442270Z",
     "iopub.status.busy": "2025-08-05T15:50:10.441791Z",
     "iopub.status.idle": "2025-08-05T15:50:10.456361Z",
     "shell.execute_reply": "2025-08-05T15:50:10.455590Z"
    },
    "papermill": {
     "duration": 0.039385,
     "end_time": "2025-08-05T15:50:10.457689",
     "exception": false,
     "start_time": "2025-08-05T15:50:10.418304",
     "status": "completed"
    },
    "tags": []
   },
   "outputs": [
    {
     "data": {
      "text/html": [
       "<div>\n",
       "<style scoped>\n",
       "    .dataframe tbody tr th:only-of-type {\n",
       "        vertical-align: middle;\n",
       "    }\n",
       "\n",
       "    .dataframe tbody tr th {\n",
       "        vertical-align: top;\n",
       "    }\n",
       "\n",
       "    .dataframe thead th {\n",
       "        text-align: right;\n",
       "    }\n",
       "</style>\n",
       "<table border=\"1\" class=\"dataframe\">\n",
       "  <thead>\n",
       "    <tr style=\"text-align: right;\">\n",
       "      <th></th>\n",
       "      <th>universe_id</th>\n",
       "      <th>universe_training_year</th>\n",
       "      <th>universe_training_size</th>\n",
       "      <th>universe_scale</th>\n",
       "      <th>universe_model</th>\n",
       "      <th>universe_exclude_features</th>\n",
       "      <th>universe_exclude_subgroups</th>\n",
       "      <th>q_hat</th>\n",
       "      <th>coverage</th>\n",
       "      <th>avg_size</th>\n",
       "    </tr>\n",
       "  </thead>\n",
       "  <tbody>\n",
       "    <tr>\n",
       "      <th>0</th>\n",
       "      <td>0b1c61614e8790341347c9ab5213c2fc</td>\n",
       "      <td>2010_14</td>\n",
       "      <td>5k</td>\n",
       "      <td>scale</td>\n",
       "      <td>penalized_logreg</td>\n",
       "      <td>age</td>\n",
       "      <td>keep-all</td>\n",
       "      <td>0.684698</td>\n",
       "      <td>0.910735</td>\n",
       "      <td>1.146349</td>\n",
       "    </tr>\n",
       "  </tbody>\n",
       "</table>\n",
       "</div>"
      ],
      "text/plain": [
       "                        universe_id universe_training_year  \\\n",
       "0  0b1c61614e8790341347c9ab5213c2fc                2010_14   \n",
       "\n",
       "  universe_training_size universe_scale    universe_model  \\\n",
       "0                     5k          scale  penalized_logreg   \n",
       "\n",
       "  universe_exclude_features universe_exclude_subgroups     q_hat  coverage  \\\n",
       "0                       age                   keep-all  0.684698  0.910735   \n",
       "\n",
       "   avg_size  \n",
       "0  1.146349  "
      ]
     },
     "execution_count": 50,
     "metadata": {},
     "output_type": "execute_result"
    }
   ],
   "source": [
    "cp_metrics_df"
   ]
  },
  {
   "cell_type": "code",
   "execution_count": 51,
   "id": "b7fbde55-a0a1-47e4-9af6-fe4a17fa8c61",
   "metadata": {
    "execution": {
     "iopub.execute_input": "2025-08-05T15:50:10.482542Z",
     "iopub.status.busy": "2025-08-05T15:50:10.482140Z",
     "iopub.status.idle": "2025-08-05T15:50:10.486997Z",
     "shell.execute_reply": "2025-08-05T15:50:10.486150Z"
    },
    "papermill": {
     "duration": 0.018234,
     "end_time": "2025-08-05T15:50:10.488268",
     "exception": false,
     "start_time": "2025-08-05T15:50:10.470034",
     "status": "completed"
    },
    "tags": []
   },
   "outputs": [],
   "source": [
    "# Conditional Coverage & looking at subgroups"
   ]
  },
  {
   "cell_type": "code",
   "execution_count": 52,
   "id": "027ae886-68dd-4141-96c7-805a5450e1ef",
   "metadata": {
    "execution": {
     "iopub.execute_input": "2025-08-05T15:50:10.516477Z",
     "iopub.status.busy": "2025-08-05T15:50:10.516013Z",
     "iopub.status.idle": "2025-08-05T15:50:10.805560Z",
     "shell.execute_reply": "2025-08-05T15:50:10.804445Z"
    },
    "papermill": {
     "duration": 0.307062,
     "end_time": "2025-08-05T15:50:10.807661",
     "exception": false,
     "start_time": "2025-08-05T15:50:10.500599",
     "status": "completed"
    },
    "tags": []
   },
   "outputs": [],
   "source": [
    "from fairness_multiverse.conformal import build_cp_groups\n",
    "\n",
    "cp_groups_df = build_cp_groups(pred_sets, y_true, X_test.index, org_test)\n",
    "#needs universe_id and setting"
   ]
  },
  {
   "cell_type": "code",
   "execution_count": 53,
   "id": "6cbdab96-b2b2-45af-ad54-d0516db2e28d",
   "metadata": {
    "execution": {
     "iopub.execute_input": "2025-08-05T15:50:10.862834Z",
     "iopub.status.busy": "2025-08-05T15:50:10.862314Z",
     "iopub.status.idle": "2025-08-05T15:50:11.956418Z",
     "shell.execute_reply": "2025-08-05T15:50:11.955398Z"
    },
    "papermill": {
     "duration": 1.12385,
     "end_time": "2025-08-05T15:50:11.958325",
     "exception": false,
     "start_time": "2025-08-05T15:50:10.834475",
     "status": "completed"
    },
    "tags": []
   },
   "outputs": [],
   "source": [
    "# Define covered = 1 if true_label is in the predicted set\n",
    "cp_groups_df['covered'] = cp_groups_df.apply(\n",
    "    lambda r: int(r['true_label'] in r['pred_set']),\n",
    "    axis=1\n",
    ")"
   ]
  },
  {
   "cell_type": "code",
   "execution_count": 54,
   "id": "338ff529-1a6b-4b87-a931-8e4788d52aad",
   "metadata": {
    "execution": {
     "iopub.execute_input": "2025-08-05T15:50:12.016790Z",
     "iopub.status.busy": "2025-08-05T15:50:12.016301Z",
     "iopub.status.idle": "2025-08-05T15:50:12.022046Z",
     "shell.execute_reply": "2025-08-05T15:50:12.020771Z"
    },
    "papermill": {
     "duration": 0.034528,
     "end_time": "2025-08-05T15:50:12.024142",
     "exception": false,
     "start_time": "2025-08-05T15:50:11.989614",
     "status": "completed"
    },
    "tags": []
   },
   "outputs": [],
   "source": [
    "#cp_groups_df"
   ]
  },
  {
   "cell_type": "code",
   "execution_count": 55,
   "id": "90032e27-66df-4540-9169-4e89cfbaa758",
   "metadata": {
    "execution": {
     "iopub.execute_input": "2025-08-05T15:50:12.074602Z",
     "iopub.status.busy": "2025-08-05T15:50:12.074021Z",
     "iopub.status.idle": "2025-08-05T15:50:12.087199Z",
     "shell.execute_reply": "2025-08-05T15:50:12.085824Z"
    },
    "papermill": {
     "duration": 0.039194,
     "end_time": "2025-08-05T15:50:12.089656",
     "exception": false,
     "start_time": "2025-08-05T15:50:12.050462",
     "status": "completed"
    },
    "tags": []
   },
   "outputs": [],
   "source": [
    "subgroups = ['frau1','nongerman','nongerman_male','nongerman_female']\n",
    "\n",
    "# Conditional coverage for subgroup==1\n",
    "cond_coverage = {\n",
    "    g: cp_groups_df.loc[cp_groups_df[g]==1, 'covered'].mean()\n",
    "    for g in subgroups\n",
    "}"
   ]
  },
  {
   "cell_type": "code",
   "execution_count": 56,
   "id": "1e348fb1-b9c3-45bc-ba23-f016827a7e0d",
   "metadata": {
    "execution": {
     "iopub.execute_input": "2025-08-05T15:50:12.138800Z",
     "iopub.status.busy": "2025-08-05T15:50:12.138333Z",
     "iopub.status.idle": "2025-08-05T15:50:12.154438Z",
     "shell.execute_reply": "2025-08-05T15:50:12.152997Z"
    },
    "papermill": {
     "duration": 0.042546,
     "end_time": "2025-08-05T15:50:12.156087",
     "exception": false,
     "start_time": "2025-08-05T15:50:12.113541",
     "status": "completed"
    },
    "tags": []
   },
   "outputs": [
    {
     "data": {
      "text/plain": [
       "{'frau1': 0.9078042862919531,\n",
       " 'nongerman': 0.9089429068657722,\n",
       " 'nongerman_male': 0.9253354949112852,\n",
       " 'nongerman_female': 0.8818181818181818}"
      ]
     },
     "execution_count": 56,
     "metadata": {},
     "output_type": "execute_result"
    }
   ],
   "source": [
    "cond_coverage"
   ]
  },
  {
   "cell_type": "code",
   "execution_count": 57,
   "id": "f5093324-c3dd-4d63-bc4c-8d945e5c8bbb",
   "metadata": {
    "execution": {
     "iopub.execute_input": "2025-08-05T15:50:12.204567Z",
     "iopub.status.busy": "2025-08-05T15:50:12.203883Z",
     "iopub.status.idle": "2025-08-05T15:50:12.211473Z",
     "shell.execute_reply": "2025-08-05T15:50:12.210434Z"
    },
    "papermill": {
     "duration": 0.033917,
     "end_time": "2025-08-05T15:50:12.213250",
     "exception": false,
     "start_time": "2025-08-05T15:50:12.179333",
     "status": "completed"
    },
    "tags": []
   },
   "outputs": [],
   "source": [
    "for subgroup, cov in cond_coverage.items():\n",
    "    cp_metrics_df[f\"cov_{subgroup}\"] = cov"
   ]
  },
  {
   "cell_type": "code",
   "execution_count": 58,
   "id": "6e872e10-dbe5-49e8-b554-5030c98ff75d",
   "metadata": {
    "execution": {
     "iopub.execute_input": "2025-08-05T15:50:12.262173Z",
     "iopub.status.busy": "2025-08-05T15:50:12.261352Z",
     "iopub.status.idle": "2025-08-05T15:50:12.280527Z",
     "shell.execute_reply": "2025-08-05T15:50:12.279259Z"
    },
    "papermill": {
     "duration": 0.044803,
     "end_time": "2025-08-05T15:50:12.282286",
     "exception": false,
     "start_time": "2025-08-05T15:50:12.237483",
     "status": "completed"
    },
    "tags": []
   },
   "outputs": [
    {
     "data": {
      "text/html": [
       "<div>\n",
       "<style scoped>\n",
       "    .dataframe tbody tr th:only-of-type {\n",
       "        vertical-align: middle;\n",
       "    }\n",
       "\n",
       "    .dataframe tbody tr th {\n",
       "        vertical-align: top;\n",
       "    }\n",
       "\n",
       "    .dataframe thead th {\n",
       "        text-align: right;\n",
       "    }\n",
       "</style>\n",
       "<table border=\"1\" class=\"dataframe\">\n",
       "  <thead>\n",
       "    <tr style=\"text-align: right;\">\n",
       "      <th></th>\n",
       "      <th>universe_id</th>\n",
       "      <th>universe_training_year</th>\n",
       "      <th>universe_training_size</th>\n",
       "      <th>universe_scale</th>\n",
       "      <th>universe_model</th>\n",
       "      <th>universe_exclude_features</th>\n",
       "      <th>universe_exclude_subgroups</th>\n",
       "      <th>q_hat</th>\n",
       "      <th>coverage</th>\n",
       "      <th>avg_size</th>\n",
       "      <th>cov_frau1</th>\n",
       "      <th>cov_nongerman</th>\n",
       "      <th>cov_nongerman_male</th>\n",
       "      <th>cov_nongerman_female</th>\n",
       "    </tr>\n",
       "  </thead>\n",
       "  <tbody>\n",
       "    <tr>\n",
       "      <th>0</th>\n",
       "      <td>0b1c61614e8790341347c9ab5213c2fc</td>\n",
       "      <td>2010_14</td>\n",
       "      <td>5k</td>\n",
       "      <td>scale</td>\n",
       "      <td>penalized_logreg</td>\n",
       "      <td>age</td>\n",
       "      <td>keep-all</td>\n",
       "      <td>0.684698</td>\n",
       "      <td>0.910735</td>\n",
       "      <td>1.146349</td>\n",
       "      <td>0.907804</td>\n",
       "      <td>0.908943</td>\n",
       "      <td>0.925335</td>\n",
       "      <td>0.881818</td>\n",
       "    </tr>\n",
       "  </tbody>\n",
       "</table>\n",
       "</div>"
      ],
      "text/plain": [
       "                        universe_id universe_training_year  \\\n",
       "0  0b1c61614e8790341347c9ab5213c2fc                2010_14   \n",
       "\n",
       "  universe_training_size universe_scale    universe_model  \\\n",
       "0                     5k          scale  penalized_logreg   \n",
       "\n",
       "  universe_exclude_features universe_exclude_subgroups     q_hat  coverage  \\\n",
       "0                       age                   keep-all  0.684698  0.910735   \n",
       "\n",
       "   avg_size  cov_frau1  cov_nongerman  cov_nongerman_male  \\\n",
       "0  1.146349   0.907804       0.908943            0.925335   \n",
       "\n",
       "   cov_nongerman_female  \n",
       "0              0.881818  "
      ]
     },
     "execution_count": 58,
     "metadata": {},
     "output_type": "execute_result"
    }
   ],
   "source": [
    "cp_metrics_df"
   ]
  },
  {
   "cell_type": "markdown",
   "id": "33774451",
   "metadata": {
    "papermill": {
     "duration": 0.023132,
     "end_time": "2025-08-05T15:50:12.330219",
     "exception": false,
     "start_time": "2025-08-05T15:50:12.307087",
     "status": "completed"
    },
    "tags": []
   },
   "source": [
    "# (Fairness) Metrics"
   ]
  },
  {
   "cell_type": "code",
   "execution_count": 59,
   "id": "debc5d62",
   "metadata": {
    "execution": {
     "iopub.execute_input": "2025-08-05T15:50:12.361431Z",
     "iopub.status.busy": "2025-08-05T15:50:12.361046Z",
     "iopub.status.idle": "2025-08-05T15:50:12.376371Z",
     "shell.execute_reply": "2025-08-05T15:50:12.375560Z"
    },
    "papermill": {
     "duration": 0.031119,
     "end_time": "2025-08-05T15:50:12.378245",
     "exception": false,
     "start_time": "2025-08-05T15:50:12.347126",
     "status": "completed"
    },
    "tags": []
   },
   "outputs": [],
   "source": [
    "# do I need to include maxdeutsch1.missing?\n",
    "\n",
    "import numpy as np\n",
    "\n",
    "colname_to_bin = \"maxdeutsch1\"\n",
    "majority_value = org_train[colname_to_bin].mode()[0]\n",
    "\n",
    "org_test[\"majmin\"] = np.where(org_test[colname_to_bin] == majority_value, \"majority\", \"minority\")"
   ]
  },
  {
   "cell_type": "code",
   "execution_count": 60,
   "id": "06a50de5",
   "metadata": {
    "execution": {
     "iopub.execute_input": "2025-08-05T15:50:12.404645Z",
     "iopub.status.busy": "2025-08-05T15:50:12.404121Z",
     "iopub.status.idle": "2025-08-05T15:50:14.691255Z",
     "shell.execute_reply": "2025-08-05T15:50:14.690314Z"
    },
    "papermill": {
     "duration": 2.303112,
     "end_time": "2025-08-05T15:50:14.693977",
     "exception": false,
     "start_time": "2025-08-05T15:50:12.390865",
     "status": "completed"
    },
    "tags": []
   },
   "outputs": [],
   "source": [
    "example_universe = universe.copy()\n",
    "example_universe[\"cutoff\"] = example_universe[\"cutoff\"][0]\n",
    "example_universe[\"eval_fairness_grouping\"] = example_universe[\"eval_fairness_grouping\"][0]\n",
    "fairness_dict, metric_frame = universe_analysis.compute_metrics(\n",
    "    example_universe,\n",
    "    y_pred_prob=probs_test,\n",
    "    y_test=y_true,\n",
    "    org_test=org_test,\n",
    ")"
   ]
  },
  {
   "cell_type": "markdown",
   "id": "f95d4e02",
   "metadata": {
    "papermill": {
     "duration": 0.033196,
     "end_time": "2025-08-05T15:50:14.764398",
     "exception": false,
     "start_time": "2025-08-05T15:50:14.731202",
     "status": "completed"
    },
    "tags": []
   },
   "source": [
    "# Overall"
   ]
  },
  {
   "cell_type": "markdown",
   "id": "bdee4871",
   "metadata": {
    "papermill": {
     "duration": 0.033534,
     "end_time": "2025-08-05T15:50:14.831315",
     "exception": false,
     "start_time": "2025-08-05T15:50:14.797781",
     "status": "completed"
    },
    "tags": []
   },
   "source": [
    "Fairness\n",
    "Main fairness target: Equalized Odds. Seems to be a better fit than equal opportunity, since we're not only interested in Y = 1. Seems to be a better fit than demographic parity, since we also care about accuracy, not just equal distribution of preds.\n",
    "\n",
    "Pick column for computation of fairness metrics\n",
    "\n",
    "Performance\n",
    "Overall performance measures, most interesting in relation to the measures split by group below"
   ]
  },
  {
   "cell_type": "code",
   "execution_count": 61,
   "id": "c4e067c6",
   "metadata": {
    "execution": {
     "iopub.execute_input": "2025-08-05T15:50:14.898842Z",
     "iopub.status.busy": "2025-08-05T15:50:14.898310Z",
     "iopub.status.idle": "2025-08-05T15:50:14.908638Z",
     "shell.execute_reply": "2025-08-05T15:50:14.907328Z"
    },
    "papermill": {
     "duration": 0.046041,
     "end_time": "2025-08-05T15:50:14.910963",
     "exception": false,
     "start_time": "2025-08-05T15:50:14.864922",
     "status": "completed"
    },
    "tags": []
   },
   "outputs": [
    {
     "data": {
      "text/plain": [
       "accuracy                   0.223353\n",
       "balanced accuracy          0.546343\n",
       "f1                         0.244713\n",
       "precision                  0.139796\n",
       "false positive rate        0.888110\n",
       "false negative rate        0.019204\n",
       "selection rate             0.900000\n",
       "count                  89710.000000\n",
       "dtype: float64"
      ]
     },
     "execution_count": 61,
     "metadata": {},
     "output_type": "execute_result"
    }
   ],
   "source": [
    "metric_frame.overall"
   ]
  },
  {
   "cell_type": "markdown",
   "id": "e968fe9d",
   "metadata": {
    "papermill": {
     "duration": 0.033691,
     "end_time": "2025-08-05T15:50:14.979250",
     "exception": false,
     "start_time": "2025-08-05T15:50:14.945559",
     "status": "completed"
    },
    "tags": []
   },
   "source": [
    "By Group"
   ]
  },
  {
   "cell_type": "code",
   "execution_count": 62,
   "id": "ec325bce",
   "metadata": {
    "execution": {
     "iopub.execute_input": "2025-08-05T15:50:15.042928Z",
     "iopub.status.busy": "2025-08-05T15:50:15.042125Z",
     "iopub.status.idle": "2025-08-05T15:50:15.055758Z",
     "shell.execute_reply": "2025-08-05T15:50:15.054664Z"
    },
    "papermill": {
     "duration": 0.045927,
     "end_time": "2025-08-05T15:50:15.057604",
     "exception": false,
     "start_time": "2025-08-05T15:50:15.011677",
     "status": "completed"
    },
    "tags": []
   },
   "outputs": [
    {
     "data": {
      "text/html": [
       "<div>\n",
       "<style scoped>\n",
       "    .dataframe tbody tr th:only-of-type {\n",
       "        vertical-align: middle;\n",
       "    }\n",
       "\n",
       "    .dataframe tbody tr th {\n",
       "        vertical-align: top;\n",
       "    }\n",
       "\n",
       "    .dataframe thead th {\n",
       "        text-align: right;\n",
       "    }\n",
       "</style>\n",
       "<table border=\"1\" class=\"dataframe\">\n",
       "  <thead>\n",
       "    <tr style=\"text-align: right;\">\n",
       "      <th></th>\n",
       "      <th>accuracy</th>\n",
       "      <th>balanced accuracy</th>\n",
       "      <th>f1</th>\n",
       "      <th>precision</th>\n",
       "      <th>false positive rate</th>\n",
       "      <th>false negative rate</th>\n",
       "      <th>selection rate</th>\n",
       "      <th>count</th>\n",
       "    </tr>\n",
       "    <tr>\n",
       "      <th>majmin</th>\n",
       "      <th></th>\n",
       "      <th></th>\n",
       "      <th></th>\n",
       "      <th></th>\n",
       "      <th></th>\n",
       "      <th></th>\n",
       "      <th></th>\n",
       "      <th></th>\n",
       "    </tr>\n",
       "  </thead>\n",
       "  <tbody>\n",
       "    <tr>\n",
       "      <th>majority</th>\n",
       "      <td>0.244774</td>\n",
       "      <td>0.556081</td>\n",
       "      <td>0.255208</td>\n",
       "      <td>0.146724</td>\n",
       "      <td>0.867050</td>\n",
       "      <td>0.020788</td>\n",
       "      <td>0.881871</td>\n",
       "      <td>69170.0</td>\n",
       "    </tr>\n",
       "    <tr>\n",
       "      <th>minority</th>\n",
       "      <td>0.151217</td>\n",
       "      <td>0.514613</td>\n",
       "      <td>0.211417</td>\n",
       "      <td>0.118389</td>\n",
       "      <td>0.957682</td>\n",
       "      <td>0.013091</td>\n",
       "      <td>0.961052</td>\n",
       "      <td>20540.0</td>\n",
       "    </tr>\n",
       "  </tbody>\n",
       "</table>\n",
       "</div>"
      ],
      "text/plain": [
       "          accuracy  balanced accuracy        f1  precision  \\\n",
       "majmin                                                       \n",
       "majority  0.244774           0.556081  0.255208   0.146724   \n",
       "minority  0.151217           0.514613  0.211417   0.118389   \n",
       "\n",
       "          false positive rate  false negative rate  selection rate    count  \n",
       "majmin                                                                       \n",
       "majority             0.867050             0.020788        0.881871  69170.0  \n",
       "minority             0.957682             0.013091        0.961052  20540.0  "
      ]
     },
     "execution_count": 62,
     "metadata": {},
     "output_type": "execute_result"
    }
   ],
   "source": [
    "metric_frame.by_group"
   ]
  },
  {
   "cell_type": "code",
   "execution_count": 63,
   "id": "a9ddbe63",
   "metadata": {
    "execution": {
     "iopub.execute_input": "2025-08-05T15:50:15.112398Z",
     "iopub.status.busy": "2025-08-05T15:50:15.111882Z",
     "iopub.status.idle": "2025-08-05T15:50:17.720167Z",
     "shell.execute_reply": "2025-08-05T15:50:17.718938Z"
    },
    "papermill": {
     "duration": 2.637685,
     "end_time": "2025-08-05T15:50:17.722112",
     "exception": false,
     "start_time": "2025-08-05T15:50:15.084427",
     "status": "completed"
    },
    "tags": []
   },
   "outputs": [
    {
     "data": {
      "text/plain": [
       "array([[<Axes: title={'center': 'accuracy'}, xlabel='majmin'>,\n",
       "        <Axes: title={'center': 'balanced accuracy'}, xlabel='majmin'>,\n",
       "        <Axes: title={'center': 'f1'}, xlabel='majmin'>],\n",
       "       [<Axes: title={'center': 'precision'}, xlabel='majmin'>,\n",
       "        <Axes: title={'center': 'false positive rate'}, xlabel='majmin'>,\n",
       "        <Axes: title={'center': 'false negative rate'}, xlabel='majmin'>],\n",
       "       [<Axes: title={'center': 'selection rate'}, xlabel='majmin'>,\n",
       "        <Axes: title={'center': 'count'}, xlabel='majmin'>,\n",
       "        <Axes: xlabel='majmin'>]], dtype=object)"
      ]
     },
     "execution_count": 63,
     "metadata": {},
     "output_type": "execute_result"
    },
    {
     "data": {
      "image/png": "[encoded data removed]",
      "text/plain": [
       "<Figure size 1200x800 with 9 Axes>"
      ]
     },
     "metadata": {},
     "output_type": "display_data"
    }
   ],
   "source": [
    "# In a graphic\n",
    "metric_frame.by_group.plot.bar(\n",
    "    subplots=True,\n",
    "    layout=[3, 3],\n",
    "    legend=False,\n",
    "    figsize=[12, 8],\n",
    "    title=\"Show all metrics\",\n",
    ")"
   ]
  },
  {
   "cell_type": "markdown",
   "id": "f57a0bac",
   "metadata": {
    "papermill": {
     "duration": 0.026101,
     "end_time": "2025-08-05T15:50:17.777944",
     "exception": false,
     "start_time": "2025-08-05T15:50:17.751843",
     "status": "completed"
    },
    "tags": []
   },
   "source": [
    "# Final Output"
   ]
  },
  {
   "cell_type": "code",
   "execution_count": 64,
   "id": "96d280a3",
   "metadata": {
    "execution": {
     "iopub.execute_input": "2025-08-05T15:50:17.831264Z",
     "iopub.status.busy": "2025-08-05T15:50:17.830577Z",
     "iopub.status.idle": "2025-08-05T15:50:17.839977Z",
     "shell.execute_reply": "2025-08-05T15:50:17.838928Z"
    },
    "papermill": {
     "duration": 0.03733,
     "end_time": "2025-08-05T15:50:17.841328",
     "exception": false,
     "start_time": "2025-08-05T15:50:17.803998",
     "status": "completed"
    },
    "tags": []
   },
   "outputs": [
    {
     "data": {
      "text/plain": [
       "4"
      ]
     },
     "execution_count": 64,
     "metadata": {},
     "output_type": "execute_result"
    }
   ],
   "source": [
    "sub_universes = universe_analysis.generate_sub_universes()\n",
    "len(sub_universes)"
   ]
  },
  {
   "cell_type": "code",
   "execution_count": 65,
   "id": "92adf7ba",
   "metadata": {
    "execution": {
     "iopub.execute_input": "2025-08-05T15:50:17.899429Z",
     "iopub.status.busy": "2025-08-05T15:50:17.898905Z",
     "iopub.status.idle": "2025-08-05T15:50:17.905490Z",
     "shell.execute_reply": "2025-08-05T15:50:17.904313Z"
    },
    "papermill": {
     "duration": 0.037395,
     "end_time": "2025-08-05T15:50:17.907487",
     "exception": false,
     "start_time": "2025-08-05T15:50:17.870092",
     "status": "completed"
    },
    "tags": []
   },
   "outputs": [],
   "source": [
    "def filter_sub_universe_data(sub_universe, org_test):\n",
    "    # Keep all rows — no filtering\n",
    "    keep_rows_mask = np.ones(org_test.shape[0], dtype=bool)\n",
    "\n",
    "    print(f\"[INFO] Keeping all rows: {keep_rows_mask.sum()} rows retained.\")\n",
    "    return keep_rows_mask"
   ]
  },
  {
   "cell_type": "code",
   "execution_count": 66,
   "id": "4a759155",
   "metadata": {
    "execution": {
     "iopub.execute_input": "2025-08-05T15:50:17.963826Z",
     "iopub.status.busy": "2025-08-05T15:50:17.963064Z",
     "iopub.status.idle": "2025-08-05T15:50:27.304716Z",
     "shell.execute_reply": "2025-08-05T15:50:27.303725Z"
    },
    "papermill": {
     "duration": 9.370382,
     "end_time": "2025-08-05T15:50:27.306573",
     "exception": false,
     "start_time": "2025-08-05T15:50:17.936191",
     "status": "completed"
    },
    "tags": []
   },
   "outputs": [
    {
     "name": "stdout",
     "output_type": "stream",
     "text": [
      "Stopping execution_time clock.\n",
      "[INFO] Keeping all rows: 89710 rows retained.\n"
     ]
    },
    {
     "name": "stdout",
     "output_type": "stream",
     "text": [
      "[INFO] Keeping all rows: 89710 rows retained.\n"
     ]
    },
    {
     "name": "stdout",
     "output_type": "stream",
     "text": [
      "[INFO] Keeping all rows: 89710 rows retained.\n"
     ]
    },
    {
     "name": "stdout",
     "output_type": "stream",
     "text": [
      "[INFO] Keeping all rows: 89710 rows retained.\n"
     ]
    },
    {
     "data": {
      "text/html": [
       "<div>\n",
       "<style scoped>\n",
       "    .dataframe tbody tr th:only-of-type {\n",
       "        vertical-align: middle;\n",
       "    }\n",
       "\n",
       "    .dataframe tbody tr th {\n",
       "        vertical-align: top;\n",
       "    }\n",
       "\n",
       "    .dataframe thead th {\n",
       "        text-align: right;\n",
       "    }\n",
       "</style>\n",
       "<table border=\"1\" class=\"dataframe\">\n",
       "  <thead>\n",
       "    <tr style=\"text-align: right;\">\n",
       "      <th></th>\n",
       "      <th>run_no</th>\n",
       "      <th>universe_id</th>\n",
       "      <th>universe_settings</th>\n",
       "      <th>execution_time</th>\n",
       "      <th>test_size_n</th>\n",
       "      <th>test_size_frac</th>\n",
       "      <th>fair_main_equalized_odds_difference</th>\n",
       "      <th>fair_main_equalized_odds_ratio</th>\n",
       "      <th>fair_main_demographic_parity_difference</th>\n",
       "      <th>fair_main_demographic_parity_ratio</th>\n",
       "      <th>...</th>\n",
       "      <th>perf_grp_precision_0</th>\n",
       "      <th>perf_grp_precision_1</th>\n",
       "      <th>perf_grp_false positive rate_0</th>\n",
       "      <th>perf_grp_false positive rate_1</th>\n",
       "      <th>perf_grp_false negative rate_0</th>\n",
       "      <th>perf_grp_false negative rate_1</th>\n",
       "      <th>perf_grp_selection rate_0</th>\n",
       "      <th>perf_grp_selection rate_1</th>\n",
       "      <th>perf_grp_count_0</th>\n",
       "      <th>perf_grp_count_1</th>\n",
       "    </tr>\n",
       "  </thead>\n",
       "  <tbody>\n",
       "    <tr>\n",
       "      <th>0</th>\n",
       "      <td>15</td>\n",
       "      <td>0b1c61614e8790341347c9ab5213c2fc</td>\n",
       "      <td>{\"cutoff\": \"quantile_0.1\", \"eval_fairness_grou...</td>\n",
       "      <td>24.981287</td>\n",
       "      <td>89710</td>\n",
       "      <td>1.0</td>\n",
       "      <td>0.090632</td>\n",
       "      <td>0.905363</td>\n",
       "      <td>0.079181</td>\n",
       "      <td>0.917610</td>\n",
       "      <td>...</td>\n",
       "      <td>NaN</td>\n",
       "      <td>NaN</td>\n",
       "      <td>NaN</td>\n",
       "      <td>NaN</td>\n",
       "      <td>NaN</td>\n",
       "      <td>NaN</td>\n",
       "      <td>NaN</td>\n",
       "      <td>NaN</td>\n",
       "      <td>NaN</td>\n",
       "      <td>NaN</td>\n",
       "    </tr>\n",
       "    <tr>\n",
       "      <th>0</th>\n",
       "      <td>15</td>\n",
       "      <td>0b1c61614e8790341347c9ab5213c2fc</td>\n",
       "      <td>{\"cutoff\": \"quantile_0.1\", \"eval_fairness_grou...</td>\n",
       "      <td>24.981287</td>\n",
       "      <td>89710</td>\n",
       "      <td>1.0</td>\n",
       "      <td>0.090632</td>\n",
       "      <td>0.905363</td>\n",
       "      <td>0.079181</td>\n",
       "      <td>0.917610</td>\n",
       "      <td>...</td>\n",
       "      <td>0.118389</td>\n",
       "      <td>0.146724</td>\n",
       "      <td>0.957682</td>\n",
       "      <td>0.867050</td>\n",
       "      <td>0.013091</td>\n",
       "      <td>0.020788</td>\n",
       "      <td>0.961052</td>\n",
       "      <td>0.881871</td>\n",
       "      <td>20540.0</td>\n",
       "      <td>69170.0</td>\n",
       "    </tr>\n",
       "    <tr>\n",
       "      <th>0</th>\n",
       "      <td>15</td>\n",
       "      <td>0b1c61614e8790341347c9ab5213c2fc</td>\n",
       "      <td>{\"cutoff\": \"quantile_0.25\", \"eval_fairness_gro...</td>\n",
       "      <td>24.981287</td>\n",
       "      <td>89710</td>\n",
       "      <td>1.0</td>\n",
       "      <td>0.178257</td>\n",
       "      <td>0.792844</td>\n",
       "      <td>0.156790</td>\n",
       "      <td>0.819965</td>\n",
       "      <td>...</td>\n",
       "      <td>NaN</td>\n",
       "      <td>NaN</td>\n",
       "      <td>NaN</td>\n",
       "      <td>NaN</td>\n",
       "      <td>NaN</td>\n",
       "      <td>NaN</td>\n",
       "      <td>NaN</td>\n",
       "      <td>NaN</td>\n",
       "      <td>NaN</td>\n",
       "      <td>NaN</td>\n",
       "    </tr>\n",
       "    <tr>\n",
       "      <th>0</th>\n",
       "      <td>15</td>\n",
       "      <td>0b1c61614e8790341347c9ab5213c2fc</td>\n",
       "      <td>{\"cutoff\": \"quantile_0.25\", \"eval_fairness_gro...</td>\n",
       "      <td>24.981287</td>\n",
       "      <td>89710</td>\n",
       "      <td>1.0</td>\n",
       "      <td>0.178257</td>\n",
       "      <td>0.792844</td>\n",
       "      <td>0.156790</td>\n",
       "      <td>0.819965</td>\n",
       "      <td>...</td>\n",
       "      <td>0.125839</td>\n",
       "      <td>0.170851</td>\n",
       "      <td>0.860500</td>\n",
       "      <td>0.682242</td>\n",
       "      <td>0.049409</td>\n",
       "      <td>0.076696</td>\n",
       "      <td>0.870886</td>\n",
       "      <td>0.714096</td>\n",
       "      <td>20540.0</td>\n",
       "      <td>69170.0</td>\n",
       "    </tr>\n",
       "  </tbody>\n",
       "</table>\n",
       "<p>4 rows × 50 columns</p>\n",
       "</div>"
      ],
      "text/plain": [
       "  run_no                       universe_id  \\\n",
       "0     15  0b1c61614e8790341347c9ab5213c2fc   \n",
       "0     15  0b1c61614e8790341347c9ab5213c2fc   \n",
       "0     15  0b1c61614e8790341347c9ab5213c2fc   \n",
       "0     15  0b1c61614e8790341347c9ab5213c2fc   \n",
       "\n",
       "                                   universe_settings  execution_time  \\\n",
       "0  {\"cutoff\": \"quantile_0.1\", \"eval_fairness_grou...       24.981287   \n",
       "0  {\"cutoff\": \"quantile_0.1\", \"eval_fairness_grou...       24.981287   \n",
       "0  {\"cutoff\": \"quantile_0.25\", \"eval_fairness_gro...       24.981287   \n",
       "0  {\"cutoff\": \"quantile_0.25\", \"eval_fairness_gro...       24.981287   \n",
       "\n",
       "   test_size_n  test_size_frac  fair_main_equalized_odds_difference  \\\n",
       "0        89710             1.0                             0.090632   \n",
       "0        89710             1.0                             0.090632   \n",
       "0        89710             1.0                             0.178257   \n",
       "0        89710             1.0                             0.178257   \n",
       "\n",
       "   fair_main_equalized_odds_ratio  fair_main_demographic_parity_difference  \\\n",
       "0                        0.905363                                 0.079181   \n",
       "0                        0.905363                                 0.079181   \n",
       "0                        0.792844                                 0.156790   \n",
       "0                        0.792844                                 0.156790   \n",
       "\n",
       "   fair_main_demographic_parity_ratio  ...  perf_grp_precision_0  \\\n",
       "0                            0.917610  ...                   NaN   \n",
       "0                            0.917610  ...              0.118389   \n",
       "0                            0.819965  ...                   NaN   \n",
       "0                            0.819965  ...              0.125839   \n",
       "\n",
       "   perf_grp_precision_1  perf_grp_false positive rate_0  \\\n",
       "0                   NaN                             NaN   \n",
       "0              0.146724                        0.957682   \n",
       "0                   NaN                             NaN   \n",
       "0              0.170851                        0.860500   \n",
       "\n",
       "   perf_grp_false positive rate_1  perf_grp_false negative rate_0  \\\n",
       "0                             NaN                             NaN   \n",
       "0                        0.867050                        0.013091   \n",
       "0                             NaN                             NaN   \n",
       "0                        0.682242                        0.049409   \n",
       "\n",
       "   perf_grp_false negative rate_1  perf_grp_selection rate_0  \\\n",
       "0                             NaN                        NaN   \n",
       "0                        0.020788                   0.961052   \n",
       "0                             NaN                        NaN   \n",
       "0                        0.076696                   0.870886   \n",
       "\n",
       "   perf_grp_selection rate_1  perf_grp_count_0  perf_grp_count_1  \n",
       "0                        NaN               NaN               NaN  \n",
       "0                   0.881871           20540.0           69170.0  \n",
       "0                        NaN               NaN               NaN  \n",
       "0                   0.714096           20540.0           69170.0  \n",
       "\n",
       "[4 rows x 50 columns]"
      ]
     },
     "execution_count": 66,
     "metadata": {},
     "output_type": "execute_result"
    }
   ],
   "source": [
    "final_output = universe_analysis.generate_final_output(\n",
    "    y_pred_prob=probs_test,\n",
    "    y_test=y_true,\n",
    "    org_test=org_test,\n",
    "    filter_data=filter_sub_universe_data,\n",
    "    cp_metrics_df=cp_metrics_df,\n",
    "    save=True,\n",
    ")\n",
    "final_output"
   ]
  }
 ],
 "metadata": {
  "celltoolbar": "Tags",
  "kernelspec": {
   "display_name": "Python (CMA Fairness)",
   "language": "python",
   "name": "cma_fair_env"
  },
  "language_info": {
   "codemirror_mode": {
    "name": "ipython",
    "version": 3
   },
   "file_extension": ".py",
   "mimetype": "text/x-python",
   "name": "python",
   "nbconvert_exporter": "python",
   "pygments_lexer": "ipython3",
   "version": "3.10.12"
  },
  "papermill": {
   "default_parameters": {},
   "duration": 38.88998,
   "end_time": "2025-08-05T15:50:28.158601",
   "environment_variables": {},
   "exception": null,
   "input_path": "universe_analysis.ipynb",
   "output_path": "output/runs/15/notebooks/m_15-0b1c61614e8790341347c9ab5213c2fc.ipynb",
   "parameters": {
    "output_dir": "output",
    "run_no": "15",
    "seed": "2023",
    "universe": "{\"cutoff\": [\"quantile_0.1\", \"quantile_0.25\"], \"eval_fairness_grouping\": [\"majority-minority\", \"nationality-all\"], \"exclude_features\": \"age\", \"exclude_subgroups\": \"keep-all\", \"model\": \"penalized_logreg\", \"scale\": \"scale\", \"training_size\": \"5k\", \"training_year\": \"2010_14\"}",
    "universe_id": "0b1c61614e8790341347c9ab5213c2fc"
   },
   "start_time": "2025-08-05T15:49:49.268621",
   "version": "2.6.0"
  }
 },
 "nbformat": 4,
 "nbformat_minor": 5
}