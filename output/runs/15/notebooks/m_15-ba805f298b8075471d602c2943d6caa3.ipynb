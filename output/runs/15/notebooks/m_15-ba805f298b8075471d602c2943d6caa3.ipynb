{
 "cells": [
  {
   "cell_type": "code",
   "execution_count": 1,
   "id": "f159f837-637b-42ba-96b5-ec9a68c44524",
   "metadata": {
    "execution": {
     "iopub.execute_input": "2025-08-05T15:49:16.895148Z",
     "iopub.status.busy": "2025-08-05T15:49:16.894791Z",
     "iopub.status.idle": "2025-08-05T15:49:16.904414Z",
     "shell.execute_reply": "2025-08-05T15:49:16.903640Z"
    },
    "papermill": {
     "duration": 0.030787,
     "end_time": "2025-08-05T15:49:16.906219",
     "exception": false,
     "start_time": "2025-08-05T15:49:16.875432",
     "status": "completed"
    },
    "tags": []
   },
   "outputs": [
    {
     "name": "stdout",
     "output_type": "stream",
     "text": [
      "/dss/dsshome1/0C/ra93lal2/cma/CMA_Fairness_v2\n"
     ]
    },
    {
     "name": "stderr",
     "output_type": "stream",
     "text": [
      "/dss/dsshome1/0C/ra93lal2/.local/share/virtualenvs/CMA_Fairness_v2-3j10GkSs/lib/python3.10/site-packages/IPython/core/magics/osm.py:393: UserWarning: This is now an optional IPython functionality, using bookmarks requires you to install the `pickleshare` library.\n",
      "  bkms = self.shell.db.get('bookmarks', {})\n",
      "/dss/dsshome1/0C/ra93lal2/.local/share/virtualenvs/CMA_Fairness_v2-3j10GkSs/lib/python3.10/site-packages/IPython/core/magics/osm.py:417: UserWarning: This is now an optional IPython functionality, setting dhist requires you to install the `pickleshare` library.\n",
      "  self.shell.db['dhist'] = compress_dhist(dhist)[-100:]\n"
     ]
    }
   ],
   "source": [
    "%cd ~/cma/CMA_Fairness_v2"
   ]
  },
  {
   "cell_type": "markdown",
   "id": "de2603b9",
   "metadata": {
    "papermill": {
     "duration": 0.015507,
     "end_time": "2025-08-05T15:49:16.938009",
     "exception": false,
     "start_time": "2025-08-05T15:49:16.922502",
     "status": "completed"
    },
    "tags": []
   },
   "source": [
    "The following cell holds the definition of our parameters, these values can be overriden by rendering the with e.g. the following command:\n",
    "\n",
    "papermill -p alpha 0.2 -p ratio 0.3 universe_analysis.ipynb output/test_run.ipynb"
   ]
  },
  {
   "cell_type": "code",
   "execution_count": 2,
   "id": "a80968a0-40bb-4fa9-85ef-2d5eefb01975",
   "metadata": {
    "execution": {
     "iopub.execute_input": "2025-08-05T15:49:16.968302Z",
     "iopub.status.busy": "2025-08-05T15:49:16.967573Z",
     "iopub.status.idle": "2025-08-05T15:49:16.972628Z",
     "shell.execute_reply": "2025-08-05T15:49:16.971578Z"
    },
    "papermill": {
     "duration": 0.021411,
     "end_time": "2025-08-05T15:49:16.974641",
     "exception": false,
     "start_time": "2025-08-05T15:49:16.953230",
     "status": "completed"
    },
    "tags": []
   },
   "outputs": [
    {
     "name": "stdout",
     "output_type": "stream",
     "text": [
      "Current working directory: /dss/dsshome1/0C/ra93lal2/cma/CMA_Fairness_v2\n"
     ]
    }
   ],
   "source": [
    "import os\n",
    "print(\"Current working directory:\", os.getcwd())"
   ]
  },
  {
   "cell_type": "code",
   "execution_count": 3,
   "id": "2dce4c03",
   "metadata": {
    "execution": {
     "iopub.execute_input": "2025-08-05T15:49:17.003337Z",
     "iopub.status.busy": "2025-08-05T15:49:17.002373Z",
     "iopub.status.idle": "2025-08-05T15:49:17.009717Z",
     "shell.execute_reply": "2025-08-05T15:49:17.008620Z"
    },
    "papermill": {
     "duration": 0.02736,
     "end_time": "2025-08-05T15:49:17.011911",
     "exception": false,
     "start_time": "2025-08-05T15:49:16.984551",
     "status": "completed"
    },
    "tags": [
     "parameters"
    ]
   },
   "outputs": [],
   "source": [
    "run_no = 0\n",
    "universe_id = \"test\"\n",
    "universe = {\n",
    "    \"training_size\": \"25k\", # \"25k\", \"5k\", \"1k\"\n",
    "    \"training_year\": \"2014\", # \"2014\", \"2012_14\", \"2010_14\"\n",
    "    \"scale\": \"scale\", # \"scale\", \"do-not-scale\",\n",
    "    \"model\": \"elasticnet\", # \"logreg\", \"penalized_logreg\", \"rf\", \"gbm\", \"elasticnet\"\n",
    "    \"cutoff\": [\"quantile_0.15\", \"quantile_0.30\"],\n",
    "    \"exclude_features\": \"age\", # \"none\", \"nationality\", \"sex\", \"nationality-sex\", \"age\"\n",
    "    \"exclude_subgroups\": \"keep-all\", # \"keep-all\", \"drop-non-german\"\n",
    "    \"eval_fairness_grouping\": [\"majority-minority\", \"nationality-all\"]\n",
    "}\n",
    "\n",
    "output_dir=\"./output\"\n",
    "seed=0"
   ]
  },
  {
   "cell_type": "code",
   "execution_count": 4,
   "id": "c7dcfc6d",
   "metadata": {
    "execution": {
     "iopub.execute_input": "2025-08-05T15:49:17.034111Z",
     "iopub.status.busy": "2025-08-05T15:49:17.033690Z",
     "iopub.status.idle": "2025-08-05T15:49:17.037764Z",
     "shell.execute_reply": "2025-08-05T15:49:17.037081Z"
    },
    "papermill": {
     "duration": 0.016219,
     "end_time": "2025-08-05T15:49:17.039299",
     "exception": false,
     "start_time": "2025-08-05T15:49:17.023080",
     "status": "completed"
    },
    "tags": [
     "injected-parameters"
    ]
   },
   "outputs": [],
   "source": [
    "# Parameters\n",
    "universe_id = \"ba805f298b8075471d602c2943d6caa3\"\n",
    "run_no = \"15\"\n",
    "universe = \"{\\\"cutoff\\\": [\\\"quantile_0.1\\\", \\\"quantile_0.25\\\"], \\\"eval_fairness_grouping\\\": [\\\"majority-minority\\\", \\\"nationality-all\\\"], \\\"exclude_features\\\": \\\"nationality\\\", \\\"exclude_subgroups\\\": \\\"drop-non-german\\\", \\\"model\\\": \\\"penalized_logreg\\\", \\\"scale\\\": \\\"scale\\\", \\\"training_size\\\": \\\"5k\\\", \\\"training_year\\\": \\\"2010_14\\\"}\"\n",
    "output_dir = \"output\"\n",
    "seed = \"2023\"\n"
   ]
  },
  {
   "cell_type": "code",
   "execution_count": 5,
   "id": "1650acaf",
   "metadata": {
    "execution": {
     "iopub.execute_input": "2025-08-05T15:49:17.075577Z",
     "iopub.status.busy": "2025-08-05T15:49:17.075221Z",
     "iopub.status.idle": "2025-08-05T15:49:17.080467Z",
     "shell.execute_reply": "2025-08-05T15:49:17.078900Z"
    },
    "papermill": {
     "duration": 0.025347,
     "end_time": "2025-08-05T15:49:17.082246",
     "exception": false,
     "start_time": "2025-08-05T15:49:17.056899",
     "status": "completed"
    },
    "tags": []
   },
   "outputs": [],
   "source": [
    "import json\n",
    "if isinstance(universe, str):\n",
    "    universe = json.loads(universe)"
   ]
  },
  {
   "cell_type": "code",
   "execution_count": 6,
   "id": "16620c48",
   "metadata": {
    "execution": {
     "iopub.execute_input": "2025-08-05T15:49:17.106872Z",
     "iopub.status.busy": "2025-08-05T15:49:17.106543Z",
     "iopub.status.idle": "2025-08-05T15:49:17.168230Z",
     "shell.execute_reply": "2025-08-05T15:49:17.166900Z"
    },
    "papermill": {
     "duration": 0.074154,
     "end_time": "2025-08-05T15:49:17.170446",
     "exception": false,
     "start_time": "2025-08-05T15:49:17.096292",
     "status": "completed"
    },
    "tags": []
   },
   "outputs": [],
   "source": [
    "# Auto-reload the custom package\n",
    "%load_ext autoreload\n",
    "%autoreload 1\n",
    "%aimport fairness_multiverse"
   ]
  },
  {
   "cell_type": "code",
   "execution_count": 7,
   "id": "01c5c9f3",
   "metadata": {
    "execution": {
     "iopub.execute_input": "2025-08-05T15:49:17.217168Z",
     "iopub.status.busy": "2025-08-05T15:49:17.216232Z",
     "iopub.status.idle": "2025-08-05T15:49:19.233840Z",
     "shell.execute_reply": "2025-08-05T15:49:19.233035Z"
    },
    "papermill": {
     "duration": 2.041036,
     "end_time": "2025-08-05T15:49:19.235301",
     "exception": false,
     "start_time": "2025-08-05T15:49:17.194265",
     "status": "completed"
    },
    "tags": []
   },
   "outputs": [],
   "source": [
    "from fairness_multiverse.universe import UniverseAnalysis\n",
    "\n",
    "universe_analysis = UniverseAnalysis(\n",
    "    run_no = run_no,\n",
    "    universe_id = universe_id,\n",
    "    universe = universe,\n",
    "    output_dir=output_dir,\n",
    ")"
   ]
  },
  {
   "cell_type": "code",
   "execution_count": 8,
   "id": "106241f5",
   "metadata": {
    "execution": {
     "iopub.execute_input": "2025-08-05T15:49:19.255863Z",
     "iopub.status.busy": "2025-08-05T15:49:19.255434Z",
     "iopub.status.idle": "2025-08-05T15:49:19.262147Z",
     "shell.execute_reply": "2025-08-05T15:49:19.261246Z"
    },
    "papermill": {
     "duration": 0.018975,
     "end_time": "2025-08-05T15:49:19.264235",
     "exception": false,
     "start_time": "2025-08-05T15:49:19.245260",
     "status": "completed"
    },
    "tags": []
   },
   "outputs": [
    {
     "name": "stdout",
     "output_type": "stream",
     "text": [
      "Using Seed: 2023\n"
     ]
    }
   ],
   "source": [
    "import numpy as np\n",
    "parsed_seed = int(seed)\n",
    "np.random.seed(parsed_seed)\n",
    "print(f\"Using Seed: {parsed_seed}\")"
   ]
  },
  {
   "cell_type": "markdown",
   "id": "e0ebdc57",
   "metadata": {
    "papermill": {
     "duration": 0.010107,
     "end_time": "2025-08-05T15:49:19.284603",
     "exception": false,
     "start_time": "2025-08-05T15:49:19.274496",
     "status": "completed"
    },
    "tags": []
   },
   "source": [
    "# Loading Data"
   ]
  },
  {
   "cell_type": "code",
   "execution_count": 9,
   "id": "f0496b8a",
   "metadata": {
    "execution": {
     "iopub.execute_input": "2025-08-05T15:49:19.308188Z",
     "iopub.status.busy": "2025-08-05T15:49:19.307298Z",
     "iopub.status.idle": "2025-08-05T15:49:28.019942Z",
     "shell.execute_reply": "2025-08-05T15:49:28.019053Z"
    },
    "papermill": {
     "duration": 8.727113,
     "end_time": "2025-08-05T15:49:28.021233",
     "exception": false,
     "start_time": "2025-08-05T15:49:19.294120",
     "status": "completed"
    },
    "tags": []
   },
   "outputs": [
    {
     "name": "stdout",
     "output_type": "stream",
     "text": [
      "Loading SIAB data from cache: data/siab_cached.csv.gz\n"
     ]
    },
    {
     "name": "stdout",
     "output_type": "stream",
     "text": [
      "(643690, 164)\n"
     ]
    }
   ],
   "source": [
    "from pathlib import Path\n",
    "import pandas as pd\n",
    "\n",
    "# File paths\n",
    "raw_file = Path(\"data/raw/siab.csv\")\n",
    "cache_file = Path(\"data/siab_cached.csv.gz\")\n",
    "\n",
    "# Ensure cache directory exists\n",
    "cache_file.parent.mkdir(parents=True, exist_ok=True)\n",
    "\n",
    "# Load with simple caching\n",
    "if cache_file.exists():\n",
    "    print(f\"Loading SIAB data from cache: {cache_file}\")\n",
    "    siab = pd.read_csv(cache_file, compression='gzip')\n",
    "else:\n",
    "    print(f\"Cache not found. Reading raw SIAB data: {raw_file}\")\n",
    "    siab = pd.read_csv(raw_file)\n",
    "    siab.to_csv(cache_file, index=False, compression='gzip')\n",
    "    print(f\"Cached SIAB data to: {cache_file}\")\n",
    "\n",
    "print(siab.shape)"
   ]
  },
  {
   "cell_type": "code",
   "execution_count": 10,
   "id": "db0ca512-5f53-4dba-abdb-a2888bca41ba",
   "metadata": {
    "execution": {
     "iopub.execute_input": "2025-08-05T15:49:28.044068Z",
     "iopub.status.busy": "2025-08-05T15:49:28.043735Z",
     "iopub.status.idle": "2025-08-05T15:49:28.048229Z",
     "shell.execute_reply": "2025-08-05T15:49:28.047515Z"
    },
    "papermill": {
     "duration": 0.016105,
     "end_time": "2025-08-05T15:49:28.049485",
     "exception": false,
     "start_time": "2025-08-05T15:49:28.033380",
     "status": "completed"
    },
    "tags": []
   },
   "outputs": [],
   "source": [
    "#siab"
   ]
  },
  {
   "cell_type": "markdown",
   "id": "997051c5-15bd-4b69-9786-c3001a3ce484",
   "metadata": {
    "papermill": {
     "duration": 0.009454,
     "end_time": "2025-08-05T15:49:28.070831",
     "exception": false,
     "start_time": "2025-08-05T15:49:28.061377",
     "status": "completed"
    },
    "tags": []
   },
   "source": [
    "# Splitting Data and Setting Training Data Size"
   ]
  },
  {
   "cell_type": "code",
   "execution_count": 11,
   "id": "aea9c6ef-6f46-42c8-85eb-5a62025c1508",
   "metadata": {
    "execution": {
     "iopub.execute_input": "2025-08-05T15:49:28.092853Z",
     "iopub.status.busy": "2025-08-05T15:49:28.091877Z",
     "iopub.status.idle": "2025-08-05T15:49:28.979979Z",
     "shell.execute_reply": "2025-08-05T15:49:28.979220Z"
    },
    "papermill": {
     "duration": 0.901308,
     "end_time": "2025-08-05T15:49:28.981817",
     "exception": false,
     "start_time": "2025-08-05T15:49:28.080509",
     "status": "completed"
    },
    "tags": []
   },
   "outputs": [],
   "source": [
    "from fairness_multiverse.universe import sample_by_year_size\n",
    "\n",
    "siab_train = sample_by_year_size(siab,\n",
    "                               training_year=universe[\"training_year\"],\n",
    "                               training_size=universe[\"training_size\"])"
   ]
  },
  {
   "cell_type": "code",
   "execution_count": 12,
   "id": "8d3afb32-789d-442c-8d5d-9f5aa8dd2eed",
   "metadata": {
    "execution": {
     "iopub.execute_input": "2025-08-05T15:49:29.020775Z",
     "iopub.status.busy": "2025-08-05T15:49:29.020307Z",
     "iopub.status.idle": "2025-08-05T15:49:29.025488Z",
     "shell.execute_reply": "2025-08-05T15:49:29.024565Z"
    },
    "papermill": {
     "duration": 0.026194,
     "end_time": "2025-08-05T15:49:29.027433",
     "exception": false,
     "start_time": "2025-08-05T15:49:29.001239",
     "status": "completed"
    },
    "tags": []
   },
   "outputs": [],
   "source": [
    "#siab_train.shape"
   ]
  },
  {
   "cell_type": "code",
   "execution_count": 13,
   "id": "d582db68-1a4c-47fb-84fc-08518dc1975a",
   "metadata": {
    "execution": {
     "iopub.execute_input": "2025-08-05T15:49:29.065054Z",
     "iopub.status.busy": "2025-08-05T15:49:29.064377Z",
     "iopub.status.idle": "2025-08-05T15:49:29.069675Z",
     "shell.execute_reply": "2025-08-05T15:49:29.068574Z"
    },
    "papermill": {
     "duration": 0.026648,
     "end_time": "2025-08-05T15:49:29.071743",
     "exception": false,
     "start_time": "2025-08-05T15:49:29.045095",
     "status": "completed"
    },
    "tags": []
   },
   "outputs": [],
   "source": [
    "#display(siab_train.groupby(\"year\").size())"
   ]
  },
  {
   "cell_type": "code",
   "execution_count": 14,
   "id": "a561edb4-d032-42cb-8256-22eac1111c64",
   "metadata": {
    "execution": {
     "iopub.execute_input": "2025-08-05T15:49:29.115334Z",
     "iopub.status.busy": "2025-08-05T15:49:29.114419Z",
     "iopub.status.idle": "2025-08-05T15:49:29.367178Z",
     "shell.execute_reply": "2025-08-05T15:49:29.366179Z"
    },
    "papermill": {
     "duration": 0.275033,
     "end_time": "2025-08-05T15:49:29.369300",
     "exception": false,
     "start_time": "2025-08-05T15:49:29.094267",
     "status": "completed"
    },
    "tags": []
   },
   "outputs": [],
   "source": [
    "#siab_train = siab_s[siab_s.year < 2015]\n",
    "siab_calib = siab[siab.year == 2015]\n",
    "siab_test = siab[siab.year == 2016]"
   ]
  },
  {
   "cell_type": "code",
   "execution_count": 15,
   "id": "472de16f-c3db-4916-846b-1f0de9cf1746",
   "metadata": {
    "execution": {
     "iopub.execute_input": "2025-08-05T15:49:29.405118Z",
     "iopub.status.busy": "2025-08-05T15:49:29.404236Z",
     "iopub.status.idle": "2025-08-05T15:49:29.412960Z",
     "shell.execute_reply": "2025-08-05T15:49:29.411816Z"
    },
    "papermill": {
     "duration": 0.028265,
     "end_time": "2025-08-05T15:49:29.415118",
     "exception": false,
     "start_time": "2025-08-05T15:49:29.386853",
     "status": "completed"
    },
    "tags": []
   },
   "outputs": [],
   "source": [
    "X_train = siab_train.iloc[:,4:164]\n",
    "y_train = siab_train.iloc[:, [3]]"
   ]
  },
  {
   "cell_type": "code",
   "execution_count": 16,
   "id": "828c96af-f43a-4ed6-ba47-8ac73a47d56c",
   "metadata": {
    "execution": {
     "iopub.execute_input": "2025-08-05T15:49:29.452573Z",
     "iopub.status.busy": "2025-08-05T15:49:29.451650Z",
     "iopub.status.idle": "2025-08-05T15:49:29.498380Z",
     "shell.execute_reply": "2025-08-05T15:49:29.497361Z"
    },
    "papermill": {
     "duration": 0.066245,
     "end_time": "2025-08-05T15:49:29.499835",
     "exception": false,
     "start_time": "2025-08-05T15:49:29.433590",
     "status": "completed"
    },
    "tags": []
   },
   "outputs": [],
   "source": [
    "X_calib = siab_calib.iloc[:,4:164]\n",
    "y_calib = siab_calib.iloc[:, [3]]"
   ]
  },
  {
   "cell_type": "code",
   "execution_count": 17,
   "id": "c34be9c3-6bd6-476e-acd3-845840e303be",
   "metadata": {
    "execution": {
     "iopub.execute_input": "2025-08-05T15:49:29.521707Z",
     "iopub.status.busy": "2025-08-05T15:49:29.521362Z",
     "iopub.status.idle": "2025-08-05T15:49:29.571359Z",
     "shell.execute_reply": "2025-08-05T15:49:29.570391Z"
    },
    "papermill": {
     "duration": 0.061389,
     "end_time": "2025-08-05T15:49:29.572829",
     "exception": false,
     "start_time": "2025-08-05T15:49:29.511440",
     "status": "completed"
    },
    "tags": []
   },
   "outputs": [],
   "source": [
    "X_test = siab_test.iloc[:,4:164]\n",
    "y_true = siab_test.iloc[:, [3]]"
   ]
  },
  {
   "cell_type": "code",
   "execution_count": 18,
   "id": "e6c733c5",
   "metadata": {
    "execution": {
     "iopub.execute_input": "2025-08-05T15:49:29.595617Z",
     "iopub.status.busy": "2025-08-05T15:49:29.595068Z",
     "iopub.status.idle": "2025-08-05T15:49:29.695560Z",
     "shell.execute_reply": "2025-08-05T15:49:29.694607Z"
    },
    "papermill": {
     "duration": 0.112705,
     "end_time": "2025-08-05T15:49:29.697437",
     "exception": false,
     "start_time": "2025-08-05T15:49:29.584732",
     "status": "completed"
    },
    "tags": []
   },
   "outputs": [],
   "source": [
    "# Auxiliary data needed downstream in the pipeline\n",
    "\n",
    "org_train = X_train.copy()\n",
    "org_test = X_test.copy()\n",
    "org_calib = X_calib.copy()"
   ]
  },
  {
   "cell_type": "markdown",
   "id": "0a4a1b33",
   "metadata": {
    "papermill": {
     "duration": 0.018069,
     "end_time": "2025-08-05T15:49:29.733752",
     "exception": false,
     "start_time": "2025-08-05T15:49:29.715683",
     "status": "completed"
    },
    "tags": []
   },
   "source": [
    "# Preprocessing Data"
   ]
  },
  {
   "cell_type": "code",
   "execution_count": 19,
   "id": "ca879031",
   "metadata": {
    "execution": {
     "iopub.execute_input": "2025-08-05T15:49:29.772803Z",
     "iopub.status.busy": "2025-08-05T15:49:29.771866Z",
     "iopub.status.idle": "2025-08-05T15:49:29.778396Z",
     "shell.execute_reply": "2025-08-05T15:49:29.777405Z"
    },
    "papermill": {
     "duration": 0.028578,
     "end_time": "2025-08-05T15:49:29.780550",
     "exception": false,
     "start_time": "2025-08-05T15:49:29.751972",
     "status": "completed"
    },
    "tags": []
   },
   "outputs": [],
   "source": [
    "# EXCLUDE PROTECTED FEATURES\n",
    "# ----------------------\n",
    "# \"exclude_features\": \"none\", # \"nationality\", \"sex\", \"nationality-sex\"\n",
    "\n",
    "excluded_features = universe[\"exclude_features\"].split(\"-\") # split, e.g.: \"nationality-sex\" -> [\"nationality\", \"sex\"]\n",
    "excluded_features_dictionary = {\n",
    "    \"nationality\": [\"maxdeutsch1\", \"maxdeutsch.Missing.\"],\n",
    "    \"sex\": [\"frau1\"],\n",
    "    \"age\": [\"age\"],\n",
    "}"
   ]
  },
  {
   "cell_type": "code",
   "execution_count": 20,
   "id": "b745ac60",
   "metadata": {
    "execution": {
     "iopub.execute_input": "2025-08-05T15:49:29.822442Z",
     "iopub.status.busy": "2025-08-05T15:49:29.821992Z",
     "iopub.status.idle": "2025-08-05T15:49:29.827852Z",
     "shell.execute_reply": "2025-08-05T15:49:29.826715Z"
    },
    "papermill": {
     "duration": 0.028965,
     "end_time": "2025-08-05T15:49:29.830049",
     "exception": false,
     "start_time": "2025-08-05T15:49:29.801084",
     "status": "completed"
    },
    "tags": []
   },
   "outputs": [],
   "source": [
    "# Code nice names to column names\n",
    "\n",
    "excluded_features_columns = [\n",
    "    excluded_features_dictionary[f] for f in excluded_features if len(f) > 0 and f != \"none\"\n",
    "]"
   ]
  },
  {
   "cell_type": "code",
   "execution_count": 21,
   "id": "f84f73a2",
   "metadata": {
    "execution": {
     "iopub.execute_input": "2025-08-05T15:49:29.871861Z",
     "iopub.status.busy": "2025-08-05T15:49:29.870960Z",
     "iopub.status.idle": "2025-08-05T15:49:29.877735Z",
     "shell.execute_reply": "2025-08-05T15:49:29.876623Z"
    },
    "papermill": {
     "duration": 0.028867,
     "end_time": "2025-08-05T15:49:29.879915",
     "exception": false,
     "start_time": "2025-08-05T15:49:29.851048",
     "status": "completed"
    },
    "tags": []
   },
   "outputs": [],
   "source": [
    "from utils import flatten_once\n",
    "\n",
    "excluded_features_columns = flatten_once(excluded_features_columns)"
   ]
  },
  {
   "cell_type": "code",
   "execution_count": 22,
   "id": "884dea22",
   "metadata": {
    "execution": {
     "iopub.execute_input": "2025-08-05T15:49:29.919885Z",
     "iopub.status.busy": "2025-08-05T15:49:29.919281Z",
     "iopub.status.idle": "2025-08-05T15:49:29.929633Z",
     "shell.execute_reply": "2025-08-05T15:49:29.928544Z"
    },
    "papermill": {
     "duration": 0.032234,
     "end_time": "2025-08-05T15:49:29.931684",
     "exception": false,
     "start_time": "2025-08-05T15:49:29.899450",
     "status": "completed"
    },
    "tags": []
   },
   "outputs": [
    {
     "name": "stdout",
     "output_type": "stream",
     "text": [
      "Dropping features: ['maxdeutsch1', 'maxdeutsch.Missing.']\n"
     ]
    }
   ],
   "source": [
    "if len(excluded_features_columns) > 0:\n",
    "    print(f\"Dropping features: {excluded_features_columns}\")\n",
    "    X_train.drop(excluded_features_columns, axis=1, inplace=True)"
   ]
  },
  {
   "cell_type": "code",
   "execution_count": 23,
   "id": "95ab8b16",
   "metadata": {
    "execution": {
     "iopub.execute_input": "2025-08-05T15:49:29.972790Z",
     "iopub.status.busy": "2025-08-05T15:49:29.972383Z",
     "iopub.status.idle": "2025-08-05T15:49:30.032888Z",
     "shell.execute_reply": "2025-08-05T15:49:30.031526Z"
    },
    "papermill": {
     "duration": 0.082705,
     "end_time": "2025-08-05T15:49:30.034979",
     "exception": false,
     "start_time": "2025-08-05T15:49:29.952274",
     "status": "completed"
    },
    "tags": []
   },
   "outputs": [
    {
     "name": "stdout",
     "output_type": "stream",
     "text": [
      "Dropping features: ['maxdeutsch1', 'maxdeutsch.Missing.']\n"
     ]
    }
   ],
   "source": [
    "if len(excluded_features_columns) > 0:\n",
    "    print(f\"Dropping features: {excluded_features_columns}\")\n",
    "    X_test.drop(excluded_features_columns, axis=1, inplace=True)"
   ]
  },
  {
   "cell_type": "code",
   "execution_count": 24,
   "id": "1853aaf5-fb9f-46cb-a2b5-8ea4ae2237e4",
   "metadata": {
    "execution": {
     "iopub.execute_input": "2025-08-05T15:49:30.077410Z",
     "iopub.status.busy": "2025-08-05T15:49:30.076405Z",
     "iopub.status.idle": "2025-08-05T15:49:30.134421Z",
     "shell.execute_reply": "2025-08-05T15:49:30.132926Z"
    },
    "papermill": {
     "duration": 0.081445,
     "end_time": "2025-08-05T15:49:30.136720",
     "exception": false,
     "start_time": "2025-08-05T15:49:30.055275",
     "status": "completed"
    },
    "tags": []
   },
   "outputs": [
    {
     "name": "stdout",
     "output_type": "stream",
     "text": [
      "Dropping features: ['maxdeutsch1', 'maxdeutsch.Missing.']\n"
     ]
    }
   ],
   "source": [
    "if len(excluded_features_columns) > 0:\n",
    "    print(f\"Dropping features: {excluded_features_columns}\")\n",
    "    X_calib.drop(excluded_features_columns, axis=1, inplace=True)"
   ]
  },
  {
   "cell_type": "code",
   "execution_count": 25,
   "id": "76c4dc6d",
   "metadata": {
    "execution": {
     "iopub.execute_input": "2025-08-05T15:49:30.180378Z",
     "iopub.status.busy": "2025-08-05T15:49:30.179861Z",
     "iopub.status.idle": "2025-08-05T15:49:30.186247Z",
     "shell.execute_reply": "2025-08-05T15:49:30.184823Z"
    },
    "papermill": {
     "duration": 0.029328,
     "end_time": "2025-08-05T15:49:30.187986",
     "exception": false,
     "start_time": "2025-08-05T15:49:30.158658",
     "status": "completed"
    },
    "tags": []
   },
   "outputs": [],
   "source": [
    "# EXCLUDE CERTAIN SUBGROUPS\n",
    "# ----------------------\n",
    "\n",
    "mode = universe.get(\"exclude_subgroups\", \"keep-all\") \n",
    "# Fetches the exclude_subgroups setting from the universe dict.\n",
    "# Defaults to \"keep-all\" if the key is missing."
   ]
  },
  {
   "cell_type": "code",
   "execution_count": 26,
   "id": "21994072",
   "metadata": {
    "execution": {
     "iopub.execute_input": "2025-08-05T15:49:30.232956Z",
     "iopub.status.busy": "2025-08-05T15:49:30.232181Z",
     "iopub.status.idle": "2025-08-05T15:49:30.238401Z",
     "shell.execute_reply": "2025-08-05T15:49:30.237581Z"
    },
    "papermill": {
     "duration": 0.030335,
     "end_time": "2025-08-05T15:49:30.239976",
     "exception": false,
     "start_time": "2025-08-05T15:49:30.209641",
     "status": "completed"
    },
    "tags": []
   },
   "outputs": [],
   "source": [
    "if mode == \"keep-all\":\n",
    "    keep_mask = pd.Series(True, index=org_train.index)\n",
    "\n",
    "# org_train contains the original feature columns from features_org (in Simson)\n",
    "# features_org contains unprocessed features, for me X_train at beginning ???\n",
    "# For keep-all, creates a boolean Series (keep_mask) of all True, so no rows are removed.\n",
    "\n",
    "elif mode == \"drop-non-german\":\n",
    "    keep_mask = org_train[\"maxdeutsch1\"] == 1 # ??? what about missing values?\n",
    "\n",
    "else:\n",
    "    raise ValueError(f\"Unsupported mode for exclude_subgroups: {mode}\")"
   ]
  },
  {
   "cell_type": "code",
   "execution_count": 27,
   "id": "71651440",
   "metadata": {
    "execution": {
     "iopub.execute_input": "2025-08-05T15:49:30.264442Z",
     "iopub.status.busy": "2025-08-05T15:49:30.263720Z",
     "iopub.status.idle": "2025-08-05T15:49:30.270171Z",
     "shell.execute_reply": "2025-08-05T15:49:30.269150Z"
    },
    "papermill": {
     "duration": 0.019543,
     "end_time": "2025-08-05T15:49:30.271662",
     "exception": false,
     "start_time": "2025-08-05T15:49:30.252119",
     "status": "completed"
    },
    "tags": []
   },
   "outputs": [
    {
     "name": "stdout",
     "output_type": "stream",
     "text": [
      "Dropping 657 rows (13.14%) where mode='drop-non-german'\n"
     ]
    }
   ],
   "source": [
    "n_drop = (~keep_mask).sum() # Calculates how many rows are set to be dropped\n",
    "if n_drop > 0:\n",
    "    pct = n_drop / len(keep_mask) * 100\n",
    "    print(f\"Dropping {n_drop} rows ({pct:.2f}%) where mode='{mode}'\")"
   ]
  },
  {
   "cell_type": "code",
   "execution_count": 28,
   "id": "5fb8eee5",
   "metadata": {
    "execution": {
     "iopub.execute_input": "2025-08-05T15:49:30.295802Z",
     "iopub.status.busy": "2025-08-05T15:49:30.295150Z",
     "iopub.status.idle": "2025-08-05T15:49:30.301978Z",
     "shell.execute_reply": "2025-08-05T15:49:30.301037Z"
    },
    "papermill": {
     "duration": 0.0204,
     "end_time": "2025-08-05T15:49:30.304147",
     "exception": false,
     "start_time": "2025-08-05T15:49:30.283747",
     "status": "completed"
    },
    "tags": []
   },
   "outputs": [],
   "source": [
    "X_train = X_train[keep_mask]"
   ]
  },
  {
   "cell_type": "code",
   "execution_count": 29,
   "id": "b202bb3a",
   "metadata": {
    "execution": {
     "iopub.execute_input": "2025-08-05T15:49:30.355610Z",
     "iopub.status.busy": "2025-08-05T15:49:30.355111Z",
     "iopub.status.idle": "2025-08-05T15:49:30.361729Z",
     "shell.execute_reply": "2025-08-05T15:49:30.360526Z"
    },
    "papermill": {
     "duration": 0.034629,
     "end_time": "2025-08-05T15:49:30.363871",
     "exception": false,
     "start_time": "2025-08-05T15:49:30.329242",
     "status": "completed"
    },
    "tags": []
   },
   "outputs": [],
   "source": [
    "y_train = y_train[keep_mask]"
   ]
  },
  {
   "cell_type": "markdown",
   "id": "493e2ac3",
   "metadata": {
    "papermill": {
     "duration": 0.017402,
     "end_time": "2025-08-05T15:49:30.402810",
     "exception": false,
     "start_time": "2025-08-05T15:49:30.385408",
     "status": "completed"
    },
    "tags": []
   },
   "source": [
    "# Model Training"
   ]
  },
  {
   "cell_type": "code",
   "execution_count": 30,
   "id": "679e1268",
   "metadata": {
    "execution": {
     "iopub.execute_input": "2025-08-05T15:49:30.444874Z",
     "iopub.status.busy": "2025-08-05T15:49:30.444444Z",
     "iopub.status.idle": "2025-08-05T15:49:30.592670Z",
     "shell.execute_reply": "2025-08-05T15:49:30.591740Z"
    },
    "papermill": {
     "duration": 0.171974,
     "end_time": "2025-08-05T15:49:30.594810",
     "exception": false,
     "start_time": "2025-08-05T15:49:30.422836",
     "status": "completed"
    },
    "tags": []
   },
   "outputs": [],
   "source": [
    "from sklearn.linear_model import LogisticRegression\n",
    "from sklearn.ensemble import GradientBoostingClassifier, RandomForestClassifier\n",
    "\n",
    "if (universe[\"model\"] == \"logreg\"):\n",
    "    model = LogisticRegression() #penalty=\"none\", solver=\"newton-cg\", max_iter=1) # include random_state=19 ?\n",
    "elif (universe[\"model\"] == \"penalized_logreg\"):\n",
    "    model = LogisticRegression(penalty=\"l2\", C=0.1) #, solver=\"newton-cg\", max_iter=1)\n",
    "elif (universe[\"model\"] == \"rf\"):\n",
    "    model = RandomForestClassifier() # n_estimators=100, n_jobs=-1\n",
    "elif (universe[\"model\"] == \"gbm\"):\n",
    "    model = GradientBoostingClassifier()\n",
    "elif (universe[\"model\"] == \"elasticnet\"):\n",
    "    model = LogisticRegression(penalty = 'elasticnet', solver = 'saga', l1_ratio = 0.5) # max_iter=5000\n",
    "else:\n",
    "    raise \"Unsupported universe.model\""
   ]
  },
  {
   "cell_type": "code",
   "execution_count": 31,
   "id": "0cc8f744",
   "metadata": {
    "execution": {
     "iopub.execute_input": "2025-08-05T15:49:30.646356Z",
     "iopub.status.busy": "2025-08-05T15:49:30.645628Z",
     "iopub.status.idle": "2025-08-05T15:49:30.650848Z",
     "shell.execute_reply": "2025-08-05T15:49:30.649937Z"
    },
    "papermill": {
     "duration": 0.032993,
     "end_time": "2025-08-05T15:49:30.652315",
     "exception": false,
     "start_time": "2025-08-05T15:49:30.619322",
     "status": "completed"
    },
    "tags": []
   },
   "outputs": [],
   "source": [
    "import numpy as np\n",
    "from sklearn.pipeline import Pipeline\n",
    "from sklearn.preprocessing import StandardScaler\n",
    "\n",
    "model = Pipeline([\n",
    "    #(\"continuous_processor\", continuous_processor),\n",
    "    #(\"categorical_preprocessor\", categorical_preprocessor),\n",
    "    (\"scale\", StandardScaler() if universe[\"scale\"] == \"scale\" else None), \n",
    "    (\"model\", model),\n",
    "])"
   ]
  },
  {
   "cell_type": "code",
   "execution_count": 32,
   "id": "9442c04d",
   "metadata": {
    "execution": {
     "iopub.execute_input": "2025-08-05T15:49:30.677173Z",
     "iopub.status.busy": "2025-08-05T15:49:30.676676Z",
     "iopub.status.idle": "2025-08-05T15:49:30.789553Z",
     "shell.execute_reply": "2025-08-05T15:49:30.788806Z"
    },
    "papermill": {
     "duration": 0.12624,
     "end_time": "2025-08-05T15:49:30.790868",
     "exception": false,
     "start_time": "2025-08-05T15:49:30.664628",
     "status": "completed"
    },
    "tags": []
   },
   "outputs": [
    {
     "data": {
      "text/html": [
       "<style>#sk-container-id-1 {color: black;background-color: white;}#sk-container-id-1 pre{padding: 0;}#sk-container-id-1 div.sk-toggleable {background-color: white;}#sk-container-id-1 label.sk-toggleable__label {cursor: pointer;display: block;width: 100%;margin-bottom: 0;padding: 0.3em;box-sizing: border-box;text-align: center;}#sk-container-id-1 label.sk-toggleable__label-arrow:before {content: \"▸\";float: left;margin-right: 0.25em;color: #696969;}#sk-container-id-1 label.sk-toggleable__label-arrow:hover:before {color: black;}#sk-container-id-1 div.sk-estimator:hover label.sk-toggleable__label-arrow:before {color: black;}#sk-container-id-1 div.sk-toggleable__content {max-height: 0;max-width: 0;overflow: hidden;text-align: left;background-color: #f0f8ff;}#sk-container-id-1 div.sk-toggleable__content pre {margin: 0.2em;color: black;border-radius: 0.25em;background-color: #f0f8ff;}#sk-container-id-1 input.sk-toggleable__control:checked~div.sk-toggleable__content {max-height: 200px;max-width: 100%;overflow: auto;}#sk-container-id-1 input.sk-toggleable__control:checked~label.sk-toggleable__label-arrow:before {content: \"▾\";}#sk-container-id-1 div.sk-estimator input.sk-toggleable__control:checked~label.sk-toggleable__label {background-color: #d4ebff;}#sk-container-id-1 div.sk-label input.sk-toggleable__control:checked~label.sk-toggleable__label {background-color: #d4ebff;}#sk-container-id-1 input.sk-hidden--visually {border: 0;clip: rect(1px 1px 1px 1px);clip: rect(1px, 1px, 1px, 1px);height: 1px;margin: -1px;overflow: hidden;padding: 0;position: absolute;width: 1px;}#sk-container-id-1 div.sk-estimator {font-family: monospace;background-color: #f0f8ff;border: 1px dotted black;border-radius: 0.25em;box-sizing: border-box;margin-bottom: 0.5em;}#sk-container-id-1 div.sk-estimator:hover {background-color: #d4ebff;}#sk-container-id-1 div.sk-parallel-item::after {content: \"\";width: 100%;border-bottom: 1px solid gray;flex-grow: 1;}#sk-container-id-1 div.sk-label:hover label.sk-toggleable__label {background-color: #d4ebff;}#sk-container-id-1 div.sk-serial::before {content: \"\";position: absolute;border-left: 1px solid gray;box-sizing: border-box;top: 0;bottom: 0;left: 50%;z-index: 0;}#sk-container-id-1 div.sk-serial {display: flex;flex-direction: column;align-items: center;background-color: white;padding-right: 0.2em;padding-left: 0.2em;position: relative;}#sk-container-id-1 div.sk-item {position: relative;z-index: 1;}#sk-container-id-1 div.sk-parallel {display: flex;align-items: stretch;justify-content: center;background-color: white;position: relative;}#sk-container-id-1 div.sk-item::before, #sk-container-id-1 div.sk-parallel-item::before {content: \"\";position: absolute;border-left: 1px solid gray;box-sizing: border-box;top: 0;bottom: 0;left: 50%;z-index: -1;}#sk-container-id-1 div.sk-parallel-item {display: flex;flex-direction: column;z-index: 1;position: relative;background-color: white;}#sk-container-id-1 div.sk-parallel-item:first-child::after {align-self: flex-end;width: 50%;}#sk-container-id-1 div.sk-parallel-item:last-child::after {align-self: flex-start;width: 50%;}#sk-container-id-1 div.sk-parallel-item:only-child::after {width: 0;}#sk-container-id-1 div.sk-dashed-wrapped {border: 1px dashed gray;margin: 0 0.4em 0.5em 0.4em;box-sizing: border-box;padding-bottom: 0.4em;background-color: white;}#sk-container-id-1 div.sk-label label {font-family: monospace;font-weight: bold;display: inline-block;line-height: 1.2em;}#sk-container-id-1 div.sk-label-container {text-align: center;}#sk-container-id-1 div.sk-container {/* jupyter's `normalize.less` sets `[hidden] { display: none; }` but bootstrap.min.css set `[hidden] { display: none !important; }` so we also need the `!important` here to be able to override the default hidden behavior on the sphinx rendered scikit-learn.org. See: https://github.com/scikit-learn/scikit-learn/issues/21755 */display: inline-block !important;position: relative;}#sk-container-id-1 div.sk-text-repr-fallback {display: none;}</style><div id=\"sk-container-id-1\" class=\"sk-top-container\"><div class=\"sk-text-repr-fallback\"><pre>Pipeline(steps=[(&#x27;scale&#x27;, StandardScaler()),\n",
       "                (&#x27;model&#x27;, LogisticRegression(C=0.1))])</pre><b>In a Jupyter environment, please rerun this cell to show the HTML representation or trust the notebook. <br />On GitHub, the HTML representation is unable to render, please try loading this page with nbviewer.org.</b></div><div class=\"sk-container\" hidden><div class=\"sk-item sk-dashed-wrapped\"><div class=\"sk-label-container\"><div class=\"sk-label sk-toggleable\"><input class=\"sk-toggleable__control sk-hidden--visually\" id=\"sk-estimator-id-1\" type=\"checkbox\" ><label for=\"sk-estimator-id-1\" class=\"sk-toggleable__label sk-toggleable__label-arrow\">Pipeline</label><div class=\"sk-toggleable__content\"><pre>Pipeline(steps=[(&#x27;scale&#x27;, StandardScaler()),\n",
       "                (&#x27;model&#x27;, LogisticRegression(C=0.1))])</pre></div></div></div><div class=\"sk-serial\"><div class=\"sk-item\"><div class=\"sk-estimator sk-toggleable\"><input class=\"sk-toggleable__control sk-hidden--visually\" id=\"sk-estimator-id-2\" type=\"checkbox\" ><label for=\"sk-estimator-id-2\" class=\"sk-toggleable__label sk-toggleable__label-arrow\">StandardScaler</label><div class=\"sk-toggleable__content\"><pre>StandardScaler()</pre></div></div></div><div class=\"sk-item\"><div class=\"sk-estimator sk-toggleable\"><input class=\"sk-toggleable__control sk-hidden--visually\" id=\"sk-estimator-id-3\" type=\"checkbox\" ><label for=\"sk-estimator-id-3\" class=\"sk-toggleable__label sk-toggleable__label-arrow\">LogisticRegression</label><div class=\"sk-toggleable__content\"><pre>LogisticRegression(C=0.1)</pre></div></div></div></div></div></div></div>"
      ],
      "text/plain": [
       "Pipeline(steps=[('scale', StandardScaler()),\n",
       "                ('model', LogisticRegression(C=0.1))])"
      ]
     },
     "execution_count": 32,
     "metadata": {},
     "output_type": "execute_result"
    }
   ],
   "source": [
    "model.fit(X_train, y_train.values.ravel())"
   ]
  },
  {
   "cell_type": "code",
   "execution_count": 33,
   "id": "af59f8c0",
   "metadata": {
    "execution": {
     "iopub.execute_input": "2025-08-05T15:49:30.814420Z",
     "iopub.status.busy": "2025-08-05T15:49:30.814058Z",
     "iopub.status.idle": "2025-08-05T15:49:30.818489Z",
     "shell.execute_reply": "2025-08-05T15:49:30.817559Z"
    },
    "papermill": {
     "duration": 0.017873,
     "end_time": "2025-08-05T15:49:30.820167",
     "exception": false,
     "start_time": "2025-08-05T15:49:30.802294",
     "status": "completed"
    },
    "tags": []
   },
   "outputs": [],
   "source": [
    "from fairness_multiverse.universe import predict_w_threshold"
   ]
  },
  {
   "cell_type": "code",
   "execution_count": 34,
   "id": "a7cf2e16",
   "metadata": {
    "execution": {
     "iopub.execute_input": "2025-08-05T15:49:30.845593Z",
     "iopub.status.busy": "2025-08-05T15:49:30.844813Z",
     "iopub.status.idle": "2025-08-05T15:49:31.028436Z",
     "shell.execute_reply": "2025-08-05T15:49:31.027467Z"
    },
    "papermill": {
     "duration": 0.197577,
     "end_time": "2025-08-05T15:49:31.030104",
     "exception": false,
     "start_time": "2025-08-05T15:49:30.832527",
     "status": "completed"
    },
    "tags": []
   },
   "outputs": [
    {
     "data": {
      "text/plain": [
       "0.8539070337754988"
      ]
     },
     "execution_count": 34,
     "metadata": {},
     "output_type": "execute_result"
    }
   ],
   "source": [
    "probs_test = model.predict_proba(X_test)\n",
    "\n",
    "'''\n",
    "Below code returns a boolean array (or binary 0/1 array depending on how it’s used) where each element \n",
    "is True if the probability of class 1 is greater than or equal to the threshold, and False otherwise.\n",
    "'''\n",
    "y_pred_default = predict_w_threshold(probs_test, 0.5)\n",
    "\n",
    "from sklearn.metrics import accuracy_score\n",
    "\n",
    "# Naive prediction\n",
    "accuracy_score(y_true = y_true, y_pred = y_pred_default)"
   ]
  },
  {
   "cell_type": "code",
   "execution_count": 35,
   "id": "081964c3",
   "metadata": {
    "execution": {
     "iopub.execute_input": "2025-08-05T15:49:31.059210Z",
     "iopub.status.busy": "2025-08-05T15:49:31.058449Z",
     "iopub.status.idle": "2025-08-05T15:49:31.238202Z",
     "shell.execute_reply": "2025-08-05T15:49:31.236958Z"
    },
    "papermill": {
     "duration": 0.196857,
     "end_time": "2025-08-05T15:49:31.240625",
     "exception": false,
     "start_time": "2025-08-05T15:49:31.043768",
     "status": "completed"
    },
    "tags": []
   },
   "outputs": [
    {
     "data": {
      "text/plain": [
       "array([0, 0, 0, ..., 0, 0, 0])"
      ]
     },
     "execution_count": 35,
     "metadata": {},
     "output_type": "execute_result"
    }
   ],
   "source": [
    "model.predict(X_test)"
   ]
  },
  {
   "cell_type": "markdown",
   "id": "56c9705b",
   "metadata": {
    "papermill": {
     "duration": 0.03049,
     "end_time": "2025-08-05T15:49:31.302302",
     "exception": false,
     "start_time": "2025-08-05T15:49:31.271812",
     "status": "completed"
    },
    "tags": []
   },
   "source": [
    "# Conformal Prediction"
   ]
  },
  {
   "cell_type": "code",
   "execution_count": 36,
   "id": "160ec6ff",
   "metadata": {
    "execution": {
     "iopub.execute_input": "2025-08-05T15:49:31.366581Z",
     "iopub.status.busy": "2025-08-05T15:49:31.365789Z",
     "iopub.status.idle": "2025-08-05T15:49:31.372616Z",
     "shell.execute_reply": "2025-08-05T15:49:31.371412Z"
    },
    "papermill": {
     "duration": 0.042327,
     "end_time": "2025-08-05T15:49:31.375221",
     "exception": false,
     "start_time": "2025-08-05T15:49:31.332894",
     "status": "completed"
    },
    "tags": []
   },
   "outputs": [],
   "source": [
    "# Miscoverage level for conformal prediction (10% allowed error rate => 90% target coverage)\n",
    "alpha = 0.1"
   ]
  },
  {
   "cell_type": "code",
   "execution_count": 37,
   "id": "eadf4555-3dd3-440e-8e35-f82a4ad9f855",
   "metadata": {
    "execution": {
     "iopub.execute_input": "2025-08-05T15:49:31.438201Z",
     "iopub.status.busy": "2025-08-05T15:49:31.437724Z",
     "iopub.status.idle": "2025-08-05T15:49:31.628964Z",
     "shell.execute_reply": "2025-08-05T15:49:31.627772Z"
    },
    "papermill": {
     "duration": 0.225328,
     "end_time": "2025-08-05T15:49:31.631696",
     "exception": false,
     "start_time": "2025-08-05T15:49:31.406368",
     "status": "completed"
    },
    "tags": []
   },
   "outputs": [],
   "source": [
    "probs_calib = model.predict_proba(X_calib)"
   ]
  },
  {
   "cell_type": "code",
   "execution_count": 38,
   "id": "2ed93547-6d5d-4983-9b36-1ecb300da49a",
   "metadata": {
    "execution": {
     "iopub.execute_input": "2025-08-05T15:49:31.696307Z",
     "iopub.status.busy": "2025-08-05T15:49:31.695891Z",
     "iopub.status.idle": "2025-08-05T15:49:31.703159Z",
     "shell.execute_reply": "2025-08-05T15:49:31.701927Z"
    },
    "papermill": {
     "duration": 0.042724,
     "end_time": "2025-08-05T15:49:31.705200",
     "exception": false,
     "start_time": "2025-08-05T15:49:31.662476",
     "status": "completed"
    },
    "tags": []
   },
   "outputs": [],
   "source": [
    "y_calib = y_calib.values.ravel().astype(int)"
   ]
  },
  {
   "cell_type": "code",
   "execution_count": 39,
   "id": "65d1320d-f588-4b38-9072-62af1ae97f7d",
   "metadata": {
    "execution": {
     "iopub.execute_input": "2025-08-05T15:49:31.750230Z",
     "iopub.status.busy": "2025-08-05T15:49:31.749477Z",
     "iopub.status.idle": "2025-08-05T15:49:31.756339Z",
     "shell.execute_reply": "2025-08-05T15:49:31.755481Z"
    },
    "papermill": {
     "duration": 0.031667,
     "end_time": "2025-08-05T15:49:31.757971",
     "exception": false,
     "start_time": "2025-08-05T15:49:31.726304",
     "status": "completed"
    },
    "tags": []
   },
   "outputs": [],
   "source": [
    "from fairness_multiverse.conformal import compute_nc_scores\n",
    "\n",
    "# Compute nonconformity scores on calibration set (1 - probability of true class)\n",
    "nc_scores = compute_nc_scores(probs_calib, y_calib)"
   ]
  },
  {
   "cell_type": "code",
   "execution_count": 40,
   "id": "df3b8ca3-53b7-43d5-9667-7c85da7aeda2",
   "metadata": {
    "execution": {
     "iopub.execute_input": "2025-08-05T15:49:31.783812Z",
     "iopub.status.busy": "2025-08-05T15:49:31.783035Z",
     "iopub.status.idle": "2025-08-05T15:49:31.788865Z",
     "shell.execute_reply": "2025-08-05T15:49:31.788074Z"
    },
    "papermill": {
     "duration": 0.019689,
     "end_time": "2025-08-05T15:49:31.790430",
     "exception": false,
     "start_time": "2025-08-05T15:49:31.770741",
     "status": "completed"
    },
    "tags": []
   },
   "outputs": [],
   "source": [
    "from fairness_multiverse.conformal import find_threshold\n",
    "\n",
    "# Find conformal threshold q_hat for the given alpha (split conformal method)\n",
    "q_hat = find_threshold(nc_scores, alpha)"
   ]
  },
  {
   "cell_type": "code",
   "execution_count": 41,
   "id": "4d29e6c1-0ef6-4aa4-b8fe-4fe79b0d033a",
   "metadata": {
    "execution": {
     "iopub.execute_input": "2025-08-05T15:49:31.816421Z",
     "iopub.status.busy": "2025-08-05T15:49:31.815738Z",
     "iopub.status.idle": "2025-08-05T15:49:31.822281Z",
     "shell.execute_reply": "2025-08-05T15:49:31.821465Z"
    },
    "papermill": {
     "duration": 0.020286,
     "end_time": "2025-08-05T15:49:31.823911",
     "exception": false,
     "start_time": "2025-08-05T15:49:31.803625",
     "status": "completed"
    },
    "tags": []
   },
   "outputs": [
    {
     "data": {
      "text/plain": [
       "0.680114424004127"
      ]
     },
     "execution_count": 41,
     "metadata": {},
     "output_type": "execute_result"
    }
   ],
   "source": [
    "q_hat"
   ]
  },
  {
   "cell_type": "code",
   "execution_count": 42,
   "id": "92460794-cdac-4be2-ba28-f28c0515a6fb",
   "metadata": {
    "execution": {
     "iopub.execute_input": "2025-08-05T15:49:31.849423Z",
     "iopub.status.busy": "2025-08-05T15:49:31.848856Z",
     "iopub.status.idle": "2025-08-05T15:49:32.493695Z",
     "shell.execute_reply": "2025-08-05T15:49:32.492867Z"
    },
    "papermill": {
     "duration": 0.658842,
     "end_time": "2025-08-05T15:49:32.495462",
     "exception": false,
     "start_time": "2025-08-05T15:49:31.836620",
     "status": "completed"
    },
    "tags": []
   },
   "outputs": [],
   "source": [
    "from fairness_multiverse.conformal import predict_conformal_sets\n",
    "\n",
    "# Generate prediction sets for each test example\n",
    "pred_sets = predict_conformal_sets(model, X_test, q_hat)"
   ]
  },
  {
   "cell_type": "code",
   "execution_count": 43,
   "id": "d90c9a65-e6db-4f5d-80cd-e68fb7e46829",
   "metadata": {
    "execution": {
     "iopub.execute_input": "2025-08-05T15:49:32.543684Z",
     "iopub.status.busy": "2025-08-05T15:49:32.542885Z",
     "iopub.status.idle": "2025-08-05T15:49:32.550069Z",
     "shell.execute_reply": "2025-08-05T15:49:32.548526Z"
    },
    "papermill": {
     "duration": 0.033418,
     "end_time": "2025-08-05T15:49:32.552269",
     "exception": false,
     "start_time": "2025-08-05T15:49:32.518851",
     "status": "completed"
    },
    "tags": []
   },
   "outputs": [],
   "source": [
    "y_true = y_true.squeeze()"
   ]
  },
  {
   "cell_type": "code",
   "execution_count": 44,
   "id": "3a58a54a-1e68-46b9-927a-df01f18aebc8",
   "metadata": {
    "execution": {
     "iopub.execute_input": "2025-08-05T15:49:32.603845Z",
     "iopub.status.busy": "2025-08-05T15:49:32.602869Z",
     "iopub.status.idle": "2025-08-05T15:49:33.663478Z",
     "shell.execute_reply": "2025-08-05T15:49:33.662395Z"
    },
    "papermill": {
     "duration": 1.088311,
     "end_time": "2025-08-05T15:49:33.665882",
     "exception": false,
     "start_time": "2025-08-05T15:49:32.577571",
     "status": "completed"
    },
    "tags": []
   },
   "outputs": [],
   "source": [
    "from fairness_multiverse.conformal import evaluate_sets\n",
    "\n",
    "# Evaluate coverage and average set size on test data\n",
    "metrics = evaluate_sets(pred_sets, y_true)"
   ]
  },
  {
   "cell_type": "markdown",
   "id": "2b569c12-9aaa-4c88-98c9-bbcd0cf3ebb8",
   "metadata": {
    "papermill": {
     "duration": 0.02752,
     "end_time": "2025-08-05T15:49:33.724980",
     "exception": false,
     "start_time": "2025-08-05T15:49:33.697460",
     "status": "completed"
    },
    "tags": []
   },
   "source": [
    "# CP Metrics"
   ]
  },
  {
   "cell_type": "code",
   "execution_count": 45,
   "id": "5ce0a5cb-201f-45a0-ade5-94c7f0bd6095",
   "metadata": {
    "execution": {
     "iopub.execute_input": "2025-08-05T15:49:33.772869Z",
     "iopub.status.busy": "2025-08-05T15:49:33.771983Z",
     "iopub.status.idle": "2025-08-05T15:49:33.779919Z",
     "shell.execute_reply": "2025-08-05T15:49:33.778822Z"
    },
    "papermill": {
     "duration": 0.036726,
     "end_time": "2025-08-05T15:49:33.784648",
     "exception": false,
     "start_time": "2025-08-05T15:49:33.747922",
     "status": "completed"
    },
    "tags": []
   },
   "outputs": [
    {
     "data": {
      "text/plain": [
       "{'coverage': 0.9110912941701037, 'avg_size': 1.1459480548433842}"
      ]
     },
     "execution_count": 45,
     "metadata": {},
     "output_type": "execute_result"
    }
   ],
   "source": [
    "metrics"
   ]
  },
  {
   "cell_type": "code",
   "execution_count": 46,
   "id": "9b9a838d-31c9-430b-ae14-12baee460d17",
   "metadata": {
    "execution": {
     "iopub.execute_input": "2025-08-05T15:49:33.832038Z",
     "iopub.status.busy": "2025-08-05T15:49:33.831296Z",
     "iopub.status.idle": "2025-08-05T15:49:33.839195Z",
     "shell.execute_reply": "2025-08-05T15:49:33.838165Z"
    },
    "papermill": {
     "duration": 0.034069,
     "end_time": "2025-08-05T15:49:33.841288",
     "exception": false,
     "start_time": "2025-08-05T15:49:33.807219",
     "status": "completed"
    },
    "tags": []
   },
   "outputs": [],
   "source": [
    "example_universe = universe.copy()\n",
    "universe_training_year = example_universe.get(\"training_year\")\n",
    "universe_training_size = example_universe.get(\"training_size\")\n",
    "universe_scale = example_universe.get(\"scale\")\n",
    "universe_model = example_universe.get(\"model\")\n",
    "universe_exclude_features = example_universe.get(\"exclude_features\")\n",
    "universe_exclude_subgroups = example_universe.get(\"exclude_subgroups\")"
   ]
  },
  {
   "cell_type": "code",
   "execution_count": 47,
   "id": "f4b6a8ac-9dc0-4245-8a91-5b3b5999c4f9",
   "metadata": {
    "execution": {
     "iopub.execute_input": "2025-08-05T15:49:33.905625Z",
     "iopub.status.busy": "2025-08-05T15:49:33.904876Z",
     "iopub.status.idle": "2025-08-05T15:49:33.913893Z",
     "shell.execute_reply": "2025-08-05T15:49:33.912462Z"
    },
    "papermill": {
     "duration": 0.04981,
     "end_time": "2025-08-05T15:49:33.916648",
     "exception": false,
     "start_time": "2025-08-05T15:49:33.866838",
     "status": "completed"
    },
    "tags": []
   },
   "outputs": [],
   "source": [
    "cp_metrics_dict = {\n",
    "    \"universe_id\": [universe_id],\n",
    "    \"universe_training_year\": [universe_training_year],\n",
    "    \"universe_training_size\": [universe_training_size],\n",
    "    \"universe_scale\": [universe_scale],\n",
    "    \"universe_model\": [universe_model],\n",
    "    \"universe_exclude_features\": [universe_exclude_features],\n",
    "    \"universe_exclude_subgroups\": [universe_exclude_subgroups],\n",
    "    \"q_hat\": [q_hat],\n",
    "    \"coverage\": [metrics[\"coverage\"]],\n",
    "    \"avg_size\": [metrics[\"avg_size\"]],\n",
    "}"
   ]
  },
  {
   "cell_type": "code",
   "execution_count": 48,
   "id": "908acbb1-0371-4915-85ca-3fa520d2efe2",
   "metadata": {
    "execution": {
     "iopub.execute_input": "2025-08-05T15:49:33.993429Z",
     "iopub.status.busy": "2025-08-05T15:49:33.992312Z",
     "iopub.status.idle": "2025-08-05T15:49:34.003719Z",
     "shell.execute_reply": "2025-08-05T15:49:34.002156Z"
    },
    "papermill": {
     "duration": 0.051513,
     "end_time": "2025-08-05T15:49:34.005714",
     "exception": false,
     "start_time": "2025-08-05T15:49:33.954201",
     "status": "completed"
    },
    "tags": []
   },
   "outputs": [
    {
     "data": {
      "text/plain": [
       "{'universe_id': ['ba805f298b8075471d602c2943d6caa3'],\n",
       " 'universe_training_year': ['2010_14'],\n",
       " 'universe_training_size': ['5k'],\n",
       " 'universe_scale': ['scale'],\n",
       " 'universe_model': ['penalized_logreg'],\n",
       " 'universe_exclude_features': ['nationality'],\n",
       " 'universe_exclude_subgroups': ['drop-non-german'],\n",
       " 'q_hat': [0.680114424004127],\n",
       " 'coverage': [0.9110912941701037],\n",
       " 'avg_size': [1.1459480548433842]}"
      ]
     },
     "execution_count": 48,
     "metadata": {},
     "output_type": "execute_result"
    }
   ],
   "source": [
    "cp_metrics_dict"
   ]
  },
  {
   "cell_type": "code",
   "execution_count": 49,
   "id": "33007efc-14e9-4ec6-97ac-56a455c82265",
   "metadata": {
    "execution": {
     "iopub.execute_input": "2025-08-05T15:49:34.071587Z",
     "iopub.status.busy": "2025-08-05T15:49:34.070911Z",
     "iopub.status.idle": "2025-08-05T15:49:34.080898Z",
     "shell.execute_reply": "2025-08-05T15:49:34.079246Z"
    },
    "papermill": {
     "duration": 0.054061,
     "end_time": "2025-08-05T15:49:34.084332",
     "exception": false,
     "start_time": "2025-08-05T15:49:34.030271",
     "status": "completed"
    },
    "tags": []
   },
   "outputs": [],
   "source": [
    "cp_metrics_df = pd.DataFrame(cp_metrics_dict)"
   ]
  },
  {
   "cell_type": "code",
   "execution_count": 50,
   "id": "db12611b-57b2-4910-b9d0-355adfd6e7bf",
   "metadata": {
    "execution": {
     "iopub.execute_input": "2025-08-05T15:49:34.160826Z",
     "iopub.status.busy": "2025-08-05T15:49:34.160183Z",
     "iopub.status.idle": "2025-08-05T15:49:34.186257Z",
     "shell.execute_reply": "2025-08-05T15:49:34.184819Z"
    },
    "papermill": {
     "duration": 0.066235,
     "end_time": "2025-08-05T15:49:34.188396",
     "exception": false,
     "start_time": "2025-08-05T15:49:34.122161",
     "status": "completed"
    },
    "tags": []
   },
   "outputs": [
    {
     "data": {
      "text/html": [
       "<div>\n",
       "<style scoped>\n",
       "    .dataframe tbody tr th:only-of-type {\n",
       "        vertical-align: middle;\n",
       "    }\n",
       "\n",
       "    .dataframe tbody tr th {\n",
       "        vertical-align: top;\n",
       "    }\n",
       "\n",
       "    .dataframe thead th {\n",
       "        text-align: right;\n",
       "    }\n",
       "</style>\n",
       "<table border=\"1\" class=\"dataframe\">\n",
       "  <thead>\n",
       "    <tr style=\"text-align: right;\">\n",
       "      <th></th>\n",
       "      <th>universe_id</th>\n",
       "      <th>universe_training_year</th>\n",
       "      <th>universe_training_size</th>\n",
       "      <th>universe_scale</th>\n",
       "      <th>universe_model</th>\n",
       "      <th>universe_exclude_features</th>\n",
       "      <th>universe_exclude_subgroups</th>\n",
       "      <th>q_hat</th>\n",
       "      <th>coverage</th>\n",
       "      <th>avg_size</th>\n",
       "    </tr>\n",
       "  </thead>\n",
       "  <tbody>\n",
       "    <tr>\n",
       "      <th>0</th>\n",
       "      <td>ba805f298b8075471d602c2943d6caa3</td>\n",
       "      <td>2010_14</td>\n",
       "      <td>5k</td>\n",
       "      <td>scale</td>\n",
       "      <td>penalized_logreg</td>\n",
       "      <td>nationality</td>\n",
       "      <td>drop-non-german</td>\n",
       "      <td>0.680114</td>\n",
       "      <td>0.911091</td>\n",
       "      <td>1.145948</td>\n",
       "    </tr>\n",
       "  </tbody>\n",
       "</table>\n",
       "</div>"
      ],
      "text/plain": [
       "                        universe_id universe_training_year  \\\n",
       "0  ba805f298b8075471d602c2943d6caa3                2010_14   \n",
       "\n",
       "  universe_training_size universe_scale    universe_model  \\\n",
       "0                     5k          scale  penalized_logreg   \n",
       "\n",
       "  universe_exclude_features universe_exclude_subgroups     q_hat  coverage  \\\n",
       "0               nationality            drop-non-german  0.680114  0.911091   \n",
       "\n",
       "   avg_size  \n",
       "0  1.145948  "
      ]
     },
     "execution_count": 50,
     "metadata": {},
     "output_type": "execute_result"
    }
   ],
   "source": [
    "cp_metrics_df"
   ]
  },
  {
   "cell_type": "code",
   "execution_count": 51,
   "id": "b7fbde55-a0a1-47e4-9af6-fe4a17fa8c61",
   "metadata": {
    "execution": {
     "iopub.execute_input": "2025-08-05T15:49:34.219314Z",
     "iopub.status.busy": "2025-08-05T15:49:34.218360Z",
     "iopub.status.idle": "2025-08-05T15:49:34.224146Z",
     "shell.execute_reply": "2025-08-05T15:49:34.223424Z"
    },
    "papermill": {
     "duration": 0.021716,
     "end_time": "2025-08-05T15:49:34.226331",
     "exception": false,
     "start_time": "2025-08-05T15:49:34.204615",
     "status": "completed"
    },
    "tags": []
   },
   "outputs": [],
   "source": [
    "# Conditional Coverage & looking at subgroups"
   ]
  },
  {
   "cell_type": "code",
   "execution_count": 52,
   "id": "027ae886-68dd-4141-96c7-805a5450e1ef",
   "metadata": {
    "execution": {
     "iopub.execute_input": "2025-08-05T15:49:34.306304Z",
     "iopub.status.busy": "2025-08-05T15:49:34.305749Z",
     "iopub.status.idle": "2025-08-05T15:49:34.607352Z",
     "shell.execute_reply": "2025-08-05T15:49:34.606272Z"
    },
    "papermill": {
     "duration": 0.344075,
     "end_time": "2025-08-05T15:49:34.609332",
     "exception": false,
     "start_time": "2025-08-05T15:49:34.265257",
     "status": "completed"
    },
    "tags": []
   },
   "outputs": [],
   "source": [
    "from fairness_multiverse.conformal import build_cp_groups\n",
    "\n",
    "cp_groups_df = build_cp_groups(pred_sets, y_true, X_test.index, org_test)\n",
    "#needs universe_id and setting"
   ]
  },
  {
   "cell_type": "code",
   "execution_count": 53,
   "id": "6cbdab96-b2b2-45af-ad54-d0516db2e28d",
   "metadata": {
    "execution": {
     "iopub.execute_input": "2025-08-05T15:49:34.662563Z",
     "iopub.status.busy": "2025-08-05T15:49:34.662215Z",
     "iopub.status.idle": "2025-08-05T15:49:35.693721Z",
     "shell.execute_reply": "2025-08-05T15:49:35.692805Z"
    },
    "papermill": {
     "duration": 1.060792,
     "end_time": "2025-08-05T15:49:35.695211",
     "exception": false,
     "start_time": "2025-08-05T15:49:34.634419",
     "status": "completed"
    },
    "tags": []
   },
   "outputs": [],
   "source": [
    "# Define covered = 1 if true_label is in the predicted set\n",
    "cp_groups_df['covered'] = cp_groups_df.apply(\n",
    "    lambda r: int(r['true_label'] in r['pred_set']),\n",
    "    axis=1\n",
    ")"
   ]
  },
  {
   "cell_type": "code",
   "execution_count": 54,
   "id": "338ff529-1a6b-4b87-a931-8e4788d52aad",
   "metadata": {
    "execution": {
     "iopub.execute_input": "2025-08-05T15:49:35.722102Z",
     "iopub.status.busy": "2025-08-05T15:49:35.721483Z",
     "iopub.status.idle": "2025-08-05T15:49:35.726228Z",
     "shell.execute_reply": "2025-08-05T15:49:35.725426Z"
    },
    "papermill": {
     "duration": 0.019926,
     "end_time": "2025-08-05T15:49:35.727994",
     "exception": false,
     "start_time": "2025-08-05T15:49:35.708068",
     "status": "completed"
    },
    "tags": []
   },
   "outputs": [],
   "source": [
    "#cp_groups_df"
   ]
  },
  {
   "cell_type": "code",
   "execution_count": 55,
   "id": "90032e27-66df-4540-9169-4e89cfbaa758",
   "metadata": {
    "execution": {
     "iopub.execute_input": "2025-08-05T15:49:35.763951Z",
     "iopub.status.busy": "2025-08-05T15:49:35.763110Z",
     "iopub.status.idle": "2025-08-05T15:49:35.777140Z",
     "shell.execute_reply": "2025-08-05T15:49:35.775708Z"
    },
    "papermill": {
     "duration": 0.035967,
     "end_time": "2025-08-05T15:49:35.779663",
     "exception": false,
     "start_time": "2025-08-05T15:49:35.743696",
     "status": "completed"
    },
    "tags": []
   },
   "outputs": [],
   "source": [
    "subgroups = ['frau1','nongerman','nongerman_male','nongerman_female']\n",
    "\n",
    "# Conditional coverage for subgroup==1\n",
    "cond_coverage = {\n",
    "    g: cp_groups_df.loc[cp_groups_df[g]==1, 'covered'].mean()\n",
    "    for g in subgroups\n",
    "}"
   ]
  },
  {
   "cell_type": "code",
   "execution_count": 56,
   "id": "1e348fb1-b9c3-45bc-ba23-f016827a7e0d",
   "metadata": {
    "execution": {
     "iopub.execute_input": "2025-08-05T15:49:35.830269Z",
     "iopub.status.busy": "2025-08-05T15:49:35.829591Z",
     "iopub.status.idle": "2025-08-05T15:49:35.838278Z",
     "shell.execute_reply": "2025-08-05T15:49:35.837025Z"
    },
    "papermill": {
     "duration": 0.035655,
     "end_time": "2025-08-05T15:49:35.840478",
     "exception": false,
     "start_time": "2025-08-05T15:49:35.804823",
     "status": "completed"
    },
    "tags": []
   },
   "outputs": [
    {
     "data": {
      "text/plain": [
       "{'frau1': 0.9086399784337512,\n",
       " 'nongerman': 0.9126480660191995,\n",
       " 'nongerman_male': 0.9281275330991624,\n",
       " 'nongerman_female': 0.8870342771982116}"
      ]
     },
     "execution_count": 56,
     "metadata": {},
     "output_type": "execute_result"
    }
   ],
   "source": [
    "cond_coverage"
   ]
  },
  {
   "cell_type": "code",
   "execution_count": 57,
   "id": "f5093324-c3dd-4d63-bc4c-8d945e5c8bbb",
   "metadata": {
    "execution": {
     "iopub.execute_input": "2025-08-05T15:49:35.882862Z",
     "iopub.status.busy": "2025-08-05T15:49:35.882498Z",
     "iopub.status.idle": "2025-08-05T15:49:35.888873Z",
     "shell.execute_reply": "2025-08-05T15:49:35.888001Z"
    },
    "papermill": {
     "duration": 0.024772,
     "end_time": "2025-08-05T15:49:35.890572",
     "exception": false,
     "start_time": "2025-08-05T15:49:35.865800",
     "status": "completed"
    },
    "tags": []
   },
   "outputs": [],
   "source": [
    "for subgroup, cov in cond_coverage.items():\n",
    "    cp_metrics_df[f\"cov_{subgroup}\"] = cov"
   ]
  },
  {
   "cell_type": "code",
   "execution_count": 58,
   "id": "6e872e10-dbe5-49e8-b554-5030c98ff75d",
   "metadata": {
    "execution": {
     "iopub.execute_input": "2025-08-05T15:49:35.930994Z",
     "iopub.status.busy": "2025-08-05T15:49:35.930622Z",
     "iopub.status.idle": "2025-08-05T15:49:35.948219Z",
     "shell.execute_reply": "2025-08-05T15:49:35.947170Z"
    },
    "papermill": {
     "duration": 0.042482,
     "end_time": "2025-08-05T15:49:35.949693",
     "exception": false,
     "start_time": "2025-08-05T15:49:35.907211",
     "status": "completed"
    },
    "tags": []
   },
   "outputs": [
    {
     "data": {
      "text/html": [
       "<div>\n",
       "<style scoped>\n",
       "    .dataframe tbody tr th:only-of-type {\n",
       "        vertical-align: middle;\n",
       "    }\n",
       "\n",
       "    .dataframe tbody tr th {\n",
       "        vertical-align: top;\n",
       "    }\n",
       "\n",
       "    .dataframe thead th {\n",
       "        text-align: right;\n",
       "    }\n",
       "</style>\n",
       "<table border=\"1\" class=\"dataframe\">\n",
       "  <thead>\n",
       "    <tr style=\"text-align: right;\">\n",
       "      <th></th>\n",
       "      <th>universe_id</th>\n",
       "      <th>universe_training_year</th>\n",
       "      <th>universe_training_size</th>\n",
       "      <th>universe_scale</th>\n",
       "      <th>universe_model</th>\n",
       "      <th>universe_exclude_features</th>\n",
       "      <th>universe_exclude_subgroups</th>\n",
       "      <th>q_hat</th>\n",
       "      <th>coverage</th>\n",
       "      <th>avg_size</th>\n",
       "      <th>cov_frau1</th>\n",
       "      <th>cov_nongerman</th>\n",
       "      <th>cov_nongerman_male</th>\n",
       "      <th>cov_nongerman_female</th>\n",
       "    </tr>\n",
       "  </thead>\n",
       "  <tbody>\n",
       "    <tr>\n",
       "      <th>0</th>\n",
       "      <td>ba805f298b8075471d602c2943d6caa3</td>\n",
       "      <td>2010_14</td>\n",
       "      <td>5k</td>\n",
       "      <td>scale</td>\n",
       "      <td>penalized_logreg</td>\n",
       "      <td>nationality</td>\n",
       "      <td>drop-non-german</td>\n",
       "      <td>0.680114</td>\n",
       "      <td>0.911091</td>\n",
       "      <td>1.145948</td>\n",
       "      <td>0.90864</td>\n",
       "      <td>0.912648</td>\n",
       "      <td>0.928128</td>\n",
       "      <td>0.887034</td>\n",
       "    </tr>\n",
       "  </tbody>\n",
       "</table>\n",
       "</div>"
      ],
      "text/plain": [
       "                        universe_id universe_training_year  \\\n",
       "0  ba805f298b8075471d602c2943d6caa3                2010_14   \n",
       "\n",
       "  universe_training_size universe_scale    universe_model  \\\n",
       "0                     5k          scale  penalized_logreg   \n",
       "\n",
       "  universe_exclude_features universe_exclude_subgroups     q_hat  coverage  \\\n",
       "0               nationality            drop-non-german  0.680114  0.911091   \n",
       "\n",
       "   avg_size  cov_frau1  cov_nongerman  cov_nongerman_male  \\\n",
       "0  1.145948    0.90864       0.912648            0.928128   \n",
       "\n",
       "   cov_nongerman_female  \n",
       "0              0.887034  "
      ]
     },
     "execution_count": 58,
     "metadata": {},
     "output_type": "execute_result"
    }
   ],
   "source": [
    "cp_metrics_df"
   ]
  },
  {
   "cell_type": "markdown",
   "id": "33774451",
   "metadata": {
    "papermill": {
     "duration": 0.031919,
     "end_time": "2025-08-05T15:49:36.001469",
     "exception": false,
     "start_time": "2025-08-05T15:49:35.969550",
     "status": "completed"
    },
    "tags": []
   },
   "source": [
    "# (Fairness) Metrics"
   ]
  },
  {
   "cell_type": "code",
   "execution_count": 59,
   "id": "debc5d62",
   "metadata": {
    "execution": {
     "iopub.execute_input": "2025-08-05T15:49:36.071027Z",
     "iopub.status.busy": "2025-08-05T15:49:36.070665Z",
     "iopub.status.idle": "2025-08-05T15:49:36.085770Z",
     "shell.execute_reply": "2025-08-05T15:49:36.084869Z"
    },
    "papermill": {
     "duration": 0.051772,
     "end_time": "2025-08-05T15:49:36.088288",
     "exception": false,
     "start_time": "2025-08-05T15:49:36.036516",
     "status": "completed"
    },
    "tags": []
   },
   "outputs": [],
   "source": [
    "# do I need to include maxdeutsch1.missing?\n",
    "\n",
    "import numpy as np\n",
    "\n",
    "colname_to_bin = \"maxdeutsch1\"\n",
    "majority_value = org_train[colname_to_bin].mode()[0]\n",
    "\n",
    "org_test[\"majmin\"] = np.where(org_test[colname_to_bin] == majority_value, \"majority\", \"minority\")"
   ]
  },
  {
   "cell_type": "code",
   "execution_count": 60,
   "id": "06a50de5",
   "metadata": {
    "execution": {
     "iopub.execute_input": "2025-08-05T15:49:36.153651Z",
     "iopub.status.busy": "2025-08-05T15:49:36.153089Z",
     "iopub.status.idle": "2025-08-05T15:49:38.210032Z",
     "shell.execute_reply": "2025-08-05T15:49:38.209171Z"
    },
    "papermill": {
     "duration": 2.0913,
     "end_time": "2025-08-05T15:49:38.211612",
     "exception": false,
     "start_time": "2025-08-05T15:49:36.120312",
     "status": "completed"
    },
    "tags": []
   },
   "outputs": [],
   "source": [
    "example_universe = universe.copy()\n",
    "example_universe[\"cutoff\"] = example_universe[\"cutoff\"][0]\n",
    "example_universe[\"eval_fairness_grouping\"] = example_universe[\"eval_fairness_grouping\"][0]\n",
    "fairness_dict, metric_frame = universe_analysis.compute_metrics(\n",
    "    example_universe,\n",
    "    y_pred_prob=probs_test,\n",
    "    y_test=y_true,\n",
    "    org_test=org_test,\n",
    ")"
   ]
  },
  {
   "cell_type": "markdown",
   "id": "f95d4e02",
   "metadata": {
    "papermill": {
     "duration": 0.024386,
     "end_time": "2025-08-05T15:49:38.252528",
     "exception": false,
     "start_time": "2025-08-05T15:49:38.228142",
     "status": "completed"
    },
    "tags": []
   },
   "source": [
    "# Overall"
   ]
  },
  {
   "cell_type": "markdown",
   "id": "bdee4871",
   "metadata": {
    "papermill": {
     "duration": 0.025992,
     "end_time": "2025-08-05T15:49:38.303937",
     "exception": false,
     "start_time": "2025-08-05T15:49:38.277945",
     "status": "completed"
    },
    "tags": []
   },
   "source": [
    "Fairness\n",
    "Main fairness target: Equalized Odds. Seems to be a better fit than equal opportunity, since we're not only interested in Y = 1. Seems to be a better fit than demographic parity, since we also care about accuracy, not just equal distribution of preds.\n",
    "\n",
    "Pick column for computation of fairness metrics\n",
    "\n",
    "Performance\n",
    "Overall performance measures, most interesting in relation to the measures split by group below"
   ]
  },
  {
   "cell_type": "code",
   "execution_count": 61,
   "id": "c4e067c6",
   "metadata": {
    "execution": {
     "iopub.execute_input": "2025-08-05T15:49:38.368665Z",
     "iopub.status.busy": "2025-08-05T15:49:38.368085Z",
     "iopub.status.idle": "2025-08-05T15:49:38.378849Z",
     "shell.execute_reply": "2025-08-05T15:49:38.377363Z"
    },
    "papermill": {
     "duration": 0.052136,
     "end_time": "2025-08-05T15:49:38.382793",
     "exception": false,
     "start_time": "2025-08-05T15:49:38.330657",
     "status": "completed"
    },
    "tags": []
   },
   "outputs": [
    {
     "data": {
      "text/plain": [
       "accuracy                   0.223464\n",
       "balanced accuracy          0.546592\n",
       "f1                         0.244821\n",
       "precision                  0.139858\n",
       "false positive rate        0.888046\n",
       "false negative rate        0.018770\n",
       "selection rate             0.900000\n",
       "count                  89710.000000\n",
       "dtype: float64"
      ]
     },
     "execution_count": 61,
     "metadata": {},
     "output_type": "execute_result"
    }
   ],
   "source": [
    "metric_frame.overall"
   ]
  },
  {
   "cell_type": "markdown",
   "id": "e968fe9d",
   "metadata": {
    "papermill": {
     "duration": 0.039565,
     "end_time": "2025-08-05T15:49:38.461452",
     "exception": false,
     "start_time": "2025-08-05T15:49:38.421887",
     "status": "completed"
    },
    "tags": []
   },
   "source": [
    "By Group"
   ]
  },
  {
   "cell_type": "code",
   "execution_count": 62,
   "id": "ec325bce",
   "metadata": {
    "execution": {
     "iopub.execute_input": "2025-08-05T15:49:38.534248Z",
     "iopub.status.busy": "2025-08-05T15:49:38.533742Z",
     "iopub.status.idle": "2025-08-05T15:49:38.549608Z",
     "shell.execute_reply": "2025-08-05T15:49:38.547875Z"
    },
    "papermill": {
     "duration": 0.048858,
     "end_time": "2025-08-05T15:49:38.551999",
     "exception": false,
     "start_time": "2025-08-05T15:49:38.503141",
     "status": "completed"
    },
    "tags": []
   },
   "outputs": [
    {
     "data": {
      "text/html": [
       "<div>\n",
       "<style scoped>\n",
       "    .dataframe tbody tr th:only-of-type {\n",
       "        vertical-align: middle;\n",
       "    }\n",
       "\n",
       "    .dataframe tbody tr th {\n",
       "        vertical-align: top;\n",
       "    }\n",
       "\n",
       "    .dataframe thead th {\n",
       "        text-align: right;\n",
       "    }\n",
       "</style>\n",
       "<table border=\"1\" class=\"dataframe\">\n",
       "  <thead>\n",
       "    <tr style=\"text-align: right;\">\n",
       "      <th></th>\n",
       "      <th>accuracy</th>\n",
       "      <th>balanced accuracy</th>\n",
       "      <th>f1</th>\n",
       "      <th>precision</th>\n",
       "      <th>false positive rate</th>\n",
       "      <th>false negative rate</th>\n",
       "      <th>selection rate</th>\n",
       "      <th>count</th>\n",
       "    </tr>\n",
       "    <tr>\n",
       "      <th>majmin</th>\n",
       "      <th></th>\n",
       "      <th></th>\n",
       "      <th></th>\n",
       "      <th></th>\n",
       "      <th></th>\n",
       "      <th></th>\n",
       "      <th></th>\n",
       "      <th></th>\n",
       "    </tr>\n",
       "  </thead>\n",
       "  <tbody>\n",
       "    <tr>\n",
       "      <th>majority</th>\n",
       "      <td>0.243661</td>\n",
       "      <td>0.555533</td>\n",
       "      <td>0.254970</td>\n",
       "      <td>0.146562</td>\n",
       "      <td>0.868366</td>\n",
       "      <td>0.020569</td>\n",
       "      <td>0.883042</td>\n",
       "      <td>69170.0</td>\n",
       "    </tr>\n",
       "    <tr>\n",
       "      <th>minority</th>\n",
       "      <td>0.155453</td>\n",
       "      <td>0.517558</td>\n",
       "      <td>0.212467</td>\n",
       "      <td>0.119029</td>\n",
       "      <td>0.953060</td>\n",
       "      <td>0.011824</td>\n",
       "      <td>0.957108</td>\n",
       "      <td>20540.0</td>\n",
       "    </tr>\n",
       "  </tbody>\n",
       "</table>\n",
       "</div>"
      ],
      "text/plain": [
       "          accuracy  balanced accuracy        f1  precision  \\\n",
       "majmin                                                       \n",
       "majority  0.243661           0.555533  0.254970   0.146562   \n",
       "minority  0.155453           0.517558  0.212467   0.119029   \n",
       "\n",
       "          false positive rate  false negative rate  selection rate    count  \n",
       "majmin                                                                       \n",
       "majority             0.868366             0.020569        0.883042  69170.0  \n",
       "minority             0.953060             0.011824        0.957108  20540.0  "
      ]
     },
     "execution_count": 62,
     "metadata": {},
     "output_type": "execute_result"
    }
   ],
   "source": [
    "metric_frame.by_group"
   ]
  },
  {
   "cell_type": "code",
   "execution_count": 63,
   "id": "a9ddbe63",
   "metadata": {
    "execution": {
     "iopub.execute_input": "2025-08-05T15:49:38.617811Z",
     "iopub.status.busy": "2025-08-05T15:49:38.617229Z",
     "iopub.status.idle": "2025-08-05T15:49:41.014392Z",
     "shell.execute_reply": "2025-08-05T15:49:41.013652Z"
    },
    "papermill": {
     "duration": 2.432926,
     "end_time": "2025-08-05T15:49:41.016132",
     "exception": false,
     "start_time": "2025-08-05T15:49:38.583206",
     "status": "completed"
    },
    "tags": []
   },
   "outputs": [
    {
     "data": {
      "text/plain": [
       "array([[<Axes: title={'center': 'accuracy'}, xlabel='majmin'>,\n",
       "        <Axes: title={'center': 'balanced accuracy'}, xlabel='majmin'>,\n",
       "        <Axes: title={'center': 'f1'}, xlabel='majmin'>],\n",
       "       [<Axes: title={'center': 'precision'}, xlabel='majmin'>,\n",
       "        <Axes: title={'center': 'false positive rate'}, xlabel='majmin'>,\n",
       "        <Axes: title={'center': 'false negative rate'}, xlabel='majmin'>],\n",
       "       [<Axes: title={'center': 'selection rate'}, xlabel='majmin'>,\n",
       "        <Axes: title={'center': 'count'}, xlabel='majmin'>,\n",
       "        <Axes: xlabel='majmin'>]], dtype=object)"
      ]
     },
     "execution_count": 63,
     "metadata": {},
     "output_type": "execute_result"
    },
    {
     "data": {
      "image/png": "[encoded data removed]",
      "text/plain": [
       "<Figure size 1200x800 with 9 Axes>"
      ]
     },
     "metadata": {},
     "output_type": "display_data"
    }
   ],
   "source": [
    "# In a graphic\n",
    "metric_frame.by_group.plot.bar(\n",
    "    subplots=True,\n",
    "    layout=[3, 3],\n",
    "    legend=False,\n",
    "    figsize=[12, 8],\n",
    "    title=\"Show all metrics\",\n",
    ")"
   ]
  },
  {
   "cell_type": "markdown",
   "id": "f57a0bac",
   "metadata": {
    "papermill": {
     "duration": 0.030095,
     "end_time": "2025-08-05T15:49:41.083009",
     "exception": false,
     "start_time": "2025-08-05T15:49:41.052914",
     "status": "completed"
    },
    "tags": []
   },
   "source": [
    "# Final Output"
   ]
  },
  {
   "cell_type": "code",
   "execution_count": 64,
   "id": "96d280a3",
   "metadata": {
    "execution": {
     "iopub.execute_input": "2025-08-05T15:49:41.145938Z",
     "iopub.status.busy": "2025-08-05T15:49:41.145196Z",
     "iopub.status.idle": "2025-08-05T15:49:41.153404Z",
     "shell.execute_reply": "2025-08-05T15:49:41.152512Z"
    },
    "papermill": {
     "duration": 0.040619,
     "end_time": "2025-08-05T15:49:41.155102",
     "exception": false,
     "start_time": "2025-08-05T15:49:41.114483",
     "status": "completed"
    },
    "tags": []
   },
   "outputs": [
    {
     "data": {
      "text/plain": [
       "4"
      ]
     },
     "execution_count": 64,
     "metadata": {},
     "output_type": "execute_result"
    }
   ],
   "source": [
    "sub_universes = universe_analysis.generate_sub_universes()\n",
    "len(sub_universes)"
   ]
  },
  {
   "cell_type": "code",
   "execution_count": 65,
   "id": "92adf7ba",
   "metadata": {
    "execution": {
     "iopub.execute_input": "2025-08-05T15:49:41.210813Z",
     "iopub.status.busy": "2025-08-05T15:49:41.210013Z",
     "iopub.status.idle": "2025-08-05T15:49:41.215515Z",
     "shell.execute_reply": "2025-08-05T15:49:41.214797Z"
    },
    "papermill": {
     "duration": 0.034765,
     "end_time": "2025-08-05T15:49:41.216832",
     "exception": false,
     "start_time": "2025-08-05T15:49:41.182067",
     "status": "completed"
    },
    "tags": []
   },
   "outputs": [],
   "source": [
    "def filter_sub_universe_data(sub_universe, org_test):\n",
    "    # Keep all rows — no filtering\n",
    "    keep_rows_mask = np.ones(org_test.shape[0], dtype=bool)\n",
    "\n",
    "    print(f\"[INFO] Keeping all rows: {keep_rows_mask.sum()} rows retained.\")\n",
    "    return keep_rows_mask"
   ]
  },
  {
   "cell_type": "code",
   "execution_count": 66,
   "id": "4a759155",
   "metadata": {
    "execution": {
     "iopub.execute_input": "2025-08-05T15:49:41.264438Z",
     "iopub.status.busy": "2025-08-05T15:49:41.264017Z",
     "iopub.status.idle": "2025-08-05T15:49:48.376481Z",
     "shell.execute_reply": "2025-08-05T15:49:48.375403Z"
    },
    "papermill": {
     "duration": 7.145205,
     "end_time": "2025-08-05T15:49:48.378397",
     "exception": false,
     "start_time": "2025-08-05T15:49:41.233192",
     "status": "completed"
    },
    "tags": []
   },
   "outputs": [
    {
     "name": "stdout",
     "output_type": "stream",
     "text": [
      "Stopping execution_time clock.\n",
      "[INFO] Keeping all rows: 89710 rows retained.\n"
     ]
    },
    {
     "name": "stdout",
     "output_type": "stream",
     "text": [
      "[INFO] Keeping all rows: 89710 rows retained.\n"
     ]
    },
    {
     "name": "stdout",
     "output_type": "stream",
     "text": [
      "[INFO] Keeping all rows: 89710 rows retained.\n"
     ]
    },
    {
     "name": "stdout",
     "output_type": "stream",
     "text": [
      "[INFO] Keeping all rows: 89710 rows retained.\n"
     ]
    },
    {
     "data": {
      "text/html": [
       "<div>\n",
       "<style scoped>\n",
       "    .dataframe tbody tr th:only-of-type {\n",
       "        vertical-align: middle;\n",
       "    }\n",
       "\n",
       "    .dataframe tbody tr th {\n",
       "        vertical-align: top;\n",
       "    }\n",
       "\n",
       "    .dataframe thead th {\n",
       "        text-align: right;\n",
       "    }\n",
       "</style>\n",
       "<table border=\"1\" class=\"dataframe\">\n",
       "  <thead>\n",
       "    <tr style=\"text-align: right;\">\n",
       "      <th></th>\n",
       "      <th>run_no</th>\n",
       "      <th>universe_id</th>\n",
       "      <th>universe_settings</th>\n",
       "      <th>execution_time</th>\n",
       "      <th>test_size_n</th>\n",
       "      <th>test_size_frac</th>\n",
       "      <th>fair_main_equalized_odds_difference</th>\n",
       "      <th>fair_main_equalized_odds_ratio</th>\n",
       "      <th>fair_main_demographic_parity_difference</th>\n",
       "      <th>fair_main_demographic_parity_ratio</th>\n",
       "      <th>...</th>\n",
       "      <th>perf_grp_precision_0</th>\n",
       "      <th>perf_grp_precision_1</th>\n",
       "      <th>perf_grp_false positive rate_0</th>\n",
       "      <th>perf_grp_false positive rate_1</th>\n",
       "      <th>perf_grp_false negative rate_0</th>\n",
       "      <th>perf_grp_false negative rate_1</th>\n",
       "      <th>perf_grp_selection rate_0</th>\n",
       "      <th>perf_grp_selection rate_1</th>\n",
       "      <th>perf_grp_count_0</th>\n",
       "      <th>perf_grp_count_1</th>\n",
       "    </tr>\n",
       "  </thead>\n",
       "  <tbody>\n",
       "    <tr>\n",
       "      <th>0</th>\n",
       "      <td>15</td>\n",
       "      <td>ba805f298b8075471d602c2943d6caa3</td>\n",
       "      <td>{\"cutoff\": \"quantile_0.1\", \"eval_fairness_grou...</td>\n",
       "      <td>22.072457</td>\n",
       "      <td>89710</td>\n",
       "      <td>1.0</td>\n",
       "      <td>0.084694</td>\n",
       "      <td>0.911135</td>\n",
       "      <td>0.074066</td>\n",
       "      <td>0.922614</td>\n",
       "      <td>...</td>\n",
       "      <td>NaN</td>\n",
       "      <td>NaN</td>\n",
       "      <td>NaN</td>\n",
       "      <td>NaN</td>\n",
       "      <td>NaN</td>\n",
       "      <td>NaN</td>\n",
       "      <td>NaN</td>\n",
       "      <td>NaN</td>\n",
       "      <td>NaN</td>\n",
       "      <td>NaN</td>\n",
       "    </tr>\n",
       "    <tr>\n",
       "      <th>0</th>\n",
       "      <td>15</td>\n",
       "      <td>ba805f298b8075471d602c2943d6caa3</td>\n",
       "      <td>{\"cutoff\": \"quantile_0.1\", \"eval_fairness_grou...</td>\n",
       "      <td>22.072457</td>\n",
       "      <td>89710</td>\n",
       "      <td>1.0</td>\n",
       "      <td>0.084694</td>\n",
       "      <td>0.911135</td>\n",
       "      <td>0.074066</td>\n",
       "      <td>0.922614</td>\n",
       "      <td>...</td>\n",
       "      <td>0.119029</td>\n",
       "      <td>0.146562</td>\n",
       "      <td>0.953060</td>\n",
       "      <td>0.868366</td>\n",
       "      <td>0.011824</td>\n",
       "      <td>0.020569</td>\n",
       "      <td>0.957108</td>\n",
       "      <td>0.883042</td>\n",
       "      <td>20540.0</td>\n",
       "      <td>69170.0</td>\n",
       "    </tr>\n",
       "    <tr>\n",
       "      <th>0</th>\n",
       "      <td>15</td>\n",
       "      <td>ba805f298b8075471d602c2943d6caa3</td>\n",
       "      <td>{\"cutoff\": \"quantile_0.25\", \"eval_fairness_gro...</td>\n",
       "      <td>22.072457</td>\n",
       "      <td>89710</td>\n",
       "      <td>1.0</td>\n",
       "      <td>0.182901</td>\n",
       "      <td>0.788152</td>\n",
       "      <td>0.160516</td>\n",
       "      <td>0.816293</td>\n",
       "      <td>...</td>\n",
       "      <td>NaN</td>\n",
       "      <td>NaN</td>\n",
       "      <td>NaN</td>\n",
       "      <td>NaN</td>\n",
       "      <td>NaN</td>\n",
       "      <td>NaN</td>\n",
       "      <td>NaN</td>\n",
       "      <td>NaN</td>\n",
       "      <td>NaN</td>\n",
       "      <td>NaN</td>\n",
       "    </tr>\n",
       "    <tr>\n",
       "      <th>0</th>\n",
       "      <td>15</td>\n",
       "      <td>ba805f298b8075471d602c2943d6caa3</td>\n",
       "      <td>{\"cutoff\": \"quantile_0.25\", \"eval_fairness_gro...</td>\n",
       "      <td>22.072457</td>\n",
       "      <td>89710</td>\n",
       "      <td>1.0</td>\n",
       "      <td>0.182901</td>\n",
       "      <td>0.788152</td>\n",
       "      <td>0.160516</td>\n",
       "      <td>0.816293</td>\n",
       "      <td>...</td>\n",
       "      <td>0.125815</td>\n",
       "      <td>0.172028</td>\n",
       "      <td>0.863361</td>\n",
       "      <td>0.680460</td>\n",
       "      <td>0.046453</td>\n",
       "      <td>0.071444</td>\n",
       "      <td>0.873759</td>\n",
       "      <td>0.713243</td>\n",
       "      <td>20540.0</td>\n",
       "      <td>69170.0</td>\n",
       "    </tr>\n",
       "  </tbody>\n",
       "</table>\n",
       "<p>4 rows × 50 columns</p>\n",
       "</div>"
      ],
      "text/plain": [
       "  run_no                       universe_id  \\\n",
       "0     15  ba805f298b8075471d602c2943d6caa3   \n",
       "0     15  ba805f298b8075471d602c2943d6caa3   \n",
       "0     15  ba805f298b8075471d602c2943d6caa3   \n",
       "0     15  ba805f298b8075471d602c2943d6caa3   \n",
       "\n",
       "                                   universe_settings  execution_time  \\\n",
       "0  {\"cutoff\": \"quantile_0.1\", \"eval_fairness_grou...       22.072457   \n",
       "0  {\"cutoff\": \"quantile_0.1\", \"eval_fairness_grou...       22.072457   \n",
       "0  {\"cutoff\": \"quantile_0.25\", \"eval_fairness_gro...       22.072457   \n",
       "0  {\"cutoff\": \"quantile_0.25\", \"eval_fairness_gro...       22.072457   \n",
       "\n",
       "   test_size_n  test_size_frac  fair_main_equalized_odds_difference  \\\n",
       "0        89710             1.0                             0.084694   \n",
       "0        89710             1.0                             0.084694   \n",
       "0        89710             1.0                             0.182901   \n",
       "0        89710             1.0                             0.182901   \n",
       "\n",
       "   fair_main_equalized_odds_ratio  fair_main_demographic_parity_difference  \\\n",
       "0                        0.911135                                 0.074066   \n",
       "0                        0.911135                                 0.074066   \n",
       "0                        0.788152                                 0.160516   \n",
       "0                        0.788152                                 0.160516   \n",
       "\n",
       "   fair_main_demographic_parity_ratio  ...  perf_grp_precision_0  \\\n",
       "0                            0.922614  ...                   NaN   \n",
       "0                            0.922614  ...              0.119029   \n",
       "0                            0.816293  ...                   NaN   \n",
       "0                            0.816293  ...              0.125815   \n",
       "\n",
       "   perf_grp_precision_1  perf_grp_false positive rate_0  \\\n",
       "0                   NaN                             NaN   \n",
       "0              0.146562                        0.953060   \n",
       "0                   NaN                             NaN   \n",
       "0              0.172028                        0.863361   \n",
       "\n",
       "   perf_grp_false positive rate_1  perf_grp_false negative rate_0  \\\n",
       "0                             NaN                             NaN   \n",
       "0                        0.868366                        0.011824   \n",
       "0                             NaN                             NaN   \n",
       "0                        0.680460                        0.046453   \n",
       "\n",
       "   perf_grp_false negative rate_1  perf_grp_selection rate_0  \\\n",
       "0                             NaN                        NaN   \n",
       "0                        0.020569                   0.957108   \n",
       "0                             NaN                        NaN   \n",
       "0                        0.071444                   0.873759   \n",
       "\n",
       "   perf_grp_selection rate_1  perf_grp_count_0  perf_grp_count_1  \n",
       "0                        NaN               NaN               NaN  \n",
       "0                   0.883042           20540.0           69170.0  \n",
       "0                        NaN               NaN               NaN  \n",
       "0                   0.713243           20540.0           69170.0  \n",
       "\n",
       "[4 rows x 50 columns]"
      ]
     },
     "execution_count": 66,
     "metadata": {},
     "output_type": "execute_result"
    }
   ],
   "source": [
    "final_output = universe_analysis.generate_final_output(\n",
    "    y_pred_prob=probs_test,\n",
    "    y_test=y_true,\n",
    "    org_test=org_test,\n",
    "    filter_data=filter_sub_universe_data,\n",
    "    cp_metrics_df=cp_metrics_df,\n",
    "    save=True,\n",
    ")\n",
    "final_output"
   ]
  }
 ],
 "metadata": {
  "celltoolbar": "Tags",
  "kernelspec": {
   "display_name": "Python (CMA Fairness)",
   "language": "python",
   "name": "cma_fair_env"
  },
  "language_info": {
   "codemirror_mode": {
    "name": "ipython",
    "version": 3
   },
   "file_extension": ".py",
   "mimetype": "text/x-python",
   "name": "python",
   "nbconvert_exporter": "python",
   "pygments_lexer": "ipython3",
   "version": "3.10.12"
  },
  "papermill": {
   "default_parameters": {},
   "duration": 33.437884,
   "end_time": "2025-08-05T15:49:49.230108",
   "environment_variables": {},
   "exception": null,
   "input_path": "universe_analysis.ipynb",
   "output_path": "output/runs/15/notebooks/m_15-ba805f298b8075471d602c2943d6caa3.ipynb",
   "parameters": {
    "output_dir": "output",
    "run_no": "15",
    "seed": "2023",
    "universe": "{\"cutoff\": [\"quantile_0.1\", \"quantile_0.25\"], \"eval_fairness_grouping\": [\"majority-minority\", \"nationality-all\"], \"exclude_features\": \"nationality\", \"exclude_subgroups\": \"drop-non-german\", \"model\": \"penalized_logreg\", \"scale\": \"scale\", \"training_size\": \"5k\", \"training_year\": \"2010_14\"}",
    "universe_id": "ba805f298b8075471d602c2943d6caa3"
   },
   "start_time": "2025-08-05T15:49:15.792224",
   "version": "2.6.0"
  }
 },
 "nbformat": 4,
 "nbformat_minor": 5
}