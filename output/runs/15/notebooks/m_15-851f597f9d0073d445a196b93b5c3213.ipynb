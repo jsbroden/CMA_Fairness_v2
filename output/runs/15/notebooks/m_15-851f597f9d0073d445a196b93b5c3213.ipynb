{
 "cells": [
  {
   "cell_type": "code",
   "execution_count": 1,
   "id": "f159f837-637b-42ba-96b5-ec9a68c44524",
   "metadata": {
    "execution": {
     "iopub.execute_input": "2025-08-05T14:48:58.544401Z",
     "iopub.status.busy": "2025-08-05T14:48:58.543867Z",
     "iopub.status.idle": "2025-08-05T14:48:58.559240Z",
     "shell.execute_reply": "2025-08-05T14:48:58.557956Z"
    },
    "papermill": {
     "duration": 0.037906,
     "end_time": "2025-08-05T14:48:58.562497",
     "exception": false,
     "start_time": "2025-08-05T14:48:58.524591",
     "status": "completed"
    },
    "tags": []
   },
   "outputs": [
    {
     "name": "stdout",
     "output_type": "stream",
     "text": [
      "/dss/dsshome1/0C/ra93lal2/cma/CMA_Fairness_v2\n"
     ]
    },
    {
     "name": "stderr",
     "output_type": "stream",
     "text": [
      "/dss/dsshome1/0C/ra93lal2/.local/share/virtualenvs/CMA_Fairness_v2-3j10GkSs/lib/python3.10/site-packages/IPython/core/magics/osm.py:393: UserWarning: This is now an optional IPython functionality, using bookmarks requires you to install the `pickleshare` library.\n",
      "  bkms = self.shell.db.get('bookmarks', {})\n",
      "/dss/dsshome1/0C/ra93lal2/.local/share/virtualenvs/CMA_Fairness_v2-3j10GkSs/lib/python3.10/site-packages/IPython/core/magics/osm.py:417: UserWarning: This is now an optional IPython functionality, setting dhist requires you to install the `pickleshare` library.\n",
      "  self.shell.db['dhist'] = compress_dhist(dhist)[-100:]\n"
     ]
    }
   ],
   "source": [
    "%cd ~/cma/CMA_Fairness_v2"
   ]
  },
  {
   "cell_type": "markdown",
   "id": "de2603b9",
   "metadata": {
    "papermill": {
     "duration": 0.020611,
     "end_time": "2025-08-05T14:48:58.609678",
     "exception": false,
     "start_time": "2025-08-05T14:48:58.589067",
     "status": "completed"
    },
    "tags": []
   },
   "source": [
    "The following cell holds the definition of our parameters, these values can be overriden by rendering the with e.g. the following command:\n",
    "\n",
    "papermill -p alpha 0.2 -p ratio 0.3 universe_analysis.ipynb output/test_run.ipynb"
   ]
  },
  {
   "cell_type": "code",
   "execution_count": 2,
   "id": "a80968a0-40bb-4fa9-85ef-2d5eefb01975",
   "metadata": {
    "execution": {
     "iopub.execute_input": "2025-08-05T14:48:58.644515Z",
     "iopub.status.busy": "2025-08-05T14:48:58.644098Z",
     "iopub.status.idle": "2025-08-05T14:48:58.649949Z",
     "shell.execute_reply": "2025-08-05T14:48:58.648782Z"
    },
    "papermill": {
     "duration": 0.025374,
     "end_time": "2025-08-05T14:48:58.652027",
     "exception": false,
     "start_time": "2025-08-05T14:48:58.626653",
     "status": "completed"
    },
    "tags": []
   },
   "outputs": [
    {
     "name": "stdout",
     "output_type": "stream",
     "text": [
      "Current working directory: /dss/dsshome1/0C/ra93lal2/cma/CMA_Fairness_v2\n"
     ]
    }
   ],
   "source": [
    "import os\n",
    "print(\"Current working directory:\", os.getcwd())"
   ]
  },
  {
   "cell_type": "code",
   "execution_count": 3,
   "id": "2dce4c03",
   "metadata": {
    "execution": {
     "iopub.execute_input": "2025-08-05T14:48:58.689477Z",
     "iopub.status.busy": "2025-08-05T14:48:58.688914Z",
     "iopub.status.idle": "2025-08-05T14:48:58.696816Z",
     "shell.execute_reply": "2025-08-05T14:48:58.696053Z"
    },
    "papermill": {
     "duration": 0.029246,
     "end_time": "2025-08-05T14:48:58.698423",
     "exception": false,
     "start_time": "2025-08-05T14:48:58.669177",
     "status": "completed"
    },
    "tags": [
     "parameters"
    ]
   },
   "outputs": [],
   "source": [
    "run_no = 0\n",
    "universe_id = \"test\"\n",
    "universe = {\n",
    "    \"training_size\": \"25k\", # \"25k\", \"5k\", \"1k\"\n",
    "    \"training_year\": \"2014\", # \"2014\", \"2012_14\", \"2010_14\"\n",
    "    \"scale\": \"scale\", # \"scale\", \"do-not-scale\",\n",
    "    \"model\": \"elasticnet\", # \"logreg\", \"penalized_logreg\", \"rf\", \"gbm\", \"elasticnet\"\n",
    "    \"cutoff\": [\"quantile_0.15\", \"quantile_0.30\"],\n",
    "    \"exclude_features\": \"age\", # \"none\", \"nationality\", \"sex\", \"nationality-sex\", \"age\"\n",
    "    \"exclude_subgroups\": \"keep-all\", # \"keep-all\", \"drop-non-german\"\n",
    "    \"eval_fairness_grouping\": [\"majority-minority\", \"nationality-all\"]\n",
    "}\n",
    "\n",
    "output_dir=\"./output\"\n",
    "seed=0"
   ]
  },
  {
   "cell_type": "code",
   "execution_count": 4,
   "id": "2766ce7d",
   "metadata": {
    "execution": {
     "iopub.execute_input": "2025-08-05T14:48:58.718524Z",
     "iopub.status.busy": "2025-08-05T14:48:58.718210Z",
     "iopub.status.idle": "2025-08-05T14:48:58.728459Z",
     "shell.execute_reply": "2025-08-05T14:48:58.727578Z"
    },
    "papermill": {
     "duration": 0.02202,
     "end_time": "2025-08-05T14:48:58.729916",
     "exception": false,
     "start_time": "2025-08-05T14:48:58.707896",
     "status": "completed"
    },
    "tags": [
     "injected-parameters"
    ]
   },
   "outputs": [],
   "source": [
    "# Parameters\n",
    "universe_id = \"851f597f9d0073d445a196b93b5c3213\"\n",
    "run_no = \"15\"\n",
    "universe = \"{\\\"cutoff\\\": [\\\"quantile_0.1\\\", \\\"quantile_0.25\\\"], \\\"eval_fairness_grouping\\\": [\\\"majority-minority\\\", \\\"nationality-all\\\"], \\\"exclude_features\\\": \\\"none\\\", \\\"exclude_subgroups\\\": \\\"keep-all\\\", \\\"model\\\": \\\"penalized_logreg\\\", \\\"scale\\\": \\\"scale\\\", \\\"training_size\\\": \\\"25k\\\", \\\"training_year\\\": \\\"2012_14\\\"}\"\n",
    "output_dir = \"output\"\n",
    "seed = \"2023\"\n"
   ]
  },
  {
   "cell_type": "code",
   "execution_count": 5,
   "id": "1650acaf",
   "metadata": {
    "execution": {
     "iopub.execute_input": "2025-08-05T14:48:58.753269Z",
     "iopub.status.busy": "2025-08-05T14:48:58.752823Z",
     "iopub.status.idle": "2025-08-05T14:48:58.758262Z",
     "shell.execute_reply": "2025-08-05T14:48:58.756983Z"
    },
    "papermill": {
     "duration": 0.019434,
     "end_time": "2025-08-05T14:48:58.760478",
     "exception": false,
     "start_time": "2025-08-05T14:48:58.741044",
     "status": "completed"
    },
    "tags": []
   },
   "outputs": [],
   "source": [
    "import json\n",
    "if isinstance(universe, str):\n",
    "    universe = json.loads(universe)"
   ]
  },
  {
   "cell_type": "code",
   "execution_count": 6,
   "id": "16620c48",
   "metadata": {
    "execution": {
     "iopub.execute_input": "2025-08-05T14:48:58.799070Z",
     "iopub.status.busy": "2025-08-05T14:48:58.798370Z",
     "iopub.status.idle": "2025-08-05T14:48:58.847961Z",
     "shell.execute_reply": "2025-08-05T14:48:58.846855Z"
    },
    "papermill": {
     "duration": 0.070926,
     "end_time": "2025-08-05T14:48:58.849988",
     "exception": false,
     "start_time": "2025-08-05T14:48:58.779062",
     "status": "completed"
    },
    "tags": []
   },
   "outputs": [],
   "source": [
    "# Auto-reload the custom package\n",
    "%load_ext autoreload\n",
    "%autoreload 1\n",
    "%aimport fairness_multiverse"
   ]
  },
  {
   "cell_type": "code",
   "execution_count": 7,
   "id": "01c5c9f3",
   "metadata": {
    "execution": {
     "iopub.execute_input": "2025-08-05T14:48:58.889128Z",
     "iopub.status.busy": "2025-08-05T14:48:58.888213Z",
     "iopub.status.idle": "2025-08-05T14:49:00.589939Z",
     "shell.execute_reply": "2025-08-05T14:49:00.588674Z"
    },
    "papermill": {
     "duration": 1.72376,
     "end_time": "2025-08-05T14:49:00.592071",
     "exception": false,
     "start_time": "2025-08-05T14:48:58.868311",
     "status": "completed"
    },
    "tags": []
   },
   "outputs": [],
   "source": [
    "from fairness_multiverse.universe import UniverseAnalysis\n",
    "\n",
    "universe_analysis = UniverseAnalysis(\n",
    "    run_no = run_no,\n",
    "    universe_id = universe_id,\n",
    "    universe = universe,\n",
    "    output_dir=output_dir,\n",
    ")"
   ]
  },
  {
   "cell_type": "code",
   "execution_count": 8,
   "id": "106241f5",
   "metadata": {
    "execution": {
     "iopub.execute_input": "2025-08-05T14:49:00.632963Z",
     "iopub.status.busy": "2025-08-05T14:49:00.632007Z",
     "iopub.status.idle": "2025-08-05T14:49:00.638852Z",
     "shell.execute_reply": "2025-08-05T14:49:00.637595Z"
    },
    "papermill": {
     "duration": 0.038374,
     "end_time": "2025-08-05T14:49:00.650690",
     "exception": false,
     "start_time": "2025-08-05T14:49:00.612316",
     "status": "completed"
    },
    "tags": []
   },
   "outputs": [
    {
     "name": "stdout",
     "output_type": "stream",
     "text": [
      "Using Seed: 2023\n"
     ]
    }
   ],
   "source": [
    "import numpy as np\n",
    "parsed_seed = int(seed)\n",
    "np.random.seed(parsed_seed)\n",
    "print(f\"Using Seed: {parsed_seed}\")"
   ]
  },
  {
   "cell_type": "markdown",
   "id": "e0ebdc57",
   "metadata": {
    "papermill": {
     "duration": 0.00891,
     "end_time": "2025-08-05T14:49:00.683360",
     "exception": false,
     "start_time": "2025-08-05T14:49:00.674450",
     "status": "completed"
    },
    "tags": []
   },
   "source": [
    "# Loading Data"
   ]
  },
  {
   "cell_type": "code",
   "execution_count": 9,
   "id": "f0496b8a",
   "metadata": {
    "execution": {
     "iopub.execute_input": "2025-08-05T14:49:00.705137Z",
     "iopub.status.busy": "2025-08-05T14:49:00.704226Z",
     "iopub.status.idle": "2025-08-05T14:49:10.206837Z",
     "shell.execute_reply": "2025-08-05T14:49:10.205704Z"
    },
    "papermill": {
     "duration": 9.522591,
     "end_time": "2025-08-05T14:49:10.214338",
     "exception": false,
     "start_time": "2025-08-05T14:49:00.691747",
     "status": "completed"
    },
    "tags": []
   },
   "outputs": [
    {
     "name": "stdout",
     "output_type": "stream",
     "text": [
      "Loading SIAB data from cache: data/siab_cached.csv.gz\n"
     ]
    },
    {
     "name": "stdout",
     "output_type": "stream",
     "text": [
      "(643690, 164)\n"
     ]
    }
   ],
   "source": [
    "from pathlib import Path\n",
    "import pandas as pd\n",
    "\n",
    "# File paths\n",
    "raw_file = Path(\"data/raw/siab.csv\")\n",
    "cache_file = Path(\"data/siab_cached.csv.gz\")\n",
    "\n",
    "# Ensure cache directory exists\n",
    "cache_file.parent.mkdir(parents=True, exist_ok=True)\n",
    "\n",
    "# Load with simple caching\n",
    "if cache_file.exists():\n",
    "    print(f\"Loading SIAB data from cache: {cache_file}\")\n",
    "    siab = pd.read_csv(cache_file, compression='gzip')\n",
    "else:\n",
    "    print(f\"Cache not found. Reading raw SIAB data: {raw_file}\")\n",
    "    siab = pd.read_csv(raw_file)\n",
    "    siab.to_csv(cache_file, index=False, compression='gzip')\n",
    "    print(f\"Cached SIAB data to: {cache_file}\")\n",
    "\n",
    "print(siab.shape)"
   ]
  },
  {
   "cell_type": "code",
   "execution_count": 10,
   "id": "db0ca512-5f53-4dba-abdb-a2888bca41ba",
   "metadata": {
    "execution": {
     "iopub.execute_input": "2025-08-05T14:49:10.270858Z",
     "iopub.status.busy": "2025-08-05T14:49:10.270372Z",
     "iopub.status.idle": "2025-08-05T14:49:10.275279Z",
     "shell.execute_reply": "2025-08-05T14:49:10.274380Z"
    },
    "papermill": {
     "duration": 0.045638,
     "end_time": "2025-08-05T14:49:10.276720",
     "exception": false,
     "start_time": "2025-08-05T14:49:10.231082",
     "status": "completed"
    },
    "tags": []
   },
   "outputs": [],
   "source": [
    "#siab"
   ]
  },
  {
   "cell_type": "markdown",
   "id": "997051c5-15bd-4b69-9786-c3001a3ce484",
   "metadata": {
    "papermill": {
     "duration": 0.009129,
     "end_time": "2025-08-05T14:49:10.296668",
     "exception": false,
     "start_time": "2025-08-05T14:49:10.287539",
     "status": "completed"
    },
    "tags": []
   },
   "source": [
    "# Splitting Data and Setting Training Data Size"
   ]
  },
  {
   "cell_type": "code",
   "execution_count": 11,
   "id": "aea9c6ef-6f46-42c8-85eb-5a62025c1508",
   "metadata": {
    "execution": {
     "iopub.execute_input": "2025-08-05T14:49:10.316082Z",
     "iopub.status.busy": "2025-08-05T14:49:10.315326Z",
     "iopub.status.idle": "2025-08-05T14:49:11.010265Z",
     "shell.execute_reply": "2025-08-05T14:49:11.009212Z"
    },
    "papermill": {
     "duration": 0.70728,
     "end_time": "2025-08-05T14:49:11.012645",
     "exception": false,
     "start_time": "2025-08-05T14:49:10.305365",
     "status": "completed"
    },
    "tags": []
   },
   "outputs": [],
   "source": [
    "from fairness_multiverse.universe import sample_by_year_size\n",
    "\n",
    "siab_train = sample_by_year_size(siab,\n",
    "                               training_year=universe[\"training_year\"],\n",
    "                               training_size=universe[\"training_size\"])"
   ]
  },
  {
   "cell_type": "code",
   "execution_count": 12,
   "id": "8d3afb32-789d-442c-8d5d-9f5aa8dd2eed",
   "metadata": {
    "execution": {
     "iopub.execute_input": "2025-08-05T14:49:11.059492Z",
     "iopub.status.busy": "2025-08-05T14:49:11.059018Z",
     "iopub.status.idle": "2025-08-05T14:49:11.064614Z",
     "shell.execute_reply": "2025-08-05T14:49:11.063534Z"
    },
    "papermill": {
     "duration": 0.031275,
     "end_time": "2025-08-05T14:49:11.066953",
     "exception": false,
     "start_time": "2025-08-05T14:49:11.035678",
     "status": "completed"
    },
    "tags": []
   },
   "outputs": [],
   "source": [
    "#siab_train.shape"
   ]
  },
  {
   "cell_type": "code",
   "execution_count": 13,
   "id": "d582db68-1a4c-47fb-84fc-08518dc1975a",
   "metadata": {
    "execution": {
     "iopub.execute_input": "2025-08-05T14:49:11.116788Z",
     "iopub.status.busy": "2025-08-05T14:49:11.116243Z",
     "iopub.status.idle": "2025-08-05T14:49:11.122406Z",
     "shell.execute_reply": "2025-08-05T14:49:11.121102Z"
    },
    "papermill": {
     "duration": 0.034854,
     "end_time": "2025-08-05T14:49:11.124852",
     "exception": false,
     "start_time": "2025-08-05T14:49:11.089998",
     "status": "completed"
    },
    "tags": []
   },
   "outputs": [],
   "source": [
    "#display(siab_train.groupby(\"year\").size())"
   ]
  },
  {
   "cell_type": "code",
   "execution_count": 14,
   "id": "a561edb4-d032-42cb-8256-22eac1111c64",
   "metadata": {
    "execution": {
     "iopub.execute_input": "2025-08-05T14:49:11.178503Z",
     "iopub.status.busy": "2025-08-05T14:49:11.177674Z",
     "iopub.status.idle": "2025-08-05T14:49:11.602792Z",
     "shell.execute_reply": "2025-08-05T14:49:11.601557Z"
    },
    "papermill": {
     "duration": 0.454081,
     "end_time": "2025-08-05T14:49:11.605249",
     "exception": false,
     "start_time": "2025-08-05T14:49:11.151168",
     "status": "completed"
    },
    "tags": []
   },
   "outputs": [],
   "source": [
    "#siab_train = siab_s[siab_s.year < 2015]\n",
    "siab_calib = siab[siab.year == 2015]\n",
    "siab_test = siab[siab.year == 2016]"
   ]
  },
  {
   "cell_type": "code",
   "execution_count": 15,
   "id": "472de16f-c3db-4916-846b-1f0de9cf1746",
   "metadata": {
    "execution": {
     "iopub.execute_input": "2025-08-05T14:49:11.649455Z",
     "iopub.status.busy": "2025-08-05T14:49:11.648763Z",
     "iopub.status.idle": "2025-08-05T14:49:11.670715Z",
     "shell.execute_reply": "2025-08-05T14:49:11.669143Z"
    },
    "papermill": {
     "duration": 0.046251,
     "end_time": "2025-08-05T14:49:11.672970",
     "exception": false,
     "start_time": "2025-08-05T14:49:11.626719",
     "status": "completed"
    },
    "tags": []
   },
   "outputs": [],
   "source": [
    "X_train = siab_train.iloc[:,4:164]\n",
    "y_train = siab_train.iloc[:, [3]]"
   ]
  },
  {
   "cell_type": "code",
   "execution_count": 16,
   "id": "828c96af-f43a-4ed6-ba47-8ac73a47d56c",
   "metadata": {
    "execution": {
     "iopub.execute_input": "2025-08-05T14:49:11.720090Z",
     "iopub.status.busy": "2025-08-05T14:49:11.719167Z",
     "iopub.status.idle": "2025-08-05T14:49:11.799829Z",
     "shell.execute_reply": "2025-08-05T14:49:11.798560Z"
    },
    "papermill": {
     "duration": 0.10549,
     "end_time": "2025-08-05T14:49:11.801687",
     "exception": false,
     "start_time": "2025-08-05T14:49:11.696197",
     "status": "completed"
    },
    "tags": []
   },
   "outputs": [],
   "source": [
    "X_calib = siab_calib.iloc[:,4:164]\n",
    "y_calib = siab_calib.iloc[:, [3]]"
   ]
  },
  {
   "cell_type": "code",
   "execution_count": 17,
   "id": "c34be9c3-6bd6-476e-acd3-845840e303be",
   "metadata": {
    "execution": {
     "iopub.execute_input": "2025-08-05T14:49:11.844465Z",
     "iopub.status.busy": "2025-08-05T14:49:11.844026Z",
     "iopub.status.idle": "2025-08-05T14:49:11.900167Z",
     "shell.execute_reply": "2025-08-05T14:49:11.898953Z"
    },
    "papermill": {
     "duration": 0.080071,
     "end_time": "2025-08-05T14:49:11.902283",
     "exception": false,
     "start_time": "2025-08-05T14:49:11.822212",
     "status": "completed"
    },
    "tags": []
   },
   "outputs": [],
   "source": [
    "X_test = siab_test.iloc[:,4:164]\n",
    "y_true = siab_test.iloc[:, [3]]"
   ]
  },
  {
   "cell_type": "code",
   "execution_count": 18,
   "id": "e6c733c5",
   "metadata": {
    "execution": {
     "iopub.execute_input": "2025-08-05T14:49:11.929380Z",
     "iopub.status.busy": "2025-08-05T14:49:11.928932Z",
     "iopub.status.idle": "2025-08-05T14:49:12.030973Z",
     "shell.execute_reply": "2025-08-05T14:49:12.030237Z"
    },
    "papermill": {
     "duration": 0.113693,
     "end_time": "2025-08-05T14:49:12.032867",
     "exception": false,
     "start_time": "2025-08-05T14:49:11.919174",
     "status": "completed"
    },
    "tags": []
   },
   "outputs": [],
   "source": [
    "# Auxiliary data needed downstream in the pipeline\n",
    "\n",
    "org_train = X_train.copy()\n",
    "org_test = X_test.copy()\n",
    "org_calib = X_calib.copy()"
   ]
  },
  {
   "cell_type": "markdown",
   "id": "0a4a1b33",
   "metadata": {
    "papermill": {
     "duration": 0.020538,
     "end_time": "2025-08-05T14:49:12.069824",
     "exception": false,
     "start_time": "2025-08-05T14:49:12.049286",
     "status": "completed"
    },
    "tags": []
   },
   "source": [
    "# Preprocessing Data"
   ]
  },
  {
   "cell_type": "code",
   "execution_count": 19,
   "id": "ca879031",
   "metadata": {
    "execution": {
     "iopub.execute_input": "2025-08-05T14:49:12.105464Z",
     "iopub.status.busy": "2025-08-05T14:49:12.104974Z",
     "iopub.status.idle": "2025-08-05T14:49:12.110361Z",
     "shell.execute_reply": "2025-08-05T14:49:12.109301Z"
    },
    "papermill": {
     "duration": 0.02137,
     "end_time": "2025-08-05T14:49:12.111928",
     "exception": false,
     "start_time": "2025-08-05T14:49:12.090558",
     "status": "completed"
    },
    "tags": []
   },
   "outputs": [],
   "source": [
    "# EXCLUDE PROTECTED FEATURES\n",
    "# ----------------------\n",
    "# \"exclude_features\": \"none\", # \"nationality\", \"sex\", \"nationality-sex\"\n",
    "\n",
    "excluded_features = universe[\"exclude_features\"].split(\"-\") # split, e.g.: \"nationality-sex\" -> [\"nationality\", \"sex\"]\n",
    "excluded_features_dictionary = {\n",
    "    \"nationality\": [\"maxdeutsch1\", \"maxdeutsch.Missing.\"],\n",
    "    \"sex\": [\"frau1\"],\n",
    "    \"age\": [\"age\"],\n",
    "}"
   ]
  },
  {
   "cell_type": "code",
   "execution_count": 20,
   "id": "b745ac60",
   "metadata": {
    "execution": {
     "iopub.execute_input": "2025-08-05T14:49:12.134617Z",
     "iopub.status.busy": "2025-08-05T14:49:12.133773Z",
     "iopub.status.idle": "2025-08-05T14:49:12.138784Z",
     "shell.execute_reply": "2025-08-05T14:49:12.137984Z"
    },
    "papermill": {
     "duration": 0.017258,
     "end_time": "2025-08-05T14:49:12.140372",
     "exception": false,
     "start_time": "2025-08-05T14:49:12.123114",
     "status": "completed"
    },
    "tags": []
   },
   "outputs": [],
   "source": [
    "# Code nice names to column names\n",
    "\n",
    "excluded_features_columns = [\n",
    "    excluded_features_dictionary[f] for f in excluded_features if len(f) > 0 and f != \"none\"\n",
    "]"
   ]
  },
  {
   "cell_type": "code",
   "execution_count": 21,
   "id": "f84f73a2",
   "metadata": {
    "execution": {
     "iopub.execute_input": "2025-08-05T14:49:12.162827Z",
     "iopub.status.busy": "2025-08-05T14:49:12.162116Z",
     "iopub.status.idle": "2025-08-05T14:49:12.172044Z",
     "shell.execute_reply": "2025-08-05T14:49:12.171216Z"
    },
    "papermill": {
     "duration": 0.022832,
     "end_time": "2025-08-05T14:49:12.173661",
     "exception": false,
     "start_time": "2025-08-05T14:49:12.150829",
     "status": "completed"
    },
    "tags": []
   },
   "outputs": [],
   "source": [
    "from utils import flatten_once\n",
    "\n",
    "excluded_features_columns = flatten_once(excluded_features_columns)"
   ]
  },
  {
   "cell_type": "code",
   "execution_count": 22,
   "id": "884dea22",
   "metadata": {
    "execution": {
     "iopub.execute_input": "2025-08-05T14:49:12.194192Z",
     "iopub.status.busy": "2025-08-05T14:49:12.193858Z",
     "iopub.status.idle": "2025-08-05T14:49:12.198462Z",
     "shell.execute_reply": "2025-08-05T14:49:12.197557Z"
    },
    "papermill": {
     "duration": 0.016051,
     "end_time": "2025-08-05T14:49:12.200068",
     "exception": false,
     "start_time": "2025-08-05T14:49:12.184017",
     "status": "completed"
    },
    "tags": []
   },
   "outputs": [],
   "source": [
    "if len(excluded_features_columns) > 0:\n",
    "    print(f\"Dropping features: {excluded_features_columns}\")\n",
    "    X_train.drop(excluded_features_columns, axis=1, inplace=True)"
   ]
  },
  {
   "cell_type": "code",
   "execution_count": 23,
   "id": "95ab8b16",
   "metadata": {
    "execution": {
     "iopub.execute_input": "2025-08-05T14:49:12.220988Z",
     "iopub.status.busy": "2025-08-05T14:49:12.220659Z",
     "iopub.status.idle": "2025-08-05T14:49:12.225157Z",
     "shell.execute_reply": "2025-08-05T14:49:12.224350Z"
    },
    "papermill": {
     "duration": 0.01608,
     "end_time": "2025-08-05T14:49:12.226699",
     "exception": false,
     "start_time": "2025-08-05T14:49:12.210619",
     "status": "completed"
    },
    "tags": []
   },
   "outputs": [],
   "source": [
    "if len(excluded_features_columns) > 0:\n",
    "    print(f\"Dropping features: {excluded_features_columns}\")\n",
    "    X_test.drop(excluded_features_columns, axis=1, inplace=True)"
   ]
  },
  {
   "cell_type": "code",
   "execution_count": 24,
   "id": "1853aaf5-fb9f-46cb-a2b5-8ea4ae2237e4",
   "metadata": {
    "execution": {
     "iopub.execute_input": "2025-08-05T14:49:12.248093Z",
     "iopub.status.busy": "2025-08-05T14:49:12.247391Z",
     "iopub.status.idle": "2025-08-05T14:49:12.252418Z",
     "shell.execute_reply": "2025-08-05T14:49:12.251664Z"
    },
    "papermill": {
     "duration": 0.016667,
     "end_time": "2025-08-05T14:49:12.253925",
     "exception": false,
     "start_time": "2025-08-05T14:49:12.237258",
     "status": "completed"
    },
    "tags": []
   },
   "outputs": [],
   "source": [
    "if len(excluded_features_columns) > 0:\n",
    "    print(f\"Dropping features: {excluded_features_columns}\")\n",
    "    X_calib.drop(excluded_features_columns, axis=1, inplace=True)"
   ]
  },
  {
   "cell_type": "code",
   "execution_count": 25,
   "id": "76c4dc6d",
   "metadata": {
    "execution": {
     "iopub.execute_input": "2025-08-05T14:49:12.275640Z",
     "iopub.status.busy": "2025-08-05T14:49:12.274940Z",
     "iopub.status.idle": "2025-08-05T14:49:12.279970Z",
     "shell.execute_reply": "2025-08-05T14:49:12.279128Z"
    },
    "papermill": {
     "duration": 0.01669,
     "end_time": "2025-08-05T14:49:12.281458",
     "exception": false,
     "start_time": "2025-08-05T14:49:12.264768",
     "status": "completed"
    },
    "tags": []
   },
   "outputs": [],
   "source": [
    "# EXCLUDE CERTAIN SUBGROUPS\n",
    "# ----------------------\n",
    "\n",
    "mode = universe.get(\"exclude_subgroups\", \"keep-all\") \n",
    "# Fetches the exclude_subgroups setting from the universe dict.\n",
    "# Defaults to \"keep-all\" if the key is missing."
   ]
  },
  {
   "cell_type": "code",
   "execution_count": 26,
   "id": "21994072",
   "metadata": {
    "execution": {
     "iopub.execute_input": "2025-08-05T14:49:12.303218Z",
     "iopub.status.busy": "2025-08-05T14:49:12.302649Z",
     "iopub.status.idle": "2025-08-05T14:49:12.308428Z",
     "shell.execute_reply": "2025-08-05T14:49:12.307598Z"
    },
    "papermill": {
     "duration": 0.017199,
     "end_time": "2025-08-05T14:49:12.309908",
     "exception": false,
     "start_time": "2025-08-05T14:49:12.292709",
     "status": "completed"
    },
    "tags": []
   },
   "outputs": [],
   "source": [
    "if mode == \"keep-all\":\n",
    "    keep_mask = pd.Series(True, index=org_train.index)\n",
    "\n",
    "# org_train contains the original feature columns from features_org (in Simson)\n",
    "# features_org contains unprocessed features, for me X_train at beginning ???\n",
    "# For keep-all, creates a boolean Series (keep_mask) of all True, so no rows are removed.\n",
    "\n",
    "elif mode == \"drop-non-german\":\n",
    "    keep_mask = org_train[\"maxdeutsch1\"] == 1 # ??? what about missing values?\n",
    "\n",
    "else:\n",
    "    raise ValueError(f\"Unsupported mode for exclude_subgroups: {mode}\")"
   ]
  },
  {
   "cell_type": "code",
   "execution_count": 27,
   "id": "71651440",
   "metadata": {
    "execution": {
     "iopub.execute_input": "2025-08-05T14:49:12.344674Z",
     "iopub.status.busy": "2025-08-05T14:49:12.344273Z",
     "iopub.status.idle": "2025-08-05T14:49:12.349634Z",
     "shell.execute_reply": "2025-08-05T14:49:12.348794Z"
    },
    "papermill": {
     "duration": 0.026849,
     "end_time": "2025-08-05T14:49:12.351412",
     "exception": false,
     "start_time": "2025-08-05T14:49:12.324563",
     "status": "completed"
    },
    "tags": []
   },
   "outputs": [],
   "source": [
    "n_drop = (~keep_mask).sum() # Calculates how many rows are set to be dropped\n",
    "if n_drop > 0:\n",
    "    pct = n_drop / len(keep_mask) * 100\n",
    "    print(f\"Dropping {n_drop} rows ({pct:.2f}%) where mode='{mode}'\")"
   ]
  },
  {
   "cell_type": "code",
   "execution_count": 28,
   "id": "5fb8eee5",
   "metadata": {
    "execution": {
     "iopub.execute_input": "2025-08-05T14:49:12.375704Z",
     "iopub.status.busy": "2025-08-05T14:49:12.375317Z",
     "iopub.status.idle": "2025-08-05T14:49:12.388734Z",
     "shell.execute_reply": "2025-08-05T14:49:12.387801Z"
    },
    "papermill": {
     "duration": 0.028821,
     "end_time": "2025-08-05T14:49:12.390333",
     "exception": false,
     "start_time": "2025-08-05T14:49:12.361512",
     "status": "completed"
    },
    "tags": []
   },
   "outputs": [],
   "source": [
    "X_train = X_train[keep_mask]"
   ]
  },
  {
   "cell_type": "code",
   "execution_count": 29,
   "id": "b202bb3a",
   "metadata": {
    "execution": {
     "iopub.execute_input": "2025-08-05T14:49:12.411956Z",
     "iopub.status.busy": "2025-08-05T14:49:12.411294Z",
     "iopub.status.idle": "2025-08-05T14:49:12.416565Z",
     "shell.execute_reply": "2025-08-05T14:49:12.415758Z"
    },
    "papermill": {
     "duration": 0.016942,
     "end_time": "2025-08-05T14:49:12.418098",
     "exception": false,
     "start_time": "2025-08-05T14:49:12.401156",
     "status": "completed"
    },
    "tags": []
   },
   "outputs": [],
   "source": [
    "y_train = y_train[keep_mask]"
   ]
  },
  {
   "cell_type": "markdown",
   "id": "493e2ac3",
   "metadata": {
    "papermill": {
     "duration": 0.00943,
     "end_time": "2025-08-05T14:49:12.437908",
     "exception": false,
     "start_time": "2025-08-05T14:49:12.428478",
     "status": "completed"
    },
    "tags": []
   },
   "source": [
    "# Model Training"
   ]
  },
  {
   "cell_type": "code",
   "execution_count": 30,
   "id": "679e1268",
   "metadata": {
    "execution": {
     "iopub.execute_input": "2025-08-05T14:49:12.466442Z",
     "iopub.status.busy": "2025-08-05T14:49:12.465997Z",
     "iopub.status.idle": "2025-08-05T14:49:12.574740Z",
     "shell.execute_reply": "2025-08-05T14:49:12.573634Z"
    },
    "papermill": {
     "duration": 0.130077,
     "end_time": "2025-08-05T14:49:12.577239",
     "exception": false,
     "start_time": "2025-08-05T14:49:12.447162",
     "status": "completed"
    },
    "tags": []
   },
   "outputs": [],
   "source": [
    "from sklearn.linear_model import LogisticRegression\n",
    "from sklearn.ensemble import GradientBoostingClassifier, RandomForestClassifier\n",
    "\n",
    "if (universe[\"model\"] == \"logreg\"):\n",
    "    model = LogisticRegression() #penalty=\"none\", solver=\"newton-cg\", max_iter=1) # include random_state=19 ?\n",
    "elif (universe[\"model\"] == \"penalized_logreg\"):\n",
    "    model = LogisticRegression(penalty=\"l2\", C=0.1) #, solver=\"newton-cg\", max_iter=1)\n",
    "elif (universe[\"model\"] == \"rf\"):\n",
    "    model = RandomForestClassifier() # n_estimators=100, n_jobs=-1\n",
    "elif (universe[\"model\"] == \"gbm\"):\n",
    "    model = GradientBoostingClassifier()\n",
    "elif (universe[\"model\"] == \"elasticnet\"):\n",
    "    model = LogisticRegression(penalty = 'elasticnet', solver = 'saga', l1_ratio = 0.5) # max_iter=5000\n",
    "else:\n",
    "    raise \"Unsupported universe.model\""
   ]
  },
  {
   "cell_type": "code",
   "execution_count": 31,
   "id": "0cc8f744",
   "metadata": {
    "execution": {
     "iopub.execute_input": "2025-08-05T14:49:12.634419Z",
     "iopub.status.busy": "2025-08-05T14:49:12.633643Z",
     "iopub.status.idle": "2025-08-05T14:49:12.641628Z",
     "shell.execute_reply": "2025-08-05T14:49:12.640362Z"
    },
    "papermill": {
     "duration": 0.039131,
     "end_time": "2025-08-05T14:49:12.643904",
     "exception": false,
     "start_time": "2025-08-05T14:49:12.604773",
     "status": "completed"
    },
    "tags": []
   },
   "outputs": [],
   "source": [
    "import numpy as np\n",
    "from sklearn.pipeline import Pipeline\n",
    "from sklearn.preprocessing import StandardScaler\n",
    "\n",
    "model = Pipeline([\n",
    "    #(\"continuous_processor\", continuous_processor),\n",
    "    #(\"categorical_preprocessor\", categorical_preprocessor),\n",
    "    (\"scale\", StandardScaler() if universe[\"scale\"] == \"scale\" else None), \n",
    "    (\"model\", model),\n",
    "])"
   ]
  },
  {
   "cell_type": "code",
   "execution_count": 32,
   "id": "9442c04d",
   "metadata": {
    "execution": {
     "iopub.execute_input": "2025-08-05T14:49:12.687053Z",
     "iopub.status.busy": "2025-08-05T14:49:12.686344Z",
     "iopub.status.idle": "2025-08-05T14:49:13.427164Z",
     "shell.execute_reply": "2025-08-05T14:49:13.426480Z"
    },
    "papermill": {
     "duration": 0.763466,
     "end_time": "2025-08-05T14:49:13.428417",
     "exception": false,
     "start_time": "2025-08-05T14:49:12.664951",
     "status": "completed"
    },
    "tags": []
   },
   "outputs": [
    {
     "name": "stderr",
     "output_type": "stream",
     "text": [
      "/dss/dsshome1/0C/ra93lal2/.local/share/virtualenvs/CMA_Fairness_v2-3j10GkSs/lib/python3.10/site-packages/sklearn/linear_model/_logistic.py:444: ConvergenceWarning: lbfgs failed to converge (status=1):\n",
      "STOP: TOTAL NO. of ITERATIONS REACHED LIMIT.\n",
      "\n",
      "Increase the number of iterations (max_iter) or scale the data as shown in:\n",
      "    https://scikit-learn.org/stable/modules/preprocessing.html\n",
      "Please also refer to the documentation for alternative solver options:\n",
      "    https://scikit-learn.org/stable/modules/linear_model.html#logistic-regression\n",
      "  n_iter_i = _check_optimize_result(\n"
     ]
    },
    {
     "data": {
      "text/html": [
       "<style>#sk-container-id-1 {color: black;background-color: white;}#sk-container-id-1 pre{padding: 0;}#sk-container-id-1 div.sk-toggleable {background-color: white;}#sk-container-id-1 label.sk-toggleable__label {cursor: pointer;display: block;width: 100%;margin-bottom: 0;padding: 0.3em;box-sizing: border-box;text-align: center;}#sk-container-id-1 label.sk-toggleable__label-arrow:before {content: \"▸\";float: left;margin-right: 0.25em;color: #696969;}#sk-container-id-1 label.sk-toggleable__label-arrow:hover:before {color: black;}#sk-container-id-1 div.sk-estimator:hover label.sk-toggleable__label-arrow:before {color: black;}#sk-container-id-1 div.sk-toggleable__content {max-height: 0;max-width: 0;overflow: hidden;text-align: left;background-color: #f0f8ff;}#sk-container-id-1 div.sk-toggleable__content pre {margin: 0.2em;color: black;border-radius: 0.25em;background-color: #f0f8ff;}#sk-container-id-1 input.sk-toggleable__control:checked~div.sk-toggleable__content {max-height: 200px;max-width: 100%;overflow: auto;}#sk-container-id-1 input.sk-toggleable__control:checked~label.sk-toggleable__label-arrow:before {content: \"▾\";}#sk-container-id-1 div.sk-estimator input.sk-toggleable__control:checked~label.sk-toggleable__label {background-color: #d4ebff;}#sk-container-id-1 div.sk-label input.sk-toggleable__control:checked~label.sk-toggleable__label {background-color: #d4ebff;}#sk-container-id-1 input.sk-hidden--visually {border: 0;clip: rect(1px 1px 1px 1px);clip: rect(1px, 1px, 1px, 1px);height: 1px;margin: -1px;overflow: hidden;padding: 0;position: absolute;width: 1px;}#sk-container-id-1 div.sk-estimator {font-family: monospace;background-color: #f0f8ff;border: 1px dotted black;border-radius: 0.25em;box-sizing: border-box;margin-bottom: 0.5em;}#sk-container-id-1 div.sk-estimator:hover {background-color: #d4ebff;}#sk-container-id-1 div.sk-parallel-item::after {content: \"\";width: 100%;border-bottom: 1px solid gray;flex-grow: 1;}#sk-container-id-1 div.sk-label:hover label.sk-toggleable__label {background-color: #d4ebff;}#sk-container-id-1 div.sk-serial::before {content: \"\";position: absolute;border-left: 1px solid gray;box-sizing: border-box;top: 0;bottom: 0;left: 50%;z-index: 0;}#sk-container-id-1 div.sk-serial {display: flex;flex-direction: column;align-items: center;background-color: white;padding-right: 0.2em;padding-left: 0.2em;position: relative;}#sk-container-id-1 div.sk-item {position: relative;z-index: 1;}#sk-container-id-1 div.sk-parallel {display: flex;align-items: stretch;justify-content: center;background-color: white;position: relative;}#sk-container-id-1 div.sk-item::before, #sk-container-id-1 div.sk-parallel-item::before {content: \"\";position: absolute;border-left: 1px solid gray;box-sizing: border-box;top: 0;bottom: 0;left: 50%;z-index: -1;}#sk-container-id-1 div.sk-parallel-item {display: flex;flex-direction: column;z-index: 1;position: relative;background-color: white;}#sk-container-id-1 div.sk-parallel-item:first-child::after {align-self: flex-end;width: 50%;}#sk-container-id-1 div.sk-parallel-item:last-child::after {align-self: flex-start;width: 50%;}#sk-container-id-1 div.sk-parallel-item:only-child::after {width: 0;}#sk-container-id-1 div.sk-dashed-wrapped {border: 1px dashed gray;margin: 0 0.4em 0.5em 0.4em;box-sizing: border-box;padding-bottom: 0.4em;background-color: white;}#sk-container-id-1 div.sk-label label {font-family: monospace;font-weight: bold;display: inline-block;line-height: 1.2em;}#sk-container-id-1 div.sk-label-container {text-align: center;}#sk-container-id-1 div.sk-container {/* jupyter's `normalize.less` sets `[hidden] { display: none; }` but bootstrap.min.css set `[hidden] { display: none !important; }` so we also need the `!important` here to be able to override the default hidden behavior on the sphinx rendered scikit-learn.org. See: https://github.com/scikit-learn/scikit-learn/issues/21755 */display: inline-block !important;position: relative;}#sk-container-id-1 div.sk-text-repr-fallback {display: none;}</style><div id=\"sk-container-id-1\" class=\"sk-top-container\"><div class=\"sk-text-repr-fallback\"><pre>Pipeline(steps=[(&#x27;scale&#x27;, StandardScaler()),\n",
       "                (&#x27;model&#x27;, LogisticRegression(C=0.1))])</pre><b>In a Jupyter environment, please rerun this cell to show the HTML representation or trust the notebook. <br />On GitHub, the HTML representation is unable to render, please try loading this page with nbviewer.org.</b></div><div class=\"sk-container\" hidden><div class=\"sk-item sk-dashed-wrapped\"><div class=\"sk-label-container\"><div class=\"sk-label sk-toggleable\"><input class=\"sk-toggleable__control sk-hidden--visually\" id=\"sk-estimator-id-1\" type=\"checkbox\" ><label for=\"sk-estimator-id-1\" class=\"sk-toggleable__label sk-toggleable__label-arrow\">Pipeline</label><div class=\"sk-toggleable__content\"><pre>Pipeline(steps=[(&#x27;scale&#x27;, StandardScaler()),\n",
       "                (&#x27;model&#x27;, LogisticRegression(C=0.1))])</pre></div></div></div><div class=\"sk-serial\"><div class=\"sk-item\"><div class=\"sk-estimator sk-toggleable\"><input class=\"sk-toggleable__control sk-hidden--visually\" id=\"sk-estimator-id-2\" type=\"checkbox\" ><label for=\"sk-estimator-id-2\" class=\"sk-toggleable__label sk-toggleable__label-arrow\">StandardScaler</label><div class=\"sk-toggleable__content\"><pre>StandardScaler()</pre></div></div></div><div class=\"sk-item\"><div class=\"sk-estimator sk-toggleable\"><input class=\"sk-toggleable__control sk-hidden--visually\" id=\"sk-estimator-id-3\" type=\"checkbox\" ><label for=\"sk-estimator-id-3\" class=\"sk-toggleable__label sk-toggleable__label-arrow\">LogisticRegression</label><div class=\"sk-toggleable__content\"><pre>LogisticRegression(C=0.1)</pre></div></div></div></div></div></div></div>"
      ],
      "text/plain": [
       "Pipeline(steps=[('scale', StandardScaler()),\n",
       "                ('model', LogisticRegression(C=0.1))])"
      ]
     },
     "execution_count": 32,
     "metadata": {},
     "output_type": "execute_result"
    }
   ],
   "source": [
    "model.fit(X_train, y_train.values.ravel())"
   ]
  },
  {
   "cell_type": "code",
   "execution_count": 33,
   "id": "af59f8c0",
   "metadata": {
    "execution": {
     "iopub.execute_input": "2025-08-05T14:49:13.450166Z",
     "iopub.status.busy": "2025-08-05T14:49:13.449788Z",
     "iopub.status.idle": "2025-08-05T14:49:13.454428Z",
     "shell.execute_reply": "2025-08-05T14:49:13.453427Z"
    },
    "papermill": {
     "duration": 0.017219,
     "end_time": "2025-08-05T14:49:13.455885",
     "exception": false,
     "start_time": "2025-08-05T14:49:13.438666",
     "status": "completed"
    },
    "tags": []
   },
   "outputs": [],
   "source": [
    "from fairness_multiverse.universe import predict_w_threshold"
   ]
  },
  {
   "cell_type": "code",
   "execution_count": 34,
   "id": "a7cf2e16",
   "metadata": {
    "execution": {
     "iopub.execute_input": "2025-08-05T14:49:13.482183Z",
     "iopub.status.busy": "2025-08-05T14:49:13.481829Z",
     "iopub.status.idle": "2025-08-05T14:49:13.676564Z",
     "shell.execute_reply": "2025-08-05T14:49:13.675512Z"
    },
    "papermill": {
     "duration": 0.210771,
     "end_time": "2025-08-05T14:49:13.678162",
     "exception": false,
     "start_time": "2025-08-05T14:49:13.467391",
     "status": "completed"
    },
    "tags": []
   },
   "outputs": [
    {
     "data": {
      "text/plain": [
       "0.8623007468509643"
      ]
     },
     "execution_count": 34,
     "metadata": {},
     "output_type": "execute_result"
    }
   ],
   "source": [
    "probs_test = model.predict_proba(X_test)\n",
    "\n",
    "'''\n",
    "Below code returns a boolean array (or binary 0/1 array depending on how it’s used) where each element \n",
    "is True if the probability of class 1 is greater than or equal to the threshold, and False otherwise.\n",
    "'''\n",
    "y_pred_default = predict_w_threshold(probs_test, 0.5)\n",
    "\n",
    "from sklearn.metrics import accuracy_score\n",
    "\n",
    "# Naive prediction\n",
    "accuracy_score(y_true = y_true, y_pred = y_pred_default)"
   ]
  },
  {
   "cell_type": "code",
   "execution_count": 35,
   "id": "081964c3",
   "metadata": {
    "execution": {
     "iopub.execute_input": "2025-08-05T14:49:13.729978Z",
     "iopub.status.busy": "2025-08-05T14:49:13.729364Z",
     "iopub.status.idle": "2025-08-05T14:49:13.911461Z",
     "shell.execute_reply": "2025-08-05T14:49:13.910608Z"
    },
    "papermill": {
     "duration": 0.21276,
     "end_time": "2025-08-05T14:49:13.912950",
     "exception": false,
     "start_time": "2025-08-05T14:49:13.700190",
     "status": "completed"
    },
    "tags": []
   },
   "outputs": [
    {
     "data": {
      "text/plain": [
       "array([0, 0, 0, ..., 0, 0, 0])"
      ]
     },
     "execution_count": 35,
     "metadata": {},
     "output_type": "execute_result"
    }
   ],
   "source": [
    "model.predict(X_test)"
   ]
  },
  {
   "cell_type": "markdown",
   "id": "56c9705b",
   "metadata": {
    "papermill": {
     "duration": 0.009953,
     "end_time": "2025-08-05T14:49:13.934212",
     "exception": false,
     "start_time": "2025-08-05T14:49:13.924259",
     "status": "completed"
    },
    "tags": []
   },
   "source": [
    "# Conformal Prediction"
   ]
  },
  {
   "cell_type": "code",
   "execution_count": 36,
   "id": "160ec6ff",
   "metadata": {
    "execution": {
     "iopub.execute_input": "2025-08-05T14:49:13.955326Z",
     "iopub.status.busy": "2025-08-05T14:49:13.954807Z",
     "iopub.status.idle": "2025-08-05T14:49:13.959697Z",
     "shell.execute_reply": "2025-08-05T14:49:13.958815Z"
    },
    "papermill": {
     "duration": 0.017282,
     "end_time": "2025-08-05T14:49:13.961314",
     "exception": false,
     "start_time": "2025-08-05T14:49:13.944032",
     "status": "completed"
    },
    "tags": []
   },
   "outputs": [],
   "source": [
    "# Miscoverage level for conformal prediction (10% allowed error rate => 90% target coverage)\n",
    "alpha = 0.1"
   ]
  },
  {
   "cell_type": "code",
   "execution_count": 37,
   "id": "eadf4555-3dd3-440e-8e35-f82a4ad9f855",
   "metadata": {
    "execution": {
     "iopub.execute_input": "2025-08-05T14:49:13.985141Z",
     "iopub.status.busy": "2025-08-05T14:49:13.984425Z",
     "iopub.status.idle": "2025-08-05T14:49:14.159069Z",
     "shell.execute_reply": "2025-08-05T14:49:14.158008Z"
    },
    "papermill": {
     "duration": 0.186944,
     "end_time": "2025-08-05T14:49:14.160655",
     "exception": false,
     "start_time": "2025-08-05T14:49:13.973711",
     "status": "completed"
    },
    "tags": []
   },
   "outputs": [],
   "source": [
    "probs_calib = model.predict_proba(X_calib)"
   ]
  },
  {
   "cell_type": "code",
   "execution_count": 38,
   "id": "2ed93547-6d5d-4983-9b36-1ecb300da49a",
   "metadata": {
    "execution": {
     "iopub.execute_input": "2025-08-05T14:49:14.204171Z",
     "iopub.status.busy": "2025-08-05T14:49:14.203772Z",
     "iopub.status.idle": "2025-08-05T14:49:14.209658Z",
     "shell.execute_reply": "2025-08-05T14:49:14.208563Z"
    },
    "papermill": {
     "duration": 0.029965,
     "end_time": "2025-08-05T14:49:14.211852",
     "exception": false,
     "start_time": "2025-08-05T14:49:14.181887",
     "status": "completed"
    },
    "tags": []
   },
   "outputs": [],
   "source": [
    "y_calib = y_calib.values.ravel().astype(int)"
   ]
  },
  {
   "cell_type": "code",
   "execution_count": 39,
   "id": "65d1320d-f588-4b38-9072-62af1ae97f7d",
   "metadata": {
    "execution": {
     "iopub.execute_input": "2025-08-05T14:49:14.255235Z",
     "iopub.status.busy": "2025-08-05T14:49:14.254811Z",
     "iopub.status.idle": "2025-08-05T14:49:14.262388Z",
     "shell.execute_reply": "2025-08-05T14:49:14.261193Z"
    },
    "papermill": {
     "duration": 0.030266,
     "end_time": "2025-08-05T14:49:14.264351",
     "exception": false,
     "start_time": "2025-08-05T14:49:14.234085",
     "status": "completed"
    },
    "tags": []
   },
   "outputs": [],
   "source": [
    "from fairness_multiverse.conformal import compute_nc_scores\n",
    "\n",
    "# Compute nonconformity scores on calibration set (1 - probability of true class)\n",
    "nc_scores = compute_nc_scores(probs_calib, y_calib)"
   ]
  },
  {
   "cell_type": "code",
   "execution_count": 40,
   "id": "df3b8ca3-53b7-43d5-9667-7c85da7aeda2",
   "metadata": {
    "execution": {
     "iopub.execute_input": "2025-08-05T14:49:14.298729Z",
     "iopub.status.busy": "2025-08-05T14:49:14.298275Z",
     "iopub.status.idle": "2025-08-05T14:49:14.305553Z",
     "shell.execute_reply": "2025-08-05T14:49:14.304318Z"
    },
    "papermill": {
     "duration": 0.021683,
     "end_time": "2025-08-05T14:49:14.307147",
     "exception": false,
     "start_time": "2025-08-05T14:49:14.285464",
     "status": "completed"
    },
    "tags": []
   },
   "outputs": [],
   "source": [
    "from fairness_multiverse.conformal import find_threshold\n",
    "\n",
    "# Find conformal threshold q_hat for the given alpha (split conformal method)\n",
    "q_hat = find_threshold(nc_scores, alpha)"
   ]
  },
  {
   "cell_type": "code",
   "execution_count": 41,
   "id": "4d29e6c1-0ef6-4aa4-b8fe-4fe79b0d033a",
   "metadata": {
    "execution": {
     "iopub.execute_input": "2025-08-05T14:49:14.355258Z",
     "iopub.status.busy": "2025-08-05T14:49:14.354818Z",
     "iopub.status.idle": "2025-08-05T14:49:14.363518Z",
     "shell.execute_reply": "2025-08-05T14:49:14.362034Z"
    },
    "papermill": {
     "duration": 0.035914,
     "end_time": "2025-08-05T14:49:14.366090",
     "exception": false,
     "start_time": "2025-08-05T14:49:14.330176",
     "status": "completed"
    },
    "tags": []
   },
   "outputs": [
    {
     "data": {
      "text/plain": [
       "0.6645951313393657"
      ]
     },
     "execution_count": 41,
     "metadata": {},
     "output_type": "execute_result"
    }
   ],
   "source": [
    "q_hat"
   ]
  },
  {
   "cell_type": "code",
   "execution_count": 42,
   "id": "92460794-cdac-4be2-ba28-f28c0515a6fb",
   "metadata": {
    "execution": {
     "iopub.execute_input": "2025-08-05T14:49:14.418251Z",
     "iopub.status.busy": "2025-08-05T14:49:14.417265Z",
     "iopub.status.idle": "2025-08-05T14:49:15.396481Z",
     "shell.execute_reply": "2025-08-05T14:49:15.395672Z"
    },
    "papermill": {
     "duration": 1.006169,
     "end_time": "2025-08-05T14:49:15.398151",
     "exception": false,
     "start_time": "2025-08-05T14:49:14.391982",
     "status": "completed"
    },
    "tags": []
   },
   "outputs": [],
   "source": [
    "from fairness_multiverse.conformal import predict_conformal_sets\n",
    "\n",
    "# Generate prediction sets for each test example\n",
    "pred_sets = predict_conformal_sets(model, X_test, q_hat)"
   ]
  },
  {
   "cell_type": "code",
   "execution_count": 43,
   "id": "d90c9a65-e6db-4f5d-80cd-e68fb7e46829",
   "metadata": {
    "execution": {
     "iopub.execute_input": "2025-08-05T14:49:15.421171Z",
     "iopub.status.busy": "2025-08-05T14:49:15.420824Z",
     "iopub.status.idle": "2025-08-05T14:49:15.425839Z",
     "shell.execute_reply": "2025-08-05T14:49:15.424636Z"
    },
    "papermill": {
     "duration": 0.01815,
     "end_time": "2025-08-05T14:49:15.427387",
     "exception": false,
     "start_time": "2025-08-05T14:49:15.409237",
     "status": "completed"
    },
    "tags": []
   },
   "outputs": [],
   "source": [
    "y_true = y_true.squeeze()"
   ]
  },
  {
   "cell_type": "code",
   "execution_count": 44,
   "id": "3a58a54a-1e68-46b9-927a-df01f18aebc8",
   "metadata": {
    "execution": {
     "iopub.execute_input": "2025-08-05T14:49:15.452532Z",
     "iopub.status.busy": "2025-08-05T14:49:15.451783Z",
     "iopub.status.idle": "2025-08-05T14:49:16.030614Z",
     "shell.execute_reply": "2025-08-05T14:49:16.029849Z"
    },
    "papermill": {
     "duration": 0.592037,
     "end_time": "2025-08-05T14:49:16.032071",
     "exception": false,
     "start_time": "2025-08-05T14:49:15.440034",
     "status": "completed"
    },
    "tags": []
   },
   "outputs": [],
   "source": [
    "from fairness_multiverse.conformal import evaluate_sets\n",
    "\n",
    "# Evaluate coverage and average set size on test data\n",
    "metrics = evaluate_sets(pred_sets, y_true)"
   ]
  },
  {
   "cell_type": "markdown",
   "id": "2b569c12-9aaa-4c88-98c9-bbcd0cf3ebb8",
   "metadata": {
    "papermill": {
     "duration": 0.010799,
     "end_time": "2025-08-05T14:49:16.054209",
     "exception": false,
     "start_time": "2025-08-05T14:49:16.043410",
     "status": "completed"
    },
    "tags": []
   },
   "source": [
    "# CP Metrics"
   ]
  },
  {
   "cell_type": "code",
   "execution_count": 45,
   "id": "5ce0a5cb-201f-45a0-ade5-94c7f0bd6095",
   "metadata": {
    "execution": {
     "iopub.execute_input": "2025-08-05T14:49:16.076968Z",
     "iopub.status.busy": "2025-08-05T14:49:16.076231Z",
     "iopub.status.idle": "2025-08-05T14:49:16.083012Z",
     "shell.execute_reply": "2025-08-05T14:49:16.081984Z"
    },
    "papermill": {
     "duration": 0.019715,
     "end_time": "2025-08-05T14:49:16.084562",
     "exception": false,
     "start_time": "2025-08-05T14:49:16.064847",
     "status": "completed"
    },
    "tags": []
   },
   "outputs": [
    {
     "data": {
      "text/plain": [
       "{'coverage': 0.9115148812841378, 'avg_size': 1.125080815962546}"
      ]
     },
     "execution_count": 45,
     "metadata": {},
     "output_type": "execute_result"
    }
   ],
   "source": [
    "metrics"
   ]
  },
  {
   "cell_type": "code",
   "execution_count": 46,
   "id": "9b9a838d-31c9-430b-ae14-12baee460d17",
   "metadata": {
    "execution": {
     "iopub.execute_input": "2025-08-05T14:49:16.109136Z",
     "iopub.status.busy": "2025-08-05T14:49:16.108614Z",
     "iopub.status.idle": "2025-08-05T14:49:16.114273Z",
     "shell.execute_reply": "2025-08-05T14:49:16.113369Z"
    },
    "papermill": {
     "duration": 0.018982,
     "end_time": "2025-08-05T14:49:16.115866",
     "exception": false,
     "start_time": "2025-08-05T14:49:16.096884",
     "status": "completed"
    },
    "tags": []
   },
   "outputs": [],
   "source": [
    "example_universe = universe.copy()\n",
    "universe_training_year = example_universe.get(\"training_year\")\n",
    "universe_training_size = example_universe.get(\"training_size\")\n",
    "universe_scale = example_universe.get(\"scale\")\n",
    "universe_model = example_universe.get(\"model\")\n",
    "universe_exclude_features = example_universe.get(\"exclude_features\")\n",
    "universe_exclude_subgroups = example_universe.get(\"exclude_subgroups\")"
   ]
  },
  {
   "cell_type": "code",
   "execution_count": 47,
   "id": "f4b6a8ac-9dc0-4245-8a91-5b3b5999c4f9",
   "metadata": {
    "execution": {
     "iopub.execute_input": "2025-08-05T14:49:16.140622Z",
     "iopub.status.busy": "2025-08-05T14:49:16.140264Z",
     "iopub.status.idle": "2025-08-05T14:49:16.146325Z",
     "shell.execute_reply": "2025-08-05T14:49:16.145353Z"
    },
    "papermill": {
     "duration": 0.019595,
     "end_time": "2025-08-05T14:49:16.147944",
     "exception": false,
     "start_time": "2025-08-05T14:49:16.128349",
     "status": "completed"
    },
    "tags": []
   },
   "outputs": [],
   "source": [
    "cp_metrics_dict = {\n",
    "    \"universe_id\": [universe_id],\n",
    "    \"universe_training_year\": [universe_training_year],\n",
    "    \"universe_training_size\": [universe_training_size],\n",
    "    \"universe_scale\": [universe_scale],\n",
    "    \"universe_model\": [universe_model],\n",
    "    \"universe_exclude_features\": [universe_exclude_features],\n",
    "    \"universe_exclude_subgroups\": [universe_exclude_subgroups],\n",
    "    \"q_hat\": [q_hat],\n",
    "    \"coverage\": [metrics[\"coverage\"]],\n",
    "    \"avg_size\": [metrics[\"avg_size\"]],\n",
    "}"
   ]
  },
  {
   "cell_type": "code",
   "execution_count": 48,
   "id": "908acbb1-0371-4915-85ca-3fa520d2efe2",
   "metadata": {
    "execution": {
     "iopub.execute_input": "2025-08-05T14:49:16.180712Z",
     "iopub.status.busy": "2025-08-05T14:49:16.180011Z",
     "iopub.status.idle": "2025-08-05T14:49:16.188272Z",
     "shell.execute_reply": "2025-08-05T14:49:16.187176Z"
    },
    "papermill": {
     "duration": 0.029509,
     "end_time": "2025-08-05T14:49:16.190303",
     "exception": false,
     "start_time": "2025-08-05T14:49:16.160794",
     "status": "completed"
    },
    "tags": []
   },
   "outputs": [
    {
     "data": {
      "text/plain": [
       "{'universe_id': ['851f597f9d0073d445a196b93b5c3213'],\n",
       " 'universe_training_year': ['2012_14'],\n",
       " 'universe_training_size': ['25k'],\n",
       " 'universe_scale': ['scale'],\n",
       " 'universe_model': ['penalized_logreg'],\n",
       " 'universe_exclude_features': ['none'],\n",
       " 'universe_exclude_subgroups': ['keep-all'],\n",
       " 'q_hat': [0.6645951313393657],\n",
       " 'coverage': [0.9115148812841378],\n",
       " 'avg_size': [1.125080815962546]}"
      ]
     },
     "execution_count": 48,
     "metadata": {},
     "output_type": "execute_result"
    }
   ],
   "source": [
    "cp_metrics_dict"
   ]
  },
  {
   "cell_type": "code",
   "execution_count": 49,
   "id": "33007efc-14e9-4ec6-97ac-56a455c82265",
   "metadata": {
    "execution": {
     "iopub.execute_input": "2025-08-05T14:49:16.251149Z",
     "iopub.status.busy": "2025-08-05T14:49:16.250337Z",
     "iopub.status.idle": "2025-08-05T14:49:16.257181Z",
     "shell.execute_reply": "2025-08-05T14:49:16.255782Z"
    },
    "papermill": {
     "duration": 0.045019,
     "end_time": "2025-08-05T14:49:16.259286",
     "exception": false,
     "start_time": "2025-08-05T14:49:16.214267",
     "status": "completed"
    },
    "tags": []
   },
   "outputs": [],
   "source": [
    "cp_metrics_df = pd.DataFrame(cp_metrics_dict)"
   ]
  },
  {
   "cell_type": "code",
   "execution_count": 50,
   "id": "db12611b-57b2-4910-b9d0-355adfd6e7bf",
   "metadata": {
    "execution": {
     "iopub.execute_input": "2025-08-05T14:49:16.307972Z",
     "iopub.status.busy": "2025-08-05T14:49:16.307089Z",
     "iopub.status.idle": "2025-08-05T14:49:16.335007Z",
     "shell.execute_reply": "2025-08-05T14:49:16.333838Z"
    },
    "papermill": {
     "duration": 0.052289,
     "end_time": "2025-08-05T14:49:16.336968",
     "exception": false,
     "start_time": "2025-08-05T14:49:16.284679",
     "status": "completed"
    },
    "tags": []
   },
   "outputs": [
    {
     "data": {
      "text/html": [
       "<div>\n",
       "<style scoped>\n",
       "    .dataframe tbody tr th:only-of-type {\n",
       "        vertical-align: middle;\n",
       "    }\n",
       "\n",
       "    .dataframe tbody tr th {\n",
       "        vertical-align: top;\n",
       "    }\n",
       "\n",
       "    .dataframe thead th {\n",
       "        text-align: right;\n",
       "    }\n",
       "</style>\n",
       "<table border=\"1\" class=\"dataframe\">\n",
       "  <thead>\n",
       "    <tr style=\"text-align: right;\">\n",
       "      <th></th>\n",
       "      <th>universe_id</th>\n",
       "      <th>universe_training_year</th>\n",
       "      <th>universe_training_size</th>\n",
       "      <th>universe_scale</th>\n",
       "      <th>universe_model</th>\n",
       "      <th>universe_exclude_features</th>\n",
       "      <th>universe_exclude_subgroups</th>\n",
       "      <th>q_hat</th>\n",
       "      <th>coverage</th>\n",
       "      <th>avg_size</th>\n",
       "    </tr>\n",
       "  </thead>\n",
       "  <tbody>\n",
       "    <tr>\n",
       "      <th>0</th>\n",
       "      <td>851f597f9d0073d445a196b93b5c3213</td>\n",
       "      <td>2012_14</td>\n",
       "      <td>25k</td>\n",
       "      <td>scale</td>\n",
       "      <td>penalized_logreg</td>\n",
       "      <td>none</td>\n",
       "      <td>keep-all</td>\n",
       "      <td>0.664595</td>\n",
       "      <td>0.911515</td>\n",
       "      <td>1.125081</td>\n",
       "    </tr>\n",
       "  </tbody>\n",
       "</table>\n",
       "</div>"
      ],
      "text/plain": [
       "                        universe_id universe_training_year  \\\n",
       "0  851f597f9d0073d445a196b93b5c3213                2012_14   \n",
       "\n",
       "  universe_training_size universe_scale    universe_model  \\\n",
       "0                    25k          scale  penalized_logreg   \n",
       "\n",
       "  universe_exclude_features universe_exclude_subgroups     q_hat  coverage  \\\n",
       "0                      none                   keep-all  0.664595  0.911515   \n",
       "\n",
       "   avg_size  \n",
       "0  1.125081  "
      ]
     },
     "execution_count": 50,
     "metadata": {},
     "output_type": "execute_result"
    }
   ],
   "source": [
    "cp_metrics_df"
   ]
  },
  {
   "cell_type": "code",
   "execution_count": 51,
   "id": "b7fbde55-a0a1-47e4-9af6-fe4a17fa8c61",
   "metadata": {
    "execution": {
     "iopub.execute_input": "2025-08-05T14:49:16.383577Z",
     "iopub.status.busy": "2025-08-05T14:49:16.382510Z",
     "iopub.status.idle": "2025-08-05T14:49:16.389090Z",
     "shell.execute_reply": "2025-08-05T14:49:16.387850Z"
    },
    "papermill": {
     "duration": 0.030343,
     "end_time": "2025-08-05T14:49:16.390846",
     "exception": false,
     "start_time": "2025-08-05T14:49:16.360503",
     "status": "completed"
    },
    "tags": []
   },
   "outputs": [],
   "source": [
    "# Conditional Coverage & looking at subgroups"
   ]
  },
  {
   "cell_type": "code",
   "execution_count": 52,
   "id": "027ae886-68dd-4141-96c7-805a5450e1ef",
   "metadata": {
    "execution": {
     "iopub.execute_input": "2025-08-05T14:49:16.435201Z",
     "iopub.status.busy": "2025-08-05T14:49:16.434298Z",
     "iopub.status.idle": "2025-08-05T14:49:16.696329Z",
     "shell.execute_reply": "2025-08-05T14:49:16.695149Z"
    },
    "papermill": {
     "duration": 0.286099,
     "end_time": "2025-08-05T14:49:16.698494",
     "exception": false,
     "start_time": "2025-08-05T14:49:16.412395",
     "status": "completed"
    },
    "tags": []
   },
   "outputs": [],
   "source": [
    "from fairness_multiverse.conformal import build_cp_groups\n",
    "\n",
    "cp_groups_df = build_cp_groups(pred_sets, y_true, X_test.index, org_test)\n",
    "#needs universe_id and setting"
   ]
  },
  {
   "cell_type": "code",
   "execution_count": 53,
   "id": "6cbdab96-b2b2-45af-ad54-d0516db2e28d",
   "metadata": {
    "execution": {
     "iopub.execute_input": "2025-08-05T14:49:16.764790Z",
     "iopub.status.busy": "2025-08-05T14:49:16.764069Z",
     "iopub.status.idle": "2025-08-05T14:49:18.431260Z",
     "shell.execute_reply": "2025-08-05T14:49:18.430473Z"
    },
    "papermill": {
     "duration": 1.701583,
     "end_time": "2025-08-05T14:49:18.432711",
     "exception": false,
     "start_time": "2025-08-05T14:49:16.731128",
     "status": "completed"
    },
    "tags": []
   },
   "outputs": [],
   "source": [
    "# Define covered = 1 if true_label is in the predicted set\n",
    "cp_groups_df['covered'] = cp_groups_df.apply(\n",
    "    lambda r: int(r['true_label'] in r['pred_set']),\n",
    "    axis=1\n",
    ")"
   ]
  },
  {
   "cell_type": "code",
   "execution_count": 54,
   "id": "338ff529-1a6b-4b87-a931-8e4788d52aad",
   "metadata": {
    "execution": {
     "iopub.execute_input": "2025-08-05T14:49:18.456195Z",
     "iopub.status.busy": "2025-08-05T14:49:18.455676Z",
     "iopub.status.idle": "2025-08-05T14:49:18.460547Z",
     "shell.execute_reply": "2025-08-05T14:49:18.459433Z"
    },
    "papermill": {
     "duration": 0.018257,
     "end_time": "2025-08-05T14:49:18.462429",
     "exception": false,
     "start_time": "2025-08-05T14:49:18.444172",
     "status": "completed"
    },
    "tags": []
   },
   "outputs": [],
   "source": [
    "#cp_groups_df"
   ]
  },
  {
   "cell_type": "code",
   "execution_count": 55,
   "id": "90032e27-66df-4540-9169-4e89cfbaa758",
   "metadata": {
    "execution": {
     "iopub.execute_input": "2025-08-05T14:49:18.515637Z",
     "iopub.status.busy": "2025-08-05T14:49:18.515162Z",
     "iopub.status.idle": "2025-08-05T14:49:18.526621Z",
     "shell.execute_reply": "2025-08-05T14:49:18.525628Z"
    },
    "papermill": {
     "duration": 0.040547,
     "end_time": "2025-08-05T14:49:18.528518",
     "exception": false,
     "start_time": "2025-08-05T14:49:18.487971",
     "status": "completed"
    },
    "tags": []
   },
   "outputs": [],
   "source": [
    "subgroups = ['frau1','nongerman','nongerman_male','nongerman_female']\n",
    "\n",
    "# Conditional coverage for subgroup==1\n",
    "cond_coverage = {\n",
    "    g: cp_groups_df.loc[cp_groups_df[g]==1, 'covered'].mean()\n",
    "    for g in subgroups\n",
    "}"
   ]
  },
  {
   "cell_type": "code",
   "execution_count": 56,
   "id": "1e348fb1-b9c3-45bc-ba23-f016827a7e0d",
   "metadata": {
    "execution": {
     "iopub.execute_input": "2025-08-05T14:49:18.575323Z",
     "iopub.status.busy": "2025-08-05T14:49:18.574579Z",
     "iopub.status.idle": "2025-08-05T14:49:18.582417Z",
     "shell.execute_reply": "2025-08-05T14:49:18.581356Z"
    },
    "papermill": {
     "duration": 0.032717,
     "end_time": "2025-08-05T14:49:18.584231",
     "exception": false,
     "start_time": "2025-08-05T14:49:18.551514",
     "status": "completed"
    },
    "tags": []
   },
   "outputs": [
    {
     "data": {
      "text/plain": [
       "{'frau1': 0.9096374174417038,\n",
       " 'nongerman': 0.9105147925672262,\n",
       " 'nongerman_male': 0.9268666126272179,\n",
       " 'nongerman_female': 0.8834575260804769}"
      ]
     },
     "execution_count": 56,
     "metadata": {},
     "output_type": "execute_result"
    }
   ],
   "source": [
    "cond_coverage"
   ]
  },
  {
   "cell_type": "code",
   "execution_count": 57,
   "id": "f5093324-c3dd-4d63-bc4c-8d945e5c8bbb",
   "metadata": {
    "execution": {
     "iopub.execute_input": "2025-08-05T14:49:18.631393Z",
     "iopub.status.busy": "2025-08-05T14:49:18.630666Z",
     "iopub.status.idle": "2025-08-05T14:49:18.638336Z",
     "shell.execute_reply": "2025-08-05T14:49:18.637267Z"
    },
    "papermill": {
     "duration": 0.032747,
     "end_time": "2025-08-05T14:49:18.640160",
     "exception": false,
     "start_time": "2025-08-05T14:49:18.607413",
     "status": "completed"
    },
    "tags": []
   },
   "outputs": [],
   "source": [
    "for subgroup, cov in cond_coverage.items():\n",
    "    cp_metrics_df[f\"cov_{subgroup}\"] = cov"
   ]
  },
  {
   "cell_type": "code",
   "execution_count": 58,
   "id": "6e872e10-dbe5-49e8-b554-5030c98ff75d",
   "metadata": {
    "execution": {
     "iopub.execute_input": "2025-08-05T14:49:18.687588Z",
     "iopub.status.busy": "2025-08-05T14:49:18.687017Z",
     "iopub.status.idle": "2025-08-05T14:49:18.708658Z",
     "shell.execute_reply": "2025-08-05T14:49:18.707562Z"
    },
    "papermill": {
     "duration": 0.046961,
     "end_time": "2025-08-05T14:49:18.710584",
     "exception": false,
     "start_time": "2025-08-05T14:49:18.663623",
     "status": "completed"
    },
    "tags": []
   },
   "outputs": [
    {
     "data": {
      "text/html": [
       "<div>\n",
       "<style scoped>\n",
       "    .dataframe tbody tr th:only-of-type {\n",
       "        vertical-align: middle;\n",
       "    }\n",
       "\n",
       "    .dataframe tbody tr th {\n",
       "        vertical-align: top;\n",
       "    }\n",
       "\n",
       "    .dataframe thead th {\n",
       "        text-align: right;\n",
       "    }\n",
       "</style>\n",
       "<table border=\"1\" class=\"dataframe\">\n",
       "  <thead>\n",
       "    <tr style=\"text-align: right;\">\n",
       "      <th></th>\n",
       "      <th>universe_id</th>\n",
       "      <th>universe_training_year</th>\n",
       "      <th>universe_training_size</th>\n",
       "      <th>universe_scale</th>\n",
       "      <th>universe_model</th>\n",
       "      <th>universe_exclude_features</th>\n",
       "      <th>universe_exclude_subgroups</th>\n",
       "      <th>q_hat</th>\n",
       "      <th>coverage</th>\n",
       "      <th>avg_size</th>\n",
       "      <th>cov_frau1</th>\n",
       "      <th>cov_nongerman</th>\n",
       "      <th>cov_nongerman_male</th>\n",
       "      <th>cov_nongerman_female</th>\n",
       "    </tr>\n",
       "  </thead>\n",
       "  <tbody>\n",
       "    <tr>\n",
       "      <th>0</th>\n",
       "      <td>851f597f9d0073d445a196b93b5c3213</td>\n",
       "      <td>2012_14</td>\n",
       "      <td>25k</td>\n",
       "      <td>scale</td>\n",
       "      <td>penalized_logreg</td>\n",
       "      <td>none</td>\n",
       "      <td>keep-all</td>\n",
       "      <td>0.664595</td>\n",
       "      <td>0.911515</td>\n",
       "      <td>1.125081</td>\n",
       "      <td>0.909637</td>\n",
       "      <td>0.910515</td>\n",
       "      <td>0.926867</td>\n",
       "      <td>0.883458</td>\n",
       "    </tr>\n",
       "  </tbody>\n",
       "</table>\n",
       "</div>"
      ],
      "text/plain": [
       "                        universe_id universe_training_year  \\\n",
       "0  851f597f9d0073d445a196b93b5c3213                2012_14   \n",
       "\n",
       "  universe_training_size universe_scale    universe_model  \\\n",
       "0                    25k          scale  penalized_logreg   \n",
       "\n",
       "  universe_exclude_features universe_exclude_subgroups     q_hat  coverage  \\\n",
       "0                      none                   keep-all  0.664595  0.911515   \n",
       "\n",
       "   avg_size  cov_frau1  cov_nongerman  cov_nongerman_male  \\\n",
       "0  1.125081   0.909637       0.910515            0.926867   \n",
       "\n",
       "   cov_nongerman_female  \n",
       "0              0.883458  "
      ]
     },
     "execution_count": 58,
     "metadata": {},
     "output_type": "execute_result"
    }
   ],
   "source": [
    "cp_metrics_df"
   ]
  },
  {
   "cell_type": "markdown",
   "id": "33774451",
   "metadata": {
    "papermill": {
     "duration": 0.022633,
     "end_time": "2025-08-05T14:49:18.756632",
     "exception": false,
     "start_time": "2025-08-05T14:49:18.733999",
     "status": "completed"
    },
    "tags": []
   },
   "source": [
    "# (Fairness) Metrics"
   ]
  },
  {
   "cell_type": "code",
   "execution_count": 59,
   "id": "debc5d62",
   "metadata": {
    "execution": {
     "iopub.execute_input": "2025-08-05T14:49:18.804256Z",
     "iopub.status.busy": "2025-08-05T14:49:18.803460Z",
     "iopub.status.idle": "2025-08-05T14:49:18.825480Z",
     "shell.execute_reply": "2025-08-05T14:49:18.824473Z"
    },
    "papermill": {
     "duration": 0.047823,
     "end_time": "2025-08-05T14:49:18.827316",
     "exception": false,
     "start_time": "2025-08-05T14:49:18.779493",
     "status": "completed"
    },
    "tags": []
   },
   "outputs": [],
   "source": [
    "# do I need to include maxdeutsch1.missing?\n",
    "\n",
    "import numpy as np\n",
    "\n",
    "colname_to_bin = \"maxdeutsch1\"\n",
    "majority_value = org_train[colname_to_bin].mode()[0]\n",
    "\n",
    "org_test[\"majmin\"] = np.where(org_test[colname_to_bin] == majority_value, \"majority\", \"minority\")"
   ]
  },
  {
   "cell_type": "code",
   "execution_count": 60,
   "id": "06a50de5",
   "metadata": {
    "execution": {
     "iopub.execute_input": "2025-08-05T14:49:18.872597Z",
     "iopub.status.busy": "2025-08-05T14:49:18.871835Z",
     "iopub.status.idle": "2025-08-05T14:49:20.933645Z",
     "shell.execute_reply": "2025-08-05T14:49:20.932629Z"
    },
    "papermill": {
     "duration": 2.084609,
     "end_time": "2025-08-05T14:49:20.935525",
     "exception": false,
     "start_time": "2025-08-05T14:49:18.850916",
     "status": "completed"
    },
    "tags": []
   },
   "outputs": [],
   "source": [
    "example_universe = universe.copy()\n",
    "example_universe[\"cutoff\"] = example_universe[\"cutoff\"][0]\n",
    "example_universe[\"eval_fairness_grouping\"] = example_universe[\"eval_fairness_grouping\"][0]\n",
    "fairness_dict, metric_frame = universe_analysis.compute_metrics(\n",
    "    example_universe,\n",
    "    y_pred_prob=probs_test,\n",
    "    y_test=y_true,\n",
    "    org_test=org_test,\n",
    ")"
   ]
  },
  {
   "cell_type": "markdown",
   "id": "f95d4e02",
   "metadata": {
    "papermill": {
     "duration": 0.023275,
     "end_time": "2025-08-05T14:49:20.981602",
     "exception": false,
     "start_time": "2025-08-05T14:49:20.958327",
     "status": "completed"
    },
    "tags": []
   },
   "source": [
    "# Overall"
   ]
  },
  {
   "cell_type": "markdown",
   "id": "bdee4871",
   "metadata": {
    "papermill": {
     "duration": 0.021767,
     "end_time": "2025-08-05T14:49:21.025629",
     "exception": false,
     "start_time": "2025-08-05T14:49:21.003862",
     "status": "completed"
    },
    "tags": []
   },
   "source": [
    "Fairness\n",
    "Main fairness target: Equalized Odds. Seems to be a better fit than equal opportunity, since we're not only interested in Y = 1. Seems to be a better fit than demographic parity, since we also care about accuracy, not just equal distribution of preds.\n",
    "\n",
    "Pick column for computation of fairness metrics\n",
    "\n",
    "Performance\n",
    "Overall performance measures, most interesting in relation to the measures split by group below"
   ]
  },
  {
   "cell_type": "code",
   "execution_count": 61,
   "id": "c4e067c6",
   "metadata": {
    "execution": {
     "iopub.execute_input": "2025-08-05T14:49:21.072913Z",
     "iopub.status.busy": "2025-08-05T14:49:21.072266Z",
     "iopub.status.idle": "2025-08-05T14:49:21.081219Z",
     "shell.execute_reply": "2025-08-05T14:49:21.080224Z"
    },
    "papermill": {
     "duration": 0.034217,
     "end_time": "2025-08-05T14:49:21.082974",
     "exception": false,
     "start_time": "2025-08-05T14:49:21.048757",
     "status": "completed"
    },
    "tags": []
   },
   "outputs": [
    {
     "data": {
      "text/plain": [
       "accuracy                   0.225404\n",
       "balanced accuracy          0.550928\n",
       "f1                         0.246707\n",
       "precision                  0.140936\n",
       "false positive rate        0.886934\n",
       "false negative rate        0.011210\n",
       "selection rate             0.900000\n",
       "count                  89710.000000\n",
       "dtype: float64"
      ]
     },
     "execution_count": 61,
     "metadata": {},
     "output_type": "execute_result"
    }
   ],
   "source": [
    "metric_frame.overall"
   ]
  },
  {
   "cell_type": "markdown",
   "id": "e968fe9d",
   "metadata": {
    "papermill": {
     "duration": 0.023604,
     "end_time": "2025-08-05T14:49:21.130798",
     "exception": false,
     "start_time": "2025-08-05T14:49:21.107194",
     "status": "completed"
    },
    "tags": []
   },
   "source": [
    "By Group"
   ]
  },
  {
   "cell_type": "code",
   "execution_count": 62,
   "id": "ec325bce",
   "metadata": {
    "execution": {
     "iopub.execute_input": "2025-08-05T14:49:21.179291Z",
     "iopub.status.busy": "2025-08-05T14:49:21.178811Z",
     "iopub.status.idle": "2025-08-05T14:49:21.195575Z",
     "shell.execute_reply": "2025-08-05T14:49:21.194566Z"
    },
    "papermill": {
     "duration": 0.043576,
     "end_time": "2025-08-05T14:49:21.197379",
     "exception": false,
     "start_time": "2025-08-05T14:49:21.153803",
     "status": "completed"
    },
    "tags": []
   },
   "outputs": [
    {
     "data": {
      "text/html": [
       "<div>\n",
       "<style scoped>\n",
       "    .dataframe tbody tr th:only-of-type {\n",
       "        vertical-align: middle;\n",
       "    }\n",
       "\n",
       "    .dataframe tbody tr th {\n",
       "        vertical-align: top;\n",
       "    }\n",
       "\n",
       "    .dataframe thead th {\n",
       "        text-align: right;\n",
       "    }\n",
       "</style>\n",
       "<table border=\"1\" class=\"dataframe\">\n",
       "  <thead>\n",
       "    <tr style=\"text-align: right;\">\n",
       "      <th></th>\n",
       "      <th>accuracy</th>\n",
       "      <th>balanced accuracy</th>\n",
       "      <th>f1</th>\n",
       "      <th>precision</th>\n",
       "      <th>false positive rate</th>\n",
       "      <th>false negative rate</th>\n",
       "      <th>selection rate</th>\n",
       "      <th>count</th>\n",
       "    </tr>\n",
       "    <tr>\n",
       "      <th>majmin</th>\n",
       "      <th></th>\n",
       "      <th></th>\n",
       "      <th></th>\n",
       "      <th></th>\n",
       "      <th></th>\n",
       "      <th></th>\n",
       "      <th></th>\n",
       "      <th></th>\n",
       "    </tr>\n",
       "  </thead>\n",
       "  <tbody>\n",
       "    <tr>\n",
       "      <th>majority</th>\n",
       "      <td>0.246913</td>\n",
       "      <td>0.560885</td>\n",
       "      <td>0.257381</td>\n",
       "      <td>0.147971</td>\n",
       "      <td>0.865867</td>\n",
       "      <td>0.012363</td>\n",
       "      <td>0.881957</td>\n",
       "      <td>69170.0</td>\n",
       "    </tr>\n",
       "    <tr>\n",
       "      <th>minority</th>\n",
       "      <td>0.152970</td>\n",
       "      <td>0.518358</td>\n",
       "      <td>0.212831</td>\n",
       "      <td>0.119185</td>\n",
       "      <td>0.956527</td>\n",
       "      <td>0.006757</td>\n",
       "      <td>0.960759</td>\n",
       "      <td>20540.0</td>\n",
       "    </tr>\n",
       "  </tbody>\n",
       "</table>\n",
       "</div>"
      ],
      "text/plain": [
       "          accuracy  balanced accuracy        f1  precision  \\\n",
       "majmin                                                       \n",
       "majority  0.246913           0.560885  0.257381   0.147971   \n",
       "minority  0.152970           0.518358  0.212831   0.119185   \n",
       "\n",
       "          false positive rate  false negative rate  selection rate    count  \n",
       "majmin                                                                       \n",
       "majority             0.865867             0.012363        0.881957  69170.0  \n",
       "minority             0.956527             0.006757        0.960759  20540.0  "
      ]
     },
     "execution_count": 62,
     "metadata": {},
     "output_type": "execute_result"
    }
   ],
   "source": [
    "metric_frame.by_group"
   ]
  },
  {
   "cell_type": "code",
   "execution_count": 63,
   "id": "a9ddbe63",
   "metadata": {
    "execution": {
     "iopub.execute_input": "2025-08-05T14:49:21.248245Z",
     "iopub.status.busy": "2025-08-05T14:49:21.247657Z",
     "iopub.status.idle": "2025-08-05T14:49:22.889185Z",
     "shell.execute_reply": "2025-08-05T14:49:22.888085Z"
    },
    "papermill": {
     "duration": 1.667146,
     "end_time": "2025-08-05T14:49:22.890533",
     "exception": false,
     "start_time": "2025-08-05T14:49:21.223387",
     "status": "completed"
    },
    "tags": []
   },
   "outputs": [
    {
     "data": {
      "text/plain": [
       "array([[<Axes: title={'center': 'accuracy'}, xlabel='majmin'>,\n",
       "        <Axes: title={'center': 'balanced accuracy'}, xlabel='majmin'>,\n",
       "        <Axes: title={'center': 'f1'}, xlabel='majmin'>],\n",
       "       [<Axes: title={'center': 'precision'}, xlabel='majmin'>,\n",
       "        <Axes: title={'center': 'false positive rate'}, xlabel='majmin'>,\n",
       "        <Axes: title={'center': 'false negative rate'}, xlabel='majmin'>],\n",
       "       [<Axes: title={'center': 'selection rate'}, xlabel='majmin'>,\n",
       "        <Axes: title={'center': 'count'}, xlabel='majmin'>,\n",
       "        <Axes: xlabel='majmin'>]], dtype=object)"
      ]
     },
     "execution_count": 63,
     "metadata": {},
     "output_type": "execute_result"
    },
    {
     "data": {
      "image/png": "[encoded data removed]",
      "text/plain": [
       "<Figure size 1200x800 with 9 Axes>"
      ]
     },
     "metadata": {},
     "output_type": "display_data"
    }
   ],
   "source": [
    "# In a graphic\n",
    "metric_frame.by_group.plot.bar(\n",
    "    subplots=True,\n",
    "    layout=[3, 3],\n",
    "    legend=False,\n",
    "    figsize=[12, 8],\n",
    "    title=\"Show all metrics\",\n",
    ")"
   ]
  },
  {
   "cell_type": "markdown",
   "id": "f57a0bac",
   "metadata": {
    "papermill": {
     "duration": 0.022932,
     "end_time": "2025-08-05T14:49:22.936851",
     "exception": false,
     "start_time": "2025-08-05T14:49:22.913919",
     "status": "completed"
    },
    "tags": []
   },
   "source": [
    "# Final Output"
   ]
  },
  {
   "cell_type": "code",
   "execution_count": 64,
   "id": "96d280a3",
   "metadata": {
    "execution": {
     "iopub.execute_input": "2025-08-05T14:49:22.991255Z",
     "iopub.status.busy": "2025-08-05T14:49:22.990264Z",
     "iopub.status.idle": "2025-08-05T14:49:23.000794Z",
     "shell.execute_reply": "2025-08-05T14:49:22.999618Z"
    },
    "papermill": {
     "duration": 0.04128,
     "end_time": "2025-08-05T14:49:23.002765",
     "exception": false,
     "start_time": "2025-08-05T14:49:22.961485",
     "status": "completed"
    },
    "tags": []
   },
   "outputs": [
    {
     "data": {
      "text/plain": [
       "4"
      ]
     },
     "execution_count": 64,
     "metadata": {},
     "output_type": "execute_result"
    }
   ],
   "source": [
    "sub_universes = universe_analysis.generate_sub_universes()\n",
    "len(sub_universes)"
   ]
  },
  {
   "cell_type": "code",
   "execution_count": 65,
   "id": "92adf7ba",
   "metadata": {
    "execution": {
     "iopub.execute_input": "2025-08-05T14:49:23.052603Z",
     "iopub.status.busy": "2025-08-05T14:49:23.052047Z",
     "iopub.status.idle": "2025-08-05T14:49:23.072061Z",
     "shell.execute_reply": "2025-08-05T14:49:23.071072Z"
    },
    "papermill": {
     "duration": 0.042004,
     "end_time": "2025-08-05T14:49:23.073330",
     "exception": false,
     "start_time": "2025-08-05T14:49:23.031326",
     "status": "completed"
    },
    "tags": []
   },
   "outputs": [],
   "source": [
    "def filter_sub_universe_data(sub_universe, org_test):\n",
    "    # Keep all rows — no filtering\n",
    "    keep_rows_mask = np.ones(org_test.shape[0], dtype=bool)\n",
    "\n",
    "    print(f\"[INFO] Keeping all rows: {keep_rows_mask.sum()} rows retained.\")\n",
    "    return keep_rows_mask"
   ]
  },
  {
   "cell_type": "code",
   "execution_count": 66,
   "id": "4a759155",
   "metadata": {
    "execution": {
     "iopub.execute_input": "2025-08-05T14:49:23.102168Z",
     "iopub.status.busy": "2025-08-05T14:49:23.101215Z",
     "iopub.status.idle": "2025-08-05T14:49:32.316704Z",
     "shell.execute_reply": "2025-08-05T14:49:32.315673Z"
    },
    "papermill": {
     "duration": 9.231157,
     "end_time": "2025-08-05T14:49:32.318380",
     "exception": false,
     "start_time": "2025-08-05T14:49:23.087223",
     "status": "completed"
    },
    "tags": []
   },
   "outputs": [
    {
     "name": "stdout",
     "output_type": "stream",
     "text": [
      "Stopping execution_time clock.\n",
      "[INFO] Keeping all rows: 89710 rows retained.\n"
     ]
    },
    {
     "name": "stdout",
     "output_type": "stream",
     "text": [
      "[INFO] Keeping all rows: 89710 rows retained.\n"
     ]
    },
    {
     "name": "stdout",
     "output_type": "stream",
     "text": [
      "[INFO] Keeping all rows: 89710 rows retained.\n"
     ]
    },
    {
     "name": "stdout",
     "output_type": "stream",
     "text": [
      "[INFO] Keeping all rows: 89710 rows retained.\n"
     ]
    },
    {
     "data": {
      "text/html": [
       "<div>\n",
       "<style scoped>\n",
       "    .dataframe tbody tr th:only-of-type {\n",
       "        vertical-align: middle;\n",
       "    }\n",
       "\n",
       "    .dataframe tbody tr th {\n",
       "        vertical-align: top;\n",
       "    }\n",
       "\n",
       "    .dataframe thead th {\n",
       "        text-align: right;\n",
       "    }\n",
       "</style>\n",
       "<table border=\"1\" class=\"dataframe\">\n",
       "  <thead>\n",
       "    <tr style=\"text-align: right;\">\n",
       "      <th></th>\n",
       "      <th>run_no</th>\n",
       "      <th>universe_id</th>\n",
       "      <th>universe_settings</th>\n",
       "      <th>execution_time</th>\n",
       "      <th>test_size_n</th>\n",
       "      <th>test_size_frac</th>\n",
       "      <th>fair_main_equalized_odds_difference</th>\n",
       "      <th>fair_main_equalized_odds_ratio</th>\n",
       "      <th>fair_main_demographic_parity_difference</th>\n",
       "      <th>fair_main_demographic_parity_ratio</th>\n",
       "      <th>...</th>\n",
       "      <th>perf_grp_precision_0</th>\n",
       "      <th>perf_grp_precision_1</th>\n",
       "      <th>perf_grp_false positive rate_0</th>\n",
       "      <th>perf_grp_false positive rate_1</th>\n",
       "      <th>perf_grp_false negative rate_0</th>\n",
       "      <th>perf_grp_false negative rate_1</th>\n",
       "      <th>perf_grp_selection rate_0</th>\n",
       "      <th>perf_grp_selection rate_1</th>\n",
       "      <th>perf_grp_count_0</th>\n",
       "      <th>perf_grp_count_1</th>\n",
       "    </tr>\n",
       "  </thead>\n",
       "  <tbody>\n",
       "    <tr>\n",
       "      <th>0</th>\n",
       "      <td>15</td>\n",
       "      <td>851f597f9d0073d445a196b93b5c3213</td>\n",
       "      <td>{\"cutoff\": \"quantile_0.1\", \"eval_fairness_grou...</td>\n",
       "      <td>22.579429</td>\n",
       "      <td>89710</td>\n",
       "      <td>1.0</td>\n",
       "      <td>0.090659</td>\n",
       "      <td>0.905220</td>\n",
       "      <td>0.078802</td>\n",
       "      <td>0.917979</td>\n",
       "      <td>...</td>\n",
       "      <td>NaN</td>\n",
       "      <td>NaN</td>\n",
       "      <td>NaN</td>\n",
       "      <td>NaN</td>\n",
       "      <td>NaN</td>\n",
       "      <td>NaN</td>\n",
       "      <td>NaN</td>\n",
       "      <td>NaN</td>\n",
       "      <td>NaN</td>\n",
       "      <td>NaN</td>\n",
       "    </tr>\n",
       "    <tr>\n",
       "      <th>0</th>\n",
       "      <td>15</td>\n",
       "      <td>851f597f9d0073d445a196b93b5c3213</td>\n",
       "      <td>{\"cutoff\": \"quantile_0.1\", \"eval_fairness_grou...</td>\n",
       "      <td>22.579429</td>\n",
       "      <td>89710</td>\n",
       "      <td>1.0</td>\n",
       "      <td>0.090659</td>\n",
       "      <td>0.905220</td>\n",
       "      <td>0.078802</td>\n",
       "      <td>0.917979</td>\n",
       "      <td>...</td>\n",
       "      <td>0.119185</td>\n",
       "      <td>0.147971</td>\n",
       "      <td>0.956527</td>\n",
       "      <td>0.865867</td>\n",
       "      <td>0.006757</td>\n",
       "      <td>0.012363</td>\n",
       "      <td>0.960759</td>\n",
       "      <td>0.881957</td>\n",
       "      <td>20540.0</td>\n",
       "      <td>69170.0</td>\n",
       "    </tr>\n",
       "    <tr>\n",
       "      <th>0</th>\n",
       "      <td>15</td>\n",
       "      <td>851f597f9d0073d445a196b93b5c3213</td>\n",
       "      <td>{\"cutoff\": \"quantile_0.25\", \"eval_fairness_gro...</td>\n",
       "      <td>22.579429</td>\n",
       "      <td>89710</td>\n",
       "      <td>1.0</td>\n",
       "      <td>0.157723</td>\n",
       "      <td>0.812572</td>\n",
       "      <td>0.136343</td>\n",
       "      <td>0.840574</td>\n",
       "      <td>...</td>\n",
       "      <td>NaN</td>\n",
       "      <td>NaN</td>\n",
       "      <td>NaN</td>\n",
       "      <td>NaN</td>\n",
       "      <td>NaN</td>\n",
       "      <td>NaN</td>\n",
       "      <td>NaN</td>\n",
       "      <td>NaN</td>\n",
       "      <td>NaN</td>\n",
       "      <td>NaN</td>\n",
       "    </tr>\n",
       "    <tr>\n",
       "      <th>0</th>\n",
       "      <td>15</td>\n",
       "      <td>851f597f9d0073d445a196b93b5c3213</td>\n",
       "      <td>{\"cutoff\": \"quantile_0.25\", \"eval_fairness_gro...</td>\n",
       "      <td>22.579429</td>\n",
       "      <td>89710</td>\n",
       "      <td>1.0</td>\n",
       "      <td>0.157723</td>\n",
       "      <td>0.812572</td>\n",
       "      <td>0.136343</td>\n",
       "      <td>0.840574</td>\n",
       "      <td>...</td>\n",
       "      <td>0.129455</td>\n",
       "      <td>0.174483</td>\n",
       "      <td>0.841514</td>\n",
       "      <td>0.683791</td>\n",
       "      <td>0.039696</td>\n",
       "      <td>0.050766</td>\n",
       "      <td>0.855209</td>\n",
       "      <td>0.718867</td>\n",
       "      <td>20540.0</td>\n",
       "      <td>69170.0</td>\n",
       "    </tr>\n",
       "  </tbody>\n",
       "</table>\n",
       "<p>4 rows × 50 columns</p>\n",
       "</div>"
      ],
      "text/plain": [
       "  run_no                       universe_id  \\\n",
       "0     15  851f597f9d0073d445a196b93b5c3213   \n",
       "0     15  851f597f9d0073d445a196b93b5c3213   \n",
       "0     15  851f597f9d0073d445a196b93b5c3213   \n",
       "0     15  851f597f9d0073d445a196b93b5c3213   \n",
       "\n",
       "                                   universe_settings  execution_time  \\\n",
       "0  {\"cutoff\": \"quantile_0.1\", \"eval_fairness_grou...       22.579429   \n",
       "0  {\"cutoff\": \"quantile_0.1\", \"eval_fairness_grou...       22.579429   \n",
       "0  {\"cutoff\": \"quantile_0.25\", \"eval_fairness_gro...       22.579429   \n",
       "0  {\"cutoff\": \"quantile_0.25\", \"eval_fairness_gro...       22.579429   \n",
       "\n",
       "   test_size_n  test_size_frac  fair_main_equalized_odds_difference  \\\n",
       "0        89710             1.0                             0.090659   \n",
       "0        89710             1.0                             0.090659   \n",
       "0        89710             1.0                             0.157723   \n",
       "0        89710             1.0                             0.157723   \n",
       "\n",
       "   fair_main_equalized_odds_ratio  fair_main_demographic_parity_difference  \\\n",
       "0                        0.905220                                 0.078802   \n",
       "0                        0.905220                                 0.078802   \n",
       "0                        0.812572                                 0.136343   \n",
       "0                        0.812572                                 0.136343   \n",
       "\n",
       "   fair_main_demographic_parity_ratio  ...  perf_grp_precision_0  \\\n",
       "0                            0.917979  ...                   NaN   \n",
       "0                            0.917979  ...              0.119185   \n",
       "0                            0.840574  ...                   NaN   \n",
       "0                            0.840574  ...              0.129455   \n",
       "\n",
       "   perf_grp_precision_1  perf_grp_false positive rate_0  \\\n",
       "0                   NaN                             NaN   \n",
       "0              0.147971                        0.956527   \n",
       "0                   NaN                             NaN   \n",
       "0              0.174483                        0.841514   \n",
       "\n",
       "   perf_grp_false positive rate_1  perf_grp_false negative rate_0  \\\n",
       "0                             NaN                             NaN   \n",
       "0                        0.865867                        0.006757   \n",
       "0                             NaN                             NaN   \n",
       "0                        0.683791                        0.039696   \n",
       "\n",
       "   perf_grp_false negative rate_1  perf_grp_selection rate_0  \\\n",
       "0                             NaN                        NaN   \n",
       "0                        0.012363                   0.960759   \n",
       "0                             NaN                        NaN   \n",
       "0                        0.050766                   0.855209   \n",
       "\n",
       "   perf_grp_selection rate_1  perf_grp_count_0  perf_grp_count_1  \n",
       "0                        NaN               NaN               NaN  \n",
       "0                   0.881957           20540.0           69170.0  \n",
       "0                        NaN               NaN               NaN  \n",
       "0                   0.718867           20540.0           69170.0  \n",
       "\n",
       "[4 rows x 50 columns]"
      ]
     },
     "execution_count": 66,
     "metadata": {},
     "output_type": "execute_result"
    }
   ],
   "source": [
    "final_output = universe_analysis.generate_final_output(\n",
    "    y_pred_prob=probs_test,\n",
    "    y_test=y_true,\n",
    "    org_test=org_test,\n",
    "    filter_data=filter_sub_universe_data,\n",
    "    cp_metrics_df=cp_metrics_df,\n",
    "    save=True,\n",
    ")\n",
    "final_output"
   ]
  }
 ],
 "metadata": {
  "celltoolbar": "Tags",
  "kernelspec": {
   "display_name": "Python (CMA Fairness)",
   "language": "python",
   "name": "cma_fair_env"
  },
  "language_info": {
   "codemirror_mode": {
    "name": "ipython",
    "version": 3
   },
   "file_extension": ".py",
   "mimetype": "text/x-python",
   "name": "python",
   "nbconvert_exporter": "python",
   "pygments_lexer": "ipython3",
   "version": "3.10.12"
  },
  "papermill": {
   "default_parameters": {},
   "duration": 35.581229,
   "end_time": "2025-08-05T14:49:33.064796",
   "environment_variables": {},
   "exception": null,
   "input_path": "universe_analysis.ipynb",
   "output_path": "output/runs/15/notebooks/m_15-851f597f9d0073d445a196b93b5c3213.ipynb",
   "parameters": {
    "output_dir": "output",
    "run_no": "15",
    "seed": "2023",
    "universe": "{\"cutoff\": [\"quantile_0.1\", \"quantile_0.25\"], \"eval_fairness_grouping\": [\"majority-minority\", \"nationality-all\"], \"exclude_features\": \"none\", \"exclude_subgroups\": \"keep-all\", \"model\": \"penalized_logreg\", \"scale\": \"scale\", \"training_size\": \"25k\", \"training_year\": \"2012_14\"}",
    "universe_id": "851f597f9d0073d445a196b93b5c3213"
   },
   "start_time": "2025-08-05T14:48:57.483567",
   "version": "2.6.0"
  }
 },
 "nbformat": 4,
 "nbformat_minor": 5
}