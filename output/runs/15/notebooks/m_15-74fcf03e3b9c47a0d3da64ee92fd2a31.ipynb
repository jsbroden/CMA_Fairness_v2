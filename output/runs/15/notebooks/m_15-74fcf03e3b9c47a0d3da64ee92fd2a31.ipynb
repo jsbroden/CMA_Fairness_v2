{
 "cells": [
  {
   "cell_type": "code",
   "execution_count": 1,
   "id": "f159f837-637b-42ba-96b5-ec9a68c44524",
   "metadata": {
    "execution": {
     "iopub.execute_input": "2025-08-05T15:26:30.971558Z",
     "iopub.status.busy": "2025-08-05T15:26:30.970663Z",
     "iopub.status.idle": "2025-08-05T15:26:30.984603Z",
     "shell.execute_reply": "2025-08-05T15:26:30.983515Z"
    },
    "papermill": {
     "duration": 0.053289,
     "end_time": "2025-08-05T15:26:30.986429",
     "exception": false,
     "start_time": "2025-08-05T15:26:30.933140",
     "status": "completed"
    },
    "tags": []
   },
   "outputs": [
    {
     "name": "stdout",
     "output_type": "stream",
     "text": [
      "/dss/dsshome1/0C/ra93lal2/cma/CMA_Fairness_v2\n"
     ]
    },
    {
     "name": "stderr",
     "output_type": "stream",
     "text": [
      "/dss/dsshome1/0C/ra93lal2/.local/share/virtualenvs/CMA_Fairness_v2-3j10GkSs/lib/python3.10/site-packages/IPython/core/magics/osm.py:393: UserWarning: This is now an optional IPython functionality, using bookmarks requires you to install the `pickleshare` library.\n",
      "  bkms = self.shell.db.get('bookmarks', {})\n",
      "/dss/dsshome1/0C/ra93lal2/.local/share/virtualenvs/CMA_Fairness_v2-3j10GkSs/lib/python3.10/site-packages/IPython/core/magics/osm.py:417: UserWarning: This is now an optional IPython functionality, setting dhist requires you to install the `pickleshare` library.\n",
      "  self.shell.db['dhist'] = compress_dhist(dhist)[-100:]\n"
     ]
    }
   ],
   "source": [
    "%cd ~/cma/CMA_Fairness_v2"
   ]
  },
  {
   "cell_type": "markdown",
   "id": "de2603b9",
   "metadata": {
    "papermill": {
     "duration": 0.018659,
     "end_time": "2025-08-05T15:26:31.025108",
     "exception": false,
     "start_time": "2025-08-05T15:26:31.006449",
     "status": "completed"
    },
    "tags": []
   },
   "source": [
    "The following cell holds the definition of our parameters, these values can be overriden by rendering the with e.g. the following command:\n",
    "\n",
    "papermill -p alpha 0.2 -p ratio 0.3 universe_analysis.ipynb output/test_run.ipynb"
   ]
  },
  {
   "cell_type": "code",
   "execution_count": 2,
   "id": "a80968a0-40bb-4fa9-85ef-2d5eefb01975",
   "metadata": {
    "execution": {
     "iopub.execute_input": "2025-08-05T15:26:31.064853Z",
     "iopub.status.busy": "2025-08-05T15:26:31.063921Z",
     "iopub.status.idle": "2025-08-05T15:26:31.069991Z",
     "shell.execute_reply": "2025-08-05T15:26:31.068788Z"
    },
    "papermill": {
     "duration": 0.028169,
     "end_time": "2025-08-05T15:26:31.071741",
     "exception": false,
     "start_time": "2025-08-05T15:26:31.043572",
     "status": "completed"
    },
    "tags": []
   },
   "outputs": [
    {
     "name": "stdout",
     "output_type": "stream",
     "text": [
      "Current working directory: /dss/dsshome1/0C/ra93lal2/cma/CMA_Fairness_v2\n"
     ]
    }
   ],
   "source": [
    "import os\n",
    "print(\"Current working directory:\", os.getcwd())"
   ]
  },
  {
   "cell_type": "code",
   "execution_count": 3,
   "id": "2dce4c03",
   "metadata": {
    "execution": {
     "iopub.execute_input": "2025-08-05T15:26:31.113293Z",
     "iopub.status.busy": "2025-08-05T15:26:31.112543Z",
     "iopub.status.idle": "2025-08-05T15:26:31.118689Z",
     "shell.execute_reply": "2025-08-05T15:26:31.117717Z"
    },
    "papermill": {
     "duration": 0.029114,
     "end_time": "2025-08-05T15:26:31.120593",
     "exception": false,
     "start_time": "2025-08-05T15:26:31.091479",
     "status": "completed"
    },
    "tags": [
     "parameters"
    ]
   },
   "outputs": [],
   "source": [
    "run_no = 0\n",
    "universe_id = \"test\"\n",
    "universe = {\n",
    "    \"training_size\": \"25k\", # \"25k\", \"5k\", \"1k\"\n",
    "    \"training_year\": \"2014\", # \"2014\", \"2012_14\", \"2010_14\"\n",
    "    \"scale\": \"scale\", # \"scale\", \"do-not-scale\",\n",
    "    \"model\": \"elasticnet\", # \"logreg\", \"penalized_logreg\", \"rf\", \"gbm\", \"elasticnet\"\n",
    "    \"cutoff\": [\"quantile_0.15\", \"quantile_0.30\"],\n",
    "    \"exclude_features\": \"age\", # \"none\", \"nationality\", \"sex\", \"nationality-sex\", \"age\"\n",
    "    \"exclude_subgroups\": \"keep-all\", # \"keep-all\", \"drop-non-german\"\n",
    "    \"eval_fairness_grouping\": [\"majority-minority\", \"nationality-all\"]\n",
    "}\n",
    "\n",
    "output_dir=\"./output\"\n",
    "seed=0"
   ]
  },
  {
   "cell_type": "code",
   "execution_count": 4,
   "id": "f902559e",
   "metadata": {
    "execution": {
     "iopub.execute_input": "2025-08-05T15:26:31.159993Z",
     "iopub.status.busy": "2025-08-05T15:26:31.159111Z",
     "iopub.status.idle": "2025-08-05T15:26:31.165478Z",
     "shell.execute_reply": "2025-08-05T15:26:31.164280Z"
    },
    "papermill": {
     "duration": 0.028649,
     "end_time": "2025-08-05T15:26:31.167352",
     "exception": false,
     "start_time": "2025-08-05T15:26:31.138703",
     "status": "completed"
    },
    "tags": [
     "injected-parameters"
    ]
   },
   "outputs": [],
   "source": [
    "# Parameters\n",
    "universe_id = \"74fcf03e3b9c47a0d3da64ee92fd2a31\"\n",
    "run_no = \"15\"\n",
    "universe = \"{\\\"cutoff\\\": [\\\"quantile_0.1\\\", \\\"quantile_0.25\\\"], \\\"eval_fairness_grouping\\\": [\\\"majority-minority\\\", \\\"nationality-all\\\"], \\\"exclude_features\\\": \\\"nationality-sex\\\", \\\"exclude_subgroups\\\": \\\"drop-non-german\\\", \\\"model\\\": \\\"elasticnet\\\", \\\"scale\\\": \\\"scale\\\", \\\"training_size\\\": \\\"5k\\\", \\\"training_year\\\": \\\"2014\\\"}\"\n",
    "output_dir = \"output\"\n",
    "seed = \"2023\"\n"
   ]
  },
  {
   "cell_type": "code",
   "execution_count": 5,
   "id": "1650acaf",
   "metadata": {
    "execution": {
     "iopub.execute_input": "2025-08-05T15:26:31.205297Z",
     "iopub.status.busy": "2025-08-05T15:26:31.204818Z",
     "iopub.status.idle": "2025-08-05T15:26:31.209949Z",
     "shell.execute_reply": "2025-08-05T15:26:31.208882Z"
    },
    "papermill": {
     "duration": 0.026276,
     "end_time": "2025-08-05T15:26:31.211750",
     "exception": false,
     "start_time": "2025-08-05T15:26:31.185474",
     "status": "completed"
    },
    "tags": []
   },
   "outputs": [],
   "source": [
    "import json\n",
    "if isinstance(universe, str):\n",
    "    universe = json.loads(universe)"
   ]
  },
  {
   "cell_type": "code",
   "execution_count": 6,
   "id": "16620c48",
   "metadata": {
    "execution": {
     "iopub.execute_input": "2025-08-05T15:26:31.245914Z",
     "iopub.status.busy": "2025-08-05T15:26:31.245088Z",
     "iopub.status.idle": "2025-08-05T15:26:31.290067Z",
     "shell.execute_reply": "2025-08-05T15:26:31.288874Z"
    },
    "papermill": {
     "duration": 0.066891,
     "end_time": "2025-08-05T15:26:31.294998",
     "exception": false,
     "start_time": "2025-08-05T15:26:31.228107",
     "status": "completed"
    },
    "tags": []
   },
   "outputs": [],
   "source": [
    "# Auto-reload the custom package\n",
    "%load_ext autoreload\n",
    "%autoreload 1\n",
    "%aimport fairness_multiverse"
   ]
  },
  {
   "cell_type": "code",
   "execution_count": 7,
   "id": "01c5c9f3",
   "metadata": {
    "execution": {
     "iopub.execute_input": "2025-08-05T15:26:31.334754Z",
     "iopub.status.busy": "2025-08-05T15:26:31.333998Z",
     "iopub.status.idle": "2025-08-05T15:26:33.267118Z",
     "shell.execute_reply": "2025-08-05T15:26:33.266025Z"
    },
    "papermill": {
     "duration": 1.9552,
     "end_time": "2025-08-05T15:26:33.269136",
     "exception": false,
     "start_time": "2025-08-05T15:26:31.313936",
     "status": "completed"
    },
    "tags": []
   },
   "outputs": [],
   "source": [
    "from fairness_multiverse.universe import UniverseAnalysis\n",
    "\n",
    "universe_analysis = UniverseAnalysis(\n",
    "    run_no = run_no,\n",
    "    universe_id = universe_id,\n",
    "    universe = universe,\n",
    "    output_dir=output_dir,\n",
    ")"
   ]
  },
  {
   "cell_type": "code",
   "execution_count": 8,
   "id": "106241f5",
   "metadata": {
    "execution": {
     "iopub.execute_input": "2025-08-05T15:26:33.306357Z",
     "iopub.status.busy": "2025-08-05T15:26:33.305610Z",
     "iopub.status.idle": "2025-08-05T15:26:33.312833Z",
     "shell.execute_reply": "2025-08-05T15:26:33.311603Z"
    },
    "papermill": {
     "duration": 0.0278,
     "end_time": "2025-08-05T15:26:33.314728",
     "exception": false,
     "start_time": "2025-08-05T15:26:33.286928",
     "status": "completed"
    },
    "tags": []
   },
   "outputs": [
    {
     "name": "stdout",
     "output_type": "stream",
     "text": [
      "Using Seed: 2023\n"
     ]
    }
   ],
   "source": [
    "import numpy as np\n",
    "parsed_seed = int(seed)\n",
    "np.random.seed(parsed_seed)\n",
    "print(f\"Using Seed: {parsed_seed}\")"
   ]
  },
  {
   "cell_type": "markdown",
   "id": "e0ebdc57",
   "metadata": {
    "papermill": {
     "duration": 0.016028,
     "end_time": "2025-08-05T15:26:33.348307",
     "exception": false,
     "start_time": "2025-08-05T15:26:33.332279",
     "status": "completed"
    },
    "tags": []
   },
   "source": [
    "# Loading Data"
   ]
  },
  {
   "cell_type": "code",
   "execution_count": 9,
   "id": "f0496b8a",
   "metadata": {
    "execution": {
     "iopub.execute_input": "2025-08-05T15:26:33.385882Z",
     "iopub.status.busy": "2025-08-05T15:26:33.385309Z",
     "iopub.status.idle": "2025-08-05T15:26:45.595348Z",
     "shell.execute_reply": "2025-08-05T15:26:45.594163Z"
    },
    "papermill": {
     "duration": 12.232156,
     "end_time": "2025-08-05T15:26:45.597088",
     "exception": false,
     "start_time": "2025-08-05T15:26:33.364932",
     "status": "completed"
    },
    "tags": []
   },
   "outputs": [
    {
     "name": "stdout",
     "output_type": "stream",
     "text": [
      "Loading SIAB data from cache: data/siab_cached.csv.gz\n"
     ]
    },
    {
     "name": "stdout",
     "output_type": "stream",
     "text": [
      "(643690, 164)\n"
     ]
    }
   ],
   "source": [
    "from pathlib import Path\n",
    "import pandas as pd\n",
    "\n",
    "# File paths\n",
    "raw_file = Path(\"data/raw/siab.csv\")\n",
    "cache_file = Path(\"data/siab_cached.csv.gz\")\n",
    "\n",
    "# Ensure cache directory exists\n",
    "cache_file.parent.mkdir(parents=True, exist_ok=True)\n",
    "\n",
    "# Load with simple caching\n",
    "if cache_file.exists():\n",
    "    print(f\"Loading SIAB data from cache: {cache_file}\")\n",
    "    siab = pd.read_csv(cache_file, compression='gzip')\n",
    "else:\n",
    "    print(f\"Cache not found. Reading raw SIAB data: {raw_file}\")\n",
    "    siab = pd.read_csv(raw_file)\n",
    "    siab.to_csv(cache_file, index=False, compression='gzip')\n",
    "    print(f\"Cached SIAB data to: {cache_file}\")\n",
    "\n",
    "print(siab.shape)"
   ]
  },
  {
   "cell_type": "code",
   "execution_count": 10,
   "id": "db0ca512-5f53-4dba-abdb-a2888bca41ba",
   "metadata": {
    "execution": {
     "iopub.execute_input": "2025-08-05T15:26:45.635857Z",
     "iopub.status.busy": "2025-08-05T15:26:45.635025Z",
     "iopub.status.idle": "2025-08-05T15:26:45.640898Z",
     "shell.execute_reply": "2025-08-05T15:26:45.639875Z"
    },
    "papermill": {
     "duration": 0.025899,
     "end_time": "2025-08-05T15:26:45.642658",
     "exception": false,
     "start_time": "2025-08-05T15:26:45.616759",
     "status": "completed"
    },
    "tags": []
   },
   "outputs": [],
   "source": [
    "#siab"
   ]
  },
  {
   "cell_type": "markdown",
   "id": "997051c5-15bd-4b69-9786-c3001a3ce484",
   "metadata": {
    "papermill": {
     "duration": 0.015388,
     "end_time": "2025-08-05T15:26:45.674268",
     "exception": false,
     "start_time": "2025-08-05T15:26:45.658880",
     "status": "completed"
    },
    "tags": []
   },
   "source": [
    "# Splitting Data and Setting Training Data Size"
   ]
  },
  {
   "cell_type": "code",
   "execution_count": 11,
   "id": "aea9c6ef-6f46-42c8-85eb-5a62025c1508",
   "metadata": {
    "execution": {
     "iopub.execute_input": "2025-08-05T15:26:45.700796Z",
     "iopub.status.busy": "2025-08-05T15:26:45.700466Z",
     "iopub.status.idle": "2025-08-05T15:26:45.907930Z",
     "shell.execute_reply": "2025-08-05T15:26:45.906774Z"
    },
    "papermill": {
     "duration": 0.219386,
     "end_time": "2025-08-05T15:26:45.909692",
     "exception": false,
     "start_time": "2025-08-05T15:26:45.690306",
     "status": "completed"
    },
    "tags": []
   },
   "outputs": [],
   "source": [
    "from fairness_multiverse.universe import sample_by_year_size\n",
    "\n",
    "siab_train = sample_by_year_size(siab,\n",
    "                               training_year=universe[\"training_year\"],\n",
    "                               training_size=universe[\"training_size\"])"
   ]
  },
  {
   "cell_type": "code",
   "execution_count": 12,
   "id": "8d3afb32-789d-442c-8d5d-9f5aa8dd2eed",
   "metadata": {
    "execution": {
     "iopub.execute_input": "2025-08-05T15:26:45.945993Z",
     "iopub.status.busy": "2025-08-05T15:26:45.945201Z",
     "iopub.status.idle": "2025-08-05T15:26:45.950374Z",
     "shell.execute_reply": "2025-08-05T15:26:45.949334Z"
    },
    "papermill": {
     "duration": 0.025525,
     "end_time": "2025-08-05T15:26:45.952298",
     "exception": false,
     "start_time": "2025-08-05T15:26:45.926773",
     "status": "completed"
    },
    "tags": []
   },
   "outputs": [],
   "source": [
    "#siab_train.shape"
   ]
  },
  {
   "cell_type": "code",
   "execution_count": 13,
   "id": "d582db68-1a4c-47fb-84fc-08518dc1975a",
   "metadata": {
    "execution": {
     "iopub.execute_input": "2025-08-05T15:26:45.990658Z",
     "iopub.status.busy": "2025-08-05T15:26:45.990222Z",
     "iopub.status.idle": "2025-08-05T15:26:45.996383Z",
     "shell.execute_reply": "2025-08-05T15:26:45.995491Z"
    },
    "papermill": {
     "duration": 0.029249,
     "end_time": "2025-08-05T15:26:45.998079",
     "exception": false,
     "start_time": "2025-08-05T15:26:45.968830",
     "status": "completed"
    },
    "tags": []
   },
   "outputs": [],
   "source": [
    "#display(siab_train.groupby(\"year\").size())"
   ]
  },
  {
   "cell_type": "code",
   "execution_count": 14,
   "id": "a561edb4-d032-42cb-8256-22eac1111c64",
   "metadata": {
    "execution": {
     "iopub.execute_input": "2025-08-05T15:26:46.019618Z",
     "iopub.status.busy": "2025-08-05T15:26:46.019236Z",
     "iopub.status.idle": "2025-08-05T15:26:46.266661Z",
     "shell.execute_reply": "2025-08-05T15:26:46.265246Z"
    },
    "papermill": {
     "duration": 0.259366,
     "end_time": "2025-08-05T15:26:46.268508",
     "exception": false,
     "start_time": "2025-08-05T15:26:46.009142",
     "status": "completed"
    },
    "tags": []
   },
   "outputs": [],
   "source": [
    "#siab_train = siab_s[siab_s.year < 2015]\n",
    "siab_calib = siab[siab.year == 2015]\n",
    "siab_test = siab[siab.year == 2016]"
   ]
  },
  {
   "cell_type": "code",
   "execution_count": 15,
   "id": "472de16f-c3db-4916-846b-1f0de9cf1746",
   "metadata": {
    "execution": {
     "iopub.execute_input": "2025-08-05T15:26:46.303952Z",
     "iopub.status.busy": "2025-08-05T15:26:46.303170Z",
     "iopub.status.idle": "2025-08-05T15:26:46.311412Z",
     "shell.execute_reply": "2025-08-05T15:26:46.310259Z"
    },
    "papermill": {
     "duration": 0.026631,
     "end_time": "2025-08-05T15:26:46.313211",
     "exception": false,
     "start_time": "2025-08-05T15:26:46.286580",
     "status": "completed"
    },
    "tags": []
   },
   "outputs": [],
   "source": [
    "X_train = siab_train.iloc[:,4:164]\n",
    "y_train = siab_train.iloc[:, [3]]"
   ]
  },
  {
   "cell_type": "code",
   "execution_count": 16,
   "id": "828c96af-f43a-4ed6-ba47-8ac73a47d56c",
   "metadata": {
    "execution": {
     "iopub.execute_input": "2025-08-05T15:26:46.346899Z",
     "iopub.status.busy": "2025-08-05T15:26:46.346250Z",
     "iopub.status.idle": "2025-08-05T15:26:46.411596Z",
     "shell.execute_reply": "2025-08-05T15:26:46.410574Z"
    },
    "papermill": {
     "duration": 0.083756,
     "end_time": "2025-08-05T15:26:46.413350",
     "exception": false,
     "start_time": "2025-08-05T15:26:46.329594",
     "status": "completed"
    },
    "tags": []
   },
   "outputs": [],
   "source": [
    "X_calib = siab_calib.iloc[:,4:164]\n",
    "y_calib = siab_calib.iloc[:, [3]]"
   ]
  },
  {
   "cell_type": "code",
   "execution_count": 17,
   "id": "c34be9c3-6bd6-476e-acd3-845840e303be",
   "metadata": {
    "execution": {
     "iopub.execute_input": "2025-08-05T15:26:46.449329Z",
     "iopub.status.busy": "2025-08-05T15:26:46.448661Z",
     "iopub.status.idle": "2025-08-05T15:26:46.502386Z",
     "shell.execute_reply": "2025-08-05T15:26:46.501289Z"
    },
    "papermill": {
     "duration": 0.072556,
     "end_time": "2025-08-05T15:26:46.504482",
     "exception": false,
     "start_time": "2025-08-05T15:26:46.431926",
     "status": "completed"
    },
    "tags": []
   },
   "outputs": [],
   "source": [
    "X_test = siab_test.iloc[:,4:164]\n",
    "y_true = siab_test.iloc[:, [3]]"
   ]
  },
  {
   "cell_type": "code",
   "execution_count": 18,
   "id": "e6c733c5",
   "metadata": {
    "execution": {
     "iopub.execute_input": "2025-08-05T15:26:46.543987Z",
     "iopub.status.busy": "2025-08-05T15:26:46.543218Z",
     "iopub.status.idle": "2025-08-05T15:26:46.636691Z",
     "shell.execute_reply": "2025-08-05T15:26:46.635794Z"
    },
    "papermill": {
     "duration": 0.114856,
     "end_time": "2025-08-05T15:26:46.638556",
     "exception": false,
     "start_time": "2025-08-05T15:26:46.523700",
     "status": "completed"
    },
    "tags": []
   },
   "outputs": [],
   "source": [
    "# Auxiliary data needed downstream in the pipeline\n",
    "\n",
    "org_train = X_train.copy()\n",
    "org_test = X_test.copy()\n",
    "org_calib = X_calib.copy()"
   ]
  },
  {
   "cell_type": "markdown",
   "id": "0a4a1b33",
   "metadata": {
    "papermill": {
     "duration": 0.016451,
     "end_time": "2025-08-05T15:26:46.671869",
     "exception": false,
     "start_time": "2025-08-05T15:26:46.655418",
     "status": "completed"
    },
    "tags": []
   },
   "source": [
    "# Preprocessing Data"
   ]
  },
  {
   "cell_type": "code",
   "execution_count": 19,
   "id": "ca879031",
   "metadata": {
    "execution": {
     "iopub.execute_input": "2025-08-05T15:26:46.707625Z",
     "iopub.status.busy": "2025-08-05T15:26:46.707095Z",
     "iopub.status.idle": "2025-08-05T15:26:46.713077Z",
     "shell.execute_reply": "2025-08-05T15:26:46.712026Z"
    },
    "papermill": {
     "duration": 0.024795,
     "end_time": "2025-08-05T15:26:46.714936",
     "exception": false,
     "start_time": "2025-08-05T15:26:46.690141",
     "status": "completed"
    },
    "tags": []
   },
   "outputs": [],
   "source": [
    "# EXCLUDE PROTECTED FEATURES\n",
    "# ----------------------\n",
    "# \"exclude_features\": \"none\", # \"nationality\", \"sex\", \"nationality-sex\"\n",
    "\n",
    "excluded_features = universe[\"exclude_features\"].split(\"-\") # split, e.g.: \"nationality-sex\" -> [\"nationality\", \"sex\"]\n",
    "excluded_features_dictionary = {\n",
    "    \"nationality\": [\"maxdeutsch1\", \"maxdeutsch.Missing.\"],\n",
    "    \"sex\": [\"frau1\"],\n",
    "    \"age\": [\"age\"],\n",
    "}"
   ]
  },
  {
   "cell_type": "code",
   "execution_count": 20,
   "id": "b745ac60",
   "metadata": {
    "execution": {
     "iopub.execute_input": "2025-08-05T15:26:46.750248Z",
     "iopub.status.busy": "2025-08-05T15:26:46.749445Z",
     "iopub.status.idle": "2025-08-05T15:26:46.754769Z",
     "shell.execute_reply": "2025-08-05T15:26:46.753744Z"
    },
    "papermill": {
     "duration": 0.023947,
     "end_time": "2025-08-05T15:26:46.756616",
     "exception": false,
     "start_time": "2025-08-05T15:26:46.732669",
     "status": "completed"
    },
    "tags": []
   },
   "outputs": [],
   "source": [
    "# Code nice names to column names\n",
    "\n",
    "excluded_features_columns = [\n",
    "    excluded_features_dictionary[f] for f in excluded_features if len(f) > 0 and f != \"none\"\n",
    "]"
   ]
  },
  {
   "cell_type": "code",
   "execution_count": 21,
   "id": "f84f73a2",
   "metadata": {
    "execution": {
     "iopub.execute_input": "2025-08-05T15:26:46.792550Z",
     "iopub.status.busy": "2025-08-05T15:26:46.791806Z",
     "iopub.status.idle": "2025-08-05T15:26:46.798012Z",
     "shell.execute_reply": "2025-08-05T15:26:46.796847Z"
    },
    "papermill": {
     "duration": 0.025251,
     "end_time": "2025-08-05T15:26:46.799501",
     "exception": false,
     "start_time": "2025-08-05T15:26:46.774250",
     "status": "completed"
    },
    "tags": []
   },
   "outputs": [],
   "source": [
    "from utils import flatten_once\n",
    "\n",
    "excluded_features_columns = flatten_once(excluded_features_columns)"
   ]
  },
  {
   "cell_type": "code",
   "execution_count": 22,
   "id": "884dea22",
   "metadata": {
    "execution": {
     "iopub.execute_input": "2025-08-05T15:26:46.838804Z",
     "iopub.status.busy": "2025-08-05T15:26:46.838113Z",
     "iopub.status.idle": "2025-08-05T15:26:46.847039Z",
     "shell.execute_reply": "2025-08-05T15:26:46.845984Z"
    },
    "papermill": {
     "duration": 0.029738,
     "end_time": "2025-08-05T15:26:46.848785",
     "exception": false,
     "start_time": "2025-08-05T15:26:46.819047",
     "status": "completed"
    },
    "tags": []
   },
   "outputs": [
    {
     "name": "stdout",
     "output_type": "stream",
     "text": [
      "Dropping features: ['maxdeutsch1', 'maxdeutsch.Missing.', 'frau1']\n"
     ]
    }
   ],
   "source": [
    "if len(excluded_features_columns) > 0:\n",
    "    print(f\"Dropping features: {excluded_features_columns}\")\n",
    "    X_train.drop(excluded_features_columns, axis=1, inplace=True)"
   ]
  },
  {
   "cell_type": "code",
   "execution_count": 23,
   "id": "95ab8b16",
   "metadata": {
    "execution": {
     "iopub.execute_input": "2025-08-05T15:26:46.888717Z",
     "iopub.status.busy": "2025-08-05T15:26:46.887433Z",
     "iopub.status.idle": "2025-08-05T15:26:46.942550Z",
     "shell.execute_reply": "2025-08-05T15:26:46.941291Z"
    },
    "papermill": {
     "duration": 0.077001,
     "end_time": "2025-08-05T15:26:46.944386",
     "exception": false,
     "start_time": "2025-08-05T15:26:46.867385",
     "status": "completed"
    },
    "tags": []
   },
   "outputs": [
    {
     "name": "stdout",
     "output_type": "stream",
     "text": [
      "Dropping features: ['maxdeutsch1', 'maxdeutsch.Missing.', 'frau1']\n"
     ]
    }
   ],
   "source": [
    "if len(excluded_features_columns) > 0:\n",
    "    print(f\"Dropping features: {excluded_features_columns}\")\n",
    "    X_test.drop(excluded_features_columns, axis=1, inplace=True)"
   ]
  },
  {
   "cell_type": "code",
   "execution_count": 24,
   "id": "1853aaf5-fb9f-46cb-a2b5-8ea4ae2237e4",
   "metadata": {
    "execution": {
     "iopub.execute_input": "2025-08-05T15:26:46.983899Z",
     "iopub.status.busy": "2025-08-05T15:26:46.983300Z",
     "iopub.status.idle": "2025-08-05T15:26:47.032858Z",
     "shell.execute_reply": "2025-08-05T15:26:47.031695Z"
    },
    "papermill": {
     "duration": 0.07153,
     "end_time": "2025-08-05T15:26:47.035658",
     "exception": false,
     "start_time": "2025-08-05T15:26:46.964128",
     "status": "completed"
    },
    "tags": []
   },
   "outputs": [
    {
     "name": "stdout",
     "output_type": "stream",
     "text": [
      "Dropping features: ['maxdeutsch1', 'maxdeutsch.Missing.', 'frau1']\n"
     ]
    }
   ],
   "source": [
    "if len(excluded_features_columns) > 0:\n",
    "    print(f\"Dropping features: {excluded_features_columns}\")\n",
    "    X_calib.drop(excluded_features_columns, axis=1, inplace=True)"
   ]
  },
  {
   "cell_type": "code",
   "execution_count": 25,
   "id": "76c4dc6d",
   "metadata": {
    "execution": {
     "iopub.execute_input": "2025-08-05T15:26:47.075061Z",
     "iopub.status.busy": "2025-08-05T15:26:47.074731Z",
     "iopub.status.idle": "2025-08-05T15:26:47.080016Z",
     "shell.execute_reply": "2025-08-05T15:26:47.079010Z"
    },
    "papermill": {
     "duration": 0.026385,
     "end_time": "2025-08-05T15:26:47.081721",
     "exception": false,
     "start_time": "2025-08-05T15:26:47.055336",
     "status": "completed"
    },
    "tags": []
   },
   "outputs": [],
   "source": [
    "# EXCLUDE CERTAIN SUBGROUPS\n",
    "# ----------------------\n",
    "\n",
    "mode = universe.get(\"exclude_subgroups\", \"keep-all\") \n",
    "# Fetches the exclude_subgroups setting from the universe dict.\n",
    "# Defaults to \"keep-all\" if the key is missing."
   ]
  },
  {
   "cell_type": "code",
   "execution_count": 26,
   "id": "21994072",
   "metadata": {
    "execution": {
     "iopub.execute_input": "2025-08-05T15:26:47.120180Z",
     "iopub.status.busy": "2025-08-05T15:26:47.119890Z",
     "iopub.status.idle": "2025-08-05T15:26:47.125701Z",
     "shell.execute_reply": "2025-08-05T15:26:47.124678Z"
    },
    "papermill": {
     "duration": 0.027093,
     "end_time": "2025-08-05T15:26:47.127730",
     "exception": false,
     "start_time": "2025-08-05T15:26:47.100637",
     "status": "completed"
    },
    "tags": []
   },
   "outputs": [],
   "source": [
    "if mode == \"keep-all\":\n",
    "    keep_mask = pd.Series(True, index=org_train.index)\n",
    "\n",
    "# org_train contains the original feature columns from features_org (in Simson)\n",
    "# features_org contains unprocessed features, for me X_train at beginning ???\n",
    "# For keep-all, creates a boolean Series (keep_mask) of all True, so no rows are removed.\n",
    "\n",
    "elif mode == \"drop-non-german\":\n",
    "    keep_mask = org_train[\"maxdeutsch1\"] == 1 # ??? what about missing values?\n",
    "\n",
    "else:\n",
    "    raise ValueError(f\"Unsupported mode for exclude_subgroups: {mode}\")"
   ]
  },
  {
   "cell_type": "code",
   "execution_count": 27,
   "id": "71651440",
   "metadata": {
    "execution": {
     "iopub.execute_input": "2025-08-05T15:26:47.166857Z",
     "iopub.status.busy": "2025-08-05T15:26:47.166144Z",
     "iopub.status.idle": "2025-08-05T15:26:47.173279Z",
     "shell.execute_reply": "2025-08-05T15:26:47.172327Z"
    },
    "papermill": {
     "duration": 0.028085,
     "end_time": "2025-08-05T15:26:47.175002",
     "exception": false,
     "start_time": "2025-08-05T15:26:47.146917",
     "status": "completed"
    },
    "tags": []
   },
   "outputs": [
    {
     "name": "stdout",
     "output_type": "stream",
     "text": [
      "Dropping 741 rows (14.82%) where mode='drop-non-german'\n"
     ]
    }
   ],
   "source": [
    "n_drop = (~keep_mask).sum() # Calculates how many rows are set to be dropped\n",
    "if n_drop > 0:\n",
    "    pct = n_drop / len(keep_mask) * 100\n",
    "    print(f\"Dropping {n_drop} rows ({pct:.2f}%) where mode='{mode}'\")"
   ]
  },
  {
   "cell_type": "code",
   "execution_count": 28,
   "id": "5fb8eee5",
   "metadata": {
    "execution": {
     "iopub.execute_input": "2025-08-05T15:26:47.211641Z",
     "iopub.status.busy": "2025-08-05T15:26:47.210892Z",
     "iopub.status.idle": "2025-08-05T15:26:47.219455Z",
     "shell.execute_reply": "2025-08-05T15:26:47.218452Z"
    },
    "papermill": {
     "duration": 0.028508,
     "end_time": "2025-08-05T15:26:47.221251",
     "exception": false,
     "start_time": "2025-08-05T15:26:47.192743",
     "status": "completed"
    },
    "tags": []
   },
   "outputs": [],
   "source": [
    "X_train = X_train[keep_mask]"
   ]
  },
  {
   "cell_type": "code",
   "execution_count": 29,
   "id": "b202bb3a",
   "metadata": {
    "execution": {
     "iopub.execute_input": "2025-08-05T15:26:47.259893Z",
     "iopub.status.busy": "2025-08-05T15:26:47.259578Z",
     "iopub.status.idle": "2025-08-05T15:26:47.265239Z",
     "shell.execute_reply": "2025-08-05T15:26:47.264158Z"
    },
    "papermill": {
     "duration": 0.027969,
     "end_time": "2025-08-05T15:26:47.267057",
     "exception": false,
     "start_time": "2025-08-05T15:26:47.239088",
     "status": "completed"
    },
    "tags": []
   },
   "outputs": [],
   "source": [
    "y_train = y_train[keep_mask]"
   ]
  },
  {
   "cell_type": "markdown",
   "id": "493e2ac3",
   "metadata": {
    "papermill": {
     "duration": 0.015042,
     "end_time": "2025-08-05T15:26:47.302731",
     "exception": false,
     "start_time": "2025-08-05T15:26:47.287689",
     "status": "completed"
    },
    "tags": []
   },
   "source": [
    "# Model Training"
   ]
  },
  {
   "cell_type": "code",
   "execution_count": 30,
   "id": "679e1268",
   "metadata": {
    "execution": {
     "iopub.execute_input": "2025-08-05T15:26:47.323738Z",
     "iopub.status.busy": "2025-08-05T15:26:47.323316Z",
     "iopub.status.idle": "2025-08-05T15:26:47.415467Z",
     "shell.execute_reply": "2025-08-05T15:26:47.414415Z"
    },
    "papermill": {
     "duration": 0.103885,
     "end_time": "2025-08-05T15:26:47.417075",
     "exception": false,
     "start_time": "2025-08-05T15:26:47.313190",
     "status": "completed"
    },
    "tags": []
   },
   "outputs": [],
   "source": [
    "from sklearn.linear_model import LogisticRegression\n",
    "from sklearn.ensemble import GradientBoostingClassifier, RandomForestClassifier\n",
    "\n",
    "if (universe[\"model\"] == \"logreg\"):\n",
    "    model = LogisticRegression() #penalty=\"none\", solver=\"newton-cg\", max_iter=1) # include random_state=19 ?\n",
    "elif (universe[\"model\"] == \"penalized_logreg\"):\n",
    "    model = LogisticRegression(penalty=\"l2\", C=0.1) #, solver=\"newton-cg\", max_iter=1)\n",
    "elif (universe[\"model\"] == \"rf\"):\n",
    "    model = RandomForestClassifier() # n_estimators=100, n_jobs=-1\n",
    "elif (universe[\"model\"] == \"gbm\"):\n",
    "    model = GradientBoostingClassifier()\n",
    "elif (universe[\"model\"] == \"elasticnet\"):\n",
    "    model = LogisticRegression(penalty = 'elasticnet', solver = 'saga', l1_ratio = 0.5) # max_iter=5000\n",
    "else:\n",
    "    raise \"Unsupported universe.model\""
   ]
  },
  {
   "cell_type": "code",
   "execution_count": 31,
   "id": "0cc8f744",
   "metadata": {
    "execution": {
     "iopub.execute_input": "2025-08-05T15:26:47.455286Z",
     "iopub.status.busy": "2025-08-05T15:26:47.454919Z",
     "iopub.status.idle": "2025-08-05T15:26:47.460668Z",
     "shell.execute_reply": "2025-08-05T15:26:47.459682Z"
    },
    "papermill": {
     "duration": 0.024152,
     "end_time": "2025-08-05T15:26:47.462432",
     "exception": false,
     "start_time": "2025-08-05T15:26:47.438280",
     "status": "completed"
    },
    "tags": []
   },
   "outputs": [],
   "source": [
    "import numpy as np\n",
    "from sklearn.pipeline import Pipeline\n",
    "from sklearn.preprocessing import StandardScaler\n",
    "\n",
    "model = Pipeline([\n",
    "    #(\"continuous_processor\", continuous_processor),\n",
    "    #(\"categorical_preprocessor\", categorical_preprocessor),\n",
    "    (\"scale\", StandardScaler() if universe[\"scale\"] == \"scale\" else None), \n",
    "    (\"model\", model),\n",
    "])"
   ]
  },
  {
   "cell_type": "code",
   "execution_count": 32,
   "id": "9442c04d",
   "metadata": {
    "execution": {
     "iopub.execute_input": "2025-08-05T15:26:47.501184Z",
     "iopub.status.busy": "2025-08-05T15:26:47.500714Z",
     "iopub.status.idle": "2025-08-05T15:26:49.053988Z",
     "shell.execute_reply": "2025-08-05T15:26:49.052965Z"
    },
    "papermill": {
     "duration": 1.574294,
     "end_time": "2025-08-05T15:26:49.055824",
     "exception": false,
     "start_time": "2025-08-05T15:26:47.481530",
     "status": "completed"
    },
    "tags": []
   },
   "outputs": [
    {
     "name": "stderr",
     "output_type": "stream",
     "text": [
      "/dss/dsshome1/0C/ra93lal2/.local/share/virtualenvs/CMA_Fairness_v2-3j10GkSs/lib/python3.10/site-packages/sklearn/linear_model/_sag.py:350: ConvergenceWarning: The max_iter was reached which means the coef_ did not converge\n",
      "  warnings.warn(\n"
     ]
    },
    {
     "data": {
      "text/html": [
       "<style>#sk-container-id-1 {color: black;background-color: white;}#sk-container-id-1 pre{padding: 0;}#sk-container-id-1 div.sk-toggleable {background-color: white;}#sk-container-id-1 label.sk-toggleable__label {cursor: pointer;display: block;width: 100%;margin-bottom: 0;padding: 0.3em;box-sizing: border-box;text-align: center;}#sk-container-id-1 label.sk-toggleable__label-arrow:before {content: \"▸\";float: left;margin-right: 0.25em;color: #696969;}#sk-container-id-1 label.sk-toggleable__label-arrow:hover:before {color: black;}#sk-container-id-1 div.sk-estimator:hover label.sk-toggleable__label-arrow:before {color: black;}#sk-container-id-1 div.sk-toggleable__content {max-height: 0;max-width: 0;overflow: hidden;text-align: left;background-color: #f0f8ff;}#sk-container-id-1 div.sk-toggleable__content pre {margin: 0.2em;color: black;border-radius: 0.25em;background-color: #f0f8ff;}#sk-container-id-1 input.sk-toggleable__control:checked~div.sk-toggleable__content {max-height: 200px;max-width: 100%;overflow: auto;}#sk-container-id-1 input.sk-toggleable__control:checked~label.sk-toggleable__label-arrow:before {content: \"▾\";}#sk-container-id-1 div.sk-estimator input.sk-toggleable__control:checked~label.sk-toggleable__label {background-color: #d4ebff;}#sk-container-id-1 div.sk-label input.sk-toggleable__control:checked~label.sk-toggleable__label {background-color: #d4ebff;}#sk-container-id-1 input.sk-hidden--visually {border: 0;clip: rect(1px 1px 1px 1px);clip: rect(1px, 1px, 1px, 1px);height: 1px;margin: -1px;overflow: hidden;padding: 0;position: absolute;width: 1px;}#sk-container-id-1 div.sk-estimator {font-family: monospace;background-color: #f0f8ff;border: 1px dotted black;border-radius: 0.25em;box-sizing: border-box;margin-bottom: 0.5em;}#sk-container-id-1 div.sk-estimator:hover {background-color: #d4ebff;}#sk-container-id-1 div.sk-parallel-item::after {content: \"\";width: 100%;border-bottom: 1px solid gray;flex-grow: 1;}#sk-container-id-1 div.sk-label:hover label.sk-toggleable__label {background-color: #d4ebff;}#sk-container-id-1 div.sk-serial::before {content: \"\";position: absolute;border-left: 1px solid gray;box-sizing: border-box;top: 0;bottom: 0;left: 50%;z-index: 0;}#sk-container-id-1 div.sk-serial {display: flex;flex-direction: column;align-items: center;background-color: white;padding-right: 0.2em;padding-left: 0.2em;position: relative;}#sk-container-id-1 div.sk-item {position: relative;z-index: 1;}#sk-container-id-1 div.sk-parallel {display: flex;align-items: stretch;justify-content: center;background-color: white;position: relative;}#sk-container-id-1 div.sk-item::before, #sk-container-id-1 div.sk-parallel-item::before {content: \"\";position: absolute;border-left: 1px solid gray;box-sizing: border-box;top: 0;bottom: 0;left: 50%;z-index: -1;}#sk-container-id-1 div.sk-parallel-item {display: flex;flex-direction: column;z-index: 1;position: relative;background-color: white;}#sk-container-id-1 div.sk-parallel-item:first-child::after {align-self: flex-end;width: 50%;}#sk-container-id-1 div.sk-parallel-item:last-child::after {align-self: flex-start;width: 50%;}#sk-container-id-1 div.sk-parallel-item:only-child::after {width: 0;}#sk-container-id-1 div.sk-dashed-wrapped {border: 1px dashed gray;margin: 0 0.4em 0.5em 0.4em;box-sizing: border-box;padding-bottom: 0.4em;background-color: white;}#sk-container-id-1 div.sk-label label {font-family: monospace;font-weight: bold;display: inline-block;line-height: 1.2em;}#sk-container-id-1 div.sk-label-container {text-align: center;}#sk-container-id-1 div.sk-container {/* jupyter's `normalize.less` sets `[hidden] { display: none; }` but bootstrap.min.css set `[hidden] { display: none !important; }` so we also need the `!important` here to be able to override the default hidden behavior on the sphinx rendered scikit-learn.org. See: https://github.com/scikit-learn/scikit-learn/issues/21755 */display: inline-block !important;position: relative;}#sk-container-id-1 div.sk-text-repr-fallback {display: none;}</style><div id=\"sk-container-id-1\" class=\"sk-top-container\"><div class=\"sk-text-repr-fallback\"><pre>Pipeline(steps=[(&#x27;scale&#x27;, StandardScaler()),\n",
       "                (&#x27;model&#x27;,\n",
       "                 LogisticRegression(l1_ratio=0.5, penalty=&#x27;elasticnet&#x27;,\n",
       "                                    solver=&#x27;saga&#x27;))])</pre><b>In a Jupyter environment, please rerun this cell to show the HTML representation or trust the notebook. <br />On GitHub, the HTML representation is unable to render, please try loading this page with nbviewer.org.</b></div><div class=\"sk-container\" hidden><div class=\"sk-item sk-dashed-wrapped\"><div class=\"sk-label-container\"><div class=\"sk-label sk-toggleable\"><input class=\"sk-toggleable__control sk-hidden--visually\" id=\"sk-estimator-id-1\" type=\"checkbox\" ><label for=\"sk-estimator-id-1\" class=\"sk-toggleable__label sk-toggleable__label-arrow\">Pipeline</label><div class=\"sk-toggleable__content\"><pre>Pipeline(steps=[(&#x27;scale&#x27;, StandardScaler()),\n",
       "                (&#x27;model&#x27;,\n",
       "                 LogisticRegression(l1_ratio=0.5, penalty=&#x27;elasticnet&#x27;,\n",
       "                                    solver=&#x27;saga&#x27;))])</pre></div></div></div><div class=\"sk-serial\"><div class=\"sk-item\"><div class=\"sk-estimator sk-toggleable\"><input class=\"sk-toggleable__control sk-hidden--visually\" id=\"sk-estimator-id-2\" type=\"checkbox\" ><label for=\"sk-estimator-id-2\" class=\"sk-toggleable__label sk-toggleable__label-arrow\">StandardScaler</label><div class=\"sk-toggleable__content\"><pre>StandardScaler()</pre></div></div></div><div class=\"sk-item\"><div class=\"sk-estimator sk-toggleable\"><input class=\"sk-toggleable__control sk-hidden--visually\" id=\"sk-estimator-id-3\" type=\"checkbox\" ><label for=\"sk-estimator-id-3\" class=\"sk-toggleable__label sk-toggleable__label-arrow\">LogisticRegression</label><div class=\"sk-toggleable__content\"><pre>LogisticRegression(l1_ratio=0.5, penalty=&#x27;elasticnet&#x27;, solver=&#x27;saga&#x27;)</pre></div></div></div></div></div></div></div>"
      ],
      "text/plain": [
       "Pipeline(steps=[('scale', StandardScaler()),\n",
       "                ('model',\n",
       "                 LogisticRegression(l1_ratio=0.5, penalty='elasticnet',\n",
       "                                    solver='saga'))])"
      ]
     },
     "execution_count": 32,
     "metadata": {},
     "output_type": "execute_result"
    }
   ],
   "source": [
    "model.fit(X_train, y_train.values.ravel())"
   ]
  },
  {
   "cell_type": "code",
   "execution_count": 33,
   "id": "af59f8c0",
   "metadata": {
    "execution": {
     "iopub.execute_input": "2025-08-05T15:26:49.103221Z",
     "iopub.status.busy": "2025-08-05T15:26:49.102665Z",
     "iopub.status.idle": "2025-08-05T15:26:49.108434Z",
     "shell.execute_reply": "2025-08-05T15:26:49.107378Z"
    },
    "papermill": {
     "duration": 0.030831,
     "end_time": "2025-08-05T15:26:49.110475",
     "exception": false,
     "start_time": "2025-08-05T15:26:49.079644",
     "status": "completed"
    },
    "tags": []
   },
   "outputs": [],
   "source": [
    "from fairness_multiverse.universe import predict_w_threshold"
   ]
  },
  {
   "cell_type": "code",
   "execution_count": 34,
   "id": "a7cf2e16",
   "metadata": {
    "execution": {
     "iopub.execute_input": "2025-08-05T15:26:49.154692Z",
     "iopub.status.busy": "2025-08-05T15:26:49.154157Z",
     "iopub.status.idle": "2025-08-05T15:26:49.338439Z",
     "shell.execute_reply": "2025-08-05T15:26:49.337457Z"
    },
    "papermill": {
     "duration": 0.208052,
     "end_time": "2025-08-05T15:26:49.339930",
     "exception": false,
     "start_time": "2025-08-05T15:26:49.131878",
     "status": "completed"
    },
    "tags": []
   },
   "outputs": [
    {
     "data": {
      "text/plain": [
       "0.8569947608962212"
      ]
     },
     "execution_count": 34,
     "metadata": {},
     "output_type": "execute_result"
    }
   ],
   "source": [
    "probs_test = model.predict_proba(X_test)\n",
    "\n",
    "'''\n",
    "Below code returns a boolean array (or binary 0/1 array depending on how it’s used) where each element \n",
    "is True if the probability of class 1 is greater than or equal to the threshold, and False otherwise.\n",
    "'''\n",
    "y_pred_default = predict_w_threshold(probs_test, 0.5)\n",
    "\n",
    "from sklearn.metrics import accuracy_score\n",
    "\n",
    "# Naive prediction\n",
    "accuracy_score(y_true = y_true, y_pred = y_pred_default)"
   ]
  },
  {
   "cell_type": "code",
   "execution_count": 35,
   "id": "081964c3",
   "metadata": {
    "execution": {
     "iopub.execute_input": "2025-08-05T15:26:49.377957Z",
     "iopub.status.busy": "2025-08-05T15:26:49.377270Z",
     "iopub.status.idle": "2025-08-05T15:26:49.564920Z",
     "shell.execute_reply": "2025-08-05T15:26:49.563865Z"
    },
    "papermill": {
     "duration": 0.208358,
     "end_time": "2025-08-05T15:26:49.566880",
     "exception": false,
     "start_time": "2025-08-05T15:26:49.358522",
     "status": "completed"
    },
    "tags": []
   },
   "outputs": [
    {
     "data": {
      "text/plain": [
       "array([0, 0, 0, ..., 0, 0, 0])"
      ]
     },
     "execution_count": 35,
     "metadata": {},
     "output_type": "execute_result"
    }
   ],
   "source": [
    "model.predict(X_test)"
   ]
  },
  {
   "cell_type": "markdown",
   "id": "56c9705b",
   "metadata": {
    "papermill": {
     "duration": 0.018184,
     "end_time": "2025-08-05T15:26:49.606073",
     "exception": false,
     "start_time": "2025-08-05T15:26:49.587889",
     "status": "completed"
    },
    "tags": []
   },
   "source": [
    "# Conformal Prediction"
   ]
  },
  {
   "cell_type": "code",
   "execution_count": 36,
   "id": "160ec6ff",
   "metadata": {
    "execution": {
     "iopub.execute_input": "2025-08-05T15:26:49.644169Z",
     "iopub.status.busy": "2025-08-05T15:26:49.643432Z",
     "iopub.status.idle": "2025-08-05T15:26:49.649003Z",
     "shell.execute_reply": "2025-08-05T15:26:49.648032Z"
    },
    "papermill": {
     "duration": 0.026897,
     "end_time": "2025-08-05T15:26:49.650860",
     "exception": false,
     "start_time": "2025-08-05T15:26:49.623963",
     "status": "completed"
    },
    "tags": []
   },
   "outputs": [],
   "source": [
    "# Miscoverage level for conformal prediction (10% allowed error rate => 90% target coverage)\n",
    "alpha = 0.1"
   ]
  },
  {
   "cell_type": "code",
   "execution_count": 37,
   "id": "eadf4555-3dd3-440e-8e35-f82a4ad9f855",
   "metadata": {
    "execution": {
     "iopub.execute_input": "2025-08-05T15:26:49.689686Z",
     "iopub.status.busy": "2025-08-05T15:26:49.688936Z",
     "iopub.status.idle": "2025-08-05T15:26:49.876095Z",
     "shell.execute_reply": "2025-08-05T15:26:49.875137Z"
    },
    "papermill": {
     "duration": 0.208573,
     "end_time": "2025-08-05T15:26:49.877971",
     "exception": false,
     "start_time": "2025-08-05T15:26:49.669398",
     "status": "completed"
    },
    "tags": []
   },
   "outputs": [],
   "source": [
    "probs_calib = model.predict_proba(X_calib)"
   ]
  },
  {
   "cell_type": "code",
   "execution_count": 38,
   "id": "2ed93547-6d5d-4983-9b36-1ecb300da49a",
   "metadata": {
    "execution": {
     "iopub.execute_input": "2025-08-05T15:26:49.917141Z",
     "iopub.status.busy": "2025-08-05T15:26:49.916550Z",
     "iopub.status.idle": "2025-08-05T15:26:49.922755Z",
     "shell.execute_reply": "2025-08-05T15:26:49.921468Z"
    },
    "papermill": {
     "duration": 0.027471,
     "end_time": "2025-08-05T15:26:49.924839",
     "exception": false,
     "start_time": "2025-08-05T15:26:49.897368",
     "status": "completed"
    },
    "tags": []
   },
   "outputs": [],
   "source": [
    "y_calib = y_calib.values.ravel().astype(int)"
   ]
  },
  {
   "cell_type": "code",
   "execution_count": 39,
   "id": "65d1320d-f588-4b38-9072-62af1ae97f7d",
   "metadata": {
    "execution": {
     "iopub.execute_input": "2025-08-05T15:26:49.970402Z",
     "iopub.status.busy": "2025-08-05T15:26:49.970069Z",
     "iopub.status.idle": "2025-08-05T15:26:49.977263Z",
     "shell.execute_reply": "2025-08-05T15:26:49.976250Z"
    },
    "papermill": {
     "duration": 0.031775,
     "end_time": "2025-08-05T15:26:49.978954",
     "exception": false,
     "start_time": "2025-08-05T15:26:49.947179",
     "status": "completed"
    },
    "tags": []
   },
   "outputs": [],
   "source": [
    "from fairness_multiverse.conformal import compute_nc_scores\n",
    "\n",
    "# Compute nonconformity scores on calibration set (1 - probability of true class)\n",
    "nc_scores = compute_nc_scores(probs_calib, y_calib)"
   ]
  },
  {
   "cell_type": "code",
   "execution_count": 40,
   "id": "df3b8ca3-53b7-43d5-9667-7c85da7aeda2",
   "metadata": {
    "execution": {
     "iopub.execute_input": "2025-08-05T15:26:50.027577Z",
     "iopub.status.busy": "2025-08-05T15:26:50.027279Z",
     "iopub.status.idle": "2025-08-05T15:26:50.033252Z",
     "shell.execute_reply": "2025-08-05T15:26:50.032193Z"
    },
    "papermill": {
     "duration": 0.034221,
     "end_time": "2025-08-05T15:26:50.035221",
     "exception": false,
     "start_time": "2025-08-05T15:26:50.001000",
     "status": "completed"
    },
    "tags": []
   },
   "outputs": [],
   "source": [
    "from fairness_multiverse.conformal import find_threshold\n",
    "\n",
    "# Find conformal threshold q_hat for the given alpha (split conformal method)\n",
    "q_hat = find_threshold(nc_scores, alpha)"
   ]
  },
  {
   "cell_type": "code",
   "execution_count": 41,
   "id": "4d29e6c1-0ef6-4aa4-b8fe-4fe79b0d033a",
   "metadata": {
    "execution": {
     "iopub.execute_input": "2025-08-05T15:26:50.079342Z",
     "iopub.status.busy": "2025-08-05T15:26:50.078953Z",
     "iopub.status.idle": "2025-08-05T15:26:50.086069Z",
     "shell.execute_reply": "2025-08-05T15:26:50.085009Z"
    },
    "papermill": {
     "duration": 0.03105,
     "end_time": "2025-08-05T15:26:50.087677",
     "exception": false,
     "start_time": "2025-08-05T15:26:50.056627",
     "status": "completed"
    },
    "tags": []
   },
   "outputs": [
    {
     "data": {
      "text/plain": [
       "0.6903658239030203"
      ]
     },
     "execution_count": 41,
     "metadata": {},
     "output_type": "execute_result"
    }
   ],
   "source": [
    "q_hat"
   ]
  },
  {
   "cell_type": "code",
   "execution_count": 42,
   "id": "92460794-cdac-4be2-ba28-f28c0515a6fb",
   "metadata": {
    "execution": {
     "iopub.execute_input": "2025-08-05T15:26:50.132298Z",
     "iopub.status.busy": "2025-08-05T15:26:50.132001Z",
     "iopub.status.idle": "2025-08-05T15:26:50.906322Z",
     "shell.execute_reply": "2025-08-05T15:26:50.905565Z"
    },
    "papermill": {
     "duration": 0.79977,
     "end_time": "2025-08-05T15:26:50.908024",
     "exception": false,
     "start_time": "2025-08-05T15:26:50.108254",
     "status": "completed"
    },
    "tags": []
   },
   "outputs": [],
   "source": [
    "from fairness_multiverse.conformal import predict_conformal_sets\n",
    "\n",
    "# Generate prediction sets for each test example\n",
    "pred_sets = predict_conformal_sets(model, X_test, q_hat)"
   ]
  },
  {
   "cell_type": "code",
   "execution_count": 43,
   "id": "d90c9a65-e6db-4f5d-80cd-e68fb7e46829",
   "metadata": {
    "execution": {
     "iopub.execute_input": "2025-08-05T15:26:50.951459Z",
     "iopub.status.busy": "2025-08-05T15:26:50.950963Z",
     "iopub.status.idle": "2025-08-05T15:26:50.956682Z",
     "shell.execute_reply": "2025-08-05T15:26:50.955671Z"
    },
    "papermill": {
     "duration": 0.028537,
     "end_time": "2025-08-05T15:26:50.958482",
     "exception": false,
     "start_time": "2025-08-05T15:26:50.929945",
     "status": "completed"
    },
    "tags": []
   },
   "outputs": [],
   "source": [
    "y_true = y_true.squeeze()"
   ]
  },
  {
   "cell_type": "code",
   "execution_count": 44,
   "id": "3a58a54a-1e68-46b9-927a-df01f18aebc8",
   "metadata": {
    "execution": {
     "iopub.execute_input": "2025-08-05T15:26:50.999819Z",
     "iopub.status.busy": "2025-08-05T15:26:50.999136Z",
     "iopub.status.idle": "2025-08-05T15:26:51.650433Z",
     "shell.execute_reply": "2025-08-05T15:26:51.649419Z"
    },
    "papermill": {
     "duration": 0.673442,
     "end_time": "2025-08-05T15:26:51.652352",
     "exception": false,
     "start_time": "2025-08-05T15:26:50.978910",
     "status": "completed"
    },
    "tags": []
   },
   "outputs": [],
   "source": [
    "from fairness_multiverse.conformal import evaluate_sets\n",
    "\n",
    "# Evaluate coverage and average set size on test data\n",
    "metrics = evaluate_sets(pred_sets, y_true)"
   ]
  },
  {
   "cell_type": "markdown",
   "id": "2b569c12-9aaa-4c88-98c9-bbcd0cf3ebb8",
   "metadata": {
    "papermill": {
     "duration": 0.021468,
     "end_time": "2025-08-05T15:26:51.695352",
     "exception": false,
     "start_time": "2025-08-05T15:26:51.673884",
     "status": "completed"
    },
    "tags": []
   },
   "source": [
    "# CP Metrics"
   ]
  },
  {
   "cell_type": "code",
   "execution_count": 45,
   "id": "5ce0a5cb-201f-45a0-ade5-94c7f0bd6095",
   "metadata": {
    "execution": {
     "iopub.execute_input": "2025-08-05T15:26:51.740146Z",
     "iopub.status.busy": "2025-08-05T15:26:51.739462Z",
     "iopub.status.idle": "2025-08-05T15:26:51.746773Z",
     "shell.execute_reply": "2025-08-05T15:26:51.745693Z"
    },
    "papermill": {
     "duration": 0.032295,
     "end_time": "2025-08-05T15:26:51.748744",
     "exception": false,
     "start_time": "2025-08-05T15:26:51.716449",
     "status": "completed"
    },
    "tags": []
   },
   "outputs": [
    {
     "data": {
      "text/plain": [
       "{'coverage': 0.9100769145022851, 'avg_size': 1.1366737264519007}"
      ]
     },
     "execution_count": 45,
     "metadata": {},
     "output_type": "execute_result"
    }
   ],
   "source": [
    "metrics"
   ]
  },
  {
   "cell_type": "code",
   "execution_count": 46,
   "id": "9b9a838d-31c9-430b-ae14-12baee460d17",
   "metadata": {
    "execution": {
     "iopub.execute_input": "2025-08-05T15:26:51.797489Z",
     "iopub.status.busy": "2025-08-05T15:26:51.796779Z",
     "iopub.status.idle": "2025-08-05T15:26:51.804827Z",
     "shell.execute_reply": "2025-08-05T15:26:51.803563Z"
    },
    "papermill": {
     "duration": 0.034337,
     "end_time": "2025-08-05T15:26:51.806810",
     "exception": false,
     "start_time": "2025-08-05T15:26:51.772473",
     "status": "completed"
    },
    "tags": []
   },
   "outputs": [],
   "source": [
    "example_universe = universe.copy()\n",
    "universe_training_year = example_universe.get(\"training_year\")\n",
    "universe_training_size = example_universe.get(\"training_size\")\n",
    "universe_scale = example_universe.get(\"scale\")\n",
    "universe_model = example_universe.get(\"model\")\n",
    "universe_exclude_features = example_universe.get(\"exclude_features\")\n",
    "universe_exclude_subgroups = example_universe.get(\"exclude_subgroups\")"
   ]
  },
  {
   "cell_type": "code",
   "execution_count": 47,
   "id": "f4b6a8ac-9dc0-4245-8a91-5b3b5999c4f9",
   "metadata": {
    "execution": {
     "iopub.execute_input": "2025-08-05T15:26:51.851728Z",
     "iopub.status.busy": "2025-08-05T15:26:51.851023Z",
     "iopub.status.idle": "2025-08-05T15:26:51.858173Z",
     "shell.execute_reply": "2025-08-05T15:26:51.856814Z"
    },
    "papermill": {
     "duration": 0.030684,
     "end_time": "2025-08-05T15:26:51.859841",
     "exception": false,
     "start_time": "2025-08-05T15:26:51.829157",
     "status": "completed"
    },
    "tags": []
   },
   "outputs": [],
   "source": [
    "cp_metrics_dict = {\n",
    "    \"universe_id\": [universe_id],\n",
    "    \"universe_training_year\": [universe_training_year],\n",
    "    \"universe_training_size\": [universe_training_size],\n",
    "    \"universe_scale\": [universe_scale],\n",
    "    \"universe_model\": [universe_model],\n",
    "    \"universe_exclude_features\": [universe_exclude_features],\n",
    "    \"universe_exclude_subgroups\": [universe_exclude_subgroups],\n",
    "    \"q_hat\": [q_hat],\n",
    "    \"coverage\": [metrics[\"coverage\"]],\n",
    "    \"avg_size\": [metrics[\"avg_size\"]],\n",
    "}"
   ]
  },
  {
   "cell_type": "code",
   "execution_count": 48,
   "id": "908acbb1-0371-4915-85ca-3fa520d2efe2",
   "metadata": {
    "execution": {
     "iopub.execute_input": "2025-08-05T15:26:51.903901Z",
     "iopub.status.busy": "2025-08-05T15:26:51.903569Z",
     "iopub.status.idle": "2025-08-05T15:26:51.911150Z",
     "shell.execute_reply": "2025-08-05T15:26:51.910042Z"
    },
    "papermill": {
     "duration": 0.031411,
     "end_time": "2025-08-05T15:26:51.913173",
     "exception": false,
     "start_time": "2025-08-05T15:26:51.881762",
     "status": "completed"
    },
    "tags": []
   },
   "outputs": [
    {
     "data": {
      "text/plain": [
       "{'universe_id': ['74fcf03e3b9c47a0d3da64ee92fd2a31'],\n",
       " 'universe_training_year': ['2014'],\n",
       " 'universe_training_size': ['5k'],\n",
       " 'universe_scale': ['scale'],\n",
       " 'universe_model': ['elasticnet'],\n",
       " 'universe_exclude_features': ['nationality-sex'],\n",
       " 'universe_exclude_subgroups': ['drop-non-german'],\n",
       " 'q_hat': [0.6903658239030203],\n",
       " 'coverage': [0.9100769145022851],\n",
       " 'avg_size': [1.1366737264519007]}"
      ]
     },
     "execution_count": 48,
     "metadata": {},
     "output_type": "execute_result"
    }
   ],
   "source": [
    "cp_metrics_dict"
   ]
  },
  {
   "cell_type": "code",
   "execution_count": 49,
   "id": "33007efc-14e9-4ec6-97ac-56a455c82265",
   "metadata": {
    "execution": {
     "iopub.execute_input": "2025-08-05T15:26:51.958313Z",
     "iopub.status.busy": "2025-08-05T15:26:51.957505Z",
     "iopub.status.idle": "2025-08-05T15:26:51.964031Z",
     "shell.execute_reply": "2025-08-05T15:26:51.962896Z"
    },
    "papermill": {
     "duration": 0.031296,
     "end_time": "2025-08-05T15:26:51.966043",
     "exception": false,
     "start_time": "2025-08-05T15:26:51.934747",
     "status": "completed"
    },
    "tags": []
   },
   "outputs": [],
   "source": [
    "cp_metrics_df = pd.DataFrame(cp_metrics_dict)"
   ]
  },
  {
   "cell_type": "code",
   "execution_count": 50,
   "id": "db12611b-57b2-4910-b9d0-355adfd6e7bf",
   "metadata": {
    "execution": {
     "iopub.execute_input": "2025-08-05T15:26:52.011437Z",
     "iopub.status.busy": "2025-08-05T15:26:52.010636Z",
     "iopub.status.idle": "2025-08-05T15:26:52.029019Z",
     "shell.execute_reply": "2025-08-05T15:26:52.028147Z"
    },
    "papermill": {
     "duration": 0.042541,
     "end_time": "2025-08-05T15:26:52.030545",
     "exception": false,
     "start_time": "2025-08-05T15:26:51.988004",
     "status": "completed"
    },
    "tags": []
   },
   "outputs": [
    {
     "data": {
      "text/html": [
       "<div>\n",
       "<style scoped>\n",
       "    .dataframe tbody tr th:only-of-type {\n",
       "        vertical-align: middle;\n",
       "    }\n",
       "\n",
       "    .dataframe tbody tr th {\n",
       "        vertical-align: top;\n",
       "    }\n",
       "\n",
       "    .dataframe thead th {\n",
       "        text-align: right;\n",
       "    }\n",
       "</style>\n",
       "<table border=\"1\" class=\"dataframe\">\n",
       "  <thead>\n",
       "    <tr style=\"text-align: right;\">\n",
       "      <th></th>\n",
       "      <th>universe_id</th>\n",
       "      <th>universe_training_year</th>\n",
       "      <th>universe_training_size</th>\n",
       "      <th>universe_scale</th>\n",
       "      <th>universe_model</th>\n",
       "      <th>universe_exclude_features</th>\n",
       "      <th>universe_exclude_subgroups</th>\n",
       "      <th>q_hat</th>\n",
       "      <th>coverage</th>\n",
       "      <th>avg_size</th>\n",
       "    </tr>\n",
       "  </thead>\n",
       "  <tbody>\n",
       "    <tr>\n",
       "      <th>0</th>\n",
       "      <td>74fcf03e3b9c47a0d3da64ee92fd2a31</td>\n",
       "      <td>2014</td>\n",
       "      <td>5k</td>\n",
       "      <td>scale</td>\n",
       "      <td>elasticnet</td>\n",
       "      <td>nationality-sex</td>\n",
       "      <td>drop-non-german</td>\n",
       "      <td>0.690366</td>\n",
       "      <td>0.910077</td>\n",
       "      <td>1.136674</td>\n",
       "    </tr>\n",
       "  </tbody>\n",
       "</table>\n",
       "</div>"
      ],
      "text/plain": [
       "                        universe_id universe_training_year  \\\n",
       "0  74fcf03e3b9c47a0d3da64ee92fd2a31                   2014   \n",
       "\n",
       "  universe_training_size universe_scale universe_model  \\\n",
       "0                     5k          scale     elasticnet   \n",
       "\n",
       "  universe_exclude_features universe_exclude_subgroups     q_hat  coverage  \\\n",
       "0           nationality-sex            drop-non-german  0.690366  0.910077   \n",
       "\n",
       "   avg_size  \n",
       "0  1.136674  "
      ]
     },
     "execution_count": 50,
     "metadata": {},
     "output_type": "execute_result"
    }
   ],
   "source": [
    "cp_metrics_df"
   ]
  },
  {
   "cell_type": "code",
   "execution_count": 51,
   "id": "b7fbde55-a0a1-47e4-9af6-fe4a17fa8c61",
   "metadata": {
    "execution": {
     "iopub.execute_input": "2025-08-05T15:26:52.075872Z",
     "iopub.status.busy": "2025-08-05T15:26:52.075117Z",
     "iopub.status.idle": "2025-08-05T15:26:52.081046Z",
     "shell.execute_reply": "2025-08-05T15:26:52.079880Z"
    },
    "papermill": {
     "duration": 0.030921,
     "end_time": "2025-08-05T15:26:52.083221",
     "exception": false,
     "start_time": "2025-08-05T15:26:52.052300",
     "status": "completed"
    },
    "tags": []
   },
   "outputs": [],
   "source": [
    "# Conditional Coverage & looking at subgroups"
   ]
  },
  {
   "cell_type": "code",
   "execution_count": 52,
   "id": "027ae886-68dd-4141-96c7-805a5450e1ef",
   "metadata": {
    "execution": {
     "iopub.execute_input": "2025-08-05T15:26:52.129724Z",
     "iopub.status.busy": "2025-08-05T15:26:52.129004Z",
     "iopub.status.idle": "2025-08-05T15:26:52.403559Z",
     "shell.execute_reply": "2025-08-05T15:26:52.402611Z"
    },
    "papermill": {
     "duration": 0.29877,
     "end_time": "2025-08-05T15:26:52.405397",
     "exception": false,
     "start_time": "2025-08-05T15:26:52.106627",
     "status": "completed"
    },
    "tags": []
   },
   "outputs": [],
   "source": [
    "from fairness_multiverse.conformal import build_cp_groups\n",
    "\n",
    "cp_groups_df = build_cp_groups(pred_sets, y_true, X_test.index, org_test)\n",
    "#needs universe_id and setting"
   ]
  },
  {
   "cell_type": "code",
   "execution_count": 53,
   "id": "6cbdab96-b2b2-45af-ad54-d0516db2e28d",
   "metadata": {
    "execution": {
     "iopub.execute_input": "2025-08-05T15:26:52.431840Z",
     "iopub.status.busy": "2025-08-05T15:26:52.431391Z",
     "iopub.status.idle": "2025-08-05T15:26:54.132131Z",
     "shell.execute_reply": "2025-08-05T15:26:54.131143Z"
    },
    "papermill": {
     "duration": 1.714717,
     "end_time": "2025-08-05T15:26:54.134053",
     "exception": false,
     "start_time": "2025-08-05T15:26:52.419336",
     "status": "completed"
    },
    "tags": []
   },
   "outputs": [],
   "source": [
    "# Define covered = 1 if true_label is in the predicted set\n",
    "cp_groups_df['covered'] = cp_groups_df.apply(\n",
    "    lambda r: int(r['true_label'] in r['pred_set']),\n",
    "    axis=1\n",
    ")"
   ]
  },
  {
   "cell_type": "code",
   "execution_count": 54,
   "id": "338ff529-1a6b-4b87-a931-8e4788d52aad",
   "metadata": {
    "execution": {
     "iopub.execute_input": "2025-08-05T15:26:54.176219Z",
     "iopub.status.busy": "2025-08-05T15:26:54.175789Z",
     "iopub.status.idle": "2025-08-05T15:26:54.180773Z",
     "shell.execute_reply": "2025-08-05T15:26:54.179858Z"
    },
    "papermill": {
     "duration": 0.027273,
     "end_time": "2025-08-05T15:26:54.182717",
     "exception": false,
     "start_time": "2025-08-05T15:26:54.155444",
     "status": "completed"
    },
    "tags": []
   },
   "outputs": [],
   "source": [
    "#cp_groups_df"
   ]
  },
  {
   "cell_type": "code",
   "execution_count": 55,
   "id": "90032e27-66df-4540-9169-4e89cfbaa758",
   "metadata": {
    "execution": {
     "iopub.execute_input": "2025-08-05T15:26:54.225354Z",
     "iopub.status.busy": "2025-08-05T15:26:54.224948Z",
     "iopub.status.idle": "2025-08-05T15:26:54.235372Z",
     "shell.execute_reply": "2025-08-05T15:26:54.234353Z"
    },
    "papermill": {
     "duration": 0.033322,
     "end_time": "2025-08-05T15:26:54.237309",
     "exception": false,
     "start_time": "2025-08-05T15:26:54.203987",
     "status": "completed"
    },
    "tags": []
   },
   "outputs": [],
   "source": [
    "subgroups = ['frau1','nongerman','nongerman_male','nongerman_female']\n",
    "\n",
    "# Conditional coverage for subgroup==1\n",
    "cond_coverage = {\n",
    "    g: cp_groups_df.loc[cp_groups_df[g]==1, 'covered'].mean()\n",
    "    for g in subgroups\n",
    "}"
   ]
  },
  {
   "cell_type": "code",
   "execution_count": 56,
   "id": "1e348fb1-b9c3-45bc-ba23-f016827a7e0d",
   "metadata": {
    "execution": {
     "iopub.execute_input": "2025-08-05T15:26:54.278783Z",
     "iopub.status.busy": "2025-08-05T15:26:54.278317Z",
     "iopub.status.idle": "2025-08-05T15:26:54.285759Z",
     "shell.execute_reply": "2025-08-05T15:26:54.284674Z"
    },
    "papermill": {
     "duration": 0.029428,
     "end_time": "2025-08-05T15:26:54.287433",
     "exception": false,
     "start_time": "2025-08-05T15:26:54.258005",
     "status": "completed"
    },
    "tags": []
   },
   "outputs": [
    {
     "data": {
      "text/plain": [
       "{'frau1': 0.9086399784337512,\n",
       " 'nongerman': 0.9083253803402009,\n",
       " 'nongerman_male': 0.9258758893992615,\n",
       " 'nongerman_female': 0.879284649776453}"
      ]
     },
     "execution_count": 56,
     "metadata": {},
     "output_type": "execute_result"
    }
   ],
   "source": [
    "cond_coverage"
   ]
  },
  {
   "cell_type": "code",
   "execution_count": 57,
   "id": "f5093324-c3dd-4d63-bc4c-8d945e5c8bbb",
   "metadata": {
    "execution": {
     "iopub.execute_input": "2025-08-05T15:26:54.329126Z",
     "iopub.status.busy": "2025-08-05T15:26:54.328187Z",
     "iopub.status.idle": "2025-08-05T15:26:54.335490Z",
     "shell.execute_reply": "2025-08-05T15:26:54.334553Z"
    },
    "papermill": {
     "duration": 0.029869,
     "end_time": "2025-08-05T15:26:54.337342",
     "exception": false,
     "start_time": "2025-08-05T15:26:54.307473",
     "status": "completed"
    },
    "tags": []
   },
   "outputs": [],
   "source": [
    "for subgroup, cov in cond_coverage.items():\n",
    "    cp_metrics_df[f\"cov_{subgroup}\"] = cov"
   ]
  },
  {
   "cell_type": "code",
   "execution_count": 58,
   "id": "6e872e10-dbe5-49e8-b554-5030c98ff75d",
   "metadata": {
    "execution": {
     "iopub.execute_input": "2025-08-05T15:26:54.379212Z",
     "iopub.status.busy": "2025-08-05T15:26:54.378898Z",
     "iopub.status.idle": "2025-08-05T15:26:54.397227Z",
     "shell.execute_reply": "2025-08-05T15:26:54.396146Z"
    },
    "papermill": {
     "duration": 0.041365,
     "end_time": "2025-08-05T15:26:54.398910",
     "exception": false,
     "start_time": "2025-08-05T15:26:54.357545",
     "status": "completed"
    },
    "tags": []
   },
   "outputs": [
    {
     "data": {
      "text/html": [
       "<div>\n",
       "<style scoped>\n",
       "    .dataframe tbody tr th:only-of-type {\n",
       "        vertical-align: middle;\n",
       "    }\n",
       "\n",
       "    .dataframe tbody tr th {\n",
       "        vertical-align: top;\n",
       "    }\n",
       "\n",
       "    .dataframe thead th {\n",
       "        text-align: right;\n",
       "    }\n",
       "</style>\n",
       "<table border=\"1\" class=\"dataframe\">\n",
       "  <thead>\n",
       "    <tr style=\"text-align: right;\">\n",
       "      <th></th>\n",
       "      <th>universe_id</th>\n",
       "      <th>universe_training_year</th>\n",
       "      <th>universe_training_size</th>\n",
       "      <th>universe_scale</th>\n",
       "      <th>universe_model</th>\n",
       "      <th>universe_exclude_features</th>\n",
       "      <th>universe_exclude_subgroups</th>\n",
       "      <th>q_hat</th>\n",
       "      <th>coverage</th>\n",
       "      <th>avg_size</th>\n",
       "      <th>cov_frau1</th>\n",
       "      <th>cov_nongerman</th>\n",
       "      <th>cov_nongerman_male</th>\n",
       "      <th>cov_nongerman_female</th>\n",
       "    </tr>\n",
       "  </thead>\n",
       "  <tbody>\n",
       "    <tr>\n",
       "      <th>0</th>\n",
       "      <td>74fcf03e3b9c47a0d3da64ee92fd2a31</td>\n",
       "      <td>2014</td>\n",
       "      <td>5k</td>\n",
       "      <td>scale</td>\n",
       "      <td>elasticnet</td>\n",
       "      <td>nationality-sex</td>\n",
       "      <td>drop-non-german</td>\n",
       "      <td>0.690366</td>\n",
       "      <td>0.910077</td>\n",
       "      <td>1.136674</td>\n",
       "      <td>0.90864</td>\n",
       "      <td>0.908325</td>\n",
       "      <td>0.925876</td>\n",
       "      <td>0.879285</td>\n",
       "    </tr>\n",
       "  </tbody>\n",
       "</table>\n",
       "</div>"
      ],
      "text/plain": [
       "                        universe_id universe_training_year  \\\n",
       "0  74fcf03e3b9c47a0d3da64ee92fd2a31                   2014   \n",
       "\n",
       "  universe_training_size universe_scale universe_model  \\\n",
       "0                     5k          scale     elasticnet   \n",
       "\n",
       "  universe_exclude_features universe_exclude_subgroups     q_hat  coverage  \\\n",
       "0           nationality-sex            drop-non-german  0.690366  0.910077   \n",
       "\n",
       "   avg_size  cov_frau1  cov_nongerman  cov_nongerman_male  \\\n",
       "0  1.136674    0.90864       0.908325            0.925876   \n",
       "\n",
       "   cov_nongerman_female  \n",
       "0              0.879285  "
      ]
     },
     "execution_count": 58,
     "metadata": {},
     "output_type": "execute_result"
    }
   ],
   "source": [
    "cp_metrics_df"
   ]
  },
  {
   "cell_type": "markdown",
   "id": "33774451",
   "metadata": {
    "papermill": {
     "duration": 0.020371,
     "end_time": "2025-08-05T15:26:54.439845",
     "exception": false,
     "start_time": "2025-08-05T15:26:54.419474",
     "status": "completed"
    },
    "tags": []
   },
   "source": [
    "# (Fairness) Metrics"
   ]
  },
  {
   "cell_type": "code",
   "execution_count": 59,
   "id": "debc5d62",
   "metadata": {
    "execution": {
     "iopub.execute_input": "2025-08-05T15:26:54.482858Z",
     "iopub.status.busy": "2025-08-05T15:26:54.482140Z",
     "iopub.status.idle": "2025-08-05T15:26:54.503259Z",
     "shell.execute_reply": "2025-08-05T15:26:54.502407Z"
    },
    "papermill": {
     "duration": 0.044338,
     "end_time": "2025-08-05T15:26:54.504900",
     "exception": false,
     "start_time": "2025-08-05T15:26:54.460562",
     "status": "completed"
    },
    "tags": []
   },
   "outputs": [],
   "source": [
    "# do I need to include maxdeutsch1.missing?\n",
    "\n",
    "import numpy as np\n",
    "\n",
    "colname_to_bin = \"maxdeutsch1\"\n",
    "majority_value = org_train[colname_to_bin].mode()[0]\n",
    "\n",
    "org_test[\"majmin\"] = np.where(org_test[colname_to_bin] == majority_value, \"majority\", \"minority\")"
   ]
  },
  {
   "cell_type": "code",
   "execution_count": 60,
   "id": "06a50de5",
   "metadata": {
    "execution": {
     "iopub.execute_input": "2025-08-05T15:26:54.547583Z",
     "iopub.status.busy": "2025-08-05T15:26:54.546783Z",
     "iopub.status.idle": "2025-08-05T15:26:56.506517Z",
     "shell.execute_reply": "2025-08-05T15:26:56.505718Z"
    },
    "papermill": {
     "duration": 1.982273,
     "end_time": "2025-08-05T15:26:56.507954",
     "exception": false,
     "start_time": "2025-08-05T15:26:54.525681",
     "status": "completed"
    },
    "tags": []
   },
   "outputs": [],
   "source": [
    "example_universe = universe.copy()\n",
    "example_universe[\"cutoff\"] = example_universe[\"cutoff\"][0]\n",
    "example_universe[\"eval_fairness_grouping\"] = example_universe[\"eval_fairness_grouping\"][0]\n",
    "fairness_dict, metric_frame = universe_analysis.compute_metrics(\n",
    "    example_universe,\n",
    "    y_pred_prob=probs_test,\n",
    "    y_test=y_true,\n",
    "    org_test=org_test,\n",
    ")"
   ]
  },
  {
   "cell_type": "markdown",
   "id": "f95d4e02",
   "metadata": {
    "papermill": {
     "duration": 0.012003,
     "end_time": "2025-08-05T15:26:56.532404",
     "exception": false,
     "start_time": "2025-08-05T15:26:56.520401",
     "status": "completed"
    },
    "tags": []
   },
   "source": [
    "# Overall"
   ]
  },
  {
   "cell_type": "markdown",
   "id": "bdee4871",
   "metadata": {
    "papermill": {
     "duration": 0.011428,
     "end_time": "2025-08-05T15:26:56.555377",
     "exception": false,
     "start_time": "2025-08-05T15:26:56.543949",
     "status": "completed"
    },
    "tags": []
   },
   "source": [
    "Fairness\n",
    "Main fairness target: Equalized Odds. Seems to be a better fit than equal opportunity, since we're not only interested in Y = 1. Seems to be a better fit than demographic parity, since we also care about accuracy, not just equal distribution of preds.\n",
    "\n",
    "Pick column for computation of fairness metrics\n",
    "\n",
    "Performance\n",
    "Overall performance measures, most interesting in relation to the measures split by group below"
   ]
  },
  {
   "cell_type": "code",
   "execution_count": 61,
   "id": "c4e067c6",
   "metadata": {
    "execution": {
     "iopub.execute_input": "2025-08-05T15:26:56.580685Z",
     "iopub.status.busy": "2025-08-05T15:26:56.579903Z",
     "iopub.status.idle": "2025-08-05T15:26:56.587375Z",
     "shell.execute_reply": "2025-08-05T15:26:56.586401Z"
    },
    "papermill": {
     "duration": 0.021994,
     "end_time": "2025-08-05T15:26:56.588696",
     "exception": false,
     "start_time": "2025-08-05T15:26:56.566702",
     "status": "completed"
    },
    "tags": []
   },
   "outputs": [
    {
     "data": {
      "text/plain": [
       "accuracy                   0.223598\n",
       "balanced accuracy          0.546891\n",
       "f1                         0.244951\n",
       "precision                  0.139932\n",
       "false positive rate        0.887970\n",
       "false negative rate        0.018248\n",
       "selection rate             0.900000\n",
       "count                  89710.000000\n",
       "dtype: float64"
      ]
     },
     "execution_count": 61,
     "metadata": {},
     "output_type": "execute_result"
    }
   ],
   "source": [
    "metric_frame.overall"
   ]
  },
  {
   "cell_type": "markdown",
   "id": "e968fe9d",
   "metadata": {
    "papermill": {
     "duration": 0.011787,
     "end_time": "2025-08-05T15:26:56.613290",
     "exception": false,
     "start_time": "2025-08-05T15:26:56.601503",
     "status": "completed"
    },
    "tags": []
   },
   "source": [
    "By Group"
   ]
  },
  {
   "cell_type": "code",
   "execution_count": 62,
   "id": "ec325bce",
   "metadata": {
    "execution": {
     "iopub.execute_input": "2025-08-05T15:26:56.637807Z",
     "iopub.status.busy": "2025-08-05T15:26:56.637221Z",
     "iopub.status.idle": "2025-08-05T15:26:56.650277Z",
     "shell.execute_reply": "2025-08-05T15:26:56.649199Z"
    },
    "papermill": {
     "duration": 0.027057,
     "end_time": "2025-08-05T15:26:56.651809",
     "exception": false,
     "start_time": "2025-08-05T15:26:56.624752",
     "status": "completed"
    },
    "tags": []
   },
   "outputs": [
    {
     "data": {
      "text/html": [
       "<div>\n",
       "<style scoped>\n",
       "    .dataframe tbody tr th:only-of-type {\n",
       "        vertical-align: middle;\n",
       "    }\n",
       "\n",
       "    .dataframe tbody tr th {\n",
       "        vertical-align: top;\n",
       "    }\n",
       "\n",
       "    .dataframe thead th {\n",
       "        text-align: right;\n",
       "    }\n",
       "</style>\n",
       "<table border=\"1\" class=\"dataframe\">\n",
       "  <thead>\n",
       "    <tr style=\"text-align: right;\">\n",
       "      <th></th>\n",
       "      <th>accuracy</th>\n",
       "      <th>balanced accuracy</th>\n",
       "      <th>f1</th>\n",
       "      <th>precision</th>\n",
       "      <th>false positive rate</th>\n",
       "      <th>false negative rate</th>\n",
       "      <th>selection rate</th>\n",
       "      <th>count</th>\n",
       "    </tr>\n",
       "    <tr>\n",
       "      <th>majmin</th>\n",
       "      <th></th>\n",
       "      <th></th>\n",
       "      <th></th>\n",
       "      <th></th>\n",
       "      <th></th>\n",
       "      <th></th>\n",
       "      <th></th>\n",
       "      <th></th>\n",
       "    </tr>\n",
       "  </thead>\n",
       "  <tbody>\n",
       "    <tr>\n",
       "      <th>majority</th>\n",
       "      <td>0.236085</td>\n",
       "      <td>0.552745</td>\n",
       "      <td>0.253799</td>\n",
       "      <td>0.145706</td>\n",
       "      <td>0.877661</td>\n",
       "      <td>0.016849</td>\n",
       "      <td>0.891600</td>\n",
       "      <td>69170.0</td>\n",
       "    </tr>\n",
       "    <tr>\n",
       "      <th>minority</th>\n",
       "      <td>0.181548</td>\n",
       "      <td>0.527164</td>\n",
       "      <td>0.215722</td>\n",
       "      <td>0.121257</td>\n",
       "      <td>0.922023</td>\n",
       "      <td>0.023649</td>\n",
       "      <td>0.928286</td>\n",
       "      <td>20540.0</td>\n",
       "    </tr>\n",
       "  </tbody>\n",
       "</table>\n",
       "</div>"
      ],
      "text/plain": [
       "          accuracy  balanced accuracy        f1  precision  \\\n",
       "majmin                                                       \n",
       "majority  0.236085           0.552745  0.253799   0.145706   \n",
       "minority  0.181548           0.527164  0.215722   0.121257   \n",
       "\n",
       "          false positive rate  false negative rate  selection rate    count  \n",
       "majmin                                                                       \n",
       "majority             0.877661             0.016849        0.891600  69170.0  \n",
       "minority             0.922023             0.023649        0.928286  20540.0  "
      ]
     },
     "execution_count": 62,
     "metadata": {},
     "output_type": "execute_result"
    }
   ],
   "source": [
    "metric_frame.by_group"
   ]
  },
  {
   "cell_type": "code",
   "execution_count": 63,
   "id": "a9ddbe63",
   "metadata": {
    "execution": {
     "iopub.execute_input": "2025-08-05T15:26:56.677119Z",
     "iopub.status.busy": "2025-08-05T15:26:56.676586Z",
     "iopub.status.idle": "2025-08-05T15:26:58.261104Z",
     "shell.execute_reply": "2025-08-05T15:26:58.260349Z"
    },
    "papermill": {
     "duration": 1.598433,
     "end_time": "2025-08-05T15:26:58.262488",
     "exception": false,
     "start_time": "2025-08-05T15:26:56.664055",
     "status": "completed"
    },
    "tags": []
   },
   "outputs": [
    {
     "data": {
      "text/plain": [
       "array([[<Axes: title={'center': 'accuracy'}, xlabel='majmin'>,\n",
       "        <Axes: title={'center': 'balanced accuracy'}, xlabel='majmin'>,\n",
       "        <Axes: title={'center': 'f1'}, xlabel='majmin'>],\n",
       "       [<Axes: title={'center': 'precision'}, xlabel='majmin'>,\n",
       "        <Axes: title={'center': 'false positive rate'}, xlabel='majmin'>,\n",
       "        <Axes: title={'center': 'false negative rate'}, xlabel='majmin'>],\n",
       "       [<Axes: title={'center': 'selection rate'}, xlabel='majmin'>,\n",
       "        <Axes: title={'center': 'count'}, xlabel='majmin'>,\n",
       "        <Axes: xlabel='majmin'>]], dtype=object)"
      ]
     },
     "execution_count": 63,
     "metadata": {},
     "output_type": "execute_result"
    },
    {
     "data": {
      "image/png": "[encoded data removed]",
      "text/plain": [
       "<Figure size 1200x800 with 9 Axes>"
      ]
     },
     "metadata": {},
     "output_type": "display_data"
    }
   ],
   "source": [
    "# In a graphic\n",
    "metric_frame.by_group.plot.bar(\n",
    "    subplots=True,\n",
    "    layout=[3, 3],\n",
    "    legend=False,\n",
    "    figsize=[12, 8],\n",
    "    title=\"Show all metrics\",\n",
    ")"
   ]
  },
  {
   "cell_type": "markdown",
   "id": "f57a0bac",
   "metadata": {
    "papermill": {
     "duration": 0.012753,
     "end_time": "2025-08-05T15:26:58.291463",
     "exception": false,
     "start_time": "2025-08-05T15:26:58.278710",
     "status": "completed"
    },
    "tags": []
   },
   "source": [
    "# Final Output"
   ]
  },
  {
   "cell_type": "code",
   "execution_count": 64,
   "id": "96d280a3",
   "metadata": {
    "execution": {
     "iopub.execute_input": "2025-08-05T15:26:58.318146Z",
     "iopub.status.busy": "2025-08-05T15:26:58.317692Z",
     "iopub.status.idle": "2025-08-05T15:26:58.324838Z",
     "shell.execute_reply": "2025-08-05T15:26:58.323928Z"
    },
    "papermill": {
     "duration": 0.022122,
     "end_time": "2025-08-05T15:26:58.326146",
     "exception": false,
     "start_time": "2025-08-05T15:26:58.304024",
     "status": "completed"
    },
    "tags": []
   },
   "outputs": [
    {
     "data": {
      "text/plain": [
       "4"
      ]
     },
     "execution_count": 64,
     "metadata": {},
     "output_type": "execute_result"
    }
   ],
   "source": [
    "sub_universes = universe_analysis.generate_sub_universes()\n",
    "len(sub_universes)"
   ]
  },
  {
   "cell_type": "code",
   "execution_count": 65,
   "id": "92adf7ba",
   "metadata": {
    "execution": {
     "iopub.execute_input": "2025-08-05T15:26:58.353098Z",
     "iopub.status.busy": "2025-08-05T15:26:58.352499Z",
     "iopub.status.idle": "2025-08-05T15:26:58.367467Z",
     "shell.execute_reply": "2025-08-05T15:26:58.366730Z"
    },
    "papermill": {
     "duration": 0.030026,
     "end_time": "2025-08-05T15:26:58.368996",
     "exception": false,
     "start_time": "2025-08-05T15:26:58.338970",
     "status": "completed"
    },
    "tags": []
   },
   "outputs": [],
   "source": [
    "def filter_sub_universe_data(sub_universe, org_test):\n",
    "    # Keep all rows — no filtering\n",
    "    keep_rows_mask = np.ones(org_test.shape[0], dtype=bool)\n",
    "\n",
    "    print(f\"[INFO] Keeping all rows: {keep_rows_mask.sum()} rows retained.\")\n",
    "    return keep_rows_mask"
   ]
  },
  {
   "cell_type": "code",
   "execution_count": 66,
   "id": "4a759155",
   "metadata": {
    "execution": {
     "iopub.execute_input": "2025-08-05T15:26:58.396501Z",
     "iopub.status.busy": "2025-08-05T15:26:58.395995Z",
     "iopub.status.idle": "2025-08-05T15:27:05.744785Z",
     "shell.execute_reply": "2025-08-05T15:27:05.743832Z"
    },
    "papermill": {
     "duration": 7.36391,
     "end_time": "2025-08-05T15:27:05.746555",
     "exception": false,
     "start_time": "2025-08-05T15:26:58.382645",
     "status": "completed"
    },
    "tags": []
   },
   "outputs": [
    {
     "name": "stdout",
     "output_type": "stream",
     "text": [
      "Stopping execution_time clock.\n",
      "[INFO] Keeping all rows: 89710 rows retained.\n"
     ]
    },
    {
     "name": "stdout",
     "output_type": "stream",
     "text": [
      "[INFO] Keeping all rows: 89710 rows retained.\n"
     ]
    },
    {
     "name": "stdout",
     "output_type": "stream",
     "text": [
      "[INFO] Keeping all rows: 89710 rows retained.\n"
     ]
    },
    {
     "name": "stdout",
     "output_type": "stream",
     "text": [
      "[INFO] Keeping all rows: 89710 rows retained.\n"
     ]
    },
    {
     "data": {
      "text/html": [
       "<div>\n",
       "<style scoped>\n",
       "    .dataframe tbody tr th:only-of-type {\n",
       "        vertical-align: middle;\n",
       "    }\n",
       "\n",
       "    .dataframe tbody tr th {\n",
       "        vertical-align: top;\n",
       "    }\n",
       "\n",
       "    .dataframe thead th {\n",
       "        text-align: right;\n",
       "    }\n",
       "</style>\n",
       "<table border=\"1\" class=\"dataframe\">\n",
       "  <thead>\n",
       "    <tr style=\"text-align: right;\">\n",
       "      <th></th>\n",
       "      <th>run_no</th>\n",
       "      <th>universe_id</th>\n",
       "      <th>universe_settings</th>\n",
       "      <th>execution_time</th>\n",
       "      <th>test_size_n</th>\n",
       "      <th>test_size_frac</th>\n",
       "      <th>fair_main_equalized_odds_difference</th>\n",
       "      <th>fair_main_equalized_odds_ratio</th>\n",
       "      <th>fair_main_demographic_parity_difference</th>\n",
       "      <th>fair_main_demographic_parity_ratio</th>\n",
       "      <th>...</th>\n",
       "      <th>perf_grp_precision_0</th>\n",
       "      <th>perf_grp_precision_1</th>\n",
       "      <th>perf_grp_false positive rate_0</th>\n",
       "      <th>perf_grp_false positive rate_1</th>\n",
       "      <th>perf_grp_false negative rate_0</th>\n",
       "      <th>perf_grp_false negative rate_1</th>\n",
       "      <th>perf_grp_selection rate_0</th>\n",
       "      <th>perf_grp_selection rate_1</th>\n",
       "      <th>perf_grp_count_0</th>\n",
       "      <th>perf_grp_count_1</th>\n",
       "    </tr>\n",
       "  </thead>\n",
       "  <tbody>\n",
       "    <tr>\n",
       "      <th>0</th>\n",
       "      <td>15</td>\n",
       "      <td>74fcf03e3b9c47a0d3da64ee92fd2a31</td>\n",
       "      <td>{\"cutoff\": \"quantile_0.1\", \"eval_fairness_grou...</td>\n",
       "      <td>25.189774</td>\n",
       "      <td>89710</td>\n",
       "      <td>1.0</td>\n",
       "      <td>0.044362</td>\n",
       "      <td>0.951887</td>\n",
       "      <td>0.036686</td>\n",
       "      <td>0.960480</td>\n",
       "      <td>...</td>\n",
       "      <td>NaN</td>\n",
       "      <td>NaN</td>\n",
       "      <td>NaN</td>\n",
       "      <td>NaN</td>\n",
       "      <td>NaN</td>\n",
       "      <td>NaN</td>\n",
       "      <td>NaN</td>\n",
       "      <td>NaN</td>\n",
       "      <td>NaN</td>\n",
       "      <td>NaN</td>\n",
       "    </tr>\n",
       "    <tr>\n",
       "      <th>0</th>\n",
       "      <td>15</td>\n",
       "      <td>74fcf03e3b9c47a0d3da64ee92fd2a31</td>\n",
       "      <td>{\"cutoff\": \"quantile_0.1\", \"eval_fairness_grou...</td>\n",
       "      <td>25.189774</td>\n",
       "      <td>89710</td>\n",
       "      <td>1.0</td>\n",
       "      <td>0.044362</td>\n",
       "      <td>0.951887</td>\n",
       "      <td>0.036686</td>\n",
       "      <td>0.960480</td>\n",
       "      <td>...</td>\n",
       "      <td>0.121257</td>\n",
       "      <td>0.145706</td>\n",
       "      <td>0.922023</td>\n",
       "      <td>0.877661</td>\n",
       "      <td>0.023649</td>\n",
       "      <td>0.016849</td>\n",
       "      <td>0.928286</td>\n",
       "      <td>0.891600</td>\n",
       "      <td>20540.0</td>\n",
       "      <td>69170.0</td>\n",
       "    </tr>\n",
       "    <tr>\n",
       "      <th>0</th>\n",
       "      <td>15</td>\n",
       "      <td>74fcf03e3b9c47a0d3da64ee92fd2a31</td>\n",
       "      <td>{\"cutoff\": \"quantile_0.25\", \"eval_fairness_gro...</td>\n",
       "      <td>25.189774</td>\n",
       "      <td>89710</td>\n",
       "      <td>1.0</td>\n",
       "      <td>0.110404</td>\n",
       "      <td>0.863399</td>\n",
       "      <td>0.092259</td>\n",
       "      <td>0.887644</td>\n",
       "      <td>...</td>\n",
       "      <td>NaN</td>\n",
       "      <td>NaN</td>\n",
       "      <td>NaN</td>\n",
       "      <td>NaN</td>\n",
       "      <td>NaN</td>\n",
       "      <td>NaN</td>\n",
       "      <td>NaN</td>\n",
       "      <td>NaN</td>\n",
       "      <td>NaN</td>\n",
       "      <td>NaN</td>\n",
       "    </tr>\n",
       "    <tr>\n",
       "      <th>0</th>\n",
       "      <td>15</td>\n",
       "      <td>74fcf03e3b9c47a0d3da64ee92fd2a31</td>\n",
       "      <td>{\"cutoff\": \"quantile_0.25\", \"eval_fairness_gro...</td>\n",
       "      <td>25.189774</td>\n",
       "      <td>89710</td>\n",
       "      <td>1.0</td>\n",
       "      <td>0.110404</td>\n",
       "      <td>0.863399</td>\n",
       "      <td>0.092259</td>\n",
       "      <td>0.887644</td>\n",
       "      <td>...</td>\n",
       "      <td>0.129195</td>\n",
       "      <td>0.169113</td>\n",
       "      <td>0.808221</td>\n",
       "      <td>0.697818</td>\n",
       "      <td>0.079814</td>\n",
       "      <td>0.067177</td>\n",
       "      <td>0.821130</td>\n",
       "      <td>0.728871</td>\n",
       "      <td>20540.0</td>\n",
       "      <td>69170.0</td>\n",
       "    </tr>\n",
       "  </tbody>\n",
       "</table>\n",
       "<p>4 rows × 50 columns</p>\n",
       "</div>"
      ],
      "text/plain": [
       "  run_no                       universe_id  \\\n",
       "0     15  74fcf03e3b9c47a0d3da64ee92fd2a31   \n",
       "0     15  74fcf03e3b9c47a0d3da64ee92fd2a31   \n",
       "0     15  74fcf03e3b9c47a0d3da64ee92fd2a31   \n",
       "0     15  74fcf03e3b9c47a0d3da64ee92fd2a31   \n",
       "\n",
       "                                   universe_settings  execution_time  \\\n",
       "0  {\"cutoff\": \"quantile_0.1\", \"eval_fairness_grou...       25.189774   \n",
       "0  {\"cutoff\": \"quantile_0.1\", \"eval_fairness_grou...       25.189774   \n",
       "0  {\"cutoff\": \"quantile_0.25\", \"eval_fairness_gro...       25.189774   \n",
       "0  {\"cutoff\": \"quantile_0.25\", \"eval_fairness_gro...       25.189774   \n",
       "\n",
       "   test_size_n  test_size_frac  fair_main_equalized_odds_difference  \\\n",
       "0        89710             1.0                             0.044362   \n",
       "0        89710             1.0                             0.044362   \n",
       "0        89710             1.0                             0.110404   \n",
       "0        89710             1.0                             0.110404   \n",
       "\n",
       "   fair_main_equalized_odds_ratio  fair_main_demographic_parity_difference  \\\n",
       "0                        0.951887                                 0.036686   \n",
       "0                        0.951887                                 0.036686   \n",
       "0                        0.863399                                 0.092259   \n",
       "0                        0.863399                                 0.092259   \n",
       "\n",
       "   fair_main_demographic_parity_ratio  ...  perf_grp_precision_0  \\\n",
       "0                            0.960480  ...                   NaN   \n",
       "0                            0.960480  ...              0.121257   \n",
       "0                            0.887644  ...                   NaN   \n",
       "0                            0.887644  ...              0.129195   \n",
       "\n",
       "   perf_grp_precision_1  perf_grp_false positive rate_0  \\\n",
       "0                   NaN                             NaN   \n",
       "0              0.145706                        0.922023   \n",
       "0                   NaN                             NaN   \n",
       "0              0.169113                        0.808221   \n",
       "\n",
       "   perf_grp_false positive rate_1  perf_grp_false negative rate_0  \\\n",
       "0                             NaN                             NaN   \n",
       "0                        0.877661                        0.023649   \n",
       "0                             NaN                             NaN   \n",
       "0                        0.697818                        0.079814   \n",
       "\n",
       "   perf_grp_false negative rate_1  perf_grp_selection rate_0  \\\n",
       "0                             NaN                        NaN   \n",
       "0                        0.016849                   0.928286   \n",
       "0                             NaN                        NaN   \n",
       "0                        0.067177                   0.821130   \n",
       "\n",
       "   perf_grp_selection rate_1  perf_grp_count_0  perf_grp_count_1  \n",
       "0                        NaN               NaN               NaN  \n",
       "0                   0.891600           20540.0           69170.0  \n",
       "0                        NaN               NaN               NaN  \n",
       "0                   0.728871           20540.0           69170.0  \n",
       "\n",
       "[4 rows x 50 columns]"
      ]
     },
     "execution_count": 66,
     "metadata": {},
     "output_type": "execute_result"
    }
   ],
   "source": [
    "final_output = universe_analysis.generate_final_output(\n",
    "    y_pred_prob=probs_test,\n",
    "    y_test=y_true,\n",
    "    org_test=org_test,\n",
    "    filter_data=filter_sub_universe_data,\n",
    "    cp_metrics_df=cp_metrics_df,\n",
    "    save=True,\n",
    ")\n",
    "final_output"
   ]
  }
 ],
 "metadata": {
  "celltoolbar": "Tags",
  "kernelspec": {
   "display_name": "Python (CMA Fairness)",
   "language": "python",
   "name": "cma_fair_env"
  },
  "language_info": {
   "codemirror_mode": {
    "name": "ipython",
    "version": 3
   },
   "file_extension": ".py",
   "mimetype": "text/x-python",
   "name": "python",
   "nbconvert_exporter": "python",
   "pygments_lexer": "ipython3",
   "version": "3.10.12"
  },
  "papermill": {
   "default_parameters": {},
   "duration": 36.529439,
   "end_time": "2025-08-05T15:27:06.291372",
   "environment_variables": {},
   "exception": null,
   "input_path": "universe_analysis.ipynb",
   "output_path": "output/runs/15/notebooks/m_15-74fcf03e3b9c47a0d3da64ee92fd2a31.ipynb",
   "parameters": {
    "output_dir": "output",
    "run_no": "15",
    "seed": "2023",
    "universe": "{\"cutoff\": [\"quantile_0.1\", \"quantile_0.25\"], \"eval_fairness_grouping\": [\"majority-minority\", \"nationality-all\"], \"exclude_features\": \"nationality-sex\", \"exclude_subgroups\": \"drop-non-german\", \"model\": \"elasticnet\", \"scale\": \"scale\", \"training_size\": \"5k\", \"training_year\": \"2014\"}",
    "universe_id": "74fcf03e3b9c47a0d3da64ee92fd2a31"
   },
   "start_time": "2025-08-05T15:26:29.761933",
   "version": "2.6.0"
  }
 },
 "nbformat": 4,
 "nbformat_minor": 5
}