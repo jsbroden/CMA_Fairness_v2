{
 "cells": [
  {
   "cell_type": "code",
   "execution_count": 1,
   "id": "f159f837-637b-42ba-96b5-ec9a68c44524",
   "metadata": {
    "execution": {
     "iopub.execute_input": "2025-08-05T15:22:49.860773Z",
     "iopub.status.busy": "2025-08-05T15:22:49.860198Z",
     "iopub.status.idle": "2025-08-05T15:22:49.874616Z",
     "shell.execute_reply": "2025-08-05T15:22:49.873571Z"
    },
    "papermill": {
     "duration": 0.034131,
     "end_time": "2025-08-05T15:22:49.876304",
     "exception": false,
     "start_time": "2025-08-05T15:22:49.842173",
     "status": "completed"
    },
    "tags": []
   },
   "outputs": [
    {
     "name": "stdout",
     "output_type": "stream",
     "text": [
      "/dss/dsshome1/0C/ra93lal2/cma/CMA_Fairness_v2\n"
     ]
    },
    {
     "name": "stderr",
     "output_type": "stream",
     "text": [
      "/dss/dsshome1/0C/ra93lal2/.local/share/virtualenvs/CMA_Fairness_v2-3j10GkSs/lib/python3.10/site-packages/IPython/core/magics/osm.py:393: UserWarning: This is now an optional IPython functionality, using bookmarks requires you to install the `pickleshare` library.\n",
      "  bkms = self.shell.db.get('bookmarks', {})\n",
      "/dss/dsshome1/0C/ra93lal2/.local/share/virtualenvs/CMA_Fairness_v2-3j10GkSs/lib/python3.10/site-packages/IPython/core/magics/osm.py:417: UserWarning: This is now an optional IPython functionality, setting dhist requires you to install the `pickleshare` library.\n",
      "  self.shell.db['dhist'] = compress_dhist(dhist)[-100:]\n"
     ]
    }
   ],
   "source": [
    "%cd ~/cma/CMA_Fairness_v2"
   ]
  },
  {
   "cell_type": "markdown",
   "id": "de2603b9",
   "metadata": {
    "papermill": {
     "duration": 0.016002,
     "end_time": "2025-08-05T15:22:49.910652",
     "exception": false,
     "start_time": "2025-08-05T15:22:49.894650",
     "status": "completed"
    },
    "tags": []
   },
   "source": [
    "The following cell holds the definition of our parameters, these values can be overriden by rendering the with e.g. the following command:\n",
    "\n",
    "papermill -p alpha 0.2 -p ratio 0.3 universe_analysis.ipynb output/test_run.ipynb"
   ]
  },
  {
   "cell_type": "code",
   "execution_count": 2,
   "id": "a80968a0-40bb-4fa9-85ef-2d5eefb01975",
   "metadata": {
    "execution": {
     "iopub.execute_input": "2025-08-05T15:22:49.944087Z",
     "iopub.status.busy": "2025-08-05T15:22:49.943280Z",
     "iopub.status.idle": "2025-08-05T15:22:49.949792Z",
     "shell.execute_reply": "2025-08-05T15:22:49.948604Z"
    },
    "papermill": {
     "duration": 0.024948,
     "end_time": "2025-08-05T15:22:49.951498",
     "exception": false,
     "start_time": "2025-08-05T15:22:49.926550",
     "status": "completed"
    },
    "tags": []
   },
   "outputs": [
    {
     "name": "stdout",
     "output_type": "stream",
     "text": [
      "Current working directory: /dss/dsshome1/0C/ra93lal2/cma/CMA_Fairness_v2\n"
     ]
    }
   ],
   "source": [
    "import os\n",
    "print(\"Current working directory:\", os.getcwd())"
   ]
  },
  {
   "cell_type": "code",
   "execution_count": 3,
   "id": "2dce4c03",
   "metadata": {
    "execution": {
     "iopub.execute_input": "2025-08-05T15:22:49.986777Z",
     "iopub.status.busy": "2025-08-05T15:22:49.985844Z",
     "iopub.status.idle": "2025-08-05T15:22:49.992383Z",
     "shell.execute_reply": "2025-08-05T15:22:49.991363Z"
    },
    "papermill": {
     "duration": 0.025854,
     "end_time": "2025-08-05T15:22:49.994413",
     "exception": false,
     "start_time": "2025-08-05T15:22:49.968559",
     "status": "completed"
    },
    "tags": [
     "parameters"
    ]
   },
   "outputs": [],
   "source": [
    "run_no = 0\n",
    "universe_id = \"test\"\n",
    "universe = {\n",
    "    \"training_size\": \"25k\", # \"25k\", \"5k\", \"1k\"\n",
    "    \"training_year\": \"2014\", # \"2014\", \"2012_14\", \"2010_14\"\n",
    "    \"scale\": \"scale\", # \"scale\", \"do-not-scale\",\n",
    "    \"model\": \"elasticnet\", # \"logreg\", \"penalized_logreg\", \"rf\", \"gbm\", \"elasticnet\"\n",
    "    \"cutoff\": [\"quantile_0.15\", \"quantile_0.30\"],\n",
    "    \"exclude_features\": \"age\", # \"none\", \"nationality\", \"sex\", \"nationality-sex\", \"age\"\n",
    "    \"exclude_subgroups\": \"keep-all\", # \"keep-all\", \"drop-non-german\"\n",
    "    \"eval_fairness_grouping\": [\"majority-minority\", \"nationality-all\"]\n",
    "}\n",
    "\n",
    "output_dir=\"./output\"\n",
    "seed=0"
   ]
  },
  {
   "cell_type": "code",
   "execution_count": 4,
   "id": "ed05e0e1",
   "metadata": {
    "execution": {
     "iopub.execute_input": "2025-08-05T15:22:50.029501Z",
     "iopub.status.busy": "2025-08-05T15:22:50.028725Z",
     "iopub.status.idle": "2025-08-05T15:22:50.034410Z",
     "shell.execute_reply": "2025-08-05T15:22:50.033297Z"
    },
    "papermill": {
     "duration": 0.025204,
     "end_time": "2025-08-05T15:22:50.036222",
     "exception": false,
     "start_time": "2025-08-05T15:22:50.011018",
     "status": "completed"
    },
    "tags": [
     "injected-parameters"
    ]
   },
   "outputs": [],
   "source": [
    "# Parameters\n",
    "universe_id = \"bae434ac5be93c7a0b238e0bd471e9f9\"\n",
    "run_no = \"15\"\n",
    "universe = \"{\\\"cutoff\\\": [\\\"quantile_0.1\\\", \\\"quantile_0.25\\\"], \\\"eval_fairness_grouping\\\": [\\\"majority-minority\\\", \\\"nationality-all\\\"], \\\"exclude_features\\\": \\\"nationality\\\", \\\"exclude_subgroups\\\": \\\"keep-all\\\", \\\"model\\\": \\\"rf\\\", \\\"scale\\\": \\\"scale\\\", \\\"training_size\\\": \\\"5k\\\", \\\"training_year\\\": \\\"2014\\\"}\"\n",
    "output_dir = \"output\"\n",
    "seed = \"2023\"\n"
   ]
  },
  {
   "cell_type": "code",
   "execution_count": 5,
   "id": "1650acaf",
   "metadata": {
    "execution": {
     "iopub.execute_input": "2025-08-05T15:22:50.071270Z",
     "iopub.status.busy": "2025-08-05T15:22:50.070526Z",
     "iopub.status.idle": "2025-08-05T15:22:50.075843Z",
     "shell.execute_reply": "2025-08-05T15:22:50.074806Z"
    },
    "papermill": {
     "duration": 0.024072,
     "end_time": "2025-08-05T15:22:50.077482",
     "exception": false,
     "start_time": "2025-08-05T15:22:50.053410",
     "status": "completed"
    },
    "tags": []
   },
   "outputs": [],
   "source": [
    "import json\n",
    "if isinstance(universe, str):\n",
    "    universe = json.loads(universe)"
   ]
  },
  {
   "cell_type": "code",
   "execution_count": 6,
   "id": "16620c48",
   "metadata": {
    "execution": {
     "iopub.execute_input": "2025-08-05T15:22:50.113063Z",
     "iopub.status.busy": "2025-08-05T15:22:50.112518Z",
     "iopub.status.idle": "2025-08-05T15:22:50.159844Z",
     "shell.execute_reply": "2025-08-05T15:22:50.158886Z"
    },
    "papermill": {
     "duration": 0.066994,
     "end_time": "2025-08-05T15:22:50.161716",
     "exception": false,
     "start_time": "2025-08-05T15:22:50.094722",
     "status": "completed"
    },
    "tags": []
   },
   "outputs": [],
   "source": [
    "# Auto-reload the custom package\n",
    "%load_ext autoreload\n",
    "%autoreload 1\n",
    "%aimport fairness_multiverse"
   ]
  },
  {
   "cell_type": "code",
   "execution_count": 7,
   "id": "01c5c9f3",
   "metadata": {
    "execution": {
     "iopub.execute_input": "2025-08-05T15:22:50.196718Z",
     "iopub.status.busy": "2025-08-05T15:22:50.195857Z",
     "iopub.status.idle": "2025-08-05T15:22:52.087635Z",
     "shell.execute_reply": "2025-08-05T15:22:52.086524Z"
    },
    "papermill": {
     "duration": 1.911089,
     "end_time": "2025-08-05T15:22:52.089853",
     "exception": false,
     "start_time": "2025-08-05T15:22:50.178764",
     "status": "completed"
    },
    "tags": []
   },
   "outputs": [],
   "source": [
    "from fairness_multiverse.universe import UniverseAnalysis\n",
    "\n",
    "universe_analysis = UniverseAnalysis(\n",
    "    run_no = run_no,\n",
    "    universe_id = universe_id,\n",
    "    universe = universe,\n",
    "    output_dir=output_dir,\n",
    ")"
   ]
  },
  {
   "cell_type": "code",
   "execution_count": 8,
   "id": "106241f5",
   "metadata": {
    "execution": {
     "iopub.execute_input": "2025-08-05T15:22:52.132041Z",
     "iopub.status.busy": "2025-08-05T15:22:52.131108Z",
     "iopub.status.idle": "2025-08-05T15:22:52.138761Z",
     "shell.execute_reply": "2025-08-05T15:22:52.137752Z"
    },
    "papermill": {
     "duration": 0.029053,
     "end_time": "2025-08-05T15:22:52.140798",
     "exception": false,
     "start_time": "2025-08-05T15:22:52.111745",
     "status": "completed"
    },
    "tags": []
   },
   "outputs": [
    {
     "name": "stdout",
     "output_type": "stream",
     "text": [
      "Using Seed: 2023\n"
     ]
    }
   ],
   "source": [
    "import numpy as np\n",
    "parsed_seed = int(seed)\n",
    "np.random.seed(parsed_seed)\n",
    "print(f\"Using Seed: {parsed_seed}\")"
   ]
  },
  {
   "cell_type": "markdown",
   "id": "e0ebdc57",
   "metadata": {
    "papermill": {
     "duration": 0.01626,
     "end_time": "2025-08-05T15:22:52.174859",
     "exception": false,
     "start_time": "2025-08-05T15:22:52.158599",
     "status": "completed"
    },
    "tags": []
   },
   "source": [
    "# Loading Data"
   ]
  },
  {
   "cell_type": "code",
   "execution_count": 9,
   "id": "f0496b8a",
   "metadata": {
    "execution": {
     "iopub.execute_input": "2025-08-05T15:22:52.209924Z",
     "iopub.status.busy": "2025-08-05T15:22:52.209402Z",
     "iopub.status.idle": "2025-08-05T15:23:04.705101Z",
     "shell.execute_reply": "2025-08-05T15:23:04.703929Z"
    },
    "papermill": {
     "duration": 12.515645,
     "end_time": "2025-08-05T15:23:04.706762",
     "exception": false,
     "start_time": "2025-08-05T15:22:52.191117",
     "status": "completed"
    },
    "tags": []
   },
   "outputs": [
    {
     "name": "stdout",
     "output_type": "stream",
     "text": [
      "Loading SIAB data from cache: data/siab_cached.csv.gz\n"
     ]
    },
    {
     "name": "stdout",
     "output_type": "stream",
     "text": [
      "(643690, 164)\n"
     ]
    }
   ],
   "source": [
    "from pathlib import Path\n",
    "import pandas as pd\n",
    "\n",
    "# File paths\n",
    "raw_file = Path(\"data/raw/siab.csv\")\n",
    "cache_file = Path(\"data/siab_cached.csv.gz\")\n",
    "\n",
    "# Ensure cache directory exists\n",
    "cache_file.parent.mkdir(parents=True, exist_ok=True)\n",
    "\n",
    "# Load with simple caching\n",
    "if cache_file.exists():\n",
    "    print(f\"Loading SIAB data from cache: {cache_file}\")\n",
    "    siab = pd.read_csv(cache_file, compression='gzip')\n",
    "else:\n",
    "    print(f\"Cache not found. Reading raw SIAB data: {raw_file}\")\n",
    "    siab = pd.read_csv(raw_file)\n",
    "    siab.to_csv(cache_file, index=False, compression='gzip')\n",
    "    print(f\"Cached SIAB data to: {cache_file}\")\n",
    "\n",
    "print(siab.shape)"
   ]
  },
  {
   "cell_type": "code",
   "execution_count": 10,
   "id": "db0ca512-5f53-4dba-abdb-a2888bca41ba",
   "metadata": {
    "execution": {
     "iopub.execute_input": "2025-08-05T15:23:04.742702Z",
     "iopub.status.busy": "2025-08-05T15:23:04.742149Z",
     "iopub.status.idle": "2025-08-05T15:23:04.748590Z",
     "shell.execute_reply": "2025-08-05T15:23:04.747569Z"
    },
    "papermill": {
     "duration": 0.025204,
     "end_time": "2025-08-05T15:23:04.750500",
     "exception": false,
     "start_time": "2025-08-05T15:23:04.725296",
     "status": "completed"
    },
    "tags": []
   },
   "outputs": [],
   "source": [
    "#siab"
   ]
  },
  {
   "cell_type": "markdown",
   "id": "997051c5-15bd-4b69-9786-c3001a3ce484",
   "metadata": {
    "papermill": {
     "duration": 0.016115,
     "end_time": "2025-08-05T15:23:04.782823",
     "exception": false,
     "start_time": "2025-08-05T15:23:04.766708",
     "status": "completed"
    },
    "tags": []
   },
   "source": [
    "# Splitting Data and Setting Training Data Size"
   ]
  },
  {
   "cell_type": "code",
   "execution_count": 11,
   "id": "aea9c6ef-6f46-42c8-85eb-5a62025c1508",
   "metadata": {
    "execution": {
     "iopub.execute_input": "2025-08-05T15:23:04.816514Z",
     "iopub.status.busy": "2025-08-05T15:23:04.815832Z",
     "iopub.status.idle": "2025-08-05T15:23:05.093022Z",
     "shell.execute_reply": "2025-08-05T15:23:05.092049Z"
    },
    "papermill": {
     "duration": 0.295404,
     "end_time": "2025-08-05T15:23:05.094866",
     "exception": false,
     "start_time": "2025-08-05T15:23:04.799462",
     "status": "completed"
    },
    "tags": []
   },
   "outputs": [],
   "source": [
    "from fairness_multiverse.universe import sample_by_year_size\n",
    "\n",
    "siab_train = sample_by_year_size(siab,\n",
    "                               training_year=universe[\"training_year\"],\n",
    "                               training_size=universe[\"training_size\"])"
   ]
  },
  {
   "cell_type": "code",
   "execution_count": 12,
   "id": "8d3afb32-789d-442c-8d5d-9f5aa8dd2eed",
   "metadata": {
    "execution": {
     "iopub.execute_input": "2025-08-05T15:23:05.129502Z",
     "iopub.status.busy": "2025-08-05T15:23:05.128693Z",
     "iopub.status.idle": "2025-08-05T15:23:05.134646Z",
     "shell.execute_reply": "2025-08-05T15:23:05.133583Z"
    },
    "papermill": {
     "duration": 0.025181,
     "end_time": "2025-08-05T15:23:05.136285",
     "exception": false,
     "start_time": "2025-08-05T15:23:05.111104",
     "status": "completed"
    },
    "tags": []
   },
   "outputs": [],
   "source": [
    "#siab_train.shape"
   ]
  },
  {
   "cell_type": "code",
   "execution_count": 13,
   "id": "d582db68-1a4c-47fb-84fc-08518dc1975a",
   "metadata": {
    "execution": {
     "iopub.execute_input": "2025-08-05T15:23:05.170757Z",
     "iopub.status.busy": "2025-08-05T15:23:05.169961Z",
     "iopub.status.idle": "2025-08-05T15:23:05.175341Z",
     "shell.execute_reply": "2025-08-05T15:23:05.174336Z"
    },
    "papermill": {
     "duration": 0.024412,
     "end_time": "2025-08-05T15:23:05.177159",
     "exception": false,
     "start_time": "2025-08-05T15:23:05.152747",
     "status": "completed"
    },
    "tags": []
   },
   "outputs": [],
   "source": [
    "#display(siab_train.groupby(\"year\").size())"
   ]
  },
  {
   "cell_type": "code",
   "execution_count": 14,
   "id": "a561edb4-d032-42cb-8256-22eac1111c64",
   "metadata": {
    "execution": {
     "iopub.execute_input": "2025-08-05T15:23:05.211460Z",
     "iopub.status.busy": "2025-08-05T15:23:05.210817Z",
     "iopub.status.idle": "2025-08-05T15:23:05.427382Z",
     "shell.execute_reply": "2025-08-05T15:23:05.426253Z"
    },
    "papermill": {
     "duration": 0.235516,
     "end_time": "2025-08-05T15:23:05.429326",
     "exception": false,
     "start_time": "2025-08-05T15:23:05.193810",
     "status": "completed"
    },
    "tags": []
   },
   "outputs": [],
   "source": [
    "#siab_train = siab_s[siab_s.year < 2015]\n",
    "siab_calib = siab[siab.year == 2015]\n",
    "siab_test = siab[siab.year == 2016]"
   ]
  },
  {
   "cell_type": "code",
   "execution_count": 15,
   "id": "472de16f-c3db-4916-846b-1f0de9cf1746",
   "metadata": {
    "execution": {
     "iopub.execute_input": "2025-08-05T15:23:05.464092Z",
     "iopub.status.busy": "2025-08-05T15:23:05.463307Z",
     "iopub.status.idle": "2025-08-05T15:23:05.472840Z",
     "shell.execute_reply": "2025-08-05T15:23:05.471679Z"
    },
    "papermill": {
     "duration": 0.028861,
     "end_time": "2025-08-05T15:23:05.475226",
     "exception": false,
     "start_time": "2025-08-05T15:23:05.446365",
     "status": "completed"
    },
    "tags": []
   },
   "outputs": [],
   "source": [
    "X_train = siab_train.iloc[:,4:164]\n",
    "y_train = siab_train.iloc[:, [3]]"
   ]
  },
  {
   "cell_type": "code",
   "execution_count": 16,
   "id": "828c96af-f43a-4ed6-ba47-8ac73a47d56c",
   "metadata": {
    "execution": {
     "iopub.execute_input": "2025-08-05T15:23:05.519028Z",
     "iopub.status.busy": "2025-08-05T15:23:05.518152Z",
     "iopub.status.idle": "2025-08-05T15:23:05.571484Z",
     "shell.execute_reply": "2025-08-05T15:23:05.569868Z"
    },
    "papermill": {
     "duration": 0.077166,
     "end_time": "2025-08-05T15:23:05.573625",
     "exception": false,
     "start_time": "2025-08-05T15:23:05.496459",
     "status": "completed"
    },
    "tags": []
   },
   "outputs": [],
   "source": [
    "X_calib = siab_calib.iloc[:,4:164]\n",
    "y_calib = siab_calib.iloc[:, [3]]"
   ]
  },
  {
   "cell_type": "code",
   "execution_count": 17,
   "id": "c34be9c3-6bd6-476e-acd3-845840e303be",
   "metadata": {
    "execution": {
     "iopub.execute_input": "2025-08-05T15:23:05.619383Z",
     "iopub.status.busy": "2025-08-05T15:23:05.618687Z",
     "iopub.status.idle": "2025-08-05T15:23:05.672355Z",
     "shell.execute_reply": "2025-08-05T15:23:05.671109Z"
    },
    "papermill": {
     "duration": 0.078391,
     "end_time": "2025-08-05T15:23:05.674472",
     "exception": false,
     "start_time": "2025-08-05T15:23:05.596081",
     "status": "completed"
    },
    "tags": []
   },
   "outputs": [],
   "source": [
    "X_test = siab_test.iloc[:,4:164]\n",
    "y_true = siab_test.iloc[:, [3]]"
   ]
  },
  {
   "cell_type": "code",
   "execution_count": 18,
   "id": "e6c733c5",
   "metadata": {
    "execution": {
     "iopub.execute_input": "2025-08-05T15:23:05.719112Z",
     "iopub.status.busy": "2025-08-05T15:23:05.718439Z",
     "iopub.status.idle": "2025-08-05T15:23:05.819168Z",
     "shell.execute_reply": "2025-08-05T15:23:05.818081Z"
    },
    "papermill": {
     "duration": 0.124346,
     "end_time": "2025-08-05T15:23:05.820841",
     "exception": false,
     "start_time": "2025-08-05T15:23:05.696495",
     "status": "completed"
    },
    "tags": []
   },
   "outputs": [],
   "source": [
    "# Auxiliary data needed downstream in the pipeline\n",
    "\n",
    "org_train = X_train.copy()\n",
    "org_test = X_test.copy()\n",
    "org_calib = X_calib.copy()"
   ]
  },
  {
   "cell_type": "markdown",
   "id": "0a4a1b33",
   "metadata": {
    "papermill": {
     "duration": 0.019067,
     "end_time": "2025-08-05T15:23:05.859653",
     "exception": false,
     "start_time": "2025-08-05T15:23:05.840586",
     "status": "completed"
    },
    "tags": []
   },
   "source": [
    "# Preprocessing Data"
   ]
  },
  {
   "cell_type": "code",
   "execution_count": 19,
   "id": "ca879031",
   "metadata": {
    "execution": {
     "iopub.execute_input": "2025-08-05T15:23:05.900005Z",
     "iopub.status.busy": "2025-08-05T15:23:05.899132Z",
     "iopub.status.idle": "2025-08-05T15:23:05.905988Z",
     "shell.execute_reply": "2025-08-05T15:23:05.904715Z"
    },
    "papermill": {
     "duration": 0.032201,
     "end_time": "2025-08-05T15:23:05.910824",
     "exception": false,
     "start_time": "2025-08-05T15:23:05.878623",
     "status": "completed"
    },
    "tags": []
   },
   "outputs": [],
   "source": [
    "# EXCLUDE PROTECTED FEATURES\n",
    "# ----------------------\n",
    "# \"exclude_features\": \"none\", # \"nationality\", \"sex\", \"nationality-sex\"\n",
    "\n",
    "excluded_features = universe[\"exclude_features\"].split(\"-\") # split, e.g.: \"nationality-sex\" -> [\"nationality\", \"sex\"]\n",
    "excluded_features_dictionary = {\n",
    "    \"nationality\": [\"maxdeutsch1\", \"maxdeutsch.Missing.\"],\n",
    "    \"sex\": [\"frau1\"],\n",
    "    \"age\": [\"age\"],\n",
    "}"
   ]
  },
  {
   "cell_type": "code",
   "execution_count": 20,
   "id": "b745ac60",
   "metadata": {
    "execution": {
     "iopub.execute_input": "2025-08-05T15:23:05.939829Z",
     "iopub.status.busy": "2025-08-05T15:23:05.939326Z",
     "iopub.status.idle": "2025-08-05T15:23:05.944077Z",
     "shell.execute_reply": "2025-08-05T15:23:05.943342Z"
    },
    "papermill": {
     "duration": 0.016809,
     "end_time": "2025-08-05T15:23:05.945393",
     "exception": false,
     "start_time": "2025-08-05T15:23:05.928584",
     "status": "completed"
    },
    "tags": []
   },
   "outputs": [],
   "source": [
    "# Code nice names to column names\n",
    "\n",
    "excluded_features_columns = [\n",
    "    excluded_features_dictionary[f] for f in excluded_features if len(f) > 0 and f != \"none\"\n",
    "]"
   ]
  },
  {
   "cell_type": "code",
   "execution_count": 21,
   "id": "f84f73a2",
   "metadata": {
    "execution": {
     "iopub.execute_input": "2025-08-05T15:23:05.967490Z",
     "iopub.status.busy": "2025-08-05T15:23:05.966987Z",
     "iopub.status.idle": "2025-08-05T15:23:05.972758Z",
     "shell.execute_reply": "2025-08-05T15:23:05.971969Z"
    },
    "papermill": {
     "duration": 0.017952,
     "end_time": "2025-08-05T15:23:05.974192",
     "exception": false,
     "start_time": "2025-08-05T15:23:05.956240",
     "status": "completed"
    },
    "tags": []
   },
   "outputs": [],
   "source": [
    "from utils import flatten_once\n",
    "\n",
    "excluded_features_columns = flatten_once(excluded_features_columns)"
   ]
  },
  {
   "cell_type": "code",
   "execution_count": 22,
   "id": "884dea22",
   "metadata": {
    "execution": {
     "iopub.execute_input": "2025-08-05T15:23:06.007504Z",
     "iopub.status.busy": "2025-08-05T15:23:06.006418Z",
     "iopub.status.idle": "2025-08-05T15:23:06.016338Z",
     "shell.execute_reply": "2025-08-05T15:23:06.015387Z"
    },
    "papermill": {
     "duration": 0.032158,
     "end_time": "2025-08-05T15:23:06.018086",
     "exception": false,
     "start_time": "2025-08-05T15:23:05.985928",
     "status": "completed"
    },
    "tags": []
   },
   "outputs": [
    {
     "name": "stdout",
     "output_type": "stream",
     "text": [
      "Dropping features: ['maxdeutsch1', 'maxdeutsch.Missing.']\n"
     ]
    }
   ],
   "source": [
    "if len(excluded_features_columns) > 0:\n",
    "    print(f\"Dropping features: {excluded_features_columns}\")\n",
    "    X_train.drop(excluded_features_columns, axis=1, inplace=True)"
   ]
  },
  {
   "cell_type": "code",
   "execution_count": 23,
   "id": "95ab8b16",
   "metadata": {
    "execution": {
     "iopub.execute_input": "2025-08-05T15:23:06.062963Z",
     "iopub.status.busy": "2025-08-05T15:23:06.061932Z",
     "iopub.status.idle": "2025-08-05T15:23:06.119480Z",
     "shell.execute_reply": "2025-08-05T15:23:06.118396Z"
    },
    "papermill": {
     "duration": 0.082786,
     "end_time": "2025-08-05T15:23:06.122302",
     "exception": false,
     "start_time": "2025-08-05T15:23:06.039516",
     "status": "completed"
    },
    "tags": []
   },
   "outputs": [
    {
     "name": "stdout",
     "output_type": "stream",
     "text": [
      "Dropping features: ['maxdeutsch1', 'maxdeutsch.Missing.']\n"
     ]
    }
   ],
   "source": [
    "if len(excluded_features_columns) > 0:\n",
    "    print(f\"Dropping features: {excluded_features_columns}\")\n",
    "    X_test.drop(excluded_features_columns, axis=1, inplace=True)"
   ]
  },
  {
   "cell_type": "code",
   "execution_count": 24,
   "id": "1853aaf5-fb9f-46cb-a2b5-8ea4ae2237e4",
   "metadata": {
    "execution": {
     "iopub.execute_input": "2025-08-05T15:23:06.179148Z",
     "iopub.status.busy": "2025-08-05T15:23:06.178690Z",
     "iopub.status.idle": "2025-08-05T15:23:06.228565Z",
     "shell.execute_reply": "2025-08-05T15:23:06.227732Z"
    },
    "papermill": {
     "duration": 0.07423,
     "end_time": "2025-08-05T15:23:06.230011",
     "exception": false,
     "start_time": "2025-08-05T15:23:06.155781",
     "status": "completed"
    },
    "tags": []
   },
   "outputs": [
    {
     "name": "stdout",
     "output_type": "stream",
     "text": [
      "Dropping features: ['maxdeutsch1', 'maxdeutsch.Missing.']\n"
     ]
    }
   ],
   "source": [
    "if len(excluded_features_columns) > 0:\n",
    "    print(f\"Dropping features: {excluded_features_columns}\")\n",
    "    X_calib.drop(excluded_features_columns, axis=1, inplace=True)"
   ]
  },
  {
   "cell_type": "code",
   "execution_count": 25,
   "id": "76c4dc6d",
   "metadata": {
    "execution": {
     "iopub.execute_input": "2025-08-05T15:23:06.251969Z",
     "iopub.status.busy": "2025-08-05T15:23:06.251156Z",
     "iopub.status.idle": "2025-08-05T15:23:06.255929Z",
     "shell.execute_reply": "2025-08-05T15:23:06.255210Z"
    },
    "papermill": {
     "duration": 0.016642,
     "end_time": "2025-08-05T15:23:06.257373",
     "exception": false,
     "start_time": "2025-08-05T15:23:06.240731",
     "status": "completed"
    },
    "tags": []
   },
   "outputs": [],
   "source": [
    "# EXCLUDE CERTAIN SUBGROUPS\n",
    "# ----------------------\n",
    "\n",
    "mode = universe.get(\"exclude_subgroups\", \"keep-all\") \n",
    "# Fetches the exclude_subgroups setting from the universe dict.\n",
    "# Defaults to \"keep-all\" if the key is missing."
   ]
  },
  {
   "cell_type": "code",
   "execution_count": 26,
   "id": "21994072",
   "metadata": {
    "execution": {
     "iopub.execute_input": "2025-08-05T15:23:06.278555Z",
     "iopub.status.busy": "2025-08-05T15:23:06.277837Z",
     "iopub.status.idle": "2025-08-05T15:23:06.283297Z",
     "shell.execute_reply": "2025-08-05T15:23:06.282610Z"
    },
    "papermill": {
     "duration": 0.016822,
     "end_time": "2025-08-05T15:23:06.284664",
     "exception": false,
     "start_time": "2025-08-05T15:23:06.267842",
     "status": "completed"
    },
    "tags": []
   },
   "outputs": [],
   "source": [
    "if mode == \"keep-all\":\n",
    "    keep_mask = pd.Series(True, index=org_train.index)\n",
    "\n",
    "# org_train contains the original feature columns from features_org (in Simson)\n",
    "# features_org contains unprocessed features, for me X_train at beginning ???\n",
    "# For keep-all, creates a boolean Series (keep_mask) of all True, so no rows are removed.\n",
    "\n",
    "elif mode == \"drop-non-german\":\n",
    "    keep_mask = org_train[\"maxdeutsch1\"] == 1 # ??? what about missing values?\n",
    "\n",
    "else:\n",
    "    raise ValueError(f\"Unsupported mode for exclude_subgroups: {mode}\")"
   ]
  },
  {
   "cell_type": "code",
   "execution_count": 27,
   "id": "71651440",
   "metadata": {
    "execution": {
     "iopub.execute_input": "2025-08-05T15:23:06.305310Z",
     "iopub.status.busy": "2025-08-05T15:23:06.304670Z",
     "iopub.status.idle": "2025-08-05T15:23:06.309946Z",
     "shell.execute_reply": "2025-08-05T15:23:06.309137Z"
    },
    "papermill": {
     "duration": 0.016614,
     "end_time": "2025-08-05T15:23:06.311282",
     "exception": false,
     "start_time": "2025-08-05T15:23:06.294668",
     "status": "completed"
    },
    "tags": []
   },
   "outputs": [],
   "source": [
    "n_drop = (~keep_mask).sum() # Calculates how many rows are set to be dropped\n",
    "if n_drop > 0:\n",
    "    pct = n_drop / len(keep_mask) * 100\n",
    "    print(f\"Dropping {n_drop} rows ({pct:.2f}%) where mode='{mode}'\")"
   ]
  },
  {
   "cell_type": "code",
   "execution_count": 28,
   "id": "5fb8eee5",
   "metadata": {
    "execution": {
     "iopub.execute_input": "2025-08-05T15:23:06.332522Z",
     "iopub.status.busy": "2025-08-05T15:23:06.332024Z",
     "iopub.status.idle": "2025-08-05T15:23:06.338744Z",
     "shell.execute_reply": "2025-08-05T15:23:06.337981Z"
    },
    "papermill": {
     "duration": 0.018478,
     "end_time": "2025-08-05T15:23:06.340121",
     "exception": false,
     "start_time": "2025-08-05T15:23:06.321643",
     "status": "completed"
    },
    "tags": []
   },
   "outputs": [],
   "source": [
    "X_train = X_train[keep_mask]"
   ]
  },
  {
   "cell_type": "code",
   "execution_count": 29,
   "id": "b202bb3a",
   "metadata": {
    "execution": {
     "iopub.execute_input": "2025-08-05T15:23:06.362225Z",
     "iopub.status.busy": "2025-08-05T15:23:06.361687Z",
     "iopub.status.idle": "2025-08-05T15:23:06.367297Z",
     "shell.execute_reply": "2025-08-05T15:23:06.366591Z"
    },
    "papermill": {
     "duration": 0.018131,
     "end_time": "2025-08-05T15:23:06.368642",
     "exception": false,
     "start_time": "2025-08-05T15:23:06.350511",
     "status": "completed"
    },
    "tags": []
   },
   "outputs": [],
   "source": [
    "y_train = y_train[keep_mask]"
   ]
  },
  {
   "cell_type": "markdown",
   "id": "493e2ac3",
   "metadata": {
    "papermill": {
     "duration": 0.009451,
     "end_time": "2025-08-05T15:23:06.388765",
     "exception": false,
     "start_time": "2025-08-05T15:23:06.379314",
     "status": "completed"
    },
    "tags": []
   },
   "source": [
    "# Model Training"
   ]
  },
  {
   "cell_type": "code",
   "execution_count": 30,
   "id": "679e1268",
   "metadata": {
    "execution": {
     "iopub.execute_input": "2025-08-05T15:23:06.409618Z",
     "iopub.status.busy": "2025-08-05T15:23:06.409087Z",
     "iopub.status.idle": "2025-08-05T15:23:06.484171Z",
     "shell.execute_reply": "2025-08-05T15:23:06.483433Z"
    },
    "papermill": {
     "duration": 0.087096,
     "end_time": "2025-08-05T15:23:06.485627",
     "exception": false,
     "start_time": "2025-08-05T15:23:06.398531",
     "status": "completed"
    },
    "tags": []
   },
   "outputs": [],
   "source": [
    "from sklearn.linear_model import LogisticRegression\n",
    "from sklearn.ensemble import GradientBoostingClassifier, RandomForestClassifier\n",
    "\n",
    "if (universe[\"model\"] == \"logreg\"):\n",
    "    model = LogisticRegression() #penalty=\"none\", solver=\"newton-cg\", max_iter=1) # include random_state=19 ?\n",
    "elif (universe[\"model\"] == \"penalized_logreg\"):\n",
    "    model = LogisticRegression(penalty=\"l2\", C=0.1) #, solver=\"newton-cg\", max_iter=1)\n",
    "elif (universe[\"model\"] == \"rf\"):\n",
    "    model = RandomForestClassifier() # n_estimators=100, n_jobs=-1\n",
    "elif (universe[\"model\"] == \"gbm\"):\n",
    "    model = GradientBoostingClassifier()\n",
    "elif (universe[\"model\"] == \"elasticnet\"):\n",
    "    model = LogisticRegression(penalty = 'elasticnet', solver = 'saga', l1_ratio = 0.5) # max_iter=5000\n",
    "else:\n",
    "    raise \"Unsupported universe.model\""
   ]
  },
  {
   "cell_type": "code",
   "execution_count": 31,
   "id": "0cc8f744",
   "metadata": {
    "execution": {
     "iopub.execute_input": "2025-08-05T15:23:06.506782Z",
     "iopub.status.busy": "2025-08-05T15:23:06.506055Z",
     "iopub.status.idle": "2025-08-05T15:23:06.511315Z",
     "shell.execute_reply": "2025-08-05T15:23:06.510587Z"
    },
    "papermill": {
     "duration": 0.016868,
     "end_time": "2025-08-05T15:23:06.512652",
     "exception": false,
     "start_time": "2025-08-05T15:23:06.495784",
     "status": "completed"
    },
    "tags": []
   },
   "outputs": [],
   "source": [
    "import numpy as np\n",
    "from sklearn.pipeline import Pipeline\n",
    "from sklearn.preprocessing import StandardScaler\n",
    "\n",
    "model = Pipeline([\n",
    "    #(\"continuous_processor\", continuous_processor),\n",
    "    #(\"categorical_preprocessor\", categorical_preprocessor),\n",
    "    (\"scale\", StandardScaler() if universe[\"scale\"] == \"scale\" else None), \n",
    "    (\"model\", model),\n",
    "])"
   ]
  },
  {
   "cell_type": "code",
   "execution_count": 32,
   "id": "9442c04d",
   "metadata": {
    "execution": {
     "iopub.execute_input": "2025-08-05T15:23:06.533419Z",
     "iopub.status.busy": "2025-08-05T15:23:06.532959Z",
     "iopub.status.idle": "2025-08-05T15:23:07.695715Z",
     "shell.execute_reply": "2025-08-05T15:23:07.694886Z"
    },
    "papermill": {
     "duration": 1.174392,
     "end_time": "2025-08-05T15:23:07.697208",
     "exception": false,
     "start_time": "2025-08-05T15:23:06.522816",
     "status": "completed"
    },
    "tags": []
   },
   "outputs": [
    {
     "data": {
      "text/html": [
       "<style>#sk-container-id-1 {color: black;background-color: white;}#sk-container-id-1 pre{padding: 0;}#sk-container-id-1 div.sk-toggleable {background-color: white;}#sk-container-id-1 label.sk-toggleable__label {cursor: pointer;display: block;width: 100%;margin-bottom: 0;padding: 0.3em;box-sizing: border-box;text-align: center;}#sk-container-id-1 label.sk-toggleable__label-arrow:before {content: \"▸\";float: left;margin-right: 0.25em;color: #696969;}#sk-container-id-1 label.sk-toggleable__label-arrow:hover:before {color: black;}#sk-container-id-1 div.sk-estimator:hover label.sk-toggleable__label-arrow:before {color: black;}#sk-container-id-1 div.sk-toggleable__content {max-height: 0;max-width: 0;overflow: hidden;text-align: left;background-color: #f0f8ff;}#sk-container-id-1 div.sk-toggleable__content pre {margin: 0.2em;color: black;border-radius: 0.25em;background-color: #f0f8ff;}#sk-container-id-1 input.sk-toggleable__control:checked~div.sk-toggleable__content {max-height: 200px;max-width: 100%;overflow: auto;}#sk-container-id-1 input.sk-toggleable__control:checked~label.sk-toggleable__label-arrow:before {content: \"▾\";}#sk-container-id-1 div.sk-estimator input.sk-toggleable__control:checked~label.sk-toggleable__label {background-color: #d4ebff;}#sk-container-id-1 div.sk-label input.sk-toggleable__control:checked~label.sk-toggleable__label {background-color: #d4ebff;}#sk-container-id-1 input.sk-hidden--visually {border: 0;clip: rect(1px 1px 1px 1px);clip: rect(1px, 1px, 1px, 1px);height: 1px;margin: -1px;overflow: hidden;padding: 0;position: absolute;width: 1px;}#sk-container-id-1 div.sk-estimator {font-family: monospace;background-color: #f0f8ff;border: 1px dotted black;border-radius: 0.25em;box-sizing: border-box;margin-bottom: 0.5em;}#sk-container-id-1 div.sk-estimator:hover {background-color: #d4ebff;}#sk-container-id-1 div.sk-parallel-item::after {content: \"\";width: 100%;border-bottom: 1px solid gray;flex-grow: 1;}#sk-container-id-1 div.sk-label:hover label.sk-toggleable__label {background-color: #d4ebff;}#sk-container-id-1 div.sk-serial::before {content: \"\";position: absolute;border-left: 1px solid gray;box-sizing: border-box;top: 0;bottom: 0;left: 50%;z-index: 0;}#sk-container-id-1 div.sk-serial {display: flex;flex-direction: column;align-items: center;background-color: white;padding-right: 0.2em;padding-left: 0.2em;position: relative;}#sk-container-id-1 div.sk-item {position: relative;z-index: 1;}#sk-container-id-1 div.sk-parallel {display: flex;align-items: stretch;justify-content: center;background-color: white;position: relative;}#sk-container-id-1 div.sk-item::before, #sk-container-id-1 div.sk-parallel-item::before {content: \"\";position: absolute;border-left: 1px solid gray;box-sizing: border-box;top: 0;bottom: 0;left: 50%;z-index: -1;}#sk-container-id-1 div.sk-parallel-item {display: flex;flex-direction: column;z-index: 1;position: relative;background-color: white;}#sk-container-id-1 div.sk-parallel-item:first-child::after {align-self: flex-end;width: 50%;}#sk-container-id-1 div.sk-parallel-item:last-child::after {align-self: flex-start;width: 50%;}#sk-container-id-1 div.sk-parallel-item:only-child::after {width: 0;}#sk-container-id-1 div.sk-dashed-wrapped {border: 1px dashed gray;margin: 0 0.4em 0.5em 0.4em;box-sizing: border-box;padding-bottom: 0.4em;background-color: white;}#sk-container-id-1 div.sk-label label {font-family: monospace;font-weight: bold;display: inline-block;line-height: 1.2em;}#sk-container-id-1 div.sk-label-container {text-align: center;}#sk-container-id-1 div.sk-container {/* jupyter's `normalize.less` sets `[hidden] { display: none; }` but bootstrap.min.css set `[hidden] { display: none !important; }` so we also need the `!important` here to be able to override the default hidden behavior on the sphinx rendered scikit-learn.org. See: https://github.com/scikit-learn/scikit-learn/issues/21755 */display: inline-block !important;position: relative;}#sk-container-id-1 div.sk-text-repr-fallback {display: none;}</style><div id=\"sk-container-id-1\" class=\"sk-top-container\"><div class=\"sk-text-repr-fallback\"><pre>Pipeline(steps=[(&#x27;scale&#x27;, StandardScaler()),\n",
       "                (&#x27;model&#x27;, RandomForestClassifier())])</pre><b>In a Jupyter environment, please rerun this cell to show the HTML representation or trust the notebook. <br />On GitHub, the HTML representation is unable to render, please try loading this page with nbviewer.org.</b></div><div class=\"sk-container\" hidden><div class=\"sk-item sk-dashed-wrapped\"><div class=\"sk-label-container\"><div class=\"sk-label sk-toggleable\"><input class=\"sk-toggleable__control sk-hidden--visually\" id=\"sk-estimator-id-1\" type=\"checkbox\" ><label for=\"sk-estimator-id-1\" class=\"sk-toggleable__label sk-toggleable__label-arrow\">Pipeline</label><div class=\"sk-toggleable__content\"><pre>Pipeline(steps=[(&#x27;scale&#x27;, StandardScaler()),\n",
       "                (&#x27;model&#x27;, RandomForestClassifier())])</pre></div></div></div><div class=\"sk-serial\"><div class=\"sk-item\"><div class=\"sk-estimator sk-toggleable\"><input class=\"sk-toggleable__control sk-hidden--visually\" id=\"sk-estimator-id-2\" type=\"checkbox\" ><label for=\"sk-estimator-id-2\" class=\"sk-toggleable__label sk-toggleable__label-arrow\">StandardScaler</label><div class=\"sk-toggleable__content\"><pre>StandardScaler()</pre></div></div></div><div class=\"sk-item\"><div class=\"sk-estimator sk-toggleable\"><input class=\"sk-toggleable__control sk-hidden--visually\" id=\"sk-estimator-id-3\" type=\"checkbox\" ><label for=\"sk-estimator-id-3\" class=\"sk-toggleable__label sk-toggleable__label-arrow\">RandomForestClassifier</label><div class=\"sk-toggleable__content\"><pre>RandomForestClassifier()</pre></div></div></div></div></div></div></div>"
      ],
      "text/plain": [
       "Pipeline(steps=[('scale', StandardScaler()),\n",
       "                ('model', RandomForestClassifier())])"
      ]
     },
     "execution_count": 32,
     "metadata": {},
     "output_type": "execute_result"
    }
   ],
   "source": [
    "model.fit(X_train, y_train.values.ravel())"
   ]
  },
  {
   "cell_type": "code",
   "execution_count": 33,
   "id": "af59f8c0",
   "metadata": {
    "execution": {
     "iopub.execute_input": "2025-08-05T15:23:07.734983Z",
     "iopub.status.busy": "2025-08-05T15:23:07.734086Z",
     "iopub.status.idle": "2025-08-05T15:23:07.739510Z",
     "shell.execute_reply": "2025-08-05T15:23:07.738675Z"
    },
    "papermill": {
     "duration": 0.025652,
     "end_time": "2025-08-05T15:23:07.741116",
     "exception": false,
     "start_time": "2025-08-05T15:23:07.715464",
     "status": "completed"
    },
    "tags": []
   },
   "outputs": [],
   "source": [
    "from fairness_multiverse.universe import predict_w_threshold"
   ]
  },
  {
   "cell_type": "code",
   "execution_count": 34,
   "id": "a7cf2e16",
   "metadata": {
    "execution": {
     "iopub.execute_input": "2025-08-05T15:23:07.778099Z",
     "iopub.status.busy": "2025-08-05T15:23:07.777378Z",
     "iopub.status.idle": "2025-08-05T15:23:10.334764Z",
     "shell.execute_reply": "2025-08-05T15:23:10.333855Z"
    },
    "papermill": {
     "duration": 2.57691,
     "end_time": "2025-08-05T15:23:10.336381",
     "exception": false,
     "start_time": "2025-08-05T15:23:07.759471",
     "status": "completed"
    },
    "tags": []
   },
   "outputs": [
    {
     "data": {
      "text/plain": [
       "0.8640619774830007"
      ]
     },
     "execution_count": 34,
     "metadata": {},
     "output_type": "execute_result"
    }
   ],
   "source": [
    "probs_test = model.predict_proba(X_test)\n",
    "\n",
    "'''\n",
    "Below code returns a boolean array (or binary 0/1 array depending on how it’s used) where each element \n",
    "is True if the probability of class 1 is greater than or equal to the threshold, and False otherwise.\n",
    "'''\n",
    "y_pred_default = predict_w_threshold(probs_test, 0.5)\n",
    "\n",
    "from sklearn.metrics import accuracy_score\n",
    "\n",
    "# Naive prediction\n",
    "accuracy_score(y_true = y_true, y_pred = y_pred_default)"
   ]
  },
  {
   "cell_type": "code",
   "execution_count": 35,
   "id": "081964c3",
   "metadata": {
    "execution": {
     "iopub.execute_input": "2025-08-05T15:23:10.378521Z",
     "iopub.status.busy": "2025-08-05T15:23:10.377769Z",
     "iopub.status.idle": "2025-08-05T15:23:12.871013Z",
     "shell.execute_reply": "2025-08-05T15:23:12.870083Z"
    },
    "papermill": {
     "duration": 2.515496,
     "end_time": "2025-08-05T15:23:12.872596",
     "exception": false,
     "start_time": "2025-08-05T15:23:10.357100",
     "status": "completed"
    },
    "tags": []
   },
   "outputs": [
    {
     "data": {
      "text/plain": [
       "array([0, 0, 0, ..., 0, 0, 0])"
      ]
     },
     "execution_count": 35,
     "metadata": {},
     "output_type": "execute_result"
    }
   ],
   "source": [
    "model.predict(X_test)"
   ]
  },
  {
   "cell_type": "markdown",
   "id": "56c9705b",
   "metadata": {
    "papermill": {
     "duration": 0.01988,
     "end_time": "2025-08-05T15:23:12.914456",
     "exception": false,
     "start_time": "2025-08-05T15:23:12.894576",
     "status": "completed"
    },
    "tags": []
   },
   "source": [
    "# Conformal Prediction"
   ]
  },
  {
   "cell_type": "code",
   "execution_count": 36,
   "id": "160ec6ff",
   "metadata": {
    "execution": {
     "iopub.execute_input": "2025-08-05T15:23:12.957332Z",
     "iopub.status.busy": "2025-08-05T15:23:12.956670Z",
     "iopub.status.idle": "2025-08-05T15:23:12.962067Z",
     "shell.execute_reply": "2025-08-05T15:23:12.961022Z"
    },
    "papermill": {
     "duration": 0.029754,
     "end_time": "2025-08-05T15:23:12.963761",
     "exception": false,
     "start_time": "2025-08-05T15:23:12.934007",
     "status": "completed"
    },
    "tags": []
   },
   "outputs": [],
   "source": [
    "# Miscoverage level for conformal prediction (10% allowed error rate => 90% target coverage)\n",
    "alpha = 0.1"
   ]
  },
  {
   "cell_type": "code",
   "execution_count": 37,
   "id": "eadf4555-3dd3-440e-8e35-f82a4ad9f855",
   "metadata": {
    "execution": {
     "iopub.execute_input": "2025-08-05T15:23:13.007471Z",
     "iopub.status.busy": "2025-08-05T15:23:13.006827Z",
     "iopub.status.idle": "2025-08-05T15:23:15.416849Z",
     "shell.execute_reply": "2025-08-05T15:23:15.415718Z"
    },
    "papermill": {
     "duration": 2.435013,
     "end_time": "2025-08-05T15:23:15.419061",
     "exception": false,
     "start_time": "2025-08-05T15:23:12.984048",
     "status": "completed"
    },
    "tags": []
   },
   "outputs": [],
   "source": [
    "probs_calib = model.predict_proba(X_calib)"
   ]
  },
  {
   "cell_type": "code",
   "execution_count": 38,
   "id": "2ed93547-6d5d-4983-9b36-1ecb300da49a",
   "metadata": {
    "execution": {
     "iopub.execute_input": "2025-08-05T15:23:15.466862Z",
     "iopub.status.busy": "2025-08-05T15:23:15.466130Z",
     "iopub.status.idle": "2025-08-05T15:23:15.472501Z",
     "shell.execute_reply": "2025-08-05T15:23:15.471346Z"
    },
    "papermill": {
     "duration": 0.0311,
     "end_time": "2025-08-05T15:23:15.474394",
     "exception": false,
     "start_time": "2025-08-05T15:23:15.443294",
     "status": "completed"
    },
    "tags": []
   },
   "outputs": [],
   "source": [
    "y_calib = y_calib.values.ravel().astype(int)"
   ]
  },
  {
   "cell_type": "code",
   "execution_count": 39,
   "id": "65d1320d-f588-4b38-9072-62af1ae97f7d",
   "metadata": {
    "execution": {
     "iopub.execute_input": "2025-08-05T15:23:15.519342Z",
     "iopub.status.busy": "2025-08-05T15:23:15.518501Z",
     "iopub.status.idle": "2025-08-05T15:23:15.526073Z",
     "shell.execute_reply": "2025-08-05T15:23:15.525072Z"
    },
    "papermill": {
     "duration": 0.031252,
     "end_time": "2025-08-05T15:23:15.527734",
     "exception": false,
     "start_time": "2025-08-05T15:23:15.496482",
     "status": "completed"
    },
    "tags": []
   },
   "outputs": [],
   "source": [
    "from fairness_multiverse.conformal import compute_nc_scores\n",
    "\n",
    "# Compute nonconformity scores on calibration set (1 - probability of true class)\n",
    "nc_scores = compute_nc_scores(probs_calib, y_calib)"
   ]
  },
  {
   "cell_type": "code",
   "execution_count": 40,
   "id": "df3b8ca3-53b7-43d5-9667-7c85da7aeda2",
   "metadata": {
    "execution": {
     "iopub.execute_input": "2025-08-05T15:23:15.575306Z",
     "iopub.status.busy": "2025-08-05T15:23:15.574240Z",
     "iopub.status.idle": "2025-08-05T15:23:15.585633Z",
     "shell.execute_reply": "2025-08-05T15:23:15.584401Z"
    },
    "papermill": {
     "duration": 0.037987,
     "end_time": "2025-08-05T15:23:15.587686",
     "exception": false,
     "start_time": "2025-08-05T15:23:15.549699",
     "status": "completed"
    },
    "tags": []
   },
   "outputs": [],
   "source": [
    "from fairness_multiverse.conformal import find_threshold\n",
    "\n",
    "# Find conformal threshold q_hat for the given alpha (split conformal method)\n",
    "q_hat = find_threshold(nc_scores, alpha)"
   ]
  },
  {
   "cell_type": "code",
   "execution_count": 41,
   "id": "4d29e6c1-0ef6-4aa4-b8fe-4fe79b0d033a",
   "metadata": {
    "execution": {
     "iopub.execute_input": "2025-08-05T15:23:15.633845Z",
     "iopub.status.busy": "2025-08-05T15:23:15.633371Z",
     "iopub.status.idle": "2025-08-05T15:23:15.641088Z",
     "shell.execute_reply": "2025-08-05T15:23:15.639921Z"
    },
    "papermill": {
     "duration": 0.032482,
     "end_time": "2025-08-05T15:23:15.643096",
     "exception": false,
     "start_time": "2025-08-05T15:23:15.610614",
     "status": "completed"
    },
    "tags": []
   },
   "outputs": [
    {
     "data": {
      "text/plain": [
       "0.6599999999999999"
      ]
     },
     "execution_count": 41,
     "metadata": {},
     "output_type": "execute_result"
    }
   ],
   "source": [
    "q_hat"
   ]
  },
  {
   "cell_type": "code",
   "execution_count": 42,
   "id": "92460794-cdac-4be2-ba28-f28c0515a6fb",
   "metadata": {
    "execution": {
     "iopub.execute_input": "2025-08-05T15:23:15.676047Z",
     "iopub.status.busy": "2025-08-05T15:23:15.675385Z",
     "iopub.status.idle": "2025-08-05T15:23:18.833679Z",
     "shell.execute_reply": "2025-08-05T15:23:18.832666Z"
    },
    "papermill": {
     "duration": 3.173721,
     "end_time": "2025-08-05T15:23:18.835615",
     "exception": false,
     "start_time": "2025-08-05T15:23:15.661894",
     "status": "completed"
    },
    "tags": []
   },
   "outputs": [],
   "source": [
    "from fairness_multiverse.conformal import predict_conformal_sets\n",
    "\n",
    "# Generate prediction sets for each test example\n",
    "pred_sets = predict_conformal_sets(model, X_test, q_hat)"
   ]
  },
  {
   "cell_type": "code",
   "execution_count": 43,
   "id": "d90c9a65-e6db-4f5d-80cd-e68fb7e46829",
   "metadata": {
    "execution": {
     "iopub.execute_input": "2025-08-05T15:23:18.878482Z",
     "iopub.status.busy": "2025-08-05T15:23:18.878112Z",
     "iopub.status.idle": "2025-08-05T15:23:18.883057Z",
     "shell.execute_reply": "2025-08-05T15:23:18.882256Z"
    },
    "papermill": {
     "duration": 0.018095,
     "end_time": "2025-08-05T15:23:18.884578",
     "exception": false,
     "start_time": "2025-08-05T15:23:18.866483",
     "status": "completed"
    },
    "tags": []
   },
   "outputs": [],
   "source": [
    "y_true = y_true.squeeze()"
   ]
  },
  {
   "cell_type": "code",
   "execution_count": 44,
   "id": "3a58a54a-1e68-46b9-927a-df01f18aebc8",
   "metadata": {
    "execution": {
     "iopub.execute_input": "2025-08-05T15:23:18.912534Z",
     "iopub.status.busy": "2025-08-05T15:23:18.911670Z",
     "iopub.status.idle": "2025-08-05T15:23:19.483079Z",
     "shell.execute_reply": "2025-08-05T15:23:19.482284Z"
    },
    "papermill": {
     "duration": 0.588203,
     "end_time": "2025-08-05T15:23:19.484492",
     "exception": false,
     "start_time": "2025-08-05T15:23:18.896289",
     "status": "completed"
    },
    "tags": []
   },
   "outputs": [],
   "source": [
    "from fairness_multiverse.conformal import evaluate_sets\n",
    "\n",
    "# Evaluate coverage and average set size on test data\n",
    "metrics = evaluate_sets(pred_sets, y_true)"
   ]
  },
  {
   "cell_type": "markdown",
   "id": "2b569c12-9aaa-4c88-98c9-bbcd0cf3ebb8",
   "metadata": {
    "papermill": {
     "duration": 0.01019,
     "end_time": "2025-08-05T15:23:19.505959",
     "exception": false,
     "start_time": "2025-08-05T15:23:19.495769",
     "status": "completed"
    },
    "tags": []
   },
   "source": [
    "# CP Metrics"
   ]
  },
  {
   "cell_type": "code",
   "execution_count": 45,
   "id": "5ce0a5cb-201f-45a0-ade5-94c7f0bd6095",
   "metadata": {
    "execution": {
     "iopub.execute_input": "2025-08-05T15:23:19.528086Z",
     "iopub.status.busy": "2025-08-05T15:23:19.527432Z",
     "iopub.status.idle": "2025-08-05T15:23:19.533511Z",
     "shell.execute_reply": "2025-08-05T15:23:19.532732Z"
    },
    "papermill": {
     "duration": 0.018768,
     "end_time": "2025-08-05T15:23:19.535059",
     "exception": false,
     "start_time": "2025-08-05T15:23:19.516291",
     "status": "completed"
    },
    "tags": []
   },
   "outputs": [
    {
     "data": {
      "text/plain": [
       "{'coverage': 0.913287258945491, 'avg_size': 1.1442537063872478}"
      ]
     },
     "execution_count": 45,
     "metadata": {},
     "output_type": "execute_result"
    }
   ],
   "source": [
    "metrics"
   ]
  },
  {
   "cell_type": "code",
   "execution_count": 46,
   "id": "9b9a838d-31c9-430b-ae14-12baee460d17",
   "metadata": {
    "execution": {
     "iopub.execute_input": "2025-08-05T15:23:19.557551Z",
     "iopub.status.busy": "2025-08-05T15:23:19.557042Z",
     "iopub.status.idle": "2025-08-05T15:23:19.562562Z",
     "shell.execute_reply": "2025-08-05T15:23:19.561301Z"
    },
    "papermill": {
     "duration": 0.018414,
     "end_time": "2025-08-05T15:23:19.564533",
     "exception": false,
     "start_time": "2025-08-05T15:23:19.546119",
     "status": "completed"
    },
    "tags": []
   },
   "outputs": [],
   "source": [
    "example_universe = universe.copy()\n",
    "universe_training_year = example_universe.get(\"training_year\")\n",
    "universe_training_size = example_universe.get(\"training_size\")\n",
    "universe_scale = example_universe.get(\"scale\")\n",
    "universe_model = example_universe.get(\"model\")\n",
    "universe_exclude_features = example_universe.get(\"exclude_features\")\n",
    "universe_exclude_subgroups = example_universe.get(\"exclude_subgroups\")"
   ]
  },
  {
   "cell_type": "code",
   "execution_count": 47,
   "id": "f4b6a8ac-9dc0-4245-8a91-5b3b5999c4f9",
   "metadata": {
    "execution": {
     "iopub.execute_input": "2025-08-05T15:23:19.611731Z",
     "iopub.status.busy": "2025-08-05T15:23:19.611127Z",
     "iopub.status.idle": "2025-08-05T15:23:19.617925Z",
     "shell.execute_reply": "2025-08-05T15:23:19.616849Z"
    },
    "papermill": {
     "duration": 0.031875,
     "end_time": "2025-08-05T15:23:19.619767",
     "exception": false,
     "start_time": "2025-08-05T15:23:19.587892",
     "status": "completed"
    },
    "tags": []
   },
   "outputs": [],
   "source": [
    "cp_metrics_dict = {\n",
    "    \"universe_id\": [universe_id],\n",
    "    \"universe_training_year\": [universe_training_year],\n",
    "    \"universe_training_size\": [universe_training_size],\n",
    "    \"universe_scale\": [universe_scale],\n",
    "    \"universe_model\": [universe_model],\n",
    "    \"universe_exclude_features\": [universe_exclude_features],\n",
    "    \"universe_exclude_subgroups\": [universe_exclude_subgroups],\n",
    "    \"q_hat\": [q_hat],\n",
    "    \"coverage\": [metrics[\"coverage\"]],\n",
    "    \"avg_size\": [metrics[\"avg_size\"]],\n",
    "}"
   ]
  },
  {
   "cell_type": "code",
   "execution_count": 48,
   "id": "908acbb1-0371-4915-85ca-3fa520d2efe2",
   "metadata": {
    "execution": {
     "iopub.execute_input": "2025-08-05T15:23:19.666044Z",
     "iopub.status.busy": "2025-08-05T15:23:19.665227Z",
     "iopub.status.idle": "2025-08-05T15:23:19.673572Z",
     "shell.execute_reply": "2025-08-05T15:23:19.672430Z"
    },
    "papermill": {
     "duration": 0.03385,
     "end_time": "2025-08-05T15:23:19.675772",
     "exception": false,
     "start_time": "2025-08-05T15:23:19.641922",
     "status": "completed"
    },
    "tags": []
   },
   "outputs": [
    {
     "data": {
      "text/plain": [
       "{'universe_id': ['bae434ac5be93c7a0b238e0bd471e9f9'],\n",
       " 'universe_training_year': ['2014'],\n",
       " 'universe_training_size': ['5k'],\n",
       " 'universe_scale': ['scale'],\n",
       " 'universe_model': ['rf'],\n",
       " 'universe_exclude_features': ['nationality'],\n",
       " 'universe_exclude_subgroups': ['keep-all'],\n",
       " 'q_hat': [0.6599999999999999],\n",
       " 'coverage': [0.913287258945491],\n",
       " 'avg_size': [1.1442537063872478]}"
      ]
     },
     "execution_count": 48,
     "metadata": {},
     "output_type": "execute_result"
    }
   ],
   "source": [
    "cp_metrics_dict"
   ]
  },
  {
   "cell_type": "code",
   "execution_count": 49,
   "id": "33007efc-14e9-4ec6-97ac-56a455c82265",
   "metadata": {
    "execution": {
     "iopub.execute_input": "2025-08-05T15:23:19.722220Z",
     "iopub.status.busy": "2025-08-05T15:23:19.721447Z",
     "iopub.status.idle": "2025-08-05T15:23:19.727851Z",
     "shell.execute_reply": "2025-08-05T15:23:19.726812Z"
    },
    "papermill": {
     "duration": 0.031845,
     "end_time": "2025-08-05T15:23:19.729920",
     "exception": false,
     "start_time": "2025-08-05T15:23:19.698075",
     "status": "completed"
    },
    "tags": []
   },
   "outputs": [],
   "source": [
    "cp_metrics_df = pd.DataFrame(cp_metrics_dict)"
   ]
  },
  {
   "cell_type": "code",
   "execution_count": 50,
   "id": "db12611b-57b2-4910-b9d0-355adfd6e7bf",
   "metadata": {
    "execution": {
     "iopub.execute_input": "2025-08-05T15:23:19.778940Z",
     "iopub.status.busy": "2025-08-05T15:23:19.778025Z",
     "iopub.status.idle": "2025-08-05T15:23:19.799298Z",
     "shell.execute_reply": "2025-08-05T15:23:19.798275Z"
    },
    "papermill": {
     "duration": 0.047047,
     "end_time": "2025-08-05T15:23:19.801123",
     "exception": false,
     "start_time": "2025-08-05T15:23:19.754076",
     "status": "completed"
    },
    "tags": []
   },
   "outputs": [
    {
     "data": {
      "text/html": [
       "<div>\n",
       "<style scoped>\n",
       "    .dataframe tbody tr th:only-of-type {\n",
       "        vertical-align: middle;\n",
       "    }\n",
       "\n",
       "    .dataframe tbody tr th {\n",
       "        vertical-align: top;\n",
       "    }\n",
       "\n",
       "    .dataframe thead th {\n",
       "        text-align: right;\n",
       "    }\n",
       "</style>\n",
       "<table border=\"1\" class=\"dataframe\">\n",
       "  <thead>\n",
       "    <tr style=\"text-align: right;\">\n",
       "      <th></th>\n",
       "      <th>universe_id</th>\n",
       "      <th>universe_training_year</th>\n",
       "      <th>universe_training_size</th>\n",
       "      <th>universe_scale</th>\n",
       "      <th>universe_model</th>\n",
       "      <th>universe_exclude_features</th>\n",
       "      <th>universe_exclude_subgroups</th>\n",
       "      <th>q_hat</th>\n",
       "      <th>coverage</th>\n",
       "      <th>avg_size</th>\n",
       "    </tr>\n",
       "  </thead>\n",
       "  <tbody>\n",
       "    <tr>\n",
       "      <th>0</th>\n",
       "      <td>bae434ac5be93c7a0b238e0bd471e9f9</td>\n",
       "      <td>2014</td>\n",
       "      <td>5k</td>\n",
       "      <td>scale</td>\n",
       "      <td>rf</td>\n",
       "      <td>nationality</td>\n",
       "      <td>keep-all</td>\n",
       "      <td>0.66</td>\n",
       "      <td>0.913287</td>\n",
       "      <td>1.144254</td>\n",
       "    </tr>\n",
       "  </tbody>\n",
       "</table>\n",
       "</div>"
      ],
      "text/plain": [
       "                        universe_id universe_training_year  \\\n",
       "0  bae434ac5be93c7a0b238e0bd471e9f9                   2014   \n",
       "\n",
       "  universe_training_size universe_scale universe_model  \\\n",
       "0                     5k          scale             rf   \n",
       "\n",
       "  universe_exclude_features universe_exclude_subgroups  q_hat  coverage  \\\n",
       "0               nationality                   keep-all   0.66  0.913287   \n",
       "\n",
       "   avg_size  \n",
       "0  1.144254  "
      ]
     },
     "execution_count": 50,
     "metadata": {},
     "output_type": "execute_result"
    }
   ],
   "source": [
    "cp_metrics_df"
   ]
  },
  {
   "cell_type": "code",
   "execution_count": 51,
   "id": "b7fbde55-a0a1-47e4-9af6-fe4a17fa8c61",
   "metadata": {
    "execution": {
     "iopub.execute_input": "2025-08-05T15:23:19.848547Z",
     "iopub.status.busy": "2025-08-05T15:23:19.848095Z",
     "iopub.status.idle": "2025-08-05T15:23:19.853523Z",
     "shell.execute_reply": "2025-08-05T15:23:19.852474Z"
    },
    "papermill": {
     "duration": 0.031164,
     "end_time": "2025-08-05T15:23:19.855754",
     "exception": false,
     "start_time": "2025-08-05T15:23:19.824590",
     "status": "completed"
    },
    "tags": []
   },
   "outputs": [],
   "source": [
    "# Conditional Coverage & looking at subgroups"
   ]
  },
  {
   "cell_type": "code",
   "execution_count": 52,
   "id": "027ae886-68dd-4141-96c7-805a5450e1ef",
   "metadata": {
    "execution": {
     "iopub.execute_input": "2025-08-05T15:23:19.905237Z",
     "iopub.status.busy": "2025-08-05T15:23:19.904400Z",
     "iopub.status.idle": "2025-08-05T15:23:20.158131Z",
     "shell.execute_reply": "2025-08-05T15:23:20.157167Z"
    },
    "papermill": {
     "duration": 0.279998,
     "end_time": "2025-08-05T15:23:20.159717",
     "exception": false,
     "start_time": "2025-08-05T15:23:19.879719",
     "status": "completed"
    },
    "tags": []
   },
   "outputs": [],
   "source": [
    "from fairness_multiverse.conformal import build_cp_groups\n",
    "\n",
    "cp_groups_df = build_cp_groups(pred_sets, y_true, X_test.index, org_test)\n",
    "#needs universe_id and setting"
   ]
  },
  {
   "cell_type": "code",
   "execution_count": 53,
   "id": "6cbdab96-b2b2-45af-ad54-d0516db2e28d",
   "metadata": {
    "execution": {
     "iopub.execute_input": "2025-08-05T15:23:20.183013Z",
     "iopub.status.busy": "2025-08-05T15:23:20.182711Z",
     "iopub.status.idle": "2025-08-05T15:23:21.668546Z",
     "shell.execute_reply": "2025-08-05T15:23:21.667763Z"
    },
    "papermill": {
     "duration": 1.498862,
     "end_time": "2025-08-05T15:23:21.670064",
     "exception": false,
     "start_time": "2025-08-05T15:23:20.171202",
     "status": "completed"
    },
    "tags": []
   },
   "outputs": [],
   "source": [
    "# Define covered = 1 if true_label is in the predicted set\n",
    "cp_groups_df['covered'] = cp_groups_df.apply(\n",
    "    lambda r: int(r['true_label'] in r['pred_set']),\n",
    "    axis=1\n",
    ")"
   ]
  },
  {
   "cell_type": "code",
   "execution_count": 54,
   "id": "338ff529-1a6b-4b87-a931-8e4788d52aad",
   "metadata": {
    "execution": {
     "iopub.execute_input": "2025-08-05T15:23:21.694233Z",
     "iopub.status.busy": "2025-08-05T15:23:21.693832Z",
     "iopub.status.idle": "2025-08-05T15:23:21.698938Z",
     "shell.execute_reply": "2025-08-05T15:23:21.697879Z"
    },
    "papermill": {
     "duration": 0.01898,
     "end_time": "2025-08-05T15:23:21.701001",
     "exception": false,
     "start_time": "2025-08-05T15:23:21.682021",
     "status": "completed"
    },
    "tags": []
   },
   "outputs": [],
   "source": [
    "#cp_groups_df"
   ]
  },
  {
   "cell_type": "code",
   "execution_count": 55,
   "id": "90032e27-66df-4540-9169-4e89cfbaa758",
   "metadata": {
    "execution": {
     "iopub.execute_input": "2025-08-05T15:23:21.752103Z",
     "iopub.status.busy": "2025-08-05T15:23:21.751660Z",
     "iopub.status.idle": "2025-08-05T15:23:21.763992Z",
     "shell.execute_reply": "2025-08-05T15:23:21.762830Z"
    },
    "papermill": {
     "duration": 0.040143,
     "end_time": "2025-08-05T15:23:21.765978",
     "exception": false,
     "start_time": "2025-08-05T15:23:21.725835",
     "status": "completed"
    },
    "tags": []
   },
   "outputs": [],
   "source": [
    "subgroups = ['frau1','nongerman','nongerman_male','nongerman_female']\n",
    "\n",
    "# Conditional coverage for subgroup==1\n",
    "cond_coverage = {\n",
    "    g: cp_groups_df.loc[cp_groups_df[g]==1, 'covered'].mean()\n",
    "    for g in subgroups\n",
    "}"
   ]
  },
  {
   "cell_type": "code",
   "execution_count": 56,
   "id": "1e348fb1-b9c3-45bc-ba23-f016827a7e0d",
   "metadata": {
    "execution": {
     "iopub.execute_input": "2025-08-05T15:23:21.817982Z",
     "iopub.status.busy": "2025-08-05T15:23:21.816983Z",
     "iopub.status.idle": "2025-08-05T15:23:21.825025Z",
     "shell.execute_reply": "2025-08-05T15:23:21.823855Z"
    },
    "papermill": {
     "duration": 0.035715,
     "end_time": "2025-08-05T15:23:21.826895",
     "exception": false,
     "start_time": "2025-08-05T15:23:21.791180",
     "status": "completed"
    },
    "tags": []
   },
   "outputs": [
    {
     "data": {
      "text/plain": [
       "{'frau1': 0.9129801860088961,\n",
       " 'nongerman': 0.9057991354628642,\n",
       " 'nongerman_male': 0.91749977483563,\n",
       " 'nongerman_female': 0.8864381520119226}"
      ]
     },
     "execution_count": 56,
     "metadata": {},
     "output_type": "execute_result"
    }
   ],
   "source": [
    "cond_coverage"
   ]
  },
  {
   "cell_type": "code",
   "execution_count": 57,
   "id": "f5093324-c3dd-4d63-bc4c-8d945e5c8bbb",
   "metadata": {
    "execution": {
     "iopub.execute_input": "2025-08-05T15:23:21.878787Z",
     "iopub.status.busy": "2025-08-05T15:23:21.877811Z",
     "iopub.status.idle": "2025-08-05T15:23:21.885365Z",
     "shell.execute_reply": "2025-08-05T15:23:21.884275Z"
    },
    "papermill": {
     "duration": 0.035507,
     "end_time": "2025-08-05T15:23:21.887246",
     "exception": false,
     "start_time": "2025-08-05T15:23:21.851739",
     "status": "completed"
    },
    "tags": []
   },
   "outputs": [],
   "source": [
    "for subgroup, cov in cond_coverage.items():\n",
    "    cp_metrics_df[f\"cov_{subgroup}\"] = cov"
   ]
  },
  {
   "cell_type": "code",
   "execution_count": 58,
   "id": "6e872e10-dbe5-49e8-b554-5030c98ff75d",
   "metadata": {
    "execution": {
     "iopub.execute_input": "2025-08-05T15:23:21.935286Z",
     "iopub.status.busy": "2025-08-05T15:23:21.934594Z",
     "iopub.status.idle": "2025-08-05T15:23:21.956056Z",
     "shell.execute_reply": "2025-08-05T15:23:21.954734Z"
    },
    "papermill": {
     "duration": 0.047184,
     "end_time": "2025-08-05T15:23:21.957911",
     "exception": false,
     "start_time": "2025-08-05T15:23:21.910727",
     "status": "completed"
    },
    "tags": []
   },
   "outputs": [
    {
     "data": {
      "text/html": [
       "<div>\n",
       "<style scoped>\n",
       "    .dataframe tbody tr th:only-of-type {\n",
       "        vertical-align: middle;\n",
       "    }\n",
       "\n",
       "    .dataframe tbody tr th {\n",
       "        vertical-align: top;\n",
       "    }\n",
       "\n",
       "    .dataframe thead th {\n",
       "        text-align: right;\n",
       "    }\n",
       "</style>\n",
       "<table border=\"1\" class=\"dataframe\">\n",
       "  <thead>\n",
       "    <tr style=\"text-align: right;\">\n",
       "      <th></th>\n",
       "      <th>universe_id</th>\n",
       "      <th>universe_training_year</th>\n",
       "      <th>universe_training_size</th>\n",
       "      <th>universe_scale</th>\n",
       "      <th>universe_model</th>\n",
       "      <th>universe_exclude_features</th>\n",
       "      <th>universe_exclude_subgroups</th>\n",
       "      <th>q_hat</th>\n",
       "      <th>coverage</th>\n",
       "      <th>avg_size</th>\n",
       "      <th>cov_frau1</th>\n",
       "      <th>cov_nongerman</th>\n",
       "      <th>cov_nongerman_male</th>\n",
       "      <th>cov_nongerman_female</th>\n",
       "    </tr>\n",
       "  </thead>\n",
       "  <tbody>\n",
       "    <tr>\n",
       "      <th>0</th>\n",
       "      <td>bae434ac5be93c7a0b238e0bd471e9f9</td>\n",
       "      <td>2014</td>\n",
       "      <td>5k</td>\n",
       "      <td>scale</td>\n",
       "      <td>rf</td>\n",
       "      <td>nationality</td>\n",
       "      <td>keep-all</td>\n",
       "      <td>0.66</td>\n",
       "      <td>0.913287</td>\n",
       "      <td>1.144254</td>\n",
       "      <td>0.91298</td>\n",
       "      <td>0.905799</td>\n",
       "      <td>0.9175</td>\n",
       "      <td>0.886438</td>\n",
       "    </tr>\n",
       "  </tbody>\n",
       "</table>\n",
       "</div>"
      ],
      "text/plain": [
       "                        universe_id universe_training_year  \\\n",
       "0  bae434ac5be93c7a0b238e0bd471e9f9                   2014   \n",
       "\n",
       "  universe_training_size universe_scale universe_model  \\\n",
       "0                     5k          scale             rf   \n",
       "\n",
       "  universe_exclude_features universe_exclude_subgroups  q_hat  coverage  \\\n",
       "0               nationality                   keep-all   0.66  0.913287   \n",
       "\n",
       "   avg_size  cov_frau1  cov_nongerman  cov_nongerman_male  \\\n",
       "0  1.144254    0.91298       0.905799              0.9175   \n",
       "\n",
       "   cov_nongerman_female  \n",
       "0              0.886438  "
      ]
     },
     "execution_count": 58,
     "metadata": {},
     "output_type": "execute_result"
    }
   ],
   "source": [
    "cp_metrics_df"
   ]
  },
  {
   "cell_type": "markdown",
   "id": "33774451",
   "metadata": {
    "papermill": {
     "duration": 0.023212,
     "end_time": "2025-08-05T15:23:22.004974",
     "exception": false,
     "start_time": "2025-08-05T15:23:21.981762",
     "status": "completed"
    },
    "tags": []
   },
   "source": [
    "# (Fairness) Metrics"
   ]
  },
  {
   "cell_type": "code",
   "execution_count": 59,
   "id": "debc5d62",
   "metadata": {
    "execution": {
     "iopub.execute_input": "2025-08-05T15:23:22.054260Z",
     "iopub.status.busy": "2025-08-05T15:23:22.053306Z",
     "iopub.status.idle": "2025-08-05T15:23:22.075452Z",
     "shell.execute_reply": "2025-08-05T15:23:22.074506Z"
    },
    "papermill": {
     "duration": 0.048827,
     "end_time": "2025-08-05T15:23:22.077150",
     "exception": false,
     "start_time": "2025-08-05T15:23:22.028323",
     "status": "completed"
    },
    "tags": []
   },
   "outputs": [],
   "source": [
    "# do I need to include maxdeutsch1.missing?\n",
    "\n",
    "import numpy as np\n",
    "\n",
    "colname_to_bin = \"maxdeutsch1\"\n",
    "majority_value = org_train[colname_to_bin].mode()[0]\n",
    "\n",
    "org_test[\"majmin\"] = np.where(org_test[colname_to_bin] == majority_value, \"majority\", \"minority\")"
   ]
  },
  {
   "cell_type": "code",
   "execution_count": 60,
   "id": "06a50de5",
   "metadata": {
    "execution": {
     "iopub.execute_input": "2025-08-05T15:23:22.112917Z",
     "iopub.status.busy": "2025-08-05T15:23:22.112614Z",
     "iopub.status.idle": "2025-08-05T15:23:23.625025Z",
     "shell.execute_reply": "2025-08-05T15:23:23.624236Z"
    },
    "papermill": {
     "duration": 1.52641,
     "end_time": "2025-08-05T15:23:23.626530",
     "exception": false,
     "start_time": "2025-08-05T15:23:22.100120",
     "status": "completed"
    },
    "tags": []
   },
   "outputs": [],
   "source": [
    "example_universe = universe.copy()\n",
    "example_universe[\"cutoff\"] = example_universe[\"cutoff\"][0]\n",
    "example_universe[\"eval_fairness_grouping\"] = example_universe[\"eval_fairness_grouping\"][0]\n",
    "fairness_dict, metric_frame = universe_analysis.compute_metrics(\n",
    "    example_universe,\n",
    "    y_pred_prob=probs_test,\n",
    "    y_test=y_true,\n",
    "    org_test=org_test,\n",
    ")"
   ]
  },
  {
   "cell_type": "markdown",
   "id": "f95d4e02",
   "metadata": {
    "papermill": {
     "duration": 0.011247,
     "end_time": "2025-08-05T15:23:23.650091",
     "exception": false,
     "start_time": "2025-08-05T15:23:23.638844",
     "status": "completed"
    },
    "tags": []
   },
   "source": [
    "# Overall"
   ]
  },
  {
   "cell_type": "markdown",
   "id": "bdee4871",
   "metadata": {
    "papermill": {
     "duration": 0.011271,
     "end_time": "2025-08-05T15:23:23.672426",
     "exception": false,
     "start_time": "2025-08-05T15:23:23.661155",
     "status": "completed"
    },
    "tags": []
   },
   "source": [
    "Fairness\n",
    "Main fairness target: Equalized Odds. Seems to be a better fit than equal opportunity, since we're not only interested in Y = 1. Seems to be a better fit than demographic parity, since we also care about accuracy, not just equal distribution of preds.\n",
    "\n",
    "Pick column for computation of fairness metrics\n",
    "\n",
    "Performance\n",
    "Overall performance measures, most interesting in relation to the measures split by group below"
   ]
  },
  {
   "cell_type": "code",
   "execution_count": 61,
   "id": "c4e067c6",
   "metadata": {
    "execution": {
     "iopub.execute_input": "2025-08-05T15:23:23.696794Z",
     "iopub.status.busy": "2025-08-05T15:23:23.696073Z",
     "iopub.status.idle": "2025-08-05T15:23:23.703343Z",
     "shell.execute_reply": "2025-08-05T15:23:23.702534Z"
    },
    "papermill": {
     "duration": 0.020956,
     "end_time": "2025-08-05T15:23:23.704791",
     "exception": false,
     "start_time": "2025-08-05T15:23:23.683835",
     "status": "completed"
    },
    "tags": []
   },
   "outputs": [
    {
     "data": {
      "text/plain": [
       "accuracy                   0.194527\n",
       "balanced accuracy          0.532365\n",
       "f1                         0.239147\n",
       "precision                  0.136060\n",
       "false positive rate        0.922061\n",
       "false negative rate        0.013208\n",
       "selection rate             0.930365\n",
       "count                  89710.000000\n",
       "dtype: float64"
      ]
     },
     "execution_count": 61,
     "metadata": {},
     "output_type": "execute_result"
    }
   ],
   "source": [
    "metric_frame.overall"
   ]
  },
  {
   "cell_type": "markdown",
   "id": "e968fe9d",
   "metadata": {
    "papermill": {
     "duration": 0.011509,
     "end_time": "2025-08-05T15:23:23.728424",
     "exception": false,
     "start_time": "2025-08-05T15:23:23.716915",
     "status": "completed"
    },
    "tags": []
   },
   "source": [
    "By Group"
   ]
  },
  {
   "cell_type": "code",
   "execution_count": 62,
   "id": "ec325bce",
   "metadata": {
    "execution": {
     "iopub.execute_input": "2025-08-05T15:23:23.752484Z",
     "iopub.status.busy": "2025-08-05T15:23:23.751766Z",
     "iopub.status.idle": "2025-08-05T15:23:23.764249Z",
     "shell.execute_reply": "2025-08-05T15:23:23.763395Z"
    },
    "papermill": {
     "duration": 0.026061,
     "end_time": "2025-08-05T15:23:23.765765",
     "exception": false,
     "start_time": "2025-08-05T15:23:23.739704",
     "status": "completed"
    },
    "tags": []
   },
   "outputs": [
    {
     "data": {
      "text/html": [
       "<div>\n",
       "<style scoped>\n",
       "    .dataframe tbody tr th:only-of-type {\n",
       "        vertical-align: middle;\n",
       "    }\n",
       "\n",
       "    .dataframe tbody tr th {\n",
       "        vertical-align: top;\n",
       "    }\n",
       "\n",
       "    .dataframe thead th {\n",
       "        text-align: right;\n",
       "    }\n",
       "</style>\n",
       "<table border=\"1\" class=\"dataframe\">\n",
       "  <thead>\n",
       "    <tr style=\"text-align: right;\">\n",
       "      <th></th>\n",
       "      <th>accuracy</th>\n",
       "      <th>balanced accuracy</th>\n",
       "      <th>f1</th>\n",
       "      <th>precision</th>\n",
       "      <th>false positive rate</th>\n",
       "      <th>false negative rate</th>\n",
       "      <th>selection rate</th>\n",
       "      <th>count</th>\n",
       "    </tr>\n",
       "    <tr>\n",
       "      <th>majmin</th>\n",
       "      <th></th>\n",
       "      <th></th>\n",
       "      <th></th>\n",
       "      <th></th>\n",
       "      <th></th>\n",
       "      <th></th>\n",
       "      <th></th>\n",
       "      <th></th>\n",
       "    </tr>\n",
       "  </thead>\n",
       "  <tbody>\n",
       "    <tr>\n",
       "      <th>majority</th>\n",
       "      <td>0.191658</td>\n",
       "      <td>0.531045</td>\n",
       "      <td>0.244960</td>\n",
       "      <td>0.139725</td>\n",
       "      <td>0.930252</td>\n",
       "      <td>0.007659</td>\n",
       "      <td>0.938456</td>\n",
       "      <td>69170.0</td>\n",
       "    </tr>\n",
       "    <tr>\n",
       "      <th>minority</th>\n",
       "      <td>0.204187</td>\n",
       "      <td>0.535184</td>\n",
       "      <td>0.218568</td>\n",
       "      <td>0.123235</td>\n",
       "      <td>0.895003</td>\n",
       "      <td>0.034628</td>\n",
       "      <td>0.903116</td>\n",
       "      <td>20540.0</td>\n",
       "    </tr>\n",
       "  </tbody>\n",
       "</table>\n",
       "</div>"
      ],
      "text/plain": [
       "          accuracy  balanced accuracy        f1  precision  \\\n",
       "majmin                                                       \n",
       "majority  0.191658           0.531045  0.244960   0.139725   \n",
       "minority  0.204187           0.535184  0.218568   0.123235   \n",
       "\n",
       "          false positive rate  false negative rate  selection rate    count  \n",
       "majmin                                                                       \n",
       "majority             0.930252             0.007659        0.938456  69170.0  \n",
       "minority             0.895003             0.034628        0.903116  20540.0  "
      ]
     },
     "execution_count": 62,
     "metadata": {},
     "output_type": "execute_result"
    }
   ],
   "source": [
    "metric_frame.by_group"
   ]
  },
  {
   "cell_type": "code",
   "execution_count": 63,
   "id": "a9ddbe63",
   "metadata": {
    "execution": {
     "iopub.execute_input": "2025-08-05T15:23:23.792023Z",
     "iopub.status.busy": "2025-08-05T15:23:23.790819Z",
     "iopub.status.idle": "2025-08-05T15:23:25.404766Z",
     "shell.execute_reply": "2025-08-05T15:23:25.404006Z"
    },
    "papermill": {
     "duration": 1.627965,
     "end_time": "2025-08-05T15:23:25.406119",
     "exception": false,
     "start_time": "2025-08-05T15:23:23.778154",
     "status": "completed"
    },
    "tags": []
   },
   "outputs": [
    {
     "data": {
      "text/plain": [
       "array([[<Axes: title={'center': 'accuracy'}, xlabel='majmin'>,\n",
       "        <Axes: title={'center': 'balanced accuracy'}, xlabel='majmin'>,\n",
       "        <Axes: title={'center': 'f1'}, xlabel='majmin'>],\n",
       "       [<Axes: title={'center': 'precision'}, xlabel='majmin'>,\n",
       "        <Axes: title={'center': 'false positive rate'}, xlabel='majmin'>,\n",
       "        <Axes: title={'center': 'false negative rate'}, xlabel='majmin'>],\n",
       "       [<Axes: title={'center': 'selection rate'}, xlabel='majmin'>,\n",
       "        <Axes: title={'center': 'count'}, xlabel='majmin'>,\n",
       "        <Axes: xlabel='majmin'>]], dtype=object)"
      ]
     },
     "execution_count": 63,
     "metadata": {},
     "output_type": "execute_result"
    },
    {
     "data": {
      "image/png": "[encoded data removed]",
      "text/plain": [
       "<Figure size 1200x800 with 9 Axes>"
      ]
     },
     "metadata": {},
     "output_type": "display_data"
    }
   ],
   "source": [
    "# In a graphic\n",
    "metric_frame.by_group.plot.bar(\n",
    "    subplots=True,\n",
    "    layout=[3, 3],\n",
    "    legend=False,\n",
    "    figsize=[12, 8],\n",
    "    title=\"Show all metrics\",\n",
    ")"
   ]
  },
  {
   "cell_type": "markdown",
   "id": "f57a0bac",
   "metadata": {
    "papermill": {
     "duration": 0.013101,
     "end_time": "2025-08-05T15:23:25.433180",
     "exception": false,
     "start_time": "2025-08-05T15:23:25.420079",
     "status": "completed"
    },
    "tags": []
   },
   "source": [
    "# Final Output"
   ]
  },
  {
   "cell_type": "code",
   "execution_count": 64,
   "id": "96d280a3",
   "metadata": {
    "execution": {
     "iopub.execute_input": "2025-08-05T15:23:25.460016Z",
     "iopub.status.busy": "2025-08-05T15:23:25.459548Z",
     "iopub.status.idle": "2025-08-05T15:23:25.466388Z",
     "shell.execute_reply": "2025-08-05T15:23:25.465566Z"
    },
    "papermill": {
     "duration": 0.021621,
     "end_time": "2025-08-05T15:23:25.467600",
     "exception": false,
     "start_time": "2025-08-05T15:23:25.445979",
     "status": "completed"
    },
    "tags": []
   },
   "outputs": [
    {
     "data": {
      "text/plain": [
       "4"
      ]
     },
     "execution_count": 64,
     "metadata": {},
     "output_type": "execute_result"
    }
   ],
   "source": [
    "sub_universes = universe_analysis.generate_sub_universes()\n",
    "len(sub_universes)"
   ]
  },
  {
   "cell_type": "code",
   "execution_count": 65,
   "id": "92adf7ba",
   "metadata": {
    "execution": {
     "iopub.execute_input": "2025-08-05T15:23:25.494010Z",
     "iopub.status.busy": "2025-08-05T15:23:25.493438Z",
     "iopub.status.idle": "2025-08-05T15:23:25.510595Z",
     "shell.execute_reply": "2025-08-05T15:23:25.509778Z"
    },
    "papermill": {
     "duration": 0.031846,
     "end_time": "2025-08-05T15:23:25.512086",
     "exception": false,
     "start_time": "2025-08-05T15:23:25.480240",
     "status": "completed"
    },
    "tags": []
   },
   "outputs": [],
   "source": [
    "def filter_sub_universe_data(sub_universe, org_test):\n",
    "    # Keep all rows — no filtering\n",
    "    keep_rows_mask = np.ones(org_test.shape[0], dtype=bool)\n",
    "\n",
    "    print(f\"[INFO] Keeping all rows: {keep_rows_mask.sum()} rows retained.\")\n",
    "    return keep_rows_mask"
   ]
  },
  {
   "cell_type": "code",
   "execution_count": 66,
   "id": "4a759155",
   "metadata": {
    "execution": {
     "iopub.execute_input": "2025-08-05T15:23:25.539604Z",
     "iopub.status.busy": "2025-08-05T15:23:25.538982Z",
     "iopub.status.idle": "2025-08-05T15:23:32.643353Z",
     "shell.execute_reply": "2025-08-05T15:23:32.642482Z"
    },
    "papermill": {
     "duration": 7.11914,
     "end_time": "2025-08-05T15:23:32.644759",
     "exception": false,
     "start_time": "2025-08-05T15:23:25.525619",
     "status": "completed"
    },
    "tags": []
   },
   "outputs": [
    {
     "name": "stdout",
     "output_type": "stream",
     "text": [
      "Stopping execution_time clock.\n",
      "[INFO] Keeping all rows: 89710 rows retained.\n"
     ]
    },
    {
     "name": "stdout",
     "output_type": "stream",
     "text": [
      "[INFO] Keeping all rows: 89710 rows retained.\n"
     ]
    },
    {
     "name": "stdout",
     "output_type": "stream",
     "text": [
      "[INFO] Keeping all rows: 89710 rows retained.\n"
     ]
    },
    {
     "name": "stdout",
     "output_type": "stream",
     "text": [
      "[INFO] Keeping all rows: 89710 rows retained.\n"
     ]
    },
    {
     "data": {
      "text/html": [
       "<div>\n",
       "<style scoped>\n",
       "    .dataframe tbody tr th:only-of-type {\n",
       "        vertical-align: middle;\n",
       "    }\n",
       "\n",
       "    .dataframe tbody tr th {\n",
       "        vertical-align: top;\n",
       "    }\n",
       "\n",
       "    .dataframe thead th {\n",
       "        text-align: right;\n",
       "    }\n",
       "</style>\n",
       "<table border=\"1\" class=\"dataframe\">\n",
       "  <thead>\n",
       "    <tr style=\"text-align: right;\">\n",
       "      <th></th>\n",
       "      <th>run_no</th>\n",
       "      <th>universe_id</th>\n",
       "      <th>universe_settings</th>\n",
       "      <th>execution_time</th>\n",
       "      <th>test_size_n</th>\n",
       "      <th>test_size_frac</th>\n",
       "      <th>fair_main_equalized_odds_difference</th>\n",
       "      <th>fair_main_equalized_odds_ratio</th>\n",
       "      <th>fair_main_demographic_parity_difference</th>\n",
       "      <th>fair_main_demographic_parity_ratio</th>\n",
       "      <th>...</th>\n",
       "      <th>perf_grp_precision_0</th>\n",
       "      <th>perf_grp_precision_1</th>\n",
       "      <th>perf_grp_false positive rate_0</th>\n",
       "      <th>perf_grp_false positive rate_1</th>\n",
       "      <th>perf_grp_false negative rate_0</th>\n",
       "      <th>perf_grp_false negative rate_1</th>\n",
       "      <th>perf_grp_selection rate_0</th>\n",
       "      <th>perf_grp_selection rate_1</th>\n",
       "      <th>perf_grp_count_0</th>\n",
       "      <th>perf_grp_count_1</th>\n",
       "    </tr>\n",
       "  </thead>\n",
       "  <tbody>\n",
       "    <tr>\n",
       "      <th>0</th>\n",
       "      <td>15</td>\n",
       "      <td>bae434ac5be93c7a0b238e0bd471e9f9</td>\n",
       "      <td>{\"cutoff\": \"quantile_0.1\", \"eval_fairness_grou...</td>\n",
       "      <td>33.512794</td>\n",
       "      <td>89710</td>\n",
       "      <td>1.0</td>\n",
       "      <td>0.035248</td>\n",
       "      <td>0.962109</td>\n",
       "      <td>0.035340</td>\n",
       "      <td>0.962342</td>\n",
       "      <td>...</td>\n",
       "      <td>NaN</td>\n",
       "      <td>NaN</td>\n",
       "      <td>NaN</td>\n",
       "      <td>NaN</td>\n",
       "      <td>NaN</td>\n",
       "      <td>NaN</td>\n",
       "      <td>NaN</td>\n",
       "      <td>NaN</td>\n",
       "      <td>NaN</td>\n",
       "      <td>NaN</td>\n",
       "    </tr>\n",
       "    <tr>\n",
       "      <th>0</th>\n",
       "      <td>15</td>\n",
       "      <td>bae434ac5be93c7a0b238e0bd471e9f9</td>\n",
       "      <td>{\"cutoff\": \"quantile_0.1\", \"eval_fairness_grou...</td>\n",
       "      <td>33.512794</td>\n",
       "      <td>89710</td>\n",
       "      <td>1.0</td>\n",
       "      <td>0.035248</td>\n",
       "      <td>0.962109</td>\n",
       "      <td>0.035340</td>\n",
       "      <td>0.962342</td>\n",
       "      <td>...</td>\n",
       "      <td>0.123235</td>\n",
       "      <td>0.139725</td>\n",
       "      <td>0.895003</td>\n",
       "      <td>0.930252</td>\n",
       "      <td>0.034628</td>\n",
       "      <td>0.007659</td>\n",
       "      <td>0.903116</td>\n",
       "      <td>0.938456</td>\n",
       "      <td>20540.0</td>\n",
       "      <td>69170.0</td>\n",
       "    </tr>\n",
       "    <tr>\n",
       "      <th>0</th>\n",
       "      <td>15</td>\n",
       "      <td>bae434ac5be93c7a0b238e0bd471e9f9</td>\n",
       "      <td>{\"cutoff\": \"quantile_0.25\", \"eval_fairness_gro...</td>\n",
       "      <td>33.512794</td>\n",
       "      <td>89710</td>\n",
       "      <td>1.0</td>\n",
       "      <td>0.082661</td>\n",
       "      <td>0.913418</td>\n",
       "      <td>0.066382</td>\n",
       "      <td>0.914758</td>\n",
       "      <td>...</td>\n",
       "      <td>NaN</td>\n",
       "      <td>NaN</td>\n",
       "      <td>NaN</td>\n",
       "      <td>NaN</td>\n",
       "      <td>NaN</td>\n",
       "      <td>NaN</td>\n",
       "      <td>NaN</td>\n",
       "      <td>NaN</td>\n",
       "      <td>NaN</td>\n",
       "      <td>NaN</td>\n",
       "    </tr>\n",
       "    <tr>\n",
       "      <th>0</th>\n",
       "      <td>15</td>\n",
       "      <td>bae434ac5be93c7a0b238e0bd471e9f9</td>\n",
       "      <td>{\"cutoff\": \"quantile_0.25\", \"eval_fairness_gro...</td>\n",
       "      <td>33.512794</td>\n",
       "      <td>89710</td>\n",
       "      <td>1.0</td>\n",
       "      <td>0.082661</td>\n",
       "      <td>0.913418</td>\n",
       "      <td>0.066382</td>\n",
       "      <td>0.914758</td>\n",
       "      <td>...</td>\n",
       "      <td>0.141129</td>\n",
       "      <td>0.161995</td>\n",
       "      <td>0.691558</td>\n",
       "      <td>0.751957</td>\n",
       "      <td>0.127956</td>\n",
       "      <td>0.045295</td>\n",
       "      <td>0.712366</td>\n",
       "      <td>0.778748</td>\n",
       "      <td>20540.0</td>\n",
       "      <td>69170.0</td>\n",
       "    </tr>\n",
       "  </tbody>\n",
       "</table>\n",
       "<p>4 rows × 50 columns</p>\n",
       "</div>"
      ],
      "text/plain": [
       "  run_no                       universe_id  \\\n",
       "0     15  bae434ac5be93c7a0b238e0bd471e9f9   \n",
       "0     15  bae434ac5be93c7a0b238e0bd471e9f9   \n",
       "0     15  bae434ac5be93c7a0b238e0bd471e9f9   \n",
       "0     15  bae434ac5be93c7a0b238e0bd471e9f9   \n",
       "\n",
       "                                   universe_settings  execution_time  \\\n",
       "0  {\"cutoff\": \"quantile_0.1\", \"eval_fairness_grou...       33.512794   \n",
       "0  {\"cutoff\": \"quantile_0.1\", \"eval_fairness_grou...       33.512794   \n",
       "0  {\"cutoff\": \"quantile_0.25\", \"eval_fairness_gro...       33.512794   \n",
       "0  {\"cutoff\": \"quantile_0.25\", \"eval_fairness_gro...       33.512794   \n",
       "\n",
       "   test_size_n  test_size_frac  fair_main_equalized_odds_difference  \\\n",
       "0        89710             1.0                             0.035248   \n",
       "0        89710             1.0                             0.035248   \n",
       "0        89710             1.0                             0.082661   \n",
       "0        89710             1.0                             0.082661   \n",
       "\n",
       "   fair_main_equalized_odds_ratio  fair_main_demographic_parity_difference  \\\n",
       "0                        0.962109                                 0.035340   \n",
       "0                        0.962109                                 0.035340   \n",
       "0                        0.913418                                 0.066382   \n",
       "0                        0.913418                                 0.066382   \n",
       "\n",
       "   fair_main_demographic_parity_ratio  ...  perf_grp_precision_0  \\\n",
       "0                            0.962342  ...                   NaN   \n",
       "0                            0.962342  ...              0.123235   \n",
       "0                            0.914758  ...                   NaN   \n",
       "0                            0.914758  ...              0.141129   \n",
       "\n",
       "   perf_grp_precision_1  perf_grp_false positive rate_0  \\\n",
       "0                   NaN                             NaN   \n",
       "0              0.139725                        0.895003   \n",
       "0                   NaN                             NaN   \n",
       "0              0.161995                        0.691558   \n",
       "\n",
       "   perf_grp_false positive rate_1  perf_grp_false negative rate_0  \\\n",
       "0                             NaN                             NaN   \n",
       "0                        0.930252                        0.034628   \n",
       "0                             NaN                             NaN   \n",
       "0                        0.751957                        0.127956   \n",
       "\n",
       "   perf_grp_false negative rate_1  perf_grp_selection rate_0  \\\n",
       "0                             NaN                        NaN   \n",
       "0                        0.007659                   0.903116   \n",
       "0                             NaN                        NaN   \n",
       "0                        0.045295                   0.712366   \n",
       "\n",
       "   perf_grp_selection rate_1  perf_grp_count_0  perf_grp_count_1  \n",
       "0                        NaN               NaN               NaN  \n",
       "0                   0.938456           20540.0           69170.0  \n",
       "0                        NaN               NaN               NaN  \n",
       "0                   0.778748           20540.0           69170.0  \n",
       "\n",
       "[4 rows x 50 columns]"
      ]
     },
     "execution_count": 66,
     "metadata": {},
     "output_type": "execute_result"
    }
   ],
   "source": [
    "final_output = universe_analysis.generate_final_output(\n",
    "    y_pred_prob=probs_test,\n",
    "    y_test=y_true,\n",
    "    org_test=org_test,\n",
    "    filter_data=filter_sub_universe_data,\n",
    "    cp_metrics_df=cp_metrics_df,\n",
    "    save=True,\n",
    ")\n",
    "final_output"
   ]
  }
 ],
 "metadata": {
  "celltoolbar": "Tags",
  "kernelspec": {
   "display_name": "Python (CMA Fairness)",
   "language": "python",
   "name": "cma_fair_env"
  },
  "language_info": {
   "codemirror_mode": {
    "name": "ipython",
    "version": 3
   },
   "file_extension": ".py",
   "mimetype": "text/x-python",
   "name": "python",
   "nbconvert_exporter": "python",
   "pygments_lexer": "ipython3",
   "version": "3.10.12"
  },
  "papermill": {
   "default_parameters": {},
   "duration": 44.683713,
   "end_time": "2025-08-05T15:23:33.381271",
   "environment_variables": {},
   "exception": null,
   "input_path": "universe_analysis.ipynb",
   "output_path": "output/runs/15/notebooks/m_15-bae434ac5be93c7a0b238e0bd471e9f9.ipynb",
   "parameters": {
    "output_dir": "output",
    "run_no": "15",
    "seed": "2023",
    "universe": "{\"cutoff\": [\"quantile_0.1\", \"quantile_0.25\"], \"eval_fairness_grouping\": [\"majority-minority\", \"nationality-all\"], \"exclude_features\": \"nationality\", \"exclude_subgroups\": \"keep-all\", \"model\": \"rf\", \"scale\": \"scale\", \"training_size\": \"5k\", \"training_year\": \"2014\"}",
    "universe_id": "bae434ac5be93c7a0b238e0bd471e9f9"
   },
   "start_time": "2025-08-05T15:22:48.697558",
   "version": "2.6.0"
  }
 },
 "nbformat": 4,
 "nbformat_minor": 5
}