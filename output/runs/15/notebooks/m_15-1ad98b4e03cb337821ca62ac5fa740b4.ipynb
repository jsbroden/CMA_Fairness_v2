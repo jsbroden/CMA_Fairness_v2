{
 "cells": [
  {
   "cell_type": "code",
   "execution_count": 1,
   "id": "f159f837-637b-42ba-96b5-ec9a68c44524",
   "metadata": {
    "execution": {
     "iopub.execute_input": "2025-08-05T15:28:18.334836Z",
     "iopub.status.busy": "2025-08-05T15:28:18.334361Z",
     "iopub.status.idle": "2025-08-05T15:28:18.348145Z",
     "shell.execute_reply": "2025-08-05T15:28:18.347325Z"
    },
    "papermill": {
     "duration": 0.032817,
     "end_time": "2025-08-05T15:28:18.349436",
     "exception": false,
     "start_time": "2025-08-05T15:28:18.316619",
     "status": "completed"
    },
    "tags": []
   },
   "outputs": [
    {
     "name": "stdout",
     "output_type": "stream",
     "text": [
      "/dss/dsshome1/0C/ra93lal2/cma/CMA_Fairness_v2\n"
     ]
    },
    {
     "name": "stderr",
     "output_type": "stream",
     "text": [
      "/dss/dsshome1/0C/ra93lal2/.local/share/virtualenvs/CMA_Fairness_v2-3j10GkSs/lib/python3.10/site-packages/IPython/core/magics/osm.py:393: UserWarning: This is now an optional IPython functionality, using bookmarks requires you to install the `pickleshare` library.\n",
      "  bkms = self.shell.db.get('bookmarks', {})\n",
      "/dss/dsshome1/0C/ra93lal2/.local/share/virtualenvs/CMA_Fairness_v2-3j10GkSs/lib/python3.10/site-packages/IPython/core/magics/osm.py:417: UserWarning: This is now an optional IPython functionality, setting dhist requires you to install the `pickleshare` library.\n",
      "  self.shell.db['dhist'] = compress_dhist(dhist)[-100:]\n"
     ]
    }
   ],
   "source": [
    "%cd ~/cma/CMA_Fairness_v2"
   ]
  },
  {
   "cell_type": "markdown",
   "id": "de2603b9",
   "metadata": {
    "papermill": {
     "duration": 0.008082,
     "end_time": "2025-08-05T15:28:18.366321",
     "exception": false,
     "start_time": "2025-08-05T15:28:18.358239",
     "status": "completed"
    },
    "tags": []
   },
   "source": [
    "The following cell holds the definition of our parameters, these values can be overriden by rendering the with e.g. the following command:\n",
    "\n",
    "papermill -p alpha 0.2 -p ratio 0.3 universe_analysis.ipynb output/test_run.ipynb"
   ]
  },
  {
   "cell_type": "code",
   "execution_count": 2,
   "id": "a80968a0-40bb-4fa9-85ef-2d5eefb01975",
   "metadata": {
    "execution": {
     "iopub.execute_input": "2025-08-05T15:28:18.384578Z",
     "iopub.status.busy": "2025-08-05T15:28:18.384281Z",
     "iopub.status.idle": "2025-08-05T15:28:18.388857Z",
     "shell.execute_reply": "2025-08-05T15:28:18.387938Z"
    },
    "papermill": {
     "duration": 0.015826,
     "end_time": "2025-08-05T15:28:18.390132",
     "exception": false,
     "start_time": "2025-08-05T15:28:18.374306",
     "status": "completed"
    },
    "tags": []
   },
   "outputs": [
    {
     "name": "stdout",
     "output_type": "stream",
     "text": [
      "Current working directory: /dss/dsshome1/0C/ra93lal2/cma/CMA_Fairness_v2\n"
     ]
    }
   ],
   "source": [
    "import os\n",
    "print(\"Current working directory:\", os.getcwd())"
   ]
  },
  {
   "cell_type": "code",
   "execution_count": 3,
   "id": "2dce4c03",
   "metadata": {
    "execution": {
     "iopub.execute_input": "2025-08-05T15:28:18.414960Z",
     "iopub.status.busy": "2025-08-05T15:28:18.414429Z",
     "iopub.status.idle": "2025-08-05T15:28:18.420402Z",
     "shell.execute_reply": "2025-08-05T15:28:18.419478Z"
    },
    "papermill": {
     "duration": 0.023733,
     "end_time": "2025-08-05T15:28:18.422398",
     "exception": false,
     "start_time": "2025-08-05T15:28:18.398665",
     "status": "completed"
    },
    "tags": [
     "parameters"
    ]
   },
   "outputs": [],
   "source": [
    "run_no = 0\n",
    "universe_id = \"test\"\n",
    "universe = {\n",
    "    \"training_size\": \"25k\", # \"25k\", \"5k\", \"1k\"\n",
    "    \"training_year\": \"2014\", # \"2014\", \"2012_14\", \"2010_14\"\n",
    "    \"scale\": \"scale\", # \"scale\", \"do-not-scale\",\n",
    "    \"model\": \"elasticnet\", # \"logreg\", \"penalized_logreg\", \"rf\", \"gbm\", \"elasticnet\"\n",
    "    \"cutoff\": [\"quantile_0.15\", \"quantile_0.30\"],\n",
    "    \"exclude_features\": \"age\", # \"none\", \"nationality\", \"sex\", \"nationality-sex\", \"age\"\n",
    "    \"exclude_subgroups\": \"keep-all\", # \"keep-all\", \"drop-non-german\"\n",
    "    \"eval_fairness_grouping\": [\"majority-minority\", \"nationality-all\"]\n",
    "}\n",
    "\n",
    "output_dir=\"./output\"\n",
    "seed=0"
   ]
  },
  {
   "cell_type": "code",
   "execution_count": 4,
   "id": "311be339",
   "metadata": {
    "execution": {
     "iopub.execute_input": "2025-08-05T15:28:18.446375Z",
     "iopub.status.busy": "2025-08-05T15:28:18.446026Z",
     "iopub.status.idle": "2025-08-05T15:28:18.450854Z",
     "shell.execute_reply": "2025-08-05T15:28:18.450005Z"
    },
    "papermill": {
     "duration": 0.014967,
     "end_time": "2025-08-05T15:28:18.452012",
     "exception": false,
     "start_time": "2025-08-05T15:28:18.437045",
     "status": "completed"
    },
    "tags": [
     "injected-parameters"
    ]
   },
   "outputs": [],
   "source": [
    "# Parameters\n",
    "universe_id = \"1ad98b4e03cb337821ca62ac5fa740b4\"\n",
    "run_no = \"15\"\n",
    "universe = \"{\\\"cutoff\\\": [\\\"quantile_0.1\\\", \\\"quantile_0.25\\\"], \\\"eval_fairness_grouping\\\": [\\\"majority-minority\\\", \\\"nationality-all\\\"], \\\"exclude_features\\\": \\\"none\\\", \\\"exclude_subgroups\\\": \\\"keep-all\\\", \\\"model\\\": \\\"penalized_logreg\\\", \\\"scale\\\": \\\"do-not-scale\\\", \\\"training_size\\\": \\\"5k\\\", \\\"training_year\\\": \\\"2014\\\"}\"\n",
    "output_dir = \"output\"\n",
    "seed = \"2023\"\n"
   ]
  },
  {
   "cell_type": "code",
   "execution_count": 5,
   "id": "1650acaf",
   "metadata": {
    "execution": {
     "iopub.execute_input": "2025-08-05T15:28:18.470412Z",
     "iopub.status.busy": "2025-08-05T15:28:18.469938Z",
     "iopub.status.idle": "2025-08-05T15:28:18.473626Z",
     "shell.execute_reply": "2025-08-05T15:28:18.472770Z"
    },
    "papermill": {
     "duration": 0.014236,
     "end_time": "2025-08-05T15:28:18.475181",
     "exception": false,
     "start_time": "2025-08-05T15:28:18.460945",
     "status": "completed"
    },
    "tags": []
   },
   "outputs": [],
   "source": [
    "import json\n",
    "if isinstance(universe, str):\n",
    "    universe = json.loads(universe)"
   ]
  },
  {
   "cell_type": "code",
   "execution_count": 6,
   "id": "16620c48",
   "metadata": {
    "execution": {
     "iopub.execute_input": "2025-08-05T15:28:18.507920Z",
     "iopub.status.busy": "2025-08-05T15:28:18.507529Z",
     "iopub.status.idle": "2025-08-05T15:28:18.534227Z",
     "shell.execute_reply": "2025-08-05T15:28:18.533578Z"
    },
    "papermill": {
     "duration": 0.044684,
     "end_time": "2025-08-05T15:28:18.535682",
     "exception": false,
     "start_time": "2025-08-05T15:28:18.490998",
     "status": "completed"
    },
    "tags": []
   },
   "outputs": [],
   "source": [
    "# Auto-reload the custom package\n",
    "%load_ext autoreload\n",
    "%autoreload 1\n",
    "%aimport fairness_multiverse"
   ]
  },
  {
   "cell_type": "code",
   "execution_count": 7,
   "id": "01c5c9f3",
   "metadata": {
    "execution": {
     "iopub.execute_input": "2025-08-05T15:28:18.569004Z",
     "iopub.status.busy": "2025-08-05T15:28:18.568494Z",
     "iopub.status.idle": "2025-08-05T15:28:20.034807Z",
     "shell.execute_reply": "2025-08-05T15:28:20.033594Z"
    },
    "papermill": {
     "duration": 1.485239,
     "end_time": "2025-08-05T15:28:20.036732",
     "exception": false,
     "start_time": "2025-08-05T15:28:18.551493",
     "status": "completed"
    },
    "tags": []
   },
   "outputs": [],
   "source": [
    "from fairness_multiverse.universe import UniverseAnalysis\n",
    "\n",
    "universe_analysis = UniverseAnalysis(\n",
    "    run_no = run_no,\n",
    "    universe_id = universe_id,\n",
    "    universe = universe,\n",
    "    output_dir=output_dir,\n",
    ")"
   ]
  },
  {
   "cell_type": "code",
   "execution_count": 8,
   "id": "106241f5",
   "metadata": {
    "execution": {
     "iopub.execute_input": "2025-08-05T15:28:20.072785Z",
     "iopub.status.busy": "2025-08-05T15:28:20.072109Z",
     "iopub.status.idle": "2025-08-05T15:28:20.078836Z",
     "shell.execute_reply": "2025-08-05T15:28:20.077825Z"
    },
    "papermill": {
     "duration": 0.02621,
     "end_time": "2025-08-05T15:28:20.080287",
     "exception": false,
     "start_time": "2025-08-05T15:28:20.054077",
     "status": "completed"
    },
    "tags": []
   },
   "outputs": [
    {
     "name": "stdout",
     "output_type": "stream",
     "text": [
      "Using Seed: 2023\n"
     ]
    }
   ],
   "source": [
    "import numpy as np\n",
    "parsed_seed = int(seed)\n",
    "np.random.seed(parsed_seed)\n",
    "print(f\"Using Seed: {parsed_seed}\")"
   ]
  },
  {
   "cell_type": "markdown",
   "id": "e0ebdc57",
   "metadata": {
    "papermill": {
     "duration": 0.008329,
     "end_time": "2025-08-05T15:28:20.097706",
     "exception": false,
     "start_time": "2025-08-05T15:28:20.089377",
     "status": "completed"
    },
    "tags": []
   },
   "source": [
    "# Loading Data"
   ]
  },
  {
   "cell_type": "code",
   "execution_count": 9,
   "id": "f0496b8a",
   "metadata": {
    "execution": {
     "iopub.execute_input": "2025-08-05T15:28:20.115700Z",
     "iopub.status.busy": "2025-08-05T15:28:20.115062Z",
     "iopub.status.idle": "2025-08-05T15:28:31.147177Z",
     "shell.execute_reply": "2025-08-05T15:28:31.145953Z"
    },
    "papermill": {
     "duration": 11.042787,
     "end_time": "2025-08-05T15:28:31.148754",
     "exception": false,
     "start_time": "2025-08-05T15:28:20.105967",
     "status": "completed"
    },
    "tags": []
   },
   "outputs": [
    {
     "name": "stdout",
     "output_type": "stream",
     "text": [
      "Loading SIAB data from cache: data/siab_cached.csv.gz\n"
     ]
    },
    {
     "name": "stdout",
     "output_type": "stream",
     "text": [
      "(643690, 164)\n"
     ]
    }
   ],
   "source": [
    "from pathlib import Path\n",
    "import pandas as pd\n",
    "\n",
    "# File paths\n",
    "raw_file = Path(\"data/raw/siab.csv\")\n",
    "cache_file = Path(\"data/siab_cached.csv.gz\")\n",
    "\n",
    "# Ensure cache directory exists\n",
    "cache_file.parent.mkdir(parents=True, exist_ok=True)\n",
    "\n",
    "# Load with simple caching\n",
    "if cache_file.exists():\n",
    "    print(f\"Loading SIAB data from cache: {cache_file}\")\n",
    "    siab = pd.read_csv(cache_file, compression='gzip')\n",
    "else:\n",
    "    print(f\"Cache not found. Reading raw SIAB data: {raw_file}\")\n",
    "    siab = pd.read_csv(raw_file)\n",
    "    siab.to_csv(cache_file, index=False, compression='gzip')\n",
    "    print(f\"Cached SIAB data to: {cache_file}\")\n",
    "\n",
    "print(siab.shape)"
   ]
  },
  {
   "cell_type": "code",
   "execution_count": 10,
   "id": "db0ca512-5f53-4dba-abdb-a2888bca41ba",
   "metadata": {
    "execution": {
     "iopub.execute_input": "2025-08-05T15:28:31.189310Z",
     "iopub.status.busy": "2025-08-05T15:28:31.188840Z",
     "iopub.status.idle": "2025-08-05T15:28:31.194196Z",
     "shell.execute_reply": "2025-08-05T15:28:31.193291Z"
    },
    "papermill": {
     "duration": 0.026531,
     "end_time": "2025-08-05T15:28:31.195924",
     "exception": false,
     "start_time": "2025-08-05T15:28:31.169393",
     "status": "completed"
    },
    "tags": []
   },
   "outputs": [],
   "source": [
    "#siab"
   ]
  },
  {
   "cell_type": "markdown",
   "id": "997051c5-15bd-4b69-9786-c3001a3ce484",
   "metadata": {
    "papermill": {
     "duration": 0.01795,
     "end_time": "2025-08-05T15:28:31.231546",
     "exception": false,
     "start_time": "2025-08-05T15:28:31.213596",
     "status": "completed"
    },
    "tags": []
   },
   "source": [
    "# Splitting Data and Setting Training Data Size"
   ]
  },
  {
   "cell_type": "code",
   "execution_count": 11,
   "id": "aea9c6ef-6f46-42c8-85eb-5a62025c1508",
   "metadata": {
    "execution": {
     "iopub.execute_input": "2025-08-05T15:28:31.268307Z",
     "iopub.status.busy": "2025-08-05T15:28:31.267417Z",
     "iopub.status.idle": "2025-08-05T15:28:31.461601Z",
     "shell.execute_reply": "2025-08-05T15:28:31.460514Z"
    },
    "papermill": {
     "duration": 0.214332,
     "end_time": "2025-08-05T15:28:31.463498",
     "exception": false,
     "start_time": "2025-08-05T15:28:31.249166",
     "status": "completed"
    },
    "tags": []
   },
   "outputs": [],
   "source": [
    "from fairness_multiverse.universe import sample_by_year_size\n",
    "\n",
    "siab_train = sample_by_year_size(siab,\n",
    "                               training_year=universe[\"training_year\"],\n",
    "                               training_size=universe[\"training_size\"])"
   ]
  },
  {
   "cell_type": "code",
   "execution_count": 12,
   "id": "8d3afb32-789d-442c-8d5d-9f5aa8dd2eed",
   "metadata": {
    "execution": {
     "iopub.execute_input": "2025-08-05T15:28:31.500032Z",
     "iopub.status.busy": "2025-08-05T15:28:31.499286Z",
     "iopub.status.idle": "2025-08-05T15:28:31.504567Z",
     "shell.execute_reply": "2025-08-05T15:28:31.503576Z"
    },
    "papermill": {
     "duration": 0.025542,
     "end_time": "2025-08-05T15:28:31.506365",
     "exception": false,
     "start_time": "2025-08-05T15:28:31.480823",
     "status": "completed"
    },
    "tags": []
   },
   "outputs": [],
   "source": [
    "#siab_train.shape"
   ]
  },
  {
   "cell_type": "code",
   "execution_count": 13,
   "id": "d582db68-1a4c-47fb-84fc-08518dc1975a",
   "metadata": {
    "execution": {
     "iopub.execute_input": "2025-08-05T15:28:31.545513Z",
     "iopub.status.busy": "2025-08-05T15:28:31.544885Z",
     "iopub.status.idle": "2025-08-05T15:28:31.550135Z",
     "shell.execute_reply": "2025-08-05T15:28:31.548961Z"
    },
    "papermill": {
     "duration": 0.027208,
     "end_time": "2025-08-05T15:28:31.551880",
     "exception": false,
     "start_time": "2025-08-05T15:28:31.524672",
     "status": "completed"
    },
    "tags": []
   },
   "outputs": [],
   "source": [
    "#display(siab_train.groupby(\"year\").size())"
   ]
  },
  {
   "cell_type": "code",
   "execution_count": 14,
   "id": "a561edb4-d032-42cb-8256-22eac1111c64",
   "metadata": {
    "execution": {
     "iopub.execute_input": "2025-08-05T15:28:31.589410Z",
     "iopub.status.busy": "2025-08-05T15:28:31.588714Z",
     "iopub.status.idle": "2025-08-05T15:28:31.841776Z",
     "shell.execute_reply": "2025-08-05T15:28:31.840673Z"
    },
    "papermill": {
     "duration": 0.274153,
     "end_time": "2025-08-05T15:28:31.843845",
     "exception": false,
     "start_time": "2025-08-05T15:28:31.569692",
     "status": "completed"
    },
    "tags": []
   },
   "outputs": [],
   "source": [
    "#siab_train = siab_s[siab_s.year < 2015]\n",
    "siab_calib = siab[siab.year == 2015]\n",
    "siab_test = siab[siab.year == 2016]"
   ]
  },
  {
   "cell_type": "code",
   "execution_count": 15,
   "id": "472de16f-c3db-4916-846b-1f0de9cf1746",
   "metadata": {
    "execution": {
     "iopub.execute_input": "2025-08-05T15:28:31.885625Z",
     "iopub.status.busy": "2025-08-05T15:28:31.884829Z",
     "iopub.status.idle": "2025-08-05T15:28:31.894682Z",
     "shell.execute_reply": "2025-08-05T15:28:31.893460Z"
    },
    "papermill": {
     "duration": 0.034426,
     "end_time": "2025-08-05T15:28:31.896638",
     "exception": false,
     "start_time": "2025-08-05T15:28:31.862212",
     "status": "completed"
    },
    "tags": []
   },
   "outputs": [],
   "source": [
    "X_train = siab_train.iloc[:,4:164]\n",
    "y_train = siab_train.iloc[:, [3]]"
   ]
  },
  {
   "cell_type": "code",
   "execution_count": 16,
   "id": "828c96af-f43a-4ed6-ba47-8ac73a47d56c",
   "metadata": {
    "execution": {
     "iopub.execute_input": "2025-08-05T15:28:31.935752Z",
     "iopub.status.busy": "2025-08-05T15:28:31.935091Z",
     "iopub.status.idle": "2025-08-05T15:28:32.001088Z",
     "shell.execute_reply": "2025-08-05T15:28:31.999905Z"
    },
    "papermill": {
     "duration": 0.087661,
     "end_time": "2025-08-05T15:28:32.003084",
     "exception": false,
     "start_time": "2025-08-05T15:28:31.915423",
     "status": "completed"
    },
    "tags": []
   },
   "outputs": [],
   "source": [
    "X_calib = siab_calib.iloc[:,4:164]\n",
    "y_calib = siab_calib.iloc[:, [3]]"
   ]
  },
  {
   "cell_type": "code",
   "execution_count": 17,
   "id": "c34be9c3-6bd6-476e-acd3-845840e303be",
   "metadata": {
    "execution": {
     "iopub.execute_input": "2025-08-05T15:28:32.044161Z",
     "iopub.status.busy": "2025-08-05T15:28:32.043509Z",
     "iopub.status.idle": "2025-08-05T15:28:32.111485Z",
     "shell.execute_reply": "2025-08-05T15:28:32.110234Z"
    },
    "papermill": {
     "duration": 0.090565,
     "end_time": "2025-08-05T15:28:32.113386",
     "exception": false,
     "start_time": "2025-08-05T15:28:32.022821",
     "status": "completed"
    },
    "tags": []
   },
   "outputs": [],
   "source": [
    "X_test = siab_test.iloc[:,4:164]\n",
    "y_true = siab_test.iloc[:, [3]]"
   ]
  },
  {
   "cell_type": "code",
   "execution_count": 18,
   "id": "e6c733c5",
   "metadata": {
    "execution": {
     "iopub.execute_input": "2025-08-05T15:28:32.152644Z",
     "iopub.status.busy": "2025-08-05T15:28:32.151692Z",
     "iopub.status.idle": "2025-08-05T15:28:32.244257Z",
     "shell.execute_reply": "2025-08-05T15:28:32.242954Z"
    },
    "papermill": {
     "duration": 0.114202,
     "end_time": "2025-08-05T15:28:32.246302",
     "exception": false,
     "start_time": "2025-08-05T15:28:32.132100",
     "status": "completed"
    },
    "tags": []
   },
   "outputs": [],
   "source": [
    "# Auxiliary data needed downstream in the pipeline\n",
    "\n",
    "org_train = X_train.copy()\n",
    "org_test = X_test.copy()\n",
    "org_calib = X_calib.copy()"
   ]
  },
  {
   "cell_type": "markdown",
   "id": "0a4a1b33",
   "metadata": {
    "papermill": {
     "duration": 0.018527,
     "end_time": "2025-08-05T15:28:32.283516",
     "exception": false,
     "start_time": "2025-08-05T15:28:32.264989",
     "status": "completed"
    },
    "tags": []
   },
   "source": [
    "# Preprocessing Data"
   ]
  },
  {
   "cell_type": "code",
   "execution_count": 19,
   "id": "ca879031",
   "metadata": {
    "execution": {
     "iopub.execute_input": "2025-08-05T15:28:32.323970Z",
     "iopub.status.busy": "2025-08-05T15:28:32.323051Z",
     "iopub.status.idle": "2025-08-05T15:28:32.330645Z",
     "shell.execute_reply": "2025-08-05T15:28:32.329414Z"
    },
    "papermill": {
     "duration": 0.030502,
     "end_time": "2025-08-05T15:28:32.332457",
     "exception": false,
     "start_time": "2025-08-05T15:28:32.301955",
     "status": "completed"
    },
    "tags": []
   },
   "outputs": [],
   "source": [
    "# EXCLUDE PROTECTED FEATURES\n",
    "# ----------------------\n",
    "# \"exclude_features\": \"none\", # \"nationality\", \"sex\", \"nationality-sex\"\n",
    "\n",
    "excluded_features = universe[\"exclude_features\"].split(\"-\") # split, e.g.: \"nationality-sex\" -> [\"nationality\", \"sex\"]\n",
    "excluded_features_dictionary = {\n",
    "    \"nationality\": [\"maxdeutsch1\", \"maxdeutsch.Missing.\"],\n",
    "    \"sex\": [\"frau1\"],\n",
    "    \"age\": [\"age\"],\n",
    "}"
   ]
  },
  {
   "cell_type": "code",
   "execution_count": 20,
   "id": "b745ac60",
   "metadata": {
    "execution": {
     "iopub.execute_input": "2025-08-05T15:28:32.372863Z",
     "iopub.status.busy": "2025-08-05T15:28:32.371858Z",
     "iopub.status.idle": "2025-08-05T15:28:32.379151Z",
     "shell.execute_reply": "2025-08-05T15:28:32.377940Z"
    },
    "papermill": {
     "duration": 0.029529,
     "end_time": "2025-08-05T15:28:32.381149",
     "exception": false,
     "start_time": "2025-08-05T15:28:32.351620",
     "status": "completed"
    },
    "tags": []
   },
   "outputs": [],
   "source": [
    "# Code nice names to column names\n",
    "\n",
    "excluded_features_columns = [\n",
    "    excluded_features_dictionary[f] for f in excluded_features if len(f) > 0 and f != \"none\"\n",
    "]"
   ]
  },
  {
   "cell_type": "code",
   "execution_count": 21,
   "id": "f84f73a2",
   "metadata": {
    "execution": {
     "iopub.execute_input": "2025-08-05T15:28:32.421491Z",
     "iopub.status.busy": "2025-08-05T15:28:32.420547Z",
     "iopub.status.idle": "2025-08-05T15:28:32.428715Z",
     "shell.execute_reply": "2025-08-05T15:28:32.427525Z"
    },
    "papermill": {
     "duration": 0.030199,
     "end_time": "2025-08-05T15:28:32.430720",
     "exception": false,
     "start_time": "2025-08-05T15:28:32.400521",
     "status": "completed"
    },
    "tags": []
   },
   "outputs": [],
   "source": [
    "from utils import flatten_once\n",
    "\n",
    "excluded_features_columns = flatten_once(excluded_features_columns)"
   ]
  },
  {
   "cell_type": "code",
   "execution_count": 22,
   "id": "884dea22",
   "metadata": {
    "execution": {
     "iopub.execute_input": "2025-08-05T15:28:32.472298Z",
     "iopub.status.busy": "2025-08-05T15:28:32.471238Z",
     "iopub.status.idle": "2025-08-05T15:28:32.478877Z",
     "shell.execute_reply": "2025-08-05T15:28:32.477620Z"
    },
    "papermill": {
     "duration": 0.030296,
     "end_time": "2025-08-05T15:28:32.480775",
     "exception": false,
     "start_time": "2025-08-05T15:28:32.450479",
     "status": "completed"
    },
    "tags": []
   },
   "outputs": [],
   "source": [
    "if len(excluded_features_columns) > 0:\n",
    "    print(f\"Dropping features: {excluded_features_columns}\")\n",
    "    X_train.drop(excluded_features_columns, axis=1, inplace=True)"
   ]
  },
  {
   "cell_type": "code",
   "execution_count": 23,
   "id": "95ab8b16",
   "metadata": {
    "execution": {
     "iopub.execute_input": "2025-08-05T15:28:32.521327Z",
     "iopub.status.busy": "2025-08-05T15:28:32.520358Z",
     "iopub.status.idle": "2025-08-05T15:28:32.528046Z",
     "shell.execute_reply": "2025-08-05T15:28:32.526894Z"
    },
    "papermill": {
     "duration": 0.03073,
     "end_time": "2025-08-05T15:28:32.530466",
     "exception": false,
     "start_time": "2025-08-05T15:28:32.499736",
     "status": "completed"
    },
    "tags": []
   },
   "outputs": [],
   "source": [
    "if len(excluded_features_columns) > 0:\n",
    "    print(f\"Dropping features: {excluded_features_columns}\")\n",
    "    X_test.drop(excluded_features_columns, axis=1, inplace=True)"
   ]
  },
  {
   "cell_type": "code",
   "execution_count": 24,
   "id": "1853aaf5-fb9f-46cb-a2b5-8ea4ae2237e4",
   "metadata": {
    "execution": {
     "iopub.execute_input": "2025-08-05T15:28:32.570718Z",
     "iopub.status.busy": "2025-08-05T15:28:32.570068Z",
     "iopub.status.idle": "2025-08-05T15:28:32.577644Z",
     "shell.execute_reply": "2025-08-05T15:28:32.576142Z"
    },
    "papermill": {
     "duration": 0.02949,
     "end_time": "2025-08-05T15:28:32.579700",
     "exception": false,
     "start_time": "2025-08-05T15:28:32.550210",
     "status": "completed"
    },
    "tags": []
   },
   "outputs": [],
   "source": [
    "if len(excluded_features_columns) > 0:\n",
    "    print(f\"Dropping features: {excluded_features_columns}\")\n",
    "    X_calib.drop(excluded_features_columns, axis=1, inplace=True)"
   ]
  },
  {
   "cell_type": "code",
   "execution_count": 25,
   "id": "76c4dc6d",
   "metadata": {
    "execution": {
     "iopub.execute_input": "2025-08-05T15:28:32.621070Z",
     "iopub.status.busy": "2025-08-05T15:28:32.620301Z",
     "iopub.status.idle": "2025-08-05T15:28:32.628017Z",
     "shell.execute_reply": "2025-08-05T15:28:32.626613Z"
    },
    "papermill": {
     "duration": 0.030193,
     "end_time": "2025-08-05T15:28:32.630126",
     "exception": false,
     "start_time": "2025-08-05T15:28:32.599933",
     "status": "completed"
    },
    "tags": []
   },
   "outputs": [],
   "source": [
    "# EXCLUDE CERTAIN SUBGROUPS\n",
    "# ----------------------\n",
    "\n",
    "mode = universe.get(\"exclude_subgroups\", \"keep-all\") \n",
    "# Fetches the exclude_subgroups setting from the universe dict.\n",
    "# Defaults to \"keep-all\" if the key is missing."
   ]
  },
  {
   "cell_type": "code",
   "execution_count": 26,
   "id": "21994072",
   "metadata": {
    "execution": {
     "iopub.execute_input": "2025-08-05T15:28:32.672002Z",
     "iopub.status.busy": "2025-08-05T15:28:32.670844Z",
     "iopub.status.idle": "2025-08-05T15:28:32.681165Z",
     "shell.execute_reply": "2025-08-05T15:28:32.680197Z"
    },
    "papermill": {
     "duration": 0.033291,
     "end_time": "2025-08-05T15:28:32.683160",
     "exception": false,
     "start_time": "2025-08-05T15:28:32.649869",
     "status": "completed"
    },
    "tags": []
   },
   "outputs": [],
   "source": [
    "if mode == \"keep-all\":\n",
    "    keep_mask = pd.Series(True, index=org_train.index)\n",
    "\n",
    "# org_train contains the original feature columns from features_org (in Simson)\n",
    "# features_org contains unprocessed features, for me X_train at beginning ???\n",
    "# For keep-all, creates a boolean Series (keep_mask) of all True, so no rows are removed.\n",
    "\n",
    "elif mode == \"drop-non-german\":\n",
    "    keep_mask = org_train[\"maxdeutsch1\"] == 1 # ??? what about missing values?\n",
    "\n",
    "else:\n",
    "    raise ValueError(f\"Unsupported mode for exclude_subgroups: {mode}\")"
   ]
  },
  {
   "cell_type": "code",
   "execution_count": 27,
   "id": "71651440",
   "metadata": {
    "execution": {
     "iopub.execute_input": "2025-08-05T15:28:32.726038Z",
     "iopub.status.busy": "2025-08-05T15:28:32.725287Z",
     "iopub.status.idle": "2025-08-05T15:28:32.733671Z",
     "shell.execute_reply": "2025-08-05T15:28:32.732199Z"
    },
    "papermill": {
     "duration": 0.033286,
     "end_time": "2025-08-05T15:28:32.735608",
     "exception": false,
     "start_time": "2025-08-05T15:28:32.702322",
     "status": "completed"
    },
    "tags": []
   },
   "outputs": [],
   "source": [
    "n_drop = (~keep_mask).sum() # Calculates how many rows are set to be dropped\n",
    "if n_drop > 0:\n",
    "    pct = n_drop / len(keep_mask) * 100\n",
    "    print(f\"Dropping {n_drop} rows ({pct:.2f}%) where mode='{mode}'\")"
   ]
  },
  {
   "cell_type": "code",
   "execution_count": 28,
   "id": "5fb8eee5",
   "metadata": {
    "execution": {
     "iopub.execute_input": "2025-08-05T15:28:32.776825Z",
     "iopub.status.busy": "2025-08-05T15:28:32.775630Z",
     "iopub.status.idle": "2025-08-05T15:28:32.784786Z",
     "shell.execute_reply": "2025-08-05T15:28:32.783758Z"
    },
    "papermill": {
     "duration": 0.03128,
     "end_time": "2025-08-05T15:28:32.786644",
     "exception": false,
     "start_time": "2025-08-05T15:28:32.755364",
     "status": "completed"
    },
    "tags": []
   },
   "outputs": [],
   "source": [
    "X_train = X_train[keep_mask]"
   ]
  },
  {
   "cell_type": "code",
   "execution_count": 29,
   "id": "b202bb3a",
   "metadata": {
    "execution": {
     "iopub.execute_input": "2025-08-05T15:28:32.828282Z",
     "iopub.status.busy": "2025-08-05T15:28:32.827403Z",
     "iopub.status.idle": "2025-08-05T15:28:32.835535Z",
     "shell.execute_reply": "2025-08-05T15:28:32.834443Z"
    },
    "papermill": {
     "duration": 0.030251,
     "end_time": "2025-08-05T15:28:32.837483",
     "exception": false,
     "start_time": "2025-08-05T15:28:32.807232",
     "status": "completed"
    },
    "tags": []
   },
   "outputs": [],
   "source": [
    "y_train = y_train[keep_mask]"
   ]
  },
  {
   "cell_type": "markdown",
   "id": "493e2ac3",
   "metadata": {
    "papermill": {
     "duration": 0.018887,
     "end_time": "2025-08-05T15:28:32.877271",
     "exception": false,
     "start_time": "2025-08-05T15:28:32.858384",
     "status": "completed"
    },
    "tags": []
   },
   "source": [
    "# Model Training"
   ]
  },
  {
   "cell_type": "code",
   "execution_count": 30,
   "id": "679e1268",
   "metadata": {
    "execution": {
     "iopub.execute_input": "2025-08-05T15:28:32.919888Z",
     "iopub.status.busy": "2025-08-05T15:28:32.919154Z",
     "iopub.status.idle": "2025-08-05T15:28:33.052810Z",
     "shell.execute_reply": "2025-08-05T15:28:33.051508Z"
    },
    "papermill": {
     "duration": 0.158101,
     "end_time": "2025-08-05T15:28:33.055298",
     "exception": false,
     "start_time": "2025-08-05T15:28:32.897197",
     "status": "completed"
    },
    "tags": []
   },
   "outputs": [],
   "source": [
    "from sklearn.linear_model import LogisticRegression\n",
    "from sklearn.ensemble import GradientBoostingClassifier, RandomForestClassifier\n",
    "\n",
    "if (universe[\"model\"] == \"logreg\"):\n",
    "    model = LogisticRegression() #penalty=\"none\", solver=\"newton-cg\", max_iter=1) # include random_state=19 ?\n",
    "elif (universe[\"model\"] == \"penalized_logreg\"):\n",
    "    model = LogisticRegression(penalty=\"l2\", C=0.1) #, solver=\"newton-cg\", max_iter=1)\n",
    "elif (universe[\"model\"] == \"rf\"):\n",
    "    model = RandomForestClassifier() # n_estimators=100, n_jobs=-1\n",
    "elif (universe[\"model\"] == \"gbm\"):\n",
    "    model = GradientBoostingClassifier()\n",
    "elif (universe[\"model\"] == \"elasticnet\"):\n",
    "    model = LogisticRegression(penalty = 'elasticnet', solver = 'saga', l1_ratio = 0.5) # max_iter=5000\n",
    "else:\n",
    "    raise \"Unsupported universe.model\""
   ]
  },
  {
   "cell_type": "code",
   "execution_count": 31,
   "id": "0cc8f744",
   "metadata": {
    "execution": {
     "iopub.execute_input": "2025-08-05T15:28:33.102968Z",
     "iopub.status.busy": "2025-08-05T15:28:33.102065Z",
     "iopub.status.idle": "2025-08-05T15:28:33.110602Z",
     "shell.execute_reply": "2025-08-05T15:28:33.109293Z"
    },
    "papermill": {
     "duration": 0.034969,
     "end_time": "2025-08-05T15:28:33.112756",
     "exception": false,
     "start_time": "2025-08-05T15:28:33.077787",
     "status": "completed"
    },
    "tags": []
   },
   "outputs": [],
   "source": [
    "import numpy as np\n",
    "from sklearn.pipeline import Pipeline\n",
    "from sklearn.preprocessing import StandardScaler\n",
    "\n",
    "model = Pipeline([\n",
    "    #(\"continuous_processor\", continuous_processor),\n",
    "    #(\"categorical_preprocessor\", categorical_preprocessor),\n",
    "    (\"scale\", StandardScaler() if universe[\"scale\"] == \"scale\" else None), \n",
    "    (\"model\", model),\n",
    "])"
   ]
  },
  {
   "cell_type": "code",
   "execution_count": 32,
   "id": "9442c04d",
   "metadata": {
    "execution": {
     "iopub.execute_input": "2025-08-05T15:28:33.157550Z",
     "iopub.status.busy": "2025-08-05T15:28:33.156626Z",
     "iopub.status.idle": "2025-08-05T15:28:33.311579Z",
     "shell.execute_reply": "2025-08-05T15:28:33.310412Z"
    },
    "papermill": {
     "duration": 0.178733,
     "end_time": "2025-08-05T15:28:33.313119",
     "exception": false,
     "start_time": "2025-08-05T15:28:33.134386",
     "status": "completed"
    },
    "tags": []
   },
   "outputs": [
    {
     "name": "stderr",
     "output_type": "stream",
     "text": [
      "/dss/dsshome1/0C/ra93lal2/.local/share/virtualenvs/CMA_Fairness_v2-3j10GkSs/lib/python3.10/site-packages/sklearn/linear_model/_logistic.py:444: ConvergenceWarning: lbfgs failed to converge (status=1):\n",
      "STOP: TOTAL NO. of ITERATIONS REACHED LIMIT.\n",
      "\n",
      "Increase the number of iterations (max_iter) or scale the data as shown in:\n",
      "    https://scikit-learn.org/stable/modules/preprocessing.html\n",
      "Please also refer to the documentation for alternative solver options:\n",
      "    https://scikit-learn.org/stable/modules/linear_model.html#logistic-regression\n",
      "  n_iter_i = _check_optimize_result(\n"
     ]
    },
    {
     "data": {
      "text/html": [
       "<style>#sk-container-id-1 {color: black;background-color: white;}#sk-container-id-1 pre{padding: 0;}#sk-container-id-1 div.sk-toggleable {background-color: white;}#sk-container-id-1 label.sk-toggleable__label {cursor: pointer;display: block;width: 100%;margin-bottom: 0;padding: 0.3em;box-sizing: border-box;text-align: center;}#sk-container-id-1 label.sk-toggleable__label-arrow:before {content: \"▸\";float: left;margin-right: 0.25em;color: #696969;}#sk-container-id-1 label.sk-toggleable__label-arrow:hover:before {color: black;}#sk-container-id-1 div.sk-estimator:hover label.sk-toggleable__label-arrow:before {color: black;}#sk-container-id-1 div.sk-toggleable__content {max-height: 0;max-width: 0;overflow: hidden;text-align: left;background-color: #f0f8ff;}#sk-container-id-1 div.sk-toggleable__content pre {margin: 0.2em;color: black;border-radius: 0.25em;background-color: #f0f8ff;}#sk-container-id-1 input.sk-toggleable__control:checked~div.sk-toggleable__content {max-height: 200px;max-width: 100%;overflow: auto;}#sk-container-id-1 input.sk-toggleable__control:checked~label.sk-toggleable__label-arrow:before {content: \"▾\";}#sk-container-id-1 div.sk-estimator input.sk-toggleable__control:checked~label.sk-toggleable__label {background-color: #d4ebff;}#sk-container-id-1 div.sk-label input.sk-toggleable__control:checked~label.sk-toggleable__label {background-color: #d4ebff;}#sk-container-id-1 input.sk-hidden--visually {border: 0;clip: rect(1px 1px 1px 1px);clip: rect(1px, 1px, 1px, 1px);height: 1px;margin: -1px;overflow: hidden;padding: 0;position: absolute;width: 1px;}#sk-container-id-1 div.sk-estimator {font-family: monospace;background-color: #f0f8ff;border: 1px dotted black;border-radius: 0.25em;box-sizing: border-box;margin-bottom: 0.5em;}#sk-container-id-1 div.sk-estimator:hover {background-color: #d4ebff;}#sk-container-id-1 div.sk-parallel-item::after {content: \"\";width: 100%;border-bottom: 1px solid gray;flex-grow: 1;}#sk-container-id-1 div.sk-label:hover label.sk-toggleable__label {background-color: #d4ebff;}#sk-container-id-1 div.sk-serial::before {content: \"\";position: absolute;border-left: 1px solid gray;box-sizing: border-box;top: 0;bottom: 0;left: 50%;z-index: 0;}#sk-container-id-1 div.sk-serial {display: flex;flex-direction: column;align-items: center;background-color: white;padding-right: 0.2em;padding-left: 0.2em;position: relative;}#sk-container-id-1 div.sk-item {position: relative;z-index: 1;}#sk-container-id-1 div.sk-parallel {display: flex;align-items: stretch;justify-content: center;background-color: white;position: relative;}#sk-container-id-1 div.sk-item::before, #sk-container-id-1 div.sk-parallel-item::before {content: \"\";position: absolute;border-left: 1px solid gray;box-sizing: border-box;top: 0;bottom: 0;left: 50%;z-index: -1;}#sk-container-id-1 div.sk-parallel-item {display: flex;flex-direction: column;z-index: 1;position: relative;background-color: white;}#sk-container-id-1 div.sk-parallel-item:first-child::after {align-self: flex-end;width: 50%;}#sk-container-id-1 div.sk-parallel-item:last-child::after {align-self: flex-start;width: 50%;}#sk-container-id-1 div.sk-parallel-item:only-child::after {width: 0;}#sk-container-id-1 div.sk-dashed-wrapped {border: 1px dashed gray;margin: 0 0.4em 0.5em 0.4em;box-sizing: border-box;padding-bottom: 0.4em;background-color: white;}#sk-container-id-1 div.sk-label label {font-family: monospace;font-weight: bold;display: inline-block;line-height: 1.2em;}#sk-container-id-1 div.sk-label-container {text-align: center;}#sk-container-id-1 div.sk-container {/* jupyter's `normalize.less` sets `[hidden] { display: none; }` but bootstrap.min.css set `[hidden] { display: none !important; }` so we also need the `!important` here to be able to override the default hidden behavior on the sphinx rendered scikit-learn.org. See: https://github.com/scikit-learn/scikit-learn/issues/21755 */display: inline-block !important;position: relative;}#sk-container-id-1 div.sk-text-repr-fallback {display: none;}</style><div id=\"sk-container-id-1\" class=\"sk-top-container\"><div class=\"sk-text-repr-fallback\"><pre>Pipeline(steps=[(&#x27;scale&#x27;, None), (&#x27;model&#x27;, LogisticRegression(C=0.1))])</pre><b>In a Jupyter environment, please rerun this cell to show the HTML representation or trust the notebook. <br />On GitHub, the HTML representation is unable to render, please try loading this page with nbviewer.org.</b></div><div class=\"sk-container\" hidden><div class=\"sk-item sk-dashed-wrapped\"><div class=\"sk-label-container\"><div class=\"sk-label sk-toggleable\"><input class=\"sk-toggleable__control sk-hidden--visually\" id=\"sk-estimator-id-1\" type=\"checkbox\" ><label for=\"sk-estimator-id-1\" class=\"sk-toggleable__label sk-toggleable__label-arrow\">Pipeline</label><div class=\"sk-toggleable__content\"><pre>Pipeline(steps=[(&#x27;scale&#x27;, None), (&#x27;model&#x27;, LogisticRegression(C=0.1))])</pre></div></div></div><div class=\"sk-serial\"><div class=\"sk-item\"><div class=\"sk-estimator sk-toggleable\"><input class=\"sk-toggleable__control sk-hidden--visually\" id=\"sk-estimator-id-2\" type=\"checkbox\" ><label for=\"sk-estimator-id-2\" class=\"sk-toggleable__label sk-toggleable__label-arrow\">None</label><div class=\"sk-toggleable__content\"><pre>None</pre></div></div></div><div class=\"sk-item\"><div class=\"sk-estimator sk-toggleable\"><input class=\"sk-toggleable__control sk-hidden--visually\" id=\"sk-estimator-id-3\" type=\"checkbox\" ><label for=\"sk-estimator-id-3\" class=\"sk-toggleable__label sk-toggleable__label-arrow\">LogisticRegression</label><div class=\"sk-toggleable__content\"><pre>LogisticRegression(C=0.1)</pre></div></div></div></div></div></div></div>"
      ],
      "text/plain": [
       "Pipeline(steps=[('scale', None), ('model', LogisticRegression(C=0.1))])"
      ]
     },
     "execution_count": 32,
     "metadata": {},
     "output_type": "execute_result"
    }
   ],
   "source": [
    "model.fit(X_train, y_train.values.ravel())"
   ]
  },
  {
   "cell_type": "code",
   "execution_count": 33,
   "id": "af59f8c0",
   "metadata": {
    "execution": {
     "iopub.execute_input": "2025-08-05T15:28:33.354992Z",
     "iopub.status.busy": "2025-08-05T15:28:33.354025Z",
     "iopub.status.idle": "2025-08-05T15:28:33.360881Z",
     "shell.execute_reply": "2025-08-05T15:28:33.359668Z"
    },
    "papermill": {
     "duration": 0.029368,
     "end_time": "2025-08-05T15:28:33.362867",
     "exception": false,
     "start_time": "2025-08-05T15:28:33.333499",
     "status": "completed"
    },
    "tags": []
   },
   "outputs": [],
   "source": [
    "from fairness_multiverse.universe import predict_w_threshold"
   ]
  },
  {
   "cell_type": "code",
   "execution_count": 34,
   "id": "a7cf2e16",
   "metadata": {
    "execution": {
     "iopub.execute_input": "2025-08-05T15:28:33.405307Z",
     "iopub.status.busy": "2025-08-05T15:28:33.404405Z",
     "iopub.status.idle": "2025-08-05T15:28:33.506515Z",
     "shell.execute_reply": "2025-08-05T15:28:33.505445Z"
    },
    "papermill": {
     "duration": 0.125322,
     "end_time": "2025-08-05T15:28:33.508320",
     "exception": false,
     "start_time": "2025-08-05T15:28:33.382998",
     "status": "completed"
    },
    "tags": []
   },
   "outputs": [
    {
     "data": {
      "text/plain": [
       "0.8605841043361944"
      ]
     },
     "execution_count": 34,
     "metadata": {},
     "output_type": "execute_result"
    }
   ],
   "source": [
    "probs_test = model.predict_proba(X_test)\n",
    "\n",
    "'''\n",
    "Below code returns a boolean array (or binary 0/1 array depending on how it’s used) where each element \n",
    "is True if the probability of class 1 is greater than or equal to the threshold, and False otherwise.\n",
    "'''\n",
    "y_pred_default = predict_w_threshold(probs_test, 0.5)\n",
    "\n",
    "from sklearn.metrics import accuracy_score\n",
    "\n",
    "# Naive prediction\n",
    "accuracy_score(y_true = y_true, y_pred = y_pred_default)"
   ]
  },
  {
   "cell_type": "code",
   "execution_count": 35,
   "id": "081964c3",
   "metadata": {
    "execution": {
     "iopub.execute_input": "2025-08-05T15:28:33.553664Z",
     "iopub.status.busy": "2025-08-05T15:28:33.552887Z",
     "iopub.status.idle": "2025-08-05T15:28:33.643902Z",
     "shell.execute_reply": "2025-08-05T15:28:33.642838Z"
    },
    "papermill": {
     "duration": 0.115117,
     "end_time": "2025-08-05T15:28:33.645744",
     "exception": false,
     "start_time": "2025-08-05T15:28:33.530627",
     "status": "completed"
    },
    "tags": []
   },
   "outputs": [
    {
     "data": {
      "text/plain": [
       "array([0, 0, 0, ..., 0, 0, 0])"
      ]
     },
     "execution_count": 35,
     "metadata": {},
     "output_type": "execute_result"
    }
   ],
   "source": [
    "model.predict(X_test)"
   ]
  },
  {
   "cell_type": "markdown",
   "id": "56c9705b",
   "metadata": {
    "papermill": {
     "duration": 0.02321,
     "end_time": "2025-08-05T15:28:33.692227",
     "exception": false,
     "start_time": "2025-08-05T15:28:33.669017",
     "status": "completed"
    },
    "tags": []
   },
   "source": [
    "# Conformal Prediction"
   ]
  },
  {
   "cell_type": "code",
   "execution_count": 36,
   "id": "160ec6ff",
   "metadata": {
    "execution": {
     "iopub.execute_input": "2025-08-05T15:28:33.739658Z",
     "iopub.status.busy": "2025-08-05T15:28:33.739125Z",
     "iopub.status.idle": "2025-08-05T15:28:33.744639Z",
     "shell.execute_reply": "2025-08-05T15:28:33.743597Z"
    },
    "papermill": {
     "duration": 0.03182,
     "end_time": "2025-08-05T15:28:33.746911",
     "exception": false,
     "start_time": "2025-08-05T15:28:33.715091",
     "status": "completed"
    },
    "tags": []
   },
   "outputs": [],
   "source": [
    "# Miscoverage level for conformal prediction (10% allowed error rate => 90% target coverage)\n",
    "alpha = 0.1"
   ]
  },
  {
   "cell_type": "code",
   "execution_count": 37,
   "id": "eadf4555-3dd3-440e-8e35-f82a4ad9f855",
   "metadata": {
    "execution": {
     "iopub.execute_input": "2025-08-05T15:28:33.795419Z",
     "iopub.status.busy": "2025-08-05T15:28:33.794942Z",
     "iopub.status.idle": "2025-08-05T15:28:33.878859Z",
     "shell.execute_reply": "2025-08-05T15:28:33.877525Z"
    },
    "papermill": {
     "duration": 0.110448,
     "end_time": "2025-08-05T15:28:33.880924",
     "exception": false,
     "start_time": "2025-08-05T15:28:33.770476",
     "status": "completed"
    },
    "tags": []
   },
   "outputs": [],
   "source": [
    "probs_calib = model.predict_proba(X_calib)"
   ]
  },
  {
   "cell_type": "code",
   "execution_count": 38,
   "id": "2ed93547-6d5d-4983-9b36-1ecb300da49a",
   "metadata": {
    "execution": {
     "iopub.execute_input": "2025-08-05T15:28:33.929069Z",
     "iopub.status.busy": "2025-08-05T15:28:33.928482Z",
     "iopub.status.idle": "2025-08-05T15:28:33.934615Z",
     "shell.execute_reply": "2025-08-05T15:28:33.933486Z"
    },
    "papermill": {
     "duration": 0.032314,
     "end_time": "2025-08-05T15:28:33.936619",
     "exception": false,
     "start_time": "2025-08-05T15:28:33.904305",
     "status": "completed"
    },
    "tags": []
   },
   "outputs": [],
   "source": [
    "y_calib = y_calib.values.ravel().astype(int)"
   ]
  },
  {
   "cell_type": "code",
   "execution_count": 39,
   "id": "65d1320d-f588-4b38-9072-62af1ae97f7d",
   "metadata": {
    "execution": {
     "iopub.execute_input": "2025-08-05T15:28:33.985592Z",
     "iopub.status.busy": "2025-08-05T15:28:33.985042Z",
     "iopub.status.idle": "2025-08-05T15:28:33.992857Z",
     "shell.execute_reply": "2025-08-05T15:28:33.991908Z"
    },
    "papermill": {
     "duration": 0.035828,
     "end_time": "2025-08-05T15:28:33.994965",
     "exception": false,
     "start_time": "2025-08-05T15:28:33.959137",
     "status": "completed"
    },
    "tags": []
   },
   "outputs": [],
   "source": [
    "from fairness_multiverse.conformal import compute_nc_scores\n",
    "\n",
    "# Compute nonconformity scores on calibration set (1 - probability of true class)\n",
    "nc_scores = compute_nc_scores(probs_calib, y_calib)"
   ]
  },
  {
   "cell_type": "code",
   "execution_count": 40,
   "id": "df3b8ca3-53b7-43d5-9667-7c85da7aeda2",
   "metadata": {
    "execution": {
     "iopub.execute_input": "2025-08-05T15:28:34.044755Z",
     "iopub.status.busy": "2025-08-05T15:28:34.044085Z",
     "iopub.status.idle": "2025-08-05T15:28:34.052066Z",
     "shell.execute_reply": "2025-08-05T15:28:34.050782Z"
    },
    "papermill": {
     "duration": 0.034776,
     "end_time": "2025-08-05T15:28:34.053925",
     "exception": false,
     "start_time": "2025-08-05T15:28:34.019149",
     "status": "completed"
    },
    "tags": []
   },
   "outputs": [],
   "source": [
    "from fairness_multiverse.conformal import find_threshold\n",
    "\n",
    "# Find conformal threshold q_hat for the given alpha (split conformal method)\n",
    "q_hat = find_threshold(nc_scores, alpha)"
   ]
  },
  {
   "cell_type": "code",
   "execution_count": 41,
   "id": "4d29e6c1-0ef6-4aa4-b8fe-4fe79b0d033a",
   "metadata": {
    "execution": {
     "iopub.execute_input": "2025-08-05T15:28:34.096950Z",
     "iopub.status.busy": "2025-08-05T15:28:34.096069Z",
     "iopub.status.idle": "2025-08-05T15:28:34.107739Z",
     "shell.execute_reply": "2025-08-05T15:28:34.106733Z"
    },
    "papermill": {
     "duration": 0.035426,
     "end_time": "2025-08-05T15:28:34.109711",
     "exception": false,
     "start_time": "2025-08-05T15:28:34.074285",
     "status": "completed"
    },
    "tags": []
   },
   "outputs": [
    {
     "data": {
      "text/plain": [
       "0.677090379361889"
      ]
     },
     "execution_count": 41,
     "metadata": {},
     "output_type": "execute_result"
    }
   ],
   "source": [
    "q_hat"
   ]
  },
  {
   "cell_type": "code",
   "execution_count": 42,
   "id": "92460794-cdac-4be2-ba28-f28c0515a6fb",
   "metadata": {
    "execution": {
     "iopub.execute_input": "2025-08-05T15:28:34.158621Z",
     "iopub.status.busy": "2025-08-05T15:28:34.157948Z",
     "iopub.status.idle": "2025-08-05T15:28:35.063406Z",
     "shell.execute_reply": "2025-08-05T15:28:35.062258Z"
    },
    "papermill": {
     "duration": 0.932189,
     "end_time": "2025-08-05T15:28:35.065454",
     "exception": false,
     "start_time": "2025-08-05T15:28:34.133265",
     "status": "completed"
    },
    "tags": []
   },
   "outputs": [],
   "source": [
    "from fairness_multiverse.conformal import predict_conformal_sets\n",
    "\n",
    "# Generate prediction sets for each test example\n",
    "pred_sets = predict_conformal_sets(model, X_test, q_hat)"
   ]
  },
  {
   "cell_type": "code",
   "execution_count": 43,
   "id": "d90c9a65-e6db-4f5d-80cd-e68fb7e46829",
   "metadata": {
    "execution": {
     "iopub.execute_input": "2025-08-05T15:28:35.113073Z",
     "iopub.status.busy": "2025-08-05T15:28:35.112595Z",
     "iopub.status.idle": "2025-08-05T15:28:35.118127Z",
     "shell.execute_reply": "2025-08-05T15:28:35.117075Z"
    },
    "papermill": {
     "duration": 0.031995,
     "end_time": "2025-08-05T15:28:35.120375",
     "exception": false,
     "start_time": "2025-08-05T15:28:35.088380",
     "status": "completed"
    },
    "tags": []
   },
   "outputs": [],
   "source": [
    "y_true = y_true.squeeze()"
   ]
  },
  {
   "cell_type": "code",
   "execution_count": 44,
   "id": "3a58a54a-1e68-46b9-927a-df01f18aebc8",
   "metadata": {
    "execution": {
     "iopub.execute_input": "2025-08-05T15:28:35.147623Z",
     "iopub.status.busy": "2025-08-05T15:28:35.147326Z",
     "iopub.status.idle": "2025-08-05T15:28:36.109673Z",
     "shell.execute_reply": "2025-08-05T15:28:36.108593Z"
    },
    "papermill": {
     "duration": 0.976108,
     "end_time": "2025-08-05T15:28:36.111649",
     "exception": false,
     "start_time": "2025-08-05T15:28:35.135541",
     "status": "completed"
    },
    "tags": []
   },
   "outputs": [],
   "source": [
    "from fairness_multiverse.conformal import evaluate_sets\n",
    "\n",
    "# Evaluate coverage and average set size on test data\n",
    "metrics = evaluate_sets(pred_sets, y_true)"
   ]
  },
  {
   "cell_type": "markdown",
   "id": "2b569c12-9aaa-4c88-98c9-bbcd0cf3ebb8",
   "metadata": {
    "papermill": {
     "duration": 0.02278,
     "end_time": "2025-08-05T15:28:36.157288",
     "exception": false,
     "start_time": "2025-08-05T15:28:36.134508",
     "status": "completed"
    },
    "tags": []
   },
   "source": [
    "# CP Metrics"
   ]
  },
  {
   "cell_type": "code",
   "execution_count": 45,
   "id": "5ce0a5cb-201f-45a0-ade5-94c7f0bd6095",
   "metadata": {
    "execution": {
     "iopub.execute_input": "2025-08-05T15:28:36.205012Z",
     "iopub.status.busy": "2025-08-05T15:28:36.204460Z",
     "iopub.status.idle": "2025-08-05T15:28:36.213393Z",
     "shell.execute_reply": "2025-08-05T15:28:36.212177Z"
    },
    "papermill": {
     "duration": 0.035031,
     "end_time": "2025-08-05T15:28:36.215369",
     "exception": false,
     "start_time": "2025-08-05T15:28:36.180338",
     "status": "completed"
    },
    "tags": []
   },
   "outputs": [
    {
     "data": {
      "text/plain": [
       "{'coverage': 0.911971909486122, 'avg_size': 1.198684650540631}"
      ]
     },
     "execution_count": 45,
     "metadata": {},
     "output_type": "execute_result"
    }
   ],
   "source": [
    "metrics"
   ]
  },
  {
   "cell_type": "code",
   "execution_count": 46,
   "id": "9b9a838d-31c9-430b-ae14-12baee460d17",
   "metadata": {
    "execution": {
     "iopub.execute_input": "2025-08-05T15:28:36.262799Z",
     "iopub.status.busy": "2025-08-05T15:28:36.262106Z",
     "iopub.status.idle": "2025-08-05T15:28:36.268945Z",
     "shell.execute_reply": "2025-08-05T15:28:36.267913Z"
    },
    "papermill": {
     "duration": 0.031957,
     "end_time": "2025-08-05T15:28:36.271090",
     "exception": false,
     "start_time": "2025-08-05T15:28:36.239133",
     "status": "completed"
    },
    "tags": []
   },
   "outputs": [],
   "source": [
    "example_universe = universe.copy()\n",
    "universe_training_year = example_universe.get(\"training_year\")\n",
    "universe_training_size = example_universe.get(\"training_size\")\n",
    "universe_scale = example_universe.get(\"scale\")\n",
    "universe_model = example_universe.get(\"model\")\n",
    "universe_exclude_features = example_universe.get(\"exclude_features\")\n",
    "universe_exclude_subgroups = example_universe.get(\"exclude_subgroups\")"
   ]
  },
  {
   "cell_type": "code",
   "execution_count": 47,
   "id": "f4b6a8ac-9dc0-4245-8a91-5b3b5999c4f9",
   "metadata": {
    "execution": {
     "iopub.execute_input": "2025-08-05T15:28:36.321137Z",
     "iopub.status.busy": "2025-08-05T15:28:36.320479Z",
     "iopub.status.idle": "2025-08-05T15:28:36.327404Z",
     "shell.execute_reply": "2025-08-05T15:28:36.326435Z"
    },
    "papermill": {
     "duration": 0.033264,
     "end_time": "2025-08-05T15:28:36.329317",
     "exception": false,
     "start_time": "2025-08-05T15:28:36.296053",
     "status": "completed"
    },
    "tags": []
   },
   "outputs": [],
   "source": [
    "cp_metrics_dict = {\n",
    "    \"universe_id\": [universe_id],\n",
    "    \"universe_training_year\": [universe_training_year],\n",
    "    \"universe_training_size\": [universe_training_size],\n",
    "    \"universe_scale\": [universe_scale],\n",
    "    \"universe_model\": [universe_model],\n",
    "    \"universe_exclude_features\": [universe_exclude_features],\n",
    "    \"universe_exclude_subgroups\": [universe_exclude_subgroups],\n",
    "    \"q_hat\": [q_hat],\n",
    "    \"coverage\": [metrics[\"coverage\"]],\n",
    "    \"avg_size\": [metrics[\"avg_size\"]],\n",
    "}"
   ]
  },
  {
   "cell_type": "code",
   "execution_count": 48,
   "id": "908acbb1-0371-4915-85ca-3fa520d2efe2",
   "metadata": {
    "execution": {
     "iopub.execute_input": "2025-08-05T15:28:36.378713Z",
     "iopub.status.busy": "2025-08-05T15:28:36.377772Z",
     "iopub.status.idle": "2025-08-05T15:28:36.386366Z",
     "shell.execute_reply": "2025-08-05T15:28:36.384990Z"
    },
    "papermill": {
     "duration": 0.034825,
     "end_time": "2025-08-05T15:28:36.388251",
     "exception": false,
     "start_time": "2025-08-05T15:28:36.353426",
     "status": "completed"
    },
    "tags": []
   },
   "outputs": [
    {
     "data": {
      "text/plain": [
       "{'universe_id': ['1ad98b4e03cb337821ca62ac5fa740b4'],\n",
       " 'universe_training_year': ['2014'],\n",
       " 'universe_training_size': ['5k'],\n",
       " 'universe_scale': ['do-not-scale'],\n",
       " 'universe_model': ['penalized_logreg'],\n",
       " 'universe_exclude_features': ['none'],\n",
       " 'universe_exclude_subgroups': ['keep-all'],\n",
       " 'q_hat': [0.677090379361889],\n",
       " 'coverage': [0.911971909486122],\n",
       " 'avg_size': [1.198684650540631]}"
      ]
     },
     "execution_count": 48,
     "metadata": {},
     "output_type": "execute_result"
    }
   ],
   "source": [
    "cp_metrics_dict"
   ]
  },
  {
   "cell_type": "code",
   "execution_count": 49,
   "id": "33007efc-14e9-4ec6-97ac-56a455c82265",
   "metadata": {
    "execution": {
     "iopub.execute_input": "2025-08-05T15:28:36.435575Z",
     "iopub.status.busy": "2025-08-05T15:28:36.434845Z",
     "iopub.status.idle": "2025-08-05T15:28:36.443076Z",
     "shell.execute_reply": "2025-08-05T15:28:36.441870Z"
    },
    "papermill": {
     "duration": 0.033432,
     "end_time": "2025-08-05T15:28:36.445038",
     "exception": false,
     "start_time": "2025-08-05T15:28:36.411606",
     "status": "completed"
    },
    "tags": []
   },
   "outputs": [],
   "source": [
    "cp_metrics_df = pd.DataFrame(cp_metrics_dict)"
   ]
  },
  {
   "cell_type": "code",
   "execution_count": 50,
   "id": "db12611b-57b2-4910-b9d0-355adfd6e7bf",
   "metadata": {
    "execution": {
     "iopub.execute_input": "2025-08-05T15:28:36.492774Z",
     "iopub.status.busy": "2025-08-05T15:28:36.491896Z",
     "iopub.status.idle": "2025-08-05T15:28:36.511215Z",
     "shell.execute_reply": "2025-08-05T15:28:36.510258Z"
    },
    "papermill": {
     "duration": 0.044563,
     "end_time": "2025-08-05T15:28:36.513006",
     "exception": false,
     "start_time": "2025-08-05T15:28:36.468443",
     "status": "completed"
    },
    "tags": []
   },
   "outputs": [
    {
     "data": {
      "text/html": [
       "<div>\n",
       "<style scoped>\n",
       "    .dataframe tbody tr th:only-of-type {\n",
       "        vertical-align: middle;\n",
       "    }\n",
       "\n",
       "    .dataframe tbody tr th {\n",
       "        vertical-align: top;\n",
       "    }\n",
       "\n",
       "    .dataframe thead th {\n",
       "        text-align: right;\n",
       "    }\n",
       "</style>\n",
       "<table border=\"1\" class=\"dataframe\">\n",
       "  <thead>\n",
       "    <tr style=\"text-align: right;\">\n",
       "      <th></th>\n",
       "      <th>universe_id</th>\n",
       "      <th>universe_training_year</th>\n",
       "      <th>universe_training_size</th>\n",
       "      <th>universe_scale</th>\n",
       "      <th>universe_model</th>\n",
       "      <th>universe_exclude_features</th>\n",
       "      <th>universe_exclude_subgroups</th>\n",
       "      <th>q_hat</th>\n",
       "      <th>coverage</th>\n",
       "      <th>avg_size</th>\n",
       "    </tr>\n",
       "  </thead>\n",
       "  <tbody>\n",
       "    <tr>\n",
       "      <th>0</th>\n",
       "      <td>1ad98b4e03cb337821ca62ac5fa740b4</td>\n",
       "      <td>2014</td>\n",
       "      <td>5k</td>\n",
       "      <td>do-not-scale</td>\n",
       "      <td>penalized_logreg</td>\n",
       "      <td>none</td>\n",
       "      <td>keep-all</td>\n",
       "      <td>0.67709</td>\n",
       "      <td>0.911972</td>\n",
       "      <td>1.198685</td>\n",
       "    </tr>\n",
       "  </tbody>\n",
       "</table>\n",
       "</div>"
      ],
      "text/plain": [
       "                        universe_id universe_training_year  \\\n",
       "0  1ad98b4e03cb337821ca62ac5fa740b4                   2014   \n",
       "\n",
       "  universe_training_size universe_scale    universe_model  \\\n",
       "0                     5k   do-not-scale  penalized_logreg   \n",
       "\n",
       "  universe_exclude_features universe_exclude_subgroups    q_hat  coverage  \\\n",
       "0                      none                   keep-all  0.67709  0.911972   \n",
       "\n",
       "   avg_size  \n",
       "0  1.198685  "
      ]
     },
     "execution_count": 50,
     "metadata": {},
     "output_type": "execute_result"
    }
   ],
   "source": [
    "cp_metrics_df"
   ]
  },
  {
   "cell_type": "code",
   "execution_count": 51,
   "id": "b7fbde55-a0a1-47e4-9af6-fe4a17fa8c61",
   "metadata": {
    "execution": {
     "iopub.execute_input": "2025-08-05T15:28:36.561312Z",
     "iopub.status.busy": "2025-08-05T15:28:36.560602Z",
     "iopub.status.idle": "2025-08-05T15:28:36.565810Z",
     "shell.execute_reply": "2025-08-05T15:28:36.564729Z"
    },
    "papermill": {
     "duration": 0.030977,
     "end_time": "2025-08-05T15:28:36.567733",
     "exception": false,
     "start_time": "2025-08-05T15:28:36.536756",
     "status": "completed"
    },
    "tags": []
   },
   "outputs": [],
   "source": [
    "# Conditional Coverage & looking at subgroups"
   ]
  },
  {
   "cell_type": "code",
   "execution_count": 52,
   "id": "027ae886-68dd-4141-96c7-805a5450e1ef",
   "metadata": {
    "execution": {
     "iopub.execute_input": "2025-08-05T15:28:36.616214Z",
     "iopub.status.busy": "2025-08-05T15:28:36.615271Z",
     "iopub.status.idle": "2025-08-05T15:28:36.883323Z",
     "shell.execute_reply": "2025-08-05T15:28:36.882296Z"
    },
    "papermill": {
     "duration": 0.293669,
     "end_time": "2025-08-05T15:28:36.885050",
     "exception": false,
     "start_time": "2025-08-05T15:28:36.591381",
     "status": "completed"
    },
    "tags": []
   },
   "outputs": [],
   "source": [
    "from fairness_multiverse.conformal import build_cp_groups\n",
    "\n",
    "cp_groups_df = build_cp_groups(pred_sets, y_true, X_test.index, org_test)\n",
    "#needs universe_id and setting"
   ]
  },
  {
   "cell_type": "code",
   "execution_count": 53,
   "id": "6cbdab96-b2b2-45af-ad54-d0516db2e28d",
   "metadata": {
    "execution": {
     "iopub.execute_input": "2025-08-05T15:28:36.936170Z",
     "iopub.status.busy": "2025-08-05T15:28:36.935341Z",
     "iopub.status.idle": "2025-08-05T15:28:38.888035Z",
     "shell.execute_reply": "2025-08-05T15:28:38.886685Z"
    },
    "papermill": {
     "duration": 1.980016,
     "end_time": "2025-08-05T15:28:38.890802",
     "exception": false,
     "start_time": "2025-08-05T15:28:36.910786",
     "status": "completed"
    },
    "tags": []
   },
   "outputs": [],
   "source": [
    "# Define covered = 1 if true_label is in the predicted set\n",
    "cp_groups_df['covered'] = cp_groups_df.apply(\n",
    "    lambda r: int(r['true_label'] in r['pred_set']),\n",
    "    axis=1\n",
    ")"
   ]
  },
  {
   "cell_type": "code",
   "execution_count": 54,
   "id": "338ff529-1a6b-4b87-a931-8e4788d52aad",
   "metadata": {
    "execution": {
     "iopub.execute_input": "2025-08-05T15:28:38.950356Z",
     "iopub.status.busy": "2025-08-05T15:28:38.949464Z",
     "iopub.status.idle": "2025-08-05T15:28:38.956001Z",
     "shell.execute_reply": "2025-08-05T15:28:38.954816Z"
    },
    "papermill": {
     "duration": 0.038728,
     "end_time": "2025-08-05T15:28:38.958300",
     "exception": false,
     "start_time": "2025-08-05T15:28:38.919572",
     "status": "completed"
    },
    "tags": []
   },
   "outputs": [],
   "source": [
    "#cp_groups_df"
   ]
  },
  {
   "cell_type": "code",
   "execution_count": 55,
   "id": "90032e27-66df-4540-9169-4e89cfbaa758",
   "metadata": {
    "execution": {
     "iopub.execute_input": "2025-08-05T15:28:39.013302Z",
     "iopub.status.busy": "2025-08-05T15:28:39.012374Z",
     "iopub.status.idle": "2025-08-05T15:28:39.025240Z",
     "shell.execute_reply": "2025-08-05T15:28:39.024054Z"
    },
    "papermill": {
     "duration": 0.042644,
     "end_time": "2025-08-05T15:28:39.027598",
     "exception": false,
     "start_time": "2025-08-05T15:28:38.984954",
     "status": "completed"
    },
    "tags": []
   },
   "outputs": [],
   "source": [
    "subgroups = ['frau1','nongerman','nongerman_male','nongerman_female']\n",
    "\n",
    "# Conditional coverage for subgroup==1\n",
    "cond_coverage = {\n",
    "    g: cp_groups_df.loc[cp_groups_df[g]==1, 'covered'].mean()\n",
    "    for g in subgroups\n",
    "}"
   ]
  },
  {
   "cell_type": "code",
   "execution_count": 56,
   "id": "1e348fb1-b9c3-45bc-ba23-f016827a7e0d",
   "metadata": {
    "execution": {
     "iopub.execute_input": "2025-08-05T15:28:39.085364Z",
     "iopub.status.busy": "2025-08-05T15:28:39.084732Z",
     "iopub.status.idle": "2025-08-05T15:28:39.093487Z",
     "shell.execute_reply": "2025-08-05T15:28:39.092032Z"
    },
    "papermill": {
     "duration": 0.039985,
     "end_time": "2025-08-05T15:28:39.095610",
     "exception": false,
     "start_time": "2025-08-05T15:28:39.055625",
     "status": "completed"
    },
    "tags": []
   },
   "outputs": [
    {
     "data": {
      "text/plain": [
       "{'frau1': 0.9095835018196522,\n",
       " 'nongerman': 0.9259529557065065,\n",
       " 'nongerman_male': 0.941727461046564,\n",
       " 'nongerman_female': 0.8998509687034277}"
      ]
     },
     "execution_count": 56,
     "metadata": {},
     "output_type": "execute_result"
    }
   ],
   "source": [
    "cond_coverage"
   ]
  },
  {
   "cell_type": "code",
   "execution_count": 57,
   "id": "f5093324-c3dd-4d63-bc4c-8d945e5c8bbb",
   "metadata": {
    "execution": {
     "iopub.execute_input": "2025-08-05T15:28:39.123169Z",
     "iopub.status.busy": "2025-08-05T15:28:39.122785Z",
     "iopub.status.idle": "2025-08-05T15:28:39.130670Z",
     "shell.execute_reply": "2025-08-05T15:28:39.129577Z"
    },
    "papermill": {
     "duration": 0.021249,
     "end_time": "2025-08-05T15:28:39.132524",
     "exception": false,
     "start_time": "2025-08-05T15:28:39.111275",
     "status": "completed"
    },
    "tags": []
   },
   "outputs": [],
   "source": [
    "for subgroup, cov in cond_coverage.items():\n",
    "    cp_metrics_df[f\"cov_{subgroup}\"] = cov"
   ]
  },
  {
   "cell_type": "code",
   "execution_count": 58,
   "id": "6e872e10-dbe5-49e8-b554-5030c98ff75d",
   "metadata": {
    "execution": {
     "iopub.execute_input": "2025-08-05T15:28:39.167648Z",
     "iopub.status.busy": "2025-08-05T15:28:39.167267Z",
     "iopub.status.idle": "2025-08-05T15:28:39.181224Z",
     "shell.execute_reply": "2025-08-05T15:28:39.180325Z"
    },
    "papermill": {
     "duration": 0.027483,
     "end_time": "2025-08-05T15:28:39.182631",
     "exception": false,
     "start_time": "2025-08-05T15:28:39.155148",
     "status": "completed"
    },
    "tags": []
   },
   "outputs": [
    {
     "data": {
      "text/html": [
       "<div>\n",
       "<style scoped>\n",
       "    .dataframe tbody tr th:only-of-type {\n",
       "        vertical-align: middle;\n",
       "    }\n",
       "\n",
       "    .dataframe tbody tr th {\n",
       "        vertical-align: top;\n",
       "    }\n",
       "\n",
       "    .dataframe thead th {\n",
       "        text-align: right;\n",
       "    }\n",
       "</style>\n",
       "<table border=\"1\" class=\"dataframe\">\n",
       "  <thead>\n",
       "    <tr style=\"text-align: right;\">\n",
       "      <th></th>\n",
       "      <th>universe_id</th>\n",
       "      <th>universe_training_year</th>\n",
       "      <th>universe_training_size</th>\n",
       "      <th>universe_scale</th>\n",
       "      <th>universe_model</th>\n",
       "      <th>universe_exclude_features</th>\n",
       "      <th>universe_exclude_subgroups</th>\n",
       "      <th>q_hat</th>\n",
       "      <th>coverage</th>\n",
       "      <th>avg_size</th>\n",
       "      <th>cov_frau1</th>\n",
       "      <th>cov_nongerman</th>\n",
       "      <th>cov_nongerman_male</th>\n",
       "      <th>cov_nongerman_female</th>\n",
       "    </tr>\n",
       "  </thead>\n",
       "  <tbody>\n",
       "    <tr>\n",
       "      <th>0</th>\n",
       "      <td>1ad98b4e03cb337821ca62ac5fa740b4</td>\n",
       "      <td>2014</td>\n",
       "      <td>5k</td>\n",
       "      <td>do-not-scale</td>\n",
       "      <td>penalized_logreg</td>\n",
       "      <td>none</td>\n",
       "      <td>keep-all</td>\n",
       "      <td>0.67709</td>\n",
       "      <td>0.911972</td>\n",
       "      <td>1.198685</td>\n",
       "      <td>0.909584</td>\n",
       "      <td>0.925953</td>\n",
       "      <td>0.941727</td>\n",
       "      <td>0.899851</td>\n",
       "    </tr>\n",
       "  </tbody>\n",
       "</table>\n",
       "</div>"
      ],
      "text/plain": [
       "                        universe_id universe_training_year  \\\n",
       "0  1ad98b4e03cb337821ca62ac5fa740b4                   2014   \n",
       "\n",
       "  universe_training_size universe_scale    universe_model  \\\n",
       "0                     5k   do-not-scale  penalized_logreg   \n",
       "\n",
       "  universe_exclude_features universe_exclude_subgroups    q_hat  coverage  \\\n",
       "0                      none                   keep-all  0.67709  0.911972   \n",
       "\n",
       "   avg_size  cov_frau1  cov_nongerman  cov_nongerman_male  \\\n",
       "0  1.198685   0.909584       0.925953            0.941727   \n",
       "\n",
       "   cov_nongerman_female  \n",
       "0              0.899851  "
      ]
     },
     "execution_count": 58,
     "metadata": {},
     "output_type": "execute_result"
    }
   ],
   "source": [
    "cp_metrics_df"
   ]
  },
  {
   "cell_type": "markdown",
   "id": "33774451",
   "metadata": {
    "papermill": {
     "duration": 0.019062,
     "end_time": "2025-08-05T15:28:39.212915",
     "exception": false,
     "start_time": "2025-08-05T15:28:39.193853",
     "status": "completed"
    },
    "tags": []
   },
   "source": [
    "# (Fairness) Metrics"
   ]
  },
  {
   "cell_type": "code",
   "execution_count": 59,
   "id": "debc5d62",
   "metadata": {
    "execution": {
     "iopub.execute_input": "2025-08-05T15:28:39.274764Z",
     "iopub.status.busy": "2025-08-05T15:28:39.273850Z",
     "iopub.status.idle": "2025-08-05T15:28:39.295459Z",
     "shell.execute_reply": "2025-08-05T15:28:39.294637Z"
    },
    "papermill": {
     "duration": 0.052255,
     "end_time": "2025-08-05T15:28:39.296921",
     "exception": false,
     "start_time": "2025-08-05T15:28:39.244666",
     "status": "completed"
    },
    "tags": []
   },
   "outputs": [],
   "source": [
    "# do I need to include maxdeutsch1.missing?\n",
    "\n",
    "import numpy as np\n",
    "\n",
    "colname_to_bin = \"maxdeutsch1\"\n",
    "majority_value = org_train[colname_to_bin].mode()[0]\n",
    "\n",
    "org_test[\"majmin\"] = np.where(org_test[colname_to_bin] == majority_value, \"majority\", \"minority\")"
   ]
  },
  {
   "cell_type": "code",
   "execution_count": 60,
   "id": "06a50de5",
   "metadata": {
    "execution": {
     "iopub.execute_input": "2025-08-05T15:28:39.322455Z",
     "iopub.status.busy": "2025-08-05T15:28:39.322054Z",
     "iopub.status.idle": "2025-08-05T15:28:41.405601Z",
     "shell.execute_reply": "2025-08-05T15:28:41.404414Z"
    },
    "papermill": {
     "duration": 2.097666,
     "end_time": "2025-08-05T15:28:41.407607",
     "exception": false,
     "start_time": "2025-08-05T15:28:39.309941",
     "status": "completed"
    },
    "tags": []
   },
   "outputs": [],
   "source": [
    "example_universe = universe.copy()\n",
    "example_universe[\"cutoff\"] = example_universe[\"cutoff\"][0]\n",
    "example_universe[\"eval_fairness_grouping\"] = example_universe[\"eval_fairness_grouping\"][0]\n",
    "fairness_dict, metric_frame = universe_analysis.compute_metrics(\n",
    "    example_universe,\n",
    "    y_pred_prob=probs_test,\n",
    "    y_test=y_true,\n",
    "    org_test=org_test,\n",
    ")"
   ]
  },
  {
   "cell_type": "markdown",
   "id": "f95d4e02",
   "metadata": {
    "papermill": {
     "duration": 0.023082,
     "end_time": "2025-08-05T15:28:41.457870",
     "exception": false,
     "start_time": "2025-08-05T15:28:41.434788",
     "status": "completed"
    },
    "tags": []
   },
   "source": [
    "# Overall"
   ]
  },
  {
   "cell_type": "markdown",
   "id": "bdee4871",
   "metadata": {
    "papermill": {
     "duration": 0.021695,
     "end_time": "2025-08-05T15:28:41.500924",
     "exception": false,
     "start_time": "2025-08-05T15:28:41.479229",
     "status": "completed"
    },
    "tags": []
   },
   "source": [
    "Fairness\n",
    "Main fairness target: Equalized Odds. Seems to be a better fit than equal opportunity, since we're not only interested in Y = 1. Seems to be a better fit than demographic parity, since we also care about accuracy, not just equal distribution of preds.\n",
    "\n",
    "Pick column for computation of fairness metrics\n",
    "\n",
    "Performance\n",
    "Overall performance measures, most interesting in relation to the measures split by group below"
   ]
  },
  {
   "cell_type": "code",
   "execution_count": 61,
   "id": "c4e067c6",
   "metadata": {
    "execution": {
     "iopub.execute_input": "2025-08-05T15:28:41.546062Z",
     "iopub.status.busy": "2025-08-05T15:28:41.545172Z",
     "iopub.status.idle": "2025-08-05T15:28:41.555058Z",
     "shell.execute_reply": "2025-08-05T15:28:41.553994Z"
    },
    "papermill": {
     "duration": 0.034556,
     "end_time": "2025-08-05T15:28:41.556768",
     "exception": false,
     "start_time": "2025-08-05T15:28:41.522212",
     "status": "completed"
    },
    "tags": []
   },
   "outputs": [
    {
     "data": {
      "text/plain": [
       "accuracy                   0.216598\n",
       "balanced accuracy          0.531241\n",
       "f1                         0.238143\n",
       "precision                  0.136043\n",
       "false positive rate        0.891985\n",
       "false negative rate        0.045534\n",
       "selection rate             0.900000\n",
       "count                  89710.000000\n",
       "dtype: float64"
      ]
     },
     "execution_count": 61,
     "metadata": {},
     "output_type": "execute_result"
    }
   ],
   "source": [
    "metric_frame.overall"
   ]
  },
  {
   "cell_type": "markdown",
   "id": "e968fe9d",
   "metadata": {
    "papermill": {
     "duration": 0.023018,
     "end_time": "2025-08-05T15:28:41.603535",
     "exception": false,
     "start_time": "2025-08-05T15:28:41.580517",
     "status": "completed"
    },
    "tags": []
   },
   "source": [
    "By Group"
   ]
  },
  {
   "cell_type": "code",
   "execution_count": 62,
   "id": "ec325bce",
   "metadata": {
    "execution": {
     "iopub.execute_input": "2025-08-05T15:28:41.651187Z",
     "iopub.status.busy": "2025-08-05T15:28:41.650476Z",
     "iopub.status.idle": "2025-08-05T15:28:41.667767Z",
     "shell.execute_reply": "2025-08-05T15:28:41.666640Z"
    },
    "papermill": {
     "duration": 0.043301,
     "end_time": "2025-08-05T15:28:41.669663",
     "exception": false,
     "start_time": "2025-08-05T15:28:41.626362",
     "status": "completed"
    },
    "tags": []
   },
   "outputs": [
    {
     "data": {
      "text/html": [
       "<div>\n",
       "<style scoped>\n",
       "    .dataframe tbody tr th:only-of-type {\n",
       "        vertical-align: middle;\n",
       "    }\n",
       "\n",
       "    .dataframe tbody tr th {\n",
       "        vertical-align: top;\n",
       "    }\n",
       "\n",
       "    .dataframe thead th {\n",
       "        text-align: right;\n",
       "    }\n",
       "</style>\n",
       "<table border=\"1\" class=\"dataframe\">\n",
       "  <thead>\n",
       "    <tr style=\"text-align: right;\">\n",
       "      <th></th>\n",
       "      <th>accuracy</th>\n",
       "      <th>balanced accuracy</th>\n",
       "      <th>f1</th>\n",
       "      <th>precision</th>\n",
       "      <th>false positive rate</th>\n",
       "      <th>false negative rate</th>\n",
       "      <th>selection rate</th>\n",
       "      <th>count</th>\n",
       "    </tr>\n",
       "    <tr>\n",
       "      <th>majmin</th>\n",
       "      <th></th>\n",
       "      <th></th>\n",
       "      <th></th>\n",
       "      <th></th>\n",
       "      <th></th>\n",
       "      <th></th>\n",
       "      <th></th>\n",
       "      <th></th>\n",
       "    </tr>\n",
       "  </thead>\n",
       "  <tbody>\n",
       "    <tr>\n",
       "      <th>majority</th>\n",
       "      <td>0.238109</td>\n",
       "      <td>0.538282</td>\n",
       "      <td>0.247121</td>\n",
       "      <td>0.142118</td>\n",
       "      <td>0.869715</td>\n",
       "      <td>0.053720</td>\n",
       "      <td>0.879832</td>\n",
       "      <td>69170.0</td>\n",
       "    </tr>\n",
       "    <tr>\n",
       "      <th>minority</th>\n",
       "      <td>0.144158</td>\n",
       "      <td>0.510256</td>\n",
       "      <td>0.209897</td>\n",
       "      <td>0.117449</td>\n",
       "      <td>0.965551</td>\n",
       "      <td>0.013936</td>\n",
       "      <td>0.967916</td>\n",
       "      <td>20540.0</td>\n",
       "    </tr>\n",
       "  </tbody>\n",
       "</table>\n",
       "</div>"
      ],
      "text/plain": [
       "          accuracy  balanced accuracy        f1  precision  \\\n",
       "majmin                                                       \n",
       "majority  0.238109           0.538282  0.247121   0.142118   \n",
       "minority  0.144158           0.510256  0.209897   0.117449   \n",
       "\n",
       "          false positive rate  false negative rate  selection rate    count  \n",
       "majmin                                                                       \n",
       "majority             0.869715             0.053720        0.879832  69170.0  \n",
       "minority             0.965551             0.013936        0.967916  20540.0  "
      ]
     },
     "execution_count": 62,
     "metadata": {},
     "output_type": "execute_result"
    }
   ],
   "source": [
    "metric_frame.by_group"
   ]
  },
  {
   "cell_type": "code",
   "execution_count": 63,
   "id": "a9ddbe63",
   "metadata": {
    "execution": {
     "iopub.execute_input": "2025-08-05T15:28:41.719588Z",
     "iopub.status.busy": "2025-08-05T15:28:41.718868Z",
     "iopub.status.idle": "2025-08-05T15:28:43.947815Z",
     "shell.execute_reply": "2025-08-05T15:28:43.946762Z"
    },
    "papermill": {
     "duration": 2.255489,
     "end_time": "2025-08-05T15:28:43.949739",
     "exception": false,
     "start_time": "2025-08-05T15:28:41.694250",
     "status": "completed"
    },
    "tags": []
   },
   "outputs": [
    {
     "data": {
      "text/plain": [
       "array([[<Axes: title={'center': 'accuracy'}, xlabel='majmin'>,\n",
       "        <Axes: title={'center': 'balanced accuracy'}, xlabel='majmin'>,\n",
       "        <Axes: title={'center': 'f1'}, xlabel='majmin'>],\n",
       "       [<Axes: title={'center': 'precision'}, xlabel='majmin'>,\n",
       "        <Axes: title={'center': 'false positive rate'}, xlabel='majmin'>,\n",
       "        <Axes: title={'center': 'false negative rate'}, xlabel='majmin'>],\n",
       "       [<Axes: title={'center': 'selection rate'}, xlabel='majmin'>,\n",
       "        <Axes: title={'center': 'count'}, xlabel='majmin'>,\n",
       "        <Axes: xlabel='majmin'>]], dtype=object)"
      ]
     },
     "execution_count": 63,
     "metadata": {},
     "output_type": "execute_result"
    },
    {
     "data": {
      "image/png": "[encoded data removed]",
      "text/plain": [
       "<Figure size 1200x800 with 9 Axes>"
      ]
     },
     "metadata": {},
     "output_type": "display_data"
    }
   ],
   "source": [
    "# In a graphic\n",
    "metric_frame.by_group.plot.bar(\n",
    "    subplots=True,\n",
    "    layout=[3, 3],\n",
    "    legend=False,\n",
    "    figsize=[12, 8],\n",
    "    title=\"Show all metrics\",\n",
    ")"
   ]
  },
  {
   "cell_type": "markdown",
   "id": "f57a0bac",
   "metadata": {
    "papermill": {
     "duration": 0.028644,
     "end_time": "2025-08-05T15:28:44.010683",
     "exception": false,
     "start_time": "2025-08-05T15:28:43.982039",
     "status": "completed"
    },
    "tags": []
   },
   "source": [
    "# Final Output"
   ]
  },
  {
   "cell_type": "code",
   "execution_count": 64,
   "id": "96d280a3",
   "metadata": {
    "execution": {
     "iopub.execute_input": "2025-08-05T15:28:44.068210Z",
     "iopub.status.busy": "2025-08-05T15:28:44.067610Z",
     "iopub.status.idle": "2025-08-05T15:28:44.076749Z",
     "shell.execute_reply": "2025-08-05T15:28:44.075648Z"
    },
    "papermill": {
     "duration": 0.039612,
     "end_time": "2025-08-05T15:28:44.078484",
     "exception": false,
     "start_time": "2025-08-05T15:28:44.038872",
     "status": "completed"
    },
    "tags": []
   },
   "outputs": [
    {
     "data": {
      "text/plain": [
       "4"
      ]
     },
     "execution_count": 64,
     "metadata": {},
     "output_type": "execute_result"
    }
   ],
   "source": [
    "sub_universes = universe_analysis.generate_sub_universes()\n",
    "len(sub_universes)"
   ]
  },
  {
   "cell_type": "code",
   "execution_count": 65,
   "id": "92adf7ba",
   "metadata": {
    "execution": {
     "iopub.execute_input": "2025-08-05T15:28:44.136390Z",
     "iopub.status.busy": "2025-08-05T15:28:44.136053Z",
     "iopub.status.idle": "2025-08-05T15:28:44.142041Z",
     "shell.execute_reply": "2025-08-05T15:28:44.140913Z"
    },
    "papermill": {
     "duration": 0.037579,
     "end_time": "2025-08-05T15:28:44.144087",
     "exception": false,
     "start_time": "2025-08-05T15:28:44.106508",
     "status": "completed"
    },
    "tags": []
   },
   "outputs": [],
   "source": [
    "def filter_sub_universe_data(sub_universe, org_test):\n",
    "    # Keep all rows — no filtering\n",
    "    keep_rows_mask = np.ones(org_test.shape[0], dtype=bool)\n",
    "\n",
    "    print(f\"[INFO] Keeping all rows: {keep_rows_mask.sum()} rows retained.\")\n",
    "    return keep_rows_mask"
   ]
  },
  {
   "cell_type": "code",
   "execution_count": 66,
   "id": "4a759155",
   "metadata": {
    "execution": {
     "iopub.execute_input": "2025-08-05T15:28:44.201840Z",
     "iopub.status.busy": "2025-08-05T15:28:44.201445Z",
     "iopub.status.idle": "2025-08-05T15:28:52.119029Z",
     "shell.execute_reply": "2025-08-05T15:28:52.118303Z"
    },
    "papermill": {
     "duration": 7.947911,
     "end_time": "2025-08-05T15:28:52.120260",
     "exception": false,
     "start_time": "2025-08-05T15:28:44.172349",
     "status": "completed"
    },
    "tags": []
   },
   "outputs": [
    {
     "name": "stdout",
     "output_type": "stream",
     "text": [
      "Stopping execution_time clock.\n",
      "[INFO] Keeping all rows: 89710 rows retained.\n"
     ]
    },
    {
     "name": "stdout",
     "output_type": "stream",
     "text": [
      "[INFO] Keeping all rows: 89710 rows retained.\n"
     ]
    },
    {
     "name": "stdout",
     "output_type": "stream",
     "text": [
      "[INFO] Keeping all rows: 89710 rows retained.\n"
     ]
    },
    {
     "name": "stdout",
     "output_type": "stream",
     "text": [
      "[INFO] Keeping all rows: 89710 rows retained.\n"
     ]
    },
    {
     "data": {
      "text/html": [
       "<div>\n",
       "<style scoped>\n",
       "    .dataframe tbody tr th:only-of-type {\n",
       "        vertical-align: middle;\n",
       "    }\n",
       "\n",
       "    .dataframe tbody tr th {\n",
       "        vertical-align: top;\n",
       "    }\n",
       "\n",
       "    .dataframe thead th {\n",
       "        text-align: right;\n",
       "    }\n",
       "</style>\n",
       "<table border=\"1\" class=\"dataframe\">\n",
       "  <thead>\n",
       "    <tr style=\"text-align: right;\">\n",
       "      <th></th>\n",
       "      <th>run_no</th>\n",
       "      <th>universe_id</th>\n",
       "      <th>universe_settings</th>\n",
       "      <th>execution_time</th>\n",
       "      <th>test_size_n</th>\n",
       "      <th>test_size_frac</th>\n",
       "      <th>fair_main_equalized_odds_difference</th>\n",
       "      <th>fair_main_equalized_odds_ratio</th>\n",
       "      <th>fair_main_demographic_parity_difference</th>\n",
       "      <th>fair_main_demographic_parity_ratio</th>\n",
       "      <th>...</th>\n",
       "      <th>perf_grp_precision_0</th>\n",
       "      <th>perf_grp_precision_1</th>\n",
       "      <th>perf_grp_false positive rate_0</th>\n",
       "      <th>perf_grp_false positive rate_1</th>\n",
       "      <th>perf_grp_false negative rate_0</th>\n",
       "      <th>perf_grp_false negative rate_1</th>\n",
       "      <th>perf_grp_selection rate_0</th>\n",
       "      <th>perf_grp_selection rate_1</th>\n",
       "      <th>perf_grp_count_0</th>\n",
       "      <th>perf_grp_count_1</th>\n",
       "    </tr>\n",
       "  </thead>\n",
       "  <tbody>\n",
       "    <tr>\n",
       "      <th>0</th>\n",
       "      <td>15</td>\n",
       "      <td>1ad98b4e03cb337821ca62ac5fa740b4</td>\n",
       "      <td>{\"cutoff\": \"quantile_0.1\", \"eval_fairness_grou...</td>\n",
       "      <td>24.233257</td>\n",
       "      <td>89710</td>\n",
       "      <td>1.0</td>\n",
       "      <td>0.095836</td>\n",
       "      <td>0.900745</td>\n",
       "      <td>0.088084</td>\n",
       "      <td>0.908996</td>\n",
       "      <td>...</td>\n",
       "      <td>NaN</td>\n",
       "      <td>NaN</td>\n",
       "      <td>NaN</td>\n",
       "      <td>NaN</td>\n",
       "      <td>NaN</td>\n",
       "      <td>NaN</td>\n",
       "      <td>NaN</td>\n",
       "      <td>NaN</td>\n",
       "      <td>NaN</td>\n",
       "      <td>NaN</td>\n",
       "    </tr>\n",
       "    <tr>\n",
       "      <th>0</th>\n",
       "      <td>15</td>\n",
       "      <td>1ad98b4e03cb337821ca62ac5fa740b4</td>\n",
       "      <td>{\"cutoff\": \"quantile_0.1\", \"eval_fairness_grou...</td>\n",
       "      <td>24.233257</td>\n",
       "      <td>89710</td>\n",
       "      <td>1.0</td>\n",
       "      <td>0.095836</td>\n",
       "      <td>0.900745</td>\n",
       "      <td>0.088084</td>\n",
       "      <td>0.908996</td>\n",
       "      <td>...</td>\n",
       "      <td>0.117449</td>\n",
       "      <td>0.142118</td>\n",
       "      <td>0.965551</td>\n",
       "      <td>0.869715</td>\n",
       "      <td>0.013936</td>\n",
       "      <td>0.053720</td>\n",
       "      <td>0.967916</td>\n",
       "      <td>0.879832</td>\n",
       "      <td>20540.0</td>\n",
       "      <td>69170.0</td>\n",
       "    </tr>\n",
       "    <tr>\n",
       "      <th>0</th>\n",
       "      <td>15</td>\n",
       "      <td>1ad98b4e03cb337821ca62ac5fa740b4</td>\n",
       "      <td>{\"cutoff\": \"quantile_0.25\", \"eval_fairness_gro...</td>\n",
       "      <td>24.233257</td>\n",
       "      <td>89710</td>\n",
       "      <td>1.0</td>\n",
       "      <td>0.210050</td>\n",
       "      <td>0.764366</td>\n",
       "      <td>0.192466</td>\n",
       "      <td>0.785767</td>\n",
       "      <td>...</td>\n",
       "      <td>NaN</td>\n",
       "      <td>NaN</td>\n",
       "      <td>NaN</td>\n",
       "      <td>NaN</td>\n",
       "      <td>NaN</td>\n",
       "      <td>NaN</td>\n",
       "      <td>NaN</td>\n",
       "      <td>NaN</td>\n",
       "      <td>NaN</td>\n",
       "      <td>NaN</td>\n",
       "    </tr>\n",
       "    <tr>\n",
       "      <th>0</th>\n",
       "      <td>15</td>\n",
       "      <td>1ad98b4e03cb337821ca62ac5fa740b4</td>\n",
       "      <td>{\"cutoff\": \"quantile_0.25\", \"eval_fairness_gro...</td>\n",
       "      <td>24.233257</td>\n",
       "      <td>89710</td>\n",
       "      <td>1.0</td>\n",
       "      <td>0.210050</td>\n",
       "      <td>0.764366</td>\n",
       "      <td>0.192466</td>\n",
       "      <td>0.785767</td>\n",
       "      <td>...</td>\n",
       "      <td>0.122148</td>\n",
       "      <td>0.162322</td>\n",
       "      <td>0.891426</td>\n",
       "      <td>0.681376</td>\n",
       "      <td>0.048142</td>\n",
       "      <td>0.132823</td>\n",
       "      <td>0.898393</td>\n",
       "      <td>0.705927</td>\n",
       "      <td>20540.0</td>\n",
       "      <td>69170.0</td>\n",
       "    </tr>\n",
       "  </tbody>\n",
       "</table>\n",
       "<p>4 rows × 50 columns</p>\n",
       "</div>"
      ],
      "text/plain": [
       "  run_no                       universe_id  \\\n",
       "0     15  1ad98b4e03cb337821ca62ac5fa740b4   \n",
       "0     15  1ad98b4e03cb337821ca62ac5fa740b4   \n",
       "0     15  1ad98b4e03cb337821ca62ac5fa740b4   \n",
       "0     15  1ad98b4e03cb337821ca62ac5fa740b4   \n",
       "\n",
       "                                   universe_settings  execution_time  \\\n",
       "0  {\"cutoff\": \"quantile_0.1\", \"eval_fairness_grou...       24.233257   \n",
       "0  {\"cutoff\": \"quantile_0.1\", \"eval_fairness_grou...       24.233257   \n",
       "0  {\"cutoff\": \"quantile_0.25\", \"eval_fairness_gro...       24.233257   \n",
       "0  {\"cutoff\": \"quantile_0.25\", \"eval_fairness_gro...       24.233257   \n",
       "\n",
       "   test_size_n  test_size_frac  fair_main_equalized_odds_difference  \\\n",
       "0        89710             1.0                             0.095836   \n",
       "0        89710             1.0                             0.095836   \n",
       "0        89710             1.0                             0.210050   \n",
       "0        89710             1.0                             0.210050   \n",
       "\n",
       "   fair_main_equalized_odds_ratio  fair_main_demographic_parity_difference  \\\n",
       "0                        0.900745                                 0.088084   \n",
       "0                        0.900745                                 0.088084   \n",
       "0                        0.764366                                 0.192466   \n",
       "0                        0.764366                                 0.192466   \n",
       "\n",
       "   fair_main_demographic_parity_ratio  ...  perf_grp_precision_0  \\\n",
       "0                            0.908996  ...                   NaN   \n",
       "0                            0.908996  ...              0.117449   \n",
       "0                            0.785767  ...                   NaN   \n",
       "0                            0.785767  ...              0.122148   \n",
       "\n",
       "   perf_grp_precision_1  perf_grp_false positive rate_0  \\\n",
       "0                   NaN                             NaN   \n",
       "0              0.142118                        0.965551   \n",
       "0                   NaN                             NaN   \n",
       "0              0.162322                        0.891426   \n",
       "\n",
       "   perf_grp_false positive rate_1  perf_grp_false negative rate_0  \\\n",
       "0                             NaN                             NaN   \n",
       "0                        0.869715                        0.013936   \n",
       "0                             NaN                             NaN   \n",
       "0                        0.681376                        0.048142   \n",
       "\n",
       "   perf_grp_false negative rate_1  perf_grp_selection rate_0  \\\n",
       "0                             NaN                        NaN   \n",
       "0                        0.053720                   0.967916   \n",
       "0                             NaN                        NaN   \n",
       "0                        0.132823                   0.898393   \n",
       "\n",
       "   perf_grp_selection rate_1  perf_grp_count_0  perf_grp_count_1  \n",
       "0                        NaN               NaN               NaN  \n",
       "0                   0.879832           20540.0           69170.0  \n",
       "0                        NaN               NaN               NaN  \n",
       "0                   0.705927           20540.0           69170.0  \n",
       "\n",
       "[4 rows x 50 columns]"
      ]
     },
     "execution_count": 66,
     "metadata": {},
     "output_type": "execute_result"
    }
   ],
   "source": [
    "final_output = universe_analysis.generate_final_output(\n",
    "    y_pred_prob=probs_test,\n",
    "    y_test=y_true,\n",
    "    org_test=org_test,\n",
    "    filter_data=filter_sub_universe_data,\n",
    "    cp_metrics_df=cp_metrics_df,\n",
    "    save=True,\n",
    ")\n",
    "final_output"
   ]
  }
 ],
 "metadata": {
  "celltoolbar": "Tags",
  "kernelspec": {
   "display_name": "Python (CMA Fairness)",
   "language": "python",
   "name": "cma_fair_env"
  },
  "language_info": {
   "codemirror_mode": {
    "name": "ipython",
    "version": 3
   },
   "file_extension": ".py",
   "mimetype": "text/x-python",
   "name": "python",
   "nbconvert_exporter": "python",
   "pygments_lexer": "ipython3",
   "version": "3.10.12"
  },
  "papermill": {
   "default_parameters": {},
   "duration": 35.531594,
   "end_time": "2025-08-05T15:28:52.754139",
   "environment_variables": {},
   "exception": null,
   "input_path": "universe_analysis.ipynb",
   "output_path": "output/runs/15/notebooks/m_15-1ad98b4e03cb337821ca62ac5fa740b4.ipynb",
   "parameters": {
    "output_dir": "output",
    "run_no": "15",
    "seed": "2023",
    "universe": "{\"cutoff\": [\"quantile_0.1\", \"quantile_0.25\"], \"eval_fairness_grouping\": [\"majority-minority\", \"nationality-all\"], \"exclude_features\": \"none\", \"exclude_subgroups\": \"keep-all\", \"model\": \"penalized_logreg\", \"scale\": \"do-not-scale\", \"training_size\": \"5k\", \"training_year\": \"2014\"}",
    "universe_id": "1ad98b4e03cb337821ca62ac5fa740b4"
   },
   "start_time": "2025-08-05T15:28:17.222545",
   "version": "2.6.0"
  }
 },
 "nbformat": 4,
 "nbformat_minor": 5
}