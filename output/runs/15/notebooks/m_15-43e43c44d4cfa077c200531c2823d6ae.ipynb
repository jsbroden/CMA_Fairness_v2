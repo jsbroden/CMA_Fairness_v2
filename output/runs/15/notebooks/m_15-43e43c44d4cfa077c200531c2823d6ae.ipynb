{
 "cells": [
  {
   "cell_type": "code",
   "execution_count": 1,
   "id": "f159f837-637b-42ba-96b5-ec9a68c44524",
   "metadata": {
    "execution": {
     "iopub.execute_input": "2025-08-05T15:53:42.896847Z",
     "iopub.status.busy": "2025-08-05T15:53:42.895740Z",
     "iopub.status.idle": "2025-08-05T15:53:42.910151Z",
     "shell.execute_reply": "2025-08-05T15:53:42.908985Z"
    },
    "papermill": {
     "duration": 0.038883,
     "end_time": "2025-08-05T15:53:42.912117",
     "exception": false,
     "start_time": "2025-08-05T15:53:42.873234",
     "status": "completed"
    },
    "tags": []
   },
   "outputs": [
    {
     "name": "stdout",
     "output_type": "stream",
     "text": [
      "/dss/dsshome1/0C/ra93lal2/cma/CMA_Fairness_v2\n"
     ]
    },
    {
     "name": "stderr",
     "output_type": "stream",
     "text": [
      "/dss/dsshome1/0C/ra93lal2/.local/share/virtualenvs/CMA_Fairness_v2-3j10GkSs/lib/python3.10/site-packages/IPython/core/magics/osm.py:393: UserWarning: This is now an optional IPython functionality, using bookmarks requires you to install the `pickleshare` library.\n",
      "  bkms = self.shell.db.get('bookmarks', {})\n",
      "/dss/dsshome1/0C/ra93lal2/.local/share/virtualenvs/CMA_Fairness_v2-3j10GkSs/lib/python3.10/site-packages/IPython/core/magics/osm.py:417: UserWarning: This is now an optional IPython functionality, setting dhist requires you to install the `pickleshare` library.\n",
      "  self.shell.db['dhist'] = compress_dhist(dhist)[-100:]\n"
     ]
    }
   ],
   "source": [
    "%cd ~/cma/CMA_Fairness_v2"
   ]
  },
  {
   "cell_type": "markdown",
   "id": "de2603b9",
   "metadata": {
    "papermill": {
     "duration": 0.020873,
     "end_time": "2025-08-05T15:53:42.958151",
     "exception": false,
     "start_time": "2025-08-05T15:53:42.937278",
     "status": "completed"
    },
    "tags": []
   },
   "source": [
    "The following cell holds the definition of our parameters, these values can be overriden by rendering the with e.g. the following command:\n",
    "\n",
    "papermill -p alpha 0.2 -p ratio 0.3 universe_analysis.ipynb output/test_run.ipynb"
   ]
  },
  {
   "cell_type": "code",
   "execution_count": 2,
   "id": "a80968a0-40bb-4fa9-85ef-2d5eefb01975",
   "metadata": {
    "execution": {
     "iopub.execute_input": "2025-08-05T15:53:43.002116Z",
     "iopub.status.busy": "2025-08-05T15:53:43.001137Z",
     "iopub.status.idle": "2025-08-05T15:53:43.007093Z",
     "shell.execute_reply": "2025-08-05T15:53:43.006158Z"
    },
    "papermill": {
     "duration": 0.031921,
     "end_time": "2025-08-05T15:53:43.008818",
     "exception": false,
     "start_time": "2025-08-05T15:53:42.976897",
     "status": "completed"
    },
    "tags": []
   },
   "outputs": [
    {
     "name": "stdout",
     "output_type": "stream",
     "text": [
      "Current working directory: /dss/dsshome1/0C/ra93lal2/cma/CMA_Fairness_v2\n"
     ]
    }
   ],
   "source": [
    "import os\n",
    "print(\"Current working directory:\", os.getcwd())"
   ]
  },
  {
   "cell_type": "code",
   "execution_count": 3,
   "id": "2dce4c03",
   "metadata": {
    "execution": {
     "iopub.execute_input": "2025-08-05T15:53:43.045640Z",
     "iopub.status.busy": "2025-08-05T15:53:43.044986Z",
     "iopub.status.idle": "2025-08-05T15:53:43.051326Z",
     "shell.execute_reply": "2025-08-05T15:53:43.050309Z"
    },
    "papermill": {
     "duration": 0.026388,
     "end_time": "2025-08-05T15:53:43.053242",
     "exception": false,
     "start_time": "2025-08-05T15:53:43.026854",
     "status": "completed"
    },
    "tags": [
     "parameters"
    ]
   },
   "outputs": [],
   "source": [
    "run_no = 0\n",
    "universe_id = \"test\"\n",
    "universe = {\n",
    "    \"training_size\": \"25k\", # \"25k\", \"5k\", \"1k\"\n",
    "    \"training_year\": \"2014\", # \"2014\", \"2012_14\", \"2010_14\"\n",
    "    \"scale\": \"scale\", # \"scale\", \"do-not-scale\",\n",
    "    \"model\": \"elasticnet\", # \"logreg\", \"penalized_logreg\", \"rf\", \"gbm\", \"elasticnet\"\n",
    "    \"cutoff\": [\"quantile_0.15\", \"quantile_0.30\"],\n",
    "    \"exclude_features\": \"age\", # \"none\", \"nationality\", \"sex\", \"nationality-sex\", \"age\"\n",
    "    \"exclude_subgroups\": \"keep-all\", # \"keep-all\", \"drop-non-german\"\n",
    "    \"eval_fairness_grouping\": [\"majority-minority\", \"nationality-all\"]\n",
    "}\n",
    "\n",
    "output_dir=\"./output\"\n",
    "seed=0"
   ]
  },
  {
   "cell_type": "code",
   "execution_count": 4,
   "id": "12f376b4",
   "metadata": {
    "execution": {
     "iopub.execute_input": "2025-08-05T15:53:43.089882Z",
     "iopub.status.busy": "2025-08-05T15:53:43.088992Z",
     "iopub.status.idle": "2025-08-05T15:53:43.094168Z",
     "shell.execute_reply": "2025-08-05T15:53:43.093155Z"
    },
    "papermill": {
     "duration": 0.025197,
     "end_time": "2025-08-05T15:53:43.096129",
     "exception": false,
     "start_time": "2025-08-05T15:53:43.070932",
     "status": "completed"
    },
    "tags": [
     "injected-parameters"
    ]
   },
   "outputs": [],
   "source": [
    "# Parameters\n",
    "universe_id = \"43e43c44d4cfa077c200531c2823d6ae\"\n",
    "run_no = \"15\"\n",
    "universe = \"{\\\"cutoff\\\": [\\\"quantile_0.1\\\", \\\"quantile_0.25\\\"], \\\"eval_fairness_grouping\\\": [\\\"majority-minority\\\", \\\"nationality-all\\\"], \\\"exclude_features\\\": \\\"sex\\\", \\\"exclude_subgroups\\\": \\\"keep-all\\\", \\\"model\\\": \\\"elasticnet\\\", \\\"scale\\\": \\\"scale\\\", \\\"training_size\\\": \\\"5k\\\", \\\"training_year\\\": \\\"2010_14\\\"}\"\n",
    "output_dir = \"output\"\n",
    "seed = \"2023\"\n"
   ]
  },
  {
   "cell_type": "code",
   "execution_count": 5,
   "id": "1650acaf",
   "metadata": {
    "execution": {
     "iopub.execute_input": "2025-08-05T15:53:43.136980Z",
     "iopub.status.busy": "2025-08-05T15:53:43.136079Z",
     "iopub.status.idle": "2025-08-05T15:53:43.141694Z",
     "shell.execute_reply": "2025-08-05T15:53:43.140535Z"
    },
    "papermill": {
     "duration": 0.028142,
     "end_time": "2025-08-05T15:53:43.143668",
     "exception": false,
     "start_time": "2025-08-05T15:53:43.115526",
     "status": "completed"
    },
    "tags": []
   },
   "outputs": [],
   "source": [
    "import json\n",
    "if isinstance(universe, str):\n",
    "    universe = json.loads(universe)"
   ]
  },
  {
   "cell_type": "code",
   "execution_count": 6,
   "id": "16620c48",
   "metadata": {
    "execution": {
     "iopub.execute_input": "2025-08-05T15:53:43.183284Z",
     "iopub.status.busy": "2025-08-05T15:53:43.181841Z",
     "iopub.status.idle": "2025-08-05T15:53:43.228314Z",
     "shell.execute_reply": "2025-08-05T15:53:43.227299Z"
    },
    "papermill": {
     "duration": 0.06724,
     "end_time": "2025-08-05T15:53:43.230410",
     "exception": false,
     "start_time": "2025-08-05T15:53:43.163170",
     "status": "completed"
    },
    "tags": []
   },
   "outputs": [],
   "source": [
    "# Auto-reload the custom package\n",
    "%load_ext autoreload\n",
    "%autoreload 1\n",
    "%aimport fairness_multiverse"
   ]
  },
  {
   "cell_type": "code",
   "execution_count": 7,
   "id": "01c5c9f3",
   "metadata": {
    "execution": {
     "iopub.execute_input": "2025-08-05T15:53:43.272972Z",
     "iopub.status.busy": "2025-08-05T15:53:43.272260Z",
     "iopub.status.idle": "2025-08-05T15:53:45.295750Z",
     "shell.execute_reply": "2025-08-05T15:53:45.294629Z"
    },
    "papermill": {
     "duration": 2.046776,
     "end_time": "2025-08-05T15:53:45.297795",
     "exception": false,
     "start_time": "2025-08-05T15:53:43.251019",
     "status": "completed"
    },
    "tags": []
   },
   "outputs": [],
   "source": [
    "from fairness_multiverse.universe import UniverseAnalysis\n",
    "\n",
    "universe_analysis = UniverseAnalysis(\n",
    "    run_no = run_no,\n",
    "    universe_id = universe_id,\n",
    "    universe = universe,\n",
    "    output_dir=output_dir,\n",
    ")"
   ]
  },
  {
   "cell_type": "code",
   "execution_count": 8,
   "id": "106241f5",
   "metadata": {
    "execution": {
     "iopub.execute_input": "2025-08-05T15:53:45.341484Z",
     "iopub.status.busy": "2025-08-05T15:53:45.340915Z",
     "iopub.status.idle": "2025-08-05T15:53:45.348279Z",
     "shell.execute_reply": "2025-08-05T15:53:45.347191Z"
    },
    "papermill": {
     "duration": 0.029335,
     "end_time": "2025-08-05T15:53:45.350216",
     "exception": false,
     "start_time": "2025-08-05T15:53:45.320881",
     "status": "completed"
    },
    "tags": []
   },
   "outputs": [
    {
     "name": "stdout",
     "output_type": "stream",
     "text": [
      "Using Seed: 2023\n"
     ]
    }
   ],
   "source": [
    "import numpy as np\n",
    "parsed_seed = int(seed)\n",
    "np.random.seed(parsed_seed)\n",
    "print(f\"Using Seed: {parsed_seed}\")"
   ]
  },
  {
   "cell_type": "markdown",
   "id": "e0ebdc57",
   "metadata": {
    "papermill": {
     "duration": 0.016931,
     "end_time": "2025-08-05T15:53:45.386055",
     "exception": false,
     "start_time": "2025-08-05T15:53:45.369124",
     "status": "completed"
    },
    "tags": []
   },
   "source": [
    "# Loading Data"
   ]
  },
  {
   "cell_type": "code",
   "execution_count": 9,
   "id": "f0496b8a",
   "metadata": {
    "execution": {
     "iopub.execute_input": "2025-08-05T15:53:45.423098Z",
     "iopub.status.busy": "2025-08-05T15:53:45.422394Z",
     "iopub.status.idle": "2025-08-05T15:53:58.735047Z",
     "shell.execute_reply": "2025-08-05T15:53:58.733894Z"
    },
    "papermill": {
     "duration": 13.333543,
     "end_time": "2025-08-05T15:53:58.736697",
     "exception": false,
     "start_time": "2025-08-05T15:53:45.403154",
     "status": "completed"
    },
    "tags": []
   },
   "outputs": [
    {
     "name": "stdout",
     "output_type": "stream",
     "text": [
      "Loading SIAB data from cache: data/siab_cached.csv.gz\n"
     ]
    },
    {
     "name": "stdout",
     "output_type": "stream",
     "text": [
      "(643690, 164)\n"
     ]
    }
   ],
   "source": [
    "from pathlib import Path\n",
    "import pandas as pd\n",
    "\n",
    "# File paths\n",
    "raw_file = Path(\"data/raw/siab.csv\")\n",
    "cache_file = Path(\"data/siab_cached.csv.gz\")\n",
    "\n",
    "# Ensure cache directory exists\n",
    "cache_file.parent.mkdir(parents=True, exist_ok=True)\n",
    "\n",
    "# Load with simple caching\n",
    "if cache_file.exists():\n",
    "    print(f\"Loading SIAB data from cache: {cache_file}\")\n",
    "    siab = pd.read_csv(cache_file, compression='gzip')\n",
    "else:\n",
    "    print(f\"Cache not found. Reading raw SIAB data: {raw_file}\")\n",
    "    siab = pd.read_csv(raw_file)\n",
    "    siab.to_csv(cache_file, index=False, compression='gzip')\n",
    "    print(f\"Cached SIAB data to: {cache_file}\")\n",
    "\n",
    "print(siab.shape)"
   ]
  },
  {
   "cell_type": "code",
   "execution_count": 10,
   "id": "db0ca512-5f53-4dba-abdb-a2888bca41ba",
   "metadata": {
    "execution": {
     "iopub.execute_input": "2025-08-05T15:53:58.776846Z",
     "iopub.status.busy": "2025-08-05T15:53:58.776338Z",
     "iopub.status.idle": "2025-08-05T15:53:58.782290Z",
     "shell.execute_reply": "2025-08-05T15:53:58.781133Z"
    },
    "papermill": {
     "duration": 0.027083,
     "end_time": "2025-08-05T15:53:58.784201",
     "exception": false,
     "start_time": "2025-08-05T15:53:58.757118",
     "status": "completed"
    },
    "tags": []
   },
   "outputs": [],
   "source": [
    "#siab"
   ]
  },
  {
   "cell_type": "markdown",
   "id": "997051c5-15bd-4b69-9786-c3001a3ce484",
   "metadata": {
    "papermill": {
     "duration": 0.017204,
     "end_time": "2025-08-05T15:53:58.819238",
     "exception": false,
     "start_time": "2025-08-05T15:53:58.802034",
     "status": "completed"
    },
    "tags": []
   },
   "source": [
    "# Splitting Data and Setting Training Data Size"
   ]
  },
  {
   "cell_type": "code",
   "execution_count": 11,
   "id": "aea9c6ef-6f46-42c8-85eb-5a62025c1508",
   "metadata": {
    "execution": {
     "iopub.execute_input": "2025-08-05T15:53:58.858403Z",
     "iopub.status.busy": "2025-08-05T15:53:58.857439Z",
     "iopub.status.idle": "2025-08-05T15:53:59.836693Z",
     "shell.execute_reply": "2025-08-05T15:53:59.835731Z"
    },
    "papermill": {
     "duration": 1.000583,
     "end_time": "2025-08-05T15:53:59.838312",
     "exception": false,
     "start_time": "2025-08-05T15:53:58.837729",
     "status": "completed"
    },
    "tags": []
   },
   "outputs": [],
   "source": [
    "from fairness_multiverse.universe import sample_by_year_size\n",
    "\n",
    "siab_train = sample_by_year_size(siab,\n",
    "                               training_year=universe[\"training_year\"],\n",
    "                               training_size=universe[\"training_size\"])"
   ]
  },
  {
   "cell_type": "code",
   "execution_count": 12,
   "id": "8d3afb32-789d-442c-8d5d-9f5aa8dd2eed",
   "metadata": {
    "execution": {
     "iopub.execute_input": "2025-08-05T15:53:59.874973Z",
     "iopub.status.busy": "2025-08-05T15:53:59.874576Z",
     "iopub.status.idle": "2025-08-05T15:53:59.879256Z",
     "shell.execute_reply": "2025-08-05T15:53:59.878183Z"
    },
    "papermill": {
     "duration": 0.027482,
     "end_time": "2025-08-05T15:53:59.881247",
     "exception": false,
     "start_time": "2025-08-05T15:53:59.853765",
     "status": "completed"
    },
    "tags": []
   },
   "outputs": [],
   "source": [
    "#siab_train.shape"
   ]
  },
  {
   "cell_type": "code",
   "execution_count": 13,
   "id": "d582db68-1a4c-47fb-84fc-08518dc1975a",
   "metadata": {
    "execution": {
     "iopub.execute_input": "2025-08-05T15:53:59.923951Z",
     "iopub.status.busy": "2025-08-05T15:53:59.923535Z",
     "iopub.status.idle": "2025-08-05T15:53:59.928939Z",
     "shell.execute_reply": "2025-08-05T15:53:59.927749Z"
    },
    "papermill": {
     "duration": 0.028441,
     "end_time": "2025-08-05T15:53:59.930773",
     "exception": false,
     "start_time": "2025-08-05T15:53:59.902332",
     "status": "completed"
    },
    "tags": []
   },
   "outputs": [],
   "source": [
    "#display(siab_train.groupby(\"year\").size())"
   ]
  },
  {
   "cell_type": "code",
   "execution_count": 14,
   "id": "a561edb4-d032-42cb-8256-22eac1111c64",
   "metadata": {
    "execution": {
     "iopub.execute_input": "2025-08-05T15:53:59.967007Z",
     "iopub.status.busy": "2025-08-05T15:53:59.966582Z",
     "iopub.status.idle": "2025-08-05T15:54:00.213550Z",
     "shell.execute_reply": "2025-08-05T15:54:00.212715Z"
    },
    "papermill": {
     "duration": 0.262756,
     "end_time": "2025-08-05T15:54:00.214994",
     "exception": false,
     "start_time": "2025-08-05T15:53:59.952238",
     "status": "completed"
    },
    "tags": []
   },
   "outputs": [],
   "source": [
    "#siab_train = siab_s[siab_s.year < 2015]\n",
    "siab_calib = siab[siab.year == 2015]\n",
    "siab_test = siab[siab.year == 2016]"
   ]
  },
  {
   "cell_type": "code",
   "execution_count": 15,
   "id": "472de16f-c3db-4916-846b-1f0de9cf1746",
   "metadata": {
    "execution": {
     "iopub.execute_input": "2025-08-05T15:54:00.235780Z",
     "iopub.status.busy": "2025-08-05T15:54:00.235096Z",
     "iopub.status.idle": "2025-08-05T15:54:00.242410Z",
     "shell.execute_reply": "2025-08-05T15:54:00.241618Z"
    },
    "papermill": {
     "duration": 0.019288,
     "end_time": "2025-08-05T15:54:00.244157",
     "exception": false,
     "start_time": "2025-08-05T15:54:00.224869",
     "status": "completed"
    },
    "tags": []
   },
   "outputs": [],
   "source": [
    "X_train = siab_train.iloc[:,4:164]\n",
    "y_train = siab_train.iloc[:, [3]]"
   ]
  },
  {
   "cell_type": "code",
   "execution_count": 16,
   "id": "828c96af-f43a-4ed6-ba47-8ac73a47d56c",
   "metadata": {
    "execution": {
     "iopub.execute_input": "2025-08-05T15:54:00.270189Z",
     "iopub.status.busy": "2025-08-05T15:54:00.266108Z",
     "iopub.status.idle": "2025-08-05T15:54:00.322966Z",
     "shell.execute_reply": "2025-08-05T15:54:00.321620Z"
    },
    "papermill": {
     "duration": 0.06979,
     "end_time": "2025-08-05T15:54:00.325008",
     "exception": false,
     "start_time": "2025-08-05T15:54:00.255218",
     "status": "completed"
    },
    "tags": []
   },
   "outputs": [],
   "source": [
    "X_calib = siab_calib.iloc[:,4:164]\n",
    "y_calib = siab_calib.iloc[:, [3]]"
   ]
  },
  {
   "cell_type": "code",
   "execution_count": 17,
   "id": "c34be9c3-6bd6-476e-acd3-845840e303be",
   "metadata": {
    "execution": {
     "iopub.execute_input": "2025-08-05T15:54:00.367683Z",
     "iopub.status.busy": "2025-08-05T15:54:00.366830Z",
     "iopub.status.idle": "2025-08-05T15:54:00.419911Z",
     "shell.execute_reply": "2025-08-05T15:54:00.418782Z"
    },
    "papermill": {
     "duration": 0.076572,
     "end_time": "2025-08-05T15:54:00.421780",
     "exception": false,
     "start_time": "2025-08-05T15:54:00.345208",
     "status": "completed"
    },
    "tags": []
   },
   "outputs": [],
   "source": [
    "X_test = siab_test.iloc[:,4:164]\n",
    "y_true = siab_test.iloc[:, [3]]"
   ]
  },
  {
   "cell_type": "code",
   "execution_count": 18,
   "id": "e6c733c5",
   "metadata": {
    "execution": {
     "iopub.execute_input": "2025-08-05T15:54:00.460264Z",
     "iopub.status.busy": "2025-08-05T15:54:00.459372Z",
     "iopub.status.idle": "2025-08-05T15:54:00.558798Z",
     "shell.execute_reply": "2025-08-05T15:54:00.557507Z"
    },
    "papermill": {
     "duration": 0.119913,
     "end_time": "2025-08-05T15:54:00.560784",
     "exception": false,
     "start_time": "2025-08-05T15:54:00.440871",
     "status": "completed"
    },
    "tags": []
   },
   "outputs": [],
   "source": [
    "# Auxiliary data needed downstream in the pipeline\n",
    "\n",
    "org_train = X_train.copy()\n",
    "org_test = X_test.copy()\n",
    "org_calib = X_calib.copy()"
   ]
  },
  {
   "cell_type": "markdown",
   "id": "0a4a1b33",
   "metadata": {
    "papermill": {
     "duration": 0.020511,
     "end_time": "2025-08-05T15:54:00.602257",
     "exception": false,
     "start_time": "2025-08-05T15:54:00.581746",
     "status": "completed"
    },
    "tags": []
   },
   "source": [
    "# Preprocessing Data"
   ]
  },
  {
   "cell_type": "code",
   "execution_count": 19,
   "id": "ca879031",
   "metadata": {
    "execution": {
     "iopub.execute_input": "2025-08-05T15:54:00.636130Z",
     "iopub.status.busy": "2025-08-05T15:54:00.635716Z",
     "iopub.status.idle": "2025-08-05T15:54:00.642113Z",
     "shell.execute_reply": "2025-08-05T15:54:00.640963Z"
    },
    "papermill": {
     "duration": 0.022945,
     "end_time": "2025-08-05T15:54:00.644279",
     "exception": false,
     "start_time": "2025-08-05T15:54:00.621334",
     "status": "completed"
    },
    "tags": []
   },
   "outputs": [],
   "source": [
    "# EXCLUDE PROTECTED FEATURES\n",
    "# ----------------------\n",
    "# \"exclude_features\": \"none\", # \"nationality\", \"sex\", \"nationality-sex\"\n",
    "\n",
    "excluded_features = universe[\"exclude_features\"].split(\"-\") # split, e.g.: \"nationality-sex\" -> [\"nationality\", \"sex\"]\n",
    "excluded_features_dictionary = {\n",
    "    \"nationality\": [\"maxdeutsch1\", \"maxdeutsch.Missing.\"],\n",
    "    \"sex\": [\"frau1\"],\n",
    "    \"age\": [\"age\"],\n",
    "}"
   ]
  },
  {
   "cell_type": "code",
   "execution_count": 20,
   "id": "b745ac60",
   "metadata": {
    "execution": {
     "iopub.execute_input": "2025-08-05T15:54:00.688515Z",
     "iopub.status.busy": "2025-08-05T15:54:00.687780Z",
     "iopub.status.idle": "2025-08-05T15:54:00.693795Z",
     "shell.execute_reply": "2025-08-05T15:54:00.692879Z"
    },
    "papermill": {
     "duration": 0.03026,
     "end_time": "2025-08-05T15:54:00.695485",
     "exception": false,
     "start_time": "2025-08-05T15:54:00.665225",
     "status": "completed"
    },
    "tags": []
   },
   "outputs": [],
   "source": [
    "# Code nice names to column names\n",
    "\n",
    "excluded_features_columns = [\n",
    "    excluded_features_dictionary[f] for f in excluded_features if len(f) > 0 and f != \"none\"\n",
    "]"
   ]
  },
  {
   "cell_type": "code",
   "execution_count": 21,
   "id": "f84f73a2",
   "metadata": {
    "execution": {
     "iopub.execute_input": "2025-08-05T15:54:00.741281Z",
     "iopub.status.busy": "2025-08-05T15:54:00.740323Z",
     "iopub.status.idle": "2025-08-05T15:54:00.747540Z",
     "shell.execute_reply": "2025-08-05T15:54:00.746387Z"
    },
    "papermill": {
     "duration": 0.031267,
     "end_time": "2025-08-05T15:54:00.749646",
     "exception": false,
     "start_time": "2025-08-05T15:54:00.718379",
     "status": "completed"
    },
    "tags": []
   },
   "outputs": [],
   "source": [
    "from utils import flatten_once\n",
    "\n",
    "excluded_features_columns = flatten_once(excluded_features_columns)"
   ]
  },
  {
   "cell_type": "code",
   "execution_count": 22,
   "id": "884dea22",
   "metadata": {
    "execution": {
     "iopub.execute_input": "2025-08-05T15:54:00.794357Z",
     "iopub.status.busy": "2025-08-05T15:54:00.793359Z",
     "iopub.status.idle": "2025-08-05T15:54:00.803521Z",
     "shell.execute_reply": "2025-08-05T15:54:00.801986Z"
    },
    "papermill": {
     "duration": 0.033973,
     "end_time": "2025-08-05T15:54:00.805573",
     "exception": false,
     "start_time": "2025-08-05T15:54:00.771600",
     "status": "completed"
    },
    "tags": []
   },
   "outputs": [
    {
     "name": "stdout",
     "output_type": "stream",
     "text": [
      "Dropping features: ['frau1']\n"
     ]
    }
   ],
   "source": [
    "if len(excluded_features_columns) > 0:\n",
    "    print(f\"Dropping features: {excluded_features_columns}\")\n",
    "    X_train.drop(excluded_features_columns, axis=1, inplace=True)"
   ]
  },
  {
   "cell_type": "code",
   "execution_count": 23,
   "id": "95ab8b16",
   "metadata": {
    "execution": {
     "iopub.execute_input": "2025-08-05T15:54:00.851862Z",
     "iopub.status.busy": "2025-08-05T15:54:00.851152Z",
     "iopub.status.idle": "2025-08-05T15:54:00.906354Z",
     "shell.execute_reply": "2025-08-05T15:54:00.905079Z"
    },
    "papermill": {
     "duration": 0.079801,
     "end_time": "2025-08-05T15:54:00.908198",
     "exception": false,
     "start_time": "2025-08-05T15:54:00.828397",
     "status": "completed"
    },
    "tags": []
   },
   "outputs": [
    {
     "name": "stdout",
     "output_type": "stream",
     "text": [
      "Dropping features: ['frau1']\n"
     ]
    }
   ],
   "source": [
    "if len(excluded_features_columns) > 0:\n",
    "    print(f\"Dropping features: {excluded_features_columns}\")\n",
    "    X_test.drop(excluded_features_columns, axis=1, inplace=True)"
   ]
  },
  {
   "cell_type": "code",
   "execution_count": 24,
   "id": "1853aaf5-fb9f-46cb-a2b5-8ea4ae2237e4",
   "metadata": {
    "execution": {
     "iopub.execute_input": "2025-08-05T15:54:00.948413Z",
     "iopub.status.busy": "2025-08-05T15:54:00.947826Z",
     "iopub.status.idle": "2025-08-05T15:54:01.020567Z",
     "shell.execute_reply": "2025-08-05T15:54:01.019389Z"
    },
    "papermill": {
     "duration": 0.095368,
     "end_time": "2025-08-05T15:54:01.022590",
     "exception": false,
     "start_time": "2025-08-05T15:54:00.927222",
     "status": "completed"
    },
    "tags": []
   },
   "outputs": [
    {
     "name": "stdout",
     "output_type": "stream",
     "text": [
      "Dropping features: ['frau1']\n"
     ]
    }
   ],
   "source": [
    "if len(excluded_features_columns) > 0:\n",
    "    print(f\"Dropping features: {excluded_features_columns}\")\n",
    "    X_calib.drop(excluded_features_columns, axis=1, inplace=True)"
   ]
  },
  {
   "cell_type": "code",
   "execution_count": 25,
   "id": "76c4dc6d",
   "metadata": {
    "execution": {
     "iopub.execute_input": "2025-08-05T15:54:01.069496Z",
     "iopub.status.busy": "2025-08-05T15:54:01.068874Z",
     "iopub.status.idle": "2025-08-05T15:54:01.074488Z",
     "shell.execute_reply": "2025-08-05T15:54:01.073202Z"
    },
    "papermill": {
     "duration": 0.031035,
     "end_time": "2025-08-05T15:54:01.076560",
     "exception": false,
     "start_time": "2025-08-05T15:54:01.045525",
     "status": "completed"
    },
    "tags": []
   },
   "outputs": [],
   "source": [
    "# EXCLUDE CERTAIN SUBGROUPS\n",
    "# ----------------------\n",
    "\n",
    "mode = universe.get(\"exclude_subgroups\", \"keep-all\") \n",
    "# Fetches the exclude_subgroups setting from the universe dict.\n",
    "# Defaults to \"keep-all\" if the key is missing."
   ]
  },
  {
   "cell_type": "code",
   "execution_count": 26,
   "id": "21994072",
   "metadata": {
    "execution": {
     "iopub.execute_input": "2025-08-05T15:54:01.124624Z",
     "iopub.status.busy": "2025-08-05T15:54:01.123659Z",
     "iopub.status.idle": "2025-08-05T15:54:01.131001Z",
     "shell.execute_reply": "2025-08-05T15:54:01.129961Z"
    },
    "papermill": {
     "duration": 0.033172,
     "end_time": "2025-08-05T15:54:01.133098",
     "exception": false,
     "start_time": "2025-08-05T15:54:01.099926",
     "status": "completed"
    },
    "tags": []
   },
   "outputs": [],
   "source": [
    "if mode == \"keep-all\":\n",
    "    keep_mask = pd.Series(True, index=org_train.index)\n",
    "\n",
    "# org_train contains the original feature columns from features_org (in Simson)\n",
    "# features_org contains unprocessed features, for me X_train at beginning ???\n",
    "# For keep-all, creates a boolean Series (keep_mask) of all True, so no rows are removed.\n",
    "\n",
    "elif mode == \"drop-non-german\":\n",
    "    keep_mask = org_train[\"maxdeutsch1\"] == 1 # ??? what about missing values?\n",
    "\n",
    "else:\n",
    "    raise ValueError(f\"Unsupported mode for exclude_subgroups: {mode}\")"
   ]
  },
  {
   "cell_type": "code",
   "execution_count": 27,
   "id": "71651440",
   "metadata": {
    "execution": {
     "iopub.execute_input": "2025-08-05T15:54:01.181300Z",
     "iopub.status.busy": "2025-08-05T15:54:01.180388Z",
     "iopub.status.idle": "2025-08-05T15:54:01.187704Z",
     "shell.execute_reply": "2025-08-05T15:54:01.186441Z"
    },
    "papermill": {
     "duration": 0.03261,
     "end_time": "2025-08-05T15:54:01.189552",
     "exception": false,
     "start_time": "2025-08-05T15:54:01.156942",
     "status": "completed"
    },
    "tags": []
   },
   "outputs": [],
   "source": [
    "n_drop = (~keep_mask).sum() # Calculates how many rows are set to be dropped\n",
    "if n_drop > 0:\n",
    "    pct = n_drop / len(keep_mask) * 100\n",
    "    print(f\"Dropping {n_drop} rows ({pct:.2f}%) where mode='{mode}'\")"
   ]
  },
  {
   "cell_type": "code",
   "execution_count": 28,
   "id": "5fb8eee5",
   "metadata": {
    "execution": {
     "iopub.execute_input": "2025-08-05T15:54:01.236863Z",
     "iopub.status.busy": "2025-08-05T15:54:01.236079Z",
     "iopub.status.idle": "2025-08-05T15:54:01.244648Z",
     "shell.execute_reply": "2025-08-05T15:54:01.243593Z"
    },
    "papermill": {
     "duration": 0.034192,
     "end_time": "2025-08-05T15:54:01.246767",
     "exception": false,
     "start_time": "2025-08-05T15:54:01.212575",
     "status": "completed"
    },
    "tags": []
   },
   "outputs": [],
   "source": [
    "X_train = X_train[keep_mask]"
   ]
  },
  {
   "cell_type": "code",
   "execution_count": 29,
   "id": "b202bb3a",
   "metadata": {
    "execution": {
     "iopub.execute_input": "2025-08-05T15:54:01.292369Z",
     "iopub.status.busy": "2025-08-05T15:54:01.291928Z",
     "iopub.status.idle": "2025-08-05T15:54:01.299173Z",
     "shell.execute_reply": "2025-08-05T15:54:01.297865Z"
    },
    "papermill": {
     "duration": 0.032859,
     "end_time": "2025-08-05T15:54:01.301257",
     "exception": false,
     "start_time": "2025-08-05T15:54:01.268398",
     "status": "completed"
    },
    "tags": []
   },
   "outputs": [],
   "source": [
    "y_train = y_train[keep_mask]"
   ]
  },
  {
   "cell_type": "markdown",
   "id": "493e2ac3",
   "metadata": {
    "papermill": {
     "duration": 0.023846,
     "end_time": "2025-08-05T15:54:01.349266",
     "exception": false,
     "start_time": "2025-08-05T15:54:01.325420",
     "status": "completed"
    },
    "tags": []
   },
   "source": [
    "# Model Training"
   ]
  },
  {
   "cell_type": "code",
   "execution_count": 30,
   "id": "679e1268",
   "metadata": {
    "execution": {
     "iopub.execute_input": "2025-08-05T15:54:01.398191Z",
     "iopub.status.busy": "2025-08-05T15:54:01.397440Z",
     "iopub.status.idle": "2025-08-05T15:54:01.508549Z",
     "shell.execute_reply": "2025-08-05T15:54:01.507456Z"
    },
    "papermill": {
     "duration": 0.138099,
     "end_time": "2025-08-05T15:54:01.510955",
     "exception": false,
     "start_time": "2025-08-05T15:54:01.372856",
     "status": "completed"
    },
    "tags": []
   },
   "outputs": [],
   "source": [
    "from sklearn.linear_model import LogisticRegression\n",
    "from sklearn.ensemble import GradientBoostingClassifier, RandomForestClassifier\n",
    "\n",
    "if (universe[\"model\"] == \"logreg\"):\n",
    "    model = LogisticRegression() #penalty=\"none\", solver=\"newton-cg\", max_iter=1) # include random_state=19 ?\n",
    "elif (universe[\"model\"] == \"penalized_logreg\"):\n",
    "    model = LogisticRegression(penalty=\"l2\", C=0.1) #, solver=\"newton-cg\", max_iter=1)\n",
    "elif (universe[\"model\"] == \"rf\"):\n",
    "    model = RandomForestClassifier() # n_estimators=100, n_jobs=-1\n",
    "elif (universe[\"model\"] == \"gbm\"):\n",
    "    model = GradientBoostingClassifier()\n",
    "elif (universe[\"model\"] == \"elasticnet\"):\n",
    "    model = LogisticRegression(penalty = 'elasticnet', solver = 'saga', l1_ratio = 0.5) # max_iter=5000\n",
    "else:\n",
    "    raise \"Unsupported universe.model\""
   ]
  },
  {
   "cell_type": "code",
   "execution_count": 31,
   "id": "0cc8f744",
   "metadata": {
    "execution": {
     "iopub.execute_input": "2025-08-05T15:54:01.564296Z",
     "iopub.status.busy": "2025-08-05T15:54:01.563527Z",
     "iopub.status.idle": "2025-08-05T15:54:01.571200Z",
     "shell.execute_reply": "2025-08-05T15:54:01.570056Z"
    },
    "papermill": {
     "duration": 0.036007,
     "end_time": "2025-08-05T15:54:01.573952",
     "exception": false,
     "start_time": "2025-08-05T15:54:01.537945",
     "status": "completed"
    },
    "tags": []
   },
   "outputs": [],
   "source": [
    "import numpy as np\n",
    "from sklearn.pipeline import Pipeline\n",
    "from sklearn.preprocessing import StandardScaler\n",
    "\n",
    "model = Pipeline([\n",
    "    #(\"continuous_processor\", continuous_processor),\n",
    "    #(\"categorical_preprocessor\", categorical_preprocessor),\n",
    "    (\"scale\", StandardScaler() if universe[\"scale\"] == \"scale\" else None), \n",
    "    (\"model\", model),\n",
    "])"
   ]
  },
  {
   "cell_type": "code",
   "execution_count": 32,
   "id": "9442c04d",
   "metadata": {
    "execution": {
     "iopub.execute_input": "2025-08-05T15:54:01.623415Z",
     "iopub.status.busy": "2025-08-05T15:54:01.622915Z",
     "iopub.status.idle": "2025-08-05T15:54:03.808270Z",
     "shell.execute_reply": "2025-08-05T15:54:03.807325Z"
    },
    "papermill": {
     "duration": 2.211555,
     "end_time": "2025-08-05T15:54:03.809951",
     "exception": false,
     "start_time": "2025-08-05T15:54:01.598396",
     "status": "completed"
    },
    "tags": []
   },
   "outputs": [
    {
     "name": "stderr",
     "output_type": "stream",
     "text": [
      "/dss/dsshome1/0C/ra93lal2/.local/share/virtualenvs/CMA_Fairness_v2-3j10GkSs/lib/python3.10/site-packages/sklearn/linear_model/_sag.py:350: ConvergenceWarning: The max_iter was reached which means the coef_ did not converge\n",
      "  warnings.warn(\n"
     ]
    },
    {
     "data": {
      "text/html": [
       "<style>#sk-container-id-1 {color: black;background-color: white;}#sk-container-id-1 pre{padding: 0;}#sk-container-id-1 div.sk-toggleable {background-color: white;}#sk-container-id-1 label.sk-toggleable__label {cursor: pointer;display: block;width: 100%;margin-bottom: 0;padding: 0.3em;box-sizing: border-box;text-align: center;}#sk-container-id-1 label.sk-toggleable__label-arrow:before {content: \"▸\";float: left;margin-right: 0.25em;color: #696969;}#sk-container-id-1 label.sk-toggleable__label-arrow:hover:before {color: black;}#sk-container-id-1 div.sk-estimator:hover label.sk-toggleable__label-arrow:before {color: black;}#sk-container-id-1 div.sk-toggleable__content {max-height: 0;max-width: 0;overflow: hidden;text-align: left;background-color: #f0f8ff;}#sk-container-id-1 div.sk-toggleable__content pre {margin: 0.2em;color: black;border-radius: 0.25em;background-color: #f0f8ff;}#sk-container-id-1 input.sk-toggleable__control:checked~div.sk-toggleable__content {max-height: 200px;max-width: 100%;overflow: auto;}#sk-container-id-1 input.sk-toggleable__control:checked~label.sk-toggleable__label-arrow:before {content: \"▾\";}#sk-container-id-1 div.sk-estimator input.sk-toggleable__control:checked~label.sk-toggleable__label {background-color: #d4ebff;}#sk-container-id-1 div.sk-label input.sk-toggleable__control:checked~label.sk-toggleable__label {background-color: #d4ebff;}#sk-container-id-1 input.sk-hidden--visually {border: 0;clip: rect(1px 1px 1px 1px);clip: rect(1px, 1px, 1px, 1px);height: 1px;margin: -1px;overflow: hidden;padding: 0;position: absolute;width: 1px;}#sk-container-id-1 div.sk-estimator {font-family: monospace;background-color: #f0f8ff;border: 1px dotted black;border-radius: 0.25em;box-sizing: border-box;margin-bottom: 0.5em;}#sk-container-id-1 div.sk-estimator:hover {background-color: #d4ebff;}#sk-container-id-1 div.sk-parallel-item::after {content: \"\";width: 100%;border-bottom: 1px solid gray;flex-grow: 1;}#sk-container-id-1 div.sk-label:hover label.sk-toggleable__label {background-color: #d4ebff;}#sk-container-id-1 div.sk-serial::before {content: \"\";position: absolute;border-left: 1px solid gray;box-sizing: border-box;top: 0;bottom: 0;left: 50%;z-index: 0;}#sk-container-id-1 div.sk-serial {display: flex;flex-direction: column;align-items: center;background-color: white;padding-right: 0.2em;padding-left: 0.2em;position: relative;}#sk-container-id-1 div.sk-item {position: relative;z-index: 1;}#sk-container-id-1 div.sk-parallel {display: flex;align-items: stretch;justify-content: center;background-color: white;position: relative;}#sk-container-id-1 div.sk-item::before, #sk-container-id-1 div.sk-parallel-item::before {content: \"\";position: absolute;border-left: 1px solid gray;box-sizing: border-box;top: 0;bottom: 0;left: 50%;z-index: -1;}#sk-container-id-1 div.sk-parallel-item {display: flex;flex-direction: column;z-index: 1;position: relative;background-color: white;}#sk-container-id-1 div.sk-parallel-item:first-child::after {align-self: flex-end;width: 50%;}#sk-container-id-1 div.sk-parallel-item:last-child::after {align-self: flex-start;width: 50%;}#sk-container-id-1 div.sk-parallel-item:only-child::after {width: 0;}#sk-container-id-1 div.sk-dashed-wrapped {border: 1px dashed gray;margin: 0 0.4em 0.5em 0.4em;box-sizing: border-box;padding-bottom: 0.4em;background-color: white;}#sk-container-id-1 div.sk-label label {font-family: monospace;font-weight: bold;display: inline-block;line-height: 1.2em;}#sk-container-id-1 div.sk-label-container {text-align: center;}#sk-container-id-1 div.sk-container {/* jupyter's `normalize.less` sets `[hidden] { display: none; }` but bootstrap.min.css set `[hidden] { display: none !important; }` so we also need the `!important` here to be able to override the default hidden behavior on the sphinx rendered scikit-learn.org. See: https://github.com/scikit-learn/scikit-learn/issues/21755 */display: inline-block !important;position: relative;}#sk-container-id-1 div.sk-text-repr-fallback {display: none;}</style><div id=\"sk-container-id-1\" class=\"sk-top-container\"><div class=\"sk-text-repr-fallback\"><pre>Pipeline(steps=[(&#x27;scale&#x27;, StandardScaler()),\n",
       "                (&#x27;model&#x27;,\n",
       "                 LogisticRegression(l1_ratio=0.5, penalty=&#x27;elasticnet&#x27;,\n",
       "                                    solver=&#x27;saga&#x27;))])</pre><b>In a Jupyter environment, please rerun this cell to show the HTML representation or trust the notebook. <br />On GitHub, the HTML representation is unable to render, please try loading this page with nbviewer.org.</b></div><div class=\"sk-container\" hidden><div class=\"sk-item sk-dashed-wrapped\"><div class=\"sk-label-container\"><div class=\"sk-label sk-toggleable\"><input class=\"sk-toggleable__control sk-hidden--visually\" id=\"sk-estimator-id-1\" type=\"checkbox\" ><label for=\"sk-estimator-id-1\" class=\"sk-toggleable__label sk-toggleable__label-arrow\">Pipeline</label><div class=\"sk-toggleable__content\"><pre>Pipeline(steps=[(&#x27;scale&#x27;, StandardScaler()),\n",
       "                (&#x27;model&#x27;,\n",
       "                 LogisticRegression(l1_ratio=0.5, penalty=&#x27;elasticnet&#x27;,\n",
       "                                    solver=&#x27;saga&#x27;))])</pre></div></div></div><div class=\"sk-serial\"><div class=\"sk-item\"><div class=\"sk-estimator sk-toggleable\"><input class=\"sk-toggleable__control sk-hidden--visually\" id=\"sk-estimator-id-2\" type=\"checkbox\" ><label for=\"sk-estimator-id-2\" class=\"sk-toggleable__label sk-toggleable__label-arrow\">StandardScaler</label><div class=\"sk-toggleable__content\"><pre>StandardScaler()</pre></div></div></div><div class=\"sk-item\"><div class=\"sk-estimator sk-toggleable\"><input class=\"sk-toggleable__control sk-hidden--visually\" id=\"sk-estimator-id-3\" type=\"checkbox\" ><label for=\"sk-estimator-id-3\" class=\"sk-toggleable__label sk-toggleable__label-arrow\">LogisticRegression</label><div class=\"sk-toggleable__content\"><pre>LogisticRegression(l1_ratio=0.5, penalty=&#x27;elasticnet&#x27;, solver=&#x27;saga&#x27;)</pre></div></div></div></div></div></div></div>"
      ],
      "text/plain": [
       "Pipeline(steps=[('scale', StandardScaler()),\n",
       "                ('model',\n",
       "                 LogisticRegression(l1_ratio=0.5, penalty='elasticnet',\n",
       "                                    solver='saga'))])"
      ]
     },
     "execution_count": 32,
     "metadata": {},
     "output_type": "execute_result"
    }
   ],
   "source": [
    "model.fit(X_train, y_train.values.ravel())"
   ]
  },
  {
   "cell_type": "code",
   "execution_count": 33,
   "id": "af59f8c0",
   "metadata": {
    "execution": {
     "iopub.execute_input": "2025-08-05T15:54:03.855992Z",
     "iopub.status.busy": "2025-08-05T15:54:03.855437Z",
     "iopub.status.idle": "2025-08-05T15:54:03.861252Z",
     "shell.execute_reply": "2025-08-05T15:54:03.860272Z"
    },
    "papermill": {
     "duration": 0.029921,
     "end_time": "2025-08-05T15:54:03.863092",
     "exception": false,
     "start_time": "2025-08-05T15:54:03.833171",
     "status": "completed"
    },
    "tags": []
   },
   "outputs": [],
   "source": [
    "from fairness_multiverse.universe import predict_w_threshold"
   ]
  },
  {
   "cell_type": "code",
   "execution_count": 34,
   "id": "a7cf2e16",
   "metadata": {
    "execution": {
     "iopub.execute_input": "2025-08-05T15:54:03.909544Z",
     "iopub.status.busy": "2025-08-05T15:54:03.908917Z",
     "iopub.status.idle": "2025-08-05T15:54:04.179563Z",
     "shell.execute_reply": "2025-08-05T15:54:04.178402Z"
    },
    "papermill": {
     "duration": 0.295623,
     "end_time": "2025-08-05T15:54:04.181608",
     "exception": false,
     "start_time": "2025-08-05T15:54:03.885985",
     "status": "completed"
    },
    "tags": []
   },
   "outputs": [
    {
     "data": {
      "text/plain": [
       "0.8533050941923978"
      ]
     },
     "execution_count": 34,
     "metadata": {},
     "output_type": "execute_result"
    }
   ],
   "source": [
    "probs_test = model.predict_proba(X_test)\n",
    "\n",
    "'''\n",
    "Below code returns a boolean array (or binary 0/1 array depending on how it’s used) where each element \n",
    "is True if the probability of class 1 is greater than or equal to the threshold, and False otherwise.\n",
    "'''\n",
    "y_pred_default = predict_w_threshold(probs_test, 0.5)\n",
    "\n",
    "from sklearn.metrics import accuracy_score\n",
    "\n",
    "# Naive prediction\n",
    "accuracy_score(y_true = y_true, y_pred = y_pred_default)"
   ]
  },
  {
   "cell_type": "code",
   "execution_count": 35,
   "id": "081964c3",
   "metadata": {
    "execution": {
     "iopub.execute_input": "2025-08-05T15:54:04.230659Z",
     "iopub.status.busy": "2025-08-05T15:54:04.229692Z",
     "iopub.status.idle": "2025-08-05T15:54:04.438843Z",
     "shell.execute_reply": "2025-08-05T15:54:04.438136Z"
    },
    "papermill": {
     "duration": 0.233787,
     "end_time": "2025-08-05T15:54:04.440040",
     "exception": false,
     "start_time": "2025-08-05T15:54:04.206253",
     "status": "completed"
    },
    "tags": []
   },
   "outputs": [
    {
     "data": {
      "text/plain": [
       "array([0, 0, 0, ..., 0, 0, 0])"
      ]
     },
     "execution_count": 35,
     "metadata": {},
     "output_type": "execute_result"
    }
   ],
   "source": [
    "model.predict(X_test)"
   ]
  },
  {
   "cell_type": "markdown",
   "id": "56c9705b",
   "metadata": {
    "papermill": {
     "duration": 0.011828,
     "end_time": "2025-08-05T15:54:04.463407",
     "exception": false,
     "start_time": "2025-08-05T15:54:04.451579",
     "status": "completed"
    },
    "tags": []
   },
   "source": [
    "# Conformal Prediction"
   ]
  },
  {
   "cell_type": "code",
   "execution_count": 36,
   "id": "160ec6ff",
   "metadata": {
    "execution": {
     "iopub.execute_input": "2025-08-05T15:54:04.487399Z",
     "iopub.status.busy": "2025-08-05T15:54:04.486868Z",
     "iopub.status.idle": "2025-08-05T15:54:04.492099Z",
     "shell.execute_reply": "2025-08-05T15:54:04.491426Z"
    },
    "papermill": {
     "duration": 0.019455,
     "end_time": "2025-08-05T15:54:04.493465",
     "exception": false,
     "start_time": "2025-08-05T15:54:04.474010",
     "status": "completed"
    },
    "tags": []
   },
   "outputs": [],
   "source": [
    "# Miscoverage level for conformal prediction (10% allowed error rate => 90% target coverage)\n",
    "alpha = 0.1"
   ]
  },
  {
   "cell_type": "code",
   "execution_count": 37,
   "id": "eadf4555-3dd3-440e-8e35-f82a4ad9f855",
   "metadata": {
    "execution": {
     "iopub.execute_input": "2025-08-05T15:54:04.517970Z",
     "iopub.status.busy": "2025-08-05T15:54:04.517574Z",
     "iopub.status.idle": "2025-08-05T15:54:04.679845Z",
     "shell.execute_reply": "2025-08-05T15:54:04.679085Z"
    },
    "papermill": {
     "duration": 0.175368,
     "end_time": "2025-08-05T15:54:04.681271",
     "exception": false,
     "start_time": "2025-08-05T15:54:04.505903",
     "status": "completed"
    },
    "tags": []
   },
   "outputs": [],
   "source": [
    "probs_calib = model.predict_proba(X_calib)"
   ]
  },
  {
   "cell_type": "code",
   "execution_count": 38,
   "id": "2ed93547-6d5d-4983-9b36-1ecb300da49a",
   "metadata": {
    "execution": {
     "iopub.execute_input": "2025-08-05T15:54:04.705607Z",
     "iopub.status.busy": "2025-08-05T15:54:04.705238Z",
     "iopub.status.idle": "2025-08-05T15:54:04.710475Z",
     "shell.execute_reply": "2025-08-05T15:54:04.709615Z"
    },
    "papermill": {
     "duration": 0.018816,
     "end_time": "2025-08-05T15:54:04.711857",
     "exception": false,
     "start_time": "2025-08-05T15:54:04.693041",
     "status": "completed"
    },
    "tags": []
   },
   "outputs": [],
   "source": [
    "y_calib = y_calib.values.ravel().astype(int)"
   ]
  },
  {
   "cell_type": "code",
   "execution_count": 39,
   "id": "65d1320d-f588-4b38-9072-62af1ae97f7d",
   "metadata": {
    "execution": {
     "iopub.execute_input": "2025-08-05T15:54:04.737727Z",
     "iopub.status.busy": "2025-08-05T15:54:04.737180Z",
     "iopub.status.idle": "2025-08-05T15:54:04.743707Z",
     "shell.execute_reply": "2025-08-05T15:54:04.742811Z"
    },
    "papermill": {
     "duration": 0.02053,
     "end_time": "2025-08-05T15:54:04.745208",
     "exception": false,
     "start_time": "2025-08-05T15:54:04.724678",
     "status": "completed"
    },
    "tags": []
   },
   "outputs": [],
   "source": [
    "from fairness_multiverse.conformal import compute_nc_scores\n",
    "\n",
    "# Compute nonconformity scores on calibration set (1 - probability of true class)\n",
    "nc_scores = compute_nc_scores(probs_calib, y_calib)"
   ]
  },
  {
   "cell_type": "code",
   "execution_count": 40,
   "id": "df3b8ca3-53b7-43d5-9667-7c85da7aeda2",
   "metadata": {
    "execution": {
     "iopub.execute_input": "2025-08-05T15:54:04.770275Z",
     "iopub.status.busy": "2025-08-05T15:54:04.769704Z",
     "iopub.status.idle": "2025-08-05T15:54:04.776007Z",
     "shell.execute_reply": "2025-08-05T15:54:04.775182Z"
    },
    "papermill": {
     "duration": 0.020216,
     "end_time": "2025-08-05T15:54:04.777631",
     "exception": false,
     "start_time": "2025-08-05T15:54:04.757415",
     "status": "completed"
    },
    "tags": []
   },
   "outputs": [],
   "source": [
    "from fairness_multiverse.conformal import find_threshold\n",
    "\n",
    "# Find conformal threshold q_hat for the given alpha (split conformal method)\n",
    "q_hat = find_threshold(nc_scores, alpha)"
   ]
  },
  {
   "cell_type": "code",
   "execution_count": 41,
   "id": "4d29e6c1-0ef6-4aa4-b8fe-4fe79b0d033a",
   "metadata": {
    "execution": {
     "iopub.execute_input": "2025-08-05T15:54:04.802712Z",
     "iopub.status.busy": "2025-08-05T15:54:04.802209Z",
     "iopub.status.idle": "2025-08-05T15:54:04.808971Z",
     "shell.execute_reply": "2025-08-05T15:54:04.808062Z"
    },
    "papermill": {
     "duration": 0.020735,
     "end_time": "2025-08-05T15:54:04.810671",
     "exception": false,
     "start_time": "2025-08-05T15:54:04.789936",
     "status": "completed"
    },
    "tags": []
   },
   "outputs": [
    {
     "data": {
      "text/plain": [
       "0.67734454034671"
      ]
     },
     "execution_count": 41,
     "metadata": {},
     "output_type": "execute_result"
    }
   ],
   "source": [
    "q_hat"
   ]
  },
  {
   "cell_type": "code",
   "execution_count": 42,
   "id": "92460794-cdac-4be2-ba28-f28c0515a6fb",
   "metadata": {
    "execution": {
     "iopub.execute_input": "2025-08-05T15:54:04.835836Z",
     "iopub.status.busy": "2025-08-05T15:54:04.835337Z",
     "iopub.status.idle": "2025-08-05T15:54:05.652495Z",
     "shell.execute_reply": "2025-08-05T15:54:05.651448Z"
    },
    "papermill": {
     "duration": 0.831776,
     "end_time": "2025-08-05T15:54:05.654612",
     "exception": false,
     "start_time": "2025-08-05T15:54:04.822836",
     "status": "completed"
    },
    "tags": []
   },
   "outputs": [],
   "source": [
    "from fairness_multiverse.conformal import predict_conformal_sets\n",
    "\n",
    "# Generate prediction sets for each test example\n",
    "pred_sets = predict_conformal_sets(model, X_test, q_hat)"
   ]
  },
  {
   "cell_type": "code",
   "execution_count": 43,
   "id": "d90c9a65-e6db-4f5d-80cd-e68fb7e46829",
   "metadata": {
    "execution": {
     "iopub.execute_input": "2025-08-05T15:54:05.700195Z",
     "iopub.status.busy": "2025-08-05T15:54:05.699671Z",
     "iopub.status.idle": "2025-08-05T15:54:05.706075Z",
     "shell.execute_reply": "2025-08-05T15:54:05.704736Z"
    },
    "papermill": {
     "duration": 0.031726,
     "end_time": "2025-08-05T15:54:05.708694",
     "exception": false,
     "start_time": "2025-08-05T15:54:05.676968",
     "status": "completed"
    },
    "tags": []
   },
   "outputs": [],
   "source": [
    "y_true = y_true.squeeze()"
   ]
  },
  {
   "cell_type": "code",
   "execution_count": 44,
   "id": "3a58a54a-1e68-46b9-927a-df01f18aebc8",
   "metadata": {
    "execution": {
     "iopub.execute_input": "2025-08-05T15:54:05.771516Z",
     "iopub.status.busy": "2025-08-05T15:54:05.770752Z",
     "iopub.status.idle": "2025-08-05T15:54:06.511010Z",
     "shell.execute_reply": "2025-08-05T15:54:06.510045Z"
    },
    "papermill": {
     "duration": 0.773299,
     "end_time": "2025-08-05T15:54:06.512928",
     "exception": false,
     "start_time": "2025-08-05T15:54:05.739629",
     "status": "completed"
    },
    "tags": []
   },
   "outputs": [],
   "source": [
    "from fairness_multiverse.conformal import evaluate_sets\n",
    "\n",
    "# Evaluate coverage and average set size on test data\n",
    "metrics = evaluate_sets(pred_sets, y_true)"
   ]
  },
  {
   "cell_type": "markdown",
   "id": "2b569c12-9aaa-4c88-98c9-bbcd0cf3ebb8",
   "metadata": {
    "papermill": {
     "duration": 0.021852,
     "end_time": "2025-08-05T15:54:06.558142",
     "exception": false,
     "start_time": "2025-08-05T15:54:06.536290",
     "status": "completed"
    },
    "tags": []
   },
   "source": [
    "# CP Metrics"
   ]
  },
  {
   "cell_type": "code",
   "execution_count": 45,
   "id": "5ce0a5cb-201f-45a0-ade5-94c7f0bd6095",
   "metadata": {
    "execution": {
     "iopub.execute_input": "2025-08-05T15:54:06.605564Z",
     "iopub.status.busy": "2025-08-05T15:54:06.605018Z",
     "iopub.status.idle": "2025-08-05T15:54:06.613042Z",
     "shell.execute_reply": "2025-08-05T15:54:06.611636Z"
    },
    "papermill": {
     "duration": 0.033784,
     "end_time": "2025-08-05T15:54:06.614935",
     "exception": false,
     "start_time": "2025-08-05T15:54:06.581151",
     "status": "completed"
    },
    "tags": []
   },
   "outputs": [
    {
     "data": {
      "text/plain": [
       "{'coverage': 0.9109575298183035, 'avg_size': 1.1445769702374318}"
      ]
     },
     "execution_count": 45,
     "metadata": {},
     "output_type": "execute_result"
    }
   ],
   "source": [
    "metrics"
   ]
  },
  {
   "cell_type": "code",
   "execution_count": 46,
   "id": "9b9a838d-31c9-430b-ae14-12baee460d17",
   "metadata": {
    "execution": {
     "iopub.execute_input": "2025-08-05T15:54:06.663679Z",
     "iopub.status.busy": "2025-08-05T15:54:06.663039Z",
     "iopub.status.idle": "2025-08-05T15:54:06.669962Z",
     "shell.execute_reply": "2025-08-05T15:54:06.669022Z"
    },
    "papermill": {
     "duration": 0.033069,
     "end_time": "2025-08-05T15:54:06.672075",
     "exception": false,
     "start_time": "2025-08-05T15:54:06.639006",
     "status": "completed"
    },
    "tags": []
   },
   "outputs": [],
   "source": [
    "example_universe = universe.copy()\n",
    "universe_training_year = example_universe.get(\"training_year\")\n",
    "universe_training_size = example_universe.get(\"training_size\")\n",
    "universe_scale = example_universe.get(\"scale\")\n",
    "universe_model = example_universe.get(\"model\")\n",
    "universe_exclude_features = example_universe.get(\"exclude_features\")\n",
    "universe_exclude_subgroups = example_universe.get(\"exclude_subgroups\")"
   ]
  },
  {
   "cell_type": "code",
   "execution_count": 47,
   "id": "f4b6a8ac-9dc0-4245-8a91-5b3b5999c4f9",
   "metadata": {
    "execution": {
     "iopub.execute_input": "2025-08-05T15:54:06.717373Z",
     "iopub.status.busy": "2025-08-05T15:54:06.716857Z",
     "iopub.status.idle": "2025-08-05T15:54:06.724432Z",
     "shell.execute_reply": "2025-08-05T15:54:06.723452Z"
    },
    "papermill": {
     "duration": 0.032596,
     "end_time": "2025-08-05T15:54:06.726258",
     "exception": false,
     "start_time": "2025-08-05T15:54:06.693662",
     "status": "completed"
    },
    "tags": []
   },
   "outputs": [],
   "source": [
    "cp_metrics_dict = {\n",
    "    \"universe_id\": [universe_id],\n",
    "    \"universe_training_year\": [universe_training_year],\n",
    "    \"universe_training_size\": [universe_training_size],\n",
    "    \"universe_scale\": [universe_scale],\n",
    "    \"universe_model\": [universe_model],\n",
    "    \"universe_exclude_features\": [universe_exclude_features],\n",
    "    \"universe_exclude_subgroups\": [universe_exclude_subgroups],\n",
    "    \"q_hat\": [q_hat],\n",
    "    \"coverage\": [metrics[\"coverage\"]],\n",
    "    \"avg_size\": [metrics[\"avg_size\"]],\n",
    "}"
   ]
  },
  {
   "cell_type": "code",
   "execution_count": 48,
   "id": "908acbb1-0371-4915-85ca-3fa520d2efe2",
   "metadata": {
    "execution": {
     "iopub.execute_input": "2025-08-05T15:54:06.770400Z",
     "iopub.status.busy": "2025-08-05T15:54:06.769908Z",
     "iopub.status.idle": "2025-08-05T15:54:06.777987Z",
     "shell.execute_reply": "2025-08-05T15:54:06.776673Z"
    },
    "papermill": {
     "duration": 0.031847,
     "end_time": "2025-08-05T15:54:06.779820",
     "exception": false,
     "start_time": "2025-08-05T15:54:06.747973",
     "status": "completed"
    },
    "tags": []
   },
   "outputs": [
    {
     "data": {
      "text/plain": [
       "{'universe_id': ['43e43c44d4cfa077c200531c2823d6ae'],\n",
       " 'universe_training_year': ['2010_14'],\n",
       " 'universe_training_size': ['5k'],\n",
       " 'universe_scale': ['scale'],\n",
       " 'universe_model': ['elasticnet'],\n",
       " 'universe_exclude_features': ['sex'],\n",
       " 'universe_exclude_subgroups': ['keep-all'],\n",
       " 'q_hat': [0.67734454034671],\n",
       " 'coverage': [0.9109575298183035],\n",
       " 'avg_size': [1.1445769702374318]}"
      ]
     },
     "execution_count": 48,
     "metadata": {},
     "output_type": "execute_result"
    }
   ],
   "source": [
    "cp_metrics_dict"
   ]
  },
  {
   "cell_type": "code",
   "execution_count": 49,
   "id": "33007efc-14e9-4ec6-97ac-56a455c82265",
   "metadata": {
    "execution": {
     "iopub.execute_input": "2025-08-05T15:54:06.827309Z",
     "iopub.status.busy": "2025-08-05T15:54:06.826820Z",
     "iopub.status.idle": "2025-08-05T15:54:06.833586Z",
     "shell.execute_reply": "2025-08-05T15:54:06.832566Z"
    },
    "papermill": {
     "duration": 0.032039,
     "end_time": "2025-08-05T15:54:06.835800",
     "exception": false,
     "start_time": "2025-08-05T15:54:06.803761",
     "status": "completed"
    },
    "tags": []
   },
   "outputs": [],
   "source": [
    "cp_metrics_df = pd.DataFrame(cp_metrics_dict)"
   ]
  },
  {
   "cell_type": "code",
   "execution_count": 50,
   "id": "db12611b-57b2-4910-b9d0-355adfd6e7bf",
   "metadata": {
    "execution": {
     "iopub.execute_input": "2025-08-05T15:54:06.882324Z",
     "iopub.status.busy": "2025-08-05T15:54:06.881900Z",
     "iopub.status.idle": "2025-08-05T15:54:06.902580Z",
     "shell.execute_reply": "2025-08-05T15:54:06.901343Z"
    },
    "papermill": {
     "duration": 0.045004,
     "end_time": "2025-08-05T15:54:06.904439",
     "exception": false,
     "start_time": "2025-08-05T15:54:06.859435",
     "status": "completed"
    },
    "tags": []
   },
   "outputs": [
    {
     "data": {
      "text/html": [
       "<div>\n",
       "<style scoped>\n",
       "    .dataframe tbody tr th:only-of-type {\n",
       "        vertical-align: middle;\n",
       "    }\n",
       "\n",
       "    .dataframe tbody tr th {\n",
       "        vertical-align: top;\n",
       "    }\n",
       "\n",
       "    .dataframe thead th {\n",
       "        text-align: right;\n",
       "    }\n",
       "</style>\n",
       "<table border=\"1\" class=\"dataframe\">\n",
       "  <thead>\n",
       "    <tr style=\"text-align: right;\">\n",
       "      <th></th>\n",
       "      <th>universe_id</th>\n",
       "      <th>universe_training_year</th>\n",
       "      <th>universe_training_size</th>\n",
       "      <th>universe_scale</th>\n",
       "      <th>universe_model</th>\n",
       "      <th>universe_exclude_features</th>\n",
       "      <th>universe_exclude_subgroups</th>\n",
       "      <th>q_hat</th>\n",
       "      <th>coverage</th>\n",
       "      <th>avg_size</th>\n",
       "    </tr>\n",
       "  </thead>\n",
       "  <tbody>\n",
       "    <tr>\n",
       "      <th>0</th>\n",
       "      <td>43e43c44d4cfa077c200531c2823d6ae</td>\n",
       "      <td>2010_14</td>\n",
       "      <td>5k</td>\n",
       "      <td>scale</td>\n",
       "      <td>elasticnet</td>\n",
       "      <td>sex</td>\n",
       "      <td>keep-all</td>\n",
       "      <td>0.677345</td>\n",
       "      <td>0.910958</td>\n",
       "      <td>1.144577</td>\n",
       "    </tr>\n",
       "  </tbody>\n",
       "</table>\n",
       "</div>"
      ],
      "text/plain": [
       "                        universe_id universe_training_year  \\\n",
       "0  43e43c44d4cfa077c200531c2823d6ae                2010_14   \n",
       "\n",
       "  universe_training_size universe_scale universe_model  \\\n",
       "0                     5k          scale     elasticnet   \n",
       "\n",
       "  universe_exclude_features universe_exclude_subgroups     q_hat  coverage  \\\n",
       "0                       sex                   keep-all  0.677345  0.910958   \n",
       "\n",
       "   avg_size  \n",
       "0  1.144577  "
      ]
     },
     "execution_count": 50,
     "metadata": {},
     "output_type": "execute_result"
    }
   ],
   "source": [
    "cp_metrics_df"
   ]
  },
  {
   "cell_type": "code",
   "execution_count": 51,
   "id": "b7fbde55-a0a1-47e4-9af6-fe4a17fa8c61",
   "metadata": {
    "execution": {
     "iopub.execute_input": "2025-08-05T15:54:06.952670Z",
     "iopub.status.busy": "2025-08-05T15:54:06.952186Z",
     "iopub.status.idle": "2025-08-05T15:54:06.957522Z",
     "shell.execute_reply": "2025-08-05T15:54:06.956389Z"
    },
    "papermill": {
     "duration": 0.031108,
     "end_time": "2025-08-05T15:54:06.959607",
     "exception": false,
     "start_time": "2025-08-05T15:54:06.928499",
     "status": "completed"
    },
    "tags": []
   },
   "outputs": [],
   "source": [
    "# Conditional Coverage & looking at subgroups"
   ]
  },
  {
   "cell_type": "code",
   "execution_count": 52,
   "id": "027ae886-68dd-4141-96c7-805a5450e1ef",
   "metadata": {
    "execution": {
     "iopub.execute_input": "2025-08-05T15:54:07.007229Z",
     "iopub.status.busy": "2025-08-05T15:54:07.006574Z",
     "iopub.status.idle": "2025-08-05T15:54:07.260425Z",
     "shell.execute_reply": "2025-08-05T15:54:07.259397Z"
    },
    "papermill": {
     "duration": 0.279704,
     "end_time": "2025-08-05T15:54:07.262549",
     "exception": false,
     "start_time": "2025-08-05T15:54:06.982845",
     "status": "completed"
    },
    "tags": []
   },
   "outputs": [],
   "source": [
    "from fairness_multiverse.conformal import build_cp_groups\n",
    "\n",
    "cp_groups_df = build_cp_groups(pred_sets, y_true, X_test.index, org_test)\n",
    "#needs universe_id and setting"
   ]
  },
  {
   "cell_type": "code",
   "execution_count": 53,
   "id": "6cbdab96-b2b2-45af-ad54-d0516db2e28d",
   "metadata": {
    "execution": {
     "iopub.execute_input": "2025-08-05T15:54:07.312542Z",
     "iopub.status.busy": "2025-08-05T15:54:07.311856Z",
     "iopub.status.idle": "2025-08-05T15:54:09.220201Z",
     "shell.execute_reply": "2025-08-05T15:54:09.219037Z"
    },
    "papermill": {
     "duration": 1.936506,
     "end_time": "2025-08-05T15:54:09.222143",
     "exception": false,
     "start_time": "2025-08-05T15:54:07.285637",
     "status": "completed"
    },
    "tags": []
   },
   "outputs": [],
   "source": [
    "# Define covered = 1 if true_label is in the predicted set\n",
    "cp_groups_df['covered'] = cp_groups_df.apply(\n",
    "    lambda r: int(r['true_label'] in r['pred_set']),\n",
    "    axis=1\n",
    ")"
   ]
  },
  {
   "cell_type": "code",
   "execution_count": 54,
   "id": "338ff529-1a6b-4b87-a931-8e4788d52aad",
   "metadata": {
    "execution": {
     "iopub.execute_input": "2025-08-05T15:54:09.277572Z",
     "iopub.status.busy": "2025-08-05T15:54:09.276677Z",
     "iopub.status.idle": "2025-08-05T15:54:09.283388Z",
     "shell.execute_reply": "2025-08-05T15:54:09.282220Z"
    },
    "papermill": {
     "duration": 0.035274,
     "end_time": "2025-08-05T15:54:09.285397",
     "exception": false,
     "start_time": "2025-08-05T15:54:09.250123",
     "status": "completed"
    },
    "tags": []
   },
   "outputs": [],
   "source": [
    "#cp_groups_df"
   ]
  },
  {
   "cell_type": "code",
   "execution_count": 55,
   "id": "90032e27-66df-4540-9169-4e89cfbaa758",
   "metadata": {
    "execution": {
     "iopub.execute_input": "2025-08-05T15:54:09.335697Z",
     "iopub.status.busy": "2025-08-05T15:54:09.335091Z",
     "iopub.status.idle": "2025-08-05T15:54:09.351734Z",
     "shell.execute_reply": "2025-08-05T15:54:09.350786Z"
    },
    "papermill": {
     "duration": 0.043271,
     "end_time": "2025-08-05T15:54:09.353398",
     "exception": false,
     "start_time": "2025-08-05T15:54:09.310127",
     "status": "completed"
    },
    "tags": []
   },
   "outputs": [],
   "source": [
    "subgroups = ['frau1','nongerman','nongerman_male','nongerman_female']\n",
    "\n",
    "# Conditional coverage for subgroup==1\n",
    "cond_coverage = {\n",
    "    g: cp_groups_df.loc[cp_groups_df[g]==1, 'covered'].mean()\n",
    "    for g in subgroups\n",
    "}"
   ]
  },
  {
   "cell_type": "code",
   "execution_count": 56,
   "id": "1e348fb1-b9c3-45bc-ba23-f016827a7e0d",
   "metadata": {
    "execution": {
     "iopub.execute_input": "2025-08-05T15:54:09.401987Z",
     "iopub.status.busy": "2025-08-05T15:54:09.401463Z",
     "iopub.status.idle": "2025-08-05T15:54:09.408522Z",
     "shell.execute_reply": "2025-08-05T15:54:09.407491Z"
    },
    "papermill": {
     "duration": 0.032512,
     "end_time": "2025-08-05T15:54:09.410314",
     "exception": false,
     "start_time": "2025-08-05T15:54:09.377802",
     "status": "completed"
    },
    "tags": []
   },
   "outputs": [
    {
     "data": {
      "text/plain": [
       "{'frau1': 0.9096913330637553,\n",
       " 'nongerman': 0.9109639027676416,\n",
       " 'nongerman_male': 0.9262361523912456,\n",
       " 'nongerman_female': 0.8856929955290611}"
      ]
     },
     "execution_count": 56,
     "metadata": {},
     "output_type": "execute_result"
    }
   ],
   "source": [
    "cond_coverage"
   ]
  },
  {
   "cell_type": "code",
   "execution_count": 57,
   "id": "f5093324-c3dd-4d63-bc4c-8d945e5c8bbb",
   "metadata": {
    "execution": {
     "iopub.execute_input": "2025-08-05T15:54:09.460168Z",
     "iopub.status.busy": "2025-08-05T15:54:09.459447Z",
     "iopub.status.idle": "2025-08-05T15:54:09.469941Z",
     "shell.execute_reply": "2025-08-05T15:54:09.468914Z"
    },
    "papermill": {
     "duration": 0.038065,
     "end_time": "2025-08-05T15:54:09.471969",
     "exception": false,
     "start_time": "2025-08-05T15:54:09.433904",
     "status": "completed"
    },
    "tags": []
   },
   "outputs": [],
   "source": [
    "for subgroup, cov in cond_coverage.items():\n",
    "    cp_metrics_df[f\"cov_{subgroup}\"] = cov"
   ]
  },
  {
   "cell_type": "code",
   "execution_count": 58,
   "id": "6e872e10-dbe5-49e8-b554-5030c98ff75d",
   "metadata": {
    "execution": {
     "iopub.execute_input": "2025-08-05T15:54:09.526821Z",
     "iopub.status.busy": "2025-08-05T15:54:09.526102Z",
     "iopub.status.idle": "2025-08-05T15:54:09.547479Z",
     "shell.execute_reply": "2025-08-05T15:54:09.546549Z"
    },
    "papermill": {
     "duration": 0.051725,
     "end_time": "2025-08-05T15:54:09.549216",
     "exception": false,
     "start_time": "2025-08-05T15:54:09.497491",
     "status": "completed"
    },
    "tags": []
   },
   "outputs": [
    {
     "data": {
      "text/html": [
       "<div>\n",
       "<style scoped>\n",
       "    .dataframe tbody tr th:only-of-type {\n",
       "        vertical-align: middle;\n",
       "    }\n",
       "\n",
       "    .dataframe tbody tr th {\n",
       "        vertical-align: top;\n",
       "    }\n",
       "\n",
       "    .dataframe thead th {\n",
       "        text-align: right;\n",
       "    }\n",
       "</style>\n",
       "<table border=\"1\" class=\"dataframe\">\n",
       "  <thead>\n",
       "    <tr style=\"text-align: right;\">\n",
       "      <th></th>\n",
       "      <th>universe_id</th>\n",
       "      <th>universe_training_year</th>\n",
       "      <th>universe_training_size</th>\n",
       "      <th>universe_scale</th>\n",
       "      <th>universe_model</th>\n",
       "      <th>universe_exclude_features</th>\n",
       "      <th>universe_exclude_subgroups</th>\n",
       "      <th>q_hat</th>\n",
       "      <th>coverage</th>\n",
       "      <th>avg_size</th>\n",
       "      <th>cov_frau1</th>\n",
       "      <th>cov_nongerman</th>\n",
       "      <th>cov_nongerman_male</th>\n",
       "      <th>cov_nongerman_female</th>\n",
       "    </tr>\n",
       "  </thead>\n",
       "  <tbody>\n",
       "    <tr>\n",
       "      <th>0</th>\n",
       "      <td>43e43c44d4cfa077c200531c2823d6ae</td>\n",
       "      <td>2010_14</td>\n",
       "      <td>5k</td>\n",
       "      <td>scale</td>\n",
       "      <td>elasticnet</td>\n",
       "      <td>sex</td>\n",
       "      <td>keep-all</td>\n",
       "      <td>0.677345</td>\n",
       "      <td>0.910958</td>\n",
       "      <td>1.144577</td>\n",
       "      <td>0.909691</td>\n",
       "      <td>0.910964</td>\n",
       "      <td>0.926236</td>\n",
       "      <td>0.885693</td>\n",
       "    </tr>\n",
       "  </tbody>\n",
       "</table>\n",
       "</div>"
      ],
      "text/plain": [
       "                        universe_id universe_training_year  \\\n",
       "0  43e43c44d4cfa077c200531c2823d6ae                2010_14   \n",
       "\n",
       "  universe_training_size universe_scale universe_model  \\\n",
       "0                     5k          scale     elasticnet   \n",
       "\n",
       "  universe_exclude_features universe_exclude_subgroups     q_hat  coverage  \\\n",
       "0                       sex                   keep-all  0.677345  0.910958   \n",
       "\n",
       "   avg_size  cov_frau1  cov_nongerman  cov_nongerman_male  \\\n",
       "0  1.144577   0.909691       0.910964            0.926236   \n",
       "\n",
       "   cov_nongerman_female  \n",
       "0              0.885693  "
      ]
     },
     "execution_count": 58,
     "metadata": {},
     "output_type": "execute_result"
    }
   ],
   "source": [
    "cp_metrics_df"
   ]
  },
  {
   "cell_type": "markdown",
   "id": "33774451",
   "metadata": {
    "papermill": {
     "duration": 0.022369,
     "end_time": "2025-08-05T15:54:09.594083",
     "exception": false,
     "start_time": "2025-08-05T15:54:09.571714",
     "status": "completed"
    },
    "tags": []
   },
   "source": [
    "# (Fairness) Metrics"
   ]
  },
  {
   "cell_type": "code",
   "execution_count": 59,
   "id": "debc5d62",
   "metadata": {
    "execution": {
     "iopub.execute_input": "2025-08-05T15:54:09.640426Z",
     "iopub.status.busy": "2025-08-05T15:54:09.639728Z",
     "iopub.status.idle": "2025-08-05T15:54:09.662565Z",
     "shell.execute_reply": "2025-08-05T15:54:09.661599Z"
    },
    "papermill": {
     "duration": 0.047509,
     "end_time": "2025-08-05T15:54:09.664209",
     "exception": false,
     "start_time": "2025-08-05T15:54:09.616700",
     "status": "completed"
    },
    "tags": []
   },
   "outputs": [],
   "source": [
    "# do I need to include maxdeutsch1.missing?\n",
    "\n",
    "import numpy as np\n",
    "\n",
    "colname_to_bin = \"maxdeutsch1\"\n",
    "majority_value = org_train[colname_to_bin].mode()[0]\n",
    "\n",
    "org_test[\"majmin\"] = np.where(org_test[colname_to_bin] == majority_value, \"majority\", \"minority\")"
   ]
  },
  {
   "cell_type": "code",
   "execution_count": 60,
   "id": "06a50de5",
   "metadata": {
    "execution": {
     "iopub.execute_input": "2025-08-05T15:54:09.710365Z",
     "iopub.status.busy": "2025-08-05T15:54:09.709489Z",
     "iopub.status.idle": "2025-08-05T15:54:11.452182Z",
     "shell.execute_reply": "2025-08-05T15:54:11.451430Z"
    },
    "papermill": {
     "duration": 1.767,
     "end_time": "2025-08-05T15:54:11.453673",
     "exception": false,
     "start_time": "2025-08-05T15:54:09.686673",
     "status": "completed"
    },
    "tags": []
   },
   "outputs": [],
   "source": [
    "example_universe = universe.copy()\n",
    "example_universe[\"cutoff\"] = example_universe[\"cutoff\"][0]\n",
    "example_universe[\"eval_fairness_grouping\"] = example_universe[\"eval_fairness_grouping\"][0]\n",
    "fairness_dict, metric_frame = universe_analysis.compute_metrics(\n",
    "    example_universe,\n",
    "    y_pred_prob=probs_test,\n",
    "    y_test=y_true,\n",
    "    org_test=org_test,\n",
    ")"
   ]
  },
  {
   "cell_type": "markdown",
   "id": "f95d4e02",
   "metadata": {
    "papermill": {
     "duration": 0.013455,
     "end_time": "2025-08-05T15:54:11.483290",
     "exception": false,
     "start_time": "2025-08-05T15:54:11.469835",
     "status": "completed"
    },
    "tags": []
   },
   "source": [
    "# Overall"
   ]
  },
  {
   "cell_type": "markdown",
   "id": "bdee4871",
   "metadata": {
    "papermill": {
     "duration": 0.019044,
     "end_time": "2025-08-05T15:54:11.515735",
     "exception": false,
     "start_time": "2025-08-05T15:54:11.496691",
     "status": "completed"
    },
    "tags": []
   },
   "source": [
    "Fairness\n",
    "Main fairness target: Equalized Odds. Seems to be a better fit than equal opportunity, since we're not only interested in Y = 1. Seems to be a better fit than demographic parity, since we also care about accuracy, not just equal distribution of preds.\n",
    "\n",
    "Pick column for computation of fairness metrics\n",
    "\n",
    "Performance\n",
    "Overall performance measures, most interesting in relation to the measures split by group below"
   ]
  },
  {
   "cell_type": "code",
   "execution_count": 61,
   "id": "c4e067c6",
   "metadata": {
    "execution": {
     "iopub.execute_input": "2025-08-05T15:54:11.541073Z",
     "iopub.status.busy": "2025-08-05T15:54:11.540719Z",
     "iopub.status.idle": "2025-08-05T15:54:11.547908Z",
     "shell.execute_reply": "2025-08-05T15:54:11.547120Z"
    },
    "papermill": {
     "duration": 0.021386,
     "end_time": "2025-08-05T15:54:11.549372",
     "exception": false,
     "start_time": "2025-08-05T15:54:11.527986",
     "status": "completed"
    },
    "tags": []
   },
   "outputs": [
    {
     "data": {
      "text/plain": [
       "accuracy                   0.223643\n",
       "balanced accuracy          0.546991\n",
       "f1                         0.244994\n",
       "precision                  0.139957\n",
       "false positive rate        0.887944\n",
       "false negative rate        0.018074\n",
       "selection rate             0.900000\n",
       "count                  89710.000000\n",
       "dtype: float64"
      ]
     },
     "execution_count": 61,
     "metadata": {},
     "output_type": "execute_result"
    }
   ],
   "source": [
    "metric_frame.overall"
   ]
  },
  {
   "cell_type": "markdown",
   "id": "e968fe9d",
   "metadata": {
    "papermill": {
     "duration": 0.029667,
     "end_time": "2025-08-05T15:54:11.603300",
     "exception": false,
     "start_time": "2025-08-05T15:54:11.573633",
     "status": "completed"
    },
    "tags": []
   },
   "source": [
    "By Group"
   ]
  },
  {
   "cell_type": "code",
   "execution_count": 62,
   "id": "ec325bce",
   "metadata": {
    "execution": {
     "iopub.execute_input": "2025-08-05T15:54:11.652460Z",
     "iopub.status.busy": "2025-08-05T15:54:11.652020Z",
     "iopub.status.idle": "2025-08-05T15:54:11.669619Z",
     "shell.execute_reply": "2025-08-05T15:54:11.668566Z"
    },
    "papermill": {
     "duration": 0.044792,
     "end_time": "2025-08-05T15:54:11.671883",
     "exception": false,
     "start_time": "2025-08-05T15:54:11.627091",
     "status": "completed"
    },
    "tags": []
   },
   "outputs": [
    {
     "data": {
      "text/html": [
       "<div>\n",
       "<style scoped>\n",
       "    .dataframe tbody tr th:only-of-type {\n",
       "        vertical-align: middle;\n",
       "    }\n",
       "\n",
       "    .dataframe tbody tr th {\n",
       "        vertical-align: top;\n",
       "    }\n",
       "\n",
       "    .dataframe thead th {\n",
       "        text-align: right;\n",
       "    }\n",
       "</style>\n",
       "<table border=\"1\" class=\"dataframe\">\n",
       "  <thead>\n",
       "    <tr style=\"text-align: right;\">\n",
       "      <th></th>\n",
       "      <th>accuracy</th>\n",
       "      <th>balanced accuracy</th>\n",
       "      <th>f1</th>\n",
       "      <th>precision</th>\n",
       "      <th>false positive rate</th>\n",
       "      <th>false negative rate</th>\n",
       "      <th>selection rate</th>\n",
       "      <th>count</th>\n",
       "    </tr>\n",
       "    <tr>\n",
       "      <th>majmin</th>\n",
       "      <th></th>\n",
       "      <th></th>\n",
       "      <th></th>\n",
       "      <th></th>\n",
       "      <th></th>\n",
       "      <th></th>\n",
       "      <th></th>\n",
       "      <th></th>\n",
       "    </tr>\n",
       "  </thead>\n",
       "  <tbody>\n",
       "    <tr>\n",
       "      <th>majority</th>\n",
       "      <td>0.244528</td>\n",
       "      <td>0.556635</td>\n",
       "      <td>0.255464</td>\n",
       "      <td>0.146856</td>\n",
       "      <td>0.867583</td>\n",
       "      <td>0.019147</td>\n",
       "      <td>0.882550</td>\n",
       "      <td>69170.0</td>\n",
       "    </tr>\n",
       "    <tr>\n",
       "      <th>minority</th>\n",
       "      <td>0.153311</td>\n",
       "      <td>0.515429</td>\n",
       "      <td>0.211686</td>\n",
       "      <td>0.118570</td>\n",
       "      <td>0.955206</td>\n",
       "      <td>0.013936</td>\n",
       "      <td>0.958763</td>\n",
       "      <td>20540.0</td>\n",
       "    </tr>\n",
       "  </tbody>\n",
       "</table>\n",
       "</div>"
      ],
      "text/plain": [
       "          accuracy  balanced accuracy        f1  precision  \\\n",
       "majmin                                                       \n",
       "majority  0.244528           0.556635  0.255464   0.146856   \n",
       "minority  0.153311           0.515429  0.211686   0.118570   \n",
       "\n",
       "          false positive rate  false negative rate  selection rate    count  \n",
       "majmin                                                                       \n",
       "majority             0.867583             0.019147        0.882550  69170.0  \n",
       "minority             0.955206             0.013936        0.958763  20540.0  "
      ]
     },
     "execution_count": 62,
     "metadata": {},
     "output_type": "execute_result"
    }
   ],
   "source": [
    "metric_frame.by_group"
   ]
  },
  {
   "cell_type": "code",
   "execution_count": 63,
   "id": "a9ddbe63",
   "metadata": {
    "execution": {
     "iopub.execute_input": "2025-08-05T15:54:11.718122Z",
     "iopub.status.busy": "2025-08-05T15:54:11.717509Z",
     "iopub.status.idle": "2025-08-05T15:54:13.653289Z",
     "shell.execute_reply": "2025-08-05T15:54:13.652579Z"
    },
    "papermill": {
     "duration": 1.952849,
     "end_time": "2025-08-05T15:54:13.655010",
     "exception": false,
     "start_time": "2025-08-05T15:54:11.702161",
     "status": "completed"
    },
    "tags": []
   },
   "outputs": [
    {
     "data": {
      "text/plain": [
       "array([[<Axes: title={'center': 'accuracy'}, xlabel='majmin'>,\n",
       "        <Axes: title={'center': 'balanced accuracy'}, xlabel='majmin'>,\n",
       "        <Axes: title={'center': 'f1'}, xlabel='majmin'>],\n",
       "       [<Axes: title={'center': 'precision'}, xlabel='majmin'>,\n",
       "        <Axes: title={'center': 'false positive rate'}, xlabel='majmin'>,\n",
       "        <Axes: title={'center': 'false negative rate'}, xlabel='majmin'>],\n",
       "       [<Axes: title={'center': 'selection rate'}, xlabel='majmin'>,\n",
       "        <Axes: title={'center': 'count'}, xlabel='majmin'>,\n",
       "        <Axes: xlabel='majmin'>]], dtype=object)"
      ]
     },
     "execution_count": 63,
     "metadata": {},
     "output_type": "execute_result"
    },
    {
     "data": {
      "image/png": "[encoded data removed]",
      "text/plain": [
       "<Figure size 1200x800 with 9 Axes>"
      ]
     },
     "metadata": {},
     "output_type": "display_data"
    }
   ],
   "source": [
    "# In a graphic\n",
    "metric_frame.by_group.plot.bar(\n",
    "    subplots=True,\n",
    "    layout=[3, 3],\n",
    "    legend=False,\n",
    "    figsize=[12, 8],\n",
    "    title=\"Show all metrics\",\n",
    ")"
   ]
  },
  {
   "cell_type": "markdown",
   "id": "f57a0bac",
   "metadata": {
    "papermill": {
     "duration": 0.012799,
     "end_time": "2025-08-05T15:54:13.693623",
     "exception": false,
     "start_time": "2025-08-05T15:54:13.680824",
     "status": "completed"
    },
    "tags": []
   },
   "source": [
    "# Final Output"
   ]
  },
  {
   "cell_type": "code",
   "execution_count": 64,
   "id": "96d280a3",
   "metadata": {
    "execution": {
     "iopub.execute_input": "2025-08-05T15:54:13.721643Z",
     "iopub.status.busy": "2025-08-05T15:54:13.721177Z",
     "iopub.status.idle": "2025-08-05T15:54:13.729098Z",
     "shell.execute_reply": "2025-08-05T15:54:13.728151Z"
    },
    "papermill": {
     "duration": 0.023441,
     "end_time": "2025-08-05T15:54:13.730471",
     "exception": false,
     "start_time": "2025-08-05T15:54:13.707030",
     "status": "completed"
    },
    "tags": []
   },
   "outputs": [
    {
     "data": {
      "text/plain": [
       "4"
      ]
     },
     "execution_count": 64,
     "metadata": {},
     "output_type": "execute_result"
    }
   ],
   "source": [
    "sub_universes = universe_analysis.generate_sub_universes()\n",
    "len(sub_universes)"
   ]
  },
  {
   "cell_type": "code",
   "execution_count": 65,
   "id": "92adf7ba",
   "metadata": {
    "execution": {
     "iopub.execute_input": "2025-08-05T15:54:13.758326Z",
     "iopub.status.busy": "2025-08-05T15:54:13.757863Z",
     "iopub.status.idle": "2025-08-05T15:54:13.766482Z",
     "shell.execute_reply": "2025-08-05T15:54:13.765384Z"
    },
    "papermill": {
     "duration": 0.024358,
     "end_time": "2025-08-05T15:54:13.768292",
     "exception": false,
     "start_time": "2025-08-05T15:54:13.743934",
     "status": "completed"
    },
    "tags": []
   },
   "outputs": [],
   "source": [
    "def filter_sub_universe_data(sub_universe, org_test):\n",
    "    # Keep all rows — no filtering\n",
    "    keep_rows_mask = np.ones(org_test.shape[0], dtype=bool)\n",
    "\n",
    "    print(f\"[INFO] Keeping all rows: {keep_rows_mask.sum()} rows retained.\")\n",
    "    return keep_rows_mask"
   ]
  },
  {
   "cell_type": "code",
   "execution_count": 66,
   "id": "4a759155",
   "metadata": {
    "execution": {
     "iopub.execute_input": "2025-08-05T15:54:13.822441Z",
     "iopub.status.busy": "2025-08-05T15:54:13.821974Z",
     "iopub.status.idle": "2025-08-05T15:54:23.784025Z",
     "shell.execute_reply": "2025-08-05T15:54:23.783078Z"
    },
    "papermill": {
     "duration": 9.990132,
     "end_time": "2025-08-05T15:54:23.785563",
     "exception": false,
     "start_time": "2025-08-05T15:54:13.795431",
     "status": "completed"
    },
    "tags": []
   },
   "outputs": [
    {
     "name": "stdout",
     "output_type": "stream",
     "text": [
      "Stopping execution_time clock.\n",
      "[INFO] Keeping all rows: 89710 rows retained.\n"
     ]
    },
    {
     "name": "stdout",
     "output_type": "stream",
     "text": [
      "[INFO] Keeping all rows: 89710 rows retained.\n"
     ]
    },
    {
     "name": "stdout",
     "output_type": "stream",
     "text": [
      "[INFO] Keeping all rows: 89710 rows retained.\n"
     ]
    },
    {
     "name": "stdout",
     "output_type": "stream",
     "text": [
      "[INFO] Keeping all rows: 89710 rows retained.\n"
     ]
    },
    {
     "data": {
      "text/html": [
       "<div>\n",
       "<style scoped>\n",
       "    .dataframe tbody tr th:only-of-type {\n",
       "        vertical-align: middle;\n",
       "    }\n",
       "\n",
       "    .dataframe tbody tr th {\n",
       "        vertical-align: top;\n",
       "    }\n",
       "\n",
       "    .dataframe thead th {\n",
       "        text-align: right;\n",
       "    }\n",
       "</style>\n",
       "<table border=\"1\" class=\"dataframe\">\n",
       "  <thead>\n",
       "    <tr style=\"text-align: right;\">\n",
       "      <th></th>\n",
       "      <th>run_no</th>\n",
       "      <th>universe_id</th>\n",
       "      <th>universe_settings</th>\n",
       "      <th>execution_time</th>\n",
       "      <th>test_size_n</th>\n",
       "      <th>test_size_frac</th>\n",
       "      <th>fair_main_equalized_odds_difference</th>\n",
       "      <th>fair_main_equalized_odds_ratio</th>\n",
       "      <th>fair_main_demographic_parity_difference</th>\n",
       "      <th>fair_main_demographic_parity_ratio</th>\n",
       "      <th>...</th>\n",
       "      <th>perf_grp_precision_0</th>\n",
       "      <th>perf_grp_precision_1</th>\n",
       "      <th>perf_grp_false positive rate_0</th>\n",
       "      <th>perf_grp_false positive rate_1</th>\n",
       "      <th>perf_grp_false negative rate_0</th>\n",
       "      <th>perf_grp_false negative rate_1</th>\n",
       "      <th>perf_grp_selection rate_0</th>\n",
       "      <th>perf_grp_selection rate_1</th>\n",
       "      <th>perf_grp_count_0</th>\n",
       "      <th>perf_grp_count_1</th>\n",
       "    </tr>\n",
       "  </thead>\n",
       "  <tbody>\n",
       "    <tr>\n",
       "      <th>0</th>\n",
       "      <td>15</td>\n",
       "      <td>43e43c44d4cfa077c200531c2823d6ae</td>\n",
       "      <td>{\"cutoff\": \"quantile_0.1\", \"eval_fairness_grou...</td>\n",
       "      <td>28.588535</td>\n",
       "      <td>89710</td>\n",
       "      <td>1.0</td>\n",
       "      <td>0.087623</td>\n",
       "      <td>0.908268</td>\n",
       "      <td>0.076213</td>\n",
       "      <td>0.920509</td>\n",
       "      <td>...</td>\n",
       "      <td>NaN</td>\n",
       "      <td>NaN</td>\n",
       "      <td>NaN</td>\n",
       "      <td>NaN</td>\n",
       "      <td>NaN</td>\n",
       "      <td>NaN</td>\n",
       "      <td>NaN</td>\n",
       "      <td>NaN</td>\n",
       "      <td>NaN</td>\n",
       "      <td>NaN</td>\n",
       "    </tr>\n",
       "    <tr>\n",
       "      <th>0</th>\n",
       "      <td>15</td>\n",
       "      <td>43e43c44d4cfa077c200531c2823d6ae</td>\n",
       "      <td>{\"cutoff\": \"quantile_0.1\", \"eval_fairness_grou...</td>\n",
       "      <td>28.588535</td>\n",
       "      <td>89710</td>\n",
       "      <td>1.0</td>\n",
       "      <td>0.087623</td>\n",
       "      <td>0.908268</td>\n",
       "      <td>0.076213</td>\n",
       "      <td>0.920509</td>\n",
       "      <td>...</td>\n",
       "      <td>0.118570</td>\n",
       "      <td>0.146856</td>\n",
       "      <td>0.955206</td>\n",
       "      <td>0.867583</td>\n",
       "      <td>0.013936</td>\n",
       "      <td>0.019147</td>\n",
       "      <td>0.958763</td>\n",
       "      <td>0.882550</td>\n",
       "      <td>20540.0</td>\n",
       "      <td>69170.0</td>\n",
       "    </tr>\n",
       "    <tr>\n",
       "      <th>0</th>\n",
       "      <td>15</td>\n",
       "      <td>43e43c44d4cfa077c200531c2823d6ae</td>\n",
       "      <td>{\"cutoff\": \"quantile_0.25\", \"eval_fairness_gro...</td>\n",
       "      <td>28.588535</td>\n",
       "      <td>89710</td>\n",
       "      <td>1.0</td>\n",
       "      <td>0.135229</td>\n",
       "      <td>0.836436</td>\n",
       "      <td>0.116505</td>\n",
       "      <td>0.861274</td>\n",
       "      <td>...</td>\n",
       "      <td>NaN</td>\n",
       "      <td>NaN</td>\n",
       "      <td>NaN</td>\n",
       "      <td>NaN</td>\n",
       "      <td>NaN</td>\n",
       "      <td>NaN</td>\n",
       "      <td>NaN</td>\n",
       "      <td>NaN</td>\n",
       "      <td>NaN</td>\n",
       "      <td>NaN</td>\n",
       "    </tr>\n",
       "    <tr>\n",
       "      <th>0</th>\n",
       "      <td>15</td>\n",
       "      <td>43e43c44d4cfa077c200531c2823d6ae</td>\n",
       "      <td>{\"cutoff\": \"quantile_0.25\", \"eval_fairness_gro...</td>\n",
       "      <td>28.588535</td>\n",
       "      <td>89710</td>\n",
       "      <td>1.0</td>\n",
       "      <td>0.135229</td>\n",
       "      <td>0.836436</td>\n",
       "      <td>0.116505</td>\n",
       "      <td>0.861274</td>\n",
       "      <td>...</td>\n",
       "      <td>0.129043</td>\n",
       "      <td>0.170271</td>\n",
       "      <td>0.826766</td>\n",
       "      <td>0.691538</td>\n",
       "      <td>0.059966</td>\n",
       "      <td>0.067943</td>\n",
       "      <td>0.839825</td>\n",
       "      <td>0.723319</td>\n",
       "      <td>20540.0</td>\n",
       "      <td>69170.0</td>\n",
       "    </tr>\n",
       "  </tbody>\n",
       "</table>\n",
       "<p>4 rows × 50 columns</p>\n",
       "</div>"
      ],
      "text/plain": [
       "  run_no                       universe_id  \\\n",
       "0     15  43e43c44d4cfa077c200531c2823d6ae   \n",
       "0     15  43e43c44d4cfa077c200531c2823d6ae   \n",
       "0     15  43e43c44d4cfa077c200531c2823d6ae   \n",
       "0     15  43e43c44d4cfa077c200531c2823d6ae   \n",
       "\n",
       "                                   universe_settings  execution_time  \\\n",
       "0  {\"cutoff\": \"quantile_0.1\", \"eval_fairness_grou...       28.588535   \n",
       "0  {\"cutoff\": \"quantile_0.1\", \"eval_fairness_grou...       28.588535   \n",
       "0  {\"cutoff\": \"quantile_0.25\", \"eval_fairness_gro...       28.588535   \n",
       "0  {\"cutoff\": \"quantile_0.25\", \"eval_fairness_gro...       28.588535   \n",
       "\n",
       "   test_size_n  test_size_frac  fair_main_equalized_odds_difference  \\\n",
       "0        89710             1.0                             0.087623   \n",
       "0        89710             1.0                             0.087623   \n",
       "0        89710             1.0                             0.135229   \n",
       "0        89710             1.0                             0.135229   \n",
       "\n",
       "   fair_main_equalized_odds_ratio  fair_main_demographic_parity_difference  \\\n",
       "0                        0.908268                                 0.076213   \n",
       "0                        0.908268                                 0.076213   \n",
       "0                        0.836436                                 0.116505   \n",
       "0                        0.836436                                 0.116505   \n",
       "\n",
       "   fair_main_demographic_parity_ratio  ...  perf_grp_precision_0  \\\n",
       "0                            0.920509  ...                   NaN   \n",
       "0                            0.920509  ...              0.118570   \n",
       "0                            0.861274  ...                   NaN   \n",
       "0                            0.861274  ...              0.129043   \n",
       "\n",
       "   perf_grp_precision_1  perf_grp_false positive rate_0  \\\n",
       "0                   NaN                             NaN   \n",
       "0              0.146856                        0.955206   \n",
       "0                   NaN                             NaN   \n",
       "0              0.170271                        0.826766   \n",
       "\n",
       "   perf_grp_false positive rate_1  perf_grp_false negative rate_0  \\\n",
       "0                             NaN                             NaN   \n",
       "0                        0.867583                        0.013936   \n",
       "0                             NaN                             NaN   \n",
       "0                        0.691538                        0.059966   \n",
       "\n",
       "   perf_grp_false negative rate_1  perf_grp_selection rate_0  \\\n",
       "0                             NaN                        NaN   \n",
       "0                        0.019147                   0.958763   \n",
       "0                             NaN                        NaN   \n",
       "0                        0.067943                   0.839825   \n",
       "\n",
       "   perf_grp_selection rate_1  perf_grp_count_0  perf_grp_count_1  \n",
       "0                        NaN               NaN               NaN  \n",
       "0                   0.882550           20540.0           69170.0  \n",
       "0                        NaN               NaN               NaN  \n",
       "0                   0.723319           20540.0           69170.0  \n",
       "\n",
       "[4 rows x 50 columns]"
      ]
     },
     "execution_count": 66,
     "metadata": {},
     "output_type": "execute_result"
    }
   ],
   "source": [
    "final_output = universe_analysis.generate_final_output(\n",
    "    y_pred_prob=probs_test,\n",
    "    y_test=y_true,\n",
    "    org_test=org_test,\n",
    "    filter_data=filter_sub_universe_data,\n",
    "    cp_metrics_df=cp_metrics_df,\n",
    "    save=True,\n",
    ")\n",
    "final_output"
   ]
  }
 ],
 "metadata": {
  "celltoolbar": "Tags",
  "kernelspec": {
   "display_name": "Python (CMA Fairness)",
   "language": "python",
   "name": "cma_fair_env"
  },
  "language_info": {
   "codemirror_mode": {
    "name": "ipython",
    "version": 3
   },
   "file_extension": ".py",
   "mimetype": "text/x-python",
   "name": "python",
   "nbconvert_exporter": "python",
   "pygments_lexer": "ipython3",
   "version": "3.10.12"
  },
  "papermill": {
   "default_parameters": {},
   "duration": 42.875116,
   "end_time": "2025-08-05T15:54:24.635129",
   "environment_variables": {},
   "exception": null,
   "input_path": "universe_analysis.ipynb",
   "output_path": "output/runs/15/notebooks/m_15-43e43c44d4cfa077c200531c2823d6ae.ipynb",
   "parameters": {
    "output_dir": "output",
    "run_no": "15",
    "seed": "2023",
    "universe": "{\"cutoff\": [\"quantile_0.1\", \"quantile_0.25\"], \"eval_fairness_grouping\": [\"majority-minority\", \"nationality-all\"], \"exclude_features\": \"sex\", \"exclude_subgroups\": \"keep-all\", \"model\": \"elasticnet\", \"scale\": \"scale\", \"training_size\": \"5k\", \"training_year\": \"2010_14\"}",
    "universe_id": "43e43c44d4cfa077c200531c2823d6ae"
   },
   "start_time": "2025-08-05T15:53:41.760013",
   "version": "2.6.0"
  }
 },
 "nbformat": 4,
 "nbformat_minor": 5
}