{
 "cells": [
  {
   "cell_type": "code",
   "execution_count": 1,
   "id": "f159f837-637b-42ba-96b5-ec9a68c44524",
   "metadata": {
    "execution": {
     "iopub.execute_input": "2025-08-05T15:42:28.335147Z",
     "iopub.status.busy": "2025-08-05T15:42:28.334403Z",
     "iopub.status.idle": "2025-08-05T15:42:28.347832Z",
     "shell.execute_reply": "2025-08-05T15:42:28.346855Z"
    },
    "papermill": {
     "duration": 0.034838,
     "end_time": "2025-08-05T15:42:28.349888",
     "exception": false,
     "start_time": "2025-08-05T15:42:28.315050",
     "status": "completed"
    },
    "tags": []
   },
   "outputs": [
    {
     "name": "stdout",
     "output_type": "stream",
     "text": [
      "/dss/dsshome1/0C/ra93lal2/cma/CMA_Fairness_v2\n"
     ]
    },
    {
     "name": "stderr",
     "output_type": "stream",
     "text": [
      "/dss/dsshome1/0C/ra93lal2/.local/share/virtualenvs/CMA_Fairness_v2-3j10GkSs/lib/python3.10/site-packages/IPython/core/magics/osm.py:393: UserWarning: This is now an optional IPython functionality, using bookmarks requires you to install the `pickleshare` library.\n",
      "  bkms = self.shell.db.get('bookmarks', {})\n",
      "/dss/dsshome1/0C/ra93lal2/.local/share/virtualenvs/CMA_Fairness_v2-3j10GkSs/lib/python3.10/site-packages/IPython/core/magics/osm.py:417: UserWarning: This is now an optional IPython functionality, setting dhist requires you to install the `pickleshare` library.\n",
      "  self.shell.db['dhist'] = compress_dhist(dhist)[-100:]\n"
     ]
    }
   ],
   "source": [
    "%cd ~/cma/CMA_Fairness_v2"
   ]
  },
  {
   "cell_type": "markdown",
   "id": "de2603b9",
   "metadata": {
    "papermill": {
     "duration": 0.01713,
     "end_time": "2025-08-05T15:42:28.386003",
     "exception": false,
     "start_time": "2025-08-05T15:42:28.368873",
     "status": "completed"
    },
    "tags": []
   },
   "source": [
    "The following cell holds the definition of our parameters, these values can be overriden by rendering the with e.g. the following command:\n",
    "\n",
    "papermill -p alpha 0.2 -p ratio 0.3 universe_analysis.ipynb output/test_run.ipynb"
   ]
  },
  {
   "cell_type": "code",
   "execution_count": 2,
   "id": "a80968a0-40bb-4fa9-85ef-2d5eefb01975",
   "metadata": {
    "execution": {
     "iopub.execute_input": "2025-08-05T15:42:28.423806Z",
     "iopub.status.busy": "2025-08-05T15:42:28.423150Z",
     "iopub.status.idle": "2025-08-05T15:42:28.429014Z",
     "shell.execute_reply": "2025-08-05T15:42:28.427997Z"
    },
    "papermill": {
     "duration": 0.027145,
     "end_time": "2025-08-05T15:42:28.431010",
     "exception": false,
     "start_time": "2025-08-05T15:42:28.403865",
     "status": "completed"
    },
    "tags": []
   },
   "outputs": [
    {
     "name": "stdout",
     "output_type": "stream",
     "text": [
      "Current working directory: /dss/dsshome1/0C/ra93lal2/cma/CMA_Fairness_v2\n"
     ]
    }
   ],
   "source": [
    "import os\n",
    "print(\"Current working directory:\", os.getcwd())"
   ]
  },
  {
   "cell_type": "code",
   "execution_count": 3,
   "id": "2dce4c03",
   "metadata": {
    "execution": {
     "iopub.execute_input": "2025-08-05T15:42:28.469198Z",
     "iopub.status.busy": "2025-08-05T15:42:28.468628Z",
     "iopub.status.idle": "2025-08-05T15:42:28.474982Z",
     "shell.execute_reply": "2025-08-05T15:42:28.473911Z"
    },
    "papermill": {
     "duration": 0.026296,
     "end_time": "2025-08-05T15:42:28.476942",
     "exception": false,
     "start_time": "2025-08-05T15:42:28.450646",
     "status": "completed"
    },
    "tags": [
     "parameters"
    ]
   },
   "outputs": [],
   "source": [
    "run_no = 0\n",
    "universe_id = \"test\"\n",
    "universe = {\n",
    "    \"training_size\": \"25k\", # \"25k\", \"5k\", \"1k\"\n",
    "    \"training_year\": \"2014\", # \"2014\", \"2012_14\", \"2010_14\"\n",
    "    \"scale\": \"scale\", # \"scale\", \"do-not-scale\",\n",
    "    \"model\": \"elasticnet\", # \"logreg\", \"penalized_logreg\", \"rf\", \"gbm\", \"elasticnet\"\n",
    "    \"cutoff\": [\"quantile_0.15\", \"quantile_0.30\"],\n",
    "    \"exclude_features\": \"age\", # \"none\", \"nationality\", \"sex\", \"nationality-sex\", \"age\"\n",
    "    \"exclude_subgroups\": \"keep-all\", # \"keep-all\", \"drop-non-german\"\n",
    "    \"eval_fairness_grouping\": [\"majority-minority\", \"nationality-all\"]\n",
    "}\n",
    "\n",
    "output_dir=\"./output\"\n",
    "seed=0"
   ]
  },
  {
   "cell_type": "code",
   "execution_count": 4,
   "id": "f0cbea61",
   "metadata": {
    "execution": {
     "iopub.execute_input": "2025-08-05T15:42:28.514856Z",
     "iopub.status.busy": "2025-08-05T15:42:28.514174Z",
     "iopub.status.idle": "2025-08-05T15:42:28.520331Z",
     "shell.execute_reply": "2025-08-05T15:42:28.519199Z"
    },
    "papermill": {
     "duration": 0.0268,
     "end_time": "2025-08-05T15:42:28.522104",
     "exception": false,
     "start_time": "2025-08-05T15:42:28.495304",
     "status": "completed"
    },
    "tags": [
     "injected-parameters"
    ]
   },
   "outputs": [],
   "source": [
    "# Parameters\n",
    "universe_id = \"b8fb17d17042052c443f84a3ad1eaf4d\"\n",
    "run_no = \"15\"\n",
    "universe = \"{\\\"cutoff\\\": [\\\"quantile_0.1\\\", \\\"quantile_0.25\\\"], \\\"eval_fairness_grouping\\\": [\\\"majority-minority\\\", \\\"nationality-all\\\"], \\\"exclude_features\\\": \\\"sex\\\", \\\"exclude_subgroups\\\": \\\"drop-non-german\\\", \\\"model\\\": \\\"penalized_logreg\\\", \\\"scale\\\": \\\"do-not-scale\\\", \\\"training_size\\\": \\\"5k\\\", \\\"training_year\\\": \\\"2012_14\\\"}\"\n",
    "output_dir = \"output\"\n",
    "seed = \"2023\"\n"
   ]
  },
  {
   "cell_type": "code",
   "execution_count": 5,
   "id": "1650acaf",
   "metadata": {
    "execution": {
     "iopub.execute_input": "2025-08-05T15:42:28.557397Z",
     "iopub.status.busy": "2025-08-05T15:42:28.557035Z",
     "iopub.status.idle": "2025-08-05T15:42:28.562597Z",
     "shell.execute_reply": "2025-08-05T15:42:28.560900Z"
    },
    "papermill": {
     "duration": 0.025678,
     "end_time": "2025-08-05T15:42:28.565392",
     "exception": false,
     "start_time": "2025-08-05T15:42:28.539714",
     "status": "completed"
    },
    "tags": []
   },
   "outputs": [],
   "source": [
    "import json\n",
    "if isinstance(universe, str):\n",
    "    universe = json.loads(universe)"
   ]
  },
  {
   "cell_type": "code",
   "execution_count": 6,
   "id": "16620c48",
   "metadata": {
    "execution": {
     "iopub.execute_input": "2025-08-05T15:42:28.620942Z",
     "iopub.status.busy": "2025-08-05T15:42:28.620233Z",
     "iopub.status.idle": "2025-08-05T15:42:28.663787Z",
     "shell.execute_reply": "2025-08-05T15:42:28.663075Z"
    },
    "papermill": {
     "duration": 0.073159,
     "end_time": "2025-08-05T15:42:28.665242",
     "exception": false,
     "start_time": "2025-08-05T15:42:28.592083",
     "status": "completed"
    },
    "tags": []
   },
   "outputs": [],
   "source": [
    "# Auto-reload the custom package\n",
    "%load_ext autoreload\n",
    "%autoreload 1\n",
    "%aimport fairness_multiverse"
   ]
  },
  {
   "cell_type": "code",
   "execution_count": 7,
   "id": "01c5c9f3",
   "metadata": {
    "execution": {
     "iopub.execute_input": "2025-08-05T15:42:28.685014Z",
     "iopub.status.busy": "2025-08-05T15:42:28.684394Z",
     "iopub.status.idle": "2025-08-05T15:42:30.651908Z",
     "shell.execute_reply": "2025-08-05T15:42:30.650917Z"
    },
    "papermill": {
     "duration": 1.979062,
     "end_time": "2025-08-05T15:42:30.653990",
     "exception": false,
     "start_time": "2025-08-05T15:42:28.674928",
     "status": "completed"
    },
    "tags": []
   },
   "outputs": [],
   "source": [
    "from fairness_multiverse.universe import UniverseAnalysis\n",
    "\n",
    "universe_analysis = UniverseAnalysis(\n",
    "    run_no = run_no,\n",
    "    universe_id = universe_id,\n",
    "    universe = universe,\n",
    "    output_dir=output_dir,\n",
    ")"
   ]
  },
  {
   "cell_type": "code",
   "execution_count": 8,
   "id": "106241f5",
   "metadata": {
    "execution": {
     "iopub.execute_input": "2025-08-05T15:42:30.692994Z",
     "iopub.status.busy": "2025-08-05T15:42:30.692124Z",
     "iopub.status.idle": "2025-08-05T15:42:30.698633Z",
     "shell.execute_reply": "2025-08-05T15:42:30.697571Z"
    },
    "papermill": {
     "duration": 0.028265,
     "end_time": "2025-08-05T15:42:30.700336",
     "exception": false,
     "start_time": "2025-08-05T15:42:30.672071",
     "status": "completed"
    },
    "tags": []
   },
   "outputs": [
    {
     "name": "stdout",
     "output_type": "stream",
     "text": [
      "Using Seed: 2023\n"
     ]
    }
   ],
   "source": [
    "import numpy as np\n",
    "parsed_seed = int(seed)\n",
    "np.random.seed(parsed_seed)\n",
    "print(f\"Using Seed: {parsed_seed}\")"
   ]
  },
  {
   "cell_type": "markdown",
   "id": "e0ebdc57",
   "metadata": {
    "papermill": {
     "duration": 0.016936,
     "end_time": "2025-08-05T15:42:30.734571",
     "exception": false,
     "start_time": "2025-08-05T15:42:30.717635",
     "status": "completed"
    },
    "tags": []
   },
   "source": [
    "# Loading Data"
   ]
  },
  {
   "cell_type": "code",
   "execution_count": 9,
   "id": "f0496b8a",
   "metadata": {
    "execution": {
     "iopub.execute_input": "2025-08-05T15:42:30.770434Z",
     "iopub.status.busy": "2025-08-05T15:42:30.769945Z",
     "iopub.status.idle": "2025-08-05T15:42:42.013621Z",
     "shell.execute_reply": "2025-08-05T15:42:42.012724Z"
    },
    "papermill": {
     "duration": 11.263266,
     "end_time": "2025-08-05T15:42:42.015144",
     "exception": false,
     "start_time": "2025-08-05T15:42:30.751878",
     "status": "completed"
    },
    "tags": []
   },
   "outputs": [
    {
     "name": "stdout",
     "output_type": "stream",
     "text": [
      "Loading SIAB data from cache: data/siab_cached.csv.gz\n"
     ]
    },
    {
     "name": "stdout",
     "output_type": "stream",
     "text": [
      "(643690, 164)\n"
     ]
    }
   ],
   "source": [
    "from pathlib import Path\n",
    "import pandas as pd\n",
    "\n",
    "# File paths\n",
    "raw_file = Path(\"data/raw/siab.csv\")\n",
    "cache_file = Path(\"data/siab_cached.csv.gz\")\n",
    "\n",
    "# Ensure cache directory exists\n",
    "cache_file.parent.mkdir(parents=True, exist_ok=True)\n",
    "\n",
    "# Load with simple caching\n",
    "if cache_file.exists():\n",
    "    print(f\"Loading SIAB data from cache: {cache_file}\")\n",
    "    siab = pd.read_csv(cache_file, compression='gzip')\n",
    "else:\n",
    "    print(f\"Cache not found. Reading raw SIAB data: {raw_file}\")\n",
    "    siab = pd.read_csv(raw_file)\n",
    "    siab.to_csv(cache_file, index=False, compression='gzip')\n",
    "    print(f\"Cached SIAB data to: {cache_file}\")\n",
    "\n",
    "print(siab.shape)"
   ]
  },
  {
   "cell_type": "code",
   "execution_count": 10,
   "id": "db0ca512-5f53-4dba-abdb-a2888bca41ba",
   "metadata": {
    "execution": {
     "iopub.execute_input": "2025-08-05T15:42:42.049374Z",
     "iopub.status.busy": "2025-08-05T15:42:42.048689Z",
     "iopub.status.idle": "2025-08-05T15:42:42.053396Z",
     "shell.execute_reply": "2025-08-05T15:42:42.052632Z"
    },
    "papermill": {
     "duration": 0.015752,
     "end_time": "2025-08-05T15:42:42.054844",
     "exception": false,
     "start_time": "2025-08-05T15:42:42.039092",
     "status": "completed"
    },
    "tags": []
   },
   "outputs": [],
   "source": [
    "#siab"
   ]
  },
  {
   "cell_type": "markdown",
   "id": "997051c5-15bd-4b69-9786-c3001a3ce484",
   "metadata": {
    "papermill": {
     "duration": 0.009006,
     "end_time": "2025-08-05T15:42:42.073715",
     "exception": false,
     "start_time": "2025-08-05T15:42:42.064709",
     "status": "completed"
    },
    "tags": []
   },
   "source": [
    "# Splitting Data and Setting Training Data Size"
   ]
  },
  {
   "cell_type": "code",
   "execution_count": 11,
   "id": "aea9c6ef-6f46-42c8-85eb-5a62025c1508",
   "metadata": {
    "execution": {
     "iopub.execute_input": "2025-08-05T15:42:42.092268Z",
     "iopub.status.busy": "2025-08-05T15:42:42.091604Z",
     "iopub.status.idle": "2025-08-05T15:42:42.701508Z",
     "shell.execute_reply": "2025-08-05T15:42:42.700781Z"
    },
    "papermill": {
     "duration": 0.620712,
     "end_time": "2025-08-05T15:42:42.703049",
     "exception": false,
     "start_time": "2025-08-05T15:42:42.082337",
     "status": "completed"
    },
    "tags": []
   },
   "outputs": [],
   "source": [
    "from fairness_multiverse.universe import sample_by_year_size\n",
    "\n",
    "siab_train = sample_by_year_size(siab,\n",
    "                               training_year=universe[\"training_year\"],\n",
    "                               training_size=universe[\"training_size\"])"
   ]
  },
  {
   "cell_type": "code",
   "execution_count": 12,
   "id": "8d3afb32-789d-442c-8d5d-9f5aa8dd2eed",
   "metadata": {
    "execution": {
     "iopub.execute_input": "2025-08-05T15:42:42.722296Z",
     "iopub.status.busy": "2025-08-05T15:42:42.721999Z",
     "iopub.status.idle": "2025-08-05T15:42:42.726191Z",
     "shell.execute_reply": "2025-08-05T15:42:42.725136Z"
    },
    "papermill": {
     "duration": 0.015056,
     "end_time": "2025-08-05T15:42:42.727572",
     "exception": false,
     "start_time": "2025-08-05T15:42:42.712516",
     "status": "completed"
    },
    "tags": []
   },
   "outputs": [],
   "source": [
    "#siab_train.shape"
   ]
  },
  {
   "cell_type": "code",
   "execution_count": 13,
   "id": "d582db68-1a4c-47fb-84fc-08518dc1975a",
   "metadata": {
    "execution": {
     "iopub.execute_input": "2025-08-05T15:42:42.747553Z",
     "iopub.status.busy": "2025-08-05T15:42:42.747069Z",
     "iopub.status.idle": "2025-08-05T15:42:42.751134Z",
     "shell.execute_reply": "2025-08-05T15:42:42.750397Z"
    },
    "papermill": {
     "duration": 0.015225,
     "end_time": "2025-08-05T15:42:42.752650",
     "exception": false,
     "start_time": "2025-08-05T15:42:42.737425",
     "status": "completed"
    },
    "tags": []
   },
   "outputs": [],
   "source": [
    "#display(siab_train.groupby(\"year\").size())"
   ]
  },
  {
   "cell_type": "code",
   "execution_count": 14,
   "id": "a561edb4-d032-42cb-8256-22eac1111c64",
   "metadata": {
    "execution": {
     "iopub.execute_input": "2025-08-05T15:42:42.773051Z",
     "iopub.status.busy": "2025-08-05T15:42:42.772320Z",
     "iopub.status.idle": "2025-08-05T15:42:43.014565Z",
     "shell.execute_reply": "2025-08-05T15:42:43.013135Z"
    },
    "papermill": {
     "duration": 0.253363,
     "end_time": "2025-08-05T15:42:43.016124",
     "exception": false,
     "start_time": "2025-08-05T15:42:42.762761",
     "status": "completed"
    },
    "tags": []
   },
   "outputs": [],
   "source": [
    "#siab_train = siab_s[siab_s.year < 2015]\n",
    "siab_calib = siab[siab.year == 2015]\n",
    "siab_test = siab[siab.year == 2016]"
   ]
  },
  {
   "cell_type": "code",
   "execution_count": 15,
   "id": "472de16f-c3db-4916-846b-1f0de9cf1746",
   "metadata": {
    "execution": {
     "iopub.execute_input": "2025-08-05T15:42:43.036866Z",
     "iopub.status.busy": "2025-08-05T15:42:43.036186Z",
     "iopub.status.idle": "2025-08-05T15:42:43.044417Z",
     "shell.execute_reply": "2025-08-05T15:42:43.043684Z"
    },
    "papermill": {
     "duration": 0.019657,
     "end_time": "2025-08-05T15:42:43.046087",
     "exception": false,
     "start_time": "2025-08-05T15:42:43.026430",
     "status": "completed"
    },
    "tags": []
   },
   "outputs": [],
   "source": [
    "X_train = siab_train.iloc[:,4:164]\n",
    "y_train = siab_train.iloc[:, [3]]"
   ]
  },
  {
   "cell_type": "code",
   "execution_count": 16,
   "id": "828c96af-f43a-4ed6-ba47-8ac73a47d56c",
   "metadata": {
    "execution": {
     "iopub.execute_input": "2025-08-05T15:42:43.067493Z",
     "iopub.status.busy": "2025-08-05T15:42:43.066859Z",
     "iopub.status.idle": "2025-08-05T15:42:43.116247Z",
     "shell.execute_reply": "2025-08-05T15:42:43.115366Z"
    },
    "papermill": {
     "duration": 0.061165,
     "end_time": "2025-08-05T15:42:43.118067",
     "exception": false,
     "start_time": "2025-08-05T15:42:43.056902",
     "status": "completed"
    },
    "tags": []
   },
   "outputs": [],
   "source": [
    "X_calib = siab_calib.iloc[:,4:164]\n",
    "y_calib = siab_calib.iloc[:, [3]]"
   ]
  },
  {
   "cell_type": "code",
   "execution_count": 17,
   "id": "c34be9c3-6bd6-476e-acd3-845840e303be",
   "metadata": {
    "execution": {
     "iopub.execute_input": "2025-08-05T15:42:43.139067Z",
     "iopub.status.busy": "2025-08-05T15:42:43.138724Z",
     "iopub.status.idle": "2025-08-05T15:42:43.195330Z",
     "shell.execute_reply": "2025-08-05T15:42:43.194027Z"
    },
    "papermill": {
     "duration": 0.068347,
     "end_time": "2025-08-05T15:42:43.197286",
     "exception": false,
     "start_time": "2025-08-05T15:42:43.128939",
     "status": "completed"
    },
    "tags": []
   },
   "outputs": [],
   "source": [
    "X_test = siab_test.iloc[:,4:164]\n",
    "y_true = siab_test.iloc[:, [3]]"
   ]
  },
  {
   "cell_type": "code",
   "execution_count": 18,
   "id": "e6c733c5",
   "metadata": {
    "execution": {
     "iopub.execute_input": "2025-08-05T15:42:43.238354Z",
     "iopub.status.busy": "2025-08-05T15:42:43.237662Z",
     "iopub.status.idle": "2025-08-05T15:42:43.363988Z",
     "shell.execute_reply": "2025-08-05T15:42:43.362907Z"
    },
    "papermill": {
     "duration": 0.148069,
     "end_time": "2025-08-05T15:42:43.365931",
     "exception": false,
     "start_time": "2025-08-05T15:42:43.217862",
     "status": "completed"
    },
    "tags": []
   },
   "outputs": [],
   "source": [
    "# Auxiliary data needed downstream in the pipeline\n",
    "\n",
    "org_train = X_train.copy()\n",
    "org_test = X_test.copy()\n",
    "org_calib = X_calib.copy()"
   ]
  },
  {
   "cell_type": "markdown",
   "id": "0a4a1b33",
   "metadata": {
    "papermill": {
     "duration": 0.018574,
     "end_time": "2025-08-05T15:42:43.403156",
     "exception": false,
     "start_time": "2025-08-05T15:42:43.384582",
     "status": "completed"
    },
    "tags": []
   },
   "source": [
    "# Preprocessing Data"
   ]
  },
  {
   "cell_type": "code",
   "execution_count": 19,
   "id": "ca879031",
   "metadata": {
    "execution": {
     "iopub.execute_input": "2025-08-05T15:42:43.443791Z",
     "iopub.status.busy": "2025-08-05T15:42:43.443046Z",
     "iopub.status.idle": "2025-08-05T15:42:43.450914Z",
     "shell.execute_reply": "2025-08-05T15:42:43.449500Z"
    },
    "papermill": {
     "duration": 0.031269,
     "end_time": "2025-08-05T15:42:43.453018",
     "exception": false,
     "start_time": "2025-08-05T15:42:43.421749",
     "status": "completed"
    },
    "tags": []
   },
   "outputs": [],
   "source": [
    "# EXCLUDE PROTECTED FEATURES\n",
    "# ----------------------\n",
    "# \"exclude_features\": \"none\", # \"nationality\", \"sex\", \"nationality-sex\"\n",
    "\n",
    "excluded_features = universe[\"exclude_features\"].split(\"-\") # split, e.g.: \"nationality-sex\" -> [\"nationality\", \"sex\"]\n",
    "excluded_features_dictionary = {\n",
    "    \"nationality\": [\"maxdeutsch1\", \"maxdeutsch.Missing.\"],\n",
    "    \"sex\": [\"frau1\"],\n",
    "    \"age\": [\"age\"],\n",
    "}"
   ]
  },
  {
   "cell_type": "code",
   "execution_count": 20,
   "id": "b745ac60",
   "metadata": {
    "execution": {
     "iopub.execute_input": "2025-08-05T15:42:43.489096Z",
     "iopub.status.busy": "2025-08-05T15:42:43.488355Z",
     "iopub.status.idle": "2025-08-05T15:42:43.496320Z",
     "shell.execute_reply": "2025-08-05T15:42:43.494979Z"
    },
    "papermill": {
     "duration": 0.026292,
     "end_time": "2025-08-05T15:42:43.498447",
     "exception": false,
     "start_time": "2025-08-05T15:42:43.472155",
     "status": "completed"
    },
    "tags": []
   },
   "outputs": [],
   "source": [
    "# Code nice names to column names\n",
    "\n",
    "excluded_features_columns = [\n",
    "    excluded_features_dictionary[f] for f in excluded_features if len(f) > 0 and f != \"none\"\n",
    "]"
   ]
  },
  {
   "cell_type": "code",
   "execution_count": 21,
   "id": "f84f73a2",
   "metadata": {
    "execution": {
     "iopub.execute_input": "2025-08-05T15:42:43.540776Z",
     "iopub.status.busy": "2025-08-05T15:42:43.539762Z",
     "iopub.status.idle": "2025-08-05T15:42:43.547796Z",
     "shell.execute_reply": "2025-08-05T15:42:43.546498Z"
    },
    "papermill": {
     "duration": 0.030972,
     "end_time": "2025-08-05T15:42:43.549989",
     "exception": false,
     "start_time": "2025-08-05T15:42:43.519017",
     "status": "completed"
    },
    "tags": []
   },
   "outputs": [],
   "source": [
    "from utils import flatten_once\n",
    "\n",
    "excluded_features_columns = flatten_once(excluded_features_columns)"
   ]
  },
  {
   "cell_type": "code",
   "execution_count": 22,
   "id": "884dea22",
   "metadata": {
    "execution": {
     "iopub.execute_input": "2025-08-05T15:42:43.591121Z",
     "iopub.status.busy": "2025-08-05T15:42:43.590552Z",
     "iopub.status.idle": "2025-08-05T15:42:43.605350Z",
     "shell.execute_reply": "2025-08-05T15:42:43.603909Z"
    },
    "papermill": {
     "duration": 0.03771,
     "end_time": "2025-08-05T15:42:43.607535",
     "exception": false,
     "start_time": "2025-08-05T15:42:43.569825",
     "status": "completed"
    },
    "tags": []
   },
   "outputs": [
    {
     "name": "stdout",
     "output_type": "stream",
     "text": [
      "Dropping features: ['frau1']\n"
     ]
    }
   ],
   "source": [
    "if len(excluded_features_columns) > 0:\n",
    "    print(f\"Dropping features: {excluded_features_columns}\")\n",
    "    X_train.drop(excluded_features_columns, axis=1, inplace=True)"
   ]
  },
  {
   "cell_type": "code",
   "execution_count": 23,
   "id": "95ab8b16",
   "metadata": {
    "execution": {
     "iopub.execute_input": "2025-08-05T15:42:43.649386Z",
     "iopub.status.busy": "2025-08-05T15:42:43.648419Z",
     "iopub.status.idle": "2025-08-05T15:42:43.703732Z",
     "shell.execute_reply": "2025-08-05T15:42:43.702547Z"
    },
    "papermill": {
     "duration": 0.078799,
     "end_time": "2025-08-05T15:42:43.706673",
     "exception": false,
     "start_time": "2025-08-05T15:42:43.627874",
     "status": "completed"
    },
    "tags": []
   },
   "outputs": [
    {
     "name": "stdout",
     "output_type": "stream",
     "text": [
      "Dropping features: ['frau1']\n"
     ]
    }
   ],
   "source": [
    "if len(excluded_features_columns) > 0:\n",
    "    print(f\"Dropping features: {excluded_features_columns}\")\n",
    "    X_test.drop(excluded_features_columns, axis=1, inplace=True)"
   ]
  },
  {
   "cell_type": "code",
   "execution_count": 24,
   "id": "1853aaf5-fb9f-46cb-a2b5-8ea4ae2237e4",
   "metadata": {
    "execution": {
     "iopub.execute_input": "2025-08-05T15:42:43.767586Z",
     "iopub.status.busy": "2025-08-05T15:42:43.766825Z",
     "iopub.status.idle": "2025-08-05T15:42:43.846706Z",
     "shell.execute_reply": "2025-08-05T15:42:43.845460Z"
    },
    "papermill": {
     "duration": 0.112891,
     "end_time": "2025-08-05T15:42:43.848793",
     "exception": false,
     "start_time": "2025-08-05T15:42:43.735902",
     "status": "completed"
    },
    "tags": []
   },
   "outputs": [
    {
     "name": "stdout",
     "output_type": "stream",
     "text": [
      "Dropping features: ['frau1']\n"
     ]
    }
   ],
   "source": [
    "if len(excluded_features_columns) > 0:\n",
    "    print(f\"Dropping features: {excluded_features_columns}\")\n",
    "    X_calib.drop(excluded_features_columns, axis=1, inplace=True)"
   ]
  },
  {
   "cell_type": "code",
   "execution_count": 25,
   "id": "76c4dc6d",
   "metadata": {
    "execution": {
     "iopub.execute_input": "2025-08-05T15:42:43.890764Z",
     "iopub.status.busy": "2025-08-05T15:42:43.889640Z",
     "iopub.status.idle": "2025-08-05T15:42:43.897121Z",
     "shell.execute_reply": "2025-08-05T15:42:43.895714Z"
    },
    "papermill": {
     "duration": 0.030619,
     "end_time": "2025-08-05T15:42:43.899366",
     "exception": false,
     "start_time": "2025-08-05T15:42:43.868747",
     "status": "completed"
    },
    "tags": []
   },
   "outputs": [],
   "source": [
    "# EXCLUDE CERTAIN SUBGROUPS\n",
    "# ----------------------\n",
    "\n",
    "mode = universe.get(\"exclude_subgroups\", \"keep-all\") \n",
    "# Fetches the exclude_subgroups setting from the universe dict.\n",
    "# Defaults to \"keep-all\" if the key is missing."
   ]
  },
  {
   "cell_type": "code",
   "execution_count": 26,
   "id": "21994072",
   "metadata": {
    "execution": {
     "iopub.execute_input": "2025-08-05T15:42:43.942126Z",
     "iopub.status.busy": "2025-08-05T15:42:43.940842Z",
     "iopub.status.idle": "2025-08-05T15:42:43.950441Z",
     "shell.execute_reply": "2025-08-05T15:42:43.949110Z"
    },
    "papermill": {
     "duration": 0.032642,
     "end_time": "2025-08-05T15:42:43.952649",
     "exception": false,
     "start_time": "2025-08-05T15:42:43.920007",
     "status": "completed"
    },
    "tags": []
   },
   "outputs": [],
   "source": [
    "if mode == \"keep-all\":\n",
    "    keep_mask = pd.Series(True, index=org_train.index)\n",
    "\n",
    "# org_train contains the original feature columns from features_org (in Simson)\n",
    "# features_org contains unprocessed features, for me X_train at beginning ???\n",
    "# For keep-all, creates a boolean Series (keep_mask) of all True, so no rows are removed.\n",
    "\n",
    "elif mode == \"drop-non-german\":\n",
    "    keep_mask = org_train[\"maxdeutsch1\"] == 1 # ??? what about missing values?\n",
    "\n",
    "else:\n",
    "    raise ValueError(f\"Unsupported mode for exclude_subgroups: {mode}\")"
   ]
  },
  {
   "cell_type": "code",
   "execution_count": 27,
   "id": "71651440",
   "metadata": {
    "execution": {
     "iopub.execute_input": "2025-08-05T15:42:43.996527Z",
     "iopub.status.busy": "2025-08-05T15:42:43.995488Z",
     "iopub.status.idle": "2025-08-05T15:42:44.003709Z",
     "shell.execute_reply": "2025-08-05T15:42:44.002658Z"
    },
    "papermill": {
     "duration": 0.031808,
     "end_time": "2025-08-05T15:42:44.006272",
     "exception": false,
     "start_time": "2025-08-05T15:42:43.974464",
     "status": "completed"
    },
    "tags": []
   },
   "outputs": [
    {
     "name": "stdout",
     "output_type": "stream",
     "text": [
      "Dropping 665 rows (13.30%) where mode='drop-non-german'\n"
     ]
    }
   ],
   "source": [
    "n_drop = (~keep_mask).sum() # Calculates how many rows are set to be dropped\n",
    "if n_drop > 0:\n",
    "    pct = n_drop / len(keep_mask) * 100\n",
    "    print(f\"Dropping {n_drop} rows ({pct:.2f}%) where mode='{mode}'\")"
   ]
  },
  {
   "cell_type": "code",
   "execution_count": 28,
   "id": "5fb8eee5",
   "metadata": {
    "execution": {
     "iopub.execute_input": "2025-08-05T15:42:44.069940Z",
     "iopub.status.busy": "2025-08-05T15:42:44.069468Z",
     "iopub.status.idle": "2025-08-05T15:42:44.078241Z",
     "shell.execute_reply": "2025-08-05T15:42:44.076863Z"
    },
    "papermill": {
     "duration": 0.043257,
     "end_time": "2025-08-05T15:42:44.080824",
     "exception": false,
     "start_time": "2025-08-05T15:42:44.037567",
     "status": "completed"
    },
    "tags": []
   },
   "outputs": [],
   "source": [
    "X_train = X_train[keep_mask]"
   ]
  },
  {
   "cell_type": "code",
   "execution_count": 29,
   "id": "b202bb3a",
   "metadata": {
    "execution": {
     "iopub.execute_input": "2025-08-05T15:42:44.144622Z",
     "iopub.status.busy": "2025-08-05T15:42:44.143964Z",
     "iopub.status.idle": "2025-08-05T15:42:44.150516Z",
     "shell.execute_reply": "2025-08-05T15:42:44.149103Z"
    },
    "papermill": {
     "duration": 0.041082,
     "end_time": "2025-08-05T15:42:44.153172",
     "exception": false,
     "start_time": "2025-08-05T15:42:44.112090",
     "status": "completed"
    },
    "tags": []
   },
   "outputs": [],
   "source": [
    "y_train = y_train[keep_mask]"
   ]
  },
  {
   "cell_type": "markdown",
   "id": "493e2ac3",
   "metadata": {
    "papermill": {
     "duration": 0.031035,
     "end_time": "2025-08-05T15:42:44.214927",
     "exception": false,
     "start_time": "2025-08-05T15:42:44.183892",
     "status": "completed"
    },
    "tags": []
   },
   "source": [
    "# Model Training"
   ]
  },
  {
   "cell_type": "code",
   "execution_count": 30,
   "id": "679e1268",
   "metadata": {
    "execution": {
     "iopub.execute_input": "2025-08-05T15:42:44.279643Z",
     "iopub.status.busy": "2025-08-05T15:42:44.279229Z",
     "iopub.status.idle": "2025-08-05T15:42:44.390650Z",
     "shell.execute_reply": "2025-08-05T15:42:44.389391Z"
    },
    "papermill": {
     "duration": 0.146579,
     "end_time": "2025-08-05T15:42:44.393245",
     "exception": false,
     "start_time": "2025-08-05T15:42:44.246666",
     "status": "completed"
    },
    "tags": []
   },
   "outputs": [],
   "source": [
    "from sklearn.linear_model import LogisticRegression\n",
    "from sklearn.ensemble import GradientBoostingClassifier, RandomForestClassifier\n",
    "\n",
    "if (universe[\"model\"] == \"logreg\"):\n",
    "    model = LogisticRegression() #penalty=\"none\", solver=\"newton-cg\", max_iter=1) # include random_state=19 ?\n",
    "elif (universe[\"model\"] == \"penalized_logreg\"):\n",
    "    model = LogisticRegression(penalty=\"l2\", C=0.1) #, solver=\"newton-cg\", max_iter=1)\n",
    "elif (universe[\"model\"] == \"rf\"):\n",
    "    model = RandomForestClassifier() # n_estimators=100, n_jobs=-1\n",
    "elif (universe[\"model\"] == \"gbm\"):\n",
    "    model = GradientBoostingClassifier()\n",
    "elif (universe[\"model\"] == \"elasticnet\"):\n",
    "    model = LogisticRegression(penalty = 'elasticnet', solver = 'saga', l1_ratio = 0.5) # max_iter=5000\n",
    "else:\n",
    "    raise \"Unsupported universe.model\""
   ]
  },
  {
   "cell_type": "code",
   "execution_count": 31,
   "id": "0cc8f744",
   "metadata": {
    "execution": {
     "iopub.execute_input": "2025-08-05T15:42:44.459829Z",
     "iopub.status.busy": "2025-08-05T15:42:44.459403Z",
     "iopub.status.idle": "2025-08-05T15:42:44.466877Z",
     "shell.execute_reply": "2025-08-05T15:42:44.465782Z"
    },
    "papermill": {
     "duration": 0.042802,
     "end_time": "2025-08-05T15:42:44.469458",
     "exception": false,
     "start_time": "2025-08-05T15:42:44.426656",
     "status": "completed"
    },
    "tags": []
   },
   "outputs": [],
   "source": [
    "import numpy as np\n",
    "from sklearn.pipeline import Pipeline\n",
    "from sklearn.preprocessing import StandardScaler\n",
    "\n",
    "model = Pipeline([\n",
    "    #(\"continuous_processor\", continuous_processor),\n",
    "    #(\"categorical_preprocessor\", categorical_preprocessor),\n",
    "    (\"scale\", StandardScaler() if universe[\"scale\"] == \"scale\" else None), \n",
    "    (\"model\", model),\n",
    "])"
   ]
  },
  {
   "cell_type": "code",
   "execution_count": 32,
   "id": "9442c04d",
   "metadata": {
    "execution": {
     "iopub.execute_input": "2025-08-05T15:42:44.515728Z",
     "iopub.status.busy": "2025-08-05T15:42:44.515292Z",
     "iopub.status.idle": "2025-08-05T15:42:44.641789Z",
     "shell.execute_reply": "2025-08-05T15:42:44.640795Z"
    },
    "papermill": {
     "duration": 0.149028,
     "end_time": "2025-08-05T15:42:44.643559",
     "exception": false,
     "start_time": "2025-08-05T15:42:44.494531",
     "status": "completed"
    },
    "tags": []
   },
   "outputs": [
    {
     "name": "stderr",
     "output_type": "stream",
     "text": [
      "/dss/dsshome1/0C/ra93lal2/.local/share/virtualenvs/CMA_Fairness_v2-3j10GkSs/lib/python3.10/site-packages/sklearn/linear_model/_logistic.py:444: ConvergenceWarning: lbfgs failed to converge (status=1):\n",
      "STOP: TOTAL NO. of ITERATIONS REACHED LIMIT.\n",
      "\n",
      "Increase the number of iterations (max_iter) or scale the data as shown in:\n",
      "    https://scikit-learn.org/stable/modules/preprocessing.html\n",
      "Please also refer to the documentation for alternative solver options:\n",
      "    https://scikit-learn.org/stable/modules/linear_model.html#logistic-regression\n",
      "  n_iter_i = _check_optimize_result(\n"
     ]
    },
    {
     "data": {
      "text/html": [
       "<style>#sk-container-id-1 {color: black;background-color: white;}#sk-container-id-1 pre{padding: 0;}#sk-container-id-1 div.sk-toggleable {background-color: white;}#sk-container-id-1 label.sk-toggleable__label {cursor: pointer;display: block;width: 100%;margin-bottom: 0;padding: 0.3em;box-sizing: border-box;text-align: center;}#sk-container-id-1 label.sk-toggleable__label-arrow:before {content: \"▸\";float: left;margin-right: 0.25em;color: #696969;}#sk-container-id-1 label.sk-toggleable__label-arrow:hover:before {color: black;}#sk-container-id-1 div.sk-estimator:hover label.sk-toggleable__label-arrow:before {color: black;}#sk-container-id-1 div.sk-toggleable__content {max-height: 0;max-width: 0;overflow: hidden;text-align: left;background-color: #f0f8ff;}#sk-container-id-1 div.sk-toggleable__content pre {margin: 0.2em;color: black;border-radius: 0.25em;background-color: #f0f8ff;}#sk-container-id-1 input.sk-toggleable__control:checked~div.sk-toggleable__content {max-height: 200px;max-width: 100%;overflow: auto;}#sk-container-id-1 input.sk-toggleable__control:checked~label.sk-toggleable__label-arrow:before {content: \"▾\";}#sk-container-id-1 div.sk-estimator input.sk-toggleable__control:checked~label.sk-toggleable__label {background-color: #d4ebff;}#sk-container-id-1 div.sk-label input.sk-toggleable__control:checked~label.sk-toggleable__label {background-color: #d4ebff;}#sk-container-id-1 input.sk-hidden--visually {border: 0;clip: rect(1px 1px 1px 1px);clip: rect(1px, 1px, 1px, 1px);height: 1px;margin: -1px;overflow: hidden;padding: 0;position: absolute;width: 1px;}#sk-container-id-1 div.sk-estimator {font-family: monospace;background-color: #f0f8ff;border: 1px dotted black;border-radius: 0.25em;box-sizing: border-box;margin-bottom: 0.5em;}#sk-container-id-1 div.sk-estimator:hover {background-color: #d4ebff;}#sk-container-id-1 div.sk-parallel-item::after {content: \"\";width: 100%;border-bottom: 1px solid gray;flex-grow: 1;}#sk-container-id-1 div.sk-label:hover label.sk-toggleable__label {background-color: #d4ebff;}#sk-container-id-1 div.sk-serial::before {content: \"\";position: absolute;border-left: 1px solid gray;box-sizing: border-box;top: 0;bottom: 0;left: 50%;z-index: 0;}#sk-container-id-1 div.sk-serial {display: flex;flex-direction: column;align-items: center;background-color: white;padding-right: 0.2em;padding-left: 0.2em;position: relative;}#sk-container-id-1 div.sk-item {position: relative;z-index: 1;}#sk-container-id-1 div.sk-parallel {display: flex;align-items: stretch;justify-content: center;background-color: white;position: relative;}#sk-container-id-1 div.sk-item::before, #sk-container-id-1 div.sk-parallel-item::before {content: \"\";position: absolute;border-left: 1px solid gray;box-sizing: border-box;top: 0;bottom: 0;left: 50%;z-index: -1;}#sk-container-id-1 div.sk-parallel-item {display: flex;flex-direction: column;z-index: 1;position: relative;background-color: white;}#sk-container-id-1 div.sk-parallel-item:first-child::after {align-self: flex-end;width: 50%;}#sk-container-id-1 div.sk-parallel-item:last-child::after {align-self: flex-start;width: 50%;}#sk-container-id-1 div.sk-parallel-item:only-child::after {width: 0;}#sk-container-id-1 div.sk-dashed-wrapped {border: 1px dashed gray;margin: 0 0.4em 0.5em 0.4em;box-sizing: border-box;padding-bottom: 0.4em;background-color: white;}#sk-container-id-1 div.sk-label label {font-family: monospace;font-weight: bold;display: inline-block;line-height: 1.2em;}#sk-container-id-1 div.sk-label-container {text-align: center;}#sk-container-id-1 div.sk-container {/* jupyter's `normalize.less` sets `[hidden] { display: none; }` but bootstrap.min.css set `[hidden] { display: none !important; }` so we also need the `!important` here to be able to override the default hidden behavior on the sphinx rendered scikit-learn.org. See: https://github.com/scikit-learn/scikit-learn/issues/21755 */display: inline-block !important;position: relative;}#sk-container-id-1 div.sk-text-repr-fallback {display: none;}</style><div id=\"sk-container-id-1\" class=\"sk-top-container\"><div class=\"sk-text-repr-fallback\"><pre>Pipeline(steps=[(&#x27;scale&#x27;, None), (&#x27;model&#x27;, LogisticRegression(C=0.1))])</pre><b>In a Jupyter environment, please rerun this cell to show the HTML representation or trust the notebook. <br />On GitHub, the HTML representation is unable to render, please try loading this page with nbviewer.org.</b></div><div class=\"sk-container\" hidden><div class=\"sk-item sk-dashed-wrapped\"><div class=\"sk-label-container\"><div class=\"sk-label sk-toggleable\"><input class=\"sk-toggleable__control sk-hidden--visually\" id=\"sk-estimator-id-1\" type=\"checkbox\" ><label for=\"sk-estimator-id-1\" class=\"sk-toggleable__label sk-toggleable__label-arrow\">Pipeline</label><div class=\"sk-toggleable__content\"><pre>Pipeline(steps=[(&#x27;scale&#x27;, None), (&#x27;model&#x27;, LogisticRegression(C=0.1))])</pre></div></div></div><div class=\"sk-serial\"><div class=\"sk-item\"><div class=\"sk-estimator sk-toggleable\"><input class=\"sk-toggleable__control sk-hidden--visually\" id=\"sk-estimator-id-2\" type=\"checkbox\" ><label for=\"sk-estimator-id-2\" class=\"sk-toggleable__label sk-toggleable__label-arrow\">None</label><div class=\"sk-toggleable__content\"><pre>None</pre></div></div></div><div class=\"sk-item\"><div class=\"sk-estimator sk-toggleable\"><input class=\"sk-toggleable__control sk-hidden--visually\" id=\"sk-estimator-id-3\" type=\"checkbox\" ><label for=\"sk-estimator-id-3\" class=\"sk-toggleable__label sk-toggleable__label-arrow\">LogisticRegression</label><div class=\"sk-toggleable__content\"><pre>LogisticRegression(C=0.1)</pre></div></div></div></div></div></div></div>"
      ],
      "text/plain": [
       "Pipeline(steps=[('scale', None), ('model', LogisticRegression(C=0.1))])"
      ]
     },
     "execution_count": 32,
     "metadata": {},
     "output_type": "execute_result"
    }
   ],
   "source": [
    "model.fit(X_train, y_train.values.ravel())"
   ]
  },
  {
   "cell_type": "code",
   "execution_count": 33,
   "id": "af59f8c0",
   "metadata": {
    "execution": {
     "iopub.execute_input": "2025-08-05T15:42:44.672665Z",
     "iopub.status.busy": "2025-08-05T15:42:44.672257Z",
     "iopub.status.idle": "2025-08-05T15:42:44.678535Z",
     "shell.execute_reply": "2025-08-05T15:42:44.677628Z"
    },
    "papermill": {
     "duration": 0.020794,
     "end_time": "2025-08-05T15:42:44.681006",
     "exception": false,
     "start_time": "2025-08-05T15:42:44.660212",
     "status": "completed"
    },
    "tags": []
   },
   "outputs": [],
   "source": [
    "from fairness_multiverse.universe import predict_w_threshold"
   ]
  },
  {
   "cell_type": "code",
   "execution_count": 34,
   "id": "a7cf2e16",
   "metadata": {
    "execution": {
     "iopub.execute_input": "2025-08-05T15:42:44.726259Z",
     "iopub.status.busy": "2025-08-05T15:42:44.725421Z",
     "iopub.status.idle": "2025-08-05T15:42:44.862802Z",
     "shell.execute_reply": "2025-08-05T15:42:44.861728Z"
    },
    "papermill": {
     "duration": 0.161556,
     "end_time": "2025-08-05T15:42:44.864664",
     "exception": false,
     "start_time": "2025-08-05T15:42:44.703108",
     "status": "completed"
    },
    "tags": []
   },
   "outputs": [
    {
     "data": {
      "text/plain": [
       "0.8591349905250251"
      ]
     },
     "execution_count": 34,
     "metadata": {},
     "output_type": "execute_result"
    }
   ],
   "source": [
    "probs_test = model.predict_proba(X_test)\n",
    "\n",
    "'''\n",
    "Below code returns a boolean array (or binary 0/1 array depending on how it’s used) where each element \n",
    "is True if the probability of class 1 is greater than or equal to the threshold, and False otherwise.\n",
    "'''\n",
    "y_pred_default = predict_w_threshold(probs_test, 0.5)\n",
    "\n",
    "from sklearn.metrics import accuracy_score\n",
    "\n",
    "# Naive prediction\n",
    "accuracy_score(y_true = y_true, y_pred = y_pred_default)"
   ]
  },
  {
   "cell_type": "code",
   "execution_count": 35,
   "id": "081964c3",
   "metadata": {
    "execution": {
     "iopub.execute_input": "2025-08-05T15:42:44.911087Z",
     "iopub.status.busy": "2025-08-05T15:42:44.910406Z",
     "iopub.status.idle": "2025-08-05T15:42:45.050038Z",
     "shell.execute_reply": "2025-08-05T15:42:45.048809Z"
    },
    "papermill": {
     "duration": 0.165145,
     "end_time": "2025-08-05T15:42:45.051928",
     "exception": false,
     "start_time": "2025-08-05T15:42:44.886783",
     "status": "completed"
    },
    "tags": []
   },
   "outputs": [
    {
     "data": {
      "text/plain": [
       "array([0, 0, 0, ..., 0, 0, 0])"
      ]
     },
     "execution_count": 35,
     "metadata": {},
     "output_type": "execute_result"
    }
   ],
   "source": [
    "model.predict(X_test)"
   ]
  },
  {
   "cell_type": "markdown",
   "id": "56c9705b",
   "metadata": {
    "papermill": {
     "duration": 0.02168,
     "end_time": "2025-08-05T15:42:45.095916",
     "exception": false,
     "start_time": "2025-08-05T15:42:45.074236",
     "status": "completed"
    },
    "tags": []
   },
   "source": [
    "# Conformal Prediction"
   ]
  },
  {
   "cell_type": "code",
   "execution_count": 36,
   "id": "160ec6ff",
   "metadata": {
    "execution": {
     "iopub.execute_input": "2025-08-05T15:42:45.142930Z",
     "iopub.status.busy": "2025-08-05T15:42:45.141945Z",
     "iopub.status.idle": "2025-08-05T15:42:45.148004Z",
     "shell.execute_reply": "2025-08-05T15:42:45.146791Z"
    },
    "papermill": {
     "duration": 0.0327,
     "end_time": "2025-08-05T15:42:45.150724",
     "exception": false,
     "start_time": "2025-08-05T15:42:45.118024",
     "status": "completed"
    },
    "tags": []
   },
   "outputs": [],
   "source": [
    "# Miscoverage level for conformal prediction (10% allowed error rate => 90% target coverage)\n",
    "alpha = 0.1"
   ]
  },
  {
   "cell_type": "code",
   "execution_count": 37,
   "id": "eadf4555-3dd3-440e-8e35-f82a4ad9f855",
   "metadata": {
    "execution": {
     "iopub.execute_input": "2025-08-05T15:42:45.214187Z",
     "iopub.status.busy": "2025-08-05T15:42:45.213353Z",
     "iopub.status.idle": "2025-08-05T15:42:45.300909Z",
     "shell.execute_reply": "2025-08-05T15:42:45.299814Z"
    },
    "papermill": {
     "duration": 0.121107,
     "end_time": "2025-08-05T15:42:45.303163",
     "exception": false,
     "start_time": "2025-08-05T15:42:45.182056",
     "status": "completed"
    },
    "tags": []
   },
   "outputs": [],
   "source": [
    "probs_calib = model.predict_proba(X_calib)"
   ]
  },
  {
   "cell_type": "code",
   "execution_count": 38,
   "id": "2ed93547-6d5d-4983-9b36-1ecb300da49a",
   "metadata": {
    "execution": {
     "iopub.execute_input": "2025-08-05T15:42:45.351270Z",
     "iopub.status.busy": "2025-08-05T15:42:45.350331Z",
     "iopub.status.idle": "2025-08-05T15:42:45.356499Z",
     "shell.execute_reply": "2025-08-05T15:42:45.355382Z"
    },
    "papermill": {
     "duration": 0.030817,
     "end_time": "2025-08-05T15:42:45.358151",
     "exception": false,
     "start_time": "2025-08-05T15:42:45.327334",
     "status": "completed"
    },
    "tags": []
   },
   "outputs": [],
   "source": [
    "y_calib = y_calib.values.ravel().astype(int)"
   ]
  },
  {
   "cell_type": "code",
   "execution_count": 39,
   "id": "65d1320d-f588-4b38-9072-62af1ae97f7d",
   "metadata": {
    "execution": {
     "iopub.execute_input": "2025-08-05T15:42:45.401480Z",
     "iopub.status.busy": "2025-08-05T15:42:45.400929Z",
     "iopub.status.idle": "2025-08-05T15:42:45.408866Z",
     "shell.execute_reply": "2025-08-05T15:42:45.407093Z"
    },
    "papermill": {
     "duration": 0.033634,
     "end_time": "2025-08-05T15:42:45.410535",
     "exception": false,
     "start_time": "2025-08-05T15:42:45.376901",
     "status": "completed"
    },
    "tags": []
   },
   "outputs": [],
   "source": [
    "from fairness_multiverse.conformal import compute_nc_scores\n",
    "\n",
    "# Compute nonconformity scores on calibration set (1 - probability of true class)\n",
    "nc_scores = compute_nc_scores(probs_calib, y_calib)"
   ]
  },
  {
   "cell_type": "code",
   "execution_count": 40,
   "id": "df3b8ca3-53b7-43d5-9667-7c85da7aeda2",
   "metadata": {
    "execution": {
     "iopub.execute_input": "2025-08-05T15:42:45.456486Z",
     "iopub.status.busy": "2025-08-05T15:42:45.456129Z",
     "iopub.status.idle": "2025-08-05T15:42:45.462554Z",
     "shell.execute_reply": "2025-08-05T15:42:45.461532Z"
    },
    "papermill": {
     "duration": 0.029796,
     "end_time": "2025-08-05T15:42:45.464804",
     "exception": false,
     "start_time": "2025-08-05T15:42:45.435008",
     "status": "completed"
    },
    "tags": []
   },
   "outputs": [],
   "source": [
    "from fairness_multiverse.conformal import find_threshold\n",
    "\n",
    "# Find conformal threshold q_hat for the given alpha (split conformal method)\n",
    "q_hat = find_threshold(nc_scores, alpha)"
   ]
  },
  {
   "cell_type": "code",
   "execution_count": 41,
   "id": "4d29e6c1-0ef6-4aa4-b8fe-4fe79b0d033a",
   "metadata": {
    "execution": {
     "iopub.execute_input": "2025-08-05T15:42:45.528359Z",
     "iopub.status.busy": "2025-08-05T15:42:45.527831Z",
     "iopub.status.idle": "2025-08-05T15:42:45.536285Z",
     "shell.execute_reply": "2025-08-05T15:42:45.535042Z"
    },
    "papermill": {
     "duration": 0.042237,
     "end_time": "2025-08-05T15:42:45.538734",
     "exception": false,
     "start_time": "2025-08-05T15:42:45.496497",
     "status": "completed"
    },
    "tags": []
   },
   "outputs": [
    {
     "data": {
      "text/plain": [
       "0.6749814795580096"
      ]
     },
     "execution_count": 41,
     "metadata": {},
     "output_type": "execute_result"
    }
   ],
   "source": [
    "q_hat"
   ]
  },
  {
   "cell_type": "code",
   "execution_count": 42,
   "id": "92460794-cdac-4be2-ba28-f28c0515a6fb",
   "metadata": {
    "execution": {
     "iopub.execute_input": "2025-08-05T15:42:45.600571Z",
     "iopub.status.busy": "2025-08-05T15:42:45.599815Z",
     "iopub.status.idle": "2025-08-05T15:42:46.524680Z",
     "shell.execute_reply": "2025-08-05T15:42:46.523758Z"
    },
    "papermill": {
     "duration": 0.957056,
     "end_time": "2025-08-05T15:42:46.526568",
     "exception": false,
     "start_time": "2025-08-05T15:42:45.569512",
     "status": "completed"
    },
    "tags": []
   },
   "outputs": [],
   "source": [
    "from fairness_multiverse.conformal import predict_conformal_sets\n",
    "\n",
    "# Generate prediction sets for each test example\n",
    "pred_sets = predict_conformal_sets(model, X_test, q_hat)"
   ]
  },
  {
   "cell_type": "code",
   "execution_count": 43,
   "id": "d90c9a65-e6db-4f5d-80cd-e68fb7e46829",
   "metadata": {
    "execution": {
     "iopub.execute_input": "2025-08-05T15:42:46.567857Z",
     "iopub.status.busy": "2025-08-05T15:42:46.567513Z",
     "iopub.status.idle": "2025-08-05T15:42:46.571933Z",
     "shell.execute_reply": "2025-08-05T15:42:46.571173Z"
    },
    "papermill": {
     "duration": 0.026238,
     "end_time": "2025-08-05T15:42:46.573266",
     "exception": false,
     "start_time": "2025-08-05T15:42:46.547028",
     "status": "completed"
    },
    "tags": []
   },
   "outputs": [],
   "source": [
    "y_true = y_true.squeeze()"
   ]
  },
  {
   "cell_type": "code",
   "execution_count": 44,
   "id": "3a58a54a-1e68-46b9-927a-df01f18aebc8",
   "metadata": {
    "execution": {
     "iopub.execute_input": "2025-08-05T15:42:46.597900Z",
     "iopub.status.busy": "2025-08-05T15:42:46.597176Z",
     "iopub.status.idle": "2025-08-05T15:42:47.416572Z",
     "shell.execute_reply": "2025-08-05T15:42:47.415803Z"
    },
    "papermill": {
     "duration": 0.832758,
     "end_time": "2025-08-05T15:42:47.418128",
     "exception": false,
     "start_time": "2025-08-05T15:42:46.585370",
     "status": "completed"
    },
    "tags": []
   },
   "outputs": [],
   "source": [
    "from fairness_multiverse.conformal import evaluate_sets\n",
    "\n",
    "# Evaluate coverage and average set size on test data\n",
    "metrics = evaluate_sets(pred_sets, y_true)"
   ]
  },
  {
   "cell_type": "markdown",
   "id": "2b569c12-9aaa-4c88-98c9-bbcd0cf3ebb8",
   "metadata": {
    "papermill": {
     "duration": 0.031518,
     "end_time": "2025-08-05T15:42:47.468015",
     "exception": false,
     "start_time": "2025-08-05T15:42:47.436497",
     "status": "completed"
    },
    "tags": []
   },
   "source": [
    "# CP Metrics"
   ]
  },
  {
   "cell_type": "code",
   "execution_count": 45,
   "id": "5ce0a5cb-201f-45a0-ade5-94c7f0bd6095",
   "metadata": {
    "execution": {
     "iopub.execute_input": "2025-08-05T15:42:47.517931Z",
     "iopub.status.busy": "2025-08-05T15:42:47.517475Z",
     "iopub.status.idle": "2025-08-05T15:42:47.523696Z",
     "shell.execute_reply": "2025-08-05T15:42:47.522890Z"
    },
    "papermill": {
     "duration": 0.02481,
     "end_time": "2025-08-05T15:42:47.525238",
     "exception": false,
     "start_time": "2025-08-05T15:42:47.500428",
     "status": "completed"
    },
    "tags": []
   },
   "outputs": [
    {
     "data": {
      "text/plain": [
       "{'coverage': 0.9113365288150708, 'avg_size': 1.2083937130754654}"
      ]
     },
     "execution_count": 45,
     "metadata": {},
     "output_type": "execute_result"
    }
   ],
   "source": [
    "metrics"
   ]
  },
  {
   "cell_type": "code",
   "execution_count": 46,
   "id": "9b9a838d-31c9-430b-ae14-12baee460d17",
   "metadata": {
    "execution": {
     "iopub.execute_input": "2025-08-05T15:42:47.550200Z",
     "iopub.status.busy": "2025-08-05T15:42:47.549421Z",
     "iopub.status.idle": "2025-08-05T15:42:47.555061Z",
     "shell.execute_reply": "2025-08-05T15:42:47.554291Z"
    },
    "papermill": {
     "duration": 0.018772,
     "end_time": "2025-08-05T15:42:47.556521",
     "exception": false,
     "start_time": "2025-08-05T15:42:47.537749",
     "status": "completed"
    },
    "tags": []
   },
   "outputs": [],
   "source": [
    "example_universe = universe.copy()\n",
    "universe_training_year = example_universe.get(\"training_year\")\n",
    "universe_training_size = example_universe.get(\"training_size\")\n",
    "universe_scale = example_universe.get(\"scale\")\n",
    "universe_model = example_universe.get(\"model\")\n",
    "universe_exclude_features = example_universe.get(\"exclude_features\")\n",
    "universe_exclude_subgroups = example_universe.get(\"exclude_subgroups\")"
   ]
  },
  {
   "cell_type": "code",
   "execution_count": 47,
   "id": "f4b6a8ac-9dc0-4245-8a91-5b3b5999c4f9",
   "metadata": {
    "execution": {
     "iopub.execute_input": "2025-08-05T15:42:47.581982Z",
     "iopub.status.busy": "2025-08-05T15:42:47.581238Z",
     "iopub.status.idle": "2025-08-05T15:42:47.587057Z",
     "shell.execute_reply": "2025-08-05T15:42:47.586108Z"
    },
    "papermill": {
     "duration": 0.01918,
     "end_time": "2025-08-05T15:42:47.588643",
     "exception": false,
     "start_time": "2025-08-05T15:42:47.569463",
     "status": "completed"
    },
    "tags": []
   },
   "outputs": [],
   "source": [
    "cp_metrics_dict = {\n",
    "    \"universe_id\": [universe_id],\n",
    "    \"universe_training_year\": [universe_training_year],\n",
    "    \"universe_training_size\": [universe_training_size],\n",
    "    \"universe_scale\": [universe_scale],\n",
    "    \"universe_model\": [universe_model],\n",
    "    \"universe_exclude_features\": [universe_exclude_features],\n",
    "    \"universe_exclude_subgroups\": [universe_exclude_subgroups],\n",
    "    \"q_hat\": [q_hat],\n",
    "    \"coverage\": [metrics[\"coverage\"]],\n",
    "    \"avg_size\": [metrics[\"avg_size\"]],\n",
    "}"
   ]
  },
  {
   "cell_type": "code",
   "execution_count": 48,
   "id": "908acbb1-0371-4915-85ca-3fa520d2efe2",
   "metadata": {
    "execution": {
     "iopub.execute_input": "2025-08-05T15:42:47.614450Z",
     "iopub.status.busy": "2025-08-05T15:42:47.613279Z",
     "iopub.status.idle": "2025-08-05T15:42:47.622698Z",
     "shell.execute_reply": "2025-08-05T15:42:47.621775Z"
    },
    "papermill": {
     "duration": 0.022558,
     "end_time": "2025-08-05T15:42:47.624005",
     "exception": false,
     "start_time": "2025-08-05T15:42:47.601447",
     "status": "completed"
    },
    "tags": []
   },
   "outputs": [
    {
     "data": {
      "text/plain": [
       "{'universe_id': ['b8fb17d17042052c443f84a3ad1eaf4d'],\n",
       " 'universe_training_year': ['2012_14'],\n",
       " 'universe_training_size': ['5k'],\n",
       " 'universe_scale': ['do-not-scale'],\n",
       " 'universe_model': ['penalized_logreg'],\n",
       " 'universe_exclude_features': ['sex'],\n",
       " 'universe_exclude_subgroups': ['drop-non-german'],\n",
       " 'q_hat': [0.6749814795580096],\n",
       " 'coverage': [0.9113365288150708],\n",
       " 'avg_size': [1.2083937130754654]}"
      ]
     },
     "execution_count": 48,
     "metadata": {},
     "output_type": "execute_result"
    }
   ],
   "source": [
    "cp_metrics_dict"
   ]
  },
  {
   "cell_type": "code",
   "execution_count": 49,
   "id": "33007efc-14e9-4ec6-97ac-56a455c82265",
   "metadata": {
    "execution": {
     "iopub.execute_input": "2025-08-05T15:42:47.649704Z",
     "iopub.status.busy": "2025-08-05T15:42:47.649180Z",
     "iopub.status.idle": "2025-08-05T15:42:47.654797Z",
     "shell.execute_reply": "2025-08-05T15:42:47.654014Z"
    },
    "papermill": {
     "duration": 0.02081,
     "end_time": "2025-08-05T15:42:47.656411",
     "exception": false,
     "start_time": "2025-08-05T15:42:47.635601",
     "status": "completed"
    },
    "tags": []
   },
   "outputs": [],
   "source": [
    "cp_metrics_df = pd.DataFrame(cp_metrics_dict)"
   ]
  },
  {
   "cell_type": "code",
   "execution_count": 50,
   "id": "db12611b-57b2-4910-b9d0-355adfd6e7bf",
   "metadata": {
    "execution": {
     "iopub.execute_input": "2025-08-05T15:42:47.691424Z",
     "iopub.status.busy": "2025-08-05T15:42:47.690904Z",
     "iopub.status.idle": "2025-08-05T15:42:47.714506Z",
     "shell.execute_reply": "2025-08-05T15:42:47.713069Z"
    },
    "papermill": {
     "duration": 0.047884,
     "end_time": "2025-08-05T15:42:47.716457",
     "exception": false,
     "start_time": "2025-08-05T15:42:47.668573",
     "status": "completed"
    },
    "tags": []
   },
   "outputs": [
    {
     "data": {
      "text/html": [
       "<div>\n",
       "<style scoped>\n",
       "    .dataframe tbody tr th:only-of-type {\n",
       "        vertical-align: middle;\n",
       "    }\n",
       "\n",
       "    .dataframe tbody tr th {\n",
       "        vertical-align: top;\n",
       "    }\n",
       "\n",
       "    .dataframe thead th {\n",
       "        text-align: right;\n",
       "    }\n",
       "</style>\n",
       "<table border=\"1\" class=\"dataframe\">\n",
       "  <thead>\n",
       "    <tr style=\"text-align: right;\">\n",
       "      <th></th>\n",
       "      <th>universe_id</th>\n",
       "      <th>universe_training_year</th>\n",
       "      <th>universe_training_size</th>\n",
       "      <th>universe_scale</th>\n",
       "      <th>universe_model</th>\n",
       "      <th>universe_exclude_features</th>\n",
       "      <th>universe_exclude_subgroups</th>\n",
       "      <th>q_hat</th>\n",
       "      <th>coverage</th>\n",
       "      <th>avg_size</th>\n",
       "    </tr>\n",
       "  </thead>\n",
       "  <tbody>\n",
       "    <tr>\n",
       "      <th>0</th>\n",
       "      <td>b8fb17d17042052c443f84a3ad1eaf4d</td>\n",
       "      <td>2012_14</td>\n",
       "      <td>5k</td>\n",
       "      <td>do-not-scale</td>\n",
       "      <td>penalized_logreg</td>\n",
       "      <td>sex</td>\n",
       "      <td>drop-non-german</td>\n",
       "      <td>0.674981</td>\n",
       "      <td>0.911337</td>\n",
       "      <td>1.208394</td>\n",
       "    </tr>\n",
       "  </tbody>\n",
       "</table>\n",
       "</div>"
      ],
      "text/plain": [
       "                        universe_id universe_training_year  \\\n",
       "0  b8fb17d17042052c443f84a3ad1eaf4d                2012_14   \n",
       "\n",
       "  universe_training_size universe_scale    universe_model  \\\n",
       "0                     5k   do-not-scale  penalized_logreg   \n",
       "\n",
       "  universe_exclude_features universe_exclude_subgroups     q_hat  coverage  \\\n",
       "0                       sex            drop-non-german  0.674981  0.911337   \n",
       "\n",
       "   avg_size  \n",
       "0  1.208394  "
      ]
     },
     "execution_count": 50,
     "metadata": {},
     "output_type": "execute_result"
    }
   ],
   "source": [
    "cp_metrics_df"
   ]
  },
  {
   "cell_type": "code",
   "execution_count": 51,
   "id": "b7fbde55-a0a1-47e4-9af6-fe4a17fa8c61",
   "metadata": {
    "execution": {
     "iopub.execute_input": "2025-08-05T15:42:47.763748Z",
     "iopub.status.busy": "2025-08-05T15:42:47.762842Z",
     "iopub.status.idle": "2025-08-05T15:42:47.767509Z",
     "shell.execute_reply": "2025-08-05T15:42:47.766767Z"
    },
    "papermill": {
     "duration": 0.02532,
     "end_time": "2025-08-05T15:42:47.768997",
     "exception": false,
     "start_time": "2025-08-05T15:42:47.743677",
     "status": "completed"
    },
    "tags": []
   },
   "outputs": [],
   "source": [
    "# Conditional Coverage & looking at subgroups"
   ]
  },
  {
   "cell_type": "code",
   "execution_count": 52,
   "id": "027ae886-68dd-4141-96c7-805a5450e1ef",
   "metadata": {
    "execution": {
     "iopub.execute_input": "2025-08-05T15:42:47.795557Z",
     "iopub.status.busy": "2025-08-05T15:42:47.794802Z",
     "iopub.status.idle": "2025-08-05T15:42:47.986822Z",
     "shell.execute_reply": "2025-08-05T15:42:47.986019Z"
    },
    "papermill": {
     "duration": 0.205778,
     "end_time": "2025-08-05T15:42:47.988290",
     "exception": false,
     "start_time": "2025-08-05T15:42:47.782512",
     "status": "completed"
    },
    "tags": []
   },
   "outputs": [],
   "source": [
    "from fairness_multiverse.conformal import build_cp_groups\n",
    "\n",
    "cp_groups_df = build_cp_groups(pred_sets, y_true, X_test.index, org_test)\n",
    "#needs universe_id and setting"
   ]
  },
  {
   "cell_type": "code",
   "execution_count": 53,
   "id": "6cbdab96-b2b2-45af-ad54-d0516db2e28d",
   "metadata": {
    "execution": {
     "iopub.execute_input": "2025-08-05T15:42:48.013083Z",
     "iopub.status.busy": "2025-08-05T15:42:48.012322Z",
     "iopub.status.idle": "2025-08-05T15:42:49.109310Z",
     "shell.execute_reply": "2025-08-05T15:42:49.108153Z"
    },
    "papermill": {
     "duration": 1.111383,
     "end_time": "2025-08-05T15:42:49.111495",
     "exception": false,
     "start_time": "2025-08-05T15:42:48.000112",
     "status": "completed"
    },
    "tags": []
   },
   "outputs": [],
   "source": [
    "# Define covered = 1 if true_label is in the predicted set\n",
    "cp_groups_df['covered'] = cp_groups_df.apply(\n",
    "    lambda r: int(r['true_label'] in r['pred_set']),\n",
    "    axis=1\n",
    ")"
   ]
  },
  {
   "cell_type": "code",
   "execution_count": 54,
   "id": "338ff529-1a6b-4b87-a931-8e4788d52aad",
   "metadata": {
    "execution": {
     "iopub.execute_input": "2025-08-05T15:42:49.161943Z",
     "iopub.status.busy": "2025-08-05T15:42:49.161279Z",
     "iopub.status.idle": "2025-08-05T15:42:49.166979Z",
     "shell.execute_reply": "2025-08-05T15:42:49.165728Z"
    },
    "papermill": {
     "duration": 0.032308,
     "end_time": "2025-08-05T15:42:49.168848",
     "exception": false,
     "start_time": "2025-08-05T15:42:49.136540",
     "status": "completed"
    },
    "tags": []
   },
   "outputs": [],
   "source": [
    "#cp_groups_df"
   ]
  },
  {
   "cell_type": "code",
   "execution_count": 55,
   "id": "90032e27-66df-4540-9169-4e89cfbaa758",
   "metadata": {
    "execution": {
     "iopub.execute_input": "2025-08-05T15:42:49.215225Z",
     "iopub.status.busy": "2025-08-05T15:42:49.214821Z",
     "iopub.status.idle": "2025-08-05T15:42:49.226529Z",
     "shell.execute_reply": "2025-08-05T15:42:49.225428Z"
    },
    "papermill": {
     "duration": 0.037016,
     "end_time": "2025-08-05T15:42:49.228359",
     "exception": false,
     "start_time": "2025-08-05T15:42:49.191343",
     "status": "completed"
    },
    "tags": []
   },
   "outputs": [],
   "source": [
    "subgroups = ['frau1','nongerman','nongerman_male','nongerman_female']\n",
    "\n",
    "# Conditional coverage for subgroup==1\n",
    "cond_coverage = {\n",
    "    g: cp_groups_df.loc[cp_groups_df[g]==1, 'covered'].mean()\n",
    "    for g in subgroups\n",
    "}"
   ]
  },
  {
   "cell_type": "code",
   "execution_count": 56,
   "id": "1e348fb1-b9c3-45bc-ba23-f016827a7e0d",
   "metadata": {
    "execution": {
     "iopub.execute_input": "2025-08-05T15:42:49.278080Z",
     "iopub.status.busy": "2025-08-05T15:42:49.277594Z",
     "iopub.status.idle": "2025-08-05T15:42:49.284953Z",
     "shell.execute_reply": "2025-08-05T15:42:49.283891Z"
    },
    "papermill": {
     "duration": 0.035317,
     "end_time": "2025-08-05T15:42:49.288079",
     "exception": false,
     "start_time": "2025-08-05T15:42:49.252762",
     "status": "completed"
    },
    "tags": []
   },
   "outputs": [
    {
     "data": {
      "text/plain": [
       "{'frau1': 0.9090173877881116,\n",
       " 'nongerman': 0.9331948576882052,\n",
       " 'nongerman_male': 0.9454201567144015,\n",
       " 'nongerman_female': 0.9129657228017883}"
      ]
     },
     "execution_count": 56,
     "metadata": {},
     "output_type": "execute_result"
    }
   ],
   "source": [
    "cond_coverage"
   ]
  },
  {
   "cell_type": "code",
   "execution_count": 57,
   "id": "f5093324-c3dd-4d63-bc4c-8d945e5c8bbb",
   "metadata": {
    "execution": {
     "iopub.execute_input": "2025-08-05T15:42:49.338965Z",
     "iopub.status.busy": "2025-08-05T15:42:49.338415Z",
     "iopub.status.idle": "2025-08-05T15:42:49.347199Z",
     "shell.execute_reply": "2025-08-05T15:42:49.346127Z"
    },
    "papermill": {
     "duration": 0.037621,
     "end_time": "2025-08-05T15:42:49.349272",
     "exception": false,
     "start_time": "2025-08-05T15:42:49.311651",
     "status": "completed"
    },
    "tags": []
   },
   "outputs": [],
   "source": [
    "for subgroup, cov in cond_coverage.items():\n",
    "    cp_metrics_df[f\"cov_{subgroup}\"] = cov"
   ]
  },
  {
   "cell_type": "code",
   "execution_count": 58,
   "id": "6e872e10-dbe5-49e8-b554-5030c98ff75d",
   "metadata": {
    "execution": {
     "iopub.execute_input": "2025-08-05T15:42:49.400736Z",
     "iopub.status.busy": "2025-08-05T15:42:49.399781Z",
     "iopub.status.idle": "2025-08-05T15:42:49.420178Z",
     "shell.execute_reply": "2025-08-05T15:42:49.418939Z"
    },
    "papermill": {
     "duration": 0.047953,
     "end_time": "2025-08-05T15:42:49.422379",
     "exception": false,
     "start_time": "2025-08-05T15:42:49.374426",
     "status": "completed"
    },
    "tags": []
   },
   "outputs": [
    {
     "data": {
      "text/html": [
       "<div>\n",
       "<style scoped>\n",
       "    .dataframe tbody tr th:only-of-type {\n",
       "        vertical-align: middle;\n",
       "    }\n",
       "\n",
       "    .dataframe tbody tr th {\n",
       "        vertical-align: top;\n",
       "    }\n",
       "\n",
       "    .dataframe thead th {\n",
       "        text-align: right;\n",
       "    }\n",
       "</style>\n",
       "<table border=\"1\" class=\"dataframe\">\n",
       "  <thead>\n",
       "    <tr style=\"text-align: right;\">\n",
       "      <th></th>\n",
       "      <th>universe_id</th>\n",
       "      <th>universe_training_year</th>\n",
       "      <th>universe_training_size</th>\n",
       "      <th>universe_scale</th>\n",
       "      <th>universe_model</th>\n",
       "      <th>universe_exclude_features</th>\n",
       "      <th>universe_exclude_subgroups</th>\n",
       "      <th>q_hat</th>\n",
       "      <th>coverage</th>\n",
       "      <th>avg_size</th>\n",
       "      <th>cov_frau1</th>\n",
       "      <th>cov_nongerman</th>\n",
       "      <th>cov_nongerman_male</th>\n",
       "      <th>cov_nongerman_female</th>\n",
       "    </tr>\n",
       "  </thead>\n",
       "  <tbody>\n",
       "    <tr>\n",
       "      <th>0</th>\n",
       "      <td>b8fb17d17042052c443f84a3ad1eaf4d</td>\n",
       "      <td>2012_14</td>\n",
       "      <td>5k</td>\n",
       "      <td>do-not-scale</td>\n",
       "      <td>penalized_logreg</td>\n",
       "      <td>sex</td>\n",
       "      <td>drop-non-german</td>\n",
       "      <td>0.674981</td>\n",
       "      <td>0.911337</td>\n",
       "      <td>1.208394</td>\n",
       "      <td>0.909017</td>\n",
       "      <td>0.933195</td>\n",
       "      <td>0.94542</td>\n",
       "      <td>0.912966</td>\n",
       "    </tr>\n",
       "  </tbody>\n",
       "</table>\n",
       "</div>"
      ],
      "text/plain": [
       "                        universe_id universe_training_year  \\\n",
       "0  b8fb17d17042052c443f84a3ad1eaf4d                2012_14   \n",
       "\n",
       "  universe_training_size universe_scale    universe_model  \\\n",
       "0                     5k   do-not-scale  penalized_logreg   \n",
       "\n",
       "  universe_exclude_features universe_exclude_subgroups     q_hat  coverage  \\\n",
       "0                       sex            drop-non-german  0.674981  0.911337   \n",
       "\n",
       "   avg_size  cov_frau1  cov_nongerman  cov_nongerman_male  \\\n",
       "0  1.208394   0.909017       0.933195             0.94542   \n",
       "\n",
       "   cov_nongerman_female  \n",
       "0              0.912966  "
      ]
     },
     "execution_count": 58,
     "metadata": {},
     "output_type": "execute_result"
    }
   ],
   "source": [
    "cp_metrics_df"
   ]
  },
  {
   "cell_type": "markdown",
   "id": "33774451",
   "metadata": {
    "papermill": {
     "duration": 0.023641,
     "end_time": "2025-08-05T15:42:49.471886",
     "exception": false,
     "start_time": "2025-08-05T15:42:49.448245",
     "status": "completed"
    },
    "tags": []
   },
   "source": [
    "# (Fairness) Metrics"
   ]
  },
  {
   "cell_type": "code",
   "execution_count": 59,
   "id": "debc5d62",
   "metadata": {
    "execution": {
     "iopub.execute_input": "2025-08-05T15:42:49.525826Z",
     "iopub.status.busy": "2025-08-05T15:42:49.524970Z",
     "iopub.status.idle": "2025-08-05T15:42:49.547385Z",
     "shell.execute_reply": "2025-08-05T15:42:49.546468Z"
    },
    "papermill": {
     "duration": 0.052871,
     "end_time": "2025-08-05T15:42:49.549152",
     "exception": false,
     "start_time": "2025-08-05T15:42:49.496281",
     "status": "completed"
    },
    "tags": []
   },
   "outputs": [],
   "source": [
    "# do I need to include maxdeutsch1.missing?\n",
    "\n",
    "import numpy as np\n",
    "\n",
    "colname_to_bin = \"maxdeutsch1\"\n",
    "majority_value = org_train[colname_to_bin].mode()[0]\n",
    "\n",
    "org_test[\"majmin\"] = np.where(org_test[colname_to_bin] == majority_value, \"majority\", \"minority\")"
   ]
  },
  {
   "cell_type": "code",
   "execution_count": 60,
   "id": "06a50de5",
   "metadata": {
    "execution": {
     "iopub.execute_input": "2025-08-05T15:42:49.597218Z",
     "iopub.status.busy": "2025-08-05T15:42:49.596340Z",
     "iopub.status.idle": "2025-08-05T15:42:52.466483Z",
     "shell.execute_reply": "2025-08-05T15:42:52.465352Z"
    },
    "papermill": {
     "duration": 2.895921,
     "end_time": "2025-08-05T15:42:52.468940",
     "exception": false,
     "start_time": "2025-08-05T15:42:49.573019",
     "status": "completed"
    },
    "tags": []
   },
   "outputs": [],
   "source": [
    "example_universe = universe.copy()\n",
    "example_universe[\"cutoff\"] = example_universe[\"cutoff\"][0]\n",
    "example_universe[\"eval_fairness_grouping\"] = example_universe[\"eval_fairness_grouping\"][0]\n",
    "fairness_dict, metric_frame = universe_analysis.compute_metrics(\n",
    "    example_universe,\n",
    "    y_pred_prob=probs_test,\n",
    "    y_test=y_true,\n",
    "    org_test=org_test,\n",
    ")"
   ]
  },
  {
   "cell_type": "markdown",
   "id": "f95d4e02",
   "metadata": {
    "papermill": {
     "duration": 0.026996,
     "end_time": "2025-08-05T15:42:52.529414",
     "exception": false,
     "start_time": "2025-08-05T15:42:52.502418",
     "status": "completed"
    },
    "tags": []
   },
   "source": [
    "# Overall"
   ]
  },
  {
   "cell_type": "markdown",
   "id": "bdee4871",
   "metadata": {
    "papermill": {
     "duration": 0.023845,
     "end_time": "2025-08-05T15:42:52.577349",
     "exception": false,
     "start_time": "2025-08-05T15:42:52.553504",
     "status": "completed"
    },
    "tags": []
   },
   "source": [
    "Fairness\n",
    "Main fairness target: Equalized Odds. Seems to be a better fit than equal opportunity, since we're not only interested in Y = 1. Seems to be a better fit than demographic parity, since we also care about accuracy, not just equal distribution of preds.\n",
    "\n",
    "Pick column for computation of fairness metrics\n",
    "\n",
    "Performance\n",
    "Overall performance measures, most interesting in relation to the measures split by group below"
   ]
  },
  {
   "cell_type": "code",
   "execution_count": 61,
   "id": "c4e067c6",
   "metadata": {
    "execution": {
     "iopub.execute_input": "2025-08-05T15:42:52.627977Z",
     "iopub.status.busy": "2025-08-05T15:42:52.627291Z",
     "iopub.status.idle": "2025-08-05T15:42:52.636696Z",
     "shell.execute_reply": "2025-08-05T15:42:52.635556Z"
    },
    "papermill": {
     "duration": 0.037231,
     "end_time": "2025-08-05T15:42:52.638609",
     "exception": false,
     "start_time": "2025-08-05T15:42:52.601378",
     "status": "completed"
    },
    "tags": []
   },
   "outputs": [
    {
     "data": {
      "text/plain": [
       "accuracy                   0.217780\n",
       "balanced accuracy          0.533882\n",
       "f1                         0.239292\n",
       "precision                  0.136700\n",
       "false positive rate        0.891307\n",
       "false negative rate        0.040928\n",
       "selection rate             0.900000\n",
       "count                  89710.000000\n",
       "dtype: float64"
      ]
     },
     "execution_count": 61,
     "metadata": {},
     "output_type": "execute_result"
    }
   ],
   "source": [
    "metric_frame.overall"
   ]
  },
  {
   "cell_type": "markdown",
   "id": "e968fe9d",
   "metadata": {
    "papermill": {
     "duration": 0.022012,
     "end_time": "2025-08-05T15:42:52.683821",
     "exception": false,
     "start_time": "2025-08-05T15:42:52.661809",
     "status": "completed"
    },
    "tags": []
   },
   "source": [
    "By Group"
   ]
  },
  {
   "cell_type": "code",
   "execution_count": 62,
   "id": "ec325bce",
   "metadata": {
    "execution": {
     "iopub.execute_input": "2025-08-05T15:42:52.732675Z",
     "iopub.status.busy": "2025-08-05T15:42:52.731746Z",
     "iopub.status.idle": "2025-08-05T15:42:52.748172Z",
     "shell.execute_reply": "2025-08-05T15:42:52.746994Z"
    },
    "papermill": {
     "duration": 0.042779,
     "end_time": "2025-08-05T15:42:52.750282",
     "exception": false,
     "start_time": "2025-08-05T15:42:52.707503",
     "status": "completed"
    },
    "tags": []
   },
   "outputs": [
    {
     "data": {
      "text/html": [
       "<div>\n",
       "<style scoped>\n",
       "    .dataframe tbody tr th:only-of-type {\n",
       "        vertical-align: middle;\n",
       "    }\n",
       "\n",
       "    .dataframe tbody tr th {\n",
       "        vertical-align: top;\n",
       "    }\n",
       "\n",
       "    .dataframe thead th {\n",
       "        text-align: right;\n",
       "    }\n",
       "</style>\n",
       "<table border=\"1\" class=\"dataframe\">\n",
       "  <thead>\n",
       "    <tr style=\"text-align: right;\">\n",
       "      <th></th>\n",
       "      <th>accuracy</th>\n",
       "      <th>balanced accuracy</th>\n",
       "      <th>f1</th>\n",
       "      <th>precision</th>\n",
       "      <th>false positive rate</th>\n",
       "      <th>false negative rate</th>\n",
       "      <th>selection rate</th>\n",
       "      <th>count</th>\n",
       "    </tr>\n",
       "    <tr>\n",
       "      <th>majmin</th>\n",
       "      <th></th>\n",
       "      <th></th>\n",
       "      <th></th>\n",
       "      <th></th>\n",
       "      <th></th>\n",
       "      <th></th>\n",
       "      <th></th>\n",
       "      <th></th>\n",
       "    </tr>\n",
       "  </thead>\n",
       "  <tbody>\n",
       "    <tr>\n",
       "      <th>majority</th>\n",
       "      <td>0.240379</td>\n",
       "      <td>0.542094</td>\n",
       "      <td>0.248838</td>\n",
       "      <td>0.14312</td>\n",
       "      <td>0.867999</td>\n",
       "      <td>0.047812</td>\n",
       "      <td>0.879124</td>\n",
       "      <td>69170.0</td>\n",
       "    </tr>\n",
       "    <tr>\n",
       "      <th>minority</th>\n",
       "      <td>0.141675</td>\n",
       "      <td>0.508670</td>\n",
       "      <td>0.209346</td>\n",
       "      <td>0.11711</td>\n",
       "      <td>0.968303</td>\n",
       "      <td>0.014358</td>\n",
       "      <td>0.970302</td>\n",
       "      <td>20540.0</td>\n",
       "    </tr>\n",
       "  </tbody>\n",
       "</table>\n",
       "</div>"
      ],
      "text/plain": [
       "          accuracy  balanced accuracy        f1  precision  \\\n",
       "majmin                                                       \n",
       "majority  0.240379           0.542094  0.248838    0.14312   \n",
       "minority  0.141675           0.508670  0.209346    0.11711   \n",
       "\n",
       "          false positive rate  false negative rate  selection rate    count  \n",
       "majmin                                                                       \n",
       "majority             0.867999             0.047812        0.879124  69170.0  \n",
       "minority             0.968303             0.014358        0.970302  20540.0  "
      ]
     },
     "execution_count": 62,
     "metadata": {},
     "output_type": "execute_result"
    }
   ],
   "source": [
    "metric_frame.by_group"
   ]
  },
  {
   "cell_type": "code",
   "execution_count": 63,
   "id": "a9ddbe63",
   "metadata": {
    "execution": {
     "iopub.execute_input": "2025-08-05T15:42:52.804099Z",
     "iopub.status.busy": "2025-08-05T15:42:52.803437Z",
     "iopub.status.idle": "2025-08-05T15:42:54.821525Z",
     "shell.execute_reply": "2025-08-05T15:42:54.820802Z"
    },
    "papermill": {
     "duration": 2.04578,
     "end_time": "2025-08-05T15:42:54.822826",
     "exception": false,
     "start_time": "2025-08-05T15:42:52.777046",
     "status": "completed"
    },
    "tags": []
   },
   "outputs": [
    {
     "data": {
      "text/plain": [
       "array([[<Axes: title={'center': 'accuracy'}, xlabel='majmin'>,\n",
       "        <Axes: title={'center': 'balanced accuracy'}, xlabel='majmin'>,\n",
       "        <Axes: title={'center': 'f1'}, xlabel='majmin'>],\n",
       "       [<Axes: title={'center': 'precision'}, xlabel='majmin'>,\n",
       "        <Axes: title={'center': 'false positive rate'}, xlabel='majmin'>,\n",
       "        <Axes: title={'center': 'false negative rate'}, xlabel='majmin'>],\n",
       "       [<Axes: title={'center': 'selection rate'}, xlabel='majmin'>,\n",
       "        <Axes: title={'center': 'count'}, xlabel='majmin'>,\n",
       "        <Axes: xlabel='majmin'>]], dtype=object)"
      ]
     },
     "execution_count": 63,
     "metadata": {},
     "output_type": "execute_result"
    },
    {
     "data": {
      "image/png": "[encoded data removed]",
      "text/plain": [
       "<Figure size 1200x800 with 9 Axes>"
      ]
     },
     "metadata": {},
     "output_type": "display_data"
    }
   ],
   "source": [
    "# In a graphic\n",
    "metric_frame.by_group.plot.bar(\n",
    "    subplots=True,\n",
    "    layout=[3, 3],\n",
    "    legend=False,\n",
    "    figsize=[12, 8],\n",
    "    title=\"Show all metrics\",\n",
    ")"
   ]
  },
  {
   "cell_type": "markdown",
   "id": "f57a0bac",
   "metadata": {
    "papermill": {
     "duration": 0.012354,
     "end_time": "2025-08-05T15:42:54.848669",
     "exception": false,
     "start_time": "2025-08-05T15:42:54.836315",
     "status": "completed"
    },
    "tags": []
   },
   "source": [
    "# Final Output"
   ]
  },
  {
   "cell_type": "code",
   "execution_count": 64,
   "id": "96d280a3",
   "metadata": {
    "execution": {
     "iopub.execute_input": "2025-08-05T15:42:54.899022Z",
     "iopub.status.busy": "2025-08-05T15:42:54.897871Z",
     "iopub.status.idle": "2025-08-05T15:42:54.906298Z",
     "shell.execute_reply": "2025-08-05T15:42:54.905182Z"
    },
    "papermill": {
     "duration": 0.038506,
     "end_time": "2025-08-05T15:42:54.908015",
     "exception": false,
     "start_time": "2025-08-05T15:42:54.869509",
     "status": "completed"
    },
    "tags": []
   },
   "outputs": [
    {
     "data": {
      "text/plain": [
       "4"
      ]
     },
     "execution_count": 64,
     "metadata": {},
     "output_type": "execute_result"
    }
   ],
   "source": [
    "sub_universes = universe_analysis.generate_sub_universes()\n",
    "len(sub_universes)"
   ]
  },
  {
   "cell_type": "code",
   "execution_count": 65,
   "id": "92adf7ba",
   "metadata": {
    "execution": {
     "iopub.execute_input": "2025-08-05T15:42:54.960635Z",
     "iopub.status.busy": "2025-08-05T15:42:54.959806Z",
     "iopub.status.idle": "2025-08-05T15:42:54.966044Z",
     "shell.execute_reply": "2025-08-05T15:42:54.964998Z"
    },
    "papermill": {
     "duration": 0.034522,
     "end_time": "2025-08-05T15:42:54.968020",
     "exception": false,
     "start_time": "2025-08-05T15:42:54.933498",
     "status": "completed"
    },
    "tags": []
   },
   "outputs": [],
   "source": [
    "def filter_sub_universe_data(sub_universe, org_test):\n",
    "    # Keep all rows — no filtering\n",
    "    keep_rows_mask = np.ones(org_test.shape[0], dtype=bool)\n",
    "\n",
    "    print(f\"[INFO] Keeping all rows: {keep_rows_mask.sum()} rows retained.\")\n",
    "    return keep_rows_mask"
   ]
  },
  {
   "cell_type": "code",
   "execution_count": 66,
   "id": "4a759155",
   "metadata": {
    "execution": {
     "iopub.execute_input": "2025-08-05T15:42:55.020403Z",
     "iopub.status.busy": "2025-08-05T15:42:55.019748Z",
     "iopub.status.idle": "2025-08-05T15:43:04.404692Z",
     "shell.execute_reply": "2025-08-05T15:43:04.403661Z"
    },
    "papermill": {
     "duration": 9.41262,
     "end_time": "2025-08-05T15:43:04.406622",
     "exception": false,
     "start_time": "2025-08-05T15:42:54.994002",
     "status": "completed"
    },
    "tags": []
   },
   "outputs": [
    {
     "name": "stdout",
     "output_type": "stream",
     "text": [
      "Stopping execution_time clock.\n",
      "[INFO] Keeping all rows: 89710 rows retained.\n"
     ]
    },
    {
     "name": "stdout",
     "output_type": "stream",
     "text": [
      "[INFO] Keeping all rows: 89710 rows retained.\n"
     ]
    },
    {
     "name": "stdout",
     "output_type": "stream",
     "text": [
      "[INFO] Keeping all rows: 89710 rows retained.\n"
     ]
    },
    {
     "name": "stdout",
     "output_type": "stream",
     "text": [
      "[INFO] Keeping all rows: 89710 rows retained.\n"
     ]
    },
    {
     "data": {
      "text/html": [
       "<div>\n",
       "<style scoped>\n",
       "    .dataframe tbody tr th:only-of-type {\n",
       "        vertical-align: middle;\n",
       "    }\n",
       "\n",
       "    .dataframe tbody tr th {\n",
       "        vertical-align: top;\n",
       "    }\n",
       "\n",
       "    .dataframe thead th {\n",
       "        text-align: right;\n",
       "    }\n",
       "</style>\n",
       "<table border=\"1\" class=\"dataframe\">\n",
       "  <thead>\n",
       "    <tr style=\"text-align: right;\">\n",
       "      <th></th>\n",
       "      <th>run_no</th>\n",
       "      <th>universe_id</th>\n",
       "      <th>universe_settings</th>\n",
       "      <th>execution_time</th>\n",
       "      <th>test_size_n</th>\n",
       "      <th>test_size_frac</th>\n",
       "      <th>fair_main_equalized_odds_difference</th>\n",
       "      <th>fair_main_equalized_odds_ratio</th>\n",
       "      <th>fair_main_demographic_parity_difference</th>\n",
       "      <th>fair_main_demographic_parity_ratio</th>\n",
       "      <th>...</th>\n",
       "      <th>perf_grp_precision_0</th>\n",
       "      <th>perf_grp_precision_1</th>\n",
       "      <th>perf_grp_false positive rate_0</th>\n",
       "      <th>perf_grp_false positive rate_1</th>\n",
       "      <th>perf_grp_false negative rate_0</th>\n",
       "      <th>perf_grp_false negative rate_1</th>\n",
       "      <th>perf_grp_selection rate_0</th>\n",
       "      <th>perf_grp_selection rate_1</th>\n",
       "      <th>perf_grp_count_0</th>\n",
       "      <th>perf_grp_count_1</th>\n",
       "    </tr>\n",
       "  </thead>\n",
       "  <tbody>\n",
       "    <tr>\n",
       "      <th>0</th>\n",
       "      <td>15</td>\n",
       "      <td>b8fb17d17042052c443f84a3ad1eaf4d</td>\n",
       "      <td>{\"cutoff\": \"quantile_0.1\", \"eval_fairness_grou...</td>\n",
       "      <td>24.431237</td>\n",
       "      <td>89710</td>\n",
       "      <td>1.0</td>\n",
       "      <td>0.100304</td>\n",
       "      <td>0.896413</td>\n",
       "      <td>0.091178</td>\n",
       "      <td>0.906031</td>\n",
       "      <td>...</td>\n",
       "      <td>NaN</td>\n",
       "      <td>NaN</td>\n",
       "      <td>NaN</td>\n",
       "      <td>NaN</td>\n",
       "      <td>NaN</td>\n",
       "      <td>NaN</td>\n",
       "      <td>NaN</td>\n",
       "      <td>NaN</td>\n",
       "      <td>NaN</td>\n",
       "      <td>NaN</td>\n",
       "    </tr>\n",
       "    <tr>\n",
       "      <th>0</th>\n",
       "      <td>15</td>\n",
       "      <td>b8fb17d17042052c443f84a3ad1eaf4d</td>\n",
       "      <td>{\"cutoff\": \"quantile_0.1\", \"eval_fairness_grou...</td>\n",
       "      <td>24.431237</td>\n",
       "      <td>89710</td>\n",
       "      <td>1.0</td>\n",
       "      <td>0.100304</td>\n",
       "      <td>0.896413</td>\n",
       "      <td>0.091178</td>\n",
       "      <td>0.906031</td>\n",
       "      <td>...</td>\n",
       "      <td>0.117110</td>\n",
       "      <td>0.143120</td>\n",
       "      <td>0.968303</td>\n",
       "      <td>0.867999</td>\n",
       "      <td>0.014358</td>\n",
       "      <td>0.047812</td>\n",
       "      <td>0.970302</td>\n",
       "      <td>0.879124</td>\n",
       "      <td>20540.0</td>\n",
       "      <td>69170.0</td>\n",
       "    </tr>\n",
       "    <tr>\n",
       "      <th>0</th>\n",
       "      <td>15</td>\n",
       "      <td>b8fb17d17042052c443f84a3ad1eaf4d</td>\n",
       "      <td>{\"cutoff\": \"quantile_0.25\", \"eval_fairness_gro...</td>\n",
       "      <td>24.431237</td>\n",
       "      <td>89710</td>\n",
       "      <td>1.0</td>\n",
       "      <td>0.226487</td>\n",
       "      <td>0.749530</td>\n",
       "      <td>0.207178</td>\n",
       "      <td>0.772266</td>\n",
       "      <td>...</td>\n",
       "      <td>NaN</td>\n",
       "      <td>NaN</td>\n",
       "      <td>NaN</td>\n",
       "      <td>NaN</td>\n",
       "      <td>NaN</td>\n",
       "      <td>NaN</td>\n",
       "      <td>NaN</td>\n",
       "      <td>NaN</td>\n",
       "      <td>NaN</td>\n",
       "      <td>NaN</td>\n",
       "    </tr>\n",
       "    <tr>\n",
       "      <th>0</th>\n",
       "      <td>15</td>\n",
       "      <td>b8fb17d17042052c443f84a3ad1eaf4d</td>\n",
       "      <td>{\"cutoff\": \"quantile_0.25\", \"eval_fairness_gro...</td>\n",
       "      <td>24.431237</td>\n",
       "      <td>89710</td>\n",
       "      <td>1.0</td>\n",
       "      <td>0.226487</td>\n",
       "      <td>0.749530</td>\n",
       "      <td>0.207178</td>\n",
       "      <td>0.772266</td>\n",
       "      <td>...</td>\n",
       "      <td>0.120625</td>\n",
       "      <td>0.162771</td>\n",
       "      <td>0.904248</td>\n",
       "      <td>0.677761</td>\n",
       "      <td>0.048142</td>\n",
       "      <td>0.134573</td>\n",
       "      <td>0.909737</td>\n",
       "      <td>0.702559</td>\n",
       "      <td>20540.0</td>\n",
       "      <td>69170.0</td>\n",
       "    </tr>\n",
       "  </tbody>\n",
       "</table>\n",
       "<p>4 rows × 50 columns</p>\n",
       "</div>"
      ],
      "text/plain": [
       "  run_no                       universe_id  \\\n",
       "0     15  b8fb17d17042052c443f84a3ad1eaf4d   \n",
       "0     15  b8fb17d17042052c443f84a3ad1eaf4d   \n",
       "0     15  b8fb17d17042052c443f84a3ad1eaf4d   \n",
       "0     15  b8fb17d17042052c443f84a3ad1eaf4d   \n",
       "\n",
       "                                   universe_settings  execution_time  \\\n",
       "0  {\"cutoff\": \"quantile_0.1\", \"eval_fairness_grou...       24.431237   \n",
       "0  {\"cutoff\": \"quantile_0.1\", \"eval_fairness_grou...       24.431237   \n",
       "0  {\"cutoff\": \"quantile_0.25\", \"eval_fairness_gro...       24.431237   \n",
       "0  {\"cutoff\": \"quantile_0.25\", \"eval_fairness_gro...       24.431237   \n",
       "\n",
       "   test_size_n  test_size_frac  fair_main_equalized_odds_difference  \\\n",
       "0        89710             1.0                             0.100304   \n",
       "0        89710             1.0                             0.100304   \n",
       "0        89710             1.0                             0.226487   \n",
       "0        89710             1.0                             0.226487   \n",
       "\n",
       "   fair_main_equalized_odds_ratio  fair_main_demographic_parity_difference  \\\n",
       "0                        0.896413                                 0.091178   \n",
       "0                        0.896413                                 0.091178   \n",
       "0                        0.749530                                 0.207178   \n",
       "0                        0.749530                                 0.207178   \n",
       "\n",
       "   fair_main_demographic_parity_ratio  ...  perf_grp_precision_0  \\\n",
       "0                            0.906031  ...                   NaN   \n",
       "0                            0.906031  ...              0.117110   \n",
       "0                            0.772266  ...                   NaN   \n",
       "0                            0.772266  ...              0.120625   \n",
       "\n",
       "   perf_grp_precision_1  perf_grp_false positive rate_0  \\\n",
       "0                   NaN                             NaN   \n",
       "0              0.143120                        0.968303   \n",
       "0                   NaN                             NaN   \n",
       "0              0.162771                        0.904248   \n",
       "\n",
       "   perf_grp_false positive rate_1  perf_grp_false negative rate_0  \\\n",
       "0                             NaN                             NaN   \n",
       "0                        0.867999                        0.014358   \n",
       "0                             NaN                             NaN   \n",
       "0                        0.677761                        0.048142   \n",
       "\n",
       "   perf_grp_false negative rate_1  perf_grp_selection rate_0  \\\n",
       "0                             NaN                        NaN   \n",
       "0                        0.047812                   0.970302   \n",
       "0                             NaN                        NaN   \n",
       "0                        0.134573                   0.909737   \n",
       "\n",
       "   perf_grp_selection rate_1  perf_grp_count_0  perf_grp_count_1  \n",
       "0                        NaN               NaN               NaN  \n",
       "0                   0.879124           20540.0           69170.0  \n",
       "0                        NaN               NaN               NaN  \n",
       "0                   0.702559           20540.0           69170.0  \n",
       "\n",
       "[4 rows x 50 columns]"
      ]
     },
     "execution_count": 66,
     "metadata": {},
     "output_type": "execute_result"
    }
   ],
   "source": [
    "final_output = universe_analysis.generate_final_output(\n",
    "    y_pred_prob=probs_test,\n",
    "    y_test=y_true,\n",
    "    org_test=org_test,\n",
    "    filter_data=filter_sub_universe_data,\n",
    "    cp_metrics_df=cp_metrics_df,\n",
    "    save=True,\n",
    ")\n",
    "final_output"
   ]
  }
 ],
 "metadata": {
  "celltoolbar": "Tags",
  "kernelspec": {
   "display_name": "Python (CMA Fairness)",
   "language": "python",
   "name": "cma_fair_env"
  },
  "language_info": {
   "codemirror_mode": {
    "name": "ipython",
    "version": 3
   },
   "file_extension": ".py",
   "mimetype": "text/x-python",
   "name": "python",
   "nbconvert_exporter": "python",
   "pygments_lexer": "ipython3",
   "version": "3.10.12"
  },
  "papermill": {
   "default_parameters": {},
   "duration": 38.000326,
   "end_time": "2025-08-05T15:43:05.160330",
   "environment_variables": {},
   "exception": null,
   "input_path": "universe_analysis.ipynb",
   "output_path": "output/runs/15/notebooks/m_15-b8fb17d17042052c443f84a3ad1eaf4d.ipynb",
   "parameters": {
    "output_dir": "output",
    "run_no": "15",
    "seed": "2023",
    "universe": "{\"cutoff\": [\"quantile_0.1\", \"quantile_0.25\"], \"eval_fairness_grouping\": [\"majority-minority\", \"nationality-all\"], \"exclude_features\": \"sex\", \"exclude_subgroups\": \"drop-non-german\", \"model\": \"penalized_logreg\", \"scale\": \"do-not-scale\", \"training_size\": \"5k\", \"training_year\": \"2012_14\"}",
    "universe_id": "b8fb17d17042052c443f84a3ad1eaf4d"
   },
   "start_time": "2025-08-05T15:42:27.160004",
   "version": "2.6.0"
  }
 },
 "nbformat": 4,
 "nbformat_minor": 5
}