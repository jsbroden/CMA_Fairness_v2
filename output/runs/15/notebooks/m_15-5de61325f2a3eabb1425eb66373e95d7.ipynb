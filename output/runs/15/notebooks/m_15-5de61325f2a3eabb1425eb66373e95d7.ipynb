{
 "cells": [
  {
   "cell_type": "code",
   "execution_count": 1,
   "id": "f159f837-637b-42ba-96b5-ec9a68c44524",
   "metadata": {
    "execution": {
     "iopub.execute_input": "2025-08-05T15:36:16.347850Z",
     "iopub.status.busy": "2025-08-05T15:36:16.347420Z",
     "iopub.status.idle": "2025-08-05T15:36:16.361108Z",
     "shell.execute_reply": "2025-08-05T15:36:16.360118Z"
    },
    "papermill": {
     "duration": 0.031117,
     "end_time": "2025-08-05T15:36:16.362625",
     "exception": false,
     "start_time": "2025-08-05T15:36:16.331508",
     "status": "completed"
    },
    "tags": []
   },
   "outputs": [
    {
     "name": "stdout",
     "output_type": "stream",
     "text": [
      "/dss/dsshome1/0C/ra93lal2/cma/CMA_Fairness_v2\n"
     ]
    },
    {
     "name": "stderr",
     "output_type": "stream",
     "text": [
      "/dss/dsshome1/0C/ra93lal2/.local/share/virtualenvs/CMA_Fairness_v2-3j10GkSs/lib/python3.10/site-packages/IPython/core/magics/osm.py:393: UserWarning: This is now an optional IPython functionality, using bookmarks requires you to install the `pickleshare` library.\n",
      "  bkms = self.shell.db.get('bookmarks', {})\n",
      "/dss/dsshome1/0C/ra93lal2/.local/share/virtualenvs/CMA_Fairness_v2-3j10GkSs/lib/python3.10/site-packages/IPython/core/magics/osm.py:417: UserWarning: This is now an optional IPython functionality, setting dhist requires you to install the `pickleshare` library.\n",
      "  self.shell.db['dhist'] = compress_dhist(dhist)[-100:]\n"
     ]
    }
   ],
   "source": [
    "%cd ~/cma/CMA_Fairness_v2"
   ]
  },
  {
   "cell_type": "markdown",
   "id": "de2603b9",
   "metadata": {
    "papermill": {
     "duration": 0.015572,
     "end_time": "2025-08-05T15:36:16.393461",
     "exception": false,
     "start_time": "2025-08-05T15:36:16.377889",
     "status": "completed"
    },
    "tags": []
   },
   "source": [
    "The following cell holds the definition of our parameters, these values can be overriden by rendering the with e.g. the following command:\n",
    "\n",
    "papermill -p alpha 0.2 -p ratio 0.3 universe_analysis.ipynb output/test_run.ipynb"
   ]
  },
  {
   "cell_type": "code",
   "execution_count": 2,
   "id": "a80968a0-40bb-4fa9-85ef-2d5eefb01975",
   "metadata": {
    "execution": {
     "iopub.execute_input": "2025-08-05T15:36:16.426469Z",
     "iopub.status.busy": "2025-08-05T15:36:16.425759Z",
     "iopub.status.idle": "2025-08-05T15:36:16.431734Z",
     "shell.execute_reply": "2025-08-05T15:36:16.430796Z"
    },
    "papermill": {
     "duration": 0.024247,
     "end_time": "2025-08-05T15:36:16.433538",
     "exception": false,
     "start_time": "2025-08-05T15:36:16.409291",
     "status": "completed"
    },
    "tags": []
   },
   "outputs": [
    {
     "name": "stdout",
     "output_type": "stream",
     "text": [
      "Current working directory: /dss/dsshome1/0C/ra93lal2/cma/CMA_Fairness_v2\n"
     ]
    }
   ],
   "source": [
    "import os\n",
    "print(\"Current working directory:\", os.getcwd())"
   ]
  },
  {
   "cell_type": "code",
   "execution_count": 3,
   "id": "2dce4c03",
   "metadata": {
    "execution": {
     "iopub.execute_input": "2025-08-05T15:36:16.464882Z",
     "iopub.status.busy": "2025-08-05T15:36:16.464449Z",
     "iopub.status.idle": "2025-08-05T15:36:16.470398Z",
     "shell.execute_reply": "2025-08-05T15:36:16.469371Z"
    },
    "papermill": {
     "duration": 0.023145,
     "end_time": "2025-08-05T15:36:16.472028",
     "exception": false,
     "start_time": "2025-08-05T15:36:16.448883",
     "status": "completed"
    },
    "tags": [
     "parameters"
    ]
   },
   "outputs": [],
   "source": [
    "run_no = 0\n",
    "universe_id = \"test\"\n",
    "universe = {\n",
    "    \"training_size\": \"25k\", # \"25k\", \"5k\", \"1k\"\n",
    "    \"training_year\": \"2014\", # \"2014\", \"2012_14\", \"2010_14\"\n",
    "    \"scale\": \"scale\", # \"scale\", \"do-not-scale\",\n",
    "    \"model\": \"elasticnet\", # \"logreg\", \"penalized_logreg\", \"rf\", \"gbm\", \"elasticnet\"\n",
    "    \"cutoff\": [\"quantile_0.15\", \"quantile_0.30\"],\n",
    "    \"exclude_features\": \"age\", # \"none\", \"nationality\", \"sex\", \"nationality-sex\", \"age\"\n",
    "    \"exclude_subgroups\": \"keep-all\", # \"keep-all\", \"drop-non-german\"\n",
    "    \"eval_fairness_grouping\": [\"majority-minority\", \"nationality-all\"]\n",
    "}\n",
    "\n",
    "output_dir=\"./output\"\n",
    "seed=0"
   ]
  },
  {
   "cell_type": "code",
   "execution_count": 4,
   "id": "7393ca96",
   "metadata": {
    "execution": {
     "iopub.execute_input": "2025-08-05T15:36:16.504586Z",
     "iopub.status.busy": "2025-08-05T15:36:16.503784Z",
     "iopub.status.idle": "2025-08-05T15:36:16.509127Z",
     "shell.execute_reply": "2025-08-05T15:36:16.508166Z"
    },
    "papermill": {
     "duration": 0.023501,
     "end_time": "2025-08-05T15:36:16.510956",
     "exception": false,
     "start_time": "2025-08-05T15:36:16.487455",
     "status": "completed"
    },
    "tags": [
     "injected-parameters"
    ]
   },
   "outputs": [],
   "source": [
    "# Parameters\n",
    "universe_id = \"5de61325f2a3eabb1425eb66373e95d7\"\n",
    "run_no = \"15\"\n",
    "universe = \"{\\\"cutoff\\\": [\\\"quantile_0.1\\\", \\\"quantile_0.25\\\"], \\\"eval_fairness_grouping\\\": [\\\"majority-minority\\\", \\\"nationality-all\\\"], \\\"exclude_features\\\": \\\"age\\\", \\\"exclude_subgroups\\\": \\\"drop-non-german\\\", \\\"model\\\": \\\"penalized_logreg\\\", \\\"scale\\\": \\\"scale\\\", \\\"training_size\\\": \\\"5k\\\", \\\"training_year\\\": \\\"2012_14\\\"}\"\n",
    "output_dir = \"output\"\n",
    "seed = \"2023\"\n"
   ]
  },
  {
   "cell_type": "code",
   "execution_count": 5,
   "id": "1650acaf",
   "metadata": {
    "execution": {
     "iopub.execute_input": "2025-08-05T15:36:16.548368Z",
     "iopub.status.busy": "2025-08-05T15:36:16.547729Z",
     "iopub.status.idle": "2025-08-05T15:36:16.552827Z",
     "shell.execute_reply": "2025-08-05T15:36:16.551762Z"
    },
    "papermill": {
     "duration": 0.025233,
     "end_time": "2025-08-05T15:36:16.554636",
     "exception": false,
     "start_time": "2025-08-05T15:36:16.529403",
     "status": "completed"
    },
    "tags": []
   },
   "outputs": [],
   "source": [
    "import json\n",
    "if isinstance(universe, str):\n",
    "    universe = json.loads(universe)"
   ]
  },
  {
   "cell_type": "code",
   "execution_count": 6,
   "id": "16620c48",
   "metadata": {
    "execution": {
     "iopub.execute_input": "2025-08-05T15:36:16.589957Z",
     "iopub.status.busy": "2025-08-05T15:36:16.589619Z",
     "iopub.status.idle": "2025-08-05T15:36:16.633048Z",
     "shell.execute_reply": "2025-08-05T15:36:16.630192Z"
    },
    "papermill": {
     "duration": 0.062764,
     "end_time": "2025-08-05T15:36:16.634658",
     "exception": false,
     "start_time": "2025-08-05T15:36:16.571894",
     "status": "completed"
    },
    "tags": []
   },
   "outputs": [],
   "source": [
    "# Auto-reload the custom package\n",
    "%load_ext autoreload\n",
    "%autoreload 1\n",
    "%aimport fairness_multiverse"
   ]
  },
  {
   "cell_type": "code",
   "execution_count": 7,
   "id": "01c5c9f3",
   "metadata": {
    "execution": {
     "iopub.execute_input": "2025-08-05T15:36:16.669881Z",
     "iopub.status.busy": "2025-08-05T15:36:16.669403Z",
     "iopub.status.idle": "2025-08-05T15:36:18.660267Z",
     "shell.execute_reply": "2025-08-05T15:36:18.659320Z"
    },
    "papermill": {
     "duration": 2.010335,
     "end_time": "2025-08-05T15:36:18.662160",
     "exception": false,
     "start_time": "2025-08-05T15:36:16.651825",
     "status": "completed"
    },
    "tags": []
   },
   "outputs": [],
   "source": [
    "from fairness_multiverse.universe import UniverseAnalysis\n",
    "\n",
    "universe_analysis = UniverseAnalysis(\n",
    "    run_no = run_no,\n",
    "    universe_id = universe_id,\n",
    "    universe = universe,\n",
    "    output_dir=output_dir,\n",
    ")"
   ]
  },
  {
   "cell_type": "code",
   "execution_count": 8,
   "id": "106241f5",
   "metadata": {
    "execution": {
     "iopub.execute_input": "2025-08-05T15:36:18.695590Z",
     "iopub.status.busy": "2025-08-05T15:36:18.695130Z",
     "iopub.status.idle": "2025-08-05T15:36:18.701452Z",
     "shell.execute_reply": "2025-08-05T15:36:18.700380Z"
    },
    "papermill": {
     "duration": 0.024245,
     "end_time": "2025-08-05T15:36:18.703439",
     "exception": false,
     "start_time": "2025-08-05T15:36:18.679194",
     "status": "completed"
    },
    "tags": []
   },
   "outputs": [
    {
     "name": "stdout",
     "output_type": "stream",
     "text": [
      "Using Seed: 2023\n"
     ]
    }
   ],
   "source": [
    "import numpy as np\n",
    "parsed_seed = int(seed)\n",
    "np.random.seed(parsed_seed)\n",
    "print(f\"Using Seed: {parsed_seed}\")"
   ]
  },
  {
   "cell_type": "markdown",
   "id": "e0ebdc57",
   "metadata": {
    "papermill": {
     "duration": 0.016779,
     "end_time": "2025-08-05T15:36:18.737499",
     "exception": false,
     "start_time": "2025-08-05T15:36:18.720720",
     "status": "completed"
    },
    "tags": []
   },
   "source": [
    "# Loading Data"
   ]
  },
  {
   "cell_type": "code",
   "execution_count": 9,
   "id": "f0496b8a",
   "metadata": {
    "execution": {
     "iopub.execute_input": "2025-08-05T15:36:18.776284Z",
     "iopub.status.busy": "2025-08-05T15:36:18.775713Z",
     "iopub.status.idle": "2025-08-05T15:36:30.436878Z",
     "shell.execute_reply": "2025-08-05T15:36:30.434984Z"
    },
    "papermill": {
     "duration": 11.681887,
     "end_time": "2025-08-05T15:36:30.439032",
     "exception": false,
     "start_time": "2025-08-05T15:36:18.757145",
     "status": "completed"
    },
    "tags": []
   },
   "outputs": [
    {
     "name": "stdout",
     "output_type": "stream",
     "text": [
      "Loading SIAB data from cache: data/siab_cached.csv.gz\n"
     ]
    },
    {
     "name": "stdout",
     "output_type": "stream",
     "text": [
      "(643690, 164)\n"
     ]
    }
   ],
   "source": [
    "from pathlib import Path\n",
    "import pandas as pd\n",
    "\n",
    "# File paths\n",
    "raw_file = Path(\"data/raw/siab.csv\")\n",
    "cache_file = Path(\"data/siab_cached.csv.gz\")\n",
    "\n",
    "# Ensure cache directory exists\n",
    "cache_file.parent.mkdir(parents=True, exist_ok=True)\n",
    "\n",
    "# Load with simple caching\n",
    "if cache_file.exists():\n",
    "    print(f\"Loading SIAB data from cache: {cache_file}\")\n",
    "    siab = pd.read_csv(cache_file, compression='gzip')\n",
    "else:\n",
    "    print(f\"Cache not found. Reading raw SIAB data: {raw_file}\")\n",
    "    siab = pd.read_csv(raw_file)\n",
    "    siab.to_csv(cache_file, index=False, compression='gzip')\n",
    "    print(f\"Cached SIAB data to: {cache_file}\")\n",
    "\n",
    "print(siab.shape)"
   ]
  },
  {
   "cell_type": "code",
   "execution_count": 10,
   "id": "db0ca512-5f53-4dba-abdb-a2888bca41ba",
   "metadata": {
    "execution": {
     "iopub.execute_input": "2025-08-05T15:36:30.491170Z",
     "iopub.status.busy": "2025-08-05T15:36:30.490590Z",
     "iopub.status.idle": "2025-08-05T15:36:30.497155Z",
     "shell.execute_reply": "2025-08-05T15:36:30.495984Z"
    },
    "papermill": {
     "duration": 0.034563,
     "end_time": "2025-08-05T15:36:30.499510",
     "exception": false,
     "start_time": "2025-08-05T15:36:30.464947",
     "status": "completed"
    },
    "tags": []
   },
   "outputs": [],
   "source": [
    "#siab"
   ]
  },
  {
   "cell_type": "markdown",
   "id": "997051c5-15bd-4b69-9786-c3001a3ce484",
   "metadata": {
    "papermill": {
     "duration": 0.023894,
     "end_time": "2025-08-05T15:36:30.548117",
     "exception": false,
     "start_time": "2025-08-05T15:36:30.524223",
     "status": "completed"
    },
    "tags": []
   },
   "source": [
    "# Splitting Data and Setting Training Data Size"
   ]
  },
  {
   "cell_type": "code",
   "execution_count": 11,
   "id": "aea9c6ef-6f46-42c8-85eb-5a62025c1508",
   "metadata": {
    "execution": {
     "iopub.execute_input": "2025-08-05T15:36:30.598102Z",
     "iopub.status.busy": "2025-08-05T15:36:30.597694Z",
     "iopub.status.idle": "2025-08-05T15:36:31.205317Z",
     "shell.execute_reply": "2025-08-05T15:36:31.204226Z"
    },
    "papermill": {
     "duration": 0.635469,
     "end_time": "2025-08-05T15:36:31.207659",
     "exception": false,
     "start_time": "2025-08-05T15:36:30.572190",
     "status": "completed"
    },
    "tags": []
   },
   "outputs": [],
   "source": [
    "from fairness_multiverse.universe import sample_by_year_size\n",
    "\n",
    "siab_train = sample_by_year_size(siab,\n",
    "                               training_year=universe[\"training_year\"],\n",
    "                               training_size=universe[\"training_size\"])"
   ]
  },
  {
   "cell_type": "code",
   "execution_count": 12,
   "id": "8d3afb32-789d-442c-8d5d-9f5aa8dd2eed",
   "metadata": {
    "execution": {
     "iopub.execute_input": "2025-08-05T15:36:31.255998Z",
     "iopub.status.busy": "2025-08-05T15:36:31.255231Z",
     "iopub.status.idle": "2025-08-05T15:36:31.261239Z",
     "shell.execute_reply": "2025-08-05T15:36:31.260114Z"
    },
    "papermill": {
     "duration": 0.032351,
     "end_time": "2025-08-05T15:36:31.263195",
     "exception": false,
     "start_time": "2025-08-05T15:36:31.230844",
     "status": "completed"
    },
    "tags": []
   },
   "outputs": [],
   "source": [
    "#siab_train.shape"
   ]
  },
  {
   "cell_type": "code",
   "execution_count": 13,
   "id": "d582db68-1a4c-47fb-84fc-08518dc1975a",
   "metadata": {
    "execution": {
     "iopub.execute_input": "2025-08-05T15:36:31.305379Z",
     "iopub.status.busy": "2025-08-05T15:36:31.304978Z",
     "iopub.status.idle": "2025-08-05T15:36:31.310054Z",
     "shell.execute_reply": "2025-08-05T15:36:31.308920Z"
    },
    "papermill": {
     "duration": 0.033543,
     "end_time": "2025-08-05T15:36:31.316147",
     "exception": false,
     "start_time": "2025-08-05T15:36:31.282604",
     "status": "completed"
    },
    "tags": []
   },
   "outputs": [],
   "source": [
    "#display(siab_train.groupby(\"year\").size())"
   ]
  },
  {
   "cell_type": "code",
   "execution_count": 14,
   "id": "a561edb4-d032-42cb-8256-22eac1111c64",
   "metadata": {
    "execution": {
     "iopub.execute_input": "2025-08-05T15:36:31.353185Z",
     "iopub.status.busy": "2025-08-05T15:36:31.352403Z",
     "iopub.status.idle": "2025-08-05T15:36:31.575128Z",
     "shell.execute_reply": "2025-08-05T15:36:31.574365Z"
    },
    "papermill": {
     "duration": 0.242325,
     "end_time": "2025-08-05T15:36:31.576706",
     "exception": false,
     "start_time": "2025-08-05T15:36:31.334381",
     "status": "completed"
    },
    "tags": []
   },
   "outputs": [],
   "source": [
    "#siab_train = siab_s[siab_s.year < 2015]\n",
    "siab_calib = siab[siab.year == 2015]\n",
    "siab_test = siab[siab.year == 2016]"
   ]
  },
  {
   "cell_type": "code",
   "execution_count": 15,
   "id": "472de16f-c3db-4916-846b-1f0de9cf1746",
   "metadata": {
    "execution": {
     "iopub.execute_input": "2025-08-05T15:36:31.597233Z",
     "iopub.status.busy": "2025-08-05T15:36:31.596586Z",
     "iopub.status.idle": "2025-08-05T15:36:31.604247Z",
     "shell.execute_reply": "2025-08-05T15:36:31.603293Z"
    },
    "papermill": {
     "duration": 0.019495,
     "end_time": "2025-08-05T15:36:31.605927",
     "exception": false,
     "start_time": "2025-08-05T15:36:31.586432",
     "status": "completed"
    },
    "tags": []
   },
   "outputs": [],
   "source": [
    "X_train = siab_train.iloc[:,4:164]\n",
    "y_train = siab_train.iloc[:, [3]]"
   ]
  },
  {
   "cell_type": "code",
   "execution_count": 16,
   "id": "828c96af-f43a-4ed6-ba47-8ac73a47d56c",
   "metadata": {
    "execution": {
     "iopub.execute_input": "2025-08-05T15:36:31.627063Z",
     "iopub.status.busy": "2025-08-05T15:36:31.626298Z",
     "iopub.status.idle": "2025-08-05T15:36:31.673796Z",
     "shell.execute_reply": "2025-08-05T15:36:31.672929Z"
    },
    "papermill": {
     "duration": 0.059234,
     "end_time": "2025-08-05T15:36:31.675347",
     "exception": false,
     "start_time": "2025-08-05T15:36:31.616113",
     "status": "completed"
    },
    "tags": []
   },
   "outputs": [],
   "source": [
    "X_calib = siab_calib.iloc[:,4:164]\n",
    "y_calib = siab_calib.iloc[:, [3]]"
   ]
  },
  {
   "cell_type": "code",
   "execution_count": 17,
   "id": "c34be9c3-6bd6-476e-acd3-845840e303be",
   "metadata": {
    "execution": {
     "iopub.execute_input": "2025-08-05T15:36:31.696769Z",
     "iopub.status.busy": "2025-08-05T15:36:31.696052Z",
     "iopub.status.idle": "2025-08-05T15:36:31.752393Z",
     "shell.execute_reply": "2025-08-05T15:36:31.751115Z"
    },
    "papermill": {
     "duration": 0.06861,
     "end_time": "2025-08-05T15:36:31.754289",
     "exception": false,
     "start_time": "2025-08-05T15:36:31.685679",
     "status": "completed"
    },
    "tags": []
   },
   "outputs": [],
   "source": [
    "X_test = siab_test.iloc[:,4:164]\n",
    "y_true = siab_test.iloc[:, [3]]"
   ]
  },
  {
   "cell_type": "code",
   "execution_count": 18,
   "id": "e6c733c5",
   "metadata": {
    "execution": {
     "iopub.execute_input": "2025-08-05T15:36:31.776938Z",
     "iopub.status.busy": "2025-08-05T15:36:31.776499Z",
     "iopub.status.idle": "2025-08-05T15:36:31.868573Z",
     "shell.execute_reply": "2025-08-05T15:36:31.867647Z"
    },
    "papermill": {
     "duration": 0.104318,
     "end_time": "2025-08-05T15:36:31.870445",
     "exception": false,
     "start_time": "2025-08-05T15:36:31.766127",
     "status": "completed"
    },
    "tags": []
   },
   "outputs": [],
   "source": [
    "# Auxiliary data needed downstream in the pipeline\n",
    "\n",
    "org_train = X_train.copy()\n",
    "org_test = X_test.copy()\n",
    "org_calib = X_calib.copy()"
   ]
  },
  {
   "cell_type": "markdown",
   "id": "0a4a1b33",
   "metadata": {
    "papermill": {
     "duration": 0.012743,
     "end_time": "2025-08-05T15:36:31.901908",
     "exception": false,
     "start_time": "2025-08-05T15:36:31.889165",
     "status": "completed"
    },
    "tags": []
   },
   "source": [
    "# Preprocessing Data"
   ]
  },
  {
   "cell_type": "code",
   "execution_count": 19,
   "id": "ca879031",
   "metadata": {
    "execution": {
     "iopub.execute_input": "2025-08-05T15:36:31.921436Z",
     "iopub.status.busy": "2025-08-05T15:36:31.921067Z",
     "iopub.status.idle": "2025-08-05T15:36:31.926158Z",
     "shell.execute_reply": "2025-08-05T15:36:31.925187Z"
    },
    "papermill": {
     "duration": 0.016769,
     "end_time": "2025-08-05T15:36:31.927764",
     "exception": false,
     "start_time": "2025-08-05T15:36:31.910995",
     "status": "completed"
    },
    "tags": []
   },
   "outputs": [],
   "source": [
    "# EXCLUDE PROTECTED FEATURES\n",
    "# ----------------------\n",
    "# \"exclude_features\": \"none\", # \"nationality\", \"sex\", \"nationality-sex\"\n",
    "\n",
    "excluded_features = universe[\"exclude_features\"].split(\"-\") # split, e.g.: \"nationality-sex\" -> [\"nationality\", \"sex\"]\n",
    "excluded_features_dictionary = {\n",
    "    \"nationality\": [\"maxdeutsch1\", \"maxdeutsch.Missing.\"],\n",
    "    \"sex\": [\"frau1\"],\n",
    "    \"age\": [\"age\"],\n",
    "}"
   ]
  },
  {
   "cell_type": "code",
   "execution_count": 20,
   "id": "b745ac60",
   "metadata": {
    "execution": {
     "iopub.execute_input": "2025-08-05T15:36:31.953754Z",
     "iopub.status.busy": "2025-08-05T15:36:31.953207Z",
     "iopub.status.idle": "2025-08-05T15:36:31.957928Z",
     "shell.execute_reply": "2025-08-05T15:36:31.957241Z"
    },
    "papermill": {
     "duration": 0.021093,
     "end_time": "2025-08-05T15:36:31.959169",
     "exception": false,
     "start_time": "2025-08-05T15:36:31.938076",
     "status": "completed"
    },
    "tags": []
   },
   "outputs": [],
   "source": [
    "# Code nice names to column names\n",
    "\n",
    "excluded_features_columns = [\n",
    "    excluded_features_dictionary[f] for f in excluded_features if len(f) > 0 and f != \"none\"\n",
    "]"
   ]
  },
  {
   "cell_type": "code",
   "execution_count": 21,
   "id": "f84f73a2",
   "metadata": {
    "execution": {
     "iopub.execute_input": "2025-08-05T15:36:31.979845Z",
     "iopub.status.busy": "2025-08-05T15:36:31.979466Z",
     "iopub.status.idle": "2025-08-05T15:36:31.984042Z",
     "shell.execute_reply": "2025-08-05T15:36:31.983316Z"
    },
    "papermill": {
     "duration": 0.016347,
     "end_time": "2025-08-05T15:36:31.985536",
     "exception": false,
     "start_time": "2025-08-05T15:36:31.969189",
     "status": "completed"
    },
    "tags": []
   },
   "outputs": [],
   "source": [
    "from utils import flatten_once\n",
    "\n",
    "excluded_features_columns = flatten_once(excluded_features_columns)"
   ]
  },
  {
   "cell_type": "code",
   "execution_count": 22,
   "id": "884dea22",
   "metadata": {
    "execution": {
     "iopub.execute_input": "2025-08-05T15:36:32.028829Z",
     "iopub.status.busy": "2025-08-05T15:36:32.027987Z",
     "iopub.status.idle": "2025-08-05T15:36:32.040512Z",
     "shell.execute_reply": "2025-08-05T15:36:32.039281Z"
    },
    "papermill": {
     "duration": 0.041157,
     "end_time": "2025-08-05T15:36:32.042451",
     "exception": false,
     "start_time": "2025-08-05T15:36:32.001294",
     "status": "completed"
    },
    "tags": []
   },
   "outputs": [
    {
     "name": "stdout",
     "output_type": "stream",
     "text": [
      "Dropping features: ['age']\n"
     ]
    }
   ],
   "source": [
    "if len(excluded_features_columns) > 0:\n",
    "    print(f\"Dropping features: {excluded_features_columns}\")\n",
    "    X_train.drop(excluded_features_columns, axis=1, inplace=True)"
   ]
  },
  {
   "cell_type": "code",
   "execution_count": 23,
   "id": "95ab8b16",
   "metadata": {
    "execution": {
     "iopub.execute_input": "2025-08-05T15:36:32.093859Z",
     "iopub.status.busy": "2025-08-05T15:36:32.093019Z",
     "iopub.status.idle": "2025-08-05T15:36:32.143102Z",
     "shell.execute_reply": "2025-08-05T15:36:32.142329Z"
    },
    "papermill": {
     "duration": 0.077053,
     "end_time": "2025-08-05T15:36:32.144618",
     "exception": false,
     "start_time": "2025-08-05T15:36:32.067565",
     "status": "completed"
    },
    "tags": []
   },
   "outputs": [
    {
     "name": "stdout",
     "output_type": "stream",
     "text": [
      "Dropping features: ['age']\n"
     ]
    }
   ],
   "source": [
    "if len(excluded_features_columns) > 0:\n",
    "    print(f\"Dropping features: {excluded_features_columns}\")\n",
    "    X_test.drop(excluded_features_columns, axis=1, inplace=True)"
   ]
  },
  {
   "cell_type": "code",
   "execution_count": 24,
   "id": "1853aaf5-fb9f-46cb-a2b5-8ea4ae2237e4",
   "metadata": {
    "execution": {
     "iopub.execute_input": "2025-08-05T15:36:32.165308Z",
     "iopub.status.busy": "2025-08-05T15:36:32.164810Z",
     "iopub.status.idle": "2025-08-05T15:36:32.210592Z",
     "shell.execute_reply": "2025-08-05T15:36:32.209886Z"
    },
    "papermill": {
     "duration": 0.056808,
     "end_time": "2025-08-05T15:36:32.211854",
     "exception": false,
     "start_time": "2025-08-05T15:36:32.155046",
     "status": "completed"
    },
    "tags": []
   },
   "outputs": [
    {
     "name": "stdout",
     "output_type": "stream",
     "text": [
      "Dropping features: ['age']\n"
     ]
    }
   ],
   "source": [
    "if len(excluded_features_columns) > 0:\n",
    "    print(f\"Dropping features: {excluded_features_columns}\")\n",
    "    X_calib.drop(excluded_features_columns, axis=1, inplace=True)"
   ]
  },
  {
   "cell_type": "code",
   "execution_count": 25,
   "id": "76c4dc6d",
   "metadata": {
    "execution": {
     "iopub.execute_input": "2025-08-05T15:36:32.235484Z",
     "iopub.status.busy": "2025-08-05T15:36:32.235162Z",
     "iopub.status.idle": "2025-08-05T15:36:32.239660Z",
     "shell.execute_reply": "2025-08-05T15:36:32.238834Z"
    },
    "papermill": {
     "duration": 0.018789,
     "end_time": "2025-08-05T15:36:32.241083",
     "exception": false,
     "start_time": "2025-08-05T15:36:32.222294",
     "status": "completed"
    },
    "tags": []
   },
   "outputs": [],
   "source": [
    "# EXCLUDE CERTAIN SUBGROUPS\n",
    "# ----------------------\n",
    "\n",
    "mode = universe.get(\"exclude_subgroups\", \"keep-all\") \n",
    "# Fetches the exclude_subgroups setting from the universe dict.\n",
    "# Defaults to \"keep-all\" if the key is missing."
   ]
  },
  {
   "cell_type": "code",
   "execution_count": 26,
   "id": "21994072",
   "metadata": {
    "execution": {
     "iopub.execute_input": "2025-08-05T15:36:32.261181Z",
     "iopub.status.busy": "2025-08-05T15:36:32.260555Z",
     "iopub.status.idle": "2025-08-05T15:36:32.266246Z",
     "shell.execute_reply": "2025-08-05T15:36:32.265031Z"
    },
    "papermill": {
     "duration": 0.018337,
     "end_time": "2025-08-05T15:36:32.269187",
     "exception": false,
     "start_time": "2025-08-05T15:36:32.250850",
     "status": "completed"
    },
    "tags": []
   },
   "outputs": [],
   "source": [
    "if mode == \"keep-all\":\n",
    "    keep_mask = pd.Series(True, index=org_train.index)\n",
    "\n",
    "# org_train contains the original feature columns from features_org (in Simson)\n",
    "# features_org contains unprocessed features, for me X_train at beginning ???\n",
    "# For keep-all, creates a boolean Series (keep_mask) of all True, so no rows are removed.\n",
    "\n",
    "elif mode == \"drop-non-german\":\n",
    "    keep_mask = org_train[\"maxdeutsch1\"] == 1 # ??? what about missing values?\n",
    "\n",
    "else:\n",
    "    raise ValueError(f\"Unsupported mode for exclude_subgroups: {mode}\")"
   ]
  },
  {
   "cell_type": "code",
   "execution_count": 27,
   "id": "71651440",
   "metadata": {
    "execution": {
     "iopub.execute_input": "2025-08-05T15:36:32.308019Z",
     "iopub.status.busy": "2025-08-05T15:36:32.307391Z",
     "iopub.status.idle": "2025-08-05T15:36:32.314844Z",
     "shell.execute_reply": "2025-08-05T15:36:32.313719Z"
    },
    "papermill": {
     "duration": 0.028786,
     "end_time": "2025-08-05T15:36:32.316823",
     "exception": false,
     "start_time": "2025-08-05T15:36:32.288037",
     "status": "completed"
    },
    "tags": []
   },
   "outputs": [
    {
     "name": "stdout",
     "output_type": "stream",
     "text": [
      "Dropping 665 rows (13.30%) where mode='drop-non-german'\n"
     ]
    }
   ],
   "source": [
    "n_drop = (~keep_mask).sum() # Calculates how many rows are set to be dropped\n",
    "if n_drop > 0:\n",
    "    pct = n_drop / len(keep_mask) * 100\n",
    "    print(f\"Dropping {n_drop} rows ({pct:.2f}%) where mode='{mode}'\")"
   ]
  },
  {
   "cell_type": "code",
   "execution_count": 28,
   "id": "5fb8eee5",
   "metadata": {
    "execution": {
     "iopub.execute_input": "2025-08-05T15:36:32.357149Z",
     "iopub.status.busy": "2025-08-05T15:36:32.356423Z",
     "iopub.status.idle": "2025-08-05T15:36:32.364466Z",
     "shell.execute_reply": "2025-08-05T15:36:32.363537Z"
    },
    "papermill": {
     "duration": 0.029259,
     "end_time": "2025-08-05T15:36:32.366245",
     "exception": false,
     "start_time": "2025-08-05T15:36:32.336986",
     "status": "completed"
    },
    "tags": []
   },
   "outputs": [],
   "source": [
    "X_train = X_train[keep_mask]"
   ]
  },
  {
   "cell_type": "code",
   "execution_count": 29,
   "id": "b202bb3a",
   "metadata": {
    "execution": {
     "iopub.execute_input": "2025-08-05T15:36:32.407137Z",
     "iopub.status.busy": "2025-08-05T15:36:32.406627Z",
     "iopub.status.idle": "2025-08-05T15:36:32.412793Z",
     "shell.execute_reply": "2025-08-05T15:36:32.411599Z"
    },
    "papermill": {
     "duration": 0.028319,
     "end_time": "2025-08-05T15:36:32.414420",
     "exception": false,
     "start_time": "2025-08-05T15:36:32.386101",
     "status": "completed"
    },
    "tags": []
   },
   "outputs": [],
   "source": [
    "y_train = y_train[keep_mask]"
   ]
  },
  {
   "cell_type": "markdown",
   "id": "493e2ac3",
   "metadata": {
    "papermill": {
     "duration": 0.017525,
     "end_time": "2025-08-05T15:36:32.450802",
     "exception": false,
     "start_time": "2025-08-05T15:36:32.433277",
     "status": "completed"
    },
    "tags": []
   },
   "source": [
    "# Model Training"
   ]
  },
  {
   "cell_type": "code",
   "execution_count": 30,
   "id": "679e1268",
   "metadata": {
    "execution": {
     "iopub.execute_input": "2025-08-05T15:36:32.487569Z",
     "iopub.status.busy": "2025-08-05T15:36:32.486940Z",
     "iopub.status.idle": "2025-08-05T15:36:32.587848Z",
     "shell.execute_reply": "2025-08-05T15:36:32.587114Z"
    },
    "papermill": {
     "duration": 0.119104,
     "end_time": "2025-08-05T15:36:32.589263",
     "exception": false,
     "start_time": "2025-08-05T15:36:32.470159",
     "status": "completed"
    },
    "tags": []
   },
   "outputs": [],
   "source": [
    "from sklearn.linear_model import LogisticRegression\n",
    "from sklearn.ensemble import GradientBoostingClassifier, RandomForestClassifier\n",
    "\n",
    "if (universe[\"model\"] == \"logreg\"):\n",
    "    model = LogisticRegression() #penalty=\"none\", solver=\"newton-cg\", max_iter=1) # include random_state=19 ?\n",
    "elif (universe[\"model\"] == \"penalized_logreg\"):\n",
    "    model = LogisticRegression(penalty=\"l2\", C=0.1) #, solver=\"newton-cg\", max_iter=1)\n",
    "elif (universe[\"model\"] == \"rf\"):\n",
    "    model = RandomForestClassifier() # n_estimators=100, n_jobs=-1\n",
    "elif (universe[\"model\"] == \"gbm\"):\n",
    "    model = GradientBoostingClassifier()\n",
    "elif (universe[\"model\"] == \"elasticnet\"):\n",
    "    model = LogisticRegression(penalty = 'elasticnet', solver = 'saga', l1_ratio = 0.5) # max_iter=5000\n",
    "else:\n",
    "    raise \"Unsupported universe.model\""
   ]
  },
  {
   "cell_type": "code",
   "execution_count": 31,
   "id": "0cc8f744",
   "metadata": {
    "execution": {
     "iopub.execute_input": "2025-08-05T15:36:32.627927Z",
     "iopub.status.busy": "2025-08-05T15:36:32.627479Z",
     "iopub.status.idle": "2025-08-05T15:36:32.634433Z",
     "shell.execute_reply": "2025-08-05T15:36:32.633250Z"
    },
    "papermill": {
     "duration": 0.032662,
     "end_time": "2025-08-05T15:36:32.636555",
     "exception": false,
     "start_time": "2025-08-05T15:36:32.603893",
     "status": "completed"
    },
    "tags": []
   },
   "outputs": [],
   "source": [
    "import numpy as np\n",
    "from sklearn.pipeline import Pipeline\n",
    "from sklearn.preprocessing import StandardScaler\n",
    "\n",
    "model = Pipeline([\n",
    "    #(\"continuous_processor\", continuous_processor),\n",
    "    #(\"categorical_preprocessor\", categorical_preprocessor),\n",
    "    (\"scale\", StandardScaler() if universe[\"scale\"] == \"scale\" else None), \n",
    "    (\"model\", model),\n",
    "])"
   ]
  },
  {
   "cell_type": "code",
   "execution_count": 32,
   "id": "9442c04d",
   "metadata": {
    "execution": {
     "iopub.execute_input": "2025-08-05T15:36:32.679429Z",
     "iopub.status.busy": "2025-08-05T15:36:32.678528Z",
     "iopub.status.idle": "2025-08-05T15:36:32.779292Z",
     "shell.execute_reply": "2025-08-05T15:36:32.778490Z"
    },
    "papermill": {
     "duration": 0.124649,
     "end_time": "2025-08-05T15:36:32.780491",
     "exception": false,
     "start_time": "2025-08-05T15:36:32.655842",
     "status": "completed"
    },
    "tags": []
   },
   "outputs": [
    {
     "data": {
      "text/html": [
       "<style>#sk-container-id-1 {color: black;background-color: white;}#sk-container-id-1 pre{padding: 0;}#sk-container-id-1 div.sk-toggleable {background-color: white;}#sk-container-id-1 label.sk-toggleable__label {cursor: pointer;display: block;width: 100%;margin-bottom: 0;padding: 0.3em;box-sizing: border-box;text-align: center;}#sk-container-id-1 label.sk-toggleable__label-arrow:before {content: \"▸\";float: left;margin-right: 0.25em;color: #696969;}#sk-container-id-1 label.sk-toggleable__label-arrow:hover:before {color: black;}#sk-container-id-1 div.sk-estimator:hover label.sk-toggleable__label-arrow:before {color: black;}#sk-container-id-1 div.sk-toggleable__content {max-height: 0;max-width: 0;overflow: hidden;text-align: left;background-color: #f0f8ff;}#sk-container-id-1 div.sk-toggleable__content pre {margin: 0.2em;color: black;border-radius: 0.25em;background-color: #f0f8ff;}#sk-container-id-1 input.sk-toggleable__control:checked~div.sk-toggleable__content {max-height: 200px;max-width: 100%;overflow: auto;}#sk-container-id-1 input.sk-toggleable__control:checked~label.sk-toggleable__label-arrow:before {content: \"▾\";}#sk-container-id-1 div.sk-estimator input.sk-toggleable__control:checked~label.sk-toggleable__label {background-color: #d4ebff;}#sk-container-id-1 div.sk-label input.sk-toggleable__control:checked~label.sk-toggleable__label {background-color: #d4ebff;}#sk-container-id-1 input.sk-hidden--visually {border: 0;clip: rect(1px 1px 1px 1px);clip: rect(1px, 1px, 1px, 1px);height: 1px;margin: -1px;overflow: hidden;padding: 0;position: absolute;width: 1px;}#sk-container-id-1 div.sk-estimator {font-family: monospace;background-color: #f0f8ff;border: 1px dotted black;border-radius: 0.25em;box-sizing: border-box;margin-bottom: 0.5em;}#sk-container-id-1 div.sk-estimator:hover {background-color: #d4ebff;}#sk-container-id-1 div.sk-parallel-item::after {content: \"\";width: 100%;border-bottom: 1px solid gray;flex-grow: 1;}#sk-container-id-1 div.sk-label:hover label.sk-toggleable__label {background-color: #d4ebff;}#sk-container-id-1 div.sk-serial::before {content: \"\";position: absolute;border-left: 1px solid gray;box-sizing: border-box;top: 0;bottom: 0;left: 50%;z-index: 0;}#sk-container-id-1 div.sk-serial {display: flex;flex-direction: column;align-items: center;background-color: white;padding-right: 0.2em;padding-left: 0.2em;position: relative;}#sk-container-id-1 div.sk-item {position: relative;z-index: 1;}#sk-container-id-1 div.sk-parallel {display: flex;align-items: stretch;justify-content: center;background-color: white;position: relative;}#sk-container-id-1 div.sk-item::before, #sk-container-id-1 div.sk-parallel-item::before {content: \"\";position: absolute;border-left: 1px solid gray;box-sizing: border-box;top: 0;bottom: 0;left: 50%;z-index: -1;}#sk-container-id-1 div.sk-parallel-item {display: flex;flex-direction: column;z-index: 1;position: relative;background-color: white;}#sk-container-id-1 div.sk-parallel-item:first-child::after {align-self: flex-end;width: 50%;}#sk-container-id-1 div.sk-parallel-item:last-child::after {align-self: flex-start;width: 50%;}#sk-container-id-1 div.sk-parallel-item:only-child::after {width: 0;}#sk-container-id-1 div.sk-dashed-wrapped {border: 1px dashed gray;margin: 0 0.4em 0.5em 0.4em;box-sizing: border-box;padding-bottom: 0.4em;background-color: white;}#sk-container-id-1 div.sk-label label {font-family: monospace;font-weight: bold;display: inline-block;line-height: 1.2em;}#sk-container-id-1 div.sk-label-container {text-align: center;}#sk-container-id-1 div.sk-container {/* jupyter's `normalize.less` sets `[hidden] { display: none; }` but bootstrap.min.css set `[hidden] { display: none !important; }` so we also need the `!important` here to be able to override the default hidden behavior on the sphinx rendered scikit-learn.org. See: https://github.com/scikit-learn/scikit-learn/issues/21755 */display: inline-block !important;position: relative;}#sk-container-id-1 div.sk-text-repr-fallback {display: none;}</style><div id=\"sk-container-id-1\" class=\"sk-top-container\"><div class=\"sk-text-repr-fallback\"><pre>Pipeline(steps=[(&#x27;scale&#x27;, StandardScaler()),\n",
       "                (&#x27;model&#x27;, LogisticRegression(C=0.1))])</pre><b>In a Jupyter environment, please rerun this cell to show the HTML representation or trust the notebook. <br />On GitHub, the HTML representation is unable to render, please try loading this page with nbviewer.org.</b></div><div class=\"sk-container\" hidden><div class=\"sk-item sk-dashed-wrapped\"><div class=\"sk-label-container\"><div class=\"sk-label sk-toggleable\"><input class=\"sk-toggleable__control sk-hidden--visually\" id=\"sk-estimator-id-1\" type=\"checkbox\" ><label for=\"sk-estimator-id-1\" class=\"sk-toggleable__label sk-toggleable__label-arrow\">Pipeline</label><div class=\"sk-toggleable__content\"><pre>Pipeline(steps=[(&#x27;scale&#x27;, StandardScaler()),\n",
       "                (&#x27;model&#x27;, LogisticRegression(C=0.1))])</pre></div></div></div><div class=\"sk-serial\"><div class=\"sk-item\"><div class=\"sk-estimator sk-toggleable\"><input class=\"sk-toggleable__control sk-hidden--visually\" id=\"sk-estimator-id-2\" type=\"checkbox\" ><label for=\"sk-estimator-id-2\" class=\"sk-toggleable__label sk-toggleable__label-arrow\">StandardScaler</label><div class=\"sk-toggleable__content\"><pre>StandardScaler()</pre></div></div></div><div class=\"sk-item\"><div class=\"sk-estimator sk-toggleable\"><input class=\"sk-toggleable__control sk-hidden--visually\" id=\"sk-estimator-id-3\" type=\"checkbox\" ><label for=\"sk-estimator-id-3\" class=\"sk-toggleable__label sk-toggleable__label-arrow\">LogisticRegression</label><div class=\"sk-toggleable__content\"><pre>LogisticRegression(C=0.1)</pre></div></div></div></div></div></div></div>"
      ],
      "text/plain": [
       "Pipeline(steps=[('scale', StandardScaler()),\n",
       "                ('model', LogisticRegression(C=0.1))])"
      ]
     },
     "execution_count": 32,
     "metadata": {},
     "output_type": "execute_result"
    }
   ],
   "source": [
    "model.fit(X_train, y_train.values.ravel())"
   ]
  },
  {
   "cell_type": "code",
   "execution_count": 33,
   "id": "af59f8c0",
   "metadata": {
    "execution": {
     "iopub.execute_input": "2025-08-05T15:36:32.820825Z",
     "iopub.status.busy": "2025-08-05T15:36:32.820381Z",
     "iopub.status.idle": "2025-08-05T15:36:32.825704Z",
     "shell.execute_reply": "2025-08-05T15:36:32.824661Z"
    },
    "papermill": {
     "duration": 0.032714,
     "end_time": "2025-08-05T15:36:32.828006",
     "exception": false,
     "start_time": "2025-08-05T15:36:32.795292",
     "status": "completed"
    },
    "tags": []
   },
   "outputs": [],
   "source": [
    "from fairness_multiverse.universe import predict_w_threshold"
   ]
  },
  {
   "cell_type": "code",
   "execution_count": 34,
   "id": "a7cf2e16",
   "metadata": {
    "execution": {
     "iopub.execute_input": "2025-08-05T15:36:32.872421Z",
     "iopub.status.busy": "2025-08-05T15:36:32.871917Z",
     "iopub.status.idle": "2025-08-05T15:36:33.065986Z",
     "shell.execute_reply": "2025-08-05T15:36:33.064916Z"
    },
    "papermill": {
     "duration": 0.218352,
     "end_time": "2025-08-05T15:36:33.068004",
     "exception": false,
     "start_time": "2025-08-05T15:36:32.849652",
     "status": "completed"
    },
    "tags": []
   },
   "outputs": [
    {
     "data": {
      "text/plain": [
       "0.8572399955411882"
      ]
     },
     "execution_count": 34,
     "metadata": {},
     "output_type": "execute_result"
    }
   ],
   "source": [
    "probs_test = model.predict_proba(X_test)\n",
    "\n",
    "'''\n",
    "Below code returns a boolean array (or binary 0/1 array depending on how it’s used) where each element \n",
    "is True if the probability of class 1 is greater than or equal to the threshold, and False otherwise.\n",
    "'''\n",
    "y_pred_default = predict_w_threshold(probs_test, 0.5)\n",
    "\n",
    "from sklearn.metrics import accuracy_score\n",
    "\n",
    "# Naive prediction\n",
    "accuracy_score(y_true = y_true, y_pred = y_pred_default)"
   ]
  },
  {
   "cell_type": "code",
   "execution_count": 35,
   "id": "081964c3",
   "metadata": {
    "execution": {
     "iopub.execute_input": "2025-08-05T15:36:33.113365Z",
     "iopub.status.busy": "2025-08-05T15:36:33.112444Z",
     "iopub.status.idle": "2025-08-05T15:36:33.293940Z",
     "shell.execute_reply": "2025-08-05T15:36:33.292900Z"
    },
    "papermill": {
     "duration": 0.206396,
     "end_time": "2025-08-05T15:36:33.295991",
     "exception": false,
     "start_time": "2025-08-05T15:36:33.089595",
     "status": "completed"
    },
    "tags": []
   },
   "outputs": [
    {
     "data": {
      "text/plain": [
       "array([0, 0, 0, ..., 0, 0, 0])"
      ]
     },
     "execution_count": 35,
     "metadata": {},
     "output_type": "execute_result"
    }
   ],
   "source": [
    "model.predict(X_test)"
   ]
  },
  {
   "cell_type": "markdown",
   "id": "56c9705b",
   "metadata": {
    "papermill": {
     "duration": 0.018659,
     "end_time": "2025-08-05T15:36:33.335070",
     "exception": false,
     "start_time": "2025-08-05T15:36:33.316411",
     "status": "completed"
    },
    "tags": []
   },
   "source": [
    "# Conformal Prediction"
   ]
  },
  {
   "cell_type": "code",
   "execution_count": 36,
   "id": "160ec6ff",
   "metadata": {
    "execution": {
     "iopub.execute_input": "2025-08-05T15:36:33.376156Z",
     "iopub.status.busy": "2025-08-05T15:36:33.375382Z",
     "iopub.status.idle": "2025-08-05T15:36:33.380656Z",
     "shell.execute_reply": "2025-08-05T15:36:33.379717Z"
    },
    "papermill": {
     "duration": 0.027692,
     "end_time": "2025-08-05T15:36:33.382404",
     "exception": false,
     "start_time": "2025-08-05T15:36:33.354712",
     "status": "completed"
    },
    "tags": []
   },
   "outputs": [],
   "source": [
    "# Miscoverage level for conformal prediction (10% allowed error rate => 90% target coverage)\n",
    "alpha = 0.1"
   ]
  },
  {
   "cell_type": "code",
   "execution_count": 37,
   "id": "eadf4555-3dd3-440e-8e35-f82a4ad9f855",
   "metadata": {
    "execution": {
     "iopub.execute_input": "2025-08-05T15:36:33.423806Z",
     "iopub.status.busy": "2025-08-05T15:36:33.423390Z",
     "iopub.status.idle": "2025-08-05T15:36:33.619041Z",
     "shell.execute_reply": "2025-08-05T15:36:33.618014Z"
    },
    "papermill": {
     "duration": 0.218128,
     "end_time": "2025-08-05T15:36:33.620996",
     "exception": false,
     "start_time": "2025-08-05T15:36:33.402868",
     "status": "completed"
    },
    "tags": []
   },
   "outputs": [],
   "source": [
    "probs_calib = model.predict_proba(X_calib)"
   ]
  },
  {
   "cell_type": "code",
   "execution_count": 38,
   "id": "2ed93547-6d5d-4983-9b36-1ecb300da49a",
   "metadata": {
    "execution": {
     "iopub.execute_input": "2025-08-05T15:36:33.662960Z",
     "iopub.status.busy": "2025-08-05T15:36:33.662319Z",
     "iopub.status.idle": "2025-08-05T15:36:33.667867Z",
     "shell.execute_reply": "2025-08-05T15:36:33.666791Z"
    },
    "papermill": {
     "duration": 0.028163,
     "end_time": "2025-08-05T15:36:33.669670",
     "exception": false,
     "start_time": "2025-08-05T15:36:33.641507",
     "status": "completed"
    },
    "tags": []
   },
   "outputs": [],
   "source": [
    "y_calib = y_calib.values.ravel().astype(int)"
   ]
  },
  {
   "cell_type": "code",
   "execution_count": 39,
   "id": "65d1320d-f588-4b38-9072-62af1ae97f7d",
   "metadata": {
    "execution": {
     "iopub.execute_input": "2025-08-05T15:36:33.711533Z",
     "iopub.status.busy": "2025-08-05T15:36:33.710765Z",
     "iopub.status.idle": "2025-08-05T15:36:33.718720Z",
     "shell.execute_reply": "2025-08-05T15:36:33.717576Z"
    },
    "papermill": {
     "duration": 0.030377,
     "end_time": "2025-08-05T15:36:33.720508",
     "exception": false,
     "start_time": "2025-08-05T15:36:33.690131",
     "status": "completed"
    },
    "tags": []
   },
   "outputs": [],
   "source": [
    "from fairness_multiverse.conformal import compute_nc_scores\n",
    "\n",
    "# Compute nonconformity scores on calibration set (1 - probability of true class)\n",
    "nc_scores = compute_nc_scores(probs_calib, y_calib)"
   ]
  },
  {
   "cell_type": "code",
   "execution_count": 40,
   "id": "df3b8ca3-53b7-43d5-9667-7c85da7aeda2",
   "metadata": {
    "execution": {
     "iopub.execute_input": "2025-08-05T15:36:33.762417Z",
     "iopub.status.busy": "2025-08-05T15:36:33.761638Z",
     "iopub.status.idle": "2025-08-05T15:36:33.768836Z",
     "shell.execute_reply": "2025-08-05T15:36:33.767810Z"
    },
    "papermill": {
     "duration": 0.029898,
     "end_time": "2025-08-05T15:36:33.770690",
     "exception": false,
     "start_time": "2025-08-05T15:36:33.740792",
     "status": "completed"
    },
    "tags": []
   },
   "outputs": [],
   "source": [
    "from fairness_multiverse.conformal import find_threshold\n",
    "\n",
    "# Find conformal threshold q_hat for the given alpha (split conformal method)\n",
    "q_hat = find_threshold(nc_scores, alpha)"
   ]
  },
  {
   "cell_type": "code",
   "execution_count": 41,
   "id": "4d29e6c1-0ef6-4aa4-b8fe-4fe79b0d033a",
   "metadata": {
    "execution": {
     "iopub.execute_input": "2025-08-05T15:36:33.812976Z",
     "iopub.status.busy": "2025-08-05T15:36:33.812227Z",
     "iopub.status.idle": "2025-08-05T15:36:33.819512Z",
     "shell.execute_reply": "2025-08-05T15:36:33.818421Z"
    },
    "papermill": {
     "duration": 0.03,
     "end_time": "2025-08-05T15:36:33.821328",
     "exception": false,
     "start_time": "2025-08-05T15:36:33.791328",
     "status": "completed"
    },
    "tags": []
   },
   "outputs": [
    {
     "data": {
      "text/plain": [
       "0.7005786000788494"
      ]
     },
     "execution_count": 41,
     "metadata": {},
     "output_type": "execute_result"
    }
   ],
   "source": [
    "q_hat"
   ]
  },
  {
   "cell_type": "code",
   "execution_count": 42,
   "id": "92460794-cdac-4be2-ba28-f28c0515a6fb",
   "metadata": {
    "execution": {
     "iopub.execute_input": "2025-08-05T15:36:33.863537Z",
     "iopub.status.busy": "2025-08-05T15:36:33.863105Z",
     "iopub.status.idle": "2025-08-05T15:36:34.567436Z",
     "shell.execute_reply": "2025-08-05T15:36:34.566669Z"
    },
    "papermill": {
     "duration": 0.726953,
     "end_time": "2025-08-05T15:36:34.568842",
     "exception": false,
     "start_time": "2025-08-05T15:36:33.841889",
     "status": "completed"
    },
    "tags": []
   },
   "outputs": [],
   "source": [
    "from fairness_multiverse.conformal import predict_conformal_sets\n",
    "\n",
    "# Generate prediction sets for each test example\n",
    "pred_sets = predict_conformal_sets(model, X_test, q_hat)"
   ]
  },
  {
   "cell_type": "code",
   "execution_count": 43,
   "id": "d90c9a65-e6db-4f5d-80cd-e68fb7e46829",
   "metadata": {
    "execution": {
     "iopub.execute_input": "2025-08-05T15:36:34.591776Z",
     "iopub.status.busy": "2025-08-05T15:36:34.591389Z",
     "iopub.status.idle": "2025-08-05T15:36:34.596134Z",
     "shell.execute_reply": "2025-08-05T15:36:34.595317Z"
    },
    "papermill": {
     "duration": 0.017375,
     "end_time": "2025-08-05T15:36:34.597499",
     "exception": false,
     "start_time": "2025-08-05T15:36:34.580124",
     "status": "completed"
    },
    "tags": []
   },
   "outputs": [],
   "source": [
    "y_true = y_true.squeeze()"
   ]
  },
  {
   "cell_type": "code",
   "execution_count": 44,
   "id": "3a58a54a-1e68-46b9-927a-df01f18aebc8",
   "metadata": {
    "execution": {
     "iopub.execute_input": "2025-08-05T15:36:34.620231Z",
     "iopub.status.busy": "2025-08-05T15:36:34.619778Z",
     "iopub.status.idle": "2025-08-05T15:36:35.244080Z",
     "shell.execute_reply": "2025-08-05T15:36:35.243320Z"
    },
    "papermill": {
     "duration": 0.636775,
     "end_time": "2025-08-05T15:36:35.245573",
     "exception": false,
     "start_time": "2025-08-05T15:36:34.608798",
     "status": "completed"
    },
    "tags": []
   },
   "outputs": [],
   "source": [
    "from fairness_multiverse.conformal import evaluate_sets\n",
    "\n",
    "# Evaluate coverage and average set size on test data\n",
    "metrics = evaluate_sets(pred_sets, y_true)"
   ]
  },
  {
   "cell_type": "markdown",
   "id": "2b569c12-9aaa-4c88-98c9-bbcd0cf3ebb8",
   "metadata": {
    "papermill": {
     "duration": 0.010411,
     "end_time": "2025-08-05T15:36:35.269341",
     "exception": false,
     "start_time": "2025-08-05T15:36:35.258930",
     "status": "completed"
    },
    "tags": []
   },
   "source": [
    "# CP Metrics"
   ]
  },
  {
   "cell_type": "code",
   "execution_count": 45,
   "id": "5ce0a5cb-201f-45a0-ade5-94c7f0bd6095",
   "metadata": {
    "execution": {
     "iopub.execute_input": "2025-08-05T15:36:35.291729Z",
     "iopub.status.busy": "2025-08-05T15:36:35.291222Z",
     "iopub.status.idle": "2025-08-05T15:36:35.297735Z",
     "shell.execute_reply": "2025-08-05T15:36:35.296909Z"
    },
    "papermill": {
     "duration": 0.01968,
     "end_time": "2025-08-05T15:36:35.299327",
     "exception": false,
     "start_time": "2025-08-05T15:36:35.279647",
     "status": "completed"
    },
    "tags": []
   },
   "outputs": [
    {
     "data": {
      "text/plain": [
       "{'coverage': 0.9113922639616542, 'avg_size': 1.1376100769145023}"
      ]
     },
     "execution_count": 45,
     "metadata": {},
     "output_type": "execute_result"
    }
   ],
   "source": [
    "metrics"
   ]
  },
  {
   "cell_type": "code",
   "execution_count": 46,
   "id": "9b9a838d-31c9-430b-ae14-12baee460d17",
   "metadata": {
    "execution": {
     "iopub.execute_input": "2025-08-05T15:36:35.323643Z",
     "iopub.status.busy": "2025-08-05T15:36:35.323082Z",
     "iopub.status.idle": "2025-08-05T15:36:35.328715Z",
     "shell.execute_reply": "2025-08-05T15:36:35.327989Z"
    },
    "papermill": {
     "duration": 0.019319,
     "end_time": "2025-08-05T15:36:35.330263",
     "exception": false,
     "start_time": "2025-08-05T15:36:35.310944",
     "status": "completed"
    },
    "tags": []
   },
   "outputs": [],
   "source": [
    "example_universe = universe.copy()\n",
    "universe_training_year = example_universe.get(\"training_year\")\n",
    "universe_training_size = example_universe.get(\"training_size\")\n",
    "universe_scale = example_universe.get(\"scale\")\n",
    "universe_model = example_universe.get(\"model\")\n",
    "universe_exclude_features = example_universe.get(\"exclude_features\")\n",
    "universe_exclude_subgroups = example_universe.get(\"exclude_subgroups\")"
   ]
  },
  {
   "cell_type": "code",
   "execution_count": 47,
   "id": "f4b6a8ac-9dc0-4245-8a91-5b3b5999c4f9",
   "metadata": {
    "execution": {
     "iopub.execute_input": "2025-08-05T15:36:35.354355Z",
     "iopub.status.busy": "2025-08-05T15:36:35.353889Z",
     "iopub.status.idle": "2025-08-05T15:36:35.359246Z",
     "shell.execute_reply": "2025-08-05T15:36:35.358362Z"
    },
    "papermill": {
     "duration": 0.019008,
     "end_time": "2025-08-05T15:36:35.361347",
     "exception": false,
     "start_time": "2025-08-05T15:36:35.342339",
     "status": "completed"
    },
    "tags": []
   },
   "outputs": [],
   "source": [
    "cp_metrics_dict = {\n",
    "    \"universe_id\": [universe_id],\n",
    "    \"universe_training_year\": [universe_training_year],\n",
    "    \"universe_training_size\": [universe_training_size],\n",
    "    \"universe_scale\": [universe_scale],\n",
    "    \"universe_model\": [universe_model],\n",
    "    \"universe_exclude_features\": [universe_exclude_features],\n",
    "    \"universe_exclude_subgroups\": [universe_exclude_subgroups],\n",
    "    \"q_hat\": [q_hat],\n",
    "    \"coverage\": [metrics[\"coverage\"]],\n",
    "    \"avg_size\": [metrics[\"avg_size\"]],\n",
    "}"
   ]
  },
  {
   "cell_type": "code",
   "execution_count": 48,
   "id": "908acbb1-0371-4915-85ca-3fa520d2efe2",
   "metadata": {
    "execution": {
     "iopub.execute_input": "2025-08-05T15:36:35.404889Z",
     "iopub.status.busy": "2025-08-05T15:36:35.403929Z",
     "iopub.status.idle": "2025-08-05T15:36:35.412195Z",
     "shell.execute_reply": "2025-08-05T15:36:35.410879Z"
    },
    "papermill": {
     "duration": 0.031385,
     "end_time": "2025-08-05T15:36:35.414078",
     "exception": false,
     "start_time": "2025-08-05T15:36:35.382693",
     "status": "completed"
    },
    "tags": []
   },
   "outputs": [
    {
     "data": {
      "text/plain": [
       "{'universe_id': ['5de61325f2a3eabb1425eb66373e95d7'],\n",
       " 'universe_training_year': ['2012_14'],\n",
       " 'universe_training_size': ['5k'],\n",
       " 'universe_scale': ['scale'],\n",
       " 'universe_model': ['penalized_logreg'],\n",
       " 'universe_exclude_features': ['age'],\n",
       " 'universe_exclude_subgroups': ['drop-non-german'],\n",
       " 'q_hat': [0.7005786000788494],\n",
       " 'coverage': [0.9113922639616542],\n",
       " 'avg_size': [1.1376100769145023]}"
      ]
     },
     "execution_count": 48,
     "metadata": {},
     "output_type": "execute_result"
    }
   ],
   "source": [
    "cp_metrics_dict"
   ]
  },
  {
   "cell_type": "code",
   "execution_count": 49,
   "id": "33007efc-14e9-4ec6-97ac-56a455c82265",
   "metadata": {
    "execution": {
     "iopub.execute_input": "2025-08-05T15:36:35.459337Z",
     "iopub.status.busy": "2025-08-05T15:36:35.458408Z",
     "iopub.status.idle": "2025-08-05T15:36:35.465051Z",
     "shell.execute_reply": "2025-08-05T15:36:35.464028Z"
    },
    "papermill": {
     "duration": 0.030423,
     "end_time": "2025-08-05T15:36:35.466914",
     "exception": false,
     "start_time": "2025-08-05T15:36:35.436491",
     "status": "completed"
    },
    "tags": []
   },
   "outputs": [],
   "source": [
    "cp_metrics_df = pd.DataFrame(cp_metrics_dict)"
   ]
  },
  {
   "cell_type": "code",
   "execution_count": 50,
   "id": "db12611b-57b2-4910-b9d0-355adfd6e7bf",
   "metadata": {
    "execution": {
     "iopub.execute_input": "2025-08-05T15:36:35.512876Z",
     "iopub.status.busy": "2025-08-05T15:36:35.511998Z",
     "iopub.status.idle": "2025-08-05T15:36:35.530012Z",
     "shell.execute_reply": "2025-08-05T15:36:35.529009Z"
    },
    "papermill": {
     "duration": 0.042641,
     "end_time": "2025-08-05T15:36:35.531834",
     "exception": false,
     "start_time": "2025-08-05T15:36:35.489193",
     "status": "completed"
    },
    "tags": []
   },
   "outputs": [
    {
     "data": {
      "text/html": [
       "<div>\n",
       "<style scoped>\n",
       "    .dataframe tbody tr th:only-of-type {\n",
       "        vertical-align: middle;\n",
       "    }\n",
       "\n",
       "    .dataframe tbody tr th {\n",
       "        vertical-align: top;\n",
       "    }\n",
       "\n",
       "    .dataframe thead th {\n",
       "        text-align: right;\n",
       "    }\n",
       "</style>\n",
       "<table border=\"1\" class=\"dataframe\">\n",
       "  <thead>\n",
       "    <tr style=\"text-align: right;\">\n",
       "      <th></th>\n",
       "      <th>universe_id</th>\n",
       "      <th>universe_training_year</th>\n",
       "      <th>universe_training_size</th>\n",
       "      <th>universe_scale</th>\n",
       "      <th>universe_model</th>\n",
       "      <th>universe_exclude_features</th>\n",
       "      <th>universe_exclude_subgroups</th>\n",
       "      <th>q_hat</th>\n",
       "      <th>coverage</th>\n",
       "      <th>avg_size</th>\n",
       "    </tr>\n",
       "  </thead>\n",
       "  <tbody>\n",
       "    <tr>\n",
       "      <th>0</th>\n",
       "      <td>5de61325f2a3eabb1425eb66373e95d7</td>\n",
       "      <td>2012_14</td>\n",
       "      <td>5k</td>\n",
       "      <td>scale</td>\n",
       "      <td>penalized_logreg</td>\n",
       "      <td>age</td>\n",
       "      <td>drop-non-german</td>\n",
       "      <td>0.700579</td>\n",
       "      <td>0.911392</td>\n",
       "      <td>1.13761</td>\n",
       "    </tr>\n",
       "  </tbody>\n",
       "</table>\n",
       "</div>"
      ],
      "text/plain": [
       "                        universe_id universe_training_year  \\\n",
       "0  5de61325f2a3eabb1425eb66373e95d7                2012_14   \n",
       "\n",
       "  universe_training_size universe_scale    universe_model  \\\n",
       "0                     5k          scale  penalized_logreg   \n",
       "\n",
       "  universe_exclude_features universe_exclude_subgroups     q_hat  coverage  \\\n",
       "0                       age            drop-non-german  0.700579  0.911392   \n",
       "\n",
       "   avg_size  \n",
       "0   1.13761  "
      ]
     },
     "execution_count": 50,
     "metadata": {},
     "output_type": "execute_result"
    }
   ],
   "source": [
    "cp_metrics_df"
   ]
  },
  {
   "cell_type": "code",
   "execution_count": 51,
   "id": "b7fbde55-a0a1-47e4-9af6-fe4a17fa8c61",
   "metadata": {
    "execution": {
     "iopub.execute_input": "2025-08-05T15:36:35.576841Z",
     "iopub.status.busy": "2025-08-05T15:36:35.576194Z",
     "iopub.status.idle": "2025-08-05T15:36:35.581594Z",
     "shell.execute_reply": "2025-08-05T15:36:35.580570Z"
    },
    "papermill": {
     "duration": 0.029494,
     "end_time": "2025-08-05T15:36:35.583189",
     "exception": false,
     "start_time": "2025-08-05T15:36:35.553695",
     "status": "completed"
    },
    "tags": []
   },
   "outputs": [],
   "source": [
    "# Conditional Coverage & looking at subgroups"
   ]
  },
  {
   "cell_type": "code",
   "execution_count": 52,
   "id": "027ae886-68dd-4141-96c7-805a5450e1ef",
   "metadata": {
    "execution": {
     "iopub.execute_input": "2025-08-05T15:36:35.628397Z",
     "iopub.status.busy": "2025-08-05T15:36:35.627955Z",
     "iopub.status.idle": "2025-08-05T15:36:35.811447Z",
     "shell.execute_reply": "2025-08-05T15:36:35.810686Z"
    },
    "papermill": {
     "duration": 0.207349,
     "end_time": "2025-08-05T15:36:35.812924",
     "exception": false,
     "start_time": "2025-08-05T15:36:35.605575",
     "status": "completed"
    },
    "tags": []
   },
   "outputs": [],
   "source": [
    "from fairness_multiverse.conformal import build_cp_groups\n",
    "\n",
    "cp_groups_df = build_cp_groups(pred_sets, y_true, X_test.index, org_test)\n",
    "#needs universe_id and setting"
   ]
  },
  {
   "cell_type": "code",
   "execution_count": 53,
   "id": "6cbdab96-b2b2-45af-ad54-d0516db2e28d",
   "metadata": {
    "execution": {
     "iopub.execute_input": "2025-08-05T15:36:35.837656Z",
     "iopub.status.busy": "2025-08-05T15:36:35.836910Z",
     "iopub.status.idle": "2025-08-05T15:36:36.774458Z",
     "shell.execute_reply": "2025-08-05T15:36:36.773333Z"
    },
    "papermill": {
     "duration": 0.952358,
     "end_time": "2025-08-05T15:36:36.777068",
     "exception": false,
     "start_time": "2025-08-05T15:36:35.824710",
     "status": "completed"
    },
    "tags": []
   },
   "outputs": [],
   "source": [
    "# Define covered = 1 if true_label is in the predicted set\n",
    "cp_groups_df['covered'] = cp_groups_df.apply(\n",
    "    lambda r: int(r['true_label'] in r['pred_set']),\n",
    "    axis=1\n",
    ")"
   ]
  },
  {
   "cell_type": "code",
   "execution_count": 54,
   "id": "338ff529-1a6b-4b87-a931-8e4788d52aad",
   "metadata": {
    "execution": {
     "iopub.execute_input": "2025-08-05T15:36:36.840980Z",
     "iopub.status.busy": "2025-08-05T15:36:36.840193Z",
     "iopub.status.idle": "2025-08-05T15:36:36.846158Z",
     "shell.execute_reply": "2025-08-05T15:36:36.844818Z"
    },
    "papermill": {
     "duration": 0.040445,
     "end_time": "2025-08-05T15:36:36.848525",
     "exception": false,
     "start_time": "2025-08-05T15:36:36.808080",
     "status": "completed"
    },
    "tags": []
   },
   "outputs": [],
   "source": [
    "#cp_groups_df"
   ]
  },
  {
   "cell_type": "code",
   "execution_count": 55,
   "id": "90032e27-66df-4540-9169-4e89cfbaa758",
   "metadata": {
    "execution": {
     "iopub.execute_input": "2025-08-05T15:36:36.913749Z",
     "iopub.status.busy": "2025-08-05T15:36:36.912734Z",
     "iopub.status.idle": "2025-08-05T15:36:36.928691Z",
     "shell.execute_reply": "2025-08-05T15:36:36.927595Z"
    },
    "papermill": {
     "duration": 0.050778,
     "end_time": "2025-08-05T15:36:36.930733",
     "exception": false,
     "start_time": "2025-08-05T15:36:36.879955",
     "status": "completed"
    },
    "tags": []
   },
   "outputs": [],
   "source": [
    "subgroups = ['frau1','nongerman','nongerman_male','nongerman_female']\n",
    "\n",
    "# Conditional coverage for subgroup==1\n",
    "cond_coverage = {\n",
    "    g: cp_groups_df.loc[cp_groups_df[g]==1, 'covered'].mean()\n",
    "    for g in subgroups\n",
    "}"
   ]
  },
  {
   "cell_type": "code",
   "execution_count": 56,
   "id": "1e348fb1-b9c3-45bc-ba23-f016827a7e0d",
   "metadata": {
    "execution": {
     "iopub.execute_input": "2025-08-05T15:36:36.974918Z",
     "iopub.status.busy": "2025-08-05T15:36:36.973495Z",
     "iopub.status.idle": "2025-08-05T15:36:36.980553Z",
     "shell.execute_reply": "2025-08-05T15:36:36.979781Z"
    },
    "papermill": {
     "duration": 0.029335,
     "end_time": "2025-08-05T15:36:36.981832",
     "exception": false,
     "start_time": "2025-08-05T15:36:36.952497",
     "status": "completed"
    },
    "tags": []
   },
   "outputs": [
    {
     "data": {
      "text/plain": [
       "{'frau1': 0.9045693489688638,\n",
       " 'nongerman': 0.9052938864873968,\n",
       " 'nongerman_male': 0.924885166171305,\n",
       " 'nongerman_female': 0.872876304023845}"
      ]
     },
     "execution_count": 56,
     "metadata": {},
     "output_type": "execute_result"
    }
   ],
   "source": [
    "cond_coverage"
   ]
  },
  {
   "cell_type": "code",
   "execution_count": 57,
   "id": "f5093324-c3dd-4d63-bc4c-8d945e5c8bbb",
   "metadata": {
    "execution": {
     "iopub.execute_input": "2025-08-05T15:36:37.008034Z",
     "iopub.status.busy": "2025-08-05T15:36:37.007340Z",
     "iopub.status.idle": "2025-08-05T15:36:37.013401Z",
     "shell.execute_reply": "2025-08-05T15:36:37.012633Z"
    },
    "papermill": {
     "duration": 0.019918,
     "end_time": "2025-08-05T15:36:37.015004",
     "exception": false,
     "start_time": "2025-08-05T15:36:36.995086",
     "status": "completed"
    },
    "tags": []
   },
   "outputs": [],
   "source": [
    "for subgroup, cov in cond_coverage.items():\n",
    "    cp_metrics_df[f\"cov_{subgroup}\"] = cov"
   ]
  },
  {
   "cell_type": "code",
   "execution_count": 58,
   "id": "6e872e10-dbe5-49e8-b554-5030c98ff75d",
   "metadata": {
    "execution": {
     "iopub.execute_input": "2025-08-05T15:36:37.052172Z",
     "iopub.status.busy": "2025-08-05T15:36:37.051598Z",
     "iopub.status.idle": "2025-08-05T15:36:37.084255Z",
     "shell.execute_reply": "2025-08-05T15:36:37.083077Z"
    },
    "papermill": {
     "duration": 0.059204,
     "end_time": "2025-08-05T15:36:37.086948",
     "exception": false,
     "start_time": "2025-08-05T15:36:37.027744",
     "status": "completed"
    },
    "tags": []
   },
   "outputs": [
    {
     "data": {
      "text/html": [
       "<div>\n",
       "<style scoped>\n",
       "    .dataframe tbody tr th:only-of-type {\n",
       "        vertical-align: middle;\n",
       "    }\n",
       "\n",
       "    .dataframe tbody tr th {\n",
       "        vertical-align: top;\n",
       "    }\n",
       "\n",
       "    .dataframe thead th {\n",
       "        text-align: right;\n",
       "    }\n",
       "</style>\n",
       "<table border=\"1\" class=\"dataframe\">\n",
       "  <thead>\n",
       "    <tr style=\"text-align: right;\">\n",
       "      <th></th>\n",
       "      <th>universe_id</th>\n",
       "      <th>universe_training_year</th>\n",
       "      <th>universe_training_size</th>\n",
       "      <th>universe_scale</th>\n",
       "      <th>universe_model</th>\n",
       "      <th>universe_exclude_features</th>\n",
       "      <th>universe_exclude_subgroups</th>\n",
       "      <th>q_hat</th>\n",
       "      <th>coverage</th>\n",
       "      <th>avg_size</th>\n",
       "      <th>cov_frau1</th>\n",
       "      <th>cov_nongerman</th>\n",
       "      <th>cov_nongerman_male</th>\n",
       "      <th>cov_nongerman_female</th>\n",
       "    </tr>\n",
       "  </thead>\n",
       "  <tbody>\n",
       "    <tr>\n",
       "      <th>0</th>\n",
       "      <td>5de61325f2a3eabb1425eb66373e95d7</td>\n",
       "      <td>2012_14</td>\n",
       "      <td>5k</td>\n",
       "      <td>scale</td>\n",
       "      <td>penalized_logreg</td>\n",
       "      <td>age</td>\n",
       "      <td>drop-non-german</td>\n",
       "      <td>0.700579</td>\n",
       "      <td>0.911392</td>\n",
       "      <td>1.13761</td>\n",
       "      <td>0.904569</td>\n",
       "      <td>0.905294</td>\n",
       "      <td>0.924885</td>\n",
       "      <td>0.872876</td>\n",
       "    </tr>\n",
       "  </tbody>\n",
       "</table>\n",
       "</div>"
      ],
      "text/plain": [
       "                        universe_id universe_training_year  \\\n",
       "0  5de61325f2a3eabb1425eb66373e95d7                2012_14   \n",
       "\n",
       "  universe_training_size universe_scale    universe_model  \\\n",
       "0                     5k          scale  penalized_logreg   \n",
       "\n",
       "  universe_exclude_features universe_exclude_subgroups     q_hat  coverage  \\\n",
       "0                       age            drop-non-german  0.700579  0.911392   \n",
       "\n",
       "   avg_size  cov_frau1  cov_nongerman  cov_nongerman_male  \\\n",
       "0   1.13761   0.904569       0.905294            0.924885   \n",
       "\n",
       "   cov_nongerman_female  \n",
       "0              0.872876  "
      ]
     },
     "execution_count": 58,
     "metadata": {},
     "output_type": "execute_result"
    }
   ],
   "source": [
    "cp_metrics_df"
   ]
  },
  {
   "cell_type": "markdown",
   "id": "33774451",
   "metadata": {
    "papermill": {
     "duration": 0.031728,
     "end_time": "2025-08-05T15:36:37.151750",
     "exception": false,
     "start_time": "2025-08-05T15:36:37.120022",
     "status": "completed"
    },
    "tags": []
   },
   "source": [
    "# (Fairness) Metrics"
   ]
  },
  {
   "cell_type": "code",
   "execution_count": 59,
   "id": "debc5d62",
   "metadata": {
    "execution": {
     "iopub.execute_input": "2025-08-05T15:36:37.219008Z",
     "iopub.status.busy": "2025-08-05T15:36:37.218397Z",
     "iopub.status.idle": "2025-08-05T15:36:37.242370Z",
     "shell.execute_reply": "2025-08-05T15:36:37.241109Z"
    },
    "papermill": {
     "duration": 0.060584,
     "end_time": "2025-08-05T15:36:37.244690",
     "exception": false,
     "start_time": "2025-08-05T15:36:37.184106",
     "status": "completed"
    },
    "tags": []
   },
   "outputs": [],
   "source": [
    "# do I need to include maxdeutsch1.missing?\n",
    "\n",
    "import numpy as np\n",
    "\n",
    "colname_to_bin = \"maxdeutsch1\"\n",
    "majority_value = org_train[colname_to_bin].mode()[0]\n",
    "\n",
    "org_test[\"majmin\"] = np.where(org_test[colname_to_bin] == majority_value, \"majority\", \"minority\")"
   ]
  },
  {
   "cell_type": "code",
   "execution_count": 60,
   "id": "06a50de5",
   "metadata": {
    "execution": {
     "iopub.execute_input": "2025-08-05T15:36:37.289876Z",
     "iopub.status.busy": "2025-08-05T15:36:37.289139Z",
     "iopub.status.idle": "2025-08-05T15:36:39.299730Z",
     "shell.execute_reply": "2025-08-05T15:36:39.298594Z"
    },
    "papermill": {
     "duration": 2.027371,
     "end_time": "2025-08-05T15:36:39.301877",
     "exception": false,
     "start_time": "2025-08-05T15:36:37.274506",
     "status": "completed"
    },
    "tags": []
   },
   "outputs": [],
   "source": [
    "example_universe = universe.copy()\n",
    "example_universe[\"cutoff\"] = example_universe[\"cutoff\"][0]\n",
    "example_universe[\"eval_fairness_grouping\"] = example_universe[\"eval_fairness_grouping\"][0]\n",
    "fairness_dict, metric_frame = universe_analysis.compute_metrics(\n",
    "    example_universe,\n",
    "    y_pred_prob=probs_test,\n",
    "    y_test=y_true,\n",
    "    org_test=org_test,\n",
    ")"
   ]
  },
  {
   "cell_type": "markdown",
   "id": "f95d4e02",
   "metadata": {
    "papermill": {
     "duration": 0.025014,
     "end_time": "2025-08-05T15:36:39.353551",
     "exception": false,
     "start_time": "2025-08-05T15:36:39.328537",
     "status": "completed"
    },
    "tags": []
   },
   "source": [
    "# Overall"
   ]
  },
  {
   "cell_type": "markdown",
   "id": "bdee4871",
   "metadata": {
    "papermill": {
     "duration": 0.022527,
     "end_time": "2025-08-05T15:36:39.398997",
     "exception": false,
     "start_time": "2025-08-05T15:36:39.376470",
     "status": "completed"
    },
    "tags": []
   },
   "source": [
    "Fairness\n",
    "Main fairness target: Equalized Odds. Seems to be a better fit than equal opportunity, since we're not only interested in Y = 1. Seems to be a better fit than demographic parity, since we also care about accuracy, not just equal distribution of preds.\n",
    "\n",
    "Pick column for computation of fairness metrics\n",
    "\n",
    "Performance\n",
    "Overall performance measures, most interesting in relation to the measures split by group below"
   ]
  },
  {
   "cell_type": "code",
   "execution_count": 61,
   "id": "c4e067c6",
   "metadata": {
    "execution": {
     "iopub.execute_input": "2025-08-05T15:36:39.445239Z",
     "iopub.status.busy": "2025-08-05T15:36:39.444786Z",
     "iopub.status.idle": "2025-08-05T15:36:39.454179Z",
     "shell.execute_reply": "2025-08-05T15:36:39.453029Z"
    },
    "papermill": {
     "duration": 0.034627,
     "end_time": "2025-08-05T15:36:39.456027",
     "exception": false,
     "start_time": "2025-08-05T15:36:39.421400",
     "status": "completed"
    },
    "tags": []
   },
   "outputs": [
    {
     "data": {
      "text/plain": [
       "accuracy                   0.223598\n",
       "balanced accuracy          0.546891\n",
       "f1                         0.244951\n",
       "precision                  0.139932\n",
       "false positive rate        0.887970\n",
       "false negative rate        0.018248\n",
       "selection rate             0.900000\n",
       "count                  89710.000000\n",
       "dtype: float64"
      ]
     },
     "execution_count": 61,
     "metadata": {},
     "output_type": "execute_result"
    }
   ],
   "source": [
    "metric_frame.overall"
   ]
  },
  {
   "cell_type": "markdown",
   "id": "e968fe9d",
   "metadata": {
    "papermill": {
     "duration": 0.023345,
     "end_time": "2025-08-05T15:36:39.504601",
     "exception": false,
     "start_time": "2025-08-05T15:36:39.481256",
     "status": "completed"
    },
    "tags": []
   },
   "source": [
    "By Group"
   ]
  },
  {
   "cell_type": "code",
   "execution_count": 62,
   "id": "ec325bce",
   "metadata": {
    "execution": {
     "iopub.execute_input": "2025-08-05T15:36:39.546041Z",
     "iopub.status.busy": "2025-08-05T15:36:39.545569Z",
     "iopub.status.idle": "2025-08-05T15:36:39.558995Z",
     "shell.execute_reply": "2025-08-05T15:36:39.557964Z"
    },
    "papermill": {
     "duration": 0.030976,
     "end_time": "2025-08-05T15:36:39.560439",
     "exception": false,
     "start_time": "2025-08-05T15:36:39.529463",
     "status": "completed"
    },
    "tags": []
   },
   "outputs": [
    {
     "data": {
      "text/html": [
       "<div>\n",
       "<style scoped>\n",
       "    .dataframe tbody tr th:only-of-type {\n",
       "        vertical-align: middle;\n",
       "    }\n",
       "\n",
       "    .dataframe tbody tr th {\n",
       "        vertical-align: top;\n",
       "    }\n",
       "\n",
       "    .dataframe thead th {\n",
       "        text-align: right;\n",
       "    }\n",
       "</style>\n",
       "<table border=\"1\" class=\"dataframe\">\n",
       "  <thead>\n",
       "    <tr style=\"text-align: right;\">\n",
       "      <th></th>\n",
       "      <th>accuracy</th>\n",
       "      <th>balanced accuracy</th>\n",
       "      <th>f1</th>\n",
       "      <th>precision</th>\n",
       "      <th>false positive rate</th>\n",
       "      <th>false negative rate</th>\n",
       "      <th>selection rate</th>\n",
       "      <th>count</th>\n",
       "    </tr>\n",
       "    <tr>\n",
       "      <th>majmin</th>\n",
       "      <th></th>\n",
       "      <th></th>\n",
       "      <th></th>\n",
       "      <th></th>\n",
       "      <th></th>\n",
       "      <th></th>\n",
       "      <th></th>\n",
       "      <th></th>\n",
       "    </tr>\n",
       "  </thead>\n",
       "  <tbody>\n",
       "    <tr>\n",
       "      <th>majority</th>\n",
       "      <td>0.240278</td>\n",
       "      <td>0.554140</td>\n",
       "      <td>0.254377</td>\n",
       "      <td>0.146141</td>\n",
       "      <td>0.872464</td>\n",
       "      <td>0.019256</td>\n",
       "      <td>0.886772</td>\n",
       "      <td>69170.0</td>\n",
       "    </tr>\n",
       "    <tr>\n",
       "      <th>minority</th>\n",
       "      <td>0.167429</td>\n",
       "      <td>0.523225</td>\n",
       "      <td>0.214433</td>\n",
       "      <td>0.120303</td>\n",
       "      <td>0.939192</td>\n",
       "      <td>0.014358</td>\n",
       "      <td>0.944547</td>\n",
       "      <td>20540.0</td>\n",
       "    </tr>\n",
       "  </tbody>\n",
       "</table>\n",
       "</div>"
      ],
      "text/plain": [
       "          accuracy  balanced accuracy        f1  precision  \\\n",
       "majmin                                                       \n",
       "majority  0.240278           0.554140  0.254377   0.146141   \n",
       "minority  0.167429           0.523225  0.214433   0.120303   \n",
       "\n",
       "          false positive rate  false negative rate  selection rate    count  \n",
       "majmin                                                                       \n",
       "majority             0.872464             0.019256        0.886772  69170.0  \n",
       "minority             0.939192             0.014358        0.944547  20540.0  "
      ]
     },
     "execution_count": 62,
     "metadata": {},
     "output_type": "execute_result"
    }
   ],
   "source": [
    "metric_frame.by_group"
   ]
  },
  {
   "cell_type": "code",
   "execution_count": 63,
   "id": "a9ddbe63",
   "metadata": {
    "execution": {
     "iopub.execute_input": "2025-08-05T15:36:39.586927Z",
     "iopub.status.busy": "2025-08-05T15:36:39.586217Z",
     "iopub.status.idle": "2025-08-05T15:36:41.884948Z",
     "shell.execute_reply": "2025-08-05T15:36:41.884055Z"
    },
    "papermill": {
     "duration": 2.312891,
     "end_time": "2025-08-05T15:36:41.886486",
     "exception": false,
     "start_time": "2025-08-05T15:36:39.573595",
     "status": "completed"
    },
    "tags": []
   },
   "outputs": [
    {
     "data": {
      "text/plain": [
       "array([[<Axes: title={'center': 'accuracy'}, xlabel='majmin'>,\n",
       "        <Axes: title={'center': 'balanced accuracy'}, xlabel='majmin'>,\n",
       "        <Axes: title={'center': 'f1'}, xlabel='majmin'>],\n",
       "       [<Axes: title={'center': 'precision'}, xlabel='majmin'>,\n",
       "        <Axes: title={'center': 'false positive rate'}, xlabel='majmin'>,\n",
       "        <Axes: title={'center': 'false negative rate'}, xlabel='majmin'>],\n",
       "       [<Axes: title={'center': 'selection rate'}, xlabel='majmin'>,\n",
       "        <Axes: title={'center': 'count'}, xlabel='majmin'>,\n",
       "        <Axes: xlabel='majmin'>]], dtype=object)"
      ]
     },
     "execution_count": 63,
     "metadata": {},
     "output_type": "execute_result"
    },
    {
     "data": {
      "image/png": "[encoded data removed]",
      "text/plain": [
       "<Figure size 1200x800 with 9 Axes>"
      ]
     },
     "metadata": {},
     "output_type": "display_data"
    }
   ],
   "source": [
    "# In a graphic\n",
    "metric_frame.by_group.plot.bar(\n",
    "    subplots=True,\n",
    "    layout=[3, 3],\n",
    "    legend=False,\n",
    "    figsize=[12, 8],\n",
    "    title=\"Show all metrics\",\n",
    ")"
   ]
  },
  {
   "cell_type": "markdown",
   "id": "f57a0bac",
   "metadata": {
    "papermill": {
     "duration": 0.022517,
     "end_time": "2025-08-05T15:36:41.935240",
     "exception": false,
     "start_time": "2025-08-05T15:36:41.912723",
     "status": "completed"
    },
    "tags": []
   },
   "source": [
    "# Final Output"
   ]
  },
  {
   "cell_type": "code",
   "execution_count": 64,
   "id": "96d280a3",
   "metadata": {
    "execution": {
     "iopub.execute_input": "2025-08-05T15:36:41.982301Z",
     "iopub.status.busy": "2025-08-05T15:36:41.981666Z",
     "iopub.status.idle": "2025-08-05T15:36:41.990074Z",
     "shell.execute_reply": "2025-08-05T15:36:41.989032Z"
    },
    "papermill": {
     "duration": 0.03379,
     "end_time": "2025-08-05T15:36:41.991538",
     "exception": false,
     "start_time": "2025-08-05T15:36:41.957748",
     "status": "completed"
    },
    "tags": []
   },
   "outputs": [
    {
     "data": {
      "text/plain": [
       "4"
      ]
     },
     "execution_count": 64,
     "metadata": {},
     "output_type": "execute_result"
    }
   ],
   "source": [
    "sub_universes = universe_analysis.generate_sub_universes()\n",
    "len(sub_universes)"
   ]
  },
  {
   "cell_type": "code",
   "execution_count": 65,
   "id": "92adf7ba",
   "metadata": {
    "execution": {
     "iopub.execute_input": "2025-08-05T15:36:42.040070Z",
     "iopub.status.busy": "2025-08-05T15:36:42.039246Z",
     "iopub.status.idle": "2025-08-05T15:36:42.045407Z",
     "shell.execute_reply": "2025-08-05T15:36:42.044528Z"
    },
    "papermill": {
     "duration": 0.032485,
     "end_time": "2025-08-05T15:36:42.047234",
     "exception": false,
     "start_time": "2025-08-05T15:36:42.014749",
     "status": "completed"
    },
    "tags": []
   },
   "outputs": [],
   "source": [
    "def filter_sub_universe_data(sub_universe, org_test):\n",
    "    # Keep all rows — no filtering\n",
    "    keep_rows_mask = np.ones(org_test.shape[0], dtype=bool)\n",
    "\n",
    "    print(f\"[INFO] Keeping all rows: {keep_rows_mask.sum()} rows retained.\")\n",
    "    return keep_rows_mask"
   ]
  },
  {
   "cell_type": "code",
   "execution_count": 66,
   "id": "4a759155",
   "metadata": {
    "execution": {
     "iopub.execute_input": "2025-08-05T15:36:42.095859Z",
     "iopub.status.busy": "2025-08-05T15:36:42.095042Z",
     "iopub.status.idle": "2025-08-05T15:36:51.662277Z",
     "shell.execute_reply": "2025-08-05T15:36:51.661360Z"
    },
    "papermill": {
     "duration": 9.592867,
     "end_time": "2025-08-05T15:36:51.663916",
     "exception": false,
     "start_time": "2025-08-05T15:36:42.071049",
     "status": "completed"
    },
    "tags": []
   },
   "outputs": [
    {
     "name": "stdout",
     "output_type": "stream",
     "text": [
      "Stopping execution_time clock.\n",
      "[INFO] Keeping all rows: 89710 rows retained.\n"
     ]
    },
    {
     "name": "stdout",
     "output_type": "stream",
     "text": [
      "[INFO] Keeping all rows: 89710 rows retained.\n"
     ]
    },
    {
     "name": "stdout",
     "output_type": "stream",
     "text": [
      "[INFO] Keeping all rows: 89710 rows retained.\n"
     ]
    },
    {
     "name": "stdout",
     "output_type": "stream",
     "text": [
      "[INFO] Keeping all rows: 89710 rows retained.\n"
     ]
    },
    {
     "data": {
      "text/html": [
       "<div>\n",
       "<style scoped>\n",
       "    .dataframe tbody tr th:only-of-type {\n",
       "        vertical-align: middle;\n",
       "    }\n",
       "\n",
       "    .dataframe tbody tr th {\n",
       "        vertical-align: top;\n",
       "    }\n",
       "\n",
       "    .dataframe thead th {\n",
       "        text-align: right;\n",
       "    }\n",
       "</style>\n",
       "<table border=\"1\" class=\"dataframe\">\n",
       "  <thead>\n",
       "    <tr style=\"text-align: right;\">\n",
       "      <th></th>\n",
       "      <th>run_no</th>\n",
       "      <th>universe_id</th>\n",
       "      <th>universe_settings</th>\n",
       "      <th>execution_time</th>\n",
       "      <th>test_size_n</th>\n",
       "      <th>test_size_frac</th>\n",
       "      <th>fair_main_equalized_odds_difference</th>\n",
       "      <th>fair_main_equalized_odds_ratio</th>\n",
       "      <th>fair_main_demographic_parity_difference</th>\n",
       "      <th>fair_main_demographic_parity_ratio</th>\n",
       "      <th>...</th>\n",
       "      <th>perf_grp_precision_0</th>\n",
       "      <th>perf_grp_precision_1</th>\n",
       "      <th>perf_grp_false positive rate_0</th>\n",
       "      <th>perf_grp_false positive rate_1</th>\n",
       "      <th>perf_grp_false negative rate_0</th>\n",
       "      <th>perf_grp_false negative rate_1</th>\n",
       "      <th>perf_grp_selection rate_0</th>\n",
       "      <th>perf_grp_selection rate_1</th>\n",
       "      <th>perf_grp_count_0</th>\n",
       "      <th>perf_grp_count_1</th>\n",
       "    </tr>\n",
       "  </thead>\n",
       "  <tbody>\n",
       "    <tr>\n",
       "      <th>0</th>\n",
       "      <td>15</td>\n",
       "      <td>5de61325f2a3eabb1425eb66373e95d7</td>\n",
       "      <td>{\"cutoff\": \"quantile_0.1\", \"eval_fairness_grou...</td>\n",
       "      <td>23.493857</td>\n",
       "      <td>89710</td>\n",
       "      <td>1.0</td>\n",
       "      <td>0.066728</td>\n",
       "      <td>0.928951</td>\n",
       "      <td>0.057776</td>\n",
       "      <td>0.938833</td>\n",
       "      <td>...</td>\n",
       "      <td>NaN</td>\n",
       "      <td>NaN</td>\n",
       "      <td>NaN</td>\n",
       "      <td>NaN</td>\n",
       "      <td>NaN</td>\n",
       "      <td>NaN</td>\n",
       "      <td>NaN</td>\n",
       "      <td>NaN</td>\n",
       "      <td>NaN</td>\n",
       "      <td>NaN</td>\n",
       "    </tr>\n",
       "    <tr>\n",
       "      <th>0</th>\n",
       "      <td>15</td>\n",
       "      <td>5de61325f2a3eabb1425eb66373e95d7</td>\n",
       "      <td>{\"cutoff\": \"quantile_0.1\", \"eval_fairness_grou...</td>\n",
       "      <td>23.493857</td>\n",
       "      <td>89710</td>\n",
       "      <td>1.0</td>\n",
       "      <td>0.066728</td>\n",
       "      <td>0.928951</td>\n",
       "      <td>0.057776</td>\n",
       "      <td>0.938833</td>\n",
       "      <td>...</td>\n",
       "      <td>0.120303</td>\n",
       "      <td>0.146141</td>\n",
       "      <td>0.939192</td>\n",
       "      <td>0.872464</td>\n",
       "      <td>0.014358</td>\n",
       "      <td>0.019256</td>\n",
       "      <td>0.944547</td>\n",
       "      <td>0.886772</td>\n",
       "      <td>20540.0</td>\n",
       "      <td>69170.0</td>\n",
       "    </tr>\n",
       "    <tr>\n",
       "      <th>0</th>\n",
       "      <td>15</td>\n",
       "      <td>5de61325f2a3eabb1425eb66373e95d7</td>\n",
       "      <td>{\"cutoff\": \"quantile_0.25\", \"eval_fairness_gro...</td>\n",
       "      <td>23.493857</td>\n",
       "      <td>89710</td>\n",
       "      <td>1.0</td>\n",
       "      <td>0.132213</td>\n",
       "      <td>0.839625</td>\n",
       "      <td>0.113222</td>\n",
       "      <td>0.864776</td>\n",
       "      <td>...</td>\n",
       "      <td>NaN</td>\n",
       "      <td>NaN</td>\n",
       "      <td>NaN</td>\n",
       "      <td>NaN</td>\n",
       "      <td>NaN</td>\n",
       "      <td>NaN</td>\n",
       "      <td>NaN</td>\n",
       "      <td>NaN</td>\n",
       "      <td>NaN</td>\n",
       "      <td>NaN</td>\n",
       "    </tr>\n",
       "    <tr>\n",
       "      <th>0</th>\n",
       "      <td>15</td>\n",
       "      <td>5de61325f2a3eabb1425eb66373e95d7</td>\n",
       "      <td>{\"cutoff\": \"quantile_0.25\", \"eval_fairness_gro...</td>\n",
       "      <td>23.493857</td>\n",
       "      <td>89710</td>\n",
       "      <td>1.0</td>\n",
       "      <td>0.132213</td>\n",
       "      <td>0.839625</td>\n",
       "      <td>0.113222</td>\n",
       "      <td>0.864776</td>\n",
       "      <td>...</td>\n",
       "      <td>0.128910</td>\n",
       "      <td>0.170354</td>\n",
       "      <td>0.824400</td>\n",
       "      <td>0.692187</td>\n",
       "      <td>0.063767</td>\n",
       "      <td>0.066521</td>\n",
       "      <td>0.837293</td>\n",
       "      <td>0.724071</td>\n",
       "      <td>20540.0</td>\n",
       "      <td>69170.0</td>\n",
       "    </tr>\n",
       "  </tbody>\n",
       "</table>\n",
       "<p>4 rows × 50 columns</p>\n",
       "</div>"
      ],
      "text/plain": [
       "  run_no                       universe_id  \\\n",
       "0     15  5de61325f2a3eabb1425eb66373e95d7   \n",
       "0     15  5de61325f2a3eabb1425eb66373e95d7   \n",
       "0     15  5de61325f2a3eabb1425eb66373e95d7   \n",
       "0     15  5de61325f2a3eabb1425eb66373e95d7   \n",
       "\n",
       "                                   universe_settings  execution_time  \\\n",
       "0  {\"cutoff\": \"quantile_0.1\", \"eval_fairness_grou...       23.493857   \n",
       "0  {\"cutoff\": \"quantile_0.1\", \"eval_fairness_grou...       23.493857   \n",
       "0  {\"cutoff\": \"quantile_0.25\", \"eval_fairness_gro...       23.493857   \n",
       "0  {\"cutoff\": \"quantile_0.25\", \"eval_fairness_gro...       23.493857   \n",
       "\n",
       "   test_size_n  test_size_frac  fair_main_equalized_odds_difference  \\\n",
       "0        89710             1.0                             0.066728   \n",
       "0        89710             1.0                             0.066728   \n",
       "0        89710             1.0                             0.132213   \n",
       "0        89710             1.0                             0.132213   \n",
       "\n",
       "   fair_main_equalized_odds_ratio  fair_main_demographic_parity_difference  \\\n",
       "0                        0.928951                                 0.057776   \n",
       "0                        0.928951                                 0.057776   \n",
       "0                        0.839625                                 0.113222   \n",
       "0                        0.839625                                 0.113222   \n",
       "\n",
       "   fair_main_demographic_parity_ratio  ...  perf_grp_precision_0  \\\n",
       "0                            0.938833  ...                   NaN   \n",
       "0                            0.938833  ...              0.120303   \n",
       "0                            0.864776  ...                   NaN   \n",
       "0                            0.864776  ...              0.128910   \n",
       "\n",
       "   perf_grp_precision_1  perf_grp_false positive rate_0  \\\n",
       "0                   NaN                             NaN   \n",
       "0              0.146141                        0.939192   \n",
       "0                   NaN                             NaN   \n",
       "0              0.170354                        0.824400   \n",
       "\n",
       "   perf_grp_false positive rate_1  perf_grp_false negative rate_0  \\\n",
       "0                             NaN                             NaN   \n",
       "0                        0.872464                        0.014358   \n",
       "0                             NaN                             NaN   \n",
       "0                        0.692187                        0.063767   \n",
       "\n",
       "   perf_grp_false negative rate_1  perf_grp_selection rate_0  \\\n",
       "0                             NaN                        NaN   \n",
       "0                        0.019256                   0.944547   \n",
       "0                             NaN                        NaN   \n",
       "0                        0.066521                   0.837293   \n",
       "\n",
       "   perf_grp_selection rate_1  perf_grp_count_0  perf_grp_count_1  \n",
       "0                        NaN               NaN               NaN  \n",
       "0                   0.886772           20540.0           69170.0  \n",
       "0                        NaN               NaN               NaN  \n",
       "0                   0.724071           20540.0           69170.0  \n",
       "\n",
       "[4 rows x 50 columns]"
      ]
     },
     "execution_count": 66,
     "metadata": {},
     "output_type": "execute_result"
    }
   ],
   "source": [
    "final_output = universe_analysis.generate_final_output(\n",
    "    y_pred_prob=probs_test,\n",
    "    y_test=y_true,\n",
    "    org_test=org_test,\n",
    "    filter_data=filter_sub_universe_data,\n",
    "    cp_metrics_df=cp_metrics_df,\n",
    "    save=True,\n",
    ")\n",
    "final_output"
   ]
  }
 ],
 "metadata": {
  "celltoolbar": "Tags",
  "kernelspec": {
   "display_name": "Python (CMA Fairness)",
   "language": "python",
   "name": "cma_fair_env"
  },
  "language_info": {
   "codemirror_mode": {
    "name": "ipython",
    "version": 3
   },
   "file_extension": ".py",
   "mimetype": "text/x-python",
   "name": "python",
   "nbconvert_exporter": "python",
   "pygments_lexer": "ipython3",
   "version": "3.10.12"
  },
  "papermill": {
   "default_parameters": {},
   "duration": 37.133512,
   "end_time": "2025-08-05T15:36:52.412609",
   "environment_variables": {},
   "exception": null,
   "input_path": "universe_analysis.ipynb",
   "output_path": "output/runs/15/notebooks/m_15-5de61325f2a3eabb1425eb66373e95d7.ipynb",
   "parameters": {
    "output_dir": "output",
    "run_no": "15",
    "seed": "2023",
    "universe": "{\"cutoff\": [\"quantile_0.1\", \"quantile_0.25\"], \"eval_fairness_grouping\": [\"majority-minority\", \"nationality-all\"], \"exclude_features\": \"age\", \"exclude_subgroups\": \"drop-non-german\", \"model\": \"penalized_logreg\", \"scale\": \"scale\", \"training_size\": \"5k\", \"training_year\": \"2012_14\"}",
    "universe_id": "5de61325f2a3eabb1425eb66373e95d7"
   },
   "start_time": "2025-08-05T15:36:15.279097",
   "version": "2.6.0"
  }
 },
 "nbformat": 4,
 "nbformat_minor": 5
}