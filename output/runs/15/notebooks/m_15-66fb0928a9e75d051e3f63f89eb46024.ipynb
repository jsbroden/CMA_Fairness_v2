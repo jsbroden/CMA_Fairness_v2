{
 "cells": [
  {
   "cell_type": "code",
   "execution_count": 1,
   "id": "f159f837-637b-42ba-96b5-ec9a68c44524",
   "metadata": {
    "execution": {
     "iopub.execute_input": "2025-08-05T15:29:30.535410Z",
     "iopub.status.busy": "2025-08-05T15:29:30.534923Z",
     "iopub.status.idle": "2025-08-05T15:29:30.549877Z",
     "shell.execute_reply": "2025-08-05T15:29:30.549043Z"
    },
    "papermill": {
     "duration": 0.0342,
     "end_time": "2025-08-05T15:29:30.551140",
     "exception": false,
     "start_time": "2025-08-05T15:29:30.516940",
     "status": "completed"
    },
    "tags": []
   },
   "outputs": [
    {
     "name": "stdout",
     "output_type": "stream",
     "text": [
      "/dss/dsshome1/0C/ra93lal2/cma/CMA_Fairness_v2\n"
     ]
    },
    {
     "name": "stderr",
     "output_type": "stream",
     "text": [
      "/dss/dsshome1/0C/ra93lal2/.local/share/virtualenvs/CMA_Fairness_v2-3j10GkSs/lib/python3.10/site-packages/IPython/core/magics/osm.py:393: UserWarning: This is now an optional IPython functionality, using bookmarks requires you to install the `pickleshare` library.\n",
      "  bkms = self.shell.db.get('bookmarks', {})\n",
      "/dss/dsshome1/0C/ra93lal2/.local/share/virtualenvs/CMA_Fairness_v2-3j10GkSs/lib/python3.10/site-packages/IPython/core/magics/osm.py:417: UserWarning: This is now an optional IPython functionality, setting dhist requires you to install the `pickleshare` library.\n",
      "  self.shell.db['dhist'] = compress_dhist(dhist)[-100:]\n"
     ]
    }
   ],
   "source": [
    "%cd ~/cma/CMA_Fairness_v2"
   ]
  },
  {
   "cell_type": "markdown",
   "id": "de2603b9",
   "metadata": {
    "papermill": {
     "duration": 0.014566,
     "end_time": "2025-08-05T15:29:30.575202",
     "exception": false,
     "start_time": "2025-08-05T15:29:30.560636",
     "status": "completed"
    },
    "tags": []
   },
   "source": [
    "The following cell holds the definition of our parameters, these values can be overriden by rendering the with e.g. the following command:\n",
    "\n",
    "papermill -p alpha 0.2 -p ratio 0.3 universe_analysis.ipynb output/test_run.ipynb"
   ]
  },
  {
   "cell_type": "code",
   "execution_count": 2,
   "id": "a80968a0-40bb-4fa9-85ef-2d5eefb01975",
   "metadata": {
    "execution": {
     "iopub.execute_input": "2025-08-05T15:29:30.600549Z",
     "iopub.status.busy": "2025-08-05T15:29:30.600051Z",
     "iopub.status.idle": "2025-08-05T15:29:30.605806Z",
     "shell.execute_reply": "2025-08-05T15:29:30.604810Z"
    },
    "papermill": {
     "duration": 0.022994,
     "end_time": "2025-08-05T15:29:30.607729",
     "exception": false,
     "start_time": "2025-08-05T15:29:30.584735",
     "status": "completed"
    },
    "tags": []
   },
   "outputs": [
    {
     "name": "stdout",
     "output_type": "stream",
     "text": [
      "Current working directory: /dss/dsshome1/0C/ra93lal2/cma/CMA_Fairness_v2\n"
     ]
    }
   ],
   "source": [
    "import os\n",
    "print(\"Current working directory:\", os.getcwd())"
   ]
  },
  {
   "cell_type": "code",
   "execution_count": 3,
   "id": "2dce4c03",
   "metadata": {
    "execution": {
     "iopub.execute_input": "2025-08-05T15:29:30.643503Z",
     "iopub.status.busy": "2025-08-05T15:29:30.642704Z",
     "iopub.status.idle": "2025-08-05T15:29:30.648924Z",
     "shell.execute_reply": "2025-08-05T15:29:30.647861Z"
    },
    "papermill": {
     "duration": 0.0254,
     "end_time": "2025-08-05T15:29:30.650836",
     "exception": false,
     "start_time": "2025-08-05T15:29:30.625436",
     "status": "completed"
    },
    "tags": [
     "parameters"
    ]
   },
   "outputs": [],
   "source": [
    "run_no = 0\n",
    "universe_id = \"test\"\n",
    "universe = {\n",
    "    \"training_size\": \"25k\", # \"25k\", \"5k\", \"1k\"\n",
    "    \"training_year\": \"2014\", # \"2014\", \"2012_14\", \"2010_14\"\n",
    "    \"scale\": \"scale\", # \"scale\", \"do-not-scale\",\n",
    "    \"model\": \"elasticnet\", # \"logreg\", \"penalized_logreg\", \"rf\", \"gbm\", \"elasticnet\"\n",
    "    \"cutoff\": [\"quantile_0.15\", \"quantile_0.30\"],\n",
    "    \"exclude_features\": \"age\", # \"none\", \"nationality\", \"sex\", \"nationality-sex\", \"age\"\n",
    "    \"exclude_subgroups\": \"keep-all\", # \"keep-all\", \"drop-non-german\"\n",
    "    \"eval_fairness_grouping\": [\"majority-minority\", \"nationality-all\"]\n",
    "}\n",
    "\n",
    "output_dir=\"./output\"\n",
    "seed=0"
   ]
  },
  {
   "cell_type": "code",
   "execution_count": 4,
   "id": "e5632feb",
   "metadata": {
    "execution": {
     "iopub.execute_input": "2025-08-05T15:29:30.688985Z",
     "iopub.status.busy": "2025-08-05T15:29:30.688361Z",
     "iopub.status.idle": "2025-08-05T15:29:30.694131Z",
     "shell.execute_reply": "2025-08-05T15:29:30.693027Z"
    },
    "papermill": {
     "duration": 0.025561,
     "end_time": "2025-08-05T15:29:30.695862",
     "exception": false,
     "start_time": "2025-08-05T15:29:30.670301",
     "status": "completed"
    },
    "tags": [
     "injected-parameters"
    ]
   },
   "outputs": [],
   "source": [
    "# Parameters\n",
    "universe_id = \"66fb0928a9e75d051e3f63f89eb46024\"\n",
    "run_no = \"15\"\n",
    "universe = \"{\\\"cutoff\\\": [\\\"quantile_0.1\\\", \\\"quantile_0.25\\\"], \\\"eval_fairness_grouping\\\": [\\\"majority-minority\\\", \\\"nationality-all\\\"], \\\"exclude_features\\\": \\\"none\\\", \\\"exclude_subgroups\\\": \\\"keep-all\\\", \\\"model\\\": \\\"rf\\\", \\\"scale\\\": \\\"do-not-scale\\\", \\\"training_size\\\": \\\"5k\\\", \\\"training_year\\\": \\\"2014\\\"}\"\n",
    "output_dir = \"output\"\n",
    "seed = \"2023\"\n"
   ]
  },
  {
   "cell_type": "code",
   "execution_count": 5,
   "id": "1650acaf",
   "metadata": {
    "execution": {
     "iopub.execute_input": "2025-08-05T15:29:30.729564Z",
     "iopub.status.busy": "2025-08-05T15:29:30.729025Z",
     "iopub.status.idle": "2025-08-05T15:29:30.733966Z",
     "shell.execute_reply": "2025-08-05T15:29:30.732883Z"
    },
    "papermill": {
     "duration": 0.022943,
     "end_time": "2025-08-05T15:29:30.735799",
     "exception": false,
     "start_time": "2025-08-05T15:29:30.712856",
     "status": "completed"
    },
    "tags": []
   },
   "outputs": [],
   "source": [
    "import json\n",
    "if isinstance(universe, str):\n",
    "    universe = json.loads(universe)"
   ]
  },
  {
   "cell_type": "code",
   "execution_count": 6,
   "id": "16620c48",
   "metadata": {
    "execution": {
     "iopub.execute_input": "2025-08-05T15:29:30.773598Z",
     "iopub.status.busy": "2025-08-05T15:29:30.772780Z",
     "iopub.status.idle": "2025-08-05T15:29:30.817405Z",
     "shell.execute_reply": "2025-08-05T15:29:30.816521Z"
    },
    "papermill": {
     "duration": 0.063589,
     "end_time": "2025-08-05T15:29:30.819303",
     "exception": false,
     "start_time": "2025-08-05T15:29:30.755714",
     "status": "completed"
    },
    "tags": []
   },
   "outputs": [],
   "source": [
    "# Auto-reload the custom package\n",
    "%load_ext autoreload\n",
    "%autoreload 1\n",
    "%aimport fairness_multiverse"
   ]
  },
  {
   "cell_type": "code",
   "execution_count": 7,
   "id": "01c5c9f3",
   "metadata": {
    "execution": {
     "iopub.execute_input": "2025-08-05T15:29:30.855006Z",
     "iopub.status.busy": "2025-08-05T15:29:30.854046Z",
     "iopub.status.idle": "2025-08-05T15:29:32.705057Z",
     "shell.execute_reply": "2025-08-05T15:29:32.703969Z"
    },
    "papermill": {
     "duration": 1.871011,
     "end_time": "2025-08-05T15:29:32.707112",
     "exception": false,
     "start_time": "2025-08-05T15:29:30.836101",
     "status": "completed"
    },
    "tags": []
   },
   "outputs": [],
   "source": [
    "from fairness_multiverse.universe import UniverseAnalysis\n",
    "\n",
    "universe_analysis = UniverseAnalysis(\n",
    "    run_no = run_no,\n",
    "    universe_id = universe_id,\n",
    "    universe = universe,\n",
    "    output_dir=output_dir,\n",
    ")"
   ]
  },
  {
   "cell_type": "code",
   "execution_count": 8,
   "id": "106241f5",
   "metadata": {
    "execution": {
     "iopub.execute_input": "2025-08-05T15:29:32.742780Z",
     "iopub.status.busy": "2025-08-05T15:29:32.741863Z",
     "iopub.status.idle": "2025-08-05T15:29:32.749000Z",
     "shell.execute_reply": "2025-08-05T15:29:32.747971Z"
    },
    "papermill": {
     "duration": 0.026252,
     "end_time": "2025-08-05T15:29:32.750854",
     "exception": false,
     "start_time": "2025-08-05T15:29:32.724602",
     "status": "completed"
    },
    "tags": []
   },
   "outputs": [
    {
     "name": "stdout",
     "output_type": "stream",
     "text": [
      "Using Seed: 2023\n"
     ]
    }
   ],
   "source": [
    "import numpy as np\n",
    "parsed_seed = int(seed)\n",
    "np.random.seed(parsed_seed)\n",
    "print(f\"Using Seed: {parsed_seed}\")"
   ]
  },
  {
   "cell_type": "markdown",
   "id": "e0ebdc57",
   "metadata": {
    "papermill": {
     "duration": 0.020027,
     "end_time": "2025-08-05T15:29:32.789713",
     "exception": false,
     "start_time": "2025-08-05T15:29:32.769686",
     "status": "completed"
    },
    "tags": []
   },
   "source": [
    "# Loading Data"
   ]
  },
  {
   "cell_type": "code",
   "execution_count": 9,
   "id": "f0496b8a",
   "metadata": {
    "execution": {
     "iopub.execute_input": "2025-08-05T15:29:32.826097Z",
     "iopub.status.busy": "2025-08-05T15:29:32.825182Z",
     "iopub.status.idle": "2025-08-05T15:29:44.294446Z",
     "shell.execute_reply": "2025-08-05T15:29:44.293211Z"
    },
    "papermill": {
     "duration": 11.488939,
     "end_time": "2025-08-05T15:29:44.296132",
     "exception": false,
     "start_time": "2025-08-05T15:29:32.807193",
     "status": "completed"
    },
    "tags": []
   },
   "outputs": [
    {
     "name": "stdout",
     "output_type": "stream",
     "text": [
      "Loading SIAB data from cache: data/siab_cached.csv.gz\n"
     ]
    },
    {
     "name": "stdout",
     "output_type": "stream",
     "text": [
      "(643690, 164)\n"
     ]
    }
   ],
   "source": [
    "from pathlib import Path\n",
    "import pandas as pd\n",
    "\n",
    "# File paths\n",
    "raw_file = Path(\"data/raw/siab.csv\")\n",
    "cache_file = Path(\"data/siab_cached.csv.gz\")\n",
    "\n",
    "# Ensure cache directory exists\n",
    "cache_file.parent.mkdir(parents=True, exist_ok=True)\n",
    "\n",
    "# Load with simple caching\n",
    "if cache_file.exists():\n",
    "    print(f\"Loading SIAB data from cache: {cache_file}\")\n",
    "    siab = pd.read_csv(cache_file, compression='gzip')\n",
    "else:\n",
    "    print(f\"Cache not found. Reading raw SIAB data: {raw_file}\")\n",
    "    siab = pd.read_csv(raw_file)\n",
    "    siab.to_csv(cache_file, index=False, compression='gzip')\n",
    "    print(f\"Cached SIAB data to: {cache_file}\")\n",
    "\n",
    "print(siab.shape)"
   ]
  },
  {
   "cell_type": "code",
   "execution_count": 10,
   "id": "db0ca512-5f53-4dba-abdb-a2888bca41ba",
   "metadata": {
    "execution": {
     "iopub.execute_input": "2025-08-05T15:29:44.337913Z",
     "iopub.status.busy": "2025-08-05T15:29:44.337308Z",
     "iopub.status.idle": "2025-08-05T15:29:44.343602Z",
     "shell.execute_reply": "2025-08-05T15:29:44.342476Z"
    },
    "papermill": {
     "duration": 0.029242,
     "end_time": "2025-08-05T15:29:44.345568",
     "exception": false,
     "start_time": "2025-08-05T15:29:44.316326",
     "status": "completed"
    },
    "tags": []
   },
   "outputs": [],
   "source": [
    "#siab"
   ]
  },
  {
   "cell_type": "markdown",
   "id": "997051c5-15bd-4b69-9786-c3001a3ce484",
   "metadata": {
    "papermill": {
     "duration": 0.017786,
     "end_time": "2025-08-05T15:29:44.381585",
     "exception": false,
     "start_time": "2025-08-05T15:29:44.363799",
     "status": "completed"
    },
    "tags": []
   },
   "source": [
    "# Splitting Data and Setting Training Data Size"
   ]
  },
  {
   "cell_type": "code",
   "execution_count": 11,
   "id": "aea9c6ef-6f46-42c8-85eb-5a62025c1508",
   "metadata": {
    "execution": {
     "iopub.execute_input": "2025-08-05T15:29:44.421197Z",
     "iopub.status.busy": "2025-08-05T15:29:44.420688Z",
     "iopub.status.idle": "2025-08-05T15:29:44.670156Z",
     "shell.execute_reply": "2025-08-05T15:29:44.669305Z"
    },
    "papermill": {
     "duration": 0.269223,
     "end_time": "2025-08-05T15:29:44.671614",
     "exception": false,
     "start_time": "2025-08-05T15:29:44.402391",
     "status": "completed"
    },
    "tags": []
   },
   "outputs": [],
   "source": [
    "from fairness_multiverse.universe import sample_by_year_size\n",
    "\n",
    "siab_train = sample_by_year_size(siab,\n",
    "                               training_year=universe[\"training_year\"],\n",
    "                               training_size=universe[\"training_size\"])"
   ]
  },
  {
   "cell_type": "code",
   "execution_count": 12,
   "id": "8d3afb32-789d-442c-8d5d-9f5aa8dd2eed",
   "metadata": {
    "execution": {
     "iopub.execute_input": "2025-08-05T15:29:44.692480Z",
     "iopub.status.busy": "2025-08-05T15:29:44.691634Z",
     "iopub.status.idle": "2025-08-05T15:29:44.696219Z",
     "shell.execute_reply": "2025-08-05T15:29:44.695442Z"
    },
    "papermill": {
     "duration": 0.016832,
     "end_time": "2025-08-05T15:29:44.698080",
     "exception": false,
     "start_time": "2025-08-05T15:29:44.681248",
     "status": "completed"
    },
    "tags": []
   },
   "outputs": [],
   "source": [
    "#siab_train.shape"
   ]
  },
  {
   "cell_type": "code",
   "execution_count": 13,
   "id": "d582db68-1a4c-47fb-84fc-08518dc1975a",
   "metadata": {
    "execution": {
     "iopub.execute_input": "2025-08-05T15:29:44.738520Z",
     "iopub.status.busy": "2025-08-05T15:29:44.738009Z",
     "iopub.status.idle": "2025-08-05T15:29:44.743252Z",
     "shell.execute_reply": "2025-08-05T15:29:44.742214Z"
    },
    "papermill": {
     "duration": 0.027359,
     "end_time": "2025-08-05T15:29:44.745738",
     "exception": false,
     "start_time": "2025-08-05T15:29:44.718379",
     "status": "completed"
    },
    "tags": []
   },
   "outputs": [],
   "source": [
    "#display(siab_train.groupby(\"year\").size())"
   ]
  },
  {
   "cell_type": "code",
   "execution_count": 14,
   "id": "a561edb4-d032-42cb-8256-22eac1111c64",
   "metadata": {
    "execution": {
     "iopub.execute_input": "2025-08-05T15:29:44.784966Z",
     "iopub.status.busy": "2025-08-05T15:29:44.784461Z",
     "iopub.status.idle": "2025-08-05T15:29:45.047197Z",
     "shell.execute_reply": "2025-08-05T15:29:45.046228Z"
    },
    "papermill": {
     "duration": 0.284155,
     "end_time": "2025-08-05T15:29:45.049109",
     "exception": false,
     "start_time": "2025-08-05T15:29:44.764954",
     "status": "completed"
    },
    "tags": []
   },
   "outputs": [],
   "source": [
    "#siab_train = siab_s[siab_s.year < 2015]\n",
    "siab_calib = siab[siab.year == 2015]\n",
    "siab_test = siab[siab.year == 2016]"
   ]
  },
  {
   "cell_type": "code",
   "execution_count": 15,
   "id": "472de16f-c3db-4916-846b-1f0de9cf1746",
   "metadata": {
    "execution": {
     "iopub.execute_input": "2025-08-05T15:29:45.086099Z",
     "iopub.status.busy": "2025-08-05T15:29:45.085128Z",
     "iopub.status.idle": "2025-08-05T15:29:45.095681Z",
     "shell.execute_reply": "2025-08-05T15:29:45.094643Z"
    },
    "papermill": {
     "duration": 0.031875,
     "end_time": "2025-08-05T15:29:45.098267",
     "exception": false,
     "start_time": "2025-08-05T15:29:45.066392",
     "status": "completed"
    },
    "tags": []
   },
   "outputs": [],
   "source": [
    "X_train = siab_train.iloc[:,4:164]\n",
    "y_train = siab_train.iloc[:, [3]]"
   ]
  },
  {
   "cell_type": "code",
   "execution_count": 16,
   "id": "828c96af-f43a-4ed6-ba47-8ac73a47d56c",
   "metadata": {
    "execution": {
     "iopub.execute_input": "2025-08-05T15:29:45.138581Z",
     "iopub.status.busy": "2025-08-05T15:29:45.137643Z",
     "iopub.status.idle": "2025-08-05T15:29:45.191781Z",
     "shell.execute_reply": "2025-08-05T15:29:45.190440Z"
    },
    "papermill": {
     "duration": 0.076437,
     "end_time": "2025-08-05T15:29:45.193853",
     "exception": false,
     "start_time": "2025-08-05T15:29:45.117416",
     "status": "completed"
    },
    "tags": []
   },
   "outputs": [],
   "source": [
    "X_calib = siab_calib.iloc[:,4:164]\n",
    "y_calib = siab_calib.iloc[:, [3]]"
   ]
  },
  {
   "cell_type": "code",
   "execution_count": 17,
   "id": "c34be9c3-6bd6-476e-acd3-845840e303be",
   "metadata": {
    "execution": {
     "iopub.execute_input": "2025-08-05T15:29:45.232611Z",
     "iopub.status.busy": "2025-08-05T15:29:45.231939Z",
     "iopub.status.idle": "2025-08-05T15:29:45.284738Z",
     "shell.execute_reply": "2025-08-05T15:29:45.283640Z"
    },
    "papermill": {
     "duration": 0.073673,
     "end_time": "2025-08-05T15:29:45.286619",
     "exception": false,
     "start_time": "2025-08-05T15:29:45.212946",
     "status": "completed"
    },
    "tags": []
   },
   "outputs": [],
   "source": [
    "X_test = siab_test.iloc[:,4:164]\n",
    "y_true = siab_test.iloc[:, [3]]"
   ]
  },
  {
   "cell_type": "code",
   "execution_count": 18,
   "id": "e6c733c5",
   "metadata": {
    "execution": {
     "iopub.execute_input": "2025-08-05T15:29:45.324199Z",
     "iopub.status.busy": "2025-08-05T15:29:45.323441Z",
     "iopub.status.idle": "2025-08-05T15:29:45.424672Z",
     "shell.execute_reply": "2025-08-05T15:29:45.423726Z"
    },
    "papermill": {
     "duration": 0.121034,
     "end_time": "2025-08-05T15:29:45.426601",
     "exception": false,
     "start_time": "2025-08-05T15:29:45.305567",
     "status": "completed"
    },
    "tags": []
   },
   "outputs": [],
   "source": [
    "# Auxiliary data needed downstream in the pipeline\n",
    "\n",
    "org_train = X_train.copy()\n",
    "org_test = X_test.copy()\n",
    "org_calib = X_calib.copy()"
   ]
  },
  {
   "cell_type": "markdown",
   "id": "0a4a1b33",
   "metadata": {
    "papermill": {
     "duration": 0.018843,
     "end_time": "2025-08-05T15:29:45.480095",
     "exception": false,
     "start_time": "2025-08-05T15:29:45.461252",
     "status": "completed"
    },
    "tags": []
   },
   "source": [
    "# Preprocessing Data"
   ]
  },
  {
   "cell_type": "code",
   "execution_count": 19,
   "id": "ca879031",
   "metadata": {
    "execution": {
     "iopub.execute_input": "2025-08-05T15:29:45.517245Z",
     "iopub.status.busy": "2025-08-05T15:29:45.516019Z",
     "iopub.status.idle": "2025-08-05T15:29:45.522813Z",
     "shell.execute_reply": "2025-08-05T15:29:45.521930Z"
    },
    "papermill": {
     "duration": 0.027444,
     "end_time": "2025-08-05T15:29:45.524671",
     "exception": false,
     "start_time": "2025-08-05T15:29:45.497227",
     "status": "completed"
    },
    "tags": []
   },
   "outputs": [],
   "source": [
    "# EXCLUDE PROTECTED FEATURES\n",
    "# ----------------------\n",
    "# \"exclude_features\": \"none\", # \"nationality\", \"sex\", \"nationality-sex\"\n",
    "\n",
    "excluded_features = universe[\"exclude_features\"].split(\"-\") # split, e.g.: \"nationality-sex\" -> [\"nationality\", \"sex\"]\n",
    "excluded_features_dictionary = {\n",
    "    \"nationality\": [\"maxdeutsch1\", \"maxdeutsch.Missing.\"],\n",
    "    \"sex\": [\"frau1\"],\n",
    "    \"age\": [\"age\"],\n",
    "}"
   ]
  },
  {
   "cell_type": "code",
   "execution_count": 20,
   "id": "b745ac60",
   "metadata": {
    "execution": {
     "iopub.execute_input": "2025-08-05T15:29:45.562913Z",
     "iopub.status.busy": "2025-08-05T15:29:45.562409Z",
     "iopub.status.idle": "2025-08-05T15:29:45.568819Z",
     "shell.execute_reply": "2025-08-05T15:29:45.567944Z"
    },
    "papermill": {
     "duration": 0.026488,
     "end_time": "2025-08-05T15:29:45.570423",
     "exception": false,
     "start_time": "2025-08-05T15:29:45.543935",
     "status": "completed"
    },
    "tags": []
   },
   "outputs": [],
   "source": [
    "# Code nice names to column names\n",
    "\n",
    "excluded_features_columns = [\n",
    "    excluded_features_dictionary[f] for f in excluded_features if len(f) > 0 and f != \"none\"\n",
    "]"
   ]
  },
  {
   "cell_type": "code",
   "execution_count": 21,
   "id": "f84f73a2",
   "metadata": {
    "execution": {
     "iopub.execute_input": "2025-08-05T15:29:45.608992Z",
     "iopub.status.busy": "2025-08-05T15:29:45.608178Z",
     "iopub.status.idle": "2025-08-05T15:29:45.662789Z",
     "shell.execute_reply": "2025-08-05T15:29:45.661665Z"
    },
    "papermill": {
     "duration": 0.076486,
     "end_time": "2025-08-05T15:29:45.665032",
     "exception": false,
     "start_time": "2025-08-05T15:29:45.588546",
     "status": "completed"
    },
    "tags": []
   },
   "outputs": [],
   "source": [
    "from utils import flatten_once\n",
    "\n",
    "excluded_features_columns = flatten_once(excluded_features_columns)"
   ]
  },
  {
   "cell_type": "code",
   "execution_count": 22,
   "id": "884dea22",
   "metadata": {
    "execution": {
     "iopub.execute_input": "2025-08-05T15:29:45.721140Z",
     "iopub.status.busy": "2025-08-05T15:29:45.720645Z",
     "iopub.status.idle": "2025-08-05T15:29:45.726933Z",
     "shell.execute_reply": "2025-08-05T15:29:45.725721Z"
    },
    "papermill": {
     "duration": 0.028812,
     "end_time": "2025-08-05T15:29:45.729087",
     "exception": false,
     "start_time": "2025-08-05T15:29:45.700275",
     "status": "completed"
    },
    "tags": []
   },
   "outputs": [],
   "source": [
    "if len(excluded_features_columns) > 0:\n",
    "    print(f\"Dropping features: {excluded_features_columns}\")\n",
    "    X_train.drop(excluded_features_columns, axis=1, inplace=True)"
   ]
  },
  {
   "cell_type": "code",
   "execution_count": 23,
   "id": "95ab8b16",
   "metadata": {
    "execution": {
     "iopub.execute_input": "2025-08-05T15:29:45.769347Z",
     "iopub.status.busy": "2025-08-05T15:29:45.768859Z",
     "iopub.status.idle": "2025-08-05T15:29:45.774707Z",
     "shell.execute_reply": "2025-08-05T15:29:45.773732Z"
    },
    "papermill": {
     "duration": 0.027466,
     "end_time": "2025-08-05T15:29:45.776445",
     "exception": false,
     "start_time": "2025-08-05T15:29:45.748979",
     "status": "completed"
    },
    "tags": []
   },
   "outputs": [],
   "source": [
    "if len(excluded_features_columns) > 0:\n",
    "    print(f\"Dropping features: {excluded_features_columns}\")\n",
    "    X_test.drop(excluded_features_columns, axis=1, inplace=True)"
   ]
  },
  {
   "cell_type": "code",
   "execution_count": 24,
   "id": "1853aaf5-fb9f-46cb-a2b5-8ea4ae2237e4",
   "metadata": {
    "execution": {
     "iopub.execute_input": "2025-08-05T15:29:45.816899Z",
     "iopub.status.busy": "2025-08-05T15:29:45.816356Z",
     "iopub.status.idle": "2025-08-05T15:29:45.822206Z",
     "shell.execute_reply": "2025-08-05T15:29:45.821237Z"
    },
    "papermill": {
     "duration": 0.027268,
     "end_time": "2025-08-05T15:29:45.823825",
     "exception": false,
     "start_time": "2025-08-05T15:29:45.796557",
     "status": "completed"
    },
    "tags": []
   },
   "outputs": [],
   "source": [
    "if len(excluded_features_columns) > 0:\n",
    "    print(f\"Dropping features: {excluded_features_columns}\")\n",
    "    X_calib.drop(excluded_features_columns, axis=1, inplace=True)"
   ]
  },
  {
   "cell_type": "code",
   "execution_count": 25,
   "id": "76c4dc6d",
   "metadata": {
    "execution": {
     "iopub.execute_input": "2025-08-05T15:29:45.865402Z",
     "iopub.status.busy": "2025-08-05T15:29:45.864820Z",
     "iopub.status.idle": "2025-08-05T15:29:45.870772Z",
     "shell.execute_reply": "2025-08-05T15:29:45.869747Z"
    },
    "papermill": {
     "duration": 0.02823,
     "end_time": "2025-08-05T15:29:45.872415",
     "exception": false,
     "start_time": "2025-08-05T15:29:45.844185",
     "status": "completed"
    },
    "tags": []
   },
   "outputs": [],
   "source": [
    "# EXCLUDE CERTAIN SUBGROUPS\n",
    "# ----------------------\n",
    "\n",
    "mode = universe.get(\"exclude_subgroups\", \"keep-all\") \n",
    "# Fetches the exclude_subgroups setting from the universe dict.\n",
    "# Defaults to \"keep-all\" if the key is missing."
   ]
  },
  {
   "cell_type": "code",
   "execution_count": 26,
   "id": "21994072",
   "metadata": {
    "execution": {
     "iopub.execute_input": "2025-08-05T15:29:45.918444Z",
     "iopub.status.busy": "2025-08-05T15:29:45.917330Z",
     "iopub.status.idle": "2025-08-05T15:29:45.927162Z",
     "shell.execute_reply": "2025-08-05T15:29:45.926233Z"
    },
    "papermill": {
     "duration": 0.036448,
     "end_time": "2025-08-05T15:29:45.929242",
     "exception": false,
     "start_time": "2025-08-05T15:29:45.892794",
     "status": "completed"
    },
    "tags": []
   },
   "outputs": [],
   "source": [
    "if mode == \"keep-all\":\n",
    "    keep_mask = pd.Series(True, index=org_train.index)\n",
    "\n",
    "# org_train contains the original feature columns from features_org (in Simson)\n",
    "# features_org contains unprocessed features, for me X_train at beginning ???\n",
    "# For keep-all, creates a boolean Series (keep_mask) of all True, so no rows are removed.\n",
    "\n",
    "elif mode == \"drop-non-german\":\n",
    "    keep_mask = org_train[\"maxdeutsch1\"] == 1 # ??? what about missing values?\n",
    "\n",
    "else:\n",
    "    raise ValueError(f\"Unsupported mode for exclude_subgroups: {mode}\")"
   ]
  },
  {
   "cell_type": "code",
   "execution_count": 27,
   "id": "71651440",
   "metadata": {
    "execution": {
     "iopub.execute_input": "2025-08-05T15:29:45.971042Z",
     "iopub.status.busy": "2025-08-05T15:29:45.970570Z",
     "iopub.status.idle": "2025-08-05T15:29:45.977092Z",
     "shell.execute_reply": "2025-08-05T15:29:45.976202Z"
    },
    "papermill": {
     "duration": 0.02929,
     "end_time": "2025-08-05T15:29:45.978530",
     "exception": false,
     "start_time": "2025-08-05T15:29:45.949240",
     "status": "completed"
    },
    "tags": []
   },
   "outputs": [],
   "source": [
    "n_drop = (~keep_mask).sum() # Calculates how many rows are set to be dropped\n",
    "if n_drop > 0:\n",
    "    pct = n_drop / len(keep_mask) * 100\n",
    "    print(f\"Dropping {n_drop} rows ({pct:.2f}%) where mode='{mode}'\")"
   ]
  },
  {
   "cell_type": "code",
   "execution_count": 28,
   "id": "5fb8eee5",
   "metadata": {
    "execution": {
     "iopub.execute_input": "2025-08-05T15:29:46.017595Z",
     "iopub.status.busy": "2025-08-05T15:29:46.016982Z",
     "iopub.status.idle": "2025-08-05T15:29:46.026308Z",
     "shell.execute_reply": "2025-08-05T15:29:46.025163Z"
    },
    "papermill": {
     "duration": 0.029971,
     "end_time": "2025-08-05T15:29:46.028084",
     "exception": false,
     "start_time": "2025-08-05T15:29:45.998113",
     "status": "completed"
    },
    "tags": []
   },
   "outputs": [],
   "source": [
    "X_train = X_train[keep_mask]"
   ]
  },
  {
   "cell_type": "code",
   "execution_count": 29,
   "id": "b202bb3a",
   "metadata": {
    "execution": {
     "iopub.execute_input": "2025-08-05T15:29:46.070104Z",
     "iopub.status.busy": "2025-08-05T15:29:46.069362Z",
     "iopub.status.idle": "2025-08-05T15:29:46.075815Z",
     "shell.execute_reply": "2025-08-05T15:29:46.074747Z"
    },
    "papermill": {
     "duration": 0.02864,
     "end_time": "2025-08-05T15:29:46.077727",
     "exception": false,
     "start_time": "2025-08-05T15:29:46.049087",
     "status": "completed"
    },
    "tags": []
   },
   "outputs": [],
   "source": [
    "y_train = y_train[keep_mask]"
   ]
  },
  {
   "cell_type": "markdown",
   "id": "493e2ac3",
   "metadata": {
    "papermill": {
     "duration": 0.018884,
     "end_time": "2025-08-05T15:29:46.116212",
     "exception": false,
     "start_time": "2025-08-05T15:29:46.097328",
     "status": "completed"
    },
    "tags": []
   },
   "source": [
    "# Model Training"
   ]
  },
  {
   "cell_type": "code",
   "execution_count": 30,
   "id": "679e1268",
   "metadata": {
    "execution": {
     "iopub.execute_input": "2025-08-05T15:29:46.159185Z",
     "iopub.status.busy": "2025-08-05T15:29:46.158668Z",
     "iopub.status.idle": "2025-08-05T15:29:46.264358Z",
     "shell.execute_reply": "2025-08-05T15:29:46.263310Z"
    },
    "papermill": {
     "duration": 0.129816,
     "end_time": "2025-08-05T15:29:46.266432",
     "exception": false,
     "start_time": "2025-08-05T15:29:46.136616",
     "status": "completed"
    },
    "tags": []
   },
   "outputs": [],
   "source": [
    "from sklearn.linear_model import LogisticRegression\n",
    "from sklearn.ensemble import GradientBoostingClassifier, RandomForestClassifier\n",
    "\n",
    "if (universe[\"model\"] == \"logreg\"):\n",
    "    model = LogisticRegression() #penalty=\"none\", solver=\"newton-cg\", max_iter=1) # include random_state=19 ?\n",
    "elif (universe[\"model\"] == \"penalized_logreg\"):\n",
    "    model = LogisticRegression(penalty=\"l2\", C=0.1) #, solver=\"newton-cg\", max_iter=1)\n",
    "elif (universe[\"model\"] == \"rf\"):\n",
    "    model = RandomForestClassifier() # n_estimators=100, n_jobs=-1\n",
    "elif (universe[\"model\"] == \"gbm\"):\n",
    "    model = GradientBoostingClassifier()\n",
    "elif (universe[\"model\"] == \"elasticnet\"):\n",
    "    model = LogisticRegression(penalty = 'elasticnet', solver = 'saga', l1_ratio = 0.5) # max_iter=5000\n",
    "else:\n",
    "    raise \"Unsupported universe.model\""
   ]
  },
  {
   "cell_type": "code",
   "execution_count": 31,
   "id": "0cc8f744",
   "metadata": {
    "execution": {
     "iopub.execute_input": "2025-08-05T15:29:46.307971Z",
     "iopub.status.busy": "2025-08-05T15:29:46.307180Z",
     "iopub.status.idle": "2025-08-05T15:29:46.313762Z",
     "shell.execute_reply": "2025-08-05T15:29:46.312717Z"
    },
    "papermill": {
     "duration": 0.030982,
     "end_time": "2025-08-05T15:29:46.315833",
     "exception": false,
     "start_time": "2025-08-05T15:29:46.284851",
     "status": "completed"
    },
    "tags": []
   },
   "outputs": [],
   "source": [
    "import numpy as np\n",
    "from sklearn.pipeline import Pipeline\n",
    "from sklearn.preprocessing import StandardScaler\n",
    "\n",
    "model = Pipeline([\n",
    "    #(\"continuous_processor\", continuous_processor),\n",
    "    #(\"categorical_preprocessor\", categorical_preprocessor),\n",
    "    (\"scale\", StandardScaler() if universe[\"scale\"] == \"scale\" else None), \n",
    "    (\"model\", model),\n",
    "])"
   ]
  },
  {
   "cell_type": "code",
   "execution_count": 32,
   "id": "9442c04d",
   "metadata": {
    "execution": {
     "iopub.execute_input": "2025-08-05T15:29:46.359408Z",
     "iopub.status.busy": "2025-08-05T15:29:46.358744Z",
     "iopub.status.idle": "2025-08-05T15:29:48.013373Z",
     "shell.execute_reply": "2025-08-05T15:29:48.012405Z"
    },
    "papermill": {
     "duration": 1.678184,
     "end_time": "2025-08-05T15:29:48.014976",
     "exception": false,
     "start_time": "2025-08-05T15:29:46.336792",
     "status": "completed"
    },
    "tags": []
   },
   "outputs": [
    {
     "data": {
      "text/html": [
       "<style>#sk-container-id-1 {color: black;background-color: white;}#sk-container-id-1 pre{padding: 0;}#sk-container-id-1 div.sk-toggleable {background-color: white;}#sk-container-id-1 label.sk-toggleable__label {cursor: pointer;display: block;width: 100%;margin-bottom: 0;padding: 0.3em;box-sizing: border-box;text-align: center;}#sk-container-id-1 label.sk-toggleable__label-arrow:before {content: \"▸\";float: left;margin-right: 0.25em;color: #696969;}#sk-container-id-1 label.sk-toggleable__label-arrow:hover:before {color: black;}#sk-container-id-1 div.sk-estimator:hover label.sk-toggleable__label-arrow:before {color: black;}#sk-container-id-1 div.sk-toggleable__content {max-height: 0;max-width: 0;overflow: hidden;text-align: left;background-color: #f0f8ff;}#sk-container-id-1 div.sk-toggleable__content pre {margin: 0.2em;color: black;border-radius: 0.25em;background-color: #f0f8ff;}#sk-container-id-1 input.sk-toggleable__control:checked~div.sk-toggleable__content {max-height: 200px;max-width: 100%;overflow: auto;}#sk-container-id-1 input.sk-toggleable__control:checked~label.sk-toggleable__label-arrow:before {content: \"▾\";}#sk-container-id-1 div.sk-estimator input.sk-toggleable__control:checked~label.sk-toggleable__label {background-color: #d4ebff;}#sk-container-id-1 div.sk-label input.sk-toggleable__control:checked~label.sk-toggleable__label {background-color: #d4ebff;}#sk-container-id-1 input.sk-hidden--visually {border: 0;clip: rect(1px 1px 1px 1px);clip: rect(1px, 1px, 1px, 1px);height: 1px;margin: -1px;overflow: hidden;padding: 0;position: absolute;width: 1px;}#sk-container-id-1 div.sk-estimator {font-family: monospace;background-color: #f0f8ff;border: 1px dotted black;border-radius: 0.25em;box-sizing: border-box;margin-bottom: 0.5em;}#sk-container-id-1 div.sk-estimator:hover {background-color: #d4ebff;}#sk-container-id-1 div.sk-parallel-item::after {content: \"\";width: 100%;border-bottom: 1px solid gray;flex-grow: 1;}#sk-container-id-1 div.sk-label:hover label.sk-toggleable__label {background-color: #d4ebff;}#sk-container-id-1 div.sk-serial::before {content: \"\";position: absolute;border-left: 1px solid gray;box-sizing: border-box;top: 0;bottom: 0;left: 50%;z-index: 0;}#sk-container-id-1 div.sk-serial {display: flex;flex-direction: column;align-items: center;background-color: white;padding-right: 0.2em;padding-left: 0.2em;position: relative;}#sk-container-id-1 div.sk-item {position: relative;z-index: 1;}#sk-container-id-1 div.sk-parallel {display: flex;align-items: stretch;justify-content: center;background-color: white;position: relative;}#sk-container-id-1 div.sk-item::before, #sk-container-id-1 div.sk-parallel-item::before {content: \"\";position: absolute;border-left: 1px solid gray;box-sizing: border-box;top: 0;bottom: 0;left: 50%;z-index: -1;}#sk-container-id-1 div.sk-parallel-item {display: flex;flex-direction: column;z-index: 1;position: relative;background-color: white;}#sk-container-id-1 div.sk-parallel-item:first-child::after {align-self: flex-end;width: 50%;}#sk-container-id-1 div.sk-parallel-item:last-child::after {align-self: flex-start;width: 50%;}#sk-container-id-1 div.sk-parallel-item:only-child::after {width: 0;}#sk-container-id-1 div.sk-dashed-wrapped {border: 1px dashed gray;margin: 0 0.4em 0.5em 0.4em;box-sizing: border-box;padding-bottom: 0.4em;background-color: white;}#sk-container-id-1 div.sk-label label {font-family: monospace;font-weight: bold;display: inline-block;line-height: 1.2em;}#sk-container-id-1 div.sk-label-container {text-align: center;}#sk-container-id-1 div.sk-container {/* jupyter's `normalize.less` sets `[hidden] { display: none; }` but bootstrap.min.css set `[hidden] { display: none !important; }` so we also need the `!important` here to be able to override the default hidden behavior on the sphinx rendered scikit-learn.org. See: https://github.com/scikit-learn/scikit-learn/issues/21755 */display: inline-block !important;position: relative;}#sk-container-id-1 div.sk-text-repr-fallback {display: none;}</style><div id=\"sk-container-id-1\" class=\"sk-top-container\"><div class=\"sk-text-repr-fallback\"><pre>Pipeline(steps=[(&#x27;scale&#x27;, None), (&#x27;model&#x27;, RandomForestClassifier())])</pre><b>In a Jupyter environment, please rerun this cell to show the HTML representation or trust the notebook. <br />On GitHub, the HTML representation is unable to render, please try loading this page with nbviewer.org.</b></div><div class=\"sk-container\" hidden><div class=\"sk-item sk-dashed-wrapped\"><div class=\"sk-label-container\"><div class=\"sk-label sk-toggleable\"><input class=\"sk-toggleable__control sk-hidden--visually\" id=\"sk-estimator-id-1\" type=\"checkbox\" ><label for=\"sk-estimator-id-1\" class=\"sk-toggleable__label sk-toggleable__label-arrow\">Pipeline</label><div class=\"sk-toggleable__content\"><pre>Pipeline(steps=[(&#x27;scale&#x27;, None), (&#x27;model&#x27;, RandomForestClassifier())])</pre></div></div></div><div class=\"sk-serial\"><div class=\"sk-item\"><div class=\"sk-estimator sk-toggleable\"><input class=\"sk-toggleable__control sk-hidden--visually\" id=\"sk-estimator-id-2\" type=\"checkbox\" ><label for=\"sk-estimator-id-2\" class=\"sk-toggleable__label sk-toggleable__label-arrow\">None</label><div class=\"sk-toggleable__content\"><pre>None</pre></div></div></div><div class=\"sk-item\"><div class=\"sk-estimator sk-toggleable\"><input class=\"sk-toggleable__control sk-hidden--visually\" id=\"sk-estimator-id-3\" type=\"checkbox\" ><label for=\"sk-estimator-id-3\" class=\"sk-toggleable__label sk-toggleable__label-arrow\">RandomForestClassifier</label><div class=\"sk-toggleable__content\"><pre>RandomForestClassifier()</pre></div></div></div></div></div></div></div>"
      ],
      "text/plain": [
       "Pipeline(steps=[('scale', None), ('model', RandomForestClassifier())])"
      ]
     },
     "execution_count": 32,
     "metadata": {},
     "output_type": "execute_result"
    }
   ],
   "source": [
    "model.fit(X_train, y_train.values.ravel())"
   ]
  },
  {
   "cell_type": "code",
   "execution_count": 33,
   "id": "af59f8c0",
   "metadata": {
    "execution": {
     "iopub.execute_input": "2025-08-05T15:29:48.054112Z",
     "iopub.status.busy": "2025-08-05T15:29:48.053629Z",
     "iopub.status.idle": "2025-08-05T15:29:48.059654Z",
     "shell.execute_reply": "2025-08-05T15:29:48.058557Z"
    },
    "papermill": {
     "duration": 0.026986,
     "end_time": "2025-08-05T15:29:48.061431",
     "exception": false,
     "start_time": "2025-08-05T15:29:48.034445",
     "status": "completed"
    },
    "tags": []
   },
   "outputs": [],
   "source": [
    "from fairness_multiverse.universe import predict_w_threshold"
   ]
  },
  {
   "cell_type": "code",
   "execution_count": 34,
   "id": "a7cf2e16",
   "metadata": {
    "execution": {
     "iopub.execute_input": "2025-08-05T15:29:48.103803Z",
     "iopub.status.busy": "2025-08-05T15:29:48.102925Z",
     "iopub.status.idle": "2025-08-05T15:29:50.775994Z",
     "shell.execute_reply": "2025-08-05T15:29:50.774971Z"
    },
    "papermill": {
     "duration": 2.695446,
     "end_time": "2025-08-05T15:29:50.777830",
     "exception": false,
     "start_time": "2025-08-05T15:29:48.082384",
     "status": "completed"
    },
    "tags": []
   },
   "outputs": [
    {
     "data": {
      "text/plain": [
       "0.8647085051833686"
      ]
     },
     "execution_count": 34,
     "metadata": {},
     "output_type": "execute_result"
    }
   ],
   "source": [
    "probs_test = model.predict_proba(X_test)\n",
    "\n",
    "'''\n",
    "Below code returns a boolean array (or binary 0/1 array depending on how it’s used) where each element \n",
    "is True if the probability of class 1 is greater than or equal to the threshold, and False otherwise.\n",
    "'''\n",
    "y_pred_default = predict_w_threshold(probs_test, 0.5)\n",
    "\n",
    "from sklearn.metrics import accuracy_score\n",
    "\n",
    "# Naive prediction\n",
    "accuracy_score(y_true = y_true, y_pred = y_pred_default)"
   ]
  },
  {
   "cell_type": "code",
   "execution_count": 35,
   "id": "081964c3",
   "metadata": {
    "execution": {
     "iopub.execute_input": "2025-08-05T15:29:50.817951Z",
     "iopub.status.busy": "2025-08-05T15:29:50.817181Z",
     "iopub.status.idle": "2025-08-05T15:29:53.518671Z",
     "shell.execute_reply": "2025-08-05T15:29:53.517777Z"
    },
    "papermill": {
     "duration": 2.722203,
     "end_time": "2025-08-05T15:29:53.520331",
     "exception": false,
     "start_time": "2025-08-05T15:29:50.798128",
     "status": "completed"
    },
    "tags": []
   },
   "outputs": [
    {
     "data": {
      "text/plain": [
       "array([0, 0, 0, ..., 0, 0, 0])"
      ]
     },
     "execution_count": 35,
     "metadata": {},
     "output_type": "execute_result"
    }
   ],
   "source": [
    "model.predict(X_test)"
   ]
  },
  {
   "cell_type": "markdown",
   "id": "56c9705b",
   "metadata": {
    "papermill": {
     "duration": 0.019323,
     "end_time": "2025-08-05T15:29:53.562043",
     "exception": false,
     "start_time": "2025-08-05T15:29:53.542720",
     "status": "completed"
    },
    "tags": []
   },
   "source": [
    "# Conformal Prediction"
   ]
  },
  {
   "cell_type": "code",
   "execution_count": 36,
   "id": "160ec6ff",
   "metadata": {
    "execution": {
     "iopub.execute_input": "2025-08-05T15:29:53.602611Z",
     "iopub.status.busy": "2025-08-05T15:29:53.601946Z",
     "iopub.status.idle": "2025-08-05T15:29:53.607273Z",
     "shell.execute_reply": "2025-08-05T15:29:53.606348Z"
    },
    "papermill": {
     "duration": 0.027464,
     "end_time": "2025-08-05T15:29:53.608956",
     "exception": false,
     "start_time": "2025-08-05T15:29:53.581492",
     "status": "completed"
    },
    "tags": []
   },
   "outputs": [],
   "source": [
    "# Miscoverage level for conformal prediction (10% allowed error rate => 90% target coverage)\n",
    "alpha = 0.1"
   ]
  },
  {
   "cell_type": "code",
   "execution_count": 37,
   "id": "eadf4555-3dd3-440e-8e35-f82a4ad9f855",
   "metadata": {
    "execution": {
     "iopub.execute_input": "2025-08-05T15:29:53.647310Z",
     "iopub.status.busy": "2025-08-05T15:29:53.646584Z",
     "iopub.status.idle": "2025-08-05T15:29:55.883189Z",
     "shell.execute_reply": "2025-08-05T15:29:55.882234Z"
    },
    "papermill": {
     "duration": 2.256842,
     "end_time": "2025-08-05T15:29:55.885082",
     "exception": false,
     "start_time": "2025-08-05T15:29:53.628240",
     "status": "completed"
    },
    "tags": []
   },
   "outputs": [],
   "source": [
    "probs_calib = model.predict_proba(X_calib)"
   ]
  },
  {
   "cell_type": "code",
   "execution_count": 38,
   "id": "2ed93547-6d5d-4983-9b36-1ecb300da49a",
   "metadata": {
    "execution": {
     "iopub.execute_input": "2025-08-05T15:29:55.923530Z",
     "iopub.status.busy": "2025-08-05T15:29:55.923076Z",
     "iopub.status.idle": "2025-08-05T15:29:55.928741Z",
     "shell.execute_reply": "2025-08-05T15:29:55.927673Z"
    },
    "papermill": {
     "duration": 0.025922,
     "end_time": "2025-08-05T15:29:55.930560",
     "exception": false,
     "start_time": "2025-08-05T15:29:55.904638",
     "status": "completed"
    },
    "tags": []
   },
   "outputs": [],
   "source": [
    "y_calib = y_calib.values.ravel().astype(int)"
   ]
  },
  {
   "cell_type": "code",
   "execution_count": 39,
   "id": "65d1320d-f588-4b38-9072-62af1ae97f7d",
   "metadata": {
    "execution": {
     "iopub.execute_input": "2025-08-05T15:29:55.970996Z",
     "iopub.status.busy": "2025-08-05T15:29:55.970546Z",
     "iopub.status.idle": "2025-08-05T15:29:55.977780Z",
     "shell.execute_reply": "2025-08-05T15:29:55.976837Z"
    },
    "papermill": {
     "duration": 0.030298,
     "end_time": "2025-08-05T15:29:55.979611",
     "exception": false,
     "start_time": "2025-08-05T15:29:55.949313",
     "status": "completed"
    },
    "tags": []
   },
   "outputs": [],
   "source": [
    "from fairness_multiverse.conformal import compute_nc_scores\n",
    "\n",
    "# Compute nonconformity scores on calibration set (1 - probability of true class)\n",
    "nc_scores = compute_nc_scores(probs_calib, y_calib)"
   ]
  },
  {
   "cell_type": "code",
   "execution_count": 40,
   "id": "df3b8ca3-53b7-43d5-9667-7c85da7aeda2",
   "metadata": {
    "execution": {
     "iopub.execute_input": "2025-08-05T15:29:56.003149Z",
     "iopub.status.busy": "2025-08-05T15:29:56.002790Z",
     "iopub.status.idle": "2025-08-05T15:29:56.010306Z",
     "shell.execute_reply": "2025-08-05T15:29:56.009500Z"
    },
    "papermill": {
     "duration": 0.021152,
     "end_time": "2025-08-05T15:29:56.011753",
     "exception": false,
     "start_time": "2025-08-05T15:29:55.990601",
     "status": "completed"
    },
    "tags": []
   },
   "outputs": [],
   "source": [
    "from fairness_multiverse.conformal import find_threshold\n",
    "\n",
    "# Find conformal threshold q_hat for the given alpha (split conformal method)\n",
    "q_hat = find_threshold(nc_scores, alpha)"
   ]
  },
  {
   "cell_type": "code",
   "execution_count": 41,
   "id": "4d29e6c1-0ef6-4aa4-b8fe-4fe79b0d033a",
   "metadata": {
    "execution": {
     "iopub.execute_input": "2025-08-05T15:29:56.052306Z",
     "iopub.status.busy": "2025-08-05T15:29:56.051818Z",
     "iopub.status.idle": "2025-08-05T15:29:56.059452Z",
     "shell.execute_reply": "2025-08-05T15:29:56.058305Z"
    },
    "papermill": {
     "duration": 0.03744,
     "end_time": "2025-08-05T15:29:56.062242",
     "exception": false,
     "start_time": "2025-08-05T15:29:56.024802",
     "status": "completed"
    },
    "tags": []
   },
   "outputs": [
    {
     "data": {
      "text/plain": [
       "0.6599999999999999"
      ]
     },
     "execution_count": 41,
     "metadata": {},
     "output_type": "execute_result"
    }
   ],
   "source": [
    "q_hat"
   ]
  },
  {
   "cell_type": "code",
   "execution_count": 42,
   "id": "92460794-cdac-4be2-ba28-f28c0515a6fb",
   "metadata": {
    "execution": {
     "iopub.execute_input": "2025-08-05T15:29:56.118872Z",
     "iopub.status.busy": "2025-08-05T15:29:56.118408Z",
     "iopub.status.idle": "2025-08-05T15:29:59.180574Z",
     "shell.execute_reply": "2025-08-05T15:29:59.179682Z"
    },
    "papermill": {
     "duration": 3.091163,
     "end_time": "2025-08-05T15:29:59.181989",
     "exception": false,
     "start_time": "2025-08-05T15:29:56.090826",
     "status": "completed"
    },
    "tags": []
   },
   "outputs": [],
   "source": [
    "from fairness_multiverse.conformal import predict_conformal_sets\n",
    "\n",
    "# Generate prediction sets for each test example\n",
    "pred_sets = predict_conformal_sets(model, X_test, q_hat)"
   ]
  },
  {
   "cell_type": "code",
   "execution_count": 43,
   "id": "d90c9a65-e6db-4f5d-80cd-e68fb7e46829",
   "metadata": {
    "execution": {
     "iopub.execute_input": "2025-08-05T15:29:59.204290Z",
     "iopub.status.busy": "2025-08-05T15:29:59.203901Z",
     "iopub.status.idle": "2025-08-05T15:29:59.209658Z",
     "shell.execute_reply": "2025-08-05T15:29:59.208350Z"
    },
    "papermill": {
     "duration": 0.018792,
     "end_time": "2025-08-05T15:29:59.211765",
     "exception": false,
     "start_time": "2025-08-05T15:29:59.192973",
     "status": "completed"
    },
    "tags": []
   },
   "outputs": [],
   "source": [
    "y_true = y_true.squeeze()"
   ]
  },
  {
   "cell_type": "code",
   "execution_count": 44,
   "id": "3a58a54a-1e68-46b9-927a-df01f18aebc8",
   "metadata": {
    "execution": {
     "iopub.execute_input": "2025-08-05T15:29:59.255722Z",
     "iopub.status.busy": "2025-08-05T15:29:59.255192Z",
     "iopub.status.idle": "2025-08-05T15:30:00.220391Z",
     "shell.execute_reply": "2025-08-05T15:30:00.219480Z"
    },
    "papermill": {
     "duration": 0.990074,
     "end_time": "2025-08-05T15:30:00.222006",
     "exception": false,
     "start_time": "2025-08-05T15:29:59.231932",
     "status": "completed"
    },
    "tags": []
   },
   "outputs": [],
   "source": [
    "from fairness_multiverse.conformal import evaluate_sets\n",
    "\n",
    "# Evaluate coverage and average set size on test data\n",
    "metrics = evaluate_sets(pred_sets, y_true)"
   ]
  },
  {
   "cell_type": "markdown",
   "id": "2b569c12-9aaa-4c88-98c9-bbcd0cf3ebb8",
   "metadata": {
    "papermill": {
     "duration": 0.022036,
     "end_time": "2025-08-05T15:30:00.265407",
     "exception": false,
     "start_time": "2025-08-05T15:30:00.243371",
     "status": "completed"
    },
    "tags": []
   },
   "source": [
    "# CP Metrics"
   ]
  },
  {
   "cell_type": "code",
   "execution_count": 45,
   "id": "5ce0a5cb-201f-45a0-ade5-94c7f0bd6095",
   "metadata": {
    "execution": {
     "iopub.execute_input": "2025-08-05T15:30:00.310506Z",
     "iopub.status.busy": "2025-08-05T15:30:00.309588Z",
     "iopub.status.idle": "2025-08-05T15:30:00.319483Z",
     "shell.execute_reply": "2025-08-05T15:30:00.316222Z"
    },
    "papermill": {
     "duration": 0.03396,
     "end_time": "2025-08-05T15:30:00.321280",
     "exception": false,
     "start_time": "2025-08-05T15:30:00.287320",
     "status": "completed"
    },
    "tags": []
   },
   "outputs": [
    {
     "data": {
      "text/plain": [
       "{'coverage': 0.9123174673949392, 'avg_size': 1.13825660461487}"
      ]
     },
     "execution_count": 45,
     "metadata": {},
     "output_type": "execute_result"
    }
   ],
   "source": [
    "metrics"
   ]
  },
  {
   "cell_type": "code",
   "execution_count": 46,
   "id": "9b9a838d-31c9-430b-ae14-12baee460d17",
   "metadata": {
    "execution": {
     "iopub.execute_input": "2025-08-05T15:30:00.361329Z",
     "iopub.status.busy": "2025-08-05T15:30:00.360873Z",
     "iopub.status.idle": "2025-08-05T15:30:00.367518Z",
     "shell.execute_reply": "2025-08-05T15:30:00.366581Z"
    },
    "papermill": {
     "duration": 0.027997,
     "end_time": "2025-08-05T15:30:00.369341",
     "exception": false,
     "start_time": "2025-08-05T15:30:00.341344",
     "status": "completed"
    },
    "tags": []
   },
   "outputs": [],
   "source": [
    "example_universe = universe.copy()\n",
    "universe_training_year = example_universe.get(\"training_year\")\n",
    "universe_training_size = example_universe.get(\"training_size\")\n",
    "universe_scale = example_universe.get(\"scale\")\n",
    "universe_model = example_universe.get(\"model\")\n",
    "universe_exclude_features = example_universe.get(\"exclude_features\")\n",
    "universe_exclude_subgroups = example_universe.get(\"exclude_subgroups\")"
   ]
  },
  {
   "cell_type": "code",
   "execution_count": 47,
   "id": "f4b6a8ac-9dc0-4245-8a91-5b3b5999c4f9",
   "metadata": {
    "execution": {
     "iopub.execute_input": "2025-08-05T15:30:00.409999Z",
     "iopub.status.busy": "2025-08-05T15:30:00.409528Z",
     "iopub.status.idle": "2025-08-05T15:30:00.415692Z",
     "shell.execute_reply": "2025-08-05T15:30:00.414778Z"
    },
    "papermill": {
     "duration": 0.028019,
     "end_time": "2025-08-05T15:30:00.417338",
     "exception": false,
     "start_time": "2025-08-05T15:30:00.389319",
     "status": "completed"
    },
    "tags": []
   },
   "outputs": [],
   "source": [
    "cp_metrics_dict = {\n",
    "    \"universe_id\": [universe_id],\n",
    "    \"universe_training_year\": [universe_training_year],\n",
    "    \"universe_training_size\": [universe_training_size],\n",
    "    \"universe_scale\": [universe_scale],\n",
    "    \"universe_model\": [universe_model],\n",
    "    \"universe_exclude_features\": [universe_exclude_features],\n",
    "    \"universe_exclude_subgroups\": [universe_exclude_subgroups],\n",
    "    \"q_hat\": [q_hat],\n",
    "    \"coverage\": [metrics[\"coverage\"]],\n",
    "    \"avg_size\": [metrics[\"avg_size\"]],\n",
    "}"
   ]
  },
  {
   "cell_type": "code",
   "execution_count": 48,
   "id": "908acbb1-0371-4915-85ca-3fa520d2efe2",
   "metadata": {
    "execution": {
     "iopub.execute_input": "2025-08-05T15:30:00.457095Z",
     "iopub.status.busy": "2025-08-05T15:30:00.456127Z",
     "iopub.status.idle": "2025-08-05T15:30:00.464234Z",
     "shell.execute_reply": "2025-08-05T15:30:00.463300Z"
    },
    "papermill": {
     "duration": 0.029676,
     "end_time": "2025-08-05T15:30:00.465730",
     "exception": false,
     "start_time": "2025-08-05T15:30:00.436054",
     "status": "completed"
    },
    "tags": []
   },
   "outputs": [
    {
     "data": {
      "text/plain": [
       "{'universe_id': ['66fb0928a9e75d051e3f63f89eb46024'],\n",
       " 'universe_training_year': ['2014'],\n",
       " 'universe_training_size': ['5k'],\n",
       " 'universe_scale': ['do-not-scale'],\n",
       " 'universe_model': ['rf'],\n",
       " 'universe_exclude_features': ['none'],\n",
       " 'universe_exclude_subgroups': ['keep-all'],\n",
       " 'q_hat': [0.6599999999999999],\n",
       " 'coverage': [0.9123174673949392],\n",
       " 'avg_size': [1.13825660461487]}"
      ]
     },
     "execution_count": 48,
     "metadata": {},
     "output_type": "execute_result"
    }
   ],
   "source": [
    "cp_metrics_dict"
   ]
  },
  {
   "cell_type": "code",
   "execution_count": 49,
   "id": "33007efc-14e9-4ec6-97ac-56a455c82265",
   "metadata": {
    "execution": {
     "iopub.execute_input": "2025-08-05T15:30:00.505496Z",
     "iopub.status.busy": "2025-08-05T15:30:00.504803Z",
     "iopub.status.idle": "2025-08-05T15:30:00.510970Z",
     "shell.execute_reply": "2025-08-05T15:30:00.510006Z"
    },
    "papermill": {
     "duration": 0.027324,
     "end_time": "2025-08-05T15:30:00.512711",
     "exception": false,
     "start_time": "2025-08-05T15:30:00.485387",
     "status": "completed"
    },
    "tags": []
   },
   "outputs": [],
   "source": [
    "cp_metrics_df = pd.DataFrame(cp_metrics_dict)"
   ]
  },
  {
   "cell_type": "code",
   "execution_count": 50,
   "id": "db12611b-57b2-4910-b9d0-355adfd6e7bf",
   "metadata": {
    "execution": {
     "iopub.execute_input": "2025-08-05T15:30:00.558675Z",
     "iopub.status.busy": "2025-08-05T15:30:00.558107Z",
     "iopub.status.idle": "2025-08-05T15:30:00.573367Z",
     "shell.execute_reply": "2025-08-05T15:30:00.572586Z"
    },
    "papermill": {
     "duration": 0.041687,
     "end_time": "2025-08-05T15:30:00.574644",
     "exception": false,
     "start_time": "2025-08-05T15:30:00.532957",
     "status": "completed"
    },
    "tags": []
   },
   "outputs": [
    {
     "data": {
      "text/html": [
       "<div>\n",
       "<style scoped>\n",
       "    .dataframe tbody tr th:only-of-type {\n",
       "        vertical-align: middle;\n",
       "    }\n",
       "\n",
       "    .dataframe tbody tr th {\n",
       "        vertical-align: top;\n",
       "    }\n",
       "\n",
       "    .dataframe thead th {\n",
       "        text-align: right;\n",
       "    }\n",
       "</style>\n",
       "<table border=\"1\" class=\"dataframe\">\n",
       "  <thead>\n",
       "    <tr style=\"text-align: right;\">\n",
       "      <th></th>\n",
       "      <th>universe_id</th>\n",
       "      <th>universe_training_year</th>\n",
       "      <th>universe_training_size</th>\n",
       "      <th>universe_scale</th>\n",
       "      <th>universe_model</th>\n",
       "      <th>universe_exclude_features</th>\n",
       "      <th>universe_exclude_subgroups</th>\n",
       "      <th>q_hat</th>\n",
       "      <th>coverage</th>\n",
       "      <th>avg_size</th>\n",
       "    </tr>\n",
       "  </thead>\n",
       "  <tbody>\n",
       "    <tr>\n",
       "      <th>0</th>\n",
       "      <td>66fb0928a9e75d051e3f63f89eb46024</td>\n",
       "      <td>2014</td>\n",
       "      <td>5k</td>\n",
       "      <td>do-not-scale</td>\n",
       "      <td>rf</td>\n",
       "      <td>none</td>\n",
       "      <td>keep-all</td>\n",
       "      <td>0.66</td>\n",
       "      <td>0.912317</td>\n",
       "      <td>1.138257</td>\n",
       "    </tr>\n",
       "  </tbody>\n",
       "</table>\n",
       "</div>"
      ],
      "text/plain": [
       "                        universe_id universe_training_year  \\\n",
       "0  66fb0928a9e75d051e3f63f89eb46024                   2014   \n",
       "\n",
       "  universe_training_size universe_scale universe_model  \\\n",
       "0                     5k   do-not-scale             rf   \n",
       "\n",
       "  universe_exclude_features universe_exclude_subgroups  q_hat  coverage  \\\n",
       "0                      none                   keep-all   0.66  0.912317   \n",
       "\n",
       "   avg_size  \n",
       "0  1.138257  "
      ]
     },
     "execution_count": 50,
     "metadata": {},
     "output_type": "execute_result"
    }
   ],
   "source": [
    "cp_metrics_df"
   ]
  },
  {
   "cell_type": "code",
   "execution_count": 51,
   "id": "b7fbde55-a0a1-47e4-9af6-fe4a17fa8c61",
   "metadata": {
    "execution": {
     "iopub.execute_input": "2025-08-05T15:30:00.602996Z",
     "iopub.status.busy": "2025-08-05T15:30:00.602180Z",
     "iopub.status.idle": "2025-08-05T15:30:00.607463Z",
     "shell.execute_reply": "2025-08-05T15:30:00.606236Z"
    },
    "papermill": {
     "duration": 0.023562,
     "end_time": "2025-08-05T15:30:00.609046",
     "exception": false,
     "start_time": "2025-08-05T15:30:00.585484",
     "status": "completed"
    },
    "tags": []
   },
   "outputs": [],
   "source": [
    "# Conditional Coverage & looking at subgroups"
   ]
  },
  {
   "cell_type": "code",
   "execution_count": 52,
   "id": "027ae886-68dd-4141-96c7-805a5450e1ef",
   "metadata": {
    "execution": {
     "iopub.execute_input": "2025-08-05T15:30:00.656265Z",
     "iopub.status.busy": "2025-08-05T15:30:00.655737Z",
     "iopub.status.idle": "2025-08-05T15:30:00.921309Z",
     "shell.execute_reply": "2025-08-05T15:30:00.920198Z"
    },
    "papermill": {
     "duration": 0.290954,
     "end_time": "2025-08-05T15:30:00.923440",
     "exception": false,
     "start_time": "2025-08-05T15:30:00.632486",
     "status": "completed"
    },
    "tags": []
   },
   "outputs": [],
   "source": [
    "from fairness_multiverse.conformal import build_cp_groups\n",
    "\n",
    "cp_groups_df = build_cp_groups(pred_sets, y_true, X_test.index, org_test)\n",
    "#needs universe_id and setting"
   ]
  },
  {
   "cell_type": "code",
   "execution_count": 53,
   "id": "6cbdab96-b2b2-45af-ad54-d0516db2e28d",
   "metadata": {
    "execution": {
     "iopub.execute_input": "2025-08-05T15:30:00.974354Z",
     "iopub.status.busy": "2025-08-05T15:30:00.973957Z",
     "iopub.status.idle": "2025-08-05T15:30:02.720389Z",
     "shell.execute_reply": "2025-08-05T15:30:02.719450Z"
    },
    "papermill": {
     "duration": 1.773904,
     "end_time": "2025-08-05T15:30:02.722182",
     "exception": false,
     "start_time": "2025-08-05T15:30:00.948278",
     "status": "completed"
    },
    "tags": []
   },
   "outputs": [],
   "source": [
    "# Define covered = 1 if true_label is in the predicted set\n",
    "cp_groups_df['covered'] = cp_groups_df.apply(\n",
    "    lambda r: int(r['true_label'] in r['pred_set']),\n",
    "    axis=1\n",
    ")"
   ]
  },
  {
   "cell_type": "code",
   "execution_count": 54,
   "id": "338ff529-1a6b-4b87-a931-8e4788d52aad",
   "metadata": {
    "execution": {
     "iopub.execute_input": "2025-08-05T15:30:02.762549Z",
     "iopub.status.busy": "2025-08-05T15:30:02.762073Z",
     "iopub.status.idle": "2025-08-05T15:30:02.766623Z",
     "shell.execute_reply": "2025-08-05T15:30:02.765648Z"
    },
    "papermill": {
     "duration": 0.02632,
     "end_time": "2025-08-05T15:30:02.768611",
     "exception": false,
     "start_time": "2025-08-05T15:30:02.742291",
     "status": "completed"
    },
    "tags": []
   },
   "outputs": [],
   "source": [
    "#cp_groups_df"
   ]
  },
  {
   "cell_type": "code",
   "execution_count": 55,
   "id": "90032e27-66df-4540-9169-4e89cfbaa758",
   "metadata": {
    "execution": {
     "iopub.execute_input": "2025-08-05T15:30:02.818598Z",
     "iopub.status.busy": "2025-08-05T15:30:02.818027Z",
     "iopub.status.idle": "2025-08-05T15:30:02.829033Z",
     "shell.execute_reply": "2025-08-05T15:30:02.828078Z"
    },
    "papermill": {
     "duration": 0.037567,
     "end_time": "2025-08-05T15:30:02.830845",
     "exception": false,
     "start_time": "2025-08-05T15:30:02.793278",
     "status": "completed"
    },
    "tags": []
   },
   "outputs": [],
   "source": [
    "subgroups = ['frau1','nongerman','nongerman_male','nongerman_female']\n",
    "\n",
    "# Conditional coverage for subgroup==1\n",
    "cond_coverage = {\n",
    "    g: cp_groups_df.loc[cp_groups_df[g]==1, 'covered'].mean()\n",
    "    for g in subgroups\n",
    "}"
   ]
  },
  {
   "cell_type": "code",
   "execution_count": 56,
   "id": "1e348fb1-b9c3-45bc-ba23-f016827a7e0d",
   "metadata": {
    "execution": {
     "iopub.execute_input": "2025-08-05T15:30:02.880354Z",
     "iopub.status.busy": "2025-08-05T15:30:02.880046Z",
     "iopub.status.idle": "2025-08-05T15:30:02.886775Z",
     "shell.execute_reply": "2025-08-05T15:30:02.885696Z"
    },
    "papermill": {
     "duration": 0.033584,
     "end_time": "2025-08-05T15:30:02.888612",
     "exception": false,
     "start_time": "2025-08-05T15:30:02.855028",
     "status": "completed"
    },
    "tags": []
   },
   "outputs": [
    {
     "data": {
      "text/plain": [
       "{'frau1': 0.9107426876937592,\n",
       " 'nongerman': 0.9063605232133835,\n",
       " 'nongerman_male': 0.9219129964874359,\n",
       " 'nongerman_female': 0.8806259314456035}"
      ]
     },
     "execution_count": 56,
     "metadata": {},
     "output_type": "execute_result"
    }
   ],
   "source": [
    "cond_coverage"
   ]
  },
  {
   "cell_type": "code",
   "execution_count": 57,
   "id": "f5093324-c3dd-4d63-bc4c-8d945e5c8bbb",
   "metadata": {
    "execution": {
     "iopub.execute_input": "2025-08-05T15:30:02.938681Z",
     "iopub.status.busy": "2025-08-05T15:30:02.938382Z",
     "iopub.status.idle": "2025-08-05T15:30:02.944878Z",
     "shell.execute_reply": "2025-08-05T15:30:02.943906Z"
    },
    "papermill": {
     "duration": 0.033626,
     "end_time": "2025-08-05T15:30:02.946725",
     "exception": false,
     "start_time": "2025-08-05T15:30:02.913099",
     "status": "completed"
    },
    "tags": []
   },
   "outputs": [],
   "source": [
    "for subgroup, cov in cond_coverage.items():\n",
    "    cp_metrics_df[f\"cov_{subgroup}\"] = cov"
   ]
  },
  {
   "cell_type": "code",
   "execution_count": 58,
   "id": "6e872e10-dbe5-49e8-b554-5030c98ff75d",
   "metadata": {
    "execution": {
     "iopub.execute_input": "2025-08-05T15:30:02.996803Z",
     "iopub.status.busy": "2025-08-05T15:30:02.996497Z",
     "iopub.status.idle": "2025-08-05T15:30:03.016606Z",
     "shell.execute_reply": "2025-08-05T15:30:03.015738Z"
    },
    "papermill": {
     "duration": 0.046842,
     "end_time": "2025-08-05T15:30:03.018236",
     "exception": false,
     "start_time": "2025-08-05T15:30:02.971394",
     "status": "completed"
    },
    "tags": []
   },
   "outputs": [
    {
     "data": {
      "text/html": [
       "<div>\n",
       "<style scoped>\n",
       "    .dataframe tbody tr th:only-of-type {\n",
       "        vertical-align: middle;\n",
       "    }\n",
       "\n",
       "    .dataframe tbody tr th {\n",
       "        vertical-align: top;\n",
       "    }\n",
       "\n",
       "    .dataframe thead th {\n",
       "        text-align: right;\n",
       "    }\n",
       "</style>\n",
       "<table border=\"1\" class=\"dataframe\">\n",
       "  <thead>\n",
       "    <tr style=\"text-align: right;\">\n",
       "      <th></th>\n",
       "      <th>universe_id</th>\n",
       "      <th>universe_training_year</th>\n",
       "      <th>universe_training_size</th>\n",
       "      <th>universe_scale</th>\n",
       "      <th>universe_model</th>\n",
       "      <th>universe_exclude_features</th>\n",
       "      <th>universe_exclude_subgroups</th>\n",
       "      <th>q_hat</th>\n",
       "      <th>coverage</th>\n",
       "      <th>avg_size</th>\n",
       "      <th>cov_frau1</th>\n",
       "      <th>cov_nongerman</th>\n",
       "      <th>cov_nongerman_male</th>\n",
       "      <th>cov_nongerman_female</th>\n",
       "    </tr>\n",
       "  </thead>\n",
       "  <tbody>\n",
       "    <tr>\n",
       "      <th>0</th>\n",
       "      <td>66fb0928a9e75d051e3f63f89eb46024</td>\n",
       "      <td>2014</td>\n",
       "      <td>5k</td>\n",
       "      <td>do-not-scale</td>\n",
       "      <td>rf</td>\n",
       "      <td>none</td>\n",
       "      <td>keep-all</td>\n",
       "      <td>0.66</td>\n",
       "      <td>0.912317</td>\n",
       "      <td>1.138257</td>\n",
       "      <td>0.910743</td>\n",
       "      <td>0.906361</td>\n",
       "      <td>0.921913</td>\n",
       "      <td>0.880626</td>\n",
       "    </tr>\n",
       "  </tbody>\n",
       "</table>\n",
       "</div>"
      ],
      "text/plain": [
       "                        universe_id universe_training_year  \\\n",
       "0  66fb0928a9e75d051e3f63f89eb46024                   2014   \n",
       "\n",
       "  universe_training_size universe_scale universe_model  \\\n",
       "0                     5k   do-not-scale             rf   \n",
       "\n",
       "  universe_exclude_features universe_exclude_subgroups  q_hat  coverage  \\\n",
       "0                      none                   keep-all   0.66  0.912317   \n",
       "\n",
       "   avg_size  cov_frau1  cov_nongerman  cov_nongerman_male  \\\n",
       "0  1.138257   0.910743       0.906361            0.921913   \n",
       "\n",
       "   cov_nongerman_female  \n",
       "0              0.880626  "
      ]
     },
     "execution_count": 58,
     "metadata": {},
     "output_type": "execute_result"
    }
   ],
   "source": [
    "cp_metrics_df"
   ]
  },
  {
   "cell_type": "markdown",
   "id": "33774451",
   "metadata": {
    "papermill": {
     "duration": 0.022027,
     "end_time": "2025-08-05T15:30:03.062117",
     "exception": false,
     "start_time": "2025-08-05T15:30:03.040090",
     "status": "completed"
    },
    "tags": []
   },
   "source": [
    "# (Fairness) Metrics"
   ]
  },
  {
   "cell_type": "code",
   "execution_count": 59,
   "id": "debc5d62",
   "metadata": {
    "execution": {
     "iopub.execute_input": "2025-08-05T15:30:03.108483Z",
     "iopub.status.busy": "2025-08-05T15:30:03.107736Z",
     "iopub.status.idle": "2025-08-05T15:30:03.129968Z",
     "shell.execute_reply": "2025-08-05T15:30:03.128816Z"
    },
    "papermill": {
     "duration": 0.046976,
     "end_time": "2025-08-05T15:30:03.132021",
     "exception": false,
     "start_time": "2025-08-05T15:30:03.085045",
     "status": "completed"
    },
    "tags": []
   },
   "outputs": [],
   "source": [
    "# do I need to include maxdeutsch1.missing?\n",
    "\n",
    "import numpy as np\n",
    "\n",
    "colname_to_bin = \"maxdeutsch1\"\n",
    "majority_value = org_train[colname_to_bin].mode()[0]\n",
    "\n",
    "org_test[\"majmin\"] = np.where(org_test[colname_to_bin] == majority_value, \"majority\", \"minority\")"
   ]
  },
  {
   "cell_type": "code",
   "execution_count": 60,
   "id": "06a50de5",
   "metadata": {
    "execution": {
     "iopub.execute_input": "2025-08-05T15:30:03.176724Z",
     "iopub.status.busy": "2025-08-05T15:30:03.176225Z",
     "iopub.status.idle": "2025-08-05T15:30:05.009970Z",
     "shell.execute_reply": "2025-08-05T15:30:05.009116Z"
    },
    "papermill": {
     "duration": 1.856476,
     "end_time": "2025-08-05T15:30:05.011451",
     "exception": false,
     "start_time": "2025-08-05T15:30:03.154975",
     "status": "completed"
    },
    "tags": []
   },
   "outputs": [],
   "source": [
    "example_universe = universe.copy()\n",
    "example_universe[\"cutoff\"] = example_universe[\"cutoff\"][0]\n",
    "example_universe[\"eval_fairness_grouping\"] = example_universe[\"eval_fairness_grouping\"][0]\n",
    "fairness_dict, metric_frame = universe_analysis.compute_metrics(\n",
    "    example_universe,\n",
    "    y_pred_prob=probs_test,\n",
    "    y_test=y_true,\n",
    "    org_test=org_test,\n",
    ")"
   ]
  },
  {
   "cell_type": "markdown",
   "id": "f95d4e02",
   "metadata": {
    "papermill": {
     "duration": 0.010917,
     "end_time": "2025-08-05T15:30:05.036751",
     "exception": false,
     "start_time": "2025-08-05T15:30:05.025834",
     "status": "completed"
    },
    "tags": []
   },
   "source": [
    "# Overall"
   ]
  },
  {
   "cell_type": "markdown",
   "id": "bdee4871",
   "metadata": {
    "papermill": {
     "duration": 0.011095,
     "end_time": "2025-08-05T15:30:05.058848",
     "exception": false,
     "start_time": "2025-08-05T15:30:05.047753",
     "status": "completed"
    },
    "tags": []
   },
   "source": [
    "Fairness\n",
    "Main fairness target: Equalized Odds. Seems to be a better fit than equal opportunity, since we're not only interested in Y = 1. Seems to be a better fit than demographic parity, since we also care about accuracy, not just equal distribution of preds.\n",
    "\n",
    "Pick column for computation of fairness metrics\n",
    "\n",
    "Performance\n",
    "Overall performance measures, most interesting in relation to the measures split by group below"
   ]
  },
  {
   "cell_type": "code",
   "execution_count": 61,
   "id": "c4e067c6",
   "metadata": {
    "execution": {
     "iopub.execute_input": "2025-08-05T15:30:05.082885Z",
     "iopub.status.busy": "2025-08-05T15:30:05.082195Z",
     "iopub.status.idle": "2025-08-05T15:30:05.089811Z",
     "shell.execute_reply": "2025-08-05T15:30:05.088808Z"
    },
    "papermill": {
     "duration": 0.021246,
     "end_time": "2025-08-05T15:30:05.091309",
     "exception": false,
     "start_time": "2025-08-05T15:30:05.070063",
     "status": "completed"
    },
    "tags": []
   },
   "outputs": [
    {
     "data": {
      "text/plain": [
       "accuracy                   0.197826\n",
       "balanced accuracy          0.533999\n",
       "f1                         0.239782\n",
       "precision                  0.136483\n",
       "false positive rate        0.918186\n",
       "false negative rate        0.013816\n",
       "selection rate             0.926909\n",
       "count                  89710.000000\n",
       "dtype: float64"
      ]
     },
     "execution_count": 61,
     "metadata": {},
     "output_type": "execute_result"
    }
   ],
   "source": [
    "metric_frame.overall"
   ]
  },
  {
   "cell_type": "markdown",
   "id": "e968fe9d",
   "metadata": {
    "papermill": {
     "duration": 0.011313,
     "end_time": "2025-08-05T15:30:05.114534",
     "exception": false,
     "start_time": "2025-08-05T15:30:05.103221",
     "status": "completed"
    },
    "tags": []
   },
   "source": [
    "By Group"
   ]
  },
  {
   "cell_type": "code",
   "execution_count": 62,
   "id": "ec325bce",
   "metadata": {
    "execution": {
     "iopub.execute_input": "2025-08-05T15:30:05.141159Z",
     "iopub.status.busy": "2025-08-05T15:30:05.140911Z",
     "iopub.status.idle": "2025-08-05T15:30:05.153659Z",
     "shell.execute_reply": "2025-08-05T15:30:05.152708Z"
    },
    "papermill": {
     "duration": 0.027371,
     "end_time": "2025-08-05T15:30:05.155227",
     "exception": false,
     "start_time": "2025-08-05T15:30:05.127856",
     "status": "completed"
    },
    "tags": []
   },
   "outputs": [
    {
     "data": {
      "text/html": [
       "<div>\n",
       "<style scoped>\n",
       "    .dataframe tbody tr th:only-of-type {\n",
       "        vertical-align: middle;\n",
       "    }\n",
       "\n",
       "    .dataframe tbody tr th {\n",
       "        vertical-align: top;\n",
       "    }\n",
       "\n",
       "    .dataframe thead th {\n",
       "        text-align: right;\n",
       "    }\n",
       "</style>\n",
       "<table border=\"1\" class=\"dataframe\">\n",
       "  <thead>\n",
       "    <tr style=\"text-align: right;\">\n",
       "      <th></th>\n",
       "      <th>accuracy</th>\n",
       "      <th>balanced accuracy</th>\n",
       "      <th>f1</th>\n",
       "      <th>precision</th>\n",
       "      <th>false positive rate</th>\n",
       "      <th>false negative rate</th>\n",
       "      <th>selection rate</th>\n",
       "      <th>count</th>\n",
       "    </tr>\n",
       "    <tr>\n",
       "      <th>majmin</th>\n",
       "      <th></th>\n",
       "      <th></th>\n",
       "      <th></th>\n",
       "      <th></th>\n",
       "      <th></th>\n",
       "      <th></th>\n",
       "      <th></th>\n",
       "      <th></th>\n",
       "    </tr>\n",
       "  </thead>\n",
       "  <tbody>\n",
       "    <tr>\n",
       "      <th>majority</th>\n",
       "      <td>0.197513</td>\n",
       "      <td>0.534047</td>\n",
       "      <td>0.246143</td>\n",
       "      <td>0.140514</td>\n",
       "      <td>0.923372</td>\n",
       "      <td>0.008534</td>\n",
       "      <td>0.93237</td>\n",
       "      <td>69170.0</td>\n",
       "    </tr>\n",
       "    <tr>\n",
       "      <th>minority</th>\n",
       "      <td>0.198880</td>\n",
       "      <td>0.532369</td>\n",
       "      <td>0.217509</td>\n",
       "      <td>0.122555</td>\n",
       "      <td>0.901057</td>\n",
       "      <td>0.034206</td>\n",
       "      <td>0.90852</td>\n",
       "      <td>20540.0</td>\n",
       "    </tr>\n",
       "  </tbody>\n",
       "</table>\n",
       "</div>"
      ],
      "text/plain": [
       "          accuracy  balanced accuracy        f1  precision  \\\n",
       "majmin                                                       \n",
       "majority  0.197513           0.534047  0.246143   0.140514   \n",
       "minority  0.198880           0.532369  0.217509   0.122555   \n",
       "\n",
       "          false positive rate  false negative rate  selection rate    count  \n",
       "majmin                                                                       \n",
       "majority             0.923372             0.008534         0.93237  69170.0  \n",
       "minority             0.901057             0.034206         0.90852  20540.0  "
      ]
     },
     "execution_count": 62,
     "metadata": {},
     "output_type": "execute_result"
    }
   ],
   "source": [
    "metric_frame.by_group"
   ]
  },
  {
   "cell_type": "code",
   "execution_count": 63,
   "id": "a9ddbe63",
   "metadata": {
    "execution": {
     "iopub.execute_input": "2025-08-05T15:30:05.179740Z",
     "iopub.status.busy": "2025-08-05T15:30:05.179516Z",
     "iopub.status.idle": "2025-08-05T15:30:06.982774Z",
     "shell.execute_reply": "2025-08-05T15:30:06.982016Z"
    },
    "papermill": {
     "duration": 1.816722,
     "end_time": "2025-08-05T15:30:06.984092",
     "exception": false,
     "start_time": "2025-08-05T15:30:05.167370",
     "status": "completed"
    },
    "tags": []
   },
   "outputs": [
    {
     "data": {
      "text/plain": [
       "array([[<Axes: title={'center': 'accuracy'}, xlabel='majmin'>,\n",
       "        <Axes: title={'center': 'balanced accuracy'}, xlabel='majmin'>,\n",
       "        <Axes: title={'center': 'f1'}, xlabel='majmin'>],\n",
       "       [<Axes: title={'center': 'precision'}, xlabel='majmin'>,\n",
       "        <Axes: title={'center': 'false positive rate'}, xlabel='majmin'>,\n",
       "        <Axes: title={'center': 'false negative rate'}, xlabel='majmin'>],\n",
       "       [<Axes: title={'center': 'selection rate'}, xlabel='majmin'>,\n",
       "        <Axes: title={'center': 'count'}, xlabel='majmin'>,\n",
       "        <Axes: xlabel='majmin'>]], dtype=object)"
      ]
     },
     "execution_count": 63,
     "metadata": {},
     "output_type": "execute_result"
    },
    {
     "data": {
      "image/png": "[encoded data removed]",
      "text/plain": [
       "<Figure size 1200x800 with 9 Axes>"
      ]
     },
     "metadata": {},
     "output_type": "display_data"
    }
   ],
   "source": [
    "# In a graphic\n",
    "metric_frame.by_group.plot.bar(\n",
    "    subplots=True,\n",
    "    layout=[3, 3],\n",
    "    legend=False,\n",
    "    figsize=[12, 8],\n",
    "    title=\"Show all metrics\",\n",
    ")"
   ]
  },
  {
   "cell_type": "markdown",
   "id": "f57a0bac",
   "metadata": {
    "papermill": {
     "duration": 0.012114,
     "end_time": "2025-08-05T15:30:07.009407",
     "exception": false,
     "start_time": "2025-08-05T15:30:06.997293",
     "status": "completed"
    },
    "tags": []
   },
   "source": [
    "# Final Output"
   ]
  },
  {
   "cell_type": "code",
   "execution_count": 64,
   "id": "96d280a3",
   "metadata": {
    "execution": {
     "iopub.execute_input": "2025-08-05T15:30:07.035997Z",
     "iopub.status.busy": "2025-08-05T15:30:07.035576Z",
     "iopub.status.idle": "2025-08-05T15:30:07.042287Z",
     "shell.execute_reply": "2025-08-05T15:30:07.041329Z"
    },
    "papermill": {
     "duration": 0.021608,
     "end_time": "2025-08-05T15:30:07.043532",
     "exception": false,
     "start_time": "2025-08-05T15:30:07.021924",
     "status": "completed"
    },
    "tags": []
   },
   "outputs": [
    {
     "data": {
      "text/plain": [
       "4"
      ]
     },
     "execution_count": 64,
     "metadata": {},
     "output_type": "execute_result"
    }
   ],
   "source": [
    "sub_universes = universe_analysis.generate_sub_universes()\n",
    "len(sub_universes)"
   ]
  },
  {
   "cell_type": "code",
   "execution_count": 65,
   "id": "92adf7ba",
   "metadata": {
    "execution": {
     "iopub.execute_input": "2025-08-05T15:30:07.069921Z",
     "iopub.status.busy": "2025-08-05T15:30:07.069174Z",
     "iopub.status.idle": "2025-08-05T15:30:07.094347Z",
     "shell.execute_reply": "2025-08-05T15:30:07.093429Z"
    },
    "papermill": {
     "duration": 0.039646,
     "end_time": "2025-08-05T15:30:07.095771",
     "exception": false,
     "start_time": "2025-08-05T15:30:07.056125",
     "status": "completed"
    },
    "tags": []
   },
   "outputs": [],
   "source": [
    "def filter_sub_universe_data(sub_universe, org_test):\n",
    "    # Keep all rows — no filtering\n",
    "    keep_rows_mask = np.ones(org_test.shape[0], dtype=bool)\n",
    "\n",
    "    print(f\"[INFO] Keeping all rows: {keep_rows_mask.sum()} rows retained.\")\n",
    "    return keep_rows_mask"
   ]
  },
  {
   "cell_type": "code",
   "execution_count": 66,
   "id": "4a759155",
   "metadata": {
    "execution": {
     "iopub.execute_input": "2025-08-05T15:30:07.123159Z",
     "iopub.status.busy": "2025-08-05T15:30:07.122637Z",
     "iopub.status.idle": "2025-08-05T15:30:16.622066Z",
     "shell.execute_reply": "2025-08-05T15:30:16.620982Z"
    },
    "papermill": {
     "duration": 9.514101,
     "end_time": "2025-08-05T15:30:16.623595",
     "exception": false,
     "start_time": "2025-08-05T15:30:07.109494",
     "status": "completed"
    },
    "tags": []
   },
   "outputs": [
    {
     "name": "stdout",
     "output_type": "stream",
     "text": [
      "Stopping execution_time clock.\n",
      "[INFO] Keeping all rows: 89710 rows retained.\n"
     ]
    },
    {
     "name": "stdout",
     "output_type": "stream",
     "text": [
      "[INFO] Keeping all rows: 89710 rows retained.\n"
     ]
    },
    {
     "name": "stdout",
     "output_type": "stream",
     "text": [
      "[INFO] Keeping all rows: 89710 rows retained.\n"
     ]
    },
    {
     "name": "stdout",
     "output_type": "stream",
     "text": [
      "[INFO] Keeping all rows: 89710 rows retained.\n"
     ]
    },
    {
     "data": {
      "text/html": [
       "<div>\n",
       "<style scoped>\n",
       "    .dataframe tbody tr th:only-of-type {\n",
       "        vertical-align: middle;\n",
       "    }\n",
       "\n",
       "    .dataframe tbody tr th {\n",
       "        vertical-align: top;\n",
       "    }\n",
       "\n",
       "    .dataframe thead th {\n",
       "        text-align: right;\n",
       "    }\n",
       "</style>\n",
       "<table border=\"1\" class=\"dataframe\">\n",
       "  <thead>\n",
       "    <tr style=\"text-align: right;\">\n",
       "      <th></th>\n",
       "      <th>run_no</th>\n",
       "      <th>universe_id</th>\n",
       "      <th>universe_settings</th>\n",
       "      <th>execution_time</th>\n",
       "      <th>test_size_n</th>\n",
       "      <th>test_size_frac</th>\n",
       "      <th>fair_main_equalized_odds_difference</th>\n",
       "      <th>fair_main_equalized_odds_ratio</th>\n",
       "      <th>fair_main_demographic_parity_difference</th>\n",
       "      <th>fair_main_demographic_parity_ratio</th>\n",
       "      <th>...</th>\n",
       "      <th>perf_grp_precision_0</th>\n",
       "      <th>perf_grp_precision_1</th>\n",
       "      <th>perf_grp_false positive rate_0</th>\n",
       "      <th>perf_grp_false positive rate_1</th>\n",
       "      <th>perf_grp_false negative rate_0</th>\n",
       "      <th>perf_grp_false negative rate_1</th>\n",
       "      <th>perf_grp_selection rate_0</th>\n",
       "      <th>perf_grp_selection rate_1</th>\n",
       "      <th>perf_grp_count_0</th>\n",
       "      <th>perf_grp_count_1</th>\n",
       "    </tr>\n",
       "  </thead>\n",
       "  <tbody>\n",
       "    <tr>\n",
       "      <th>0</th>\n",
       "      <td>15</td>\n",
       "      <td>66fb0928a9e75d051e3f63f89eb46024</td>\n",
       "      <td>{\"cutoff\": \"quantile_0.1\", \"eval_fairness_grou...</td>\n",
       "      <td>34.483187</td>\n",
       "      <td>89710</td>\n",
       "      <td>1.0</td>\n",
       "      <td>0.025672</td>\n",
       "      <td>0.974107</td>\n",
       "      <td>0.023850</td>\n",
       "      <td>0.974420</td>\n",
       "      <td>...</td>\n",
       "      <td>NaN</td>\n",
       "      <td>NaN</td>\n",
       "      <td>NaN</td>\n",
       "      <td>NaN</td>\n",
       "      <td>NaN</td>\n",
       "      <td>NaN</td>\n",
       "      <td>NaN</td>\n",
       "      <td>NaN</td>\n",
       "      <td>NaN</td>\n",
       "      <td>NaN</td>\n",
       "    </tr>\n",
       "    <tr>\n",
       "      <th>0</th>\n",
       "      <td>15</td>\n",
       "      <td>66fb0928a9e75d051e3f63f89eb46024</td>\n",
       "      <td>{\"cutoff\": \"quantile_0.1\", \"eval_fairness_grou...</td>\n",
       "      <td>34.483187</td>\n",
       "      <td>89710</td>\n",
       "      <td>1.0</td>\n",
       "      <td>0.025672</td>\n",
       "      <td>0.974107</td>\n",
       "      <td>0.023850</td>\n",
       "      <td>0.974420</td>\n",
       "      <td>...</td>\n",
       "      <td>0.122555</td>\n",
       "      <td>0.140514</td>\n",
       "      <td>0.901057</td>\n",
       "      <td>0.923372</td>\n",
       "      <td>0.034206</td>\n",
       "      <td>0.008534</td>\n",
       "      <td>0.908520</td>\n",
       "      <td>0.932370</td>\n",
       "      <td>20540.0</td>\n",
       "      <td>69170.0</td>\n",
       "    </tr>\n",
       "    <tr>\n",
       "      <th>0</th>\n",
       "      <td>15</td>\n",
       "      <td>66fb0928a9e75d051e3f63f89eb46024</td>\n",
       "      <td>{\"cutoff\": \"quantile_0.25\", \"eval_fairness_gro...</td>\n",
       "      <td>34.483187</td>\n",
       "      <td>89710</td>\n",
       "      <td>1.0</td>\n",
       "      <td>0.070466</td>\n",
       "      <td>0.925602</td>\n",
       "      <td>0.044977</td>\n",
       "      <td>0.941699</td>\n",
       "      <td>...</td>\n",
       "      <td>NaN</td>\n",
       "      <td>NaN</td>\n",
       "      <td>NaN</td>\n",
       "      <td>NaN</td>\n",
       "      <td>NaN</td>\n",
       "      <td>NaN</td>\n",
       "      <td>NaN</td>\n",
       "      <td>NaN</td>\n",
       "      <td>NaN</td>\n",
       "      <td>NaN</td>\n",
       "    </tr>\n",
       "    <tr>\n",
       "      <th>0</th>\n",
       "      <td>15</td>\n",
       "      <td>66fb0928a9e75d051e3f63f89eb46024</td>\n",
       "      <td>{\"cutoff\": \"quantile_0.25\", \"eval_fairness_gro...</td>\n",
       "      <td>34.483187</td>\n",
       "      <td>89710</td>\n",
       "      <td>1.0</td>\n",
       "      <td>0.070466</td>\n",
       "      <td>0.925602</td>\n",
       "      <td>0.044977</td>\n",
       "      <td>0.941699</td>\n",
       "      <td>...</td>\n",
       "      <td>0.139123</td>\n",
       "      <td>0.162232</td>\n",
       "      <td>0.706912</td>\n",
       "      <td>0.744711</td>\n",
       "      <td>0.123311</td>\n",
       "      <td>0.052845</td>\n",
       "      <td>0.726485</td>\n",
       "      <td>0.771462</td>\n",
       "      <td>20540.0</td>\n",
       "      <td>69170.0</td>\n",
       "    </tr>\n",
       "  </tbody>\n",
       "</table>\n",
       "<p>4 rows × 50 columns</p>\n",
       "</div>"
      ],
      "text/plain": [
       "  run_no                       universe_id  \\\n",
       "0     15  66fb0928a9e75d051e3f63f89eb46024   \n",
       "0     15  66fb0928a9e75d051e3f63f89eb46024   \n",
       "0     15  66fb0928a9e75d051e3f63f89eb46024   \n",
       "0     15  66fb0928a9e75d051e3f63f89eb46024   \n",
       "\n",
       "                                   universe_settings  execution_time  \\\n",
       "0  {\"cutoff\": \"quantile_0.1\", \"eval_fairness_grou...       34.483187   \n",
       "0  {\"cutoff\": \"quantile_0.1\", \"eval_fairness_grou...       34.483187   \n",
       "0  {\"cutoff\": \"quantile_0.25\", \"eval_fairness_gro...       34.483187   \n",
       "0  {\"cutoff\": \"quantile_0.25\", \"eval_fairness_gro...       34.483187   \n",
       "\n",
       "   test_size_n  test_size_frac  fair_main_equalized_odds_difference  \\\n",
       "0        89710             1.0                             0.025672   \n",
       "0        89710             1.0                             0.025672   \n",
       "0        89710             1.0                             0.070466   \n",
       "0        89710             1.0                             0.070466   \n",
       "\n",
       "   fair_main_equalized_odds_ratio  fair_main_demographic_parity_difference  \\\n",
       "0                        0.974107                                 0.023850   \n",
       "0                        0.974107                                 0.023850   \n",
       "0                        0.925602                                 0.044977   \n",
       "0                        0.925602                                 0.044977   \n",
       "\n",
       "   fair_main_demographic_parity_ratio  ...  perf_grp_precision_0  \\\n",
       "0                            0.974420  ...                   NaN   \n",
       "0                            0.974420  ...              0.122555   \n",
       "0                            0.941699  ...                   NaN   \n",
       "0                            0.941699  ...              0.139123   \n",
       "\n",
       "   perf_grp_precision_1  perf_grp_false positive rate_0  \\\n",
       "0                   NaN                             NaN   \n",
       "0              0.140514                        0.901057   \n",
       "0                   NaN                             NaN   \n",
       "0              0.162232                        0.706912   \n",
       "\n",
       "   perf_grp_false positive rate_1  perf_grp_false negative rate_0  \\\n",
       "0                             NaN                             NaN   \n",
       "0                        0.923372                        0.034206   \n",
       "0                             NaN                             NaN   \n",
       "0                        0.744711                        0.123311   \n",
       "\n",
       "   perf_grp_false negative rate_1  perf_grp_selection rate_0  \\\n",
       "0                             NaN                        NaN   \n",
       "0                        0.008534                   0.908520   \n",
       "0                             NaN                        NaN   \n",
       "0                        0.052845                   0.726485   \n",
       "\n",
       "   perf_grp_selection rate_1  perf_grp_count_0  perf_grp_count_1  \n",
       "0                        NaN               NaN               NaN  \n",
       "0                   0.932370           20540.0           69170.0  \n",
       "0                        NaN               NaN               NaN  \n",
       "0                   0.771462           20540.0           69170.0  \n",
       "\n",
       "[4 rows x 50 columns]"
      ]
     },
     "execution_count": 66,
     "metadata": {},
     "output_type": "execute_result"
    }
   ],
   "source": [
    "final_output = universe_analysis.generate_final_output(\n",
    "    y_pred_prob=probs_test,\n",
    "    y_test=y_true,\n",
    "    org_test=org_test,\n",
    "    filter_data=filter_sub_universe_data,\n",
    "    cp_metrics_df=cp_metrics_df,\n",
    "    save=True,\n",
    ")\n",
    "final_output"
   ]
  }
 ],
 "metadata": {
  "celltoolbar": "Tags",
  "kernelspec": {
   "display_name": "Python (CMA Fairness)",
   "language": "python",
   "name": "cma_fair_env"
  },
  "language_info": {
   "codemirror_mode": {
    "name": "ipython",
    "version": 3
   },
   "file_extension": ".py",
   "mimetype": "text/x-python",
   "name": "python",
   "nbconvert_exporter": "python",
   "pygments_lexer": "ipython3",
   "version": "3.10.12"
  },
  "papermill": {
   "default_parameters": {},
   "duration": 47.945155,
   "end_time": "2025-08-05T15:30:17.470796",
   "environment_variables": {},
   "exception": null,
   "input_path": "universe_analysis.ipynb",
   "output_path": "output/runs/15/notebooks/m_15-66fb0928a9e75d051e3f63f89eb46024.ipynb",
   "parameters": {
    "output_dir": "output",
    "run_no": "15",
    "seed": "2023",
    "universe": "{\"cutoff\": [\"quantile_0.1\", \"quantile_0.25\"], \"eval_fairness_grouping\": [\"majority-minority\", \"nationality-all\"], \"exclude_features\": \"none\", \"exclude_subgroups\": \"keep-all\", \"model\": \"rf\", \"scale\": \"do-not-scale\", \"training_size\": \"5k\", \"training_year\": \"2014\"}",
    "universe_id": "66fb0928a9e75d051e3f63f89eb46024"
   },
   "start_time": "2025-08-05T15:29:29.525641",
   "version": "2.6.0"
  }
 },
 "nbformat": 4,
 "nbformat_minor": 5
}