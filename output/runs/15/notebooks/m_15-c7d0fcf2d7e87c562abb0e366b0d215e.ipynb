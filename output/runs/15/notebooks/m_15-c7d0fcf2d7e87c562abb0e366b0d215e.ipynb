{
 "cells": [
  {
   "cell_type": "code",
   "execution_count": 1,
   "id": "f159f837-637b-42ba-96b5-ec9a68c44524",
   "metadata": {
    "execution": {
     "iopub.execute_input": "2025-08-05T15:27:02.270876Z",
     "iopub.status.busy": "2025-08-05T15:27:02.270087Z",
     "iopub.status.idle": "2025-08-05T15:27:02.282656Z",
     "shell.execute_reply": "2025-08-05T15:27:02.281595Z"
    },
    "papermill": {
     "duration": 0.032471,
     "end_time": "2025-08-05T15:27:02.284633",
     "exception": false,
     "start_time": "2025-08-05T15:27:02.252162",
     "status": "completed"
    },
    "tags": []
   },
   "outputs": [
    {
     "name": "stdout",
     "output_type": "stream",
     "text": [
      "/dss/dsshome1/0C/ra93lal2/cma/CMA_Fairness_v2\n"
     ]
    },
    {
     "name": "stderr",
     "output_type": "stream",
     "text": [
      "/dss/dsshome1/0C/ra93lal2/.local/share/virtualenvs/CMA_Fairness_v2-3j10GkSs/lib/python3.10/site-packages/IPython/core/magics/osm.py:393: UserWarning: This is now an optional IPython functionality, using bookmarks requires you to install the `pickleshare` library.\n",
      "  bkms = self.shell.db.get('bookmarks', {})\n",
      "/dss/dsshome1/0C/ra93lal2/.local/share/virtualenvs/CMA_Fairness_v2-3j10GkSs/lib/python3.10/site-packages/IPython/core/magics/osm.py:417: UserWarning: This is now an optional IPython functionality, setting dhist requires you to install the `pickleshare` library.\n",
      "  self.shell.db['dhist'] = compress_dhist(dhist)[-100:]\n"
     ]
    }
   ],
   "source": [
    "%cd ~/cma/CMA_Fairness_v2"
   ]
  },
  {
   "cell_type": "markdown",
   "id": "de2603b9",
   "metadata": {
    "papermill": {
     "duration": 0.015855,
     "end_time": "2025-08-05T15:27:02.317813",
     "exception": false,
     "start_time": "2025-08-05T15:27:02.301958",
     "status": "completed"
    },
    "tags": []
   },
   "source": [
    "The following cell holds the definition of our parameters, these values can be overriden by rendering the with e.g. the following command:\n",
    "\n",
    "papermill -p alpha 0.2 -p ratio 0.3 universe_analysis.ipynb output/test_run.ipynb"
   ]
  },
  {
   "cell_type": "code",
   "execution_count": 2,
   "id": "a80968a0-40bb-4fa9-85ef-2d5eefb01975",
   "metadata": {
    "execution": {
     "iopub.execute_input": "2025-08-05T15:27:02.352031Z",
     "iopub.status.busy": "2025-08-05T15:27:02.351371Z",
     "iopub.status.idle": "2025-08-05T15:27:02.357881Z",
     "shell.execute_reply": "2025-08-05T15:27:02.355636Z"
    },
    "papermill": {
     "duration": 0.02703,
     "end_time": "2025-08-05T15:27:02.360141",
     "exception": false,
     "start_time": "2025-08-05T15:27:02.333111",
     "status": "completed"
    },
    "tags": []
   },
   "outputs": [
    {
     "name": "stdout",
     "output_type": "stream",
     "text": [
      "Current working directory: /dss/dsshome1/0C/ra93lal2/cma/CMA_Fairness_v2\n"
     ]
    }
   ],
   "source": [
    "import os\n",
    "print(\"Current working directory:\", os.getcwd())"
   ]
  },
  {
   "cell_type": "code",
   "execution_count": 3,
   "id": "2dce4c03",
   "metadata": {
    "execution": {
     "iopub.execute_input": "2025-08-05T15:27:02.394925Z",
     "iopub.status.busy": "2025-08-05T15:27:02.394501Z",
     "iopub.status.idle": "2025-08-05T15:27:02.400448Z",
     "shell.execute_reply": "2025-08-05T15:27:02.399373Z"
    },
    "papermill": {
     "duration": 0.025305,
     "end_time": "2025-08-05T15:27:02.402553",
     "exception": false,
     "start_time": "2025-08-05T15:27:02.377248",
     "status": "completed"
    },
    "tags": [
     "parameters"
    ]
   },
   "outputs": [],
   "source": [
    "run_no = 0\n",
    "universe_id = \"test\"\n",
    "universe = {\n",
    "    \"training_size\": \"25k\", # \"25k\", \"5k\", \"1k\"\n",
    "    \"training_year\": \"2014\", # \"2014\", \"2012_14\", \"2010_14\"\n",
    "    \"scale\": \"scale\", # \"scale\", \"do-not-scale\",\n",
    "    \"model\": \"elasticnet\", # \"logreg\", \"penalized_logreg\", \"rf\", \"gbm\", \"elasticnet\"\n",
    "    \"cutoff\": [\"quantile_0.15\", \"quantile_0.30\"],\n",
    "    \"exclude_features\": \"age\", # \"none\", \"nationality\", \"sex\", \"nationality-sex\", \"age\"\n",
    "    \"exclude_subgroups\": \"keep-all\", # \"keep-all\", \"drop-non-german\"\n",
    "    \"eval_fairness_grouping\": [\"majority-minority\", \"nationality-all\"]\n",
    "}\n",
    "\n",
    "output_dir=\"./output\"\n",
    "seed=0"
   ]
  },
  {
   "cell_type": "code",
   "execution_count": 4,
   "id": "ceee2e7c",
   "metadata": {
    "execution": {
     "iopub.execute_input": "2025-08-05T15:27:02.440416Z",
     "iopub.status.busy": "2025-08-05T15:27:02.439942Z",
     "iopub.status.idle": "2025-08-05T15:27:02.445236Z",
     "shell.execute_reply": "2025-08-05T15:27:02.444294Z"
    },
    "papermill": {
     "duration": 0.026361,
     "end_time": "2025-08-05T15:27:02.447061",
     "exception": false,
     "start_time": "2025-08-05T15:27:02.420700",
     "status": "completed"
    },
    "tags": [
     "injected-parameters"
    ]
   },
   "outputs": [],
   "source": [
    "# Parameters\n",
    "universe_id = \"c7d0fcf2d7e87c562abb0e366b0d215e\"\n",
    "run_no = \"15\"\n",
    "universe = \"{\\\"cutoff\\\": [\\\"quantile_0.1\\\", \\\"quantile_0.25\\\"], \\\"eval_fairness_grouping\\\": [\\\"majority-minority\\\", \\\"nationality-all\\\"], \\\"exclude_features\\\": \\\"age\\\", \\\"exclude_subgroups\\\": \\\"drop-non-german\\\", \\\"model\\\": \\\"elasticnet\\\", \\\"scale\\\": \\\"scale\\\", \\\"training_size\\\": \\\"5k\\\", \\\"training_year\\\": \\\"2014\\\"}\"\n",
    "output_dir = \"output\"\n",
    "seed = \"2023\"\n"
   ]
  },
  {
   "cell_type": "code",
   "execution_count": 5,
   "id": "1650acaf",
   "metadata": {
    "execution": {
     "iopub.execute_input": "2025-08-05T15:27:02.484213Z",
     "iopub.status.busy": "2025-08-05T15:27:02.483216Z",
     "iopub.status.idle": "2025-08-05T15:27:02.488031Z",
     "shell.execute_reply": "2025-08-05T15:27:02.487221Z"
    },
    "papermill": {
     "duration": 0.024466,
     "end_time": "2025-08-05T15:27:02.489695",
     "exception": false,
     "start_time": "2025-08-05T15:27:02.465229",
     "status": "completed"
    },
    "tags": []
   },
   "outputs": [],
   "source": [
    "import json\n",
    "if isinstance(universe, str):\n",
    "    universe = json.loads(universe)"
   ]
  },
  {
   "cell_type": "code",
   "execution_count": 6,
   "id": "16620c48",
   "metadata": {
    "execution": {
     "iopub.execute_input": "2025-08-05T15:27:02.529801Z",
     "iopub.status.busy": "2025-08-05T15:27:02.528286Z",
     "iopub.status.idle": "2025-08-05T15:27:02.575862Z",
     "shell.execute_reply": "2025-08-05T15:27:02.574980Z"
    },
    "papermill": {
     "duration": 0.068252,
     "end_time": "2025-08-05T15:27:02.577696",
     "exception": false,
     "start_time": "2025-08-05T15:27:02.509444",
     "status": "completed"
    },
    "tags": []
   },
   "outputs": [],
   "source": [
    "# Auto-reload the custom package\n",
    "%load_ext autoreload\n",
    "%autoreload 1\n",
    "%aimport fairness_multiverse"
   ]
  },
  {
   "cell_type": "code",
   "execution_count": 7,
   "id": "01c5c9f3",
   "metadata": {
    "execution": {
     "iopub.execute_input": "2025-08-05T15:27:02.612912Z",
     "iopub.status.busy": "2025-08-05T15:27:02.612465Z",
     "iopub.status.idle": "2025-08-05T15:27:04.440748Z",
     "shell.execute_reply": "2025-08-05T15:27:04.439904Z"
    },
    "papermill": {
     "duration": 1.847356,
     "end_time": "2025-08-05T15:27:04.442354",
     "exception": false,
     "start_time": "2025-08-05T15:27:02.594998",
     "status": "completed"
    },
    "tags": []
   },
   "outputs": [],
   "source": [
    "from fairness_multiverse.universe import UniverseAnalysis\n",
    "\n",
    "universe_analysis = UniverseAnalysis(\n",
    "    run_no = run_no,\n",
    "    universe_id = universe_id,\n",
    "    universe = universe,\n",
    "    output_dir=output_dir,\n",
    ")"
   ]
  },
  {
   "cell_type": "code",
   "execution_count": 8,
   "id": "106241f5",
   "metadata": {
    "execution": {
     "iopub.execute_input": "2025-08-05T15:27:04.462613Z",
     "iopub.status.busy": "2025-08-05T15:27:04.461930Z",
     "iopub.status.idle": "2025-08-05T15:27:04.469124Z",
     "shell.execute_reply": "2025-08-05T15:27:04.467678Z"
    },
    "papermill": {
     "duration": 0.01898,
     "end_time": "2025-08-05T15:27:04.471146",
     "exception": false,
     "start_time": "2025-08-05T15:27:04.452166",
     "status": "completed"
    },
    "tags": []
   },
   "outputs": [
    {
     "name": "stdout",
     "output_type": "stream",
     "text": [
      "Using Seed: 2023\n"
     ]
    }
   ],
   "source": [
    "import numpy as np\n",
    "parsed_seed = int(seed)\n",
    "np.random.seed(parsed_seed)\n",
    "print(f\"Using Seed: {parsed_seed}\")"
   ]
  },
  {
   "cell_type": "markdown",
   "id": "e0ebdc57",
   "metadata": {
    "papermill": {
     "duration": 0.018024,
     "end_time": "2025-08-05T15:27:04.508115",
     "exception": false,
     "start_time": "2025-08-05T15:27:04.490091",
     "status": "completed"
    },
    "tags": []
   },
   "source": [
    "# Loading Data"
   ]
  },
  {
   "cell_type": "code",
   "execution_count": 9,
   "id": "f0496b8a",
   "metadata": {
    "execution": {
     "iopub.execute_input": "2025-08-05T15:27:04.548424Z",
     "iopub.status.busy": "2025-08-05T15:27:04.547673Z",
     "iopub.status.idle": "2025-08-05T15:27:15.297119Z",
     "shell.execute_reply": "2025-08-05T15:27:15.295784Z"
    },
    "papermill": {
     "duration": 10.770549,
     "end_time": "2025-08-05T15:27:15.298920",
     "exception": false,
     "start_time": "2025-08-05T15:27:04.528371",
     "status": "completed"
    },
    "tags": []
   },
   "outputs": [
    {
     "name": "stdout",
     "output_type": "stream",
     "text": [
      "Loading SIAB data from cache: data/siab_cached.csv.gz\n"
     ]
    },
    {
     "name": "stdout",
     "output_type": "stream",
     "text": [
      "(643690, 164)\n"
     ]
    }
   ],
   "source": [
    "from pathlib import Path\n",
    "import pandas as pd\n",
    "\n",
    "# File paths\n",
    "raw_file = Path(\"data/raw/siab.csv\")\n",
    "cache_file = Path(\"data/siab_cached.csv.gz\")\n",
    "\n",
    "# Ensure cache directory exists\n",
    "cache_file.parent.mkdir(parents=True, exist_ok=True)\n",
    "\n",
    "# Load with simple caching\n",
    "if cache_file.exists():\n",
    "    print(f\"Loading SIAB data from cache: {cache_file}\")\n",
    "    siab = pd.read_csv(cache_file, compression='gzip')\n",
    "else:\n",
    "    print(f\"Cache not found. Reading raw SIAB data: {raw_file}\")\n",
    "    siab = pd.read_csv(raw_file)\n",
    "    siab.to_csv(cache_file, index=False, compression='gzip')\n",
    "    print(f\"Cached SIAB data to: {cache_file}\")\n",
    "\n",
    "print(siab.shape)"
   ]
  },
  {
   "cell_type": "code",
   "execution_count": 10,
   "id": "db0ca512-5f53-4dba-abdb-a2888bca41ba",
   "metadata": {
    "execution": {
     "iopub.execute_input": "2025-08-05T15:27:15.341923Z",
     "iopub.status.busy": "2025-08-05T15:27:15.340950Z",
     "iopub.status.idle": "2025-08-05T15:27:15.347324Z",
     "shell.execute_reply": "2025-08-05T15:27:15.346234Z"
    },
    "papermill": {
     "duration": 0.028318,
     "end_time": "2025-08-05T15:27:15.349101",
     "exception": false,
     "start_time": "2025-08-05T15:27:15.320783",
     "status": "completed"
    },
    "tags": []
   },
   "outputs": [],
   "source": [
    "#siab"
   ]
  },
  {
   "cell_type": "markdown",
   "id": "997051c5-15bd-4b69-9786-c3001a3ce484",
   "metadata": {
    "papermill": {
     "duration": 0.014712,
     "end_time": "2025-08-05T15:27:15.380134",
     "exception": false,
     "start_time": "2025-08-05T15:27:15.365422",
     "status": "completed"
    },
    "tags": []
   },
   "source": [
    "# Splitting Data and Setting Training Data Size"
   ]
  },
  {
   "cell_type": "code",
   "execution_count": 11,
   "id": "aea9c6ef-6f46-42c8-85eb-5a62025c1508",
   "metadata": {
    "execution": {
     "iopub.execute_input": "2025-08-05T15:27:15.421314Z",
     "iopub.status.busy": "2025-08-05T15:27:15.420370Z",
     "iopub.status.idle": "2025-08-05T15:27:15.653825Z",
     "shell.execute_reply": "2025-08-05T15:27:15.653044Z"
    },
    "papermill": {
     "duration": 0.255883,
     "end_time": "2025-08-05T15:27:15.655370",
     "exception": false,
     "start_time": "2025-08-05T15:27:15.399487",
     "status": "completed"
    },
    "tags": []
   },
   "outputs": [],
   "source": [
    "from fairness_multiverse.universe import sample_by_year_size\n",
    "\n",
    "siab_train = sample_by_year_size(siab,\n",
    "                               training_year=universe[\"training_year\"],\n",
    "                               training_size=universe[\"training_size\"])"
   ]
  },
  {
   "cell_type": "code",
   "execution_count": 12,
   "id": "8d3afb32-789d-442c-8d5d-9f5aa8dd2eed",
   "metadata": {
    "execution": {
     "iopub.execute_input": "2025-08-05T15:27:15.674981Z",
     "iopub.status.busy": "2025-08-05T15:27:15.674637Z",
     "iopub.status.idle": "2025-08-05T15:27:15.679230Z",
     "shell.execute_reply": "2025-08-05T15:27:15.678488Z"
    },
    "papermill": {
     "duration": 0.015721,
     "end_time": "2025-08-05T15:27:15.680803",
     "exception": false,
     "start_time": "2025-08-05T15:27:15.665082",
     "status": "completed"
    },
    "tags": []
   },
   "outputs": [],
   "source": [
    "#siab_train.shape"
   ]
  },
  {
   "cell_type": "code",
   "execution_count": 13,
   "id": "d582db68-1a4c-47fb-84fc-08518dc1975a",
   "metadata": {
    "execution": {
     "iopub.execute_input": "2025-08-05T15:27:15.701024Z",
     "iopub.status.busy": "2025-08-05T15:27:15.700237Z",
     "iopub.status.idle": "2025-08-05T15:27:15.706593Z",
     "shell.execute_reply": "2025-08-05T15:27:15.705192Z"
    },
    "papermill": {
     "duration": 0.017873,
     "end_time": "2025-08-05T15:27:15.708602",
     "exception": false,
     "start_time": "2025-08-05T15:27:15.690729",
     "status": "completed"
    },
    "tags": []
   },
   "outputs": [],
   "source": [
    "#display(siab_train.groupby(\"year\").size())"
   ]
  },
  {
   "cell_type": "code",
   "execution_count": 14,
   "id": "a561edb4-d032-42cb-8256-22eac1111c64",
   "metadata": {
    "execution": {
     "iopub.execute_input": "2025-08-05T15:27:15.749833Z",
     "iopub.status.busy": "2025-08-05T15:27:15.749343Z",
     "iopub.status.idle": "2025-08-05T15:27:15.984389Z",
     "shell.execute_reply": "2025-08-05T15:27:15.983302Z"
    },
    "papermill": {
     "duration": 0.257496,
     "end_time": "2025-08-05T15:27:15.986376",
     "exception": false,
     "start_time": "2025-08-05T15:27:15.728880",
     "status": "completed"
    },
    "tags": []
   },
   "outputs": [],
   "source": [
    "#siab_train = siab_s[siab_s.year < 2015]\n",
    "siab_calib = siab[siab.year == 2015]\n",
    "siab_test = siab[siab.year == 2016]"
   ]
  },
  {
   "cell_type": "code",
   "execution_count": 15,
   "id": "472de16f-c3db-4916-846b-1f0de9cf1746",
   "metadata": {
    "execution": {
     "iopub.execute_input": "2025-08-05T15:27:16.024083Z",
     "iopub.status.busy": "2025-08-05T15:27:16.023050Z",
     "iopub.status.idle": "2025-08-05T15:27:16.034247Z",
     "shell.execute_reply": "2025-08-05T15:27:16.033021Z"
    },
    "papermill": {
     "duration": 0.032505,
     "end_time": "2025-08-05T15:27:16.036524",
     "exception": false,
     "start_time": "2025-08-05T15:27:16.004019",
     "status": "completed"
    },
    "tags": []
   },
   "outputs": [],
   "source": [
    "X_train = siab_train.iloc[:,4:164]\n",
    "y_train = siab_train.iloc[:, [3]]"
   ]
  },
  {
   "cell_type": "code",
   "execution_count": 16,
   "id": "828c96af-f43a-4ed6-ba47-8ac73a47d56c",
   "metadata": {
    "execution": {
     "iopub.execute_input": "2025-08-05T15:27:16.080847Z",
     "iopub.status.busy": "2025-08-05T15:27:16.079838Z",
     "iopub.status.idle": "2025-08-05T15:27:16.132723Z",
     "shell.execute_reply": "2025-08-05T15:27:16.131462Z"
    },
    "papermill": {
     "duration": 0.077927,
     "end_time": "2025-08-05T15:27:16.135282",
     "exception": false,
     "start_time": "2025-08-05T15:27:16.057355",
     "status": "completed"
    },
    "tags": []
   },
   "outputs": [],
   "source": [
    "X_calib = siab_calib.iloc[:,4:164]\n",
    "y_calib = siab_calib.iloc[:, [3]]"
   ]
  },
  {
   "cell_type": "code",
   "execution_count": 17,
   "id": "c34be9c3-6bd6-476e-acd3-845840e303be",
   "metadata": {
    "execution": {
     "iopub.execute_input": "2025-08-05T15:27:16.179288Z",
     "iopub.status.busy": "2025-08-05T15:27:16.178730Z",
     "iopub.status.idle": "2025-08-05T15:27:16.234349Z",
     "shell.execute_reply": "2025-08-05T15:27:16.233082Z"
    },
    "papermill": {
     "duration": 0.079246,
     "end_time": "2025-08-05T15:27:16.236372",
     "exception": false,
     "start_time": "2025-08-05T15:27:16.157126",
     "status": "completed"
    },
    "tags": []
   },
   "outputs": [],
   "source": [
    "X_test = siab_test.iloc[:,4:164]\n",
    "y_true = siab_test.iloc[:, [3]]"
   ]
  },
  {
   "cell_type": "code",
   "execution_count": 18,
   "id": "e6c733c5",
   "metadata": {
    "execution": {
     "iopub.execute_input": "2025-08-05T15:27:16.280036Z",
     "iopub.status.busy": "2025-08-05T15:27:16.279310Z",
     "iopub.status.idle": "2025-08-05T15:27:16.383791Z",
     "shell.execute_reply": "2025-08-05T15:27:16.382734Z"
    },
    "papermill": {
     "duration": 0.128115,
     "end_time": "2025-08-05T15:27:16.385783",
     "exception": false,
     "start_time": "2025-08-05T15:27:16.257668",
     "status": "completed"
    },
    "tags": []
   },
   "outputs": [],
   "source": [
    "# Auxiliary data needed downstream in the pipeline\n",
    "\n",
    "org_train = X_train.copy()\n",
    "org_test = X_test.copy()\n",
    "org_calib = X_calib.copy()"
   ]
  },
  {
   "cell_type": "markdown",
   "id": "0a4a1b33",
   "metadata": {
    "papermill": {
     "duration": 0.019274,
     "end_time": "2025-08-05T15:27:16.425180",
     "exception": false,
     "start_time": "2025-08-05T15:27:16.405906",
     "status": "completed"
    },
    "tags": []
   },
   "source": [
    "# Preprocessing Data"
   ]
  },
  {
   "cell_type": "code",
   "execution_count": 19,
   "id": "ca879031",
   "metadata": {
    "execution": {
     "iopub.execute_input": "2025-08-05T15:27:16.466131Z",
     "iopub.status.busy": "2025-08-05T15:27:16.465143Z",
     "iopub.status.idle": "2025-08-05T15:27:16.471454Z",
     "shell.execute_reply": "2025-08-05T15:27:16.470444Z"
    },
    "papermill": {
     "duration": 0.028913,
     "end_time": "2025-08-05T15:27:16.473450",
     "exception": false,
     "start_time": "2025-08-05T15:27:16.444537",
     "status": "completed"
    },
    "tags": []
   },
   "outputs": [],
   "source": [
    "# EXCLUDE PROTECTED FEATURES\n",
    "# ----------------------\n",
    "# \"exclude_features\": \"none\", # \"nationality\", \"sex\", \"nationality-sex\"\n",
    "\n",
    "excluded_features = universe[\"exclude_features\"].split(\"-\") # split, e.g.: \"nationality-sex\" -> [\"nationality\", \"sex\"]\n",
    "excluded_features_dictionary = {\n",
    "    \"nationality\": [\"maxdeutsch1\", \"maxdeutsch.Missing.\"],\n",
    "    \"sex\": [\"frau1\"],\n",
    "    \"age\": [\"age\"],\n",
    "}"
   ]
  },
  {
   "cell_type": "code",
   "execution_count": 20,
   "id": "b745ac60",
   "metadata": {
    "execution": {
     "iopub.execute_input": "2025-08-05T15:27:16.515476Z",
     "iopub.status.busy": "2025-08-05T15:27:16.514587Z",
     "iopub.status.idle": "2025-08-05T15:27:16.520808Z",
     "shell.execute_reply": "2025-08-05T15:27:16.519716Z"
    },
    "papermill": {
     "duration": 0.028837,
     "end_time": "2025-08-05T15:27:16.522940",
     "exception": false,
     "start_time": "2025-08-05T15:27:16.494103",
     "status": "completed"
    },
    "tags": []
   },
   "outputs": [],
   "source": [
    "# Code nice names to column names\n",
    "\n",
    "excluded_features_columns = [\n",
    "    excluded_features_dictionary[f] for f in excluded_features if len(f) > 0 and f != \"none\"\n",
    "]"
   ]
  },
  {
   "cell_type": "code",
   "execution_count": 21,
   "id": "f84f73a2",
   "metadata": {
    "execution": {
     "iopub.execute_input": "2025-08-05T15:27:16.566195Z",
     "iopub.status.busy": "2025-08-05T15:27:16.565183Z",
     "iopub.status.idle": "2025-08-05T15:27:16.572098Z",
     "shell.execute_reply": "2025-08-05T15:27:16.570966Z"
    },
    "papermill": {
     "duration": 0.030375,
     "end_time": "2025-08-05T15:27:16.574045",
     "exception": false,
     "start_time": "2025-08-05T15:27:16.543670",
     "status": "completed"
    },
    "tags": []
   },
   "outputs": [],
   "source": [
    "from utils import flatten_once\n",
    "\n",
    "excluded_features_columns = flatten_once(excluded_features_columns)"
   ]
  },
  {
   "cell_type": "code",
   "execution_count": 22,
   "id": "884dea22",
   "metadata": {
    "execution": {
     "iopub.execute_input": "2025-08-05T15:27:16.616014Z",
     "iopub.status.busy": "2025-08-05T15:27:16.615287Z",
     "iopub.status.idle": "2025-08-05T15:27:16.625473Z",
     "shell.execute_reply": "2025-08-05T15:27:16.624292Z"
    },
    "papermill": {
     "duration": 0.032635,
     "end_time": "2025-08-05T15:27:16.627440",
     "exception": false,
     "start_time": "2025-08-05T15:27:16.594805",
     "status": "completed"
    },
    "tags": []
   },
   "outputs": [
    {
     "name": "stdout",
     "output_type": "stream",
     "text": [
      "Dropping features: ['age']\n"
     ]
    }
   ],
   "source": [
    "if len(excluded_features_columns) > 0:\n",
    "    print(f\"Dropping features: {excluded_features_columns}\")\n",
    "    X_train.drop(excluded_features_columns, axis=1, inplace=True)"
   ]
  },
  {
   "cell_type": "code",
   "execution_count": 23,
   "id": "95ab8b16",
   "metadata": {
    "execution": {
     "iopub.execute_input": "2025-08-05T15:27:16.670684Z",
     "iopub.status.busy": "2025-08-05T15:27:16.669725Z",
     "iopub.status.idle": "2025-08-05T15:27:16.725709Z",
     "shell.execute_reply": "2025-08-05T15:27:16.724405Z"
    },
    "papermill": {
     "duration": 0.079393,
     "end_time": "2025-08-05T15:27:16.727816",
     "exception": false,
     "start_time": "2025-08-05T15:27:16.648423",
     "status": "completed"
    },
    "tags": []
   },
   "outputs": [
    {
     "name": "stdout",
     "output_type": "stream",
     "text": [
      "Dropping features: ['age']\n"
     ]
    }
   ],
   "source": [
    "if len(excluded_features_columns) > 0:\n",
    "    print(f\"Dropping features: {excluded_features_columns}\")\n",
    "    X_test.drop(excluded_features_columns, axis=1, inplace=True)"
   ]
  },
  {
   "cell_type": "code",
   "execution_count": 24,
   "id": "1853aaf5-fb9f-46cb-a2b5-8ea4ae2237e4",
   "metadata": {
    "execution": {
     "iopub.execute_input": "2025-08-05T15:27:16.770778Z",
     "iopub.status.busy": "2025-08-05T15:27:16.769785Z",
     "iopub.status.idle": "2025-08-05T15:27:16.823162Z",
     "shell.execute_reply": "2025-08-05T15:27:16.821927Z"
    },
    "papermill": {
     "duration": 0.076664,
     "end_time": "2025-08-05T15:27:16.825436",
     "exception": false,
     "start_time": "2025-08-05T15:27:16.748772",
     "status": "completed"
    },
    "tags": []
   },
   "outputs": [
    {
     "name": "stdout",
     "output_type": "stream",
     "text": [
      "Dropping features: ['age']\n"
     ]
    }
   ],
   "source": [
    "if len(excluded_features_columns) > 0:\n",
    "    print(f\"Dropping features: {excluded_features_columns}\")\n",
    "    X_calib.drop(excluded_features_columns, axis=1, inplace=True)"
   ]
  },
  {
   "cell_type": "code",
   "execution_count": 25,
   "id": "76c4dc6d",
   "metadata": {
    "execution": {
     "iopub.execute_input": "2025-08-05T15:27:16.864838Z",
     "iopub.status.busy": "2025-08-05T15:27:16.864369Z",
     "iopub.status.idle": "2025-08-05T15:27:16.869751Z",
     "shell.execute_reply": "2025-08-05T15:27:16.868755Z"
    },
    "papermill": {
     "duration": 0.025716,
     "end_time": "2025-08-05T15:27:16.871608",
     "exception": false,
     "start_time": "2025-08-05T15:27:16.845892",
     "status": "completed"
    },
    "tags": []
   },
   "outputs": [],
   "source": [
    "# EXCLUDE CERTAIN SUBGROUPS\n",
    "# ----------------------\n",
    "\n",
    "mode = universe.get(\"exclude_subgroups\", \"keep-all\") \n",
    "# Fetches the exclude_subgroups setting from the universe dict.\n",
    "# Defaults to \"keep-all\" if the key is missing."
   ]
  },
  {
   "cell_type": "code",
   "execution_count": 26,
   "id": "21994072",
   "metadata": {
    "execution": {
     "iopub.execute_input": "2025-08-05T15:27:16.910919Z",
     "iopub.status.busy": "2025-08-05T15:27:16.910473Z",
     "iopub.status.idle": "2025-08-05T15:27:16.917802Z",
     "shell.execute_reply": "2025-08-05T15:27:16.916837Z"
    },
    "papermill": {
     "duration": 0.02873,
     "end_time": "2025-08-05T15:27:16.919848",
     "exception": false,
     "start_time": "2025-08-05T15:27:16.891118",
     "status": "completed"
    },
    "tags": []
   },
   "outputs": [],
   "source": [
    "if mode == \"keep-all\":\n",
    "    keep_mask = pd.Series(True, index=org_train.index)\n",
    "\n",
    "# org_train contains the original feature columns from features_org (in Simson)\n",
    "# features_org contains unprocessed features, for me X_train at beginning ???\n",
    "# For keep-all, creates a boolean Series (keep_mask) of all True, so no rows are removed.\n",
    "\n",
    "elif mode == \"drop-non-german\":\n",
    "    keep_mask = org_train[\"maxdeutsch1\"] == 1 # ??? what about missing values?\n",
    "\n",
    "else:\n",
    "    raise ValueError(f\"Unsupported mode for exclude_subgroups: {mode}\")"
   ]
  },
  {
   "cell_type": "code",
   "execution_count": 27,
   "id": "71651440",
   "metadata": {
    "execution": {
     "iopub.execute_input": "2025-08-05T15:27:16.960983Z",
     "iopub.status.busy": "2025-08-05T15:27:16.960269Z",
     "iopub.status.idle": "2025-08-05T15:27:16.968531Z",
     "shell.execute_reply": "2025-08-05T15:27:16.967335Z"
    },
    "papermill": {
     "duration": 0.030813,
     "end_time": "2025-08-05T15:27:16.970511",
     "exception": false,
     "start_time": "2025-08-05T15:27:16.939698",
     "status": "completed"
    },
    "tags": []
   },
   "outputs": [
    {
     "name": "stdout",
     "output_type": "stream",
     "text": [
      "Dropping 741 rows (14.82%) where mode='drop-non-german'\n"
     ]
    }
   ],
   "source": [
    "n_drop = (~keep_mask).sum() # Calculates how many rows are set to be dropped\n",
    "if n_drop > 0:\n",
    "    pct = n_drop / len(keep_mask) * 100\n",
    "    print(f\"Dropping {n_drop} rows ({pct:.2f}%) where mode='{mode}'\")"
   ]
  },
  {
   "cell_type": "code",
   "execution_count": 28,
   "id": "5fb8eee5",
   "metadata": {
    "execution": {
     "iopub.execute_input": "2025-08-05T15:27:17.015567Z",
     "iopub.status.busy": "2025-08-05T15:27:17.014618Z",
     "iopub.status.idle": "2025-08-05T15:27:17.022968Z",
     "shell.execute_reply": "2025-08-05T15:27:17.021784Z"
    },
    "papermill": {
     "duration": 0.032903,
     "end_time": "2025-08-05T15:27:17.025145",
     "exception": false,
     "start_time": "2025-08-05T15:27:16.992242",
     "status": "completed"
    },
    "tags": []
   },
   "outputs": [],
   "source": [
    "X_train = X_train[keep_mask]"
   ]
  },
  {
   "cell_type": "code",
   "execution_count": 29,
   "id": "b202bb3a",
   "metadata": {
    "execution": {
     "iopub.execute_input": "2025-08-05T15:27:17.070096Z",
     "iopub.status.busy": "2025-08-05T15:27:17.069295Z",
     "iopub.status.idle": "2025-08-05T15:27:17.076014Z",
     "shell.execute_reply": "2025-08-05T15:27:17.074927Z"
    },
    "papermill": {
     "duration": 0.030776,
     "end_time": "2025-08-05T15:27:17.077919",
     "exception": false,
     "start_time": "2025-08-05T15:27:17.047143",
     "status": "completed"
    },
    "tags": []
   },
   "outputs": [],
   "source": [
    "y_train = y_train[keep_mask]"
   ]
  },
  {
   "cell_type": "markdown",
   "id": "493e2ac3",
   "metadata": {
    "papermill": {
     "duration": 0.020897,
     "end_time": "2025-08-05T15:27:17.120256",
     "exception": false,
     "start_time": "2025-08-05T15:27:17.099359",
     "status": "completed"
    },
    "tags": []
   },
   "source": [
    "# Model Training"
   ]
  },
  {
   "cell_type": "code",
   "execution_count": 30,
   "id": "679e1268",
   "metadata": {
    "execution": {
     "iopub.execute_input": "2025-08-05T15:27:17.164872Z",
     "iopub.status.busy": "2025-08-05T15:27:17.164076Z",
     "iopub.status.idle": "2025-08-05T15:27:17.267171Z",
     "shell.execute_reply": "2025-08-05T15:27:17.266212Z"
    },
    "papermill": {
     "duration": 0.127306,
     "end_time": "2025-08-05T15:27:17.269113",
     "exception": false,
     "start_time": "2025-08-05T15:27:17.141807",
     "status": "completed"
    },
    "tags": []
   },
   "outputs": [],
   "source": [
    "from sklearn.linear_model import LogisticRegression\n",
    "from sklearn.ensemble import GradientBoostingClassifier, RandomForestClassifier\n",
    "\n",
    "if (universe[\"model\"] == \"logreg\"):\n",
    "    model = LogisticRegression() #penalty=\"none\", solver=\"newton-cg\", max_iter=1) # include random_state=19 ?\n",
    "elif (universe[\"model\"] == \"penalized_logreg\"):\n",
    "    model = LogisticRegression(penalty=\"l2\", C=0.1) #, solver=\"newton-cg\", max_iter=1)\n",
    "elif (universe[\"model\"] == \"rf\"):\n",
    "    model = RandomForestClassifier() # n_estimators=100, n_jobs=-1\n",
    "elif (universe[\"model\"] == \"gbm\"):\n",
    "    model = GradientBoostingClassifier()\n",
    "elif (universe[\"model\"] == \"elasticnet\"):\n",
    "    model = LogisticRegression(penalty = 'elasticnet', solver = 'saga', l1_ratio = 0.5) # max_iter=5000\n",
    "else:\n",
    "    raise \"Unsupported universe.model\""
   ]
  },
  {
   "cell_type": "code",
   "execution_count": 31,
   "id": "0cc8f744",
   "metadata": {
    "execution": {
     "iopub.execute_input": "2025-08-05T15:27:17.313353Z",
     "iopub.status.busy": "2025-08-05T15:27:17.312606Z",
     "iopub.status.idle": "2025-08-05T15:27:17.319118Z",
     "shell.execute_reply": "2025-08-05T15:27:17.317922Z"
    },
    "papermill": {
     "duration": 0.030138,
     "end_time": "2025-08-05T15:27:17.321018",
     "exception": false,
     "start_time": "2025-08-05T15:27:17.290880",
     "status": "completed"
    },
    "tags": []
   },
   "outputs": [],
   "source": [
    "import numpy as np\n",
    "from sklearn.pipeline import Pipeline\n",
    "from sklearn.preprocessing import StandardScaler\n",
    "\n",
    "model = Pipeline([\n",
    "    #(\"continuous_processor\", continuous_processor),\n",
    "    #(\"categorical_preprocessor\", categorical_preprocessor),\n",
    "    (\"scale\", StandardScaler() if universe[\"scale\"] == \"scale\" else None), \n",
    "    (\"model\", model),\n",
    "])"
   ]
  },
  {
   "cell_type": "code",
   "execution_count": 32,
   "id": "9442c04d",
   "metadata": {
    "execution": {
     "iopub.execute_input": "2025-08-05T15:27:17.363233Z",
     "iopub.status.busy": "2025-08-05T15:27:17.362341Z",
     "iopub.status.idle": "2025-08-05T15:27:19.182754Z",
     "shell.execute_reply": "2025-08-05T15:27:19.181706Z"
    },
    "papermill": {
     "duration": 1.84325,
     "end_time": "2025-08-05T15:27:19.184457",
     "exception": false,
     "start_time": "2025-08-05T15:27:17.341207",
     "status": "completed"
    },
    "tags": []
   },
   "outputs": [
    {
     "name": "stderr",
     "output_type": "stream",
     "text": [
      "/dss/dsshome1/0C/ra93lal2/.local/share/virtualenvs/CMA_Fairness_v2-3j10GkSs/lib/python3.10/site-packages/sklearn/linear_model/_sag.py:350: ConvergenceWarning: The max_iter was reached which means the coef_ did not converge\n",
      "  warnings.warn(\n"
     ]
    },
    {
     "data": {
      "text/html": [
       "<style>#sk-container-id-1 {color: black;background-color: white;}#sk-container-id-1 pre{padding: 0;}#sk-container-id-1 div.sk-toggleable {background-color: white;}#sk-container-id-1 label.sk-toggleable__label {cursor: pointer;display: block;width: 100%;margin-bottom: 0;padding: 0.3em;box-sizing: border-box;text-align: center;}#sk-container-id-1 label.sk-toggleable__label-arrow:before {content: \"▸\";float: left;margin-right: 0.25em;color: #696969;}#sk-container-id-1 label.sk-toggleable__label-arrow:hover:before {color: black;}#sk-container-id-1 div.sk-estimator:hover label.sk-toggleable__label-arrow:before {color: black;}#sk-container-id-1 div.sk-toggleable__content {max-height: 0;max-width: 0;overflow: hidden;text-align: left;background-color: #f0f8ff;}#sk-container-id-1 div.sk-toggleable__content pre {margin: 0.2em;color: black;border-radius: 0.25em;background-color: #f0f8ff;}#sk-container-id-1 input.sk-toggleable__control:checked~div.sk-toggleable__content {max-height: 200px;max-width: 100%;overflow: auto;}#sk-container-id-1 input.sk-toggleable__control:checked~label.sk-toggleable__label-arrow:before {content: \"▾\";}#sk-container-id-1 div.sk-estimator input.sk-toggleable__control:checked~label.sk-toggleable__label {background-color: #d4ebff;}#sk-container-id-1 div.sk-label input.sk-toggleable__control:checked~label.sk-toggleable__label {background-color: #d4ebff;}#sk-container-id-1 input.sk-hidden--visually {border: 0;clip: rect(1px 1px 1px 1px);clip: rect(1px, 1px, 1px, 1px);height: 1px;margin: -1px;overflow: hidden;padding: 0;position: absolute;width: 1px;}#sk-container-id-1 div.sk-estimator {font-family: monospace;background-color: #f0f8ff;border: 1px dotted black;border-radius: 0.25em;box-sizing: border-box;margin-bottom: 0.5em;}#sk-container-id-1 div.sk-estimator:hover {background-color: #d4ebff;}#sk-container-id-1 div.sk-parallel-item::after {content: \"\";width: 100%;border-bottom: 1px solid gray;flex-grow: 1;}#sk-container-id-1 div.sk-label:hover label.sk-toggleable__label {background-color: #d4ebff;}#sk-container-id-1 div.sk-serial::before {content: \"\";position: absolute;border-left: 1px solid gray;box-sizing: border-box;top: 0;bottom: 0;left: 50%;z-index: 0;}#sk-container-id-1 div.sk-serial {display: flex;flex-direction: column;align-items: center;background-color: white;padding-right: 0.2em;padding-left: 0.2em;position: relative;}#sk-container-id-1 div.sk-item {position: relative;z-index: 1;}#sk-container-id-1 div.sk-parallel {display: flex;align-items: stretch;justify-content: center;background-color: white;position: relative;}#sk-container-id-1 div.sk-item::before, #sk-container-id-1 div.sk-parallel-item::before {content: \"\";position: absolute;border-left: 1px solid gray;box-sizing: border-box;top: 0;bottom: 0;left: 50%;z-index: -1;}#sk-container-id-1 div.sk-parallel-item {display: flex;flex-direction: column;z-index: 1;position: relative;background-color: white;}#sk-container-id-1 div.sk-parallel-item:first-child::after {align-self: flex-end;width: 50%;}#sk-container-id-1 div.sk-parallel-item:last-child::after {align-self: flex-start;width: 50%;}#sk-container-id-1 div.sk-parallel-item:only-child::after {width: 0;}#sk-container-id-1 div.sk-dashed-wrapped {border: 1px dashed gray;margin: 0 0.4em 0.5em 0.4em;box-sizing: border-box;padding-bottom: 0.4em;background-color: white;}#sk-container-id-1 div.sk-label label {font-family: monospace;font-weight: bold;display: inline-block;line-height: 1.2em;}#sk-container-id-1 div.sk-label-container {text-align: center;}#sk-container-id-1 div.sk-container {/* jupyter's `normalize.less` sets `[hidden] { display: none; }` but bootstrap.min.css set `[hidden] { display: none !important; }` so we also need the `!important` here to be able to override the default hidden behavior on the sphinx rendered scikit-learn.org. See: https://github.com/scikit-learn/scikit-learn/issues/21755 */display: inline-block !important;position: relative;}#sk-container-id-1 div.sk-text-repr-fallback {display: none;}</style><div id=\"sk-container-id-1\" class=\"sk-top-container\"><div class=\"sk-text-repr-fallback\"><pre>Pipeline(steps=[(&#x27;scale&#x27;, StandardScaler()),\n",
       "                (&#x27;model&#x27;,\n",
       "                 LogisticRegression(l1_ratio=0.5, penalty=&#x27;elasticnet&#x27;,\n",
       "                                    solver=&#x27;saga&#x27;))])</pre><b>In a Jupyter environment, please rerun this cell to show the HTML representation or trust the notebook. <br />On GitHub, the HTML representation is unable to render, please try loading this page with nbviewer.org.</b></div><div class=\"sk-container\" hidden><div class=\"sk-item sk-dashed-wrapped\"><div class=\"sk-label-container\"><div class=\"sk-label sk-toggleable\"><input class=\"sk-toggleable__control sk-hidden--visually\" id=\"sk-estimator-id-1\" type=\"checkbox\" ><label for=\"sk-estimator-id-1\" class=\"sk-toggleable__label sk-toggleable__label-arrow\">Pipeline</label><div class=\"sk-toggleable__content\"><pre>Pipeline(steps=[(&#x27;scale&#x27;, StandardScaler()),\n",
       "                (&#x27;model&#x27;,\n",
       "                 LogisticRegression(l1_ratio=0.5, penalty=&#x27;elasticnet&#x27;,\n",
       "                                    solver=&#x27;saga&#x27;))])</pre></div></div></div><div class=\"sk-serial\"><div class=\"sk-item\"><div class=\"sk-estimator sk-toggleable\"><input class=\"sk-toggleable__control sk-hidden--visually\" id=\"sk-estimator-id-2\" type=\"checkbox\" ><label for=\"sk-estimator-id-2\" class=\"sk-toggleable__label sk-toggleable__label-arrow\">StandardScaler</label><div class=\"sk-toggleable__content\"><pre>StandardScaler()</pre></div></div></div><div class=\"sk-item\"><div class=\"sk-estimator sk-toggleable\"><input class=\"sk-toggleable__control sk-hidden--visually\" id=\"sk-estimator-id-3\" type=\"checkbox\" ><label for=\"sk-estimator-id-3\" class=\"sk-toggleable__label sk-toggleable__label-arrow\">LogisticRegression</label><div class=\"sk-toggleable__content\"><pre>LogisticRegression(l1_ratio=0.5, penalty=&#x27;elasticnet&#x27;, solver=&#x27;saga&#x27;)</pre></div></div></div></div></div></div></div>"
      ],
      "text/plain": [
       "Pipeline(steps=[('scale', StandardScaler()),\n",
       "                ('model',\n",
       "                 LogisticRegression(l1_ratio=0.5, penalty='elasticnet',\n",
       "                                    solver='saga'))])"
      ]
     },
     "execution_count": 32,
     "metadata": {},
     "output_type": "execute_result"
    }
   ],
   "source": [
    "model.fit(X_train, y_train.values.ravel())"
   ]
  },
  {
   "cell_type": "code",
   "execution_count": 33,
   "id": "af59f8c0",
   "metadata": {
    "execution": {
     "iopub.execute_input": "2025-08-05T15:27:19.223724Z",
     "iopub.status.busy": "2025-08-05T15:27:19.222928Z",
     "iopub.status.idle": "2025-08-05T15:27:19.230268Z",
     "shell.execute_reply": "2025-08-05T15:27:19.229012Z"
    },
    "papermill": {
     "duration": 0.029379,
     "end_time": "2025-08-05T15:27:19.232343",
     "exception": false,
     "start_time": "2025-08-05T15:27:19.202964",
     "status": "completed"
    },
    "tags": []
   },
   "outputs": [],
   "source": [
    "from fairness_multiverse.universe import predict_w_threshold"
   ]
  },
  {
   "cell_type": "code",
   "execution_count": 34,
   "id": "a7cf2e16",
   "metadata": {
    "execution": {
     "iopub.execute_input": "2025-08-05T15:27:19.276886Z",
     "iopub.status.busy": "2025-08-05T15:27:19.276006Z",
     "iopub.status.idle": "2025-08-05T15:27:19.597552Z",
     "shell.execute_reply": "2025-08-05T15:27:19.596476Z"
    },
    "papermill": {
     "duration": 0.346541,
     "end_time": "2025-08-05T15:27:19.599247",
     "exception": false,
     "start_time": "2025-08-05T15:27:19.252706",
     "status": "completed"
    },
    "tags": []
   },
   "outputs": [
    {
     "data": {
      "text/plain": [
       "0.8564262624010701"
      ]
     },
     "execution_count": 34,
     "metadata": {},
     "output_type": "execute_result"
    }
   ],
   "source": [
    "probs_test = model.predict_proba(X_test)\n",
    "\n",
    "'''\n",
    "Below code returns a boolean array (or binary 0/1 array depending on how it’s used) where each element \n",
    "is True if the probability of class 1 is greater than or equal to the threshold, and False otherwise.\n",
    "'''\n",
    "y_pred_default = predict_w_threshold(probs_test, 0.5)\n",
    "\n",
    "from sklearn.metrics import accuracy_score\n",
    "\n",
    "# Naive prediction\n",
    "accuracy_score(y_true = y_true, y_pred = y_pred_default)"
   ]
  },
  {
   "cell_type": "code",
   "execution_count": 35,
   "id": "081964c3",
   "metadata": {
    "execution": {
     "iopub.execute_input": "2025-08-05T15:27:19.639505Z",
     "iopub.status.busy": "2025-08-05T15:27:19.638739Z",
     "iopub.status.idle": "2025-08-05T15:27:19.860147Z",
     "shell.execute_reply": "2025-08-05T15:27:19.859072Z"
    },
    "papermill": {
     "duration": 0.24423,
     "end_time": "2025-08-05T15:27:19.862466",
     "exception": false,
     "start_time": "2025-08-05T15:27:19.618236",
     "status": "completed"
    },
    "tags": []
   },
   "outputs": [
    {
     "data": {
      "text/plain": [
       "array([0, 0, 0, ..., 0, 0, 0])"
      ]
     },
     "execution_count": 35,
     "metadata": {},
     "output_type": "execute_result"
    }
   ],
   "source": [
    "model.predict(X_test)"
   ]
  },
  {
   "cell_type": "markdown",
   "id": "56c9705b",
   "metadata": {
    "papermill": {
     "duration": 0.029031,
     "end_time": "2025-08-05T15:27:19.923761",
     "exception": false,
     "start_time": "2025-08-05T15:27:19.894730",
     "status": "completed"
    },
    "tags": []
   },
   "source": [
    "# Conformal Prediction"
   ]
  },
  {
   "cell_type": "code",
   "execution_count": 36,
   "id": "160ec6ff",
   "metadata": {
    "execution": {
     "iopub.execute_input": "2025-08-05T15:27:19.967677Z",
     "iopub.status.busy": "2025-08-05T15:27:19.967027Z",
     "iopub.status.idle": "2025-08-05T15:27:19.971542Z",
     "shell.execute_reply": "2025-08-05T15:27:19.970867Z"
    },
    "papermill": {
     "duration": 0.020041,
     "end_time": "2025-08-05T15:27:19.972937",
     "exception": false,
     "start_time": "2025-08-05T15:27:19.952896",
     "status": "completed"
    },
    "tags": []
   },
   "outputs": [],
   "source": [
    "# Miscoverage level for conformal prediction (10% allowed error rate => 90% target coverage)\n",
    "alpha = 0.1"
   ]
  },
  {
   "cell_type": "code",
   "execution_count": 37,
   "id": "eadf4555-3dd3-440e-8e35-f82a4ad9f855",
   "metadata": {
    "execution": {
     "iopub.execute_input": "2025-08-05T15:27:19.997005Z",
     "iopub.status.busy": "2025-08-05T15:27:19.996326Z",
     "iopub.status.idle": "2025-08-05T15:27:20.170106Z",
     "shell.execute_reply": "2025-08-05T15:27:20.169317Z"
    },
    "papermill": {
     "duration": 0.18636,
     "end_time": "2025-08-05T15:27:20.171536",
     "exception": false,
     "start_time": "2025-08-05T15:27:19.985176",
     "status": "completed"
    },
    "tags": []
   },
   "outputs": [],
   "source": [
    "probs_calib = model.predict_proba(X_calib)"
   ]
  },
  {
   "cell_type": "code",
   "execution_count": 38,
   "id": "2ed93547-6d5d-4983-9b36-1ecb300da49a",
   "metadata": {
    "execution": {
     "iopub.execute_input": "2025-08-05T15:27:20.194120Z",
     "iopub.status.busy": "2025-08-05T15:27:20.193423Z",
     "iopub.status.idle": "2025-08-05T15:27:20.201910Z",
     "shell.execute_reply": "2025-08-05T15:27:20.198901Z"
    },
    "papermill": {
     "duration": 0.021102,
     "end_time": "2025-08-05T15:27:20.203652",
     "exception": false,
     "start_time": "2025-08-05T15:27:20.182550",
     "status": "completed"
    },
    "tags": []
   },
   "outputs": [],
   "source": [
    "y_calib = y_calib.values.ravel().astype(int)"
   ]
  },
  {
   "cell_type": "code",
   "execution_count": 39,
   "id": "65d1320d-f588-4b38-9072-62af1ae97f7d",
   "metadata": {
    "execution": {
     "iopub.execute_input": "2025-08-05T15:27:20.252248Z",
     "iopub.status.busy": "2025-08-05T15:27:20.251150Z",
     "iopub.status.idle": "2025-08-05T15:27:20.261483Z",
     "shell.execute_reply": "2025-08-05T15:27:20.260017Z"
    },
    "papermill": {
     "duration": 0.037004,
     "end_time": "2025-08-05T15:27:20.263627",
     "exception": false,
     "start_time": "2025-08-05T15:27:20.226623",
     "status": "completed"
    },
    "tags": []
   },
   "outputs": [],
   "source": [
    "from fairness_multiverse.conformal import compute_nc_scores\n",
    "\n",
    "# Compute nonconformity scores on calibration set (1 - probability of true class)\n",
    "nc_scores = compute_nc_scores(probs_calib, y_calib)"
   ]
  },
  {
   "cell_type": "code",
   "execution_count": 40,
   "id": "df3b8ca3-53b7-43d5-9667-7c85da7aeda2",
   "metadata": {
    "execution": {
     "iopub.execute_input": "2025-08-05T15:27:20.312810Z",
     "iopub.status.busy": "2025-08-05T15:27:20.312317Z",
     "iopub.status.idle": "2025-08-05T15:27:20.319656Z",
     "shell.execute_reply": "2025-08-05T15:27:20.318642Z"
    },
    "papermill": {
     "duration": 0.033201,
     "end_time": "2025-08-05T15:27:20.321422",
     "exception": false,
     "start_time": "2025-08-05T15:27:20.288221",
     "status": "completed"
    },
    "tags": []
   },
   "outputs": [],
   "source": [
    "from fairness_multiverse.conformal import find_threshold\n",
    "\n",
    "# Find conformal threshold q_hat for the given alpha (split conformal method)\n",
    "q_hat = find_threshold(nc_scores, alpha)"
   ]
  },
  {
   "cell_type": "code",
   "execution_count": 41,
   "id": "4d29e6c1-0ef6-4aa4-b8fe-4fe79b0d033a",
   "metadata": {
    "execution": {
     "iopub.execute_input": "2025-08-05T15:27:20.361681Z",
     "iopub.status.busy": "2025-08-05T15:27:20.360688Z",
     "iopub.status.idle": "2025-08-05T15:27:20.371303Z",
     "shell.execute_reply": "2025-08-05T15:27:20.369835Z"
    },
    "papermill": {
     "duration": 0.028111,
     "end_time": "2025-08-05T15:27:20.373258",
     "exception": false,
     "start_time": "2025-08-05T15:27:20.345147",
     "status": "completed"
    },
    "tags": []
   },
   "outputs": [
    {
     "data": {
      "text/plain": [
       "0.6995495395379013"
      ]
     },
     "execution_count": 41,
     "metadata": {},
     "output_type": "execute_result"
    }
   ],
   "source": [
    "q_hat"
   ]
  },
  {
   "cell_type": "code",
   "execution_count": 42,
   "id": "92460794-cdac-4be2-ba28-f28c0515a6fb",
   "metadata": {
    "execution": {
     "iopub.execute_input": "2025-08-05T15:27:20.423900Z",
     "iopub.status.busy": "2025-08-05T15:27:20.423108Z",
     "iopub.status.idle": "2025-08-05T15:27:21.182726Z",
     "shell.execute_reply": "2025-08-05T15:27:21.181986Z"
    },
    "papermill": {
     "duration": 0.78634,
     "end_time": "2025-08-05T15:27:21.184130",
     "exception": false,
     "start_time": "2025-08-05T15:27:20.397790",
     "status": "completed"
    },
    "tags": []
   },
   "outputs": [],
   "source": [
    "from fairness_multiverse.conformal import predict_conformal_sets\n",
    "\n",
    "# Generate prediction sets for each test example\n",
    "pred_sets = predict_conformal_sets(model, X_test, q_hat)"
   ]
  },
  {
   "cell_type": "code",
   "execution_count": 43,
   "id": "d90c9a65-e6db-4f5d-80cd-e68fb7e46829",
   "metadata": {
    "execution": {
     "iopub.execute_input": "2025-08-05T15:27:21.215228Z",
     "iopub.status.busy": "2025-08-05T15:27:21.214772Z",
     "iopub.status.idle": "2025-08-05T15:27:21.219333Z",
     "shell.execute_reply": "2025-08-05T15:27:21.218606Z"
    },
    "papermill": {
     "duration": 0.025721,
     "end_time": "2025-08-05T15:27:21.220861",
     "exception": false,
     "start_time": "2025-08-05T15:27:21.195140",
     "status": "completed"
    },
    "tags": []
   },
   "outputs": [],
   "source": [
    "y_true = y_true.squeeze()"
   ]
  },
  {
   "cell_type": "code",
   "execution_count": 44,
   "id": "3a58a54a-1e68-46b9-927a-df01f18aebc8",
   "metadata": {
    "execution": {
     "iopub.execute_input": "2025-08-05T15:27:21.244136Z",
     "iopub.status.busy": "2025-08-05T15:27:21.243644Z",
     "iopub.status.idle": "2025-08-05T15:27:22.067746Z",
     "shell.execute_reply": "2025-08-05T15:27:22.066781Z"
    },
    "papermill": {
     "duration": 0.836936,
     "end_time": "2025-08-05T15:27:22.069348",
     "exception": false,
     "start_time": "2025-08-05T15:27:21.232412",
     "status": "completed"
    },
    "tags": []
   },
   "outputs": [],
   "source": [
    "from fairness_multiverse.conformal import evaluate_sets\n",
    "\n",
    "# Evaluate coverage and average set size on test data\n",
    "metrics = evaluate_sets(pred_sets, y_true)"
   ]
  },
  {
   "cell_type": "markdown",
   "id": "2b569c12-9aaa-4c88-98c9-bbcd0cf3ebb8",
   "metadata": {
    "papermill": {
     "duration": 0.021207,
     "end_time": "2025-08-05T15:27:22.109945",
     "exception": false,
     "start_time": "2025-08-05T15:27:22.088738",
     "status": "completed"
    },
    "tags": []
   },
   "source": [
    "# CP Metrics"
   ]
  },
  {
   "cell_type": "code",
   "execution_count": 45,
   "id": "5ce0a5cb-201f-45a0-ade5-94c7f0bd6095",
   "metadata": {
    "execution": {
     "iopub.execute_input": "2025-08-05T15:27:22.156768Z",
     "iopub.status.busy": "2025-08-05T15:27:22.156066Z",
     "iopub.status.idle": "2025-08-05T15:27:22.164470Z",
     "shell.execute_reply": "2025-08-05T15:27:22.163229Z"
    },
    "papermill": {
     "duration": 0.035897,
     "end_time": "2025-08-05T15:27:22.166454",
     "exception": false,
     "start_time": "2025-08-05T15:27:22.130557",
     "status": "completed"
    },
    "tags": []
   },
   "outputs": [
    {
     "data": {
      "text/plain": [
       "{'coverage': 0.9102329729127188, 'avg_size': 1.1372422249470515}"
      ]
     },
     "execution_count": 45,
     "metadata": {},
     "output_type": "execute_result"
    }
   ],
   "source": [
    "metrics"
   ]
  },
  {
   "cell_type": "code",
   "execution_count": 46,
   "id": "9b9a838d-31c9-430b-ae14-12baee460d17",
   "metadata": {
    "execution": {
     "iopub.execute_input": "2025-08-05T15:27:22.216755Z",
     "iopub.status.busy": "2025-08-05T15:27:22.216254Z",
     "iopub.status.idle": "2025-08-05T15:27:22.223412Z",
     "shell.execute_reply": "2025-08-05T15:27:22.222346Z"
    },
    "papermill": {
     "duration": 0.034275,
     "end_time": "2025-08-05T15:27:22.225690",
     "exception": false,
     "start_time": "2025-08-05T15:27:22.191415",
     "status": "completed"
    },
    "tags": []
   },
   "outputs": [],
   "source": [
    "example_universe = universe.copy()\n",
    "universe_training_year = example_universe.get(\"training_year\")\n",
    "universe_training_size = example_universe.get(\"training_size\")\n",
    "universe_scale = example_universe.get(\"scale\")\n",
    "universe_model = example_universe.get(\"model\")\n",
    "universe_exclude_features = example_universe.get(\"exclude_features\")\n",
    "universe_exclude_subgroups = example_universe.get(\"exclude_subgroups\")"
   ]
  },
  {
   "cell_type": "code",
   "execution_count": 47,
   "id": "f4b6a8ac-9dc0-4245-8a91-5b3b5999c4f9",
   "metadata": {
    "execution": {
     "iopub.execute_input": "2025-08-05T15:27:22.277090Z",
     "iopub.status.busy": "2025-08-05T15:27:22.276344Z",
     "iopub.status.idle": "2025-08-05T15:27:22.284824Z",
     "shell.execute_reply": "2025-08-05T15:27:22.283585Z"
    },
    "papermill": {
     "duration": 0.036005,
     "end_time": "2025-08-05T15:27:22.288463",
     "exception": false,
     "start_time": "2025-08-05T15:27:22.252458",
     "status": "completed"
    },
    "tags": []
   },
   "outputs": [],
   "source": [
    "cp_metrics_dict = {\n",
    "    \"universe_id\": [universe_id],\n",
    "    \"universe_training_year\": [universe_training_year],\n",
    "    \"universe_training_size\": [universe_training_size],\n",
    "    \"universe_scale\": [universe_scale],\n",
    "    \"universe_model\": [universe_model],\n",
    "    \"universe_exclude_features\": [universe_exclude_features],\n",
    "    \"universe_exclude_subgroups\": [universe_exclude_subgroups],\n",
    "    \"q_hat\": [q_hat],\n",
    "    \"coverage\": [metrics[\"coverage\"]],\n",
    "    \"avg_size\": [metrics[\"avg_size\"]],\n",
    "}"
   ]
  },
  {
   "cell_type": "code",
   "execution_count": 48,
   "id": "908acbb1-0371-4915-85ca-3fa520d2efe2",
   "metadata": {
    "execution": {
     "iopub.execute_input": "2025-08-05T15:27:22.332312Z",
     "iopub.status.busy": "2025-08-05T15:27:22.331681Z",
     "iopub.status.idle": "2025-08-05T15:27:22.337940Z",
     "shell.execute_reply": "2025-08-05T15:27:22.337082Z"
    },
    "papermill": {
     "duration": 0.0278,
     "end_time": "2025-08-05T15:27:22.339703",
     "exception": false,
     "start_time": "2025-08-05T15:27:22.311903",
     "status": "completed"
    },
    "tags": []
   },
   "outputs": [
    {
     "data": {
      "text/plain": [
       "{'universe_id': ['c7d0fcf2d7e87c562abb0e366b0d215e'],\n",
       " 'universe_training_year': ['2014'],\n",
       " 'universe_training_size': ['5k'],\n",
       " 'universe_scale': ['scale'],\n",
       " 'universe_model': ['elasticnet'],\n",
       " 'universe_exclude_features': ['age'],\n",
       " 'universe_exclude_subgroups': ['drop-non-german'],\n",
       " 'q_hat': [0.6995495395379013],\n",
       " 'coverage': [0.9102329729127188],\n",
       " 'avg_size': [1.1372422249470515]}"
      ]
     },
     "execution_count": 48,
     "metadata": {},
     "output_type": "execute_result"
    }
   ],
   "source": [
    "cp_metrics_dict"
   ]
  },
  {
   "cell_type": "code",
   "execution_count": 49,
   "id": "33007efc-14e9-4ec6-97ac-56a455c82265",
   "metadata": {
    "execution": {
     "iopub.execute_input": "2025-08-05T15:27:22.387971Z",
     "iopub.status.busy": "2025-08-05T15:27:22.387392Z",
     "iopub.status.idle": "2025-08-05T15:27:22.395204Z",
     "shell.execute_reply": "2025-08-05T15:27:22.393986Z"
    },
    "papermill": {
     "duration": 0.030647,
     "end_time": "2025-08-05T15:27:22.397371",
     "exception": false,
     "start_time": "2025-08-05T15:27:22.366724",
     "status": "completed"
    },
    "tags": []
   },
   "outputs": [],
   "source": [
    "cp_metrics_df = pd.DataFrame(cp_metrics_dict)"
   ]
  },
  {
   "cell_type": "code",
   "execution_count": 50,
   "id": "db12611b-57b2-4910-b9d0-355adfd6e7bf",
   "metadata": {
    "execution": {
     "iopub.execute_input": "2025-08-05T15:27:22.444458Z",
     "iopub.status.busy": "2025-08-05T15:27:22.443962Z",
     "iopub.status.idle": "2025-08-05T15:27:22.464445Z",
     "shell.execute_reply": "2025-08-05T15:27:22.463443Z"
    },
    "papermill": {
     "duration": 0.044574,
     "end_time": "2025-08-05T15:27:22.466611",
     "exception": false,
     "start_time": "2025-08-05T15:27:22.422037",
     "status": "completed"
    },
    "tags": []
   },
   "outputs": [
    {
     "data": {
      "text/html": [
       "<div>\n",
       "<style scoped>\n",
       "    .dataframe tbody tr th:only-of-type {\n",
       "        vertical-align: middle;\n",
       "    }\n",
       "\n",
       "    .dataframe tbody tr th {\n",
       "        vertical-align: top;\n",
       "    }\n",
       "\n",
       "    .dataframe thead th {\n",
       "        text-align: right;\n",
       "    }\n",
       "</style>\n",
       "<table border=\"1\" class=\"dataframe\">\n",
       "  <thead>\n",
       "    <tr style=\"text-align: right;\">\n",
       "      <th></th>\n",
       "      <th>universe_id</th>\n",
       "      <th>universe_training_year</th>\n",
       "      <th>universe_training_size</th>\n",
       "      <th>universe_scale</th>\n",
       "      <th>universe_model</th>\n",
       "      <th>universe_exclude_features</th>\n",
       "      <th>universe_exclude_subgroups</th>\n",
       "      <th>q_hat</th>\n",
       "      <th>coverage</th>\n",
       "      <th>avg_size</th>\n",
       "    </tr>\n",
       "  </thead>\n",
       "  <tbody>\n",
       "    <tr>\n",
       "      <th>0</th>\n",
       "      <td>c7d0fcf2d7e87c562abb0e366b0d215e</td>\n",
       "      <td>2014</td>\n",
       "      <td>5k</td>\n",
       "      <td>scale</td>\n",
       "      <td>elasticnet</td>\n",
       "      <td>age</td>\n",
       "      <td>drop-non-german</td>\n",
       "      <td>0.69955</td>\n",
       "      <td>0.910233</td>\n",
       "      <td>1.137242</td>\n",
       "    </tr>\n",
       "  </tbody>\n",
       "</table>\n",
       "</div>"
      ],
      "text/plain": [
       "                        universe_id universe_training_year  \\\n",
       "0  c7d0fcf2d7e87c562abb0e366b0d215e                   2014   \n",
       "\n",
       "  universe_training_size universe_scale universe_model  \\\n",
       "0                     5k          scale     elasticnet   \n",
       "\n",
       "  universe_exclude_features universe_exclude_subgroups    q_hat  coverage  \\\n",
       "0                       age            drop-non-german  0.69955  0.910233   \n",
       "\n",
       "   avg_size  \n",
       "0  1.137242  "
      ]
     },
     "execution_count": 50,
     "metadata": {},
     "output_type": "execute_result"
    }
   ],
   "source": [
    "cp_metrics_df"
   ]
  },
  {
   "cell_type": "code",
   "execution_count": 51,
   "id": "b7fbde55-a0a1-47e4-9af6-fe4a17fa8c61",
   "metadata": {
    "execution": {
     "iopub.execute_input": "2025-08-05T15:27:22.514948Z",
     "iopub.status.busy": "2025-08-05T15:27:22.514221Z",
     "iopub.status.idle": "2025-08-05T15:27:22.521557Z",
     "shell.execute_reply": "2025-08-05T15:27:22.518299Z"
    },
    "papermill": {
     "duration": 0.032991,
     "end_time": "2025-08-05T15:27:22.523480",
     "exception": false,
     "start_time": "2025-08-05T15:27:22.490489",
     "status": "completed"
    },
    "tags": []
   },
   "outputs": [],
   "source": [
    "# Conditional Coverage & looking at subgroups"
   ]
  },
  {
   "cell_type": "code",
   "execution_count": 52,
   "id": "027ae886-68dd-4141-96c7-805a5450e1ef",
   "metadata": {
    "execution": {
     "iopub.execute_input": "2025-08-05T15:27:22.561870Z",
     "iopub.status.busy": "2025-08-05T15:27:22.561364Z",
     "iopub.status.idle": "2025-08-05T15:27:22.866104Z",
     "shell.execute_reply": "2025-08-05T15:27:22.864941Z"
    },
    "papermill": {
     "duration": 0.331864,
     "end_time": "2025-08-05T15:27:22.867954",
     "exception": false,
     "start_time": "2025-08-05T15:27:22.536090",
     "status": "completed"
    },
    "tags": []
   },
   "outputs": [],
   "source": [
    "from fairness_multiverse.conformal import build_cp_groups\n",
    "\n",
    "cp_groups_df = build_cp_groups(pred_sets, y_true, X_test.index, org_test)\n",
    "#needs universe_id and setting"
   ]
  },
  {
   "cell_type": "code",
   "execution_count": 53,
   "id": "6cbdab96-b2b2-45af-ad54-d0516db2e28d",
   "metadata": {
    "execution": {
     "iopub.execute_input": "2025-08-05T15:27:22.919483Z",
     "iopub.status.busy": "2025-08-05T15:27:22.919115Z",
     "iopub.status.idle": "2025-08-05T15:27:24.698823Z",
     "shell.execute_reply": "2025-08-05T15:27:24.697767Z"
    },
    "papermill": {
     "duration": 1.810399,
     "end_time": "2025-08-05T15:27:24.700882",
     "exception": false,
     "start_time": "2025-08-05T15:27:22.890483",
     "status": "completed"
    },
    "tags": []
   },
   "outputs": [],
   "source": [
    "# Define covered = 1 if true_label is in the predicted set\n",
    "cp_groups_df['covered'] = cp_groups_df.apply(\n",
    "    lambda r: int(r['true_label'] in r['pred_set']),\n",
    "    axis=1\n",
    ")"
   ]
  },
  {
   "cell_type": "code",
   "execution_count": 54,
   "id": "338ff529-1a6b-4b87-a931-8e4788d52aad",
   "metadata": {
    "execution": {
     "iopub.execute_input": "2025-08-05T15:27:24.747278Z",
     "iopub.status.busy": "2025-08-05T15:27:24.746909Z",
     "iopub.status.idle": "2025-08-05T15:27:24.751659Z",
     "shell.execute_reply": "2025-08-05T15:27:24.750708Z"
    },
    "papermill": {
     "duration": 0.027076,
     "end_time": "2025-08-05T15:27:24.753329",
     "exception": false,
     "start_time": "2025-08-05T15:27:24.726253",
     "status": "completed"
    },
    "tags": []
   },
   "outputs": [],
   "source": [
    "#cp_groups_df"
   ]
  },
  {
   "cell_type": "code",
   "execution_count": 55,
   "id": "90032e27-66df-4540-9169-4e89cfbaa758",
   "metadata": {
    "execution": {
     "iopub.execute_input": "2025-08-05T15:27:24.798135Z",
     "iopub.status.busy": "2025-08-05T15:27:24.797685Z",
     "iopub.status.idle": "2025-08-05T15:27:24.809922Z",
     "shell.execute_reply": "2025-08-05T15:27:24.808802Z"
    },
    "papermill": {
     "duration": 0.037064,
     "end_time": "2025-08-05T15:27:24.811912",
     "exception": false,
     "start_time": "2025-08-05T15:27:24.774848",
     "status": "completed"
    },
    "tags": []
   },
   "outputs": [],
   "source": [
    "subgroups = ['frau1','nongerman','nongerman_male','nongerman_female']\n",
    "\n",
    "# Conditional coverage for subgroup==1\n",
    "cond_coverage = {\n",
    "    g: cp_groups_df.loc[cp_groups_df[g]==1, 'covered'].mean()\n",
    "    for g in subgroups\n",
    "}"
   ]
  },
  {
   "cell_type": "code",
   "execution_count": 56,
   "id": "1e348fb1-b9c3-45bc-ba23-f016827a7e0d",
   "metadata": {
    "execution": {
     "iopub.execute_input": "2025-08-05T15:27:24.856006Z",
     "iopub.status.busy": "2025-08-05T15:27:24.855683Z",
     "iopub.status.idle": "2025-08-05T15:27:24.862252Z",
     "shell.execute_reply": "2025-08-05T15:27:24.861288Z"
    },
    "papermill": {
     "duration": 0.030135,
     "end_time": "2025-08-05T15:27:24.864206",
     "exception": false,
     "start_time": "2025-08-05T15:27:24.834071",
     "status": "completed"
    },
    "tags": []
   },
   "outputs": [
    {
     "data": {
      "text/plain": [
       "{'frau1': 0.9062407332524599,\n",
       " 'nongerman': 0.9050693313871891,\n",
       " 'nongerman_male': 0.9253354949112852,\n",
       " 'nongerman_female': 0.8715350223546945}"
      ]
     },
     "execution_count": 56,
     "metadata": {},
     "output_type": "execute_result"
    }
   ],
   "source": [
    "cond_coverage"
   ]
  },
  {
   "cell_type": "code",
   "execution_count": 57,
   "id": "f5093324-c3dd-4d63-bc4c-8d945e5c8bbb",
   "metadata": {
    "execution": {
     "iopub.execute_input": "2025-08-05T15:27:24.911442Z",
     "iopub.status.busy": "2025-08-05T15:27:24.911056Z",
     "iopub.status.idle": "2025-08-05T15:27:24.918330Z",
     "shell.execute_reply": "2025-08-05T15:27:24.917269Z"
    },
    "papermill": {
     "duration": 0.032031,
     "end_time": "2025-08-05T15:27:24.920062",
     "exception": false,
     "start_time": "2025-08-05T15:27:24.888031",
     "status": "completed"
    },
    "tags": []
   },
   "outputs": [],
   "source": [
    "for subgroup, cov in cond_coverage.items():\n",
    "    cp_metrics_df[f\"cov_{subgroup}\"] = cov"
   ]
  },
  {
   "cell_type": "code",
   "execution_count": 58,
   "id": "6e872e10-dbe5-49e8-b554-5030c98ff75d",
   "metadata": {
    "execution": {
     "iopub.execute_input": "2025-08-05T15:27:24.969822Z",
     "iopub.status.busy": "2025-08-05T15:27:24.964578Z",
     "iopub.status.idle": "2025-08-05T15:27:24.989262Z",
     "shell.execute_reply": "2025-08-05T15:27:24.988015Z"
    },
    "papermill": {
     "duration": 0.046788,
     "end_time": "2025-08-05T15:27:24.991098",
     "exception": false,
     "start_time": "2025-08-05T15:27:24.944310",
     "status": "completed"
    },
    "tags": []
   },
   "outputs": [
    {
     "data": {
      "text/html": [
       "<div>\n",
       "<style scoped>\n",
       "    .dataframe tbody tr th:only-of-type {\n",
       "        vertical-align: middle;\n",
       "    }\n",
       "\n",
       "    .dataframe tbody tr th {\n",
       "        vertical-align: top;\n",
       "    }\n",
       "\n",
       "    .dataframe thead th {\n",
       "        text-align: right;\n",
       "    }\n",
       "</style>\n",
       "<table border=\"1\" class=\"dataframe\">\n",
       "  <thead>\n",
       "    <tr style=\"text-align: right;\">\n",
       "      <th></th>\n",
       "      <th>universe_id</th>\n",
       "      <th>universe_training_year</th>\n",
       "      <th>universe_training_size</th>\n",
       "      <th>universe_scale</th>\n",
       "      <th>universe_model</th>\n",
       "      <th>universe_exclude_features</th>\n",
       "      <th>universe_exclude_subgroups</th>\n",
       "      <th>q_hat</th>\n",
       "      <th>coverage</th>\n",
       "      <th>avg_size</th>\n",
       "      <th>cov_frau1</th>\n",
       "      <th>cov_nongerman</th>\n",
       "      <th>cov_nongerman_male</th>\n",
       "      <th>cov_nongerman_female</th>\n",
       "    </tr>\n",
       "  </thead>\n",
       "  <tbody>\n",
       "    <tr>\n",
       "      <th>0</th>\n",
       "      <td>c7d0fcf2d7e87c562abb0e366b0d215e</td>\n",
       "      <td>2014</td>\n",
       "      <td>5k</td>\n",
       "      <td>scale</td>\n",
       "      <td>elasticnet</td>\n",
       "      <td>age</td>\n",
       "      <td>drop-non-german</td>\n",
       "      <td>0.69955</td>\n",
       "      <td>0.910233</td>\n",
       "      <td>1.137242</td>\n",
       "      <td>0.906241</td>\n",
       "      <td>0.905069</td>\n",
       "      <td>0.925335</td>\n",
       "      <td>0.871535</td>\n",
       "    </tr>\n",
       "  </tbody>\n",
       "</table>\n",
       "</div>"
      ],
      "text/plain": [
       "                        universe_id universe_training_year  \\\n",
       "0  c7d0fcf2d7e87c562abb0e366b0d215e                   2014   \n",
       "\n",
       "  universe_training_size universe_scale universe_model  \\\n",
       "0                     5k          scale     elasticnet   \n",
       "\n",
       "  universe_exclude_features universe_exclude_subgroups    q_hat  coverage  \\\n",
       "0                       age            drop-non-german  0.69955  0.910233   \n",
       "\n",
       "   avg_size  cov_frau1  cov_nongerman  cov_nongerman_male  \\\n",
       "0  1.137242   0.906241       0.905069            0.925335   \n",
       "\n",
       "   cov_nongerman_female  \n",
       "0              0.871535  "
      ]
     },
     "execution_count": 58,
     "metadata": {},
     "output_type": "execute_result"
    }
   ],
   "source": [
    "cp_metrics_df"
   ]
  },
  {
   "cell_type": "markdown",
   "id": "33774451",
   "metadata": {
    "papermill": {
     "duration": 0.023812,
     "end_time": "2025-08-05T15:27:25.035826",
     "exception": false,
     "start_time": "2025-08-05T15:27:25.012014",
     "status": "completed"
    },
    "tags": []
   },
   "source": [
    "# (Fairness) Metrics"
   ]
  },
  {
   "cell_type": "code",
   "execution_count": 59,
   "id": "debc5d62",
   "metadata": {
    "execution": {
     "iopub.execute_input": "2025-08-05T15:27:25.080898Z",
     "iopub.status.busy": "2025-08-05T15:27:25.080153Z",
     "iopub.status.idle": "2025-08-05T15:27:25.108957Z",
     "shell.execute_reply": "2025-08-05T15:27:25.108041Z"
    },
    "papermill": {
     "duration": 0.052264,
     "end_time": "2025-08-05T15:27:25.110472",
     "exception": false,
     "start_time": "2025-08-05T15:27:25.058208",
     "status": "completed"
    },
    "tags": []
   },
   "outputs": [],
   "source": [
    "# do I need to include maxdeutsch1.missing?\n",
    "\n",
    "import numpy as np\n",
    "\n",
    "colname_to_bin = \"maxdeutsch1\"\n",
    "majority_value = org_train[colname_to_bin].mode()[0]\n",
    "\n",
    "org_test[\"majmin\"] = np.where(org_test[colname_to_bin] == majority_value, \"majority\", \"minority\")"
   ]
  },
  {
   "cell_type": "code",
   "execution_count": 60,
   "id": "06a50de5",
   "metadata": {
    "execution": {
     "iopub.execute_input": "2025-08-05T15:27:25.155892Z",
     "iopub.status.busy": "2025-08-05T15:27:25.155576Z",
     "iopub.status.idle": "2025-08-05T15:27:27.290341Z",
     "shell.execute_reply": "2025-08-05T15:27:27.289329Z"
    },
    "papermill": {
     "duration": 2.161466,
     "end_time": "2025-08-05T15:27:27.292258",
     "exception": false,
     "start_time": "2025-08-05T15:27:25.130792",
     "status": "completed"
    },
    "tags": []
   },
   "outputs": [],
   "source": [
    "example_universe = universe.copy()\n",
    "example_universe[\"cutoff\"] = example_universe[\"cutoff\"][0]\n",
    "example_universe[\"eval_fairness_grouping\"] = example_universe[\"eval_fairness_grouping\"][0]\n",
    "fairness_dict, metric_frame = universe_analysis.compute_metrics(\n",
    "    example_universe,\n",
    "    y_pred_prob=probs_test,\n",
    "    y_test=y_true,\n",
    "    org_test=org_test,\n",
    ")"
   ]
  },
  {
   "cell_type": "markdown",
   "id": "f95d4e02",
   "metadata": {
    "papermill": {
     "duration": 0.024228,
     "end_time": "2025-08-05T15:27:27.342029",
     "exception": false,
     "start_time": "2025-08-05T15:27:27.317801",
     "status": "completed"
    },
    "tags": []
   },
   "source": [
    "# Overall"
   ]
  },
  {
   "cell_type": "markdown",
   "id": "bdee4871",
   "metadata": {
    "papermill": {
     "duration": 0.024568,
     "end_time": "2025-08-05T15:27:27.390964",
     "exception": false,
     "start_time": "2025-08-05T15:27:27.366396",
     "status": "completed"
    },
    "tags": []
   },
   "source": [
    "Fairness\n",
    "Main fairness target: Equalized Odds. Seems to be a better fit than equal opportunity, since we're not only interested in Y = 1. Seems to be a better fit than demographic parity, since we also care about accuracy, not just equal distribution of preds.\n",
    "\n",
    "Pick column for computation of fairness metrics\n",
    "\n",
    "Performance\n",
    "Overall performance measures, most interesting in relation to the measures split by group below"
   ]
  },
  {
   "cell_type": "code",
   "execution_count": 61,
   "id": "c4e067c6",
   "metadata": {
    "execution": {
     "iopub.execute_input": "2025-08-05T15:27:27.434711Z",
     "iopub.status.busy": "2025-08-05T15:27:27.433853Z",
     "iopub.status.idle": "2025-08-05T15:27:27.442941Z",
     "shell.execute_reply": "2025-08-05T15:27:27.441737Z"
    },
    "papermill": {
     "duration": 0.032159,
     "end_time": "2025-08-05T15:27:27.444846",
     "exception": false,
     "start_time": "2025-08-05T15:27:27.412687",
     "status": "completed"
    },
    "tags": []
   },
   "outputs": [
    {
     "data": {
      "text/plain": [
       "accuracy                   0.222907\n",
       "balanced accuracy          0.545346\n",
       "f1                         0.244279\n",
       "precision                  0.139548\n",
       "false positive rate        0.888366\n",
       "false negative rate        0.020942\n",
       "selection rate             0.900000\n",
       "count                  89710.000000\n",
       "dtype: float64"
      ]
     },
     "execution_count": 61,
     "metadata": {},
     "output_type": "execute_result"
    }
   ],
   "source": [
    "metric_frame.overall"
   ]
  },
  {
   "cell_type": "markdown",
   "id": "e968fe9d",
   "metadata": {
    "papermill": {
     "duration": 0.021235,
     "end_time": "2025-08-05T15:27:27.487191",
     "exception": false,
     "start_time": "2025-08-05T15:27:27.465956",
     "status": "completed"
    },
    "tags": []
   },
   "source": [
    "By Group"
   ]
  },
  {
   "cell_type": "code",
   "execution_count": 62,
   "id": "ec325bce",
   "metadata": {
    "execution": {
     "iopub.execute_input": "2025-08-05T15:27:27.533795Z",
     "iopub.status.busy": "2025-08-05T15:27:27.533059Z",
     "iopub.status.idle": "2025-08-05T15:27:27.550147Z",
     "shell.execute_reply": "2025-08-05T15:27:27.548824Z"
    },
    "papermill": {
     "duration": 0.043886,
     "end_time": "2025-08-05T15:27:27.551972",
     "exception": false,
     "start_time": "2025-08-05T15:27:27.508086",
     "status": "completed"
    },
    "tags": []
   },
   "outputs": [
    {
     "data": {
      "text/html": [
       "<div>\n",
       "<style scoped>\n",
       "    .dataframe tbody tr th:only-of-type {\n",
       "        vertical-align: middle;\n",
       "    }\n",
       "\n",
       "    .dataframe tbody tr th {\n",
       "        vertical-align: top;\n",
       "    }\n",
       "\n",
       "    .dataframe thead th {\n",
       "        text-align: right;\n",
       "    }\n",
       "</style>\n",
       "<table border=\"1\" class=\"dataframe\">\n",
       "  <thead>\n",
       "    <tr style=\"text-align: right;\">\n",
       "      <th></th>\n",
       "      <th>accuracy</th>\n",
       "      <th>balanced accuracy</th>\n",
       "      <th>f1</th>\n",
       "      <th>precision</th>\n",
       "      <th>false positive rate</th>\n",
       "      <th>false negative rate</th>\n",
       "      <th>selection rate</th>\n",
       "      <th>count</th>\n",
       "    </tr>\n",
       "    <tr>\n",
       "      <th>majmin</th>\n",
       "      <th></th>\n",
       "      <th></th>\n",
       "      <th></th>\n",
       "      <th></th>\n",
       "      <th></th>\n",
       "      <th></th>\n",
       "      <th></th>\n",
       "      <th></th>\n",
       "    </tr>\n",
       "  </thead>\n",
       "  <tbody>\n",
       "    <tr>\n",
       "      <th>majority</th>\n",
       "      <td>0.233541</td>\n",
       "      <td>0.550583</td>\n",
       "      <td>0.252854</td>\n",
       "      <td>0.145120</td>\n",
       "      <td>0.880343</td>\n",
       "      <td>0.018490</td>\n",
       "      <td>0.893711</td>\n",
       "      <td>69170.0</td>\n",
       "    </tr>\n",
       "    <tr>\n",
       "      <th>minority</th>\n",
       "      <td>0.187098</td>\n",
       "      <td>0.527363</td>\n",
       "      <td>0.215698</td>\n",
       "      <td>0.121347</td>\n",
       "      <td>0.914869</td>\n",
       "      <td>0.030405</td>\n",
       "      <td>0.921178</td>\n",
       "      <td>20540.0</td>\n",
       "    </tr>\n",
       "  </tbody>\n",
       "</table>\n",
       "</div>"
      ],
      "text/plain": [
       "          accuracy  balanced accuracy        f1  precision  \\\n",
       "majmin                                                       \n",
       "majority  0.233541           0.550583  0.252854   0.145120   \n",
       "minority  0.187098           0.527363  0.215698   0.121347   \n",
       "\n",
       "          false positive rate  false negative rate  selection rate    count  \n",
       "majmin                                                                       \n",
       "majority             0.880343             0.018490        0.893711  69170.0  \n",
       "minority             0.914869             0.030405        0.921178  20540.0  "
      ]
     },
     "execution_count": 62,
     "metadata": {},
     "output_type": "execute_result"
    }
   ],
   "source": [
    "metric_frame.by_group"
   ]
  },
  {
   "cell_type": "code",
   "execution_count": 63,
   "id": "a9ddbe63",
   "metadata": {
    "execution": {
     "iopub.execute_input": "2025-08-05T15:27:27.596959Z",
     "iopub.status.busy": "2025-08-05T15:27:27.596278Z",
     "iopub.status.idle": "2025-08-05T15:27:29.819072Z",
     "shell.execute_reply": "2025-08-05T15:27:29.818140Z"
    },
    "papermill": {
     "duration": 2.24707,
     "end_time": "2025-08-05T15:27:29.820782",
     "exception": false,
     "start_time": "2025-08-05T15:27:27.573712",
     "status": "completed"
    },
    "tags": []
   },
   "outputs": [
    {
     "data": {
      "text/plain": [
       "array([[<Axes: title={'center': 'accuracy'}, xlabel='majmin'>,\n",
       "        <Axes: title={'center': 'balanced accuracy'}, xlabel='majmin'>,\n",
       "        <Axes: title={'center': 'f1'}, xlabel='majmin'>],\n",
       "       [<Axes: title={'center': 'precision'}, xlabel='majmin'>,\n",
       "        <Axes: title={'center': 'false positive rate'}, xlabel='majmin'>,\n",
       "        <Axes: title={'center': 'false negative rate'}, xlabel='majmin'>],\n",
       "       [<Axes: title={'center': 'selection rate'}, xlabel='majmin'>,\n",
       "        <Axes: title={'center': 'count'}, xlabel='majmin'>,\n",
       "        <Axes: xlabel='majmin'>]], dtype=object)"
      ]
     },
     "execution_count": 63,
     "metadata": {},
     "output_type": "execute_result"
    },
    {
     "data": {
      "image/png": "[encoded data removed]",
      "text/plain": [
       "<Figure size 1200x800 with 9 Axes>"
      ]
     },
     "metadata": {},
     "output_type": "display_data"
    }
   ],
   "source": [
    "# In a graphic\n",
    "metric_frame.by_group.plot.bar(\n",
    "    subplots=True,\n",
    "    layout=[3, 3],\n",
    "    legend=False,\n",
    "    figsize=[12, 8],\n",
    "    title=\"Show all metrics\",\n",
    ")"
   ]
  },
  {
   "cell_type": "markdown",
   "id": "f57a0bac",
   "metadata": {
    "papermill": {
     "duration": 0.022169,
     "end_time": "2025-08-05T15:27:29.870098",
     "exception": false,
     "start_time": "2025-08-05T15:27:29.847929",
     "status": "completed"
    },
    "tags": []
   },
   "source": [
    "# Final Output"
   ]
  },
  {
   "cell_type": "code",
   "execution_count": 64,
   "id": "96d280a3",
   "metadata": {
    "execution": {
     "iopub.execute_input": "2025-08-05T15:27:29.919307Z",
     "iopub.status.busy": "2025-08-05T15:27:29.918215Z",
     "iopub.status.idle": "2025-08-05T15:27:29.927113Z",
     "shell.execute_reply": "2025-08-05T15:27:29.925990Z"
    },
    "papermill": {
     "duration": 0.035757,
     "end_time": "2025-08-05T15:27:29.928988",
     "exception": false,
     "start_time": "2025-08-05T15:27:29.893231",
     "status": "completed"
    },
    "tags": []
   },
   "outputs": [
    {
     "data": {
      "text/plain": [
       "4"
      ]
     },
     "execution_count": 64,
     "metadata": {},
     "output_type": "execute_result"
    }
   ],
   "source": [
    "sub_universes = universe_analysis.generate_sub_universes()\n",
    "len(sub_universes)"
   ]
  },
  {
   "cell_type": "code",
   "execution_count": 65,
   "id": "92adf7ba",
   "metadata": {
    "execution": {
     "iopub.execute_input": "2025-08-05T15:27:29.978867Z",
     "iopub.status.busy": "2025-08-05T15:27:29.978188Z",
     "iopub.status.idle": "2025-08-05T15:27:29.984923Z",
     "shell.execute_reply": "2025-08-05T15:27:29.983829Z"
    },
    "papermill": {
     "duration": 0.033495,
     "end_time": "2025-08-05T15:27:29.986747",
     "exception": false,
     "start_time": "2025-08-05T15:27:29.953252",
     "status": "completed"
    },
    "tags": []
   },
   "outputs": [],
   "source": [
    "def filter_sub_universe_data(sub_universe, org_test):\n",
    "    # Keep all rows — no filtering\n",
    "    keep_rows_mask = np.ones(org_test.shape[0], dtype=bool)\n",
    "\n",
    "    print(f\"[INFO] Keeping all rows: {keep_rows_mask.sum()} rows retained.\")\n",
    "    return keep_rows_mask"
   ]
  },
  {
   "cell_type": "code",
   "execution_count": 66,
   "id": "4a759155",
   "metadata": {
    "execution": {
     "iopub.execute_input": "2025-08-05T15:27:30.037374Z",
     "iopub.status.busy": "2025-08-05T15:27:30.036621Z",
     "iopub.status.idle": "2025-08-05T15:27:40.178022Z",
     "shell.execute_reply": "2025-08-05T15:27:40.177057Z"
    },
    "papermill": {
     "duration": 10.168435,
     "end_time": "2025-08-05T15:27:40.179793",
     "exception": false,
     "start_time": "2025-08-05T15:27:30.011358",
     "status": "completed"
    },
    "tags": []
   },
   "outputs": [
    {
     "name": "stdout",
     "output_type": "stream",
     "text": [
      "Stopping execution_time clock.\n",
      "[INFO] Keeping all rows: 89710 rows retained.\n"
     ]
    },
    {
     "name": "stdout",
     "output_type": "stream",
     "text": [
      "[INFO] Keeping all rows: 89710 rows retained.\n"
     ]
    },
    {
     "name": "stdout",
     "output_type": "stream",
     "text": [
      "[INFO] Keeping all rows: 89710 rows retained.\n"
     ]
    },
    {
     "name": "stdout",
     "output_type": "stream",
     "text": [
      "[INFO] Keeping all rows: 89710 rows retained.\n"
     ]
    },
    {
     "data": {
      "text/html": [
       "<div>\n",
       "<style scoped>\n",
       "    .dataframe tbody tr th:only-of-type {\n",
       "        vertical-align: middle;\n",
       "    }\n",
       "\n",
       "    .dataframe tbody tr th {\n",
       "        vertical-align: top;\n",
       "    }\n",
       "\n",
       "    .dataframe thead th {\n",
       "        text-align: right;\n",
       "    }\n",
       "</style>\n",
       "<table border=\"1\" class=\"dataframe\">\n",
       "  <thead>\n",
       "    <tr style=\"text-align: right;\">\n",
       "      <th></th>\n",
       "      <th>run_no</th>\n",
       "      <th>universe_id</th>\n",
       "      <th>universe_settings</th>\n",
       "      <th>execution_time</th>\n",
       "      <th>test_size_n</th>\n",
       "      <th>test_size_frac</th>\n",
       "      <th>fair_main_equalized_odds_difference</th>\n",
       "      <th>fair_main_equalized_odds_ratio</th>\n",
       "      <th>fair_main_demographic_parity_difference</th>\n",
       "      <th>fair_main_demographic_parity_ratio</th>\n",
       "      <th>...</th>\n",
       "      <th>perf_grp_precision_0</th>\n",
       "      <th>perf_grp_precision_1</th>\n",
       "      <th>perf_grp_false positive rate_0</th>\n",
       "      <th>perf_grp_false positive rate_1</th>\n",
       "      <th>perf_grp_false negative rate_0</th>\n",
       "      <th>perf_grp_false negative rate_1</th>\n",
       "      <th>perf_grp_selection rate_0</th>\n",
       "      <th>perf_grp_selection rate_1</th>\n",
       "      <th>perf_grp_count_0</th>\n",
       "      <th>perf_grp_count_1</th>\n",
       "    </tr>\n",
       "  </thead>\n",
       "  <tbody>\n",
       "    <tr>\n",
       "      <th>0</th>\n",
       "      <td>15</td>\n",
       "      <td>c7d0fcf2d7e87c562abb0e366b0d215e</td>\n",
       "      <td>{\"cutoff\": \"quantile_0.1\", \"eval_fairness_grou...</td>\n",
       "      <td>25.638998</td>\n",
       "      <td>89710</td>\n",
       "      <td>1.0</td>\n",
       "      <td>0.034526</td>\n",
       "      <td>0.962261</td>\n",
       "      <td>0.027467</td>\n",
       "      <td>0.970183</td>\n",
       "      <td>...</td>\n",
       "      <td>NaN</td>\n",
       "      <td>NaN</td>\n",
       "      <td>NaN</td>\n",
       "      <td>NaN</td>\n",
       "      <td>NaN</td>\n",
       "      <td>NaN</td>\n",
       "      <td>NaN</td>\n",
       "      <td>NaN</td>\n",
       "      <td>NaN</td>\n",
       "      <td>NaN</td>\n",
       "    </tr>\n",
       "    <tr>\n",
       "      <th>0</th>\n",
       "      <td>15</td>\n",
       "      <td>c7d0fcf2d7e87c562abb0e366b0d215e</td>\n",
       "      <td>{\"cutoff\": \"quantile_0.1\", \"eval_fairness_grou...</td>\n",
       "      <td>25.638998</td>\n",
       "      <td>89710</td>\n",
       "      <td>1.0</td>\n",
       "      <td>0.034526</td>\n",
       "      <td>0.962261</td>\n",
       "      <td>0.027467</td>\n",
       "      <td>0.970183</td>\n",
       "      <td>...</td>\n",
       "      <td>0.121347</td>\n",
       "      <td>0.145120</td>\n",
       "      <td>0.914869</td>\n",
       "      <td>0.880343</td>\n",
       "      <td>0.030405</td>\n",
       "      <td>0.018490</td>\n",
       "      <td>0.921178</td>\n",
       "      <td>0.893711</td>\n",
       "      <td>20540.0</td>\n",
       "      <td>69170.0</td>\n",
       "    </tr>\n",
       "    <tr>\n",
       "      <th>0</th>\n",
       "      <td>15</td>\n",
       "      <td>c7d0fcf2d7e87c562abb0e366b0d215e</td>\n",
       "      <td>{\"cutoff\": \"quantile_0.25\", \"eval_fairness_gro...</td>\n",
       "      <td>25.638998</td>\n",
       "      <td>89710</td>\n",
       "      <td>1.0</td>\n",
       "      <td>0.084518</td>\n",
       "      <td>0.892881</td>\n",
       "      <td>0.067886</td>\n",
       "      <td>0.915390</td>\n",
       "      <td>...</td>\n",
       "      <td>NaN</td>\n",
       "      <td>NaN</td>\n",
       "      <td>NaN</td>\n",
       "      <td>NaN</td>\n",
       "      <td>NaN</td>\n",
       "      <td>NaN</td>\n",
       "      <td>NaN</td>\n",
       "      <td>NaN</td>\n",
       "      <td>NaN</td>\n",
       "      <td>NaN</td>\n",
       "    </tr>\n",
       "    <tr>\n",
       "      <th>0</th>\n",
       "      <td>15</td>\n",
       "      <td>c7d0fcf2d7e87c562abb0e366b0d215e</td>\n",
       "      <td>{\"cutoff\": \"quantile_0.25\", \"eval_fairness_gro...</td>\n",
       "      <td>25.638998</td>\n",
       "      <td>89710</td>\n",
       "      <td>1.0</td>\n",
       "      <td>0.084518</td>\n",
       "      <td>0.892881</td>\n",
       "      <td>0.067886</td>\n",
       "      <td>0.915390</td>\n",
       "      <td>...</td>\n",
       "      <td>0.129976</td>\n",
       "      <td>0.167533</td>\n",
       "      <td>0.789016</td>\n",
       "      <td>0.704498</td>\n",
       "      <td>0.095439</td>\n",
       "      <td>0.068818</td>\n",
       "      <td>0.802337</td>\n",
       "      <td>0.734451</td>\n",
       "      <td>20540.0</td>\n",
       "      <td>69170.0</td>\n",
       "    </tr>\n",
       "  </tbody>\n",
       "</table>\n",
       "<p>4 rows × 50 columns</p>\n",
       "</div>"
      ],
      "text/plain": [
       "  run_no                       universe_id  \\\n",
       "0     15  c7d0fcf2d7e87c562abb0e366b0d215e   \n",
       "0     15  c7d0fcf2d7e87c562abb0e366b0d215e   \n",
       "0     15  c7d0fcf2d7e87c562abb0e366b0d215e   \n",
       "0     15  c7d0fcf2d7e87c562abb0e366b0d215e   \n",
       "\n",
       "                                   universe_settings  execution_time  \\\n",
       "0  {\"cutoff\": \"quantile_0.1\", \"eval_fairness_grou...       25.638998   \n",
       "0  {\"cutoff\": \"quantile_0.1\", \"eval_fairness_grou...       25.638998   \n",
       "0  {\"cutoff\": \"quantile_0.25\", \"eval_fairness_gro...       25.638998   \n",
       "0  {\"cutoff\": \"quantile_0.25\", \"eval_fairness_gro...       25.638998   \n",
       "\n",
       "   test_size_n  test_size_frac  fair_main_equalized_odds_difference  \\\n",
       "0        89710             1.0                             0.034526   \n",
       "0        89710             1.0                             0.034526   \n",
       "0        89710             1.0                             0.084518   \n",
       "0        89710             1.0                             0.084518   \n",
       "\n",
       "   fair_main_equalized_odds_ratio  fair_main_demographic_parity_difference  \\\n",
       "0                        0.962261                                 0.027467   \n",
       "0                        0.962261                                 0.027467   \n",
       "0                        0.892881                                 0.067886   \n",
       "0                        0.892881                                 0.067886   \n",
       "\n",
       "   fair_main_demographic_parity_ratio  ...  perf_grp_precision_0  \\\n",
       "0                            0.970183  ...                   NaN   \n",
       "0                            0.970183  ...              0.121347   \n",
       "0                            0.915390  ...                   NaN   \n",
       "0                            0.915390  ...              0.129976   \n",
       "\n",
       "   perf_grp_precision_1  perf_grp_false positive rate_0  \\\n",
       "0                   NaN                             NaN   \n",
       "0              0.145120                        0.914869   \n",
       "0                   NaN                             NaN   \n",
       "0              0.167533                        0.789016   \n",
       "\n",
       "   perf_grp_false positive rate_1  perf_grp_false negative rate_0  \\\n",
       "0                             NaN                             NaN   \n",
       "0                        0.880343                        0.030405   \n",
       "0                             NaN                             NaN   \n",
       "0                        0.704498                        0.095439   \n",
       "\n",
       "   perf_grp_false negative rate_1  perf_grp_selection rate_0  \\\n",
       "0                             NaN                        NaN   \n",
       "0                        0.018490                   0.921178   \n",
       "0                             NaN                        NaN   \n",
       "0                        0.068818                   0.802337   \n",
       "\n",
       "   perf_grp_selection rate_1  perf_grp_count_0  perf_grp_count_1  \n",
       "0                        NaN               NaN               NaN  \n",
       "0                   0.893711           20540.0           69170.0  \n",
       "0                        NaN               NaN               NaN  \n",
       "0                   0.734451           20540.0           69170.0  \n",
       "\n",
       "[4 rows x 50 columns]"
      ]
     },
     "execution_count": 66,
     "metadata": {},
     "output_type": "execute_result"
    }
   ],
   "source": [
    "final_output = universe_analysis.generate_final_output(\n",
    "    y_pred_prob=probs_test,\n",
    "    y_test=y_true,\n",
    "    org_test=org_test,\n",
    "    filter_data=filter_sub_universe_data,\n",
    "    cp_metrics_df=cp_metrics_df,\n",
    "    save=True,\n",
    ")\n",
    "final_output"
   ]
  }
 ],
 "metadata": {
  "celltoolbar": "Tags",
  "kernelspec": {
   "display_name": "Python (CMA Fairness)",
   "language": "python",
   "name": "cma_fair_env"
  },
  "language_info": {
   "codemirror_mode": {
    "name": "ipython",
    "version": 3
   },
   "file_extension": ".py",
   "mimetype": "text/x-python",
   "name": "python",
   "nbconvert_exporter": "python",
   "pygments_lexer": "ipython3",
   "version": "3.10.12"
  },
  "papermill": {
   "default_parameters": {},
   "duration": 39.615067,
   "end_time": "2025-08-05T15:27:40.937253",
   "environment_variables": {},
   "exception": null,
   "input_path": "universe_analysis.ipynb",
   "output_path": "output/runs/15/notebooks/m_15-c7d0fcf2d7e87c562abb0e366b0d215e.ipynb",
   "parameters": {
    "output_dir": "output",
    "run_no": "15",
    "seed": "2023",
    "universe": "{\"cutoff\": [\"quantile_0.1\", \"quantile_0.25\"], \"eval_fairness_grouping\": [\"majority-minority\", \"nationality-all\"], \"exclude_features\": \"age\", \"exclude_subgroups\": \"drop-non-german\", \"model\": \"elasticnet\", \"scale\": \"scale\", \"training_size\": \"5k\", \"training_year\": \"2014\"}",
    "universe_id": "c7d0fcf2d7e87c562abb0e366b0d215e"
   },
   "start_time": "2025-08-05T15:27:01.322186",
   "version": "2.6.0"
  }
 },
 "nbformat": 4,
 "nbformat_minor": 5
}