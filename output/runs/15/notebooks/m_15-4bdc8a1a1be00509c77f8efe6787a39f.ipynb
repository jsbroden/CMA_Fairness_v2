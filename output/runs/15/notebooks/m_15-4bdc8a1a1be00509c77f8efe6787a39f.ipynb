{
 "cells": [
  {
   "cell_type": "code",
   "execution_count": 1,
   "id": "f159f837-637b-42ba-96b5-ec9a68c44524",
   "metadata": {
    "execution": {
     "iopub.execute_input": "2025-08-05T16:21:59.334216Z",
     "iopub.status.busy": "2025-08-05T16:21:59.333275Z",
     "iopub.status.idle": "2025-08-05T16:21:59.350144Z",
     "shell.execute_reply": "2025-08-05T16:21:59.348942Z"
    },
    "papermill": {
     "duration": 0.041556,
     "end_time": "2025-08-05T16:21:59.352011",
     "exception": false,
     "start_time": "2025-08-05T16:21:59.310455",
     "status": "completed"
    },
    "tags": []
   },
   "outputs": [
    {
     "name": "stdout",
     "output_type": "stream",
     "text": [
      "/dss/dsshome1/0C/ra93lal2/cma/CMA_Fairness_v2\n"
     ]
    },
    {
     "name": "stderr",
     "output_type": "stream",
     "text": [
      "/dss/dsshome1/0C/ra93lal2/.local/share/virtualenvs/CMA_Fairness_v2-3j10GkSs/lib/python3.10/site-packages/IPython/core/magics/osm.py:393: UserWarning: This is now an optional IPython functionality, using bookmarks requires you to install the `pickleshare` library.\n",
      "  bkms = self.shell.db.get('bookmarks', {})\n",
      "/dss/dsshome1/0C/ra93lal2/.local/share/virtualenvs/CMA_Fairness_v2-3j10GkSs/lib/python3.10/site-packages/IPython/core/magics/osm.py:417: UserWarning: This is now an optional IPython functionality, setting dhist requires you to install the `pickleshare` library.\n",
      "  self.shell.db['dhist'] = compress_dhist(dhist)[-100:]\n"
     ]
    }
   ],
   "source": [
    "%cd ~/cma/CMA_Fairness_v2"
   ]
  },
  {
   "cell_type": "markdown",
   "id": "de2603b9",
   "metadata": {
    "papermill": {
     "duration": 0.019053,
     "end_time": "2025-08-05T16:21:59.389875",
     "exception": false,
     "start_time": "2025-08-05T16:21:59.370822",
     "status": "completed"
    },
    "tags": []
   },
   "source": [
    "The following cell holds the definition of our parameters, these values can be overriden by rendering the with e.g. the following command:\n",
    "\n",
    "papermill -p alpha 0.2 -p ratio 0.3 universe_analysis.ipynb output/test_run.ipynb"
   ]
  },
  {
   "cell_type": "code",
   "execution_count": 2,
   "id": "a80968a0-40bb-4fa9-85ef-2d5eefb01975",
   "metadata": {
    "execution": {
     "iopub.execute_input": "2025-08-05T16:21:59.430199Z",
     "iopub.status.busy": "2025-08-05T16:21:59.429298Z",
     "iopub.status.idle": "2025-08-05T16:21:59.436157Z",
     "shell.execute_reply": "2025-08-05T16:21:59.434952Z"
    },
    "papermill": {
     "duration": 0.028987,
     "end_time": "2025-08-05T16:21:59.438047",
     "exception": false,
     "start_time": "2025-08-05T16:21:59.409060",
     "status": "completed"
    },
    "tags": []
   },
   "outputs": [
    {
     "name": "stdout",
     "output_type": "stream",
     "text": [
      "Current working directory: /dss/dsshome1/0C/ra93lal2/cma/CMA_Fairness_v2\n"
     ]
    }
   ],
   "source": [
    "import os\n",
    "print(\"Current working directory:\", os.getcwd())"
   ]
  },
  {
   "cell_type": "code",
   "execution_count": 3,
   "id": "2dce4c03",
   "metadata": {
    "execution": {
     "iopub.execute_input": "2025-08-05T16:21:59.478198Z",
     "iopub.status.busy": "2025-08-05T16:21:59.477574Z",
     "iopub.status.idle": "2025-08-05T16:21:59.486328Z",
     "shell.execute_reply": "2025-08-05T16:21:59.485188Z"
    },
    "papermill": {
     "duration": 0.031035,
     "end_time": "2025-08-05T16:21:59.488390",
     "exception": false,
     "start_time": "2025-08-05T16:21:59.457355",
     "status": "completed"
    },
    "tags": [
     "parameters"
    ]
   },
   "outputs": [],
   "source": [
    "run_no = 0\n",
    "universe_id = \"test\"\n",
    "universe = {\n",
    "    \"training_size\": \"25k\", # \"25k\", \"5k\", \"1k\"\n",
    "    \"training_year\": \"2014\", # \"2014\", \"2012_14\", \"2010_14\"\n",
    "    \"scale\": \"scale\", # \"scale\", \"do-not-scale\",\n",
    "    \"model\": \"elasticnet\", # \"logreg\", \"penalized_logreg\", \"rf\", \"gbm\", \"elasticnet\"\n",
    "    \"cutoff\": [\"quantile_0.15\", \"quantile_0.30\"],\n",
    "    \"exclude_features\": \"age\", # \"none\", \"nationality\", \"sex\", \"nationality-sex\", \"age\"\n",
    "    \"exclude_subgroups\": \"keep-all\", # \"keep-all\", \"drop-non-german\"\n",
    "    \"eval_fairness_grouping\": [\"majority-minority\", \"nationality-all\"]\n",
    "}\n",
    "\n",
    "output_dir=\"./output\"\n",
    "seed=0"
   ]
  },
  {
   "cell_type": "code",
   "execution_count": 4,
   "id": "2261b1e2",
   "metadata": {
    "execution": {
     "iopub.execute_input": "2025-08-05T16:21:59.527957Z",
     "iopub.status.busy": "2025-08-05T16:21:59.527306Z",
     "iopub.status.idle": "2025-08-05T16:21:59.533404Z",
     "shell.execute_reply": "2025-08-05T16:21:59.532003Z"
    },
    "papermill": {
     "duration": 0.028087,
     "end_time": "2025-08-05T16:21:59.535618",
     "exception": false,
     "start_time": "2025-08-05T16:21:59.507531",
     "status": "completed"
    },
    "tags": [
     "injected-parameters"
    ]
   },
   "outputs": [],
   "source": [
    "# Parameters\n",
    "universe_id = \"4bdc8a1a1be00509c77f8efe6787a39f\"\n",
    "run_no = \"15\"\n",
    "universe = \"{\\\"cutoff\\\": [\\\"quantile_0.1\\\", \\\"quantile_0.25\\\"], \\\"eval_fairness_grouping\\\": [\\\"majority-minority\\\", \\\"nationality-all\\\"], \\\"exclude_features\\\": \\\"nationality\\\", \\\"exclude_subgroups\\\": \\\"keep-all\\\", \\\"model\\\": \\\"elasticnet\\\", \\\"scale\\\": \\\"scale\\\", \\\"training_size\\\": \\\"1k\\\", \\\"training_year\\\": \\\"2012_14\\\"}\"\n",
    "output_dir = \"output\"\n",
    "seed = \"2023\"\n"
   ]
  },
  {
   "cell_type": "code",
   "execution_count": 5,
   "id": "1650acaf",
   "metadata": {
    "execution": {
     "iopub.execute_input": "2025-08-05T16:21:59.582979Z",
     "iopub.status.busy": "2025-08-05T16:21:59.582428Z",
     "iopub.status.idle": "2025-08-05T16:21:59.588478Z",
     "shell.execute_reply": "2025-08-05T16:21:59.587286Z"
    },
    "papermill": {
     "duration": 0.031742,
     "end_time": "2025-08-05T16:21:59.590920",
     "exception": false,
     "start_time": "2025-08-05T16:21:59.559178",
     "status": "completed"
    },
    "tags": []
   },
   "outputs": [],
   "source": [
    "import json\n",
    "if isinstance(universe, str):\n",
    "    universe = json.loads(universe)"
   ]
  },
  {
   "cell_type": "code",
   "execution_count": 6,
   "id": "16620c48",
   "metadata": {
    "execution": {
     "iopub.execute_input": "2025-08-05T16:21:59.640741Z",
     "iopub.status.busy": "2025-08-05T16:21:59.639796Z",
     "iopub.status.idle": "2025-08-05T16:21:59.697038Z",
     "shell.execute_reply": "2025-08-05T16:21:59.695640Z"
    },
    "papermill": {
     "duration": 0.084363,
     "end_time": "2025-08-05T16:21:59.699491",
     "exception": false,
     "start_time": "2025-08-05T16:21:59.615128",
     "status": "completed"
    },
    "tags": []
   },
   "outputs": [],
   "source": [
    "# Auto-reload the custom package\n",
    "%load_ext autoreload\n",
    "%autoreload 1\n",
    "%aimport fairness_multiverse"
   ]
  },
  {
   "cell_type": "code",
   "execution_count": 7,
   "id": "01c5c9f3",
   "metadata": {
    "execution": {
     "iopub.execute_input": "2025-08-05T16:21:59.745419Z",
     "iopub.status.busy": "2025-08-05T16:21:59.744839Z",
     "iopub.status.idle": "2025-08-05T16:22:01.821708Z",
     "shell.execute_reply": "2025-08-05T16:22:01.820691Z"
    },
    "papermill": {
     "duration": 2.099961,
     "end_time": "2025-08-05T16:22:01.823558",
     "exception": false,
     "start_time": "2025-08-05T16:21:59.723597",
     "status": "completed"
    },
    "tags": []
   },
   "outputs": [],
   "source": [
    "from fairness_multiverse.universe import UniverseAnalysis\n",
    "\n",
    "universe_analysis = UniverseAnalysis(\n",
    "    run_no = run_no,\n",
    "    universe_id = universe_id,\n",
    "    universe = universe,\n",
    "    output_dir=output_dir,\n",
    ")"
   ]
  },
  {
   "cell_type": "code",
   "execution_count": 8,
   "id": "106241f5",
   "metadata": {
    "execution": {
     "iopub.execute_input": "2025-08-05T16:22:01.848004Z",
     "iopub.status.busy": "2025-08-05T16:22:01.847226Z",
     "iopub.status.idle": "2025-08-05T16:22:01.854293Z",
     "shell.execute_reply": "2025-08-05T16:22:01.853366Z"
    },
    "papermill": {
     "duration": 0.020521,
     "end_time": "2025-08-05T16:22:01.855855",
     "exception": false,
     "start_time": "2025-08-05T16:22:01.835334",
     "status": "completed"
    },
    "tags": []
   },
   "outputs": [
    {
     "name": "stdout",
     "output_type": "stream",
     "text": [
      "Using Seed: 2023\n"
     ]
    }
   ],
   "source": [
    "import numpy as np\n",
    "parsed_seed = int(seed)\n",
    "np.random.seed(parsed_seed)\n",
    "print(f\"Using Seed: {parsed_seed}\")"
   ]
  },
  {
   "cell_type": "markdown",
   "id": "e0ebdc57",
   "metadata": {
    "papermill": {
     "duration": 0.010846,
     "end_time": "2025-08-05T16:22:01.878339",
     "exception": false,
     "start_time": "2025-08-05T16:22:01.867493",
     "status": "completed"
    },
    "tags": []
   },
   "source": [
    "# Loading Data"
   ]
  },
  {
   "cell_type": "code",
   "execution_count": 9,
   "id": "f0496b8a",
   "metadata": {
    "execution": {
     "iopub.execute_input": "2025-08-05T16:22:01.902373Z",
     "iopub.status.busy": "2025-08-05T16:22:01.901620Z",
     "iopub.status.idle": "2025-08-05T16:22:15.111451Z",
     "shell.execute_reply": "2025-08-05T16:22:15.109931Z"
    },
    "papermill": {
     "duration": 13.224141,
     "end_time": "2025-08-05T16:22:15.113506",
     "exception": false,
     "start_time": "2025-08-05T16:22:01.889365",
     "status": "completed"
    },
    "tags": []
   },
   "outputs": [
    {
     "name": "stdout",
     "output_type": "stream",
     "text": [
      "Loading SIAB data from cache: data/siab_cached.csv.gz\n"
     ]
    },
    {
     "name": "stdout",
     "output_type": "stream",
     "text": [
      "(643690, 164)\n"
     ]
    }
   ],
   "source": [
    "from pathlib import Path\n",
    "import pandas as pd\n",
    "\n",
    "# File paths\n",
    "raw_file = Path(\"data/raw/siab.csv\")\n",
    "cache_file = Path(\"data/siab_cached.csv.gz\")\n",
    "\n",
    "# Ensure cache directory exists\n",
    "cache_file.parent.mkdir(parents=True, exist_ok=True)\n",
    "\n",
    "# Load with simple caching\n",
    "if cache_file.exists():\n",
    "    print(f\"Loading SIAB data from cache: {cache_file}\")\n",
    "    siab = pd.read_csv(cache_file, compression='gzip')\n",
    "else:\n",
    "    print(f\"Cache not found. Reading raw SIAB data: {raw_file}\")\n",
    "    siab = pd.read_csv(raw_file)\n",
    "    siab.to_csv(cache_file, index=False, compression='gzip')\n",
    "    print(f\"Cached SIAB data to: {cache_file}\")\n",
    "\n",
    "print(siab.shape)"
   ]
  },
  {
   "cell_type": "code",
   "execution_count": 10,
   "id": "db0ca512-5f53-4dba-abdb-a2888bca41ba",
   "metadata": {
    "execution": {
     "iopub.execute_input": "2025-08-05T16:22:15.159884Z",
     "iopub.status.busy": "2025-08-05T16:22:15.159171Z",
     "iopub.status.idle": "2025-08-05T16:22:15.165922Z",
     "shell.execute_reply": "2025-08-05T16:22:15.164747Z"
    },
    "papermill": {
     "duration": 0.030545,
     "end_time": "2025-08-05T16:22:15.167864",
     "exception": false,
     "start_time": "2025-08-05T16:22:15.137319",
     "status": "completed"
    },
    "tags": []
   },
   "outputs": [],
   "source": [
    "#siab"
   ]
  },
  {
   "cell_type": "markdown",
   "id": "997051c5-15bd-4b69-9786-c3001a3ce484",
   "metadata": {
    "papermill": {
     "duration": 0.02078,
     "end_time": "2025-08-05T16:22:15.210592",
     "exception": false,
     "start_time": "2025-08-05T16:22:15.189812",
     "status": "completed"
    },
    "tags": []
   },
   "source": [
    "# Splitting Data and Setting Training Data Size"
   ]
  },
  {
   "cell_type": "code",
   "execution_count": 11,
   "id": "aea9c6ef-6f46-42c8-85eb-5a62025c1508",
   "metadata": {
    "execution": {
     "iopub.execute_input": "2025-08-05T16:22:15.255388Z",
     "iopub.status.busy": "2025-08-05T16:22:15.254766Z",
     "iopub.status.idle": "2025-08-05T16:22:15.920173Z",
     "shell.execute_reply": "2025-08-05T16:22:15.919059Z"
    },
    "papermill": {
     "duration": 0.691592,
     "end_time": "2025-08-05T16:22:15.922901",
     "exception": false,
     "start_time": "2025-08-05T16:22:15.231309",
     "status": "completed"
    },
    "tags": []
   },
   "outputs": [],
   "source": [
    "from fairness_multiverse.universe import sample_by_year_size\n",
    "\n",
    "siab_train = sample_by_year_size(siab,\n",
    "                               training_year=universe[\"training_year\"],\n",
    "                               training_size=universe[\"training_size\"])"
   ]
  },
  {
   "cell_type": "code",
   "execution_count": 12,
   "id": "8d3afb32-789d-442c-8d5d-9f5aa8dd2eed",
   "metadata": {
    "execution": {
     "iopub.execute_input": "2025-08-05T16:22:15.980234Z",
     "iopub.status.busy": "2025-08-05T16:22:15.979656Z",
     "iopub.status.idle": "2025-08-05T16:22:15.986322Z",
     "shell.execute_reply": "2025-08-05T16:22:15.985023Z"
    },
    "papermill": {
     "duration": 0.038914,
     "end_time": "2025-08-05T16:22:15.988813",
     "exception": false,
     "start_time": "2025-08-05T16:22:15.949899",
     "status": "completed"
    },
    "tags": []
   },
   "outputs": [],
   "source": [
    "#siab_train.shape"
   ]
  },
  {
   "cell_type": "code",
   "execution_count": 13,
   "id": "d582db68-1a4c-47fb-84fc-08518dc1975a",
   "metadata": {
    "execution": {
     "iopub.execute_input": "2025-08-05T16:22:16.045913Z",
     "iopub.status.busy": "2025-08-05T16:22:16.044711Z",
     "iopub.status.idle": "2025-08-05T16:22:16.051819Z",
     "shell.execute_reply": "2025-08-05T16:22:16.050627Z"
    },
    "papermill": {
     "duration": 0.038241,
     "end_time": "2025-08-05T16:22:16.054321",
     "exception": false,
     "start_time": "2025-08-05T16:22:16.016080",
     "status": "completed"
    },
    "tags": []
   },
   "outputs": [],
   "source": [
    "#display(siab_train.groupby(\"year\").size())"
   ]
  },
  {
   "cell_type": "code",
   "execution_count": 14,
   "id": "a561edb4-d032-42cb-8256-22eac1111c64",
   "metadata": {
    "execution": {
     "iopub.execute_input": "2025-08-05T16:22:16.110171Z",
     "iopub.status.busy": "2025-08-05T16:22:16.109497Z",
     "iopub.status.idle": "2025-08-05T16:22:16.545204Z",
     "shell.execute_reply": "2025-08-05T16:22:16.543507Z"
    },
    "papermill": {
     "duration": 0.465715,
     "end_time": "2025-08-05T16:22:16.547426",
     "exception": false,
     "start_time": "2025-08-05T16:22:16.081711",
     "status": "completed"
    },
    "tags": []
   },
   "outputs": [],
   "source": [
    "#siab_train = siab_s[siab_s.year < 2015]\n",
    "siab_calib = siab[siab.year == 2015]\n",
    "siab_test = siab[siab.year == 2016]"
   ]
  },
  {
   "cell_type": "code",
   "execution_count": 15,
   "id": "472de16f-c3db-4916-846b-1f0de9cf1746",
   "metadata": {
    "execution": {
     "iopub.execute_input": "2025-08-05T16:22:16.599292Z",
     "iopub.status.busy": "2025-08-05T16:22:16.598013Z",
     "iopub.status.idle": "2025-08-05T16:22:16.607973Z",
     "shell.execute_reply": "2025-08-05T16:22:16.606527Z"
    },
    "papermill": {
     "duration": 0.041595,
     "end_time": "2025-08-05T16:22:16.612080",
     "exception": false,
     "start_time": "2025-08-05T16:22:16.570485",
     "status": "completed"
    },
    "tags": []
   },
   "outputs": [],
   "source": [
    "X_train = siab_train.iloc[:,4:164]\n",
    "y_train = siab_train.iloc[:, [3]]"
   ]
  },
  {
   "cell_type": "code",
   "execution_count": 16,
   "id": "828c96af-f43a-4ed6-ba47-8ac73a47d56c",
   "metadata": {
    "execution": {
     "iopub.execute_input": "2025-08-05T16:22:16.666578Z",
     "iopub.status.busy": "2025-08-05T16:22:16.665424Z",
     "iopub.status.idle": "2025-08-05T16:22:16.736907Z",
     "shell.execute_reply": "2025-08-05T16:22:16.734679Z"
    },
    "papermill": {
     "duration": 0.101146,
     "end_time": "2025-08-05T16:22:16.739077",
     "exception": false,
     "start_time": "2025-08-05T16:22:16.637931",
     "status": "completed"
    },
    "tags": []
   },
   "outputs": [],
   "source": [
    "X_calib = siab_calib.iloc[:,4:164]\n",
    "y_calib = siab_calib.iloc[:, [3]]"
   ]
  },
  {
   "cell_type": "code",
   "execution_count": 17,
   "id": "c34be9c3-6bd6-476e-acd3-845840e303be",
   "metadata": {
    "execution": {
     "iopub.execute_input": "2025-08-05T16:22:16.784457Z",
     "iopub.status.busy": "2025-08-05T16:22:16.783238Z",
     "iopub.status.idle": "2025-08-05T16:22:16.873185Z",
     "shell.execute_reply": "2025-08-05T16:22:16.871822Z"
    },
    "papermill": {
     "duration": 0.118948,
     "end_time": "2025-08-05T16:22:16.875224",
     "exception": false,
     "start_time": "2025-08-05T16:22:16.756276",
     "status": "completed"
    },
    "tags": []
   },
   "outputs": [],
   "source": [
    "X_test = siab_test.iloc[:,4:164]\n",
    "y_true = siab_test.iloc[:, [3]]"
   ]
  },
  {
   "cell_type": "code",
   "execution_count": 18,
   "id": "e6c733c5",
   "metadata": {
    "execution": {
     "iopub.execute_input": "2025-08-05T16:22:16.915950Z",
     "iopub.status.busy": "2025-08-05T16:22:16.914835Z",
     "iopub.status.idle": "2025-08-05T16:22:17.028796Z",
     "shell.execute_reply": "2025-08-05T16:22:17.027519Z"
    },
    "papermill": {
     "duration": 0.137651,
     "end_time": "2025-08-05T16:22:17.031767",
     "exception": false,
     "start_time": "2025-08-05T16:22:16.894116",
     "status": "completed"
    },
    "tags": []
   },
   "outputs": [],
   "source": [
    "# Auxiliary data needed downstream in the pipeline\n",
    "\n",
    "org_train = X_train.copy()\n",
    "org_test = X_test.copy()\n",
    "org_calib = X_calib.copy()"
   ]
  },
  {
   "cell_type": "markdown",
   "id": "0a4a1b33",
   "metadata": {
    "papermill": {
     "duration": 0.030724,
     "end_time": "2025-08-05T16:22:17.094064",
     "exception": false,
     "start_time": "2025-08-05T16:22:17.063340",
     "status": "completed"
    },
    "tags": []
   },
   "source": [
    "# Preprocessing Data"
   ]
  },
  {
   "cell_type": "code",
   "execution_count": 19,
   "id": "ca879031",
   "metadata": {
    "execution": {
     "iopub.execute_input": "2025-08-05T16:22:17.157835Z",
     "iopub.status.busy": "2025-08-05T16:22:17.156958Z",
     "iopub.status.idle": "2025-08-05T16:22:17.165383Z",
     "shell.execute_reply": "2025-08-05T16:22:17.164132Z"
    },
    "papermill": {
     "duration": 0.042383,
     "end_time": "2025-08-05T16:22:17.167086",
     "exception": false,
     "start_time": "2025-08-05T16:22:17.124703",
     "status": "completed"
    },
    "tags": []
   },
   "outputs": [],
   "source": [
    "# EXCLUDE PROTECTED FEATURES\n",
    "# ----------------------\n",
    "# \"exclude_features\": \"none\", # \"nationality\", \"sex\", \"nationality-sex\"\n",
    "\n",
    "excluded_features = universe[\"exclude_features\"].split(\"-\") # split, e.g.: \"nationality-sex\" -> [\"nationality\", \"sex\"]\n",
    "excluded_features_dictionary = {\n",
    "    \"nationality\": [\"maxdeutsch1\", \"maxdeutsch.Missing.\"],\n",
    "    \"sex\": [\"frau1\"],\n",
    "    \"age\": [\"age\"],\n",
    "}"
   ]
  },
  {
   "cell_type": "code",
   "execution_count": 20,
   "id": "b745ac60",
   "metadata": {
    "execution": {
     "iopub.execute_input": "2025-08-05T16:22:17.228907Z",
     "iopub.status.busy": "2025-08-05T16:22:17.227995Z",
     "iopub.status.idle": "2025-08-05T16:22:17.235788Z",
     "shell.execute_reply": "2025-08-05T16:22:17.234481Z"
    },
    "papermill": {
     "duration": 0.041394,
     "end_time": "2025-08-05T16:22:17.237859",
     "exception": false,
     "start_time": "2025-08-05T16:22:17.196465",
     "status": "completed"
    },
    "tags": []
   },
   "outputs": [],
   "source": [
    "# Code nice names to column names\n",
    "\n",
    "excluded_features_columns = [\n",
    "    excluded_features_dictionary[f] for f in excluded_features if len(f) > 0 and f != \"none\"\n",
    "]"
   ]
  },
  {
   "cell_type": "code",
   "execution_count": 21,
   "id": "f84f73a2",
   "metadata": {
    "execution": {
     "iopub.execute_input": "2025-08-05T16:22:17.287656Z",
     "iopub.status.busy": "2025-08-05T16:22:17.286639Z",
     "iopub.status.idle": "2025-08-05T16:22:17.296031Z",
     "shell.execute_reply": "2025-08-05T16:22:17.294800Z"
    },
    "papermill": {
     "duration": 0.036446,
     "end_time": "2025-08-05T16:22:17.298179",
     "exception": false,
     "start_time": "2025-08-05T16:22:17.261733",
     "status": "completed"
    },
    "tags": []
   },
   "outputs": [],
   "source": [
    "from utils import flatten_once\n",
    "\n",
    "excluded_features_columns = flatten_once(excluded_features_columns)"
   ]
  },
  {
   "cell_type": "code",
   "execution_count": 22,
   "id": "884dea22",
   "metadata": {
    "execution": {
     "iopub.execute_input": "2025-08-05T16:22:17.347753Z",
     "iopub.status.busy": "2025-08-05T16:22:17.346816Z",
     "iopub.status.idle": "2025-08-05T16:22:17.358280Z",
     "shell.execute_reply": "2025-08-05T16:22:17.357008Z"
    },
    "papermill": {
     "duration": 0.039339,
     "end_time": "2025-08-05T16:22:17.361004",
     "exception": false,
     "start_time": "2025-08-05T16:22:17.321665",
     "status": "completed"
    },
    "tags": []
   },
   "outputs": [
    {
     "name": "stdout",
     "output_type": "stream",
     "text": [
      "Dropping features: ['maxdeutsch1', 'maxdeutsch.Missing.']\n"
     ]
    }
   ],
   "source": [
    "if len(excluded_features_columns) > 0:\n",
    "    print(f\"Dropping features: {excluded_features_columns}\")\n",
    "    X_train.drop(excluded_features_columns, axis=1, inplace=True)"
   ]
  },
  {
   "cell_type": "code",
   "execution_count": 23,
   "id": "95ab8b16",
   "metadata": {
    "execution": {
     "iopub.execute_input": "2025-08-05T16:22:17.425596Z",
     "iopub.status.busy": "2025-08-05T16:22:17.424947Z",
     "iopub.status.idle": "2025-08-05T16:22:17.487693Z",
     "shell.execute_reply": "2025-08-05T16:22:17.486513Z"
    },
    "papermill": {
     "duration": 0.097201,
     "end_time": "2025-08-05T16:22:17.489648",
     "exception": false,
     "start_time": "2025-08-05T16:22:17.392447",
     "status": "completed"
    },
    "tags": []
   },
   "outputs": [
    {
     "name": "stdout",
     "output_type": "stream",
     "text": [
      "Dropping features: ['maxdeutsch1', 'maxdeutsch.Missing.']\n"
     ]
    }
   ],
   "source": [
    "if len(excluded_features_columns) > 0:\n",
    "    print(f\"Dropping features: {excluded_features_columns}\")\n",
    "    X_test.drop(excluded_features_columns, axis=1, inplace=True)"
   ]
  },
  {
   "cell_type": "code",
   "execution_count": 24,
   "id": "1853aaf5-fb9f-46cb-a2b5-8ea4ae2237e4",
   "metadata": {
    "execution": {
     "iopub.execute_input": "2025-08-05T16:22:17.537362Z",
     "iopub.status.busy": "2025-08-05T16:22:17.536913Z",
     "iopub.status.idle": "2025-08-05T16:22:17.598603Z",
     "shell.execute_reply": "2025-08-05T16:22:17.596923Z"
    },
    "papermill": {
     "duration": 0.089507,
     "end_time": "2025-08-05T16:22:17.600859",
     "exception": false,
     "start_time": "2025-08-05T16:22:17.511352",
     "status": "completed"
    },
    "tags": []
   },
   "outputs": [
    {
     "name": "stdout",
     "output_type": "stream",
     "text": [
      "Dropping features: ['maxdeutsch1', 'maxdeutsch.Missing.']\n"
     ]
    }
   ],
   "source": [
    "if len(excluded_features_columns) > 0:\n",
    "    print(f\"Dropping features: {excluded_features_columns}\")\n",
    "    X_calib.drop(excluded_features_columns, axis=1, inplace=True)"
   ]
  },
  {
   "cell_type": "code",
   "execution_count": 25,
   "id": "76c4dc6d",
   "metadata": {
    "execution": {
     "iopub.execute_input": "2025-08-05T16:22:17.658326Z",
     "iopub.status.busy": "2025-08-05T16:22:17.657053Z",
     "iopub.status.idle": "2025-08-05T16:22:17.665906Z",
     "shell.execute_reply": "2025-08-05T16:22:17.664364Z"
    },
    "papermill": {
     "duration": 0.03972,
     "end_time": "2025-08-05T16:22:17.668116",
     "exception": false,
     "start_time": "2025-08-05T16:22:17.628396",
     "status": "completed"
    },
    "tags": []
   },
   "outputs": [],
   "source": [
    "# EXCLUDE CERTAIN SUBGROUPS\n",
    "# ----------------------\n",
    "\n",
    "mode = universe.get(\"exclude_subgroups\", \"keep-all\") \n",
    "# Fetches the exclude_subgroups setting from the universe dict.\n",
    "# Defaults to \"keep-all\" if the key is missing."
   ]
  },
  {
   "cell_type": "code",
   "execution_count": 26,
   "id": "21994072",
   "metadata": {
    "execution": {
     "iopub.execute_input": "2025-08-05T16:22:17.705127Z",
     "iopub.status.busy": "2025-08-05T16:22:17.704520Z",
     "iopub.status.idle": "2025-08-05T16:22:17.711310Z",
     "shell.execute_reply": "2025-08-05T16:22:17.710130Z"
    },
    "papermill": {
     "duration": 0.023179,
     "end_time": "2025-08-05T16:22:17.712957",
     "exception": false,
     "start_time": "2025-08-05T16:22:17.689778",
     "status": "completed"
    },
    "tags": []
   },
   "outputs": [],
   "source": [
    "if mode == \"keep-all\":\n",
    "    keep_mask = pd.Series(True, index=org_train.index)\n",
    "\n",
    "# org_train contains the original feature columns from features_org (in Simson)\n",
    "# features_org contains unprocessed features, for me X_train at beginning ???\n",
    "# For keep-all, creates a boolean Series (keep_mask) of all True, so no rows are removed.\n",
    "\n",
    "elif mode == \"drop-non-german\":\n",
    "    keep_mask = org_train[\"maxdeutsch1\"] == 1 # ??? what about missing values?\n",
    "\n",
    "else:\n",
    "    raise ValueError(f\"Unsupported mode for exclude_subgroups: {mode}\")"
   ]
  },
  {
   "cell_type": "code",
   "execution_count": 27,
   "id": "71651440",
   "metadata": {
    "execution": {
     "iopub.execute_input": "2025-08-05T16:22:17.740845Z",
     "iopub.status.busy": "2025-08-05T16:22:17.739937Z",
     "iopub.status.idle": "2025-08-05T16:22:17.748219Z",
     "shell.execute_reply": "2025-08-05T16:22:17.746880Z"
    },
    "papermill": {
     "duration": 0.024026,
     "end_time": "2025-08-05T16:22:17.750345",
     "exception": false,
     "start_time": "2025-08-05T16:22:17.726319",
     "status": "completed"
    },
    "tags": []
   },
   "outputs": [],
   "source": [
    "n_drop = (~keep_mask).sum() # Calculates how many rows are set to be dropped\n",
    "if n_drop > 0:\n",
    "    pct = n_drop / len(keep_mask) * 100\n",
    "    print(f\"Dropping {n_drop} rows ({pct:.2f}%) where mode='{mode}'\")"
   ]
  },
  {
   "cell_type": "code",
   "execution_count": 28,
   "id": "5fb8eee5",
   "metadata": {
    "execution": {
     "iopub.execute_input": "2025-08-05T16:22:17.806604Z",
     "iopub.status.busy": "2025-08-05T16:22:17.806018Z",
     "iopub.status.idle": "2025-08-05T16:22:17.814973Z",
     "shell.execute_reply": "2025-08-05T16:22:17.813599Z"
    },
    "papermill": {
     "duration": 0.044106,
     "end_time": "2025-08-05T16:22:17.821275",
     "exception": false,
     "start_time": "2025-08-05T16:22:17.777169",
     "status": "completed"
    },
    "tags": []
   },
   "outputs": [],
   "source": [
    "X_train = X_train[keep_mask]"
   ]
  },
  {
   "cell_type": "code",
   "execution_count": 29,
   "id": "b202bb3a",
   "metadata": {
    "execution": {
     "iopub.execute_input": "2025-08-05T16:22:17.897427Z",
     "iopub.status.busy": "2025-08-05T16:22:17.896012Z",
     "iopub.status.idle": "2025-08-05T16:22:17.905500Z",
     "shell.execute_reply": "2025-08-05T16:22:17.904081Z"
    },
    "papermill": {
     "duration": 0.051313,
     "end_time": "2025-08-05T16:22:17.908521",
     "exception": false,
     "start_time": "2025-08-05T16:22:17.857208",
     "status": "completed"
    },
    "tags": []
   },
   "outputs": [],
   "source": [
    "y_train = y_train[keep_mask]"
   ]
  },
  {
   "cell_type": "markdown",
   "id": "493e2ac3",
   "metadata": {
    "papermill": {
     "duration": 0.034682,
     "end_time": "2025-08-05T16:22:17.980499",
     "exception": false,
     "start_time": "2025-08-05T16:22:17.945817",
     "status": "completed"
    },
    "tags": []
   },
   "source": [
    "# Model Training"
   ]
  },
  {
   "cell_type": "code",
   "execution_count": 30,
   "id": "679e1268",
   "metadata": {
    "execution": {
     "iopub.execute_input": "2025-08-05T16:22:18.045477Z",
     "iopub.status.busy": "2025-08-05T16:22:18.044360Z",
     "iopub.status.idle": "2025-08-05T16:22:18.191937Z",
     "shell.execute_reply": "2025-08-05T16:22:18.190435Z"
    },
    "papermill": {
     "duration": 0.179655,
     "end_time": "2025-08-05T16:22:18.194946",
     "exception": false,
     "start_time": "2025-08-05T16:22:18.015291",
     "status": "completed"
    },
    "tags": []
   },
   "outputs": [],
   "source": [
    "from sklearn.linear_model import LogisticRegression\n",
    "from sklearn.ensemble import GradientBoostingClassifier, RandomForestClassifier\n",
    "\n",
    "if (universe[\"model\"] == \"logreg\"):\n",
    "    model = LogisticRegression() #penalty=\"none\", solver=\"newton-cg\", max_iter=1) # include random_state=19 ?\n",
    "elif (universe[\"model\"] == \"penalized_logreg\"):\n",
    "    model = LogisticRegression(penalty=\"l2\", C=0.1) #, solver=\"newton-cg\", max_iter=1)\n",
    "elif (universe[\"model\"] == \"rf\"):\n",
    "    model = RandomForestClassifier() # n_estimators=100, n_jobs=-1\n",
    "elif (universe[\"model\"] == \"gbm\"):\n",
    "    model = GradientBoostingClassifier()\n",
    "elif (universe[\"model\"] == \"elasticnet\"):\n",
    "    model = LogisticRegression(penalty = 'elasticnet', solver = 'saga', l1_ratio = 0.5) # max_iter=5000\n",
    "else:\n",
    "    raise \"Unsupported universe.model\""
   ]
  },
  {
   "cell_type": "code",
   "execution_count": 31,
   "id": "0cc8f744",
   "metadata": {
    "execution": {
     "iopub.execute_input": "2025-08-05T16:22:18.270723Z",
     "iopub.status.busy": "2025-08-05T16:22:18.269954Z",
     "iopub.status.idle": "2025-08-05T16:22:18.280137Z",
     "shell.execute_reply": "2025-08-05T16:22:18.278749Z"
    },
    "papermill": {
     "duration": 0.052281,
     "end_time": "2025-08-05T16:22:18.282490",
     "exception": false,
     "start_time": "2025-08-05T16:22:18.230209",
     "status": "completed"
    },
    "tags": []
   },
   "outputs": [],
   "source": [
    "import numpy as np\n",
    "from sklearn.pipeline import Pipeline\n",
    "from sklearn.preprocessing import StandardScaler\n",
    "\n",
    "model = Pipeline([\n",
    "    #(\"continuous_processor\", continuous_processor),\n",
    "    #(\"categorical_preprocessor\", categorical_preprocessor),\n",
    "    (\"scale\", StandardScaler() if universe[\"scale\"] == \"scale\" else None), \n",
    "    (\"model\", model),\n",
    "])"
   ]
  },
  {
   "cell_type": "code",
   "execution_count": 32,
   "id": "9442c04d",
   "metadata": {
    "execution": {
     "iopub.execute_input": "2025-08-05T16:22:18.359632Z",
     "iopub.status.busy": "2025-08-05T16:22:18.358512Z",
     "iopub.status.idle": "2025-08-05T16:22:18.800296Z",
     "shell.execute_reply": "2025-08-05T16:22:18.798842Z"
    },
    "papermill": {
     "duration": 0.483726,
     "end_time": "2025-08-05T16:22:18.802283",
     "exception": false,
     "start_time": "2025-08-05T16:22:18.318557",
     "status": "completed"
    },
    "tags": []
   },
   "outputs": [
    {
     "name": "stderr",
     "output_type": "stream",
     "text": [
      "/dss/dsshome1/0C/ra93lal2/.local/share/virtualenvs/CMA_Fairness_v2-3j10GkSs/lib/python3.10/site-packages/sklearn/linear_model/_sag.py:350: ConvergenceWarning: The max_iter was reached which means the coef_ did not converge\n",
      "  warnings.warn(\n"
     ]
    },
    {
     "data": {
      "text/html": [
       "<style>#sk-container-id-1 {color: black;background-color: white;}#sk-container-id-1 pre{padding: 0;}#sk-container-id-1 div.sk-toggleable {background-color: white;}#sk-container-id-1 label.sk-toggleable__label {cursor: pointer;display: block;width: 100%;margin-bottom: 0;padding: 0.3em;box-sizing: border-box;text-align: center;}#sk-container-id-1 label.sk-toggleable__label-arrow:before {content: \"▸\";float: left;margin-right: 0.25em;color: #696969;}#sk-container-id-1 label.sk-toggleable__label-arrow:hover:before {color: black;}#sk-container-id-1 div.sk-estimator:hover label.sk-toggleable__label-arrow:before {color: black;}#sk-container-id-1 div.sk-toggleable__content {max-height: 0;max-width: 0;overflow: hidden;text-align: left;background-color: #f0f8ff;}#sk-container-id-1 div.sk-toggleable__content pre {margin: 0.2em;color: black;border-radius: 0.25em;background-color: #f0f8ff;}#sk-container-id-1 input.sk-toggleable__control:checked~div.sk-toggleable__content {max-height: 200px;max-width: 100%;overflow: auto;}#sk-container-id-1 input.sk-toggleable__control:checked~label.sk-toggleable__label-arrow:before {content: \"▾\";}#sk-container-id-1 div.sk-estimator input.sk-toggleable__control:checked~label.sk-toggleable__label {background-color: #d4ebff;}#sk-container-id-1 div.sk-label input.sk-toggleable__control:checked~label.sk-toggleable__label {background-color: #d4ebff;}#sk-container-id-1 input.sk-hidden--visually {border: 0;clip: rect(1px 1px 1px 1px);clip: rect(1px, 1px, 1px, 1px);height: 1px;margin: -1px;overflow: hidden;padding: 0;position: absolute;width: 1px;}#sk-container-id-1 div.sk-estimator {font-family: monospace;background-color: #f0f8ff;border: 1px dotted black;border-radius: 0.25em;box-sizing: border-box;margin-bottom: 0.5em;}#sk-container-id-1 div.sk-estimator:hover {background-color: #d4ebff;}#sk-container-id-1 div.sk-parallel-item::after {content: \"\";width: 100%;border-bottom: 1px solid gray;flex-grow: 1;}#sk-container-id-1 div.sk-label:hover label.sk-toggleable__label {background-color: #d4ebff;}#sk-container-id-1 div.sk-serial::before {content: \"\";position: absolute;border-left: 1px solid gray;box-sizing: border-box;top: 0;bottom: 0;left: 50%;z-index: 0;}#sk-container-id-1 div.sk-serial {display: flex;flex-direction: column;align-items: center;background-color: white;padding-right: 0.2em;padding-left: 0.2em;position: relative;}#sk-container-id-1 div.sk-item {position: relative;z-index: 1;}#sk-container-id-1 div.sk-parallel {display: flex;align-items: stretch;justify-content: center;background-color: white;position: relative;}#sk-container-id-1 div.sk-item::before, #sk-container-id-1 div.sk-parallel-item::before {content: \"\";position: absolute;border-left: 1px solid gray;box-sizing: border-box;top: 0;bottom: 0;left: 50%;z-index: -1;}#sk-container-id-1 div.sk-parallel-item {display: flex;flex-direction: column;z-index: 1;position: relative;background-color: white;}#sk-container-id-1 div.sk-parallel-item:first-child::after {align-self: flex-end;width: 50%;}#sk-container-id-1 div.sk-parallel-item:last-child::after {align-self: flex-start;width: 50%;}#sk-container-id-1 div.sk-parallel-item:only-child::after {width: 0;}#sk-container-id-1 div.sk-dashed-wrapped {border: 1px dashed gray;margin: 0 0.4em 0.5em 0.4em;box-sizing: border-box;padding-bottom: 0.4em;background-color: white;}#sk-container-id-1 div.sk-label label {font-family: monospace;font-weight: bold;display: inline-block;line-height: 1.2em;}#sk-container-id-1 div.sk-label-container {text-align: center;}#sk-container-id-1 div.sk-container {/* jupyter's `normalize.less` sets `[hidden] { display: none; }` but bootstrap.min.css set `[hidden] { display: none !important; }` so we also need the `!important` here to be able to override the default hidden behavior on the sphinx rendered scikit-learn.org. See: https://github.com/scikit-learn/scikit-learn/issues/21755 */display: inline-block !important;position: relative;}#sk-container-id-1 div.sk-text-repr-fallback {display: none;}</style><div id=\"sk-container-id-1\" class=\"sk-top-container\"><div class=\"sk-text-repr-fallback\"><pre>Pipeline(steps=[(&#x27;scale&#x27;, StandardScaler()),\n",
       "                (&#x27;model&#x27;,\n",
       "                 LogisticRegression(l1_ratio=0.5, penalty=&#x27;elasticnet&#x27;,\n",
       "                                    solver=&#x27;saga&#x27;))])</pre><b>In a Jupyter environment, please rerun this cell to show the HTML representation or trust the notebook. <br />On GitHub, the HTML representation is unable to render, please try loading this page with nbviewer.org.</b></div><div class=\"sk-container\" hidden><div class=\"sk-item sk-dashed-wrapped\"><div class=\"sk-label-container\"><div class=\"sk-label sk-toggleable\"><input class=\"sk-toggleable__control sk-hidden--visually\" id=\"sk-estimator-id-1\" type=\"checkbox\" ><label for=\"sk-estimator-id-1\" class=\"sk-toggleable__label sk-toggleable__label-arrow\">Pipeline</label><div class=\"sk-toggleable__content\"><pre>Pipeline(steps=[(&#x27;scale&#x27;, StandardScaler()),\n",
       "                (&#x27;model&#x27;,\n",
       "                 LogisticRegression(l1_ratio=0.5, penalty=&#x27;elasticnet&#x27;,\n",
       "                                    solver=&#x27;saga&#x27;))])</pre></div></div></div><div class=\"sk-serial\"><div class=\"sk-item\"><div class=\"sk-estimator sk-toggleable\"><input class=\"sk-toggleable__control sk-hidden--visually\" id=\"sk-estimator-id-2\" type=\"checkbox\" ><label for=\"sk-estimator-id-2\" class=\"sk-toggleable__label sk-toggleable__label-arrow\">StandardScaler</label><div class=\"sk-toggleable__content\"><pre>StandardScaler()</pre></div></div></div><div class=\"sk-item\"><div class=\"sk-estimator sk-toggleable\"><input class=\"sk-toggleable__control sk-hidden--visually\" id=\"sk-estimator-id-3\" type=\"checkbox\" ><label for=\"sk-estimator-id-3\" class=\"sk-toggleable__label sk-toggleable__label-arrow\">LogisticRegression</label><div class=\"sk-toggleable__content\"><pre>LogisticRegression(l1_ratio=0.5, penalty=&#x27;elasticnet&#x27;, solver=&#x27;saga&#x27;)</pre></div></div></div></div></div></div></div>"
      ],
      "text/plain": [
       "Pipeline(steps=[('scale', StandardScaler()),\n",
       "                ('model',\n",
       "                 LogisticRegression(l1_ratio=0.5, penalty='elasticnet',\n",
       "                                    solver='saga'))])"
      ]
     },
     "execution_count": 32,
     "metadata": {},
     "output_type": "execute_result"
    }
   ],
   "source": [
    "model.fit(X_train, y_train.values.ravel())"
   ]
  },
  {
   "cell_type": "code",
   "execution_count": 33,
   "id": "af59f8c0",
   "metadata": {
    "execution": {
     "iopub.execute_input": "2025-08-05T16:22:18.857638Z",
     "iopub.status.busy": "2025-08-05T16:22:18.856972Z",
     "iopub.status.idle": "2025-08-05T16:22:18.864478Z",
     "shell.execute_reply": "2025-08-05T16:22:18.862914Z"
    },
    "papermill": {
     "duration": 0.036909,
     "end_time": "2025-08-05T16:22:18.866872",
     "exception": false,
     "start_time": "2025-08-05T16:22:18.829963",
     "status": "completed"
    },
    "tags": []
   },
   "outputs": [],
   "source": [
    "from fairness_multiverse.universe import predict_w_threshold"
   ]
  },
  {
   "cell_type": "code",
   "execution_count": 34,
   "id": "a7cf2e16",
   "metadata": {
    "execution": {
     "iopub.execute_input": "2025-08-05T16:22:18.922192Z",
     "iopub.status.busy": "2025-08-05T16:22:18.921630Z",
     "iopub.status.idle": "2025-08-05T16:22:19.158139Z",
     "shell.execute_reply": "2025-08-05T16:22:19.156923Z"
    },
    "papermill": {
     "duration": 0.266529,
     "end_time": "2025-08-05T16:22:19.160271",
     "exception": false,
     "start_time": "2025-08-05T16:22:18.893742",
     "status": "completed"
    },
    "tags": []
   },
   "outputs": [
    {
     "data": {
      "text/plain": [
       "0.831423475643741"
      ]
     },
     "execution_count": 34,
     "metadata": {},
     "output_type": "execute_result"
    }
   ],
   "source": [
    "probs_test = model.predict_proba(X_test)\n",
    "\n",
    "'''\n",
    "Below code returns a boolean array (or binary 0/1 array depending on how it’s used) where each element \n",
    "is True if the probability of class 1 is greater than or equal to the threshold, and False otherwise.\n",
    "'''\n",
    "y_pred_default = predict_w_threshold(probs_test, 0.5)\n",
    "\n",
    "from sklearn.metrics import accuracy_score\n",
    "\n",
    "# Naive prediction\n",
    "accuracy_score(y_true = y_true, y_pred = y_pred_default)"
   ]
  },
  {
   "cell_type": "code",
   "execution_count": 35,
   "id": "081964c3",
   "metadata": {
    "execution": {
     "iopub.execute_input": "2025-08-05T16:22:19.214236Z",
     "iopub.status.busy": "2025-08-05T16:22:19.212588Z",
     "iopub.status.idle": "2025-08-05T16:22:19.432473Z",
     "shell.execute_reply": "2025-08-05T16:22:19.431286Z"
    },
    "papermill": {
     "duration": 0.245912,
     "end_time": "2025-08-05T16:22:19.434599",
     "exception": false,
     "start_time": "2025-08-05T16:22:19.188687",
     "status": "completed"
    },
    "tags": []
   },
   "outputs": [
    {
     "data": {
      "text/plain": [
       "array([0, 0, 0, ..., 0, 0, 0])"
      ]
     },
     "execution_count": 35,
     "metadata": {},
     "output_type": "execute_result"
    }
   ],
   "source": [
    "model.predict(X_test)"
   ]
  },
  {
   "cell_type": "markdown",
   "id": "56c9705b",
   "metadata": {
    "papermill": {
     "duration": 0.026596,
     "end_time": "2025-08-05T16:22:19.488334",
     "exception": false,
     "start_time": "2025-08-05T16:22:19.461738",
     "status": "completed"
    },
    "tags": []
   },
   "source": [
    "# Conformal Prediction"
   ]
  },
  {
   "cell_type": "code",
   "execution_count": 36,
   "id": "160ec6ff",
   "metadata": {
    "execution": {
     "iopub.execute_input": "2025-08-05T16:22:19.539352Z",
     "iopub.status.busy": "2025-08-05T16:22:19.538860Z",
     "iopub.status.idle": "2025-08-05T16:22:19.545113Z",
     "shell.execute_reply": "2025-08-05T16:22:19.544115Z"
    },
    "papermill": {
     "duration": 0.030032,
     "end_time": "2025-08-05T16:22:19.546780",
     "exception": false,
     "start_time": "2025-08-05T16:22:19.516748",
     "status": "completed"
    },
    "tags": []
   },
   "outputs": [],
   "source": [
    "# Miscoverage level for conformal prediction (10% allowed error rate => 90% target coverage)\n",
    "alpha = 0.1"
   ]
  },
  {
   "cell_type": "code",
   "execution_count": 37,
   "id": "eadf4555-3dd3-440e-8e35-f82a4ad9f855",
   "metadata": {
    "execution": {
     "iopub.execute_input": "2025-08-05T16:22:19.575319Z",
     "iopub.status.busy": "2025-08-05T16:22:19.574606Z",
     "iopub.status.idle": "2025-08-05T16:22:19.759763Z",
     "shell.execute_reply": "2025-08-05T16:22:19.758491Z"
    },
    "papermill": {
     "duration": 0.200886,
     "end_time": "2025-08-05T16:22:19.761427",
     "exception": false,
     "start_time": "2025-08-05T16:22:19.560541",
     "status": "completed"
    },
    "tags": []
   },
   "outputs": [],
   "source": [
    "probs_calib = model.predict_proba(X_calib)"
   ]
  },
  {
   "cell_type": "code",
   "execution_count": 38,
   "id": "2ed93547-6d5d-4983-9b36-1ecb300da49a",
   "metadata": {
    "execution": {
     "iopub.execute_input": "2025-08-05T16:22:19.794615Z",
     "iopub.status.busy": "2025-08-05T16:22:19.794104Z",
     "iopub.status.idle": "2025-08-05T16:22:19.800476Z",
     "shell.execute_reply": "2025-08-05T16:22:19.799646Z"
    },
    "papermill": {
     "duration": 0.022169,
     "end_time": "2025-08-05T16:22:19.801953",
     "exception": false,
     "start_time": "2025-08-05T16:22:19.779784",
     "status": "completed"
    },
    "tags": []
   },
   "outputs": [],
   "source": [
    "y_calib = y_calib.values.ravel().astype(int)"
   ]
  },
  {
   "cell_type": "code",
   "execution_count": 39,
   "id": "65d1320d-f588-4b38-9072-62af1ae97f7d",
   "metadata": {
    "execution": {
     "iopub.execute_input": "2025-08-05T16:22:19.833573Z",
     "iopub.status.busy": "2025-08-05T16:22:19.833031Z",
     "iopub.status.idle": "2025-08-05T16:22:19.840938Z",
     "shell.execute_reply": "2025-08-05T16:22:19.839822Z"
    },
    "papermill": {
     "duration": 0.023991,
     "end_time": "2025-08-05T16:22:19.842886",
     "exception": false,
     "start_time": "2025-08-05T16:22:19.818895",
     "status": "completed"
    },
    "tags": []
   },
   "outputs": [],
   "source": [
    "from fairness_multiverse.conformal import compute_nc_scores\n",
    "\n",
    "# Compute nonconformity scores on calibration set (1 - probability of true class)\n",
    "nc_scores = compute_nc_scores(probs_calib, y_calib)"
   ]
  },
  {
   "cell_type": "code",
   "execution_count": 40,
   "id": "df3b8ca3-53b7-43d5-9667-7c85da7aeda2",
   "metadata": {
    "execution": {
     "iopub.execute_input": "2025-08-05T16:22:19.891173Z",
     "iopub.status.busy": "2025-08-05T16:22:19.890114Z",
     "iopub.status.idle": "2025-08-05T16:22:19.898377Z",
     "shell.execute_reply": "2025-08-05T16:22:19.897291Z"
    },
    "papermill": {
     "duration": 0.028433,
     "end_time": "2025-08-05T16:22:19.900389",
     "exception": false,
     "start_time": "2025-08-05T16:22:19.871956",
     "status": "completed"
    },
    "tags": []
   },
   "outputs": [],
   "source": [
    "from fairness_multiverse.conformal import find_threshold\n",
    "\n",
    "# Find conformal threshold q_hat for the given alpha (split conformal method)\n",
    "q_hat = find_threshold(nc_scores, alpha)"
   ]
  },
  {
   "cell_type": "code",
   "execution_count": 41,
   "id": "4d29e6c1-0ef6-4aa4-b8fe-4fe79b0d033a",
   "metadata": {
    "execution": {
     "iopub.execute_input": "2025-08-05T16:22:19.959263Z",
     "iopub.status.busy": "2025-08-05T16:22:19.958727Z",
     "iopub.status.idle": "2025-08-05T16:22:19.966357Z",
     "shell.execute_reply": "2025-08-05T16:22:19.965325Z"
    },
    "papermill": {
     "duration": 0.039335,
     "end_time": "2025-08-05T16:22:19.968321",
     "exception": false,
     "start_time": "2025-08-05T16:22:19.928986",
     "status": "completed"
    },
    "tags": []
   },
   "outputs": [
    {
     "data": {
      "text/plain": [
       "0.7732649007340388"
      ]
     },
     "execution_count": 41,
     "metadata": {},
     "output_type": "execute_result"
    }
   ],
   "source": [
    "q_hat"
   ]
  },
  {
   "cell_type": "code",
   "execution_count": 42,
   "id": "92460794-cdac-4be2-ba28-f28c0515a6fb",
   "metadata": {
    "execution": {
     "iopub.execute_input": "2025-08-05T16:22:20.028639Z",
     "iopub.status.busy": "2025-08-05T16:22:20.027867Z",
     "iopub.status.idle": "2025-08-05T16:22:20.795173Z",
     "shell.execute_reply": "2025-08-05T16:22:20.794299Z"
    },
    "papermill": {
     "duration": 0.800144,
     "end_time": "2025-08-05T16:22:20.797462",
     "exception": false,
     "start_time": "2025-08-05T16:22:19.997318",
     "status": "completed"
    },
    "tags": []
   },
   "outputs": [],
   "source": [
    "from fairness_multiverse.conformal import predict_conformal_sets\n",
    "\n",
    "# Generate prediction sets for each test example\n",
    "pred_sets = predict_conformal_sets(model, X_test, q_hat)"
   ]
  },
  {
   "cell_type": "code",
   "execution_count": 43,
   "id": "d90c9a65-e6db-4f5d-80cd-e68fb7e46829",
   "metadata": {
    "execution": {
     "iopub.execute_input": "2025-08-05T16:22:20.875088Z",
     "iopub.status.busy": "2025-08-05T16:22:20.874487Z",
     "iopub.status.idle": "2025-08-05T16:22:20.880186Z",
     "shell.execute_reply": "2025-08-05T16:22:20.879270Z"
    },
    "papermill": {
     "duration": 0.022222,
     "end_time": "2025-08-05T16:22:20.881731",
     "exception": false,
     "start_time": "2025-08-05T16:22:20.859509",
     "status": "completed"
    },
    "tags": []
   },
   "outputs": [],
   "source": [
    "y_true = y_true.squeeze()"
   ]
  },
  {
   "cell_type": "code",
   "execution_count": 44,
   "id": "3a58a54a-1e68-46b9-927a-df01f18aebc8",
   "metadata": {
    "execution": {
     "iopub.execute_input": "2025-08-05T16:22:20.911958Z",
     "iopub.status.busy": "2025-08-05T16:22:20.910883Z",
     "iopub.status.idle": "2025-08-05T16:22:22.030658Z",
     "shell.execute_reply": "2025-08-05T16:22:22.029423Z"
    },
    "papermill": {
     "duration": 1.136762,
     "end_time": "2025-08-05T16:22:22.032944",
     "exception": false,
     "start_time": "2025-08-05T16:22:20.896182",
     "status": "completed"
    },
    "tags": []
   },
   "outputs": [],
   "source": [
    "from fairness_multiverse.conformal import evaluate_sets\n",
    "\n",
    "# Evaluate coverage and average set size on test data\n",
    "metrics = evaluate_sets(pred_sets, y_true)"
   ]
  },
  {
   "cell_type": "markdown",
   "id": "2b569c12-9aaa-4c88-98c9-bbcd0cf3ebb8",
   "metadata": {
    "papermill": {
     "duration": 0.024451,
     "end_time": "2025-08-05T16:22:22.083175",
     "exception": false,
     "start_time": "2025-08-05T16:22:22.058724",
     "status": "completed"
    },
    "tags": []
   },
   "source": [
    "# CP Metrics"
   ]
  },
  {
   "cell_type": "code",
   "execution_count": 45,
   "id": "5ce0a5cb-201f-45a0-ade5-94c7f0bd6095",
   "metadata": {
    "execution": {
     "iopub.execute_input": "2025-08-05T16:22:22.138389Z",
     "iopub.status.busy": "2025-08-05T16:22:22.137703Z",
     "iopub.status.idle": "2025-08-05T16:22:22.147645Z",
     "shell.execute_reply": "2025-08-05T16:22:22.146405Z"
    },
    "papermill": {
     "duration": 0.040455,
     "end_time": "2025-08-05T16:22:22.149555",
     "exception": false,
     "start_time": "2025-08-05T16:22:22.109100",
     "status": "completed"
    },
    "tags": []
   },
   "outputs": [
    {
     "data": {
      "text/plain": [
       "{'coverage': 0.9096421803589343, 'avg_size': 1.2199197413889198}"
      ]
     },
     "execution_count": 45,
     "metadata": {},
     "output_type": "execute_result"
    }
   ],
   "source": [
    "metrics"
   ]
  },
  {
   "cell_type": "code",
   "execution_count": 46,
   "id": "9b9a838d-31c9-430b-ae14-12baee460d17",
   "metadata": {
    "execution": {
     "iopub.execute_input": "2025-08-05T16:22:22.205634Z",
     "iopub.status.busy": "2025-08-05T16:22:22.204847Z",
     "iopub.status.idle": "2025-08-05T16:22:22.213959Z",
     "shell.execute_reply": "2025-08-05T16:22:22.212625Z"
    },
    "papermill": {
     "duration": 0.039716,
     "end_time": "2025-08-05T16:22:22.215819",
     "exception": false,
     "start_time": "2025-08-05T16:22:22.176103",
     "status": "completed"
    },
    "tags": []
   },
   "outputs": [],
   "source": [
    "example_universe = universe.copy()\n",
    "universe_training_year = example_universe.get(\"training_year\")\n",
    "universe_training_size = example_universe.get(\"training_size\")\n",
    "universe_scale = example_universe.get(\"scale\")\n",
    "universe_model = example_universe.get(\"model\")\n",
    "universe_exclude_features = example_universe.get(\"exclude_features\")\n",
    "universe_exclude_subgroups = example_universe.get(\"exclude_subgroups\")"
   ]
  },
  {
   "cell_type": "code",
   "execution_count": 47,
   "id": "f4b6a8ac-9dc0-4245-8a91-5b3b5999c4f9",
   "metadata": {
    "execution": {
     "iopub.execute_input": "2025-08-05T16:22:22.271455Z",
     "iopub.status.busy": "2025-08-05T16:22:22.270710Z",
     "iopub.status.idle": "2025-08-05T16:22:22.279873Z",
     "shell.execute_reply": "2025-08-05T16:22:22.278635Z"
    },
    "papermill": {
     "duration": 0.040438,
     "end_time": "2025-08-05T16:22:22.281914",
     "exception": false,
     "start_time": "2025-08-05T16:22:22.241476",
     "status": "completed"
    },
    "tags": []
   },
   "outputs": [],
   "source": [
    "cp_metrics_dict = {\n",
    "    \"universe_id\": [universe_id],\n",
    "    \"universe_training_year\": [universe_training_year],\n",
    "    \"universe_training_size\": [universe_training_size],\n",
    "    \"universe_scale\": [universe_scale],\n",
    "    \"universe_model\": [universe_model],\n",
    "    \"universe_exclude_features\": [universe_exclude_features],\n",
    "    \"universe_exclude_subgroups\": [universe_exclude_subgroups],\n",
    "    \"q_hat\": [q_hat],\n",
    "    \"coverage\": [metrics[\"coverage\"]],\n",
    "    \"avg_size\": [metrics[\"avg_size\"]],\n",
    "}"
   ]
  },
  {
   "cell_type": "code",
   "execution_count": 48,
   "id": "908acbb1-0371-4915-85ca-3fa520d2efe2",
   "metadata": {
    "execution": {
     "iopub.execute_input": "2025-08-05T16:22:22.335817Z",
     "iopub.status.busy": "2025-08-05T16:22:22.334604Z",
     "iopub.status.idle": "2025-08-05T16:22:22.343713Z",
     "shell.execute_reply": "2025-08-05T16:22:22.342641Z"
    },
    "papermill": {
     "duration": 0.037787,
     "end_time": "2025-08-05T16:22:22.345876",
     "exception": false,
     "start_time": "2025-08-05T16:22:22.308089",
     "status": "completed"
    },
    "tags": []
   },
   "outputs": [
    {
     "data": {
      "text/plain": [
       "{'universe_id': ['4bdc8a1a1be00509c77f8efe6787a39f'],\n",
       " 'universe_training_year': ['2012_14'],\n",
       " 'universe_training_size': ['1k'],\n",
       " 'universe_scale': ['scale'],\n",
       " 'universe_model': ['elasticnet'],\n",
       " 'universe_exclude_features': ['nationality'],\n",
       " 'universe_exclude_subgroups': ['keep-all'],\n",
       " 'q_hat': [0.7732649007340388],\n",
       " 'coverage': [0.9096421803589343],\n",
       " 'avg_size': [1.2199197413889198]}"
      ]
     },
     "execution_count": 48,
     "metadata": {},
     "output_type": "execute_result"
    }
   ],
   "source": [
    "cp_metrics_dict"
   ]
  },
  {
   "cell_type": "code",
   "execution_count": 49,
   "id": "33007efc-14e9-4ec6-97ac-56a455c82265",
   "metadata": {
    "execution": {
     "iopub.execute_input": "2025-08-05T16:22:22.394173Z",
     "iopub.status.busy": "2025-08-05T16:22:22.393767Z",
     "iopub.status.idle": "2025-08-05T16:22:22.399878Z",
     "shell.execute_reply": "2025-08-05T16:22:22.399073Z"
    },
    "papermill": {
     "duration": 0.027384,
     "end_time": "2025-08-05T16:22:22.401413",
     "exception": false,
     "start_time": "2025-08-05T16:22:22.374029",
     "status": "completed"
    },
    "tags": []
   },
   "outputs": [],
   "source": [
    "cp_metrics_df = pd.DataFrame(cp_metrics_dict)"
   ]
  },
  {
   "cell_type": "code",
   "execution_count": 50,
   "id": "db12611b-57b2-4910-b9d0-355adfd6e7bf",
   "metadata": {
    "execution": {
     "iopub.execute_input": "2025-08-05T16:22:22.432427Z",
     "iopub.status.busy": "2025-08-05T16:22:22.431515Z",
     "iopub.status.idle": "2025-08-05T16:22:22.456697Z",
     "shell.execute_reply": "2025-08-05T16:22:22.455655Z"
    },
    "papermill": {
     "duration": 0.042643,
     "end_time": "2025-08-05T16:22:22.458642",
     "exception": false,
     "start_time": "2025-08-05T16:22:22.415999",
     "status": "completed"
    },
    "tags": []
   },
   "outputs": [
    {
     "data": {
      "text/html": [
       "<div>\n",
       "<style scoped>\n",
       "    .dataframe tbody tr th:only-of-type {\n",
       "        vertical-align: middle;\n",
       "    }\n",
       "\n",
       "    .dataframe tbody tr th {\n",
       "        vertical-align: top;\n",
       "    }\n",
       "\n",
       "    .dataframe thead th {\n",
       "        text-align: right;\n",
       "    }\n",
       "</style>\n",
       "<table border=\"1\" class=\"dataframe\">\n",
       "  <thead>\n",
       "    <tr style=\"text-align: right;\">\n",
       "      <th></th>\n",
       "      <th>universe_id</th>\n",
       "      <th>universe_training_year</th>\n",
       "      <th>universe_training_size</th>\n",
       "      <th>universe_scale</th>\n",
       "      <th>universe_model</th>\n",
       "      <th>universe_exclude_features</th>\n",
       "      <th>universe_exclude_subgroups</th>\n",
       "      <th>q_hat</th>\n",
       "      <th>coverage</th>\n",
       "      <th>avg_size</th>\n",
       "    </tr>\n",
       "  </thead>\n",
       "  <tbody>\n",
       "    <tr>\n",
       "      <th>0</th>\n",
       "      <td>4bdc8a1a1be00509c77f8efe6787a39f</td>\n",
       "      <td>2012_14</td>\n",
       "      <td>1k</td>\n",
       "      <td>scale</td>\n",
       "      <td>elasticnet</td>\n",
       "      <td>nationality</td>\n",
       "      <td>keep-all</td>\n",
       "      <td>0.773265</td>\n",
       "      <td>0.909642</td>\n",
       "      <td>1.21992</td>\n",
       "    </tr>\n",
       "  </tbody>\n",
       "</table>\n",
       "</div>"
      ],
      "text/plain": [
       "                        universe_id universe_training_year  \\\n",
       "0  4bdc8a1a1be00509c77f8efe6787a39f                2012_14   \n",
       "\n",
       "  universe_training_size universe_scale universe_model  \\\n",
       "0                     1k          scale     elasticnet   \n",
       "\n",
       "  universe_exclude_features universe_exclude_subgroups     q_hat  coverage  \\\n",
       "0               nationality                   keep-all  0.773265  0.909642   \n",
       "\n",
       "   avg_size  \n",
       "0   1.21992  "
      ]
     },
     "execution_count": 50,
     "metadata": {},
     "output_type": "execute_result"
    }
   ],
   "source": [
    "cp_metrics_df"
   ]
  },
  {
   "cell_type": "code",
   "execution_count": 51,
   "id": "b7fbde55-a0a1-47e4-9af6-fe4a17fa8c61",
   "metadata": {
    "execution": {
     "iopub.execute_input": "2025-08-05T16:22:22.502182Z",
     "iopub.status.busy": "2025-08-05T16:22:22.501730Z",
     "iopub.status.idle": "2025-08-05T16:22:22.507114Z",
     "shell.execute_reply": "2025-08-05T16:22:22.506225Z"
    },
    "papermill": {
     "duration": 0.022678,
     "end_time": "2025-08-05T16:22:22.508640",
     "exception": false,
     "start_time": "2025-08-05T16:22:22.485962",
     "status": "completed"
    },
    "tags": []
   },
   "outputs": [],
   "source": [
    "# Conditional Coverage & looking at subgroups"
   ]
  },
  {
   "cell_type": "code",
   "execution_count": 52,
   "id": "027ae886-68dd-4141-96c7-805a5450e1ef",
   "metadata": {
    "execution": {
     "iopub.execute_input": "2025-08-05T16:22:22.541060Z",
     "iopub.status.busy": "2025-08-05T16:22:22.540482Z",
     "iopub.status.idle": "2025-08-05T16:22:22.827482Z",
     "shell.execute_reply": "2025-08-05T16:22:22.826363Z"
    },
    "papermill": {
     "duration": 0.306306,
     "end_time": "2025-08-05T16:22:22.829793",
     "exception": false,
     "start_time": "2025-08-05T16:22:22.523487",
     "status": "completed"
    },
    "tags": []
   },
   "outputs": [],
   "source": [
    "from fairness_multiverse.conformal import build_cp_groups\n",
    "\n",
    "cp_groups_df = build_cp_groups(pred_sets, y_true, X_test.index, org_test)\n",
    "#needs universe_id and setting"
   ]
  },
  {
   "cell_type": "code",
   "execution_count": 53,
   "id": "6cbdab96-b2b2-45af-ad54-d0516db2e28d",
   "metadata": {
    "execution": {
     "iopub.execute_input": "2025-08-05T16:22:22.885095Z",
     "iopub.status.busy": "2025-08-05T16:22:22.884338Z",
     "iopub.status.idle": "2025-08-05T16:22:24.942933Z",
     "shell.execute_reply": "2025-08-05T16:22:24.941711Z"
    },
    "papermill": {
     "duration": 2.08844,
     "end_time": "2025-08-05T16:22:24.945072",
     "exception": false,
     "start_time": "2025-08-05T16:22:22.856632",
     "status": "completed"
    },
    "tags": []
   },
   "outputs": [],
   "source": [
    "# Define covered = 1 if true_label is in the predicted set\n",
    "cp_groups_df['covered'] = cp_groups_df.apply(\n",
    "    lambda r: int(r['true_label'] in r['pred_set']),\n",
    "    axis=1\n",
    ")"
   ]
  },
  {
   "cell_type": "code",
   "execution_count": 54,
   "id": "338ff529-1a6b-4b87-a931-8e4788d52aad",
   "metadata": {
    "execution": {
     "iopub.execute_input": "2025-08-05T16:22:24.999398Z",
     "iopub.status.busy": "2025-08-05T16:22:24.998253Z",
     "iopub.status.idle": "2025-08-05T16:22:25.004081Z",
     "shell.execute_reply": "2025-08-05T16:22:25.003081Z"
    },
    "papermill": {
     "duration": 0.035214,
     "end_time": "2025-08-05T16:22:25.005945",
     "exception": false,
     "start_time": "2025-08-05T16:22:24.970731",
     "status": "completed"
    },
    "tags": []
   },
   "outputs": [],
   "source": [
    "#cp_groups_df"
   ]
  },
  {
   "cell_type": "code",
   "execution_count": 55,
   "id": "90032e27-66df-4540-9169-4e89cfbaa758",
   "metadata": {
    "execution": {
     "iopub.execute_input": "2025-08-05T16:22:25.061448Z",
     "iopub.status.busy": "2025-08-05T16:22:25.060395Z",
     "iopub.status.idle": "2025-08-05T16:22:25.073714Z",
     "shell.execute_reply": "2025-08-05T16:22:25.072655Z"
    },
    "papermill": {
     "duration": 0.043706,
     "end_time": "2025-08-05T16:22:25.075782",
     "exception": false,
     "start_time": "2025-08-05T16:22:25.032076",
     "status": "completed"
    },
    "tags": []
   },
   "outputs": [],
   "source": [
    "subgroups = ['frau1','nongerman','nongerman_male','nongerman_female']\n",
    "\n",
    "# Conditional coverage for subgroup==1\n",
    "cond_coverage = {\n",
    "    g: cp_groups_df.loc[cp_groups_df[g]==1, 'covered'].mean()\n",
    "    for g in subgroups\n",
    "}"
   ]
  },
  {
   "cell_type": "code",
   "execution_count": 56,
   "id": "1e348fb1-b9c3-45bc-ba23-f016827a7e0d",
   "metadata": {
    "execution": {
     "iopub.execute_input": "2025-08-05T16:22:25.130343Z",
     "iopub.status.busy": "2025-08-05T16:22:25.129311Z",
     "iopub.status.idle": "2025-08-05T16:22:25.137483Z",
     "shell.execute_reply": "2025-08-05T16:22:25.136438Z"
    },
    "papermill": {
     "duration": 0.037226,
     "end_time": "2025-08-05T16:22:25.139254",
     "exception": false,
     "start_time": "2025-08-05T16:22:25.102028",
     "status": "completed"
    },
    "tags": []
   },
   "outputs": [
    {
     "data": {
      "text/plain": [
       "{'frau1': 0.9021970615985982,\n",
       " 'nongerman': 0.9141638129456016,\n",
       " 'nongerman_male': 0.9331712149869404,\n",
       " 'nongerman_female': 0.8827123695976155}"
      ]
     },
     "execution_count": 56,
     "metadata": {},
     "output_type": "execute_result"
    }
   ],
   "source": [
    "cond_coverage"
   ]
  },
  {
   "cell_type": "code",
   "execution_count": 57,
   "id": "f5093324-c3dd-4d63-bc4c-8d945e5c8bbb",
   "metadata": {
    "execution": {
     "iopub.execute_input": "2025-08-05T16:22:25.193711Z",
     "iopub.status.busy": "2025-08-05T16:22:25.192553Z",
     "iopub.status.idle": "2025-08-05T16:22:25.200730Z",
     "shell.execute_reply": "2025-08-05T16:22:25.199644Z"
    },
    "papermill": {
     "duration": 0.037494,
     "end_time": "2025-08-05T16:22:25.202654",
     "exception": false,
     "start_time": "2025-08-05T16:22:25.165160",
     "status": "completed"
    },
    "tags": []
   },
   "outputs": [],
   "source": [
    "for subgroup, cov in cond_coverage.items():\n",
    "    cp_metrics_df[f\"cov_{subgroup}\"] = cov"
   ]
  },
  {
   "cell_type": "code",
   "execution_count": 58,
   "id": "6e872e10-dbe5-49e8-b554-5030c98ff75d",
   "metadata": {
    "execution": {
     "iopub.execute_input": "2025-08-05T16:22:25.256715Z",
     "iopub.status.busy": "2025-08-05T16:22:25.255982Z",
     "iopub.status.idle": "2025-08-05T16:22:25.278939Z",
     "shell.execute_reply": "2025-08-05T16:22:25.277728Z"
    },
    "papermill": {
     "duration": 0.053122,
     "end_time": "2025-08-05T16:22:25.280818",
     "exception": false,
     "start_time": "2025-08-05T16:22:25.227696",
     "status": "completed"
    },
    "tags": []
   },
   "outputs": [
    {
     "data": {
      "text/html": [
       "<div>\n",
       "<style scoped>\n",
       "    .dataframe tbody tr th:only-of-type {\n",
       "        vertical-align: middle;\n",
       "    }\n",
       "\n",
       "    .dataframe tbody tr th {\n",
       "        vertical-align: top;\n",
       "    }\n",
       "\n",
       "    .dataframe thead th {\n",
       "        text-align: right;\n",
       "    }\n",
       "</style>\n",
       "<table border=\"1\" class=\"dataframe\">\n",
       "  <thead>\n",
       "    <tr style=\"text-align: right;\">\n",
       "      <th></th>\n",
       "      <th>universe_id</th>\n",
       "      <th>universe_training_year</th>\n",
       "      <th>universe_training_size</th>\n",
       "      <th>universe_scale</th>\n",
       "      <th>universe_model</th>\n",
       "      <th>universe_exclude_features</th>\n",
       "      <th>universe_exclude_subgroups</th>\n",
       "      <th>q_hat</th>\n",
       "      <th>coverage</th>\n",
       "      <th>avg_size</th>\n",
       "      <th>cov_frau1</th>\n",
       "      <th>cov_nongerman</th>\n",
       "      <th>cov_nongerman_male</th>\n",
       "      <th>cov_nongerman_female</th>\n",
       "    </tr>\n",
       "  </thead>\n",
       "  <tbody>\n",
       "    <tr>\n",
       "      <th>0</th>\n",
       "      <td>4bdc8a1a1be00509c77f8efe6787a39f</td>\n",
       "      <td>2012_14</td>\n",
       "      <td>1k</td>\n",
       "      <td>scale</td>\n",
       "      <td>elasticnet</td>\n",
       "      <td>nationality</td>\n",
       "      <td>keep-all</td>\n",
       "      <td>0.773265</td>\n",
       "      <td>0.909642</td>\n",
       "      <td>1.21992</td>\n",
       "      <td>0.902197</td>\n",
       "      <td>0.914164</td>\n",
       "      <td>0.933171</td>\n",
       "      <td>0.882712</td>\n",
       "    </tr>\n",
       "  </tbody>\n",
       "</table>\n",
       "</div>"
      ],
      "text/plain": [
       "                        universe_id universe_training_year  \\\n",
       "0  4bdc8a1a1be00509c77f8efe6787a39f                2012_14   \n",
       "\n",
       "  universe_training_size universe_scale universe_model  \\\n",
       "0                     1k          scale     elasticnet   \n",
       "\n",
       "  universe_exclude_features universe_exclude_subgroups     q_hat  coverage  \\\n",
       "0               nationality                   keep-all  0.773265  0.909642   \n",
       "\n",
       "   avg_size  cov_frau1  cov_nongerman  cov_nongerman_male  \\\n",
       "0   1.21992   0.902197       0.914164            0.933171   \n",
       "\n",
       "   cov_nongerman_female  \n",
       "0              0.882712  "
      ]
     },
     "execution_count": 58,
     "metadata": {},
     "output_type": "execute_result"
    }
   ],
   "source": [
    "cp_metrics_df"
   ]
  },
  {
   "cell_type": "markdown",
   "id": "33774451",
   "metadata": {
    "papermill": {
     "duration": 0.027112,
     "end_time": "2025-08-05T16:22:25.335957",
     "exception": false,
     "start_time": "2025-08-05T16:22:25.308845",
     "status": "completed"
    },
    "tags": []
   },
   "source": [
    "# (Fairness) Metrics"
   ]
  },
  {
   "cell_type": "code",
   "execution_count": 59,
   "id": "debc5d62",
   "metadata": {
    "execution": {
     "iopub.execute_input": "2025-08-05T16:22:25.391854Z",
     "iopub.status.busy": "2025-08-05T16:22:25.390830Z",
     "iopub.status.idle": "2025-08-05T16:22:25.416557Z",
     "shell.execute_reply": "2025-08-05T16:22:25.415314Z"
    },
    "papermill": {
     "duration": 0.056631,
     "end_time": "2025-08-05T16:22:25.419077",
     "exception": false,
     "start_time": "2025-08-05T16:22:25.362446",
     "status": "completed"
    },
    "tags": []
   },
   "outputs": [],
   "source": [
    "# do I need to include maxdeutsch1.missing?\n",
    "\n",
    "import numpy as np\n",
    "\n",
    "colname_to_bin = \"maxdeutsch1\"\n",
    "majority_value = org_train[colname_to_bin].mode()[0]\n",
    "\n",
    "org_test[\"majmin\"] = np.where(org_test[colname_to_bin] == majority_value, \"majority\", \"minority\")"
   ]
  },
  {
   "cell_type": "code",
   "execution_count": 60,
   "id": "06a50de5",
   "metadata": {
    "execution": {
     "iopub.execute_input": "2025-08-05T16:22:25.479851Z",
     "iopub.status.busy": "2025-08-05T16:22:25.478851Z",
     "iopub.status.idle": "2025-08-05T16:22:28.539828Z",
     "shell.execute_reply": "2025-08-05T16:22:28.538854Z"
    },
    "papermill": {
     "duration": 3.094829,
     "end_time": "2025-08-05T16:22:28.541681",
     "exception": false,
     "start_time": "2025-08-05T16:22:25.446852",
     "status": "completed"
    },
    "tags": []
   },
   "outputs": [],
   "source": [
    "example_universe = universe.copy()\n",
    "example_universe[\"cutoff\"] = example_universe[\"cutoff\"][0]\n",
    "example_universe[\"eval_fairness_grouping\"] = example_universe[\"eval_fairness_grouping\"][0]\n",
    "fairness_dict, metric_frame = universe_analysis.compute_metrics(\n",
    "    example_universe,\n",
    "    y_pred_prob=probs_test,\n",
    "    y_test=y_true,\n",
    "    org_test=org_test,\n",
    ")"
   ]
  },
  {
   "cell_type": "markdown",
   "id": "f95d4e02",
   "metadata": {
    "papermill": {
     "duration": 0.023979,
     "end_time": "2025-08-05T16:22:28.591702",
     "exception": false,
     "start_time": "2025-08-05T16:22:28.567723",
     "status": "completed"
    },
    "tags": []
   },
   "source": [
    "# Overall"
   ]
  },
  {
   "cell_type": "markdown",
   "id": "bdee4871",
   "metadata": {
    "papermill": {
     "duration": 0.022732,
     "end_time": "2025-08-05T16:22:28.635772",
     "exception": false,
     "start_time": "2025-08-05T16:22:28.613040",
     "status": "completed"
    },
    "tags": []
   },
   "source": [
    "Fairness\n",
    "Main fairness target: Equalized Odds. Seems to be a better fit than equal opportunity, since we're not only interested in Y = 1. Seems to be a better fit than demographic parity, since we also care about accuracy, not just equal distribution of preds.\n",
    "\n",
    "Pick column for computation of fairness metrics\n",
    "\n",
    "Performance\n",
    "Overall performance measures, most interesting in relation to the measures split by group below"
   ]
  },
  {
   "cell_type": "code",
   "execution_count": 61,
   "id": "c4e067c6",
   "metadata": {
    "execution": {
     "iopub.execute_input": "2025-08-05T16:22:28.693209Z",
     "iopub.status.busy": "2025-08-05T16:22:28.692697Z",
     "iopub.status.idle": "2025-08-05T16:22:28.702415Z",
     "shell.execute_reply": "2025-08-05T16:22:28.701381Z"
    },
    "papermill": {
     "duration": 0.040436,
     "end_time": "2025-08-05T16:22:28.704265",
     "exception": false,
     "start_time": "2025-08-05T16:22:28.663829",
     "status": "completed"
    },
    "tags": []
   },
   "outputs": [
    {
     "data": {
      "text/plain": [
       "accuracy                   0.219206\n",
       "balanced accuracy          0.537072\n",
       "f1                         0.240680\n",
       "precision                  0.137492\n",
       "false positive rate        0.890489\n",
       "false negative rate        0.035367\n",
       "selection rate             0.900000\n",
       "count                  89710.000000\n",
       "dtype: float64"
      ]
     },
     "execution_count": 61,
     "metadata": {},
     "output_type": "execute_result"
    }
   ],
   "source": [
    "metric_frame.overall"
   ]
  },
  {
   "cell_type": "markdown",
   "id": "e968fe9d",
   "metadata": {
    "papermill": {
     "duration": 0.026912,
     "end_time": "2025-08-05T16:22:28.758667",
     "exception": false,
     "start_time": "2025-08-05T16:22:28.731755",
     "status": "completed"
    },
    "tags": []
   },
   "source": [
    "By Group"
   ]
  },
  {
   "cell_type": "code",
   "execution_count": 62,
   "id": "ec325bce",
   "metadata": {
    "execution": {
     "iopub.execute_input": "2025-08-05T16:22:28.813362Z",
     "iopub.status.busy": "2025-08-05T16:22:28.812585Z",
     "iopub.status.idle": "2025-08-05T16:22:28.907662Z",
     "shell.execute_reply": "2025-08-05T16:22:28.906294Z"
    },
    "papermill": {
     "duration": 0.124923,
     "end_time": "2025-08-05T16:22:28.909852",
     "exception": false,
     "start_time": "2025-08-05T16:22:28.784929",
     "status": "completed"
    },
    "tags": []
   },
   "outputs": [
    {
     "data": {
      "text/html": [
       "<div>\n",
       "<style scoped>\n",
       "    .dataframe tbody tr th:only-of-type {\n",
       "        vertical-align: middle;\n",
       "    }\n",
       "\n",
       "    .dataframe tbody tr th {\n",
       "        vertical-align: top;\n",
       "    }\n",
       "\n",
       "    .dataframe thead th {\n",
       "        text-align: right;\n",
       "    }\n",
       "</style>\n",
       "<table border=\"1\" class=\"dataframe\">\n",
       "  <thead>\n",
       "    <tr style=\"text-align: right;\">\n",
       "      <th></th>\n",
       "      <th>accuracy</th>\n",
       "      <th>balanced accuracy</th>\n",
       "      <th>f1</th>\n",
       "      <th>precision</th>\n",
       "      <th>false positive rate</th>\n",
       "      <th>false negative rate</th>\n",
       "      <th>selection rate</th>\n",
       "      <th>count</th>\n",
       "    </tr>\n",
       "    <tr>\n",
       "      <th>majmin</th>\n",
       "      <th></th>\n",
       "      <th></th>\n",
       "      <th></th>\n",
       "      <th></th>\n",
       "      <th></th>\n",
       "      <th></th>\n",
       "      <th></th>\n",
       "      <th></th>\n",
       "    </tr>\n",
       "  </thead>\n",
       "  <tbody>\n",
       "    <tr>\n",
       "      <th>majority</th>\n",
       "      <td>0.239309</td>\n",
       "      <td>0.544307</td>\n",
       "      <td>0.249882</td>\n",
       "      <td>0.143660</td>\n",
       "      <td>0.870248</td>\n",
       "      <td>0.041138</td>\n",
       "      <td>0.881957</td>\n",
       "      <td>69170.0</td>\n",
       "    </tr>\n",
       "    <tr>\n",
       "      <th>minority</th>\n",
       "      <td>0.151509</td>\n",
       "      <td>0.514778</td>\n",
       "      <td>0.211474</td>\n",
       "      <td>0.118425</td>\n",
       "      <td>0.957352</td>\n",
       "      <td>0.013091</td>\n",
       "      <td>0.960759</td>\n",
       "      <td>20540.0</td>\n",
       "    </tr>\n",
       "  </tbody>\n",
       "</table>\n",
       "</div>"
      ],
      "text/plain": [
       "          accuracy  balanced accuracy        f1  precision  \\\n",
       "majmin                                                       \n",
       "majority  0.239309           0.544307  0.249882   0.143660   \n",
       "minority  0.151509           0.514778  0.211474   0.118425   \n",
       "\n",
       "          false positive rate  false negative rate  selection rate    count  \n",
       "majmin                                                                       \n",
       "majority             0.870248             0.041138        0.881957  69170.0  \n",
       "minority             0.957352             0.013091        0.960759  20540.0  "
      ]
     },
     "execution_count": 62,
     "metadata": {},
     "output_type": "execute_result"
    }
   ],
   "source": [
    "metric_frame.by_group"
   ]
  },
  {
   "cell_type": "code",
   "execution_count": 63,
   "id": "a9ddbe63",
   "metadata": {
    "execution": {
     "iopub.execute_input": "2025-08-05T16:22:28.966536Z",
     "iopub.status.busy": "2025-08-05T16:22:28.965904Z",
     "iopub.status.idle": "2025-08-05T16:22:31.427482Z",
     "shell.execute_reply": "2025-08-05T16:22:31.426592Z"
    },
    "papermill": {
     "duration": 2.491043,
     "end_time": "2025-08-05T16:22:31.429033",
     "exception": false,
     "start_time": "2025-08-05T16:22:28.937990",
     "status": "completed"
    },
    "tags": []
   },
   "outputs": [
    {
     "data": {
      "text/plain": [
       "array([[<Axes: title={'center': 'accuracy'}, xlabel='majmin'>,\n",
       "        <Axes: title={'center': 'balanced accuracy'}, xlabel='majmin'>,\n",
       "        <Axes: title={'center': 'f1'}, xlabel='majmin'>],\n",
       "       [<Axes: title={'center': 'precision'}, xlabel='majmin'>,\n",
       "        <Axes: title={'center': 'false positive rate'}, xlabel='majmin'>,\n",
       "        <Axes: title={'center': 'false negative rate'}, xlabel='majmin'>],\n",
       "       [<Axes: title={'center': 'selection rate'}, xlabel='majmin'>,\n",
       "        <Axes: title={'center': 'count'}, xlabel='majmin'>,\n",
       "        <Axes: xlabel='majmin'>]], dtype=object)"
      ]
     },
     "execution_count": 63,
     "metadata": {},
     "output_type": "execute_result"
    },
    {
     "data": {
      "image/png": "[encoded data removed]",
      "text/plain": [
       "<Figure size 1200x800 with 9 Axes>"
      ]
     },
     "metadata": {},
     "output_type": "display_data"
    }
   ],
   "source": [
    "# In a graphic\n",
    "metric_frame.by_group.plot.bar(\n",
    "    subplots=True,\n",
    "    layout=[3, 3],\n",
    "    legend=False,\n",
    "    figsize=[12, 8],\n",
    "    title=\"Show all metrics\",\n",
    ")"
   ]
  },
  {
   "cell_type": "markdown",
   "id": "f57a0bac",
   "metadata": {
    "papermill": {
     "duration": 0.016403,
     "end_time": "2025-08-05T16:22:31.462856",
     "exception": false,
     "start_time": "2025-08-05T16:22:31.446453",
     "status": "completed"
    },
    "tags": []
   },
   "source": [
    "# Final Output"
   ]
  },
  {
   "cell_type": "code",
   "execution_count": 64,
   "id": "96d280a3",
   "metadata": {
    "execution": {
     "iopub.execute_input": "2025-08-05T16:22:31.515118Z",
     "iopub.status.busy": "2025-08-05T16:22:31.514535Z",
     "iopub.status.idle": "2025-08-05T16:22:31.524294Z",
     "shell.execute_reply": "2025-08-05T16:22:31.523167Z"
    },
    "papermill": {
     "duration": 0.045534,
     "end_time": "2025-08-05T16:22:31.526213",
     "exception": false,
     "start_time": "2025-08-05T16:22:31.480679",
     "status": "completed"
    },
    "tags": []
   },
   "outputs": [
    {
     "data": {
      "text/plain": [
       "4"
      ]
     },
     "execution_count": 64,
     "metadata": {},
     "output_type": "execute_result"
    }
   ],
   "source": [
    "sub_universes = universe_analysis.generate_sub_universes()\n",
    "len(sub_universes)"
   ]
  },
  {
   "cell_type": "code",
   "execution_count": 65,
   "id": "92adf7ba",
   "metadata": {
    "execution": {
     "iopub.execute_input": "2025-08-05T16:22:31.592657Z",
     "iopub.status.busy": "2025-08-05T16:22:31.592286Z",
     "iopub.status.idle": "2025-08-05T16:22:31.599168Z",
     "shell.execute_reply": "2025-08-05T16:22:31.597886Z"
    },
    "papermill": {
     "duration": 0.043695,
     "end_time": "2025-08-05T16:22:31.600963",
     "exception": false,
     "start_time": "2025-08-05T16:22:31.557268",
     "status": "completed"
    },
    "tags": []
   },
   "outputs": [],
   "source": [
    "def filter_sub_universe_data(sub_universe, org_test):\n",
    "    # Keep all rows — no filtering\n",
    "    keep_rows_mask = np.ones(org_test.shape[0], dtype=bool)\n",
    "\n",
    "    print(f\"[INFO] Keeping all rows: {keep_rows_mask.sum()} rows retained.\")\n",
    "    return keep_rows_mask"
   ]
  },
  {
   "cell_type": "code",
   "execution_count": 66,
   "id": "4a759155",
   "metadata": {
    "execution": {
     "iopub.execute_input": "2025-08-05T16:22:31.637661Z",
     "iopub.status.busy": "2025-08-05T16:22:31.636763Z",
     "iopub.status.idle": "2025-08-05T16:22:41.368491Z",
     "shell.execute_reply": "2025-08-05T16:22:41.367287Z"
    },
    "papermill": {
     "duration": 9.751751,
     "end_time": "2025-08-05T16:22:41.370425",
     "exception": false,
     "start_time": "2025-08-05T16:22:31.618674",
     "status": "completed"
    },
    "tags": []
   },
   "outputs": [
    {
     "name": "stdout",
     "output_type": "stream",
     "text": [
      "Stopping execution_time clock.\n",
      "[INFO] Keeping all rows: 89710 rows retained.\n"
     ]
    },
    {
     "name": "stdout",
     "output_type": "stream",
     "text": [
      "[INFO] Keeping all rows: 89710 rows retained.\n"
     ]
    },
    {
     "name": "stdout",
     "output_type": "stream",
     "text": [
      "[INFO] Keeping all rows: 89710 rows retained.\n"
     ]
    },
    {
     "name": "stdout",
     "output_type": "stream",
     "text": [
      "[INFO] Keeping all rows: 89710 rows retained.\n"
     ]
    },
    {
     "data": {
      "text/html": [
       "<div>\n",
       "<style scoped>\n",
       "    .dataframe tbody tr th:only-of-type {\n",
       "        vertical-align: middle;\n",
       "    }\n",
       "\n",
       "    .dataframe tbody tr th {\n",
       "        vertical-align: top;\n",
       "    }\n",
       "\n",
       "    .dataframe thead th {\n",
       "        text-align: right;\n",
       "    }\n",
       "</style>\n",
       "<table border=\"1\" class=\"dataframe\">\n",
       "  <thead>\n",
       "    <tr style=\"text-align: right;\">\n",
       "      <th></th>\n",
       "      <th>run_no</th>\n",
       "      <th>universe_id</th>\n",
       "      <th>universe_settings</th>\n",
       "      <th>execution_time</th>\n",
       "      <th>test_size_n</th>\n",
       "      <th>test_size_frac</th>\n",
       "      <th>fair_main_equalized_odds_difference</th>\n",
       "      <th>fair_main_equalized_odds_ratio</th>\n",
       "      <th>fair_main_demographic_parity_difference</th>\n",
       "      <th>fair_main_demographic_parity_ratio</th>\n",
       "      <th>...</th>\n",
       "      <th>perf_grp_precision_0</th>\n",
       "      <th>perf_grp_precision_1</th>\n",
       "      <th>perf_grp_false positive rate_0</th>\n",
       "      <th>perf_grp_false positive rate_1</th>\n",
       "      <th>perf_grp_false negative rate_0</th>\n",
       "      <th>perf_grp_false negative rate_1</th>\n",
       "      <th>perf_grp_selection rate_0</th>\n",
       "      <th>perf_grp_selection rate_1</th>\n",
       "      <th>perf_grp_count_0</th>\n",
       "      <th>perf_grp_count_1</th>\n",
       "    </tr>\n",
       "  </thead>\n",
       "  <tbody>\n",
       "    <tr>\n",
       "      <th>0</th>\n",
       "      <td>15</td>\n",
       "      <td>4bdc8a1a1be00509c77f8efe6787a39f</td>\n",
       "      <td>{\"cutoff\": \"quantile_0.1\", \"eval_fairness_grou...</td>\n",
       "      <td>29.864289</td>\n",
       "      <td>89710</td>\n",
       "      <td>1.0</td>\n",
       "      <td>0.087104</td>\n",
       "      <td>0.909016</td>\n",
       "      <td>0.078802</td>\n",
       "      <td>0.917979</td>\n",
       "      <td>...</td>\n",
       "      <td>NaN</td>\n",
       "      <td>NaN</td>\n",
       "      <td>NaN</td>\n",
       "      <td>NaN</td>\n",
       "      <td>NaN</td>\n",
       "      <td>NaN</td>\n",
       "      <td>NaN</td>\n",
       "      <td>NaN</td>\n",
       "      <td>NaN</td>\n",
       "      <td>NaN</td>\n",
       "    </tr>\n",
       "    <tr>\n",
       "      <th>0</th>\n",
       "      <td>15</td>\n",
       "      <td>4bdc8a1a1be00509c77f8efe6787a39f</td>\n",
       "      <td>{\"cutoff\": \"quantile_0.1\", \"eval_fairness_grou...</td>\n",
       "      <td>29.864289</td>\n",
       "      <td>89710</td>\n",
       "      <td>1.0</td>\n",
       "      <td>0.087104</td>\n",
       "      <td>0.909016</td>\n",
       "      <td>0.078802</td>\n",
       "      <td>0.917979</td>\n",
       "      <td>...</td>\n",
       "      <td>0.118425</td>\n",
       "      <td>0.143660</td>\n",
       "      <td>0.957352</td>\n",
       "      <td>0.870248</td>\n",
       "      <td>0.013091</td>\n",
       "      <td>0.041138</td>\n",
       "      <td>0.960759</td>\n",
       "      <td>0.881957</td>\n",
       "      <td>20540.0</td>\n",
       "      <td>69170.0</td>\n",
       "    </tr>\n",
       "    <tr>\n",
       "      <th>0</th>\n",
       "      <td>15</td>\n",
       "      <td>4bdc8a1a1be00509c77f8efe6787a39f</td>\n",
       "      <td>{\"cutoff\": \"quantile_0.25\", \"eval_fairness_gro...</td>\n",
       "      <td>29.864289</td>\n",
       "      <td>89710</td>\n",
       "      <td>1.0</td>\n",
       "      <td>0.165214</td>\n",
       "      <td>0.807027</td>\n",
       "      <td>0.149340</td>\n",
       "      <td>0.827381</td>\n",
       "      <td>...</td>\n",
       "      <td>NaN</td>\n",
       "      <td>NaN</td>\n",
       "      <td>NaN</td>\n",
       "      <td>NaN</td>\n",
       "      <td>NaN</td>\n",
       "      <td>NaN</td>\n",
       "      <td>NaN</td>\n",
       "      <td>NaN</td>\n",
       "      <td>NaN</td>\n",
       "      <td>NaN</td>\n",
       "    </tr>\n",
       "    <tr>\n",
       "      <th>0</th>\n",
       "      <td>15</td>\n",
       "      <td>4bdc8a1a1be00509c77f8efe6787a39f</td>\n",
       "      <td>{\"cutoff\": \"quantile_0.25\", \"eval_fairness_gro...</td>\n",
       "      <td>29.864289</td>\n",
       "      <td>89710</td>\n",
       "      <td>1.0</td>\n",
       "      <td>0.165214</td>\n",
       "      <td>0.807027</td>\n",
       "      <td>0.149340</td>\n",
       "      <td>0.827381</td>\n",
       "      <td>...</td>\n",
       "      <td>0.124479</td>\n",
       "      <td>0.162284</td>\n",
       "      <td>0.856152</td>\n",
       "      <td>0.690938</td>\n",
       "      <td>0.065878</td>\n",
       "      <td>0.120897</td>\n",
       "      <td>0.865141</td>\n",
       "      <td>0.715802</td>\n",
       "      <td>20540.0</td>\n",
       "      <td>69170.0</td>\n",
       "    </tr>\n",
       "  </tbody>\n",
       "</table>\n",
       "<p>4 rows × 50 columns</p>\n",
       "</div>"
      ],
      "text/plain": [
       "  run_no                       universe_id  \\\n",
       "0     15  4bdc8a1a1be00509c77f8efe6787a39f   \n",
       "0     15  4bdc8a1a1be00509c77f8efe6787a39f   \n",
       "0     15  4bdc8a1a1be00509c77f8efe6787a39f   \n",
       "0     15  4bdc8a1a1be00509c77f8efe6787a39f   \n",
       "\n",
       "                                   universe_settings  execution_time  \\\n",
       "0  {\"cutoff\": \"quantile_0.1\", \"eval_fairness_grou...       29.864289   \n",
       "0  {\"cutoff\": \"quantile_0.1\", \"eval_fairness_grou...       29.864289   \n",
       "0  {\"cutoff\": \"quantile_0.25\", \"eval_fairness_gro...       29.864289   \n",
       "0  {\"cutoff\": \"quantile_0.25\", \"eval_fairness_gro...       29.864289   \n",
       "\n",
       "   test_size_n  test_size_frac  fair_main_equalized_odds_difference  \\\n",
       "0        89710             1.0                             0.087104   \n",
       "0        89710             1.0                             0.087104   \n",
       "0        89710             1.0                             0.165214   \n",
       "0        89710             1.0                             0.165214   \n",
       "\n",
       "   fair_main_equalized_odds_ratio  fair_main_demographic_parity_difference  \\\n",
       "0                        0.909016                                 0.078802   \n",
       "0                        0.909016                                 0.078802   \n",
       "0                        0.807027                                 0.149340   \n",
       "0                        0.807027                                 0.149340   \n",
       "\n",
       "   fair_main_demographic_parity_ratio  ...  perf_grp_precision_0  \\\n",
       "0                            0.917979  ...                   NaN   \n",
       "0                            0.917979  ...              0.118425   \n",
       "0                            0.827381  ...                   NaN   \n",
       "0                            0.827381  ...              0.124479   \n",
       "\n",
       "   perf_grp_precision_1  perf_grp_false positive rate_0  \\\n",
       "0                   NaN                             NaN   \n",
       "0              0.143660                        0.957352   \n",
       "0                   NaN                             NaN   \n",
       "0              0.162284                        0.856152   \n",
       "\n",
       "   perf_grp_false positive rate_1  perf_grp_false negative rate_0  \\\n",
       "0                             NaN                             NaN   \n",
       "0                        0.870248                        0.013091   \n",
       "0                             NaN                             NaN   \n",
       "0                        0.690938                        0.065878   \n",
       "\n",
       "   perf_grp_false negative rate_1  perf_grp_selection rate_0  \\\n",
       "0                             NaN                        NaN   \n",
       "0                        0.041138                   0.960759   \n",
       "0                             NaN                        NaN   \n",
       "0                        0.120897                   0.865141   \n",
       "\n",
       "   perf_grp_selection rate_1  perf_grp_count_0  perf_grp_count_1  \n",
       "0                        NaN               NaN               NaN  \n",
       "0                   0.881957           20540.0           69170.0  \n",
       "0                        NaN               NaN               NaN  \n",
       "0                   0.715802           20540.0           69170.0  \n",
       "\n",
       "[4 rows x 50 columns]"
      ]
     },
     "execution_count": 66,
     "metadata": {},
     "output_type": "execute_result"
    }
   ],
   "source": [
    "final_output = universe_analysis.generate_final_output(\n",
    "    y_pred_prob=probs_test,\n",
    "    y_test=y_true,\n",
    "    org_test=org_test,\n",
    "    filter_data=filter_sub_universe_data,\n",
    "    cp_metrics_df=cp_metrics_df,\n",
    "    save=True,\n",
    ")\n",
    "final_output"
   ]
  }
 ],
 "metadata": {
  "celltoolbar": "Tags",
  "kernelspec": {
   "display_name": "Python (CMA Fairness)",
   "language": "python",
   "name": "cma_fair_env"
  },
  "language_info": {
   "codemirror_mode": {
    "name": "ipython",
    "version": 3
   },
   "file_extension": ".py",
   "mimetype": "text/x-python",
   "name": "python",
   "nbconvert_exporter": "python",
   "pygments_lexer": "ipython3",
   "version": "3.10.12"
  },
  "papermill": {
   "default_parameters": {},
   "duration": 44.011682,
   "end_time": "2025-08-05T16:22:42.218089",
   "environment_variables": {},
   "exception": null,
   "input_path": "universe_analysis.ipynb",
   "output_path": "output/runs/15/notebooks/m_15-4bdc8a1a1be00509c77f8efe6787a39f.ipynb",
   "parameters": {
    "output_dir": "output",
    "run_no": "15",
    "seed": "2023",
    "universe": "{\"cutoff\": [\"quantile_0.1\", \"quantile_0.25\"], \"eval_fairness_grouping\": [\"majority-minority\", \"nationality-all\"], \"exclude_features\": \"nationality\", \"exclude_subgroups\": \"keep-all\", \"model\": \"elasticnet\", \"scale\": \"scale\", \"training_size\": \"1k\", \"training_year\": \"2012_14\"}",
    "universe_id": "4bdc8a1a1be00509c77f8efe6787a39f"
   },
   "start_time": "2025-08-05T16:21:58.206407",
   "version": "2.6.0"
  }
 },
 "nbformat": 4,
 "nbformat_minor": 5
}