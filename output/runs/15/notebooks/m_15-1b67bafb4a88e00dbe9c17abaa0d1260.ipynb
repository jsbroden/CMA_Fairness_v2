{
 "cells": [
  {
   "cell_type": "code",
   "execution_count": 1,
   "id": "f159f837-637b-42ba-96b5-ec9a68c44524",
   "metadata": {
    "execution": {
     "iopub.execute_input": "2025-08-05T15:41:35.419471Z",
     "iopub.status.busy": "2025-08-05T15:41:35.418684Z",
     "iopub.status.idle": "2025-08-05T15:41:35.432459Z",
     "shell.execute_reply": "2025-08-05T15:41:35.431328Z"
    },
    "papermill": {
     "duration": 0.036004,
     "end_time": "2025-08-05T15:41:35.434246",
     "exception": false,
     "start_time": "2025-08-05T15:41:35.398242",
     "status": "completed"
    },
    "tags": []
   },
   "outputs": [
    {
     "name": "stdout",
     "output_type": "stream",
     "text": [
      "/dss/dsshome1/0C/ra93lal2/cma/CMA_Fairness_v2\n"
     ]
    },
    {
     "name": "stderr",
     "output_type": "stream",
     "text": [
      "/dss/dsshome1/0C/ra93lal2/.local/share/virtualenvs/CMA_Fairness_v2-3j10GkSs/lib/python3.10/site-packages/IPython/core/magics/osm.py:393: UserWarning: This is now an optional IPython functionality, using bookmarks requires you to install the `pickleshare` library.\n",
      "  bkms = self.shell.db.get('bookmarks', {})\n",
      "/dss/dsshome1/0C/ra93lal2/.local/share/virtualenvs/CMA_Fairness_v2-3j10GkSs/lib/python3.10/site-packages/IPython/core/magics/osm.py:417: UserWarning: This is now an optional IPython functionality, setting dhist requires you to install the `pickleshare` library.\n",
      "  self.shell.db['dhist'] = compress_dhist(dhist)[-100:]\n"
     ]
    }
   ],
   "source": [
    "%cd ~/cma/CMA_Fairness_v2"
   ]
  },
  {
   "cell_type": "markdown",
   "id": "de2603b9",
   "metadata": {
    "papermill": {
     "duration": 0.019765,
     "end_time": "2025-08-05T15:41:35.473801",
     "exception": false,
     "start_time": "2025-08-05T15:41:35.454036",
     "status": "completed"
    },
    "tags": []
   },
   "source": [
    "The following cell holds the definition of our parameters, these values can be overriden by rendering the with e.g. the following command:\n",
    "\n",
    "papermill -p alpha 0.2 -p ratio 0.3 universe_analysis.ipynb output/test_run.ipynb"
   ]
  },
  {
   "cell_type": "code",
   "execution_count": 2,
   "id": "a80968a0-40bb-4fa9-85ef-2d5eefb01975",
   "metadata": {
    "execution": {
     "iopub.execute_input": "2025-08-05T15:41:35.513714Z",
     "iopub.status.busy": "2025-08-05T15:41:35.513219Z",
     "iopub.status.idle": "2025-08-05T15:41:35.518855Z",
     "shell.execute_reply": "2025-08-05T15:41:35.517862Z"
    },
    "papermill": {
     "duration": 0.02787,
     "end_time": "2025-08-05T15:41:35.520826",
     "exception": false,
     "start_time": "2025-08-05T15:41:35.492956",
     "status": "completed"
    },
    "tags": []
   },
   "outputs": [
    {
     "name": "stdout",
     "output_type": "stream",
     "text": [
      "Current working directory: /dss/dsshome1/0C/ra93lal2/cma/CMA_Fairness_v2\n"
     ]
    }
   ],
   "source": [
    "import os\n",
    "print(\"Current working directory:\", os.getcwd())"
   ]
  },
  {
   "cell_type": "code",
   "execution_count": 3,
   "id": "2dce4c03",
   "metadata": {
    "execution": {
     "iopub.execute_input": "2025-08-05T15:41:35.561286Z",
     "iopub.status.busy": "2025-08-05T15:41:35.560799Z",
     "iopub.status.idle": "2025-08-05T15:41:35.567481Z",
     "shell.execute_reply": "2025-08-05T15:41:35.566402Z"
    },
    "papermill": {
     "duration": 0.033743,
     "end_time": "2025-08-05T15:41:35.574332",
     "exception": false,
     "start_time": "2025-08-05T15:41:35.540589",
     "status": "completed"
    },
    "tags": [
     "parameters"
    ]
   },
   "outputs": [],
   "source": [
    "run_no = 0\n",
    "universe_id = \"test\"\n",
    "universe = {\n",
    "    \"training_size\": \"25k\", # \"25k\", \"5k\", \"1k\"\n",
    "    \"training_year\": \"2014\", # \"2014\", \"2012_14\", \"2010_14\"\n",
    "    \"scale\": \"scale\", # \"scale\", \"do-not-scale\",\n",
    "    \"model\": \"elasticnet\", # \"logreg\", \"penalized_logreg\", \"rf\", \"gbm\", \"elasticnet\"\n",
    "    \"cutoff\": [\"quantile_0.15\", \"quantile_0.30\"],\n",
    "    \"exclude_features\": \"age\", # \"none\", \"nationality\", \"sex\", \"nationality-sex\", \"age\"\n",
    "    \"exclude_subgroups\": \"keep-all\", # \"keep-all\", \"drop-non-german\"\n",
    "    \"eval_fairness_grouping\": [\"majority-minority\", \"nationality-all\"]\n",
    "}\n",
    "\n",
    "output_dir=\"./output\"\n",
    "seed=0"
   ]
  },
  {
   "cell_type": "code",
   "execution_count": 4,
   "id": "ae2356ae",
   "metadata": {
    "execution": {
     "iopub.execute_input": "2025-08-05T15:41:35.601124Z",
     "iopub.status.busy": "2025-08-05T15:41:35.600792Z",
     "iopub.status.idle": "2025-08-05T15:41:35.606331Z",
     "shell.execute_reply": "2025-08-05T15:41:35.605292Z"
    },
    "papermill": {
     "duration": 0.025314,
     "end_time": "2025-08-05T15:41:35.608408",
     "exception": false,
     "start_time": "2025-08-05T15:41:35.583094",
     "status": "completed"
    },
    "tags": [
     "injected-parameters"
    ]
   },
   "outputs": [],
   "source": [
    "# Parameters\n",
    "universe_id = \"1b67bafb4a88e00dbe9c17abaa0d1260\"\n",
    "run_no = \"15\"\n",
    "universe = \"{\\\"cutoff\\\": [\\\"quantile_0.1\\\", \\\"quantile_0.25\\\"], \\\"eval_fairness_grouping\\\": [\\\"majority-minority\\\", \\\"nationality-all\\\"], \\\"exclude_features\\\": \\\"age\\\", \\\"exclude_subgroups\\\": \\\"keep-all\\\", \\\"model\\\": \\\"logreg\\\", \\\"scale\\\": \\\"do-not-scale\\\", \\\"training_size\\\": \\\"5k\\\", \\\"training_year\\\": \\\"2012_14\\\"}\"\n",
    "output_dir = \"output\"\n",
    "seed = \"2023\"\n"
   ]
  },
  {
   "cell_type": "code",
   "execution_count": 5,
   "id": "1650acaf",
   "metadata": {
    "execution": {
     "iopub.execute_input": "2025-08-05T15:41:35.663637Z",
     "iopub.status.busy": "2025-08-05T15:41:35.663267Z",
     "iopub.status.idle": "2025-08-05T15:41:35.668563Z",
     "shell.execute_reply": "2025-08-05T15:41:35.667642Z"
    },
    "papermill": {
     "duration": 0.036215,
     "end_time": "2025-08-05T15:41:35.670871",
     "exception": false,
     "start_time": "2025-08-05T15:41:35.634656",
     "status": "completed"
    },
    "tags": []
   },
   "outputs": [],
   "source": [
    "import json\n",
    "if isinstance(universe, str):\n",
    "    universe = json.loads(universe)"
   ]
  },
  {
   "cell_type": "code",
   "execution_count": 6,
   "id": "16620c48",
   "metadata": {
    "execution": {
     "iopub.execute_input": "2025-08-05T15:41:35.690218Z",
     "iopub.status.busy": "2025-08-05T15:41:35.689824Z",
     "iopub.status.idle": "2025-08-05T15:41:35.718478Z",
     "shell.execute_reply": "2025-08-05T15:41:35.717770Z"
    },
    "papermill": {
     "duration": 0.039182,
     "end_time": "2025-08-05T15:41:35.719720",
     "exception": false,
     "start_time": "2025-08-05T15:41:35.680538",
     "status": "completed"
    },
    "tags": []
   },
   "outputs": [],
   "source": [
    "# Auto-reload the custom package\n",
    "%load_ext autoreload\n",
    "%autoreload 1\n",
    "%aimport fairness_multiverse"
   ]
  },
  {
   "cell_type": "code",
   "execution_count": 7,
   "id": "01c5c9f3",
   "metadata": {
    "execution": {
     "iopub.execute_input": "2025-08-05T15:41:35.737869Z",
     "iopub.status.busy": "2025-08-05T15:41:35.737656Z",
     "iopub.status.idle": "2025-08-05T15:41:37.465333Z",
     "shell.execute_reply": "2025-08-05T15:41:37.464241Z"
    },
    "papermill": {
     "duration": 1.739169,
     "end_time": "2025-08-05T15:41:37.467457",
     "exception": false,
     "start_time": "2025-08-05T15:41:35.728288",
     "status": "completed"
    },
    "tags": []
   },
   "outputs": [],
   "source": [
    "from fairness_multiverse.universe import UniverseAnalysis\n",
    "\n",
    "universe_analysis = UniverseAnalysis(\n",
    "    run_no = run_no,\n",
    "    universe_id = universe_id,\n",
    "    universe = universe,\n",
    "    output_dir=output_dir,\n",
    ")"
   ]
  },
  {
   "cell_type": "code",
   "execution_count": 8,
   "id": "106241f5",
   "metadata": {
    "execution": {
     "iopub.execute_input": "2025-08-05T15:41:37.512745Z",
     "iopub.status.busy": "2025-08-05T15:41:37.512055Z",
     "iopub.status.idle": "2025-08-05T15:41:37.519217Z",
     "shell.execute_reply": "2025-08-05T15:41:37.518063Z"
    },
    "papermill": {
     "duration": 0.029783,
     "end_time": "2025-08-05T15:41:37.521164",
     "exception": false,
     "start_time": "2025-08-05T15:41:37.491381",
     "status": "completed"
    },
    "tags": []
   },
   "outputs": [
    {
     "name": "stdout",
     "output_type": "stream",
     "text": [
      "Using Seed: 2023\n"
     ]
    }
   ],
   "source": [
    "import numpy as np\n",
    "parsed_seed = int(seed)\n",
    "np.random.seed(parsed_seed)\n",
    "print(f\"Using Seed: {parsed_seed}\")"
   ]
  },
  {
   "cell_type": "markdown",
   "id": "e0ebdc57",
   "metadata": {
    "papermill": {
     "duration": 0.019381,
     "end_time": "2025-08-05T15:41:37.561066",
     "exception": false,
     "start_time": "2025-08-05T15:41:37.541685",
     "status": "completed"
    },
    "tags": []
   },
   "source": [
    "# Loading Data"
   ]
  },
  {
   "cell_type": "code",
   "execution_count": 9,
   "id": "f0496b8a",
   "metadata": {
    "execution": {
     "iopub.execute_input": "2025-08-05T15:41:37.601001Z",
     "iopub.status.busy": "2025-08-05T15:41:37.600340Z",
     "iopub.status.idle": "2025-08-05T15:41:49.312503Z",
     "shell.execute_reply": "2025-08-05T15:41:49.311382Z"
    },
    "papermill": {
     "duration": 11.733888,
     "end_time": "2025-08-05T15:41:49.314070",
     "exception": false,
     "start_time": "2025-08-05T15:41:37.580182",
     "status": "completed"
    },
    "tags": []
   },
   "outputs": [
    {
     "name": "stdout",
     "output_type": "stream",
     "text": [
      "Loading SIAB data from cache: data/siab_cached.csv.gz\n"
     ]
    },
    {
     "name": "stdout",
     "output_type": "stream",
     "text": [
      "(643690, 164)\n"
     ]
    }
   ],
   "source": [
    "from pathlib import Path\n",
    "import pandas as pd\n",
    "\n",
    "# File paths\n",
    "raw_file = Path(\"data/raw/siab.csv\")\n",
    "cache_file = Path(\"data/siab_cached.csv.gz\")\n",
    "\n",
    "# Ensure cache directory exists\n",
    "cache_file.parent.mkdir(parents=True, exist_ok=True)\n",
    "\n",
    "# Load with simple caching\n",
    "if cache_file.exists():\n",
    "    print(f\"Loading SIAB data from cache: {cache_file}\")\n",
    "    siab = pd.read_csv(cache_file, compression='gzip')\n",
    "else:\n",
    "    print(f\"Cache not found. Reading raw SIAB data: {raw_file}\")\n",
    "    siab = pd.read_csv(raw_file)\n",
    "    siab.to_csv(cache_file, index=False, compression='gzip')\n",
    "    print(f\"Cached SIAB data to: {cache_file}\")\n",
    "\n",
    "print(siab.shape)"
   ]
  },
  {
   "cell_type": "code",
   "execution_count": 10,
   "id": "db0ca512-5f53-4dba-abdb-a2888bca41ba",
   "metadata": {
    "execution": {
     "iopub.execute_input": "2025-08-05T15:41:49.350440Z",
     "iopub.status.busy": "2025-08-05T15:41:49.349981Z",
     "iopub.status.idle": "2025-08-05T15:41:49.355241Z",
     "shell.execute_reply": "2025-08-05T15:41:49.354371Z"
    },
    "papermill": {
     "duration": 0.024009,
     "end_time": "2025-08-05T15:41:49.356891",
     "exception": false,
     "start_time": "2025-08-05T15:41:49.332882",
     "status": "completed"
    },
    "tags": []
   },
   "outputs": [],
   "source": [
    "#siab"
   ]
  },
  {
   "cell_type": "markdown",
   "id": "997051c5-15bd-4b69-9786-c3001a3ce484",
   "metadata": {
    "papermill": {
     "duration": 0.016631,
     "end_time": "2025-08-05T15:41:49.390175",
     "exception": false,
     "start_time": "2025-08-05T15:41:49.373544",
     "status": "completed"
    },
    "tags": []
   },
   "source": [
    "# Splitting Data and Setting Training Data Size"
   ]
  },
  {
   "cell_type": "code",
   "execution_count": 11,
   "id": "aea9c6ef-6f46-42c8-85eb-5a62025c1508",
   "metadata": {
    "execution": {
     "iopub.execute_input": "2025-08-05T15:41:49.423224Z",
     "iopub.status.busy": "2025-08-05T15:41:49.422616Z",
     "iopub.status.idle": "2025-08-05T15:41:50.027471Z",
     "shell.execute_reply": "2025-08-05T15:41:50.026400Z"
    },
    "papermill": {
     "duration": 0.623646,
     "end_time": "2025-08-05T15:41:50.029465",
     "exception": false,
     "start_time": "2025-08-05T15:41:49.405819",
     "status": "completed"
    },
    "tags": []
   },
   "outputs": [],
   "source": [
    "from fairness_multiverse.universe import sample_by_year_size\n",
    "\n",
    "siab_train = sample_by_year_size(siab,\n",
    "                               training_year=universe[\"training_year\"],\n",
    "                               training_size=universe[\"training_size\"])"
   ]
  },
  {
   "cell_type": "code",
   "execution_count": 12,
   "id": "8d3afb32-789d-442c-8d5d-9f5aa8dd2eed",
   "metadata": {
    "execution": {
     "iopub.execute_input": "2025-08-05T15:41:50.063847Z",
     "iopub.status.busy": "2025-08-05T15:41:50.062992Z",
     "iopub.status.idle": "2025-08-05T15:41:50.068084Z",
     "shell.execute_reply": "2025-08-05T15:41:50.066979Z"
    },
    "papermill": {
     "duration": 0.023885,
     "end_time": "2025-08-05T15:41:50.070017",
     "exception": false,
     "start_time": "2025-08-05T15:41:50.046132",
     "status": "completed"
    },
    "tags": []
   },
   "outputs": [],
   "source": [
    "#siab_train.shape"
   ]
  },
  {
   "cell_type": "code",
   "execution_count": 13,
   "id": "d582db68-1a4c-47fb-84fc-08518dc1975a",
   "metadata": {
    "execution": {
     "iopub.execute_input": "2025-08-05T15:41:50.104476Z",
     "iopub.status.busy": "2025-08-05T15:41:50.103703Z",
     "iopub.status.idle": "2025-08-05T15:41:50.108591Z",
     "shell.execute_reply": "2025-08-05T15:41:50.107681Z"
    },
    "papermill": {
     "duration": 0.023613,
     "end_time": "2025-08-05T15:41:50.110611",
     "exception": false,
     "start_time": "2025-08-05T15:41:50.086998",
     "status": "completed"
    },
    "tags": []
   },
   "outputs": [],
   "source": [
    "#display(siab_train.groupby(\"year\").size())"
   ]
  },
  {
   "cell_type": "code",
   "execution_count": 14,
   "id": "a561edb4-d032-42cb-8256-22eac1111c64",
   "metadata": {
    "execution": {
     "iopub.execute_input": "2025-08-05T15:41:50.148985Z",
     "iopub.status.busy": "2025-08-05T15:41:50.148205Z",
     "iopub.status.idle": "2025-08-05T15:41:50.356014Z",
     "shell.execute_reply": "2025-08-05T15:41:50.355047Z"
    },
    "papermill": {
     "duration": 0.22864,
     "end_time": "2025-08-05T15:41:50.357699",
     "exception": false,
     "start_time": "2025-08-05T15:41:50.129059",
     "status": "completed"
    },
    "tags": []
   },
   "outputs": [],
   "source": [
    "#siab_train = siab_s[siab_s.year < 2015]\n",
    "siab_calib = siab[siab.year == 2015]\n",
    "siab_test = siab[siab.year == 2016]"
   ]
  },
  {
   "cell_type": "code",
   "execution_count": 15,
   "id": "472de16f-c3db-4916-846b-1f0de9cf1746",
   "metadata": {
    "execution": {
     "iopub.execute_input": "2025-08-05T15:41:50.392447Z",
     "iopub.status.busy": "2025-08-05T15:41:50.391936Z",
     "iopub.status.idle": "2025-08-05T15:41:50.401699Z",
     "shell.execute_reply": "2025-08-05T15:41:50.400669Z"
    },
    "papermill": {
     "duration": 0.028647,
     "end_time": "2025-08-05T15:41:50.403681",
     "exception": false,
     "start_time": "2025-08-05T15:41:50.375034",
     "status": "completed"
    },
    "tags": []
   },
   "outputs": [],
   "source": [
    "X_train = siab_train.iloc[:,4:164]\n",
    "y_train = siab_train.iloc[:, [3]]"
   ]
  },
  {
   "cell_type": "code",
   "execution_count": 16,
   "id": "828c96af-f43a-4ed6-ba47-8ac73a47d56c",
   "metadata": {
    "execution": {
     "iopub.execute_input": "2025-08-05T15:41:50.440027Z",
     "iopub.status.busy": "2025-08-05T15:41:50.439279Z",
     "iopub.status.idle": "2025-08-05T15:41:50.489023Z",
     "shell.execute_reply": "2025-08-05T15:41:50.487890Z"
    },
    "papermill": {
     "duration": 0.069488,
     "end_time": "2025-08-05T15:41:50.491344",
     "exception": false,
     "start_time": "2025-08-05T15:41:50.421856",
     "status": "completed"
    },
    "tags": []
   },
   "outputs": [],
   "source": [
    "X_calib = siab_calib.iloc[:,4:164]\n",
    "y_calib = siab_calib.iloc[:, [3]]"
   ]
  },
  {
   "cell_type": "code",
   "execution_count": 17,
   "id": "c34be9c3-6bd6-476e-acd3-845840e303be",
   "metadata": {
    "execution": {
     "iopub.execute_input": "2025-08-05T15:41:50.529233Z",
     "iopub.status.busy": "2025-08-05T15:41:50.528507Z",
     "iopub.status.idle": "2025-08-05T15:41:50.579667Z",
     "shell.execute_reply": "2025-08-05T15:41:50.578625Z"
    },
    "papermill": {
     "duration": 0.071148,
     "end_time": "2025-08-05T15:41:50.581324",
     "exception": false,
     "start_time": "2025-08-05T15:41:50.510176",
     "status": "completed"
    },
    "tags": []
   },
   "outputs": [],
   "source": [
    "X_test = siab_test.iloc[:,4:164]\n",
    "y_true = siab_test.iloc[:, [3]]"
   ]
  },
  {
   "cell_type": "code",
   "execution_count": 18,
   "id": "e6c733c5",
   "metadata": {
    "execution": {
     "iopub.execute_input": "2025-08-05T15:41:50.619830Z",
     "iopub.status.busy": "2025-08-05T15:41:50.619066Z",
     "iopub.status.idle": "2025-08-05T15:41:50.711941Z",
     "shell.execute_reply": "2025-08-05T15:41:50.711150Z"
    },
    "papermill": {
     "duration": 0.11502,
     "end_time": "2025-08-05T15:41:50.713805",
     "exception": false,
     "start_time": "2025-08-05T15:41:50.598785",
     "status": "completed"
    },
    "tags": []
   },
   "outputs": [],
   "source": [
    "# Auxiliary data needed downstream in the pipeline\n",
    "\n",
    "org_train = X_train.copy()\n",
    "org_test = X_test.copy()\n",
    "org_calib = X_calib.copy()"
   ]
  },
  {
   "cell_type": "markdown",
   "id": "0a4a1b33",
   "metadata": {
    "papermill": {
     "duration": 0.016261,
     "end_time": "2025-08-05T15:41:50.747575",
     "exception": false,
     "start_time": "2025-08-05T15:41:50.731314",
     "status": "completed"
    },
    "tags": []
   },
   "source": [
    "# Preprocessing Data"
   ]
  },
  {
   "cell_type": "code",
   "execution_count": 19,
   "id": "ca879031",
   "metadata": {
    "execution": {
     "iopub.execute_input": "2025-08-05T15:41:50.783086Z",
     "iopub.status.busy": "2025-08-05T15:41:50.782560Z",
     "iopub.status.idle": "2025-08-05T15:41:50.789156Z",
     "shell.execute_reply": "2025-08-05T15:41:50.788165Z"
    },
    "papermill": {
     "duration": 0.026955,
     "end_time": "2025-08-05T15:41:50.791022",
     "exception": false,
     "start_time": "2025-08-05T15:41:50.764067",
     "status": "completed"
    },
    "tags": []
   },
   "outputs": [],
   "source": [
    "# EXCLUDE PROTECTED FEATURES\n",
    "# ----------------------\n",
    "# \"exclude_features\": \"none\", # \"nationality\", \"sex\", \"nationality-sex\"\n",
    "\n",
    "excluded_features = universe[\"exclude_features\"].split(\"-\") # split, e.g.: \"nationality-sex\" -> [\"nationality\", \"sex\"]\n",
    "excluded_features_dictionary = {\n",
    "    \"nationality\": [\"maxdeutsch1\", \"maxdeutsch.Missing.\"],\n",
    "    \"sex\": [\"frau1\"],\n",
    "    \"age\": [\"age\"],\n",
    "}"
   ]
  },
  {
   "cell_type": "code",
   "execution_count": 20,
   "id": "b745ac60",
   "metadata": {
    "execution": {
     "iopub.execute_input": "2025-08-05T15:41:50.827311Z",
     "iopub.status.busy": "2025-08-05T15:41:50.826829Z",
     "iopub.status.idle": "2025-08-05T15:41:50.832172Z",
     "shell.execute_reply": "2025-08-05T15:41:50.831268Z"
    },
    "papermill": {
     "duration": 0.025026,
     "end_time": "2025-08-05T15:41:50.833651",
     "exception": false,
     "start_time": "2025-08-05T15:41:50.808625",
     "status": "completed"
    },
    "tags": []
   },
   "outputs": [],
   "source": [
    "# Code nice names to column names\n",
    "\n",
    "excluded_features_columns = [\n",
    "    excluded_features_dictionary[f] for f in excluded_features if len(f) > 0 and f != \"none\"\n",
    "]"
   ]
  },
  {
   "cell_type": "code",
   "execution_count": 21,
   "id": "f84f73a2",
   "metadata": {
    "execution": {
     "iopub.execute_input": "2025-08-05T15:41:50.869943Z",
     "iopub.status.busy": "2025-08-05T15:41:50.869311Z",
     "iopub.status.idle": "2025-08-05T15:41:50.876079Z",
     "shell.execute_reply": "2025-08-05T15:41:50.875145Z"
    },
    "papermill": {
     "duration": 0.026045,
     "end_time": "2025-08-05T15:41:50.877536",
     "exception": false,
     "start_time": "2025-08-05T15:41:50.851491",
     "status": "completed"
    },
    "tags": []
   },
   "outputs": [],
   "source": [
    "from utils import flatten_once\n",
    "\n",
    "excluded_features_columns = flatten_once(excluded_features_columns)"
   ]
  },
  {
   "cell_type": "code",
   "execution_count": 22,
   "id": "884dea22",
   "metadata": {
    "execution": {
     "iopub.execute_input": "2025-08-05T15:41:50.914335Z",
     "iopub.status.busy": "2025-08-05T15:41:50.913776Z",
     "iopub.status.idle": "2025-08-05T15:41:50.925004Z",
     "shell.execute_reply": "2025-08-05T15:41:50.923852Z"
    },
    "papermill": {
     "duration": 0.031685,
     "end_time": "2025-08-05T15:41:50.926981",
     "exception": false,
     "start_time": "2025-08-05T15:41:50.895296",
     "status": "completed"
    },
    "tags": []
   },
   "outputs": [
    {
     "name": "stdout",
     "output_type": "stream",
     "text": [
      "Dropping features: ['age']\n"
     ]
    }
   ],
   "source": [
    "if len(excluded_features_columns) > 0:\n",
    "    print(f\"Dropping features: {excluded_features_columns}\")\n",
    "    X_train.drop(excluded_features_columns, axis=1, inplace=True)"
   ]
  },
  {
   "cell_type": "code",
   "execution_count": 23,
   "id": "95ab8b16",
   "metadata": {
    "execution": {
     "iopub.execute_input": "2025-08-05T15:41:50.963591Z",
     "iopub.status.busy": "2025-08-05T15:41:50.963125Z",
     "iopub.status.idle": "2025-08-05T15:41:51.022742Z",
     "shell.execute_reply": "2025-08-05T15:41:51.021607Z"
    },
    "papermill": {
     "duration": 0.079793,
     "end_time": "2025-08-05T15:41:51.024410",
     "exception": false,
     "start_time": "2025-08-05T15:41:50.944617",
     "status": "completed"
    },
    "tags": []
   },
   "outputs": [
    {
     "name": "stdout",
     "output_type": "stream",
     "text": [
      "Dropping features: ['age']\n"
     ]
    }
   ],
   "source": [
    "if len(excluded_features_columns) > 0:\n",
    "    print(f\"Dropping features: {excluded_features_columns}\")\n",
    "    X_test.drop(excluded_features_columns, axis=1, inplace=True)"
   ]
  },
  {
   "cell_type": "code",
   "execution_count": 24,
   "id": "1853aaf5-fb9f-46cb-a2b5-8ea4ae2237e4",
   "metadata": {
    "execution": {
     "iopub.execute_input": "2025-08-05T15:41:51.063731Z",
     "iopub.status.busy": "2025-08-05T15:41:51.063086Z",
     "iopub.status.idle": "2025-08-05T15:41:51.116983Z",
     "shell.execute_reply": "2025-08-05T15:41:51.115991Z"
    },
    "papermill": {
     "duration": 0.074672,
     "end_time": "2025-08-05T15:41:51.118629",
     "exception": false,
     "start_time": "2025-08-05T15:41:51.043957",
     "status": "completed"
    },
    "tags": []
   },
   "outputs": [
    {
     "name": "stdout",
     "output_type": "stream",
     "text": [
      "Dropping features: ['age']\n"
     ]
    }
   ],
   "source": [
    "if len(excluded_features_columns) > 0:\n",
    "    print(f\"Dropping features: {excluded_features_columns}\")\n",
    "    X_calib.drop(excluded_features_columns, axis=1, inplace=True)"
   ]
  },
  {
   "cell_type": "code",
   "execution_count": 25,
   "id": "76c4dc6d",
   "metadata": {
    "execution": {
     "iopub.execute_input": "2025-08-05T15:41:51.157483Z",
     "iopub.status.busy": "2025-08-05T15:41:51.156624Z",
     "iopub.status.idle": "2025-08-05T15:41:51.162136Z",
     "shell.execute_reply": "2025-08-05T15:41:51.161049Z"
    },
    "papermill": {
     "duration": 0.026758,
     "end_time": "2025-08-05T15:41:51.163830",
     "exception": false,
     "start_time": "2025-08-05T15:41:51.137072",
     "status": "completed"
    },
    "tags": []
   },
   "outputs": [],
   "source": [
    "# EXCLUDE CERTAIN SUBGROUPS\n",
    "# ----------------------\n",
    "\n",
    "mode = universe.get(\"exclude_subgroups\", \"keep-all\") \n",
    "# Fetches the exclude_subgroups setting from the universe dict.\n",
    "# Defaults to \"keep-all\" if the key is missing."
   ]
  },
  {
   "cell_type": "code",
   "execution_count": 26,
   "id": "21994072",
   "metadata": {
    "execution": {
     "iopub.execute_input": "2025-08-05T15:41:51.203823Z",
     "iopub.status.busy": "2025-08-05T15:41:51.203371Z",
     "iopub.status.idle": "2025-08-05T15:41:51.210022Z",
     "shell.execute_reply": "2025-08-05T15:41:51.208979Z"
    },
    "papermill": {
     "duration": 0.0284,
     "end_time": "2025-08-05T15:41:51.211832",
     "exception": false,
     "start_time": "2025-08-05T15:41:51.183432",
     "status": "completed"
    },
    "tags": []
   },
   "outputs": [],
   "source": [
    "if mode == \"keep-all\":\n",
    "    keep_mask = pd.Series(True, index=org_train.index)\n",
    "\n",
    "# org_train contains the original feature columns from features_org (in Simson)\n",
    "# features_org contains unprocessed features, for me X_train at beginning ???\n",
    "# For keep-all, creates a boolean Series (keep_mask) of all True, so no rows are removed.\n",
    "\n",
    "elif mode == \"drop-non-german\":\n",
    "    keep_mask = org_train[\"maxdeutsch1\"] == 1 # ??? what about missing values?\n",
    "\n",
    "else:\n",
    "    raise ValueError(f\"Unsupported mode for exclude_subgroups: {mode}\")"
   ]
  },
  {
   "cell_type": "code",
   "execution_count": 27,
   "id": "71651440",
   "metadata": {
    "execution": {
     "iopub.execute_input": "2025-08-05T15:41:51.252307Z",
     "iopub.status.busy": "2025-08-05T15:41:51.251654Z",
     "iopub.status.idle": "2025-08-05T15:41:51.258580Z",
     "shell.execute_reply": "2025-08-05T15:41:51.257676Z"
    },
    "papermill": {
     "duration": 0.028464,
     "end_time": "2025-08-05T15:41:51.260285",
     "exception": false,
     "start_time": "2025-08-05T15:41:51.231821",
     "status": "completed"
    },
    "tags": []
   },
   "outputs": [],
   "source": [
    "n_drop = (~keep_mask).sum() # Calculates how many rows are set to be dropped\n",
    "if n_drop > 0:\n",
    "    pct = n_drop / len(keep_mask) * 100\n",
    "    print(f\"Dropping {n_drop} rows ({pct:.2f}%) where mode='{mode}'\")"
   ]
  },
  {
   "cell_type": "code",
   "execution_count": 28,
   "id": "5fb8eee5",
   "metadata": {
    "execution": {
     "iopub.execute_input": "2025-08-05T15:41:51.299753Z",
     "iopub.status.busy": "2025-08-05T15:41:51.299239Z",
     "iopub.status.idle": "2025-08-05T15:41:51.308373Z",
     "shell.execute_reply": "2025-08-05T15:41:51.307365Z"
    },
    "papermill": {
     "duration": 0.031229,
     "end_time": "2025-08-05T15:41:51.310006",
     "exception": false,
     "start_time": "2025-08-05T15:41:51.278777",
     "status": "completed"
    },
    "tags": []
   },
   "outputs": [],
   "source": [
    "X_train = X_train[keep_mask]"
   ]
  },
  {
   "cell_type": "code",
   "execution_count": 29,
   "id": "b202bb3a",
   "metadata": {
    "execution": {
     "iopub.execute_input": "2025-08-05T15:41:51.349841Z",
     "iopub.status.busy": "2025-08-05T15:41:51.348926Z",
     "iopub.status.idle": "2025-08-05T15:41:51.355648Z",
     "shell.execute_reply": "2025-08-05T15:41:51.354396Z"
    },
    "papermill": {
     "duration": 0.027829,
     "end_time": "2025-08-05T15:41:51.357426",
     "exception": false,
     "start_time": "2025-08-05T15:41:51.329597",
     "status": "completed"
    },
    "tags": []
   },
   "outputs": [],
   "source": [
    "y_train = y_train[keep_mask]"
   ]
  },
  {
   "cell_type": "markdown",
   "id": "493e2ac3",
   "metadata": {
    "papermill": {
     "duration": 0.018417,
     "end_time": "2025-08-05T15:41:51.395841",
     "exception": false,
     "start_time": "2025-08-05T15:41:51.377424",
     "status": "completed"
    },
    "tags": []
   },
   "source": [
    "# Model Training"
   ]
  },
  {
   "cell_type": "code",
   "execution_count": 30,
   "id": "679e1268",
   "metadata": {
    "execution": {
     "iopub.execute_input": "2025-08-05T15:41:51.434483Z",
     "iopub.status.busy": "2025-08-05T15:41:51.433776Z",
     "iopub.status.idle": "2025-08-05T15:41:51.535581Z",
     "shell.execute_reply": "2025-08-05T15:41:51.534429Z"
    },
    "papermill": {
     "duration": 0.12397,
     "end_time": "2025-08-05T15:41:51.537674",
     "exception": false,
     "start_time": "2025-08-05T15:41:51.413704",
     "status": "completed"
    },
    "tags": []
   },
   "outputs": [],
   "source": [
    "from sklearn.linear_model import LogisticRegression\n",
    "from sklearn.ensemble import GradientBoostingClassifier, RandomForestClassifier\n",
    "\n",
    "if (universe[\"model\"] == \"logreg\"):\n",
    "    model = LogisticRegression() #penalty=\"none\", solver=\"newton-cg\", max_iter=1) # include random_state=19 ?\n",
    "elif (universe[\"model\"] == \"penalized_logreg\"):\n",
    "    model = LogisticRegression(penalty=\"l2\", C=0.1) #, solver=\"newton-cg\", max_iter=1)\n",
    "elif (universe[\"model\"] == \"rf\"):\n",
    "    model = RandomForestClassifier() # n_estimators=100, n_jobs=-1\n",
    "elif (universe[\"model\"] == \"gbm\"):\n",
    "    model = GradientBoostingClassifier()\n",
    "elif (universe[\"model\"] == \"elasticnet\"):\n",
    "    model = LogisticRegression(penalty = 'elasticnet', solver = 'saga', l1_ratio = 0.5) # max_iter=5000\n",
    "else:\n",
    "    raise \"Unsupported universe.model\""
   ]
  },
  {
   "cell_type": "code",
   "execution_count": 31,
   "id": "0cc8f744",
   "metadata": {
    "execution": {
     "iopub.execute_input": "2025-08-05T15:41:51.582958Z",
     "iopub.status.busy": "2025-08-05T15:41:51.581967Z",
     "iopub.status.idle": "2025-08-05T15:41:51.588445Z",
     "shell.execute_reply": "2025-08-05T15:41:51.587516Z"
    },
    "papermill": {
     "duration": 0.029923,
     "end_time": "2025-08-05T15:41:51.590157",
     "exception": false,
     "start_time": "2025-08-05T15:41:51.560234",
     "status": "completed"
    },
    "tags": []
   },
   "outputs": [],
   "source": [
    "import numpy as np\n",
    "from sklearn.pipeline import Pipeline\n",
    "from sklearn.preprocessing import StandardScaler\n",
    "\n",
    "model = Pipeline([\n",
    "    #(\"continuous_processor\", continuous_processor),\n",
    "    #(\"categorical_preprocessor\", categorical_preprocessor),\n",
    "    (\"scale\", StandardScaler() if universe[\"scale\"] == \"scale\" else None), \n",
    "    (\"model\", model),\n",
    "])"
   ]
  },
  {
   "cell_type": "code",
   "execution_count": 32,
   "id": "9442c04d",
   "metadata": {
    "execution": {
     "iopub.execute_input": "2025-08-05T15:41:51.636189Z",
     "iopub.status.busy": "2025-08-05T15:41:51.635395Z",
     "iopub.status.idle": "2025-08-05T15:41:51.776187Z",
     "shell.execute_reply": "2025-08-05T15:41:51.775244Z"
    },
    "papermill": {
     "duration": 0.165044,
     "end_time": "2025-08-05T15:41:51.777873",
     "exception": false,
     "start_time": "2025-08-05T15:41:51.612829",
     "status": "completed"
    },
    "tags": []
   },
   "outputs": [
    {
     "name": "stderr",
     "output_type": "stream",
     "text": [
      "/dss/dsshome1/0C/ra93lal2/.local/share/virtualenvs/CMA_Fairness_v2-3j10GkSs/lib/python3.10/site-packages/sklearn/linear_model/_logistic.py:444: ConvergenceWarning: lbfgs failed to converge (status=1):\n",
      "STOP: TOTAL NO. of ITERATIONS REACHED LIMIT.\n",
      "\n",
      "Increase the number of iterations (max_iter) or scale the data as shown in:\n",
      "    https://scikit-learn.org/stable/modules/preprocessing.html\n",
      "Please also refer to the documentation for alternative solver options:\n",
      "    https://scikit-learn.org/stable/modules/linear_model.html#logistic-regression\n",
      "  n_iter_i = _check_optimize_result(\n"
     ]
    },
    {
     "data": {
      "text/html": [
       "<style>#sk-container-id-1 {color: black;background-color: white;}#sk-container-id-1 pre{padding: 0;}#sk-container-id-1 div.sk-toggleable {background-color: white;}#sk-container-id-1 label.sk-toggleable__label {cursor: pointer;display: block;width: 100%;margin-bottom: 0;padding: 0.3em;box-sizing: border-box;text-align: center;}#sk-container-id-1 label.sk-toggleable__label-arrow:before {content: \"▸\";float: left;margin-right: 0.25em;color: #696969;}#sk-container-id-1 label.sk-toggleable__label-arrow:hover:before {color: black;}#sk-container-id-1 div.sk-estimator:hover label.sk-toggleable__label-arrow:before {color: black;}#sk-container-id-1 div.sk-toggleable__content {max-height: 0;max-width: 0;overflow: hidden;text-align: left;background-color: #f0f8ff;}#sk-container-id-1 div.sk-toggleable__content pre {margin: 0.2em;color: black;border-radius: 0.25em;background-color: #f0f8ff;}#sk-container-id-1 input.sk-toggleable__control:checked~div.sk-toggleable__content {max-height: 200px;max-width: 100%;overflow: auto;}#sk-container-id-1 input.sk-toggleable__control:checked~label.sk-toggleable__label-arrow:before {content: \"▾\";}#sk-container-id-1 div.sk-estimator input.sk-toggleable__control:checked~label.sk-toggleable__label {background-color: #d4ebff;}#sk-container-id-1 div.sk-label input.sk-toggleable__control:checked~label.sk-toggleable__label {background-color: #d4ebff;}#sk-container-id-1 input.sk-hidden--visually {border: 0;clip: rect(1px 1px 1px 1px);clip: rect(1px, 1px, 1px, 1px);height: 1px;margin: -1px;overflow: hidden;padding: 0;position: absolute;width: 1px;}#sk-container-id-1 div.sk-estimator {font-family: monospace;background-color: #f0f8ff;border: 1px dotted black;border-radius: 0.25em;box-sizing: border-box;margin-bottom: 0.5em;}#sk-container-id-1 div.sk-estimator:hover {background-color: #d4ebff;}#sk-container-id-1 div.sk-parallel-item::after {content: \"\";width: 100%;border-bottom: 1px solid gray;flex-grow: 1;}#sk-container-id-1 div.sk-label:hover label.sk-toggleable__label {background-color: #d4ebff;}#sk-container-id-1 div.sk-serial::before {content: \"\";position: absolute;border-left: 1px solid gray;box-sizing: border-box;top: 0;bottom: 0;left: 50%;z-index: 0;}#sk-container-id-1 div.sk-serial {display: flex;flex-direction: column;align-items: center;background-color: white;padding-right: 0.2em;padding-left: 0.2em;position: relative;}#sk-container-id-1 div.sk-item {position: relative;z-index: 1;}#sk-container-id-1 div.sk-parallel {display: flex;align-items: stretch;justify-content: center;background-color: white;position: relative;}#sk-container-id-1 div.sk-item::before, #sk-container-id-1 div.sk-parallel-item::before {content: \"\";position: absolute;border-left: 1px solid gray;box-sizing: border-box;top: 0;bottom: 0;left: 50%;z-index: -1;}#sk-container-id-1 div.sk-parallel-item {display: flex;flex-direction: column;z-index: 1;position: relative;background-color: white;}#sk-container-id-1 div.sk-parallel-item:first-child::after {align-self: flex-end;width: 50%;}#sk-container-id-1 div.sk-parallel-item:last-child::after {align-self: flex-start;width: 50%;}#sk-container-id-1 div.sk-parallel-item:only-child::after {width: 0;}#sk-container-id-1 div.sk-dashed-wrapped {border: 1px dashed gray;margin: 0 0.4em 0.5em 0.4em;box-sizing: border-box;padding-bottom: 0.4em;background-color: white;}#sk-container-id-1 div.sk-label label {font-family: monospace;font-weight: bold;display: inline-block;line-height: 1.2em;}#sk-container-id-1 div.sk-label-container {text-align: center;}#sk-container-id-1 div.sk-container {/* jupyter's `normalize.less` sets `[hidden] { display: none; }` but bootstrap.min.css set `[hidden] { display: none !important; }` so we also need the `!important` here to be able to override the default hidden behavior on the sphinx rendered scikit-learn.org. See: https://github.com/scikit-learn/scikit-learn/issues/21755 */display: inline-block !important;position: relative;}#sk-container-id-1 div.sk-text-repr-fallback {display: none;}</style><div id=\"sk-container-id-1\" class=\"sk-top-container\"><div class=\"sk-text-repr-fallback\"><pre>Pipeline(steps=[(&#x27;scale&#x27;, None), (&#x27;model&#x27;, LogisticRegression())])</pre><b>In a Jupyter environment, please rerun this cell to show the HTML representation or trust the notebook. <br />On GitHub, the HTML representation is unable to render, please try loading this page with nbviewer.org.</b></div><div class=\"sk-container\" hidden><div class=\"sk-item sk-dashed-wrapped\"><div class=\"sk-label-container\"><div class=\"sk-label sk-toggleable\"><input class=\"sk-toggleable__control sk-hidden--visually\" id=\"sk-estimator-id-1\" type=\"checkbox\" ><label for=\"sk-estimator-id-1\" class=\"sk-toggleable__label sk-toggleable__label-arrow\">Pipeline</label><div class=\"sk-toggleable__content\"><pre>Pipeline(steps=[(&#x27;scale&#x27;, None), (&#x27;model&#x27;, LogisticRegression())])</pre></div></div></div><div class=\"sk-serial\"><div class=\"sk-item\"><div class=\"sk-estimator sk-toggleable\"><input class=\"sk-toggleable__control sk-hidden--visually\" id=\"sk-estimator-id-2\" type=\"checkbox\" ><label for=\"sk-estimator-id-2\" class=\"sk-toggleable__label sk-toggleable__label-arrow\">None</label><div class=\"sk-toggleable__content\"><pre>None</pre></div></div></div><div class=\"sk-item\"><div class=\"sk-estimator sk-toggleable\"><input class=\"sk-toggleable__control sk-hidden--visually\" id=\"sk-estimator-id-3\" type=\"checkbox\" ><label for=\"sk-estimator-id-3\" class=\"sk-toggleable__label sk-toggleable__label-arrow\">LogisticRegression</label><div class=\"sk-toggleable__content\"><pre>LogisticRegression()</pre></div></div></div></div></div></div></div>"
      ],
      "text/plain": [
       "Pipeline(steps=[('scale', None), ('model', LogisticRegression())])"
      ]
     },
     "execution_count": 32,
     "metadata": {},
     "output_type": "execute_result"
    }
   ],
   "source": [
    "model.fit(X_train, y_train.values.ravel())"
   ]
  },
  {
   "cell_type": "code",
   "execution_count": 33,
   "id": "af59f8c0",
   "metadata": {
    "execution": {
     "iopub.execute_input": "2025-08-05T15:41:51.824407Z",
     "iopub.status.busy": "2025-08-05T15:41:51.823553Z",
     "iopub.status.idle": "2025-08-05T15:41:51.829063Z",
     "shell.execute_reply": "2025-08-05T15:41:51.828114Z"
    },
    "papermill": {
     "duration": 0.030706,
     "end_time": "2025-08-05T15:41:51.831038",
     "exception": false,
     "start_time": "2025-08-05T15:41:51.800332",
     "status": "completed"
    },
    "tags": []
   },
   "outputs": [],
   "source": [
    "from fairness_multiverse.universe import predict_w_threshold"
   ]
  },
  {
   "cell_type": "code",
   "execution_count": 34,
   "id": "a7cf2e16",
   "metadata": {
    "execution": {
     "iopub.execute_input": "2025-08-05T15:41:51.876474Z",
     "iopub.status.busy": "2025-08-05T15:41:51.875724Z",
     "iopub.status.idle": "2025-08-05T15:41:51.973154Z",
     "shell.execute_reply": "2025-08-05T15:41:51.972197Z"
    },
    "papermill": {
     "duration": 0.122533,
     "end_time": "2025-08-05T15:41:51.974796",
     "exception": false,
     "start_time": "2025-08-05T15:41:51.852263",
     "status": "completed"
    },
    "tags": []
   },
   "outputs": [
    {
     "data": {
      "text/plain": [
       "0.861487013710846"
      ]
     },
     "execution_count": 34,
     "metadata": {},
     "output_type": "execute_result"
    }
   ],
   "source": [
    "probs_test = model.predict_proba(X_test)\n",
    "\n",
    "'''\n",
    "Below code returns a boolean array (or binary 0/1 array depending on how it’s used) where each element \n",
    "is True if the probability of class 1 is greater than or equal to the threshold, and False otherwise.\n",
    "'''\n",
    "y_pred_default = predict_w_threshold(probs_test, 0.5)\n",
    "\n",
    "from sklearn.metrics import accuracy_score\n",
    "\n",
    "# Naive prediction\n",
    "accuracy_score(y_true = y_true, y_pred = y_pred_default)"
   ]
  },
  {
   "cell_type": "code",
   "execution_count": 35,
   "id": "081964c3",
   "metadata": {
    "execution": {
     "iopub.execute_input": "2025-08-05T15:41:52.013781Z",
     "iopub.status.busy": "2025-08-05T15:41:52.013252Z",
     "iopub.status.idle": "2025-08-05T15:41:52.098378Z",
     "shell.execute_reply": "2025-08-05T15:41:52.097320Z"
    },
    "papermill": {
     "duration": 0.106465,
     "end_time": "2025-08-05T15:41:52.100083",
     "exception": false,
     "start_time": "2025-08-05T15:41:51.993618",
     "status": "completed"
    },
    "tags": []
   },
   "outputs": [
    {
     "data": {
      "text/plain": [
       "array([0, 0, 0, ..., 0, 0, 0])"
      ]
     },
     "execution_count": 35,
     "metadata": {},
     "output_type": "execute_result"
    }
   ],
   "source": [
    "model.predict(X_test)"
   ]
  },
  {
   "cell_type": "markdown",
   "id": "56c9705b",
   "metadata": {
    "papermill": {
     "duration": 0.018616,
     "end_time": "2025-08-05T15:41:52.138477",
     "exception": false,
     "start_time": "2025-08-05T15:41:52.119861",
     "status": "completed"
    },
    "tags": []
   },
   "source": [
    "# Conformal Prediction"
   ]
  },
  {
   "cell_type": "code",
   "execution_count": 36,
   "id": "160ec6ff",
   "metadata": {
    "execution": {
     "iopub.execute_input": "2025-08-05T15:41:52.176320Z",
     "iopub.status.busy": "2025-08-05T15:41:52.175488Z",
     "iopub.status.idle": "2025-08-05T15:41:52.181883Z",
     "shell.execute_reply": "2025-08-05T15:41:52.180824Z"
    },
    "papermill": {
     "duration": 0.027167,
     "end_time": "2025-08-05T15:41:52.183533",
     "exception": false,
     "start_time": "2025-08-05T15:41:52.156366",
     "status": "completed"
    },
    "tags": []
   },
   "outputs": [],
   "source": [
    "# Miscoverage level for conformal prediction (10% allowed error rate => 90% target coverage)\n",
    "alpha = 0.1"
   ]
  },
  {
   "cell_type": "code",
   "execution_count": 37,
   "id": "eadf4555-3dd3-440e-8e35-f82a4ad9f855",
   "metadata": {
    "execution": {
     "iopub.execute_input": "2025-08-05T15:41:52.225281Z",
     "iopub.status.busy": "2025-08-05T15:41:52.224866Z",
     "iopub.status.idle": "2025-08-05T15:41:52.305580Z",
     "shell.execute_reply": "2025-08-05T15:41:52.304535Z"
    },
    "papermill": {
     "duration": 0.102729,
     "end_time": "2025-08-05T15:41:52.307495",
     "exception": false,
     "start_time": "2025-08-05T15:41:52.204766",
     "status": "completed"
    },
    "tags": []
   },
   "outputs": [],
   "source": [
    "probs_calib = model.predict_proba(X_calib)"
   ]
  },
  {
   "cell_type": "code",
   "execution_count": 38,
   "id": "2ed93547-6d5d-4983-9b36-1ecb300da49a",
   "metadata": {
    "execution": {
     "iopub.execute_input": "2025-08-05T15:41:52.349170Z",
     "iopub.status.busy": "2025-08-05T15:41:52.348283Z",
     "iopub.status.idle": "2025-08-05T15:41:52.354055Z",
     "shell.execute_reply": "2025-08-05T15:41:52.352976Z"
    },
    "papermill": {
     "duration": 0.028517,
     "end_time": "2025-08-05T15:41:52.356025",
     "exception": false,
     "start_time": "2025-08-05T15:41:52.327508",
     "status": "completed"
    },
    "tags": []
   },
   "outputs": [],
   "source": [
    "y_calib = y_calib.values.ravel().astype(int)"
   ]
  },
  {
   "cell_type": "code",
   "execution_count": 39,
   "id": "65d1320d-f588-4b38-9072-62af1ae97f7d",
   "metadata": {
    "execution": {
     "iopub.execute_input": "2025-08-05T15:41:52.396021Z",
     "iopub.status.busy": "2025-08-05T15:41:52.395568Z",
     "iopub.status.idle": "2025-08-05T15:41:52.402563Z",
     "shell.execute_reply": "2025-08-05T15:41:52.401652Z"
    },
    "papermill": {
     "duration": 0.02818,
     "end_time": "2025-08-05T15:41:52.404258",
     "exception": false,
     "start_time": "2025-08-05T15:41:52.376078",
     "status": "completed"
    },
    "tags": []
   },
   "outputs": [],
   "source": [
    "from fairness_multiverse.conformal import compute_nc_scores\n",
    "\n",
    "# Compute nonconformity scores on calibration set (1 - probability of true class)\n",
    "nc_scores = compute_nc_scores(probs_calib, y_calib)"
   ]
  },
  {
   "cell_type": "code",
   "execution_count": 40,
   "id": "df3b8ca3-53b7-43d5-9667-7c85da7aeda2",
   "metadata": {
    "execution": {
     "iopub.execute_input": "2025-08-05T15:41:52.443798Z",
     "iopub.status.busy": "2025-08-05T15:41:52.443094Z",
     "iopub.status.idle": "2025-08-05T15:41:52.449157Z",
     "shell.execute_reply": "2025-08-05T15:41:52.448110Z"
    },
    "papermill": {
     "duration": 0.027846,
     "end_time": "2025-08-05T15:41:52.450972",
     "exception": false,
     "start_time": "2025-08-05T15:41:52.423126",
     "status": "completed"
    },
    "tags": []
   },
   "outputs": [],
   "source": [
    "from fairness_multiverse.conformal import find_threshold\n",
    "\n",
    "# Find conformal threshold q_hat for the given alpha (split conformal method)\n",
    "q_hat = find_threshold(nc_scores, alpha)"
   ]
  },
  {
   "cell_type": "code",
   "execution_count": 41,
   "id": "4d29e6c1-0ef6-4aa4-b8fe-4fe79b0d033a",
   "metadata": {
    "execution": {
     "iopub.execute_input": "2025-08-05T15:41:52.493163Z",
     "iopub.status.busy": "2025-08-05T15:41:52.492751Z",
     "iopub.status.idle": "2025-08-05T15:41:52.499855Z",
     "shell.execute_reply": "2025-08-05T15:41:52.498639Z"
    },
    "papermill": {
     "duration": 0.029486,
     "end_time": "2025-08-05T15:41:52.501644",
     "exception": false,
     "start_time": "2025-08-05T15:41:52.472158",
     "status": "completed"
    },
    "tags": []
   },
   "outputs": [
    {
     "data": {
      "text/plain": [
       "0.6654304868406127"
      ]
     },
     "execution_count": 41,
     "metadata": {},
     "output_type": "execute_result"
    }
   ],
   "source": [
    "q_hat"
   ]
  },
  {
   "cell_type": "code",
   "execution_count": 42,
   "id": "92460794-cdac-4be2-ba28-f28c0515a6fb",
   "metadata": {
    "execution": {
     "iopub.execute_input": "2025-08-05T15:41:52.550638Z",
     "iopub.status.busy": "2025-08-05T15:41:52.550199Z",
     "iopub.status.idle": "2025-08-05T15:41:53.682292Z",
     "shell.execute_reply": "2025-08-05T15:41:53.681287Z"
    },
    "papermill": {
     "duration": 1.159249,
     "end_time": "2025-08-05T15:41:53.684368",
     "exception": false,
     "start_time": "2025-08-05T15:41:52.525119",
     "status": "completed"
    },
    "tags": []
   },
   "outputs": [],
   "source": [
    "from fairness_multiverse.conformal import predict_conformal_sets\n",
    "\n",
    "# Generate prediction sets for each test example\n",
    "pred_sets = predict_conformal_sets(model, X_test, q_hat)"
   ]
  },
  {
   "cell_type": "code",
   "execution_count": 43,
   "id": "d90c9a65-e6db-4f5d-80cd-e68fb7e46829",
   "metadata": {
    "execution": {
     "iopub.execute_input": "2025-08-05T15:41:53.733614Z",
     "iopub.status.busy": "2025-08-05T15:41:53.732988Z",
     "iopub.status.idle": "2025-08-05T15:41:53.738210Z",
     "shell.execute_reply": "2025-08-05T15:41:53.737172Z"
    },
    "papermill": {
     "duration": 0.031157,
     "end_time": "2025-08-05T15:41:53.740162",
     "exception": false,
     "start_time": "2025-08-05T15:41:53.709005",
     "status": "completed"
    },
    "tags": []
   },
   "outputs": [],
   "source": [
    "y_true = y_true.squeeze()"
   ]
  },
  {
   "cell_type": "code",
   "execution_count": 44,
   "id": "3a58a54a-1e68-46b9-927a-df01f18aebc8",
   "metadata": {
    "execution": {
     "iopub.execute_input": "2025-08-05T15:41:53.788986Z",
     "iopub.status.busy": "2025-08-05T15:41:53.788531Z",
     "iopub.status.idle": "2025-08-05T15:41:54.680225Z",
     "shell.execute_reply": "2025-08-05T15:41:54.679231Z"
    },
    "papermill": {
     "duration": 0.918264,
     "end_time": "2025-08-05T15:41:54.682267",
     "exception": false,
     "start_time": "2025-08-05T15:41:53.764003",
     "status": "completed"
    },
    "tags": []
   },
   "outputs": [],
   "source": [
    "from fairness_multiverse.conformal import evaluate_sets\n",
    "\n",
    "# Evaluate coverage and average set size on test data\n",
    "metrics = evaluate_sets(pred_sets, y_true)"
   ]
  },
  {
   "cell_type": "markdown",
   "id": "2b569c12-9aaa-4c88-98c9-bbcd0cf3ebb8",
   "metadata": {
    "papermill": {
     "duration": 0.020371,
     "end_time": "2025-08-05T15:41:54.723609",
     "exception": false,
     "start_time": "2025-08-05T15:41:54.703238",
     "status": "completed"
    },
    "tags": []
   },
   "source": [
    "# CP Metrics"
   ]
  },
  {
   "cell_type": "code",
   "execution_count": 45,
   "id": "5ce0a5cb-201f-45a0-ade5-94c7f0bd6095",
   "metadata": {
    "execution": {
     "iopub.execute_input": "2025-08-05T15:41:54.766952Z",
     "iopub.status.busy": "2025-08-05T15:41:54.766222Z",
     "iopub.status.idle": "2025-08-05T15:41:54.774762Z",
     "shell.execute_reply": "2025-08-05T15:41:54.773614Z"
    },
    "papermill": {
     "duration": 0.036122,
     "end_time": "2025-08-05T15:41:54.779619",
     "exception": false,
     "start_time": "2025-08-05T15:41:54.743497",
     "status": "completed"
    },
    "tags": []
   },
   "outputs": [
    {
     "data": {
      "text/plain": [
       "{'coverage': 0.9125961431278564, 'avg_size': 1.2501839259837253}"
      ]
     },
     "execution_count": 45,
     "metadata": {},
     "output_type": "execute_result"
    }
   ],
   "source": [
    "metrics"
   ]
  },
  {
   "cell_type": "code",
   "execution_count": 46,
   "id": "9b9a838d-31c9-430b-ae14-12baee460d17",
   "metadata": {
    "execution": {
     "iopub.execute_input": "2025-08-05T15:41:54.825649Z",
     "iopub.status.busy": "2025-08-05T15:41:54.824714Z",
     "iopub.status.idle": "2025-08-05T15:41:54.831534Z",
     "shell.execute_reply": "2025-08-05T15:41:54.830491Z"
    },
    "papermill": {
     "duration": 0.03118,
     "end_time": "2025-08-05T15:41:54.833376",
     "exception": false,
     "start_time": "2025-08-05T15:41:54.802196",
     "status": "completed"
    },
    "tags": []
   },
   "outputs": [],
   "source": [
    "example_universe = universe.copy()\n",
    "universe_training_year = example_universe.get(\"training_year\")\n",
    "universe_training_size = example_universe.get(\"training_size\")\n",
    "universe_scale = example_universe.get(\"scale\")\n",
    "universe_model = example_universe.get(\"model\")\n",
    "universe_exclude_features = example_universe.get(\"exclude_features\")\n",
    "universe_exclude_subgroups = example_universe.get(\"exclude_subgroups\")"
   ]
  },
  {
   "cell_type": "code",
   "execution_count": 47,
   "id": "f4b6a8ac-9dc0-4245-8a91-5b3b5999c4f9",
   "metadata": {
    "execution": {
     "iopub.execute_input": "2025-08-05T15:41:54.878253Z",
     "iopub.status.busy": "2025-08-05T15:41:54.877810Z",
     "iopub.status.idle": "2025-08-05T15:41:54.883919Z",
     "shell.execute_reply": "2025-08-05T15:41:54.882977Z"
    },
    "papermill": {
     "duration": 0.0329,
     "end_time": "2025-08-05T15:41:54.887912",
     "exception": false,
     "start_time": "2025-08-05T15:41:54.855012",
     "status": "completed"
    },
    "tags": []
   },
   "outputs": [],
   "source": [
    "cp_metrics_dict = {\n",
    "    \"universe_id\": [universe_id],\n",
    "    \"universe_training_year\": [universe_training_year],\n",
    "    \"universe_training_size\": [universe_training_size],\n",
    "    \"universe_scale\": [universe_scale],\n",
    "    \"universe_model\": [universe_model],\n",
    "    \"universe_exclude_features\": [universe_exclude_features],\n",
    "    \"universe_exclude_subgroups\": [universe_exclude_subgroups],\n",
    "    \"q_hat\": [q_hat],\n",
    "    \"coverage\": [metrics[\"coverage\"]],\n",
    "    \"avg_size\": [metrics[\"avg_size\"]],\n",
    "}"
   ]
  },
  {
   "cell_type": "code",
   "execution_count": 48,
   "id": "908acbb1-0371-4915-85ca-3fa520d2efe2",
   "metadata": {
    "execution": {
     "iopub.execute_input": "2025-08-05T15:41:54.934087Z",
     "iopub.status.busy": "2025-08-05T15:41:54.933567Z",
     "iopub.status.idle": "2025-08-05T15:41:54.941116Z",
     "shell.execute_reply": "2025-08-05T15:41:54.940099Z"
    },
    "papermill": {
     "duration": 0.032652,
     "end_time": "2025-08-05T15:41:54.942927",
     "exception": false,
     "start_time": "2025-08-05T15:41:54.910275",
     "status": "completed"
    },
    "tags": []
   },
   "outputs": [
    {
     "data": {
      "text/plain": [
       "{'universe_id': ['1b67bafb4a88e00dbe9c17abaa0d1260'],\n",
       " 'universe_training_year': ['2012_14'],\n",
       " 'universe_training_size': ['5k'],\n",
       " 'universe_scale': ['do-not-scale'],\n",
       " 'universe_model': ['logreg'],\n",
       " 'universe_exclude_features': ['age'],\n",
       " 'universe_exclude_subgroups': ['keep-all'],\n",
       " 'q_hat': [0.6654304868406127],\n",
       " 'coverage': [0.9125961431278564],\n",
       " 'avg_size': [1.2501839259837253]}"
      ]
     },
     "execution_count": 48,
     "metadata": {},
     "output_type": "execute_result"
    }
   ],
   "source": [
    "cp_metrics_dict"
   ]
  },
  {
   "cell_type": "code",
   "execution_count": 49,
   "id": "33007efc-14e9-4ec6-97ac-56a455c82265",
   "metadata": {
    "execution": {
     "iopub.execute_input": "2025-08-05T15:41:54.987790Z",
     "iopub.status.busy": "2025-08-05T15:41:54.987289Z",
     "iopub.status.idle": "2025-08-05T15:41:54.994061Z",
     "shell.execute_reply": "2025-08-05T15:41:54.992727Z"
    },
    "papermill": {
     "duration": 0.031834,
     "end_time": "2025-08-05T15:41:54.995827",
     "exception": false,
     "start_time": "2025-08-05T15:41:54.963993",
     "status": "completed"
    },
    "tags": []
   },
   "outputs": [],
   "source": [
    "cp_metrics_df = pd.DataFrame(cp_metrics_dict)"
   ]
  },
  {
   "cell_type": "code",
   "execution_count": 50,
   "id": "db12611b-57b2-4910-b9d0-355adfd6e7bf",
   "metadata": {
    "execution": {
     "iopub.execute_input": "2025-08-05T15:41:55.039566Z",
     "iopub.status.busy": "2025-08-05T15:41:55.038825Z",
     "iopub.status.idle": "2025-08-05T15:41:55.057851Z",
     "shell.execute_reply": "2025-08-05T15:41:55.056885Z"
    },
    "papermill": {
     "duration": 0.041841,
     "end_time": "2025-08-05T15:41:55.059461",
     "exception": false,
     "start_time": "2025-08-05T15:41:55.017620",
     "status": "completed"
    },
    "tags": []
   },
   "outputs": [
    {
     "data": {
      "text/html": [
       "<div>\n",
       "<style scoped>\n",
       "    .dataframe tbody tr th:only-of-type {\n",
       "        vertical-align: middle;\n",
       "    }\n",
       "\n",
       "    .dataframe tbody tr th {\n",
       "        vertical-align: top;\n",
       "    }\n",
       "\n",
       "    .dataframe thead th {\n",
       "        text-align: right;\n",
       "    }\n",
       "</style>\n",
       "<table border=\"1\" class=\"dataframe\">\n",
       "  <thead>\n",
       "    <tr style=\"text-align: right;\">\n",
       "      <th></th>\n",
       "      <th>universe_id</th>\n",
       "      <th>universe_training_year</th>\n",
       "      <th>universe_training_size</th>\n",
       "      <th>universe_scale</th>\n",
       "      <th>universe_model</th>\n",
       "      <th>universe_exclude_features</th>\n",
       "      <th>universe_exclude_subgroups</th>\n",
       "      <th>q_hat</th>\n",
       "      <th>coverage</th>\n",
       "      <th>avg_size</th>\n",
       "    </tr>\n",
       "  </thead>\n",
       "  <tbody>\n",
       "    <tr>\n",
       "      <th>0</th>\n",
       "      <td>1b67bafb4a88e00dbe9c17abaa0d1260</td>\n",
       "      <td>2012_14</td>\n",
       "      <td>5k</td>\n",
       "      <td>do-not-scale</td>\n",
       "      <td>logreg</td>\n",
       "      <td>age</td>\n",
       "      <td>keep-all</td>\n",
       "      <td>0.66543</td>\n",
       "      <td>0.912596</td>\n",
       "      <td>1.250184</td>\n",
       "    </tr>\n",
       "  </tbody>\n",
       "</table>\n",
       "</div>"
      ],
      "text/plain": [
       "                        universe_id universe_training_year  \\\n",
       "0  1b67bafb4a88e00dbe9c17abaa0d1260                2012_14   \n",
       "\n",
       "  universe_training_size universe_scale universe_model  \\\n",
       "0                     5k   do-not-scale         logreg   \n",
       "\n",
       "  universe_exclude_features universe_exclude_subgroups    q_hat  coverage  \\\n",
       "0                       age                   keep-all  0.66543  0.912596   \n",
       "\n",
       "   avg_size  \n",
       "0  1.250184  "
      ]
     },
     "execution_count": 50,
     "metadata": {},
     "output_type": "execute_result"
    }
   ],
   "source": [
    "cp_metrics_df"
   ]
  },
  {
   "cell_type": "code",
   "execution_count": 51,
   "id": "b7fbde55-a0a1-47e4-9af6-fe4a17fa8c61",
   "metadata": {
    "execution": {
     "iopub.execute_input": "2025-08-05T15:41:55.103663Z",
     "iopub.status.busy": "2025-08-05T15:41:55.103020Z",
     "iopub.status.idle": "2025-08-05T15:41:55.108271Z",
     "shell.execute_reply": "2025-08-05T15:41:55.107287Z"
    },
    "papermill": {
     "duration": 0.028444,
     "end_time": "2025-08-05T15:41:55.110035",
     "exception": false,
     "start_time": "2025-08-05T15:41:55.081591",
     "status": "completed"
    },
    "tags": []
   },
   "outputs": [],
   "source": [
    "# Conditional Coverage & looking at subgroups"
   ]
  },
  {
   "cell_type": "code",
   "execution_count": 52,
   "id": "027ae886-68dd-4141-96c7-805a5450e1ef",
   "metadata": {
    "execution": {
     "iopub.execute_input": "2025-08-05T15:41:55.155426Z",
     "iopub.status.busy": "2025-08-05T15:41:55.154569Z",
     "iopub.status.idle": "2025-08-05T15:41:55.423891Z",
     "shell.execute_reply": "2025-08-05T15:41:55.422904Z"
    },
    "papermill": {
     "duration": 0.293307,
     "end_time": "2025-08-05T15:41:55.425743",
     "exception": false,
     "start_time": "2025-08-05T15:41:55.132436",
     "status": "completed"
    },
    "tags": []
   },
   "outputs": [],
   "source": [
    "from fairness_multiverse.conformal import build_cp_groups\n",
    "\n",
    "cp_groups_df = build_cp_groups(pred_sets, y_true, X_test.index, org_test)\n",
    "#needs universe_id and setting"
   ]
  },
  {
   "cell_type": "code",
   "execution_count": 53,
   "id": "6cbdab96-b2b2-45af-ad54-d0516db2e28d",
   "metadata": {
    "execution": {
     "iopub.execute_input": "2025-08-05T15:41:55.471212Z",
     "iopub.status.busy": "2025-08-05T15:41:55.470798Z",
     "iopub.status.idle": "2025-08-05T15:41:57.137065Z",
     "shell.execute_reply": "2025-08-05T15:41:57.136020Z"
    },
    "papermill": {
     "duration": 1.691387,
     "end_time": "2025-08-05T15:41:57.139173",
     "exception": false,
     "start_time": "2025-08-05T15:41:55.447786",
     "status": "completed"
    },
    "tags": []
   },
   "outputs": [],
   "source": [
    "# Define covered = 1 if true_label is in the predicted set\n",
    "cp_groups_df['covered'] = cp_groups_df.apply(\n",
    "    lambda r: int(r['true_label'] in r['pred_set']),\n",
    "    axis=1\n",
    ")"
   ]
  },
  {
   "cell_type": "code",
   "execution_count": 54,
   "id": "338ff529-1a6b-4b87-a931-8e4788d52aad",
   "metadata": {
    "execution": {
     "iopub.execute_input": "2025-08-05T15:41:57.192320Z",
     "iopub.status.busy": "2025-08-05T15:41:57.191815Z",
     "iopub.status.idle": "2025-08-05T15:41:57.197616Z",
     "shell.execute_reply": "2025-08-05T15:41:57.196500Z"
    },
    "papermill": {
     "duration": 0.032664,
     "end_time": "2025-08-05T15:41:57.199501",
     "exception": false,
     "start_time": "2025-08-05T15:41:57.166837",
     "status": "completed"
    },
    "tags": []
   },
   "outputs": [],
   "source": [
    "#cp_groups_df"
   ]
  },
  {
   "cell_type": "code",
   "execution_count": 55,
   "id": "90032e27-66df-4540-9169-4e89cfbaa758",
   "metadata": {
    "execution": {
     "iopub.execute_input": "2025-08-05T15:41:57.244942Z",
     "iopub.status.busy": "2025-08-05T15:41:57.244150Z",
     "iopub.status.idle": "2025-08-05T15:41:57.256549Z",
     "shell.execute_reply": "2025-08-05T15:41:57.255583Z"
    },
    "papermill": {
     "duration": 0.036817,
     "end_time": "2025-08-05T15:41:57.258363",
     "exception": false,
     "start_time": "2025-08-05T15:41:57.221546",
     "status": "completed"
    },
    "tags": []
   },
   "outputs": [],
   "source": [
    "subgroups = ['frau1','nongerman','nongerman_male','nongerman_female']\n",
    "\n",
    "# Conditional coverage for subgroup==1\n",
    "cond_coverage = {\n",
    "    g: cp_groups_df.loc[cp_groups_df[g]==1, 'covered'].mean()\n",
    "    for g in subgroups\n",
    "}"
   ]
  },
  {
   "cell_type": "code",
   "execution_count": 56,
   "id": "1e348fb1-b9c3-45bc-ba23-f016827a7e0d",
   "metadata": {
    "execution": {
     "iopub.execute_input": "2025-08-05T15:41:57.303209Z",
     "iopub.status.busy": "2025-08-05T15:41:57.302380Z",
     "iopub.status.idle": "2025-08-05T15:41:57.310114Z",
     "shell.execute_reply": "2025-08-05T15:41:57.308947Z"
    },
    "papermill": {
     "duration": 0.031326,
     "end_time": "2025-08-05T15:41:57.311705",
     "exception": false,
     "start_time": "2025-08-05T15:41:57.280379",
     "status": "completed"
    },
    "tags": []
   },
   "outputs": [
    {
     "data": {
      "text/plain": [
       "{'frau1': 0.9093408815204206,\n",
       " 'nongerman': 0.9601414697131309,\n",
       " 'nongerman_male': 0.9673961992254345,\n",
       " 'nongerman_female': 0.9481371087928465}"
      ]
     },
     "execution_count": 56,
     "metadata": {},
     "output_type": "execute_result"
    }
   ],
   "source": [
    "cond_coverage"
   ]
  },
  {
   "cell_type": "code",
   "execution_count": 57,
   "id": "f5093324-c3dd-4d63-bc4c-8d945e5c8bbb",
   "metadata": {
    "execution": {
     "iopub.execute_input": "2025-08-05T15:41:57.357771Z",
     "iopub.status.busy": "2025-08-05T15:41:57.356661Z",
     "iopub.status.idle": "2025-08-05T15:41:57.365047Z",
     "shell.execute_reply": "2025-08-05T15:41:57.364006Z"
    },
    "papermill": {
     "duration": 0.033013,
     "end_time": "2025-08-05T15:41:57.366863",
     "exception": false,
     "start_time": "2025-08-05T15:41:57.333850",
     "status": "completed"
    },
    "tags": []
   },
   "outputs": [],
   "source": [
    "for subgroup, cov in cond_coverage.items():\n",
    "    cp_metrics_df[f\"cov_{subgroup}\"] = cov"
   ]
  },
  {
   "cell_type": "code",
   "execution_count": 58,
   "id": "6e872e10-dbe5-49e8-b554-5030c98ff75d",
   "metadata": {
    "execution": {
     "iopub.execute_input": "2025-08-05T15:41:57.411898Z",
     "iopub.status.busy": "2025-08-05T15:41:57.411441Z",
     "iopub.status.idle": "2025-08-05T15:41:57.431941Z",
     "shell.execute_reply": "2025-08-05T15:41:57.430870Z"
    },
    "papermill": {
     "duration": 0.0444,
     "end_time": "2025-08-05T15:41:57.433830",
     "exception": false,
     "start_time": "2025-08-05T15:41:57.389430",
     "status": "completed"
    },
    "tags": []
   },
   "outputs": [
    {
     "data": {
      "text/html": [
       "<div>\n",
       "<style scoped>\n",
       "    .dataframe tbody tr th:only-of-type {\n",
       "        vertical-align: middle;\n",
       "    }\n",
       "\n",
       "    .dataframe tbody tr th {\n",
       "        vertical-align: top;\n",
       "    }\n",
       "\n",
       "    .dataframe thead th {\n",
       "        text-align: right;\n",
       "    }\n",
       "</style>\n",
       "<table border=\"1\" class=\"dataframe\">\n",
       "  <thead>\n",
       "    <tr style=\"text-align: right;\">\n",
       "      <th></th>\n",
       "      <th>universe_id</th>\n",
       "      <th>universe_training_year</th>\n",
       "      <th>universe_training_size</th>\n",
       "      <th>universe_scale</th>\n",
       "      <th>universe_model</th>\n",
       "      <th>universe_exclude_features</th>\n",
       "      <th>universe_exclude_subgroups</th>\n",
       "      <th>q_hat</th>\n",
       "      <th>coverage</th>\n",
       "      <th>avg_size</th>\n",
       "      <th>cov_frau1</th>\n",
       "      <th>cov_nongerman</th>\n",
       "      <th>cov_nongerman_male</th>\n",
       "      <th>cov_nongerman_female</th>\n",
       "    </tr>\n",
       "  </thead>\n",
       "  <tbody>\n",
       "    <tr>\n",
       "      <th>0</th>\n",
       "      <td>1b67bafb4a88e00dbe9c17abaa0d1260</td>\n",
       "      <td>2012_14</td>\n",
       "      <td>5k</td>\n",
       "      <td>do-not-scale</td>\n",
       "      <td>logreg</td>\n",
       "      <td>age</td>\n",
       "      <td>keep-all</td>\n",
       "      <td>0.66543</td>\n",
       "      <td>0.912596</td>\n",
       "      <td>1.250184</td>\n",
       "      <td>0.909341</td>\n",
       "      <td>0.960141</td>\n",
       "      <td>0.967396</td>\n",
       "      <td>0.948137</td>\n",
       "    </tr>\n",
       "  </tbody>\n",
       "</table>\n",
       "</div>"
      ],
      "text/plain": [
       "                        universe_id universe_training_year  \\\n",
       "0  1b67bafb4a88e00dbe9c17abaa0d1260                2012_14   \n",
       "\n",
       "  universe_training_size universe_scale universe_model  \\\n",
       "0                     5k   do-not-scale         logreg   \n",
       "\n",
       "  universe_exclude_features universe_exclude_subgroups    q_hat  coverage  \\\n",
       "0                       age                   keep-all  0.66543  0.912596   \n",
       "\n",
       "   avg_size  cov_frau1  cov_nongerman  cov_nongerman_male  \\\n",
       "0  1.250184   0.909341       0.960141            0.967396   \n",
       "\n",
       "   cov_nongerman_female  \n",
       "0              0.948137  "
      ]
     },
     "execution_count": 58,
     "metadata": {},
     "output_type": "execute_result"
    }
   ],
   "source": [
    "cp_metrics_df"
   ]
  },
  {
   "cell_type": "markdown",
   "id": "33774451",
   "metadata": {
    "papermill": {
     "duration": 0.021401,
     "end_time": "2025-08-05T15:41:57.477920",
     "exception": false,
     "start_time": "2025-08-05T15:41:57.456519",
     "status": "completed"
    },
    "tags": []
   },
   "source": [
    "# (Fairness) Metrics"
   ]
  },
  {
   "cell_type": "code",
   "execution_count": 59,
   "id": "debc5d62",
   "metadata": {
    "execution": {
     "iopub.execute_input": "2025-08-05T15:41:57.524440Z",
     "iopub.status.busy": "2025-08-05T15:41:57.523688Z",
     "iopub.status.idle": "2025-08-05T15:41:57.545512Z",
     "shell.execute_reply": "2025-08-05T15:41:57.544486Z"
    },
    "papermill": {
     "duration": 0.046659,
     "end_time": "2025-08-05T15:41:57.547243",
     "exception": false,
     "start_time": "2025-08-05T15:41:57.500584",
     "status": "completed"
    },
    "tags": []
   },
   "outputs": [],
   "source": [
    "# do I need to include maxdeutsch1.missing?\n",
    "\n",
    "import numpy as np\n",
    "\n",
    "colname_to_bin = \"maxdeutsch1\"\n",
    "majority_value = org_train[colname_to_bin].mode()[0]\n",
    "\n",
    "org_test[\"majmin\"] = np.where(org_test[colname_to_bin] == majority_value, \"majority\", \"minority\")"
   ]
  },
  {
   "cell_type": "code",
   "execution_count": 60,
   "id": "06a50de5",
   "metadata": {
    "execution": {
     "iopub.execute_input": "2025-08-05T15:41:57.594091Z",
     "iopub.status.busy": "2025-08-05T15:41:57.593079Z",
     "iopub.status.idle": "2025-08-05T15:42:00.346156Z",
     "shell.execute_reply": "2025-08-05T15:42:00.345111Z"
    },
    "papermill": {
     "duration": 2.777462,
     "end_time": "2025-08-05T15:42:00.348043",
     "exception": false,
     "start_time": "2025-08-05T15:41:57.570581",
     "status": "completed"
    },
    "tags": []
   },
   "outputs": [],
   "source": [
    "example_universe = universe.copy()\n",
    "example_universe[\"cutoff\"] = example_universe[\"cutoff\"][0]\n",
    "example_universe[\"eval_fairness_grouping\"] = example_universe[\"eval_fairness_grouping\"][0]\n",
    "fairness_dict, metric_frame = universe_analysis.compute_metrics(\n",
    "    example_universe,\n",
    "    y_pred_prob=probs_test,\n",
    "    y_test=y_true,\n",
    "    org_test=org_test,\n",
    ")"
   ]
  },
  {
   "cell_type": "markdown",
   "id": "f95d4e02",
   "metadata": {
    "papermill": {
     "duration": 0.023279,
     "end_time": "2025-08-05T15:42:00.399152",
     "exception": false,
     "start_time": "2025-08-05T15:42:00.375873",
     "status": "completed"
    },
    "tags": []
   },
   "source": [
    "# Overall"
   ]
  },
  {
   "cell_type": "markdown",
   "id": "bdee4871",
   "metadata": {
    "papermill": {
     "duration": 0.021466,
     "end_time": "2025-08-05T15:42:00.444319",
     "exception": false,
     "start_time": "2025-08-05T15:42:00.422853",
     "status": "completed"
    },
    "tags": []
   },
   "source": [
    "Fairness\n",
    "Main fairness target: Equalized Odds. Seems to be a better fit than equal opportunity, since we're not only interested in Y = 1. Seems to be a better fit than demographic parity, since we also care about accuracy, not just equal distribution of preds.\n",
    "\n",
    "Pick column for computation of fairness metrics\n",
    "\n",
    "Performance\n",
    "Overall performance measures, most interesting in relation to the measures split by group below"
   ]
  },
  {
   "cell_type": "code",
   "execution_count": 61,
   "id": "c4e067c6",
   "metadata": {
    "execution": {
     "iopub.execute_input": "2025-08-05T15:42:00.495963Z",
     "iopub.status.busy": "2025-08-05T15:42:00.495103Z",
     "iopub.status.idle": "2025-08-05T15:42:00.503704Z",
     "shell.execute_reply": "2025-08-05T15:42:00.502699Z"
    },
    "papermill": {
     "duration": 0.038641,
     "end_time": "2025-08-05T15:42:00.505415",
     "exception": false,
     "start_time": "2025-08-05T15:42:00.466774",
     "status": "completed"
    },
    "tags": []
   },
   "outputs": [
    {
     "data": {
      "text/plain": [
       "accuracy                   0.217623\n",
       "balanced accuracy          0.533534\n",
       "f1                         0.239141\n",
       "precision                  0.136613\n",
       "false positive rate        0.891397\n",
       "false negative rate        0.041536\n",
       "selection rate             0.900000\n",
       "count                  89710.000000\n",
       "dtype: float64"
      ]
     },
     "execution_count": 61,
     "metadata": {},
     "output_type": "execute_result"
    }
   ],
   "source": [
    "metric_frame.overall"
   ]
  },
  {
   "cell_type": "markdown",
   "id": "e968fe9d",
   "metadata": {
    "papermill": {
     "duration": 0.027765,
     "end_time": "2025-08-05T15:42:00.559879",
     "exception": false,
     "start_time": "2025-08-05T15:42:00.532114",
     "status": "completed"
    },
    "tags": []
   },
   "source": [
    "By Group"
   ]
  },
  {
   "cell_type": "code",
   "execution_count": 62,
   "id": "ec325bce",
   "metadata": {
    "execution": {
     "iopub.execute_input": "2025-08-05T15:42:00.616472Z",
     "iopub.status.busy": "2025-08-05T15:42:00.615949Z",
     "iopub.status.idle": "2025-08-05T15:42:00.633160Z",
     "shell.execute_reply": "2025-08-05T15:42:00.632026Z"
    },
    "papermill": {
     "duration": 0.049339,
     "end_time": "2025-08-05T15:42:00.635076",
     "exception": false,
     "start_time": "2025-08-05T15:42:00.585737",
     "status": "completed"
    },
    "tags": []
   },
   "outputs": [
    {
     "data": {
      "text/html": [
       "<div>\n",
       "<style scoped>\n",
       "    .dataframe tbody tr th:only-of-type {\n",
       "        vertical-align: middle;\n",
       "    }\n",
       "\n",
       "    .dataframe tbody tr th {\n",
       "        vertical-align: top;\n",
       "    }\n",
       "\n",
       "    .dataframe thead th {\n",
       "        text-align: right;\n",
       "    }\n",
       "</style>\n",
       "<table border=\"1\" class=\"dataframe\">\n",
       "  <thead>\n",
       "    <tr style=\"text-align: right;\">\n",
       "      <th></th>\n",
       "      <th>accuracy</th>\n",
       "      <th>balanced accuracy</th>\n",
       "      <th>f1</th>\n",
       "      <th>precision</th>\n",
       "      <th>false positive rate</th>\n",
       "      <th>false negative rate</th>\n",
       "      <th>selection rate</th>\n",
       "      <th>count</th>\n",
       "    </tr>\n",
       "    <tr>\n",
       "      <th>majmin</th>\n",
       "      <th></th>\n",
       "      <th></th>\n",
       "      <th></th>\n",
       "      <th></th>\n",
       "      <th></th>\n",
       "      <th></th>\n",
       "      <th></th>\n",
       "      <th></th>\n",
       "    </tr>\n",
       "  </thead>\n",
       "  <tbody>\n",
       "    <tr>\n",
       "      <th>majority</th>\n",
       "      <td>0.239887</td>\n",
       "      <td>0.541579</td>\n",
       "      <td>0.248610</td>\n",
       "      <td>0.142982</td>\n",
       "      <td>0.868482</td>\n",
       "      <td>0.048359</td>\n",
       "      <td>0.879471</td>\n",
       "      <td>69170.0</td>\n",
       "    </tr>\n",
       "    <tr>\n",
       "      <th>minority</th>\n",
       "      <td>0.142648</td>\n",
       "      <td>0.508853</td>\n",
       "      <td>0.209392</td>\n",
       "      <td>0.117151</td>\n",
       "      <td>0.967092</td>\n",
       "      <td>0.015203</td>\n",
       "      <td>0.969133</td>\n",
       "      <td>20540.0</td>\n",
       "    </tr>\n",
       "  </tbody>\n",
       "</table>\n",
       "</div>"
      ],
      "text/plain": [
       "          accuracy  balanced accuracy        f1  precision  \\\n",
       "majmin                                                       \n",
       "majority  0.239887           0.541579  0.248610   0.142982   \n",
       "minority  0.142648           0.508853  0.209392   0.117151   \n",
       "\n",
       "          false positive rate  false negative rate  selection rate    count  \n",
       "majmin                                                                       \n",
       "majority             0.868482             0.048359        0.879471  69170.0  \n",
       "minority             0.967092             0.015203        0.969133  20540.0  "
      ]
     },
     "execution_count": 62,
     "metadata": {},
     "output_type": "execute_result"
    }
   ],
   "source": [
    "metric_frame.by_group"
   ]
  },
  {
   "cell_type": "code",
   "execution_count": 63,
   "id": "a9ddbe63",
   "metadata": {
    "execution": {
     "iopub.execute_input": "2025-08-05T15:42:00.691866Z",
     "iopub.status.busy": "2025-08-05T15:42:00.690795Z",
     "iopub.status.idle": "2025-08-05T15:42:03.290739Z",
     "shell.execute_reply": "2025-08-05T15:42:03.289741Z"
    },
    "papermill": {
     "duration": 2.62966,
     "end_time": "2025-08-05T15:42:03.292480",
     "exception": false,
     "start_time": "2025-08-05T15:42:00.662820",
     "status": "completed"
    },
    "tags": []
   },
   "outputs": [
    {
     "data": {
      "text/plain": [
       "array([[<Axes: title={'center': 'accuracy'}, xlabel='majmin'>,\n",
       "        <Axes: title={'center': 'balanced accuracy'}, xlabel='majmin'>,\n",
       "        <Axes: title={'center': 'f1'}, xlabel='majmin'>],\n",
       "       [<Axes: title={'center': 'precision'}, xlabel='majmin'>,\n",
       "        <Axes: title={'center': 'false positive rate'}, xlabel='majmin'>,\n",
       "        <Axes: title={'center': 'false negative rate'}, xlabel='majmin'>],\n",
       "       [<Axes: title={'center': 'selection rate'}, xlabel='majmin'>,\n",
       "        <Axes: title={'center': 'count'}, xlabel='majmin'>,\n",
       "        <Axes: xlabel='majmin'>]], dtype=object)"
      ]
     },
     "execution_count": 63,
     "metadata": {},
     "output_type": "execute_result"
    },
    {
     "data": {
      "image/png": "[encoded data removed]",
      "text/plain": [
       "<Figure size 1200x800 with 9 Axes>"
      ]
     },
     "metadata": {},
     "output_type": "display_data"
    }
   ],
   "source": [
    "# In a graphic\n",
    "metric_frame.by_group.plot.bar(\n",
    "    subplots=True,\n",
    "    layout=[3, 3],\n",
    "    legend=False,\n",
    "    figsize=[12, 8],\n",
    "    title=\"Show all metrics\",\n",
    ")"
   ]
  },
  {
   "cell_type": "markdown",
   "id": "f57a0bac",
   "metadata": {
    "papermill": {
     "duration": 0.023923,
     "end_time": "2025-08-05T15:42:03.341990",
     "exception": false,
     "start_time": "2025-08-05T15:42:03.318067",
     "status": "completed"
    },
    "tags": []
   },
   "source": [
    "# Final Output"
   ]
  },
  {
   "cell_type": "code",
   "execution_count": 64,
   "id": "96d280a3",
   "metadata": {
    "execution": {
     "iopub.execute_input": "2025-08-05T15:42:03.413444Z",
     "iopub.status.busy": "2025-08-05T15:42:03.412778Z",
     "iopub.status.idle": "2025-08-05T15:42:03.421399Z",
     "shell.execute_reply": "2025-08-05T15:42:03.420352Z"
    },
    "papermill": {
     "duration": 0.036069,
     "end_time": "2025-08-05T15:42:03.423351",
     "exception": false,
     "start_time": "2025-08-05T15:42:03.387282",
     "status": "completed"
    },
    "tags": []
   },
   "outputs": [
    {
     "data": {
      "text/plain": [
       "4"
      ]
     },
     "execution_count": 64,
     "metadata": {},
     "output_type": "execute_result"
    }
   ],
   "source": [
    "sub_universes = universe_analysis.generate_sub_universes()\n",
    "len(sub_universes)"
   ]
  },
  {
   "cell_type": "code",
   "execution_count": 65,
   "id": "92adf7ba",
   "metadata": {
    "execution": {
     "iopub.execute_input": "2025-08-05T15:42:03.475785Z",
     "iopub.status.busy": "2025-08-05T15:42:03.475321Z",
     "iopub.status.idle": "2025-08-05T15:42:03.481691Z",
     "shell.execute_reply": "2025-08-05T15:42:03.480755Z"
    },
    "papermill": {
     "duration": 0.034168,
     "end_time": "2025-08-05T15:42:03.483750",
     "exception": false,
     "start_time": "2025-08-05T15:42:03.449582",
     "status": "completed"
    },
    "tags": []
   },
   "outputs": [],
   "source": [
    "def filter_sub_universe_data(sub_universe, org_test):\n",
    "    # Keep all rows — no filtering\n",
    "    keep_rows_mask = np.ones(org_test.shape[0], dtype=bool)\n",
    "\n",
    "    print(f\"[INFO] Keeping all rows: {keep_rows_mask.sum()} rows retained.\")\n",
    "    return keep_rows_mask"
   ]
  },
  {
   "cell_type": "code",
   "execution_count": 66,
   "id": "4a759155",
   "metadata": {
    "execution": {
     "iopub.execute_input": "2025-08-05T15:42:03.539030Z",
     "iopub.status.busy": "2025-08-05T15:42:03.538521Z",
     "iopub.status.idle": "2025-08-05T15:42:13.086994Z",
     "shell.execute_reply": "2025-08-05T15:42:13.085978Z"
    },
    "papermill": {
     "duration": 9.577154,
     "end_time": "2025-08-05T15:42:13.088769",
     "exception": false,
     "start_time": "2025-08-05T15:42:03.511615",
     "status": "completed"
    },
    "tags": []
   },
   "outputs": [
    {
     "name": "stdout",
     "output_type": "stream",
     "text": [
      "Stopping execution_time clock.\n",
      "[INFO] Keeping all rows: 89710 rows retained.\n"
     ]
    },
    {
     "name": "stdout",
     "output_type": "stream",
     "text": [
      "[INFO] Keeping all rows: 89710 rows retained.\n"
     ]
    },
    {
     "name": "stdout",
     "output_type": "stream",
     "text": [
      "[INFO] Keeping all rows: 89710 rows retained.\n"
     ]
    },
    {
     "name": "stdout",
     "output_type": "stream",
     "text": [
      "[INFO] Keeping all rows: 89710 rows retained.\n"
     ]
    },
    {
     "data": {
      "text/html": [
       "<div>\n",
       "<style scoped>\n",
       "    .dataframe tbody tr th:only-of-type {\n",
       "        vertical-align: middle;\n",
       "    }\n",
       "\n",
       "    .dataframe tbody tr th {\n",
       "        vertical-align: top;\n",
       "    }\n",
       "\n",
       "    .dataframe thead th {\n",
       "        text-align: right;\n",
       "    }\n",
       "</style>\n",
       "<table border=\"1\" class=\"dataframe\">\n",
       "  <thead>\n",
       "    <tr style=\"text-align: right;\">\n",
       "      <th></th>\n",
       "      <th>run_no</th>\n",
       "      <th>universe_id</th>\n",
       "      <th>universe_settings</th>\n",
       "      <th>execution_time</th>\n",
       "      <th>test_size_n</th>\n",
       "      <th>test_size_frac</th>\n",
       "      <th>fair_main_equalized_odds_difference</th>\n",
       "      <th>fair_main_equalized_odds_ratio</th>\n",
       "      <th>fair_main_demographic_parity_difference</th>\n",
       "      <th>fair_main_demographic_parity_ratio</th>\n",
       "      <th>...</th>\n",
       "      <th>perf_grp_precision_0</th>\n",
       "      <th>perf_grp_precision_1</th>\n",
       "      <th>perf_grp_false positive rate_0</th>\n",
       "      <th>perf_grp_false positive rate_1</th>\n",
       "      <th>perf_grp_false negative rate_0</th>\n",
       "      <th>perf_grp_false negative rate_1</th>\n",
       "      <th>perf_grp_selection rate_0</th>\n",
       "      <th>perf_grp_selection rate_1</th>\n",
       "      <th>perf_grp_count_0</th>\n",
       "      <th>perf_grp_count_1</th>\n",
       "    </tr>\n",
       "  </thead>\n",
       "  <tbody>\n",
       "    <tr>\n",
       "      <th>0</th>\n",
       "      <td>15</td>\n",
       "      <td>1b67bafb4a88e00dbe9c17abaa0d1260</td>\n",
       "      <td>{\"cutoff\": \"quantile_0.1\", \"eval_fairness_grou...</td>\n",
       "      <td>26.137517</td>\n",
       "      <td>89710</td>\n",
       "      <td>1.0</td>\n",
       "      <td>0.09861</td>\n",
       "      <td>0.898035</td>\n",
       "      <td>0.089663</td>\n",
       "      <td>0.907482</td>\n",
       "      <td>...</td>\n",
       "      <td>NaN</td>\n",
       "      <td>NaN</td>\n",
       "      <td>NaN</td>\n",
       "      <td>NaN</td>\n",
       "      <td>NaN</td>\n",
       "      <td>NaN</td>\n",
       "      <td>NaN</td>\n",
       "      <td>NaN</td>\n",
       "      <td>NaN</td>\n",
       "      <td>NaN</td>\n",
       "    </tr>\n",
       "    <tr>\n",
       "      <th>0</th>\n",
       "      <td>15</td>\n",
       "      <td>1b67bafb4a88e00dbe9c17abaa0d1260</td>\n",
       "      <td>{\"cutoff\": \"quantile_0.1\", \"eval_fairness_grou...</td>\n",
       "      <td>26.137517</td>\n",
       "      <td>89710</td>\n",
       "      <td>1.0</td>\n",
       "      <td>0.09861</td>\n",
       "      <td>0.898035</td>\n",
       "      <td>0.089663</td>\n",
       "      <td>0.907482</td>\n",
       "      <td>...</td>\n",
       "      <td>0.117151</td>\n",
       "      <td>0.142982</td>\n",
       "      <td>0.967092</td>\n",
       "      <td>0.868482</td>\n",
       "      <td>0.015203</td>\n",
       "      <td>0.048359</td>\n",
       "      <td>0.969133</td>\n",
       "      <td>0.879471</td>\n",
       "      <td>20540.0</td>\n",
       "      <td>69170.0</td>\n",
       "    </tr>\n",
       "    <tr>\n",
       "      <th>0</th>\n",
       "      <td>15</td>\n",
       "      <td>1b67bafb4a88e00dbe9c17abaa0d1260</td>\n",
       "      <td>{\"cutoff\": \"quantile_0.25\", \"eval_fairness_gro...</td>\n",
       "      <td>26.137517</td>\n",
       "      <td>89710</td>\n",
       "      <td>1.0</td>\n",
       "      <td>0.23096</td>\n",
       "      <td>0.746389</td>\n",
       "      <td>0.213366</td>\n",
       "      <td>0.766688</td>\n",
       "      <td>...</td>\n",
       "      <td>NaN</td>\n",
       "      <td>NaN</td>\n",
       "      <td>NaN</td>\n",
       "      <td>NaN</td>\n",
       "      <td>NaN</td>\n",
       "      <td>NaN</td>\n",
       "      <td>NaN</td>\n",
       "      <td>NaN</td>\n",
       "      <td>NaN</td>\n",
       "      <td>NaN</td>\n",
       "    </tr>\n",
       "    <tr>\n",
       "      <th>0</th>\n",
       "      <td>15</td>\n",
       "      <td>1b67bafb4a88e00dbe9c17abaa0d1260</td>\n",
       "      <td>{\"cutoff\": \"quantile_0.25\", \"eval_fairness_gro...</td>\n",
       "      <td>26.137517</td>\n",
       "      <td>89710</td>\n",
       "      <td>1.0</td>\n",
       "      <td>0.23096</td>\n",
       "      <td>0.746389</td>\n",
       "      <td>0.213366</td>\n",
       "      <td>0.766688</td>\n",
       "      <td>...</td>\n",
       "      <td>0.118984</td>\n",
       "      <td>0.158646</td>\n",
       "      <td>0.910687</td>\n",
       "      <td>0.679727</td>\n",
       "      <td>0.056166</td>\n",
       "      <td>0.158206</td>\n",
       "      <td>0.914508</td>\n",
       "      <td>0.701142</td>\n",
       "      <td>20540.0</td>\n",
       "      <td>69170.0</td>\n",
       "    </tr>\n",
       "  </tbody>\n",
       "</table>\n",
       "<p>4 rows × 50 columns</p>\n",
       "</div>"
      ],
      "text/plain": [
       "  run_no                       universe_id  \\\n",
       "0     15  1b67bafb4a88e00dbe9c17abaa0d1260   \n",
       "0     15  1b67bafb4a88e00dbe9c17abaa0d1260   \n",
       "0     15  1b67bafb4a88e00dbe9c17abaa0d1260   \n",
       "0     15  1b67bafb4a88e00dbe9c17abaa0d1260   \n",
       "\n",
       "                                   universe_settings  execution_time  \\\n",
       "0  {\"cutoff\": \"quantile_0.1\", \"eval_fairness_grou...       26.137517   \n",
       "0  {\"cutoff\": \"quantile_0.1\", \"eval_fairness_grou...       26.137517   \n",
       "0  {\"cutoff\": \"quantile_0.25\", \"eval_fairness_gro...       26.137517   \n",
       "0  {\"cutoff\": \"quantile_0.25\", \"eval_fairness_gro...       26.137517   \n",
       "\n",
       "   test_size_n  test_size_frac  fair_main_equalized_odds_difference  \\\n",
       "0        89710             1.0                              0.09861   \n",
       "0        89710             1.0                              0.09861   \n",
       "0        89710             1.0                              0.23096   \n",
       "0        89710             1.0                              0.23096   \n",
       "\n",
       "   fair_main_equalized_odds_ratio  fair_main_demographic_parity_difference  \\\n",
       "0                        0.898035                                 0.089663   \n",
       "0                        0.898035                                 0.089663   \n",
       "0                        0.746389                                 0.213366   \n",
       "0                        0.746389                                 0.213366   \n",
       "\n",
       "   fair_main_demographic_parity_ratio  ...  perf_grp_precision_0  \\\n",
       "0                            0.907482  ...                   NaN   \n",
       "0                            0.907482  ...              0.117151   \n",
       "0                            0.766688  ...                   NaN   \n",
       "0                            0.766688  ...              0.118984   \n",
       "\n",
       "   perf_grp_precision_1  perf_grp_false positive rate_0  \\\n",
       "0                   NaN                             NaN   \n",
       "0              0.142982                        0.967092   \n",
       "0                   NaN                             NaN   \n",
       "0              0.158646                        0.910687   \n",
       "\n",
       "   perf_grp_false positive rate_1  perf_grp_false negative rate_0  \\\n",
       "0                             NaN                             NaN   \n",
       "0                        0.868482                        0.015203   \n",
       "0                             NaN                             NaN   \n",
       "0                        0.679727                        0.056166   \n",
       "\n",
       "   perf_grp_false negative rate_1  perf_grp_selection rate_0  \\\n",
       "0                             NaN                        NaN   \n",
       "0                        0.048359                   0.969133   \n",
       "0                             NaN                        NaN   \n",
       "0                        0.158206                   0.914508   \n",
       "\n",
       "   perf_grp_selection rate_1  perf_grp_count_0  perf_grp_count_1  \n",
       "0                        NaN               NaN               NaN  \n",
       "0                   0.879471           20540.0           69170.0  \n",
       "0                        NaN               NaN               NaN  \n",
       "0                   0.701142           20540.0           69170.0  \n",
       "\n",
       "[4 rows x 50 columns]"
      ]
     },
     "execution_count": 66,
     "metadata": {},
     "output_type": "execute_result"
    }
   ],
   "source": [
    "final_output = universe_analysis.generate_final_output(\n",
    "    y_pred_prob=probs_test,\n",
    "    y_test=y_true,\n",
    "    org_test=org_test,\n",
    "    filter_data=filter_sub_universe_data,\n",
    "    cp_metrics_df=cp_metrics_df,\n",
    "    save=True,\n",
    ")\n",
    "final_output"
   ]
  }
 ],
 "metadata": {
  "celltoolbar": "Tags",
  "kernelspec": {
   "display_name": "Python (CMA Fairness)",
   "language": "python",
   "name": "cma_fair_env"
  },
  "language_info": {
   "codemirror_mode": {
    "name": "ipython",
    "version": 3
   },
   "file_extension": ".py",
   "mimetype": "text/x-python",
   "name": "python",
   "nbconvert_exporter": "python",
   "pygments_lexer": "ipython3",
   "version": "3.10.12"
  },
  "papermill": {
   "default_parameters": {},
   "duration": 39.761025,
   "end_time": "2025-08-05T15:42:14.045452",
   "environment_variables": {},
   "exception": null,
   "input_path": "universe_analysis.ipynb",
   "output_path": "output/runs/15/notebooks/m_15-1b67bafb4a88e00dbe9c17abaa0d1260.ipynb",
   "parameters": {
    "output_dir": "output",
    "run_no": "15",
    "seed": "2023",
    "universe": "{\"cutoff\": [\"quantile_0.1\", \"quantile_0.25\"], \"eval_fairness_grouping\": [\"majority-minority\", \"nationality-all\"], \"exclude_features\": \"age\", \"exclude_subgroups\": \"keep-all\", \"model\": \"logreg\", \"scale\": \"do-not-scale\", \"training_size\": \"5k\", \"training_year\": \"2012_14\"}",
    "universe_id": "1b67bafb4a88e00dbe9c17abaa0d1260"
   },
   "start_time": "2025-08-05T15:41:34.284427",
   "version": "2.6.0"
  }
 },
 "nbformat": 4,
 "nbformat_minor": 5
}