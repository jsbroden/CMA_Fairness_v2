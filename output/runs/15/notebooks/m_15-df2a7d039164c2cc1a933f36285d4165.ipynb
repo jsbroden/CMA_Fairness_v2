{
 "cells": [
  {
   "cell_type": "code",
   "execution_count": 1,
   "id": "f159f837-637b-42ba-96b5-ec9a68c44524",
   "metadata": {
    "execution": {
     "iopub.execute_input": "2025-08-05T15:03:20.137974Z",
     "iopub.status.busy": "2025-08-05T15:03:20.137014Z",
     "iopub.status.idle": "2025-08-05T15:03:20.150909Z",
     "shell.execute_reply": "2025-08-05T15:03:20.150065Z"
    },
    "papermill": {
     "duration": 0.033441,
     "end_time": "2025-08-05T15:03:20.152491",
     "exception": false,
     "start_time": "2025-08-05T15:03:20.119050",
     "status": "completed"
    },
    "tags": []
   },
   "outputs": [
    {
     "name": "stdout",
     "output_type": "stream",
     "text": [
      "/dss/dsshome1/0C/ra93lal2/cma/CMA_Fairness_v2\n"
     ]
    },
    {
     "name": "stderr",
     "output_type": "stream",
     "text": [
      "/dss/dsshome1/0C/ra93lal2/.local/share/virtualenvs/CMA_Fairness_v2-3j10GkSs/lib/python3.10/site-packages/IPython/core/magics/osm.py:393: UserWarning: This is now an optional IPython functionality, using bookmarks requires you to install the `pickleshare` library.\n",
      "  bkms = self.shell.db.get('bookmarks', {})\n",
      "/dss/dsshome1/0C/ra93lal2/.local/share/virtualenvs/CMA_Fairness_v2-3j10GkSs/lib/python3.10/site-packages/IPython/core/magics/osm.py:417: UserWarning: This is now an optional IPython functionality, setting dhist requires you to install the `pickleshare` library.\n",
      "  self.shell.db['dhist'] = compress_dhist(dhist)[-100:]\n"
     ]
    }
   ],
   "source": [
    "%cd ~/cma/CMA_Fairness_v2"
   ]
  },
  {
   "cell_type": "markdown",
   "id": "de2603b9",
   "metadata": {
    "papermill": {
     "duration": 0.015952,
     "end_time": "2025-08-05T15:03:20.185768",
     "exception": false,
     "start_time": "2025-08-05T15:03:20.169816",
     "status": "completed"
    },
    "tags": []
   },
   "source": [
    "The following cell holds the definition of our parameters, these values can be overriden by rendering the with e.g. the following command:\n",
    "\n",
    "papermill -p alpha 0.2 -p ratio 0.3 universe_analysis.ipynb output/test_run.ipynb"
   ]
  },
  {
   "cell_type": "code",
   "execution_count": 2,
   "id": "a80968a0-40bb-4fa9-85ef-2d5eefb01975",
   "metadata": {
    "execution": {
     "iopub.execute_input": "2025-08-05T15:03:20.219998Z",
     "iopub.status.busy": "2025-08-05T15:03:20.219429Z",
     "iopub.status.idle": "2025-08-05T15:03:20.225950Z",
     "shell.execute_reply": "2025-08-05T15:03:20.224965Z"
    },
    "papermill": {
     "duration": 0.025608,
     "end_time": "2025-08-05T15:03:20.227708",
     "exception": false,
     "start_time": "2025-08-05T15:03:20.202100",
     "status": "completed"
    },
    "tags": []
   },
   "outputs": [
    {
     "name": "stdout",
     "output_type": "stream",
     "text": [
      "Current working directory: /dss/dsshome1/0C/ra93lal2/cma/CMA_Fairness_v2\n"
     ]
    }
   ],
   "source": [
    "import os\n",
    "print(\"Current working directory:\", os.getcwd())"
   ]
  },
  {
   "cell_type": "code",
   "execution_count": 3,
   "id": "2dce4c03",
   "metadata": {
    "execution": {
     "iopub.execute_input": "2025-08-05T15:03:20.262443Z",
     "iopub.status.busy": "2025-08-05T15:03:20.261697Z",
     "iopub.status.idle": "2025-08-05T15:03:20.268085Z",
     "shell.execute_reply": "2025-08-05T15:03:20.267021Z"
    },
    "papermill": {
     "duration": 0.02537,
     "end_time": "2025-08-05T15:03:20.269884",
     "exception": false,
     "start_time": "2025-08-05T15:03:20.244514",
     "status": "completed"
    },
    "tags": [
     "parameters"
    ]
   },
   "outputs": [],
   "source": [
    "run_no = 0\n",
    "universe_id = \"test\"\n",
    "universe = {\n",
    "    \"training_size\": \"25k\", # \"25k\", \"5k\", \"1k\"\n",
    "    \"training_year\": \"2014\", # \"2014\", \"2012_14\", \"2010_14\"\n",
    "    \"scale\": \"scale\", # \"scale\", \"do-not-scale\",\n",
    "    \"model\": \"elasticnet\", # \"logreg\", \"penalized_logreg\", \"rf\", \"gbm\", \"elasticnet\"\n",
    "    \"cutoff\": [\"quantile_0.15\", \"quantile_0.30\"],\n",
    "    \"exclude_features\": \"age\", # \"none\", \"nationality\", \"sex\", \"nationality-sex\", \"age\"\n",
    "    \"exclude_subgroups\": \"keep-all\", # \"keep-all\", \"drop-non-german\"\n",
    "    \"eval_fairness_grouping\": [\"majority-minority\", \"nationality-all\"]\n",
    "}\n",
    "\n",
    "output_dir=\"./output\"\n",
    "seed=0"
   ]
  },
  {
   "cell_type": "code",
   "execution_count": 4,
   "id": "792bc59e",
   "metadata": {
    "execution": {
     "iopub.execute_input": "2025-08-05T15:03:20.304874Z",
     "iopub.status.busy": "2025-08-05T15:03:20.304111Z",
     "iopub.status.idle": "2025-08-05T15:03:20.309581Z",
     "shell.execute_reply": "2025-08-05T15:03:20.308586Z"
    },
    "papermill": {
     "duration": 0.024506,
     "end_time": "2025-08-05T15:03:20.311354",
     "exception": false,
     "start_time": "2025-08-05T15:03:20.286848",
     "status": "completed"
    },
    "tags": [
     "injected-parameters"
    ]
   },
   "outputs": [],
   "source": [
    "# Parameters\n",
    "universe_id = \"df2a7d039164c2cc1a933f36285d4165\"\n",
    "run_no = \"15\"\n",
    "universe = \"{\\\"cutoff\\\": [\\\"quantile_0.1\\\", \\\"quantile_0.25\\\"], \\\"eval_fairness_grouping\\\": [\\\"majority-minority\\\", \\\"nationality-all\\\"], \\\"exclude_features\\\": \\\"nationality-sex\\\", \\\"exclude_subgroups\\\": \\\"drop-non-german\\\", \\\"model\\\": \\\"elasticnet\\\", \\\"scale\\\": \\\"do-not-scale\\\", \\\"training_size\\\": \\\"25k\\\", \\\"training_year\\\": \\\"2012_14\\\"}\"\n",
    "output_dir = \"output\"\n",
    "seed = \"2023\"\n"
   ]
  },
  {
   "cell_type": "code",
   "execution_count": 5,
   "id": "1650acaf",
   "metadata": {
    "execution": {
     "iopub.execute_input": "2025-08-05T15:03:20.346489Z",
     "iopub.status.busy": "2025-08-05T15:03:20.345618Z",
     "iopub.status.idle": "2025-08-05T15:03:20.351008Z",
     "shell.execute_reply": "2025-08-05T15:03:20.349993Z"
    },
    "papermill": {
     "duration": 0.024651,
     "end_time": "2025-08-05T15:03:20.352845",
     "exception": false,
     "start_time": "2025-08-05T15:03:20.328194",
     "status": "completed"
    },
    "tags": []
   },
   "outputs": [],
   "source": [
    "import json\n",
    "if isinstance(universe, str):\n",
    "    universe = json.loads(universe)"
   ]
  },
  {
   "cell_type": "code",
   "execution_count": 6,
   "id": "16620c48",
   "metadata": {
    "execution": {
     "iopub.execute_input": "2025-08-05T15:03:20.387974Z",
     "iopub.status.busy": "2025-08-05T15:03:20.387178Z",
     "iopub.status.idle": "2025-08-05T15:03:20.430068Z",
     "shell.execute_reply": "2025-08-05T15:03:20.429127Z"
    },
    "papermill": {
     "duration": 0.062036,
     "end_time": "2025-08-05T15:03:20.431880",
     "exception": false,
     "start_time": "2025-08-05T15:03:20.369844",
     "status": "completed"
    },
    "tags": []
   },
   "outputs": [],
   "source": [
    "# Auto-reload the custom package\n",
    "%load_ext autoreload\n",
    "%autoreload 1\n",
    "%aimport fairness_multiverse"
   ]
  },
  {
   "cell_type": "code",
   "execution_count": 7,
   "id": "01c5c9f3",
   "metadata": {
    "execution": {
     "iopub.execute_input": "2025-08-05T15:03:20.467906Z",
     "iopub.status.busy": "2025-08-05T15:03:20.467283Z",
     "iopub.status.idle": "2025-08-05T15:03:22.327168Z",
     "shell.execute_reply": "2025-08-05T15:03:22.326140Z"
    },
    "papermill": {
     "duration": 1.879609,
     "end_time": "2025-08-05T15:03:22.329257",
     "exception": false,
     "start_time": "2025-08-05T15:03:20.449648",
     "status": "completed"
    },
    "tags": []
   },
   "outputs": [],
   "source": [
    "from fairness_multiverse.universe import UniverseAnalysis\n",
    "\n",
    "universe_analysis = UniverseAnalysis(\n",
    "    run_no = run_no,\n",
    "    universe_id = universe_id,\n",
    "    universe = universe,\n",
    "    output_dir=output_dir,\n",
    ")"
   ]
  },
  {
   "cell_type": "code",
   "execution_count": 8,
   "id": "106241f5",
   "metadata": {
    "execution": {
     "iopub.execute_input": "2025-08-05T15:03:22.365015Z",
     "iopub.status.busy": "2025-08-05T15:03:22.364355Z",
     "iopub.status.idle": "2025-08-05T15:03:22.370972Z",
     "shell.execute_reply": "2025-08-05T15:03:22.370032Z"
    },
    "papermill": {
     "duration": 0.025989,
     "end_time": "2025-08-05T15:03:22.372938",
     "exception": false,
     "start_time": "2025-08-05T15:03:22.346949",
     "status": "completed"
    },
    "tags": []
   },
   "outputs": [
    {
     "name": "stdout",
     "output_type": "stream",
     "text": [
      "Using Seed: 2023\n"
     ]
    }
   ],
   "source": [
    "import numpy as np\n",
    "parsed_seed = int(seed)\n",
    "np.random.seed(parsed_seed)\n",
    "print(f\"Using Seed: {parsed_seed}\")"
   ]
  },
  {
   "cell_type": "markdown",
   "id": "e0ebdc57",
   "metadata": {
    "papermill": {
     "duration": 0.016537,
     "end_time": "2025-08-05T15:03:22.406187",
     "exception": false,
     "start_time": "2025-08-05T15:03:22.389650",
     "status": "completed"
    },
    "tags": []
   },
   "source": [
    "# Loading Data"
   ]
  },
  {
   "cell_type": "code",
   "execution_count": 9,
   "id": "f0496b8a",
   "metadata": {
    "execution": {
     "iopub.execute_input": "2025-08-05T15:03:22.441479Z",
     "iopub.status.busy": "2025-08-05T15:03:22.440798Z",
     "iopub.status.idle": "2025-08-05T15:03:33.409267Z",
     "shell.execute_reply": "2025-08-05T15:03:33.408140Z"
    },
    "papermill": {
     "duration": 10.987922,
     "end_time": "2025-08-05T15:03:33.410918",
     "exception": false,
     "start_time": "2025-08-05T15:03:22.422996",
     "status": "completed"
    },
    "tags": []
   },
   "outputs": [
    {
     "name": "stdout",
     "output_type": "stream",
     "text": [
      "Loading SIAB data from cache: data/siab_cached.csv.gz\n"
     ]
    },
    {
     "name": "stdout",
     "output_type": "stream",
     "text": [
      "(643690, 164)\n"
     ]
    }
   ],
   "source": [
    "from pathlib import Path\n",
    "import pandas as pd\n",
    "\n",
    "# File paths\n",
    "raw_file = Path(\"data/raw/siab.csv\")\n",
    "cache_file = Path(\"data/siab_cached.csv.gz\")\n",
    "\n",
    "# Ensure cache directory exists\n",
    "cache_file.parent.mkdir(parents=True, exist_ok=True)\n",
    "\n",
    "# Load with simple caching\n",
    "if cache_file.exists():\n",
    "    print(f\"Loading SIAB data from cache: {cache_file}\")\n",
    "    siab = pd.read_csv(cache_file, compression='gzip')\n",
    "else:\n",
    "    print(f\"Cache not found. Reading raw SIAB data: {raw_file}\")\n",
    "    siab = pd.read_csv(raw_file)\n",
    "    siab.to_csv(cache_file, index=False, compression='gzip')\n",
    "    print(f\"Cached SIAB data to: {cache_file}\")\n",
    "\n",
    "print(siab.shape)"
   ]
  },
  {
   "cell_type": "code",
   "execution_count": 10,
   "id": "db0ca512-5f53-4dba-abdb-a2888bca41ba",
   "metadata": {
    "execution": {
     "iopub.execute_input": "2025-08-05T15:03:33.448302Z",
     "iopub.status.busy": "2025-08-05T15:03:33.447628Z",
     "iopub.status.idle": "2025-08-05T15:03:33.454037Z",
     "shell.execute_reply": "2025-08-05T15:03:33.452924Z"
    },
    "papermill": {
     "duration": 0.026099,
     "end_time": "2025-08-05T15:03:33.455911",
     "exception": false,
     "start_time": "2025-08-05T15:03:33.429812",
     "status": "completed"
    },
    "tags": []
   },
   "outputs": [],
   "source": [
    "#siab"
   ]
  },
  {
   "cell_type": "markdown",
   "id": "997051c5-15bd-4b69-9786-c3001a3ce484",
   "metadata": {
    "papermill": {
     "duration": 0.016255,
     "end_time": "2025-08-05T15:03:33.489189",
     "exception": false,
     "start_time": "2025-08-05T15:03:33.472934",
     "status": "completed"
    },
    "tags": []
   },
   "source": [
    "# Splitting Data and Setting Training Data Size"
   ]
  },
  {
   "cell_type": "code",
   "execution_count": 11,
   "id": "aea9c6ef-6f46-42c8-85eb-5a62025c1508",
   "metadata": {
    "execution": {
     "iopub.execute_input": "2025-08-05T15:03:33.529393Z",
     "iopub.status.busy": "2025-08-05T15:03:33.528374Z",
     "iopub.status.idle": "2025-08-05T15:03:34.206254Z",
     "shell.execute_reply": "2025-08-05T15:03:34.205239Z"
    },
    "papermill": {
     "duration": 0.700057,
     "end_time": "2025-08-05T15:03:34.208302",
     "exception": false,
     "start_time": "2025-08-05T15:03:33.508245",
     "status": "completed"
    },
    "tags": []
   },
   "outputs": [],
   "source": [
    "from fairness_multiverse.universe import sample_by_year_size\n",
    "\n",
    "siab_train = sample_by_year_size(siab,\n",
    "                               training_year=universe[\"training_year\"],\n",
    "                               training_size=universe[\"training_size\"])"
   ]
  },
  {
   "cell_type": "code",
   "execution_count": 12,
   "id": "8d3afb32-789d-442c-8d5d-9f5aa8dd2eed",
   "metadata": {
    "execution": {
     "iopub.execute_input": "2025-08-05T15:03:34.243198Z",
     "iopub.status.busy": "2025-08-05T15:03:34.242459Z",
     "iopub.status.idle": "2025-08-05T15:03:34.247551Z",
     "shell.execute_reply": "2025-08-05T15:03:34.246344Z"
    },
    "papermill": {
     "duration": 0.024745,
     "end_time": "2025-08-05T15:03:34.249598",
     "exception": false,
     "start_time": "2025-08-05T15:03:34.224853",
     "status": "completed"
    },
    "tags": []
   },
   "outputs": [],
   "source": [
    "#siab_train.shape"
   ]
  },
  {
   "cell_type": "code",
   "execution_count": 13,
   "id": "d582db68-1a4c-47fb-84fc-08518dc1975a",
   "metadata": {
    "execution": {
     "iopub.execute_input": "2025-08-05T15:03:34.292374Z",
     "iopub.status.busy": "2025-08-05T15:03:34.292037Z",
     "iopub.status.idle": "2025-08-05T15:03:34.296951Z",
     "shell.execute_reply": "2025-08-05T15:03:34.295903Z"
    },
    "papermill": {
     "duration": 0.027612,
     "end_time": "2025-08-05T15:03:34.298612",
     "exception": false,
     "start_time": "2025-08-05T15:03:34.271000",
     "status": "completed"
    },
    "tags": []
   },
   "outputs": [],
   "source": [
    "#display(siab_train.groupby(\"year\").size())"
   ]
  },
  {
   "cell_type": "code",
   "execution_count": 14,
   "id": "a561edb4-d032-42cb-8256-22eac1111c64",
   "metadata": {
    "execution": {
     "iopub.execute_input": "2025-08-05T15:03:34.332633Z",
     "iopub.status.busy": "2025-08-05T15:03:34.331966Z",
     "iopub.status.idle": "2025-08-05T15:03:34.576769Z",
     "shell.execute_reply": "2025-08-05T15:03:34.575821Z"
    },
    "papermill": {
     "duration": 0.26327,
     "end_time": "2025-08-05T15:03:34.578701",
     "exception": false,
     "start_time": "2025-08-05T15:03:34.315431",
     "status": "completed"
    },
    "tags": []
   },
   "outputs": [],
   "source": [
    "#siab_train = siab_s[siab_s.year < 2015]\n",
    "siab_calib = siab[siab.year == 2015]\n",
    "siab_test = siab[siab.year == 2016]"
   ]
  },
  {
   "cell_type": "code",
   "execution_count": 15,
   "id": "472de16f-c3db-4916-846b-1f0de9cf1746",
   "metadata": {
    "execution": {
     "iopub.execute_input": "2025-08-05T15:03:34.612178Z",
     "iopub.status.busy": "2025-08-05T15:03:34.611452Z",
     "iopub.status.idle": "2025-08-05T15:03:34.626256Z",
     "shell.execute_reply": "2025-08-05T15:03:34.625004Z"
    },
    "papermill": {
     "duration": 0.033617,
     "end_time": "2025-08-05T15:03:34.628534",
     "exception": false,
     "start_time": "2025-08-05T15:03:34.594917",
     "status": "completed"
    },
    "tags": []
   },
   "outputs": [],
   "source": [
    "X_train = siab_train.iloc[:,4:164]\n",
    "y_train = siab_train.iloc[:, [3]]"
   ]
  },
  {
   "cell_type": "code",
   "execution_count": 16,
   "id": "828c96af-f43a-4ed6-ba47-8ac73a47d56c",
   "metadata": {
    "execution": {
     "iopub.execute_input": "2025-08-05T15:03:34.672496Z",
     "iopub.status.busy": "2025-08-05T15:03:34.672168Z",
     "iopub.status.idle": "2025-08-05T15:03:34.726390Z",
     "shell.execute_reply": "2025-08-05T15:03:34.725219Z"
    },
    "papermill": {
     "duration": 0.077701,
     "end_time": "2025-08-05T15:03:34.728323",
     "exception": false,
     "start_time": "2025-08-05T15:03:34.650622",
     "status": "completed"
    },
    "tags": []
   },
   "outputs": [],
   "source": [
    "X_calib = siab_calib.iloc[:,4:164]\n",
    "y_calib = siab_calib.iloc[:, [3]]"
   ]
  },
  {
   "cell_type": "code",
   "execution_count": 17,
   "id": "c34be9c3-6bd6-476e-acd3-845840e303be",
   "metadata": {
    "execution": {
     "iopub.execute_input": "2025-08-05T15:03:34.763340Z",
     "iopub.status.busy": "2025-08-05T15:03:34.762589Z",
     "iopub.status.idle": "2025-08-05T15:03:34.817747Z",
     "shell.execute_reply": "2025-08-05T15:03:34.816441Z"
    },
    "papermill": {
     "duration": 0.074375,
     "end_time": "2025-08-05T15:03:34.819910",
     "exception": false,
     "start_time": "2025-08-05T15:03:34.745535",
     "status": "completed"
    },
    "tags": []
   },
   "outputs": [],
   "source": [
    "X_test = siab_test.iloc[:,4:164]\n",
    "y_true = siab_test.iloc[:, [3]]"
   ]
  },
  {
   "cell_type": "code",
   "execution_count": 18,
   "id": "e6c733c5",
   "metadata": {
    "execution": {
     "iopub.execute_input": "2025-08-05T15:03:34.864106Z",
     "iopub.status.busy": "2025-08-05T15:03:34.863769Z",
     "iopub.status.idle": "2025-08-05T15:03:34.960794Z",
     "shell.execute_reply": "2025-08-05T15:03:34.959685Z"
    },
    "papermill": {
     "duration": 0.121163,
     "end_time": "2025-08-05T15:03:34.962998",
     "exception": false,
     "start_time": "2025-08-05T15:03:34.841835",
     "status": "completed"
    },
    "tags": []
   },
   "outputs": [],
   "source": [
    "# Auxiliary data needed downstream in the pipeline\n",
    "\n",
    "org_train = X_train.copy()\n",
    "org_test = X_test.copy()\n",
    "org_calib = X_calib.copy()"
   ]
  },
  {
   "cell_type": "markdown",
   "id": "0a4a1b33",
   "metadata": {
    "papermill": {
     "duration": 0.021293,
     "end_time": "2025-08-05T15:03:35.005674",
     "exception": false,
     "start_time": "2025-08-05T15:03:34.984381",
     "status": "completed"
    },
    "tags": []
   },
   "source": [
    "# Preprocessing Data"
   ]
  },
  {
   "cell_type": "code",
   "execution_count": 19,
   "id": "ca879031",
   "metadata": {
    "execution": {
     "iopub.execute_input": "2025-08-05T15:03:35.049220Z",
     "iopub.status.busy": "2025-08-05T15:03:35.048534Z",
     "iopub.status.idle": "2025-08-05T15:03:35.054900Z",
     "shell.execute_reply": "2025-08-05T15:03:35.053838Z"
    },
    "papermill": {
     "duration": 0.030099,
     "end_time": "2025-08-05T15:03:35.057007",
     "exception": false,
     "start_time": "2025-08-05T15:03:35.026908",
     "status": "completed"
    },
    "tags": []
   },
   "outputs": [],
   "source": [
    "# EXCLUDE PROTECTED FEATURES\n",
    "# ----------------------\n",
    "# \"exclude_features\": \"none\", # \"nationality\", \"sex\", \"nationality-sex\"\n",
    "\n",
    "excluded_features = universe[\"exclude_features\"].split(\"-\") # split, e.g.: \"nationality-sex\" -> [\"nationality\", \"sex\"]\n",
    "excluded_features_dictionary = {\n",
    "    \"nationality\": [\"maxdeutsch1\", \"maxdeutsch.Missing.\"],\n",
    "    \"sex\": [\"frau1\"],\n",
    "    \"age\": [\"age\"],\n",
    "}"
   ]
  },
  {
   "cell_type": "code",
   "execution_count": 20,
   "id": "b745ac60",
   "metadata": {
    "execution": {
     "iopub.execute_input": "2025-08-05T15:03:35.100599Z",
     "iopub.status.busy": "2025-08-05T15:03:35.099169Z",
     "iopub.status.idle": "2025-08-05T15:03:35.105213Z",
     "shell.execute_reply": "2025-08-05T15:03:35.104223Z"
    },
    "papermill": {
     "duration": 0.029292,
     "end_time": "2025-08-05T15:03:35.107184",
     "exception": false,
     "start_time": "2025-08-05T15:03:35.077892",
     "status": "completed"
    },
    "tags": []
   },
   "outputs": [],
   "source": [
    "# Code nice names to column names\n",
    "\n",
    "excluded_features_columns = [\n",
    "    excluded_features_dictionary[f] for f in excluded_features if len(f) > 0 and f != \"none\"\n",
    "]"
   ]
  },
  {
   "cell_type": "code",
   "execution_count": 21,
   "id": "f84f73a2",
   "metadata": {
    "execution": {
     "iopub.execute_input": "2025-08-05T15:03:35.151144Z",
     "iopub.status.busy": "2025-08-05T15:03:35.149696Z",
     "iopub.status.idle": "2025-08-05T15:03:35.157109Z",
     "shell.execute_reply": "2025-08-05T15:03:35.156138Z"
    },
    "papermill": {
     "duration": 0.030923,
     "end_time": "2025-08-05T15:03:35.159028",
     "exception": false,
     "start_time": "2025-08-05T15:03:35.128105",
     "status": "completed"
    },
    "tags": []
   },
   "outputs": [],
   "source": [
    "from utils import flatten_once\n",
    "\n",
    "excluded_features_columns = flatten_once(excluded_features_columns)"
   ]
  },
  {
   "cell_type": "code",
   "execution_count": 22,
   "id": "884dea22",
   "metadata": {
    "execution": {
     "iopub.execute_input": "2025-08-05T15:03:35.201887Z",
     "iopub.status.busy": "2025-08-05T15:03:35.201454Z",
     "iopub.status.idle": "2025-08-05T15:03:35.226502Z",
     "shell.execute_reply": "2025-08-05T15:03:35.225202Z"
    },
    "papermill": {
     "duration": 0.04849,
     "end_time": "2025-08-05T15:03:35.228451",
     "exception": false,
     "start_time": "2025-08-05T15:03:35.179961",
     "status": "completed"
    },
    "tags": []
   },
   "outputs": [
    {
     "name": "stdout",
     "output_type": "stream",
     "text": [
      "Dropping features: ['maxdeutsch1', 'maxdeutsch.Missing.', 'frau1']\n"
     ]
    }
   ],
   "source": [
    "if len(excluded_features_columns) > 0:\n",
    "    print(f\"Dropping features: {excluded_features_columns}\")\n",
    "    X_train.drop(excluded_features_columns, axis=1, inplace=True)"
   ]
  },
  {
   "cell_type": "code",
   "execution_count": 23,
   "id": "95ab8b16",
   "metadata": {
    "execution": {
     "iopub.execute_input": "2025-08-05T15:03:35.263927Z",
     "iopub.status.busy": "2025-08-05T15:03:35.263342Z",
     "iopub.status.idle": "2025-08-05T15:03:35.317523Z",
     "shell.execute_reply": "2025-08-05T15:03:35.316382Z"
    },
    "papermill": {
     "duration": 0.073539,
     "end_time": "2025-08-05T15:03:35.319784",
     "exception": false,
     "start_time": "2025-08-05T15:03:35.246245",
     "status": "completed"
    },
    "tags": []
   },
   "outputs": [
    {
     "name": "stdout",
     "output_type": "stream",
     "text": [
      "Dropping features: ['maxdeutsch1', 'maxdeutsch.Missing.', 'frau1']\n"
     ]
    }
   ],
   "source": [
    "if len(excluded_features_columns) > 0:\n",
    "    print(f\"Dropping features: {excluded_features_columns}\")\n",
    "    X_test.drop(excluded_features_columns, axis=1, inplace=True)"
   ]
  },
  {
   "cell_type": "code",
   "execution_count": 24,
   "id": "1853aaf5-fb9f-46cb-a2b5-8ea4ae2237e4",
   "metadata": {
    "execution": {
     "iopub.execute_input": "2025-08-05T15:03:35.364429Z",
     "iopub.status.busy": "2025-08-05T15:03:35.363809Z",
     "iopub.status.idle": "2025-08-05T15:03:35.413168Z",
     "shell.execute_reply": "2025-08-05T15:03:35.412011Z"
    },
    "papermill": {
     "duration": 0.073232,
     "end_time": "2025-08-05T15:03:35.415240",
     "exception": false,
     "start_time": "2025-08-05T15:03:35.342008",
     "status": "completed"
    },
    "tags": []
   },
   "outputs": [
    {
     "name": "stdout",
     "output_type": "stream",
     "text": [
      "Dropping features: ['maxdeutsch1', 'maxdeutsch.Missing.', 'frau1']\n"
     ]
    }
   ],
   "source": [
    "if len(excluded_features_columns) > 0:\n",
    "    print(f\"Dropping features: {excluded_features_columns}\")\n",
    "    X_calib.drop(excluded_features_columns, axis=1, inplace=True)"
   ]
  },
  {
   "cell_type": "code",
   "execution_count": 25,
   "id": "76c4dc6d",
   "metadata": {
    "execution": {
     "iopub.execute_input": "2025-08-05T15:03:35.461425Z",
     "iopub.status.busy": "2025-08-05T15:03:35.460789Z",
     "iopub.status.idle": "2025-08-05T15:03:35.466442Z",
     "shell.execute_reply": "2025-08-05T15:03:35.465486Z"
    },
    "papermill": {
     "duration": 0.029665,
     "end_time": "2025-08-05T15:03:35.468235",
     "exception": false,
     "start_time": "2025-08-05T15:03:35.438570",
     "status": "completed"
    },
    "tags": []
   },
   "outputs": [],
   "source": [
    "# EXCLUDE CERTAIN SUBGROUPS\n",
    "# ----------------------\n",
    "\n",
    "mode = universe.get(\"exclude_subgroups\", \"keep-all\") \n",
    "# Fetches the exclude_subgroups setting from the universe dict.\n",
    "# Defaults to \"keep-all\" if the key is missing."
   ]
  },
  {
   "cell_type": "code",
   "execution_count": 26,
   "id": "21994072",
   "metadata": {
    "execution": {
     "iopub.execute_input": "2025-08-05T15:03:35.503360Z",
     "iopub.status.busy": "2025-08-05T15:03:35.502774Z",
     "iopub.status.idle": "2025-08-05T15:03:35.510432Z",
     "shell.execute_reply": "2025-08-05T15:03:35.509060Z"
    },
    "papermill": {
     "duration": 0.026911,
     "end_time": "2025-08-05T15:03:35.512347",
     "exception": false,
     "start_time": "2025-08-05T15:03:35.485436",
     "status": "completed"
    },
    "tags": []
   },
   "outputs": [],
   "source": [
    "if mode == \"keep-all\":\n",
    "    keep_mask = pd.Series(True, index=org_train.index)\n",
    "\n",
    "# org_train contains the original feature columns from features_org (in Simson)\n",
    "# features_org contains unprocessed features, for me X_train at beginning ???\n",
    "# For keep-all, creates a boolean Series (keep_mask) of all True, so no rows are removed.\n",
    "\n",
    "elif mode == \"drop-non-german\":\n",
    "    keep_mask = org_train[\"maxdeutsch1\"] == 1 # ??? what about missing values?\n",
    "\n",
    "else:\n",
    "    raise ValueError(f\"Unsupported mode for exclude_subgroups: {mode}\")"
   ]
  },
  {
   "cell_type": "code",
   "execution_count": 27,
   "id": "71651440",
   "metadata": {
    "execution": {
     "iopub.execute_input": "2025-08-05T15:03:35.548981Z",
     "iopub.status.busy": "2025-08-05T15:03:35.548453Z",
     "iopub.status.idle": "2025-08-05T15:03:35.557024Z",
     "shell.execute_reply": "2025-08-05T15:03:35.555797Z"
    },
    "papermill": {
     "duration": 0.027685,
     "end_time": "2025-08-05T15:03:35.558575",
     "exception": false,
     "start_time": "2025-08-05T15:03:35.530890",
     "status": "completed"
    },
    "tags": []
   },
   "outputs": [
    {
     "name": "stdout",
     "output_type": "stream",
     "text": [
      "Dropping 3481 rows (13.92%) where mode='drop-non-german'\n"
     ]
    }
   ],
   "source": [
    "n_drop = (~keep_mask).sum() # Calculates how many rows are set to be dropped\n",
    "if n_drop > 0:\n",
    "    pct = n_drop / len(keep_mask) * 100\n",
    "    print(f\"Dropping {n_drop} rows ({pct:.2f}%) where mode='{mode}'\")"
   ]
  },
  {
   "cell_type": "code",
   "execution_count": 28,
   "id": "5fb8eee5",
   "metadata": {
    "execution": {
     "iopub.execute_input": "2025-08-05T15:03:35.594438Z",
     "iopub.status.busy": "2025-08-05T15:03:35.593824Z",
     "iopub.status.idle": "2025-08-05T15:03:35.611550Z",
     "shell.execute_reply": "2025-08-05T15:03:35.610530Z"
    },
    "papermill": {
     "duration": 0.037187,
     "end_time": "2025-08-05T15:03:35.613386",
     "exception": false,
     "start_time": "2025-08-05T15:03:35.576199",
     "status": "completed"
    },
    "tags": []
   },
   "outputs": [],
   "source": [
    "X_train = X_train[keep_mask]"
   ]
  },
  {
   "cell_type": "code",
   "execution_count": 29,
   "id": "b202bb3a",
   "metadata": {
    "execution": {
     "iopub.execute_input": "2025-08-05T15:03:35.653449Z",
     "iopub.status.busy": "2025-08-05T15:03:35.652813Z",
     "iopub.status.idle": "2025-08-05T15:03:35.659006Z",
     "shell.execute_reply": "2025-08-05T15:03:35.657954Z"
    },
    "papermill": {
     "duration": 0.026965,
     "end_time": "2025-08-05T15:03:35.660757",
     "exception": false,
     "start_time": "2025-08-05T15:03:35.633792",
     "status": "completed"
    },
    "tags": []
   },
   "outputs": [],
   "source": [
    "y_train = y_train[keep_mask]"
   ]
  },
  {
   "cell_type": "markdown",
   "id": "493e2ac3",
   "metadata": {
    "papermill": {
     "duration": 0.0171,
     "end_time": "2025-08-05T15:03:35.695202",
     "exception": false,
     "start_time": "2025-08-05T15:03:35.678102",
     "status": "completed"
    },
    "tags": []
   },
   "source": [
    "# Model Training"
   ]
  },
  {
   "cell_type": "code",
   "execution_count": 30,
   "id": "679e1268",
   "metadata": {
    "execution": {
     "iopub.execute_input": "2025-08-05T15:03:35.715526Z",
     "iopub.status.busy": "2025-08-05T15:03:35.715202Z",
     "iopub.status.idle": "2025-08-05T15:03:35.788445Z",
     "shell.execute_reply": "2025-08-05T15:03:35.787680Z"
    },
    "papermill": {
     "duration": 0.087105,
     "end_time": "2025-08-05T15:03:35.791920",
     "exception": false,
     "start_time": "2025-08-05T15:03:35.704815",
     "status": "completed"
    },
    "tags": []
   },
   "outputs": [],
   "source": [
    "from sklearn.linear_model import LogisticRegression\n",
    "from sklearn.ensemble import GradientBoostingClassifier, RandomForestClassifier\n",
    "\n",
    "if (universe[\"model\"] == \"logreg\"):\n",
    "    model = LogisticRegression() #penalty=\"none\", solver=\"newton-cg\", max_iter=1) # include random_state=19 ?\n",
    "elif (universe[\"model\"] == \"penalized_logreg\"):\n",
    "    model = LogisticRegression(penalty=\"l2\", C=0.1) #, solver=\"newton-cg\", max_iter=1)\n",
    "elif (universe[\"model\"] == \"rf\"):\n",
    "    model = RandomForestClassifier() # n_estimators=100, n_jobs=-1\n",
    "elif (universe[\"model\"] == \"gbm\"):\n",
    "    model = GradientBoostingClassifier()\n",
    "elif (universe[\"model\"] == \"elasticnet\"):\n",
    "    model = LogisticRegression(penalty = 'elasticnet', solver = 'saga', l1_ratio = 0.5) # max_iter=5000\n",
    "else:\n",
    "    raise \"Unsupported universe.model\""
   ]
  },
  {
   "cell_type": "code",
   "execution_count": 31,
   "id": "0cc8f744",
   "metadata": {
    "execution": {
     "iopub.execute_input": "2025-08-05T15:03:35.816201Z",
     "iopub.status.busy": "2025-08-05T15:03:35.815445Z",
     "iopub.status.idle": "2025-08-05T15:03:35.820555Z",
     "shell.execute_reply": "2025-08-05T15:03:35.819847Z"
    },
    "papermill": {
     "duration": 0.016755,
     "end_time": "2025-08-05T15:03:35.821994",
     "exception": false,
     "start_time": "2025-08-05T15:03:35.805239",
     "status": "completed"
    },
    "tags": []
   },
   "outputs": [],
   "source": [
    "import numpy as np\n",
    "from sklearn.pipeline import Pipeline\n",
    "from sklearn.preprocessing import StandardScaler\n",
    "\n",
    "model = Pipeline([\n",
    "    #(\"continuous_processor\", continuous_processor),\n",
    "    #(\"categorical_preprocessor\", categorical_preprocessor),\n",
    "    (\"scale\", StandardScaler() if universe[\"scale\"] == \"scale\" else None), \n",
    "    (\"model\", model),\n",
    "])"
   ]
  },
  {
   "cell_type": "code",
   "execution_count": 32,
   "id": "9442c04d",
   "metadata": {
    "execution": {
     "iopub.execute_input": "2025-08-05T15:03:35.843847Z",
     "iopub.status.busy": "2025-08-05T15:03:35.843622Z",
     "iopub.status.idle": "2025-08-05T15:03:43.301941Z",
     "shell.execute_reply": "2025-08-05T15:03:43.301201Z"
    },
    "papermill": {
     "duration": 7.471332,
     "end_time": "2025-08-05T15:03:43.303187",
     "exception": false,
     "start_time": "2025-08-05T15:03:35.831855",
     "status": "completed"
    },
    "tags": []
   },
   "outputs": [
    {
     "name": "stderr",
     "output_type": "stream",
     "text": [
      "/dss/dsshome1/0C/ra93lal2/.local/share/virtualenvs/CMA_Fairness_v2-3j10GkSs/lib/python3.10/site-packages/sklearn/linear_model/_sag.py:350: ConvergenceWarning: The max_iter was reached which means the coef_ did not converge\n",
      "  warnings.warn(\n"
     ]
    },
    {
     "data": {
      "text/html": [
       "<style>#sk-container-id-1 {color: black;background-color: white;}#sk-container-id-1 pre{padding: 0;}#sk-container-id-1 div.sk-toggleable {background-color: white;}#sk-container-id-1 label.sk-toggleable__label {cursor: pointer;display: block;width: 100%;margin-bottom: 0;padding: 0.3em;box-sizing: border-box;text-align: center;}#sk-container-id-1 label.sk-toggleable__label-arrow:before {content: \"▸\";float: left;margin-right: 0.25em;color: #696969;}#sk-container-id-1 label.sk-toggleable__label-arrow:hover:before {color: black;}#sk-container-id-1 div.sk-estimator:hover label.sk-toggleable__label-arrow:before {color: black;}#sk-container-id-1 div.sk-toggleable__content {max-height: 0;max-width: 0;overflow: hidden;text-align: left;background-color: #f0f8ff;}#sk-container-id-1 div.sk-toggleable__content pre {margin: 0.2em;color: black;border-radius: 0.25em;background-color: #f0f8ff;}#sk-container-id-1 input.sk-toggleable__control:checked~div.sk-toggleable__content {max-height: 200px;max-width: 100%;overflow: auto;}#sk-container-id-1 input.sk-toggleable__control:checked~label.sk-toggleable__label-arrow:before {content: \"▾\";}#sk-container-id-1 div.sk-estimator input.sk-toggleable__control:checked~label.sk-toggleable__label {background-color: #d4ebff;}#sk-container-id-1 div.sk-label input.sk-toggleable__control:checked~label.sk-toggleable__label {background-color: #d4ebff;}#sk-container-id-1 input.sk-hidden--visually {border: 0;clip: rect(1px 1px 1px 1px);clip: rect(1px, 1px, 1px, 1px);height: 1px;margin: -1px;overflow: hidden;padding: 0;position: absolute;width: 1px;}#sk-container-id-1 div.sk-estimator {font-family: monospace;background-color: #f0f8ff;border: 1px dotted black;border-radius: 0.25em;box-sizing: border-box;margin-bottom: 0.5em;}#sk-container-id-1 div.sk-estimator:hover {background-color: #d4ebff;}#sk-container-id-1 div.sk-parallel-item::after {content: \"\";width: 100%;border-bottom: 1px solid gray;flex-grow: 1;}#sk-container-id-1 div.sk-label:hover label.sk-toggleable__label {background-color: #d4ebff;}#sk-container-id-1 div.sk-serial::before {content: \"\";position: absolute;border-left: 1px solid gray;box-sizing: border-box;top: 0;bottom: 0;left: 50%;z-index: 0;}#sk-container-id-1 div.sk-serial {display: flex;flex-direction: column;align-items: center;background-color: white;padding-right: 0.2em;padding-left: 0.2em;position: relative;}#sk-container-id-1 div.sk-item {position: relative;z-index: 1;}#sk-container-id-1 div.sk-parallel {display: flex;align-items: stretch;justify-content: center;background-color: white;position: relative;}#sk-container-id-1 div.sk-item::before, #sk-container-id-1 div.sk-parallel-item::before {content: \"\";position: absolute;border-left: 1px solid gray;box-sizing: border-box;top: 0;bottom: 0;left: 50%;z-index: -1;}#sk-container-id-1 div.sk-parallel-item {display: flex;flex-direction: column;z-index: 1;position: relative;background-color: white;}#sk-container-id-1 div.sk-parallel-item:first-child::after {align-self: flex-end;width: 50%;}#sk-container-id-1 div.sk-parallel-item:last-child::after {align-self: flex-start;width: 50%;}#sk-container-id-1 div.sk-parallel-item:only-child::after {width: 0;}#sk-container-id-1 div.sk-dashed-wrapped {border: 1px dashed gray;margin: 0 0.4em 0.5em 0.4em;box-sizing: border-box;padding-bottom: 0.4em;background-color: white;}#sk-container-id-1 div.sk-label label {font-family: monospace;font-weight: bold;display: inline-block;line-height: 1.2em;}#sk-container-id-1 div.sk-label-container {text-align: center;}#sk-container-id-1 div.sk-container {/* jupyter's `normalize.less` sets `[hidden] { display: none; }` but bootstrap.min.css set `[hidden] { display: none !important; }` so we also need the `!important` here to be able to override the default hidden behavior on the sphinx rendered scikit-learn.org. See: https://github.com/scikit-learn/scikit-learn/issues/21755 */display: inline-block !important;position: relative;}#sk-container-id-1 div.sk-text-repr-fallback {display: none;}</style><div id=\"sk-container-id-1\" class=\"sk-top-container\"><div class=\"sk-text-repr-fallback\"><pre>Pipeline(steps=[(&#x27;scale&#x27;, None),\n",
       "                (&#x27;model&#x27;,\n",
       "                 LogisticRegression(l1_ratio=0.5, penalty=&#x27;elasticnet&#x27;,\n",
       "                                    solver=&#x27;saga&#x27;))])</pre><b>In a Jupyter environment, please rerun this cell to show the HTML representation or trust the notebook. <br />On GitHub, the HTML representation is unable to render, please try loading this page with nbviewer.org.</b></div><div class=\"sk-container\" hidden><div class=\"sk-item sk-dashed-wrapped\"><div class=\"sk-label-container\"><div class=\"sk-label sk-toggleable\"><input class=\"sk-toggleable__control sk-hidden--visually\" id=\"sk-estimator-id-1\" type=\"checkbox\" ><label for=\"sk-estimator-id-1\" class=\"sk-toggleable__label sk-toggleable__label-arrow\">Pipeline</label><div class=\"sk-toggleable__content\"><pre>Pipeline(steps=[(&#x27;scale&#x27;, None),\n",
       "                (&#x27;model&#x27;,\n",
       "                 LogisticRegression(l1_ratio=0.5, penalty=&#x27;elasticnet&#x27;,\n",
       "                                    solver=&#x27;saga&#x27;))])</pre></div></div></div><div class=\"sk-serial\"><div class=\"sk-item\"><div class=\"sk-estimator sk-toggleable\"><input class=\"sk-toggleable__control sk-hidden--visually\" id=\"sk-estimator-id-2\" type=\"checkbox\" ><label for=\"sk-estimator-id-2\" class=\"sk-toggleable__label sk-toggleable__label-arrow\">None</label><div class=\"sk-toggleable__content\"><pre>None</pre></div></div></div><div class=\"sk-item\"><div class=\"sk-estimator sk-toggleable\"><input class=\"sk-toggleable__control sk-hidden--visually\" id=\"sk-estimator-id-3\" type=\"checkbox\" ><label for=\"sk-estimator-id-3\" class=\"sk-toggleable__label sk-toggleable__label-arrow\">LogisticRegression</label><div class=\"sk-toggleable__content\"><pre>LogisticRegression(l1_ratio=0.5, penalty=&#x27;elasticnet&#x27;, solver=&#x27;saga&#x27;)</pre></div></div></div></div></div></div></div>"
      ],
      "text/plain": [
       "Pipeline(steps=[('scale', None),\n",
       "                ('model',\n",
       "                 LogisticRegression(l1_ratio=0.5, penalty='elasticnet',\n",
       "                                    solver='saga'))])"
      ]
     },
     "execution_count": 32,
     "metadata": {},
     "output_type": "execute_result"
    }
   ],
   "source": [
    "model.fit(X_train, y_train.values.ravel())"
   ]
  },
  {
   "cell_type": "code",
   "execution_count": 33,
   "id": "af59f8c0",
   "metadata": {
    "execution": {
     "iopub.execute_input": "2025-08-05T15:03:43.326947Z",
     "iopub.status.busy": "2025-08-05T15:03:43.326437Z",
     "iopub.status.idle": "2025-08-05T15:03:43.330851Z",
     "shell.execute_reply": "2025-08-05T15:03:43.330111Z"
    },
    "papermill": {
     "duration": 0.016258,
     "end_time": "2025-08-05T15:03:43.332264",
     "exception": false,
     "start_time": "2025-08-05T15:03:43.316006",
     "status": "completed"
    },
    "tags": []
   },
   "outputs": [],
   "source": [
    "from fairness_multiverse.universe import predict_w_threshold"
   ]
  },
  {
   "cell_type": "code",
   "execution_count": 34,
   "id": "a7cf2e16",
   "metadata": {
    "execution": {
     "iopub.execute_input": "2025-08-05T15:03:43.353776Z",
     "iopub.status.busy": "2025-08-05T15:03:43.353550Z",
     "iopub.status.idle": "2025-08-05T15:03:43.437314Z",
     "shell.execute_reply": "2025-08-05T15:03:43.436414Z"
    },
    "papermill": {
     "duration": 0.095739,
     "end_time": "2025-08-05T15:03:43.438723",
     "exception": false,
     "start_time": "2025-08-05T15:03:43.342984",
     "status": "completed"
    },
    "tags": []
   },
   "outputs": [
    {
     "data": {
      "text/plain": [
       "0.8653550328837365"
      ]
     },
     "execution_count": 34,
     "metadata": {},
     "output_type": "execute_result"
    }
   ],
   "source": [
    "probs_test = model.predict_proba(X_test)\n",
    "\n",
    "'''\n",
    "Below code returns a boolean array (or binary 0/1 array depending on how it’s used) where each element \n",
    "is True if the probability of class 1 is greater than or equal to the threshold, and False otherwise.\n",
    "'''\n",
    "y_pred_default = predict_w_threshold(probs_test, 0.5)\n",
    "\n",
    "from sklearn.metrics import accuracy_score\n",
    "\n",
    "# Naive prediction\n",
    "accuracy_score(y_true = y_true, y_pred = y_pred_default)"
   ]
  },
  {
   "cell_type": "code",
   "execution_count": 35,
   "id": "081964c3",
   "metadata": {
    "execution": {
     "iopub.execute_input": "2025-08-05T15:03:43.460612Z",
     "iopub.status.busy": "2025-08-05T15:03:43.460317Z",
     "iopub.status.idle": "2025-08-05T15:03:43.533434Z",
     "shell.execute_reply": "2025-08-05T15:03:43.532537Z"
    },
    "papermill": {
     "duration": 0.085414,
     "end_time": "2025-08-05T15:03:43.534886",
     "exception": false,
     "start_time": "2025-08-05T15:03:43.449472",
     "status": "completed"
    },
    "tags": []
   },
   "outputs": [
    {
     "data": {
      "text/plain": [
       "array([0, 0, 0, ..., 0, 0, 0])"
      ]
     },
     "execution_count": 35,
     "metadata": {},
     "output_type": "execute_result"
    }
   ],
   "source": [
    "model.predict(X_test)"
   ]
  },
  {
   "cell_type": "markdown",
   "id": "56c9705b",
   "metadata": {
    "papermill": {
     "duration": 0.01001,
     "end_time": "2025-08-05T15:03:43.555709",
     "exception": false,
     "start_time": "2025-08-05T15:03:43.545699",
     "status": "completed"
    },
    "tags": []
   },
   "source": [
    "# Conformal Prediction"
   ]
  },
  {
   "cell_type": "code",
   "execution_count": 36,
   "id": "160ec6ff",
   "metadata": {
    "execution": {
     "iopub.execute_input": "2025-08-05T15:03:43.576835Z",
     "iopub.status.busy": "2025-08-05T15:03:43.576324Z",
     "iopub.status.idle": "2025-08-05T15:03:43.580670Z",
     "shell.execute_reply": "2025-08-05T15:03:43.579908Z"
    },
    "papermill": {
     "duration": 0.01668,
     "end_time": "2025-08-05T15:03:43.582201",
     "exception": false,
     "start_time": "2025-08-05T15:03:43.565521",
     "status": "completed"
    },
    "tags": []
   },
   "outputs": [],
   "source": [
    "# Miscoverage level for conformal prediction (10% allowed error rate => 90% target coverage)\n",
    "alpha = 0.1"
   ]
  },
  {
   "cell_type": "code",
   "execution_count": 37,
   "id": "eadf4555-3dd3-440e-8e35-f82a4ad9f855",
   "metadata": {
    "execution": {
     "iopub.execute_input": "2025-08-05T15:03:43.604043Z",
     "iopub.status.busy": "2025-08-05T15:03:43.603822Z",
     "iopub.status.idle": "2025-08-05T15:03:43.674570Z",
     "shell.execute_reply": "2025-08-05T15:03:43.673794Z"
    },
    "papermill": {
     "duration": 0.083002,
     "end_time": "2025-08-05T15:03:43.676119",
     "exception": false,
     "start_time": "2025-08-05T15:03:43.593117",
     "status": "completed"
    },
    "tags": []
   },
   "outputs": [],
   "source": [
    "probs_calib = model.predict_proba(X_calib)"
   ]
  },
  {
   "cell_type": "code",
   "execution_count": 38,
   "id": "2ed93547-6d5d-4983-9b36-1ecb300da49a",
   "metadata": {
    "execution": {
     "iopub.execute_input": "2025-08-05T15:03:43.698299Z",
     "iopub.status.busy": "2025-08-05T15:03:43.697792Z",
     "iopub.status.idle": "2025-08-05T15:03:43.702571Z",
     "shell.execute_reply": "2025-08-05T15:03:43.701840Z"
    },
    "papermill": {
     "duration": 0.017147,
     "end_time": "2025-08-05T15:03:43.704173",
     "exception": false,
     "start_time": "2025-08-05T15:03:43.687026",
     "status": "completed"
    },
    "tags": []
   },
   "outputs": [],
   "source": [
    "y_calib = y_calib.values.ravel().astype(int)"
   ]
  },
  {
   "cell_type": "code",
   "execution_count": 39,
   "id": "65d1320d-f588-4b38-9072-62af1ae97f7d",
   "metadata": {
    "execution": {
     "iopub.execute_input": "2025-08-05T15:03:43.727069Z",
     "iopub.status.busy": "2025-08-05T15:03:43.726410Z",
     "iopub.status.idle": "2025-08-05T15:03:43.733747Z",
     "shell.execute_reply": "2025-08-05T15:03:43.732627Z"
    },
    "papermill": {
     "duration": 0.024778,
     "end_time": "2025-08-05T15:03:43.739832",
     "exception": false,
     "start_time": "2025-08-05T15:03:43.715054",
     "status": "completed"
    },
    "tags": []
   },
   "outputs": [],
   "source": [
    "from fairness_multiverse.conformal import compute_nc_scores\n",
    "\n",
    "# Compute nonconformity scores on calibration set (1 - probability of true class)\n",
    "nc_scores = compute_nc_scores(probs_calib, y_calib)"
   ]
  },
  {
   "cell_type": "code",
   "execution_count": 40,
   "id": "df3b8ca3-53b7-43d5-9667-7c85da7aeda2",
   "metadata": {
    "execution": {
     "iopub.execute_input": "2025-08-05T15:03:43.782970Z",
     "iopub.status.busy": "2025-08-05T15:03:43.782524Z",
     "iopub.status.idle": "2025-08-05T15:03:43.789522Z",
     "shell.execute_reply": "2025-08-05T15:03:43.788484Z"
    },
    "papermill": {
     "duration": 0.031224,
     "end_time": "2025-08-05T15:03:43.791141",
     "exception": false,
     "start_time": "2025-08-05T15:03:43.759917",
     "status": "completed"
    },
    "tags": []
   },
   "outputs": [],
   "source": [
    "from fairness_multiverse.conformal import find_threshold\n",
    "\n",
    "# Find conformal threshold q_hat for the given alpha (split conformal method)\n",
    "q_hat = find_threshold(nc_scores, alpha)"
   ]
  },
  {
   "cell_type": "code",
   "execution_count": 41,
   "id": "4d29e6c1-0ef6-4aa4-b8fe-4fe79b0d033a",
   "metadata": {
    "execution": {
     "iopub.execute_input": "2025-08-05T15:03:43.833006Z",
     "iopub.status.busy": "2025-08-05T15:03:43.832635Z",
     "iopub.status.idle": "2025-08-05T15:03:43.839707Z",
     "shell.execute_reply": "2025-08-05T15:03:43.838667Z"
    },
    "papermill": {
     "duration": 0.029503,
     "end_time": "2025-08-05T15:03:43.841611",
     "exception": false,
     "start_time": "2025-08-05T15:03:43.812108",
     "status": "completed"
    },
    "tags": []
   },
   "outputs": [
    {
     "data": {
      "text/plain": [
       "0.6575427929185216"
      ]
     },
     "execution_count": 41,
     "metadata": {},
     "output_type": "execute_result"
    }
   ],
   "source": [
    "q_hat"
   ]
  },
  {
   "cell_type": "code",
   "execution_count": 42,
   "id": "92460794-cdac-4be2-ba28-f28c0515a6fb",
   "metadata": {
    "execution": {
     "iopub.execute_input": "2025-08-05T15:03:43.883990Z",
     "iopub.status.busy": "2025-08-05T15:03:43.883462Z",
     "iopub.status.idle": "2025-08-05T15:03:44.563416Z",
     "shell.execute_reply": "2025-08-05T15:03:44.562622Z"
    },
    "papermill": {
     "duration": 0.702119,
     "end_time": "2025-08-05T15:03:44.565309",
     "exception": false,
     "start_time": "2025-08-05T15:03:43.863190",
     "status": "completed"
    },
    "tags": []
   },
   "outputs": [],
   "source": [
    "from fairness_multiverse.conformal import predict_conformal_sets\n",
    "\n",
    "# Generate prediction sets for each test example\n",
    "pred_sets = predict_conformal_sets(model, X_test, q_hat)"
   ]
  },
  {
   "cell_type": "code",
   "execution_count": 43,
   "id": "d90c9a65-e6db-4f5d-80cd-e68fb7e46829",
   "metadata": {
    "execution": {
     "iopub.execute_input": "2025-08-05T15:03:44.606342Z",
     "iopub.status.busy": "2025-08-05T15:03:44.605847Z",
     "iopub.status.idle": "2025-08-05T15:03:44.611773Z",
     "shell.execute_reply": "2025-08-05T15:03:44.610717Z"
    },
    "papermill": {
     "duration": 0.027746,
     "end_time": "2025-08-05T15:03:44.613612",
     "exception": false,
     "start_time": "2025-08-05T15:03:44.585866",
     "status": "completed"
    },
    "tags": []
   },
   "outputs": [],
   "source": [
    "y_true = y_true.squeeze()"
   ]
  },
  {
   "cell_type": "code",
   "execution_count": 44,
   "id": "3a58a54a-1e68-46b9-927a-df01f18aebc8",
   "metadata": {
    "execution": {
     "iopub.execute_input": "2025-08-05T15:03:44.655557Z",
     "iopub.status.busy": "2025-08-05T15:03:44.655048Z",
     "iopub.status.idle": "2025-08-05T15:03:45.706461Z",
     "shell.execute_reply": "2025-08-05T15:03:45.705490Z"
    },
    "papermill": {
     "duration": 1.074291,
     "end_time": "2025-08-05T15:03:45.708569",
     "exception": false,
     "start_time": "2025-08-05T15:03:44.634278",
     "status": "completed"
    },
    "tags": []
   },
   "outputs": [],
   "source": [
    "from fairness_multiverse.conformal import evaluate_sets\n",
    "\n",
    "# Evaluate coverage and average set size on test data\n",
    "metrics = evaluate_sets(pred_sets, y_true)"
   ]
  },
  {
   "cell_type": "markdown",
   "id": "2b569c12-9aaa-4c88-98c9-bbcd0cf3ebb8",
   "metadata": {
    "papermill": {
     "duration": 0.019205,
     "end_time": "2025-08-05T15:03:45.748611",
     "exception": false,
     "start_time": "2025-08-05T15:03:45.729406",
     "status": "completed"
    },
    "tags": []
   },
   "source": [
    "# CP Metrics"
   ]
  },
  {
   "cell_type": "code",
   "execution_count": 45,
   "id": "5ce0a5cb-201f-45a0-ade5-94c7f0bd6095",
   "metadata": {
    "execution": {
     "iopub.execute_input": "2025-08-05T15:03:45.791494Z",
     "iopub.status.busy": "2025-08-05T15:03:45.791027Z",
     "iopub.status.idle": "2025-08-05T15:03:45.798079Z",
     "shell.execute_reply": "2025-08-05T15:03:45.797054Z"
    },
    "papermill": {
     "duration": 0.030263,
     "end_time": "2025-08-05T15:03:45.799676",
     "exception": false,
     "start_time": "2025-08-05T15:03:45.769413",
     "status": "completed"
    },
    "tags": []
   },
   "outputs": [
    {
     "data": {
      "text/plain": [
       "{'coverage': 0.9139114925872255, 'avg_size': 1.2491695463159067}"
      ]
     },
     "execution_count": 45,
     "metadata": {},
     "output_type": "execute_result"
    }
   ],
   "source": [
    "metrics"
   ]
  },
  {
   "cell_type": "code",
   "execution_count": 46,
   "id": "9b9a838d-31c9-430b-ae14-12baee460d17",
   "metadata": {
    "execution": {
     "iopub.execute_input": "2025-08-05T15:03:45.842204Z",
     "iopub.status.busy": "2025-08-05T15:03:45.841556Z",
     "iopub.status.idle": "2025-08-05T15:03:45.848280Z",
     "shell.execute_reply": "2025-08-05T15:03:45.847305Z"
    },
    "papermill": {
     "duration": 0.030099,
     "end_time": "2025-08-05T15:03:45.850111",
     "exception": false,
     "start_time": "2025-08-05T15:03:45.820012",
     "status": "completed"
    },
    "tags": []
   },
   "outputs": [],
   "source": [
    "example_universe = universe.copy()\n",
    "universe_training_year = example_universe.get(\"training_year\")\n",
    "universe_training_size = example_universe.get(\"training_size\")\n",
    "universe_scale = example_universe.get(\"scale\")\n",
    "universe_model = example_universe.get(\"model\")\n",
    "universe_exclude_features = example_universe.get(\"exclude_features\")\n",
    "universe_exclude_subgroups = example_universe.get(\"exclude_subgroups\")"
   ]
  },
  {
   "cell_type": "code",
   "execution_count": 47,
   "id": "f4b6a8ac-9dc0-4245-8a91-5b3b5999c4f9",
   "metadata": {
    "execution": {
     "iopub.execute_input": "2025-08-05T15:03:45.895482Z",
     "iopub.status.busy": "2025-08-05T15:03:45.895142Z",
     "iopub.status.idle": "2025-08-05T15:03:45.901071Z",
     "shell.execute_reply": "2025-08-05T15:03:45.900096Z"
    },
    "papermill": {
     "duration": 0.030592,
     "end_time": "2025-08-05T15:03:45.902823",
     "exception": false,
     "start_time": "2025-08-05T15:03:45.872231",
     "status": "completed"
    },
    "tags": []
   },
   "outputs": [],
   "source": [
    "cp_metrics_dict = {\n",
    "    \"universe_id\": [universe_id],\n",
    "    \"universe_training_year\": [universe_training_year],\n",
    "    \"universe_training_size\": [universe_training_size],\n",
    "    \"universe_scale\": [universe_scale],\n",
    "    \"universe_model\": [universe_model],\n",
    "    \"universe_exclude_features\": [universe_exclude_features],\n",
    "    \"universe_exclude_subgroups\": [universe_exclude_subgroups],\n",
    "    \"q_hat\": [q_hat],\n",
    "    \"coverage\": [metrics[\"coverage\"]],\n",
    "    \"avg_size\": [metrics[\"avg_size\"]],\n",
    "}"
   ]
  },
  {
   "cell_type": "code",
   "execution_count": 48,
   "id": "908acbb1-0371-4915-85ca-3fa520d2efe2",
   "metadata": {
    "execution": {
     "iopub.execute_input": "2025-08-05T15:03:45.947246Z",
     "iopub.status.busy": "2025-08-05T15:03:45.946455Z",
     "iopub.status.idle": "2025-08-05T15:03:45.955220Z",
     "shell.execute_reply": "2025-08-05T15:03:45.954339Z"
    },
    "papermill": {
     "duration": 0.0325,
     "end_time": "2025-08-05T15:03:45.956832",
     "exception": false,
     "start_time": "2025-08-05T15:03:45.924332",
     "status": "completed"
    },
    "tags": []
   },
   "outputs": [
    {
     "data": {
      "text/plain": [
       "{'universe_id': ['df2a7d039164c2cc1a933f36285d4165'],\n",
       " 'universe_training_year': ['2012_14'],\n",
       " 'universe_training_size': ['25k'],\n",
       " 'universe_scale': ['do-not-scale'],\n",
       " 'universe_model': ['elasticnet'],\n",
       " 'universe_exclude_features': ['nationality-sex'],\n",
       " 'universe_exclude_subgroups': ['drop-non-german'],\n",
       " 'q_hat': [0.6575427929185216],\n",
       " 'coverage': [0.9139114925872255],\n",
       " 'avg_size': [1.2491695463159067]}"
      ]
     },
     "execution_count": 48,
     "metadata": {},
     "output_type": "execute_result"
    }
   ],
   "source": [
    "cp_metrics_dict"
   ]
  },
  {
   "cell_type": "code",
   "execution_count": 49,
   "id": "33007efc-14e9-4ec6-97ac-56a455c82265",
   "metadata": {
    "execution": {
     "iopub.execute_input": "2025-08-05T15:03:46.000666Z",
     "iopub.status.busy": "2025-08-05T15:03:46.000182Z",
     "iopub.status.idle": "2025-08-05T15:03:46.006469Z",
     "shell.execute_reply": "2025-08-05T15:03:46.005415Z"
    },
    "papermill": {
     "duration": 0.02986,
     "end_time": "2025-08-05T15:03:46.008191",
     "exception": false,
     "start_time": "2025-08-05T15:03:45.978331",
     "status": "completed"
    },
    "tags": []
   },
   "outputs": [],
   "source": [
    "cp_metrics_df = pd.DataFrame(cp_metrics_dict)"
   ]
  },
  {
   "cell_type": "code",
   "execution_count": 50,
   "id": "db12611b-57b2-4910-b9d0-355adfd6e7bf",
   "metadata": {
    "execution": {
     "iopub.execute_input": "2025-08-05T15:03:46.051997Z",
     "iopub.status.busy": "2025-08-05T15:03:46.051261Z",
     "iopub.status.idle": "2025-08-05T15:03:46.070621Z",
     "shell.execute_reply": "2025-08-05T15:03:46.069720Z"
    },
    "papermill": {
     "duration": 0.043206,
     "end_time": "2025-08-05T15:03:46.072070",
     "exception": false,
     "start_time": "2025-08-05T15:03:46.028864",
     "status": "completed"
    },
    "tags": []
   },
   "outputs": [
    {
     "data": {
      "text/html": [
       "<div>\n",
       "<style scoped>\n",
       "    .dataframe tbody tr th:only-of-type {\n",
       "        vertical-align: middle;\n",
       "    }\n",
       "\n",
       "    .dataframe tbody tr th {\n",
       "        vertical-align: top;\n",
       "    }\n",
       "\n",
       "    .dataframe thead th {\n",
       "        text-align: right;\n",
       "    }\n",
       "</style>\n",
       "<table border=\"1\" class=\"dataframe\">\n",
       "  <thead>\n",
       "    <tr style=\"text-align: right;\">\n",
       "      <th></th>\n",
       "      <th>universe_id</th>\n",
       "      <th>universe_training_year</th>\n",
       "      <th>universe_training_size</th>\n",
       "      <th>universe_scale</th>\n",
       "      <th>universe_model</th>\n",
       "      <th>universe_exclude_features</th>\n",
       "      <th>universe_exclude_subgroups</th>\n",
       "      <th>q_hat</th>\n",
       "      <th>coverage</th>\n",
       "      <th>avg_size</th>\n",
       "    </tr>\n",
       "  </thead>\n",
       "  <tbody>\n",
       "    <tr>\n",
       "      <th>0</th>\n",
       "      <td>df2a7d039164c2cc1a933f36285d4165</td>\n",
       "      <td>2012_14</td>\n",
       "      <td>25k</td>\n",
       "      <td>do-not-scale</td>\n",
       "      <td>elasticnet</td>\n",
       "      <td>nationality-sex</td>\n",
       "      <td>drop-non-german</td>\n",
       "      <td>0.657543</td>\n",
       "      <td>0.913911</td>\n",
       "      <td>1.24917</td>\n",
       "    </tr>\n",
       "  </tbody>\n",
       "</table>\n",
       "</div>"
      ],
      "text/plain": [
       "                        universe_id universe_training_year  \\\n",
       "0  df2a7d039164c2cc1a933f36285d4165                2012_14   \n",
       "\n",
       "  universe_training_size universe_scale universe_model  \\\n",
       "0                    25k   do-not-scale     elasticnet   \n",
       "\n",
       "  universe_exclude_features universe_exclude_subgroups     q_hat  coverage  \\\n",
       "0           nationality-sex            drop-non-german  0.657543  0.913911   \n",
       "\n",
       "   avg_size  \n",
       "0   1.24917  "
      ]
     },
     "execution_count": 50,
     "metadata": {},
     "output_type": "execute_result"
    }
   ],
   "source": [
    "cp_metrics_df"
   ]
  },
  {
   "cell_type": "code",
   "execution_count": 51,
   "id": "b7fbde55-a0a1-47e4-9af6-fe4a17fa8c61",
   "metadata": {
    "execution": {
     "iopub.execute_input": "2025-08-05T15:03:46.116428Z",
     "iopub.status.busy": "2025-08-05T15:03:46.115567Z",
     "iopub.status.idle": "2025-08-05T15:03:46.120711Z",
     "shell.execute_reply": "2025-08-05T15:03:46.119599Z"
    },
    "papermill": {
     "duration": 0.029434,
     "end_time": "2025-08-05T15:03:46.122656",
     "exception": false,
     "start_time": "2025-08-05T15:03:46.093222",
     "status": "completed"
    },
    "tags": []
   },
   "outputs": [],
   "source": [
    "# Conditional Coverage & looking at subgroups"
   ]
  },
  {
   "cell_type": "code",
   "execution_count": 52,
   "id": "027ae886-68dd-4141-96c7-805a5450e1ef",
   "metadata": {
    "execution": {
     "iopub.execute_input": "2025-08-05T15:03:46.164032Z",
     "iopub.status.busy": "2025-08-05T15:03:46.163625Z",
     "iopub.status.idle": "2025-08-05T15:03:46.421474Z",
     "shell.execute_reply": "2025-08-05T15:03:46.420551Z"
    },
    "papermill": {
     "duration": 0.280141,
     "end_time": "2025-08-05T15:03:46.423248",
     "exception": false,
     "start_time": "2025-08-05T15:03:46.143107",
     "status": "completed"
    },
    "tags": []
   },
   "outputs": [],
   "source": [
    "from fairness_multiverse.conformal import build_cp_groups\n",
    "\n",
    "cp_groups_df = build_cp_groups(pred_sets, y_true, X_test.index, org_test)\n",
    "#needs universe_id and setting"
   ]
  },
  {
   "cell_type": "code",
   "execution_count": 53,
   "id": "6cbdab96-b2b2-45af-ad54-d0516db2e28d",
   "metadata": {
    "execution": {
     "iopub.execute_input": "2025-08-05T15:03:46.466268Z",
     "iopub.status.busy": "2025-08-05T15:03:46.465791Z",
     "iopub.status.idle": "2025-08-05T15:03:47.675225Z",
     "shell.execute_reply": "2025-08-05T15:03:47.674429Z"
    },
    "papermill": {
     "duration": 1.23148,
     "end_time": "2025-08-05T15:03:47.676716",
     "exception": false,
     "start_time": "2025-08-05T15:03:46.445236",
     "status": "completed"
    },
    "tags": []
   },
   "outputs": [],
   "source": [
    "# Define covered = 1 if true_label is in the predicted set\n",
    "cp_groups_df['covered'] = cp_groups_df.apply(\n",
    "    lambda r: int(r['true_label'] in r['pred_set']),\n",
    "    axis=1\n",
    ")"
   ]
  },
  {
   "cell_type": "code",
   "execution_count": 54,
   "id": "338ff529-1a6b-4b87-a931-8e4788d52aad",
   "metadata": {
    "execution": {
     "iopub.execute_input": "2025-08-05T15:03:47.700405Z",
     "iopub.status.busy": "2025-08-05T15:03:47.700106Z",
     "iopub.status.idle": "2025-08-05T15:03:47.704237Z",
     "shell.execute_reply": "2025-08-05T15:03:47.703343Z"
    },
    "papermill": {
     "duration": 0.017353,
     "end_time": "2025-08-05T15:03:47.705788",
     "exception": false,
     "start_time": "2025-08-05T15:03:47.688435",
     "status": "completed"
    },
    "tags": []
   },
   "outputs": [],
   "source": [
    "#cp_groups_df"
   ]
  },
  {
   "cell_type": "code",
   "execution_count": 55,
   "id": "90032e27-66df-4540-9169-4e89cfbaa758",
   "metadata": {
    "execution": {
     "iopub.execute_input": "2025-08-05T15:03:47.729825Z",
     "iopub.status.busy": "2025-08-05T15:03:47.729151Z",
     "iopub.status.idle": "2025-08-05T15:03:47.738035Z",
     "shell.execute_reply": "2025-08-05T15:03:47.737307Z"
    },
    "papermill": {
     "duration": 0.021787,
     "end_time": "2025-08-05T15:03:47.739407",
     "exception": false,
     "start_time": "2025-08-05T15:03:47.717620",
     "status": "completed"
    },
    "tags": []
   },
   "outputs": [],
   "source": [
    "subgroups = ['frau1','nongerman','nongerman_male','nongerman_female']\n",
    "\n",
    "# Conditional coverage for subgroup==1\n",
    "cond_coverage = {\n",
    "    g: cp_groups_df.loc[cp_groups_df[g]==1, 'covered'].mean()\n",
    "    for g in subgroups\n",
    "}"
   ]
  },
  {
   "cell_type": "code",
   "execution_count": 56,
   "id": "1e348fb1-b9c3-45bc-ba23-f016827a7e0d",
   "metadata": {
    "execution": {
     "iopub.execute_input": "2025-08-05T15:03:47.763499Z",
     "iopub.status.busy": "2025-08-05T15:03:47.763049Z",
     "iopub.status.idle": "2025-08-05T15:03:47.770951Z",
     "shell.execute_reply": "2025-08-05T15:03:47.769789Z"
    },
    "papermill": {
     "duration": 0.021557,
     "end_time": "2025-08-05T15:03:47.772653",
     "exception": false,
     "start_time": "2025-08-05T15:03:47.751096",
     "status": "completed"
    },
    "tags": []
   },
   "outputs": [
    {
     "data": {
      "text/plain": [
       "{'frau1': 0.9127645235206902,\n",
       " 'nongerman': 0.9609274125638578,\n",
       " 'nongerman_male': 0.9681167252094028,\n",
       " 'nongerman_female': 0.9490312965722801}"
      ]
     },
     "execution_count": 56,
     "metadata": {},
     "output_type": "execute_result"
    }
   ],
   "source": [
    "cond_coverage"
   ]
  },
  {
   "cell_type": "code",
   "execution_count": 57,
   "id": "f5093324-c3dd-4d63-bc4c-8d945e5c8bbb",
   "metadata": {
    "execution": {
     "iopub.execute_input": "2025-08-05T15:03:47.820829Z",
     "iopub.status.busy": "2025-08-05T15:03:47.820073Z",
     "iopub.status.idle": "2025-08-05T15:03:47.827961Z",
     "shell.execute_reply": "2025-08-05T15:03:47.826743Z"
    },
    "papermill": {
     "duration": 0.03347,
     "end_time": "2025-08-05T15:03:47.829558",
     "exception": false,
     "start_time": "2025-08-05T15:03:47.796088",
     "status": "completed"
    },
    "tags": []
   },
   "outputs": [],
   "source": [
    "for subgroup, cov in cond_coverage.items():\n",
    "    cp_metrics_df[f\"cov_{subgroup}\"] = cov"
   ]
  },
  {
   "cell_type": "code",
   "execution_count": 58,
   "id": "6e872e10-dbe5-49e8-b554-5030c98ff75d",
   "metadata": {
    "execution": {
     "iopub.execute_input": "2025-08-05T15:03:47.853693Z",
     "iopub.status.busy": "2025-08-05T15:03:47.853449Z",
     "iopub.status.idle": "2025-08-05T15:03:47.867329Z",
     "shell.execute_reply": "2025-08-05T15:03:47.866511Z"
    },
    "papermill": {
     "duration": 0.027198,
     "end_time": "2025-08-05T15:03:47.868640",
     "exception": false,
     "start_time": "2025-08-05T15:03:47.841442",
     "status": "completed"
    },
    "tags": []
   },
   "outputs": [
    {
     "data": {
      "text/html": [
       "<div>\n",
       "<style scoped>\n",
       "    .dataframe tbody tr th:only-of-type {\n",
       "        vertical-align: middle;\n",
       "    }\n",
       "\n",
       "    .dataframe tbody tr th {\n",
       "        vertical-align: top;\n",
       "    }\n",
       "\n",
       "    .dataframe thead th {\n",
       "        text-align: right;\n",
       "    }\n",
       "</style>\n",
       "<table border=\"1\" class=\"dataframe\">\n",
       "  <thead>\n",
       "    <tr style=\"text-align: right;\">\n",
       "      <th></th>\n",
       "      <th>universe_id</th>\n",
       "      <th>universe_training_year</th>\n",
       "      <th>universe_training_size</th>\n",
       "      <th>universe_scale</th>\n",
       "      <th>universe_model</th>\n",
       "      <th>universe_exclude_features</th>\n",
       "      <th>universe_exclude_subgroups</th>\n",
       "      <th>q_hat</th>\n",
       "      <th>coverage</th>\n",
       "      <th>avg_size</th>\n",
       "      <th>cov_frau1</th>\n",
       "      <th>cov_nongerman</th>\n",
       "      <th>cov_nongerman_male</th>\n",
       "      <th>cov_nongerman_female</th>\n",
       "    </tr>\n",
       "  </thead>\n",
       "  <tbody>\n",
       "    <tr>\n",
       "      <th>0</th>\n",
       "      <td>df2a7d039164c2cc1a933f36285d4165</td>\n",
       "      <td>2012_14</td>\n",
       "      <td>25k</td>\n",
       "      <td>do-not-scale</td>\n",
       "      <td>elasticnet</td>\n",
       "      <td>nationality-sex</td>\n",
       "      <td>drop-non-german</td>\n",
       "      <td>0.657543</td>\n",
       "      <td>0.913911</td>\n",
       "      <td>1.24917</td>\n",
       "      <td>0.912765</td>\n",
       "      <td>0.960927</td>\n",
       "      <td>0.968117</td>\n",
       "      <td>0.949031</td>\n",
       "    </tr>\n",
       "  </tbody>\n",
       "</table>\n",
       "</div>"
      ],
      "text/plain": [
       "                        universe_id universe_training_year  \\\n",
       "0  df2a7d039164c2cc1a933f36285d4165                2012_14   \n",
       "\n",
       "  universe_training_size universe_scale universe_model  \\\n",
       "0                    25k   do-not-scale     elasticnet   \n",
       "\n",
       "  universe_exclude_features universe_exclude_subgroups     q_hat  coverage  \\\n",
       "0           nationality-sex            drop-non-german  0.657543  0.913911   \n",
       "\n",
       "   avg_size  cov_frau1  cov_nongerman  cov_nongerman_male  \\\n",
       "0   1.24917   0.912765       0.960927            0.968117   \n",
       "\n",
       "   cov_nongerman_female  \n",
       "0              0.949031  "
      ]
     },
     "execution_count": 58,
     "metadata": {},
     "output_type": "execute_result"
    }
   ],
   "source": [
    "cp_metrics_df"
   ]
  },
  {
   "cell_type": "markdown",
   "id": "33774451",
   "metadata": {
    "papermill": {
     "duration": 0.011163,
     "end_time": "2025-08-05T15:03:47.891496",
     "exception": false,
     "start_time": "2025-08-05T15:03:47.880333",
     "status": "completed"
    },
    "tags": []
   },
   "source": [
    "# (Fairness) Metrics"
   ]
  },
  {
   "cell_type": "code",
   "execution_count": 59,
   "id": "debc5d62",
   "metadata": {
    "execution": {
     "iopub.execute_input": "2025-08-05T15:03:47.915282Z",
     "iopub.status.busy": "2025-08-05T15:03:47.914776Z",
     "iopub.status.idle": "2025-08-05T15:03:47.929492Z",
     "shell.execute_reply": "2025-08-05T15:03:47.928478Z"
    },
    "papermill": {
     "duration": 0.028137,
     "end_time": "2025-08-05T15:03:47.930912",
     "exception": false,
     "start_time": "2025-08-05T15:03:47.902775",
     "status": "completed"
    },
    "tags": []
   },
   "outputs": [],
   "source": [
    "# do I need to include maxdeutsch1.missing?\n",
    "\n",
    "import numpy as np\n",
    "\n",
    "colname_to_bin = \"maxdeutsch1\"\n",
    "majority_value = org_train[colname_to_bin].mode()[0]\n",
    "\n",
    "org_test[\"majmin\"] = np.where(org_test[colname_to_bin] == majority_value, \"majority\", \"minority\")"
   ]
  },
  {
   "cell_type": "code",
   "execution_count": 60,
   "id": "06a50de5",
   "metadata": {
    "execution": {
     "iopub.execute_input": "2025-08-05T15:03:47.976434Z",
     "iopub.status.busy": "2025-08-05T15:03:47.975991Z",
     "iopub.status.idle": "2025-08-05T15:03:50.496440Z",
     "shell.execute_reply": "2025-08-05T15:03:50.495473Z"
    },
    "papermill": {
     "duration": 2.546775,
     "end_time": "2025-08-05T15:03:50.498361",
     "exception": false,
     "start_time": "2025-08-05T15:03:47.951586",
     "status": "completed"
    },
    "tags": []
   },
   "outputs": [],
   "source": [
    "example_universe = universe.copy()\n",
    "example_universe[\"cutoff\"] = example_universe[\"cutoff\"][0]\n",
    "example_universe[\"eval_fairness_grouping\"] = example_universe[\"eval_fairness_grouping\"][0]\n",
    "fairness_dict, metric_frame = universe_analysis.compute_metrics(\n",
    "    example_universe,\n",
    "    y_pred_prob=probs_test,\n",
    "    y_test=y_true,\n",
    "    org_test=org_test,\n",
    ")"
   ]
  },
  {
   "cell_type": "markdown",
   "id": "f95d4e02",
   "metadata": {
    "papermill": {
     "duration": 0.025268,
     "end_time": "2025-08-05T15:03:50.549833",
     "exception": false,
     "start_time": "2025-08-05T15:03:50.524565",
     "status": "completed"
    },
    "tags": []
   },
   "source": [
    "# Overall"
   ]
  },
  {
   "cell_type": "markdown",
   "id": "bdee4871",
   "metadata": {
    "papermill": {
     "duration": 0.025495,
     "end_time": "2025-08-05T15:03:50.599241",
     "exception": false,
     "start_time": "2025-08-05T15:03:50.573746",
     "status": "completed"
    },
    "tags": []
   },
   "source": [
    "Fairness\n",
    "Main fairness target: Equalized Odds. Seems to be a better fit than equal opportunity, since we're not only interested in Y = 1. Seems to be a better fit than demographic parity, since we also care about accuracy, not just equal distribution of preds.\n",
    "\n",
    "Pick column for computation of fairness metrics\n",
    "\n",
    "Performance\n",
    "Overall performance measures, most interesting in relation to the measures split by group below"
   ]
  },
  {
   "cell_type": "code",
   "execution_count": 61,
   "id": "c4e067c6",
   "metadata": {
    "execution": {
     "iopub.execute_input": "2025-08-05T15:03:50.650213Z",
     "iopub.status.busy": "2025-08-05T15:03:50.649545Z",
     "iopub.status.idle": "2025-08-05T15:03:50.659463Z",
     "shell.execute_reply": "2025-08-05T15:03:50.658269Z"
    },
    "papermill": {
     "duration": 0.037996,
     "end_time": "2025-08-05T15:03:50.661646",
     "exception": false,
     "start_time": "2025-08-05T15:03:50.623650",
     "status": "completed"
    },
    "tags": []
   },
   "outputs": [
    {
     "data": {
      "text/plain": [
       "accuracy                   0.216330\n",
       "balanced accuracy          0.530643\n",
       "f1                         0.237883\n",
       "precision                  0.135895\n",
       "false positive rate        0.892138\n",
       "false negative rate        0.046576\n",
       "selection rate             0.900000\n",
       "count                  89710.000000\n",
       "dtype: float64"
      ]
     },
     "execution_count": 61,
     "metadata": {},
     "output_type": "execute_result"
    }
   ],
   "source": [
    "metric_frame.overall"
   ]
  },
  {
   "cell_type": "markdown",
   "id": "e968fe9d",
   "metadata": {
    "papermill": {
     "duration": 0.024357,
     "end_time": "2025-08-05T15:03:50.711868",
     "exception": false,
     "start_time": "2025-08-05T15:03:50.687511",
     "status": "completed"
    },
    "tags": []
   },
   "source": [
    "By Group"
   ]
  },
  {
   "cell_type": "code",
   "execution_count": 62,
   "id": "ec325bce",
   "metadata": {
    "execution": {
     "iopub.execute_input": "2025-08-05T15:03:50.763561Z",
     "iopub.status.busy": "2025-08-05T15:03:50.762898Z",
     "iopub.status.idle": "2025-08-05T15:03:50.778845Z",
     "shell.execute_reply": "2025-08-05T15:03:50.777724Z"
    },
    "papermill": {
     "duration": 0.043263,
     "end_time": "2025-08-05T15:03:50.780663",
     "exception": false,
     "start_time": "2025-08-05T15:03:50.737400",
     "status": "completed"
    },
    "tags": []
   },
   "outputs": [
    {
     "data": {
      "text/html": [
       "<div>\n",
       "<style scoped>\n",
       "    .dataframe tbody tr th:only-of-type {\n",
       "        vertical-align: middle;\n",
       "    }\n",
       "\n",
       "    .dataframe tbody tr th {\n",
       "        vertical-align: top;\n",
       "    }\n",
       "\n",
       "    .dataframe thead th {\n",
       "        text-align: right;\n",
       "    }\n",
       "</style>\n",
       "<table border=\"1\" class=\"dataframe\">\n",
       "  <thead>\n",
       "    <tr style=\"text-align: right;\">\n",
       "      <th></th>\n",
       "      <th>accuracy</th>\n",
       "      <th>balanced accuracy</th>\n",
       "      <th>f1</th>\n",
       "      <th>precision</th>\n",
       "      <th>false positive rate</th>\n",
       "      <th>false negative rate</th>\n",
       "      <th>selection rate</th>\n",
       "      <th>count</th>\n",
       "    </tr>\n",
       "    <tr>\n",
       "      <th>majmin</th>\n",
       "      <th></th>\n",
       "      <th></th>\n",
       "      <th></th>\n",
       "      <th></th>\n",
       "      <th></th>\n",
       "      <th></th>\n",
       "      <th></th>\n",
       "      <th></th>\n",
       "    </tr>\n",
       "  </thead>\n",
       "  <tbody>\n",
       "    <tr>\n",
       "      <th>majority</th>\n",
       "      <td>0.237675</td>\n",
       "      <td>0.538589</td>\n",
       "      <td>0.247273</td>\n",
       "      <td>0.142189</td>\n",
       "      <td>0.870415</td>\n",
       "      <td>0.052407</td>\n",
       "      <td>0.880613</td>\n",
       "      <td>69170.0</td>\n",
       "    </tr>\n",
       "    <tr>\n",
       "      <th>minority</th>\n",
       "      <td>0.144450</td>\n",
       "      <td>0.506014</td>\n",
       "      <td>0.208245</td>\n",
       "      <td>0.116558</td>\n",
       "      <td>0.963901</td>\n",
       "      <td>0.024071</td>\n",
       "      <td>0.965287</td>\n",
       "      <td>20540.0</td>\n",
       "    </tr>\n",
       "  </tbody>\n",
       "</table>\n",
       "</div>"
      ],
      "text/plain": [
       "          accuracy  balanced accuracy        f1  precision  \\\n",
       "majmin                                                       \n",
       "majority  0.237675           0.538589  0.247273   0.142189   \n",
       "minority  0.144450           0.506014  0.208245   0.116558   \n",
       "\n",
       "          false positive rate  false negative rate  selection rate    count  \n",
       "majmin                                                                       \n",
       "majority             0.870415             0.052407        0.880613  69170.0  \n",
       "minority             0.963901             0.024071        0.965287  20540.0  "
      ]
     },
     "execution_count": 62,
     "metadata": {},
     "output_type": "execute_result"
    }
   ],
   "source": [
    "metric_frame.by_group"
   ]
  },
  {
   "cell_type": "code",
   "execution_count": 63,
   "id": "a9ddbe63",
   "metadata": {
    "execution": {
     "iopub.execute_input": "2025-08-05T15:03:50.834196Z",
     "iopub.status.busy": "2025-08-05T15:03:50.833229Z",
     "iopub.status.idle": "2025-08-05T15:03:53.464416Z",
     "shell.execute_reply": "2025-08-05T15:03:53.463462Z"
    },
    "papermill": {
     "duration": 2.658696,
     "end_time": "2025-08-05T15:03:53.466086",
     "exception": false,
     "start_time": "2025-08-05T15:03:50.807390",
     "status": "completed"
    },
    "tags": []
   },
   "outputs": [
    {
     "data": {
      "text/plain": [
       "array([[<Axes: title={'center': 'accuracy'}, xlabel='majmin'>,\n",
       "        <Axes: title={'center': 'balanced accuracy'}, xlabel='majmin'>,\n",
       "        <Axes: title={'center': 'f1'}, xlabel='majmin'>],\n",
       "       [<Axes: title={'center': 'precision'}, xlabel='majmin'>,\n",
       "        <Axes: title={'center': 'false positive rate'}, xlabel='majmin'>,\n",
       "        <Axes: title={'center': 'false negative rate'}, xlabel='majmin'>],\n",
       "       [<Axes: title={'center': 'selection rate'}, xlabel='majmin'>,\n",
       "        <Axes: title={'center': 'count'}, xlabel='majmin'>,\n",
       "        <Axes: xlabel='majmin'>]], dtype=object)"
      ]
     },
     "execution_count": 63,
     "metadata": {},
     "output_type": "execute_result"
    },
    {
     "data": {
      "image/png": "[encoded data removed]",
      "text/plain": [
       "<Figure size 1200x800 with 9 Axes>"
      ]
     },
     "metadata": {},
     "output_type": "display_data"
    }
   ],
   "source": [
    "# In a graphic\n",
    "metric_frame.by_group.plot.bar(\n",
    "    subplots=True,\n",
    "    layout=[3, 3],\n",
    "    legend=False,\n",
    "    figsize=[12, 8],\n",
    "    title=\"Show all metrics\",\n",
    ")"
   ]
  },
  {
   "cell_type": "markdown",
   "id": "f57a0bac",
   "metadata": {
    "papermill": {
     "duration": 0.028319,
     "end_time": "2025-08-05T15:03:53.525095",
     "exception": false,
     "start_time": "2025-08-05T15:03:53.496776",
     "status": "completed"
    },
    "tags": []
   },
   "source": [
    "# Final Output"
   ]
  },
  {
   "cell_type": "code",
   "execution_count": 64,
   "id": "96d280a3",
   "metadata": {
    "execution": {
     "iopub.execute_input": "2025-08-05T15:03:53.582725Z",
     "iopub.status.busy": "2025-08-05T15:03:53.581713Z",
     "iopub.status.idle": "2025-08-05T15:03:53.589933Z",
     "shell.execute_reply": "2025-08-05T15:03:53.588827Z"
    },
    "papermill": {
     "duration": 0.039815,
     "end_time": "2025-08-05T15:03:53.591499",
     "exception": false,
     "start_time": "2025-08-05T15:03:53.551684",
     "status": "completed"
    },
    "tags": []
   },
   "outputs": [
    {
     "data": {
      "text/plain": [
       "4"
      ]
     },
     "execution_count": 64,
     "metadata": {},
     "output_type": "execute_result"
    }
   ],
   "source": [
    "sub_universes = universe_analysis.generate_sub_universes()\n",
    "len(sub_universes)"
   ]
  },
  {
   "cell_type": "code",
   "execution_count": 65,
   "id": "92adf7ba",
   "metadata": {
    "execution": {
     "iopub.execute_input": "2025-08-05T15:03:53.650037Z",
     "iopub.status.busy": "2025-08-05T15:03:53.649132Z",
     "iopub.status.idle": "2025-08-05T15:03:53.656028Z",
     "shell.execute_reply": "2025-08-05T15:03:53.654962Z"
    },
    "papermill": {
     "duration": 0.03946,
     "end_time": "2025-08-05T15:03:53.658182",
     "exception": false,
     "start_time": "2025-08-05T15:03:53.618722",
     "status": "completed"
    },
    "tags": []
   },
   "outputs": [],
   "source": [
    "def filter_sub_universe_data(sub_universe, org_test):\n",
    "    # Keep all rows — no filtering\n",
    "    keep_rows_mask = np.ones(org_test.shape[0], dtype=bool)\n",
    "\n",
    "    print(f\"[INFO] Keeping all rows: {keep_rows_mask.sum()} rows retained.\")\n",
    "    return keep_rows_mask"
   ]
  },
  {
   "cell_type": "code",
   "execution_count": 66,
   "id": "4a759155",
   "metadata": {
    "execution": {
     "iopub.execute_input": "2025-08-05T15:03:53.716083Z",
     "iopub.status.busy": "2025-08-05T15:03:53.715587Z",
     "iopub.status.idle": "2025-08-05T15:04:02.969226Z",
     "shell.execute_reply": "2025-08-05T15:04:02.968101Z"
    },
    "papermill": {
     "duration": 9.284863,
     "end_time": "2025-08-05T15:04:02.970953",
     "exception": false,
     "start_time": "2025-08-05T15:03:53.686090",
     "status": "completed"
    },
    "tags": []
   },
   "outputs": [
    {
     "name": "stdout",
     "output_type": "stream",
     "text": [
      "Stopping execution_time clock.\n",
      "[INFO] Keeping all rows: 89710 rows retained.\n"
     ]
    },
    {
     "name": "stdout",
     "output_type": "stream",
     "text": [
      "[INFO] Keeping all rows: 89710 rows retained.\n"
     ]
    },
    {
     "name": "stdout",
     "output_type": "stream",
     "text": [
      "[INFO] Keeping all rows: 89710 rows retained.\n"
     ]
    },
    {
     "name": "stdout",
     "output_type": "stream",
     "text": [
      "[INFO] Keeping all rows: 89710 rows retained.\n"
     ]
    },
    {
     "data": {
      "text/html": [
       "<div>\n",
       "<style scoped>\n",
       "    .dataframe tbody tr th:only-of-type {\n",
       "        vertical-align: middle;\n",
       "    }\n",
       "\n",
       "    .dataframe tbody tr th {\n",
       "        vertical-align: top;\n",
       "    }\n",
       "\n",
       "    .dataframe thead th {\n",
       "        text-align: right;\n",
       "    }\n",
       "</style>\n",
       "<table border=\"1\" class=\"dataframe\">\n",
       "  <thead>\n",
       "    <tr style=\"text-align: right;\">\n",
       "      <th></th>\n",
       "      <th>run_no</th>\n",
       "      <th>universe_id</th>\n",
       "      <th>universe_settings</th>\n",
       "      <th>execution_time</th>\n",
       "      <th>test_size_n</th>\n",
       "      <th>test_size_frac</th>\n",
       "      <th>fair_main_equalized_odds_difference</th>\n",
       "      <th>fair_main_equalized_odds_ratio</th>\n",
       "      <th>fair_main_demographic_parity_difference</th>\n",
       "      <th>fair_main_demographic_parity_ratio</th>\n",
       "      <th>...</th>\n",
       "      <th>perf_grp_precision_0</th>\n",
       "      <th>perf_grp_precision_1</th>\n",
       "      <th>perf_grp_false positive rate_0</th>\n",
       "      <th>perf_grp_false positive rate_1</th>\n",
       "      <th>perf_grp_false negative rate_0</th>\n",
       "      <th>perf_grp_false negative rate_1</th>\n",
       "      <th>perf_grp_selection rate_0</th>\n",
       "      <th>perf_grp_selection rate_1</th>\n",
       "      <th>perf_grp_count_0</th>\n",
       "      <th>perf_grp_count_1</th>\n",
       "    </tr>\n",
       "  </thead>\n",
       "  <tbody>\n",
       "    <tr>\n",
       "      <th>0</th>\n",
       "      <td>15</td>\n",
       "      <td>df2a7d039164c2cc1a933f36285d4165</td>\n",
       "      <td>{\"cutoff\": \"quantile_0.1\", \"eval_fairness_grou...</td>\n",
       "      <td>31.445847</td>\n",
       "      <td>89710</td>\n",
       "      <td>1.0</td>\n",
       "      <td>0.093486</td>\n",
       "      <td>0.903013</td>\n",
       "      <td>0.084674</td>\n",
       "      <td>0.912281</td>\n",
       "      <td>...</td>\n",
       "      <td>NaN</td>\n",
       "      <td>NaN</td>\n",
       "      <td>NaN</td>\n",
       "      <td>NaN</td>\n",
       "      <td>NaN</td>\n",
       "      <td>NaN</td>\n",
       "      <td>NaN</td>\n",
       "      <td>NaN</td>\n",
       "      <td>NaN</td>\n",
       "      <td>NaN</td>\n",
       "    </tr>\n",
       "    <tr>\n",
       "      <th>0</th>\n",
       "      <td>15</td>\n",
       "      <td>df2a7d039164c2cc1a933f36285d4165</td>\n",
       "      <td>{\"cutoff\": \"quantile_0.1\", \"eval_fairness_grou...</td>\n",
       "      <td>31.445847</td>\n",
       "      <td>89710</td>\n",
       "      <td>1.0</td>\n",
       "      <td>0.093486</td>\n",
       "      <td>0.903013</td>\n",
       "      <td>0.084674</td>\n",
       "      <td>0.912281</td>\n",
       "      <td>...</td>\n",
       "      <td>0.116558</td>\n",
       "      <td>0.142189</td>\n",
       "      <td>0.963901</td>\n",
       "      <td>0.870415</td>\n",
       "      <td>0.024071</td>\n",
       "      <td>0.052407</td>\n",
       "      <td>0.965287</td>\n",
       "      <td>0.880613</td>\n",
       "      <td>20540.0</td>\n",
       "      <td>69170.0</td>\n",
       "    </tr>\n",
       "    <tr>\n",
       "      <th>0</th>\n",
       "      <td>15</td>\n",
       "      <td>df2a7d039164c2cc1a933f36285d4165</td>\n",
       "      <td>{\"cutoff\": \"quantile_0.25\", \"eval_fairness_gro...</td>\n",
       "      <td>31.445847</td>\n",
       "      <td>89710</td>\n",
       "      <td>1.0</td>\n",
       "      <td>0.226591</td>\n",
       "      <td>0.750327</td>\n",
       "      <td>0.209893</td>\n",
       "      <td>0.769811</td>\n",
       "      <td>...</td>\n",
       "      <td>NaN</td>\n",
       "      <td>NaN</td>\n",
       "      <td>NaN</td>\n",
       "      <td>NaN</td>\n",
       "      <td>NaN</td>\n",
       "      <td>NaN</td>\n",
       "      <td>NaN</td>\n",
       "      <td>NaN</td>\n",
       "      <td>NaN</td>\n",
       "      <td>NaN</td>\n",
       "    </tr>\n",
       "    <tr>\n",
       "      <th>0</th>\n",
       "      <td>15</td>\n",
       "      <td>df2a7d039164c2cc1a933f36285d4165</td>\n",
       "      <td>{\"cutoff\": \"quantile_0.25\", \"eval_fairness_gro...</td>\n",
       "      <td>31.445847</td>\n",
       "      <td>89710</td>\n",
       "      <td>1.0</td>\n",
       "      <td>0.226591</td>\n",
       "      <td>0.750327</td>\n",
       "      <td>0.209893</td>\n",
       "      <td>0.769811</td>\n",
       "      <td>...</td>\n",
       "      <td>0.119440</td>\n",
       "      <td>0.158075</td>\n",
       "      <td>0.907550</td>\n",
       "      <td>0.680960</td>\n",
       "      <td>0.055321</td>\n",
       "      <td>0.160284</td>\n",
       "      <td>0.911831</td>\n",
       "      <td>0.701937</td>\n",
       "      <td>20540.0</td>\n",
       "      <td>69170.0</td>\n",
       "    </tr>\n",
       "  </tbody>\n",
       "</table>\n",
       "<p>4 rows × 50 columns</p>\n",
       "</div>"
      ],
      "text/plain": [
       "  run_no                       universe_id  \\\n",
       "0     15  df2a7d039164c2cc1a933f36285d4165   \n",
       "0     15  df2a7d039164c2cc1a933f36285d4165   \n",
       "0     15  df2a7d039164c2cc1a933f36285d4165   \n",
       "0     15  df2a7d039164c2cc1a933f36285d4165   \n",
       "\n",
       "                                   universe_settings  execution_time  \\\n",
       "0  {\"cutoff\": \"quantile_0.1\", \"eval_fairness_grou...       31.445847   \n",
       "0  {\"cutoff\": \"quantile_0.1\", \"eval_fairness_grou...       31.445847   \n",
       "0  {\"cutoff\": \"quantile_0.25\", \"eval_fairness_gro...       31.445847   \n",
       "0  {\"cutoff\": \"quantile_0.25\", \"eval_fairness_gro...       31.445847   \n",
       "\n",
       "   test_size_n  test_size_frac  fair_main_equalized_odds_difference  \\\n",
       "0        89710             1.0                             0.093486   \n",
       "0        89710             1.0                             0.093486   \n",
       "0        89710             1.0                             0.226591   \n",
       "0        89710             1.0                             0.226591   \n",
       "\n",
       "   fair_main_equalized_odds_ratio  fair_main_demographic_parity_difference  \\\n",
       "0                        0.903013                                 0.084674   \n",
       "0                        0.903013                                 0.084674   \n",
       "0                        0.750327                                 0.209893   \n",
       "0                        0.750327                                 0.209893   \n",
       "\n",
       "   fair_main_demographic_parity_ratio  ...  perf_grp_precision_0  \\\n",
       "0                            0.912281  ...                   NaN   \n",
       "0                            0.912281  ...              0.116558   \n",
       "0                            0.769811  ...                   NaN   \n",
       "0                            0.769811  ...              0.119440   \n",
       "\n",
       "   perf_grp_precision_1  perf_grp_false positive rate_0  \\\n",
       "0                   NaN                             NaN   \n",
       "0              0.142189                        0.963901   \n",
       "0                   NaN                             NaN   \n",
       "0              0.158075                        0.907550   \n",
       "\n",
       "   perf_grp_false positive rate_1  perf_grp_false negative rate_0  \\\n",
       "0                             NaN                             NaN   \n",
       "0                        0.870415                        0.024071   \n",
       "0                             NaN                             NaN   \n",
       "0                        0.680960                        0.055321   \n",
       "\n",
       "   perf_grp_false negative rate_1  perf_grp_selection rate_0  \\\n",
       "0                             NaN                        NaN   \n",
       "0                        0.052407                   0.965287   \n",
       "0                             NaN                        NaN   \n",
       "0                        0.160284                   0.911831   \n",
       "\n",
       "   perf_grp_selection rate_1  perf_grp_count_0  perf_grp_count_1  \n",
       "0                        NaN               NaN               NaN  \n",
       "0                   0.880613           20540.0           69170.0  \n",
       "0                        NaN               NaN               NaN  \n",
       "0                   0.701937           20540.0           69170.0  \n",
       "\n",
       "[4 rows x 50 columns]"
      ]
     },
     "execution_count": 66,
     "metadata": {},
     "output_type": "execute_result"
    }
   ],
   "source": [
    "final_output = universe_analysis.generate_final_output(\n",
    "    y_pred_prob=probs_test,\n",
    "    y_test=y_true,\n",
    "    org_test=org_test,\n",
    "    filter_data=filter_sub_universe_data,\n",
    "    cp_metrics_df=cp_metrics_df,\n",
    "    save=True,\n",
    ")\n",
    "final_output"
   ]
  }
 ],
 "metadata": {
  "celltoolbar": "Tags",
  "kernelspec": {
   "display_name": "Python (CMA Fairness)",
   "language": "python",
   "name": "cma_fair_env"
  },
  "language_info": {
   "codemirror_mode": {
    "name": "ipython",
    "version": 3
   },
   "file_extension": ".py",
   "mimetype": "text/x-python",
   "name": "python",
   "nbconvert_exporter": "python",
   "pygments_lexer": "ipython3",
   "version": "3.10.12"
  },
  "papermill": {
   "default_parameters": {},
   "duration": 44.551225,
   "end_time": "2025-08-05T15:04:03.720694",
   "environment_variables": {},
   "exception": null,
   "input_path": "universe_analysis.ipynb",
   "output_path": "output/runs/15/notebooks/m_15-df2a7d039164c2cc1a933f36285d4165.ipynb",
   "parameters": {
    "output_dir": "output",
    "run_no": "15",
    "seed": "2023",
    "universe": "{\"cutoff\": [\"quantile_0.1\", \"quantile_0.25\"], \"eval_fairness_grouping\": [\"majority-minority\", \"nationality-all\"], \"exclude_features\": \"nationality-sex\", \"exclude_subgroups\": \"drop-non-german\", \"model\": \"elasticnet\", \"scale\": \"do-not-scale\", \"training_size\": \"25k\", \"training_year\": \"2012_14\"}",
    "universe_id": "df2a7d039164c2cc1a933f36285d4165"
   },
   "start_time": "2025-08-05T15:03:19.169469",
   "version": "2.6.0"
  }
 },
 "nbformat": 4,
 "nbformat_minor": 5
}