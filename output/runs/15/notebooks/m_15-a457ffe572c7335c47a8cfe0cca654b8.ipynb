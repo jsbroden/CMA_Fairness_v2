{
 "cells": [
  {
   "cell_type": "code",
   "execution_count": 1,
   "id": "f159f837-637b-42ba-96b5-ec9a68c44524",
   "metadata": {
    "execution": {
     "iopub.execute_input": "2025-08-05T15:23:20.496401Z",
     "iopub.status.busy": "2025-08-05T15:23:20.495917Z",
     "iopub.status.idle": "2025-08-05T15:23:20.509813Z",
     "shell.execute_reply": "2025-08-05T15:23:20.508839Z"
    },
    "papermill": {
     "duration": 0.037534,
     "end_time": "2025-08-05T15:23:20.511411",
     "exception": false,
     "start_time": "2025-08-05T15:23:20.473877",
     "status": "completed"
    },
    "tags": []
   },
   "outputs": [
    {
     "name": "stdout",
     "output_type": "stream",
     "text": [
      "/dss/dsshome1/0C/ra93lal2/cma/CMA_Fairness_v2\n"
     ]
    },
    {
     "name": "stderr",
     "output_type": "stream",
     "text": [
      "/dss/dsshome1/0C/ra93lal2/.local/share/virtualenvs/CMA_Fairness_v2-3j10GkSs/lib/python3.10/site-packages/IPython/core/magics/osm.py:393: UserWarning: This is now an optional IPython functionality, using bookmarks requires you to install the `pickleshare` library.\n",
      "  bkms = self.shell.db.get('bookmarks', {})\n",
      "/dss/dsshome1/0C/ra93lal2/.local/share/virtualenvs/CMA_Fairness_v2-3j10GkSs/lib/python3.10/site-packages/IPython/core/magics/osm.py:417: UserWarning: This is now an optional IPython functionality, setting dhist requires you to install the `pickleshare` library.\n",
      "  self.shell.db['dhist'] = compress_dhist(dhist)[-100:]\n"
     ]
    }
   ],
   "source": [
    "%cd ~/cma/CMA_Fairness_v2"
   ]
  },
  {
   "cell_type": "markdown",
   "id": "de2603b9",
   "metadata": {
    "papermill": {
     "duration": 0.016491,
     "end_time": "2025-08-05T15:23:20.545397",
     "exception": false,
     "start_time": "2025-08-05T15:23:20.528906",
     "status": "completed"
    },
    "tags": []
   },
   "source": [
    "The following cell holds the definition of our parameters, these values can be overriden by rendering the with e.g. the following command:\n",
    "\n",
    "papermill -p alpha 0.2 -p ratio 0.3 universe_analysis.ipynb output/test_run.ipynb"
   ]
  },
  {
   "cell_type": "code",
   "execution_count": 2,
   "id": "a80968a0-40bb-4fa9-85ef-2d5eefb01975",
   "metadata": {
    "execution": {
     "iopub.execute_input": "2025-08-05T15:23:20.578920Z",
     "iopub.status.busy": "2025-08-05T15:23:20.578192Z",
     "iopub.status.idle": "2025-08-05T15:23:20.584006Z",
     "shell.execute_reply": "2025-08-05T15:23:20.582892Z"
    },
    "papermill": {
     "duration": 0.024684,
     "end_time": "2025-08-05T15:23:20.586038",
     "exception": false,
     "start_time": "2025-08-05T15:23:20.561354",
     "status": "completed"
    },
    "tags": []
   },
   "outputs": [
    {
     "name": "stdout",
     "output_type": "stream",
     "text": [
      "Current working directory: /dss/dsshome1/0C/ra93lal2/cma/CMA_Fairness_v2\n"
     ]
    }
   ],
   "source": [
    "import os\n",
    "print(\"Current working directory:\", os.getcwd())"
   ]
  },
  {
   "cell_type": "code",
   "execution_count": 3,
   "id": "2dce4c03",
   "metadata": {
    "execution": {
     "iopub.execute_input": "2025-08-05T15:23:20.621135Z",
     "iopub.status.busy": "2025-08-05T15:23:20.620472Z",
     "iopub.status.idle": "2025-08-05T15:23:20.626450Z",
     "shell.execute_reply": "2025-08-05T15:23:20.625556Z"
    },
    "papermill": {
     "duration": 0.024497,
     "end_time": "2025-08-05T15:23:20.628090",
     "exception": false,
     "start_time": "2025-08-05T15:23:20.603593",
     "status": "completed"
    },
    "tags": [
     "parameters"
    ]
   },
   "outputs": [],
   "source": [
    "run_no = 0\n",
    "universe_id = \"test\"\n",
    "universe = {\n",
    "    \"training_size\": \"25k\", # \"25k\", \"5k\", \"1k\"\n",
    "    \"training_year\": \"2014\", # \"2014\", \"2012_14\", \"2010_14\"\n",
    "    \"scale\": \"scale\", # \"scale\", \"do-not-scale\",\n",
    "    \"model\": \"elasticnet\", # \"logreg\", \"penalized_logreg\", \"rf\", \"gbm\", \"elasticnet\"\n",
    "    \"cutoff\": [\"quantile_0.15\", \"quantile_0.30\"],\n",
    "    \"exclude_features\": \"age\", # \"none\", \"nationality\", \"sex\", \"nationality-sex\", \"age\"\n",
    "    \"exclude_subgroups\": \"keep-all\", # \"keep-all\", \"drop-non-german\"\n",
    "    \"eval_fairness_grouping\": [\"majority-minority\", \"nationality-all\"]\n",
    "}\n",
    "\n",
    "output_dir=\"./output\"\n",
    "seed=0"
   ]
  },
  {
   "cell_type": "code",
   "execution_count": 4,
   "id": "bb23f411",
   "metadata": {
    "execution": {
     "iopub.execute_input": "2025-08-05T15:23:20.661699Z",
     "iopub.status.busy": "2025-08-05T15:23:20.660827Z",
     "iopub.status.idle": "2025-08-05T15:23:20.666365Z",
     "shell.execute_reply": "2025-08-05T15:23:20.665395Z"
    },
    "papermill": {
     "duration": 0.023728,
     "end_time": "2025-08-05T15:23:20.668054",
     "exception": false,
     "start_time": "2025-08-05T15:23:20.644326",
     "status": "completed"
    },
    "tags": [
     "injected-parameters"
    ]
   },
   "outputs": [],
   "source": [
    "# Parameters\n",
    "universe_id = \"a457ffe572c7335c47a8cfe0cca654b8\"\n",
    "run_no = \"15\"\n",
    "universe = \"{\\\"cutoff\\\": [\\\"quantile_0.1\\\", \\\"quantile_0.25\\\"], \\\"eval_fairness_grouping\\\": [\\\"majority-minority\\\", \\\"nationality-all\\\"], \\\"exclude_features\\\": \\\"sex\\\", \\\"exclude_subgroups\\\": \\\"keep-all\\\", \\\"model\\\": \\\"rf\\\", \\\"scale\\\": \\\"scale\\\", \\\"training_size\\\": \\\"5k\\\", \\\"training_year\\\": \\\"2014\\\"}\"\n",
    "output_dir = \"output\"\n",
    "seed = \"2023\"\n"
   ]
  },
  {
   "cell_type": "code",
   "execution_count": 5,
   "id": "1650acaf",
   "metadata": {
    "execution": {
     "iopub.execute_input": "2025-08-05T15:23:20.702192Z",
     "iopub.status.busy": "2025-08-05T15:23:20.701341Z",
     "iopub.status.idle": "2025-08-05T15:23:20.706669Z",
     "shell.execute_reply": "2025-08-05T15:23:20.705676Z"
    },
    "papermill": {
     "duration": 0.023743,
     "end_time": "2025-08-05T15:23:20.708542",
     "exception": false,
     "start_time": "2025-08-05T15:23:20.684799",
     "status": "completed"
    },
    "tags": []
   },
   "outputs": [],
   "source": [
    "import json\n",
    "if isinstance(universe, str):\n",
    "    universe = json.loads(universe)"
   ]
  },
  {
   "cell_type": "code",
   "execution_count": 6,
   "id": "16620c48",
   "metadata": {
    "execution": {
     "iopub.execute_input": "2025-08-05T15:23:20.742705Z",
     "iopub.status.busy": "2025-08-05T15:23:20.742037Z",
     "iopub.status.idle": "2025-08-05T15:23:20.784258Z",
     "shell.execute_reply": "2025-08-05T15:23:20.783394Z"
    },
    "papermill": {
     "duration": 0.060294,
     "end_time": "2025-08-05T15:23:20.785871",
     "exception": false,
     "start_time": "2025-08-05T15:23:20.725577",
     "status": "completed"
    },
    "tags": []
   },
   "outputs": [],
   "source": [
    "# Auto-reload the custom package\n",
    "%load_ext autoreload\n",
    "%autoreload 1\n",
    "%aimport fairness_multiverse"
   ]
  },
  {
   "cell_type": "code",
   "execution_count": 7,
   "id": "01c5c9f3",
   "metadata": {
    "execution": {
     "iopub.execute_input": "2025-08-05T15:23:20.821150Z",
     "iopub.status.busy": "2025-08-05T15:23:20.820606Z",
     "iopub.status.idle": "2025-08-05T15:23:22.667900Z",
     "shell.execute_reply": "2025-08-05T15:23:22.666875Z"
    },
    "papermill": {
     "duration": 1.867109,
     "end_time": "2025-08-05T15:23:22.669926",
     "exception": false,
     "start_time": "2025-08-05T15:23:20.802817",
     "status": "completed"
    },
    "tags": []
   },
   "outputs": [],
   "source": [
    "from fairness_multiverse.universe import UniverseAnalysis\n",
    "\n",
    "universe_analysis = UniverseAnalysis(\n",
    "    run_no = run_no,\n",
    "    universe_id = universe_id,\n",
    "    universe = universe,\n",
    "    output_dir=output_dir,\n",
    ")"
   ]
  },
  {
   "cell_type": "code",
   "execution_count": 8,
   "id": "106241f5",
   "metadata": {
    "execution": {
     "iopub.execute_input": "2025-08-05T15:23:22.707387Z",
     "iopub.status.busy": "2025-08-05T15:23:22.706635Z",
     "iopub.status.idle": "2025-08-05T15:23:22.713690Z",
     "shell.execute_reply": "2025-08-05T15:23:22.712485Z"
    },
    "papermill": {
     "duration": 0.027387,
     "end_time": "2025-08-05T15:23:22.715563",
     "exception": false,
     "start_time": "2025-08-05T15:23:22.688176",
     "status": "completed"
    },
    "tags": []
   },
   "outputs": [
    {
     "name": "stdout",
     "output_type": "stream",
     "text": [
      "Using Seed: 2023\n"
     ]
    }
   ],
   "source": [
    "import numpy as np\n",
    "parsed_seed = int(seed)\n",
    "np.random.seed(parsed_seed)\n",
    "print(f\"Using Seed: {parsed_seed}\")"
   ]
  },
  {
   "cell_type": "markdown",
   "id": "e0ebdc57",
   "metadata": {
    "papermill": {
     "duration": 0.016902,
     "end_time": "2025-08-05T15:23:22.751420",
     "exception": false,
     "start_time": "2025-08-05T15:23:22.734518",
     "status": "completed"
    },
    "tags": []
   },
   "source": [
    "# Loading Data"
   ]
  },
  {
   "cell_type": "code",
   "execution_count": 9,
   "id": "f0496b8a",
   "metadata": {
    "execution": {
     "iopub.execute_input": "2025-08-05T15:23:22.793112Z",
     "iopub.status.busy": "2025-08-05T15:23:22.792647Z",
     "iopub.status.idle": "2025-08-05T15:23:34.917805Z",
     "shell.execute_reply": "2025-08-05T15:23:34.916592Z"
    },
    "papermill": {
     "duration": 12.148635,
     "end_time": "2025-08-05T15:23:34.919526",
     "exception": false,
     "start_time": "2025-08-05T15:23:22.770891",
     "status": "completed"
    },
    "tags": []
   },
   "outputs": [
    {
     "name": "stdout",
     "output_type": "stream",
     "text": [
      "Loading SIAB data from cache: data/siab_cached.csv.gz\n"
     ]
    },
    {
     "name": "stdout",
     "output_type": "stream",
     "text": [
      "(643690, 164)\n"
     ]
    }
   ],
   "source": [
    "from pathlib import Path\n",
    "import pandas as pd\n",
    "\n",
    "# File paths\n",
    "raw_file = Path(\"data/raw/siab.csv\")\n",
    "cache_file = Path(\"data/siab_cached.csv.gz\")\n",
    "\n",
    "# Ensure cache directory exists\n",
    "cache_file.parent.mkdir(parents=True, exist_ok=True)\n",
    "\n",
    "# Load with simple caching\n",
    "if cache_file.exists():\n",
    "    print(f\"Loading SIAB data from cache: {cache_file}\")\n",
    "    siab = pd.read_csv(cache_file, compression='gzip')\n",
    "else:\n",
    "    print(f\"Cache not found. Reading raw SIAB data: {raw_file}\")\n",
    "    siab = pd.read_csv(raw_file)\n",
    "    siab.to_csv(cache_file, index=False, compression='gzip')\n",
    "    print(f\"Cached SIAB data to: {cache_file}\")\n",
    "\n",
    "print(siab.shape)"
   ]
  },
  {
   "cell_type": "code",
   "execution_count": 10,
   "id": "db0ca512-5f53-4dba-abdb-a2888bca41ba",
   "metadata": {
    "execution": {
     "iopub.execute_input": "2025-08-05T15:23:34.962340Z",
     "iopub.status.busy": "2025-08-05T15:23:34.961743Z",
     "iopub.status.idle": "2025-08-05T15:23:34.968250Z",
     "shell.execute_reply": "2025-08-05T15:23:34.967129Z"
    },
    "papermill": {
     "duration": 0.028525,
     "end_time": "2025-08-05T15:23:34.970198",
     "exception": false,
     "start_time": "2025-08-05T15:23:34.941673",
     "status": "completed"
    },
    "tags": []
   },
   "outputs": [],
   "source": [
    "#siab"
   ]
  },
  {
   "cell_type": "markdown",
   "id": "997051c5-15bd-4b69-9786-c3001a3ce484",
   "metadata": {
    "papermill": {
     "duration": 0.016235,
     "end_time": "2025-08-05T15:23:35.005483",
     "exception": false,
     "start_time": "2025-08-05T15:23:34.989248",
     "status": "completed"
    },
    "tags": []
   },
   "source": [
    "# Splitting Data and Setting Training Data Size"
   ]
  },
  {
   "cell_type": "code",
   "execution_count": 11,
   "id": "aea9c6ef-6f46-42c8-85eb-5a62025c1508",
   "metadata": {
    "execution": {
     "iopub.execute_input": "2025-08-05T15:23:35.041676Z",
     "iopub.status.busy": "2025-08-05T15:23:35.041303Z",
     "iopub.status.idle": "2025-08-05T15:23:35.290071Z",
     "shell.execute_reply": "2025-08-05T15:23:35.289018Z"
    },
    "papermill": {
     "duration": 0.268856,
     "end_time": "2025-08-05T15:23:35.292219",
     "exception": false,
     "start_time": "2025-08-05T15:23:35.023363",
     "status": "completed"
    },
    "tags": []
   },
   "outputs": [],
   "source": [
    "from fairness_multiverse.universe import sample_by_year_size\n",
    "\n",
    "siab_train = sample_by_year_size(siab,\n",
    "                               training_year=universe[\"training_year\"],\n",
    "                               training_size=universe[\"training_size\"])"
   ]
  },
  {
   "cell_type": "code",
   "execution_count": 12,
   "id": "8d3afb32-789d-442c-8d5d-9f5aa8dd2eed",
   "metadata": {
    "execution": {
     "iopub.execute_input": "2025-08-05T15:23:35.336121Z",
     "iopub.status.busy": "2025-08-05T15:23:35.335753Z",
     "iopub.status.idle": "2025-08-05T15:23:35.340765Z",
     "shell.execute_reply": "2025-08-05T15:23:35.339754Z"
    },
    "papermill": {
     "duration": 0.028796,
     "end_time": "2025-08-05T15:23:35.342510",
     "exception": false,
     "start_time": "2025-08-05T15:23:35.313714",
     "status": "completed"
    },
    "tags": []
   },
   "outputs": [],
   "source": [
    "#siab_train.shape"
   ]
  },
  {
   "cell_type": "code",
   "execution_count": 13,
   "id": "d582db68-1a4c-47fb-84fc-08518dc1975a",
   "metadata": {
    "execution": {
     "iopub.execute_input": "2025-08-05T15:23:35.367390Z",
     "iopub.status.busy": "2025-08-05T15:23:35.366915Z",
     "iopub.status.idle": "2025-08-05T15:23:35.371099Z",
     "shell.execute_reply": "2025-08-05T15:23:35.370306Z"
    },
    "papermill": {
     "duration": 0.019164,
     "end_time": "2025-08-05T15:23:35.372715",
     "exception": false,
     "start_time": "2025-08-05T15:23:35.353551",
     "status": "completed"
    },
    "tags": []
   },
   "outputs": [],
   "source": [
    "#display(siab_train.groupby(\"year\").size())"
   ]
  },
  {
   "cell_type": "code",
   "execution_count": 14,
   "id": "a561edb4-d032-42cb-8256-22eac1111c64",
   "metadata": {
    "execution": {
     "iopub.execute_input": "2025-08-05T15:23:35.393911Z",
     "iopub.status.busy": "2025-08-05T15:23:35.393338Z",
     "iopub.status.idle": "2025-08-05T15:23:35.652357Z",
     "shell.execute_reply": "2025-08-05T15:23:35.651288Z"
    },
    "papermill": {
     "duration": 0.270827,
     "end_time": "2025-08-05T15:23:35.654253",
     "exception": false,
     "start_time": "2025-08-05T15:23:35.383426",
     "status": "completed"
    },
    "tags": []
   },
   "outputs": [],
   "source": [
    "#siab_train = siab_s[siab_s.year < 2015]\n",
    "siab_calib = siab[siab.year == 2015]\n",
    "siab_test = siab[siab.year == 2016]"
   ]
  },
  {
   "cell_type": "code",
   "execution_count": 15,
   "id": "472de16f-c3db-4916-846b-1f0de9cf1746",
   "metadata": {
    "execution": {
     "iopub.execute_input": "2025-08-05T15:23:35.692981Z",
     "iopub.status.busy": "2025-08-05T15:23:35.692504Z",
     "iopub.status.idle": "2025-08-05T15:23:35.701011Z",
     "shell.execute_reply": "2025-08-05T15:23:35.699900Z"
    },
    "papermill": {
     "duration": 0.030429,
     "end_time": "2025-08-05T15:23:35.702955",
     "exception": false,
     "start_time": "2025-08-05T15:23:35.672526",
     "status": "completed"
    },
    "tags": []
   },
   "outputs": [],
   "source": [
    "X_train = siab_train.iloc[:,4:164]\n",
    "y_train = siab_train.iloc[:, [3]]"
   ]
  },
  {
   "cell_type": "code",
   "execution_count": 16,
   "id": "828c96af-f43a-4ed6-ba47-8ac73a47d56c",
   "metadata": {
    "execution": {
     "iopub.execute_input": "2025-08-05T15:23:35.740230Z",
     "iopub.status.busy": "2025-08-05T15:23:35.739699Z",
     "iopub.status.idle": "2025-08-05T15:23:35.815519Z",
     "shell.execute_reply": "2025-08-05T15:23:35.814583Z"
    },
    "papermill": {
     "duration": 0.095487,
     "end_time": "2025-08-05T15:23:35.817218",
     "exception": false,
     "start_time": "2025-08-05T15:23:35.721731",
     "status": "completed"
    },
    "tags": []
   },
   "outputs": [],
   "source": [
    "X_calib = siab_calib.iloc[:,4:164]\n",
    "y_calib = siab_calib.iloc[:, [3]]"
   ]
  },
  {
   "cell_type": "code",
   "execution_count": 17,
   "id": "c34be9c3-6bd6-476e-acd3-845840e303be",
   "metadata": {
    "execution": {
     "iopub.execute_input": "2025-08-05T15:23:35.839387Z",
     "iopub.status.busy": "2025-08-05T15:23:35.838664Z",
     "iopub.status.idle": "2025-08-05T15:23:35.887918Z",
     "shell.execute_reply": "2025-08-05T15:23:35.887058Z"
    },
    "papermill": {
     "duration": 0.061118,
     "end_time": "2025-08-05T15:23:35.889570",
     "exception": false,
     "start_time": "2025-08-05T15:23:35.828452",
     "status": "completed"
    },
    "tags": []
   },
   "outputs": [],
   "source": [
    "X_test = siab_test.iloc[:,4:164]\n",
    "y_true = siab_test.iloc[:, [3]]"
   ]
  },
  {
   "cell_type": "code",
   "execution_count": 18,
   "id": "e6c733c5",
   "metadata": {
    "execution": {
     "iopub.execute_input": "2025-08-05T15:23:35.912196Z",
     "iopub.status.busy": "2025-08-05T15:23:35.911476Z",
     "iopub.status.idle": "2025-08-05T15:23:36.002886Z",
     "shell.execute_reply": "2025-08-05T15:23:36.002034Z"
    },
    "papermill": {
     "duration": 0.103852,
     "end_time": "2025-08-05T15:23:36.004688",
     "exception": false,
     "start_time": "2025-08-05T15:23:35.900836",
     "status": "completed"
    },
    "tags": []
   },
   "outputs": [],
   "source": [
    "# Auxiliary data needed downstream in the pipeline\n",
    "\n",
    "org_train = X_train.copy()\n",
    "org_test = X_test.copy()\n",
    "org_calib = X_calib.copy()"
   ]
  },
  {
   "cell_type": "markdown",
   "id": "0a4a1b33",
   "metadata": {
    "papermill": {
     "duration": 0.016419,
     "end_time": "2025-08-05T15:23:36.039050",
     "exception": false,
     "start_time": "2025-08-05T15:23:36.022631",
     "status": "completed"
    },
    "tags": []
   },
   "source": [
    "# Preprocessing Data"
   ]
  },
  {
   "cell_type": "code",
   "execution_count": 19,
   "id": "ca879031",
   "metadata": {
    "execution": {
     "iopub.execute_input": "2025-08-05T15:23:36.076291Z",
     "iopub.status.busy": "2025-08-05T15:23:36.075774Z",
     "iopub.status.idle": "2025-08-05T15:23:36.082199Z",
     "shell.execute_reply": "2025-08-05T15:23:36.081100Z"
    },
    "papermill": {
     "duration": 0.027606,
     "end_time": "2025-08-05T15:23:36.084336",
     "exception": false,
     "start_time": "2025-08-05T15:23:36.056730",
     "status": "completed"
    },
    "tags": []
   },
   "outputs": [],
   "source": [
    "# EXCLUDE PROTECTED FEATURES\n",
    "# ----------------------\n",
    "# \"exclude_features\": \"none\", # \"nationality\", \"sex\", \"nationality-sex\"\n",
    "\n",
    "excluded_features = universe[\"exclude_features\"].split(\"-\") # split, e.g.: \"nationality-sex\" -> [\"nationality\", \"sex\"]\n",
    "excluded_features_dictionary = {\n",
    "    \"nationality\": [\"maxdeutsch1\", \"maxdeutsch.Missing.\"],\n",
    "    \"sex\": [\"frau1\"],\n",
    "    \"age\": [\"age\"],\n",
    "}"
   ]
  },
  {
   "cell_type": "code",
   "execution_count": 20,
   "id": "b745ac60",
   "metadata": {
    "execution": {
     "iopub.execute_input": "2025-08-05T15:23:36.113599Z",
     "iopub.status.busy": "2025-08-05T15:23:36.113218Z",
     "iopub.status.idle": "2025-08-05T15:23:36.118214Z",
     "shell.execute_reply": "2025-08-05T15:23:36.117411Z"
    },
    "papermill": {
     "duration": 0.017518,
     "end_time": "2025-08-05T15:23:36.120376",
     "exception": false,
     "start_time": "2025-08-05T15:23:36.102858",
     "status": "completed"
    },
    "tags": []
   },
   "outputs": [],
   "source": [
    "# Code nice names to column names\n",
    "\n",
    "excluded_features_columns = [\n",
    "    excluded_features_dictionary[f] for f in excluded_features if len(f) > 0 and f != \"none\"\n",
    "]"
   ]
  },
  {
   "cell_type": "code",
   "execution_count": 21,
   "id": "f84f73a2",
   "metadata": {
    "execution": {
     "iopub.execute_input": "2025-08-05T15:23:36.157355Z",
     "iopub.status.busy": "2025-08-05T15:23:36.156756Z",
     "iopub.status.idle": "2025-08-05T15:23:36.161833Z",
     "shell.execute_reply": "2025-08-05T15:23:36.160970Z"
    },
    "papermill": {
     "duration": 0.023906,
     "end_time": "2025-08-05T15:23:36.163402",
     "exception": false,
     "start_time": "2025-08-05T15:23:36.139496",
     "status": "completed"
    },
    "tags": []
   },
   "outputs": [],
   "source": [
    "from utils import flatten_once\n",
    "\n",
    "excluded_features_columns = flatten_once(excluded_features_columns)"
   ]
  },
  {
   "cell_type": "code",
   "execution_count": 22,
   "id": "884dea22",
   "metadata": {
    "execution": {
     "iopub.execute_input": "2025-08-05T15:23:36.184343Z",
     "iopub.status.busy": "2025-08-05T15:23:36.183976Z",
     "iopub.status.idle": "2025-08-05T15:23:36.194378Z",
     "shell.execute_reply": "2025-08-05T15:23:36.193530Z"
    },
    "papermill": {
     "duration": 0.02203,
     "end_time": "2025-08-05T15:23:36.195799",
     "exception": false,
     "start_time": "2025-08-05T15:23:36.173769",
     "status": "completed"
    },
    "tags": []
   },
   "outputs": [
    {
     "name": "stdout",
     "output_type": "stream",
     "text": [
      "Dropping features: ['frau1']\n"
     ]
    }
   ],
   "source": [
    "if len(excluded_features_columns) > 0:\n",
    "    print(f\"Dropping features: {excluded_features_columns}\")\n",
    "    X_train.drop(excluded_features_columns, axis=1, inplace=True)"
   ]
  },
  {
   "cell_type": "code",
   "execution_count": 23,
   "id": "95ab8b16",
   "metadata": {
    "execution": {
     "iopub.execute_input": "2025-08-05T15:23:36.217359Z",
     "iopub.status.busy": "2025-08-05T15:23:36.216878Z",
     "iopub.status.idle": "2025-08-05T15:23:36.264926Z",
     "shell.execute_reply": "2025-08-05T15:23:36.263819Z"
    },
    "papermill": {
     "duration": 0.060001,
     "end_time": "2025-08-05T15:23:36.266694",
     "exception": false,
     "start_time": "2025-08-05T15:23:36.206693",
     "status": "completed"
    },
    "tags": []
   },
   "outputs": [
    {
     "name": "stdout",
     "output_type": "stream",
     "text": [
      "Dropping features: ['frau1']\n"
     ]
    }
   ],
   "source": [
    "if len(excluded_features_columns) > 0:\n",
    "    print(f\"Dropping features: {excluded_features_columns}\")\n",
    "    X_test.drop(excluded_features_columns, axis=1, inplace=True)"
   ]
  },
  {
   "cell_type": "code",
   "execution_count": 24,
   "id": "1853aaf5-fb9f-46cb-a2b5-8ea4ae2237e4",
   "metadata": {
    "execution": {
     "iopub.execute_input": "2025-08-05T15:23:36.287964Z",
     "iopub.status.busy": "2025-08-05T15:23:36.287662Z",
     "iopub.status.idle": "2025-08-05T15:23:36.335314Z",
     "shell.execute_reply": "2025-08-05T15:23:36.334297Z"
    },
    "papermill": {
     "duration": 0.059693,
     "end_time": "2025-08-05T15:23:36.337142",
     "exception": false,
     "start_time": "2025-08-05T15:23:36.277449",
     "status": "completed"
    },
    "tags": []
   },
   "outputs": [
    {
     "name": "stdout",
     "output_type": "stream",
     "text": [
      "Dropping features: ['frau1']\n"
     ]
    }
   ],
   "source": [
    "if len(excluded_features_columns) > 0:\n",
    "    print(f\"Dropping features: {excluded_features_columns}\")\n",
    "    X_calib.drop(excluded_features_columns, axis=1, inplace=True)"
   ]
  },
  {
   "cell_type": "code",
   "execution_count": 25,
   "id": "76c4dc6d",
   "metadata": {
    "execution": {
     "iopub.execute_input": "2025-08-05T15:23:36.374940Z",
     "iopub.status.busy": "2025-08-05T15:23:36.374151Z",
     "iopub.status.idle": "2025-08-05T15:23:36.380559Z",
     "shell.execute_reply": "2025-08-05T15:23:36.379458Z"
    },
    "papermill": {
     "duration": 0.026985,
     "end_time": "2025-08-05T15:23:36.382389",
     "exception": false,
     "start_time": "2025-08-05T15:23:36.355404",
     "status": "completed"
    },
    "tags": []
   },
   "outputs": [],
   "source": [
    "# EXCLUDE CERTAIN SUBGROUPS\n",
    "# ----------------------\n",
    "\n",
    "mode = universe.get(\"exclude_subgroups\", \"keep-all\") \n",
    "# Fetches the exclude_subgroups setting from the universe dict.\n",
    "# Defaults to \"keep-all\" if the key is missing."
   ]
  },
  {
   "cell_type": "code",
   "execution_count": 26,
   "id": "21994072",
   "metadata": {
    "execution": {
     "iopub.execute_input": "2025-08-05T15:23:36.422531Z",
     "iopub.status.busy": "2025-08-05T15:23:36.421638Z",
     "iopub.status.idle": "2025-08-05T15:23:36.428733Z",
     "shell.execute_reply": "2025-08-05T15:23:36.427779Z"
    },
    "papermill": {
     "duration": 0.028158,
     "end_time": "2025-08-05T15:23:36.430479",
     "exception": false,
     "start_time": "2025-08-05T15:23:36.402321",
     "status": "completed"
    },
    "tags": []
   },
   "outputs": [],
   "source": [
    "if mode == \"keep-all\":\n",
    "    keep_mask = pd.Series(True, index=org_train.index)\n",
    "\n",
    "# org_train contains the original feature columns from features_org (in Simson)\n",
    "# features_org contains unprocessed features, for me X_train at beginning ???\n",
    "# For keep-all, creates a boolean Series (keep_mask) of all True, so no rows are removed.\n",
    "\n",
    "elif mode == \"drop-non-german\":\n",
    "    keep_mask = org_train[\"maxdeutsch1\"] == 1 # ??? what about missing values?\n",
    "\n",
    "else:\n",
    "    raise ValueError(f\"Unsupported mode for exclude_subgroups: {mode}\")"
   ]
  },
  {
   "cell_type": "code",
   "execution_count": 27,
   "id": "71651440",
   "metadata": {
    "execution": {
     "iopub.execute_input": "2025-08-05T15:23:36.471928Z",
     "iopub.status.busy": "2025-08-05T15:23:36.471203Z",
     "iopub.status.idle": "2025-08-05T15:23:36.478052Z",
     "shell.execute_reply": "2025-08-05T15:23:36.476925Z"
    },
    "papermill": {
     "duration": 0.028724,
     "end_time": "2025-08-05T15:23:36.479717",
     "exception": false,
     "start_time": "2025-08-05T15:23:36.450993",
     "status": "completed"
    },
    "tags": []
   },
   "outputs": [],
   "source": [
    "n_drop = (~keep_mask).sum() # Calculates how many rows are set to be dropped\n",
    "if n_drop > 0:\n",
    "    pct = n_drop / len(keep_mask) * 100\n",
    "    print(f\"Dropping {n_drop} rows ({pct:.2f}%) where mode='{mode}'\")"
   ]
  },
  {
   "cell_type": "code",
   "execution_count": 28,
   "id": "5fb8eee5",
   "metadata": {
    "execution": {
     "iopub.execute_input": "2025-08-05T15:23:36.520328Z",
     "iopub.status.busy": "2025-08-05T15:23:36.519924Z",
     "iopub.status.idle": "2025-08-05T15:23:36.528282Z",
     "shell.execute_reply": "2025-08-05T15:23:36.527135Z"
    },
    "papermill": {
     "duration": 0.031403,
     "end_time": "2025-08-05T15:23:36.530175",
     "exception": false,
     "start_time": "2025-08-05T15:23:36.498772",
     "status": "completed"
    },
    "tags": []
   },
   "outputs": [],
   "source": [
    "X_train = X_train[keep_mask]"
   ]
  },
  {
   "cell_type": "code",
   "execution_count": 29,
   "id": "b202bb3a",
   "metadata": {
    "execution": {
     "iopub.execute_input": "2025-08-05T15:23:36.570159Z",
     "iopub.status.busy": "2025-08-05T15:23:36.569548Z",
     "iopub.status.idle": "2025-08-05T15:23:36.576148Z",
     "shell.execute_reply": "2025-08-05T15:23:36.574970Z"
    },
    "papermill": {
     "duration": 0.028767,
     "end_time": "2025-08-05T15:23:36.578172",
     "exception": false,
     "start_time": "2025-08-05T15:23:36.549405",
     "status": "completed"
    },
    "tags": []
   },
   "outputs": [],
   "source": [
    "y_train = y_train[keep_mask]"
   ]
  },
  {
   "cell_type": "markdown",
   "id": "493e2ac3",
   "metadata": {
    "papermill": {
     "duration": 0.019334,
     "end_time": "2025-08-05T15:23:36.618239",
     "exception": false,
     "start_time": "2025-08-05T15:23:36.598905",
     "status": "completed"
    },
    "tags": []
   },
   "source": [
    "# Model Training"
   ]
  },
  {
   "cell_type": "code",
   "execution_count": 30,
   "id": "679e1268",
   "metadata": {
    "execution": {
     "iopub.execute_input": "2025-08-05T15:23:36.658306Z",
     "iopub.status.busy": "2025-08-05T15:23:36.657682Z",
     "iopub.status.idle": "2025-08-05T15:23:36.762884Z",
     "shell.execute_reply": "2025-08-05T15:23:36.761865Z"
    },
    "papermill": {
     "duration": 0.128099,
     "end_time": "2025-08-05T15:23:36.764989",
     "exception": false,
     "start_time": "2025-08-05T15:23:36.636890",
     "status": "completed"
    },
    "tags": []
   },
   "outputs": [],
   "source": [
    "from sklearn.linear_model import LogisticRegression\n",
    "from sklearn.ensemble import GradientBoostingClassifier, RandomForestClassifier\n",
    "\n",
    "if (universe[\"model\"] == \"logreg\"):\n",
    "    model = LogisticRegression() #penalty=\"none\", solver=\"newton-cg\", max_iter=1) # include random_state=19 ?\n",
    "elif (universe[\"model\"] == \"penalized_logreg\"):\n",
    "    model = LogisticRegression(penalty=\"l2\", C=0.1) #, solver=\"newton-cg\", max_iter=1)\n",
    "elif (universe[\"model\"] == \"rf\"):\n",
    "    model = RandomForestClassifier() # n_estimators=100, n_jobs=-1\n",
    "elif (universe[\"model\"] == \"gbm\"):\n",
    "    model = GradientBoostingClassifier()\n",
    "elif (universe[\"model\"] == \"elasticnet\"):\n",
    "    model = LogisticRegression(penalty = 'elasticnet', solver = 'saga', l1_ratio = 0.5) # max_iter=5000\n",
    "else:\n",
    "    raise \"Unsupported universe.model\""
   ]
  },
  {
   "cell_type": "code",
   "execution_count": 31,
   "id": "0cc8f744",
   "metadata": {
    "execution": {
     "iopub.execute_input": "2025-08-05T15:23:36.806423Z",
     "iopub.status.busy": "2025-08-05T15:23:36.805860Z",
     "iopub.status.idle": "2025-08-05T15:23:36.812584Z",
     "shell.execute_reply": "2025-08-05T15:23:36.811500Z"
    },
    "papermill": {
     "duration": 0.029616,
     "end_time": "2025-08-05T15:23:36.814643",
     "exception": false,
     "start_time": "2025-08-05T15:23:36.785027",
     "status": "completed"
    },
    "tags": []
   },
   "outputs": [],
   "source": [
    "import numpy as np\n",
    "from sklearn.pipeline import Pipeline\n",
    "from sklearn.preprocessing import StandardScaler\n",
    "\n",
    "model = Pipeline([\n",
    "    #(\"continuous_processor\", continuous_processor),\n",
    "    #(\"categorical_preprocessor\", categorical_preprocessor),\n",
    "    (\"scale\", StandardScaler() if universe[\"scale\"] == \"scale\" else None), \n",
    "    (\"model\", model),\n",
    "])"
   ]
  },
  {
   "cell_type": "code",
   "execution_count": 32,
   "id": "9442c04d",
   "metadata": {
    "execution": {
     "iopub.execute_input": "2025-08-05T15:23:36.861763Z",
     "iopub.status.busy": "2025-08-05T15:23:36.861040Z",
     "iopub.status.idle": "2025-08-05T15:23:38.385415Z",
     "shell.execute_reply": "2025-08-05T15:23:38.384431Z"
    },
    "papermill": {
     "duration": 1.549303,
     "end_time": "2025-08-05T15:23:38.387253",
     "exception": false,
     "start_time": "2025-08-05T15:23:36.837950",
     "status": "completed"
    },
    "tags": []
   },
   "outputs": [
    {
     "data": {
      "text/html": [
       "<style>#sk-container-id-1 {color: black;background-color: white;}#sk-container-id-1 pre{padding: 0;}#sk-container-id-1 div.sk-toggleable {background-color: white;}#sk-container-id-1 label.sk-toggleable__label {cursor: pointer;display: block;width: 100%;margin-bottom: 0;padding: 0.3em;box-sizing: border-box;text-align: center;}#sk-container-id-1 label.sk-toggleable__label-arrow:before {content: \"▸\";float: left;margin-right: 0.25em;color: #696969;}#sk-container-id-1 label.sk-toggleable__label-arrow:hover:before {color: black;}#sk-container-id-1 div.sk-estimator:hover label.sk-toggleable__label-arrow:before {color: black;}#sk-container-id-1 div.sk-toggleable__content {max-height: 0;max-width: 0;overflow: hidden;text-align: left;background-color: #f0f8ff;}#sk-container-id-1 div.sk-toggleable__content pre {margin: 0.2em;color: black;border-radius: 0.25em;background-color: #f0f8ff;}#sk-container-id-1 input.sk-toggleable__control:checked~div.sk-toggleable__content {max-height: 200px;max-width: 100%;overflow: auto;}#sk-container-id-1 input.sk-toggleable__control:checked~label.sk-toggleable__label-arrow:before {content: \"▾\";}#sk-container-id-1 div.sk-estimator input.sk-toggleable__control:checked~label.sk-toggleable__label {background-color: #d4ebff;}#sk-container-id-1 div.sk-label input.sk-toggleable__control:checked~label.sk-toggleable__label {background-color: #d4ebff;}#sk-container-id-1 input.sk-hidden--visually {border: 0;clip: rect(1px 1px 1px 1px);clip: rect(1px, 1px, 1px, 1px);height: 1px;margin: -1px;overflow: hidden;padding: 0;position: absolute;width: 1px;}#sk-container-id-1 div.sk-estimator {font-family: monospace;background-color: #f0f8ff;border: 1px dotted black;border-radius: 0.25em;box-sizing: border-box;margin-bottom: 0.5em;}#sk-container-id-1 div.sk-estimator:hover {background-color: #d4ebff;}#sk-container-id-1 div.sk-parallel-item::after {content: \"\";width: 100%;border-bottom: 1px solid gray;flex-grow: 1;}#sk-container-id-1 div.sk-label:hover label.sk-toggleable__label {background-color: #d4ebff;}#sk-container-id-1 div.sk-serial::before {content: \"\";position: absolute;border-left: 1px solid gray;box-sizing: border-box;top: 0;bottom: 0;left: 50%;z-index: 0;}#sk-container-id-1 div.sk-serial {display: flex;flex-direction: column;align-items: center;background-color: white;padding-right: 0.2em;padding-left: 0.2em;position: relative;}#sk-container-id-1 div.sk-item {position: relative;z-index: 1;}#sk-container-id-1 div.sk-parallel {display: flex;align-items: stretch;justify-content: center;background-color: white;position: relative;}#sk-container-id-1 div.sk-item::before, #sk-container-id-1 div.sk-parallel-item::before {content: \"\";position: absolute;border-left: 1px solid gray;box-sizing: border-box;top: 0;bottom: 0;left: 50%;z-index: -1;}#sk-container-id-1 div.sk-parallel-item {display: flex;flex-direction: column;z-index: 1;position: relative;background-color: white;}#sk-container-id-1 div.sk-parallel-item:first-child::after {align-self: flex-end;width: 50%;}#sk-container-id-1 div.sk-parallel-item:last-child::after {align-self: flex-start;width: 50%;}#sk-container-id-1 div.sk-parallel-item:only-child::after {width: 0;}#sk-container-id-1 div.sk-dashed-wrapped {border: 1px dashed gray;margin: 0 0.4em 0.5em 0.4em;box-sizing: border-box;padding-bottom: 0.4em;background-color: white;}#sk-container-id-1 div.sk-label label {font-family: monospace;font-weight: bold;display: inline-block;line-height: 1.2em;}#sk-container-id-1 div.sk-label-container {text-align: center;}#sk-container-id-1 div.sk-container {/* jupyter's `normalize.less` sets `[hidden] { display: none; }` but bootstrap.min.css set `[hidden] { display: none !important; }` so we also need the `!important` here to be able to override the default hidden behavior on the sphinx rendered scikit-learn.org. See: https://github.com/scikit-learn/scikit-learn/issues/21755 */display: inline-block !important;position: relative;}#sk-container-id-1 div.sk-text-repr-fallback {display: none;}</style><div id=\"sk-container-id-1\" class=\"sk-top-container\"><div class=\"sk-text-repr-fallback\"><pre>Pipeline(steps=[(&#x27;scale&#x27;, StandardScaler()),\n",
       "                (&#x27;model&#x27;, RandomForestClassifier())])</pre><b>In a Jupyter environment, please rerun this cell to show the HTML representation or trust the notebook. <br />On GitHub, the HTML representation is unable to render, please try loading this page with nbviewer.org.</b></div><div class=\"sk-container\" hidden><div class=\"sk-item sk-dashed-wrapped\"><div class=\"sk-label-container\"><div class=\"sk-label sk-toggleable\"><input class=\"sk-toggleable__control sk-hidden--visually\" id=\"sk-estimator-id-1\" type=\"checkbox\" ><label for=\"sk-estimator-id-1\" class=\"sk-toggleable__label sk-toggleable__label-arrow\">Pipeline</label><div class=\"sk-toggleable__content\"><pre>Pipeline(steps=[(&#x27;scale&#x27;, StandardScaler()),\n",
       "                (&#x27;model&#x27;, RandomForestClassifier())])</pre></div></div></div><div class=\"sk-serial\"><div class=\"sk-item\"><div class=\"sk-estimator sk-toggleable\"><input class=\"sk-toggleable__control sk-hidden--visually\" id=\"sk-estimator-id-2\" type=\"checkbox\" ><label for=\"sk-estimator-id-2\" class=\"sk-toggleable__label sk-toggleable__label-arrow\">StandardScaler</label><div class=\"sk-toggleable__content\"><pre>StandardScaler()</pre></div></div></div><div class=\"sk-item\"><div class=\"sk-estimator sk-toggleable\"><input class=\"sk-toggleable__control sk-hidden--visually\" id=\"sk-estimator-id-3\" type=\"checkbox\" ><label for=\"sk-estimator-id-3\" class=\"sk-toggleable__label sk-toggleable__label-arrow\">RandomForestClassifier</label><div class=\"sk-toggleable__content\"><pre>RandomForestClassifier()</pre></div></div></div></div></div></div></div>"
      ],
      "text/plain": [
       "Pipeline(steps=[('scale', StandardScaler()),\n",
       "                ('model', RandomForestClassifier())])"
      ]
     },
     "execution_count": 32,
     "metadata": {},
     "output_type": "execute_result"
    }
   ],
   "source": [
    "model.fit(X_train, y_train.values.ravel())"
   ]
  },
  {
   "cell_type": "code",
   "execution_count": 33,
   "id": "af59f8c0",
   "metadata": {
    "execution": {
     "iopub.execute_input": "2025-08-05T15:23:38.434258Z",
     "iopub.status.busy": "2025-08-05T15:23:38.433775Z",
     "iopub.status.idle": "2025-08-05T15:23:38.440545Z",
     "shell.execute_reply": "2025-08-05T15:23:38.439425Z"
    },
    "papermill": {
     "duration": 0.032217,
     "end_time": "2025-08-05T15:23:38.442418",
     "exception": false,
     "start_time": "2025-08-05T15:23:38.410201",
     "status": "completed"
    },
    "tags": []
   },
   "outputs": [],
   "source": [
    "from fairness_multiverse.universe import predict_w_threshold"
   ]
  },
  {
   "cell_type": "code",
   "execution_count": 34,
   "id": "a7cf2e16",
   "metadata": {
    "execution": {
     "iopub.execute_input": "2025-08-05T15:23:38.490397Z",
     "iopub.status.busy": "2025-08-05T15:23:38.489389Z",
     "iopub.status.idle": "2025-08-05T15:23:41.108739Z",
     "shell.execute_reply": "2025-08-05T15:23:41.107784Z"
    },
    "papermill": {
     "duration": 2.645104,
     "end_time": "2025-08-05T15:23:41.110432",
     "exception": false,
     "start_time": "2025-08-05T15:23:38.465328",
     "status": "completed"
    },
    "tags": []
   },
   "outputs": [
    {
     "data": {
      "text/plain": [
       "0.8628915394047486"
      ]
     },
     "execution_count": 34,
     "metadata": {},
     "output_type": "execute_result"
    }
   ],
   "source": [
    "probs_test = model.predict_proba(X_test)\n",
    "\n",
    "'''\n",
    "Below code returns a boolean array (or binary 0/1 array depending on how it’s used) where each element \n",
    "is True if the probability of class 1 is greater than or equal to the threshold, and False otherwise.\n",
    "'''\n",
    "y_pred_default = predict_w_threshold(probs_test, 0.5)\n",
    "\n",
    "from sklearn.metrics import accuracy_score\n",
    "\n",
    "# Naive prediction\n",
    "accuracy_score(y_true = y_true, y_pred = y_pred_default)"
   ]
  },
  {
   "cell_type": "code",
   "execution_count": 35,
   "id": "081964c3",
   "metadata": {
    "execution": {
     "iopub.execute_input": "2025-08-05T15:23:41.159935Z",
     "iopub.status.busy": "2025-08-05T15:23:41.158987Z",
     "iopub.status.idle": "2025-08-05T15:23:43.751331Z",
     "shell.execute_reply": "2025-08-05T15:23:43.750340Z"
    },
    "papermill": {
     "duration": 2.617855,
     "end_time": "2025-08-05T15:23:43.753043",
     "exception": false,
     "start_time": "2025-08-05T15:23:41.135188",
     "status": "completed"
    },
    "tags": []
   },
   "outputs": [
    {
     "data": {
      "text/plain": [
       "array([0, 0, 0, ..., 0, 0, 0])"
      ]
     },
     "execution_count": 35,
     "metadata": {},
     "output_type": "execute_result"
    }
   ],
   "source": [
    "model.predict(X_test)"
   ]
  },
  {
   "cell_type": "markdown",
   "id": "56c9705b",
   "metadata": {
    "papermill": {
     "duration": 0.021675,
     "end_time": "2025-08-05T15:23:43.798538",
     "exception": false,
     "start_time": "2025-08-05T15:23:43.776863",
     "status": "completed"
    },
    "tags": []
   },
   "source": [
    "# Conformal Prediction"
   ]
  },
  {
   "cell_type": "code",
   "execution_count": 36,
   "id": "160ec6ff",
   "metadata": {
    "execution": {
     "iopub.execute_input": "2025-08-05T15:23:43.847193Z",
     "iopub.status.busy": "2025-08-05T15:23:43.846189Z",
     "iopub.status.idle": "2025-08-05T15:23:43.851909Z",
     "shell.execute_reply": "2025-08-05T15:23:43.850880Z"
    },
    "papermill": {
     "duration": 0.032597,
     "end_time": "2025-08-05T15:23:43.854056",
     "exception": false,
     "start_time": "2025-08-05T15:23:43.821459",
     "status": "completed"
    },
    "tags": []
   },
   "outputs": [],
   "source": [
    "# Miscoverage level for conformal prediction (10% allowed error rate => 90% target coverage)\n",
    "alpha = 0.1"
   ]
  },
  {
   "cell_type": "code",
   "execution_count": 37,
   "id": "eadf4555-3dd3-440e-8e35-f82a4ad9f855",
   "metadata": {
    "execution": {
     "iopub.execute_input": "2025-08-05T15:23:43.901415Z",
     "iopub.status.busy": "2025-08-05T15:23:43.900938Z",
     "iopub.status.idle": "2025-08-05T15:23:46.446988Z",
     "shell.execute_reply": "2025-08-05T15:23:46.445790Z"
    },
    "papermill": {
     "duration": 2.572205,
     "end_time": "2025-08-05T15:23:46.448811",
     "exception": false,
     "start_time": "2025-08-05T15:23:43.876606",
     "status": "completed"
    },
    "tags": []
   },
   "outputs": [],
   "source": [
    "probs_calib = model.predict_proba(X_calib)"
   ]
  },
  {
   "cell_type": "code",
   "execution_count": 38,
   "id": "2ed93547-6d5d-4983-9b36-1ecb300da49a",
   "metadata": {
    "execution": {
     "iopub.execute_input": "2025-08-05T15:23:46.493323Z",
     "iopub.status.busy": "2025-08-05T15:23:46.492649Z",
     "iopub.status.idle": "2025-08-05T15:23:46.499222Z",
     "shell.execute_reply": "2025-08-05T15:23:46.498083Z"
    },
    "papermill": {
     "duration": 0.031382,
     "end_time": "2025-08-05T15:23:46.501216",
     "exception": false,
     "start_time": "2025-08-05T15:23:46.469834",
     "status": "completed"
    },
    "tags": []
   },
   "outputs": [],
   "source": [
    "y_calib = y_calib.values.ravel().astype(int)"
   ]
  },
  {
   "cell_type": "code",
   "execution_count": 39,
   "id": "65d1320d-f588-4b38-9072-62af1ae97f7d",
   "metadata": {
    "execution": {
     "iopub.execute_input": "2025-08-05T15:23:46.545455Z",
     "iopub.status.busy": "2025-08-05T15:23:46.544339Z",
     "iopub.status.idle": "2025-08-05T15:23:46.553404Z",
     "shell.execute_reply": "2025-08-05T15:23:46.552057Z"
    },
    "papermill": {
     "duration": 0.033579,
     "end_time": "2025-08-05T15:23:46.555594",
     "exception": false,
     "start_time": "2025-08-05T15:23:46.522015",
     "status": "completed"
    },
    "tags": []
   },
   "outputs": [],
   "source": [
    "from fairness_multiverse.conformal import compute_nc_scores\n",
    "\n",
    "# Compute nonconformity scores on calibration set (1 - probability of true class)\n",
    "nc_scores = compute_nc_scores(probs_calib, y_calib)"
   ]
  },
  {
   "cell_type": "code",
   "execution_count": 40,
   "id": "df3b8ca3-53b7-43d5-9667-7c85da7aeda2",
   "metadata": {
    "execution": {
     "iopub.execute_input": "2025-08-05T15:23:46.599125Z",
     "iopub.status.busy": "2025-08-05T15:23:46.597877Z",
     "iopub.status.idle": "2025-08-05T15:23:46.609275Z",
     "shell.execute_reply": "2025-08-05T15:23:46.608269Z"
    },
    "papermill": {
     "duration": 0.034411,
     "end_time": "2025-08-05T15:23:46.611198",
     "exception": false,
     "start_time": "2025-08-05T15:23:46.576787",
     "status": "completed"
    },
    "tags": []
   },
   "outputs": [],
   "source": [
    "from fairness_multiverse.conformal import find_threshold\n",
    "\n",
    "# Find conformal threshold q_hat for the given alpha (split conformal method)\n",
    "q_hat = find_threshold(nc_scores, alpha)"
   ]
  },
  {
   "cell_type": "code",
   "execution_count": 41,
   "id": "4d29e6c1-0ef6-4aa4-b8fe-4fe79b0d033a",
   "metadata": {
    "execution": {
     "iopub.execute_input": "2025-08-05T15:23:46.656679Z",
     "iopub.status.busy": "2025-08-05T15:23:46.656095Z",
     "iopub.status.idle": "2025-08-05T15:23:46.665184Z",
     "shell.execute_reply": "2025-08-05T15:23:46.664016Z"
    },
    "papermill": {
     "duration": 0.033568,
     "end_time": "2025-08-05T15:23:46.667176",
     "exception": false,
     "start_time": "2025-08-05T15:23:46.633608",
     "status": "completed"
    },
    "tags": []
   },
   "outputs": [
    {
     "data": {
      "text/plain": [
       "0.6699999999999999"
      ]
     },
     "execution_count": 41,
     "metadata": {},
     "output_type": "execute_result"
    }
   ],
   "source": [
    "q_hat"
   ]
  },
  {
   "cell_type": "code",
   "execution_count": 42,
   "id": "92460794-cdac-4be2-ba28-f28c0515a6fb",
   "metadata": {
    "execution": {
     "iopub.execute_input": "2025-08-05T15:23:46.713333Z",
     "iopub.status.busy": "2025-08-05T15:23:46.712840Z",
     "iopub.status.idle": "2025-08-05T15:23:50.749156Z",
     "shell.execute_reply": "2025-08-05T15:23:50.747914Z"
    },
    "papermill": {
     "duration": 4.062517,
     "end_time": "2025-08-05T15:23:50.751360",
     "exception": false,
     "start_time": "2025-08-05T15:23:46.688843",
     "status": "completed"
    },
    "tags": []
   },
   "outputs": [],
   "source": [
    "from fairness_multiverse.conformal import predict_conformal_sets\n",
    "\n",
    "# Generate prediction sets for each test example\n",
    "pred_sets = predict_conformal_sets(model, X_test, q_hat)"
   ]
  },
  {
   "cell_type": "code",
   "execution_count": 43,
   "id": "d90c9a65-e6db-4f5d-80cd-e68fb7e46829",
   "metadata": {
    "execution": {
     "iopub.execute_input": "2025-08-05T15:23:50.798695Z",
     "iopub.status.busy": "2025-08-05T15:23:50.798226Z",
     "iopub.status.idle": "2025-08-05T15:23:50.804274Z",
     "shell.execute_reply": "2025-08-05T15:23:50.803308Z"
    },
    "papermill": {
     "duration": 0.030908,
     "end_time": "2025-08-05T15:23:50.806164",
     "exception": false,
     "start_time": "2025-08-05T15:23:50.775256",
     "status": "completed"
    },
    "tags": []
   },
   "outputs": [],
   "source": [
    "y_true = y_true.squeeze()"
   ]
  },
  {
   "cell_type": "code",
   "execution_count": 44,
   "id": "3a58a54a-1e68-46b9-927a-df01f18aebc8",
   "metadata": {
    "execution": {
     "iopub.execute_input": "2025-08-05T15:23:50.852468Z",
     "iopub.status.busy": "2025-08-05T15:23:50.851766Z",
     "iopub.status.idle": "2025-08-05T15:23:51.888978Z",
     "shell.execute_reply": "2025-08-05T15:23:51.888053Z"
    },
    "papermill": {
     "duration": 1.062051,
     "end_time": "2025-08-05T15:23:51.890825",
     "exception": false,
     "start_time": "2025-08-05T15:23:50.828774",
     "status": "completed"
    },
    "tags": []
   },
   "outputs": [],
   "source": [
    "from fairness_multiverse.conformal import evaluate_sets\n",
    "\n",
    "# Evaluate coverage and average set size on test data\n",
    "metrics = evaluate_sets(pred_sets, y_true)"
   ]
  },
  {
   "cell_type": "markdown",
   "id": "2b569c12-9aaa-4c88-98c9-bbcd0cf3ebb8",
   "metadata": {
    "papermill": {
     "duration": 0.018854,
     "end_time": "2025-08-05T15:23:51.929700",
     "exception": false,
     "start_time": "2025-08-05T15:23:51.910846",
     "status": "completed"
    },
    "tags": []
   },
   "source": [
    "# CP Metrics"
   ]
  },
  {
   "cell_type": "code",
   "execution_count": 45,
   "id": "5ce0a5cb-201f-45a0-ade5-94c7f0bd6095",
   "metadata": {
    "execution": {
     "iopub.execute_input": "2025-08-05T15:23:51.969656Z",
     "iopub.status.busy": "2025-08-05T15:23:51.968765Z",
     "iopub.status.idle": "2025-08-05T15:23:51.976053Z",
     "shell.execute_reply": "2025-08-05T15:23:51.974981Z"
    },
    "papermill": {
     "duration": 0.02928,
     "end_time": "2025-08-05T15:23:51.977823",
     "exception": false,
     "start_time": "2025-08-05T15:23:51.948543",
     "status": "completed"
    },
    "tags": []
   },
   "outputs": [
    {
     "data": {
      "text/plain": [
       "{'coverage': 0.9144911381116932, 'avg_size': 1.1521123620555123}"
      ]
     },
     "execution_count": 45,
     "metadata": {},
     "output_type": "execute_result"
    }
   ],
   "source": [
    "metrics"
   ]
  },
  {
   "cell_type": "code",
   "execution_count": 46,
   "id": "9b9a838d-31c9-430b-ae14-12baee460d17",
   "metadata": {
    "execution": {
     "iopub.execute_input": "2025-08-05T15:23:52.025298Z",
     "iopub.status.busy": "2025-08-05T15:23:52.024641Z",
     "iopub.status.idle": "2025-08-05T15:23:52.031188Z",
     "shell.execute_reply": "2025-08-05T15:23:52.030128Z"
    },
    "papermill": {
     "duration": 0.031879,
     "end_time": "2025-08-05T15:23:52.033230",
     "exception": false,
     "start_time": "2025-08-05T15:23:52.001351",
     "status": "completed"
    },
    "tags": []
   },
   "outputs": [],
   "source": [
    "example_universe = universe.copy()\n",
    "universe_training_year = example_universe.get(\"training_year\")\n",
    "universe_training_size = example_universe.get(\"training_size\")\n",
    "universe_scale = example_universe.get(\"scale\")\n",
    "universe_model = example_universe.get(\"model\")\n",
    "universe_exclude_features = example_universe.get(\"exclude_features\")\n",
    "universe_exclude_subgroups = example_universe.get(\"exclude_subgroups\")"
   ]
  },
  {
   "cell_type": "code",
   "execution_count": 47,
   "id": "f4b6a8ac-9dc0-4245-8a91-5b3b5999c4f9",
   "metadata": {
    "execution": {
     "iopub.execute_input": "2025-08-05T15:23:52.082042Z",
     "iopub.status.busy": "2025-08-05T15:23:52.081057Z",
     "iopub.status.idle": "2025-08-05T15:23:52.087884Z",
     "shell.execute_reply": "2025-08-05T15:23:52.086892Z"
    },
    "papermill": {
     "duration": 0.032283,
     "end_time": "2025-08-05T15:23:52.089761",
     "exception": false,
     "start_time": "2025-08-05T15:23:52.057478",
     "status": "completed"
    },
    "tags": []
   },
   "outputs": [],
   "source": [
    "cp_metrics_dict = {\n",
    "    \"universe_id\": [universe_id],\n",
    "    \"universe_training_year\": [universe_training_year],\n",
    "    \"universe_training_size\": [universe_training_size],\n",
    "    \"universe_scale\": [universe_scale],\n",
    "    \"universe_model\": [universe_model],\n",
    "    \"universe_exclude_features\": [universe_exclude_features],\n",
    "    \"universe_exclude_subgroups\": [universe_exclude_subgroups],\n",
    "    \"q_hat\": [q_hat],\n",
    "    \"coverage\": [metrics[\"coverage\"]],\n",
    "    \"avg_size\": [metrics[\"avg_size\"]],\n",
    "}"
   ]
  },
  {
   "cell_type": "code",
   "execution_count": 48,
   "id": "908acbb1-0371-4915-85ca-3fa520d2efe2",
   "metadata": {
    "execution": {
     "iopub.execute_input": "2025-08-05T15:23:52.137030Z",
     "iopub.status.busy": "2025-08-05T15:23:52.136347Z",
     "iopub.status.idle": "2025-08-05T15:23:52.145312Z",
     "shell.execute_reply": "2025-08-05T15:23:52.144122Z"
    },
    "papermill": {
     "duration": 0.033943,
     "end_time": "2025-08-05T15:23:52.147299",
     "exception": false,
     "start_time": "2025-08-05T15:23:52.113356",
     "status": "completed"
    },
    "tags": []
   },
   "outputs": [
    {
     "data": {
      "text/plain": [
       "{'universe_id': ['a457ffe572c7335c47a8cfe0cca654b8'],\n",
       " 'universe_training_year': ['2014'],\n",
       " 'universe_training_size': ['5k'],\n",
       " 'universe_scale': ['scale'],\n",
       " 'universe_model': ['rf'],\n",
       " 'universe_exclude_features': ['sex'],\n",
       " 'universe_exclude_subgroups': ['keep-all'],\n",
       " 'q_hat': [0.6699999999999999],\n",
       " 'coverage': [0.9144911381116932],\n",
       " 'avg_size': [1.1521123620555123]}"
      ]
     },
     "execution_count": 48,
     "metadata": {},
     "output_type": "execute_result"
    }
   ],
   "source": [
    "cp_metrics_dict"
   ]
  },
  {
   "cell_type": "code",
   "execution_count": 49,
   "id": "33007efc-14e9-4ec6-97ac-56a455c82265",
   "metadata": {
    "execution": {
     "iopub.execute_input": "2025-08-05T15:23:52.188776Z",
     "iopub.status.busy": "2025-08-05T15:23:52.188077Z",
     "iopub.status.idle": "2025-08-05T15:23:52.194844Z",
     "shell.execute_reply": "2025-08-05T15:23:52.193816Z"
    },
    "papermill": {
     "duration": 0.028651,
     "end_time": "2025-08-05T15:23:52.196552",
     "exception": false,
     "start_time": "2025-08-05T15:23:52.167901",
     "status": "completed"
    },
    "tags": []
   },
   "outputs": [],
   "source": [
    "cp_metrics_df = pd.DataFrame(cp_metrics_dict)"
   ]
  },
  {
   "cell_type": "code",
   "execution_count": 50,
   "id": "db12611b-57b2-4910-b9d0-355adfd6e7bf",
   "metadata": {
    "execution": {
     "iopub.execute_input": "2025-08-05T15:23:52.240268Z",
     "iopub.status.busy": "2025-08-05T15:23:52.239291Z",
     "iopub.status.idle": "2025-08-05T15:23:52.259079Z",
     "shell.execute_reply": "2025-08-05T15:23:52.257999Z"
    },
    "papermill": {
     "duration": 0.042779,
     "end_time": "2025-08-05T15:23:52.261039",
     "exception": false,
     "start_time": "2025-08-05T15:23:52.218260",
     "status": "completed"
    },
    "tags": []
   },
   "outputs": [
    {
     "data": {
      "text/html": [
       "<div>\n",
       "<style scoped>\n",
       "    .dataframe tbody tr th:only-of-type {\n",
       "        vertical-align: middle;\n",
       "    }\n",
       "\n",
       "    .dataframe tbody tr th {\n",
       "        vertical-align: top;\n",
       "    }\n",
       "\n",
       "    .dataframe thead th {\n",
       "        text-align: right;\n",
       "    }\n",
       "</style>\n",
       "<table border=\"1\" class=\"dataframe\">\n",
       "  <thead>\n",
       "    <tr style=\"text-align: right;\">\n",
       "      <th></th>\n",
       "      <th>universe_id</th>\n",
       "      <th>universe_training_year</th>\n",
       "      <th>universe_training_size</th>\n",
       "      <th>universe_scale</th>\n",
       "      <th>universe_model</th>\n",
       "      <th>universe_exclude_features</th>\n",
       "      <th>universe_exclude_subgroups</th>\n",
       "      <th>q_hat</th>\n",
       "      <th>coverage</th>\n",
       "      <th>avg_size</th>\n",
       "    </tr>\n",
       "  </thead>\n",
       "  <tbody>\n",
       "    <tr>\n",
       "      <th>0</th>\n",
       "      <td>a457ffe572c7335c47a8cfe0cca654b8</td>\n",
       "      <td>2014</td>\n",
       "      <td>5k</td>\n",
       "      <td>scale</td>\n",
       "      <td>rf</td>\n",
       "      <td>sex</td>\n",
       "      <td>keep-all</td>\n",
       "      <td>0.67</td>\n",
       "      <td>0.914491</td>\n",
       "      <td>1.152112</td>\n",
       "    </tr>\n",
       "  </tbody>\n",
       "</table>\n",
       "</div>"
      ],
      "text/plain": [
       "                        universe_id universe_training_year  \\\n",
       "0  a457ffe572c7335c47a8cfe0cca654b8                   2014   \n",
       "\n",
       "  universe_training_size universe_scale universe_model  \\\n",
       "0                     5k          scale             rf   \n",
       "\n",
       "  universe_exclude_features universe_exclude_subgroups  q_hat  coverage  \\\n",
       "0                       sex                   keep-all   0.67  0.914491   \n",
       "\n",
       "   avg_size  \n",
       "0  1.152112  "
      ]
     },
     "execution_count": 50,
     "metadata": {},
     "output_type": "execute_result"
    }
   ],
   "source": [
    "cp_metrics_df"
   ]
  },
  {
   "cell_type": "code",
   "execution_count": 51,
   "id": "b7fbde55-a0a1-47e4-9af6-fe4a17fa8c61",
   "metadata": {
    "execution": {
     "iopub.execute_input": "2025-08-05T15:23:52.303879Z",
     "iopub.status.busy": "2025-08-05T15:23:52.303030Z",
     "iopub.status.idle": "2025-08-05T15:23:52.308340Z",
     "shell.execute_reply": "2025-08-05T15:23:52.307353Z"
    },
    "papermill": {
     "duration": 0.028209,
     "end_time": "2025-08-05T15:23:52.310114",
     "exception": false,
     "start_time": "2025-08-05T15:23:52.281905",
     "status": "completed"
    },
    "tags": []
   },
   "outputs": [],
   "source": [
    "# Conditional Coverage & looking at subgroups"
   ]
  },
  {
   "cell_type": "code",
   "execution_count": 52,
   "id": "027ae886-68dd-4141-96c7-805a5450e1ef",
   "metadata": {
    "execution": {
     "iopub.execute_input": "2025-08-05T15:23:52.353523Z",
     "iopub.status.busy": "2025-08-05T15:23:52.352831Z",
     "iopub.status.idle": "2025-08-05T15:23:52.628492Z",
     "shell.execute_reply": "2025-08-05T15:23:52.627225Z"
    },
    "papermill": {
     "duration": 0.298835,
     "end_time": "2025-08-05T15:23:52.630632",
     "exception": false,
     "start_time": "2025-08-05T15:23:52.331797",
     "status": "completed"
    },
    "tags": []
   },
   "outputs": [],
   "source": [
    "from fairness_multiverse.conformal import build_cp_groups\n",
    "\n",
    "cp_groups_df = build_cp_groups(pred_sets, y_true, X_test.index, org_test)\n",
    "#needs universe_id and setting"
   ]
  },
  {
   "cell_type": "code",
   "execution_count": 53,
   "id": "6cbdab96-b2b2-45af-ad54-d0516db2e28d",
   "metadata": {
    "execution": {
     "iopub.execute_input": "2025-08-05T15:23:52.658252Z",
     "iopub.status.busy": "2025-08-05T15:23:52.657880Z",
     "iopub.status.idle": "2025-08-05T15:23:54.774968Z",
     "shell.execute_reply": "2025-08-05T15:23:54.774019Z"
    },
    "papermill": {
     "duration": 2.132309,
     "end_time": "2025-08-05T15:23:54.776745",
     "exception": false,
     "start_time": "2025-08-05T15:23:52.644436",
     "status": "completed"
    },
    "tags": []
   },
   "outputs": [],
   "source": [
    "# Define covered = 1 if true_label is in the predicted set\n",
    "cp_groups_df['covered'] = cp_groups_df.apply(\n",
    "    lambda r: int(r['true_label'] in r['pred_set']),\n",
    "    axis=1\n",
    ")"
   ]
  },
  {
   "cell_type": "code",
   "execution_count": 54,
   "id": "338ff529-1a6b-4b87-a931-8e4788d52aad",
   "metadata": {
    "execution": {
     "iopub.execute_input": "2025-08-05T15:23:54.824009Z",
     "iopub.status.busy": "2025-08-05T15:23:54.823486Z",
     "iopub.status.idle": "2025-08-05T15:23:54.829187Z",
     "shell.execute_reply": "2025-08-05T15:23:54.828171Z"
    },
    "papermill": {
     "duration": 0.029818,
     "end_time": "2025-08-05T15:23:54.830979",
     "exception": false,
     "start_time": "2025-08-05T15:23:54.801161",
     "status": "completed"
    },
    "tags": []
   },
   "outputs": [],
   "source": [
    "#cp_groups_df"
   ]
  },
  {
   "cell_type": "code",
   "execution_count": 55,
   "id": "90032e27-66df-4540-9169-4e89cfbaa758",
   "metadata": {
    "execution": {
     "iopub.execute_input": "2025-08-05T15:23:54.877630Z",
     "iopub.status.busy": "2025-08-05T15:23:54.876833Z",
     "iopub.status.idle": "2025-08-05T15:23:54.888968Z",
     "shell.execute_reply": "2025-08-05T15:23:54.888105Z"
    },
    "papermill": {
     "duration": 0.036771,
     "end_time": "2025-08-05T15:23:54.890789",
     "exception": false,
     "start_time": "2025-08-05T15:23:54.854018",
     "status": "completed"
    },
    "tags": []
   },
   "outputs": [],
   "source": [
    "subgroups = ['frau1','nongerman','nongerman_male','nongerman_female']\n",
    "\n",
    "# Conditional coverage for subgroup==1\n",
    "cond_coverage = {\n",
    "    g: cp_groups_df.loc[cp_groups_df[g]==1, 'covered'].mean()\n",
    "    for g in subgroups\n",
    "}"
   ]
  },
  {
   "cell_type": "code",
   "execution_count": 56,
   "id": "1e348fb1-b9c3-45bc-ba23-f016827a7e0d",
   "metadata": {
    "execution": {
     "iopub.execute_input": "2025-08-05T15:23:54.935393Z",
     "iopub.status.busy": "2025-08-05T15:23:54.934706Z",
     "iopub.status.idle": "2025-08-05T15:23:54.942402Z",
     "shell.execute_reply": "2025-08-05T15:23:54.941318Z"
    },
    "papermill": {
     "duration": 0.031726,
     "end_time": "2025-08-05T15:23:54.944117",
     "exception": false,
     "start_time": "2025-08-05T15:23:54.912391",
     "status": "completed"
    },
    "tags": []
   },
   "outputs": [
    {
     "data": {
      "text/plain": [
       "{'frau1': 0.912144493867098,\n",
       " 'nongerman': 0.9072026048391624,\n",
       " 'nongerman_male': 0.9215527334954516,\n",
       " 'nongerman_female': 0.8834575260804769}"
      ]
     },
     "execution_count": 56,
     "metadata": {},
     "output_type": "execute_result"
    }
   ],
   "source": [
    "cond_coverage"
   ]
  },
  {
   "cell_type": "code",
   "execution_count": 57,
   "id": "f5093324-c3dd-4d63-bc4c-8d945e5c8bbb",
   "metadata": {
    "execution": {
     "iopub.execute_input": "2025-08-05T15:23:54.989866Z",
     "iopub.status.busy": "2025-08-05T15:23:54.989321Z",
     "iopub.status.idle": "2025-08-05T15:23:54.996843Z",
     "shell.execute_reply": "2025-08-05T15:23:54.995764Z"
    },
    "papermill": {
     "duration": 0.031445,
     "end_time": "2025-08-05T15:23:54.998629",
     "exception": false,
     "start_time": "2025-08-05T15:23:54.967184",
     "status": "completed"
    },
    "tags": []
   },
   "outputs": [],
   "source": [
    "for subgroup, cov in cond_coverage.items():\n",
    "    cp_metrics_df[f\"cov_{subgroup}\"] = cov"
   ]
  },
  {
   "cell_type": "code",
   "execution_count": 58,
   "id": "6e872e10-dbe5-49e8-b554-5030c98ff75d",
   "metadata": {
    "execution": {
     "iopub.execute_input": "2025-08-05T15:23:55.044370Z",
     "iopub.status.busy": "2025-08-05T15:23:55.043477Z",
     "iopub.status.idle": "2025-08-05T15:23:55.064657Z",
     "shell.execute_reply": "2025-08-05T15:23:55.063503Z"
    },
    "papermill": {
     "duration": 0.045119,
     "end_time": "2025-08-05T15:23:55.066595",
     "exception": false,
     "start_time": "2025-08-05T15:23:55.021476",
     "status": "completed"
    },
    "tags": []
   },
   "outputs": [
    {
     "data": {
      "text/html": [
       "<div>\n",
       "<style scoped>\n",
       "    .dataframe tbody tr th:only-of-type {\n",
       "        vertical-align: middle;\n",
       "    }\n",
       "\n",
       "    .dataframe tbody tr th {\n",
       "        vertical-align: top;\n",
       "    }\n",
       "\n",
       "    .dataframe thead th {\n",
       "        text-align: right;\n",
       "    }\n",
       "</style>\n",
       "<table border=\"1\" class=\"dataframe\">\n",
       "  <thead>\n",
       "    <tr style=\"text-align: right;\">\n",
       "      <th></th>\n",
       "      <th>universe_id</th>\n",
       "      <th>universe_training_year</th>\n",
       "      <th>universe_training_size</th>\n",
       "      <th>universe_scale</th>\n",
       "      <th>universe_model</th>\n",
       "      <th>universe_exclude_features</th>\n",
       "      <th>universe_exclude_subgroups</th>\n",
       "      <th>q_hat</th>\n",
       "      <th>coverage</th>\n",
       "      <th>avg_size</th>\n",
       "      <th>cov_frau1</th>\n",
       "      <th>cov_nongerman</th>\n",
       "      <th>cov_nongerman_male</th>\n",
       "      <th>cov_nongerman_female</th>\n",
       "    </tr>\n",
       "  </thead>\n",
       "  <tbody>\n",
       "    <tr>\n",
       "      <th>0</th>\n",
       "      <td>a457ffe572c7335c47a8cfe0cca654b8</td>\n",
       "      <td>2014</td>\n",
       "      <td>5k</td>\n",
       "      <td>scale</td>\n",
       "      <td>rf</td>\n",
       "      <td>sex</td>\n",
       "      <td>keep-all</td>\n",
       "      <td>0.67</td>\n",
       "      <td>0.914491</td>\n",
       "      <td>1.152112</td>\n",
       "      <td>0.912144</td>\n",
       "      <td>0.907203</td>\n",
       "      <td>0.921553</td>\n",
       "      <td>0.883458</td>\n",
       "    </tr>\n",
       "  </tbody>\n",
       "</table>\n",
       "</div>"
      ],
      "text/plain": [
       "                        universe_id universe_training_year  \\\n",
       "0  a457ffe572c7335c47a8cfe0cca654b8                   2014   \n",
       "\n",
       "  universe_training_size universe_scale universe_model  \\\n",
       "0                     5k          scale             rf   \n",
       "\n",
       "  universe_exclude_features universe_exclude_subgroups  q_hat  coverage  \\\n",
       "0                       sex                   keep-all   0.67  0.914491   \n",
       "\n",
       "   avg_size  cov_frau1  cov_nongerman  cov_nongerman_male  \\\n",
       "0  1.152112   0.912144       0.907203            0.921553   \n",
       "\n",
       "   cov_nongerman_female  \n",
       "0              0.883458  "
      ]
     },
     "execution_count": 58,
     "metadata": {},
     "output_type": "execute_result"
    }
   ],
   "source": [
    "cp_metrics_df"
   ]
  },
  {
   "cell_type": "markdown",
   "id": "33774451",
   "metadata": {
    "papermill": {
     "duration": 0.022273,
     "end_time": "2025-08-05T15:23:55.113962",
     "exception": false,
     "start_time": "2025-08-05T15:23:55.091689",
     "status": "completed"
    },
    "tags": []
   },
   "source": [
    "# (Fairness) Metrics"
   ]
  },
  {
   "cell_type": "code",
   "execution_count": 59,
   "id": "debc5d62",
   "metadata": {
    "execution": {
     "iopub.execute_input": "2025-08-05T15:23:55.161102Z",
     "iopub.status.busy": "2025-08-05T15:23:55.160605Z",
     "iopub.status.idle": "2025-08-05T15:23:55.182844Z",
     "shell.execute_reply": "2025-08-05T15:23:55.181902Z"
    },
    "papermill": {
     "duration": 0.047373,
     "end_time": "2025-08-05T15:23:55.184831",
     "exception": false,
     "start_time": "2025-08-05T15:23:55.137458",
     "status": "completed"
    },
    "tags": []
   },
   "outputs": [],
   "source": [
    "# do I need to include maxdeutsch1.missing?\n",
    "\n",
    "import numpy as np\n",
    "\n",
    "colname_to_bin = \"maxdeutsch1\"\n",
    "majority_value = org_train[colname_to_bin].mode()[0]\n",
    "\n",
    "org_test[\"majmin\"] = np.where(org_test[colname_to_bin] == majority_value, \"majority\", \"minority\")"
   ]
  },
  {
   "cell_type": "code",
   "execution_count": 60,
   "id": "06a50de5",
   "metadata": {
    "execution": {
     "iopub.execute_input": "2025-08-05T15:23:55.236071Z",
     "iopub.status.busy": "2025-08-05T15:23:55.235139Z",
     "iopub.status.idle": "2025-08-05T15:23:57.857208Z",
     "shell.execute_reply": "2025-08-05T15:23:57.855913Z"
    },
    "papermill": {
     "duration": 2.647865,
     "end_time": "2025-08-05T15:23:57.859180",
     "exception": false,
     "start_time": "2025-08-05T15:23:55.211315",
     "status": "completed"
    },
    "tags": []
   },
   "outputs": [],
   "source": [
    "example_universe = universe.copy()\n",
    "example_universe[\"cutoff\"] = example_universe[\"cutoff\"][0]\n",
    "example_universe[\"eval_fairness_grouping\"] = example_universe[\"eval_fairness_grouping\"][0]\n",
    "fairness_dict, metric_frame = universe_analysis.compute_metrics(\n",
    "    example_universe,\n",
    "    y_pred_prob=probs_test,\n",
    "    y_test=y_true,\n",
    "    org_test=org_test,\n",
    ")"
   ]
  },
  {
   "cell_type": "markdown",
   "id": "f95d4e02",
   "metadata": {
    "papermill": {
     "duration": 0.022079,
     "end_time": "2025-08-05T15:23:57.902975",
     "exception": false,
     "start_time": "2025-08-05T15:23:57.880896",
     "status": "completed"
    },
    "tags": []
   },
   "source": [
    "# Overall"
   ]
  },
  {
   "cell_type": "markdown",
   "id": "bdee4871",
   "metadata": {
    "papermill": {
     "duration": 0.022892,
     "end_time": "2025-08-05T15:23:57.947629",
     "exception": false,
     "start_time": "2025-08-05T15:23:57.924737",
     "status": "completed"
    },
    "tags": []
   },
   "source": [
    "Fairness\n",
    "Main fairness target: Equalized Odds. Seems to be a better fit than equal opportunity, since we're not only interested in Y = 1. Seems to be a better fit than demographic parity, since we also care about accuracy, not just equal distribution of preds.\n",
    "\n",
    "Pick column for computation of fairness metrics\n",
    "\n",
    "Performance\n",
    "Overall performance measures, most interesting in relation to the measures split by group below"
   ]
  },
  {
   "cell_type": "code",
   "execution_count": 61,
   "id": "c4e067c6",
   "metadata": {
    "execution": {
     "iopub.execute_input": "2025-08-05T15:23:57.994205Z",
     "iopub.status.busy": "2025-08-05T15:23:57.993508Z",
     "iopub.status.idle": "2025-08-05T15:23:58.004337Z",
     "shell.execute_reply": "2025-08-05T15:23:58.003221Z"
    },
    "papermill": {
     "duration": 0.036162,
     "end_time": "2025-08-05T15:23:58.006120",
     "exception": false,
     "start_time": "2025-08-05T15:23:57.969958",
     "status": "completed"
    },
    "tags": []
   },
   "outputs": [
    {
     "data": {
      "text/plain": [
       "accuracy                   0.193847\n",
       "balanced accuracy          0.531049\n",
       "f1                         0.238593\n",
       "precision                  0.135743\n",
       "false positive rate        0.922521\n",
       "false negative rate        0.015381\n",
       "selection rate             0.930487\n",
       "count                  89710.000000\n",
       "dtype: float64"
      ]
     },
     "execution_count": 61,
     "metadata": {},
     "output_type": "execute_result"
    }
   ],
   "source": [
    "metric_frame.overall"
   ]
  },
  {
   "cell_type": "markdown",
   "id": "e968fe9d",
   "metadata": {
    "papermill": {
     "duration": 0.022647,
     "end_time": "2025-08-05T15:23:58.052991",
     "exception": false,
     "start_time": "2025-08-05T15:23:58.030344",
     "status": "completed"
    },
    "tags": []
   },
   "source": [
    "By Group"
   ]
  },
  {
   "cell_type": "code",
   "execution_count": 62,
   "id": "ec325bce",
   "metadata": {
    "execution": {
     "iopub.execute_input": "2025-08-05T15:23:58.101293Z",
     "iopub.status.busy": "2025-08-05T15:23:58.100346Z",
     "iopub.status.idle": "2025-08-05T15:23:58.121922Z",
     "shell.execute_reply": "2025-08-05T15:23:58.120758Z"
    },
    "papermill": {
     "duration": 0.047463,
     "end_time": "2025-08-05T15:23:58.124026",
     "exception": false,
     "start_time": "2025-08-05T15:23:58.076563",
     "status": "completed"
    },
    "tags": []
   },
   "outputs": [
    {
     "data": {
      "text/html": [
       "<div>\n",
       "<style scoped>\n",
       "    .dataframe tbody tr th:only-of-type {\n",
       "        vertical-align: middle;\n",
       "    }\n",
       "\n",
       "    .dataframe tbody tr th {\n",
       "        vertical-align: top;\n",
       "    }\n",
       "\n",
       "    .dataframe thead th {\n",
       "        text-align: right;\n",
       "    }\n",
       "</style>\n",
       "<table border=\"1\" class=\"dataframe\">\n",
       "  <thead>\n",
       "    <tr style=\"text-align: right;\">\n",
       "      <th></th>\n",
       "      <th>accuracy</th>\n",
       "      <th>balanced accuracy</th>\n",
       "      <th>f1</th>\n",
       "      <th>precision</th>\n",
       "      <th>false positive rate</th>\n",
       "      <th>false negative rate</th>\n",
       "      <th>selection rate</th>\n",
       "      <th>count</th>\n",
       "    </tr>\n",
       "    <tr>\n",
       "      <th>majmin</th>\n",
       "      <th></th>\n",
       "      <th></th>\n",
       "      <th></th>\n",
       "      <th></th>\n",
       "      <th></th>\n",
       "      <th></th>\n",
       "      <th></th>\n",
       "      <th></th>\n",
       "    </tr>\n",
       "  </thead>\n",
       "  <tbody>\n",
       "    <tr>\n",
       "      <th>majority</th>\n",
       "      <td>0.194347</td>\n",
       "      <td>0.531806</td>\n",
       "      <td>0.245229</td>\n",
       "      <td>0.139938</td>\n",
       "      <td>0.926870</td>\n",
       "      <td>0.009519</td>\n",
       "      <td>0.935275</td>\n",
       "      <td>69170.0</td>\n",
       "    </tr>\n",
       "    <tr>\n",
       "      <th>minority</th>\n",
       "      <td>0.192162</td>\n",
       "      <td>0.526919</td>\n",
       "      <td>0.215424</td>\n",
       "      <td>0.121293</td>\n",
       "      <td>0.908155</td>\n",
       "      <td>0.038007</td>\n",
       "      <td>0.914362</td>\n",
       "      <td>20540.0</td>\n",
       "    </tr>\n",
       "  </tbody>\n",
       "</table>\n",
       "</div>"
      ],
      "text/plain": [
       "          accuracy  balanced accuracy        f1  precision  \\\n",
       "majmin                                                       \n",
       "majority  0.194347           0.531806  0.245229   0.139938   \n",
       "minority  0.192162           0.526919  0.215424   0.121293   \n",
       "\n",
       "          false positive rate  false negative rate  selection rate    count  \n",
       "majmin                                                                       \n",
       "majority             0.926870             0.009519        0.935275  69170.0  \n",
       "minority             0.908155             0.038007        0.914362  20540.0  "
      ]
     },
     "execution_count": 62,
     "metadata": {},
     "output_type": "execute_result"
    }
   ],
   "source": [
    "metric_frame.by_group"
   ]
  },
  {
   "cell_type": "code",
   "execution_count": 63,
   "id": "a9ddbe63",
   "metadata": {
    "execution": {
     "iopub.execute_input": "2025-08-05T15:23:58.171766Z",
     "iopub.status.busy": "2025-08-05T15:23:58.171363Z",
     "iopub.status.idle": "2025-08-05T15:24:00.727294Z",
     "shell.execute_reply": "2025-08-05T15:24:00.726415Z"
    },
    "papermill": {
     "duration": 2.581192,
     "end_time": "2025-08-05T15:24:00.728504",
     "exception": false,
     "start_time": "2025-08-05T15:23:58.147312",
     "status": "completed"
    },
    "tags": []
   },
   "outputs": [
    {
     "data": {
      "text/plain": [
       "array([[<Axes: title={'center': 'accuracy'}, xlabel='majmin'>,\n",
       "        <Axes: title={'center': 'balanced accuracy'}, xlabel='majmin'>,\n",
       "        <Axes: title={'center': 'f1'}, xlabel='majmin'>],\n",
       "       [<Axes: title={'center': 'precision'}, xlabel='majmin'>,\n",
       "        <Axes: title={'center': 'false positive rate'}, xlabel='majmin'>,\n",
       "        <Axes: title={'center': 'false negative rate'}, xlabel='majmin'>],\n",
       "       [<Axes: title={'center': 'selection rate'}, xlabel='majmin'>,\n",
       "        <Axes: title={'center': 'count'}, xlabel='majmin'>,\n",
       "        <Axes: xlabel='majmin'>]], dtype=object)"
      ]
     },
     "execution_count": 63,
     "metadata": {},
     "output_type": "execute_result"
    },
    {
     "data": {
      "image/png": "[encoded data removed]",
      "text/plain": [
       "<Figure size 1200x800 with 9 Axes>"
      ]
     },
     "metadata": {},
     "output_type": "display_data"
    }
   ],
   "source": [
    "# In a graphic\n",
    "metric_frame.by_group.plot.bar(\n",
    "    subplots=True,\n",
    "    layout=[3, 3],\n",
    "    legend=False,\n",
    "    figsize=[12, 8],\n",
    "    title=\"Show all metrics\",\n",
    ")"
   ]
  },
  {
   "cell_type": "markdown",
   "id": "f57a0bac",
   "metadata": {
    "papermill": {
     "duration": 0.013523,
     "end_time": "2025-08-05T15:24:00.759032",
     "exception": false,
     "start_time": "2025-08-05T15:24:00.745509",
     "status": "completed"
    },
    "tags": []
   },
   "source": [
    "# Final Output"
   ]
  },
  {
   "cell_type": "code",
   "execution_count": 64,
   "id": "96d280a3",
   "metadata": {
    "execution": {
     "iopub.execute_input": "2025-08-05T15:24:00.787441Z",
     "iopub.status.busy": "2025-08-05T15:24:00.786934Z",
     "iopub.status.idle": "2025-08-05T15:24:00.794087Z",
     "shell.execute_reply": "2025-08-05T15:24:00.793331Z"
    },
    "papermill": {
     "duration": 0.022467,
     "end_time": "2025-08-05T15:24:00.795591",
     "exception": false,
     "start_time": "2025-08-05T15:24:00.773124",
     "status": "completed"
    },
    "tags": []
   },
   "outputs": [
    {
     "data": {
      "text/plain": [
       "4"
      ]
     },
     "execution_count": 64,
     "metadata": {},
     "output_type": "execute_result"
    }
   ],
   "source": [
    "sub_universes = universe_analysis.generate_sub_universes()\n",
    "len(sub_universes)"
   ]
  },
  {
   "cell_type": "code",
   "execution_count": 65,
   "id": "92adf7ba",
   "metadata": {
    "execution": {
     "iopub.execute_input": "2025-08-05T15:24:00.853310Z",
     "iopub.status.busy": "2025-08-05T15:24:00.852922Z",
     "iopub.status.idle": "2025-08-05T15:24:00.858718Z",
     "shell.execute_reply": "2025-08-05T15:24:00.857571Z"
    },
    "papermill": {
     "duration": 0.035492,
     "end_time": "2025-08-05T15:24:00.860230",
     "exception": false,
     "start_time": "2025-08-05T15:24:00.824738",
     "status": "completed"
    },
    "tags": []
   },
   "outputs": [],
   "source": [
    "def filter_sub_universe_data(sub_universe, org_test):\n",
    "    # Keep all rows — no filtering\n",
    "    keep_rows_mask = np.ones(org_test.shape[0], dtype=bool)\n",
    "\n",
    "    print(f\"[INFO] Keeping all rows: {keep_rows_mask.sum()} rows retained.\")\n",
    "    return keep_rows_mask"
   ]
  },
  {
   "cell_type": "code",
   "execution_count": 66,
   "id": "4a759155",
   "metadata": {
    "execution": {
     "iopub.execute_input": "2025-08-05T15:24:00.890118Z",
     "iopub.status.busy": "2025-08-05T15:24:00.889697Z",
     "iopub.status.idle": "2025-08-05T15:24:08.881064Z",
     "shell.execute_reply": "2025-08-05T15:24:08.880218Z"
    },
    "papermill": {
     "duration": 8.007539,
     "end_time": "2025-08-05T15:24:08.882655",
     "exception": false,
     "start_time": "2025-08-05T15:24:00.875116",
     "status": "completed"
    },
    "tags": []
   },
   "outputs": [
    {
     "name": "stdout",
     "output_type": "stream",
     "text": [
      "Stopping execution_time clock.\n",
      "[INFO] Keeping all rows: 89710 rows retained.\n"
     ]
    },
    {
     "name": "stdout",
     "output_type": "stream",
     "text": [
      "[INFO] Keeping all rows: 89710 rows retained.\n"
     ]
    },
    {
     "name": "stdout",
     "output_type": "stream",
     "text": [
      "[INFO] Keeping all rows: 89710 rows retained.\n"
     ]
    },
    {
     "name": "stdout",
     "output_type": "stream",
     "text": [
      "[INFO] Keeping all rows: 89710 rows retained.\n"
     ]
    },
    {
     "data": {
      "text/html": [
       "<div>\n",
       "<style scoped>\n",
       "    .dataframe tbody tr th:only-of-type {\n",
       "        vertical-align: middle;\n",
       "    }\n",
       "\n",
       "    .dataframe tbody tr th {\n",
       "        vertical-align: top;\n",
       "    }\n",
       "\n",
       "    .dataframe thead th {\n",
       "        text-align: right;\n",
       "    }\n",
       "</style>\n",
       "<table border=\"1\" class=\"dataframe\">\n",
       "  <thead>\n",
       "    <tr style=\"text-align: right;\">\n",
       "      <th></th>\n",
       "      <th>run_no</th>\n",
       "      <th>universe_id</th>\n",
       "      <th>universe_settings</th>\n",
       "      <th>execution_time</th>\n",
       "      <th>test_size_n</th>\n",
       "      <th>test_size_frac</th>\n",
       "      <th>fair_main_equalized_odds_difference</th>\n",
       "      <th>fair_main_equalized_odds_ratio</th>\n",
       "      <th>fair_main_demographic_parity_difference</th>\n",
       "      <th>fair_main_demographic_parity_ratio</th>\n",
       "      <th>...</th>\n",
       "      <th>perf_grp_precision_0</th>\n",
       "      <th>perf_grp_precision_1</th>\n",
       "      <th>perf_grp_false positive rate_0</th>\n",
       "      <th>perf_grp_false positive rate_1</th>\n",
       "      <th>perf_grp_false negative rate_0</th>\n",
       "      <th>perf_grp_false negative rate_1</th>\n",
       "      <th>perf_grp_selection rate_0</th>\n",
       "      <th>perf_grp_selection rate_1</th>\n",
       "      <th>perf_grp_count_0</th>\n",
       "      <th>perf_grp_count_1</th>\n",
       "    </tr>\n",
       "  </thead>\n",
       "  <tbody>\n",
       "    <tr>\n",
       "      <th>0</th>\n",
       "      <td>15</td>\n",
       "      <td>a457ffe572c7335c47a8cfe0cca654b8</td>\n",
       "      <td>{\"cutoff\": \"quantile_0.1\", \"eval_fairness_grou...</td>\n",
       "      <td>38.286657</td>\n",
       "      <td>89710</td>\n",
       "      <td>1.0</td>\n",
       "      <td>0.028488</td>\n",
       "      <td>0.971238</td>\n",
       "      <td>0.020913</td>\n",
       "      <td>0.977640</td>\n",
       "      <td>...</td>\n",
       "      <td>NaN</td>\n",
       "      <td>NaN</td>\n",
       "      <td>NaN</td>\n",
       "      <td>NaN</td>\n",
       "      <td>NaN</td>\n",
       "      <td>NaN</td>\n",
       "      <td>NaN</td>\n",
       "      <td>NaN</td>\n",
       "      <td>NaN</td>\n",
       "      <td>NaN</td>\n",
       "    </tr>\n",
       "    <tr>\n",
       "      <th>0</th>\n",
       "      <td>15</td>\n",
       "      <td>a457ffe572c7335c47a8cfe0cca654b8</td>\n",
       "      <td>{\"cutoff\": \"quantile_0.1\", \"eval_fairness_grou...</td>\n",
       "      <td>38.286657</td>\n",
       "      <td>89710</td>\n",
       "      <td>1.0</td>\n",
       "      <td>0.028488</td>\n",
       "      <td>0.971238</td>\n",
       "      <td>0.020913</td>\n",
       "      <td>0.977640</td>\n",
       "      <td>...</td>\n",
       "      <td>0.121293</td>\n",
       "      <td>0.139938</td>\n",
       "      <td>0.908155</td>\n",
       "      <td>0.926870</td>\n",
       "      <td>0.038007</td>\n",
       "      <td>0.009519</td>\n",
       "      <td>0.914362</td>\n",
       "      <td>0.935275</td>\n",
       "      <td>20540.0</td>\n",
       "      <td>69170.0</td>\n",
       "    </tr>\n",
       "    <tr>\n",
       "      <th>0</th>\n",
       "      <td>15</td>\n",
       "      <td>a457ffe572c7335c47a8cfe0cca654b8</td>\n",
       "      <td>{\"cutoff\": \"quantile_0.25\", \"eval_fairness_gro...</td>\n",
       "      <td>38.286657</td>\n",
       "      <td>89710</td>\n",
       "      <td>1.0</td>\n",
       "      <td>0.089155</td>\n",
       "      <td>0.906175</td>\n",
       "      <td>0.051521</td>\n",
       "      <td>0.933374</td>\n",
       "      <td>...</td>\n",
       "      <td>NaN</td>\n",
       "      <td>NaN</td>\n",
       "      <td>NaN</td>\n",
       "      <td>NaN</td>\n",
       "      <td>NaN</td>\n",
       "      <td>NaN</td>\n",
       "      <td>NaN</td>\n",
       "      <td>NaN</td>\n",
       "      <td>NaN</td>\n",
       "      <td>NaN</td>\n",
       "    </tr>\n",
       "    <tr>\n",
       "      <th>0</th>\n",
       "      <td>15</td>\n",
       "      <td>a457ffe572c7335c47a8cfe0cca654b8</td>\n",
       "      <td>{\"cutoff\": \"quantile_0.25\", \"eval_fairness_gro...</td>\n",
       "      <td>38.286657</td>\n",
       "      <td>89710</td>\n",
       "      <td>1.0</td>\n",
       "      <td>0.089155</td>\n",
       "      <td>0.906175</td>\n",
       "      <td>0.051521</td>\n",
       "      <td>0.933374</td>\n",
       "      <td>...</td>\n",
       "      <td>0.137538</td>\n",
       "      <td>0.162373</td>\n",
       "      <td>0.703610</td>\n",
       "      <td>0.746343</td>\n",
       "      <td>0.138936</td>\n",
       "      <td>0.049781</td>\n",
       "      <td>0.721762</td>\n",
       "      <td>0.773283</td>\n",
       "      <td>20540.0</td>\n",
       "      <td>69170.0</td>\n",
       "    </tr>\n",
       "  </tbody>\n",
       "</table>\n",
       "<p>4 rows × 50 columns</p>\n",
       "</div>"
      ],
      "text/plain": [
       "  run_no                       universe_id  \\\n",
       "0     15  a457ffe572c7335c47a8cfe0cca654b8   \n",
       "0     15  a457ffe572c7335c47a8cfe0cca654b8   \n",
       "0     15  a457ffe572c7335c47a8cfe0cca654b8   \n",
       "0     15  a457ffe572c7335c47a8cfe0cca654b8   \n",
       "\n",
       "                                   universe_settings  execution_time  \\\n",
       "0  {\"cutoff\": \"quantile_0.1\", \"eval_fairness_grou...       38.286657   \n",
       "0  {\"cutoff\": \"quantile_0.1\", \"eval_fairness_grou...       38.286657   \n",
       "0  {\"cutoff\": \"quantile_0.25\", \"eval_fairness_gro...       38.286657   \n",
       "0  {\"cutoff\": \"quantile_0.25\", \"eval_fairness_gro...       38.286657   \n",
       "\n",
       "   test_size_n  test_size_frac  fair_main_equalized_odds_difference  \\\n",
       "0        89710             1.0                             0.028488   \n",
       "0        89710             1.0                             0.028488   \n",
       "0        89710             1.0                             0.089155   \n",
       "0        89710             1.0                             0.089155   \n",
       "\n",
       "   fair_main_equalized_odds_ratio  fair_main_demographic_parity_difference  \\\n",
       "0                        0.971238                                 0.020913   \n",
       "0                        0.971238                                 0.020913   \n",
       "0                        0.906175                                 0.051521   \n",
       "0                        0.906175                                 0.051521   \n",
       "\n",
       "   fair_main_demographic_parity_ratio  ...  perf_grp_precision_0  \\\n",
       "0                            0.977640  ...                   NaN   \n",
       "0                            0.977640  ...              0.121293   \n",
       "0                            0.933374  ...                   NaN   \n",
       "0                            0.933374  ...              0.137538   \n",
       "\n",
       "   perf_grp_precision_1  perf_grp_false positive rate_0  \\\n",
       "0                   NaN                             NaN   \n",
       "0              0.139938                        0.908155   \n",
       "0                   NaN                             NaN   \n",
       "0              0.162373                        0.703610   \n",
       "\n",
       "   perf_grp_false positive rate_1  perf_grp_false negative rate_0  \\\n",
       "0                             NaN                             NaN   \n",
       "0                        0.926870                        0.038007   \n",
       "0                             NaN                             NaN   \n",
       "0                        0.746343                        0.138936   \n",
       "\n",
       "   perf_grp_false negative rate_1  perf_grp_selection rate_0  \\\n",
       "0                             NaN                        NaN   \n",
       "0                        0.009519                   0.914362   \n",
       "0                             NaN                        NaN   \n",
       "0                        0.049781                   0.721762   \n",
       "\n",
       "   perf_grp_selection rate_1  perf_grp_count_0  perf_grp_count_1  \n",
       "0                        NaN               NaN               NaN  \n",
       "0                   0.935275           20540.0           69170.0  \n",
       "0                        NaN               NaN               NaN  \n",
       "0                   0.773283           20540.0           69170.0  \n",
       "\n",
       "[4 rows x 50 columns]"
      ]
     },
     "execution_count": 66,
     "metadata": {},
     "output_type": "execute_result"
    }
   ],
   "source": [
    "final_output = universe_analysis.generate_final_output(\n",
    "    y_pred_prob=probs_test,\n",
    "    y_test=y_true,\n",
    "    org_test=org_test,\n",
    "    filter_data=filter_sub_universe_data,\n",
    "    cp_metrics_df=cp_metrics_df,\n",
    "    save=True,\n",
    ")\n",
    "final_output"
   ]
  }
 ],
 "metadata": {
  "celltoolbar": "Tags",
  "kernelspec": {
   "display_name": "Python (CMA Fairness)",
   "language": "python",
   "name": "cma_fair_env"
  },
  "language_info": {
   "codemirror_mode": {
    "name": "ipython",
    "version": 3
   },
   "file_extension": ".py",
   "mimetype": "text/x-python",
   "name": "python",
   "nbconvert_exporter": "python",
   "pygments_lexer": "ipython3",
   "version": "3.10.12"
  },
  "papermill": {
   "default_parameters": {},
   "duration": 50.421261,
   "end_time": "2025-08-05T15:24:09.630041",
   "environment_variables": {},
   "exception": null,
   "input_path": "universe_analysis.ipynb",
   "output_path": "output/runs/15/notebooks/m_15-a457ffe572c7335c47a8cfe0cca654b8.ipynb",
   "parameters": {
    "output_dir": "output",
    "run_no": "15",
    "seed": "2023",
    "universe": "{\"cutoff\": [\"quantile_0.1\", \"quantile_0.25\"], \"eval_fairness_grouping\": [\"majority-minority\", \"nationality-all\"], \"exclude_features\": \"sex\", \"exclude_subgroups\": \"keep-all\", \"model\": \"rf\", \"scale\": \"scale\", \"training_size\": \"5k\", \"training_year\": \"2014\"}",
    "universe_id": "a457ffe572c7335c47a8cfe0cca654b8"
   },
   "start_time": "2025-08-05T15:23:19.208780",
   "version": "2.6.0"
  }
 },
 "nbformat": 4,
 "nbformat_minor": 5
}