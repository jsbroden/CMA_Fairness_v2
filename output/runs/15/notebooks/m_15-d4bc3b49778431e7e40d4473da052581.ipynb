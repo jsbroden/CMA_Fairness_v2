{
 "cells": [
  {
   "cell_type": "code",
   "execution_count": 1,
   "id": "f159f837-637b-42ba-96b5-ec9a68c44524",
   "metadata": {
    "execution": {
     "iopub.execute_input": "2025-08-05T16:10:48.614441Z",
     "iopub.status.busy": "2025-08-05T16:10:48.613728Z",
     "iopub.status.idle": "2025-08-05T16:10:48.627547Z",
     "shell.execute_reply": "2025-08-05T16:10:48.626570Z"
    },
    "papermill": {
     "duration": 0.033425,
     "end_time": "2025-08-05T16:10:48.629076",
     "exception": false,
     "start_time": "2025-08-05T16:10:48.595651",
     "status": "completed"
    },
    "tags": []
   },
   "outputs": [
    {
     "name": "stdout",
     "output_type": "stream",
     "text": [
      "/dss/dsshome1/0C/ra93lal2/cma/CMA_Fairness_v2\n"
     ]
    },
    {
     "name": "stderr",
     "output_type": "stream",
     "text": [
      "/dss/dsshome1/0C/ra93lal2/.local/share/virtualenvs/CMA_Fairness_v2-3j10GkSs/lib/python3.10/site-packages/IPython/core/magics/osm.py:393: UserWarning: This is now an optional IPython functionality, using bookmarks requires you to install the `pickleshare` library.\n",
      "  bkms = self.shell.db.get('bookmarks', {})\n",
      "/dss/dsshome1/0C/ra93lal2/.local/share/virtualenvs/CMA_Fairness_v2-3j10GkSs/lib/python3.10/site-packages/IPython/core/magics/osm.py:417: UserWarning: This is now an optional IPython functionality, setting dhist requires you to install the `pickleshare` library.\n",
      "  self.shell.db['dhist'] = compress_dhist(dhist)[-100:]\n"
     ]
    }
   ],
   "source": [
    "%cd ~/cma/CMA_Fairness_v2"
   ]
  },
  {
   "cell_type": "markdown",
   "id": "de2603b9",
   "metadata": {
    "papermill": {
     "duration": 0.01487,
     "end_time": "2025-08-05T16:10:48.661050",
     "exception": false,
     "start_time": "2025-08-05T16:10:48.646180",
     "status": "completed"
    },
    "tags": []
   },
   "source": [
    "The following cell holds the definition of our parameters, these values can be overriden by rendering the with e.g. the following command:\n",
    "\n",
    "papermill -p alpha 0.2 -p ratio 0.3 universe_analysis.ipynb output/test_run.ipynb"
   ]
  },
  {
   "cell_type": "code",
   "execution_count": 2,
   "id": "a80968a0-40bb-4fa9-85ef-2d5eefb01975",
   "metadata": {
    "execution": {
     "iopub.execute_input": "2025-08-05T16:10:48.694859Z",
     "iopub.status.busy": "2025-08-05T16:10:48.694370Z",
     "iopub.status.idle": "2025-08-05T16:10:48.700282Z",
     "shell.execute_reply": "2025-08-05T16:10:48.698788Z"
    },
    "papermill": {
     "duration": 0.025343,
     "end_time": "2025-08-05T16:10:48.702100",
     "exception": false,
     "start_time": "2025-08-05T16:10:48.676757",
     "status": "completed"
    },
    "tags": []
   },
   "outputs": [
    {
     "name": "stdout",
     "output_type": "stream",
     "text": [
      "Current working directory: /dss/dsshome1/0C/ra93lal2/cma/CMA_Fairness_v2\n"
     ]
    }
   ],
   "source": [
    "import os\n",
    "print(\"Current working directory:\", os.getcwd())"
   ]
  },
  {
   "cell_type": "code",
   "execution_count": 3,
   "id": "2dce4c03",
   "metadata": {
    "execution": {
     "iopub.execute_input": "2025-08-05T16:10:48.737206Z",
     "iopub.status.busy": "2025-08-05T16:10:48.736288Z",
     "iopub.status.idle": "2025-08-05T16:10:48.744067Z",
     "shell.execute_reply": "2025-08-05T16:10:48.742929Z"
    },
    "papermill": {
     "duration": 0.026956,
     "end_time": "2025-08-05T16:10:48.745895",
     "exception": false,
     "start_time": "2025-08-05T16:10:48.718939",
     "status": "completed"
    },
    "tags": [
     "parameters"
    ]
   },
   "outputs": [],
   "source": [
    "run_no = 0\n",
    "universe_id = \"test\"\n",
    "universe = {\n",
    "    \"training_size\": \"25k\", # \"25k\", \"5k\", \"1k\"\n",
    "    \"training_year\": \"2014\", # \"2014\", \"2012_14\", \"2010_14\"\n",
    "    \"scale\": \"scale\", # \"scale\", \"do-not-scale\",\n",
    "    \"model\": \"elasticnet\", # \"logreg\", \"penalized_logreg\", \"rf\", \"gbm\", \"elasticnet\"\n",
    "    \"cutoff\": [\"quantile_0.15\", \"quantile_0.30\"],\n",
    "    \"exclude_features\": \"age\", # \"none\", \"nationality\", \"sex\", \"nationality-sex\", \"age\"\n",
    "    \"exclude_subgroups\": \"keep-all\", # \"keep-all\", \"drop-non-german\"\n",
    "    \"eval_fairness_grouping\": [\"majority-minority\", \"nationality-all\"]\n",
    "}\n",
    "\n",
    "output_dir=\"./output\"\n",
    "seed=0"
   ]
  },
  {
   "cell_type": "code",
   "execution_count": 4,
   "id": "5318ae2b",
   "metadata": {
    "execution": {
     "iopub.execute_input": "2025-08-05T16:10:48.779599Z",
     "iopub.status.busy": "2025-08-05T16:10:48.778891Z",
     "iopub.status.idle": "2025-08-05T16:10:48.785725Z",
     "shell.execute_reply": "2025-08-05T16:10:48.784542Z"
    },
    "papermill": {
     "duration": 0.025183,
     "end_time": "2025-08-05T16:10:48.787623",
     "exception": false,
     "start_time": "2025-08-05T16:10:48.762440",
     "status": "completed"
    },
    "tags": [
     "injected-parameters"
    ]
   },
   "outputs": [],
   "source": [
    "# Parameters\n",
    "universe_id = \"d4bc3b49778431e7e40d4473da052581\"\n",
    "run_no = \"15\"\n",
    "universe = \"{\\\"cutoff\\\": [\\\"quantile_0.1\\\", \\\"quantile_0.25\\\"], \\\"eval_fairness_grouping\\\": [\\\"majority-minority\\\", \\\"nationality-all\\\"], \\\"exclude_features\\\": \\\"none\\\", \\\"exclude_subgroups\\\": \\\"keep-all\\\", \\\"model\\\": \\\"rf\\\", \\\"scale\\\": \\\"do-not-scale\\\", \\\"training_size\\\": \\\"1k\\\", \\\"training_year\\\": \\\"2014\\\"}\"\n",
    "output_dir = \"output\"\n",
    "seed = \"2023\"\n"
   ]
  },
  {
   "cell_type": "code",
   "execution_count": 5,
   "id": "1650acaf",
   "metadata": {
    "execution": {
     "iopub.execute_input": "2025-08-05T16:10:48.822176Z",
     "iopub.status.busy": "2025-08-05T16:10:48.821159Z",
     "iopub.status.idle": "2025-08-05T16:10:48.828377Z",
     "shell.execute_reply": "2025-08-05T16:10:48.826994Z"
    },
    "papermill": {
     "duration": 0.026349,
     "end_time": "2025-08-05T16:10:48.830345",
     "exception": false,
     "start_time": "2025-08-05T16:10:48.803996",
     "status": "completed"
    },
    "tags": []
   },
   "outputs": [],
   "source": [
    "import json\n",
    "if isinstance(universe, str):\n",
    "    universe = json.loads(universe)"
   ]
  },
  {
   "cell_type": "code",
   "execution_count": 6,
   "id": "16620c48",
   "metadata": {
    "execution": {
     "iopub.execute_input": "2025-08-05T16:10:48.863479Z",
     "iopub.status.busy": "2025-08-05T16:10:48.863125Z",
     "iopub.status.idle": "2025-08-05T16:10:48.908371Z",
     "shell.execute_reply": "2025-08-05T16:10:48.907340Z"
    },
    "papermill": {
     "duration": 0.064675,
     "end_time": "2025-08-05T16:10:48.911086",
     "exception": false,
     "start_time": "2025-08-05T16:10:48.846411",
     "status": "completed"
    },
    "tags": []
   },
   "outputs": [],
   "source": [
    "# Auto-reload the custom package\n",
    "%load_ext autoreload\n",
    "%autoreload 1\n",
    "%aimport fairness_multiverse"
   ]
  },
  {
   "cell_type": "code",
   "execution_count": 7,
   "id": "01c5c9f3",
   "metadata": {
    "execution": {
     "iopub.execute_input": "2025-08-05T16:10:48.960128Z",
     "iopub.status.busy": "2025-08-05T16:10:48.959019Z",
     "iopub.status.idle": "2025-08-05T16:10:50.896625Z",
     "shell.execute_reply": "2025-08-05T16:10:50.895311Z"
    },
    "papermill": {
     "duration": 1.964045,
     "end_time": "2025-08-05T16:10:50.899244",
     "exception": false,
     "start_time": "2025-08-05T16:10:48.935199",
     "status": "completed"
    },
    "tags": []
   },
   "outputs": [],
   "source": [
    "from fairness_multiverse.universe import UniverseAnalysis\n",
    "\n",
    "universe_analysis = UniverseAnalysis(\n",
    "    run_no = run_no,\n",
    "    universe_id = universe_id,\n",
    "    universe = universe,\n",
    "    output_dir=output_dir,\n",
    ")"
   ]
  },
  {
   "cell_type": "code",
   "execution_count": 8,
   "id": "106241f5",
   "metadata": {
    "execution": {
     "iopub.execute_input": "2025-08-05T16:10:50.946101Z",
     "iopub.status.busy": "2025-08-05T16:10:50.945384Z",
     "iopub.status.idle": "2025-08-05T16:10:50.953949Z",
     "shell.execute_reply": "2025-08-05T16:10:50.952548Z"
    },
    "papermill": {
     "duration": 0.031273,
     "end_time": "2025-08-05T16:10:50.955893",
     "exception": false,
     "start_time": "2025-08-05T16:10:50.924620",
     "status": "completed"
    },
    "tags": []
   },
   "outputs": [
    {
     "name": "stdout",
     "output_type": "stream",
     "text": [
      "Using Seed: 2023\n"
     ]
    }
   ],
   "source": [
    "import numpy as np\n",
    "parsed_seed = int(seed)\n",
    "np.random.seed(parsed_seed)\n",
    "print(f\"Using Seed: {parsed_seed}\")"
   ]
  },
  {
   "cell_type": "markdown",
   "id": "e0ebdc57",
   "metadata": {
    "papermill": {
     "duration": 0.01632,
     "end_time": "2025-08-05T16:10:50.989319",
     "exception": false,
     "start_time": "2025-08-05T16:10:50.972999",
     "status": "completed"
    },
    "tags": []
   },
   "source": [
    "# Loading Data"
   ]
  },
  {
   "cell_type": "code",
   "execution_count": 9,
   "id": "f0496b8a",
   "metadata": {
    "execution": {
     "iopub.execute_input": "2025-08-05T16:10:51.024017Z",
     "iopub.status.busy": "2025-08-05T16:10:51.023152Z",
     "iopub.status.idle": "2025-08-05T16:11:02.889813Z",
     "shell.execute_reply": "2025-08-05T16:11:02.888610Z"
    },
    "papermill": {
     "duration": 11.886444,
     "end_time": "2025-08-05T16:11:02.891769",
     "exception": false,
     "start_time": "2025-08-05T16:10:51.005325",
     "status": "completed"
    },
    "tags": []
   },
   "outputs": [
    {
     "name": "stdout",
     "output_type": "stream",
     "text": [
      "Loading SIAB data from cache: data/siab_cached.csv.gz\n"
     ]
    },
    {
     "name": "stdout",
     "output_type": "stream",
     "text": [
      "(643690, 164)\n"
     ]
    }
   ],
   "source": [
    "from pathlib import Path\n",
    "import pandas as pd\n",
    "\n",
    "# File paths\n",
    "raw_file = Path(\"data/raw/siab.csv\")\n",
    "cache_file = Path(\"data/siab_cached.csv.gz\")\n",
    "\n",
    "# Ensure cache directory exists\n",
    "cache_file.parent.mkdir(parents=True, exist_ok=True)\n",
    "\n",
    "# Load with simple caching\n",
    "if cache_file.exists():\n",
    "    print(f\"Loading SIAB data from cache: {cache_file}\")\n",
    "    siab = pd.read_csv(cache_file, compression='gzip')\n",
    "else:\n",
    "    print(f\"Cache not found. Reading raw SIAB data: {raw_file}\")\n",
    "    siab = pd.read_csv(raw_file)\n",
    "    siab.to_csv(cache_file, index=False, compression='gzip')\n",
    "    print(f\"Cached SIAB data to: {cache_file}\")\n",
    "\n",
    "print(siab.shape)"
   ]
  },
  {
   "cell_type": "code",
   "execution_count": 10,
   "id": "db0ca512-5f53-4dba-abdb-a2888bca41ba",
   "metadata": {
    "execution": {
     "iopub.execute_input": "2025-08-05T16:11:02.931396Z",
     "iopub.status.busy": "2025-08-05T16:11:02.930525Z",
     "iopub.status.idle": "2025-08-05T16:11:02.936460Z",
     "shell.execute_reply": "2025-08-05T16:11:02.935267Z"
    },
    "papermill": {
     "duration": 0.026083,
     "end_time": "2025-08-05T16:11:02.938337",
     "exception": false,
     "start_time": "2025-08-05T16:11:02.912254",
     "status": "completed"
    },
    "tags": []
   },
   "outputs": [],
   "source": [
    "#siab"
   ]
  },
  {
   "cell_type": "markdown",
   "id": "997051c5-15bd-4b69-9786-c3001a3ce484",
   "metadata": {
    "papermill": {
     "duration": 0.017512,
     "end_time": "2025-08-05T16:11:02.974243",
     "exception": false,
     "start_time": "2025-08-05T16:11:02.956731",
     "status": "completed"
    },
    "tags": []
   },
   "source": [
    "# Splitting Data and Setting Training Data Size"
   ]
  },
  {
   "cell_type": "code",
   "execution_count": 11,
   "id": "aea9c6ef-6f46-42c8-85eb-5a62025c1508",
   "metadata": {
    "execution": {
     "iopub.execute_input": "2025-08-05T16:11:03.011259Z",
     "iopub.status.busy": "2025-08-05T16:11:03.010604Z",
     "iopub.status.idle": "2025-08-05T16:11:03.225384Z",
     "shell.execute_reply": "2025-08-05T16:11:03.224473Z"
    },
    "papermill": {
     "duration": 0.234875,
     "end_time": "2025-08-05T16:11:03.227805",
     "exception": false,
     "start_time": "2025-08-05T16:11:02.992930",
     "status": "completed"
    },
    "tags": []
   },
   "outputs": [],
   "source": [
    "from fairness_multiverse.universe import sample_by_year_size\n",
    "\n",
    "siab_train = sample_by_year_size(siab,\n",
    "                               training_year=universe[\"training_year\"],\n",
    "                               training_size=universe[\"training_size\"])"
   ]
  },
  {
   "cell_type": "code",
   "execution_count": 12,
   "id": "8d3afb32-789d-442c-8d5d-9f5aa8dd2eed",
   "metadata": {
    "execution": {
     "iopub.execute_input": "2025-08-05T16:11:03.267669Z",
     "iopub.status.busy": "2025-08-05T16:11:03.266730Z",
     "iopub.status.idle": "2025-08-05T16:11:03.272043Z",
     "shell.execute_reply": "2025-08-05T16:11:03.271145Z"
    },
    "papermill": {
     "duration": 0.02577,
     "end_time": "2025-08-05T16:11:03.273787",
     "exception": false,
     "start_time": "2025-08-05T16:11:03.248017",
     "status": "completed"
    },
    "tags": []
   },
   "outputs": [],
   "source": [
    "#siab_train.shape"
   ]
  },
  {
   "cell_type": "code",
   "execution_count": 13,
   "id": "d582db68-1a4c-47fb-84fc-08518dc1975a",
   "metadata": {
    "execution": {
     "iopub.execute_input": "2025-08-05T16:11:03.310518Z",
     "iopub.status.busy": "2025-08-05T16:11:03.309897Z",
     "iopub.status.idle": "2025-08-05T16:11:03.315048Z",
     "shell.execute_reply": "2025-08-05T16:11:03.314050Z"
    },
    "papermill": {
     "duration": 0.025137,
     "end_time": "2025-08-05T16:11:03.316932",
     "exception": false,
     "start_time": "2025-08-05T16:11:03.291795",
     "status": "completed"
    },
    "tags": []
   },
   "outputs": [],
   "source": [
    "#display(siab_train.groupby(\"year\").size())"
   ]
  },
  {
   "cell_type": "code",
   "execution_count": 14,
   "id": "a561edb4-d032-42cb-8256-22eac1111c64",
   "metadata": {
    "execution": {
     "iopub.execute_input": "2025-08-05T16:11:03.354701Z",
     "iopub.status.busy": "2025-08-05T16:11:03.353934Z",
     "iopub.status.idle": "2025-08-05T16:11:03.600109Z",
     "shell.execute_reply": "2025-08-05T16:11:03.599102Z"
    },
    "papermill": {
     "duration": 0.26659,
     "end_time": "2025-08-05T16:11:03.602212",
     "exception": false,
     "start_time": "2025-08-05T16:11:03.335622",
     "status": "completed"
    },
    "tags": []
   },
   "outputs": [],
   "source": [
    "#siab_train = siab_s[siab_s.year < 2015]\n",
    "siab_calib = siab[siab.year == 2015]\n",
    "siab_test = siab[siab.year == 2016]"
   ]
  },
  {
   "cell_type": "code",
   "execution_count": 15,
   "id": "472de16f-c3db-4916-846b-1f0de9cf1746",
   "metadata": {
    "execution": {
     "iopub.execute_input": "2025-08-05T16:11:03.640092Z",
     "iopub.status.busy": "2025-08-05T16:11:03.639219Z",
     "iopub.status.idle": "2025-08-05T16:11:03.646497Z",
     "shell.execute_reply": "2025-08-05T16:11:03.645470Z"
    },
    "papermill": {
     "duration": 0.027148,
     "end_time": "2025-08-05T16:11:03.648226",
     "exception": false,
     "start_time": "2025-08-05T16:11:03.621078",
     "status": "completed"
    },
    "tags": []
   },
   "outputs": [],
   "source": [
    "X_train = siab_train.iloc[:,4:164]\n",
    "y_train = siab_train.iloc[:, [3]]"
   ]
  },
  {
   "cell_type": "code",
   "execution_count": 16,
   "id": "828c96af-f43a-4ed6-ba47-8ac73a47d56c",
   "metadata": {
    "execution": {
     "iopub.execute_input": "2025-08-05T16:11:03.685982Z",
     "iopub.status.busy": "2025-08-05T16:11:03.685038Z",
     "iopub.status.idle": "2025-08-05T16:11:03.736462Z",
     "shell.execute_reply": "2025-08-05T16:11:03.735254Z"
    },
    "papermill": {
     "duration": 0.072463,
     "end_time": "2025-08-05T16:11:03.738926",
     "exception": false,
     "start_time": "2025-08-05T16:11:03.666463",
     "status": "completed"
    },
    "tags": []
   },
   "outputs": [],
   "source": [
    "X_calib = siab_calib.iloc[:,4:164]\n",
    "y_calib = siab_calib.iloc[:, [3]]"
   ]
  },
  {
   "cell_type": "code",
   "execution_count": 17,
   "id": "c34be9c3-6bd6-476e-acd3-845840e303be",
   "metadata": {
    "execution": {
     "iopub.execute_input": "2025-08-05T16:11:03.777666Z",
     "iopub.status.busy": "2025-08-05T16:11:03.776772Z",
     "iopub.status.idle": "2025-08-05T16:11:03.831312Z",
     "shell.execute_reply": "2025-08-05T16:11:03.830166Z"
    },
    "papermill": {
     "duration": 0.075693,
     "end_time": "2025-08-05T16:11:03.833902",
     "exception": false,
     "start_time": "2025-08-05T16:11:03.758209",
     "status": "completed"
    },
    "tags": []
   },
   "outputs": [],
   "source": [
    "X_test = siab_test.iloc[:,4:164]\n",
    "y_true = siab_test.iloc[:, [3]]"
   ]
  },
  {
   "cell_type": "code",
   "execution_count": 18,
   "id": "e6c733c5",
   "metadata": {
    "execution": {
     "iopub.execute_input": "2025-08-05T16:11:03.871083Z",
     "iopub.status.busy": "2025-08-05T16:11:03.870286Z",
     "iopub.status.idle": "2025-08-05T16:11:03.968242Z",
     "shell.execute_reply": "2025-08-05T16:11:03.967052Z"
    },
    "papermill": {
     "duration": 0.117924,
     "end_time": "2025-08-05T16:11:03.970411",
     "exception": false,
     "start_time": "2025-08-05T16:11:03.852487",
     "status": "completed"
    },
    "tags": []
   },
   "outputs": [],
   "source": [
    "# Auxiliary data needed downstream in the pipeline\n",
    "\n",
    "org_train = X_train.copy()\n",
    "org_test = X_test.copy()\n",
    "org_calib = X_calib.copy()"
   ]
  },
  {
   "cell_type": "markdown",
   "id": "0a4a1b33",
   "metadata": {
    "papermill": {
     "duration": 0.017595,
     "end_time": "2025-08-05T16:11:04.007036",
     "exception": false,
     "start_time": "2025-08-05T16:11:03.989441",
     "status": "completed"
    },
    "tags": []
   },
   "source": [
    "# Preprocessing Data"
   ]
  },
  {
   "cell_type": "code",
   "execution_count": 19,
   "id": "ca879031",
   "metadata": {
    "execution": {
     "iopub.execute_input": "2025-08-05T16:11:04.045934Z",
     "iopub.status.busy": "2025-08-05T16:11:04.045198Z",
     "iopub.status.idle": "2025-08-05T16:11:04.052575Z",
     "shell.execute_reply": "2025-08-05T16:11:04.051363Z"
    },
    "papermill": {
     "duration": 0.030668,
     "end_time": "2025-08-05T16:11:04.054641",
     "exception": false,
     "start_time": "2025-08-05T16:11:04.023973",
     "status": "completed"
    },
    "tags": []
   },
   "outputs": [],
   "source": [
    "# EXCLUDE PROTECTED FEATURES\n",
    "# ----------------------\n",
    "# \"exclude_features\": \"none\", # \"nationality\", \"sex\", \"nationality-sex\"\n",
    "\n",
    "excluded_features = universe[\"exclude_features\"].split(\"-\") # split, e.g.: \"nationality-sex\" -> [\"nationality\", \"sex\"]\n",
    "excluded_features_dictionary = {\n",
    "    \"nationality\": [\"maxdeutsch1\", \"maxdeutsch.Missing.\"],\n",
    "    \"sex\": [\"frau1\"],\n",
    "    \"age\": [\"age\"],\n",
    "}"
   ]
  },
  {
   "cell_type": "code",
   "execution_count": 20,
   "id": "b745ac60",
   "metadata": {
    "execution": {
     "iopub.execute_input": "2025-08-05T16:11:04.092116Z",
     "iopub.status.busy": "2025-08-05T16:11:04.091574Z",
     "iopub.status.idle": "2025-08-05T16:11:04.097370Z",
     "shell.execute_reply": "2025-08-05T16:11:04.096345Z"
    },
    "papermill": {
     "duration": 0.026,
     "end_time": "2025-08-05T16:11:04.099310",
     "exception": false,
     "start_time": "2025-08-05T16:11:04.073310",
     "status": "completed"
    },
    "tags": []
   },
   "outputs": [],
   "source": [
    "# Code nice names to column names\n",
    "\n",
    "excluded_features_columns = [\n",
    "    excluded_features_dictionary[f] for f in excluded_features if len(f) > 0 and f != \"none\"\n",
    "]"
   ]
  },
  {
   "cell_type": "code",
   "execution_count": 21,
   "id": "f84f73a2",
   "metadata": {
    "execution": {
     "iopub.execute_input": "2025-08-05T16:11:04.138480Z",
     "iopub.status.busy": "2025-08-05T16:11:04.137580Z",
     "iopub.status.idle": "2025-08-05T16:11:04.144017Z",
     "shell.execute_reply": "2025-08-05T16:11:04.143058Z"
    },
    "papermill": {
     "duration": 0.02748,
     "end_time": "2025-08-05T16:11:04.146013",
     "exception": false,
     "start_time": "2025-08-05T16:11:04.118533",
     "status": "completed"
    },
    "tags": []
   },
   "outputs": [],
   "source": [
    "from utils import flatten_once\n",
    "\n",
    "excluded_features_columns = flatten_once(excluded_features_columns)"
   ]
  },
  {
   "cell_type": "code",
   "execution_count": 22,
   "id": "884dea22",
   "metadata": {
    "execution": {
     "iopub.execute_input": "2025-08-05T16:11:04.184187Z",
     "iopub.status.busy": "2025-08-05T16:11:04.183247Z",
     "iopub.status.idle": "2025-08-05T16:11:04.189553Z",
     "shell.execute_reply": "2025-08-05T16:11:04.188484Z"
    },
    "papermill": {
     "duration": 0.027543,
     "end_time": "2025-08-05T16:11:04.191264",
     "exception": false,
     "start_time": "2025-08-05T16:11:04.163721",
     "status": "completed"
    },
    "tags": []
   },
   "outputs": [],
   "source": [
    "if len(excluded_features_columns) > 0:\n",
    "    print(f\"Dropping features: {excluded_features_columns}\")\n",
    "    X_train.drop(excluded_features_columns, axis=1, inplace=True)"
   ]
  },
  {
   "cell_type": "code",
   "execution_count": 23,
   "id": "95ab8b16",
   "metadata": {
    "execution": {
     "iopub.execute_input": "2025-08-05T16:11:04.229304Z",
     "iopub.status.busy": "2025-08-05T16:11:04.228540Z",
     "iopub.status.idle": "2025-08-05T16:11:04.234942Z",
     "shell.execute_reply": "2025-08-05T16:11:04.233836Z"
    },
    "papermill": {
     "duration": 0.02637,
     "end_time": "2025-08-05T16:11:04.236984",
     "exception": false,
     "start_time": "2025-08-05T16:11:04.210614",
     "status": "completed"
    },
    "tags": []
   },
   "outputs": [],
   "source": [
    "if len(excluded_features_columns) > 0:\n",
    "    print(f\"Dropping features: {excluded_features_columns}\")\n",
    "    X_test.drop(excluded_features_columns, axis=1, inplace=True)"
   ]
  },
  {
   "cell_type": "code",
   "execution_count": 24,
   "id": "1853aaf5-fb9f-46cb-a2b5-8ea4ae2237e4",
   "metadata": {
    "execution": {
     "iopub.execute_input": "2025-08-05T16:11:04.276839Z",
     "iopub.status.busy": "2025-08-05T16:11:04.275870Z",
     "iopub.status.idle": "2025-08-05T16:11:04.282099Z",
     "shell.execute_reply": "2025-08-05T16:11:04.281051Z"
    },
    "papermill": {
     "duration": 0.027541,
     "end_time": "2025-08-05T16:11:04.283858",
     "exception": false,
     "start_time": "2025-08-05T16:11:04.256317",
     "status": "completed"
    },
    "tags": []
   },
   "outputs": [],
   "source": [
    "if len(excluded_features_columns) > 0:\n",
    "    print(f\"Dropping features: {excluded_features_columns}\")\n",
    "    X_calib.drop(excluded_features_columns, axis=1, inplace=True)"
   ]
  },
  {
   "cell_type": "code",
   "execution_count": 25,
   "id": "76c4dc6d",
   "metadata": {
    "execution": {
     "iopub.execute_input": "2025-08-05T16:11:04.322653Z",
     "iopub.status.busy": "2025-08-05T16:11:04.321715Z",
     "iopub.status.idle": "2025-08-05T16:11:04.327597Z",
     "shell.execute_reply": "2025-08-05T16:11:04.326542Z"
    },
    "papermill": {
     "duration": 0.027501,
     "end_time": "2025-08-05T16:11:04.329733",
     "exception": false,
     "start_time": "2025-08-05T16:11:04.302232",
     "status": "completed"
    },
    "tags": []
   },
   "outputs": [],
   "source": [
    "# EXCLUDE CERTAIN SUBGROUPS\n",
    "# ----------------------\n",
    "\n",
    "mode = universe.get(\"exclude_subgroups\", \"keep-all\") \n",
    "# Fetches the exclude_subgroups setting from the universe dict.\n",
    "# Defaults to \"keep-all\" if the key is missing."
   ]
  },
  {
   "cell_type": "code",
   "execution_count": 26,
   "id": "21994072",
   "metadata": {
    "execution": {
     "iopub.execute_input": "2025-08-05T16:11:04.367426Z",
     "iopub.status.busy": "2025-08-05T16:11:04.366837Z",
     "iopub.status.idle": "2025-08-05T16:11:04.375342Z",
     "shell.execute_reply": "2025-08-05T16:11:04.374178Z"
    },
    "papermill": {
     "duration": 0.028815,
     "end_time": "2025-08-05T16:11:04.377248",
     "exception": false,
     "start_time": "2025-08-05T16:11:04.348433",
     "status": "completed"
    },
    "tags": []
   },
   "outputs": [],
   "source": [
    "if mode == \"keep-all\":\n",
    "    keep_mask = pd.Series(True, index=org_train.index)\n",
    "\n",
    "# org_train contains the original feature columns from features_org (in Simson)\n",
    "# features_org contains unprocessed features, for me X_train at beginning ???\n",
    "# For keep-all, creates a boolean Series (keep_mask) of all True, so no rows are removed.\n",
    "\n",
    "elif mode == \"drop-non-german\":\n",
    "    keep_mask = org_train[\"maxdeutsch1\"] == 1 # ??? what about missing values?\n",
    "\n",
    "else:\n",
    "    raise ValueError(f\"Unsupported mode for exclude_subgroups: {mode}\")"
   ]
  },
  {
   "cell_type": "code",
   "execution_count": 27,
   "id": "71651440",
   "metadata": {
    "execution": {
     "iopub.execute_input": "2025-08-05T16:11:04.417566Z",
     "iopub.status.busy": "2025-08-05T16:11:04.416829Z",
     "iopub.status.idle": "2025-08-05T16:11:04.426167Z",
     "shell.execute_reply": "2025-08-05T16:11:04.425010Z"
    },
    "papermill": {
     "duration": 0.03108,
     "end_time": "2025-08-05T16:11:04.428167",
     "exception": false,
     "start_time": "2025-08-05T16:11:04.397087",
     "status": "completed"
    },
    "tags": []
   },
   "outputs": [],
   "source": [
    "n_drop = (~keep_mask).sum() # Calculates how many rows are set to be dropped\n",
    "if n_drop > 0:\n",
    "    pct = n_drop / len(keep_mask) * 100\n",
    "    print(f\"Dropping {n_drop} rows ({pct:.2f}%) where mode='{mode}'\")"
   ]
  },
  {
   "cell_type": "code",
   "execution_count": 28,
   "id": "5fb8eee5",
   "metadata": {
    "execution": {
     "iopub.execute_input": "2025-08-05T16:11:04.469460Z",
     "iopub.status.busy": "2025-08-05T16:11:04.468648Z",
     "iopub.status.idle": "2025-08-05T16:11:04.477379Z",
     "shell.execute_reply": "2025-08-05T16:11:04.475879Z"
    },
    "papermill": {
     "duration": 0.031193,
     "end_time": "2025-08-05T16:11:04.479180",
     "exception": false,
     "start_time": "2025-08-05T16:11:04.447987",
     "status": "completed"
    },
    "tags": []
   },
   "outputs": [],
   "source": [
    "X_train = X_train[keep_mask]"
   ]
  },
  {
   "cell_type": "code",
   "execution_count": 29,
   "id": "b202bb3a",
   "metadata": {
    "execution": {
     "iopub.execute_input": "2025-08-05T16:11:04.519191Z",
     "iopub.status.busy": "2025-08-05T16:11:04.518226Z",
     "iopub.status.idle": "2025-08-05T16:11:04.525386Z",
     "shell.execute_reply": "2025-08-05T16:11:04.524236Z"
    },
    "papermill": {
     "duration": 0.029966,
     "end_time": "2025-08-05T16:11:04.527728",
     "exception": false,
     "start_time": "2025-08-05T16:11:04.497762",
     "status": "completed"
    },
    "tags": []
   },
   "outputs": [],
   "source": [
    "y_train = y_train[keep_mask]"
   ]
  },
  {
   "cell_type": "markdown",
   "id": "493e2ac3",
   "metadata": {
    "papermill": {
     "duration": 0.017978,
     "end_time": "2025-08-05T16:11:04.565034",
     "exception": false,
     "start_time": "2025-08-05T16:11:04.547056",
     "status": "completed"
    },
    "tags": []
   },
   "source": [
    "# Model Training"
   ]
  },
  {
   "cell_type": "code",
   "execution_count": 30,
   "id": "679e1268",
   "metadata": {
    "execution": {
     "iopub.execute_input": "2025-08-05T16:11:04.605845Z",
     "iopub.status.busy": "2025-08-05T16:11:04.604901Z",
     "iopub.status.idle": "2025-08-05T16:11:04.785938Z",
     "shell.execute_reply": "2025-08-05T16:11:04.784763Z"
    },
    "papermill": {
     "duration": 0.204012,
     "end_time": "2025-08-05T16:11:04.788116",
     "exception": false,
     "start_time": "2025-08-05T16:11:04.584104",
     "status": "completed"
    },
    "tags": []
   },
   "outputs": [],
   "source": [
    "from sklearn.linear_model import LogisticRegression\n",
    "from sklearn.ensemble import GradientBoostingClassifier, RandomForestClassifier\n",
    "\n",
    "if (universe[\"model\"] == \"logreg\"):\n",
    "    model = LogisticRegression() #penalty=\"none\", solver=\"newton-cg\", max_iter=1) # include random_state=19 ?\n",
    "elif (universe[\"model\"] == \"penalized_logreg\"):\n",
    "    model = LogisticRegression(penalty=\"l2\", C=0.1) #, solver=\"newton-cg\", max_iter=1)\n",
    "elif (universe[\"model\"] == \"rf\"):\n",
    "    model = RandomForestClassifier() # n_estimators=100, n_jobs=-1\n",
    "elif (universe[\"model\"] == \"gbm\"):\n",
    "    model = GradientBoostingClassifier()\n",
    "elif (universe[\"model\"] == \"elasticnet\"):\n",
    "    model = LogisticRegression(penalty = 'elasticnet', solver = 'saga', l1_ratio = 0.5) # max_iter=5000\n",
    "else:\n",
    "    raise \"Unsupported universe.model\""
   ]
  },
  {
   "cell_type": "code",
   "execution_count": 31,
   "id": "0cc8f744",
   "metadata": {
    "execution": {
     "iopub.execute_input": "2025-08-05T16:11:04.828030Z",
     "iopub.status.busy": "2025-08-05T16:11:04.827325Z",
     "iopub.status.idle": "2025-08-05T16:11:04.838913Z",
     "shell.execute_reply": "2025-08-05T16:11:04.837621Z"
    },
    "papermill": {
     "duration": 0.033871,
     "end_time": "2025-08-05T16:11:04.841485",
     "exception": false,
     "start_time": "2025-08-05T16:11:04.807614",
     "status": "completed"
    },
    "tags": []
   },
   "outputs": [],
   "source": [
    "import numpy as np\n",
    "from sklearn.pipeline import Pipeline\n",
    "from sklearn.preprocessing import StandardScaler\n",
    "\n",
    "model = Pipeline([\n",
    "    #(\"continuous_processor\", continuous_processor),\n",
    "    #(\"categorical_preprocessor\", categorical_preprocessor),\n",
    "    (\"scale\", StandardScaler() if universe[\"scale\"] == \"scale\" else None), \n",
    "    (\"model\", model),\n",
    "])"
   ]
  },
  {
   "cell_type": "code",
   "execution_count": 32,
   "id": "9442c04d",
   "metadata": {
    "execution": {
     "iopub.execute_input": "2025-08-05T16:11:04.891502Z",
     "iopub.status.busy": "2025-08-05T16:11:04.890611Z",
     "iopub.status.idle": "2025-08-05T16:11:05.291767Z",
     "shell.execute_reply": "2025-08-05T16:11:05.290853Z"
    },
    "papermill": {
     "duration": 0.427681,
     "end_time": "2025-08-05T16:11:05.293444",
     "exception": false,
     "start_time": "2025-08-05T16:11:04.865763",
     "status": "completed"
    },
    "tags": []
   },
   "outputs": [
    {
     "data": {
      "text/html": [
       "<style>#sk-container-id-1 {color: black;background-color: white;}#sk-container-id-1 pre{padding: 0;}#sk-container-id-1 div.sk-toggleable {background-color: white;}#sk-container-id-1 label.sk-toggleable__label {cursor: pointer;display: block;width: 100%;margin-bottom: 0;padding: 0.3em;box-sizing: border-box;text-align: center;}#sk-container-id-1 label.sk-toggleable__label-arrow:before {content: \"▸\";float: left;margin-right: 0.25em;color: #696969;}#sk-container-id-1 label.sk-toggleable__label-arrow:hover:before {color: black;}#sk-container-id-1 div.sk-estimator:hover label.sk-toggleable__label-arrow:before {color: black;}#sk-container-id-1 div.sk-toggleable__content {max-height: 0;max-width: 0;overflow: hidden;text-align: left;background-color: #f0f8ff;}#sk-container-id-1 div.sk-toggleable__content pre {margin: 0.2em;color: black;border-radius: 0.25em;background-color: #f0f8ff;}#sk-container-id-1 input.sk-toggleable__control:checked~div.sk-toggleable__content {max-height: 200px;max-width: 100%;overflow: auto;}#sk-container-id-1 input.sk-toggleable__control:checked~label.sk-toggleable__label-arrow:before {content: \"▾\";}#sk-container-id-1 div.sk-estimator input.sk-toggleable__control:checked~label.sk-toggleable__label {background-color: #d4ebff;}#sk-container-id-1 div.sk-label input.sk-toggleable__control:checked~label.sk-toggleable__label {background-color: #d4ebff;}#sk-container-id-1 input.sk-hidden--visually {border: 0;clip: rect(1px 1px 1px 1px);clip: rect(1px, 1px, 1px, 1px);height: 1px;margin: -1px;overflow: hidden;padding: 0;position: absolute;width: 1px;}#sk-container-id-1 div.sk-estimator {font-family: monospace;background-color: #f0f8ff;border: 1px dotted black;border-radius: 0.25em;box-sizing: border-box;margin-bottom: 0.5em;}#sk-container-id-1 div.sk-estimator:hover {background-color: #d4ebff;}#sk-container-id-1 div.sk-parallel-item::after {content: \"\";width: 100%;border-bottom: 1px solid gray;flex-grow: 1;}#sk-container-id-1 div.sk-label:hover label.sk-toggleable__label {background-color: #d4ebff;}#sk-container-id-1 div.sk-serial::before {content: \"\";position: absolute;border-left: 1px solid gray;box-sizing: border-box;top: 0;bottom: 0;left: 50%;z-index: 0;}#sk-container-id-1 div.sk-serial {display: flex;flex-direction: column;align-items: center;background-color: white;padding-right: 0.2em;padding-left: 0.2em;position: relative;}#sk-container-id-1 div.sk-item {position: relative;z-index: 1;}#sk-container-id-1 div.sk-parallel {display: flex;align-items: stretch;justify-content: center;background-color: white;position: relative;}#sk-container-id-1 div.sk-item::before, #sk-container-id-1 div.sk-parallel-item::before {content: \"\";position: absolute;border-left: 1px solid gray;box-sizing: border-box;top: 0;bottom: 0;left: 50%;z-index: -1;}#sk-container-id-1 div.sk-parallel-item {display: flex;flex-direction: column;z-index: 1;position: relative;background-color: white;}#sk-container-id-1 div.sk-parallel-item:first-child::after {align-self: flex-end;width: 50%;}#sk-container-id-1 div.sk-parallel-item:last-child::after {align-self: flex-start;width: 50%;}#sk-container-id-1 div.sk-parallel-item:only-child::after {width: 0;}#sk-container-id-1 div.sk-dashed-wrapped {border: 1px dashed gray;margin: 0 0.4em 0.5em 0.4em;box-sizing: border-box;padding-bottom: 0.4em;background-color: white;}#sk-container-id-1 div.sk-label label {font-family: monospace;font-weight: bold;display: inline-block;line-height: 1.2em;}#sk-container-id-1 div.sk-label-container {text-align: center;}#sk-container-id-1 div.sk-container {/* jupyter's `normalize.less` sets `[hidden] { display: none; }` but bootstrap.min.css set `[hidden] { display: none !important; }` so we also need the `!important` here to be able to override the default hidden behavior on the sphinx rendered scikit-learn.org. See: https://github.com/scikit-learn/scikit-learn/issues/21755 */display: inline-block !important;position: relative;}#sk-container-id-1 div.sk-text-repr-fallback {display: none;}</style><div id=\"sk-container-id-1\" class=\"sk-top-container\"><div class=\"sk-text-repr-fallback\"><pre>Pipeline(steps=[(&#x27;scale&#x27;, None), (&#x27;model&#x27;, RandomForestClassifier())])</pre><b>In a Jupyter environment, please rerun this cell to show the HTML representation or trust the notebook. <br />On GitHub, the HTML representation is unable to render, please try loading this page with nbviewer.org.</b></div><div class=\"sk-container\" hidden><div class=\"sk-item sk-dashed-wrapped\"><div class=\"sk-label-container\"><div class=\"sk-label sk-toggleable\"><input class=\"sk-toggleable__control sk-hidden--visually\" id=\"sk-estimator-id-1\" type=\"checkbox\" ><label for=\"sk-estimator-id-1\" class=\"sk-toggleable__label sk-toggleable__label-arrow\">Pipeline</label><div class=\"sk-toggleable__content\"><pre>Pipeline(steps=[(&#x27;scale&#x27;, None), (&#x27;model&#x27;, RandomForestClassifier())])</pre></div></div></div><div class=\"sk-serial\"><div class=\"sk-item\"><div class=\"sk-estimator sk-toggleable\"><input class=\"sk-toggleable__control sk-hidden--visually\" id=\"sk-estimator-id-2\" type=\"checkbox\" ><label for=\"sk-estimator-id-2\" class=\"sk-toggleable__label sk-toggleable__label-arrow\">None</label><div class=\"sk-toggleable__content\"><pre>None</pre></div></div></div><div class=\"sk-item\"><div class=\"sk-estimator sk-toggleable\"><input class=\"sk-toggleable__control sk-hidden--visually\" id=\"sk-estimator-id-3\" type=\"checkbox\" ><label for=\"sk-estimator-id-3\" class=\"sk-toggleable__label sk-toggleable__label-arrow\">RandomForestClassifier</label><div class=\"sk-toggleable__content\"><pre>RandomForestClassifier()</pre></div></div></div></div></div></div></div>"
      ],
      "text/plain": [
       "Pipeline(steps=[('scale', None), ('model', RandomForestClassifier())])"
      ]
     },
     "execution_count": 32,
     "metadata": {},
     "output_type": "execute_result"
    }
   ],
   "source": [
    "model.fit(X_train, y_train.values.ravel())"
   ]
  },
  {
   "cell_type": "code",
   "execution_count": 33,
   "id": "af59f8c0",
   "metadata": {
    "execution": {
     "iopub.execute_input": "2025-08-05T16:11:05.337271Z",
     "iopub.status.busy": "2025-08-05T16:11:05.336770Z",
     "iopub.status.idle": "2025-08-05T16:11:05.342626Z",
     "shell.execute_reply": "2025-08-05T16:11:05.341619Z"
    },
    "papermill": {
     "duration": 0.02949,
     "end_time": "2025-08-05T16:11:05.344498",
     "exception": false,
     "start_time": "2025-08-05T16:11:05.315008",
     "status": "completed"
    },
    "tags": []
   },
   "outputs": [],
   "source": [
    "from fairness_multiverse.universe import predict_w_threshold"
   ]
  },
  {
   "cell_type": "code",
   "execution_count": 34,
   "id": "a7cf2e16",
   "metadata": {
    "execution": {
     "iopub.execute_input": "2025-08-05T16:11:05.385455Z",
     "iopub.status.busy": "2025-08-05T16:11:05.384542Z",
     "iopub.status.idle": "2025-08-05T16:11:07.197346Z",
     "shell.execute_reply": "2025-08-05T16:11:07.196478Z"
    },
    "papermill": {
     "duration": 1.834663,
     "end_time": "2025-08-05T16:11:07.199116",
     "exception": false,
     "start_time": "2025-08-05T16:11:05.364453",
     "status": "completed"
    },
    "tags": []
   },
   "outputs": [
    {
     "data": {
      "text/plain": [
       "0.8639170661018839"
      ]
     },
     "execution_count": 34,
     "metadata": {},
     "output_type": "execute_result"
    }
   ],
   "source": [
    "probs_test = model.predict_proba(X_test)\n",
    "\n",
    "'''\n",
    "Below code returns a boolean array (or binary 0/1 array depending on how it’s used) where each element \n",
    "is True if the probability of class 1 is greater than or equal to the threshold, and False otherwise.\n",
    "'''\n",
    "y_pred_default = predict_w_threshold(probs_test, 0.5)\n",
    "\n",
    "from sklearn.metrics import accuracy_score\n",
    "\n",
    "# Naive prediction\n",
    "accuracy_score(y_true = y_true, y_pred = y_pred_default)"
   ]
  },
  {
   "cell_type": "code",
   "execution_count": 35,
   "id": "081964c3",
   "metadata": {
    "execution": {
     "iopub.execute_input": "2025-08-05T16:11:07.237967Z",
     "iopub.status.busy": "2025-08-05T16:11:07.237348Z",
     "iopub.status.idle": "2025-08-05T16:11:09.010722Z",
     "shell.execute_reply": "2025-08-05T16:11:09.009902Z"
    },
    "papermill": {
     "duration": 1.794256,
     "end_time": "2025-08-05T16:11:09.012242",
     "exception": false,
     "start_time": "2025-08-05T16:11:07.217986",
     "status": "completed"
    },
    "tags": []
   },
   "outputs": [
    {
     "data": {
      "text/plain": [
       "array([0, 0, 0, ..., 0, 0, 0])"
      ]
     },
     "execution_count": 35,
     "metadata": {},
     "output_type": "execute_result"
    }
   ],
   "source": [
    "model.predict(X_test)"
   ]
  },
  {
   "cell_type": "markdown",
   "id": "56c9705b",
   "metadata": {
    "papermill": {
     "duration": 0.019489,
     "end_time": "2025-08-05T16:11:09.053056",
     "exception": false,
     "start_time": "2025-08-05T16:11:09.033567",
     "status": "completed"
    },
    "tags": []
   },
   "source": [
    "# Conformal Prediction"
   ]
  },
  {
   "cell_type": "code",
   "execution_count": 36,
   "id": "160ec6ff",
   "metadata": {
    "execution": {
     "iopub.execute_input": "2025-08-05T16:11:09.093607Z",
     "iopub.status.busy": "2025-08-05T16:11:09.092683Z",
     "iopub.status.idle": "2025-08-05T16:11:09.098217Z",
     "shell.execute_reply": "2025-08-05T16:11:09.097175Z"
    },
    "papermill": {
     "duration": 0.026545,
     "end_time": "2025-08-05T16:11:09.100043",
     "exception": false,
     "start_time": "2025-08-05T16:11:09.073498",
     "status": "completed"
    },
    "tags": []
   },
   "outputs": [],
   "source": [
    "# Miscoverage level for conformal prediction (10% allowed error rate => 90% target coverage)\n",
    "alpha = 0.1"
   ]
  },
  {
   "cell_type": "code",
   "execution_count": 37,
   "id": "eadf4555-3dd3-440e-8e35-f82a4ad9f855",
   "metadata": {
    "execution": {
     "iopub.execute_input": "2025-08-05T16:11:09.140021Z",
     "iopub.status.busy": "2025-08-05T16:11:09.139298Z",
     "iopub.status.idle": "2025-08-05T16:11:10.850784Z",
     "shell.execute_reply": "2025-08-05T16:11:10.849661Z"
    },
    "papermill": {
     "duration": 1.733283,
     "end_time": "2025-08-05T16:11:10.852943",
     "exception": false,
     "start_time": "2025-08-05T16:11:09.119660",
     "status": "completed"
    },
    "tags": []
   },
   "outputs": [],
   "source": [
    "probs_calib = model.predict_proba(X_calib)"
   ]
  },
  {
   "cell_type": "code",
   "execution_count": 38,
   "id": "2ed93547-6d5d-4983-9b36-1ecb300da49a",
   "metadata": {
    "execution": {
     "iopub.execute_input": "2025-08-05T16:11:10.901405Z",
     "iopub.status.busy": "2025-08-05T16:11:10.900838Z",
     "iopub.status.idle": "2025-08-05T16:11:10.907098Z",
     "shell.execute_reply": "2025-08-05T16:11:10.906133Z"
    },
    "papermill": {
     "duration": 0.032383,
     "end_time": "2025-08-05T16:11:10.909198",
     "exception": false,
     "start_time": "2025-08-05T16:11:10.876815",
     "status": "completed"
    },
    "tags": []
   },
   "outputs": [],
   "source": [
    "y_calib = y_calib.values.ravel().astype(int)"
   ]
  },
  {
   "cell_type": "code",
   "execution_count": 39,
   "id": "65d1320d-f588-4b38-9072-62af1ae97f7d",
   "metadata": {
    "execution": {
     "iopub.execute_input": "2025-08-05T16:11:10.955190Z",
     "iopub.status.busy": "2025-08-05T16:11:10.954736Z",
     "iopub.status.idle": "2025-08-05T16:11:10.962258Z",
     "shell.execute_reply": "2025-08-05T16:11:10.961012Z"
    },
    "papermill": {
     "duration": 0.031373,
     "end_time": "2025-08-05T16:11:10.964639",
     "exception": false,
     "start_time": "2025-08-05T16:11:10.933266",
     "status": "completed"
    },
    "tags": []
   },
   "outputs": [],
   "source": [
    "from fairness_multiverse.conformal import compute_nc_scores\n",
    "\n",
    "# Compute nonconformity scores on calibration set (1 - probability of true class)\n",
    "nc_scores = compute_nc_scores(probs_calib, y_calib)"
   ]
  },
  {
   "cell_type": "code",
   "execution_count": 40,
   "id": "df3b8ca3-53b7-43d5-9667-7c85da7aeda2",
   "metadata": {
    "execution": {
     "iopub.execute_input": "2025-08-05T16:11:11.015456Z",
     "iopub.status.busy": "2025-08-05T16:11:11.014916Z",
     "iopub.status.idle": "2025-08-05T16:11:11.021665Z",
     "shell.execute_reply": "2025-08-05T16:11:11.020735Z"
    },
    "papermill": {
     "duration": 0.032815,
     "end_time": "2025-08-05T16:11:11.023486",
     "exception": false,
     "start_time": "2025-08-05T16:11:10.990671",
     "status": "completed"
    },
    "tags": []
   },
   "outputs": [],
   "source": [
    "from fairness_multiverse.conformal import find_threshold\n",
    "\n",
    "# Find conformal threshold q_hat for the given alpha (split conformal method)\n",
    "q_hat = find_threshold(nc_scores, alpha)"
   ]
  },
  {
   "cell_type": "code",
   "execution_count": 41,
   "id": "4d29e6c1-0ef6-4aa4-b8fe-4fe79b0d033a",
   "metadata": {
    "execution": {
     "iopub.execute_input": "2025-08-05T16:11:11.064002Z",
     "iopub.status.busy": "2025-08-05T16:11:11.063588Z",
     "iopub.status.idle": "2025-08-05T16:11:11.070041Z",
     "shell.execute_reply": "2025-08-05T16:11:11.068888Z"
    },
    "papermill": {
     "duration": 0.028198,
     "end_time": "2025-08-05T16:11:11.072062",
     "exception": false,
     "start_time": "2025-08-05T16:11:11.043864",
     "status": "completed"
    },
    "tags": []
   },
   "outputs": [
    {
     "data": {
      "text/plain": [
       "0.6699999999999999"
      ]
     },
     "execution_count": 41,
     "metadata": {},
     "output_type": "execute_result"
    }
   ],
   "source": [
    "q_hat"
   ]
  },
  {
   "cell_type": "code",
   "execution_count": 42,
   "id": "92460794-cdac-4be2-ba28-f28c0515a6fb",
   "metadata": {
    "execution": {
     "iopub.execute_input": "2025-08-05T16:11:11.108936Z",
     "iopub.status.busy": "2025-08-05T16:11:11.108595Z",
     "iopub.status.idle": "2025-08-05T16:11:13.578488Z",
     "shell.execute_reply": "2025-08-05T16:11:13.577244Z"
    },
    "papermill": {
     "duration": 2.490646,
     "end_time": "2025-08-05T16:11:13.581054",
     "exception": false,
     "start_time": "2025-08-05T16:11:11.090408",
     "status": "completed"
    },
    "tags": []
   },
   "outputs": [],
   "source": [
    "from fairness_multiverse.conformal import predict_conformal_sets\n",
    "\n",
    "# Generate prediction sets for each test example\n",
    "pred_sets = predict_conformal_sets(model, X_test, q_hat)"
   ]
  },
  {
   "cell_type": "code",
   "execution_count": 43,
   "id": "d90c9a65-e6db-4f5d-80cd-e68fb7e46829",
   "metadata": {
    "execution": {
     "iopub.execute_input": "2025-08-05T16:11:13.648286Z",
     "iopub.status.busy": "2025-08-05T16:11:13.647633Z",
     "iopub.status.idle": "2025-08-05T16:11:13.655282Z",
     "shell.execute_reply": "2025-08-05T16:11:13.653597Z"
    },
    "papermill": {
     "duration": 0.04294,
     "end_time": "2025-08-05T16:11:13.658212",
     "exception": false,
     "start_time": "2025-08-05T16:11:13.615272",
     "status": "completed"
    },
    "tags": []
   },
   "outputs": [],
   "source": [
    "y_true = y_true.squeeze()"
   ]
  },
  {
   "cell_type": "code",
   "execution_count": 44,
   "id": "3a58a54a-1e68-46b9-927a-df01f18aebc8",
   "metadata": {
    "execution": {
     "iopub.execute_input": "2025-08-05T16:11:13.718861Z",
     "iopub.status.busy": "2025-08-05T16:11:13.718452Z",
     "iopub.status.idle": "2025-08-05T16:11:14.650999Z",
     "shell.execute_reply": "2025-08-05T16:11:14.650020Z"
    },
    "papermill": {
     "duration": 0.964832,
     "end_time": "2025-08-05T16:11:14.652555",
     "exception": false,
     "start_time": "2025-08-05T16:11:13.687723",
     "status": "completed"
    },
    "tags": []
   },
   "outputs": [],
   "source": [
    "from fairness_multiverse.conformal import evaluate_sets\n",
    "\n",
    "# Evaluate coverage and average set size on test data\n",
    "metrics = evaluate_sets(pred_sets, y_true)"
   ]
  },
  {
   "cell_type": "markdown",
   "id": "2b569c12-9aaa-4c88-98c9-bbcd0cf3ebb8",
   "metadata": {
    "papermill": {
     "duration": 0.023137,
     "end_time": "2025-08-05T16:11:14.695284",
     "exception": false,
     "start_time": "2025-08-05T16:11:14.672147",
     "status": "completed"
    },
    "tags": []
   },
   "source": [
    "# CP Metrics"
   ]
  },
  {
   "cell_type": "code",
   "execution_count": 45,
   "id": "5ce0a5cb-201f-45a0-ade5-94c7f0bd6095",
   "metadata": {
    "execution": {
     "iopub.execute_input": "2025-08-05T16:11:14.730425Z",
     "iopub.status.busy": "2025-08-05T16:11:14.730028Z",
     "iopub.status.idle": "2025-08-05T16:11:14.736495Z",
     "shell.execute_reply": "2025-08-05T16:11:14.735616Z"
    },
    "papermill": {
     "duration": 0.021173,
     "end_time": "2025-08-05T16:11:14.738020",
     "exception": false,
     "start_time": "2025-08-05T16:11:14.716847",
     "status": "completed"
    },
    "tags": []
   },
   "outputs": [
    {
     "data": {
      "text/plain": [
       "{'coverage': 0.9125181139226396, 'avg_size': 1.1423364173447776}"
      ]
     },
     "execution_count": 45,
     "metadata": {},
     "output_type": "execute_result"
    }
   ],
   "source": [
    "metrics"
   ]
  },
  {
   "cell_type": "code",
   "execution_count": 46,
   "id": "9b9a838d-31c9-430b-ae14-12baee460d17",
   "metadata": {
    "execution": {
     "iopub.execute_input": "2025-08-05T16:11:14.762821Z",
     "iopub.status.busy": "2025-08-05T16:11:14.762296Z",
     "iopub.status.idle": "2025-08-05T16:11:14.767602Z",
     "shell.execute_reply": "2025-08-05T16:11:14.766751Z"
    },
    "papermill": {
     "duration": 0.018784,
     "end_time": "2025-08-05T16:11:14.769082",
     "exception": false,
     "start_time": "2025-08-05T16:11:14.750298",
     "status": "completed"
    },
    "tags": []
   },
   "outputs": [],
   "source": [
    "example_universe = universe.copy()\n",
    "universe_training_year = example_universe.get(\"training_year\")\n",
    "universe_training_size = example_universe.get(\"training_size\")\n",
    "universe_scale = example_universe.get(\"scale\")\n",
    "universe_model = example_universe.get(\"model\")\n",
    "universe_exclude_features = example_universe.get(\"exclude_features\")\n",
    "universe_exclude_subgroups = example_universe.get(\"exclude_subgroups\")"
   ]
  },
  {
   "cell_type": "code",
   "execution_count": 47,
   "id": "f4b6a8ac-9dc0-4245-8a91-5b3b5999c4f9",
   "metadata": {
    "execution": {
     "iopub.execute_input": "2025-08-05T16:11:14.797397Z",
     "iopub.status.busy": "2025-08-05T16:11:14.796733Z",
     "iopub.status.idle": "2025-08-05T16:11:14.802259Z",
     "shell.execute_reply": "2025-08-05T16:11:14.801408Z"
    },
    "papermill": {
     "duration": 0.020016,
     "end_time": "2025-08-05T16:11:14.803699",
     "exception": false,
     "start_time": "2025-08-05T16:11:14.783683",
     "status": "completed"
    },
    "tags": []
   },
   "outputs": [],
   "source": [
    "cp_metrics_dict = {\n",
    "    \"universe_id\": [universe_id],\n",
    "    \"universe_training_year\": [universe_training_year],\n",
    "    \"universe_training_size\": [universe_training_size],\n",
    "    \"universe_scale\": [universe_scale],\n",
    "    \"universe_model\": [universe_model],\n",
    "    \"universe_exclude_features\": [universe_exclude_features],\n",
    "    \"universe_exclude_subgroups\": [universe_exclude_subgroups],\n",
    "    \"q_hat\": [q_hat],\n",
    "    \"coverage\": [metrics[\"coverage\"]],\n",
    "    \"avg_size\": [metrics[\"avg_size\"]],\n",
    "}"
   ]
  },
  {
   "cell_type": "code",
   "execution_count": 48,
   "id": "908acbb1-0371-4915-85ca-3fa520d2efe2",
   "metadata": {
    "execution": {
     "iopub.execute_input": "2025-08-05T16:11:14.843502Z",
     "iopub.status.busy": "2025-08-05T16:11:14.843060Z",
     "iopub.status.idle": "2025-08-05T16:11:14.851426Z",
     "shell.execute_reply": "2025-08-05T16:11:14.850327Z"
    },
    "papermill": {
     "duration": 0.038804,
     "end_time": "2025-08-05T16:11:14.853908",
     "exception": false,
     "start_time": "2025-08-05T16:11:14.815104",
     "status": "completed"
    },
    "tags": []
   },
   "outputs": [
    {
     "data": {
      "text/plain": [
       "{'universe_id': ['d4bc3b49778431e7e40d4473da052581'],\n",
       " 'universe_training_year': ['2014'],\n",
       " 'universe_training_size': ['1k'],\n",
       " 'universe_scale': ['do-not-scale'],\n",
       " 'universe_model': ['rf'],\n",
       " 'universe_exclude_features': ['none'],\n",
       " 'universe_exclude_subgroups': ['keep-all'],\n",
       " 'q_hat': [0.6699999999999999],\n",
       " 'coverage': [0.9125181139226396],\n",
       " 'avg_size': [1.1423364173447776]}"
      ]
     },
     "execution_count": 48,
     "metadata": {},
     "output_type": "execute_result"
    }
   ],
   "source": [
    "cp_metrics_dict"
   ]
  },
  {
   "cell_type": "code",
   "execution_count": 49,
   "id": "33007efc-14e9-4ec6-97ac-56a455c82265",
   "metadata": {
    "execution": {
     "iopub.execute_input": "2025-08-05T16:11:14.916741Z",
     "iopub.status.busy": "2025-08-05T16:11:14.916016Z",
     "iopub.status.idle": "2025-08-05T16:11:14.922497Z",
     "shell.execute_reply": "2025-08-05T16:11:14.921406Z"
    },
    "papermill": {
     "duration": 0.043637,
     "end_time": "2025-08-05T16:11:14.927883",
     "exception": false,
     "start_time": "2025-08-05T16:11:14.884246",
     "status": "completed"
    },
    "tags": []
   },
   "outputs": [],
   "source": [
    "cp_metrics_df = pd.DataFrame(cp_metrics_dict)"
   ]
  },
  {
   "cell_type": "code",
   "execution_count": 50,
   "id": "db12611b-57b2-4910-b9d0-355adfd6e7bf",
   "metadata": {
    "execution": {
     "iopub.execute_input": "2025-08-05T16:11:14.974482Z",
     "iopub.status.busy": "2025-08-05T16:11:14.973974Z",
     "iopub.status.idle": "2025-08-05T16:11:14.993179Z",
     "shell.execute_reply": "2025-08-05T16:11:14.992276Z"
    },
    "papermill": {
     "duration": 0.044165,
     "end_time": "2025-08-05T16:11:14.994964",
     "exception": false,
     "start_time": "2025-08-05T16:11:14.950799",
     "status": "completed"
    },
    "tags": []
   },
   "outputs": [
    {
     "data": {
      "text/html": [
       "<div>\n",
       "<style scoped>\n",
       "    .dataframe tbody tr th:only-of-type {\n",
       "        vertical-align: middle;\n",
       "    }\n",
       "\n",
       "    .dataframe tbody tr th {\n",
       "        vertical-align: top;\n",
       "    }\n",
       "\n",
       "    .dataframe thead th {\n",
       "        text-align: right;\n",
       "    }\n",
       "</style>\n",
       "<table border=\"1\" class=\"dataframe\">\n",
       "  <thead>\n",
       "    <tr style=\"text-align: right;\">\n",
       "      <th></th>\n",
       "      <th>universe_id</th>\n",
       "      <th>universe_training_year</th>\n",
       "      <th>universe_training_size</th>\n",
       "      <th>universe_scale</th>\n",
       "      <th>universe_model</th>\n",
       "      <th>universe_exclude_features</th>\n",
       "      <th>universe_exclude_subgroups</th>\n",
       "      <th>q_hat</th>\n",
       "      <th>coverage</th>\n",
       "      <th>avg_size</th>\n",
       "    </tr>\n",
       "  </thead>\n",
       "  <tbody>\n",
       "    <tr>\n",
       "      <th>0</th>\n",
       "      <td>d4bc3b49778431e7e40d4473da052581</td>\n",
       "      <td>2014</td>\n",
       "      <td>1k</td>\n",
       "      <td>do-not-scale</td>\n",
       "      <td>rf</td>\n",
       "      <td>none</td>\n",
       "      <td>keep-all</td>\n",
       "      <td>0.67</td>\n",
       "      <td>0.912518</td>\n",
       "      <td>1.142336</td>\n",
       "    </tr>\n",
       "  </tbody>\n",
       "</table>\n",
       "</div>"
      ],
      "text/plain": [
       "                        universe_id universe_training_year  \\\n",
       "0  d4bc3b49778431e7e40d4473da052581                   2014   \n",
       "\n",
       "  universe_training_size universe_scale universe_model  \\\n",
       "0                     1k   do-not-scale             rf   \n",
       "\n",
       "  universe_exclude_features universe_exclude_subgroups  q_hat  coverage  \\\n",
       "0                      none                   keep-all   0.67  0.912518   \n",
       "\n",
       "   avg_size  \n",
       "0  1.142336  "
      ]
     },
     "execution_count": 50,
     "metadata": {},
     "output_type": "execute_result"
    }
   ],
   "source": [
    "cp_metrics_df"
   ]
  },
  {
   "cell_type": "code",
   "execution_count": 51,
   "id": "b7fbde55-a0a1-47e4-9af6-fe4a17fa8c61",
   "metadata": {
    "execution": {
     "iopub.execute_input": "2025-08-05T16:11:15.042350Z",
     "iopub.status.busy": "2025-08-05T16:11:15.041923Z",
     "iopub.status.idle": "2025-08-05T16:11:15.046618Z",
     "shell.execute_reply": "2025-08-05T16:11:15.045491Z"
    },
    "papermill": {
     "duration": 0.029424,
     "end_time": "2025-08-05T16:11:15.048703",
     "exception": false,
     "start_time": "2025-08-05T16:11:15.019279",
     "status": "completed"
    },
    "tags": []
   },
   "outputs": [],
   "source": [
    "# Conditional Coverage & looking at subgroups"
   ]
  },
  {
   "cell_type": "code",
   "execution_count": 52,
   "id": "027ae886-68dd-4141-96c7-805a5450e1ef",
   "metadata": {
    "execution": {
     "iopub.execute_input": "2025-08-05T16:11:15.099703Z",
     "iopub.status.busy": "2025-08-05T16:11:15.099214Z",
     "iopub.status.idle": "2025-08-05T16:11:15.343685Z",
     "shell.execute_reply": "2025-08-05T16:11:15.342673Z"
    },
    "papermill": {
     "duration": 0.271499,
     "end_time": "2025-08-05T16:11:15.345661",
     "exception": false,
     "start_time": "2025-08-05T16:11:15.074162",
     "status": "completed"
    },
    "tags": []
   },
   "outputs": [],
   "source": [
    "from fairness_multiverse.conformal import build_cp_groups\n",
    "\n",
    "cp_groups_df = build_cp_groups(pred_sets, y_true, X_test.index, org_test)\n",
    "#needs universe_id and setting"
   ]
  },
  {
   "cell_type": "code",
   "execution_count": 53,
   "id": "6cbdab96-b2b2-45af-ad54-d0516db2e28d",
   "metadata": {
    "execution": {
     "iopub.execute_input": "2025-08-05T16:11:15.400986Z",
     "iopub.status.busy": "2025-08-05T16:11:15.400447Z",
     "iopub.status.idle": "2025-08-05T16:11:16.636788Z",
     "shell.execute_reply": "2025-08-05T16:11:16.636036Z"
    },
    "papermill": {
     "duration": 1.263344,
     "end_time": "2025-08-05T16:11:16.638323",
     "exception": false,
     "start_time": "2025-08-05T16:11:15.374979",
     "status": "completed"
    },
    "tags": []
   },
   "outputs": [],
   "source": [
    "# Define covered = 1 if true_label is in the predicted set\n",
    "cp_groups_df['covered'] = cp_groups_df.apply(\n",
    "    lambda r: int(r['true_label'] in r['pred_set']),\n",
    "    axis=1\n",
    ")"
   ]
  },
  {
   "cell_type": "code",
   "execution_count": 54,
   "id": "338ff529-1a6b-4b87-a931-8e4788d52aad",
   "metadata": {
    "execution": {
     "iopub.execute_input": "2025-08-05T16:11:16.662144Z",
     "iopub.status.busy": "2025-08-05T16:11:16.661815Z",
     "iopub.status.idle": "2025-08-05T16:11:16.666533Z",
     "shell.execute_reply": "2025-08-05T16:11:16.665684Z"
    },
    "papermill": {
     "duration": 0.018018,
     "end_time": "2025-08-05T16:11:16.668139",
     "exception": false,
     "start_time": "2025-08-05T16:11:16.650121",
     "status": "completed"
    },
    "tags": []
   },
   "outputs": [],
   "source": [
    "#cp_groups_df"
   ]
  },
  {
   "cell_type": "code",
   "execution_count": 55,
   "id": "90032e27-66df-4540-9169-4e89cfbaa758",
   "metadata": {
    "execution": {
     "iopub.execute_input": "2025-08-05T16:11:16.692762Z",
     "iopub.status.busy": "2025-08-05T16:11:16.692004Z",
     "iopub.status.idle": "2025-08-05T16:11:16.701483Z",
     "shell.execute_reply": "2025-08-05T16:11:16.700834Z"
    },
    "papermill": {
     "duration": 0.022806,
     "end_time": "2025-08-05T16:11:16.702915",
     "exception": false,
     "start_time": "2025-08-05T16:11:16.680109",
     "status": "completed"
    },
    "tags": []
   },
   "outputs": [],
   "source": [
    "subgroups = ['frau1','nongerman','nongerman_male','nongerman_female']\n",
    "\n",
    "# Conditional coverage for subgroup==1\n",
    "cond_coverage = {\n",
    "    g: cp_groups_df.loc[cp_groups_df[g]==1, 'covered'].mean()\n",
    "    for g in subgroups\n",
    "}"
   ]
  },
  {
   "cell_type": "code",
   "execution_count": 56,
   "id": "1e348fb1-b9c3-45bc-ba23-f016827a7e0d",
   "metadata": {
    "execution": {
     "iopub.execute_input": "2025-08-05T16:11:16.727107Z",
     "iopub.status.busy": "2025-08-05T16:11:16.726364Z",
     "iopub.status.idle": "2025-08-05T16:11:16.732622Z",
     "shell.execute_reply": "2025-08-05T16:11:16.731798Z"
    },
    "papermill": {
     "duration": 0.019574,
     "end_time": "2025-08-05T16:11:16.734069",
     "exception": false,
     "start_time": "2025-08-05T16:11:16.714495",
     "status": "completed"
    },
    "tags": []
   },
   "outputs": [
    {
     "data": {
      "text/plain": [
       "{'frau1': 0.9077503706699016,\n",
       " 'nongerman': 0.9084376578903048,\n",
       " 'nongerman_male': 0.9256056921552733,\n",
       " 'nongerman_female': 0.8800298062593145}"
      ]
     },
     "execution_count": 56,
     "metadata": {},
     "output_type": "execute_result"
    }
   ],
   "source": [
    "cond_coverage"
   ]
  },
  {
   "cell_type": "code",
   "execution_count": 57,
   "id": "f5093324-c3dd-4d63-bc4c-8d945e5c8bbb",
   "metadata": {
    "execution": {
     "iopub.execute_input": "2025-08-05T16:11:16.759628Z",
     "iopub.status.busy": "2025-08-05T16:11:16.758945Z",
     "iopub.status.idle": "2025-08-05T16:11:16.764890Z",
     "shell.execute_reply": "2025-08-05T16:11:16.764154Z"
    },
    "papermill": {
     "duration": 0.019454,
     "end_time": "2025-08-05T16:11:16.766466",
     "exception": false,
     "start_time": "2025-08-05T16:11:16.747012",
     "status": "completed"
    },
    "tags": []
   },
   "outputs": [],
   "source": [
    "for subgroup, cov in cond_coverage.items():\n",
    "    cp_metrics_df[f\"cov_{subgroup}\"] = cov"
   ]
  },
  {
   "cell_type": "code",
   "execution_count": 58,
   "id": "6e872e10-dbe5-49e8-b554-5030c98ff75d",
   "metadata": {
    "execution": {
     "iopub.execute_input": "2025-08-05T16:11:16.791936Z",
     "iopub.status.busy": "2025-08-05T16:11:16.791236Z",
     "iopub.status.idle": "2025-08-05T16:11:16.805626Z",
     "shell.execute_reply": "2025-08-05T16:11:16.804572Z"
    },
    "papermill": {
     "duration": 0.027887,
     "end_time": "2025-08-05T16:11:16.807151",
     "exception": false,
     "start_time": "2025-08-05T16:11:16.779264",
     "status": "completed"
    },
    "tags": []
   },
   "outputs": [
    {
     "data": {
      "text/html": [
       "<div>\n",
       "<style scoped>\n",
       "    .dataframe tbody tr th:only-of-type {\n",
       "        vertical-align: middle;\n",
       "    }\n",
       "\n",
       "    .dataframe tbody tr th {\n",
       "        vertical-align: top;\n",
       "    }\n",
       "\n",
       "    .dataframe thead th {\n",
       "        text-align: right;\n",
       "    }\n",
       "</style>\n",
       "<table border=\"1\" class=\"dataframe\">\n",
       "  <thead>\n",
       "    <tr style=\"text-align: right;\">\n",
       "      <th></th>\n",
       "      <th>universe_id</th>\n",
       "      <th>universe_training_year</th>\n",
       "      <th>universe_training_size</th>\n",
       "      <th>universe_scale</th>\n",
       "      <th>universe_model</th>\n",
       "      <th>universe_exclude_features</th>\n",
       "      <th>universe_exclude_subgroups</th>\n",
       "      <th>q_hat</th>\n",
       "      <th>coverage</th>\n",
       "      <th>avg_size</th>\n",
       "      <th>cov_frau1</th>\n",
       "      <th>cov_nongerman</th>\n",
       "      <th>cov_nongerman_male</th>\n",
       "      <th>cov_nongerman_female</th>\n",
       "    </tr>\n",
       "  </thead>\n",
       "  <tbody>\n",
       "    <tr>\n",
       "      <th>0</th>\n",
       "      <td>d4bc3b49778431e7e40d4473da052581</td>\n",
       "      <td>2014</td>\n",
       "      <td>1k</td>\n",
       "      <td>do-not-scale</td>\n",
       "      <td>rf</td>\n",
       "      <td>none</td>\n",
       "      <td>keep-all</td>\n",
       "      <td>0.67</td>\n",
       "      <td>0.912518</td>\n",
       "      <td>1.142336</td>\n",
       "      <td>0.90775</td>\n",
       "      <td>0.908438</td>\n",
       "      <td>0.925606</td>\n",
       "      <td>0.88003</td>\n",
       "    </tr>\n",
       "  </tbody>\n",
       "</table>\n",
       "</div>"
      ],
      "text/plain": [
       "                        universe_id universe_training_year  \\\n",
       "0  d4bc3b49778431e7e40d4473da052581                   2014   \n",
       "\n",
       "  universe_training_size universe_scale universe_model  \\\n",
       "0                     1k   do-not-scale             rf   \n",
       "\n",
       "  universe_exclude_features universe_exclude_subgroups  q_hat  coverage  \\\n",
       "0                      none                   keep-all   0.67  0.912518   \n",
       "\n",
       "   avg_size  cov_frau1  cov_nongerman  cov_nongerman_male  \\\n",
       "0  1.142336    0.90775       0.908438            0.925606   \n",
       "\n",
       "   cov_nongerman_female  \n",
       "0               0.88003  "
      ]
     },
     "execution_count": 58,
     "metadata": {},
     "output_type": "execute_result"
    }
   ],
   "source": [
    "cp_metrics_df"
   ]
  },
  {
   "cell_type": "markdown",
   "id": "33774451",
   "metadata": {
    "papermill": {
     "duration": 0.01124,
     "end_time": "2025-08-05T16:11:16.831046",
     "exception": false,
     "start_time": "2025-08-05T16:11:16.819806",
     "status": "completed"
    },
    "tags": []
   },
   "source": [
    "# (Fairness) Metrics"
   ]
  },
  {
   "cell_type": "code",
   "execution_count": 59,
   "id": "debc5d62",
   "metadata": {
    "execution": {
     "iopub.execute_input": "2025-08-05T16:11:16.861299Z",
     "iopub.status.busy": "2025-08-05T16:11:16.860545Z",
     "iopub.status.idle": "2025-08-05T16:11:16.875475Z",
     "shell.execute_reply": "2025-08-05T16:11:16.874682Z"
    },
    "papermill": {
     "duration": 0.029098,
     "end_time": "2025-08-05T16:11:16.877149",
     "exception": false,
     "start_time": "2025-08-05T16:11:16.848051",
     "status": "completed"
    },
    "tags": []
   },
   "outputs": [],
   "source": [
    "# do I need to include maxdeutsch1.missing?\n",
    "\n",
    "import numpy as np\n",
    "\n",
    "colname_to_bin = \"maxdeutsch1\"\n",
    "majority_value = org_train[colname_to_bin].mode()[0]\n",
    "\n",
    "org_test[\"majmin\"] = np.where(org_test[colname_to_bin] == majority_value, \"majority\", \"minority\")"
   ]
  },
  {
   "cell_type": "code",
   "execution_count": 60,
   "id": "06a50de5",
   "metadata": {
    "execution": {
     "iopub.execute_input": "2025-08-05T16:11:16.907655Z",
     "iopub.status.busy": "2025-08-05T16:11:16.906951Z",
     "iopub.status.idle": "2025-08-05T16:11:18.564005Z",
     "shell.execute_reply": "2025-08-05T16:11:18.563265Z"
    },
    "papermill": {
     "duration": 1.675593,
     "end_time": "2025-08-05T16:11:18.565394",
     "exception": false,
     "start_time": "2025-08-05T16:11:16.889801",
     "status": "completed"
    },
    "tags": []
   },
   "outputs": [],
   "source": [
    "example_universe = universe.copy()\n",
    "example_universe[\"cutoff\"] = example_universe[\"cutoff\"][0]\n",
    "example_universe[\"eval_fairness_grouping\"] = example_universe[\"eval_fairness_grouping\"][0]\n",
    "fairness_dict, metric_frame = universe_analysis.compute_metrics(\n",
    "    example_universe,\n",
    "    y_pred_prob=probs_test,\n",
    "    y_test=y_true,\n",
    "    org_test=org_test,\n",
    ")"
   ]
  },
  {
   "cell_type": "markdown",
   "id": "f95d4e02",
   "metadata": {
    "papermill": {
     "duration": 0.011886,
     "end_time": "2025-08-05T16:11:18.591638",
     "exception": false,
     "start_time": "2025-08-05T16:11:18.579752",
     "status": "completed"
    },
    "tags": []
   },
   "source": [
    "# Overall"
   ]
  },
  {
   "cell_type": "markdown",
   "id": "bdee4871",
   "metadata": {
    "papermill": {
     "duration": 0.011465,
     "end_time": "2025-08-05T16:11:18.614529",
     "exception": false,
     "start_time": "2025-08-05T16:11:18.603064",
     "status": "completed"
    },
    "tags": []
   },
   "source": [
    "Fairness\n",
    "Main fairness target: Equalized Odds. Seems to be a better fit than equal opportunity, since we're not only interested in Y = 1. Seems to be a better fit than demographic parity, since we also care about accuracy, not just equal distribution of preds.\n",
    "\n",
    "Pick column for computation of fairness metrics\n",
    "\n",
    "Performance\n",
    "Overall performance measures, most interesting in relation to the measures split by group below"
   ]
  },
  {
   "cell_type": "code",
   "execution_count": 61,
   "id": "c4e067c6",
   "metadata": {
    "execution": {
     "iopub.execute_input": "2025-08-05T16:11:18.638826Z",
     "iopub.status.busy": "2025-08-05T16:11:18.638050Z",
     "iopub.status.idle": "2025-08-05T16:11:18.645002Z",
     "shell.execute_reply": "2025-08-05T16:11:18.644272Z"
    },
    "papermill": {
     "duration": 0.020677,
     "end_time": "2025-08-05T16:11:18.646530",
     "exception": false,
     "start_time": "2025-08-05T16:11:18.625853",
     "status": "completed"
    },
    "tags": []
   },
   "outputs": [
    {
     "data": {
      "text/plain": [
       "accuracy                   0.204927\n",
       "balanced accuracy          0.530809\n",
       "f1                         0.238231\n",
       "precision                  0.135807\n",
       "false positive rate        0.907534\n",
       "false negative rate        0.030848\n",
       "selection rate             0.915439\n",
       "count                  89710.000000\n",
       "dtype: float64"
      ]
     },
     "execution_count": 61,
     "metadata": {},
     "output_type": "execute_result"
    }
   ],
   "source": [
    "metric_frame.overall"
   ]
  },
  {
   "cell_type": "markdown",
   "id": "e968fe9d",
   "metadata": {
    "papermill": {
     "duration": 0.010936,
     "end_time": "2025-08-05T16:11:18.669253",
     "exception": false,
     "start_time": "2025-08-05T16:11:18.658317",
     "status": "completed"
    },
    "tags": []
   },
   "source": [
    "By Group"
   ]
  },
  {
   "cell_type": "code",
   "execution_count": 62,
   "id": "ec325bce",
   "metadata": {
    "execution": {
     "iopub.execute_input": "2025-08-05T16:11:18.693452Z",
     "iopub.status.busy": "2025-08-05T16:11:18.692810Z",
     "iopub.status.idle": "2025-08-05T16:11:18.705388Z",
     "shell.execute_reply": "2025-08-05T16:11:18.704505Z"
    },
    "papermill": {
     "duration": 0.026188,
     "end_time": "2025-08-05T16:11:18.706867",
     "exception": false,
     "start_time": "2025-08-05T16:11:18.680679",
     "status": "completed"
    },
    "tags": []
   },
   "outputs": [
    {
     "data": {
      "text/html": [
       "<div>\n",
       "<style scoped>\n",
       "    .dataframe tbody tr th:only-of-type {\n",
       "        vertical-align: middle;\n",
       "    }\n",
       "\n",
       "    .dataframe tbody tr th {\n",
       "        vertical-align: top;\n",
       "    }\n",
       "\n",
       "    .dataframe thead th {\n",
       "        text-align: right;\n",
       "    }\n",
       "</style>\n",
       "<table border=\"1\" class=\"dataframe\">\n",
       "  <thead>\n",
       "    <tr style=\"text-align: right;\">\n",
       "      <th></th>\n",
       "      <th>accuracy</th>\n",
       "      <th>balanced accuracy</th>\n",
       "      <th>f1</th>\n",
       "      <th>precision</th>\n",
       "      <th>false positive rate</th>\n",
       "      <th>false negative rate</th>\n",
       "      <th>selection rate</th>\n",
       "      <th>count</th>\n",
       "    </tr>\n",
       "    <tr>\n",
       "      <th>majmin</th>\n",
       "      <th></th>\n",
       "      <th></th>\n",
       "      <th></th>\n",
       "      <th></th>\n",
       "      <th></th>\n",
       "      <th></th>\n",
       "      <th></th>\n",
       "      <th></th>\n",
       "    </tr>\n",
       "  </thead>\n",
       "  <tbody>\n",
       "    <tr>\n",
       "      <th>majority</th>\n",
       "      <td>0.198887</td>\n",
       "      <td>0.533401</td>\n",
       "      <td>0.245825</td>\n",
       "      <td>0.140375</td>\n",
       "      <td>0.921273</td>\n",
       "      <td>0.011926</td>\n",
       "      <td>0.930100</td>\n",
       "      <td>69170.0</td>\n",
       "    </tr>\n",
       "    <tr>\n",
       "      <th>minority</th>\n",
       "      <td>0.225268</td>\n",
       "      <td>0.516982</td>\n",
       "      <td>0.210547</td>\n",
       "      <td>0.119287</td>\n",
       "      <td>0.862151</td>\n",
       "      <td>0.103885</td>\n",
       "      <td>0.866066</td>\n",
       "      <td>20540.0</td>\n",
       "    </tr>\n",
       "  </tbody>\n",
       "</table>\n",
       "</div>"
      ],
      "text/plain": [
       "          accuracy  balanced accuracy        f1  precision  \\\n",
       "majmin                                                       \n",
       "majority  0.198887           0.533401  0.245825   0.140375   \n",
       "minority  0.225268           0.516982  0.210547   0.119287   \n",
       "\n",
       "          false positive rate  false negative rate  selection rate    count  \n",
       "majmin                                                                       \n",
       "majority             0.921273             0.011926        0.930100  69170.0  \n",
       "minority             0.862151             0.103885        0.866066  20540.0  "
      ]
     },
     "execution_count": 62,
     "metadata": {},
     "output_type": "execute_result"
    }
   ],
   "source": [
    "metric_frame.by_group"
   ]
  },
  {
   "cell_type": "code",
   "execution_count": 63,
   "id": "a9ddbe63",
   "metadata": {
    "execution": {
     "iopub.execute_input": "2025-08-05T16:11:18.732473Z",
     "iopub.status.busy": "2025-08-05T16:11:18.731991Z",
     "iopub.status.idle": "2025-08-05T16:11:20.491792Z",
     "shell.execute_reply": "2025-08-05T16:11:20.490810Z"
    },
    "papermill": {
     "duration": 1.773384,
     "end_time": "2025-08-05T16:11:20.493048",
     "exception": false,
     "start_time": "2025-08-05T16:11:18.719664",
     "status": "completed"
    },
    "tags": []
   },
   "outputs": [
    {
     "data": {
      "text/plain": [
       "array([[<Axes: title={'center': 'accuracy'}, xlabel='majmin'>,\n",
       "        <Axes: title={'center': 'balanced accuracy'}, xlabel='majmin'>,\n",
       "        <Axes: title={'center': 'f1'}, xlabel='majmin'>],\n",
       "       [<Axes: title={'center': 'precision'}, xlabel='majmin'>,\n",
       "        <Axes: title={'center': 'false positive rate'}, xlabel='majmin'>,\n",
       "        <Axes: title={'center': 'false negative rate'}, xlabel='majmin'>],\n",
       "       [<Axes: title={'center': 'selection rate'}, xlabel='majmin'>,\n",
       "        <Axes: title={'center': 'count'}, xlabel='majmin'>,\n",
       "        <Axes: xlabel='majmin'>]], dtype=object)"
      ]
     },
     "execution_count": 63,
     "metadata": {},
     "output_type": "execute_result"
    },
    {
     "data": {
      "image/png": "[encoded data removed]",
      "text/plain": [
       "<Figure size 1200x800 with 9 Axes>"
      ]
     },
     "metadata": {},
     "output_type": "display_data"
    }
   ],
   "source": [
    "# In a graphic\n",
    "metric_frame.by_group.plot.bar(\n",
    "    subplots=True,\n",
    "    layout=[3, 3],\n",
    "    legend=False,\n",
    "    figsize=[12, 8],\n",
    "    title=\"Show all metrics\",\n",
    ")"
   ]
  },
  {
   "cell_type": "markdown",
   "id": "f57a0bac",
   "metadata": {
    "papermill": {
     "duration": 0.01271,
     "end_time": "2025-08-05T16:11:20.521906",
     "exception": false,
     "start_time": "2025-08-05T16:11:20.509196",
     "status": "completed"
    },
    "tags": []
   },
   "source": [
    "# Final Output"
   ]
  },
  {
   "cell_type": "code",
   "execution_count": 64,
   "id": "96d280a3",
   "metadata": {
    "execution": {
     "iopub.execute_input": "2025-08-05T16:11:20.548719Z",
     "iopub.status.busy": "2025-08-05T16:11:20.548229Z",
     "iopub.status.idle": "2025-08-05T16:11:20.554990Z",
     "shell.execute_reply": "2025-08-05T16:11:20.554275Z"
    },
    "papermill": {
     "duration": 0.021971,
     "end_time": "2025-08-05T16:11:20.556362",
     "exception": false,
     "start_time": "2025-08-05T16:11:20.534391",
     "status": "completed"
    },
    "tags": []
   },
   "outputs": [
    {
     "data": {
      "text/plain": [
       "4"
      ]
     },
     "execution_count": 64,
     "metadata": {},
     "output_type": "execute_result"
    }
   ],
   "source": [
    "sub_universes = universe_analysis.generate_sub_universes()\n",
    "len(sub_universes)"
   ]
  },
  {
   "cell_type": "code",
   "execution_count": 65,
   "id": "92adf7ba",
   "metadata": {
    "execution": {
     "iopub.execute_input": "2025-08-05T16:11:20.583605Z",
     "iopub.status.busy": "2025-08-05T16:11:20.582935Z",
     "iopub.status.idle": "2025-08-05T16:11:20.606450Z",
     "shell.execute_reply": "2025-08-05T16:11:20.605573Z"
    },
    "papermill": {
     "duration": 0.038766,
     "end_time": "2025-08-05T16:11:20.607992",
     "exception": false,
     "start_time": "2025-08-05T16:11:20.569226",
     "status": "completed"
    },
    "tags": []
   },
   "outputs": [],
   "source": [
    "def filter_sub_universe_data(sub_universe, org_test):\n",
    "    # Keep all rows — no filtering\n",
    "    keep_rows_mask = np.ones(org_test.shape[0], dtype=bool)\n",
    "\n",
    "    print(f\"[INFO] Keeping all rows: {keep_rows_mask.sum()} rows retained.\")\n",
    "    return keep_rows_mask"
   ]
  },
  {
   "cell_type": "code",
   "execution_count": 66,
   "id": "4a759155",
   "metadata": {
    "execution": {
     "iopub.execute_input": "2025-08-05T16:11:20.637063Z",
     "iopub.status.busy": "2025-08-05T16:11:20.636346Z",
     "iopub.status.idle": "2025-08-05T16:11:28.822669Z",
     "shell.execute_reply": "2025-08-05T16:11:28.821565Z"
    },
    "papermill": {
     "duration": 8.20205,
     "end_time": "2025-08-05T16:11:28.824426",
     "exception": false,
     "start_time": "2025-08-05T16:11:20.622376",
     "status": "completed"
    },
    "tags": []
   },
   "outputs": [
    {
     "name": "stdout",
     "output_type": "stream",
     "text": [
      "Stopping execution_time clock.\n",
      "[INFO] Keeping all rows: 89710 rows retained.\n"
     ]
    },
    {
     "name": "stdout",
     "output_type": "stream",
     "text": [
      "[INFO] Keeping all rows: 89710 rows retained.\n"
     ]
    },
    {
     "name": "stdout",
     "output_type": "stream",
     "text": [
      "[INFO] Keeping all rows: 89710 rows retained.\n"
     ]
    },
    {
     "name": "stdout",
     "output_type": "stream",
     "text": [
      "[INFO] Keeping all rows: 89710 rows retained.\n"
     ]
    },
    {
     "data": {
      "text/html": [
       "<div>\n",
       "<style scoped>\n",
       "    .dataframe tbody tr th:only-of-type {\n",
       "        vertical-align: middle;\n",
       "    }\n",
       "\n",
       "    .dataframe tbody tr th {\n",
       "        vertical-align: top;\n",
       "    }\n",
       "\n",
       "    .dataframe thead th {\n",
       "        text-align: right;\n",
       "    }\n",
       "</style>\n",
       "<table border=\"1\" class=\"dataframe\">\n",
       "  <thead>\n",
       "    <tr style=\"text-align: right;\">\n",
       "      <th></th>\n",
       "      <th>run_no</th>\n",
       "      <th>universe_id</th>\n",
       "      <th>universe_settings</th>\n",
       "      <th>execution_time</th>\n",
       "      <th>test_size_n</th>\n",
       "      <th>test_size_frac</th>\n",
       "      <th>fair_main_equalized_odds_difference</th>\n",
       "      <th>fair_main_equalized_odds_ratio</th>\n",
       "      <th>fair_main_demographic_parity_difference</th>\n",
       "      <th>fair_main_demographic_parity_ratio</th>\n",
       "      <th>...</th>\n",
       "      <th>perf_grp_precision_0</th>\n",
       "      <th>perf_grp_precision_1</th>\n",
       "      <th>perf_grp_false positive rate_0</th>\n",
       "      <th>perf_grp_false positive rate_1</th>\n",
       "      <th>perf_grp_false negative rate_0</th>\n",
       "      <th>perf_grp_false negative rate_1</th>\n",
       "      <th>perf_grp_selection rate_0</th>\n",
       "      <th>perf_grp_selection rate_1</th>\n",
       "      <th>perf_grp_count_0</th>\n",
       "      <th>perf_grp_count_1</th>\n",
       "    </tr>\n",
       "  </thead>\n",
       "  <tbody>\n",
       "    <tr>\n",
       "      <th>0</th>\n",
       "      <td>15</td>\n",
       "      <td>d4bc3b49778431e7e40d4473da052581</td>\n",
       "      <td>{\"cutoff\": \"quantile_0.1\", \"eval_fairness_grou...</td>\n",
       "      <td>29.796216</td>\n",
       "      <td>89710</td>\n",
       "      <td>1.0</td>\n",
       "      <td>0.091960</td>\n",
       "      <td>0.906931</td>\n",
       "      <td>0.064034</td>\n",
       "      <td>0.931154</td>\n",
       "      <td>...</td>\n",
       "      <td>NaN</td>\n",
       "      <td>NaN</td>\n",
       "      <td>NaN</td>\n",
       "      <td>NaN</td>\n",
       "      <td>NaN</td>\n",
       "      <td>NaN</td>\n",
       "      <td>NaN</td>\n",
       "      <td>NaN</td>\n",
       "      <td>NaN</td>\n",
       "      <td>NaN</td>\n",
       "    </tr>\n",
       "    <tr>\n",
       "      <th>0</th>\n",
       "      <td>15</td>\n",
       "      <td>d4bc3b49778431e7e40d4473da052581</td>\n",
       "      <td>{\"cutoff\": \"quantile_0.1\", \"eval_fairness_grou...</td>\n",
       "      <td>29.796216</td>\n",
       "      <td>89710</td>\n",
       "      <td>1.0</td>\n",
       "      <td>0.091960</td>\n",
       "      <td>0.906931</td>\n",
       "      <td>0.064034</td>\n",
       "      <td>0.931154</td>\n",
       "      <td>...</td>\n",
       "      <td>0.119287</td>\n",
       "      <td>0.140375</td>\n",
       "      <td>0.862151</td>\n",
       "      <td>0.921273</td>\n",
       "      <td>0.103885</td>\n",
       "      <td>0.011926</td>\n",
       "      <td>0.866066</td>\n",
       "      <td>0.93010</td>\n",
       "      <td>20540.0</td>\n",
       "      <td>69170.0</td>\n",
       "    </tr>\n",
       "    <tr>\n",
       "      <th>0</th>\n",
       "      <td>15</td>\n",
       "      <td>d4bc3b49778431e7e40d4473da052581</td>\n",
       "      <td>{\"cutoff\": \"quantile_0.25\", \"eval_fairness_gro...</td>\n",
       "      <td>29.796216</td>\n",
       "      <td>89710</td>\n",
       "      <td>1.0</td>\n",
       "      <td>0.118376</td>\n",
       "      <td>0.874541</td>\n",
       "      <td>0.054302</td>\n",
       "      <td>0.929641</td>\n",
       "      <td>...</td>\n",
       "      <td>NaN</td>\n",
       "      <td>NaN</td>\n",
       "      <td>NaN</td>\n",
       "      <td>NaN</td>\n",
       "      <td>NaN</td>\n",
       "      <td>NaN</td>\n",
       "      <td>NaN</td>\n",
       "      <td>NaN</td>\n",
       "      <td>NaN</td>\n",
       "      <td>NaN</td>\n",
       "    </tr>\n",
       "    <tr>\n",
       "      <th>0</th>\n",
       "      <td>15</td>\n",
       "      <td>d4bc3b49778431e7e40d4473da052581</td>\n",
       "      <td>{\"cutoff\": \"quantile_0.25\", \"eval_fairness_gro...</td>\n",
       "      <td>29.796216</td>\n",
       "      <td>89710</td>\n",
       "      <td>1.0</td>\n",
       "      <td>0.118376</td>\n",
       "      <td>0.874541</td>\n",
       "      <td>0.054302</td>\n",
       "      <td>0.929641</td>\n",
       "      <td>...</td>\n",
       "      <td>0.132591</td>\n",
       "      <td>0.161547</td>\n",
       "      <td>0.703445</td>\n",
       "      <td>0.745627</td>\n",
       "      <td>0.174831</td>\n",
       "      <td>0.056455</td>\n",
       "      <td>0.717478</td>\n",
       "      <td>0.77178</td>\n",
       "      <td>20540.0</td>\n",
       "      <td>69170.0</td>\n",
       "    </tr>\n",
       "  </tbody>\n",
       "</table>\n",
       "<p>4 rows × 50 columns</p>\n",
       "</div>"
      ],
      "text/plain": [
       "  run_no                       universe_id  \\\n",
       "0     15  d4bc3b49778431e7e40d4473da052581   \n",
       "0     15  d4bc3b49778431e7e40d4473da052581   \n",
       "0     15  d4bc3b49778431e7e40d4473da052581   \n",
       "0     15  d4bc3b49778431e7e40d4473da052581   \n",
       "\n",
       "                                   universe_settings  execution_time  \\\n",
       "0  {\"cutoff\": \"quantile_0.1\", \"eval_fairness_grou...       29.796216   \n",
       "0  {\"cutoff\": \"quantile_0.1\", \"eval_fairness_grou...       29.796216   \n",
       "0  {\"cutoff\": \"quantile_0.25\", \"eval_fairness_gro...       29.796216   \n",
       "0  {\"cutoff\": \"quantile_0.25\", \"eval_fairness_gro...       29.796216   \n",
       "\n",
       "   test_size_n  test_size_frac  fair_main_equalized_odds_difference  \\\n",
       "0        89710             1.0                             0.091960   \n",
       "0        89710             1.0                             0.091960   \n",
       "0        89710             1.0                             0.118376   \n",
       "0        89710             1.0                             0.118376   \n",
       "\n",
       "   fair_main_equalized_odds_ratio  fair_main_demographic_parity_difference  \\\n",
       "0                        0.906931                                 0.064034   \n",
       "0                        0.906931                                 0.064034   \n",
       "0                        0.874541                                 0.054302   \n",
       "0                        0.874541                                 0.054302   \n",
       "\n",
       "   fair_main_demographic_parity_ratio  ...  perf_grp_precision_0  \\\n",
       "0                            0.931154  ...                   NaN   \n",
       "0                            0.931154  ...              0.119287   \n",
       "0                            0.929641  ...                   NaN   \n",
       "0                            0.929641  ...              0.132591   \n",
       "\n",
       "   perf_grp_precision_1  perf_grp_false positive rate_0  \\\n",
       "0                   NaN                             NaN   \n",
       "0              0.140375                        0.862151   \n",
       "0                   NaN                             NaN   \n",
       "0              0.161547                        0.703445   \n",
       "\n",
       "   perf_grp_false positive rate_1  perf_grp_false negative rate_0  \\\n",
       "0                             NaN                             NaN   \n",
       "0                        0.921273                        0.103885   \n",
       "0                             NaN                             NaN   \n",
       "0                        0.745627                        0.174831   \n",
       "\n",
       "   perf_grp_false negative rate_1  perf_grp_selection rate_0  \\\n",
       "0                             NaN                        NaN   \n",
       "0                        0.011926                   0.866066   \n",
       "0                             NaN                        NaN   \n",
       "0                        0.056455                   0.717478   \n",
       "\n",
       "   perf_grp_selection rate_1  perf_grp_count_0  perf_grp_count_1  \n",
       "0                        NaN               NaN               NaN  \n",
       "0                    0.93010           20540.0           69170.0  \n",
       "0                        NaN               NaN               NaN  \n",
       "0                    0.77178           20540.0           69170.0  \n",
       "\n",
       "[4 rows x 50 columns]"
      ]
     },
     "execution_count": 66,
     "metadata": {},
     "output_type": "execute_result"
    }
   ],
   "source": [
    "final_output = universe_analysis.generate_final_output(\n",
    "    y_pred_prob=probs_test,\n",
    "    y_test=y_true,\n",
    "    org_test=org_test,\n",
    "    filter_data=filter_sub_universe_data,\n",
    "    cp_metrics_df=cp_metrics_df,\n",
    "    save=True,\n",
    ")\n",
    "final_output"
   ]
  }
 ],
 "metadata": {
  "celltoolbar": "Tags",
  "kernelspec": {
   "display_name": "Python (CMA Fairness)",
   "language": "python",
   "name": "cma_fair_env"
  },
  "language_info": {
   "codemirror_mode": {
    "name": "ipython",
    "version": 3
   },
   "file_extension": ".py",
   "mimetype": "text/x-python",
   "name": "python",
   "nbconvert_exporter": "python",
   "pygments_lexer": "ipython3",
   "version": "3.10.12"
  },
  "papermill": {
   "default_parameters": {},
   "duration": 42.246019,
   "end_time": "2025-08-05T16:11:29.680604",
   "environment_variables": {},
   "exception": null,
   "input_path": "universe_analysis.ipynb",
   "output_path": "output/runs/15/notebooks/m_15-d4bc3b49778431e7e40d4473da052581.ipynb",
   "parameters": {
    "output_dir": "output",
    "run_no": "15",
    "seed": "2023",
    "universe": "{\"cutoff\": [\"quantile_0.1\", \"quantile_0.25\"], \"eval_fairness_grouping\": [\"majority-minority\", \"nationality-all\"], \"exclude_features\": \"none\", \"exclude_subgroups\": \"keep-all\", \"model\": \"rf\", \"scale\": \"do-not-scale\", \"training_size\": \"1k\", \"training_year\": \"2014\"}",
    "universe_id": "d4bc3b49778431e7e40d4473da052581"
   },
   "start_time": "2025-08-05T16:10:47.434585",
   "version": "2.6.0"
  }
 },
 "nbformat": 4,
 "nbformat_minor": 5
}