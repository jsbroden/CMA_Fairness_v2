{
 "cells": [
  {
   "cell_type": "code",
   "execution_count": 1,
   "id": "f159f837-637b-42ba-96b5-ec9a68c44524",
   "metadata": {
    "execution": {
     "iopub.execute_input": "2025-08-05T16:34:22.769423Z",
     "iopub.status.busy": "2025-08-05T16:34:22.768935Z",
     "iopub.status.idle": "2025-08-05T16:34:22.784192Z",
     "shell.execute_reply": "2025-08-05T16:34:22.783114Z"
    },
    "papermill": {
     "duration": 0.039531,
     "end_time": "2025-08-05T16:34:22.786021",
     "exception": false,
     "start_time": "2025-08-05T16:34:22.746490",
     "status": "completed"
    },
    "tags": []
   },
   "outputs": [
    {
     "name": "stdout",
     "output_type": "stream",
     "text": [
      "/dss/dsshome1/0C/ra93lal2/cma/CMA_Fairness_v2\n"
     ]
    },
    {
     "name": "stderr",
     "output_type": "stream",
     "text": [
      "/dss/dsshome1/0C/ra93lal2/.local/share/virtualenvs/CMA_Fairness_v2-3j10GkSs/lib/python3.10/site-packages/IPython/core/magics/osm.py:393: UserWarning: This is now an optional IPython functionality, using bookmarks requires you to install the `pickleshare` library.\n",
      "  bkms = self.shell.db.get('bookmarks', {})\n",
      "/dss/dsshome1/0C/ra93lal2/.local/share/virtualenvs/CMA_Fairness_v2-3j10GkSs/lib/python3.10/site-packages/IPython/core/magics/osm.py:417: UserWarning: This is now an optional IPython functionality, setting dhist requires you to install the `pickleshare` library.\n",
      "  self.shell.db['dhist'] = compress_dhist(dhist)[-100:]\n"
     ]
    }
   ],
   "source": [
    "%cd ~/cma/CMA_Fairness_v2"
   ]
  },
  {
   "cell_type": "markdown",
   "id": "de2603b9",
   "metadata": {
    "papermill": {
     "duration": 0.018061,
     "end_time": "2025-08-05T16:34:22.868204",
     "exception": false,
     "start_time": "2025-08-05T16:34:22.850143",
     "status": "completed"
    },
    "tags": []
   },
   "source": [
    "The following cell holds the definition of our parameters, these values can be overriden by rendering the with e.g. the following command:\n",
    "\n",
    "papermill -p alpha 0.2 -p ratio 0.3 universe_analysis.ipynb output/test_run.ipynb"
   ]
  },
  {
   "cell_type": "code",
   "execution_count": 2,
   "id": "a80968a0-40bb-4fa9-85ef-2d5eefb01975",
   "metadata": {
    "execution": {
     "iopub.execute_input": "2025-08-05T16:34:22.907375Z",
     "iopub.status.busy": "2025-08-05T16:34:22.906567Z",
     "iopub.status.idle": "2025-08-05T16:34:22.913462Z",
     "shell.execute_reply": "2025-08-05T16:34:22.912458Z"
    },
    "papermill": {
     "duration": 0.028522,
     "end_time": "2025-08-05T16:34:22.915277",
     "exception": false,
     "start_time": "2025-08-05T16:34:22.886755",
     "status": "completed"
    },
    "tags": []
   },
   "outputs": [
    {
     "name": "stdout",
     "output_type": "stream",
     "text": [
      "Current working directory: /dss/dsshome1/0C/ra93lal2/cma/CMA_Fairness_v2\n"
     ]
    }
   ],
   "source": [
    "import os\n",
    "print(\"Current working directory:\", os.getcwd())"
   ]
  },
  {
   "cell_type": "code",
   "execution_count": 3,
   "id": "2dce4c03",
   "metadata": {
    "execution": {
     "iopub.execute_input": "2025-08-05T16:34:22.954493Z",
     "iopub.status.busy": "2025-08-05T16:34:22.953526Z",
     "iopub.status.idle": "2025-08-05T16:34:22.960878Z",
     "shell.execute_reply": "2025-08-05T16:34:22.959702Z"
    },
    "papermill": {
     "duration": 0.028833,
     "end_time": "2025-08-05T16:34:22.962737",
     "exception": false,
     "start_time": "2025-08-05T16:34:22.933904",
     "status": "completed"
    },
    "tags": [
     "parameters"
    ]
   },
   "outputs": [],
   "source": [
    "run_no = 0\n",
    "universe_id = \"test\"\n",
    "universe = {\n",
    "    \"training_size\": \"25k\", # \"25k\", \"5k\", \"1k\"\n",
    "    \"training_year\": \"2014\", # \"2014\", \"2012_14\", \"2010_14\"\n",
    "    \"scale\": \"scale\", # \"scale\", \"do-not-scale\",\n",
    "    \"model\": \"elasticnet\", # \"logreg\", \"penalized_logreg\", \"rf\", \"gbm\", \"elasticnet\"\n",
    "    \"cutoff\": [\"quantile_0.15\", \"quantile_0.30\"],\n",
    "    \"exclude_features\": \"age\", # \"none\", \"nationality\", \"sex\", \"nationality-sex\", \"age\"\n",
    "    \"exclude_subgroups\": \"keep-all\", # \"keep-all\", \"drop-non-german\"\n",
    "    \"eval_fairness_grouping\": [\"majority-minority\", \"nationality-all\"]\n",
    "}\n",
    "\n",
    "output_dir=\"./output\"\n",
    "seed=0"
   ]
  },
  {
   "cell_type": "code",
   "execution_count": 4,
   "id": "bcffd447",
   "metadata": {
    "execution": {
     "iopub.execute_input": "2025-08-05T16:34:23.002406Z",
     "iopub.status.busy": "2025-08-05T16:34:23.001650Z",
     "iopub.status.idle": "2025-08-05T16:34:23.007603Z",
     "shell.execute_reply": "2025-08-05T16:34:23.006556Z"
    },
    "papermill": {
     "duration": 0.027963,
     "end_time": "2025-08-05T16:34:23.009354",
     "exception": false,
     "start_time": "2025-08-05T16:34:22.981391",
     "status": "completed"
    },
    "tags": [
     "injected-parameters"
    ]
   },
   "outputs": [],
   "source": [
    "# Parameters\n",
    "universe_id = \"fed6c800ffeadd99f3989f0e0214b57f\"\n",
    "run_no = \"15\"\n",
    "universe = \"{\\\"cutoff\\\": [\\\"quantile_0.1\\\", \\\"quantile_0.25\\\"], \\\"eval_fairness_grouping\\\": [\\\"majority-minority\\\", \\\"nationality-all\\\"], \\\"exclude_features\\\": \\\"nationality\\\", \\\"exclude_subgroups\\\": \\\"drop-non-german\\\", \\\"model\\\": \\\"rf\\\", \\\"scale\\\": \\\"scale\\\", \\\"training_size\\\": \\\"1k\\\", \\\"training_year\\\": \\\"2010_14\\\"}\"\n",
    "output_dir = \"output\"\n",
    "seed = \"2023\"\n"
   ]
  },
  {
   "cell_type": "code",
   "execution_count": 5,
   "id": "1650acaf",
   "metadata": {
    "execution": {
     "iopub.execute_input": "2025-08-05T16:34:23.050656Z",
     "iopub.status.busy": "2025-08-05T16:34:23.050086Z",
     "iopub.status.idle": "2025-08-05T16:34:23.056215Z",
     "shell.execute_reply": "2025-08-05T16:34:23.054813Z"
    },
    "papermill": {
     "duration": 0.02854,
     "end_time": "2025-08-05T16:34:23.057926",
     "exception": false,
     "start_time": "2025-08-05T16:34:23.029386",
     "status": "completed"
    },
    "tags": []
   },
   "outputs": [],
   "source": [
    "import json\n",
    "if isinstance(universe, str):\n",
    "    universe = json.loads(universe)"
   ]
  },
  {
   "cell_type": "code",
   "execution_count": 6,
   "id": "16620c48",
   "metadata": {
    "execution": {
     "iopub.execute_input": "2025-08-05T16:34:23.103381Z",
     "iopub.status.busy": "2025-08-05T16:34:23.102809Z",
     "iopub.status.idle": "2025-08-05T16:34:23.156492Z",
     "shell.execute_reply": "2025-08-05T16:34:23.155380Z"
    },
    "papermill": {
     "duration": 0.078727,
     "end_time": "2025-08-05T16:34:23.158545",
     "exception": false,
     "start_time": "2025-08-05T16:34:23.079818",
     "status": "completed"
    },
    "tags": []
   },
   "outputs": [],
   "source": [
    "# Auto-reload the custom package\n",
    "%load_ext autoreload\n",
    "%autoreload 1\n",
    "%aimport fairness_multiverse"
   ]
  },
  {
   "cell_type": "code",
   "execution_count": 7,
   "id": "01c5c9f3",
   "metadata": {
    "execution": {
     "iopub.execute_input": "2025-08-05T16:34:23.199078Z",
     "iopub.status.busy": "2025-08-05T16:34:23.198038Z",
     "iopub.status.idle": "2025-08-05T16:34:25.426317Z",
     "shell.execute_reply": "2025-08-05T16:34:25.425294Z"
    },
    "papermill": {
     "duration": 2.251389,
     "end_time": "2025-08-05T16:34:25.428109",
     "exception": false,
     "start_time": "2025-08-05T16:34:23.176720",
     "status": "completed"
    },
    "tags": []
   },
   "outputs": [],
   "source": [
    "from fairness_multiverse.universe import UniverseAnalysis\n",
    "\n",
    "universe_analysis = UniverseAnalysis(\n",
    "    run_no = run_no,\n",
    "    universe_id = universe_id,\n",
    "    universe = universe,\n",
    "    output_dir=output_dir,\n",
    ")"
   ]
  },
  {
   "cell_type": "code",
   "execution_count": 8,
   "id": "106241f5",
   "metadata": {
    "execution": {
     "iopub.execute_input": "2025-08-05T16:34:25.464354Z",
     "iopub.status.busy": "2025-08-05T16:34:25.463929Z",
     "iopub.status.idle": "2025-08-05T16:34:25.470601Z",
     "shell.execute_reply": "2025-08-05T16:34:25.469053Z"
    },
    "papermill": {
     "duration": 0.026154,
     "end_time": "2025-08-05T16:34:25.472202",
     "exception": false,
     "start_time": "2025-08-05T16:34:25.446048",
     "status": "completed"
    },
    "tags": []
   },
   "outputs": [
    {
     "name": "stdout",
     "output_type": "stream",
     "text": [
      "Using Seed: 2023\n"
     ]
    }
   ],
   "source": [
    "import numpy as np\n",
    "parsed_seed = int(seed)\n",
    "np.random.seed(parsed_seed)\n",
    "print(f\"Using Seed: {parsed_seed}\")"
   ]
  },
  {
   "cell_type": "markdown",
   "id": "e0ebdc57",
   "metadata": {
    "papermill": {
     "duration": 0.010786,
     "end_time": "2025-08-05T16:34:25.494146",
     "exception": false,
     "start_time": "2025-08-05T16:34:25.483360",
     "status": "completed"
    },
    "tags": []
   },
   "source": [
    "# Loading Data"
   ]
  },
  {
   "cell_type": "code",
   "execution_count": 9,
   "id": "f0496b8a",
   "metadata": {
    "execution": {
     "iopub.execute_input": "2025-08-05T16:34:25.521421Z",
     "iopub.status.busy": "2025-08-05T16:34:25.520947Z",
     "iopub.status.idle": "2025-08-05T16:34:38.225085Z",
     "shell.execute_reply": "2025-08-05T16:34:38.224048Z"
    },
    "papermill": {
     "duration": 12.72163,
     "end_time": "2025-08-05T16:34:38.226642",
     "exception": false,
     "start_time": "2025-08-05T16:34:25.505012",
     "status": "completed"
    },
    "tags": []
   },
   "outputs": [
    {
     "name": "stdout",
     "output_type": "stream",
     "text": [
      "Loading SIAB data from cache: data/siab_cached.csv.gz\n"
     ]
    },
    {
     "name": "stdout",
     "output_type": "stream",
     "text": [
      "(643690, 164)\n"
     ]
    }
   ],
   "source": [
    "from pathlib import Path\n",
    "import pandas as pd\n",
    "\n",
    "# File paths\n",
    "raw_file = Path(\"data/raw/siab.csv\")\n",
    "cache_file = Path(\"data/siab_cached.csv.gz\")\n",
    "\n",
    "# Ensure cache directory exists\n",
    "cache_file.parent.mkdir(parents=True, exist_ok=True)\n",
    "\n",
    "# Load with simple caching\n",
    "if cache_file.exists():\n",
    "    print(f\"Loading SIAB data from cache: {cache_file}\")\n",
    "    siab = pd.read_csv(cache_file, compression='gzip')\n",
    "else:\n",
    "    print(f\"Cache not found. Reading raw SIAB data: {raw_file}\")\n",
    "    siab = pd.read_csv(raw_file)\n",
    "    siab.to_csv(cache_file, index=False, compression='gzip')\n",
    "    print(f\"Cached SIAB data to: {cache_file}\")\n",
    "\n",
    "print(siab.shape)"
   ]
  },
  {
   "cell_type": "code",
   "execution_count": 10,
   "id": "db0ca512-5f53-4dba-abdb-a2888bca41ba",
   "metadata": {
    "execution": {
     "iopub.execute_input": "2025-08-05T16:34:38.251298Z",
     "iopub.status.busy": "2025-08-05T16:34:38.250422Z",
     "iopub.status.idle": "2025-08-05T16:34:38.256296Z",
     "shell.execute_reply": "2025-08-05T16:34:38.255468Z"
    },
    "papermill": {
     "duration": 0.019488,
     "end_time": "2025-08-05T16:34:38.257839",
     "exception": false,
     "start_time": "2025-08-05T16:34:38.238351",
     "status": "completed"
    },
    "tags": []
   },
   "outputs": [],
   "source": [
    "#siab"
   ]
  },
  {
   "cell_type": "markdown",
   "id": "997051c5-15bd-4b69-9786-c3001a3ce484",
   "metadata": {
    "papermill": {
     "duration": 0.01098,
     "end_time": "2025-08-05T16:34:38.280260",
     "exception": false,
     "start_time": "2025-08-05T16:34:38.269280",
     "status": "completed"
    },
    "tags": []
   },
   "source": [
    "# Splitting Data and Setting Training Data Size"
   ]
  },
  {
   "cell_type": "code",
   "execution_count": 11,
   "id": "aea9c6ef-6f46-42c8-85eb-5a62025c1508",
   "metadata": {
    "execution": {
     "iopub.execute_input": "2025-08-05T16:34:38.303756Z",
     "iopub.status.busy": "2025-08-05T16:34:38.302937Z",
     "iopub.status.idle": "2025-08-05T16:34:39.308970Z",
     "shell.execute_reply": "2025-08-05T16:34:39.308106Z"
    },
    "papermill": {
     "duration": 1.019613,
     "end_time": "2025-08-05T16:34:39.310641",
     "exception": false,
     "start_time": "2025-08-05T16:34:38.291028",
     "status": "completed"
    },
    "tags": []
   },
   "outputs": [],
   "source": [
    "from fairness_multiverse.universe import sample_by_year_size\n",
    "\n",
    "siab_train = sample_by_year_size(siab,\n",
    "                               training_year=universe[\"training_year\"],\n",
    "                               training_size=universe[\"training_size\"])"
   ]
  },
  {
   "cell_type": "code",
   "execution_count": 12,
   "id": "8d3afb32-789d-442c-8d5d-9f5aa8dd2eed",
   "metadata": {
    "execution": {
     "iopub.execute_input": "2025-08-05T16:34:39.334883Z",
     "iopub.status.busy": "2025-08-05T16:34:39.334389Z",
     "iopub.status.idle": "2025-08-05T16:34:39.339207Z",
     "shell.execute_reply": "2025-08-05T16:34:39.338174Z"
    },
    "papermill": {
     "duration": 0.018369,
     "end_time": "2025-08-05T16:34:39.340716",
     "exception": false,
     "start_time": "2025-08-05T16:34:39.322347",
     "status": "completed"
    },
    "tags": []
   },
   "outputs": [],
   "source": [
    "#siab_train.shape"
   ]
  },
  {
   "cell_type": "code",
   "execution_count": 13,
   "id": "d582db68-1a4c-47fb-84fc-08518dc1975a",
   "metadata": {
    "execution": {
     "iopub.execute_input": "2025-08-05T16:34:39.365111Z",
     "iopub.status.busy": "2025-08-05T16:34:39.364264Z",
     "iopub.status.idle": "2025-08-05T16:34:39.369472Z",
     "shell.execute_reply": "2025-08-05T16:34:39.368683Z"
    },
    "papermill": {
     "duration": 0.018871,
     "end_time": "2025-08-05T16:34:39.371014",
     "exception": false,
     "start_time": "2025-08-05T16:34:39.352143",
     "status": "completed"
    },
    "tags": []
   },
   "outputs": [],
   "source": [
    "#display(siab_train.groupby(\"year\").size())"
   ]
  },
  {
   "cell_type": "code",
   "execution_count": 14,
   "id": "a561edb4-d032-42cb-8256-22eac1111c64",
   "metadata": {
    "execution": {
     "iopub.execute_input": "2025-08-05T16:34:39.395593Z",
     "iopub.status.busy": "2025-08-05T16:34:39.395120Z",
     "iopub.status.idle": "2025-08-05T16:34:39.644070Z",
     "shell.execute_reply": "2025-08-05T16:34:39.643218Z"
    },
    "papermill": {
     "duration": 0.263176,
     "end_time": "2025-08-05T16:34:39.645856",
     "exception": false,
     "start_time": "2025-08-05T16:34:39.382680",
     "status": "completed"
    },
    "tags": []
   },
   "outputs": [],
   "source": [
    "#siab_train = siab_s[siab_s.year < 2015]\n",
    "siab_calib = siab[siab.year == 2015]\n",
    "siab_test = siab[siab.year == 2016]"
   ]
  },
  {
   "cell_type": "code",
   "execution_count": 15,
   "id": "472de16f-c3db-4916-846b-1f0de9cf1746",
   "metadata": {
    "execution": {
     "iopub.execute_input": "2025-08-05T16:34:39.670933Z",
     "iopub.status.busy": "2025-08-05T16:34:39.670514Z",
     "iopub.status.idle": "2025-08-05T16:34:39.676980Z",
     "shell.execute_reply": "2025-08-05T16:34:39.675932Z"
    },
    "papermill": {
     "duration": 0.02065,
     "end_time": "2025-08-05T16:34:39.678546",
     "exception": false,
     "start_time": "2025-08-05T16:34:39.657896",
     "status": "completed"
    },
    "tags": []
   },
   "outputs": [],
   "source": [
    "X_train = siab_train.iloc[:,4:164]\n",
    "y_train = siab_train.iloc[:, [3]]"
   ]
  },
  {
   "cell_type": "code",
   "execution_count": 16,
   "id": "828c96af-f43a-4ed6-ba47-8ac73a47d56c",
   "metadata": {
    "execution": {
     "iopub.execute_input": "2025-08-05T16:34:39.704162Z",
     "iopub.status.busy": "2025-08-05T16:34:39.703574Z",
     "iopub.status.idle": "2025-08-05T16:34:39.755118Z",
     "shell.execute_reply": "2025-08-05T16:34:39.754104Z"
    },
    "papermill": {
     "duration": 0.065761,
     "end_time": "2025-08-05T16:34:39.756654",
     "exception": false,
     "start_time": "2025-08-05T16:34:39.690893",
     "status": "completed"
    },
    "tags": []
   },
   "outputs": [],
   "source": [
    "X_calib = siab_calib.iloc[:,4:164]\n",
    "y_calib = siab_calib.iloc[:, [3]]"
   ]
  },
  {
   "cell_type": "code",
   "execution_count": 17,
   "id": "c34be9c3-6bd6-476e-acd3-845840e303be",
   "metadata": {
    "execution": {
     "iopub.execute_input": "2025-08-05T16:34:39.782647Z",
     "iopub.status.busy": "2025-08-05T16:34:39.781722Z",
     "iopub.status.idle": "2025-08-05T16:34:39.835159Z",
     "shell.execute_reply": "2025-08-05T16:34:39.834221Z"
    },
    "papermill": {
     "duration": 0.067956,
     "end_time": "2025-08-05T16:34:39.836788",
     "exception": false,
     "start_time": "2025-08-05T16:34:39.768832",
     "status": "completed"
    },
    "tags": []
   },
   "outputs": [],
   "source": [
    "X_test = siab_test.iloc[:,4:164]\n",
    "y_true = siab_test.iloc[:, [3]]"
   ]
  },
  {
   "cell_type": "code",
   "execution_count": 18,
   "id": "e6c733c5",
   "metadata": {
    "execution": {
     "iopub.execute_input": "2025-08-05T16:34:39.862673Z",
     "iopub.status.busy": "2025-08-05T16:34:39.861987Z",
     "iopub.status.idle": "2025-08-05T16:34:39.957189Z",
     "shell.execute_reply": "2025-08-05T16:34:39.956333Z"
    },
    "papermill": {
     "duration": 0.109795,
     "end_time": "2025-08-05T16:34:39.959017",
     "exception": false,
     "start_time": "2025-08-05T16:34:39.849222",
     "status": "completed"
    },
    "tags": []
   },
   "outputs": [],
   "source": [
    "# Auxiliary data needed downstream in the pipeline\n",
    "\n",
    "org_train = X_train.copy()\n",
    "org_test = X_test.copy()\n",
    "org_calib = X_calib.copy()"
   ]
  },
  {
   "cell_type": "markdown",
   "id": "0a4a1b33",
   "metadata": {
    "papermill": {
     "duration": 0.024335,
     "end_time": "2025-08-05T16:34:39.995614",
     "exception": false,
     "start_time": "2025-08-05T16:34:39.971279",
     "status": "completed"
    },
    "tags": []
   },
   "source": [
    "# Preprocessing Data"
   ]
  },
  {
   "cell_type": "code",
   "execution_count": 19,
   "id": "ca879031",
   "metadata": {
    "execution": {
     "iopub.execute_input": "2025-08-05T16:34:40.040412Z",
     "iopub.status.busy": "2025-08-05T16:34:40.039374Z",
     "iopub.status.idle": "2025-08-05T16:34:40.046269Z",
     "shell.execute_reply": "2025-08-05T16:34:40.045200Z"
    },
    "papermill": {
     "duration": 0.029547,
     "end_time": "2025-08-05T16:34:40.047715",
     "exception": false,
     "start_time": "2025-08-05T16:34:40.018168",
     "status": "completed"
    },
    "tags": []
   },
   "outputs": [],
   "source": [
    "# EXCLUDE PROTECTED FEATURES\n",
    "# ----------------------\n",
    "# \"exclude_features\": \"none\", # \"nationality\", \"sex\", \"nationality-sex\"\n",
    "\n",
    "excluded_features = universe[\"exclude_features\"].split(\"-\") # split, e.g.: \"nationality-sex\" -> [\"nationality\", \"sex\"]\n",
    "excluded_features_dictionary = {\n",
    "    \"nationality\": [\"maxdeutsch1\", \"maxdeutsch.Missing.\"],\n",
    "    \"sex\": [\"frau1\"],\n",
    "    \"age\": [\"age\"],\n",
    "}"
   ]
  },
  {
   "cell_type": "code",
   "execution_count": 20,
   "id": "b745ac60",
   "metadata": {
    "execution": {
     "iopub.execute_input": "2025-08-05T16:34:40.090795Z",
     "iopub.status.busy": "2025-08-05T16:34:40.090293Z",
     "iopub.status.idle": "2025-08-05T16:34:40.096448Z",
     "shell.execute_reply": "2025-08-05T16:34:40.095340Z"
    },
    "papermill": {
     "duration": 0.029542,
     "end_time": "2025-08-05T16:34:40.098359",
     "exception": false,
     "start_time": "2025-08-05T16:34:40.068817",
     "status": "completed"
    },
    "tags": []
   },
   "outputs": [],
   "source": [
    "# Code nice names to column names\n",
    "\n",
    "excluded_features_columns = [\n",
    "    excluded_features_dictionary[f] for f in excluded_features if len(f) > 0 and f != \"none\"\n",
    "]"
   ]
  },
  {
   "cell_type": "code",
   "execution_count": 21,
   "id": "f84f73a2",
   "metadata": {
    "execution": {
     "iopub.execute_input": "2025-08-05T16:34:40.135381Z",
     "iopub.status.busy": "2025-08-05T16:34:40.134891Z",
     "iopub.status.idle": "2025-08-05T16:34:40.142118Z",
     "shell.execute_reply": "2025-08-05T16:34:40.141214Z"
    },
    "papermill": {
     "duration": 0.022962,
     "end_time": "2025-08-05T16:34:40.143891",
     "exception": false,
     "start_time": "2025-08-05T16:34:40.120929",
     "status": "completed"
    },
    "tags": []
   },
   "outputs": [],
   "source": [
    "from utils import flatten_once\n",
    "\n",
    "excluded_features_columns = flatten_once(excluded_features_columns)"
   ]
  },
  {
   "cell_type": "code",
   "execution_count": 22,
   "id": "884dea22",
   "metadata": {
    "execution": {
     "iopub.execute_input": "2025-08-05T16:34:40.170759Z",
     "iopub.status.busy": "2025-08-05T16:34:40.170130Z",
     "iopub.status.idle": "2025-08-05T16:34:40.177725Z",
     "shell.execute_reply": "2025-08-05T16:34:40.176549Z"
    },
    "papermill": {
     "duration": 0.022436,
     "end_time": "2025-08-05T16:34:40.179454",
     "exception": false,
     "start_time": "2025-08-05T16:34:40.157018",
     "status": "completed"
    },
    "tags": []
   },
   "outputs": [
    {
     "name": "stdout",
     "output_type": "stream",
     "text": [
      "Dropping features: ['maxdeutsch1', 'maxdeutsch.Missing.']\n"
     ]
    }
   ],
   "source": [
    "if len(excluded_features_columns) > 0:\n",
    "    print(f\"Dropping features: {excluded_features_columns}\")\n",
    "    X_train.drop(excluded_features_columns, axis=1, inplace=True)"
   ]
  },
  {
   "cell_type": "code",
   "execution_count": 23,
   "id": "95ab8b16",
   "metadata": {
    "execution": {
     "iopub.execute_input": "2025-08-05T16:34:40.206217Z",
     "iopub.status.busy": "2025-08-05T16:34:40.205380Z",
     "iopub.status.idle": "2025-08-05T16:34:40.260876Z",
     "shell.execute_reply": "2025-08-05T16:34:40.259890Z"
    },
    "papermill": {
     "duration": 0.070558,
     "end_time": "2025-08-05T16:34:40.262569",
     "exception": false,
     "start_time": "2025-08-05T16:34:40.192011",
     "status": "completed"
    },
    "tags": []
   },
   "outputs": [
    {
     "name": "stdout",
     "output_type": "stream",
     "text": [
      "Dropping features: ['maxdeutsch1', 'maxdeutsch.Missing.']\n"
     ]
    }
   ],
   "source": [
    "if len(excluded_features_columns) > 0:\n",
    "    print(f\"Dropping features: {excluded_features_columns}\")\n",
    "    X_test.drop(excluded_features_columns, axis=1, inplace=True)"
   ]
  },
  {
   "cell_type": "code",
   "execution_count": 24,
   "id": "1853aaf5-fb9f-46cb-a2b5-8ea4ae2237e4",
   "metadata": {
    "execution": {
     "iopub.execute_input": "2025-08-05T16:34:40.289736Z",
     "iopub.status.busy": "2025-08-05T16:34:40.289129Z",
     "iopub.status.idle": "2025-08-05T16:34:40.340631Z",
     "shell.execute_reply": "2025-08-05T16:34:40.339306Z"
    },
    "papermill": {
     "duration": 0.067042,
     "end_time": "2025-08-05T16:34:40.342336",
     "exception": false,
     "start_time": "2025-08-05T16:34:40.275294",
     "status": "completed"
    },
    "tags": []
   },
   "outputs": [
    {
     "name": "stdout",
     "output_type": "stream",
     "text": [
      "Dropping features: ['maxdeutsch1', 'maxdeutsch.Missing.']\n"
     ]
    }
   ],
   "source": [
    "if len(excluded_features_columns) > 0:\n",
    "    print(f\"Dropping features: {excluded_features_columns}\")\n",
    "    X_calib.drop(excluded_features_columns, axis=1, inplace=True)"
   ]
  },
  {
   "cell_type": "code",
   "execution_count": 25,
   "id": "76c4dc6d",
   "metadata": {
    "execution": {
     "iopub.execute_input": "2025-08-05T16:34:40.369119Z",
     "iopub.status.busy": "2025-08-05T16:34:40.368291Z",
     "iopub.status.idle": "2025-08-05T16:34:40.373899Z",
     "shell.execute_reply": "2025-08-05T16:34:40.373049Z"
    },
    "papermill": {
     "duration": 0.020412,
     "end_time": "2025-08-05T16:34:40.375520",
     "exception": false,
     "start_time": "2025-08-05T16:34:40.355108",
     "status": "completed"
    },
    "tags": []
   },
   "outputs": [],
   "source": [
    "# EXCLUDE CERTAIN SUBGROUPS\n",
    "# ----------------------\n",
    "\n",
    "mode = universe.get(\"exclude_subgroups\", \"keep-all\") \n",
    "# Fetches the exclude_subgroups setting from the universe dict.\n",
    "# Defaults to \"keep-all\" if the key is missing."
   ]
  },
  {
   "cell_type": "code",
   "execution_count": 26,
   "id": "21994072",
   "metadata": {
    "execution": {
     "iopub.execute_input": "2025-08-05T16:34:40.415523Z",
     "iopub.status.busy": "2025-08-05T16:34:40.415024Z",
     "iopub.status.idle": "2025-08-05T16:34:40.423122Z",
     "shell.execute_reply": "2025-08-05T16:34:40.422024Z"
    },
    "papermill": {
     "duration": 0.034311,
     "end_time": "2025-08-05T16:34:40.425016",
     "exception": false,
     "start_time": "2025-08-05T16:34:40.390705",
     "status": "completed"
    },
    "tags": []
   },
   "outputs": [],
   "source": [
    "if mode == \"keep-all\":\n",
    "    keep_mask = pd.Series(True, index=org_train.index)\n",
    "\n",
    "# org_train contains the original feature columns from features_org (in Simson)\n",
    "# features_org contains unprocessed features, for me X_train at beginning ???\n",
    "# For keep-all, creates a boolean Series (keep_mask) of all True, so no rows are removed.\n",
    "\n",
    "elif mode == \"drop-non-german\":\n",
    "    keep_mask = org_train[\"maxdeutsch1\"] == 1 # ??? what about missing values?\n",
    "\n",
    "else:\n",
    "    raise ValueError(f\"Unsupported mode for exclude_subgroups: {mode}\")"
   ]
  },
  {
   "cell_type": "code",
   "execution_count": 27,
   "id": "71651440",
   "metadata": {
    "execution": {
     "iopub.execute_input": "2025-08-05T16:34:40.469008Z",
     "iopub.status.busy": "2025-08-05T16:34:40.468533Z",
     "iopub.status.idle": "2025-08-05T16:34:40.476234Z",
     "shell.execute_reply": "2025-08-05T16:34:40.475120Z"
    },
    "papermill": {
     "duration": 0.034001,
     "end_time": "2025-08-05T16:34:40.478051",
     "exception": false,
     "start_time": "2025-08-05T16:34:40.444050",
     "status": "completed"
    },
    "tags": []
   },
   "outputs": [
    {
     "name": "stdout",
     "output_type": "stream",
     "text": [
      "Dropping 131 rows (13.10%) where mode='drop-non-german'\n"
     ]
    }
   ],
   "source": [
    "n_drop = (~keep_mask).sum() # Calculates how many rows are set to be dropped\n",
    "if n_drop > 0:\n",
    "    pct = n_drop / len(keep_mask) * 100\n",
    "    print(f\"Dropping {n_drop} rows ({pct:.2f}%) where mode='{mode}'\")"
   ]
  },
  {
   "cell_type": "code",
   "execution_count": 28,
   "id": "5fb8eee5",
   "metadata": {
    "execution": {
     "iopub.execute_input": "2025-08-05T16:34:40.506937Z",
     "iopub.status.busy": "2025-08-05T16:34:40.506449Z",
     "iopub.status.idle": "2025-08-05T16:34:40.513344Z",
     "shell.execute_reply": "2025-08-05T16:34:40.512464Z"
    },
    "papermill": {
     "duration": 0.022247,
     "end_time": "2025-08-05T16:34:40.514897",
     "exception": false,
     "start_time": "2025-08-05T16:34:40.492650",
     "status": "completed"
    },
    "tags": []
   },
   "outputs": [],
   "source": [
    "X_train = X_train[keep_mask]"
   ]
  },
  {
   "cell_type": "code",
   "execution_count": 29,
   "id": "b202bb3a",
   "metadata": {
    "execution": {
     "iopub.execute_input": "2025-08-05T16:34:40.542187Z",
     "iopub.status.busy": "2025-08-05T16:34:40.541715Z",
     "iopub.status.idle": "2025-08-05T16:34:40.551539Z",
     "shell.execute_reply": "2025-08-05T16:34:40.550555Z"
    },
    "papermill": {
     "duration": 0.028214,
     "end_time": "2025-08-05T16:34:40.556219",
     "exception": false,
     "start_time": "2025-08-05T16:34:40.528005",
     "status": "completed"
    },
    "tags": []
   },
   "outputs": [],
   "source": [
    "y_train = y_train[keep_mask]"
   ]
  },
  {
   "cell_type": "markdown",
   "id": "493e2ac3",
   "metadata": {
    "papermill": {
     "duration": 0.017111,
     "end_time": "2025-08-05T16:34:40.597675",
     "exception": false,
     "start_time": "2025-08-05T16:34:40.580564",
     "status": "completed"
    },
    "tags": []
   },
   "source": [
    "# Model Training"
   ]
  },
  {
   "cell_type": "code",
   "execution_count": 30,
   "id": "679e1268",
   "metadata": {
    "execution": {
     "iopub.execute_input": "2025-08-05T16:34:40.623728Z",
     "iopub.status.busy": "2025-08-05T16:34:40.623308Z",
     "iopub.status.idle": "2025-08-05T16:34:40.787393Z",
     "shell.execute_reply": "2025-08-05T16:34:40.786529Z"
    },
    "papermill": {
     "duration": 0.179105,
     "end_time": "2025-08-05T16:34:40.789059",
     "exception": false,
     "start_time": "2025-08-05T16:34:40.609954",
     "status": "completed"
    },
    "tags": []
   },
   "outputs": [],
   "source": [
    "from sklearn.linear_model import LogisticRegression\n",
    "from sklearn.ensemble import GradientBoostingClassifier, RandomForestClassifier\n",
    "\n",
    "if (universe[\"model\"] == \"logreg\"):\n",
    "    model = LogisticRegression() #penalty=\"none\", solver=\"newton-cg\", max_iter=1) # include random_state=19 ?\n",
    "elif (universe[\"model\"] == \"penalized_logreg\"):\n",
    "    model = LogisticRegression(penalty=\"l2\", C=0.1) #, solver=\"newton-cg\", max_iter=1)\n",
    "elif (universe[\"model\"] == \"rf\"):\n",
    "    model = RandomForestClassifier() # n_estimators=100, n_jobs=-1\n",
    "elif (universe[\"model\"] == \"gbm\"):\n",
    "    model = GradientBoostingClassifier()\n",
    "elif (universe[\"model\"] == \"elasticnet\"):\n",
    "    model = LogisticRegression(penalty = 'elasticnet', solver = 'saga', l1_ratio = 0.5) # max_iter=5000\n",
    "else:\n",
    "    raise \"Unsupported universe.model\""
   ]
  },
  {
   "cell_type": "code",
   "execution_count": 31,
   "id": "0cc8f744",
   "metadata": {
    "execution": {
     "iopub.execute_input": "2025-08-05T16:34:40.815509Z",
     "iopub.status.busy": "2025-08-05T16:34:40.814591Z",
     "iopub.status.idle": "2025-08-05T16:34:40.820620Z",
     "shell.execute_reply": "2025-08-05T16:34:40.819701Z"
    },
    "papermill": {
     "duration": 0.020408,
     "end_time": "2025-08-05T16:34:40.822269",
     "exception": false,
     "start_time": "2025-08-05T16:34:40.801861",
     "status": "completed"
    },
    "tags": []
   },
   "outputs": [],
   "source": [
    "import numpy as np\n",
    "from sklearn.pipeline import Pipeline\n",
    "from sklearn.preprocessing import StandardScaler\n",
    "\n",
    "model = Pipeline([\n",
    "    #(\"continuous_processor\", continuous_processor),\n",
    "    #(\"categorical_preprocessor\", categorical_preprocessor),\n",
    "    (\"scale\", StandardScaler() if universe[\"scale\"] == \"scale\" else None), \n",
    "    (\"model\", model),\n",
    "])"
   ]
  },
  {
   "cell_type": "code",
   "execution_count": 32,
   "id": "9442c04d",
   "metadata": {
    "execution": {
     "iopub.execute_input": "2025-08-05T16:34:40.847787Z",
     "iopub.status.busy": "2025-08-05T16:34:40.847182Z",
     "iopub.status.idle": "2025-08-05T16:34:41.227318Z",
     "shell.execute_reply": "2025-08-05T16:34:41.226475Z"
    },
    "papermill": {
     "duration": 0.394284,
     "end_time": "2025-08-05T16:34:41.228806",
     "exception": false,
     "start_time": "2025-08-05T16:34:40.834522",
     "status": "completed"
    },
    "tags": []
   },
   "outputs": [
    {
     "data": {
      "text/html": [
       "<style>#sk-container-id-1 {color: black;background-color: white;}#sk-container-id-1 pre{padding: 0;}#sk-container-id-1 div.sk-toggleable {background-color: white;}#sk-container-id-1 label.sk-toggleable__label {cursor: pointer;display: block;width: 100%;margin-bottom: 0;padding: 0.3em;box-sizing: border-box;text-align: center;}#sk-container-id-1 label.sk-toggleable__label-arrow:before {content: \"▸\";float: left;margin-right: 0.25em;color: #696969;}#sk-container-id-1 label.sk-toggleable__label-arrow:hover:before {color: black;}#sk-container-id-1 div.sk-estimator:hover label.sk-toggleable__label-arrow:before {color: black;}#sk-container-id-1 div.sk-toggleable__content {max-height: 0;max-width: 0;overflow: hidden;text-align: left;background-color: #f0f8ff;}#sk-container-id-1 div.sk-toggleable__content pre {margin: 0.2em;color: black;border-radius: 0.25em;background-color: #f0f8ff;}#sk-container-id-1 input.sk-toggleable__control:checked~div.sk-toggleable__content {max-height: 200px;max-width: 100%;overflow: auto;}#sk-container-id-1 input.sk-toggleable__control:checked~label.sk-toggleable__label-arrow:before {content: \"▾\";}#sk-container-id-1 div.sk-estimator input.sk-toggleable__control:checked~label.sk-toggleable__label {background-color: #d4ebff;}#sk-container-id-1 div.sk-label input.sk-toggleable__control:checked~label.sk-toggleable__label {background-color: #d4ebff;}#sk-container-id-1 input.sk-hidden--visually {border: 0;clip: rect(1px 1px 1px 1px);clip: rect(1px, 1px, 1px, 1px);height: 1px;margin: -1px;overflow: hidden;padding: 0;position: absolute;width: 1px;}#sk-container-id-1 div.sk-estimator {font-family: monospace;background-color: #f0f8ff;border: 1px dotted black;border-radius: 0.25em;box-sizing: border-box;margin-bottom: 0.5em;}#sk-container-id-1 div.sk-estimator:hover {background-color: #d4ebff;}#sk-container-id-1 div.sk-parallel-item::after {content: \"\";width: 100%;border-bottom: 1px solid gray;flex-grow: 1;}#sk-container-id-1 div.sk-label:hover label.sk-toggleable__label {background-color: #d4ebff;}#sk-container-id-1 div.sk-serial::before {content: \"\";position: absolute;border-left: 1px solid gray;box-sizing: border-box;top: 0;bottom: 0;left: 50%;z-index: 0;}#sk-container-id-1 div.sk-serial {display: flex;flex-direction: column;align-items: center;background-color: white;padding-right: 0.2em;padding-left: 0.2em;position: relative;}#sk-container-id-1 div.sk-item {position: relative;z-index: 1;}#sk-container-id-1 div.sk-parallel {display: flex;align-items: stretch;justify-content: center;background-color: white;position: relative;}#sk-container-id-1 div.sk-item::before, #sk-container-id-1 div.sk-parallel-item::before {content: \"\";position: absolute;border-left: 1px solid gray;box-sizing: border-box;top: 0;bottom: 0;left: 50%;z-index: -1;}#sk-container-id-1 div.sk-parallel-item {display: flex;flex-direction: column;z-index: 1;position: relative;background-color: white;}#sk-container-id-1 div.sk-parallel-item:first-child::after {align-self: flex-end;width: 50%;}#sk-container-id-1 div.sk-parallel-item:last-child::after {align-self: flex-start;width: 50%;}#sk-container-id-1 div.sk-parallel-item:only-child::after {width: 0;}#sk-container-id-1 div.sk-dashed-wrapped {border: 1px dashed gray;margin: 0 0.4em 0.5em 0.4em;box-sizing: border-box;padding-bottom: 0.4em;background-color: white;}#sk-container-id-1 div.sk-label label {font-family: monospace;font-weight: bold;display: inline-block;line-height: 1.2em;}#sk-container-id-1 div.sk-label-container {text-align: center;}#sk-container-id-1 div.sk-container {/* jupyter's `normalize.less` sets `[hidden] { display: none; }` but bootstrap.min.css set `[hidden] { display: none !important; }` so we also need the `!important` here to be able to override the default hidden behavior on the sphinx rendered scikit-learn.org. See: https://github.com/scikit-learn/scikit-learn/issues/21755 */display: inline-block !important;position: relative;}#sk-container-id-1 div.sk-text-repr-fallback {display: none;}</style><div id=\"sk-container-id-1\" class=\"sk-top-container\"><div class=\"sk-text-repr-fallback\"><pre>Pipeline(steps=[(&#x27;scale&#x27;, StandardScaler()),\n",
       "                (&#x27;model&#x27;, RandomForestClassifier())])</pre><b>In a Jupyter environment, please rerun this cell to show the HTML representation or trust the notebook. <br />On GitHub, the HTML representation is unable to render, please try loading this page with nbviewer.org.</b></div><div class=\"sk-container\" hidden><div class=\"sk-item sk-dashed-wrapped\"><div class=\"sk-label-container\"><div class=\"sk-label sk-toggleable\"><input class=\"sk-toggleable__control sk-hidden--visually\" id=\"sk-estimator-id-1\" type=\"checkbox\" ><label for=\"sk-estimator-id-1\" class=\"sk-toggleable__label sk-toggleable__label-arrow\">Pipeline</label><div class=\"sk-toggleable__content\"><pre>Pipeline(steps=[(&#x27;scale&#x27;, StandardScaler()),\n",
       "                (&#x27;model&#x27;, RandomForestClassifier())])</pre></div></div></div><div class=\"sk-serial\"><div class=\"sk-item\"><div class=\"sk-estimator sk-toggleable\"><input class=\"sk-toggleable__control sk-hidden--visually\" id=\"sk-estimator-id-2\" type=\"checkbox\" ><label for=\"sk-estimator-id-2\" class=\"sk-toggleable__label sk-toggleable__label-arrow\">StandardScaler</label><div class=\"sk-toggleable__content\"><pre>StandardScaler()</pre></div></div></div><div class=\"sk-item\"><div class=\"sk-estimator sk-toggleable\"><input class=\"sk-toggleable__control sk-hidden--visually\" id=\"sk-estimator-id-3\" type=\"checkbox\" ><label for=\"sk-estimator-id-3\" class=\"sk-toggleable__label sk-toggleable__label-arrow\">RandomForestClassifier</label><div class=\"sk-toggleable__content\"><pre>RandomForestClassifier()</pre></div></div></div></div></div></div></div>"
      ],
      "text/plain": [
       "Pipeline(steps=[('scale', StandardScaler()),\n",
       "                ('model', RandomForestClassifier())])"
      ]
     },
     "execution_count": 32,
     "metadata": {},
     "output_type": "execute_result"
    }
   ],
   "source": [
    "model.fit(X_train, y_train.values.ravel())"
   ]
  },
  {
   "cell_type": "code",
   "execution_count": 33,
   "id": "af59f8c0",
   "metadata": {
    "execution": {
     "iopub.execute_input": "2025-08-05T16:34:41.263716Z",
     "iopub.status.busy": "2025-08-05T16:34:41.262590Z",
     "iopub.status.idle": "2025-08-05T16:34:41.269495Z",
     "shell.execute_reply": "2025-08-05T16:34:41.268222Z"
    },
    "papermill": {
     "duration": 0.029609,
     "end_time": "2025-08-05T16:34:41.271793",
     "exception": false,
     "start_time": "2025-08-05T16:34:41.242184",
     "status": "completed"
    },
    "tags": []
   },
   "outputs": [],
   "source": [
    "from fairness_multiverse.universe import predict_w_threshold"
   ]
  },
  {
   "cell_type": "code",
   "execution_count": 34,
   "id": "a7cf2e16",
   "metadata": {
    "execution": {
     "iopub.execute_input": "2025-08-05T16:34:41.318921Z",
     "iopub.status.busy": "2025-08-05T16:34:41.318173Z",
     "iopub.status.idle": "2025-08-05T16:34:42.928694Z",
     "shell.execute_reply": "2025-08-05T16:34:42.927861Z"
    },
    "papermill": {
     "duration": 1.633736,
     "end_time": "2025-08-05T16:34:42.930283",
     "exception": false,
     "start_time": "2025-08-05T16:34:41.296547",
     "status": "completed"
    },
    "tags": []
   },
   "outputs": [
    {
     "data": {
      "text/plain": [
       "0.8588451677627912"
      ]
     },
     "execution_count": 34,
     "metadata": {},
     "output_type": "execute_result"
    }
   ],
   "source": [
    "probs_test = model.predict_proba(X_test)\n",
    "\n",
    "'''\n",
    "Below code returns a boolean array (or binary 0/1 array depending on how it’s used) where each element \n",
    "is True if the probability of class 1 is greater than or equal to the threshold, and False otherwise.\n",
    "'''\n",
    "y_pred_default = predict_w_threshold(probs_test, 0.5)\n",
    "\n",
    "from sklearn.metrics import accuracy_score\n",
    "\n",
    "# Naive prediction\n",
    "accuracy_score(y_true = y_true, y_pred = y_pred_default)"
   ]
  },
  {
   "cell_type": "code",
   "execution_count": 35,
   "id": "081964c3",
   "metadata": {
    "execution": {
     "iopub.execute_input": "2025-08-05T16:34:42.957298Z",
     "iopub.status.busy": "2025-08-05T16:34:42.956871Z",
     "iopub.status.idle": "2025-08-05T16:34:44.621126Z",
     "shell.execute_reply": "2025-08-05T16:34:44.619734Z"
    },
    "papermill": {
     "duration": 1.680467,
     "end_time": "2025-08-05T16:34:44.624189",
     "exception": false,
     "start_time": "2025-08-05T16:34:42.943722",
     "status": "completed"
    },
    "tags": []
   },
   "outputs": [
    {
     "data": {
      "text/plain": [
       "array([0, 0, 0, ..., 0, 0, 0])"
      ]
     },
     "execution_count": 35,
     "metadata": {},
     "output_type": "execute_result"
    }
   ],
   "source": [
    "model.predict(X_test)"
   ]
  },
  {
   "cell_type": "markdown",
   "id": "56c9705b",
   "metadata": {
    "papermill": {
     "duration": 0.035812,
     "end_time": "2025-08-05T16:34:44.695362",
     "exception": false,
     "start_time": "2025-08-05T16:34:44.659550",
     "status": "completed"
    },
    "tags": []
   },
   "source": [
    "# Conformal Prediction"
   ]
  },
  {
   "cell_type": "code",
   "execution_count": 36,
   "id": "160ec6ff",
   "metadata": {
    "execution": {
     "iopub.execute_input": "2025-08-05T16:34:44.747746Z",
     "iopub.status.busy": "2025-08-05T16:34:44.746963Z",
     "iopub.status.idle": "2025-08-05T16:34:44.753208Z",
     "shell.execute_reply": "2025-08-05T16:34:44.751926Z"
    },
    "papermill": {
     "duration": 0.034575,
     "end_time": "2025-08-05T16:34:44.755368",
     "exception": false,
     "start_time": "2025-08-05T16:34:44.720793",
     "status": "completed"
    },
    "tags": []
   },
   "outputs": [],
   "source": [
    "# Miscoverage level for conformal prediction (10% allowed error rate => 90% target coverage)\n",
    "alpha = 0.1"
   ]
  },
  {
   "cell_type": "code",
   "execution_count": 37,
   "id": "eadf4555-3dd3-440e-8e35-f82a4ad9f855",
   "metadata": {
    "execution": {
     "iopub.execute_input": "2025-08-05T16:34:44.807743Z",
     "iopub.status.busy": "2025-08-05T16:34:44.806718Z",
     "iopub.status.idle": "2025-08-05T16:34:46.813132Z",
     "shell.execute_reply": "2025-08-05T16:34:46.811638Z"
    },
    "papermill": {
     "duration": 2.035562,
     "end_time": "2025-08-05T16:34:46.816018",
     "exception": false,
     "start_time": "2025-08-05T16:34:44.780456",
     "status": "completed"
    },
    "tags": []
   },
   "outputs": [],
   "source": [
    "probs_calib = model.predict_proba(X_calib)"
   ]
  },
  {
   "cell_type": "code",
   "execution_count": 38,
   "id": "2ed93547-6d5d-4983-9b36-1ecb300da49a",
   "metadata": {
    "execution": {
     "iopub.execute_input": "2025-08-05T16:34:46.892769Z",
     "iopub.status.busy": "2025-08-05T16:34:46.891941Z",
     "iopub.status.idle": "2025-08-05T16:34:46.898967Z",
     "shell.execute_reply": "2025-08-05T16:34:46.897716Z"
    },
    "papermill": {
     "duration": 0.047708,
     "end_time": "2025-08-05T16:34:46.901352",
     "exception": false,
     "start_time": "2025-08-05T16:34:46.853644",
     "status": "completed"
    },
    "tags": []
   },
   "outputs": [],
   "source": [
    "y_calib = y_calib.values.ravel().astype(int)"
   ]
  },
  {
   "cell_type": "code",
   "execution_count": 39,
   "id": "65d1320d-f588-4b38-9072-62af1ae97f7d",
   "metadata": {
    "execution": {
     "iopub.execute_input": "2025-08-05T16:34:46.977901Z",
     "iopub.status.busy": "2025-08-05T16:34:46.977434Z",
     "iopub.status.idle": "2025-08-05T16:34:46.986610Z",
     "shell.execute_reply": "2025-08-05T16:34:46.985367Z"
    },
    "papermill": {
     "duration": 0.050643,
     "end_time": "2025-08-05T16:34:46.989166",
     "exception": false,
     "start_time": "2025-08-05T16:34:46.938523",
     "status": "completed"
    },
    "tags": []
   },
   "outputs": [],
   "source": [
    "from fairness_multiverse.conformal import compute_nc_scores\n",
    "\n",
    "# Compute nonconformity scores on calibration set (1 - probability of true class)\n",
    "nc_scores = compute_nc_scores(probs_calib, y_calib)"
   ]
  },
  {
   "cell_type": "code",
   "execution_count": 40,
   "id": "df3b8ca3-53b7-43d5-9667-7c85da7aeda2",
   "metadata": {
    "execution": {
     "iopub.execute_input": "2025-08-05T16:34:47.066159Z",
     "iopub.status.busy": "2025-08-05T16:34:47.065227Z",
     "iopub.status.idle": "2025-08-05T16:34:47.074385Z",
     "shell.execute_reply": "2025-08-05T16:34:47.073049Z"
    },
    "papermill": {
     "duration": 0.050581,
     "end_time": "2025-08-05T16:34:47.076941",
     "exception": false,
     "start_time": "2025-08-05T16:34:47.026360",
     "status": "completed"
    },
    "tags": []
   },
   "outputs": [],
   "source": [
    "from fairness_multiverse.conformal import find_threshold\n",
    "\n",
    "# Find conformal threshold q_hat for the given alpha (split conformal method)\n",
    "q_hat = find_threshold(nc_scores, alpha)"
   ]
  },
  {
   "cell_type": "code",
   "execution_count": 41,
   "id": "4d29e6c1-0ef6-4aa4-b8fe-4fe79b0d033a",
   "metadata": {
    "execution": {
     "iopub.execute_input": "2025-08-05T16:34:47.154179Z",
     "iopub.status.busy": "2025-08-05T16:34:47.153614Z",
     "iopub.status.idle": "2025-08-05T16:34:47.162607Z",
     "shell.execute_reply": "2025-08-05T16:34:47.161343Z"
    },
    "papermill": {
     "duration": 0.050346,
     "end_time": "2025-08-05T16:34:47.164696",
     "exception": false,
     "start_time": "2025-08-05T16:34:47.114350",
     "status": "completed"
    },
    "tags": []
   },
   "outputs": [
    {
     "data": {
      "text/plain": [
       "0.65"
      ]
     },
     "execution_count": 41,
     "metadata": {},
     "output_type": "execute_result"
    }
   ],
   "source": [
    "q_hat"
   ]
  },
  {
   "cell_type": "code",
   "execution_count": 42,
   "id": "92460794-cdac-4be2-ba28-f28c0515a6fb",
   "metadata": {
    "execution": {
     "iopub.execute_input": "2025-08-05T16:34:47.217903Z",
     "iopub.status.busy": "2025-08-05T16:34:47.217394Z",
     "iopub.status.idle": "2025-08-05T16:34:49.996117Z",
     "shell.execute_reply": "2025-08-05T16:34:49.995003Z"
    },
    "papermill": {
     "duration": 2.80469,
     "end_time": "2025-08-05T16:34:49.998264",
     "exception": false,
     "start_time": "2025-08-05T16:34:47.193574",
     "status": "completed"
    },
    "tags": []
   },
   "outputs": [],
   "source": [
    "from fairness_multiverse.conformal import predict_conformal_sets\n",
    "\n",
    "# Generate prediction sets for each test example\n",
    "pred_sets = predict_conformal_sets(model, X_test, q_hat)"
   ]
  },
  {
   "cell_type": "code",
   "execution_count": 43,
   "id": "d90c9a65-e6db-4f5d-80cd-e68fb7e46829",
   "metadata": {
    "execution": {
     "iopub.execute_input": "2025-08-05T16:34:50.047245Z",
     "iopub.status.busy": "2025-08-05T16:34:50.046666Z",
     "iopub.status.idle": "2025-08-05T16:34:50.053559Z",
     "shell.execute_reply": "2025-08-05T16:34:50.052431Z"
    },
    "papermill": {
     "duration": 0.033555,
     "end_time": "2025-08-05T16:34:50.055700",
     "exception": false,
     "start_time": "2025-08-05T16:34:50.022145",
     "status": "completed"
    },
    "tags": []
   },
   "outputs": [],
   "source": [
    "y_true = y_true.squeeze()"
   ]
  },
  {
   "cell_type": "code",
   "execution_count": 44,
   "id": "3a58a54a-1e68-46b9-927a-df01f18aebc8",
   "metadata": {
    "execution": {
     "iopub.execute_input": "2025-08-05T16:34:50.090430Z",
     "iopub.status.busy": "2025-08-05T16:34:50.089900Z",
     "iopub.status.idle": "2025-08-05T16:34:51.323645Z",
     "shell.execute_reply": "2025-08-05T16:34:51.322359Z"
    },
    "papermill": {
     "duration": 1.249964,
     "end_time": "2025-08-05T16:34:51.325431",
     "exception": false,
     "start_time": "2025-08-05T16:34:50.075467",
     "status": "completed"
    },
    "tags": []
   },
   "outputs": [],
   "source": [
    "from fairness_multiverse.conformal import evaluate_sets\n",
    "\n",
    "# Evaluate coverage and average set size on test data\n",
    "metrics = evaluate_sets(pred_sets, y_true)"
   ]
  },
  {
   "cell_type": "markdown",
   "id": "2b569c12-9aaa-4c88-98c9-bbcd0cf3ebb8",
   "metadata": {
    "papermill": {
     "duration": 0.027942,
     "end_time": "2025-08-05T16:34:51.382533",
     "exception": false,
     "start_time": "2025-08-05T16:34:51.354591",
     "status": "completed"
    },
    "tags": []
   },
   "source": [
    "# CP Metrics"
   ]
  },
  {
   "cell_type": "code",
   "execution_count": 45,
   "id": "5ce0a5cb-201f-45a0-ade5-94c7f0bd6095",
   "metadata": {
    "execution": {
     "iopub.execute_input": "2025-08-05T16:34:51.437952Z",
     "iopub.status.busy": "2025-08-05T16:34:51.437372Z",
     "iopub.status.idle": "2025-08-05T16:34:51.445964Z",
     "shell.execute_reply": "2025-08-05T16:34:51.444812Z"
    },
    "papermill": {
     "duration": 0.039314,
     "end_time": "2025-08-05T16:34:51.447892",
     "exception": false,
     "start_time": "2025-08-05T16:34:51.408578",
     "status": "completed"
    },
    "tags": []
   },
   "outputs": [
    {
     "data": {
      "text/plain": [
       "{'coverage': 0.9133541411213911, 'avg_size': 1.1544978263292833}"
      ]
     },
     "execution_count": 45,
     "metadata": {},
     "output_type": "execute_result"
    }
   ],
   "source": [
    "metrics"
   ]
  },
  {
   "cell_type": "code",
   "execution_count": 46,
   "id": "9b9a838d-31c9-430b-ae14-12baee460d17",
   "metadata": {
    "execution": {
     "iopub.execute_input": "2025-08-05T16:34:51.504571Z",
     "iopub.status.busy": "2025-08-05T16:34:51.503800Z",
     "iopub.status.idle": "2025-08-05T16:34:51.511486Z",
     "shell.execute_reply": "2025-08-05T16:34:51.510365Z"
    },
    "papermill": {
     "duration": 0.034977,
     "end_time": "2025-08-05T16:34:51.513248",
     "exception": false,
     "start_time": "2025-08-05T16:34:51.478271",
     "status": "completed"
    },
    "tags": []
   },
   "outputs": [],
   "source": [
    "example_universe = universe.copy()\n",
    "universe_training_year = example_universe.get(\"training_year\")\n",
    "universe_training_size = example_universe.get(\"training_size\")\n",
    "universe_scale = example_universe.get(\"scale\")\n",
    "universe_model = example_universe.get(\"model\")\n",
    "universe_exclude_features = example_universe.get(\"exclude_features\")\n",
    "universe_exclude_subgroups = example_universe.get(\"exclude_subgroups\")"
   ]
  },
  {
   "cell_type": "code",
   "execution_count": 47,
   "id": "f4b6a8ac-9dc0-4245-8a91-5b3b5999c4f9",
   "metadata": {
    "execution": {
     "iopub.execute_input": "2025-08-05T16:34:51.565038Z",
     "iopub.status.busy": "2025-08-05T16:34:51.564489Z",
     "iopub.status.idle": "2025-08-05T16:34:51.572171Z",
     "shell.execute_reply": "2025-08-05T16:34:51.571052Z"
    },
    "papermill": {
     "duration": 0.036014,
     "end_time": "2025-08-05T16:34:51.574239",
     "exception": false,
     "start_time": "2025-08-05T16:34:51.538225",
     "status": "completed"
    },
    "tags": []
   },
   "outputs": [],
   "source": [
    "cp_metrics_dict = {\n",
    "    \"universe_id\": [universe_id],\n",
    "    \"universe_training_year\": [universe_training_year],\n",
    "    \"universe_training_size\": [universe_training_size],\n",
    "    \"universe_scale\": [universe_scale],\n",
    "    \"universe_model\": [universe_model],\n",
    "    \"universe_exclude_features\": [universe_exclude_features],\n",
    "    \"universe_exclude_subgroups\": [universe_exclude_subgroups],\n",
    "    \"q_hat\": [q_hat],\n",
    "    \"coverage\": [metrics[\"coverage\"]],\n",
    "    \"avg_size\": [metrics[\"avg_size\"]],\n",
    "}"
   ]
  },
  {
   "cell_type": "code",
   "execution_count": 48,
   "id": "908acbb1-0371-4915-85ca-3fa520d2efe2",
   "metadata": {
    "execution": {
     "iopub.execute_input": "2025-08-05T16:34:51.630573Z",
     "iopub.status.busy": "2025-08-05T16:34:51.629506Z",
     "iopub.status.idle": "2025-08-05T16:34:51.641284Z",
     "shell.execute_reply": "2025-08-05T16:34:51.640009Z"
    },
    "papermill": {
     "duration": 0.04248,
     "end_time": "2025-08-05T16:34:51.643448",
     "exception": false,
     "start_time": "2025-08-05T16:34:51.600968",
     "status": "completed"
    },
    "tags": []
   },
   "outputs": [
    {
     "data": {
      "text/plain": [
       "{'universe_id': ['fed6c800ffeadd99f3989f0e0214b57f'],\n",
       " 'universe_training_year': ['2010_14'],\n",
       " 'universe_training_size': ['1k'],\n",
       " 'universe_scale': ['scale'],\n",
       " 'universe_model': ['rf'],\n",
       " 'universe_exclude_features': ['nationality'],\n",
       " 'universe_exclude_subgroups': ['drop-non-german'],\n",
       " 'q_hat': [0.65],\n",
       " 'coverage': [0.9133541411213911],\n",
       " 'avg_size': [1.1544978263292833]}"
      ]
     },
     "execution_count": 48,
     "metadata": {},
     "output_type": "execute_result"
    }
   ],
   "source": [
    "cp_metrics_dict"
   ]
  },
  {
   "cell_type": "code",
   "execution_count": 49,
   "id": "33007efc-14e9-4ec6-97ac-56a455c82265",
   "metadata": {
    "execution": {
     "iopub.execute_input": "2025-08-05T16:34:51.707585Z",
     "iopub.status.busy": "2025-08-05T16:34:51.706767Z",
     "iopub.status.idle": "2025-08-05T16:34:51.716576Z",
     "shell.execute_reply": "2025-08-05T16:34:51.715232Z"
    },
    "papermill": {
     "duration": 0.044657,
     "end_time": "2025-08-05T16:34:51.718798",
     "exception": false,
     "start_time": "2025-08-05T16:34:51.674141",
     "status": "completed"
    },
    "tags": []
   },
   "outputs": [],
   "source": [
    "cp_metrics_df = pd.DataFrame(cp_metrics_dict)"
   ]
  },
  {
   "cell_type": "code",
   "execution_count": 50,
   "id": "db12611b-57b2-4910-b9d0-355adfd6e7bf",
   "metadata": {
    "execution": {
     "iopub.execute_input": "2025-08-05T16:34:51.782223Z",
     "iopub.status.busy": "2025-08-05T16:34:51.781419Z",
     "iopub.status.idle": "2025-08-05T16:34:51.806640Z",
     "shell.execute_reply": "2025-08-05T16:34:51.805269Z"
    },
    "papermill": {
     "duration": 0.059298,
     "end_time": "2025-08-05T16:34:51.808619",
     "exception": false,
     "start_time": "2025-08-05T16:34:51.749321",
     "status": "completed"
    },
    "tags": []
   },
   "outputs": [
    {
     "data": {
      "text/html": [
       "<div>\n",
       "<style scoped>\n",
       "    .dataframe tbody tr th:only-of-type {\n",
       "        vertical-align: middle;\n",
       "    }\n",
       "\n",
       "    .dataframe tbody tr th {\n",
       "        vertical-align: top;\n",
       "    }\n",
       "\n",
       "    .dataframe thead th {\n",
       "        text-align: right;\n",
       "    }\n",
       "</style>\n",
       "<table border=\"1\" class=\"dataframe\">\n",
       "  <thead>\n",
       "    <tr style=\"text-align: right;\">\n",
       "      <th></th>\n",
       "      <th>universe_id</th>\n",
       "      <th>universe_training_year</th>\n",
       "      <th>universe_training_size</th>\n",
       "      <th>universe_scale</th>\n",
       "      <th>universe_model</th>\n",
       "      <th>universe_exclude_features</th>\n",
       "      <th>universe_exclude_subgroups</th>\n",
       "      <th>q_hat</th>\n",
       "      <th>coverage</th>\n",
       "      <th>avg_size</th>\n",
       "    </tr>\n",
       "  </thead>\n",
       "  <tbody>\n",
       "    <tr>\n",
       "      <th>0</th>\n",
       "      <td>fed6c800ffeadd99f3989f0e0214b57f</td>\n",
       "      <td>2010_14</td>\n",
       "      <td>1k</td>\n",
       "      <td>scale</td>\n",
       "      <td>rf</td>\n",
       "      <td>nationality</td>\n",
       "      <td>drop-non-german</td>\n",
       "      <td>0.65</td>\n",
       "      <td>0.913354</td>\n",
       "      <td>1.154498</td>\n",
       "    </tr>\n",
       "  </tbody>\n",
       "</table>\n",
       "</div>"
      ],
      "text/plain": [
       "                        universe_id universe_training_year  \\\n",
       "0  fed6c800ffeadd99f3989f0e0214b57f                2010_14   \n",
       "\n",
       "  universe_training_size universe_scale universe_model  \\\n",
       "0                     1k          scale             rf   \n",
       "\n",
       "  universe_exclude_features universe_exclude_subgroups  q_hat  coverage  \\\n",
       "0               nationality            drop-non-german   0.65  0.913354   \n",
       "\n",
       "   avg_size  \n",
       "0  1.154498  "
      ]
     },
     "execution_count": 50,
     "metadata": {},
     "output_type": "execute_result"
    }
   ],
   "source": [
    "cp_metrics_df"
   ]
  },
  {
   "cell_type": "code",
   "execution_count": 51,
   "id": "b7fbde55-a0a1-47e4-9af6-fe4a17fa8c61",
   "metadata": {
    "execution": {
     "iopub.execute_input": "2025-08-05T16:34:51.867401Z",
     "iopub.status.busy": "2025-08-05T16:34:51.866608Z",
     "iopub.status.idle": "2025-08-05T16:34:51.872576Z",
     "shell.execute_reply": "2025-08-05T16:34:51.871398Z"
    },
    "papermill": {
     "duration": 0.036621,
     "end_time": "2025-08-05T16:34:51.874807",
     "exception": false,
     "start_time": "2025-08-05T16:34:51.838186",
     "status": "completed"
    },
    "tags": []
   },
   "outputs": [],
   "source": [
    "# Conditional Coverage & looking at subgroups"
   ]
  },
  {
   "cell_type": "code",
   "execution_count": 52,
   "id": "027ae886-68dd-4141-96c7-805a5450e1ef",
   "metadata": {
    "execution": {
     "iopub.execute_input": "2025-08-05T16:34:51.927627Z",
     "iopub.status.busy": "2025-08-05T16:34:51.926803Z",
     "iopub.status.idle": "2025-08-05T16:34:52.191485Z",
     "shell.execute_reply": "2025-08-05T16:34:52.190520Z"
    },
    "papermill": {
     "duration": 0.289876,
     "end_time": "2025-08-05T16:34:52.193396",
     "exception": false,
     "start_time": "2025-08-05T16:34:51.903520",
     "status": "completed"
    },
    "tags": []
   },
   "outputs": [],
   "source": [
    "from fairness_multiverse.conformal import build_cp_groups\n",
    "\n",
    "cp_groups_df = build_cp_groups(pred_sets, y_true, X_test.index, org_test)\n",
    "#needs universe_id and setting"
   ]
  },
  {
   "cell_type": "code",
   "execution_count": 53,
   "id": "6cbdab96-b2b2-45af-ad54-d0516db2e28d",
   "metadata": {
    "execution": {
     "iopub.execute_input": "2025-08-05T16:34:52.241744Z",
     "iopub.status.busy": "2025-08-05T16:34:52.241266Z",
     "iopub.status.idle": "2025-08-05T16:34:53.755648Z",
     "shell.execute_reply": "2025-08-05T16:34:53.754685Z"
    },
    "papermill": {
     "duration": 1.540085,
     "end_time": "2025-08-05T16:34:53.757653",
     "exception": false,
     "start_time": "2025-08-05T16:34:52.217568",
     "status": "completed"
    },
    "tags": []
   },
   "outputs": [],
   "source": [
    "# Define covered = 1 if true_label is in the predicted set\n",
    "cp_groups_df['covered'] = cp_groups_df.apply(\n",
    "    lambda r: int(r['true_label'] in r['pred_set']),\n",
    "    axis=1\n",
    ")"
   ]
  },
  {
   "cell_type": "code",
   "execution_count": 54,
   "id": "338ff529-1a6b-4b87-a931-8e4788d52aad",
   "metadata": {
    "execution": {
     "iopub.execute_input": "2025-08-05T16:34:53.816007Z",
     "iopub.status.busy": "2025-08-05T16:34:53.815433Z",
     "iopub.status.idle": "2025-08-05T16:34:53.821790Z",
     "shell.execute_reply": "2025-08-05T16:34:53.820501Z"
    },
    "papermill": {
     "duration": 0.035709,
     "end_time": "2025-08-05T16:34:53.823703",
     "exception": false,
     "start_time": "2025-08-05T16:34:53.787994",
     "status": "completed"
    },
    "tags": []
   },
   "outputs": [],
   "source": [
    "#cp_groups_df"
   ]
  },
  {
   "cell_type": "code",
   "execution_count": 55,
   "id": "90032e27-66df-4540-9169-4e89cfbaa758",
   "metadata": {
    "execution": {
     "iopub.execute_input": "2025-08-05T16:34:53.879290Z",
     "iopub.status.busy": "2025-08-05T16:34:53.878592Z",
     "iopub.status.idle": "2025-08-05T16:34:53.891809Z",
     "shell.execute_reply": "2025-08-05T16:34:53.890734Z"
    },
    "papermill": {
     "duration": 0.042946,
     "end_time": "2025-08-05T16:34:53.893903",
     "exception": false,
     "start_time": "2025-08-05T16:34:53.850957",
     "status": "completed"
    },
    "tags": []
   },
   "outputs": [],
   "source": [
    "subgroups = ['frau1','nongerman','nongerman_male','nongerman_female']\n",
    "\n",
    "# Conditional coverage for subgroup==1\n",
    "cond_coverage = {\n",
    "    g: cp_groups_df.loc[cp_groups_df[g]==1, 'covered'].mean()\n",
    "    for g in subgroups\n",
    "}"
   ]
  },
  {
   "cell_type": "code",
   "execution_count": 56,
   "id": "1e348fb1-b9c3-45bc-ba23-f016827a7e0d",
   "metadata": {
    "execution": {
     "iopub.execute_input": "2025-08-05T16:34:53.950759Z",
     "iopub.status.busy": "2025-08-05T16:34:53.949723Z",
     "iopub.status.idle": "2025-08-05T16:34:53.958276Z",
     "shell.execute_reply": "2025-08-05T16:34:53.957199Z"
    },
    "papermill": {
     "duration": 0.039157,
     "end_time": "2025-08-05T16:34:53.960144",
     "exception": false,
     "start_time": "2025-08-05T16:34:53.920987",
     "status": "completed"
    },
    "tags": []
   },
   "outputs": [
    {
     "data": {
      "text/plain": [
       "{'frau1': 0.9104461517724761,\n",
       " 'nongerman': 0.9040588334362544,\n",
       " 'nongerman_male': 0.924885166171305,\n",
       " 'nongerman_female': 0.8695976154992549}"
      ]
     },
     "execution_count": 56,
     "metadata": {},
     "output_type": "execute_result"
    }
   ],
   "source": [
    "cond_coverage"
   ]
  },
  {
   "cell_type": "code",
   "execution_count": 57,
   "id": "f5093324-c3dd-4d63-bc4c-8d945e5c8bbb",
   "metadata": {
    "execution": {
     "iopub.execute_input": "2025-08-05T16:34:54.016929Z",
     "iopub.status.busy": "2025-08-05T16:34:54.016178Z",
     "iopub.status.idle": "2025-08-05T16:34:54.024937Z",
     "shell.execute_reply": "2025-08-05T16:34:54.023888Z"
    },
    "papermill": {
     "duration": 0.0392,
     "end_time": "2025-08-05T16:34:54.026732",
     "exception": false,
     "start_time": "2025-08-05T16:34:53.987532",
     "status": "completed"
    },
    "tags": []
   },
   "outputs": [],
   "source": [
    "for subgroup, cov in cond_coverage.items():\n",
    "    cp_metrics_df[f\"cov_{subgroup}\"] = cov"
   ]
  },
  {
   "cell_type": "code",
   "execution_count": 58,
   "id": "6e872e10-dbe5-49e8-b554-5030c98ff75d",
   "metadata": {
    "execution": {
     "iopub.execute_input": "2025-08-05T16:34:54.083264Z",
     "iopub.status.busy": "2025-08-05T16:34:54.082180Z",
     "iopub.status.idle": "2025-08-05T16:34:54.103816Z",
     "shell.execute_reply": "2025-08-05T16:34:54.102732Z"
    },
    "papermill": {
     "duration": 0.052143,
     "end_time": "2025-08-05T16:34:54.105577",
     "exception": false,
     "start_time": "2025-08-05T16:34:54.053434",
     "status": "completed"
    },
    "tags": []
   },
   "outputs": [
    {
     "data": {
      "text/html": [
       "<div>\n",
       "<style scoped>\n",
       "    .dataframe tbody tr th:only-of-type {\n",
       "        vertical-align: middle;\n",
       "    }\n",
       "\n",
       "    .dataframe tbody tr th {\n",
       "        vertical-align: top;\n",
       "    }\n",
       "\n",
       "    .dataframe thead th {\n",
       "        text-align: right;\n",
       "    }\n",
       "</style>\n",
       "<table border=\"1\" class=\"dataframe\">\n",
       "  <thead>\n",
       "    <tr style=\"text-align: right;\">\n",
       "      <th></th>\n",
       "      <th>universe_id</th>\n",
       "      <th>universe_training_year</th>\n",
       "      <th>universe_training_size</th>\n",
       "      <th>universe_scale</th>\n",
       "      <th>universe_model</th>\n",
       "      <th>universe_exclude_features</th>\n",
       "      <th>universe_exclude_subgroups</th>\n",
       "      <th>q_hat</th>\n",
       "      <th>coverage</th>\n",
       "      <th>avg_size</th>\n",
       "      <th>cov_frau1</th>\n",
       "      <th>cov_nongerman</th>\n",
       "      <th>cov_nongerman_male</th>\n",
       "      <th>cov_nongerman_female</th>\n",
       "    </tr>\n",
       "  </thead>\n",
       "  <tbody>\n",
       "    <tr>\n",
       "      <th>0</th>\n",
       "      <td>fed6c800ffeadd99f3989f0e0214b57f</td>\n",
       "      <td>2010_14</td>\n",
       "      <td>1k</td>\n",
       "      <td>scale</td>\n",
       "      <td>rf</td>\n",
       "      <td>nationality</td>\n",
       "      <td>drop-non-german</td>\n",
       "      <td>0.65</td>\n",
       "      <td>0.913354</td>\n",
       "      <td>1.154498</td>\n",
       "      <td>0.910446</td>\n",
       "      <td>0.904059</td>\n",
       "      <td>0.924885</td>\n",
       "      <td>0.869598</td>\n",
       "    </tr>\n",
       "  </tbody>\n",
       "</table>\n",
       "</div>"
      ],
      "text/plain": [
       "                        universe_id universe_training_year  \\\n",
       "0  fed6c800ffeadd99f3989f0e0214b57f                2010_14   \n",
       "\n",
       "  universe_training_size universe_scale universe_model  \\\n",
       "0                     1k          scale             rf   \n",
       "\n",
       "  universe_exclude_features universe_exclude_subgroups  q_hat  coverage  \\\n",
       "0               nationality            drop-non-german   0.65  0.913354   \n",
       "\n",
       "   avg_size  cov_frau1  cov_nongerman  cov_nongerman_male  \\\n",
       "0  1.154498   0.910446       0.904059            0.924885   \n",
       "\n",
       "   cov_nongerman_female  \n",
       "0              0.869598  "
      ]
     },
     "execution_count": 58,
     "metadata": {},
     "output_type": "execute_result"
    }
   ],
   "source": [
    "cp_metrics_df"
   ]
  },
  {
   "cell_type": "markdown",
   "id": "33774451",
   "metadata": {
    "papermill": {
     "duration": 0.027785,
     "end_time": "2025-08-05T16:34:54.160769",
     "exception": false,
     "start_time": "2025-08-05T16:34:54.132984",
     "status": "completed"
    },
    "tags": []
   },
   "source": [
    "# (Fairness) Metrics"
   ]
  },
  {
   "cell_type": "code",
   "execution_count": 59,
   "id": "debc5d62",
   "metadata": {
    "execution": {
     "iopub.execute_input": "2025-08-05T16:34:54.217246Z",
     "iopub.status.busy": "2025-08-05T16:34:54.216217Z",
     "iopub.status.idle": "2025-08-05T16:34:54.240195Z",
     "shell.execute_reply": "2025-08-05T16:34:54.239122Z"
    },
    "papermill": {
     "duration": 0.053846,
     "end_time": "2025-08-05T16:34:54.242314",
     "exception": false,
     "start_time": "2025-08-05T16:34:54.188468",
     "status": "completed"
    },
    "tags": []
   },
   "outputs": [],
   "source": [
    "# do I need to include maxdeutsch1.missing?\n",
    "\n",
    "import numpy as np\n",
    "\n",
    "colname_to_bin = \"maxdeutsch1\"\n",
    "majority_value = org_train[colname_to_bin].mode()[0]\n",
    "\n",
    "org_test[\"majmin\"] = np.where(org_test[colname_to_bin] == majority_value, \"majority\", \"minority\")"
   ]
  },
  {
   "cell_type": "code",
   "execution_count": 60,
   "id": "06a50de5",
   "metadata": {
    "execution": {
     "iopub.execute_input": "2025-08-05T16:34:54.299723Z",
     "iopub.status.busy": "2025-08-05T16:34:54.298648Z",
     "iopub.status.idle": "2025-08-05T16:34:57.375486Z",
     "shell.execute_reply": "2025-08-05T16:34:57.374263Z"
    },
    "papermill": {
     "duration": 3.107208,
     "end_time": "2025-08-05T16:34:57.377948",
     "exception": false,
     "start_time": "2025-08-05T16:34:54.270740",
     "status": "completed"
    },
    "tags": []
   },
   "outputs": [],
   "source": [
    "example_universe = universe.copy()\n",
    "example_universe[\"cutoff\"] = example_universe[\"cutoff\"][0]\n",
    "example_universe[\"eval_fairness_grouping\"] = example_universe[\"eval_fairness_grouping\"][0]\n",
    "fairness_dict, metric_frame = universe_analysis.compute_metrics(\n",
    "    example_universe,\n",
    "    y_pred_prob=probs_test,\n",
    "    y_test=y_true,\n",
    "    org_test=org_test,\n",
    ")"
   ]
  },
  {
   "cell_type": "markdown",
   "id": "f95d4e02",
   "metadata": {
    "papermill": {
     "duration": 0.030308,
     "end_time": "2025-08-05T16:34:57.440381",
     "exception": false,
     "start_time": "2025-08-05T16:34:57.410073",
     "status": "completed"
    },
    "tags": []
   },
   "source": [
    "# Overall"
   ]
  },
  {
   "cell_type": "markdown",
   "id": "bdee4871",
   "metadata": {
    "papermill": {
     "duration": 0.030839,
     "end_time": "2025-08-05T16:34:57.503131",
     "exception": false,
     "start_time": "2025-08-05T16:34:57.472292",
     "status": "completed"
    },
    "tags": []
   },
   "source": [
    "Fairness\n",
    "Main fairness target: Equalized Odds. Seems to be a better fit than equal opportunity, since we're not only interested in Y = 1. Seems to be a better fit than demographic parity, since we also care about accuracy, not just equal distribution of preds.\n",
    "\n",
    "Pick column for computation of fairness metrics\n",
    "\n",
    "Performance\n",
    "Overall performance measures, most interesting in relation to the measures split by group below"
   ]
  },
  {
   "cell_type": "code",
   "execution_count": 61,
   "id": "c4e067c6",
   "metadata": {
    "execution": {
     "iopub.execute_input": "2025-08-05T16:34:57.568273Z",
     "iopub.status.busy": "2025-08-05T16:34:57.567458Z",
     "iopub.status.idle": "2025-08-05T16:34:57.577645Z",
     "shell.execute_reply": "2025-08-05T16:34:57.576622Z"
    },
    "papermill": {
     "duration": 0.045153,
     "end_time": "2025-08-05T16:34:57.579521",
     "exception": false,
     "start_time": "2025-08-05T16:34:57.534368",
     "status": "completed"
    },
    "tags": []
   },
   "outputs": [
    {
     "data": {
      "text/plain": [
       "accuracy                   0.195876\n",
       "balanced accuracy          0.533213\n",
       "f1                         0.239484\n",
       "precision                  0.136275\n",
       "false positive rate        0.920539\n",
       "false negative rate        0.013034\n",
       "selection rate             0.929060\n",
       "count                  89710.000000\n",
       "dtype: float64"
      ]
     },
     "execution_count": 61,
     "metadata": {},
     "output_type": "execute_result"
    }
   ],
   "source": [
    "metric_frame.overall"
   ]
  },
  {
   "cell_type": "markdown",
   "id": "e968fe9d",
   "metadata": {
    "papermill": {
     "duration": 0.031628,
     "end_time": "2025-08-05T16:34:57.642855",
     "exception": false,
     "start_time": "2025-08-05T16:34:57.611227",
     "status": "completed"
    },
    "tags": []
   },
   "source": [
    "By Group"
   ]
  },
  {
   "cell_type": "code",
   "execution_count": 62,
   "id": "ec325bce",
   "metadata": {
    "execution": {
     "iopub.execute_input": "2025-08-05T16:34:57.708033Z",
     "iopub.status.busy": "2025-08-05T16:34:57.707244Z",
     "iopub.status.idle": "2025-08-05T16:34:57.725950Z",
     "shell.execute_reply": "2025-08-05T16:34:57.724746Z"
    },
    "papermill": {
     "duration": 0.054023,
     "end_time": "2025-08-05T16:34:57.727914",
     "exception": false,
     "start_time": "2025-08-05T16:34:57.673891",
     "status": "completed"
    },
    "tags": []
   },
   "outputs": [
    {
     "data": {
      "text/html": [
       "<div>\n",
       "<style scoped>\n",
       "    .dataframe tbody tr th:only-of-type {\n",
       "        vertical-align: middle;\n",
       "    }\n",
       "\n",
       "    .dataframe tbody tr th {\n",
       "        vertical-align: top;\n",
       "    }\n",
       "\n",
       "    .dataframe thead th {\n",
       "        text-align: right;\n",
       "    }\n",
       "</style>\n",
       "<table border=\"1\" class=\"dataframe\">\n",
       "  <thead>\n",
       "    <tr style=\"text-align: right;\">\n",
       "      <th></th>\n",
       "      <th>accuracy</th>\n",
       "      <th>balanced accuracy</th>\n",
       "      <th>f1</th>\n",
       "      <th>precision</th>\n",
       "      <th>false positive rate</th>\n",
       "      <th>false negative rate</th>\n",
       "      <th>selection rate</th>\n",
       "      <th>count</th>\n",
       "    </tr>\n",
       "    <tr>\n",
       "      <th>majmin</th>\n",
       "      <th></th>\n",
       "      <th></th>\n",
       "      <th></th>\n",
       "      <th></th>\n",
       "      <th></th>\n",
       "      <th></th>\n",
       "      <th></th>\n",
       "      <th></th>\n",
       "    </tr>\n",
       "  </thead>\n",
       "  <tbody>\n",
       "    <tr>\n",
       "      <th>majority</th>\n",
       "      <td>0.200347</td>\n",
       "      <td>0.534520</td>\n",
       "      <td>0.246287</td>\n",
       "      <td>0.140662</td>\n",
       "      <td>0.919690</td>\n",
       "      <td>0.011269</td>\n",
       "      <td>0.928813</td>\n",
       "      <td>69170.0</td>\n",
       "    </tr>\n",
       "    <tr>\n",
       "      <th>minority</th>\n",
       "      <td>0.180818</td>\n",
       "      <td>0.528404</td>\n",
       "      <td>0.216229</td>\n",
       "      <td>0.121518</td>\n",
       "      <td>0.923344</td>\n",
       "      <td>0.019848</td>\n",
       "      <td>0.929893</td>\n",
       "      <td>20540.0</td>\n",
       "    </tr>\n",
       "  </tbody>\n",
       "</table>\n",
       "</div>"
      ],
      "text/plain": [
       "          accuracy  balanced accuracy        f1  precision  \\\n",
       "majmin                                                       \n",
       "majority  0.200347           0.534520  0.246287   0.140662   \n",
       "minority  0.180818           0.528404  0.216229   0.121518   \n",
       "\n",
       "          false positive rate  false negative rate  selection rate    count  \n",
       "majmin                                                                       \n",
       "majority             0.919690             0.011269        0.928813  69170.0  \n",
       "minority             0.923344             0.019848        0.929893  20540.0  "
      ]
     },
     "execution_count": 62,
     "metadata": {},
     "output_type": "execute_result"
    }
   ],
   "source": [
    "metric_frame.by_group"
   ]
  },
  {
   "cell_type": "code",
   "execution_count": 63,
   "id": "a9ddbe63",
   "metadata": {
    "execution": {
     "iopub.execute_input": "2025-08-05T16:34:57.794424Z",
     "iopub.status.busy": "2025-08-05T16:34:57.793678Z",
     "iopub.status.idle": "2025-08-05T16:35:00.741017Z",
     "shell.execute_reply": "2025-08-05T16:35:00.739675Z"
    },
    "papermill": {
     "duration": 2.983385,
     "end_time": "2025-08-05T16:35:00.743093",
     "exception": false,
     "start_time": "2025-08-05T16:34:57.759708",
     "status": "completed"
    },
    "tags": []
   },
   "outputs": [
    {
     "data": {
      "text/plain": [
       "array([[<Axes: title={'center': 'accuracy'}, xlabel='majmin'>,\n",
       "        <Axes: title={'center': 'balanced accuracy'}, xlabel='majmin'>,\n",
       "        <Axes: title={'center': 'f1'}, xlabel='majmin'>],\n",
       "       [<Axes: title={'center': 'precision'}, xlabel='majmin'>,\n",
       "        <Axes: title={'center': 'false positive rate'}, xlabel='majmin'>,\n",
       "        <Axes: title={'center': 'false negative rate'}, xlabel='majmin'>],\n",
       "       [<Axes: title={'center': 'selection rate'}, xlabel='majmin'>,\n",
       "        <Axes: title={'center': 'count'}, xlabel='majmin'>,\n",
       "        <Axes: xlabel='majmin'>]], dtype=object)"
      ]
     },
     "execution_count": 63,
     "metadata": {},
     "output_type": "execute_result"
    },
    {
     "data": {
      "image/png": "[encoded data removed]",
      "text/plain": [
       "<Figure size 1200x800 with 9 Axes>"
      ]
     },
     "metadata": {},
     "output_type": "display_data"
    }
   ],
   "source": [
    "# In a graphic\n",
    "metric_frame.by_group.plot.bar(\n",
    "    subplots=True,\n",
    "    layout=[3, 3],\n",
    "    legend=False,\n",
    "    figsize=[12, 8],\n",
    "    title=\"Show all metrics\",\n",
    ")"
   ]
  },
  {
   "cell_type": "markdown",
   "id": "f57a0bac",
   "metadata": {
    "papermill": {
     "duration": 0.035335,
     "end_time": "2025-08-05T16:35:00.813711",
     "exception": false,
     "start_time": "2025-08-05T16:35:00.778376",
     "status": "completed"
    },
    "tags": []
   },
   "source": [
    "# Final Output"
   ]
  },
  {
   "cell_type": "code",
   "execution_count": 64,
   "id": "96d280a3",
   "metadata": {
    "execution": {
     "iopub.execute_input": "2025-08-05T16:35:00.883681Z",
     "iopub.status.busy": "2025-08-05T16:35:00.882847Z",
     "iopub.status.idle": "2025-08-05T16:35:00.893772Z",
     "shell.execute_reply": "2025-08-05T16:35:00.892595Z"
    },
    "papermill": {
     "duration": 0.055522,
     "end_time": "2025-08-05T16:35:00.901596",
     "exception": false,
     "start_time": "2025-08-05T16:35:00.846074",
     "status": "completed"
    },
    "tags": []
   },
   "outputs": [
    {
     "data": {
      "text/plain": [
       "4"
      ]
     },
     "execution_count": 64,
     "metadata": {},
     "output_type": "execute_result"
    }
   ],
   "source": [
    "sub_universes = universe_analysis.generate_sub_universes()\n",
    "len(sub_universes)"
   ]
  },
  {
   "cell_type": "code",
   "execution_count": 65,
   "id": "92adf7ba",
   "metadata": {
    "execution": {
     "iopub.execute_input": "2025-08-05T16:35:00.941602Z",
     "iopub.status.busy": "2025-08-05T16:35:00.941181Z",
     "iopub.status.idle": "2025-08-05T16:35:00.947498Z",
     "shell.execute_reply": "2025-08-05T16:35:00.946628Z"
    },
    "papermill": {
     "duration": 0.025479,
     "end_time": "2025-08-05T16:35:00.949044",
     "exception": false,
     "start_time": "2025-08-05T16:35:00.923565",
     "status": "completed"
    },
    "tags": []
   },
   "outputs": [],
   "source": [
    "def filter_sub_universe_data(sub_universe, org_test):\n",
    "    # Keep all rows — no filtering\n",
    "    keep_rows_mask = np.ones(org_test.shape[0], dtype=bool)\n",
    "\n",
    "    print(f\"[INFO] Keeping all rows: {keep_rows_mask.sum()} rows retained.\")\n",
    "    return keep_rows_mask"
   ]
  },
  {
   "cell_type": "code",
   "execution_count": 66,
   "id": "4a759155",
   "metadata": {
    "execution": {
     "iopub.execute_input": "2025-08-05T16:35:00.994648Z",
     "iopub.status.busy": "2025-08-05T16:35:00.994180Z",
     "iopub.status.idle": "2025-08-05T16:35:12.285200Z",
     "shell.execute_reply": "2025-08-05T16:35:12.284122Z"
    },
    "papermill": {
     "duration": 11.321623,
     "end_time": "2025-08-05T16:35:12.287218",
     "exception": false,
     "start_time": "2025-08-05T16:35:00.965595",
     "status": "completed"
    },
    "tags": []
   },
   "outputs": [
    {
     "name": "stdout",
     "output_type": "stream",
     "text": [
      "Stopping execution_time clock.\n",
      "[INFO] Keeping all rows: 89710 rows retained.\n"
     ]
    },
    {
     "name": "stdout",
     "output_type": "stream",
     "text": [
      "[INFO] Keeping all rows: 89710 rows retained.\n"
     ]
    },
    {
     "name": "stdout",
     "output_type": "stream",
     "text": [
      "[INFO] Keeping all rows: 89710 rows retained.\n"
     ]
    },
    {
     "name": "stdout",
     "output_type": "stream",
     "text": [
      "[INFO] Keeping all rows: 89710 rows retained.\n"
     ]
    },
    {
     "data": {
      "text/html": [
       "<div>\n",
       "<style scoped>\n",
       "    .dataframe tbody tr th:only-of-type {\n",
       "        vertical-align: middle;\n",
       "    }\n",
       "\n",
       "    .dataframe tbody tr th {\n",
       "        vertical-align: top;\n",
       "    }\n",
       "\n",
       "    .dataframe thead th {\n",
       "        text-align: right;\n",
       "    }\n",
       "</style>\n",
       "<table border=\"1\" class=\"dataframe\">\n",
       "  <thead>\n",
       "    <tr style=\"text-align: right;\">\n",
       "      <th></th>\n",
       "      <th>run_no</th>\n",
       "      <th>universe_id</th>\n",
       "      <th>universe_settings</th>\n",
       "      <th>execution_time</th>\n",
       "      <th>test_size_n</th>\n",
       "      <th>test_size_frac</th>\n",
       "      <th>fair_main_equalized_odds_difference</th>\n",
       "      <th>fair_main_equalized_odds_ratio</th>\n",
       "      <th>fair_main_demographic_parity_difference</th>\n",
       "      <th>fair_main_demographic_parity_ratio</th>\n",
       "      <th>...</th>\n",
       "      <th>perf_grp_precision_0</th>\n",
       "      <th>perf_grp_precision_1</th>\n",
       "      <th>perf_grp_false positive rate_0</th>\n",
       "      <th>perf_grp_false positive rate_1</th>\n",
       "      <th>perf_grp_false negative rate_0</th>\n",
       "      <th>perf_grp_false negative rate_1</th>\n",
       "      <th>perf_grp_selection rate_0</th>\n",
       "      <th>perf_grp_selection rate_1</th>\n",
       "      <th>perf_grp_count_0</th>\n",
       "      <th>perf_grp_count_1</th>\n",
       "    </tr>\n",
       "  </thead>\n",
       "  <tbody>\n",
       "    <tr>\n",
       "      <th>0</th>\n",
       "      <td>15</td>\n",
       "      <td>fed6c800ffeadd99f3989f0e0214b57f</td>\n",
       "      <td>{\"cutoff\": \"quantile_0.1\", \"eval_fairness_grou...</td>\n",
       "      <td>35.614994</td>\n",
       "      <td>89710</td>\n",
       "      <td>1.0</td>\n",
       "      <td>0.008579</td>\n",
       "      <td>0.991323</td>\n",
       "      <td>0.001080</td>\n",
       "      <td>0.998839</td>\n",
       "      <td>...</td>\n",
       "      <td>NaN</td>\n",
       "      <td>NaN</td>\n",
       "      <td>NaN</td>\n",
       "      <td>NaN</td>\n",
       "      <td>NaN</td>\n",
       "      <td>NaN</td>\n",
       "      <td>NaN</td>\n",
       "      <td>NaN</td>\n",
       "      <td>NaN</td>\n",
       "      <td>NaN</td>\n",
       "    </tr>\n",
       "    <tr>\n",
       "      <th>0</th>\n",
       "      <td>15</td>\n",
       "      <td>fed6c800ffeadd99f3989f0e0214b57f</td>\n",
       "      <td>{\"cutoff\": \"quantile_0.1\", \"eval_fairness_grou...</td>\n",
       "      <td>35.614994</td>\n",
       "      <td>89710</td>\n",
       "      <td>1.0</td>\n",
       "      <td>0.008579</td>\n",
       "      <td>0.991323</td>\n",
       "      <td>0.001080</td>\n",
       "      <td>0.998839</td>\n",
       "      <td>...</td>\n",
       "      <td>0.121518</td>\n",
       "      <td>0.140662</td>\n",
       "      <td>0.923344</td>\n",
       "      <td>0.919690</td>\n",
       "      <td>0.019848</td>\n",
       "      <td>0.011269</td>\n",
       "      <td>0.929893</td>\n",
       "      <td>0.928813</td>\n",
       "      <td>20540.0</td>\n",
       "      <td>69170.0</td>\n",
       "    </tr>\n",
       "    <tr>\n",
       "      <th>0</th>\n",
       "      <td>15</td>\n",
       "      <td>fed6c800ffeadd99f3989f0e0214b57f</td>\n",
       "      <td>{\"cutoff\": \"quantile_0.25\", \"eval_fairness_gro...</td>\n",
       "      <td>35.614994</td>\n",
       "      <td>89710</td>\n",
       "      <td>1.0</td>\n",
       "      <td>0.046638</td>\n",
       "      <td>0.950173</td>\n",
       "      <td>0.016697</td>\n",
       "      <td>0.978554</td>\n",
       "      <td>...</td>\n",
       "      <td>NaN</td>\n",
       "      <td>NaN</td>\n",
       "      <td>NaN</td>\n",
       "      <td>NaN</td>\n",
       "      <td>NaN</td>\n",
       "      <td>NaN</td>\n",
       "      <td>NaN</td>\n",
       "      <td>NaN</td>\n",
       "      <td>NaN</td>\n",
       "      <td>NaN</td>\n",
       "    </tr>\n",
       "    <tr>\n",
       "      <th>0</th>\n",
       "      <td>15</td>\n",
       "      <td>fed6c800ffeadd99f3989f0e0214b57f</td>\n",
       "      <td>{\"cutoff\": \"quantile_0.25\", \"eval_fairness_gro...</td>\n",
       "      <td>35.614994</td>\n",
       "      <td>89710</td>\n",
       "      <td>1.0</td>\n",
       "      <td>0.046638</td>\n",
       "      <td>0.950173</td>\n",
       "      <td>0.016697</td>\n",
       "      <td>0.978554</td>\n",
       "      <td>...</td>\n",
       "      <td>0.131699</td>\n",
       "      <td>0.162346</td>\n",
       "      <td>0.764088</td>\n",
       "      <td>0.735316</td>\n",
       "      <td>0.110642</td>\n",
       "      <td>0.064004</td>\n",
       "      <td>0.778530</td>\n",
       "      <td>0.761833</td>\n",
       "      <td>20540.0</td>\n",
       "      <td>69170.0</td>\n",
       "    </tr>\n",
       "  </tbody>\n",
       "</table>\n",
       "<p>4 rows × 50 columns</p>\n",
       "</div>"
      ],
      "text/plain": [
       "  run_no                       universe_id  \\\n",
       "0     15  fed6c800ffeadd99f3989f0e0214b57f   \n",
       "0     15  fed6c800ffeadd99f3989f0e0214b57f   \n",
       "0     15  fed6c800ffeadd99f3989f0e0214b57f   \n",
       "0     15  fed6c800ffeadd99f3989f0e0214b57f   \n",
       "\n",
       "                                   universe_settings  execution_time  \\\n",
       "0  {\"cutoff\": \"quantile_0.1\", \"eval_fairness_grou...       35.614994   \n",
       "0  {\"cutoff\": \"quantile_0.1\", \"eval_fairness_grou...       35.614994   \n",
       "0  {\"cutoff\": \"quantile_0.25\", \"eval_fairness_gro...       35.614994   \n",
       "0  {\"cutoff\": \"quantile_0.25\", \"eval_fairness_gro...       35.614994   \n",
       "\n",
       "   test_size_n  test_size_frac  fair_main_equalized_odds_difference  \\\n",
       "0        89710             1.0                             0.008579   \n",
       "0        89710             1.0                             0.008579   \n",
       "0        89710             1.0                             0.046638   \n",
       "0        89710             1.0                             0.046638   \n",
       "\n",
       "   fair_main_equalized_odds_ratio  fair_main_demographic_parity_difference  \\\n",
       "0                        0.991323                                 0.001080   \n",
       "0                        0.991323                                 0.001080   \n",
       "0                        0.950173                                 0.016697   \n",
       "0                        0.950173                                 0.016697   \n",
       "\n",
       "   fair_main_demographic_parity_ratio  ...  perf_grp_precision_0  \\\n",
       "0                            0.998839  ...                   NaN   \n",
       "0                            0.998839  ...              0.121518   \n",
       "0                            0.978554  ...                   NaN   \n",
       "0                            0.978554  ...              0.131699   \n",
       "\n",
       "   perf_grp_precision_1  perf_grp_false positive rate_0  \\\n",
       "0                   NaN                             NaN   \n",
       "0              0.140662                        0.923344   \n",
       "0                   NaN                             NaN   \n",
       "0              0.162346                        0.764088   \n",
       "\n",
       "   perf_grp_false positive rate_1  perf_grp_false negative rate_0  \\\n",
       "0                             NaN                             NaN   \n",
       "0                        0.919690                        0.019848   \n",
       "0                             NaN                             NaN   \n",
       "0                        0.735316                        0.110642   \n",
       "\n",
       "   perf_grp_false negative rate_1  perf_grp_selection rate_0  \\\n",
       "0                             NaN                        NaN   \n",
       "0                        0.011269                   0.929893   \n",
       "0                             NaN                        NaN   \n",
       "0                        0.064004                   0.778530   \n",
       "\n",
       "   perf_grp_selection rate_1  perf_grp_count_0  perf_grp_count_1  \n",
       "0                        NaN               NaN               NaN  \n",
       "0                   0.928813           20540.0           69170.0  \n",
       "0                        NaN               NaN               NaN  \n",
       "0                   0.761833           20540.0           69170.0  \n",
       "\n",
       "[4 rows x 50 columns]"
      ]
     },
     "execution_count": 66,
     "metadata": {},
     "output_type": "execute_result"
    }
   ],
   "source": [
    "final_output = universe_analysis.generate_final_output(\n",
    "    y_pred_prob=probs_test,\n",
    "    y_test=y_true,\n",
    "    org_test=org_test,\n",
    "    filter_data=filter_sub_universe_data,\n",
    "    cp_metrics_df=cp_metrics_df,\n",
    "    save=True,\n",
    ")\n",
    "final_output"
   ]
  }
 ],
 "metadata": {
  "celltoolbar": "Tags",
  "kernelspec": {
   "display_name": "Python (CMA Fairness)",
   "language": "python",
   "name": "cma_fair_env"
  },
  "language_info": {
   "codemirror_mode": {
    "name": "ipython",
    "version": 3
   },
   "file_extension": ".py",
   "mimetype": "text/x-python",
   "name": "python",
   "nbconvert_exporter": "python",
   "pygments_lexer": "ipython3",
   "version": "3.10.12"
  },
  "papermill": {
   "default_parameters": {},
   "duration": 51.82201,
   "end_time": "2025-08-05T16:35:13.243796",
   "environment_variables": {},
   "exception": null,
   "input_path": "universe_analysis.ipynb",
   "output_path": "output/runs/15/notebooks/m_15-fed6c800ffeadd99f3989f0e0214b57f.ipynb",
   "parameters": {
    "output_dir": "output",
    "run_no": "15",
    "seed": "2023",
    "universe": "{\"cutoff\": [\"quantile_0.1\", \"quantile_0.25\"], \"eval_fairness_grouping\": [\"majority-minority\", \"nationality-all\"], \"exclude_features\": \"nationality\", \"exclude_subgroups\": \"drop-non-german\", \"model\": \"rf\", \"scale\": \"scale\", \"training_size\": \"1k\", \"training_year\": \"2010_14\"}",
    "universe_id": "fed6c800ffeadd99f3989f0e0214b57f"
   },
   "start_time": "2025-08-05T16:34:21.421786",
   "version": "2.6.0"
  }
 },
 "nbformat": 4,
 "nbformat_minor": 5
}