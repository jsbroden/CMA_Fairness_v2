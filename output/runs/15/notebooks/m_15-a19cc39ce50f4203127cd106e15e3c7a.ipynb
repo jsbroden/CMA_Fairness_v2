{
 "cells": [
  {
   "cell_type": "code",
   "execution_count": 1,
   "id": "f159f837-637b-42ba-96b5-ec9a68c44524",
   "metadata": {
    "execution": {
     "iopub.execute_input": "2025-08-05T15:57:10.331947Z",
     "iopub.status.busy": "2025-08-05T15:57:10.331496Z",
     "iopub.status.idle": "2025-08-05T15:57:10.345381Z",
     "shell.execute_reply": "2025-08-05T15:57:10.344402Z"
    },
    "papermill": {
     "duration": 0.033538,
     "end_time": "2025-08-05T15:57:10.346895",
     "exception": false,
     "start_time": "2025-08-05T15:57:10.313357",
     "status": "completed"
    },
    "tags": []
   },
   "outputs": [
    {
     "name": "stdout",
     "output_type": "stream",
     "text": [
      "/dss/dsshome1/0C/ra93lal2/cma/CMA_Fairness_v2\n"
     ]
    },
    {
     "name": "stderr",
     "output_type": "stream",
     "text": [
      "/dss/dsshome1/0C/ra93lal2/.local/share/virtualenvs/CMA_Fairness_v2-3j10GkSs/lib/python3.10/site-packages/IPython/core/magics/osm.py:393: UserWarning: This is now an optional IPython functionality, using bookmarks requires you to install the `pickleshare` library.\n",
      "  bkms = self.shell.db.get('bookmarks', {})\n",
      "/dss/dsshome1/0C/ra93lal2/.local/share/virtualenvs/CMA_Fairness_v2-3j10GkSs/lib/python3.10/site-packages/IPython/core/magics/osm.py:417: UserWarning: This is now an optional IPython functionality, setting dhist requires you to install the `pickleshare` library.\n",
      "  self.shell.db['dhist'] = compress_dhist(dhist)[-100:]\n"
     ]
    }
   ],
   "source": [
    "%cd ~/cma/CMA_Fairness_v2"
   ]
  },
  {
   "cell_type": "markdown",
   "id": "de2603b9",
   "metadata": {
    "papermill": {
     "duration": 0.088667,
     "end_time": "2025-08-05T15:57:10.452491",
     "exception": false,
     "start_time": "2025-08-05T15:57:10.363824",
     "status": "completed"
    },
    "tags": []
   },
   "source": [
    "The following cell holds the definition of our parameters, these values can be overriden by rendering the with e.g. the following command:\n",
    "\n",
    "papermill -p alpha 0.2 -p ratio 0.3 universe_analysis.ipynb output/test_run.ipynb"
   ]
  },
  {
   "cell_type": "code",
   "execution_count": 2,
   "id": "a80968a0-40bb-4fa9-85ef-2d5eefb01975",
   "metadata": {
    "execution": {
     "iopub.execute_input": "2025-08-05T15:57:10.488247Z",
     "iopub.status.busy": "2025-08-05T15:57:10.487331Z",
     "iopub.status.idle": "2025-08-05T15:57:10.493450Z",
     "shell.execute_reply": "2025-08-05T15:57:10.492472Z"
    },
    "papermill": {
     "duration": 0.025741,
     "end_time": "2025-08-05T15:57:10.495227",
     "exception": false,
     "start_time": "2025-08-05T15:57:10.469486",
     "status": "completed"
    },
    "tags": []
   },
   "outputs": [
    {
     "name": "stdout",
     "output_type": "stream",
     "text": [
      "Current working directory: /dss/dsshome1/0C/ra93lal2/cma/CMA_Fairness_v2\n"
     ]
    }
   ],
   "source": [
    "import os\n",
    "print(\"Current working directory:\", os.getcwd())"
   ]
  },
  {
   "cell_type": "code",
   "execution_count": 3,
   "id": "2dce4c03",
   "metadata": {
    "execution": {
     "iopub.execute_input": "2025-08-05T15:57:10.530951Z",
     "iopub.status.busy": "2025-08-05T15:57:10.530121Z",
     "iopub.status.idle": "2025-08-05T15:57:10.536592Z",
     "shell.execute_reply": "2025-08-05T15:57:10.535518Z"
    },
    "papermill": {
     "duration": 0.026254,
     "end_time": "2025-08-05T15:57:10.538502",
     "exception": false,
     "start_time": "2025-08-05T15:57:10.512248",
     "status": "completed"
    },
    "tags": [
     "parameters"
    ]
   },
   "outputs": [],
   "source": [
    "run_no = 0\n",
    "universe_id = \"test\"\n",
    "universe = {\n",
    "    \"training_size\": \"25k\", # \"25k\", \"5k\", \"1k\"\n",
    "    \"training_year\": \"2014\", # \"2014\", \"2012_14\", \"2010_14\"\n",
    "    \"scale\": \"scale\", # \"scale\", \"do-not-scale\",\n",
    "    \"model\": \"elasticnet\", # \"logreg\", \"penalized_logreg\", \"rf\", \"gbm\", \"elasticnet\"\n",
    "    \"cutoff\": [\"quantile_0.15\", \"quantile_0.30\"],\n",
    "    \"exclude_features\": \"age\", # \"none\", \"nationality\", \"sex\", \"nationality-sex\", \"age\"\n",
    "    \"exclude_subgroups\": \"keep-all\", # \"keep-all\", \"drop-non-german\"\n",
    "    \"eval_fairness_grouping\": [\"majority-minority\", \"nationality-all\"]\n",
    "}\n",
    "\n",
    "output_dir=\"./output\"\n",
    "seed=0"
   ]
  },
  {
   "cell_type": "code",
   "execution_count": 4,
   "id": "e155b6aa",
   "metadata": {
    "execution": {
     "iopub.execute_input": "2025-08-05T15:57:10.573712Z",
     "iopub.status.busy": "2025-08-05T15:57:10.572871Z",
     "iopub.status.idle": "2025-08-05T15:57:10.578701Z",
     "shell.execute_reply": "2025-08-05T15:57:10.577557Z"
    },
    "papermill": {
     "duration": 0.024678,
     "end_time": "2025-08-05T15:57:10.580509",
     "exception": false,
     "start_time": "2025-08-05T15:57:10.555831",
     "status": "completed"
    },
    "tags": [
     "injected-parameters"
    ]
   },
   "outputs": [],
   "source": [
    "# Parameters\n",
    "universe_id = \"a19cc39ce50f4203127cd106e15e3c7a\"\n",
    "run_no = \"15\"\n",
    "universe = \"{\\\"cutoff\\\": [\\\"quantile_0.1\\\", \\\"quantile_0.25\\\"], \\\"eval_fairness_grouping\\\": [\\\"majority-minority\\\", \\\"nationality-all\\\"], \\\"exclude_features\\\": \\\"none\\\", \\\"exclude_subgroups\\\": \\\"drop-non-german\\\", \\\"model\\\": \\\"rf\\\", \\\"scale\\\": \\\"do-not-scale\\\", \\\"training_size\\\": \\\"5k\\\", \\\"training_year\\\": \\\"2010_14\\\"}\"\n",
    "output_dir = \"output\"\n",
    "seed = \"2023\"\n"
   ]
  },
  {
   "cell_type": "code",
   "execution_count": 5,
   "id": "1650acaf",
   "metadata": {
    "execution": {
     "iopub.execute_input": "2025-08-05T15:57:10.616490Z",
     "iopub.status.busy": "2025-08-05T15:57:10.615824Z",
     "iopub.status.idle": "2025-08-05T15:57:10.620725Z",
     "shell.execute_reply": "2025-08-05T15:57:10.619759Z"
    },
    "papermill": {
     "duration": 0.024855,
     "end_time": "2025-08-05T15:57:10.622612",
     "exception": false,
     "start_time": "2025-08-05T15:57:10.597757",
     "status": "completed"
    },
    "tags": []
   },
   "outputs": [],
   "source": [
    "import json\n",
    "if isinstance(universe, str):\n",
    "    universe = json.loads(universe)"
   ]
  },
  {
   "cell_type": "code",
   "execution_count": 6,
   "id": "16620c48",
   "metadata": {
    "execution": {
     "iopub.execute_input": "2025-08-05T15:57:10.659456Z",
     "iopub.status.busy": "2025-08-05T15:57:10.658769Z",
     "iopub.status.idle": "2025-08-05T15:57:10.705295Z",
     "shell.execute_reply": "2025-08-05T15:57:10.704460Z"
    },
    "papermill": {
     "duration": 0.066625,
     "end_time": "2025-08-05T15:57:10.707096",
     "exception": false,
     "start_time": "2025-08-05T15:57:10.640471",
     "status": "completed"
    },
    "tags": []
   },
   "outputs": [],
   "source": [
    "# Auto-reload the custom package\n",
    "%load_ext autoreload\n",
    "%autoreload 1\n",
    "%aimport fairness_multiverse"
   ]
  },
  {
   "cell_type": "code",
   "execution_count": 7,
   "id": "01c5c9f3",
   "metadata": {
    "execution": {
     "iopub.execute_input": "2025-08-05T15:57:10.742434Z",
     "iopub.status.busy": "2025-08-05T15:57:10.741740Z",
     "iopub.status.idle": "2025-08-05T15:57:12.755994Z",
     "shell.execute_reply": "2025-08-05T15:57:12.754957Z"
    },
    "papermill": {
     "duration": 2.034299,
     "end_time": "2025-08-05T15:57:12.757966",
     "exception": false,
     "start_time": "2025-08-05T15:57:10.723667",
     "status": "completed"
    },
    "tags": []
   },
   "outputs": [],
   "source": [
    "from fairness_multiverse.universe import UniverseAnalysis\n",
    "\n",
    "universe_analysis = UniverseAnalysis(\n",
    "    run_no = run_no,\n",
    "    universe_id = universe_id,\n",
    "    universe = universe,\n",
    "    output_dir=output_dir,\n",
    ")"
   ]
  },
  {
   "cell_type": "code",
   "execution_count": 8,
   "id": "106241f5",
   "metadata": {
    "execution": {
     "iopub.execute_input": "2025-08-05T15:57:12.798367Z",
     "iopub.status.busy": "2025-08-05T15:57:12.797559Z",
     "iopub.status.idle": "2025-08-05T15:57:12.804997Z",
     "shell.execute_reply": "2025-08-05T15:57:12.803919Z"
    },
    "papermill": {
     "duration": 0.028665,
     "end_time": "2025-08-05T15:57:12.807053",
     "exception": false,
     "start_time": "2025-08-05T15:57:12.778388",
     "status": "completed"
    },
    "tags": []
   },
   "outputs": [
    {
     "name": "stdout",
     "output_type": "stream",
     "text": [
      "Using Seed: 2023\n"
     ]
    }
   ],
   "source": [
    "import numpy as np\n",
    "parsed_seed = int(seed)\n",
    "np.random.seed(parsed_seed)\n",
    "print(f\"Using Seed: {parsed_seed}\")"
   ]
  },
  {
   "cell_type": "markdown",
   "id": "e0ebdc57",
   "metadata": {
    "papermill": {
     "duration": 0.019537,
     "end_time": "2025-08-05T15:57:12.846584",
     "exception": false,
     "start_time": "2025-08-05T15:57:12.827047",
     "status": "completed"
    },
    "tags": []
   },
   "source": [
    "# Loading Data"
   ]
  },
  {
   "cell_type": "code",
   "execution_count": 9,
   "id": "f0496b8a",
   "metadata": {
    "execution": {
     "iopub.execute_input": "2025-08-05T15:57:12.888163Z",
     "iopub.status.busy": "2025-08-05T15:57:12.887627Z",
     "iopub.status.idle": "2025-08-05T15:57:25.865156Z",
     "shell.execute_reply": "2025-08-05T15:57:25.863883Z"
    },
    "papermill": {
     "duration": 13.000513,
     "end_time": "2025-08-05T15:57:25.867060",
     "exception": false,
     "start_time": "2025-08-05T15:57:12.866547",
     "status": "completed"
    },
    "tags": []
   },
   "outputs": [
    {
     "name": "stdout",
     "output_type": "stream",
     "text": [
      "Loading SIAB data from cache: data/siab_cached.csv.gz\n"
     ]
    },
    {
     "name": "stdout",
     "output_type": "stream",
     "text": [
      "(643690, 164)\n"
     ]
    }
   ],
   "source": [
    "from pathlib import Path\n",
    "import pandas as pd\n",
    "\n",
    "# File paths\n",
    "raw_file = Path(\"data/raw/siab.csv\")\n",
    "cache_file = Path(\"data/siab_cached.csv.gz\")\n",
    "\n",
    "# Ensure cache directory exists\n",
    "cache_file.parent.mkdir(parents=True, exist_ok=True)\n",
    "\n",
    "# Load with simple caching\n",
    "if cache_file.exists():\n",
    "    print(f\"Loading SIAB data from cache: {cache_file}\")\n",
    "    siab = pd.read_csv(cache_file, compression='gzip')\n",
    "else:\n",
    "    print(f\"Cache not found. Reading raw SIAB data: {raw_file}\")\n",
    "    siab = pd.read_csv(raw_file)\n",
    "    siab.to_csv(cache_file, index=False, compression='gzip')\n",
    "    print(f\"Cached SIAB data to: {cache_file}\")\n",
    "\n",
    "print(siab.shape)"
   ]
  },
  {
   "cell_type": "code",
   "execution_count": 10,
   "id": "db0ca512-5f53-4dba-abdb-a2888bca41ba",
   "metadata": {
    "execution": {
     "iopub.execute_input": "2025-08-05T15:57:25.911412Z",
     "iopub.status.busy": "2025-08-05T15:57:25.910782Z",
     "iopub.status.idle": "2025-08-05T15:57:25.917348Z",
     "shell.execute_reply": "2025-08-05T15:57:25.916147Z"
    },
    "papermill": {
     "duration": 0.029196,
     "end_time": "2025-08-05T15:57:25.919231",
     "exception": false,
     "start_time": "2025-08-05T15:57:25.890035",
     "status": "completed"
    },
    "tags": []
   },
   "outputs": [],
   "source": [
    "#siab"
   ]
  },
  {
   "cell_type": "markdown",
   "id": "997051c5-15bd-4b69-9786-c3001a3ce484",
   "metadata": {
    "papermill": {
     "duration": 0.019406,
     "end_time": "2025-08-05T15:57:25.957871",
     "exception": false,
     "start_time": "2025-08-05T15:57:25.938465",
     "status": "completed"
    },
    "tags": []
   },
   "source": [
    "# Splitting Data and Setting Training Data Size"
   ]
  },
  {
   "cell_type": "code",
   "execution_count": 11,
   "id": "aea9c6ef-6f46-42c8-85eb-5a62025c1508",
   "metadata": {
    "execution": {
     "iopub.execute_input": "2025-08-05T15:57:25.997903Z",
     "iopub.status.busy": "2025-08-05T15:57:25.997073Z",
     "iopub.status.idle": "2025-08-05T15:57:27.032988Z",
     "shell.execute_reply": "2025-08-05T15:57:27.031924Z"
    },
    "papermill": {
     "duration": 1.058474,
     "end_time": "2025-08-05T15:57:27.035066",
     "exception": false,
     "start_time": "2025-08-05T15:57:25.976592",
     "status": "completed"
    },
    "tags": []
   },
   "outputs": [],
   "source": [
    "from fairness_multiverse.universe import sample_by_year_size\n",
    "\n",
    "siab_train = sample_by_year_size(siab,\n",
    "                               training_year=universe[\"training_year\"],\n",
    "                               training_size=universe[\"training_size\"])"
   ]
  },
  {
   "cell_type": "code",
   "execution_count": 12,
   "id": "8d3afb32-789d-442c-8d5d-9f5aa8dd2eed",
   "metadata": {
    "execution": {
     "iopub.execute_input": "2025-08-05T15:57:27.076189Z",
     "iopub.status.busy": "2025-08-05T15:57:27.075504Z",
     "iopub.status.idle": "2025-08-05T15:57:27.080470Z",
     "shell.execute_reply": "2025-08-05T15:57:27.079460Z"
    },
    "papermill": {
     "duration": 0.0272,
     "end_time": "2025-08-05T15:57:27.082422",
     "exception": false,
     "start_time": "2025-08-05T15:57:27.055222",
     "status": "completed"
    },
    "tags": []
   },
   "outputs": [],
   "source": [
    "#siab_train.shape"
   ]
  },
  {
   "cell_type": "code",
   "execution_count": 13,
   "id": "d582db68-1a4c-47fb-84fc-08518dc1975a",
   "metadata": {
    "execution": {
     "iopub.execute_input": "2025-08-05T15:57:27.122844Z",
     "iopub.status.busy": "2025-08-05T15:57:27.122152Z",
     "iopub.status.idle": "2025-08-05T15:57:27.127460Z",
     "shell.execute_reply": "2025-08-05T15:57:27.126360Z"
    },
    "papermill": {
     "duration": 0.027261,
     "end_time": "2025-08-05T15:57:27.129391",
     "exception": false,
     "start_time": "2025-08-05T15:57:27.102130",
     "status": "completed"
    },
    "tags": []
   },
   "outputs": [],
   "source": [
    "#display(siab_train.groupby(\"year\").size())"
   ]
  },
  {
   "cell_type": "code",
   "execution_count": 14,
   "id": "a561edb4-d032-42cb-8256-22eac1111c64",
   "metadata": {
    "execution": {
     "iopub.execute_input": "2025-08-05T15:57:27.170325Z",
     "iopub.status.busy": "2025-08-05T15:57:27.169636Z",
     "iopub.status.idle": "2025-08-05T15:57:27.425648Z",
     "shell.execute_reply": "2025-08-05T15:57:27.424657Z"
    },
    "papermill": {
     "duration": 0.277362,
     "end_time": "2025-08-05T15:57:27.427207",
     "exception": false,
     "start_time": "2025-08-05T15:57:27.149845",
     "status": "completed"
    },
    "tags": []
   },
   "outputs": [],
   "source": [
    "#siab_train = siab_s[siab_s.year < 2015]\n",
    "siab_calib = siab[siab.year == 2015]\n",
    "siab_test = siab[siab.year == 2016]"
   ]
  },
  {
   "cell_type": "code",
   "execution_count": 15,
   "id": "472de16f-c3db-4916-846b-1f0de9cf1746",
   "metadata": {
    "execution": {
     "iopub.execute_input": "2025-08-05T15:57:27.460608Z",
     "iopub.status.busy": "2025-08-05T15:57:27.459682Z",
     "iopub.status.idle": "2025-08-05T15:57:27.470045Z",
     "shell.execute_reply": "2025-08-05T15:57:27.468869Z"
    },
    "papermill": {
     "duration": 0.02765,
     "end_time": "2025-08-05T15:57:27.472082",
     "exception": false,
     "start_time": "2025-08-05T15:57:27.444432",
     "status": "completed"
    },
    "tags": []
   },
   "outputs": [],
   "source": [
    "X_train = siab_train.iloc[:,4:164]\n",
    "y_train = siab_train.iloc[:, [3]]"
   ]
  },
  {
   "cell_type": "code",
   "execution_count": 16,
   "id": "828c96af-f43a-4ed6-ba47-8ac73a47d56c",
   "metadata": {
    "execution": {
     "iopub.execute_input": "2025-08-05T15:57:27.511792Z",
     "iopub.status.busy": "2025-08-05T15:57:27.511365Z",
     "iopub.status.idle": "2025-08-05T15:57:27.564725Z",
     "shell.execute_reply": "2025-08-05T15:57:27.563474Z"
    },
    "papermill": {
     "duration": 0.075032,
     "end_time": "2025-08-05T15:57:27.567100",
     "exception": false,
     "start_time": "2025-08-05T15:57:27.492068",
     "status": "completed"
    },
    "tags": []
   },
   "outputs": [],
   "source": [
    "X_calib = siab_calib.iloc[:,4:164]\n",
    "y_calib = siab_calib.iloc[:, [3]]"
   ]
  },
  {
   "cell_type": "code",
   "execution_count": 17,
   "id": "c34be9c3-6bd6-476e-acd3-845840e303be",
   "metadata": {
    "execution": {
     "iopub.execute_input": "2025-08-05T15:57:27.598145Z",
     "iopub.status.busy": "2025-08-05T15:57:27.596966Z",
     "iopub.status.idle": "2025-08-05T15:57:27.655331Z",
     "shell.execute_reply": "2025-08-05T15:57:27.654183Z"
    },
    "papermill": {
     "duration": 0.071887,
     "end_time": "2025-08-05T15:57:27.657307",
     "exception": false,
     "start_time": "2025-08-05T15:57:27.585420",
     "status": "completed"
    },
    "tags": []
   },
   "outputs": [],
   "source": [
    "X_test = siab_test.iloc[:,4:164]\n",
    "y_true = siab_test.iloc[:, [3]]"
   ]
  },
  {
   "cell_type": "code",
   "execution_count": 18,
   "id": "e6c733c5",
   "metadata": {
    "execution": {
     "iopub.execute_input": "2025-08-05T15:57:27.697488Z",
     "iopub.status.busy": "2025-08-05T15:57:27.697049Z",
     "iopub.status.idle": "2025-08-05T15:57:27.797753Z",
     "shell.execute_reply": "2025-08-05T15:57:27.796756Z"
    },
    "papermill": {
     "duration": 0.12309,
     "end_time": "2025-08-05T15:57:27.799326",
     "exception": false,
     "start_time": "2025-08-05T15:57:27.676236",
     "status": "completed"
    },
    "tags": []
   },
   "outputs": [],
   "source": [
    "# Auxiliary data needed downstream in the pipeline\n",
    "\n",
    "org_train = X_train.copy()\n",
    "org_test = X_test.copy()\n",
    "org_calib = X_calib.copy()"
   ]
  },
  {
   "cell_type": "markdown",
   "id": "0a4a1b33",
   "metadata": {
    "papermill": {
     "duration": 0.020203,
     "end_time": "2025-08-05T15:57:27.837658",
     "exception": false,
     "start_time": "2025-08-05T15:57:27.817455",
     "status": "completed"
    },
    "tags": []
   },
   "source": [
    "# Preprocessing Data"
   ]
  },
  {
   "cell_type": "code",
   "execution_count": 19,
   "id": "ca879031",
   "metadata": {
    "execution": {
     "iopub.execute_input": "2025-08-05T15:57:27.879156Z",
     "iopub.status.busy": "2025-08-05T15:57:27.878479Z",
     "iopub.status.idle": "2025-08-05T15:57:27.884722Z",
     "shell.execute_reply": "2025-08-05T15:57:27.883685Z"
    },
    "papermill": {
     "duration": 0.028363,
     "end_time": "2025-08-05T15:57:27.886801",
     "exception": false,
     "start_time": "2025-08-05T15:57:27.858438",
     "status": "completed"
    },
    "tags": []
   },
   "outputs": [],
   "source": [
    "# EXCLUDE PROTECTED FEATURES\n",
    "# ----------------------\n",
    "# \"exclude_features\": \"none\", # \"nationality\", \"sex\", \"nationality-sex\"\n",
    "\n",
    "excluded_features = universe[\"exclude_features\"].split(\"-\") # split, e.g.: \"nationality-sex\" -> [\"nationality\", \"sex\"]\n",
    "excluded_features_dictionary = {\n",
    "    \"nationality\": [\"maxdeutsch1\", \"maxdeutsch.Missing.\"],\n",
    "    \"sex\": [\"frau1\"],\n",
    "    \"age\": [\"age\"],\n",
    "}"
   ]
  },
  {
   "cell_type": "code",
   "execution_count": 20,
   "id": "b745ac60",
   "metadata": {
    "execution": {
     "iopub.execute_input": "2025-08-05T15:57:27.926002Z",
     "iopub.status.busy": "2025-08-05T15:57:27.925167Z",
     "iopub.status.idle": "2025-08-05T15:57:27.931520Z",
     "shell.execute_reply": "2025-08-05T15:57:27.930553Z"
    },
    "papermill": {
     "duration": 0.027868,
     "end_time": "2025-08-05T15:57:27.933335",
     "exception": false,
     "start_time": "2025-08-05T15:57:27.905467",
     "status": "completed"
    },
    "tags": []
   },
   "outputs": [],
   "source": [
    "# Code nice names to column names\n",
    "\n",
    "excluded_features_columns = [\n",
    "    excluded_features_dictionary[f] for f in excluded_features if len(f) > 0 and f != \"none\"\n",
    "]"
   ]
  },
  {
   "cell_type": "code",
   "execution_count": 21,
   "id": "f84f73a2",
   "metadata": {
    "execution": {
     "iopub.execute_input": "2025-08-05T15:57:27.974827Z",
     "iopub.status.busy": "2025-08-05T15:57:27.973942Z",
     "iopub.status.idle": "2025-08-05T15:57:27.983421Z",
     "shell.execute_reply": "2025-08-05T15:57:27.981674Z"
    },
    "papermill": {
     "duration": 0.031739,
     "end_time": "2025-08-05T15:57:27.985448",
     "exception": false,
     "start_time": "2025-08-05T15:57:27.953709",
     "status": "completed"
    },
    "tags": []
   },
   "outputs": [],
   "source": [
    "from utils import flatten_once\n",
    "\n",
    "excluded_features_columns = flatten_once(excluded_features_columns)"
   ]
  },
  {
   "cell_type": "code",
   "execution_count": 22,
   "id": "884dea22",
   "metadata": {
    "execution": {
     "iopub.execute_input": "2025-08-05T15:57:28.030544Z",
     "iopub.status.busy": "2025-08-05T15:57:28.029821Z",
     "iopub.status.idle": "2025-08-05T15:57:28.039046Z",
     "shell.execute_reply": "2025-08-05T15:57:28.038204Z"
    },
    "papermill": {
     "duration": 0.033072,
     "end_time": "2025-08-05T15:57:28.040579",
     "exception": false,
     "start_time": "2025-08-05T15:57:28.007507",
     "status": "completed"
    },
    "tags": []
   },
   "outputs": [],
   "source": [
    "if len(excluded_features_columns) > 0:\n",
    "    print(f\"Dropping features: {excluded_features_columns}\")\n",
    "    X_train.drop(excluded_features_columns, axis=1, inplace=True)"
   ]
  },
  {
   "cell_type": "code",
   "execution_count": 23,
   "id": "95ab8b16",
   "metadata": {
    "execution": {
     "iopub.execute_input": "2025-08-05T15:57:28.061692Z",
     "iopub.status.busy": "2025-08-05T15:57:28.061300Z",
     "iopub.status.idle": "2025-08-05T15:57:28.066033Z",
     "shell.execute_reply": "2025-08-05T15:57:28.065090Z"
    },
    "papermill": {
     "duration": 0.01659,
     "end_time": "2025-08-05T15:57:28.067768",
     "exception": false,
     "start_time": "2025-08-05T15:57:28.051178",
     "status": "completed"
    },
    "tags": []
   },
   "outputs": [],
   "source": [
    "if len(excluded_features_columns) > 0:\n",
    "    print(f\"Dropping features: {excluded_features_columns}\")\n",
    "    X_test.drop(excluded_features_columns, axis=1, inplace=True)"
   ]
  },
  {
   "cell_type": "code",
   "execution_count": 24,
   "id": "1853aaf5-fb9f-46cb-a2b5-8ea4ae2237e4",
   "metadata": {
    "execution": {
     "iopub.execute_input": "2025-08-05T15:57:28.089090Z",
     "iopub.status.busy": "2025-08-05T15:57:28.088485Z",
     "iopub.status.idle": "2025-08-05T15:57:28.093565Z",
     "shell.execute_reply": "2025-08-05T15:57:28.092714Z"
    },
    "papermill": {
     "duration": 0.016488,
     "end_time": "2025-08-05T15:57:28.094928",
     "exception": false,
     "start_time": "2025-08-05T15:57:28.078440",
     "status": "completed"
    },
    "tags": []
   },
   "outputs": [],
   "source": [
    "if len(excluded_features_columns) > 0:\n",
    "    print(f\"Dropping features: {excluded_features_columns}\")\n",
    "    X_calib.drop(excluded_features_columns, axis=1, inplace=True)"
   ]
  },
  {
   "cell_type": "code",
   "execution_count": 25,
   "id": "76c4dc6d",
   "metadata": {
    "execution": {
     "iopub.execute_input": "2025-08-05T15:57:28.117180Z",
     "iopub.status.busy": "2025-08-05T15:57:28.116684Z",
     "iopub.status.idle": "2025-08-05T15:57:28.121320Z",
     "shell.execute_reply": "2025-08-05T15:57:28.120556Z"
    },
    "papermill": {
     "duration": 0.01682,
     "end_time": "2025-08-05T15:57:28.122971",
     "exception": false,
     "start_time": "2025-08-05T15:57:28.106151",
     "status": "completed"
    },
    "tags": []
   },
   "outputs": [],
   "source": [
    "# EXCLUDE CERTAIN SUBGROUPS\n",
    "# ----------------------\n",
    "\n",
    "mode = universe.get(\"exclude_subgroups\", \"keep-all\") \n",
    "# Fetches the exclude_subgroups setting from the universe dict.\n",
    "# Defaults to \"keep-all\" if the key is missing."
   ]
  },
  {
   "cell_type": "code",
   "execution_count": 26,
   "id": "21994072",
   "metadata": {
    "execution": {
     "iopub.execute_input": "2025-08-05T15:57:28.145709Z",
     "iopub.status.busy": "2025-08-05T15:57:28.144908Z",
     "iopub.status.idle": "2025-08-05T15:57:28.150753Z",
     "shell.execute_reply": "2025-08-05T15:57:28.149989Z"
    },
    "papermill": {
     "duration": 0.018007,
     "end_time": "2025-08-05T15:57:28.152193",
     "exception": false,
     "start_time": "2025-08-05T15:57:28.134186",
     "status": "completed"
    },
    "tags": []
   },
   "outputs": [],
   "source": [
    "if mode == \"keep-all\":\n",
    "    keep_mask = pd.Series(True, index=org_train.index)\n",
    "\n",
    "# org_train contains the original feature columns from features_org (in Simson)\n",
    "# features_org contains unprocessed features, for me X_train at beginning ???\n",
    "# For keep-all, creates a boolean Series (keep_mask) of all True, so no rows are removed.\n",
    "\n",
    "elif mode == \"drop-non-german\":\n",
    "    keep_mask = org_train[\"maxdeutsch1\"] == 1 # ??? what about missing values?\n",
    "\n",
    "else:\n",
    "    raise ValueError(f\"Unsupported mode for exclude_subgroups: {mode}\")"
   ]
  },
  {
   "cell_type": "code",
   "execution_count": 27,
   "id": "71651440",
   "metadata": {
    "execution": {
     "iopub.execute_input": "2025-08-05T15:57:28.174100Z",
     "iopub.status.busy": "2025-08-05T15:57:28.173669Z",
     "iopub.status.idle": "2025-08-05T15:57:28.179895Z",
     "shell.execute_reply": "2025-08-05T15:57:28.179084Z"
    },
    "papermill": {
     "duration": 0.018014,
     "end_time": "2025-08-05T15:57:28.181499",
     "exception": false,
     "start_time": "2025-08-05T15:57:28.163485",
     "status": "completed"
    },
    "tags": []
   },
   "outputs": [
    {
     "name": "stdout",
     "output_type": "stream",
     "text": [
      "Dropping 657 rows (13.14%) where mode='drop-non-german'\n"
     ]
    }
   ],
   "source": [
    "n_drop = (~keep_mask).sum() # Calculates how many rows are set to be dropped\n",
    "if n_drop > 0:\n",
    "    pct = n_drop / len(keep_mask) * 100\n",
    "    print(f\"Dropping {n_drop} rows ({pct:.2f}%) where mode='{mode}'\")"
   ]
  },
  {
   "cell_type": "code",
   "execution_count": 28,
   "id": "5fb8eee5",
   "metadata": {
    "execution": {
     "iopub.execute_input": "2025-08-05T15:57:28.202557Z",
     "iopub.status.busy": "2025-08-05T15:57:28.202054Z",
     "iopub.status.idle": "2025-08-05T15:57:28.208346Z",
     "shell.execute_reply": "2025-08-05T15:57:28.207537Z"
    },
    "papermill": {
     "duration": 0.017742,
     "end_time": "2025-08-05T15:57:28.209865",
     "exception": false,
     "start_time": "2025-08-05T15:57:28.192123",
     "status": "completed"
    },
    "tags": []
   },
   "outputs": [],
   "source": [
    "X_train = X_train[keep_mask]"
   ]
  },
  {
   "cell_type": "code",
   "execution_count": 29,
   "id": "b202bb3a",
   "metadata": {
    "execution": {
     "iopub.execute_input": "2025-08-05T15:57:28.231640Z",
     "iopub.status.busy": "2025-08-05T15:57:28.231124Z",
     "iopub.status.idle": "2025-08-05T15:57:28.236351Z",
     "shell.execute_reply": "2025-08-05T15:57:28.235533Z"
    },
    "papermill": {
     "duration": 0.017073,
     "end_time": "2025-08-05T15:57:28.237887",
     "exception": false,
     "start_time": "2025-08-05T15:57:28.220814",
     "status": "completed"
    },
    "tags": []
   },
   "outputs": [],
   "source": [
    "y_train = y_train[keep_mask]"
   ]
  },
  {
   "cell_type": "markdown",
   "id": "493e2ac3",
   "metadata": {
    "papermill": {
     "duration": 0.009964,
     "end_time": "2025-08-05T15:57:28.259023",
     "exception": false,
     "start_time": "2025-08-05T15:57:28.249059",
     "status": "completed"
    },
    "tags": []
   },
   "source": [
    "# Model Training"
   ]
  },
  {
   "cell_type": "code",
   "execution_count": 30,
   "id": "679e1268",
   "metadata": {
    "execution": {
     "iopub.execute_input": "2025-08-05T15:57:28.280093Z",
     "iopub.status.busy": "2025-08-05T15:57:28.279593Z",
     "iopub.status.idle": "2025-08-05T15:57:28.364070Z",
     "shell.execute_reply": "2025-08-05T15:57:28.363336Z"
    },
    "papermill": {
     "duration": 0.096786,
     "end_time": "2025-08-05T15:57:28.365551",
     "exception": false,
     "start_time": "2025-08-05T15:57:28.268765",
     "status": "completed"
    },
    "tags": []
   },
   "outputs": [],
   "source": [
    "from sklearn.linear_model import LogisticRegression\n",
    "from sklearn.ensemble import GradientBoostingClassifier, RandomForestClassifier\n",
    "\n",
    "if (universe[\"model\"] == \"logreg\"):\n",
    "    model = LogisticRegression() #penalty=\"none\", solver=\"newton-cg\", max_iter=1) # include random_state=19 ?\n",
    "elif (universe[\"model\"] == \"penalized_logreg\"):\n",
    "    model = LogisticRegression(penalty=\"l2\", C=0.1) #, solver=\"newton-cg\", max_iter=1)\n",
    "elif (universe[\"model\"] == \"rf\"):\n",
    "    model = RandomForestClassifier() # n_estimators=100, n_jobs=-1\n",
    "elif (universe[\"model\"] == \"gbm\"):\n",
    "    model = GradientBoostingClassifier()\n",
    "elif (universe[\"model\"] == \"elasticnet\"):\n",
    "    model = LogisticRegression(penalty = 'elasticnet', solver = 'saga', l1_ratio = 0.5) # max_iter=5000\n",
    "else:\n",
    "    raise \"Unsupported universe.model\""
   ]
  },
  {
   "cell_type": "code",
   "execution_count": 31,
   "id": "0cc8f744",
   "metadata": {
    "execution": {
     "iopub.execute_input": "2025-08-05T15:57:28.386676Z",
     "iopub.status.busy": "2025-08-05T15:57:28.386041Z",
     "iopub.status.idle": "2025-08-05T15:57:28.391303Z",
     "shell.execute_reply": "2025-08-05T15:57:28.390462Z"
    },
    "papermill": {
     "duration": 0.017154,
     "end_time": "2025-08-05T15:57:28.392805",
     "exception": false,
     "start_time": "2025-08-05T15:57:28.375651",
     "status": "completed"
    },
    "tags": []
   },
   "outputs": [],
   "source": [
    "import numpy as np\n",
    "from sklearn.pipeline import Pipeline\n",
    "from sklearn.preprocessing import StandardScaler\n",
    "\n",
    "model = Pipeline([\n",
    "    #(\"continuous_processor\", continuous_processor),\n",
    "    #(\"categorical_preprocessor\", categorical_preprocessor),\n",
    "    (\"scale\", StandardScaler() if universe[\"scale\"] == \"scale\" else None), \n",
    "    (\"model\", model),\n",
    "])"
   ]
  },
  {
   "cell_type": "code",
   "execution_count": 32,
   "id": "9442c04d",
   "metadata": {
    "execution": {
     "iopub.execute_input": "2025-08-05T15:57:28.415190Z",
     "iopub.status.busy": "2025-08-05T15:57:28.414672Z",
     "iopub.status.idle": "2025-08-05T15:57:29.366239Z",
     "shell.execute_reply": "2025-08-05T15:57:29.364984Z"
    },
    "papermill": {
     "duration": 0.963452,
     "end_time": "2025-08-05T15:57:29.367534",
     "exception": false,
     "start_time": "2025-08-05T15:57:28.404082",
     "status": "completed"
    },
    "tags": []
   },
   "outputs": [
    {
     "data": {
      "text/html": [
       "<style>#sk-container-id-1 {color: black;background-color: white;}#sk-container-id-1 pre{padding: 0;}#sk-container-id-1 div.sk-toggleable {background-color: white;}#sk-container-id-1 label.sk-toggleable__label {cursor: pointer;display: block;width: 100%;margin-bottom: 0;padding: 0.3em;box-sizing: border-box;text-align: center;}#sk-container-id-1 label.sk-toggleable__label-arrow:before {content: \"▸\";float: left;margin-right: 0.25em;color: #696969;}#sk-container-id-1 label.sk-toggleable__label-arrow:hover:before {color: black;}#sk-container-id-1 div.sk-estimator:hover label.sk-toggleable__label-arrow:before {color: black;}#sk-container-id-1 div.sk-toggleable__content {max-height: 0;max-width: 0;overflow: hidden;text-align: left;background-color: #f0f8ff;}#sk-container-id-1 div.sk-toggleable__content pre {margin: 0.2em;color: black;border-radius: 0.25em;background-color: #f0f8ff;}#sk-container-id-1 input.sk-toggleable__control:checked~div.sk-toggleable__content {max-height: 200px;max-width: 100%;overflow: auto;}#sk-container-id-1 input.sk-toggleable__control:checked~label.sk-toggleable__label-arrow:before {content: \"▾\";}#sk-container-id-1 div.sk-estimator input.sk-toggleable__control:checked~label.sk-toggleable__label {background-color: #d4ebff;}#sk-container-id-1 div.sk-label input.sk-toggleable__control:checked~label.sk-toggleable__label {background-color: #d4ebff;}#sk-container-id-1 input.sk-hidden--visually {border: 0;clip: rect(1px 1px 1px 1px);clip: rect(1px, 1px, 1px, 1px);height: 1px;margin: -1px;overflow: hidden;padding: 0;position: absolute;width: 1px;}#sk-container-id-1 div.sk-estimator {font-family: monospace;background-color: #f0f8ff;border: 1px dotted black;border-radius: 0.25em;box-sizing: border-box;margin-bottom: 0.5em;}#sk-container-id-1 div.sk-estimator:hover {background-color: #d4ebff;}#sk-container-id-1 div.sk-parallel-item::after {content: \"\";width: 100%;border-bottom: 1px solid gray;flex-grow: 1;}#sk-container-id-1 div.sk-label:hover label.sk-toggleable__label {background-color: #d4ebff;}#sk-container-id-1 div.sk-serial::before {content: \"\";position: absolute;border-left: 1px solid gray;box-sizing: border-box;top: 0;bottom: 0;left: 50%;z-index: 0;}#sk-container-id-1 div.sk-serial {display: flex;flex-direction: column;align-items: center;background-color: white;padding-right: 0.2em;padding-left: 0.2em;position: relative;}#sk-container-id-1 div.sk-item {position: relative;z-index: 1;}#sk-container-id-1 div.sk-parallel {display: flex;align-items: stretch;justify-content: center;background-color: white;position: relative;}#sk-container-id-1 div.sk-item::before, #sk-container-id-1 div.sk-parallel-item::before {content: \"\";position: absolute;border-left: 1px solid gray;box-sizing: border-box;top: 0;bottom: 0;left: 50%;z-index: -1;}#sk-container-id-1 div.sk-parallel-item {display: flex;flex-direction: column;z-index: 1;position: relative;background-color: white;}#sk-container-id-1 div.sk-parallel-item:first-child::after {align-self: flex-end;width: 50%;}#sk-container-id-1 div.sk-parallel-item:last-child::after {align-self: flex-start;width: 50%;}#sk-container-id-1 div.sk-parallel-item:only-child::after {width: 0;}#sk-container-id-1 div.sk-dashed-wrapped {border: 1px dashed gray;margin: 0 0.4em 0.5em 0.4em;box-sizing: border-box;padding-bottom: 0.4em;background-color: white;}#sk-container-id-1 div.sk-label label {font-family: monospace;font-weight: bold;display: inline-block;line-height: 1.2em;}#sk-container-id-1 div.sk-label-container {text-align: center;}#sk-container-id-1 div.sk-container {/* jupyter's `normalize.less` sets `[hidden] { display: none; }` but bootstrap.min.css set `[hidden] { display: none !important; }` so we also need the `!important` here to be able to override the default hidden behavior on the sphinx rendered scikit-learn.org. See: https://github.com/scikit-learn/scikit-learn/issues/21755 */display: inline-block !important;position: relative;}#sk-container-id-1 div.sk-text-repr-fallback {display: none;}</style><div id=\"sk-container-id-1\" class=\"sk-top-container\"><div class=\"sk-text-repr-fallback\"><pre>Pipeline(steps=[(&#x27;scale&#x27;, None), (&#x27;model&#x27;, RandomForestClassifier())])</pre><b>In a Jupyter environment, please rerun this cell to show the HTML representation or trust the notebook. <br />On GitHub, the HTML representation is unable to render, please try loading this page with nbviewer.org.</b></div><div class=\"sk-container\" hidden><div class=\"sk-item sk-dashed-wrapped\"><div class=\"sk-label-container\"><div class=\"sk-label sk-toggleable\"><input class=\"sk-toggleable__control sk-hidden--visually\" id=\"sk-estimator-id-1\" type=\"checkbox\" ><label for=\"sk-estimator-id-1\" class=\"sk-toggleable__label sk-toggleable__label-arrow\">Pipeline</label><div class=\"sk-toggleable__content\"><pre>Pipeline(steps=[(&#x27;scale&#x27;, None), (&#x27;model&#x27;, RandomForestClassifier())])</pre></div></div></div><div class=\"sk-serial\"><div class=\"sk-item\"><div class=\"sk-estimator sk-toggleable\"><input class=\"sk-toggleable__control sk-hidden--visually\" id=\"sk-estimator-id-2\" type=\"checkbox\" ><label for=\"sk-estimator-id-2\" class=\"sk-toggleable__label sk-toggleable__label-arrow\">None</label><div class=\"sk-toggleable__content\"><pre>None</pre></div></div></div><div class=\"sk-item\"><div class=\"sk-estimator sk-toggleable\"><input class=\"sk-toggleable__control sk-hidden--visually\" id=\"sk-estimator-id-3\" type=\"checkbox\" ><label for=\"sk-estimator-id-3\" class=\"sk-toggleable__label sk-toggleable__label-arrow\">RandomForestClassifier</label><div class=\"sk-toggleable__content\"><pre>RandomForestClassifier()</pre></div></div></div></div></div></div></div>"
      ],
      "text/plain": [
       "Pipeline(steps=[('scale', None), ('model', RandomForestClassifier())])"
      ]
     },
     "execution_count": 32,
     "metadata": {},
     "output_type": "execute_result"
    }
   ],
   "source": [
    "model.fit(X_train, y_train.values.ravel())"
   ]
  },
  {
   "cell_type": "code",
   "execution_count": 33,
   "id": "af59f8c0",
   "metadata": {
    "execution": {
     "iopub.execute_input": "2025-08-05T15:57:29.389193Z",
     "iopub.status.busy": "2025-08-05T15:57:29.388899Z",
     "iopub.status.idle": "2025-08-05T15:57:29.393134Z",
     "shell.execute_reply": "2025-08-05T15:57:29.392200Z"
    },
    "papermill": {
     "duration": 0.01652,
     "end_time": "2025-08-05T15:57:29.394738",
     "exception": false,
     "start_time": "2025-08-05T15:57:29.378218",
     "status": "completed"
    },
    "tags": []
   },
   "outputs": [],
   "source": [
    "from fairness_multiverse.universe import predict_w_threshold"
   ]
  },
  {
   "cell_type": "code",
   "execution_count": 34,
   "id": "a7cf2e16",
   "metadata": {
    "execution": {
     "iopub.execute_input": "2025-08-05T15:57:29.419173Z",
     "iopub.status.busy": "2025-08-05T15:57:29.418359Z",
     "iopub.status.idle": "2025-08-05T15:57:31.360684Z",
     "shell.execute_reply": "2025-08-05T15:57:31.359661Z"
    },
    "papermill": {
     "duration": 1.955477,
     "end_time": "2025-08-05T15:57:31.362356",
     "exception": false,
     "start_time": "2025-08-05T15:57:29.406879",
     "status": "completed"
    },
    "tags": []
   },
   "outputs": [
    {
     "data": {
      "text/plain": [
       "0.8619217478541968"
      ]
     },
     "execution_count": 34,
     "metadata": {},
     "output_type": "execute_result"
    }
   ],
   "source": [
    "probs_test = model.predict_proba(X_test)\n",
    "\n",
    "'''\n",
    "Below code returns a boolean array (or binary 0/1 array depending on how it’s used) where each element \n",
    "is True if the probability of class 1 is greater than or equal to the threshold, and False otherwise.\n",
    "'''\n",
    "y_pred_default = predict_w_threshold(probs_test, 0.5)\n",
    "\n",
    "from sklearn.metrics import accuracy_score\n",
    "\n",
    "# Naive prediction\n",
    "accuracy_score(y_true = y_true, y_pred = y_pred_default)"
   ]
  },
  {
   "cell_type": "code",
   "execution_count": 35,
   "id": "081964c3",
   "metadata": {
    "execution": {
     "iopub.execute_input": "2025-08-05T15:57:31.401657Z",
     "iopub.status.busy": "2025-08-05T15:57:31.401123Z",
     "iopub.status.idle": "2025-08-05T15:57:33.531137Z",
     "shell.execute_reply": "2025-08-05T15:57:33.530042Z"
    },
    "papermill": {
     "duration": 2.151506,
     "end_time": "2025-08-05T15:57:33.533050",
     "exception": false,
     "start_time": "2025-08-05T15:57:31.381544",
     "status": "completed"
    },
    "tags": []
   },
   "outputs": [
    {
     "data": {
      "text/plain": [
       "array([0, 0, 0, ..., 0, 0, 0])"
      ]
     },
     "execution_count": 35,
     "metadata": {},
     "output_type": "execute_result"
    }
   ],
   "source": [
    "model.predict(X_test)"
   ]
  },
  {
   "cell_type": "markdown",
   "id": "56c9705b",
   "metadata": {
    "papermill": {
     "duration": 0.024415,
     "end_time": "2025-08-05T15:57:33.580870",
     "exception": false,
     "start_time": "2025-08-05T15:57:33.556455",
     "status": "completed"
    },
    "tags": []
   },
   "source": [
    "# Conformal Prediction"
   ]
  },
  {
   "cell_type": "code",
   "execution_count": 36,
   "id": "160ec6ff",
   "metadata": {
    "execution": {
     "iopub.execute_input": "2025-08-05T15:57:33.636474Z",
     "iopub.status.busy": "2025-08-05T15:57:33.635611Z",
     "iopub.status.idle": "2025-08-05T15:57:33.641094Z",
     "shell.execute_reply": "2025-08-05T15:57:33.640110Z"
    },
    "papermill": {
     "duration": 0.034877,
     "end_time": "2025-08-05T15:57:33.643318",
     "exception": false,
     "start_time": "2025-08-05T15:57:33.608441",
     "status": "completed"
    },
    "tags": []
   },
   "outputs": [],
   "source": [
    "# Miscoverage level for conformal prediction (10% allowed error rate => 90% target coverage)\n",
    "alpha = 0.1"
   ]
  },
  {
   "cell_type": "code",
   "execution_count": 37,
   "id": "eadf4555-3dd3-440e-8e35-f82a4ad9f855",
   "metadata": {
    "execution": {
     "iopub.execute_input": "2025-08-05T15:57:33.692379Z",
     "iopub.status.busy": "2025-08-05T15:57:33.691918Z",
     "iopub.status.idle": "2025-08-05T15:57:35.949005Z",
     "shell.execute_reply": "2025-08-05T15:57:35.948253Z"
    },
    "papermill": {
     "duration": 2.282703,
     "end_time": "2025-08-05T15:57:35.950565",
     "exception": false,
     "start_time": "2025-08-05T15:57:33.667862",
     "status": "completed"
    },
    "tags": []
   },
   "outputs": [],
   "source": [
    "probs_calib = model.predict_proba(X_calib)"
   ]
  },
  {
   "cell_type": "code",
   "execution_count": 38,
   "id": "2ed93547-6d5d-4983-9b36-1ecb300da49a",
   "metadata": {
    "execution": {
     "iopub.execute_input": "2025-08-05T15:57:35.973768Z",
     "iopub.status.busy": "2025-08-05T15:57:35.973013Z",
     "iopub.status.idle": "2025-08-05T15:57:35.978188Z",
     "shell.execute_reply": "2025-08-05T15:57:35.977272Z"
    },
    "papermill": {
     "duration": 0.018168,
     "end_time": "2025-08-05T15:57:35.979674",
     "exception": false,
     "start_time": "2025-08-05T15:57:35.961506",
     "status": "completed"
    },
    "tags": []
   },
   "outputs": [],
   "source": [
    "y_calib = y_calib.values.ravel().astype(int)"
   ]
  },
  {
   "cell_type": "code",
   "execution_count": 39,
   "id": "65d1320d-f588-4b38-9072-62af1ae97f7d",
   "metadata": {
    "execution": {
     "iopub.execute_input": "2025-08-05T15:57:36.004466Z",
     "iopub.status.busy": "2025-08-05T15:57:36.003956Z",
     "iopub.status.idle": "2025-08-05T15:57:36.010766Z",
     "shell.execute_reply": "2025-08-05T15:57:36.009787Z"
    },
    "papermill": {
     "duration": 0.020204,
     "end_time": "2025-08-05T15:57:36.012403",
     "exception": false,
     "start_time": "2025-08-05T15:57:35.992199",
     "status": "completed"
    },
    "tags": []
   },
   "outputs": [],
   "source": [
    "from fairness_multiverse.conformal import compute_nc_scores\n",
    "\n",
    "# Compute nonconformity scores on calibration set (1 - probability of true class)\n",
    "nc_scores = compute_nc_scores(probs_calib, y_calib)"
   ]
  },
  {
   "cell_type": "code",
   "execution_count": 40,
   "id": "df3b8ca3-53b7-43d5-9667-7c85da7aeda2",
   "metadata": {
    "execution": {
     "iopub.execute_input": "2025-08-05T15:57:36.037256Z",
     "iopub.status.busy": "2025-08-05T15:57:36.036488Z",
     "iopub.status.idle": "2025-08-05T15:57:36.042591Z",
     "shell.execute_reply": "2025-08-05T15:57:36.041764Z"
    },
    "papermill": {
     "duration": 0.019789,
     "end_time": "2025-08-05T15:57:36.044301",
     "exception": false,
     "start_time": "2025-08-05T15:57:36.024512",
     "status": "completed"
    },
    "tags": []
   },
   "outputs": [],
   "source": [
    "from fairness_multiverse.conformal import find_threshold\n",
    "\n",
    "# Find conformal threshold q_hat for the given alpha (split conformal method)\n",
    "q_hat = find_threshold(nc_scores, alpha)"
   ]
  },
  {
   "cell_type": "code",
   "execution_count": 41,
   "id": "4d29e6c1-0ef6-4aa4-b8fe-4fe79b0d033a",
   "metadata": {
    "execution": {
     "iopub.execute_input": "2025-08-05T15:57:36.068934Z",
     "iopub.status.busy": "2025-08-05T15:57:36.068434Z",
     "iopub.status.idle": "2025-08-05T15:57:36.075260Z",
     "shell.execute_reply": "2025-08-05T15:57:36.074354Z"
    },
    "papermill": {
     "duration": 0.019832,
     "end_time": "2025-08-05T15:57:36.076853",
     "exception": false,
     "start_time": "2025-08-05T15:57:36.057021",
     "status": "completed"
    },
    "tags": []
   },
   "outputs": [
    {
     "data": {
      "text/plain": [
       "0.6599999999999999"
      ]
     },
     "execution_count": 41,
     "metadata": {},
     "output_type": "execute_result"
    }
   ],
   "source": [
    "q_hat"
   ]
  },
  {
   "cell_type": "code",
   "execution_count": 42,
   "id": "92460794-cdac-4be2-ba28-f28c0515a6fb",
   "metadata": {
    "execution": {
     "iopub.execute_input": "2025-08-05T15:57:36.102766Z",
     "iopub.status.busy": "2025-08-05T15:57:36.102338Z",
     "iopub.status.idle": "2025-08-05T15:57:38.998262Z",
     "shell.execute_reply": "2025-08-05T15:57:38.997122Z"
    },
    "papermill": {
     "duration": 2.911294,
     "end_time": "2025-08-05T15:57:39.000357",
     "exception": false,
     "start_time": "2025-08-05T15:57:36.089063",
     "status": "completed"
    },
    "tags": []
   },
   "outputs": [],
   "source": [
    "from fairness_multiverse.conformal import predict_conformal_sets\n",
    "\n",
    "# Generate prediction sets for each test example\n",
    "pred_sets = predict_conformal_sets(model, X_test, q_hat)"
   ]
  },
  {
   "cell_type": "code",
   "execution_count": 43,
   "id": "d90c9a65-e6db-4f5d-80cd-e68fb7e46829",
   "metadata": {
    "execution": {
     "iopub.execute_input": "2025-08-05T15:57:39.053890Z",
     "iopub.status.busy": "2025-08-05T15:57:39.053079Z",
     "iopub.status.idle": "2025-08-05T15:57:39.060229Z",
     "shell.execute_reply": "2025-08-05T15:57:39.058689Z"
    },
    "papermill": {
     "duration": 0.037455,
     "end_time": "2025-08-05T15:57:39.062815",
     "exception": false,
     "start_time": "2025-08-05T15:57:39.025360",
     "status": "completed"
    },
    "tags": []
   },
   "outputs": [],
   "source": [
    "y_true = y_true.squeeze()"
   ]
  },
  {
   "cell_type": "code",
   "execution_count": 44,
   "id": "3a58a54a-1e68-46b9-927a-df01f18aebc8",
   "metadata": {
    "execution": {
     "iopub.execute_input": "2025-08-05T15:57:39.110599Z",
     "iopub.status.busy": "2025-08-05T15:57:39.109755Z",
     "iopub.status.idle": "2025-08-05T15:57:40.032875Z",
     "shell.execute_reply": "2025-08-05T15:57:40.031912Z"
    },
    "papermill": {
     "duration": 0.945695,
     "end_time": "2025-08-05T15:57:40.034872",
     "exception": false,
     "start_time": "2025-08-05T15:57:39.089177",
     "status": "completed"
    },
    "tags": []
   },
   "outputs": [],
   "source": [
    "from fairness_multiverse.conformal import evaluate_sets\n",
    "\n",
    "# Evaluate coverage and average set size on test data\n",
    "metrics = evaluate_sets(pred_sets, y_true)"
   ]
  },
  {
   "cell_type": "markdown",
   "id": "2b569c12-9aaa-4c88-98c9-bbcd0cf3ebb8",
   "metadata": {
    "papermill": {
     "duration": 0.020745,
     "end_time": "2025-08-05T15:57:40.076243",
     "exception": false,
     "start_time": "2025-08-05T15:57:40.055498",
     "status": "completed"
    },
    "tags": []
   },
   "source": [
    "# CP Metrics"
   ]
  },
  {
   "cell_type": "code",
   "execution_count": 45,
   "id": "5ce0a5cb-201f-45a0-ade5-94c7f0bd6095",
   "metadata": {
    "execution": {
     "iopub.execute_input": "2025-08-05T15:57:40.116627Z",
     "iopub.status.busy": "2025-08-05T15:57:40.115975Z",
     "iopub.status.idle": "2025-08-05T15:57:40.124288Z",
     "shell.execute_reply": "2025-08-05T15:57:40.123195Z"
    },
    "papermill": {
     "duration": 0.03105,
     "end_time": "2025-08-05T15:57:40.126149",
     "exception": false,
     "start_time": "2025-08-05T15:57:40.095099",
     "status": "completed"
    },
    "tags": []
   },
   "outputs": [
    {
     "data": {
      "text/plain": [
       "{'coverage': 0.9119607624568052, 'avg_size': 1.1494928101660908}"
      ]
     },
     "execution_count": 45,
     "metadata": {},
     "output_type": "execute_result"
    }
   ],
   "source": [
    "metrics"
   ]
  },
  {
   "cell_type": "code",
   "execution_count": 46,
   "id": "9b9a838d-31c9-430b-ae14-12baee460d17",
   "metadata": {
    "execution": {
     "iopub.execute_input": "2025-08-05T15:57:40.172300Z",
     "iopub.status.busy": "2025-08-05T15:57:40.171507Z",
     "iopub.status.idle": "2025-08-05T15:57:40.177979Z",
     "shell.execute_reply": "2025-08-05T15:57:40.176963Z"
    },
    "papermill": {
     "duration": 0.030486,
     "end_time": "2025-08-05T15:57:40.179879",
     "exception": false,
     "start_time": "2025-08-05T15:57:40.149393",
     "status": "completed"
    },
    "tags": []
   },
   "outputs": [],
   "source": [
    "example_universe = universe.copy()\n",
    "universe_training_year = example_universe.get(\"training_year\")\n",
    "universe_training_size = example_universe.get(\"training_size\")\n",
    "universe_scale = example_universe.get(\"scale\")\n",
    "universe_model = example_universe.get(\"model\")\n",
    "universe_exclude_features = example_universe.get(\"exclude_features\")\n",
    "universe_exclude_subgroups = example_universe.get(\"exclude_subgroups\")"
   ]
  },
  {
   "cell_type": "code",
   "execution_count": 47,
   "id": "f4b6a8ac-9dc0-4245-8a91-5b3b5999c4f9",
   "metadata": {
    "execution": {
     "iopub.execute_input": "2025-08-05T15:57:40.231358Z",
     "iopub.status.busy": "2025-08-05T15:57:40.230683Z",
     "iopub.status.idle": "2025-08-05T15:57:40.237612Z",
     "shell.execute_reply": "2025-08-05T15:57:40.236492Z"
    },
    "papermill": {
     "duration": 0.034213,
     "end_time": "2025-08-05T15:57:40.239678",
     "exception": false,
     "start_time": "2025-08-05T15:57:40.205465",
     "status": "completed"
    },
    "tags": []
   },
   "outputs": [],
   "source": [
    "cp_metrics_dict = {\n",
    "    \"universe_id\": [universe_id],\n",
    "    \"universe_training_year\": [universe_training_year],\n",
    "    \"universe_training_size\": [universe_training_size],\n",
    "    \"universe_scale\": [universe_scale],\n",
    "    \"universe_model\": [universe_model],\n",
    "    \"universe_exclude_features\": [universe_exclude_features],\n",
    "    \"universe_exclude_subgroups\": [universe_exclude_subgroups],\n",
    "    \"q_hat\": [q_hat],\n",
    "    \"coverage\": [metrics[\"coverage\"]],\n",
    "    \"avg_size\": [metrics[\"avg_size\"]],\n",
    "}"
   ]
  },
  {
   "cell_type": "code",
   "execution_count": 48,
   "id": "908acbb1-0371-4915-85ca-3fa520d2efe2",
   "metadata": {
    "execution": {
     "iopub.execute_input": "2025-08-05T15:57:40.283819Z",
     "iopub.status.busy": "2025-08-05T15:57:40.283348Z",
     "iopub.status.idle": "2025-08-05T15:57:40.297947Z",
     "shell.execute_reply": "2025-08-05T15:57:40.296950Z"
    },
    "papermill": {
     "duration": 0.037598,
     "end_time": "2025-08-05T15:57:40.299626",
     "exception": false,
     "start_time": "2025-08-05T15:57:40.262028",
     "status": "completed"
    },
    "tags": []
   },
   "outputs": [
    {
     "data": {
      "text/plain": [
       "{'universe_id': ['a19cc39ce50f4203127cd106e15e3c7a'],\n",
       " 'universe_training_year': ['2010_14'],\n",
       " 'universe_training_size': ['5k'],\n",
       " 'universe_scale': ['do-not-scale'],\n",
       " 'universe_model': ['rf'],\n",
       " 'universe_exclude_features': ['none'],\n",
       " 'universe_exclude_subgroups': ['drop-non-german'],\n",
       " 'q_hat': [0.6599999999999999],\n",
       " 'coverage': [0.9119607624568052],\n",
       " 'avg_size': [1.1494928101660908]}"
      ]
     },
     "execution_count": 48,
     "metadata": {},
     "output_type": "execute_result"
    }
   ],
   "source": [
    "cp_metrics_dict"
   ]
  },
  {
   "cell_type": "code",
   "execution_count": 49,
   "id": "33007efc-14e9-4ec6-97ac-56a455c82265",
   "metadata": {
    "execution": {
     "iopub.execute_input": "2025-08-05T15:57:40.347376Z",
     "iopub.status.busy": "2025-08-05T15:57:40.346579Z",
     "iopub.status.idle": "2025-08-05T15:57:40.353582Z",
     "shell.execute_reply": "2025-08-05T15:57:40.352530Z"
    },
    "papermill": {
     "duration": 0.034908,
     "end_time": "2025-08-05T15:57:40.355388",
     "exception": false,
     "start_time": "2025-08-05T15:57:40.320480",
     "status": "completed"
    },
    "tags": []
   },
   "outputs": [],
   "source": [
    "cp_metrics_df = pd.DataFrame(cp_metrics_dict)"
   ]
  },
  {
   "cell_type": "code",
   "execution_count": 50,
   "id": "db12611b-57b2-4910-b9d0-355adfd6e7bf",
   "metadata": {
    "execution": {
     "iopub.execute_input": "2025-08-05T15:57:40.396751Z",
     "iopub.status.busy": "2025-08-05T15:57:40.396188Z",
     "iopub.status.idle": "2025-08-05T15:57:40.415909Z",
     "shell.execute_reply": "2025-08-05T15:57:40.415025Z"
    },
    "papermill": {
     "duration": 0.04131,
     "end_time": "2025-08-05T15:57:40.417577",
     "exception": false,
     "start_time": "2025-08-05T15:57:40.376267",
     "status": "completed"
    },
    "tags": []
   },
   "outputs": [
    {
     "data": {
      "text/html": [
       "<div>\n",
       "<style scoped>\n",
       "    .dataframe tbody tr th:only-of-type {\n",
       "        vertical-align: middle;\n",
       "    }\n",
       "\n",
       "    .dataframe tbody tr th {\n",
       "        vertical-align: top;\n",
       "    }\n",
       "\n",
       "    .dataframe thead th {\n",
       "        text-align: right;\n",
       "    }\n",
       "</style>\n",
       "<table border=\"1\" class=\"dataframe\">\n",
       "  <thead>\n",
       "    <tr style=\"text-align: right;\">\n",
       "      <th></th>\n",
       "      <th>universe_id</th>\n",
       "      <th>universe_training_year</th>\n",
       "      <th>universe_training_size</th>\n",
       "      <th>universe_scale</th>\n",
       "      <th>universe_model</th>\n",
       "      <th>universe_exclude_features</th>\n",
       "      <th>universe_exclude_subgroups</th>\n",
       "      <th>q_hat</th>\n",
       "      <th>coverage</th>\n",
       "      <th>avg_size</th>\n",
       "    </tr>\n",
       "  </thead>\n",
       "  <tbody>\n",
       "    <tr>\n",
       "      <th>0</th>\n",
       "      <td>a19cc39ce50f4203127cd106e15e3c7a</td>\n",
       "      <td>2010_14</td>\n",
       "      <td>5k</td>\n",
       "      <td>do-not-scale</td>\n",
       "      <td>rf</td>\n",
       "      <td>none</td>\n",
       "      <td>drop-non-german</td>\n",
       "      <td>0.66</td>\n",
       "      <td>0.911961</td>\n",
       "      <td>1.149493</td>\n",
       "    </tr>\n",
       "  </tbody>\n",
       "</table>\n",
       "</div>"
      ],
      "text/plain": [
       "                        universe_id universe_training_year  \\\n",
       "0  a19cc39ce50f4203127cd106e15e3c7a                2010_14   \n",
       "\n",
       "  universe_training_size universe_scale universe_model  \\\n",
       "0                     5k   do-not-scale             rf   \n",
       "\n",
       "  universe_exclude_features universe_exclude_subgroups  q_hat  coverage  \\\n",
       "0                      none            drop-non-german   0.66  0.911961   \n",
       "\n",
       "   avg_size  \n",
       "0  1.149493  "
      ]
     },
     "execution_count": 50,
     "metadata": {},
     "output_type": "execute_result"
    }
   ],
   "source": [
    "cp_metrics_df"
   ]
  },
  {
   "cell_type": "code",
   "execution_count": 51,
   "id": "b7fbde55-a0a1-47e4-9af6-fe4a17fa8c61",
   "metadata": {
    "execution": {
     "iopub.execute_input": "2025-08-05T15:57:40.461913Z",
     "iopub.status.busy": "2025-08-05T15:57:40.461311Z",
     "iopub.status.idle": "2025-08-05T15:57:40.467485Z",
     "shell.execute_reply": "2025-08-05T15:57:40.466321Z"
    },
    "papermill": {
     "duration": 0.030429,
     "end_time": "2025-08-05T15:57:40.469650",
     "exception": false,
     "start_time": "2025-08-05T15:57:40.439221",
     "status": "completed"
    },
    "tags": []
   },
   "outputs": [],
   "source": [
    "# Conditional Coverage & looking at subgroups"
   ]
  },
  {
   "cell_type": "code",
   "execution_count": 52,
   "id": "027ae886-68dd-4141-96c7-805a5450e1ef",
   "metadata": {
    "execution": {
     "iopub.execute_input": "2025-08-05T15:57:40.514499Z",
     "iopub.status.busy": "2025-08-05T15:57:40.513987Z",
     "iopub.status.idle": "2025-08-05T15:57:40.779052Z",
     "shell.execute_reply": "2025-08-05T15:57:40.778061Z"
    },
    "papermill": {
     "duration": 0.288954,
     "end_time": "2025-08-05T15:57:40.780884",
     "exception": false,
     "start_time": "2025-08-05T15:57:40.491930",
     "status": "completed"
    },
    "tags": []
   },
   "outputs": [],
   "source": [
    "from fairness_multiverse.conformal import build_cp_groups\n",
    "\n",
    "cp_groups_df = build_cp_groups(pred_sets, y_true, X_test.index, org_test)\n",
    "#needs universe_id and setting"
   ]
  },
  {
   "cell_type": "code",
   "execution_count": 53,
   "id": "6cbdab96-b2b2-45af-ad54-d0516db2e28d",
   "metadata": {
    "execution": {
     "iopub.execute_input": "2025-08-05T15:57:40.825552Z",
     "iopub.status.busy": "2025-08-05T15:57:40.824890Z",
     "iopub.status.idle": "2025-08-05T15:57:42.213118Z",
     "shell.execute_reply": "2025-08-05T15:57:42.212299Z"
    },
    "papermill": {
     "duration": 1.41277,
     "end_time": "2025-08-05T15:57:42.214631",
     "exception": false,
     "start_time": "2025-08-05T15:57:40.801861",
     "status": "completed"
    },
    "tags": []
   },
   "outputs": [],
   "source": [
    "# Define covered = 1 if true_label is in the predicted set\n",
    "cp_groups_df['covered'] = cp_groups_df.apply(\n",
    "    lambda r: int(r['true_label'] in r['pred_set']),\n",
    "    axis=1\n",
    ")"
   ]
  },
  {
   "cell_type": "code",
   "execution_count": 54,
   "id": "338ff529-1a6b-4b87-a931-8e4788d52aad",
   "metadata": {
    "execution": {
     "iopub.execute_input": "2025-08-05T15:57:42.239196Z",
     "iopub.status.busy": "2025-08-05T15:57:42.238570Z",
     "iopub.status.idle": "2025-08-05T15:57:42.242978Z",
     "shell.execute_reply": "2025-08-05T15:57:42.242285Z"
    },
    "papermill": {
     "duration": 0.017707,
     "end_time": "2025-08-05T15:57:42.244230",
     "exception": false,
     "start_time": "2025-08-05T15:57:42.226523",
     "status": "completed"
    },
    "tags": []
   },
   "outputs": [],
   "source": [
    "#cp_groups_df"
   ]
  },
  {
   "cell_type": "code",
   "execution_count": 55,
   "id": "90032e27-66df-4540-9169-4e89cfbaa758",
   "metadata": {
    "execution": {
     "iopub.execute_input": "2025-08-05T15:57:42.269935Z",
     "iopub.status.busy": "2025-08-05T15:57:42.269283Z",
     "iopub.status.idle": "2025-08-05T15:57:42.278936Z",
     "shell.execute_reply": "2025-08-05T15:57:42.278171Z"
    },
    "papermill": {
     "duration": 0.023023,
     "end_time": "2025-08-05T15:57:42.280239",
     "exception": false,
     "start_time": "2025-08-05T15:57:42.257216",
     "status": "completed"
    },
    "tags": []
   },
   "outputs": [],
   "source": [
    "subgroups = ['frau1','nongerman','nongerman_male','nongerman_female']\n",
    "\n",
    "# Conditional coverage for subgroup==1\n",
    "cond_coverage = {\n",
    "    g: cp_groups_df.loc[cp_groups_df[g]==1, 'covered'].mean()\n",
    "    for g in subgroups\n",
    "}"
   ]
  },
  {
   "cell_type": "code",
   "execution_count": 56,
   "id": "1e348fb1-b9c3-45bc-ba23-f016827a7e0d",
   "metadata": {
    "execution": {
     "iopub.execute_input": "2025-08-05T15:57:42.305464Z",
     "iopub.status.busy": "2025-08-05T15:57:42.304767Z",
     "iopub.status.idle": "2025-08-05T15:57:42.312293Z",
     "shell.execute_reply": "2025-08-05T15:57:42.311122Z"
    },
    "papermill": {
     "duration": 0.021733,
     "end_time": "2025-08-05T15:57:42.314303",
     "exception": false,
     "start_time": "2025-08-05T15:57:42.292570",
     "status": "completed"
    },
    "tags": []
   },
   "outputs": [
    {
     "data": {
      "text/plain": [
       "{'frau1': 0.9109583501819652,\n",
       " 'nongerman': 0.902823780385112,\n",
       " 'nongerman_male': 0.9153381968837251,\n",
       " 'nongerman_female': 0.8821162444113264}"
      ]
     },
     "execution_count": 56,
     "metadata": {},
     "output_type": "execute_result"
    }
   ],
   "source": [
    "cond_coverage"
   ]
  },
  {
   "cell_type": "code",
   "execution_count": 57,
   "id": "f5093324-c3dd-4d63-bc4c-8d945e5c8bbb",
   "metadata": {
    "execution": {
     "iopub.execute_input": "2025-08-05T15:57:42.363306Z",
     "iopub.status.busy": "2025-08-05T15:57:42.362629Z",
     "iopub.status.idle": "2025-08-05T15:57:42.371097Z",
     "shell.execute_reply": "2025-08-05T15:57:42.369970Z"
    },
    "papermill": {
     "duration": 0.034185,
     "end_time": "2025-08-05T15:57:42.373094",
     "exception": false,
     "start_time": "2025-08-05T15:57:42.338909",
     "status": "completed"
    },
    "tags": []
   },
   "outputs": [],
   "source": [
    "for subgroup, cov in cond_coverage.items():\n",
    "    cp_metrics_df[f\"cov_{subgroup}\"] = cov"
   ]
  },
  {
   "cell_type": "code",
   "execution_count": 58,
   "id": "6e872e10-dbe5-49e8-b554-5030c98ff75d",
   "metadata": {
    "execution": {
     "iopub.execute_input": "2025-08-05T15:57:42.420566Z",
     "iopub.status.busy": "2025-08-05T15:57:42.419789Z",
     "iopub.status.idle": "2025-08-05T15:57:42.438458Z",
     "shell.execute_reply": "2025-08-05T15:57:42.437232Z"
    },
    "papermill": {
     "duration": 0.042883,
     "end_time": "2025-08-05T15:57:42.440052",
     "exception": false,
     "start_time": "2025-08-05T15:57:42.397169",
     "status": "completed"
    },
    "tags": []
   },
   "outputs": [
    {
     "data": {
      "text/html": [
       "<div>\n",
       "<style scoped>\n",
       "    .dataframe tbody tr th:only-of-type {\n",
       "        vertical-align: middle;\n",
       "    }\n",
       "\n",
       "    .dataframe tbody tr th {\n",
       "        vertical-align: top;\n",
       "    }\n",
       "\n",
       "    .dataframe thead th {\n",
       "        text-align: right;\n",
       "    }\n",
       "</style>\n",
       "<table border=\"1\" class=\"dataframe\">\n",
       "  <thead>\n",
       "    <tr style=\"text-align: right;\">\n",
       "      <th></th>\n",
       "      <th>universe_id</th>\n",
       "      <th>universe_training_year</th>\n",
       "      <th>universe_training_size</th>\n",
       "      <th>universe_scale</th>\n",
       "      <th>universe_model</th>\n",
       "      <th>universe_exclude_features</th>\n",
       "      <th>universe_exclude_subgroups</th>\n",
       "      <th>q_hat</th>\n",
       "      <th>coverage</th>\n",
       "      <th>avg_size</th>\n",
       "      <th>cov_frau1</th>\n",
       "      <th>cov_nongerman</th>\n",
       "      <th>cov_nongerman_male</th>\n",
       "      <th>cov_nongerman_female</th>\n",
       "    </tr>\n",
       "  </thead>\n",
       "  <tbody>\n",
       "    <tr>\n",
       "      <th>0</th>\n",
       "      <td>a19cc39ce50f4203127cd106e15e3c7a</td>\n",
       "      <td>2010_14</td>\n",
       "      <td>5k</td>\n",
       "      <td>do-not-scale</td>\n",
       "      <td>rf</td>\n",
       "      <td>none</td>\n",
       "      <td>drop-non-german</td>\n",
       "      <td>0.66</td>\n",
       "      <td>0.911961</td>\n",
       "      <td>1.149493</td>\n",
       "      <td>0.910958</td>\n",
       "      <td>0.902824</td>\n",
       "      <td>0.915338</td>\n",
       "      <td>0.882116</td>\n",
       "    </tr>\n",
       "  </tbody>\n",
       "</table>\n",
       "</div>"
      ],
      "text/plain": [
       "                        universe_id universe_training_year  \\\n",
       "0  a19cc39ce50f4203127cd106e15e3c7a                2010_14   \n",
       "\n",
       "  universe_training_size universe_scale universe_model  \\\n",
       "0                     5k   do-not-scale             rf   \n",
       "\n",
       "  universe_exclude_features universe_exclude_subgroups  q_hat  coverage  \\\n",
       "0                      none            drop-non-german   0.66  0.911961   \n",
       "\n",
       "   avg_size  cov_frau1  cov_nongerman  cov_nongerman_male  \\\n",
       "0  1.149493   0.910958       0.902824            0.915338   \n",
       "\n",
       "   cov_nongerman_female  \n",
       "0              0.882116  "
      ]
     },
     "execution_count": 58,
     "metadata": {},
     "output_type": "execute_result"
    }
   ],
   "source": [
    "cp_metrics_df"
   ]
  },
  {
   "cell_type": "markdown",
   "id": "33774451",
   "metadata": {
    "papermill": {
     "duration": 0.023402,
     "end_time": "2025-08-05T15:57:42.488376",
     "exception": false,
     "start_time": "2025-08-05T15:57:42.464974",
     "status": "completed"
    },
    "tags": []
   },
   "source": [
    "# (Fairness) Metrics"
   ]
  },
  {
   "cell_type": "code",
   "execution_count": 59,
   "id": "debc5d62",
   "metadata": {
    "execution": {
     "iopub.execute_input": "2025-08-05T15:57:42.537012Z",
     "iopub.status.busy": "2025-08-05T15:57:42.536418Z",
     "iopub.status.idle": "2025-08-05T15:57:42.559788Z",
     "shell.execute_reply": "2025-08-05T15:57:42.558766Z"
    },
    "papermill": {
     "duration": 0.051291,
     "end_time": "2025-08-05T15:57:42.561733",
     "exception": false,
     "start_time": "2025-08-05T15:57:42.510442",
     "status": "completed"
    },
    "tags": []
   },
   "outputs": [],
   "source": [
    "# do I need to include maxdeutsch1.missing?\n",
    "\n",
    "import numpy as np\n",
    "\n",
    "colname_to_bin = \"maxdeutsch1\"\n",
    "majority_value = org_train[colname_to_bin].mode()[0]\n",
    "\n",
    "org_test[\"majmin\"] = np.where(org_test[colname_to_bin] == majority_value, \"majority\", \"minority\")"
   ]
  },
  {
   "cell_type": "code",
   "execution_count": 60,
   "id": "06a50de5",
   "metadata": {
    "execution": {
     "iopub.execute_input": "2025-08-05T15:57:42.613485Z",
     "iopub.status.busy": "2025-08-05T15:57:42.612849Z",
     "iopub.status.idle": "2025-08-05T15:57:45.300101Z",
     "shell.execute_reply": "2025-08-05T15:57:45.299067Z"
    },
    "papermill": {
     "duration": 2.714644,
     "end_time": "2025-08-05T15:57:45.302159",
     "exception": false,
     "start_time": "2025-08-05T15:57:42.587515",
     "status": "completed"
    },
    "tags": []
   },
   "outputs": [],
   "source": [
    "example_universe = universe.copy()\n",
    "example_universe[\"cutoff\"] = example_universe[\"cutoff\"][0]\n",
    "example_universe[\"eval_fairness_grouping\"] = example_universe[\"eval_fairness_grouping\"][0]\n",
    "fairness_dict, metric_frame = universe_analysis.compute_metrics(\n",
    "    example_universe,\n",
    "    y_pred_prob=probs_test,\n",
    "    y_test=y_true,\n",
    "    org_test=org_test,\n",
    ")"
   ]
  },
  {
   "cell_type": "markdown",
   "id": "f95d4e02",
   "metadata": {
    "papermill": {
     "duration": 0.022001,
     "end_time": "2025-08-05T15:57:45.349015",
     "exception": false,
     "start_time": "2025-08-05T15:57:45.327014",
     "status": "completed"
    },
    "tags": []
   },
   "source": [
    "# Overall"
   ]
  },
  {
   "cell_type": "markdown",
   "id": "bdee4871",
   "metadata": {
    "papermill": {
     "duration": 0.023389,
     "end_time": "2025-08-05T15:57:45.393052",
     "exception": false,
     "start_time": "2025-08-05T15:57:45.369663",
     "status": "completed"
    },
    "tags": []
   },
   "source": [
    "Fairness\n",
    "Main fairness target: Equalized Odds. Seems to be a better fit than equal opportunity, since we're not only interested in Y = 1. Seems to be a better fit than demographic parity, since we also care about accuracy, not just equal distribution of preds.\n",
    "\n",
    "Pick column for computation of fairness metrics\n",
    "\n",
    "Performance\n",
    "Overall performance measures, most interesting in relation to the measures split by group below"
   ]
  },
  {
   "cell_type": "code",
   "execution_count": 61,
   "id": "c4e067c6",
   "metadata": {
    "execution": {
     "iopub.execute_input": "2025-08-05T15:57:45.438474Z",
     "iopub.status.busy": "2025-08-05T15:57:45.437657Z",
     "iopub.status.idle": "2025-08-05T15:57:45.447211Z",
     "shell.execute_reply": "2025-08-05T15:57:45.445990Z"
    },
    "papermill": {
     "duration": 0.034,
     "end_time": "2025-08-05T15:57:45.449044",
     "exception": false,
     "start_time": "2025-08-05T15:57:45.415044",
     "status": "completed"
    },
    "tags": []
   },
   "outputs": [
    {
     "data": {
      "text/plain": [
       "accuracy                   0.197537\n",
       "balanced accuracy          0.532498\n",
       "f1                         0.239138\n",
       "precision                  0.136126\n",
       "false positive rate        0.918058\n",
       "false negative rate        0.016945\n",
       "selection rate             0.926396\n",
       "count                  89710.000000\n",
       "dtype: float64"
      ]
     },
     "execution_count": 61,
     "metadata": {},
     "output_type": "execute_result"
    }
   ],
   "source": [
    "metric_frame.overall"
   ]
  },
  {
   "cell_type": "markdown",
   "id": "e968fe9d",
   "metadata": {
    "papermill": {
     "duration": 0.020957,
     "end_time": "2025-08-05T15:57:45.492692",
     "exception": false,
     "start_time": "2025-08-05T15:57:45.471735",
     "status": "completed"
    },
    "tags": []
   },
   "source": [
    "By Group"
   ]
  },
  {
   "cell_type": "code",
   "execution_count": 62,
   "id": "ec325bce",
   "metadata": {
    "execution": {
     "iopub.execute_input": "2025-08-05T15:57:45.537654Z",
     "iopub.status.busy": "2025-08-05T15:57:45.536983Z",
     "iopub.status.idle": "2025-08-05T15:57:45.552769Z",
     "shell.execute_reply": "2025-08-05T15:57:45.551731Z"
    },
    "papermill": {
     "duration": 0.040252,
     "end_time": "2025-08-05T15:57:45.554812",
     "exception": false,
     "start_time": "2025-08-05T15:57:45.514560",
     "status": "completed"
    },
    "tags": []
   },
   "outputs": [
    {
     "data": {
      "text/html": [
       "<div>\n",
       "<style scoped>\n",
       "    .dataframe tbody tr th:only-of-type {\n",
       "        vertical-align: middle;\n",
       "    }\n",
       "\n",
       "    .dataframe tbody tr th {\n",
       "        vertical-align: top;\n",
       "    }\n",
       "\n",
       "    .dataframe thead th {\n",
       "        text-align: right;\n",
       "    }\n",
       "</style>\n",
       "<table border=\"1\" class=\"dataframe\">\n",
       "  <thead>\n",
       "    <tr style=\"text-align: right;\">\n",
       "      <th></th>\n",
       "      <th>accuracy</th>\n",
       "      <th>balanced accuracy</th>\n",
       "      <th>f1</th>\n",
       "      <th>precision</th>\n",
       "      <th>false positive rate</th>\n",
       "      <th>false negative rate</th>\n",
       "      <th>selection rate</th>\n",
       "      <th>count</th>\n",
       "    </tr>\n",
       "    <tr>\n",
       "      <th>majmin</th>\n",
       "      <th></th>\n",
       "      <th></th>\n",
       "      <th></th>\n",
       "      <th></th>\n",
       "      <th></th>\n",
       "      <th></th>\n",
       "      <th></th>\n",
       "      <th></th>\n",
       "    </tr>\n",
       "  </thead>\n",
       "  <tbody>\n",
       "    <tr>\n",
       "      <th>majority</th>\n",
       "      <td>0.199364</td>\n",
       "      <td>0.534418</td>\n",
       "      <td>0.246264</td>\n",
       "      <td>0.140625</td>\n",
       "      <td>0.920990</td>\n",
       "      <td>0.010175</td>\n",
       "      <td>0.930085</td>\n",
       "      <td>69170.0</td>\n",
       "    </tr>\n",
       "    <tr>\n",
       "      <th>minority</th>\n",
       "      <td>0.191383</td>\n",
       "      <td>0.524275</td>\n",
       "      <td>0.214370</td>\n",
       "      <td>0.120705</td>\n",
       "      <td>0.908376</td>\n",
       "      <td>0.043074</td>\n",
       "      <td>0.913973</td>\n",
       "      <td>20540.0</td>\n",
       "    </tr>\n",
       "  </tbody>\n",
       "</table>\n",
       "</div>"
      ],
      "text/plain": [
       "          accuracy  balanced accuracy        f1  precision  \\\n",
       "majmin                                                       \n",
       "majority  0.199364           0.534418  0.246264   0.140625   \n",
       "minority  0.191383           0.524275  0.214370   0.120705   \n",
       "\n",
       "          false positive rate  false negative rate  selection rate    count  \n",
       "majmin                                                                       \n",
       "majority             0.920990             0.010175        0.930085  69170.0  \n",
       "minority             0.908376             0.043074        0.913973  20540.0  "
      ]
     },
     "execution_count": 62,
     "metadata": {},
     "output_type": "execute_result"
    }
   ],
   "source": [
    "metric_frame.by_group"
   ]
  },
  {
   "cell_type": "code",
   "execution_count": 63,
   "id": "a9ddbe63",
   "metadata": {
    "execution": {
     "iopub.execute_input": "2025-08-05T15:57:45.600627Z",
     "iopub.status.busy": "2025-08-05T15:57:45.599952Z",
     "iopub.status.idle": "2025-08-05T15:57:48.042922Z",
     "shell.execute_reply": "2025-08-05T15:57:48.041957Z"
    },
    "papermill": {
     "duration": 2.468327,
     "end_time": "2025-08-05T15:57:48.044504",
     "exception": false,
     "start_time": "2025-08-05T15:57:45.576177",
     "status": "completed"
    },
    "tags": []
   },
   "outputs": [
    {
     "data": {
      "text/plain": [
       "array([[<Axes: title={'center': 'accuracy'}, xlabel='majmin'>,\n",
       "        <Axes: title={'center': 'balanced accuracy'}, xlabel='majmin'>,\n",
       "        <Axes: title={'center': 'f1'}, xlabel='majmin'>],\n",
       "       [<Axes: title={'center': 'precision'}, xlabel='majmin'>,\n",
       "        <Axes: title={'center': 'false positive rate'}, xlabel='majmin'>,\n",
       "        <Axes: title={'center': 'false negative rate'}, xlabel='majmin'>],\n",
       "       [<Axes: title={'center': 'selection rate'}, xlabel='majmin'>,\n",
       "        <Axes: title={'center': 'count'}, xlabel='majmin'>,\n",
       "        <Axes: xlabel='majmin'>]], dtype=object)"
      ]
     },
     "execution_count": 63,
     "metadata": {},
     "output_type": "execute_result"
    },
    {
     "data": {
      "image/png": "[encoded data removed]",
      "text/plain": [
       "<Figure size 1200x800 with 9 Axes>"
      ]
     },
     "metadata": {},
     "output_type": "display_data"
    }
   ],
   "source": [
    "# In a graphic\n",
    "metric_frame.by_group.plot.bar(\n",
    "    subplots=True,\n",
    "    layout=[3, 3],\n",
    "    legend=False,\n",
    "    figsize=[12, 8],\n",
    "    title=\"Show all metrics\",\n",
    ")"
   ]
  },
  {
   "cell_type": "markdown",
   "id": "f57a0bac",
   "metadata": {
    "papermill": {
     "duration": 0.022956,
     "end_time": "2025-08-05T15:57:48.094259",
     "exception": false,
     "start_time": "2025-08-05T15:57:48.071303",
     "status": "completed"
    },
    "tags": []
   },
   "source": [
    "# Final Output"
   ]
  },
  {
   "cell_type": "code",
   "execution_count": 64,
   "id": "96d280a3",
   "metadata": {
    "execution": {
     "iopub.execute_input": "2025-08-05T15:57:48.144801Z",
     "iopub.status.busy": "2025-08-05T15:57:48.144160Z",
     "iopub.status.idle": "2025-08-05T15:57:48.153447Z",
     "shell.execute_reply": "2025-08-05T15:57:48.152274Z"
    },
    "papermill": {
     "duration": 0.037705,
     "end_time": "2025-08-05T15:57:48.155344",
     "exception": false,
     "start_time": "2025-08-05T15:57:48.117639",
     "status": "completed"
    },
    "tags": []
   },
   "outputs": [
    {
     "data": {
      "text/plain": [
       "4"
      ]
     },
     "execution_count": 64,
     "metadata": {},
     "output_type": "execute_result"
    }
   ],
   "source": [
    "sub_universes = universe_analysis.generate_sub_universes()\n",
    "len(sub_universes)"
   ]
  },
  {
   "cell_type": "code",
   "execution_count": 65,
   "id": "92adf7ba",
   "metadata": {
    "execution": {
     "iopub.execute_input": "2025-08-05T15:57:48.220229Z",
     "iopub.status.busy": "2025-08-05T15:57:48.219472Z",
     "iopub.status.idle": "2025-08-05T15:57:48.226468Z",
     "shell.execute_reply": "2025-08-05T15:57:48.225144Z"
    },
    "papermill": {
     "duration": 0.04511,
     "end_time": "2025-08-05T15:57:48.229106",
     "exception": false,
     "start_time": "2025-08-05T15:57:48.183996",
     "status": "completed"
    },
    "tags": []
   },
   "outputs": [],
   "source": [
    "def filter_sub_universe_data(sub_universe, org_test):\n",
    "    # Keep all rows — no filtering\n",
    "    keep_rows_mask = np.ones(org_test.shape[0], dtype=bool)\n",
    "\n",
    "    print(f\"[INFO] Keeping all rows: {keep_rows_mask.sum()} rows retained.\")\n",
    "    return keep_rows_mask"
   ]
  },
  {
   "cell_type": "code",
   "execution_count": 66,
   "id": "4a759155",
   "metadata": {
    "execution": {
     "iopub.execute_input": "2025-08-05T15:57:48.285301Z",
     "iopub.status.busy": "2025-08-05T15:57:48.283980Z",
     "iopub.status.idle": "2025-08-05T15:57:54.584605Z",
     "shell.execute_reply": "2025-08-05T15:57:54.583754Z"
    },
    "papermill": {
     "duration": 6.327661,
     "end_time": "2025-08-05T15:57:54.586079",
     "exception": false,
     "start_time": "2025-08-05T15:57:48.258418",
     "status": "completed"
    },
    "tags": []
   },
   "outputs": [
    {
     "name": "stdout",
     "output_type": "stream",
     "text": [
      "Stopping execution_time clock.\n",
      "[INFO] Keeping all rows: 89710 rows retained.\n"
     ]
    },
    {
     "name": "stdout",
     "output_type": "stream",
     "text": [
      "[INFO] Keeping all rows: 89710 rows retained.\n"
     ]
    },
    {
     "name": "stdout",
     "output_type": "stream",
     "text": [
      "[INFO] Keeping all rows: 89710 rows retained.\n"
     ]
    },
    {
     "name": "stdout",
     "output_type": "stream",
     "text": [
      "[INFO] Keeping all rows: 89710 rows retained.\n"
     ]
    },
    {
     "data": {
      "text/html": [
       "<div>\n",
       "<style scoped>\n",
       "    .dataframe tbody tr th:only-of-type {\n",
       "        vertical-align: middle;\n",
       "    }\n",
       "\n",
       "    .dataframe tbody tr th {\n",
       "        vertical-align: top;\n",
       "    }\n",
       "\n",
       "    .dataframe thead th {\n",
       "        text-align: right;\n",
       "    }\n",
       "</style>\n",
       "<table border=\"1\" class=\"dataframe\">\n",
       "  <thead>\n",
       "    <tr style=\"text-align: right;\">\n",
       "      <th></th>\n",
       "      <th>run_no</th>\n",
       "      <th>universe_id</th>\n",
       "      <th>universe_settings</th>\n",
       "      <th>execution_time</th>\n",
       "      <th>test_size_n</th>\n",
       "      <th>test_size_frac</th>\n",
       "      <th>fair_main_equalized_odds_difference</th>\n",
       "      <th>fair_main_equalized_odds_ratio</th>\n",
       "      <th>fair_main_demographic_parity_difference</th>\n",
       "      <th>fair_main_demographic_parity_ratio</th>\n",
       "      <th>...</th>\n",
       "      <th>perf_grp_precision_0</th>\n",
       "      <th>perf_grp_precision_1</th>\n",
       "      <th>perf_grp_false positive rate_0</th>\n",
       "      <th>perf_grp_false positive rate_1</th>\n",
       "      <th>perf_grp_false negative rate_0</th>\n",
       "      <th>perf_grp_false negative rate_1</th>\n",
       "      <th>perf_grp_selection rate_0</th>\n",
       "      <th>perf_grp_selection rate_1</th>\n",
       "      <th>perf_grp_count_0</th>\n",
       "      <th>perf_grp_count_1</th>\n",
       "    </tr>\n",
       "  </thead>\n",
       "  <tbody>\n",
       "    <tr>\n",
       "      <th>0</th>\n",
       "      <td>15</td>\n",
       "      <td>a19cc39ce50f4203127cd106e15e3c7a</td>\n",
       "      <td>{\"cutoff\": \"quantile_0.1\", \"eval_fairness_grou...</td>\n",
       "      <td>35.591636</td>\n",
       "      <td>89710</td>\n",
       "      <td>1.0</td>\n",
       "      <td>0.032899</td>\n",
       "      <td>0.966763</td>\n",
       "      <td>0.016113</td>\n",
       "      <td>0.982676</td>\n",
       "      <td>...</td>\n",
       "      <td>NaN</td>\n",
       "      <td>NaN</td>\n",
       "      <td>NaN</td>\n",
       "      <td>NaN</td>\n",
       "      <td>NaN</td>\n",
       "      <td>NaN</td>\n",
       "      <td>NaN</td>\n",
       "      <td>NaN</td>\n",
       "      <td>NaN</td>\n",
       "      <td>NaN</td>\n",
       "    </tr>\n",
       "    <tr>\n",
       "      <th>0</th>\n",
       "      <td>15</td>\n",
       "      <td>a19cc39ce50f4203127cd106e15e3c7a</td>\n",
       "      <td>{\"cutoff\": \"quantile_0.1\", \"eval_fairness_grou...</td>\n",
       "      <td>35.591636</td>\n",
       "      <td>89710</td>\n",
       "      <td>1.0</td>\n",
       "      <td>0.032899</td>\n",
       "      <td>0.966763</td>\n",
       "      <td>0.016113</td>\n",
       "      <td>0.982676</td>\n",
       "      <td>...</td>\n",
       "      <td>0.120705</td>\n",
       "      <td>0.140625</td>\n",
       "      <td>0.908376</td>\n",
       "      <td>0.920990</td>\n",
       "      <td>0.043074</td>\n",
       "      <td>0.010175</td>\n",
       "      <td>0.913973</td>\n",
       "      <td>0.930085</td>\n",
       "      <td>20540.0</td>\n",
       "      <td>69170.0</td>\n",
       "    </tr>\n",
       "    <tr>\n",
       "      <th>0</th>\n",
       "      <td>15</td>\n",
       "      <td>a19cc39ce50f4203127cd106e15e3c7a</td>\n",
       "      <td>{\"cutoff\": \"quantile_0.25\", \"eval_fairness_gro...</td>\n",
       "      <td>35.591636</td>\n",
       "      <td>89710</td>\n",
       "      <td>1.0</td>\n",
       "      <td>0.082630</td>\n",
       "      <td>0.913370</td>\n",
       "      <td>0.002426</td>\n",
       "      <td>0.996905</td>\n",
       "      <td>...</td>\n",
       "      <td>NaN</td>\n",
       "      <td>NaN</td>\n",
       "      <td>NaN</td>\n",
       "      <td>NaN</td>\n",
       "      <td>NaN</td>\n",
       "      <td>NaN</td>\n",
       "      <td>NaN</td>\n",
       "      <td>NaN</td>\n",
       "      <td>NaN</td>\n",
       "      <td>NaN</td>\n",
       "    </tr>\n",
       "    <tr>\n",
       "      <th>0</th>\n",
       "      <td>15</td>\n",
       "      <td>a19cc39ce50f4203127cd106e15e3c7a</td>\n",
       "      <td>{\"cutoff\": \"quantile_0.25\", \"eval_fairness_gro...</td>\n",
       "      <td>35.591636</td>\n",
       "      <td>89710</td>\n",
       "      <td>1.0</td>\n",
       "      <td>0.082630</td>\n",
       "      <td>0.913370</td>\n",
       "      <td>0.002426</td>\n",
       "      <td>0.996905</td>\n",
       "      <td>...</td>\n",
       "      <td>0.128544</td>\n",
       "      <td>0.160807</td>\n",
       "      <td>0.769646</td>\n",
       "      <td>0.757888</td>\n",
       "      <td>0.128801</td>\n",
       "      <td>0.046171</td>\n",
       "      <td>0.781353</td>\n",
       "      <td>0.783779</td>\n",
       "      <td>20540.0</td>\n",
       "      <td>69170.0</td>\n",
       "    </tr>\n",
       "  </tbody>\n",
       "</table>\n",
       "<p>4 rows × 50 columns</p>\n",
       "</div>"
      ],
      "text/plain": [
       "  run_no                       universe_id  \\\n",
       "0     15  a19cc39ce50f4203127cd106e15e3c7a   \n",
       "0     15  a19cc39ce50f4203127cd106e15e3c7a   \n",
       "0     15  a19cc39ce50f4203127cd106e15e3c7a   \n",
       "0     15  a19cc39ce50f4203127cd106e15e3c7a   \n",
       "\n",
       "                                   universe_settings  execution_time  \\\n",
       "0  {\"cutoff\": \"quantile_0.1\", \"eval_fairness_grou...       35.591636   \n",
       "0  {\"cutoff\": \"quantile_0.1\", \"eval_fairness_grou...       35.591636   \n",
       "0  {\"cutoff\": \"quantile_0.25\", \"eval_fairness_gro...       35.591636   \n",
       "0  {\"cutoff\": \"quantile_0.25\", \"eval_fairness_gro...       35.591636   \n",
       "\n",
       "   test_size_n  test_size_frac  fair_main_equalized_odds_difference  \\\n",
       "0        89710             1.0                             0.032899   \n",
       "0        89710             1.0                             0.032899   \n",
       "0        89710             1.0                             0.082630   \n",
       "0        89710             1.0                             0.082630   \n",
       "\n",
       "   fair_main_equalized_odds_ratio  fair_main_demographic_parity_difference  \\\n",
       "0                        0.966763                                 0.016113   \n",
       "0                        0.966763                                 0.016113   \n",
       "0                        0.913370                                 0.002426   \n",
       "0                        0.913370                                 0.002426   \n",
       "\n",
       "   fair_main_demographic_parity_ratio  ...  perf_grp_precision_0  \\\n",
       "0                            0.982676  ...                   NaN   \n",
       "0                            0.982676  ...              0.120705   \n",
       "0                            0.996905  ...                   NaN   \n",
       "0                            0.996905  ...              0.128544   \n",
       "\n",
       "   perf_grp_precision_1  perf_grp_false positive rate_0  \\\n",
       "0                   NaN                             NaN   \n",
       "0              0.140625                        0.908376   \n",
       "0                   NaN                             NaN   \n",
       "0              0.160807                        0.769646   \n",
       "\n",
       "   perf_grp_false positive rate_1  perf_grp_false negative rate_0  \\\n",
       "0                             NaN                             NaN   \n",
       "0                        0.920990                        0.043074   \n",
       "0                             NaN                             NaN   \n",
       "0                        0.757888                        0.128801   \n",
       "\n",
       "   perf_grp_false negative rate_1  perf_grp_selection rate_0  \\\n",
       "0                             NaN                        NaN   \n",
       "0                        0.010175                   0.913973   \n",
       "0                             NaN                        NaN   \n",
       "0                        0.046171                   0.781353   \n",
       "\n",
       "   perf_grp_selection rate_1  perf_grp_count_0  perf_grp_count_1  \n",
       "0                        NaN               NaN               NaN  \n",
       "0                   0.930085           20540.0           69170.0  \n",
       "0                        NaN               NaN               NaN  \n",
       "0                   0.783779           20540.0           69170.0  \n",
       "\n",
       "[4 rows x 50 columns]"
      ]
     },
     "execution_count": 66,
     "metadata": {},
     "output_type": "execute_result"
    }
   ],
   "source": [
    "final_output = universe_analysis.generate_final_output(\n",
    "    y_pred_prob=probs_test,\n",
    "    y_test=y_true,\n",
    "    org_test=org_test,\n",
    "    filter_data=filter_sub_universe_data,\n",
    "    cp_metrics_df=cp_metrics_df,\n",
    "    save=True,\n",
    ")\n",
    "final_output"
   ]
  }
 ],
 "metadata": {
  "celltoolbar": "Tags",
  "kernelspec": {
   "display_name": "Python (CMA Fairness)",
   "language": "python",
   "name": "cma_fair_env"
  },
  "language_info": {
   "codemirror_mode": {
    "name": "ipython",
    "version": 3
   },
   "file_extension": ".py",
   "mimetype": "text/x-python",
   "name": "python",
   "nbconvert_exporter": "python",
   "pygments_lexer": "ipython3",
   "version": "3.10.12"
  },
  "papermill": {
   "default_parameters": {},
   "duration": 46.209109,
   "end_time": "2025-08-05T15:57:55.422386",
   "environment_variables": {},
   "exception": null,
   "input_path": "universe_analysis.ipynb",
   "output_path": "output/runs/15/notebooks/m_15-a19cc39ce50f4203127cd106e15e3c7a.ipynb",
   "parameters": {
    "output_dir": "output",
    "run_no": "15",
    "seed": "2023",
    "universe": "{\"cutoff\": [\"quantile_0.1\", \"quantile_0.25\"], \"eval_fairness_grouping\": [\"majority-minority\", \"nationality-all\"], \"exclude_features\": \"none\", \"exclude_subgroups\": \"drop-non-german\", \"model\": \"rf\", \"scale\": \"do-not-scale\", \"training_size\": \"5k\", \"training_year\": \"2010_14\"}",
    "universe_id": "a19cc39ce50f4203127cd106e15e3c7a"
   },
   "start_time": "2025-08-05T15:57:09.213277",
   "version": "2.6.0"
  }
 },
 "nbformat": 4,
 "nbformat_minor": 5
}