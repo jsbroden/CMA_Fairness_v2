{
 "cells": [
  {
   "cell_type": "code",
   "execution_count": 1,
   "id": "f159f837-637b-42ba-96b5-ec9a68c44524",
   "metadata": {
    "execution": {
     "iopub.execute_input": "2025-08-05T15:56:27.732585Z",
     "iopub.status.busy": "2025-08-05T15:56:27.731804Z",
     "iopub.status.idle": "2025-08-05T15:56:27.746025Z",
     "shell.execute_reply": "2025-08-05T15:56:27.744917Z"
    },
    "papermill": {
     "duration": 0.035013,
     "end_time": "2025-08-05T15:56:27.747751",
     "exception": false,
     "start_time": "2025-08-05T15:56:27.712738",
     "status": "completed"
    },
    "tags": []
   },
   "outputs": [
    {
     "name": "stdout",
     "output_type": "stream",
     "text": [
      "/dss/dsshome1/0C/ra93lal2/cma/CMA_Fairness_v2\n"
     ]
    },
    {
     "name": "stderr",
     "output_type": "stream",
     "text": [
      "/dss/dsshome1/0C/ra93lal2/.local/share/virtualenvs/CMA_Fairness_v2-3j10GkSs/lib/python3.10/site-packages/IPython/core/magics/osm.py:393: UserWarning: This is now an optional IPython functionality, using bookmarks requires you to install the `pickleshare` library.\n",
      "  bkms = self.shell.db.get('bookmarks', {})\n",
      "/dss/dsshome1/0C/ra93lal2/.local/share/virtualenvs/CMA_Fairness_v2-3j10GkSs/lib/python3.10/site-packages/IPython/core/magics/osm.py:417: UserWarning: This is now an optional IPython functionality, setting dhist requires you to install the `pickleshare` library.\n",
      "  self.shell.db['dhist'] = compress_dhist(dhist)[-100:]\n"
     ]
    }
   ],
   "source": [
    "%cd ~/cma/CMA_Fairness_v2"
   ]
  },
  {
   "cell_type": "markdown",
   "id": "de2603b9",
   "metadata": {
    "papermill": {
     "duration": 0.01727,
     "end_time": "2025-08-05T15:56:27.783988",
     "exception": false,
     "start_time": "2025-08-05T15:56:27.766718",
     "status": "completed"
    },
    "tags": []
   },
   "source": [
    "The following cell holds the definition of our parameters, these values can be overriden by rendering the with e.g. the following command:\n",
    "\n",
    "papermill -p alpha 0.2 -p ratio 0.3 universe_analysis.ipynb output/test_run.ipynb"
   ]
  },
  {
   "cell_type": "code",
   "execution_count": 2,
   "id": "a80968a0-40bb-4fa9-85ef-2d5eefb01975",
   "metadata": {
    "execution": {
     "iopub.execute_input": "2025-08-05T15:56:27.821319Z",
     "iopub.status.busy": "2025-08-05T15:56:27.820414Z",
     "iopub.status.idle": "2025-08-05T15:56:27.826666Z",
     "shell.execute_reply": "2025-08-05T15:56:27.825398Z"
    },
    "papermill": {
     "duration": 0.026806,
     "end_time": "2025-08-05T15:56:27.828481",
     "exception": false,
     "start_time": "2025-08-05T15:56:27.801675",
     "status": "completed"
    },
    "tags": []
   },
   "outputs": [
    {
     "name": "stdout",
     "output_type": "stream",
     "text": [
      "Current working directory: /dss/dsshome1/0C/ra93lal2/cma/CMA_Fairness_v2\n"
     ]
    }
   ],
   "source": [
    "import os\n",
    "print(\"Current working directory:\", os.getcwd())"
   ]
  },
  {
   "cell_type": "code",
   "execution_count": 3,
   "id": "2dce4c03",
   "metadata": {
    "execution": {
     "iopub.execute_input": "2025-08-05T15:56:27.865675Z",
     "iopub.status.busy": "2025-08-05T15:56:27.864990Z",
     "iopub.status.idle": "2025-08-05T15:56:27.871604Z",
     "shell.execute_reply": "2025-08-05T15:56:27.870626Z"
    },
    "papermill": {
     "duration": 0.027117,
     "end_time": "2025-08-05T15:56:27.873386",
     "exception": false,
     "start_time": "2025-08-05T15:56:27.846269",
     "status": "completed"
    },
    "tags": [
     "parameters"
    ]
   },
   "outputs": [],
   "source": [
    "run_no = 0\n",
    "universe_id = \"test\"\n",
    "universe = {\n",
    "    \"training_size\": \"25k\", # \"25k\", \"5k\", \"1k\"\n",
    "    \"training_year\": \"2014\", # \"2014\", \"2012_14\", \"2010_14\"\n",
    "    \"scale\": \"scale\", # \"scale\", \"do-not-scale\",\n",
    "    \"model\": \"elasticnet\", # \"logreg\", \"penalized_logreg\", \"rf\", \"gbm\", \"elasticnet\"\n",
    "    \"cutoff\": [\"quantile_0.15\", \"quantile_0.30\"],\n",
    "    \"exclude_features\": \"age\", # \"none\", \"nationality\", \"sex\", \"nationality-sex\", \"age\"\n",
    "    \"exclude_subgroups\": \"keep-all\", # \"keep-all\", \"drop-non-german\"\n",
    "    \"eval_fairness_grouping\": [\"majority-minority\", \"nationality-all\"]\n",
    "}\n",
    "\n",
    "output_dir=\"./output\"\n",
    "seed=0"
   ]
  },
  {
   "cell_type": "code",
   "execution_count": 4,
   "id": "14753cbb",
   "metadata": {
    "execution": {
     "iopub.execute_input": "2025-08-05T15:56:27.912511Z",
     "iopub.status.busy": "2025-08-05T15:56:27.911596Z",
     "iopub.status.idle": "2025-08-05T15:56:27.917828Z",
     "shell.execute_reply": "2025-08-05T15:56:27.916767Z"
    },
    "papermill": {
     "duration": 0.027533,
     "end_time": "2025-08-05T15:56:27.919926",
     "exception": false,
     "start_time": "2025-08-05T15:56:27.892393",
     "status": "completed"
    },
    "tags": [
     "injected-parameters"
    ]
   },
   "outputs": [],
   "source": [
    "# Parameters\n",
    "universe_id = \"3a97d2797c6e4e6e435944430e9027de\"\n",
    "run_no = \"15\"\n",
    "universe = \"{\\\"cutoff\\\": [\\\"quantile_0.1\\\", \\\"quantile_0.25\\\"], \\\"eval_fairness_grouping\\\": [\\\"majority-minority\\\", \\\"nationality-all\\\"], \\\"exclude_features\\\": \\\"sex\\\", \\\"exclude_subgroups\\\": \\\"drop-non-german\\\", \\\"model\\\": \\\"penalized_logreg\\\", \\\"scale\\\": \\\"do-not-scale\\\", \\\"training_size\\\": \\\"5k\\\", \\\"training_year\\\": \\\"2010_14\\\"}\"\n",
    "output_dir = \"output\"\n",
    "seed = \"2023\"\n"
   ]
  },
  {
   "cell_type": "code",
   "execution_count": 5,
   "id": "1650acaf",
   "metadata": {
    "execution": {
     "iopub.execute_input": "2025-08-05T15:56:27.958202Z",
     "iopub.status.busy": "2025-08-05T15:56:27.957480Z",
     "iopub.status.idle": "2025-08-05T15:56:27.963358Z",
     "shell.execute_reply": "2025-08-05T15:56:27.962346Z"
    },
    "papermill": {
     "duration": 0.026765,
     "end_time": "2025-08-05T15:56:27.965174",
     "exception": false,
     "start_time": "2025-08-05T15:56:27.938409",
     "status": "completed"
    },
    "tags": []
   },
   "outputs": [],
   "source": [
    "import json\n",
    "if isinstance(universe, str):\n",
    "    universe = json.loads(universe)"
   ]
  },
  {
   "cell_type": "code",
   "execution_count": 6,
   "id": "16620c48",
   "metadata": {
    "execution": {
     "iopub.execute_input": "2025-08-05T15:56:28.003735Z",
     "iopub.status.busy": "2025-08-05T15:56:28.003049Z",
     "iopub.status.idle": "2025-08-05T15:56:28.049882Z",
     "shell.execute_reply": "2025-08-05T15:56:28.048903Z"
    },
    "papermill": {
     "duration": 0.06733,
     "end_time": "2025-08-05T15:56:28.052143",
     "exception": false,
     "start_time": "2025-08-05T15:56:27.984813",
     "status": "completed"
    },
    "tags": []
   },
   "outputs": [],
   "source": [
    "# Auto-reload the custom package\n",
    "%load_ext autoreload\n",
    "%autoreload 1\n",
    "%aimport fairness_multiverse"
   ]
  },
  {
   "cell_type": "code",
   "execution_count": 7,
   "id": "01c5c9f3",
   "metadata": {
    "execution": {
     "iopub.execute_input": "2025-08-05T15:56:28.088725Z",
     "iopub.status.busy": "2025-08-05T15:56:28.087855Z",
     "iopub.status.idle": "2025-08-05T15:56:29.977751Z",
     "shell.execute_reply": "2025-08-05T15:56:29.976898Z"
    },
    "papermill": {
     "duration": 1.910214,
     "end_time": "2025-08-05T15:56:29.979362",
     "exception": false,
     "start_time": "2025-08-05T15:56:28.069148",
     "status": "completed"
    },
    "tags": []
   },
   "outputs": [],
   "source": [
    "from fairness_multiverse.universe import UniverseAnalysis\n",
    "\n",
    "universe_analysis = UniverseAnalysis(\n",
    "    run_no = run_no,\n",
    "    universe_id = universe_id,\n",
    "    universe = universe,\n",
    "    output_dir=output_dir,\n",
    ")"
   ]
  },
  {
   "cell_type": "code",
   "execution_count": 8,
   "id": "106241f5",
   "metadata": {
    "execution": {
     "iopub.execute_input": "2025-08-05T15:56:30.000817Z",
     "iopub.status.busy": "2025-08-05T15:56:30.000278Z",
     "iopub.status.idle": "2025-08-05T15:56:30.007453Z",
     "shell.execute_reply": "2025-08-05T15:56:30.006459Z"
    },
    "papermill": {
     "duration": 0.024375,
     "end_time": "2025-08-05T15:56:30.013270",
     "exception": false,
     "start_time": "2025-08-05T15:56:29.988895",
     "status": "completed"
    },
    "tags": []
   },
   "outputs": [
    {
     "name": "stdout",
     "output_type": "stream",
     "text": [
      "Using Seed: 2023\n"
     ]
    }
   ],
   "source": [
    "import numpy as np\n",
    "parsed_seed = int(seed)\n",
    "np.random.seed(parsed_seed)\n",
    "print(f\"Using Seed: {parsed_seed}\")"
   ]
  },
  {
   "cell_type": "markdown",
   "id": "e0ebdc57",
   "metadata": {
    "papermill": {
     "duration": 0.017716,
     "end_time": "2025-08-05T15:56:30.051432",
     "exception": false,
     "start_time": "2025-08-05T15:56:30.033716",
     "status": "completed"
    },
    "tags": []
   },
   "source": [
    "# Loading Data"
   ]
  },
  {
   "cell_type": "code",
   "execution_count": 9,
   "id": "f0496b8a",
   "metadata": {
    "execution": {
     "iopub.execute_input": "2025-08-05T15:56:30.097679Z",
     "iopub.status.busy": "2025-08-05T15:56:30.097240Z",
     "iopub.status.idle": "2025-08-05T15:56:43.594283Z",
     "shell.execute_reply": "2025-08-05T15:56:43.593025Z"
    },
    "papermill": {
     "duration": 13.516089,
     "end_time": "2025-08-05T15:56:43.595908",
     "exception": false,
     "start_time": "2025-08-05T15:56:30.079819",
     "status": "completed"
    },
    "tags": []
   },
   "outputs": [
    {
     "name": "stdout",
     "output_type": "stream",
     "text": [
      "Loading SIAB data from cache: data/siab_cached.csv.gz\n"
     ]
    },
    {
     "name": "stdout",
     "output_type": "stream",
     "text": [
      "(643690, 164)\n"
     ]
    }
   ],
   "source": [
    "from pathlib import Path\n",
    "import pandas as pd\n",
    "\n",
    "# File paths\n",
    "raw_file = Path(\"data/raw/siab.csv\")\n",
    "cache_file = Path(\"data/siab_cached.csv.gz\")\n",
    "\n",
    "# Ensure cache directory exists\n",
    "cache_file.parent.mkdir(parents=True, exist_ok=True)\n",
    "\n",
    "# Load with simple caching\n",
    "if cache_file.exists():\n",
    "    print(f\"Loading SIAB data from cache: {cache_file}\")\n",
    "    siab = pd.read_csv(cache_file, compression='gzip')\n",
    "else:\n",
    "    print(f\"Cache not found. Reading raw SIAB data: {raw_file}\")\n",
    "    siab = pd.read_csv(raw_file)\n",
    "    siab.to_csv(cache_file, index=False, compression='gzip')\n",
    "    print(f\"Cached SIAB data to: {cache_file}\")\n",
    "\n",
    "print(siab.shape)"
   ]
  },
  {
   "cell_type": "code",
   "execution_count": 10,
   "id": "db0ca512-5f53-4dba-abdb-a2888bca41ba",
   "metadata": {
    "execution": {
     "iopub.execute_input": "2025-08-05T15:56:43.637278Z",
     "iopub.status.busy": "2025-08-05T15:56:43.636824Z",
     "iopub.status.idle": "2025-08-05T15:56:43.642616Z",
     "shell.execute_reply": "2025-08-05T15:56:43.641442Z"
    },
    "papermill": {
     "duration": 0.02722,
     "end_time": "2025-08-05T15:56:43.644464",
     "exception": false,
     "start_time": "2025-08-05T15:56:43.617244",
     "status": "completed"
    },
    "tags": []
   },
   "outputs": [],
   "source": [
    "#siab"
   ]
  },
  {
   "cell_type": "markdown",
   "id": "997051c5-15bd-4b69-9786-c3001a3ce484",
   "metadata": {
    "papermill": {
     "duration": 0.017829,
     "end_time": "2025-08-05T15:56:43.681051",
     "exception": false,
     "start_time": "2025-08-05T15:56:43.663222",
     "status": "completed"
    },
    "tags": []
   },
   "source": [
    "# Splitting Data and Setting Training Data Size"
   ]
  },
  {
   "cell_type": "code",
   "execution_count": 11,
   "id": "aea9c6ef-6f46-42c8-85eb-5a62025c1508",
   "metadata": {
    "execution": {
     "iopub.execute_input": "2025-08-05T15:56:43.719464Z",
     "iopub.status.busy": "2025-08-05T15:56:43.718955Z",
     "iopub.status.idle": "2025-08-05T15:56:44.723097Z",
     "shell.execute_reply": "2025-08-05T15:56:44.722116Z"
    },
    "papermill": {
     "duration": 1.025758,
     "end_time": "2025-08-05T15:56:44.725235",
     "exception": false,
     "start_time": "2025-08-05T15:56:43.699477",
     "status": "completed"
    },
    "tags": []
   },
   "outputs": [],
   "source": [
    "from fairness_multiverse.universe import sample_by_year_size\n",
    "\n",
    "siab_train = sample_by_year_size(siab,\n",
    "                               training_year=universe[\"training_year\"],\n",
    "                               training_size=universe[\"training_size\"])"
   ]
  },
  {
   "cell_type": "code",
   "execution_count": 12,
   "id": "8d3afb32-789d-442c-8d5d-9f5aa8dd2eed",
   "metadata": {
    "execution": {
     "iopub.execute_input": "2025-08-05T15:56:44.770321Z",
     "iopub.status.busy": "2025-08-05T15:56:44.769564Z",
     "iopub.status.idle": "2025-08-05T15:56:44.775497Z",
     "shell.execute_reply": "2025-08-05T15:56:44.774242Z"
    },
    "papermill": {
     "duration": 0.030284,
     "end_time": "2025-08-05T15:56:44.777648",
     "exception": false,
     "start_time": "2025-08-05T15:56:44.747364",
     "status": "completed"
    },
    "tags": []
   },
   "outputs": [],
   "source": [
    "#siab_train.shape"
   ]
  },
  {
   "cell_type": "code",
   "execution_count": 13,
   "id": "d582db68-1a4c-47fb-84fc-08518dc1975a",
   "metadata": {
    "execution": {
     "iopub.execute_input": "2025-08-05T15:56:44.824224Z",
     "iopub.status.busy": "2025-08-05T15:56:44.823544Z",
     "iopub.status.idle": "2025-08-05T15:56:44.829361Z",
     "shell.execute_reply": "2025-08-05T15:56:44.828406Z"
    },
    "papermill": {
     "duration": 0.031363,
     "end_time": "2025-08-05T15:56:44.831508",
     "exception": false,
     "start_time": "2025-08-05T15:56:44.800145",
     "status": "completed"
    },
    "tags": []
   },
   "outputs": [],
   "source": [
    "#display(siab_train.groupby(\"year\").size())"
   ]
  },
  {
   "cell_type": "code",
   "execution_count": 14,
   "id": "a561edb4-d032-42cb-8256-22eac1111c64",
   "metadata": {
    "execution": {
     "iopub.execute_input": "2025-08-05T15:56:44.878419Z",
     "iopub.status.busy": "2025-08-05T15:56:44.877745Z",
     "iopub.status.idle": "2025-08-05T15:56:45.124643Z",
     "shell.execute_reply": "2025-08-05T15:56:45.123705Z"
    },
    "papermill": {
     "duration": 0.27272,
     "end_time": "2025-08-05T15:56:45.126899",
     "exception": false,
     "start_time": "2025-08-05T15:56:44.854179",
     "status": "completed"
    },
    "tags": []
   },
   "outputs": [],
   "source": [
    "#siab_train = siab_s[siab_s.year < 2015]\n",
    "siab_calib = siab[siab.year == 2015]\n",
    "siab_test = siab[siab.year == 2016]"
   ]
  },
  {
   "cell_type": "code",
   "execution_count": 15,
   "id": "472de16f-c3db-4916-846b-1f0de9cf1746",
   "metadata": {
    "execution": {
     "iopub.execute_input": "2025-08-05T15:56:45.174308Z",
     "iopub.status.busy": "2025-08-05T15:56:45.173733Z",
     "iopub.status.idle": "2025-08-05T15:56:45.182395Z",
     "shell.execute_reply": "2025-08-05T15:56:45.181160Z"
    },
    "papermill": {
     "duration": 0.035016,
     "end_time": "2025-08-05T15:56:45.184279",
     "exception": false,
     "start_time": "2025-08-05T15:56:45.149263",
     "status": "completed"
    },
    "tags": []
   },
   "outputs": [],
   "source": [
    "X_train = siab_train.iloc[:,4:164]\n",
    "y_train = siab_train.iloc[:, [3]]"
   ]
  },
  {
   "cell_type": "code",
   "execution_count": 16,
   "id": "828c96af-f43a-4ed6-ba47-8ac73a47d56c",
   "metadata": {
    "execution": {
     "iopub.execute_input": "2025-08-05T15:56:45.226168Z",
     "iopub.status.busy": "2025-08-05T15:56:45.225220Z",
     "iopub.status.idle": "2025-08-05T15:56:45.279383Z",
     "shell.execute_reply": "2025-08-05T15:56:45.278304Z"
    },
    "papermill": {
     "duration": 0.07763,
     "end_time": "2025-08-05T15:56:45.281531",
     "exception": false,
     "start_time": "2025-08-05T15:56:45.203901",
     "status": "completed"
    },
    "tags": []
   },
   "outputs": [],
   "source": [
    "X_calib = siab_calib.iloc[:,4:164]\n",
    "y_calib = siab_calib.iloc[:, [3]]"
   ]
  },
  {
   "cell_type": "code",
   "execution_count": 17,
   "id": "c34be9c3-6bd6-476e-acd3-845840e303be",
   "metadata": {
    "execution": {
     "iopub.execute_input": "2025-08-05T15:56:45.326824Z",
     "iopub.status.busy": "2025-08-05T15:56:45.326036Z",
     "iopub.status.idle": "2025-08-05T15:56:45.381178Z",
     "shell.execute_reply": "2025-08-05T15:56:45.380055Z"
    },
    "papermill": {
     "duration": 0.078664,
     "end_time": "2025-08-05T15:56:45.383297",
     "exception": false,
     "start_time": "2025-08-05T15:56:45.304633",
     "status": "completed"
    },
    "tags": []
   },
   "outputs": [],
   "source": [
    "X_test = siab_test.iloc[:,4:164]\n",
    "y_true = siab_test.iloc[:, [3]]"
   ]
  },
  {
   "cell_type": "code",
   "execution_count": 18,
   "id": "e6c733c5",
   "metadata": {
    "execution": {
     "iopub.execute_input": "2025-08-05T15:56:45.420770Z",
     "iopub.status.busy": "2025-08-05T15:56:45.419751Z",
     "iopub.status.idle": "2025-08-05T15:56:45.518911Z",
     "shell.execute_reply": "2025-08-05T15:56:45.517768Z"
    },
    "papermill": {
     "duration": 0.120318,
     "end_time": "2025-08-05T15:56:45.520942",
     "exception": false,
     "start_time": "2025-08-05T15:56:45.400624",
     "status": "completed"
    },
    "tags": []
   },
   "outputs": [],
   "source": [
    "# Auxiliary data needed downstream in the pipeline\n",
    "\n",
    "org_train = X_train.copy()\n",
    "org_test = X_test.copy()\n",
    "org_calib = X_calib.copy()"
   ]
  },
  {
   "cell_type": "markdown",
   "id": "0a4a1b33",
   "metadata": {
    "papermill": {
     "duration": 0.018886,
     "end_time": "2025-08-05T15:56:45.560436",
     "exception": false,
     "start_time": "2025-08-05T15:56:45.541550",
     "status": "completed"
    },
    "tags": []
   },
   "source": [
    "# Preprocessing Data"
   ]
  },
  {
   "cell_type": "code",
   "execution_count": 19,
   "id": "ca879031",
   "metadata": {
    "execution": {
     "iopub.execute_input": "2025-08-05T15:56:45.598414Z",
     "iopub.status.busy": "2025-08-05T15:56:45.597831Z",
     "iopub.status.idle": "2025-08-05T15:56:45.605503Z",
     "shell.execute_reply": "2025-08-05T15:56:45.604346Z"
    },
    "papermill": {
     "duration": 0.028425,
     "end_time": "2025-08-05T15:56:45.607477",
     "exception": false,
     "start_time": "2025-08-05T15:56:45.579052",
     "status": "completed"
    },
    "tags": []
   },
   "outputs": [],
   "source": [
    "# EXCLUDE PROTECTED FEATURES\n",
    "# ----------------------\n",
    "# \"exclude_features\": \"none\", # \"nationality\", \"sex\", \"nationality-sex\"\n",
    "\n",
    "excluded_features = universe[\"exclude_features\"].split(\"-\") # split, e.g.: \"nationality-sex\" -> [\"nationality\", \"sex\"]\n",
    "excluded_features_dictionary = {\n",
    "    \"nationality\": [\"maxdeutsch1\", \"maxdeutsch.Missing.\"],\n",
    "    \"sex\": [\"frau1\"],\n",
    "    \"age\": [\"age\"],\n",
    "}"
   ]
  },
  {
   "cell_type": "code",
   "execution_count": 20,
   "id": "b745ac60",
   "metadata": {
    "execution": {
     "iopub.execute_input": "2025-08-05T15:56:45.645558Z",
     "iopub.status.busy": "2025-08-05T15:56:45.644872Z",
     "iopub.status.idle": "2025-08-05T15:56:45.650996Z",
     "shell.execute_reply": "2025-08-05T15:56:45.650148Z"
    },
    "papermill": {
     "duration": 0.027123,
     "end_time": "2025-08-05T15:56:45.652856",
     "exception": false,
     "start_time": "2025-08-05T15:56:45.625733",
     "status": "completed"
    },
    "tags": []
   },
   "outputs": [],
   "source": [
    "# Code nice names to column names\n",
    "\n",
    "excluded_features_columns = [\n",
    "    excluded_features_dictionary[f] for f in excluded_features if len(f) > 0 and f != \"none\"\n",
    "]"
   ]
  },
  {
   "cell_type": "code",
   "execution_count": 21,
   "id": "f84f73a2",
   "metadata": {
    "execution": {
     "iopub.execute_input": "2025-08-05T15:56:45.692745Z",
     "iopub.status.busy": "2025-08-05T15:56:45.691866Z",
     "iopub.status.idle": "2025-08-05T15:56:45.700435Z",
     "shell.execute_reply": "2025-08-05T15:56:45.699209Z"
    },
    "papermill": {
     "duration": 0.030356,
     "end_time": "2025-08-05T15:56:45.702249",
     "exception": false,
     "start_time": "2025-08-05T15:56:45.671893",
     "status": "completed"
    },
    "tags": []
   },
   "outputs": [],
   "source": [
    "from utils import flatten_once\n",
    "\n",
    "excluded_features_columns = flatten_once(excluded_features_columns)"
   ]
  },
  {
   "cell_type": "code",
   "execution_count": 22,
   "id": "884dea22",
   "metadata": {
    "execution": {
     "iopub.execute_input": "2025-08-05T15:56:45.740575Z",
     "iopub.status.busy": "2025-08-05T15:56:45.739583Z",
     "iopub.status.idle": "2025-08-05T15:56:45.749378Z",
     "shell.execute_reply": "2025-08-05T15:56:45.748116Z"
    },
    "papermill": {
     "duration": 0.031355,
     "end_time": "2025-08-05T15:56:45.751755",
     "exception": false,
     "start_time": "2025-08-05T15:56:45.720400",
     "status": "completed"
    },
    "tags": []
   },
   "outputs": [
    {
     "name": "stdout",
     "output_type": "stream",
     "text": [
      "Dropping features: ['frau1']\n"
     ]
    }
   ],
   "source": [
    "if len(excluded_features_columns) > 0:\n",
    "    print(f\"Dropping features: {excluded_features_columns}\")\n",
    "    X_train.drop(excluded_features_columns, axis=1, inplace=True)"
   ]
  },
  {
   "cell_type": "code",
   "execution_count": 23,
   "id": "95ab8b16",
   "metadata": {
    "execution": {
     "iopub.execute_input": "2025-08-05T15:56:45.809372Z",
     "iopub.status.busy": "2025-08-05T15:56:45.808613Z",
     "iopub.status.idle": "2025-08-05T15:56:45.893958Z",
     "shell.execute_reply": "2025-08-05T15:56:45.892561Z"
    },
    "papermill": {
     "duration": 0.115745,
     "end_time": "2025-08-05T15:56:45.896212",
     "exception": false,
     "start_time": "2025-08-05T15:56:45.780467",
     "status": "completed"
    },
    "tags": []
   },
   "outputs": [
    {
     "name": "stdout",
     "output_type": "stream",
     "text": [
      "Dropping features: ['frau1']\n"
     ]
    }
   ],
   "source": [
    "if len(excluded_features_columns) > 0:\n",
    "    print(f\"Dropping features: {excluded_features_columns}\")\n",
    "    X_test.drop(excluded_features_columns, axis=1, inplace=True)"
   ]
  },
  {
   "cell_type": "code",
   "execution_count": 24,
   "id": "1853aaf5-fb9f-46cb-a2b5-8ea4ae2237e4",
   "metadata": {
    "execution": {
     "iopub.execute_input": "2025-08-05T15:56:45.951403Z",
     "iopub.status.busy": "2025-08-05T15:56:45.950990Z",
     "iopub.status.idle": "2025-08-05T15:56:46.004892Z",
     "shell.execute_reply": "2025-08-05T15:56:46.003317Z"
    },
    "papermill": {
     "duration": 0.084995,
     "end_time": "2025-08-05T15:56:46.008470",
     "exception": false,
     "start_time": "2025-08-05T15:56:45.923475",
     "status": "completed"
    },
    "tags": []
   },
   "outputs": [
    {
     "name": "stdout",
     "output_type": "stream",
     "text": [
      "Dropping features: ['frau1']\n"
     ]
    }
   ],
   "source": [
    "if len(excluded_features_columns) > 0:\n",
    "    print(f\"Dropping features: {excluded_features_columns}\")\n",
    "    X_calib.drop(excluded_features_columns, axis=1, inplace=True)"
   ]
  },
  {
   "cell_type": "code",
   "execution_count": 25,
   "id": "76c4dc6d",
   "metadata": {
    "execution": {
     "iopub.execute_input": "2025-08-05T15:56:46.065910Z",
     "iopub.status.busy": "2025-08-05T15:56:46.065400Z",
     "iopub.status.idle": "2025-08-05T15:56:46.071968Z",
     "shell.execute_reply": "2025-08-05T15:56:46.070669Z"
    },
    "papermill": {
     "duration": 0.038044,
     "end_time": "2025-08-05T15:56:46.074427",
     "exception": false,
     "start_time": "2025-08-05T15:56:46.036383",
     "status": "completed"
    },
    "tags": []
   },
   "outputs": [],
   "source": [
    "# EXCLUDE CERTAIN SUBGROUPS\n",
    "# ----------------------\n",
    "\n",
    "mode = universe.get(\"exclude_subgroups\", \"keep-all\") \n",
    "# Fetches the exclude_subgroups setting from the universe dict.\n",
    "# Defaults to \"keep-all\" if the key is missing."
   ]
  },
  {
   "cell_type": "code",
   "execution_count": 26,
   "id": "21994072",
   "metadata": {
    "execution": {
     "iopub.execute_input": "2025-08-05T15:56:46.131880Z",
     "iopub.status.busy": "2025-08-05T15:56:46.131019Z",
     "iopub.status.idle": "2025-08-05T15:56:46.138695Z",
     "shell.execute_reply": "2025-08-05T15:56:46.137630Z"
    },
    "papermill": {
     "duration": 0.038037,
     "end_time": "2025-08-05T15:56:46.140817",
     "exception": false,
     "start_time": "2025-08-05T15:56:46.102780",
     "status": "completed"
    },
    "tags": []
   },
   "outputs": [],
   "source": [
    "if mode == \"keep-all\":\n",
    "    keep_mask = pd.Series(True, index=org_train.index)\n",
    "\n",
    "# org_train contains the original feature columns from features_org (in Simson)\n",
    "# features_org contains unprocessed features, for me X_train at beginning ???\n",
    "# For keep-all, creates a boolean Series (keep_mask) of all True, so no rows are removed.\n",
    "\n",
    "elif mode == \"drop-non-german\":\n",
    "    keep_mask = org_train[\"maxdeutsch1\"] == 1 # ??? what about missing values?\n",
    "\n",
    "else:\n",
    "    raise ValueError(f\"Unsupported mode for exclude_subgroups: {mode}\")"
   ]
  },
  {
   "cell_type": "code",
   "execution_count": 27,
   "id": "71651440",
   "metadata": {
    "execution": {
     "iopub.execute_input": "2025-08-05T15:56:46.198286Z",
     "iopub.status.busy": "2025-08-05T15:56:46.197891Z",
     "iopub.status.idle": "2025-08-05T15:56:46.206498Z",
     "shell.execute_reply": "2025-08-05T15:56:46.205251Z"
    },
    "papermill": {
     "duration": 0.039731,
     "end_time": "2025-08-05T15:56:46.208830",
     "exception": false,
     "start_time": "2025-08-05T15:56:46.169099",
     "status": "completed"
    },
    "tags": []
   },
   "outputs": [
    {
     "name": "stdout",
     "output_type": "stream",
     "text": [
      "Dropping 657 rows (13.14%) where mode='drop-non-german'"
     ]
    },
    {
     "name": "stdout",
     "output_type": "stream",
     "text": [
      "\n"
     ]
    }
   ],
   "source": [
    "n_drop = (~keep_mask).sum() # Calculates how many rows are set to be dropped\n",
    "if n_drop > 0:\n",
    "    pct = n_drop / len(keep_mask) * 100\n",
    "    print(f\"Dropping {n_drop} rows ({pct:.2f}%) where mode='{mode}'\")"
   ]
  },
  {
   "cell_type": "code",
   "execution_count": 28,
   "id": "5fb8eee5",
   "metadata": {
    "execution": {
     "iopub.execute_input": "2025-08-05T15:56:46.266895Z",
     "iopub.status.busy": "2025-08-05T15:56:46.266119Z",
     "iopub.status.idle": "2025-08-05T15:56:46.274610Z",
     "shell.execute_reply": "2025-08-05T15:56:46.273481Z"
    },
    "papermill": {
     "duration": 0.039957,
     "end_time": "2025-08-05T15:56:46.277037",
     "exception": false,
     "start_time": "2025-08-05T15:56:46.237080",
     "status": "completed"
    },
    "tags": []
   },
   "outputs": [],
   "source": [
    "X_train = X_train[keep_mask]"
   ]
  },
  {
   "cell_type": "code",
   "execution_count": 29,
   "id": "b202bb3a",
   "metadata": {
    "execution": {
     "iopub.execute_input": "2025-08-05T15:56:46.333610Z",
     "iopub.status.busy": "2025-08-05T15:56:46.332759Z",
     "iopub.status.idle": "2025-08-05T15:56:46.340005Z",
     "shell.execute_reply": "2025-08-05T15:56:46.338778Z"
    },
    "papermill": {
     "duration": 0.037595,
     "end_time": "2025-08-05T15:56:46.342477",
     "exception": false,
     "start_time": "2025-08-05T15:56:46.304882",
     "status": "completed"
    },
    "tags": []
   },
   "outputs": [],
   "source": [
    "y_train = y_train[keep_mask]"
   ]
  },
  {
   "cell_type": "markdown",
   "id": "493e2ac3",
   "metadata": {
    "papermill": {
     "duration": 0.027047,
     "end_time": "2025-08-05T15:56:46.397294",
     "exception": false,
     "start_time": "2025-08-05T15:56:46.370247",
     "status": "completed"
    },
    "tags": []
   },
   "source": [
    "# Model Training"
   ]
  },
  {
   "cell_type": "code",
   "execution_count": 30,
   "id": "679e1268",
   "metadata": {
    "execution": {
     "iopub.execute_input": "2025-08-05T15:56:46.454651Z",
     "iopub.status.busy": "2025-08-05T15:56:46.454222Z",
     "iopub.status.idle": "2025-08-05T15:56:46.616953Z",
     "shell.execute_reply": "2025-08-05T15:56:46.616220Z"
    },
    "papermill": {
     "duration": 0.193402,
     "end_time": "2025-08-05T15:56:46.618355",
     "exception": false,
     "start_time": "2025-08-05T15:56:46.424953",
     "status": "completed"
    },
    "tags": []
   },
   "outputs": [],
   "source": [
    "from sklearn.linear_model import LogisticRegression\n",
    "from sklearn.ensemble import GradientBoostingClassifier, RandomForestClassifier\n",
    "\n",
    "if (universe[\"model\"] == \"logreg\"):\n",
    "    model = LogisticRegression() #penalty=\"none\", solver=\"newton-cg\", max_iter=1) # include random_state=19 ?\n",
    "elif (universe[\"model\"] == \"penalized_logreg\"):\n",
    "    model = LogisticRegression(penalty=\"l2\", C=0.1) #, solver=\"newton-cg\", max_iter=1)\n",
    "elif (universe[\"model\"] == \"rf\"):\n",
    "    model = RandomForestClassifier() # n_estimators=100, n_jobs=-1\n",
    "elif (universe[\"model\"] == \"gbm\"):\n",
    "    model = GradientBoostingClassifier()\n",
    "elif (universe[\"model\"] == \"elasticnet\"):\n",
    "    model = LogisticRegression(penalty = 'elasticnet', solver = 'saga', l1_ratio = 0.5) # max_iter=5000\n",
    "else:\n",
    "    raise \"Unsupported universe.model\""
   ]
  },
  {
   "cell_type": "code",
   "execution_count": 31,
   "id": "0cc8f744",
   "metadata": {
    "execution": {
     "iopub.execute_input": "2025-08-05T15:56:46.642042Z",
     "iopub.status.busy": "2025-08-05T15:56:46.641092Z",
     "iopub.status.idle": "2025-08-05T15:56:46.646112Z",
     "shell.execute_reply": "2025-08-05T15:56:46.645319Z"
    },
    "papermill": {
     "duration": 0.01859,
     "end_time": "2025-08-05T15:56:46.647233",
     "exception": false,
     "start_time": "2025-08-05T15:56:46.628643",
     "status": "completed"
    },
    "tags": []
   },
   "outputs": [],
   "source": [
    "import numpy as np\n",
    "from sklearn.pipeline import Pipeline\n",
    "from sklearn.preprocessing import StandardScaler\n",
    "\n",
    "model = Pipeline([\n",
    "    #(\"continuous_processor\", continuous_processor),\n",
    "    #(\"categorical_preprocessor\", categorical_preprocessor),\n",
    "    (\"scale\", StandardScaler() if universe[\"scale\"] == \"scale\" else None), \n",
    "    (\"model\", model),\n",
    "])"
   ]
  },
  {
   "cell_type": "code",
   "execution_count": 32,
   "id": "9442c04d",
   "metadata": {
    "execution": {
     "iopub.execute_input": "2025-08-05T15:56:46.670394Z",
     "iopub.status.busy": "2025-08-05T15:56:46.669334Z",
     "iopub.status.idle": "2025-08-05T15:56:46.814763Z",
     "shell.execute_reply": "2025-08-05T15:56:46.813646Z"
    },
    "papermill": {
     "duration": 0.158243,
     "end_time": "2025-08-05T15:56:46.816583",
     "exception": false,
     "start_time": "2025-08-05T15:56:46.658340",
     "status": "completed"
    },
    "tags": []
   },
   "outputs": [
    {
     "name": "stderr",
     "output_type": "stream",
     "text": [
      "/dss/dsshome1/0C/ra93lal2/.local/share/virtualenvs/CMA_Fairness_v2-3j10GkSs/lib/python3.10/site-packages/sklearn/linear_model/_logistic.py:444: ConvergenceWarning: lbfgs failed to converge (status=1):\n",
      "STOP: TOTAL NO. of ITERATIONS REACHED LIMIT.\n",
      "\n",
      "Increase the number of iterations (max_iter) or scale the data as shown in:\n",
      "    https://scikit-learn.org/stable/modules/preprocessing.html\n",
      "Please also refer to the documentation for alternative solver options:\n",
      "    https://scikit-learn.org/stable/modules/linear_model.html#logistic-regression\n",
      "  n_iter_i = _check_optimize_result(\n"
     ]
    },
    {
     "data": {
      "text/html": [
       "<style>#sk-container-id-1 {color: black;background-color: white;}#sk-container-id-1 pre{padding: 0;}#sk-container-id-1 div.sk-toggleable {background-color: white;}#sk-container-id-1 label.sk-toggleable__label {cursor: pointer;display: block;width: 100%;margin-bottom: 0;padding: 0.3em;box-sizing: border-box;text-align: center;}#sk-container-id-1 label.sk-toggleable__label-arrow:before {content: \"▸\";float: left;margin-right: 0.25em;color: #696969;}#sk-container-id-1 label.sk-toggleable__label-arrow:hover:before {color: black;}#sk-container-id-1 div.sk-estimator:hover label.sk-toggleable__label-arrow:before {color: black;}#sk-container-id-1 div.sk-toggleable__content {max-height: 0;max-width: 0;overflow: hidden;text-align: left;background-color: #f0f8ff;}#sk-container-id-1 div.sk-toggleable__content pre {margin: 0.2em;color: black;border-radius: 0.25em;background-color: #f0f8ff;}#sk-container-id-1 input.sk-toggleable__control:checked~div.sk-toggleable__content {max-height: 200px;max-width: 100%;overflow: auto;}#sk-container-id-1 input.sk-toggleable__control:checked~label.sk-toggleable__label-arrow:before {content: \"▾\";}#sk-container-id-1 div.sk-estimator input.sk-toggleable__control:checked~label.sk-toggleable__label {background-color: #d4ebff;}#sk-container-id-1 div.sk-label input.sk-toggleable__control:checked~label.sk-toggleable__label {background-color: #d4ebff;}#sk-container-id-1 input.sk-hidden--visually {border: 0;clip: rect(1px 1px 1px 1px);clip: rect(1px, 1px, 1px, 1px);height: 1px;margin: -1px;overflow: hidden;padding: 0;position: absolute;width: 1px;}#sk-container-id-1 div.sk-estimator {font-family: monospace;background-color: #f0f8ff;border: 1px dotted black;border-radius: 0.25em;box-sizing: border-box;margin-bottom: 0.5em;}#sk-container-id-1 div.sk-estimator:hover {background-color: #d4ebff;}#sk-container-id-1 div.sk-parallel-item::after {content: \"\";width: 100%;border-bottom: 1px solid gray;flex-grow: 1;}#sk-container-id-1 div.sk-label:hover label.sk-toggleable__label {background-color: #d4ebff;}#sk-container-id-1 div.sk-serial::before {content: \"\";position: absolute;border-left: 1px solid gray;box-sizing: border-box;top: 0;bottom: 0;left: 50%;z-index: 0;}#sk-container-id-1 div.sk-serial {display: flex;flex-direction: column;align-items: center;background-color: white;padding-right: 0.2em;padding-left: 0.2em;position: relative;}#sk-container-id-1 div.sk-item {position: relative;z-index: 1;}#sk-container-id-1 div.sk-parallel {display: flex;align-items: stretch;justify-content: center;background-color: white;position: relative;}#sk-container-id-1 div.sk-item::before, #sk-container-id-1 div.sk-parallel-item::before {content: \"\";position: absolute;border-left: 1px solid gray;box-sizing: border-box;top: 0;bottom: 0;left: 50%;z-index: -1;}#sk-container-id-1 div.sk-parallel-item {display: flex;flex-direction: column;z-index: 1;position: relative;background-color: white;}#sk-container-id-1 div.sk-parallel-item:first-child::after {align-self: flex-end;width: 50%;}#sk-container-id-1 div.sk-parallel-item:last-child::after {align-self: flex-start;width: 50%;}#sk-container-id-1 div.sk-parallel-item:only-child::after {width: 0;}#sk-container-id-1 div.sk-dashed-wrapped {border: 1px dashed gray;margin: 0 0.4em 0.5em 0.4em;box-sizing: border-box;padding-bottom: 0.4em;background-color: white;}#sk-container-id-1 div.sk-label label {font-family: monospace;font-weight: bold;display: inline-block;line-height: 1.2em;}#sk-container-id-1 div.sk-label-container {text-align: center;}#sk-container-id-1 div.sk-container {/* jupyter's `normalize.less` sets `[hidden] { display: none; }` but bootstrap.min.css set `[hidden] { display: none !important; }` so we also need the `!important` here to be able to override the default hidden behavior on the sphinx rendered scikit-learn.org. See: https://github.com/scikit-learn/scikit-learn/issues/21755 */display: inline-block !important;position: relative;}#sk-container-id-1 div.sk-text-repr-fallback {display: none;}</style><div id=\"sk-container-id-1\" class=\"sk-top-container\"><div class=\"sk-text-repr-fallback\"><pre>Pipeline(steps=[(&#x27;scale&#x27;, None), (&#x27;model&#x27;, LogisticRegression(C=0.1))])</pre><b>In a Jupyter environment, please rerun this cell to show the HTML representation or trust the notebook. <br />On GitHub, the HTML representation is unable to render, please try loading this page with nbviewer.org.</b></div><div class=\"sk-container\" hidden><div class=\"sk-item sk-dashed-wrapped\"><div class=\"sk-label-container\"><div class=\"sk-label sk-toggleable\"><input class=\"sk-toggleable__control sk-hidden--visually\" id=\"sk-estimator-id-1\" type=\"checkbox\" ><label for=\"sk-estimator-id-1\" class=\"sk-toggleable__label sk-toggleable__label-arrow\">Pipeline</label><div class=\"sk-toggleable__content\"><pre>Pipeline(steps=[(&#x27;scale&#x27;, None), (&#x27;model&#x27;, LogisticRegression(C=0.1))])</pre></div></div></div><div class=\"sk-serial\"><div class=\"sk-item\"><div class=\"sk-estimator sk-toggleable\"><input class=\"sk-toggleable__control sk-hidden--visually\" id=\"sk-estimator-id-2\" type=\"checkbox\" ><label for=\"sk-estimator-id-2\" class=\"sk-toggleable__label sk-toggleable__label-arrow\">None</label><div class=\"sk-toggleable__content\"><pre>None</pre></div></div></div><div class=\"sk-item\"><div class=\"sk-estimator sk-toggleable\"><input class=\"sk-toggleable__control sk-hidden--visually\" id=\"sk-estimator-id-3\" type=\"checkbox\" ><label for=\"sk-estimator-id-3\" class=\"sk-toggleable__label sk-toggleable__label-arrow\">LogisticRegression</label><div class=\"sk-toggleable__content\"><pre>LogisticRegression(C=0.1)</pre></div></div></div></div></div></div></div>"
      ],
      "text/plain": [
       "Pipeline(steps=[('scale', None), ('model', LogisticRegression(C=0.1))])"
      ]
     },
     "execution_count": 32,
     "metadata": {},
     "output_type": "execute_result"
    }
   ],
   "source": [
    "model.fit(X_train, y_train.values.ravel())"
   ]
  },
  {
   "cell_type": "code",
   "execution_count": 33,
   "id": "af59f8c0",
   "metadata": {
    "execution": {
     "iopub.execute_input": "2025-08-05T15:56:46.868350Z",
     "iopub.status.busy": "2025-08-05T15:56:46.867353Z",
     "iopub.status.idle": "2025-08-05T15:56:46.873809Z",
     "shell.execute_reply": "2025-08-05T15:56:46.872581Z"
    },
    "papermill": {
     "duration": 0.033887,
     "end_time": "2025-08-05T15:56:46.876222",
     "exception": false,
     "start_time": "2025-08-05T15:56:46.842335",
     "status": "completed"
    },
    "tags": []
   },
   "outputs": [],
   "source": [
    "from fairness_multiverse.universe import predict_w_threshold"
   ]
  },
  {
   "cell_type": "code",
   "execution_count": 34,
   "id": "a7cf2e16",
   "metadata": {
    "execution": {
     "iopub.execute_input": "2025-08-05T15:56:46.932990Z",
     "iopub.status.busy": "2025-08-05T15:56:46.931921Z",
     "iopub.status.idle": "2025-08-05T15:56:47.031906Z",
     "shell.execute_reply": "2025-08-05T15:56:47.030686Z"
    },
    "papermill": {
     "duration": 0.130396,
     "end_time": "2025-08-05T15:56:47.033930",
     "exception": false,
     "start_time": "2025-08-05T15:56:46.903534",
     "status": "completed"
    },
    "tags": []
   },
   "outputs": [
    {
     "data": {
      "text/plain": [
       "0.8609742503622785"
      ]
     },
     "execution_count": 34,
     "metadata": {},
     "output_type": "execute_result"
    }
   ],
   "source": [
    "probs_test = model.predict_proba(X_test)\n",
    "\n",
    "'''\n",
    "Below code returns a boolean array (or binary 0/1 array depending on how it’s used) where each element \n",
    "is True if the probability of class 1 is greater than or equal to the threshold, and False otherwise.\n",
    "'''\n",
    "y_pred_default = predict_w_threshold(probs_test, 0.5)\n",
    "\n",
    "from sklearn.metrics import accuracy_score\n",
    "\n",
    "# Naive prediction\n",
    "accuracy_score(y_true = y_true, y_pred = y_pred_default)"
   ]
  },
  {
   "cell_type": "code",
   "execution_count": 35,
   "id": "081964c3",
   "metadata": {
    "execution": {
     "iopub.execute_input": "2025-08-05T15:56:47.080262Z",
     "iopub.status.busy": "2025-08-05T15:56:47.079279Z",
     "iopub.status.idle": "2025-08-05T15:56:47.231726Z",
     "shell.execute_reply": "2025-08-05T15:56:47.230548Z"
    },
    "papermill": {
     "duration": 0.177435,
     "end_time": "2025-08-05T15:56:47.233666",
     "exception": false,
     "start_time": "2025-08-05T15:56:47.056231",
     "status": "completed"
    },
    "tags": []
   },
   "outputs": [
    {
     "data": {
      "text/plain": [
       "array([0, 0, 0, ..., 0, 0, 0])"
      ]
     },
     "execution_count": 35,
     "metadata": {},
     "output_type": "execute_result"
    }
   ],
   "source": [
    "model.predict(X_test)"
   ]
  },
  {
   "cell_type": "markdown",
   "id": "56c9705b",
   "metadata": {
    "papermill": {
     "duration": 0.022298,
     "end_time": "2025-08-05T15:56:47.278464",
     "exception": false,
     "start_time": "2025-08-05T15:56:47.256166",
     "status": "completed"
    },
    "tags": []
   },
   "source": [
    "# Conformal Prediction"
   ]
  },
  {
   "cell_type": "code",
   "execution_count": 36,
   "id": "160ec6ff",
   "metadata": {
    "execution": {
     "iopub.execute_input": "2025-08-05T15:56:47.325225Z",
     "iopub.status.busy": "2025-08-05T15:56:47.324485Z",
     "iopub.status.idle": "2025-08-05T15:56:47.331010Z",
     "shell.execute_reply": "2025-08-05T15:56:47.329766Z"
    },
    "papermill": {
     "duration": 0.032053,
     "end_time": "2025-08-05T15:56:47.332963",
     "exception": false,
     "start_time": "2025-08-05T15:56:47.300910",
     "status": "completed"
    },
    "tags": []
   },
   "outputs": [],
   "source": [
    "# Miscoverage level for conformal prediction (10% allowed error rate => 90% target coverage)\n",
    "alpha = 0.1"
   ]
  },
  {
   "cell_type": "code",
   "execution_count": 37,
   "id": "eadf4555-3dd3-440e-8e35-f82a4ad9f855",
   "metadata": {
    "execution": {
     "iopub.execute_input": "2025-08-05T15:56:47.381236Z",
     "iopub.status.busy": "2025-08-05T15:56:47.380390Z",
     "iopub.status.idle": "2025-08-05T15:56:47.469236Z",
     "shell.execute_reply": "2025-08-05T15:56:47.468135Z"
    },
    "papermill": {
     "duration": 0.115905,
     "end_time": "2025-08-05T15:56:47.471762",
     "exception": false,
     "start_time": "2025-08-05T15:56:47.355857",
     "status": "completed"
    },
    "tags": []
   },
   "outputs": [],
   "source": [
    "probs_calib = model.predict_proba(X_calib)"
   ]
  },
  {
   "cell_type": "code",
   "execution_count": 38,
   "id": "2ed93547-6d5d-4983-9b36-1ecb300da49a",
   "metadata": {
    "execution": {
     "iopub.execute_input": "2025-08-05T15:56:47.529858Z",
     "iopub.status.busy": "2025-08-05T15:56:47.529240Z",
     "iopub.status.idle": "2025-08-05T15:56:47.536184Z",
     "shell.execute_reply": "2025-08-05T15:56:47.534831Z"
    },
    "papermill": {
     "duration": 0.038821,
     "end_time": "2025-08-05T15:56:47.538678",
     "exception": false,
     "start_time": "2025-08-05T15:56:47.499857",
     "status": "completed"
    },
    "tags": []
   },
   "outputs": [],
   "source": [
    "y_calib = y_calib.values.ravel().astype(int)"
   ]
  },
  {
   "cell_type": "code",
   "execution_count": 39,
   "id": "65d1320d-f588-4b38-9072-62af1ae97f7d",
   "metadata": {
    "execution": {
     "iopub.execute_input": "2025-08-05T15:56:47.598069Z",
     "iopub.status.busy": "2025-08-05T15:56:47.597234Z",
     "iopub.status.idle": "2025-08-05T15:56:47.606574Z",
     "shell.execute_reply": "2025-08-05T15:56:47.605152Z"
    },
    "papermill": {
     "duration": 0.041391,
     "end_time": "2025-08-05T15:56:47.608690",
     "exception": false,
     "start_time": "2025-08-05T15:56:47.567299",
     "status": "completed"
    },
    "tags": []
   },
   "outputs": [],
   "source": [
    "from fairness_multiverse.conformal import compute_nc_scores\n",
    "\n",
    "# Compute nonconformity scores on calibration set (1 - probability of true class)\n",
    "nc_scores = compute_nc_scores(probs_calib, y_calib)"
   ]
  },
  {
   "cell_type": "code",
   "execution_count": 40,
   "id": "df3b8ca3-53b7-43d5-9667-7c85da7aeda2",
   "metadata": {
    "execution": {
     "iopub.execute_input": "2025-08-05T15:56:47.658745Z",
     "iopub.status.busy": "2025-08-05T15:56:47.657805Z",
     "iopub.status.idle": "2025-08-05T15:56:47.665023Z",
     "shell.execute_reply": "2025-08-05T15:56:47.663837Z"
    },
    "papermill": {
     "duration": 0.034065,
     "end_time": "2025-08-05T15:56:47.667255",
     "exception": false,
     "start_time": "2025-08-05T15:56:47.633190",
     "status": "completed"
    },
    "tags": []
   },
   "outputs": [],
   "source": [
    "from fairness_multiverse.conformal import find_threshold\n",
    "\n",
    "# Find conformal threshold q_hat for the given alpha (split conformal method)\n",
    "q_hat = find_threshold(nc_scores, alpha)"
   ]
  },
  {
   "cell_type": "code",
   "execution_count": 41,
   "id": "4d29e6c1-0ef6-4aa4-b8fe-4fe79b0d033a",
   "metadata": {
    "execution": {
     "iopub.execute_input": "2025-08-05T15:56:47.726280Z",
     "iopub.status.busy": "2025-08-05T15:56:47.725640Z",
     "iopub.status.idle": "2025-08-05T15:56:47.733790Z",
     "shell.execute_reply": "2025-08-05T15:56:47.732714Z"
    },
    "papermill": {
     "duration": 0.039542,
     "end_time": "2025-08-05T15:56:47.735811",
     "exception": false,
     "start_time": "2025-08-05T15:56:47.696269",
     "status": "completed"
    },
    "tags": []
   },
   "outputs": [
    {
     "data": {
      "text/plain": [
       "0.671171542274722"
      ]
     },
     "execution_count": 41,
     "metadata": {},
     "output_type": "execute_result"
    }
   ],
   "source": [
    "q_hat"
   ]
  },
  {
   "cell_type": "code",
   "execution_count": 42,
   "id": "92460794-cdac-4be2-ba28-f28c0515a6fb",
   "metadata": {
    "execution": {
     "iopub.execute_input": "2025-08-05T15:56:47.802283Z",
     "iopub.status.busy": "2025-08-05T15:56:47.801422Z",
     "iopub.status.idle": "2025-08-05T15:56:48.693456Z",
     "shell.execute_reply": "2025-08-05T15:56:48.692201Z"
    },
    "papermill": {
     "duration": 0.936888,
     "end_time": "2025-08-05T15:56:48.695246",
     "exception": false,
     "start_time": "2025-08-05T15:56:47.758358",
     "status": "completed"
    },
    "tags": []
   },
   "outputs": [],
   "source": [
    "from fairness_multiverse.conformal import predict_conformal_sets\n",
    "\n",
    "# Generate prediction sets for each test example\n",
    "pred_sets = predict_conformal_sets(model, X_test, q_hat)"
   ]
  },
  {
   "cell_type": "code",
   "execution_count": 43,
   "id": "d90c9a65-e6db-4f5d-80cd-e68fb7e46829",
   "metadata": {
    "execution": {
     "iopub.execute_input": "2025-08-05T15:56:48.727411Z",
     "iopub.status.busy": "2025-08-05T15:56:48.726992Z",
     "iopub.status.idle": "2025-08-05T15:56:48.732577Z",
     "shell.execute_reply": "2025-08-05T15:56:48.731776Z"
    },
    "papermill": {
     "duration": 0.020347,
     "end_time": "2025-08-05T15:56:48.734092",
     "exception": false,
     "start_time": "2025-08-05T15:56:48.713745",
     "status": "completed"
    },
    "tags": []
   },
   "outputs": [],
   "source": [
    "y_true = y_true.squeeze()"
   ]
  },
  {
   "cell_type": "code",
   "execution_count": 44,
   "id": "3a58a54a-1e68-46b9-927a-df01f18aebc8",
   "metadata": {
    "execution": {
     "iopub.execute_input": "2025-08-05T15:56:48.758052Z",
     "iopub.status.busy": "2025-08-05T15:56:48.757253Z",
     "iopub.status.idle": "2025-08-05T15:56:49.521469Z",
     "shell.execute_reply": "2025-08-05T15:56:49.520719Z"
    },
    "papermill": {
     "duration": 0.777225,
     "end_time": "2025-08-05T15:56:49.522963",
     "exception": false,
     "start_time": "2025-08-05T15:56:48.745738",
     "status": "completed"
    },
    "tags": []
   },
   "outputs": [],
   "source": [
    "from fairness_multiverse.conformal import evaluate_sets\n",
    "\n",
    "# Evaluate coverage and average set size on test data\n",
    "metrics = evaluate_sets(pred_sets, y_true)"
   ]
  },
  {
   "cell_type": "markdown",
   "id": "2b569c12-9aaa-4c88-98c9-bbcd0cf3ebb8",
   "metadata": {
    "papermill": {
     "duration": 0.021546,
     "end_time": "2025-08-05T15:56:49.561696",
     "exception": false,
     "start_time": "2025-08-05T15:56:49.540150",
     "status": "completed"
    },
    "tags": []
   },
   "source": [
    "# CP Metrics"
   ]
  },
  {
   "cell_type": "code",
   "execution_count": 45,
   "id": "5ce0a5cb-201f-45a0-ade5-94c7f0bd6095",
   "metadata": {
    "execution": {
     "iopub.execute_input": "2025-08-05T15:56:49.612987Z",
     "iopub.status.busy": "2025-08-05T15:56:49.612507Z",
     "iopub.status.idle": "2025-08-05T15:56:49.619949Z",
     "shell.execute_reply": "2025-08-05T15:56:49.618963Z"
    },
    "papermill": {
     "duration": 0.040069,
     "end_time": "2025-08-05T15:56:49.622190",
     "exception": false,
     "start_time": "2025-08-05T15:56:49.582121",
     "status": "completed"
    },
    "tags": []
   },
   "outputs": [
    {
     "data": {
      "text/plain": [
       "{'coverage': 0.912540407981273, 'avg_size': 1.2148255489911939}"
      ]
     },
     "execution_count": 45,
     "metadata": {},
     "output_type": "execute_result"
    }
   ],
   "source": [
    "metrics"
   ]
  },
  {
   "cell_type": "code",
   "execution_count": 46,
   "id": "9b9a838d-31c9-430b-ae14-12baee460d17",
   "metadata": {
    "execution": {
     "iopub.execute_input": "2025-08-05T15:56:49.672049Z",
     "iopub.status.busy": "2025-08-05T15:56:49.671702Z",
     "iopub.status.idle": "2025-08-05T15:56:49.683996Z",
     "shell.execute_reply": "2025-08-05T15:56:49.683198Z"
    },
    "papermill": {
     "duration": 0.033181,
     "end_time": "2025-08-05T15:56:49.685253",
     "exception": false,
     "start_time": "2025-08-05T15:56:49.652072",
     "status": "completed"
    },
    "tags": []
   },
   "outputs": [],
   "source": [
    "example_universe = universe.copy()\n",
    "universe_training_year = example_universe.get(\"training_year\")\n",
    "universe_training_size = example_universe.get(\"training_size\")\n",
    "universe_scale = example_universe.get(\"scale\")\n",
    "universe_model = example_universe.get(\"model\")\n",
    "universe_exclude_features = example_universe.get(\"exclude_features\")\n",
    "universe_exclude_subgroups = example_universe.get(\"exclude_subgroups\")"
   ]
  },
  {
   "cell_type": "code",
   "execution_count": 47,
   "id": "f4b6a8ac-9dc0-4245-8a91-5b3b5999c4f9",
   "metadata": {
    "execution": {
     "iopub.execute_input": "2025-08-05T15:56:49.708419Z",
     "iopub.status.busy": "2025-08-05T15:56:49.707918Z",
     "iopub.status.idle": "2025-08-05T15:56:49.712927Z",
     "shell.execute_reply": "2025-08-05T15:56:49.712113Z"
    },
    "papermill": {
     "duration": 0.018054,
     "end_time": "2025-08-05T15:56:49.714474",
     "exception": false,
     "start_time": "2025-08-05T15:56:49.696420",
     "status": "completed"
    },
    "tags": []
   },
   "outputs": [],
   "source": [
    "cp_metrics_dict = {\n",
    "    \"universe_id\": [universe_id],\n",
    "    \"universe_training_year\": [universe_training_year],\n",
    "    \"universe_training_size\": [universe_training_size],\n",
    "    \"universe_scale\": [universe_scale],\n",
    "    \"universe_model\": [universe_model],\n",
    "    \"universe_exclude_features\": [universe_exclude_features],\n",
    "    \"universe_exclude_subgroups\": [universe_exclude_subgroups],\n",
    "    \"q_hat\": [q_hat],\n",
    "    \"coverage\": [metrics[\"coverage\"]],\n",
    "    \"avg_size\": [metrics[\"avg_size\"]],\n",
    "}"
   ]
  },
  {
   "cell_type": "code",
   "execution_count": 48,
   "id": "908acbb1-0371-4915-85ca-3fa520d2efe2",
   "metadata": {
    "execution": {
     "iopub.execute_input": "2025-08-05T15:56:49.740748Z",
     "iopub.status.busy": "2025-08-05T15:56:49.740356Z",
     "iopub.status.idle": "2025-08-05T15:56:49.747363Z",
     "shell.execute_reply": "2025-08-05T15:56:49.746167Z"
    },
    "papermill": {
     "duration": 0.021152,
     "end_time": "2025-08-05T15:56:49.749207",
     "exception": false,
     "start_time": "2025-08-05T15:56:49.728055",
     "status": "completed"
    },
    "tags": []
   },
   "outputs": [
    {
     "data": {
      "text/plain": [
       "{'universe_id': ['3a97d2797c6e4e6e435944430e9027de'],\n",
       " 'universe_training_year': ['2010_14'],\n",
       " 'universe_training_size': ['5k'],\n",
       " 'universe_scale': ['do-not-scale'],\n",
       " 'universe_model': ['penalized_logreg'],\n",
       " 'universe_exclude_features': ['sex'],\n",
       " 'universe_exclude_subgroups': ['drop-non-german'],\n",
       " 'q_hat': [0.671171542274722],\n",
       " 'coverage': [0.912540407981273],\n",
       " 'avg_size': [1.2148255489911939]}"
      ]
     },
     "execution_count": 48,
     "metadata": {},
     "output_type": "execute_result"
    }
   ],
   "source": [
    "cp_metrics_dict"
   ]
  },
  {
   "cell_type": "code",
   "execution_count": 49,
   "id": "33007efc-14e9-4ec6-97ac-56a455c82265",
   "metadata": {
    "execution": {
     "iopub.execute_input": "2025-08-05T15:56:49.777366Z",
     "iopub.status.busy": "2025-08-05T15:56:49.777058Z",
     "iopub.status.idle": "2025-08-05T15:56:49.786144Z",
     "shell.execute_reply": "2025-08-05T15:56:49.785137Z"
    },
    "papermill": {
     "duration": 0.027558,
     "end_time": "2025-08-05T15:56:49.791556",
     "exception": false,
     "start_time": "2025-08-05T15:56:49.763998",
     "status": "completed"
    },
    "tags": []
   },
   "outputs": [],
   "source": [
    "cp_metrics_df = pd.DataFrame(cp_metrics_dict)"
   ]
  },
  {
   "cell_type": "code",
   "execution_count": 50,
   "id": "db12611b-57b2-4910-b9d0-355adfd6e7bf",
   "metadata": {
    "execution": {
     "iopub.execute_input": "2025-08-05T15:56:49.849431Z",
     "iopub.status.busy": "2025-08-05T15:56:49.848875Z",
     "iopub.status.idle": "2025-08-05T15:56:49.872972Z",
     "shell.execute_reply": "2025-08-05T15:56:49.871696Z"
    },
    "papermill": {
     "duration": 0.057036,
     "end_time": "2025-08-05T15:56:49.875156",
     "exception": false,
     "start_time": "2025-08-05T15:56:49.818120",
     "status": "completed"
    },
    "tags": []
   },
   "outputs": [
    {
     "data": {
      "text/html": [
       "<div>\n",
       "<style scoped>\n",
       "    .dataframe tbody tr th:only-of-type {\n",
       "        vertical-align: middle;\n",
       "    }\n",
       "\n",
       "    .dataframe tbody tr th {\n",
       "        vertical-align: top;\n",
       "    }\n",
       "\n",
       "    .dataframe thead th {\n",
       "        text-align: right;\n",
       "    }\n",
       "</style>\n",
       "<table border=\"1\" class=\"dataframe\">\n",
       "  <thead>\n",
       "    <tr style=\"text-align: right;\">\n",
       "      <th></th>\n",
       "      <th>universe_id</th>\n",
       "      <th>universe_training_year</th>\n",
       "      <th>universe_training_size</th>\n",
       "      <th>universe_scale</th>\n",
       "      <th>universe_model</th>\n",
       "      <th>universe_exclude_features</th>\n",
       "      <th>universe_exclude_subgroups</th>\n",
       "      <th>q_hat</th>\n",
       "      <th>coverage</th>\n",
       "      <th>avg_size</th>\n",
       "    </tr>\n",
       "  </thead>\n",
       "  <tbody>\n",
       "    <tr>\n",
       "      <th>0</th>\n",
       "      <td>3a97d2797c6e4e6e435944430e9027de</td>\n",
       "      <td>2010_14</td>\n",
       "      <td>5k</td>\n",
       "      <td>do-not-scale</td>\n",
       "      <td>penalized_logreg</td>\n",
       "      <td>sex</td>\n",
       "      <td>drop-non-german</td>\n",
       "      <td>0.671172</td>\n",
       "      <td>0.91254</td>\n",
       "      <td>1.214826</td>\n",
       "    </tr>\n",
       "  </tbody>\n",
       "</table>\n",
       "</div>"
      ],
      "text/plain": [
       "                        universe_id universe_training_year  \\\n",
       "0  3a97d2797c6e4e6e435944430e9027de                2010_14   \n",
       "\n",
       "  universe_training_size universe_scale    universe_model  \\\n",
       "0                     5k   do-not-scale  penalized_logreg   \n",
       "\n",
       "  universe_exclude_features universe_exclude_subgroups     q_hat  coverage  \\\n",
       "0                       sex            drop-non-german  0.671172   0.91254   \n",
       "\n",
       "   avg_size  \n",
       "0  1.214826  "
      ]
     },
     "execution_count": 50,
     "metadata": {},
     "output_type": "execute_result"
    }
   ],
   "source": [
    "cp_metrics_df"
   ]
  },
  {
   "cell_type": "code",
   "execution_count": 51,
   "id": "b7fbde55-a0a1-47e4-9af6-fe4a17fa8c61",
   "metadata": {
    "execution": {
     "iopub.execute_input": "2025-08-05T15:56:49.910456Z",
     "iopub.status.busy": "2025-08-05T15:56:49.910004Z",
     "iopub.status.idle": "2025-08-05T15:56:49.914434Z",
     "shell.execute_reply": "2025-08-05T15:56:49.913488Z"
    },
    "papermill": {
     "duration": 0.018452,
     "end_time": "2025-08-05T15:56:49.915977",
     "exception": false,
     "start_time": "2025-08-05T15:56:49.897525",
     "status": "completed"
    },
    "tags": []
   },
   "outputs": [],
   "source": [
    "# Conditional Coverage & looking at subgroups"
   ]
  },
  {
   "cell_type": "code",
   "execution_count": 52,
   "id": "027ae886-68dd-4141-96c7-805a5450e1ef",
   "metadata": {
    "execution": {
     "iopub.execute_input": "2025-08-05T15:56:49.941139Z",
     "iopub.status.busy": "2025-08-05T15:56:49.940729Z",
     "iopub.status.idle": "2025-08-05T15:56:50.170949Z",
     "shell.execute_reply": "2025-08-05T15:56:50.169833Z"
    },
    "papermill": {
     "duration": 0.244268,
     "end_time": "2025-08-05T15:56:50.172704",
     "exception": false,
     "start_time": "2025-08-05T15:56:49.928436",
     "status": "completed"
    },
    "tags": []
   },
   "outputs": [],
   "source": [
    "from fairness_multiverse.conformal import build_cp_groups\n",
    "\n",
    "cp_groups_df = build_cp_groups(pred_sets, y_true, X_test.index, org_test)\n",
    "#needs universe_id and setting"
   ]
  },
  {
   "cell_type": "code",
   "execution_count": 53,
   "id": "6cbdab96-b2b2-45af-ad54-d0516db2e28d",
   "metadata": {
    "execution": {
     "iopub.execute_input": "2025-08-05T15:56:50.235042Z",
     "iopub.status.busy": "2025-08-05T15:56:50.234179Z",
     "iopub.status.idle": "2025-08-05T15:56:51.434891Z",
     "shell.execute_reply": "2025-08-05T15:56:51.433753Z"
    },
    "papermill": {
     "duration": 1.235192,
     "end_time": "2025-08-05T15:56:51.436947",
     "exception": false,
     "start_time": "2025-08-05T15:56:50.201755",
     "status": "completed"
    },
    "tags": []
   },
   "outputs": [],
   "source": [
    "# Define covered = 1 if true_label is in the predicted set\n",
    "cp_groups_df['covered'] = cp_groups_df.apply(\n",
    "    lambda r: int(r['true_label'] in r['pred_set']),\n",
    "    axis=1\n",
    ")"
   ]
  },
  {
   "cell_type": "code",
   "execution_count": 54,
   "id": "338ff529-1a6b-4b87-a931-8e4788d52aad",
   "metadata": {
    "execution": {
     "iopub.execute_input": "2025-08-05T15:56:51.486929Z",
     "iopub.status.busy": "2025-08-05T15:56:51.486484Z",
     "iopub.status.idle": "2025-08-05T15:56:51.492239Z",
     "shell.execute_reply": "2025-08-05T15:56:51.490970Z"
    },
    "papermill": {
     "duration": 0.030723,
     "end_time": "2025-08-05T15:56:51.494020",
     "exception": false,
     "start_time": "2025-08-05T15:56:51.463297",
     "status": "completed"
    },
    "tags": []
   },
   "outputs": [],
   "source": [
    "#cp_groups_df"
   ]
  },
  {
   "cell_type": "code",
   "execution_count": 55,
   "id": "90032e27-66df-4540-9169-4e89cfbaa758",
   "metadata": {
    "execution": {
     "iopub.execute_input": "2025-08-05T15:56:51.519252Z",
     "iopub.status.busy": "2025-08-05T15:56:51.518908Z",
     "iopub.status.idle": "2025-08-05T15:56:51.530757Z",
     "shell.execute_reply": "2025-08-05T15:56:51.529345Z"
    },
    "papermill": {
     "duration": 0.025908,
     "end_time": "2025-08-05T15:56:51.532676",
     "exception": false,
     "start_time": "2025-08-05T15:56:51.506768",
     "status": "completed"
    },
    "tags": []
   },
   "outputs": [],
   "source": [
    "subgroups = ['frau1','nongerman','nongerman_male','nongerman_female']\n",
    "\n",
    "# Conditional coverage for subgroup==1\n",
    "cond_coverage = {\n",
    "    g: cp_groups_df.loc[cp_groups_df[g]==1, 'covered'].mean()\n",
    "    for g in subgroups\n",
    "}"
   ]
  },
  {
   "cell_type": "code",
   "execution_count": 56,
   "id": "1e348fb1-b9c3-45bc-ba23-f016827a7e0d",
   "metadata": {
    "execution": {
     "iopub.execute_input": "2025-08-05T15:56:51.574685Z",
     "iopub.status.busy": "2025-08-05T15:56:51.574231Z",
     "iopub.status.idle": "2025-08-05T15:56:51.583425Z",
     "shell.execute_reply": "2025-08-05T15:56:51.582036Z"
    },
    "papermill": {
     "duration": 0.028707,
     "end_time": "2025-08-05T15:56:51.585348",
     "exception": false,
     "start_time": "2025-08-05T15:56:51.556641",
     "status": "completed"
    },
    "tags": []
   },
   "outputs": [
    {
     "data": {
      "text/plain": [
       "{'frau1': 0.913411510985308,\n",
       " 'nongerman': 0.9394262617189693,\n",
       " 'nongerman_male': 0.9489327208862469,\n",
       " 'nongerman_female': 0.9236959761549925}"
      ]
     },
     "execution_count": 56,
     "metadata": {},
     "output_type": "execute_result"
    }
   ],
   "source": [
    "cond_coverage"
   ]
  },
  {
   "cell_type": "code",
   "execution_count": 57,
   "id": "f5093324-c3dd-4d63-bc4c-8d945e5c8bbb",
   "metadata": {
    "execution": {
     "iopub.execute_input": "2025-08-05T15:56:51.625034Z",
     "iopub.status.busy": "2025-08-05T15:56:51.624576Z",
     "iopub.status.idle": "2025-08-05T15:56:51.632658Z",
     "shell.execute_reply": "2025-08-05T15:56:51.631735Z"
    },
    "papermill": {
     "duration": 0.025034,
     "end_time": "2025-08-05T15:56:51.634347",
     "exception": false,
     "start_time": "2025-08-05T15:56:51.609313",
     "status": "completed"
    },
    "tags": []
   },
   "outputs": [],
   "source": [
    "for subgroup, cov in cond_coverage.items():\n",
    "    cp_metrics_df[f\"cov_{subgroup}\"] = cov"
   ]
  },
  {
   "cell_type": "code",
   "execution_count": 58,
   "id": "6e872e10-dbe5-49e8-b554-5030c98ff75d",
   "metadata": {
    "execution": {
     "iopub.execute_input": "2025-08-05T15:56:51.661290Z",
     "iopub.status.busy": "2025-08-05T15:56:51.660844Z",
     "iopub.status.idle": "2025-08-05T15:56:51.682788Z",
     "shell.execute_reply": "2025-08-05T15:56:51.681684Z"
    },
    "papermill": {
     "duration": 0.037501,
     "end_time": "2025-08-05T15:56:51.684923",
     "exception": false,
     "start_time": "2025-08-05T15:56:51.647422",
     "status": "completed"
    },
    "tags": []
   },
   "outputs": [
    {
     "data": {
      "text/html": [
       "<div>\n",
       "<style scoped>\n",
       "    .dataframe tbody tr th:only-of-type {\n",
       "        vertical-align: middle;\n",
       "    }\n",
       "\n",
       "    .dataframe tbody tr th {\n",
       "        vertical-align: top;\n",
       "    }\n",
       "\n",
       "    .dataframe thead th {\n",
       "        text-align: right;\n",
       "    }\n",
       "</style>\n",
       "<table border=\"1\" class=\"dataframe\">\n",
       "  <thead>\n",
       "    <tr style=\"text-align: right;\">\n",
       "      <th></th>\n",
       "      <th>universe_id</th>\n",
       "      <th>universe_training_year</th>\n",
       "      <th>universe_training_size</th>\n",
       "      <th>universe_scale</th>\n",
       "      <th>universe_model</th>\n",
       "      <th>universe_exclude_features</th>\n",
       "      <th>universe_exclude_subgroups</th>\n",
       "      <th>q_hat</th>\n",
       "      <th>coverage</th>\n",
       "      <th>avg_size</th>\n",
       "      <th>cov_frau1</th>\n",
       "      <th>cov_nongerman</th>\n",
       "      <th>cov_nongerman_male</th>\n",
       "      <th>cov_nongerman_female</th>\n",
       "    </tr>\n",
       "  </thead>\n",
       "  <tbody>\n",
       "    <tr>\n",
       "      <th>0</th>\n",
       "      <td>3a97d2797c6e4e6e435944430e9027de</td>\n",
       "      <td>2010_14</td>\n",
       "      <td>5k</td>\n",
       "      <td>do-not-scale</td>\n",
       "      <td>penalized_logreg</td>\n",
       "      <td>sex</td>\n",
       "      <td>drop-non-german</td>\n",
       "      <td>0.671172</td>\n",
       "      <td>0.91254</td>\n",
       "      <td>1.214826</td>\n",
       "      <td>0.913412</td>\n",
       "      <td>0.939426</td>\n",
       "      <td>0.948933</td>\n",
       "      <td>0.923696</td>\n",
       "    </tr>\n",
       "  </tbody>\n",
       "</table>\n",
       "</div>"
      ],
      "text/plain": [
       "                        universe_id universe_training_year  \\\n",
       "0  3a97d2797c6e4e6e435944430e9027de                2010_14   \n",
       "\n",
       "  universe_training_size universe_scale    universe_model  \\\n",
       "0                     5k   do-not-scale  penalized_logreg   \n",
       "\n",
       "  universe_exclude_features universe_exclude_subgroups     q_hat  coverage  \\\n",
       "0                       sex            drop-non-german  0.671172   0.91254   \n",
       "\n",
       "   avg_size  cov_frau1  cov_nongerman  cov_nongerman_male  \\\n",
       "0  1.214826   0.913412       0.939426            0.948933   \n",
       "\n",
       "   cov_nongerman_female  \n",
       "0              0.923696  "
      ]
     },
     "execution_count": 58,
     "metadata": {},
     "output_type": "execute_result"
    }
   ],
   "source": [
    "cp_metrics_df"
   ]
  },
  {
   "cell_type": "markdown",
   "id": "33774451",
   "metadata": {
    "papermill": {
     "duration": 0.028223,
     "end_time": "2025-08-05T15:56:51.740382",
     "exception": false,
     "start_time": "2025-08-05T15:56:51.712159",
     "status": "completed"
    },
    "tags": []
   },
   "source": [
    "# (Fairness) Metrics"
   ]
  },
  {
   "cell_type": "code",
   "execution_count": 59,
   "id": "debc5d62",
   "metadata": {
    "execution": {
     "iopub.execute_input": "2025-08-05T15:56:51.795135Z",
     "iopub.status.busy": "2025-08-05T15:56:51.794556Z",
     "iopub.status.idle": "2025-08-05T15:56:51.817480Z",
     "shell.execute_reply": "2025-08-05T15:56:51.816454Z"
    },
    "papermill": {
     "duration": 0.052892,
     "end_time": "2025-08-05T15:56:51.819638",
     "exception": false,
     "start_time": "2025-08-05T15:56:51.766746",
     "status": "completed"
    },
    "tags": []
   },
   "outputs": [],
   "source": [
    "# do I need to include maxdeutsch1.missing?\n",
    "\n",
    "import numpy as np\n",
    "\n",
    "colname_to_bin = \"maxdeutsch1\"\n",
    "majority_value = org_train[colname_to_bin].mode()[0]\n",
    "\n",
    "org_test[\"majmin\"] = np.where(org_test[colname_to_bin] == majority_value, \"majority\", \"minority\")"
   ]
  },
  {
   "cell_type": "code",
   "execution_count": 60,
   "id": "06a50de5",
   "metadata": {
    "execution": {
     "iopub.execute_input": "2025-08-05T15:56:51.865145Z",
     "iopub.status.busy": "2025-08-05T15:56:51.864657Z",
     "iopub.status.idle": "2025-08-05T15:56:53.645818Z",
     "shell.execute_reply": "2025-08-05T15:56:53.644893Z"
    },
    "papermill": {
     "duration": 1.8065,
     "end_time": "2025-08-05T15:56:53.647921",
     "exception": false,
     "start_time": "2025-08-05T15:56:51.841421",
     "status": "completed"
    },
    "tags": []
   },
   "outputs": [],
   "source": [
    "example_universe = universe.copy()\n",
    "example_universe[\"cutoff\"] = example_universe[\"cutoff\"][0]\n",
    "example_universe[\"eval_fairness_grouping\"] = example_universe[\"eval_fairness_grouping\"][0]\n",
    "fairness_dict, metric_frame = universe_analysis.compute_metrics(\n",
    "    example_universe,\n",
    "    y_pred_prob=probs_test,\n",
    "    y_test=y_true,\n",
    "    org_test=org_test,\n",
    ")"
   ]
  },
  {
   "cell_type": "markdown",
   "id": "f95d4e02",
   "metadata": {
    "papermill": {
     "duration": 0.02595,
     "end_time": "2025-08-05T15:56:53.701826",
     "exception": false,
     "start_time": "2025-08-05T15:56:53.675876",
     "status": "completed"
    },
    "tags": []
   },
   "source": [
    "# Overall"
   ]
  },
  {
   "cell_type": "markdown",
   "id": "bdee4871",
   "metadata": {
    "papermill": {
     "duration": 0.025935,
     "end_time": "2025-08-05T15:56:53.754268",
     "exception": false,
     "start_time": "2025-08-05T15:56:53.728333",
     "status": "completed"
    },
    "tags": []
   },
   "source": [
    "Fairness\n",
    "Main fairness target: Equalized Odds. Seems to be a better fit than equal opportunity, since we're not only interested in Y = 1. Seems to be a better fit than demographic parity, since we also care about accuracy, not just equal distribution of preds.\n",
    "\n",
    "Pick column for computation of fairness metrics\n",
    "\n",
    "Performance\n",
    "Overall performance measures, most interesting in relation to the measures split by group below"
   ]
  },
  {
   "cell_type": "code",
   "execution_count": 61,
   "id": "c4e067c6",
   "metadata": {
    "execution": {
     "iopub.execute_input": "2025-08-05T15:56:53.809364Z",
     "iopub.status.busy": "2025-08-05T15:56:53.808829Z",
     "iopub.status.idle": "2025-08-05T15:56:53.818025Z",
     "shell.execute_reply": "2025-08-05T15:56:53.816976Z"
    },
    "papermill": {
     "duration": 0.039059,
     "end_time": "2025-08-05T15:56:53.819731",
     "exception": false,
     "start_time": "2025-08-05T15:56:53.780672",
     "status": "completed"
    },
    "tags": []
   },
   "outputs": [
    {
     "data": {
      "text/plain": [
       "accuracy                   0.218203\n",
       "balanced accuracy          0.534829\n",
       "f1                         0.239704\n",
       "precision                  0.136935\n",
       "false positive rate        0.891064\n",
       "false negative rate        0.039277\n",
       "selection rate             0.900000\n",
       "count                  89710.000000\n",
       "dtype: float64"
      ]
     },
     "execution_count": 61,
     "metadata": {},
     "output_type": "execute_result"
    }
   ],
   "source": [
    "metric_frame.overall"
   ]
  },
  {
   "cell_type": "markdown",
   "id": "e968fe9d",
   "metadata": {
    "papermill": {
     "duration": 0.027433,
     "end_time": "2025-08-05T15:56:53.874389",
     "exception": false,
     "start_time": "2025-08-05T15:56:53.846956",
     "status": "completed"
    },
    "tags": []
   },
   "source": [
    "By Group"
   ]
  },
  {
   "cell_type": "code",
   "execution_count": 62,
   "id": "ec325bce",
   "metadata": {
    "execution": {
     "iopub.execute_input": "2025-08-05T15:56:53.931285Z",
     "iopub.status.busy": "2025-08-05T15:56:53.930782Z",
     "iopub.status.idle": "2025-08-05T15:56:53.946158Z",
     "shell.execute_reply": "2025-08-05T15:56:53.945183Z"
    },
    "papermill": {
     "duration": 0.045871,
     "end_time": "2025-08-05T15:56:53.947888",
     "exception": false,
     "start_time": "2025-08-05T15:56:53.902017",
     "status": "completed"
    },
    "tags": []
   },
   "outputs": [
    {
     "data": {
      "text/html": [
       "<div>\n",
       "<style scoped>\n",
       "    .dataframe tbody tr th:only-of-type {\n",
       "        vertical-align: middle;\n",
       "    }\n",
       "\n",
       "    .dataframe tbody tr th {\n",
       "        vertical-align: top;\n",
       "    }\n",
       "\n",
       "    .dataframe thead th {\n",
       "        text-align: right;\n",
       "    }\n",
       "</style>\n",
       "<table border=\"1\" class=\"dataframe\">\n",
       "  <thead>\n",
       "    <tr style=\"text-align: right;\">\n",
       "      <th></th>\n",
       "      <th>accuracy</th>\n",
       "      <th>balanced accuracy</th>\n",
       "      <th>f1</th>\n",
       "      <th>precision</th>\n",
       "      <th>false positive rate</th>\n",
       "      <th>false negative rate</th>\n",
       "      <th>selection rate</th>\n",
       "      <th>count</th>\n",
       "    </tr>\n",
       "    <tr>\n",
       "      <th>majmin</th>\n",
       "      <th></th>\n",
       "      <th></th>\n",
       "      <th></th>\n",
       "      <th></th>\n",
       "      <th></th>\n",
       "      <th></th>\n",
       "      <th></th>\n",
       "      <th></th>\n",
       "    </tr>\n",
       "  </thead>\n",
       "  <tbody>\n",
       "    <tr>\n",
       "      <th>majority</th>\n",
       "      <td>0.239454</td>\n",
       "      <td>0.542813</td>\n",
       "      <td>0.249190</td>\n",
       "      <td>0.143286</td>\n",
       "      <td>0.869515</td>\n",
       "      <td>0.044858</td>\n",
       "      <td>0.880830</td>\n",
       "      <td>69170.0</td>\n",
       "    </tr>\n",
       "    <tr>\n",
       "      <th>minority</th>\n",
       "      <td>0.146641</td>\n",
       "      <td>0.510007</td>\n",
       "      <td>0.209739</td>\n",
       "      <td>0.117404</td>\n",
       "      <td>0.962250</td>\n",
       "      <td>0.017736</td>\n",
       "      <td>0.964557</td>\n",
       "      <td>20540.0</td>\n",
       "    </tr>\n",
       "  </tbody>\n",
       "</table>\n",
       "</div>"
      ],
      "text/plain": [
       "          accuracy  balanced accuracy        f1  precision  \\\n",
       "majmin                                                       \n",
       "majority  0.239454           0.542813  0.249190   0.143286   \n",
       "minority  0.146641           0.510007  0.209739   0.117404   \n",
       "\n",
       "          false positive rate  false negative rate  selection rate    count  \n",
       "majmin                                                                       \n",
       "majority             0.869515             0.044858        0.880830  69170.0  \n",
       "minority             0.962250             0.017736        0.964557  20540.0  "
      ]
     },
     "execution_count": 62,
     "metadata": {},
     "output_type": "execute_result"
    }
   ],
   "source": [
    "metric_frame.by_group"
   ]
  },
  {
   "cell_type": "code",
   "execution_count": 63,
   "id": "a9ddbe63",
   "metadata": {
    "execution": {
     "iopub.execute_input": "2025-08-05T15:56:54.006610Z",
     "iopub.status.busy": "2025-08-05T15:56:54.005613Z",
     "iopub.status.idle": "2025-08-05T15:56:55.862916Z",
     "shell.execute_reply": "2025-08-05T15:56:55.862139Z"
    },
    "papermill": {
     "duration": 1.887472,
     "end_time": "2025-08-05T15:56:55.864235",
     "exception": false,
     "start_time": "2025-08-05T15:56:53.976763",
     "status": "completed"
    },
    "tags": []
   },
   "outputs": [
    {
     "data": {
      "text/plain": [
       "array([[<Axes: title={'center': 'accuracy'}, xlabel='majmin'>,\n",
       "        <Axes: title={'center': 'balanced accuracy'}, xlabel='majmin'>,\n",
       "        <Axes: title={'center': 'f1'}, xlabel='majmin'>],\n",
       "       [<Axes: title={'center': 'precision'}, xlabel='majmin'>,\n",
       "        <Axes: title={'center': 'false positive rate'}, xlabel='majmin'>,\n",
       "        <Axes: title={'center': 'false negative rate'}, xlabel='majmin'>],\n",
       "       [<Axes: title={'center': 'selection rate'}, xlabel='majmin'>,\n",
       "        <Axes: title={'center': 'count'}, xlabel='majmin'>,\n",
       "        <Axes: xlabel='majmin'>]], dtype=object)"
      ]
     },
     "execution_count": 63,
     "metadata": {},
     "output_type": "execute_result"
    },
    {
     "data": {
      "image/png": "[encoded data removed]",
      "text/plain": [
       "<Figure size 1200x800 with 9 Axes>"
      ]
     },
     "metadata": {},
     "output_type": "display_data"
    }
   ],
   "source": [
    "# In a graphic\n",
    "metric_frame.by_group.plot.bar(\n",
    "    subplots=True,\n",
    "    layout=[3, 3],\n",
    "    legend=False,\n",
    "    figsize=[12, 8],\n",
    "    title=\"Show all metrics\",\n",
    ")"
   ]
  },
  {
   "cell_type": "markdown",
   "id": "f57a0bac",
   "metadata": {
    "papermill": {
     "duration": 0.013118,
     "end_time": "2025-08-05T15:56:55.891075",
     "exception": false,
     "start_time": "2025-08-05T15:56:55.877957",
     "status": "completed"
    },
    "tags": []
   },
   "source": [
    "# Final Output"
   ]
  },
  {
   "cell_type": "code",
   "execution_count": 64,
   "id": "96d280a3",
   "metadata": {
    "execution": {
     "iopub.execute_input": "2025-08-05T15:56:55.918929Z",
     "iopub.status.busy": "2025-08-05T15:56:55.918002Z",
     "iopub.status.idle": "2025-08-05T15:56:55.925727Z",
     "shell.execute_reply": "2025-08-05T15:56:55.924744Z"
    },
    "papermill": {
     "duration": 0.023128,
     "end_time": "2025-08-05T15:56:55.927223",
     "exception": false,
     "start_time": "2025-08-05T15:56:55.904095",
     "status": "completed"
    },
    "tags": []
   },
   "outputs": [
    {
     "data": {
      "text/plain": [
       "4"
      ]
     },
     "execution_count": 64,
     "metadata": {},
     "output_type": "execute_result"
    }
   ],
   "source": [
    "sub_universes = universe_analysis.generate_sub_universes()\n",
    "len(sub_universes)"
   ]
  },
  {
   "cell_type": "code",
   "execution_count": 65,
   "id": "92adf7ba",
   "metadata": {
    "execution": {
     "iopub.execute_input": "2025-08-05T15:56:55.955982Z",
     "iopub.status.busy": "2025-08-05T15:56:55.955371Z",
     "iopub.status.idle": "2025-08-05T15:56:55.960676Z",
     "shell.execute_reply": "2025-08-05T15:56:55.959946Z"
    },
    "papermill": {
     "duration": 0.020778,
     "end_time": "2025-08-05T15:56:55.962097",
     "exception": false,
     "start_time": "2025-08-05T15:56:55.941319",
     "status": "completed"
    },
    "tags": []
   },
   "outputs": [],
   "source": [
    "def filter_sub_universe_data(sub_universe, org_test):\n",
    "    # Keep all rows — no filtering\n",
    "    keep_rows_mask = np.ones(org_test.shape[0], dtype=bool)\n",
    "\n",
    "    print(f\"[INFO] Keeping all rows: {keep_rows_mask.sum()} rows retained.\")\n",
    "    return keep_rows_mask"
   ]
  },
  {
   "cell_type": "code",
   "execution_count": 66,
   "id": "4a759155",
   "metadata": {
    "execution": {
     "iopub.execute_input": "2025-08-05T15:56:55.991131Z",
     "iopub.status.busy": "2025-08-05T15:56:55.990459Z",
     "iopub.status.idle": "2025-08-05T15:57:05.275376Z",
     "shell.execute_reply": "2025-08-05T15:57:05.274501Z"
    },
    "papermill": {
     "duration": 9.300215,
     "end_time": "2025-08-05T15:57:05.276821",
     "exception": false,
     "start_time": "2025-08-05T15:56:55.976606",
     "status": "completed"
    },
    "tags": []
   },
   "outputs": [
    {
     "name": "stdout",
     "output_type": "stream",
     "text": [
      "Stopping execution_time clock.\n",
      "[INFO] Keeping all rows: 89710 rows retained.\n"
     ]
    },
    {
     "name": "stdout",
     "output_type": "stream",
     "text": [
      "[INFO] Keeping all rows: 89710 rows retained.\n"
     ]
    },
    {
     "name": "stdout",
     "output_type": "stream",
     "text": [
      "[INFO] Keeping all rows: 89710 rows retained.\n"
     ]
    },
    {
     "name": "stdout",
     "output_type": "stream",
     "text": [
      "[INFO] Keeping all rows: 89710 rows retained.\n"
     ]
    },
    {
     "data": {
      "text/html": [
       "<div>\n",
       "<style scoped>\n",
       "    .dataframe tbody tr th:only-of-type {\n",
       "        vertical-align: middle;\n",
       "    }\n",
       "\n",
       "    .dataframe tbody tr th {\n",
       "        vertical-align: top;\n",
       "    }\n",
       "\n",
       "    .dataframe thead th {\n",
       "        text-align: right;\n",
       "    }\n",
       "</style>\n",
       "<table border=\"1\" class=\"dataframe\">\n",
       "  <thead>\n",
       "    <tr style=\"text-align: right;\">\n",
       "      <th></th>\n",
       "      <th>run_no</th>\n",
       "      <th>universe_id</th>\n",
       "      <th>universe_settings</th>\n",
       "      <th>execution_time</th>\n",
       "      <th>test_size_n</th>\n",
       "      <th>test_size_frac</th>\n",
       "      <th>fair_main_equalized_odds_difference</th>\n",
       "      <th>fair_main_equalized_odds_ratio</th>\n",
       "      <th>fair_main_demographic_parity_difference</th>\n",
       "      <th>fair_main_demographic_parity_ratio</th>\n",
       "      <th>...</th>\n",
       "      <th>perf_grp_precision_0</th>\n",
       "      <th>perf_grp_precision_1</th>\n",
       "      <th>perf_grp_false positive rate_0</th>\n",
       "      <th>perf_grp_false positive rate_1</th>\n",
       "      <th>perf_grp_false negative rate_0</th>\n",
       "      <th>perf_grp_false negative rate_1</th>\n",
       "      <th>perf_grp_selection rate_0</th>\n",
       "      <th>perf_grp_selection rate_1</th>\n",
       "      <th>perf_grp_count_0</th>\n",
       "      <th>perf_grp_count_1</th>\n",
       "    </tr>\n",
       "  </thead>\n",
       "  <tbody>\n",
       "    <tr>\n",
       "      <th>0</th>\n",
       "      <td>15</td>\n",
       "      <td>3a97d2797c6e4e6e435944430e9027de</td>\n",
       "      <td>{\"cutoff\": \"quantile_0.1\", \"eval_fairness_grou...</td>\n",
       "      <td>26.052731</td>\n",
       "      <td>89710</td>\n",
       "      <td>1.0</td>\n",
       "      <td>0.092734</td>\n",
       "      <td>0.903628</td>\n",
       "      <td>0.083727</td>\n",
       "      <td>0.913196</td>\n",
       "      <td>...</td>\n",
       "      <td>NaN</td>\n",
       "      <td>NaN</td>\n",
       "      <td>NaN</td>\n",
       "      <td>NaN</td>\n",
       "      <td>NaN</td>\n",
       "      <td>NaN</td>\n",
       "      <td>NaN</td>\n",
       "      <td>NaN</td>\n",
       "      <td>NaN</td>\n",
       "      <td>NaN</td>\n",
       "    </tr>\n",
       "    <tr>\n",
       "      <th>0</th>\n",
       "      <td>15</td>\n",
       "      <td>3a97d2797c6e4e6e435944430e9027de</td>\n",
       "      <td>{\"cutoff\": \"quantile_0.1\", \"eval_fairness_grou...</td>\n",
       "      <td>26.052731</td>\n",
       "      <td>89710</td>\n",
       "      <td>1.0</td>\n",
       "      <td>0.092734</td>\n",
       "      <td>0.903628</td>\n",
       "      <td>0.083727</td>\n",
       "      <td>0.913196</td>\n",
       "      <td>...</td>\n",
       "      <td>0.117404</td>\n",
       "      <td>0.143286</td>\n",
       "      <td>0.962250</td>\n",
       "      <td>0.869515</td>\n",
       "      <td>0.017736</td>\n",
       "      <td>0.044858</td>\n",
       "      <td>0.964557</td>\n",
       "      <td>0.880830</td>\n",
       "      <td>20540.0</td>\n",
       "      <td>69170.0</td>\n",
       "    </tr>\n",
       "    <tr>\n",
       "      <th>0</th>\n",
       "      <td>15</td>\n",
       "      <td>3a97d2797c6e4e6e435944430e9027de</td>\n",
       "      <td>{\"cutoff\": \"quantile_0.25\", \"eval_fairness_gro...</td>\n",
       "      <td>26.052731</td>\n",
       "      <td>89710</td>\n",
       "      <td>1.0</td>\n",
       "      <td>0.215291</td>\n",
       "      <td>0.759689</td>\n",
       "      <td>0.197012</td>\n",
       "      <td>0.781558</td>\n",
       "      <td>...</td>\n",
       "      <td>NaN</td>\n",
       "      <td>NaN</td>\n",
       "      <td>NaN</td>\n",
       "      <td>NaN</td>\n",
       "      <td>NaN</td>\n",
       "      <td>NaN</td>\n",
       "      <td>NaN</td>\n",
       "      <td>NaN</td>\n",
       "      <td>NaN</td>\n",
       "      <td>NaN</td>\n",
       "    </tr>\n",
       "    <tr>\n",
       "      <th>0</th>\n",
       "      <td>15</td>\n",
       "      <td>3a97d2797c6e4e6e435944430e9027de</td>\n",
       "      <td>{\"cutoff\": \"quantile_0.25\", \"eval_fairness_gro...</td>\n",
       "      <td>26.052731</td>\n",
       "      <td>89710</td>\n",
       "      <td>1.0</td>\n",
       "      <td>0.215291</td>\n",
       "      <td>0.759689</td>\n",
       "      <td>0.197012</td>\n",
       "      <td>0.781558</td>\n",
       "      <td>...</td>\n",
       "      <td>0.121188</td>\n",
       "      <td>0.162049</td>\n",
       "      <td>0.895884</td>\n",
       "      <td>0.680593</td>\n",
       "      <td>0.051943</td>\n",
       "      <td>0.135558</td>\n",
       "      <td>0.901899</td>\n",
       "      <td>0.704887</td>\n",
       "      <td>20540.0</td>\n",
       "      <td>69170.0</td>\n",
       "    </tr>\n",
       "  </tbody>\n",
       "</table>\n",
       "<p>4 rows × 50 columns</p>\n",
       "</div>"
      ],
      "text/plain": [
       "  run_no                       universe_id  \\\n",
       "0     15  3a97d2797c6e4e6e435944430e9027de   \n",
       "0     15  3a97d2797c6e4e6e435944430e9027de   \n",
       "0     15  3a97d2797c6e4e6e435944430e9027de   \n",
       "0     15  3a97d2797c6e4e6e435944430e9027de   \n",
       "\n",
       "                                   universe_settings  execution_time  \\\n",
       "0  {\"cutoff\": \"quantile_0.1\", \"eval_fairness_grou...       26.052731   \n",
       "0  {\"cutoff\": \"quantile_0.1\", \"eval_fairness_grou...       26.052731   \n",
       "0  {\"cutoff\": \"quantile_0.25\", \"eval_fairness_gro...       26.052731   \n",
       "0  {\"cutoff\": \"quantile_0.25\", \"eval_fairness_gro...       26.052731   \n",
       "\n",
       "   test_size_n  test_size_frac  fair_main_equalized_odds_difference  \\\n",
       "0        89710             1.0                             0.092734   \n",
       "0        89710             1.0                             0.092734   \n",
       "0        89710             1.0                             0.215291   \n",
       "0        89710             1.0                             0.215291   \n",
       "\n",
       "   fair_main_equalized_odds_ratio  fair_main_demographic_parity_difference  \\\n",
       "0                        0.903628                                 0.083727   \n",
       "0                        0.903628                                 0.083727   \n",
       "0                        0.759689                                 0.197012   \n",
       "0                        0.759689                                 0.197012   \n",
       "\n",
       "   fair_main_demographic_parity_ratio  ...  perf_grp_precision_0  \\\n",
       "0                            0.913196  ...                   NaN   \n",
       "0                            0.913196  ...              0.117404   \n",
       "0                            0.781558  ...                   NaN   \n",
       "0                            0.781558  ...              0.121188   \n",
       "\n",
       "   perf_grp_precision_1  perf_grp_false positive rate_0  \\\n",
       "0                   NaN                             NaN   \n",
       "0              0.143286                        0.962250   \n",
       "0                   NaN                             NaN   \n",
       "0              0.162049                        0.895884   \n",
       "\n",
       "   perf_grp_false positive rate_1  perf_grp_false negative rate_0  \\\n",
       "0                             NaN                             NaN   \n",
       "0                        0.869515                        0.017736   \n",
       "0                             NaN                             NaN   \n",
       "0                        0.680593                        0.051943   \n",
       "\n",
       "   perf_grp_false negative rate_1  perf_grp_selection rate_0  \\\n",
       "0                             NaN                        NaN   \n",
       "0                        0.044858                   0.964557   \n",
       "0                             NaN                        NaN   \n",
       "0                        0.135558                   0.901899   \n",
       "\n",
       "   perf_grp_selection rate_1  perf_grp_count_0  perf_grp_count_1  \n",
       "0                        NaN               NaN               NaN  \n",
       "0                   0.880830           20540.0           69170.0  \n",
       "0                        NaN               NaN               NaN  \n",
       "0                   0.704887           20540.0           69170.0  \n",
       "\n",
       "[4 rows x 50 columns]"
      ]
     },
     "execution_count": 66,
     "metadata": {},
     "output_type": "execute_result"
    }
   ],
   "source": [
    "final_output = universe_analysis.generate_final_output(\n",
    "    y_pred_prob=probs_test,\n",
    "    y_test=y_true,\n",
    "    org_test=org_test,\n",
    "    filter_data=filter_sub_universe_data,\n",
    "    cp_metrics_df=cp_metrics_df,\n",
    "    save=True,\n",
    ")\n",
    "final_output"
   ]
  }
 ],
 "metadata": {
  "celltoolbar": "Tags",
  "kernelspec": {
   "display_name": "Python (CMA Fairness)",
   "language": "python",
   "name": "cma_fair_env"
  },
  "language_info": {
   "codemirror_mode": {
    "name": "ipython",
    "version": 3
   },
   "file_extension": ".py",
   "mimetype": "text/x-python",
   "name": "python",
   "nbconvert_exporter": "python",
   "pygments_lexer": "ipython3",
   "version": "3.10.12"
  },
  "papermill": {
   "default_parameters": {},
   "duration": 39.498618,
   "end_time": "2025-08-05T15:57:06.013956",
   "environment_variables": {},
   "exception": null,
   "input_path": "universe_analysis.ipynb",
   "output_path": "output/runs/15/notebooks/m_15-3a97d2797c6e4e6e435944430e9027de.ipynb",
   "parameters": {
    "output_dir": "output",
    "run_no": "15",
    "seed": "2023",
    "universe": "{\"cutoff\": [\"quantile_0.1\", \"quantile_0.25\"], \"eval_fairness_grouping\": [\"majority-minority\", \"nationality-all\"], \"exclude_features\": \"sex\", \"exclude_subgroups\": \"drop-non-german\", \"model\": \"penalized_logreg\", \"scale\": \"do-not-scale\", \"training_size\": \"5k\", \"training_year\": \"2010_14\"}",
    "universe_id": "3a97d2797c6e4e6e435944430e9027de"
   },
   "start_time": "2025-08-05T15:56:26.515338",
   "version": "2.6.0"
  }
 },
 "nbformat": 4,
 "nbformat_minor": 5
}