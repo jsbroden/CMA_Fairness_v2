{
 "cells": [
  {
   "cell_type": "code",
   "execution_count": 1,
   "id": "f159f837-637b-42ba-96b5-ec9a68c44524",
   "metadata": {
    "execution": {
     "iopub.execute_input": "2025-08-05T16:11:45.523863Z",
     "iopub.status.busy": "2025-08-05T16:11:45.523515Z",
     "iopub.status.idle": "2025-08-05T16:11:45.534197Z",
     "shell.execute_reply": "2025-08-05T16:11:45.532984Z"
    },
    "papermill": {
     "duration": 0.022641,
     "end_time": "2025-08-05T16:11:45.535645",
     "exception": false,
     "start_time": "2025-08-05T16:11:45.513004",
     "status": "completed"
    },
    "tags": []
   },
   "outputs": [
    {
     "name": "stdout",
     "output_type": "stream",
     "text": [
      "/dss/dsshome1/0C/ra93lal2/cma/CMA_Fairness_v2\n"
     ]
    },
    {
     "name": "stderr",
     "output_type": "stream",
     "text": [
      "/dss/dsshome1/0C/ra93lal2/.local/share/virtualenvs/CMA_Fairness_v2-3j10GkSs/lib/python3.10/site-packages/IPython/core/magics/osm.py:393: UserWarning: This is now an optional IPython functionality, using bookmarks requires you to install the `pickleshare` library.\n",
      "  bkms = self.shell.db.get('bookmarks', {})\n",
      "/dss/dsshome1/0C/ra93lal2/.local/share/virtualenvs/CMA_Fairness_v2-3j10GkSs/lib/python3.10/site-packages/IPython/core/magics/osm.py:417: UserWarning: This is now an optional IPython functionality, setting dhist requires you to install the `pickleshare` library.\n",
      "  self.shell.db['dhist'] = compress_dhist(dhist)[-100:]\n"
     ]
    }
   ],
   "source": [
    "%cd ~/cma/CMA_Fairness_v2"
   ]
  },
  {
   "cell_type": "markdown",
   "id": "de2603b9",
   "metadata": {
    "papermill": {
     "duration": 0.009433,
     "end_time": "2025-08-05T16:11:45.554526",
     "exception": false,
     "start_time": "2025-08-05T16:11:45.545093",
     "status": "completed"
    },
    "tags": []
   },
   "source": [
    "The following cell holds the definition of our parameters, these values can be overriden by rendering the with e.g. the following command:\n",
    "\n",
    "papermill -p alpha 0.2 -p ratio 0.3 universe_analysis.ipynb output/test_run.ipynb"
   ]
  },
  {
   "cell_type": "code",
   "execution_count": 2,
   "id": "a80968a0-40bb-4fa9-85ef-2d5eefb01975",
   "metadata": {
    "execution": {
     "iopub.execute_input": "2025-08-05T16:11:45.623295Z",
     "iopub.status.busy": "2025-08-05T16:11:45.622804Z",
     "iopub.status.idle": "2025-08-05T16:11:45.627882Z",
     "shell.execute_reply": "2025-08-05T16:11:45.626858Z"
    },
    "papermill": {
     "duration": 0.01665,
     "end_time": "2025-08-05T16:11:45.629468",
     "exception": false,
     "start_time": "2025-08-05T16:11:45.612818",
     "status": "completed"
    },
    "tags": []
   },
   "outputs": [
    {
     "name": "stdout",
     "output_type": "stream",
     "text": [
      "Current working directory: /dss/dsshome1/0C/ra93lal2/cma/CMA_Fairness_v2\n"
     ]
    }
   ],
   "source": [
    "import os\n",
    "print(\"Current working directory:\", os.getcwd())"
   ]
  },
  {
   "cell_type": "code",
   "execution_count": 3,
   "id": "2dce4c03",
   "metadata": {
    "execution": {
     "iopub.execute_input": "2025-08-05T16:11:45.650207Z",
     "iopub.status.busy": "2025-08-05T16:11:45.649658Z",
     "iopub.status.idle": "2025-08-05T16:11:45.654445Z",
     "shell.execute_reply": "2025-08-05T16:11:45.653570Z"
    },
    "papermill": {
     "duration": 0.016245,
     "end_time": "2025-08-05T16:11:45.656000",
     "exception": false,
     "start_time": "2025-08-05T16:11:45.639755",
     "status": "completed"
    },
    "tags": [
     "parameters"
    ]
   },
   "outputs": [],
   "source": [
    "run_no = 0\n",
    "universe_id = \"test\"\n",
    "universe = {\n",
    "    \"training_size\": \"25k\", # \"25k\", \"5k\", \"1k\"\n",
    "    \"training_year\": \"2014\", # \"2014\", \"2012_14\", \"2010_14\"\n",
    "    \"scale\": \"scale\", # \"scale\", \"do-not-scale\",\n",
    "    \"model\": \"elasticnet\", # \"logreg\", \"penalized_logreg\", \"rf\", \"gbm\", \"elasticnet\"\n",
    "    \"cutoff\": [\"quantile_0.15\", \"quantile_0.30\"],\n",
    "    \"exclude_features\": \"age\", # \"none\", \"nationality\", \"sex\", \"nationality-sex\", \"age\"\n",
    "    \"exclude_subgroups\": \"keep-all\", # \"keep-all\", \"drop-non-german\"\n",
    "    \"eval_fairness_grouping\": [\"majority-minority\", \"nationality-all\"]\n",
    "}\n",
    "\n",
    "output_dir=\"./output\"\n",
    "seed=0"
   ]
  },
  {
   "cell_type": "code",
   "execution_count": 4,
   "id": "3cfe6a83",
   "metadata": {
    "execution": {
     "iopub.execute_input": "2025-08-05T16:11:45.677004Z",
     "iopub.status.busy": "2025-08-05T16:11:45.676513Z",
     "iopub.status.idle": "2025-08-05T16:11:45.681222Z",
     "shell.execute_reply": "2025-08-05T16:11:45.680483Z"
    },
    "papermill": {
     "duration": 0.016152,
     "end_time": "2025-08-05T16:11:45.682788",
     "exception": false,
     "start_time": "2025-08-05T16:11:45.666636",
     "status": "completed"
    },
    "tags": [
     "injected-parameters"
    ]
   },
   "outputs": [],
   "source": [
    "# Parameters\n",
    "universe_id = \"00be8089a5dd7cda46dbbdaace646ed4\"\n",
    "run_no = \"15\"\n",
    "universe = \"{\\\"cutoff\\\": [\\\"quantile_0.1\\\", \\\"quantile_0.25\\\"], \\\"eval_fairness_grouping\\\": [\\\"majority-minority\\\", \\\"nationality-all\\\"], \\\"exclude_features\\\": \\\"nationality-sex\\\", \\\"exclude_subgroups\\\": \\\"drop-non-german\\\", \\\"model\\\": \\\"rf\\\", \\\"scale\\\": \\\"do-not-scale\\\", \\\"training_size\\\": \\\"1k\\\", \\\"training_year\\\": \\\"2014\\\"}\"\n",
    "output_dir = \"output\"\n",
    "seed = \"2023\"\n"
   ]
  },
  {
   "cell_type": "code",
   "execution_count": 5,
   "id": "1650acaf",
   "metadata": {
    "execution": {
     "iopub.execute_input": "2025-08-05T16:11:45.703735Z",
     "iopub.status.busy": "2025-08-05T16:11:45.703387Z",
     "iopub.status.idle": "2025-08-05T16:11:45.707796Z",
     "shell.execute_reply": "2025-08-05T16:11:45.706606Z"
    },
    "papermill": {
     "duration": 0.015855,
     "end_time": "2025-08-05T16:11:45.709271",
     "exception": false,
     "start_time": "2025-08-05T16:11:45.693416",
     "status": "completed"
    },
    "tags": []
   },
   "outputs": [],
   "source": [
    "import json\n",
    "if isinstance(universe, str):\n",
    "    universe = json.loads(universe)"
   ]
  },
  {
   "cell_type": "code",
   "execution_count": 6,
   "id": "16620c48",
   "metadata": {
    "execution": {
     "iopub.execute_input": "2025-08-05T16:11:45.729778Z",
     "iopub.status.busy": "2025-08-05T16:11:45.729403Z",
     "iopub.status.idle": "2025-08-05T16:11:45.766952Z",
     "shell.execute_reply": "2025-08-05T16:11:45.765956Z"
    },
    "papermill": {
     "duration": 0.04908,
     "end_time": "2025-08-05T16:11:45.768465",
     "exception": false,
     "start_time": "2025-08-05T16:11:45.719385",
     "status": "completed"
    },
    "tags": []
   },
   "outputs": [],
   "source": [
    "# Auto-reload the custom package\n",
    "%load_ext autoreload\n",
    "%autoreload 1\n",
    "%aimport fairness_multiverse"
   ]
  },
  {
   "cell_type": "code",
   "execution_count": 7,
   "id": "01c5c9f3",
   "metadata": {
    "execution": {
     "iopub.execute_input": "2025-08-05T16:11:45.800410Z",
     "iopub.status.busy": "2025-08-05T16:11:45.799943Z",
     "iopub.status.idle": "2025-08-05T16:11:47.637155Z",
     "shell.execute_reply": "2025-08-05T16:11:47.636213Z"
    },
    "papermill": {
     "duration": 1.852749,
     "end_time": "2025-08-05T16:11:47.639209",
     "exception": false,
     "start_time": "2025-08-05T16:11:45.786460",
     "status": "completed"
    },
    "tags": []
   },
   "outputs": [],
   "source": [
    "from fairness_multiverse.universe import UniverseAnalysis\n",
    "\n",
    "universe_analysis = UniverseAnalysis(\n",
    "    run_no = run_no,\n",
    "    universe_id = universe_id,\n",
    "    universe = universe,\n",
    "    output_dir=output_dir,\n",
    ")"
   ]
  },
  {
   "cell_type": "code",
   "execution_count": 8,
   "id": "106241f5",
   "metadata": {
    "execution": {
     "iopub.execute_input": "2025-08-05T16:11:47.677045Z",
     "iopub.status.busy": "2025-08-05T16:11:47.676120Z",
     "iopub.status.idle": "2025-08-05T16:11:47.683164Z",
     "shell.execute_reply": "2025-08-05T16:11:47.681900Z"
    },
    "papermill": {
     "duration": 0.027999,
     "end_time": "2025-08-05T16:11:47.684986",
     "exception": false,
     "start_time": "2025-08-05T16:11:47.656987",
     "status": "completed"
    },
    "tags": []
   },
   "outputs": [
    {
     "name": "stdout",
     "output_type": "stream",
     "text": [
      "Using Seed: 2023\n"
     ]
    }
   ],
   "source": [
    "import numpy as np\n",
    "parsed_seed = int(seed)\n",
    "np.random.seed(parsed_seed)\n",
    "print(f\"Using Seed: {parsed_seed}\")"
   ]
  },
  {
   "cell_type": "markdown",
   "id": "e0ebdc57",
   "metadata": {
    "papermill": {
     "duration": 0.017136,
     "end_time": "2025-08-05T16:11:47.719708",
     "exception": false,
     "start_time": "2025-08-05T16:11:47.702572",
     "status": "completed"
    },
    "tags": []
   },
   "source": [
    "# Loading Data"
   ]
  },
  {
   "cell_type": "code",
   "execution_count": 9,
   "id": "f0496b8a",
   "metadata": {
    "execution": {
     "iopub.execute_input": "2025-08-05T16:11:47.757337Z",
     "iopub.status.busy": "2025-08-05T16:11:47.756679Z",
     "iopub.status.idle": "2025-08-05T16:12:00.530941Z",
     "shell.execute_reply": "2025-08-05T16:12:00.529596Z"
    },
    "papermill": {
     "duration": 12.795125,
     "end_time": "2025-08-05T16:12:00.532696",
     "exception": false,
     "start_time": "2025-08-05T16:11:47.737571",
     "status": "completed"
    },
    "tags": []
   },
   "outputs": [
    {
     "name": "stdout",
     "output_type": "stream",
     "text": [
      "Loading SIAB data from cache: data/siab_cached.csv.gz\n"
     ]
    },
    {
     "name": "stdout",
     "output_type": "stream",
     "text": [
      "(643690, 164)\n"
     ]
    }
   ],
   "source": [
    "from pathlib import Path\n",
    "import pandas as pd\n",
    "\n",
    "# File paths\n",
    "raw_file = Path(\"data/raw/siab.csv\")\n",
    "cache_file = Path(\"data/siab_cached.csv.gz\")\n",
    "\n",
    "# Ensure cache directory exists\n",
    "cache_file.parent.mkdir(parents=True, exist_ok=True)\n",
    "\n",
    "# Load with simple caching\n",
    "if cache_file.exists():\n",
    "    print(f\"Loading SIAB data from cache: {cache_file}\")\n",
    "    siab = pd.read_csv(cache_file, compression='gzip')\n",
    "else:\n",
    "    print(f\"Cache not found. Reading raw SIAB data: {raw_file}\")\n",
    "    siab = pd.read_csv(raw_file)\n",
    "    siab.to_csv(cache_file, index=False, compression='gzip')\n",
    "    print(f\"Cached SIAB data to: {cache_file}\")\n",
    "\n",
    "print(siab.shape)"
   ]
  },
  {
   "cell_type": "code",
   "execution_count": 10,
   "id": "db0ca512-5f53-4dba-abdb-a2888bca41ba",
   "metadata": {
    "execution": {
     "iopub.execute_input": "2025-08-05T16:12:00.573817Z",
     "iopub.status.busy": "2025-08-05T16:12:00.573165Z",
     "iopub.status.idle": "2025-08-05T16:12:00.579786Z",
     "shell.execute_reply": "2025-08-05T16:12:00.578808Z"
    },
    "papermill": {
     "duration": 0.027859,
     "end_time": "2025-08-05T16:12:00.581615",
     "exception": false,
     "start_time": "2025-08-05T16:12:00.553756",
     "status": "completed"
    },
    "tags": []
   },
   "outputs": [],
   "source": [
    "#siab"
   ]
  },
  {
   "cell_type": "markdown",
   "id": "997051c5-15bd-4b69-9786-c3001a3ce484",
   "metadata": {
    "papermill": {
     "duration": 0.021837,
     "end_time": "2025-08-05T16:12:00.625061",
     "exception": false,
     "start_time": "2025-08-05T16:12:00.603224",
     "status": "completed"
    },
    "tags": []
   },
   "source": [
    "# Splitting Data and Setting Training Data Size"
   ]
  },
  {
   "cell_type": "code",
   "execution_count": 11,
   "id": "aea9c6ef-6f46-42c8-85eb-5a62025c1508",
   "metadata": {
    "execution": {
     "iopub.execute_input": "2025-08-05T16:12:00.670408Z",
     "iopub.status.busy": "2025-08-05T16:12:00.669798Z",
     "iopub.status.idle": "2025-08-05T16:12:00.909971Z",
     "shell.execute_reply": "2025-08-05T16:12:00.908879Z"
    },
    "papermill": {
     "duration": 0.265206,
     "end_time": "2025-08-05T16:12:00.911955",
     "exception": false,
     "start_time": "2025-08-05T16:12:00.646749",
     "status": "completed"
    },
    "tags": []
   },
   "outputs": [],
   "source": [
    "from fairness_multiverse.universe import sample_by_year_size\n",
    "\n",
    "siab_train = sample_by_year_size(siab,\n",
    "                               training_year=universe[\"training_year\"],\n",
    "                               training_size=universe[\"training_size\"])"
   ]
  },
  {
   "cell_type": "code",
   "execution_count": 12,
   "id": "8d3afb32-789d-442c-8d5d-9f5aa8dd2eed",
   "metadata": {
    "execution": {
     "iopub.execute_input": "2025-08-05T16:12:00.957442Z",
     "iopub.status.busy": "2025-08-05T16:12:00.956678Z",
     "iopub.status.idle": "2025-08-05T16:12:00.962296Z",
     "shell.execute_reply": "2025-08-05T16:12:00.961208Z"
    },
    "papermill": {
     "duration": 0.033023,
     "end_time": "2025-08-05T16:12:00.963989",
     "exception": false,
     "start_time": "2025-08-05T16:12:00.930966",
     "status": "completed"
    },
    "tags": []
   },
   "outputs": [],
   "source": [
    "#siab_train.shape"
   ]
  },
  {
   "cell_type": "code",
   "execution_count": 13,
   "id": "d582db68-1a4c-47fb-84fc-08518dc1975a",
   "metadata": {
    "execution": {
     "iopub.execute_input": "2025-08-05T16:12:01.007093Z",
     "iopub.status.busy": "2025-08-05T16:12:01.006597Z",
     "iopub.status.idle": "2025-08-05T16:12:01.012290Z",
     "shell.execute_reply": "2025-08-05T16:12:01.011226Z"
    },
    "papermill": {
     "duration": 0.029536,
     "end_time": "2025-08-05T16:12:01.014402",
     "exception": false,
     "start_time": "2025-08-05T16:12:00.984866",
     "status": "completed"
    },
    "tags": []
   },
   "outputs": [],
   "source": [
    "#display(siab_train.groupby(\"year\").size())"
   ]
  },
  {
   "cell_type": "code",
   "execution_count": 14,
   "id": "a561edb4-d032-42cb-8256-22eac1111c64",
   "metadata": {
    "execution": {
     "iopub.execute_input": "2025-08-05T16:12:01.055986Z",
     "iopub.status.busy": "2025-08-05T16:12:01.055486Z",
     "iopub.status.idle": "2025-08-05T16:12:01.309178Z",
     "shell.execute_reply": "2025-08-05T16:12:01.308125Z"
    },
    "papermill": {
     "duration": 0.276562,
     "end_time": "2025-08-05T16:12:01.310902",
     "exception": false,
     "start_time": "2025-08-05T16:12:01.034340",
     "status": "completed"
    },
    "tags": []
   },
   "outputs": [],
   "source": [
    "#siab_train = siab_s[siab_s.year < 2015]\n",
    "siab_calib = siab[siab.year == 2015]\n",
    "siab_test = siab[siab.year == 2016]"
   ]
  },
  {
   "cell_type": "code",
   "execution_count": 15,
   "id": "472de16f-c3db-4916-846b-1f0de9cf1746",
   "metadata": {
    "execution": {
     "iopub.execute_input": "2025-08-05T16:12:01.349195Z",
     "iopub.status.busy": "2025-08-05T16:12:01.348120Z",
     "iopub.status.idle": "2025-08-05T16:12:01.355790Z",
     "shell.execute_reply": "2025-08-05T16:12:01.354805Z"
    },
    "papermill": {
     "duration": 0.030119,
     "end_time": "2025-08-05T16:12:01.357638",
     "exception": false,
     "start_time": "2025-08-05T16:12:01.327519",
     "status": "completed"
    },
    "tags": []
   },
   "outputs": [],
   "source": [
    "X_train = siab_train.iloc[:,4:164]\n",
    "y_train = siab_train.iloc[:, [3]]"
   ]
  },
  {
   "cell_type": "code",
   "execution_count": 16,
   "id": "828c96af-f43a-4ed6-ba47-8ac73a47d56c",
   "metadata": {
    "execution": {
     "iopub.execute_input": "2025-08-05T16:12:01.398578Z",
     "iopub.status.busy": "2025-08-05T16:12:01.397613Z",
     "iopub.status.idle": "2025-08-05T16:12:01.451934Z",
     "shell.execute_reply": "2025-08-05T16:12:01.450565Z"
    },
    "papermill": {
     "duration": 0.076834,
     "end_time": "2025-08-05T16:12:01.454129",
     "exception": false,
     "start_time": "2025-08-05T16:12:01.377295",
     "status": "completed"
    },
    "tags": []
   },
   "outputs": [],
   "source": [
    "X_calib = siab_calib.iloc[:,4:164]\n",
    "y_calib = siab_calib.iloc[:, [3]]"
   ]
  },
  {
   "cell_type": "code",
   "execution_count": 17,
   "id": "c34be9c3-6bd6-476e-acd3-845840e303be",
   "metadata": {
    "execution": {
     "iopub.execute_input": "2025-08-05T16:12:01.493795Z",
     "iopub.status.busy": "2025-08-05T16:12:01.493187Z",
     "iopub.status.idle": "2025-08-05T16:12:01.544058Z",
     "shell.execute_reply": "2025-08-05T16:12:01.542929Z"
    },
    "papermill": {
     "duration": 0.072445,
     "end_time": "2025-08-05T16:12:01.545903",
     "exception": false,
     "start_time": "2025-08-05T16:12:01.473458",
     "status": "completed"
    },
    "tags": []
   },
   "outputs": [],
   "source": [
    "X_test = siab_test.iloc[:,4:164]\n",
    "y_true = siab_test.iloc[:, [3]]"
   ]
  },
  {
   "cell_type": "code",
   "execution_count": 18,
   "id": "e6c733c5",
   "metadata": {
    "execution": {
     "iopub.execute_input": "2025-08-05T16:12:01.584159Z",
     "iopub.status.busy": "2025-08-05T16:12:01.583353Z",
     "iopub.status.idle": "2025-08-05T16:12:01.679310Z",
     "shell.execute_reply": "2025-08-05T16:12:01.678328Z"
    },
    "papermill": {
     "duration": 0.116525,
     "end_time": "2025-08-05T16:12:01.681242",
     "exception": false,
     "start_time": "2025-08-05T16:12:01.564717",
     "status": "completed"
    },
    "tags": []
   },
   "outputs": [],
   "source": [
    "# Auxiliary data needed downstream in the pipeline\n",
    "\n",
    "org_train = X_train.copy()\n",
    "org_test = X_test.copy()\n",
    "org_calib = X_calib.copy()"
   ]
  },
  {
   "cell_type": "markdown",
   "id": "0a4a1b33",
   "metadata": {
    "papermill": {
     "duration": 0.017369,
     "end_time": "2025-08-05T16:12:01.717851",
     "exception": false,
     "start_time": "2025-08-05T16:12:01.700482",
     "status": "completed"
    },
    "tags": []
   },
   "source": [
    "# Preprocessing Data"
   ]
  },
  {
   "cell_type": "code",
   "execution_count": 19,
   "id": "ca879031",
   "metadata": {
    "execution": {
     "iopub.execute_input": "2025-08-05T16:12:01.755122Z",
     "iopub.status.busy": "2025-08-05T16:12:01.754447Z",
     "iopub.status.idle": "2025-08-05T16:12:01.760833Z",
     "shell.execute_reply": "2025-08-05T16:12:01.759733Z"
    },
    "papermill": {
     "duration": 0.027913,
     "end_time": "2025-08-05T16:12:01.763023",
     "exception": false,
     "start_time": "2025-08-05T16:12:01.735110",
     "status": "completed"
    },
    "tags": []
   },
   "outputs": [],
   "source": [
    "# EXCLUDE PROTECTED FEATURES\n",
    "# ----------------------\n",
    "# \"exclude_features\": \"none\", # \"nationality\", \"sex\", \"nationality-sex\"\n",
    "\n",
    "excluded_features = universe[\"exclude_features\"].split(\"-\") # split, e.g.: \"nationality-sex\" -> [\"nationality\", \"sex\"]\n",
    "excluded_features_dictionary = {\n",
    "    \"nationality\": [\"maxdeutsch1\", \"maxdeutsch.Missing.\"],\n",
    "    \"sex\": [\"frau1\"],\n",
    "    \"age\": [\"age\"],\n",
    "}"
   ]
  },
  {
   "cell_type": "code",
   "execution_count": 20,
   "id": "b745ac60",
   "metadata": {
    "execution": {
     "iopub.execute_input": "2025-08-05T16:12:01.802616Z",
     "iopub.status.busy": "2025-08-05T16:12:01.801750Z",
     "iopub.status.idle": "2025-08-05T16:12:01.808390Z",
     "shell.execute_reply": "2025-08-05T16:12:01.807421Z"
    },
    "papermill": {
     "duration": 0.028331,
     "end_time": "2025-08-05T16:12:01.810299",
     "exception": false,
     "start_time": "2025-08-05T16:12:01.781968",
     "status": "completed"
    },
    "tags": []
   },
   "outputs": [],
   "source": [
    "# Code nice names to column names\n",
    "\n",
    "excluded_features_columns = [\n",
    "    excluded_features_dictionary[f] for f in excluded_features if len(f) > 0 and f != \"none\"\n",
    "]"
   ]
  },
  {
   "cell_type": "code",
   "execution_count": 21,
   "id": "f84f73a2",
   "metadata": {
    "execution": {
     "iopub.execute_input": "2025-08-05T16:12:01.850612Z",
     "iopub.status.busy": "2025-08-05T16:12:01.849912Z",
     "iopub.status.idle": "2025-08-05T16:12:01.857023Z",
     "shell.execute_reply": "2025-08-05T16:12:01.855891Z"
    },
    "papermill": {
     "duration": 0.029153,
     "end_time": "2025-08-05T16:12:01.858913",
     "exception": false,
     "start_time": "2025-08-05T16:12:01.829760",
     "status": "completed"
    },
    "tags": []
   },
   "outputs": [],
   "source": [
    "from utils import flatten_once\n",
    "\n",
    "excluded_features_columns = flatten_once(excluded_features_columns)"
   ]
  },
  {
   "cell_type": "code",
   "execution_count": 22,
   "id": "884dea22",
   "metadata": {
    "execution": {
     "iopub.execute_input": "2025-08-05T16:12:01.897854Z",
     "iopub.status.busy": "2025-08-05T16:12:01.897301Z",
     "iopub.status.idle": "2025-08-05T16:12:01.905744Z",
     "shell.execute_reply": "2025-08-05T16:12:01.904452Z"
    },
    "papermill": {
     "duration": 0.029737,
     "end_time": "2025-08-05T16:12:01.907404",
     "exception": false,
     "start_time": "2025-08-05T16:12:01.877667",
     "status": "completed"
    },
    "tags": []
   },
   "outputs": [
    {
     "name": "stdout",
     "output_type": "stream",
     "text": [
      "Dropping features: ['maxdeutsch1', 'maxdeutsch.Missing.', 'frau1']\n"
     ]
    }
   ],
   "source": [
    "if len(excluded_features_columns) > 0:\n",
    "    print(f\"Dropping features: {excluded_features_columns}\")\n",
    "    X_train.drop(excluded_features_columns, axis=1, inplace=True)"
   ]
  },
  {
   "cell_type": "code",
   "execution_count": 23,
   "id": "95ab8b16",
   "metadata": {
    "execution": {
     "iopub.execute_input": "2025-08-05T16:12:01.945193Z",
     "iopub.status.busy": "2025-08-05T16:12:01.944755Z",
     "iopub.status.idle": "2025-08-05T16:12:02.004346Z",
     "shell.execute_reply": "2025-08-05T16:12:02.003313Z"
    },
    "papermill": {
     "duration": 0.080143,
     "end_time": "2025-08-05T16:12:02.006324",
     "exception": false,
     "start_time": "2025-08-05T16:12:01.926181",
     "status": "completed"
    },
    "tags": []
   },
   "outputs": [
    {
     "name": "stdout",
     "output_type": "stream",
     "text": [
      "Dropping features: ['maxdeutsch1', 'maxdeutsch.Missing.', 'frau1']\n"
     ]
    }
   ],
   "source": [
    "if len(excluded_features_columns) > 0:\n",
    "    print(f\"Dropping features: {excluded_features_columns}\")\n",
    "    X_test.drop(excluded_features_columns, axis=1, inplace=True)"
   ]
  },
  {
   "cell_type": "code",
   "execution_count": 24,
   "id": "1853aaf5-fb9f-46cb-a2b5-8ea4ae2237e4",
   "metadata": {
    "execution": {
     "iopub.execute_input": "2025-08-05T16:12:02.046973Z",
     "iopub.status.busy": "2025-08-05T16:12:02.046288Z",
     "iopub.status.idle": "2025-08-05T16:12:02.097172Z",
     "shell.execute_reply": "2025-08-05T16:12:02.096007Z"
    },
    "papermill": {
     "duration": 0.074079,
     "end_time": "2025-08-05T16:12:02.099182",
     "exception": false,
     "start_time": "2025-08-05T16:12:02.025103",
     "status": "completed"
    },
    "tags": []
   },
   "outputs": [
    {
     "name": "stdout",
     "output_type": "stream",
     "text": [
      "Dropping features: ['maxdeutsch1', 'maxdeutsch.Missing.', 'frau1']\n"
     ]
    }
   ],
   "source": [
    "if len(excluded_features_columns) > 0:\n",
    "    print(f\"Dropping features: {excluded_features_columns}\")\n",
    "    X_calib.drop(excluded_features_columns, axis=1, inplace=True)"
   ]
  },
  {
   "cell_type": "code",
   "execution_count": 25,
   "id": "76c4dc6d",
   "metadata": {
    "execution": {
     "iopub.execute_input": "2025-08-05T16:12:02.138437Z",
     "iopub.status.busy": "2025-08-05T16:12:02.137547Z",
     "iopub.status.idle": "2025-08-05T16:12:02.142995Z",
     "shell.execute_reply": "2025-08-05T16:12:02.141913Z"
    },
    "papermill": {
     "duration": 0.025721,
     "end_time": "2025-08-05T16:12:02.144588",
     "exception": false,
     "start_time": "2025-08-05T16:12:02.118867",
     "status": "completed"
    },
    "tags": []
   },
   "outputs": [],
   "source": [
    "# EXCLUDE CERTAIN SUBGROUPS\n",
    "# ----------------------\n",
    "\n",
    "mode = universe.get(\"exclude_subgroups\", \"keep-all\") \n",
    "# Fetches the exclude_subgroups setting from the universe dict.\n",
    "# Defaults to \"keep-all\" if the key is missing."
   ]
  },
  {
   "cell_type": "code",
   "execution_count": 26,
   "id": "21994072",
   "metadata": {
    "execution": {
     "iopub.execute_input": "2025-08-05T16:12:02.185889Z",
     "iopub.status.busy": "2025-08-05T16:12:02.185022Z",
     "iopub.status.idle": "2025-08-05T16:12:02.192358Z",
     "shell.execute_reply": "2025-08-05T16:12:02.191293Z"
    },
    "papermill": {
     "duration": 0.029404,
     "end_time": "2025-08-05T16:12:02.194504",
     "exception": false,
     "start_time": "2025-08-05T16:12:02.165100",
     "status": "completed"
    },
    "tags": []
   },
   "outputs": [],
   "source": [
    "if mode == \"keep-all\":\n",
    "    keep_mask = pd.Series(True, index=org_train.index)\n",
    "\n",
    "# org_train contains the original feature columns from features_org (in Simson)\n",
    "# features_org contains unprocessed features, for me X_train at beginning ???\n",
    "# For keep-all, creates a boolean Series (keep_mask) of all True, so no rows are removed.\n",
    "\n",
    "elif mode == \"drop-non-german\":\n",
    "    keep_mask = org_train[\"maxdeutsch1\"] == 1 # ??? what about missing values?\n",
    "\n",
    "else:\n",
    "    raise ValueError(f\"Unsupported mode for exclude_subgroups: {mode}\")"
   ]
  },
  {
   "cell_type": "code",
   "execution_count": 27,
   "id": "71651440",
   "metadata": {
    "execution": {
     "iopub.execute_input": "2025-08-05T16:12:02.235168Z",
     "iopub.status.busy": "2025-08-05T16:12:02.234312Z",
     "iopub.status.idle": "2025-08-05T16:12:02.241594Z",
     "shell.execute_reply": "2025-08-05T16:12:02.240396Z"
    },
    "papermill": {
     "duration": 0.029173,
     "end_time": "2025-08-05T16:12:02.243192",
     "exception": false,
     "start_time": "2025-08-05T16:12:02.214019",
     "status": "completed"
    },
    "tags": []
   },
   "outputs": [
    {
     "name": "stdout",
     "output_type": "stream",
     "text": [
      "Dropping 147 rows (14.70%) where mode='drop-non-german'\n"
     ]
    }
   ],
   "source": [
    "n_drop = (~keep_mask).sum() # Calculates how many rows are set to be dropped\n",
    "if n_drop > 0:\n",
    "    pct = n_drop / len(keep_mask) * 100\n",
    "    print(f\"Dropping {n_drop} rows ({pct:.2f}%) where mode='{mode}'\")"
   ]
  },
  {
   "cell_type": "code",
   "execution_count": 28,
   "id": "5fb8eee5",
   "metadata": {
    "execution": {
     "iopub.execute_input": "2025-08-05T16:12:02.282425Z",
     "iopub.status.busy": "2025-08-05T16:12:02.281477Z",
     "iopub.status.idle": "2025-08-05T16:12:02.287676Z",
     "shell.execute_reply": "2025-08-05T16:12:02.286734Z"
    },
    "papermill": {
     "duration": 0.02726,
     "end_time": "2025-08-05T16:12:02.289689",
     "exception": false,
     "start_time": "2025-08-05T16:12:02.262429",
     "status": "completed"
    },
    "tags": []
   },
   "outputs": [],
   "source": [
    "X_train = X_train[keep_mask]"
   ]
  },
  {
   "cell_type": "code",
   "execution_count": 29,
   "id": "b202bb3a",
   "metadata": {
    "execution": {
     "iopub.execute_input": "2025-08-05T16:12:02.330219Z",
     "iopub.status.busy": "2025-08-05T16:12:02.329763Z",
     "iopub.status.idle": "2025-08-05T16:12:02.335364Z",
     "shell.execute_reply": "2025-08-05T16:12:02.334325Z"
    },
    "papermill": {
     "duration": 0.027272,
     "end_time": "2025-08-05T16:12:02.337029",
     "exception": false,
     "start_time": "2025-08-05T16:12:02.309757",
     "status": "completed"
    },
    "tags": []
   },
   "outputs": [],
   "source": [
    "y_train = y_train[keep_mask]"
   ]
  },
  {
   "cell_type": "markdown",
   "id": "493e2ac3",
   "metadata": {
    "papermill": {
     "duration": 0.019695,
     "end_time": "2025-08-05T16:12:02.377034",
     "exception": false,
     "start_time": "2025-08-05T16:12:02.357339",
     "status": "completed"
    },
    "tags": []
   },
   "source": [
    "# Model Training"
   ]
  },
  {
   "cell_type": "code",
   "execution_count": 30,
   "id": "679e1268",
   "metadata": {
    "execution": {
     "iopub.execute_input": "2025-08-05T16:12:02.416926Z",
     "iopub.status.busy": "2025-08-05T16:12:02.415912Z",
     "iopub.status.idle": "2025-08-05T16:12:02.562633Z",
     "shell.execute_reply": "2025-08-05T16:12:02.561501Z"
    },
    "papermill": {
     "duration": 0.16798,
     "end_time": "2025-08-05T16:12:02.564613",
     "exception": false,
     "start_time": "2025-08-05T16:12:02.396633",
     "status": "completed"
    },
    "tags": []
   },
   "outputs": [],
   "source": [
    "from sklearn.linear_model import LogisticRegression\n",
    "from sklearn.ensemble import GradientBoostingClassifier, RandomForestClassifier\n",
    "\n",
    "if (universe[\"model\"] == \"logreg\"):\n",
    "    model = LogisticRegression() #penalty=\"none\", solver=\"newton-cg\", max_iter=1) # include random_state=19 ?\n",
    "elif (universe[\"model\"] == \"penalized_logreg\"):\n",
    "    model = LogisticRegression(penalty=\"l2\", C=0.1) #, solver=\"newton-cg\", max_iter=1)\n",
    "elif (universe[\"model\"] == \"rf\"):\n",
    "    model = RandomForestClassifier() # n_estimators=100, n_jobs=-1\n",
    "elif (universe[\"model\"] == \"gbm\"):\n",
    "    model = GradientBoostingClassifier()\n",
    "elif (universe[\"model\"] == \"elasticnet\"):\n",
    "    model = LogisticRegression(penalty = 'elasticnet', solver = 'saga', l1_ratio = 0.5) # max_iter=5000\n",
    "else:\n",
    "    raise \"Unsupported universe.model\""
   ]
  },
  {
   "cell_type": "code",
   "execution_count": 31,
   "id": "0cc8f744",
   "metadata": {
    "execution": {
     "iopub.execute_input": "2025-08-05T16:12:02.606366Z",
     "iopub.status.busy": "2025-08-05T16:12:02.605692Z",
     "iopub.status.idle": "2025-08-05T16:12:02.612397Z",
     "shell.execute_reply": "2025-08-05T16:12:02.611340Z"
    },
    "papermill": {
     "duration": 0.028266,
     "end_time": "2025-08-05T16:12:02.614225",
     "exception": false,
     "start_time": "2025-08-05T16:12:02.585959",
     "status": "completed"
    },
    "tags": []
   },
   "outputs": [],
   "source": [
    "import numpy as np\n",
    "from sklearn.pipeline import Pipeline\n",
    "from sklearn.preprocessing import StandardScaler\n",
    "\n",
    "model = Pipeline([\n",
    "    #(\"continuous_processor\", continuous_processor),\n",
    "    #(\"categorical_preprocessor\", categorical_preprocessor),\n",
    "    (\"scale\", StandardScaler() if universe[\"scale\"] == \"scale\" else None), \n",
    "    (\"model\", model),\n",
    "])"
   ]
  },
  {
   "cell_type": "code",
   "execution_count": 32,
   "id": "9442c04d",
   "metadata": {
    "execution": {
     "iopub.execute_input": "2025-08-05T16:12:02.656584Z",
     "iopub.status.busy": "2025-08-05T16:12:02.655669Z",
     "iopub.status.idle": "2025-08-05T16:12:03.019280Z",
     "shell.execute_reply": "2025-08-05T16:12:03.018239Z"
    },
    "papermill": {
     "duration": 0.38655,
     "end_time": "2025-08-05T16:12:03.021468",
     "exception": false,
     "start_time": "2025-08-05T16:12:02.634918",
     "status": "completed"
    },
    "tags": []
   },
   "outputs": [
    {
     "data": {
      "text/html": [
       "<style>#sk-container-id-1 {color: black;background-color: white;}#sk-container-id-1 pre{padding: 0;}#sk-container-id-1 div.sk-toggleable {background-color: white;}#sk-container-id-1 label.sk-toggleable__label {cursor: pointer;display: block;width: 100%;margin-bottom: 0;padding: 0.3em;box-sizing: border-box;text-align: center;}#sk-container-id-1 label.sk-toggleable__label-arrow:before {content: \"▸\";float: left;margin-right: 0.25em;color: #696969;}#sk-container-id-1 label.sk-toggleable__label-arrow:hover:before {color: black;}#sk-container-id-1 div.sk-estimator:hover label.sk-toggleable__label-arrow:before {color: black;}#sk-container-id-1 div.sk-toggleable__content {max-height: 0;max-width: 0;overflow: hidden;text-align: left;background-color: #f0f8ff;}#sk-container-id-1 div.sk-toggleable__content pre {margin: 0.2em;color: black;border-radius: 0.25em;background-color: #f0f8ff;}#sk-container-id-1 input.sk-toggleable__control:checked~div.sk-toggleable__content {max-height: 200px;max-width: 100%;overflow: auto;}#sk-container-id-1 input.sk-toggleable__control:checked~label.sk-toggleable__label-arrow:before {content: \"▾\";}#sk-container-id-1 div.sk-estimator input.sk-toggleable__control:checked~label.sk-toggleable__label {background-color: #d4ebff;}#sk-container-id-1 div.sk-label input.sk-toggleable__control:checked~label.sk-toggleable__label {background-color: #d4ebff;}#sk-container-id-1 input.sk-hidden--visually {border: 0;clip: rect(1px 1px 1px 1px);clip: rect(1px, 1px, 1px, 1px);height: 1px;margin: -1px;overflow: hidden;padding: 0;position: absolute;width: 1px;}#sk-container-id-1 div.sk-estimator {font-family: monospace;background-color: #f0f8ff;border: 1px dotted black;border-radius: 0.25em;box-sizing: border-box;margin-bottom: 0.5em;}#sk-container-id-1 div.sk-estimator:hover {background-color: #d4ebff;}#sk-container-id-1 div.sk-parallel-item::after {content: \"\";width: 100%;border-bottom: 1px solid gray;flex-grow: 1;}#sk-container-id-1 div.sk-label:hover label.sk-toggleable__label {background-color: #d4ebff;}#sk-container-id-1 div.sk-serial::before {content: \"\";position: absolute;border-left: 1px solid gray;box-sizing: border-box;top: 0;bottom: 0;left: 50%;z-index: 0;}#sk-container-id-1 div.sk-serial {display: flex;flex-direction: column;align-items: center;background-color: white;padding-right: 0.2em;padding-left: 0.2em;position: relative;}#sk-container-id-1 div.sk-item {position: relative;z-index: 1;}#sk-container-id-1 div.sk-parallel {display: flex;align-items: stretch;justify-content: center;background-color: white;position: relative;}#sk-container-id-1 div.sk-item::before, #sk-container-id-1 div.sk-parallel-item::before {content: \"\";position: absolute;border-left: 1px solid gray;box-sizing: border-box;top: 0;bottom: 0;left: 50%;z-index: -1;}#sk-container-id-1 div.sk-parallel-item {display: flex;flex-direction: column;z-index: 1;position: relative;background-color: white;}#sk-container-id-1 div.sk-parallel-item:first-child::after {align-self: flex-end;width: 50%;}#sk-container-id-1 div.sk-parallel-item:last-child::after {align-self: flex-start;width: 50%;}#sk-container-id-1 div.sk-parallel-item:only-child::after {width: 0;}#sk-container-id-1 div.sk-dashed-wrapped {border: 1px dashed gray;margin: 0 0.4em 0.5em 0.4em;box-sizing: border-box;padding-bottom: 0.4em;background-color: white;}#sk-container-id-1 div.sk-label label {font-family: monospace;font-weight: bold;display: inline-block;line-height: 1.2em;}#sk-container-id-1 div.sk-label-container {text-align: center;}#sk-container-id-1 div.sk-container {/* jupyter's `normalize.less` sets `[hidden] { display: none; }` but bootstrap.min.css set `[hidden] { display: none !important; }` so we also need the `!important` here to be able to override the default hidden behavior on the sphinx rendered scikit-learn.org. See: https://github.com/scikit-learn/scikit-learn/issues/21755 */display: inline-block !important;position: relative;}#sk-container-id-1 div.sk-text-repr-fallback {display: none;}</style><div id=\"sk-container-id-1\" class=\"sk-top-container\"><div class=\"sk-text-repr-fallback\"><pre>Pipeline(steps=[(&#x27;scale&#x27;, None), (&#x27;model&#x27;, RandomForestClassifier())])</pre><b>In a Jupyter environment, please rerun this cell to show the HTML representation or trust the notebook. <br />On GitHub, the HTML representation is unable to render, please try loading this page with nbviewer.org.</b></div><div class=\"sk-container\" hidden><div class=\"sk-item sk-dashed-wrapped\"><div class=\"sk-label-container\"><div class=\"sk-label sk-toggleable\"><input class=\"sk-toggleable__control sk-hidden--visually\" id=\"sk-estimator-id-1\" type=\"checkbox\" ><label for=\"sk-estimator-id-1\" class=\"sk-toggleable__label sk-toggleable__label-arrow\">Pipeline</label><div class=\"sk-toggleable__content\"><pre>Pipeline(steps=[(&#x27;scale&#x27;, None), (&#x27;model&#x27;, RandomForestClassifier())])</pre></div></div></div><div class=\"sk-serial\"><div class=\"sk-item\"><div class=\"sk-estimator sk-toggleable\"><input class=\"sk-toggleable__control sk-hidden--visually\" id=\"sk-estimator-id-2\" type=\"checkbox\" ><label for=\"sk-estimator-id-2\" class=\"sk-toggleable__label sk-toggleable__label-arrow\">None</label><div class=\"sk-toggleable__content\"><pre>None</pre></div></div></div><div class=\"sk-item\"><div class=\"sk-estimator sk-toggleable\"><input class=\"sk-toggleable__control sk-hidden--visually\" id=\"sk-estimator-id-3\" type=\"checkbox\" ><label for=\"sk-estimator-id-3\" class=\"sk-toggleable__label sk-toggleable__label-arrow\">RandomForestClassifier</label><div class=\"sk-toggleable__content\"><pre>RandomForestClassifier()</pre></div></div></div></div></div></div></div>"
      ],
      "text/plain": [
       "Pipeline(steps=[('scale', None), ('model', RandomForestClassifier())])"
      ]
     },
     "execution_count": 32,
     "metadata": {},
     "output_type": "execute_result"
    }
   ],
   "source": [
    "model.fit(X_train, y_train.values.ravel())"
   ]
  },
  {
   "cell_type": "code",
   "execution_count": 33,
   "id": "af59f8c0",
   "metadata": {
    "execution": {
     "iopub.execute_input": "2025-08-05T16:12:03.062695Z",
     "iopub.status.busy": "2025-08-05T16:12:03.062159Z",
     "iopub.status.idle": "2025-08-05T16:12:03.068007Z",
     "shell.execute_reply": "2025-08-05T16:12:03.066860Z"
    },
    "papermill": {
     "duration": 0.027968,
     "end_time": "2025-08-05T16:12:03.070409",
     "exception": false,
     "start_time": "2025-08-05T16:12:03.042441",
     "status": "completed"
    },
    "tags": []
   },
   "outputs": [],
   "source": [
    "from fairness_multiverse.universe import predict_w_threshold"
   ]
  },
  {
   "cell_type": "code",
   "execution_count": 34,
   "id": "a7cf2e16",
   "metadata": {
    "execution": {
     "iopub.execute_input": "2025-08-05T16:12:03.128495Z",
     "iopub.status.busy": "2025-08-05T16:12:03.127507Z",
     "iopub.status.idle": "2025-08-05T16:12:04.785925Z",
     "shell.execute_reply": "2025-08-05T16:12:04.784834Z"
    },
    "papermill": {
     "duration": 1.692968,
     "end_time": "2025-08-05T16:12:04.787636",
     "exception": false,
     "start_time": "2025-08-05T16:12:03.094668",
     "status": "completed"
    },
    "tags": []
   },
   "outputs": [
    {
     "data": {
      "text/plain": [
       "0.8610634265968119"
      ]
     },
     "execution_count": 34,
     "metadata": {},
     "output_type": "execute_result"
    }
   ],
   "source": [
    "probs_test = model.predict_proba(X_test)\n",
    "\n",
    "'''\n",
    "Below code returns a boolean array (or binary 0/1 array depending on how it’s used) where each element \n",
    "is True if the probability of class 1 is greater than or equal to the threshold, and False otherwise.\n",
    "'''\n",
    "y_pred_default = predict_w_threshold(probs_test, 0.5)\n",
    "\n",
    "from sklearn.metrics import accuracy_score\n",
    "\n",
    "# Naive prediction\n",
    "accuracy_score(y_true = y_true, y_pred = y_pred_default)"
   ]
  },
  {
   "cell_type": "code",
   "execution_count": 35,
   "id": "081964c3",
   "metadata": {
    "execution": {
     "iopub.execute_input": "2025-08-05T16:12:04.830093Z",
     "iopub.status.busy": "2025-08-05T16:12:04.829546Z",
     "iopub.status.idle": "2025-08-05T16:12:06.286192Z",
     "shell.execute_reply": "2025-08-05T16:12:06.285300Z"
    },
    "papermill": {
     "duration": 1.478407,
     "end_time": "2025-08-05T16:12:06.287763",
     "exception": false,
     "start_time": "2025-08-05T16:12:04.809356",
     "status": "completed"
    },
    "tags": []
   },
   "outputs": [
    {
     "data": {
      "text/plain": [
       "array([0, 0, 0, ..., 0, 0, 0])"
      ]
     },
     "execution_count": 35,
     "metadata": {},
     "output_type": "execute_result"
    }
   ],
   "source": [
    "model.predict(X_test)"
   ]
  },
  {
   "cell_type": "markdown",
   "id": "56c9705b",
   "metadata": {
    "papermill": {
     "duration": 0.02015,
     "end_time": "2025-08-05T16:12:06.331671",
     "exception": false,
     "start_time": "2025-08-05T16:12:06.311521",
     "status": "completed"
    },
    "tags": []
   },
   "source": [
    "# Conformal Prediction"
   ]
  },
  {
   "cell_type": "code",
   "execution_count": 36,
   "id": "160ec6ff",
   "metadata": {
    "execution": {
     "iopub.execute_input": "2025-08-05T16:12:06.372414Z",
     "iopub.status.busy": "2025-08-05T16:12:06.371909Z",
     "iopub.status.idle": "2025-08-05T16:12:06.377184Z",
     "shell.execute_reply": "2025-08-05T16:12:06.376223Z"
    },
    "papermill": {
     "duration": 0.029196,
     "end_time": "2025-08-05T16:12:06.380291",
     "exception": false,
     "start_time": "2025-08-05T16:12:06.351095",
     "status": "completed"
    },
    "tags": []
   },
   "outputs": [],
   "source": [
    "# Miscoverage level for conformal prediction (10% allowed error rate => 90% target coverage)\n",
    "alpha = 0.1"
   ]
  },
  {
   "cell_type": "code",
   "execution_count": 37,
   "id": "eadf4555-3dd3-440e-8e35-f82a4ad9f855",
   "metadata": {
    "execution": {
     "iopub.execute_input": "2025-08-05T16:12:06.423575Z",
     "iopub.status.busy": "2025-08-05T16:12:06.422658Z",
     "iopub.status.idle": "2025-08-05T16:12:08.000002Z",
     "shell.execute_reply": "2025-08-05T16:12:07.998988Z"
    },
    "papermill": {
     "duration": 1.600553,
     "end_time": "2025-08-05T16:12:08.002008",
     "exception": false,
     "start_time": "2025-08-05T16:12:06.401455",
     "status": "completed"
    },
    "tags": []
   },
   "outputs": [],
   "source": [
    "probs_calib = model.predict_proba(X_calib)"
   ]
  },
  {
   "cell_type": "code",
   "execution_count": 38,
   "id": "2ed93547-6d5d-4983-9b36-1ecb300da49a",
   "metadata": {
    "execution": {
     "iopub.execute_input": "2025-08-05T16:12:08.043153Z",
     "iopub.status.busy": "2025-08-05T16:12:08.042214Z",
     "iopub.status.idle": "2025-08-05T16:12:08.048034Z",
     "shell.execute_reply": "2025-08-05T16:12:08.046971Z"
    },
    "papermill": {
     "duration": 0.028674,
     "end_time": "2025-08-05T16:12:08.050375",
     "exception": false,
     "start_time": "2025-08-05T16:12:08.021701",
     "status": "completed"
    },
    "tags": []
   },
   "outputs": [],
   "source": [
    "y_calib = y_calib.values.ravel().astype(int)"
   ]
  },
  {
   "cell_type": "code",
   "execution_count": 39,
   "id": "65d1320d-f588-4b38-9072-62af1ae97f7d",
   "metadata": {
    "execution": {
     "iopub.execute_input": "2025-08-05T16:12:08.100244Z",
     "iopub.status.busy": "2025-08-05T16:12:08.099386Z",
     "iopub.status.idle": "2025-08-05T16:12:08.108092Z",
     "shell.execute_reply": "2025-08-05T16:12:08.107027Z"
    },
    "papermill": {
     "duration": 0.034914,
     "end_time": "2025-08-05T16:12:08.110092",
     "exception": false,
     "start_time": "2025-08-05T16:12:08.075178",
     "status": "completed"
    },
    "tags": []
   },
   "outputs": [],
   "source": [
    "from fairness_multiverse.conformal import compute_nc_scores\n",
    "\n",
    "# Compute nonconformity scores on calibration set (1 - probability of true class)\n",
    "nc_scores = compute_nc_scores(probs_calib, y_calib)"
   ]
  },
  {
   "cell_type": "code",
   "execution_count": 40,
   "id": "df3b8ca3-53b7-43d5-9667-7c85da7aeda2",
   "metadata": {
    "execution": {
     "iopub.execute_input": "2025-08-05T16:12:08.167550Z",
     "iopub.status.busy": "2025-08-05T16:12:08.166594Z",
     "iopub.status.idle": "2025-08-05T16:12:08.173728Z",
     "shell.execute_reply": "2025-08-05T16:12:08.172630Z"
    },
    "papermill": {
     "duration": 0.034841,
     "end_time": "2025-08-05T16:12:08.175668",
     "exception": false,
     "start_time": "2025-08-05T16:12:08.140827",
     "status": "completed"
    },
    "tags": []
   },
   "outputs": [],
   "source": [
    "from fairness_multiverse.conformal import find_threshold\n",
    "\n",
    "# Find conformal threshold q_hat for the given alpha (split conformal method)\n",
    "q_hat = find_threshold(nc_scores, alpha)"
   ]
  },
  {
   "cell_type": "code",
   "execution_count": 41,
   "id": "4d29e6c1-0ef6-4aa4-b8fe-4fe79b0d033a",
   "metadata": {
    "execution": {
     "iopub.execute_input": "2025-08-05T16:12:08.227703Z",
     "iopub.status.busy": "2025-08-05T16:12:08.226693Z",
     "iopub.status.idle": "2025-08-05T16:12:08.234932Z",
     "shell.execute_reply": "2025-08-05T16:12:08.233684Z"
    },
    "papermill": {
     "duration": 0.035365,
     "end_time": "2025-08-05T16:12:08.236820",
     "exception": false,
     "start_time": "2025-08-05T16:12:08.201455",
     "status": "completed"
    },
    "tags": []
   },
   "outputs": [
    {
     "data": {
      "text/plain": [
       "0.6699999999999999"
      ]
     },
     "execution_count": 41,
     "metadata": {},
     "output_type": "execute_result"
    }
   ],
   "source": [
    "q_hat"
   ]
  },
  {
   "cell_type": "code",
   "execution_count": 42,
   "id": "92460794-cdac-4be2-ba28-f28c0515a6fb",
   "metadata": {
    "execution": {
     "iopub.execute_input": "2025-08-05T16:12:08.288344Z",
     "iopub.status.busy": "2025-08-05T16:12:08.287864Z",
     "iopub.status.idle": "2025-08-05T16:12:10.564097Z",
     "shell.execute_reply": "2025-08-05T16:12:10.563322Z"
    },
    "papermill": {
     "duration": 2.302857,
     "end_time": "2025-08-05T16:12:10.565553",
     "exception": false,
     "start_time": "2025-08-05T16:12:08.262696",
     "status": "completed"
    },
    "tags": []
   },
   "outputs": [],
   "source": [
    "from fairness_multiverse.conformal import predict_conformal_sets\n",
    "\n",
    "# Generate prediction sets for each test example\n",
    "pred_sets = predict_conformal_sets(model, X_test, q_hat)"
   ]
  },
  {
   "cell_type": "code",
   "execution_count": 43,
   "id": "d90c9a65-e6db-4f5d-80cd-e68fb7e46829",
   "metadata": {
    "execution": {
     "iopub.execute_input": "2025-08-05T16:12:10.589182Z",
     "iopub.status.busy": "2025-08-05T16:12:10.588632Z",
     "iopub.status.idle": "2025-08-05T16:12:10.594202Z",
     "shell.execute_reply": "2025-08-05T16:12:10.592949Z"
    },
    "papermill": {
     "duration": 0.019107,
     "end_time": "2025-08-05T16:12:10.596316",
     "exception": false,
     "start_time": "2025-08-05T16:12:10.577209",
     "status": "completed"
    },
    "tags": []
   },
   "outputs": [],
   "source": [
    "y_true = y_true.squeeze()"
   ]
  },
  {
   "cell_type": "code",
   "execution_count": 44,
   "id": "3a58a54a-1e68-46b9-927a-df01f18aebc8",
   "metadata": {
    "execution": {
     "iopub.execute_input": "2025-08-05T16:12:10.642846Z",
     "iopub.status.busy": "2025-08-05T16:12:10.642409Z",
     "iopub.status.idle": "2025-08-05T16:12:11.547369Z",
     "shell.execute_reply": "2025-08-05T16:12:11.546364Z"
    },
    "papermill": {
     "duration": 0.930222,
     "end_time": "2025-08-05T16:12:11.549394",
     "exception": false,
     "start_time": "2025-08-05T16:12:10.619172",
     "status": "completed"
    },
    "tags": []
   },
   "outputs": [],
   "source": [
    "from fairness_multiverse.conformal import evaluate_sets\n",
    "\n",
    "# Evaluate coverage and average set size on test data\n",
    "metrics = evaluate_sets(pred_sets, y_true)"
   ]
  },
  {
   "cell_type": "markdown",
   "id": "2b569c12-9aaa-4c88-98c9-bbcd0cf3ebb8",
   "metadata": {
    "papermill": {
     "duration": 0.021279,
     "end_time": "2025-08-05T16:12:11.590269",
     "exception": false,
     "start_time": "2025-08-05T16:12:11.568990",
     "status": "completed"
    },
    "tags": []
   },
   "source": [
    "# CP Metrics"
   ]
  },
  {
   "cell_type": "code",
   "execution_count": 45,
   "id": "5ce0a5cb-201f-45a0-ade5-94c7f0bd6095",
   "metadata": {
    "execution": {
     "iopub.execute_input": "2025-08-05T16:12:11.636481Z",
     "iopub.status.busy": "2025-08-05T16:12:11.636026Z",
     "iopub.status.idle": "2025-08-05T16:12:11.644496Z",
     "shell.execute_reply": "2025-08-05T16:12:11.643637Z"
    },
    "papermill": {
     "duration": 0.03202,
     "end_time": "2025-08-05T16:12:11.646053",
     "exception": false,
     "start_time": "2025-08-05T16:12:11.614033",
     "status": "completed"
    },
    "tags": []
   },
   "outputs": [
    {
     "data": {
      "text/plain": [
       "{'coverage': 0.9135770817077249, 'avg_size': 1.1464719652212685}"
      ]
     },
     "execution_count": 45,
     "metadata": {},
     "output_type": "execute_result"
    }
   ],
   "source": [
    "metrics"
   ]
  },
  {
   "cell_type": "code",
   "execution_count": 46,
   "id": "9b9a838d-31c9-430b-ae14-12baee460d17",
   "metadata": {
    "execution": {
     "iopub.execute_input": "2025-08-05T16:12:11.671581Z",
     "iopub.status.busy": "2025-08-05T16:12:11.670709Z",
     "iopub.status.idle": "2025-08-05T16:12:11.676317Z",
     "shell.execute_reply": "2025-08-05T16:12:11.675542Z"
    },
    "papermill": {
     "duration": 0.019305,
     "end_time": "2025-08-05T16:12:11.677925",
     "exception": false,
     "start_time": "2025-08-05T16:12:11.658620",
     "status": "completed"
    },
    "tags": []
   },
   "outputs": [],
   "source": [
    "example_universe = universe.copy()\n",
    "universe_training_year = example_universe.get(\"training_year\")\n",
    "universe_training_size = example_universe.get(\"training_size\")\n",
    "universe_scale = example_universe.get(\"scale\")\n",
    "universe_model = example_universe.get(\"model\")\n",
    "universe_exclude_features = example_universe.get(\"exclude_features\")\n",
    "universe_exclude_subgroups = example_universe.get(\"exclude_subgroups\")"
   ]
  },
  {
   "cell_type": "code",
   "execution_count": 47,
   "id": "f4b6a8ac-9dc0-4245-8a91-5b3b5999c4f9",
   "metadata": {
    "execution": {
     "iopub.execute_input": "2025-08-05T16:12:11.703814Z",
     "iopub.status.busy": "2025-08-05T16:12:11.703148Z",
     "iopub.status.idle": "2025-08-05T16:12:11.708573Z",
     "shell.execute_reply": "2025-08-05T16:12:11.707682Z"
    },
    "papermill": {
     "duration": 0.019398,
     "end_time": "2025-08-05T16:12:11.710137",
     "exception": false,
     "start_time": "2025-08-05T16:12:11.690739",
     "status": "completed"
    },
    "tags": []
   },
   "outputs": [],
   "source": [
    "cp_metrics_dict = {\n",
    "    \"universe_id\": [universe_id],\n",
    "    \"universe_training_year\": [universe_training_year],\n",
    "    \"universe_training_size\": [universe_training_size],\n",
    "    \"universe_scale\": [universe_scale],\n",
    "    \"universe_model\": [universe_model],\n",
    "    \"universe_exclude_features\": [universe_exclude_features],\n",
    "    \"universe_exclude_subgroups\": [universe_exclude_subgroups],\n",
    "    \"q_hat\": [q_hat],\n",
    "    \"coverage\": [metrics[\"coverage\"]],\n",
    "    \"avg_size\": [metrics[\"avg_size\"]],\n",
    "}"
   ]
  },
  {
   "cell_type": "code",
   "execution_count": 48,
   "id": "908acbb1-0371-4915-85ca-3fa520d2efe2",
   "metadata": {
    "execution": {
     "iopub.execute_input": "2025-08-05T16:12:11.735014Z",
     "iopub.status.busy": "2025-08-05T16:12:11.734311Z",
     "iopub.status.idle": "2025-08-05T16:12:11.741004Z",
     "shell.execute_reply": "2025-08-05T16:12:11.740135Z"
    },
    "papermill": {
     "duration": 0.019985,
     "end_time": "2025-08-05T16:12:11.742492",
     "exception": false,
     "start_time": "2025-08-05T16:12:11.722507",
     "status": "completed"
    },
    "tags": []
   },
   "outputs": [
    {
     "data": {
      "text/plain": [
       "{'universe_id': ['00be8089a5dd7cda46dbbdaace646ed4'],\n",
       " 'universe_training_year': ['2014'],\n",
       " 'universe_training_size': ['1k'],\n",
       " 'universe_scale': ['do-not-scale'],\n",
       " 'universe_model': ['rf'],\n",
       " 'universe_exclude_features': ['nationality-sex'],\n",
       " 'universe_exclude_subgroups': ['drop-non-german'],\n",
       " 'q_hat': [0.6699999999999999],\n",
       " 'coverage': [0.9135770817077249],\n",
       " 'avg_size': [1.1464719652212685]}"
      ]
     },
     "execution_count": 48,
     "metadata": {},
     "output_type": "execute_result"
    }
   ],
   "source": [
    "cp_metrics_dict"
   ]
  },
  {
   "cell_type": "code",
   "execution_count": 49,
   "id": "33007efc-14e9-4ec6-97ac-56a455c82265",
   "metadata": {
    "execution": {
     "iopub.execute_input": "2025-08-05T16:12:11.767155Z",
     "iopub.status.busy": "2025-08-05T16:12:11.766721Z",
     "iopub.status.idle": "2025-08-05T16:12:11.771800Z",
     "shell.execute_reply": "2025-08-05T16:12:11.771064Z"
    },
    "papermill": {
     "duration": 0.018767,
     "end_time": "2025-08-05T16:12:11.773340",
     "exception": false,
     "start_time": "2025-08-05T16:12:11.754573",
     "status": "completed"
    },
    "tags": []
   },
   "outputs": [],
   "source": [
    "cp_metrics_df = pd.DataFrame(cp_metrics_dict)"
   ]
  },
  {
   "cell_type": "code",
   "execution_count": 50,
   "id": "db12611b-57b2-4910-b9d0-355adfd6e7bf",
   "metadata": {
    "execution": {
     "iopub.execute_input": "2025-08-05T16:12:11.799903Z",
     "iopub.status.busy": "2025-08-05T16:12:11.798285Z",
     "iopub.status.idle": "2025-08-05T16:12:11.817632Z",
     "shell.execute_reply": "2025-08-05T16:12:11.816865Z"
    },
    "papermill": {
     "duration": 0.0332,
     "end_time": "2025-08-05T16:12:11.818766",
     "exception": false,
     "start_time": "2025-08-05T16:12:11.785566",
     "status": "completed"
    },
    "tags": []
   },
   "outputs": [
    {
     "data": {
      "text/html": [
       "<div>\n",
       "<style scoped>\n",
       "    .dataframe tbody tr th:only-of-type {\n",
       "        vertical-align: middle;\n",
       "    }\n",
       "\n",
       "    .dataframe tbody tr th {\n",
       "        vertical-align: top;\n",
       "    }\n",
       "\n",
       "    .dataframe thead th {\n",
       "        text-align: right;\n",
       "    }\n",
       "</style>\n",
       "<table border=\"1\" class=\"dataframe\">\n",
       "  <thead>\n",
       "    <tr style=\"text-align: right;\">\n",
       "      <th></th>\n",
       "      <th>universe_id</th>\n",
       "      <th>universe_training_year</th>\n",
       "      <th>universe_training_size</th>\n",
       "      <th>universe_scale</th>\n",
       "      <th>universe_model</th>\n",
       "      <th>universe_exclude_features</th>\n",
       "      <th>universe_exclude_subgroups</th>\n",
       "      <th>q_hat</th>\n",
       "      <th>coverage</th>\n",
       "      <th>avg_size</th>\n",
       "    </tr>\n",
       "  </thead>\n",
       "  <tbody>\n",
       "    <tr>\n",
       "      <th>0</th>\n",
       "      <td>00be8089a5dd7cda46dbbdaace646ed4</td>\n",
       "      <td>2014</td>\n",
       "      <td>1k</td>\n",
       "      <td>do-not-scale</td>\n",
       "      <td>rf</td>\n",
       "      <td>nationality-sex</td>\n",
       "      <td>drop-non-german</td>\n",
       "      <td>0.67</td>\n",
       "      <td>0.913577</td>\n",
       "      <td>1.146472</td>\n",
       "    </tr>\n",
       "  </tbody>\n",
       "</table>\n",
       "</div>"
      ],
      "text/plain": [
       "                        universe_id universe_training_year  \\\n",
       "0  00be8089a5dd7cda46dbbdaace646ed4                   2014   \n",
       "\n",
       "  universe_training_size universe_scale universe_model  \\\n",
       "0                     1k   do-not-scale             rf   \n",
       "\n",
       "  universe_exclude_features universe_exclude_subgroups  q_hat  coverage  \\\n",
       "0           nationality-sex            drop-non-german   0.67  0.913577   \n",
       "\n",
       "   avg_size  \n",
       "0  1.146472  "
      ]
     },
     "execution_count": 50,
     "metadata": {},
     "output_type": "execute_result"
    }
   ],
   "source": [
    "cp_metrics_df"
   ]
  },
  {
   "cell_type": "code",
   "execution_count": 51,
   "id": "b7fbde55-a0a1-47e4-9af6-fe4a17fa8c61",
   "metadata": {
    "execution": {
     "iopub.execute_input": "2025-08-05T16:12:11.850119Z",
     "iopub.status.busy": "2025-08-05T16:12:11.849745Z",
     "iopub.status.idle": "2025-08-05T16:12:11.854060Z",
     "shell.execute_reply": "2025-08-05T16:12:11.853206Z"
    },
    "papermill": {
     "duration": 0.024335,
     "end_time": "2025-08-05T16:12:11.855376",
     "exception": false,
     "start_time": "2025-08-05T16:12:11.831041",
     "status": "completed"
    },
    "tags": []
   },
   "outputs": [],
   "source": [
    "# Conditional Coverage & looking at subgroups"
   ]
  },
  {
   "cell_type": "code",
   "execution_count": 52,
   "id": "027ae886-68dd-4141-96c7-805a5450e1ef",
   "metadata": {
    "execution": {
     "iopub.execute_input": "2025-08-05T16:12:11.902149Z",
     "iopub.status.busy": "2025-08-05T16:12:11.901734Z",
     "iopub.status.idle": "2025-08-05T16:12:12.131162Z",
     "shell.execute_reply": "2025-08-05T16:12:12.130031Z"
    },
    "papermill": {
     "duration": 0.254635,
     "end_time": "2025-08-05T16:12:12.132744",
     "exception": false,
     "start_time": "2025-08-05T16:12:11.878109",
     "status": "completed"
    },
    "tags": []
   },
   "outputs": [],
   "source": [
    "from fairness_multiverse.conformal import build_cp_groups\n",
    "\n",
    "cp_groups_df = build_cp_groups(pred_sets, y_true, X_test.index, org_test)\n",
    "#needs universe_id and setting"
   ]
  },
  {
   "cell_type": "code",
   "execution_count": 53,
   "id": "6cbdab96-b2b2-45af-ad54-d0516db2e28d",
   "metadata": {
    "execution": {
     "iopub.execute_input": "2025-08-05T16:12:12.174422Z",
     "iopub.status.busy": "2025-08-05T16:12:12.173966Z",
     "iopub.status.idle": "2025-08-05T16:12:14.353077Z",
     "shell.execute_reply": "2025-08-05T16:12:14.352104Z"
    },
    "papermill": {
     "duration": 2.202144,
     "end_time": "2025-08-05T16:12:14.355204",
     "exception": false,
     "start_time": "2025-08-05T16:12:12.153060",
     "status": "completed"
    },
    "tags": []
   },
   "outputs": [],
   "source": [
    "# Define covered = 1 if true_label is in the predicted set\n",
    "cp_groups_df['covered'] = cp_groups_df.apply(\n",
    "    lambda r: int(r['true_label'] in r['pred_set']),\n",
    "    axis=1\n",
    ")"
   ]
  },
  {
   "cell_type": "code",
   "execution_count": 54,
   "id": "338ff529-1a6b-4b87-a931-8e4788d52aad",
   "metadata": {
    "execution": {
     "iopub.execute_input": "2025-08-05T16:12:14.402832Z",
     "iopub.status.busy": "2025-08-05T16:12:14.402325Z",
     "iopub.status.idle": "2025-08-05T16:12:14.407078Z",
     "shell.execute_reply": "2025-08-05T16:12:14.406187Z"
    },
    "papermill": {
     "duration": 0.029005,
     "end_time": "2025-08-05T16:12:14.408606",
     "exception": false,
     "start_time": "2025-08-05T16:12:14.379601",
     "status": "completed"
    },
    "tags": []
   },
   "outputs": [],
   "source": [
    "#cp_groups_df"
   ]
  },
  {
   "cell_type": "code",
   "execution_count": 55,
   "id": "90032e27-66df-4540-9169-4e89cfbaa758",
   "metadata": {
    "execution": {
     "iopub.execute_input": "2025-08-05T16:12:14.454204Z",
     "iopub.status.busy": "2025-08-05T16:12:14.453287Z",
     "iopub.status.idle": "2025-08-05T16:12:14.465352Z",
     "shell.execute_reply": "2025-08-05T16:12:14.464400Z"
    },
    "papermill": {
     "duration": 0.03684,
     "end_time": "2025-08-05T16:12:14.467184",
     "exception": false,
     "start_time": "2025-08-05T16:12:14.430344",
     "status": "completed"
    },
    "tags": []
   },
   "outputs": [],
   "source": [
    "subgroups = ['frau1','nongerman','nongerman_male','nongerman_female']\n",
    "\n",
    "# Conditional coverage for subgroup==1\n",
    "cond_coverage = {\n",
    "    g: cp_groups_df.loc[cp_groups_df[g]==1, 'covered'].mean()\n",
    "    for g in subgroups\n",
    "}"
   ]
  },
  {
   "cell_type": "code",
   "execution_count": 56,
   "id": "1e348fb1-b9c3-45bc-ba23-f016827a7e0d",
   "metadata": {
    "execution": {
     "iopub.execute_input": "2025-08-05T16:12:14.513036Z",
     "iopub.status.busy": "2025-08-05T16:12:14.512332Z",
     "iopub.status.idle": "2025-08-05T16:12:14.519599Z",
     "shell.execute_reply": "2025-08-05T16:12:14.518651Z"
    },
    "papermill": {
     "duration": 0.032827,
     "end_time": "2025-08-05T16:12:14.521180",
     "exception": false,
     "start_time": "2025-08-05T16:12:14.488353",
     "status": "completed"
    },
    "tags": []
   },
   "outputs": [
    {
     "data": {
      "text/plain": [
       "{'frau1': 0.9092060924652918,\n",
       " 'nongerman': 0.9081569640150452,\n",
       " 'nongerman_male': 0.9263262181392417,\n",
       " 'nongerman_female': 0.8780923994038748}"
      ]
     },
     "execution_count": 56,
     "metadata": {},
     "output_type": "execute_result"
    }
   ],
   "source": [
    "cond_coverage"
   ]
  },
  {
   "cell_type": "code",
   "execution_count": 57,
   "id": "f5093324-c3dd-4d63-bc4c-8d945e5c8bbb",
   "metadata": {
    "execution": {
     "iopub.execute_input": "2025-08-05T16:12:14.567140Z",
     "iopub.status.busy": "2025-08-05T16:12:14.566279Z",
     "iopub.status.idle": "2025-08-05T16:12:14.573799Z",
     "shell.execute_reply": "2025-08-05T16:12:14.572780Z"
    },
    "papermill": {
     "duration": 0.03232,
     "end_time": "2025-08-05T16:12:14.575502",
     "exception": false,
     "start_time": "2025-08-05T16:12:14.543182",
     "status": "completed"
    },
    "tags": []
   },
   "outputs": [],
   "source": [
    "for subgroup, cov in cond_coverage.items():\n",
    "    cp_metrics_df[f\"cov_{subgroup}\"] = cov"
   ]
  },
  {
   "cell_type": "code",
   "execution_count": 58,
   "id": "6e872e10-dbe5-49e8-b554-5030c98ff75d",
   "metadata": {
    "execution": {
     "iopub.execute_input": "2025-08-05T16:12:14.620360Z",
     "iopub.status.busy": "2025-08-05T16:12:14.619845Z",
     "iopub.status.idle": "2025-08-05T16:12:14.641930Z",
     "shell.execute_reply": "2025-08-05T16:12:14.640730Z"
    },
    "papermill": {
     "duration": 0.044955,
     "end_time": "2025-08-05T16:12:14.643435",
     "exception": false,
     "start_time": "2025-08-05T16:12:14.598480",
     "status": "completed"
    },
    "tags": []
   },
   "outputs": [
    {
     "data": {
      "text/html": [
       "<div>\n",
       "<style scoped>\n",
       "    .dataframe tbody tr th:only-of-type {\n",
       "        vertical-align: middle;\n",
       "    }\n",
       "\n",
       "    .dataframe tbody tr th {\n",
       "        vertical-align: top;\n",
       "    }\n",
       "\n",
       "    .dataframe thead th {\n",
       "        text-align: right;\n",
       "    }\n",
       "</style>\n",
       "<table border=\"1\" class=\"dataframe\">\n",
       "  <thead>\n",
       "    <tr style=\"text-align: right;\">\n",
       "      <th></th>\n",
       "      <th>universe_id</th>\n",
       "      <th>universe_training_year</th>\n",
       "      <th>universe_training_size</th>\n",
       "      <th>universe_scale</th>\n",
       "      <th>universe_model</th>\n",
       "      <th>universe_exclude_features</th>\n",
       "      <th>universe_exclude_subgroups</th>\n",
       "      <th>q_hat</th>\n",
       "      <th>coverage</th>\n",
       "      <th>avg_size</th>\n",
       "      <th>cov_frau1</th>\n",
       "      <th>cov_nongerman</th>\n",
       "      <th>cov_nongerman_male</th>\n",
       "      <th>cov_nongerman_female</th>\n",
       "    </tr>\n",
       "  </thead>\n",
       "  <tbody>\n",
       "    <tr>\n",
       "      <th>0</th>\n",
       "      <td>00be8089a5dd7cda46dbbdaace646ed4</td>\n",
       "      <td>2014</td>\n",
       "      <td>1k</td>\n",
       "      <td>do-not-scale</td>\n",
       "      <td>rf</td>\n",
       "      <td>nationality-sex</td>\n",
       "      <td>drop-non-german</td>\n",
       "      <td>0.67</td>\n",
       "      <td>0.913577</td>\n",
       "      <td>1.146472</td>\n",
       "      <td>0.909206</td>\n",
       "      <td>0.908157</td>\n",
       "      <td>0.926326</td>\n",
       "      <td>0.878092</td>\n",
       "    </tr>\n",
       "  </tbody>\n",
       "</table>\n",
       "</div>"
      ],
      "text/plain": [
       "                        universe_id universe_training_year  \\\n",
       "0  00be8089a5dd7cda46dbbdaace646ed4                   2014   \n",
       "\n",
       "  universe_training_size universe_scale universe_model  \\\n",
       "0                     1k   do-not-scale             rf   \n",
       "\n",
       "  universe_exclude_features universe_exclude_subgroups  q_hat  coverage  \\\n",
       "0           nationality-sex            drop-non-german   0.67  0.913577   \n",
       "\n",
       "   avg_size  cov_frau1  cov_nongerman  cov_nongerman_male  \\\n",
       "0  1.146472   0.909206       0.908157            0.926326   \n",
       "\n",
       "   cov_nongerman_female  \n",
       "0              0.878092  "
      ]
     },
     "execution_count": 58,
     "metadata": {},
     "output_type": "execute_result"
    }
   ],
   "source": [
    "cp_metrics_df"
   ]
  },
  {
   "cell_type": "markdown",
   "id": "33774451",
   "metadata": {
    "papermill": {
     "duration": 0.0224,
     "end_time": "2025-08-05T16:12:14.687081",
     "exception": false,
     "start_time": "2025-08-05T16:12:14.664681",
     "status": "completed"
    },
    "tags": []
   },
   "source": [
    "# (Fairness) Metrics"
   ]
  },
  {
   "cell_type": "code",
   "execution_count": 59,
   "id": "debc5d62",
   "metadata": {
    "execution": {
     "iopub.execute_input": "2025-08-05T16:12:14.732080Z",
     "iopub.status.busy": "2025-08-05T16:12:14.731550Z",
     "iopub.status.idle": "2025-08-05T16:12:14.752873Z",
     "shell.execute_reply": "2025-08-05T16:12:14.751885Z"
    },
    "papermill": {
     "duration": 0.046088,
     "end_time": "2025-08-05T16:12:14.754883",
     "exception": false,
     "start_time": "2025-08-05T16:12:14.708795",
     "status": "completed"
    },
    "tags": []
   },
   "outputs": [],
   "source": [
    "# do I need to include maxdeutsch1.missing?\n",
    "\n",
    "import numpy as np\n",
    "\n",
    "colname_to_bin = \"maxdeutsch1\"\n",
    "majority_value = org_train[colname_to_bin].mode()[0]\n",
    "\n",
    "org_test[\"majmin\"] = np.where(org_test[colname_to_bin] == majority_value, \"majority\", \"minority\")"
   ]
  },
  {
   "cell_type": "code",
   "execution_count": 60,
   "id": "06a50de5",
   "metadata": {
    "execution": {
     "iopub.execute_input": "2025-08-05T16:12:14.801625Z",
     "iopub.status.busy": "2025-08-05T16:12:14.801056Z",
     "iopub.status.idle": "2025-08-05T16:12:17.671075Z",
     "shell.execute_reply": "2025-08-05T16:12:17.669916Z"
    },
    "papermill": {
     "duration": 2.894627,
     "end_time": "2025-08-05T16:12:17.672614",
     "exception": false,
     "start_time": "2025-08-05T16:12:14.777987",
     "status": "completed"
    },
    "tags": []
   },
   "outputs": [],
   "source": [
    "example_universe = universe.copy()\n",
    "example_universe[\"cutoff\"] = example_universe[\"cutoff\"][0]\n",
    "example_universe[\"eval_fairness_grouping\"] = example_universe[\"eval_fairness_grouping\"][0]\n",
    "fairness_dict, metric_frame = universe_analysis.compute_metrics(\n",
    "    example_universe,\n",
    "    y_pred_prob=probs_test,\n",
    "    y_test=y_true,\n",
    "    org_test=org_test,\n",
    ")"
   ]
  },
  {
   "cell_type": "markdown",
   "id": "f95d4e02",
   "metadata": {
    "papermill": {
     "duration": 0.024288,
     "end_time": "2025-08-05T16:12:17.721639",
     "exception": false,
     "start_time": "2025-08-05T16:12:17.697351",
     "status": "completed"
    },
    "tags": []
   },
   "source": [
    "# Overall"
   ]
  },
  {
   "cell_type": "markdown",
   "id": "bdee4871",
   "metadata": {
    "papermill": {
     "duration": 0.025242,
     "end_time": "2025-08-05T16:12:17.768926",
     "exception": false,
     "start_time": "2025-08-05T16:12:17.743684",
     "status": "completed"
    },
    "tags": []
   },
   "source": [
    "Fairness\n",
    "Main fairness target: Equalized Odds. Seems to be a better fit than equal opportunity, since we're not only interested in Y = 1. Seems to be a better fit than demographic parity, since we also care about accuracy, not just equal distribution of preds.\n",
    "\n",
    "Pick column for computation of fairness metrics\n",
    "\n",
    "Performance\n",
    "Overall performance measures, most interesting in relation to the measures split by group below"
   ]
  },
  {
   "cell_type": "code",
   "execution_count": 61,
   "id": "c4e067c6",
   "metadata": {
    "execution": {
     "iopub.execute_input": "2025-08-05T16:12:17.818028Z",
     "iopub.status.busy": "2025-08-05T16:12:17.817485Z",
     "iopub.status.idle": "2025-08-05T16:12:17.826625Z",
     "shell.execute_reply": "2025-08-05T16:12:17.825477Z"
    },
    "papermill": {
     "duration": 0.034732,
     "end_time": "2025-08-05T16:12:17.828329",
     "exception": false,
     "start_time": "2025-08-05T16:12:17.793597",
     "status": "completed"
    },
    "tags": []
   },
   "outputs": [
    {
     "data": {
      "text/plain": [
       "accuracy                   0.203077\n",
       "balanced accuracy          0.536195\n",
       "f1                         0.240626\n",
       "precision                  0.137068\n",
       "false positive rate        0.911882\n",
       "false negative rate        0.015728\n",
       "selection rate             0.921168\n",
       "count                  89710.000000\n",
       "dtype: float64"
      ]
     },
     "execution_count": 61,
     "metadata": {},
     "output_type": "execute_result"
    }
   ],
   "source": [
    "metric_frame.overall"
   ]
  },
  {
   "cell_type": "markdown",
   "id": "e968fe9d",
   "metadata": {
    "papermill": {
     "duration": 0.024288,
     "end_time": "2025-08-05T16:12:17.878474",
     "exception": false,
     "start_time": "2025-08-05T16:12:17.854186",
     "status": "completed"
    },
    "tags": []
   },
   "source": [
    "By Group"
   ]
  },
  {
   "cell_type": "code",
   "execution_count": 62,
   "id": "ec325bce",
   "metadata": {
    "execution": {
     "iopub.execute_input": "2025-08-05T16:12:17.929595Z",
     "iopub.status.busy": "2025-08-05T16:12:17.928886Z",
     "iopub.status.idle": "2025-08-05T16:12:17.944511Z",
     "shell.execute_reply": "2025-08-05T16:12:17.943417Z"
    },
    "papermill": {
     "duration": 0.045834,
     "end_time": "2025-08-05T16:12:17.946415",
     "exception": false,
     "start_time": "2025-08-05T16:12:17.900581",
     "status": "completed"
    },
    "tags": []
   },
   "outputs": [
    {
     "data": {
      "text/html": [
       "<div>\n",
       "<style scoped>\n",
       "    .dataframe tbody tr th:only-of-type {\n",
       "        vertical-align: middle;\n",
       "    }\n",
       "\n",
       "    .dataframe tbody tr th {\n",
       "        vertical-align: top;\n",
       "    }\n",
       "\n",
       "    .dataframe thead th {\n",
       "        text-align: right;\n",
       "    }\n",
       "</style>\n",
       "<table border=\"1\" class=\"dataframe\">\n",
       "  <thead>\n",
       "    <tr style=\"text-align: right;\">\n",
       "      <th></th>\n",
       "      <th>accuracy</th>\n",
       "      <th>balanced accuracy</th>\n",
       "      <th>f1</th>\n",
       "      <th>precision</th>\n",
       "      <th>false positive rate</th>\n",
       "      <th>false negative rate</th>\n",
       "      <th>selection rate</th>\n",
       "      <th>count</th>\n",
       "    </tr>\n",
       "    <tr>\n",
       "      <th>majmin</th>\n",
       "      <th></th>\n",
       "      <th></th>\n",
       "      <th></th>\n",
       "      <th></th>\n",
       "      <th></th>\n",
       "      <th></th>\n",
       "      <th></th>\n",
       "      <th></th>\n",
       "    </tr>\n",
       "  </thead>\n",
       "  <tbody>\n",
       "    <tr>\n",
       "      <th>majority</th>\n",
       "      <td>0.210771</td>\n",
       "      <td>0.539645</td>\n",
       "      <td>0.248337</td>\n",
       "      <td>0.142045</td>\n",
       "      <td>0.907363</td>\n",
       "      <td>0.013348</td>\n",
       "      <td>0.917840</td>\n",
       "      <td>69170.0</td>\n",
       "    </tr>\n",
       "    <tr>\n",
       "      <th>minority</th>\n",
       "      <td>0.177167</td>\n",
       "      <td>0.524137</td>\n",
       "      <td>0.214601</td>\n",
       "      <td>0.120568</td>\n",
       "      <td>0.926810</td>\n",
       "      <td>0.024916</td>\n",
       "      <td>0.932376</td>\n",
       "      <td>20540.0</td>\n",
       "    </tr>\n",
       "  </tbody>\n",
       "</table>\n",
       "</div>"
      ],
      "text/plain": [
       "          accuracy  balanced accuracy        f1  precision  \\\n",
       "majmin                                                       \n",
       "majority  0.210771           0.539645  0.248337   0.142045   \n",
       "minority  0.177167           0.524137  0.214601   0.120568   \n",
       "\n",
       "          false positive rate  false negative rate  selection rate    count  \n",
       "majmin                                                                       \n",
       "majority             0.907363             0.013348        0.917840  69170.0  \n",
       "minority             0.926810             0.024916        0.932376  20540.0  "
      ]
     },
     "execution_count": 62,
     "metadata": {},
     "output_type": "execute_result"
    }
   ],
   "source": [
    "metric_frame.by_group"
   ]
  },
  {
   "cell_type": "code",
   "execution_count": 63,
   "id": "a9ddbe63",
   "metadata": {
    "execution": {
     "iopub.execute_input": "2025-08-05T16:12:17.998286Z",
     "iopub.status.busy": "2025-08-05T16:12:17.997584Z",
     "iopub.status.idle": "2025-08-05T16:12:20.353409Z",
     "shell.execute_reply": "2025-08-05T16:12:20.352213Z"
    },
    "papermill": {
     "duration": 2.384238,
     "end_time": "2025-08-05T16:12:20.355603",
     "exception": false,
     "start_time": "2025-08-05T16:12:17.971365",
     "status": "completed"
    },
    "tags": []
   },
   "outputs": [
    {
     "data": {
      "text/plain": [
       "array([[<Axes: title={'center': 'accuracy'}, xlabel='majmin'>,\n",
       "        <Axes: title={'center': 'balanced accuracy'}, xlabel='majmin'>,\n",
       "        <Axes: title={'center': 'f1'}, xlabel='majmin'>],\n",
       "       [<Axes: title={'center': 'precision'}, xlabel='majmin'>,\n",
       "        <Axes: title={'center': 'false positive rate'}, xlabel='majmin'>,\n",
       "        <Axes: title={'center': 'false negative rate'}, xlabel='majmin'>],\n",
       "       [<Axes: title={'center': 'selection rate'}, xlabel='majmin'>,\n",
       "        <Axes: title={'center': 'count'}, xlabel='majmin'>,\n",
       "        <Axes: xlabel='majmin'>]], dtype=object)"
      ]
     },
     "execution_count": 63,
     "metadata": {},
     "output_type": "execute_result"
    },
    {
     "data": {
      "image/png": "[encoded data removed]",
      "text/plain": [
       "<Figure size 1200x800 with 9 Axes>"
      ]
     },
     "metadata": {},
     "output_type": "display_data"
    }
   ],
   "source": [
    "# In a graphic\n",
    "metric_frame.by_group.plot.bar(\n",
    "    subplots=True,\n",
    "    layout=[3, 3],\n",
    "    legend=False,\n",
    "    figsize=[12, 8],\n",
    "    title=\"Show all metrics\",\n",
    ")"
   ]
  },
  {
   "cell_type": "markdown",
   "id": "f57a0bac",
   "metadata": {
    "papermill": {
     "duration": 0.03585,
     "end_time": "2025-08-05T16:12:20.427382",
     "exception": false,
     "start_time": "2025-08-05T16:12:20.391532",
     "status": "completed"
    },
    "tags": []
   },
   "source": [
    "# Final Output"
   ]
  },
  {
   "cell_type": "code",
   "execution_count": 64,
   "id": "96d280a3",
   "metadata": {
    "execution": {
     "iopub.execute_input": "2025-08-05T16:12:20.501299Z",
     "iopub.status.busy": "2025-08-05T16:12:20.500576Z",
     "iopub.status.idle": "2025-08-05T16:12:20.512628Z",
     "shell.execute_reply": "2025-08-05T16:12:20.511609Z"
    },
    "papermill": {
     "duration": 0.051977,
     "end_time": "2025-08-05T16:12:20.514530",
     "exception": false,
     "start_time": "2025-08-05T16:12:20.462553",
     "status": "completed"
    },
    "tags": []
   },
   "outputs": [
    {
     "data": {
      "text/plain": [
       "4"
      ]
     },
     "execution_count": 64,
     "metadata": {},
     "output_type": "execute_result"
    }
   ],
   "source": [
    "sub_universes = universe_analysis.generate_sub_universes()\n",
    "len(sub_universes)"
   ]
  },
  {
   "cell_type": "code",
   "execution_count": 65,
   "id": "92adf7ba",
   "metadata": {
    "execution": {
     "iopub.execute_input": "2025-08-05T16:12:20.576152Z",
     "iopub.status.busy": "2025-08-05T16:12:20.575665Z",
     "iopub.status.idle": "2025-08-05T16:12:20.581804Z",
     "shell.execute_reply": "2025-08-05T16:12:20.580798Z"
    },
    "papermill": {
     "duration": 0.040706,
     "end_time": "2025-08-05T16:12:20.583521",
     "exception": false,
     "start_time": "2025-08-05T16:12:20.542815",
     "status": "completed"
    },
    "tags": []
   },
   "outputs": [],
   "source": [
    "def filter_sub_universe_data(sub_universe, org_test):\n",
    "    # Keep all rows — no filtering\n",
    "    keep_rows_mask = np.ones(org_test.shape[0], dtype=bool)\n",
    "\n",
    "    print(f\"[INFO] Keeping all rows: {keep_rows_mask.sum()} rows retained.\")\n",
    "    return keep_rows_mask"
   ]
  },
  {
   "cell_type": "code",
   "execution_count": 66,
   "id": "4a759155",
   "metadata": {
    "execution": {
     "iopub.execute_input": "2025-08-05T16:12:20.647579Z",
     "iopub.status.busy": "2025-08-05T16:12:20.647042Z",
     "iopub.status.idle": "2025-08-05T16:12:30.956942Z",
     "shell.execute_reply": "2025-08-05T16:12:30.955806Z"
    },
    "papermill": {
     "duration": 10.346266,
     "end_time": "2025-08-05T16:12:30.958536",
     "exception": false,
     "start_time": "2025-08-05T16:12:20.612270",
     "status": "completed"
    },
    "tags": []
   },
   "outputs": [
    {
     "name": "stdout",
     "output_type": "stream",
     "text": [
      "Stopping execution_time clock.\n",
      "[INFO] Keeping all rows: 89710 rows retained.\n"
     ]
    },
    {
     "name": "stdout",
     "output_type": "stream",
     "text": [
      "[INFO] Keeping all rows: 89710 rows retained.\n"
     ]
    },
    {
     "name": "stdout",
     "output_type": "stream",
     "text": [
      "[INFO] Keeping all rows: 89710 rows retained.\n"
     ]
    },
    {
     "name": "stdout",
     "output_type": "stream",
     "text": [
      "[INFO] Keeping all rows: 89710 rows retained.\n"
     ]
    },
    {
     "data": {
      "text/html": [
       "<div>\n",
       "<style scoped>\n",
       "    .dataframe tbody tr th:only-of-type {\n",
       "        vertical-align: middle;\n",
       "    }\n",
       "\n",
       "    .dataframe tbody tr th {\n",
       "        vertical-align: top;\n",
       "    }\n",
       "\n",
       "    .dataframe thead th {\n",
       "        text-align: right;\n",
       "    }\n",
       "</style>\n",
       "<table border=\"1\" class=\"dataframe\">\n",
       "  <thead>\n",
       "    <tr style=\"text-align: right;\">\n",
       "      <th></th>\n",
       "      <th>run_no</th>\n",
       "      <th>universe_id</th>\n",
       "      <th>universe_settings</th>\n",
       "      <th>execution_time</th>\n",
       "      <th>test_size_n</th>\n",
       "      <th>test_size_frac</th>\n",
       "      <th>fair_main_equalized_odds_difference</th>\n",
       "      <th>fair_main_equalized_odds_ratio</th>\n",
       "      <th>fair_main_demographic_parity_difference</th>\n",
       "      <th>fair_main_demographic_parity_ratio</th>\n",
       "      <th>...</th>\n",
       "      <th>perf_grp_precision_0</th>\n",
       "      <th>perf_grp_precision_1</th>\n",
       "      <th>perf_grp_false positive rate_0</th>\n",
       "      <th>perf_grp_false positive rate_1</th>\n",
       "      <th>perf_grp_false negative rate_0</th>\n",
       "      <th>perf_grp_false negative rate_1</th>\n",
       "      <th>perf_grp_selection rate_0</th>\n",
       "      <th>perf_grp_selection rate_1</th>\n",
       "      <th>perf_grp_count_0</th>\n",
       "      <th>perf_grp_count_1</th>\n",
       "    </tr>\n",
       "  </thead>\n",
       "  <tbody>\n",
       "    <tr>\n",
       "      <th>0</th>\n",
       "      <td>15</td>\n",
       "      <td>00be8089a5dd7cda46dbbdaace646ed4</td>\n",
       "      <td>{\"cutoff\": \"quantile_0.1\", \"eval_fairness_grou...</td>\n",
       "      <td>33.067078</td>\n",
       "      <td>89710</td>\n",
       "      <td>1.0</td>\n",
       "      <td>0.019447</td>\n",
       "      <td>0.979017</td>\n",
       "      <td>0.014536</td>\n",
       "      <td>0.984410</td>\n",
       "      <td>...</td>\n",
       "      <td>NaN</td>\n",
       "      <td>NaN</td>\n",
       "      <td>NaN</td>\n",
       "      <td>NaN</td>\n",
       "      <td>NaN</td>\n",
       "      <td>NaN</td>\n",
       "      <td>NaN</td>\n",
       "      <td>NaN</td>\n",
       "      <td>NaN</td>\n",
       "      <td>NaN</td>\n",
       "    </tr>\n",
       "    <tr>\n",
       "      <th>0</th>\n",
       "      <td>15</td>\n",
       "      <td>00be8089a5dd7cda46dbbdaace646ed4</td>\n",
       "      <td>{\"cutoff\": \"quantile_0.1\", \"eval_fairness_grou...</td>\n",
       "      <td>33.067078</td>\n",
       "      <td>89710</td>\n",
       "      <td>1.0</td>\n",
       "      <td>0.019447</td>\n",
       "      <td>0.979017</td>\n",
       "      <td>0.014536</td>\n",
       "      <td>0.984410</td>\n",
       "      <td>...</td>\n",
       "      <td>0.120568</td>\n",
       "      <td>0.142045</td>\n",
       "      <td>0.92681</td>\n",
       "      <td>0.907363</td>\n",
       "      <td>0.024916</td>\n",
       "      <td>0.013348</td>\n",
       "      <td>0.932376</td>\n",
       "      <td>0.917840</td>\n",
       "      <td>20540.0</td>\n",
       "      <td>69170.0</td>\n",
       "    </tr>\n",
       "    <tr>\n",
       "      <th>0</th>\n",
       "      <td>15</td>\n",
       "      <td>00be8089a5dd7cda46dbbdaace646ed4</td>\n",
       "      <td>{\"cutoff\": \"quantile_0.25\", \"eval_fairness_gro...</td>\n",
       "      <td>33.067078</td>\n",
       "      <td>89710</td>\n",
       "      <td>1.0</td>\n",
       "      <td>0.046445</td>\n",
       "      <td>0.950724</td>\n",
       "      <td>0.023331</td>\n",
       "      <td>0.970189</td>\n",
       "      <td>...</td>\n",
       "      <td>NaN</td>\n",
       "      <td>NaN</td>\n",
       "      <td>NaN</td>\n",
       "      <td>NaN</td>\n",
       "      <td>NaN</td>\n",
       "      <td>NaN</td>\n",
       "      <td>NaN</td>\n",
       "      <td>NaN</td>\n",
       "      <td>NaN</td>\n",
       "      <td>NaN</td>\n",
       "    </tr>\n",
       "    <tr>\n",
       "      <th>0</th>\n",
       "      <td>15</td>\n",
       "      <td>00be8089a5dd7cda46dbbdaace646ed4</td>\n",
       "      <td>{\"cutoff\": \"quantile_0.25\", \"eval_fairness_gro...</td>\n",
       "      <td>33.067078</td>\n",
       "      <td>89710</td>\n",
       "      <td>1.0</td>\n",
       "      <td>0.046445</td>\n",
       "      <td>0.950724</td>\n",
       "      <td>0.023331</td>\n",
       "      <td>0.970189</td>\n",
       "      <td>...</td>\n",
       "      <td>0.132006</td>\n",
       "      <td>0.164033</td>\n",
       "      <td>0.76783</td>\n",
       "      <td>0.731384</td>\n",
       "      <td>0.103885</td>\n",
       "      <td>0.057440</td>\n",
       "      <td>0.782619</td>\n",
       "      <td>0.759289</td>\n",
       "      <td>20540.0</td>\n",
       "      <td>69170.0</td>\n",
       "    </tr>\n",
       "  </tbody>\n",
       "</table>\n",
       "<p>4 rows × 50 columns</p>\n",
       "</div>"
      ],
      "text/plain": [
       "  run_no                       universe_id  \\\n",
       "0     15  00be8089a5dd7cda46dbbdaace646ed4   \n",
       "0     15  00be8089a5dd7cda46dbbdaace646ed4   \n",
       "0     15  00be8089a5dd7cda46dbbdaace646ed4   \n",
       "0     15  00be8089a5dd7cda46dbbdaace646ed4   \n",
       "\n",
       "                                   universe_settings  execution_time  \\\n",
       "0  {\"cutoff\": \"quantile_0.1\", \"eval_fairness_grou...       33.067078   \n",
       "0  {\"cutoff\": \"quantile_0.1\", \"eval_fairness_grou...       33.067078   \n",
       "0  {\"cutoff\": \"quantile_0.25\", \"eval_fairness_gro...       33.067078   \n",
       "0  {\"cutoff\": \"quantile_0.25\", \"eval_fairness_gro...       33.067078   \n",
       "\n",
       "   test_size_n  test_size_frac  fair_main_equalized_odds_difference  \\\n",
       "0        89710             1.0                             0.019447   \n",
       "0        89710             1.0                             0.019447   \n",
       "0        89710             1.0                             0.046445   \n",
       "0        89710             1.0                             0.046445   \n",
       "\n",
       "   fair_main_equalized_odds_ratio  fair_main_demographic_parity_difference  \\\n",
       "0                        0.979017                                 0.014536   \n",
       "0                        0.979017                                 0.014536   \n",
       "0                        0.950724                                 0.023331   \n",
       "0                        0.950724                                 0.023331   \n",
       "\n",
       "   fair_main_demographic_parity_ratio  ...  perf_grp_precision_0  \\\n",
       "0                            0.984410  ...                   NaN   \n",
       "0                            0.984410  ...              0.120568   \n",
       "0                            0.970189  ...                   NaN   \n",
       "0                            0.970189  ...              0.132006   \n",
       "\n",
       "   perf_grp_precision_1  perf_grp_false positive rate_0  \\\n",
       "0                   NaN                             NaN   \n",
       "0              0.142045                         0.92681   \n",
       "0                   NaN                             NaN   \n",
       "0              0.164033                         0.76783   \n",
       "\n",
       "   perf_grp_false positive rate_1  perf_grp_false negative rate_0  \\\n",
       "0                             NaN                             NaN   \n",
       "0                        0.907363                        0.024916   \n",
       "0                             NaN                             NaN   \n",
       "0                        0.731384                        0.103885   \n",
       "\n",
       "   perf_grp_false negative rate_1  perf_grp_selection rate_0  \\\n",
       "0                             NaN                        NaN   \n",
       "0                        0.013348                   0.932376   \n",
       "0                             NaN                        NaN   \n",
       "0                        0.057440                   0.782619   \n",
       "\n",
       "   perf_grp_selection rate_1  perf_grp_count_0  perf_grp_count_1  \n",
       "0                        NaN               NaN               NaN  \n",
       "0                   0.917840           20540.0           69170.0  \n",
       "0                        NaN               NaN               NaN  \n",
       "0                   0.759289           20540.0           69170.0  \n",
       "\n",
       "[4 rows x 50 columns]"
      ]
     },
     "execution_count": 66,
     "metadata": {},
     "output_type": "execute_result"
    }
   ],
   "source": [
    "final_output = universe_analysis.generate_final_output(\n",
    "    y_pred_prob=probs_test,\n",
    "    y_test=y_true,\n",
    "    org_test=org_test,\n",
    "    filter_data=filter_sub_universe_data,\n",
    "    cp_metrics_df=cp_metrics_df,\n",
    "    save=True,\n",
    ")\n",
    "final_output"
   ]
  }
 ],
 "metadata": {
  "celltoolbar": "Tags",
  "kernelspec": {
   "display_name": "Python (CMA Fairness)",
   "language": "python",
   "name": "cma_fair_env"
  },
  "language_info": {
   "codemirror_mode": {
    "name": "ipython",
    "version": 3
   },
   "file_extension": ".py",
   "mimetype": "text/x-python",
   "name": "python",
   "nbconvert_exporter": "python",
   "pygments_lexer": "ipython3",
   "version": "3.10.12"
  },
  "papermill": {
   "default_parameters": {},
   "duration": 47.686237,
   "end_time": "2025-08-05T16:12:31.796295",
   "environment_variables": {},
   "exception": null,
   "input_path": "universe_analysis.ipynb",
   "output_path": "output/runs/15/notebooks/m_15-00be8089a5dd7cda46dbbdaace646ed4.ipynb",
   "parameters": {
    "output_dir": "output",
    "run_no": "15",
    "seed": "2023",
    "universe": "{\"cutoff\": [\"quantile_0.1\", \"quantile_0.25\"], \"eval_fairness_grouping\": [\"majority-minority\", \"nationality-all\"], \"exclude_features\": \"nationality-sex\", \"exclude_subgroups\": \"drop-non-german\", \"model\": \"rf\", \"scale\": \"do-not-scale\", \"training_size\": \"1k\", \"training_year\": \"2014\"}",
    "universe_id": "00be8089a5dd7cda46dbbdaace646ed4"
   },
   "start_time": "2025-08-05T16:11:44.110058",
   "version": "2.6.0"
  }
 },
 "nbformat": 4,
 "nbformat_minor": 5
}