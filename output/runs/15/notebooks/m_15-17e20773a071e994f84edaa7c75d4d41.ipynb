{
 "cells": [
  {
   "cell_type": "code",
   "execution_count": 1,
   "id": "f159f837-637b-42ba-96b5-ec9a68c44524",
   "metadata": {
    "execution": {
     "iopub.execute_input": "2025-08-05T14:41:42.216002Z",
     "iopub.status.busy": "2025-08-05T14:41:42.215549Z",
     "iopub.status.idle": "2025-08-05T14:41:42.229489Z",
     "shell.execute_reply": "2025-08-05T14:41:42.228414Z"
    },
    "papermill": {
     "duration": 0.033328,
     "end_time": "2025-08-05T14:41:42.231102",
     "exception": false,
     "start_time": "2025-08-05T14:41:42.197774",
     "status": "completed"
    },
    "tags": []
   },
   "outputs": [
    {
     "name": "stdout",
     "output_type": "stream",
     "text": [
      "/dss/dsshome1/0C/ra93lal2/cma/CMA_Fairness_v2\n"
     ]
    },
    {
     "name": "stderr",
     "output_type": "stream",
     "text": [
      "/dss/dsshome1/0C/ra93lal2/.local/share/virtualenvs/CMA_Fairness_v2-3j10GkSs/lib/python3.10/site-packages/IPython/core/magics/osm.py:393: UserWarning: This is now an optional IPython functionality, using bookmarks requires you to install the `pickleshare` library.\n",
      "  bkms = self.shell.db.get('bookmarks', {})\n",
      "/dss/dsshome1/0C/ra93lal2/.local/share/virtualenvs/CMA_Fairness_v2-3j10GkSs/lib/python3.10/site-packages/IPython/core/magics/osm.py:417: UserWarning: This is now an optional IPython functionality, setting dhist requires you to install the `pickleshare` library.\n",
      "  self.shell.db['dhist'] = compress_dhist(dhist)[-100:]\n"
     ]
    }
   ],
   "source": [
    "%cd ~/cma/CMA_Fairness_v2"
   ]
  },
  {
   "cell_type": "markdown",
   "id": "de2603b9",
   "metadata": {
    "papermill": {
     "duration": 0.015565,
     "end_time": "2025-08-05T14:41:42.262498",
     "exception": false,
     "start_time": "2025-08-05T14:41:42.246933",
     "status": "completed"
    },
    "tags": []
   },
   "source": [
    "The following cell holds the definition of our parameters, these values can be overriden by rendering the with e.g. the following command:\n",
    "\n",
    "papermill -p alpha 0.2 -p ratio 0.3 universe_analysis.ipynb output/test_run.ipynb"
   ]
  },
  {
   "cell_type": "code",
   "execution_count": 2,
   "id": "a80968a0-40bb-4fa9-85ef-2d5eefb01975",
   "metadata": {
    "execution": {
     "iopub.execute_input": "2025-08-05T14:41:42.295232Z",
     "iopub.status.busy": "2025-08-05T14:41:42.294601Z",
     "iopub.status.idle": "2025-08-05T14:41:42.299857Z",
     "shell.execute_reply": "2025-08-05T14:41:42.298859Z"
    },
    "papermill": {
     "duration": 0.023224,
     "end_time": "2025-08-05T14:41:42.301372",
     "exception": false,
     "start_time": "2025-08-05T14:41:42.278148",
     "status": "completed"
    },
    "tags": []
   },
   "outputs": [
    {
     "name": "stdout",
     "output_type": "stream",
     "text": [
      "Current working directory: /dss/dsshome1/0C/ra93lal2/cma/CMA_Fairness_v2\n"
     ]
    }
   ],
   "source": [
    "import os\n",
    "print(\"Current working directory:\", os.getcwd())"
   ]
  },
  {
   "cell_type": "code",
   "execution_count": 3,
   "id": "2dce4c03",
   "metadata": {
    "execution": {
     "iopub.execute_input": "2025-08-05T14:41:42.334708Z",
     "iopub.status.busy": "2025-08-05T14:41:42.334064Z",
     "iopub.status.idle": "2025-08-05T14:41:42.340243Z",
     "shell.execute_reply": "2025-08-05T14:41:42.339394Z"
    },
    "papermill": {
     "duration": 0.0246,
     "end_time": "2025-08-05T14:41:42.341914",
     "exception": false,
     "start_time": "2025-08-05T14:41:42.317314",
     "status": "completed"
    },
    "tags": [
     "parameters"
    ]
   },
   "outputs": [],
   "source": [
    "run_no = 0\n",
    "universe_id = \"test\"\n",
    "universe = {\n",
    "    \"training_size\": \"25k\", # \"25k\", \"5k\", \"1k\"\n",
    "    \"training_year\": \"2014\", # \"2014\", \"2012_14\", \"2010_14\"\n",
    "    \"scale\": \"scale\", # \"scale\", \"do-not-scale\",\n",
    "    \"model\": \"elasticnet\", # \"logreg\", \"penalized_logreg\", \"rf\", \"gbm\", \"elasticnet\"\n",
    "    \"cutoff\": [\"quantile_0.15\", \"quantile_0.30\"],\n",
    "    \"exclude_features\": \"age\", # \"none\", \"nationality\", \"sex\", \"nationality-sex\", \"age\"\n",
    "    \"exclude_subgroups\": \"keep-all\", # \"keep-all\", \"drop-non-german\"\n",
    "    \"eval_fairness_grouping\": [\"majority-minority\", \"nationality-all\"]\n",
    "}\n",
    "\n",
    "output_dir=\"./output\"\n",
    "seed=0"
   ]
  },
  {
   "cell_type": "code",
   "execution_count": 4,
   "id": "c9d03e52",
   "metadata": {
    "execution": {
     "iopub.execute_input": "2025-08-05T14:41:42.385395Z",
     "iopub.status.busy": "2025-08-05T14:41:42.385083Z",
     "iopub.status.idle": "2025-08-05T14:41:42.389899Z",
     "shell.execute_reply": "2025-08-05T14:41:42.388951Z"
    },
    "papermill": {
     "duration": 0.028149,
     "end_time": "2025-08-05T14:41:42.391841",
     "exception": false,
     "start_time": "2025-08-05T14:41:42.363692",
     "status": "completed"
    },
    "tags": [
     "injected-parameters"
    ]
   },
   "outputs": [],
   "source": [
    "# Parameters\n",
    "universe_id = \"17e20773a071e994f84edaa7c75d4d41\"\n",
    "run_no = \"15\"\n",
    "universe = \"{\\\"cutoff\\\": [\\\"quantile_0.1\\\", \\\"quantile_0.25\\\"], \\\"eval_fairness_grouping\\\": [\\\"majority-minority\\\", \\\"nationality-all\\\"], \\\"exclude_features\\\": \\\"sex\\\", \\\"exclude_subgroups\\\": \\\"drop-non-german\\\", \\\"model\\\": \\\"penalized_logreg\\\", \\\"scale\\\": \\\"do-not-scale\\\", \\\"training_size\\\": \\\"25k\\\", \\\"training_year\\\": \\\"2014\\\"}\"\n",
    "output_dir = \"output\"\n",
    "seed = \"2023\"\n"
   ]
  },
  {
   "cell_type": "code",
   "execution_count": 5,
   "id": "1650acaf",
   "metadata": {
    "execution": {
     "iopub.execute_input": "2025-08-05T14:41:42.435418Z",
     "iopub.status.busy": "2025-08-05T14:41:42.434877Z",
     "iopub.status.idle": "2025-08-05T14:41:42.440459Z",
     "shell.execute_reply": "2025-08-05T14:41:42.439348Z"
    },
    "papermill": {
     "duration": 0.02917,
     "end_time": "2025-08-05T14:41:42.442356",
     "exception": false,
     "start_time": "2025-08-05T14:41:42.413186",
     "status": "completed"
    },
    "tags": []
   },
   "outputs": [],
   "source": [
    "import json\n",
    "if isinstance(universe, str):\n",
    "    universe = json.loads(universe)"
   ]
  },
  {
   "cell_type": "code",
   "execution_count": 6,
   "id": "16620c48",
   "metadata": {
    "execution": {
     "iopub.execute_input": "2025-08-05T14:41:42.483326Z",
     "iopub.status.busy": "2025-08-05T14:41:42.483031Z",
     "iopub.status.idle": "2025-08-05T14:41:42.524335Z",
     "shell.execute_reply": "2025-08-05T14:41:42.523404Z"
    },
    "papermill": {
     "duration": 0.063293,
     "end_time": "2025-08-05T14:41:42.526035",
     "exception": false,
     "start_time": "2025-08-05T14:41:42.462742",
     "status": "completed"
    },
    "tags": []
   },
   "outputs": [],
   "source": [
    "# Auto-reload the custom package\n",
    "%load_ext autoreload\n",
    "%autoreload 1\n",
    "%aimport fairness_multiverse"
   ]
  },
  {
   "cell_type": "code",
   "execution_count": 7,
   "id": "01c5c9f3",
   "metadata": {
    "execution": {
     "iopub.execute_input": "2025-08-05T14:41:42.566180Z",
     "iopub.status.busy": "2025-08-05T14:41:42.565900Z",
     "iopub.status.idle": "2025-08-05T14:41:44.328557Z",
     "shell.execute_reply": "2025-08-05T14:41:44.327601Z"
    },
    "papermill": {
     "duration": 1.785108,
     "end_time": "2025-08-05T14:41:44.330633",
     "exception": false,
     "start_time": "2025-08-05T14:41:42.545525",
     "status": "completed"
    },
    "tags": []
   },
   "outputs": [],
   "source": [
    "from fairness_multiverse.universe import UniverseAnalysis\n",
    "\n",
    "universe_analysis = UniverseAnalysis(\n",
    "    run_no = run_no,\n",
    "    universe_id = universe_id,\n",
    "    universe = universe,\n",
    "    output_dir=output_dir,\n",
    ")"
   ]
  },
  {
   "cell_type": "code",
   "execution_count": 8,
   "id": "106241f5",
   "metadata": {
    "execution": {
     "iopub.execute_input": "2025-08-05T14:41:44.375344Z",
     "iopub.status.busy": "2025-08-05T14:41:44.374540Z",
     "iopub.status.idle": "2025-08-05T14:41:44.381729Z",
     "shell.execute_reply": "2025-08-05T14:41:44.380640Z"
    },
    "papermill": {
     "duration": 0.031583,
     "end_time": "2025-08-05T14:41:44.383714",
     "exception": false,
     "start_time": "2025-08-05T14:41:44.352131",
     "status": "completed"
    },
    "tags": []
   },
   "outputs": [
    {
     "name": "stdout",
     "output_type": "stream",
     "text": [
      "Using Seed: 2023\n"
     ]
    }
   ],
   "source": [
    "import numpy as np\n",
    "parsed_seed = int(seed)\n",
    "np.random.seed(parsed_seed)\n",
    "print(f\"Using Seed: {parsed_seed}\")"
   ]
  },
  {
   "cell_type": "markdown",
   "id": "e0ebdc57",
   "metadata": {
    "papermill": {
     "duration": 0.020876,
     "end_time": "2025-08-05T14:41:44.426777",
     "exception": false,
     "start_time": "2025-08-05T14:41:44.405901",
     "status": "completed"
    },
    "tags": []
   },
   "source": [
    "# Loading Data"
   ]
  },
  {
   "cell_type": "markdown",
   "id": "681925a3",
   "metadata": {
    "papermill": {
     "duration": 0.020311,
     "end_time": "2025-08-05T14:41:44.467329",
     "exception": false,
     "start_time": "2025-08-05T14:41:44.447018",
     "status": "completed"
    },
    "tags": []
   },
   "source": [
    "Load siab_train, siab_test, siab_calib and/or \n",
    "load siab_train_features, siab_train_labels"
   ]
  },
  {
   "cell_type": "code",
   "execution_count": 9,
   "id": "f0496b8a",
   "metadata": {
    "execution": {
     "iopub.execute_input": "2025-08-05T14:41:44.510204Z",
     "iopub.status.busy": "2025-08-05T14:41:44.509175Z",
     "iopub.status.idle": "2025-08-05T14:41:56.153105Z",
     "shell.execute_reply": "2025-08-05T14:41:56.151892Z"
    },
    "papermill": {
     "duration": 11.667211,
     "end_time": "2025-08-05T14:41:56.154866",
     "exception": false,
     "start_time": "2025-08-05T14:41:44.487655",
     "status": "completed"
    },
    "tags": []
   },
   "outputs": [
    {
     "name": "stdout",
     "output_type": "stream",
     "text": [
      "Loading SIAB data from cache: data/siab_cached.csv.gz\n"
     ]
    },
    {
     "name": "stdout",
     "output_type": "stream",
     "text": [
      "(643690, 164)\n"
     ]
    }
   ],
   "source": [
    "from pathlib import Path\n",
    "import pandas as pd\n",
    "\n",
    "# File paths\n",
    "raw_file = Path(\"data/raw/siab.csv\")\n",
    "cache_file = Path(\"data/siab_cached.csv.gz\")\n",
    "\n",
    "# Ensure cache directory exists\n",
    "cache_file.parent.mkdir(parents=True, exist_ok=True)\n",
    "\n",
    "# Load with simple caching\n",
    "if cache_file.exists():\n",
    "    print(f\"Loading SIAB data from cache: {cache_file}\")\n",
    "    siab = pd.read_csv(cache_file, compression='gzip')\n",
    "else:\n",
    "    print(f\"Cache not found. Reading raw SIAB data: {raw_file}\")\n",
    "    siab = pd.read_csv(raw_file)\n",
    "    siab.to_csv(cache_file, index=False, compression='gzip')\n",
    "    print(f\"Cached SIAB data to: {cache_file}\")\n",
    "\n",
    "print(siab.shape)"
   ]
  },
  {
   "cell_type": "code",
   "execution_count": 10,
   "id": "db0ca512-5f53-4dba-abdb-a2888bca41ba",
   "metadata": {
    "execution": {
     "iopub.execute_input": "2025-08-05T14:41:56.199415Z",
     "iopub.status.busy": "2025-08-05T14:41:56.198987Z",
     "iopub.status.idle": "2025-08-05T14:41:56.204418Z",
     "shell.execute_reply": "2025-08-05T14:41:56.203366Z"
    },
    "papermill": {
     "duration": 0.028033,
     "end_time": "2025-08-05T14:41:56.206082",
     "exception": false,
     "start_time": "2025-08-05T14:41:56.178049",
     "status": "completed"
    },
    "tags": []
   },
   "outputs": [],
   "source": [
    "#siab"
   ]
  },
  {
   "cell_type": "markdown",
   "id": "997051c5-15bd-4b69-9786-c3001a3ce484",
   "metadata": {
    "papermill": {
     "duration": 0.015727,
     "end_time": "2025-08-05T14:41:56.238889",
     "exception": false,
     "start_time": "2025-08-05T14:41:56.223162",
     "status": "completed"
    },
    "tags": []
   },
   "source": [
    "# Splitting Data and Setting Training Data Size"
   ]
  },
  {
   "cell_type": "code",
   "execution_count": 11,
   "id": "aea9c6ef-6f46-42c8-85eb-5a62025c1508",
   "metadata": {
    "execution": {
     "iopub.execute_input": "2025-08-05T14:41:56.272135Z",
     "iopub.status.busy": "2025-08-05T14:41:56.271407Z",
     "iopub.status.idle": "2025-08-05T14:41:56.492175Z",
     "shell.execute_reply": "2025-08-05T14:41:56.491379Z"
    },
    "papermill": {
     "duration": 0.239751,
     "end_time": "2025-08-05T14:41:56.494372",
     "exception": false,
     "start_time": "2025-08-05T14:41:56.254621",
     "status": "completed"
    },
    "tags": []
   },
   "outputs": [],
   "source": [
    "from fairness_multiverse.universe import sample_by_year_size\n",
    "\n",
    "siab_train = sample_by_year_size(siab,\n",
    "                               training_year=universe[\"training_year\"],\n",
    "                               training_size=universe[\"training_size\"])"
   ]
  },
  {
   "cell_type": "code",
   "execution_count": 12,
   "id": "8d3afb32-789d-442c-8d5d-9f5aa8dd2eed",
   "metadata": {
    "execution": {
     "iopub.execute_input": "2025-08-05T14:41:56.530714Z",
     "iopub.status.busy": "2025-08-05T14:41:56.530236Z",
     "iopub.status.idle": "2025-08-05T14:41:56.535781Z",
     "shell.execute_reply": "2025-08-05T14:41:56.534617Z"
    },
    "papermill": {
     "duration": 0.025257,
     "end_time": "2025-08-05T14:41:56.537275",
     "exception": false,
     "start_time": "2025-08-05T14:41:56.512018",
     "status": "completed"
    },
    "tags": []
   },
   "outputs": [],
   "source": [
    "#siab_train.shape"
   ]
  },
  {
   "cell_type": "code",
   "execution_count": 13,
   "id": "d582db68-1a4c-47fb-84fc-08518dc1975a",
   "metadata": {
    "execution": {
     "iopub.execute_input": "2025-08-05T14:41:56.574608Z",
     "iopub.status.busy": "2025-08-05T14:41:56.574265Z",
     "iopub.status.idle": "2025-08-05T14:41:56.578503Z",
     "shell.execute_reply": "2025-08-05T14:41:56.577759Z"
    },
    "papermill": {
     "duration": 0.023898,
     "end_time": "2025-08-05T14:41:56.580001",
     "exception": false,
     "start_time": "2025-08-05T14:41:56.556103",
     "status": "completed"
    },
    "tags": []
   },
   "outputs": [],
   "source": [
    "#display(siab_train.groupby(\"year\").size())"
   ]
  },
  {
   "cell_type": "code",
   "execution_count": 14,
   "id": "a561edb4-d032-42cb-8256-22eac1111c64",
   "metadata": {
    "execution": {
     "iopub.execute_input": "2025-08-05T14:41:56.603649Z",
     "iopub.status.busy": "2025-08-05T14:41:56.603214Z",
     "iopub.status.idle": "2025-08-05T14:41:56.785140Z",
     "shell.execute_reply": "2025-08-05T14:41:56.784385Z"
    },
    "papermill": {
     "duration": 0.194541,
     "end_time": "2025-08-05T14:41:56.786655",
     "exception": false,
     "start_time": "2025-08-05T14:41:56.592114",
     "status": "completed"
    },
    "tags": []
   },
   "outputs": [],
   "source": [
    "#siab_train = siab_s[siab_s.year < 2015]\n",
    "siab_calib = siab[siab.year == 2015]\n",
    "siab_test = siab[siab.year == 2016]"
   ]
  },
  {
   "cell_type": "code",
   "execution_count": 15,
   "id": "472de16f-c3db-4916-846b-1f0de9cf1746",
   "metadata": {
    "execution": {
     "iopub.execute_input": "2025-08-05T14:41:56.806888Z",
     "iopub.status.busy": "2025-08-05T14:41:56.806213Z",
     "iopub.status.idle": "2025-08-05T14:41:56.819871Z",
     "shell.execute_reply": "2025-08-05T14:41:56.818985Z"
    },
    "papermill": {
     "duration": 0.024917,
     "end_time": "2025-08-05T14:41:56.821342",
     "exception": false,
     "start_time": "2025-08-05T14:41:56.796425",
     "status": "completed"
    },
    "tags": []
   },
   "outputs": [],
   "source": [
    "X_train = siab_train.iloc[:,4:164]\n",
    "y_train = siab_train.iloc[:, [3]]"
   ]
  },
  {
   "cell_type": "code",
   "execution_count": 16,
   "id": "828c96af-f43a-4ed6-ba47-8ac73a47d56c",
   "metadata": {
    "execution": {
     "iopub.execute_input": "2025-08-05T14:41:56.842601Z",
     "iopub.status.busy": "2025-08-05T14:41:56.841885Z",
     "iopub.status.idle": "2025-08-05T14:41:56.889177Z",
     "shell.execute_reply": "2025-08-05T14:41:56.888322Z"
    },
    "papermill": {
     "duration": 0.058693,
     "end_time": "2025-08-05T14:41:56.890695",
     "exception": false,
     "start_time": "2025-08-05T14:41:56.832002",
     "status": "completed"
    },
    "tags": []
   },
   "outputs": [],
   "source": [
    "X_calib = siab_calib.iloc[:,4:164]\n",
    "y_calib = siab_calib.iloc[:, [3]]"
   ]
  },
  {
   "cell_type": "code",
   "execution_count": 17,
   "id": "c34be9c3-6bd6-476e-acd3-845840e303be",
   "metadata": {
    "execution": {
     "iopub.execute_input": "2025-08-05T14:41:56.911428Z",
     "iopub.status.busy": "2025-08-05T14:41:56.910770Z",
     "iopub.status.idle": "2025-08-05T14:41:56.992607Z",
     "shell.execute_reply": "2025-08-05T14:41:56.991681Z"
    },
    "papermill": {
     "duration": 0.093364,
     "end_time": "2025-08-05T14:41:56.994270",
     "exception": false,
     "start_time": "2025-08-05T14:41:56.900906",
     "status": "completed"
    },
    "tags": []
   },
   "outputs": [],
   "source": [
    "X_test = siab_test.iloc[:,4:164]\n",
    "y_true = siab_test.iloc[:, [3]]"
   ]
  },
  {
   "cell_type": "code",
   "execution_count": 18,
   "id": "e6c733c5",
   "metadata": {
    "execution": {
     "iopub.execute_input": "2025-08-05T14:41:57.018619Z",
     "iopub.status.busy": "2025-08-05T14:41:57.018183Z",
     "iopub.status.idle": "2025-08-05T14:41:57.116855Z",
     "shell.execute_reply": "2025-08-05T14:41:57.116004Z"
    },
    "papermill": {
     "duration": 0.114201,
     "end_time": "2025-08-05T14:41:57.118698",
     "exception": false,
     "start_time": "2025-08-05T14:41:57.004497",
     "status": "completed"
    },
    "tags": []
   },
   "outputs": [],
   "source": [
    "# Auxiliary data needed downstream in the pipeline\n",
    "\n",
    "org_train = X_train.copy()\n",
    "org_test = X_test.copy()\n",
    "org_calib = X_calib.copy()"
   ]
  },
  {
   "cell_type": "markdown",
   "id": "0a4a1b33",
   "metadata": {
    "papermill": {
     "duration": 0.019975,
     "end_time": "2025-08-05T14:41:57.157427",
     "exception": false,
     "start_time": "2025-08-05T14:41:57.137452",
     "status": "completed"
    },
    "tags": []
   },
   "source": [
    "# Preprocessing Data"
   ]
  },
  {
   "cell_type": "code",
   "execution_count": 19,
   "id": "ca879031",
   "metadata": {
    "execution": {
     "iopub.execute_input": "2025-08-05T14:41:57.198440Z",
     "iopub.status.busy": "2025-08-05T14:41:57.197843Z",
     "iopub.status.idle": "2025-08-05T14:41:57.202822Z",
     "shell.execute_reply": "2025-08-05T14:41:57.202168Z"
    },
    "papermill": {
     "duration": 0.026963,
     "end_time": "2025-08-05T14:41:57.204062",
     "exception": false,
     "start_time": "2025-08-05T14:41:57.177099",
     "status": "completed"
    },
    "tags": []
   },
   "outputs": [],
   "source": [
    "# EXCLUDE PROTECTED FEATURES\n",
    "# ----------------------\n",
    "# \"exclude_features\": \"none\", # \"nationality\", \"sex\", \"nationality-sex\"\n",
    "\n",
    "excluded_features = universe[\"exclude_features\"].split(\"-\") # split, e.g.: \"nationality-sex\" -> [\"nationality\", \"sex\"]\n",
    "excluded_features_dictionary = {\n",
    "    \"nationality\": [\"maxdeutsch1\", \"maxdeutsch.Missing.\"],\n",
    "    \"sex\": [\"frau1\"],\n",
    "    \"age\": [\"age\"],\n",
    "}"
   ]
  },
  {
   "cell_type": "code",
   "execution_count": 20,
   "id": "b745ac60",
   "metadata": {
    "execution": {
     "iopub.execute_input": "2025-08-05T14:41:57.225435Z",
     "iopub.status.busy": "2025-08-05T14:41:57.224838Z",
     "iopub.status.idle": "2025-08-05T14:41:57.229498Z",
     "shell.execute_reply": "2025-08-05T14:41:57.228821Z"
    },
    "papermill": {
     "duration": 0.017628,
     "end_time": "2025-08-05T14:41:57.230941",
     "exception": false,
     "start_time": "2025-08-05T14:41:57.213313",
     "status": "completed"
    },
    "tags": []
   },
   "outputs": [],
   "source": [
    "# Code nice names to column names\n",
    "\n",
    "excluded_features_columns = [\n",
    "    excluded_features_dictionary[f] for f in excluded_features if len(f) > 0 and f != \"none\"\n",
    "]"
   ]
  },
  {
   "cell_type": "code",
   "execution_count": 21,
   "id": "f84f73a2",
   "metadata": {
    "execution": {
     "iopub.execute_input": "2025-08-05T14:41:57.251271Z",
     "iopub.status.busy": "2025-08-05T14:41:57.250576Z",
     "iopub.status.idle": "2025-08-05T14:41:57.255635Z",
     "shell.execute_reply": "2025-08-05T14:41:57.254796Z"
    },
    "papermill": {
     "duration": 0.016218,
     "end_time": "2025-08-05T14:41:57.256997",
     "exception": false,
     "start_time": "2025-08-05T14:41:57.240779",
     "status": "completed"
    },
    "tags": []
   },
   "outputs": [],
   "source": [
    "from utils import flatten_once\n",
    "\n",
    "excluded_features_columns = flatten_once(excluded_features_columns)"
   ]
  },
  {
   "cell_type": "code",
   "execution_count": 22,
   "id": "884dea22",
   "metadata": {
    "execution": {
     "iopub.execute_input": "2025-08-05T14:41:57.279956Z",
     "iopub.status.busy": "2025-08-05T14:41:57.279607Z",
     "iopub.status.idle": "2025-08-05T14:41:57.294500Z",
     "shell.execute_reply": "2025-08-05T14:41:57.293200Z"
    },
    "papermill": {
     "duration": 0.026477,
     "end_time": "2025-08-05T14:41:57.295969",
     "exception": false,
     "start_time": "2025-08-05T14:41:57.269492",
     "status": "completed"
    },
    "tags": []
   },
   "outputs": [
    {
     "name": "stdout",
     "output_type": "stream",
     "text": [
      "Dropping features: ['frau1']\n"
     ]
    }
   ],
   "source": [
    "if len(excluded_features_columns) > 0:\n",
    "    print(f\"Dropping features: {excluded_features_columns}\")\n",
    "    X_train.drop(excluded_features_columns, axis=1, inplace=True)"
   ]
  },
  {
   "cell_type": "code",
   "execution_count": 23,
   "id": "95ab8b16",
   "metadata": {
    "execution": {
     "iopub.execute_input": "2025-08-05T14:41:57.335620Z",
     "iopub.status.busy": "2025-08-05T14:41:57.335186Z",
     "iopub.status.idle": "2025-08-05T14:41:57.390310Z",
     "shell.execute_reply": "2025-08-05T14:41:57.389170Z"
    },
    "papermill": {
     "duration": 0.077308,
     "end_time": "2025-08-05T14:41:57.392435",
     "exception": false,
     "start_time": "2025-08-05T14:41:57.315127",
     "status": "completed"
    },
    "tags": []
   },
   "outputs": [
    {
     "name": "stdout",
     "output_type": "stream",
     "text": [
      "Dropping features: ['frau1']\n"
     ]
    }
   ],
   "source": [
    "if len(excluded_features_columns) > 0:\n",
    "    print(f\"Dropping features: {excluded_features_columns}\")\n",
    "    X_test.drop(excluded_features_columns, axis=1, inplace=True)"
   ]
  },
  {
   "cell_type": "code",
   "execution_count": 24,
   "id": "1853aaf5-fb9f-46cb-a2b5-8ea4ae2237e4",
   "metadata": {
    "execution": {
     "iopub.execute_input": "2025-08-05T14:41:57.434813Z",
     "iopub.status.busy": "2025-08-05T14:41:57.434434Z",
     "iopub.status.idle": "2025-08-05T14:41:57.489197Z",
     "shell.execute_reply": "2025-08-05T14:41:57.487973Z"
    },
    "papermill": {
     "duration": 0.07733,
     "end_time": "2025-08-05T14:41:57.491146",
     "exception": false,
     "start_time": "2025-08-05T14:41:57.413816",
     "status": "completed"
    },
    "tags": []
   },
   "outputs": [
    {
     "name": "stdout",
     "output_type": "stream",
     "text": [
      "Dropping features: ['frau1']\n"
     ]
    }
   ],
   "source": [
    "if len(excluded_features_columns) > 0:\n",
    "    print(f\"Dropping features: {excluded_features_columns}\")\n",
    "    X_calib.drop(excluded_features_columns, axis=1, inplace=True)"
   ]
  },
  {
   "cell_type": "code",
   "execution_count": 25,
   "id": "76c4dc6d",
   "metadata": {
    "execution": {
     "iopub.execute_input": "2025-08-05T14:41:57.531414Z",
     "iopub.status.busy": "2025-08-05T14:41:57.530651Z",
     "iopub.status.idle": "2025-08-05T14:41:57.536619Z",
     "shell.execute_reply": "2025-08-05T14:41:57.535539Z"
    },
    "papermill": {
     "duration": 0.027006,
     "end_time": "2025-08-05T14:41:57.538526",
     "exception": false,
     "start_time": "2025-08-05T14:41:57.511520",
     "status": "completed"
    },
    "tags": []
   },
   "outputs": [],
   "source": [
    "# EXCLUDE CERTAIN SUBGROUPS\n",
    "# ----------------------\n",
    "\n",
    "mode = universe.get(\"exclude_subgroups\", \"keep-all\") \n",
    "# Fetches the exclude_subgroups setting from the universe dict.\n",
    "# Defaults to \"keep-all\" if the key is missing."
   ]
  },
  {
   "cell_type": "code",
   "execution_count": 26,
   "id": "21994072",
   "metadata": {
    "execution": {
     "iopub.execute_input": "2025-08-05T14:41:57.577060Z",
     "iopub.status.busy": "2025-08-05T14:41:57.576306Z",
     "iopub.status.idle": "2025-08-05T14:41:57.583186Z",
     "shell.execute_reply": "2025-08-05T14:41:57.582388Z"
    },
    "papermill": {
     "duration": 0.027616,
     "end_time": "2025-08-05T14:41:57.584584",
     "exception": false,
     "start_time": "2025-08-05T14:41:57.556968",
     "status": "completed"
    },
    "tags": []
   },
   "outputs": [],
   "source": [
    "if mode == \"keep-all\":\n",
    "    keep_mask = pd.Series(True, index=org_train.index)\n",
    "\n",
    "# org_train contains the original feature columns from features_org (in Simson)\n",
    "# features_org contains unprocessed features, for me X_train at beginning ???\n",
    "# For keep-all, creates a boolean Series (keep_mask) of all True, so no rows are removed.\n",
    "\n",
    "elif mode == \"drop-non-german\":\n",
    "    keep_mask = org_train[\"maxdeutsch1\"] == 1 # ??? what about missing values?\n",
    "\n",
    "else:\n",
    "    raise ValueError(f\"Unsupported mode for exclude_subgroups: {mode}\")"
   ]
  },
  {
   "cell_type": "code",
   "execution_count": 27,
   "id": "71651440",
   "metadata": {
    "execution": {
     "iopub.execute_input": "2025-08-05T14:41:57.605768Z",
     "iopub.status.busy": "2025-08-05T14:41:57.605171Z",
     "iopub.status.idle": "2025-08-05T14:41:57.611268Z",
     "shell.execute_reply": "2025-08-05T14:41:57.610470Z"
    },
    "papermill": {
     "duration": 0.017677,
     "end_time": "2025-08-05T14:41:57.612660",
     "exception": false,
     "start_time": "2025-08-05T14:41:57.594983",
     "status": "completed"
    },
    "tags": []
   },
   "outputs": [
    {
     "name": "stdout",
     "output_type": "stream",
     "text": [
      "Dropping 3688 rows (14.75%) where mode='drop-non-german'\n"
     ]
    }
   ],
   "source": [
    "n_drop = (~keep_mask).sum() # Calculates how many rows are set to be dropped\n",
    "if n_drop > 0:\n",
    "    pct = n_drop / len(keep_mask) * 100\n",
    "    print(f\"Dropping {n_drop} rows ({pct:.2f}%) where mode='{mode}'\")"
   ]
  },
  {
   "cell_type": "code",
   "execution_count": 28,
   "id": "5fb8eee5",
   "metadata": {
    "execution": {
     "iopub.execute_input": "2025-08-05T14:41:57.633653Z",
     "iopub.status.busy": "2025-08-05T14:41:57.633071Z",
     "iopub.status.idle": "2025-08-05T14:41:57.645801Z",
     "shell.execute_reply": "2025-08-05T14:41:57.645074Z"
    },
    "papermill": {
     "duration": 0.024475,
     "end_time": "2025-08-05T14:41:57.647295",
     "exception": false,
     "start_time": "2025-08-05T14:41:57.622820",
     "status": "completed"
    },
    "tags": []
   },
   "outputs": [],
   "source": [
    "X_train = X_train[keep_mask]"
   ]
  },
  {
   "cell_type": "code",
   "execution_count": 29,
   "id": "b202bb3a",
   "metadata": {
    "execution": {
     "iopub.execute_input": "2025-08-05T14:41:57.668429Z",
     "iopub.status.busy": "2025-08-05T14:41:57.667819Z",
     "iopub.status.idle": "2025-08-05T14:41:57.673159Z",
     "shell.execute_reply": "2025-08-05T14:41:57.672378Z"
    },
    "papermill": {
     "duration": 0.017187,
     "end_time": "2025-08-05T14:41:57.674681",
     "exception": false,
     "start_time": "2025-08-05T14:41:57.657494",
     "status": "completed"
    },
    "tags": []
   },
   "outputs": [],
   "source": [
    "y_train = y_train[keep_mask]"
   ]
  },
  {
   "cell_type": "markdown",
   "id": "493e2ac3",
   "metadata": {
    "papermill": {
     "duration": 0.009509,
     "end_time": "2025-08-05T14:41:57.694352",
     "exception": false,
     "start_time": "2025-08-05T14:41:57.684843",
     "status": "completed"
    },
    "tags": []
   },
   "source": [
    "# Model Training"
   ]
  },
  {
   "cell_type": "code",
   "execution_count": 30,
   "id": "679e1268",
   "metadata": {
    "execution": {
     "iopub.execute_input": "2025-08-05T14:41:57.714557Z",
     "iopub.status.busy": "2025-08-05T14:41:57.714158Z",
     "iopub.status.idle": "2025-08-05T14:41:57.814885Z",
     "shell.execute_reply": "2025-08-05T14:41:57.813861Z"
    },
    "papermill": {
     "duration": 0.11263,
     "end_time": "2025-08-05T14:41:57.816500",
     "exception": false,
     "start_time": "2025-08-05T14:41:57.703870",
     "status": "completed"
    },
    "tags": []
   },
   "outputs": [],
   "source": [
    "from sklearn.linear_model import LogisticRegression\n",
    "from sklearn.ensemble import GradientBoostingClassifier, RandomForestClassifier\n",
    "\n",
    "if (universe[\"model\"] == \"logreg\"):\n",
    "    model = LogisticRegression() #penalty=\"none\", solver=\"newton-cg\", max_iter=1) # include random_state=19 ?\n",
    "elif (universe[\"model\"] == \"penalized_logreg\"):\n",
    "    model = LogisticRegression(penalty=\"l2\", C=0.1) #, solver=\"newton-cg\", max_iter=1)\n",
    "elif (universe[\"model\"] == \"rf\"):\n",
    "    model = RandomForestClassifier() # n_estimators=100, n_jobs=-1\n",
    "elif (universe[\"model\"] == \"gbm\"):\n",
    "    model = GradientBoostingClassifier()\n",
    "elif (universe[\"model\"] == \"elasticnet\"):\n",
    "    model = LogisticRegression(penalty = 'elasticnet', solver = 'saga', l1_ratio = 0.5) # max_iter=5000\n",
    "else:\n",
    "    raise \"Unsupported universe.model\""
   ]
  },
  {
   "cell_type": "code",
   "execution_count": 31,
   "id": "0cc8f744",
   "metadata": {
    "execution": {
     "iopub.execute_input": "2025-08-05T14:41:57.855011Z",
     "iopub.status.busy": "2025-08-05T14:41:57.854594Z",
     "iopub.status.idle": "2025-08-05T14:41:57.861226Z",
     "shell.execute_reply": "2025-08-05T14:41:57.860058Z"
    },
    "papermill": {
     "duration": 0.028207,
     "end_time": "2025-08-05T14:41:57.863184",
     "exception": false,
     "start_time": "2025-08-05T14:41:57.834977",
     "status": "completed"
    },
    "tags": []
   },
   "outputs": [],
   "source": [
    "import numpy as np\n",
    "from sklearn.pipeline import Pipeline\n",
    "from sklearn.preprocessing import StandardScaler\n",
    "\n",
    "model = Pipeline([\n",
    "    #(\"continuous_processor\", continuous_processor),\n",
    "    #(\"categorical_preprocessor\", categorical_preprocessor),\n",
    "    (\"scale\", StandardScaler() if universe[\"scale\"] == \"scale\" else None), \n",
    "    (\"model\", model),\n",
    "])"
   ]
  },
  {
   "cell_type": "code",
   "execution_count": 32,
   "id": "9442c04d",
   "metadata": {
    "execution": {
     "iopub.execute_input": "2025-08-05T14:41:57.903208Z",
     "iopub.status.busy": "2025-08-05T14:41:57.902748Z",
     "iopub.status.idle": "2025-08-05T14:41:58.425648Z",
     "shell.execute_reply": "2025-08-05T14:41:58.424642Z"
    },
    "papermill": {
     "duration": 0.544989,
     "end_time": "2025-08-05T14:41:58.427437",
     "exception": false,
     "start_time": "2025-08-05T14:41:57.882448",
     "status": "completed"
    },
    "tags": []
   },
   "outputs": [
    {
     "name": "stderr",
     "output_type": "stream",
     "text": [
      "/dss/dsshome1/0C/ra93lal2/.local/share/virtualenvs/CMA_Fairness_v2-3j10GkSs/lib/python3.10/site-packages/sklearn/linear_model/_logistic.py:444: ConvergenceWarning: lbfgs failed to converge (status=1):\n",
      "STOP: TOTAL NO. of ITERATIONS REACHED LIMIT.\n",
      "\n",
      "Increase the number of iterations (max_iter) or scale the data as shown in:\n",
      "    https://scikit-learn.org/stable/modules/preprocessing.html\n",
      "Please also refer to the documentation for alternative solver options:\n",
      "    https://scikit-learn.org/stable/modules/linear_model.html#logistic-regression\n",
      "  n_iter_i = _check_optimize_result(\n"
     ]
    },
    {
     "data": {
      "text/html": [
       "<style>#sk-container-id-1 {color: black;background-color: white;}#sk-container-id-1 pre{padding: 0;}#sk-container-id-1 div.sk-toggleable {background-color: white;}#sk-container-id-1 label.sk-toggleable__label {cursor: pointer;display: block;width: 100%;margin-bottom: 0;padding: 0.3em;box-sizing: border-box;text-align: center;}#sk-container-id-1 label.sk-toggleable__label-arrow:before {content: \"▸\";float: left;margin-right: 0.25em;color: #696969;}#sk-container-id-1 label.sk-toggleable__label-arrow:hover:before {color: black;}#sk-container-id-1 div.sk-estimator:hover label.sk-toggleable__label-arrow:before {color: black;}#sk-container-id-1 div.sk-toggleable__content {max-height: 0;max-width: 0;overflow: hidden;text-align: left;background-color: #f0f8ff;}#sk-container-id-1 div.sk-toggleable__content pre {margin: 0.2em;color: black;border-radius: 0.25em;background-color: #f0f8ff;}#sk-container-id-1 input.sk-toggleable__control:checked~div.sk-toggleable__content {max-height: 200px;max-width: 100%;overflow: auto;}#sk-container-id-1 input.sk-toggleable__control:checked~label.sk-toggleable__label-arrow:before {content: \"▾\";}#sk-container-id-1 div.sk-estimator input.sk-toggleable__control:checked~label.sk-toggleable__label {background-color: #d4ebff;}#sk-container-id-1 div.sk-label input.sk-toggleable__control:checked~label.sk-toggleable__label {background-color: #d4ebff;}#sk-container-id-1 input.sk-hidden--visually {border: 0;clip: rect(1px 1px 1px 1px);clip: rect(1px, 1px, 1px, 1px);height: 1px;margin: -1px;overflow: hidden;padding: 0;position: absolute;width: 1px;}#sk-container-id-1 div.sk-estimator {font-family: monospace;background-color: #f0f8ff;border: 1px dotted black;border-radius: 0.25em;box-sizing: border-box;margin-bottom: 0.5em;}#sk-container-id-1 div.sk-estimator:hover {background-color: #d4ebff;}#sk-container-id-1 div.sk-parallel-item::after {content: \"\";width: 100%;border-bottom: 1px solid gray;flex-grow: 1;}#sk-container-id-1 div.sk-label:hover label.sk-toggleable__label {background-color: #d4ebff;}#sk-container-id-1 div.sk-serial::before {content: \"\";position: absolute;border-left: 1px solid gray;box-sizing: border-box;top: 0;bottom: 0;left: 50%;z-index: 0;}#sk-container-id-1 div.sk-serial {display: flex;flex-direction: column;align-items: center;background-color: white;padding-right: 0.2em;padding-left: 0.2em;position: relative;}#sk-container-id-1 div.sk-item {position: relative;z-index: 1;}#sk-container-id-1 div.sk-parallel {display: flex;align-items: stretch;justify-content: center;background-color: white;position: relative;}#sk-container-id-1 div.sk-item::before, #sk-container-id-1 div.sk-parallel-item::before {content: \"\";position: absolute;border-left: 1px solid gray;box-sizing: border-box;top: 0;bottom: 0;left: 50%;z-index: -1;}#sk-container-id-1 div.sk-parallel-item {display: flex;flex-direction: column;z-index: 1;position: relative;background-color: white;}#sk-container-id-1 div.sk-parallel-item:first-child::after {align-self: flex-end;width: 50%;}#sk-container-id-1 div.sk-parallel-item:last-child::after {align-self: flex-start;width: 50%;}#sk-container-id-1 div.sk-parallel-item:only-child::after {width: 0;}#sk-container-id-1 div.sk-dashed-wrapped {border: 1px dashed gray;margin: 0 0.4em 0.5em 0.4em;box-sizing: border-box;padding-bottom: 0.4em;background-color: white;}#sk-container-id-1 div.sk-label label {font-family: monospace;font-weight: bold;display: inline-block;line-height: 1.2em;}#sk-container-id-1 div.sk-label-container {text-align: center;}#sk-container-id-1 div.sk-container {/* jupyter's `normalize.less` sets `[hidden] { display: none; }` but bootstrap.min.css set `[hidden] { display: none !important; }` so we also need the `!important` here to be able to override the default hidden behavior on the sphinx rendered scikit-learn.org. See: https://github.com/scikit-learn/scikit-learn/issues/21755 */display: inline-block !important;position: relative;}#sk-container-id-1 div.sk-text-repr-fallback {display: none;}</style><div id=\"sk-container-id-1\" class=\"sk-top-container\"><div class=\"sk-text-repr-fallback\"><pre>Pipeline(steps=[(&#x27;scale&#x27;, None), (&#x27;model&#x27;, LogisticRegression(C=0.1))])</pre><b>In a Jupyter environment, please rerun this cell to show the HTML representation or trust the notebook. <br />On GitHub, the HTML representation is unable to render, please try loading this page with nbviewer.org.</b></div><div class=\"sk-container\" hidden><div class=\"sk-item sk-dashed-wrapped\"><div class=\"sk-label-container\"><div class=\"sk-label sk-toggleable\"><input class=\"sk-toggleable__control sk-hidden--visually\" id=\"sk-estimator-id-1\" type=\"checkbox\" ><label for=\"sk-estimator-id-1\" class=\"sk-toggleable__label sk-toggleable__label-arrow\">Pipeline</label><div class=\"sk-toggleable__content\"><pre>Pipeline(steps=[(&#x27;scale&#x27;, None), (&#x27;model&#x27;, LogisticRegression(C=0.1))])</pre></div></div></div><div class=\"sk-serial\"><div class=\"sk-item\"><div class=\"sk-estimator sk-toggleable\"><input class=\"sk-toggleable__control sk-hidden--visually\" id=\"sk-estimator-id-2\" type=\"checkbox\" ><label for=\"sk-estimator-id-2\" class=\"sk-toggleable__label sk-toggleable__label-arrow\">None</label><div class=\"sk-toggleable__content\"><pre>None</pre></div></div></div><div class=\"sk-item\"><div class=\"sk-estimator sk-toggleable\"><input class=\"sk-toggleable__control sk-hidden--visually\" id=\"sk-estimator-id-3\" type=\"checkbox\" ><label for=\"sk-estimator-id-3\" class=\"sk-toggleable__label sk-toggleable__label-arrow\">LogisticRegression</label><div class=\"sk-toggleable__content\"><pre>LogisticRegression(C=0.1)</pre></div></div></div></div></div></div></div>"
      ],
      "text/plain": [
       "Pipeline(steps=[('scale', None), ('model', LogisticRegression(C=0.1))])"
      ]
     },
     "execution_count": 32,
     "metadata": {},
     "output_type": "execute_result"
    }
   ],
   "source": [
    "model.fit(X_train, y_train.values.ravel())"
   ]
  },
  {
   "cell_type": "code",
   "execution_count": 33,
   "id": "af59f8c0",
   "metadata": {
    "execution": {
     "iopub.execute_input": "2025-08-05T14:41:58.475348Z",
     "iopub.status.busy": "2025-08-05T14:41:58.475005Z",
     "iopub.status.idle": "2025-08-05T14:41:58.479067Z",
     "shell.execute_reply": "2025-08-05T14:41:58.478369Z"
    },
    "papermill": {
     "duration": 0.029829,
     "end_time": "2025-08-05T14:41:58.480764",
     "exception": false,
     "start_time": "2025-08-05T14:41:58.450935",
     "status": "completed"
    },
    "tags": []
   },
   "outputs": [],
   "source": [
    "from fairness_multiverse.universe import predict_w_threshold"
   ]
  },
  {
   "cell_type": "code",
   "execution_count": 34,
   "id": "a7cf2e16",
   "metadata": {
    "execution": {
     "iopub.execute_input": "2025-08-05T14:41:58.527860Z",
     "iopub.status.busy": "2025-08-05T14:41:58.527422Z",
     "iopub.status.idle": "2025-08-05T14:41:58.628630Z",
     "shell.execute_reply": "2025-08-05T14:41:58.627671Z"
    },
    "papermill": {
     "duration": 0.127844,
     "end_time": "2025-08-05T14:41:58.630528",
     "exception": false,
     "start_time": "2025-08-05T14:41:58.502684",
     "status": "completed"
    },
    "tags": []
   },
   "outputs": [
    {
     "data": {
      "text/plain": [
       "0.8633485676067328"
      ]
     },
     "execution_count": 34,
     "metadata": {},
     "output_type": "execute_result"
    }
   ],
   "source": [
    "probs_test = model.predict_proba(X_test)\n",
    "\n",
    "'''\n",
    "Below code returns a boolean array (or binary 0/1 array depending on how it’s used) where each element \n",
    "is True if the probability of class 1 is greater than or equal to the threshold, and False otherwise.\n",
    "'''\n",
    "y_pred_default = predict_w_threshold(probs_test, 0.5)\n",
    "\n",
    "from sklearn.metrics import accuracy_score\n",
    "\n",
    "# Naive prediction\n",
    "accuracy_score(y_true = y_true, y_pred = y_pred_default)"
   ]
  },
  {
   "cell_type": "code",
   "execution_count": 35,
   "id": "081964c3",
   "metadata": {
    "execution": {
     "iopub.execute_input": "2025-08-05T14:41:58.671340Z",
     "iopub.status.busy": "2025-08-05T14:41:58.670457Z",
     "iopub.status.idle": "2025-08-05T14:41:58.756033Z",
     "shell.execute_reply": "2025-08-05T14:41:58.755031Z"
    },
    "papermill": {
     "duration": 0.109373,
     "end_time": "2025-08-05T14:41:58.757870",
     "exception": false,
     "start_time": "2025-08-05T14:41:58.648497",
     "status": "completed"
    },
    "tags": []
   },
   "outputs": [
    {
     "data": {
      "text/plain": [
       "array([0, 0, 0, ..., 0, 0, 0])"
      ]
     },
     "execution_count": 35,
     "metadata": {},
     "output_type": "execute_result"
    }
   ],
   "source": [
    "model.predict(X_test)"
   ]
  },
  {
   "cell_type": "markdown",
   "id": "56c9705b",
   "metadata": {
    "papermill": {
     "duration": 0.022031,
     "end_time": "2025-08-05T14:41:58.804387",
     "exception": false,
     "start_time": "2025-08-05T14:41:58.782356",
     "status": "completed"
    },
    "tags": []
   },
   "source": [
    "# Conformal Prediction"
   ]
  },
  {
   "cell_type": "code",
   "execution_count": 36,
   "id": "160ec6ff",
   "metadata": {
    "execution": {
     "iopub.execute_input": "2025-08-05T14:41:58.851531Z",
     "iopub.status.busy": "2025-08-05T14:41:58.850516Z",
     "iopub.status.idle": "2025-08-05T14:41:58.856405Z",
     "shell.execute_reply": "2025-08-05T14:41:58.855371Z"
    },
    "papermill": {
     "duration": 0.032154,
     "end_time": "2025-08-05T14:41:58.858288",
     "exception": false,
     "start_time": "2025-08-05T14:41:58.826134",
     "status": "completed"
    },
    "tags": []
   },
   "outputs": [],
   "source": [
    "# Miscoverage level for conformal prediction (10% allowed error rate => 90% target coverage)\n",
    "alpha = 0.1"
   ]
  },
  {
   "cell_type": "code",
   "execution_count": 37,
   "id": "eadf4555-3dd3-440e-8e35-f82a4ad9f855",
   "metadata": {
    "execution": {
     "iopub.execute_input": "2025-08-05T14:41:58.903160Z",
     "iopub.status.busy": "2025-08-05T14:41:58.902232Z",
     "iopub.status.idle": "2025-08-05T14:41:58.985473Z",
     "shell.execute_reply": "2025-08-05T14:41:58.984503Z"
    },
    "papermill": {
     "duration": 0.10726,
     "end_time": "2025-08-05T14:41:58.987442",
     "exception": false,
     "start_time": "2025-08-05T14:41:58.880182",
     "status": "completed"
    },
    "tags": []
   },
   "outputs": [],
   "source": [
    "probs_calib = model.predict_proba(X_calib)"
   ]
  },
  {
   "cell_type": "code",
   "execution_count": 38,
   "id": "2ed93547-6d5d-4983-9b36-1ecb300da49a",
   "metadata": {
    "execution": {
     "iopub.execute_input": "2025-08-05T14:41:59.030983Z",
     "iopub.status.busy": "2025-08-05T14:41:59.030237Z",
     "iopub.status.idle": "2025-08-05T14:41:59.036188Z",
     "shell.execute_reply": "2025-08-05T14:41:59.035129Z"
    },
    "papermill": {
     "duration": 0.029882,
     "end_time": "2025-08-05T14:41:59.038059",
     "exception": false,
     "start_time": "2025-08-05T14:41:59.008177",
     "status": "completed"
    },
    "tags": []
   },
   "outputs": [],
   "source": [
    "y_calib = y_calib.values.ravel().astype(int)"
   ]
  },
  {
   "cell_type": "code",
   "execution_count": 39,
   "id": "65d1320d-f588-4b38-9072-62af1ae97f7d",
   "metadata": {
    "execution": {
     "iopub.execute_input": "2025-08-05T14:41:59.079978Z",
     "iopub.status.busy": "2025-08-05T14:41:59.079619Z",
     "iopub.status.idle": "2025-08-05T14:41:59.086416Z",
     "shell.execute_reply": "2025-08-05T14:41:59.085415Z"
    },
    "papermill": {
     "duration": 0.0291,
     "end_time": "2025-08-05T14:41:59.088111",
     "exception": false,
     "start_time": "2025-08-05T14:41:59.059011",
     "status": "completed"
    },
    "tags": []
   },
   "outputs": [],
   "source": [
    "from fairness_multiverse.conformal import compute_nc_scores\n",
    "\n",
    "# Compute nonconformity scores on calibration set (1 - probability of true class)\n",
    "nc_scores = compute_nc_scores(probs_calib, y_calib)"
   ]
  },
  {
   "cell_type": "code",
   "execution_count": 40,
   "id": "df3b8ca3-53b7-43d5-9667-7c85da7aeda2",
   "metadata": {
    "execution": {
     "iopub.execute_input": "2025-08-05T14:41:59.131718Z",
     "iopub.status.busy": "2025-08-05T14:41:59.130930Z",
     "iopub.status.idle": "2025-08-05T14:41:59.138252Z",
     "shell.execute_reply": "2025-08-05T14:41:59.137136Z"
    },
    "papermill": {
     "duration": 0.030197,
     "end_time": "2025-08-05T14:41:59.139927",
     "exception": false,
     "start_time": "2025-08-05T14:41:59.109730",
     "status": "completed"
    },
    "tags": []
   },
   "outputs": [],
   "source": [
    "from fairness_multiverse.conformal import find_threshold\n",
    "\n",
    "# Find conformal threshold q_hat for the given alpha (split conformal method)\n",
    "q_hat = find_threshold(nc_scores, alpha)"
   ]
  },
  {
   "cell_type": "code",
   "execution_count": 41,
   "id": "4d29e6c1-0ef6-4aa4-b8fe-4fe79b0d033a",
   "metadata": {
    "execution": {
     "iopub.execute_input": "2025-08-05T14:41:59.184350Z",
     "iopub.status.busy": "2025-08-05T14:41:59.183883Z",
     "iopub.status.idle": "2025-08-05T14:41:59.191619Z",
     "shell.execute_reply": "2025-08-05T14:41:59.190527Z"
    },
    "papermill": {
     "duration": 0.031908,
     "end_time": "2025-08-05T14:41:59.193352",
     "exception": false,
     "start_time": "2025-08-05T14:41:59.161444",
     "status": "completed"
    },
    "tags": []
   },
   "outputs": [
    {
     "data": {
      "text/plain": [
       "0.6687036644351972"
      ]
     },
     "execution_count": 41,
     "metadata": {},
     "output_type": "execute_result"
    }
   ],
   "source": [
    "q_hat"
   ]
  },
  {
   "cell_type": "code",
   "execution_count": 42,
   "id": "92460794-cdac-4be2-ba28-f28c0515a6fb",
   "metadata": {
    "execution": {
     "iopub.execute_input": "2025-08-05T14:41:59.236987Z",
     "iopub.status.busy": "2025-08-05T14:41:59.236173Z",
     "iopub.status.idle": "2025-08-05T14:42:00.080307Z",
     "shell.execute_reply": "2025-08-05T14:42:00.079354Z"
    },
    "papermill": {
     "duration": 0.867994,
     "end_time": "2025-08-05T14:42:00.082233",
     "exception": false,
     "start_time": "2025-08-05T14:41:59.214239",
     "status": "completed"
    },
    "tags": []
   },
   "outputs": [],
   "source": [
    "from fairness_multiverse.conformal import predict_conformal_sets\n",
    "\n",
    "# Generate prediction sets for each test example\n",
    "pred_sets = predict_conformal_sets(model, X_test, q_hat)"
   ]
  },
  {
   "cell_type": "code",
   "execution_count": 43,
   "id": "d90c9a65-e6db-4f5d-80cd-e68fb7e46829",
   "metadata": {
    "execution": {
     "iopub.execute_input": "2025-08-05T14:42:00.123877Z",
     "iopub.status.busy": "2025-08-05T14:42:00.123412Z",
     "iopub.status.idle": "2025-08-05T14:42:00.128988Z",
     "shell.execute_reply": "2025-08-05T14:42:00.127812Z"
    },
    "papermill": {
     "duration": 0.028454,
     "end_time": "2025-08-05T14:42:00.130896",
     "exception": false,
     "start_time": "2025-08-05T14:42:00.102442",
     "status": "completed"
    },
    "tags": []
   },
   "outputs": [],
   "source": [
    "y_true = y_true.squeeze()"
   ]
  },
  {
   "cell_type": "code",
   "execution_count": 44,
   "id": "3a58a54a-1e68-46b9-927a-df01f18aebc8",
   "metadata": {
    "execution": {
     "iopub.execute_input": "2025-08-05T14:42:00.179897Z",
     "iopub.status.busy": "2025-08-05T14:42:00.179087Z",
     "iopub.status.idle": "2025-08-05T14:42:01.107792Z",
     "shell.execute_reply": "2025-08-05T14:42:01.106801Z"
    },
    "papermill": {
     "duration": 0.955053,
     "end_time": "2025-08-05T14:42:01.109759",
     "exception": false,
     "start_time": "2025-08-05T14:42:00.154706",
     "status": "completed"
    },
    "tags": []
   },
   "outputs": [],
   "source": [
    "from fairness_multiverse.conformal import evaluate_sets\n",
    "\n",
    "# Evaluate coverage and average set size on test data\n",
    "metrics = evaluate_sets(pred_sets, y_true)"
   ]
  },
  {
   "cell_type": "markdown",
   "id": "2b569c12-9aaa-4c88-98c9-bbcd0cf3ebb8",
   "metadata": {
    "papermill": {
     "duration": 0.020137,
     "end_time": "2025-08-05T14:42:01.151074",
     "exception": false,
     "start_time": "2025-08-05T14:42:01.130937",
     "status": "completed"
    },
    "tags": []
   },
   "source": [
    "# CP Metrics"
   ]
  },
  {
   "cell_type": "code",
   "execution_count": 45,
   "id": "5ce0a5cb-201f-45a0-ade5-94c7f0bd6095",
   "metadata": {
    "execution": {
     "iopub.execute_input": "2025-08-05T14:42:01.194020Z",
     "iopub.status.busy": "2025-08-05T14:42:01.193149Z",
     "iopub.status.idle": "2025-08-05T14:42:01.200689Z",
     "shell.execute_reply": "2025-08-05T14:42:01.199526Z"
    },
    "papermill": {
     "duration": 0.031377,
     "end_time": "2025-08-05T14:42:01.202570",
     "exception": false,
     "start_time": "2025-08-05T14:42:01.171193",
     "status": "completed"
    },
    "tags": []
   },
   "outputs": [
    {
     "data": {
      "text/plain": [
       "{'coverage': 0.9128302307435069, 'avg_size': 1.2208003567049381}"
      ]
     },
     "execution_count": 45,
     "metadata": {},
     "output_type": "execute_result"
    }
   ],
   "source": [
    "metrics"
   ]
  },
  {
   "cell_type": "code",
   "execution_count": 46,
   "id": "9b9a838d-31c9-430b-ae14-12baee460d17",
   "metadata": {
    "execution": {
     "iopub.execute_input": "2025-08-05T14:42:01.246160Z",
     "iopub.status.busy": "2025-08-05T14:42:01.245166Z",
     "iopub.status.idle": "2025-08-05T14:42:01.251835Z",
     "shell.execute_reply": "2025-08-05T14:42:01.250749Z"
    },
    "papermill": {
     "duration": 0.029516,
     "end_time": "2025-08-05T14:42:01.253707",
     "exception": false,
     "start_time": "2025-08-05T14:42:01.224191",
     "status": "completed"
    },
    "tags": []
   },
   "outputs": [],
   "source": [
    "example_universe = universe.copy()\n",
    "universe_training_year = example_universe.get(\"training_year\")\n",
    "universe_training_size = example_universe.get(\"training_size\")\n",
    "universe_scale = example_universe.get(\"scale\")\n",
    "universe_model = example_universe.get(\"model\")\n",
    "universe_exclude_features = example_universe.get(\"exclude_features\")\n",
    "universe_exclude_subgroups = example_universe.get(\"exclude_subgroups\")"
   ]
  },
  {
   "cell_type": "code",
   "execution_count": 47,
   "id": "f4b6a8ac-9dc0-4245-8a91-5b3b5999c4f9",
   "metadata": {
    "execution": {
     "iopub.execute_input": "2025-08-05T14:42:01.298254Z",
     "iopub.status.busy": "2025-08-05T14:42:01.297490Z",
     "iopub.status.idle": "2025-08-05T14:42:01.304309Z",
     "shell.execute_reply": "2025-08-05T14:42:01.303196Z"
    },
    "papermill": {
     "duration": 0.030485,
     "end_time": "2025-08-05T14:42:01.305987",
     "exception": false,
     "start_time": "2025-08-05T14:42:01.275502",
     "status": "completed"
    },
    "tags": []
   },
   "outputs": [],
   "source": [
    "cp_metrics_dict = {\n",
    "    \"universe_id\": [universe_id],\n",
    "    \"universe_training_year\": [universe_training_year],\n",
    "    \"universe_training_size\": [universe_training_size],\n",
    "    \"universe_scale\": [universe_scale],\n",
    "    \"universe_model\": [universe_model],\n",
    "    \"universe_exclude_features\": [universe_exclude_features],\n",
    "    \"universe_exclude_subgroups\": [universe_exclude_subgroups],\n",
    "    \"q_hat\": [q_hat],\n",
    "    \"coverage\": [metrics[\"coverage\"]],\n",
    "    \"avg_size\": [metrics[\"avg_size\"]],\n",
    "}"
   ]
  },
  {
   "cell_type": "code",
   "execution_count": 48,
   "id": "908acbb1-0371-4915-85ca-3fa520d2efe2",
   "metadata": {
    "execution": {
     "iopub.execute_input": "2025-08-05T14:42:01.350341Z",
     "iopub.status.busy": "2025-08-05T14:42:01.349593Z",
     "iopub.status.idle": "2025-08-05T14:42:01.357668Z",
     "shell.execute_reply": "2025-08-05T14:42:01.356620Z"
    },
    "papermill": {
     "duration": 0.032103,
     "end_time": "2025-08-05T14:42:01.359276",
     "exception": false,
     "start_time": "2025-08-05T14:42:01.327173",
     "status": "completed"
    },
    "tags": []
   },
   "outputs": [
    {
     "data": {
      "text/plain": [
       "{'universe_id': ['17e20773a071e994f84edaa7c75d4d41'],\n",
       " 'universe_training_year': ['2014'],\n",
       " 'universe_training_size': ['25k'],\n",
       " 'universe_scale': ['do-not-scale'],\n",
       " 'universe_model': ['penalized_logreg'],\n",
       " 'universe_exclude_features': ['sex'],\n",
       " 'universe_exclude_subgroups': ['drop-non-german'],\n",
       " 'q_hat': [0.6687036644351972],\n",
       " 'coverage': [0.9128302307435069],\n",
       " 'avg_size': [1.2208003567049381]}"
      ]
     },
     "execution_count": 48,
     "metadata": {},
     "output_type": "execute_result"
    }
   ],
   "source": [
    "cp_metrics_dict"
   ]
  },
  {
   "cell_type": "code",
   "execution_count": 49,
   "id": "33007efc-14e9-4ec6-97ac-56a455c82265",
   "metadata": {
    "execution": {
     "iopub.execute_input": "2025-08-05T14:42:01.404326Z",
     "iopub.status.busy": "2025-08-05T14:42:01.403472Z",
     "iopub.status.idle": "2025-08-05T14:42:01.410611Z",
     "shell.execute_reply": "2025-08-05T14:42:01.409405Z"
    },
    "papermill": {
     "duration": 0.031319,
     "end_time": "2025-08-05T14:42:01.412386",
     "exception": false,
     "start_time": "2025-08-05T14:42:01.381067",
     "status": "completed"
    },
    "tags": []
   },
   "outputs": [],
   "source": [
    "cp_metrics_df = pd.DataFrame(cp_metrics_dict)"
   ]
  },
  {
   "cell_type": "code",
   "execution_count": 50,
   "id": "db12611b-57b2-4910-b9d0-355adfd6e7bf",
   "metadata": {
    "execution": {
     "iopub.execute_input": "2025-08-05T14:42:01.458417Z",
     "iopub.status.busy": "2025-08-05T14:42:01.457644Z",
     "iopub.status.idle": "2025-08-05T14:42:01.475884Z",
     "shell.execute_reply": "2025-08-05T14:42:01.474925Z"
    },
    "papermill": {
     "duration": 0.042787,
     "end_time": "2025-08-05T14:42:01.477505",
     "exception": false,
     "start_time": "2025-08-05T14:42:01.434718",
     "status": "completed"
    },
    "tags": []
   },
   "outputs": [
    {
     "data": {
      "text/html": [
       "<div>\n",
       "<style scoped>\n",
       "    .dataframe tbody tr th:only-of-type {\n",
       "        vertical-align: middle;\n",
       "    }\n",
       "\n",
       "    .dataframe tbody tr th {\n",
       "        vertical-align: top;\n",
       "    }\n",
       "\n",
       "    .dataframe thead th {\n",
       "        text-align: right;\n",
       "    }\n",
       "</style>\n",
       "<table border=\"1\" class=\"dataframe\">\n",
       "  <thead>\n",
       "    <tr style=\"text-align: right;\">\n",
       "      <th></th>\n",
       "      <th>universe_id</th>\n",
       "      <th>universe_training_year</th>\n",
       "      <th>universe_training_size</th>\n",
       "      <th>universe_scale</th>\n",
       "      <th>universe_model</th>\n",
       "      <th>universe_exclude_features</th>\n",
       "      <th>universe_exclude_subgroups</th>\n",
       "      <th>q_hat</th>\n",
       "      <th>coverage</th>\n",
       "      <th>avg_size</th>\n",
       "    </tr>\n",
       "  </thead>\n",
       "  <tbody>\n",
       "    <tr>\n",
       "      <th>0</th>\n",
       "      <td>17e20773a071e994f84edaa7c75d4d41</td>\n",
       "      <td>2014</td>\n",
       "      <td>25k</td>\n",
       "      <td>do-not-scale</td>\n",
       "      <td>penalized_logreg</td>\n",
       "      <td>sex</td>\n",
       "      <td>drop-non-german</td>\n",
       "      <td>0.668704</td>\n",
       "      <td>0.91283</td>\n",
       "      <td>1.2208</td>\n",
       "    </tr>\n",
       "  </tbody>\n",
       "</table>\n",
       "</div>"
      ],
      "text/plain": [
       "                        universe_id universe_training_year  \\\n",
       "0  17e20773a071e994f84edaa7c75d4d41                   2014   \n",
       "\n",
       "  universe_training_size universe_scale    universe_model  \\\n",
       "0                    25k   do-not-scale  penalized_logreg   \n",
       "\n",
       "  universe_exclude_features universe_exclude_subgroups     q_hat  coverage  \\\n",
       "0                       sex            drop-non-german  0.668704   0.91283   \n",
       "\n",
       "   avg_size  \n",
       "0    1.2208  "
      ]
     },
     "execution_count": 50,
     "metadata": {},
     "output_type": "execute_result"
    }
   ],
   "source": [
    "cp_metrics_df"
   ]
  },
  {
   "cell_type": "code",
   "execution_count": 51,
   "id": "b7fbde55-a0a1-47e4-9af6-fe4a17fa8c61",
   "metadata": {
    "execution": {
     "iopub.execute_input": "2025-08-05T14:42:01.522928Z",
     "iopub.status.busy": "2025-08-05T14:42:01.522285Z",
     "iopub.status.idle": "2025-08-05T14:42:01.527782Z",
     "shell.execute_reply": "2025-08-05T14:42:01.526657Z"
    },
    "papermill": {
     "duration": 0.030504,
     "end_time": "2025-08-05T14:42:01.529658",
     "exception": false,
     "start_time": "2025-08-05T14:42:01.499154",
     "status": "completed"
    },
    "tags": []
   },
   "outputs": [],
   "source": [
    "# Conditional Coverage & looking at subgroups"
   ]
  },
  {
   "cell_type": "code",
   "execution_count": 52,
   "id": "027ae886-68dd-4141-96c7-805a5450e1ef",
   "metadata": {
    "execution": {
     "iopub.execute_input": "2025-08-05T14:42:01.575446Z",
     "iopub.status.busy": "2025-08-05T14:42:01.574599Z",
     "iopub.status.idle": "2025-08-05T14:42:01.829906Z",
     "shell.execute_reply": "2025-08-05T14:42:01.828918Z"
    },
    "papermill": {
     "duration": 0.279823,
     "end_time": "2025-08-05T14:42:01.831773",
     "exception": false,
     "start_time": "2025-08-05T14:42:01.551950",
     "status": "completed"
    },
    "tags": []
   },
   "outputs": [],
   "source": [
    "from fairness_multiverse.conformal import build_cp_groups\n",
    "\n",
    "cp_groups_df = build_cp_groups(pred_sets, y_true, X_test.index, org_test)\n",
    "#needs universe_id and setting"
   ]
  },
  {
   "cell_type": "code",
   "execution_count": 53,
   "id": "6cbdab96-b2b2-45af-ad54-d0516db2e28d",
   "metadata": {
    "execution": {
     "iopub.execute_input": "2025-08-05T14:42:01.876502Z",
     "iopub.status.busy": "2025-08-05T14:42:01.875661Z",
     "iopub.status.idle": "2025-08-05T14:42:03.441072Z",
     "shell.execute_reply": "2025-08-05T14:42:03.440064Z"
    },
    "papermill": {
     "duration": 1.589333,
     "end_time": "2025-08-05T14:42:03.443092",
     "exception": false,
     "start_time": "2025-08-05T14:42:01.853759",
     "status": "completed"
    },
    "tags": []
   },
   "outputs": [],
   "source": [
    "# Define covered = 1 if true_label is in the predicted set\n",
    "cp_groups_df['covered'] = cp_groups_df.apply(\n",
    "    lambda r: int(r['true_label'] in r['pred_set']),\n",
    "    axis=1\n",
    ")"
   ]
  },
  {
   "cell_type": "code",
   "execution_count": 54,
   "id": "338ff529-1a6b-4b87-a931-8e4788d52aad",
   "metadata": {
    "execution": {
     "iopub.execute_input": "2025-08-05T14:42:03.491580Z",
     "iopub.status.busy": "2025-08-05T14:42:03.490898Z",
     "iopub.status.idle": "2025-08-05T14:42:03.495918Z",
     "shell.execute_reply": "2025-08-05T14:42:03.495042Z"
    },
    "papermill": {
     "duration": 0.029414,
     "end_time": "2025-08-05T14:42:03.497654",
     "exception": false,
     "start_time": "2025-08-05T14:42:03.468240",
     "status": "completed"
    },
    "tags": []
   },
   "outputs": [],
   "source": [
    "#cp_groups_df"
   ]
  },
  {
   "cell_type": "code",
   "execution_count": 55,
   "id": "90032e27-66df-4540-9169-4e89cfbaa758",
   "metadata": {
    "execution": {
     "iopub.execute_input": "2025-08-05T14:42:03.544330Z",
     "iopub.status.busy": "2025-08-05T14:42:03.543479Z",
     "iopub.status.idle": "2025-08-05T14:42:03.554849Z",
     "shell.execute_reply": "2025-08-05T14:42:03.553894Z"
    },
    "papermill": {
     "duration": 0.036328,
     "end_time": "2025-08-05T14:42:03.556627",
     "exception": false,
     "start_time": "2025-08-05T14:42:03.520299",
     "status": "completed"
    },
    "tags": []
   },
   "outputs": [],
   "source": [
    "subgroups = ['frau1','nongerman','nongerman_male','nongerman_female']\n",
    "\n",
    "# Conditional coverage for subgroup==1\n",
    "cond_coverage = {\n",
    "    g: cp_groups_df.loc[cp_groups_df[g]==1, 'covered'].mean()\n",
    "    for g in subgroups\n",
    "}"
   ]
  },
  {
   "cell_type": "code",
   "execution_count": 56,
   "id": "1e348fb1-b9c3-45bc-ba23-f016827a7e0d",
   "metadata": {
    "execution": {
     "iopub.execute_input": "2025-08-05T14:42:03.602328Z",
     "iopub.status.busy": "2025-08-05T14:42:03.601690Z",
     "iopub.status.idle": "2025-08-05T14:42:03.609059Z",
     "shell.execute_reply": "2025-08-05T14:42:03.607983Z"
    },
    "papermill": {
     "duration": 0.031393,
     "end_time": "2025-08-05T14:42:03.610796",
     "exception": false,
     "start_time": "2025-08-05T14:42:03.579403",
     "status": "completed"
    },
    "tags": []
   },
   "outputs": [
    {
     "data": {
      "text/plain": [
       "{'frau1': 0.9118210001347891,\n",
       " 'nongerman': 0.9389771515185539,\n",
       " 'nongerman_male': 0.9502837071061875,\n",
       " 'nongerman_female': 0.9202682563338301}"
      ]
     },
     "execution_count": 56,
     "metadata": {},
     "output_type": "execute_result"
    }
   ],
   "source": [
    "cond_coverage"
   ]
  },
  {
   "cell_type": "code",
   "execution_count": 57,
   "id": "f5093324-c3dd-4d63-bc4c-8d945e5c8bbb",
   "metadata": {
    "execution": {
     "iopub.execute_input": "2025-08-05T14:42:03.659546Z",
     "iopub.status.busy": "2025-08-05T14:42:03.658601Z",
     "iopub.status.idle": "2025-08-05T14:42:03.666134Z",
     "shell.execute_reply": "2025-08-05T14:42:03.665119Z"
    },
    "papermill": {
     "duration": 0.033723,
     "end_time": "2025-08-05T14:42:03.667902",
     "exception": false,
     "start_time": "2025-08-05T14:42:03.634179",
     "status": "completed"
    },
    "tags": []
   },
   "outputs": [],
   "source": [
    "for subgroup, cov in cond_coverage.items():\n",
    "    cp_metrics_df[f\"cov_{subgroup}\"] = cov"
   ]
  },
  {
   "cell_type": "code",
   "execution_count": 58,
   "id": "6e872e10-dbe5-49e8-b554-5030c98ff75d",
   "metadata": {
    "execution": {
     "iopub.execute_input": "2025-08-05T14:42:03.715487Z",
     "iopub.status.busy": "2025-08-05T14:42:03.714638Z",
     "iopub.status.idle": "2025-08-05T14:42:03.734270Z",
     "shell.execute_reply": "2025-08-05T14:42:03.733111Z"
    },
    "papermill": {
     "duration": 0.044615,
     "end_time": "2025-08-05T14:42:03.735954",
     "exception": false,
     "start_time": "2025-08-05T14:42:03.691339",
     "status": "completed"
    },
    "tags": []
   },
   "outputs": [
    {
     "data": {
      "text/html": [
       "<div>\n",
       "<style scoped>\n",
       "    .dataframe tbody tr th:only-of-type {\n",
       "        vertical-align: middle;\n",
       "    }\n",
       "\n",
       "    .dataframe tbody tr th {\n",
       "        vertical-align: top;\n",
       "    }\n",
       "\n",
       "    .dataframe thead th {\n",
       "        text-align: right;\n",
       "    }\n",
       "</style>\n",
       "<table border=\"1\" class=\"dataframe\">\n",
       "  <thead>\n",
       "    <tr style=\"text-align: right;\">\n",
       "      <th></th>\n",
       "      <th>universe_id</th>\n",
       "      <th>universe_training_year</th>\n",
       "      <th>universe_training_size</th>\n",
       "      <th>universe_scale</th>\n",
       "      <th>universe_model</th>\n",
       "      <th>universe_exclude_features</th>\n",
       "      <th>universe_exclude_subgroups</th>\n",
       "      <th>q_hat</th>\n",
       "      <th>coverage</th>\n",
       "      <th>avg_size</th>\n",
       "      <th>cov_frau1</th>\n",
       "      <th>cov_nongerman</th>\n",
       "      <th>cov_nongerman_male</th>\n",
       "      <th>cov_nongerman_female</th>\n",
       "    </tr>\n",
       "  </thead>\n",
       "  <tbody>\n",
       "    <tr>\n",
       "      <th>0</th>\n",
       "      <td>17e20773a071e994f84edaa7c75d4d41</td>\n",
       "      <td>2014</td>\n",
       "      <td>25k</td>\n",
       "      <td>do-not-scale</td>\n",
       "      <td>penalized_logreg</td>\n",
       "      <td>sex</td>\n",
       "      <td>drop-non-german</td>\n",
       "      <td>0.668704</td>\n",
       "      <td>0.91283</td>\n",
       "      <td>1.2208</td>\n",
       "      <td>0.911821</td>\n",
       "      <td>0.938977</td>\n",
       "      <td>0.950284</td>\n",
       "      <td>0.920268</td>\n",
       "    </tr>\n",
       "  </tbody>\n",
       "</table>\n",
       "</div>"
      ],
      "text/plain": [
       "                        universe_id universe_training_year  \\\n",
       "0  17e20773a071e994f84edaa7c75d4d41                   2014   \n",
       "\n",
       "  universe_training_size universe_scale    universe_model  \\\n",
       "0                    25k   do-not-scale  penalized_logreg   \n",
       "\n",
       "  universe_exclude_features universe_exclude_subgroups     q_hat  coverage  \\\n",
       "0                       sex            drop-non-german  0.668704   0.91283   \n",
       "\n",
       "   avg_size  cov_frau1  cov_nongerman  cov_nongerman_male  \\\n",
       "0    1.2208   0.911821       0.938977            0.950284   \n",
       "\n",
       "   cov_nongerman_female  \n",
       "0              0.920268  "
      ]
     },
     "execution_count": 58,
     "metadata": {},
     "output_type": "execute_result"
    }
   ],
   "source": [
    "cp_metrics_df"
   ]
  },
  {
   "cell_type": "markdown",
   "id": "33774451",
   "metadata": {
    "papermill": {
     "duration": 0.022442,
     "end_time": "2025-08-05T14:42:03.782192",
     "exception": false,
     "start_time": "2025-08-05T14:42:03.759750",
     "status": "completed"
    },
    "tags": []
   },
   "source": [
    "# (Fairness) Metrics"
   ]
  },
  {
   "cell_type": "code",
   "execution_count": 59,
   "id": "debc5d62",
   "metadata": {
    "execution": {
     "iopub.execute_input": "2025-08-05T14:42:03.828979Z",
     "iopub.status.busy": "2025-08-05T14:42:03.828225Z",
     "iopub.status.idle": "2025-08-05T14:42:03.849295Z",
     "shell.execute_reply": "2025-08-05T14:42:03.848386Z"
    },
    "papermill": {
     "duration": 0.047079,
     "end_time": "2025-08-05T14:42:03.851017",
     "exception": false,
     "start_time": "2025-08-05T14:42:03.803938",
     "status": "completed"
    },
    "tags": []
   },
   "outputs": [],
   "source": [
    "# do I need to include maxdeutsch1.missing?\n",
    "\n",
    "import numpy as np\n",
    "\n",
    "colname_to_bin = \"maxdeutsch1\"\n",
    "majority_value = org_train[colname_to_bin].mode()[0]\n",
    "\n",
    "org_test[\"majmin\"] = np.where(org_test[colname_to_bin] == majority_value, \"majority\", \"minority\")"
   ]
  },
  {
   "cell_type": "code",
   "execution_count": 60,
   "id": "06a50de5",
   "metadata": {
    "execution": {
     "iopub.execute_input": "2025-08-05T14:42:03.898071Z",
     "iopub.status.busy": "2025-08-05T14:42:03.897106Z",
     "iopub.status.idle": "2025-08-05T14:42:06.601720Z",
     "shell.execute_reply": "2025-08-05T14:42:06.600449Z"
    },
    "papermill": {
     "duration": 2.729694,
     "end_time": "2025-08-05T14:42:06.604163",
     "exception": false,
     "start_time": "2025-08-05T14:42:03.874469",
     "status": "completed"
    },
    "tags": []
   },
   "outputs": [],
   "source": [
    "example_universe = universe.copy()\n",
    "example_universe[\"cutoff\"] = example_universe[\"cutoff\"][0]\n",
    "example_universe[\"eval_fairness_grouping\"] = example_universe[\"eval_fairness_grouping\"][0]\n",
    "fairness_dict, metric_frame = universe_analysis.compute_metrics(\n",
    "    example_universe,\n",
    "    y_pred_prob=probs_test,\n",
    "    y_test=y_true,\n",
    "    org_test=org_test,\n",
    ")"
   ]
  },
  {
   "cell_type": "markdown",
   "id": "f95d4e02",
   "metadata": {
    "papermill": {
     "duration": 0.032298,
     "end_time": "2025-08-05T14:42:06.672078",
     "exception": false,
     "start_time": "2025-08-05T14:42:06.639780",
     "status": "completed"
    },
    "tags": []
   },
   "source": [
    "# Overall"
   ]
  },
  {
   "cell_type": "markdown",
   "id": "bdee4871",
   "metadata": {
    "papermill": {
     "duration": 0.023283,
     "end_time": "2025-08-05T14:42:06.730559",
     "exception": false,
     "start_time": "2025-08-05T14:42:06.707276",
     "status": "completed"
    },
    "tags": []
   },
   "source": [
    "Fairness\n",
    "Main fairness target: Equalized Odds. Seems to be a better fit than equal opportunity, since we're not only interested in Y = 1. Seems to be a better fit than demographic parity, since we also care about accuracy, not just equal distribution of preds.\n",
    "\n",
    "Pick column for computation of fairness metrics\n",
    "\n",
    "Performance\n",
    "Overall performance measures, most interesting in relation to the measures split by group below"
   ]
  },
  {
   "cell_type": "code",
   "execution_count": 61,
   "id": "c4e067c6",
   "metadata": {
    "execution": {
     "iopub.execute_input": "2025-08-05T14:42:06.776918Z",
     "iopub.status.busy": "2025-08-05T14:42:06.775868Z",
     "iopub.status.idle": "2025-08-05T14:42:06.784871Z",
     "shell.execute_reply": "2025-08-05T14:42:06.783842Z"
    },
    "papermill": {
     "duration": 0.032757,
     "end_time": "2025-08-05T14:42:06.786620",
     "exception": false,
     "start_time": "2025-08-05T14:42:06.753863",
     "status": "completed"
    },
    "tags": []
   },
   "outputs": [
    {
     "data": {
      "text/plain": [
       "accuracy                   0.216910\n",
       "balanced accuracy          0.531939\n",
       "f1                         0.238447\n",
       "precision                  0.136217\n",
       "false positive rate        0.891806\n",
       "false negative rate        0.044317\n",
       "selection rate             0.900000\n",
       "count                  89710.000000\n",
       "dtype: float64"
      ]
     },
     "execution_count": 61,
     "metadata": {},
     "output_type": "execute_result"
    }
   ],
   "source": [
    "metric_frame.overall"
   ]
  },
  {
   "cell_type": "markdown",
   "id": "e968fe9d",
   "metadata": {
    "papermill": {
     "duration": 0.02413,
     "end_time": "2025-08-05T14:42:06.834446",
     "exception": false,
     "start_time": "2025-08-05T14:42:06.810316",
     "status": "completed"
    },
    "tags": []
   },
   "source": [
    "By Group"
   ]
  },
  {
   "cell_type": "code",
   "execution_count": 62,
   "id": "ec325bce",
   "metadata": {
    "execution": {
     "iopub.execute_input": "2025-08-05T14:42:06.883050Z",
     "iopub.status.busy": "2025-08-05T14:42:06.882125Z",
     "iopub.status.idle": "2025-08-05T14:42:06.900582Z",
     "shell.execute_reply": "2025-08-05T14:42:06.899379Z"
    },
    "papermill": {
     "duration": 0.044924,
     "end_time": "2025-08-05T14:42:06.902579",
     "exception": false,
     "start_time": "2025-08-05T14:42:06.857655",
     "status": "completed"
    },
    "tags": []
   },
   "outputs": [
    {
     "data": {
      "text/html": [
       "<div>\n",
       "<style scoped>\n",
       "    .dataframe tbody tr th:only-of-type {\n",
       "        vertical-align: middle;\n",
       "    }\n",
       "\n",
       "    .dataframe tbody tr th {\n",
       "        vertical-align: top;\n",
       "    }\n",
       "\n",
       "    .dataframe thead th {\n",
       "        text-align: right;\n",
       "    }\n",
       "</style>\n",
       "<table border=\"1\" class=\"dataframe\">\n",
       "  <thead>\n",
       "    <tr style=\"text-align: right;\">\n",
       "      <th></th>\n",
       "      <th>accuracy</th>\n",
       "      <th>balanced accuracy</th>\n",
       "      <th>f1</th>\n",
       "      <th>precision</th>\n",
       "      <th>false positive rate</th>\n",
       "      <th>false negative rate</th>\n",
       "      <th>selection rate</th>\n",
       "      <th>count</th>\n",
       "    </tr>\n",
       "    <tr>\n",
       "      <th>majmin</th>\n",
       "      <th></th>\n",
       "      <th></th>\n",
       "      <th></th>\n",
       "      <th></th>\n",
       "      <th></th>\n",
       "      <th></th>\n",
       "      <th></th>\n",
       "      <th></th>\n",
       "    </tr>\n",
       "  </thead>\n",
       "  <tbody>\n",
       "    <tr>\n",
       "      <th>majority</th>\n",
       "      <td>0.239063</td>\n",
       "      <td>0.539435</td>\n",
       "      <td>0.247634</td>\n",
       "      <td>0.142425</td>\n",
       "      <td>0.868832</td>\n",
       "      <td>0.052298</td>\n",
       "      <td>0.879254</td>\n",
       "      <td>69170.0</td>\n",
       "    </tr>\n",
       "    <tr>\n",
       "      <th>minority</th>\n",
       "      <td>0.142308</td>\n",
       "      <td>0.509394</td>\n",
       "      <td>0.209610</td>\n",
       "      <td>0.117263</td>\n",
       "      <td>0.967698</td>\n",
       "      <td>0.013514</td>\n",
       "      <td>0.969864</td>\n",
       "      <td>20540.0</td>\n",
       "    </tr>\n",
       "  </tbody>\n",
       "</table>\n",
       "</div>"
      ],
      "text/plain": [
       "          accuracy  balanced accuracy        f1  precision  \\\n",
       "majmin                                                       \n",
       "majority  0.239063           0.539435  0.247634   0.142425   \n",
       "minority  0.142308           0.509394  0.209610   0.117263   \n",
       "\n",
       "          false positive rate  false negative rate  selection rate    count  \n",
       "majmin                                                                       \n",
       "majority             0.868832             0.052298        0.879254  69170.0  \n",
       "minority             0.967698             0.013514        0.969864  20540.0  "
      ]
     },
     "execution_count": 62,
     "metadata": {},
     "output_type": "execute_result"
    }
   ],
   "source": [
    "metric_frame.by_group"
   ]
  },
  {
   "cell_type": "code",
   "execution_count": 63,
   "id": "a9ddbe63",
   "metadata": {
    "execution": {
     "iopub.execute_input": "2025-08-05T14:42:06.952165Z",
     "iopub.status.busy": "2025-08-05T14:42:06.951245Z",
     "iopub.status.idle": "2025-08-05T14:42:08.782998Z",
     "shell.execute_reply": "2025-08-05T14:42:08.782147Z"
    },
    "papermill": {
     "duration": 1.858589,
     "end_time": "2025-08-05T14:42:08.785093",
     "exception": false,
     "start_time": "2025-08-05T14:42:06.926504",
     "status": "completed"
    },
    "tags": []
   },
   "outputs": [
    {
     "data": {
      "text/plain": [
       "array([[<Axes: title={'center': 'accuracy'}, xlabel='majmin'>,\n",
       "        <Axes: title={'center': 'balanced accuracy'}, xlabel='majmin'>,\n",
       "        <Axes: title={'center': 'f1'}, xlabel='majmin'>],\n",
       "       [<Axes: title={'center': 'precision'}, xlabel='majmin'>,\n",
       "        <Axes: title={'center': 'false positive rate'}, xlabel='majmin'>,\n",
       "        <Axes: title={'center': 'false negative rate'}, xlabel='majmin'>],\n",
       "       [<Axes: title={'center': 'selection rate'}, xlabel='majmin'>,\n",
       "        <Axes: title={'center': 'count'}, xlabel='majmin'>,\n",
       "        <Axes: xlabel='majmin'>]], dtype=object)"
      ]
     },
     "execution_count": 63,
     "metadata": {},
     "output_type": "execute_result"
    },
    {
     "data": {
      "image/png": "[encoded data removed]",
      "text/plain": [
       "<Figure size 1200x800 with 9 Axes>"
      ]
     },
     "metadata": {},
     "output_type": "display_data"
    }
   ],
   "source": [
    "# In a graphic\n",
    "metric_frame.by_group.plot.bar(\n",
    "    subplots=True,\n",
    "    layout=[3, 3],\n",
    "    legend=False,\n",
    "    figsize=[12, 8],\n",
    "    title=\"Show all metrics\",\n",
    ")"
   ]
  },
  {
   "cell_type": "markdown",
   "id": "f57a0bac",
   "metadata": {
    "papermill": {
     "duration": 0.028132,
     "end_time": "2025-08-05T14:42:08.847845",
     "exception": false,
     "start_time": "2025-08-05T14:42:08.819713",
     "status": "completed"
    },
    "tags": []
   },
   "source": [
    "# Final Output"
   ]
  },
  {
   "cell_type": "code",
   "execution_count": 64,
   "id": "96d280a3",
   "metadata": {
    "execution": {
     "iopub.execute_input": "2025-08-05T14:42:08.876199Z",
     "iopub.status.busy": "2025-08-05T14:42:08.875134Z",
     "iopub.status.idle": "2025-08-05T14:42:08.884038Z",
     "shell.execute_reply": "2025-08-05T14:42:08.883026Z"
    },
    "papermill": {
     "duration": 0.025681,
     "end_time": "2025-08-05T14:42:08.886343",
     "exception": false,
     "start_time": "2025-08-05T14:42:08.860662",
     "status": "completed"
    },
    "tags": []
   },
   "outputs": [
    {
     "data": {
      "text/plain": [
       "4"
      ]
     },
     "execution_count": 64,
     "metadata": {},
     "output_type": "execute_result"
    }
   ],
   "source": [
    "sub_universes = universe_analysis.generate_sub_universes()\n",
    "len(sub_universes)"
   ]
  },
  {
   "cell_type": "code",
   "execution_count": 65,
   "id": "92adf7ba",
   "metadata": {
    "execution": {
     "iopub.execute_input": "2025-08-05T14:42:08.953033Z",
     "iopub.status.busy": "2025-08-05T14:42:08.952502Z",
     "iopub.status.idle": "2025-08-05T14:42:08.971282Z",
     "shell.execute_reply": "2025-08-05T14:42:08.970082Z"
    },
    "papermill": {
     "duration": 0.054911,
     "end_time": "2025-08-05T14:42:08.973882",
     "exception": false,
     "start_time": "2025-08-05T14:42:08.918971",
     "status": "completed"
    },
    "tags": []
   },
   "outputs": [],
   "source": [
    "def filter_sub_universe_data(sub_universe, org_test):\n",
    "    # Keep all rows — no filtering\n",
    "    keep_rows_mask = np.ones(org_test.shape[0], dtype=bool)\n",
    "\n",
    "    print(f\"[INFO] Keeping all rows: {keep_rows_mask.sum()} rows retained.\")\n",
    "    return keep_rows_mask"
   ]
  },
  {
   "cell_type": "code",
   "execution_count": 66,
   "id": "4a759155",
   "metadata": {
    "execution": {
     "iopub.execute_input": "2025-08-05T14:42:09.033989Z",
     "iopub.status.busy": "2025-08-05T14:42:09.033531Z",
     "iopub.status.idle": "2025-08-05T14:42:18.740918Z",
     "shell.execute_reply": "2025-08-05T14:42:18.739440Z"
    },
    "papermill": {
     "duration": 9.735711,
     "end_time": "2025-08-05T14:42:18.742592",
     "exception": false,
     "start_time": "2025-08-05T14:42:09.006881",
     "status": "completed"
    },
    "tags": []
   },
   "outputs": [
    {
     "name": "stdout",
     "output_type": "stream",
     "text": [
      "Stopping execution_time clock.\n",
      "[INFO] Keeping all rows: 89710 rows retained.\n"
     ]
    },
    {
     "name": "stdout",
     "output_type": "stream",
     "text": [
      "[INFO] Keeping all rows: 89710 rows retained.\n"
     ]
    },
    {
     "name": "stdout",
     "output_type": "stream",
     "text": [
      "[INFO] Keeping all rows: 89710 rows retained.\n"
     ]
    },
    {
     "name": "stdout",
     "output_type": "stream",
     "text": [
      "[INFO] Keeping all rows: 89710 rows retained.\n"
     ]
    },
    {
     "data": {
      "text/html": [
       "<div>\n",
       "<style scoped>\n",
       "    .dataframe tbody tr th:only-of-type {\n",
       "        vertical-align: middle;\n",
       "    }\n",
       "\n",
       "    .dataframe tbody tr th {\n",
       "        vertical-align: top;\n",
       "    }\n",
       "\n",
       "    .dataframe thead th {\n",
       "        text-align: right;\n",
       "    }\n",
       "</style>\n",
       "<table border=\"1\" class=\"dataframe\">\n",
       "  <thead>\n",
       "    <tr style=\"text-align: right;\">\n",
       "      <th></th>\n",
       "      <th>run_no</th>\n",
       "      <th>universe_id</th>\n",
       "      <th>universe_settings</th>\n",
       "      <th>execution_time</th>\n",
       "      <th>test_size_n</th>\n",
       "      <th>test_size_frac</th>\n",
       "      <th>fair_main_equalized_odds_difference</th>\n",
       "      <th>fair_main_equalized_odds_ratio</th>\n",
       "      <th>fair_main_demographic_parity_difference</th>\n",
       "      <th>fair_main_demographic_parity_ratio</th>\n",
       "      <th>...</th>\n",
       "      <th>perf_grp_precision_0</th>\n",
       "      <th>perf_grp_precision_1</th>\n",
       "      <th>perf_grp_false positive rate_0</th>\n",
       "      <th>perf_grp_false positive rate_1</th>\n",
       "      <th>perf_grp_false negative rate_0</th>\n",
       "      <th>perf_grp_false negative rate_1</th>\n",
       "      <th>perf_grp_selection rate_0</th>\n",
       "      <th>perf_grp_selection rate_1</th>\n",
       "      <th>perf_grp_count_0</th>\n",
       "      <th>perf_grp_count_1</th>\n",
       "    </tr>\n",
       "  </thead>\n",
       "  <tbody>\n",
       "    <tr>\n",
       "      <th>0</th>\n",
       "      <td>15</td>\n",
       "      <td>17e20773a071e994f84edaa7c75d4d41</td>\n",
       "      <td>{\"cutoff\": \"quantile_0.1\", \"eval_fairness_grou...</td>\n",
       "      <td>24.766028</td>\n",
       "      <td>89710</td>\n",
       "      <td>1.0</td>\n",
       "      <td>0.098865</td>\n",
       "      <td>0.897834</td>\n",
       "      <td>0.090610</td>\n",
       "      <td>0.906575</td>\n",
       "      <td>...</td>\n",
       "      <td>NaN</td>\n",
       "      <td>NaN</td>\n",
       "      <td>NaN</td>\n",
       "      <td>NaN</td>\n",
       "      <td>NaN</td>\n",
       "      <td>NaN</td>\n",
       "      <td>NaN</td>\n",
       "      <td>NaN</td>\n",
       "      <td>NaN</td>\n",
       "      <td>NaN</td>\n",
       "    </tr>\n",
       "    <tr>\n",
       "      <th>0</th>\n",
       "      <td>15</td>\n",
       "      <td>17e20773a071e994f84edaa7c75d4d41</td>\n",
       "      <td>{\"cutoff\": \"quantile_0.1\", \"eval_fairness_grou...</td>\n",
       "      <td>24.766028</td>\n",
       "      <td>89710</td>\n",
       "      <td>1.0</td>\n",
       "      <td>0.098865</td>\n",
       "      <td>0.897834</td>\n",
       "      <td>0.090610</td>\n",
       "      <td>0.906575</td>\n",
       "      <td>...</td>\n",
       "      <td>0.117263</td>\n",
       "      <td>0.142425</td>\n",
       "      <td>0.967698</td>\n",
       "      <td>0.868832</td>\n",
       "      <td>0.013514</td>\n",
       "      <td>0.052298</td>\n",
       "      <td>0.969864</td>\n",
       "      <td>0.879254</td>\n",
       "      <td>20540.0</td>\n",
       "      <td>69170.0</td>\n",
       "    </tr>\n",
       "    <tr>\n",
       "      <th>0</th>\n",
       "      <td>15</td>\n",
       "      <td>17e20773a071e994f84edaa7c75d4d41</td>\n",
       "      <td>{\"cutoff\": \"quantile_0.25\", \"eval_fairness_gro...</td>\n",
       "      <td>24.766028</td>\n",
       "      <td>89710</td>\n",
       "      <td>1.0</td>\n",
       "      <td>0.220992</td>\n",
       "      <td>0.754531</td>\n",
       "      <td>0.203263</td>\n",
       "      <td>0.775825</td>\n",
       "      <td>...</td>\n",
       "      <td>NaN</td>\n",
       "      <td>NaN</td>\n",
       "      <td>NaN</td>\n",
       "      <td>NaN</td>\n",
       "      <td>NaN</td>\n",
       "      <td>NaN</td>\n",
       "      <td>NaN</td>\n",
       "      <td>NaN</td>\n",
       "      <td>NaN</td>\n",
       "      <td>NaN</td>\n",
       "    </tr>\n",
       "    <tr>\n",
       "      <th>0</th>\n",
       "      <td>15</td>\n",
       "      <td>17e20773a071e994f84edaa7c75d4d41</td>\n",
       "      <td>{\"cutoff\": \"quantile_0.25\", \"eval_fairness_gro...</td>\n",
       "      <td>24.766028</td>\n",
       "      <td>89710</td>\n",
       "      <td>1.0</td>\n",
       "      <td>0.220992</td>\n",
       "      <td>0.754531</td>\n",
       "      <td>0.203263</td>\n",
       "      <td>0.775825</td>\n",
       "      <td>...</td>\n",
       "      <td>0.121564</td>\n",
       "      <td>0.161947</td>\n",
       "      <td>0.900286</td>\n",
       "      <td>0.679294</td>\n",
       "      <td>0.043919</td>\n",
       "      <td>0.137856</td>\n",
       "      <td>0.906719</td>\n",
       "      <td>0.703455</td>\n",
       "      <td>20540.0</td>\n",
       "      <td>69170.0</td>\n",
       "    </tr>\n",
       "  </tbody>\n",
       "</table>\n",
       "<p>4 rows × 50 columns</p>\n",
       "</div>"
      ],
      "text/plain": [
       "  run_no                       universe_id  \\\n",
       "0     15  17e20773a071e994f84edaa7c75d4d41   \n",
       "0     15  17e20773a071e994f84edaa7c75d4d41   \n",
       "0     15  17e20773a071e994f84edaa7c75d4d41   \n",
       "0     15  17e20773a071e994f84edaa7c75d4d41   \n",
       "\n",
       "                                   universe_settings  execution_time  \\\n",
       "0  {\"cutoff\": \"quantile_0.1\", \"eval_fairness_grou...       24.766028   \n",
       "0  {\"cutoff\": \"quantile_0.1\", \"eval_fairness_grou...       24.766028   \n",
       "0  {\"cutoff\": \"quantile_0.25\", \"eval_fairness_gro...       24.766028   \n",
       "0  {\"cutoff\": \"quantile_0.25\", \"eval_fairness_gro...       24.766028   \n",
       "\n",
       "   test_size_n  test_size_frac  fair_main_equalized_odds_difference  \\\n",
       "0        89710             1.0                             0.098865   \n",
       "0        89710             1.0                             0.098865   \n",
       "0        89710             1.0                             0.220992   \n",
       "0        89710             1.0                             0.220992   \n",
       "\n",
       "   fair_main_equalized_odds_ratio  fair_main_demographic_parity_difference  \\\n",
       "0                        0.897834                                 0.090610   \n",
       "0                        0.897834                                 0.090610   \n",
       "0                        0.754531                                 0.203263   \n",
       "0                        0.754531                                 0.203263   \n",
       "\n",
       "   fair_main_demographic_parity_ratio  ...  perf_grp_precision_0  \\\n",
       "0                            0.906575  ...                   NaN   \n",
       "0                            0.906575  ...              0.117263   \n",
       "0                            0.775825  ...                   NaN   \n",
       "0                            0.775825  ...              0.121564   \n",
       "\n",
       "   perf_grp_precision_1  perf_grp_false positive rate_0  \\\n",
       "0                   NaN                             NaN   \n",
       "0              0.142425                        0.967698   \n",
       "0                   NaN                             NaN   \n",
       "0              0.161947                        0.900286   \n",
       "\n",
       "   perf_grp_false positive rate_1  perf_grp_false negative rate_0  \\\n",
       "0                             NaN                             NaN   \n",
       "0                        0.868832                        0.013514   \n",
       "0                             NaN                             NaN   \n",
       "0                        0.679294                        0.043919   \n",
       "\n",
       "   perf_grp_false negative rate_1  perf_grp_selection rate_0  \\\n",
       "0                             NaN                        NaN   \n",
       "0                        0.052298                   0.969864   \n",
       "0                             NaN                        NaN   \n",
       "0                        0.137856                   0.906719   \n",
       "\n",
       "   perf_grp_selection rate_1  perf_grp_count_0  perf_grp_count_1  \n",
       "0                        NaN               NaN               NaN  \n",
       "0                   0.879254           20540.0           69170.0  \n",
       "0                        NaN               NaN               NaN  \n",
       "0                   0.703455           20540.0           69170.0  \n",
       "\n",
       "[4 rows x 50 columns]"
      ]
     },
     "execution_count": 66,
     "metadata": {},
     "output_type": "execute_result"
    }
   ],
   "source": [
    "final_output = universe_analysis.generate_final_output(\n",
    "    y_pred_prob=probs_test,\n",
    "    y_test=y_true,\n",
    "    org_test=org_test,\n",
    "    filter_data=filter_sub_universe_data,\n",
    "    cp_metrics_df=cp_metrics_df,\n",
    "    save=True,\n",
    ")\n",
    "final_output"
   ]
  }
 ],
 "metadata": {
  "celltoolbar": "Tags",
  "kernelspec": {
   "display_name": "Python (CMA Fairness)",
   "language": "python",
   "name": "cma_fair_env"
  },
  "language_info": {
   "codemirror_mode": {
    "name": "ipython",
    "version": 3
   },
   "file_extension": ".py",
   "mimetype": "text/x-python",
   "name": "python",
   "nbconvert_exporter": "python",
   "pygments_lexer": "ipython3",
   "version": "3.10.12"
  },
  "papermill": {
   "default_parameters": {},
   "duration": 38.156636,
   "end_time": "2025-08-05T14:42:19.377815",
   "environment_variables": {},
   "exception": null,
   "input_path": "universe_analysis.ipynb",
   "output_path": "output/runs/15/notebooks/m_15-17e20773a071e994f84edaa7c75d4d41.ipynb",
   "parameters": {
    "output_dir": "output",
    "run_no": "15",
    "seed": "2023",
    "universe": "{\"cutoff\": [\"quantile_0.1\", \"quantile_0.25\"], \"eval_fairness_grouping\": [\"majority-minority\", \"nationality-all\"], \"exclude_features\": \"sex\", \"exclude_subgroups\": \"drop-non-german\", \"model\": \"penalized_logreg\", \"scale\": \"do-not-scale\", \"training_size\": \"25k\", \"training_year\": \"2014\"}",
    "universe_id": "17e20773a071e994f84edaa7c75d4d41"
   },
   "start_time": "2025-08-05T14:41:41.221179",
   "version": "2.6.0"
  }
 },
 "nbformat": 4,
 "nbformat_minor": 5
}