{
 "cells": [
  {
   "cell_type": "code",
   "execution_count": 1,
   "id": "f159f837-637b-42ba-96b5-ec9a68c44524",
   "metadata": {
    "execution": {
     "iopub.execute_input": "2025-08-05T15:32:12.177464Z",
     "iopub.status.busy": "2025-08-05T15:32:12.176625Z",
     "iopub.status.idle": "2025-08-05T15:32:12.191376Z",
     "shell.execute_reply": "2025-08-05T15:32:12.190392Z"
    },
    "papermill": {
     "duration": 0.051566,
     "end_time": "2025-08-05T15:32:12.193171",
     "exception": false,
     "start_time": "2025-08-05T15:32:12.141605",
     "status": "completed"
    },
    "tags": []
   },
   "outputs": [
    {
     "name": "stdout",
     "output_type": "stream",
     "text": [
      "/dss/dsshome1/0C/ra93lal2/cma/CMA_Fairness_v2\n"
     ]
    },
    {
     "name": "stderr",
     "output_type": "stream",
     "text": [
      "/dss/dsshome1/0C/ra93lal2/.local/share/virtualenvs/CMA_Fairness_v2-3j10GkSs/lib/python3.10/site-packages/IPython/core/magics/osm.py:393: UserWarning: This is now an optional IPython functionality, using bookmarks requires you to install the `pickleshare` library.\n",
      "  bkms = self.shell.db.get('bookmarks', {})\n",
      "/dss/dsshome1/0C/ra93lal2/.local/share/virtualenvs/CMA_Fairness_v2-3j10GkSs/lib/python3.10/site-packages/IPython/core/magics/osm.py:417: UserWarning: This is now an optional IPython functionality, setting dhist requires you to install the `pickleshare` library.\n",
      "  self.shell.db['dhist'] = compress_dhist(dhist)[-100:]\n"
     ]
    }
   ],
   "source": [
    "%cd ~/cma/CMA_Fairness_v2"
   ]
  },
  {
   "cell_type": "markdown",
   "id": "de2603b9",
   "metadata": {
    "papermill": {
     "duration": 0.018742,
     "end_time": "2025-08-05T15:32:12.231847",
     "exception": false,
     "start_time": "2025-08-05T15:32:12.213105",
     "status": "completed"
    },
    "tags": []
   },
   "source": [
    "The following cell holds the definition of our parameters, these values can be overriden by rendering the with e.g. the following command:\n",
    "\n",
    "papermill -p alpha 0.2 -p ratio 0.3 universe_analysis.ipynb output/test_run.ipynb"
   ]
  },
  {
   "cell_type": "code",
   "execution_count": 2,
   "id": "a80968a0-40bb-4fa9-85ef-2d5eefb01975",
   "metadata": {
    "execution": {
     "iopub.execute_input": "2025-08-05T15:32:12.271634Z",
     "iopub.status.busy": "2025-08-05T15:32:12.271300Z",
     "iopub.status.idle": "2025-08-05T15:32:12.276470Z",
     "shell.execute_reply": "2025-08-05T15:32:12.275499Z"
    },
    "papermill": {
     "duration": 0.028153,
     "end_time": "2025-08-05T15:32:12.278459",
     "exception": false,
     "start_time": "2025-08-05T15:32:12.250306",
     "status": "completed"
    },
    "tags": []
   },
   "outputs": [
    {
     "name": "stdout",
     "output_type": "stream",
     "text": [
      "Current working directory: /dss/dsshome1/0C/ra93lal2/cma/CMA_Fairness_v2\n"
     ]
    }
   ],
   "source": [
    "import os\n",
    "print(\"Current working directory:\", os.getcwd())"
   ]
  },
  {
   "cell_type": "code",
   "execution_count": 3,
   "id": "2dce4c03",
   "metadata": {
    "execution": {
     "iopub.execute_input": "2025-08-05T15:32:12.319059Z",
     "iopub.status.busy": "2025-08-05T15:32:12.318557Z",
     "iopub.status.idle": "2025-08-05T15:32:12.324560Z",
     "shell.execute_reply": "2025-08-05T15:32:12.323663Z"
    },
    "papermill": {
     "duration": 0.028669,
     "end_time": "2025-08-05T15:32:12.326495",
     "exception": false,
     "start_time": "2025-08-05T15:32:12.297826",
     "status": "completed"
    },
    "tags": [
     "parameters"
    ]
   },
   "outputs": [],
   "source": [
    "run_no = 0\n",
    "universe_id = \"test\"\n",
    "universe = {\n",
    "    \"training_size\": \"25k\", # \"25k\", \"5k\", \"1k\"\n",
    "    \"training_year\": \"2014\", # \"2014\", \"2012_14\", \"2010_14\"\n",
    "    \"scale\": \"scale\", # \"scale\", \"do-not-scale\",\n",
    "    \"model\": \"elasticnet\", # \"logreg\", \"penalized_logreg\", \"rf\", \"gbm\", \"elasticnet\"\n",
    "    \"cutoff\": [\"quantile_0.15\", \"quantile_0.30\"],\n",
    "    \"exclude_features\": \"age\", # \"none\", \"nationality\", \"sex\", \"nationality-sex\", \"age\"\n",
    "    \"exclude_subgroups\": \"keep-all\", # \"keep-all\", \"drop-non-german\"\n",
    "    \"eval_fairness_grouping\": [\"majority-minority\", \"nationality-all\"]\n",
    "}\n",
    "\n",
    "output_dir=\"./output\"\n",
    "seed=0"
   ]
  },
  {
   "cell_type": "code",
   "execution_count": 4,
   "id": "d1bce638",
   "metadata": {
    "execution": {
     "iopub.execute_input": "2025-08-05T15:32:12.359556Z",
     "iopub.status.busy": "2025-08-05T15:32:12.358926Z",
     "iopub.status.idle": "2025-08-05T15:32:12.364060Z",
     "shell.execute_reply": "2025-08-05T15:32:12.362954Z"
    },
    "papermill": {
     "duration": 0.022788,
     "end_time": "2025-08-05T15:32:12.366055",
     "exception": false,
     "start_time": "2025-08-05T15:32:12.343267",
     "status": "completed"
    },
    "tags": [
     "injected-parameters"
    ]
   },
   "outputs": [],
   "source": [
    "# Parameters\n",
    "universe_id = \"b975536c79bae3652a93f89fdd4a6773\"\n",
    "run_no = \"15\"\n",
    "universe = \"{\\\"cutoff\\\": [\\\"quantile_0.1\\\", \\\"quantile_0.25\\\"], \\\"eval_fairness_grouping\\\": [\\\"majority-minority\\\", \\\"nationality-all\\\"], \\\"exclude_features\\\": \\\"age\\\", \\\"exclude_subgroups\\\": \\\"keep-all\\\", \\\"model\\\": \\\"gbm\\\", \\\"scale\\\": \\\"do-not-scale\\\", \\\"training_size\\\": \\\"5k\\\", \\\"training_year\\\": \\\"2014\\\"}\"\n",
    "output_dir = \"output\"\n",
    "seed = \"2023\"\n"
   ]
  },
  {
   "cell_type": "code",
   "execution_count": 5,
   "id": "1650acaf",
   "metadata": {
    "execution": {
     "iopub.execute_input": "2025-08-05T15:32:12.400931Z",
     "iopub.status.busy": "2025-08-05T15:32:12.400352Z",
     "iopub.status.idle": "2025-08-05T15:32:12.404671Z",
     "shell.execute_reply": "2025-08-05T15:32:12.403783Z"
    },
    "papermill": {
     "duration": 0.022963,
     "end_time": "2025-08-05T15:32:12.406360",
     "exception": false,
     "start_time": "2025-08-05T15:32:12.383397",
     "status": "completed"
    },
    "tags": []
   },
   "outputs": [],
   "source": [
    "import json\n",
    "if isinstance(universe, str):\n",
    "    universe = json.loads(universe)"
   ]
  },
  {
   "cell_type": "code",
   "execution_count": 6,
   "id": "16620c48",
   "metadata": {
    "execution": {
     "iopub.execute_input": "2025-08-05T15:32:12.439832Z",
     "iopub.status.busy": "2025-08-05T15:32:12.439077Z",
     "iopub.status.idle": "2025-08-05T15:32:12.481690Z",
     "shell.execute_reply": "2025-08-05T15:32:12.480951Z"
    },
    "papermill": {
     "duration": 0.061199,
     "end_time": "2025-08-05T15:32:12.483440",
     "exception": false,
     "start_time": "2025-08-05T15:32:12.422241",
     "status": "completed"
    },
    "tags": []
   },
   "outputs": [],
   "source": [
    "# Auto-reload the custom package\n",
    "%load_ext autoreload\n",
    "%autoreload 1\n",
    "%aimport fairness_multiverse"
   ]
  },
  {
   "cell_type": "code",
   "execution_count": 7,
   "id": "01c5c9f3",
   "metadata": {
    "execution": {
     "iopub.execute_input": "2025-08-05T15:32:12.518833Z",
     "iopub.status.busy": "2025-08-05T15:32:12.518095Z",
     "iopub.status.idle": "2025-08-05T15:32:14.295899Z",
     "shell.execute_reply": "2025-08-05T15:32:14.294937Z"
    },
    "papermill": {
     "duration": 1.797278,
     "end_time": "2025-08-05T15:32:14.297662",
     "exception": false,
     "start_time": "2025-08-05T15:32:12.500384",
     "status": "completed"
    },
    "tags": []
   },
   "outputs": [],
   "source": [
    "from fairness_multiverse.universe import UniverseAnalysis\n",
    "\n",
    "universe_analysis = UniverseAnalysis(\n",
    "    run_no = run_no,\n",
    "    universe_id = universe_id,\n",
    "    universe = universe,\n",
    "    output_dir=output_dir,\n",
    ")"
   ]
  },
  {
   "cell_type": "code",
   "execution_count": 8,
   "id": "106241f5",
   "metadata": {
    "execution": {
     "iopub.execute_input": "2025-08-05T15:32:14.335523Z",
     "iopub.status.busy": "2025-08-05T15:32:14.335144Z",
     "iopub.status.idle": "2025-08-05T15:32:14.340901Z",
     "shell.execute_reply": "2025-08-05T15:32:14.339993Z"
    },
    "papermill": {
     "duration": 0.027399,
     "end_time": "2025-08-05T15:32:14.342928",
     "exception": false,
     "start_time": "2025-08-05T15:32:14.315529",
     "status": "completed"
    },
    "tags": []
   },
   "outputs": [
    {
     "name": "stdout",
     "output_type": "stream",
     "text": [
      "Using Seed: 2023\n"
     ]
    }
   ],
   "source": [
    "import numpy as np\n",
    "parsed_seed = int(seed)\n",
    "np.random.seed(parsed_seed)\n",
    "print(f\"Using Seed: {parsed_seed}\")"
   ]
  },
  {
   "cell_type": "markdown",
   "id": "e0ebdc57",
   "metadata": {
    "papermill": {
     "duration": 0.019543,
     "end_time": "2025-08-05T15:32:14.380073",
     "exception": false,
     "start_time": "2025-08-05T15:32:14.360530",
     "status": "completed"
    },
    "tags": []
   },
   "source": [
    "# Loading Data"
   ]
  },
  {
   "cell_type": "code",
   "execution_count": 9,
   "id": "f0496b8a",
   "metadata": {
    "execution": {
     "iopub.execute_input": "2025-08-05T15:32:14.416211Z",
     "iopub.status.busy": "2025-08-05T15:32:14.415826Z",
     "iopub.status.idle": "2025-08-05T15:32:24.019501Z",
     "shell.execute_reply": "2025-08-05T15:32:24.018327Z"
    },
    "papermill": {
     "duration": 9.622255,
     "end_time": "2025-08-05T15:32:24.021202",
     "exception": false,
     "start_time": "2025-08-05T15:32:14.398947",
     "status": "completed"
    },
    "tags": []
   },
   "outputs": [
    {
     "name": "stdout",
     "output_type": "stream",
     "text": [
      "Loading SIAB data from cache: data/siab_cached.csv.gz\n"
     ]
    },
    {
     "name": "stdout",
     "output_type": "stream",
     "text": [
      "(643690, 164)\n"
     ]
    }
   ],
   "source": [
    "from pathlib import Path\n",
    "import pandas as pd\n",
    "\n",
    "# File paths\n",
    "raw_file = Path(\"data/raw/siab.csv\")\n",
    "cache_file = Path(\"data/siab_cached.csv.gz\")\n",
    "\n",
    "# Ensure cache directory exists\n",
    "cache_file.parent.mkdir(parents=True, exist_ok=True)\n",
    "\n",
    "# Load with simple caching\n",
    "if cache_file.exists():\n",
    "    print(f\"Loading SIAB data from cache: {cache_file}\")\n",
    "    siab = pd.read_csv(cache_file, compression='gzip')\n",
    "else:\n",
    "    print(f\"Cache not found. Reading raw SIAB data: {raw_file}\")\n",
    "    siab = pd.read_csv(raw_file)\n",
    "    siab.to_csv(cache_file, index=False, compression='gzip')\n",
    "    print(f\"Cached SIAB data to: {cache_file}\")\n",
    "\n",
    "print(siab.shape)"
   ]
  },
  {
   "cell_type": "code",
   "execution_count": 10,
   "id": "db0ca512-5f53-4dba-abdb-a2888bca41ba",
   "metadata": {
    "execution": {
     "iopub.execute_input": "2025-08-05T15:32:24.060117Z",
     "iopub.status.busy": "2025-08-05T15:32:24.059408Z",
     "iopub.status.idle": "2025-08-05T15:32:24.064878Z",
     "shell.execute_reply": "2025-08-05T15:32:24.063934Z"
    },
    "papermill": {
     "duration": 0.025025,
     "end_time": "2025-08-05T15:32:24.066695",
     "exception": false,
     "start_time": "2025-08-05T15:32:24.041670",
     "status": "completed"
    },
    "tags": []
   },
   "outputs": [],
   "source": [
    "#siab"
   ]
  },
  {
   "cell_type": "markdown",
   "id": "997051c5-15bd-4b69-9786-c3001a3ce484",
   "metadata": {
    "papermill": {
     "duration": 0.016791,
     "end_time": "2025-08-05T15:32:24.100911",
     "exception": false,
     "start_time": "2025-08-05T15:32:24.084120",
     "status": "completed"
    },
    "tags": []
   },
   "source": [
    "# Splitting Data and Setting Training Data Size"
   ]
  },
  {
   "cell_type": "code",
   "execution_count": 11,
   "id": "aea9c6ef-6f46-42c8-85eb-5a62025c1508",
   "metadata": {
    "execution": {
     "iopub.execute_input": "2025-08-05T15:32:24.135514Z",
     "iopub.status.busy": "2025-08-05T15:32:24.135219Z",
     "iopub.status.idle": "2025-08-05T15:32:24.325006Z",
     "shell.execute_reply": "2025-08-05T15:32:24.323683Z"
    },
    "papermill": {
     "duration": 0.209483,
     "end_time": "2025-08-05T15:32:24.327132",
     "exception": false,
     "start_time": "2025-08-05T15:32:24.117649",
     "status": "completed"
    },
    "tags": []
   },
   "outputs": [],
   "source": [
    "from fairness_multiverse.universe import sample_by_year_size\n",
    "\n",
    "siab_train = sample_by_year_size(siab,\n",
    "                               training_year=universe[\"training_year\"],\n",
    "                               training_size=universe[\"training_size\"])"
   ]
  },
  {
   "cell_type": "code",
   "execution_count": 12,
   "id": "8d3afb32-789d-442c-8d5d-9f5aa8dd2eed",
   "metadata": {
    "execution": {
     "iopub.execute_input": "2025-08-05T15:32:24.366533Z",
     "iopub.status.busy": "2025-08-05T15:32:24.365859Z",
     "iopub.status.idle": "2025-08-05T15:32:24.370860Z",
     "shell.execute_reply": "2025-08-05T15:32:24.369881Z"
    },
    "papermill": {
     "duration": 0.02589,
     "end_time": "2025-08-05T15:32:24.372666",
     "exception": false,
     "start_time": "2025-08-05T15:32:24.346776",
     "status": "completed"
    },
    "tags": []
   },
   "outputs": [],
   "source": [
    "#siab_train.shape"
   ]
  },
  {
   "cell_type": "code",
   "execution_count": 13,
   "id": "d582db68-1a4c-47fb-84fc-08518dc1975a",
   "metadata": {
    "execution": {
     "iopub.execute_input": "2025-08-05T15:32:24.409833Z",
     "iopub.status.busy": "2025-08-05T15:32:24.408958Z",
     "iopub.status.idle": "2025-08-05T15:32:24.413772Z",
     "shell.execute_reply": "2025-08-05T15:32:24.412753Z"
    },
    "papermill": {
     "duration": 0.024873,
     "end_time": "2025-08-05T15:32:24.415620",
     "exception": false,
     "start_time": "2025-08-05T15:32:24.390747",
     "status": "completed"
    },
    "tags": []
   },
   "outputs": [],
   "source": [
    "#display(siab_train.groupby(\"year\").size())"
   ]
  },
  {
   "cell_type": "code",
   "execution_count": 14,
   "id": "a561edb4-d032-42cb-8256-22eac1111c64",
   "metadata": {
    "execution": {
     "iopub.execute_input": "2025-08-05T15:32:24.450595Z",
     "iopub.status.busy": "2025-08-05T15:32:24.450045Z",
     "iopub.status.idle": "2025-08-05T15:32:24.668111Z",
     "shell.execute_reply": "2025-08-05T15:32:24.667250Z"
    },
    "papermill": {
     "duration": 0.236896,
     "end_time": "2025-08-05T15:32:24.669875",
     "exception": false,
     "start_time": "2025-08-05T15:32:24.432979",
     "status": "completed"
    },
    "tags": []
   },
   "outputs": [],
   "source": [
    "#siab_train = siab_s[siab_s.year < 2015]\n",
    "siab_calib = siab[siab.year == 2015]\n",
    "siab_test = siab[siab.year == 2016]"
   ]
  },
  {
   "cell_type": "code",
   "execution_count": 15,
   "id": "472de16f-c3db-4916-846b-1f0de9cf1746",
   "metadata": {
    "execution": {
     "iopub.execute_input": "2025-08-05T15:32:24.704428Z",
     "iopub.status.busy": "2025-08-05T15:32:24.703765Z",
     "iopub.status.idle": "2025-08-05T15:32:24.712069Z",
     "shell.execute_reply": "2025-08-05T15:32:24.710941Z"
    },
    "papermill": {
     "duration": 0.027118,
     "end_time": "2025-08-05T15:32:24.713909",
     "exception": false,
     "start_time": "2025-08-05T15:32:24.686791",
     "status": "completed"
    },
    "tags": []
   },
   "outputs": [],
   "source": [
    "X_train = siab_train.iloc[:,4:164]\n",
    "y_train = siab_train.iloc[:, [3]]"
   ]
  },
  {
   "cell_type": "code",
   "execution_count": 16,
   "id": "828c96af-f43a-4ed6-ba47-8ac73a47d56c",
   "metadata": {
    "execution": {
     "iopub.execute_input": "2025-08-05T15:32:24.748635Z",
     "iopub.status.busy": "2025-08-05T15:32:24.747984Z",
     "iopub.status.idle": "2025-08-05T15:32:24.799518Z",
     "shell.execute_reply": "2025-08-05T15:32:24.798415Z"
    },
    "papermill": {
     "duration": 0.070394,
     "end_time": "2025-08-05T15:32:24.801384",
     "exception": false,
     "start_time": "2025-08-05T15:32:24.730990",
     "status": "completed"
    },
    "tags": []
   },
   "outputs": [],
   "source": [
    "X_calib = siab_calib.iloc[:,4:164]\n",
    "y_calib = siab_calib.iloc[:, [3]]"
   ]
  },
  {
   "cell_type": "code",
   "execution_count": 17,
   "id": "c34be9c3-6bd6-476e-acd3-845840e303be",
   "metadata": {
    "execution": {
     "iopub.execute_input": "2025-08-05T15:32:24.838744Z",
     "iopub.status.busy": "2025-08-05T15:32:24.837931Z",
     "iopub.status.idle": "2025-08-05T15:32:24.890919Z",
     "shell.execute_reply": "2025-08-05T15:32:24.889820Z"
    },
    "papermill": {
     "duration": 0.0728,
     "end_time": "2025-08-05T15:32:24.893099",
     "exception": false,
     "start_time": "2025-08-05T15:32:24.820299",
     "status": "completed"
    },
    "tags": []
   },
   "outputs": [],
   "source": [
    "X_test = siab_test.iloc[:,4:164]\n",
    "y_true = siab_test.iloc[:, [3]]"
   ]
  },
  {
   "cell_type": "code",
   "execution_count": 18,
   "id": "e6c733c5",
   "metadata": {
    "execution": {
     "iopub.execute_input": "2025-08-05T15:32:24.929929Z",
     "iopub.status.busy": "2025-08-05T15:32:24.929107Z",
     "iopub.status.idle": "2025-08-05T15:32:25.024636Z",
     "shell.execute_reply": "2025-08-05T15:32:25.023735Z"
    },
    "papermill": {
     "duration": 0.11501,
     "end_time": "2025-08-05T15:32:25.026592",
     "exception": false,
     "start_time": "2025-08-05T15:32:24.911582",
     "status": "completed"
    },
    "tags": []
   },
   "outputs": [],
   "source": [
    "# Auxiliary data needed downstream in the pipeline\n",
    "\n",
    "org_train = X_train.copy()\n",
    "org_test = X_test.copy()\n",
    "org_calib = X_calib.copy()"
   ]
  },
  {
   "cell_type": "markdown",
   "id": "0a4a1b33",
   "metadata": {
    "papermill": {
     "duration": 0.016779,
     "end_time": "2025-08-05T15:32:25.060549",
     "exception": false,
     "start_time": "2025-08-05T15:32:25.043770",
     "status": "completed"
    },
    "tags": []
   },
   "source": [
    "# Preprocessing Data"
   ]
  },
  {
   "cell_type": "code",
   "execution_count": 19,
   "id": "ca879031",
   "metadata": {
    "execution": {
     "iopub.execute_input": "2025-08-05T15:32:25.097164Z",
     "iopub.status.busy": "2025-08-05T15:32:25.096382Z",
     "iopub.status.idle": "2025-08-05T15:32:25.102891Z",
     "shell.execute_reply": "2025-08-05T15:32:25.101883Z"
    },
    "papermill": {
     "duration": 0.027034,
     "end_time": "2025-08-05T15:32:25.104610",
     "exception": false,
     "start_time": "2025-08-05T15:32:25.077576",
     "status": "completed"
    },
    "tags": []
   },
   "outputs": [],
   "source": [
    "# EXCLUDE PROTECTED FEATURES\n",
    "# ----------------------\n",
    "# \"exclude_features\": \"none\", # \"nationality\", \"sex\", \"nationality-sex\"\n",
    "\n",
    "excluded_features = universe[\"exclude_features\"].split(\"-\") # split, e.g.: \"nationality-sex\" -> [\"nationality\", \"sex\"]\n",
    "excluded_features_dictionary = {\n",
    "    \"nationality\": [\"maxdeutsch1\", \"maxdeutsch.Missing.\"],\n",
    "    \"sex\": [\"frau1\"],\n",
    "    \"age\": [\"age\"],\n",
    "}"
   ]
  },
  {
   "cell_type": "code",
   "execution_count": 20,
   "id": "b745ac60",
   "metadata": {
    "execution": {
     "iopub.execute_input": "2025-08-05T15:32:25.141384Z",
     "iopub.status.busy": "2025-08-05T15:32:25.140658Z",
     "iopub.status.idle": "2025-08-05T15:32:25.146578Z",
     "shell.execute_reply": "2025-08-05T15:32:25.145575Z"
    },
    "papermill": {
     "duration": 0.02692,
     "end_time": "2025-08-05T15:32:25.148219",
     "exception": false,
     "start_time": "2025-08-05T15:32:25.121299",
     "status": "completed"
    },
    "tags": []
   },
   "outputs": [],
   "source": [
    "# Code nice names to column names\n",
    "\n",
    "excluded_features_columns = [\n",
    "    excluded_features_dictionary[f] for f in excluded_features if len(f) > 0 and f != \"none\"\n",
    "]"
   ]
  },
  {
   "cell_type": "code",
   "execution_count": 21,
   "id": "f84f73a2",
   "metadata": {
    "execution": {
     "iopub.execute_input": "2025-08-05T15:32:25.184867Z",
     "iopub.status.busy": "2025-08-05T15:32:25.183997Z",
     "iopub.status.idle": "2025-08-05T15:32:25.190657Z",
     "shell.execute_reply": "2025-08-05T15:32:25.189456Z"
    },
    "papermill": {
     "duration": 0.027301,
     "end_time": "2025-08-05T15:32:25.192425",
     "exception": false,
     "start_time": "2025-08-05T15:32:25.165124",
     "status": "completed"
    },
    "tags": []
   },
   "outputs": [],
   "source": [
    "from utils import flatten_once\n",
    "\n",
    "excluded_features_columns = flatten_once(excluded_features_columns)"
   ]
  },
  {
   "cell_type": "code",
   "execution_count": 22,
   "id": "884dea22",
   "metadata": {
    "execution": {
     "iopub.execute_input": "2025-08-05T15:32:25.229907Z",
     "iopub.status.busy": "2025-08-05T15:32:25.228981Z",
     "iopub.status.idle": "2025-08-05T15:32:25.238064Z",
     "shell.execute_reply": "2025-08-05T15:32:25.236898Z"
    },
    "papermill": {
     "duration": 0.028711,
     "end_time": "2025-08-05T15:32:25.239802",
     "exception": false,
     "start_time": "2025-08-05T15:32:25.211091",
     "status": "completed"
    },
    "tags": []
   },
   "outputs": [
    {
     "name": "stdout",
     "output_type": "stream",
     "text": [
      "Dropping features: ['age']\n"
     ]
    }
   ],
   "source": [
    "if len(excluded_features_columns) > 0:\n",
    "    print(f\"Dropping features: {excluded_features_columns}\")\n",
    "    X_train.drop(excluded_features_columns, axis=1, inplace=True)"
   ]
  },
  {
   "cell_type": "code",
   "execution_count": 23,
   "id": "95ab8b16",
   "metadata": {
    "execution": {
     "iopub.execute_input": "2025-08-05T15:32:25.276462Z",
     "iopub.status.busy": "2025-08-05T15:32:25.275715Z",
     "iopub.status.idle": "2025-08-05T15:32:25.330526Z",
     "shell.execute_reply": "2025-08-05T15:32:25.329335Z"
    },
    "papermill": {
     "duration": 0.074502,
     "end_time": "2025-08-05T15:32:25.332473",
     "exception": false,
     "start_time": "2025-08-05T15:32:25.257971",
     "status": "completed"
    },
    "tags": []
   },
   "outputs": [
    {
     "name": "stdout",
     "output_type": "stream",
     "text": [
      "Dropping features: ['age']\n"
     ]
    }
   ],
   "source": [
    "if len(excluded_features_columns) > 0:\n",
    "    print(f\"Dropping features: {excluded_features_columns}\")\n",
    "    X_test.drop(excluded_features_columns, axis=1, inplace=True)"
   ]
  },
  {
   "cell_type": "code",
   "execution_count": 24,
   "id": "1853aaf5-fb9f-46cb-a2b5-8ea4ae2237e4",
   "metadata": {
    "execution": {
     "iopub.execute_input": "2025-08-05T15:32:25.369945Z",
     "iopub.status.busy": "2025-08-05T15:32:25.369200Z",
     "iopub.status.idle": "2025-08-05T15:32:25.421900Z",
     "shell.execute_reply": "2025-08-05T15:32:25.420929Z"
    },
    "papermill": {
     "duration": 0.073199,
     "end_time": "2025-08-05T15:32:25.423476",
     "exception": false,
     "start_time": "2025-08-05T15:32:25.350277",
     "status": "completed"
    },
    "tags": []
   },
   "outputs": [
    {
     "name": "stdout",
     "output_type": "stream",
     "text": [
      "Dropping features: ['age']\n"
     ]
    }
   ],
   "source": [
    "if len(excluded_features_columns) > 0:\n",
    "    print(f\"Dropping features: {excluded_features_columns}\")\n",
    "    X_calib.drop(excluded_features_columns, axis=1, inplace=True)"
   ]
  },
  {
   "cell_type": "code",
   "execution_count": 25,
   "id": "76c4dc6d",
   "metadata": {
    "execution": {
     "iopub.execute_input": "2025-08-05T15:32:25.460402Z",
     "iopub.status.busy": "2025-08-05T15:32:25.459620Z",
     "iopub.status.idle": "2025-08-05T15:32:25.465027Z",
     "shell.execute_reply": "2025-08-05T15:32:25.464046Z"
    },
    "papermill": {
     "duration": 0.025888,
     "end_time": "2025-08-05T15:32:25.466828",
     "exception": false,
     "start_time": "2025-08-05T15:32:25.440940",
     "status": "completed"
    },
    "tags": []
   },
   "outputs": [],
   "source": [
    "# EXCLUDE CERTAIN SUBGROUPS\n",
    "# ----------------------\n",
    "\n",
    "mode = universe.get(\"exclude_subgroups\", \"keep-all\") \n",
    "# Fetches the exclude_subgroups setting from the universe dict.\n",
    "# Defaults to \"keep-all\" if the key is missing."
   ]
  },
  {
   "cell_type": "code",
   "execution_count": 26,
   "id": "21994072",
   "metadata": {
    "execution": {
     "iopub.execute_input": "2025-08-05T15:32:25.503957Z",
     "iopub.status.busy": "2025-08-05T15:32:25.503093Z",
     "iopub.status.idle": "2025-08-05T15:32:25.509506Z",
     "shell.execute_reply": "2025-08-05T15:32:25.508611Z"
    },
    "papermill": {
     "duration": 0.027083,
     "end_time": "2025-08-05T15:32:25.511427",
     "exception": false,
     "start_time": "2025-08-05T15:32:25.484344",
     "status": "completed"
    },
    "tags": []
   },
   "outputs": [],
   "source": [
    "if mode == \"keep-all\":\n",
    "    keep_mask = pd.Series(True, index=org_train.index)\n",
    "\n",
    "# org_train contains the original feature columns from features_org (in Simson)\n",
    "# features_org contains unprocessed features, for me X_train at beginning ???\n",
    "# For keep-all, creates a boolean Series (keep_mask) of all True, so no rows are removed.\n",
    "\n",
    "elif mode == \"drop-non-german\":\n",
    "    keep_mask = org_train[\"maxdeutsch1\"] == 1 # ??? what about missing values?\n",
    "\n",
    "else:\n",
    "    raise ValueError(f\"Unsupported mode for exclude_subgroups: {mode}\")"
   ]
  },
  {
   "cell_type": "code",
   "execution_count": 27,
   "id": "71651440",
   "metadata": {
    "execution": {
     "iopub.execute_input": "2025-08-05T15:32:25.547545Z",
     "iopub.status.busy": "2025-08-05T15:32:25.547075Z",
     "iopub.status.idle": "2025-08-05T15:32:25.553781Z",
     "shell.execute_reply": "2025-08-05T15:32:25.552678Z"
    },
    "papermill": {
     "duration": 0.026405,
     "end_time": "2025-08-05T15:32:25.555463",
     "exception": false,
     "start_time": "2025-08-05T15:32:25.529058",
     "status": "completed"
    },
    "tags": []
   },
   "outputs": [],
   "source": [
    "n_drop = (~keep_mask).sum() # Calculates how many rows are set to be dropped\n",
    "if n_drop > 0:\n",
    "    pct = n_drop / len(keep_mask) * 100\n",
    "    print(f\"Dropping {n_drop} rows ({pct:.2f}%) where mode='{mode}'\")"
   ]
  },
  {
   "cell_type": "code",
   "execution_count": 28,
   "id": "5fb8eee5",
   "metadata": {
    "execution": {
     "iopub.execute_input": "2025-08-05T15:32:25.591914Z",
     "iopub.status.busy": "2025-08-05T15:32:25.591477Z",
     "iopub.status.idle": "2025-08-05T15:32:25.599556Z",
     "shell.execute_reply": "2025-08-05T15:32:25.598381Z"
    },
    "papermill": {
     "duration": 0.028336,
     "end_time": "2025-08-05T15:32:25.601461",
     "exception": false,
     "start_time": "2025-08-05T15:32:25.573125",
     "status": "completed"
    },
    "tags": []
   },
   "outputs": [],
   "source": [
    "X_train = X_train[keep_mask]"
   ]
  },
  {
   "cell_type": "code",
   "execution_count": 29,
   "id": "b202bb3a",
   "metadata": {
    "execution": {
     "iopub.execute_input": "2025-08-05T15:32:25.637883Z",
     "iopub.status.busy": "2025-08-05T15:32:25.637085Z",
     "iopub.status.idle": "2025-08-05T15:32:25.642834Z",
     "shell.execute_reply": "2025-08-05T15:32:25.641789Z"
    },
    "papermill": {
     "duration": 0.035189,
     "end_time": "2025-08-05T15:32:25.654524",
     "exception": false,
     "start_time": "2025-08-05T15:32:25.619335",
     "status": "completed"
    },
    "tags": []
   },
   "outputs": [],
   "source": [
    "y_train = y_train[keep_mask]"
   ]
  },
  {
   "cell_type": "markdown",
   "id": "493e2ac3",
   "metadata": {
    "papermill": {
     "duration": 0.017725,
     "end_time": "2025-08-05T15:32:25.689851",
     "exception": false,
     "start_time": "2025-08-05T15:32:25.672126",
     "status": "completed"
    },
    "tags": []
   },
   "source": [
    "# Model Training"
   ]
  },
  {
   "cell_type": "code",
   "execution_count": 30,
   "id": "679e1268",
   "metadata": {
    "execution": {
     "iopub.execute_input": "2025-08-05T15:32:25.729064Z",
     "iopub.status.busy": "2025-08-05T15:32:25.728638Z",
     "iopub.status.idle": "2025-08-05T15:32:25.833167Z",
     "shell.execute_reply": "2025-08-05T15:32:25.832206Z"
    },
    "papermill": {
     "duration": 0.127182,
     "end_time": "2025-08-05T15:32:25.835006",
     "exception": false,
     "start_time": "2025-08-05T15:32:25.707824",
     "status": "completed"
    },
    "tags": []
   },
   "outputs": [],
   "source": [
    "from sklearn.linear_model import LogisticRegression\n",
    "from sklearn.ensemble import GradientBoostingClassifier, RandomForestClassifier\n",
    "\n",
    "if (universe[\"model\"] == \"logreg\"):\n",
    "    model = LogisticRegression() #penalty=\"none\", solver=\"newton-cg\", max_iter=1) # include random_state=19 ?\n",
    "elif (universe[\"model\"] == \"penalized_logreg\"):\n",
    "    model = LogisticRegression(penalty=\"l2\", C=0.1) #, solver=\"newton-cg\", max_iter=1)\n",
    "elif (universe[\"model\"] == \"rf\"):\n",
    "    model = RandomForestClassifier() # n_estimators=100, n_jobs=-1\n",
    "elif (universe[\"model\"] == \"gbm\"):\n",
    "    model = GradientBoostingClassifier()\n",
    "elif (universe[\"model\"] == \"elasticnet\"):\n",
    "    model = LogisticRegression(penalty = 'elasticnet', solver = 'saga', l1_ratio = 0.5) # max_iter=5000\n",
    "else:\n",
    "    raise \"Unsupported universe.model\""
   ]
  },
  {
   "cell_type": "code",
   "execution_count": 31,
   "id": "0cc8f744",
   "metadata": {
    "execution": {
     "iopub.execute_input": "2025-08-05T15:32:25.874130Z",
     "iopub.status.busy": "2025-08-05T15:32:25.873213Z",
     "iopub.status.idle": "2025-08-05T15:32:25.879783Z",
     "shell.execute_reply": "2025-08-05T15:32:25.878866Z"
    },
    "papermill": {
     "duration": 0.027389,
     "end_time": "2025-08-05T15:32:25.881686",
     "exception": false,
     "start_time": "2025-08-05T15:32:25.854297",
     "status": "completed"
    },
    "tags": []
   },
   "outputs": [],
   "source": [
    "import numpy as np\n",
    "from sklearn.pipeline import Pipeline\n",
    "from sklearn.preprocessing import StandardScaler\n",
    "\n",
    "model = Pipeline([\n",
    "    #(\"continuous_processor\", continuous_processor),\n",
    "    #(\"categorical_preprocessor\", categorical_preprocessor),\n",
    "    (\"scale\", StandardScaler() if universe[\"scale\"] == \"scale\" else None), \n",
    "    (\"model\", model),\n",
    "])"
   ]
  },
  {
   "cell_type": "code",
   "execution_count": 32,
   "id": "9442c04d",
   "metadata": {
    "execution": {
     "iopub.execute_input": "2025-08-05T15:32:25.921954Z",
     "iopub.status.busy": "2025-08-05T15:32:25.920503Z",
     "iopub.status.idle": "2025-08-05T15:32:31.066285Z",
     "shell.execute_reply": "2025-08-05T15:32:31.065522Z"
    },
    "papermill": {
     "duration": 5.166928,
     "end_time": "2025-08-05T15:32:31.067556",
     "exception": false,
     "start_time": "2025-08-05T15:32:25.900628",
     "status": "completed"
    },
    "tags": []
   },
   "outputs": [
    {
     "data": {
      "text/html": [
       "<style>#sk-container-id-1 {color: black;background-color: white;}#sk-container-id-1 pre{padding: 0;}#sk-container-id-1 div.sk-toggleable {background-color: white;}#sk-container-id-1 label.sk-toggleable__label {cursor: pointer;display: block;width: 100%;margin-bottom: 0;padding: 0.3em;box-sizing: border-box;text-align: center;}#sk-container-id-1 label.sk-toggleable__label-arrow:before {content: \"▸\";float: left;margin-right: 0.25em;color: #696969;}#sk-container-id-1 label.sk-toggleable__label-arrow:hover:before {color: black;}#sk-container-id-1 div.sk-estimator:hover label.sk-toggleable__label-arrow:before {color: black;}#sk-container-id-1 div.sk-toggleable__content {max-height: 0;max-width: 0;overflow: hidden;text-align: left;background-color: #f0f8ff;}#sk-container-id-1 div.sk-toggleable__content pre {margin: 0.2em;color: black;border-radius: 0.25em;background-color: #f0f8ff;}#sk-container-id-1 input.sk-toggleable__control:checked~div.sk-toggleable__content {max-height: 200px;max-width: 100%;overflow: auto;}#sk-container-id-1 input.sk-toggleable__control:checked~label.sk-toggleable__label-arrow:before {content: \"▾\";}#sk-container-id-1 div.sk-estimator input.sk-toggleable__control:checked~label.sk-toggleable__label {background-color: #d4ebff;}#sk-container-id-1 div.sk-label input.sk-toggleable__control:checked~label.sk-toggleable__label {background-color: #d4ebff;}#sk-container-id-1 input.sk-hidden--visually {border: 0;clip: rect(1px 1px 1px 1px);clip: rect(1px, 1px, 1px, 1px);height: 1px;margin: -1px;overflow: hidden;padding: 0;position: absolute;width: 1px;}#sk-container-id-1 div.sk-estimator {font-family: monospace;background-color: #f0f8ff;border: 1px dotted black;border-radius: 0.25em;box-sizing: border-box;margin-bottom: 0.5em;}#sk-container-id-1 div.sk-estimator:hover {background-color: #d4ebff;}#sk-container-id-1 div.sk-parallel-item::after {content: \"\";width: 100%;border-bottom: 1px solid gray;flex-grow: 1;}#sk-container-id-1 div.sk-label:hover label.sk-toggleable__label {background-color: #d4ebff;}#sk-container-id-1 div.sk-serial::before {content: \"\";position: absolute;border-left: 1px solid gray;box-sizing: border-box;top: 0;bottom: 0;left: 50%;z-index: 0;}#sk-container-id-1 div.sk-serial {display: flex;flex-direction: column;align-items: center;background-color: white;padding-right: 0.2em;padding-left: 0.2em;position: relative;}#sk-container-id-1 div.sk-item {position: relative;z-index: 1;}#sk-container-id-1 div.sk-parallel {display: flex;align-items: stretch;justify-content: center;background-color: white;position: relative;}#sk-container-id-1 div.sk-item::before, #sk-container-id-1 div.sk-parallel-item::before {content: \"\";position: absolute;border-left: 1px solid gray;box-sizing: border-box;top: 0;bottom: 0;left: 50%;z-index: -1;}#sk-container-id-1 div.sk-parallel-item {display: flex;flex-direction: column;z-index: 1;position: relative;background-color: white;}#sk-container-id-1 div.sk-parallel-item:first-child::after {align-self: flex-end;width: 50%;}#sk-container-id-1 div.sk-parallel-item:last-child::after {align-self: flex-start;width: 50%;}#sk-container-id-1 div.sk-parallel-item:only-child::after {width: 0;}#sk-container-id-1 div.sk-dashed-wrapped {border: 1px dashed gray;margin: 0 0.4em 0.5em 0.4em;box-sizing: border-box;padding-bottom: 0.4em;background-color: white;}#sk-container-id-1 div.sk-label label {font-family: monospace;font-weight: bold;display: inline-block;line-height: 1.2em;}#sk-container-id-1 div.sk-label-container {text-align: center;}#sk-container-id-1 div.sk-container {/* jupyter's `normalize.less` sets `[hidden] { display: none; }` but bootstrap.min.css set `[hidden] { display: none !important; }` so we also need the `!important` here to be able to override the default hidden behavior on the sphinx rendered scikit-learn.org. See: https://github.com/scikit-learn/scikit-learn/issues/21755 */display: inline-block !important;position: relative;}#sk-container-id-1 div.sk-text-repr-fallback {display: none;}</style><div id=\"sk-container-id-1\" class=\"sk-top-container\"><div class=\"sk-text-repr-fallback\"><pre>Pipeline(steps=[(&#x27;scale&#x27;, None), (&#x27;model&#x27;, GradientBoostingClassifier())])</pre><b>In a Jupyter environment, please rerun this cell to show the HTML representation or trust the notebook. <br />On GitHub, the HTML representation is unable to render, please try loading this page with nbviewer.org.</b></div><div class=\"sk-container\" hidden><div class=\"sk-item sk-dashed-wrapped\"><div class=\"sk-label-container\"><div class=\"sk-label sk-toggleable\"><input class=\"sk-toggleable__control sk-hidden--visually\" id=\"sk-estimator-id-1\" type=\"checkbox\" ><label for=\"sk-estimator-id-1\" class=\"sk-toggleable__label sk-toggleable__label-arrow\">Pipeline</label><div class=\"sk-toggleable__content\"><pre>Pipeline(steps=[(&#x27;scale&#x27;, None), (&#x27;model&#x27;, GradientBoostingClassifier())])</pre></div></div></div><div class=\"sk-serial\"><div class=\"sk-item\"><div class=\"sk-estimator sk-toggleable\"><input class=\"sk-toggleable__control sk-hidden--visually\" id=\"sk-estimator-id-2\" type=\"checkbox\" ><label for=\"sk-estimator-id-2\" class=\"sk-toggleable__label sk-toggleable__label-arrow\">None</label><div class=\"sk-toggleable__content\"><pre>None</pre></div></div></div><div class=\"sk-item\"><div class=\"sk-estimator sk-toggleable\"><input class=\"sk-toggleable__control sk-hidden--visually\" id=\"sk-estimator-id-3\" type=\"checkbox\" ><label for=\"sk-estimator-id-3\" class=\"sk-toggleable__label sk-toggleable__label-arrow\">GradientBoostingClassifier</label><div class=\"sk-toggleable__content\"><pre>GradientBoostingClassifier()</pre></div></div></div></div></div></div></div>"
      ],
      "text/plain": [
       "Pipeline(steps=[('scale', None), ('model', GradientBoostingClassifier())])"
      ]
     },
     "execution_count": 32,
     "metadata": {},
     "output_type": "execute_result"
    }
   ],
   "source": [
    "model.fit(X_train, y_train.values.ravel())"
   ]
  },
  {
   "cell_type": "code",
   "execution_count": 33,
   "id": "af59f8c0",
   "metadata": {
    "execution": {
     "iopub.execute_input": "2025-08-05T15:32:31.094503Z",
     "iopub.status.busy": "2025-08-05T15:32:31.094191Z",
     "iopub.status.idle": "2025-08-05T15:32:31.098411Z",
     "shell.execute_reply": "2025-08-05T15:32:31.097555Z"
    },
    "papermill": {
     "duration": 0.018103,
     "end_time": "2025-08-05T15:32:31.099907",
     "exception": false,
     "start_time": "2025-08-05T15:32:31.081804",
     "status": "completed"
    },
    "tags": []
   },
   "outputs": [],
   "source": [
    "from fairness_multiverse.universe import predict_w_threshold"
   ]
  },
  {
   "cell_type": "code",
   "execution_count": 34,
   "id": "a7cf2e16",
   "metadata": {
    "execution": {
     "iopub.execute_input": "2025-08-05T15:32:31.124711Z",
     "iopub.status.busy": "2025-08-05T15:32:31.123411Z",
     "iopub.status.idle": "2025-08-05T15:32:31.673166Z",
     "shell.execute_reply": "2025-08-05T15:32:31.672157Z"
    },
    "papermill": {
     "duration": 0.564456,
     "end_time": "2025-08-05T15:32:31.675049",
     "exception": false,
     "start_time": "2025-08-05T15:32:31.110593",
     "status": "completed"
    },
    "tags": []
   },
   "outputs": [
    {
     "data": {
      "text/plain": [
       "0.8624679522907145"
      ]
     },
     "execution_count": 34,
     "metadata": {},
     "output_type": "execute_result"
    }
   ],
   "source": [
    "probs_test = model.predict_proba(X_test)\n",
    "\n",
    "'''\n",
    "Below code returns a boolean array (or binary 0/1 array depending on how it’s used) where each element \n",
    "is True if the probability of class 1 is greater than or equal to the threshold, and False otherwise.\n",
    "'''\n",
    "y_pred_default = predict_w_threshold(probs_test, 0.5)\n",
    "\n",
    "from sklearn.metrics import accuracy_score\n",
    "\n",
    "# Naive prediction\n",
    "accuracy_score(y_true = y_true, y_pred = y_pred_default)"
   ]
  },
  {
   "cell_type": "code",
   "execution_count": 35,
   "id": "081964c3",
   "metadata": {
    "execution": {
     "iopub.execute_input": "2025-08-05T15:32:31.717729Z",
     "iopub.status.busy": "2025-08-05T15:32:31.716816Z",
     "iopub.status.idle": "2025-08-05T15:32:32.306366Z",
     "shell.execute_reply": "2025-08-05T15:32:32.305366Z"
    },
    "papermill": {
     "duration": 0.611689,
     "end_time": "2025-08-05T15:32:32.308039",
     "exception": false,
     "start_time": "2025-08-05T15:32:31.696350",
     "status": "completed"
    },
    "tags": []
   },
   "outputs": [
    {
     "data": {
      "text/plain": [
       "array([0, 0, 0, ..., 0, 0, 0])"
      ]
     },
     "execution_count": 35,
     "metadata": {},
     "output_type": "execute_result"
    }
   ],
   "source": [
    "model.predict(X_test)"
   ]
  },
  {
   "cell_type": "markdown",
   "id": "56c9705b",
   "metadata": {
    "papermill": {
     "duration": 0.019698,
     "end_time": "2025-08-05T15:32:32.348125",
     "exception": false,
     "start_time": "2025-08-05T15:32:32.328427",
     "status": "completed"
    },
    "tags": []
   },
   "source": [
    "# Conformal Prediction"
   ]
  },
  {
   "cell_type": "code",
   "execution_count": 36,
   "id": "160ec6ff",
   "metadata": {
    "execution": {
     "iopub.execute_input": "2025-08-05T15:32:32.390558Z",
     "iopub.status.busy": "2025-08-05T15:32:32.389612Z",
     "iopub.status.idle": "2025-08-05T15:32:32.395162Z",
     "shell.execute_reply": "2025-08-05T15:32:32.394097Z"
    },
    "papermill": {
     "duration": 0.027792,
     "end_time": "2025-08-05T15:32:32.396933",
     "exception": false,
     "start_time": "2025-08-05T15:32:32.369141",
     "status": "completed"
    },
    "tags": []
   },
   "outputs": [],
   "source": [
    "# Miscoverage level for conformal prediction (10% allowed error rate => 90% target coverage)\n",
    "alpha = 0.1"
   ]
  },
  {
   "cell_type": "code",
   "execution_count": 37,
   "id": "eadf4555-3dd3-440e-8e35-f82a4ad9f855",
   "metadata": {
    "execution": {
     "iopub.execute_input": "2025-08-05T15:32:32.440197Z",
     "iopub.status.busy": "2025-08-05T15:32:32.439431Z",
     "iopub.status.idle": "2025-08-05T15:32:32.990557Z",
     "shell.execute_reply": "2025-08-05T15:32:32.989498Z"
    },
    "papermill": {
     "duration": 0.574117,
     "end_time": "2025-08-05T15:32:32.992441",
     "exception": false,
     "start_time": "2025-08-05T15:32:32.418324",
     "status": "completed"
    },
    "tags": []
   },
   "outputs": [],
   "source": [
    "probs_calib = model.predict_proba(X_calib)"
   ]
  },
  {
   "cell_type": "code",
   "execution_count": 38,
   "id": "2ed93547-6d5d-4983-9b36-1ecb300da49a",
   "metadata": {
    "execution": {
     "iopub.execute_input": "2025-08-05T15:32:33.034770Z",
     "iopub.status.busy": "2025-08-05T15:32:33.034088Z",
     "iopub.status.idle": "2025-08-05T15:32:33.039776Z",
     "shell.execute_reply": "2025-08-05T15:32:33.038769Z"
    },
    "papermill": {
     "duration": 0.028061,
     "end_time": "2025-08-05T15:32:33.041605",
     "exception": false,
     "start_time": "2025-08-05T15:32:33.013544",
     "status": "completed"
    },
    "tags": []
   },
   "outputs": [],
   "source": [
    "y_calib = y_calib.values.ravel().astype(int)"
   ]
  },
  {
   "cell_type": "code",
   "execution_count": 39,
   "id": "65d1320d-f588-4b38-9072-62af1ae97f7d",
   "metadata": {
    "execution": {
     "iopub.execute_input": "2025-08-05T15:32:33.083451Z",
     "iopub.status.busy": "2025-08-05T15:32:33.083017Z",
     "iopub.status.idle": "2025-08-05T15:32:33.090745Z",
     "shell.execute_reply": "2025-08-05T15:32:33.089062Z"
    },
    "papermill": {
     "duration": 0.030513,
     "end_time": "2025-08-05T15:32:33.092658",
     "exception": false,
     "start_time": "2025-08-05T15:32:33.062145",
     "status": "completed"
    },
    "tags": []
   },
   "outputs": [],
   "source": [
    "from fairness_multiverse.conformal import compute_nc_scores\n",
    "\n",
    "# Compute nonconformity scores on calibration set (1 - probability of true class)\n",
    "nc_scores = compute_nc_scores(probs_calib, y_calib)"
   ]
  },
  {
   "cell_type": "code",
   "execution_count": 40,
   "id": "df3b8ca3-53b7-43d5-9667-7c85da7aeda2",
   "metadata": {
    "execution": {
     "iopub.execute_input": "2025-08-05T15:32:33.135326Z",
     "iopub.status.busy": "2025-08-05T15:32:33.134689Z",
     "iopub.status.idle": "2025-08-05T15:32:33.141284Z",
     "shell.execute_reply": "2025-08-05T15:32:33.140214Z"
    },
    "papermill": {
     "duration": 0.030316,
     "end_time": "2025-08-05T15:32:33.143306",
     "exception": false,
     "start_time": "2025-08-05T15:32:33.112990",
     "status": "completed"
    },
    "tags": []
   },
   "outputs": [],
   "source": [
    "from fairness_multiverse.conformal import find_threshold\n",
    "\n",
    "# Find conformal threshold q_hat for the given alpha (split conformal method)\n",
    "q_hat = find_threshold(nc_scores, alpha)"
   ]
  },
  {
   "cell_type": "code",
   "execution_count": 41,
   "id": "4d29e6c1-0ef6-4aa4-b8fe-4fe79b0d033a",
   "metadata": {
    "execution": {
     "iopub.execute_input": "2025-08-05T15:32:33.186542Z",
     "iopub.status.busy": "2025-08-05T15:32:33.185903Z",
     "iopub.status.idle": "2025-08-05T15:32:33.194619Z",
     "shell.execute_reply": "2025-08-05T15:32:33.193268Z"
    },
    "papermill": {
     "duration": 0.032404,
     "end_time": "2025-08-05T15:32:33.196342",
     "exception": false,
     "start_time": "2025-08-05T15:32:33.163938",
     "status": "completed"
    },
    "tags": []
   },
   "outputs": [
    {
     "data": {
      "text/plain": [
       "0.6893593338378461"
      ]
     },
     "execution_count": 41,
     "metadata": {},
     "output_type": "execute_result"
    }
   ],
   "source": [
    "q_hat"
   ]
  },
  {
   "cell_type": "code",
   "execution_count": 42,
   "id": "92460794-cdac-4be2-ba28-f28c0515a6fb",
   "metadata": {
    "execution": {
     "iopub.execute_input": "2025-08-05T15:32:33.239532Z",
     "iopub.status.busy": "2025-08-05T15:32:33.238735Z",
     "iopub.status.idle": "2025-08-05T15:32:34.789199Z",
     "shell.execute_reply": "2025-08-05T15:32:34.788024Z"
    },
    "papermill": {
     "duration": 1.573384,
     "end_time": "2025-08-05T15:32:34.791253",
     "exception": false,
     "start_time": "2025-08-05T15:32:33.217869",
     "status": "completed"
    },
    "tags": []
   },
   "outputs": [],
   "source": [
    "from fairness_multiverse.conformal import predict_conformal_sets\n",
    "\n",
    "# Generate prediction sets for each test example\n",
    "pred_sets = predict_conformal_sets(model, X_test, q_hat)"
   ]
  },
  {
   "cell_type": "code",
   "execution_count": 43,
   "id": "d90c9a65-e6db-4f5d-80cd-e68fb7e46829",
   "metadata": {
    "execution": {
     "iopub.execute_input": "2025-08-05T15:32:34.837441Z",
     "iopub.status.busy": "2025-08-05T15:32:34.836473Z",
     "iopub.status.idle": "2025-08-05T15:32:34.842711Z",
     "shell.execute_reply": "2025-08-05T15:32:34.841552Z"
    },
    "papermill": {
     "duration": 0.030952,
     "end_time": "2025-08-05T15:32:34.845027",
     "exception": false,
     "start_time": "2025-08-05T15:32:34.814075",
     "status": "completed"
    },
    "tags": []
   },
   "outputs": [],
   "source": [
    "y_true = y_true.squeeze()"
   ]
  },
  {
   "cell_type": "code",
   "execution_count": 44,
   "id": "3a58a54a-1e68-46b9-927a-df01f18aebc8",
   "metadata": {
    "execution": {
     "iopub.execute_input": "2025-08-05T15:32:34.904783Z",
     "iopub.status.busy": "2025-08-05T15:32:34.903985Z",
     "iopub.status.idle": "2025-08-05T15:32:35.828792Z",
     "shell.execute_reply": "2025-08-05T15:32:35.827738Z"
    },
    "papermill": {
     "duration": 0.956184,
     "end_time": "2025-08-05T15:32:35.830936",
     "exception": false,
     "start_time": "2025-08-05T15:32:34.874752",
     "status": "completed"
    },
    "tags": []
   },
   "outputs": [],
   "source": [
    "from fairness_multiverse.conformal import evaluate_sets\n",
    "\n",
    "# Evaluate coverage and average set size on test data\n",
    "metrics = evaluate_sets(pred_sets, y_true)"
   ]
  },
  {
   "cell_type": "markdown",
   "id": "2b569c12-9aaa-4c88-98c9-bbcd0cf3ebb8",
   "metadata": {
    "papermill": {
     "duration": 0.021883,
     "end_time": "2025-08-05T15:32:35.876611",
     "exception": false,
     "start_time": "2025-08-05T15:32:35.854728",
     "status": "completed"
    },
    "tags": []
   },
   "source": [
    "# CP Metrics"
   ]
  },
  {
   "cell_type": "code",
   "execution_count": 45,
   "id": "5ce0a5cb-201f-45a0-ade5-94c7f0bd6095",
   "metadata": {
    "execution": {
     "iopub.execute_input": "2025-08-05T15:32:35.925385Z",
     "iopub.status.busy": "2025-08-05T15:32:35.924815Z",
     "iopub.status.idle": "2025-08-05T15:32:35.932380Z",
     "shell.execute_reply": "2025-08-05T15:32:35.931569Z"
    },
    "papermill": {
     "duration": 0.031129,
     "end_time": "2025-08-05T15:32:35.933654",
     "exception": false,
     "start_time": "2025-08-05T15:32:35.902525",
     "status": "completed"
    },
    "tags": []
   },
   "outputs": [
    {
     "data": {
      "text/plain": [
       "{'coverage': 0.9110021179355702, 'avg_size': 1.130108126184372}"
      ]
     },
     "execution_count": 45,
     "metadata": {},
     "output_type": "execute_result"
    }
   ],
   "source": [
    "metrics"
   ]
  },
  {
   "cell_type": "code",
   "execution_count": 46,
   "id": "9b9a838d-31c9-430b-ae14-12baee460d17",
   "metadata": {
    "execution": {
     "iopub.execute_input": "2025-08-05T15:32:35.960806Z",
     "iopub.status.busy": "2025-08-05T15:32:35.960446Z",
     "iopub.status.idle": "2025-08-05T15:32:35.966364Z",
     "shell.execute_reply": "2025-08-05T15:32:35.965567Z"
    },
    "papermill": {
     "duration": 0.020375,
     "end_time": "2025-08-05T15:32:35.967912",
     "exception": false,
     "start_time": "2025-08-05T15:32:35.947537",
     "status": "completed"
    },
    "tags": []
   },
   "outputs": [],
   "source": [
    "example_universe = universe.copy()\n",
    "universe_training_year = example_universe.get(\"training_year\")\n",
    "universe_training_size = example_universe.get(\"training_size\")\n",
    "universe_scale = example_universe.get(\"scale\")\n",
    "universe_model = example_universe.get(\"model\")\n",
    "universe_exclude_features = example_universe.get(\"exclude_features\")\n",
    "universe_exclude_subgroups = example_universe.get(\"exclude_subgroups\")"
   ]
  },
  {
   "cell_type": "code",
   "execution_count": 47,
   "id": "f4b6a8ac-9dc0-4245-8a91-5b3b5999c4f9",
   "metadata": {
    "execution": {
     "iopub.execute_input": "2025-08-05T15:32:35.993032Z",
     "iopub.status.busy": "2025-08-05T15:32:35.992519Z",
     "iopub.status.idle": "2025-08-05T15:32:35.997765Z",
     "shell.execute_reply": "2025-08-05T15:32:35.996913Z"
    },
    "papermill": {
     "duration": 0.019139,
     "end_time": "2025-08-05T15:32:35.999316",
     "exception": false,
     "start_time": "2025-08-05T15:32:35.980177",
     "status": "completed"
    },
    "tags": []
   },
   "outputs": [],
   "source": [
    "cp_metrics_dict = {\n",
    "    \"universe_id\": [universe_id],\n",
    "    \"universe_training_year\": [universe_training_year],\n",
    "    \"universe_training_size\": [universe_training_size],\n",
    "    \"universe_scale\": [universe_scale],\n",
    "    \"universe_model\": [universe_model],\n",
    "    \"universe_exclude_features\": [universe_exclude_features],\n",
    "    \"universe_exclude_subgroups\": [universe_exclude_subgroups],\n",
    "    \"q_hat\": [q_hat],\n",
    "    \"coverage\": [metrics[\"coverage\"]],\n",
    "    \"avg_size\": [metrics[\"avg_size\"]],\n",
    "}"
   ]
  },
  {
   "cell_type": "code",
   "execution_count": 48,
   "id": "908acbb1-0371-4915-85ca-3fa520d2efe2",
   "metadata": {
    "execution": {
     "iopub.execute_input": "2025-08-05T15:32:36.024801Z",
     "iopub.status.busy": "2025-08-05T15:32:36.024292Z",
     "iopub.status.idle": "2025-08-05T15:32:36.031526Z",
     "shell.execute_reply": "2025-08-05T15:32:36.030638Z"
    },
    "papermill": {
     "duration": 0.021182,
     "end_time": "2025-08-05T15:32:36.032949",
     "exception": false,
     "start_time": "2025-08-05T15:32:36.011767",
     "status": "completed"
    },
    "tags": []
   },
   "outputs": [
    {
     "data": {
      "text/plain": [
       "{'universe_id': ['b975536c79bae3652a93f89fdd4a6773'],\n",
       " 'universe_training_year': ['2014'],\n",
       " 'universe_training_size': ['5k'],\n",
       " 'universe_scale': ['do-not-scale'],\n",
       " 'universe_model': ['gbm'],\n",
       " 'universe_exclude_features': ['age'],\n",
       " 'universe_exclude_subgroups': ['keep-all'],\n",
       " 'q_hat': [0.6893593338378461],\n",
       " 'coverage': [0.9110021179355702],\n",
       " 'avg_size': [1.130108126184372]}"
      ]
     },
     "execution_count": 48,
     "metadata": {},
     "output_type": "execute_result"
    }
   ],
   "source": [
    "cp_metrics_dict"
   ]
  },
  {
   "cell_type": "code",
   "execution_count": 49,
   "id": "33007efc-14e9-4ec6-97ac-56a455c82265",
   "metadata": {
    "execution": {
     "iopub.execute_input": "2025-08-05T15:32:36.058414Z",
     "iopub.status.busy": "2025-08-05T15:32:36.057905Z",
     "iopub.status.idle": "2025-08-05T15:32:36.063387Z",
     "shell.execute_reply": "2025-08-05T15:32:36.062650Z"
    },
    "papermill": {
     "duration": 0.01983,
     "end_time": "2025-08-05T15:32:36.064985",
     "exception": false,
     "start_time": "2025-08-05T15:32:36.045155",
     "status": "completed"
    },
    "tags": []
   },
   "outputs": [],
   "source": [
    "cp_metrics_df = pd.DataFrame(cp_metrics_dict)"
   ]
  },
  {
   "cell_type": "code",
   "execution_count": 50,
   "id": "db12611b-57b2-4910-b9d0-355adfd6e7bf",
   "metadata": {
    "execution": {
     "iopub.execute_input": "2025-08-05T15:32:36.090595Z",
     "iopub.status.busy": "2025-08-05T15:32:36.090237Z",
     "iopub.status.idle": "2025-08-05T15:32:36.104418Z",
     "shell.execute_reply": "2025-08-05T15:32:36.103415Z"
    },
    "papermill": {
     "duration": 0.028367,
     "end_time": "2025-08-05T15:32:36.105923",
     "exception": false,
     "start_time": "2025-08-05T15:32:36.077556",
     "status": "completed"
    },
    "tags": []
   },
   "outputs": [
    {
     "data": {
      "text/html": [
       "<div>\n",
       "<style scoped>\n",
       "    .dataframe tbody tr th:only-of-type {\n",
       "        vertical-align: middle;\n",
       "    }\n",
       "\n",
       "    .dataframe tbody tr th {\n",
       "        vertical-align: top;\n",
       "    }\n",
       "\n",
       "    .dataframe thead th {\n",
       "        text-align: right;\n",
       "    }\n",
       "</style>\n",
       "<table border=\"1\" class=\"dataframe\">\n",
       "  <thead>\n",
       "    <tr style=\"text-align: right;\">\n",
       "      <th></th>\n",
       "      <th>universe_id</th>\n",
       "      <th>universe_training_year</th>\n",
       "      <th>universe_training_size</th>\n",
       "      <th>universe_scale</th>\n",
       "      <th>universe_model</th>\n",
       "      <th>universe_exclude_features</th>\n",
       "      <th>universe_exclude_subgroups</th>\n",
       "      <th>q_hat</th>\n",
       "      <th>coverage</th>\n",
       "      <th>avg_size</th>\n",
       "    </tr>\n",
       "  </thead>\n",
       "  <tbody>\n",
       "    <tr>\n",
       "      <th>0</th>\n",
       "      <td>b975536c79bae3652a93f89fdd4a6773</td>\n",
       "      <td>2014</td>\n",
       "      <td>5k</td>\n",
       "      <td>do-not-scale</td>\n",
       "      <td>gbm</td>\n",
       "      <td>age</td>\n",
       "      <td>keep-all</td>\n",
       "      <td>0.689359</td>\n",
       "      <td>0.911002</td>\n",
       "      <td>1.130108</td>\n",
       "    </tr>\n",
       "  </tbody>\n",
       "</table>\n",
       "</div>"
      ],
      "text/plain": [
       "                        universe_id universe_training_year  \\\n",
       "0  b975536c79bae3652a93f89fdd4a6773                   2014   \n",
       "\n",
       "  universe_training_size universe_scale universe_model  \\\n",
       "0                     5k   do-not-scale            gbm   \n",
       "\n",
       "  universe_exclude_features universe_exclude_subgroups     q_hat  coverage  \\\n",
       "0                       age                   keep-all  0.689359  0.911002   \n",
       "\n",
       "   avg_size  \n",
       "0  1.130108  "
      ]
     },
     "execution_count": 50,
     "metadata": {},
     "output_type": "execute_result"
    }
   ],
   "source": [
    "cp_metrics_df"
   ]
  },
  {
   "cell_type": "code",
   "execution_count": 51,
   "id": "b7fbde55-a0a1-47e4-9af6-fe4a17fa8c61",
   "metadata": {
    "execution": {
     "iopub.execute_input": "2025-08-05T15:32:36.131614Z",
     "iopub.status.busy": "2025-08-05T15:32:36.130969Z",
     "iopub.status.idle": "2025-08-05T15:32:36.135418Z",
     "shell.execute_reply": "2025-08-05T15:32:36.134698Z"
    },
    "papermill": {
     "duration": 0.017883,
     "end_time": "2025-08-05T15:32:36.136902",
     "exception": false,
     "start_time": "2025-08-05T15:32:36.119019",
     "status": "completed"
    },
    "tags": []
   },
   "outputs": [],
   "source": [
    "# Conditional Coverage & looking at subgroups"
   ]
  },
  {
   "cell_type": "code",
   "execution_count": 52,
   "id": "027ae886-68dd-4141-96c7-805a5450e1ef",
   "metadata": {
    "execution": {
     "iopub.execute_input": "2025-08-05T15:32:36.167115Z",
     "iopub.status.busy": "2025-08-05T15:32:36.166268Z",
     "iopub.status.idle": "2025-08-05T15:32:36.399227Z",
     "shell.execute_reply": "2025-08-05T15:32:36.398167Z"
    },
    "papermill": {
     "duration": 0.252214,
     "end_time": "2025-08-05T15:32:36.401056",
     "exception": false,
     "start_time": "2025-08-05T15:32:36.148842",
     "status": "completed"
    },
    "tags": []
   },
   "outputs": [],
   "source": [
    "from fairness_multiverse.conformal import build_cp_groups\n",
    "\n",
    "cp_groups_df = build_cp_groups(pred_sets, y_true, X_test.index, org_test)\n",
    "#needs universe_id and setting"
   ]
  },
  {
   "cell_type": "code",
   "execution_count": 53,
   "id": "6cbdab96-b2b2-45af-ad54-d0516db2e28d",
   "metadata": {
    "execution": {
     "iopub.execute_input": "2025-08-05T15:32:36.448713Z",
     "iopub.status.busy": "2025-08-05T15:32:36.448371Z",
     "iopub.status.idle": "2025-08-05T15:32:37.751804Z",
     "shell.execute_reply": "2025-08-05T15:32:37.750823Z"
    },
    "papermill": {
     "duration": 1.33149,
     "end_time": "2025-08-05T15:32:37.753679",
     "exception": false,
     "start_time": "2025-08-05T15:32:36.422189",
     "status": "completed"
    },
    "tags": []
   },
   "outputs": [],
   "source": [
    "# Define covered = 1 if true_label is in the predicted set\n",
    "cp_groups_df['covered'] = cp_groups_df.apply(\n",
    "    lambda r: int(r['true_label'] in r['pred_set']),\n",
    "    axis=1\n",
    ")"
   ]
  },
  {
   "cell_type": "code",
   "execution_count": 54,
   "id": "338ff529-1a6b-4b87-a931-8e4788d52aad",
   "metadata": {
    "execution": {
     "iopub.execute_input": "2025-08-05T15:32:37.801218Z",
     "iopub.status.busy": "2025-08-05T15:32:37.800580Z",
     "iopub.status.idle": "2025-08-05T15:32:37.806824Z",
     "shell.execute_reply": "2025-08-05T15:32:37.805841Z"
    },
    "papermill": {
     "duration": 0.030643,
     "end_time": "2025-08-05T15:32:37.808517",
     "exception": false,
     "start_time": "2025-08-05T15:32:37.777874",
     "status": "completed"
    },
    "tags": []
   },
   "outputs": [],
   "source": [
    "#cp_groups_df"
   ]
  },
  {
   "cell_type": "code",
   "execution_count": 55,
   "id": "90032e27-66df-4540-9169-4e89cfbaa758",
   "metadata": {
    "execution": {
     "iopub.execute_input": "2025-08-05T15:32:37.843930Z",
     "iopub.status.busy": "2025-08-05T15:32:37.843308Z",
     "iopub.status.idle": "2025-08-05T15:32:37.852326Z",
     "shell.execute_reply": "2025-08-05T15:32:37.851546Z"
    },
    "papermill": {
     "duration": 0.022915,
     "end_time": "2025-08-05T15:32:37.853578",
     "exception": false,
     "start_time": "2025-08-05T15:32:37.830663",
     "status": "completed"
    },
    "tags": []
   },
   "outputs": [],
   "source": [
    "subgroups = ['frau1','nongerman','nongerman_male','nongerman_female']\n",
    "\n",
    "# Conditional coverage for subgroup==1\n",
    "cond_coverage = {\n",
    "    g: cp_groups_df.loc[cp_groups_df[g]==1, 'covered'].mean()\n",
    "    for g in subgroups\n",
    "}"
   ]
  },
  {
   "cell_type": "code",
   "execution_count": 56,
   "id": "1e348fb1-b9c3-45bc-ba23-f016827a7e0d",
   "metadata": {
    "execution": {
     "iopub.execute_input": "2025-08-05T15:32:37.882375Z",
     "iopub.status.busy": "2025-08-05T15:32:37.881731Z",
     "iopub.status.idle": "2025-08-05T15:32:37.887980Z",
     "shell.execute_reply": "2025-08-05T15:32:37.887120Z"
    },
    "papermill": {
     "duration": 0.024112,
     "end_time": "2025-08-05T15:32:37.889476",
     "exception": false,
     "start_time": "2025-08-05T15:32:37.865364",
     "status": "completed"
    },
    "tags": []
   },
   "outputs": [
    {
     "data": {
      "text/plain": [
       "{'frau1': 0.908019948780159,\n",
       " 'nongerman': 0.907539437489474,\n",
       " 'nongerman_male': 0.9243447716833288,\n",
       " 'nongerman_female': 0.8797317436661699}"
      ]
     },
     "execution_count": 56,
     "metadata": {},
     "output_type": "execute_result"
    }
   ],
   "source": [
    "cond_coverage"
   ]
  },
  {
   "cell_type": "code",
   "execution_count": 57,
   "id": "f5093324-c3dd-4d63-bc4c-8d945e5c8bbb",
   "metadata": {
    "execution": {
     "iopub.execute_input": "2025-08-05T15:32:37.917492Z",
     "iopub.status.busy": "2025-08-05T15:32:37.916917Z",
     "iopub.status.idle": "2025-08-05T15:32:37.923071Z",
     "shell.execute_reply": "2025-08-05T15:32:37.922375Z"
    },
    "papermill": {
     "duration": 0.022842,
     "end_time": "2025-08-05T15:32:37.924393",
     "exception": false,
     "start_time": "2025-08-05T15:32:37.901551",
     "status": "completed"
    },
    "tags": []
   },
   "outputs": [],
   "source": [
    "for subgroup, cov in cond_coverage.items():\n",
    "    cp_metrics_df[f\"cov_{subgroup}\"] = cov"
   ]
  },
  {
   "cell_type": "code",
   "execution_count": 58,
   "id": "6e872e10-dbe5-49e8-b554-5030c98ff75d",
   "metadata": {
    "execution": {
     "iopub.execute_input": "2025-08-05T15:32:37.950145Z",
     "iopub.status.busy": "2025-08-05T15:32:37.949238Z",
     "iopub.status.idle": "2025-08-05T15:32:37.970552Z",
     "shell.execute_reply": "2025-08-05T15:32:37.969560Z"
    },
    "papermill": {
     "duration": 0.035032,
     "end_time": "2025-08-05T15:32:37.972186",
     "exception": false,
     "start_time": "2025-08-05T15:32:37.937154",
     "status": "completed"
    },
    "tags": []
   },
   "outputs": [
    {
     "data": {
      "text/html": [
       "<div>\n",
       "<style scoped>\n",
       "    .dataframe tbody tr th:only-of-type {\n",
       "        vertical-align: middle;\n",
       "    }\n",
       "\n",
       "    .dataframe tbody tr th {\n",
       "        vertical-align: top;\n",
       "    }\n",
       "\n",
       "    .dataframe thead th {\n",
       "        text-align: right;\n",
       "    }\n",
       "</style>\n",
       "<table border=\"1\" class=\"dataframe\">\n",
       "  <thead>\n",
       "    <tr style=\"text-align: right;\">\n",
       "      <th></th>\n",
       "      <th>universe_id</th>\n",
       "      <th>universe_training_year</th>\n",
       "      <th>universe_training_size</th>\n",
       "      <th>universe_scale</th>\n",
       "      <th>universe_model</th>\n",
       "      <th>universe_exclude_features</th>\n",
       "      <th>universe_exclude_subgroups</th>\n",
       "      <th>q_hat</th>\n",
       "      <th>coverage</th>\n",
       "      <th>avg_size</th>\n",
       "      <th>cov_frau1</th>\n",
       "      <th>cov_nongerman</th>\n",
       "      <th>cov_nongerman_male</th>\n",
       "      <th>cov_nongerman_female</th>\n",
       "    </tr>\n",
       "  </thead>\n",
       "  <tbody>\n",
       "    <tr>\n",
       "      <th>0</th>\n",
       "      <td>b975536c79bae3652a93f89fdd4a6773</td>\n",
       "      <td>2014</td>\n",
       "      <td>5k</td>\n",
       "      <td>do-not-scale</td>\n",
       "      <td>gbm</td>\n",
       "      <td>age</td>\n",
       "      <td>keep-all</td>\n",
       "      <td>0.689359</td>\n",
       "      <td>0.911002</td>\n",
       "      <td>1.130108</td>\n",
       "      <td>0.90802</td>\n",
       "      <td>0.907539</td>\n",
       "      <td>0.924345</td>\n",
       "      <td>0.879732</td>\n",
       "    </tr>\n",
       "  </tbody>\n",
       "</table>\n",
       "</div>"
      ],
      "text/plain": [
       "                        universe_id universe_training_year  \\\n",
       "0  b975536c79bae3652a93f89fdd4a6773                   2014   \n",
       "\n",
       "  universe_training_size universe_scale universe_model  \\\n",
       "0                     5k   do-not-scale            gbm   \n",
       "\n",
       "  universe_exclude_features universe_exclude_subgroups     q_hat  coverage  \\\n",
       "0                       age                   keep-all  0.689359  0.911002   \n",
       "\n",
       "   avg_size  cov_frau1  cov_nongerman  cov_nongerman_male  \\\n",
       "0  1.130108    0.90802       0.907539            0.924345   \n",
       "\n",
       "   cov_nongerman_female  \n",
       "0              0.879732  "
      ]
     },
     "execution_count": 58,
     "metadata": {},
     "output_type": "execute_result"
    }
   ],
   "source": [
    "cp_metrics_df"
   ]
  },
  {
   "cell_type": "markdown",
   "id": "33774451",
   "metadata": {
    "papermill": {
     "duration": 0.022283,
     "end_time": "2025-08-05T15:32:38.018747",
     "exception": false,
     "start_time": "2025-08-05T15:32:37.996464",
     "status": "completed"
    },
    "tags": []
   },
   "source": [
    "# (Fairness) Metrics"
   ]
  },
  {
   "cell_type": "code",
   "execution_count": 59,
   "id": "debc5d62",
   "metadata": {
    "execution": {
     "iopub.execute_input": "2025-08-05T15:32:38.064775Z",
     "iopub.status.busy": "2025-08-05T15:32:38.064294Z",
     "iopub.status.idle": "2025-08-05T15:32:38.085925Z",
     "shell.execute_reply": "2025-08-05T15:32:38.084937Z"
    },
    "papermill": {
     "duration": 0.047314,
     "end_time": "2025-08-05T15:32:38.087791",
     "exception": false,
     "start_time": "2025-08-05T15:32:38.040477",
     "status": "completed"
    },
    "tags": []
   },
   "outputs": [],
   "source": [
    "# do I need to include maxdeutsch1.missing?\n",
    "\n",
    "import numpy as np\n",
    "\n",
    "colname_to_bin = \"maxdeutsch1\"\n",
    "majority_value = org_train[colname_to_bin].mode()[0]\n",
    "\n",
    "org_test[\"majmin\"] = np.where(org_test[colname_to_bin] == majority_value, \"majority\", \"minority\")"
   ]
  },
  {
   "cell_type": "code",
   "execution_count": 60,
   "id": "06a50de5",
   "metadata": {
    "execution": {
     "iopub.execute_input": "2025-08-05T15:32:38.135111Z",
     "iopub.status.busy": "2025-08-05T15:32:38.134382Z",
     "iopub.status.idle": "2025-08-05T15:32:40.661494Z",
     "shell.execute_reply": "2025-08-05T15:32:40.660386Z"
    },
    "papermill": {
     "duration": 2.552803,
     "end_time": "2025-08-05T15:32:40.664046",
     "exception": false,
     "start_time": "2025-08-05T15:32:38.111243",
     "status": "completed"
    },
    "tags": []
   },
   "outputs": [],
   "source": [
    "example_universe = universe.copy()\n",
    "example_universe[\"cutoff\"] = example_universe[\"cutoff\"][0]\n",
    "example_universe[\"eval_fairness_grouping\"] = example_universe[\"eval_fairness_grouping\"][0]\n",
    "fairness_dict, metric_frame = universe_analysis.compute_metrics(\n",
    "    example_universe,\n",
    "    y_pred_prob=probs_test,\n",
    "    y_test=y_true,\n",
    "    org_test=org_test,\n",
    ")"
   ]
  },
  {
   "cell_type": "markdown",
   "id": "f95d4e02",
   "metadata": {
    "papermill": {
     "duration": 0.031951,
     "end_time": "2025-08-05T15:32:40.730219",
     "exception": false,
     "start_time": "2025-08-05T15:32:40.698268",
     "status": "completed"
    },
    "tags": []
   },
   "source": [
    "# Overall"
   ]
  },
  {
   "cell_type": "markdown",
   "id": "bdee4871",
   "metadata": {
    "papermill": {
     "duration": 0.031872,
     "end_time": "2025-08-05T15:32:40.793812",
     "exception": false,
     "start_time": "2025-08-05T15:32:40.761940",
     "status": "completed"
    },
    "tags": []
   },
   "source": [
    "Fairness\n",
    "Main fairness target: Equalized Odds. Seems to be a better fit than equal opportunity, since we're not only interested in Y = 1. Seems to be a better fit than demographic parity, since we also care about accuracy, not just equal distribution of preds.\n",
    "\n",
    "Pick column for computation of fairness metrics\n",
    "\n",
    "Performance\n",
    "Overall performance measures, most interesting in relation to the measures split by group below"
   ]
  },
  {
   "cell_type": "code",
   "execution_count": 61,
   "id": "c4e067c6",
   "metadata": {
    "execution": {
     "iopub.execute_input": "2025-08-05T15:32:40.859437Z",
     "iopub.status.busy": "2025-08-05T15:32:40.858627Z",
     "iopub.status.idle": "2025-08-05T15:32:40.869494Z",
     "shell.execute_reply": "2025-08-05T15:32:40.868105Z"
    },
    "papermill": {
     "duration": 0.04638,
     "end_time": "2025-08-05T15:32:40.871861",
     "exception": false,
     "start_time": "2025-08-05T15:32:40.825481",
     "status": "completed"
    },
    "tags": []
   },
   "outputs": [
    {
     "data": {
      "text/plain": [
       "accuracy                   0.224200\n",
       "balanced accuracy          0.548237\n",
       "f1                         0.245536\n",
       "precision                  0.140267\n",
       "false positive rate        0.887624\n",
       "false negative rate        0.015902\n",
       "selection rate             0.900000\n",
       "count                  89710.000000\n",
       "dtype: float64"
      ]
     },
     "execution_count": 61,
     "metadata": {},
     "output_type": "execute_result"
    }
   ],
   "source": [
    "metric_frame.overall"
   ]
  },
  {
   "cell_type": "markdown",
   "id": "e968fe9d",
   "metadata": {
    "papermill": {
     "duration": 0.02489,
     "end_time": "2025-08-05T15:32:40.929626",
     "exception": false,
     "start_time": "2025-08-05T15:32:40.904736",
     "status": "completed"
    },
    "tags": []
   },
   "source": [
    "By Group"
   ]
  },
  {
   "cell_type": "code",
   "execution_count": 62,
   "id": "ec325bce",
   "metadata": {
    "execution": {
     "iopub.execute_input": "2025-08-05T15:32:40.966801Z",
     "iopub.status.busy": "2025-08-05T15:32:40.966379Z",
     "iopub.status.idle": "2025-08-05T15:32:40.979337Z",
     "shell.execute_reply": "2025-08-05T15:32:40.978334Z"
    },
    "papermill": {
     "duration": 0.030931,
     "end_time": "2025-08-05T15:32:40.980819",
     "exception": false,
     "start_time": "2025-08-05T15:32:40.949888",
     "status": "completed"
    },
    "tags": []
   },
   "outputs": [
    {
     "data": {
      "text/html": [
       "<div>\n",
       "<style scoped>\n",
       "    .dataframe tbody tr th:only-of-type {\n",
       "        vertical-align: middle;\n",
       "    }\n",
       "\n",
       "    .dataframe tbody tr th {\n",
       "        vertical-align: top;\n",
       "    }\n",
       "\n",
       "    .dataframe thead th {\n",
       "        text-align: right;\n",
       "    }\n",
       "</style>\n",
       "<table border=\"1\" class=\"dataframe\">\n",
       "  <thead>\n",
       "    <tr style=\"text-align: right;\">\n",
       "      <th></th>\n",
       "      <th>accuracy</th>\n",
       "      <th>balanced accuracy</th>\n",
       "      <th>f1</th>\n",
       "      <th>precision</th>\n",
       "      <th>false positive rate</th>\n",
       "      <th>false negative rate</th>\n",
       "      <th>selection rate</th>\n",
       "      <th>count</th>\n",
       "    </tr>\n",
       "    <tr>\n",
       "      <th>majmin</th>\n",
       "      <th></th>\n",
       "      <th></th>\n",
       "      <th></th>\n",
       "      <th></th>\n",
       "      <th></th>\n",
       "      <th></th>\n",
       "      <th></th>\n",
       "      <th></th>\n",
       "    </tr>\n",
       "  </thead>\n",
       "  <tbody>\n",
       "    <tr>\n",
       "      <th>majority</th>\n",
       "      <td>0.241897</td>\n",
       "      <td>0.555722</td>\n",
       "      <td>0.255079</td>\n",
       "      <td>0.146570</td>\n",
       "      <td>0.870831</td>\n",
       "      <td>0.017724</td>\n",
       "      <td>0.885557</td>\n",
       "      <td>69170.0</td>\n",
       "    </tr>\n",
       "    <tr>\n",
       "      <th>minority</th>\n",
       "      <td>0.164606</td>\n",
       "      <td>0.524016</td>\n",
       "      <td>0.214799</td>\n",
       "      <td>0.120452</td>\n",
       "      <td>0.943099</td>\n",
       "      <td>0.008868</td>\n",
       "      <td>0.948637</td>\n",
       "      <td>20540.0</td>\n",
       "    </tr>\n",
       "  </tbody>\n",
       "</table>\n",
       "</div>"
      ],
      "text/plain": [
       "          accuracy  balanced accuracy        f1  precision  \\\n",
       "majmin                                                       \n",
       "majority  0.241897           0.555722  0.255079   0.146570   \n",
       "minority  0.164606           0.524016  0.214799   0.120452   \n",
       "\n",
       "          false positive rate  false negative rate  selection rate    count  \n",
       "majmin                                                                       \n",
       "majority             0.870831             0.017724        0.885557  69170.0  \n",
       "minority             0.943099             0.008868        0.948637  20540.0  "
      ]
     },
     "execution_count": 62,
     "metadata": {},
     "output_type": "execute_result"
    }
   ],
   "source": [
    "metric_frame.by_group"
   ]
  },
  {
   "cell_type": "code",
   "execution_count": 63,
   "id": "a9ddbe63",
   "metadata": {
    "execution": {
     "iopub.execute_input": "2025-08-05T15:32:41.019977Z",
     "iopub.status.busy": "2025-08-05T15:32:41.019612Z",
     "iopub.status.idle": "2025-08-05T15:32:43.032968Z",
     "shell.execute_reply": "2025-08-05T15:32:43.032225Z"
    },
    "papermill": {
     "duration": 2.039948,
     "end_time": "2025-08-05T15:32:43.034358",
     "exception": false,
     "start_time": "2025-08-05T15:32:40.994410",
     "status": "completed"
    },
    "tags": []
   },
   "outputs": [
    {
     "data": {
      "text/plain": [
       "array([[<Axes: title={'center': 'accuracy'}, xlabel='majmin'>,\n",
       "        <Axes: title={'center': 'balanced accuracy'}, xlabel='majmin'>,\n",
       "        <Axes: title={'center': 'f1'}, xlabel='majmin'>],\n",
       "       [<Axes: title={'center': 'precision'}, xlabel='majmin'>,\n",
       "        <Axes: title={'center': 'false positive rate'}, xlabel='majmin'>,\n",
       "        <Axes: title={'center': 'false negative rate'}, xlabel='majmin'>],\n",
       "       [<Axes: title={'center': 'selection rate'}, xlabel='majmin'>,\n",
       "        <Axes: title={'center': 'count'}, xlabel='majmin'>,\n",
       "        <Axes: xlabel='majmin'>]], dtype=object)"
      ]
     },
     "execution_count": 63,
     "metadata": {},
     "output_type": "execute_result"
    },
    {
     "data": {
      "image/png": "[encoded data removed]",
      "text/plain": [
       "<Figure size 1200x800 with 9 Axes>"
      ]
     },
     "metadata": {},
     "output_type": "display_data"
    }
   ],
   "source": [
    "# In a graphic\n",
    "metric_frame.by_group.plot.bar(\n",
    "    subplots=True,\n",
    "    layout=[3, 3],\n",
    "    legend=False,\n",
    "    figsize=[12, 8],\n",
    "    title=\"Show all metrics\",\n",
    ")"
   ]
  },
  {
   "cell_type": "markdown",
   "id": "f57a0bac",
   "metadata": {
    "papermill": {
     "duration": 0.013756,
     "end_time": "2025-08-05T15:32:43.062089",
     "exception": false,
     "start_time": "2025-08-05T15:32:43.048333",
     "status": "completed"
    },
    "tags": []
   },
   "source": [
    "# Final Output"
   ]
  },
  {
   "cell_type": "code",
   "execution_count": 64,
   "id": "96d280a3",
   "metadata": {
    "execution": {
     "iopub.execute_input": "2025-08-05T15:32:43.090766Z",
     "iopub.status.busy": "2025-08-05T15:32:43.090296Z",
     "iopub.status.idle": "2025-08-05T15:32:43.097013Z",
     "shell.execute_reply": "2025-08-05T15:32:43.096238Z"
    },
    "papermill": {
     "duration": 0.022801,
     "end_time": "2025-08-05T15:32:43.098514",
     "exception": false,
     "start_time": "2025-08-05T15:32:43.075713",
     "status": "completed"
    },
    "tags": []
   },
   "outputs": [
    {
     "data": {
      "text/plain": [
       "4"
      ]
     },
     "execution_count": 64,
     "metadata": {},
     "output_type": "execute_result"
    }
   ],
   "source": [
    "sub_universes = universe_analysis.generate_sub_universes()\n",
    "len(sub_universes)"
   ]
  },
  {
   "cell_type": "code",
   "execution_count": 65,
   "id": "92adf7ba",
   "metadata": {
    "execution": {
     "iopub.execute_input": "2025-08-05T15:32:43.127383Z",
     "iopub.status.busy": "2025-08-05T15:32:43.126881Z",
     "iopub.status.idle": "2025-08-05T15:32:43.139430Z",
     "shell.execute_reply": "2025-08-05T15:32:43.138631Z"
    },
    "papermill": {
     "duration": 0.028718,
     "end_time": "2025-08-05T15:32:43.140932",
     "exception": false,
     "start_time": "2025-08-05T15:32:43.112214",
     "status": "completed"
    },
    "tags": []
   },
   "outputs": [],
   "source": [
    "def filter_sub_universe_data(sub_universe, org_test):\n",
    "    # Keep all rows — no filtering\n",
    "    keep_rows_mask = np.ones(org_test.shape[0], dtype=bool)\n",
    "\n",
    "    print(f\"[INFO] Keeping all rows: {keep_rows_mask.sum()} rows retained.\")\n",
    "    return keep_rows_mask"
   ]
  },
  {
   "cell_type": "code",
   "execution_count": 66,
   "id": "4a759155",
   "metadata": {
    "execution": {
     "iopub.execute_input": "2025-08-05T15:32:43.171528Z",
     "iopub.status.busy": "2025-08-05T15:32:43.170803Z",
     "iopub.status.idle": "2025-08-05T15:32:51.137837Z",
     "shell.execute_reply": "2025-08-05T15:32:51.136635Z"
    },
    "papermill": {
     "duration": 7.98384,
     "end_time": "2025-08-05T15:32:51.139648",
     "exception": false,
     "start_time": "2025-08-05T15:32:43.155808",
     "status": "completed"
    },
    "tags": []
   },
   "outputs": [
    {
     "name": "stdout",
     "output_type": "stream",
     "text": [
      "Stopping execution_time clock.\n",
      "[INFO] Keeping all rows: 89710 rows retained.\n"
     ]
    },
    {
     "name": "stdout",
     "output_type": "stream",
     "text": [
      "[INFO] Keeping all rows: 89710 rows retained.\n"
     ]
    },
    {
     "name": "stdout",
     "output_type": "stream",
     "text": [
      "[INFO] Keeping all rows: 89710 rows retained.\n"
     ]
    },
    {
     "name": "stdout",
     "output_type": "stream",
     "text": [
      "[INFO] Keeping all rows: 89710 rows retained.\n"
     ]
    },
    {
     "data": {
      "text/html": [
       "<div>\n",
       "<style scoped>\n",
       "    .dataframe tbody tr th:only-of-type {\n",
       "        vertical-align: middle;\n",
       "    }\n",
       "\n",
       "    .dataframe tbody tr th {\n",
       "        vertical-align: top;\n",
       "    }\n",
       "\n",
       "    .dataframe thead th {\n",
       "        text-align: right;\n",
       "    }\n",
       "</style>\n",
       "<table border=\"1\" class=\"dataframe\">\n",
       "  <thead>\n",
       "    <tr style=\"text-align: right;\">\n",
       "      <th></th>\n",
       "      <th>run_no</th>\n",
       "      <th>universe_id</th>\n",
       "      <th>universe_settings</th>\n",
       "      <th>execution_time</th>\n",
       "      <th>test_size_n</th>\n",
       "      <th>test_size_frac</th>\n",
       "      <th>fair_main_equalized_odds_difference</th>\n",
       "      <th>fair_main_equalized_odds_ratio</th>\n",
       "      <th>fair_main_demographic_parity_difference</th>\n",
       "      <th>fair_main_demographic_parity_ratio</th>\n",
       "      <th>...</th>\n",
       "      <th>perf_grp_precision_0</th>\n",
       "      <th>perf_grp_precision_1</th>\n",
       "      <th>perf_grp_false positive rate_0</th>\n",
       "      <th>perf_grp_false positive rate_1</th>\n",
       "      <th>perf_grp_false negative rate_0</th>\n",
       "      <th>perf_grp_false negative rate_1</th>\n",
       "      <th>perf_grp_selection rate_0</th>\n",
       "      <th>perf_grp_selection rate_1</th>\n",
       "      <th>perf_grp_count_0</th>\n",
       "      <th>perf_grp_count_1</th>\n",
       "    </tr>\n",
       "  </thead>\n",
       "  <tbody>\n",
       "    <tr>\n",
       "      <th>0</th>\n",
       "      <td>15</td>\n",
       "      <td>b975536c79bae3652a93f89fdd4a6773</td>\n",
       "      <td>{\"cutoff\": \"quantile_0.1\", \"eval_fairness_grou...</td>\n",
       "      <td>28.93058</td>\n",
       "      <td>89710</td>\n",
       "      <td>1.0</td>\n",
       "      <td>0.072268</td>\n",
       "      <td>0.923372</td>\n",
       "      <td>0.063079</td>\n",
       "      <td>0.933505</td>\n",
       "      <td>...</td>\n",
       "      <td>NaN</td>\n",
       "      <td>NaN</td>\n",
       "      <td>NaN</td>\n",
       "      <td>NaN</td>\n",
       "      <td>NaN</td>\n",
       "      <td>NaN</td>\n",
       "      <td>NaN</td>\n",
       "      <td>NaN</td>\n",
       "      <td>NaN</td>\n",
       "      <td>NaN</td>\n",
       "    </tr>\n",
       "    <tr>\n",
       "      <th>0</th>\n",
       "      <td>15</td>\n",
       "      <td>b975536c79bae3652a93f89fdd4a6773</td>\n",
       "      <td>{\"cutoff\": \"quantile_0.1\", \"eval_fairness_grou...</td>\n",
       "      <td>28.93058</td>\n",
       "      <td>89710</td>\n",
       "      <td>1.0</td>\n",
       "      <td>0.072268</td>\n",
       "      <td>0.923372</td>\n",
       "      <td>0.063079</td>\n",
       "      <td>0.933505</td>\n",
       "      <td>...</td>\n",
       "      <td>0.120452</td>\n",
       "      <td>0.146570</td>\n",
       "      <td>0.943099</td>\n",
       "      <td>0.870831</td>\n",
       "      <td>0.008868</td>\n",
       "      <td>0.017724</td>\n",
       "      <td>0.948637</td>\n",
       "      <td>0.885557</td>\n",
       "      <td>20540.0</td>\n",
       "      <td>69170.0</td>\n",
       "    </tr>\n",
       "    <tr>\n",
       "      <th>0</th>\n",
       "      <td>15</td>\n",
       "      <td>b975536c79bae3652a93f89fdd4a6773</td>\n",
       "      <td>{\"cutoff\": \"quantile_0.25\", \"eval_fairness_gro...</td>\n",
       "      <td>28.93058</td>\n",
       "      <td>89710</td>\n",
       "      <td>1.0</td>\n",
       "      <td>0.148831</td>\n",
       "      <td>0.822151</td>\n",
       "      <td>0.130121</td>\n",
       "      <td>0.846987</td>\n",
       "      <td>...</td>\n",
       "      <td>NaN</td>\n",
       "      <td>NaN</td>\n",
       "      <td>NaN</td>\n",
       "      <td>NaN</td>\n",
       "      <td>NaN</td>\n",
       "      <td>NaN</td>\n",
       "      <td>NaN</td>\n",
       "      <td>NaN</td>\n",
       "      <td>NaN</td>\n",
       "      <td>NaN</td>\n",
       "    </tr>\n",
       "    <tr>\n",
       "      <th>0</th>\n",
       "      <td>15</td>\n",
       "      <td>b975536c79bae3652a93f89fdd4a6773</td>\n",
       "      <td>{\"cutoff\": \"quantile_0.25\", \"eval_fairness_gro...</td>\n",
       "      <td>28.93058</td>\n",
       "      <td>89710</td>\n",
       "      <td>1.0</td>\n",
       "      <td>0.148831</td>\n",
       "      <td>0.822151</td>\n",
       "      <td>0.130121</td>\n",
       "      <td>0.846987</td>\n",
       "      <td>...</td>\n",
       "      <td>0.129387</td>\n",
       "      <td>0.171012</td>\n",
       "      <td>0.836837</td>\n",
       "      <td>0.688006</td>\n",
       "      <td>0.045608</td>\n",
       "      <td>0.067834</td>\n",
       "      <td>0.850389</td>\n",
       "      <td>0.720269</td>\n",
       "      <td>20540.0</td>\n",
       "      <td>69170.0</td>\n",
       "    </tr>\n",
       "  </tbody>\n",
       "</table>\n",
       "<p>4 rows × 50 columns</p>\n",
       "</div>"
      ],
      "text/plain": [
       "  run_no                       universe_id  \\\n",
       "0     15  b975536c79bae3652a93f89fdd4a6773   \n",
       "0     15  b975536c79bae3652a93f89fdd4a6773   \n",
       "0     15  b975536c79bae3652a93f89fdd4a6773   \n",
       "0     15  b975536c79bae3652a93f89fdd4a6773   \n",
       "\n",
       "                                   universe_settings  execution_time  \\\n",
       "0  {\"cutoff\": \"quantile_0.1\", \"eval_fairness_grou...        28.93058   \n",
       "0  {\"cutoff\": \"quantile_0.1\", \"eval_fairness_grou...        28.93058   \n",
       "0  {\"cutoff\": \"quantile_0.25\", \"eval_fairness_gro...        28.93058   \n",
       "0  {\"cutoff\": \"quantile_0.25\", \"eval_fairness_gro...        28.93058   \n",
       "\n",
       "   test_size_n  test_size_frac  fair_main_equalized_odds_difference  \\\n",
       "0        89710             1.0                             0.072268   \n",
       "0        89710             1.0                             0.072268   \n",
       "0        89710             1.0                             0.148831   \n",
       "0        89710             1.0                             0.148831   \n",
       "\n",
       "   fair_main_equalized_odds_ratio  fair_main_demographic_parity_difference  \\\n",
       "0                        0.923372                                 0.063079   \n",
       "0                        0.923372                                 0.063079   \n",
       "0                        0.822151                                 0.130121   \n",
       "0                        0.822151                                 0.130121   \n",
       "\n",
       "   fair_main_demographic_parity_ratio  ...  perf_grp_precision_0  \\\n",
       "0                            0.933505  ...                   NaN   \n",
       "0                            0.933505  ...              0.120452   \n",
       "0                            0.846987  ...                   NaN   \n",
       "0                            0.846987  ...              0.129387   \n",
       "\n",
       "   perf_grp_precision_1  perf_grp_false positive rate_0  \\\n",
       "0                   NaN                             NaN   \n",
       "0              0.146570                        0.943099   \n",
       "0                   NaN                             NaN   \n",
       "0              0.171012                        0.836837   \n",
       "\n",
       "   perf_grp_false positive rate_1  perf_grp_false negative rate_0  \\\n",
       "0                             NaN                             NaN   \n",
       "0                        0.870831                        0.008868   \n",
       "0                             NaN                             NaN   \n",
       "0                        0.688006                        0.045608   \n",
       "\n",
       "   perf_grp_false negative rate_1  perf_grp_selection rate_0  \\\n",
       "0                             NaN                        NaN   \n",
       "0                        0.017724                   0.948637   \n",
       "0                             NaN                        NaN   \n",
       "0                        0.067834                   0.850389   \n",
       "\n",
       "   perf_grp_selection rate_1  perf_grp_count_0  perf_grp_count_1  \n",
       "0                        NaN               NaN               NaN  \n",
       "0                   0.885557           20540.0           69170.0  \n",
       "0                        NaN               NaN               NaN  \n",
       "0                   0.720269           20540.0           69170.0  \n",
       "\n",
       "[4 rows x 50 columns]"
      ]
     },
     "execution_count": 66,
     "metadata": {},
     "output_type": "execute_result"
    }
   ],
   "source": [
    "final_output = universe_analysis.generate_final_output(\n",
    "    y_pred_prob=probs_test,\n",
    "    y_test=y_true,\n",
    "    org_test=org_test,\n",
    "    filter_data=filter_sub_universe_data,\n",
    "    cp_metrics_df=cp_metrics_df,\n",
    "    save=True,\n",
    ")\n",
    "final_output"
   ]
  }
 ],
 "metadata": {
  "celltoolbar": "Tags",
  "kernelspec": {
   "display_name": "Python (CMA Fairness)",
   "language": "python",
   "name": "cma_fair_env"
  },
  "language_info": {
   "codemirror_mode": {
    "name": "ipython",
    "version": 3
   },
   "file_extension": ".py",
   "mimetype": "text/x-python",
   "name": "python",
   "nbconvert_exporter": "python",
   "pygments_lexer": "ipython3",
   "version": "3.10.12"
  },
  "papermill": {
   "default_parameters": {},
   "duration": 40.723088,
   "end_time": "2025-08-05T15:32:51.990736",
   "environment_variables": {},
   "exception": null,
   "input_path": "universe_analysis.ipynb",
   "output_path": "output/runs/15/notebooks/m_15-b975536c79bae3652a93f89fdd4a6773.ipynb",
   "parameters": {
    "output_dir": "output",
    "run_no": "15",
    "seed": "2023",
    "universe": "{\"cutoff\": [\"quantile_0.1\", \"quantile_0.25\"], \"eval_fairness_grouping\": [\"majority-minority\", \"nationality-all\"], \"exclude_features\": \"age\", \"exclude_subgroups\": \"keep-all\", \"model\": \"gbm\", \"scale\": \"do-not-scale\", \"training_size\": \"5k\", \"training_year\": \"2014\"}",
    "universe_id": "b975536c79bae3652a93f89fdd4a6773"
   },
   "start_time": "2025-08-05T15:32:11.267648",
   "version": "2.6.0"
  }
 },
 "nbformat": 4,
 "nbformat_minor": 5
}