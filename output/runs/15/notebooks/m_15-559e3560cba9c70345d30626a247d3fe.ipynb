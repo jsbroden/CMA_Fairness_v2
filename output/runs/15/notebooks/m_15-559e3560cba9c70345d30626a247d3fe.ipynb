{
 "cells": [
  {
   "cell_type": "code",
   "execution_count": 1,
   "id": "f159f837-637b-42ba-96b5-ec9a68c44524",
   "metadata": {
    "execution": {
     "iopub.execute_input": "2025-08-05T14:38:28.955471Z",
     "iopub.status.busy": "2025-08-05T14:38:28.954979Z",
     "iopub.status.idle": "2025-08-05T14:38:28.969849Z",
     "shell.execute_reply": "2025-08-05T14:38:28.968762Z"
    },
    "papermill": {
     "duration": 0.036827,
     "end_time": "2025-08-05T14:38:28.971480",
     "exception": false,
     "start_time": "2025-08-05T14:38:28.934653",
     "status": "completed"
    },
    "tags": []
   },
   "outputs": [
    {
     "name": "stdout",
     "output_type": "stream",
     "text": [
      "/dss/dsshome1/0C/ra93lal2/cma/CMA_Fairness_v2\n"
     ]
    },
    {
     "name": "stderr",
     "output_type": "stream",
     "text": [
      "/dss/dsshome1/0C/ra93lal2/.local/share/virtualenvs/CMA_Fairness_v2-3j10GkSs/lib/python3.10/site-packages/IPython/core/magics/osm.py:393: UserWarning: This is now an optional IPython functionality, using bookmarks requires you to install the `pickleshare` library.\n",
      "  bkms = self.shell.db.get('bookmarks', {})\n",
      "/dss/dsshome1/0C/ra93lal2/.local/share/virtualenvs/CMA_Fairness_v2-3j10GkSs/lib/python3.10/site-packages/IPython/core/magics/osm.py:417: UserWarning: This is now an optional IPython functionality, setting dhist requires you to install the `pickleshare` library.\n",
      "  self.shell.db['dhist'] = compress_dhist(dhist)[-100:]\n"
     ]
    }
   ],
   "source": [
    "%cd ~/cma/CMA_Fairness_v2"
   ]
  },
  {
   "cell_type": "markdown",
   "id": "de2603b9",
   "metadata": {
    "papermill": {
     "duration": 0.018056,
     "end_time": "2025-08-05T14:38:29.009086",
     "exception": false,
     "start_time": "2025-08-05T14:38:28.991030",
     "status": "completed"
    },
    "tags": []
   },
   "source": [
    "The following cell holds the definition of our parameters, these values can be overriden by rendering the with e.g. the following command:\n",
    "\n",
    "papermill -p alpha 0.2 -p ratio 0.3 universe_analysis.ipynb output/test_run.ipynb"
   ]
  },
  {
   "cell_type": "code",
   "execution_count": 2,
   "id": "a80968a0-40bb-4fa9-85ef-2d5eefb01975",
   "metadata": {
    "execution": {
     "iopub.execute_input": "2025-08-05T14:38:29.048906Z",
     "iopub.status.busy": "2025-08-05T14:38:29.048414Z",
     "iopub.status.idle": "2025-08-05T14:38:29.054217Z",
     "shell.execute_reply": "2025-08-05T14:38:29.053114Z"
    },
    "papermill": {
     "duration": 0.027056,
     "end_time": "2025-08-05T14:38:29.055911",
     "exception": false,
     "start_time": "2025-08-05T14:38:29.028855",
     "status": "completed"
    },
    "tags": []
   },
   "outputs": [
    {
     "name": "stdout",
     "output_type": "stream",
     "text": [
      "Current working directory: /dss/dsshome1/0C/ra93lal2/cma/CMA_Fairness_v2\n"
     ]
    }
   ],
   "source": [
    "import os\n",
    "print(\"Current working directory:\", os.getcwd())"
   ]
  },
  {
   "cell_type": "code",
   "execution_count": 3,
   "id": "2dce4c03",
   "metadata": {
    "execution": {
     "iopub.execute_input": "2025-08-05T14:38:29.097701Z",
     "iopub.status.busy": "2025-08-05T14:38:29.096664Z",
     "iopub.status.idle": "2025-08-05T14:38:29.103516Z",
     "shell.execute_reply": "2025-08-05T14:38:29.102490Z"
    },
    "papermill": {
     "duration": 0.028754,
     "end_time": "2025-08-05T14:38:29.105432",
     "exception": false,
     "start_time": "2025-08-05T14:38:29.076678",
     "status": "completed"
    },
    "tags": [
     "parameters"
    ]
   },
   "outputs": [],
   "source": [
    "run_no = 0\n",
    "universe_id = \"test\"\n",
    "universe = {\n",
    "    \"training_size\": \"25k\", # \"25k\", \"5k\", \"1k\"\n",
    "    \"training_year\": \"2014\", # \"2014\", \"2012_14\", \"2010_14\"\n",
    "    \"scale\": \"scale\", # \"scale\", \"do-not-scale\",\n",
    "    \"model\": \"elasticnet\", # \"logreg\", \"penalized_logreg\", \"rf\", \"gbm\", \"elasticnet\"\n",
    "    \"cutoff\": [\"quantile_0.15\", \"quantile_0.30\"],\n",
    "    \"exclude_features\": \"age\", # \"none\", \"nationality\", \"sex\", \"nationality-sex\", \"age\"\n",
    "    \"exclude_subgroups\": \"keep-all\", # \"keep-all\", \"drop-non-german\"\n",
    "    \"eval_fairness_grouping\": [\"majority-minority\", \"nationality-all\"]\n",
    "}\n",
    "\n",
    "output_dir=\"./output\"\n",
    "seed=0"
   ]
  },
  {
   "cell_type": "code",
   "execution_count": 4,
   "id": "bb0839cc",
   "metadata": {
    "execution": {
     "iopub.execute_input": "2025-08-05T14:38:29.149227Z",
     "iopub.status.busy": "2025-08-05T14:38:29.148225Z",
     "iopub.status.idle": "2025-08-05T14:38:29.153843Z",
     "shell.execute_reply": "2025-08-05T14:38:29.152779Z"
    },
    "papermill": {
     "duration": 0.028138,
     "end_time": "2025-08-05T14:38:29.155620",
     "exception": false,
     "start_time": "2025-08-05T14:38:29.127482",
     "status": "completed"
    },
    "tags": [
     "injected-parameters"
    ]
   },
   "outputs": [],
   "source": [
    "# Parameters\n",
    "universe_id = \"559e3560cba9c70345d30626a247d3fe\"\n",
    "run_no = \"15\"\n",
    "universe = \"{\\\"cutoff\\\": [\\\"quantile_0.1\\\", \\\"quantile_0.25\\\"], \\\"eval_fairness_grouping\\\": [\\\"majority-minority\\\", \\\"nationality-all\\\"], \\\"exclude_features\\\": \\\"nationality\\\", \\\"exclude_subgroups\\\": \\\"keep-all\\\", \\\"model\\\": \\\"elasticnet\\\", \\\"scale\\\": \\\"scale\\\", \\\"training_size\\\": \\\"25k\\\", \\\"training_year\\\": \\\"2014\\\"}\"\n",
    "output_dir = \"output\"\n",
    "seed = \"2023\"\n"
   ]
  },
  {
   "cell_type": "code",
   "execution_count": 5,
   "id": "1650acaf",
   "metadata": {
    "execution": {
     "iopub.execute_input": "2025-08-05T14:38:29.197977Z",
     "iopub.status.busy": "2025-08-05T14:38:29.197031Z",
     "iopub.status.idle": "2025-08-05T14:38:29.202662Z",
     "shell.execute_reply": "2025-08-05T14:38:29.201606Z"
    },
    "papermill": {
     "duration": 0.028947,
     "end_time": "2025-08-05T14:38:29.204359",
     "exception": false,
     "start_time": "2025-08-05T14:38:29.175412",
     "status": "completed"
    },
    "tags": []
   },
   "outputs": [],
   "source": [
    "import json\n",
    "if isinstance(universe, str):\n",
    "    universe = json.loads(universe)"
   ]
  },
  {
   "cell_type": "code",
   "execution_count": 6,
   "id": "16620c48",
   "metadata": {
    "execution": {
     "iopub.execute_input": "2025-08-05T14:38:29.248684Z",
     "iopub.status.busy": "2025-08-05T14:38:29.247896Z",
     "iopub.status.idle": "2025-08-05T14:38:29.292971Z",
     "shell.execute_reply": "2025-08-05T14:38:29.292122Z"
    },
    "papermill": {
     "duration": 0.07014,
     "end_time": "2025-08-05T14:38:29.294819",
     "exception": false,
     "start_time": "2025-08-05T14:38:29.224679",
     "status": "completed"
    },
    "tags": []
   },
   "outputs": [],
   "source": [
    "# Auto-reload the custom package\n",
    "%load_ext autoreload\n",
    "%autoreload 1\n",
    "%aimport fairness_multiverse"
   ]
  },
  {
   "cell_type": "code",
   "execution_count": 7,
   "id": "01c5c9f3",
   "metadata": {
    "execution": {
     "iopub.execute_input": "2025-08-05T14:38:29.335517Z",
     "iopub.status.busy": "2025-08-05T14:38:29.334691Z",
     "iopub.status.idle": "2025-08-05T14:38:31.055801Z",
     "shell.execute_reply": "2025-08-05T14:38:31.054757Z"
    },
    "papermill": {
     "duration": 1.74326,
     "end_time": "2025-08-05T14:38:31.057881",
     "exception": false,
     "start_time": "2025-08-05T14:38:29.314621",
     "status": "completed"
    },
    "tags": []
   },
   "outputs": [],
   "source": [
    "from fairness_multiverse.universe import UniverseAnalysis\n",
    "\n",
    "universe_analysis = UniverseAnalysis(\n",
    "    run_no = run_no,\n",
    "    universe_id = universe_id,\n",
    "    universe = universe,\n",
    "    output_dir=output_dir,\n",
    ")"
   ]
  },
  {
   "cell_type": "code",
   "execution_count": 8,
   "id": "106241f5",
   "metadata": {
    "execution": {
     "iopub.execute_input": "2025-08-05T14:38:31.098858Z",
     "iopub.status.busy": "2025-08-05T14:38:31.098344Z",
     "iopub.status.idle": "2025-08-05T14:38:31.105568Z",
     "shell.execute_reply": "2025-08-05T14:38:31.104486Z"
    },
    "papermill": {
     "duration": 0.029384,
     "end_time": "2025-08-05T14:38:31.107309",
     "exception": false,
     "start_time": "2025-08-05T14:38:31.077925",
     "status": "completed"
    },
    "tags": []
   },
   "outputs": [
    {
     "name": "stdout",
     "output_type": "stream",
     "text": [
      "Using Seed: 2023\n"
     ]
    }
   ],
   "source": [
    "import numpy as np\n",
    "parsed_seed = int(seed)\n",
    "np.random.seed(parsed_seed)\n",
    "print(f\"Using Seed: {parsed_seed}\")"
   ]
  },
  {
   "cell_type": "markdown",
   "id": "e0ebdc57",
   "metadata": {
    "papermill": {
     "duration": 0.018863,
     "end_time": "2025-08-05T14:38:31.145655",
     "exception": false,
     "start_time": "2025-08-05T14:38:31.126792",
     "status": "completed"
    },
    "tags": []
   },
   "source": [
    "# Loading Data"
   ]
  },
  {
   "cell_type": "markdown",
   "id": "681925a3",
   "metadata": {
    "papermill": {
     "duration": 0.01904,
     "end_time": "2025-08-05T14:38:31.183710",
     "exception": false,
     "start_time": "2025-08-05T14:38:31.164670",
     "status": "completed"
    },
    "tags": []
   },
   "source": [
    "Load siab_train, siab_test, siab_calib and/or \n",
    "load siab_train_features, siab_train_labels"
   ]
  },
  {
   "cell_type": "code",
   "execution_count": 9,
   "id": "f0496b8a",
   "metadata": {
    "execution": {
     "iopub.execute_input": "2025-08-05T14:38:31.222132Z",
     "iopub.status.busy": "2025-08-05T14:38:31.221498Z",
     "iopub.status.idle": "2025-08-05T14:38:40.382622Z",
     "shell.execute_reply": "2025-08-05T14:38:40.381666Z"
    },
    "papermill": {
     "duration": 9.182107,
     "end_time": "2025-08-05T14:38:40.383891",
     "exception": false,
     "start_time": "2025-08-05T14:38:31.201784",
     "status": "completed"
    },
    "tags": []
   },
   "outputs": [
    {
     "name": "stdout",
     "output_type": "stream",
     "text": [
      "Loading SIAB data from cache: data/siab_cached.csv.gz\n"
     ]
    },
    {
     "name": "stdout",
     "output_type": "stream",
     "text": [
      "(643690, 164)\n"
     ]
    }
   ],
   "source": [
    "from pathlib import Path\n",
    "import pandas as pd\n",
    "\n",
    "# File paths\n",
    "raw_file = Path(\"data/raw/siab.csv\")\n",
    "cache_file = Path(\"data/siab_cached.csv.gz\")\n",
    "\n",
    "# Ensure cache directory exists\n",
    "cache_file.parent.mkdir(parents=True, exist_ok=True)\n",
    "\n",
    "# Load with simple caching\n",
    "if cache_file.exists():\n",
    "    print(f\"Loading SIAB data from cache: {cache_file}\")\n",
    "    siab = pd.read_csv(cache_file, compression='gzip')\n",
    "else:\n",
    "    print(f\"Cache not found. Reading raw SIAB data: {raw_file}\")\n",
    "    siab = pd.read_csv(raw_file)\n",
    "    siab.to_csv(cache_file, index=False, compression='gzip')\n",
    "    print(f\"Cached SIAB data to: {cache_file}\")\n",
    "\n",
    "print(siab.shape)"
   ]
  },
  {
   "cell_type": "code",
   "execution_count": 10,
   "id": "db0ca512-5f53-4dba-abdb-a2888bca41ba",
   "metadata": {
    "execution": {
     "iopub.execute_input": "2025-08-05T14:38:40.408260Z",
     "iopub.status.busy": "2025-08-05T14:38:40.407899Z",
     "iopub.status.idle": "2025-08-05T14:38:40.412295Z",
     "shell.execute_reply": "2025-08-05T14:38:40.411396Z"
    },
    "papermill": {
     "duration": 0.01697,
     "end_time": "2025-08-05T14:38:40.413806",
     "exception": false,
     "start_time": "2025-08-05T14:38:40.396836",
     "status": "completed"
    },
    "tags": []
   },
   "outputs": [],
   "source": [
    "#siab"
   ]
  },
  {
   "cell_type": "markdown",
   "id": "997051c5-15bd-4b69-9786-c3001a3ce484",
   "metadata": {
    "papermill": {
     "duration": 0.009806,
     "end_time": "2025-08-05T14:38:40.434573",
     "exception": false,
     "start_time": "2025-08-05T14:38:40.424767",
     "status": "completed"
    },
    "tags": []
   },
   "source": [
    "# Splitting Data and Setting Training Data Size"
   ]
  },
  {
   "cell_type": "code",
   "execution_count": 11,
   "id": "e993b61f-042d-41a6-8c81-f55681f86335",
   "metadata": {
    "execution": {
     "iopub.execute_input": "2025-08-05T14:38:40.455625Z",
     "iopub.status.busy": "2025-08-05T14:38:40.455125Z",
     "iopub.status.idle": "2025-08-05T14:38:40.464072Z",
     "shell.execute_reply": "2025-08-05T14:38:40.463314Z"
    },
    "papermill": {
     "duration": 0.02141,
     "end_time": "2025-08-05T14:38:40.465671",
     "exception": false,
     "start_time": "2025-08-05T14:38:40.444261",
     "status": "completed"
    },
    "tags": []
   },
   "outputs": [],
   "source": [
    "def sample_by_year_size(df,\n",
    "                        training_year: str,\n",
    "                        training_size: str,\n",
    "                        random_state: int = 42):\n",
    "    # --- parse training_year into a list of int years ---\n",
    "    if \"_\" in training_year:\n",
    "        start_str, end_str = training_year.split(\"_\", 1)\n",
    "        start = int(start_str)\n",
    "        end   = int(end_str) if len(end_str) == 4 else (int(end_str) + (start // 100)*100)\n",
    "        years = list(range(start, end + 1))\n",
    "    else:\n",
    "        years = [int(training_year)]\n",
    "\n",
    "    df = df[df[\"year\"].isin(years)].reset_index(drop=True)\n",
    "\n",
    "    # --- map training_size to total number of samples ---\n",
    "    total_map = {\"25k\": 25_000, \"5k\": 5_000, \"1k\": 1_000}\n",
    "    if training_size not in total_map:\n",
    "        return df  # e.g. \"all\"\n",
    "\n",
    "    total_samples = total_map[training_size]\n",
    "    n_years       = len(years)\n",
    "    base          = total_samples // n_years\n",
    "    remainder     = total_samples % n_years\n",
    "\n",
    "    # --- build a dict: year -> how many to sample ---\n",
    "    # give +1 to the first `remainder` years in ascending order\n",
    "    quotas = {\n",
    "        year: base + (1 if idx < remainder else 0)\n",
    "        for idx, year in enumerate(sorted(years))\n",
    "    }\n",
    "\n",
    "    # --- sample per‐year according to the quota dict ---\n",
    "    sampled = (\n",
    "        df\n",
    "        .groupby(\"year\", group_keys=False)\n",
    "        .apply(lambda grp: grp.sample(\n",
    "            n=min(len(grp), quotas[grp.name]),\n",
    "            random_state=random_state))\n",
    "        .reset_index(drop=True)\n",
    "    )\n",
    "\n",
    "    return sampled"
   ]
  },
  {
   "cell_type": "code",
   "execution_count": 12,
   "id": "aea9c6ef-6f46-42c8-85eb-5a62025c1508",
   "metadata": {
    "execution": {
     "iopub.execute_input": "2025-08-05T14:38:40.488085Z",
     "iopub.status.busy": "2025-08-05T14:38:40.487577Z",
     "iopub.status.idle": "2025-08-05T14:38:40.722347Z",
     "shell.execute_reply": "2025-08-05T14:38:40.721600Z"
    },
    "papermill": {
     "duration": 0.24708,
     "end_time": "2025-08-05T14:38:40.723853",
     "exception": false,
     "start_time": "2025-08-05T14:38:40.476773",
     "status": "completed"
    },
    "tags": []
   },
   "outputs": [],
   "source": [
    "siab_train = sample_by_year_size(siab,\n",
    "                               training_year=universe[\"training_year\"],\n",
    "                               training_size=universe[\"training_size\"])"
   ]
  },
  {
   "cell_type": "code",
   "execution_count": 13,
   "id": "8d3afb32-789d-442c-8d5d-9f5aa8dd2eed",
   "metadata": {
    "execution": {
     "iopub.execute_input": "2025-08-05T14:38:40.745764Z",
     "iopub.status.busy": "2025-08-05T14:38:40.745381Z",
     "iopub.status.idle": "2025-08-05T14:38:40.750046Z",
     "shell.execute_reply": "2025-08-05T14:38:40.749167Z"
    },
    "papermill": {
     "duration": 0.016766,
     "end_time": "2025-08-05T14:38:40.751467",
     "exception": false,
     "start_time": "2025-08-05T14:38:40.734701",
     "status": "completed"
    },
    "tags": []
   },
   "outputs": [],
   "source": [
    "#siab_train.shape"
   ]
  },
  {
   "cell_type": "code",
   "execution_count": 14,
   "id": "d582db68-1a4c-47fb-84fc-08518dc1975a",
   "metadata": {
    "execution": {
     "iopub.execute_input": "2025-08-05T14:38:40.774076Z",
     "iopub.status.busy": "2025-08-05T14:38:40.773561Z",
     "iopub.status.idle": "2025-08-05T14:38:40.777933Z",
     "shell.execute_reply": "2025-08-05T14:38:40.777199Z"
    },
    "papermill": {
     "duration": 0.016787,
     "end_time": "2025-08-05T14:38:40.779446",
     "exception": false,
     "start_time": "2025-08-05T14:38:40.762659",
     "status": "completed"
    },
    "tags": []
   },
   "outputs": [],
   "source": [
    "#display(siab_train.groupby(\"year\").size())"
   ]
  },
  {
   "cell_type": "code",
   "execution_count": 15,
   "id": "a561edb4-d032-42cb-8256-22eac1111c64",
   "metadata": {
    "execution": {
     "iopub.execute_input": "2025-08-05T14:38:40.802037Z",
     "iopub.status.busy": "2025-08-05T14:38:40.801339Z",
     "iopub.status.idle": "2025-08-05T14:38:41.005769Z",
     "shell.execute_reply": "2025-08-05T14:38:41.005000Z"
    },
    "papermill": {
     "duration": 0.216722,
     "end_time": "2025-08-05T14:38:41.007237",
     "exception": false,
     "start_time": "2025-08-05T14:38:40.790515",
     "status": "completed"
    },
    "tags": []
   },
   "outputs": [],
   "source": [
    "#siab_train = siab_s[siab_s.year < 2015]\n",
    "siab_calib = siab[siab.year == 2015]\n",
    "siab_test = siab[siab.year == 2016]"
   ]
  },
  {
   "cell_type": "code",
   "execution_count": 16,
   "id": "472de16f-c3db-4916-846b-1f0de9cf1746",
   "metadata": {
    "execution": {
     "iopub.execute_input": "2025-08-05T14:38:41.041174Z",
     "iopub.status.busy": "2025-08-05T14:38:41.040714Z",
     "iopub.status.idle": "2025-08-05T14:38:41.059218Z",
     "shell.execute_reply": "2025-08-05T14:38:41.058185Z"
    },
    "papermill": {
     "duration": 0.041596,
     "end_time": "2025-08-05T14:38:41.060955",
     "exception": false,
     "start_time": "2025-08-05T14:38:41.019359",
     "status": "completed"
    },
    "tags": []
   },
   "outputs": [],
   "source": [
    "X_train = siab_train.iloc[:,4:164]\n",
    "y_train = siab_train.iloc[:, [3]]"
   ]
  },
  {
   "cell_type": "code",
   "execution_count": 17,
   "id": "828c96af-f43a-4ed6-ba47-8ac73a47d56c",
   "metadata": {
    "execution": {
     "iopub.execute_input": "2025-08-05T14:38:41.099608Z",
     "iopub.status.busy": "2025-08-05T14:38:41.099059Z",
     "iopub.status.idle": "2025-08-05T14:38:41.155122Z",
     "shell.execute_reply": "2025-08-05T14:38:41.153981Z"
    },
    "papermill": {
     "duration": 0.079342,
     "end_time": "2025-08-05T14:38:41.157052",
     "exception": false,
     "start_time": "2025-08-05T14:38:41.077710",
     "status": "completed"
    },
    "tags": []
   },
   "outputs": [],
   "source": [
    "X_calib = siab_calib.iloc[:,4:164]\n",
    "y_calib = siab_calib.iloc[:, [3]]"
   ]
  },
  {
   "cell_type": "code",
   "execution_count": 18,
   "id": "c34be9c3-6bd6-476e-acd3-845840e303be",
   "metadata": {
    "execution": {
     "iopub.execute_input": "2025-08-05T14:38:41.189796Z",
     "iopub.status.busy": "2025-08-05T14:38:41.189356Z",
     "iopub.status.idle": "2025-08-05T14:38:41.247569Z",
     "shell.execute_reply": "2025-08-05T14:38:41.246294Z"
    },
    "papermill": {
     "duration": 0.07748,
     "end_time": "2025-08-05T14:38:41.249912",
     "exception": false,
     "start_time": "2025-08-05T14:38:41.172432",
     "status": "completed"
    },
    "tags": []
   },
   "outputs": [],
   "source": [
    "X_test = siab_test.iloc[:,4:164]\n",
    "y_true = siab_test.iloc[:, [3]]"
   ]
  },
  {
   "cell_type": "markdown",
   "id": "9901737e-04df-44f0-9100-f5ad144ed040",
   "metadata": {
    "papermill": {
     "duration": 0.026422,
     "end_time": "2025-08-05T14:38:41.303042",
     "exception": false,
     "start_time": "2025-08-05T14:38:41.276620",
     "status": "completed"
    },
    "tags": []
   },
   "source": [
    "# Splitting Data and Setting Training Data Size OLD VERSION"
   ]
  },
  {
   "cell_type": "code",
   "execution_count": 19,
   "id": "acbc8f7d-8fc8-4e86-8c59-5dcb0f58384b",
   "metadata": {
    "execution": {
     "iopub.execute_input": "2025-08-05T14:38:41.360365Z",
     "iopub.status.busy": "2025-08-05T14:38:41.359614Z",
     "iopub.status.idle": "2025-08-05T14:38:41.366111Z",
     "shell.execute_reply": "2025-08-05T14:38:41.365055Z"
    },
    "papermill": {
     "duration": 0.037595,
     "end_time": "2025-08-05T14:38:41.367876",
     "exception": false,
     "start_time": "2025-08-05T14:38:41.330281",
     "status": "completed"
    },
    "tags": []
   },
   "outputs": [],
   "source": [
    "#def sample_by_year(df, training_size, random_state=42):\n",
    "#    if training_size == \"2014\":\n",
    "#        return df[df[\"year\"] == 2014].reset_index(drop=True)\n",
    "#    \n",
    "#    size_map = {\n",
    "#        \"25k\": 5000,\n",
    "#        \"5k\": 1000,\n",
    "#        \"1k\": 200\n",
    "#    }\n",
    "#\n",
    "#    if training_size not in size_map:\n",
    "#        return df.reset_index(drop=True)  # use all data\n",
    "#\n",
    "#    n_per_year = size_map[training_size]\n",
    "#    grouped = df.groupby(\"year\")\n",
    "#    sampled = grouped.apply(lambda x: x.sample(n=min(n_per_year, len(x)), random_state=random_state))\n",
    "#    return sampled.reset_index(drop=True)"
   ]
  },
  {
   "cell_type": "code",
   "execution_count": 20,
   "id": "6d931f52-beaf-43ff-9e78-9d44a448d54e",
   "metadata": {
    "execution": {
     "iopub.execute_input": "2025-08-05T14:38:41.412022Z",
     "iopub.status.busy": "2025-08-05T14:38:41.411040Z",
     "iopub.status.idle": "2025-08-05T14:38:41.416525Z",
     "shell.execute_reply": "2025-08-05T14:38:41.415450Z"
    },
    "papermill": {
     "duration": 0.029486,
     "end_time": "2025-08-05T14:38:41.418583",
     "exception": false,
     "start_time": "2025-08-05T14:38:41.389097",
     "status": "completed"
    },
    "tags": []
   },
   "outputs": [],
   "source": [
    "#siab_s = sample_by_year(siab, universe[\"training_size\"])"
   ]
  },
  {
   "cell_type": "code",
   "execution_count": 21,
   "id": "5db0a40e-a4e2-4920-be85-b12ae061d70d",
   "metadata": {
    "execution": {
     "iopub.execute_input": "2025-08-05T14:38:41.462672Z",
     "iopub.status.busy": "2025-08-05T14:38:41.461706Z",
     "iopub.status.idle": "2025-08-05T14:38:41.467312Z",
     "shell.execute_reply": "2025-08-05T14:38:41.466384Z"
    },
    "papermill": {
     "duration": 0.0294,
     "end_time": "2025-08-05T14:38:41.469158",
     "exception": false,
     "start_time": "2025-08-05T14:38:41.439758",
     "status": "completed"
    },
    "tags": []
   },
   "outputs": [],
   "source": [
    "#display(siab_s.groupby(\"year\").size())"
   ]
  },
  {
   "cell_type": "code",
   "execution_count": 22,
   "id": "e6c733c5",
   "metadata": {
    "execution": {
     "iopub.execute_input": "2025-08-05T14:38:41.513135Z",
     "iopub.status.busy": "2025-08-05T14:38:41.512692Z",
     "iopub.status.idle": "2025-08-05T14:38:41.610921Z",
     "shell.execute_reply": "2025-08-05T14:38:41.609882Z"
    },
    "papermill": {
     "duration": 0.122823,
     "end_time": "2025-08-05T14:38:41.613086",
     "exception": false,
     "start_time": "2025-08-05T14:38:41.490263",
     "status": "completed"
    },
    "tags": []
   },
   "outputs": [],
   "source": [
    "# Auxiliary data needed downstream in the pipeline\n",
    "\n",
    "org_train = X_train.copy()\n",
    "org_test = X_test.copy()\n",
    "org_calib = X_calib.copy()"
   ]
  },
  {
   "cell_type": "code",
   "execution_count": 23,
   "id": "1466abac-c6da-4492-a62f-4240ae3783af",
   "metadata": {
    "execution": {
     "iopub.execute_input": "2025-08-05T14:38:41.667300Z",
     "iopub.status.busy": "2025-08-05T14:38:41.666589Z",
     "iopub.status.idle": "2025-08-05T14:38:41.672931Z",
     "shell.execute_reply": "2025-08-05T14:38:41.671729Z"
    },
    "papermill": {
     "duration": 0.035381,
     "end_time": "2025-08-05T14:38:41.675219",
     "exception": false,
     "start_time": "2025-08-05T14:38:41.639838",
     "status": "completed"
    },
    "tags": []
   },
   "outputs": [],
   "source": [
    "# put in other script?\n",
    "# Group sizes\n",
    "\n",
    "#def calculate_percentages(df, df_name):\n",
    "#    total_entries = len(df)\n",
    "#\n",
    "#    female_pct = (df['frau1'] == 1).mean() * 100\n",
    "#    non_german_pct = ((df['maxdeutsch1'] == 0) & (df['maxdeutsch.Missing.'] == 0)).mean() * 100\n",
    "#    non_german_male_pct = ((df['frau1'] == 0) & (df['maxdeutsch1'] == 0) & (df['maxdeutsch.Missing.'] == 0)).mean() * 100\n",
    "#    non_german_female_pct = ((df['frau1'] == 1) & (df['maxdeutsch1'] == 0) & (df['maxdeutsch.Missing.'] == 0)).mean() * 100\n",
    "#\n",
    "#    print(f\"--- {df_name} ---\")\n",
    "#    print(f\"Female: {female_pct:.2f}%\")\n",
    "#    print(f\"Non-German: {non_german_pct:.2f}%\")\n",
    "#    print(f\"Non-German Male: {non_german_male_pct:.2f}%\")\n",
    "#    print(f\"Non-German Female: {non_german_female_pct:.2f}%\\n\")\n",
    "#\n",
    "## Calculate for each DataFrame\n",
    "#calculate_percentages(siab_calib, \"siab_calib\")\n",
    "#calculate_percentages(siab_test, \"siab_test\")\n",
    "#calculate_percentages(siab_train, \"siab_train\")"
   ]
  },
  {
   "cell_type": "markdown",
   "id": "0a4a1b33",
   "metadata": {
    "papermill": {
     "duration": 0.026313,
     "end_time": "2025-08-05T14:38:41.728202",
     "exception": false,
     "start_time": "2025-08-05T14:38:41.701889",
     "status": "completed"
    },
    "tags": []
   },
   "source": [
    "# Preprocessing Data"
   ]
  },
  {
   "cell_type": "code",
   "execution_count": 24,
   "id": "ca879031",
   "metadata": {
    "execution": {
     "iopub.execute_input": "2025-08-05T14:38:41.783181Z",
     "iopub.status.busy": "2025-08-05T14:38:41.782480Z",
     "iopub.status.idle": "2025-08-05T14:38:41.789628Z",
     "shell.execute_reply": "2025-08-05T14:38:41.787448Z"
    },
    "papermill": {
     "duration": 0.040299,
     "end_time": "2025-08-05T14:38:41.794925",
     "exception": false,
     "start_time": "2025-08-05T14:38:41.754626",
     "status": "completed"
    },
    "tags": []
   },
   "outputs": [],
   "source": [
    "# EXCLUDE PROTECTED FEATURES\n",
    "# ----------------------\n",
    "# \"exclude_features\": \"none\", # \"nationality\", \"sex\", \"nationality-sex\"\n",
    "\n",
    "excluded_features = universe[\"exclude_features\"].split(\"-\") # split, e.g.: \"nationality-sex\" -> [\"nationality\", \"sex\"]\n",
    "excluded_features_dictionary = {\n",
    "    \"nationality\": [\"maxdeutsch1\", \"maxdeutsch.Missing.\"],\n",
    "    \"sex\": [\"frau1\"],\n",
    "    \"age\": [\"age\"],\n",
    "}\n"
   ]
  },
  {
   "cell_type": "code",
   "execution_count": 25,
   "id": "b745ac60",
   "metadata": {
    "execution": {
     "iopub.execute_input": "2025-08-05T14:38:41.838969Z",
     "iopub.status.busy": "2025-08-05T14:38:41.838317Z",
     "iopub.status.idle": "2025-08-05T14:38:41.844132Z",
     "shell.execute_reply": "2025-08-05T14:38:41.843086Z"
    },
    "papermill": {
     "duration": 0.03011,
     "end_time": "2025-08-05T14:38:41.845919",
     "exception": false,
     "start_time": "2025-08-05T14:38:41.815809",
     "status": "completed"
    },
    "tags": []
   },
   "outputs": [],
   "source": [
    "# Code nice names to column names\n",
    "\n",
    "excluded_features_columns = [\n",
    "    excluded_features_dictionary[f] for f in excluded_features if len(f) > 0 and f != \"none\"\n",
    "]"
   ]
  },
  {
   "cell_type": "code",
   "execution_count": 26,
   "id": "f84f73a2",
   "metadata": {
    "execution": {
     "iopub.execute_input": "2025-08-05T14:38:41.890481Z",
     "iopub.status.busy": "2025-08-05T14:38:41.889704Z",
     "iopub.status.idle": "2025-08-05T14:38:41.897685Z",
     "shell.execute_reply": "2025-08-05T14:38:41.896537Z"
    },
    "papermill": {
     "duration": 0.032424,
     "end_time": "2025-08-05T14:38:41.899376",
     "exception": false,
     "start_time": "2025-08-05T14:38:41.866952",
     "status": "completed"
    },
    "tags": []
   },
   "outputs": [],
   "source": [
    "from utils import flatten_once\n",
    "\n",
    "excluded_features_columns = flatten_once(excluded_features_columns)"
   ]
  },
  {
   "cell_type": "code",
   "execution_count": 27,
   "id": "884dea22",
   "metadata": {
    "execution": {
     "iopub.execute_input": "2025-08-05T14:38:41.944263Z",
     "iopub.status.busy": "2025-08-05T14:38:41.943621Z",
     "iopub.status.idle": "2025-08-05T14:38:41.961857Z",
     "shell.execute_reply": "2025-08-05T14:38:41.960517Z"
    },
    "papermill": {
     "duration": 0.042921,
     "end_time": "2025-08-05T14:38:41.964304",
     "exception": false,
     "start_time": "2025-08-05T14:38:41.921383",
     "status": "completed"
    },
    "tags": []
   },
   "outputs": [
    {
     "name": "stdout",
     "output_type": "stream",
     "text": [
      "Dropping features: ['maxdeutsch1', 'maxdeutsch.Missing.']\n"
     ]
    }
   ],
   "source": [
    "if len(excluded_features_columns) > 0:\n",
    "    print(f\"Dropping features: {excluded_features_columns}\")\n",
    "    X_train.drop(excluded_features_columns, axis=1, inplace=True)"
   ]
  },
  {
   "cell_type": "code",
   "execution_count": 28,
   "id": "95ab8b16",
   "metadata": {
    "execution": {
     "iopub.execute_input": "2025-08-05T14:38:42.008111Z",
     "iopub.status.busy": "2025-08-05T14:38:42.007439Z",
     "iopub.status.idle": "2025-08-05T14:38:42.061641Z",
     "shell.execute_reply": "2025-08-05T14:38:42.060483Z"
    },
    "papermill": {
     "duration": 0.078419,
     "end_time": "2025-08-05T14:38:42.063641",
     "exception": false,
     "start_time": "2025-08-05T14:38:41.985222",
     "status": "completed"
    },
    "tags": []
   },
   "outputs": [
    {
     "name": "stdout",
     "output_type": "stream",
     "text": [
      "Dropping features: ['maxdeutsch1', 'maxdeutsch.Missing.']\n"
     ]
    }
   ],
   "source": [
    "if len(excluded_features_columns) > 0:\n",
    "    print(f\"Dropping features: {excluded_features_columns}\")\n",
    "    X_test.drop(excluded_features_columns, axis=1, inplace=True)"
   ]
  },
  {
   "cell_type": "code",
   "execution_count": 29,
   "id": "1853aaf5-fb9f-46cb-a2b5-8ea4ae2237e4",
   "metadata": {
    "execution": {
     "iopub.execute_input": "2025-08-05T14:38:42.099037Z",
     "iopub.status.busy": "2025-08-05T14:38:42.098206Z",
     "iopub.status.idle": "2025-08-05T14:38:42.148072Z",
     "shell.execute_reply": "2025-08-05T14:38:42.147350Z"
    },
    "papermill": {
     "duration": 0.067452,
     "end_time": "2025-08-05T14:38:42.149736",
     "exception": false,
     "start_time": "2025-08-05T14:38:42.082284",
     "status": "completed"
    },
    "tags": []
   },
   "outputs": [
    {
     "name": "stdout",
     "output_type": "stream",
     "text": [
      "Dropping features: ['maxdeutsch1', 'maxdeutsch.Missing.']\n"
     ]
    }
   ],
   "source": [
    "if len(excluded_features_columns) > 0:\n",
    "    print(f\"Dropping features: {excluded_features_columns}\")\n",
    "    X_calib.drop(excluded_features_columns, axis=1, inplace=True)"
   ]
  },
  {
   "cell_type": "code",
   "execution_count": 30,
   "id": "6727d079-03e5-481e-9d38-292a90b7a0a8",
   "metadata": {
    "execution": {
     "iopub.execute_input": "2025-08-05T14:38:42.172882Z",
     "iopub.status.busy": "2025-08-05T14:38:42.172582Z",
     "iopub.status.idle": "2025-08-05T14:38:42.176524Z",
     "shell.execute_reply": "2025-08-05T14:38:42.175698Z"
    },
    "papermill": {
     "duration": 0.016689,
     "end_time": "2025-08-05T14:38:42.178271",
     "exception": false,
     "start_time": "2025-08-05T14:38:42.161582",
     "status": "completed"
    },
    "tags": []
   },
   "outputs": [],
   "source": [
    "# SPLIT & STRATIFY DATA\n",
    "# ----------------------"
   ]
  },
  {
   "cell_type": "code",
   "execution_count": 31,
   "id": "76c4dc6d",
   "metadata": {
    "execution": {
     "iopub.execute_input": "2025-08-05T14:38:42.223900Z",
     "iopub.status.busy": "2025-08-05T14:38:42.223174Z",
     "iopub.status.idle": "2025-08-05T14:38:42.230200Z",
     "shell.execute_reply": "2025-08-05T14:38:42.228977Z"
    },
    "papermill": {
     "duration": 0.033057,
     "end_time": "2025-08-05T14:38:42.231985",
     "exception": false,
     "start_time": "2025-08-05T14:38:42.198928",
     "status": "completed"
    },
    "tags": []
   },
   "outputs": [],
   "source": [
    "# EXCLUDE CERTAIN SUBGROUPS\n",
    "# ----------------------\n",
    "\n",
    "mode = universe.get(\"exclude_subgroups\", \"keep-all\") \n",
    "# Fetches the exclude_subgroups setting from the universe dict.\n",
    "# Defaults to \"keep-all\" if the key is missing."
   ]
  },
  {
   "cell_type": "code",
   "execution_count": 32,
   "id": "21994072",
   "metadata": {
    "execution": {
     "iopub.execute_input": "2025-08-05T14:38:42.278032Z",
     "iopub.status.busy": "2025-08-05T14:38:42.277216Z",
     "iopub.status.idle": "2025-08-05T14:38:42.285954Z",
     "shell.execute_reply": "2025-08-05T14:38:42.284686Z"
    },
    "papermill": {
     "duration": 0.033455,
     "end_time": "2025-08-05T14:38:42.287673",
     "exception": false,
     "start_time": "2025-08-05T14:38:42.254218",
     "status": "completed"
    },
    "tags": []
   },
   "outputs": [],
   "source": [
    "if mode == \"keep-all\":\n",
    "    keep_mask = pd.Series(True, index=org_train.index)\n",
    "\n",
    "# org_train contains the original feature columns from features_org (in Simson)\n",
    "# features_org contains unprocessed features, for me X_train at beginning ???\n",
    "# For keep-all, creates a boolean Series (keep_mask) of all True, so no rows are removed.\n",
    "\n",
    "elif mode == \"drop-non-german\":\n",
    "    keep_mask = org_train[\"maxdeutsch1\"] == 1 # ??? what about missing values?\n",
    "\n",
    "else:\n",
    "    raise ValueError(f\"Unsupported mode for exclude_subgroups: {mode}\")\n"
   ]
  },
  {
   "cell_type": "code",
   "execution_count": 33,
   "id": "71651440",
   "metadata": {
    "execution": {
     "iopub.execute_input": "2025-08-05T14:38:42.332052Z",
     "iopub.status.busy": "2025-08-05T14:38:42.331490Z",
     "iopub.status.idle": "2025-08-05T14:38:42.338521Z",
     "shell.execute_reply": "2025-08-05T14:38:42.337555Z"
    },
    "papermill": {
     "duration": 0.0303,
     "end_time": "2025-08-05T14:38:42.340032",
     "exception": false,
     "start_time": "2025-08-05T14:38:42.309732",
     "status": "completed"
    },
    "tags": []
   },
   "outputs": [],
   "source": [
    "n_drop = (~keep_mask).sum() # Calculates how many rows are set to be dropped\n",
    "if n_drop > 0:\n",
    "    pct = n_drop / len(keep_mask) * 100\n",
    "    print(f\"Dropping {n_drop} rows ({pct:.2f}%) where mode='{mode}'\")"
   ]
  },
  {
   "cell_type": "code",
   "execution_count": 34,
   "id": "5fb8eee5",
   "metadata": {
    "execution": {
     "iopub.execute_input": "2025-08-05T14:38:42.384293Z",
     "iopub.status.busy": "2025-08-05T14:38:42.383517Z",
     "iopub.status.idle": "2025-08-05T14:38:42.398203Z",
     "shell.execute_reply": "2025-08-05T14:38:42.397244Z"
    },
    "papermill": {
     "duration": 0.038257,
     "end_time": "2025-08-05T14:38:42.400096",
     "exception": false,
     "start_time": "2025-08-05T14:38:42.361839",
     "status": "completed"
    },
    "tags": []
   },
   "outputs": [],
   "source": [
    "X_train = X_train[keep_mask]"
   ]
  },
  {
   "cell_type": "code",
   "execution_count": 35,
   "id": "b202bb3a",
   "metadata": {
    "execution": {
     "iopub.execute_input": "2025-08-05T14:38:42.457696Z",
     "iopub.status.busy": "2025-08-05T14:38:42.456897Z",
     "iopub.status.idle": "2025-08-05T14:38:42.463024Z",
     "shell.execute_reply": "2025-08-05T14:38:42.461980Z"
    },
    "papermill": {
     "duration": 0.042191,
     "end_time": "2025-08-05T14:38:42.464653",
     "exception": false,
     "start_time": "2025-08-05T14:38:42.422462",
     "status": "completed"
    },
    "tags": []
   },
   "outputs": [],
   "source": [
    "y_train = y_train[keep_mask]"
   ]
  },
  {
   "cell_type": "markdown",
   "id": "493e2ac3",
   "metadata": {
    "papermill": {
     "duration": 0.012308,
     "end_time": "2025-08-05T14:38:42.488943",
     "exception": false,
     "start_time": "2025-08-05T14:38:42.476635",
     "status": "completed"
    },
    "tags": []
   },
   "source": [
    "# Model Training"
   ]
  },
  {
   "cell_type": "code",
   "execution_count": 36,
   "id": "679e1268",
   "metadata": {
    "execution": {
     "iopub.execute_input": "2025-08-05T14:38:42.512434Z",
     "iopub.status.busy": "2025-08-05T14:38:42.511812Z",
     "iopub.status.idle": "2025-08-05T14:38:42.597727Z",
     "shell.execute_reply": "2025-08-05T14:38:42.596542Z"
    },
    "papermill": {
     "duration": 0.099798,
     "end_time": "2025-08-05T14:38:42.599457",
     "exception": false,
     "start_time": "2025-08-05T14:38:42.499659",
     "status": "completed"
    },
    "tags": []
   },
   "outputs": [],
   "source": [
    "from sklearn.linear_model import LogisticRegression\n",
    "from sklearn.ensemble import GradientBoostingClassifier, RandomForestClassifier\n",
    "\n",
    "if (universe[\"model\"] == \"logreg\"):\n",
    "    model = LogisticRegression() #penalty=\"none\", solver=\"newton-cg\", max_iter=1) # include random_state=19 ?\n",
    "elif (universe[\"model\"] == \"penalized_logreg\"):\n",
    "    model = LogisticRegression(penalty=\"l2\", C=0.1) #, solver=\"newton-cg\", max_iter=1)\n",
    "elif (universe[\"model\"] == \"rf\"):\n",
    "    model = RandomForestClassifier() # n_estimators=100, n_jobs=-1\n",
    "elif (universe[\"model\"] == \"gbm\"):\n",
    "    model = GradientBoostingClassifier()\n",
    "elif (universe[\"model\"] == \"elasticnet\"):\n",
    "    model = LogisticRegression(penalty = 'elasticnet', solver = 'saga', l1_ratio = 0.5) # max_iter=5000\n",
    "else:\n",
    "    raise \"Unsupported universe.model\""
   ]
  },
  {
   "cell_type": "code",
   "execution_count": 37,
   "id": "0cc8f744",
   "metadata": {
    "execution": {
     "iopub.execute_input": "2025-08-05T14:38:42.644549Z",
     "iopub.status.busy": "2025-08-05T14:38:42.643886Z",
     "iopub.status.idle": "2025-08-05T14:38:42.650741Z",
     "shell.execute_reply": "2025-08-05T14:38:42.649770Z"
    },
    "papermill": {
     "duration": 0.031812,
     "end_time": "2025-08-05T14:38:42.652936",
     "exception": false,
     "start_time": "2025-08-05T14:38:42.621124",
     "status": "completed"
    },
    "tags": []
   },
   "outputs": [],
   "source": [
    "import numpy as np\n",
    "from sklearn.pipeline import Pipeline\n",
    "from sklearn.preprocessing import StandardScaler\n",
    "\n",
    "model = Pipeline([\n",
    "    #(\"continuous_processor\", continuous_processor),\n",
    "    #(\"categorical_preprocessor\", categorical_preprocessor),\n",
    "    (\"scale\", StandardScaler() if universe[\"scale\"] == \"scale\" else None), \n",
    "    (\"model\", model),\n",
    "])"
   ]
  },
  {
   "cell_type": "code",
   "execution_count": 38,
   "id": "9442c04d",
   "metadata": {
    "execution": {
     "iopub.execute_input": "2025-08-05T14:38:42.700104Z",
     "iopub.status.busy": "2025-08-05T14:38:42.699251Z",
     "iopub.status.idle": "2025-08-05T14:38:52.717242Z",
     "shell.execute_reply": "2025-08-05T14:38:52.716446Z"
    },
    "papermill": {
     "duration": 10.042456,
     "end_time": "2025-08-05T14:38:52.718729",
     "exception": false,
     "start_time": "2025-08-05T14:38:42.676273",
     "status": "completed"
    },
    "tags": []
   },
   "outputs": [
    {
     "name": "stderr",
     "output_type": "stream",
     "text": [
      "/dss/dsshome1/0C/ra93lal2/.local/share/virtualenvs/CMA_Fairness_v2-3j10GkSs/lib/python3.10/site-packages/sklearn/linear_model/_sag.py:350: ConvergenceWarning: The max_iter was reached which means the coef_ did not converge\n",
      "  warnings.warn(\n"
     ]
    },
    {
     "data": {
      "text/html": [
       "<style>#sk-container-id-1 {color: black;background-color: white;}#sk-container-id-1 pre{padding: 0;}#sk-container-id-1 div.sk-toggleable {background-color: white;}#sk-container-id-1 label.sk-toggleable__label {cursor: pointer;display: block;width: 100%;margin-bottom: 0;padding: 0.3em;box-sizing: border-box;text-align: center;}#sk-container-id-1 label.sk-toggleable__label-arrow:before {content: \"▸\";float: left;margin-right: 0.25em;color: #696969;}#sk-container-id-1 label.sk-toggleable__label-arrow:hover:before {color: black;}#sk-container-id-1 div.sk-estimator:hover label.sk-toggleable__label-arrow:before {color: black;}#sk-container-id-1 div.sk-toggleable__content {max-height: 0;max-width: 0;overflow: hidden;text-align: left;background-color: #f0f8ff;}#sk-container-id-1 div.sk-toggleable__content pre {margin: 0.2em;color: black;border-radius: 0.25em;background-color: #f0f8ff;}#sk-container-id-1 input.sk-toggleable__control:checked~div.sk-toggleable__content {max-height: 200px;max-width: 100%;overflow: auto;}#sk-container-id-1 input.sk-toggleable__control:checked~label.sk-toggleable__label-arrow:before {content: \"▾\";}#sk-container-id-1 div.sk-estimator input.sk-toggleable__control:checked~label.sk-toggleable__label {background-color: #d4ebff;}#sk-container-id-1 div.sk-label input.sk-toggleable__control:checked~label.sk-toggleable__label {background-color: #d4ebff;}#sk-container-id-1 input.sk-hidden--visually {border: 0;clip: rect(1px 1px 1px 1px);clip: rect(1px, 1px, 1px, 1px);height: 1px;margin: -1px;overflow: hidden;padding: 0;position: absolute;width: 1px;}#sk-container-id-1 div.sk-estimator {font-family: monospace;background-color: #f0f8ff;border: 1px dotted black;border-radius: 0.25em;box-sizing: border-box;margin-bottom: 0.5em;}#sk-container-id-1 div.sk-estimator:hover {background-color: #d4ebff;}#sk-container-id-1 div.sk-parallel-item::after {content: \"\";width: 100%;border-bottom: 1px solid gray;flex-grow: 1;}#sk-container-id-1 div.sk-label:hover label.sk-toggleable__label {background-color: #d4ebff;}#sk-container-id-1 div.sk-serial::before {content: \"\";position: absolute;border-left: 1px solid gray;box-sizing: border-box;top: 0;bottom: 0;left: 50%;z-index: 0;}#sk-container-id-1 div.sk-serial {display: flex;flex-direction: column;align-items: center;background-color: white;padding-right: 0.2em;padding-left: 0.2em;position: relative;}#sk-container-id-1 div.sk-item {position: relative;z-index: 1;}#sk-container-id-1 div.sk-parallel {display: flex;align-items: stretch;justify-content: center;background-color: white;position: relative;}#sk-container-id-1 div.sk-item::before, #sk-container-id-1 div.sk-parallel-item::before {content: \"\";position: absolute;border-left: 1px solid gray;box-sizing: border-box;top: 0;bottom: 0;left: 50%;z-index: -1;}#sk-container-id-1 div.sk-parallel-item {display: flex;flex-direction: column;z-index: 1;position: relative;background-color: white;}#sk-container-id-1 div.sk-parallel-item:first-child::after {align-self: flex-end;width: 50%;}#sk-container-id-1 div.sk-parallel-item:last-child::after {align-self: flex-start;width: 50%;}#sk-container-id-1 div.sk-parallel-item:only-child::after {width: 0;}#sk-container-id-1 div.sk-dashed-wrapped {border: 1px dashed gray;margin: 0 0.4em 0.5em 0.4em;box-sizing: border-box;padding-bottom: 0.4em;background-color: white;}#sk-container-id-1 div.sk-label label {font-family: monospace;font-weight: bold;display: inline-block;line-height: 1.2em;}#sk-container-id-1 div.sk-label-container {text-align: center;}#sk-container-id-1 div.sk-container {/* jupyter's `normalize.less` sets `[hidden] { display: none; }` but bootstrap.min.css set `[hidden] { display: none !important; }` so we also need the `!important` here to be able to override the default hidden behavior on the sphinx rendered scikit-learn.org. See: https://github.com/scikit-learn/scikit-learn/issues/21755 */display: inline-block !important;position: relative;}#sk-container-id-1 div.sk-text-repr-fallback {display: none;}</style><div id=\"sk-container-id-1\" class=\"sk-top-container\"><div class=\"sk-text-repr-fallback\"><pre>Pipeline(steps=[(&#x27;scale&#x27;, StandardScaler()),\n",
       "                (&#x27;model&#x27;,\n",
       "                 LogisticRegression(l1_ratio=0.5, penalty=&#x27;elasticnet&#x27;,\n",
       "                                    solver=&#x27;saga&#x27;))])</pre><b>In a Jupyter environment, please rerun this cell to show the HTML representation or trust the notebook. <br />On GitHub, the HTML representation is unable to render, please try loading this page with nbviewer.org.</b></div><div class=\"sk-container\" hidden><div class=\"sk-item sk-dashed-wrapped\"><div class=\"sk-label-container\"><div class=\"sk-label sk-toggleable\"><input class=\"sk-toggleable__control sk-hidden--visually\" id=\"sk-estimator-id-1\" type=\"checkbox\" ><label for=\"sk-estimator-id-1\" class=\"sk-toggleable__label sk-toggleable__label-arrow\">Pipeline</label><div class=\"sk-toggleable__content\"><pre>Pipeline(steps=[(&#x27;scale&#x27;, StandardScaler()),\n",
       "                (&#x27;model&#x27;,\n",
       "                 LogisticRegression(l1_ratio=0.5, penalty=&#x27;elasticnet&#x27;,\n",
       "                                    solver=&#x27;saga&#x27;))])</pre></div></div></div><div class=\"sk-serial\"><div class=\"sk-item\"><div class=\"sk-estimator sk-toggleable\"><input class=\"sk-toggleable__control sk-hidden--visually\" id=\"sk-estimator-id-2\" type=\"checkbox\" ><label for=\"sk-estimator-id-2\" class=\"sk-toggleable__label sk-toggleable__label-arrow\">StandardScaler</label><div class=\"sk-toggleable__content\"><pre>StandardScaler()</pre></div></div></div><div class=\"sk-item\"><div class=\"sk-estimator sk-toggleable\"><input class=\"sk-toggleable__control sk-hidden--visually\" id=\"sk-estimator-id-3\" type=\"checkbox\" ><label for=\"sk-estimator-id-3\" class=\"sk-toggleable__label sk-toggleable__label-arrow\">LogisticRegression</label><div class=\"sk-toggleable__content\"><pre>LogisticRegression(l1_ratio=0.5, penalty=&#x27;elasticnet&#x27;, solver=&#x27;saga&#x27;)</pre></div></div></div></div></div></div></div>"
      ],
      "text/plain": [
       "Pipeline(steps=[('scale', StandardScaler()),\n",
       "                ('model',\n",
       "                 LogisticRegression(l1_ratio=0.5, penalty='elasticnet',\n",
       "                                    solver='saga'))])"
      ]
     },
     "execution_count": 38,
     "metadata": {},
     "output_type": "execute_result"
    }
   ],
   "source": [
    "model.fit(X_train, y_train.values.ravel())"
   ]
  },
  {
   "cell_type": "code",
   "execution_count": 39,
   "id": "af59f8c0",
   "metadata": {
    "execution": {
     "iopub.execute_input": "2025-08-05T14:38:52.767845Z",
     "iopub.status.busy": "2025-08-05T14:38:52.767283Z",
     "iopub.status.idle": "2025-08-05T14:38:52.772952Z",
     "shell.execute_reply": "2025-08-05T14:38:52.772052Z"
    },
    "papermill": {
     "duration": 0.027907,
     "end_time": "2025-08-05T14:38:52.774700",
     "exception": false,
     "start_time": "2025-08-05T14:38:52.746793",
     "status": "completed"
    },
    "tags": []
   },
   "outputs": [],
   "source": [
    "from fairness_multiverse.universe import predict_w_threshold"
   ]
  },
  {
   "cell_type": "code",
   "execution_count": 40,
   "id": "a7cf2e16",
   "metadata": {
    "execution": {
     "iopub.execute_input": "2025-08-05T14:38:52.823224Z",
     "iopub.status.busy": "2025-08-05T14:38:52.822586Z",
     "iopub.status.idle": "2025-08-05T14:38:53.095563Z",
     "shell.execute_reply": "2025-08-05T14:38:53.094715Z"
    },
    "papermill": {
     "duration": 0.301047,
     "end_time": "2025-08-05T14:38:53.097082",
     "exception": false,
     "start_time": "2025-08-05T14:38:52.796035",
     "status": "completed"
    },
    "tags": []
   },
   "outputs": [
    {
     "data": {
      "text/plain": [
       "0.8653438858544198"
      ]
     },
     "execution_count": 40,
     "metadata": {},
     "output_type": "execute_result"
    }
   ],
   "source": [
    "probs_test = model.predict_proba(X_test)\n",
    "\n",
    "'''\n",
    "Below code returns a boolean array (or binary 0/1 array depending on how it’s used) where each element \n",
    "is True if the probability of class 1 is greater than or equal to the threshold, and False otherwise.\n",
    "'''\n",
    "y_pred_default = predict_w_threshold(probs_test, 0.5)\n",
    "\n",
    "from sklearn.metrics import accuracy_score\n",
    "\n",
    "# Naive prediction\n",
    "accuracy_score(y_true = y_true, y_pred = y_pred_default)"
   ]
  },
  {
   "cell_type": "code",
   "execution_count": 41,
   "id": "081964c3",
   "metadata": {
    "execution": {
     "iopub.execute_input": "2025-08-05T14:38:53.139573Z",
     "iopub.status.busy": "2025-08-05T14:38:53.139009Z",
     "iopub.status.idle": "2025-08-05T14:38:53.308332Z",
     "shell.execute_reply": "2025-08-05T14:38:53.307434Z"
    },
    "papermill": {
     "duration": 0.191561,
     "end_time": "2025-08-05T14:38:53.310038",
     "exception": false,
     "start_time": "2025-08-05T14:38:53.118477",
     "status": "completed"
    },
    "tags": []
   },
   "outputs": [
    {
     "data": {
      "text/plain": [
       "array([0, 0, 0, ..., 0, 0, 0])"
      ]
     },
     "execution_count": 41,
     "metadata": {},
     "output_type": "execute_result"
    }
   ],
   "source": [
    "model.predict(X_test)"
   ]
  },
  {
   "cell_type": "markdown",
   "id": "56c9705b",
   "metadata": {
    "papermill": {
     "duration": 0.011485,
     "end_time": "2025-08-05T14:38:53.334278",
     "exception": false,
     "start_time": "2025-08-05T14:38:53.322793",
     "status": "completed"
    },
    "tags": []
   },
   "source": [
    "# Conformal Prediction"
   ]
  },
  {
   "cell_type": "code",
   "execution_count": 42,
   "id": "160ec6ff",
   "metadata": {
    "execution": {
     "iopub.execute_input": "2025-08-05T14:38:53.359101Z",
     "iopub.status.busy": "2025-08-05T14:38:53.358573Z",
     "iopub.status.idle": "2025-08-05T14:38:53.363359Z",
     "shell.execute_reply": "2025-08-05T14:38:53.362649Z"
    },
    "papermill": {
     "duration": 0.01896,
     "end_time": "2025-08-05T14:38:53.364851",
     "exception": false,
     "start_time": "2025-08-05T14:38:53.345891",
     "status": "completed"
    },
    "tags": []
   },
   "outputs": [],
   "source": [
    "# Miscoverage level for conformal prediction (10% allowed error rate => 90% target coverage)\n",
    "alpha = 0.1"
   ]
  },
  {
   "cell_type": "code",
   "execution_count": 43,
   "id": "eadf4555-3dd3-440e-8e35-f82a4ad9f855",
   "metadata": {
    "execution": {
     "iopub.execute_input": "2025-08-05T14:38:53.391051Z",
     "iopub.status.busy": "2025-08-05T14:38:53.390550Z",
     "iopub.status.idle": "2025-08-05T14:38:53.555408Z",
     "shell.execute_reply": "2025-08-05T14:38:53.554409Z"
    },
    "papermill": {
     "duration": 0.179529,
     "end_time": "2025-08-05T14:38:53.557301",
     "exception": false,
     "start_time": "2025-08-05T14:38:53.377772",
     "status": "completed"
    },
    "tags": []
   },
   "outputs": [],
   "source": [
    "probs_calib = model.predict_proba(X_calib)"
   ]
  },
  {
   "cell_type": "code",
   "execution_count": 44,
   "id": "2ed93547-6d5d-4983-9b36-1ecb300da49a",
   "metadata": {
    "execution": {
     "iopub.execute_input": "2025-08-05T14:38:53.605969Z",
     "iopub.status.busy": "2025-08-05T14:38:53.605255Z",
     "iopub.status.idle": "2025-08-05T14:38:53.611190Z",
     "shell.execute_reply": "2025-08-05T14:38:53.610190Z"
    },
    "papermill": {
     "duration": 0.031905,
     "end_time": "2025-08-05T14:38:53.613066",
     "exception": false,
     "start_time": "2025-08-05T14:38:53.581161",
     "status": "completed"
    },
    "tags": []
   },
   "outputs": [],
   "source": [
    "y_calib = y_calib.values.ravel().astype(int)"
   ]
  },
  {
   "cell_type": "code",
   "execution_count": 45,
   "id": "65d1320d-f588-4b38-9072-62af1ae97f7d",
   "metadata": {
    "execution": {
     "iopub.execute_input": "2025-08-05T14:38:53.663825Z",
     "iopub.status.busy": "2025-08-05T14:38:53.663060Z",
     "iopub.status.idle": "2025-08-05T14:38:53.671095Z",
     "shell.execute_reply": "2025-08-05T14:38:53.670181Z"
    },
    "papermill": {
     "duration": 0.034081,
     "end_time": "2025-08-05T14:38:53.672729",
     "exception": false,
     "start_time": "2025-08-05T14:38:53.638648",
     "status": "completed"
    },
    "tags": []
   },
   "outputs": [],
   "source": [
    "from fairness_multiverse.conformal import compute_nc_scores\n",
    "\n",
    "# Compute nonconformity scores on calibration set (1 - probability of true class)\n",
    "nc_scores = compute_nc_scores(probs_calib, y_calib)"
   ]
  },
  {
   "cell_type": "code",
   "execution_count": 46,
   "id": "df3b8ca3-53b7-43d5-9667-7c85da7aeda2",
   "metadata": {
    "execution": {
     "iopub.execute_input": "2025-08-05T14:38:53.721917Z",
     "iopub.status.busy": "2025-08-05T14:38:53.720844Z",
     "iopub.status.idle": "2025-08-05T14:38:53.727800Z",
     "shell.execute_reply": "2025-08-05T14:38:53.726734Z"
    },
    "papermill": {
     "duration": 0.033363,
     "end_time": "2025-08-05T14:38:53.729454",
     "exception": false,
     "start_time": "2025-08-05T14:38:53.696091",
     "status": "completed"
    },
    "tags": []
   },
   "outputs": [],
   "source": [
    "from fairness_multiverse.conformal import find_threshold\n",
    "\n",
    "# Find conformal threshold q_hat for the given alpha (split conformal method)\n",
    "q_hat = find_threshold(nc_scores, alpha)"
   ]
  },
  {
   "cell_type": "code",
   "execution_count": 47,
   "id": "4d29e6c1-0ef6-4aa4-b8fe-4fe79b0d033a",
   "metadata": {
    "execution": {
     "iopub.execute_input": "2025-08-05T14:38:53.778725Z",
     "iopub.status.busy": "2025-08-05T14:38:53.778275Z",
     "iopub.status.idle": "2025-08-05T14:38:53.785411Z",
     "shell.execute_reply": "2025-08-05T14:38:53.784389Z"
    },
    "papermill": {
     "duration": 0.033507,
     "end_time": "2025-08-05T14:38:53.786947",
     "exception": false,
     "start_time": "2025-08-05T14:38:53.753440",
     "status": "completed"
    },
    "tags": []
   },
   "outputs": [
    {
     "data": {
      "text/plain": [
       "0.6756649198896248"
      ]
     },
     "execution_count": 47,
     "metadata": {},
     "output_type": "execute_result"
    }
   ],
   "source": [
    "q_hat"
   ]
  },
  {
   "cell_type": "code",
   "execution_count": 48,
   "id": "92460794-cdac-4be2-ba28-f28c0515a6fb",
   "metadata": {
    "execution": {
     "iopub.execute_input": "2025-08-05T14:38:53.812537Z",
     "iopub.status.busy": "2025-08-05T14:38:53.812028Z",
     "iopub.status.idle": "2025-08-05T14:38:54.409110Z",
     "shell.execute_reply": "2025-08-05T14:38:54.408357Z"
    },
    "papermill": {
     "duration": 0.611661,
     "end_time": "2025-08-05T14:38:54.410719",
     "exception": false,
     "start_time": "2025-08-05T14:38:53.799058",
     "status": "completed"
    },
    "tags": []
   },
   "outputs": [],
   "source": [
    "from fairness_multiverse.conformal import predict_conformal_sets\n",
    "\n",
    "# Generate prediction sets for each test example\n",
    "pred_sets = predict_conformal_sets(model, X_test, q_hat)"
   ]
  },
  {
   "cell_type": "code",
   "execution_count": 49,
   "id": "d90c9a65-e6db-4f5d-80cd-e68fb7e46829",
   "metadata": {
    "execution": {
     "iopub.execute_input": "2025-08-05T14:38:54.435630Z",
     "iopub.status.busy": "2025-08-05T14:38:54.435117Z",
     "iopub.status.idle": "2025-08-05T14:38:54.440306Z",
     "shell.execute_reply": "2025-08-05T14:38:54.439496Z"
    },
    "papermill": {
     "duration": 0.01879,
     "end_time": "2025-08-05T14:38:54.441812",
     "exception": false,
     "start_time": "2025-08-05T14:38:54.423022",
     "status": "completed"
    },
    "tags": []
   },
   "outputs": [],
   "source": [
    "y_true = y_true.squeeze()"
   ]
  },
  {
   "cell_type": "code",
   "execution_count": 50,
   "id": "3a58a54a-1e68-46b9-927a-df01f18aebc8",
   "metadata": {
    "execution": {
     "iopub.execute_input": "2025-08-05T14:38:54.466632Z",
     "iopub.status.busy": "2025-08-05T14:38:54.466254Z",
     "iopub.status.idle": "2025-08-05T14:38:54.932452Z",
     "shell.execute_reply": "2025-08-05T14:38:54.931706Z"
    },
    "papermill": {
     "duration": 0.480104,
     "end_time": "2025-08-05T14:38:54.934005",
     "exception": false,
     "start_time": "2025-08-05T14:38:54.453901",
     "status": "completed"
    },
    "tags": []
   },
   "outputs": [],
   "source": [
    "from fairness_multiverse.conformal import evaluate_sets\n",
    "\n",
    "# Evaluate coverage and average set size on test data\n",
    "metrics = evaluate_sets(pred_sets, y_true)"
   ]
  },
  {
   "cell_type": "markdown",
   "id": "2b569c12-9aaa-4c88-98c9-bbcd0cf3ebb8",
   "metadata": {
    "papermill": {
     "duration": 0.011684,
     "end_time": "2025-08-05T14:38:54.958311",
     "exception": false,
     "start_time": "2025-08-05T14:38:54.946627",
     "status": "completed"
    },
    "tags": []
   },
   "source": [
    "# CP Metrics"
   ]
  },
  {
   "cell_type": "code",
   "execution_count": 51,
   "id": "5ce0a5cb-201f-45a0-ade5-94c7f0bd6095",
   "metadata": {
    "execution": {
     "iopub.execute_input": "2025-08-05T14:38:54.983192Z",
     "iopub.status.busy": "2025-08-05T14:38:54.982564Z",
     "iopub.status.idle": "2025-08-05T14:38:54.988967Z",
     "shell.execute_reply": "2025-08-05T14:38:54.988128Z"
    },
    "papermill": {
     "duration": 0.020514,
     "end_time": "2025-08-05T14:38:54.990416",
     "exception": false,
     "start_time": "2025-08-05T14:38:54.969902",
     "status": "completed"
    },
    "tags": []
   },
   "outputs": [
    {
     "data": {
      "text/plain": [
       "{'coverage': 0.9123954966001561, 'avg_size': 1.1253037565488797}"
      ]
     },
     "execution_count": 51,
     "metadata": {},
     "output_type": "execute_result"
    }
   ],
   "source": [
    "metrics"
   ]
  },
  {
   "cell_type": "code",
   "execution_count": 52,
   "id": "9b9a838d-31c9-430b-ae14-12baee460d17",
   "metadata": {
    "execution": {
     "iopub.execute_input": "2025-08-05T14:38:55.015953Z",
     "iopub.status.busy": "2025-08-05T14:38:55.015469Z",
     "iopub.status.idle": "2025-08-05T14:38:55.020542Z",
     "shell.execute_reply": "2025-08-05T14:38:55.019798Z"
    },
    "papermill": {
     "duration": 0.019383,
     "end_time": "2025-08-05T14:38:55.022099",
     "exception": false,
     "start_time": "2025-08-05T14:38:55.002716",
     "status": "completed"
    },
    "tags": []
   },
   "outputs": [],
   "source": [
    "example_universe = universe.copy()\n",
    "universe_training_year = example_universe.get(\"training_year\")\n",
    "universe_training_size = example_universe.get(\"training_size\")\n",
    "universe_scale = example_universe.get(\"scale\")\n",
    "universe_model = example_universe.get(\"model\")\n",
    "universe_exclude_features = example_universe.get(\"exclude_features\")\n",
    "universe_exclude_subgroups = example_universe.get(\"exclude_subgroups\")"
   ]
  },
  {
   "cell_type": "code",
   "execution_count": 53,
   "id": "f4b6a8ac-9dc0-4245-8a91-5b3b5999c4f9",
   "metadata": {
    "execution": {
     "iopub.execute_input": "2025-08-05T14:38:55.047776Z",
     "iopub.status.busy": "2025-08-05T14:38:55.047156Z",
     "iopub.status.idle": "2025-08-05T14:38:55.052879Z",
     "shell.execute_reply": "2025-08-05T14:38:55.051993Z"
    },
    "papermill": {
     "duration": 0.019849,
     "end_time": "2025-08-05T14:38:55.054546",
     "exception": false,
     "start_time": "2025-08-05T14:38:55.034697",
     "status": "completed"
    },
    "tags": []
   },
   "outputs": [],
   "source": [
    "cp_metrics_dict = {\n",
    "    \"universe_id\": [universe_id],\n",
    "    \"universe_training_year\": [universe_training_year],\n",
    "    \"universe_training_size\": [universe_training_size],\n",
    "    \"universe_scale\": [universe_scale],\n",
    "    \"universe_model\": [universe_model],\n",
    "    \"universe_exclude_features\": [universe_exclude_features],\n",
    "    \"universe_exclude_subgroups\": [universe_exclude_subgroups],\n",
    "    \"q_hat\": [q_hat],\n",
    "    \"coverage\": [metrics[\"coverage\"]],\n",
    "    \"avg_size\": [metrics[\"avg_size\"]],\n",
    "}"
   ]
  },
  {
   "cell_type": "code",
   "execution_count": 54,
   "id": "908acbb1-0371-4915-85ca-3fa520d2efe2",
   "metadata": {
    "execution": {
     "iopub.execute_input": "2025-08-05T14:38:55.106174Z",
     "iopub.status.busy": "2025-08-05T14:38:55.105605Z",
     "iopub.status.idle": "2025-08-05T14:38:55.113207Z",
     "shell.execute_reply": "2025-08-05T14:38:55.112210Z"
    },
    "papermill": {
     "duration": 0.035426,
     "end_time": "2025-08-05T14:38:55.115100",
     "exception": false,
     "start_time": "2025-08-05T14:38:55.079674",
     "status": "completed"
    },
    "tags": []
   },
   "outputs": [
    {
     "data": {
      "text/plain": [
       "{'universe_id': ['559e3560cba9c70345d30626a247d3fe'],\n",
       " 'universe_training_year': ['2014'],\n",
       " 'universe_training_size': ['25k'],\n",
       " 'universe_scale': ['scale'],\n",
       " 'universe_model': ['elasticnet'],\n",
       " 'universe_exclude_features': ['nationality'],\n",
       " 'universe_exclude_subgroups': ['keep-all'],\n",
       " 'q_hat': [0.6756649198896248],\n",
       " 'coverage': [0.9123954966001561],\n",
       " 'avg_size': [1.1253037565488797]}"
      ]
     },
     "execution_count": 54,
     "metadata": {},
     "output_type": "execute_result"
    }
   ],
   "source": [
    "cp_metrics_dict"
   ]
  },
  {
   "cell_type": "code",
   "execution_count": 55,
   "id": "33007efc-14e9-4ec6-97ac-56a455c82265",
   "metadata": {
    "execution": {
     "iopub.execute_input": "2025-08-05T14:38:55.164751Z",
     "iopub.status.busy": "2025-08-05T14:38:55.163856Z",
     "iopub.status.idle": "2025-08-05T14:38:55.170217Z",
     "shell.execute_reply": "2025-08-05T14:38:55.169282Z"
    },
    "papermill": {
     "duration": 0.031847,
     "end_time": "2025-08-05T14:38:55.171818",
     "exception": false,
     "start_time": "2025-08-05T14:38:55.139971",
     "status": "completed"
    },
    "tags": []
   },
   "outputs": [],
   "source": [
    "cp_metrics_df = pd.DataFrame(cp_metrics_dict)"
   ]
  },
  {
   "cell_type": "code",
   "execution_count": 56,
   "id": "db12611b-57b2-4910-b9d0-355adfd6e7bf",
   "metadata": {
    "execution": {
     "iopub.execute_input": "2025-08-05T14:38:55.220501Z",
     "iopub.status.busy": "2025-08-05T14:38:55.219607Z",
     "iopub.status.idle": "2025-08-05T14:38:55.233368Z",
     "shell.execute_reply": "2025-08-05T14:38:55.232553Z"
    },
    "papermill": {
     "duration": 0.037473,
     "end_time": "2025-08-05T14:38:55.234883",
     "exception": false,
     "start_time": "2025-08-05T14:38:55.197410",
     "status": "completed"
    },
    "tags": []
   },
   "outputs": [
    {
     "data": {
      "text/html": [
       "<div>\n",
       "<style scoped>\n",
       "    .dataframe tbody tr th:only-of-type {\n",
       "        vertical-align: middle;\n",
       "    }\n",
       "\n",
       "    .dataframe tbody tr th {\n",
       "        vertical-align: top;\n",
       "    }\n",
       "\n",
       "    .dataframe thead th {\n",
       "        text-align: right;\n",
       "    }\n",
       "</style>\n",
       "<table border=\"1\" class=\"dataframe\">\n",
       "  <thead>\n",
       "    <tr style=\"text-align: right;\">\n",
       "      <th></th>\n",
       "      <th>universe_id</th>\n",
       "      <th>universe_training_year</th>\n",
       "      <th>universe_training_size</th>\n",
       "      <th>universe_scale</th>\n",
       "      <th>universe_model</th>\n",
       "      <th>universe_exclude_features</th>\n",
       "      <th>universe_exclude_subgroups</th>\n",
       "      <th>q_hat</th>\n",
       "      <th>coverage</th>\n",
       "      <th>avg_size</th>\n",
       "    </tr>\n",
       "  </thead>\n",
       "  <tbody>\n",
       "    <tr>\n",
       "      <th>0</th>\n",
       "      <td>559e3560cba9c70345d30626a247d3fe</td>\n",
       "      <td>2014</td>\n",
       "      <td>25k</td>\n",
       "      <td>scale</td>\n",
       "      <td>elasticnet</td>\n",
       "      <td>nationality</td>\n",
       "      <td>keep-all</td>\n",
       "      <td>0.675665</td>\n",
       "      <td>0.912395</td>\n",
       "      <td>1.125304</td>\n",
       "    </tr>\n",
       "  </tbody>\n",
       "</table>\n",
       "</div>"
      ],
      "text/plain": [
       "                        universe_id universe_training_year  \\\n",
       "0  559e3560cba9c70345d30626a247d3fe                   2014   \n",
       "\n",
       "  universe_training_size universe_scale universe_model  \\\n",
       "0                    25k          scale     elasticnet   \n",
       "\n",
       "  universe_exclude_features universe_exclude_subgroups     q_hat  coverage  \\\n",
       "0               nationality                   keep-all  0.675665  0.912395   \n",
       "\n",
       "   avg_size  \n",
       "0  1.125304  "
      ]
     },
     "execution_count": 56,
     "metadata": {},
     "output_type": "execute_result"
    }
   ],
   "source": [
    "cp_metrics_df"
   ]
  },
  {
   "cell_type": "code",
   "execution_count": 57,
   "id": "b7fbde55-a0a1-47e4-9af6-fe4a17fa8c61",
   "metadata": {
    "execution": {
     "iopub.execute_input": "2025-08-05T14:38:55.260655Z",
     "iopub.status.busy": "2025-08-05T14:38:55.260073Z",
     "iopub.status.idle": "2025-08-05T14:38:55.264803Z",
     "shell.execute_reply": "2025-08-05T14:38:55.264124Z"
    },
    "papermill": {
     "duration": 0.018785,
     "end_time": "2025-08-05T14:38:55.266273",
     "exception": false,
     "start_time": "2025-08-05T14:38:55.247488",
     "status": "completed"
    },
    "tags": []
   },
   "outputs": [],
   "source": [
    "# Conditional Coverage & looking at subgroups"
   ]
  },
  {
   "cell_type": "code",
   "execution_count": 58,
   "id": "027ae886-68dd-4141-96c7-805a5450e1ef",
   "metadata": {
    "execution": {
     "iopub.execute_input": "2025-08-05T14:38:55.295415Z",
     "iopub.status.busy": "2025-08-05T14:38:55.294917Z",
     "iopub.status.idle": "2025-08-05T14:38:55.478380Z",
     "shell.execute_reply": "2025-08-05T14:38:55.477606Z"
    },
    "papermill": {
     "duration": 0.197869,
     "end_time": "2025-08-05T14:38:55.479854",
     "exception": false,
     "start_time": "2025-08-05T14:38:55.281985",
     "status": "completed"
    },
    "tags": []
   },
   "outputs": [],
   "source": [
    "from fairness_multiverse.conformal import build_cp_groups\n",
    "\n",
    "cp_groups_df = build_cp_groups(pred_sets, y_true, X_test.index, org_test)\n",
    "#needs universe_id and setting"
   ]
  },
  {
   "cell_type": "code",
   "execution_count": 59,
   "id": "01d5802c-663a-4d1f-9d69-e036faaffbf7",
   "metadata": {
    "execution": {
     "iopub.execute_input": "2025-08-05T14:38:55.510481Z",
     "iopub.status.busy": "2025-08-05T14:38:55.509841Z",
     "iopub.status.idle": "2025-08-05T14:38:55.514368Z",
     "shell.execute_reply": "2025-08-05T14:38:55.513504Z"
    },
    "papermill": {
     "duration": 0.01958,
     "end_time": "2025-08-05T14:38:55.515839",
     "exception": false,
     "start_time": "2025-08-05T14:38:55.496259",
     "status": "completed"
    },
    "tags": []
   },
   "outputs": [],
   "source": [
    "#delete\n",
    "#cp_groups_df"
   ]
  },
  {
   "cell_type": "code",
   "execution_count": 60,
   "id": "fa424af1-d1eb-443d-b717-2d279ada8408",
   "metadata": {
    "execution": {
     "iopub.execute_input": "2025-08-05T14:38:55.546818Z",
     "iopub.status.busy": "2025-08-05T14:38:55.546158Z",
     "iopub.status.idle": "2025-08-05T14:38:55.551740Z",
     "shell.execute_reply": "2025-08-05T14:38:55.550819Z"
    },
    "papermill": {
     "duration": 0.024532,
     "end_time": "2025-08-05T14:38:55.553359",
     "exception": false,
     "start_time": "2025-08-05T14:38:55.528827",
     "status": "completed"
    },
    "tags": []
   },
   "outputs": [],
   "source": [
    "#delete\n",
    "#percentage = (cp_groups_df['nongerman_female'] == 1).mean() * 100\n",
    "#print(percentage)\n"
   ]
  },
  {
   "cell_type": "code",
   "execution_count": 61,
   "id": "6cbdab96-b2b2-45af-ad54-d0516db2e28d",
   "metadata": {
    "execution": {
     "iopub.execute_input": "2025-08-05T14:38:55.608352Z",
     "iopub.status.busy": "2025-08-05T14:38:55.607717Z",
     "iopub.status.idle": "2025-08-05T14:38:57.258190Z",
     "shell.execute_reply": "2025-08-05T14:38:57.257166Z"
    },
    "papermill": {
     "duration": 1.680126,
     "end_time": "2025-08-05T14:38:57.260254",
     "exception": false,
     "start_time": "2025-08-05T14:38:55.580128",
     "status": "completed"
    },
    "tags": []
   },
   "outputs": [],
   "source": [
    "# Define covered = 1 if true_label is in the predicted set\n",
    "cp_groups_df['covered'] = cp_groups_df.apply(\n",
    "    lambda r: int(r['true_label'] in r['pred_set']),\n",
    "    axis=1\n",
    ")"
   ]
  },
  {
   "cell_type": "code",
   "execution_count": 62,
   "id": "338ff529-1a6b-4b87-a931-8e4788d52aad",
   "metadata": {
    "execution": {
     "iopub.execute_input": "2025-08-05T14:38:57.316421Z",
     "iopub.status.busy": "2025-08-05T14:38:57.315599Z",
     "iopub.status.idle": "2025-08-05T14:38:57.320342Z",
     "shell.execute_reply": "2025-08-05T14:38:57.319381Z"
    },
    "papermill": {
     "duration": 0.033867,
     "end_time": "2025-08-05T14:38:57.322237",
     "exception": false,
     "start_time": "2025-08-05T14:38:57.288370",
     "status": "completed"
    },
    "tags": []
   },
   "outputs": [],
   "source": [
    "#cp_groups_df"
   ]
  },
  {
   "cell_type": "code",
   "execution_count": 63,
   "id": "90032e27-66df-4540-9169-4e89cfbaa758",
   "metadata": {
    "execution": {
     "iopub.execute_input": "2025-08-05T14:38:57.379335Z",
     "iopub.status.busy": "2025-08-05T14:38:57.378844Z",
     "iopub.status.idle": "2025-08-05T14:38:57.391771Z",
     "shell.execute_reply": "2025-08-05T14:38:57.390805Z"
    },
    "papermill": {
     "duration": 0.043784,
     "end_time": "2025-08-05T14:38:57.393872",
     "exception": false,
     "start_time": "2025-08-05T14:38:57.350088",
     "status": "completed"
    },
    "tags": []
   },
   "outputs": [],
   "source": [
    "subgroups = ['frau1','nongerman','nongerman_male','nongerman_female']\n",
    "\n",
    "# Conditional coverage for subgroup==1\n",
    "cond_coverage = {\n",
    "    g: cp_groups_df.loc[cp_groups_df[g]==1, 'covered'].mean()\n",
    "    for g in subgroups\n",
    "}"
   ]
  },
  {
   "cell_type": "code",
   "execution_count": 64,
   "id": "1e348fb1-b9c3-45bc-ba23-f016827a7e0d",
   "metadata": {
    "execution": {
     "iopub.execute_input": "2025-08-05T14:38:57.446903Z",
     "iopub.status.busy": "2025-08-05T14:38:57.446222Z",
     "iopub.status.idle": "2025-08-05T14:38:57.453732Z",
     "shell.execute_reply": "2025-08-05T14:38:57.452610Z"
    },
    "papermill": {
     "duration": 0.035942,
     "end_time": "2025-08-05T14:38:57.455578",
     "exception": false,
     "start_time": "2025-08-05T14:38:57.419636",
     "status": "completed"
    },
    "tags": []
   },
   "outputs": [
    {
     "data": {
      "text/plain": [
       "{'frau1': 0.911200970481197,\n",
       " 'nongerman': 0.9124796496940437,\n",
       " 'nongerman_male': 0.9280374673511663,\n",
       " 'nongerman_female': 0.886736214605067}"
      ]
     },
     "execution_count": 64,
     "metadata": {},
     "output_type": "execute_result"
    }
   ],
   "source": [
    "cond_coverage"
   ]
  },
  {
   "cell_type": "code",
   "execution_count": 65,
   "id": "f5093324-c3dd-4d63-bc4c-8d945e5c8bbb",
   "metadata": {
    "execution": {
     "iopub.execute_input": "2025-08-05T14:38:57.512914Z",
     "iopub.status.busy": "2025-08-05T14:38:57.512463Z",
     "iopub.status.idle": "2025-08-05T14:38:57.519664Z",
     "shell.execute_reply": "2025-08-05T14:38:57.518637Z"
    },
    "papermill": {
     "duration": 0.037455,
     "end_time": "2025-08-05T14:38:57.521630",
     "exception": false,
     "start_time": "2025-08-05T14:38:57.484175",
     "status": "completed"
    },
    "tags": []
   },
   "outputs": [],
   "source": [
    "for subgroup, cov in cond_coverage.items():\n",
    "    cp_metrics_df[f\"cov_{subgroup}\"] = cov"
   ]
  },
  {
   "cell_type": "code",
   "execution_count": 66,
   "id": "6e872e10-dbe5-49e8-b554-5030c98ff75d",
   "metadata": {
    "execution": {
     "iopub.execute_input": "2025-08-05T14:38:57.569749Z",
     "iopub.status.busy": "2025-08-05T14:38:57.569343Z",
     "iopub.status.idle": "2025-08-05T14:38:57.586354Z",
     "shell.execute_reply": "2025-08-05T14:38:57.585528Z"
    },
    "papermill": {
     "duration": 0.043525,
     "end_time": "2025-08-05T14:38:57.587950",
     "exception": false,
     "start_time": "2025-08-05T14:38:57.544425",
     "status": "completed"
    },
    "tags": []
   },
   "outputs": [
    {
     "data": {
      "text/html": [
       "<div>\n",
       "<style scoped>\n",
       "    .dataframe tbody tr th:only-of-type {\n",
       "        vertical-align: middle;\n",
       "    }\n",
       "\n",
       "    .dataframe tbody tr th {\n",
       "        vertical-align: top;\n",
       "    }\n",
       "\n",
       "    .dataframe thead th {\n",
       "        text-align: right;\n",
       "    }\n",
       "</style>\n",
       "<table border=\"1\" class=\"dataframe\">\n",
       "  <thead>\n",
       "    <tr style=\"text-align: right;\">\n",
       "      <th></th>\n",
       "      <th>universe_id</th>\n",
       "      <th>universe_training_year</th>\n",
       "      <th>universe_training_size</th>\n",
       "      <th>universe_scale</th>\n",
       "      <th>universe_model</th>\n",
       "      <th>universe_exclude_features</th>\n",
       "      <th>universe_exclude_subgroups</th>\n",
       "      <th>q_hat</th>\n",
       "      <th>coverage</th>\n",
       "      <th>avg_size</th>\n",
       "      <th>cov_frau1</th>\n",
       "      <th>cov_nongerman</th>\n",
       "      <th>cov_nongerman_male</th>\n",
       "      <th>cov_nongerman_female</th>\n",
       "    </tr>\n",
       "  </thead>\n",
       "  <tbody>\n",
       "    <tr>\n",
       "      <th>0</th>\n",
       "      <td>559e3560cba9c70345d30626a247d3fe</td>\n",
       "      <td>2014</td>\n",
       "      <td>25k</td>\n",
       "      <td>scale</td>\n",
       "      <td>elasticnet</td>\n",
       "      <td>nationality</td>\n",
       "      <td>keep-all</td>\n",
       "      <td>0.675665</td>\n",
       "      <td>0.912395</td>\n",
       "      <td>1.125304</td>\n",
       "      <td>0.911201</td>\n",
       "      <td>0.91248</td>\n",
       "      <td>0.928037</td>\n",
       "      <td>0.886736</td>\n",
       "    </tr>\n",
       "  </tbody>\n",
       "</table>\n",
       "</div>"
      ],
      "text/plain": [
       "                        universe_id universe_training_year  \\\n",
       "0  559e3560cba9c70345d30626a247d3fe                   2014   \n",
       "\n",
       "  universe_training_size universe_scale universe_model  \\\n",
       "0                    25k          scale     elasticnet   \n",
       "\n",
       "  universe_exclude_features universe_exclude_subgroups     q_hat  coverage  \\\n",
       "0               nationality                   keep-all  0.675665  0.912395   \n",
       "\n",
       "   avg_size  cov_frau1  cov_nongerman  cov_nongerman_male  \\\n",
       "0  1.125304   0.911201        0.91248            0.928037   \n",
       "\n",
       "   cov_nongerman_female  \n",
       "0              0.886736  "
      ]
     },
     "execution_count": 66,
     "metadata": {},
     "output_type": "execute_result"
    }
   ],
   "source": [
    "cp_metrics_df"
   ]
  },
  {
   "cell_type": "markdown",
   "id": "33774451",
   "metadata": {
    "papermill": {
     "duration": 0.024895,
     "end_time": "2025-08-05T14:38:57.636023",
     "exception": false,
     "start_time": "2025-08-05T14:38:57.611128",
     "status": "completed"
    },
    "tags": []
   },
   "source": [
    "# (Fairness) Metrics"
   ]
  },
  {
   "cell_type": "code",
   "execution_count": 67,
   "id": "debc5d62",
   "metadata": {
    "execution": {
     "iopub.execute_input": "2025-08-05T14:38:57.682776Z",
     "iopub.status.busy": "2025-08-05T14:38:57.682038Z",
     "iopub.status.idle": "2025-08-05T14:38:57.705405Z",
     "shell.execute_reply": "2025-08-05T14:38:57.703916Z"
    },
    "papermill": {
     "duration": 0.049421,
     "end_time": "2025-08-05T14:38:57.707746",
     "exception": false,
     "start_time": "2025-08-05T14:38:57.658325",
     "status": "completed"
    },
    "tags": []
   },
   "outputs": [],
   "source": [
    "# do I need to include maxdeutsch1.missing?\n",
    "\n",
    "import numpy as np\n",
    "\n",
    "colname_to_bin = \"maxdeutsch1\"\n",
    "majority_value = org_train[colname_to_bin].mode()[0]\n",
    "\n",
    "org_test[\"majmin\"] = np.where(org_test[colname_to_bin] == majority_value, \"majority\", \"minority\")"
   ]
  },
  {
   "cell_type": "code",
   "execution_count": 68,
   "id": "06a50de5",
   "metadata": {
    "execution": {
     "iopub.execute_input": "2025-08-05T14:38:57.756982Z",
     "iopub.status.busy": "2025-08-05T14:38:57.756307Z",
     "iopub.status.idle": "2025-08-05T14:38:59.998577Z",
     "shell.execute_reply": "2025-08-05T14:38:59.997855Z"
    },
    "papermill": {
     "duration": 2.268145,
     "end_time": "2025-08-05T14:39:00.000063",
     "exception": false,
     "start_time": "2025-08-05T14:38:57.731918",
     "status": "completed"
    },
    "tags": []
   },
   "outputs": [],
   "source": [
    "example_universe = universe.copy()\n",
    "example_universe[\"cutoff\"] = example_universe[\"cutoff\"][0]\n",
    "example_universe[\"eval_fairness_grouping\"] = example_universe[\"eval_fairness_grouping\"][0]\n",
    "fairness_dict, metric_frame = universe_analysis.compute_metrics(\n",
    "    example_universe,\n",
    "    y_pred_prob=probs_test,\n",
    "    y_test=y_true,\n",
    "    org_test=org_test,\n",
    ")"
   ]
  },
  {
   "cell_type": "markdown",
   "id": "f95d4e02",
   "metadata": {
    "papermill": {
     "duration": 0.013175,
     "end_time": "2025-08-05T14:39:00.026917",
     "exception": false,
     "start_time": "2025-08-05T14:39:00.013742",
     "status": "completed"
    },
    "tags": []
   },
   "source": [
    "# Overall"
   ]
  },
  {
   "cell_type": "markdown",
   "id": "bdee4871",
   "metadata": {
    "papermill": {
     "duration": 0.01348,
     "end_time": "2025-08-05T14:39:00.053757",
     "exception": false,
     "start_time": "2025-08-05T14:39:00.040277",
     "status": "completed"
    },
    "tags": []
   },
   "source": [
    "Fairness\n",
    "Main fairness target: Equalized Odds. Seems to be a better fit than equal opportunity, since we're not only interested in Y = 1. Seems to be a better fit than demographic parity, since we also care about accuracy, not just equal distribution of preds.\n",
    "\n",
    "Pick column for computation of fairness metrics\n",
    "\n",
    "Performance\n",
    "Overall performance measures, most interesting in relation to the measures split by group below"
   ]
  },
  {
   "cell_type": "code",
   "execution_count": 69,
   "id": "c4e067c6",
   "metadata": {
    "execution": {
     "iopub.execute_input": "2025-08-05T14:39:00.080941Z",
     "iopub.status.busy": "2025-08-05T14:39:00.080239Z",
     "iopub.status.idle": "2025-08-05T14:39:00.087506Z",
     "shell.execute_reply": "2025-08-05T14:39:00.086694Z"
    },
    "papermill": {
     "duration": 0.022271,
     "end_time": "2025-08-05T14:39:00.088948",
     "exception": false,
     "start_time": "2025-08-05T14:39:00.066677",
     "status": "completed"
    },
    "tags": []
   },
   "outputs": [
    {
     "data": {
      "text/plain": [
       "accuracy                   0.225516\n",
       "balanced accuracy          0.551177\n",
       "f1                         0.246816\n",
       "precision                  0.140998\n",
       "false positive rate        0.886870\n",
       "false negative rate        0.010775\n",
       "selection rate             0.900000\n",
       "count                  89710.000000\n",
       "dtype: float64"
      ]
     },
     "execution_count": 69,
     "metadata": {},
     "output_type": "execute_result"
    }
   ],
   "source": [
    "metric_frame.overall"
   ]
  },
  {
   "cell_type": "markdown",
   "id": "e968fe9d",
   "metadata": {
    "papermill": {
     "duration": 0.016928,
     "end_time": "2025-08-05T14:39:00.119454",
     "exception": false,
     "start_time": "2025-08-05T14:39:00.102526",
     "status": "completed"
    },
    "tags": []
   },
   "source": [
    "By Group"
   ]
  },
  {
   "cell_type": "code",
   "execution_count": 70,
   "id": "ec325bce",
   "metadata": {
    "execution": {
     "iopub.execute_input": "2025-08-05T14:39:00.147113Z",
     "iopub.status.busy": "2025-08-05T14:39:00.146430Z",
     "iopub.status.idle": "2025-08-05T14:39:00.158752Z",
     "shell.execute_reply": "2025-08-05T14:39:00.157867Z"
    },
    "papermill": {
     "duration": 0.027804,
     "end_time": "2025-08-05T14:39:00.160180",
     "exception": false,
     "start_time": "2025-08-05T14:39:00.132376",
     "status": "completed"
    },
    "tags": []
   },
   "outputs": [
    {
     "data": {
      "text/html": [
       "<div>\n",
       "<style scoped>\n",
       "    .dataframe tbody tr th:only-of-type {\n",
       "        vertical-align: middle;\n",
       "    }\n",
       "\n",
       "    .dataframe tbody tr th {\n",
       "        vertical-align: top;\n",
       "    }\n",
       "\n",
       "    .dataframe thead th {\n",
       "        text-align: right;\n",
       "    }\n",
       "</style>\n",
       "<table border=\"1\" class=\"dataframe\">\n",
       "  <thead>\n",
       "    <tr style=\"text-align: right;\">\n",
       "      <th></th>\n",
       "      <th>accuracy</th>\n",
       "      <th>balanced accuracy</th>\n",
       "      <th>f1</th>\n",
       "      <th>precision</th>\n",
       "      <th>false positive rate</th>\n",
       "      <th>false negative rate</th>\n",
       "      <th>selection rate</th>\n",
       "      <th>count</th>\n",
       "    </tr>\n",
       "    <tr>\n",
       "      <th>majmin</th>\n",
       "      <th></th>\n",
       "      <th></th>\n",
       "      <th></th>\n",
       "      <th></th>\n",
       "      <th></th>\n",
       "      <th></th>\n",
       "      <th></th>\n",
       "      <th></th>\n",
       "    </tr>\n",
       "  </thead>\n",
       "  <tbody>\n",
       "    <tr>\n",
       "      <th>majority</th>\n",
       "      <td>0.247159</td>\n",
       "      <td>0.561166</td>\n",
       "      <td>0.257507</td>\n",
       "      <td>0.148047</td>\n",
       "      <td>0.865634</td>\n",
       "      <td>0.012035</td>\n",
       "      <td>0.881798</td>\n",
       "      <td>69170.0</td>\n",
       "    </tr>\n",
       "    <tr>\n",
       "      <th>minority</th>\n",
       "      <td>0.152629</td>\n",
       "      <td>0.518533</td>\n",
       "      <td>0.212906</td>\n",
       "      <td>0.119220</td>\n",
       "      <td>0.957022</td>\n",
       "      <td>0.005912</td>\n",
       "      <td>0.961295</td>\n",
       "      <td>20540.0</td>\n",
       "    </tr>\n",
       "  </tbody>\n",
       "</table>\n",
       "</div>"
      ],
      "text/plain": [
       "          accuracy  balanced accuracy        f1  precision  \\\n",
       "majmin                                                       \n",
       "majority  0.247159           0.561166  0.257507   0.148047   \n",
       "minority  0.152629           0.518533  0.212906   0.119220   \n",
       "\n",
       "          false positive rate  false negative rate  selection rate    count  \n",
       "majmin                                                                       \n",
       "majority             0.865634             0.012035        0.881798  69170.0  \n",
       "minority             0.957022             0.005912        0.961295  20540.0  "
      ]
     },
     "execution_count": 70,
     "metadata": {},
     "output_type": "execute_result"
    }
   ],
   "source": [
    "metric_frame.by_group"
   ]
  },
  {
   "cell_type": "code",
   "execution_count": 71,
   "id": "a9ddbe63",
   "metadata": {
    "execution": {
     "iopub.execute_input": "2025-08-05T14:39:00.212790Z",
     "iopub.status.busy": "2025-08-05T14:39:00.212399Z",
     "iopub.status.idle": "2025-08-05T14:39:02.467143Z",
     "shell.execute_reply": "2025-08-05T14:39:02.466440Z"
    },
    "papermill": {
     "duration": 2.282841,
     "end_time": "2025-08-05T14:39:02.468425",
     "exception": false,
     "start_time": "2025-08-05T14:39:00.185584",
     "status": "completed"
    },
    "tags": []
   },
   "outputs": [
    {
     "data": {
      "text/plain": [
       "array([[<Axes: title={'center': 'accuracy'}, xlabel='majmin'>,\n",
       "        <Axes: title={'center': 'balanced accuracy'}, xlabel='majmin'>,\n",
       "        <Axes: title={'center': 'f1'}, xlabel='majmin'>],\n",
       "       [<Axes: title={'center': 'precision'}, xlabel='majmin'>,\n",
       "        <Axes: title={'center': 'false positive rate'}, xlabel='majmin'>,\n",
       "        <Axes: title={'center': 'false negative rate'}, xlabel='majmin'>],\n",
       "       [<Axes: title={'center': 'selection rate'}, xlabel='majmin'>,\n",
       "        <Axes: title={'center': 'count'}, xlabel='majmin'>,\n",
       "        <Axes: xlabel='majmin'>]], dtype=object)"
      ]
     },
     "execution_count": 71,
     "metadata": {},
     "output_type": "execute_result"
    },
    {
     "data": {
      "image/png": "[encoded data removed]",
      "text/plain": [
       "<Figure size 1200x800 with 9 Axes>"
      ]
     },
     "metadata": {},
     "output_type": "display_data"
    }
   ],
   "source": [
    "# In a graphic\n",
    "metric_frame.by_group.plot.bar(\n",
    "    subplots=True,\n",
    "    layout=[3, 3],\n",
    "    legend=False,\n",
    "    figsize=[12, 8],\n",
    "    title=\"Show all metrics\",\n",
    ")"
   ]
  },
  {
   "cell_type": "markdown",
   "id": "f57a0bac",
   "metadata": {
    "papermill": {
     "duration": 0.0139,
     "end_time": "2025-08-05T14:39:02.496904",
     "exception": false,
     "start_time": "2025-08-05T14:39:02.483004",
     "status": "completed"
    },
    "tags": []
   },
   "source": [
    "# Final Output"
   ]
  },
  {
   "cell_type": "code",
   "execution_count": 72,
   "id": "96d280a3",
   "metadata": {
    "execution": {
     "iopub.execute_input": "2025-08-05T14:39:02.535744Z",
     "iopub.status.busy": "2025-08-05T14:39:02.535357Z",
     "iopub.status.idle": "2025-08-05T14:39:02.541768Z",
     "shell.execute_reply": "2025-08-05T14:39:02.541087Z"
    },
    "papermill": {
     "duration": 0.027265,
     "end_time": "2025-08-05T14:39:02.542960",
     "exception": false,
     "start_time": "2025-08-05T14:39:02.515695",
     "status": "completed"
    },
    "tags": []
   },
   "outputs": [
    {
     "data": {
      "text/plain": [
       "4"
      ]
     },
     "execution_count": 72,
     "metadata": {},
     "output_type": "execute_result"
    }
   ],
   "source": [
    "sub_universes = universe_analysis.generate_sub_universes()\n",
    "len(sub_universes)"
   ]
  },
  {
   "cell_type": "code",
   "execution_count": 73,
   "id": "92adf7ba",
   "metadata": {
    "execution": {
     "iopub.execute_input": "2025-08-05T14:39:02.572031Z",
     "iopub.status.busy": "2025-08-05T14:39:02.571813Z",
     "iopub.status.idle": "2025-08-05T14:39:02.582001Z",
     "shell.execute_reply": "2025-08-05T14:39:02.580895Z"
    },
    "papermill": {
     "duration": 0.029695,
     "end_time": "2025-08-05T14:39:02.586632",
     "exception": false,
     "start_time": "2025-08-05T14:39:02.556937",
     "status": "completed"
    },
    "tags": []
   },
   "outputs": [],
   "source": [
    "def filter_sub_universe_data(sub_universe, org_test):\n",
    "    # Keep all rows — no filtering\n",
    "    keep_rows_mask = np.ones(org_test.shape[0], dtype=bool)\n",
    "\n",
    "    print(f\"[INFO] Keeping all rows: {keep_rows_mask.sum()} rows retained.\")\n",
    "    return keep_rows_mask"
   ]
  },
  {
   "cell_type": "code",
   "execution_count": 74,
   "id": "4a759155",
   "metadata": {
    "execution": {
     "iopub.execute_input": "2025-08-05T14:39:02.639167Z",
     "iopub.status.busy": "2025-08-05T14:39:02.638578Z",
     "iopub.status.idle": "2025-08-05T14:39:11.206003Z",
     "shell.execute_reply": "2025-08-05T14:39:11.205204Z"
    },
    "papermill": {
     "duration": 8.594839,
     "end_time": "2025-08-05T14:39:11.207279",
     "exception": false,
     "start_time": "2025-08-05T14:39:02.612440",
     "status": "completed"
    },
    "tags": []
   },
   "outputs": [
    {
     "name": "stdout",
     "output_type": "stream",
     "text": [
      "Stopping execution_time clock.\n",
      "[INFO] Keeping all rows: 89710 rows retained.\n"
     ]
    },
    {
     "name": "stdout",
     "output_type": "stream",
     "text": [
      "[INFO] Keeping all rows: 89710 rows retained.\n"
     ]
    },
    {
     "name": "stdout",
     "output_type": "stream",
     "text": [
      "[INFO] Keeping all rows: 89710 rows retained.\n"
     ]
    },
    {
     "name": "stdout",
     "output_type": "stream",
     "text": [
      "[INFO] Keeping all rows: 89710 rows retained.\n"
     ]
    },
    {
     "data": {
      "text/html": [
       "<div>\n",
       "<style scoped>\n",
       "    .dataframe tbody tr th:only-of-type {\n",
       "        vertical-align: middle;\n",
       "    }\n",
       "\n",
       "    .dataframe tbody tr th {\n",
       "        vertical-align: top;\n",
       "    }\n",
       "\n",
       "    .dataframe thead th {\n",
       "        text-align: right;\n",
       "    }\n",
       "</style>\n",
       "<table border=\"1\" class=\"dataframe\">\n",
       "  <thead>\n",
       "    <tr style=\"text-align: right;\">\n",
       "      <th></th>\n",
       "      <th>run_no</th>\n",
       "      <th>universe_id</th>\n",
       "      <th>universe_settings</th>\n",
       "      <th>execution_time</th>\n",
       "      <th>test_size_n</th>\n",
       "      <th>test_size_frac</th>\n",
       "      <th>fair_main_equalized_odds_difference</th>\n",
       "      <th>fair_main_equalized_odds_ratio</th>\n",
       "      <th>fair_main_demographic_parity_difference</th>\n",
       "      <th>fair_main_demographic_parity_ratio</th>\n",
       "      <th>...</th>\n",
       "      <th>perf_grp_precision_0</th>\n",
       "      <th>perf_grp_precision_1</th>\n",
       "      <th>perf_grp_false positive rate_0</th>\n",
       "      <th>perf_grp_false positive rate_1</th>\n",
       "      <th>perf_grp_false negative rate_0</th>\n",
       "      <th>perf_grp_false negative rate_1</th>\n",
       "      <th>perf_grp_selection rate_0</th>\n",
       "      <th>perf_grp_selection rate_1</th>\n",
       "      <th>perf_grp_count_0</th>\n",
       "      <th>perf_grp_count_1</th>\n",
       "    </tr>\n",
       "  </thead>\n",
       "  <tbody>\n",
       "    <tr>\n",
       "      <th>0</th>\n",
       "      <td>15</td>\n",
       "      <td>559e3560cba9c70345d30626a247d3fe</td>\n",
       "      <td>{\"cutoff\": \"quantile_0.1\", \"eval_fairness_grou...</td>\n",
       "      <td>31.644991</td>\n",
       "      <td>89710</td>\n",
       "      <td>1.0</td>\n",
       "      <td>0.091388</td>\n",
       "      <td>0.904508</td>\n",
       "      <td>0.079497</td>\n",
       "      <td>0.917303</td>\n",
       "      <td>...</td>\n",
       "      <td>NaN</td>\n",
       "      <td>NaN</td>\n",
       "      <td>NaN</td>\n",
       "      <td>NaN</td>\n",
       "      <td>NaN</td>\n",
       "      <td>NaN</td>\n",
       "      <td>NaN</td>\n",
       "      <td>NaN</td>\n",
       "      <td>NaN</td>\n",
       "      <td>NaN</td>\n",
       "    </tr>\n",
       "    <tr>\n",
       "      <th>0</th>\n",
       "      <td>15</td>\n",
       "      <td>559e3560cba9c70345d30626a247d3fe</td>\n",
       "      <td>{\"cutoff\": \"quantile_0.1\", \"eval_fairness_grou...</td>\n",
       "      <td>31.644991</td>\n",
       "      <td>89710</td>\n",
       "      <td>1.0</td>\n",
       "      <td>0.091388</td>\n",
       "      <td>0.904508</td>\n",
       "      <td>0.079497</td>\n",
       "      <td>0.917303</td>\n",
       "      <td>...</td>\n",
       "      <td>0.119220</td>\n",
       "      <td>0.148047</td>\n",
       "      <td>0.957022</td>\n",
       "      <td>0.865634</td>\n",
       "      <td>0.005912</td>\n",
       "      <td>0.012035</td>\n",
       "      <td>0.961295</td>\n",
       "      <td>0.881798</td>\n",
       "      <td>20540.0</td>\n",
       "      <td>69170.0</td>\n",
       "    </tr>\n",
       "    <tr>\n",
       "      <th>0</th>\n",
       "      <td>15</td>\n",
       "      <td>559e3560cba9c70345d30626a247d3fe</td>\n",
       "      <td>{\"cutoff\": \"quantile_0.25\", \"eval_fairness_gro...</td>\n",
       "      <td>31.644991</td>\n",
       "      <td>89710</td>\n",
       "      <td>1.0</td>\n",
       "      <td>0.170210</td>\n",
       "      <td>0.799958</td>\n",
       "      <td>0.147824</td>\n",
       "      <td>0.828902</td>\n",
       "      <td>...</td>\n",
       "      <td>NaN</td>\n",
       "      <td>NaN</td>\n",
       "      <td>NaN</td>\n",
       "      <td>NaN</td>\n",
       "      <td>NaN</td>\n",
       "      <td>NaN</td>\n",
       "      <td>NaN</td>\n",
       "      <td>NaN</td>\n",
       "      <td>NaN</td>\n",
       "      <td>NaN</td>\n",
       "    </tr>\n",
       "    <tr>\n",
       "      <th>0</th>\n",
       "      <td>15</td>\n",
       "      <td>559e3560cba9c70345d30626a247d3fe</td>\n",
       "      <td>{\"cutoff\": \"quantile_0.25\", \"eval_fairness_gro...</td>\n",
       "      <td>31.644991</td>\n",
       "      <td>89710</td>\n",
       "      <td>1.0</td>\n",
       "      <td>0.170210</td>\n",
       "      <td>0.799958</td>\n",
       "      <td>0.147824</td>\n",
       "      <td>0.828902</td>\n",
       "      <td>...</td>\n",
       "      <td>0.128705</td>\n",
       "      <td>0.175145</td>\n",
       "      <td>0.850869</td>\n",
       "      <td>0.680660</td>\n",
       "      <td>0.035473</td>\n",
       "      <td>0.050766</td>\n",
       "      <td>0.863973</td>\n",
       "      <td>0.716149</td>\n",
       "      <td>20540.0</td>\n",
       "      <td>69170.0</td>\n",
       "    </tr>\n",
       "  </tbody>\n",
       "</table>\n",
       "<p>4 rows × 50 columns</p>\n",
       "</div>"
      ],
      "text/plain": [
       "  run_no                       universe_id  \\\n",
       "0     15  559e3560cba9c70345d30626a247d3fe   \n",
       "0     15  559e3560cba9c70345d30626a247d3fe   \n",
       "0     15  559e3560cba9c70345d30626a247d3fe   \n",
       "0     15  559e3560cba9c70345d30626a247d3fe   \n",
       "\n",
       "                                   universe_settings  execution_time  \\\n",
       "0  {\"cutoff\": \"quantile_0.1\", \"eval_fairness_grou...       31.644991   \n",
       "0  {\"cutoff\": \"quantile_0.1\", \"eval_fairness_grou...       31.644991   \n",
       "0  {\"cutoff\": \"quantile_0.25\", \"eval_fairness_gro...       31.644991   \n",
       "0  {\"cutoff\": \"quantile_0.25\", \"eval_fairness_gro...       31.644991   \n",
       "\n",
       "   test_size_n  test_size_frac  fair_main_equalized_odds_difference  \\\n",
       "0        89710             1.0                             0.091388   \n",
       "0        89710             1.0                             0.091388   \n",
       "0        89710             1.0                             0.170210   \n",
       "0        89710             1.0                             0.170210   \n",
       "\n",
       "   fair_main_equalized_odds_ratio  fair_main_demographic_parity_difference  \\\n",
       "0                        0.904508                                 0.079497   \n",
       "0                        0.904508                                 0.079497   \n",
       "0                        0.799958                                 0.147824   \n",
       "0                        0.799958                                 0.147824   \n",
       "\n",
       "   fair_main_demographic_parity_ratio  ...  perf_grp_precision_0  \\\n",
       "0                            0.917303  ...                   NaN   \n",
       "0                            0.917303  ...              0.119220   \n",
       "0                            0.828902  ...                   NaN   \n",
       "0                            0.828902  ...              0.128705   \n",
       "\n",
       "   perf_grp_precision_1  perf_grp_false positive rate_0  \\\n",
       "0                   NaN                             NaN   \n",
       "0              0.148047                        0.957022   \n",
       "0                   NaN                             NaN   \n",
       "0              0.175145                        0.850869   \n",
       "\n",
       "   perf_grp_false positive rate_1  perf_grp_false negative rate_0  \\\n",
       "0                             NaN                             NaN   \n",
       "0                        0.865634                        0.005912   \n",
       "0                             NaN                             NaN   \n",
       "0                        0.680660                        0.035473   \n",
       "\n",
       "   perf_grp_false negative rate_1  perf_grp_selection rate_0  \\\n",
       "0                             NaN                        NaN   \n",
       "0                        0.012035                   0.961295   \n",
       "0                             NaN                        NaN   \n",
       "0                        0.050766                   0.863973   \n",
       "\n",
       "   perf_grp_selection rate_1  perf_grp_count_0  perf_grp_count_1  \n",
       "0                        NaN               NaN               NaN  \n",
       "0                   0.881798           20540.0           69170.0  \n",
       "0                        NaN               NaN               NaN  \n",
       "0                   0.716149           20540.0           69170.0  \n",
       "\n",
       "[4 rows x 50 columns]"
      ]
     },
     "execution_count": 74,
     "metadata": {},
     "output_type": "execute_result"
    }
   ],
   "source": [
    "final_output = universe_analysis.generate_final_output(\n",
    "    y_pred_prob=probs_test,\n",
    "    y_test=y_true,\n",
    "    org_test=org_test,\n",
    "    filter_data=filter_sub_universe_data,\n",
    "    cp_metrics_df=cp_metrics_df,\n",
    "    save=True,\n",
    ")\n",
    "final_output"
   ]
  },
  {
   "cell_type": "code",
   "execution_count": null,
   "id": "721ff514-cb11-46f8-b6fc-50392f74b5cb",
   "metadata": {
    "papermill": {
     "duration": 0.014546,
     "end_time": "2025-08-05T14:39:11.239715",
     "exception": false,
     "start_time": "2025-08-05T14:39:11.225169",
     "status": "completed"
    },
    "tags": []
   },
   "outputs": [],
   "source": []
  }
 ],
 "metadata": {
  "celltoolbar": "Tags",
  "kernelspec": {
   "display_name": "Python (CMA Fairness)",
   "language": "python",
   "name": "cma_fair_env"
  },
  "language_info": {
   "codemirror_mode": {
    "name": "ipython",
    "version": 3
   },
   "file_extension": ".py",
   "mimetype": "text/x-python",
   "name": "python",
   "nbconvert_exporter": "python",
   "pygments_lexer": "ipython3",
   "version": "3.10.12"
  },
  "papermill": {
   "default_parameters": {},
   "duration": 44.042935,
   "end_time": "2025-08-05T14:39:11.871282",
   "environment_variables": {},
   "exception": null,
   "input_path": "universe_analysis.ipynb",
   "output_path": "output/runs/15/notebooks/m_15-559e3560cba9c70345d30626a247d3fe.ipynb",
   "parameters": {
    "output_dir": "output",
    "run_no": "15",
    "seed": "2023",
    "universe": "{\"cutoff\": [\"quantile_0.1\", \"quantile_0.25\"], \"eval_fairness_grouping\": [\"majority-minority\", \"nationality-all\"], \"exclude_features\": \"nationality\", \"exclude_subgroups\": \"keep-all\", \"model\": \"elasticnet\", \"scale\": \"scale\", \"training_size\": \"25k\", \"training_year\": \"2014\"}",
    "universe_id": "559e3560cba9c70345d30626a247d3fe"
   },
   "start_time": "2025-08-05T14:38:27.828347",
   "version": "2.6.0"
  }
 },
 "nbformat": 4,
 "nbformat_minor": 5
}