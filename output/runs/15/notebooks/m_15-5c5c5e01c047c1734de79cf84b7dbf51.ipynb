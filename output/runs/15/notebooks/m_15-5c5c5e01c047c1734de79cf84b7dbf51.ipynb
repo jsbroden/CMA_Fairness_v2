{
 "cells": [
  {
   "cell_type": "code",
   "execution_count": 1,
   "id": "f159f837-637b-42ba-96b5-ec9a68c44524",
   "metadata": {
    "execution": {
     "iopub.execute_input": "2025-08-05T15:14:11.413761Z",
     "iopub.status.busy": "2025-08-05T15:14:11.413263Z",
     "iopub.status.idle": "2025-08-05T15:14:11.429176Z",
     "shell.execute_reply": "2025-08-05T15:14:11.428094Z"
    },
    "papermill": {
     "duration": 0.042186,
     "end_time": "2025-08-05T15:14:11.432420",
     "exception": false,
     "start_time": "2025-08-05T15:14:11.390234",
     "status": "completed"
    },
    "tags": []
   },
   "outputs": [
    {
     "name": "stdout",
     "output_type": "stream",
     "text": [
      "/dss/dsshome1/0C/ra93lal2/cma/CMA_Fairness_v2\n"
     ]
    },
    {
     "name": "stderr",
     "output_type": "stream",
     "text": [
      "/dss/dsshome1/0C/ra93lal2/.local/share/virtualenvs/CMA_Fairness_v2-3j10GkSs/lib/python3.10/site-packages/IPython/core/magics/osm.py:393: UserWarning: This is now an optional IPython functionality, using bookmarks requires you to install the `pickleshare` library.\n",
      "  bkms = self.shell.db.get('bookmarks', {})\n",
      "/dss/dsshome1/0C/ra93lal2/.local/share/virtualenvs/CMA_Fairness_v2-3j10GkSs/lib/python3.10/site-packages/IPython/core/magics/osm.py:417: UserWarning: This is now an optional IPython functionality, setting dhist requires you to install the `pickleshare` library.\n",
      "  self.shell.db['dhist'] = compress_dhist(dhist)[-100:]\n"
     ]
    }
   ],
   "source": [
    "%cd ~/cma/CMA_Fairness_v2"
   ]
  },
  {
   "cell_type": "markdown",
   "id": "de2603b9",
   "metadata": {
    "papermill": {
     "duration": 0.021631,
     "end_time": "2025-08-05T15:14:11.475160",
     "exception": false,
     "start_time": "2025-08-05T15:14:11.453529",
     "status": "completed"
    },
    "tags": []
   },
   "source": [
    "The following cell holds the definition of our parameters, these values can be overriden by rendering the with e.g. the following command:\n",
    "\n",
    "papermill -p alpha 0.2 -p ratio 0.3 universe_analysis.ipynb output/test_run.ipynb"
   ]
  },
  {
   "cell_type": "code",
   "execution_count": 2,
   "id": "a80968a0-40bb-4fa9-85ef-2d5eefb01975",
   "metadata": {
    "execution": {
     "iopub.execute_input": "2025-08-05T15:14:11.526962Z",
     "iopub.status.busy": "2025-08-05T15:14:11.526504Z",
     "iopub.status.idle": "2025-08-05T15:14:11.536775Z",
     "shell.execute_reply": "2025-08-05T15:14:11.536077Z"
    },
    "papermill": {
     "duration": 0.042298,
     "end_time": "2025-08-05T15:14:11.538251",
     "exception": false,
     "start_time": "2025-08-05T15:14:11.495953",
     "status": "completed"
    },
    "tags": []
   },
   "outputs": [
    {
     "name": "stdout",
     "output_type": "stream",
     "text": [
      "Current working directory: /dss/dsshome1/0C/ra93lal2/cma/CMA_Fairness_v2\n"
     ]
    }
   ],
   "source": [
    "import os\n",
    "print(\"Current working directory:\", os.getcwd())"
   ]
  },
  {
   "cell_type": "code",
   "execution_count": 3,
   "id": "2dce4c03",
   "metadata": {
    "execution": {
     "iopub.execute_input": "2025-08-05T15:14:11.559314Z",
     "iopub.status.busy": "2025-08-05T15:14:11.558474Z",
     "iopub.status.idle": "2025-08-05T15:14:11.563993Z",
     "shell.execute_reply": "2025-08-05T15:14:11.563214Z"
    },
    "papermill": {
     "duration": 0.017653,
     "end_time": "2025-08-05T15:14:11.565694",
     "exception": false,
     "start_time": "2025-08-05T15:14:11.548041",
     "status": "completed"
    },
    "tags": [
     "parameters"
    ]
   },
   "outputs": [],
   "source": [
    "run_no = 0\n",
    "universe_id = \"test\"\n",
    "universe = {\n",
    "    \"training_size\": \"25k\", # \"25k\", \"5k\", \"1k\"\n",
    "    \"training_year\": \"2014\", # \"2014\", \"2012_14\", \"2010_14\"\n",
    "    \"scale\": \"scale\", # \"scale\", \"do-not-scale\",\n",
    "    \"model\": \"elasticnet\", # \"logreg\", \"penalized_logreg\", \"rf\", \"gbm\", \"elasticnet\"\n",
    "    \"cutoff\": [\"quantile_0.15\", \"quantile_0.30\"],\n",
    "    \"exclude_features\": \"age\", # \"none\", \"nationality\", \"sex\", \"nationality-sex\", \"age\"\n",
    "    \"exclude_subgroups\": \"keep-all\", # \"keep-all\", \"drop-non-german\"\n",
    "    \"eval_fairness_grouping\": [\"majority-minority\", \"nationality-all\"]\n",
    "}\n",
    "\n",
    "output_dir=\"./output\"\n",
    "seed=0"
   ]
  },
  {
   "cell_type": "code",
   "execution_count": 4,
   "id": "69e0f7f9",
   "metadata": {
    "execution": {
     "iopub.execute_input": "2025-08-05T15:14:11.608716Z",
     "iopub.status.busy": "2025-08-05T15:14:11.608353Z",
     "iopub.status.idle": "2025-08-05T15:14:11.615016Z",
     "shell.execute_reply": "2025-08-05T15:14:11.613850Z"
    },
    "papermill": {
     "duration": 0.030628,
     "end_time": "2025-08-05T15:14:11.617251",
     "exception": false,
     "start_time": "2025-08-05T15:14:11.586623",
     "status": "completed"
    },
    "tags": [
     "injected-parameters"
    ]
   },
   "outputs": [],
   "source": [
    "# Parameters\n",
    "universe_id = \"5c5c5e01c047c1734de79cf84b7dbf51\"\n",
    "run_no = \"15\"\n",
    "universe = \"{\\\"cutoff\\\": [\\\"quantile_0.1\\\", \\\"quantile_0.25\\\"], \\\"eval_fairness_grouping\\\": [\\\"majority-minority\\\", \\\"nationality-all\\\"], \\\"exclude_features\\\": \\\"nationality-sex\\\", \\\"exclude_subgroups\\\": \\\"keep-all\\\", \\\"model\\\": \\\"penalized_logreg\\\", \\\"scale\\\": \\\"do-not-scale\\\", \\\"training_size\\\": \\\"25k\\\", \\\"training_year\\\": \\\"2010_14\\\"}\"\n",
    "output_dir = \"output\"\n",
    "seed = \"2023\"\n"
   ]
  },
  {
   "cell_type": "code",
   "execution_count": 5,
   "id": "1650acaf",
   "metadata": {
    "execution": {
     "iopub.execute_input": "2025-08-05T15:14:11.660532Z",
     "iopub.status.busy": "2025-08-05T15:14:11.660059Z",
     "iopub.status.idle": "2025-08-05T15:14:11.665318Z",
     "shell.execute_reply": "2025-08-05T15:14:11.664292Z"
    },
    "papermill": {
     "duration": 0.028933,
     "end_time": "2025-08-05T15:14:11.667296",
     "exception": false,
     "start_time": "2025-08-05T15:14:11.638363",
     "status": "completed"
    },
    "tags": []
   },
   "outputs": [],
   "source": [
    "import json\n",
    "if isinstance(universe, str):\n",
    "    universe = json.loads(universe)"
   ]
  },
  {
   "cell_type": "code",
   "execution_count": 6,
   "id": "16620c48",
   "metadata": {
    "execution": {
     "iopub.execute_input": "2025-08-05T15:14:11.711330Z",
     "iopub.status.busy": "2025-08-05T15:14:11.710419Z",
     "iopub.status.idle": "2025-08-05T15:14:11.757406Z",
     "shell.execute_reply": "2025-08-05T15:14:11.756412Z"
    },
    "papermill": {
     "duration": 0.07089,
     "end_time": "2025-08-05T15:14:11.759550",
     "exception": false,
     "start_time": "2025-08-05T15:14:11.688660",
     "status": "completed"
    },
    "tags": []
   },
   "outputs": [],
   "source": [
    "# Auto-reload the custom package\n",
    "%load_ext autoreload\n",
    "%autoreload 1\n",
    "%aimport fairness_multiverse"
   ]
  },
  {
   "cell_type": "code",
   "execution_count": 7,
   "id": "01c5c9f3",
   "metadata": {
    "execution": {
     "iopub.execute_input": "2025-08-05T15:14:11.802587Z",
     "iopub.status.busy": "2025-08-05T15:14:11.801865Z",
     "iopub.status.idle": "2025-08-05T15:14:13.689732Z",
     "shell.execute_reply": "2025-08-05T15:14:13.688713Z"
    },
    "papermill": {
     "duration": 1.912377,
     "end_time": "2025-08-05T15:14:13.691677",
     "exception": false,
     "start_time": "2025-08-05T15:14:11.779300",
     "status": "completed"
    },
    "tags": []
   },
   "outputs": [],
   "source": [
    "from fairness_multiverse.universe import UniverseAnalysis\n",
    "\n",
    "universe_analysis = UniverseAnalysis(\n",
    "    run_no = run_no,\n",
    "    universe_id = universe_id,\n",
    "    universe = universe,\n",
    "    output_dir=output_dir,\n",
    ")"
   ]
  },
  {
   "cell_type": "code",
   "execution_count": 8,
   "id": "106241f5",
   "metadata": {
    "execution": {
     "iopub.execute_input": "2025-08-05T15:14:13.723208Z",
     "iopub.status.busy": "2025-08-05T15:14:13.722672Z",
     "iopub.status.idle": "2025-08-05T15:14:13.729997Z",
     "shell.execute_reply": "2025-08-05T15:14:13.728863Z"
    },
    "papermill": {
     "duration": 0.023859,
     "end_time": "2025-08-05T15:14:13.731684",
     "exception": false,
     "start_time": "2025-08-05T15:14:13.707825",
     "status": "completed"
    },
    "tags": []
   },
   "outputs": [
    {
     "name": "stdout",
     "output_type": "stream",
     "text": [
      "Using Seed: 2023\n"
     ]
    }
   ],
   "source": [
    "import numpy as np\n",
    "parsed_seed = int(seed)\n",
    "np.random.seed(parsed_seed)\n",
    "print(f\"Using Seed: {parsed_seed}\")"
   ]
  },
  {
   "cell_type": "markdown",
   "id": "e0ebdc57",
   "metadata": {
    "papermill": {
     "duration": 0.016085,
     "end_time": "2025-08-05T15:14:13.765990",
     "exception": false,
     "start_time": "2025-08-05T15:14:13.749905",
     "status": "completed"
    },
    "tags": []
   },
   "source": [
    "# Loading Data"
   ]
  },
  {
   "cell_type": "code",
   "execution_count": 9,
   "id": "f0496b8a",
   "metadata": {
    "execution": {
     "iopub.execute_input": "2025-08-05T15:14:13.801333Z",
     "iopub.status.busy": "2025-08-05T15:14:13.800983Z",
     "iopub.status.idle": "2025-08-05T15:14:26.116535Z",
     "shell.execute_reply": "2025-08-05T15:14:26.115342Z"
    },
    "papermill": {
     "duration": 12.336085,
     "end_time": "2025-08-05T15:14:26.118408",
     "exception": false,
     "start_time": "2025-08-05T15:14:13.782323",
     "status": "completed"
    },
    "tags": []
   },
   "outputs": [
    {
     "name": "stdout",
     "output_type": "stream",
     "text": [
      "Loading SIAB data from cache: data/siab_cached.csv.gz\n"
     ]
    },
    {
     "name": "stdout",
     "output_type": "stream",
     "text": [
      "(643690, 164)\n"
     ]
    }
   ],
   "source": [
    "from pathlib import Path\n",
    "import pandas as pd\n",
    "\n",
    "# File paths\n",
    "raw_file = Path(\"data/raw/siab.csv\")\n",
    "cache_file = Path(\"data/siab_cached.csv.gz\")\n",
    "\n",
    "# Ensure cache directory exists\n",
    "cache_file.parent.mkdir(parents=True, exist_ok=True)\n",
    "\n",
    "# Load with simple caching\n",
    "if cache_file.exists():\n",
    "    print(f\"Loading SIAB data from cache: {cache_file}\")\n",
    "    siab = pd.read_csv(cache_file, compression='gzip')\n",
    "else:\n",
    "    print(f\"Cache not found. Reading raw SIAB data: {raw_file}\")\n",
    "    siab = pd.read_csv(raw_file)\n",
    "    siab.to_csv(cache_file, index=False, compression='gzip')\n",
    "    print(f\"Cached SIAB data to: {cache_file}\")\n",
    "\n",
    "print(siab.shape)"
   ]
  },
  {
   "cell_type": "code",
   "execution_count": 10,
   "id": "db0ca512-5f53-4dba-abdb-a2888bca41ba",
   "metadata": {
    "execution": {
     "iopub.execute_input": "2025-08-05T15:14:26.162539Z",
     "iopub.status.busy": "2025-08-05T15:14:26.161983Z",
     "iopub.status.idle": "2025-08-05T15:14:26.168456Z",
     "shell.execute_reply": "2025-08-05T15:14:26.167299Z"
    },
    "papermill": {
     "duration": 0.031056,
     "end_time": "2025-08-05T15:14:26.170533",
     "exception": false,
     "start_time": "2025-08-05T15:14:26.139477",
     "status": "completed"
    },
    "tags": []
   },
   "outputs": [],
   "source": [
    "#siab"
   ]
  },
  {
   "cell_type": "markdown",
   "id": "997051c5-15bd-4b69-9786-c3001a3ce484",
   "metadata": {
    "papermill": {
     "duration": 0.024052,
     "end_time": "2025-08-05T15:14:26.218293",
     "exception": false,
     "start_time": "2025-08-05T15:14:26.194241",
     "status": "completed"
    },
    "tags": []
   },
   "source": [
    "# Splitting Data and Setting Training Data Size"
   ]
  },
  {
   "cell_type": "code",
   "execution_count": 11,
   "id": "aea9c6ef-6f46-42c8-85eb-5a62025c1508",
   "metadata": {
    "execution": {
     "iopub.execute_input": "2025-08-05T15:14:26.253035Z",
     "iopub.status.busy": "2025-08-05T15:14:26.252299Z",
     "iopub.status.idle": "2025-08-05T15:14:27.319493Z",
     "shell.execute_reply": "2025-08-05T15:14:27.318404Z"
    },
    "papermill": {
     "duration": 1.08109,
     "end_time": "2025-08-05T15:14:27.321526",
     "exception": false,
     "start_time": "2025-08-05T15:14:26.240436",
     "status": "completed"
    },
    "tags": []
   },
   "outputs": [],
   "source": [
    "from fairness_multiverse.universe import sample_by_year_size\n",
    "\n",
    "siab_train = sample_by_year_size(siab,\n",
    "                               training_year=universe[\"training_year\"],\n",
    "                               training_size=universe[\"training_size\"])"
   ]
  },
  {
   "cell_type": "code",
   "execution_count": 12,
   "id": "8d3afb32-789d-442c-8d5d-9f5aa8dd2eed",
   "metadata": {
    "execution": {
     "iopub.execute_input": "2025-08-05T15:14:27.363393Z",
     "iopub.status.busy": "2025-08-05T15:14:27.362707Z",
     "iopub.status.idle": "2025-08-05T15:14:27.368415Z",
     "shell.execute_reply": "2025-08-05T15:14:27.367259Z"
    },
    "papermill": {
     "duration": 0.028908,
     "end_time": "2025-08-05T15:14:27.370904",
     "exception": false,
     "start_time": "2025-08-05T15:14:27.341996",
     "status": "completed"
    },
    "tags": []
   },
   "outputs": [],
   "source": [
    "#siab_train.shape"
   ]
  },
  {
   "cell_type": "code",
   "execution_count": 13,
   "id": "d582db68-1a4c-47fb-84fc-08518dc1975a",
   "metadata": {
    "execution": {
     "iopub.execute_input": "2025-08-05T15:14:27.421549Z",
     "iopub.status.busy": "2025-08-05T15:14:27.420561Z",
     "iopub.status.idle": "2025-08-05T15:14:27.427283Z",
     "shell.execute_reply": "2025-08-05T15:14:27.426054Z"
    },
    "papermill": {
     "duration": 0.033648,
     "end_time": "2025-08-05T15:14:27.429614",
     "exception": false,
     "start_time": "2025-08-05T15:14:27.395966",
     "status": "completed"
    },
    "tags": []
   },
   "outputs": [],
   "source": [
    "#display(siab_train.groupby(\"year\").size())"
   ]
  },
  {
   "cell_type": "code",
   "execution_count": 14,
   "id": "a561edb4-d032-42cb-8256-22eac1111c64",
   "metadata": {
    "execution": {
     "iopub.execute_input": "2025-08-05T15:14:27.475128Z",
     "iopub.status.busy": "2025-08-05T15:14:27.474625Z",
     "iopub.status.idle": "2025-08-05T15:14:27.726821Z",
     "shell.execute_reply": "2025-08-05T15:14:27.725648Z"
    },
    "papermill": {
     "duration": 0.277392,
     "end_time": "2025-08-05T15:14:27.729076",
     "exception": false,
     "start_time": "2025-08-05T15:14:27.451684",
     "status": "completed"
    },
    "tags": []
   },
   "outputs": [],
   "source": [
    "#siab_train = siab_s[siab_s.year < 2015]\n",
    "siab_calib = siab[siab.year == 2015]\n",
    "siab_test = siab[siab.year == 2016]"
   ]
  },
  {
   "cell_type": "code",
   "execution_count": 15,
   "id": "472de16f-c3db-4916-846b-1f0de9cf1746",
   "metadata": {
    "execution": {
     "iopub.execute_input": "2025-08-05T15:14:27.773497Z",
     "iopub.status.busy": "2025-08-05T15:14:27.772812Z",
     "iopub.status.idle": "2025-08-05T15:14:27.800128Z",
     "shell.execute_reply": "2025-08-05T15:14:27.799038Z"
    },
    "papermill": {
     "duration": 0.051381,
     "end_time": "2025-08-05T15:14:27.802234",
     "exception": false,
     "start_time": "2025-08-05T15:14:27.750853",
     "status": "completed"
    },
    "tags": []
   },
   "outputs": [],
   "source": [
    "X_train = siab_train.iloc[:,4:164]\n",
    "y_train = siab_train.iloc[:, [3]]"
   ]
  },
  {
   "cell_type": "code",
   "execution_count": 16,
   "id": "828c96af-f43a-4ed6-ba47-8ac73a47d56c",
   "metadata": {
    "execution": {
     "iopub.execute_input": "2025-08-05T15:14:27.847156Z",
     "iopub.status.busy": "2025-08-05T15:14:27.846435Z",
     "iopub.status.idle": "2025-08-05T15:14:27.899997Z",
     "shell.execute_reply": "2025-08-05T15:14:27.898863Z"
    },
    "papermill": {
     "duration": 0.078008,
     "end_time": "2025-08-05T15:14:27.901995",
     "exception": false,
     "start_time": "2025-08-05T15:14:27.823987",
     "status": "completed"
    },
    "tags": []
   },
   "outputs": [],
   "source": [
    "X_calib = siab_calib.iloc[:,4:164]\n",
    "y_calib = siab_calib.iloc[:, [3]]"
   ]
  },
  {
   "cell_type": "code",
   "execution_count": 17,
   "id": "c34be9c3-6bd6-476e-acd3-845840e303be",
   "metadata": {
    "execution": {
     "iopub.execute_input": "2025-08-05T15:14:27.947781Z",
     "iopub.status.busy": "2025-08-05T15:14:27.946724Z",
     "iopub.status.idle": "2025-08-05T15:14:28.004149Z",
     "shell.execute_reply": "2025-08-05T15:14:28.002931Z"
    },
    "papermill": {
     "duration": 0.082145,
     "end_time": "2025-08-05T15:14:28.006434",
     "exception": false,
     "start_time": "2025-08-05T15:14:27.924289",
     "status": "completed"
    },
    "tags": []
   },
   "outputs": [],
   "source": [
    "X_test = siab_test.iloc[:,4:164]\n",
    "y_true = siab_test.iloc[:, [3]]"
   ]
  },
  {
   "cell_type": "code",
   "execution_count": 18,
   "id": "e6c733c5",
   "metadata": {
    "execution": {
     "iopub.execute_input": "2025-08-05T15:14:28.059739Z",
     "iopub.status.busy": "2025-08-05T15:14:28.059070Z",
     "iopub.status.idle": "2025-08-05T15:14:28.163619Z",
     "shell.execute_reply": "2025-08-05T15:14:28.162435Z"
    },
    "papermill": {
     "duration": 0.133593,
     "end_time": "2025-08-05T15:14:28.166073",
     "exception": false,
     "start_time": "2025-08-05T15:14:28.032480",
     "status": "completed"
    },
    "tags": []
   },
   "outputs": [],
   "source": [
    "# Auxiliary data needed downstream in the pipeline\n",
    "\n",
    "org_train = X_train.copy()\n",
    "org_test = X_test.copy()\n",
    "org_calib = X_calib.copy()"
   ]
  },
  {
   "cell_type": "markdown",
   "id": "0a4a1b33",
   "metadata": {
    "papermill": {
     "duration": 0.024922,
     "end_time": "2025-08-05T15:14:28.217048",
     "exception": false,
     "start_time": "2025-08-05T15:14:28.192126",
     "status": "completed"
    },
    "tags": []
   },
   "source": [
    "# Preprocessing Data"
   ]
  },
  {
   "cell_type": "code",
   "execution_count": 19,
   "id": "ca879031",
   "metadata": {
    "execution": {
     "iopub.execute_input": "2025-08-05T15:14:28.268575Z",
     "iopub.status.busy": "2025-08-05T15:14:28.268051Z",
     "iopub.status.idle": "2025-08-05T15:14:28.274725Z",
     "shell.execute_reply": "2025-08-05T15:14:28.273785Z"
    },
    "papermill": {
     "duration": 0.034577,
     "end_time": "2025-08-05T15:14:28.276495",
     "exception": false,
     "start_time": "2025-08-05T15:14:28.241918",
     "status": "completed"
    },
    "tags": []
   },
   "outputs": [],
   "source": [
    "# EXCLUDE PROTECTED FEATURES\n",
    "# ----------------------\n",
    "# \"exclude_features\": \"none\", # \"nationality\", \"sex\", \"nationality-sex\"\n",
    "\n",
    "excluded_features = universe[\"exclude_features\"].split(\"-\") # split, e.g.: \"nationality-sex\" -> [\"nationality\", \"sex\"]\n",
    "excluded_features_dictionary = {\n",
    "    \"nationality\": [\"maxdeutsch1\", \"maxdeutsch.Missing.\"],\n",
    "    \"sex\": [\"frau1\"],\n",
    "    \"age\": [\"age\"],\n",
    "}"
   ]
  },
  {
   "cell_type": "code",
   "execution_count": 20,
   "id": "b745ac60",
   "metadata": {
    "execution": {
     "iopub.execute_input": "2025-08-05T15:14:28.312122Z",
     "iopub.status.busy": "2025-08-05T15:14:28.311629Z",
     "iopub.status.idle": "2025-08-05T15:14:28.317381Z",
     "shell.execute_reply": "2025-08-05T15:14:28.316335Z"
    },
    "papermill": {
     "duration": 0.025298,
     "end_time": "2025-08-05T15:14:28.319528",
     "exception": false,
     "start_time": "2025-08-05T15:14:28.294230",
     "status": "completed"
    },
    "tags": []
   },
   "outputs": [],
   "source": [
    "# Code nice names to column names\n",
    "\n",
    "excluded_features_columns = [\n",
    "    excluded_features_dictionary[f] for f in excluded_features if len(f) > 0 and f != \"none\"\n",
    "]"
   ]
  },
  {
   "cell_type": "code",
   "execution_count": 21,
   "id": "f84f73a2",
   "metadata": {
    "execution": {
     "iopub.execute_input": "2025-08-05T15:14:28.373235Z",
     "iopub.status.busy": "2025-08-05T15:14:28.372669Z",
     "iopub.status.idle": "2025-08-05T15:14:28.380519Z",
     "shell.execute_reply": "2025-08-05T15:14:28.379299Z"
    },
    "papermill": {
     "duration": 0.036959,
     "end_time": "2025-08-05T15:14:28.382790",
     "exception": false,
     "start_time": "2025-08-05T15:14:28.345831",
     "status": "completed"
    },
    "tags": []
   },
   "outputs": [],
   "source": [
    "from utils import flatten_once\n",
    "\n",
    "excluded_features_columns = flatten_once(excluded_features_columns)"
   ]
  },
  {
   "cell_type": "code",
   "execution_count": 22,
   "id": "884dea22",
   "metadata": {
    "execution": {
     "iopub.execute_input": "2025-08-05T15:14:28.435901Z",
     "iopub.status.busy": "2025-08-05T15:14:28.435379Z",
     "iopub.status.idle": "2025-08-05T15:14:28.451859Z",
     "shell.execute_reply": "2025-08-05T15:14:28.450547Z"
    },
    "papermill": {
     "duration": 0.046118,
     "end_time": "2025-08-05T15:14:28.455043",
     "exception": false,
     "start_time": "2025-08-05T15:14:28.408925",
     "status": "completed"
    },
    "tags": []
   },
   "outputs": [
    {
     "name": "stdout",
     "output_type": "stream",
     "text": [
      "Dropping features: ['maxdeutsch1', 'maxdeutsch.Missing.', 'frau1']\n"
     ]
    }
   ],
   "source": [
    "if len(excluded_features_columns) > 0:\n",
    "    print(f\"Dropping features: {excluded_features_columns}\")\n",
    "    X_train.drop(excluded_features_columns, axis=1, inplace=True)"
   ]
  },
  {
   "cell_type": "code",
   "execution_count": 23,
   "id": "95ab8b16",
   "metadata": {
    "execution": {
     "iopub.execute_input": "2025-08-05T15:14:28.497243Z",
     "iopub.status.busy": "2025-08-05T15:14:28.496790Z",
     "iopub.status.idle": "2025-08-05T15:14:28.555004Z",
     "shell.execute_reply": "2025-08-05T15:14:28.553944Z"
    },
    "papermill": {
     "duration": 0.078277,
     "end_time": "2025-08-05T15:14:28.556777",
     "exception": false,
     "start_time": "2025-08-05T15:14:28.478500",
     "status": "completed"
    },
    "tags": []
   },
   "outputs": [
    {
     "name": "stdout",
     "output_type": "stream",
     "text": [
      "Dropping features: ['maxdeutsch1', 'maxdeutsch.Missing.', 'frau1']\n"
     ]
    }
   ],
   "source": [
    "if len(excluded_features_columns) > 0:\n",
    "    print(f\"Dropping features: {excluded_features_columns}\")\n",
    "    X_test.drop(excluded_features_columns, axis=1, inplace=True)"
   ]
  },
  {
   "cell_type": "code",
   "execution_count": 24,
   "id": "1853aaf5-fb9f-46cb-a2b5-8ea4ae2237e4",
   "metadata": {
    "execution": {
     "iopub.execute_input": "2025-08-05T15:14:28.599563Z",
     "iopub.status.busy": "2025-08-05T15:14:28.598713Z",
     "iopub.status.idle": "2025-08-05T15:14:28.652177Z",
     "shell.execute_reply": "2025-08-05T15:14:28.651323Z"
    },
    "papermill": {
     "duration": 0.076477,
     "end_time": "2025-08-05T15:14:28.653829",
     "exception": false,
     "start_time": "2025-08-05T15:14:28.577352",
     "status": "completed"
    },
    "tags": []
   },
   "outputs": [
    {
     "name": "stdout",
     "output_type": "stream",
     "text": [
      "Dropping features: ['maxdeutsch1', 'maxdeutsch.Missing.', 'frau1']\n"
     ]
    }
   ],
   "source": [
    "if len(excluded_features_columns) > 0:\n",
    "    print(f\"Dropping features: {excluded_features_columns}\")\n",
    "    X_calib.drop(excluded_features_columns, axis=1, inplace=True)"
   ]
  },
  {
   "cell_type": "code",
   "execution_count": 25,
   "id": "76c4dc6d",
   "metadata": {
    "execution": {
     "iopub.execute_input": "2025-08-05T15:14:28.684665Z",
     "iopub.status.busy": "2025-08-05T15:14:28.684127Z",
     "iopub.status.idle": "2025-08-05T15:14:28.690608Z",
     "shell.execute_reply": "2025-08-05T15:14:28.689308Z"
    },
    "papermill": {
     "duration": 0.027943,
     "end_time": "2025-08-05T15:14:28.692706",
     "exception": false,
     "start_time": "2025-08-05T15:14:28.664763",
     "status": "completed"
    },
    "tags": []
   },
   "outputs": [],
   "source": [
    "# EXCLUDE CERTAIN SUBGROUPS\n",
    "# ----------------------\n",
    "\n",
    "mode = universe.get(\"exclude_subgroups\", \"keep-all\") \n",
    "# Fetches the exclude_subgroups setting from the universe dict.\n",
    "# Defaults to \"keep-all\" if the key is missing."
   ]
  },
  {
   "cell_type": "code",
   "execution_count": 26,
   "id": "21994072",
   "metadata": {
    "execution": {
     "iopub.execute_input": "2025-08-05T15:14:28.723942Z",
     "iopub.status.busy": "2025-08-05T15:14:28.723386Z",
     "iopub.status.idle": "2025-08-05T15:14:28.730937Z",
     "shell.execute_reply": "2025-08-05T15:14:28.729811Z"
    },
    "papermill": {
     "duration": 0.022063,
     "end_time": "2025-08-05T15:14:28.732882",
     "exception": false,
     "start_time": "2025-08-05T15:14:28.710819",
     "status": "completed"
    },
    "tags": []
   },
   "outputs": [],
   "source": [
    "if mode == \"keep-all\":\n",
    "    keep_mask = pd.Series(True, index=org_train.index)\n",
    "\n",
    "# org_train contains the original feature columns from features_org (in Simson)\n",
    "# features_org contains unprocessed features, for me X_train at beginning ???\n",
    "# For keep-all, creates a boolean Series (keep_mask) of all True, so no rows are removed.\n",
    "\n",
    "elif mode == \"drop-non-german\":\n",
    "    keep_mask = org_train[\"maxdeutsch1\"] == 1 # ??? what about missing values?\n",
    "\n",
    "else:\n",
    "    raise ValueError(f\"Unsupported mode for exclude_subgroups: {mode}\")"
   ]
  },
  {
   "cell_type": "code",
   "execution_count": 27,
   "id": "71651440",
   "metadata": {
    "execution": {
     "iopub.execute_input": "2025-08-05T15:14:28.775321Z",
     "iopub.status.busy": "2025-08-05T15:14:28.774319Z",
     "iopub.status.idle": "2025-08-05T15:14:28.782936Z",
     "shell.execute_reply": "2025-08-05T15:14:28.781460Z"
    },
    "papermill": {
     "duration": 0.032144,
     "end_time": "2025-08-05T15:14:28.785101",
     "exception": false,
     "start_time": "2025-08-05T15:14:28.752957",
     "status": "completed"
    },
    "tags": []
   },
   "outputs": [],
   "source": [
    "n_drop = (~keep_mask).sum() # Calculates how many rows are set to be dropped\n",
    "if n_drop > 0:\n",
    "    pct = n_drop / len(keep_mask) * 100\n",
    "    print(f\"Dropping {n_drop} rows ({pct:.2f}%) where mode='{mode}'\")"
   ]
  },
  {
   "cell_type": "code",
   "execution_count": 28,
   "id": "5fb8eee5",
   "metadata": {
    "execution": {
     "iopub.execute_input": "2025-08-05T15:14:28.826387Z",
     "iopub.status.busy": "2025-08-05T15:14:28.825925Z",
     "iopub.status.idle": "2025-08-05T15:14:28.841183Z",
     "shell.execute_reply": "2025-08-05T15:14:28.840077Z"
    },
    "papermill": {
     "duration": 0.038269,
     "end_time": "2025-08-05T15:14:28.843491",
     "exception": false,
     "start_time": "2025-08-05T15:14:28.805222",
     "status": "completed"
    },
    "tags": []
   },
   "outputs": [],
   "source": [
    "X_train = X_train[keep_mask]"
   ]
  },
  {
   "cell_type": "code",
   "execution_count": 29,
   "id": "b202bb3a",
   "metadata": {
    "execution": {
     "iopub.execute_input": "2025-08-05T15:14:28.887033Z",
     "iopub.status.busy": "2025-08-05T15:14:28.886370Z",
     "iopub.status.idle": "2025-08-05T15:14:28.893258Z",
     "shell.execute_reply": "2025-08-05T15:14:28.892249Z"
    },
    "papermill": {
     "duration": 0.030652,
     "end_time": "2025-08-05T15:14:28.895311",
     "exception": false,
     "start_time": "2025-08-05T15:14:28.864659",
     "status": "completed"
    },
    "tags": []
   },
   "outputs": [],
   "source": [
    "y_train = y_train[keep_mask]"
   ]
  },
  {
   "cell_type": "markdown",
   "id": "493e2ac3",
   "metadata": {
    "papermill": {
     "duration": 0.020536,
     "end_time": "2025-08-05T15:14:28.936943",
     "exception": false,
     "start_time": "2025-08-05T15:14:28.916407",
     "status": "completed"
    },
    "tags": []
   },
   "source": [
    "# Model Training"
   ]
  },
  {
   "cell_type": "code",
   "execution_count": 30,
   "id": "679e1268",
   "metadata": {
    "execution": {
     "iopub.execute_input": "2025-08-05T15:14:28.979151Z",
     "iopub.status.busy": "2025-08-05T15:14:28.978636Z",
     "iopub.status.idle": "2025-08-05T15:14:29.085092Z",
     "shell.execute_reply": "2025-08-05T15:14:29.084120Z"
    },
    "papermill": {
     "duration": 0.129669,
     "end_time": "2025-08-05T15:14:29.086856",
     "exception": false,
     "start_time": "2025-08-05T15:14:28.957187",
     "status": "completed"
    },
    "tags": []
   },
   "outputs": [],
   "source": [
    "from sklearn.linear_model import LogisticRegression\n",
    "from sklearn.ensemble import GradientBoostingClassifier, RandomForestClassifier\n",
    "\n",
    "if (universe[\"model\"] == \"logreg\"):\n",
    "    model = LogisticRegression() #penalty=\"none\", solver=\"newton-cg\", max_iter=1) # include random_state=19 ?\n",
    "elif (universe[\"model\"] == \"penalized_logreg\"):\n",
    "    model = LogisticRegression(penalty=\"l2\", C=0.1) #, solver=\"newton-cg\", max_iter=1)\n",
    "elif (universe[\"model\"] == \"rf\"):\n",
    "    model = RandomForestClassifier() # n_estimators=100, n_jobs=-1\n",
    "elif (universe[\"model\"] == \"gbm\"):\n",
    "    model = GradientBoostingClassifier()\n",
    "elif (universe[\"model\"] == \"elasticnet\"):\n",
    "    model = LogisticRegression(penalty = 'elasticnet', solver = 'saga', l1_ratio = 0.5) # max_iter=5000\n",
    "else:\n",
    "    raise \"Unsupported universe.model\""
   ]
  },
  {
   "cell_type": "code",
   "execution_count": 31,
   "id": "0cc8f744",
   "metadata": {
    "execution": {
     "iopub.execute_input": "2025-08-05T15:14:29.108208Z",
     "iopub.status.busy": "2025-08-05T15:14:29.107817Z",
     "iopub.status.idle": "2025-08-05T15:14:29.114012Z",
     "shell.execute_reply": "2025-08-05T15:14:29.112992Z"
    },
    "papermill": {
     "duration": 0.018668,
     "end_time": "2025-08-05T15:14:29.115819",
     "exception": false,
     "start_time": "2025-08-05T15:14:29.097151",
     "status": "completed"
    },
    "tags": []
   },
   "outputs": [],
   "source": [
    "import numpy as np\n",
    "from sklearn.pipeline import Pipeline\n",
    "from sklearn.preprocessing import StandardScaler\n",
    "\n",
    "model = Pipeline([\n",
    "    #(\"continuous_processor\", continuous_processor),\n",
    "    #(\"categorical_preprocessor\", categorical_preprocessor),\n",
    "    (\"scale\", StandardScaler() if universe[\"scale\"] == \"scale\" else None), \n",
    "    (\"model\", model),\n",
    "])"
   ]
  },
  {
   "cell_type": "code",
   "execution_count": 32,
   "id": "9442c04d",
   "metadata": {
    "execution": {
     "iopub.execute_input": "2025-08-05T15:14:29.157202Z",
     "iopub.status.busy": "2025-08-05T15:14:29.156728Z",
     "iopub.status.idle": "2025-08-05T15:14:30.062818Z",
     "shell.execute_reply": "2025-08-05T15:14:30.061661Z"
    },
    "papermill": {
     "duration": 0.927878,
     "end_time": "2025-08-05T15:14:30.064458",
     "exception": false,
     "start_time": "2025-08-05T15:14:29.136580",
     "status": "completed"
    },
    "tags": []
   },
   "outputs": [
    {
     "name": "stderr",
     "output_type": "stream",
     "text": [
      "/dss/dsshome1/0C/ra93lal2/.local/share/virtualenvs/CMA_Fairness_v2-3j10GkSs/lib/python3.10/site-packages/sklearn/linear_model/_logistic.py:444: ConvergenceWarning: lbfgs failed to converge (status=1):\n",
      "STOP: TOTAL NO. of ITERATIONS REACHED LIMIT.\n",
      "\n",
      "Increase the number of iterations (max_iter) or scale the data as shown in:\n",
      "    https://scikit-learn.org/stable/modules/preprocessing.html\n",
      "Please also refer to the documentation for alternative solver options:\n",
      "    https://scikit-learn.org/stable/modules/linear_model.html#logistic-regression\n",
      "  n_iter_i = _check_optimize_result(\n"
     ]
    },
    {
     "data": {
      "text/html": [
       "<style>#sk-container-id-1 {color: black;background-color: white;}#sk-container-id-1 pre{padding: 0;}#sk-container-id-1 div.sk-toggleable {background-color: white;}#sk-container-id-1 label.sk-toggleable__label {cursor: pointer;display: block;width: 100%;margin-bottom: 0;padding: 0.3em;box-sizing: border-box;text-align: center;}#sk-container-id-1 label.sk-toggleable__label-arrow:before {content: \"▸\";float: left;margin-right: 0.25em;color: #696969;}#sk-container-id-1 label.sk-toggleable__label-arrow:hover:before {color: black;}#sk-container-id-1 div.sk-estimator:hover label.sk-toggleable__label-arrow:before {color: black;}#sk-container-id-1 div.sk-toggleable__content {max-height: 0;max-width: 0;overflow: hidden;text-align: left;background-color: #f0f8ff;}#sk-container-id-1 div.sk-toggleable__content pre {margin: 0.2em;color: black;border-radius: 0.25em;background-color: #f0f8ff;}#sk-container-id-1 input.sk-toggleable__control:checked~div.sk-toggleable__content {max-height: 200px;max-width: 100%;overflow: auto;}#sk-container-id-1 input.sk-toggleable__control:checked~label.sk-toggleable__label-arrow:before {content: \"▾\";}#sk-container-id-1 div.sk-estimator input.sk-toggleable__control:checked~label.sk-toggleable__label {background-color: #d4ebff;}#sk-container-id-1 div.sk-label input.sk-toggleable__control:checked~label.sk-toggleable__label {background-color: #d4ebff;}#sk-container-id-1 input.sk-hidden--visually {border: 0;clip: rect(1px 1px 1px 1px);clip: rect(1px, 1px, 1px, 1px);height: 1px;margin: -1px;overflow: hidden;padding: 0;position: absolute;width: 1px;}#sk-container-id-1 div.sk-estimator {font-family: monospace;background-color: #f0f8ff;border: 1px dotted black;border-radius: 0.25em;box-sizing: border-box;margin-bottom: 0.5em;}#sk-container-id-1 div.sk-estimator:hover {background-color: #d4ebff;}#sk-container-id-1 div.sk-parallel-item::after {content: \"\";width: 100%;border-bottom: 1px solid gray;flex-grow: 1;}#sk-container-id-1 div.sk-label:hover label.sk-toggleable__label {background-color: #d4ebff;}#sk-container-id-1 div.sk-serial::before {content: \"\";position: absolute;border-left: 1px solid gray;box-sizing: border-box;top: 0;bottom: 0;left: 50%;z-index: 0;}#sk-container-id-1 div.sk-serial {display: flex;flex-direction: column;align-items: center;background-color: white;padding-right: 0.2em;padding-left: 0.2em;position: relative;}#sk-container-id-1 div.sk-item {position: relative;z-index: 1;}#sk-container-id-1 div.sk-parallel {display: flex;align-items: stretch;justify-content: center;background-color: white;position: relative;}#sk-container-id-1 div.sk-item::before, #sk-container-id-1 div.sk-parallel-item::before {content: \"\";position: absolute;border-left: 1px solid gray;box-sizing: border-box;top: 0;bottom: 0;left: 50%;z-index: -1;}#sk-container-id-1 div.sk-parallel-item {display: flex;flex-direction: column;z-index: 1;position: relative;background-color: white;}#sk-container-id-1 div.sk-parallel-item:first-child::after {align-self: flex-end;width: 50%;}#sk-container-id-1 div.sk-parallel-item:last-child::after {align-self: flex-start;width: 50%;}#sk-container-id-1 div.sk-parallel-item:only-child::after {width: 0;}#sk-container-id-1 div.sk-dashed-wrapped {border: 1px dashed gray;margin: 0 0.4em 0.5em 0.4em;box-sizing: border-box;padding-bottom: 0.4em;background-color: white;}#sk-container-id-1 div.sk-label label {font-family: monospace;font-weight: bold;display: inline-block;line-height: 1.2em;}#sk-container-id-1 div.sk-label-container {text-align: center;}#sk-container-id-1 div.sk-container {/* jupyter's `normalize.less` sets `[hidden] { display: none; }` but bootstrap.min.css set `[hidden] { display: none !important; }` so we also need the `!important` here to be able to override the default hidden behavior on the sphinx rendered scikit-learn.org. See: https://github.com/scikit-learn/scikit-learn/issues/21755 */display: inline-block !important;position: relative;}#sk-container-id-1 div.sk-text-repr-fallback {display: none;}</style><div id=\"sk-container-id-1\" class=\"sk-top-container\"><div class=\"sk-text-repr-fallback\"><pre>Pipeline(steps=[(&#x27;scale&#x27;, None), (&#x27;model&#x27;, LogisticRegression(C=0.1))])</pre><b>In a Jupyter environment, please rerun this cell to show the HTML representation or trust the notebook. <br />On GitHub, the HTML representation is unable to render, please try loading this page with nbviewer.org.</b></div><div class=\"sk-container\" hidden><div class=\"sk-item sk-dashed-wrapped\"><div class=\"sk-label-container\"><div class=\"sk-label sk-toggleable\"><input class=\"sk-toggleable__control sk-hidden--visually\" id=\"sk-estimator-id-1\" type=\"checkbox\" ><label for=\"sk-estimator-id-1\" class=\"sk-toggleable__label sk-toggleable__label-arrow\">Pipeline</label><div class=\"sk-toggleable__content\"><pre>Pipeline(steps=[(&#x27;scale&#x27;, None), (&#x27;model&#x27;, LogisticRegression(C=0.1))])</pre></div></div></div><div class=\"sk-serial\"><div class=\"sk-item\"><div class=\"sk-estimator sk-toggleable\"><input class=\"sk-toggleable__control sk-hidden--visually\" id=\"sk-estimator-id-2\" type=\"checkbox\" ><label for=\"sk-estimator-id-2\" class=\"sk-toggleable__label sk-toggleable__label-arrow\">None</label><div class=\"sk-toggleable__content\"><pre>None</pre></div></div></div><div class=\"sk-item\"><div class=\"sk-estimator sk-toggleable\"><input class=\"sk-toggleable__control sk-hidden--visually\" id=\"sk-estimator-id-3\" type=\"checkbox\" ><label for=\"sk-estimator-id-3\" class=\"sk-toggleable__label sk-toggleable__label-arrow\">LogisticRegression</label><div class=\"sk-toggleable__content\"><pre>LogisticRegression(C=0.1)</pre></div></div></div></div></div></div></div>"
      ],
      "text/plain": [
       "Pipeline(steps=[('scale', None), ('model', LogisticRegression(C=0.1))])"
      ]
     },
     "execution_count": 32,
     "metadata": {},
     "output_type": "execute_result"
    }
   ],
   "source": [
    "model.fit(X_train, y_train.values.ravel())"
   ]
  },
  {
   "cell_type": "code",
   "execution_count": 33,
   "id": "af59f8c0",
   "metadata": {
    "execution": {
     "iopub.execute_input": "2025-08-05T15:14:30.108973Z",
     "iopub.status.busy": "2025-08-05T15:14:30.108463Z",
     "iopub.status.idle": "2025-08-05T15:14:30.113369Z",
     "shell.execute_reply": "2025-08-05T15:14:30.112581Z"
    },
    "papermill": {
     "duration": 0.028926,
     "end_time": "2025-08-05T15:14:30.114642",
     "exception": false,
     "start_time": "2025-08-05T15:14:30.085716",
     "status": "completed"
    },
    "tags": []
   },
   "outputs": [],
   "source": [
    "from fairness_multiverse.universe import predict_w_threshold"
   ]
  },
  {
   "cell_type": "code",
   "execution_count": 34,
   "id": "a7cf2e16",
   "metadata": {
    "execution": {
     "iopub.execute_input": "2025-08-05T15:14:30.137434Z",
     "iopub.status.busy": "2025-08-05T15:14:30.137161Z",
     "iopub.status.idle": "2025-08-05T15:14:30.223669Z",
     "shell.execute_reply": "2025-08-05T15:14:30.222979Z"
    },
    "papermill": {
     "duration": 0.09875,
     "end_time": "2025-08-05T15:14:30.224940",
     "exception": false,
     "start_time": "2025-08-05T15:14:30.126190",
     "status": "completed"
    },
    "tags": []
   },
   "outputs": [
    {
     "data": {
      "text/plain": [
       "0.8575075242447887"
      ]
     },
     "execution_count": 34,
     "metadata": {},
     "output_type": "execute_result"
    }
   ],
   "source": [
    "probs_test = model.predict_proba(X_test)\n",
    "\n",
    "'''\n",
    "Below code returns a boolean array (or binary 0/1 array depending on how it’s used) where each element \n",
    "is True if the probability of class 1 is greater than or equal to the threshold, and False otherwise.\n",
    "'''\n",
    "y_pred_default = predict_w_threshold(probs_test, 0.5)\n",
    "\n",
    "from sklearn.metrics import accuracy_score\n",
    "\n",
    "# Naive prediction\n",
    "accuracy_score(y_true = y_true, y_pred = y_pred_default)"
   ]
  },
  {
   "cell_type": "code",
   "execution_count": 35,
   "id": "081964c3",
   "metadata": {
    "execution": {
     "iopub.execute_input": "2025-08-05T15:14:30.249366Z",
     "iopub.status.busy": "2025-08-05T15:14:30.248941Z",
     "iopub.status.idle": "2025-08-05T15:14:30.335624Z",
     "shell.execute_reply": "2025-08-05T15:14:30.334692Z"
    },
    "papermill": {
     "duration": 0.101469,
     "end_time": "2025-08-05T15:14:30.337173",
     "exception": false,
     "start_time": "2025-08-05T15:14:30.235704",
     "status": "completed"
    },
    "tags": []
   },
   "outputs": [
    {
     "data": {
      "text/plain": [
       "array([0, 0, 0, ..., 0, 0, 0])"
      ]
     },
     "execution_count": 35,
     "metadata": {},
     "output_type": "execute_result"
    }
   ],
   "source": [
    "model.predict(X_test)"
   ]
  },
  {
   "cell_type": "markdown",
   "id": "56c9705b",
   "metadata": {
    "papermill": {
     "duration": 0.018071,
     "end_time": "2025-08-05T15:14:30.375572",
     "exception": false,
     "start_time": "2025-08-05T15:14:30.357501",
     "status": "completed"
    },
    "tags": []
   },
   "source": [
    "# Conformal Prediction"
   ]
  },
  {
   "cell_type": "code",
   "execution_count": 36,
   "id": "160ec6ff",
   "metadata": {
    "execution": {
     "iopub.execute_input": "2025-08-05T15:14:30.415775Z",
     "iopub.status.busy": "2025-08-05T15:14:30.415258Z",
     "iopub.status.idle": "2025-08-05T15:14:30.420661Z",
     "shell.execute_reply": "2025-08-05T15:14:30.419668Z"
    },
    "papermill": {
     "duration": 0.027752,
     "end_time": "2025-08-05T15:14:30.422565",
     "exception": false,
     "start_time": "2025-08-05T15:14:30.394813",
     "status": "completed"
    },
    "tags": []
   },
   "outputs": [],
   "source": [
    "# Miscoverage level for conformal prediction (10% allowed error rate => 90% target coverage)\n",
    "alpha = 0.1"
   ]
  },
  {
   "cell_type": "code",
   "execution_count": 37,
   "id": "eadf4555-3dd3-440e-8e35-f82a4ad9f855",
   "metadata": {
    "execution": {
     "iopub.execute_input": "2025-08-05T15:14:30.464735Z",
     "iopub.status.busy": "2025-08-05T15:14:30.463631Z",
     "iopub.status.idle": "2025-08-05T15:14:30.546584Z",
     "shell.execute_reply": "2025-08-05T15:14:30.545657Z"
    },
    "papermill": {
     "duration": 0.10532,
     "end_time": "2025-08-05T15:14:30.548448",
     "exception": false,
     "start_time": "2025-08-05T15:14:30.443128",
     "status": "completed"
    },
    "tags": []
   },
   "outputs": [],
   "source": [
    "probs_calib = model.predict_proba(X_calib)"
   ]
  },
  {
   "cell_type": "code",
   "execution_count": 38,
   "id": "2ed93547-6d5d-4983-9b36-1ecb300da49a",
   "metadata": {
    "execution": {
     "iopub.execute_input": "2025-08-05T15:14:30.593219Z",
     "iopub.status.busy": "2025-08-05T15:14:30.592347Z",
     "iopub.status.idle": "2025-08-05T15:14:30.597977Z",
     "shell.execute_reply": "2025-08-05T15:14:30.596993Z"
    },
    "papermill": {
     "duration": 0.031604,
     "end_time": "2025-08-05T15:14:30.600128",
     "exception": false,
     "start_time": "2025-08-05T15:14:30.568524",
     "status": "completed"
    },
    "tags": []
   },
   "outputs": [],
   "source": [
    "y_calib = y_calib.values.ravel().astype(int)"
   ]
  },
  {
   "cell_type": "code",
   "execution_count": 39,
   "id": "65d1320d-f588-4b38-9072-62af1ae97f7d",
   "metadata": {
    "execution": {
     "iopub.execute_input": "2025-08-05T15:14:30.642183Z",
     "iopub.status.busy": "2025-08-05T15:14:30.641726Z",
     "iopub.status.idle": "2025-08-05T15:14:30.648238Z",
     "shell.execute_reply": "2025-08-05T15:14:30.647260Z"
    },
    "papermill": {
     "duration": 0.02922,
     "end_time": "2025-08-05T15:14:30.650219",
     "exception": false,
     "start_time": "2025-08-05T15:14:30.620999",
     "status": "completed"
    },
    "tags": []
   },
   "outputs": [],
   "source": [
    "from fairness_multiverse.conformal import compute_nc_scores\n",
    "\n",
    "# Compute nonconformity scores on calibration set (1 - probability of true class)\n",
    "nc_scores = compute_nc_scores(probs_calib, y_calib)"
   ]
  },
  {
   "cell_type": "code",
   "execution_count": 40,
   "id": "df3b8ca3-53b7-43d5-9667-7c85da7aeda2",
   "metadata": {
    "execution": {
     "iopub.execute_input": "2025-08-05T15:14:30.694483Z",
     "iopub.status.busy": "2025-08-05T15:14:30.693544Z",
     "iopub.status.idle": "2025-08-05T15:14:30.699900Z",
     "shell.execute_reply": "2025-08-05T15:14:30.698889Z"
    },
    "papermill": {
     "duration": 0.029729,
     "end_time": "2025-08-05T15:14:30.701253",
     "exception": false,
     "start_time": "2025-08-05T15:14:30.671524",
     "status": "completed"
    },
    "tags": []
   },
   "outputs": [],
   "source": [
    "from fairness_multiverse.conformal import find_threshold\n",
    "\n",
    "# Find conformal threshold q_hat for the given alpha (split conformal method)\n",
    "q_hat = find_threshold(nc_scores, alpha)"
   ]
  },
  {
   "cell_type": "code",
   "execution_count": 41,
   "id": "4d29e6c1-0ef6-4aa4-b8fe-4fe79b0d033a",
   "metadata": {
    "execution": {
     "iopub.execute_input": "2025-08-05T15:14:30.745047Z",
     "iopub.status.busy": "2025-08-05T15:14:30.744535Z",
     "iopub.status.idle": "2025-08-05T15:14:30.751654Z",
     "shell.execute_reply": "2025-08-05T15:14:30.750738Z"
    },
    "papermill": {
     "duration": 0.030618,
     "end_time": "2025-08-05T15:14:30.753101",
     "exception": false,
     "start_time": "2025-08-05T15:14:30.722483",
     "status": "completed"
    },
    "tags": []
   },
   "outputs": [
    {
     "data": {
      "text/plain": [
       "0.6692404686455188"
      ]
     },
     "execution_count": 41,
     "metadata": {},
     "output_type": "execute_result"
    }
   ],
   "source": [
    "q_hat"
   ]
  },
  {
   "cell_type": "code",
   "execution_count": 42,
   "id": "92460794-cdac-4be2-ba28-f28c0515a6fb",
   "metadata": {
    "execution": {
     "iopub.execute_input": "2025-08-05T15:14:30.796284Z",
     "iopub.status.busy": "2025-08-05T15:14:30.795771Z",
     "iopub.status.idle": "2025-08-05T15:14:31.541147Z",
     "shell.execute_reply": "2025-08-05T15:14:31.540191Z"
    },
    "papermill": {
     "duration": 0.769738,
     "end_time": "2025-08-05T15:14:31.543178",
     "exception": false,
     "start_time": "2025-08-05T15:14:30.773440",
     "status": "completed"
    },
    "tags": []
   },
   "outputs": [],
   "source": [
    "from fairness_multiverse.conformal import predict_conformal_sets\n",
    "\n",
    "# Generate prediction sets for each test example\n",
    "pred_sets = predict_conformal_sets(model, X_test, q_hat)"
   ]
  },
  {
   "cell_type": "code",
   "execution_count": 43,
   "id": "d90c9a65-e6db-4f5d-80cd-e68fb7e46829",
   "metadata": {
    "execution": {
     "iopub.execute_input": "2025-08-05T15:14:31.586855Z",
     "iopub.status.busy": "2025-08-05T15:14:31.586011Z",
     "iopub.status.idle": "2025-08-05T15:14:31.592018Z",
     "shell.execute_reply": "2025-08-05T15:14:31.590976Z"
    },
    "papermill": {
     "duration": 0.029299,
     "end_time": "2025-08-05T15:14:31.594090",
     "exception": false,
     "start_time": "2025-08-05T15:14:31.564791",
     "status": "completed"
    },
    "tags": []
   },
   "outputs": [],
   "source": [
    "y_true = y_true.squeeze()"
   ]
  },
  {
   "cell_type": "code",
   "execution_count": 44,
   "id": "3a58a54a-1e68-46b9-927a-df01f18aebc8",
   "metadata": {
    "execution": {
     "iopub.execute_input": "2025-08-05T15:14:31.639162Z",
     "iopub.status.busy": "2025-08-05T15:14:31.638531Z",
     "iopub.status.idle": "2025-08-05T15:14:32.552076Z",
     "shell.execute_reply": "2025-08-05T15:14:32.550893Z"
    },
    "papermill": {
     "duration": 0.937342,
     "end_time": "2025-08-05T15:14:32.553963",
     "exception": false,
     "start_time": "2025-08-05T15:14:31.616621",
     "status": "completed"
    },
    "tags": []
   },
   "outputs": [],
   "source": [
    "from fairness_multiverse.conformal import evaluate_sets\n",
    "\n",
    "# Evaluate coverage and average set size on test data\n",
    "metrics = evaluate_sets(pred_sets, y_true)"
   ]
  },
  {
   "cell_type": "markdown",
   "id": "2b569c12-9aaa-4c88-98c9-bbcd0cf3ebb8",
   "metadata": {
    "papermill": {
     "duration": 0.018516,
     "end_time": "2025-08-05T15:14:32.593801",
     "exception": false,
     "start_time": "2025-08-05T15:14:32.575285",
     "status": "completed"
    },
    "tags": []
   },
   "source": [
    "# CP Metrics"
   ]
  },
  {
   "cell_type": "code",
   "execution_count": 45,
   "id": "5ce0a5cb-201f-45a0-ade5-94c7f0bd6095",
   "metadata": {
    "execution": {
     "iopub.execute_input": "2025-08-05T15:14:32.635963Z",
     "iopub.status.busy": "2025-08-05T15:14:32.635146Z",
     "iopub.status.idle": "2025-08-05T15:14:32.642130Z",
     "shell.execute_reply": "2025-08-05T15:14:32.641064Z"
    },
    "papermill": {
     "duration": 0.030606,
     "end_time": "2025-08-05T15:14:32.643924",
     "exception": false,
     "start_time": "2025-08-05T15:14:32.613318",
     "status": "completed"
    },
    "tags": []
   },
   "outputs": [
    {
     "data": {
      "text/plain": [
       "{'coverage': 0.9107680303199197, 'avg_size': 1.1947720432504738}"
      ]
     },
     "execution_count": 45,
     "metadata": {},
     "output_type": "execute_result"
    }
   ],
   "source": [
    "metrics"
   ]
  },
  {
   "cell_type": "code",
   "execution_count": 46,
   "id": "9b9a838d-31c9-430b-ae14-12baee460d17",
   "metadata": {
    "execution": {
     "iopub.execute_input": "2025-08-05T15:14:32.686053Z",
     "iopub.status.busy": "2025-08-05T15:14:32.685555Z",
     "iopub.status.idle": "2025-08-05T15:14:32.692720Z",
     "shell.execute_reply": "2025-08-05T15:14:32.691727Z"
    },
    "papermill": {
     "duration": 0.030692,
     "end_time": "2025-08-05T15:14:32.694366",
     "exception": false,
     "start_time": "2025-08-05T15:14:32.663674",
     "status": "completed"
    },
    "tags": []
   },
   "outputs": [],
   "source": [
    "example_universe = universe.copy()\n",
    "universe_training_year = example_universe.get(\"training_year\")\n",
    "universe_training_size = example_universe.get(\"training_size\")\n",
    "universe_scale = example_universe.get(\"scale\")\n",
    "universe_model = example_universe.get(\"model\")\n",
    "universe_exclude_features = example_universe.get(\"exclude_features\")\n",
    "universe_exclude_subgroups = example_universe.get(\"exclude_subgroups\")"
   ]
  },
  {
   "cell_type": "code",
   "execution_count": 47,
   "id": "f4b6a8ac-9dc0-4245-8a91-5b3b5999c4f9",
   "metadata": {
    "execution": {
     "iopub.execute_input": "2025-08-05T15:14:32.738120Z",
     "iopub.status.busy": "2025-08-05T15:14:32.737352Z",
     "iopub.status.idle": "2025-08-05T15:14:32.743975Z",
     "shell.execute_reply": "2025-08-05T15:14:32.743033Z"
    },
    "papermill": {
     "duration": 0.030447,
     "end_time": "2025-08-05T15:14:32.745746",
     "exception": false,
     "start_time": "2025-08-05T15:14:32.715299",
     "status": "completed"
    },
    "tags": []
   },
   "outputs": [],
   "source": [
    "cp_metrics_dict = {\n",
    "    \"universe_id\": [universe_id],\n",
    "    \"universe_training_year\": [universe_training_year],\n",
    "    \"universe_training_size\": [universe_training_size],\n",
    "    \"universe_scale\": [universe_scale],\n",
    "    \"universe_model\": [universe_model],\n",
    "    \"universe_exclude_features\": [universe_exclude_features],\n",
    "    \"universe_exclude_subgroups\": [universe_exclude_subgroups],\n",
    "    \"q_hat\": [q_hat],\n",
    "    \"coverage\": [metrics[\"coverage\"]],\n",
    "    \"avg_size\": [metrics[\"avg_size\"]],\n",
    "}"
   ]
  },
  {
   "cell_type": "code",
   "execution_count": 48,
   "id": "908acbb1-0371-4915-85ca-3fa520d2efe2",
   "metadata": {
    "execution": {
     "iopub.execute_input": "2025-08-05T15:14:32.786170Z",
     "iopub.status.busy": "2025-08-05T15:14:32.785305Z",
     "iopub.status.idle": "2025-08-05T15:14:32.792451Z",
     "shell.execute_reply": "2025-08-05T15:14:32.791452Z"
    },
    "papermill": {
     "duration": 0.028511,
     "end_time": "2025-08-05T15:14:32.794266",
     "exception": false,
     "start_time": "2025-08-05T15:14:32.765755",
     "status": "completed"
    },
    "tags": []
   },
   "outputs": [
    {
     "data": {
      "text/plain": [
       "{'universe_id': ['5c5c5e01c047c1734de79cf84b7dbf51'],\n",
       " 'universe_training_year': ['2010_14'],\n",
       " 'universe_training_size': ['25k'],\n",
       " 'universe_scale': ['do-not-scale'],\n",
       " 'universe_model': ['penalized_logreg'],\n",
       " 'universe_exclude_features': ['nationality-sex'],\n",
       " 'universe_exclude_subgroups': ['keep-all'],\n",
       " 'q_hat': [0.6692404686455188],\n",
       " 'coverage': [0.9107680303199197],\n",
       " 'avg_size': [1.1947720432504738]}"
      ]
     },
     "execution_count": 48,
     "metadata": {},
     "output_type": "execute_result"
    }
   ],
   "source": [
    "cp_metrics_dict"
   ]
  },
  {
   "cell_type": "code",
   "execution_count": 49,
   "id": "33007efc-14e9-4ec6-97ac-56a455c82265",
   "metadata": {
    "execution": {
     "iopub.execute_input": "2025-08-05T15:14:32.835852Z",
     "iopub.status.busy": "2025-08-05T15:14:32.835150Z",
     "iopub.status.idle": "2025-08-05T15:14:32.843263Z",
     "shell.execute_reply": "2025-08-05T15:14:32.842076Z"
    },
    "papermill": {
     "duration": 0.030833,
     "end_time": "2025-08-05T15:14:32.845383",
     "exception": false,
     "start_time": "2025-08-05T15:14:32.814550",
     "status": "completed"
    },
    "tags": []
   },
   "outputs": [],
   "source": [
    "cp_metrics_df = pd.DataFrame(cp_metrics_dict)"
   ]
  },
  {
   "cell_type": "code",
   "execution_count": 50,
   "id": "db12611b-57b2-4910-b9d0-355adfd6e7bf",
   "metadata": {
    "execution": {
     "iopub.execute_input": "2025-08-05T15:14:32.889238Z",
     "iopub.status.busy": "2025-08-05T15:14:32.888338Z",
     "iopub.status.idle": "2025-08-05T15:14:32.907085Z",
     "shell.execute_reply": "2025-08-05T15:14:32.906221Z"
    },
    "papermill": {
     "duration": 0.041198,
     "end_time": "2025-08-05T15:14:32.908561",
     "exception": false,
     "start_time": "2025-08-05T15:14:32.867363",
     "status": "completed"
    },
    "tags": []
   },
   "outputs": [
    {
     "data": {
      "text/html": [
       "<div>\n",
       "<style scoped>\n",
       "    .dataframe tbody tr th:only-of-type {\n",
       "        vertical-align: middle;\n",
       "    }\n",
       "\n",
       "    .dataframe tbody tr th {\n",
       "        vertical-align: top;\n",
       "    }\n",
       "\n",
       "    .dataframe thead th {\n",
       "        text-align: right;\n",
       "    }\n",
       "</style>\n",
       "<table border=\"1\" class=\"dataframe\">\n",
       "  <thead>\n",
       "    <tr style=\"text-align: right;\">\n",
       "      <th></th>\n",
       "      <th>universe_id</th>\n",
       "      <th>universe_training_year</th>\n",
       "      <th>universe_training_size</th>\n",
       "      <th>universe_scale</th>\n",
       "      <th>universe_model</th>\n",
       "      <th>universe_exclude_features</th>\n",
       "      <th>universe_exclude_subgroups</th>\n",
       "      <th>q_hat</th>\n",
       "      <th>coverage</th>\n",
       "      <th>avg_size</th>\n",
       "    </tr>\n",
       "  </thead>\n",
       "  <tbody>\n",
       "    <tr>\n",
       "      <th>0</th>\n",
       "      <td>5c5c5e01c047c1734de79cf84b7dbf51</td>\n",
       "      <td>2010_14</td>\n",
       "      <td>25k</td>\n",
       "      <td>do-not-scale</td>\n",
       "      <td>penalized_logreg</td>\n",
       "      <td>nationality-sex</td>\n",
       "      <td>keep-all</td>\n",
       "      <td>0.66924</td>\n",
       "      <td>0.910768</td>\n",
       "      <td>1.194772</td>\n",
       "    </tr>\n",
       "  </tbody>\n",
       "</table>\n",
       "</div>"
      ],
      "text/plain": [
       "                        universe_id universe_training_year  \\\n",
       "0  5c5c5e01c047c1734de79cf84b7dbf51                2010_14   \n",
       "\n",
       "  universe_training_size universe_scale    universe_model  \\\n",
       "0                    25k   do-not-scale  penalized_logreg   \n",
       "\n",
       "  universe_exclude_features universe_exclude_subgroups    q_hat  coverage  \\\n",
       "0           nationality-sex                   keep-all  0.66924  0.910768   \n",
       "\n",
       "   avg_size  \n",
       "0  1.194772  "
      ]
     },
     "execution_count": 50,
     "metadata": {},
     "output_type": "execute_result"
    }
   ],
   "source": [
    "cp_metrics_df"
   ]
  },
  {
   "cell_type": "code",
   "execution_count": 51,
   "id": "b7fbde55-a0a1-47e4-9af6-fe4a17fa8c61",
   "metadata": {
    "execution": {
     "iopub.execute_input": "2025-08-05T15:14:32.950629Z",
     "iopub.status.busy": "2025-08-05T15:14:32.949795Z",
     "iopub.status.idle": "2025-08-05T15:14:32.954681Z",
     "shell.execute_reply": "2025-08-05T15:14:32.953765Z"
    },
    "papermill": {
     "duration": 0.027047,
     "end_time": "2025-08-05T15:14:32.956509",
     "exception": false,
     "start_time": "2025-08-05T15:14:32.929462",
     "status": "completed"
    },
    "tags": []
   },
   "outputs": [],
   "source": [
    "# Conditional Coverage & looking at subgroups"
   ]
  },
  {
   "cell_type": "code",
   "execution_count": 52,
   "id": "027ae886-68dd-4141-96c7-805a5450e1ef",
   "metadata": {
    "execution": {
     "iopub.execute_input": "2025-08-05T15:14:33.001368Z",
     "iopub.status.busy": "2025-08-05T15:14:33.000395Z",
     "iopub.status.idle": "2025-08-05T15:14:33.249662Z",
     "shell.execute_reply": "2025-08-05T15:14:33.248593Z"
    },
    "papermill": {
     "duration": 0.273557,
     "end_time": "2025-08-05T15:14:33.251636",
     "exception": false,
     "start_time": "2025-08-05T15:14:32.978079",
     "status": "completed"
    },
    "tags": []
   },
   "outputs": [],
   "source": [
    "from fairness_multiverse.conformal import build_cp_groups\n",
    "\n",
    "cp_groups_df = build_cp_groups(pred_sets, y_true, X_test.index, org_test)\n",
    "#needs universe_id and setting"
   ]
  },
  {
   "cell_type": "code",
   "execution_count": 53,
   "id": "6cbdab96-b2b2-45af-ad54-d0516db2e28d",
   "metadata": {
    "execution": {
     "iopub.execute_input": "2025-08-05T15:14:33.296444Z",
     "iopub.status.busy": "2025-08-05T15:14:33.295832Z",
     "iopub.status.idle": "2025-08-05T15:14:35.116297Z",
     "shell.execute_reply": "2025-08-05T15:14:35.115338Z"
    },
    "papermill": {
     "duration": 1.842971,
     "end_time": "2025-08-05T15:14:35.118171",
     "exception": false,
     "start_time": "2025-08-05T15:14:33.275200",
     "status": "completed"
    },
    "tags": []
   },
   "outputs": [],
   "source": [
    "# Define covered = 1 if true_label is in the predicted set\n",
    "cp_groups_df['covered'] = cp_groups_df.apply(\n",
    "    lambda r: int(r['true_label'] in r['pred_set']),\n",
    "    axis=1\n",
    ")"
   ]
  },
  {
   "cell_type": "code",
   "execution_count": 54,
   "id": "338ff529-1a6b-4b87-a931-8e4788d52aad",
   "metadata": {
    "execution": {
     "iopub.execute_input": "2025-08-05T15:14:35.166840Z",
     "iopub.status.busy": "2025-08-05T15:14:35.166417Z",
     "iopub.status.idle": "2025-08-05T15:14:35.171085Z",
     "shell.execute_reply": "2025-08-05T15:14:35.170173Z"
    },
    "papermill": {
     "duration": 0.030181,
     "end_time": "2025-08-05T15:14:35.172684",
     "exception": false,
     "start_time": "2025-08-05T15:14:35.142503",
     "status": "completed"
    },
    "tags": []
   },
   "outputs": [],
   "source": [
    "#cp_groups_df"
   ]
  },
  {
   "cell_type": "code",
   "execution_count": 55,
   "id": "90032e27-66df-4540-9169-4e89cfbaa758",
   "metadata": {
    "execution": {
     "iopub.execute_input": "2025-08-05T15:14:35.218421Z",
     "iopub.status.busy": "2025-08-05T15:14:35.217892Z",
     "iopub.status.idle": "2025-08-05T15:14:35.228745Z",
     "shell.execute_reply": "2025-08-05T15:14:35.227828Z"
    },
    "papermill": {
     "duration": 0.035519,
     "end_time": "2025-08-05T15:14:35.230423",
     "exception": false,
     "start_time": "2025-08-05T15:14:35.194904",
     "status": "completed"
    },
    "tags": []
   },
   "outputs": [],
   "source": [
    "subgroups = ['frau1','nongerman','nongerman_male','nongerman_female']\n",
    "\n",
    "# Conditional coverage for subgroup==1\n",
    "cond_coverage = {\n",
    "    g: cp_groups_df.loc[cp_groups_df[g]==1, 'covered'].mean()\n",
    "    for g in subgroups\n",
    "}"
   ]
  },
  {
   "cell_type": "code",
   "execution_count": 56,
   "id": "1e348fb1-b9c3-45bc-ba23-f016827a7e0d",
   "metadata": {
    "execution": {
     "iopub.execute_input": "2025-08-05T15:14:35.280332Z",
     "iopub.status.busy": "2025-08-05T15:14:35.279868Z",
     "iopub.status.idle": "2025-08-05T15:14:35.287265Z",
     "shell.execute_reply": "2025-08-05T15:14:35.286256Z"
    },
    "papermill": {
     "duration": 0.034717,
     "end_time": "2025-08-05T15:14:35.288889",
     "exception": false,
     "start_time": "2025-08-05T15:14:35.254172",
     "status": "completed"
    },
    "tags": []
   },
   "outputs": [
    {
     "data": {
      "text/plain": [
       "{'frau1': 0.910338320528373,\n",
       " 'nongerman': 0.9252792904058833,\n",
       " 'nongerman_male': 0.9398360803386472,\n",
       " 'nongerman_female': 0.9011922503725782}"
      ]
     },
     "execution_count": 56,
     "metadata": {},
     "output_type": "execute_result"
    }
   ],
   "source": [
    "cond_coverage"
   ]
  },
  {
   "cell_type": "code",
   "execution_count": 57,
   "id": "f5093324-c3dd-4d63-bc4c-8d945e5c8bbb",
   "metadata": {
    "execution": {
     "iopub.execute_input": "2025-08-05T15:14:35.340143Z",
     "iopub.status.busy": "2025-08-05T15:14:35.339160Z",
     "iopub.status.idle": "2025-08-05T15:14:35.347406Z",
     "shell.execute_reply": "2025-08-05T15:14:35.346208Z"
    },
    "papermill": {
     "duration": 0.036402,
     "end_time": "2025-08-05T15:14:35.350161",
     "exception": false,
     "start_time": "2025-08-05T15:14:35.313759",
     "status": "completed"
    },
    "tags": []
   },
   "outputs": [],
   "source": [
    "for subgroup, cov in cond_coverage.items():\n",
    "    cp_metrics_df[f\"cov_{subgroup}\"] = cov"
   ]
  },
  {
   "cell_type": "code",
   "execution_count": 58,
   "id": "6e872e10-dbe5-49e8-b554-5030c98ff75d",
   "metadata": {
    "execution": {
     "iopub.execute_input": "2025-08-05T15:14:35.407650Z",
     "iopub.status.busy": "2025-08-05T15:14:35.406809Z",
     "iopub.status.idle": "2025-08-05T15:14:35.427381Z",
     "shell.execute_reply": "2025-08-05T15:14:35.426310Z"
    },
    "papermill": {
     "duration": 0.046717,
     "end_time": "2025-08-05T15:14:35.429001",
     "exception": false,
     "start_time": "2025-08-05T15:14:35.382284",
     "status": "completed"
    },
    "tags": []
   },
   "outputs": [
    {
     "data": {
      "text/html": [
       "<div>\n",
       "<style scoped>\n",
       "    .dataframe tbody tr th:only-of-type {\n",
       "        vertical-align: middle;\n",
       "    }\n",
       "\n",
       "    .dataframe tbody tr th {\n",
       "        vertical-align: top;\n",
       "    }\n",
       "\n",
       "    .dataframe thead th {\n",
       "        text-align: right;\n",
       "    }\n",
       "</style>\n",
       "<table border=\"1\" class=\"dataframe\">\n",
       "  <thead>\n",
       "    <tr style=\"text-align: right;\">\n",
       "      <th></th>\n",
       "      <th>universe_id</th>\n",
       "      <th>universe_training_year</th>\n",
       "      <th>universe_training_size</th>\n",
       "      <th>universe_scale</th>\n",
       "      <th>universe_model</th>\n",
       "      <th>universe_exclude_features</th>\n",
       "      <th>universe_exclude_subgroups</th>\n",
       "      <th>q_hat</th>\n",
       "      <th>coverage</th>\n",
       "      <th>avg_size</th>\n",
       "      <th>cov_frau1</th>\n",
       "      <th>cov_nongerman</th>\n",
       "      <th>cov_nongerman_male</th>\n",
       "      <th>cov_nongerman_female</th>\n",
       "    </tr>\n",
       "  </thead>\n",
       "  <tbody>\n",
       "    <tr>\n",
       "      <th>0</th>\n",
       "      <td>5c5c5e01c047c1734de79cf84b7dbf51</td>\n",
       "      <td>2010_14</td>\n",
       "      <td>25k</td>\n",
       "      <td>do-not-scale</td>\n",
       "      <td>penalized_logreg</td>\n",
       "      <td>nationality-sex</td>\n",
       "      <td>keep-all</td>\n",
       "      <td>0.66924</td>\n",
       "      <td>0.910768</td>\n",
       "      <td>1.194772</td>\n",
       "      <td>0.910338</td>\n",
       "      <td>0.925279</td>\n",
       "      <td>0.939836</td>\n",
       "      <td>0.901192</td>\n",
       "    </tr>\n",
       "  </tbody>\n",
       "</table>\n",
       "</div>"
      ],
      "text/plain": [
       "                        universe_id universe_training_year  \\\n",
       "0  5c5c5e01c047c1734de79cf84b7dbf51                2010_14   \n",
       "\n",
       "  universe_training_size universe_scale    universe_model  \\\n",
       "0                    25k   do-not-scale  penalized_logreg   \n",
       "\n",
       "  universe_exclude_features universe_exclude_subgroups    q_hat  coverage  \\\n",
       "0           nationality-sex                   keep-all  0.66924  0.910768   \n",
       "\n",
       "   avg_size  cov_frau1  cov_nongerman  cov_nongerman_male  \\\n",
       "0  1.194772   0.910338       0.925279            0.939836   \n",
       "\n",
       "   cov_nongerman_female  \n",
       "0              0.901192  "
      ]
     },
     "execution_count": 58,
     "metadata": {},
     "output_type": "execute_result"
    }
   ],
   "source": [
    "cp_metrics_df"
   ]
  },
  {
   "cell_type": "markdown",
   "id": "33774451",
   "metadata": {
    "papermill": {
     "duration": 0.022419,
     "end_time": "2025-08-05T15:14:35.474867",
     "exception": false,
     "start_time": "2025-08-05T15:14:35.452448",
     "status": "completed"
    },
    "tags": []
   },
   "source": [
    "# (Fairness) Metrics"
   ]
  },
  {
   "cell_type": "code",
   "execution_count": 59,
   "id": "debc5d62",
   "metadata": {
    "execution": {
     "iopub.execute_input": "2025-08-05T15:14:35.522634Z",
     "iopub.status.busy": "2025-08-05T15:14:35.522199Z",
     "iopub.status.idle": "2025-08-05T15:14:35.542531Z",
     "shell.execute_reply": "2025-08-05T15:14:35.541693Z"
    },
    "papermill": {
     "duration": 0.047406,
     "end_time": "2025-08-05T15:14:35.545540",
     "exception": false,
     "start_time": "2025-08-05T15:14:35.498134",
     "status": "completed"
    },
    "tags": []
   },
   "outputs": [],
   "source": [
    "# do I need to include maxdeutsch1.missing?\n",
    "\n",
    "import numpy as np\n",
    "\n",
    "colname_to_bin = \"maxdeutsch1\"\n",
    "majority_value = org_train[colname_to_bin].mode()[0]\n",
    "\n",
    "org_test[\"majmin\"] = np.where(org_test[colname_to_bin] == majority_value, \"majority\", \"minority\")"
   ]
  },
  {
   "cell_type": "code",
   "execution_count": 60,
   "id": "06a50de5",
   "metadata": {
    "execution": {
     "iopub.execute_input": "2025-08-05T15:14:35.595110Z",
     "iopub.status.busy": "2025-08-05T15:14:35.594684Z",
     "iopub.status.idle": "2025-08-05T15:14:38.173263Z",
     "shell.execute_reply": "2025-08-05T15:14:38.172500Z"
    },
    "papermill": {
     "duration": 2.603702,
     "end_time": "2025-08-05T15:14:38.174748",
     "exception": false,
     "start_time": "2025-08-05T15:14:35.571046",
     "status": "completed"
    },
    "tags": []
   },
   "outputs": [],
   "source": [
    "example_universe = universe.copy()\n",
    "example_universe[\"cutoff\"] = example_universe[\"cutoff\"][0]\n",
    "example_universe[\"eval_fairness_grouping\"] = example_universe[\"eval_fairness_grouping\"][0]\n",
    "fairness_dict, metric_frame = universe_analysis.compute_metrics(\n",
    "    example_universe,\n",
    "    y_pred_prob=probs_test,\n",
    "    y_test=y_true,\n",
    "    org_test=org_test,\n",
    ")"
   ]
  },
  {
   "cell_type": "markdown",
   "id": "f95d4e02",
   "metadata": {
    "papermill": {
     "duration": 0.011891,
     "end_time": "2025-08-05T15:14:38.201398",
     "exception": false,
     "start_time": "2025-08-05T15:14:38.189507",
     "status": "completed"
    },
    "tags": []
   },
   "source": [
    "# Overall"
   ]
  },
  {
   "cell_type": "markdown",
   "id": "bdee4871",
   "metadata": {
    "papermill": {
     "duration": 0.01171,
     "end_time": "2025-08-05T15:14:38.225137",
     "exception": false,
     "start_time": "2025-08-05T15:14:38.213427",
     "status": "completed"
    },
    "tags": []
   },
   "source": [
    "Fairness\n",
    "Main fairness target: Equalized Odds. Seems to be a better fit than equal opportunity, since we're not only interested in Y = 1. Seems to be a better fit than demographic parity, since we also care about accuracy, not just equal distribution of preds.\n",
    "\n",
    "Pick column for computation of fairness metrics\n",
    "\n",
    "Performance\n",
    "Overall performance measures, most interesting in relation to the measures split by group below"
   ]
  },
  {
   "cell_type": "code",
   "execution_count": 61,
   "id": "c4e067c6",
   "metadata": {
    "execution": {
     "iopub.execute_input": "2025-08-05T15:14:38.250244Z",
     "iopub.status.busy": "2025-08-05T15:14:38.249683Z",
     "iopub.status.idle": "2025-08-05T15:14:38.257420Z",
     "shell.execute_reply": "2025-08-05T15:14:38.256534Z"
    },
    "papermill": {
     "duration": 0.02231,
     "end_time": "2025-08-05T15:14:38.259124",
     "exception": false,
     "start_time": "2025-08-05T15:14:38.236814",
     "status": "completed"
    },
    "tags": []
   },
   "outputs": [
    {
     "data": {
      "text/plain": [
       "accuracy                   0.217111\n",
       "balanced accuracy          0.532387\n",
       "f1                         0.238642\n",
       "precision                  0.136328\n",
       "false positive rate        0.891691\n",
       "false negative rate        0.043535\n",
       "selection rate             0.900000\n",
       "count                  89710.000000\n",
       "dtype: float64"
      ]
     },
     "execution_count": 61,
     "metadata": {},
     "output_type": "execute_result"
    }
   ],
   "source": [
    "metric_frame.overall"
   ]
  },
  {
   "cell_type": "markdown",
   "id": "e968fe9d",
   "metadata": {
    "papermill": {
     "duration": 0.01172,
     "end_time": "2025-08-05T15:14:38.284131",
     "exception": false,
     "start_time": "2025-08-05T15:14:38.272411",
     "status": "completed"
    },
    "tags": []
   },
   "source": [
    "By Group"
   ]
  },
  {
   "cell_type": "code",
   "execution_count": 62,
   "id": "ec325bce",
   "metadata": {
    "execution": {
     "iopub.execute_input": "2025-08-05T15:14:38.310272Z",
     "iopub.status.busy": "2025-08-05T15:14:38.309731Z",
     "iopub.status.idle": "2025-08-05T15:14:38.323160Z",
     "shell.execute_reply": "2025-08-05T15:14:38.321900Z"
    },
    "papermill": {
     "duration": 0.030739,
     "end_time": "2025-08-05T15:14:38.326759",
     "exception": false,
     "start_time": "2025-08-05T15:14:38.296020",
     "status": "completed"
    },
    "tags": []
   },
   "outputs": [
    {
     "data": {
      "text/html": [
       "<div>\n",
       "<style scoped>\n",
       "    .dataframe tbody tr th:only-of-type {\n",
       "        vertical-align: middle;\n",
       "    }\n",
       "\n",
       "    .dataframe tbody tr th {\n",
       "        vertical-align: top;\n",
       "    }\n",
       "\n",
       "    .dataframe thead th {\n",
       "        text-align: right;\n",
       "    }\n",
       "</style>\n",
       "<table border=\"1\" class=\"dataframe\">\n",
       "  <thead>\n",
       "    <tr style=\"text-align: right;\">\n",
       "      <th></th>\n",
       "      <th>accuracy</th>\n",
       "      <th>balanced accuracy</th>\n",
       "      <th>f1</th>\n",
       "      <th>precision</th>\n",
       "      <th>false positive rate</th>\n",
       "      <th>false negative rate</th>\n",
       "      <th>selection rate</th>\n",
       "      <th>count</th>\n",
       "    </tr>\n",
       "    <tr>\n",
       "      <th>majmin</th>\n",
       "      <th></th>\n",
       "      <th></th>\n",
       "      <th></th>\n",
       "      <th></th>\n",
       "      <th></th>\n",
       "      <th></th>\n",
       "      <th></th>\n",
       "      <th></th>\n",
       "    </tr>\n",
       "  </thead>\n",
       "  <tbody>\n",
       "    <tr>\n",
       "      <th>majority</th>\n",
       "      <td>0.239555</td>\n",
       "      <td>0.539997</td>\n",
       "      <td>0.247884</td>\n",
       "      <td>0.142575</td>\n",
       "      <td>0.868366</td>\n",
       "      <td>0.051641</td>\n",
       "      <td>0.878936</td>\n",
       "      <td>69170.0</td>\n",
       "    </tr>\n",
       "    <tr>\n",
       "      <th>minority</th>\n",
       "      <td>0.141529</td>\n",
       "      <td>0.509505</td>\n",
       "      <td>0.209672</td>\n",
       "      <td>0.117284</td>\n",
       "      <td>0.968743</td>\n",
       "      <td>0.012247</td>\n",
       "      <td>0.970935</td>\n",
       "      <td>20540.0</td>\n",
       "    </tr>\n",
       "  </tbody>\n",
       "</table>\n",
       "</div>"
      ],
      "text/plain": [
       "          accuracy  balanced accuracy        f1  precision  \\\n",
       "majmin                                                       \n",
       "majority  0.239555           0.539997  0.247884   0.142575   \n",
       "minority  0.141529           0.509505  0.209672   0.117284   \n",
       "\n",
       "          false positive rate  false negative rate  selection rate    count  \n",
       "majmin                                                                       \n",
       "majority             0.868366             0.051641        0.878936  69170.0  \n",
       "minority             0.968743             0.012247        0.970935  20540.0  "
      ]
     },
     "execution_count": 62,
     "metadata": {},
     "output_type": "execute_result"
    }
   ],
   "source": [
    "metric_frame.by_group"
   ]
  },
  {
   "cell_type": "code",
   "execution_count": 63,
   "id": "a9ddbe63",
   "metadata": {
    "execution": {
     "iopub.execute_input": "2025-08-05T15:14:38.379612Z",
     "iopub.status.busy": "2025-08-05T15:14:38.379248Z",
     "iopub.status.idle": "2025-08-05T15:14:40.466447Z",
     "shell.execute_reply": "2025-08-05T15:14:40.465486Z"
    },
    "papermill": {
     "duration": 2.112292,
     "end_time": "2025-08-05T15:14:40.468027",
     "exception": false,
     "start_time": "2025-08-05T15:14:38.355735",
     "status": "completed"
    },
    "tags": []
   },
   "outputs": [
    {
     "data": {
      "text/plain": [
       "array([[<Axes: title={'center': 'accuracy'}, xlabel='majmin'>,\n",
       "        <Axes: title={'center': 'balanced accuracy'}, xlabel='majmin'>,\n",
       "        <Axes: title={'center': 'f1'}, xlabel='majmin'>],\n",
       "       [<Axes: title={'center': 'precision'}, xlabel='majmin'>,\n",
       "        <Axes: title={'center': 'false positive rate'}, xlabel='majmin'>,\n",
       "        <Axes: title={'center': 'false negative rate'}, xlabel='majmin'>],\n",
       "       [<Axes: title={'center': 'selection rate'}, xlabel='majmin'>,\n",
       "        <Axes: title={'center': 'count'}, xlabel='majmin'>,\n",
       "        <Axes: xlabel='majmin'>]], dtype=object)"
      ]
     },
     "execution_count": 63,
     "metadata": {},
     "output_type": "execute_result"
    },
    {
     "data": {
      "image/png": "[encoded data removed]",
      "text/plain": [
       "<Figure size 1200x800 with 9 Axes>"
      ]
     },
     "metadata": {},
     "output_type": "display_data"
    }
   ],
   "source": [
    "# In a graphic\n",
    "metric_frame.by_group.plot.bar(\n",
    "    subplots=True,\n",
    "    layout=[3, 3],\n",
    "    legend=False,\n",
    "    figsize=[12, 8],\n",
    "    title=\"Show all metrics\",\n",
    ")"
   ]
  },
  {
   "cell_type": "markdown",
   "id": "f57a0bac",
   "metadata": {
    "papermill": {
     "duration": 0.023625,
     "end_time": "2025-08-05T15:14:40.521058",
     "exception": false,
     "start_time": "2025-08-05T15:14:40.497433",
     "status": "completed"
    },
    "tags": []
   },
   "source": [
    "# Final Output"
   ]
  },
  {
   "cell_type": "code",
   "execution_count": 64,
   "id": "96d280a3",
   "metadata": {
    "execution": {
     "iopub.execute_input": "2025-08-05T15:14:40.570372Z",
     "iopub.status.busy": "2025-08-05T15:14:40.569276Z",
     "iopub.status.idle": "2025-08-05T15:14:40.578843Z",
     "shell.execute_reply": "2025-08-05T15:14:40.577862Z"
    },
    "papermill": {
     "duration": 0.036121,
     "end_time": "2025-08-05T15:14:40.580376",
     "exception": false,
     "start_time": "2025-08-05T15:14:40.544255",
     "status": "completed"
    },
    "tags": []
   },
   "outputs": [
    {
     "data": {
      "text/plain": [
       "4"
      ]
     },
     "execution_count": 64,
     "metadata": {},
     "output_type": "execute_result"
    }
   ],
   "source": [
    "sub_universes = universe_analysis.generate_sub_universes()\n",
    "len(sub_universes)"
   ]
  },
  {
   "cell_type": "code",
   "execution_count": 65,
   "id": "92adf7ba",
   "metadata": {
    "execution": {
     "iopub.execute_input": "2025-08-05T15:14:40.631131Z",
     "iopub.status.busy": "2025-08-05T15:14:40.630289Z",
     "iopub.status.idle": "2025-08-05T15:14:40.669116Z",
     "shell.execute_reply": "2025-08-05T15:14:40.668058Z"
    },
    "papermill": {
     "duration": 0.065946,
     "end_time": "2025-08-05T15:14:40.671207",
     "exception": false,
     "start_time": "2025-08-05T15:14:40.605261",
     "status": "completed"
    },
    "tags": []
   },
   "outputs": [],
   "source": [
    "def filter_sub_universe_data(sub_universe, org_test):\n",
    "    # Keep all rows — no filtering\n",
    "    keep_rows_mask = np.ones(org_test.shape[0], dtype=bool)\n",
    "\n",
    "    print(f\"[INFO] Keeping all rows: {keep_rows_mask.sum()} rows retained.\")\n",
    "    return keep_rows_mask"
   ]
  },
  {
   "cell_type": "code",
   "execution_count": 66,
   "id": "4a759155",
   "metadata": {
    "execution": {
     "iopub.execute_input": "2025-08-05T15:14:40.729549Z",
     "iopub.status.busy": "2025-08-05T15:14:40.728553Z",
     "iopub.status.idle": "2025-08-05T15:14:51.310283Z",
     "shell.execute_reply": "2025-08-05T15:14:51.309153Z"
    },
    "papermill": {
     "duration": 10.612922,
     "end_time": "2025-08-05T15:14:51.312341",
     "exception": false,
     "start_time": "2025-08-05T15:14:40.699419",
     "status": "completed"
    },
    "tags": []
   },
   "outputs": [
    {
     "name": "stdout",
     "output_type": "stream",
     "text": [
      "Stopping execution_time clock.\n",
      "[INFO] Keeping all rows: 89710 rows retained.\n"
     ]
    },
    {
     "name": "stdout",
     "output_type": "stream",
     "text": [
      "[INFO] Keeping all rows: 89710 rows retained.\n"
     ]
    },
    {
     "name": "stdout",
     "output_type": "stream",
     "text": [
      "[INFO] Keeping all rows: 89710 rows retained.\n"
     ]
    },
    {
     "name": "stdout",
     "output_type": "stream",
     "text": [
      "[INFO] Keeping all rows: 89710 rows retained.\n"
     ]
    },
    {
     "data": {
      "text/html": [
       "<div>\n",
       "<style scoped>\n",
       "    .dataframe tbody tr th:only-of-type {\n",
       "        vertical-align: middle;\n",
       "    }\n",
       "\n",
       "    .dataframe tbody tr th {\n",
       "        vertical-align: top;\n",
       "    }\n",
       "\n",
       "    .dataframe thead th {\n",
       "        text-align: right;\n",
       "    }\n",
       "</style>\n",
       "<table border=\"1\" class=\"dataframe\">\n",
       "  <thead>\n",
       "    <tr style=\"text-align: right;\">\n",
       "      <th></th>\n",
       "      <th>run_no</th>\n",
       "      <th>universe_id</th>\n",
       "      <th>universe_settings</th>\n",
       "      <th>execution_time</th>\n",
       "      <th>test_size_n</th>\n",
       "      <th>test_size_frac</th>\n",
       "      <th>fair_main_equalized_odds_difference</th>\n",
       "      <th>fair_main_equalized_odds_ratio</th>\n",
       "      <th>fair_main_demographic_parity_difference</th>\n",
       "      <th>fair_main_demographic_parity_ratio</th>\n",
       "      <th>...</th>\n",
       "      <th>perf_grp_precision_0</th>\n",
       "      <th>perf_grp_precision_1</th>\n",
       "      <th>perf_grp_false positive rate_0</th>\n",
       "      <th>perf_grp_false positive rate_1</th>\n",
       "      <th>perf_grp_false negative rate_0</th>\n",
       "      <th>perf_grp_false negative rate_1</th>\n",
       "      <th>perf_grp_selection rate_0</th>\n",
       "      <th>perf_grp_selection rate_1</th>\n",
       "      <th>perf_grp_count_0</th>\n",
       "      <th>perf_grp_count_1</th>\n",
       "    </tr>\n",
       "  </thead>\n",
       "  <tbody>\n",
       "    <tr>\n",
       "      <th>0</th>\n",
       "      <td>15</td>\n",
       "      <td>5c5c5e01c047c1734de79cf84b7dbf51</td>\n",
       "      <td>{\"cutoff\": \"quantile_0.1\", \"eval_fairness_grou...</td>\n",
       "      <td>27.102127</td>\n",
       "      <td>89710</td>\n",
       "      <td>1.0</td>\n",
       "      <td>0.100377</td>\n",
       "      <td>0.896384</td>\n",
       "      <td>0.091999</td>\n",
       "      <td>0.905247</td>\n",
       "      <td>...</td>\n",
       "      <td>NaN</td>\n",
       "      <td>NaN</td>\n",
       "      <td>NaN</td>\n",
       "      <td>NaN</td>\n",
       "      <td>NaN</td>\n",
       "      <td>NaN</td>\n",
       "      <td>NaN</td>\n",
       "      <td>NaN</td>\n",
       "      <td>NaN</td>\n",
       "      <td>NaN</td>\n",
       "    </tr>\n",
       "    <tr>\n",
       "      <th>0</th>\n",
       "      <td>15</td>\n",
       "      <td>5c5c5e01c047c1734de79cf84b7dbf51</td>\n",
       "      <td>{\"cutoff\": \"quantile_0.1\", \"eval_fairness_grou...</td>\n",
       "      <td>27.102127</td>\n",
       "      <td>89710</td>\n",
       "      <td>1.0</td>\n",
       "      <td>0.100377</td>\n",
       "      <td>0.896384</td>\n",
       "      <td>0.091999</td>\n",
       "      <td>0.905247</td>\n",
       "      <td>...</td>\n",
       "      <td>0.117284</td>\n",
       "      <td>0.142575</td>\n",
       "      <td>0.968743</td>\n",
       "      <td>0.868366</td>\n",
       "      <td>0.012247</td>\n",
       "      <td>0.051641</td>\n",
       "      <td>0.970935</td>\n",
       "      <td>0.878936</td>\n",
       "      <td>20540.0</td>\n",
       "      <td>69170.0</td>\n",
       "    </tr>\n",
       "    <tr>\n",
       "      <th>0</th>\n",
       "      <td>15</td>\n",
       "      <td>5c5c5e01c047c1734de79cf84b7dbf51</td>\n",
       "      <td>{\"cutoff\": \"quantile_0.25\", \"eval_fairness_gro...</td>\n",
       "      <td>27.102127</td>\n",
       "      <td>89710</td>\n",
       "      <td>1.0</td>\n",
       "      <td>0.215862</td>\n",
       "      <td>0.758918</td>\n",
       "      <td>0.197644</td>\n",
       "      <td>0.780977</td>\n",
       "      <td>...</td>\n",
       "      <td>NaN</td>\n",
       "      <td>NaN</td>\n",
       "      <td>NaN</td>\n",
       "      <td>NaN</td>\n",
       "      <td>NaN</td>\n",
       "      <td>NaN</td>\n",
       "      <td>NaN</td>\n",
       "      <td>NaN</td>\n",
       "      <td>NaN</td>\n",
       "      <td>NaN</td>\n",
       "    </tr>\n",
       "    <tr>\n",
       "      <th>0</th>\n",
       "      <td>15</td>\n",
       "      <td>5c5c5e01c047c1734de79cf84b7dbf51</td>\n",
       "      <td>{\"cutoff\": \"quantile_0.25\", \"eval_fairness_gro...</td>\n",
       "      <td>27.102127</td>\n",
       "      <td>89710</td>\n",
       "      <td>1.0</td>\n",
       "      <td>0.215862</td>\n",
       "      <td>0.758918</td>\n",
       "      <td>0.197644</td>\n",
       "      <td>0.780977</td>\n",
       "      <td>...</td>\n",
       "      <td>0.122147</td>\n",
       "      <td>0.163190</td>\n",
       "      <td>0.895389</td>\n",
       "      <td>0.679527</td>\n",
       "      <td>0.043919</td>\n",
       "      <td>0.129650</td>\n",
       "      <td>0.902386</td>\n",
       "      <td>0.704742</td>\n",
       "      <td>20540.0</td>\n",
       "      <td>69170.0</td>\n",
       "    </tr>\n",
       "  </tbody>\n",
       "</table>\n",
       "<p>4 rows × 50 columns</p>\n",
       "</div>"
      ],
      "text/plain": [
       "  run_no                       universe_id  \\\n",
       "0     15  5c5c5e01c047c1734de79cf84b7dbf51   \n",
       "0     15  5c5c5e01c047c1734de79cf84b7dbf51   \n",
       "0     15  5c5c5e01c047c1734de79cf84b7dbf51   \n",
       "0     15  5c5c5e01c047c1734de79cf84b7dbf51   \n",
       "\n",
       "                                   universe_settings  execution_time  \\\n",
       "0  {\"cutoff\": \"quantile_0.1\", \"eval_fairness_grou...       27.102127   \n",
       "0  {\"cutoff\": \"quantile_0.1\", \"eval_fairness_grou...       27.102127   \n",
       "0  {\"cutoff\": \"quantile_0.25\", \"eval_fairness_gro...       27.102127   \n",
       "0  {\"cutoff\": \"quantile_0.25\", \"eval_fairness_gro...       27.102127   \n",
       "\n",
       "   test_size_n  test_size_frac  fair_main_equalized_odds_difference  \\\n",
       "0        89710             1.0                             0.100377   \n",
       "0        89710             1.0                             0.100377   \n",
       "0        89710             1.0                             0.215862   \n",
       "0        89710             1.0                             0.215862   \n",
       "\n",
       "   fair_main_equalized_odds_ratio  fair_main_demographic_parity_difference  \\\n",
       "0                        0.896384                                 0.091999   \n",
       "0                        0.896384                                 0.091999   \n",
       "0                        0.758918                                 0.197644   \n",
       "0                        0.758918                                 0.197644   \n",
       "\n",
       "   fair_main_demographic_parity_ratio  ...  perf_grp_precision_0  \\\n",
       "0                            0.905247  ...                   NaN   \n",
       "0                            0.905247  ...              0.117284   \n",
       "0                            0.780977  ...                   NaN   \n",
       "0                            0.780977  ...              0.122147   \n",
       "\n",
       "   perf_grp_precision_1  perf_grp_false positive rate_0  \\\n",
       "0                   NaN                             NaN   \n",
       "0              0.142575                        0.968743   \n",
       "0                   NaN                             NaN   \n",
       "0              0.163190                        0.895389   \n",
       "\n",
       "   perf_grp_false positive rate_1  perf_grp_false negative rate_0  \\\n",
       "0                             NaN                             NaN   \n",
       "0                        0.868366                        0.012247   \n",
       "0                             NaN                             NaN   \n",
       "0                        0.679527                        0.043919   \n",
       "\n",
       "   perf_grp_false negative rate_1  perf_grp_selection rate_0  \\\n",
       "0                             NaN                        NaN   \n",
       "0                        0.051641                   0.970935   \n",
       "0                             NaN                        NaN   \n",
       "0                        0.129650                   0.902386   \n",
       "\n",
       "   perf_grp_selection rate_1  perf_grp_count_0  perf_grp_count_1  \n",
       "0                        NaN               NaN               NaN  \n",
       "0                   0.878936           20540.0           69170.0  \n",
       "0                        NaN               NaN               NaN  \n",
       "0                   0.704742           20540.0           69170.0  \n",
       "\n",
       "[4 rows x 50 columns]"
      ]
     },
     "execution_count": 66,
     "metadata": {},
     "output_type": "execute_result"
    }
   ],
   "source": [
    "final_output = universe_analysis.generate_final_output(\n",
    "    y_pred_prob=probs_test,\n",
    "    y_test=y_true,\n",
    "    org_test=org_test,\n",
    "    filter_data=filter_sub_universe_data,\n",
    "    cp_metrics_df=cp_metrics_df,\n",
    "    save=True,\n",
    ")\n",
    "final_output"
   ]
  }
 ],
 "metadata": {
  "celltoolbar": "Tags",
  "kernelspec": {
   "display_name": "Python (CMA Fairness)",
   "language": "python",
   "name": "cma_fair_env"
  },
  "language_info": {
   "codemirror_mode": {
    "name": "ipython",
    "version": 3
   },
   "file_extension": ".py",
   "mimetype": "text/x-python",
   "name": "python",
   "nbconvert_exporter": "python",
   "pygments_lexer": "ipython3",
   "version": "3.10.12"
  },
  "papermill": {
   "default_parameters": {},
   "duration": 42.348052,
   "end_time": "2025-08-05T15:14:52.362473",
   "environment_variables": {},
   "exception": null,
   "input_path": "universe_analysis.ipynb",
   "output_path": "output/runs/15/notebooks/m_15-5c5c5e01c047c1734de79cf84b7dbf51.ipynb",
   "parameters": {
    "output_dir": "output",
    "run_no": "15",
    "seed": "2023",
    "universe": "{\"cutoff\": [\"quantile_0.1\", \"quantile_0.25\"], \"eval_fairness_grouping\": [\"majority-minority\", \"nationality-all\"], \"exclude_features\": \"nationality-sex\", \"exclude_subgroups\": \"keep-all\", \"model\": \"penalized_logreg\", \"scale\": \"do-not-scale\", \"training_size\": \"25k\", \"training_year\": \"2010_14\"}",
    "universe_id": "5c5c5e01c047c1734de79cf84b7dbf51"
   },
   "start_time": "2025-08-05T15:14:10.014421",
   "version": "2.6.0"
  }
 },
 "nbformat": 4,
 "nbformat_minor": 5
}