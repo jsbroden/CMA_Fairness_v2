{
 "cells": [
  {
   "cell_type": "code",
   "execution_count": 1,
   "id": "f159f837-637b-42ba-96b5-ec9a68c44524",
   "metadata": {
    "execution": {
     "iopub.execute_input": "2025-08-05T14:59:33.117727Z",
     "iopub.status.busy": "2025-08-05T14:59:33.116837Z",
     "iopub.status.idle": "2025-08-05T14:59:33.129582Z",
     "shell.execute_reply": "2025-08-05T14:59:33.128487Z"
    },
    "papermill": {
     "duration": 0.032039,
     "end_time": "2025-08-05T14:59:33.131365",
     "exception": false,
     "start_time": "2025-08-05T14:59:33.099326",
     "status": "completed"
    },
    "tags": []
   },
   "outputs": [
    {
     "name": "stdout",
     "output_type": "stream",
     "text": [
      "/dss/dsshome1/0C/ra93lal2/cma/CMA_Fairness_v2\n"
     ]
    },
    {
     "name": "stderr",
     "output_type": "stream",
     "text": [
      "/dss/dsshome1/0C/ra93lal2/.local/share/virtualenvs/CMA_Fairness_v2-3j10GkSs/lib/python3.10/site-packages/IPython/core/magics/osm.py:393: UserWarning: This is now an optional IPython functionality, using bookmarks requires you to install the `pickleshare` library.\n",
      "  bkms = self.shell.db.get('bookmarks', {})\n",
      "/dss/dsshome1/0C/ra93lal2/.local/share/virtualenvs/CMA_Fairness_v2-3j10GkSs/lib/python3.10/site-packages/IPython/core/magics/osm.py:417: UserWarning: This is now an optional IPython functionality, setting dhist requires you to install the `pickleshare` library.\n",
      "  self.shell.db['dhist'] = compress_dhist(dhist)[-100:]\n"
     ]
    }
   ],
   "source": [
    "%cd ~/cma/CMA_Fairness_v2"
   ]
  },
  {
   "cell_type": "markdown",
   "id": "de2603b9",
   "metadata": {
    "papermill": {
     "duration": 0.018796,
     "end_time": "2025-08-05T14:59:33.167103",
     "exception": false,
     "start_time": "2025-08-05T14:59:33.148307",
     "status": "completed"
    },
    "tags": []
   },
   "source": [
    "The following cell holds the definition of our parameters, these values can be overriden by rendering the with e.g. the following command:\n",
    "\n",
    "papermill -p alpha 0.2 -p ratio 0.3 universe_analysis.ipynb output/test_run.ipynb"
   ]
  },
  {
   "cell_type": "code",
   "execution_count": 2,
   "id": "a80968a0-40bb-4fa9-85ef-2d5eefb01975",
   "metadata": {
    "execution": {
     "iopub.execute_input": "2025-08-05T14:59:33.211306Z",
     "iopub.status.busy": "2025-08-05T14:59:33.210240Z",
     "iopub.status.idle": "2025-08-05T14:59:33.216440Z",
     "shell.execute_reply": "2025-08-05T14:59:33.215406Z"
    },
    "papermill": {
     "duration": 0.030536,
     "end_time": "2025-08-05T14:59:33.218510",
     "exception": false,
     "start_time": "2025-08-05T14:59:33.187974",
     "status": "completed"
    },
    "tags": []
   },
   "outputs": [
    {
     "name": "stdout",
     "output_type": "stream",
     "text": [
      "Current working directory: /dss/dsshome1/0C/ra93lal2/cma/CMA_Fairness_v2\n"
     ]
    }
   ],
   "source": [
    "import os\n",
    "print(\"Current working directory:\", os.getcwd())"
   ]
  },
  {
   "cell_type": "code",
   "execution_count": 3,
   "id": "2dce4c03",
   "metadata": {
    "execution": {
     "iopub.execute_input": "2025-08-05T14:59:33.263872Z",
     "iopub.status.busy": "2025-08-05T14:59:33.262927Z",
     "iopub.status.idle": "2025-08-05T14:59:33.270660Z",
     "shell.execute_reply": "2025-08-05T14:59:33.269378Z"
    },
    "papermill": {
     "duration": 0.031957,
     "end_time": "2025-08-05T14:59:33.272733",
     "exception": false,
     "start_time": "2025-08-05T14:59:33.240776",
     "status": "completed"
    },
    "tags": [
     "parameters"
    ]
   },
   "outputs": [],
   "source": [
    "run_no = 0\n",
    "universe_id = \"test\"\n",
    "universe = {\n",
    "    \"training_size\": \"25k\", # \"25k\", \"5k\", \"1k\"\n",
    "    \"training_year\": \"2014\", # \"2014\", \"2012_14\", \"2010_14\"\n",
    "    \"scale\": \"scale\", # \"scale\", \"do-not-scale\",\n",
    "    \"model\": \"elasticnet\", # \"logreg\", \"penalized_logreg\", \"rf\", \"gbm\", \"elasticnet\"\n",
    "    \"cutoff\": [\"quantile_0.15\", \"quantile_0.30\"],\n",
    "    \"exclude_features\": \"age\", # \"none\", \"nationality\", \"sex\", \"nationality-sex\", \"age\"\n",
    "    \"exclude_subgroups\": \"keep-all\", # \"keep-all\", \"drop-non-german\"\n",
    "    \"eval_fairness_grouping\": [\"majority-minority\", \"nationality-all\"]\n",
    "}\n",
    "\n",
    "output_dir=\"./output\"\n",
    "seed=0"
   ]
  },
  {
   "cell_type": "code",
   "execution_count": 4,
   "id": "d2afb4a7",
   "metadata": {
    "execution": {
     "iopub.execute_input": "2025-08-05T14:59:33.314505Z",
     "iopub.status.busy": "2025-08-05T14:59:33.313642Z",
     "iopub.status.idle": "2025-08-05T14:59:33.319502Z",
     "shell.execute_reply": "2025-08-05T14:59:33.318412Z"
    },
    "papermill": {
     "duration": 0.027539,
     "end_time": "2025-08-05T14:59:33.321337",
     "exception": false,
     "start_time": "2025-08-05T14:59:33.293798",
     "status": "completed"
    },
    "tags": [
     "injected-parameters"
    ]
   },
   "outputs": [],
   "source": [
    "# Parameters\n",
    "universe_id = \"c74f87355b4100570157d146d12bceaf\"\n",
    "run_no = \"15\"\n",
    "universe = \"{\\\"cutoff\\\": [\\\"quantile_0.1\\\", \\\"quantile_0.25\\\"], \\\"eval_fairness_grouping\\\": [\\\"majority-minority\\\", \\\"nationality-all\\\"], \\\"exclude_features\\\": \\\"nationality-sex\\\", \\\"exclude_subgroups\\\": \\\"drop-non-german\\\", \\\"model\\\": \\\"rf\\\", \\\"scale\\\": \\\"do-not-scale\\\", \\\"training_size\\\": \\\"25k\\\", \\\"training_year\\\": \\\"2012_14\\\"}\"\n",
    "output_dir = \"output\"\n",
    "seed = \"2023\"\n"
   ]
  },
  {
   "cell_type": "code",
   "execution_count": 5,
   "id": "1650acaf",
   "metadata": {
    "execution": {
     "iopub.execute_input": "2025-08-05T14:59:33.361083Z",
     "iopub.status.busy": "2025-08-05T14:59:33.360184Z",
     "iopub.status.idle": "2025-08-05T14:59:33.365204Z",
     "shell.execute_reply": "2025-08-05T14:59:33.364283Z"
    },
    "papermill": {
     "duration": 0.026539,
     "end_time": "2025-08-05T14:59:33.367211",
     "exception": false,
     "start_time": "2025-08-05T14:59:33.340672",
     "status": "completed"
    },
    "tags": []
   },
   "outputs": [],
   "source": [
    "import json\n",
    "if isinstance(universe, str):\n",
    "    universe = json.loads(universe)"
   ]
  },
  {
   "cell_type": "code",
   "execution_count": 6,
   "id": "16620c48",
   "metadata": {
    "execution": {
     "iopub.execute_input": "2025-08-05T14:59:33.406611Z",
     "iopub.status.busy": "2025-08-05T14:59:33.406142Z",
     "iopub.status.idle": "2025-08-05T14:59:33.449978Z",
     "shell.execute_reply": "2025-08-05T14:59:33.448987Z"
    },
    "papermill": {
     "duration": 0.065286,
     "end_time": "2025-08-05T14:59:33.451901",
     "exception": false,
     "start_time": "2025-08-05T14:59:33.386615",
     "status": "completed"
    },
    "tags": []
   },
   "outputs": [],
   "source": [
    "# Auto-reload the custom package\n",
    "%load_ext autoreload\n",
    "%autoreload 1\n",
    "%aimport fairness_multiverse"
   ]
  },
  {
   "cell_type": "code",
   "execution_count": 7,
   "id": "01c5c9f3",
   "metadata": {
    "execution": {
     "iopub.execute_input": "2025-08-05T14:59:33.491392Z",
     "iopub.status.busy": "2025-08-05T14:59:33.490569Z",
     "iopub.status.idle": "2025-08-05T14:59:35.308520Z",
     "shell.execute_reply": "2025-08-05T14:59:35.307520Z"
    },
    "papermill": {
     "duration": 1.840726,
     "end_time": "2025-08-05T14:59:35.310571",
     "exception": false,
     "start_time": "2025-08-05T14:59:33.469845",
     "status": "completed"
    },
    "tags": []
   },
   "outputs": [],
   "source": [
    "from fairness_multiverse.universe import UniverseAnalysis\n",
    "\n",
    "universe_analysis = UniverseAnalysis(\n",
    "    run_no = run_no,\n",
    "    universe_id = universe_id,\n",
    "    universe = universe,\n",
    "    output_dir=output_dir,\n",
    ")"
   ]
  },
  {
   "cell_type": "code",
   "execution_count": 8,
   "id": "106241f5",
   "metadata": {
    "execution": {
     "iopub.execute_input": "2025-08-05T14:59:35.350338Z",
     "iopub.status.busy": "2025-08-05T14:59:35.349647Z",
     "iopub.status.idle": "2025-08-05T14:59:35.356691Z",
     "shell.execute_reply": "2025-08-05T14:59:35.355695Z"
    },
    "papermill": {
     "duration": 0.028448,
     "end_time": "2025-08-05T14:59:35.358638",
     "exception": false,
     "start_time": "2025-08-05T14:59:35.330190",
     "status": "completed"
    },
    "tags": []
   },
   "outputs": [
    {
     "name": "stdout",
     "output_type": "stream",
     "text": [
      "Using Seed: 2023\n"
     ]
    }
   ],
   "source": [
    "import numpy as np\n",
    "parsed_seed = int(seed)\n",
    "np.random.seed(parsed_seed)\n",
    "print(f\"Using Seed: {parsed_seed}\")"
   ]
  },
  {
   "cell_type": "markdown",
   "id": "e0ebdc57",
   "metadata": {
    "papermill": {
     "duration": 0.018577,
     "end_time": "2025-08-05T14:59:35.396855",
     "exception": false,
     "start_time": "2025-08-05T14:59:35.378278",
     "status": "completed"
    },
    "tags": []
   },
   "source": [
    "# Loading Data"
   ]
  },
  {
   "cell_type": "code",
   "execution_count": 9,
   "id": "f0496b8a",
   "metadata": {
    "execution": {
     "iopub.execute_input": "2025-08-05T14:59:35.435990Z",
     "iopub.status.busy": "2025-08-05T14:59:35.435310Z",
     "iopub.status.idle": "2025-08-05T14:59:45.714750Z",
     "shell.execute_reply": "2025-08-05T14:59:45.713565Z"
    },
    "papermill": {
     "duration": 10.30105,
     "end_time": "2025-08-05T14:59:45.716534",
     "exception": false,
     "start_time": "2025-08-05T14:59:35.415484",
     "status": "completed"
    },
    "tags": []
   },
   "outputs": [
    {
     "name": "stdout",
     "output_type": "stream",
     "text": [
      "Loading SIAB data from cache: data/siab_cached.csv.gz\n"
     ]
    },
    {
     "name": "stdout",
     "output_type": "stream",
     "text": [
      "(643690, 164)\n"
     ]
    }
   ],
   "source": [
    "from pathlib import Path\n",
    "import pandas as pd\n",
    "\n",
    "# File paths\n",
    "raw_file = Path(\"data/raw/siab.csv\")\n",
    "cache_file = Path(\"data/siab_cached.csv.gz\")\n",
    "\n",
    "# Ensure cache directory exists\n",
    "cache_file.parent.mkdir(parents=True, exist_ok=True)\n",
    "\n",
    "# Load with simple caching\n",
    "if cache_file.exists():\n",
    "    print(f\"Loading SIAB data from cache: {cache_file}\")\n",
    "    siab = pd.read_csv(cache_file, compression='gzip')\n",
    "else:\n",
    "    print(f\"Cache not found. Reading raw SIAB data: {raw_file}\")\n",
    "    siab = pd.read_csv(raw_file)\n",
    "    siab.to_csv(cache_file, index=False, compression='gzip')\n",
    "    print(f\"Cached SIAB data to: {cache_file}\")\n",
    "\n",
    "print(siab.shape)"
   ]
  },
  {
   "cell_type": "code",
   "execution_count": 10,
   "id": "db0ca512-5f53-4dba-abdb-a2888bca41ba",
   "metadata": {
    "execution": {
     "iopub.execute_input": "2025-08-05T14:59:45.759102Z",
     "iopub.status.busy": "2025-08-05T14:59:45.758595Z",
     "iopub.status.idle": "2025-08-05T14:59:45.781801Z",
     "shell.execute_reply": "2025-08-05T14:59:45.765338Z"
    },
    "papermill": {
     "duration": 0.044615,
     "end_time": "2025-08-05T14:59:45.783825",
     "exception": false,
     "start_time": "2025-08-05T14:59:45.739210",
     "status": "completed"
    },
    "tags": []
   },
   "outputs": [],
   "source": [
    "#siab"
   ]
  },
  {
   "cell_type": "markdown",
   "id": "997051c5-15bd-4b69-9786-c3001a3ce484",
   "metadata": {
    "papermill": {
     "duration": 0.019938,
     "end_time": "2025-08-05T14:59:45.825699",
     "exception": false,
     "start_time": "2025-08-05T14:59:45.805761",
     "status": "completed"
    },
    "tags": []
   },
   "source": [
    "# Splitting Data and Setting Training Data Size"
   ]
  },
  {
   "cell_type": "code",
   "execution_count": 11,
   "id": "aea9c6ef-6f46-42c8-85eb-5a62025c1508",
   "metadata": {
    "execution": {
     "iopub.execute_input": "2025-08-05T14:59:45.870469Z",
     "iopub.status.busy": "2025-08-05T14:59:45.870096Z",
     "iopub.status.idle": "2025-08-05T14:59:46.576973Z",
     "shell.execute_reply": "2025-08-05T14:59:46.575898Z"
    },
    "papermill": {
     "duration": 0.7329,
     "end_time": "2025-08-05T14:59:46.579002",
     "exception": false,
     "start_time": "2025-08-05T14:59:45.846102",
     "status": "completed"
    },
    "tags": []
   },
   "outputs": [],
   "source": [
    "from fairness_multiverse.universe import sample_by_year_size\n",
    "\n",
    "siab_train = sample_by_year_size(siab,\n",
    "                               training_year=universe[\"training_year\"],\n",
    "                               training_size=universe[\"training_size\"])"
   ]
  },
  {
   "cell_type": "code",
   "execution_count": 12,
   "id": "8d3afb32-789d-442c-8d5d-9f5aa8dd2eed",
   "metadata": {
    "execution": {
     "iopub.execute_input": "2025-08-05T14:59:46.623517Z",
     "iopub.status.busy": "2025-08-05T14:59:46.622611Z",
     "iopub.status.idle": "2025-08-05T14:59:46.628155Z",
     "shell.execute_reply": "2025-08-05T14:59:46.626991Z"
    },
    "papermill": {
     "duration": 0.029549,
     "end_time": "2025-08-05T14:59:46.630084",
     "exception": false,
     "start_time": "2025-08-05T14:59:46.600535",
     "status": "completed"
    },
    "tags": []
   },
   "outputs": [],
   "source": [
    "#siab_train.shape"
   ]
  },
  {
   "cell_type": "code",
   "execution_count": 13,
   "id": "d582db68-1a4c-47fb-84fc-08518dc1975a",
   "metadata": {
    "execution": {
     "iopub.execute_input": "2025-08-05T14:59:46.667594Z",
     "iopub.status.busy": "2025-08-05T14:59:46.667050Z",
     "iopub.status.idle": "2025-08-05T14:59:46.672018Z",
     "shell.execute_reply": "2025-08-05T14:59:46.671033Z"
    },
    "papermill": {
     "duration": 0.025389,
     "end_time": "2025-08-05T14:59:46.673957",
     "exception": false,
     "start_time": "2025-08-05T14:59:46.648568",
     "status": "completed"
    },
    "tags": []
   },
   "outputs": [],
   "source": [
    "#display(siab_train.groupby(\"year\").size())"
   ]
  },
  {
   "cell_type": "code",
   "execution_count": 14,
   "id": "a561edb4-d032-42cb-8256-22eac1111c64",
   "metadata": {
    "execution": {
     "iopub.execute_input": "2025-08-05T14:59:46.711627Z",
     "iopub.status.busy": "2025-08-05T14:59:46.710847Z",
     "iopub.status.idle": "2025-08-05T14:59:46.967356Z",
     "shell.execute_reply": "2025-08-05T14:59:46.966326Z"
    },
    "papermill": {
     "duration": 0.277324,
     "end_time": "2025-08-05T14:59:46.969310",
     "exception": false,
     "start_time": "2025-08-05T14:59:46.691986",
     "status": "completed"
    },
    "tags": []
   },
   "outputs": [],
   "source": [
    "#siab_train = siab_s[siab_s.year < 2015]\n",
    "siab_calib = siab[siab.year == 2015]\n",
    "siab_test = siab[siab.year == 2016]"
   ]
  },
  {
   "cell_type": "code",
   "execution_count": 15,
   "id": "472de16f-c3db-4916-846b-1f0de9cf1746",
   "metadata": {
    "execution": {
     "iopub.execute_input": "2025-08-05T14:59:47.007573Z",
     "iopub.status.busy": "2025-08-05T14:59:47.006942Z",
     "iopub.status.idle": "2025-08-05T14:59:47.021002Z",
     "shell.execute_reply": "2025-08-05T14:59:47.020084Z"
    },
    "papermill": {
     "duration": 0.035072,
     "end_time": "2025-08-05T14:59:47.023003",
     "exception": false,
     "start_time": "2025-08-05T14:59:46.987931",
     "status": "completed"
    },
    "tags": []
   },
   "outputs": [],
   "source": [
    "X_train = siab_train.iloc[:,4:164]\n",
    "y_train = siab_train.iloc[:, [3]]"
   ]
  },
  {
   "cell_type": "code",
   "execution_count": 16,
   "id": "828c96af-f43a-4ed6-ba47-8ac73a47d56c",
   "metadata": {
    "execution": {
     "iopub.execute_input": "2025-08-05T14:59:47.044836Z",
     "iopub.status.busy": "2025-08-05T14:59:47.044526Z",
     "iopub.status.idle": "2025-08-05T14:59:47.093737Z",
     "shell.execute_reply": "2025-08-05T14:59:47.092844Z"
    },
    "papermill": {
     "duration": 0.06075,
     "end_time": "2025-08-05T14:59:47.095387",
     "exception": false,
     "start_time": "2025-08-05T14:59:47.034637",
     "status": "completed"
    },
    "tags": []
   },
   "outputs": [],
   "source": [
    "X_calib = siab_calib.iloc[:,4:164]\n",
    "y_calib = siab_calib.iloc[:, [3]]"
   ]
  },
  {
   "cell_type": "code",
   "execution_count": 17,
   "id": "c34be9c3-6bd6-476e-acd3-845840e303be",
   "metadata": {
    "execution": {
     "iopub.execute_input": "2025-08-05T14:59:47.115833Z",
     "iopub.status.busy": "2025-08-05T14:59:47.115527Z",
     "iopub.status.idle": "2025-08-05T14:59:47.165296Z",
     "shell.execute_reply": "2025-08-05T14:59:47.164526Z"
    },
    "papermill": {
     "duration": 0.060949,
     "end_time": "2025-08-05T14:59:47.166726",
     "exception": false,
     "start_time": "2025-08-05T14:59:47.105777",
     "status": "completed"
    },
    "tags": []
   },
   "outputs": [],
   "source": [
    "X_test = siab_test.iloc[:,4:164]\n",
    "y_true = siab_test.iloc[:, [3]]"
   ]
  },
  {
   "cell_type": "code",
   "execution_count": 18,
   "id": "e6c733c5",
   "metadata": {
    "execution": {
     "iopub.execute_input": "2025-08-05T14:59:47.186785Z",
     "iopub.status.busy": "2025-08-05T14:59:47.186450Z",
     "iopub.status.idle": "2025-08-05T14:59:47.308983Z",
     "shell.execute_reply": "2025-08-05T14:59:47.307894Z"
    },
    "papermill": {
     "duration": 0.134233,
     "end_time": "2025-08-05T14:59:47.310584",
     "exception": false,
     "start_time": "2025-08-05T14:59:47.176351",
     "status": "completed"
    },
    "tags": []
   },
   "outputs": [],
   "source": [
    "# Auxiliary data needed downstream in the pipeline\n",
    "\n",
    "org_train = X_train.copy()\n",
    "org_test = X_test.copy()\n",
    "org_calib = X_calib.copy()"
   ]
  },
  {
   "cell_type": "markdown",
   "id": "0a4a1b33",
   "metadata": {
    "papermill": {
     "duration": 0.018997,
     "end_time": "2025-08-05T14:59:47.346797",
     "exception": false,
     "start_time": "2025-08-05T14:59:47.327800",
     "status": "completed"
    },
    "tags": []
   },
   "source": [
    "# Preprocessing Data"
   ]
  },
  {
   "cell_type": "code",
   "execution_count": 19,
   "id": "ca879031",
   "metadata": {
    "execution": {
     "iopub.execute_input": "2025-08-05T14:59:47.385146Z",
     "iopub.status.busy": "2025-08-05T14:59:47.384337Z",
     "iopub.status.idle": "2025-08-05T14:59:47.391186Z",
     "shell.execute_reply": "2025-08-05T14:59:47.390283Z"
    },
    "papermill": {
     "duration": 0.028238,
     "end_time": "2025-08-05T14:59:47.393110",
     "exception": false,
     "start_time": "2025-08-05T14:59:47.364872",
     "status": "completed"
    },
    "tags": []
   },
   "outputs": [],
   "source": [
    "# EXCLUDE PROTECTED FEATURES\n",
    "# ----------------------\n",
    "# \"exclude_features\": \"none\", # \"nationality\", \"sex\", \"nationality-sex\"\n",
    "\n",
    "excluded_features = universe[\"exclude_features\"].split(\"-\") # split, e.g.: \"nationality-sex\" -> [\"nationality\", \"sex\"]\n",
    "excluded_features_dictionary = {\n",
    "    \"nationality\": [\"maxdeutsch1\", \"maxdeutsch.Missing.\"],\n",
    "    \"sex\": [\"frau1\"],\n",
    "    \"age\": [\"age\"],\n",
    "}"
   ]
  },
  {
   "cell_type": "code",
   "execution_count": 20,
   "id": "b745ac60",
   "metadata": {
    "execution": {
     "iopub.execute_input": "2025-08-05T14:59:47.433202Z",
     "iopub.status.busy": "2025-08-05T14:59:47.432368Z",
     "iopub.status.idle": "2025-08-05T14:59:47.438202Z",
     "shell.execute_reply": "2025-08-05T14:59:47.437066Z"
    },
    "papermill": {
     "duration": 0.028606,
     "end_time": "2025-08-05T14:59:47.440134",
     "exception": false,
     "start_time": "2025-08-05T14:59:47.411528",
     "status": "completed"
    },
    "tags": []
   },
   "outputs": [],
   "source": [
    "# Code nice names to column names\n",
    "\n",
    "excluded_features_columns = [\n",
    "    excluded_features_dictionary[f] for f in excluded_features if len(f) > 0 and f != \"none\"\n",
    "]"
   ]
  },
  {
   "cell_type": "code",
   "execution_count": 21,
   "id": "f84f73a2",
   "metadata": {
    "execution": {
     "iopub.execute_input": "2025-08-05T14:59:47.479449Z",
     "iopub.status.busy": "2025-08-05T14:59:47.478718Z",
     "iopub.status.idle": "2025-08-05T14:59:47.485215Z",
     "shell.execute_reply": "2025-08-05T14:59:47.484218Z"
    },
    "papermill": {
     "duration": 0.027647,
     "end_time": "2025-08-05T14:59:47.487085",
     "exception": false,
     "start_time": "2025-08-05T14:59:47.459438",
     "status": "completed"
    },
    "tags": []
   },
   "outputs": [],
   "source": [
    "from utils import flatten_once\n",
    "\n",
    "excluded_features_columns = flatten_once(excluded_features_columns)"
   ]
  },
  {
   "cell_type": "code",
   "execution_count": 22,
   "id": "884dea22",
   "metadata": {
    "execution": {
     "iopub.execute_input": "2025-08-05T14:59:47.526638Z",
     "iopub.status.busy": "2025-08-05T14:59:47.526261Z",
     "iopub.status.idle": "2025-08-05T14:59:47.543239Z",
     "shell.execute_reply": "2025-08-05T14:59:47.542270Z"
    },
    "papermill": {
     "duration": 0.038436,
     "end_time": "2025-08-05T14:59:47.544904",
     "exception": false,
     "start_time": "2025-08-05T14:59:47.506468",
     "status": "completed"
    },
    "tags": []
   },
   "outputs": [
    {
     "name": "stdout",
     "output_type": "stream",
     "text": [
      "Dropping features: ['maxdeutsch1', 'maxdeutsch.Missing.', 'frau1']\n"
     ]
    }
   ],
   "source": [
    "if len(excluded_features_columns) > 0:\n",
    "    print(f\"Dropping features: {excluded_features_columns}\")\n",
    "    X_train.drop(excluded_features_columns, axis=1, inplace=True)"
   ]
  },
  {
   "cell_type": "code",
   "execution_count": 23,
   "id": "95ab8b16",
   "metadata": {
    "execution": {
     "iopub.execute_input": "2025-08-05T14:59:47.586139Z",
     "iopub.status.busy": "2025-08-05T14:59:47.585364Z",
     "iopub.status.idle": "2025-08-05T14:59:47.639579Z",
     "shell.execute_reply": "2025-08-05T14:59:47.638474Z"
    },
    "papermill": {
     "duration": 0.07712,
     "end_time": "2025-08-05T14:59:47.641353",
     "exception": false,
     "start_time": "2025-08-05T14:59:47.564233",
     "status": "completed"
    },
    "tags": []
   },
   "outputs": [
    {
     "name": "stdout",
     "output_type": "stream",
     "text": [
      "Dropping features: ['maxdeutsch1', 'maxdeutsch.Missing.', 'frau1']\n"
     ]
    }
   ],
   "source": [
    "if len(excluded_features_columns) > 0:\n",
    "    print(f\"Dropping features: {excluded_features_columns}\")\n",
    "    X_test.drop(excluded_features_columns, axis=1, inplace=True)"
   ]
  },
  {
   "cell_type": "code",
   "execution_count": 24,
   "id": "1853aaf5-fb9f-46cb-a2b5-8ea4ae2237e4",
   "metadata": {
    "execution": {
     "iopub.execute_input": "2025-08-05T14:59:47.681649Z",
     "iopub.status.busy": "2025-08-05T14:59:47.680980Z",
     "iopub.status.idle": "2025-08-05T14:59:47.734172Z",
     "shell.execute_reply": "2025-08-05T14:59:47.733102Z"
    },
    "papermill": {
     "duration": 0.074894,
     "end_time": "2025-08-05T14:59:47.735929",
     "exception": false,
     "start_time": "2025-08-05T14:59:47.661035",
     "status": "completed"
    },
    "tags": []
   },
   "outputs": [
    {
     "name": "stdout",
     "output_type": "stream",
     "text": [
      "Dropping features: ['maxdeutsch1', 'maxdeutsch.Missing.', 'frau1']\n"
     ]
    }
   ],
   "source": [
    "if len(excluded_features_columns) > 0:\n",
    "    print(f\"Dropping features: {excluded_features_columns}\")\n",
    "    X_calib.drop(excluded_features_columns, axis=1, inplace=True)"
   ]
  },
  {
   "cell_type": "code",
   "execution_count": 25,
   "id": "76c4dc6d",
   "metadata": {
    "execution": {
     "iopub.execute_input": "2025-08-05T14:59:47.776803Z",
     "iopub.status.busy": "2025-08-05T14:59:47.775957Z",
     "iopub.status.idle": "2025-08-05T14:59:47.781377Z",
     "shell.execute_reply": "2025-08-05T14:59:47.780453Z"
    },
    "papermill": {
     "duration": 0.027489,
     "end_time": "2025-08-05T14:59:47.783441",
     "exception": false,
     "start_time": "2025-08-05T14:59:47.755952",
     "status": "completed"
    },
    "tags": []
   },
   "outputs": [],
   "source": [
    "# EXCLUDE CERTAIN SUBGROUPS\n",
    "# ----------------------\n",
    "\n",
    "mode = universe.get(\"exclude_subgroups\", \"keep-all\") \n",
    "# Fetches the exclude_subgroups setting from the universe dict.\n",
    "# Defaults to \"keep-all\" if the key is missing."
   ]
  },
  {
   "cell_type": "code",
   "execution_count": 26,
   "id": "21994072",
   "metadata": {
    "execution": {
     "iopub.execute_input": "2025-08-05T14:59:47.824928Z",
     "iopub.status.busy": "2025-08-05T14:59:47.824100Z",
     "iopub.status.idle": "2025-08-05T14:59:47.830991Z",
     "shell.execute_reply": "2025-08-05T14:59:47.830050Z"
    },
    "papermill": {
     "duration": 0.028843,
     "end_time": "2025-08-05T14:59:47.832820",
     "exception": false,
     "start_time": "2025-08-05T14:59:47.803977",
     "status": "completed"
    },
    "tags": []
   },
   "outputs": [],
   "source": [
    "if mode == \"keep-all\":\n",
    "    keep_mask = pd.Series(True, index=org_train.index)\n",
    "\n",
    "# org_train contains the original feature columns from features_org (in Simson)\n",
    "# features_org contains unprocessed features, for me X_train at beginning ???\n",
    "# For keep-all, creates a boolean Series (keep_mask) of all True, so no rows are removed.\n",
    "\n",
    "elif mode == \"drop-non-german\":\n",
    "    keep_mask = org_train[\"maxdeutsch1\"] == 1 # ??? what about missing values?\n",
    "\n",
    "else:\n",
    "    raise ValueError(f\"Unsupported mode for exclude_subgroups: {mode}\")"
   ]
  },
  {
   "cell_type": "code",
   "execution_count": 27,
   "id": "71651440",
   "metadata": {
    "execution": {
     "iopub.execute_input": "2025-08-05T14:59:47.873848Z",
     "iopub.status.busy": "2025-08-05T14:59:47.872952Z",
     "iopub.status.idle": "2025-08-05T14:59:47.880223Z",
     "shell.execute_reply": "2025-08-05T14:59:47.879105Z"
    },
    "papermill": {
     "duration": 0.029437,
     "end_time": "2025-08-05T14:59:47.882118",
     "exception": false,
     "start_time": "2025-08-05T14:59:47.852681",
     "status": "completed"
    },
    "tags": []
   },
   "outputs": [
    {
     "name": "stdout",
     "output_type": "stream",
     "text": [
      "Dropping 3481 rows (13.92%) where mode='drop-non-german'\n"
     ]
    }
   ],
   "source": [
    "n_drop = (~keep_mask).sum() # Calculates how many rows are set to be dropped\n",
    "if n_drop > 0:\n",
    "    pct = n_drop / len(keep_mask) * 100\n",
    "    print(f\"Dropping {n_drop} rows ({pct:.2f}%) where mode='{mode}'\")"
   ]
  },
  {
   "cell_type": "code",
   "execution_count": 28,
   "id": "5fb8eee5",
   "metadata": {
    "execution": {
     "iopub.execute_input": "2025-08-05T14:59:47.924316Z",
     "iopub.status.busy": "2025-08-05T14:59:47.923534Z",
     "iopub.status.idle": "2025-08-05T14:59:47.938229Z",
     "shell.execute_reply": "2025-08-05T14:59:47.936930Z"
    },
    "papermill": {
     "duration": 0.037877,
     "end_time": "2025-08-05T14:59:47.940555",
     "exception": false,
     "start_time": "2025-08-05T14:59:47.902678",
     "status": "completed"
    },
    "tags": []
   },
   "outputs": [],
   "source": [
    "X_train = X_train[keep_mask]"
   ]
  },
  {
   "cell_type": "code",
   "execution_count": 29,
   "id": "b202bb3a",
   "metadata": {
    "execution": {
     "iopub.execute_input": "2025-08-05T14:59:47.982687Z",
     "iopub.status.busy": "2025-08-05T14:59:47.982047Z",
     "iopub.status.idle": "2025-08-05T14:59:47.988673Z",
     "shell.execute_reply": "2025-08-05T14:59:47.987404Z"
    },
    "papermill": {
     "duration": 0.028643,
     "end_time": "2025-08-05T14:59:47.990571",
     "exception": false,
     "start_time": "2025-08-05T14:59:47.961928",
     "status": "completed"
    },
    "tags": []
   },
   "outputs": [],
   "source": [
    "y_train = y_train[keep_mask]"
   ]
  },
  {
   "cell_type": "markdown",
   "id": "493e2ac3",
   "metadata": {
    "papermill": {
     "duration": 0.019008,
     "end_time": "2025-08-05T14:59:48.032532",
     "exception": false,
     "start_time": "2025-08-05T14:59:48.013524",
     "status": "completed"
    },
    "tags": []
   },
   "source": [
    "# Model Training"
   ]
  },
  {
   "cell_type": "code",
   "execution_count": 30,
   "id": "679e1268",
   "metadata": {
    "execution": {
     "iopub.execute_input": "2025-08-05T14:59:48.073441Z",
     "iopub.status.busy": "2025-08-05T14:59:48.072569Z",
     "iopub.status.idle": "2025-08-05T14:59:48.176742Z",
     "shell.execute_reply": "2025-08-05T14:59:48.175819Z"
    },
    "papermill": {
     "duration": 0.126708,
     "end_time": "2025-08-05T14:59:48.178844",
     "exception": false,
     "start_time": "2025-08-05T14:59:48.052136",
     "status": "completed"
    },
    "tags": []
   },
   "outputs": [],
   "source": [
    "from sklearn.linear_model import LogisticRegression\n",
    "from sklearn.ensemble import GradientBoostingClassifier, RandomForestClassifier\n",
    "\n",
    "if (universe[\"model\"] == \"logreg\"):\n",
    "    model = LogisticRegression() #penalty=\"none\", solver=\"newton-cg\", max_iter=1) # include random_state=19 ?\n",
    "elif (universe[\"model\"] == \"penalized_logreg\"):\n",
    "    model = LogisticRegression(penalty=\"l2\", C=0.1) #, solver=\"newton-cg\", max_iter=1)\n",
    "elif (universe[\"model\"] == \"rf\"):\n",
    "    model = RandomForestClassifier() # n_estimators=100, n_jobs=-1\n",
    "elif (universe[\"model\"] == \"gbm\"):\n",
    "    model = GradientBoostingClassifier()\n",
    "elif (universe[\"model\"] == \"elasticnet\"):\n",
    "    model = LogisticRegression(penalty = 'elasticnet', solver = 'saga', l1_ratio = 0.5) # max_iter=5000\n",
    "else:\n",
    "    raise \"Unsupported universe.model\""
   ]
  },
  {
   "cell_type": "code",
   "execution_count": 31,
   "id": "0cc8f744",
   "metadata": {
    "execution": {
     "iopub.execute_input": "2025-08-05T14:59:48.219673Z",
     "iopub.status.busy": "2025-08-05T14:59:48.219013Z",
     "iopub.status.idle": "2025-08-05T14:59:48.225479Z",
     "shell.execute_reply": "2025-08-05T14:59:48.224529Z"
    },
    "papermill": {
     "duration": 0.028801,
     "end_time": "2025-08-05T14:59:48.227395",
     "exception": false,
     "start_time": "2025-08-05T14:59:48.198594",
     "status": "completed"
    },
    "tags": []
   },
   "outputs": [],
   "source": [
    "import numpy as np\n",
    "from sklearn.pipeline import Pipeline\n",
    "from sklearn.preprocessing import StandardScaler\n",
    "\n",
    "model = Pipeline([\n",
    "    #(\"continuous_processor\", continuous_processor),\n",
    "    #(\"categorical_preprocessor\", categorical_preprocessor),\n",
    "    (\"scale\", StandardScaler() if universe[\"scale\"] == \"scale\" else None), \n",
    "    (\"model\", model),\n",
    "])"
   ]
  },
  {
   "cell_type": "code",
   "execution_count": 32,
   "id": "9442c04d",
   "metadata": {
    "execution": {
     "iopub.execute_input": "2025-08-05T14:59:48.267570Z",
     "iopub.status.busy": "2025-08-05T14:59:48.266936Z",
     "iopub.status.idle": "2025-08-05T14:59:56.375242Z",
     "shell.execute_reply": "2025-08-05T14:59:56.374509Z"
    },
    "papermill": {
     "duration": 8.129406,
     "end_time": "2025-08-05T14:59:56.376484",
     "exception": false,
     "start_time": "2025-08-05T14:59:48.247078",
     "status": "completed"
    },
    "tags": []
   },
   "outputs": [
    {
     "data": {
      "text/html": [
       "<style>#sk-container-id-1 {color: black;background-color: white;}#sk-container-id-1 pre{padding: 0;}#sk-container-id-1 div.sk-toggleable {background-color: white;}#sk-container-id-1 label.sk-toggleable__label {cursor: pointer;display: block;width: 100%;margin-bottom: 0;padding: 0.3em;box-sizing: border-box;text-align: center;}#sk-container-id-1 label.sk-toggleable__label-arrow:before {content: \"▸\";float: left;margin-right: 0.25em;color: #696969;}#sk-container-id-1 label.sk-toggleable__label-arrow:hover:before {color: black;}#sk-container-id-1 div.sk-estimator:hover label.sk-toggleable__label-arrow:before {color: black;}#sk-container-id-1 div.sk-toggleable__content {max-height: 0;max-width: 0;overflow: hidden;text-align: left;background-color: #f0f8ff;}#sk-container-id-1 div.sk-toggleable__content pre {margin: 0.2em;color: black;border-radius: 0.25em;background-color: #f0f8ff;}#sk-container-id-1 input.sk-toggleable__control:checked~div.sk-toggleable__content {max-height: 200px;max-width: 100%;overflow: auto;}#sk-container-id-1 input.sk-toggleable__control:checked~label.sk-toggleable__label-arrow:before {content: \"▾\";}#sk-container-id-1 div.sk-estimator input.sk-toggleable__control:checked~label.sk-toggleable__label {background-color: #d4ebff;}#sk-container-id-1 div.sk-label input.sk-toggleable__control:checked~label.sk-toggleable__label {background-color: #d4ebff;}#sk-container-id-1 input.sk-hidden--visually {border: 0;clip: rect(1px 1px 1px 1px);clip: rect(1px, 1px, 1px, 1px);height: 1px;margin: -1px;overflow: hidden;padding: 0;position: absolute;width: 1px;}#sk-container-id-1 div.sk-estimator {font-family: monospace;background-color: #f0f8ff;border: 1px dotted black;border-radius: 0.25em;box-sizing: border-box;margin-bottom: 0.5em;}#sk-container-id-1 div.sk-estimator:hover {background-color: #d4ebff;}#sk-container-id-1 div.sk-parallel-item::after {content: \"\";width: 100%;border-bottom: 1px solid gray;flex-grow: 1;}#sk-container-id-1 div.sk-label:hover label.sk-toggleable__label {background-color: #d4ebff;}#sk-container-id-1 div.sk-serial::before {content: \"\";position: absolute;border-left: 1px solid gray;box-sizing: border-box;top: 0;bottom: 0;left: 50%;z-index: 0;}#sk-container-id-1 div.sk-serial {display: flex;flex-direction: column;align-items: center;background-color: white;padding-right: 0.2em;padding-left: 0.2em;position: relative;}#sk-container-id-1 div.sk-item {position: relative;z-index: 1;}#sk-container-id-1 div.sk-parallel {display: flex;align-items: stretch;justify-content: center;background-color: white;position: relative;}#sk-container-id-1 div.sk-item::before, #sk-container-id-1 div.sk-parallel-item::before {content: \"\";position: absolute;border-left: 1px solid gray;box-sizing: border-box;top: 0;bottom: 0;left: 50%;z-index: -1;}#sk-container-id-1 div.sk-parallel-item {display: flex;flex-direction: column;z-index: 1;position: relative;background-color: white;}#sk-container-id-1 div.sk-parallel-item:first-child::after {align-self: flex-end;width: 50%;}#sk-container-id-1 div.sk-parallel-item:last-child::after {align-self: flex-start;width: 50%;}#sk-container-id-1 div.sk-parallel-item:only-child::after {width: 0;}#sk-container-id-1 div.sk-dashed-wrapped {border: 1px dashed gray;margin: 0 0.4em 0.5em 0.4em;box-sizing: border-box;padding-bottom: 0.4em;background-color: white;}#sk-container-id-1 div.sk-label label {font-family: monospace;font-weight: bold;display: inline-block;line-height: 1.2em;}#sk-container-id-1 div.sk-label-container {text-align: center;}#sk-container-id-1 div.sk-container {/* jupyter's `normalize.less` sets `[hidden] { display: none; }` but bootstrap.min.css set `[hidden] { display: none !important; }` so we also need the `!important` here to be able to override the default hidden behavior on the sphinx rendered scikit-learn.org. See: https://github.com/scikit-learn/scikit-learn/issues/21755 */display: inline-block !important;position: relative;}#sk-container-id-1 div.sk-text-repr-fallback {display: none;}</style><div id=\"sk-container-id-1\" class=\"sk-top-container\"><div class=\"sk-text-repr-fallback\"><pre>Pipeline(steps=[(&#x27;scale&#x27;, None), (&#x27;model&#x27;, RandomForestClassifier())])</pre><b>In a Jupyter environment, please rerun this cell to show the HTML representation or trust the notebook. <br />On GitHub, the HTML representation is unable to render, please try loading this page with nbviewer.org.</b></div><div class=\"sk-container\" hidden><div class=\"sk-item sk-dashed-wrapped\"><div class=\"sk-label-container\"><div class=\"sk-label sk-toggleable\"><input class=\"sk-toggleable__control sk-hidden--visually\" id=\"sk-estimator-id-1\" type=\"checkbox\" ><label for=\"sk-estimator-id-1\" class=\"sk-toggleable__label sk-toggleable__label-arrow\">Pipeline</label><div class=\"sk-toggleable__content\"><pre>Pipeline(steps=[(&#x27;scale&#x27;, None), (&#x27;model&#x27;, RandomForestClassifier())])</pre></div></div></div><div class=\"sk-serial\"><div class=\"sk-item\"><div class=\"sk-estimator sk-toggleable\"><input class=\"sk-toggleable__control sk-hidden--visually\" id=\"sk-estimator-id-2\" type=\"checkbox\" ><label for=\"sk-estimator-id-2\" class=\"sk-toggleable__label sk-toggleable__label-arrow\">None</label><div class=\"sk-toggleable__content\"><pre>None</pre></div></div></div><div class=\"sk-item\"><div class=\"sk-estimator sk-toggleable\"><input class=\"sk-toggleable__control sk-hidden--visually\" id=\"sk-estimator-id-3\" type=\"checkbox\" ><label for=\"sk-estimator-id-3\" class=\"sk-toggleable__label sk-toggleable__label-arrow\">RandomForestClassifier</label><div class=\"sk-toggleable__content\"><pre>RandomForestClassifier()</pre></div></div></div></div></div></div></div>"
      ],
      "text/plain": [
       "Pipeline(steps=[('scale', None), ('model', RandomForestClassifier())])"
      ]
     },
     "execution_count": 32,
     "metadata": {},
     "output_type": "execute_result"
    }
   ],
   "source": [
    "model.fit(X_train, y_train.values.ravel())"
   ]
  },
  {
   "cell_type": "code",
   "execution_count": 33,
   "id": "af59f8c0",
   "metadata": {
    "execution": {
     "iopub.execute_input": "2025-08-05T14:59:56.400768Z",
     "iopub.status.busy": "2025-08-05T14:59:56.400046Z",
     "iopub.status.idle": "2025-08-05T14:59:56.405327Z",
     "shell.execute_reply": "2025-08-05T14:59:56.404380Z"
    },
    "papermill": {
     "duration": 0.017874,
     "end_time": "2025-08-05T14:59:56.407166",
     "exception": false,
     "start_time": "2025-08-05T14:59:56.389292",
     "status": "completed"
    },
    "tags": []
   },
   "outputs": [],
   "source": [
    "from fairness_multiverse.universe import predict_w_threshold"
   ]
  },
  {
   "cell_type": "code",
   "execution_count": 34,
   "id": "a7cf2e16",
   "metadata": {
    "execution": {
     "iopub.execute_input": "2025-08-05T14:59:56.429550Z",
     "iopub.status.busy": "2025-08-05T14:59:56.428830Z",
     "iopub.status.idle": "2025-08-05T14:59:58.717488Z",
     "shell.execute_reply": "2025-08-05T14:59:58.716509Z"
    },
    "papermill": {
     "duration": 2.300862,
     "end_time": "2025-08-05T14:59:58.719044",
     "exception": false,
     "start_time": "2025-08-05T14:59:56.418182",
     "status": "completed"
    },
    "tags": []
   },
   "outputs": [
    {
     "data": {
      "text/plain": [
       "0.8658789432616207"
      ]
     },
     "execution_count": 34,
     "metadata": {},
     "output_type": "execute_result"
    }
   ],
   "source": [
    "probs_test = model.predict_proba(X_test)\n",
    "\n",
    "'''\n",
    "Below code returns a boolean array (or binary 0/1 array depending on how it’s used) where each element \n",
    "is True if the probability of class 1 is greater than or equal to the threshold, and False otherwise.\n",
    "'''\n",
    "y_pred_default = predict_w_threshold(probs_test, 0.5)\n",
    "\n",
    "from sklearn.metrics import accuracy_score\n",
    "\n",
    "# Naive prediction\n",
    "accuracy_score(y_true = y_true, y_pred = y_pred_default)"
   ]
  },
  {
   "cell_type": "code",
   "execution_count": 35,
   "id": "081964c3",
   "metadata": {
    "execution": {
     "iopub.execute_input": "2025-08-05T14:59:58.762596Z",
     "iopub.status.busy": "2025-08-05T14:59:58.761680Z",
     "iopub.status.idle": "2025-08-05T15:00:02.032706Z",
     "shell.execute_reply": "2025-08-05T15:00:02.031751Z"
    },
    "papermill": {
     "duration": 3.293609,
     "end_time": "2025-08-05T15:00:02.034444",
     "exception": false,
     "start_time": "2025-08-05T14:59:58.740835",
     "status": "completed"
    },
    "tags": []
   },
   "outputs": [
    {
     "data": {
      "text/plain": [
       "array([0, 0, 0, ..., 0, 0, 0])"
      ]
     },
     "execution_count": 35,
     "metadata": {},
     "output_type": "execute_result"
    }
   ],
   "source": [
    "model.predict(X_test)"
   ]
  },
  {
   "cell_type": "markdown",
   "id": "56c9705b",
   "metadata": {
    "papermill": {
     "duration": 0.02163,
     "end_time": "2025-08-05T15:00:02.090450",
     "exception": false,
     "start_time": "2025-08-05T15:00:02.068820",
     "status": "completed"
    },
    "tags": []
   },
   "source": [
    "# Conformal Prediction"
   ]
  },
  {
   "cell_type": "code",
   "execution_count": 36,
   "id": "160ec6ff",
   "metadata": {
    "execution": {
     "iopub.execute_input": "2025-08-05T15:00:02.136188Z",
     "iopub.status.busy": "2025-08-05T15:00:02.135256Z",
     "iopub.status.idle": "2025-08-05T15:00:02.140711Z",
     "shell.execute_reply": "2025-08-05T15:00:02.139741Z"
    },
    "papermill": {
     "duration": 0.029106,
     "end_time": "2025-08-05T15:00:02.142397",
     "exception": false,
     "start_time": "2025-08-05T15:00:02.113291",
     "status": "completed"
    },
    "tags": []
   },
   "outputs": [],
   "source": [
    "# Miscoverage level for conformal prediction (10% allowed error rate => 90% target coverage)\n",
    "alpha = 0.1"
   ]
  },
  {
   "cell_type": "code",
   "execution_count": 37,
   "id": "eadf4555-3dd3-440e-8e35-f82a4ad9f855",
   "metadata": {
    "execution": {
     "iopub.execute_input": "2025-08-05T15:00:02.189082Z",
     "iopub.status.busy": "2025-08-05T15:00:02.188572Z",
     "iopub.status.idle": "2025-08-05T15:00:04.717874Z",
     "shell.execute_reply": "2025-08-05T15:00:04.716815Z"
    },
    "papermill": {
     "duration": 2.554942,
     "end_time": "2025-08-05T15:00:04.719758",
     "exception": false,
     "start_time": "2025-08-05T15:00:02.164816",
     "status": "completed"
    },
    "tags": []
   },
   "outputs": [],
   "source": [
    "probs_calib = model.predict_proba(X_calib)"
   ]
  },
  {
   "cell_type": "code",
   "execution_count": 38,
   "id": "2ed93547-6d5d-4983-9b36-1ecb300da49a",
   "metadata": {
    "execution": {
     "iopub.execute_input": "2025-08-05T15:00:04.774999Z",
     "iopub.status.busy": "2025-08-05T15:00:04.774468Z",
     "iopub.status.idle": "2025-08-05T15:00:04.780538Z",
     "shell.execute_reply": "2025-08-05T15:00:04.779578Z"
    },
    "papermill": {
     "duration": 0.042158,
     "end_time": "2025-08-05T15:00:04.782394",
     "exception": false,
     "start_time": "2025-08-05T15:00:04.740236",
     "status": "completed"
    },
    "tags": []
   },
   "outputs": [],
   "source": [
    "y_calib = y_calib.values.ravel().astype(int)"
   ]
  },
  {
   "cell_type": "code",
   "execution_count": 39,
   "id": "65d1320d-f588-4b38-9072-62af1ae97f7d",
   "metadata": {
    "execution": {
     "iopub.execute_input": "2025-08-05T15:00:04.826832Z",
     "iopub.status.busy": "2025-08-05T15:00:04.826027Z",
     "iopub.status.idle": "2025-08-05T15:00:04.833208Z",
     "shell.execute_reply": "2025-08-05T15:00:04.832225Z"
    },
    "papermill": {
     "duration": 0.031553,
     "end_time": "2025-08-05T15:00:04.835009",
     "exception": false,
     "start_time": "2025-08-05T15:00:04.803456",
     "status": "completed"
    },
    "tags": []
   },
   "outputs": [],
   "source": [
    "from fairness_multiverse.conformal import compute_nc_scores\n",
    "\n",
    "# Compute nonconformity scores on calibration set (1 - probability of true class)\n",
    "nc_scores = compute_nc_scores(probs_calib, y_calib)"
   ]
  },
  {
   "cell_type": "code",
   "execution_count": 40,
   "id": "df3b8ca3-53b7-43d5-9667-7c85da7aeda2",
   "metadata": {
    "execution": {
     "iopub.execute_input": "2025-08-05T15:00:04.876621Z",
     "iopub.status.busy": "2025-08-05T15:00:04.875927Z",
     "iopub.status.idle": "2025-08-05T15:00:04.882509Z",
     "shell.execute_reply": "2025-08-05T15:00:04.881239Z"
    },
    "papermill": {
     "duration": 0.028978,
     "end_time": "2025-08-05T15:00:04.884302",
     "exception": false,
     "start_time": "2025-08-05T15:00:04.855324",
     "status": "completed"
    },
    "tags": []
   },
   "outputs": [],
   "source": [
    "from fairness_multiverse.conformal import find_threshold\n",
    "\n",
    "# Find conformal threshold q_hat for the given alpha (split conformal method)\n",
    "q_hat = find_threshold(nc_scores, alpha)"
   ]
  },
  {
   "cell_type": "code",
   "execution_count": 41,
   "id": "4d29e6c1-0ef6-4aa4-b8fe-4fe79b0d033a",
   "metadata": {
    "execution": {
     "iopub.execute_input": "2025-08-05T15:00:04.928086Z",
     "iopub.status.busy": "2025-08-05T15:00:04.927571Z",
     "iopub.status.idle": "2025-08-05T15:00:04.935919Z",
     "shell.execute_reply": "2025-08-05T15:00:04.934731Z"
    },
    "papermill": {
     "duration": 0.032116,
     "end_time": "2025-08-05T15:00:04.937775",
     "exception": false,
     "start_time": "2025-08-05T15:00:04.905659",
     "status": "completed"
    },
    "tags": []
   },
   "outputs": [
    {
     "data": {
      "text/plain": [
       "0.65"
      ]
     },
     "execution_count": 41,
     "metadata": {},
     "output_type": "execute_result"
    }
   ],
   "source": [
    "q_hat"
   ]
  },
  {
   "cell_type": "code",
   "execution_count": 42,
   "id": "92460794-cdac-4be2-ba28-f28c0515a6fb",
   "metadata": {
    "execution": {
     "iopub.execute_input": "2025-08-05T15:00:04.982560Z",
     "iopub.status.busy": "2025-08-05T15:00:04.981676Z",
     "iopub.status.idle": "2025-08-05T15:00:08.922574Z",
     "shell.execute_reply": "2025-08-05T15:00:08.921321Z"
    },
    "papermill": {
     "duration": 3.965493,
     "end_time": "2025-08-05T15:00:08.924636",
     "exception": false,
     "start_time": "2025-08-05T15:00:04.959143",
     "status": "completed"
    },
    "tags": []
   },
   "outputs": [],
   "source": [
    "from fairness_multiverse.conformal import predict_conformal_sets\n",
    "\n",
    "# Generate prediction sets for each test example\n",
    "pred_sets = predict_conformal_sets(model, X_test, q_hat)"
   ]
  },
  {
   "cell_type": "code",
   "execution_count": 43,
   "id": "d90c9a65-e6db-4f5d-80cd-e68fb7e46829",
   "metadata": {
    "execution": {
     "iopub.execute_input": "2025-08-05T15:00:08.974960Z",
     "iopub.status.busy": "2025-08-05T15:00:08.974422Z",
     "iopub.status.idle": "2025-08-05T15:00:08.981063Z",
     "shell.execute_reply": "2025-08-05T15:00:08.979892Z"
    },
    "papermill": {
     "duration": 0.032557,
     "end_time": "2025-08-05T15:00:08.983016",
     "exception": false,
     "start_time": "2025-08-05T15:00:08.950459",
     "status": "completed"
    },
    "tags": []
   },
   "outputs": [],
   "source": [
    "y_true = y_true.squeeze()"
   ]
  },
  {
   "cell_type": "code",
   "execution_count": 44,
   "id": "3a58a54a-1e68-46b9-927a-df01f18aebc8",
   "metadata": {
    "execution": {
     "iopub.execute_input": "2025-08-05T15:00:09.032035Z",
     "iopub.status.busy": "2025-08-05T15:00:09.031067Z",
     "iopub.status.idle": "2025-08-05T15:00:09.970078Z",
     "shell.execute_reply": "2025-08-05T15:00:09.968884Z"
    },
    "papermill": {
     "duration": 0.965231,
     "end_time": "2025-08-05T15:00:09.972322",
     "exception": false,
     "start_time": "2025-08-05T15:00:09.007091",
     "status": "completed"
    },
    "tags": []
   },
   "outputs": [],
   "source": [
    "from fairness_multiverse.conformal import evaluate_sets\n",
    "\n",
    "# Evaluate coverage and average set size on test data\n",
    "metrics = evaluate_sets(pred_sets, y_true)"
   ]
  },
  {
   "cell_type": "markdown",
   "id": "2b569c12-9aaa-4c88-98c9-bbcd0cf3ebb8",
   "metadata": {
    "papermill": {
     "duration": 0.025383,
     "end_time": "2025-08-05T15:00:10.025416",
     "exception": false,
     "start_time": "2025-08-05T15:00:10.000033",
     "status": "completed"
    },
    "tags": []
   },
   "source": [
    "# CP Metrics"
   ]
  },
  {
   "cell_type": "code",
   "execution_count": 45,
   "id": "5ce0a5cb-201f-45a0-ade5-94c7f0bd6095",
   "metadata": {
    "execution": {
     "iopub.execute_input": "2025-08-05T15:00:10.066700Z",
     "iopub.status.busy": "2025-08-05T15:00:10.066044Z",
     "iopub.status.idle": "2025-08-05T15:00:10.073571Z",
     "shell.execute_reply": "2025-08-05T15:00:10.072574Z"
    },
    "papermill": {
     "duration": 0.029915,
     "end_time": "2025-08-05T15:00:10.075263",
     "exception": false,
     "start_time": "2025-08-05T15:00:10.045348",
     "status": "completed"
    },
    "tags": []
   },
   "outputs": [
    {
     "data": {
      "text/plain": [
       "{'coverage': 0.9129417010366737, 'avg_size': 1.1363281685430833}"
      ]
     },
     "execution_count": 45,
     "metadata": {},
     "output_type": "execute_result"
    }
   ],
   "source": [
    "metrics"
   ]
  },
  {
   "cell_type": "code",
   "execution_count": 46,
   "id": "9b9a838d-31c9-430b-ae14-12baee460d17",
   "metadata": {
    "execution": {
     "iopub.execute_input": "2025-08-05T15:00:10.116716Z",
     "iopub.status.busy": "2025-08-05T15:00:10.115968Z",
     "iopub.status.idle": "2025-08-05T15:00:10.123152Z",
     "shell.execute_reply": "2025-08-05T15:00:10.122110Z"
    },
    "papermill": {
     "duration": 0.029408,
     "end_time": "2025-08-05T15:00:10.124875",
     "exception": false,
     "start_time": "2025-08-05T15:00:10.095467",
     "status": "completed"
    },
    "tags": []
   },
   "outputs": [],
   "source": [
    "example_universe = universe.copy()\n",
    "universe_training_year = example_universe.get(\"training_year\")\n",
    "universe_training_size = example_universe.get(\"training_size\")\n",
    "universe_scale = example_universe.get(\"scale\")\n",
    "universe_model = example_universe.get(\"model\")\n",
    "universe_exclude_features = example_universe.get(\"exclude_features\")\n",
    "universe_exclude_subgroups = example_universe.get(\"exclude_subgroups\")"
   ]
  },
  {
   "cell_type": "code",
   "execution_count": 47,
   "id": "f4b6a8ac-9dc0-4245-8a91-5b3b5999c4f9",
   "metadata": {
    "execution": {
     "iopub.execute_input": "2025-08-05T15:00:10.166963Z",
     "iopub.status.busy": "2025-08-05T15:00:10.166301Z",
     "iopub.status.idle": "2025-08-05T15:00:10.173093Z",
     "shell.execute_reply": "2025-08-05T15:00:10.171905Z"
    },
    "papermill": {
     "duration": 0.029247,
     "end_time": "2025-08-05T15:00:10.174820",
     "exception": false,
     "start_time": "2025-08-05T15:00:10.145573",
     "status": "completed"
    },
    "tags": []
   },
   "outputs": [],
   "source": [
    "cp_metrics_dict = {\n",
    "    \"universe_id\": [universe_id],\n",
    "    \"universe_training_year\": [universe_training_year],\n",
    "    \"universe_training_size\": [universe_training_size],\n",
    "    \"universe_scale\": [universe_scale],\n",
    "    \"universe_model\": [universe_model],\n",
    "    \"universe_exclude_features\": [universe_exclude_features],\n",
    "    \"universe_exclude_subgroups\": [universe_exclude_subgroups],\n",
    "    \"q_hat\": [q_hat],\n",
    "    \"coverage\": [metrics[\"coverage\"]],\n",
    "    \"avg_size\": [metrics[\"avg_size\"]],\n",
    "}"
   ]
  },
  {
   "cell_type": "code",
   "execution_count": 48,
   "id": "908acbb1-0371-4915-85ca-3fa520d2efe2",
   "metadata": {
    "execution": {
     "iopub.execute_input": "2025-08-05T15:00:10.216285Z",
     "iopub.status.busy": "2025-08-05T15:00:10.215578Z",
     "iopub.status.idle": "2025-08-05T15:00:10.225039Z",
     "shell.execute_reply": "2025-08-05T15:00:10.222482Z"
    },
    "papermill": {
     "duration": 0.03167,
     "end_time": "2025-08-05T15:00:10.226745",
     "exception": false,
     "start_time": "2025-08-05T15:00:10.195075",
     "status": "completed"
    },
    "tags": []
   },
   "outputs": [
    {
     "data": {
      "text/plain": [
       "{'universe_id': ['c74f87355b4100570157d146d12bceaf'],\n",
       " 'universe_training_year': ['2012_14'],\n",
       " 'universe_training_size': ['25k'],\n",
       " 'universe_scale': ['do-not-scale'],\n",
       " 'universe_model': ['rf'],\n",
       " 'universe_exclude_features': ['nationality-sex'],\n",
       " 'universe_exclude_subgroups': ['drop-non-german'],\n",
       " 'q_hat': [0.65],\n",
       " 'coverage': [0.9129417010366737],\n",
       " 'avg_size': [1.1363281685430833]}"
      ]
     },
     "execution_count": 48,
     "metadata": {},
     "output_type": "execute_result"
    }
   ],
   "source": [
    "cp_metrics_dict"
   ]
  },
  {
   "cell_type": "code",
   "execution_count": 49,
   "id": "33007efc-14e9-4ec6-97ac-56a455c82265",
   "metadata": {
    "execution": {
     "iopub.execute_input": "2025-08-05T15:00:10.269239Z",
     "iopub.status.busy": "2025-08-05T15:00:10.268830Z",
     "iopub.status.idle": "2025-08-05T15:00:10.275440Z",
     "shell.execute_reply": "2025-08-05T15:00:10.274446Z"
    },
    "papermill": {
     "duration": 0.028907,
     "end_time": "2025-08-05T15:00:10.277231",
     "exception": false,
     "start_time": "2025-08-05T15:00:10.248324",
     "status": "completed"
    },
    "tags": []
   },
   "outputs": [],
   "source": [
    "cp_metrics_df = pd.DataFrame(cp_metrics_dict)"
   ]
  },
  {
   "cell_type": "code",
   "execution_count": 50,
   "id": "db12611b-57b2-4910-b9d0-355adfd6e7bf",
   "metadata": {
    "execution": {
     "iopub.execute_input": "2025-08-05T15:00:10.319544Z",
     "iopub.status.busy": "2025-08-05T15:00:10.318929Z",
     "iopub.status.idle": "2025-08-05T15:00:10.338886Z",
     "shell.execute_reply": "2025-08-05T15:00:10.338011Z"
    },
    "papermill": {
     "duration": 0.041933,
     "end_time": "2025-08-05T15:00:10.340555",
     "exception": false,
     "start_time": "2025-08-05T15:00:10.298622",
     "status": "completed"
    },
    "tags": []
   },
   "outputs": [
    {
     "data": {
      "text/html": [
       "<div>\n",
       "<style scoped>\n",
       "    .dataframe tbody tr th:only-of-type {\n",
       "        vertical-align: middle;\n",
       "    }\n",
       "\n",
       "    .dataframe tbody tr th {\n",
       "        vertical-align: top;\n",
       "    }\n",
       "\n",
       "    .dataframe thead th {\n",
       "        text-align: right;\n",
       "    }\n",
       "</style>\n",
       "<table border=\"1\" class=\"dataframe\">\n",
       "  <thead>\n",
       "    <tr style=\"text-align: right;\">\n",
       "      <th></th>\n",
       "      <th>universe_id</th>\n",
       "      <th>universe_training_year</th>\n",
       "      <th>universe_training_size</th>\n",
       "      <th>universe_scale</th>\n",
       "      <th>universe_model</th>\n",
       "      <th>universe_exclude_features</th>\n",
       "      <th>universe_exclude_subgroups</th>\n",
       "      <th>q_hat</th>\n",
       "      <th>coverage</th>\n",
       "      <th>avg_size</th>\n",
       "    </tr>\n",
       "  </thead>\n",
       "  <tbody>\n",
       "    <tr>\n",
       "      <th>0</th>\n",
       "      <td>c74f87355b4100570157d146d12bceaf</td>\n",
       "      <td>2012_14</td>\n",
       "      <td>25k</td>\n",
       "      <td>do-not-scale</td>\n",
       "      <td>rf</td>\n",
       "      <td>nationality-sex</td>\n",
       "      <td>drop-non-german</td>\n",
       "      <td>0.65</td>\n",
       "      <td>0.912942</td>\n",
       "      <td>1.136328</td>\n",
       "    </tr>\n",
       "  </tbody>\n",
       "</table>\n",
       "</div>"
      ],
      "text/plain": [
       "                        universe_id universe_training_year  \\\n",
       "0  c74f87355b4100570157d146d12bceaf                2012_14   \n",
       "\n",
       "  universe_training_size universe_scale universe_model  \\\n",
       "0                    25k   do-not-scale             rf   \n",
       "\n",
       "  universe_exclude_features universe_exclude_subgroups  q_hat  coverage  \\\n",
       "0           nationality-sex            drop-non-german   0.65  0.912942   \n",
       "\n",
       "   avg_size  \n",
       "0  1.136328  "
      ]
     },
     "execution_count": 50,
     "metadata": {},
     "output_type": "execute_result"
    }
   ],
   "source": [
    "cp_metrics_df"
   ]
  },
  {
   "cell_type": "code",
   "execution_count": 51,
   "id": "b7fbde55-a0a1-47e4-9af6-fe4a17fa8c61",
   "metadata": {
    "execution": {
     "iopub.execute_input": "2025-08-05T15:00:10.383001Z",
     "iopub.status.busy": "2025-08-05T15:00:10.382163Z",
     "iopub.status.idle": "2025-08-05T15:00:10.387346Z",
     "shell.execute_reply": "2025-08-05T15:00:10.386367Z"
    },
    "papermill": {
     "duration": 0.027348,
     "end_time": "2025-08-05T15:00:10.388933",
     "exception": false,
     "start_time": "2025-08-05T15:00:10.361585",
     "status": "completed"
    },
    "tags": []
   },
   "outputs": [],
   "source": [
    "# Conditional Coverage & looking at subgroups"
   ]
  },
  {
   "cell_type": "code",
   "execution_count": 52,
   "id": "027ae886-68dd-4141-96c7-805a5450e1ef",
   "metadata": {
    "execution": {
     "iopub.execute_input": "2025-08-05T15:00:10.431810Z",
     "iopub.status.busy": "2025-08-05T15:00:10.430968Z",
     "iopub.status.idle": "2025-08-05T15:00:10.697183Z",
     "shell.execute_reply": "2025-08-05T15:00:10.696229Z"
    },
    "papermill": {
     "duration": 0.289842,
     "end_time": "2025-08-05T15:00:10.699310",
     "exception": false,
     "start_time": "2025-08-05T15:00:10.409468",
     "status": "completed"
    },
    "tags": []
   },
   "outputs": [],
   "source": [
    "from fairness_multiverse.conformal import build_cp_groups\n",
    "\n",
    "cp_groups_df = build_cp_groups(pred_sets, y_true, X_test.index, org_test)\n",
    "#needs universe_id and setting"
   ]
  },
  {
   "cell_type": "code",
   "execution_count": 53,
   "id": "6cbdab96-b2b2-45af-ad54-d0516db2e28d",
   "metadata": {
    "execution": {
     "iopub.execute_input": "2025-08-05T15:00:10.742178Z",
     "iopub.status.busy": "2025-08-05T15:00:10.741256Z",
     "iopub.status.idle": "2025-08-05T15:00:12.574487Z",
     "shell.execute_reply": "2025-08-05T15:00:12.573249Z"
    },
    "papermill": {
     "duration": 1.85642,
     "end_time": "2025-08-05T15:00:12.576666",
     "exception": false,
     "start_time": "2025-08-05T15:00:10.720246",
     "status": "completed"
    },
    "tags": []
   },
   "outputs": [],
   "source": [
    "# Define covered = 1 if true_label is in the predicted set\n",
    "cp_groups_df['covered'] = cp_groups_df.apply(\n",
    "    lambda r: int(r['true_label'] in r['pred_set']),\n",
    "    axis=1\n",
    ")"
   ]
  },
  {
   "cell_type": "code",
   "execution_count": 54,
   "id": "338ff529-1a6b-4b87-a931-8e4788d52aad",
   "metadata": {
    "execution": {
     "iopub.execute_input": "2025-08-05T15:00:12.630762Z",
     "iopub.status.busy": "2025-08-05T15:00:12.629760Z",
     "iopub.status.idle": "2025-08-05T15:00:12.636537Z",
     "shell.execute_reply": "2025-08-05T15:00:12.635317Z"
    },
    "papermill": {
     "duration": 0.036258,
     "end_time": "2025-08-05T15:00:12.638635",
     "exception": false,
     "start_time": "2025-08-05T15:00:12.602377",
     "status": "completed"
    },
    "tags": []
   },
   "outputs": [],
   "source": [
    "#cp_groups_df"
   ]
  },
  {
   "cell_type": "code",
   "execution_count": 55,
   "id": "90032e27-66df-4540-9169-4e89cfbaa758",
   "metadata": {
    "execution": {
     "iopub.execute_input": "2025-08-05T15:00:12.692307Z",
     "iopub.status.busy": "2025-08-05T15:00:12.691572Z",
     "iopub.status.idle": "2025-08-05T15:00:12.707888Z",
     "shell.execute_reply": "2025-08-05T15:00:12.706769Z"
    },
    "papermill": {
     "duration": 0.04511,
     "end_time": "2025-08-05T15:00:12.710039",
     "exception": false,
     "start_time": "2025-08-05T15:00:12.664929",
     "status": "completed"
    },
    "tags": []
   },
   "outputs": [],
   "source": [
    "subgroups = ['frau1','nongerman','nongerman_male','nongerman_female']\n",
    "\n",
    "# Conditional coverage for subgroup==1\n",
    "cond_coverage = {\n",
    "    g: cp_groups_df.loc[cp_groups_df[g]==1, 'covered'].mean()\n",
    "    for g in subgroups\n",
    "}"
   ]
  },
  {
   "cell_type": "code",
   "execution_count": 56,
   "id": "1e348fb1-b9c3-45bc-ba23-f016827a7e0d",
   "metadata": {
    "execution": {
     "iopub.execute_input": "2025-08-05T15:00:12.771193Z",
     "iopub.status.busy": "2025-08-05T15:00:12.770645Z",
     "iopub.status.idle": "2025-08-05T15:00:12.778800Z",
     "shell.execute_reply": "2025-08-05T15:00:12.777774Z"
    },
    "papermill": {
     "duration": 0.044391,
     "end_time": "2025-08-05T15:00:12.780381",
     "exception": false,
     "start_time": "2025-08-05T15:00:12.735990",
     "status": "completed"
    },
    "tags": []
   },
   "outputs": [
    {
     "data": {
      "text/plain": [
       "{'frau1': 0.9120905782450465,\n",
       " 'nongerman': 0.9055745803626565,\n",
       " 'nongerman_male': 0.92227325947942,\n",
       " 'nongerman_female': 0.8779433681073026}"
      ]
     },
     "execution_count": 56,
     "metadata": {},
     "output_type": "execute_result"
    }
   ],
   "source": [
    "cond_coverage"
   ]
  },
  {
   "cell_type": "code",
   "execution_count": 57,
   "id": "f5093324-c3dd-4d63-bc4c-8d945e5c8bbb",
   "metadata": {
    "execution": {
     "iopub.execute_input": "2025-08-05T15:00:12.838254Z",
     "iopub.status.busy": "2025-08-05T15:00:12.823952Z",
     "iopub.status.idle": "2025-08-05T15:00:12.846517Z",
     "shell.execute_reply": "2025-08-05T15:00:12.845258Z"
    },
    "papermill": {
     "duration": 0.046627,
     "end_time": "2025-08-05T15:00:12.848694",
     "exception": false,
     "start_time": "2025-08-05T15:00:12.802067",
     "status": "completed"
    },
    "tags": []
   },
   "outputs": [],
   "source": [
    "for subgroup, cov in cond_coverage.items():\n",
    "    cp_metrics_df[f\"cov_{subgroup}\"] = cov"
   ]
  },
  {
   "cell_type": "code",
   "execution_count": 58,
   "id": "6e872e10-dbe5-49e8-b554-5030c98ff75d",
   "metadata": {
    "execution": {
     "iopub.execute_input": "2025-08-05T15:00:12.902885Z",
     "iopub.status.busy": "2025-08-05T15:00:12.902293Z",
     "iopub.status.idle": "2025-08-05T15:00:12.924547Z",
     "shell.execute_reply": "2025-08-05T15:00:12.923437Z"
    },
    "papermill": {
     "duration": 0.051418,
     "end_time": "2025-08-05T15:00:12.926617",
     "exception": false,
     "start_time": "2025-08-05T15:00:12.875199",
     "status": "completed"
    },
    "tags": []
   },
   "outputs": [
    {
     "data": {
      "text/html": [
       "<div>\n",
       "<style scoped>\n",
       "    .dataframe tbody tr th:only-of-type {\n",
       "        vertical-align: middle;\n",
       "    }\n",
       "\n",
       "    .dataframe tbody tr th {\n",
       "        vertical-align: top;\n",
       "    }\n",
       "\n",
       "    .dataframe thead th {\n",
       "        text-align: right;\n",
       "    }\n",
       "</style>\n",
       "<table border=\"1\" class=\"dataframe\">\n",
       "  <thead>\n",
       "    <tr style=\"text-align: right;\">\n",
       "      <th></th>\n",
       "      <th>universe_id</th>\n",
       "      <th>universe_training_year</th>\n",
       "      <th>universe_training_size</th>\n",
       "      <th>universe_scale</th>\n",
       "      <th>universe_model</th>\n",
       "      <th>universe_exclude_features</th>\n",
       "      <th>universe_exclude_subgroups</th>\n",
       "      <th>q_hat</th>\n",
       "      <th>coverage</th>\n",
       "      <th>avg_size</th>\n",
       "      <th>cov_frau1</th>\n",
       "      <th>cov_nongerman</th>\n",
       "      <th>cov_nongerman_male</th>\n",
       "      <th>cov_nongerman_female</th>\n",
       "    </tr>\n",
       "  </thead>\n",
       "  <tbody>\n",
       "    <tr>\n",
       "      <th>0</th>\n",
       "      <td>c74f87355b4100570157d146d12bceaf</td>\n",
       "      <td>2012_14</td>\n",
       "      <td>25k</td>\n",
       "      <td>do-not-scale</td>\n",
       "      <td>rf</td>\n",
       "      <td>nationality-sex</td>\n",
       "      <td>drop-non-german</td>\n",
       "      <td>0.65</td>\n",
       "      <td>0.912942</td>\n",
       "      <td>1.136328</td>\n",
       "      <td>0.912091</td>\n",
       "      <td>0.905575</td>\n",
       "      <td>0.922273</td>\n",
       "      <td>0.877943</td>\n",
       "    </tr>\n",
       "  </tbody>\n",
       "</table>\n",
       "</div>"
      ],
      "text/plain": [
       "                        universe_id universe_training_year  \\\n",
       "0  c74f87355b4100570157d146d12bceaf                2012_14   \n",
       "\n",
       "  universe_training_size universe_scale universe_model  \\\n",
       "0                    25k   do-not-scale             rf   \n",
       "\n",
       "  universe_exclude_features universe_exclude_subgroups  q_hat  coverage  \\\n",
       "0           nationality-sex            drop-non-german   0.65  0.912942   \n",
       "\n",
       "   avg_size  cov_frau1  cov_nongerman  cov_nongerman_male  \\\n",
       "0  1.136328   0.912091       0.905575            0.922273   \n",
       "\n",
       "   cov_nongerman_female  \n",
       "0              0.877943  "
      ]
     },
     "execution_count": 58,
     "metadata": {},
     "output_type": "execute_result"
    }
   ],
   "source": [
    "cp_metrics_df"
   ]
  },
  {
   "cell_type": "markdown",
   "id": "33774451",
   "metadata": {
    "papermill": {
     "duration": 0.031735,
     "end_time": "2025-08-05T15:00:12.990800",
     "exception": false,
     "start_time": "2025-08-05T15:00:12.959065",
     "status": "completed"
    },
    "tags": []
   },
   "source": [
    "# (Fairness) Metrics"
   ]
  },
  {
   "cell_type": "code",
   "execution_count": 59,
   "id": "debc5d62",
   "metadata": {
    "execution": {
     "iopub.execute_input": "2025-08-05T15:00:13.056774Z",
     "iopub.status.busy": "2025-08-05T15:00:13.055977Z",
     "iopub.status.idle": "2025-08-05T15:00:13.079140Z",
     "shell.execute_reply": "2025-08-05T15:00:13.077946Z"
    },
    "papermill": {
     "duration": 0.058982,
     "end_time": "2025-08-05T15:00:13.081505",
     "exception": false,
     "start_time": "2025-08-05T15:00:13.022523",
     "status": "completed"
    },
    "tags": []
   },
   "outputs": [],
   "source": [
    "# do I need to include maxdeutsch1.missing?\n",
    "\n",
    "import numpy as np\n",
    "\n",
    "colname_to_bin = \"maxdeutsch1\"\n",
    "majority_value = org_train[colname_to_bin].mode()[0]\n",
    "\n",
    "org_test[\"majmin\"] = np.where(org_test[colname_to_bin] == majority_value, \"majority\", \"minority\")"
   ]
  },
  {
   "cell_type": "code",
   "execution_count": 60,
   "id": "06a50de5",
   "metadata": {
    "execution": {
     "iopub.execute_input": "2025-08-05T15:00:13.148159Z",
     "iopub.status.busy": "2025-08-05T15:00:13.147331Z",
     "iopub.status.idle": "2025-08-05T15:00:15.439396Z",
     "shell.execute_reply": "2025-08-05T15:00:15.438208Z"
    },
    "papermill": {
     "duration": 2.327932,
     "end_time": "2025-08-05T15:00:15.441832",
     "exception": false,
     "start_time": "2025-08-05T15:00:13.113900",
     "status": "completed"
    },
    "tags": []
   },
   "outputs": [],
   "source": [
    "example_universe = universe.copy()\n",
    "example_universe[\"cutoff\"] = example_universe[\"cutoff\"][0]\n",
    "example_universe[\"eval_fairness_grouping\"] = example_universe[\"eval_fairness_grouping\"][0]\n",
    "fairness_dict, metric_frame = universe_analysis.compute_metrics(\n",
    "    example_universe,\n",
    "    y_pred_prob=probs_test,\n",
    "    y_test=y_true,\n",
    "    org_test=org_test,\n",
    ")"
   ]
  },
  {
   "cell_type": "markdown",
   "id": "f95d4e02",
   "metadata": {
    "papermill": {
     "duration": 0.026428,
     "end_time": "2025-08-05T15:00:15.496911",
     "exception": false,
     "start_time": "2025-08-05T15:00:15.470483",
     "status": "completed"
    },
    "tags": []
   },
   "source": [
    "# Overall"
   ]
  },
  {
   "cell_type": "markdown",
   "id": "bdee4871",
   "metadata": {
    "papermill": {
     "duration": 0.027157,
     "end_time": "2025-08-05T15:00:15.550257",
     "exception": false,
     "start_time": "2025-08-05T15:00:15.523100",
     "status": "completed"
    },
    "tags": []
   },
   "source": [
    "Fairness\n",
    "Main fairness target: Equalized Odds. Seems to be a better fit than equal opportunity, since we're not only interested in Y = 1. Seems to be a better fit than demographic parity, since we also care about accuracy, not just equal distribution of preds.\n",
    "\n",
    "Pick column for computation of fairness metrics\n",
    "\n",
    "Performance\n",
    "Overall performance measures, most interesting in relation to the measures split by group below"
   ]
  },
  {
   "cell_type": "code",
   "execution_count": 61,
   "id": "c4e067c6",
   "metadata": {
    "execution": {
     "iopub.execute_input": "2025-08-05T15:00:15.605988Z",
     "iopub.status.busy": "2025-08-05T15:00:15.605409Z",
     "iopub.status.idle": "2025-08-05T15:00:15.614172Z",
     "shell.execute_reply": "2025-08-05T15:00:15.612808Z"
    },
    "papermill": {
     "duration": 0.03864,
     "end_time": "2025-08-05T15:00:15.615839",
     "exception": false,
     "start_time": "2025-08-05T15:00:15.577199",
     "status": "completed"
    },
    "tags": []
   },
   "outputs": [
    {
     "data": {
      "text/plain": [
       "accuracy                   0.196054\n",
       "balanced accuracy          0.530759\n",
       "f1                         0.238416\n",
       "precision                  0.135698\n",
       "false positive rate        0.919452\n",
       "false negative rate        0.019030\n",
       "selection rate             0.927344\n",
       "count                  89710.000000\n",
       "dtype: float64"
      ]
     },
     "execution_count": 61,
     "metadata": {},
     "output_type": "execute_result"
    }
   ],
   "source": [
    "metric_frame.overall"
   ]
  },
  {
   "cell_type": "markdown",
   "id": "e968fe9d",
   "metadata": {
    "papermill": {
     "duration": 0.027053,
     "end_time": "2025-08-05T15:00:15.670364",
     "exception": false,
     "start_time": "2025-08-05T15:00:15.643311",
     "status": "completed"
    },
    "tags": []
   },
   "source": [
    "By Group"
   ]
  },
  {
   "cell_type": "code",
   "execution_count": 62,
   "id": "ec325bce",
   "metadata": {
    "execution": {
     "iopub.execute_input": "2025-08-05T15:00:15.723815Z",
     "iopub.status.busy": "2025-08-05T15:00:15.723311Z",
     "iopub.status.idle": "2025-08-05T15:00:15.740024Z",
     "shell.execute_reply": "2025-08-05T15:00:15.738893Z"
    },
    "papermill": {
     "duration": 0.045748,
     "end_time": "2025-08-05T15:00:15.742069",
     "exception": false,
     "start_time": "2025-08-05T15:00:15.696321",
     "status": "completed"
    },
    "tags": []
   },
   "outputs": [
    {
     "data": {
      "text/html": [
       "<div>\n",
       "<style scoped>\n",
       "    .dataframe tbody tr th:only-of-type {\n",
       "        vertical-align: middle;\n",
       "    }\n",
       "\n",
       "    .dataframe tbody tr th {\n",
       "        vertical-align: top;\n",
       "    }\n",
       "\n",
       "    .dataframe thead th {\n",
       "        text-align: right;\n",
       "    }\n",
       "</style>\n",
       "<table border=\"1\" class=\"dataframe\">\n",
       "  <thead>\n",
       "    <tr style=\"text-align: right;\">\n",
       "      <th></th>\n",
       "      <th>accuracy</th>\n",
       "      <th>balanced accuracy</th>\n",
       "      <th>f1</th>\n",
       "      <th>precision</th>\n",
       "      <th>false positive rate</th>\n",
       "      <th>false negative rate</th>\n",
       "      <th>selection rate</th>\n",
       "      <th>count</th>\n",
       "    </tr>\n",
       "    <tr>\n",
       "      <th>majmin</th>\n",
       "      <th></th>\n",
       "      <th></th>\n",
       "      <th></th>\n",
       "      <th></th>\n",
       "      <th></th>\n",
       "      <th></th>\n",
       "      <th></th>\n",
       "      <th></th>\n",
       "    </tr>\n",
       "  </thead>\n",
       "  <tbody>\n",
       "    <tr>\n",
       "      <th>majority</th>\n",
       "      <td>0.191832</td>\n",
       "      <td>0.530217</td>\n",
       "      <td>0.244591</td>\n",
       "      <td>0.139529</td>\n",
       "      <td>0.929718</td>\n",
       "      <td>0.009847</td>\n",
       "      <td>0.937704</td>\n",
       "      <td>69170.0</td>\n",
       "    </tr>\n",
       "    <tr>\n",
       "      <th>minority</th>\n",
       "      <td>0.210273</td>\n",
       "      <td>0.529993</td>\n",
       "      <td>0.216339</td>\n",
       "      <td>0.122143</td>\n",
       "      <td>0.885538</td>\n",
       "      <td>0.054476</td>\n",
       "      <td>0.892454</td>\n",
       "      <td>20540.0</td>\n",
       "    </tr>\n",
       "  </tbody>\n",
       "</table>\n",
       "</div>"
      ],
      "text/plain": [
       "          accuracy  balanced accuracy        f1  precision  \\\n",
       "majmin                                                       \n",
       "majority  0.191832           0.530217  0.244591   0.139529   \n",
       "minority  0.210273           0.529993  0.216339   0.122143   \n",
       "\n",
       "          false positive rate  false negative rate  selection rate    count  \n",
       "majmin                                                                       \n",
       "majority             0.929718             0.009847        0.937704  69170.0  \n",
       "minority             0.885538             0.054476        0.892454  20540.0  "
      ]
     },
     "execution_count": 62,
     "metadata": {},
     "output_type": "execute_result"
    }
   ],
   "source": [
    "metric_frame.by_group"
   ]
  },
  {
   "cell_type": "code",
   "execution_count": 63,
   "id": "a9ddbe63",
   "metadata": {
    "execution": {
     "iopub.execute_input": "2025-08-05T15:00:15.799377Z",
     "iopub.status.busy": "2025-08-05T15:00:15.798787Z",
     "iopub.status.idle": "2025-08-05T15:00:18.247131Z",
     "shell.execute_reply": "2025-08-05T15:00:18.246363Z"
    },
    "papermill": {
     "duration": 2.478022,
     "end_time": "2025-08-05T15:00:18.248426",
     "exception": false,
     "start_time": "2025-08-05T15:00:15.770404",
     "status": "completed"
    },
    "tags": []
   },
   "outputs": [
    {
     "data": {
      "text/plain": [
       "array([[<Axes: title={'center': 'accuracy'}, xlabel='majmin'>,\n",
       "        <Axes: title={'center': 'balanced accuracy'}, xlabel='majmin'>,\n",
       "        <Axes: title={'center': 'f1'}, xlabel='majmin'>],\n",
       "       [<Axes: title={'center': 'precision'}, xlabel='majmin'>,\n",
       "        <Axes: title={'center': 'false positive rate'}, xlabel='majmin'>,\n",
       "        <Axes: title={'center': 'false negative rate'}, xlabel='majmin'>],\n",
       "       [<Axes: title={'center': 'selection rate'}, xlabel='majmin'>,\n",
       "        <Axes: title={'center': 'count'}, xlabel='majmin'>,\n",
       "        <Axes: xlabel='majmin'>]], dtype=object)"
      ]
     },
     "execution_count": 63,
     "metadata": {},
     "output_type": "execute_result"
    },
    {
     "data": {
      "image/png": "[encoded data removed]",
      "text/plain": [
       "<Figure size 1200x800 with 9 Axes>"
      ]
     },
     "metadata": {},
     "output_type": "display_data"
    }
   ],
   "source": [
    "# In a graphic\n",
    "metric_frame.by_group.plot.bar(\n",
    "    subplots=True,\n",
    "    layout=[3, 3],\n",
    "    legend=False,\n",
    "    figsize=[12, 8],\n",
    "    title=\"Show all metrics\",\n",
    ")"
   ]
  },
  {
   "cell_type": "markdown",
   "id": "f57a0bac",
   "metadata": {
    "papermill": {
     "duration": 0.013096,
     "end_time": "2025-08-05T15:00:18.275394",
     "exception": false,
     "start_time": "2025-08-05T15:00:18.262298",
     "status": "completed"
    },
    "tags": []
   },
   "source": [
    "# Final Output"
   ]
  },
  {
   "cell_type": "code",
   "execution_count": 64,
   "id": "96d280a3",
   "metadata": {
    "execution": {
     "iopub.execute_input": "2025-08-05T15:00:18.303946Z",
     "iopub.status.busy": "2025-08-05T15:00:18.303486Z",
     "iopub.status.idle": "2025-08-05T15:00:18.310018Z",
     "shell.execute_reply": "2025-08-05T15:00:18.309259Z"
    },
    "papermill": {
     "duration": 0.022203,
     "end_time": "2025-08-05T15:00:18.311380",
     "exception": false,
     "start_time": "2025-08-05T15:00:18.289177",
     "status": "completed"
    },
    "tags": []
   },
   "outputs": [
    {
     "data": {
      "text/plain": [
       "4"
      ]
     },
     "execution_count": 64,
     "metadata": {},
     "output_type": "execute_result"
    }
   ],
   "source": [
    "sub_universes = universe_analysis.generate_sub_universes()\n",
    "len(sub_universes)"
   ]
  },
  {
   "cell_type": "code",
   "execution_count": 65,
   "id": "92adf7ba",
   "metadata": {
    "execution": {
     "iopub.execute_input": "2025-08-05T15:00:18.340244Z",
     "iopub.status.busy": "2025-08-05T15:00:18.339508Z",
     "iopub.status.idle": "2025-08-05T15:00:18.354265Z",
     "shell.execute_reply": "2025-08-05T15:00:18.353475Z"
    },
    "papermill": {
     "duration": 0.030691,
     "end_time": "2025-08-05T15:00:18.355702",
     "exception": false,
     "start_time": "2025-08-05T15:00:18.325011",
     "status": "completed"
    },
    "tags": []
   },
   "outputs": [],
   "source": [
    "def filter_sub_universe_data(sub_universe, org_test):\n",
    "    # Keep all rows — no filtering\n",
    "    keep_rows_mask = np.ones(org_test.shape[0], dtype=bool)\n",
    "\n",
    "    print(f\"[INFO] Keeping all rows: {keep_rows_mask.sum()} rows retained.\")\n",
    "    return keep_rows_mask"
   ]
  },
  {
   "cell_type": "code",
   "execution_count": 66,
   "id": "4a759155",
   "metadata": {
    "execution": {
     "iopub.execute_input": "2025-08-05T15:00:18.386060Z",
     "iopub.status.busy": "2025-08-05T15:00:18.385406Z",
     "iopub.status.idle": "2025-08-05T15:00:27.546136Z",
     "shell.execute_reply": "2025-08-05T15:00:27.545033Z"
    },
    "papermill": {
     "duration": 9.177482,
     "end_time": "2025-08-05T15:00:27.547770",
     "exception": false,
     "start_time": "2025-08-05T15:00:18.370288",
     "status": "completed"
    },
    "tags": []
   },
   "outputs": [
    {
     "name": "stdout",
     "output_type": "stream",
     "text": [
      "Stopping execution_time clock.\n",
      "[INFO] Keeping all rows: 89710 rows retained.\n"
     ]
    },
    {
     "name": "stdout",
     "output_type": "stream",
     "text": [
      "[INFO] Keeping all rows: 89710 rows retained.\n"
     ]
    },
    {
     "name": "stdout",
     "output_type": "stream",
     "text": [
      "[INFO] Keeping all rows: 89710 rows retained.\n"
     ]
    },
    {
     "name": "stdout",
     "output_type": "stream",
     "text": [
      "[INFO] Keeping all rows: 89710 rows retained.\n"
     ]
    },
    {
     "data": {
      "text/html": [
       "<div>\n",
       "<style scoped>\n",
       "    .dataframe tbody tr th:only-of-type {\n",
       "        vertical-align: middle;\n",
       "    }\n",
       "\n",
       "    .dataframe tbody tr th {\n",
       "        vertical-align: top;\n",
       "    }\n",
       "\n",
       "    .dataframe thead th {\n",
       "        text-align: right;\n",
       "    }\n",
       "</style>\n",
       "<table border=\"1\" class=\"dataframe\">\n",
       "  <thead>\n",
       "    <tr style=\"text-align: right;\">\n",
       "      <th></th>\n",
       "      <th>run_no</th>\n",
       "      <th>universe_id</th>\n",
       "      <th>universe_settings</th>\n",
       "      <th>execution_time</th>\n",
       "      <th>test_size_n</th>\n",
       "      <th>test_size_frac</th>\n",
       "      <th>fair_main_equalized_odds_difference</th>\n",
       "      <th>fair_main_equalized_odds_ratio</th>\n",
       "      <th>fair_main_demographic_parity_difference</th>\n",
       "      <th>fair_main_demographic_parity_ratio</th>\n",
       "      <th>...</th>\n",
       "      <th>perf_grp_precision_0</th>\n",
       "      <th>perf_grp_precision_1</th>\n",
       "      <th>perf_grp_false positive rate_0</th>\n",
       "      <th>perf_grp_false positive rate_1</th>\n",
       "      <th>perf_grp_false negative rate_0</th>\n",
       "      <th>perf_grp_false negative rate_1</th>\n",
       "      <th>perf_grp_selection rate_0</th>\n",
       "      <th>perf_grp_selection rate_1</th>\n",
       "      <th>perf_grp_count_0</th>\n",
       "      <th>perf_grp_count_1</th>\n",
       "    </tr>\n",
       "  </thead>\n",
       "  <tbody>\n",
       "    <tr>\n",
       "      <th>0</th>\n",
       "      <td>15</td>\n",
       "      <td>c74f87355b4100570157d146d12bceaf</td>\n",
       "      <td>{\"cutoff\": \"quantile_0.1\", \"eval_fairness_grou...</td>\n",
       "      <td>43.133258</td>\n",
       "      <td>89710</td>\n",
       "      <td>1.0</td>\n",
       "      <td>0.044630</td>\n",
       "      <td>0.952480</td>\n",
       "      <td>0.045250</td>\n",
       "      <td>0.951743</td>\n",
       "      <td>...</td>\n",
       "      <td>NaN</td>\n",
       "      <td>NaN</td>\n",
       "      <td>NaN</td>\n",
       "      <td>NaN</td>\n",
       "      <td>NaN</td>\n",
       "      <td>NaN</td>\n",
       "      <td>NaN</td>\n",
       "      <td>NaN</td>\n",
       "      <td>NaN</td>\n",
       "      <td>NaN</td>\n",
       "    </tr>\n",
       "    <tr>\n",
       "      <th>0</th>\n",
       "      <td>15</td>\n",
       "      <td>c74f87355b4100570157d146d12bceaf</td>\n",
       "      <td>{\"cutoff\": \"quantile_0.1\", \"eval_fairness_grou...</td>\n",
       "      <td>43.133258</td>\n",
       "      <td>89710</td>\n",
       "      <td>1.0</td>\n",
       "      <td>0.044630</td>\n",
       "      <td>0.952480</td>\n",
       "      <td>0.045250</td>\n",
       "      <td>0.951743</td>\n",
       "      <td>...</td>\n",
       "      <td>0.122143</td>\n",
       "      <td>0.139529</td>\n",
       "      <td>0.885538</td>\n",
       "      <td>0.929718</td>\n",
       "      <td>0.054476</td>\n",
       "      <td>0.009847</td>\n",
       "      <td>0.892454</td>\n",
       "      <td>0.937704</td>\n",
       "      <td>20540.0</td>\n",
       "      <td>69170.0</td>\n",
       "    </tr>\n",
       "    <tr>\n",
       "      <th>0</th>\n",
       "      <td>15</td>\n",
       "      <td>c74f87355b4100570157d146d12bceaf</td>\n",
       "      <td>{\"cutoff\": \"quantile_0.25\", \"eval_fairness_gro...</td>\n",
       "      <td>43.133258</td>\n",
       "      <td>89710</td>\n",
       "      <td>1.0</td>\n",
       "      <td>0.092043</td>\n",
       "      <td>0.903854</td>\n",
       "      <td>0.054314</td>\n",
       "      <td>0.930954</td>\n",
       "      <td>...</td>\n",
       "      <td>NaN</td>\n",
       "      <td>NaN</td>\n",
       "      <td>NaN</td>\n",
       "      <td>NaN</td>\n",
       "      <td>NaN</td>\n",
       "      <td>NaN</td>\n",
       "      <td>NaN</td>\n",
       "      <td>NaN</td>\n",
       "      <td>NaN</td>\n",
       "      <td>NaN</td>\n",
       "    </tr>\n",
       "    <tr>\n",
       "      <th>0</th>\n",
       "      <td>15</td>\n",
       "      <td>c74f87355b4100570157d146d12bceaf</td>\n",
       "      <td>{\"cutoff\": \"quantile_0.25\", \"eval_fairness_gro...</td>\n",
       "      <td>43.133258</td>\n",
       "      <td>89710</td>\n",
       "      <td>1.0</td>\n",
       "      <td>0.092043</td>\n",
       "      <td>0.903854</td>\n",
       "      <td>0.054314</td>\n",
       "      <td>0.930954</td>\n",
       "      <td>...</td>\n",
       "      <td>0.136219</td>\n",
       "      <td>0.160810</td>\n",
       "      <td>0.715001</td>\n",
       "      <td>0.760653</td>\n",
       "      <td>0.134713</td>\n",
       "      <td>0.042670</td>\n",
       "      <td>0.732327</td>\n",
       "      <td>0.786642</td>\n",
       "      <td>20540.0</td>\n",
       "      <td>69170.0</td>\n",
       "    </tr>\n",
       "  </tbody>\n",
       "</table>\n",
       "<p>4 rows × 50 columns</p>\n",
       "</div>"
      ],
      "text/plain": [
       "  run_no                       universe_id  \\\n",
       "0     15  c74f87355b4100570157d146d12bceaf   \n",
       "0     15  c74f87355b4100570157d146d12bceaf   \n",
       "0     15  c74f87355b4100570157d146d12bceaf   \n",
       "0     15  c74f87355b4100570157d146d12bceaf   \n",
       "\n",
       "                                   universe_settings  execution_time  \\\n",
       "0  {\"cutoff\": \"quantile_0.1\", \"eval_fairness_grou...       43.133258   \n",
       "0  {\"cutoff\": \"quantile_0.1\", \"eval_fairness_grou...       43.133258   \n",
       "0  {\"cutoff\": \"quantile_0.25\", \"eval_fairness_gro...       43.133258   \n",
       "0  {\"cutoff\": \"quantile_0.25\", \"eval_fairness_gro...       43.133258   \n",
       "\n",
       "   test_size_n  test_size_frac  fair_main_equalized_odds_difference  \\\n",
       "0        89710             1.0                             0.044630   \n",
       "0        89710             1.0                             0.044630   \n",
       "0        89710             1.0                             0.092043   \n",
       "0        89710             1.0                             0.092043   \n",
       "\n",
       "   fair_main_equalized_odds_ratio  fair_main_demographic_parity_difference  \\\n",
       "0                        0.952480                                 0.045250   \n",
       "0                        0.952480                                 0.045250   \n",
       "0                        0.903854                                 0.054314   \n",
       "0                        0.903854                                 0.054314   \n",
       "\n",
       "   fair_main_demographic_parity_ratio  ...  perf_grp_precision_0  \\\n",
       "0                            0.951743  ...                   NaN   \n",
       "0                            0.951743  ...              0.122143   \n",
       "0                            0.930954  ...                   NaN   \n",
       "0                            0.930954  ...              0.136219   \n",
       "\n",
       "   perf_grp_precision_1  perf_grp_false positive rate_0  \\\n",
       "0                   NaN                             NaN   \n",
       "0              0.139529                        0.885538   \n",
       "0                   NaN                             NaN   \n",
       "0              0.160810                        0.715001   \n",
       "\n",
       "   perf_grp_false positive rate_1  perf_grp_false negative rate_0  \\\n",
       "0                             NaN                             NaN   \n",
       "0                        0.929718                        0.054476   \n",
       "0                             NaN                             NaN   \n",
       "0                        0.760653                        0.134713   \n",
       "\n",
       "   perf_grp_false negative rate_1  perf_grp_selection rate_0  \\\n",
       "0                             NaN                        NaN   \n",
       "0                        0.009847                   0.892454   \n",
       "0                             NaN                        NaN   \n",
       "0                        0.042670                   0.732327   \n",
       "\n",
       "   perf_grp_selection rate_1  perf_grp_count_0  perf_grp_count_1  \n",
       "0                        NaN               NaN               NaN  \n",
       "0                   0.937704           20540.0           69170.0  \n",
       "0                        NaN               NaN               NaN  \n",
       "0                   0.786642           20540.0           69170.0  \n",
       "\n",
       "[4 rows x 50 columns]"
      ]
     },
     "execution_count": 66,
     "metadata": {},
     "output_type": "execute_result"
    }
   ],
   "source": [
    "final_output = universe_analysis.generate_final_output(\n",
    "    y_pred_prob=probs_test,\n",
    "    y_test=y_true,\n",
    "    org_test=org_test,\n",
    "    filter_data=filter_sub_universe_data,\n",
    "    cp_metrics_df=cp_metrics_df,\n",
    "    save=True,\n",
    ")\n",
    "final_output"
   ]
  }
 ],
 "metadata": {
  "celltoolbar": "Tags",
  "kernelspec": {
   "display_name": "Python (CMA Fairness)",
   "language": "python",
   "name": "cma_fair_env"
  },
  "language_info": {
   "codemirror_mode": {
    "name": "ipython",
    "version": 3
   },
   "file_extension": ".py",
   "mimetype": "text/x-python",
   "name": "python",
   "nbconvert_exporter": "python",
   "pygments_lexer": "ipython3",
   "version": "3.10.12"
  },
  "papermill": {
   "default_parameters": {},
   "duration": 56.123324,
   "end_time": "2025-08-05T15:00:28.393977",
   "environment_variables": {},
   "exception": null,
   "input_path": "universe_analysis.ipynb",
   "output_path": "output/runs/15/notebooks/m_15-c74f87355b4100570157d146d12bceaf.ipynb",
   "parameters": {
    "output_dir": "output",
    "run_no": "15",
    "seed": "2023",
    "universe": "{\"cutoff\": [\"quantile_0.1\", \"quantile_0.25\"], \"eval_fairness_grouping\": [\"majority-minority\", \"nationality-all\"], \"exclude_features\": \"nationality-sex\", \"exclude_subgroups\": \"drop-non-german\", \"model\": \"rf\", \"scale\": \"do-not-scale\", \"training_size\": \"25k\", \"training_year\": \"2012_14\"}",
    "universe_id": "c74f87355b4100570157d146d12bceaf"
   },
   "start_time": "2025-08-05T14:59:32.270653",
   "version": "2.6.0"
  }
 },
 "nbformat": 4,
 "nbformat_minor": 5
}