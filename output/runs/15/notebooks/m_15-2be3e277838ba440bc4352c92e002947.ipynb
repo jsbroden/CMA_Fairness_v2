{
 "cells": [
  {
   "cell_type": "code",
   "execution_count": 1,
   "id": "f159f837-637b-42ba-96b5-ec9a68c44524",
   "metadata": {
    "execution": {
     "iopub.execute_input": "2025-08-05T15:26:17.110002Z",
     "iopub.status.busy": "2025-08-05T15:26:17.109502Z",
     "iopub.status.idle": "2025-08-05T15:26:17.123943Z",
     "shell.execute_reply": "2025-08-05T15:26:17.122943Z"
    },
    "papermill": {
     "duration": 0.035493,
     "end_time": "2025-08-05T15:26:17.125740",
     "exception": false,
     "start_time": "2025-08-05T15:26:17.090247",
     "status": "completed"
    },
    "tags": []
   },
   "outputs": [
    {
     "name": "stdout",
     "output_type": "stream",
     "text": [
      "/dss/dsshome1/0C/ra93lal2/cma/CMA_Fairness_v2\n"
     ]
    },
    {
     "name": "stderr",
     "output_type": "stream",
     "text": [
      "/dss/dsshome1/0C/ra93lal2/.local/share/virtualenvs/CMA_Fairness_v2-3j10GkSs/lib/python3.10/site-packages/IPython/core/magics/osm.py:393: UserWarning: This is now an optional IPython functionality, using bookmarks requires you to install the `pickleshare` library.\n",
      "  bkms = self.shell.db.get('bookmarks', {})\n",
      "/dss/dsshome1/0C/ra93lal2/.local/share/virtualenvs/CMA_Fairness_v2-3j10GkSs/lib/python3.10/site-packages/IPython/core/magics/osm.py:417: UserWarning: This is now an optional IPython functionality, setting dhist requires you to install the `pickleshare` library.\n",
      "  self.shell.db['dhist'] = compress_dhist(dhist)[-100:]\n"
     ]
    }
   ],
   "source": [
    "%cd ~/cma/CMA_Fairness_v2"
   ]
  },
  {
   "cell_type": "markdown",
   "id": "de2603b9",
   "metadata": {
    "papermill": {
     "duration": 0.014795,
     "end_time": "2025-08-05T15:26:17.156106",
     "exception": false,
     "start_time": "2025-08-05T15:26:17.141311",
     "status": "completed"
    },
    "tags": []
   },
   "source": [
    "The following cell holds the definition of our parameters, these values can be overriden by rendering the with e.g. the following command:\n",
    "\n",
    "papermill -p alpha 0.2 -p ratio 0.3 universe_analysis.ipynb output/test_run.ipynb"
   ]
  },
  {
   "cell_type": "code",
   "execution_count": 2,
   "id": "a80968a0-40bb-4fa9-85ef-2d5eefb01975",
   "metadata": {
    "execution": {
     "iopub.execute_input": "2025-08-05T15:26:17.189059Z",
     "iopub.status.busy": "2025-08-05T15:26:17.188424Z",
     "iopub.status.idle": "2025-08-05T15:26:17.193697Z",
     "shell.execute_reply": "2025-08-05T15:26:17.192689Z"
    },
    "papermill": {
     "duration": 0.023569,
     "end_time": "2025-08-05T15:26:17.195373",
     "exception": false,
     "start_time": "2025-08-05T15:26:17.171804",
     "status": "completed"
    },
    "tags": []
   },
   "outputs": [
    {
     "name": "stdout",
     "output_type": "stream",
     "text": [
      "Current working directory: /dss/dsshome1/0C/ra93lal2/cma/CMA_Fairness_v2\n"
     ]
    }
   ],
   "source": [
    "import os\n",
    "print(\"Current working directory:\", os.getcwd())"
   ]
  },
  {
   "cell_type": "code",
   "execution_count": 3,
   "id": "2dce4c03",
   "metadata": {
    "execution": {
     "iopub.execute_input": "2025-08-05T15:26:17.230018Z",
     "iopub.status.busy": "2025-08-05T15:26:17.229650Z",
     "iopub.status.idle": "2025-08-05T15:26:17.239854Z",
     "shell.execute_reply": "2025-08-05T15:26:17.238773Z"
    },
    "papermill": {
     "duration": 0.030189,
     "end_time": "2025-08-05T15:26:17.241737",
     "exception": false,
     "start_time": "2025-08-05T15:26:17.211548",
     "status": "completed"
    },
    "tags": [
     "parameters"
    ]
   },
   "outputs": [],
   "source": [
    "run_no = 0\n",
    "universe_id = \"test\"\n",
    "universe = {\n",
    "    \"training_size\": \"25k\", # \"25k\", \"5k\", \"1k\"\n",
    "    \"training_year\": \"2014\", # \"2014\", \"2012_14\", \"2010_14\"\n",
    "    \"scale\": \"scale\", # \"scale\", \"do-not-scale\",\n",
    "    \"model\": \"elasticnet\", # \"logreg\", \"penalized_logreg\", \"rf\", \"gbm\", \"elasticnet\"\n",
    "    \"cutoff\": [\"quantile_0.15\", \"quantile_0.30\"],\n",
    "    \"exclude_features\": \"age\", # \"none\", \"nationality\", \"sex\", \"nationality-sex\", \"age\"\n",
    "    \"exclude_subgroups\": \"keep-all\", # \"keep-all\", \"drop-non-german\"\n",
    "    \"eval_fairness_grouping\": [\"majority-minority\", \"nationality-all\"]\n",
    "}\n",
    "\n",
    "output_dir=\"./output\"\n",
    "seed=0"
   ]
  },
  {
   "cell_type": "code",
   "execution_count": 4,
   "id": "3cfc4fc9",
   "metadata": {
    "execution": {
     "iopub.execute_input": "2025-08-05T15:26:17.275893Z",
     "iopub.status.busy": "2025-08-05T15:26:17.275443Z",
     "iopub.status.idle": "2025-08-05T15:26:17.280474Z",
     "shell.execute_reply": "2025-08-05T15:26:17.279670Z"
    },
    "papermill": {
     "duration": 0.023925,
     "end_time": "2025-08-05T15:26:17.282060",
     "exception": false,
     "start_time": "2025-08-05T15:26:17.258135",
     "status": "completed"
    },
    "tags": [
     "injected-parameters"
    ]
   },
   "outputs": [],
   "source": [
    "# Parameters\n",
    "universe_id = \"2be3e277838ba440bc4352c92e002947\"\n",
    "run_no = \"15\"\n",
    "universe = \"{\\\"cutoff\\\": [\\\"quantile_0.1\\\", \\\"quantile_0.25\\\"], \\\"eval_fairness_grouping\\\": [\\\"majority-minority\\\", \\\"nationality-all\\\"], \\\"exclude_features\\\": \\\"nationality\\\", \\\"exclude_subgroups\\\": \\\"drop-non-german\\\", \\\"model\\\": \\\"elasticnet\\\", \\\"scale\\\": \\\"scale\\\", \\\"training_size\\\": \\\"5k\\\", \\\"training_year\\\": \\\"2014\\\"}\"\n",
    "output_dir = \"output\"\n",
    "seed = \"2023\"\n"
   ]
  },
  {
   "cell_type": "code",
   "execution_count": 5,
   "id": "1650acaf",
   "metadata": {
    "execution": {
     "iopub.execute_input": "2025-08-05T15:26:17.315885Z",
     "iopub.status.busy": "2025-08-05T15:26:17.314994Z",
     "iopub.status.idle": "2025-08-05T15:26:17.347865Z",
     "shell.execute_reply": "2025-08-05T15:26:17.346935Z"
    },
    "papermill": {
     "duration": 0.051884,
     "end_time": "2025-08-05T15:26:17.349674",
     "exception": false,
     "start_time": "2025-08-05T15:26:17.297790",
     "status": "completed"
    },
    "tags": []
   },
   "outputs": [],
   "source": [
    "import json\n",
    "if isinstance(universe, str):\n",
    "    universe = json.loads(universe)"
   ]
  },
  {
   "cell_type": "code",
   "execution_count": 6,
   "id": "16620c48",
   "metadata": {
    "execution": {
     "iopub.execute_input": "2025-08-05T15:26:17.383771Z",
     "iopub.status.busy": "2025-08-05T15:26:17.383074Z",
     "iopub.status.idle": "2025-08-05T15:26:17.425782Z",
     "shell.execute_reply": "2025-08-05T15:26:17.424987Z"
    },
    "papermill": {
     "duration": 0.060288,
     "end_time": "2025-08-05T15:26:17.427399",
     "exception": false,
     "start_time": "2025-08-05T15:26:17.367111",
     "status": "completed"
    },
    "tags": []
   },
   "outputs": [],
   "source": [
    "# Auto-reload the custom package\n",
    "%load_ext autoreload\n",
    "%autoreload 1\n",
    "%aimport fairness_multiverse"
   ]
  },
  {
   "cell_type": "code",
   "execution_count": 7,
   "id": "01c5c9f3",
   "metadata": {
    "execution": {
     "iopub.execute_input": "2025-08-05T15:26:17.460183Z",
     "iopub.status.busy": "2025-08-05T15:26:17.459453Z",
     "iopub.status.idle": "2025-08-05T15:26:19.350545Z",
     "shell.execute_reply": "2025-08-05T15:26:19.349481Z"
    },
    "papermill": {
     "duration": 1.908903,
     "end_time": "2025-08-05T15:26:19.352542",
     "exception": false,
     "start_time": "2025-08-05T15:26:17.443639",
     "status": "completed"
    },
    "tags": []
   },
   "outputs": [],
   "source": [
    "from fairness_multiverse.universe import UniverseAnalysis\n",
    "\n",
    "universe_analysis = UniverseAnalysis(\n",
    "    run_no = run_no,\n",
    "    universe_id = universe_id,\n",
    "    universe = universe,\n",
    "    output_dir=output_dir,\n",
    ")"
   ]
  },
  {
   "cell_type": "code",
   "execution_count": 8,
   "id": "106241f5",
   "metadata": {
    "execution": {
     "iopub.execute_input": "2025-08-05T15:26:19.391328Z",
     "iopub.status.busy": "2025-08-05T15:26:19.390841Z",
     "iopub.status.idle": "2025-08-05T15:26:19.397668Z",
     "shell.execute_reply": "2025-08-05T15:26:19.396453Z"
    },
    "papermill": {
     "duration": 0.02826,
     "end_time": "2025-08-05T15:26:19.399550",
     "exception": false,
     "start_time": "2025-08-05T15:26:19.371290",
     "status": "completed"
    },
    "tags": []
   },
   "outputs": [
    {
     "name": "stdout",
     "output_type": "stream",
     "text": [
      "Using Seed: 2023\n"
     ]
    }
   ],
   "source": [
    "import numpy as np\n",
    "parsed_seed = int(seed)\n",
    "np.random.seed(parsed_seed)\n",
    "print(f\"Using Seed: {parsed_seed}\")"
   ]
  },
  {
   "cell_type": "markdown",
   "id": "e0ebdc57",
   "metadata": {
    "papermill": {
     "duration": 0.018717,
     "end_time": "2025-08-05T15:26:19.436724",
     "exception": false,
     "start_time": "2025-08-05T15:26:19.418007",
     "status": "completed"
    },
    "tags": []
   },
   "source": [
    "# Loading Data"
   ]
  },
  {
   "cell_type": "code",
   "execution_count": 9,
   "id": "f0496b8a",
   "metadata": {
    "execution": {
     "iopub.execute_input": "2025-08-05T15:26:19.471204Z",
     "iopub.status.busy": "2025-08-05T15:26:19.470181Z",
     "iopub.status.idle": "2025-08-05T15:26:29.357097Z",
     "shell.execute_reply": "2025-08-05T15:26:29.355617Z"
    },
    "papermill": {
     "duration": 9.905076,
     "end_time": "2025-08-05T15:26:29.358883",
     "exception": false,
     "start_time": "2025-08-05T15:26:19.453807",
     "status": "completed"
    },
    "tags": []
   },
   "outputs": [
    {
     "name": "stdout",
     "output_type": "stream",
     "text": [
      "Loading SIAB data from cache: data/siab_cached.csv.gz\n"
     ]
    },
    {
     "name": "stdout",
     "output_type": "stream",
     "text": [
      "(643690, 164)\n"
     ]
    }
   ],
   "source": [
    "from pathlib import Path\n",
    "import pandas as pd\n",
    "\n",
    "# File paths\n",
    "raw_file = Path(\"data/raw/siab.csv\")\n",
    "cache_file = Path(\"data/siab_cached.csv.gz\")\n",
    "\n",
    "# Ensure cache directory exists\n",
    "cache_file.parent.mkdir(parents=True, exist_ok=True)\n",
    "\n",
    "# Load with simple caching\n",
    "if cache_file.exists():\n",
    "    print(f\"Loading SIAB data from cache: {cache_file}\")\n",
    "    siab = pd.read_csv(cache_file, compression='gzip')\n",
    "else:\n",
    "    print(f\"Cache not found. Reading raw SIAB data: {raw_file}\")\n",
    "    siab = pd.read_csv(raw_file)\n",
    "    siab.to_csv(cache_file, index=False, compression='gzip')\n",
    "    print(f\"Cached SIAB data to: {cache_file}\")\n",
    "\n",
    "print(siab.shape)"
   ]
  },
  {
   "cell_type": "code",
   "execution_count": 10,
   "id": "db0ca512-5f53-4dba-abdb-a2888bca41ba",
   "metadata": {
    "execution": {
     "iopub.execute_input": "2025-08-05T15:26:29.401911Z",
     "iopub.status.busy": "2025-08-05T15:26:29.401023Z",
     "iopub.status.idle": "2025-08-05T15:26:29.406691Z",
     "shell.execute_reply": "2025-08-05T15:26:29.405458Z"
    },
    "papermill": {
     "duration": 0.028416,
     "end_time": "2025-08-05T15:26:29.408715",
     "exception": false,
     "start_time": "2025-08-05T15:26:29.380299",
     "status": "completed"
    },
    "tags": []
   },
   "outputs": [],
   "source": [
    "#siab"
   ]
  },
  {
   "cell_type": "markdown",
   "id": "997051c5-15bd-4b69-9786-c3001a3ce484",
   "metadata": {
    "papermill": {
     "duration": 0.018644,
     "end_time": "2025-08-05T15:26:29.447298",
     "exception": false,
     "start_time": "2025-08-05T15:26:29.428654",
     "status": "completed"
    },
    "tags": []
   },
   "source": [
    "# Splitting Data and Setting Training Data Size"
   ]
  },
  {
   "cell_type": "code",
   "execution_count": 11,
   "id": "aea9c6ef-6f46-42c8-85eb-5a62025c1508",
   "metadata": {
    "execution": {
     "iopub.execute_input": "2025-08-05T15:26:29.487809Z",
     "iopub.status.busy": "2025-08-05T15:26:29.487083Z",
     "iopub.status.idle": "2025-08-05T15:26:29.690400Z",
     "shell.execute_reply": "2025-08-05T15:26:29.689472Z"
    },
    "papermill": {
     "duration": 0.225664,
     "end_time": "2025-08-05T15:26:29.692365",
     "exception": false,
     "start_time": "2025-08-05T15:26:29.466701",
     "status": "completed"
    },
    "tags": []
   },
   "outputs": [],
   "source": [
    "from fairness_multiverse.universe import sample_by_year_size\n",
    "\n",
    "siab_train = sample_by_year_size(siab,\n",
    "                               training_year=universe[\"training_year\"],\n",
    "                               training_size=universe[\"training_size\"])"
   ]
  },
  {
   "cell_type": "code",
   "execution_count": 12,
   "id": "8d3afb32-789d-442c-8d5d-9f5aa8dd2eed",
   "metadata": {
    "execution": {
     "iopub.execute_input": "2025-08-05T15:26:29.732532Z",
     "iopub.status.busy": "2025-08-05T15:26:29.732041Z",
     "iopub.status.idle": "2025-08-05T15:26:29.737654Z",
     "shell.execute_reply": "2025-08-05T15:26:29.736234Z"
    },
    "papermill": {
     "duration": 0.027721,
     "end_time": "2025-08-05T15:26:29.739656",
     "exception": false,
     "start_time": "2025-08-05T15:26:29.711935",
     "status": "completed"
    },
    "tags": []
   },
   "outputs": [],
   "source": [
    "#siab_train.shape"
   ]
  },
  {
   "cell_type": "code",
   "execution_count": 13,
   "id": "d582db68-1a4c-47fb-84fc-08518dc1975a",
   "metadata": {
    "execution": {
     "iopub.execute_input": "2025-08-05T15:26:29.775765Z",
     "iopub.status.busy": "2025-08-05T15:26:29.774996Z",
     "iopub.status.idle": "2025-08-05T15:26:29.780737Z",
     "shell.execute_reply": "2025-08-05T15:26:29.779541Z"
    },
    "papermill": {
     "duration": 0.025316,
     "end_time": "2025-08-05T15:26:29.782873",
     "exception": false,
     "start_time": "2025-08-05T15:26:29.757557",
     "status": "completed"
    },
    "tags": []
   },
   "outputs": [],
   "source": [
    "#display(siab_train.groupby(\"year\").size())"
   ]
  },
  {
   "cell_type": "code",
   "execution_count": 14,
   "id": "a561edb4-d032-42cb-8256-22eac1111c64",
   "metadata": {
    "execution": {
     "iopub.execute_input": "2025-08-05T15:26:29.822308Z",
     "iopub.status.busy": "2025-08-05T15:26:29.821867Z",
     "iopub.status.idle": "2025-08-05T15:26:30.066324Z",
     "shell.execute_reply": "2025-08-05T15:26:30.065237Z"
    },
    "papermill": {
     "duration": 0.266195,
     "end_time": "2025-08-05T15:26:30.068477",
     "exception": false,
     "start_time": "2025-08-05T15:26:29.802282",
     "status": "completed"
    },
    "tags": []
   },
   "outputs": [],
   "source": [
    "#siab_train = siab_s[siab_s.year < 2015]\n",
    "siab_calib = siab[siab.year == 2015]\n",
    "siab_test = siab[siab.year == 2016]"
   ]
  },
  {
   "cell_type": "code",
   "execution_count": 15,
   "id": "472de16f-c3db-4916-846b-1f0de9cf1746",
   "metadata": {
    "execution": {
     "iopub.execute_input": "2025-08-05T15:26:30.105794Z",
     "iopub.status.busy": "2025-08-05T15:26:30.104977Z",
     "iopub.status.idle": "2025-08-05T15:26:30.113286Z",
     "shell.execute_reply": "2025-08-05T15:26:30.112191Z"
    },
    "papermill": {
     "duration": 0.028566,
     "end_time": "2025-08-05T15:26:30.115332",
     "exception": false,
     "start_time": "2025-08-05T15:26:30.086766",
     "status": "completed"
    },
    "tags": []
   },
   "outputs": [],
   "source": [
    "X_train = siab_train.iloc[:,4:164]\n",
    "y_train = siab_train.iloc[:, [3]]"
   ]
  },
  {
   "cell_type": "code",
   "execution_count": 16,
   "id": "828c96af-f43a-4ed6-ba47-8ac73a47d56c",
   "metadata": {
    "execution": {
     "iopub.execute_input": "2025-08-05T15:26:30.152654Z",
     "iopub.status.busy": "2025-08-05T15:26:30.152236Z",
     "iopub.status.idle": "2025-08-05T15:26:30.185726Z",
     "shell.execute_reply": "2025-08-05T15:26:30.184564Z"
    },
    "papermill": {
     "duration": 0.054448,
     "end_time": "2025-08-05T15:26:30.187920",
     "exception": false,
     "start_time": "2025-08-05T15:26:30.133472",
     "status": "completed"
    },
    "tags": []
   },
   "outputs": [],
   "source": [
    "X_calib = siab_calib.iloc[:,4:164]\n",
    "y_calib = siab_calib.iloc[:, [3]]"
   ]
  },
  {
   "cell_type": "code",
   "execution_count": 17,
   "id": "c34be9c3-6bd6-476e-acd3-845840e303be",
   "metadata": {
    "execution": {
     "iopub.execute_input": "2025-08-05T15:26:30.229263Z",
     "iopub.status.busy": "2025-08-05T15:26:30.228599Z",
     "iopub.status.idle": "2025-08-05T15:26:30.282302Z",
     "shell.execute_reply": "2025-08-05T15:26:30.281146Z"
    },
    "papermill": {
     "duration": 0.076116,
     "end_time": "2025-08-05T15:26:30.284372",
     "exception": false,
     "start_time": "2025-08-05T15:26:30.208256",
     "status": "completed"
    },
    "tags": []
   },
   "outputs": [],
   "source": [
    "X_test = siab_test.iloc[:,4:164]\n",
    "y_true = siab_test.iloc[:, [3]]"
   ]
  },
  {
   "cell_type": "code",
   "execution_count": 18,
   "id": "e6c733c5",
   "metadata": {
    "execution": {
     "iopub.execute_input": "2025-08-05T15:26:30.322422Z",
     "iopub.status.busy": "2025-08-05T15:26:30.320692Z",
     "iopub.status.idle": "2025-08-05T15:26:30.420717Z",
     "shell.execute_reply": "2025-08-05T15:26:30.419742Z"
    },
    "papermill": {
     "duration": 0.119772,
     "end_time": "2025-08-05T15:26:30.422775",
     "exception": false,
     "start_time": "2025-08-05T15:26:30.303003",
     "status": "completed"
    },
    "tags": []
   },
   "outputs": [],
   "source": [
    "# Auxiliary data needed downstream in the pipeline\n",
    "\n",
    "org_train = X_train.copy()\n",
    "org_test = X_test.copy()\n",
    "org_calib = X_calib.copy()"
   ]
  },
  {
   "cell_type": "markdown",
   "id": "0a4a1b33",
   "metadata": {
    "papermill": {
     "duration": 0.017061,
     "end_time": "2025-08-05T15:26:30.458091",
     "exception": false,
     "start_time": "2025-08-05T15:26:30.441030",
     "status": "completed"
    },
    "tags": []
   },
   "source": [
    "# Preprocessing Data"
   ]
  },
  {
   "cell_type": "code",
   "execution_count": 19,
   "id": "ca879031",
   "metadata": {
    "execution": {
     "iopub.execute_input": "2025-08-05T15:26:30.495181Z",
     "iopub.status.busy": "2025-08-05T15:26:30.493889Z",
     "iopub.status.idle": "2025-08-05T15:26:30.500718Z",
     "shell.execute_reply": "2025-08-05T15:26:30.499407Z"
    },
    "papermill": {
     "duration": 0.028025,
     "end_time": "2025-08-05T15:26:30.502879",
     "exception": false,
     "start_time": "2025-08-05T15:26:30.474854",
     "status": "completed"
    },
    "tags": []
   },
   "outputs": [],
   "source": [
    "# EXCLUDE PROTECTED FEATURES\n",
    "# ----------------------\n",
    "# \"exclude_features\": \"none\", # \"nationality\", \"sex\", \"nationality-sex\"\n",
    "\n",
    "excluded_features = universe[\"exclude_features\"].split(\"-\") # split, e.g.: \"nationality-sex\" -> [\"nationality\", \"sex\"]\n",
    "excluded_features_dictionary = {\n",
    "    \"nationality\": [\"maxdeutsch1\", \"maxdeutsch.Missing.\"],\n",
    "    \"sex\": [\"frau1\"],\n",
    "    \"age\": [\"age\"],\n",
    "}"
   ]
  },
  {
   "cell_type": "code",
   "execution_count": 20,
   "id": "b745ac60",
   "metadata": {
    "execution": {
     "iopub.execute_input": "2025-08-05T15:26:30.541144Z",
     "iopub.status.busy": "2025-08-05T15:26:30.539534Z",
     "iopub.status.idle": "2025-08-05T15:26:30.545870Z",
     "shell.execute_reply": "2025-08-05T15:26:30.544927Z"
    },
    "papermill": {
     "duration": 0.026074,
     "end_time": "2025-08-05T15:26:30.547676",
     "exception": false,
     "start_time": "2025-08-05T15:26:30.521602",
     "status": "completed"
    },
    "tags": []
   },
   "outputs": [],
   "source": [
    "# Code nice names to column names\n",
    "\n",
    "excluded_features_columns = [\n",
    "    excluded_features_dictionary[f] for f in excluded_features if len(f) > 0 and f != \"none\"\n",
    "]"
   ]
  },
  {
   "cell_type": "code",
   "execution_count": 21,
   "id": "f84f73a2",
   "metadata": {
    "execution": {
     "iopub.execute_input": "2025-08-05T15:26:30.585483Z",
     "iopub.status.busy": "2025-08-05T15:26:30.585014Z",
     "iopub.status.idle": "2025-08-05T15:26:30.591358Z",
     "shell.execute_reply": "2025-08-05T15:26:30.590297Z"
    },
    "papermill": {
     "duration": 0.027033,
     "end_time": "2025-08-05T15:26:30.593719",
     "exception": false,
     "start_time": "2025-08-05T15:26:30.566686",
     "status": "completed"
    },
    "tags": []
   },
   "outputs": [],
   "source": [
    "from utils import flatten_once\n",
    "\n",
    "excluded_features_columns = flatten_once(excluded_features_columns)"
   ]
  },
  {
   "cell_type": "code",
   "execution_count": 22,
   "id": "884dea22",
   "metadata": {
    "execution": {
     "iopub.execute_input": "2025-08-05T15:26:30.631850Z",
     "iopub.status.busy": "2025-08-05T15:26:30.631079Z",
     "iopub.status.idle": "2025-08-05T15:26:30.639994Z",
     "shell.execute_reply": "2025-08-05T15:26:30.638937Z"
    },
    "papermill": {
     "duration": 0.02888,
     "end_time": "2025-08-05T15:26:30.641974",
     "exception": false,
     "start_time": "2025-08-05T15:26:30.613094",
     "status": "completed"
    },
    "tags": []
   },
   "outputs": [
    {
     "name": "stdout",
     "output_type": "stream",
     "text": [
      "Dropping features: ['maxdeutsch1', 'maxdeutsch.Missing.']\n"
     ]
    }
   ],
   "source": [
    "if len(excluded_features_columns) > 0:\n",
    "    print(f\"Dropping features: {excluded_features_columns}\")\n",
    "    X_train.drop(excluded_features_columns, axis=1, inplace=True)"
   ]
  },
  {
   "cell_type": "code",
   "execution_count": 23,
   "id": "95ab8b16",
   "metadata": {
    "execution": {
     "iopub.execute_input": "2025-08-05T15:26:30.681166Z",
     "iopub.status.busy": "2025-08-05T15:26:30.680678Z",
     "iopub.status.idle": "2025-08-05T15:26:30.737846Z",
     "shell.execute_reply": "2025-08-05T15:26:30.736543Z"
    },
    "papermill": {
     "duration": 0.077764,
     "end_time": "2025-08-05T15:26:30.739638",
     "exception": false,
     "start_time": "2025-08-05T15:26:30.661874",
     "status": "completed"
    },
    "tags": []
   },
   "outputs": [
    {
     "name": "stdout",
     "output_type": "stream",
     "text": [
      "Dropping features: ['maxdeutsch1', 'maxdeutsch.Missing.']\n"
     ]
    }
   ],
   "source": [
    "if len(excluded_features_columns) > 0:\n",
    "    print(f\"Dropping features: {excluded_features_columns}\")\n",
    "    X_test.drop(excluded_features_columns, axis=1, inplace=True)"
   ]
  },
  {
   "cell_type": "code",
   "execution_count": 24,
   "id": "1853aaf5-fb9f-46cb-a2b5-8ea4ae2237e4",
   "metadata": {
    "execution": {
     "iopub.execute_input": "2025-08-05T15:26:30.778908Z",
     "iopub.status.busy": "2025-08-05T15:26:30.778278Z",
     "iopub.status.idle": "2025-08-05T15:26:30.829630Z",
     "shell.execute_reply": "2025-08-05T15:26:30.828530Z"
    },
    "papermill": {
     "duration": 0.072748,
     "end_time": "2025-08-05T15:26:30.831716",
     "exception": false,
     "start_time": "2025-08-05T15:26:30.758968",
     "status": "completed"
    },
    "tags": []
   },
   "outputs": [
    {
     "name": "stdout",
     "output_type": "stream",
     "text": [
      "Dropping features: ['maxdeutsch1', 'maxdeutsch.Missing.']\n"
     ]
    }
   ],
   "source": [
    "if len(excluded_features_columns) > 0:\n",
    "    print(f\"Dropping features: {excluded_features_columns}\")\n",
    "    X_calib.drop(excluded_features_columns, axis=1, inplace=True)"
   ]
  },
  {
   "cell_type": "code",
   "execution_count": 25,
   "id": "76c4dc6d",
   "metadata": {
    "execution": {
     "iopub.execute_input": "2025-08-05T15:26:30.875136Z",
     "iopub.status.busy": "2025-08-05T15:26:30.874500Z",
     "iopub.status.idle": "2025-08-05T15:26:30.879949Z",
     "shell.execute_reply": "2025-08-05T15:26:30.879001Z"
    },
    "papermill": {
     "duration": 0.028726,
     "end_time": "2025-08-05T15:26:30.882116",
     "exception": false,
     "start_time": "2025-08-05T15:26:30.853390",
     "status": "completed"
    },
    "tags": []
   },
   "outputs": [],
   "source": [
    "# EXCLUDE CERTAIN SUBGROUPS\n",
    "# ----------------------\n",
    "\n",
    "mode = universe.get(\"exclude_subgroups\", \"keep-all\") \n",
    "# Fetches the exclude_subgroups setting from the universe dict.\n",
    "# Defaults to \"keep-all\" if the key is missing."
   ]
  },
  {
   "cell_type": "code",
   "execution_count": 26,
   "id": "21994072",
   "metadata": {
    "execution": {
     "iopub.execute_input": "2025-08-05T15:26:30.926006Z",
     "iopub.status.busy": "2025-08-05T15:26:30.925210Z",
     "iopub.status.idle": "2025-08-05T15:26:30.932233Z",
     "shell.execute_reply": "2025-08-05T15:26:30.931107Z"
    },
    "papermill": {
     "duration": 0.042466,
     "end_time": "2025-08-05T15:26:30.946791",
     "exception": false,
     "start_time": "2025-08-05T15:26:30.904325",
     "status": "completed"
    },
    "tags": []
   },
   "outputs": [],
   "source": [
    "if mode == \"keep-all\":\n",
    "    keep_mask = pd.Series(True, index=org_train.index)\n",
    "\n",
    "# org_train contains the original feature columns from features_org (in Simson)\n",
    "# features_org contains unprocessed features, for me X_train at beginning ???\n",
    "# For keep-all, creates a boolean Series (keep_mask) of all True, so no rows are removed.\n",
    "\n",
    "elif mode == \"drop-non-german\":\n",
    "    keep_mask = org_train[\"maxdeutsch1\"] == 1 # ??? what about missing values?\n",
    "\n",
    "else:\n",
    "    raise ValueError(f\"Unsupported mode for exclude_subgroups: {mode}\")"
   ]
  },
  {
   "cell_type": "code",
   "execution_count": 27,
   "id": "71651440",
   "metadata": {
    "execution": {
     "iopub.execute_input": "2025-08-05T15:26:30.994980Z",
     "iopub.status.busy": "2025-08-05T15:26:30.994532Z",
     "iopub.status.idle": "2025-08-05T15:26:31.001470Z",
     "shell.execute_reply": "2025-08-05T15:26:31.000435Z"
    },
    "papermill": {
     "duration": 0.028939,
     "end_time": "2025-08-05T15:26:31.003428",
     "exception": false,
     "start_time": "2025-08-05T15:26:30.974489",
     "status": "completed"
    },
    "tags": []
   },
   "outputs": [
    {
     "name": "stdout",
     "output_type": "stream",
     "text": [
      "Dropping 741 rows (14.82%) where mode='drop-non-german'\n"
     ]
    }
   ],
   "source": [
    "n_drop = (~keep_mask).sum() # Calculates how many rows are set to be dropped\n",
    "if n_drop > 0:\n",
    "    pct = n_drop / len(keep_mask) * 100\n",
    "    print(f\"Dropping {n_drop} rows ({pct:.2f}%) where mode='{mode}'\")"
   ]
  },
  {
   "cell_type": "code",
   "execution_count": 28,
   "id": "5fb8eee5",
   "metadata": {
    "execution": {
     "iopub.execute_input": "2025-08-05T15:26:31.043358Z",
     "iopub.status.busy": "2025-08-05T15:26:31.042870Z",
     "iopub.status.idle": "2025-08-05T15:26:31.050671Z",
     "shell.execute_reply": "2025-08-05T15:26:31.049631Z"
    },
    "papermill": {
     "duration": 0.028894,
     "end_time": "2025-08-05T15:26:31.052451",
     "exception": false,
     "start_time": "2025-08-05T15:26:31.023557",
     "status": "completed"
    },
    "tags": []
   },
   "outputs": [],
   "source": [
    "X_train = X_train[keep_mask]"
   ]
  },
  {
   "cell_type": "code",
   "execution_count": 29,
   "id": "b202bb3a",
   "metadata": {
    "execution": {
     "iopub.execute_input": "2025-08-05T15:26:31.093849Z",
     "iopub.status.busy": "2025-08-05T15:26:31.093377Z",
     "iopub.status.idle": "2025-08-05T15:26:31.099465Z",
     "shell.execute_reply": "2025-08-05T15:26:31.098379Z"
    },
    "papermill": {
     "duration": 0.028169,
     "end_time": "2025-08-05T15:26:31.101279",
     "exception": false,
     "start_time": "2025-08-05T15:26:31.073110",
     "status": "completed"
    },
    "tags": []
   },
   "outputs": [],
   "source": [
    "y_train = y_train[keep_mask]"
   ]
  },
  {
   "cell_type": "markdown",
   "id": "493e2ac3",
   "metadata": {
    "papermill": {
     "duration": 0.018967,
     "end_time": "2025-08-05T15:26:31.140594",
     "exception": false,
     "start_time": "2025-08-05T15:26:31.121627",
     "status": "completed"
    },
    "tags": []
   },
   "source": [
    "# Model Training"
   ]
  },
  {
   "cell_type": "code",
   "execution_count": 30,
   "id": "679e1268",
   "metadata": {
    "execution": {
     "iopub.execute_input": "2025-08-05T15:26:31.180241Z",
     "iopub.status.busy": "2025-08-05T15:26:31.179762Z",
     "iopub.status.idle": "2025-08-05T15:26:31.289156Z",
     "shell.execute_reply": "2025-08-05T15:26:31.288143Z"
    },
    "papermill": {
     "duration": 0.131785,
     "end_time": "2025-08-05T15:26:31.291121",
     "exception": false,
     "start_time": "2025-08-05T15:26:31.159336",
     "status": "completed"
    },
    "tags": []
   },
   "outputs": [],
   "source": [
    "from sklearn.linear_model import LogisticRegression\n",
    "from sklearn.ensemble import GradientBoostingClassifier, RandomForestClassifier\n",
    "\n",
    "if (universe[\"model\"] == \"logreg\"):\n",
    "    model = LogisticRegression() #penalty=\"none\", solver=\"newton-cg\", max_iter=1) # include random_state=19 ?\n",
    "elif (universe[\"model\"] == \"penalized_logreg\"):\n",
    "    model = LogisticRegression(penalty=\"l2\", C=0.1) #, solver=\"newton-cg\", max_iter=1)\n",
    "elif (universe[\"model\"] == \"rf\"):\n",
    "    model = RandomForestClassifier() # n_estimators=100, n_jobs=-1\n",
    "elif (universe[\"model\"] == \"gbm\"):\n",
    "    model = GradientBoostingClassifier()\n",
    "elif (universe[\"model\"] == \"elasticnet\"):\n",
    "    model = LogisticRegression(penalty = 'elasticnet', solver = 'saga', l1_ratio = 0.5) # max_iter=5000\n",
    "else:\n",
    "    raise \"Unsupported universe.model\""
   ]
  },
  {
   "cell_type": "code",
   "execution_count": 31,
   "id": "0cc8f744",
   "metadata": {
    "execution": {
     "iopub.execute_input": "2025-08-05T15:26:31.331597Z",
     "iopub.status.busy": "2025-08-05T15:26:31.331077Z",
     "iopub.status.idle": "2025-08-05T15:26:31.337686Z",
     "shell.execute_reply": "2025-08-05T15:26:31.336581Z"
    },
    "papermill": {
     "duration": 0.028574,
     "end_time": "2025-08-05T15:26:31.339758",
     "exception": false,
     "start_time": "2025-08-05T15:26:31.311184",
     "status": "completed"
    },
    "tags": []
   },
   "outputs": [],
   "source": [
    "import numpy as np\n",
    "from sklearn.pipeline import Pipeline\n",
    "from sklearn.preprocessing import StandardScaler\n",
    "\n",
    "model = Pipeline([\n",
    "    #(\"continuous_processor\", continuous_processor),\n",
    "    #(\"categorical_preprocessor\", categorical_preprocessor),\n",
    "    (\"scale\", StandardScaler() if universe[\"scale\"] == \"scale\" else None), \n",
    "    (\"model\", model),\n",
    "])"
   ]
  },
  {
   "cell_type": "code",
   "execution_count": 32,
   "id": "9442c04d",
   "metadata": {
    "execution": {
     "iopub.execute_input": "2025-08-05T15:26:31.380674Z",
     "iopub.status.busy": "2025-08-05T15:26:31.380162Z",
     "iopub.status.idle": "2025-08-05T15:26:33.029991Z",
     "shell.execute_reply": "2025-08-05T15:26:33.028964Z"
    },
    "papermill": {
     "duration": 1.672614,
     "end_time": "2025-08-05T15:26:33.031803",
     "exception": false,
     "start_time": "2025-08-05T15:26:31.359189",
     "status": "completed"
    },
    "tags": []
   },
   "outputs": [
    {
     "name": "stderr",
     "output_type": "stream",
     "text": [
      "/dss/dsshome1/0C/ra93lal2/.local/share/virtualenvs/CMA_Fairness_v2-3j10GkSs/lib/python3.10/site-packages/sklearn/linear_model/_sag.py:350: ConvergenceWarning: The max_iter was reached which means the coef_ did not converge\n",
      "  warnings.warn(\n"
     ]
    },
    {
     "data": {
      "text/html": [
       "<style>#sk-container-id-1 {color: black;background-color: white;}#sk-container-id-1 pre{padding: 0;}#sk-container-id-1 div.sk-toggleable {background-color: white;}#sk-container-id-1 label.sk-toggleable__label {cursor: pointer;display: block;width: 100%;margin-bottom: 0;padding: 0.3em;box-sizing: border-box;text-align: center;}#sk-container-id-1 label.sk-toggleable__label-arrow:before {content: \"▸\";float: left;margin-right: 0.25em;color: #696969;}#sk-container-id-1 label.sk-toggleable__label-arrow:hover:before {color: black;}#sk-container-id-1 div.sk-estimator:hover label.sk-toggleable__label-arrow:before {color: black;}#sk-container-id-1 div.sk-toggleable__content {max-height: 0;max-width: 0;overflow: hidden;text-align: left;background-color: #f0f8ff;}#sk-container-id-1 div.sk-toggleable__content pre {margin: 0.2em;color: black;border-radius: 0.25em;background-color: #f0f8ff;}#sk-container-id-1 input.sk-toggleable__control:checked~div.sk-toggleable__content {max-height: 200px;max-width: 100%;overflow: auto;}#sk-container-id-1 input.sk-toggleable__control:checked~label.sk-toggleable__label-arrow:before {content: \"▾\";}#sk-container-id-1 div.sk-estimator input.sk-toggleable__control:checked~label.sk-toggleable__label {background-color: #d4ebff;}#sk-container-id-1 div.sk-label input.sk-toggleable__control:checked~label.sk-toggleable__label {background-color: #d4ebff;}#sk-container-id-1 input.sk-hidden--visually {border: 0;clip: rect(1px 1px 1px 1px);clip: rect(1px, 1px, 1px, 1px);height: 1px;margin: -1px;overflow: hidden;padding: 0;position: absolute;width: 1px;}#sk-container-id-1 div.sk-estimator {font-family: monospace;background-color: #f0f8ff;border: 1px dotted black;border-radius: 0.25em;box-sizing: border-box;margin-bottom: 0.5em;}#sk-container-id-1 div.sk-estimator:hover {background-color: #d4ebff;}#sk-container-id-1 div.sk-parallel-item::after {content: \"\";width: 100%;border-bottom: 1px solid gray;flex-grow: 1;}#sk-container-id-1 div.sk-label:hover label.sk-toggleable__label {background-color: #d4ebff;}#sk-container-id-1 div.sk-serial::before {content: \"\";position: absolute;border-left: 1px solid gray;box-sizing: border-box;top: 0;bottom: 0;left: 50%;z-index: 0;}#sk-container-id-1 div.sk-serial {display: flex;flex-direction: column;align-items: center;background-color: white;padding-right: 0.2em;padding-left: 0.2em;position: relative;}#sk-container-id-1 div.sk-item {position: relative;z-index: 1;}#sk-container-id-1 div.sk-parallel {display: flex;align-items: stretch;justify-content: center;background-color: white;position: relative;}#sk-container-id-1 div.sk-item::before, #sk-container-id-1 div.sk-parallel-item::before {content: \"\";position: absolute;border-left: 1px solid gray;box-sizing: border-box;top: 0;bottom: 0;left: 50%;z-index: -1;}#sk-container-id-1 div.sk-parallel-item {display: flex;flex-direction: column;z-index: 1;position: relative;background-color: white;}#sk-container-id-1 div.sk-parallel-item:first-child::after {align-self: flex-end;width: 50%;}#sk-container-id-1 div.sk-parallel-item:last-child::after {align-self: flex-start;width: 50%;}#sk-container-id-1 div.sk-parallel-item:only-child::after {width: 0;}#sk-container-id-1 div.sk-dashed-wrapped {border: 1px dashed gray;margin: 0 0.4em 0.5em 0.4em;box-sizing: border-box;padding-bottom: 0.4em;background-color: white;}#sk-container-id-1 div.sk-label label {font-family: monospace;font-weight: bold;display: inline-block;line-height: 1.2em;}#sk-container-id-1 div.sk-label-container {text-align: center;}#sk-container-id-1 div.sk-container {/* jupyter's `normalize.less` sets `[hidden] { display: none; }` but bootstrap.min.css set `[hidden] { display: none !important; }` so we also need the `!important` here to be able to override the default hidden behavior on the sphinx rendered scikit-learn.org. See: https://github.com/scikit-learn/scikit-learn/issues/21755 */display: inline-block !important;position: relative;}#sk-container-id-1 div.sk-text-repr-fallback {display: none;}</style><div id=\"sk-container-id-1\" class=\"sk-top-container\"><div class=\"sk-text-repr-fallback\"><pre>Pipeline(steps=[(&#x27;scale&#x27;, StandardScaler()),\n",
       "                (&#x27;model&#x27;,\n",
       "                 LogisticRegression(l1_ratio=0.5, penalty=&#x27;elasticnet&#x27;,\n",
       "                                    solver=&#x27;saga&#x27;))])</pre><b>In a Jupyter environment, please rerun this cell to show the HTML representation or trust the notebook. <br />On GitHub, the HTML representation is unable to render, please try loading this page with nbviewer.org.</b></div><div class=\"sk-container\" hidden><div class=\"sk-item sk-dashed-wrapped\"><div class=\"sk-label-container\"><div class=\"sk-label sk-toggleable\"><input class=\"sk-toggleable__control sk-hidden--visually\" id=\"sk-estimator-id-1\" type=\"checkbox\" ><label for=\"sk-estimator-id-1\" class=\"sk-toggleable__label sk-toggleable__label-arrow\">Pipeline</label><div class=\"sk-toggleable__content\"><pre>Pipeline(steps=[(&#x27;scale&#x27;, StandardScaler()),\n",
       "                (&#x27;model&#x27;,\n",
       "                 LogisticRegression(l1_ratio=0.5, penalty=&#x27;elasticnet&#x27;,\n",
       "                                    solver=&#x27;saga&#x27;))])</pre></div></div></div><div class=\"sk-serial\"><div class=\"sk-item\"><div class=\"sk-estimator sk-toggleable\"><input class=\"sk-toggleable__control sk-hidden--visually\" id=\"sk-estimator-id-2\" type=\"checkbox\" ><label for=\"sk-estimator-id-2\" class=\"sk-toggleable__label sk-toggleable__label-arrow\">StandardScaler</label><div class=\"sk-toggleable__content\"><pre>StandardScaler()</pre></div></div></div><div class=\"sk-item\"><div class=\"sk-estimator sk-toggleable\"><input class=\"sk-toggleable__control sk-hidden--visually\" id=\"sk-estimator-id-3\" type=\"checkbox\" ><label for=\"sk-estimator-id-3\" class=\"sk-toggleable__label sk-toggleable__label-arrow\">LogisticRegression</label><div class=\"sk-toggleable__content\"><pre>LogisticRegression(l1_ratio=0.5, penalty=&#x27;elasticnet&#x27;, solver=&#x27;saga&#x27;)</pre></div></div></div></div></div></div></div>"
      ],
      "text/plain": [
       "Pipeline(steps=[('scale', StandardScaler()),\n",
       "                ('model',\n",
       "                 LogisticRegression(l1_ratio=0.5, penalty='elasticnet',\n",
       "                                    solver='saga'))])"
      ]
     },
     "execution_count": 32,
     "metadata": {},
     "output_type": "execute_result"
    }
   ],
   "source": [
    "model.fit(X_train, y_train.values.ravel())"
   ]
  },
  {
   "cell_type": "code",
   "execution_count": 33,
   "id": "af59f8c0",
   "metadata": {
    "execution": {
     "iopub.execute_input": "2025-08-05T15:26:33.073067Z",
     "iopub.status.busy": "2025-08-05T15:26:33.072190Z",
     "iopub.status.idle": "2025-08-05T15:26:33.078027Z",
     "shell.execute_reply": "2025-08-05T15:26:33.076930Z"
    },
    "papermill": {
     "duration": 0.027861,
     "end_time": "2025-08-05T15:26:33.079921",
     "exception": false,
     "start_time": "2025-08-05T15:26:33.052060",
     "status": "completed"
    },
    "tags": []
   },
   "outputs": [],
   "source": [
    "from fairness_multiverse.universe import predict_w_threshold"
   ]
  },
  {
   "cell_type": "code",
   "execution_count": 34,
   "id": "a7cf2e16",
   "metadata": {
    "execution": {
     "iopub.execute_input": "2025-08-05T15:26:33.126139Z",
     "iopub.status.busy": "2025-08-05T15:26:33.125225Z",
     "iopub.status.idle": "2025-08-05T15:26:33.320604Z",
     "shell.execute_reply": "2025-08-05T15:26:33.319690Z"
    },
    "papermill": {
     "duration": 0.219973,
     "end_time": "2025-08-05T15:26:33.322249",
     "exception": false,
     "start_time": "2025-08-05T15:26:33.102276",
     "status": "completed"
    },
    "tags": []
   },
   "outputs": [
    {
     "data": {
      "text/plain": [
       "0.8567272321926207"
      ]
     },
     "execution_count": 34,
     "metadata": {},
     "output_type": "execute_result"
    }
   ],
   "source": [
    "probs_test = model.predict_proba(X_test)\n",
    "\n",
    "'''\n",
    "Below code returns a boolean array (or binary 0/1 array depending on how it’s used) where each element \n",
    "is True if the probability of class 1 is greater than or equal to the threshold, and False otherwise.\n",
    "'''\n",
    "y_pred_default = predict_w_threshold(probs_test, 0.5)\n",
    "\n",
    "from sklearn.metrics import accuracy_score\n",
    "\n",
    "# Naive prediction\n",
    "accuracy_score(y_true = y_true, y_pred = y_pred_default)"
   ]
  },
  {
   "cell_type": "code",
   "execution_count": 35,
   "id": "081964c3",
   "metadata": {
    "execution": {
     "iopub.execute_input": "2025-08-05T15:26:33.364135Z",
     "iopub.status.busy": "2025-08-05T15:26:33.363480Z",
     "iopub.status.idle": "2025-08-05T15:26:33.544597Z",
     "shell.execute_reply": "2025-08-05T15:26:33.543587Z"
    },
    "papermill": {
     "duration": 0.203398,
     "end_time": "2025-08-05T15:26:33.546193",
     "exception": false,
     "start_time": "2025-08-05T15:26:33.342795",
     "status": "completed"
    },
    "tags": []
   },
   "outputs": [
    {
     "data": {
      "text/plain": [
       "array([0, 0, 0, ..., 0, 0, 0])"
      ]
     },
     "execution_count": 35,
     "metadata": {},
     "output_type": "execute_result"
    }
   ],
   "source": [
    "model.predict(X_test)"
   ]
  },
  {
   "cell_type": "markdown",
   "id": "56c9705b",
   "metadata": {
    "papermill": {
     "duration": 0.019834,
     "end_time": "2025-08-05T15:26:33.585740",
     "exception": false,
     "start_time": "2025-08-05T15:26:33.565906",
     "status": "completed"
    },
    "tags": []
   },
   "source": [
    "# Conformal Prediction"
   ]
  },
  {
   "cell_type": "code",
   "execution_count": 36,
   "id": "160ec6ff",
   "metadata": {
    "execution": {
     "iopub.execute_input": "2025-08-05T15:26:33.627260Z",
     "iopub.status.busy": "2025-08-05T15:26:33.626521Z",
     "iopub.status.idle": "2025-08-05T15:26:33.632259Z",
     "shell.execute_reply": "2025-08-05T15:26:33.631138Z"
    },
    "papermill": {
     "duration": 0.028966,
     "end_time": "2025-08-05T15:26:33.634565",
     "exception": false,
     "start_time": "2025-08-05T15:26:33.605599",
     "status": "completed"
    },
    "tags": []
   },
   "outputs": [],
   "source": [
    "# Miscoverage level for conformal prediction (10% allowed error rate => 90% target coverage)\n",
    "alpha = 0.1"
   ]
  },
  {
   "cell_type": "code",
   "execution_count": 37,
   "id": "eadf4555-3dd3-440e-8e35-f82a4ad9f855",
   "metadata": {
    "execution": {
     "iopub.execute_input": "2025-08-05T15:26:33.682137Z",
     "iopub.status.busy": "2025-08-05T15:26:33.681231Z",
     "iopub.status.idle": "2025-08-05T15:26:33.856424Z",
     "shell.execute_reply": "2025-08-05T15:26:33.855426Z"
    },
    "papermill": {
     "duration": 0.200104,
     "end_time": "2025-08-05T15:26:33.858499",
     "exception": false,
     "start_time": "2025-08-05T15:26:33.658395",
     "status": "completed"
    },
    "tags": []
   },
   "outputs": [],
   "source": [
    "probs_calib = model.predict_proba(X_calib)"
   ]
  },
  {
   "cell_type": "code",
   "execution_count": 38,
   "id": "2ed93547-6d5d-4983-9b36-1ecb300da49a",
   "metadata": {
    "execution": {
     "iopub.execute_input": "2025-08-05T15:26:33.905769Z",
     "iopub.status.busy": "2025-08-05T15:26:33.904842Z",
     "iopub.status.idle": "2025-08-05T15:26:33.910938Z",
     "shell.execute_reply": "2025-08-05T15:26:33.909734Z"
    },
    "papermill": {
     "duration": 0.032619,
     "end_time": "2025-08-05T15:26:33.913127",
     "exception": false,
     "start_time": "2025-08-05T15:26:33.880508",
     "status": "completed"
    },
    "tags": []
   },
   "outputs": [],
   "source": [
    "y_calib = y_calib.values.ravel().astype(int)"
   ]
  },
  {
   "cell_type": "code",
   "execution_count": 39,
   "id": "65d1320d-f588-4b38-9072-62af1ae97f7d",
   "metadata": {
    "execution": {
     "iopub.execute_input": "2025-08-05T15:26:33.955757Z",
     "iopub.status.busy": "2025-08-05T15:26:33.954835Z",
     "iopub.status.idle": "2025-08-05T15:26:33.962817Z",
     "shell.execute_reply": "2025-08-05T15:26:33.961620Z"
    },
    "papermill": {
     "duration": 0.030674,
     "end_time": "2025-08-05T15:26:33.964880",
     "exception": false,
     "start_time": "2025-08-05T15:26:33.934206",
     "status": "completed"
    },
    "tags": []
   },
   "outputs": [],
   "source": [
    "from fairness_multiverse.conformal import compute_nc_scores\n",
    "\n",
    "# Compute nonconformity scores on calibration set (1 - probability of true class)\n",
    "nc_scores = compute_nc_scores(probs_calib, y_calib)"
   ]
  },
  {
   "cell_type": "code",
   "execution_count": 40,
   "id": "df3b8ca3-53b7-43d5-9667-7c85da7aeda2",
   "metadata": {
    "execution": {
     "iopub.execute_input": "2025-08-05T15:26:34.012691Z",
     "iopub.status.busy": "2025-08-05T15:26:34.011963Z",
     "iopub.status.idle": "2025-08-05T15:26:34.019528Z",
     "shell.execute_reply": "2025-08-05T15:26:34.018304Z"
    },
    "papermill": {
     "duration": 0.033709,
     "end_time": "2025-08-05T15:26:34.021657",
     "exception": false,
     "start_time": "2025-08-05T15:26:33.987948",
     "status": "completed"
    },
    "tags": []
   },
   "outputs": [],
   "source": [
    "from fairness_multiverse.conformal import find_threshold\n",
    "\n",
    "# Find conformal threshold q_hat for the given alpha (split conformal method)\n",
    "q_hat = find_threshold(nc_scores, alpha)"
   ]
  },
  {
   "cell_type": "code",
   "execution_count": 41,
   "id": "4d29e6c1-0ef6-4aa4-b8fe-4fe79b0d033a",
   "metadata": {
    "execution": {
     "iopub.execute_input": "2025-08-05T15:26:34.074800Z",
     "iopub.status.busy": "2025-08-05T15:26:34.073839Z",
     "iopub.status.idle": "2025-08-05T15:26:34.081670Z",
     "shell.execute_reply": "2025-08-05T15:26:34.080439Z"
    },
    "papermill": {
     "duration": 0.03795,
     "end_time": "2025-08-05T15:26:34.083792",
     "exception": false,
     "start_time": "2025-08-05T15:26:34.045842",
     "status": "completed"
    },
    "tags": []
   },
   "outputs": [
    {
     "data": {
      "text/plain": [
       "0.689311549009468"
      ]
     },
     "execution_count": 41,
     "metadata": {},
     "output_type": "execute_result"
    }
   ],
   "source": [
    "q_hat"
   ]
  },
  {
   "cell_type": "code",
   "execution_count": 42,
   "id": "92460794-cdac-4be2-ba28-f28c0515a6fb",
   "metadata": {
    "execution": {
     "iopub.execute_input": "2025-08-05T15:26:34.132734Z",
     "iopub.status.busy": "2025-08-05T15:26:34.131829Z",
     "iopub.status.idle": "2025-08-05T15:26:35.009451Z",
     "shell.execute_reply": "2025-08-05T15:26:35.008289Z"
    },
    "papermill": {
     "duration": 0.903887,
     "end_time": "2025-08-05T15:26:35.012094",
     "exception": false,
     "start_time": "2025-08-05T15:26:34.108207",
     "status": "completed"
    },
    "tags": []
   },
   "outputs": [],
   "source": [
    "from fairness_multiverse.conformal import predict_conformal_sets\n",
    "\n",
    "# Generate prediction sets for each test example\n",
    "pred_sets = predict_conformal_sets(model, X_test, q_hat)"
   ]
  },
  {
   "cell_type": "code",
   "execution_count": 43,
   "id": "d90c9a65-e6db-4f5d-80cd-e68fb7e46829",
   "metadata": {
    "execution": {
     "iopub.execute_input": "2025-08-05T15:26:35.071520Z",
     "iopub.status.busy": "2025-08-05T15:26:35.070723Z",
     "iopub.status.idle": "2025-08-05T15:26:35.077466Z",
     "shell.execute_reply": "2025-08-05T15:26:35.076171Z"
    },
    "papermill": {
     "duration": 0.039094,
     "end_time": "2025-08-05T15:26:35.079708",
     "exception": false,
     "start_time": "2025-08-05T15:26:35.040614",
     "status": "completed"
    },
    "tags": []
   },
   "outputs": [],
   "source": [
    "y_true = y_true.squeeze()"
   ]
  },
  {
   "cell_type": "code",
   "execution_count": 44,
   "id": "3a58a54a-1e68-46b9-927a-df01f18aebc8",
   "metadata": {
    "execution": {
     "iopub.execute_input": "2025-08-05T15:26:35.124786Z",
     "iopub.status.busy": "2025-08-05T15:26:35.124049Z",
     "iopub.status.idle": "2025-08-05T15:26:36.246677Z",
     "shell.execute_reply": "2025-08-05T15:26:36.245598Z"
    },
    "papermill": {
     "duration": 1.146769,
     "end_time": "2025-08-05T15:26:36.248798",
     "exception": false,
     "start_time": "2025-08-05T15:26:35.102029",
     "status": "completed"
    },
    "tags": []
   },
   "outputs": [],
   "source": [
    "from fairness_multiverse.conformal import evaluate_sets\n",
    "\n",
    "# Evaluate coverage and average set size on test data\n",
    "metrics = evaluate_sets(pred_sets, y_true)"
   ]
  },
  {
   "cell_type": "markdown",
   "id": "2b569c12-9aaa-4c88-98c9-bbcd0cf3ebb8",
   "metadata": {
    "papermill": {
     "duration": 0.019805,
     "end_time": "2025-08-05T15:26:36.292768",
     "exception": false,
     "start_time": "2025-08-05T15:26:36.272963",
     "status": "completed"
    },
    "tags": []
   },
   "source": [
    "# CP Metrics"
   ]
  },
  {
   "cell_type": "code",
   "execution_count": 45,
   "id": "5ce0a5cb-201f-45a0-ade5-94c7f0bd6095",
   "metadata": {
    "execution": {
     "iopub.execute_input": "2025-08-05T15:26:36.318473Z",
     "iopub.status.busy": "2025-08-05T15:26:36.318029Z",
     "iopub.status.idle": "2025-08-05T15:26:36.326277Z",
     "shell.execute_reply": "2025-08-05T15:26:36.324936Z"
    },
    "papermill": {
     "duration": 0.024181,
     "end_time": "2025-08-05T15:26:36.328958",
     "exception": false,
     "start_time": "2025-08-05T15:26:36.304777",
     "status": "completed"
    },
    "tags": []
   },
   "outputs": [
    {
     "data": {
      "text/plain": [
       "{'coverage': 0.9097536506521012, 'avg_size': 1.136662579422584}"
      ]
     },
     "execution_count": 45,
     "metadata": {},
     "output_type": "execute_result"
    }
   ],
   "source": [
    "metrics"
   ]
  },
  {
   "cell_type": "code",
   "execution_count": 46,
   "id": "9b9a838d-31c9-430b-ae14-12baee460d17",
   "metadata": {
    "execution": {
     "iopub.execute_input": "2025-08-05T15:26:36.394545Z",
     "iopub.status.busy": "2025-08-05T15:26:36.394096Z",
     "iopub.status.idle": "2025-08-05T15:26:36.400526Z",
     "shell.execute_reply": "2025-08-05T15:26:36.399441Z"
    },
    "papermill": {
     "duration": 0.041379,
     "end_time": "2025-08-05T15:26:36.402616",
     "exception": false,
     "start_time": "2025-08-05T15:26:36.361237",
     "status": "completed"
    },
    "tags": []
   },
   "outputs": [],
   "source": [
    "example_universe = universe.copy()\n",
    "universe_training_year = example_universe.get(\"training_year\")\n",
    "universe_training_size = example_universe.get(\"training_size\")\n",
    "universe_scale = example_universe.get(\"scale\")\n",
    "universe_model = example_universe.get(\"model\")\n",
    "universe_exclude_features = example_universe.get(\"exclude_features\")\n",
    "universe_exclude_subgroups = example_universe.get(\"exclude_subgroups\")"
   ]
  },
  {
   "cell_type": "code",
   "execution_count": 47,
   "id": "f4b6a8ac-9dc0-4245-8a91-5b3b5999c4f9",
   "metadata": {
    "execution": {
     "iopub.execute_input": "2025-08-05T15:26:36.448947Z",
     "iopub.status.busy": "2025-08-05T15:26:36.448425Z",
     "iopub.status.idle": "2025-08-05T15:26:36.455720Z",
     "shell.execute_reply": "2025-08-05T15:26:36.454581Z"
    },
    "papermill": {
     "duration": 0.032409,
     "end_time": "2025-08-05T15:26:36.457673",
     "exception": false,
     "start_time": "2025-08-05T15:26:36.425264",
     "status": "completed"
    },
    "tags": []
   },
   "outputs": [],
   "source": [
    "cp_metrics_dict = {\n",
    "    \"universe_id\": [universe_id],\n",
    "    \"universe_training_year\": [universe_training_year],\n",
    "    \"universe_training_size\": [universe_training_size],\n",
    "    \"universe_scale\": [universe_scale],\n",
    "    \"universe_model\": [universe_model],\n",
    "    \"universe_exclude_features\": [universe_exclude_features],\n",
    "    \"universe_exclude_subgroups\": [universe_exclude_subgroups],\n",
    "    \"q_hat\": [q_hat],\n",
    "    \"coverage\": [metrics[\"coverage\"]],\n",
    "    \"avg_size\": [metrics[\"avg_size\"]],\n",
    "}"
   ]
  },
  {
   "cell_type": "code",
   "execution_count": 48,
   "id": "908acbb1-0371-4915-85ca-3fa520d2efe2",
   "metadata": {
    "execution": {
     "iopub.execute_input": "2025-08-05T15:26:36.504716Z",
     "iopub.status.busy": "2025-08-05T15:26:36.504059Z",
     "iopub.status.idle": "2025-08-05T15:26:36.514181Z",
     "shell.execute_reply": "2025-08-05T15:26:36.513270Z"
    },
    "papermill": {
     "duration": 0.0412,
     "end_time": "2025-08-05T15:26:36.521126",
     "exception": false,
     "start_time": "2025-08-05T15:26:36.479926",
     "status": "completed"
    },
    "tags": []
   },
   "outputs": [
    {
     "data": {
      "text/plain": [
       "{'universe_id': ['2be3e277838ba440bc4352c92e002947'],\n",
       " 'universe_training_year': ['2014'],\n",
       " 'universe_training_size': ['5k'],\n",
       " 'universe_scale': ['scale'],\n",
       " 'universe_model': ['elasticnet'],\n",
       " 'universe_exclude_features': ['nationality'],\n",
       " 'universe_exclude_subgroups': ['drop-non-german'],\n",
       " 'q_hat': [0.689311549009468],\n",
       " 'coverage': [0.9097536506521012],\n",
       " 'avg_size': [1.136662579422584]}"
      ]
     },
     "execution_count": 48,
     "metadata": {},
     "output_type": "execute_result"
    }
   ],
   "source": [
    "cp_metrics_dict"
   ]
  },
  {
   "cell_type": "code",
   "execution_count": 49,
   "id": "33007efc-14e9-4ec6-97ac-56a455c82265",
   "metadata": {
    "execution": {
     "iopub.execute_input": "2025-08-05T15:26:36.567477Z",
     "iopub.status.busy": "2025-08-05T15:26:36.566979Z",
     "iopub.status.idle": "2025-08-05T15:26:36.573831Z",
     "shell.execute_reply": "2025-08-05T15:26:36.572564Z"
    },
    "papermill": {
     "duration": 0.032403,
     "end_time": "2025-08-05T15:26:36.575938",
     "exception": false,
     "start_time": "2025-08-05T15:26:36.543535",
     "status": "completed"
    },
    "tags": []
   },
   "outputs": [],
   "source": [
    "cp_metrics_df = pd.DataFrame(cp_metrics_dict)"
   ]
  },
  {
   "cell_type": "code",
   "execution_count": 50,
   "id": "db12611b-57b2-4910-b9d0-355adfd6e7bf",
   "metadata": {
    "execution": {
     "iopub.execute_input": "2025-08-05T15:26:36.624893Z",
     "iopub.status.busy": "2025-08-05T15:26:36.624437Z",
     "iopub.status.idle": "2025-08-05T15:26:36.644657Z",
     "shell.execute_reply": "2025-08-05T15:26:36.643441Z"
    },
    "papermill": {
     "duration": 0.052441,
     "end_time": "2025-08-05T15:26:36.652226",
     "exception": false,
     "start_time": "2025-08-05T15:26:36.599785",
     "status": "completed"
    },
    "tags": []
   },
   "outputs": [
    {
     "data": {
      "text/html": [
       "<div>\n",
       "<style scoped>\n",
       "    .dataframe tbody tr th:only-of-type {\n",
       "        vertical-align: middle;\n",
       "    }\n",
       "\n",
       "    .dataframe tbody tr th {\n",
       "        vertical-align: top;\n",
       "    }\n",
       "\n",
       "    .dataframe thead th {\n",
       "        text-align: right;\n",
       "    }\n",
       "</style>\n",
       "<table border=\"1\" class=\"dataframe\">\n",
       "  <thead>\n",
       "    <tr style=\"text-align: right;\">\n",
       "      <th></th>\n",
       "      <th>universe_id</th>\n",
       "      <th>universe_training_year</th>\n",
       "      <th>universe_training_size</th>\n",
       "      <th>universe_scale</th>\n",
       "      <th>universe_model</th>\n",
       "      <th>universe_exclude_features</th>\n",
       "      <th>universe_exclude_subgroups</th>\n",
       "      <th>q_hat</th>\n",
       "      <th>coverage</th>\n",
       "      <th>avg_size</th>\n",
       "    </tr>\n",
       "  </thead>\n",
       "  <tbody>\n",
       "    <tr>\n",
       "      <th>0</th>\n",
       "      <td>2be3e277838ba440bc4352c92e002947</td>\n",
       "      <td>2014</td>\n",
       "      <td>5k</td>\n",
       "      <td>scale</td>\n",
       "      <td>elasticnet</td>\n",
       "      <td>nationality</td>\n",
       "      <td>drop-non-german</td>\n",
       "      <td>0.689312</td>\n",
       "      <td>0.909754</td>\n",
       "      <td>1.136663</td>\n",
       "    </tr>\n",
       "  </tbody>\n",
       "</table>\n",
       "</div>"
      ],
      "text/plain": [
       "                        universe_id universe_training_year  \\\n",
       "0  2be3e277838ba440bc4352c92e002947                   2014   \n",
       "\n",
       "  universe_training_size universe_scale universe_model  \\\n",
       "0                     5k          scale     elasticnet   \n",
       "\n",
       "  universe_exclude_features universe_exclude_subgroups     q_hat  coverage  \\\n",
       "0               nationality            drop-non-german  0.689312  0.909754   \n",
       "\n",
       "   avg_size  \n",
       "0  1.136663  "
      ]
     },
     "execution_count": 50,
     "metadata": {},
     "output_type": "execute_result"
    }
   ],
   "source": [
    "cp_metrics_df"
   ]
  },
  {
   "cell_type": "code",
   "execution_count": 51,
   "id": "b7fbde55-a0a1-47e4-9af6-fe4a17fa8c61",
   "metadata": {
    "execution": {
     "iopub.execute_input": "2025-08-05T15:26:36.701143Z",
     "iopub.status.busy": "2025-08-05T15:26:36.700611Z",
     "iopub.status.idle": "2025-08-05T15:26:36.706700Z",
     "shell.execute_reply": "2025-08-05T15:26:36.704862Z"
    },
    "papermill": {
     "duration": 0.03378,
     "end_time": "2025-08-05T15:26:36.709183",
     "exception": false,
     "start_time": "2025-08-05T15:26:36.675403",
     "status": "completed"
    },
    "tags": []
   },
   "outputs": [],
   "source": [
    "# Conditional Coverage & looking at subgroups"
   ]
  },
  {
   "cell_type": "code",
   "execution_count": 52,
   "id": "027ae886-68dd-4141-96c7-805a5450e1ef",
   "metadata": {
    "execution": {
     "iopub.execute_input": "2025-08-05T15:26:36.757243Z",
     "iopub.status.busy": "2025-08-05T15:26:36.756416Z",
     "iopub.status.idle": "2025-08-05T15:26:37.037421Z",
     "shell.execute_reply": "2025-08-05T15:26:37.036421Z"
    },
    "papermill": {
     "duration": 0.306409,
     "end_time": "2025-08-05T15:26:37.039324",
     "exception": false,
     "start_time": "2025-08-05T15:26:36.732915",
     "status": "completed"
    },
    "tags": []
   },
   "outputs": [],
   "source": [
    "from fairness_multiverse.conformal import build_cp_groups\n",
    "\n",
    "cp_groups_df = build_cp_groups(pred_sets, y_true, X_test.index, org_test)\n",
    "#needs universe_id and setting"
   ]
  },
  {
   "cell_type": "code",
   "execution_count": 53,
   "id": "6cbdab96-b2b2-45af-ad54-d0516db2e28d",
   "metadata": {
    "execution": {
     "iopub.execute_input": "2025-08-05T15:26:37.087215Z",
     "iopub.status.busy": "2025-08-05T15:26:37.086642Z",
     "iopub.status.idle": "2025-08-05T15:26:38.773677Z",
     "shell.execute_reply": "2025-08-05T15:26:38.772560Z"
    },
    "papermill": {
     "duration": 1.713411,
     "end_time": "2025-08-05T15:26:38.775610",
     "exception": false,
     "start_time": "2025-08-05T15:26:37.062199",
     "status": "completed"
    },
    "tags": []
   },
   "outputs": [],
   "source": [
    "# Define covered = 1 if true_label is in the predicted set\n",
    "cp_groups_df['covered'] = cp_groups_df.apply(\n",
    "    lambda r: int(r['true_label'] in r['pred_set']),\n",
    "    axis=1\n",
    ")"
   ]
  },
  {
   "cell_type": "code",
   "execution_count": 54,
   "id": "338ff529-1a6b-4b87-a931-8e4788d52aad",
   "metadata": {
    "execution": {
     "iopub.execute_input": "2025-08-05T15:26:38.822677Z",
     "iopub.status.busy": "2025-08-05T15:26:38.822007Z",
     "iopub.status.idle": "2025-08-05T15:26:38.827990Z",
     "shell.execute_reply": "2025-08-05T15:26:38.826807Z"
    },
    "papermill": {
     "duration": 0.031705,
     "end_time": "2025-08-05T15:26:38.830097",
     "exception": false,
     "start_time": "2025-08-05T15:26:38.798392",
     "status": "completed"
    },
    "tags": []
   },
   "outputs": [],
   "source": [
    "#cp_groups_df"
   ]
  },
  {
   "cell_type": "code",
   "execution_count": 55,
   "id": "90032e27-66df-4540-9169-4e89cfbaa758",
   "metadata": {
    "execution": {
     "iopub.execute_input": "2025-08-05T15:26:38.878405Z",
     "iopub.status.busy": "2025-08-05T15:26:38.877715Z",
     "iopub.status.idle": "2025-08-05T15:26:38.890130Z",
     "shell.execute_reply": "2025-08-05T15:26:38.888961Z"
    },
    "papermill": {
     "duration": 0.038559,
     "end_time": "2025-08-05T15:26:38.892285",
     "exception": false,
     "start_time": "2025-08-05T15:26:38.853726",
     "status": "completed"
    },
    "tags": []
   },
   "outputs": [],
   "source": [
    "subgroups = ['frau1','nongerman','nongerman_male','nongerman_female']\n",
    "\n",
    "# Conditional coverage for subgroup==1\n",
    "cond_coverage = {\n",
    "    g: cp_groups_df.loc[cp_groups_df[g]==1, 'covered'].mean()\n",
    "    for g in subgroups\n",
    "}"
   ]
  },
  {
   "cell_type": "code",
   "execution_count": 56,
   "id": "1e348fb1-b9c3-45bc-ba23-f016827a7e0d",
   "metadata": {
    "execution": {
     "iopub.execute_input": "2025-08-05T15:26:38.948717Z",
     "iopub.status.busy": "2025-08-05T15:26:38.947964Z",
     "iopub.status.idle": "2025-08-05T15:26:38.956576Z",
     "shell.execute_reply": "2025-08-05T15:26:38.955416Z"
    },
    "papermill": {
     "duration": 0.039098,
     "end_time": "2025-08-05T15:26:38.958603",
     "exception": false,
     "start_time": "2025-08-05T15:26:38.919505",
     "status": "completed"
    },
    "tags": []
   },
   "outputs": [
    {
     "data": {
      "text/plain": [
       "{'frau1': 0.9065911847957946,\n",
       " 'nongerman': 0.9079324089148375,\n",
       " 'nongerman_male': 0.927136809871206,\n",
       " 'nongerman_female': 0.8761549925484352}"
      ]
     },
     "execution_count": 56,
     "metadata": {},
     "output_type": "execute_result"
    }
   ],
   "source": [
    "cond_coverage"
   ]
  },
  {
   "cell_type": "code",
   "execution_count": 57,
   "id": "f5093324-c3dd-4d63-bc4c-8d945e5c8bbb",
   "metadata": {
    "execution": {
     "iopub.execute_input": "2025-08-05T15:26:39.013720Z",
     "iopub.status.busy": "2025-08-05T15:26:39.013133Z",
     "iopub.status.idle": "2025-08-05T15:26:39.022401Z",
     "shell.execute_reply": "2025-08-05T15:26:39.021151Z"
    },
    "papermill": {
     "duration": 0.041257,
     "end_time": "2025-08-05T15:26:39.024431",
     "exception": false,
     "start_time": "2025-08-05T15:26:38.983174",
     "status": "completed"
    },
    "tags": []
   },
   "outputs": [],
   "source": [
    "for subgroup, cov in cond_coverage.items():\n",
    "    cp_metrics_df[f\"cov_{subgroup}\"] = cov"
   ]
  },
  {
   "cell_type": "code",
   "execution_count": 58,
   "id": "6e872e10-dbe5-49e8-b554-5030c98ff75d",
   "metadata": {
    "execution": {
     "iopub.execute_input": "2025-08-05T15:26:39.080617Z",
     "iopub.status.busy": "2025-08-05T15:26:39.079681Z",
     "iopub.status.idle": "2025-08-05T15:26:39.097416Z",
     "shell.execute_reply": "2025-08-05T15:26:39.096489Z"
    },
    "papermill": {
     "duration": 0.055925,
     "end_time": "2025-08-05T15:26:39.104983",
     "exception": false,
     "start_time": "2025-08-05T15:26:39.049058",
     "status": "completed"
    },
    "tags": []
   },
   "outputs": [
    {
     "data": {
      "text/html": [
       "<div>\n",
       "<style scoped>\n",
       "    .dataframe tbody tr th:only-of-type {\n",
       "        vertical-align: middle;\n",
       "    }\n",
       "\n",
       "    .dataframe tbody tr th {\n",
       "        vertical-align: top;\n",
       "    }\n",
       "\n",
       "    .dataframe thead th {\n",
       "        text-align: right;\n",
       "    }\n",
       "</style>\n",
       "<table border=\"1\" class=\"dataframe\">\n",
       "  <thead>\n",
       "    <tr style=\"text-align: right;\">\n",
       "      <th></th>\n",
       "      <th>universe_id</th>\n",
       "      <th>universe_training_year</th>\n",
       "      <th>universe_training_size</th>\n",
       "      <th>universe_scale</th>\n",
       "      <th>universe_model</th>\n",
       "      <th>universe_exclude_features</th>\n",
       "      <th>universe_exclude_subgroups</th>\n",
       "      <th>q_hat</th>\n",
       "      <th>coverage</th>\n",
       "      <th>avg_size</th>\n",
       "      <th>cov_frau1</th>\n",
       "      <th>cov_nongerman</th>\n",
       "      <th>cov_nongerman_male</th>\n",
       "      <th>cov_nongerman_female</th>\n",
       "    </tr>\n",
       "  </thead>\n",
       "  <tbody>\n",
       "    <tr>\n",
       "      <th>0</th>\n",
       "      <td>2be3e277838ba440bc4352c92e002947</td>\n",
       "      <td>2014</td>\n",
       "      <td>5k</td>\n",
       "      <td>scale</td>\n",
       "      <td>elasticnet</td>\n",
       "      <td>nationality</td>\n",
       "      <td>drop-non-german</td>\n",
       "      <td>0.689312</td>\n",
       "      <td>0.909754</td>\n",
       "      <td>1.136663</td>\n",
       "      <td>0.906591</td>\n",
       "      <td>0.907932</td>\n",
       "      <td>0.927137</td>\n",
       "      <td>0.876155</td>\n",
       "    </tr>\n",
       "  </tbody>\n",
       "</table>\n",
       "</div>"
      ],
      "text/plain": [
       "                        universe_id universe_training_year  \\\n",
       "0  2be3e277838ba440bc4352c92e002947                   2014   \n",
       "\n",
       "  universe_training_size universe_scale universe_model  \\\n",
       "0                     5k          scale     elasticnet   \n",
       "\n",
       "  universe_exclude_features universe_exclude_subgroups     q_hat  coverage  \\\n",
       "0               nationality            drop-non-german  0.689312  0.909754   \n",
       "\n",
       "   avg_size  cov_frau1  cov_nongerman  cov_nongerman_male  \\\n",
       "0  1.136663   0.906591       0.907932            0.927137   \n",
       "\n",
       "   cov_nongerman_female  \n",
       "0              0.876155  "
      ]
     },
     "execution_count": 58,
     "metadata": {},
     "output_type": "execute_result"
    }
   ],
   "source": [
    "cp_metrics_df"
   ]
  },
  {
   "cell_type": "markdown",
   "id": "33774451",
   "metadata": {
    "papermill": {
     "duration": 0.012139,
     "end_time": "2025-08-05T15:26:39.176798",
     "exception": false,
     "start_time": "2025-08-05T15:26:39.164659",
     "status": "completed"
    },
    "tags": []
   },
   "source": [
    "# (Fairness) Metrics"
   ]
  },
  {
   "cell_type": "code",
   "execution_count": 59,
   "id": "debc5d62",
   "metadata": {
    "execution": {
     "iopub.execute_input": "2025-08-05T15:26:39.202645Z",
     "iopub.status.busy": "2025-08-05T15:26:39.202121Z",
     "iopub.status.idle": "2025-08-05T15:26:39.217118Z",
     "shell.execute_reply": "2025-08-05T15:26:39.216313Z"
    },
    "papermill": {
     "duration": 0.029727,
     "end_time": "2025-08-05T15:26:39.218708",
     "exception": false,
     "start_time": "2025-08-05T15:26:39.188981",
     "status": "completed"
    },
    "tags": []
   },
   "outputs": [],
   "source": [
    "# do I need to include maxdeutsch1.missing?\n",
    "\n",
    "import numpy as np\n",
    "\n",
    "colname_to_bin = \"maxdeutsch1\"\n",
    "majority_value = org_train[colname_to_bin].mode()[0]\n",
    "\n",
    "org_test[\"majmin\"] = np.where(org_test[colname_to_bin] == majority_value, \"majority\", \"minority\")"
   ]
  },
  {
   "cell_type": "code",
   "execution_count": 60,
   "id": "06a50de5",
   "metadata": {
    "execution": {
     "iopub.execute_input": "2025-08-05T15:26:39.245004Z",
     "iopub.status.busy": "2025-08-05T15:26:39.244438Z",
     "iopub.status.idle": "2025-08-05T15:26:41.078481Z",
     "shell.execute_reply": "2025-08-05T15:26:41.077290Z"
    },
    "papermill": {
     "duration": 1.849288,
     "end_time": "2025-08-05T15:26:41.080605",
     "exception": false,
     "start_time": "2025-08-05T15:26:39.231317",
     "status": "completed"
    },
    "tags": []
   },
   "outputs": [],
   "source": [
    "example_universe = universe.copy()\n",
    "example_universe[\"cutoff\"] = example_universe[\"cutoff\"][0]\n",
    "example_universe[\"eval_fairness_grouping\"] = example_universe[\"eval_fairness_grouping\"][0]\n",
    "fairness_dict, metric_frame = universe_analysis.compute_metrics(\n",
    "    example_universe,\n",
    "    y_pred_prob=probs_test,\n",
    "    y_test=y_true,\n",
    "    org_test=org_test,\n",
    ")"
   ]
  },
  {
   "cell_type": "markdown",
   "id": "f95d4e02",
   "metadata": {
    "papermill": {
     "duration": 0.024442,
     "end_time": "2025-08-05T15:26:41.131319",
     "exception": false,
     "start_time": "2025-08-05T15:26:41.106877",
     "status": "completed"
    },
    "tags": []
   },
   "source": [
    "# Overall"
   ]
  },
  {
   "cell_type": "markdown",
   "id": "bdee4871",
   "metadata": {
    "papermill": {
     "duration": 0.011367,
     "end_time": "2025-08-05T15:26:41.156617",
     "exception": false,
     "start_time": "2025-08-05T15:26:41.145250",
     "status": "completed"
    },
    "tags": []
   },
   "source": [
    "Fairness\n",
    "Main fairness target: Equalized Odds. Seems to be a better fit than equal opportunity, since we're not only interested in Y = 1. Seems to be a better fit than demographic parity, since we also care about accuracy, not just equal distribution of preds.\n",
    "\n",
    "Pick column for computation of fairness metrics\n",
    "\n",
    "Performance\n",
    "Overall performance measures, most interesting in relation to the measures split by group below"
   ]
  },
  {
   "cell_type": "code",
   "execution_count": 61,
   "id": "c4e067c6",
   "metadata": {
    "execution": {
     "iopub.execute_input": "2025-08-05T15:26:41.190393Z",
     "iopub.status.busy": "2025-08-05T15:26:41.189375Z",
     "iopub.status.idle": "2025-08-05T15:26:41.198728Z",
     "shell.execute_reply": "2025-08-05T15:26:41.197399Z"
    },
    "papermill": {
     "duration": 0.032841,
     "end_time": "2025-08-05T15:26:41.200729",
     "exception": false,
     "start_time": "2025-08-05T15:26:41.167888",
     "status": "completed"
    },
    "tags": []
   },
   "outputs": [
    {
     "data": {
      "text/plain": [
       "accuracy                   0.223754\n",
       "balanced accuracy          0.547240\n",
       "f1                         0.245103\n",
       "precision                  0.140019\n",
       "false positive rate        0.887880\n",
       "false negative rate        0.017640\n",
       "selection rate             0.900000\n",
       "count                  89710.000000\n",
       "dtype: float64"
      ]
     },
     "execution_count": 61,
     "metadata": {},
     "output_type": "execute_result"
    }
   ],
   "source": [
    "metric_frame.overall"
   ]
  },
  {
   "cell_type": "markdown",
   "id": "e968fe9d",
   "metadata": {
    "papermill": {
     "duration": 0.013614,
     "end_time": "2025-08-05T15:26:41.237809",
     "exception": false,
     "start_time": "2025-08-05T15:26:41.224195",
     "status": "completed"
    },
    "tags": []
   },
   "source": [
    "By Group"
   ]
  },
  {
   "cell_type": "code",
   "execution_count": 62,
   "id": "ec325bce",
   "metadata": {
    "execution": {
     "iopub.execute_input": "2025-08-05T15:26:41.264277Z",
     "iopub.status.busy": "2025-08-05T15:26:41.263914Z",
     "iopub.status.idle": "2025-08-05T15:26:41.277401Z",
     "shell.execute_reply": "2025-08-05T15:26:41.276349Z"
    },
    "papermill": {
     "duration": 0.02899,
     "end_time": "2025-08-05T15:26:41.279150",
     "exception": false,
     "start_time": "2025-08-05T15:26:41.250160",
     "status": "completed"
    },
    "tags": []
   },
   "outputs": [
    {
     "data": {
      "text/html": [
       "<div>\n",
       "<style scoped>\n",
       "    .dataframe tbody tr th:only-of-type {\n",
       "        vertical-align: middle;\n",
       "    }\n",
       "\n",
       "    .dataframe tbody tr th {\n",
       "        vertical-align: top;\n",
       "    }\n",
       "\n",
       "    .dataframe thead th {\n",
       "        text-align: right;\n",
       "    }\n",
       "</style>\n",
       "<table border=\"1\" class=\"dataframe\">\n",
       "  <thead>\n",
       "    <tr style=\"text-align: right;\">\n",
       "      <th></th>\n",
       "      <th>accuracy</th>\n",
       "      <th>balanced accuracy</th>\n",
       "      <th>f1</th>\n",
       "      <th>precision</th>\n",
       "      <th>false positive rate</th>\n",
       "      <th>false negative rate</th>\n",
       "      <th>selection rate</th>\n",
       "      <th>count</th>\n",
       "    </tr>\n",
       "    <tr>\n",
       "      <th>majmin</th>\n",
       "      <th></th>\n",
       "      <th></th>\n",
       "      <th></th>\n",
       "      <th></th>\n",
       "      <th></th>\n",
       "      <th></th>\n",
       "      <th></th>\n",
       "      <th></th>\n",
       "    </tr>\n",
       "  </thead>\n",
       "  <tbody>\n",
       "    <tr>\n",
       "      <th>majority</th>\n",
       "      <td>0.236504</td>\n",
       "      <td>0.553218</td>\n",
       "      <td>0.254008</td>\n",
       "      <td>0.145832</td>\n",
       "      <td>0.877261</td>\n",
       "      <td>0.016302</td>\n",
       "      <td>0.891326</td>\n",
       "      <td>69170.0</td>\n",
       "    </tr>\n",
       "    <tr>\n",
       "      <th>minority</th>\n",
       "      <td>0.180818</td>\n",
       "      <td>0.527119</td>\n",
       "      <td>0.215717</td>\n",
       "      <td>0.121241</td>\n",
       "      <td>0.922958</td>\n",
       "      <td>0.022804</td>\n",
       "      <td>0.929211</td>\n",
       "      <td>20540.0</td>\n",
       "    </tr>\n",
       "  </tbody>\n",
       "</table>\n",
       "</div>"
      ],
      "text/plain": [
       "          accuracy  balanced accuracy        f1  precision  \\\n",
       "majmin                                                       \n",
       "majority  0.236504           0.553218  0.254008   0.145832   \n",
       "minority  0.180818           0.527119  0.215717   0.121241   \n",
       "\n",
       "          false positive rate  false negative rate  selection rate    count  \n",
       "majmin                                                                       \n",
       "majority             0.877261             0.016302        0.891326  69170.0  \n",
       "minority             0.922958             0.022804        0.929211  20540.0  "
      ]
     },
     "execution_count": 62,
     "metadata": {},
     "output_type": "execute_result"
    }
   ],
   "source": [
    "metric_frame.by_group"
   ]
  },
  {
   "cell_type": "code",
   "execution_count": 63,
   "id": "a9ddbe63",
   "metadata": {
    "execution": {
     "iopub.execute_input": "2025-08-05T15:26:41.306713Z",
     "iopub.status.busy": "2025-08-05T15:26:41.306181Z",
     "iopub.status.idle": "2025-08-05T15:26:43.662163Z",
     "shell.execute_reply": "2025-08-05T15:26:43.661298Z"
    },
    "papermill": {
     "duration": 2.370991,
     "end_time": "2025-08-05T15:26:43.663616",
     "exception": false,
     "start_time": "2025-08-05T15:26:41.292625",
     "status": "completed"
    },
    "tags": []
   },
   "outputs": [
    {
     "data": {
      "text/plain": [
       "array([[<Axes: title={'center': 'accuracy'}, xlabel='majmin'>,\n",
       "        <Axes: title={'center': 'balanced accuracy'}, xlabel='majmin'>,\n",
       "        <Axes: title={'center': 'f1'}, xlabel='majmin'>],\n",
       "       [<Axes: title={'center': 'precision'}, xlabel='majmin'>,\n",
       "        <Axes: title={'center': 'false positive rate'}, xlabel='majmin'>,\n",
       "        <Axes: title={'center': 'false negative rate'}, xlabel='majmin'>],\n",
       "       [<Axes: title={'center': 'selection rate'}, xlabel='majmin'>,\n",
       "        <Axes: title={'center': 'count'}, xlabel='majmin'>,\n",
       "        <Axes: xlabel='majmin'>]], dtype=object)"
      ]
     },
     "execution_count": 63,
     "metadata": {},
     "output_type": "execute_result"
    },
    {
     "data": {
      "image/png": "[encoded data removed]",
      "text/plain": [
       "<Figure size 1200x800 with 9 Axes>"
      ]
     },
     "metadata": {},
     "output_type": "display_data"
    }
   ],
   "source": [
    "# In a graphic\n",
    "metric_frame.by_group.plot.bar(\n",
    "    subplots=True,\n",
    "    layout=[3, 3],\n",
    "    legend=False,\n",
    "    figsize=[12, 8],\n",
    "    title=\"Show all metrics\",\n",
    ")"
   ]
  },
  {
   "cell_type": "markdown",
   "id": "f57a0bac",
   "metadata": {
    "papermill": {
     "duration": 0.012508,
     "end_time": "2025-08-05T15:26:43.689428",
     "exception": false,
     "start_time": "2025-08-05T15:26:43.676920",
     "status": "completed"
    },
    "tags": []
   },
   "source": [
    "# Final Output"
   ]
  },
  {
   "cell_type": "code",
   "execution_count": 64,
   "id": "96d280a3",
   "metadata": {
    "execution": {
     "iopub.execute_input": "2025-08-05T15:26:43.715996Z",
     "iopub.status.busy": "2025-08-05T15:26:43.715589Z",
     "iopub.status.idle": "2025-08-05T15:26:43.723249Z",
     "shell.execute_reply": "2025-08-05T15:26:43.722403Z"
    },
    "papermill": {
     "duration": 0.022505,
     "end_time": "2025-08-05T15:26:43.724491",
     "exception": false,
     "start_time": "2025-08-05T15:26:43.701986",
     "status": "completed"
    },
    "tags": []
   },
   "outputs": [
    {
     "data": {
      "text/plain": [
       "4"
      ]
     },
     "execution_count": 64,
     "metadata": {},
     "output_type": "execute_result"
    }
   ],
   "source": [
    "sub_universes = universe_analysis.generate_sub_universes()\n",
    "len(sub_universes)"
   ]
  },
  {
   "cell_type": "code",
   "execution_count": 65,
   "id": "92adf7ba",
   "metadata": {
    "execution": {
     "iopub.execute_input": "2025-08-05T15:26:43.751371Z",
     "iopub.status.busy": "2025-08-05T15:26:43.751149Z",
     "iopub.status.idle": "2025-08-05T15:26:43.774197Z",
     "shell.execute_reply": "2025-08-05T15:26:43.773318Z"
    },
    "papermill": {
     "duration": 0.038266,
     "end_time": "2025-08-05T15:26:43.775745",
     "exception": false,
     "start_time": "2025-08-05T15:26:43.737479",
     "status": "completed"
    },
    "tags": []
   },
   "outputs": [],
   "source": [
    "def filter_sub_universe_data(sub_universe, org_test):\n",
    "    # Keep all rows — no filtering\n",
    "    keep_rows_mask = np.ones(org_test.shape[0], dtype=bool)\n",
    "\n",
    "    print(f\"[INFO] Keeping all rows: {keep_rows_mask.sum()} rows retained.\")\n",
    "    return keep_rows_mask"
   ]
  },
  {
   "cell_type": "code",
   "execution_count": 66,
   "id": "4a759155",
   "metadata": {
    "execution": {
     "iopub.execute_input": "2025-08-05T15:26:43.803969Z",
     "iopub.status.busy": "2025-08-05T15:26:43.803467Z",
     "iopub.status.idle": "2025-08-05T15:26:52.201278Z",
     "shell.execute_reply": "2025-08-05T15:26:52.200507Z"
    },
    "papermill": {
     "duration": 8.412627,
     "end_time": "2025-08-05T15:26:52.202649",
     "exception": false,
     "start_time": "2025-08-05T15:26:43.790022",
     "status": "completed"
    },
    "tags": []
   },
   "outputs": [
    {
     "name": "stdout",
     "output_type": "stream",
     "text": [
      "Stopping execution_time clock.\n",
      "[INFO] Keeping all rows: 89710 rows retained.\n"
     ]
    },
    {
     "name": "stdout",
     "output_type": "stream",
     "text": [
      "[INFO] Keeping all rows: 89710 rows retained.\n"
     ]
    },
    {
     "name": "stdout",
     "output_type": "stream",
     "text": [
      "[INFO] Keeping all rows: 89710 rows retained.\n"
     ]
    },
    {
     "name": "stdout",
     "output_type": "stream",
     "text": [
      "[INFO] Keeping all rows: 89710 rows retained.\n"
     ]
    },
    {
     "data": {
      "text/html": [
       "<div>\n",
       "<style scoped>\n",
       "    .dataframe tbody tr th:only-of-type {\n",
       "        vertical-align: middle;\n",
       "    }\n",
       "\n",
       "    .dataframe tbody tr th {\n",
       "        vertical-align: top;\n",
       "    }\n",
       "\n",
       "    .dataframe thead th {\n",
       "        text-align: right;\n",
       "    }\n",
       "</style>\n",
       "<table border=\"1\" class=\"dataframe\">\n",
       "  <thead>\n",
       "    <tr style=\"text-align: right;\">\n",
       "      <th></th>\n",
       "      <th>run_no</th>\n",
       "      <th>universe_id</th>\n",
       "      <th>universe_settings</th>\n",
       "      <th>execution_time</th>\n",
       "      <th>test_size_n</th>\n",
       "      <th>test_size_frac</th>\n",
       "      <th>fair_main_equalized_odds_difference</th>\n",
       "      <th>fair_main_equalized_odds_ratio</th>\n",
       "      <th>fair_main_demographic_parity_difference</th>\n",
       "      <th>fair_main_demographic_parity_ratio</th>\n",
       "      <th>...</th>\n",
       "      <th>perf_grp_precision_0</th>\n",
       "      <th>perf_grp_precision_1</th>\n",
       "      <th>perf_grp_false positive rate_0</th>\n",
       "      <th>perf_grp_false positive rate_1</th>\n",
       "      <th>perf_grp_false negative rate_0</th>\n",
       "      <th>perf_grp_false negative rate_1</th>\n",
       "      <th>perf_grp_selection rate_0</th>\n",
       "      <th>perf_grp_selection rate_1</th>\n",
       "      <th>perf_grp_count_0</th>\n",
       "      <th>perf_grp_count_1</th>\n",
       "    </tr>\n",
       "  </thead>\n",
       "  <tbody>\n",
       "    <tr>\n",
       "      <th>0</th>\n",
       "      <td>15</td>\n",
       "      <td>2be3e277838ba440bc4352c92e002947</td>\n",
       "      <td>{\"cutoff\": \"quantile_0.1\", \"eval_fairness_grou...</td>\n",
       "      <td>24.512107</td>\n",
       "      <td>89710</td>\n",
       "      <td>1.0</td>\n",
       "      <td>0.045697</td>\n",
       "      <td>0.950489</td>\n",
       "      <td>0.037886</td>\n",
       "      <td>0.959228</td>\n",
       "      <td>...</td>\n",
       "      <td>NaN</td>\n",
       "      <td>NaN</td>\n",
       "      <td>NaN</td>\n",
       "      <td>NaN</td>\n",
       "      <td>NaN</td>\n",
       "      <td>NaN</td>\n",
       "      <td>NaN</td>\n",
       "      <td>NaN</td>\n",
       "      <td>NaN</td>\n",
       "      <td>NaN</td>\n",
       "    </tr>\n",
       "    <tr>\n",
       "      <th>0</th>\n",
       "      <td>15</td>\n",
       "      <td>2be3e277838ba440bc4352c92e002947</td>\n",
       "      <td>{\"cutoff\": \"quantile_0.1\", \"eval_fairness_grou...</td>\n",
       "      <td>24.512107</td>\n",
       "      <td>89710</td>\n",
       "      <td>1.0</td>\n",
       "      <td>0.045697</td>\n",
       "      <td>0.950489</td>\n",
       "      <td>0.037886</td>\n",
       "      <td>0.959228</td>\n",
       "      <td>...</td>\n",
       "      <td>0.121241</td>\n",
       "      <td>0.145832</td>\n",
       "      <td>0.922958</td>\n",
       "      <td>0.877261</td>\n",
       "      <td>0.022804</td>\n",
       "      <td>0.016302</td>\n",
       "      <td>0.929211</td>\n",
       "      <td>0.891326</td>\n",
       "      <td>20540.0</td>\n",
       "      <td>69170.0</td>\n",
       "    </tr>\n",
       "    <tr>\n",
       "      <th>0</th>\n",
       "      <td>15</td>\n",
       "      <td>2be3e277838ba440bc4352c92e002947</td>\n",
       "      <td>{\"cutoff\": \"quantile_0.25\", \"eval_fairness_gro...</td>\n",
       "      <td>24.512107</td>\n",
       "      <td>89710</td>\n",
       "      <td>1.0</td>\n",
       "      <td>0.112758</td>\n",
       "      <td>0.860809</td>\n",
       "      <td>0.094469</td>\n",
       "      <td>0.885191</td>\n",
       "      <td>...</td>\n",
       "      <td>NaN</td>\n",
       "      <td>NaN</td>\n",
       "      <td>NaN</td>\n",
       "      <td>NaN</td>\n",
       "      <td>NaN</td>\n",
       "      <td>NaN</td>\n",
       "      <td>NaN</td>\n",
       "      <td>NaN</td>\n",
       "      <td>NaN</td>\n",
       "      <td>NaN</td>\n",
       "    </tr>\n",
       "    <tr>\n",
       "      <th>0</th>\n",
       "      <td>15</td>\n",
       "      <td>2be3e277838ba440bc4352c92e002947</td>\n",
       "      <td>{\"cutoff\": \"quantile_0.25\", \"eval_fairness_gro...</td>\n",
       "      <td>24.512107</td>\n",
       "      <td>89710</td>\n",
       "      <td>1.0</td>\n",
       "      <td>0.112758</td>\n",
       "      <td>0.860809</td>\n",
       "      <td>0.094469</td>\n",
       "      <td>0.885191</td>\n",
       "      <td>...</td>\n",
       "      <td>0.128986</td>\n",
       "      <td>0.169111</td>\n",
       "      <td>0.810092</td>\n",
       "      <td>0.697335</td>\n",
       "      <td>0.079392</td>\n",
       "      <td>0.067834</td>\n",
       "      <td>0.822833</td>\n",
       "      <td>0.728365</td>\n",
       "      <td>20540.0</td>\n",
       "      <td>69170.0</td>\n",
       "    </tr>\n",
       "  </tbody>\n",
       "</table>\n",
       "<p>4 rows × 50 columns</p>\n",
       "</div>"
      ],
      "text/plain": [
       "  run_no                       universe_id  \\\n",
       "0     15  2be3e277838ba440bc4352c92e002947   \n",
       "0     15  2be3e277838ba440bc4352c92e002947   \n",
       "0     15  2be3e277838ba440bc4352c92e002947   \n",
       "0     15  2be3e277838ba440bc4352c92e002947   \n",
       "\n",
       "                                   universe_settings  execution_time  \\\n",
       "0  {\"cutoff\": \"quantile_0.1\", \"eval_fairness_grou...       24.512107   \n",
       "0  {\"cutoff\": \"quantile_0.1\", \"eval_fairness_grou...       24.512107   \n",
       "0  {\"cutoff\": \"quantile_0.25\", \"eval_fairness_gro...       24.512107   \n",
       "0  {\"cutoff\": \"quantile_0.25\", \"eval_fairness_gro...       24.512107   \n",
       "\n",
       "   test_size_n  test_size_frac  fair_main_equalized_odds_difference  \\\n",
       "0        89710             1.0                             0.045697   \n",
       "0        89710             1.0                             0.045697   \n",
       "0        89710             1.0                             0.112758   \n",
       "0        89710             1.0                             0.112758   \n",
       "\n",
       "   fair_main_equalized_odds_ratio  fair_main_demographic_parity_difference  \\\n",
       "0                        0.950489                                 0.037886   \n",
       "0                        0.950489                                 0.037886   \n",
       "0                        0.860809                                 0.094469   \n",
       "0                        0.860809                                 0.094469   \n",
       "\n",
       "   fair_main_demographic_parity_ratio  ...  perf_grp_precision_0  \\\n",
       "0                            0.959228  ...                   NaN   \n",
       "0                            0.959228  ...              0.121241   \n",
       "0                            0.885191  ...                   NaN   \n",
       "0                            0.885191  ...              0.128986   \n",
       "\n",
       "   perf_grp_precision_1  perf_grp_false positive rate_0  \\\n",
       "0                   NaN                             NaN   \n",
       "0              0.145832                        0.922958   \n",
       "0                   NaN                             NaN   \n",
       "0              0.169111                        0.810092   \n",
       "\n",
       "   perf_grp_false positive rate_1  perf_grp_false negative rate_0  \\\n",
       "0                             NaN                             NaN   \n",
       "0                        0.877261                        0.022804   \n",
       "0                             NaN                             NaN   \n",
       "0                        0.697335                        0.079392   \n",
       "\n",
       "   perf_grp_false negative rate_1  perf_grp_selection rate_0  \\\n",
       "0                             NaN                        NaN   \n",
       "0                        0.016302                   0.929211   \n",
       "0                             NaN                        NaN   \n",
       "0                        0.067834                   0.822833   \n",
       "\n",
       "   perf_grp_selection rate_1  perf_grp_count_0  perf_grp_count_1  \n",
       "0                        NaN               NaN               NaN  \n",
       "0                   0.891326           20540.0           69170.0  \n",
       "0                        NaN               NaN               NaN  \n",
       "0                   0.728365           20540.0           69170.0  \n",
       "\n",
       "[4 rows x 50 columns]"
      ]
     },
     "execution_count": 66,
     "metadata": {},
     "output_type": "execute_result"
    }
   ],
   "source": [
    "final_output = universe_analysis.generate_final_output(\n",
    "    y_pred_prob=probs_test,\n",
    "    y_test=y_true,\n",
    "    org_test=org_test,\n",
    "    filter_data=filter_sub_universe_data,\n",
    "    cp_metrics_df=cp_metrics_df,\n",
    "    save=True,\n",
    ")\n",
    "final_output"
   ]
  }
 ],
 "metadata": {
  "celltoolbar": "Tags",
  "kernelspec": {
   "display_name": "Python (CMA Fairness)",
   "language": "python",
   "name": "cma_fair_env"
  },
  "language_info": {
   "codemirror_mode": {
    "name": "ipython",
    "version": 3
   },
   "file_extension": ".py",
   "mimetype": "text/x-python",
   "name": "python",
   "nbconvert_exporter": "python",
   "pygments_lexer": "ipython3",
   "version": "3.10.12"
  },
  "papermill": {
   "default_parameters": {},
   "duration": 36.868333,
   "end_time": "2025-08-05T15:26:52.836977",
   "environment_variables": {},
   "exception": null,
   "input_path": "universe_analysis.ipynb",
   "output_path": "output/runs/15/notebooks/m_15-2be3e277838ba440bc4352c92e002947.ipynb",
   "parameters": {
    "output_dir": "output",
    "run_no": "15",
    "seed": "2023",
    "universe": "{\"cutoff\": [\"quantile_0.1\", \"quantile_0.25\"], \"eval_fairness_grouping\": [\"majority-minority\", \"nationality-all\"], \"exclude_features\": \"nationality\", \"exclude_subgroups\": \"drop-non-german\", \"model\": \"elasticnet\", \"scale\": \"scale\", \"training_size\": \"5k\", \"training_year\": \"2014\"}",
    "universe_id": "2be3e277838ba440bc4352c92e002947"
   },
   "start_time": "2025-08-05T15:26:15.968644",
   "version": "2.6.0"
  }
 },
 "nbformat": 4,
 "nbformat_minor": 5
}