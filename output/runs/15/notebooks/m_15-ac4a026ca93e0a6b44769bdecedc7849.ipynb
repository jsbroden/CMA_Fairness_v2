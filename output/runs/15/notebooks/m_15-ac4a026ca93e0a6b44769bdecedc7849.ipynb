{
 "cells": [
  {
   "cell_type": "code",
   "execution_count": 1,
   "id": "f159f837-637b-42ba-96b5-ec9a68c44524",
   "metadata": {
    "execution": {
     "iopub.execute_input": "2025-08-05T14:31:39.211760Z",
     "iopub.status.busy": "2025-08-05T14:31:39.211398Z",
     "iopub.status.idle": "2025-08-05T14:31:39.220473Z",
     "shell.execute_reply": "2025-08-05T14:31:39.219583Z"
    },
    "papermill": {
     "duration": 0.022215,
     "end_time": "2025-08-05T14:31:39.221841",
     "exception": false,
     "start_time": "2025-08-05T14:31:39.199626",
     "status": "completed"
    },
    "tags": []
   },
   "outputs": [
    {
     "name": "stdout",
     "output_type": "stream",
     "text": [
      "/dss/dsshome1/0C/ra93lal2/cma/CMA_Fairness_v2\n"
     ]
    },
    {
     "name": "stderr",
     "output_type": "stream",
     "text": [
      "/dss/dsshome1/0C/ra93lal2/.local/share/virtualenvs/CMA_Fairness_v2-3j10GkSs/lib/python3.10/site-packages/IPython/core/magics/osm.py:393: UserWarning: This is now an optional IPython functionality, using bookmarks requires you to install the `pickleshare` library.\n",
      "  bkms = self.shell.db.get('bookmarks', {})\n",
      "/dss/dsshome1/0C/ra93lal2/.local/share/virtualenvs/CMA_Fairness_v2-3j10GkSs/lib/python3.10/site-packages/IPython/core/magics/osm.py:417: UserWarning: This is now an optional IPython functionality, setting dhist requires you to install the `pickleshare` library.\n",
      "  self.shell.db['dhist'] = compress_dhist(dhist)[-100:]\n"
     ]
    }
   ],
   "source": [
    "%cd ~/cma/CMA_Fairness_v2"
   ]
  },
  {
   "cell_type": "markdown",
   "id": "de2603b9",
   "metadata": {
    "papermill": {
     "duration": 0.013772,
     "end_time": "2025-08-05T14:31:39.246683",
     "exception": false,
     "start_time": "2025-08-05T14:31:39.232911",
     "status": "completed"
    },
    "tags": []
   },
   "source": [
    "The following cell holds the definition of our parameters, these values can be overriden by rendering the with e.g. the following command:\n",
    "\n",
    "papermill -p alpha 0.2 -p ratio 0.3 universe_analysis.ipynb output/test_run.ipynb"
   ]
  },
  {
   "cell_type": "code",
   "execution_count": 2,
   "id": "a80968a0-40bb-4fa9-85ef-2d5eefb01975",
   "metadata": {
    "execution": {
     "iopub.execute_input": "2025-08-05T14:31:39.297921Z",
     "iopub.status.busy": "2025-08-05T14:31:39.296914Z",
     "iopub.status.idle": "2025-08-05T14:31:39.302209Z",
     "shell.execute_reply": "2025-08-05T14:31:39.301286Z"
    },
    "papermill": {
     "duration": 0.034502,
     "end_time": "2025-08-05T14:31:39.303833",
     "exception": false,
     "start_time": "2025-08-05T14:31:39.269331",
     "status": "completed"
    },
    "tags": []
   },
   "outputs": [
    {
     "name": "stdout",
     "output_type": "stream",
     "text": [
      "Current working directory: /dss/dsshome1/0C/ra93lal2/cma/CMA_Fairness_v2\n"
     ]
    }
   ],
   "source": [
    "import os\n",
    "print(\"Current working directory:\", os.getcwd())"
   ]
  },
  {
   "cell_type": "code",
   "execution_count": 3,
   "id": "2dce4c03",
   "metadata": {
    "execution": {
     "iopub.execute_input": "2025-08-05T14:31:39.345893Z",
     "iopub.status.busy": "2025-08-05T14:31:39.345567Z",
     "iopub.status.idle": "2025-08-05T14:31:39.394003Z",
     "shell.execute_reply": "2025-08-05T14:31:39.392949Z"
    },
    "papermill": {
     "duration": 0.073628,
     "end_time": "2025-08-05T14:31:39.395898",
     "exception": false,
     "start_time": "2025-08-05T14:31:39.322270",
     "status": "completed"
    },
    "tags": [
     "parameters"
    ]
   },
   "outputs": [],
   "source": [
    "run_no = 0\n",
    "universe_id = \"test\"\n",
    "universe = {\n",
    "    \"training_size\": \"25k\", # \"25k\", \"5k\", \"1k\"\n",
    "    \"training_year\": \"2014\", # \"2014\", \"2012_14\", \"2010_14\"\n",
    "    \"scale\": \"scale\", # \"scale\", \"do-not-scale\",\n",
    "    #\"stratify_split\": \"target\", # \"none\", \"target\", \"protected-attribute\", \"both\",\n",
    "    \"model\": \"elasticnet\", # \"logreg\", \"penalized_logreg\", \"rf\", \"gbm\", \"elasticnet\"\n",
    "    \"cutoff\": [\"quantile_0.15\", \"quantile_0.30\"],\n",
    "    \"exclude_features\": \"age\", # \"none\", \"nationality\", \"sex\", \"nationality-sex\", \"age\"\n",
    "    \"exclude_subgroups\": \"keep-all\", # \"keep-all\", \"drop-non-german\"\n",
    "    \"eval_fairness_grouping\": [\"majority-minority\", \"nationality-all\"]\n",
    "}\n",
    "\n",
    "output_dir=\"./output\"\n",
    "seed=0"
   ]
  },
  {
   "cell_type": "code",
   "execution_count": 4,
   "id": "f17335d9",
   "metadata": {
    "execution": {
     "iopub.execute_input": "2025-08-05T14:31:39.431280Z",
     "iopub.status.busy": "2025-08-05T14:31:39.430800Z",
     "iopub.status.idle": "2025-08-05T14:31:39.434760Z",
     "shell.execute_reply": "2025-08-05T14:31:39.433944Z"
    },
    "papermill": {
     "duration": 0.017658,
     "end_time": "2025-08-05T14:31:39.436196",
     "exception": false,
     "start_time": "2025-08-05T14:31:39.418538",
     "status": "completed"
    },
    "tags": [
     "injected-parameters"
    ]
   },
   "outputs": [],
   "source": [
    "# Parameters\n",
    "universe_id = \"ac4a026ca93e0a6b44769bdecedc7849\"\n",
    "run_no = \"15\"\n",
    "universe = \"{\\\"cutoff\\\": [\\\"quantile_0.1\\\", \\\"quantile_0.25\\\"], \\\"eval_fairness_grouping\\\": [\\\"majority-minority\\\", \\\"nationality-all\\\"], \\\"exclude_features\\\": \\\"sex\\\", \\\"exclude_subgroups\\\": \\\"keep-all\\\", \\\"model\\\": \\\"logreg\\\", \\\"scale\\\": \\\"scale\\\", \\\"training_size\\\": \\\"25k\\\", \\\"training_year\\\": \\\"2014\\\"}\"\n",
    "output_dir = \"output\"\n",
    "seed = \"2023\"\n"
   ]
  },
  {
   "cell_type": "code",
   "execution_count": 5,
   "id": "1650acaf",
   "metadata": {
    "execution": {
     "iopub.execute_input": "2025-08-05T14:31:39.476451Z",
     "iopub.status.busy": "2025-08-05T14:31:39.476243Z",
     "iopub.status.idle": "2025-08-05T14:31:39.579461Z",
     "shell.execute_reply": "2025-08-05T14:31:39.578589Z"
    },
    "papermill": {
     "duration": 0.125526,
     "end_time": "2025-08-05T14:31:39.581192",
     "exception": false,
     "start_time": "2025-08-05T14:31:39.455666",
     "status": "completed"
    },
    "tags": []
   },
   "outputs": [],
   "source": [
    "import json\n",
    "# Parse universe into dict if it is passed as a string\n",
    "if isinstance(universe, str):\n",
    "    universe = json.loads(universe)"
   ]
  },
  {
   "cell_type": "code",
   "execution_count": 6,
   "id": "16620c48",
   "metadata": {
    "execution": {
     "iopub.execute_input": "2025-08-05T14:31:39.619626Z",
     "iopub.status.busy": "2025-08-05T14:31:39.619289Z",
     "iopub.status.idle": "2025-08-05T14:31:39.647633Z",
     "shell.execute_reply": "2025-08-05T14:31:39.646953Z"
    },
    "papermill": {
     "duration": 0.046847,
     "end_time": "2025-08-05T14:31:39.649163",
     "exception": false,
     "start_time": "2025-08-05T14:31:39.602316",
     "status": "completed"
    },
    "tags": []
   },
   "outputs": [],
   "source": [
    "# Auto-reload the custom package\n",
    "%load_ext autoreload\n",
    "%autoreload 1\n",
    "%aimport fairness_multiverse"
   ]
  },
  {
   "cell_type": "code",
   "execution_count": 7,
   "id": "01c5c9f3",
   "metadata": {
    "execution": {
     "iopub.execute_input": "2025-08-05T14:31:39.691267Z",
     "iopub.status.busy": "2025-08-05T14:31:39.690681Z",
     "iopub.status.idle": "2025-08-05T14:31:44.755658Z",
     "shell.execute_reply": "2025-08-05T14:31:44.754768Z"
    },
    "papermill": {
     "duration": 5.087161,
     "end_time": "2025-08-05T14:31:44.757320",
     "exception": false,
     "start_time": "2025-08-05T14:31:39.670159",
     "status": "completed"
    },
    "tags": []
   },
   "outputs": [],
   "source": [
    "from fairness_multiverse.universe import UniverseAnalysis\n",
    "\n",
    "universe_analysis = UniverseAnalysis(\n",
    "    run_no = run_no,\n",
    "    universe_id = universe_id,\n",
    "    universe = universe,\n",
    "    output_dir=output_dir,\n",
    ")"
   ]
  },
  {
   "cell_type": "code",
   "execution_count": 8,
   "id": "106241f5",
   "metadata": {
    "execution": {
     "iopub.execute_input": "2025-08-05T14:31:44.806484Z",
     "iopub.status.busy": "2025-08-05T14:31:44.805810Z",
     "iopub.status.idle": "2025-08-05T14:31:44.812227Z",
     "shell.execute_reply": "2025-08-05T14:31:44.811344Z"
    },
    "papermill": {
     "duration": 0.033571,
     "end_time": "2025-08-05T14:31:44.814039",
     "exception": false,
     "start_time": "2025-08-05T14:31:44.780468",
     "status": "completed"
    },
    "tags": []
   },
   "outputs": [
    {
     "name": "stdout",
     "output_type": "stream",
     "text": [
      "Using Seed: 2023\n"
     ]
    }
   ],
   "source": [
    "import numpy as np\n",
    "parsed_seed = int(seed)\n",
    "np.random.seed(parsed_seed)\n",
    "print(f\"Using Seed: {parsed_seed}\")"
   ]
  },
  {
   "cell_type": "markdown",
   "id": "e0ebdc57",
   "metadata": {
    "papermill": {
     "duration": 0.021996,
     "end_time": "2025-08-05T14:31:44.858906",
     "exception": false,
     "start_time": "2025-08-05T14:31:44.836910",
     "status": "completed"
    },
    "tags": []
   },
   "source": [
    "# Loading Data"
   ]
  },
  {
   "cell_type": "markdown",
   "id": "681925a3",
   "metadata": {
    "papermill": {
     "duration": 0.021983,
     "end_time": "2025-08-05T14:31:44.904066",
     "exception": false,
     "start_time": "2025-08-05T14:31:44.882083",
     "status": "completed"
    },
    "tags": []
   },
   "source": [
    "Load siab_train, siab_test, siab_calib and/or \n",
    "load siab_train_features, siab_train_labels"
   ]
  },
  {
   "cell_type": "code",
   "execution_count": 9,
   "id": "f0496b8a",
   "metadata": {
    "execution": {
     "iopub.execute_input": "2025-08-05T14:31:44.947033Z",
     "iopub.status.busy": "2025-08-05T14:31:44.946279Z",
     "iopub.status.idle": "2025-08-05T14:31:57.611118Z",
     "shell.execute_reply": "2025-08-05T14:31:57.609706Z"
    },
    "papermill": {
     "duration": 12.687558,
     "end_time": "2025-08-05T14:31:57.613015",
     "exception": false,
     "start_time": "2025-08-05T14:31:44.925457",
     "status": "completed"
    },
    "tags": []
   },
   "outputs": [
    {
     "name": "stdout",
     "output_type": "stream",
     "text": [
      "Loading SIAB data from cache: data/siab_cached.csv.gz\n"
     ]
    },
    {
     "name": "stdout",
     "output_type": "stream",
     "text": [
      "(643690, 164)\n"
     ]
    }
   ],
   "source": [
    "from pathlib import Path\n",
    "import pandas as pd\n",
    "\n",
    "# File paths\n",
    "raw_file = Path(\"data/raw/siab.csv\")\n",
    "cache_file = Path(\"data/siab_cached.csv.gz\")\n",
    "\n",
    "# Ensure cache directory exists\n",
    "cache_file.parent.mkdir(parents=True, exist_ok=True)\n",
    "\n",
    "# Load with simple caching\n",
    "if cache_file.exists():\n",
    "    print(f\"Loading SIAB data from cache: {cache_file}\")\n",
    "    siab = pd.read_csv(cache_file, compression='gzip')\n",
    "else:\n",
    "    print(f\"Cache not found. Reading raw SIAB data: {raw_file}\")\n",
    "    siab = pd.read_csv(raw_file)\n",
    "    siab.to_csv(cache_file, index=False, compression='gzip')\n",
    "    print(f\"Cached SIAB data to: {cache_file}\")\n",
    "\n",
    "# Now use `siab` DataFrame as needed\n",
    "print(siab.shape)"
   ]
  },
  {
   "cell_type": "code",
   "execution_count": 10,
   "id": "db0ca512-5f53-4dba-abdb-a2888bca41ba",
   "metadata": {
    "execution": {
     "iopub.execute_input": "2025-08-05T14:31:57.651911Z",
     "iopub.status.busy": "2025-08-05T14:31:57.651527Z",
     "iopub.status.idle": "2025-08-05T14:31:57.656339Z",
     "shell.execute_reply": "2025-08-05T14:31:57.655568Z"
    },
    "papermill": {
     "duration": 0.020234,
     "end_time": "2025-08-05T14:31:57.657643",
     "exception": false,
     "start_time": "2025-08-05T14:31:57.637409",
     "status": "completed"
    },
    "tags": []
   },
   "outputs": [],
   "source": [
    "#siab"
   ]
  },
  {
   "cell_type": "code",
   "execution_count": 11,
   "id": "a0edb063",
   "metadata": {
    "execution": {
     "iopub.execute_input": "2025-08-05T14:31:57.681079Z",
     "iopub.status.busy": "2025-08-05T14:31:57.680569Z",
     "iopub.status.idle": "2025-08-05T14:31:57.685035Z",
     "shell.execute_reply": "2025-08-05T14:31:57.684315Z"
    },
    "papermill": {
     "duration": 0.017347,
     "end_time": "2025-08-05T14:31:57.686572",
     "exception": false,
     "start_time": "2025-08-05T14:31:57.669225",
     "status": "completed"
    },
    "tags": []
   },
   "outputs": [],
   "source": [
    "#import pandas as pd\n",
    "#\n",
    "#X_train = pd.read_csv(\"./data/X_train.csv\")\n",
    "#y_train = pd.read_csv(\"./data/y_train.csv\")"
   ]
  },
  {
   "cell_type": "code",
   "execution_count": 12,
   "id": "63d08085",
   "metadata": {
    "execution": {
     "iopub.execute_input": "2025-08-05T14:31:57.714198Z",
     "iopub.status.busy": "2025-08-05T14:31:57.713852Z",
     "iopub.status.idle": "2025-08-05T14:31:57.717589Z",
     "shell.execute_reply": "2025-08-05T14:31:57.716935Z"
    },
    "papermill": {
     "duration": 0.020337,
     "end_time": "2025-08-05T14:31:57.718836",
     "exception": false,
     "start_time": "2025-08-05T14:31:57.698499",
     "status": "completed"
    },
    "tags": []
   },
   "outputs": [],
   "source": [
    "#X_test = pd.read_csv(\"./data/X_test.csv\")\n",
    "#y_true = pd.read_csv(\"./data/y_test.csv\")"
   ]
  },
  {
   "cell_type": "code",
   "execution_count": 13,
   "id": "98a8d0fa-1d3d-4ed8-bb2c-281470e24add",
   "metadata": {
    "execution": {
     "iopub.execute_input": "2025-08-05T14:31:57.743546Z",
     "iopub.status.busy": "2025-08-05T14:31:57.743041Z",
     "iopub.status.idle": "2025-08-05T14:31:57.747672Z",
     "shell.execute_reply": "2025-08-05T14:31:57.746970Z"
    },
    "papermill": {
     "duration": 0.019252,
     "end_time": "2025-08-05T14:31:57.749165",
     "exception": false,
     "start_time": "2025-08-05T14:31:57.729913",
     "status": "completed"
    },
    "tags": []
   },
   "outputs": [],
   "source": [
    "# Calibration data for conformal\n",
    "#X_calib = pd.read_csv(\"./data/X_calib.csv\")\n",
    "#y_calib = pd.read_csv(\"./data/y_calib.csv\")"
   ]
  },
  {
   "cell_type": "markdown",
   "id": "997051c5-15bd-4b69-9786-c3001a3ce484",
   "metadata": {
    "papermill": {
     "duration": 0.010802,
     "end_time": "2025-08-05T14:31:57.772191",
     "exception": false,
     "start_time": "2025-08-05T14:31:57.761389",
     "status": "completed"
    },
    "tags": []
   },
   "source": [
    "# Splitting Data and Setting Training Data Size"
   ]
  },
  {
   "cell_type": "code",
   "execution_count": 14,
   "id": "e993b61f-042d-41a6-8c81-f55681f86335",
   "metadata": {
    "execution": {
     "iopub.execute_input": "2025-08-05T14:31:57.795348Z",
     "iopub.status.busy": "2025-08-05T14:31:57.794840Z",
     "iopub.status.idle": "2025-08-05T14:31:57.804097Z",
     "shell.execute_reply": "2025-08-05T14:31:57.803218Z"
    },
    "papermill": {
     "duration": 0.023172,
     "end_time": "2025-08-05T14:31:57.806139",
     "exception": false,
     "start_time": "2025-08-05T14:31:57.782967",
     "status": "completed"
    },
    "tags": []
   },
   "outputs": [],
   "source": [
    "def sample_by_year_size(df,\n",
    "                        training_year: str,\n",
    "                        training_size: str,\n",
    "                        random_state: int = 42):\n",
    "    # --- parse training_year into a list of int years ---\n",
    "    if \"_\" in training_year:\n",
    "        start_str, end_str = training_year.split(\"_\", 1)\n",
    "        start = int(start_str)\n",
    "        end   = int(end_str) if len(end_str) == 4 else (int(end_str) + (start // 100)*100)\n",
    "        years = list(range(start, end + 1))\n",
    "    else:\n",
    "        years = [int(training_year)]\n",
    "\n",
    "    df = df[df[\"year\"].isin(years)].reset_index(drop=True)\n",
    "\n",
    "    # --- map training_size to total number of samples ---\n",
    "    total_map = {\"25k\": 25_000, \"5k\": 5_000, \"1k\": 1_000}\n",
    "    if training_size not in total_map:\n",
    "        return df  # e.g. \"all\"\n",
    "\n",
    "    total_samples = total_map[training_size]\n",
    "    n_years       = len(years)\n",
    "    base          = total_samples // n_years\n",
    "    remainder     = total_samples % n_years\n",
    "\n",
    "    # --- build a dict: year -> how many to sample ---\n",
    "    # give +1 to the first `remainder` years in ascending order\n",
    "    quotas = {\n",
    "        year: base + (1 if idx < remainder else 0)\n",
    "        for idx, year in enumerate(sorted(years))\n",
    "    }\n",
    "\n",
    "    # --- sample per‐year according to the quota dict ---\n",
    "    sampled = (\n",
    "        df\n",
    "        .groupby(\"year\", group_keys=False)\n",
    "        .apply(lambda grp: grp.sample(\n",
    "            n=min(len(grp), quotas[grp.name]),\n",
    "            random_state=random_state))\n",
    "        .reset_index(drop=True)\n",
    "    )\n",
    "\n",
    "    return sampled"
   ]
  },
  {
   "cell_type": "code",
   "execution_count": 15,
   "id": "c0ccd338-0e02-41f3-a09d-f56f9266e3fb",
   "metadata": {
    "execution": {
     "iopub.execute_input": "2025-08-05T14:31:57.841423Z",
     "iopub.status.busy": "2025-08-05T14:31:57.840853Z",
     "iopub.status.idle": "2025-08-05T14:31:57.846193Z",
     "shell.execute_reply": "2025-08-05T14:31:57.845094Z"
    },
    "papermill": {
     "duration": 0.019522,
     "end_time": "2025-08-05T14:31:57.848199",
     "exception": false,
     "start_time": "2025-08-05T14:31:57.828677",
     "status": "completed"
    },
    "tags": []
   },
   "outputs": [],
   "source": [
    "#universe[\"training_size\"]"
   ]
  },
  {
   "cell_type": "code",
   "execution_count": 16,
   "id": "ca707fd7-8047-4acd-bfa5-66248fbbf8e6",
   "metadata": {
    "execution": {
     "iopub.execute_input": "2025-08-05T14:31:57.889073Z",
     "iopub.status.busy": "2025-08-05T14:31:57.888604Z",
     "iopub.status.idle": "2025-08-05T14:31:57.893327Z",
     "shell.execute_reply": "2025-08-05T14:31:57.892304Z"
    },
    "papermill": {
     "duration": 0.022522,
     "end_time": "2025-08-05T14:31:57.894844",
     "exception": false,
     "start_time": "2025-08-05T14:31:57.872322",
     "status": "completed"
    },
    "tags": []
   },
   "outputs": [],
   "source": [
    "#universe[\"training_year\"]"
   ]
  },
  {
   "cell_type": "code",
   "execution_count": 17,
   "id": "aea9c6ef-6f46-42c8-85eb-5a62025c1508",
   "metadata": {
    "execution": {
     "iopub.execute_input": "2025-08-05T14:31:57.920174Z",
     "iopub.status.busy": "2025-08-05T14:31:57.919642Z",
     "iopub.status.idle": "2025-08-05T14:31:58.245837Z",
     "shell.execute_reply": "2025-08-05T14:31:58.244669Z"
    },
    "papermill": {
     "duration": 0.341551,
     "end_time": "2025-08-05T14:31:58.248244",
     "exception": false,
     "start_time": "2025-08-05T14:31:57.906693",
     "status": "completed"
    },
    "tags": []
   },
   "outputs": [],
   "source": [
    "siab_train = sample_by_year_size(siab,\n",
    "                               training_year=universe[\"training_year\"],\n",
    "                               training_size=universe[\"training_size\"])"
   ]
  },
  {
   "cell_type": "code",
   "execution_count": 18,
   "id": "8d3afb32-789d-442c-8d5d-9f5aa8dd2eed",
   "metadata": {
    "execution": {
     "iopub.execute_input": "2025-08-05T14:31:58.382478Z",
     "iopub.status.busy": "2025-08-05T14:31:58.382044Z",
     "iopub.status.idle": "2025-08-05T14:31:58.386944Z",
     "shell.execute_reply": "2025-08-05T14:31:58.386161Z"
    },
    "papermill": {
     "duration": 0.106253,
     "end_time": "2025-08-05T14:31:58.388488",
     "exception": false,
     "start_time": "2025-08-05T14:31:58.282235",
     "status": "completed"
    },
    "tags": []
   },
   "outputs": [],
   "source": [
    "#siab_train.shape"
   ]
  },
  {
   "cell_type": "code",
   "execution_count": 19,
   "id": "d582db68-1a4c-47fb-84fc-08518dc1975a",
   "metadata": {
    "execution": {
     "iopub.execute_input": "2025-08-05T14:31:58.415862Z",
     "iopub.status.busy": "2025-08-05T14:31:58.415121Z",
     "iopub.status.idle": "2025-08-05T14:31:58.419668Z",
     "shell.execute_reply": "2025-08-05T14:31:58.418958Z"
    },
    "papermill": {
     "duration": 0.020945,
     "end_time": "2025-08-05T14:31:58.420972",
     "exception": false,
     "start_time": "2025-08-05T14:31:58.400027",
     "status": "completed"
    },
    "tags": []
   },
   "outputs": [],
   "source": [
    "#display(siab_train.groupby(\"year\").size())"
   ]
  },
  {
   "cell_type": "code",
   "execution_count": 20,
   "id": "a561edb4-d032-42cb-8256-22eac1111c64",
   "metadata": {
    "execution": {
     "iopub.execute_input": "2025-08-05T14:31:58.446414Z",
     "iopub.status.busy": "2025-08-05T14:31:58.445554Z",
     "iopub.status.idle": "2025-08-05T14:31:58.670143Z",
     "shell.execute_reply": "2025-08-05T14:31:58.669056Z"
    },
    "papermill": {
     "duration": 0.238724,
     "end_time": "2025-08-05T14:31:58.672249",
     "exception": false,
     "start_time": "2025-08-05T14:31:58.433525",
     "status": "completed"
    },
    "tags": []
   },
   "outputs": [],
   "source": [
    "#siab_train = siab_s[siab_s.year < 2015]\n",
    "siab_calib = siab[siab.year == 2015]\n",
    "siab_test = siab[siab.year == 2016]"
   ]
  },
  {
   "cell_type": "code",
   "execution_count": 21,
   "id": "472de16f-c3db-4916-846b-1f0de9cf1746",
   "metadata": {
    "execution": {
     "iopub.execute_input": "2025-08-05T14:31:58.735213Z",
     "iopub.status.busy": "2025-08-05T14:31:58.734242Z",
     "iopub.status.idle": "2025-08-05T14:31:58.752389Z",
     "shell.execute_reply": "2025-08-05T14:31:58.750544Z"
    },
    "papermill": {
     "duration": 0.055358,
     "end_time": "2025-08-05T14:31:58.754552",
     "exception": false,
     "start_time": "2025-08-05T14:31:58.699194",
     "status": "completed"
    },
    "tags": []
   },
   "outputs": [],
   "source": [
    "X_train = siab_train.iloc[:,4:164]\n",
    "y_train = siab_train.iloc[:, [3]]"
   ]
  },
  {
   "cell_type": "code",
   "execution_count": 22,
   "id": "828c96af-f43a-4ed6-ba47-8ac73a47d56c",
   "metadata": {
    "execution": {
     "iopub.execute_input": "2025-08-05T14:31:58.812451Z",
     "iopub.status.busy": "2025-08-05T14:31:58.812066Z",
     "iopub.status.idle": "2025-08-05T14:31:58.894033Z",
     "shell.execute_reply": "2025-08-05T14:31:58.892766Z"
    },
    "papermill": {
     "duration": 0.113378,
     "end_time": "2025-08-05T14:31:58.895863",
     "exception": false,
     "start_time": "2025-08-05T14:31:58.782485",
     "status": "completed"
    },
    "tags": []
   },
   "outputs": [],
   "source": [
    "X_calib = siab_calib.iloc[:,4:164]\n",
    "y_calib = siab_calib.iloc[:, [3]]"
   ]
  },
  {
   "cell_type": "code",
   "execution_count": 23,
   "id": "c34be9c3-6bd6-476e-acd3-845840e303be",
   "metadata": {
    "execution": {
     "iopub.execute_input": "2025-08-05T14:31:58.940413Z",
     "iopub.status.busy": "2025-08-05T14:31:58.939982Z",
     "iopub.status.idle": "2025-08-05T14:31:58.995345Z",
     "shell.execute_reply": "2025-08-05T14:31:58.994152Z"
    },
    "papermill": {
     "duration": 0.084131,
     "end_time": "2025-08-05T14:31:59.000773",
     "exception": false,
     "start_time": "2025-08-05T14:31:58.916642",
     "status": "completed"
    },
    "tags": []
   },
   "outputs": [],
   "source": [
    "X_test = siab_test.iloc[:,4:164]\n",
    "y_true = siab_test.iloc[:, [3]]"
   ]
  },
  {
   "cell_type": "markdown",
   "id": "9901737e-04df-44f0-9100-f5ad144ed040",
   "metadata": {
    "papermill": {
     "duration": 0.016883,
     "end_time": "2025-08-05T14:31:59.049223",
     "exception": false,
     "start_time": "2025-08-05T14:31:59.032340",
     "status": "completed"
    },
    "tags": []
   },
   "source": [
    "# Splitting Data and Setting Training Data Size OLD VERSION"
   ]
  },
  {
   "cell_type": "code",
   "execution_count": 24,
   "id": "acbc8f7d-8fc8-4e86-8c59-5dcb0f58384b",
   "metadata": {
    "execution": {
     "iopub.execute_input": "2025-08-05T14:31:59.074165Z",
     "iopub.status.busy": "2025-08-05T14:31:59.073759Z",
     "iopub.status.idle": "2025-08-05T14:31:59.081620Z",
     "shell.execute_reply": "2025-08-05T14:31:59.079169Z"
    },
    "papermill": {
     "duration": 0.023645,
     "end_time": "2025-08-05T14:31:59.084078",
     "exception": false,
     "start_time": "2025-08-05T14:31:59.060433",
     "status": "completed"
    },
    "tags": []
   },
   "outputs": [],
   "source": [
    "#def sample_by_year(df, training_size, random_state=42):\n",
    "#    if training_size == \"2014\":\n",
    "#        return df[df[\"year\"] == 2014].reset_index(drop=True)\n",
    "#    \n",
    "#    size_map = {\n",
    "#        \"25k\": 5000,\n",
    "#        \"5k\": 1000,\n",
    "#        \"1k\": 200\n",
    "#    }\n",
    "#\n",
    "#    if training_size not in size_map:\n",
    "#        return df.reset_index(drop=True)  # use all data\n",
    "#\n",
    "#    n_per_year = size_map[training_size]\n",
    "#    grouped = df.groupby(\"year\")\n",
    "#    sampled = grouped.apply(lambda x: x.sample(n=min(n_per_year, len(x)), random_state=random_state))\n",
    "#    return sampled.reset_index(drop=True)"
   ]
  },
  {
   "cell_type": "code",
   "execution_count": 25,
   "id": "6d931f52-beaf-43ff-9e78-9d44a448d54e",
   "metadata": {
    "execution": {
     "iopub.execute_input": "2025-08-05T14:31:59.143850Z",
     "iopub.status.busy": "2025-08-05T14:31:59.143344Z",
     "iopub.status.idle": "2025-08-05T14:31:59.149630Z",
     "shell.execute_reply": "2025-08-05T14:31:59.148007Z"
    },
    "papermill": {
     "duration": 0.038803,
     "end_time": "2025-08-05T14:31:59.151834",
     "exception": false,
     "start_time": "2025-08-05T14:31:59.113031",
     "status": "completed"
    },
    "tags": []
   },
   "outputs": [],
   "source": [
    "#siab_s = sample_by_year(siab, universe[\"training_size\"])"
   ]
  },
  {
   "cell_type": "code",
   "execution_count": 26,
   "id": "5db0a40e-a4e2-4920-be85-b12ae061d70d",
   "metadata": {
    "execution": {
     "iopub.execute_input": "2025-08-05T14:31:59.191900Z",
     "iopub.status.busy": "2025-08-05T14:31:59.191513Z",
     "iopub.status.idle": "2025-08-05T14:31:59.195780Z",
     "shell.execute_reply": "2025-08-05T14:31:59.195067Z"
    },
    "papermill": {
     "duration": 0.018971,
     "end_time": "2025-08-05T14:31:59.197137",
     "exception": false,
     "start_time": "2025-08-05T14:31:59.178166",
     "status": "completed"
    },
    "tags": []
   },
   "outputs": [],
   "source": [
    "#display(siab_s.groupby(\"year\").size())"
   ]
  },
  {
   "cell_type": "code",
   "execution_count": 27,
   "id": "e6c733c5",
   "metadata": {
    "execution": {
     "iopub.execute_input": "2025-08-05T14:31:59.226729Z",
     "iopub.status.busy": "2025-08-05T14:31:59.225925Z",
     "iopub.status.idle": "2025-08-05T14:31:59.341829Z",
     "shell.execute_reply": "2025-08-05T14:31:59.340683Z"
    },
    "papermill": {
     "duration": 0.130906,
     "end_time": "2025-08-05T14:31:59.343463",
     "exception": false,
     "start_time": "2025-08-05T14:31:59.212557",
     "status": "completed"
    },
    "tags": []
   },
   "outputs": [],
   "source": [
    "# Auxiliary data needed downstream in the pipeline\n",
    "\n",
    "org_train = X_train.copy()\n",
    "org_test = X_test.copy()\n",
    "org_calib = X_calib.copy()"
   ]
  },
  {
   "cell_type": "code",
   "execution_count": 28,
   "id": "1466abac-c6da-4492-a62f-4240ae3783af",
   "metadata": {
    "execution": {
     "iopub.execute_input": "2025-08-05T14:31:59.400577Z",
     "iopub.status.busy": "2025-08-05T14:31:59.399945Z",
     "iopub.status.idle": "2025-08-05T14:31:59.408144Z",
     "shell.execute_reply": "2025-08-05T14:31:59.406467Z"
    },
    "papermill": {
     "duration": 0.040969,
     "end_time": "2025-08-05T14:31:59.410527",
     "exception": false,
     "start_time": "2025-08-05T14:31:59.369558",
     "status": "completed"
    },
    "tags": []
   },
   "outputs": [],
   "source": [
    "# put in other script?\n",
    "# Group sizes\n",
    "\n",
    "#def calculate_percentages(df, df_name):\n",
    "#    total_entries = len(df)\n",
    "#\n",
    "#    female_pct = (df['frau1'] == 1).mean() * 100\n",
    "#    non_german_pct = ((df['maxdeutsch1'] == 0) & (df['maxdeutsch.Missing.'] == 0)).mean() * 100\n",
    "#    non_german_male_pct = ((df['frau1'] == 0) & (df['maxdeutsch1'] == 0) & (df['maxdeutsch.Missing.'] == 0)).mean() * 100\n",
    "#    non_german_female_pct = ((df['frau1'] == 1) & (df['maxdeutsch1'] == 0) & (df['maxdeutsch.Missing.'] == 0)).mean() * 100\n",
    "#\n",
    "#    print(f\"--- {df_name} ---\")\n",
    "#    print(f\"Female: {female_pct:.2f}%\")\n",
    "#    print(f\"Non-German: {non_german_pct:.2f}%\")\n",
    "#    print(f\"Non-German Male: {non_german_male_pct:.2f}%\")\n",
    "#    print(f\"Non-German Female: {non_german_female_pct:.2f}%\\n\")\n",
    "#\n",
    "## Calculate for each DataFrame\n",
    "#calculate_percentages(siab_calib, \"siab_calib\")\n",
    "#calculate_percentages(siab_test, \"siab_test\")\n",
    "#calculate_percentages(siab_train, \"siab_train\")"
   ]
  },
  {
   "cell_type": "markdown",
   "id": "0a4a1b33",
   "metadata": {
    "papermill": {
     "duration": 0.030207,
     "end_time": "2025-08-05T14:31:59.470611",
     "exception": false,
     "start_time": "2025-08-05T14:31:59.440404",
     "status": "completed"
    },
    "tags": []
   },
   "source": [
    "# Preprocessing Data"
   ]
  },
  {
   "cell_type": "code",
   "execution_count": 29,
   "id": "ca879031",
   "metadata": {
    "execution": {
     "iopub.execute_input": "2025-08-05T14:31:59.530019Z",
     "iopub.status.busy": "2025-08-05T14:31:59.529405Z",
     "iopub.status.idle": "2025-08-05T14:31:59.536606Z",
     "shell.execute_reply": "2025-08-05T14:31:59.535450Z"
    },
    "papermill": {
     "duration": 0.037791,
     "end_time": "2025-08-05T14:31:59.538782",
     "exception": false,
     "start_time": "2025-08-05T14:31:59.500991",
     "status": "completed"
    },
    "tags": []
   },
   "outputs": [],
   "source": [
    "# EXCLUDE PROTECTED FEATURES\n",
    "# ----------------------\n",
    "# \"exclude_features\": \"none\", # \"nationality\", \"sex\", \"nationality-sex\"\n",
    "\n",
    "excluded_features = universe[\"exclude_features\"].split(\"-\") # split, e.g.: \"nationality-sex\" -> [\"nationality\", \"sex\"]\n",
    "excluded_features_dictionary = {\n",
    "    \"nationality\": [\"maxdeutsch1\", \"maxdeutsch.Missing.\"],\n",
    "    \"sex\": [\"frau1\"],\n",
    "    \"age\": [\"age\"],\n",
    "}\n"
   ]
  },
  {
   "cell_type": "code",
   "execution_count": 30,
   "id": "b745ac60",
   "metadata": {
    "execution": {
     "iopub.execute_input": "2025-08-05T14:31:59.592201Z",
     "iopub.status.busy": "2025-08-05T14:31:59.591706Z",
     "iopub.status.idle": "2025-08-05T14:31:59.598827Z",
     "shell.execute_reply": "2025-08-05T14:31:59.597422Z"
    },
    "papermill": {
     "duration": 0.039386,
     "end_time": "2025-08-05T14:31:59.600769",
     "exception": false,
     "start_time": "2025-08-05T14:31:59.561383",
     "status": "completed"
    },
    "tags": []
   },
   "outputs": [],
   "source": [
    "# Code nice names to column names\n",
    "\n",
    "excluded_features_columns = [\n",
    "    excluded_features_dictionary[f] for f in excluded_features if len(f) > 0 and f != \"none\"\n",
    "]"
   ]
  },
  {
   "cell_type": "code",
   "execution_count": 31,
   "id": "f84f73a2",
   "metadata": {
    "execution": {
     "iopub.execute_input": "2025-08-05T14:31:59.628596Z",
     "iopub.status.busy": "2025-08-05T14:31:59.628247Z",
     "iopub.status.idle": "2025-08-05T14:31:59.634640Z",
     "shell.execute_reply": "2025-08-05T14:31:59.633410Z"
    },
    "papermill": {
     "duration": 0.021821,
     "end_time": "2025-08-05T14:31:59.636591",
     "exception": false,
     "start_time": "2025-08-05T14:31:59.614770",
     "status": "completed"
    },
    "tags": []
   },
   "outputs": [],
   "source": [
    "from utils import flatten_once\n",
    "\n",
    "excluded_features_columns = flatten_once(excluded_features_columns)"
   ]
  },
  {
   "cell_type": "code",
   "execution_count": 32,
   "id": "884dea22",
   "metadata": {
    "execution": {
     "iopub.execute_input": "2025-08-05T14:31:59.672684Z",
     "iopub.status.busy": "2025-08-05T14:31:59.671969Z",
     "iopub.status.idle": "2025-08-05T14:31:59.689987Z",
     "shell.execute_reply": "2025-08-05T14:31:59.687723Z"
    },
    "papermill": {
     "duration": 0.03345,
     "end_time": "2025-08-05T14:31:59.692609",
     "exception": false,
     "start_time": "2025-08-05T14:31:59.659159",
     "status": "completed"
    },
    "tags": []
   },
   "outputs": [
    {
     "name": "stdout",
     "output_type": "stream",
     "text": [
      "Dropping features: ['frau1']\n"
     ]
    }
   ],
   "source": [
    "if len(excluded_features_columns) > 0:\n",
    "    print(f\"Dropping features: {excluded_features_columns}\")\n",
    "    X_train.drop(excluded_features_columns, axis=1, inplace=True)"
   ]
  },
  {
   "cell_type": "code",
   "execution_count": 33,
   "id": "95ab8b16",
   "metadata": {
    "execution": {
     "iopub.execute_input": "2025-08-05T14:31:59.744144Z",
     "iopub.status.busy": "2025-08-05T14:31:59.743538Z",
     "iopub.status.idle": "2025-08-05T14:31:59.868664Z",
     "shell.execute_reply": "2025-08-05T14:31:59.867289Z"
    },
    "papermill": {
     "duration": 0.152842,
     "end_time": "2025-08-05T14:31:59.870301",
     "exception": false,
     "start_time": "2025-08-05T14:31:59.717459",
     "status": "completed"
    },
    "tags": []
   },
   "outputs": [
    {
     "name": "stdout",
     "output_type": "stream",
     "text": [
      "Dropping features: ['frau1']\n"
     ]
    }
   ],
   "source": [
    "if len(excluded_features_columns) > 0:\n",
    "    print(f\"Dropping features: {excluded_features_columns}\")\n",
    "    X_test.drop(excluded_features_columns, axis=1, inplace=True)"
   ]
  },
  {
   "cell_type": "code",
   "execution_count": 34,
   "id": "1853aaf5-fb9f-46cb-a2b5-8ea4ae2237e4",
   "metadata": {
    "execution": {
     "iopub.execute_input": "2025-08-05T14:31:59.898982Z",
     "iopub.status.busy": "2025-08-05T14:31:59.898163Z",
     "iopub.status.idle": "2025-08-05T14:31:59.962353Z",
     "shell.execute_reply": "2025-08-05T14:31:59.961189Z"
    },
    "papermill": {
     "duration": 0.081088,
     "end_time": "2025-08-05T14:31:59.964277",
     "exception": false,
     "start_time": "2025-08-05T14:31:59.883189",
     "status": "completed"
    },
    "tags": []
   },
   "outputs": [
    {
     "name": "stdout",
     "output_type": "stream",
     "text": [
      "Dropping features: ['frau1']\n"
     ]
    }
   ],
   "source": [
    "if len(excluded_features_columns) > 0:\n",
    "    print(f\"Dropping features: {excluded_features_columns}\")\n",
    "    X_calib.drop(excluded_features_columns, axis=1, inplace=True)"
   ]
  },
  {
   "cell_type": "code",
   "execution_count": 35,
   "id": "6727d079-03e5-481e-9d38-292a90b7a0a8",
   "metadata": {
    "execution": {
     "iopub.execute_input": "2025-08-05T14:32:00.025374Z",
     "iopub.status.busy": "2025-08-05T14:32:00.024999Z",
     "iopub.status.idle": "2025-08-05T14:32:00.029617Z",
     "shell.execute_reply": "2025-08-05T14:32:00.028613Z"
    },
    "papermill": {
     "duration": 0.036817,
     "end_time": "2025-08-05T14:32:00.031903",
     "exception": false,
     "start_time": "2025-08-05T14:31:59.995086",
     "status": "completed"
    },
    "tags": []
   },
   "outputs": [],
   "source": [
    "# SPLIT & STRATIFY DATA\n",
    "# ----------------------"
   ]
  },
  {
   "cell_type": "code",
   "execution_count": 36,
   "id": "76c4dc6d",
   "metadata": {
    "execution": {
     "iopub.execute_input": "2025-08-05T14:32:00.092745Z",
     "iopub.status.busy": "2025-08-05T14:32:00.092300Z",
     "iopub.status.idle": "2025-08-05T14:32:00.097081Z",
     "shell.execute_reply": "2025-08-05T14:32:00.096380Z"
    },
    "papermill": {
     "duration": 0.044431,
     "end_time": "2025-08-05T14:32:00.107136",
     "exception": false,
     "start_time": "2025-08-05T14:32:00.062705",
     "status": "completed"
    },
    "tags": []
   },
   "outputs": [],
   "source": [
    "# EXCLUDE CERTAIN SUBGROUPS\n",
    "# ----------------------\n",
    "\n",
    "mode = universe.get(\"exclude_subgroups\", \"keep-all\") \n",
    "# Fetches the exclude_subgroups setting from the universe dict.\n",
    "# Defaults to \"keep-all\" if the key is missing."
   ]
  },
  {
   "cell_type": "code",
   "execution_count": 37,
   "id": "21994072",
   "metadata": {
    "execution": {
     "iopub.execute_input": "2025-08-05T14:32:00.136799Z",
     "iopub.status.busy": "2025-08-05T14:32:00.136470Z",
     "iopub.status.idle": "2025-08-05T14:32:00.142192Z",
     "shell.execute_reply": "2025-08-05T14:32:00.141371Z"
    },
    "papermill": {
     "duration": 0.020889,
     "end_time": "2025-08-05T14:32:00.143627",
     "exception": false,
     "start_time": "2025-08-05T14:32:00.122738",
     "status": "completed"
    },
    "tags": []
   },
   "outputs": [],
   "source": [
    "if mode == \"keep-all\":\n",
    "    keep_mask = pd.Series(True, index=org_train.index)\n",
    "\n",
    "# org_train contains the original feature columns from features_org (in Simson)\n",
    "# features_org contains unprocessed features, for me X_train at beginning ???\n",
    "# For keep-all, creates a boolean Series (keep_mask) of all True, so no rows are removed.\n",
    "\n",
    "elif mode == \"drop-non-german\":\n",
    "    keep_mask = org_train[\"maxdeutsch1\"] == 1 # ??? what about missing values?\n",
    "\n",
    "else:\n",
    "    raise ValueError(f\"Unsupported mode for exclude_subgroups: {mode}\")\n"
   ]
  },
  {
   "cell_type": "code",
   "execution_count": 38,
   "id": "71651440",
   "metadata": {
    "execution": {
     "iopub.execute_input": "2025-08-05T14:32:00.186315Z",
     "iopub.status.busy": "2025-08-05T14:32:00.185799Z",
     "iopub.status.idle": "2025-08-05T14:32:00.192895Z",
     "shell.execute_reply": "2025-08-05T14:32:00.191653Z"
    },
    "papermill": {
     "duration": 0.02906,
     "end_time": "2025-08-05T14:32:00.194831",
     "exception": false,
     "start_time": "2025-08-05T14:32:00.165771",
     "status": "completed"
    },
    "tags": []
   },
   "outputs": [],
   "source": [
    "n_drop = (~keep_mask).sum() # Calculates how many rows are set to be dropped\n",
    "if n_drop > 0:\n",
    "    pct = n_drop / len(keep_mask) * 100\n",
    "    print(f\"Dropping {n_drop} rows ({pct:.2f}%) where mode='{mode}'\")"
   ]
  },
  {
   "cell_type": "code",
   "execution_count": 39,
   "id": "5fb8eee5",
   "metadata": {
    "execution": {
     "iopub.execute_input": "2025-08-05T14:32:00.226850Z",
     "iopub.status.busy": "2025-08-05T14:32:00.226361Z",
     "iopub.status.idle": "2025-08-05T14:32:00.244680Z",
     "shell.execute_reply": "2025-08-05T14:32:00.242229Z"
    },
    "papermill": {
     "duration": 0.038977,
     "end_time": "2025-08-05T14:32:00.248111",
     "exception": false,
     "start_time": "2025-08-05T14:32:00.209134",
     "status": "completed"
    },
    "tags": []
   },
   "outputs": [],
   "source": [
    "X_train = X_train[keep_mask]"
   ]
  },
  {
   "cell_type": "code",
   "execution_count": 40,
   "id": "b202bb3a",
   "metadata": {
    "execution": {
     "iopub.execute_input": "2025-08-05T14:32:00.288868Z",
     "iopub.status.busy": "2025-08-05T14:32:00.288436Z",
     "iopub.status.idle": "2025-08-05T14:32:00.295405Z",
     "shell.execute_reply": "2025-08-05T14:32:00.294380Z"
    },
    "papermill": {
     "duration": 0.023125,
     "end_time": "2025-08-05T14:32:00.297046",
     "exception": false,
     "start_time": "2025-08-05T14:32:00.273921",
     "status": "completed"
    },
    "tags": []
   },
   "outputs": [],
   "source": [
    "y_train = y_train[keep_mask]"
   ]
  },
  {
   "cell_type": "markdown",
   "id": "493e2ac3",
   "metadata": {
    "papermill": {
     "duration": 0.031339,
     "end_time": "2025-08-05T14:32:00.352803",
     "exception": false,
     "start_time": "2025-08-05T14:32:00.321464",
     "status": "completed"
    },
    "tags": []
   },
   "source": [
    "# Model Training"
   ]
  },
  {
   "cell_type": "code",
   "execution_count": 41,
   "id": "679e1268",
   "metadata": {
    "execution": {
     "iopub.execute_input": "2025-08-05T14:32:00.392764Z",
     "iopub.status.busy": "2025-08-05T14:32:00.392324Z",
     "iopub.status.idle": "2025-08-05T14:32:00.502491Z",
     "shell.execute_reply": "2025-08-05T14:32:00.501456Z"
    },
    "papermill": {
     "duration": 0.126413,
     "end_time": "2025-08-05T14:32:00.504271",
     "exception": false,
     "start_time": "2025-08-05T14:32:00.377858",
     "status": "completed"
    },
    "tags": []
   },
   "outputs": [],
   "source": [
    "from sklearn.linear_model import LogisticRegression\n",
    "from sklearn.ensemble import GradientBoostingClassifier, RandomForestClassifier\n",
    "\n",
    "if (universe[\"model\"] == \"logreg\"):\n",
    "    model = LogisticRegression() #penalty=\"none\", solver=\"newton-cg\", max_iter=1) # include random_state=19 ?\n",
    "elif (universe[\"model\"] == \"penalized_logreg\"):\n",
    "    model = LogisticRegression(penalty=\"l2\", C=0.1) #, solver=\"newton-cg\", max_iter=1)\n",
    "elif (universe[\"model\"] == \"rf\"):\n",
    "    model = RandomForestClassifier() # n_estimators=100, n_jobs=-1\n",
    "elif (universe[\"model\"] == \"gbm\"):\n",
    "    model = GradientBoostingClassifier()\n",
    "elif (universe[\"model\"] == \"elasticnet\"):\n",
    "    model = LogisticRegression(penalty = 'elasticnet', solver = 'saga', l1_ratio = 0.5) # max_iter=5000\n",
    "else:\n",
    "    raise \"Unsupported universe.model\""
   ]
  },
  {
   "cell_type": "code",
   "execution_count": 42,
   "id": "0cc8f744",
   "metadata": {
    "execution": {
     "iopub.execute_input": "2025-08-05T14:32:00.548363Z",
     "iopub.status.busy": "2025-08-05T14:32:00.547991Z",
     "iopub.status.idle": "2025-08-05T14:32:00.553697Z",
     "shell.execute_reply": "2025-08-05T14:32:00.552772Z"
    },
    "papermill": {
     "duration": 0.032644,
     "end_time": "2025-08-05T14:32:00.555652",
     "exception": false,
     "start_time": "2025-08-05T14:32:00.523008",
     "status": "completed"
    },
    "tags": []
   },
   "outputs": [],
   "source": [
    "import numpy as np\n",
    "from sklearn.pipeline import Pipeline\n",
    "from sklearn.preprocessing import StandardScaler\n",
    "\n",
    "model = Pipeline([\n",
    "    #(\"continuous_processor\", continuous_processor),\n",
    "    #(\"categorical_preprocessor\", categorical_preprocessor),\n",
    "    (\"scale\", StandardScaler() if universe[\"scale\"] == \"scale\" else None), \n",
    "    (\"model\", model),\n",
    "])"
   ]
  },
  {
   "cell_type": "code",
   "execution_count": 43,
   "id": "9442c04d",
   "metadata": {
    "execution": {
     "iopub.execute_input": "2025-08-05T14:32:00.605582Z",
     "iopub.status.busy": "2025-08-05T14:32:00.605156Z",
     "iopub.status.idle": "2025-08-05T14:32:02.086196Z",
     "shell.execute_reply": "2025-08-05T14:32:02.085112Z"
    },
    "papermill": {
     "duration": 1.507719,
     "end_time": "2025-08-05T14:32:02.087977",
     "exception": false,
     "start_time": "2025-08-05T14:32:00.580258",
     "status": "completed"
    },
    "tags": []
   },
   "outputs": [
    {
     "name": "stderr",
     "output_type": "stream",
     "text": [
      "/dss/dsshome1/0C/ra93lal2/.local/share/virtualenvs/CMA_Fairness_v2-3j10GkSs/lib/python3.10/site-packages/sklearn/linear_model/_logistic.py:444: ConvergenceWarning: lbfgs failed to converge (status=1):\n",
      "STOP: TOTAL NO. of ITERATIONS REACHED LIMIT.\n",
      "\n",
      "Increase the number of iterations (max_iter) or scale the data as shown in:\n",
      "    https://scikit-learn.org/stable/modules/preprocessing.html\n",
      "Please also refer to the documentation for alternative solver options:\n",
      "    https://scikit-learn.org/stable/modules/linear_model.html#logistic-regression\n",
      "  n_iter_i = _check_optimize_result(\n"
     ]
    },
    {
     "data": {
      "text/html": [
       "<style>#sk-container-id-1 {color: black;background-color: white;}#sk-container-id-1 pre{padding: 0;}#sk-container-id-1 div.sk-toggleable {background-color: white;}#sk-container-id-1 label.sk-toggleable__label {cursor: pointer;display: block;width: 100%;margin-bottom: 0;padding: 0.3em;box-sizing: border-box;text-align: center;}#sk-container-id-1 label.sk-toggleable__label-arrow:before {content: \"▸\";float: left;margin-right: 0.25em;color: #696969;}#sk-container-id-1 label.sk-toggleable__label-arrow:hover:before {color: black;}#sk-container-id-1 div.sk-estimator:hover label.sk-toggleable__label-arrow:before {color: black;}#sk-container-id-1 div.sk-toggleable__content {max-height: 0;max-width: 0;overflow: hidden;text-align: left;background-color: #f0f8ff;}#sk-container-id-1 div.sk-toggleable__content pre {margin: 0.2em;color: black;border-radius: 0.25em;background-color: #f0f8ff;}#sk-container-id-1 input.sk-toggleable__control:checked~div.sk-toggleable__content {max-height: 200px;max-width: 100%;overflow: auto;}#sk-container-id-1 input.sk-toggleable__control:checked~label.sk-toggleable__label-arrow:before {content: \"▾\";}#sk-container-id-1 div.sk-estimator input.sk-toggleable__control:checked~label.sk-toggleable__label {background-color: #d4ebff;}#sk-container-id-1 div.sk-label input.sk-toggleable__control:checked~label.sk-toggleable__label {background-color: #d4ebff;}#sk-container-id-1 input.sk-hidden--visually {border: 0;clip: rect(1px 1px 1px 1px);clip: rect(1px, 1px, 1px, 1px);height: 1px;margin: -1px;overflow: hidden;padding: 0;position: absolute;width: 1px;}#sk-container-id-1 div.sk-estimator {font-family: monospace;background-color: #f0f8ff;border: 1px dotted black;border-radius: 0.25em;box-sizing: border-box;margin-bottom: 0.5em;}#sk-container-id-1 div.sk-estimator:hover {background-color: #d4ebff;}#sk-container-id-1 div.sk-parallel-item::after {content: \"\";width: 100%;border-bottom: 1px solid gray;flex-grow: 1;}#sk-container-id-1 div.sk-label:hover label.sk-toggleable__label {background-color: #d4ebff;}#sk-container-id-1 div.sk-serial::before {content: \"\";position: absolute;border-left: 1px solid gray;box-sizing: border-box;top: 0;bottom: 0;left: 50%;z-index: 0;}#sk-container-id-1 div.sk-serial {display: flex;flex-direction: column;align-items: center;background-color: white;padding-right: 0.2em;padding-left: 0.2em;position: relative;}#sk-container-id-1 div.sk-item {position: relative;z-index: 1;}#sk-container-id-1 div.sk-parallel {display: flex;align-items: stretch;justify-content: center;background-color: white;position: relative;}#sk-container-id-1 div.sk-item::before, #sk-container-id-1 div.sk-parallel-item::before {content: \"\";position: absolute;border-left: 1px solid gray;box-sizing: border-box;top: 0;bottom: 0;left: 50%;z-index: -1;}#sk-container-id-1 div.sk-parallel-item {display: flex;flex-direction: column;z-index: 1;position: relative;background-color: white;}#sk-container-id-1 div.sk-parallel-item:first-child::after {align-self: flex-end;width: 50%;}#sk-container-id-1 div.sk-parallel-item:last-child::after {align-self: flex-start;width: 50%;}#sk-container-id-1 div.sk-parallel-item:only-child::after {width: 0;}#sk-container-id-1 div.sk-dashed-wrapped {border: 1px dashed gray;margin: 0 0.4em 0.5em 0.4em;box-sizing: border-box;padding-bottom: 0.4em;background-color: white;}#sk-container-id-1 div.sk-label label {font-family: monospace;font-weight: bold;display: inline-block;line-height: 1.2em;}#sk-container-id-1 div.sk-label-container {text-align: center;}#sk-container-id-1 div.sk-container {/* jupyter's `normalize.less` sets `[hidden] { display: none; }` but bootstrap.min.css set `[hidden] { display: none !important; }` so we also need the `!important` here to be able to override the default hidden behavior on the sphinx rendered scikit-learn.org. See: https://github.com/scikit-learn/scikit-learn/issues/21755 */display: inline-block !important;position: relative;}#sk-container-id-1 div.sk-text-repr-fallback {display: none;}</style><div id=\"sk-container-id-1\" class=\"sk-top-container\"><div class=\"sk-text-repr-fallback\"><pre>Pipeline(steps=[(&#x27;scale&#x27;, StandardScaler()), (&#x27;model&#x27;, LogisticRegression())])</pre><b>In a Jupyter environment, please rerun this cell to show the HTML representation or trust the notebook. <br />On GitHub, the HTML representation is unable to render, please try loading this page with nbviewer.org.</b></div><div class=\"sk-container\" hidden><div class=\"sk-item sk-dashed-wrapped\"><div class=\"sk-label-container\"><div class=\"sk-label sk-toggleable\"><input class=\"sk-toggleable__control sk-hidden--visually\" id=\"sk-estimator-id-1\" type=\"checkbox\" ><label for=\"sk-estimator-id-1\" class=\"sk-toggleable__label sk-toggleable__label-arrow\">Pipeline</label><div class=\"sk-toggleable__content\"><pre>Pipeline(steps=[(&#x27;scale&#x27;, StandardScaler()), (&#x27;model&#x27;, LogisticRegression())])</pre></div></div></div><div class=\"sk-serial\"><div class=\"sk-item\"><div class=\"sk-estimator sk-toggleable\"><input class=\"sk-toggleable__control sk-hidden--visually\" id=\"sk-estimator-id-2\" type=\"checkbox\" ><label for=\"sk-estimator-id-2\" class=\"sk-toggleable__label sk-toggleable__label-arrow\">StandardScaler</label><div class=\"sk-toggleable__content\"><pre>StandardScaler()</pre></div></div></div><div class=\"sk-item\"><div class=\"sk-estimator sk-toggleable\"><input class=\"sk-toggleable__control sk-hidden--visually\" id=\"sk-estimator-id-3\" type=\"checkbox\" ><label for=\"sk-estimator-id-3\" class=\"sk-toggleable__label sk-toggleable__label-arrow\">LogisticRegression</label><div class=\"sk-toggleable__content\"><pre>LogisticRegression()</pre></div></div></div></div></div></div></div>"
      ],
      "text/plain": [
       "Pipeline(steps=[('scale', StandardScaler()), ('model', LogisticRegression())])"
      ]
     },
     "execution_count": 43,
     "metadata": {},
     "output_type": "execute_result"
    }
   ],
   "source": [
    "model.fit(X_train, y_train.values.ravel())"
   ]
  },
  {
   "cell_type": "code",
   "execution_count": 44,
   "id": "af59f8c0",
   "metadata": {
    "execution": {
     "iopub.execute_input": "2025-08-05T14:32:02.125581Z",
     "iopub.status.busy": "2025-08-05T14:32:02.125231Z",
     "iopub.status.idle": "2025-08-05T14:32:02.130433Z",
     "shell.execute_reply": "2025-08-05T14:32:02.129437Z"
    },
    "papermill": {
     "duration": 0.022716,
     "end_time": "2025-08-05T14:32:02.132030",
     "exception": false,
     "start_time": "2025-08-05T14:32:02.109314",
     "status": "completed"
    },
    "tags": []
   },
   "outputs": [],
   "source": [
    "from fairness_multiverse.universe import predict_w_threshold"
   ]
  },
  {
   "cell_type": "code",
   "execution_count": 45,
   "id": "a7cf2e16",
   "metadata": {
    "execution": {
     "iopub.execute_input": "2025-08-05T14:32:02.160054Z",
     "iopub.status.busy": "2025-08-05T14:32:02.159526Z",
     "iopub.status.idle": "2025-08-05T14:32:02.342441Z",
     "shell.execute_reply": "2025-08-05T14:32:02.341435Z"
    },
    "papermill": {
     "duration": 0.198692,
     "end_time": "2025-08-05T14:32:02.344189",
     "exception": false,
     "start_time": "2025-08-05T14:32:02.145497",
     "status": "completed"
    },
    "tags": []
   },
   "outputs": [
    {
     "data": {
      "text/plain": [
       "0.8652881507078364"
      ]
     },
     "execution_count": 45,
     "metadata": {},
     "output_type": "execute_result"
    }
   ],
   "source": [
    "probs_test = model.predict_proba(X_test)\n",
    "\n",
    "'''\n",
    "Below code returns a boolean array (or binary 0/1 array depending on how it’s used) where each element \n",
    "is True if the probability of class 1 is greater than or equal to the threshold, and False otherwise.\n",
    "'''\n",
    "y_pred_default = predict_w_threshold(probs_test, 0.5)\n",
    "\n",
    "from sklearn.metrics import accuracy_score\n",
    "\n",
    "# Naive prediction\n",
    "accuracy_score(y_true = y_true, y_pred = y_pred_default)"
   ]
  },
  {
   "cell_type": "code",
   "execution_count": 46,
   "id": "081964c3",
   "metadata": {
    "execution": {
     "iopub.execute_input": "2025-08-05T14:32:02.401290Z",
     "iopub.status.busy": "2025-08-05T14:32:02.400642Z",
     "iopub.status.idle": "2025-08-05T14:32:02.596072Z",
     "shell.execute_reply": "2025-08-05T14:32:02.594875Z"
    },
    "papermill": {
     "duration": 0.226492,
     "end_time": "2025-08-05T14:32:02.598471",
     "exception": false,
     "start_time": "2025-08-05T14:32:02.371979",
     "status": "completed"
    },
    "tags": []
   },
   "outputs": [
    {
     "data": {
      "text/plain": [
       "array([0, 0, 0, ..., 0, 0, 0])"
      ]
     },
     "execution_count": 46,
     "metadata": {},
     "output_type": "execute_result"
    }
   ],
   "source": [
    "model.predict(X_test)"
   ]
  },
  {
   "cell_type": "markdown",
   "id": "56c9705b",
   "metadata": {
    "papermill": {
     "duration": 0.038548,
     "end_time": "2025-08-05T14:32:02.674346",
     "exception": false,
     "start_time": "2025-08-05T14:32:02.635798",
     "status": "completed"
    },
    "tags": []
   },
   "source": [
    "# Conformal Prediction"
   ]
  },
  {
   "cell_type": "code",
   "execution_count": 47,
   "id": "160ec6ff",
   "metadata": {
    "execution": {
     "iopub.execute_input": "2025-08-05T14:32:02.750673Z",
     "iopub.status.busy": "2025-08-05T14:32:02.750125Z",
     "iopub.status.idle": "2025-08-05T14:32:02.756529Z",
     "shell.execute_reply": "2025-08-05T14:32:02.755078Z"
    },
    "papermill": {
     "duration": 0.046498,
     "end_time": "2025-08-05T14:32:02.759002",
     "exception": false,
     "start_time": "2025-08-05T14:32:02.712504",
     "status": "completed"
    },
    "tags": []
   },
   "outputs": [],
   "source": [
    "# Miscoverage level for conformal prediction (10% allowed error rate => 90% target coverage)\n",
    "alpha = 0.1"
   ]
  },
  {
   "cell_type": "code",
   "execution_count": 48,
   "id": "eadf4555-3dd3-440e-8e35-f82a4ad9f855",
   "metadata": {
    "execution": {
     "iopub.execute_input": "2025-08-05T14:32:02.816807Z",
     "iopub.status.busy": "2025-08-05T14:32:02.816179Z",
     "iopub.status.idle": "2025-08-05T14:32:03.089903Z",
     "shell.execute_reply": "2025-08-05T14:32:03.089028Z"
    },
    "papermill": {
     "duration": 0.304912,
     "end_time": "2025-08-05T14:32:03.091279",
     "exception": false,
     "start_time": "2025-08-05T14:32:02.786367",
     "status": "completed"
    },
    "tags": []
   },
   "outputs": [],
   "source": [
    "probs_calib = model.predict_proba(X_calib)"
   ]
  },
  {
   "cell_type": "code",
   "execution_count": 49,
   "id": "2ed93547-6d5d-4983-9b36-1ecb300da49a",
   "metadata": {
    "execution": {
     "iopub.execute_input": "2025-08-05T14:32:03.120059Z",
     "iopub.status.busy": "2025-08-05T14:32:03.119710Z",
     "iopub.status.idle": "2025-08-05T14:32:03.125230Z",
     "shell.execute_reply": "2025-08-05T14:32:03.124402Z"
    },
    "papermill": {
     "duration": 0.021045,
     "end_time": "2025-08-05T14:32:03.126608",
     "exception": false,
     "start_time": "2025-08-05T14:32:03.105563",
     "status": "completed"
    },
    "tags": []
   },
   "outputs": [],
   "source": [
    "y_calib = y_calib.values.ravel().astype(int)"
   ]
  },
  {
   "cell_type": "code",
   "execution_count": 50,
   "id": "65d1320d-f588-4b38-9072-62af1ae97f7d",
   "metadata": {
    "execution": {
     "iopub.execute_input": "2025-08-05T14:32:03.180973Z",
     "iopub.status.busy": "2025-08-05T14:32:03.180469Z",
     "iopub.status.idle": "2025-08-05T14:32:03.188042Z",
     "shell.execute_reply": "2025-08-05T14:32:03.186919Z"
    },
    "papermill": {
     "duration": 0.038081,
     "end_time": "2025-08-05T14:32:03.189936",
     "exception": false,
     "start_time": "2025-08-05T14:32:03.151855",
     "status": "completed"
    },
    "tags": []
   },
   "outputs": [],
   "source": [
    "from fairness_multiverse.conformal import compute_nc_scores\n",
    "\n",
    "# Compute nonconformity scores on calibration set (1 - probability of true class)\n",
    "nc_scores = compute_nc_scores(probs_calib, y_calib)"
   ]
  },
  {
   "cell_type": "code",
   "execution_count": 51,
   "id": "df3b8ca3-53b7-43d5-9667-7c85da7aeda2",
   "metadata": {
    "execution": {
     "iopub.execute_input": "2025-08-05T14:32:03.257445Z",
     "iopub.status.busy": "2025-08-05T14:32:03.256350Z",
     "iopub.status.idle": "2025-08-05T14:32:03.266660Z",
     "shell.execute_reply": "2025-08-05T14:32:03.264974Z"
    },
    "papermill": {
     "duration": 0.049197,
     "end_time": "2025-08-05T14:32:03.269337",
     "exception": false,
     "start_time": "2025-08-05T14:32:03.220140",
     "status": "completed"
    },
    "tags": []
   },
   "outputs": [],
   "source": [
    "from fairness_multiverse.conformal import find_threshold\n",
    "\n",
    "# Find conformal threshold q_hat for the given alpha (split conformal method)\n",
    "q_hat = find_threshold(nc_scores, alpha)"
   ]
  },
  {
   "cell_type": "code",
   "execution_count": 52,
   "id": "4d29e6c1-0ef6-4aa4-b8fe-4fe79b0d033a",
   "metadata": {
    "execution": {
     "iopub.execute_input": "2025-08-05T14:32:03.345775Z",
     "iopub.status.busy": "2025-08-05T14:32:03.345081Z",
     "iopub.status.idle": "2025-08-05T14:32:03.355250Z",
     "shell.execute_reply": "2025-08-05T14:32:03.353931Z"
    },
    "papermill": {
     "duration": 0.055586,
     "end_time": "2025-08-05T14:32:03.357620",
     "exception": false,
     "start_time": "2025-08-05T14:32:03.302034",
     "status": "completed"
    },
    "tags": []
   },
   "outputs": [
    {
     "data": {
      "text/plain": [
       "0.6759468813528681"
      ]
     },
     "execution_count": 52,
     "metadata": {},
     "output_type": "execute_result"
    }
   ],
   "source": [
    "q_hat"
   ]
  },
  {
   "cell_type": "code",
   "execution_count": 53,
   "id": "92460794-cdac-4be2-ba28-f28c0515a6fb",
   "metadata": {
    "execution": {
     "iopub.execute_input": "2025-08-05T14:32:03.419684Z",
     "iopub.status.busy": "2025-08-05T14:32:03.419022Z",
     "iopub.status.idle": "2025-08-05T14:32:04.138222Z",
     "shell.execute_reply": "2025-08-05T14:32:04.137138Z"
    },
    "papermill": {
     "duration": 0.750368,
     "end_time": "2025-08-05T14:32:04.140537",
     "exception": false,
     "start_time": "2025-08-05T14:32:03.390169",
     "status": "completed"
    },
    "tags": []
   },
   "outputs": [],
   "source": [
    "from fairness_multiverse.conformal import predict_conformal_sets\n",
    "\n",
    "# Generate prediction sets for each test example\n",
    "pred_sets = predict_conformal_sets(model, X_test, q_hat)"
   ]
  },
  {
   "cell_type": "code",
   "execution_count": 54,
   "id": "d90c9a65-e6db-4f5d-80cd-e68fb7e46829",
   "metadata": {
    "execution": {
     "iopub.execute_input": "2025-08-05T14:32:04.177280Z",
     "iopub.status.busy": "2025-08-05T14:32:04.176852Z",
     "iopub.status.idle": "2025-08-05T14:32:04.181705Z",
     "shell.execute_reply": "2025-08-05T14:32:04.180890Z"
    },
    "papermill": {
     "duration": 0.020338,
     "end_time": "2025-08-05T14:32:04.183029",
     "exception": false,
     "start_time": "2025-08-05T14:32:04.162691",
     "status": "completed"
    },
    "tags": []
   },
   "outputs": [],
   "source": [
    "y_true = y_true.squeeze()"
   ]
  },
  {
   "cell_type": "code",
   "execution_count": 55,
   "id": "3a58a54a-1e68-46b9-927a-df01f18aebc8",
   "metadata": {
    "execution": {
     "iopub.execute_input": "2025-08-05T14:32:04.242976Z",
     "iopub.status.busy": "2025-08-05T14:32:04.242452Z",
     "iopub.status.idle": "2025-08-05T14:32:05.005665Z",
     "shell.execute_reply": "2025-08-05T14:32:05.004911Z"
    },
    "papermill": {
     "duration": 0.800209,
     "end_time": "2025-08-05T14:32:05.007481",
     "exception": false,
     "start_time": "2025-08-05T14:32:04.207272",
     "status": "completed"
    },
    "tags": []
   },
   "outputs": [],
   "source": [
    "from fairness_multiverse.conformal import evaluate_sets\n",
    "\n",
    "# Evaluate coverage and average set size on test data\n",
    "metrics = evaluate_sets(pred_sets, y_true)"
   ]
  },
  {
   "cell_type": "markdown",
   "id": "2b569c12-9aaa-4c88-98c9-bbcd0cf3ebb8",
   "metadata": {
    "papermill": {
     "duration": 0.029197,
     "end_time": "2025-08-05T14:32:05.062455",
     "exception": false,
     "start_time": "2025-08-05T14:32:05.033258",
     "status": "completed"
    },
    "tags": []
   },
   "source": [
    "# CP Metrics"
   ]
  },
  {
   "cell_type": "code",
   "execution_count": 56,
   "id": "5ce0a5cb-201f-45a0-ade5-94c7f0bd6095",
   "metadata": {
    "execution": {
     "iopub.execute_input": "2025-08-05T14:32:05.117556Z",
     "iopub.status.busy": "2025-08-05T14:32:05.116662Z",
     "iopub.status.idle": "2025-08-05T14:32:05.124301Z",
     "shell.execute_reply": "2025-08-05T14:32:05.123163Z"
    },
    "papermill": {
     "duration": 0.035883,
     "end_time": "2025-08-05T14:32:05.126111",
     "exception": false,
     "start_time": "2025-08-05T14:32:05.090228",
     "status": "completed"
    },
    "tags": []
   },
   "outputs": [
    {
     "data": {
      "text/plain": [
       "{'coverage': 0.912573849069223, 'avg_size': 1.1256493144576971}"
      ]
     },
     "execution_count": 56,
     "metadata": {},
     "output_type": "execute_result"
    }
   ],
   "source": [
    "metrics"
   ]
  },
  {
   "cell_type": "code",
   "execution_count": 57,
   "id": "9b9a838d-31c9-430b-ae14-12baee460d17",
   "metadata": {
    "execution": {
     "iopub.execute_input": "2025-08-05T14:32:05.175672Z",
     "iopub.status.busy": "2025-08-05T14:32:05.175051Z",
     "iopub.status.idle": "2025-08-05T14:32:05.181665Z",
     "shell.execute_reply": "2025-08-05T14:32:05.180555Z"
    },
    "papermill": {
     "duration": 0.034321,
     "end_time": "2025-08-05T14:32:05.183393",
     "exception": false,
     "start_time": "2025-08-05T14:32:05.149072",
     "status": "completed"
    },
    "tags": []
   },
   "outputs": [],
   "source": [
    "example_universe = universe.copy()\n",
    "universe_training_year = example_universe.get(\"training_year\")\n",
    "universe_training_size = example_universe.get(\"training_size\")\n",
    "universe_scale = example_universe.get(\"scale\")\n",
    "universe_model = example_universe.get(\"model\")\n",
    "universe_exclude_features = example_universe.get(\"exclude_features\")\n",
    "universe_exclude_subgroups = example_universe.get(\"exclude_subgroups\")"
   ]
  },
  {
   "cell_type": "code",
   "execution_count": 58,
   "id": "f4b6a8ac-9dc0-4245-8a91-5b3b5999c4f9",
   "metadata": {
    "execution": {
     "iopub.execute_input": "2025-08-05T14:32:05.237671Z",
     "iopub.status.busy": "2025-08-05T14:32:05.237330Z",
     "iopub.status.idle": "2025-08-05T14:32:05.243300Z",
     "shell.execute_reply": "2025-08-05T14:32:05.242321Z"
    },
    "papermill": {
     "duration": 0.035184,
     "end_time": "2025-08-05T14:32:05.245224",
     "exception": false,
     "start_time": "2025-08-05T14:32:05.210040",
     "status": "completed"
    },
    "tags": []
   },
   "outputs": [],
   "source": [
    "cp_metrics_dict = {\n",
    "    \"universe_id\": [universe_id],\n",
    "    \"universe_training_year\": [universe_training_year],\n",
    "    \"universe_training_size\": [universe_training_size],\n",
    "    \"universe_scale\": [universe_scale],\n",
    "    \"universe_model\": [universe_model],\n",
    "    \"universe_exclude_features\": [universe_exclude_features],\n",
    "    \"universe_exclude_subgroups\": [universe_exclude_subgroups],\n",
    "    \"q_hat\": [q_hat],\n",
    "    \"coverage\": [metrics[\"coverage\"]],\n",
    "    \"avg_size\": [metrics[\"avg_size\"]],\n",
    "}"
   ]
  },
  {
   "cell_type": "code",
   "execution_count": 59,
   "id": "908acbb1-0371-4915-85ca-3fa520d2efe2",
   "metadata": {
    "execution": {
     "iopub.execute_input": "2025-08-05T14:32:05.299558Z",
     "iopub.status.busy": "2025-08-05T14:32:05.299194Z",
     "iopub.status.idle": "2025-08-05T14:32:05.306772Z",
     "shell.execute_reply": "2025-08-05T14:32:05.305667Z"
    },
    "papermill": {
     "duration": 0.036758,
     "end_time": "2025-08-05T14:32:05.308525",
     "exception": false,
     "start_time": "2025-08-05T14:32:05.271767",
     "status": "completed"
    },
    "tags": []
   },
   "outputs": [
    {
     "data": {
      "text/plain": [
       "{'universe_id': ['ac4a026ca93e0a6b44769bdecedc7849'],\n",
       " 'universe_training_year': ['2014'],\n",
       " 'universe_training_size': ['25k'],\n",
       " 'universe_scale': ['scale'],\n",
       " 'universe_model': ['logreg'],\n",
       " 'universe_exclude_features': ['sex'],\n",
       " 'universe_exclude_subgroups': ['keep-all'],\n",
       " 'q_hat': [0.6759468813528681],\n",
       " 'coverage': [0.912573849069223],\n",
       " 'avg_size': [1.1256493144576971]}"
      ]
     },
     "execution_count": 59,
     "metadata": {},
     "output_type": "execute_result"
    }
   ],
   "source": [
    "cp_metrics_dict"
   ]
  },
  {
   "cell_type": "code",
   "execution_count": 60,
   "id": "33007efc-14e9-4ec6-97ac-56a455c82265",
   "metadata": {
    "execution": {
     "iopub.execute_input": "2025-08-05T14:32:05.362033Z",
     "iopub.status.busy": "2025-08-05T14:32:05.361537Z",
     "iopub.status.idle": "2025-08-05T14:32:05.367637Z",
     "shell.execute_reply": "2025-08-05T14:32:05.366488Z"
    },
    "papermill": {
     "duration": 0.034261,
     "end_time": "2025-08-05T14:32:05.369338",
     "exception": false,
     "start_time": "2025-08-05T14:32:05.335077",
     "status": "completed"
    },
    "tags": []
   },
   "outputs": [],
   "source": [
    "cp_metrics_df = pd.DataFrame(cp_metrics_dict)"
   ]
  },
  {
   "cell_type": "code",
   "execution_count": 61,
   "id": "db12611b-57b2-4910-b9d0-355adfd6e7bf",
   "metadata": {
    "execution": {
     "iopub.execute_input": "2025-08-05T14:32:05.424887Z",
     "iopub.status.busy": "2025-08-05T14:32:05.424067Z",
     "iopub.status.idle": "2025-08-05T14:32:05.443043Z",
     "shell.execute_reply": "2025-08-05T14:32:05.442017Z"
    },
    "papermill": {
     "duration": 0.04864,
     "end_time": "2025-08-05T14:32:05.444659",
     "exception": false,
     "start_time": "2025-08-05T14:32:05.396019",
     "status": "completed"
    },
    "tags": []
   },
   "outputs": [
    {
     "data": {
      "text/html": [
       "<div>\n",
       "<style scoped>\n",
       "    .dataframe tbody tr th:only-of-type {\n",
       "        vertical-align: middle;\n",
       "    }\n",
       "\n",
       "    .dataframe tbody tr th {\n",
       "        vertical-align: top;\n",
       "    }\n",
       "\n",
       "    .dataframe thead th {\n",
       "        text-align: right;\n",
       "    }\n",
       "</style>\n",
       "<table border=\"1\" class=\"dataframe\">\n",
       "  <thead>\n",
       "    <tr style=\"text-align: right;\">\n",
       "      <th></th>\n",
       "      <th>universe_id</th>\n",
       "      <th>universe_training_year</th>\n",
       "      <th>universe_training_size</th>\n",
       "      <th>universe_scale</th>\n",
       "      <th>universe_model</th>\n",
       "      <th>universe_exclude_features</th>\n",
       "      <th>universe_exclude_subgroups</th>\n",
       "      <th>q_hat</th>\n",
       "      <th>coverage</th>\n",
       "      <th>avg_size</th>\n",
       "    </tr>\n",
       "  </thead>\n",
       "  <tbody>\n",
       "    <tr>\n",
       "      <th>0</th>\n",
       "      <td>ac4a026ca93e0a6b44769bdecedc7849</td>\n",
       "      <td>2014</td>\n",
       "      <td>25k</td>\n",
       "      <td>scale</td>\n",
       "      <td>logreg</td>\n",
       "      <td>sex</td>\n",
       "      <td>keep-all</td>\n",
       "      <td>0.675947</td>\n",
       "      <td>0.912574</td>\n",
       "      <td>1.125649</td>\n",
       "    </tr>\n",
       "  </tbody>\n",
       "</table>\n",
       "</div>"
      ],
      "text/plain": [
       "                        universe_id universe_training_year  \\\n",
       "0  ac4a026ca93e0a6b44769bdecedc7849                   2014   \n",
       "\n",
       "  universe_training_size universe_scale universe_model  \\\n",
       "0                    25k          scale         logreg   \n",
       "\n",
       "  universe_exclude_features universe_exclude_subgroups     q_hat  coverage  \\\n",
       "0                       sex                   keep-all  0.675947  0.912574   \n",
       "\n",
       "   avg_size  \n",
       "0  1.125649  "
      ]
     },
     "execution_count": 61,
     "metadata": {},
     "output_type": "execute_result"
    }
   ],
   "source": [
    "cp_metrics_df"
   ]
  },
  {
   "cell_type": "code",
   "execution_count": 62,
   "id": "b7fbde55-a0a1-47e4-9af6-fe4a17fa8c61",
   "metadata": {
    "execution": {
     "iopub.execute_input": "2025-08-05T14:32:05.503192Z",
     "iopub.status.busy": "2025-08-05T14:32:05.502486Z",
     "iopub.status.idle": "2025-08-05T14:32:05.507979Z",
     "shell.execute_reply": "2025-08-05T14:32:05.506944Z"
    },
    "papermill": {
     "duration": 0.036632,
     "end_time": "2025-08-05T14:32:05.510101",
     "exception": false,
     "start_time": "2025-08-05T14:32:05.473469",
     "status": "completed"
    },
    "tags": []
   },
   "outputs": [],
   "source": [
    "# Conditional Coverage & looking at subgroups"
   ]
  },
  {
   "cell_type": "code",
   "execution_count": 63,
   "id": "027ae886-68dd-4141-96c7-805a5450e1ef",
   "metadata": {
    "execution": {
     "iopub.execute_input": "2025-08-05T14:32:05.567308Z",
     "iopub.status.busy": "2025-08-05T14:32:05.566386Z",
     "iopub.status.idle": "2025-08-05T14:32:05.736604Z",
     "shell.execute_reply": "2025-08-05T14:32:05.735895Z"
    },
    "papermill": {
     "duration": 0.200301,
     "end_time": "2025-08-05T14:32:05.738518",
     "exception": false,
     "start_time": "2025-08-05T14:32:05.538217",
     "status": "completed"
    },
    "tags": []
   },
   "outputs": [],
   "source": [
    "from fairness_multiverse.conformal import build_cp_groups\n",
    "\n",
    "cp_groups_df = build_cp_groups(pred_sets, y_true, X_test.index, org_test)\n",
    "#needs universe_id and setting"
   ]
  },
  {
   "cell_type": "code",
   "execution_count": 64,
   "id": "01d5802c-663a-4d1f-9d69-e036faaffbf7",
   "metadata": {
    "execution": {
     "iopub.execute_input": "2025-08-05T14:32:05.776002Z",
     "iopub.status.busy": "2025-08-05T14:32:05.775588Z",
     "iopub.status.idle": "2025-08-05T14:32:05.780215Z",
     "shell.execute_reply": "2025-08-05T14:32:05.779485Z"
    },
    "papermill": {
     "duration": 0.02124,
     "end_time": "2025-08-05T14:32:05.781910",
     "exception": false,
     "start_time": "2025-08-05T14:32:05.760670",
     "status": "completed"
    },
    "tags": []
   },
   "outputs": [],
   "source": [
    "#delete\n",
    "#cp_groups_df"
   ]
  },
  {
   "cell_type": "code",
   "execution_count": 65,
   "id": "fa424af1-d1eb-443d-b717-2d279ada8408",
   "metadata": {
    "execution": {
     "iopub.execute_input": "2025-08-05T14:32:05.810976Z",
     "iopub.status.busy": "2025-08-05T14:32:05.810625Z",
     "iopub.status.idle": "2025-08-05T14:32:05.815477Z",
     "shell.execute_reply": "2025-08-05T14:32:05.814407Z"
    },
    "papermill": {
     "duration": 0.021723,
     "end_time": "2025-08-05T14:32:05.817257",
     "exception": false,
     "start_time": "2025-08-05T14:32:05.795534",
     "status": "completed"
    },
    "tags": []
   },
   "outputs": [],
   "source": [
    "#delete\n",
    "#percentage = (cp_groups_df['nongerman_female'] == 1).mean() * 100\n",
    "#print(percentage)\n"
   ]
  },
  {
   "cell_type": "code",
   "execution_count": 66,
   "id": "6cbdab96-b2b2-45af-ad54-d0516db2e28d",
   "metadata": {
    "execution": {
     "iopub.execute_input": "2025-08-05T14:32:05.875299Z",
     "iopub.status.busy": "2025-08-05T14:32:05.874512Z",
     "iopub.status.idle": "2025-08-05T14:32:07.131707Z",
     "shell.execute_reply": "2025-08-05T14:32:07.130702Z"
    },
    "papermill": {
     "duration": 1.287937,
     "end_time": "2025-08-05T14:32:07.133665",
     "exception": false,
     "start_time": "2025-08-05T14:32:05.845728",
     "status": "completed"
    },
    "tags": []
   },
   "outputs": [],
   "source": [
    "# Define covered = 1 if true_label is in the predicted set\n",
    "cp_groups_df['covered'] = cp_groups_df.apply(\n",
    "    lambda r: int(r['true_label'] in r['pred_set']),\n",
    "    axis=1\n",
    ")"
   ]
  },
  {
   "cell_type": "code",
   "execution_count": 67,
   "id": "338ff529-1a6b-4b87-a931-8e4788d52aad",
   "metadata": {
    "execution": {
     "iopub.execute_input": "2025-08-05T14:32:07.171817Z",
     "iopub.status.busy": "2025-08-05T14:32:07.171471Z",
     "iopub.status.idle": "2025-08-05T14:32:07.176001Z",
     "shell.execute_reply": "2025-08-05T14:32:07.175052Z"
    },
    "papermill": {
     "duration": 0.025892,
     "end_time": "2025-08-05T14:32:07.178230",
     "exception": false,
     "start_time": "2025-08-05T14:32:07.152338",
     "status": "completed"
    },
    "tags": []
   },
   "outputs": [],
   "source": [
    "#cp_groups_df"
   ]
  },
  {
   "cell_type": "code",
   "execution_count": 68,
   "id": "90032e27-66df-4540-9169-4e89cfbaa758",
   "metadata": {
    "execution": {
     "iopub.execute_input": "2025-08-05T14:32:07.207659Z",
     "iopub.status.busy": "2025-08-05T14:32:07.207432Z",
     "iopub.status.idle": "2025-08-05T14:32:07.215495Z",
     "shell.execute_reply": "2025-08-05T14:32:07.214666Z"
    },
    "papermill": {
     "duration": 0.025493,
     "end_time": "2025-08-05T14:32:07.216727",
     "exception": false,
     "start_time": "2025-08-05T14:32:07.191234",
     "status": "completed"
    },
    "tags": []
   },
   "outputs": [],
   "source": [
    "subgroups = ['frau1','nongerman','nongerman_male','nongerman_female']\n",
    "\n",
    "# Conditional coverage for subgroup==1\n",
    "cond_coverage = {\n",
    "    g: cp_groups_df.loc[cp_groups_df[g]==1, 'covered'].mean()\n",
    "    for g in subgroups\n",
    "}"
   ]
  },
  {
   "cell_type": "code",
   "execution_count": 69,
   "id": "1e348fb1-b9c3-45bc-ba23-f016827a7e0d",
   "metadata": {
    "execution": {
     "iopub.execute_input": "2025-08-05T14:32:07.246098Z",
     "iopub.status.busy": "2025-08-05T14:32:07.245459Z",
     "iopub.status.idle": "2025-08-05T14:32:07.251806Z",
     "shell.execute_reply": "2025-08-05T14:32:07.250886Z"
    },
    "papermill": {
     "duration": 0.02357,
     "end_time": "2025-08-05T14:32:07.253294",
     "exception": false,
     "start_time": "2025-08-05T14:32:07.229724",
     "status": "completed"
    },
    "tags": []
   },
   "outputs": [
    {
     "data": {
      "text/plain": [
       "{'frau1': 0.9124949454104326,\n",
       " 'nongerman': 0.9129287598944591,\n",
       " 'nongerman_male': 0.927316941367198,\n",
       " 'nongerman_female': 0.8891207153502235}"
      ]
     },
     "execution_count": 69,
     "metadata": {},
     "output_type": "execute_result"
    }
   ],
   "source": [
    "cond_coverage"
   ]
  },
  {
   "cell_type": "code",
   "execution_count": 70,
   "id": "f5093324-c3dd-4d63-bc4c-8d945e5c8bbb",
   "metadata": {
    "execution": {
     "iopub.execute_input": "2025-08-05T14:32:07.288414Z",
     "iopub.status.busy": "2025-08-05T14:32:07.288195Z",
     "iopub.status.idle": "2025-08-05T14:32:07.293190Z",
     "shell.execute_reply": "2025-08-05T14:32:07.292428Z"
    },
    "papermill": {
     "duration": 0.027758,
     "end_time": "2025-08-05T14:32:07.294657",
     "exception": false,
     "start_time": "2025-08-05T14:32:07.266899",
     "status": "completed"
    },
    "tags": []
   },
   "outputs": [],
   "source": [
    "for subgroup, cov in cond_coverage.items():\n",
    "    cp_metrics_df[f\"cov_{subgroup}\"] = cov"
   ]
  },
  {
   "cell_type": "code",
   "execution_count": 71,
   "id": "6e872e10-dbe5-49e8-b554-5030c98ff75d",
   "metadata": {
    "execution": {
     "iopub.execute_input": "2025-08-05T14:32:07.323304Z",
     "iopub.status.busy": "2025-08-05T14:32:07.322878Z",
     "iopub.status.idle": "2025-08-05T14:32:07.337478Z",
     "shell.execute_reply": "2025-08-05T14:32:07.336556Z"
    },
    "papermill": {
     "duration": 0.031051,
     "end_time": "2025-08-05T14:32:07.339235",
     "exception": false,
     "start_time": "2025-08-05T14:32:07.308184",
     "status": "completed"
    },
    "tags": []
   },
   "outputs": [
    {
     "data": {
      "text/html": [
       "<div>\n",
       "<style scoped>\n",
       "    .dataframe tbody tr th:only-of-type {\n",
       "        vertical-align: middle;\n",
       "    }\n",
       "\n",
       "    .dataframe tbody tr th {\n",
       "        vertical-align: top;\n",
       "    }\n",
       "\n",
       "    .dataframe thead th {\n",
       "        text-align: right;\n",
       "    }\n",
       "</style>\n",
       "<table border=\"1\" class=\"dataframe\">\n",
       "  <thead>\n",
       "    <tr style=\"text-align: right;\">\n",
       "      <th></th>\n",
       "      <th>universe_id</th>\n",
       "      <th>universe_training_year</th>\n",
       "      <th>universe_training_size</th>\n",
       "      <th>universe_scale</th>\n",
       "      <th>universe_model</th>\n",
       "      <th>universe_exclude_features</th>\n",
       "      <th>universe_exclude_subgroups</th>\n",
       "      <th>q_hat</th>\n",
       "      <th>coverage</th>\n",
       "      <th>avg_size</th>\n",
       "      <th>cov_frau1</th>\n",
       "      <th>cov_nongerman</th>\n",
       "      <th>cov_nongerman_male</th>\n",
       "      <th>cov_nongerman_female</th>\n",
       "    </tr>\n",
       "  </thead>\n",
       "  <tbody>\n",
       "    <tr>\n",
       "      <th>0</th>\n",
       "      <td>ac4a026ca93e0a6b44769bdecedc7849</td>\n",
       "      <td>2014</td>\n",
       "      <td>25k</td>\n",
       "      <td>scale</td>\n",
       "      <td>logreg</td>\n",
       "      <td>sex</td>\n",
       "      <td>keep-all</td>\n",
       "      <td>0.675947</td>\n",
       "      <td>0.912574</td>\n",
       "      <td>1.125649</td>\n",
       "      <td>0.912495</td>\n",
       "      <td>0.912929</td>\n",
       "      <td>0.927317</td>\n",
       "      <td>0.889121</td>\n",
       "    </tr>\n",
       "  </tbody>\n",
       "</table>\n",
       "</div>"
      ],
      "text/plain": [
       "                        universe_id universe_training_year  \\\n",
       "0  ac4a026ca93e0a6b44769bdecedc7849                   2014   \n",
       "\n",
       "  universe_training_size universe_scale universe_model  \\\n",
       "0                    25k          scale         logreg   \n",
       "\n",
       "  universe_exclude_features universe_exclude_subgroups     q_hat  coverage  \\\n",
       "0                       sex                   keep-all  0.675947  0.912574   \n",
       "\n",
       "   avg_size  cov_frau1  cov_nongerman  cov_nongerman_male  \\\n",
       "0  1.125649   0.912495       0.912929            0.927317   \n",
       "\n",
       "   cov_nongerman_female  \n",
       "0              0.889121  "
      ]
     },
     "execution_count": 71,
     "metadata": {},
     "output_type": "execute_result"
    }
   ],
   "source": [
    "cp_metrics_df"
   ]
  },
  {
   "cell_type": "markdown",
   "id": "33774451",
   "metadata": {
    "papermill": {
     "duration": 0.013587,
     "end_time": "2025-08-05T14:32:07.377409",
     "exception": false,
     "start_time": "2025-08-05T14:32:07.363822",
     "status": "completed"
    },
    "tags": []
   },
   "source": [
    "# (Fairness) Metrics"
   ]
  },
  {
   "cell_type": "code",
   "execution_count": 72,
   "id": "debc5d62",
   "metadata": {
    "execution": {
     "iopub.execute_input": "2025-08-05T14:32:07.415224Z",
     "iopub.status.busy": "2025-08-05T14:32:07.414948Z",
     "iopub.status.idle": "2025-08-05T14:32:07.427854Z",
     "shell.execute_reply": "2025-08-05T14:32:07.427138Z"
    },
    "papermill": {
     "duration": 0.037156,
     "end_time": "2025-08-05T14:32:07.429098",
     "exception": false,
     "start_time": "2025-08-05T14:32:07.391942",
     "status": "completed"
    },
    "tags": []
   },
   "outputs": [],
   "source": [
    "# do I need to include maxdeutsch1.missing?\n",
    "\n",
    "import numpy as np\n",
    "\n",
    "colname_to_bin = \"maxdeutsch1\"\n",
    "majority_value = org_train[colname_to_bin].mode()[0]\n",
    "\n",
    "org_test[\"majmin\"] = np.where(org_test[colname_to_bin] == majority_value, \"majority\", \"minority\")"
   ]
  },
  {
   "cell_type": "code",
   "execution_count": 73,
   "id": "06a50de5",
   "metadata": {
    "execution": {
     "iopub.execute_input": "2025-08-05T14:32:07.468942Z",
     "iopub.status.busy": "2025-08-05T14:32:07.468637Z",
     "iopub.status.idle": "2025-08-05T14:32:09.899990Z",
     "shell.execute_reply": "2025-08-05T14:32:09.899273Z"
    },
    "papermill": {
     "duration": 2.458414,
     "end_time": "2025-08-05T14:32:09.901332",
     "exception": false,
     "start_time": "2025-08-05T14:32:07.442918",
     "status": "completed"
    },
    "tags": []
   },
   "outputs": [],
   "source": [
    "example_universe = universe.copy()\n",
    "example_universe[\"cutoff\"] = example_universe[\"cutoff\"][0]\n",
    "example_universe[\"eval_fairness_grouping\"] = example_universe[\"eval_fairness_grouping\"][0]\n",
    "fairness_dict, metric_frame = universe_analysis.compute_metrics(\n",
    "    example_universe,\n",
    "    y_pred_prob=probs_test,\n",
    "    y_test=y_true,\n",
    "    org_test=org_test,\n",
    ")"
   ]
  },
  {
   "cell_type": "markdown",
   "id": "f95d4e02",
   "metadata": {
    "papermill": {
     "duration": 0.013373,
     "end_time": "2025-08-05T14:32:09.931024",
     "exception": false,
     "start_time": "2025-08-05T14:32:09.917651",
     "status": "completed"
    },
    "tags": []
   },
   "source": [
    "# Overall"
   ]
  },
  {
   "cell_type": "markdown",
   "id": "bdee4871",
   "metadata": {
    "papermill": {
     "duration": 0.013594,
     "end_time": "2025-08-05T14:32:09.957677",
     "exception": false,
     "start_time": "2025-08-05T14:32:09.944083",
     "status": "completed"
    },
    "tags": []
   },
   "source": [
    "Fairness\n",
    "Main fairness target: Equalized Odds. Seems to be a better fit than equal opportunity, since we're not only interested in Y = 1. Seems to be a better fit than demographic parity, since we also care about accuracy, not just equal distribution of preds.\n",
    "\n",
    "Pick column for computation of fairness metrics\n",
    "\n",
    "Performance\n",
    "Overall performance measures, most interesting in relation to the measures split by group below"
   ]
  },
  {
   "cell_type": "code",
   "execution_count": 74,
   "id": "c4e067c6",
   "metadata": {
    "execution": {
     "iopub.execute_input": "2025-08-05T14:32:10.012456Z",
     "iopub.status.busy": "2025-08-05T14:32:10.012029Z",
     "iopub.status.idle": "2025-08-05T14:32:10.023262Z",
     "shell.execute_reply": "2025-08-05T14:32:10.019843Z"
    },
    "papermill": {
     "duration": 0.042325,
     "end_time": "2025-08-05T14:32:10.026462",
     "exception": false,
     "start_time": "2025-08-05T14:32:09.984137",
     "status": "completed"
    },
    "tags": []
   },
   "outputs": [
    {
     "data": {
      "text/plain": [
       "accuracy                   0.225516\n",
       "balanced accuracy          0.551177\n",
       "f1                         0.246816\n",
       "precision                  0.140998\n",
       "false positive rate        0.886870\n",
       "false negative rate        0.010775\n",
       "selection rate             0.900000\n",
       "count                  89710.000000\n",
       "dtype: float64"
      ]
     },
     "execution_count": 74,
     "metadata": {},
     "output_type": "execute_result"
    }
   ],
   "source": [
    "metric_frame.overall"
   ]
  },
  {
   "cell_type": "markdown",
   "id": "e968fe9d",
   "metadata": {
    "papermill": {
     "duration": 0.01393,
     "end_time": "2025-08-05T14:32:10.055405",
     "exception": false,
     "start_time": "2025-08-05T14:32:10.041475",
     "status": "completed"
    },
    "tags": []
   },
   "source": [
    "By Group"
   ]
  },
  {
   "cell_type": "code",
   "execution_count": 75,
   "id": "ec325bce",
   "metadata": {
    "execution": {
     "iopub.execute_input": "2025-08-05T14:32:10.084167Z",
     "iopub.status.busy": "2025-08-05T14:32:10.083822Z",
     "iopub.status.idle": "2025-08-05T14:32:10.096222Z",
     "shell.execute_reply": "2025-08-05T14:32:10.095457Z"
    },
    "papermill": {
     "duration": 0.028486,
     "end_time": "2025-08-05T14:32:10.097727",
     "exception": false,
     "start_time": "2025-08-05T14:32:10.069241",
     "status": "completed"
    },
    "tags": []
   },
   "outputs": [
    {
     "data": {
      "text/html": [
       "<div>\n",
       "<style scoped>\n",
       "    .dataframe tbody tr th:only-of-type {\n",
       "        vertical-align: middle;\n",
       "    }\n",
       "\n",
       "    .dataframe tbody tr th {\n",
       "        vertical-align: top;\n",
       "    }\n",
       "\n",
       "    .dataframe thead th {\n",
       "        text-align: right;\n",
       "    }\n",
       "</style>\n",
       "<table border=\"1\" class=\"dataframe\">\n",
       "  <thead>\n",
       "    <tr style=\"text-align: right;\">\n",
       "      <th></th>\n",
       "      <th>accuracy</th>\n",
       "      <th>balanced accuracy</th>\n",
       "      <th>f1</th>\n",
       "      <th>precision</th>\n",
       "      <th>false positive rate</th>\n",
       "      <th>false negative rate</th>\n",
       "      <th>selection rate</th>\n",
       "      <th>count</th>\n",
       "    </tr>\n",
       "    <tr>\n",
       "      <th>majmin</th>\n",
       "      <th></th>\n",
       "      <th></th>\n",
       "      <th></th>\n",
       "      <th></th>\n",
       "      <th></th>\n",
       "      <th></th>\n",
       "      <th></th>\n",
       "      <th></th>\n",
       "    </tr>\n",
       "  </thead>\n",
       "  <tbody>\n",
       "    <tr>\n",
       "      <th>majority</th>\n",
       "      <td>0.247564</td>\n",
       "      <td>0.561352</td>\n",
       "      <td>0.257589</td>\n",
       "      <td>0.148104</td>\n",
       "      <td>0.865151</td>\n",
       "      <td>0.012144</td>\n",
       "      <td>0.881365</td>\n",
       "      <td>69170.0</td>\n",
       "    </tr>\n",
       "    <tr>\n",
       "      <th>minority</th>\n",
       "      <td>0.151266</td>\n",
       "      <td>0.517946</td>\n",
       "      <td>0.212708</td>\n",
       "      <td>0.119090</td>\n",
       "      <td>0.958618</td>\n",
       "      <td>0.005490</td>\n",
       "      <td>0.962756</td>\n",
       "      <td>20540.0</td>\n",
       "    </tr>\n",
       "  </tbody>\n",
       "</table>\n",
       "</div>"
      ],
      "text/plain": [
       "          accuracy  balanced accuracy        f1  precision  \\\n",
       "majmin                                                       \n",
       "majority  0.247564           0.561352  0.257589   0.148104   \n",
       "minority  0.151266           0.517946  0.212708   0.119090   \n",
       "\n",
       "          false positive rate  false negative rate  selection rate    count  \n",
       "majmin                                                                       \n",
       "majority             0.865151             0.012144        0.881365  69170.0  \n",
       "minority             0.958618             0.005490        0.962756  20540.0  "
      ]
     },
     "execution_count": 75,
     "metadata": {},
     "output_type": "execute_result"
    }
   ],
   "source": [
    "metric_frame.by_group"
   ]
  },
  {
   "cell_type": "code",
   "execution_count": 76,
   "id": "a9ddbe63",
   "metadata": {
    "execution": {
     "iopub.execute_input": "2025-08-05T14:32:10.127974Z",
     "iopub.status.busy": "2025-08-05T14:32:10.127305Z",
     "iopub.status.idle": "2025-08-05T14:32:11.773632Z",
     "shell.execute_reply": "2025-08-05T14:32:11.772925Z"
    },
    "papermill": {
     "duration": 1.662204,
     "end_time": "2025-08-05T14:32:11.775052",
     "exception": false,
     "start_time": "2025-08-05T14:32:10.112848",
     "status": "completed"
    },
    "tags": []
   },
   "outputs": [
    {
     "data": {
      "text/plain": [
       "array([[<Axes: title={'center': 'accuracy'}, xlabel='majmin'>,\n",
       "        <Axes: title={'center': 'balanced accuracy'}, xlabel='majmin'>,\n",
       "        <Axes: title={'center': 'f1'}, xlabel='majmin'>],\n",
       "       [<Axes: title={'center': 'precision'}, xlabel='majmin'>,\n",
       "        <Axes: title={'center': 'false positive rate'}, xlabel='majmin'>,\n",
       "        <Axes: title={'center': 'false negative rate'}, xlabel='majmin'>],\n",
       "       [<Axes: title={'center': 'selection rate'}, xlabel='majmin'>,\n",
       "        <Axes: title={'center': 'count'}, xlabel='majmin'>,\n",
       "        <Axes: xlabel='majmin'>]], dtype=object)"
      ]
     },
     "execution_count": 76,
     "metadata": {},
     "output_type": "execute_result"
    },
    {
     "data": {
      "image/png": "[encoded data removed]",
      "text/plain": [
       "<Figure size 1200x800 with 9 Axes>"
      ]
     },
     "metadata": {},
     "output_type": "display_data"
    }
   ],
   "source": [
    "# In a graphic\n",
    "metric_frame.by_group.plot.bar(\n",
    "    subplots=True,\n",
    "    layout=[3, 3],\n",
    "    legend=False,\n",
    "    figsize=[12, 8],\n",
    "    title=\"Show all metrics\",\n",
    ")"
   ]
  },
  {
   "cell_type": "markdown",
   "id": "f57a0bac",
   "metadata": {
    "papermill": {
     "duration": 0.014224,
     "end_time": "2025-08-05T14:32:11.804507",
     "exception": false,
     "start_time": "2025-08-05T14:32:11.790283",
     "status": "completed"
    },
    "tags": []
   },
   "source": [
    "# Final Output"
   ]
  },
  {
   "cell_type": "code",
   "execution_count": 77,
   "id": "96d280a3",
   "metadata": {
    "execution": {
     "iopub.execute_input": "2025-08-05T14:32:11.834258Z",
     "iopub.status.busy": "2025-08-05T14:32:11.833850Z",
     "iopub.status.idle": "2025-08-05T14:32:11.841001Z",
     "shell.execute_reply": "2025-08-05T14:32:11.840128Z"
    },
    "papermill": {
     "duration": 0.023532,
     "end_time": "2025-08-05T14:32:11.842260",
     "exception": false,
     "start_time": "2025-08-05T14:32:11.818728",
     "status": "completed"
    },
    "tags": []
   },
   "outputs": [
    {
     "data": {
      "text/plain": [
       "4"
      ]
     },
     "execution_count": 77,
     "metadata": {},
     "output_type": "execute_result"
    }
   ],
   "source": [
    "sub_universes = universe_analysis.generate_sub_universes()\n",
    "len(sub_universes)"
   ]
  },
  {
   "cell_type": "code",
   "execution_count": 78,
   "id": "92adf7ba",
   "metadata": {
    "execution": {
     "iopub.execute_input": "2025-08-05T14:32:11.872637Z",
     "iopub.status.busy": "2025-08-05T14:32:11.872031Z",
     "iopub.status.idle": "2025-08-05T14:32:11.888774Z",
     "shell.execute_reply": "2025-08-05T14:32:11.888014Z"
    },
    "papermill": {
     "duration": 0.033645,
     "end_time": "2025-08-05T14:32:11.890476",
     "exception": false,
     "start_time": "2025-08-05T14:32:11.856831",
     "status": "completed"
    },
    "tags": []
   },
   "outputs": [],
   "source": [
    "def filter_sub_universe_data(sub_universe, org_test):\n",
    "    # Keep all rows — no filtering\n",
    "    keep_rows_mask = np.ones(org_test.shape[0], dtype=bool)\n",
    "\n",
    "    print(f\"[INFO] Keeping all rows: {keep_rows_mask.sum()} rows retained.\")\n",
    "    return keep_rows_mask"
   ]
  },
  {
   "cell_type": "code",
   "execution_count": 79,
   "id": "4a759155",
   "metadata": {
    "execution": {
     "iopub.execute_input": "2025-08-05T14:32:11.923393Z",
     "iopub.status.busy": "2025-08-05T14:32:11.922892Z",
     "iopub.status.idle": "2025-08-05T14:32:19.258326Z",
     "shell.execute_reply": "2025-08-05T14:32:19.257588Z"
    },
    "papermill": {
     "duration": 7.352907,
     "end_time": "2025-08-05T14:32:19.259612",
     "exception": false,
     "start_time": "2025-08-05T14:32:11.906705",
     "status": "completed"
    },
    "tags": []
   },
   "outputs": [
    {
     "name": "stdout",
     "output_type": "stream",
     "text": [
      "Stopping execution_time clock.\n",
      "[INFO] Keeping all rows: 89710 rows retained.\n"
     ]
    },
    {
     "name": "stdout",
     "output_type": "stream",
     "text": [
      "[INFO] Keeping all rows: 89710 rows retained.\n"
     ]
    },
    {
     "name": "stdout",
     "output_type": "stream",
     "text": [
      "[INFO] Keeping all rows: 89710 rows retained.\n"
     ]
    },
    {
     "name": "stdout",
     "output_type": "stream",
     "text": [
      "[INFO] Keeping all rows: 89710 rows retained.\n"
     ]
    },
    {
     "data": {
      "text/html": [
       "<div>\n",
       "<style scoped>\n",
       "    .dataframe tbody tr th:only-of-type {\n",
       "        vertical-align: middle;\n",
       "    }\n",
       "\n",
       "    .dataframe tbody tr th {\n",
       "        vertical-align: top;\n",
       "    }\n",
       "\n",
       "    .dataframe thead th {\n",
       "        text-align: right;\n",
       "    }\n",
       "</style>\n",
       "<table border=\"1\" class=\"dataframe\">\n",
       "  <thead>\n",
       "    <tr style=\"text-align: right;\">\n",
       "      <th></th>\n",
       "      <th>run_no</th>\n",
       "      <th>universe_id</th>\n",
       "      <th>universe_settings</th>\n",
       "      <th>execution_time</th>\n",
       "      <th>test_size_n</th>\n",
       "      <th>test_size_frac</th>\n",
       "      <th>fair_main_equalized_odds_difference</th>\n",
       "      <th>fair_main_equalized_odds_ratio</th>\n",
       "      <th>fair_main_demographic_parity_difference</th>\n",
       "      <th>fair_main_demographic_parity_ratio</th>\n",
       "      <th>...</th>\n",
       "      <th>perf_grp_precision_0</th>\n",
       "      <th>perf_grp_precision_1</th>\n",
       "      <th>perf_grp_false positive rate_0</th>\n",
       "      <th>perf_grp_false positive rate_1</th>\n",
       "      <th>perf_grp_false negative rate_0</th>\n",
       "      <th>perf_grp_false negative rate_1</th>\n",
       "      <th>perf_grp_selection rate_0</th>\n",
       "      <th>perf_grp_selection rate_1</th>\n",
       "      <th>perf_grp_count_0</th>\n",
       "      <th>perf_grp_count_1</th>\n",
       "    </tr>\n",
       "  </thead>\n",
       "  <tbody>\n",
       "    <tr>\n",
       "      <th>0</th>\n",
       "      <td>15</td>\n",
       "      <td>ac4a026ca93e0a6b44769bdecedc7849</td>\n",
       "      <td>{\"cutoff\": \"quantile_0.1\", \"eval_fairness_grou...</td>\n",
       "      <td>27.230111</td>\n",
       "      <td>89710</td>\n",
       "      <td>1.0</td>\n",
       "      <td>0.093467</td>\n",
       "      <td>0.902498</td>\n",
       "      <td>0.081391</td>\n",
       "      <td>0.915461</td>\n",
       "      <td>...</td>\n",
       "      <td>NaN</td>\n",
       "      <td>NaN</td>\n",
       "      <td>NaN</td>\n",
       "      <td>NaN</td>\n",
       "      <td>NaN</td>\n",
       "      <td>NaN</td>\n",
       "      <td>NaN</td>\n",
       "      <td>NaN</td>\n",
       "      <td>NaN</td>\n",
       "      <td>NaN</td>\n",
       "    </tr>\n",
       "    <tr>\n",
       "      <th>0</th>\n",
       "      <td>15</td>\n",
       "      <td>ac4a026ca93e0a6b44769bdecedc7849</td>\n",
       "      <td>{\"cutoff\": \"quantile_0.1\", \"eval_fairness_grou...</td>\n",
       "      <td>27.230111</td>\n",
       "      <td>89710</td>\n",
       "      <td>1.0</td>\n",
       "      <td>0.093467</td>\n",
       "      <td>0.902498</td>\n",
       "      <td>0.081391</td>\n",
       "      <td>0.915461</td>\n",
       "      <td>...</td>\n",
       "      <td>0.119090</td>\n",
       "      <td>0.148104</td>\n",
       "      <td>0.958618</td>\n",
       "      <td>0.865151</td>\n",
       "      <td>0.005490</td>\n",
       "      <td>0.012144</td>\n",
       "      <td>0.962756</td>\n",
       "      <td>0.881365</td>\n",
       "      <td>20540.0</td>\n",
       "      <td>69170.0</td>\n",
       "    </tr>\n",
       "    <tr>\n",
       "      <th>0</th>\n",
       "      <td>15</td>\n",
       "      <td>ac4a026ca93e0a6b44769bdecedc7849</td>\n",
       "      <td>{\"cutoff\": \"quantile_0.25\", \"eval_fairness_gro...</td>\n",
       "      <td>27.230111</td>\n",
       "      <td>89710</td>\n",
       "      <td>1.0</td>\n",
       "      <td>0.175123</td>\n",
       "      <td>0.795098</td>\n",
       "      <td>0.152307</td>\n",
       "      <td>0.824415</td>\n",
       "      <td>...</td>\n",
       "      <td>NaN</td>\n",
       "      <td>NaN</td>\n",
       "      <td>NaN</td>\n",
       "      <td>NaN</td>\n",
       "      <td>NaN</td>\n",
       "      <td>NaN</td>\n",
       "      <td>NaN</td>\n",
       "      <td>NaN</td>\n",
       "      <td>NaN</td>\n",
       "      <td>NaN</td>\n",
       "    </tr>\n",
       "    <tr>\n",
       "      <th>0</th>\n",
       "      <td>15</td>\n",
       "      <td>ac4a026ca93e0a6b44769bdecedc7849</td>\n",
       "      <td>{\"cutoff\": \"quantile_0.25\", \"eval_fairness_gro...</td>\n",
       "      <td>27.230111</td>\n",
       "      <td>89710</td>\n",
       "      <td>1.0</td>\n",
       "      <td>0.175123</td>\n",
       "      <td>0.795098</td>\n",
       "      <td>0.152307</td>\n",
       "      <td>0.824415</td>\n",
       "      <td>...</td>\n",
       "      <td>0.128304</td>\n",
       "      <td>0.175316</td>\n",
       "      <td>0.854667</td>\n",
       "      <td>0.679544</td>\n",
       "      <td>0.034628</td>\n",
       "      <td>0.051204</td>\n",
       "      <td>0.867429</td>\n",
       "      <td>0.715122</td>\n",
       "      <td>20540.0</td>\n",
       "      <td>69170.0</td>\n",
       "    </tr>\n",
       "  </tbody>\n",
       "</table>\n",
       "<p>4 rows × 50 columns</p>\n",
       "</div>"
      ],
      "text/plain": [
       "  run_no                       universe_id  \\\n",
       "0     15  ac4a026ca93e0a6b44769bdecedc7849   \n",
       "0     15  ac4a026ca93e0a6b44769bdecedc7849   \n",
       "0     15  ac4a026ca93e0a6b44769bdecedc7849   \n",
       "0     15  ac4a026ca93e0a6b44769bdecedc7849   \n",
       "\n",
       "                                   universe_settings  execution_time  \\\n",
       "0  {\"cutoff\": \"quantile_0.1\", \"eval_fairness_grou...       27.230111   \n",
       "0  {\"cutoff\": \"quantile_0.1\", \"eval_fairness_grou...       27.230111   \n",
       "0  {\"cutoff\": \"quantile_0.25\", \"eval_fairness_gro...       27.230111   \n",
       "0  {\"cutoff\": \"quantile_0.25\", \"eval_fairness_gro...       27.230111   \n",
       "\n",
       "   test_size_n  test_size_frac  fair_main_equalized_odds_difference  \\\n",
       "0        89710             1.0                             0.093467   \n",
       "0        89710             1.0                             0.093467   \n",
       "0        89710             1.0                             0.175123   \n",
       "0        89710             1.0                             0.175123   \n",
       "\n",
       "   fair_main_equalized_odds_ratio  fair_main_demographic_parity_difference  \\\n",
       "0                        0.902498                                 0.081391   \n",
       "0                        0.902498                                 0.081391   \n",
       "0                        0.795098                                 0.152307   \n",
       "0                        0.795098                                 0.152307   \n",
       "\n",
       "   fair_main_demographic_parity_ratio  ...  perf_grp_precision_0  \\\n",
       "0                            0.915461  ...                   NaN   \n",
       "0                            0.915461  ...              0.119090   \n",
       "0                            0.824415  ...                   NaN   \n",
       "0                            0.824415  ...              0.128304   \n",
       "\n",
       "   perf_grp_precision_1  perf_grp_false positive rate_0  \\\n",
       "0                   NaN                             NaN   \n",
       "0              0.148104                        0.958618   \n",
       "0                   NaN                             NaN   \n",
       "0              0.175316                        0.854667   \n",
       "\n",
       "   perf_grp_false positive rate_1  perf_grp_false negative rate_0  \\\n",
       "0                             NaN                             NaN   \n",
       "0                        0.865151                        0.005490   \n",
       "0                             NaN                             NaN   \n",
       "0                        0.679544                        0.034628   \n",
       "\n",
       "   perf_grp_false negative rate_1  perf_grp_selection rate_0  \\\n",
       "0                             NaN                        NaN   \n",
       "0                        0.012144                   0.962756   \n",
       "0                             NaN                        NaN   \n",
       "0                        0.051204                   0.867429   \n",
       "\n",
       "   perf_grp_selection rate_1  perf_grp_count_0  perf_grp_count_1  \n",
       "0                        NaN               NaN               NaN  \n",
       "0                   0.881365           20540.0           69170.0  \n",
       "0                        NaN               NaN               NaN  \n",
       "0                   0.715122           20540.0           69170.0  \n",
       "\n",
       "[4 rows x 50 columns]"
      ]
     },
     "execution_count": 79,
     "metadata": {},
     "output_type": "execute_result"
    }
   ],
   "source": [
    "final_output = universe_analysis.generate_final_output(\n",
    "    y_pred_prob=probs_test,\n",
    "    y_test=y_true,\n",
    "    org_test=org_test,\n",
    "    filter_data=filter_sub_universe_data,\n",
    "    cp_metrics_df=cp_metrics_df,\n",
    "    save=True,\n",
    ")\n",
    "final_output"
   ]
  },
  {
   "cell_type": "code",
   "execution_count": null,
   "id": "721ff514-cb11-46f8-b6fc-50392f74b5cb",
   "metadata": {
    "papermill": {
     "duration": 0.01486,
     "end_time": "2025-08-05T14:32:19.292754",
     "exception": false,
     "start_time": "2025-08-05T14:32:19.277894",
     "status": "completed"
    },
    "tags": []
   },
   "outputs": [],
   "source": []
  }
 ],
 "metadata": {
  "celltoolbar": "Tags",
  "kernelspec": {
   "display_name": "Python (CMA Fairness)",
   "language": "python",
   "name": "cma_fair_env"
  },
  "language_info": {
   "codemirror_mode": {
    "name": "ipython",
    "version": 3
   },
   "file_extension": ".py",
   "mimetype": "text/x-python",
   "name": "python",
   "nbconvert_exporter": "python",
   "pygments_lexer": "ipython3",
   "version": "3.10.12"
  },
  "papermill": {
   "default_parameters": {},
   "duration": 43.462198,
   "end_time": "2025-08-05T14:32:19.925756",
   "environment_variables": {},
   "exception": null,
   "input_path": "universe_analysis.ipynb",
   "output_path": "output/runs/15/notebooks/m_15-ac4a026ca93e0a6b44769bdecedc7849.ipynb",
   "parameters": {
    "output_dir": "output",
    "run_no": "15",
    "seed": "2023",
    "universe": "{\"cutoff\": [\"quantile_0.1\", \"quantile_0.25\"], \"eval_fairness_grouping\": [\"majority-minority\", \"nationality-all\"], \"exclude_features\": \"sex\", \"exclude_subgroups\": \"keep-all\", \"model\": \"logreg\", \"scale\": \"scale\", \"training_size\": \"25k\", \"training_year\": \"2014\"}",
    "universe_id": "ac4a026ca93e0a6b44769bdecedc7849"
   },
   "start_time": "2025-08-05T14:31:36.463558",
   "version": "2.6.0"
  }
 },
 "nbformat": 4,
 "nbformat_minor": 5
}