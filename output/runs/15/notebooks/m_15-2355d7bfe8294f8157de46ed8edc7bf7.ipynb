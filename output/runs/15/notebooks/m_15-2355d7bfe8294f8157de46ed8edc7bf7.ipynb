{
 "cells": [
  {
   "cell_type": "code",
   "execution_count": 1,
   "id": "f159f837-637b-42ba-96b5-ec9a68c44524",
   "metadata": {
    "execution": {
     "iopub.execute_input": "2025-08-05T15:27:42.173246Z",
     "iopub.status.busy": "2025-08-05T15:27:42.172316Z",
     "iopub.status.idle": "2025-08-05T15:27:42.186095Z",
     "shell.execute_reply": "2025-08-05T15:27:42.184791Z"
    },
    "papermill": {
     "duration": 0.035279,
     "end_time": "2025-08-05T15:27:42.187576",
     "exception": false,
     "start_time": "2025-08-05T15:27:42.152297",
     "status": "completed"
    },
    "tags": []
   },
   "outputs": [
    {
     "name": "stdout",
     "output_type": "stream",
     "text": [
      "/dss/dsshome1/0C/ra93lal2/cma/CMA_Fairness_v2\n"
     ]
    },
    {
     "name": "stderr",
     "output_type": "stream",
     "text": [
      "/dss/dsshome1/0C/ra93lal2/.local/share/virtualenvs/CMA_Fairness_v2-3j10GkSs/lib/python3.10/site-packages/IPython/core/magics/osm.py:393: UserWarning: This is now an optional IPython functionality, using bookmarks requires you to install the `pickleshare` library.\n",
      "  bkms = self.shell.db.get('bookmarks', {})\n",
      "/dss/dsshome1/0C/ra93lal2/.local/share/virtualenvs/CMA_Fairness_v2-3j10GkSs/lib/python3.10/site-packages/IPython/core/magics/osm.py:417: UserWarning: This is now an optional IPython functionality, setting dhist requires you to install the `pickleshare` library.\n",
      "  self.shell.db['dhist'] = compress_dhist(dhist)[-100:]\n"
     ]
    }
   ],
   "source": [
    "%cd ~/cma/CMA_Fairness_v2"
   ]
  },
  {
   "cell_type": "markdown",
   "id": "de2603b9",
   "metadata": {
    "papermill": {
     "duration": 0.015061,
     "end_time": "2025-08-05T15:27:42.218447",
     "exception": false,
     "start_time": "2025-08-05T15:27:42.203386",
     "status": "completed"
    },
    "tags": []
   },
   "source": [
    "The following cell holds the definition of our parameters, these values can be overriden by rendering the with e.g. the following command:\n",
    "\n",
    "papermill -p alpha 0.2 -p ratio 0.3 universe_analysis.ipynb output/test_run.ipynb"
   ]
  },
  {
   "cell_type": "code",
   "execution_count": 2,
   "id": "a80968a0-40bb-4fa9-85ef-2d5eefb01975",
   "metadata": {
    "execution": {
     "iopub.execute_input": "2025-08-05T15:27:42.249996Z",
     "iopub.status.busy": "2025-08-05T15:27:42.249266Z",
     "iopub.status.idle": "2025-08-05T15:27:42.255539Z",
     "shell.execute_reply": "2025-08-05T15:27:42.254487Z"
    },
    "papermill": {
     "duration": 0.024351,
     "end_time": "2025-08-05T15:27:42.257415",
     "exception": false,
     "start_time": "2025-08-05T15:27:42.233064",
     "status": "completed"
    },
    "tags": []
   },
   "outputs": [
    {
     "name": "stdout",
     "output_type": "stream",
     "text": [
      "Current working directory: /dss/dsshome1/0C/ra93lal2/cma/CMA_Fairness_v2\n"
     ]
    }
   ],
   "source": [
    "import os\n",
    "print(\"Current working directory:\", os.getcwd())"
   ]
  },
  {
   "cell_type": "code",
   "execution_count": 3,
   "id": "2dce4c03",
   "metadata": {
    "execution": {
     "iopub.execute_input": "2025-08-05T15:27:42.292409Z",
     "iopub.status.busy": "2025-08-05T15:27:42.291910Z",
     "iopub.status.idle": "2025-08-05T15:27:42.298162Z",
     "shell.execute_reply": "2025-08-05T15:27:42.297115Z"
    },
    "papermill": {
     "duration": 0.025363,
     "end_time": "2025-08-05T15:27:42.299925",
     "exception": false,
     "start_time": "2025-08-05T15:27:42.274562",
     "status": "completed"
    },
    "tags": [
     "parameters"
    ]
   },
   "outputs": [],
   "source": [
    "run_no = 0\n",
    "universe_id = \"test\"\n",
    "universe = {\n",
    "    \"training_size\": \"25k\", # \"25k\", \"5k\", \"1k\"\n",
    "    \"training_year\": \"2014\", # \"2014\", \"2012_14\", \"2010_14\"\n",
    "    \"scale\": \"scale\", # \"scale\", \"do-not-scale\",\n",
    "    \"model\": \"elasticnet\", # \"logreg\", \"penalized_logreg\", \"rf\", \"gbm\", \"elasticnet\"\n",
    "    \"cutoff\": [\"quantile_0.15\", \"quantile_0.30\"],\n",
    "    \"exclude_features\": \"age\", # \"none\", \"nationality\", \"sex\", \"nationality-sex\", \"age\"\n",
    "    \"exclude_subgroups\": \"keep-all\", # \"keep-all\", \"drop-non-german\"\n",
    "    \"eval_fairness_grouping\": [\"majority-minority\", \"nationality-all\"]\n",
    "}\n",
    "\n",
    "output_dir=\"./output\"\n",
    "seed=0"
   ]
  },
  {
   "cell_type": "code",
   "execution_count": 4,
   "id": "b09f093c",
   "metadata": {
    "execution": {
     "iopub.execute_input": "2025-08-05T15:27:42.333231Z",
     "iopub.status.busy": "2025-08-05T15:27:42.332534Z",
     "iopub.status.idle": "2025-08-05T15:27:42.338096Z",
     "shell.execute_reply": "2025-08-05T15:27:42.337117Z"
    },
    "papermill": {
     "duration": 0.023349,
     "end_time": "2025-08-05T15:27:42.340017",
     "exception": false,
     "start_time": "2025-08-05T15:27:42.316668",
     "status": "completed"
    },
    "tags": [
     "injected-parameters"
    ]
   },
   "outputs": [],
   "source": [
    "# Parameters\n",
    "universe_id = \"2355d7bfe8294f8157de46ed8edc7bf7\"\n",
    "run_no = \"15\"\n",
    "universe = \"{\\\"cutoff\\\": [\\\"quantile_0.1\\\", \\\"quantile_0.25\\\"], \\\"eval_fairness_grouping\\\": [\\\"majority-minority\\\", \\\"nationality-all\\\"], \\\"exclude_features\\\": \\\"nationality-sex\\\", \\\"exclude_subgroups\\\": \\\"keep-all\\\", \\\"model\\\": \\\"logreg\\\", \\\"scale\\\": \\\"do-not-scale\\\", \\\"training_size\\\": \\\"5k\\\", \\\"training_year\\\": \\\"2014\\\"}\"\n",
    "output_dir = \"output\"\n",
    "seed = \"2023\"\n"
   ]
  },
  {
   "cell_type": "code",
   "execution_count": 5,
   "id": "1650acaf",
   "metadata": {
    "execution": {
     "iopub.execute_input": "2025-08-05T15:27:42.378178Z",
     "iopub.status.busy": "2025-08-05T15:27:42.377570Z",
     "iopub.status.idle": "2025-08-05T15:27:42.382716Z",
     "shell.execute_reply": "2025-08-05T15:27:42.381587Z"
    },
    "papermill": {
     "duration": 0.026461,
     "end_time": "2025-08-05T15:27:42.384616",
     "exception": false,
     "start_time": "2025-08-05T15:27:42.358155",
     "status": "completed"
    },
    "tags": []
   },
   "outputs": [],
   "source": [
    "import json\n",
    "if isinstance(universe, str):\n",
    "    universe = json.loads(universe)"
   ]
  },
  {
   "cell_type": "code",
   "execution_count": 6,
   "id": "16620c48",
   "metadata": {
    "execution": {
     "iopub.execute_input": "2025-08-05T15:27:42.423092Z",
     "iopub.status.busy": "2025-08-05T15:27:42.422481Z",
     "iopub.status.idle": "2025-08-05T15:27:42.471916Z",
     "shell.execute_reply": "2025-08-05T15:27:42.470971Z"
    },
    "papermill": {
     "duration": 0.069949,
     "end_time": "2025-08-05T15:27:42.473791",
     "exception": false,
     "start_time": "2025-08-05T15:27:42.403842",
     "status": "completed"
    },
    "tags": []
   },
   "outputs": [],
   "source": [
    "# Auto-reload the custom package\n",
    "%load_ext autoreload\n",
    "%autoreload 1\n",
    "%aimport fairness_multiverse"
   ]
  },
  {
   "cell_type": "code",
   "execution_count": 7,
   "id": "01c5c9f3",
   "metadata": {
    "execution": {
     "iopub.execute_input": "2025-08-05T15:27:42.510346Z",
     "iopub.status.busy": "2025-08-05T15:27:42.509604Z",
     "iopub.status.idle": "2025-08-05T15:27:44.330198Z",
     "shell.execute_reply": "2025-08-05T15:27:44.329075Z"
    },
    "papermill": {
     "duration": 1.839736,
     "end_time": "2025-08-05T15:27:44.332143",
     "exception": false,
     "start_time": "2025-08-05T15:27:42.492407",
     "status": "completed"
    },
    "tags": []
   },
   "outputs": [],
   "source": [
    "from fairness_multiverse.universe import UniverseAnalysis\n",
    "\n",
    "universe_analysis = UniverseAnalysis(\n",
    "    run_no = run_no,\n",
    "    universe_id = universe_id,\n",
    "    universe = universe,\n",
    "    output_dir=output_dir,\n",
    ")"
   ]
  },
  {
   "cell_type": "code",
   "execution_count": 8,
   "id": "106241f5",
   "metadata": {
    "execution": {
     "iopub.execute_input": "2025-08-05T15:27:44.367525Z",
     "iopub.status.busy": "2025-08-05T15:27:44.366599Z",
     "iopub.status.idle": "2025-08-05T15:27:44.374020Z",
     "shell.execute_reply": "2025-08-05T15:27:44.372971Z"
    },
    "papermill": {
     "duration": 0.026828,
     "end_time": "2025-08-05T15:27:44.375871",
     "exception": false,
     "start_time": "2025-08-05T15:27:44.349043",
     "status": "completed"
    },
    "tags": []
   },
   "outputs": [
    {
     "name": "stdout",
     "output_type": "stream",
     "text": [
      "Using Seed: 2023\n"
     ]
    }
   ],
   "source": [
    "import numpy as np\n",
    "parsed_seed = int(seed)\n",
    "np.random.seed(parsed_seed)\n",
    "print(f\"Using Seed: {parsed_seed}\")"
   ]
  },
  {
   "cell_type": "markdown",
   "id": "e0ebdc57",
   "metadata": {
    "papermill": {
     "duration": 0.017102,
     "end_time": "2025-08-05T15:27:44.410627",
     "exception": false,
     "start_time": "2025-08-05T15:27:44.393525",
     "status": "completed"
    },
    "tags": []
   },
   "source": [
    "# Loading Data"
   ]
  },
  {
   "cell_type": "code",
   "execution_count": 9,
   "id": "f0496b8a",
   "metadata": {
    "execution": {
     "iopub.execute_input": "2025-08-05T15:27:44.447285Z",
     "iopub.status.busy": "2025-08-05T15:27:44.446317Z",
     "iopub.status.idle": "2025-08-05T15:27:55.924290Z",
     "shell.execute_reply": "2025-08-05T15:27:55.923246Z"
    },
    "papermill": {
     "duration": 11.497796,
     "end_time": "2025-08-05T15:27:55.926173",
     "exception": false,
     "start_time": "2025-08-05T15:27:44.428377",
     "status": "completed"
    },
    "tags": []
   },
   "outputs": [
    {
     "name": "stdout",
     "output_type": "stream",
     "text": [
      "Loading SIAB data from cache: data/siab_cached.csv.gz\n"
     ]
    },
    {
     "name": "stdout",
     "output_type": "stream",
     "text": [
      "(643690, 164)\n"
     ]
    }
   ],
   "source": [
    "from pathlib import Path\n",
    "import pandas as pd\n",
    "\n",
    "# File paths\n",
    "raw_file = Path(\"data/raw/siab.csv\")\n",
    "cache_file = Path(\"data/siab_cached.csv.gz\")\n",
    "\n",
    "# Ensure cache directory exists\n",
    "cache_file.parent.mkdir(parents=True, exist_ok=True)\n",
    "\n",
    "# Load with simple caching\n",
    "if cache_file.exists():\n",
    "    print(f\"Loading SIAB data from cache: {cache_file}\")\n",
    "    siab = pd.read_csv(cache_file, compression='gzip')\n",
    "else:\n",
    "    print(f\"Cache not found. Reading raw SIAB data: {raw_file}\")\n",
    "    siab = pd.read_csv(raw_file)\n",
    "    siab.to_csv(cache_file, index=False, compression='gzip')\n",
    "    print(f\"Cached SIAB data to: {cache_file}\")\n",
    "\n",
    "print(siab.shape)"
   ]
  },
  {
   "cell_type": "code",
   "execution_count": 10,
   "id": "db0ca512-5f53-4dba-abdb-a2888bca41ba",
   "metadata": {
    "execution": {
     "iopub.execute_input": "2025-08-05T15:27:55.966878Z",
     "iopub.status.busy": "2025-08-05T15:27:55.966259Z",
     "iopub.status.idle": "2025-08-05T15:27:55.972400Z",
     "shell.execute_reply": "2025-08-05T15:27:55.971407Z"
    },
    "papermill": {
     "duration": 0.027924,
     "end_time": "2025-08-05T15:27:55.974378",
     "exception": false,
     "start_time": "2025-08-05T15:27:55.946454",
     "status": "completed"
    },
    "tags": []
   },
   "outputs": [],
   "source": [
    "#siab"
   ]
  },
  {
   "cell_type": "markdown",
   "id": "997051c5-15bd-4b69-9786-c3001a3ce484",
   "metadata": {
    "papermill": {
     "duration": 0.008908,
     "end_time": "2025-08-05T15:27:56.001540",
     "exception": false,
     "start_time": "2025-08-05T15:27:55.992632",
     "status": "completed"
    },
    "tags": []
   },
   "source": [
    "# Splitting Data and Setting Training Data Size"
   ]
  },
  {
   "cell_type": "code",
   "execution_count": 11,
   "id": "aea9c6ef-6f46-42c8-85eb-5a62025c1508",
   "metadata": {
    "execution": {
     "iopub.execute_input": "2025-08-05T15:27:56.029753Z",
     "iopub.status.busy": "2025-08-05T15:27:56.029263Z",
     "iopub.status.idle": "2025-08-05T15:27:56.295242Z",
     "shell.execute_reply": "2025-08-05T15:27:56.294424Z"
    },
    "papermill": {
     "duration": 0.283518,
     "end_time": "2025-08-05T15:27:56.296890",
     "exception": false,
     "start_time": "2025-08-05T15:27:56.013372",
     "status": "completed"
    },
    "tags": []
   },
   "outputs": [],
   "source": [
    "from fairness_multiverse.universe import sample_by_year_size\n",
    "\n",
    "siab_train = sample_by_year_size(siab,\n",
    "                               training_year=universe[\"training_year\"],\n",
    "                               training_size=universe[\"training_size\"])"
   ]
  },
  {
   "cell_type": "code",
   "execution_count": 12,
   "id": "8d3afb32-789d-442c-8d5d-9f5aa8dd2eed",
   "metadata": {
    "execution": {
     "iopub.execute_input": "2025-08-05T15:27:56.331088Z",
     "iopub.status.busy": "2025-08-05T15:27:56.330641Z",
     "iopub.status.idle": "2025-08-05T15:27:56.335847Z",
     "shell.execute_reply": "2025-08-05T15:27:56.334713Z"
    },
    "papermill": {
     "duration": 0.028721,
     "end_time": "2025-08-05T15:27:56.337997",
     "exception": false,
     "start_time": "2025-08-05T15:27:56.309276",
     "status": "completed"
    },
    "tags": []
   },
   "outputs": [],
   "source": [
    "#siab_train.shape"
   ]
  },
  {
   "cell_type": "code",
   "execution_count": 13,
   "id": "d582db68-1a4c-47fb-84fc-08518dc1975a",
   "metadata": {
    "execution": {
     "iopub.execute_input": "2025-08-05T15:27:56.377019Z",
     "iopub.status.busy": "2025-08-05T15:27:56.376545Z",
     "iopub.status.idle": "2025-08-05T15:27:56.381806Z",
     "shell.execute_reply": "2025-08-05T15:27:56.380798Z"
    },
    "papermill": {
     "duration": 0.026676,
     "end_time": "2025-08-05T15:27:56.383640",
     "exception": false,
     "start_time": "2025-08-05T15:27:56.356964",
     "status": "completed"
    },
    "tags": []
   },
   "outputs": [],
   "source": [
    "#display(siab_train.groupby(\"year\").size())"
   ]
  },
  {
   "cell_type": "code",
   "execution_count": 14,
   "id": "a561edb4-d032-42cb-8256-22eac1111c64",
   "metadata": {
    "execution": {
     "iopub.execute_input": "2025-08-05T15:27:56.429840Z",
     "iopub.status.busy": "2025-08-05T15:27:56.428946Z",
     "iopub.status.idle": "2025-08-05T15:27:56.695839Z",
     "shell.execute_reply": "2025-08-05T15:27:56.694845Z"
    },
    "papermill": {
     "duration": 0.294102,
     "end_time": "2025-08-05T15:27:56.697876",
     "exception": false,
     "start_time": "2025-08-05T15:27:56.403774",
     "status": "completed"
    },
    "tags": []
   },
   "outputs": [],
   "source": [
    "#siab_train = siab_s[siab_s.year < 2015]\n",
    "siab_calib = siab[siab.year == 2015]\n",
    "siab_test = siab[siab.year == 2016]"
   ]
  },
  {
   "cell_type": "code",
   "execution_count": 15,
   "id": "472de16f-c3db-4916-846b-1f0de9cf1746",
   "metadata": {
    "execution": {
     "iopub.execute_input": "2025-08-05T15:27:56.739779Z",
     "iopub.status.busy": "2025-08-05T15:27:56.738865Z",
     "iopub.status.idle": "2025-08-05T15:27:56.748535Z",
     "shell.execute_reply": "2025-08-05T15:27:56.747465Z"
    },
    "papermill": {
     "duration": 0.032348,
     "end_time": "2025-08-05T15:27:56.750714",
     "exception": false,
     "start_time": "2025-08-05T15:27:56.718366",
     "status": "completed"
    },
    "tags": []
   },
   "outputs": [],
   "source": [
    "X_train = siab_train.iloc[:,4:164]\n",
    "y_train = siab_train.iloc[:, [3]]"
   ]
  },
  {
   "cell_type": "code",
   "execution_count": 16,
   "id": "828c96af-f43a-4ed6-ba47-8ac73a47d56c",
   "metadata": {
    "execution": {
     "iopub.execute_input": "2025-08-05T15:27:56.791952Z",
     "iopub.status.busy": "2025-08-05T15:27:56.791233Z",
     "iopub.status.idle": "2025-08-05T15:27:56.848235Z",
     "shell.execute_reply": "2025-08-05T15:27:56.847113Z"
    },
    "papermill": {
     "duration": 0.078502,
     "end_time": "2025-08-05T15:27:56.850026",
     "exception": false,
     "start_time": "2025-08-05T15:27:56.771524",
     "status": "completed"
    },
    "tags": []
   },
   "outputs": [],
   "source": [
    "X_calib = siab_calib.iloc[:,4:164]\n",
    "y_calib = siab_calib.iloc[:, [3]]"
   ]
  },
  {
   "cell_type": "code",
   "execution_count": 17,
   "id": "c34be9c3-6bd6-476e-acd3-845840e303be",
   "metadata": {
    "execution": {
     "iopub.execute_input": "2025-08-05T15:27:56.901650Z",
     "iopub.status.busy": "2025-08-05T15:27:56.899847Z",
     "iopub.status.idle": "2025-08-05T15:27:56.953921Z",
     "shell.execute_reply": "2025-08-05T15:27:56.952684Z"
    },
    "papermill": {
     "duration": 0.076085,
     "end_time": "2025-08-05T15:27:56.956132",
     "exception": false,
     "start_time": "2025-08-05T15:27:56.880047",
     "status": "completed"
    },
    "tags": []
   },
   "outputs": [],
   "source": [
    "X_test = siab_test.iloc[:,4:164]\n",
    "y_true = siab_test.iloc[:, [3]]"
   ]
  },
  {
   "cell_type": "code",
   "execution_count": 18,
   "id": "e6c733c5",
   "metadata": {
    "execution": {
     "iopub.execute_input": "2025-08-05T15:27:56.998711Z",
     "iopub.status.busy": "2025-08-05T15:27:56.998225Z",
     "iopub.status.idle": "2025-08-05T15:27:57.097458Z",
     "shell.execute_reply": "2025-08-05T15:27:57.096351Z"
    },
    "papermill": {
     "duration": 0.122147,
     "end_time": "2025-08-05T15:27:57.099506",
     "exception": false,
     "start_time": "2025-08-05T15:27:56.977359",
     "status": "completed"
    },
    "tags": []
   },
   "outputs": [],
   "source": [
    "# Auxiliary data needed downstream in the pipeline\n",
    "\n",
    "org_train = X_train.copy()\n",
    "org_test = X_test.copy()\n",
    "org_calib = X_calib.copy()"
   ]
  },
  {
   "cell_type": "markdown",
   "id": "0a4a1b33",
   "metadata": {
    "papermill": {
     "duration": 0.01874,
     "end_time": "2025-08-05T15:27:57.138087",
     "exception": false,
     "start_time": "2025-08-05T15:27:57.119347",
     "status": "completed"
    },
    "tags": []
   },
   "source": [
    "# Preprocessing Data"
   ]
  },
  {
   "cell_type": "code",
   "execution_count": 19,
   "id": "ca879031",
   "metadata": {
    "execution": {
     "iopub.execute_input": "2025-08-05T15:27:57.177694Z",
     "iopub.status.busy": "2025-08-05T15:27:57.177176Z",
     "iopub.status.idle": "2025-08-05T15:27:57.183496Z",
     "shell.execute_reply": "2025-08-05T15:27:57.182286Z"
    },
    "papermill": {
     "duration": 0.028492,
     "end_time": "2025-08-05T15:27:57.185339",
     "exception": false,
     "start_time": "2025-08-05T15:27:57.156847",
     "status": "completed"
    },
    "tags": []
   },
   "outputs": [],
   "source": [
    "# EXCLUDE PROTECTED FEATURES\n",
    "# ----------------------\n",
    "# \"exclude_features\": \"none\", # \"nationality\", \"sex\", \"nationality-sex\"\n",
    "\n",
    "excluded_features = universe[\"exclude_features\"].split(\"-\") # split, e.g.: \"nationality-sex\" -> [\"nationality\", \"sex\"]\n",
    "excluded_features_dictionary = {\n",
    "    \"nationality\": [\"maxdeutsch1\", \"maxdeutsch.Missing.\"],\n",
    "    \"sex\": [\"frau1\"],\n",
    "    \"age\": [\"age\"],\n",
    "}"
   ]
  },
  {
   "cell_type": "code",
   "execution_count": 20,
   "id": "b745ac60",
   "metadata": {
    "execution": {
     "iopub.execute_input": "2025-08-05T15:27:57.226675Z",
     "iopub.status.busy": "2025-08-05T15:27:57.226031Z",
     "iopub.status.idle": "2025-08-05T15:27:57.231325Z",
     "shell.execute_reply": "2025-08-05T15:27:57.230328Z"
    },
    "papermill": {
     "duration": 0.028183,
     "end_time": "2025-08-05T15:27:57.233151",
     "exception": false,
     "start_time": "2025-08-05T15:27:57.204968",
     "status": "completed"
    },
    "tags": []
   },
   "outputs": [],
   "source": [
    "# Code nice names to column names\n",
    "\n",
    "excluded_features_columns = [\n",
    "    excluded_features_dictionary[f] for f in excluded_features if len(f) > 0 and f != \"none\"\n",
    "]"
   ]
  },
  {
   "cell_type": "code",
   "execution_count": 21,
   "id": "f84f73a2",
   "metadata": {
    "execution": {
     "iopub.execute_input": "2025-08-05T15:27:57.274919Z",
     "iopub.status.busy": "2025-08-05T15:27:57.274395Z",
     "iopub.status.idle": "2025-08-05T15:27:57.281047Z",
     "shell.execute_reply": "2025-08-05T15:27:57.279904Z"
    },
    "papermill": {
     "duration": 0.030271,
     "end_time": "2025-08-05T15:27:57.283114",
     "exception": false,
     "start_time": "2025-08-05T15:27:57.252843",
     "status": "completed"
    },
    "tags": []
   },
   "outputs": [],
   "source": [
    "from utils import flatten_once\n",
    "\n",
    "excluded_features_columns = flatten_once(excluded_features_columns)"
   ]
  },
  {
   "cell_type": "code",
   "execution_count": 22,
   "id": "884dea22",
   "metadata": {
    "execution": {
     "iopub.execute_input": "2025-08-05T15:27:57.324764Z",
     "iopub.status.busy": "2025-08-05T15:27:57.323997Z",
     "iopub.status.idle": "2025-08-05T15:27:57.333217Z",
     "shell.execute_reply": "2025-08-05T15:27:57.332162Z"
    },
    "papermill": {
     "duration": 0.031133,
     "end_time": "2025-08-05T15:27:57.335151",
     "exception": false,
     "start_time": "2025-08-05T15:27:57.304018",
     "status": "completed"
    },
    "tags": []
   },
   "outputs": [
    {
     "name": "stdout",
     "output_type": "stream",
     "text": [
      "Dropping features: ['maxdeutsch1', 'maxdeutsch.Missing.', 'frau1']\n"
     ]
    }
   ],
   "source": [
    "if len(excluded_features_columns) > 0:\n",
    "    print(f\"Dropping features: {excluded_features_columns}\")\n",
    "    X_train.drop(excluded_features_columns, axis=1, inplace=True)"
   ]
  },
  {
   "cell_type": "code",
   "execution_count": 23,
   "id": "95ab8b16",
   "metadata": {
    "execution": {
     "iopub.execute_input": "2025-08-05T15:27:57.376226Z",
     "iopub.status.busy": "2025-08-05T15:27:57.375458Z",
     "iopub.status.idle": "2025-08-05T15:27:57.429174Z",
     "shell.execute_reply": "2025-08-05T15:27:57.428197Z"
    },
    "papermill": {
     "duration": 0.076017,
     "end_time": "2025-08-05T15:27:57.431243",
     "exception": false,
     "start_time": "2025-08-05T15:27:57.355226",
     "status": "completed"
    },
    "tags": []
   },
   "outputs": [
    {
     "name": "stdout",
     "output_type": "stream",
     "text": [
      "Dropping features: ['maxdeutsch1', 'maxdeutsch.Missing.', 'frau1']\n"
     ]
    }
   ],
   "source": [
    "if len(excluded_features_columns) > 0:\n",
    "    print(f\"Dropping features: {excluded_features_columns}\")\n",
    "    X_test.drop(excluded_features_columns, axis=1, inplace=True)"
   ]
  },
  {
   "cell_type": "code",
   "execution_count": 24,
   "id": "1853aaf5-fb9f-46cb-a2b5-8ea4ae2237e4",
   "metadata": {
    "execution": {
     "iopub.execute_input": "2025-08-05T15:27:57.477066Z",
     "iopub.status.busy": "2025-08-05T15:27:57.476249Z",
     "iopub.status.idle": "2025-08-05T15:27:57.526704Z",
     "shell.execute_reply": "2025-08-05T15:27:57.525633Z"
    },
    "papermill": {
     "duration": 0.073931,
     "end_time": "2025-08-05T15:27:57.528496",
     "exception": false,
     "start_time": "2025-08-05T15:27:57.454565",
     "status": "completed"
    },
    "tags": []
   },
   "outputs": [
    {
     "name": "stdout",
     "output_type": "stream",
     "text": [
      "Dropping features: ['maxdeutsch1', 'maxdeutsch.Missing.', 'frau1']\n"
     ]
    }
   ],
   "source": [
    "if len(excluded_features_columns) > 0:\n",
    "    print(f\"Dropping features: {excluded_features_columns}\")\n",
    "    X_calib.drop(excluded_features_columns, axis=1, inplace=True)"
   ]
  },
  {
   "cell_type": "code",
   "execution_count": 25,
   "id": "76c4dc6d",
   "metadata": {
    "execution": {
     "iopub.execute_input": "2025-08-05T15:27:57.578033Z",
     "iopub.status.busy": "2025-08-05T15:27:57.577276Z",
     "iopub.status.idle": "2025-08-05T15:27:57.582954Z",
     "shell.execute_reply": "2025-08-05T15:27:57.581895Z"
    },
    "papermill": {
     "duration": 0.027066,
     "end_time": "2025-08-05T15:27:57.584490",
     "exception": false,
     "start_time": "2025-08-05T15:27:57.557424",
     "status": "completed"
    },
    "tags": []
   },
   "outputs": [],
   "source": [
    "# EXCLUDE CERTAIN SUBGROUPS\n",
    "# ----------------------\n",
    "\n",
    "mode = universe.get(\"exclude_subgroups\", \"keep-all\") \n",
    "# Fetches the exclude_subgroups setting from the universe dict.\n",
    "# Defaults to \"keep-all\" if the key is missing."
   ]
  },
  {
   "cell_type": "code",
   "execution_count": 26,
   "id": "21994072",
   "metadata": {
    "execution": {
     "iopub.execute_input": "2025-08-05T15:27:57.622352Z",
     "iopub.status.busy": "2025-08-05T15:27:57.621555Z",
     "iopub.status.idle": "2025-08-05T15:27:57.628500Z",
     "shell.execute_reply": "2025-08-05T15:27:57.627377Z"
    },
    "papermill": {
     "duration": 0.027948,
     "end_time": "2025-08-05T15:27:57.630602",
     "exception": false,
     "start_time": "2025-08-05T15:27:57.602654",
     "status": "completed"
    },
    "tags": []
   },
   "outputs": [],
   "source": [
    "if mode == \"keep-all\":\n",
    "    keep_mask = pd.Series(True, index=org_train.index)\n",
    "\n",
    "# org_train contains the original feature columns from features_org (in Simson)\n",
    "# features_org contains unprocessed features, for me X_train at beginning ???\n",
    "# For keep-all, creates a boolean Series (keep_mask) of all True, so no rows are removed.\n",
    "\n",
    "elif mode == \"drop-non-german\":\n",
    "    keep_mask = org_train[\"maxdeutsch1\"] == 1 # ??? what about missing values?\n",
    "\n",
    "else:\n",
    "    raise ValueError(f\"Unsupported mode for exclude_subgroups: {mode}\")"
   ]
  },
  {
   "cell_type": "code",
   "execution_count": 27,
   "id": "71651440",
   "metadata": {
    "execution": {
     "iopub.execute_input": "2025-08-05T15:27:57.672364Z",
     "iopub.status.busy": "2025-08-05T15:27:57.671867Z",
     "iopub.status.idle": "2025-08-05T15:27:57.678652Z",
     "shell.execute_reply": "2025-08-05T15:27:57.677655Z"
    },
    "papermill": {
     "duration": 0.029261,
     "end_time": "2025-08-05T15:27:57.680552",
     "exception": false,
     "start_time": "2025-08-05T15:27:57.651291",
     "status": "completed"
    },
    "tags": []
   },
   "outputs": [],
   "source": [
    "n_drop = (~keep_mask).sum() # Calculates how many rows are set to be dropped\n",
    "if n_drop > 0:\n",
    "    pct = n_drop / len(keep_mask) * 100\n",
    "    print(f\"Dropping {n_drop} rows ({pct:.2f}%) where mode='{mode}'\")"
   ]
  },
  {
   "cell_type": "code",
   "execution_count": 28,
   "id": "5fb8eee5",
   "metadata": {
    "execution": {
     "iopub.execute_input": "2025-08-05T15:27:57.722106Z",
     "iopub.status.busy": "2025-08-05T15:27:57.721534Z",
     "iopub.status.idle": "2025-08-05T15:27:57.732385Z",
     "shell.execute_reply": "2025-08-05T15:27:57.731391Z"
    },
    "papermill": {
     "duration": 0.033276,
     "end_time": "2025-08-05T15:27:57.734452",
     "exception": false,
     "start_time": "2025-08-05T15:27:57.701176",
     "status": "completed"
    },
    "tags": []
   },
   "outputs": [],
   "source": [
    "X_train = X_train[keep_mask]"
   ]
  },
  {
   "cell_type": "code",
   "execution_count": 29,
   "id": "b202bb3a",
   "metadata": {
    "execution": {
     "iopub.execute_input": "2025-08-05T15:27:57.774605Z",
     "iopub.status.busy": "2025-08-05T15:27:57.774089Z",
     "iopub.status.idle": "2025-08-05T15:27:57.779725Z",
     "shell.execute_reply": "2025-08-05T15:27:57.778906Z"
    },
    "papermill": {
     "duration": 0.026718,
     "end_time": "2025-08-05T15:27:57.781238",
     "exception": false,
     "start_time": "2025-08-05T15:27:57.754520",
     "status": "completed"
    },
    "tags": []
   },
   "outputs": [],
   "source": [
    "y_train = y_train[keep_mask]"
   ]
  },
  {
   "cell_type": "markdown",
   "id": "493e2ac3",
   "metadata": {
    "papermill": {
     "duration": 0.009634,
     "end_time": "2025-08-05T15:27:57.801652",
     "exception": false,
     "start_time": "2025-08-05T15:27:57.792018",
     "status": "completed"
    },
    "tags": []
   },
   "source": [
    "# Model Training"
   ]
  },
  {
   "cell_type": "code",
   "execution_count": 30,
   "id": "679e1268",
   "metadata": {
    "execution": {
     "iopub.execute_input": "2025-08-05T15:27:57.822012Z",
     "iopub.status.busy": "2025-08-05T15:27:57.821332Z",
     "iopub.status.idle": "2025-08-05T15:27:57.924007Z",
     "shell.execute_reply": "2025-08-05T15:27:57.923237Z"
    },
    "papermill": {
     "duration": 0.114445,
     "end_time": "2025-08-05T15:27:57.925463",
     "exception": false,
     "start_time": "2025-08-05T15:27:57.811018",
     "status": "completed"
    },
    "tags": []
   },
   "outputs": [],
   "source": [
    "from sklearn.linear_model import LogisticRegression\n",
    "from sklearn.ensemble import GradientBoostingClassifier, RandomForestClassifier\n",
    "\n",
    "if (universe[\"model\"] == \"logreg\"):\n",
    "    model = LogisticRegression() #penalty=\"none\", solver=\"newton-cg\", max_iter=1) # include random_state=19 ?\n",
    "elif (universe[\"model\"] == \"penalized_logreg\"):\n",
    "    model = LogisticRegression(penalty=\"l2\", C=0.1) #, solver=\"newton-cg\", max_iter=1)\n",
    "elif (universe[\"model\"] == \"rf\"):\n",
    "    model = RandomForestClassifier() # n_estimators=100, n_jobs=-1\n",
    "elif (universe[\"model\"] == \"gbm\"):\n",
    "    model = GradientBoostingClassifier()\n",
    "elif (universe[\"model\"] == \"elasticnet\"):\n",
    "    model = LogisticRegression(penalty = 'elasticnet', solver = 'saga', l1_ratio = 0.5) # max_iter=5000\n",
    "else:\n",
    "    raise \"Unsupported universe.model\""
   ]
  },
  {
   "cell_type": "code",
   "execution_count": 31,
   "id": "0cc8f744",
   "metadata": {
    "execution": {
     "iopub.execute_input": "2025-08-05T15:27:57.947956Z",
     "iopub.status.busy": "2025-08-05T15:27:57.947209Z",
     "iopub.status.idle": "2025-08-05T15:27:57.952624Z",
     "shell.execute_reply": "2025-08-05T15:27:57.951682Z"
    },
    "papermill": {
     "duration": 0.018556,
     "end_time": "2025-08-05T15:27:57.954317",
     "exception": false,
     "start_time": "2025-08-05T15:27:57.935761",
     "status": "completed"
    },
    "tags": []
   },
   "outputs": [],
   "source": [
    "import numpy as np\n",
    "from sklearn.pipeline import Pipeline\n",
    "from sklearn.preprocessing import StandardScaler\n",
    "\n",
    "model = Pipeline([\n",
    "    #(\"continuous_processor\", continuous_processor),\n",
    "    #(\"categorical_preprocessor\", categorical_preprocessor),\n",
    "    (\"scale\", StandardScaler() if universe[\"scale\"] == \"scale\" else None), \n",
    "    (\"model\", model),\n",
    "])"
   ]
  },
  {
   "cell_type": "code",
   "execution_count": 32,
   "id": "9442c04d",
   "metadata": {
    "execution": {
     "iopub.execute_input": "2025-08-05T15:27:58.003919Z",
     "iopub.status.busy": "2025-08-05T15:27:58.003302Z",
     "iopub.status.idle": "2025-08-05T15:27:58.214532Z",
     "shell.execute_reply": "2025-08-05T15:27:58.213345Z"
    },
    "papermill": {
     "duration": 0.242746,
     "end_time": "2025-08-05T15:27:58.216360",
     "exception": false,
     "start_time": "2025-08-05T15:27:57.973614",
     "status": "completed"
    },
    "tags": []
   },
   "outputs": [
    {
     "name": "stderr",
     "output_type": "stream",
     "text": [
      "/dss/dsshome1/0C/ra93lal2/.local/share/virtualenvs/CMA_Fairness_v2-3j10GkSs/lib/python3.10/site-packages/sklearn/linear_model/_logistic.py:444: ConvergenceWarning: lbfgs failed to converge (status=1):\n",
      "STOP: TOTAL NO. of ITERATIONS REACHED LIMIT.\n",
      "\n",
      "Increase the number of iterations (max_iter) or scale the data as shown in:\n",
      "    https://scikit-learn.org/stable/modules/preprocessing.html\n",
      "Please also refer to the documentation for alternative solver options:\n",
      "    https://scikit-learn.org/stable/modules/linear_model.html#logistic-regression\n",
      "  n_iter_i = _check_optimize_result(\n"
     ]
    },
    {
     "data": {
      "text/html": [
       "<style>#sk-container-id-1 {color: black;background-color: white;}#sk-container-id-1 pre{padding: 0;}#sk-container-id-1 div.sk-toggleable {background-color: white;}#sk-container-id-1 label.sk-toggleable__label {cursor: pointer;display: block;width: 100%;margin-bottom: 0;padding: 0.3em;box-sizing: border-box;text-align: center;}#sk-container-id-1 label.sk-toggleable__label-arrow:before {content: \"▸\";float: left;margin-right: 0.25em;color: #696969;}#sk-container-id-1 label.sk-toggleable__label-arrow:hover:before {color: black;}#sk-container-id-1 div.sk-estimator:hover label.sk-toggleable__label-arrow:before {color: black;}#sk-container-id-1 div.sk-toggleable__content {max-height: 0;max-width: 0;overflow: hidden;text-align: left;background-color: #f0f8ff;}#sk-container-id-1 div.sk-toggleable__content pre {margin: 0.2em;color: black;border-radius: 0.25em;background-color: #f0f8ff;}#sk-container-id-1 input.sk-toggleable__control:checked~div.sk-toggleable__content {max-height: 200px;max-width: 100%;overflow: auto;}#sk-container-id-1 input.sk-toggleable__control:checked~label.sk-toggleable__label-arrow:before {content: \"▾\";}#sk-container-id-1 div.sk-estimator input.sk-toggleable__control:checked~label.sk-toggleable__label {background-color: #d4ebff;}#sk-container-id-1 div.sk-label input.sk-toggleable__control:checked~label.sk-toggleable__label {background-color: #d4ebff;}#sk-container-id-1 input.sk-hidden--visually {border: 0;clip: rect(1px 1px 1px 1px);clip: rect(1px, 1px, 1px, 1px);height: 1px;margin: -1px;overflow: hidden;padding: 0;position: absolute;width: 1px;}#sk-container-id-1 div.sk-estimator {font-family: monospace;background-color: #f0f8ff;border: 1px dotted black;border-radius: 0.25em;box-sizing: border-box;margin-bottom: 0.5em;}#sk-container-id-1 div.sk-estimator:hover {background-color: #d4ebff;}#sk-container-id-1 div.sk-parallel-item::after {content: \"\";width: 100%;border-bottom: 1px solid gray;flex-grow: 1;}#sk-container-id-1 div.sk-label:hover label.sk-toggleable__label {background-color: #d4ebff;}#sk-container-id-1 div.sk-serial::before {content: \"\";position: absolute;border-left: 1px solid gray;box-sizing: border-box;top: 0;bottom: 0;left: 50%;z-index: 0;}#sk-container-id-1 div.sk-serial {display: flex;flex-direction: column;align-items: center;background-color: white;padding-right: 0.2em;padding-left: 0.2em;position: relative;}#sk-container-id-1 div.sk-item {position: relative;z-index: 1;}#sk-container-id-1 div.sk-parallel {display: flex;align-items: stretch;justify-content: center;background-color: white;position: relative;}#sk-container-id-1 div.sk-item::before, #sk-container-id-1 div.sk-parallel-item::before {content: \"\";position: absolute;border-left: 1px solid gray;box-sizing: border-box;top: 0;bottom: 0;left: 50%;z-index: -1;}#sk-container-id-1 div.sk-parallel-item {display: flex;flex-direction: column;z-index: 1;position: relative;background-color: white;}#sk-container-id-1 div.sk-parallel-item:first-child::after {align-self: flex-end;width: 50%;}#sk-container-id-1 div.sk-parallel-item:last-child::after {align-self: flex-start;width: 50%;}#sk-container-id-1 div.sk-parallel-item:only-child::after {width: 0;}#sk-container-id-1 div.sk-dashed-wrapped {border: 1px dashed gray;margin: 0 0.4em 0.5em 0.4em;box-sizing: border-box;padding-bottom: 0.4em;background-color: white;}#sk-container-id-1 div.sk-label label {font-family: monospace;font-weight: bold;display: inline-block;line-height: 1.2em;}#sk-container-id-1 div.sk-label-container {text-align: center;}#sk-container-id-1 div.sk-container {/* jupyter's `normalize.less` sets `[hidden] { display: none; }` but bootstrap.min.css set `[hidden] { display: none !important; }` so we also need the `!important` here to be able to override the default hidden behavior on the sphinx rendered scikit-learn.org. See: https://github.com/scikit-learn/scikit-learn/issues/21755 */display: inline-block !important;position: relative;}#sk-container-id-1 div.sk-text-repr-fallback {display: none;}</style><div id=\"sk-container-id-1\" class=\"sk-top-container\"><div class=\"sk-text-repr-fallback\"><pre>Pipeline(steps=[(&#x27;scale&#x27;, None), (&#x27;model&#x27;, LogisticRegression())])</pre><b>In a Jupyter environment, please rerun this cell to show the HTML representation or trust the notebook. <br />On GitHub, the HTML representation is unable to render, please try loading this page with nbviewer.org.</b></div><div class=\"sk-container\" hidden><div class=\"sk-item sk-dashed-wrapped\"><div class=\"sk-label-container\"><div class=\"sk-label sk-toggleable\"><input class=\"sk-toggleable__control sk-hidden--visually\" id=\"sk-estimator-id-1\" type=\"checkbox\" ><label for=\"sk-estimator-id-1\" class=\"sk-toggleable__label sk-toggleable__label-arrow\">Pipeline</label><div class=\"sk-toggleable__content\"><pre>Pipeline(steps=[(&#x27;scale&#x27;, None), (&#x27;model&#x27;, LogisticRegression())])</pre></div></div></div><div class=\"sk-serial\"><div class=\"sk-item\"><div class=\"sk-estimator sk-toggleable\"><input class=\"sk-toggleable__control sk-hidden--visually\" id=\"sk-estimator-id-2\" type=\"checkbox\" ><label for=\"sk-estimator-id-2\" class=\"sk-toggleable__label sk-toggleable__label-arrow\">None</label><div class=\"sk-toggleable__content\"><pre>None</pre></div></div></div><div class=\"sk-item\"><div class=\"sk-estimator sk-toggleable\"><input class=\"sk-toggleable__control sk-hidden--visually\" id=\"sk-estimator-id-3\" type=\"checkbox\" ><label for=\"sk-estimator-id-3\" class=\"sk-toggleable__label sk-toggleable__label-arrow\">LogisticRegression</label><div class=\"sk-toggleable__content\"><pre>LogisticRegression()</pre></div></div></div></div></div></div></div>"
      ],
      "text/plain": [
       "Pipeline(steps=[('scale', None), ('model', LogisticRegression())])"
      ]
     },
     "execution_count": 32,
     "metadata": {},
     "output_type": "execute_result"
    }
   ],
   "source": [
    "model.fit(X_train, y_train.values.ravel())"
   ]
  },
  {
   "cell_type": "code",
   "execution_count": 33,
   "id": "af59f8c0",
   "metadata": {
    "execution": {
     "iopub.execute_input": "2025-08-05T15:27:58.262882Z",
     "iopub.status.busy": "2025-08-05T15:27:58.261949Z",
     "iopub.status.idle": "2025-08-05T15:27:58.269146Z",
     "shell.execute_reply": "2025-08-05T15:27:58.267938Z"
    },
    "papermill": {
     "duration": 0.031975,
     "end_time": "2025-08-05T15:27:58.271174",
     "exception": false,
     "start_time": "2025-08-05T15:27:58.239199",
     "status": "completed"
    },
    "tags": []
   },
   "outputs": [],
   "source": [
    "from fairness_multiverse.universe import predict_w_threshold"
   ]
  },
  {
   "cell_type": "code",
   "execution_count": 34,
   "id": "a7cf2e16",
   "metadata": {
    "execution": {
     "iopub.execute_input": "2025-08-05T15:27:58.316989Z",
     "iopub.status.busy": "2025-08-05T15:27:58.315976Z",
     "iopub.status.idle": "2025-08-05T15:27:58.417029Z",
     "shell.execute_reply": "2025-08-05T15:27:58.415800Z"
    },
    "papermill": {
     "duration": 0.126868,
     "end_time": "2025-08-05T15:27:58.420229",
     "exception": false,
     "start_time": "2025-08-05T15:27:58.293361",
     "status": "completed"
    },
    "tags": []
   },
   "outputs": [
    {
     "data": {
      "text/plain": [
       "0.8590792553784417"
      ]
     },
     "execution_count": 34,
     "metadata": {},
     "output_type": "execute_result"
    }
   ],
   "source": [
    "probs_test = model.predict_proba(X_test)\n",
    "\n",
    "'''\n",
    "Below code returns a boolean array (or binary 0/1 array depending on how it’s used) where each element \n",
    "is True if the probability of class 1 is greater than or equal to the threshold, and False otherwise.\n",
    "'''\n",
    "y_pred_default = predict_w_threshold(probs_test, 0.5)\n",
    "\n",
    "from sklearn.metrics import accuracy_score\n",
    "\n",
    "# Naive prediction\n",
    "accuracy_score(y_true = y_true, y_pred = y_pred_default)"
   ]
  },
  {
   "cell_type": "code",
   "execution_count": 35,
   "id": "081964c3",
   "metadata": {
    "execution": {
     "iopub.execute_input": "2025-08-05T15:27:58.486260Z",
     "iopub.status.busy": "2025-08-05T15:27:58.485485Z",
     "iopub.status.idle": "2025-08-05T15:27:58.578709Z",
     "shell.execute_reply": "2025-08-05T15:27:58.577459Z"
    },
    "papermill": {
     "duration": 0.129375,
     "end_time": "2025-08-05T15:27:58.581144",
     "exception": false,
     "start_time": "2025-08-05T15:27:58.451769",
     "status": "completed"
    },
    "tags": []
   },
   "outputs": [
    {
     "data": {
      "text/plain": [
       "array([0, 0, 0, ..., 0, 0, 0])"
      ]
     },
     "execution_count": 35,
     "metadata": {},
     "output_type": "execute_result"
    }
   ],
   "source": [
    "model.predict(X_test)"
   ]
  },
  {
   "cell_type": "markdown",
   "id": "56c9705b",
   "metadata": {
    "papermill": {
     "duration": 0.032637,
     "end_time": "2025-08-05T15:27:58.647220",
     "exception": false,
     "start_time": "2025-08-05T15:27:58.614583",
     "status": "completed"
    },
    "tags": []
   },
   "source": [
    "# Conformal Prediction"
   ]
  },
  {
   "cell_type": "code",
   "execution_count": 36,
   "id": "160ec6ff",
   "metadata": {
    "execution": {
     "iopub.execute_input": "2025-08-05T15:27:58.712616Z",
     "iopub.status.busy": "2025-08-05T15:27:58.711792Z",
     "iopub.status.idle": "2025-08-05T15:27:58.719040Z",
     "shell.execute_reply": "2025-08-05T15:27:58.717702Z"
    },
    "papermill": {
     "duration": 0.042167,
     "end_time": "2025-08-05T15:27:58.720884",
     "exception": false,
     "start_time": "2025-08-05T15:27:58.678717",
     "status": "completed"
    },
    "tags": []
   },
   "outputs": [],
   "source": [
    "# Miscoverage level for conformal prediction (10% allowed error rate => 90% target coverage)\n",
    "alpha = 0.1"
   ]
  },
  {
   "cell_type": "code",
   "execution_count": 37,
   "id": "eadf4555-3dd3-440e-8e35-f82a4ad9f855",
   "metadata": {
    "execution": {
     "iopub.execute_input": "2025-08-05T15:27:58.768662Z",
     "iopub.status.busy": "2025-08-05T15:27:58.767755Z",
     "iopub.status.idle": "2025-08-05T15:27:58.856811Z",
     "shell.execute_reply": "2025-08-05T15:27:58.855917Z"
    },
    "papermill": {
     "duration": 0.114294,
     "end_time": "2025-08-05T15:27:58.858498",
     "exception": false,
     "start_time": "2025-08-05T15:27:58.744204",
     "status": "completed"
    },
    "tags": []
   },
   "outputs": [],
   "source": [
    "probs_calib = model.predict_proba(X_calib)"
   ]
  },
  {
   "cell_type": "code",
   "execution_count": 38,
   "id": "2ed93547-6d5d-4983-9b36-1ecb300da49a",
   "metadata": {
    "execution": {
     "iopub.execute_input": "2025-08-05T15:27:58.898370Z",
     "iopub.status.busy": "2025-08-05T15:27:58.897582Z",
     "iopub.status.idle": "2025-08-05T15:27:58.905757Z",
     "shell.execute_reply": "2025-08-05T15:27:58.904276Z"
    },
    "papermill": {
     "duration": 0.03176,
     "end_time": "2025-08-05T15:27:58.907684",
     "exception": false,
     "start_time": "2025-08-05T15:27:58.875924",
     "status": "completed"
    },
    "tags": []
   },
   "outputs": [],
   "source": [
    "y_calib = y_calib.values.ravel().astype(int)"
   ]
  },
  {
   "cell_type": "code",
   "execution_count": 39,
   "id": "65d1320d-f588-4b38-9072-62af1ae97f7d",
   "metadata": {
    "execution": {
     "iopub.execute_input": "2025-08-05T15:27:58.934310Z",
     "iopub.status.busy": "2025-08-05T15:27:58.933953Z",
     "iopub.status.idle": "2025-08-05T15:27:58.940085Z",
     "shell.execute_reply": "2025-08-05T15:27:58.939316Z"
    },
    "papermill": {
     "duration": 0.020338,
     "end_time": "2025-08-05T15:27:58.941683",
     "exception": false,
     "start_time": "2025-08-05T15:27:58.921345",
     "status": "completed"
    },
    "tags": []
   },
   "outputs": [],
   "source": [
    "from fairness_multiverse.conformal import compute_nc_scores\n",
    "\n",
    "# Compute nonconformity scores on calibration set (1 - probability of true class)\n",
    "nc_scores = compute_nc_scores(probs_calib, y_calib)"
   ]
  },
  {
   "cell_type": "code",
   "execution_count": 40,
   "id": "df3b8ca3-53b7-43d5-9667-7c85da7aeda2",
   "metadata": {
    "execution": {
     "iopub.execute_input": "2025-08-05T15:27:58.964862Z",
     "iopub.status.busy": "2025-08-05T15:27:58.964509Z",
     "iopub.status.idle": "2025-08-05T15:27:58.970152Z",
     "shell.execute_reply": "2025-08-05T15:27:58.969337Z"
    },
    "papermill": {
     "duration": 0.018562,
     "end_time": "2025-08-05T15:27:58.971679",
     "exception": false,
     "start_time": "2025-08-05T15:27:58.953117",
     "status": "completed"
    },
    "tags": []
   },
   "outputs": [],
   "source": [
    "from fairness_multiverse.conformal import find_threshold\n",
    "\n",
    "# Find conformal threshold q_hat for the given alpha (split conformal method)\n",
    "q_hat = find_threshold(nc_scores, alpha)"
   ]
  },
  {
   "cell_type": "code",
   "execution_count": 41,
   "id": "4d29e6c1-0ef6-4aa4-b8fe-4fe79b0d033a",
   "metadata": {
    "execution": {
     "iopub.execute_input": "2025-08-05T15:27:58.997571Z",
     "iopub.status.busy": "2025-08-05T15:27:58.997212Z",
     "iopub.status.idle": "2025-08-05T15:27:59.003525Z",
     "shell.execute_reply": "2025-08-05T15:27:59.002682Z"
    },
    "papermill": {
     "duration": 0.021896,
     "end_time": "2025-08-05T15:27:59.005096",
     "exception": false,
     "start_time": "2025-08-05T15:27:58.983200",
     "status": "completed"
    },
    "tags": []
   },
   "outputs": [
    {
     "data": {
      "text/plain": [
       "0.6814696962413396"
      ]
     },
     "execution_count": 41,
     "metadata": {},
     "output_type": "execute_result"
    }
   ],
   "source": [
    "q_hat"
   ]
  },
  {
   "cell_type": "code",
   "execution_count": 42,
   "id": "92460794-cdac-4be2-ba28-f28c0515a6fb",
   "metadata": {
    "execution": {
     "iopub.execute_input": "2025-08-05T15:27:59.030356Z",
     "iopub.status.busy": "2025-08-05T15:27:59.029338Z",
     "iopub.status.idle": "2025-08-05T15:27:59.515753Z",
     "shell.execute_reply": "2025-08-05T15:27:59.514618Z"
    },
    "papermill": {
     "duration": 0.500767,
     "end_time": "2025-08-05T15:27:59.517523",
     "exception": false,
     "start_time": "2025-08-05T15:27:59.016756",
     "status": "completed"
    },
    "tags": []
   },
   "outputs": [],
   "source": [
    "from fairness_multiverse.conformal import predict_conformal_sets\n",
    "\n",
    "# Generate prediction sets for each test example\n",
    "pred_sets = predict_conformal_sets(model, X_test, q_hat)"
   ]
  },
  {
   "cell_type": "code",
   "execution_count": 43,
   "id": "d90c9a65-e6db-4f5d-80cd-e68fb7e46829",
   "metadata": {
    "execution": {
     "iopub.execute_input": "2025-08-05T15:27:59.561657Z",
     "iopub.status.busy": "2025-08-05T15:27:59.561221Z",
     "iopub.status.idle": "2025-08-05T15:27:59.566769Z",
     "shell.execute_reply": "2025-08-05T15:27:59.565679Z"
    },
    "papermill": {
     "duration": 0.028805,
     "end_time": "2025-08-05T15:27:59.568541",
     "exception": false,
     "start_time": "2025-08-05T15:27:59.539736",
     "status": "completed"
    },
    "tags": []
   },
   "outputs": [],
   "source": [
    "y_true = y_true.squeeze()"
   ]
  },
  {
   "cell_type": "code",
   "execution_count": 44,
   "id": "3a58a54a-1e68-46b9-927a-df01f18aebc8",
   "metadata": {
    "execution": {
     "iopub.execute_input": "2025-08-05T15:27:59.600414Z",
     "iopub.status.busy": "2025-08-05T15:27:59.599968Z",
     "iopub.status.idle": "2025-08-05T15:28:00.568945Z",
     "shell.execute_reply": "2025-08-05T15:28:00.568221Z"
    },
    "papermill": {
     "duration": 0.984308,
     "end_time": "2025-08-05T15:28:00.571329",
     "exception": false,
     "start_time": "2025-08-05T15:27:59.587021",
     "status": "completed"
    },
    "tags": []
   },
   "outputs": [],
   "source": [
    "from fairness_multiverse.conformal import evaluate_sets\n",
    "\n",
    "# Evaluate coverage and average set size on test data\n",
    "metrics = evaluate_sets(pred_sets, y_true)"
   ]
  },
  {
   "cell_type": "markdown",
   "id": "2b569c12-9aaa-4c88-98c9-bbcd0cf3ebb8",
   "metadata": {
    "papermill": {
     "duration": 0.010472,
     "end_time": "2025-08-05T15:28:00.610882",
     "exception": false,
     "start_time": "2025-08-05T15:28:00.600410",
     "status": "completed"
    },
    "tags": []
   },
   "source": [
    "# CP Metrics"
   ]
  },
  {
   "cell_type": "code",
   "execution_count": 45,
   "id": "5ce0a5cb-201f-45a0-ade5-94c7f0bd6095",
   "metadata": {
    "execution": {
     "iopub.execute_input": "2025-08-05T15:28:00.633181Z",
     "iopub.status.busy": "2025-08-05T15:28:00.632474Z",
     "iopub.status.idle": "2025-08-05T15:28:00.639211Z",
     "shell.execute_reply": "2025-08-05T15:28:00.638388Z"
    },
    "papermill": {
     "duration": 0.019942,
     "end_time": "2025-08-05T15:28:00.641074",
     "exception": false,
     "start_time": "2025-08-05T15:28:00.621132",
     "status": "completed"
    },
    "tags": []
   },
   "outputs": [
    {
     "data": {
      "text/plain": [
       "{'coverage': 0.9109352357596701, 'avg_size': 1.1973024189053618}"
      ]
     },
     "execution_count": 45,
     "metadata": {},
     "output_type": "execute_result"
    }
   ],
   "source": [
    "metrics"
   ]
  },
  {
   "cell_type": "code",
   "execution_count": 46,
   "id": "9b9a838d-31c9-430b-ae14-12baee460d17",
   "metadata": {
    "execution": {
     "iopub.execute_input": "2025-08-05T15:28:00.684168Z",
     "iopub.status.busy": "2025-08-05T15:28:00.683798Z",
     "iopub.status.idle": "2025-08-05T15:28:00.690160Z",
     "shell.execute_reply": "2025-08-05T15:28:00.689087Z"
    },
    "papermill": {
     "duration": 0.029502,
     "end_time": "2025-08-05T15:28:00.691908",
     "exception": false,
     "start_time": "2025-08-05T15:28:00.662406",
     "status": "completed"
    },
    "tags": []
   },
   "outputs": [],
   "source": [
    "example_universe = universe.copy()\n",
    "universe_training_year = example_universe.get(\"training_year\")\n",
    "universe_training_size = example_universe.get(\"training_size\")\n",
    "universe_scale = example_universe.get(\"scale\")\n",
    "universe_model = example_universe.get(\"model\")\n",
    "universe_exclude_features = example_universe.get(\"exclude_features\")\n",
    "universe_exclude_subgroups = example_universe.get(\"exclude_subgroups\")"
   ]
  },
  {
   "cell_type": "code",
   "execution_count": 47,
   "id": "f4b6a8ac-9dc0-4245-8a91-5b3b5999c4f9",
   "metadata": {
    "execution": {
     "iopub.execute_input": "2025-08-05T15:28:00.734007Z",
     "iopub.status.busy": "2025-08-05T15:28:00.733257Z",
     "iopub.status.idle": "2025-08-05T15:28:00.739858Z",
     "shell.execute_reply": "2025-08-05T15:28:00.738768Z"
    },
    "papermill": {
     "duration": 0.028305,
     "end_time": "2025-08-05T15:28:00.741858",
     "exception": false,
     "start_time": "2025-08-05T15:28:00.713553",
     "status": "completed"
    },
    "tags": []
   },
   "outputs": [],
   "source": [
    "cp_metrics_dict = {\n",
    "    \"universe_id\": [universe_id],\n",
    "    \"universe_training_year\": [universe_training_year],\n",
    "    \"universe_training_size\": [universe_training_size],\n",
    "    \"universe_scale\": [universe_scale],\n",
    "    \"universe_model\": [universe_model],\n",
    "    \"universe_exclude_features\": [universe_exclude_features],\n",
    "    \"universe_exclude_subgroups\": [universe_exclude_subgroups],\n",
    "    \"q_hat\": [q_hat],\n",
    "    \"coverage\": [metrics[\"coverage\"]],\n",
    "    \"avg_size\": [metrics[\"avg_size\"]],\n",
    "}"
   ]
  },
  {
   "cell_type": "code",
   "execution_count": 48,
   "id": "908acbb1-0371-4915-85ca-3fa520d2efe2",
   "metadata": {
    "execution": {
     "iopub.execute_input": "2025-08-05T15:28:00.785499Z",
     "iopub.status.busy": "2025-08-05T15:28:00.784859Z",
     "iopub.status.idle": "2025-08-05T15:28:00.792669Z",
     "shell.execute_reply": "2025-08-05T15:28:00.791608Z"
    },
    "papermill": {
     "duration": 0.032695,
     "end_time": "2025-08-05T15:28:00.794542",
     "exception": false,
     "start_time": "2025-08-05T15:28:00.761847",
     "status": "completed"
    },
    "tags": []
   },
   "outputs": [
    {
     "data": {
      "text/plain": [
       "{'universe_id': ['2355d7bfe8294f8157de46ed8edc7bf7'],\n",
       " 'universe_training_year': ['2014'],\n",
       " 'universe_training_size': ['5k'],\n",
       " 'universe_scale': ['do-not-scale'],\n",
       " 'universe_model': ['logreg'],\n",
       " 'universe_exclude_features': ['nationality-sex'],\n",
       " 'universe_exclude_subgroups': ['keep-all'],\n",
       " 'q_hat': [0.6814696962413396],\n",
       " 'coverage': [0.9109352357596701],\n",
       " 'avg_size': [1.1973024189053618]}"
      ]
     },
     "execution_count": 48,
     "metadata": {},
     "output_type": "execute_result"
    }
   ],
   "source": [
    "cp_metrics_dict"
   ]
  },
  {
   "cell_type": "code",
   "execution_count": 49,
   "id": "33007efc-14e9-4ec6-97ac-56a455c82265",
   "metadata": {
    "execution": {
     "iopub.execute_input": "2025-08-05T15:28:00.837300Z",
     "iopub.status.busy": "2025-08-05T15:28:00.836665Z",
     "iopub.status.idle": "2025-08-05T15:28:00.842916Z",
     "shell.execute_reply": "2025-08-05T15:28:00.841822Z"
    },
    "papermill": {
     "duration": 0.030564,
     "end_time": "2025-08-05T15:28:00.844688",
     "exception": false,
     "start_time": "2025-08-05T15:28:00.814124",
     "status": "completed"
    },
    "tags": []
   },
   "outputs": [],
   "source": [
    "cp_metrics_df = pd.DataFrame(cp_metrics_dict)"
   ]
  },
  {
   "cell_type": "code",
   "execution_count": 50,
   "id": "db12611b-57b2-4910-b9d0-355adfd6e7bf",
   "metadata": {
    "execution": {
     "iopub.execute_input": "2025-08-05T15:28:00.886305Z",
     "iopub.status.busy": "2025-08-05T15:28:00.885731Z",
     "iopub.status.idle": "2025-08-05T15:28:00.903009Z",
     "shell.execute_reply": "2025-08-05T15:28:00.901991Z"
    },
    "papermill": {
     "duration": 0.041601,
     "end_time": "2025-08-05T15:28:00.904390",
     "exception": false,
     "start_time": "2025-08-05T15:28:00.862789",
     "status": "completed"
    },
    "tags": []
   },
   "outputs": [
    {
     "data": {
      "text/html": [
       "<div>\n",
       "<style scoped>\n",
       "    .dataframe tbody tr th:only-of-type {\n",
       "        vertical-align: middle;\n",
       "    }\n",
       "\n",
       "    .dataframe tbody tr th {\n",
       "        vertical-align: top;\n",
       "    }\n",
       "\n",
       "    .dataframe thead th {\n",
       "        text-align: right;\n",
       "    }\n",
       "</style>\n",
       "<table border=\"1\" class=\"dataframe\">\n",
       "  <thead>\n",
       "    <tr style=\"text-align: right;\">\n",
       "      <th></th>\n",
       "      <th>universe_id</th>\n",
       "      <th>universe_training_year</th>\n",
       "      <th>universe_training_size</th>\n",
       "      <th>universe_scale</th>\n",
       "      <th>universe_model</th>\n",
       "      <th>universe_exclude_features</th>\n",
       "      <th>universe_exclude_subgroups</th>\n",
       "      <th>q_hat</th>\n",
       "      <th>coverage</th>\n",
       "      <th>avg_size</th>\n",
       "    </tr>\n",
       "  </thead>\n",
       "  <tbody>\n",
       "    <tr>\n",
       "      <th>0</th>\n",
       "      <td>2355d7bfe8294f8157de46ed8edc7bf7</td>\n",
       "      <td>2014</td>\n",
       "      <td>5k</td>\n",
       "      <td>do-not-scale</td>\n",
       "      <td>logreg</td>\n",
       "      <td>nationality-sex</td>\n",
       "      <td>keep-all</td>\n",
       "      <td>0.68147</td>\n",
       "      <td>0.910935</td>\n",
       "      <td>1.197302</td>\n",
       "    </tr>\n",
       "  </tbody>\n",
       "</table>\n",
       "</div>"
      ],
      "text/plain": [
       "                        universe_id universe_training_year  \\\n",
       "0  2355d7bfe8294f8157de46ed8edc7bf7                   2014   \n",
       "\n",
       "  universe_training_size universe_scale universe_model  \\\n",
       "0                     5k   do-not-scale         logreg   \n",
       "\n",
       "  universe_exclude_features universe_exclude_subgroups    q_hat  coverage  \\\n",
       "0           nationality-sex                   keep-all  0.68147  0.910935   \n",
       "\n",
       "   avg_size  \n",
       "0  1.197302  "
      ]
     },
     "execution_count": 50,
     "metadata": {},
     "output_type": "execute_result"
    }
   ],
   "source": [
    "cp_metrics_df"
   ]
  },
  {
   "cell_type": "code",
   "execution_count": 51,
   "id": "b7fbde55-a0a1-47e4-9af6-fe4a17fa8c61",
   "metadata": {
    "execution": {
     "iopub.execute_input": "2025-08-05T15:28:00.929155Z",
     "iopub.status.busy": "2025-08-05T15:28:00.928655Z",
     "iopub.status.idle": "2025-08-05T15:28:00.933044Z",
     "shell.execute_reply": "2025-08-05T15:28:00.932348Z"
    },
    "papermill": {
     "duration": 0.018387,
     "end_time": "2025-08-05T15:28:00.934323",
     "exception": false,
     "start_time": "2025-08-05T15:28:00.915936",
     "status": "completed"
    },
    "tags": []
   },
   "outputs": [],
   "source": [
    "# Conditional Coverage & looking at subgroups"
   ]
  },
  {
   "cell_type": "code",
   "execution_count": 52,
   "id": "027ae886-68dd-4141-96c7-805a5450e1ef",
   "metadata": {
    "execution": {
     "iopub.execute_input": "2025-08-05T15:28:00.964584Z",
     "iopub.status.busy": "2025-08-05T15:28:00.964073Z",
     "iopub.status.idle": "2025-08-05T15:28:01.249260Z",
     "shell.execute_reply": "2025-08-05T15:28:01.247909Z"
    },
    "papermill": {
     "duration": 0.305416,
     "end_time": "2025-08-05T15:28:01.251489",
     "exception": false,
     "start_time": "2025-08-05T15:28:00.946073",
     "status": "completed"
    },
    "tags": []
   },
   "outputs": [],
   "source": [
    "from fairness_multiverse.conformal import build_cp_groups\n",
    "\n",
    "cp_groups_df = build_cp_groups(pred_sets, y_true, X_test.index, org_test)\n",
    "#needs universe_id and setting"
   ]
  },
  {
   "cell_type": "code",
   "execution_count": 53,
   "id": "6cbdab96-b2b2-45af-ad54-d0516db2e28d",
   "metadata": {
    "execution": {
     "iopub.execute_input": "2025-08-05T15:28:01.302516Z",
     "iopub.status.busy": "2025-08-05T15:28:01.301941Z",
     "iopub.status.idle": "2025-08-05T15:28:02.919298Z",
     "shell.execute_reply": "2025-08-05T15:28:02.918267Z"
    },
    "papermill": {
     "duration": 1.646313,
     "end_time": "2025-08-05T15:28:02.921704",
     "exception": false,
     "start_time": "2025-08-05T15:28:01.275391",
     "status": "completed"
    },
    "tags": []
   },
   "outputs": [],
   "source": [
    "# Define covered = 1 if true_label is in the predicted set\n",
    "cp_groups_df['covered'] = cp_groups_df.apply(\n",
    "    lambda r: int(r['true_label'] in r['pred_set']),\n",
    "    axis=1\n",
    ")"
   ]
  },
  {
   "cell_type": "code",
   "execution_count": 54,
   "id": "338ff529-1a6b-4b87-a931-8e4788d52aad",
   "metadata": {
    "execution": {
     "iopub.execute_input": "2025-08-05T15:28:02.974730Z",
     "iopub.status.busy": "2025-08-05T15:28:02.974412Z",
     "iopub.status.idle": "2025-08-05T15:28:02.979341Z",
     "shell.execute_reply": "2025-08-05T15:28:02.978400Z"
    },
    "papermill": {
     "duration": 0.032349,
     "end_time": "2025-08-05T15:28:02.980966",
     "exception": false,
     "start_time": "2025-08-05T15:28:02.948617",
     "status": "completed"
    },
    "tags": []
   },
   "outputs": [],
   "source": [
    "#cp_groups_df"
   ]
  },
  {
   "cell_type": "code",
   "execution_count": 55,
   "id": "90032e27-66df-4540-9169-4e89cfbaa758",
   "metadata": {
    "execution": {
     "iopub.execute_input": "2025-08-05T15:28:03.026240Z",
     "iopub.status.busy": "2025-08-05T15:28:03.025446Z",
     "iopub.status.idle": "2025-08-05T15:28:03.037297Z",
     "shell.execute_reply": "2025-08-05T15:28:03.036407Z"
    },
    "papermill": {
     "duration": 0.03709,
     "end_time": "2025-08-05T15:28:03.038797",
     "exception": false,
     "start_time": "2025-08-05T15:28:03.001707",
     "status": "completed"
    },
    "tags": []
   },
   "outputs": [],
   "source": [
    "subgroups = ['frau1','nongerman','nongerman_male','nongerman_female']\n",
    "\n",
    "# Conditional coverage for subgroup==1\n",
    "cond_coverage = {\n",
    "    g: cp_groups_df.loc[cp_groups_df[g]==1, 'covered'].mean()\n",
    "    for g in subgroups\n",
    "}"
   ]
  },
  {
   "cell_type": "code",
   "execution_count": 56,
   "id": "1e348fb1-b9c3-45bc-ba23-f016827a7e0d",
   "metadata": {
    "execution": {
     "iopub.execute_input": "2025-08-05T15:28:03.079771Z",
     "iopub.status.busy": "2025-08-05T15:28:03.079219Z",
     "iopub.status.idle": "2025-08-05T15:28:03.086579Z",
     "shell.execute_reply": "2025-08-05T15:28:03.085571Z"
    },
    "papermill": {
     "duration": 0.029481,
     "end_time": "2025-08-05T15:28:03.088171",
     "exception": false,
     "start_time": "2025-08-05T15:28:03.058690",
     "status": "completed"
    },
    "tags": []
   },
   "outputs": [
    {
     "data": {
      "text/plain": [
       "{'frau1': 0.9085051893786225,\n",
       " 'nongerman': 0.9248863189805199,\n",
       " 'nongerman_male': 0.9402864090786274,\n",
       " 'nongerman_female': 0.8994038748137109}"
      ]
     },
     "execution_count": 56,
     "metadata": {},
     "output_type": "execute_result"
    }
   ],
   "source": [
    "cond_coverage"
   ]
  },
  {
   "cell_type": "code",
   "execution_count": 57,
   "id": "f5093324-c3dd-4d63-bc4c-8d945e5c8bbb",
   "metadata": {
    "execution": {
     "iopub.execute_input": "2025-08-05T15:28:03.130322Z",
     "iopub.status.busy": "2025-08-05T15:28:03.129817Z",
     "iopub.status.idle": "2025-08-05T15:28:03.136995Z",
     "shell.execute_reply": "2025-08-05T15:28:03.135859Z"
    },
    "papermill": {
     "duration": 0.030676,
     "end_time": "2025-08-05T15:28:03.138946",
     "exception": false,
     "start_time": "2025-08-05T15:28:03.108270",
     "status": "completed"
    },
    "tags": []
   },
   "outputs": [],
   "source": [
    "for subgroup, cov in cond_coverage.items():\n",
    "    cp_metrics_df[f\"cov_{subgroup}\"] = cov"
   ]
  },
  {
   "cell_type": "code",
   "execution_count": 58,
   "id": "6e872e10-dbe5-49e8-b554-5030c98ff75d",
   "metadata": {
    "execution": {
     "iopub.execute_input": "2025-08-05T15:28:03.192904Z",
     "iopub.status.busy": "2025-08-05T15:28:03.192588Z",
     "iopub.status.idle": "2025-08-05T15:28:03.210697Z",
     "shell.execute_reply": "2025-08-05T15:28:03.209489Z"
    },
    "papermill": {
     "duration": 0.047295,
     "end_time": "2025-08-05T15:28:03.212501",
     "exception": false,
     "start_time": "2025-08-05T15:28:03.165206",
     "status": "completed"
    },
    "tags": []
   },
   "outputs": [
    {
     "data": {
      "text/html": [
       "<div>\n",
       "<style scoped>\n",
       "    .dataframe tbody tr th:only-of-type {\n",
       "        vertical-align: middle;\n",
       "    }\n",
       "\n",
       "    .dataframe tbody tr th {\n",
       "        vertical-align: top;\n",
       "    }\n",
       "\n",
       "    .dataframe thead th {\n",
       "        text-align: right;\n",
       "    }\n",
       "</style>\n",
       "<table border=\"1\" class=\"dataframe\">\n",
       "  <thead>\n",
       "    <tr style=\"text-align: right;\">\n",
       "      <th></th>\n",
       "      <th>universe_id</th>\n",
       "      <th>universe_training_year</th>\n",
       "      <th>universe_training_size</th>\n",
       "      <th>universe_scale</th>\n",
       "      <th>universe_model</th>\n",
       "      <th>universe_exclude_features</th>\n",
       "      <th>universe_exclude_subgroups</th>\n",
       "      <th>q_hat</th>\n",
       "      <th>coverage</th>\n",
       "      <th>avg_size</th>\n",
       "      <th>cov_frau1</th>\n",
       "      <th>cov_nongerman</th>\n",
       "      <th>cov_nongerman_male</th>\n",
       "      <th>cov_nongerman_female</th>\n",
       "    </tr>\n",
       "  </thead>\n",
       "  <tbody>\n",
       "    <tr>\n",
       "      <th>0</th>\n",
       "      <td>2355d7bfe8294f8157de46ed8edc7bf7</td>\n",
       "      <td>2014</td>\n",
       "      <td>5k</td>\n",
       "      <td>do-not-scale</td>\n",
       "      <td>logreg</td>\n",
       "      <td>nationality-sex</td>\n",
       "      <td>keep-all</td>\n",
       "      <td>0.68147</td>\n",
       "      <td>0.910935</td>\n",
       "      <td>1.197302</td>\n",
       "      <td>0.908505</td>\n",
       "      <td>0.924886</td>\n",
       "      <td>0.940286</td>\n",
       "      <td>0.899404</td>\n",
       "    </tr>\n",
       "  </tbody>\n",
       "</table>\n",
       "</div>"
      ],
      "text/plain": [
       "                        universe_id universe_training_year  \\\n",
       "0  2355d7bfe8294f8157de46ed8edc7bf7                   2014   \n",
       "\n",
       "  universe_training_size universe_scale universe_model  \\\n",
       "0                     5k   do-not-scale         logreg   \n",
       "\n",
       "  universe_exclude_features universe_exclude_subgroups    q_hat  coverage  \\\n",
       "0           nationality-sex                   keep-all  0.68147  0.910935   \n",
       "\n",
       "   avg_size  cov_frau1  cov_nongerman  cov_nongerman_male  \\\n",
       "0  1.197302   0.908505       0.924886            0.940286   \n",
       "\n",
       "   cov_nongerman_female  \n",
       "0              0.899404  "
      ]
     },
     "execution_count": 58,
     "metadata": {},
     "output_type": "execute_result"
    }
   ],
   "source": [
    "cp_metrics_df"
   ]
  },
  {
   "cell_type": "markdown",
   "id": "33774451",
   "metadata": {
    "papermill": {
     "duration": 0.026178,
     "end_time": "2025-08-05T15:28:03.265353",
     "exception": false,
     "start_time": "2025-08-05T15:28:03.239175",
     "status": "completed"
    },
    "tags": []
   },
   "source": [
    "# (Fairness) Metrics"
   ]
  },
  {
   "cell_type": "code",
   "execution_count": 59,
   "id": "debc5d62",
   "metadata": {
    "execution": {
     "iopub.execute_input": "2025-08-05T15:28:03.321767Z",
     "iopub.status.busy": "2025-08-05T15:28:03.321167Z",
     "iopub.status.idle": "2025-08-05T15:28:03.342822Z",
     "shell.execute_reply": "2025-08-05T15:28:03.341604Z"
    },
    "papermill": {
     "duration": 0.052427,
     "end_time": "2025-08-05T15:28:03.344752",
     "exception": false,
     "start_time": "2025-08-05T15:28:03.292325",
     "status": "completed"
    },
    "tags": []
   },
   "outputs": [],
   "source": [
    "# do I need to include maxdeutsch1.missing?\n",
    "\n",
    "import numpy as np\n",
    "\n",
    "colname_to_bin = \"maxdeutsch1\"\n",
    "majority_value = org_train[colname_to_bin].mode()[0]\n",
    "\n",
    "org_test[\"majmin\"] = np.where(org_test[colname_to_bin] == majority_value, \"majority\", \"minority\")"
   ]
  },
  {
   "cell_type": "code",
   "execution_count": 60,
   "id": "06a50de5",
   "metadata": {
    "execution": {
     "iopub.execute_input": "2025-08-05T15:28:03.400511Z",
     "iopub.status.busy": "2025-08-05T15:28:03.399871Z",
     "iopub.status.idle": "2025-08-05T15:28:06.162140Z",
     "shell.execute_reply": "2025-08-05T15:28:06.161146Z"
    },
    "papermill": {
     "duration": 2.792041,
     "end_time": "2025-08-05T15:28:06.164156",
     "exception": false,
     "start_time": "2025-08-05T15:28:03.372115",
     "status": "completed"
    },
    "tags": []
   },
   "outputs": [],
   "source": [
    "example_universe = universe.copy()\n",
    "example_universe[\"cutoff\"] = example_universe[\"cutoff\"][0]\n",
    "example_universe[\"eval_fairness_grouping\"] = example_universe[\"eval_fairness_grouping\"][0]\n",
    "fairness_dict, metric_frame = universe_analysis.compute_metrics(\n",
    "    example_universe,\n",
    "    y_pred_prob=probs_test,\n",
    "    y_test=y_true,\n",
    "    org_test=org_test,\n",
    ")"
   ]
  },
  {
   "cell_type": "markdown",
   "id": "f95d4e02",
   "metadata": {
    "papermill": {
     "duration": 0.02436,
     "end_time": "2025-08-05T15:28:06.213416",
     "exception": false,
     "start_time": "2025-08-05T15:28:06.189056",
     "status": "completed"
    },
    "tags": []
   },
   "source": [
    "# Overall"
   ]
  },
  {
   "cell_type": "markdown",
   "id": "bdee4871",
   "metadata": {
    "papermill": {
     "duration": 0.024094,
     "end_time": "2025-08-05T15:28:06.261444",
     "exception": false,
     "start_time": "2025-08-05T15:28:06.237350",
     "status": "completed"
    },
    "tags": []
   },
   "source": [
    "Fairness\n",
    "Main fairness target: Equalized Odds. Seems to be a better fit than equal opportunity, since we're not only interested in Y = 1. Seems to be a better fit than demographic parity, since we also care about accuracy, not just equal distribution of preds.\n",
    "\n",
    "Pick column for computation of fairness metrics\n",
    "\n",
    "Performance\n",
    "Overall performance measures, most interesting in relation to the measures split by group below"
   ]
  },
  {
   "cell_type": "code",
   "execution_count": 61,
   "id": "c4e067c6",
   "metadata": {
    "execution": {
     "iopub.execute_input": "2025-08-05T15:28:06.312009Z",
     "iopub.status.busy": "2025-08-05T15:28:06.311280Z",
     "iopub.status.idle": "2025-08-05T15:28:06.320348Z",
     "shell.execute_reply": "2025-08-05T15:28:06.319209Z"
    },
    "papermill": {
     "duration": 0.037038,
     "end_time": "2025-08-05T15:28:06.322485",
     "exception": false,
     "start_time": "2025-08-05T15:28:06.285447",
     "status": "completed"
    },
    "tags": []
   },
   "outputs": [
    {
     "data": {
      "text/plain": [
       "accuracy                   0.216553\n",
       "balanced accuracy          0.531141\n",
       "f1                         0.238100\n",
       "precision                  0.136019\n",
       "false positive rate        0.892010\n",
       "false negative rate        0.045707\n",
       "selection rate             0.900000\n",
       "count                  89710.000000\n",
       "dtype: float64"
      ]
     },
     "execution_count": 61,
     "metadata": {},
     "output_type": "execute_result"
    }
   ],
   "source": [
    "metric_frame.overall"
   ]
  },
  {
   "cell_type": "markdown",
   "id": "e968fe9d",
   "metadata": {
    "papermill": {
     "duration": 0.024625,
     "end_time": "2025-08-05T15:28:06.373005",
     "exception": false,
     "start_time": "2025-08-05T15:28:06.348380",
     "status": "completed"
    },
    "tags": []
   },
   "source": [
    "By Group"
   ]
  },
  {
   "cell_type": "code",
   "execution_count": 62,
   "id": "ec325bce",
   "metadata": {
    "execution": {
     "iopub.execute_input": "2025-08-05T15:28:06.422890Z",
     "iopub.status.busy": "2025-08-05T15:28:06.422275Z",
     "iopub.status.idle": "2025-08-05T15:28:06.440342Z",
     "shell.execute_reply": "2025-08-05T15:28:06.439324Z"
    },
    "papermill": {
     "duration": 0.045141,
     "end_time": "2025-08-05T15:28:06.442140",
     "exception": false,
     "start_time": "2025-08-05T15:28:06.396999",
     "status": "completed"
    },
    "tags": []
   },
   "outputs": [
    {
     "data": {
      "text/html": [
       "<div>\n",
       "<style scoped>\n",
       "    .dataframe tbody tr th:only-of-type {\n",
       "        vertical-align: middle;\n",
       "    }\n",
       "\n",
       "    .dataframe tbody tr th {\n",
       "        vertical-align: top;\n",
       "    }\n",
       "\n",
       "    .dataframe thead th {\n",
       "        text-align: right;\n",
       "    }\n",
       "</style>\n",
       "<table border=\"1\" class=\"dataframe\">\n",
       "  <thead>\n",
       "    <tr style=\"text-align: right;\">\n",
       "      <th></th>\n",
       "      <th>accuracy</th>\n",
       "      <th>balanced accuracy</th>\n",
       "      <th>f1</th>\n",
       "      <th>precision</th>\n",
       "      <th>false positive rate</th>\n",
       "      <th>false negative rate</th>\n",
       "      <th>selection rate</th>\n",
       "      <th>count</th>\n",
       "    </tr>\n",
       "    <tr>\n",
       "      <th>majmin</th>\n",
       "      <th></th>\n",
       "      <th></th>\n",
       "      <th></th>\n",
       "      <th></th>\n",
       "      <th></th>\n",
       "      <th></th>\n",
       "      <th></th>\n",
       "      <th></th>\n",
       "    </tr>\n",
       "  </thead>\n",
       "  <tbody>\n",
       "    <tr>\n",
       "      <th>majority</th>\n",
       "      <td>0.237907</td>\n",
       "      <td>0.538351</td>\n",
       "      <td>0.247158</td>\n",
       "      <td>0.142132</td>\n",
       "      <td>0.870015</td>\n",
       "      <td>0.053282</td>\n",
       "      <td>0.880150</td>\n",
       "      <td>69170.0</td>\n",
       "    </tr>\n",
       "    <tr>\n",
       "      <th>minority</th>\n",
       "      <td>0.144645</td>\n",
       "      <td>0.509430</td>\n",
       "      <td>0.209565</td>\n",
       "      <td>0.117277</td>\n",
       "      <td>0.964671</td>\n",
       "      <td>0.016470</td>\n",
       "      <td>0.966845</td>\n",
       "      <td>20540.0</td>\n",
       "    </tr>\n",
       "  </tbody>\n",
       "</table>\n",
       "</div>"
      ],
      "text/plain": [
       "          accuracy  balanced accuracy        f1  precision  \\\n",
       "majmin                                                       \n",
       "majority  0.237907           0.538351  0.247158   0.142132   \n",
       "minority  0.144645           0.509430  0.209565   0.117277   \n",
       "\n",
       "          false positive rate  false negative rate  selection rate    count  \n",
       "majmin                                                                       \n",
       "majority             0.870015             0.053282        0.880150  69170.0  \n",
       "minority             0.964671             0.016470        0.966845  20540.0  "
      ]
     },
     "execution_count": 62,
     "metadata": {},
     "output_type": "execute_result"
    }
   ],
   "source": [
    "metric_frame.by_group"
   ]
  },
  {
   "cell_type": "code",
   "execution_count": 63,
   "id": "a9ddbe63",
   "metadata": {
    "execution": {
     "iopub.execute_input": "2025-08-05T15:28:06.487731Z",
     "iopub.status.busy": "2025-08-05T15:28:06.486935Z",
     "iopub.status.idle": "2025-08-05T15:28:08.585273Z",
     "shell.execute_reply": "2025-08-05T15:28:08.584386Z"
    },
    "papermill": {
     "duration": 2.122853,
     "end_time": "2025-08-05T15:28:08.586865",
     "exception": false,
     "start_time": "2025-08-05T15:28:06.464012",
     "status": "completed"
    },
    "tags": []
   },
   "outputs": [
    {
     "data": {
      "text/plain": [
       "array([[<Axes: title={'center': 'accuracy'}, xlabel='majmin'>,\n",
       "        <Axes: title={'center': 'balanced accuracy'}, xlabel='majmin'>,\n",
       "        <Axes: title={'center': 'f1'}, xlabel='majmin'>],\n",
       "       [<Axes: title={'center': 'precision'}, xlabel='majmin'>,\n",
       "        <Axes: title={'center': 'false positive rate'}, xlabel='majmin'>,\n",
       "        <Axes: title={'center': 'false negative rate'}, xlabel='majmin'>],\n",
       "       [<Axes: title={'center': 'selection rate'}, xlabel='majmin'>,\n",
       "        <Axes: title={'center': 'count'}, xlabel='majmin'>,\n",
       "        <Axes: xlabel='majmin'>]], dtype=object)"
      ]
     },
     "execution_count": 63,
     "metadata": {},
     "output_type": "execute_result"
    },
    {
     "data": {
      "image/png": "[encoded data removed]",
      "text/plain": [
       "<Figure size 1200x800 with 9 Axes>"
      ]
     },
     "metadata": {},
     "output_type": "display_data"
    }
   ],
   "source": [
    "# In a graphic\n",
    "metric_frame.by_group.plot.bar(\n",
    "    subplots=True,\n",
    "    layout=[3, 3],\n",
    "    legend=False,\n",
    "    figsize=[12, 8],\n",
    "    title=\"Show all metrics\",\n",
    ")"
   ]
  },
  {
   "cell_type": "markdown",
   "id": "f57a0bac",
   "metadata": {
    "papermill": {
     "duration": 0.025428,
     "end_time": "2025-08-05T15:28:08.640349",
     "exception": false,
     "start_time": "2025-08-05T15:28:08.614921",
     "status": "completed"
    },
    "tags": []
   },
   "source": [
    "# Final Output"
   ]
  },
  {
   "cell_type": "code",
   "execution_count": 64,
   "id": "96d280a3",
   "metadata": {
    "execution": {
     "iopub.execute_input": "2025-08-05T15:28:08.693671Z",
     "iopub.status.busy": "2025-08-05T15:28:08.693047Z",
     "iopub.status.idle": "2025-08-05T15:28:08.700820Z",
     "shell.execute_reply": "2025-08-05T15:28:08.699667Z"
    },
    "papermill": {
     "duration": 0.037127,
     "end_time": "2025-08-05T15:28:08.702416",
     "exception": false,
     "start_time": "2025-08-05T15:28:08.665289",
     "status": "completed"
    },
    "tags": []
   },
   "outputs": [
    {
     "data": {
      "text/plain": [
       "4"
      ]
     },
     "execution_count": 64,
     "metadata": {},
     "output_type": "execute_result"
    }
   ],
   "source": [
    "sub_universes = universe_analysis.generate_sub_universes()\n",
    "len(sub_universes)"
   ]
  },
  {
   "cell_type": "code",
   "execution_count": 65,
   "id": "92adf7ba",
   "metadata": {
    "execution": {
     "iopub.execute_input": "2025-08-05T15:28:08.755124Z",
     "iopub.status.busy": "2025-08-05T15:28:08.754402Z",
     "iopub.status.idle": "2025-08-05T15:28:08.759997Z",
     "shell.execute_reply": "2025-08-05T15:28:08.759089Z"
    },
    "papermill": {
     "duration": 0.034707,
     "end_time": "2025-08-05T15:28:08.761772",
     "exception": false,
     "start_time": "2025-08-05T15:28:08.727065",
     "status": "completed"
    },
    "tags": []
   },
   "outputs": [],
   "source": [
    "def filter_sub_universe_data(sub_universe, org_test):\n",
    "    # Keep all rows — no filtering\n",
    "    keep_rows_mask = np.ones(org_test.shape[0], dtype=bool)\n",
    "\n",
    "    print(f\"[INFO] Keeping all rows: {keep_rows_mask.sum()} rows retained.\")\n",
    "    return keep_rows_mask"
   ]
  },
  {
   "cell_type": "code",
   "execution_count": 66,
   "id": "4a759155",
   "metadata": {
    "execution": {
     "iopub.execute_input": "2025-08-05T15:28:08.817575Z",
     "iopub.status.busy": "2025-08-05T15:28:08.816838Z",
     "iopub.status.idle": "2025-08-05T15:28:17.185717Z",
     "shell.execute_reply": "2025-08-05T15:28:17.184954Z"
    },
    "papermill": {
     "duration": 8.399165,
     "end_time": "2025-08-05T15:28:17.187013",
     "exception": false,
     "start_time": "2025-08-05T15:28:08.787848",
     "status": "completed"
    },
    "tags": []
   },
   "outputs": [
    {
     "name": "stdout",
     "output_type": "stream",
     "text": [
      "Stopping execution_time clock.\n",
      "[INFO] Keeping all rows: 89710 rows retained.\n"
     ]
    },
    {
     "name": "stdout",
     "output_type": "stream",
     "text": [
      "[INFO] Keeping all rows: 89710 rows retained.\n"
     ]
    },
    {
     "name": "stdout",
     "output_type": "stream",
     "text": [
      "[INFO] Keeping all rows: 89710 rows retained.\n"
     ]
    },
    {
     "name": "stdout",
     "output_type": "stream",
     "text": [
      "[INFO] Keeping all rows: 89710 rows retained.\n"
     ]
    },
    {
     "data": {
      "text/html": [
       "<div>\n",
       "<style scoped>\n",
       "    .dataframe tbody tr th:only-of-type {\n",
       "        vertical-align: middle;\n",
       "    }\n",
       "\n",
       "    .dataframe tbody tr th {\n",
       "        vertical-align: top;\n",
       "    }\n",
       "\n",
       "    .dataframe thead th {\n",
       "        text-align: right;\n",
       "    }\n",
       "</style>\n",
       "<table border=\"1\" class=\"dataframe\">\n",
       "  <thead>\n",
       "    <tr style=\"text-align: right;\">\n",
       "      <th></th>\n",
       "      <th>run_no</th>\n",
       "      <th>universe_id</th>\n",
       "      <th>universe_settings</th>\n",
       "      <th>execution_time</th>\n",
       "      <th>test_size_n</th>\n",
       "      <th>test_size_frac</th>\n",
       "      <th>fair_main_equalized_odds_difference</th>\n",
       "      <th>fair_main_equalized_odds_ratio</th>\n",
       "      <th>fair_main_demographic_parity_difference</th>\n",
       "      <th>fair_main_demographic_parity_ratio</th>\n",
       "      <th>...</th>\n",
       "      <th>perf_grp_precision_0</th>\n",
       "      <th>perf_grp_precision_1</th>\n",
       "      <th>perf_grp_false positive rate_0</th>\n",
       "      <th>perf_grp_false positive rate_1</th>\n",
       "      <th>perf_grp_false negative rate_0</th>\n",
       "      <th>perf_grp_false negative rate_1</th>\n",
       "      <th>perf_grp_selection rate_0</th>\n",
       "      <th>perf_grp_selection rate_1</th>\n",
       "      <th>perf_grp_count_0</th>\n",
       "      <th>perf_grp_count_1</th>\n",
       "    </tr>\n",
       "  </thead>\n",
       "  <tbody>\n",
       "    <tr>\n",
       "      <th>0</th>\n",
       "      <td>15</td>\n",
       "      <td>2355d7bfe8294f8157de46ed8edc7bf7</td>\n",
       "      <td>{\"cutoff\": \"quantile_0.1\", \"eval_fairness_grou...</td>\n",
       "      <td>24.55288</td>\n",
       "      <td>89710</td>\n",
       "      <td>1.0</td>\n",
       "      <td>0.094656</td>\n",
       "      <td>0.901877</td>\n",
       "      <td>0.086695</td>\n",
       "      <td>0.910332</td>\n",
       "      <td>...</td>\n",
       "      <td>NaN</td>\n",
       "      <td>NaN</td>\n",
       "      <td>NaN</td>\n",
       "      <td>NaN</td>\n",
       "      <td>NaN</td>\n",
       "      <td>NaN</td>\n",
       "      <td>NaN</td>\n",
       "      <td>NaN</td>\n",
       "      <td>NaN</td>\n",
       "      <td>NaN</td>\n",
       "    </tr>\n",
       "    <tr>\n",
       "      <th>0</th>\n",
       "      <td>15</td>\n",
       "      <td>2355d7bfe8294f8157de46ed8edc7bf7</td>\n",
       "      <td>{\"cutoff\": \"quantile_0.1\", \"eval_fairness_grou...</td>\n",
       "      <td>24.55288</td>\n",
       "      <td>89710</td>\n",
       "      <td>1.0</td>\n",
       "      <td>0.094656</td>\n",
       "      <td>0.901877</td>\n",
       "      <td>0.086695</td>\n",
       "      <td>0.910332</td>\n",
       "      <td>...</td>\n",
       "      <td>0.117277</td>\n",
       "      <td>0.142132</td>\n",
       "      <td>0.964671</td>\n",
       "      <td>0.870015</td>\n",
       "      <td>0.016470</td>\n",
       "      <td>0.053282</td>\n",
       "      <td>0.966845</td>\n",
       "      <td>0.880150</td>\n",
       "      <td>20540.0</td>\n",
       "      <td>69170.0</td>\n",
       "    </tr>\n",
       "    <tr>\n",
       "      <th>0</th>\n",
       "      <td>15</td>\n",
       "      <td>2355d7bfe8294f8157de46ed8edc7bf7</td>\n",
       "      <td>{\"cutoff\": \"quantile_0.25\", \"eval_fairness_gro...</td>\n",
       "      <td>24.55288</td>\n",
       "      <td>89710</td>\n",
       "      <td>1.0</td>\n",
       "      <td>0.207110</td>\n",
       "      <td>0.767119</td>\n",
       "      <td>0.189940</td>\n",
       "      <td>0.788119</td>\n",
       "      <td>...</td>\n",
       "      <td>NaN</td>\n",
       "      <td>NaN</td>\n",
       "      <td>NaN</td>\n",
       "      <td>NaN</td>\n",
       "      <td>NaN</td>\n",
       "      <td>NaN</td>\n",
       "      <td>NaN</td>\n",
       "      <td>NaN</td>\n",
       "      <td>NaN</td>\n",
       "      <td>NaN</td>\n",
       "    </tr>\n",
       "    <tr>\n",
       "      <th>0</th>\n",
       "      <td>15</td>\n",
       "      <td>2355d7bfe8294f8157de46ed8edc7bf7</td>\n",
       "      <td>{\"cutoff\": \"quantile_0.25\", \"eval_fairness_gro...</td>\n",
       "      <td>24.55288</td>\n",
       "      <td>89710</td>\n",
       "      <td>1.0</td>\n",
       "      <td>0.207110</td>\n",
       "      <td>0.767119</td>\n",
       "      <td>0.189940</td>\n",
       "      <td>0.788119</td>\n",
       "      <td>...</td>\n",
       "      <td>0.122305</td>\n",
       "      <td>0.161964</td>\n",
       "      <td>0.889335</td>\n",
       "      <td>0.682226</td>\n",
       "      <td>0.048986</td>\n",
       "      <td>0.134026</td>\n",
       "      <td>0.896446</td>\n",
       "      <td>0.706506</td>\n",
       "      <td>20540.0</td>\n",
       "      <td>69170.0</td>\n",
       "    </tr>\n",
       "  </tbody>\n",
       "</table>\n",
       "<p>4 rows × 50 columns</p>\n",
       "</div>"
      ],
      "text/plain": [
       "  run_no                       universe_id  \\\n",
       "0     15  2355d7bfe8294f8157de46ed8edc7bf7   \n",
       "0     15  2355d7bfe8294f8157de46ed8edc7bf7   \n",
       "0     15  2355d7bfe8294f8157de46ed8edc7bf7   \n",
       "0     15  2355d7bfe8294f8157de46ed8edc7bf7   \n",
       "\n",
       "                                   universe_settings  execution_time  \\\n",
       "0  {\"cutoff\": \"quantile_0.1\", \"eval_fairness_grou...        24.55288   \n",
       "0  {\"cutoff\": \"quantile_0.1\", \"eval_fairness_grou...        24.55288   \n",
       "0  {\"cutoff\": \"quantile_0.25\", \"eval_fairness_gro...        24.55288   \n",
       "0  {\"cutoff\": \"quantile_0.25\", \"eval_fairness_gro...        24.55288   \n",
       "\n",
       "   test_size_n  test_size_frac  fair_main_equalized_odds_difference  \\\n",
       "0        89710             1.0                             0.094656   \n",
       "0        89710             1.0                             0.094656   \n",
       "0        89710             1.0                             0.207110   \n",
       "0        89710             1.0                             0.207110   \n",
       "\n",
       "   fair_main_equalized_odds_ratio  fair_main_demographic_parity_difference  \\\n",
       "0                        0.901877                                 0.086695   \n",
       "0                        0.901877                                 0.086695   \n",
       "0                        0.767119                                 0.189940   \n",
       "0                        0.767119                                 0.189940   \n",
       "\n",
       "   fair_main_demographic_parity_ratio  ...  perf_grp_precision_0  \\\n",
       "0                            0.910332  ...                   NaN   \n",
       "0                            0.910332  ...              0.117277   \n",
       "0                            0.788119  ...                   NaN   \n",
       "0                            0.788119  ...              0.122305   \n",
       "\n",
       "   perf_grp_precision_1  perf_grp_false positive rate_0  \\\n",
       "0                   NaN                             NaN   \n",
       "0              0.142132                        0.964671   \n",
       "0                   NaN                             NaN   \n",
       "0              0.161964                        0.889335   \n",
       "\n",
       "   perf_grp_false positive rate_1  perf_grp_false negative rate_0  \\\n",
       "0                             NaN                             NaN   \n",
       "0                        0.870015                        0.016470   \n",
       "0                             NaN                             NaN   \n",
       "0                        0.682226                        0.048986   \n",
       "\n",
       "   perf_grp_false negative rate_1  perf_grp_selection rate_0  \\\n",
       "0                             NaN                        NaN   \n",
       "0                        0.053282                   0.966845   \n",
       "0                             NaN                        NaN   \n",
       "0                        0.134026                   0.896446   \n",
       "\n",
       "   perf_grp_selection rate_1  perf_grp_count_0  perf_grp_count_1  \n",
       "0                        NaN               NaN               NaN  \n",
       "0                   0.880150           20540.0           69170.0  \n",
       "0                        NaN               NaN               NaN  \n",
       "0                   0.706506           20540.0           69170.0  \n",
       "\n",
       "[4 rows x 50 columns]"
      ]
     },
     "execution_count": 66,
     "metadata": {},
     "output_type": "execute_result"
    }
   ],
   "source": [
    "final_output = universe_analysis.generate_final_output(\n",
    "    y_pred_prob=probs_test,\n",
    "    y_test=y_true,\n",
    "    org_test=org_test,\n",
    "    filter_data=filter_sub_universe_data,\n",
    "    cp_metrics_df=cp_metrics_df,\n",
    "    save=True,\n",
    ")\n",
    "final_output"
   ]
  }
 ],
 "metadata": {
  "celltoolbar": "Tags",
  "kernelspec": {
   "display_name": "Python (CMA Fairness)",
   "language": "python",
   "name": "cma_fair_env"
  },
  "language_info": {
   "codemirror_mode": {
    "name": "ipython",
    "version": 3
   },
   "file_extension": ".py",
   "mimetype": "text/x-python",
   "name": "python",
   "nbconvert_exporter": "python",
   "pygments_lexer": "ipython3",
   "version": "3.10.12"
  },
  "papermill": {
   "default_parameters": {},
   "duration": 36.721801,
   "end_time": "2025-08-05T15:28:17.720693",
   "environment_variables": {},
   "exception": null,
   "input_path": "universe_analysis.ipynb",
   "output_path": "output/runs/15/notebooks/m_15-2355d7bfe8294f8157de46ed8edc7bf7.ipynb",
   "parameters": {
    "output_dir": "output",
    "run_no": "15",
    "seed": "2023",
    "universe": "{\"cutoff\": [\"quantile_0.1\", \"quantile_0.25\"], \"eval_fairness_grouping\": [\"majority-minority\", \"nationality-all\"], \"exclude_features\": \"nationality-sex\", \"exclude_subgroups\": \"keep-all\", \"model\": \"logreg\", \"scale\": \"do-not-scale\", \"training_size\": \"5k\", \"training_year\": \"2014\"}",
    "universe_id": "2355d7bfe8294f8157de46ed8edc7bf7"
   },
   "start_time": "2025-08-05T15:27:40.998892",
   "version": "2.6.0"
  }
 },
 "nbformat": 4,
 "nbformat_minor": 5
}