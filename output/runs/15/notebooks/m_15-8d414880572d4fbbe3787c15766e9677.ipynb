{
 "cells": [
  {
   "cell_type": "code",
   "execution_count": 1,
   "id": "f159f837-637b-42ba-96b5-ec9a68c44524",
   "metadata": {
    "execution": {
     "iopub.execute_input": "2025-08-05T16:24:26.674614Z",
     "iopub.status.busy": "2025-08-05T16:24:26.673859Z",
     "iopub.status.idle": "2025-08-05T16:24:26.689361Z",
     "shell.execute_reply": "2025-08-05T16:24:26.688297Z"
    },
    "papermill": {
     "duration": 0.041606,
     "end_time": "2025-08-05T16:24:26.691481",
     "exception": false,
     "start_time": "2025-08-05T16:24:26.649875",
     "status": "completed"
    },
    "tags": []
   },
   "outputs": [
    {
     "name": "stdout",
     "output_type": "stream",
     "text": [
      "/dss/dsshome1/0C/ra93lal2/cma/CMA_Fairness_v2\n"
     ]
    },
    {
     "name": "stderr",
     "output_type": "stream",
     "text": [
      "/dss/dsshome1/0C/ra93lal2/.local/share/virtualenvs/CMA_Fairness_v2-3j10GkSs/lib/python3.10/site-packages/IPython/core/magics/osm.py:393: UserWarning: This is now an optional IPython functionality, using bookmarks requires you to install the `pickleshare` library.\n",
      "  bkms = self.shell.db.get('bookmarks', {})\n",
      "/dss/dsshome1/0C/ra93lal2/.local/share/virtualenvs/CMA_Fairness_v2-3j10GkSs/lib/python3.10/site-packages/IPython/core/magics/osm.py:417: UserWarning: This is now an optional IPython functionality, setting dhist requires you to install the `pickleshare` library.\n",
      "  self.shell.db['dhist'] = compress_dhist(dhist)[-100:]\n"
     ]
    }
   ],
   "source": [
    "%cd ~/cma/CMA_Fairness_v2"
   ]
  },
  {
   "cell_type": "markdown",
   "id": "de2603b9",
   "metadata": {
    "papermill": {
     "duration": 0.022872,
     "end_time": "2025-08-05T16:24:26.737788",
     "exception": false,
     "start_time": "2025-08-05T16:24:26.714916",
     "status": "completed"
    },
    "tags": []
   },
   "source": [
    "The following cell holds the definition of our parameters, these values can be overriden by rendering the with e.g. the following command:\n",
    "\n",
    "papermill -p alpha 0.2 -p ratio 0.3 universe_analysis.ipynb output/test_run.ipynb"
   ]
  },
  {
   "cell_type": "code",
   "execution_count": 2,
   "id": "a80968a0-40bb-4fa9-85ef-2d5eefb01975",
   "metadata": {
    "execution": {
     "iopub.execute_input": "2025-08-05T16:24:26.784623Z",
     "iopub.status.busy": "2025-08-05T16:24:26.783875Z",
     "iopub.status.idle": "2025-08-05T16:24:26.790695Z",
     "shell.execute_reply": "2025-08-05T16:24:26.789618Z"
    },
    "papermill": {
     "duration": 0.032995,
     "end_time": "2025-08-05T16:24:26.792897",
     "exception": false,
     "start_time": "2025-08-05T16:24:26.759902",
     "status": "completed"
    },
    "tags": []
   },
   "outputs": [
    {
     "name": "stdout",
     "output_type": "stream",
     "text": [
      "Current working directory: /dss/dsshome1/0C/ra93lal2/cma/CMA_Fairness_v2\n"
     ]
    }
   ],
   "source": [
    "import os\n",
    "print(\"Current working directory:\", os.getcwd())"
   ]
  },
  {
   "cell_type": "code",
   "execution_count": 3,
   "id": "2dce4c03",
   "metadata": {
    "execution": {
     "iopub.execute_input": "2025-08-05T16:24:26.835184Z",
     "iopub.status.busy": "2025-08-05T16:24:26.834577Z",
     "iopub.status.idle": "2025-08-05T16:24:26.842116Z",
     "shell.execute_reply": "2025-08-05T16:24:26.840957Z"
    },
    "papermill": {
     "duration": 0.031316,
     "end_time": "2025-08-05T16:24:26.844363",
     "exception": false,
     "start_time": "2025-08-05T16:24:26.813047",
     "status": "completed"
    },
    "tags": [
     "parameters"
    ]
   },
   "outputs": [],
   "source": [
    "run_no = 0\n",
    "universe_id = \"test\"\n",
    "universe = {\n",
    "    \"training_size\": \"25k\", # \"25k\", \"5k\", \"1k\"\n",
    "    \"training_year\": \"2014\", # \"2014\", \"2012_14\", \"2010_14\"\n",
    "    \"scale\": \"scale\", # \"scale\", \"do-not-scale\",\n",
    "    \"model\": \"elasticnet\", # \"logreg\", \"penalized_logreg\", \"rf\", \"gbm\", \"elasticnet\"\n",
    "    \"cutoff\": [\"quantile_0.15\", \"quantile_0.30\"],\n",
    "    \"exclude_features\": \"age\", # \"none\", \"nationality\", \"sex\", \"nationality-sex\", \"age\"\n",
    "    \"exclude_subgroups\": \"keep-all\", # \"keep-all\", \"drop-non-german\"\n",
    "    \"eval_fairness_grouping\": [\"majority-minority\", \"nationality-all\"]\n",
    "}\n",
    "\n",
    "output_dir=\"./output\"\n",
    "seed=0"
   ]
  },
  {
   "cell_type": "code",
   "execution_count": 4,
   "id": "c8fdbb69",
   "metadata": {
    "execution": {
     "iopub.execute_input": "2025-08-05T16:24:26.892085Z",
     "iopub.status.busy": "2025-08-05T16:24:26.891455Z",
     "iopub.status.idle": "2025-08-05T16:24:26.897854Z",
     "shell.execute_reply": "2025-08-05T16:24:26.896567Z"
    },
    "papermill": {
     "duration": 0.032007,
     "end_time": "2025-08-05T16:24:26.899660",
     "exception": false,
     "start_time": "2025-08-05T16:24:26.867653",
     "status": "completed"
    },
    "tags": [
     "injected-parameters"
    ]
   },
   "outputs": [],
   "source": [
    "# Parameters\n",
    "universe_id = \"8d414880572d4fbbe3787c15766e9677\"\n",
    "run_no = \"15\"\n",
    "universe = \"{\\\"cutoff\\\": [\\\"quantile_0.1\\\", \\\"quantile_0.25\\\"], \\\"eval_fairness_grouping\\\": [\\\"majority-minority\\\", \\\"nationality-all\\\"], \\\"exclude_features\\\": \\\"none\\\", \\\"exclude_subgroups\\\": \\\"keep-all\\\", \\\"model\\\": \\\"penalized_logreg\\\", \\\"scale\\\": \\\"do-not-scale\\\", \\\"training_size\\\": \\\"1k\\\", \\\"training_year\\\": \\\"2012_14\\\"}\"\n",
    "output_dir = \"output\"\n",
    "seed = \"2023\"\n"
   ]
  },
  {
   "cell_type": "code",
   "execution_count": 5,
   "id": "1650acaf",
   "metadata": {
    "execution": {
     "iopub.execute_input": "2025-08-05T16:24:26.943009Z",
     "iopub.status.busy": "2025-08-05T16:24:26.942447Z",
     "iopub.status.idle": "2025-08-05T16:24:26.948886Z",
     "shell.execute_reply": "2025-08-05T16:24:26.947677Z"
    },
    "papermill": {
     "duration": 0.029717,
     "end_time": "2025-08-05T16:24:26.950583",
     "exception": false,
     "start_time": "2025-08-05T16:24:26.920866",
     "status": "completed"
    },
    "tags": []
   },
   "outputs": [],
   "source": [
    "import json\n",
    "if isinstance(universe, str):\n",
    "    universe = json.loads(universe)"
   ]
  },
  {
   "cell_type": "code",
   "execution_count": 6,
   "id": "16620c48",
   "metadata": {
    "execution": {
     "iopub.execute_input": "2025-08-05T16:24:26.994513Z",
     "iopub.status.busy": "2025-08-05T16:24:26.993927Z",
     "iopub.status.idle": "2025-08-05T16:24:27.048801Z",
     "shell.execute_reply": "2025-08-05T16:24:27.047615Z"
    },
    "papermill": {
     "duration": 0.07957,
     "end_time": "2025-08-05T16:24:27.051181",
     "exception": false,
     "start_time": "2025-08-05T16:24:26.971611",
     "status": "completed"
    },
    "tags": []
   },
   "outputs": [],
   "source": [
    "# Auto-reload the custom package\n",
    "%load_ext autoreload\n",
    "%autoreload 1\n",
    "%aimport fairness_multiverse"
   ]
  },
  {
   "cell_type": "code",
   "execution_count": 7,
   "id": "01c5c9f3",
   "metadata": {
    "execution": {
     "iopub.execute_input": "2025-08-05T16:24:27.094788Z",
     "iopub.status.busy": "2025-08-05T16:24:27.094271Z",
     "iopub.status.idle": "2025-08-05T16:24:29.410389Z",
     "shell.execute_reply": "2025-08-05T16:24:29.408630Z"
    },
    "papermill": {
     "duration": 2.340084,
     "end_time": "2025-08-05T16:24:29.412672",
     "exception": false,
     "start_time": "2025-08-05T16:24:27.072588",
     "status": "completed"
    },
    "tags": []
   },
   "outputs": [],
   "source": [
    "from fairness_multiverse.universe import UniverseAnalysis\n",
    "\n",
    "universe_analysis = UniverseAnalysis(\n",
    "    run_no = run_no,\n",
    "    universe_id = universe_id,\n",
    "    universe = universe,\n",
    "    output_dir=output_dir,\n",
    ")"
   ]
  },
  {
   "cell_type": "code",
   "execution_count": 8,
   "id": "106241f5",
   "metadata": {
    "execution": {
     "iopub.execute_input": "2025-08-05T16:24:29.486665Z",
     "iopub.status.busy": "2025-08-05T16:24:29.485068Z",
     "iopub.status.idle": "2025-08-05T16:24:29.494058Z",
     "shell.execute_reply": "2025-08-05T16:24:29.492843Z"
    },
    "papermill": {
     "duration": 0.047349,
     "end_time": "2025-08-05T16:24:29.496610",
     "exception": false,
     "start_time": "2025-08-05T16:24:29.449261",
     "status": "completed"
    },
    "tags": []
   },
   "outputs": [
    {
     "name": "stdout",
     "output_type": "stream",
     "text": [
      "Using Seed: 2023\n"
     ]
    }
   ],
   "source": [
    "import numpy as np\n",
    "parsed_seed = int(seed)\n",
    "np.random.seed(parsed_seed)\n",
    "print(f\"Using Seed: {parsed_seed}\")"
   ]
  },
  {
   "cell_type": "markdown",
   "id": "e0ebdc57",
   "metadata": {
    "papermill": {
     "duration": 0.031984,
     "end_time": "2025-08-05T16:24:29.561105",
     "exception": false,
     "start_time": "2025-08-05T16:24:29.529121",
     "status": "completed"
    },
    "tags": []
   },
   "source": [
    "# Loading Data"
   ]
  },
  {
   "cell_type": "code",
   "execution_count": 9,
   "id": "f0496b8a",
   "metadata": {
    "execution": {
     "iopub.execute_input": "2025-08-05T16:24:29.630447Z",
     "iopub.status.busy": "2025-08-05T16:24:29.629842Z",
     "iopub.status.idle": "2025-08-05T16:24:44.369717Z",
     "shell.execute_reply": "2025-08-05T16:24:44.368112Z"
    },
    "papermill": {
     "duration": 14.764655,
     "end_time": "2025-08-05T16:24:44.371686",
     "exception": false,
     "start_time": "2025-08-05T16:24:29.607031",
     "status": "completed"
    },
    "tags": []
   },
   "outputs": [
    {
     "name": "stdout",
     "output_type": "stream",
     "text": [
      "Loading SIAB data from cache: data/siab_cached.csv.gz\n"
     ]
    },
    {
     "name": "stdout",
     "output_type": "stream",
     "text": [
      "(643690, 164)\n"
     ]
    }
   ],
   "source": [
    "from pathlib import Path\n",
    "import pandas as pd\n",
    "\n",
    "# File paths\n",
    "raw_file = Path(\"data/raw/siab.csv\")\n",
    "cache_file = Path(\"data/siab_cached.csv.gz\")\n",
    "\n",
    "# Ensure cache directory exists\n",
    "cache_file.parent.mkdir(parents=True, exist_ok=True)\n",
    "\n",
    "# Load with simple caching\n",
    "if cache_file.exists():\n",
    "    print(f\"Loading SIAB data from cache: {cache_file}\")\n",
    "    siab = pd.read_csv(cache_file, compression='gzip')\n",
    "else:\n",
    "    print(f\"Cache not found. Reading raw SIAB data: {raw_file}\")\n",
    "    siab = pd.read_csv(raw_file)\n",
    "    siab.to_csv(cache_file, index=False, compression='gzip')\n",
    "    print(f\"Cached SIAB data to: {cache_file}\")\n",
    "\n",
    "print(siab.shape)"
   ]
  },
  {
   "cell_type": "code",
   "execution_count": 10,
   "id": "db0ca512-5f53-4dba-abdb-a2888bca41ba",
   "metadata": {
    "execution": {
     "iopub.execute_input": "2025-08-05T16:24:44.418177Z",
     "iopub.status.busy": "2025-08-05T16:24:44.417705Z",
     "iopub.status.idle": "2025-08-05T16:24:44.423972Z",
     "shell.execute_reply": "2025-08-05T16:24:44.423113Z"
    },
    "papermill": {
     "duration": 0.030679,
     "end_time": "2025-08-05T16:24:44.425431",
     "exception": false,
     "start_time": "2025-08-05T16:24:44.394752",
     "status": "completed"
    },
    "tags": []
   },
   "outputs": [],
   "source": [
    "#siab"
   ]
  },
  {
   "cell_type": "markdown",
   "id": "997051c5-15bd-4b69-9786-c3001a3ce484",
   "metadata": {
    "papermill": {
     "duration": 0.011103,
     "end_time": "2025-08-05T16:24:44.448047",
     "exception": false,
     "start_time": "2025-08-05T16:24:44.436944",
     "status": "completed"
    },
    "tags": []
   },
   "source": [
    "# Splitting Data and Setting Training Data Size"
   ]
  },
  {
   "cell_type": "code",
   "execution_count": 11,
   "id": "aea9c6ef-6f46-42c8-85eb-5a62025c1508",
   "metadata": {
    "execution": {
     "iopub.execute_input": "2025-08-05T16:24:44.471285Z",
     "iopub.status.busy": "2025-08-05T16:24:44.470660Z",
     "iopub.status.idle": "2025-08-05T16:24:45.101177Z",
     "shell.execute_reply": "2025-08-05T16:24:45.100065Z"
    },
    "papermill": {
     "duration": 0.644033,
     "end_time": "2025-08-05T16:24:45.103049",
     "exception": false,
     "start_time": "2025-08-05T16:24:44.459016",
     "status": "completed"
    },
    "tags": []
   },
   "outputs": [],
   "source": [
    "from fairness_multiverse.universe import sample_by_year_size\n",
    "\n",
    "siab_train = sample_by_year_size(siab,\n",
    "                               training_year=universe[\"training_year\"],\n",
    "                               training_size=universe[\"training_size\"])"
   ]
  },
  {
   "cell_type": "code",
   "execution_count": 12,
   "id": "8d3afb32-789d-442c-8d5d-9f5aa8dd2eed",
   "metadata": {
    "execution": {
     "iopub.execute_input": "2025-08-05T16:24:45.144723Z",
     "iopub.status.busy": "2025-08-05T16:24:45.144412Z",
     "iopub.status.idle": "2025-08-05T16:24:45.149433Z",
     "shell.execute_reply": "2025-08-05T16:24:45.148362Z"
    },
    "papermill": {
     "duration": 0.027556,
     "end_time": "2025-08-05T16:24:45.151294",
     "exception": false,
     "start_time": "2025-08-05T16:24:45.123738",
     "status": "completed"
    },
    "tags": []
   },
   "outputs": [],
   "source": [
    "#siab_train.shape"
   ]
  },
  {
   "cell_type": "code",
   "execution_count": 13,
   "id": "d582db68-1a4c-47fb-84fc-08518dc1975a",
   "metadata": {
    "execution": {
     "iopub.execute_input": "2025-08-05T16:24:45.185189Z",
     "iopub.status.busy": "2025-08-05T16:24:45.184681Z",
     "iopub.status.idle": "2025-08-05T16:24:45.190042Z",
     "shell.execute_reply": "2025-08-05T16:24:45.188891Z"
    },
    "papermill": {
     "duration": 0.029007,
     "end_time": "2025-08-05T16:24:45.191837",
     "exception": false,
     "start_time": "2025-08-05T16:24:45.162830",
     "status": "completed"
    },
    "tags": []
   },
   "outputs": [],
   "source": [
    "#display(siab_train.groupby(\"year\").size())"
   ]
  },
  {
   "cell_type": "code",
   "execution_count": 14,
   "id": "a561edb4-d032-42cb-8256-22eac1111c64",
   "metadata": {
    "execution": {
     "iopub.execute_input": "2025-08-05T16:24:45.242581Z",
     "iopub.status.busy": "2025-08-05T16:24:45.242175Z",
     "iopub.status.idle": "2025-08-05T16:24:45.509037Z",
     "shell.execute_reply": "2025-08-05T16:24:45.507722Z"
    },
    "papermill": {
     "duration": 0.297195,
     "end_time": "2025-08-05T16:24:45.511233",
     "exception": false,
     "start_time": "2025-08-05T16:24:45.214038",
     "status": "completed"
    },
    "tags": []
   },
   "outputs": [],
   "source": [
    "#siab_train = siab_s[siab_s.year < 2015]\n",
    "siab_calib = siab[siab.year == 2015]\n",
    "siab_test = siab[siab.year == 2016]"
   ]
  },
  {
   "cell_type": "code",
   "execution_count": 15,
   "id": "472de16f-c3db-4916-846b-1f0de9cf1746",
   "metadata": {
    "execution": {
     "iopub.execute_input": "2025-08-05T16:24:45.559093Z",
     "iopub.status.busy": "2025-08-05T16:24:45.558493Z",
     "iopub.status.idle": "2025-08-05T16:24:45.566751Z",
     "shell.execute_reply": "2025-08-05T16:24:45.565448Z"
    },
    "papermill": {
     "duration": 0.035138,
     "end_time": "2025-08-05T16:24:45.568712",
     "exception": false,
     "start_time": "2025-08-05T16:24:45.533574",
     "status": "completed"
    },
    "tags": []
   },
   "outputs": [],
   "source": [
    "X_train = siab_train.iloc[:,4:164]\n",
    "y_train = siab_train.iloc[:, [3]]"
   ]
  },
  {
   "cell_type": "code",
   "execution_count": 16,
   "id": "828c96af-f43a-4ed6-ba47-8ac73a47d56c",
   "metadata": {
    "execution": {
     "iopub.execute_input": "2025-08-05T16:24:45.618040Z",
     "iopub.status.busy": "2025-08-05T16:24:45.617347Z",
     "iopub.status.idle": "2025-08-05T16:24:45.677829Z",
     "shell.execute_reply": "2025-08-05T16:24:45.676456Z"
    },
    "papermill": {
     "duration": 0.087504,
     "end_time": "2025-08-05T16:24:45.680036",
     "exception": false,
     "start_time": "2025-08-05T16:24:45.592532",
     "status": "completed"
    },
    "tags": []
   },
   "outputs": [],
   "source": [
    "X_calib = siab_calib.iloc[:,4:164]\n",
    "y_calib = siab_calib.iloc[:, [3]]"
   ]
  },
  {
   "cell_type": "code",
   "execution_count": 17,
   "id": "c34be9c3-6bd6-476e-acd3-845840e303be",
   "metadata": {
    "execution": {
     "iopub.execute_input": "2025-08-05T16:24:45.730678Z",
     "iopub.status.busy": "2025-08-05T16:24:45.729812Z",
     "iopub.status.idle": "2025-08-05T16:24:45.793232Z",
     "shell.execute_reply": "2025-08-05T16:24:45.792057Z"
    },
    "papermill": {
     "duration": 0.090927,
     "end_time": "2025-08-05T16:24:45.795738",
     "exception": false,
     "start_time": "2025-08-05T16:24:45.704811",
     "status": "completed"
    },
    "tags": []
   },
   "outputs": [],
   "source": [
    "X_test = siab_test.iloc[:,4:164]\n",
    "y_true = siab_test.iloc[:, [3]]"
   ]
  },
  {
   "cell_type": "code",
   "execution_count": 18,
   "id": "e6c733c5",
   "metadata": {
    "execution": {
     "iopub.execute_input": "2025-08-05T16:24:45.848119Z",
     "iopub.status.busy": "2025-08-05T16:24:45.847465Z",
     "iopub.status.idle": "2025-08-05T16:24:45.961631Z",
     "shell.execute_reply": "2025-08-05T16:24:45.960277Z"
    },
    "papermill": {
     "duration": 0.143141,
     "end_time": "2025-08-05T16:24:45.964108",
     "exception": false,
     "start_time": "2025-08-05T16:24:45.820967",
     "status": "completed"
    },
    "tags": []
   },
   "outputs": [],
   "source": [
    "# Auxiliary data needed downstream in the pipeline\n",
    "\n",
    "org_train = X_train.copy()\n",
    "org_test = X_test.copy()\n",
    "org_calib = X_calib.copy()"
   ]
  },
  {
   "cell_type": "markdown",
   "id": "0a4a1b33",
   "metadata": {
    "papermill": {
     "duration": 0.024881,
     "end_time": "2025-08-05T16:24:46.014900",
     "exception": false,
     "start_time": "2025-08-05T16:24:45.990019",
     "status": "completed"
    },
    "tags": []
   },
   "source": [
    "# Preprocessing Data"
   ]
  },
  {
   "cell_type": "code",
   "execution_count": 19,
   "id": "ca879031",
   "metadata": {
    "execution": {
     "iopub.execute_input": "2025-08-05T16:24:46.066095Z",
     "iopub.status.busy": "2025-08-05T16:24:46.065016Z",
     "iopub.status.idle": "2025-08-05T16:24:46.072496Z",
     "shell.execute_reply": "2025-08-05T16:24:46.071231Z"
    },
    "papermill": {
     "duration": 0.035738,
     "end_time": "2025-08-05T16:24:46.074904",
     "exception": false,
     "start_time": "2025-08-05T16:24:46.039166",
     "status": "completed"
    },
    "tags": []
   },
   "outputs": [],
   "source": [
    "# EXCLUDE PROTECTED FEATURES\n",
    "# ----------------------\n",
    "# \"exclude_features\": \"none\", # \"nationality\", \"sex\", \"nationality-sex\"\n",
    "\n",
    "excluded_features = universe[\"exclude_features\"].split(\"-\") # split, e.g.: \"nationality-sex\" -> [\"nationality\", \"sex\"]\n",
    "excluded_features_dictionary = {\n",
    "    \"nationality\": [\"maxdeutsch1\", \"maxdeutsch.Missing.\"],\n",
    "    \"sex\": [\"frau1\"],\n",
    "    \"age\": [\"age\"],\n",
    "}"
   ]
  },
  {
   "cell_type": "code",
   "execution_count": 20,
   "id": "b745ac60",
   "metadata": {
    "execution": {
     "iopub.execute_input": "2025-08-05T16:24:46.126361Z",
     "iopub.status.busy": "2025-08-05T16:24:46.125935Z",
     "iopub.status.idle": "2025-08-05T16:24:46.132047Z",
     "shell.execute_reply": "2025-08-05T16:24:46.130889Z"
    },
    "papermill": {
     "duration": 0.033991,
     "end_time": "2025-08-05T16:24:46.134127",
     "exception": false,
     "start_time": "2025-08-05T16:24:46.100136",
     "status": "completed"
    },
    "tags": []
   },
   "outputs": [],
   "source": [
    "# Code nice names to column names\n",
    "\n",
    "excluded_features_columns = [\n",
    "    excluded_features_dictionary[f] for f in excluded_features if len(f) > 0 and f != \"none\"\n",
    "]"
   ]
  },
  {
   "cell_type": "code",
   "execution_count": 21,
   "id": "f84f73a2",
   "metadata": {
    "execution": {
     "iopub.execute_input": "2025-08-05T16:24:46.185172Z",
     "iopub.status.busy": "2025-08-05T16:24:46.184323Z",
     "iopub.status.idle": "2025-08-05T16:24:46.191768Z",
     "shell.execute_reply": "2025-08-05T16:24:46.190473Z"
    },
    "papermill": {
     "duration": 0.035298,
     "end_time": "2025-08-05T16:24:46.194072",
     "exception": false,
     "start_time": "2025-08-05T16:24:46.158774",
     "status": "completed"
    },
    "tags": []
   },
   "outputs": [],
   "source": [
    "from utils import flatten_once\n",
    "\n",
    "excluded_features_columns = flatten_once(excluded_features_columns)"
   ]
  },
  {
   "cell_type": "code",
   "execution_count": 22,
   "id": "884dea22",
   "metadata": {
    "execution": {
     "iopub.execute_input": "2025-08-05T16:24:46.246024Z",
     "iopub.status.busy": "2025-08-05T16:24:46.245163Z",
     "iopub.status.idle": "2025-08-05T16:24:46.252034Z",
     "shell.execute_reply": "2025-08-05T16:24:46.250742Z"
    },
    "papermill": {
     "duration": 0.035394,
     "end_time": "2025-08-05T16:24:46.254275",
     "exception": false,
     "start_time": "2025-08-05T16:24:46.218881",
     "status": "completed"
    },
    "tags": []
   },
   "outputs": [],
   "source": [
    "if len(excluded_features_columns) > 0:\n",
    "    print(f\"Dropping features: {excluded_features_columns}\")\n",
    "    X_train.drop(excluded_features_columns, axis=1, inplace=True)"
   ]
  },
  {
   "cell_type": "code",
   "execution_count": 23,
   "id": "95ab8b16",
   "metadata": {
    "execution": {
     "iopub.execute_input": "2025-08-05T16:24:46.305748Z",
     "iopub.status.busy": "2025-08-05T16:24:46.305064Z",
     "iopub.status.idle": "2025-08-05T16:24:46.311627Z",
     "shell.execute_reply": "2025-08-05T16:24:46.310418Z"
    },
    "papermill": {
     "duration": 0.034616,
     "end_time": "2025-08-05T16:24:46.313706",
     "exception": false,
     "start_time": "2025-08-05T16:24:46.279090",
     "status": "completed"
    },
    "tags": []
   },
   "outputs": [],
   "source": [
    "if len(excluded_features_columns) > 0:\n",
    "    print(f\"Dropping features: {excluded_features_columns}\")\n",
    "    X_test.drop(excluded_features_columns, axis=1, inplace=True)"
   ]
  },
  {
   "cell_type": "code",
   "execution_count": 24,
   "id": "1853aaf5-fb9f-46cb-a2b5-8ea4ae2237e4",
   "metadata": {
    "execution": {
     "iopub.execute_input": "2025-08-05T16:24:46.366031Z",
     "iopub.status.busy": "2025-08-05T16:24:46.365329Z",
     "iopub.status.idle": "2025-08-05T16:24:46.372255Z",
     "shell.execute_reply": "2025-08-05T16:24:46.370967Z"
    },
    "papermill": {
     "duration": 0.035456,
     "end_time": "2025-08-05T16:24:46.374305",
     "exception": false,
     "start_time": "2025-08-05T16:24:46.338849",
     "status": "completed"
    },
    "tags": []
   },
   "outputs": [],
   "source": [
    "if len(excluded_features_columns) > 0:\n",
    "    print(f\"Dropping features: {excluded_features_columns}\")\n",
    "    X_calib.drop(excluded_features_columns, axis=1, inplace=True)"
   ]
  },
  {
   "cell_type": "code",
   "execution_count": 25,
   "id": "76c4dc6d",
   "metadata": {
    "execution": {
     "iopub.execute_input": "2025-08-05T16:24:46.425196Z",
     "iopub.status.busy": "2025-08-05T16:24:46.424554Z",
     "iopub.status.idle": "2025-08-05T16:24:46.430777Z",
     "shell.execute_reply": "2025-08-05T16:24:46.429501Z"
    },
    "papermill": {
     "duration": 0.033434,
     "end_time": "2025-08-05T16:24:46.432841",
     "exception": false,
     "start_time": "2025-08-05T16:24:46.399407",
     "status": "completed"
    },
    "tags": []
   },
   "outputs": [],
   "source": [
    "# EXCLUDE CERTAIN SUBGROUPS\n",
    "# ----------------------\n",
    "\n",
    "mode = universe.get(\"exclude_subgroups\", \"keep-all\") \n",
    "# Fetches the exclude_subgroups setting from the universe dict.\n",
    "# Defaults to \"keep-all\" if the key is missing."
   ]
  },
  {
   "cell_type": "code",
   "execution_count": 26,
   "id": "21994072",
   "metadata": {
    "execution": {
     "iopub.execute_input": "2025-08-05T16:24:46.484405Z",
     "iopub.status.busy": "2025-08-05T16:24:46.483613Z",
     "iopub.status.idle": "2025-08-05T16:24:46.491793Z",
     "shell.execute_reply": "2025-08-05T16:24:46.490696Z"
    },
    "papermill": {
     "duration": 0.03589,
     "end_time": "2025-08-05T16:24:46.493984",
     "exception": false,
     "start_time": "2025-08-05T16:24:46.458094",
     "status": "completed"
    },
    "tags": []
   },
   "outputs": [],
   "source": [
    "if mode == \"keep-all\":\n",
    "    keep_mask = pd.Series(True, index=org_train.index)\n",
    "\n",
    "# org_train contains the original feature columns from features_org (in Simson)\n",
    "# features_org contains unprocessed features, for me X_train at beginning ???\n",
    "# For keep-all, creates a boolean Series (keep_mask) of all True, so no rows are removed.\n",
    "\n",
    "elif mode == \"drop-non-german\":\n",
    "    keep_mask = org_train[\"maxdeutsch1\"] == 1 # ??? what about missing values?\n",
    "\n",
    "else:\n",
    "    raise ValueError(f\"Unsupported mode for exclude_subgroups: {mode}\")"
   ]
  },
  {
   "cell_type": "code",
   "execution_count": 27,
   "id": "71651440",
   "metadata": {
    "execution": {
     "iopub.execute_input": "2025-08-05T16:24:46.562892Z",
     "iopub.status.busy": "2025-08-05T16:24:46.562476Z",
     "iopub.status.idle": "2025-08-05T16:24:46.568391Z",
     "shell.execute_reply": "2025-08-05T16:24:46.567349Z"
    },
    "papermill": {
     "duration": 0.050539,
     "end_time": "2025-08-05T16:24:46.570017",
     "exception": false,
     "start_time": "2025-08-05T16:24:46.519478",
     "status": "completed"
    },
    "tags": []
   },
   "outputs": [],
   "source": [
    "n_drop = (~keep_mask).sum() # Calculates how many rows are set to be dropped\n",
    "if n_drop > 0:\n",
    "    pct = n_drop / len(keep_mask) * 100\n",
    "    print(f\"Dropping {n_drop} rows ({pct:.2f}%) where mode='{mode}'\")"
   ]
  },
  {
   "cell_type": "code",
   "execution_count": 28,
   "id": "5fb8eee5",
   "metadata": {
    "execution": {
     "iopub.execute_input": "2025-08-05T16:24:46.595793Z",
     "iopub.status.busy": "2025-08-05T16:24:46.595194Z",
     "iopub.status.idle": "2025-08-05T16:24:46.601749Z",
     "shell.execute_reply": "2025-08-05T16:24:46.600953Z"
    },
    "papermill": {
     "duration": 0.02076,
     "end_time": "2025-08-05T16:24:46.603228",
     "exception": false,
     "start_time": "2025-08-05T16:24:46.582468",
     "status": "completed"
    },
    "tags": []
   },
   "outputs": [],
   "source": [
    "X_train = X_train[keep_mask]"
   ]
  },
  {
   "cell_type": "code",
   "execution_count": 29,
   "id": "b202bb3a",
   "metadata": {
    "execution": {
     "iopub.execute_input": "2025-08-05T16:24:46.628354Z",
     "iopub.status.busy": "2025-08-05T16:24:46.627749Z",
     "iopub.status.idle": "2025-08-05T16:24:46.633134Z",
     "shell.execute_reply": "2025-08-05T16:24:46.632319Z"
    },
    "papermill": {
     "duration": 0.01931,
     "end_time": "2025-08-05T16:24:46.634638",
     "exception": false,
     "start_time": "2025-08-05T16:24:46.615328",
     "status": "completed"
    },
    "tags": []
   },
   "outputs": [],
   "source": [
    "y_train = y_train[keep_mask]"
   ]
  },
  {
   "cell_type": "markdown",
   "id": "493e2ac3",
   "metadata": {
    "papermill": {
     "duration": 0.011471,
     "end_time": "2025-08-05T16:24:46.657727",
     "exception": false,
     "start_time": "2025-08-05T16:24:46.646256",
     "status": "completed"
    },
    "tags": []
   },
   "source": [
    "# Model Training"
   ]
  },
  {
   "cell_type": "code",
   "execution_count": 30,
   "id": "679e1268",
   "metadata": {
    "execution": {
     "iopub.execute_input": "2025-08-05T16:24:46.681812Z",
     "iopub.status.busy": "2025-08-05T16:24:46.681229Z",
     "iopub.status.idle": "2025-08-05T16:24:46.769370Z",
     "shell.execute_reply": "2025-08-05T16:24:46.768537Z"
    },
    "papermill": {
     "duration": 0.101897,
     "end_time": "2025-08-05T16:24:46.770967",
     "exception": false,
     "start_time": "2025-08-05T16:24:46.669070",
     "status": "completed"
    },
    "tags": []
   },
   "outputs": [],
   "source": [
    "from sklearn.linear_model import LogisticRegression\n",
    "from sklearn.ensemble import GradientBoostingClassifier, RandomForestClassifier\n",
    "\n",
    "if (universe[\"model\"] == \"logreg\"):\n",
    "    model = LogisticRegression() #penalty=\"none\", solver=\"newton-cg\", max_iter=1) # include random_state=19 ?\n",
    "elif (universe[\"model\"] == \"penalized_logreg\"):\n",
    "    model = LogisticRegression(penalty=\"l2\", C=0.1) #, solver=\"newton-cg\", max_iter=1)\n",
    "elif (universe[\"model\"] == \"rf\"):\n",
    "    model = RandomForestClassifier() # n_estimators=100, n_jobs=-1\n",
    "elif (universe[\"model\"] == \"gbm\"):\n",
    "    model = GradientBoostingClassifier()\n",
    "elif (universe[\"model\"] == \"elasticnet\"):\n",
    "    model = LogisticRegression(penalty = 'elasticnet', solver = 'saga', l1_ratio = 0.5) # max_iter=5000\n",
    "else:\n",
    "    raise \"Unsupported universe.model\""
   ]
  },
  {
   "cell_type": "code",
   "execution_count": 31,
   "id": "0cc8f744",
   "metadata": {
    "execution": {
     "iopub.execute_input": "2025-08-05T16:24:46.800545Z",
     "iopub.status.busy": "2025-08-05T16:24:46.799961Z",
     "iopub.status.idle": "2025-08-05T16:24:46.805407Z",
     "shell.execute_reply": "2025-08-05T16:24:46.804634Z"
    },
    "papermill": {
     "duration": 0.019833,
     "end_time": "2025-08-05T16:24:46.807000",
     "exception": false,
     "start_time": "2025-08-05T16:24:46.787167",
     "status": "completed"
    },
    "tags": []
   },
   "outputs": [],
   "source": [
    "import numpy as np\n",
    "from sklearn.pipeline import Pipeline\n",
    "from sklearn.preprocessing import StandardScaler\n",
    "\n",
    "model = Pipeline([\n",
    "    #(\"continuous_processor\", continuous_processor),\n",
    "    #(\"categorical_preprocessor\", categorical_preprocessor),\n",
    "    (\"scale\", StandardScaler() if universe[\"scale\"] == \"scale\" else None), \n",
    "    (\"model\", model),\n",
    "])"
   ]
  },
  {
   "cell_type": "code",
   "execution_count": 32,
   "id": "9442c04d",
   "metadata": {
    "execution": {
     "iopub.execute_input": "2025-08-05T16:24:46.831843Z",
     "iopub.status.busy": "2025-08-05T16:24:46.831096Z",
     "iopub.status.idle": "2025-08-05T16:24:46.889247Z",
     "shell.execute_reply": "2025-08-05T16:24:46.888199Z"
    },
    "papermill": {
     "duration": 0.072869,
     "end_time": "2025-08-05T16:24:46.891781",
     "exception": false,
     "start_time": "2025-08-05T16:24:46.818912",
     "status": "completed"
    },
    "tags": []
   },
   "outputs": [
    {
     "name": "stderr",
     "output_type": "stream",
     "text": [
      "/dss/dsshome1/0C/ra93lal2/.local/share/virtualenvs/CMA_Fairness_v2-3j10GkSs/lib/python3.10/site-packages/sklearn/linear_model/_logistic.py:444: ConvergenceWarning: lbfgs failed to converge (status=1):\n",
      "STOP: TOTAL NO. of ITERATIONS REACHED LIMIT.\n",
      "\n",
      "Increase the number of iterations (max_iter) or scale the data as shown in:\n",
      "    https://scikit-learn.org/stable/modules/preprocessing.html\n",
      "Please also refer to the documentation for alternative solver options:\n",
      "    https://scikit-learn.org/stable/modules/linear_model.html#logistic-regression\n",
      "  n_iter_i = _check_optimize_result(\n"
     ]
    },
    {
     "data": {
      "text/html": [
       "<style>#sk-container-id-1 {color: black;background-color: white;}#sk-container-id-1 pre{padding: 0;}#sk-container-id-1 div.sk-toggleable {background-color: white;}#sk-container-id-1 label.sk-toggleable__label {cursor: pointer;display: block;width: 100%;margin-bottom: 0;padding: 0.3em;box-sizing: border-box;text-align: center;}#sk-container-id-1 label.sk-toggleable__label-arrow:before {content: \"▸\";float: left;margin-right: 0.25em;color: #696969;}#sk-container-id-1 label.sk-toggleable__label-arrow:hover:before {color: black;}#sk-container-id-1 div.sk-estimator:hover label.sk-toggleable__label-arrow:before {color: black;}#sk-container-id-1 div.sk-toggleable__content {max-height: 0;max-width: 0;overflow: hidden;text-align: left;background-color: #f0f8ff;}#sk-container-id-1 div.sk-toggleable__content pre {margin: 0.2em;color: black;border-radius: 0.25em;background-color: #f0f8ff;}#sk-container-id-1 input.sk-toggleable__control:checked~div.sk-toggleable__content {max-height: 200px;max-width: 100%;overflow: auto;}#sk-container-id-1 input.sk-toggleable__control:checked~label.sk-toggleable__label-arrow:before {content: \"▾\";}#sk-container-id-1 div.sk-estimator input.sk-toggleable__control:checked~label.sk-toggleable__label {background-color: #d4ebff;}#sk-container-id-1 div.sk-label input.sk-toggleable__control:checked~label.sk-toggleable__label {background-color: #d4ebff;}#sk-container-id-1 input.sk-hidden--visually {border: 0;clip: rect(1px 1px 1px 1px);clip: rect(1px, 1px, 1px, 1px);height: 1px;margin: -1px;overflow: hidden;padding: 0;position: absolute;width: 1px;}#sk-container-id-1 div.sk-estimator {font-family: monospace;background-color: #f0f8ff;border: 1px dotted black;border-radius: 0.25em;box-sizing: border-box;margin-bottom: 0.5em;}#sk-container-id-1 div.sk-estimator:hover {background-color: #d4ebff;}#sk-container-id-1 div.sk-parallel-item::after {content: \"\";width: 100%;border-bottom: 1px solid gray;flex-grow: 1;}#sk-container-id-1 div.sk-label:hover label.sk-toggleable__label {background-color: #d4ebff;}#sk-container-id-1 div.sk-serial::before {content: \"\";position: absolute;border-left: 1px solid gray;box-sizing: border-box;top: 0;bottom: 0;left: 50%;z-index: 0;}#sk-container-id-1 div.sk-serial {display: flex;flex-direction: column;align-items: center;background-color: white;padding-right: 0.2em;padding-left: 0.2em;position: relative;}#sk-container-id-1 div.sk-item {position: relative;z-index: 1;}#sk-container-id-1 div.sk-parallel {display: flex;align-items: stretch;justify-content: center;background-color: white;position: relative;}#sk-container-id-1 div.sk-item::before, #sk-container-id-1 div.sk-parallel-item::before {content: \"\";position: absolute;border-left: 1px solid gray;box-sizing: border-box;top: 0;bottom: 0;left: 50%;z-index: -1;}#sk-container-id-1 div.sk-parallel-item {display: flex;flex-direction: column;z-index: 1;position: relative;background-color: white;}#sk-container-id-1 div.sk-parallel-item:first-child::after {align-self: flex-end;width: 50%;}#sk-container-id-1 div.sk-parallel-item:last-child::after {align-self: flex-start;width: 50%;}#sk-container-id-1 div.sk-parallel-item:only-child::after {width: 0;}#sk-container-id-1 div.sk-dashed-wrapped {border: 1px dashed gray;margin: 0 0.4em 0.5em 0.4em;box-sizing: border-box;padding-bottom: 0.4em;background-color: white;}#sk-container-id-1 div.sk-label label {font-family: monospace;font-weight: bold;display: inline-block;line-height: 1.2em;}#sk-container-id-1 div.sk-label-container {text-align: center;}#sk-container-id-1 div.sk-container {/* jupyter's `normalize.less` sets `[hidden] { display: none; }` but bootstrap.min.css set `[hidden] { display: none !important; }` so we also need the `!important` here to be able to override the default hidden behavior on the sphinx rendered scikit-learn.org. See: https://github.com/scikit-learn/scikit-learn/issues/21755 */display: inline-block !important;position: relative;}#sk-container-id-1 div.sk-text-repr-fallback {display: none;}</style><div id=\"sk-container-id-1\" class=\"sk-top-container\"><div class=\"sk-text-repr-fallback\"><pre>Pipeline(steps=[(&#x27;scale&#x27;, None), (&#x27;model&#x27;, LogisticRegression(C=0.1))])</pre><b>In a Jupyter environment, please rerun this cell to show the HTML representation or trust the notebook. <br />On GitHub, the HTML representation is unable to render, please try loading this page with nbviewer.org.</b></div><div class=\"sk-container\" hidden><div class=\"sk-item sk-dashed-wrapped\"><div class=\"sk-label-container\"><div class=\"sk-label sk-toggleable\"><input class=\"sk-toggleable__control sk-hidden--visually\" id=\"sk-estimator-id-1\" type=\"checkbox\" ><label for=\"sk-estimator-id-1\" class=\"sk-toggleable__label sk-toggleable__label-arrow\">Pipeline</label><div class=\"sk-toggleable__content\"><pre>Pipeline(steps=[(&#x27;scale&#x27;, None), (&#x27;model&#x27;, LogisticRegression(C=0.1))])</pre></div></div></div><div class=\"sk-serial\"><div class=\"sk-item\"><div class=\"sk-estimator sk-toggleable\"><input class=\"sk-toggleable__control sk-hidden--visually\" id=\"sk-estimator-id-2\" type=\"checkbox\" ><label for=\"sk-estimator-id-2\" class=\"sk-toggleable__label sk-toggleable__label-arrow\">None</label><div class=\"sk-toggleable__content\"><pre>None</pre></div></div></div><div class=\"sk-item\"><div class=\"sk-estimator sk-toggleable\"><input class=\"sk-toggleable__control sk-hidden--visually\" id=\"sk-estimator-id-3\" type=\"checkbox\" ><label for=\"sk-estimator-id-3\" class=\"sk-toggleable__label sk-toggleable__label-arrow\">LogisticRegression</label><div class=\"sk-toggleable__content\"><pre>LogisticRegression(C=0.1)</pre></div></div></div></div></div></div></div>"
      ],
      "text/plain": [
       "Pipeline(steps=[('scale', None), ('model', LogisticRegression(C=0.1))])"
      ]
     },
     "execution_count": 32,
     "metadata": {},
     "output_type": "execute_result"
    }
   ],
   "source": [
    "model.fit(X_train, y_train.values.ravel())"
   ]
  },
  {
   "cell_type": "code",
   "execution_count": 33,
   "id": "af59f8c0",
   "metadata": {
    "execution": {
     "iopub.execute_input": "2025-08-05T16:24:46.918816Z",
     "iopub.status.busy": "2025-08-05T16:24:46.917949Z",
     "iopub.status.idle": "2025-08-05T16:24:46.923493Z",
     "shell.execute_reply": "2025-08-05T16:24:46.922676Z"
    },
    "papermill": {
     "duration": 0.020491,
     "end_time": "2025-08-05T16:24:46.924972",
     "exception": false,
     "start_time": "2025-08-05T16:24:46.904481",
     "status": "completed"
    },
    "tags": []
   },
   "outputs": [],
   "source": [
    "from fairness_multiverse.universe import predict_w_threshold"
   ]
  },
  {
   "cell_type": "code",
   "execution_count": 34,
   "id": "a7cf2e16",
   "metadata": {
    "execution": {
     "iopub.execute_input": "2025-08-05T16:24:46.952223Z",
     "iopub.status.busy": "2025-08-05T16:24:46.951348Z",
     "iopub.status.idle": "2025-08-05T16:24:47.043167Z",
     "shell.execute_reply": "2025-08-05T16:24:47.042131Z"
    },
    "papermill": {
     "duration": 0.10688,
     "end_time": "2025-08-05T16:24:47.044784",
     "exception": false,
     "start_time": "2025-08-05T16:24:46.937904",
     "status": "completed"
    },
    "tags": []
   },
   "outputs": [
    {
     "data": {
      "text/plain": [
       "0.860171664251477"
      ]
     },
     "execution_count": 34,
     "metadata": {},
     "output_type": "execute_result"
    }
   ],
   "source": [
    "probs_test = model.predict_proba(X_test)\n",
    "\n",
    "'''\n",
    "Below code returns a boolean array (or binary 0/1 array depending on how it’s used) where each element \n",
    "is True if the probability of class 1 is greater than or equal to the threshold, and False otherwise.\n",
    "'''\n",
    "y_pred_default = predict_w_threshold(probs_test, 0.5)\n",
    "\n",
    "from sklearn.metrics import accuracy_score\n",
    "\n",
    "# Naive prediction\n",
    "accuracy_score(y_true = y_true, y_pred = y_pred_default)"
   ]
  },
  {
   "cell_type": "code",
   "execution_count": 35,
   "id": "081964c3",
   "metadata": {
    "execution": {
     "iopub.execute_input": "2025-08-05T16:24:47.071684Z",
     "iopub.status.busy": "2025-08-05T16:24:47.070960Z",
     "iopub.status.idle": "2025-08-05T16:24:47.154892Z",
     "shell.execute_reply": "2025-08-05T16:24:47.153879Z"
    },
    "papermill": {
     "duration": 0.098648,
     "end_time": "2025-08-05T16:24:47.156608",
     "exception": false,
     "start_time": "2025-08-05T16:24:47.057960",
     "status": "completed"
    },
    "tags": []
   },
   "outputs": [
    {
     "data": {
      "text/plain": [
       "array([0, 0, 0, ..., 0, 0, 0])"
      ]
     },
     "execution_count": 35,
     "metadata": {},
     "output_type": "execute_result"
    }
   ],
   "source": [
    "model.predict(X_test)"
   ]
  },
  {
   "cell_type": "markdown",
   "id": "56c9705b",
   "metadata": {
    "papermill": {
     "duration": 0.012184,
     "end_time": "2025-08-05T16:24:47.181803",
     "exception": false,
     "start_time": "2025-08-05T16:24:47.169619",
     "status": "completed"
    },
    "tags": []
   },
   "source": [
    "# Conformal Prediction"
   ]
  },
  {
   "cell_type": "code",
   "execution_count": 36,
   "id": "160ec6ff",
   "metadata": {
    "execution": {
     "iopub.execute_input": "2025-08-05T16:24:47.208187Z",
     "iopub.status.busy": "2025-08-05T16:24:47.207354Z",
     "iopub.status.idle": "2025-08-05T16:24:47.213767Z",
     "shell.execute_reply": "2025-08-05T16:24:47.212937Z"
    },
    "papermill": {
     "duration": 0.021594,
     "end_time": "2025-08-05T16:24:47.215539",
     "exception": false,
     "start_time": "2025-08-05T16:24:47.193945",
     "status": "completed"
    },
    "tags": []
   },
   "outputs": [],
   "source": [
    "# Miscoverage level for conformal prediction (10% allowed error rate => 90% target coverage)\n",
    "alpha = 0.1"
   ]
  },
  {
   "cell_type": "code",
   "execution_count": 37,
   "id": "eadf4555-3dd3-440e-8e35-f82a4ad9f855",
   "metadata": {
    "execution": {
     "iopub.execute_input": "2025-08-05T16:24:47.243169Z",
     "iopub.status.busy": "2025-08-05T16:24:47.242837Z",
     "iopub.status.idle": "2025-08-05T16:24:47.322327Z",
     "shell.execute_reply": "2025-08-05T16:24:47.321438Z"
    },
    "papermill": {
     "duration": 0.094698,
     "end_time": "2025-08-05T16:24:47.324092",
     "exception": false,
     "start_time": "2025-08-05T16:24:47.229394",
     "status": "completed"
    },
    "tags": []
   },
   "outputs": [],
   "source": [
    "probs_calib = model.predict_proba(X_calib)"
   ]
  },
  {
   "cell_type": "code",
   "execution_count": 38,
   "id": "2ed93547-6d5d-4983-9b36-1ecb300da49a",
   "metadata": {
    "execution": {
     "iopub.execute_input": "2025-08-05T16:24:47.357040Z",
     "iopub.status.busy": "2025-08-05T16:24:47.356474Z",
     "iopub.status.idle": "2025-08-05T16:24:47.361472Z",
     "shell.execute_reply": "2025-08-05T16:24:47.360713Z"
    },
    "papermill": {
     "duration": 0.025604,
     "end_time": "2025-08-05T16:24:47.362917",
     "exception": false,
     "start_time": "2025-08-05T16:24:47.337313",
     "status": "completed"
    },
    "tags": []
   },
   "outputs": [],
   "source": [
    "y_calib = y_calib.values.ravel().astype(int)"
   ]
  },
  {
   "cell_type": "code",
   "execution_count": 39,
   "id": "65d1320d-f588-4b38-9072-62af1ae97f7d",
   "metadata": {
    "execution": {
     "iopub.execute_input": "2025-08-05T16:24:47.389419Z",
     "iopub.status.busy": "2025-08-05T16:24:47.389017Z",
     "iopub.status.idle": "2025-08-05T16:24:47.431368Z",
     "shell.execute_reply": "2025-08-05T16:24:47.430200Z"
    },
    "papermill": {
     "duration": 0.057547,
     "end_time": "2025-08-05T16:24:47.432997",
     "exception": false,
     "start_time": "2025-08-05T16:24:47.375450",
     "status": "completed"
    },
    "tags": []
   },
   "outputs": [],
   "source": [
    "from fairness_multiverse.conformal import compute_nc_scores\n",
    "\n",
    "# Compute nonconformity scores on calibration set (1 - probability of true class)\n",
    "nc_scores = compute_nc_scores(probs_calib, y_calib)"
   ]
  },
  {
   "cell_type": "code",
   "execution_count": 40,
   "id": "df3b8ca3-53b7-43d5-9667-7c85da7aeda2",
   "metadata": {
    "execution": {
     "iopub.execute_input": "2025-08-05T16:24:47.482501Z",
     "iopub.status.busy": "2025-08-05T16:24:47.482200Z",
     "iopub.status.idle": "2025-08-05T16:24:47.489007Z",
     "shell.execute_reply": "2025-08-05T16:24:47.488138Z"
    },
    "papermill": {
     "duration": 0.032474,
     "end_time": "2025-08-05T16:24:47.490469",
     "exception": false,
     "start_time": "2025-08-05T16:24:47.457995",
     "status": "completed"
    },
    "tags": []
   },
   "outputs": [],
   "source": [
    "from fairness_multiverse.conformal import find_threshold\n",
    "\n",
    "# Find conformal threshold q_hat for the given alpha (split conformal method)\n",
    "q_hat = find_threshold(nc_scores, alpha)"
   ]
  },
  {
   "cell_type": "code",
   "execution_count": 41,
   "id": "4d29e6c1-0ef6-4aa4-b8fe-4fe79b0d033a",
   "metadata": {
    "execution": {
     "iopub.execute_input": "2025-08-05T16:24:47.518678Z",
     "iopub.status.busy": "2025-08-05T16:24:47.517911Z",
     "iopub.status.idle": "2025-08-05T16:24:47.524978Z",
     "shell.execute_reply": "2025-08-05T16:24:47.524109Z"
    },
    "papermill": {
     "duration": 0.023122,
     "end_time": "2025-08-05T16:24:47.526476",
     "exception": false,
     "start_time": "2025-08-05T16:24:47.503354",
     "status": "completed"
    },
    "tags": []
   },
   "outputs": [
    {
     "data": {
      "text/plain": [
       "0.7010744648504768"
      ]
     },
     "execution_count": 41,
     "metadata": {},
     "output_type": "execute_result"
    }
   ],
   "source": [
    "q_hat"
   ]
  },
  {
   "cell_type": "code",
   "execution_count": 42,
   "id": "92460794-cdac-4be2-ba28-f28c0515a6fb",
   "metadata": {
    "execution": {
     "iopub.execute_input": "2025-08-05T16:24:47.554843Z",
     "iopub.status.busy": "2025-08-05T16:24:47.554362Z",
     "iopub.status.idle": "2025-08-05T16:24:48.086897Z",
     "shell.execute_reply": "2025-08-05T16:24:48.085985Z"
    },
    "papermill": {
     "duration": 0.548723,
     "end_time": "2025-08-05T16:24:48.088671",
     "exception": false,
     "start_time": "2025-08-05T16:24:47.539948",
     "status": "completed"
    },
    "tags": []
   },
   "outputs": [],
   "source": [
    "from fairness_multiverse.conformal import predict_conformal_sets\n",
    "\n",
    "# Generate prediction sets for each test example\n",
    "pred_sets = predict_conformal_sets(model, X_test, q_hat)"
   ]
  },
  {
   "cell_type": "code",
   "execution_count": 43,
   "id": "d90c9a65-e6db-4f5d-80cd-e68fb7e46829",
   "metadata": {
    "execution": {
     "iopub.execute_input": "2025-08-05T16:24:48.115913Z",
     "iopub.status.busy": "2025-08-05T16:24:48.115548Z",
     "iopub.status.idle": "2025-08-05T16:24:48.120674Z",
     "shell.execute_reply": "2025-08-05T16:24:48.119752Z"
    },
    "papermill": {
     "duration": 0.020044,
     "end_time": "2025-08-05T16:24:48.122191",
     "exception": false,
     "start_time": "2025-08-05T16:24:48.102147",
     "status": "completed"
    },
    "tags": []
   },
   "outputs": [],
   "source": [
    "y_true = y_true.squeeze()"
   ]
  },
  {
   "cell_type": "code",
   "execution_count": 44,
   "id": "3a58a54a-1e68-46b9-927a-df01f18aebc8",
   "metadata": {
    "execution": {
     "iopub.execute_input": "2025-08-05T16:24:48.148797Z",
     "iopub.status.busy": "2025-08-05T16:24:48.148294Z",
     "iopub.status.idle": "2025-08-05T16:24:48.763118Z",
     "shell.execute_reply": "2025-08-05T16:24:48.762204Z"
    },
    "papermill": {
     "duration": 0.629848,
     "end_time": "2025-08-05T16:24:48.764883",
     "exception": false,
     "start_time": "2025-08-05T16:24:48.135035",
     "status": "completed"
    },
    "tags": []
   },
   "outputs": [],
   "source": [
    "from fairness_multiverse.conformal import evaluate_sets\n",
    "\n",
    "# Evaluate coverage and average set size on test data\n",
    "metrics = evaluate_sets(pred_sets, y_true)"
   ]
  },
  {
   "cell_type": "markdown",
   "id": "2b569c12-9aaa-4c88-98c9-bbcd0cf3ebb8",
   "metadata": {
    "papermill": {
     "duration": 0.012645,
     "end_time": "2025-08-05T16:24:48.790987",
     "exception": false,
     "start_time": "2025-08-05T16:24:48.778342",
     "status": "completed"
    },
    "tags": []
   },
   "source": [
    "# CP Metrics"
   ]
  },
  {
   "cell_type": "code",
   "execution_count": 45,
   "id": "5ce0a5cb-201f-45a0-ade5-94c7f0bd6095",
   "metadata": {
    "execution": {
     "iopub.execute_input": "2025-08-05T16:24:48.818110Z",
     "iopub.status.busy": "2025-08-05T16:24:48.817327Z",
     "iopub.status.idle": "2025-08-05T16:24:48.824362Z",
     "shell.execute_reply": "2025-08-05T16:24:48.823476Z"
    },
    "papermill": {
     "duration": 0.022189,
     "end_time": "2025-08-05T16:24:48.825908",
     "exception": false,
     "start_time": "2025-08-05T16:24:48.803719",
     "status": "completed"
    },
    "tags": []
   },
   "outputs": [
    {
     "data": {
      "text/plain": [
       "{'coverage': 0.9115929104893545, 'avg_size': 1.1999665589120498}"
      ]
     },
     "execution_count": 45,
     "metadata": {},
     "output_type": "execute_result"
    }
   ],
   "source": [
    "metrics"
   ]
  },
  {
   "cell_type": "code",
   "execution_count": 46,
   "id": "9b9a838d-31c9-430b-ae14-12baee460d17",
   "metadata": {
    "execution": {
     "iopub.execute_input": "2025-08-05T16:24:48.853281Z",
     "iopub.status.busy": "2025-08-05T16:24:48.852684Z",
     "iopub.status.idle": "2025-08-05T16:24:48.858871Z",
     "shell.execute_reply": "2025-08-05T16:24:48.858088Z"
    },
    "papermill": {
     "duration": 0.02157,
     "end_time": "2025-08-05T16:24:48.860454",
     "exception": false,
     "start_time": "2025-08-05T16:24:48.838884",
     "status": "completed"
    },
    "tags": []
   },
   "outputs": [],
   "source": [
    "example_universe = universe.copy()\n",
    "universe_training_year = example_universe.get(\"training_year\")\n",
    "universe_training_size = example_universe.get(\"training_size\")\n",
    "universe_scale = example_universe.get(\"scale\")\n",
    "universe_model = example_universe.get(\"model\")\n",
    "universe_exclude_features = example_universe.get(\"exclude_features\")\n",
    "universe_exclude_subgroups = example_universe.get(\"exclude_subgroups\")"
   ]
  },
  {
   "cell_type": "code",
   "execution_count": 47,
   "id": "f4b6a8ac-9dc0-4245-8a91-5b3b5999c4f9",
   "metadata": {
    "execution": {
     "iopub.execute_input": "2025-08-05T16:24:48.905601Z",
     "iopub.status.busy": "2025-08-05T16:24:48.905009Z",
     "iopub.status.idle": "2025-08-05T16:24:48.912545Z",
     "shell.execute_reply": "2025-08-05T16:24:48.911463Z"
    },
    "papermill": {
     "duration": 0.036243,
     "end_time": "2025-08-05T16:24:48.914511",
     "exception": false,
     "start_time": "2025-08-05T16:24:48.878268",
     "status": "completed"
    },
    "tags": []
   },
   "outputs": [],
   "source": [
    "cp_metrics_dict = {\n",
    "    \"universe_id\": [universe_id],\n",
    "    \"universe_training_year\": [universe_training_year],\n",
    "    \"universe_training_size\": [universe_training_size],\n",
    "    \"universe_scale\": [universe_scale],\n",
    "    \"universe_model\": [universe_model],\n",
    "    \"universe_exclude_features\": [universe_exclude_features],\n",
    "    \"universe_exclude_subgroups\": [universe_exclude_subgroups],\n",
    "    \"q_hat\": [q_hat],\n",
    "    \"coverage\": [metrics[\"coverage\"]],\n",
    "    \"avg_size\": [metrics[\"avg_size\"]],\n",
    "}"
   ]
  },
  {
   "cell_type": "code",
   "execution_count": 48,
   "id": "908acbb1-0371-4915-85ca-3fa520d2efe2",
   "metadata": {
    "execution": {
     "iopub.execute_input": "2025-08-05T16:24:48.968746Z",
     "iopub.status.busy": "2025-08-05T16:24:48.968151Z",
     "iopub.status.idle": "2025-08-05T16:24:48.976949Z",
     "shell.execute_reply": "2025-08-05T16:24:48.975826Z"
    },
    "papermill": {
     "duration": 0.038389,
     "end_time": "2025-08-05T16:24:48.979036",
     "exception": false,
     "start_time": "2025-08-05T16:24:48.940647",
     "status": "completed"
    },
    "tags": []
   },
   "outputs": [
    {
     "data": {
      "text/plain": [
       "{'universe_id': ['8d414880572d4fbbe3787c15766e9677'],\n",
       " 'universe_training_year': ['2012_14'],\n",
       " 'universe_training_size': ['1k'],\n",
       " 'universe_scale': ['do-not-scale'],\n",
       " 'universe_model': ['penalized_logreg'],\n",
       " 'universe_exclude_features': ['none'],\n",
       " 'universe_exclude_subgroups': ['keep-all'],\n",
       " 'q_hat': [0.7010744648504768],\n",
       " 'coverage': [0.9115929104893545],\n",
       " 'avg_size': [1.1999665589120498]}"
      ]
     },
     "execution_count": 48,
     "metadata": {},
     "output_type": "execute_result"
    }
   ],
   "source": [
    "cp_metrics_dict"
   ]
  },
  {
   "cell_type": "code",
   "execution_count": 49,
   "id": "33007efc-14e9-4ec6-97ac-56a455c82265",
   "metadata": {
    "execution": {
     "iopub.execute_input": "2025-08-05T16:24:49.031945Z",
     "iopub.status.busy": "2025-08-05T16:24:49.031454Z",
     "iopub.status.idle": "2025-08-05T16:24:49.038217Z",
     "shell.execute_reply": "2025-08-05T16:24:49.037029Z"
    },
    "papermill": {
     "duration": 0.033583,
     "end_time": "2025-08-05T16:24:49.040110",
     "exception": false,
     "start_time": "2025-08-05T16:24:49.006527",
     "status": "completed"
    },
    "tags": []
   },
   "outputs": [],
   "source": [
    "cp_metrics_df = pd.DataFrame(cp_metrics_dict)"
   ]
  },
  {
   "cell_type": "code",
   "execution_count": 50,
   "id": "db12611b-57b2-4910-b9d0-355adfd6e7bf",
   "metadata": {
    "execution": {
     "iopub.execute_input": "2025-08-05T16:24:49.094752Z",
     "iopub.status.busy": "2025-08-05T16:24:49.094008Z",
     "iopub.status.idle": "2025-08-05T16:24:49.114440Z",
     "shell.execute_reply": "2025-08-05T16:24:49.113347Z"
    },
    "papermill": {
     "duration": 0.049709,
     "end_time": "2025-08-05T16:24:49.116348",
     "exception": false,
     "start_time": "2025-08-05T16:24:49.066639",
     "status": "completed"
    },
    "tags": []
   },
   "outputs": [
    {
     "data": {
      "text/html": [
       "<div>\n",
       "<style scoped>\n",
       "    .dataframe tbody tr th:only-of-type {\n",
       "        vertical-align: middle;\n",
       "    }\n",
       "\n",
       "    .dataframe tbody tr th {\n",
       "        vertical-align: top;\n",
       "    }\n",
       "\n",
       "    .dataframe thead th {\n",
       "        text-align: right;\n",
       "    }\n",
       "</style>\n",
       "<table border=\"1\" class=\"dataframe\">\n",
       "  <thead>\n",
       "    <tr style=\"text-align: right;\">\n",
       "      <th></th>\n",
       "      <th>universe_id</th>\n",
       "      <th>universe_training_year</th>\n",
       "      <th>universe_training_size</th>\n",
       "      <th>universe_scale</th>\n",
       "      <th>universe_model</th>\n",
       "      <th>universe_exclude_features</th>\n",
       "      <th>universe_exclude_subgroups</th>\n",
       "      <th>q_hat</th>\n",
       "      <th>coverage</th>\n",
       "      <th>avg_size</th>\n",
       "    </tr>\n",
       "  </thead>\n",
       "  <tbody>\n",
       "    <tr>\n",
       "      <th>0</th>\n",
       "      <td>8d414880572d4fbbe3787c15766e9677</td>\n",
       "      <td>2012_14</td>\n",
       "      <td>1k</td>\n",
       "      <td>do-not-scale</td>\n",
       "      <td>penalized_logreg</td>\n",
       "      <td>none</td>\n",
       "      <td>keep-all</td>\n",
       "      <td>0.701074</td>\n",
       "      <td>0.911593</td>\n",
       "      <td>1.199967</td>\n",
       "    </tr>\n",
       "  </tbody>\n",
       "</table>\n",
       "</div>"
      ],
      "text/plain": [
       "                        universe_id universe_training_year  \\\n",
       "0  8d414880572d4fbbe3787c15766e9677                2012_14   \n",
       "\n",
       "  universe_training_size universe_scale    universe_model  \\\n",
       "0                     1k   do-not-scale  penalized_logreg   \n",
       "\n",
       "  universe_exclude_features universe_exclude_subgroups     q_hat  coverage  \\\n",
       "0                      none                   keep-all  0.701074  0.911593   \n",
       "\n",
       "   avg_size  \n",
       "0  1.199967  "
      ]
     },
     "execution_count": 50,
     "metadata": {},
     "output_type": "execute_result"
    }
   ],
   "source": [
    "cp_metrics_df"
   ]
  },
  {
   "cell_type": "code",
   "execution_count": 51,
   "id": "b7fbde55-a0a1-47e4-9af6-fe4a17fa8c61",
   "metadata": {
    "execution": {
     "iopub.execute_input": "2025-08-05T16:24:49.157771Z",
     "iopub.status.busy": "2025-08-05T16:24:49.156751Z",
     "iopub.status.idle": "2025-08-05T16:24:49.162732Z",
     "shell.execute_reply": "2025-08-05T16:24:49.161704Z"
    },
    "papermill": {
     "duration": 0.034534,
     "end_time": "2025-08-05T16:24:49.164615",
     "exception": false,
     "start_time": "2025-08-05T16:24:49.130081",
     "status": "completed"
    },
    "tags": []
   },
   "outputs": [],
   "source": [
    "# Conditional Coverage & looking at subgroups"
   ]
  },
  {
   "cell_type": "code",
   "execution_count": 52,
   "id": "027ae886-68dd-4141-96c7-805a5450e1ef",
   "metadata": {
    "execution": {
     "iopub.execute_input": "2025-08-05T16:24:49.211138Z",
     "iopub.status.busy": "2025-08-05T16:24:49.210762Z",
     "iopub.status.idle": "2025-08-05T16:24:49.401747Z",
     "shell.execute_reply": "2025-08-05T16:24:49.400837Z"
    },
    "papermill": {
     "duration": 0.211969,
     "end_time": "2025-08-05T16:24:49.403614",
     "exception": false,
     "start_time": "2025-08-05T16:24:49.191645",
     "status": "completed"
    },
    "tags": []
   },
   "outputs": [],
   "source": [
    "from fairness_multiverse.conformal import build_cp_groups\n",
    "\n",
    "cp_groups_df = build_cp_groups(pred_sets, y_true, X_test.index, org_test)\n",
    "#needs universe_id and setting"
   ]
  },
  {
   "cell_type": "code",
   "execution_count": 53,
   "id": "6cbdab96-b2b2-45af-ad54-d0516db2e28d",
   "metadata": {
    "execution": {
     "iopub.execute_input": "2025-08-05T16:24:49.433063Z",
     "iopub.status.busy": "2025-08-05T16:24:49.432136Z",
     "iopub.status.idle": "2025-08-05T16:24:51.059952Z",
     "shell.execute_reply": "2025-08-05T16:24:51.058960Z"
    },
    "papermill": {
     "duration": 1.644305,
     "end_time": "2025-08-05T16:24:51.061912",
     "exception": false,
     "start_time": "2025-08-05T16:24:49.417607",
     "status": "completed"
    },
    "tags": []
   },
   "outputs": [],
   "source": [
    "# Define covered = 1 if true_label is in the predicted set\n",
    "cp_groups_df['covered'] = cp_groups_df.apply(\n",
    "    lambda r: int(r['true_label'] in r['pred_set']),\n",
    "    axis=1\n",
    ")"
   ]
  },
  {
   "cell_type": "code",
   "execution_count": 54,
   "id": "338ff529-1a6b-4b87-a931-8e4788d52aad",
   "metadata": {
    "execution": {
     "iopub.execute_input": "2025-08-05T16:24:51.112185Z",
     "iopub.status.busy": "2025-08-05T16:24:51.111327Z",
     "iopub.status.idle": "2025-08-05T16:24:51.117245Z",
     "shell.execute_reply": "2025-08-05T16:24:51.116062Z"
    },
    "papermill": {
     "duration": 0.031518,
     "end_time": "2025-08-05T16:24:51.119447",
     "exception": false,
     "start_time": "2025-08-05T16:24:51.087929",
     "status": "completed"
    },
    "tags": []
   },
   "outputs": [],
   "source": [
    "#cp_groups_df"
   ]
  },
  {
   "cell_type": "code",
   "execution_count": 55,
   "id": "90032e27-66df-4540-9169-4e89cfbaa758",
   "metadata": {
    "execution": {
     "iopub.execute_input": "2025-08-05T16:24:51.168482Z",
     "iopub.status.busy": "2025-08-05T16:24:51.167414Z",
     "iopub.status.idle": "2025-08-05T16:24:51.179978Z",
     "shell.execute_reply": "2025-08-05T16:24:51.178744Z"
    },
    "papermill": {
     "duration": 0.037859,
     "end_time": "2025-08-05T16:24:51.181750",
     "exception": false,
     "start_time": "2025-08-05T16:24:51.143891",
     "status": "completed"
    },
    "tags": []
   },
   "outputs": [],
   "source": [
    "subgroups = ['frau1','nongerman','nongerman_male','nongerman_female']\n",
    "\n",
    "# Conditional coverage for subgroup==1\n",
    "cond_coverage = {\n",
    "    g: cp_groups_df.loc[cp_groups_df[g]==1, 'covered'].mean()\n",
    "    for g in subgroups\n",
    "}"
   ]
  },
  {
   "cell_type": "code",
   "execution_count": 56,
   "id": "1e348fb1-b9c3-45bc-ba23-f016827a7e0d",
   "metadata": {
    "execution": {
     "iopub.execute_input": "2025-08-05T16:24:51.230724Z",
     "iopub.status.busy": "2025-08-05T16:24:51.229801Z",
     "iopub.status.idle": "2025-08-05T16:24:51.237743Z",
     "shell.execute_reply": "2025-08-05T16:24:51.236502Z"
    },
    "papermill": {
     "duration": 0.035009,
     "end_time": "2025-08-05T16:24:51.239640",
     "exception": false,
     "start_time": "2025-08-05T16:24:51.204631",
     "status": "completed"
    },
    "tags": []
   },
   "outputs": [
    {
     "data": {
      "text/plain": [
       "{'frau1': 0.9089904299770859,\n",
       " 'nongerman': 0.9258406781564026,\n",
       " 'nongerman_male': 0.9402864090786274,\n",
       " 'nongerman_female': 0.9019374068554397}"
      ]
     },
     "execution_count": 56,
     "metadata": {},
     "output_type": "execute_result"
    }
   ],
   "source": [
    "cond_coverage"
   ]
  },
  {
   "cell_type": "code",
   "execution_count": 57,
   "id": "f5093324-c3dd-4d63-bc4c-8d945e5c8bbb",
   "metadata": {
    "execution": {
     "iopub.execute_input": "2025-08-05T16:24:51.290145Z",
     "iopub.status.busy": "2025-08-05T16:24:51.289613Z",
     "iopub.status.idle": "2025-08-05T16:24:51.296805Z",
     "shell.execute_reply": "2025-08-05T16:24:51.295547Z"
    },
    "papermill": {
     "duration": 0.034449,
     "end_time": "2025-08-05T16:24:51.298969",
     "exception": false,
     "start_time": "2025-08-05T16:24:51.264520",
     "status": "completed"
    },
    "tags": []
   },
   "outputs": [],
   "source": [
    "for subgroup, cov in cond_coverage.items():\n",
    "    cp_metrics_df[f\"cov_{subgroup}\"] = cov"
   ]
  },
  {
   "cell_type": "code",
   "execution_count": 58,
   "id": "6e872e10-dbe5-49e8-b554-5030c98ff75d",
   "metadata": {
    "execution": {
     "iopub.execute_input": "2025-08-05T16:24:51.351130Z",
     "iopub.status.busy": "2025-08-05T16:24:51.350421Z",
     "iopub.status.idle": "2025-08-05T16:24:51.369980Z",
     "shell.execute_reply": "2025-08-05T16:24:51.368759Z"
    },
    "papermill": {
     "duration": 0.0477,
     "end_time": "2025-08-05T16:24:51.371888",
     "exception": false,
     "start_time": "2025-08-05T16:24:51.324188",
     "status": "completed"
    },
    "tags": []
   },
   "outputs": [
    {
     "data": {
      "text/html": [
       "<div>\n",
       "<style scoped>\n",
       "    .dataframe tbody tr th:only-of-type {\n",
       "        vertical-align: middle;\n",
       "    }\n",
       "\n",
       "    .dataframe tbody tr th {\n",
       "        vertical-align: top;\n",
       "    }\n",
       "\n",
       "    .dataframe thead th {\n",
       "        text-align: right;\n",
       "    }\n",
       "</style>\n",
       "<table border=\"1\" class=\"dataframe\">\n",
       "  <thead>\n",
       "    <tr style=\"text-align: right;\">\n",
       "      <th></th>\n",
       "      <th>universe_id</th>\n",
       "      <th>universe_training_year</th>\n",
       "      <th>universe_training_size</th>\n",
       "      <th>universe_scale</th>\n",
       "      <th>universe_model</th>\n",
       "      <th>universe_exclude_features</th>\n",
       "      <th>universe_exclude_subgroups</th>\n",
       "      <th>q_hat</th>\n",
       "      <th>coverage</th>\n",
       "      <th>avg_size</th>\n",
       "      <th>cov_frau1</th>\n",
       "      <th>cov_nongerman</th>\n",
       "      <th>cov_nongerman_male</th>\n",
       "      <th>cov_nongerman_female</th>\n",
       "    </tr>\n",
       "  </thead>\n",
       "  <tbody>\n",
       "    <tr>\n",
       "      <th>0</th>\n",
       "      <td>8d414880572d4fbbe3787c15766e9677</td>\n",
       "      <td>2012_14</td>\n",
       "      <td>1k</td>\n",
       "      <td>do-not-scale</td>\n",
       "      <td>penalized_logreg</td>\n",
       "      <td>none</td>\n",
       "      <td>keep-all</td>\n",
       "      <td>0.701074</td>\n",
       "      <td>0.911593</td>\n",
       "      <td>1.199967</td>\n",
       "      <td>0.90899</td>\n",
       "      <td>0.925841</td>\n",
       "      <td>0.940286</td>\n",
       "      <td>0.901937</td>\n",
       "    </tr>\n",
       "  </tbody>\n",
       "</table>\n",
       "</div>"
      ],
      "text/plain": [
       "                        universe_id universe_training_year  \\\n",
       "0  8d414880572d4fbbe3787c15766e9677                2012_14   \n",
       "\n",
       "  universe_training_size universe_scale    universe_model  \\\n",
       "0                     1k   do-not-scale  penalized_logreg   \n",
       "\n",
       "  universe_exclude_features universe_exclude_subgroups     q_hat  coverage  \\\n",
       "0                      none                   keep-all  0.701074  0.911593   \n",
       "\n",
       "   avg_size  cov_frau1  cov_nongerman  cov_nongerman_male  \\\n",
       "0  1.199967    0.90899       0.925841            0.940286   \n",
       "\n",
       "   cov_nongerman_female  \n",
       "0              0.901937  "
      ]
     },
     "execution_count": 58,
     "metadata": {},
     "output_type": "execute_result"
    }
   ],
   "source": [
    "cp_metrics_df"
   ]
  },
  {
   "cell_type": "markdown",
   "id": "33774451",
   "metadata": {
    "papermill": {
     "duration": 0.029395,
     "end_time": "2025-08-05T16:24:51.426661",
     "exception": false,
     "start_time": "2025-08-05T16:24:51.397266",
     "status": "completed"
    },
    "tags": []
   },
   "source": [
    "# (Fairness) Metrics"
   ]
  },
  {
   "cell_type": "code",
   "execution_count": 59,
   "id": "debc5d62",
   "metadata": {
    "execution": {
     "iopub.execute_input": "2025-08-05T16:24:51.491125Z",
     "iopub.status.busy": "2025-08-05T16:24:51.490435Z",
     "iopub.status.idle": "2025-08-05T16:24:51.516559Z",
     "shell.execute_reply": "2025-08-05T16:24:51.515512Z"
    },
    "papermill": {
     "duration": 0.061372,
     "end_time": "2025-08-05T16:24:51.518680",
     "exception": false,
     "start_time": "2025-08-05T16:24:51.457308",
     "status": "completed"
    },
    "tags": []
   },
   "outputs": [],
   "source": [
    "# do I need to include maxdeutsch1.missing?\n",
    "\n",
    "import numpy as np\n",
    "\n",
    "colname_to_bin = \"maxdeutsch1\"\n",
    "majority_value = org_train[colname_to_bin].mode()[0]\n",
    "\n",
    "org_test[\"majmin\"] = np.where(org_test[colname_to_bin] == majority_value, \"majority\", \"minority\")"
   ]
  },
  {
   "cell_type": "code",
   "execution_count": 60,
   "id": "06a50de5",
   "metadata": {
    "execution": {
     "iopub.execute_input": "2025-08-05T16:24:51.576314Z",
     "iopub.status.busy": "2025-08-05T16:24:51.575600Z",
     "iopub.status.idle": "2025-08-05T16:24:54.746552Z",
     "shell.execute_reply": "2025-08-05T16:24:54.745366Z"
    },
    "papermill": {
     "duration": 3.202114,
     "end_time": "2025-08-05T16:24:54.748816",
     "exception": false,
     "start_time": "2025-08-05T16:24:51.546702",
     "status": "completed"
    },
    "tags": []
   },
   "outputs": [],
   "source": [
    "example_universe = universe.copy()\n",
    "example_universe[\"cutoff\"] = example_universe[\"cutoff\"][0]\n",
    "example_universe[\"eval_fairness_grouping\"] = example_universe[\"eval_fairness_grouping\"][0]\n",
    "fairness_dict, metric_frame = universe_analysis.compute_metrics(\n",
    "    example_universe,\n",
    "    y_pred_prob=probs_test,\n",
    "    y_test=y_true,\n",
    "    org_test=org_test,\n",
    ")"
   ]
  },
  {
   "cell_type": "markdown",
   "id": "f95d4e02",
   "metadata": {
    "papermill": {
     "duration": 0.027101,
     "end_time": "2025-08-05T16:24:54.805510",
     "exception": false,
     "start_time": "2025-08-05T16:24:54.778409",
     "status": "completed"
    },
    "tags": []
   },
   "source": [
    "# Overall"
   ]
  },
  {
   "cell_type": "markdown",
   "id": "bdee4871",
   "metadata": {
    "papermill": {
     "duration": 0.026121,
     "end_time": "2025-08-05T16:24:54.861830",
     "exception": false,
     "start_time": "2025-08-05T16:24:54.835709",
     "status": "completed"
    },
    "tags": []
   },
   "source": [
    "Fairness\n",
    "Main fairness target: Equalized Odds. Seems to be a better fit than equal opportunity, since we're not only interested in Y = 1. Seems to be a better fit than demographic parity, since we also care about accuracy, not just equal distribution of preds.\n",
    "\n",
    "Pick column for computation of fairness metrics\n",
    "\n",
    "Performance\n",
    "Overall performance measures, most interesting in relation to the measures split by group below"
   ]
  },
  {
   "cell_type": "code",
   "execution_count": 61,
   "id": "c4e067c6",
   "metadata": {
    "execution": {
     "iopub.execute_input": "2025-08-05T16:24:54.916480Z",
     "iopub.status.busy": "2025-08-05T16:24:54.915588Z",
     "iopub.status.idle": "2025-08-05T16:24:54.925773Z",
     "shell.execute_reply": "2025-08-05T16:24:54.924430Z"
    },
    "papermill": {
     "duration": 0.051453,
     "end_time": "2025-08-05T16:24:54.939827",
     "exception": false,
     "start_time": "2025-08-05T16:24:54.888374",
     "status": "completed"
    },
    "tags": []
   },
   "outputs": [
    {
     "data": {
      "text/plain": [
       "accuracy                   0.214792\n",
       "balanced accuracy          0.527204\n",
       "f1                         0.236387\n",
       "precision                  0.135040\n",
       "false positive rate        0.893021\n",
       "false negative rate        0.052572\n",
       "selection rate             0.900000\n",
       "count                  89710.000000\n",
       "dtype: float64"
      ]
     },
     "execution_count": 61,
     "metadata": {},
     "output_type": "execute_result"
    }
   ],
   "source": [
    "metric_frame.overall"
   ]
  },
  {
   "cell_type": "markdown",
   "id": "e968fe9d",
   "metadata": {
    "papermill": {
     "duration": 0.02842,
     "end_time": "2025-08-05T16:24:55.002189",
     "exception": false,
     "start_time": "2025-08-05T16:24:54.973769",
     "status": "completed"
    },
    "tags": []
   },
   "source": [
    "By Group"
   ]
  },
  {
   "cell_type": "code",
   "execution_count": 62,
   "id": "ec325bce",
   "metadata": {
    "execution": {
     "iopub.execute_input": "2025-08-05T16:24:55.060607Z",
     "iopub.status.busy": "2025-08-05T16:24:55.060087Z",
     "iopub.status.idle": "2025-08-05T16:24:55.077844Z",
     "shell.execute_reply": "2025-08-05T16:24:55.076493Z"
    },
    "papermill": {
     "duration": 0.049495,
     "end_time": "2025-08-05T16:24:55.079783",
     "exception": false,
     "start_time": "2025-08-05T16:24:55.030288",
     "status": "completed"
    },
    "tags": []
   },
   "outputs": [
    {
     "data": {
      "text/html": [
       "<div>\n",
       "<style scoped>\n",
       "    .dataframe tbody tr th:only-of-type {\n",
       "        vertical-align: middle;\n",
       "    }\n",
       "\n",
       "    .dataframe tbody tr th {\n",
       "        vertical-align: top;\n",
       "    }\n",
       "\n",
       "    .dataframe thead th {\n",
       "        text-align: right;\n",
       "    }\n",
       "</style>\n",
       "<table border=\"1\" class=\"dataframe\">\n",
       "  <thead>\n",
       "    <tr style=\"text-align: right;\">\n",
       "      <th></th>\n",
       "      <th>accuracy</th>\n",
       "      <th>balanced accuracy</th>\n",
       "      <th>f1</th>\n",
       "      <th>precision</th>\n",
       "      <th>false positive rate</th>\n",
       "      <th>false negative rate</th>\n",
       "      <th>selection rate</th>\n",
       "      <th>count</th>\n",
       "    </tr>\n",
       "    <tr>\n",
       "      <th>majmin</th>\n",
       "      <th></th>\n",
       "      <th></th>\n",
       "      <th></th>\n",
       "      <th></th>\n",
       "      <th></th>\n",
       "      <th></th>\n",
       "      <th></th>\n",
       "      <th></th>\n",
       "    </tr>\n",
       "  </thead>\n",
       "  <tbody>\n",
       "    <tr>\n",
       "      <th>majority</th>\n",
       "      <td>0.235839</td>\n",
       "      <td>0.533450</td>\n",
       "      <td>0.244932</td>\n",
       "      <td>0.140857</td>\n",
       "      <td>0.871064</td>\n",
       "      <td>0.062035</td>\n",
       "      <td>0.879905</td>\n",
       "      <td>69170.0</td>\n",
       "    </tr>\n",
       "    <tr>\n",
       "      <th>minority</th>\n",
       "      <td>0.143914</td>\n",
       "      <td>0.509201</td>\n",
       "      <td>0.209495</td>\n",
       "      <td>0.117227</td>\n",
       "      <td>0.965551</td>\n",
       "      <td>0.016047</td>\n",
       "      <td>0.967673</td>\n",
       "      <td>20540.0</td>\n",
       "    </tr>\n",
       "  </tbody>\n",
       "</table>\n",
       "</div>"
      ],
      "text/plain": [
       "          accuracy  balanced accuracy        f1  precision  \\\n",
       "majmin                                                       \n",
       "majority  0.235839           0.533450  0.244932   0.140857   \n",
       "minority  0.143914           0.509201  0.209495   0.117227   \n",
       "\n",
       "          false positive rate  false negative rate  selection rate    count  \n",
       "majmin                                                                       \n",
       "majority             0.871064             0.062035        0.879905  69170.0  \n",
       "minority             0.965551             0.016047        0.967673  20540.0  "
      ]
     },
     "execution_count": 62,
     "metadata": {},
     "output_type": "execute_result"
    }
   ],
   "source": [
    "metric_frame.by_group"
   ]
  },
  {
   "cell_type": "code",
   "execution_count": 63,
   "id": "a9ddbe63",
   "metadata": {
    "execution": {
     "iopub.execute_input": "2025-08-05T16:24:55.139548Z",
     "iopub.status.busy": "2025-08-05T16:24:55.138459Z",
     "iopub.status.idle": "2025-08-05T16:24:57.936813Z",
     "shell.execute_reply": "2025-08-05T16:24:57.935764Z"
    },
    "papermill": {
     "duration": 2.830102,
     "end_time": "2025-08-05T16:24:57.939079",
     "exception": false,
     "start_time": "2025-08-05T16:24:55.108977",
     "status": "completed"
    },
    "tags": []
   },
   "outputs": [
    {
     "data": {
      "text/plain": [
       "array([[<Axes: title={'center': 'accuracy'}, xlabel='majmin'>,\n",
       "        <Axes: title={'center': 'balanced accuracy'}, xlabel='majmin'>,\n",
       "        <Axes: title={'center': 'f1'}, xlabel='majmin'>],\n",
       "       [<Axes: title={'center': 'precision'}, xlabel='majmin'>,\n",
       "        <Axes: title={'center': 'false positive rate'}, xlabel='majmin'>,\n",
       "        <Axes: title={'center': 'false negative rate'}, xlabel='majmin'>],\n",
       "       [<Axes: title={'center': 'selection rate'}, xlabel='majmin'>,\n",
       "        <Axes: title={'center': 'count'}, xlabel='majmin'>,\n",
       "        <Axes: xlabel='majmin'>]], dtype=object)"
      ]
     },
     "execution_count": 63,
     "metadata": {},
     "output_type": "execute_result"
    },
    {
     "data": {
      "image/png": "[encoded data removed]",
      "text/plain": [
       "<Figure size 1200x800 with 9 Axes>"
      ]
     },
     "metadata": {},
     "output_type": "display_data"
    }
   ],
   "source": [
    "# In a graphic\n",
    "metric_frame.by_group.plot.bar(\n",
    "    subplots=True,\n",
    "    layout=[3, 3],\n",
    "    legend=False,\n",
    "    figsize=[12, 8],\n",
    "    title=\"Show all metrics\",\n",
    ")"
   ]
  },
  {
   "cell_type": "markdown",
   "id": "f57a0bac",
   "metadata": {
    "papermill": {
     "duration": 0.027653,
     "end_time": "2025-08-05T16:24:57.996253",
     "exception": false,
     "start_time": "2025-08-05T16:24:57.968600",
     "status": "completed"
    },
    "tags": []
   },
   "source": [
    "# Final Output"
   ]
  },
  {
   "cell_type": "code",
   "execution_count": 64,
   "id": "96d280a3",
   "metadata": {
    "execution": {
     "iopub.execute_input": "2025-08-05T16:24:58.058558Z",
     "iopub.status.busy": "2025-08-05T16:24:58.057822Z",
     "iopub.status.idle": "2025-08-05T16:24:58.068726Z",
     "shell.execute_reply": "2025-08-05T16:24:58.067415Z"
    },
    "papermill": {
     "duration": 0.046824,
     "end_time": "2025-08-05T16:24:58.070748",
     "exception": false,
     "start_time": "2025-08-05T16:24:58.023924",
     "status": "completed"
    },
    "tags": []
   },
   "outputs": [
    {
     "data": {
      "text/plain": [
       "4"
      ]
     },
     "execution_count": 64,
     "metadata": {},
     "output_type": "execute_result"
    }
   ],
   "source": [
    "sub_universes = universe_analysis.generate_sub_universes()\n",
    "len(sub_universes)"
   ]
  },
  {
   "cell_type": "code",
   "execution_count": 65,
   "id": "92adf7ba",
   "metadata": {
    "execution": {
     "iopub.execute_input": "2025-08-05T16:24:58.135767Z",
     "iopub.status.busy": "2025-08-05T16:24:58.135114Z",
     "iopub.status.idle": "2025-08-05T16:24:58.143888Z",
     "shell.execute_reply": "2025-08-05T16:24:58.142480Z"
    },
    "papermill": {
     "duration": 0.042261,
     "end_time": "2025-08-05T16:24:58.146125",
     "exception": false,
     "start_time": "2025-08-05T16:24:58.103864",
     "status": "completed"
    },
    "tags": []
   },
   "outputs": [],
   "source": [
    "def filter_sub_universe_data(sub_universe, org_test):\n",
    "    # Keep all rows — no filtering\n",
    "    keep_rows_mask = np.ones(org_test.shape[0], dtype=bool)\n",
    "\n",
    "    print(f\"[INFO] Keeping all rows: {keep_rows_mask.sum()} rows retained.\")\n",
    "    return keep_rows_mask"
   ]
  },
  {
   "cell_type": "code",
   "execution_count": 66,
   "id": "4a759155",
   "metadata": {
    "execution": {
     "iopub.execute_input": "2025-08-05T16:24:58.205752Z",
     "iopub.status.busy": "2025-08-05T16:24:58.204949Z",
     "iopub.status.idle": "2025-08-05T16:25:08.453121Z",
     "shell.execute_reply": "2025-08-05T16:25:08.452119Z"
    },
    "papermill": {
     "duration": 10.279697,
     "end_time": "2025-08-05T16:25:08.455253",
     "exception": false,
     "start_time": "2025-08-05T16:24:58.175556",
     "status": "completed"
    },
    "tags": []
   },
   "outputs": [
    {
     "name": "stdout",
     "output_type": "stream",
     "text": [
      "Stopping execution_time clock.\n",
      "[INFO] Keeping all rows: 89710 rows retained.\n"
     ]
    },
    {
     "name": "stdout",
     "output_type": "stream",
     "text": [
      "[INFO] Keeping all rows: 89710 rows retained.\n"
     ]
    },
    {
     "name": "stdout",
     "output_type": "stream",
     "text": [
      "[INFO] Keeping all rows: 89710 rows retained.\n"
     ]
    },
    {
     "name": "stdout",
     "output_type": "stream",
     "text": [
      "[INFO] Keeping all rows: 89710 rows retained.\n"
     ]
    },
    {
     "data": {
      "text/html": [
       "<div>\n",
       "<style scoped>\n",
       "    .dataframe tbody tr th:only-of-type {\n",
       "        vertical-align: middle;\n",
       "    }\n",
       "\n",
       "    .dataframe tbody tr th {\n",
       "        vertical-align: top;\n",
       "    }\n",
       "\n",
       "    .dataframe thead th {\n",
       "        text-align: right;\n",
       "    }\n",
       "</style>\n",
       "<table border=\"1\" class=\"dataframe\">\n",
       "  <thead>\n",
       "    <tr style=\"text-align: right;\">\n",
       "      <th></th>\n",
       "      <th>run_no</th>\n",
       "      <th>universe_id</th>\n",
       "      <th>universe_settings</th>\n",
       "      <th>execution_time</th>\n",
       "      <th>test_size_n</th>\n",
       "      <th>test_size_frac</th>\n",
       "      <th>fair_main_equalized_odds_difference</th>\n",
       "      <th>fair_main_equalized_odds_ratio</th>\n",
       "      <th>fair_main_demographic_parity_difference</th>\n",
       "      <th>fair_main_demographic_parity_ratio</th>\n",
       "      <th>...</th>\n",
       "      <th>perf_grp_precision_0</th>\n",
       "      <th>perf_grp_precision_1</th>\n",
       "      <th>perf_grp_false positive rate_0</th>\n",
       "      <th>perf_grp_false positive rate_1</th>\n",
       "      <th>perf_grp_false negative rate_0</th>\n",
       "      <th>perf_grp_false negative rate_1</th>\n",
       "      <th>perf_grp_selection rate_0</th>\n",
       "      <th>perf_grp_selection rate_1</th>\n",
       "      <th>perf_grp_count_0</th>\n",
       "      <th>perf_grp_count_1</th>\n",
       "    </tr>\n",
       "  </thead>\n",
       "  <tbody>\n",
       "    <tr>\n",
       "      <th>0</th>\n",
       "      <td>15</td>\n",
       "      <td>8d414880572d4fbbe3787c15766e9677</td>\n",
       "      <td>{\"cutoff\": \"quantile_0.1\", \"eval_fairness_grou...</td>\n",
       "      <td>28.869474</td>\n",
       "      <td>89710</td>\n",
       "      <td>1.0</td>\n",
       "      <td>0.094487</td>\n",
       "      <td>0.902142</td>\n",
       "      <td>0.087768</td>\n",
       "      <td>0.909300</td>\n",
       "      <td>...</td>\n",
       "      <td>NaN</td>\n",
       "      <td>NaN</td>\n",
       "      <td>NaN</td>\n",
       "      <td>NaN</td>\n",
       "      <td>NaN</td>\n",
       "      <td>NaN</td>\n",
       "      <td>NaN</td>\n",
       "      <td>NaN</td>\n",
       "      <td>NaN</td>\n",
       "      <td>NaN</td>\n",
       "    </tr>\n",
       "    <tr>\n",
       "      <th>0</th>\n",
       "      <td>15</td>\n",
       "      <td>8d414880572d4fbbe3787c15766e9677</td>\n",
       "      <td>{\"cutoff\": \"quantile_0.1\", \"eval_fairness_grou...</td>\n",
       "      <td>28.869474</td>\n",
       "      <td>89710</td>\n",
       "      <td>1.0</td>\n",
       "      <td>0.094487</td>\n",
       "      <td>0.902142</td>\n",
       "      <td>0.087768</td>\n",
       "      <td>0.909300</td>\n",
       "      <td>...</td>\n",
       "      <td>0.117227</td>\n",
       "      <td>0.140857</td>\n",
       "      <td>0.965551</td>\n",
       "      <td>0.871064</td>\n",
       "      <td>0.016047</td>\n",
       "      <td>0.062035</td>\n",
       "      <td>0.967673</td>\n",
       "      <td>0.879905</td>\n",
       "      <td>20540.0</td>\n",
       "      <td>69170.0</td>\n",
       "    </tr>\n",
       "    <tr>\n",
       "      <th>0</th>\n",
       "      <td>15</td>\n",
       "      <td>8d414880572d4fbbe3787c15766e9677</td>\n",
       "      <td>{\"cutoff\": \"quantile_0.25\", \"eval_fairness_gro...</td>\n",
       "      <td>28.869474</td>\n",
       "      <td>89710</td>\n",
       "      <td>1.0</td>\n",
       "      <td>0.213349</td>\n",
       "      <td>0.761974</td>\n",
       "      <td>0.197391</td>\n",
       "      <td>0.781209</td>\n",
       "      <td>...</td>\n",
       "      <td>NaN</td>\n",
       "      <td>NaN</td>\n",
       "      <td>NaN</td>\n",
       "      <td>NaN</td>\n",
       "      <td>NaN</td>\n",
       "      <td>NaN</td>\n",
       "      <td>NaN</td>\n",
       "      <td>NaN</td>\n",
       "      <td>NaN</td>\n",
       "      <td>NaN</td>\n",
       "    </tr>\n",
       "    <tr>\n",
       "      <th>0</th>\n",
       "      <td>15</td>\n",
       "      <td>8d414880572d4fbbe3787c15766e9677</td>\n",
       "      <td>{\"cutoff\": \"quantile_0.25\", \"eval_fairness_gro...</td>\n",
       "      <td>28.869474</td>\n",
       "      <td>89710</td>\n",
       "      <td>1.0</td>\n",
       "      <td>0.213349</td>\n",
       "      <td>0.761974</td>\n",
       "      <td>0.197391</td>\n",
       "      <td>0.781209</td>\n",
       "      <td>...</td>\n",
       "      <td>0.121040</td>\n",
       "      <td>0.159012</td>\n",
       "      <td>0.896324</td>\n",
       "      <td>0.682975</td>\n",
       "      <td>0.052787</td>\n",
       "      <td>0.151860</td>\n",
       "      <td>0.902191</td>\n",
       "      <td>0.704800</td>\n",
       "      <td>20540.0</td>\n",
       "      <td>69170.0</td>\n",
       "    </tr>\n",
       "  </tbody>\n",
       "</table>\n",
       "<p>4 rows × 50 columns</p>\n",
       "</div>"
      ],
      "text/plain": [
       "  run_no                       universe_id  \\\n",
       "0     15  8d414880572d4fbbe3787c15766e9677   \n",
       "0     15  8d414880572d4fbbe3787c15766e9677   \n",
       "0     15  8d414880572d4fbbe3787c15766e9677   \n",
       "0     15  8d414880572d4fbbe3787c15766e9677   \n",
       "\n",
       "                                   universe_settings  execution_time  \\\n",
       "0  {\"cutoff\": \"quantile_0.1\", \"eval_fairness_grou...       28.869474   \n",
       "0  {\"cutoff\": \"quantile_0.1\", \"eval_fairness_grou...       28.869474   \n",
       "0  {\"cutoff\": \"quantile_0.25\", \"eval_fairness_gro...       28.869474   \n",
       "0  {\"cutoff\": \"quantile_0.25\", \"eval_fairness_gro...       28.869474   \n",
       "\n",
       "   test_size_n  test_size_frac  fair_main_equalized_odds_difference  \\\n",
       "0        89710             1.0                             0.094487   \n",
       "0        89710             1.0                             0.094487   \n",
       "0        89710             1.0                             0.213349   \n",
       "0        89710             1.0                             0.213349   \n",
       "\n",
       "   fair_main_equalized_odds_ratio  fair_main_demographic_parity_difference  \\\n",
       "0                        0.902142                                 0.087768   \n",
       "0                        0.902142                                 0.087768   \n",
       "0                        0.761974                                 0.197391   \n",
       "0                        0.761974                                 0.197391   \n",
       "\n",
       "   fair_main_demographic_parity_ratio  ...  perf_grp_precision_0  \\\n",
       "0                            0.909300  ...                   NaN   \n",
       "0                            0.909300  ...              0.117227   \n",
       "0                            0.781209  ...                   NaN   \n",
       "0                            0.781209  ...              0.121040   \n",
       "\n",
       "   perf_grp_precision_1  perf_grp_false positive rate_0  \\\n",
       "0                   NaN                             NaN   \n",
       "0              0.140857                        0.965551   \n",
       "0                   NaN                             NaN   \n",
       "0              0.159012                        0.896324   \n",
       "\n",
       "   perf_grp_false positive rate_1  perf_grp_false negative rate_0  \\\n",
       "0                             NaN                             NaN   \n",
       "0                        0.871064                        0.016047   \n",
       "0                             NaN                             NaN   \n",
       "0                        0.682975                        0.052787   \n",
       "\n",
       "   perf_grp_false negative rate_1  perf_grp_selection rate_0  \\\n",
       "0                             NaN                        NaN   \n",
       "0                        0.062035                   0.967673   \n",
       "0                             NaN                        NaN   \n",
       "0                        0.151860                   0.902191   \n",
       "\n",
       "   perf_grp_selection rate_1  perf_grp_count_0  perf_grp_count_1  \n",
       "0                        NaN               NaN               NaN  \n",
       "0                   0.879905           20540.0           69170.0  \n",
       "0                        NaN               NaN               NaN  \n",
       "0                   0.704800           20540.0           69170.0  \n",
       "\n",
       "[4 rows x 50 columns]"
      ]
     },
     "execution_count": 66,
     "metadata": {},
     "output_type": "execute_result"
    }
   ],
   "source": [
    "final_output = universe_analysis.generate_final_output(\n",
    "    y_pred_prob=probs_test,\n",
    "    y_test=y_true,\n",
    "    org_test=org_test,\n",
    "    filter_data=filter_sub_universe_data,\n",
    "    cp_metrics_df=cp_metrics_df,\n",
    "    save=True,\n",
    ")\n",
    "final_output"
   ]
  }
 ],
 "metadata": {
  "celltoolbar": "Tags",
  "kernelspec": {
   "display_name": "Python (CMA Fairness)",
   "language": "python",
   "name": "cma_fair_env"
  },
  "language_info": {
   "codemirror_mode": {
    "name": "ipython",
    "version": 3
   },
   "file_extension": ".py",
   "mimetype": "text/x-python",
   "name": "python",
   "nbconvert_exporter": "python",
   "pygments_lexer": "ipython3",
   "version": "3.10.12"
  },
  "papermill": {
   "default_parameters": {},
   "duration": 43.990641,
   "end_time": "2025-08-05T16:25:09.312229",
   "environment_variables": {},
   "exception": null,
   "input_path": "universe_analysis.ipynb",
   "output_path": "output/runs/15/notebooks/m_15-8d414880572d4fbbe3787c15766e9677.ipynb",
   "parameters": {
    "output_dir": "output",
    "run_no": "15",
    "seed": "2023",
    "universe": "{\"cutoff\": [\"quantile_0.1\", \"quantile_0.25\"], \"eval_fairness_grouping\": [\"majority-minority\", \"nationality-all\"], \"exclude_features\": \"none\", \"exclude_subgroups\": \"keep-all\", \"model\": \"penalized_logreg\", \"scale\": \"do-not-scale\", \"training_size\": \"1k\", \"training_year\": \"2012_14\"}",
    "universe_id": "8d414880572d4fbbe3787c15766e9677"
   },
   "start_time": "2025-08-05T16:24:25.321588",
   "version": "2.6.0"
  }
 },
 "nbformat": 4,
 "nbformat_minor": 5
}