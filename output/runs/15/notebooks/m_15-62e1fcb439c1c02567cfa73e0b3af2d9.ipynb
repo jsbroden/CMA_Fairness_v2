{
 "cells": [
  {
   "cell_type": "code",
   "execution_count": 1,
   "id": "f159f837-637b-42ba-96b5-ec9a68c44524",
   "metadata": {
    "execution": {
     "iopub.execute_input": "2025-08-05T16:39:20.837619Z",
     "iopub.status.busy": "2025-08-05T16:39:20.836814Z",
     "iopub.status.idle": "2025-08-05T16:39:20.851198Z",
     "shell.execute_reply": "2025-08-05T16:39:20.850322Z"
    },
    "papermill": {
     "duration": 0.031851,
     "end_time": "2025-08-05T16:39:20.852727",
     "exception": false,
     "start_time": "2025-08-05T16:39:20.820876",
     "status": "completed"
    },
    "tags": []
   },
   "outputs": [
    {
     "name": "stdout",
     "output_type": "stream",
     "text": [
      "/dss/dsshome1/0C/ra93lal2/cma/CMA_Fairness_v2\n"
     ]
    },
    {
     "name": "stderr",
     "output_type": "stream",
     "text": [
      "/dss/dsshome1/0C/ra93lal2/.local/share/virtualenvs/CMA_Fairness_v2-3j10GkSs/lib/python3.10/site-packages/IPython/core/magics/osm.py:393: UserWarning: This is now an optional IPython functionality, using bookmarks requires you to install the `pickleshare` library.\n",
      "  bkms = self.shell.db.get('bookmarks', {})\n",
      "/dss/dsshome1/0C/ra93lal2/.local/share/virtualenvs/CMA_Fairness_v2-3j10GkSs/lib/python3.10/site-packages/IPython/core/magics/osm.py:417: UserWarning: This is now an optional IPython functionality, setting dhist requires you to install the `pickleshare` library.\n",
      "  self.shell.db['dhist'] = compress_dhist(dhist)[-100:]\n"
     ]
    }
   ],
   "source": [
    "%cd ~/cma/CMA_Fairness_v2"
   ]
  },
  {
   "cell_type": "markdown",
   "id": "de2603b9",
   "metadata": {
    "papermill": {
     "duration": 0.01441,
     "end_time": "2025-08-05T16:39:20.882947",
     "exception": false,
     "start_time": "2025-08-05T16:39:20.868537",
     "status": "completed"
    },
    "tags": []
   },
   "source": [
    "The following cell holds the definition of our parameters, these values can be overriden by rendering the with e.g. the following command:\n",
    "\n",
    "papermill -p alpha 0.2 -p ratio 0.3 universe_analysis.ipynb output/test_run.ipynb"
   ]
  },
  {
   "cell_type": "code",
   "execution_count": 2,
   "id": "a80968a0-40bb-4fa9-85ef-2d5eefb01975",
   "metadata": {
    "execution": {
     "iopub.execute_input": "2025-08-05T16:39:20.914520Z",
     "iopub.status.busy": "2025-08-05T16:39:20.913859Z",
     "iopub.status.idle": "2025-08-05T16:39:20.919358Z",
     "shell.execute_reply": "2025-08-05T16:39:20.918351Z"
    },
    "papermill": {
     "duration": 0.023255,
     "end_time": "2025-08-05T16:39:20.920990",
     "exception": false,
     "start_time": "2025-08-05T16:39:20.897735",
     "status": "completed"
    },
    "tags": []
   },
   "outputs": [
    {
     "name": "stdout",
     "output_type": "stream",
     "text": [
      "Current working directory: /dss/dsshome1/0C/ra93lal2/cma/CMA_Fairness_v2\n"
     ]
    }
   ],
   "source": [
    "import os\n",
    "print(\"Current working directory:\", os.getcwd())"
   ]
  },
  {
   "cell_type": "code",
   "execution_count": 3,
   "id": "2dce4c03",
   "metadata": {
    "execution": {
     "iopub.execute_input": "2025-08-05T16:39:20.954885Z",
     "iopub.status.busy": "2025-08-05T16:39:20.954026Z",
     "iopub.status.idle": "2025-08-05T16:39:20.961432Z",
     "shell.execute_reply": "2025-08-05T16:39:20.960566Z"
    },
    "papermill": {
     "duration": 0.0256,
     "end_time": "2025-08-05T16:39:20.963029",
     "exception": false,
     "start_time": "2025-08-05T16:39:20.937429",
     "status": "completed"
    },
    "tags": [
     "parameters"
    ]
   },
   "outputs": [],
   "source": [
    "run_no = 0\n",
    "universe_id = \"test\"\n",
    "universe = {\n",
    "    \"training_size\": \"25k\", # \"25k\", \"5k\", \"1k\"\n",
    "    \"training_year\": \"2014\", # \"2014\", \"2012_14\", \"2010_14\"\n",
    "    \"scale\": \"scale\", # \"scale\", \"do-not-scale\",\n",
    "    \"model\": \"elasticnet\", # \"logreg\", \"penalized_logreg\", \"rf\", \"gbm\", \"elasticnet\"\n",
    "    \"cutoff\": [\"quantile_0.15\", \"quantile_0.30\"],\n",
    "    \"exclude_features\": \"age\", # \"none\", \"nationality\", \"sex\", \"nationality-sex\", \"age\"\n",
    "    \"exclude_subgroups\": \"keep-all\", # \"keep-all\", \"drop-non-german\"\n",
    "    \"eval_fairness_grouping\": [\"majority-minority\", \"nationality-all\"]\n",
    "}\n",
    "\n",
    "output_dir=\"./output\"\n",
    "seed=0"
   ]
  },
  {
   "cell_type": "code",
   "execution_count": 4,
   "id": "fabadc64",
   "metadata": {
    "execution": {
     "iopub.execute_input": "2025-08-05T16:39:20.995376Z",
     "iopub.status.busy": "2025-08-05T16:39:20.994841Z",
     "iopub.status.idle": "2025-08-05T16:39:21.000141Z",
     "shell.execute_reply": "2025-08-05T16:39:20.999161Z"
    },
    "papermill": {
     "duration": 0.023067,
     "end_time": "2025-08-05T16:39:21.002029",
     "exception": false,
     "start_time": "2025-08-05T16:39:20.978962",
     "status": "completed"
    },
    "tags": [
     "injected-parameters"
    ]
   },
   "outputs": [],
   "source": [
    "# Parameters\n",
    "universe_id = \"62e1fcb439c1c02567cfa73e0b3af2d9\"\n",
    "run_no = \"15\"\n",
    "universe = \"{\\\"cutoff\\\": [\\\"quantile_0.1\\\", \\\"quantile_0.25\\\"], \\\"eval_fairness_grouping\\\": [\\\"majority-minority\\\", \\\"nationality-all\\\"], \\\"exclude_features\\\": \\\"nationality-sex\\\", \\\"exclude_subgroups\\\": \\\"drop-non-german\\\", \\\"model\\\": \\\"logreg\\\", \\\"scale\\\": \\\"do-not-scale\\\", \\\"training_size\\\": \\\"1k\\\", \\\"training_year\\\": \\\"2010_14\\\"}\"\n",
    "output_dir = \"output\"\n",
    "seed = \"2023\"\n"
   ]
  },
  {
   "cell_type": "code",
   "execution_count": 5,
   "id": "1650acaf",
   "metadata": {
    "execution": {
     "iopub.execute_input": "2025-08-05T16:39:21.036532Z",
     "iopub.status.busy": "2025-08-05T16:39:21.035793Z",
     "iopub.status.idle": "2025-08-05T16:39:21.040555Z",
     "shell.execute_reply": "2025-08-05T16:39:21.039705Z"
    },
    "papermill": {
     "duration": 0.022572,
     "end_time": "2025-08-05T16:39:21.042226",
     "exception": false,
     "start_time": "2025-08-05T16:39:21.019654",
     "status": "completed"
    },
    "tags": []
   },
   "outputs": [],
   "source": [
    "import json\n",
    "if isinstance(universe, str):\n",
    "    universe = json.loads(universe)"
   ]
  },
  {
   "cell_type": "code",
   "execution_count": 6,
   "id": "16620c48",
   "metadata": {
    "execution": {
     "iopub.execute_input": "2025-08-05T16:39:21.075329Z",
     "iopub.status.busy": "2025-08-05T16:39:21.074736Z",
     "iopub.status.idle": "2025-08-05T16:39:21.119413Z",
     "shell.execute_reply": "2025-08-05T16:39:21.118584Z"
    },
    "papermill": {
     "duration": 0.063095,
     "end_time": "2025-08-05T16:39:21.121638",
     "exception": false,
     "start_time": "2025-08-05T16:39:21.058543",
     "status": "completed"
    },
    "tags": []
   },
   "outputs": [],
   "source": [
    "# Auto-reload the custom package\n",
    "%load_ext autoreload\n",
    "%autoreload 1\n",
    "%aimport fairness_multiverse"
   ]
  },
  {
   "cell_type": "code",
   "execution_count": 7,
   "id": "01c5c9f3",
   "metadata": {
    "execution": {
     "iopub.execute_input": "2025-08-05T16:39:21.153059Z",
     "iopub.status.busy": "2025-08-05T16:39:21.152454Z",
     "iopub.status.idle": "2025-08-05T16:39:23.062117Z",
     "shell.execute_reply": "2025-08-05T16:39:23.061382Z"
    },
    "papermill": {
     "duration": 1.926773,
     "end_time": "2025-08-05T16:39:23.063505",
     "exception": false,
     "start_time": "2025-08-05T16:39:21.136732",
     "status": "completed"
    },
    "tags": []
   },
   "outputs": [],
   "source": [
    "from fairness_multiverse.universe import UniverseAnalysis\n",
    "\n",
    "universe_analysis = UniverseAnalysis(\n",
    "    run_no = run_no,\n",
    "    universe_id = universe_id,\n",
    "    universe = universe,\n",
    "    output_dir=output_dir,\n",
    ")"
   ]
  },
  {
   "cell_type": "code",
   "execution_count": 8,
   "id": "106241f5",
   "metadata": {
    "execution": {
     "iopub.execute_input": "2025-08-05T16:39:23.082245Z",
     "iopub.status.busy": "2025-08-05T16:39:23.081819Z",
     "iopub.status.idle": "2025-08-05T16:39:23.087018Z",
     "shell.execute_reply": "2025-08-05T16:39:23.085940Z"
    },
    "papermill": {
     "duration": 0.016063,
     "end_time": "2025-08-05T16:39:23.088651",
     "exception": false,
     "start_time": "2025-08-05T16:39:23.072588",
     "status": "completed"
    },
    "tags": []
   },
   "outputs": [
    {
     "name": "stdout",
     "output_type": "stream",
     "text": [
      "Using Seed: 2023\n"
     ]
    }
   ],
   "source": [
    "import numpy as np\n",
    "parsed_seed = int(seed)\n",
    "np.random.seed(parsed_seed)\n",
    "print(f\"Using Seed: {parsed_seed}\")"
   ]
  },
  {
   "cell_type": "markdown",
   "id": "e0ebdc57",
   "metadata": {
    "papermill": {
     "duration": 0.013646,
     "end_time": "2025-08-05T16:39:23.111497",
     "exception": false,
     "start_time": "2025-08-05T16:39:23.097851",
     "status": "completed"
    },
    "tags": []
   },
   "source": [
    "# Loading Data"
   ]
  },
  {
   "cell_type": "code",
   "execution_count": 9,
   "id": "f0496b8a",
   "metadata": {
    "execution": {
     "iopub.execute_input": "2025-08-05T16:39:23.129365Z",
     "iopub.status.busy": "2025-08-05T16:39:23.128982Z",
     "iopub.status.idle": "2025-08-05T16:39:35.033978Z",
     "shell.execute_reply": "2025-08-05T16:39:35.032757Z"
    },
    "papermill": {
     "duration": 11.915944,
     "end_time": "2025-08-05T16:39:35.035925",
     "exception": false,
     "start_time": "2025-08-05T16:39:23.119981",
     "status": "completed"
    },
    "tags": []
   },
   "outputs": [
    {
     "name": "stdout",
     "output_type": "stream",
     "text": [
      "Loading SIAB data from cache: data/siab_cached.csv.gz\n"
     ]
    },
    {
     "name": "stdout",
     "output_type": "stream",
     "text": [
      "(643690, 164)\n"
     ]
    }
   ],
   "source": [
    "from pathlib import Path\n",
    "import pandas as pd\n",
    "\n",
    "# File paths\n",
    "raw_file = Path(\"data/raw/siab.csv\")\n",
    "cache_file = Path(\"data/siab_cached.csv.gz\")\n",
    "\n",
    "# Ensure cache directory exists\n",
    "cache_file.parent.mkdir(parents=True, exist_ok=True)\n",
    "\n",
    "# Load with simple caching\n",
    "if cache_file.exists():\n",
    "    print(f\"Loading SIAB data from cache: {cache_file}\")\n",
    "    siab = pd.read_csv(cache_file, compression='gzip')\n",
    "else:\n",
    "    print(f\"Cache not found. Reading raw SIAB data: {raw_file}\")\n",
    "    siab = pd.read_csv(raw_file)\n",
    "    siab.to_csv(cache_file, index=False, compression='gzip')\n",
    "    print(f\"Cached SIAB data to: {cache_file}\")\n",
    "\n",
    "print(siab.shape)"
   ]
  },
  {
   "cell_type": "code",
   "execution_count": 10,
   "id": "db0ca512-5f53-4dba-abdb-a2888bca41ba",
   "metadata": {
    "execution": {
     "iopub.execute_input": "2025-08-05T16:39:35.074790Z",
     "iopub.status.busy": "2025-08-05T16:39:35.073969Z",
     "iopub.status.idle": "2025-08-05T16:39:35.079969Z",
     "shell.execute_reply": "2025-08-05T16:39:35.079038Z"
    },
    "papermill": {
     "duration": 0.026179,
     "end_time": "2025-08-05T16:39:35.081727",
     "exception": false,
     "start_time": "2025-08-05T16:39:35.055548",
     "status": "completed"
    },
    "tags": []
   },
   "outputs": [],
   "source": [
    "#siab"
   ]
  },
  {
   "cell_type": "markdown",
   "id": "997051c5-15bd-4b69-9786-c3001a3ce484",
   "metadata": {
    "papermill": {
     "duration": 0.016278,
     "end_time": "2025-08-05T16:39:35.115518",
     "exception": false,
     "start_time": "2025-08-05T16:39:35.099240",
     "status": "completed"
    },
    "tags": []
   },
   "source": [
    "# Splitting Data and Setting Training Data Size"
   ]
  },
  {
   "cell_type": "code",
   "execution_count": 11,
   "id": "aea9c6ef-6f46-42c8-85eb-5a62025c1508",
   "metadata": {
    "execution": {
     "iopub.execute_input": "2025-08-05T16:39:35.150513Z",
     "iopub.status.busy": "2025-08-05T16:39:35.149719Z",
     "iopub.status.idle": "2025-08-05T16:39:36.125557Z",
     "shell.execute_reply": "2025-08-05T16:39:36.124624Z"
    },
    "papermill": {
     "duration": 0.995549,
     "end_time": "2025-08-05T16:39:36.127414",
     "exception": false,
     "start_time": "2025-08-05T16:39:35.131865",
     "status": "completed"
    },
    "tags": []
   },
   "outputs": [],
   "source": [
    "from fairness_multiverse.universe import sample_by_year_size\n",
    "\n",
    "siab_train = sample_by_year_size(siab,\n",
    "                               training_year=universe[\"training_year\"],\n",
    "                               training_size=universe[\"training_size\"])"
   ]
  },
  {
   "cell_type": "code",
   "execution_count": 12,
   "id": "8d3afb32-789d-442c-8d5d-9f5aa8dd2eed",
   "metadata": {
    "execution": {
     "iopub.execute_input": "2025-08-05T16:39:36.165945Z",
     "iopub.status.busy": "2025-08-05T16:39:36.164966Z",
     "iopub.status.idle": "2025-08-05T16:39:36.170599Z",
     "shell.execute_reply": "2025-08-05T16:39:36.169562Z"
    },
    "papermill": {
     "duration": 0.026507,
     "end_time": "2025-08-05T16:39:36.172357",
     "exception": false,
     "start_time": "2025-08-05T16:39:36.145850",
     "status": "completed"
    },
    "tags": []
   },
   "outputs": [],
   "source": [
    "#siab_train.shape"
   ]
  },
  {
   "cell_type": "code",
   "execution_count": 13,
   "id": "d582db68-1a4c-47fb-84fc-08518dc1975a",
   "metadata": {
    "execution": {
     "iopub.execute_input": "2025-08-05T16:39:36.201484Z",
     "iopub.status.busy": "2025-08-05T16:39:36.201003Z",
     "iopub.status.idle": "2025-08-05T16:39:36.205218Z",
     "shell.execute_reply": "2025-08-05T16:39:36.204314Z"
    },
    "papermill": {
     "duration": 0.017501,
     "end_time": "2025-08-05T16:39:36.206934",
     "exception": false,
     "start_time": "2025-08-05T16:39:36.189433",
     "status": "completed"
    },
    "tags": []
   },
   "outputs": [],
   "source": [
    "#display(siab_train.groupby(\"year\").size())"
   ]
  },
  {
   "cell_type": "code",
   "execution_count": 14,
   "id": "a561edb4-d032-42cb-8256-22eac1111c64",
   "metadata": {
    "execution": {
     "iopub.execute_input": "2025-08-05T16:39:36.254721Z",
     "iopub.status.busy": "2025-08-05T16:39:36.253415Z",
     "iopub.status.idle": "2025-08-05T16:39:36.496050Z",
     "shell.execute_reply": "2025-08-05T16:39:36.495293Z"
    },
    "papermill": {
     "duration": 0.270325,
     "end_time": "2025-08-05T16:39:36.498093",
     "exception": false,
     "start_time": "2025-08-05T16:39:36.227768",
     "status": "completed"
    },
    "tags": []
   },
   "outputs": [],
   "source": [
    "#siab_train = siab_s[siab_s.year < 2015]\n",
    "siab_calib = siab[siab.year == 2015]\n",
    "siab_test = siab[siab.year == 2016]"
   ]
  },
  {
   "cell_type": "code",
   "execution_count": 15,
   "id": "472de16f-c3db-4916-846b-1f0de9cf1746",
   "metadata": {
    "execution": {
     "iopub.execute_input": "2025-08-05T16:39:36.542048Z",
     "iopub.status.busy": "2025-08-05T16:39:36.541182Z",
     "iopub.status.idle": "2025-08-05T16:39:36.548127Z",
     "shell.execute_reply": "2025-08-05T16:39:36.547363Z"
    },
    "papermill": {
     "duration": 0.028839,
     "end_time": "2025-08-05T16:39:36.549427",
     "exception": false,
     "start_time": "2025-08-05T16:39:36.520588",
     "status": "completed"
    },
    "tags": []
   },
   "outputs": [],
   "source": [
    "X_train = siab_train.iloc[:,4:164]\n",
    "y_train = siab_train.iloc[:, [3]]"
   ]
  },
  {
   "cell_type": "code",
   "execution_count": 16,
   "id": "828c96af-f43a-4ed6-ba47-8ac73a47d56c",
   "metadata": {
    "execution": {
     "iopub.execute_input": "2025-08-05T16:39:36.580605Z",
     "iopub.status.busy": "2025-08-05T16:39:36.580140Z",
     "iopub.status.idle": "2025-08-05T16:39:36.630252Z",
     "shell.execute_reply": "2025-08-05T16:39:36.629007Z"
    },
    "papermill": {
     "duration": 0.069582,
     "end_time": "2025-08-05T16:39:36.632381",
     "exception": false,
     "start_time": "2025-08-05T16:39:36.562799",
     "status": "completed"
    },
    "tags": []
   },
   "outputs": [],
   "source": [
    "X_calib = siab_calib.iloc[:,4:164]\n",
    "y_calib = siab_calib.iloc[:, [3]]"
   ]
  },
  {
   "cell_type": "code",
   "execution_count": 17,
   "id": "c34be9c3-6bd6-476e-acd3-845840e303be",
   "metadata": {
    "execution": {
     "iopub.execute_input": "2025-08-05T16:39:36.674468Z",
     "iopub.status.busy": "2025-08-05T16:39:36.673693Z",
     "iopub.status.idle": "2025-08-05T16:39:36.727273Z",
     "shell.execute_reply": "2025-08-05T16:39:36.726061Z"
    },
    "papermill": {
     "duration": 0.075884,
     "end_time": "2025-08-05T16:39:36.729191",
     "exception": false,
     "start_time": "2025-08-05T16:39:36.653307",
     "status": "completed"
    },
    "tags": []
   },
   "outputs": [],
   "source": [
    "X_test = siab_test.iloc[:,4:164]\n",
    "y_true = siab_test.iloc[:, [3]]"
   ]
  },
  {
   "cell_type": "code",
   "execution_count": 18,
   "id": "e6c733c5",
   "metadata": {
    "execution": {
     "iopub.execute_input": "2025-08-05T16:39:36.766492Z",
     "iopub.status.busy": "2025-08-05T16:39:36.765822Z",
     "iopub.status.idle": "2025-08-05T16:39:36.863006Z",
     "shell.execute_reply": "2025-08-05T16:39:36.861934Z"
    },
    "papermill": {
     "duration": 0.118131,
     "end_time": "2025-08-05T16:39:36.865050",
     "exception": false,
     "start_time": "2025-08-05T16:39:36.746919",
     "status": "completed"
    },
    "tags": []
   },
   "outputs": [],
   "source": [
    "# Auxiliary data needed downstream in the pipeline\n",
    "\n",
    "org_train = X_train.copy()\n",
    "org_test = X_test.copy()\n",
    "org_calib = X_calib.copy()"
   ]
  },
  {
   "cell_type": "markdown",
   "id": "0a4a1b33",
   "metadata": {
    "papermill": {
     "duration": 0.018611,
     "end_time": "2025-08-05T16:39:36.903415",
     "exception": false,
     "start_time": "2025-08-05T16:39:36.884804",
     "status": "completed"
    },
    "tags": []
   },
   "source": [
    "# Preprocessing Data"
   ]
  },
  {
   "cell_type": "code",
   "execution_count": 19,
   "id": "ca879031",
   "metadata": {
    "execution": {
     "iopub.execute_input": "2025-08-05T16:39:36.945162Z",
     "iopub.status.busy": "2025-08-05T16:39:36.944302Z",
     "iopub.status.idle": "2025-08-05T16:39:36.950847Z",
     "shell.execute_reply": "2025-08-05T16:39:36.950082Z"
    },
    "papermill": {
     "duration": 0.02901,
     "end_time": "2025-08-05T16:39:36.952272",
     "exception": false,
     "start_time": "2025-08-05T16:39:36.923262",
     "status": "completed"
    },
    "tags": []
   },
   "outputs": [],
   "source": [
    "# EXCLUDE PROTECTED FEATURES\n",
    "# ----------------------\n",
    "# \"exclude_features\": \"none\", # \"nationality\", \"sex\", \"nationality-sex\"\n",
    "\n",
    "excluded_features = universe[\"exclude_features\"].split(\"-\") # split, e.g.: \"nationality-sex\" -> [\"nationality\", \"sex\"]\n",
    "excluded_features_dictionary = {\n",
    "    \"nationality\": [\"maxdeutsch1\", \"maxdeutsch.Missing.\"],\n",
    "    \"sex\": [\"frau1\"],\n",
    "    \"age\": [\"age\"],\n",
    "}"
   ]
  },
  {
   "cell_type": "code",
   "execution_count": 20,
   "id": "b745ac60",
   "metadata": {
    "execution": {
     "iopub.execute_input": "2025-08-05T16:39:36.972064Z",
     "iopub.status.busy": "2025-08-05T16:39:36.971560Z",
     "iopub.status.idle": "2025-08-05T16:39:36.976394Z",
     "shell.execute_reply": "2025-08-05T16:39:36.975595Z"
    },
    "papermill": {
     "duration": 0.015723,
     "end_time": "2025-08-05T16:39:36.977733",
     "exception": false,
     "start_time": "2025-08-05T16:39:36.962010",
     "status": "completed"
    },
    "tags": []
   },
   "outputs": [],
   "source": [
    "# Code nice names to column names\n",
    "\n",
    "excluded_features_columns = [\n",
    "    excluded_features_dictionary[f] for f in excluded_features if len(f) > 0 and f != \"none\"\n",
    "]"
   ]
  },
  {
   "cell_type": "code",
   "execution_count": 21,
   "id": "f84f73a2",
   "metadata": {
    "execution": {
     "iopub.execute_input": "2025-08-05T16:39:36.997651Z",
     "iopub.status.busy": "2025-08-05T16:39:36.997035Z",
     "iopub.status.idle": "2025-08-05T16:39:37.002290Z",
     "shell.execute_reply": "2025-08-05T16:39:37.001589Z"
    },
    "papermill": {
     "duration": 0.016175,
     "end_time": "2025-08-05T16:39:37.003673",
     "exception": false,
     "start_time": "2025-08-05T16:39:36.987498",
     "status": "completed"
    },
    "tags": []
   },
   "outputs": [],
   "source": [
    "from utils import flatten_once\n",
    "\n",
    "excluded_features_columns = flatten_once(excluded_features_columns)"
   ]
  },
  {
   "cell_type": "code",
   "execution_count": 22,
   "id": "884dea22",
   "metadata": {
    "execution": {
     "iopub.execute_input": "2025-08-05T16:39:37.023502Z",
     "iopub.status.busy": "2025-08-05T16:39:37.022897Z",
     "iopub.status.idle": "2025-08-05T16:39:37.029952Z",
     "shell.execute_reply": "2025-08-05T16:39:37.028874Z"
    },
    "papermill": {
     "duration": 0.018381,
     "end_time": "2025-08-05T16:39:37.031715",
     "exception": false,
     "start_time": "2025-08-05T16:39:37.013334",
     "status": "completed"
    },
    "tags": []
   },
   "outputs": [
    {
     "name": "stdout",
     "output_type": "stream",
     "text": [
      "Dropping features: ['maxdeutsch1', 'maxdeutsch.Missing.', 'frau1']\n"
     ]
    }
   ],
   "source": [
    "if len(excluded_features_columns) > 0:\n",
    "    print(f\"Dropping features: {excluded_features_columns}\")\n",
    "    X_train.drop(excluded_features_columns, axis=1, inplace=True)"
   ]
  },
  {
   "cell_type": "code",
   "execution_count": 23,
   "id": "95ab8b16",
   "metadata": {
    "execution": {
     "iopub.execute_input": "2025-08-05T16:39:37.070237Z",
     "iopub.status.busy": "2025-08-05T16:39:37.069566Z",
     "iopub.status.idle": "2025-08-05T16:39:37.123461Z",
     "shell.execute_reply": "2025-08-05T16:39:37.122227Z"
    },
    "papermill": {
     "duration": 0.075403,
     "end_time": "2025-08-05T16:39:37.125591",
     "exception": false,
     "start_time": "2025-08-05T16:39:37.050188",
     "status": "completed"
    },
    "tags": []
   },
   "outputs": [
    {
     "name": "stdout",
     "output_type": "stream",
     "text": [
      "Dropping features: ['maxdeutsch1', 'maxdeutsch.Missing.', 'frau1']\n"
     ]
    }
   ],
   "source": [
    "if len(excluded_features_columns) > 0:\n",
    "    print(f\"Dropping features: {excluded_features_columns}\")\n",
    "    X_test.drop(excluded_features_columns, axis=1, inplace=True)"
   ]
  },
  {
   "cell_type": "code",
   "execution_count": 24,
   "id": "1853aaf5-fb9f-46cb-a2b5-8ea4ae2237e4",
   "metadata": {
    "execution": {
     "iopub.execute_input": "2025-08-05T16:39:37.169264Z",
     "iopub.status.busy": "2025-08-05T16:39:37.168546Z",
     "iopub.status.idle": "2025-08-05T16:39:37.222346Z",
     "shell.execute_reply": "2025-08-05T16:39:37.221051Z"
    },
    "papermill": {
     "duration": 0.076819,
     "end_time": "2025-08-05T16:39:37.224097",
     "exception": false,
     "start_time": "2025-08-05T16:39:37.147278",
     "status": "completed"
    },
    "tags": []
   },
   "outputs": [
    {
     "name": "stdout",
     "output_type": "stream",
     "text": [
      "Dropping features: ['maxdeutsch1', 'maxdeutsch.Missing.', 'frau1']\n"
     ]
    }
   ],
   "source": [
    "if len(excluded_features_columns) > 0:\n",
    "    print(f\"Dropping features: {excluded_features_columns}\")\n",
    "    X_calib.drop(excluded_features_columns, axis=1, inplace=True)"
   ]
  },
  {
   "cell_type": "code",
   "execution_count": 25,
   "id": "76c4dc6d",
   "metadata": {
    "execution": {
     "iopub.execute_input": "2025-08-05T16:39:37.267216Z",
     "iopub.status.busy": "2025-08-05T16:39:37.266525Z",
     "iopub.status.idle": "2025-08-05T16:39:37.272353Z",
     "shell.execute_reply": "2025-08-05T16:39:37.271348Z"
    },
    "papermill": {
     "duration": 0.029047,
     "end_time": "2025-08-05T16:39:37.274379",
     "exception": false,
     "start_time": "2025-08-05T16:39:37.245332",
     "status": "completed"
    },
    "tags": []
   },
   "outputs": [],
   "source": [
    "# EXCLUDE CERTAIN SUBGROUPS\n",
    "# ----------------------\n",
    "\n",
    "mode = universe.get(\"exclude_subgroups\", \"keep-all\") \n",
    "# Fetches the exclude_subgroups setting from the universe dict.\n",
    "# Defaults to \"keep-all\" if the key is missing."
   ]
  },
  {
   "cell_type": "code",
   "execution_count": 26,
   "id": "21994072",
   "metadata": {
    "execution": {
     "iopub.execute_input": "2025-08-05T16:39:37.317599Z",
     "iopub.status.busy": "2025-08-05T16:39:37.317101Z",
     "iopub.status.idle": "2025-08-05T16:39:37.324246Z",
     "shell.execute_reply": "2025-08-05T16:39:37.323220Z"
    },
    "papermill": {
     "duration": 0.030007,
     "end_time": "2025-08-05T16:39:37.326169",
     "exception": false,
     "start_time": "2025-08-05T16:39:37.296162",
     "status": "completed"
    },
    "tags": []
   },
   "outputs": [],
   "source": [
    "if mode == \"keep-all\":\n",
    "    keep_mask = pd.Series(True, index=org_train.index)\n",
    "\n",
    "# org_train contains the original feature columns from features_org (in Simson)\n",
    "# features_org contains unprocessed features, for me X_train at beginning ???\n",
    "# For keep-all, creates a boolean Series (keep_mask) of all True, so no rows are removed.\n",
    "\n",
    "elif mode == \"drop-non-german\":\n",
    "    keep_mask = org_train[\"maxdeutsch1\"] == 1 # ??? what about missing values?\n",
    "\n",
    "else:\n",
    "    raise ValueError(f\"Unsupported mode for exclude_subgroups: {mode}\")"
   ]
  },
  {
   "cell_type": "code",
   "execution_count": 27,
   "id": "71651440",
   "metadata": {
    "execution": {
     "iopub.execute_input": "2025-08-05T16:39:37.370216Z",
     "iopub.status.busy": "2025-08-05T16:39:37.369530Z",
     "iopub.status.idle": "2025-08-05T16:39:37.377093Z",
     "shell.execute_reply": "2025-08-05T16:39:37.376075Z"
    },
    "papermill": {
     "duration": 0.030766,
     "end_time": "2025-08-05T16:39:37.378627",
     "exception": false,
     "start_time": "2025-08-05T16:39:37.347861",
     "status": "completed"
    },
    "tags": []
   },
   "outputs": [
    {
     "name": "stdout",
     "output_type": "stream",
     "text": [
      "Dropping 131 rows (13.10%) where mode='drop-non-german'\n"
     ]
    }
   ],
   "source": [
    "n_drop = (~keep_mask).sum() # Calculates how many rows are set to be dropped\n",
    "if n_drop > 0:\n",
    "    pct = n_drop / len(keep_mask) * 100\n",
    "    print(f\"Dropping {n_drop} rows ({pct:.2f}%) where mode='{mode}'\")"
   ]
  },
  {
   "cell_type": "code",
   "execution_count": 28,
   "id": "5fb8eee5",
   "metadata": {
    "execution": {
     "iopub.execute_input": "2025-08-05T16:39:37.399281Z",
     "iopub.status.busy": "2025-08-05T16:39:37.398996Z",
     "iopub.status.idle": "2025-08-05T16:39:37.404483Z",
     "shell.execute_reply": "2025-08-05T16:39:37.403438Z"
    },
    "papermill": {
     "duration": 0.017624,
     "end_time": "2025-08-05T16:39:37.406296",
     "exception": false,
     "start_time": "2025-08-05T16:39:37.388672",
     "status": "completed"
    },
    "tags": []
   },
   "outputs": [],
   "source": [
    "X_train = X_train[keep_mask]"
   ]
  },
  {
   "cell_type": "code",
   "execution_count": 29,
   "id": "b202bb3a",
   "metadata": {
    "execution": {
     "iopub.execute_input": "2025-08-05T16:39:37.446038Z",
     "iopub.status.busy": "2025-08-05T16:39:37.445720Z",
     "iopub.status.idle": "2025-08-05T16:39:37.450452Z",
     "shell.execute_reply": "2025-08-05T16:39:37.449618Z"
    },
    "papermill": {
     "duration": 0.026466,
     "end_time": "2025-08-05T16:39:37.451993",
     "exception": false,
     "start_time": "2025-08-05T16:39:37.425527",
     "status": "completed"
    },
    "tags": []
   },
   "outputs": [],
   "source": [
    "y_train = y_train[keep_mask]"
   ]
  },
  {
   "cell_type": "markdown",
   "id": "493e2ac3",
   "metadata": {
    "papermill": {
     "duration": 0.009281,
     "end_time": "2025-08-05T16:39:37.471505",
     "exception": false,
     "start_time": "2025-08-05T16:39:37.462224",
     "status": "completed"
    },
    "tags": []
   },
   "source": [
    "# Model Training"
   ]
  },
  {
   "cell_type": "code",
   "execution_count": 30,
   "id": "679e1268",
   "metadata": {
    "execution": {
     "iopub.execute_input": "2025-08-05T16:39:37.491662Z",
     "iopub.status.busy": "2025-08-05T16:39:37.490953Z",
     "iopub.status.idle": "2025-08-05T16:39:37.593177Z",
     "shell.execute_reply": "2025-08-05T16:39:37.592105Z"
    },
    "papermill": {
     "duration": 0.114333,
     "end_time": "2025-08-05T16:39:37.595215",
     "exception": false,
     "start_time": "2025-08-05T16:39:37.480882",
     "status": "completed"
    },
    "tags": []
   },
   "outputs": [],
   "source": [
    "from sklearn.linear_model import LogisticRegression\n",
    "from sklearn.ensemble import GradientBoostingClassifier, RandomForestClassifier\n",
    "\n",
    "if (universe[\"model\"] == \"logreg\"):\n",
    "    model = LogisticRegression() #penalty=\"none\", solver=\"newton-cg\", max_iter=1) # include random_state=19 ?\n",
    "elif (universe[\"model\"] == \"penalized_logreg\"):\n",
    "    model = LogisticRegression(penalty=\"l2\", C=0.1) #, solver=\"newton-cg\", max_iter=1)\n",
    "elif (universe[\"model\"] == \"rf\"):\n",
    "    model = RandomForestClassifier() # n_estimators=100, n_jobs=-1\n",
    "elif (universe[\"model\"] == \"gbm\"):\n",
    "    model = GradientBoostingClassifier()\n",
    "elif (universe[\"model\"] == \"elasticnet\"):\n",
    "    model = LogisticRegression(penalty = 'elasticnet', solver = 'saga', l1_ratio = 0.5) # max_iter=5000\n",
    "else:\n",
    "    raise \"Unsupported universe.model\""
   ]
  },
  {
   "cell_type": "code",
   "execution_count": 31,
   "id": "0cc8f744",
   "metadata": {
    "execution": {
     "iopub.execute_input": "2025-08-05T16:39:37.640250Z",
     "iopub.status.busy": "2025-08-05T16:39:37.639258Z",
     "iopub.status.idle": "2025-08-05T16:39:37.646198Z",
     "shell.execute_reply": "2025-08-05T16:39:37.645065Z"
    },
    "papermill": {
     "duration": 0.030407,
     "end_time": "2025-08-05T16:39:37.648079",
     "exception": false,
     "start_time": "2025-08-05T16:39:37.617672",
     "status": "completed"
    },
    "tags": []
   },
   "outputs": [],
   "source": [
    "import numpy as np\n",
    "from sklearn.pipeline import Pipeline\n",
    "from sklearn.preprocessing import StandardScaler\n",
    "\n",
    "model = Pipeline([\n",
    "    #(\"continuous_processor\", continuous_processor),\n",
    "    #(\"categorical_preprocessor\", categorical_preprocessor),\n",
    "    (\"scale\", StandardScaler() if universe[\"scale\"] == \"scale\" else None), \n",
    "    (\"model\", model),\n",
    "])"
   ]
  },
  {
   "cell_type": "code",
   "execution_count": 32,
   "id": "9442c04d",
   "metadata": {
    "execution": {
     "iopub.execute_input": "2025-08-05T16:39:37.693550Z",
     "iopub.status.busy": "2025-08-05T16:39:37.692795Z",
     "iopub.status.idle": "2025-08-05T16:39:37.766459Z",
     "shell.execute_reply": "2025-08-05T16:39:37.765428Z"
    },
    "papermill": {
     "duration": 0.098696,
     "end_time": "2025-08-05T16:39:37.769222",
     "exception": false,
     "start_time": "2025-08-05T16:39:37.670526",
     "status": "completed"
    },
    "tags": []
   },
   "outputs": [
    {
     "name": "stderr",
     "output_type": "stream",
     "text": [
      "/dss/dsshome1/0C/ra93lal2/.local/share/virtualenvs/CMA_Fairness_v2-3j10GkSs/lib/python3.10/site-packages/sklearn/linear_model/_logistic.py:444: ConvergenceWarning: lbfgs failed to converge (status=1):\n",
      "STOP: TOTAL NO. of ITERATIONS REACHED LIMIT.\n",
      "\n",
      "Increase the number of iterations (max_iter) or scale the data as shown in:\n",
      "    https://scikit-learn.org/stable/modules/preprocessing.html\n",
      "Please also refer to the documentation for alternative solver options:\n",
      "    https://scikit-learn.org/stable/modules/linear_model.html#logistic-regression\n",
      "  n_iter_i = _check_optimize_result(\n"
     ]
    },
    {
     "data": {
      "text/html": [
       "<style>#sk-container-id-1 {color: black;background-color: white;}#sk-container-id-1 pre{padding: 0;}#sk-container-id-1 div.sk-toggleable {background-color: white;}#sk-container-id-1 label.sk-toggleable__label {cursor: pointer;display: block;width: 100%;margin-bottom: 0;padding: 0.3em;box-sizing: border-box;text-align: center;}#sk-container-id-1 label.sk-toggleable__label-arrow:before {content: \"▸\";float: left;margin-right: 0.25em;color: #696969;}#sk-container-id-1 label.sk-toggleable__label-arrow:hover:before {color: black;}#sk-container-id-1 div.sk-estimator:hover label.sk-toggleable__label-arrow:before {color: black;}#sk-container-id-1 div.sk-toggleable__content {max-height: 0;max-width: 0;overflow: hidden;text-align: left;background-color: #f0f8ff;}#sk-container-id-1 div.sk-toggleable__content pre {margin: 0.2em;color: black;border-radius: 0.25em;background-color: #f0f8ff;}#sk-container-id-1 input.sk-toggleable__control:checked~div.sk-toggleable__content {max-height: 200px;max-width: 100%;overflow: auto;}#sk-container-id-1 input.sk-toggleable__control:checked~label.sk-toggleable__label-arrow:before {content: \"▾\";}#sk-container-id-1 div.sk-estimator input.sk-toggleable__control:checked~label.sk-toggleable__label {background-color: #d4ebff;}#sk-container-id-1 div.sk-label input.sk-toggleable__control:checked~label.sk-toggleable__label {background-color: #d4ebff;}#sk-container-id-1 input.sk-hidden--visually {border: 0;clip: rect(1px 1px 1px 1px);clip: rect(1px, 1px, 1px, 1px);height: 1px;margin: -1px;overflow: hidden;padding: 0;position: absolute;width: 1px;}#sk-container-id-1 div.sk-estimator {font-family: monospace;background-color: #f0f8ff;border: 1px dotted black;border-radius: 0.25em;box-sizing: border-box;margin-bottom: 0.5em;}#sk-container-id-1 div.sk-estimator:hover {background-color: #d4ebff;}#sk-container-id-1 div.sk-parallel-item::after {content: \"\";width: 100%;border-bottom: 1px solid gray;flex-grow: 1;}#sk-container-id-1 div.sk-label:hover label.sk-toggleable__label {background-color: #d4ebff;}#sk-container-id-1 div.sk-serial::before {content: \"\";position: absolute;border-left: 1px solid gray;box-sizing: border-box;top: 0;bottom: 0;left: 50%;z-index: 0;}#sk-container-id-1 div.sk-serial {display: flex;flex-direction: column;align-items: center;background-color: white;padding-right: 0.2em;padding-left: 0.2em;position: relative;}#sk-container-id-1 div.sk-item {position: relative;z-index: 1;}#sk-container-id-1 div.sk-parallel {display: flex;align-items: stretch;justify-content: center;background-color: white;position: relative;}#sk-container-id-1 div.sk-item::before, #sk-container-id-1 div.sk-parallel-item::before {content: \"\";position: absolute;border-left: 1px solid gray;box-sizing: border-box;top: 0;bottom: 0;left: 50%;z-index: -1;}#sk-container-id-1 div.sk-parallel-item {display: flex;flex-direction: column;z-index: 1;position: relative;background-color: white;}#sk-container-id-1 div.sk-parallel-item:first-child::after {align-self: flex-end;width: 50%;}#sk-container-id-1 div.sk-parallel-item:last-child::after {align-self: flex-start;width: 50%;}#sk-container-id-1 div.sk-parallel-item:only-child::after {width: 0;}#sk-container-id-1 div.sk-dashed-wrapped {border: 1px dashed gray;margin: 0 0.4em 0.5em 0.4em;box-sizing: border-box;padding-bottom: 0.4em;background-color: white;}#sk-container-id-1 div.sk-label label {font-family: monospace;font-weight: bold;display: inline-block;line-height: 1.2em;}#sk-container-id-1 div.sk-label-container {text-align: center;}#sk-container-id-1 div.sk-container {/* jupyter's `normalize.less` sets `[hidden] { display: none; }` but bootstrap.min.css set `[hidden] { display: none !important; }` so we also need the `!important` here to be able to override the default hidden behavior on the sphinx rendered scikit-learn.org. See: https://github.com/scikit-learn/scikit-learn/issues/21755 */display: inline-block !important;position: relative;}#sk-container-id-1 div.sk-text-repr-fallback {display: none;}</style><div id=\"sk-container-id-1\" class=\"sk-top-container\"><div class=\"sk-text-repr-fallback\"><pre>Pipeline(steps=[(&#x27;scale&#x27;, None), (&#x27;model&#x27;, LogisticRegression())])</pre><b>In a Jupyter environment, please rerun this cell to show the HTML representation or trust the notebook. <br />On GitHub, the HTML representation is unable to render, please try loading this page with nbviewer.org.</b></div><div class=\"sk-container\" hidden><div class=\"sk-item sk-dashed-wrapped\"><div class=\"sk-label-container\"><div class=\"sk-label sk-toggleable\"><input class=\"sk-toggleable__control sk-hidden--visually\" id=\"sk-estimator-id-1\" type=\"checkbox\" ><label for=\"sk-estimator-id-1\" class=\"sk-toggleable__label sk-toggleable__label-arrow\">Pipeline</label><div class=\"sk-toggleable__content\"><pre>Pipeline(steps=[(&#x27;scale&#x27;, None), (&#x27;model&#x27;, LogisticRegression())])</pre></div></div></div><div class=\"sk-serial\"><div class=\"sk-item\"><div class=\"sk-estimator sk-toggleable\"><input class=\"sk-toggleable__control sk-hidden--visually\" id=\"sk-estimator-id-2\" type=\"checkbox\" ><label for=\"sk-estimator-id-2\" class=\"sk-toggleable__label sk-toggleable__label-arrow\">None</label><div class=\"sk-toggleable__content\"><pre>None</pre></div></div></div><div class=\"sk-item\"><div class=\"sk-estimator sk-toggleable\"><input class=\"sk-toggleable__control sk-hidden--visually\" id=\"sk-estimator-id-3\" type=\"checkbox\" ><label for=\"sk-estimator-id-3\" class=\"sk-toggleable__label sk-toggleable__label-arrow\">LogisticRegression</label><div class=\"sk-toggleable__content\"><pre>LogisticRegression()</pre></div></div></div></div></div></div></div>"
      ],
      "text/plain": [
       "Pipeline(steps=[('scale', None), ('model', LogisticRegression())])"
      ]
     },
     "execution_count": 32,
     "metadata": {},
     "output_type": "execute_result"
    }
   ],
   "source": [
    "model.fit(X_train, y_train.values.ravel())"
   ]
  },
  {
   "cell_type": "code",
   "execution_count": 33,
   "id": "af59f8c0",
   "metadata": {
    "execution": {
     "iopub.execute_input": "2025-08-05T16:39:37.810277Z",
     "iopub.status.busy": "2025-08-05T16:39:37.809739Z",
     "iopub.status.idle": "2025-08-05T16:39:37.815304Z",
     "shell.execute_reply": "2025-08-05T16:39:37.814294Z"
    },
    "papermill": {
     "duration": 0.027788,
     "end_time": "2025-08-05T16:39:37.817076",
     "exception": false,
     "start_time": "2025-08-05T16:39:37.789288",
     "status": "completed"
    },
    "tags": []
   },
   "outputs": [],
   "source": [
    "from fairness_multiverse.universe import predict_w_threshold"
   ]
  },
  {
   "cell_type": "code",
   "execution_count": 34,
   "id": "a7cf2e16",
   "metadata": {
    "execution": {
     "iopub.execute_input": "2025-08-05T16:39:37.839318Z",
     "iopub.status.busy": "2025-08-05T16:39:37.838938Z",
     "iopub.status.idle": "2025-08-05T16:39:37.938753Z",
     "shell.execute_reply": "2025-08-05T16:39:37.937708Z"
    },
    "papermill": {
     "duration": 0.111988,
     "end_time": "2025-08-05T16:39:37.940483",
     "exception": false,
     "start_time": "2025-08-05T16:39:37.828495",
     "status": "completed"
    },
    "tags": []
   },
   "outputs": [
    {
     "data": {
      "text/plain": [
       "0.8552112362055512"
      ]
     },
     "execution_count": 34,
     "metadata": {},
     "output_type": "execute_result"
    }
   ],
   "source": [
    "probs_test = model.predict_proba(X_test)\n",
    "\n",
    "'''\n",
    "Below code returns a boolean array (or binary 0/1 array depending on how it’s used) where each element \n",
    "is True if the probability of class 1 is greater than or equal to the threshold, and False otherwise.\n",
    "'''\n",
    "y_pred_default = predict_w_threshold(probs_test, 0.5)\n",
    "\n",
    "from sklearn.metrics import accuracy_score\n",
    "\n",
    "# Naive prediction\n",
    "accuracy_score(y_true = y_true, y_pred = y_pred_default)"
   ]
  },
  {
   "cell_type": "code",
   "execution_count": 35,
   "id": "081964c3",
   "metadata": {
    "execution": {
     "iopub.execute_input": "2025-08-05T16:39:37.986304Z",
     "iopub.status.busy": "2025-08-05T16:39:37.985377Z",
     "iopub.status.idle": "2025-08-05T16:39:38.073258Z",
     "shell.execute_reply": "2025-08-05T16:39:38.072284Z"
    },
    "papermill": {
     "duration": 0.112463,
     "end_time": "2025-08-05T16:39:38.075040",
     "exception": false,
     "start_time": "2025-08-05T16:39:37.962577",
     "status": "completed"
    },
    "tags": []
   },
   "outputs": [
    {
     "data": {
      "text/plain": [
       "array([0, 0, 0, ..., 0, 0, 0])"
      ]
     },
     "execution_count": 35,
     "metadata": {},
     "output_type": "execute_result"
    }
   ],
   "source": [
    "model.predict(X_test)"
   ]
  },
  {
   "cell_type": "markdown",
   "id": "56c9705b",
   "metadata": {
    "papermill": {
     "duration": 0.025696,
     "end_time": "2025-08-05T16:39:38.121506",
     "exception": false,
     "start_time": "2025-08-05T16:39:38.095810",
     "status": "completed"
    },
    "tags": []
   },
   "source": [
    "# Conformal Prediction"
   ]
  },
  {
   "cell_type": "code",
   "execution_count": 36,
   "id": "160ec6ff",
   "metadata": {
    "execution": {
     "iopub.execute_input": "2025-08-05T16:39:38.167180Z",
     "iopub.status.busy": "2025-08-05T16:39:38.166251Z",
     "iopub.status.idle": "2025-08-05T16:39:38.171962Z",
     "shell.execute_reply": "2025-08-05T16:39:38.170927Z"
    },
    "papermill": {
     "duration": 0.031088,
     "end_time": "2025-08-05T16:39:38.174086",
     "exception": false,
     "start_time": "2025-08-05T16:39:38.142998",
     "status": "completed"
    },
    "tags": []
   },
   "outputs": [],
   "source": [
    "# Miscoverage level for conformal prediction (10% allowed error rate => 90% target coverage)\n",
    "alpha = 0.1"
   ]
  },
  {
   "cell_type": "code",
   "execution_count": 37,
   "id": "eadf4555-3dd3-440e-8e35-f82a4ad9f855",
   "metadata": {
    "execution": {
     "iopub.execute_input": "2025-08-05T16:39:38.224443Z",
     "iopub.status.busy": "2025-08-05T16:39:38.223475Z",
     "iopub.status.idle": "2025-08-05T16:39:38.309411Z",
     "shell.execute_reply": "2025-08-05T16:39:38.308308Z"
    },
    "papermill": {
     "duration": 0.112525,
     "end_time": "2025-08-05T16:39:38.311541",
     "exception": false,
     "start_time": "2025-08-05T16:39:38.199016",
     "status": "completed"
    },
    "tags": []
   },
   "outputs": [],
   "source": [
    "probs_calib = model.predict_proba(X_calib)"
   ]
  },
  {
   "cell_type": "code",
   "execution_count": 38,
   "id": "2ed93547-6d5d-4983-9b36-1ecb300da49a",
   "metadata": {
    "execution": {
     "iopub.execute_input": "2025-08-05T16:39:38.354992Z",
     "iopub.status.busy": "2025-08-05T16:39:38.354147Z",
     "iopub.status.idle": "2025-08-05T16:39:38.360015Z",
     "shell.execute_reply": "2025-08-05T16:39:38.358944Z"
    },
    "papermill": {
     "duration": 0.029186,
     "end_time": "2025-08-05T16:39:38.362086",
     "exception": false,
     "start_time": "2025-08-05T16:39:38.332900",
     "status": "completed"
    },
    "tags": []
   },
   "outputs": [],
   "source": [
    "y_calib = y_calib.values.ravel().astype(int)"
   ]
  },
  {
   "cell_type": "code",
   "execution_count": 39,
   "id": "65d1320d-f588-4b38-9072-62af1ae97f7d",
   "metadata": {
    "execution": {
     "iopub.execute_input": "2025-08-05T16:39:38.405924Z",
     "iopub.status.busy": "2025-08-05T16:39:38.405083Z",
     "iopub.status.idle": "2025-08-05T16:39:38.413045Z",
     "shell.execute_reply": "2025-08-05T16:39:38.411922Z"
    },
    "papermill": {
     "duration": 0.031147,
     "end_time": "2025-08-05T16:39:38.414648",
     "exception": false,
     "start_time": "2025-08-05T16:39:38.383501",
     "status": "completed"
    },
    "tags": []
   },
   "outputs": [],
   "source": [
    "from fairness_multiverse.conformal import compute_nc_scores\n",
    "\n",
    "# Compute nonconformity scores on calibration set (1 - probability of true class)\n",
    "nc_scores = compute_nc_scores(probs_calib, y_calib)"
   ]
  },
  {
   "cell_type": "code",
   "execution_count": 40,
   "id": "df3b8ca3-53b7-43d5-9667-7c85da7aeda2",
   "metadata": {
    "execution": {
     "iopub.execute_input": "2025-08-05T16:39:38.457734Z",
     "iopub.status.busy": "2025-08-05T16:39:38.456805Z",
     "iopub.status.idle": "2025-08-05T16:39:38.463650Z",
     "shell.execute_reply": "2025-08-05T16:39:38.462527Z"
    },
    "papermill": {
     "duration": 0.030581,
     "end_time": "2025-08-05T16:39:38.465654",
     "exception": false,
     "start_time": "2025-08-05T16:39:38.435073",
     "status": "completed"
    },
    "tags": []
   },
   "outputs": [],
   "source": [
    "from fairness_multiverse.conformal import find_threshold\n",
    "\n",
    "# Find conformal threshold q_hat for the given alpha (split conformal method)\n",
    "q_hat = find_threshold(nc_scores, alpha)"
   ]
  },
  {
   "cell_type": "code",
   "execution_count": 41,
   "id": "4d29e6c1-0ef6-4aa4-b8fe-4fe79b0d033a",
   "metadata": {
    "execution": {
     "iopub.execute_input": "2025-08-05T16:39:38.512833Z",
     "iopub.status.busy": "2025-08-05T16:39:38.512110Z",
     "iopub.status.idle": "2025-08-05T16:39:38.520219Z",
     "shell.execute_reply": "2025-08-05T16:39:38.519148Z"
    },
    "papermill": {
     "duration": 0.033002,
     "end_time": "2025-08-05T16:39:38.521947",
     "exception": false,
     "start_time": "2025-08-05T16:39:38.488945",
     "status": "completed"
    },
    "tags": []
   },
   "outputs": [
    {
     "data": {
      "text/plain": [
       "0.6966447233918722"
      ]
     },
     "execution_count": 41,
     "metadata": {},
     "output_type": "execute_result"
    }
   ],
   "source": [
    "q_hat"
   ]
  },
  {
   "cell_type": "code",
   "execution_count": 42,
   "id": "92460794-cdac-4be2-ba28-f28c0515a6fb",
   "metadata": {
    "execution": {
     "iopub.execute_input": "2025-08-05T16:39:38.565616Z",
     "iopub.status.busy": "2025-08-05T16:39:38.564771Z",
     "iopub.status.idle": "2025-08-05T16:39:39.755187Z",
     "shell.execute_reply": "2025-08-05T16:39:39.754172Z"
    },
    "papermill": {
     "duration": 1.21429,
     "end_time": "2025-08-05T16:39:39.756997",
     "exception": false,
     "start_time": "2025-08-05T16:39:38.542707",
     "status": "completed"
    },
    "tags": []
   },
   "outputs": [],
   "source": [
    "from fairness_multiverse.conformal import predict_conformal_sets\n",
    "\n",
    "# Generate prediction sets for each test example\n",
    "pred_sets = predict_conformal_sets(model, X_test, q_hat)"
   ]
  },
  {
   "cell_type": "code",
   "execution_count": 43,
   "id": "d90c9a65-e6db-4f5d-80cd-e68fb7e46829",
   "metadata": {
    "execution": {
     "iopub.execute_input": "2025-08-05T16:39:39.803209Z",
     "iopub.status.busy": "2025-08-05T16:39:39.802316Z",
     "iopub.status.idle": "2025-08-05T16:39:39.808578Z",
     "shell.execute_reply": "2025-08-05T16:39:39.807649Z"
    },
    "papermill": {
     "duration": 0.031725,
     "end_time": "2025-08-05T16:39:39.810513",
     "exception": false,
     "start_time": "2025-08-05T16:39:39.778788",
     "status": "completed"
    },
    "tags": []
   },
   "outputs": [],
   "source": [
    "y_true = y_true.squeeze()"
   ]
  },
  {
   "cell_type": "code",
   "execution_count": 44,
   "id": "3a58a54a-1e68-46b9-927a-df01f18aebc8",
   "metadata": {
    "execution": {
     "iopub.execute_input": "2025-08-05T16:39:39.856416Z",
     "iopub.status.busy": "2025-08-05T16:39:39.855356Z",
     "iopub.status.idle": "2025-08-05T16:39:40.759122Z",
     "shell.execute_reply": "2025-08-05T16:39:40.757872Z"
    },
    "papermill": {
     "duration": 0.92901,
     "end_time": "2025-08-05T16:39:40.761052",
     "exception": false,
     "start_time": "2025-08-05T16:39:39.832042",
     "status": "completed"
    },
    "tags": []
   },
   "outputs": [],
   "source": [
    "from fairness_multiverse.conformal import evaluate_sets\n",
    "\n",
    "# Evaluate coverage and average set size on test data\n",
    "metrics = evaluate_sets(pred_sets, y_true)"
   ]
  },
  {
   "cell_type": "markdown",
   "id": "2b569c12-9aaa-4c88-98c9-bbcd0cf3ebb8",
   "metadata": {
    "papermill": {
     "duration": 0.021468,
     "end_time": "2025-08-05T16:39:40.803668",
     "exception": false,
     "start_time": "2025-08-05T16:39:40.782200",
     "status": "completed"
    },
    "tags": []
   },
   "source": [
    "# CP Metrics"
   ]
  },
  {
   "cell_type": "code",
   "execution_count": 45,
   "id": "5ce0a5cb-201f-45a0-ade5-94c7f0bd6095",
   "metadata": {
    "execution": {
     "iopub.execute_input": "2025-08-05T16:39:40.847274Z",
     "iopub.status.busy": "2025-08-05T16:39:40.846369Z",
     "iopub.status.idle": "2025-08-05T16:39:40.853894Z",
     "shell.execute_reply": "2025-08-05T16:39:40.852896Z"
    },
    "papermill": {
     "duration": 0.030908,
     "end_time": "2025-08-05T16:39:40.855707",
     "exception": false,
     "start_time": "2025-08-05T16:39:40.824799",
     "status": "completed"
    },
    "tags": []
   },
   "outputs": [
    {
     "data": {
      "text/plain": [
       "{'coverage': 0.9120499386913388, 'avg_size': 1.244209118269981}"
      ]
     },
     "execution_count": 45,
     "metadata": {},
     "output_type": "execute_result"
    }
   ],
   "source": [
    "metrics"
   ]
  },
  {
   "cell_type": "code",
   "execution_count": 46,
   "id": "9b9a838d-31c9-430b-ae14-12baee460d17",
   "metadata": {
    "execution": {
     "iopub.execute_input": "2025-08-05T16:39:40.900300Z",
     "iopub.status.busy": "2025-08-05T16:39:40.899327Z",
     "iopub.status.idle": "2025-08-05T16:39:40.906565Z",
     "shell.execute_reply": "2025-08-05T16:39:40.905419Z"
    },
    "papermill": {
     "duration": 0.031709,
     "end_time": "2025-08-05T16:39:40.908364",
     "exception": false,
     "start_time": "2025-08-05T16:39:40.876655",
     "status": "completed"
    },
    "tags": []
   },
   "outputs": [],
   "source": [
    "example_universe = universe.copy()\n",
    "universe_training_year = example_universe.get(\"training_year\")\n",
    "universe_training_size = example_universe.get(\"training_size\")\n",
    "universe_scale = example_universe.get(\"scale\")\n",
    "universe_model = example_universe.get(\"model\")\n",
    "universe_exclude_features = example_universe.get(\"exclude_features\")\n",
    "universe_exclude_subgroups = example_universe.get(\"exclude_subgroups\")"
   ]
  },
  {
   "cell_type": "code",
   "execution_count": 47,
   "id": "f4b6a8ac-9dc0-4245-8a91-5b3b5999c4f9",
   "metadata": {
    "execution": {
     "iopub.execute_input": "2025-08-05T16:39:40.952654Z",
     "iopub.status.busy": "2025-08-05T16:39:40.951789Z",
     "iopub.status.idle": "2025-08-05T16:39:40.958622Z",
     "shell.execute_reply": "2025-08-05T16:39:40.957623Z"
    },
    "papermill": {
     "duration": 0.030769,
     "end_time": "2025-08-05T16:39:40.960589",
     "exception": false,
     "start_time": "2025-08-05T16:39:40.929820",
     "status": "completed"
    },
    "tags": []
   },
   "outputs": [],
   "source": [
    "cp_metrics_dict = {\n",
    "    \"universe_id\": [universe_id],\n",
    "    \"universe_training_year\": [universe_training_year],\n",
    "    \"universe_training_size\": [universe_training_size],\n",
    "    \"universe_scale\": [universe_scale],\n",
    "    \"universe_model\": [universe_model],\n",
    "    \"universe_exclude_features\": [universe_exclude_features],\n",
    "    \"universe_exclude_subgroups\": [universe_exclude_subgroups],\n",
    "    \"q_hat\": [q_hat],\n",
    "    \"coverage\": [metrics[\"coverage\"]],\n",
    "    \"avg_size\": [metrics[\"avg_size\"]],\n",
    "}"
   ]
  },
  {
   "cell_type": "code",
   "execution_count": 48,
   "id": "908acbb1-0371-4915-85ca-3fa520d2efe2",
   "metadata": {
    "execution": {
     "iopub.execute_input": "2025-08-05T16:39:41.005156Z",
     "iopub.status.busy": "2025-08-05T16:39:41.004200Z",
     "iopub.status.idle": "2025-08-05T16:39:41.012244Z",
     "shell.execute_reply": "2025-08-05T16:39:41.011100Z"
    },
    "papermill": {
     "duration": 0.031762,
     "end_time": "2025-08-05T16:39:41.014153",
     "exception": false,
     "start_time": "2025-08-05T16:39:40.982391",
     "status": "completed"
    },
    "tags": []
   },
   "outputs": [
    {
     "data": {
      "text/plain": [
       "{'universe_id': ['62e1fcb439c1c02567cfa73e0b3af2d9'],\n",
       " 'universe_training_year': ['2010_14'],\n",
       " 'universe_training_size': ['1k'],\n",
       " 'universe_scale': ['do-not-scale'],\n",
       " 'universe_model': ['logreg'],\n",
       " 'universe_exclude_features': ['nationality-sex'],\n",
       " 'universe_exclude_subgroups': ['drop-non-german'],\n",
       " 'q_hat': [0.6966447233918722],\n",
       " 'coverage': [0.9120499386913388],\n",
       " 'avg_size': [1.244209118269981]}"
      ]
     },
     "execution_count": 48,
     "metadata": {},
     "output_type": "execute_result"
    }
   ],
   "source": [
    "cp_metrics_dict"
   ]
  },
  {
   "cell_type": "code",
   "execution_count": 49,
   "id": "33007efc-14e9-4ec6-97ac-56a455c82265",
   "metadata": {
    "execution": {
     "iopub.execute_input": "2025-08-05T16:39:41.059137Z",
     "iopub.status.busy": "2025-08-05T16:39:41.058554Z",
     "iopub.status.idle": "2025-08-05T16:39:41.067196Z",
     "shell.execute_reply": "2025-08-05T16:39:41.065893Z"
    },
    "papermill": {
     "duration": 0.032733,
     "end_time": "2025-08-05T16:39:41.069169",
     "exception": false,
     "start_time": "2025-08-05T16:39:41.036436",
     "status": "completed"
    },
    "tags": []
   },
   "outputs": [],
   "source": [
    "cp_metrics_df = pd.DataFrame(cp_metrics_dict)"
   ]
  },
  {
   "cell_type": "code",
   "execution_count": 50,
   "id": "db12611b-57b2-4910-b9d0-355adfd6e7bf",
   "metadata": {
    "execution": {
     "iopub.execute_input": "2025-08-05T16:39:41.116247Z",
     "iopub.status.busy": "2025-08-05T16:39:41.115221Z",
     "iopub.status.idle": "2025-08-05T16:39:41.143077Z",
     "shell.execute_reply": "2025-08-05T16:39:41.141565Z"
    },
    "papermill": {
     "duration": 0.052915,
     "end_time": "2025-08-05T16:39:41.145082",
     "exception": false,
     "start_time": "2025-08-05T16:39:41.092167",
     "status": "completed"
    },
    "tags": []
   },
   "outputs": [
    {
     "data": {
      "text/html": [
       "<div>\n",
       "<style scoped>\n",
       "    .dataframe tbody tr th:only-of-type {\n",
       "        vertical-align: middle;\n",
       "    }\n",
       "\n",
       "    .dataframe tbody tr th {\n",
       "        vertical-align: top;\n",
       "    }\n",
       "\n",
       "    .dataframe thead th {\n",
       "        text-align: right;\n",
       "    }\n",
       "</style>\n",
       "<table border=\"1\" class=\"dataframe\">\n",
       "  <thead>\n",
       "    <tr style=\"text-align: right;\">\n",
       "      <th></th>\n",
       "      <th>universe_id</th>\n",
       "      <th>universe_training_year</th>\n",
       "      <th>universe_training_size</th>\n",
       "      <th>universe_scale</th>\n",
       "      <th>universe_model</th>\n",
       "      <th>universe_exclude_features</th>\n",
       "      <th>universe_exclude_subgroups</th>\n",
       "      <th>q_hat</th>\n",
       "      <th>coverage</th>\n",
       "      <th>avg_size</th>\n",
       "    </tr>\n",
       "  </thead>\n",
       "  <tbody>\n",
       "    <tr>\n",
       "      <th>0</th>\n",
       "      <td>62e1fcb439c1c02567cfa73e0b3af2d9</td>\n",
       "      <td>2010_14</td>\n",
       "      <td>1k</td>\n",
       "      <td>do-not-scale</td>\n",
       "      <td>logreg</td>\n",
       "      <td>nationality-sex</td>\n",
       "      <td>drop-non-german</td>\n",
       "      <td>0.696645</td>\n",
       "      <td>0.91205</td>\n",
       "      <td>1.244209</td>\n",
       "    </tr>\n",
       "  </tbody>\n",
       "</table>\n",
       "</div>"
      ],
      "text/plain": [
       "                        universe_id universe_training_year  \\\n",
       "0  62e1fcb439c1c02567cfa73e0b3af2d9                2010_14   \n",
       "\n",
       "  universe_training_size universe_scale universe_model  \\\n",
       "0                     1k   do-not-scale         logreg   \n",
       "\n",
       "  universe_exclude_features universe_exclude_subgroups     q_hat  coverage  \\\n",
       "0           nationality-sex            drop-non-german  0.696645   0.91205   \n",
       "\n",
       "   avg_size  \n",
       "0  1.244209  "
      ]
     },
     "execution_count": 50,
     "metadata": {},
     "output_type": "execute_result"
    }
   ],
   "source": [
    "cp_metrics_df"
   ]
  },
  {
   "cell_type": "code",
   "execution_count": 51,
   "id": "b7fbde55-a0a1-47e4-9af6-fe4a17fa8c61",
   "metadata": {
    "execution": {
     "iopub.execute_input": "2025-08-05T16:39:41.192365Z",
     "iopub.status.busy": "2025-08-05T16:39:41.191778Z",
     "iopub.status.idle": "2025-08-05T16:39:41.197581Z",
     "shell.execute_reply": "2025-08-05T16:39:41.196584Z"
    },
    "papermill": {
     "duration": 0.031725,
     "end_time": "2025-08-05T16:39:41.199633",
     "exception": false,
     "start_time": "2025-08-05T16:39:41.167908",
     "status": "completed"
    },
    "tags": []
   },
   "outputs": [],
   "source": [
    "# Conditional Coverage & looking at subgroups"
   ]
  },
  {
   "cell_type": "code",
   "execution_count": 52,
   "id": "027ae886-68dd-4141-96c7-805a5450e1ef",
   "metadata": {
    "execution": {
     "iopub.execute_input": "2025-08-05T16:39:41.247610Z",
     "iopub.status.busy": "2025-08-05T16:39:41.246739Z",
     "iopub.status.idle": "2025-08-05T16:39:41.531448Z",
     "shell.execute_reply": "2025-08-05T16:39:41.530472Z"
    },
    "papermill": {
     "duration": 0.310614,
     "end_time": "2025-08-05T16:39:41.533467",
     "exception": false,
     "start_time": "2025-08-05T16:39:41.222853",
     "status": "completed"
    },
    "tags": []
   },
   "outputs": [],
   "source": [
    "from fairness_multiverse.conformal import build_cp_groups\n",
    "\n",
    "cp_groups_df = build_cp_groups(pred_sets, y_true, X_test.index, org_test)\n",
    "#needs universe_id and setting"
   ]
  },
  {
   "cell_type": "code",
   "execution_count": 53,
   "id": "6cbdab96-b2b2-45af-ad54-d0516db2e28d",
   "metadata": {
    "execution": {
     "iopub.execute_input": "2025-08-05T16:39:41.582640Z",
     "iopub.status.busy": "2025-08-05T16:39:41.581908Z",
     "iopub.status.idle": "2025-08-05T16:39:43.219312Z",
     "shell.execute_reply": "2025-08-05T16:39:43.218359Z"
    },
    "papermill": {
     "duration": 1.663042,
     "end_time": "2025-08-05T16:39:43.221276",
     "exception": false,
     "start_time": "2025-08-05T16:39:41.558234",
     "status": "completed"
    },
    "tags": []
   },
   "outputs": [],
   "source": [
    "# Define covered = 1 if true_label is in the predicted set\n",
    "cp_groups_df['covered'] = cp_groups_df.apply(\n",
    "    lambda r: int(r['true_label'] in r['pred_set']),\n",
    "    axis=1\n",
    ")"
   ]
  },
  {
   "cell_type": "code",
   "execution_count": 54,
   "id": "338ff529-1a6b-4b87-a931-8e4788d52aad",
   "metadata": {
    "execution": {
     "iopub.execute_input": "2025-08-05T16:39:43.267378Z",
     "iopub.status.busy": "2025-08-05T16:39:43.266877Z",
     "iopub.status.idle": "2025-08-05T16:39:43.272127Z",
     "shell.execute_reply": "2025-08-05T16:39:43.271047Z"
    },
    "papermill": {
     "duration": 0.029146,
     "end_time": "2025-08-05T16:39:43.273757",
     "exception": false,
     "start_time": "2025-08-05T16:39:43.244611",
     "status": "completed"
    },
    "tags": []
   },
   "outputs": [],
   "source": [
    "#cp_groups_df"
   ]
  },
  {
   "cell_type": "code",
   "execution_count": 55,
   "id": "90032e27-66df-4540-9169-4e89cfbaa758",
   "metadata": {
    "execution": {
     "iopub.execute_input": "2025-08-05T16:39:43.320704Z",
     "iopub.status.busy": "2025-08-05T16:39:43.320247Z",
     "iopub.status.idle": "2025-08-05T16:39:43.332422Z",
     "shell.execute_reply": "2025-08-05T16:39:43.331426Z"
    },
    "papermill": {
     "duration": 0.037836,
     "end_time": "2025-08-05T16:39:43.334498",
     "exception": false,
     "start_time": "2025-08-05T16:39:43.296662",
     "status": "completed"
    },
    "tags": []
   },
   "outputs": [],
   "source": [
    "subgroups = ['frau1','nongerman','nongerman_male','nongerman_female']\n",
    "\n",
    "# Conditional coverage for subgroup==1\n",
    "cond_coverage = {\n",
    "    g: cp_groups_df.loc[cp_groups_df[g]==1, 'covered'].mean()\n",
    "    for g in subgroups\n",
    "}"
   ]
  },
  {
   "cell_type": "code",
   "execution_count": 56,
   "id": "1e348fb1-b9c3-45bc-ba23-f016827a7e0d",
   "metadata": {
    "execution": {
     "iopub.execute_input": "2025-08-05T16:39:43.381000Z",
     "iopub.status.busy": "2025-08-05T16:39:43.380172Z",
     "iopub.status.idle": "2025-08-05T16:39:43.387584Z",
     "shell.execute_reply": "2025-08-05T16:39:43.386504Z"
    },
    "papermill": {
     "duration": 0.03202,
     "end_time": "2025-08-05T16:39:43.389473",
     "exception": false,
     "start_time": "2025-08-05T16:39:43.357453",
     "status": "completed"
    },
    "tags": []
   },
   "outputs": [
    {
     "data": {
      "text/plain": [
       "{'frau1': 0.9119018735678663,\n",
       " 'nongerman': 0.9378543760175153,\n",
       " 'nongerman_male': 0.9499234441142034,\n",
       " 'nongerman_female': 0.9178837555886736}"
      ]
     },
     "execution_count": 56,
     "metadata": {},
     "output_type": "execute_result"
    }
   ],
   "source": [
    "cond_coverage"
   ]
  },
  {
   "cell_type": "code",
   "execution_count": 57,
   "id": "f5093324-c3dd-4d63-bc4c-8d945e5c8bbb",
   "metadata": {
    "execution": {
     "iopub.execute_input": "2025-08-05T16:39:43.454928Z",
     "iopub.status.busy": "2025-08-05T16:39:43.454100Z",
     "iopub.status.idle": "2025-08-05T16:39:43.461454Z",
     "shell.execute_reply": "2025-08-05T16:39:43.460440Z"
    },
    "papermill": {
     "duration": 0.048099,
     "end_time": "2025-08-05T16:39:43.463291",
     "exception": false,
     "start_time": "2025-08-05T16:39:43.415192",
     "status": "completed"
    },
    "tags": []
   },
   "outputs": [],
   "source": [
    "for subgroup, cov in cond_coverage.items():\n",
    "    cp_metrics_df[f\"cov_{subgroup}\"] = cov"
   ]
  },
  {
   "cell_type": "code",
   "execution_count": 58,
   "id": "6e872e10-dbe5-49e8-b554-5030c98ff75d",
   "metadata": {
    "execution": {
     "iopub.execute_input": "2025-08-05T16:39:43.518481Z",
     "iopub.status.busy": "2025-08-05T16:39:43.518044Z",
     "iopub.status.idle": "2025-08-05T16:39:43.538978Z",
     "shell.execute_reply": "2025-08-05T16:39:43.537828Z"
    },
    "papermill": {
     "duration": 0.05015,
     "end_time": "2025-08-05T16:39:43.540673",
     "exception": false,
     "start_time": "2025-08-05T16:39:43.490523",
     "status": "completed"
    },
    "tags": []
   },
   "outputs": [
    {
     "data": {
      "text/html": [
       "<div>\n",
       "<style scoped>\n",
       "    .dataframe tbody tr th:only-of-type {\n",
       "        vertical-align: middle;\n",
       "    }\n",
       "\n",
       "    .dataframe tbody tr th {\n",
       "        vertical-align: top;\n",
       "    }\n",
       "\n",
       "    .dataframe thead th {\n",
       "        text-align: right;\n",
       "    }\n",
       "</style>\n",
       "<table border=\"1\" class=\"dataframe\">\n",
       "  <thead>\n",
       "    <tr style=\"text-align: right;\">\n",
       "      <th></th>\n",
       "      <th>universe_id</th>\n",
       "      <th>universe_training_year</th>\n",
       "      <th>universe_training_size</th>\n",
       "      <th>universe_scale</th>\n",
       "      <th>universe_model</th>\n",
       "      <th>universe_exclude_features</th>\n",
       "      <th>universe_exclude_subgroups</th>\n",
       "      <th>q_hat</th>\n",
       "      <th>coverage</th>\n",
       "      <th>avg_size</th>\n",
       "      <th>cov_frau1</th>\n",
       "      <th>cov_nongerman</th>\n",
       "      <th>cov_nongerman_male</th>\n",
       "      <th>cov_nongerman_female</th>\n",
       "    </tr>\n",
       "  </thead>\n",
       "  <tbody>\n",
       "    <tr>\n",
       "      <th>0</th>\n",
       "      <td>62e1fcb439c1c02567cfa73e0b3af2d9</td>\n",
       "      <td>2010_14</td>\n",
       "      <td>1k</td>\n",
       "      <td>do-not-scale</td>\n",
       "      <td>logreg</td>\n",
       "      <td>nationality-sex</td>\n",
       "      <td>drop-non-german</td>\n",
       "      <td>0.696645</td>\n",
       "      <td>0.91205</td>\n",
       "      <td>1.244209</td>\n",
       "      <td>0.911902</td>\n",
       "      <td>0.937854</td>\n",
       "      <td>0.949923</td>\n",
       "      <td>0.917884</td>\n",
       "    </tr>\n",
       "  </tbody>\n",
       "</table>\n",
       "</div>"
      ],
      "text/plain": [
       "                        universe_id universe_training_year  \\\n",
       "0  62e1fcb439c1c02567cfa73e0b3af2d9                2010_14   \n",
       "\n",
       "  universe_training_size universe_scale universe_model  \\\n",
       "0                     1k   do-not-scale         logreg   \n",
       "\n",
       "  universe_exclude_features universe_exclude_subgroups     q_hat  coverage  \\\n",
       "0           nationality-sex            drop-non-german  0.696645   0.91205   \n",
       "\n",
       "   avg_size  cov_frau1  cov_nongerman  cov_nongerman_male  \\\n",
       "0  1.244209   0.911902       0.937854            0.949923   \n",
       "\n",
       "   cov_nongerman_female  \n",
       "0              0.917884  "
      ]
     },
     "execution_count": 58,
     "metadata": {},
     "output_type": "execute_result"
    }
   ],
   "source": [
    "cp_metrics_df"
   ]
  },
  {
   "cell_type": "markdown",
   "id": "33774451",
   "metadata": {
    "papermill": {
     "duration": 0.035108,
     "end_time": "2025-08-05T16:39:43.598385",
     "exception": false,
     "start_time": "2025-08-05T16:39:43.563277",
     "status": "completed"
    },
    "tags": []
   },
   "source": [
    "# (Fairness) Metrics"
   ]
  },
  {
   "cell_type": "code",
   "execution_count": 59,
   "id": "debc5d62",
   "metadata": {
    "execution": {
     "iopub.execute_input": "2025-08-05T16:39:43.648676Z",
     "iopub.status.busy": "2025-08-05T16:39:43.648210Z",
     "iopub.status.idle": "2025-08-05T16:39:43.668717Z",
     "shell.execute_reply": "2025-08-05T16:39:43.667675Z"
    },
    "papermill": {
     "duration": 0.047929,
     "end_time": "2025-08-05T16:39:43.670574",
     "exception": false,
     "start_time": "2025-08-05T16:39:43.622645",
     "status": "completed"
    },
    "tags": []
   },
   "outputs": [],
   "source": [
    "# do I need to include maxdeutsch1.missing?\n",
    "\n",
    "import numpy as np\n",
    "\n",
    "colname_to_bin = \"maxdeutsch1\"\n",
    "majority_value = org_train[colname_to_bin].mode()[0]\n",
    "\n",
    "org_test[\"majmin\"] = np.where(org_test[colname_to_bin] == majority_value, \"majority\", \"minority\")"
   ]
  },
  {
   "cell_type": "code",
   "execution_count": 60,
   "id": "06a50de5",
   "metadata": {
    "execution": {
     "iopub.execute_input": "2025-08-05T16:39:43.718868Z",
     "iopub.status.busy": "2025-08-05T16:39:43.717994Z",
     "iopub.status.idle": "2025-08-05T16:39:46.450450Z",
     "shell.execute_reply": "2025-08-05T16:39:46.449388Z"
    },
    "papermill": {
     "duration": 2.757781,
     "end_time": "2025-08-05T16:39:46.452385",
     "exception": false,
     "start_time": "2025-08-05T16:39:43.694604",
     "status": "completed"
    },
    "tags": []
   },
   "outputs": [],
   "source": [
    "example_universe = universe.copy()\n",
    "example_universe[\"cutoff\"] = example_universe[\"cutoff\"][0]\n",
    "example_universe[\"eval_fairness_grouping\"] = example_universe[\"eval_fairness_grouping\"][0]\n",
    "fairness_dict, metric_frame = universe_analysis.compute_metrics(\n",
    "    example_universe,\n",
    "    y_pred_prob=probs_test,\n",
    "    y_test=y_true,\n",
    "    org_test=org_test,\n",
    ")"
   ]
  },
  {
   "cell_type": "markdown",
   "id": "f95d4e02",
   "metadata": {
    "papermill": {
     "duration": 0.025135,
     "end_time": "2025-08-05T16:39:46.506016",
     "exception": false,
     "start_time": "2025-08-05T16:39:46.480881",
     "status": "completed"
    },
    "tags": []
   },
   "source": [
    "# Overall"
   ]
  },
  {
   "cell_type": "markdown",
   "id": "bdee4871",
   "metadata": {
    "papermill": {
     "duration": 0.024888,
     "end_time": "2025-08-05T16:39:46.555900",
     "exception": false,
     "start_time": "2025-08-05T16:39:46.531012",
     "status": "completed"
    },
    "tags": []
   },
   "source": [
    "Fairness\n",
    "Main fairness target: Equalized Odds. Seems to be a better fit than equal opportunity, since we're not only interested in Y = 1. Seems to be a better fit than demographic parity, since we also care about accuracy, not just equal distribution of preds.\n",
    "\n",
    "Pick column for computation of fairness metrics\n",
    "\n",
    "Performance\n",
    "Overall performance measures, most interesting in relation to the measures split by group below"
   ]
  },
  {
   "cell_type": "code",
   "execution_count": 61,
   "id": "c4e067c6",
   "metadata": {
    "execution": {
     "iopub.execute_input": "2025-08-05T16:39:46.607556Z",
     "iopub.status.busy": "2025-08-05T16:39:46.606739Z",
     "iopub.status.idle": "2025-08-05T16:39:46.616134Z",
     "shell.execute_reply": "2025-08-05T16:39:46.615039Z"
    },
    "papermill": {
     "duration": 0.037148,
     "end_time": "2025-08-05T16:39:46.617890",
     "exception": false,
     "start_time": "2025-08-05T16:39:46.580742",
     "status": "completed"
    },
    "tags": []
   },
   "outputs": [
    {
     "data": {
      "text/plain": [
       "accuracy                   0.212897\n",
       "balanced accuracy          0.522967\n",
       "f1                         0.234544\n",
       "precision                  0.133987\n",
       "false positive rate        0.894108\n",
       "false negative rate        0.059958\n",
       "selection rate             0.900000\n",
       "count                  89710.000000\n",
       "dtype: float64"
      ]
     },
     "execution_count": 61,
     "metadata": {},
     "output_type": "execute_result"
    }
   ],
   "source": [
    "metric_frame.overall"
   ]
  },
  {
   "cell_type": "markdown",
   "id": "e968fe9d",
   "metadata": {
    "papermill": {
     "duration": 0.022066,
     "end_time": "2025-08-05T16:39:46.663821",
     "exception": false,
     "start_time": "2025-08-05T16:39:46.641755",
     "status": "completed"
    },
    "tags": []
   },
   "source": [
    "By Group"
   ]
  },
  {
   "cell_type": "code",
   "execution_count": 62,
   "id": "ec325bce",
   "metadata": {
    "execution": {
     "iopub.execute_input": "2025-08-05T16:39:46.709976Z",
     "iopub.status.busy": "2025-08-05T16:39:46.709143Z",
     "iopub.status.idle": "2025-08-05T16:39:46.725958Z",
     "shell.execute_reply": "2025-08-05T16:39:46.724885Z"
    },
    "papermill": {
     "duration": 0.04243,
     "end_time": "2025-08-05T16:39:46.727696",
     "exception": false,
     "start_time": "2025-08-05T16:39:46.685266",
     "status": "completed"
    },
    "tags": []
   },
   "outputs": [
    {
     "data": {
      "text/html": [
       "<div>\n",
       "<style scoped>\n",
       "    .dataframe tbody tr th:only-of-type {\n",
       "        vertical-align: middle;\n",
       "    }\n",
       "\n",
       "    .dataframe tbody tr th {\n",
       "        vertical-align: top;\n",
       "    }\n",
       "\n",
       "    .dataframe thead th {\n",
       "        text-align: right;\n",
       "    }\n",
       "</style>\n",
       "<table border=\"1\" class=\"dataframe\">\n",
       "  <thead>\n",
       "    <tr style=\"text-align: right;\">\n",
       "      <th></th>\n",
       "      <th>accuracy</th>\n",
       "      <th>balanced accuracy</th>\n",
       "      <th>f1</th>\n",
       "      <th>precision</th>\n",
       "      <th>false positive rate</th>\n",
       "      <th>false negative rate</th>\n",
       "      <th>selection rate</th>\n",
       "      <th>count</th>\n",
       "    </tr>\n",
       "    <tr>\n",
       "      <th>majmin</th>\n",
       "      <th></th>\n",
       "      <th></th>\n",
       "      <th></th>\n",
       "      <th></th>\n",
       "      <th></th>\n",
       "      <th></th>\n",
       "      <th></th>\n",
       "      <th></th>\n",
       "    </tr>\n",
       "  </thead>\n",
       "  <tbody>\n",
       "    <tr>\n",
       "      <th>majority</th>\n",
       "      <td>0.232991</td>\n",
       "      <td>0.528099</td>\n",
       "      <td>0.242519</td>\n",
       "      <td>0.139458</td>\n",
       "      <td>0.873013</td>\n",
       "      <td>0.070788</td>\n",
       "      <td>0.880439</td>\n",
       "      <td>69170.0</td>\n",
       "    </tr>\n",
       "    <tr>\n",
       "      <th>minority</th>\n",
       "      <td>0.145229</td>\n",
       "      <td>0.509025</td>\n",
       "      <td>0.209393</td>\n",
       "      <td>0.117193</td>\n",
       "      <td>0.963790</td>\n",
       "      <td>0.018159</td>\n",
       "      <td>0.965871</td>\n",
       "      <td>20540.0</td>\n",
       "    </tr>\n",
       "  </tbody>\n",
       "</table>\n",
       "</div>"
      ],
      "text/plain": [
       "          accuracy  balanced accuracy        f1  precision  \\\n",
       "majmin                                                       \n",
       "majority  0.232991           0.528099  0.242519   0.139458   \n",
       "minority  0.145229           0.509025  0.209393   0.117193   \n",
       "\n",
       "          false positive rate  false negative rate  selection rate    count  \n",
       "majmin                                                                       \n",
       "majority             0.873013             0.070788        0.880439  69170.0  \n",
       "minority             0.963790             0.018159        0.965871  20540.0  "
      ]
     },
     "execution_count": 62,
     "metadata": {},
     "output_type": "execute_result"
    }
   ],
   "source": [
    "metric_frame.by_group"
   ]
  },
  {
   "cell_type": "code",
   "execution_count": 63,
   "id": "a9ddbe63",
   "metadata": {
    "execution": {
     "iopub.execute_input": "2025-08-05T16:39:46.775627Z",
     "iopub.status.busy": "2025-08-05T16:39:46.774879Z",
     "iopub.status.idle": "2025-08-05T16:39:49.671381Z",
     "shell.execute_reply": "2025-08-05T16:39:49.670098Z"
    },
    "papermill": {
     "duration": 2.923023,
     "end_time": "2025-08-05T16:39:49.673711",
     "exception": false,
     "start_time": "2025-08-05T16:39:46.750688",
     "status": "completed"
    },
    "tags": []
   },
   "outputs": [
    {
     "data": {
      "text/plain": [
       "array([[<Axes: title={'center': 'accuracy'}, xlabel='majmin'>,\n",
       "        <Axes: title={'center': 'balanced accuracy'}, xlabel='majmin'>,\n",
       "        <Axes: title={'center': 'f1'}, xlabel='majmin'>],\n",
       "       [<Axes: title={'center': 'precision'}, xlabel='majmin'>,\n",
       "        <Axes: title={'center': 'false positive rate'}, xlabel='majmin'>,\n",
       "        <Axes: title={'center': 'false negative rate'}, xlabel='majmin'>],\n",
       "       [<Axes: title={'center': 'selection rate'}, xlabel='majmin'>,\n",
       "        <Axes: title={'center': 'count'}, xlabel='majmin'>,\n",
       "        <Axes: xlabel='majmin'>]], dtype=object)"
      ]
     },
     "execution_count": 63,
     "metadata": {},
     "output_type": "execute_result"
    },
    {
     "data": {
      "image/png": "[encoded data removed]",
      "text/plain": [
       "<Figure size 1200x800 with 9 Axes>"
      ]
     },
     "metadata": {},
     "output_type": "display_data"
    }
   ],
   "source": [
    "# In a graphic\n",
    "metric_frame.by_group.plot.bar(\n",
    "    subplots=True,\n",
    "    layout=[3, 3],\n",
    "    legend=False,\n",
    "    figsize=[12, 8],\n",
    "    title=\"Show all metrics\",\n",
    ")"
   ]
  },
  {
   "cell_type": "markdown",
   "id": "f57a0bac",
   "metadata": {
    "papermill": {
     "duration": 0.036847,
     "end_time": "2025-08-05T16:39:49.748145",
     "exception": false,
     "start_time": "2025-08-05T16:39:49.711298",
     "status": "completed"
    },
    "tags": []
   },
   "source": [
    "# Final Output"
   ]
  },
  {
   "cell_type": "code",
   "execution_count": 64,
   "id": "96d280a3",
   "metadata": {
    "execution": {
     "iopub.execute_input": "2025-08-05T16:39:49.821234Z",
     "iopub.status.busy": "2025-08-05T16:39:49.820029Z",
     "iopub.status.idle": "2025-08-05T16:39:49.829936Z",
     "shell.execute_reply": "2025-08-05T16:39:49.828684Z"
    },
    "papermill": {
     "duration": 0.045928,
     "end_time": "2025-08-05T16:39:49.831724",
     "exception": false,
     "start_time": "2025-08-05T16:39:49.785796",
     "status": "completed"
    },
    "tags": []
   },
   "outputs": [
    {
     "data": {
      "text/plain": [
       "4"
      ]
     },
     "execution_count": 64,
     "metadata": {},
     "output_type": "execute_result"
    }
   ],
   "source": [
    "sub_universes = universe_analysis.generate_sub_universes()\n",
    "len(sub_universes)"
   ]
  },
  {
   "cell_type": "code",
   "execution_count": 65,
   "id": "92adf7ba",
   "metadata": {
    "execution": {
     "iopub.execute_input": "2025-08-05T16:39:49.889022Z",
     "iopub.status.busy": "2025-08-05T16:39:49.888516Z",
     "iopub.status.idle": "2025-08-05T16:39:49.901751Z",
     "shell.execute_reply": "2025-08-05T16:39:49.900536Z"
    },
    "papermill": {
     "duration": 0.048538,
     "end_time": "2025-08-05T16:39:49.903691",
     "exception": false,
     "start_time": "2025-08-05T16:39:49.855153",
     "status": "completed"
    },
    "tags": []
   },
   "outputs": [],
   "source": [
    "def filter_sub_universe_data(sub_universe, org_test):\n",
    "    # Keep all rows — no filtering\n",
    "    keep_rows_mask = np.ones(org_test.shape[0], dtype=bool)\n",
    "\n",
    "    print(f\"[INFO] Keeping all rows: {keep_rows_mask.sum()} rows retained.\")\n",
    "    return keep_rows_mask"
   ]
  },
  {
   "cell_type": "code",
   "execution_count": 66,
   "id": "4a759155",
   "metadata": {
    "execution": {
     "iopub.execute_input": "2025-08-05T16:39:49.968565Z",
     "iopub.status.busy": "2025-08-05T16:39:49.967808Z",
     "iopub.status.idle": "2025-08-05T16:39:58.431314Z",
     "shell.execute_reply": "2025-08-05T16:39:58.430522Z"
    },
    "papermill": {
     "duration": 8.498377,
     "end_time": "2025-08-05T16:39:58.432886",
     "exception": false,
     "start_time": "2025-08-05T16:39:49.934509",
     "status": "completed"
    },
    "tags": []
   },
   "outputs": [
    {
     "name": "stdout",
     "output_type": "stream",
     "text": [
      "Stopping execution_time clock.\n",
      "[INFO] Keeping all rows: 89710 rows retained.\n"
     ]
    },
    {
     "name": "stdout",
     "output_type": "stream",
     "text": [
      "[INFO] Keeping all rows: 89710 rows retained.\n"
     ]
    },
    {
     "name": "stdout",
     "output_type": "stream",
     "text": [
      "[INFO] Keeping all rows: 89710 rows retained.\n"
     ]
    },
    {
     "name": "stdout",
     "output_type": "stream",
     "text": [
      "[INFO] Keeping all rows: 89710 rows retained.\n"
     ]
    },
    {
     "data": {
      "text/html": [
       "<div>\n",
       "<style scoped>\n",
       "    .dataframe tbody tr th:only-of-type {\n",
       "        vertical-align: middle;\n",
       "    }\n",
       "\n",
       "    .dataframe tbody tr th {\n",
       "        vertical-align: top;\n",
       "    }\n",
       "\n",
       "    .dataframe thead th {\n",
       "        text-align: right;\n",
       "    }\n",
       "</style>\n",
       "<table border=\"1\" class=\"dataframe\">\n",
       "  <thead>\n",
       "    <tr style=\"text-align: right;\">\n",
       "      <th></th>\n",
       "      <th>run_no</th>\n",
       "      <th>universe_id</th>\n",
       "      <th>universe_settings</th>\n",
       "      <th>execution_time</th>\n",
       "      <th>test_size_n</th>\n",
       "      <th>test_size_frac</th>\n",
       "      <th>fair_main_equalized_odds_difference</th>\n",
       "      <th>fair_main_equalized_odds_ratio</th>\n",
       "      <th>fair_main_demographic_parity_difference</th>\n",
       "      <th>fair_main_demographic_parity_ratio</th>\n",
       "      <th>...</th>\n",
       "      <th>perf_grp_precision_0</th>\n",
       "      <th>perf_grp_precision_1</th>\n",
       "      <th>perf_grp_false positive rate_0</th>\n",
       "      <th>perf_grp_false positive rate_1</th>\n",
       "      <th>perf_grp_false negative rate_0</th>\n",
       "      <th>perf_grp_false negative rate_1</th>\n",
       "      <th>perf_grp_selection rate_0</th>\n",
       "      <th>perf_grp_selection rate_1</th>\n",
       "      <th>perf_grp_count_0</th>\n",
       "      <th>perf_grp_count_1</th>\n",
       "    </tr>\n",
       "  </thead>\n",
       "  <tbody>\n",
       "    <tr>\n",
       "      <th>0</th>\n",
       "      <td>15</td>\n",
       "      <td>62e1fcb439c1c02567cfa73e0b3af2d9</td>\n",
       "      <td>{\"cutoff\": \"quantile_0.1\", \"eval_fairness_grou...</td>\n",
       "      <td>26.94171</td>\n",
       "      <td>89710</td>\n",
       "      <td>1.0</td>\n",
       "      <td>0.090777</td>\n",
       "      <td>0.905813</td>\n",
       "      <td>0.085432</td>\n",
       "      <td>0.911549</td>\n",
       "      <td>...</td>\n",
       "      <td>NaN</td>\n",
       "      <td>NaN</td>\n",
       "      <td>NaN</td>\n",
       "      <td>NaN</td>\n",
       "      <td>NaN</td>\n",
       "      <td>NaN</td>\n",
       "      <td>NaN</td>\n",
       "      <td>NaN</td>\n",
       "      <td>NaN</td>\n",
       "      <td>NaN</td>\n",
       "    </tr>\n",
       "    <tr>\n",
       "      <th>0</th>\n",
       "      <td>15</td>\n",
       "      <td>62e1fcb439c1c02567cfa73e0b3af2d9</td>\n",
       "      <td>{\"cutoff\": \"quantile_0.1\", \"eval_fairness_grou...</td>\n",
       "      <td>26.94171</td>\n",
       "      <td>89710</td>\n",
       "      <td>1.0</td>\n",
       "      <td>0.090777</td>\n",
       "      <td>0.905813</td>\n",
       "      <td>0.085432</td>\n",
       "      <td>0.911549</td>\n",
       "      <td>...</td>\n",
       "      <td>0.117193</td>\n",
       "      <td>0.139458</td>\n",
       "      <td>0.963790</td>\n",
       "      <td>0.873013</td>\n",
       "      <td>0.018159</td>\n",
       "      <td>0.070788</td>\n",
       "      <td>0.965871</td>\n",
       "      <td>0.880439</td>\n",
       "      <td>20540.0</td>\n",
       "      <td>69170.0</td>\n",
       "    </tr>\n",
       "    <tr>\n",
       "      <th>0</th>\n",
       "      <td>15</td>\n",
       "      <td>62e1fcb439c1c02567cfa73e0b3af2d9</td>\n",
       "      <td>{\"cutoff\": \"quantile_0.25\", \"eval_fairness_gro...</td>\n",
       "      <td>26.94171</td>\n",
       "      <td>89710</td>\n",
       "      <td>1.0</td>\n",
       "      <td>0.208333</td>\n",
       "      <td>0.766667</td>\n",
       "      <td>0.193350</td>\n",
       "      <td>0.784946</td>\n",
       "      <td>...</td>\n",
       "      <td>NaN</td>\n",
       "      <td>NaN</td>\n",
       "      <td>NaN</td>\n",
       "      <td>NaN</td>\n",
       "      <td>NaN</td>\n",
       "      <td>NaN</td>\n",
       "      <td>NaN</td>\n",
       "      <td>NaN</td>\n",
       "      <td>NaN</td>\n",
       "      <td>NaN</td>\n",
       "    </tr>\n",
       "    <tr>\n",
       "      <th>0</th>\n",
       "      <td>15</td>\n",
       "      <td>62e1fcb439c1c02567cfa73e0b3af2d9</td>\n",
       "      <td>{\"cutoff\": \"quantile_0.25\", \"eval_fairness_gro...</td>\n",
       "      <td>26.94171</td>\n",
       "      <td>89710</td>\n",
       "      <td>1.0</td>\n",
       "      <td>0.208333</td>\n",
       "      <td>0.766667</td>\n",
       "      <td>0.193350</td>\n",
       "      <td>0.784946</td>\n",
       "      <td>...</td>\n",
       "      <td>0.121406</td>\n",
       "      <td>0.158210</td>\n",
       "      <td>0.892857</td>\n",
       "      <td>0.684524</td>\n",
       "      <td>0.053209</td>\n",
       "      <td>0.155033</td>\n",
       "      <td>0.899075</td>\n",
       "      <td>0.705725</td>\n",
       "      <td>20540.0</td>\n",
       "      <td>69170.0</td>\n",
       "    </tr>\n",
       "  </tbody>\n",
       "</table>\n",
       "<p>4 rows × 50 columns</p>\n",
       "</div>"
      ],
      "text/plain": [
       "  run_no                       universe_id  \\\n",
       "0     15  62e1fcb439c1c02567cfa73e0b3af2d9   \n",
       "0     15  62e1fcb439c1c02567cfa73e0b3af2d9   \n",
       "0     15  62e1fcb439c1c02567cfa73e0b3af2d9   \n",
       "0     15  62e1fcb439c1c02567cfa73e0b3af2d9   \n",
       "\n",
       "                                   universe_settings  execution_time  \\\n",
       "0  {\"cutoff\": \"quantile_0.1\", \"eval_fairness_grou...        26.94171   \n",
       "0  {\"cutoff\": \"quantile_0.1\", \"eval_fairness_grou...        26.94171   \n",
       "0  {\"cutoff\": \"quantile_0.25\", \"eval_fairness_gro...        26.94171   \n",
       "0  {\"cutoff\": \"quantile_0.25\", \"eval_fairness_gro...        26.94171   \n",
       "\n",
       "   test_size_n  test_size_frac  fair_main_equalized_odds_difference  \\\n",
       "0        89710             1.0                             0.090777   \n",
       "0        89710             1.0                             0.090777   \n",
       "0        89710             1.0                             0.208333   \n",
       "0        89710             1.0                             0.208333   \n",
       "\n",
       "   fair_main_equalized_odds_ratio  fair_main_demographic_parity_difference  \\\n",
       "0                        0.905813                                 0.085432   \n",
       "0                        0.905813                                 0.085432   \n",
       "0                        0.766667                                 0.193350   \n",
       "0                        0.766667                                 0.193350   \n",
       "\n",
       "   fair_main_demographic_parity_ratio  ...  perf_grp_precision_0  \\\n",
       "0                            0.911549  ...                   NaN   \n",
       "0                            0.911549  ...              0.117193   \n",
       "0                            0.784946  ...                   NaN   \n",
       "0                            0.784946  ...              0.121406   \n",
       "\n",
       "   perf_grp_precision_1  perf_grp_false positive rate_0  \\\n",
       "0                   NaN                             NaN   \n",
       "0              0.139458                        0.963790   \n",
       "0                   NaN                             NaN   \n",
       "0              0.158210                        0.892857   \n",
       "\n",
       "   perf_grp_false positive rate_1  perf_grp_false negative rate_0  \\\n",
       "0                             NaN                             NaN   \n",
       "0                        0.873013                        0.018159   \n",
       "0                             NaN                             NaN   \n",
       "0                        0.684524                        0.053209   \n",
       "\n",
       "   perf_grp_false negative rate_1  perf_grp_selection rate_0  \\\n",
       "0                             NaN                        NaN   \n",
       "0                        0.070788                   0.965871   \n",
       "0                             NaN                        NaN   \n",
       "0                        0.155033                   0.899075   \n",
       "\n",
       "   perf_grp_selection rate_1  perf_grp_count_0  perf_grp_count_1  \n",
       "0                        NaN               NaN               NaN  \n",
       "0                   0.880439           20540.0           69170.0  \n",
       "0                        NaN               NaN               NaN  \n",
       "0                   0.705725           20540.0           69170.0  \n",
       "\n",
       "[4 rows x 50 columns]"
      ]
     },
     "execution_count": 66,
     "metadata": {},
     "output_type": "execute_result"
    }
   ],
   "source": [
    "final_output = universe_analysis.generate_final_output(\n",
    "    y_pred_prob=probs_test,\n",
    "    y_test=y_true,\n",
    "    org_test=org_test,\n",
    "    filter_data=filter_sub_universe_data,\n",
    "    cp_metrics_df=cp_metrics_df,\n",
    "    save=True,\n",
    ")\n",
    "final_output"
   ]
  }
 ],
 "metadata": {
  "celltoolbar": "Tags",
  "kernelspec": {
   "display_name": "Python (CMA Fairness)",
   "language": "python",
   "name": "cma_fair_env"
  },
  "language_info": {
   "codemirror_mode": {
    "name": "ipython",
    "version": 3
   },
   "file_extension": ".py",
   "mimetype": "text/x-python",
   "name": "python",
   "nbconvert_exporter": "python",
   "pygments_lexer": "ipython3",
   "version": "3.10.12"
  },
  "papermill": {
   "default_parameters": {},
   "duration": 39.45828,
   "end_time": "2025-08-05T16:39:59.179445",
   "environment_variables": {},
   "exception": null,
   "input_path": "universe_analysis.ipynb",
   "output_path": "output/runs/15/notebooks/m_15-62e1fcb439c1c02567cfa73e0b3af2d9.ipynb",
   "parameters": {
    "output_dir": "output",
    "run_no": "15",
    "seed": "2023",
    "universe": "{\"cutoff\": [\"quantile_0.1\", \"quantile_0.25\"], \"eval_fairness_grouping\": [\"majority-minority\", \"nationality-all\"], \"exclude_features\": \"nationality-sex\", \"exclude_subgroups\": \"drop-non-german\", \"model\": \"logreg\", \"scale\": \"do-not-scale\", \"training_size\": \"1k\", \"training_year\": \"2010_14\"}",
    "universe_id": "62e1fcb439c1c02567cfa73e0b3af2d9"
   },
   "start_time": "2025-08-05T16:39:19.721165",
   "version": "2.6.0"
  }
 },
 "nbformat": 4,
 "nbformat_minor": 5
}