{
 "cells": [
  {
   "cell_type": "code",
   "execution_count": 1,
   "id": "f159f837-637b-42ba-96b5-ec9a68c44524",
   "metadata": {
    "execution": {
     "iopub.execute_input": "2025-08-05T15:41:08.799069Z",
     "iopub.status.busy": "2025-08-05T15:41:08.798211Z",
     "iopub.status.idle": "2025-08-05T15:41:08.811151Z",
     "shell.execute_reply": "2025-08-05T15:41:08.810481Z"
    },
    "papermill": {
     "duration": 0.031151,
     "end_time": "2025-08-05T15:41:08.812384",
     "exception": false,
     "start_time": "2025-08-05T15:41:08.781233",
     "status": "completed"
    },
    "tags": []
   },
   "outputs": [
    {
     "name": "stdout",
     "output_type": "stream",
     "text": [
      "/dss/dsshome1/0C/ra93lal2/cma/CMA_Fairness_v2\n"
     ]
    },
    {
     "name": "stderr",
     "output_type": "stream",
     "text": [
      "/dss/dsshome1/0C/ra93lal2/.local/share/virtualenvs/CMA_Fairness_v2-3j10GkSs/lib/python3.10/site-packages/IPython/core/magics/osm.py:393: UserWarning: This is now an optional IPython functionality, using bookmarks requires you to install the `pickleshare` library.\n",
      "  bkms = self.shell.db.get('bookmarks', {})\n",
      "/dss/dsshome1/0C/ra93lal2/.local/share/virtualenvs/CMA_Fairness_v2-3j10GkSs/lib/python3.10/site-packages/IPython/core/magics/osm.py:417: UserWarning: This is now an optional IPython functionality, setting dhist requires you to install the `pickleshare` library.\n",
      "  self.shell.db['dhist'] = compress_dhist(dhist)[-100:]\n"
     ]
    }
   ],
   "source": [
    "%cd ~/cma/CMA_Fairness_v2"
   ]
  },
  {
   "cell_type": "markdown",
   "id": "de2603b9",
   "metadata": {
    "papermill": {
     "duration": 0.008533,
     "end_time": "2025-08-05T15:41:08.831751",
     "exception": false,
     "start_time": "2025-08-05T15:41:08.823218",
     "status": "completed"
    },
    "tags": []
   },
   "source": [
    "The following cell holds the definition of our parameters, these values can be overriden by rendering the with e.g. the following command:\n",
    "\n",
    "papermill -p alpha 0.2 -p ratio 0.3 universe_analysis.ipynb output/test_run.ipynb"
   ]
  },
  {
   "cell_type": "code",
   "execution_count": 2,
   "id": "a80968a0-40bb-4fa9-85ef-2d5eefb01975",
   "metadata": {
    "execution": {
     "iopub.execute_input": "2025-08-05T15:41:08.849895Z",
     "iopub.status.busy": "2025-08-05T15:41:08.849396Z",
     "iopub.status.idle": "2025-08-05T15:41:08.854254Z",
     "shell.execute_reply": "2025-08-05T15:41:08.853438Z"
    },
    "papermill": {
     "duration": 0.015421,
     "end_time": "2025-08-05T15:41:08.855750",
     "exception": false,
     "start_time": "2025-08-05T15:41:08.840329",
     "status": "completed"
    },
    "tags": []
   },
   "outputs": [
    {
     "name": "stdout",
     "output_type": "stream",
     "text": [
      "Current working directory: /dss/dsshome1/0C/ra93lal2/cma/CMA_Fairness_v2\n"
     ]
    }
   ],
   "source": [
    "import os\n",
    "print(\"Current working directory:\", os.getcwd())"
   ]
  },
  {
   "cell_type": "code",
   "execution_count": 3,
   "id": "2dce4c03",
   "metadata": {
    "execution": {
     "iopub.execute_input": "2025-08-05T15:41:08.888413Z",
     "iopub.status.busy": "2025-08-05T15:41:08.887997Z",
     "iopub.status.idle": "2025-08-05T15:41:08.894209Z",
     "shell.execute_reply": "2025-08-05T15:41:08.893074Z"
    },
    "papermill": {
     "duration": 0.026885,
     "end_time": "2025-08-05T15:41:08.896091",
     "exception": false,
     "start_time": "2025-08-05T15:41:08.869206",
     "status": "completed"
    },
    "tags": [
     "parameters"
    ]
   },
   "outputs": [],
   "source": [
    "run_no = 0\n",
    "universe_id = \"test\"\n",
    "universe = {\n",
    "    \"training_size\": \"25k\", # \"25k\", \"5k\", \"1k\"\n",
    "    \"training_year\": \"2014\", # \"2014\", \"2012_14\", \"2010_14\"\n",
    "    \"scale\": \"scale\", # \"scale\", \"do-not-scale\",\n",
    "    \"model\": \"elasticnet\", # \"logreg\", \"penalized_logreg\", \"rf\", \"gbm\", \"elasticnet\"\n",
    "    \"cutoff\": [\"quantile_0.15\", \"quantile_0.30\"],\n",
    "    \"exclude_features\": \"age\", # \"none\", \"nationality\", \"sex\", \"nationality-sex\", \"age\"\n",
    "    \"exclude_subgroups\": \"keep-all\", # \"keep-all\", \"drop-non-german\"\n",
    "    \"eval_fairness_grouping\": [\"majority-minority\", \"nationality-all\"]\n",
    "}\n",
    "\n",
    "output_dir=\"./output\"\n",
    "seed=0"
   ]
  },
  {
   "cell_type": "code",
   "execution_count": 4,
   "id": "d5118753",
   "metadata": {
    "execution": {
     "iopub.execute_input": "2025-08-05T15:41:08.934833Z",
     "iopub.status.busy": "2025-08-05T15:41:08.933957Z",
     "iopub.status.idle": "2025-08-05T15:41:08.939689Z",
     "shell.execute_reply": "2025-08-05T15:41:08.938603Z"
    },
    "papermill": {
     "duration": 0.027111,
     "end_time": "2025-08-05T15:41:08.941922",
     "exception": false,
     "start_time": "2025-08-05T15:41:08.914811",
     "status": "completed"
    },
    "tags": [
     "injected-parameters"
    ]
   },
   "outputs": [],
   "source": [
    "# Parameters\n",
    "universe_id = \"623e0eb7717ccf5fe4c6e4d33aa9a309\"\n",
    "run_no = \"15\"\n",
    "universe = \"{\\\"cutoff\\\": [\\\"quantile_0.1\\\", \\\"quantile_0.25\\\"], \\\"eval_fairness_grouping\\\": [\\\"majority-minority\\\", \\\"nationality-all\\\"], \\\"exclude_features\\\": \\\"sex\\\", \\\"exclude_subgroups\\\": \\\"keep-all\\\", \\\"model\\\": \\\"logreg\\\", \\\"scale\\\": \\\"do-not-scale\\\", \\\"training_size\\\": \\\"5k\\\", \\\"training_year\\\": \\\"2012_14\\\"}\"\n",
    "output_dir = \"output\"\n",
    "seed = \"2023\"\n"
   ]
  },
  {
   "cell_type": "code",
   "execution_count": 5,
   "id": "1650acaf",
   "metadata": {
    "execution": {
     "iopub.execute_input": "2025-08-05T15:41:08.979270Z",
     "iopub.status.busy": "2025-08-05T15:41:08.978328Z",
     "iopub.status.idle": "2025-08-05T15:41:08.984119Z",
     "shell.execute_reply": "2025-08-05T15:41:08.983001Z"
    },
    "papermill": {
     "duration": 0.026502,
     "end_time": "2025-08-05T15:41:08.986239",
     "exception": false,
     "start_time": "2025-08-05T15:41:08.959737",
     "status": "completed"
    },
    "tags": []
   },
   "outputs": [],
   "source": [
    "import json\n",
    "if isinstance(universe, str):\n",
    "    universe = json.loads(universe)"
   ]
  },
  {
   "cell_type": "code",
   "execution_count": 6,
   "id": "16620c48",
   "metadata": {
    "execution": {
     "iopub.execute_input": "2025-08-05T15:41:09.025061Z",
     "iopub.status.busy": "2025-08-05T15:41:09.024366Z",
     "iopub.status.idle": "2025-08-05T15:41:09.069988Z",
     "shell.execute_reply": "2025-08-05T15:41:09.069044Z"
    },
    "papermill": {
     "duration": 0.066509,
     "end_time": "2025-08-05T15:41:09.071846",
     "exception": false,
     "start_time": "2025-08-05T15:41:09.005337",
     "status": "completed"
    },
    "tags": []
   },
   "outputs": [],
   "source": [
    "# Auto-reload the custom package\n",
    "%load_ext autoreload\n",
    "%autoreload 1\n",
    "%aimport fairness_multiverse"
   ]
  },
  {
   "cell_type": "code",
   "execution_count": 7,
   "id": "01c5c9f3",
   "metadata": {
    "execution": {
     "iopub.execute_input": "2025-08-05T15:41:09.109039Z",
     "iopub.status.busy": "2025-08-05T15:41:09.108364Z",
     "iopub.status.idle": "2025-08-05T15:41:11.090181Z",
     "shell.execute_reply": "2025-08-05T15:41:11.089087Z"
    },
    "papermill": {
     "duration": 2.002964,
     "end_time": "2025-08-05T15:41:11.092084",
     "exception": false,
     "start_time": "2025-08-05T15:41:09.089120",
     "status": "completed"
    },
    "tags": []
   },
   "outputs": [],
   "source": [
    "from fairness_multiverse.universe import UniverseAnalysis\n",
    "\n",
    "universe_analysis = UniverseAnalysis(\n",
    "    run_no = run_no,\n",
    "    universe_id = universe_id,\n",
    "    universe = universe,\n",
    "    output_dir=output_dir,\n",
    ")"
   ]
  },
  {
   "cell_type": "code",
   "execution_count": 8,
   "id": "106241f5",
   "metadata": {
    "execution": {
     "iopub.execute_input": "2025-08-05T15:41:11.146303Z",
     "iopub.status.busy": "2025-08-05T15:41:11.145827Z",
     "iopub.status.idle": "2025-08-05T15:41:11.152462Z",
     "shell.execute_reply": "2025-08-05T15:41:11.151341Z"
    },
    "papermill": {
     "duration": 0.045137,
     "end_time": "2025-08-05T15:41:11.154337",
     "exception": false,
     "start_time": "2025-08-05T15:41:11.109200",
     "status": "completed"
    },
    "tags": []
   },
   "outputs": [
    {
     "name": "stdout",
     "output_type": "stream",
     "text": [
      "Using Seed: 2023\n"
     ]
    }
   ],
   "source": [
    "import numpy as np\n",
    "parsed_seed = int(seed)\n",
    "np.random.seed(parsed_seed)\n",
    "print(f\"Using Seed: {parsed_seed}\")"
   ]
  },
  {
   "cell_type": "markdown",
   "id": "e0ebdc57",
   "metadata": {
    "papermill": {
     "duration": 0.016318,
     "end_time": "2025-08-05T15:41:11.187803",
     "exception": false,
     "start_time": "2025-08-05T15:41:11.171485",
     "status": "completed"
    },
    "tags": []
   },
   "source": [
    "# Loading Data"
   ]
  },
  {
   "cell_type": "code",
   "execution_count": 9,
   "id": "f0496b8a",
   "metadata": {
    "execution": {
     "iopub.execute_input": "2025-08-05T15:41:11.226026Z",
     "iopub.status.busy": "2025-08-05T15:41:11.224917Z",
     "iopub.status.idle": "2025-08-05T15:41:23.532735Z",
     "shell.execute_reply": "2025-08-05T15:41:23.531592Z"
    },
    "papermill": {
     "duration": 12.329794,
     "end_time": "2025-08-05T15:41:23.534273",
     "exception": false,
     "start_time": "2025-08-05T15:41:11.204479",
     "status": "completed"
    },
    "tags": []
   },
   "outputs": [
    {
     "name": "stdout",
     "output_type": "stream",
     "text": [
      "Loading SIAB data from cache: data/siab_cached.csv.gz\n"
     ]
    },
    {
     "name": "stdout",
     "output_type": "stream",
     "text": [
      "(643690, 164)\n"
     ]
    }
   ],
   "source": [
    "from pathlib import Path\n",
    "import pandas as pd\n",
    "\n",
    "# File paths\n",
    "raw_file = Path(\"data/raw/siab.csv\")\n",
    "cache_file = Path(\"data/siab_cached.csv.gz\")\n",
    "\n",
    "# Ensure cache directory exists\n",
    "cache_file.parent.mkdir(parents=True, exist_ok=True)\n",
    "\n",
    "# Load with simple caching\n",
    "if cache_file.exists():\n",
    "    print(f\"Loading SIAB data from cache: {cache_file}\")\n",
    "    siab = pd.read_csv(cache_file, compression='gzip')\n",
    "else:\n",
    "    print(f\"Cache not found. Reading raw SIAB data: {raw_file}\")\n",
    "    siab = pd.read_csv(raw_file)\n",
    "    siab.to_csv(cache_file, index=False, compression='gzip')\n",
    "    print(f\"Cached SIAB data to: {cache_file}\")\n",
    "\n",
    "print(siab.shape)"
   ]
  },
  {
   "cell_type": "code",
   "execution_count": 10,
   "id": "db0ca512-5f53-4dba-abdb-a2888bca41ba",
   "metadata": {
    "execution": {
     "iopub.execute_input": "2025-08-05T15:41:23.573116Z",
     "iopub.status.busy": "2025-08-05T15:41:23.572650Z",
     "iopub.status.idle": "2025-08-05T15:41:23.578378Z",
     "shell.execute_reply": "2025-08-05T15:41:23.577212Z"
    },
    "papermill": {
     "duration": 0.026315,
     "end_time": "2025-08-05T15:41:23.580282",
     "exception": false,
     "start_time": "2025-08-05T15:41:23.553967",
     "status": "completed"
    },
    "tags": []
   },
   "outputs": [],
   "source": [
    "#siab"
   ]
  },
  {
   "cell_type": "markdown",
   "id": "997051c5-15bd-4b69-9786-c3001a3ce484",
   "metadata": {
    "papermill": {
     "duration": 0.016339,
     "end_time": "2025-08-05T15:41:23.613958",
     "exception": false,
     "start_time": "2025-08-05T15:41:23.597619",
     "status": "completed"
    },
    "tags": []
   },
   "source": [
    "# Splitting Data and Setting Training Data Size"
   ]
  },
  {
   "cell_type": "code",
   "execution_count": 11,
   "id": "aea9c6ef-6f46-42c8-85eb-5a62025c1508",
   "metadata": {
    "execution": {
     "iopub.execute_input": "2025-08-05T15:41:23.650578Z",
     "iopub.status.busy": "2025-08-05T15:41:23.649660Z",
     "iopub.status.idle": "2025-08-05T15:41:24.282806Z",
     "shell.execute_reply": "2025-08-05T15:41:24.281795Z"
    },
    "papermill": {
     "duration": 0.653979,
     "end_time": "2025-08-05T15:41:24.284863",
     "exception": false,
     "start_time": "2025-08-05T15:41:23.630884",
     "status": "completed"
    },
    "tags": []
   },
   "outputs": [],
   "source": [
    "from fairness_multiverse.universe import sample_by_year_size\n",
    "\n",
    "siab_train = sample_by_year_size(siab,\n",
    "                               training_year=universe[\"training_year\"],\n",
    "                               training_size=universe[\"training_size\"])"
   ]
  },
  {
   "cell_type": "code",
   "execution_count": 12,
   "id": "8d3afb32-789d-442c-8d5d-9f5aa8dd2eed",
   "metadata": {
    "execution": {
     "iopub.execute_input": "2025-08-05T15:41:24.338047Z",
     "iopub.status.busy": "2025-08-05T15:41:24.337050Z",
     "iopub.status.idle": "2025-08-05T15:41:24.342704Z",
     "shell.execute_reply": "2025-08-05T15:41:24.341697Z"
    },
    "papermill": {
     "duration": 0.025605,
     "end_time": "2025-08-05T15:41:24.344721",
     "exception": false,
     "start_time": "2025-08-05T15:41:24.319116",
     "status": "completed"
    },
    "tags": []
   },
   "outputs": [],
   "source": [
    "#siab_train.shape"
   ]
  },
  {
   "cell_type": "code",
   "execution_count": 13,
   "id": "d582db68-1a4c-47fb-84fc-08518dc1975a",
   "metadata": {
    "execution": {
     "iopub.execute_input": "2025-08-05T15:41:24.381095Z",
     "iopub.status.busy": "2025-08-05T15:41:24.380633Z",
     "iopub.status.idle": "2025-08-05T15:41:24.385639Z",
     "shell.execute_reply": "2025-08-05T15:41:24.384628Z"
    },
    "papermill": {
     "duration": 0.02463,
     "end_time": "2025-08-05T15:41:24.387376",
     "exception": false,
     "start_time": "2025-08-05T15:41:24.362746",
     "status": "completed"
    },
    "tags": []
   },
   "outputs": [],
   "source": [
    "#display(siab_train.groupby(\"year\").size())"
   ]
  },
  {
   "cell_type": "code",
   "execution_count": 14,
   "id": "a561edb4-d032-42cb-8256-22eac1111c64",
   "metadata": {
    "execution": {
     "iopub.execute_input": "2025-08-05T15:41:24.424259Z",
     "iopub.status.busy": "2025-08-05T15:41:24.423501Z",
     "iopub.status.idle": "2025-08-05T15:41:24.693762Z",
     "shell.execute_reply": "2025-08-05T15:41:24.692749Z"
    },
    "papermill": {
     "duration": 0.290696,
     "end_time": "2025-08-05T15:41:24.695677",
     "exception": false,
     "start_time": "2025-08-05T15:41:24.404981",
     "status": "completed"
    },
    "tags": []
   },
   "outputs": [],
   "source": [
    "#siab_train = siab_s[siab_s.year < 2015]\n",
    "siab_calib = siab[siab.year == 2015]\n",
    "siab_test = siab[siab.year == 2016]"
   ]
  },
  {
   "cell_type": "code",
   "execution_count": 15,
   "id": "472de16f-c3db-4916-846b-1f0de9cf1746",
   "metadata": {
    "execution": {
     "iopub.execute_input": "2025-08-05T15:41:24.731876Z",
     "iopub.status.busy": "2025-08-05T15:41:24.730987Z",
     "iopub.status.idle": "2025-08-05T15:41:24.739456Z",
     "shell.execute_reply": "2025-08-05T15:41:24.738435Z"
    },
    "papermill": {
     "duration": 0.028246,
     "end_time": "2025-08-05T15:41:24.741346",
     "exception": false,
     "start_time": "2025-08-05T15:41:24.713100",
     "status": "completed"
    },
    "tags": []
   },
   "outputs": [],
   "source": [
    "X_train = siab_train.iloc[:,4:164]\n",
    "y_train = siab_train.iloc[:, [3]]"
   ]
  },
  {
   "cell_type": "code",
   "execution_count": 16,
   "id": "828c96af-f43a-4ed6-ba47-8ac73a47d56c",
   "metadata": {
    "execution": {
     "iopub.execute_input": "2025-08-05T15:41:24.778886Z",
     "iopub.status.busy": "2025-08-05T15:41:24.777988Z",
     "iopub.status.idle": "2025-08-05T15:41:24.829648Z",
     "shell.execute_reply": "2025-08-05T15:41:24.828612Z"
    },
    "papermill": {
     "duration": 0.072687,
     "end_time": "2025-08-05T15:41:24.831962",
     "exception": false,
     "start_time": "2025-08-05T15:41:24.759275",
     "status": "completed"
    },
    "tags": []
   },
   "outputs": [],
   "source": [
    "X_calib = siab_calib.iloc[:,4:164]\n",
    "y_calib = siab_calib.iloc[:, [3]]"
   ]
  },
  {
   "cell_type": "code",
   "execution_count": 17,
   "id": "c34be9c3-6bd6-476e-acd3-845840e303be",
   "metadata": {
    "execution": {
     "iopub.execute_input": "2025-08-05T15:41:24.868332Z",
     "iopub.status.busy": "2025-08-05T15:41:24.867683Z",
     "iopub.status.idle": "2025-08-05T15:41:24.922656Z",
     "shell.execute_reply": "2025-08-05T15:41:24.921435Z"
    },
    "papermill": {
     "duration": 0.074163,
     "end_time": "2025-08-05T15:41:24.924255",
     "exception": false,
     "start_time": "2025-08-05T15:41:24.850092",
     "status": "completed"
    },
    "tags": []
   },
   "outputs": [],
   "source": [
    "X_test = siab_test.iloc[:,4:164]\n",
    "y_true = siab_test.iloc[:, [3]]"
   ]
  },
  {
   "cell_type": "code",
   "execution_count": 18,
   "id": "e6c733c5",
   "metadata": {
    "execution": {
     "iopub.execute_input": "2025-08-05T15:41:24.961707Z",
     "iopub.status.busy": "2025-08-05T15:41:24.961259Z",
     "iopub.status.idle": "2025-08-05T15:41:25.063107Z",
     "shell.execute_reply": "2025-08-05T15:41:25.062096Z"
    },
    "papermill": {
     "duration": 0.122679,
     "end_time": "2025-08-05T15:41:25.064897",
     "exception": false,
     "start_time": "2025-08-05T15:41:24.942218",
     "status": "completed"
    },
    "tags": []
   },
   "outputs": [],
   "source": [
    "# Auxiliary data needed downstream in the pipeline\n",
    "\n",
    "org_train = X_train.copy()\n",
    "org_test = X_test.copy()\n",
    "org_calib = X_calib.copy()"
   ]
  },
  {
   "cell_type": "markdown",
   "id": "0a4a1b33",
   "metadata": {
    "papermill": {
     "duration": 0.0173,
     "end_time": "2025-08-05T15:41:25.099881",
     "exception": false,
     "start_time": "2025-08-05T15:41:25.082581",
     "status": "completed"
    },
    "tags": []
   },
   "source": [
    "# Preprocessing Data"
   ]
  },
  {
   "cell_type": "code",
   "execution_count": 19,
   "id": "ca879031",
   "metadata": {
    "execution": {
     "iopub.execute_input": "2025-08-05T15:41:25.137299Z",
     "iopub.status.busy": "2025-08-05T15:41:25.136427Z",
     "iopub.status.idle": "2025-08-05T15:41:25.142748Z",
     "shell.execute_reply": "2025-08-05T15:41:25.141718Z"
    },
    "papermill": {
     "duration": 0.027407,
     "end_time": "2025-08-05T15:41:25.145236",
     "exception": false,
     "start_time": "2025-08-05T15:41:25.117829",
     "status": "completed"
    },
    "tags": []
   },
   "outputs": [],
   "source": [
    "# EXCLUDE PROTECTED FEATURES\n",
    "# ----------------------\n",
    "# \"exclude_features\": \"none\", # \"nationality\", \"sex\", \"nationality-sex\"\n",
    "\n",
    "excluded_features = universe[\"exclude_features\"].split(\"-\") # split, e.g.: \"nationality-sex\" -> [\"nationality\", \"sex\"]\n",
    "excluded_features_dictionary = {\n",
    "    \"nationality\": [\"maxdeutsch1\", \"maxdeutsch.Missing.\"],\n",
    "    \"sex\": [\"frau1\"],\n",
    "    \"age\": [\"age\"],\n",
    "}"
   ]
  },
  {
   "cell_type": "code",
   "execution_count": 20,
   "id": "b745ac60",
   "metadata": {
    "execution": {
     "iopub.execute_input": "2025-08-05T15:41:25.183567Z",
     "iopub.status.busy": "2025-08-05T15:41:25.183091Z",
     "iopub.status.idle": "2025-08-05T15:41:25.189169Z",
     "shell.execute_reply": "2025-08-05T15:41:25.188168Z"
    },
    "papermill": {
     "duration": 0.02736,
     "end_time": "2025-08-05T15:41:25.191050",
     "exception": false,
     "start_time": "2025-08-05T15:41:25.163690",
     "status": "completed"
    },
    "tags": []
   },
   "outputs": [],
   "source": [
    "# Code nice names to column names\n",
    "\n",
    "excluded_features_columns = [\n",
    "    excluded_features_dictionary[f] for f in excluded_features if len(f) > 0 and f != \"none\"\n",
    "]"
   ]
  },
  {
   "cell_type": "code",
   "execution_count": 21,
   "id": "f84f73a2",
   "metadata": {
    "execution": {
     "iopub.execute_input": "2025-08-05T15:41:25.228074Z",
     "iopub.status.busy": "2025-08-05T15:41:25.227293Z",
     "iopub.status.idle": "2025-08-05T15:41:25.234387Z",
     "shell.execute_reply": "2025-08-05T15:41:25.233160Z"
    },
    "papermill": {
     "duration": 0.027187,
     "end_time": "2025-08-05T15:41:25.236210",
     "exception": false,
     "start_time": "2025-08-05T15:41:25.209023",
     "status": "completed"
    },
    "tags": []
   },
   "outputs": [],
   "source": [
    "from utils import flatten_once\n",
    "\n",
    "excluded_features_columns = flatten_once(excluded_features_columns)"
   ]
  },
  {
   "cell_type": "code",
   "execution_count": 22,
   "id": "884dea22",
   "metadata": {
    "execution": {
     "iopub.execute_input": "2025-08-05T15:41:25.274351Z",
     "iopub.status.busy": "2025-08-05T15:41:25.273499Z",
     "iopub.status.idle": "2025-08-05T15:41:25.283457Z",
     "shell.execute_reply": "2025-08-05T15:41:25.282381Z"
    },
    "papermill": {
     "duration": 0.0304,
     "end_time": "2025-08-05T15:41:25.285281",
     "exception": false,
     "start_time": "2025-08-05T15:41:25.254881",
     "status": "completed"
    },
    "tags": []
   },
   "outputs": [
    {
     "name": "stdout",
     "output_type": "stream",
     "text": [
      "Dropping features: ['frau1']\n"
     ]
    }
   ],
   "source": [
    "if len(excluded_features_columns) > 0:\n",
    "    print(f\"Dropping features: {excluded_features_columns}\")\n",
    "    X_train.drop(excluded_features_columns, axis=1, inplace=True)"
   ]
  },
  {
   "cell_type": "code",
   "execution_count": 23,
   "id": "95ab8b16",
   "metadata": {
    "execution": {
     "iopub.execute_input": "2025-08-05T15:41:25.325405Z",
     "iopub.status.busy": "2025-08-05T15:41:25.324627Z",
     "iopub.status.idle": "2025-08-05T15:41:25.378296Z",
     "shell.execute_reply": "2025-08-05T15:41:25.377069Z"
    },
    "papermill": {
     "duration": 0.076537,
     "end_time": "2025-08-05T15:41:25.380363",
     "exception": false,
     "start_time": "2025-08-05T15:41:25.303826",
     "status": "completed"
    },
    "tags": []
   },
   "outputs": [
    {
     "name": "stdout",
     "output_type": "stream",
     "text": [
      "Dropping features: ['frau1']\n"
     ]
    }
   ],
   "source": [
    "if len(excluded_features_columns) > 0:\n",
    "    print(f\"Dropping features: {excluded_features_columns}\")\n",
    "    X_test.drop(excluded_features_columns, axis=1, inplace=True)"
   ]
  },
  {
   "cell_type": "code",
   "execution_count": 24,
   "id": "1853aaf5-fb9f-46cb-a2b5-8ea4ae2237e4",
   "metadata": {
    "execution": {
     "iopub.execute_input": "2025-08-05T15:41:25.419129Z",
     "iopub.status.busy": "2025-08-05T15:41:25.418365Z",
     "iopub.status.idle": "2025-08-05T15:41:25.472433Z",
     "shell.execute_reply": "2025-08-05T15:41:25.471275Z"
    },
    "papermill": {
     "duration": 0.074681,
     "end_time": "2025-08-05T15:41:25.474437",
     "exception": false,
     "start_time": "2025-08-05T15:41:25.399756",
     "status": "completed"
    },
    "tags": []
   },
   "outputs": [
    {
     "name": "stdout",
     "output_type": "stream",
     "text": [
      "Dropping features: ['frau1']\n"
     ]
    }
   ],
   "source": [
    "if len(excluded_features_columns) > 0:\n",
    "    print(f\"Dropping features: {excluded_features_columns}\")\n",
    "    X_calib.drop(excluded_features_columns, axis=1, inplace=True)"
   ]
  },
  {
   "cell_type": "code",
   "execution_count": 25,
   "id": "76c4dc6d",
   "metadata": {
    "execution": {
     "iopub.execute_input": "2025-08-05T15:41:25.513742Z",
     "iopub.status.busy": "2025-08-05T15:41:25.513014Z",
     "iopub.status.idle": "2025-08-05T15:41:25.518558Z",
     "shell.execute_reply": "2025-08-05T15:41:25.517624Z"
    },
    "papermill": {
     "duration": 0.026406,
     "end_time": "2025-08-05T15:41:25.520481",
     "exception": false,
     "start_time": "2025-08-05T15:41:25.494075",
     "status": "completed"
    },
    "tags": []
   },
   "outputs": [],
   "source": [
    "# EXCLUDE CERTAIN SUBGROUPS\n",
    "# ----------------------\n",
    "\n",
    "mode = universe.get(\"exclude_subgroups\", \"keep-all\") \n",
    "# Fetches the exclude_subgroups setting from the universe dict.\n",
    "# Defaults to \"keep-all\" if the key is missing."
   ]
  },
  {
   "cell_type": "code",
   "execution_count": 26,
   "id": "21994072",
   "metadata": {
    "execution": {
     "iopub.execute_input": "2025-08-05T15:41:25.560792Z",
     "iopub.status.busy": "2025-08-05T15:41:25.560136Z",
     "iopub.status.idle": "2025-08-05T15:41:25.566870Z",
     "shell.execute_reply": "2025-08-05T15:41:25.565931Z"
    },
    "papermill": {
     "duration": 0.028679,
     "end_time": "2025-08-05T15:41:25.568855",
     "exception": false,
     "start_time": "2025-08-05T15:41:25.540176",
     "status": "completed"
    },
    "tags": []
   },
   "outputs": [],
   "source": [
    "if mode == \"keep-all\":\n",
    "    keep_mask = pd.Series(True, index=org_train.index)\n",
    "\n",
    "# org_train contains the original feature columns from features_org (in Simson)\n",
    "# features_org contains unprocessed features, for me X_train at beginning ???\n",
    "# For keep-all, creates a boolean Series (keep_mask) of all True, so no rows are removed.\n",
    "\n",
    "elif mode == \"drop-non-german\":\n",
    "    keep_mask = org_train[\"maxdeutsch1\"] == 1 # ??? what about missing values?\n",
    "\n",
    "else:\n",
    "    raise ValueError(f\"Unsupported mode for exclude_subgroups: {mode}\")"
   ]
  },
  {
   "cell_type": "code",
   "execution_count": 27,
   "id": "71651440",
   "metadata": {
    "execution": {
     "iopub.execute_input": "2025-08-05T15:41:25.608460Z",
     "iopub.status.busy": "2025-08-05T15:41:25.607532Z",
     "iopub.status.idle": "2025-08-05T15:41:25.614512Z",
     "shell.execute_reply": "2025-08-05T15:41:25.613360Z"
    },
    "papermill": {
     "duration": 0.028793,
     "end_time": "2025-08-05T15:41:25.616387",
     "exception": false,
     "start_time": "2025-08-05T15:41:25.587594",
     "status": "completed"
    },
    "tags": []
   },
   "outputs": [],
   "source": [
    "n_drop = (~keep_mask).sum() # Calculates how many rows are set to be dropped\n",
    "if n_drop > 0:\n",
    "    pct = n_drop / len(keep_mask) * 100\n",
    "    print(f\"Dropping {n_drop} rows ({pct:.2f}%) where mode='{mode}'\")"
   ]
  },
  {
   "cell_type": "code",
   "execution_count": 28,
   "id": "5fb8eee5",
   "metadata": {
    "execution": {
     "iopub.execute_input": "2025-08-05T15:41:25.655756Z",
     "iopub.status.busy": "2025-08-05T15:41:25.655099Z",
     "iopub.status.idle": "2025-08-05T15:41:25.664495Z",
     "shell.execute_reply": "2025-08-05T15:41:25.663562Z"
    },
    "papermill": {
     "duration": 0.030571,
     "end_time": "2025-08-05T15:41:25.666345",
     "exception": false,
     "start_time": "2025-08-05T15:41:25.635774",
     "status": "completed"
    },
    "tags": []
   },
   "outputs": [],
   "source": [
    "X_train = X_train[keep_mask]"
   ]
  },
  {
   "cell_type": "code",
   "execution_count": 29,
   "id": "b202bb3a",
   "metadata": {
    "execution": {
     "iopub.execute_input": "2025-08-05T15:41:25.706917Z",
     "iopub.status.busy": "2025-08-05T15:41:25.706017Z",
     "iopub.status.idle": "2025-08-05T15:41:25.712601Z",
     "shell.execute_reply": "2025-08-05T15:41:25.711519Z"
    },
    "papermill": {
     "duration": 0.028453,
     "end_time": "2025-08-05T15:41:25.714436",
     "exception": false,
     "start_time": "2025-08-05T15:41:25.685983",
     "status": "completed"
    },
    "tags": []
   },
   "outputs": [],
   "source": [
    "y_train = y_train[keep_mask]"
   ]
  },
  {
   "cell_type": "markdown",
   "id": "493e2ac3",
   "metadata": {
    "papermill": {
     "duration": 0.019047,
     "end_time": "2025-08-05T15:41:25.751983",
     "exception": false,
     "start_time": "2025-08-05T15:41:25.732936",
     "status": "completed"
    },
    "tags": []
   },
   "source": [
    "# Model Training"
   ]
  },
  {
   "cell_type": "code",
   "execution_count": 30,
   "id": "679e1268",
   "metadata": {
    "execution": {
     "iopub.execute_input": "2025-08-05T15:41:25.791280Z",
     "iopub.status.busy": "2025-08-05T15:41:25.790633Z",
     "iopub.status.idle": "2025-08-05T15:41:25.894119Z",
     "shell.execute_reply": "2025-08-05T15:41:25.893100Z"
    },
    "papermill": {
     "duration": 0.125066,
     "end_time": "2025-08-05T15:41:25.895930",
     "exception": false,
     "start_time": "2025-08-05T15:41:25.770864",
     "status": "completed"
    },
    "tags": []
   },
   "outputs": [],
   "source": [
    "from sklearn.linear_model import LogisticRegression\n",
    "from sklearn.ensemble import GradientBoostingClassifier, RandomForestClassifier\n",
    "\n",
    "if (universe[\"model\"] == \"logreg\"):\n",
    "    model = LogisticRegression() #penalty=\"none\", solver=\"newton-cg\", max_iter=1) # include random_state=19 ?\n",
    "elif (universe[\"model\"] == \"penalized_logreg\"):\n",
    "    model = LogisticRegression(penalty=\"l2\", C=0.1) #, solver=\"newton-cg\", max_iter=1)\n",
    "elif (universe[\"model\"] == \"rf\"):\n",
    "    model = RandomForestClassifier() # n_estimators=100, n_jobs=-1\n",
    "elif (universe[\"model\"] == \"gbm\"):\n",
    "    model = GradientBoostingClassifier()\n",
    "elif (universe[\"model\"] == \"elasticnet\"):\n",
    "    model = LogisticRegression(penalty = 'elasticnet', solver = 'saga', l1_ratio = 0.5) # max_iter=5000\n",
    "else:\n",
    "    raise \"Unsupported universe.model\""
   ]
  },
  {
   "cell_type": "code",
   "execution_count": 31,
   "id": "0cc8f744",
   "metadata": {
    "execution": {
     "iopub.execute_input": "2025-08-05T15:41:25.936198Z",
     "iopub.status.busy": "2025-08-05T15:41:25.935263Z",
     "iopub.status.idle": "2025-08-05T15:41:25.942111Z",
     "shell.execute_reply": "2025-08-05T15:41:25.941088Z"
    },
    "papermill": {
     "duration": 0.028612,
     "end_time": "2025-08-05T15:41:25.944045",
     "exception": false,
     "start_time": "2025-08-05T15:41:25.915433",
     "status": "completed"
    },
    "tags": []
   },
   "outputs": [],
   "source": [
    "import numpy as np\n",
    "from sklearn.pipeline import Pipeline\n",
    "from sklearn.preprocessing import StandardScaler\n",
    "\n",
    "model = Pipeline([\n",
    "    #(\"continuous_processor\", continuous_processor),\n",
    "    #(\"categorical_preprocessor\", categorical_preprocessor),\n",
    "    (\"scale\", StandardScaler() if universe[\"scale\"] == \"scale\" else None), \n",
    "    (\"model\", model),\n",
    "])"
   ]
  },
  {
   "cell_type": "code",
   "execution_count": 32,
   "id": "9442c04d",
   "metadata": {
    "execution": {
     "iopub.execute_input": "2025-08-05T15:41:25.983229Z",
     "iopub.status.busy": "2025-08-05T15:41:25.982564Z",
     "iopub.status.idle": "2025-08-05T15:41:26.127252Z",
     "shell.execute_reply": "2025-08-05T15:41:26.126296Z"
    },
    "papermill": {
     "duration": 0.166269,
     "end_time": "2025-08-05T15:41:26.129771",
     "exception": false,
     "start_time": "2025-08-05T15:41:25.963502",
     "status": "completed"
    },
    "tags": []
   },
   "outputs": [
    {
     "name": "stderr",
     "output_type": "stream",
     "text": [
      "/dss/dsshome1/0C/ra93lal2/.local/share/virtualenvs/CMA_Fairness_v2-3j10GkSs/lib/python3.10/site-packages/sklearn/linear_model/_logistic.py:444: ConvergenceWarning: lbfgs failed to converge (status=1):\n",
      "STOP: TOTAL NO. of ITERATIONS REACHED LIMIT.\n",
      "\n",
      "Increase the number of iterations (max_iter) or scale the data as shown in:\n",
      "    https://scikit-learn.org/stable/modules/preprocessing.html\n",
      "Please also refer to the documentation for alternative solver options:\n",
      "    https://scikit-learn.org/stable/modules/linear_model.html#logistic-regression\n",
      "  n_iter_i = _check_optimize_result(\n"
     ]
    },
    {
     "data": {
      "text/html": [
       "<style>#sk-container-id-1 {color: black;background-color: white;}#sk-container-id-1 pre{padding: 0;}#sk-container-id-1 div.sk-toggleable {background-color: white;}#sk-container-id-1 label.sk-toggleable__label {cursor: pointer;display: block;width: 100%;margin-bottom: 0;padding: 0.3em;box-sizing: border-box;text-align: center;}#sk-container-id-1 label.sk-toggleable__label-arrow:before {content: \"▸\";float: left;margin-right: 0.25em;color: #696969;}#sk-container-id-1 label.sk-toggleable__label-arrow:hover:before {color: black;}#sk-container-id-1 div.sk-estimator:hover label.sk-toggleable__label-arrow:before {color: black;}#sk-container-id-1 div.sk-toggleable__content {max-height: 0;max-width: 0;overflow: hidden;text-align: left;background-color: #f0f8ff;}#sk-container-id-1 div.sk-toggleable__content pre {margin: 0.2em;color: black;border-radius: 0.25em;background-color: #f0f8ff;}#sk-container-id-1 input.sk-toggleable__control:checked~div.sk-toggleable__content {max-height: 200px;max-width: 100%;overflow: auto;}#sk-container-id-1 input.sk-toggleable__control:checked~label.sk-toggleable__label-arrow:before {content: \"▾\";}#sk-container-id-1 div.sk-estimator input.sk-toggleable__control:checked~label.sk-toggleable__label {background-color: #d4ebff;}#sk-container-id-1 div.sk-label input.sk-toggleable__control:checked~label.sk-toggleable__label {background-color: #d4ebff;}#sk-container-id-1 input.sk-hidden--visually {border: 0;clip: rect(1px 1px 1px 1px);clip: rect(1px, 1px, 1px, 1px);height: 1px;margin: -1px;overflow: hidden;padding: 0;position: absolute;width: 1px;}#sk-container-id-1 div.sk-estimator {font-family: monospace;background-color: #f0f8ff;border: 1px dotted black;border-radius: 0.25em;box-sizing: border-box;margin-bottom: 0.5em;}#sk-container-id-1 div.sk-estimator:hover {background-color: #d4ebff;}#sk-container-id-1 div.sk-parallel-item::after {content: \"\";width: 100%;border-bottom: 1px solid gray;flex-grow: 1;}#sk-container-id-1 div.sk-label:hover label.sk-toggleable__label {background-color: #d4ebff;}#sk-container-id-1 div.sk-serial::before {content: \"\";position: absolute;border-left: 1px solid gray;box-sizing: border-box;top: 0;bottom: 0;left: 50%;z-index: 0;}#sk-container-id-1 div.sk-serial {display: flex;flex-direction: column;align-items: center;background-color: white;padding-right: 0.2em;padding-left: 0.2em;position: relative;}#sk-container-id-1 div.sk-item {position: relative;z-index: 1;}#sk-container-id-1 div.sk-parallel {display: flex;align-items: stretch;justify-content: center;background-color: white;position: relative;}#sk-container-id-1 div.sk-item::before, #sk-container-id-1 div.sk-parallel-item::before {content: \"\";position: absolute;border-left: 1px solid gray;box-sizing: border-box;top: 0;bottom: 0;left: 50%;z-index: -1;}#sk-container-id-1 div.sk-parallel-item {display: flex;flex-direction: column;z-index: 1;position: relative;background-color: white;}#sk-container-id-1 div.sk-parallel-item:first-child::after {align-self: flex-end;width: 50%;}#sk-container-id-1 div.sk-parallel-item:last-child::after {align-self: flex-start;width: 50%;}#sk-container-id-1 div.sk-parallel-item:only-child::after {width: 0;}#sk-container-id-1 div.sk-dashed-wrapped {border: 1px dashed gray;margin: 0 0.4em 0.5em 0.4em;box-sizing: border-box;padding-bottom: 0.4em;background-color: white;}#sk-container-id-1 div.sk-label label {font-family: monospace;font-weight: bold;display: inline-block;line-height: 1.2em;}#sk-container-id-1 div.sk-label-container {text-align: center;}#sk-container-id-1 div.sk-container {/* jupyter's `normalize.less` sets `[hidden] { display: none; }` but bootstrap.min.css set `[hidden] { display: none !important; }` so we also need the `!important` here to be able to override the default hidden behavior on the sphinx rendered scikit-learn.org. See: https://github.com/scikit-learn/scikit-learn/issues/21755 */display: inline-block !important;position: relative;}#sk-container-id-1 div.sk-text-repr-fallback {display: none;}</style><div id=\"sk-container-id-1\" class=\"sk-top-container\"><div class=\"sk-text-repr-fallback\"><pre>Pipeline(steps=[(&#x27;scale&#x27;, None), (&#x27;model&#x27;, LogisticRegression())])</pre><b>In a Jupyter environment, please rerun this cell to show the HTML representation or trust the notebook. <br />On GitHub, the HTML representation is unable to render, please try loading this page with nbviewer.org.</b></div><div class=\"sk-container\" hidden><div class=\"sk-item sk-dashed-wrapped\"><div class=\"sk-label-container\"><div class=\"sk-label sk-toggleable\"><input class=\"sk-toggleable__control sk-hidden--visually\" id=\"sk-estimator-id-1\" type=\"checkbox\" ><label for=\"sk-estimator-id-1\" class=\"sk-toggleable__label sk-toggleable__label-arrow\">Pipeline</label><div class=\"sk-toggleable__content\"><pre>Pipeline(steps=[(&#x27;scale&#x27;, None), (&#x27;model&#x27;, LogisticRegression())])</pre></div></div></div><div class=\"sk-serial\"><div class=\"sk-item\"><div class=\"sk-estimator sk-toggleable\"><input class=\"sk-toggleable__control sk-hidden--visually\" id=\"sk-estimator-id-2\" type=\"checkbox\" ><label for=\"sk-estimator-id-2\" class=\"sk-toggleable__label sk-toggleable__label-arrow\">None</label><div class=\"sk-toggleable__content\"><pre>None</pre></div></div></div><div class=\"sk-item\"><div class=\"sk-estimator sk-toggleable\"><input class=\"sk-toggleable__control sk-hidden--visually\" id=\"sk-estimator-id-3\" type=\"checkbox\" ><label for=\"sk-estimator-id-3\" class=\"sk-toggleable__label sk-toggleable__label-arrow\">LogisticRegression</label><div class=\"sk-toggleable__content\"><pre>LogisticRegression()</pre></div></div></div></div></div></div></div>"
      ],
      "text/plain": [
       "Pipeline(steps=[('scale', None), ('model', LogisticRegression())])"
      ]
     },
     "execution_count": 32,
     "metadata": {},
     "output_type": "execute_result"
    }
   ],
   "source": [
    "model.fit(X_train, y_train.values.ravel())"
   ]
  },
  {
   "cell_type": "code",
   "execution_count": 33,
   "id": "af59f8c0",
   "metadata": {
    "execution": {
     "iopub.execute_input": "2025-08-05T15:41:26.172077Z",
     "iopub.status.busy": "2025-08-05T15:41:26.171060Z",
     "iopub.status.idle": "2025-08-05T15:41:26.176548Z",
     "shell.execute_reply": "2025-08-05T15:41:26.175643Z"
    },
    "papermill": {
     "duration": 0.028475,
     "end_time": "2025-08-05T15:41:26.178615",
     "exception": false,
     "start_time": "2025-08-05T15:41:26.150140",
     "status": "completed"
    },
    "tags": []
   },
   "outputs": [],
   "source": [
    "from fairness_multiverse.universe import predict_w_threshold"
   ]
  },
  {
   "cell_type": "code",
   "execution_count": 34,
   "id": "a7cf2e16",
   "metadata": {
    "execution": {
     "iopub.execute_input": "2025-08-05T15:41:26.220445Z",
     "iopub.status.busy": "2025-08-05T15:41:26.219788Z",
     "iopub.status.idle": "2025-08-05T15:41:26.316562Z",
     "shell.execute_reply": "2025-08-05T15:41:26.315536Z"
    },
    "papermill": {
     "duration": 0.120077,
     "end_time": "2025-08-05T15:41:26.318489",
     "exception": false,
     "start_time": "2025-08-05T15:41:26.198412",
     "status": "completed"
    },
    "tags": []
   },
   "outputs": [
    {
     "data": {
      "text/plain": [
       "0.8625682755545647"
      ]
     },
     "execution_count": 34,
     "metadata": {},
     "output_type": "execute_result"
    }
   ],
   "source": [
    "probs_test = model.predict_proba(X_test)\n",
    "\n",
    "'''\n",
    "Below code returns a boolean array (or binary 0/1 array depending on how it’s used) where each element \n",
    "is True if the probability of class 1 is greater than or equal to the threshold, and False otherwise.\n",
    "'''\n",
    "y_pred_default = predict_w_threshold(probs_test, 0.5)\n",
    "\n",
    "from sklearn.metrics import accuracy_score\n",
    "\n",
    "# Naive prediction\n",
    "accuracy_score(y_true = y_true, y_pred = y_pred_default)"
   ]
  },
  {
   "cell_type": "code",
   "execution_count": 35,
   "id": "081964c3",
   "metadata": {
    "execution": {
     "iopub.execute_input": "2025-08-05T15:41:26.359550Z",
     "iopub.status.busy": "2025-08-05T15:41:26.358636Z",
     "iopub.status.idle": "2025-08-05T15:41:26.445244Z",
     "shell.execute_reply": "2025-08-05T15:41:26.444212Z"
    },
    "papermill": {
     "duration": 0.108662,
     "end_time": "2025-08-05T15:41:26.447193",
     "exception": false,
     "start_time": "2025-08-05T15:41:26.338531",
     "status": "completed"
    },
    "tags": []
   },
   "outputs": [
    {
     "data": {
      "text/plain": [
       "array([0, 0, 0, ..., 0, 0, 0])"
      ]
     },
     "execution_count": 35,
     "metadata": {},
     "output_type": "execute_result"
    }
   ],
   "source": [
    "model.predict(X_test)"
   ]
  },
  {
   "cell_type": "markdown",
   "id": "56c9705b",
   "metadata": {
    "papermill": {
     "duration": 0.02012,
     "end_time": "2025-08-05T15:41:26.487608",
     "exception": false,
     "start_time": "2025-08-05T15:41:26.467488",
     "status": "completed"
    },
    "tags": []
   },
   "source": [
    "# Conformal Prediction"
   ]
  },
  {
   "cell_type": "code",
   "execution_count": 36,
   "id": "160ec6ff",
   "metadata": {
    "execution": {
     "iopub.execute_input": "2025-08-05T15:41:26.528536Z",
     "iopub.status.busy": "2025-08-05T15:41:26.527607Z",
     "iopub.status.idle": "2025-08-05T15:41:26.533163Z",
     "shell.execute_reply": "2025-08-05T15:41:26.532176Z"
    },
    "papermill": {
     "duration": 0.028286,
     "end_time": "2025-08-05T15:41:26.535052",
     "exception": false,
     "start_time": "2025-08-05T15:41:26.506766",
     "status": "completed"
    },
    "tags": []
   },
   "outputs": [],
   "source": [
    "# Miscoverage level for conformal prediction (10% allowed error rate => 90% target coverage)\n",
    "alpha = 0.1"
   ]
  },
  {
   "cell_type": "code",
   "execution_count": 37,
   "id": "eadf4555-3dd3-440e-8e35-f82a4ad9f855",
   "metadata": {
    "execution": {
     "iopub.execute_input": "2025-08-05T15:41:26.576919Z",
     "iopub.status.busy": "2025-08-05T15:41:26.575973Z",
     "iopub.status.idle": "2025-08-05T15:41:26.659523Z",
     "shell.execute_reply": "2025-08-05T15:41:26.658563Z"
    },
    "papermill": {
     "duration": 0.105866,
     "end_time": "2025-08-05T15:41:26.661457",
     "exception": false,
     "start_time": "2025-08-05T15:41:26.555591",
     "status": "completed"
    },
    "tags": []
   },
   "outputs": [],
   "source": [
    "probs_calib = model.predict_proba(X_calib)"
   ]
  },
  {
   "cell_type": "code",
   "execution_count": 38,
   "id": "2ed93547-6d5d-4983-9b36-1ecb300da49a",
   "metadata": {
    "execution": {
     "iopub.execute_input": "2025-08-05T15:41:26.703487Z",
     "iopub.status.busy": "2025-08-05T15:41:26.702537Z",
     "iopub.status.idle": "2025-08-05T15:41:26.708800Z",
     "shell.execute_reply": "2025-08-05T15:41:26.707597Z"
    },
    "papermill": {
     "duration": 0.029696,
     "end_time": "2025-08-05T15:41:26.710753",
     "exception": false,
     "start_time": "2025-08-05T15:41:26.681057",
     "status": "completed"
    },
    "tags": []
   },
   "outputs": [],
   "source": [
    "y_calib = y_calib.values.ravel().astype(int)"
   ]
  },
  {
   "cell_type": "code",
   "execution_count": 39,
   "id": "65d1320d-f588-4b38-9072-62af1ae97f7d",
   "metadata": {
    "execution": {
     "iopub.execute_input": "2025-08-05T15:41:26.752211Z",
     "iopub.status.busy": "2025-08-05T15:41:26.751244Z",
     "iopub.status.idle": "2025-08-05T15:41:26.759312Z",
     "shell.execute_reply": "2025-08-05T15:41:26.758206Z"
    },
    "papermill": {
     "duration": 0.030005,
     "end_time": "2025-08-05T15:41:26.760963",
     "exception": false,
     "start_time": "2025-08-05T15:41:26.730958",
     "status": "completed"
    },
    "tags": []
   },
   "outputs": [],
   "source": [
    "from fairness_multiverse.conformal import compute_nc_scores\n",
    "\n",
    "# Compute nonconformity scores on calibration set (1 - probability of true class)\n",
    "nc_scores = compute_nc_scores(probs_calib, y_calib)"
   ]
  },
  {
   "cell_type": "code",
   "execution_count": 40,
   "id": "df3b8ca3-53b7-43d5-9667-7c85da7aeda2",
   "metadata": {
    "execution": {
     "iopub.execute_input": "2025-08-05T15:41:26.803767Z",
     "iopub.status.busy": "2025-08-05T15:41:26.802869Z",
     "iopub.status.idle": "2025-08-05T15:41:26.809981Z",
     "shell.execute_reply": "2025-08-05T15:41:26.808979Z"
    },
    "papermill": {
     "duration": 0.029742,
     "end_time": "2025-08-05T15:41:26.811733",
     "exception": false,
     "start_time": "2025-08-05T15:41:26.781991",
     "status": "completed"
    },
    "tags": []
   },
   "outputs": [],
   "source": [
    "from fairness_multiverse.conformal import find_threshold\n",
    "\n",
    "# Find conformal threshold q_hat for the given alpha (split conformal method)\n",
    "q_hat = find_threshold(nc_scores, alpha)"
   ]
  },
  {
   "cell_type": "code",
   "execution_count": 41,
   "id": "4d29e6c1-0ef6-4aa4-b8fe-4fe79b0d033a",
   "metadata": {
    "execution": {
     "iopub.execute_input": "2025-08-05T15:41:26.854746Z",
     "iopub.status.busy": "2025-08-05T15:41:26.853849Z",
     "iopub.status.idle": "2025-08-05T15:41:26.861290Z",
     "shell.execute_reply": "2025-08-05T15:41:26.860305Z"
    },
    "papermill": {
     "duration": 0.030535,
     "end_time": "2025-08-05T15:41:26.863063",
     "exception": false,
     "start_time": "2025-08-05T15:41:26.832528",
     "status": "completed"
    },
    "tags": []
   },
   "outputs": [
    {
     "data": {
      "text/plain": [
       "0.6821485562600595"
      ]
     },
     "execution_count": 41,
     "metadata": {},
     "output_type": "execute_result"
    }
   ],
   "source": [
    "q_hat"
   ]
  },
  {
   "cell_type": "code",
   "execution_count": 42,
   "id": "92460794-cdac-4be2-ba28-f28c0515a6fb",
   "metadata": {
    "execution": {
     "iopub.execute_input": "2025-08-05T15:41:26.906305Z",
     "iopub.status.busy": "2025-08-05T15:41:26.905392Z",
     "iopub.status.idle": "2025-08-05T15:41:27.766501Z",
     "shell.execute_reply": "2025-08-05T15:41:27.765415Z"
    },
    "papermill": {
     "duration": 0.885106,
     "end_time": "2025-08-05T15:41:27.768784",
     "exception": false,
     "start_time": "2025-08-05T15:41:26.883678",
     "status": "completed"
    },
    "tags": []
   },
   "outputs": [],
   "source": [
    "from fairness_multiverse.conformal import predict_conformal_sets\n",
    "\n",
    "# Generate prediction sets for each test example\n",
    "pred_sets = predict_conformal_sets(model, X_test, q_hat)"
   ]
  },
  {
   "cell_type": "code",
   "execution_count": 43,
   "id": "d90c9a65-e6db-4f5d-80cd-e68fb7e46829",
   "metadata": {
    "execution": {
     "iopub.execute_input": "2025-08-05T15:41:27.823205Z",
     "iopub.status.busy": "2025-08-05T15:41:27.822488Z",
     "iopub.status.idle": "2025-08-05T15:41:27.828265Z",
     "shell.execute_reply": "2025-08-05T15:41:27.827212Z"
    },
    "papermill": {
     "duration": 0.035563,
     "end_time": "2025-08-05T15:41:27.830462",
     "exception": false,
     "start_time": "2025-08-05T15:41:27.794899",
     "status": "completed"
    },
    "tags": []
   },
   "outputs": [],
   "source": [
    "y_true = y_true.squeeze()"
   ]
  },
  {
   "cell_type": "code",
   "execution_count": 44,
   "id": "3a58a54a-1e68-46b9-927a-df01f18aebc8",
   "metadata": {
    "execution": {
     "iopub.execute_input": "2025-08-05T15:41:27.885164Z",
     "iopub.status.busy": "2025-08-05T15:41:27.884643Z",
     "iopub.status.idle": "2025-08-05T15:41:29.210518Z",
     "shell.execute_reply": "2025-08-05T15:41:29.209688Z"
    },
    "papermill": {
     "duration": 1.354698,
     "end_time": "2025-08-05T15:41:29.211884",
     "exception": false,
     "start_time": "2025-08-05T15:41:27.857186",
     "status": "completed"
    },
    "tags": []
   },
   "outputs": [],
   "source": [
    "from fairness_multiverse.conformal import evaluate_sets\n",
    "\n",
    "# Evaluate coverage and average set size on test data\n",
    "metrics = evaluate_sets(pred_sets, y_true)"
   ]
  },
  {
   "cell_type": "markdown",
   "id": "2b569c12-9aaa-4c88-98c9-bbcd0cf3ebb8",
   "metadata": {
    "papermill": {
     "duration": 0.010178,
     "end_time": "2025-08-05T15:41:29.233195",
     "exception": false,
     "start_time": "2025-08-05T15:41:29.223017",
     "status": "completed"
    },
    "tags": []
   },
   "source": [
    "# CP Metrics"
   ]
  },
  {
   "cell_type": "code",
   "execution_count": 45,
   "id": "5ce0a5cb-201f-45a0-ade5-94c7f0bd6095",
   "metadata": {
    "execution": {
     "iopub.execute_input": "2025-08-05T15:41:29.261334Z",
     "iopub.status.busy": "2025-08-05T15:41:29.260724Z",
     "iopub.status.idle": "2025-08-05T15:41:29.268111Z",
     "shell.execute_reply": "2025-08-05T15:41:29.267133Z"
    },
    "papermill": {
     "duration": 0.026365,
     "end_time": "2025-08-05T15:41:29.269937",
     "exception": false,
     "start_time": "2025-08-05T15:41:29.243572",
     "status": "completed"
    },
    "tags": []
   },
   "outputs": [
    {
     "data": {
      "text/plain": [
       "{'coverage': 0.9116709396945714, 'avg_size': 1.2052948389254263}"
      ]
     },
     "execution_count": 45,
     "metadata": {},
     "output_type": "execute_result"
    }
   ],
   "source": [
    "metrics"
   ]
  },
  {
   "cell_type": "code",
   "execution_count": 46,
   "id": "9b9a838d-31c9-430b-ae14-12baee460d17",
   "metadata": {
    "execution": {
     "iopub.execute_input": "2025-08-05T15:41:29.296263Z",
     "iopub.status.busy": "2025-08-05T15:41:29.295237Z",
     "iopub.status.idle": "2025-08-05T15:41:29.302580Z",
     "shell.execute_reply": "2025-08-05T15:41:29.301357Z"
    },
    "papermill": {
     "duration": 0.022699,
     "end_time": "2025-08-05T15:41:29.304432",
     "exception": false,
     "start_time": "2025-08-05T15:41:29.281733",
     "status": "completed"
    },
    "tags": []
   },
   "outputs": [],
   "source": [
    "example_universe = universe.copy()\n",
    "universe_training_year = example_universe.get(\"training_year\")\n",
    "universe_training_size = example_universe.get(\"training_size\")\n",
    "universe_scale = example_universe.get(\"scale\")\n",
    "universe_model = example_universe.get(\"model\")\n",
    "universe_exclude_features = example_universe.get(\"exclude_features\")\n",
    "universe_exclude_subgroups = example_universe.get(\"exclude_subgroups\")"
   ]
  },
  {
   "cell_type": "code",
   "execution_count": 47,
   "id": "f4b6a8ac-9dc0-4245-8a91-5b3b5999c4f9",
   "metadata": {
    "execution": {
     "iopub.execute_input": "2025-08-05T15:41:29.331734Z",
     "iopub.status.busy": "2025-08-05T15:41:29.331227Z",
     "iopub.status.idle": "2025-08-05T15:41:29.336793Z",
     "shell.execute_reply": "2025-08-05T15:41:29.336055Z"
    },
    "papermill": {
     "duration": 0.020333,
     "end_time": "2025-08-05T15:41:29.338332",
     "exception": false,
     "start_time": "2025-08-05T15:41:29.317999",
     "status": "completed"
    },
    "tags": []
   },
   "outputs": [],
   "source": [
    "cp_metrics_dict = {\n",
    "    \"universe_id\": [universe_id],\n",
    "    \"universe_training_year\": [universe_training_year],\n",
    "    \"universe_training_size\": [universe_training_size],\n",
    "    \"universe_scale\": [universe_scale],\n",
    "    \"universe_model\": [universe_model],\n",
    "    \"universe_exclude_features\": [universe_exclude_features],\n",
    "    \"universe_exclude_subgroups\": [universe_exclude_subgroups],\n",
    "    \"q_hat\": [q_hat],\n",
    "    \"coverage\": [metrics[\"coverage\"]],\n",
    "    \"avg_size\": [metrics[\"avg_size\"]],\n",
    "}"
   ]
  },
  {
   "cell_type": "code",
   "execution_count": 48,
   "id": "908acbb1-0371-4915-85ca-3fa520d2efe2",
   "metadata": {
    "execution": {
     "iopub.execute_input": "2025-08-05T15:41:29.363128Z",
     "iopub.status.busy": "2025-08-05T15:41:29.362430Z",
     "iopub.status.idle": "2025-08-05T15:41:29.369088Z",
     "shell.execute_reply": "2025-08-05T15:41:29.368150Z"
    },
    "papermill": {
     "duration": 0.020067,
     "end_time": "2025-08-05T15:41:29.370595",
     "exception": false,
     "start_time": "2025-08-05T15:41:29.350528",
     "status": "completed"
    },
    "tags": []
   },
   "outputs": [
    {
     "data": {
      "text/plain": [
       "{'universe_id': ['623e0eb7717ccf5fe4c6e4d33aa9a309'],\n",
       " 'universe_training_year': ['2012_14'],\n",
       " 'universe_training_size': ['5k'],\n",
       " 'universe_scale': ['do-not-scale'],\n",
       " 'universe_model': ['logreg'],\n",
       " 'universe_exclude_features': ['sex'],\n",
       " 'universe_exclude_subgroups': ['keep-all'],\n",
       " 'q_hat': [0.6821485562600595],\n",
       " 'coverage': [0.9116709396945714],\n",
       " 'avg_size': [1.2052948389254263]}"
      ]
     },
     "execution_count": 48,
     "metadata": {},
     "output_type": "execute_result"
    }
   ],
   "source": [
    "cp_metrics_dict"
   ]
  },
  {
   "cell_type": "code",
   "execution_count": 49,
   "id": "33007efc-14e9-4ec6-97ac-56a455c82265",
   "metadata": {
    "execution": {
     "iopub.execute_input": "2025-08-05T15:41:29.400070Z",
     "iopub.status.busy": "2025-08-05T15:41:29.399149Z",
     "iopub.status.idle": "2025-08-05T15:41:29.405096Z",
     "shell.execute_reply": "2025-08-05T15:41:29.404253Z"
    },
    "papermill": {
     "duration": 0.024205,
     "end_time": "2025-08-05T15:41:29.406819",
     "exception": false,
     "start_time": "2025-08-05T15:41:29.382614",
     "status": "completed"
    },
    "tags": []
   },
   "outputs": [],
   "source": [
    "cp_metrics_df = pd.DataFrame(cp_metrics_dict)"
   ]
  },
  {
   "cell_type": "code",
   "execution_count": 50,
   "id": "db12611b-57b2-4910-b9d0-355adfd6e7bf",
   "metadata": {
    "execution": {
     "iopub.execute_input": "2025-08-05T15:41:29.452756Z",
     "iopub.status.busy": "2025-08-05T15:41:29.452039Z",
     "iopub.status.idle": "2025-08-05T15:41:29.466429Z",
     "shell.execute_reply": "2025-08-05T15:41:29.465597Z"
    },
    "papermill": {
     "duration": 0.038437,
     "end_time": "2025-08-05T15:41:29.467867",
     "exception": false,
     "start_time": "2025-08-05T15:41:29.429430",
     "status": "completed"
    },
    "tags": []
   },
   "outputs": [
    {
     "data": {
      "text/html": [
       "<div>\n",
       "<style scoped>\n",
       "    .dataframe tbody tr th:only-of-type {\n",
       "        vertical-align: middle;\n",
       "    }\n",
       "\n",
       "    .dataframe tbody tr th {\n",
       "        vertical-align: top;\n",
       "    }\n",
       "\n",
       "    .dataframe thead th {\n",
       "        text-align: right;\n",
       "    }\n",
       "</style>\n",
       "<table border=\"1\" class=\"dataframe\">\n",
       "  <thead>\n",
       "    <tr style=\"text-align: right;\">\n",
       "      <th></th>\n",
       "      <th>universe_id</th>\n",
       "      <th>universe_training_year</th>\n",
       "      <th>universe_training_size</th>\n",
       "      <th>universe_scale</th>\n",
       "      <th>universe_model</th>\n",
       "      <th>universe_exclude_features</th>\n",
       "      <th>universe_exclude_subgroups</th>\n",
       "      <th>q_hat</th>\n",
       "      <th>coverage</th>\n",
       "      <th>avg_size</th>\n",
       "    </tr>\n",
       "  </thead>\n",
       "  <tbody>\n",
       "    <tr>\n",
       "      <th>0</th>\n",
       "      <td>623e0eb7717ccf5fe4c6e4d33aa9a309</td>\n",
       "      <td>2012_14</td>\n",
       "      <td>5k</td>\n",
       "      <td>do-not-scale</td>\n",
       "      <td>logreg</td>\n",
       "      <td>sex</td>\n",
       "      <td>keep-all</td>\n",
       "      <td>0.682149</td>\n",
       "      <td>0.911671</td>\n",
       "      <td>1.205295</td>\n",
       "    </tr>\n",
       "  </tbody>\n",
       "</table>\n",
       "</div>"
      ],
      "text/plain": [
       "                        universe_id universe_training_year  \\\n",
       "0  623e0eb7717ccf5fe4c6e4d33aa9a309                2012_14   \n",
       "\n",
       "  universe_training_size universe_scale universe_model  \\\n",
       "0                     5k   do-not-scale         logreg   \n",
       "\n",
       "  universe_exclude_features universe_exclude_subgroups     q_hat  coverage  \\\n",
       "0                       sex                   keep-all  0.682149  0.911671   \n",
       "\n",
       "   avg_size  \n",
       "0  1.205295  "
      ]
     },
     "execution_count": 50,
     "metadata": {},
     "output_type": "execute_result"
    }
   ],
   "source": [
    "cp_metrics_df"
   ]
  },
  {
   "cell_type": "code",
   "execution_count": 51,
   "id": "b7fbde55-a0a1-47e4-9af6-fe4a17fa8c61",
   "metadata": {
    "execution": {
     "iopub.execute_input": "2025-08-05T15:41:29.493142Z",
     "iopub.status.busy": "2025-08-05T15:41:29.492293Z",
     "iopub.status.idle": "2025-08-05T15:41:29.509636Z",
     "shell.execute_reply": "2025-08-05T15:41:29.496240Z"
    },
    "papermill": {
     "duration": 0.03114,
     "end_time": "2025-08-05T15:41:29.511177",
     "exception": false,
     "start_time": "2025-08-05T15:41:29.480037",
     "status": "completed"
    },
    "tags": []
   },
   "outputs": [],
   "source": [
    "# Conditional Coverage & looking at subgroups"
   ]
  },
  {
   "cell_type": "code",
   "execution_count": 52,
   "id": "027ae886-68dd-4141-96c7-805a5450e1ef",
   "metadata": {
    "execution": {
     "iopub.execute_input": "2025-08-05T15:41:29.535248Z",
     "iopub.status.busy": "2025-08-05T15:41:29.534539Z",
     "iopub.status.idle": "2025-08-05T15:41:29.770745Z",
     "shell.execute_reply": "2025-08-05T15:41:29.769943Z"
    },
    "papermill": {
     "duration": 0.249545,
     "end_time": "2025-08-05T15:41:29.772172",
     "exception": false,
     "start_time": "2025-08-05T15:41:29.522627",
     "status": "completed"
    },
    "tags": []
   },
   "outputs": [],
   "source": [
    "from fairness_multiverse.conformal import build_cp_groups\n",
    "\n",
    "cp_groups_df = build_cp_groups(pred_sets, y_true, X_test.index, org_test)\n",
    "#needs universe_id and setting"
   ]
  },
  {
   "cell_type": "code",
   "execution_count": 53,
   "id": "6cbdab96-b2b2-45af-ad54-d0516db2e28d",
   "metadata": {
    "execution": {
     "iopub.execute_input": "2025-08-05T15:41:29.820847Z",
     "iopub.status.busy": "2025-08-05T15:41:29.819971Z",
     "iopub.status.idle": "2025-08-05T15:41:31.709760Z",
     "shell.execute_reply": "2025-08-05T15:41:31.708539Z"
    },
    "papermill": {
     "duration": 1.916943,
     "end_time": "2025-08-05T15:41:31.712375",
     "exception": false,
     "start_time": "2025-08-05T15:41:29.795432",
     "status": "completed"
    },
    "tags": []
   },
   "outputs": [],
   "source": [
    "# Define covered = 1 if true_label is in the predicted set\n",
    "cp_groups_df['covered'] = cp_groups_df.apply(\n",
    "    lambda r: int(r['true_label'] in r['pred_set']),\n",
    "    axis=1\n",
    ")"
   ]
  },
  {
   "cell_type": "code",
   "execution_count": 54,
   "id": "338ff529-1a6b-4b87-a931-8e4788d52aad",
   "metadata": {
    "execution": {
     "iopub.execute_input": "2025-08-05T15:41:31.787087Z",
     "iopub.status.busy": "2025-08-05T15:41:31.785889Z",
     "iopub.status.idle": "2025-08-05T15:41:31.792699Z",
     "shell.execute_reply": "2025-08-05T15:41:31.791208Z"
    },
    "papermill": {
     "duration": 0.037253,
     "end_time": "2025-08-05T15:41:31.795278",
     "exception": false,
     "start_time": "2025-08-05T15:41:31.758025",
     "status": "completed"
    },
    "tags": []
   },
   "outputs": [],
   "source": [
    "#cp_groups_df"
   ]
  },
  {
   "cell_type": "code",
   "execution_count": 55,
   "id": "90032e27-66df-4540-9169-4e89cfbaa758",
   "metadata": {
    "execution": {
     "iopub.execute_input": "2025-08-05T15:41:31.862259Z",
     "iopub.status.busy": "2025-08-05T15:41:31.861433Z",
     "iopub.status.idle": "2025-08-05T15:41:31.875267Z",
     "shell.execute_reply": "2025-08-05T15:41:31.873999Z"
    },
    "papermill": {
     "duration": 0.049364,
     "end_time": "2025-08-05T15:41:31.877749",
     "exception": false,
     "start_time": "2025-08-05T15:41:31.828385",
     "status": "completed"
    },
    "tags": []
   },
   "outputs": [],
   "source": [
    "subgroups = ['frau1','nongerman','nongerman_male','nongerman_female']\n",
    "\n",
    "# Conditional coverage for subgroup==1\n",
    "cond_coverage = {\n",
    "    g: cp_groups_df.loc[cp_groups_df[g]==1, 'covered'].mean()\n",
    "    for g in subgroups\n",
    "}"
   ]
  },
  {
   "cell_type": "code",
   "execution_count": 56,
   "id": "1e348fb1-b9c3-45bc-ba23-f016827a7e0d",
   "metadata": {
    "execution": {
     "iopub.execute_input": "2025-08-05T15:41:31.915589Z",
     "iopub.status.busy": "2025-08-05T15:41:31.915174Z",
     "iopub.status.idle": "2025-08-05T15:41:31.922746Z",
     "shell.execute_reply": "2025-08-05T15:41:31.921575Z"
    },
    "papermill": {
     "duration": 0.021596,
     "end_time": "2025-08-05T15:41:31.924499",
     "exception": false,
     "start_time": "2025-08-05T15:41:31.902903",
     "status": "completed"
    },
    "tags": []
   },
   "outputs": [
    {
     "data": {
      "text/plain": [
       "{'frau1': 0.9087747674888799,\n",
       " 'nongerman': 0.9313984168865436,\n",
       " 'nongerman_male': 0.944159236242457,\n",
       " 'nongerman_female': 0.9102831594634874}"
      ]
     },
     "execution_count": 56,
     "metadata": {},
     "output_type": "execute_result"
    }
   ],
   "source": [
    "cond_coverage"
   ]
  },
  {
   "cell_type": "code",
   "execution_count": 57,
   "id": "f5093324-c3dd-4d63-bc4c-8d945e5c8bbb",
   "metadata": {
    "execution": {
     "iopub.execute_input": "2025-08-05T15:41:31.955321Z",
     "iopub.status.busy": "2025-08-05T15:41:31.954966Z",
     "iopub.status.idle": "2025-08-05T15:41:31.961218Z",
     "shell.execute_reply": "2025-08-05T15:41:31.960334Z"
    },
    "papermill": {
     "duration": 0.021281,
     "end_time": "2025-08-05T15:41:31.962982",
     "exception": false,
     "start_time": "2025-08-05T15:41:31.941701",
     "status": "completed"
    },
    "tags": []
   },
   "outputs": [],
   "source": [
    "for subgroup, cov in cond_coverage.items():\n",
    "    cp_metrics_df[f\"cov_{subgroup}\"] = cov"
   ]
  },
  {
   "cell_type": "code",
   "execution_count": 58,
   "id": "6e872e10-dbe5-49e8-b554-5030c98ff75d",
   "metadata": {
    "execution": {
     "iopub.execute_input": "2025-08-05T15:41:31.989913Z",
     "iopub.status.busy": "2025-08-05T15:41:31.989344Z",
     "iopub.status.idle": "2025-08-05T15:41:32.004492Z",
     "shell.execute_reply": "2025-08-05T15:41:32.003533Z"
    },
    "papermill": {
     "duration": 0.030523,
     "end_time": "2025-08-05T15:41:32.006117",
     "exception": false,
     "start_time": "2025-08-05T15:41:31.975594",
     "status": "completed"
    },
    "tags": []
   },
   "outputs": [
    {
     "data": {
      "text/html": [
       "<div>\n",
       "<style scoped>\n",
       "    .dataframe tbody tr th:only-of-type {\n",
       "        vertical-align: middle;\n",
       "    }\n",
       "\n",
       "    .dataframe tbody tr th {\n",
       "        vertical-align: top;\n",
       "    }\n",
       "\n",
       "    .dataframe thead th {\n",
       "        text-align: right;\n",
       "    }\n",
       "</style>\n",
       "<table border=\"1\" class=\"dataframe\">\n",
       "  <thead>\n",
       "    <tr style=\"text-align: right;\">\n",
       "      <th></th>\n",
       "      <th>universe_id</th>\n",
       "      <th>universe_training_year</th>\n",
       "      <th>universe_training_size</th>\n",
       "      <th>universe_scale</th>\n",
       "      <th>universe_model</th>\n",
       "      <th>universe_exclude_features</th>\n",
       "      <th>universe_exclude_subgroups</th>\n",
       "      <th>q_hat</th>\n",
       "      <th>coverage</th>\n",
       "      <th>avg_size</th>\n",
       "      <th>cov_frau1</th>\n",
       "      <th>cov_nongerman</th>\n",
       "      <th>cov_nongerman_male</th>\n",
       "      <th>cov_nongerman_female</th>\n",
       "    </tr>\n",
       "  </thead>\n",
       "  <tbody>\n",
       "    <tr>\n",
       "      <th>0</th>\n",
       "      <td>623e0eb7717ccf5fe4c6e4d33aa9a309</td>\n",
       "      <td>2012_14</td>\n",
       "      <td>5k</td>\n",
       "      <td>do-not-scale</td>\n",
       "      <td>logreg</td>\n",
       "      <td>sex</td>\n",
       "      <td>keep-all</td>\n",
       "      <td>0.682149</td>\n",
       "      <td>0.911671</td>\n",
       "      <td>1.205295</td>\n",
       "      <td>0.908775</td>\n",
       "      <td>0.931398</td>\n",
       "      <td>0.944159</td>\n",
       "      <td>0.910283</td>\n",
       "    </tr>\n",
       "  </tbody>\n",
       "</table>\n",
       "</div>"
      ],
      "text/plain": [
       "                        universe_id universe_training_year  \\\n",
       "0  623e0eb7717ccf5fe4c6e4d33aa9a309                2012_14   \n",
       "\n",
       "  universe_training_size universe_scale universe_model  \\\n",
       "0                     5k   do-not-scale         logreg   \n",
       "\n",
       "  universe_exclude_features universe_exclude_subgroups     q_hat  coverage  \\\n",
       "0                       sex                   keep-all  0.682149  0.911671   \n",
       "\n",
       "   avg_size  cov_frau1  cov_nongerman  cov_nongerman_male  \\\n",
       "0  1.205295   0.908775       0.931398            0.944159   \n",
       "\n",
       "   cov_nongerman_female  \n",
       "0              0.910283  "
      ]
     },
     "execution_count": 58,
     "metadata": {},
     "output_type": "execute_result"
    }
   ],
   "source": [
    "cp_metrics_df"
   ]
  },
  {
   "cell_type": "markdown",
   "id": "33774451",
   "metadata": {
    "papermill": {
     "duration": 0.024179,
     "end_time": "2025-08-05T15:41:32.049109",
     "exception": false,
     "start_time": "2025-08-05T15:41:32.024930",
     "status": "completed"
    },
    "tags": []
   },
   "source": [
    "# (Fairness) Metrics"
   ]
  },
  {
   "cell_type": "code",
   "execution_count": 59,
   "id": "debc5d62",
   "metadata": {
    "execution": {
     "iopub.execute_input": "2025-08-05T15:41:32.098477Z",
     "iopub.status.busy": "2025-08-05T15:41:32.097711Z",
     "iopub.status.idle": "2025-08-05T15:41:32.121366Z",
     "shell.execute_reply": "2025-08-05T15:41:32.120242Z"
    },
    "papermill": {
     "duration": 0.050915,
     "end_time": "2025-08-05T15:41:32.123346",
     "exception": false,
     "start_time": "2025-08-05T15:41:32.072431",
     "status": "completed"
    },
    "tags": []
   },
   "outputs": [],
   "source": [
    "# do I need to include maxdeutsch1.missing?\n",
    "\n",
    "import numpy as np\n",
    "\n",
    "colname_to_bin = \"maxdeutsch1\"\n",
    "majority_value = org_train[colname_to_bin].mode()[0]\n",
    "\n",
    "org_test[\"majmin\"] = np.where(org_test[colname_to_bin] == majority_value, \"majority\", \"minority\")"
   ]
  },
  {
   "cell_type": "code",
   "execution_count": 60,
   "id": "06a50de5",
   "metadata": {
    "execution": {
     "iopub.execute_input": "2025-08-05T15:41:32.188803Z",
     "iopub.status.busy": "2025-08-05T15:41:32.188053Z",
     "iopub.status.idle": "2025-08-05T15:41:34.707225Z",
     "shell.execute_reply": "2025-08-05T15:41:34.705967Z"
    },
    "papermill": {
     "duration": 2.556339,
     "end_time": "2025-08-05T15:41:34.709362",
     "exception": false,
     "start_time": "2025-08-05T15:41:32.153023",
     "status": "completed"
    },
    "tags": []
   },
   "outputs": [],
   "source": [
    "example_universe = universe.copy()\n",
    "example_universe[\"cutoff\"] = example_universe[\"cutoff\"][0]\n",
    "example_universe[\"eval_fairness_grouping\"] = example_universe[\"eval_fairness_grouping\"][0]\n",
    "fairness_dict, metric_frame = universe_analysis.compute_metrics(\n",
    "    example_universe,\n",
    "    y_pred_prob=probs_test,\n",
    "    y_test=y_true,\n",
    "    org_test=org_test,\n",
    ")"
   ]
  },
  {
   "cell_type": "markdown",
   "id": "f95d4e02",
   "metadata": {
    "papermill": {
     "duration": 0.039346,
     "end_time": "2025-08-05T15:41:34.775078",
     "exception": false,
     "start_time": "2025-08-05T15:41:34.735732",
     "status": "completed"
    },
    "tags": []
   },
   "source": [
    "# Overall"
   ]
  },
  {
   "cell_type": "markdown",
   "id": "bdee4871",
   "metadata": {
    "papermill": {
     "duration": 0.01402,
     "end_time": "2025-08-05T15:41:34.800689",
     "exception": false,
     "start_time": "2025-08-05T15:41:34.786669",
     "status": "completed"
    },
    "tags": []
   },
   "source": [
    "Fairness\n",
    "Main fairness target: Equalized Odds. Seems to be a better fit than equal opportunity, since we're not only interested in Y = 1. Seems to be a better fit than demographic parity, since we also care about accuracy, not just equal distribution of preds.\n",
    "\n",
    "Pick column for computation of fairness metrics\n",
    "\n",
    "Performance\n",
    "Overall performance measures, most interesting in relation to the measures split by group below"
   ]
  },
  {
   "cell_type": "code",
   "execution_count": 61,
   "id": "c4e067c6",
   "metadata": {
    "execution": {
     "iopub.execute_input": "2025-08-05T15:41:34.853471Z",
     "iopub.status.busy": "2025-08-05T15:41:34.852950Z",
     "iopub.status.idle": "2025-08-05T15:41:34.862617Z",
     "shell.execute_reply": "2025-08-05T15:41:34.861416Z"
    },
    "papermill": {
     "duration": 0.037231,
     "end_time": "2025-08-05T15:41:34.864350",
     "exception": false,
     "start_time": "2025-08-05T15:41:34.827119",
     "status": "completed"
    },
    "tags": []
   },
   "outputs": [
    {
     "data": {
      "text/plain": [
       "accuracy                   0.218961\n",
       "balanced accuracy          0.536524\n",
       "f1                         0.240441\n",
       "precision                  0.137356\n",
       "false positive rate        0.890629\n",
       "false negative rate        0.036323\n",
       "selection rate             0.900000\n",
       "count                  89710.000000\n",
       "dtype: float64"
      ]
     },
     "execution_count": 61,
     "metadata": {},
     "output_type": "execute_result"
    }
   ],
   "source": [
    "metric_frame.overall"
   ]
  },
  {
   "cell_type": "markdown",
   "id": "e968fe9d",
   "metadata": {
    "papermill": {
     "duration": 0.024916,
     "end_time": "2025-08-05T15:41:34.915435",
     "exception": false,
     "start_time": "2025-08-05T15:41:34.890519",
     "status": "completed"
    },
    "tags": []
   },
   "source": [
    "By Group"
   ]
  },
  {
   "cell_type": "code",
   "execution_count": 62,
   "id": "ec325bce",
   "metadata": {
    "execution": {
     "iopub.execute_input": "2025-08-05T15:41:34.959961Z",
     "iopub.status.busy": "2025-08-05T15:41:34.959163Z",
     "iopub.status.idle": "2025-08-05T15:41:34.976771Z",
     "shell.execute_reply": "2025-08-05T15:41:34.975747Z"
    },
    "papermill": {
     "duration": 0.041384,
     "end_time": "2025-08-05T15:41:34.978650",
     "exception": false,
     "start_time": "2025-08-05T15:41:34.937266",
     "status": "completed"
    },
    "tags": []
   },
   "outputs": [
    {
     "data": {
      "text/html": [
       "<div>\n",
       "<style scoped>\n",
       "    .dataframe tbody tr th:only-of-type {\n",
       "        vertical-align: middle;\n",
       "    }\n",
       "\n",
       "    .dataframe tbody tr th {\n",
       "        vertical-align: top;\n",
       "    }\n",
       "\n",
       "    .dataframe thead th {\n",
       "        text-align: right;\n",
       "    }\n",
       "</style>\n",
       "<table border=\"1\" class=\"dataframe\">\n",
       "  <thead>\n",
       "    <tr style=\"text-align: right;\">\n",
       "      <th></th>\n",
       "      <th>accuracy</th>\n",
       "      <th>balanced accuracy</th>\n",
       "      <th>f1</th>\n",
       "      <th>precision</th>\n",
       "      <th>false positive rate</th>\n",
       "      <th>false negative rate</th>\n",
       "      <th>selection rate</th>\n",
       "      <th>count</th>\n",
       "    </tr>\n",
       "    <tr>\n",
       "      <th>majmin</th>\n",
       "      <th></th>\n",
       "      <th></th>\n",
       "      <th></th>\n",
       "      <th></th>\n",
       "      <th></th>\n",
       "      <th></th>\n",
       "      <th></th>\n",
       "      <th></th>\n",
       "    </tr>\n",
       "  </thead>\n",
       "  <tbody>\n",
       "    <tr>\n",
       "      <th>majority</th>\n",
       "      <td>0.240986</td>\n",
       "      <td>0.544949</td>\n",
       "      <td>0.250146</td>\n",
       "      <td>0.143852</td>\n",
       "      <td>0.868199</td>\n",
       "      <td>0.041904</td>\n",
       "      <td>0.880078</td>\n",
       "      <td>69170.0</td>\n",
       "    </tr>\n",
       "    <tr>\n",
       "      <th>minority</th>\n",
       "      <td>0.144791</td>\n",
       "      <td>0.510247</td>\n",
       "      <td>0.209878</td>\n",
       "      <td>0.117449</td>\n",
       "      <td>0.964726</td>\n",
       "      <td>0.014780</td>\n",
       "      <td>0.967089</td>\n",
       "      <td>20540.0</td>\n",
       "    </tr>\n",
       "  </tbody>\n",
       "</table>\n",
       "</div>"
      ],
      "text/plain": [
       "          accuracy  balanced accuracy        f1  precision  \\\n",
       "majmin                                                       \n",
       "majority  0.240986           0.544949  0.250146   0.143852   \n",
       "minority  0.144791           0.510247  0.209878   0.117449   \n",
       "\n",
       "          false positive rate  false negative rate  selection rate    count  \n",
       "majmin                                                                       \n",
       "majority             0.868199             0.041904        0.880078  69170.0  \n",
       "minority             0.964726             0.014780        0.967089  20540.0  "
      ]
     },
     "execution_count": 62,
     "metadata": {},
     "output_type": "execute_result"
    }
   ],
   "source": [
    "metric_frame.by_group"
   ]
  },
  {
   "cell_type": "code",
   "execution_count": 63,
   "id": "a9ddbe63",
   "metadata": {
    "execution": {
     "iopub.execute_input": "2025-08-05T15:41:35.030203Z",
     "iopub.status.busy": "2025-08-05T15:41:35.029746Z",
     "iopub.status.idle": "2025-08-05T15:41:37.182014Z",
     "shell.execute_reply": "2025-08-05T15:41:37.181254Z"
    },
    "papermill": {
     "duration": 2.179068,
     "end_time": "2025-08-05T15:41:37.183442",
     "exception": false,
     "start_time": "2025-08-05T15:41:35.004374",
     "status": "completed"
    },
    "tags": []
   },
   "outputs": [
    {
     "data": {
      "text/plain": [
       "array([[<Axes: title={'center': 'accuracy'}, xlabel='majmin'>,\n",
       "        <Axes: title={'center': 'balanced accuracy'}, xlabel='majmin'>,\n",
       "        <Axes: title={'center': 'f1'}, xlabel='majmin'>],\n",
       "       [<Axes: title={'center': 'precision'}, xlabel='majmin'>,\n",
       "        <Axes: title={'center': 'false positive rate'}, xlabel='majmin'>,\n",
       "        <Axes: title={'center': 'false negative rate'}, xlabel='majmin'>],\n",
       "       [<Axes: title={'center': 'selection rate'}, xlabel='majmin'>,\n",
       "        <Axes: title={'center': 'count'}, xlabel='majmin'>,\n",
       "        <Axes: xlabel='majmin'>]], dtype=object)"
      ]
     },
     "execution_count": 63,
     "metadata": {},
     "output_type": "execute_result"
    },
    {
     "data": {
      "image/png": "[encoded data removed]",
      "text/plain": [
       "<Figure size 1200x800 with 9 Axes>"
      ]
     },
     "metadata": {},
     "output_type": "display_data"
    }
   ],
   "source": [
    "# In a graphic\n",
    "metric_frame.by_group.plot.bar(\n",
    "    subplots=True,\n",
    "    layout=[3, 3],\n",
    "    legend=False,\n",
    "    figsize=[12, 8],\n",
    "    title=\"Show all metrics\",\n",
    ")"
   ]
  },
  {
   "cell_type": "markdown",
   "id": "f57a0bac",
   "metadata": {
    "papermill": {
     "duration": 0.022104,
     "end_time": "2025-08-05T15:41:37.233418",
     "exception": false,
     "start_time": "2025-08-05T15:41:37.211314",
     "status": "completed"
    },
    "tags": []
   },
   "source": [
    "# Final Output"
   ]
  },
  {
   "cell_type": "code",
   "execution_count": 64,
   "id": "96d280a3",
   "metadata": {
    "execution": {
     "iopub.execute_input": "2025-08-05T15:41:37.281480Z",
     "iopub.status.busy": "2025-08-05T15:41:37.280901Z",
     "iopub.status.idle": "2025-08-05T15:41:37.289186Z",
     "shell.execute_reply": "2025-08-05T15:41:37.288082Z"
    },
    "papermill": {
     "duration": 0.033906,
     "end_time": "2025-08-05T15:41:37.290851",
     "exception": false,
     "start_time": "2025-08-05T15:41:37.256945",
     "status": "completed"
    },
    "tags": []
   },
   "outputs": [
    {
     "data": {
      "text/plain": [
       "4"
      ]
     },
     "execution_count": 64,
     "metadata": {},
     "output_type": "execute_result"
    }
   ],
   "source": [
    "sub_universes = universe_analysis.generate_sub_universes()\n",
    "len(sub_universes)"
   ]
  },
  {
   "cell_type": "code",
   "execution_count": 65,
   "id": "92adf7ba",
   "metadata": {
    "execution": {
     "iopub.execute_input": "2025-08-05T15:41:37.347238Z",
     "iopub.status.busy": "2025-08-05T15:41:37.346647Z",
     "iopub.status.idle": "2025-08-05T15:41:37.352750Z",
     "shell.execute_reply": "2025-08-05T15:41:37.351793Z"
    },
    "papermill": {
     "duration": 0.036617,
     "end_time": "2025-08-05T15:41:37.354666",
     "exception": false,
     "start_time": "2025-08-05T15:41:37.318049",
     "status": "completed"
    },
    "tags": []
   },
   "outputs": [],
   "source": [
    "def filter_sub_universe_data(sub_universe, org_test):\n",
    "    # Keep all rows — no filtering\n",
    "    keep_rows_mask = np.ones(org_test.shape[0], dtype=bool)\n",
    "\n",
    "    print(f\"[INFO] Keeping all rows: {keep_rows_mask.sum()} rows retained.\")\n",
    "    return keep_rows_mask"
   ]
  },
  {
   "cell_type": "code",
   "execution_count": 66,
   "id": "4a759155",
   "metadata": {
    "execution": {
     "iopub.execute_input": "2025-08-05T15:41:37.412143Z",
     "iopub.status.busy": "2025-08-05T15:41:37.411450Z",
     "iopub.status.idle": "2025-08-05T15:41:46.617836Z",
     "shell.execute_reply": "2025-08-05T15:41:46.616652Z"
    },
    "papermill": {
     "duration": 9.236159,
     "end_time": "2025-08-05T15:41:46.619661",
     "exception": false,
     "start_time": "2025-08-05T15:41:37.383502",
     "status": "completed"
    },
    "tags": []
   },
   "outputs": [
    {
     "name": "stdout",
     "output_type": "stream",
     "text": [
      "Stopping execution_time clock.\n",
      "[INFO] Keeping all rows: 89710 rows retained.\n"
     ]
    },
    {
     "name": "stdout",
     "output_type": "stream",
     "text": [
      "[INFO] Keeping all rows: 89710 rows retained.\n"
     ]
    },
    {
     "name": "stdout",
     "output_type": "stream",
     "text": [
      "[INFO] Keeping all rows: 89710 rows retained.\n"
     ]
    },
    {
     "name": "stdout",
     "output_type": "stream",
     "text": [
      "[INFO] Keeping all rows: 89710 rows retained.\n"
     ]
    },
    {
     "data": {
      "text/html": [
       "<div>\n",
       "<style scoped>\n",
       "    .dataframe tbody tr th:only-of-type {\n",
       "        vertical-align: middle;\n",
       "    }\n",
       "\n",
       "    .dataframe tbody tr th {\n",
       "        vertical-align: top;\n",
       "    }\n",
       "\n",
       "    .dataframe thead th {\n",
       "        text-align: right;\n",
       "    }\n",
       "</style>\n",
       "<table border=\"1\" class=\"dataframe\">\n",
       "  <thead>\n",
       "    <tr style=\"text-align: right;\">\n",
       "      <th></th>\n",
       "      <th>run_no</th>\n",
       "      <th>universe_id</th>\n",
       "      <th>universe_settings</th>\n",
       "      <th>execution_time</th>\n",
       "      <th>test_size_n</th>\n",
       "      <th>test_size_frac</th>\n",
       "      <th>fair_main_equalized_odds_difference</th>\n",
       "      <th>fair_main_equalized_odds_ratio</th>\n",
       "      <th>fair_main_demographic_parity_difference</th>\n",
       "      <th>fair_main_demographic_parity_ratio</th>\n",
       "      <th>...</th>\n",
       "      <th>perf_grp_precision_0</th>\n",
       "      <th>perf_grp_precision_1</th>\n",
       "      <th>perf_grp_false positive rate_0</th>\n",
       "      <th>perf_grp_false positive rate_1</th>\n",
       "      <th>perf_grp_false negative rate_0</th>\n",
       "      <th>perf_grp_false negative rate_1</th>\n",
       "      <th>perf_grp_selection rate_0</th>\n",
       "      <th>perf_grp_selection rate_1</th>\n",
       "      <th>perf_grp_count_0</th>\n",
       "      <th>perf_grp_count_1</th>\n",
       "    </tr>\n",
       "  </thead>\n",
       "  <tbody>\n",
       "    <tr>\n",
       "      <th>0</th>\n",
       "      <td>15</td>\n",
       "      <td>623e0eb7717ccf5fe4c6e4d33aa9a309</td>\n",
       "      <td>{\"cutoff\": \"quantile_0.1\", \"eval_fairness_grou...</td>\n",
       "      <td>26.376921</td>\n",
       "      <td>89710</td>\n",
       "      <td>1.0</td>\n",
       "      <td>0.096527</td>\n",
       "      <td>0.899944</td>\n",
       "      <td>0.087011</td>\n",
       "      <td>0.910028</td>\n",
       "      <td>...</td>\n",
       "      <td>NaN</td>\n",
       "      <td>NaN</td>\n",
       "      <td>NaN</td>\n",
       "      <td>NaN</td>\n",
       "      <td>NaN</td>\n",
       "      <td>NaN</td>\n",
       "      <td>NaN</td>\n",
       "      <td>NaN</td>\n",
       "      <td>NaN</td>\n",
       "      <td>NaN</td>\n",
       "    </tr>\n",
       "    <tr>\n",
       "      <th>0</th>\n",
       "      <td>15</td>\n",
       "      <td>623e0eb7717ccf5fe4c6e4d33aa9a309</td>\n",
       "      <td>{\"cutoff\": \"quantile_0.1\", \"eval_fairness_grou...</td>\n",
       "      <td>26.376921</td>\n",
       "      <td>89710</td>\n",
       "      <td>1.0</td>\n",
       "      <td>0.096527</td>\n",
       "      <td>0.899944</td>\n",
       "      <td>0.087011</td>\n",
       "      <td>0.910028</td>\n",
       "      <td>...</td>\n",
       "      <td>0.117449</td>\n",
       "      <td>0.143852</td>\n",
       "      <td>0.964726</td>\n",
       "      <td>0.868199</td>\n",
       "      <td>0.014780</td>\n",
       "      <td>0.041904</td>\n",
       "      <td>0.967089</td>\n",
       "      <td>0.880078</td>\n",
       "      <td>20540.0</td>\n",
       "      <td>69170.0</td>\n",
       "    </tr>\n",
       "    <tr>\n",
       "      <th>0</th>\n",
       "      <td>15</td>\n",
       "      <td>623e0eb7717ccf5fe4c6e4d33aa9a309</td>\n",
       "      <td>{\"cutoff\": \"quantile_0.25\", \"eval_fairness_gro...</td>\n",
       "      <td>26.376921</td>\n",
       "      <td>89710</td>\n",
       "      <td>1.0</td>\n",
       "      <td>0.217190</td>\n",
       "      <td>0.758059</td>\n",
       "      <td>0.198907</td>\n",
       "      <td>0.779815</td>\n",
       "      <td>...</td>\n",
       "      <td>NaN</td>\n",
       "      <td>NaN</td>\n",
       "      <td>NaN</td>\n",
       "      <td>NaN</td>\n",
       "      <td>NaN</td>\n",
       "      <td>NaN</td>\n",
       "      <td>NaN</td>\n",
       "      <td>NaN</td>\n",
       "      <td>NaN</td>\n",
       "      <td>NaN</td>\n",
       "    </tr>\n",
       "    <tr>\n",
       "      <th>0</th>\n",
       "      <td>15</td>\n",
       "      <td>623e0eb7717ccf5fe4c6e4d33aa9a309</td>\n",
       "      <td>{\"cutoff\": \"quantile_0.25\", \"eval_fairness_gro...</td>\n",
       "      <td>26.376921</td>\n",
       "      <td>89710</td>\n",
       "      <td>1.0</td>\n",
       "      <td>0.217190</td>\n",
       "      <td>0.758059</td>\n",
       "      <td>0.198907</td>\n",
       "      <td>0.779815</td>\n",
       "      <td>...</td>\n",
       "      <td>0.120830</td>\n",
       "      <td>0.161635</td>\n",
       "      <td>0.897700</td>\n",
       "      <td>0.680510</td>\n",
       "      <td>0.053209</td>\n",
       "      <td>0.138293</td>\n",
       "      <td>0.903359</td>\n",
       "      <td>0.704453</td>\n",
       "      <td>20540.0</td>\n",
       "      <td>69170.0</td>\n",
       "    </tr>\n",
       "  </tbody>\n",
       "</table>\n",
       "<p>4 rows × 50 columns</p>\n",
       "</div>"
      ],
      "text/plain": [
       "  run_no                       universe_id  \\\n",
       "0     15  623e0eb7717ccf5fe4c6e4d33aa9a309   \n",
       "0     15  623e0eb7717ccf5fe4c6e4d33aa9a309   \n",
       "0     15  623e0eb7717ccf5fe4c6e4d33aa9a309   \n",
       "0     15  623e0eb7717ccf5fe4c6e4d33aa9a309   \n",
       "\n",
       "                                   universe_settings  execution_time  \\\n",
       "0  {\"cutoff\": \"quantile_0.1\", \"eval_fairness_grou...       26.376921   \n",
       "0  {\"cutoff\": \"quantile_0.1\", \"eval_fairness_grou...       26.376921   \n",
       "0  {\"cutoff\": \"quantile_0.25\", \"eval_fairness_gro...       26.376921   \n",
       "0  {\"cutoff\": \"quantile_0.25\", \"eval_fairness_gro...       26.376921   \n",
       "\n",
       "   test_size_n  test_size_frac  fair_main_equalized_odds_difference  \\\n",
       "0        89710             1.0                             0.096527   \n",
       "0        89710             1.0                             0.096527   \n",
       "0        89710             1.0                             0.217190   \n",
       "0        89710             1.0                             0.217190   \n",
       "\n",
       "   fair_main_equalized_odds_ratio  fair_main_demographic_parity_difference  \\\n",
       "0                        0.899944                                 0.087011   \n",
       "0                        0.899944                                 0.087011   \n",
       "0                        0.758059                                 0.198907   \n",
       "0                        0.758059                                 0.198907   \n",
       "\n",
       "   fair_main_demographic_parity_ratio  ...  perf_grp_precision_0  \\\n",
       "0                            0.910028  ...                   NaN   \n",
       "0                            0.910028  ...              0.117449   \n",
       "0                            0.779815  ...                   NaN   \n",
       "0                            0.779815  ...              0.120830   \n",
       "\n",
       "   perf_grp_precision_1  perf_grp_false positive rate_0  \\\n",
       "0                   NaN                             NaN   \n",
       "0              0.143852                        0.964726   \n",
       "0                   NaN                             NaN   \n",
       "0              0.161635                        0.897700   \n",
       "\n",
       "   perf_grp_false positive rate_1  perf_grp_false negative rate_0  \\\n",
       "0                             NaN                             NaN   \n",
       "0                        0.868199                        0.014780   \n",
       "0                             NaN                             NaN   \n",
       "0                        0.680510                        0.053209   \n",
       "\n",
       "   perf_grp_false negative rate_1  perf_grp_selection rate_0  \\\n",
       "0                             NaN                        NaN   \n",
       "0                        0.041904                   0.967089   \n",
       "0                             NaN                        NaN   \n",
       "0                        0.138293                   0.903359   \n",
       "\n",
       "   perf_grp_selection rate_1  perf_grp_count_0  perf_grp_count_1  \n",
       "0                        NaN               NaN               NaN  \n",
       "0                   0.880078           20540.0           69170.0  \n",
       "0                        NaN               NaN               NaN  \n",
       "0                   0.704453           20540.0           69170.0  \n",
       "\n",
       "[4 rows x 50 columns]"
      ]
     },
     "execution_count": 66,
     "metadata": {},
     "output_type": "execute_result"
    }
   ],
   "source": [
    "final_output = universe_analysis.generate_final_output(\n",
    "    y_pred_prob=probs_test,\n",
    "    y_test=y_true,\n",
    "    org_test=org_test,\n",
    "    filter_data=filter_sub_universe_data,\n",
    "    cp_metrics_df=cp_metrics_df,\n",
    "    save=True,\n",
    ")\n",
    "final_output"
   ]
  }
 ],
 "metadata": {
  "celltoolbar": "Tags",
  "kernelspec": {
   "display_name": "Python (CMA Fairness)",
   "language": "python",
   "name": "cma_fair_env"
  },
  "language_info": {
   "codemirror_mode": {
    "name": "ipython",
    "version": 3
   },
   "file_extension": ".py",
   "mimetype": "text/x-python",
   "name": "python",
   "nbconvert_exporter": "python",
   "pygments_lexer": "ipython3",
   "version": "3.10.12"
  },
  "papermill": {
   "default_parameters": {},
   "duration": 39.510533,
   "end_time": "2025-08-05T15:41:47.365206",
   "environment_variables": {},
   "exception": null,
   "input_path": "universe_analysis.ipynb",
   "output_path": "output/runs/15/notebooks/m_15-623e0eb7717ccf5fe4c6e4d33aa9a309.ipynb",
   "parameters": {
    "output_dir": "output",
    "run_no": "15",
    "seed": "2023",
    "universe": "{\"cutoff\": [\"quantile_0.1\", \"quantile_0.25\"], \"eval_fairness_grouping\": [\"majority-minority\", \"nationality-all\"], \"exclude_features\": \"sex\", \"exclude_subgroups\": \"keep-all\", \"model\": \"logreg\", \"scale\": \"do-not-scale\", \"training_size\": \"5k\", \"training_year\": \"2012_14\"}",
    "universe_id": "623e0eb7717ccf5fe4c6e4d33aa9a309"
   },
   "start_time": "2025-08-05T15:41:07.854673",
   "version": "2.6.0"
  }
 },
 "nbformat": 4,
 "nbformat_minor": 5
}