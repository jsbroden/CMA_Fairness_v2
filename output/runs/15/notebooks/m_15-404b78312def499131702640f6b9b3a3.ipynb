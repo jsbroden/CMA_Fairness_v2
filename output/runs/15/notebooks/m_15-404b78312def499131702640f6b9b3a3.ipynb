{
 "cells": [
  {
   "cell_type": "code",
   "execution_count": 1,
   "id": "f159f837-637b-42ba-96b5-ec9a68c44524",
   "metadata": {
    "execution": {
     "iopub.execute_input": "2025-08-05T16:09:35.548050Z",
     "iopub.status.busy": "2025-08-05T16:09:35.547382Z",
     "iopub.status.idle": "2025-08-05T16:09:35.561240Z",
     "shell.execute_reply": "2025-08-05T16:09:35.560117Z"
    },
    "papermill": {
     "duration": 0.034621,
     "end_time": "2025-08-05T16:09:35.563080",
     "exception": false,
     "start_time": "2025-08-05T16:09:35.528459",
     "status": "completed"
    },
    "tags": []
   },
   "outputs": [
    {
     "name": "stdout",
     "output_type": "stream",
     "text": [
      "/dss/dsshome1/0C/ra93lal2/cma/CMA_Fairness_v2\n"
     ]
    },
    {
     "name": "stderr",
     "output_type": "stream",
     "text": [
      "/dss/dsshome1/0C/ra93lal2/.local/share/virtualenvs/CMA_Fairness_v2-3j10GkSs/lib/python3.10/site-packages/IPython/core/magics/osm.py:393: UserWarning: This is now an optional IPython functionality, using bookmarks requires you to install the `pickleshare` library.\n",
      "  bkms = self.shell.db.get('bookmarks', {})\n",
      "/dss/dsshome1/0C/ra93lal2/.local/share/virtualenvs/CMA_Fairness_v2-3j10GkSs/lib/python3.10/site-packages/IPython/core/magics/osm.py:417: UserWarning: This is now an optional IPython functionality, setting dhist requires you to install the `pickleshare` library.\n",
      "  self.shell.db['dhist'] = compress_dhist(dhist)[-100:]\n"
     ]
    }
   ],
   "source": [
    "%cd ~/cma/CMA_Fairness_v2"
   ]
  },
  {
   "cell_type": "markdown",
   "id": "de2603b9",
   "metadata": {
    "papermill": {
     "duration": 0.018215,
     "end_time": "2025-08-05T16:09:35.600385",
     "exception": false,
     "start_time": "2025-08-05T16:09:35.582170",
     "status": "completed"
    },
    "tags": []
   },
   "source": [
    "The following cell holds the definition of our parameters, these values can be overriden by rendering the with e.g. the following command:\n",
    "\n",
    "papermill -p alpha 0.2 -p ratio 0.3 universe_analysis.ipynb output/test_run.ipynb"
   ]
  },
  {
   "cell_type": "code",
   "execution_count": 2,
   "id": "a80968a0-40bb-4fa9-85ef-2d5eefb01975",
   "metadata": {
    "execution": {
     "iopub.execute_input": "2025-08-05T16:09:35.638126Z",
     "iopub.status.busy": "2025-08-05T16:09:35.637448Z",
     "iopub.status.idle": "2025-08-05T16:09:35.643265Z",
     "shell.execute_reply": "2025-08-05T16:09:35.642117Z"
    },
    "papermill": {
     "duration": 0.026577,
     "end_time": "2025-08-05T16:09:35.645117",
     "exception": false,
     "start_time": "2025-08-05T16:09:35.618540",
     "status": "completed"
    },
    "tags": []
   },
   "outputs": [
    {
     "name": "stdout",
     "output_type": "stream",
     "text": [
      "Current working directory: /dss/dsshome1/0C/ra93lal2/cma/CMA_Fairness_v2\n"
     ]
    }
   ],
   "source": [
    "import os\n",
    "print(\"Current working directory:\", os.getcwd())"
   ]
  },
  {
   "cell_type": "code",
   "execution_count": 3,
   "id": "2dce4c03",
   "metadata": {
    "execution": {
     "iopub.execute_input": "2025-08-05T16:09:35.683355Z",
     "iopub.status.busy": "2025-08-05T16:09:35.682718Z",
     "iopub.status.idle": "2025-08-05T16:09:35.688772Z",
     "shell.execute_reply": "2025-08-05T16:09:35.687785Z"
    },
    "papermill": {
     "duration": 0.026455,
     "end_time": "2025-08-05T16:09:35.690689",
     "exception": false,
     "start_time": "2025-08-05T16:09:35.664234",
     "status": "completed"
    },
    "tags": [
     "parameters"
    ]
   },
   "outputs": [],
   "source": [
    "run_no = 0\n",
    "universe_id = \"test\"\n",
    "universe = {\n",
    "    \"training_size\": \"25k\", # \"25k\", \"5k\", \"1k\"\n",
    "    \"training_year\": \"2014\", # \"2014\", \"2012_14\", \"2010_14\"\n",
    "    \"scale\": \"scale\", # \"scale\", \"do-not-scale\",\n",
    "    \"model\": \"elasticnet\", # \"logreg\", \"penalized_logreg\", \"rf\", \"gbm\", \"elasticnet\"\n",
    "    \"cutoff\": [\"quantile_0.15\", \"quantile_0.30\"],\n",
    "    \"exclude_features\": \"age\", # \"none\", \"nationality\", \"sex\", \"nationality-sex\", \"age\"\n",
    "    \"exclude_subgroups\": \"keep-all\", # \"keep-all\", \"drop-non-german\"\n",
    "    \"eval_fairness_grouping\": [\"majority-minority\", \"nationality-all\"]\n",
    "}\n",
    "\n",
    "output_dir=\"./output\"\n",
    "seed=0"
   ]
  },
  {
   "cell_type": "code",
   "execution_count": 4,
   "id": "04115a5b",
   "metadata": {
    "execution": {
     "iopub.execute_input": "2025-08-05T16:09:35.730517Z",
     "iopub.status.busy": "2025-08-05T16:09:35.729755Z",
     "iopub.status.idle": "2025-08-05T16:09:35.735507Z",
     "shell.execute_reply": "2025-08-05T16:09:35.734616Z"
    },
    "papermill": {
     "duration": 0.027371,
     "end_time": "2025-08-05T16:09:35.737443",
     "exception": false,
     "start_time": "2025-08-05T16:09:35.710072",
     "status": "completed"
    },
    "tags": [
     "injected-parameters"
    ]
   },
   "outputs": [],
   "source": [
    "# Parameters\n",
    "universe_id = \"404b78312def499131702640f6b9b3a3\"\n",
    "run_no = \"15\"\n",
    "universe = \"{\\\"cutoff\\\": [\\\"quantile_0.1\\\", \\\"quantile_0.25\\\"], \\\"eval_fairness_grouping\\\": [\\\"majority-minority\\\", \\\"nationality-all\\\"], \\\"exclude_features\\\": \\\"none\\\", \\\"exclude_subgroups\\\": \\\"keep-all\\\", \\\"model\\\": \\\"penalized_logreg\\\", \\\"scale\\\": \\\"do-not-scale\\\", \\\"training_size\\\": \\\"1k\\\", \\\"training_year\\\": \\\"2014\\\"}\"\n",
    "output_dir = \"output\"\n",
    "seed = \"2023\"\n"
   ]
  },
  {
   "cell_type": "code",
   "execution_count": 5,
   "id": "1650acaf",
   "metadata": {
    "execution": {
     "iopub.execute_input": "2025-08-05T16:09:35.775740Z",
     "iopub.status.busy": "2025-08-05T16:09:35.775404Z",
     "iopub.status.idle": "2025-08-05T16:09:35.780383Z",
     "shell.execute_reply": "2025-08-05T16:09:35.779500Z"
    },
    "papermill": {
     "duration": 0.026479,
     "end_time": "2025-08-05T16:09:35.782045",
     "exception": false,
     "start_time": "2025-08-05T16:09:35.755566",
     "status": "completed"
    },
    "tags": []
   },
   "outputs": [],
   "source": [
    "import json\n",
    "if isinstance(universe, str):\n",
    "    universe = json.loads(universe)"
   ]
  },
  {
   "cell_type": "code",
   "execution_count": 6,
   "id": "16620c48",
   "metadata": {
    "execution": {
     "iopub.execute_input": "2025-08-05T16:09:35.819826Z",
     "iopub.status.busy": "2025-08-05T16:09:35.819428Z",
     "iopub.status.idle": "2025-08-05T16:09:35.860291Z",
     "shell.execute_reply": "2025-08-05T16:09:35.859393Z"
    },
    "papermill": {
     "duration": 0.061181,
     "end_time": "2025-08-05T16:09:35.862224",
     "exception": false,
     "start_time": "2025-08-05T16:09:35.801043",
     "status": "completed"
    },
    "tags": []
   },
   "outputs": [],
   "source": [
    "# Auto-reload the custom package\n",
    "%load_ext autoreload\n",
    "%autoreload 1\n",
    "%aimport fairness_multiverse"
   ]
  },
  {
   "cell_type": "code",
   "execution_count": 7,
   "id": "01c5c9f3",
   "metadata": {
    "execution": {
     "iopub.execute_input": "2025-08-05T16:09:35.902770Z",
     "iopub.status.busy": "2025-08-05T16:09:35.902445Z",
     "iopub.status.idle": "2025-08-05T16:09:37.845110Z",
     "shell.execute_reply": "2025-08-05T16:09:37.844168Z"
    },
    "papermill": {
     "duration": 1.966762,
     "end_time": "2025-08-05T16:09:37.849193",
     "exception": false,
     "start_time": "2025-08-05T16:09:35.882431",
     "status": "completed"
    },
    "tags": []
   },
   "outputs": [],
   "source": [
    "from fairness_multiverse.universe import UniverseAnalysis\n",
    "\n",
    "universe_analysis = UniverseAnalysis(\n",
    "    run_no = run_no,\n",
    "    universe_id = universe_id,\n",
    "    universe = universe,\n",
    "    output_dir=output_dir,\n",
    ")"
   ]
  },
  {
   "cell_type": "code",
   "execution_count": 8,
   "id": "106241f5",
   "metadata": {
    "execution": {
     "iopub.execute_input": "2025-08-05T16:09:37.885368Z",
     "iopub.status.busy": "2025-08-05T16:09:37.884329Z",
     "iopub.status.idle": "2025-08-05T16:09:37.891210Z",
     "shell.execute_reply": "2025-08-05T16:09:37.890101Z"
    },
    "papermill": {
     "duration": 0.02724,
     "end_time": "2025-08-05T16:09:37.893630",
     "exception": false,
     "start_time": "2025-08-05T16:09:37.866390",
     "status": "completed"
    },
    "tags": []
   },
   "outputs": [
    {
     "name": "stdout",
     "output_type": "stream",
     "text": [
      "Using Seed: 2023\n"
     ]
    }
   ],
   "source": [
    "import numpy as np\n",
    "parsed_seed = int(seed)\n",
    "np.random.seed(parsed_seed)\n",
    "print(f\"Using Seed: {parsed_seed}\")"
   ]
  },
  {
   "cell_type": "markdown",
   "id": "e0ebdc57",
   "metadata": {
    "papermill": {
     "duration": 0.027967,
     "end_time": "2025-08-05T16:09:37.945147",
     "exception": false,
     "start_time": "2025-08-05T16:09:37.917180",
     "status": "completed"
    },
    "tags": []
   },
   "source": [
    "# Loading Data"
   ]
  },
  {
   "cell_type": "code",
   "execution_count": 9,
   "id": "f0496b8a",
   "metadata": {
    "execution": {
     "iopub.execute_input": "2025-08-05T16:09:37.992750Z",
     "iopub.status.busy": "2025-08-05T16:09:37.991987Z",
     "iopub.status.idle": "2025-08-05T16:09:49.123344Z",
     "shell.execute_reply": "2025-08-05T16:09:49.122176Z"
    },
    "papermill": {
     "duration": 11.157145,
     "end_time": "2025-08-05T16:09:49.125109",
     "exception": false,
     "start_time": "2025-08-05T16:09:37.967964",
     "status": "completed"
    },
    "tags": []
   },
   "outputs": [
    {
     "name": "stdout",
     "output_type": "stream",
     "text": [
      "Loading SIAB data from cache: data/siab_cached.csv.gz\n"
     ]
    },
    {
     "name": "stdout",
     "output_type": "stream",
     "text": [
      "(643690, 164)\n"
     ]
    }
   ],
   "source": [
    "from pathlib import Path\n",
    "import pandas as pd\n",
    "\n",
    "# File paths\n",
    "raw_file = Path(\"data/raw/siab.csv\")\n",
    "cache_file = Path(\"data/siab_cached.csv.gz\")\n",
    "\n",
    "# Ensure cache directory exists\n",
    "cache_file.parent.mkdir(parents=True, exist_ok=True)\n",
    "\n",
    "# Load with simple caching\n",
    "if cache_file.exists():\n",
    "    print(f\"Loading SIAB data from cache: {cache_file}\")\n",
    "    siab = pd.read_csv(cache_file, compression='gzip')\n",
    "else:\n",
    "    print(f\"Cache not found. Reading raw SIAB data: {raw_file}\")\n",
    "    siab = pd.read_csv(raw_file)\n",
    "    siab.to_csv(cache_file, index=False, compression='gzip')\n",
    "    print(f\"Cached SIAB data to: {cache_file}\")\n",
    "\n",
    "print(siab.shape)"
   ]
  },
  {
   "cell_type": "code",
   "execution_count": 10,
   "id": "db0ca512-5f53-4dba-abdb-a2888bca41ba",
   "metadata": {
    "execution": {
     "iopub.execute_input": "2025-08-05T16:09:49.160729Z",
     "iopub.status.busy": "2025-08-05T16:09:49.160181Z",
     "iopub.status.idle": "2025-08-05T16:09:49.166929Z",
     "shell.execute_reply": "2025-08-05T16:09:49.165751Z"
    },
    "papermill": {
     "duration": 0.02133,
     "end_time": "2025-08-05T16:09:49.168976",
     "exception": false,
     "start_time": "2025-08-05T16:09:49.147646",
     "status": "completed"
    },
    "tags": []
   },
   "outputs": [],
   "source": [
    "#siab"
   ]
  },
  {
   "cell_type": "markdown",
   "id": "997051c5-15bd-4b69-9786-c3001a3ce484",
   "metadata": {
    "papermill": {
     "duration": 0.019467,
     "end_time": "2025-08-05T16:09:49.208233",
     "exception": false,
     "start_time": "2025-08-05T16:09:49.188766",
     "status": "completed"
    },
    "tags": []
   },
   "source": [
    "# Splitting Data and Setting Training Data Size"
   ]
  },
  {
   "cell_type": "code",
   "execution_count": 11,
   "id": "aea9c6ef-6f46-42c8-85eb-5a62025c1508",
   "metadata": {
    "execution": {
     "iopub.execute_input": "2025-08-05T16:09:49.249067Z",
     "iopub.status.busy": "2025-08-05T16:09:49.248100Z",
     "iopub.status.idle": "2025-08-05T16:09:49.518130Z",
     "shell.execute_reply": "2025-08-05T16:09:49.517070Z"
    },
    "papermill": {
     "duration": 0.293019,
     "end_time": "2025-08-05T16:09:49.520302",
     "exception": false,
     "start_time": "2025-08-05T16:09:49.227283",
     "status": "completed"
    },
    "tags": []
   },
   "outputs": [],
   "source": [
    "from fairness_multiverse.universe import sample_by_year_size\n",
    "\n",
    "siab_train = sample_by_year_size(siab,\n",
    "                               training_year=universe[\"training_year\"],\n",
    "                               training_size=universe[\"training_size\"])"
   ]
  },
  {
   "cell_type": "code",
   "execution_count": 12,
   "id": "8d3afb32-789d-442c-8d5d-9f5aa8dd2eed",
   "metadata": {
    "execution": {
     "iopub.execute_input": "2025-08-05T16:09:49.560125Z",
     "iopub.status.busy": "2025-08-05T16:09:49.559403Z",
     "iopub.status.idle": "2025-08-05T16:09:49.564748Z",
     "shell.execute_reply": "2025-08-05T16:09:49.563682Z"
    },
    "papermill": {
     "duration": 0.026328,
     "end_time": "2025-08-05T16:09:49.566639",
     "exception": false,
     "start_time": "2025-08-05T16:09:49.540311",
     "status": "completed"
    },
    "tags": []
   },
   "outputs": [],
   "source": [
    "#siab_train.shape"
   ]
  },
  {
   "cell_type": "code",
   "execution_count": 13,
   "id": "d582db68-1a4c-47fb-84fc-08518dc1975a",
   "metadata": {
    "execution": {
     "iopub.execute_input": "2025-08-05T16:09:49.610729Z",
     "iopub.status.busy": "2025-08-05T16:09:49.610050Z",
     "iopub.status.idle": "2025-08-05T16:09:49.614643Z",
     "shell.execute_reply": "2025-08-05T16:09:49.613774Z"
    },
    "papermill": {
     "duration": 0.029741,
     "end_time": "2025-08-05T16:09:49.616147",
     "exception": false,
     "start_time": "2025-08-05T16:09:49.586406",
     "status": "completed"
    },
    "tags": []
   },
   "outputs": [],
   "source": [
    "#display(siab_train.groupby(\"year\").size())"
   ]
  },
  {
   "cell_type": "code",
   "execution_count": 14,
   "id": "a561edb4-d032-42cb-8256-22eac1111c64",
   "metadata": {
    "execution": {
     "iopub.execute_input": "2025-08-05T16:09:49.635379Z",
     "iopub.status.busy": "2025-08-05T16:09:49.634872Z",
     "iopub.status.idle": "2025-08-05T16:09:49.855544Z",
     "shell.execute_reply": "2025-08-05T16:09:49.854751Z"
    },
    "papermill": {
     "duration": 0.231563,
     "end_time": "2025-08-05T16:09:49.857109",
     "exception": false,
     "start_time": "2025-08-05T16:09:49.625546",
     "status": "completed"
    },
    "tags": []
   },
   "outputs": [],
   "source": [
    "#siab_train = siab_s[siab_s.year < 2015]\n",
    "siab_calib = siab[siab.year == 2015]\n",
    "siab_test = siab[siab.year == 2016]"
   ]
  },
  {
   "cell_type": "code",
   "execution_count": 15,
   "id": "472de16f-c3db-4916-846b-1f0de9cf1746",
   "metadata": {
    "execution": {
     "iopub.execute_input": "2025-08-05T16:09:49.877740Z",
     "iopub.status.busy": "2025-08-05T16:09:49.877430Z",
     "iopub.status.idle": "2025-08-05T16:09:49.882959Z",
     "shell.execute_reply": "2025-08-05T16:09:49.882123Z"
    },
    "papermill": {
     "duration": 0.017957,
     "end_time": "2025-08-05T16:09:49.884535",
     "exception": false,
     "start_time": "2025-08-05T16:09:49.866578",
     "status": "completed"
    },
    "tags": []
   },
   "outputs": [],
   "source": [
    "X_train = siab_train.iloc[:,4:164]\n",
    "y_train = siab_train.iloc[:, [3]]"
   ]
  },
  {
   "cell_type": "code",
   "execution_count": 16,
   "id": "828c96af-f43a-4ed6-ba47-8ac73a47d56c",
   "metadata": {
    "execution": {
     "iopub.execute_input": "2025-08-05T16:09:49.904469Z",
     "iopub.status.busy": "2025-08-05T16:09:49.903965Z",
     "iopub.status.idle": "2025-08-05T16:09:49.950849Z",
     "shell.execute_reply": "2025-08-05T16:09:49.949920Z"
    },
    "papermill": {
     "duration": 0.058153,
     "end_time": "2025-08-05T16:09:49.952345",
     "exception": false,
     "start_time": "2025-08-05T16:09:49.894192",
     "status": "completed"
    },
    "tags": []
   },
   "outputs": [],
   "source": [
    "X_calib = siab_calib.iloc[:,4:164]\n",
    "y_calib = siab_calib.iloc[:, [3]]"
   ]
  },
  {
   "cell_type": "code",
   "execution_count": 17,
   "id": "c34be9c3-6bd6-476e-acd3-845840e303be",
   "metadata": {
    "execution": {
     "iopub.execute_input": "2025-08-05T16:09:49.972848Z",
     "iopub.status.busy": "2025-08-05T16:09:49.972103Z",
     "iopub.status.idle": "2025-08-05T16:09:50.022689Z",
     "shell.execute_reply": "2025-08-05T16:09:50.021889Z"
    },
    "papermill": {
     "duration": 0.061834,
     "end_time": "2025-08-05T16:09:50.024408",
     "exception": false,
     "start_time": "2025-08-05T16:09:49.962574",
     "status": "completed"
    },
    "tags": []
   },
   "outputs": [],
   "source": [
    "X_test = siab_test.iloc[:,4:164]\n",
    "y_true = siab_test.iloc[:, [3]]"
   ]
  },
  {
   "cell_type": "code",
   "execution_count": 18,
   "id": "e6c733c5",
   "metadata": {
    "execution": {
     "iopub.execute_input": "2025-08-05T16:09:50.046099Z",
     "iopub.status.busy": "2025-08-05T16:09:50.045784Z",
     "iopub.status.idle": "2025-08-05T16:09:50.137626Z",
     "shell.execute_reply": "2025-08-05T16:09:50.136853Z"
    },
    "papermill": {
     "duration": 0.103529,
     "end_time": "2025-08-05T16:09:50.139138",
     "exception": false,
     "start_time": "2025-08-05T16:09:50.035609",
     "status": "completed"
    },
    "tags": []
   },
   "outputs": [],
   "source": [
    "# Auxiliary data needed downstream in the pipeline\n",
    "\n",
    "org_train = X_train.copy()\n",
    "org_test = X_test.copy()\n",
    "org_calib = X_calib.copy()"
   ]
  },
  {
   "cell_type": "markdown",
   "id": "0a4a1b33",
   "metadata": {
    "papermill": {
     "duration": 0.010523,
     "end_time": "2025-08-05T16:09:50.159386",
     "exception": false,
     "start_time": "2025-08-05T16:09:50.148863",
     "status": "completed"
    },
    "tags": []
   },
   "source": [
    "# Preprocessing Data"
   ]
  },
  {
   "cell_type": "code",
   "execution_count": 19,
   "id": "ca879031",
   "metadata": {
    "execution": {
     "iopub.execute_input": "2025-08-05T16:09:50.178902Z",
     "iopub.status.busy": "2025-08-05T16:09:50.178532Z",
     "iopub.status.idle": "2025-08-05T16:09:50.183277Z",
     "shell.execute_reply": "2025-08-05T16:09:50.182390Z"
    },
    "papermill": {
     "duration": 0.01629,
     "end_time": "2025-08-05T16:09:50.184683",
     "exception": false,
     "start_time": "2025-08-05T16:09:50.168393",
     "status": "completed"
    },
    "tags": []
   },
   "outputs": [],
   "source": [
    "# EXCLUDE PROTECTED FEATURES\n",
    "# ----------------------\n",
    "# \"exclude_features\": \"none\", # \"nationality\", \"sex\", \"nationality-sex\"\n",
    "\n",
    "excluded_features = universe[\"exclude_features\"].split(\"-\") # split, e.g.: \"nationality-sex\" -> [\"nationality\", \"sex\"]\n",
    "excluded_features_dictionary = {\n",
    "    \"nationality\": [\"maxdeutsch1\", \"maxdeutsch.Missing.\"],\n",
    "    \"sex\": [\"frau1\"],\n",
    "    \"age\": [\"age\"],\n",
    "}"
   ]
  },
  {
   "cell_type": "code",
   "execution_count": 20,
   "id": "b745ac60",
   "metadata": {
    "execution": {
     "iopub.execute_input": "2025-08-05T16:09:50.204640Z",
     "iopub.status.busy": "2025-08-05T16:09:50.204344Z",
     "iopub.status.idle": "2025-08-05T16:09:50.208896Z",
     "shell.execute_reply": "2025-08-05T16:09:50.208042Z"
    },
    "papermill": {
     "duration": 0.015925,
     "end_time": "2025-08-05T16:09:50.210447",
     "exception": false,
     "start_time": "2025-08-05T16:09:50.194522",
     "status": "completed"
    },
    "tags": []
   },
   "outputs": [],
   "source": [
    "# Code nice names to column names\n",
    "\n",
    "excluded_features_columns = [\n",
    "    excluded_features_dictionary[f] for f in excluded_features if len(f) > 0 and f != \"none\"\n",
    "]"
   ]
  },
  {
   "cell_type": "code",
   "execution_count": 21,
   "id": "f84f73a2",
   "metadata": {
    "execution": {
     "iopub.execute_input": "2025-08-05T16:09:50.231002Z",
     "iopub.status.busy": "2025-08-05T16:09:50.230501Z",
     "iopub.status.idle": "2025-08-05T16:09:50.235861Z",
     "shell.execute_reply": "2025-08-05T16:09:50.235090Z"
    },
    "papermill": {
     "duration": 0.016861,
     "end_time": "2025-08-05T16:09:50.237265",
     "exception": false,
     "start_time": "2025-08-05T16:09:50.220404",
     "status": "completed"
    },
    "tags": []
   },
   "outputs": [],
   "source": [
    "from utils import flatten_once\n",
    "\n",
    "excluded_features_columns = flatten_once(excluded_features_columns)"
   ]
  },
  {
   "cell_type": "code",
   "execution_count": 22,
   "id": "884dea22",
   "metadata": {
    "execution": {
     "iopub.execute_input": "2025-08-05T16:09:50.257051Z",
     "iopub.status.busy": "2025-08-05T16:09:50.256553Z",
     "iopub.status.idle": "2025-08-05T16:09:50.261228Z",
     "shell.execute_reply": "2025-08-05T16:09:50.260394Z"
    },
    "papermill": {
     "duration": 0.015888,
     "end_time": "2025-08-05T16:09:50.262717",
     "exception": false,
     "start_time": "2025-08-05T16:09:50.246829",
     "status": "completed"
    },
    "tags": []
   },
   "outputs": [],
   "source": [
    "if len(excluded_features_columns) > 0:\n",
    "    print(f\"Dropping features: {excluded_features_columns}\")\n",
    "    X_train.drop(excluded_features_columns, axis=1, inplace=True)"
   ]
  },
  {
   "cell_type": "code",
   "execution_count": 23,
   "id": "95ab8b16",
   "metadata": {
    "execution": {
     "iopub.execute_input": "2025-08-05T16:09:50.283337Z",
     "iopub.status.busy": "2025-08-05T16:09:50.282838Z",
     "iopub.status.idle": "2025-08-05T16:09:50.287053Z",
     "shell.execute_reply": "2025-08-05T16:09:50.286279Z"
    },
    "papermill": {
     "duration": 0.015315,
     "end_time": "2025-08-05T16:09:50.288488",
     "exception": false,
     "start_time": "2025-08-05T16:09:50.273173",
     "status": "completed"
    },
    "tags": []
   },
   "outputs": [],
   "source": [
    "if len(excluded_features_columns) > 0:\n",
    "    print(f\"Dropping features: {excluded_features_columns}\")\n",
    "    X_test.drop(excluded_features_columns, axis=1, inplace=True)"
   ]
  },
  {
   "cell_type": "code",
   "execution_count": 24,
   "id": "1853aaf5-fb9f-46cb-a2b5-8ea4ae2237e4",
   "metadata": {
    "execution": {
     "iopub.execute_input": "2025-08-05T16:09:50.308513Z",
     "iopub.status.busy": "2025-08-05T16:09:50.307996Z",
     "iopub.status.idle": "2025-08-05T16:09:50.312082Z",
     "shell.execute_reply": "2025-08-05T16:09:50.311355Z"
    },
    "papermill": {
     "duration": 0.015303,
     "end_time": "2025-08-05T16:09:50.313580",
     "exception": false,
     "start_time": "2025-08-05T16:09:50.298277",
     "status": "completed"
    },
    "tags": []
   },
   "outputs": [],
   "source": [
    "if len(excluded_features_columns) > 0:\n",
    "    print(f\"Dropping features: {excluded_features_columns}\")\n",
    "    X_calib.drop(excluded_features_columns, axis=1, inplace=True)"
   ]
  },
  {
   "cell_type": "code",
   "execution_count": 25,
   "id": "76c4dc6d",
   "metadata": {
    "execution": {
     "iopub.execute_input": "2025-08-05T16:09:50.334159Z",
     "iopub.status.busy": "2025-08-05T16:09:50.333936Z",
     "iopub.status.idle": "2025-08-05T16:09:50.338294Z",
     "shell.execute_reply": "2025-08-05T16:09:50.337405Z"
    },
    "papermill": {
     "duration": 0.015646,
     "end_time": "2025-08-05T16:09:50.339791",
     "exception": false,
     "start_time": "2025-08-05T16:09:50.324145",
     "status": "completed"
    },
    "tags": []
   },
   "outputs": [],
   "source": [
    "# EXCLUDE CERTAIN SUBGROUPS\n",
    "# ----------------------\n",
    "\n",
    "mode = universe.get(\"exclude_subgroups\", \"keep-all\") \n",
    "# Fetches the exclude_subgroups setting from the universe dict.\n",
    "# Defaults to \"keep-all\" if the key is missing."
   ]
  },
  {
   "cell_type": "code",
   "execution_count": 26,
   "id": "21994072",
   "metadata": {
    "execution": {
     "iopub.execute_input": "2025-08-05T16:09:50.359850Z",
     "iopub.status.busy": "2025-08-05T16:09:50.359465Z",
     "iopub.status.idle": "2025-08-05T16:09:50.365640Z",
     "shell.execute_reply": "2025-08-05T16:09:50.364846Z"
    },
    "papermill": {
     "duration": 0.017354,
     "end_time": "2025-08-05T16:09:50.367093",
     "exception": false,
     "start_time": "2025-08-05T16:09:50.349739",
     "status": "completed"
    },
    "tags": []
   },
   "outputs": [],
   "source": [
    "if mode == \"keep-all\":\n",
    "    keep_mask = pd.Series(True, index=org_train.index)\n",
    "\n",
    "# org_train contains the original feature columns from features_org (in Simson)\n",
    "# features_org contains unprocessed features, for me X_train at beginning ???\n",
    "# For keep-all, creates a boolean Series (keep_mask) of all True, so no rows are removed.\n",
    "\n",
    "elif mode == \"drop-non-german\":\n",
    "    keep_mask = org_train[\"maxdeutsch1\"] == 1 # ??? what about missing values?\n",
    "\n",
    "else:\n",
    "    raise ValueError(f\"Unsupported mode for exclude_subgroups: {mode}\")"
   ]
  },
  {
   "cell_type": "code",
   "execution_count": 27,
   "id": "71651440",
   "metadata": {
    "execution": {
     "iopub.execute_input": "2025-08-05T16:09:50.387419Z",
     "iopub.status.busy": "2025-08-05T16:09:50.386913Z",
     "iopub.status.idle": "2025-08-05T16:09:50.391978Z",
     "shell.execute_reply": "2025-08-05T16:09:50.391197Z"
    },
    "papermill": {
     "duration": 0.016838,
     "end_time": "2025-08-05T16:09:50.393792",
     "exception": false,
     "start_time": "2025-08-05T16:09:50.376954",
     "status": "completed"
    },
    "tags": []
   },
   "outputs": [],
   "source": [
    "n_drop = (~keep_mask).sum() # Calculates how many rows are set to be dropped\n",
    "if n_drop > 0:\n",
    "    pct = n_drop / len(keep_mask) * 100\n",
    "    print(f\"Dropping {n_drop} rows ({pct:.2f}%) where mode='{mode}'\")"
   ]
  },
  {
   "cell_type": "code",
   "execution_count": 28,
   "id": "5fb8eee5",
   "metadata": {
    "execution": {
     "iopub.execute_input": "2025-08-05T16:09:50.414325Z",
     "iopub.status.busy": "2025-08-05T16:09:50.413821Z",
     "iopub.status.idle": "2025-08-05T16:09:50.419176Z",
     "shell.execute_reply": "2025-08-05T16:09:50.418319Z"
    },
    "papermill": {
     "duration": 0.016779,
     "end_time": "2025-08-05T16:09:50.420673",
     "exception": false,
     "start_time": "2025-08-05T16:09:50.403894",
     "status": "completed"
    },
    "tags": []
   },
   "outputs": [],
   "source": [
    "X_train = X_train[keep_mask]"
   ]
  },
  {
   "cell_type": "code",
   "execution_count": 29,
   "id": "b202bb3a",
   "metadata": {
    "execution": {
     "iopub.execute_input": "2025-08-05T16:09:50.440800Z",
     "iopub.status.busy": "2025-08-05T16:09:50.440301Z",
     "iopub.status.idle": "2025-08-05T16:09:50.445214Z",
     "shell.execute_reply": "2025-08-05T16:09:50.444355Z"
    },
    "papermill": {
     "duration": 0.016243,
     "end_time": "2025-08-05T16:09:50.446736",
     "exception": false,
     "start_time": "2025-08-05T16:09:50.430493",
     "status": "completed"
    },
    "tags": []
   },
   "outputs": [],
   "source": [
    "y_train = y_train[keep_mask]"
   ]
  },
  {
   "cell_type": "markdown",
   "id": "493e2ac3",
   "metadata": {
    "papermill": {
     "duration": 0.009464,
     "end_time": "2025-08-05T16:09:50.466272",
     "exception": false,
     "start_time": "2025-08-05T16:09:50.456808",
     "status": "completed"
    },
    "tags": []
   },
   "source": [
    "# Model Training"
   ]
  },
  {
   "cell_type": "code",
   "execution_count": 30,
   "id": "679e1268",
   "metadata": {
    "execution": {
     "iopub.execute_input": "2025-08-05T16:09:50.485936Z",
     "iopub.status.busy": "2025-08-05T16:09:50.485410Z",
     "iopub.status.idle": "2025-08-05T16:09:50.557693Z",
     "shell.execute_reply": "2025-08-05T16:09:50.556912Z"
    },
    "papermill": {
     "duration": 0.083481,
     "end_time": "2025-08-05T16:09:50.559096",
     "exception": false,
     "start_time": "2025-08-05T16:09:50.475615",
     "status": "completed"
    },
    "tags": []
   },
   "outputs": [],
   "source": [
    "from sklearn.linear_model import LogisticRegression\n",
    "from sklearn.ensemble import GradientBoostingClassifier, RandomForestClassifier\n",
    "\n",
    "if (universe[\"model\"] == \"logreg\"):\n",
    "    model = LogisticRegression() #penalty=\"none\", solver=\"newton-cg\", max_iter=1) # include random_state=19 ?\n",
    "elif (universe[\"model\"] == \"penalized_logreg\"):\n",
    "    model = LogisticRegression(penalty=\"l2\", C=0.1) #, solver=\"newton-cg\", max_iter=1)\n",
    "elif (universe[\"model\"] == \"rf\"):\n",
    "    model = RandomForestClassifier() # n_estimators=100, n_jobs=-1\n",
    "elif (universe[\"model\"] == \"gbm\"):\n",
    "    model = GradientBoostingClassifier()\n",
    "elif (universe[\"model\"] == \"elasticnet\"):\n",
    "    model = LogisticRegression(penalty = 'elasticnet', solver = 'saga', l1_ratio = 0.5) # max_iter=5000\n",
    "else:\n",
    "    raise \"Unsupported universe.model\""
   ]
  },
  {
   "cell_type": "code",
   "execution_count": 31,
   "id": "0cc8f744",
   "metadata": {
    "execution": {
     "iopub.execute_input": "2025-08-05T16:09:50.579664Z",
     "iopub.status.busy": "2025-08-05T16:09:50.579155Z",
     "iopub.status.idle": "2025-08-05T16:09:50.584489Z",
     "shell.execute_reply": "2025-08-05T16:09:50.583669Z"
    },
    "papermill": {
     "duration": 0.016764,
     "end_time": "2025-08-05T16:09:50.585893",
     "exception": false,
     "start_time": "2025-08-05T16:09:50.569129",
     "status": "completed"
    },
    "tags": []
   },
   "outputs": [],
   "source": [
    "import numpy as np\n",
    "from sklearn.pipeline import Pipeline\n",
    "from sklearn.preprocessing import StandardScaler\n",
    "\n",
    "model = Pipeline([\n",
    "    #(\"continuous_processor\", continuous_processor),\n",
    "    #(\"categorical_preprocessor\", categorical_preprocessor),\n",
    "    (\"scale\", StandardScaler() if universe[\"scale\"] == \"scale\" else None), \n",
    "    (\"model\", model),\n",
    "])"
   ]
  },
  {
   "cell_type": "code",
   "execution_count": 32,
   "id": "9442c04d",
   "metadata": {
    "execution": {
     "iopub.execute_input": "2025-08-05T16:09:50.607450Z",
     "iopub.status.busy": "2025-08-05T16:09:50.606939Z",
     "iopub.status.idle": "2025-08-05T16:09:50.658845Z",
     "shell.execute_reply": "2025-08-05T16:09:50.658115Z"
    },
    "papermill": {
     "duration": 0.063234,
     "end_time": "2025-08-05T16:09:50.660050",
     "exception": false,
     "start_time": "2025-08-05T16:09:50.596816",
     "status": "completed"
    },
    "tags": []
   },
   "outputs": [
    {
     "name": "stderr",
     "output_type": "stream",
     "text": [
      "/dss/dsshome1/0C/ra93lal2/.local/share/virtualenvs/CMA_Fairness_v2-3j10GkSs/lib/python3.10/site-packages/sklearn/linear_model/_logistic.py:444: ConvergenceWarning: lbfgs failed to converge (status=1):\n",
      "STOP: TOTAL NO. of ITERATIONS REACHED LIMIT.\n",
      "\n",
      "Increase the number of iterations (max_iter) or scale the data as shown in:\n",
      "    https://scikit-learn.org/stable/modules/preprocessing.html\n",
      "Please also refer to the documentation for alternative solver options:\n",
      "    https://scikit-learn.org/stable/modules/linear_model.html#logistic-regression\n",
      "  n_iter_i = _check_optimize_result(\n"
     ]
    },
    {
     "data": {
      "text/html": [
       "<style>#sk-container-id-1 {color: black;background-color: white;}#sk-container-id-1 pre{padding: 0;}#sk-container-id-1 div.sk-toggleable {background-color: white;}#sk-container-id-1 label.sk-toggleable__label {cursor: pointer;display: block;width: 100%;margin-bottom: 0;padding: 0.3em;box-sizing: border-box;text-align: center;}#sk-container-id-1 label.sk-toggleable__label-arrow:before {content: \"▸\";float: left;margin-right: 0.25em;color: #696969;}#sk-container-id-1 label.sk-toggleable__label-arrow:hover:before {color: black;}#sk-container-id-1 div.sk-estimator:hover label.sk-toggleable__label-arrow:before {color: black;}#sk-container-id-1 div.sk-toggleable__content {max-height: 0;max-width: 0;overflow: hidden;text-align: left;background-color: #f0f8ff;}#sk-container-id-1 div.sk-toggleable__content pre {margin: 0.2em;color: black;border-radius: 0.25em;background-color: #f0f8ff;}#sk-container-id-1 input.sk-toggleable__control:checked~div.sk-toggleable__content {max-height: 200px;max-width: 100%;overflow: auto;}#sk-container-id-1 input.sk-toggleable__control:checked~label.sk-toggleable__label-arrow:before {content: \"▾\";}#sk-container-id-1 div.sk-estimator input.sk-toggleable__control:checked~label.sk-toggleable__label {background-color: #d4ebff;}#sk-container-id-1 div.sk-label input.sk-toggleable__control:checked~label.sk-toggleable__label {background-color: #d4ebff;}#sk-container-id-1 input.sk-hidden--visually {border: 0;clip: rect(1px 1px 1px 1px);clip: rect(1px, 1px, 1px, 1px);height: 1px;margin: -1px;overflow: hidden;padding: 0;position: absolute;width: 1px;}#sk-container-id-1 div.sk-estimator {font-family: monospace;background-color: #f0f8ff;border: 1px dotted black;border-radius: 0.25em;box-sizing: border-box;margin-bottom: 0.5em;}#sk-container-id-1 div.sk-estimator:hover {background-color: #d4ebff;}#sk-container-id-1 div.sk-parallel-item::after {content: \"\";width: 100%;border-bottom: 1px solid gray;flex-grow: 1;}#sk-container-id-1 div.sk-label:hover label.sk-toggleable__label {background-color: #d4ebff;}#sk-container-id-1 div.sk-serial::before {content: \"\";position: absolute;border-left: 1px solid gray;box-sizing: border-box;top: 0;bottom: 0;left: 50%;z-index: 0;}#sk-container-id-1 div.sk-serial {display: flex;flex-direction: column;align-items: center;background-color: white;padding-right: 0.2em;padding-left: 0.2em;position: relative;}#sk-container-id-1 div.sk-item {position: relative;z-index: 1;}#sk-container-id-1 div.sk-parallel {display: flex;align-items: stretch;justify-content: center;background-color: white;position: relative;}#sk-container-id-1 div.sk-item::before, #sk-container-id-1 div.sk-parallel-item::before {content: \"\";position: absolute;border-left: 1px solid gray;box-sizing: border-box;top: 0;bottom: 0;left: 50%;z-index: -1;}#sk-container-id-1 div.sk-parallel-item {display: flex;flex-direction: column;z-index: 1;position: relative;background-color: white;}#sk-container-id-1 div.sk-parallel-item:first-child::after {align-self: flex-end;width: 50%;}#sk-container-id-1 div.sk-parallel-item:last-child::after {align-self: flex-start;width: 50%;}#sk-container-id-1 div.sk-parallel-item:only-child::after {width: 0;}#sk-container-id-1 div.sk-dashed-wrapped {border: 1px dashed gray;margin: 0 0.4em 0.5em 0.4em;box-sizing: border-box;padding-bottom: 0.4em;background-color: white;}#sk-container-id-1 div.sk-label label {font-family: monospace;font-weight: bold;display: inline-block;line-height: 1.2em;}#sk-container-id-1 div.sk-label-container {text-align: center;}#sk-container-id-1 div.sk-container {/* jupyter's `normalize.less` sets `[hidden] { display: none; }` but bootstrap.min.css set `[hidden] { display: none !important; }` so we also need the `!important` here to be able to override the default hidden behavior on the sphinx rendered scikit-learn.org. See: https://github.com/scikit-learn/scikit-learn/issues/21755 */display: inline-block !important;position: relative;}#sk-container-id-1 div.sk-text-repr-fallback {display: none;}</style><div id=\"sk-container-id-1\" class=\"sk-top-container\"><div class=\"sk-text-repr-fallback\"><pre>Pipeline(steps=[(&#x27;scale&#x27;, None), (&#x27;model&#x27;, LogisticRegression(C=0.1))])</pre><b>In a Jupyter environment, please rerun this cell to show the HTML representation or trust the notebook. <br />On GitHub, the HTML representation is unable to render, please try loading this page with nbviewer.org.</b></div><div class=\"sk-container\" hidden><div class=\"sk-item sk-dashed-wrapped\"><div class=\"sk-label-container\"><div class=\"sk-label sk-toggleable\"><input class=\"sk-toggleable__control sk-hidden--visually\" id=\"sk-estimator-id-1\" type=\"checkbox\" ><label for=\"sk-estimator-id-1\" class=\"sk-toggleable__label sk-toggleable__label-arrow\">Pipeline</label><div class=\"sk-toggleable__content\"><pre>Pipeline(steps=[(&#x27;scale&#x27;, None), (&#x27;model&#x27;, LogisticRegression(C=0.1))])</pre></div></div></div><div class=\"sk-serial\"><div class=\"sk-item\"><div class=\"sk-estimator sk-toggleable\"><input class=\"sk-toggleable__control sk-hidden--visually\" id=\"sk-estimator-id-2\" type=\"checkbox\" ><label for=\"sk-estimator-id-2\" class=\"sk-toggleable__label sk-toggleable__label-arrow\">None</label><div class=\"sk-toggleable__content\"><pre>None</pre></div></div></div><div class=\"sk-item\"><div class=\"sk-estimator sk-toggleable\"><input class=\"sk-toggleable__control sk-hidden--visually\" id=\"sk-estimator-id-3\" type=\"checkbox\" ><label for=\"sk-estimator-id-3\" class=\"sk-toggleable__label sk-toggleable__label-arrow\">LogisticRegression</label><div class=\"sk-toggleable__content\"><pre>LogisticRegression(C=0.1)</pre></div></div></div></div></div></div></div>"
      ],
      "text/plain": [
       "Pipeline(steps=[('scale', None), ('model', LogisticRegression(C=0.1))])"
      ]
     },
     "execution_count": 32,
     "metadata": {},
     "output_type": "execute_result"
    }
   ],
   "source": [
    "model.fit(X_train, y_train.values.ravel())"
   ]
  },
  {
   "cell_type": "code",
   "execution_count": 33,
   "id": "af59f8c0",
   "metadata": {
    "execution": {
     "iopub.execute_input": "2025-08-05T16:09:50.681741Z",
     "iopub.status.busy": "2025-08-05T16:09:50.681102Z",
     "iopub.status.idle": "2025-08-05T16:09:50.685504Z",
     "shell.execute_reply": "2025-08-05T16:09:50.684741Z"
    },
    "papermill": {
     "duration": 0.016142,
     "end_time": "2025-08-05T16:09:50.686932",
     "exception": false,
     "start_time": "2025-08-05T16:09:50.670790",
     "status": "completed"
    },
    "tags": []
   },
   "outputs": [],
   "source": [
    "from fairness_multiverse.universe import predict_w_threshold"
   ]
  },
  {
   "cell_type": "code",
   "execution_count": 34,
   "id": "a7cf2e16",
   "metadata": {
    "execution": {
     "iopub.execute_input": "2025-08-05T16:09:50.708009Z",
     "iopub.status.busy": "2025-08-05T16:09:50.707608Z",
     "iopub.status.idle": "2025-08-05T16:09:50.788882Z",
     "shell.execute_reply": "2025-08-05T16:09:50.787959Z"
    },
    "papermill": {
     "duration": 0.092993,
     "end_time": "2025-08-05T16:09:50.790284",
     "exception": false,
     "start_time": "2025-08-05T16:09:50.697291",
     "status": "completed"
    },
    "tags": []
   },
   "outputs": [
    {
     "data": {
      "text/plain": [
       "0.8498606621335414"
      ]
     },
     "execution_count": 34,
     "metadata": {},
     "output_type": "execute_result"
    }
   ],
   "source": [
    "probs_test = model.predict_proba(X_test)\n",
    "\n",
    "'''\n",
    "Below code returns a boolean array (or binary 0/1 array depending on how it’s used) where each element \n",
    "is True if the probability of class 1 is greater than or equal to the threshold, and False otherwise.\n",
    "'''\n",
    "y_pred_default = predict_w_threshold(probs_test, 0.5)\n",
    "\n",
    "from sklearn.metrics import accuracy_score\n",
    "\n",
    "# Naive prediction\n",
    "accuracy_score(y_true = y_true, y_pred = y_pred_default)"
   ]
  },
  {
   "cell_type": "code",
   "execution_count": 35,
   "id": "081964c3",
   "metadata": {
    "execution": {
     "iopub.execute_input": "2025-08-05T16:09:50.811450Z",
     "iopub.status.busy": "2025-08-05T16:09:50.811143Z",
     "iopub.status.idle": "2025-08-05T16:09:50.886060Z",
     "shell.execute_reply": "2025-08-05T16:09:50.885014Z"
    },
    "papermill": {
     "duration": 0.086671,
     "end_time": "2025-08-05T16:09:50.887371",
     "exception": false,
     "start_time": "2025-08-05T16:09:50.800700",
     "status": "completed"
    },
    "tags": []
   },
   "outputs": [
    {
     "data": {
      "text/plain": [
       "array([0, 0, 0, ..., 0, 0, 0])"
      ]
     },
     "execution_count": 35,
     "metadata": {},
     "output_type": "execute_result"
    }
   ],
   "source": [
    "model.predict(X_test)"
   ]
  },
  {
   "cell_type": "markdown",
   "id": "56c9705b",
   "metadata": {
    "papermill": {
     "duration": 0.009752,
     "end_time": "2025-08-05T16:09:50.907665",
     "exception": false,
     "start_time": "2025-08-05T16:09:50.897913",
     "status": "completed"
    },
    "tags": []
   },
   "source": [
    "# Conformal Prediction"
   ]
  },
  {
   "cell_type": "code",
   "execution_count": 36,
   "id": "160ec6ff",
   "metadata": {
    "execution": {
     "iopub.execute_input": "2025-08-05T16:09:50.928947Z",
     "iopub.status.busy": "2025-08-05T16:09:50.928183Z",
     "iopub.status.idle": "2025-08-05T16:09:50.932662Z",
     "shell.execute_reply": "2025-08-05T16:09:50.931842Z"
    },
    "papermill": {
     "duration": 0.016779,
     "end_time": "2025-08-05T16:09:50.934190",
     "exception": false,
     "start_time": "2025-08-05T16:09:50.917411",
     "status": "completed"
    },
    "tags": []
   },
   "outputs": [],
   "source": [
    "# Miscoverage level for conformal prediction (10% allowed error rate => 90% target coverage)\n",
    "alpha = 0.1"
   ]
  },
  {
   "cell_type": "code",
   "execution_count": 37,
   "id": "eadf4555-3dd3-440e-8e35-f82a4ad9f855",
   "metadata": {
    "execution": {
     "iopub.execute_input": "2025-08-05T16:09:50.956136Z",
     "iopub.status.busy": "2025-08-05T16:09:50.955737Z",
     "iopub.status.idle": "2025-08-05T16:09:51.030062Z",
     "shell.execute_reply": "2025-08-05T16:09:51.028929Z"
    },
    "papermill": {
     "duration": 0.086738,
     "end_time": "2025-08-05T16:09:51.032054",
     "exception": false,
     "start_time": "2025-08-05T16:09:50.945316",
     "status": "completed"
    },
    "tags": []
   },
   "outputs": [],
   "source": [
    "probs_calib = model.predict_proba(X_calib)"
   ]
  },
  {
   "cell_type": "code",
   "execution_count": 38,
   "id": "2ed93547-6d5d-4983-9b36-1ecb300da49a",
   "metadata": {
    "execution": {
     "iopub.execute_input": "2025-08-05T16:09:51.076521Z",
     "iopub.status.busy": "2025-08-05T16:09:51.076076Z",
     "iopub.status.idle": "2025-08-05T16:09:51.082702Z",
     "shell.execute_reply": "2025-08-05T16:09:51.081567Z"
    },
    "papermill": {
     "duration": 0.030312,
     "end_time": "2025-08-05T16:09:51.084490",
     "exception": false,
     "start_time": "2025-08-05T16:09:51.054178",
     "status": "completed"
    },
    "tags": []
   },
   "outputs": [],
   "source": [
    "y_calib = y_calib.values.ravel().astype(int)"
   ]
  },
  {
   "cell_type": "code",
   "execution_count": 39,
   "id": "65d1320d-f588-4b38-9072-62af1ae97f7d",
   "metadata": {
    "execution": {
     "iopub.execute_input": "2025-08-05T16:09:51.126995Z",
     "iopub.status.busy": "2025-08-05T16:09:51.126443Z",
     "iopub.status.idle": "2025-08-05T16:09:51.133974Z",
     "shell.execute_reply": "2025-08-05T16:09:51.132918Z"
    },
    "papermill": {
     "duration": 0.028429,
     "end_time": "2025-08-05T16:09:51.135886",
     "exception": false,
     "start_time": "2025-08-05T16:09:51.107457",
     "status": "completed"
    },
    "tags": []
   },
   "outputs": [],
   "source": [
    "from fairness_multiverse.conformal import compute_nc_scores\n",
    "\n",
    "# Compute nonconformity scores on calibration set (1 - probability of true class)\n",
    "nc_scores = compute_nc_scores(probs_calib, y_calib)"
   ]
  },
  {
   "cell_type": "code",
   "execution_count": 40,
   "id": "df3b8ca3-53b7-43d5-9667-7c85da7aeda2",
   "metadata": {
    "execution": {
     "iopub.execute_input": "2025-08-05T16:09:51.177081Z",
     "iopub.status.busy": "2025-08-05T16:09:51.176566Z",
     "iopub.status.idle": "2025-08-05T16:09:51.183435Z",
     "shell.execute_reply": "2025-08-05T16:09:51.182474Z"
    },
    "papermill": {
     "duration": 0.026494,
     "end_time": "2025-08-05T16:09:51.185141",
     "exception": false,
     "start_time": "2025-08-05T16:09:51.158647",
     "status": "completed"
    },
    "tags": []
   },
   "outputs": [],
   "source": [
    "from fairness_multiverse.conformal import find_threshold\n",
    "\n",
    "# Find conformal threshold q_hat for the given alpha (split conformal method)\n",
    "q_hat = find_threshold(nc_scores, alpha)"
   ]
  },
  {
   "cell_type": "code",
   "execution_count": 41,
   "id": "4d29e6c1-0ef6-4aa4-b8fe-4fe79b0d033a",
   "metadata": {
    "execution": {
     "iopub.execute_input": "2025-08-05T16:09:51.228941Z",
     "iopub.status.busy": "2025-08-05T16:09:51.228541Z",
     "iopub.status.idle": "2025-08-05T16:09:51.235161Z",
     "shell.execute_reply": "2025-08-05T16:09:51.234389Z"
    },
    "papermill": {
     "duration": 0.027881,
     "end_time": "2025-08-05T16:09:51.236538",
     "exception": false,
     "start_time": "2025-08-05T16:09:51.208657",
     "status": "completed"
    },
    "tags": []
   },
   "outputs": [
    {
     "data": {
      "text/plain": [
       "0.6965342614097649"
      ]
     },
     "execution_count": 41,
     "metadata": {},
     "output_type": "execute_result"
    }
   ],
   "source": [
    "q_hat"
   ]
  },
  {
   "cell_type": "code",
   "execution_count": 42,
   "id": "92460794-cdac-4be2-ba28-f28c0515a6fb",
   "metadata": {
    "execution": {
     "iopub.execute_input": "2025-08-05T16:09:51.260662Z",
     "iopub.status.busy": "2025-08-05T16:09:51.259901Z",
     "iopub.status.idle": "2025-08-05T16:09:52.357472Z",
     "shell.execute_reply": "2025-08-05T16:09:52.356547Z"
    },
    "papermill": {
     "duration": 1.110791,
     "end_time": "2025-08-05T16:09:52.359292",
     "exception": false,
     "start_time": "2025-08-05T16:09:51.248501",
     "status": "completed"
    },
    "tags": []
   },
   "outputs": [],
   "source": [
    "from fairness_multiverse.conformal import predict_conformal_sets\n",
    "\n",
    "# Generate prediction sets for each test example\n",
    "pred_sets = predict_conformal_sets(model, X_test, q_hat)"
   ]
  },
  {
   "cell_type": "code",
   "execution_count": 43,
   "id": "d90c9a65-e6db-4f5d-80cd-e68fb7e46829",
   "metadata": {
    "execution": {
     "iopub.execute_input": "2025-08-05T16:09:52.399770Z",
     "iopub.status.busy": "2025-08-05T16:09:52.398913Z",
     "iopub.status.idle": "2025-08-05T16:09:52.405145Z",
     "shell.execute_reply": "2025-08-05T16:09:52.404060Z"
    },
    "papermill": {
     "duration": 0.027332,
     "end_time": "2025-08-05T16:09:52.406970",
     "exception": false,
     "start_time": "2025-08-05T16:09:52.379638",
     "status": "completed"
    },
    "tags": []
   },
   "outputs": [],
   "source": [
    "y_true = y_true.squeeze()"
   ]
  },
  {
   "cell_type": "code",
   "execution_count": 44,
   "id": "3a58a54a-1e68-46b9-927a-df01f18aebc8",
   "metadata": {
    "execution": {
     "iopub.execute_input": "2025-08-05T16:09:52.450358Z",
     "iopub.status.busy": "2025-08-05T16:09:52.449615Z",
     "iopub.status.idle": "2025-08-05T16:09:53.607843Z",
     "shell.execute_reply": "2025-08-05T16:09:53.606910Z"
    },
    "papermill": {
     "duration": 1.181699,
     "end_time": "2025-08-05T16:09:53.609781",
     "exception": false,
     "start_time": "2025-08-05T16:09:52.428082",
     "status": "completed"
    },
    "tags": []
   },
   "outputs": [],
   "source": [
    "from fairness_multiverse.conformal import evaluate_sets\n",
    "\n",
    "# Evaluate coverage and average set size on test data\n",
    "metrics = evaluate_sets(pred_sets, y_true)"
   ]
  },
  {
   "cell_type": "markdown",
   "id": "2b569c12-9aaa-4c88-98c9-bbcd0cf3ebb8",
   "metadata": {
    "papermill": {
     "duration": 0.017885,
     "end_time": "2025-08-05T16:09:53.664982",
     "exception": false,
     "start_time": "2025-08-05T16:09:53.647097",
     "status": "completed"
    },
    "tags": []
   },
   "source": [
    "# CP Metrics"
   ]
  },
  {
   "cell_type": "code",
   "execution_count": 45,
   "id": "5ce0a5cb-201f-45a0-ade5-94c7f0bd6095",
   "metadata": {
    "execution": {
     "iopub.execute_input": "2025-08-05T16:09:53.711027Z",
     "iopub.status.busy": "2025-08-05T16:09:53.710516Z",
     "iopub.status.idle": "2025-08-05T16:09:53.717989Z",
     "shell.execute_reply": "2025-08-05T16:09:53.716949Z"
    },
    "papermill": {
     "duration": 0.031892,
     "end_time": "2025-08-05T16:09:53.719698",
     "exception": false,
     "start_time": "2025-08-05T16:09:53.687806",
     "status": "completed"
    },
    "tags": []
   },
   "outputs": [
    {
     "data": {
      "text/plain": [
       "{'coverage': 0.9092185932449003, 'avg_size': 1.222093412105674}"
      ]
     },
     "execution_count": 45,
     "metadata": {},
     "output_type": "execute_result"
    }
   ],
   "source": [
    "metrics"
   ]
  },
  {
   "cell_type": "code",
   "execution_count": 46,
   "id": "9b9a838d-31c9-430b-ae14-12baee460d17",
   "metadata": {
    "execution": {
     "iopub.execute_input": "2025-08-05T16:09:53.766280Z",
     "iopub.status.busy": "2025-08-05T16:09:53.765893Z",
     "iopub.status.idle": "2025-08-05T16:09:53.772875Z",
     "shell.execute_reply": "2025-08-05T16:09:53.771871Z"
    },
    "papermill": {
     "duration": 0.033973,
     "end_time": "2025-08-05T16:09:53.775805",
     "exception": false,
     "start_time": "2025-08-05T16:09:53.741832",
     "status": "completed"
    },
    "tags": []
   },
   "outputs": [],
   "source": [
    "example_universe = universe.copy()\n",
    "universe_training_year = example_universe.get(\"training_year\")\n",
    "universe_training_size = example_universe.get(\"training_size\")\n",
    "universe_scale = example_universe.get(\"scale\")\n",
    "universe_model = example_universe.get(\"model\")\n",
    "universe_exclude_features = example_universe.get(\"exclude_features\")\n",
    "universe_exclude_subgroups = example_universe.get(\"exclude_subgroups\")"
   ]
  },
  {
   "cell_type": "code",
   "execution_count": 47,
   "id": "f4b6a8ac-9dc0-4245-8a91-5b3b5999c4f9",
   "metadata": {
    "execution": {
     "iopub.execute_input": "2025-08-05T16:09:53.818626Z",
     "iopub.status.busy": "2025-08-05T16:09:53.818175Z",
     "iopub.status.idle": "2025-08-05T16:09:53.825198Z",
     "shell.execute_reply": "2025-08-05T16:09:53.824193Z"
    },
    "papermill": {
     "duration": 0.030177,
     "end_time": "2025-08-05T16:09:53.826942",
     "exception": false,
     "start_time": "2025-08-05T16:09:53.796765",
     "status": "completed"
    },
    "tags": []
   },
   "outputs": [],
   "source": [
    "cp_metrics_dict = {\n",
    "    \"universe_id\": [universe_id],\n",
    "    \"universe_training_year\": [universe_training_year],\n",
    "    \"universe_training_size\": [universe_training_size],\n",
    "    \"universe_scale\": [universe_scale],\n",
    "    \"universe_model\": [universe_model],\n",
    "    \"universe_exclude_features\": [universe_exclude_features],\n",
    "    \"universe_exclude_subgroups\": [universe_exclude_subgroups],\n",
    "    \"q_hat\": [q_hat],\n",
    "    \"coverage\": [metrics[\"coverage\"]],\n",
    "    \"avg_size\": [metrics[\"avg_size\"]],\n",
    "}"
   ]
  },
  {
   "cell_type": "code",
   "execution_count": 48,
   "id": "908acbb1-0371-4915-85ca-3fa520d2efe2",
   "metadata": {
    "execution": {
     "iopub.execute_input": "2025-08-05T16:09:53.869470Z",
     "iopub.status.busy": "2025-08-05T16:09:53.868818Z",
     "iopub.status.idle": "2025-08-05T16:09:53.876516Z",
     "shell.execute_reply": "2025-08-05T16:09:53.875408Z"
    },
    "papermill": {
     "duration": 0.030071,
     "end_time": "2025-08-05T16:09:53.878097",
     "exception": false,
     "start_time": "2025-08-05T16:09:53.848026",
     "status": "completed"
    },
    "tags": []
   },
   "outputs": [
    {
     "data": {
      "text/plain": [
       "{'universe_id': ['404b78312def499131702640f6b9b3a3'],\n",
       " 'universe_training_year': ['2014'],\n",
       " 'universe_training_size': ['1k'],\n",
       " 'universe_scale': ['do-not-scale'],\n",
       " 'universe_model': ['penalized_logreg'],\n",
       " 'universe_exclude_features': ['none'],\n",
       " 'universe_exclude_subgroups': ['keep-all'],\n",
       " 'q_hat': [0.6965342614097649],\n",
       " 'coverage': [0.9092185932449003],\n",
       " 'avg_size': [1.222093412105674]}"
      ]
     },
     "execution_count": 48,
     "metadata": {},
     "output_type": "execute_result"
    }
   ],
   "source": [
    "cp_metrics_dict"
   ]
  },
  {
   "cell_type": "code",
   "execution_count": 49,
   "id": "33007efc-14e9-4ec6-97ac-56a455c82265",
   "metadata": {
    "execution": {
     "iopub.execute_input": "2025-08-05T16:09:53.935987Z",
     "iopub.status.busy": "2025-08-05T16:09:53.935414Z",
     "iopub.status.idle": "2025-08-05T16:09:53.941430Z",
     "shell.execute_reply": "2025-08-05T16:09:53.940609Z"
    },
    "papermill": {
     "duration": 0.029222,
     "end_time": "2025-08-05T16:09:53.943044",
     "exception": false,
     "start_time": "2025-08-05T16:09:53.913822",
     "status": "completed"
    },
    "tags": []
   },
   "outputs": [],
   "source": [
    "cp_metrics_df = pd.DataFrame(cp_metrics_dict)"
   ]
  },
  {
   "cell_type": "code",
   "execution_count": 50,
   "id": "db12611b-57b2-4910-b9d0-355adfd6e7bf",
   "metadata": {
    "execution": {
     "iopub.execute_input": "2025-08-05T16:09:53.988988Z",
     "iopub.status.busy": "2025-08-05T16:09:53.988627Z",
     "iopub.status.idle": "2025-08-05T16:09:54.007233Z",
     "shell.execute_reply": "2025-08-05T16:09:54.006168Z"
    },
    "papermill": {
     "duration": 0.042408,
     "end_time": "2025-08-05T16:09:54.008871",
     "exception": false,
     "start_time": "2025-08-05T16:09:53.966463",
     "status": "completed"
    },
    "tags": []
   },
   "outputs": [
    {
     "data": {
      "text/html": [
       "<div>\n",
       "<style scoped>\n",
       "    .dataframe tbody tr th:only-of-type {\n",
       "        vertical-align: middle;\n",
       "    }\n",
       "\n",
       "    .dataframe tbody tr th {\n",
       "        vertical-align: top;\n",
       "    }\n",
       "\n",
       "    .dataframe thead th {\n",
       "        text-align: right;\n",
       "    }\n",
       "</style>\n",
       "<table border=\"1\" class=\"dataframe\">\n",
       "  <thead>\n",
       "    <tr style=\"text-align: right;\">\n",
       "      <th></th>\n",
       "      <th>universe_id</th>\n",
       "      <th>universe_training_year</th>\n",
       "      <th>universe_training_size</th>\n",
       "      <th>universe_scale</th>\n",
       "      <th>universe_model</th>\n",
       "      <th>universe_exclude_features</th>\n",
       "      <th>universe_exclude_subgroups</th>\n",
       "      <th>q_hat</th>\n",
       "      <th>coverage</th>\n",
       "      <th>avg_size</th>\n",
       "    </tr>\n",
       "  </thead>\n",
       "  <tbody>\n",
       "    <tr>\n",
       "      <th>0</th>\n",
       "      <td>404b78312def499131702640f6b9b3a3</td>\n",
       "      <td>2014</td>\n",
       "      <td>1k</td>\n",
       "      <td>do-not-scale</td>\n",
       "      <td>penalized_logreg</td>\n",
       "      <td>none</td>\n",
       "      <td>keep-all</td>\n",
       "      <td>0.696534</td>\n",
       "      <td>0.909219</td>\n",
       "      <td>1.222093</td>\n",
       "    </tr>\n",
       "  </tbody>\n",
       "</table>\n",
       "</div>"
      ],
      "text/plain": [
       "                        universe_id universe_training_year  \\\n",
       "0  404b78312def499131702640f6b9b3a3                   2014   \n",
       "\n",
       "  universe_training_size universe_scale    universe_model  \\\n",
       "0                     1k   do-not-scale  penalized_logreg   \n",
       "\n",
       "  universe_exclude_features universe_exclude_subgroups     q_hat  coverage  \\\n",
       "0                      none                   keep-all  0.696534  0.909219   \n",
       "\n",
       "   avg_size  \n",
       "0  1.222093  "
      ]
     },
     "execution_count": 50,
     "metadata": {},
     "output_type": "execute_result"
    }
   ],
   "source": [
    "cp_metrics_df"
   ]
  },
  {
   "cell_type": "code",
   "execution_count": 51,
   "id": "b7fbde55-a0a1-47e4-9af6-fe4a17fa8c61",
   "metadata": {
    "execution": {
     "iopub.execute_input": "2025-08-05T16:09:54.051628Z",
     "iopub.status.busy": "2025-08-05T16:09:54.051224Z",
     "iopub.status.idle": "2025-08-05T16:09:54.057593Z",
     "shell.execute_reply": "2025-08-05T16:09:54.055435Z"
    },
    "papermill": {
     "duration": 0.029824,
     "end_time": "2025-08-05T16:09:54.059459",
     "exception": false,
     "start_time": "2025-08-05T16:09:54.029635",
     "status": "completed"
    },
    "tags": []
   },
   "outputs": [],
   "source": [
    "# Conditional Coverage & looking at subgroups"
   ]
  },
  {
   "cell_type": "code",
   "execution_count": 52,
   "id": "027ae886-68dd-4141-96c7-805a5450e1ef",
   "metadata": {
    "execution": {
     "iopub.execute_input": "2025-08-05T16:09:54.085207Z",
     "iopub.status.busy": "2025-08-05T16:09:54.084694Z",
     "iopub.status.idle": "2025-08-05T16:09:54.335627Z",
     "shell.execute_reply": "2025-08-05T16:09:54.334687Z"
    },
    "papermill": {
     "duration": 0.264616,
     "end_time": "2025-08-05T16:09:54.337195",
     "exception": false,
     "start_time": "2025-08-05T16:09:54.072579",
     "status": "completed"
    },
    "tags": []
   },
   "outputs": [],
   "source": [
    "from fairness_multiverse.conformal import build_cp_groups\n",
    "\n",
    "cp_groups_df = build_cp_groups(pred_sets, y_true, X_test.index, org_test)\n",
    "#needs universe_id and setting"
   ]
  },
  {
   "cell_type": "code",
   "execution_count": 53,
   "id": "6cbdab96-b2b2-45af-ad54-d0516db2e28d",
   "metadata": {
    "execution": {
     "iopub.execute_input": "2025-08-05T16:09:54.382564Z",
     "iopub.status.busy": "2025-08-05T16:09:54.382150Z",
     "iopub.status.idle": "2025-08-05T16:09:56.011336Z",
     "shell.execute_reply": "2025-08-05T16:09:56.010330Z"
    },
    "papermill": {
     "duration": 1.654638,
     "end_time": "2025-08-05T16:09:56.013459",
     "exception": false,
     "start_time": "2025-08-05T16:09:54.358821",
     "status": "completed"
    },
    "tags": []
   },
   "outputs": [],
   "source": [
    "# Define covered = 1 if true_label is in the predicted set\n",
    "cp_groups_df['covered'] = cp_groups_df.apply(\n",
    "    lambda r: int(r['true_label'] in r['pred_set']),\n",
    "    axis=1\n",
    ")"
   ]
  },
  {
   "cell_type": "code",
   "execution_count": 54,
   "id": "338ff529-1a6b-4b87-a931-8e4788d52aad",
   "metadata": {
    "execution": {
     "iopub.execute_input": "2025-08-05T16:09:56.060115Z",
     "iopub.status.busy": "2025-08-05T16:09:56.059206Z",
     "iopub.status.idle": "2025-08-05T16:09:56.064742Z",
     "shell.execute_reply": "2025-08-05T16:09:56.063813Z"
    },
    "papermill": {
     "duration": 0.028311,
     "end_time": "2025-08-05T16:09:56.066420",
     "exception": false,
     "start_time": "2025-08-05T16:09:56.038109",
     "status": "completed"
    },
    "tags": []
   },
   "outputs": [],
   "source": [
    "#cp_groups_df"
   ]
  },
  {
   "cell_type": "code",
   "execution_count": 55,
   "id": "90032e27-66df-4540-9169-4e89cfbaa758",
   "metadata": {
    "execution": {
     "iopub.execute_input": "2025-08-05T16:09:56.111394Z",
     "iopub.status.busy": "2025-08-05T16:09:56.110772Z",
     "iopub.status.idle": "2025-08-05T16:09:56.122391Z",
     "shell.execute_reply": "2025-08-05T16:09:56.121320Z"
    },
    "papermill": {
     "duration": 0.034763,
     "end_time": "2025-08-05T16:09:56.124093",
     "exception": false,
     "start_time": "2025-08-05T16:09:56.089330",
     "status": "completed"
    },
    "tags": []
   },
   "outputs": [],
   "source": [
    "subgroups = ['frau1','nongerman','nongerman_male','nongerman_female']\n",
    "\n",
    "# Conditional coverage for subgroup==1\n",
    "cond_coverage = {\n",
    "    g: cp_groups_df.loc[cp_groups_df[g]==1, 'covered'].mean()\n",
    "    for g in subgroups\n",
    "}"
   ]
  },
  {
   "cell_type": "code",
   "execution_count": 56,
   "id": "1e348fb1-b9c3-45bc-ba23-f016827a7e0d",
   "metadata": {
    "execution": {
     "iopub.execute_input": "2025-08-05T16:09:56.168151Z",
     "iopub.status.busy": "2025-08-05T16:09:56.167635Z",
     "iopub.status.idle": "2025-08-05T16:09:56.176406Z",
     "shell.execute_reply": "2025-08-05T16:09:56.175459Z"
    },
    "papermill": {
     "duration": 0.032284,
     "end_time": "2025-08-05T16:09:56.178006",
     "exception": false,
     "start_time": "2025-08-05T16:09:56.145722",
     "status": "completed"
    },
    "tags": []
   },
   "outputs": [
    {
     "data": {
      "text/plain": [
       "{'frau1': 0.9073460035045154,\n",
       " 'nongerman': 0.931061584236232,\n",
       " 'nongerman_male': 0.943979104746465,\n",
       " 'nongerman_female': 0.9096870342771982}"
      ]
     },
     "execution_count": 56,
     "metadata": {},
     "output_type": "execute_result"
    }
   ],
   "source": [
    "cond_coverage"
   ]
  },
  {
   "cell_type": "code",
   "execution_count": 57,
   "id": "f5093324-c3dd-4d63-bc4c-8d945e5c8bbb",
   "metadata": {
    "execution": {
     "iopub.execute_input": "2025-08-05T16:09:56.225154Z",
     "iopub.status.busy": "2025-08-05T16:09:56.223846Z",
     "iopub.status.idle": "2025-08-05T16:09:56.232295Z",
     "shell.execute_reply": "2025-08-05T16:09:56.231327Z"
    },
    "papermill": {
     "duration": 0.0338,
     "end_time": "2025-08-05T16:09:56.233857",
     "exception": false,
     "start_time": "2025-08-05T16:09:56.200057",
     "status": "completed"
    },
    "tags": []
   },
   "outputs": [],
   "source": [
    "for subgroup, cov in cond_coverage.items():\n",
    "    cp_metrics_df[f\"cov_{subgroup}\"] = cov"
   ]
  },
  {
   "cell_type": "code",
   "execution_count": 58,
   "id": "6e872e10-dbe5-49e8-b554-5030c98ff75d",
   "metadata": {
    "execution": {
     "iopub.execute_input": "2025-08-05T16:09:56.283014Z",
     "iopub.status.busy": "2025-08-05T16:09:56.282329Z",
     "iopub.status.idle": "2025-08-05T16:09:56.300404Z",
     "shell.execute_reply": "2025-08-05T16:09:56.299179Z"
    },
    "papermill": {
     "duration": 0.046249,
     "end_time": "2025-08-05T16:09:56.302106",
     "exception": false,
     "start_time": "2025-08-05T16:09:56.255857",
     "status": "completed"
    },
    "tags": []
   },
   "outputs": [
    {
     "data": {
      "text/html": [
       "<div>\n",
       "<style scoped>\n",
       "    .dataframe tbody tr th:only-of-type {\n",
       "        vertical-align: middle;\n",
       "    }\n",
       "\n",
       "    .dataframe tbody tr th {\n",
       "        vertical-align: top;\n",
       "    }\n",
       "\n",
       "    .dataframe thead th {\n",
       "        text-align: right;\n",
       "    }\n",
       "</style>\n",
       "<table border=\"1\" class=\"dataframe\">\n",
       "  <thead>\n",
       "    <tr style=\"text-align: right;\">\n",
       "      <th></th>\n",
       "      <th>universe_id</th>\n",
       "      <th>universe_training_year</th>\n",
       "      <th>universe_training_size</th>\n",
       "      <th>universe_scale</th>\n",
       "      <th>universe_model</th>\n",
       "      <th>universe_exclude_features</th>\n",
       "      <th>universe_exclude_subgroups</th>\n",
       "      <th>q_hat</th>\n",
       "      <th>coverage</th>\n",
       "      <th>avg_size</th>\n",
       "      <th>cov_frau1</th>\n",
       "      <th>cov_nongerman</th>\n",
       "      <th>cov_nongerman_male</th>\n",
       "      <th>cov_nongerman_female</th>\n",
       "    </tr>\n",
       "  </thead>\n",
       "  <tbody>\n",
       "    <tr>\n",
       "      <th>0</th>\n",
       "      <td>404b78312def499131702640f6b9b3a3</td>\n",
       "      <td>2014</td>\n",
       "      <td>1k</td>\n",
       "      <td>do-not-scale</td>\n",
       "      <td>penalized_logreg</td>\n",
       "      <td>none</td>\n",
       "      <td>keep-all</td>\n",
       "      <td>0.696534</td>\n",
       "      <td>0.909219</td>\n",
       "      <td>1.222093</td>\n",
       "      <td>0.907346</td>\n",
       "      <td>0.931062</td>\n",
       "      <td>0.943979</td>\n",
       "      <td>0.909687</td>\n",
       "    </tr>\n",
       "  </tbody>\n",
       "</table>\n",
       "</div>"
      ],
      "text/plain": [
       "                        universe_id universe_training_year  \\\n",
       "0  404b78312def499131702640f6b9b3a3                   2014   \n",
       "\n",
       "  universe_training_size universe_scale    universe_model  \\\n",
       "0                     1k   do-not-scale  penalized_logreg   \n",
       "\n",
       "  universe_exclude_features universe_exclude_subgroups     q_hat  coverage  \\\n",
       "0                      none                   keep-all  0.696534  0.909219   \n",
       "\n",
       "   avg_size  cov_frau1  cov_nongerman  cov_nongerman_male  \\\n",
       "0  1.222093   0.907346       0.931062            0.943979   \n",
       "\n",
       "   cov_nongerman_female  \n",
       "0              0.909687  "
      ]
     },
     "execution_count": 58,
     "metadata": {},
     "output_type": "execute_result"
    }
   ],
   "source": [
    "cp_metrics_df"
   ]
  },
  {
   "cell_type": "markdown",
   "id": "33774451",
   "metadata": {
    "papermill": {
     "duration": 0.025037,
     "end_time": "2025-08-05T16:09:56.355738",
     "exception": false,
     "start_time": "2025-08-05T16:09:56.330701",
     "status": "completed"
    },
    "tags": []
   },
   "source": [
    "# (Fairness) Metrics"
   ]
  },
  {
   "cell_type": "code",
   "execution_count": 59,
   "id": "debc5d62",
   "metadata": {
    "execution": {
     "iopub.execute_input": "2025-08-05T16:09:56.407783Z",
     "iopub.status.busy": "2025-08-05T16:09:56.406765Z",
     "iopub.status.idle": "2025-08-05T16:09:56.429787Z",
     "shell.execute_reply": "2025-08-05T16:09:56.428839Z"
    },
    "papermill": {
     "duration": 0.051429,
     "end_time": "2025-08-05T16:09:56.431936",
     "exception": false,
     "start_time": "2025-08-05T16:09:56.380507",
     "status": "completed"
    },
    "tags": []
   },
   "outputs": [],
   "source": [
    "# do I need to include maxdeutsch1.missing?\n",
    "\n",
    "import numpy as np\n",
    "\n",
    "colname_to_bin = \"maxdeutsch1\"\n",
    "majority_value = org_train[colname_to_bin].mode()[0]\n",
    "\n",
    "org_test[\"majmin\"] = np.where(org_test[colname_to_bin] == majority_value, \"majority\", \"minority\")"
   ]
  },
  {
   "cell_type": "code",
   "execution_count": 60,
   "id": "06a50de5",
   "metadata": {
    "execution": {
     "iopub.execute_input": "2025-08-05T16:09:56.484599Z",
     "iopub.status.busy": "2025-08-05T16:09:56.483932Z",
     "iopub.status.idle": "2025-08-05T16:09:59.006689Z",
     "shell.execute_reply": "2025-08-05T16:09:59.005641Z"
    },
    "papermill": {
     "duration": 2.550953,
     "end_time": "2025-08-05T16:09:59.008743",
     "exception": false,
     "start_time": "2025-08-05T16:09:56.457790",
     "status": "completed"
    },
    "tags": []
   },
   "outputs": [],
   "source": [
    "example_universe = universe.copy()\n",
    "example_universe[\"cutoff\"] = example_universe[\"cutoff\"][0]\n",
    "example_universe[\"eval_fairness_grouping\"] = example_universe[\"eval_fairness_grouping\"][0]\n",
    "fairness_dict, metric_frame = universe_analysis.compute_metrics(\n",
    "    example_universe,\n",
    "    y_pred_prob=probs_test,\n",
    "    y_test=y_true,\n",
    "    org_test=org_test,\n",
    ")"
   ]
  },
  {
   "cell_type": "markdown",
   "id": "f95d4e02",
   "metadata": {
    "papermill": {
     "duration": 0.024724,
     "end_time": "2025-08-05T16:09:59.062530",
     "exception": false,
     "start_time": "2025-08-05T16:09:59.037806",
     "status": "completed"
    },
    "tags": []
   },
   "source": [
    "# Overall"
   ]
  },
  {
   "cell_type": "markdown",
   "id": "bdee4871",
   "metadata": {
    "papermill": {
     "duration": 0.024775,
     "end_time": "2025-08-05T16:09:59.111893",
     "exception": false,
     "start_time": "2025-08-05T16:09:59.087118",
     "status": "completed"
    },
    "tags": []
   },
   "source": [
    "Fairness\n",
    "Main fairness target: Equalized Odds. Seems to be a better fit than equal opportunity, since we're not only interested in Y = 1. Seems to be a better fit than demographic parity, since we also care about accuracy, not just equal distribution of preds.\n",
    "\n",
    "Pick column for computation of fairness metrics\n",
    "\n",
    "Performance\n",
    "Overall performance measures, most interesting in relation to the measures split by group below"
   ]
  },
  {
   "cell_type": "code",
   "execution_count": 61,
   "id": "c4e067c6",
   "metadata": {
    "execution": {
     "iopub.execute_input": "2025-08-05T16:09:59.162466Z",
     "iopub.status.busy": "2025-08-05T16:09:59.161765Z",
     "iopub.status.idle": "2025-08-05T16:09:59.171468Z",
     "shell.execute_reply": "2025-08-05T16:09:59.170415Z"
    },
    "papermill": {
     "duration": 0.036869,
     "end_time": "2025-08-05T16:09:59.173170",
     "exception": false,
     "start_time": "2025-08-05T16:09:59.136301",
     "status": "completed"
    },
    "tags": []
   },
   "outputs": [
    {
     "data": {
      "text/plain": [
       "accuracy                   0.217445\n",
       "balanced accuracy          0.533135\n",
       "f1                         0.238967\n",
       "precision                  0.136514\n",
       "false positive rate        0.891499\n",
       "false negative rate        0.042231\n",
       "selection rate             0.900000\n",
       "count                  89710.000000\n",
       "dtype: float64"
      ]
     },
     "execution_count": 61,
     "metadata": {},
     "output_type": "execute_result"
    }
   ],
   "source": [
    "metric_frame.overall"
   ]
  },
  {
   "cell_type": "markdown",
   "id": "e968fe9d",
   "metadata": {
    "papermill": {
     "duration": 0.025004,
     "end_time": "2025-08-05T16:09:59.223497",
     "exception": false,
     "start_time": "2025-08-05T16:09:59.198493",
     "status": "completed"
    },
    "tags": []
   },
   "source": [
    "By Group"
   ]
  },
  {
   "cell_type": "code",
   "execution_count": 62,
   "id": "ec325bce",
   "metadata": {
    "execution": {
     "iopub.execute_input": "2025-08-05T16:09:59.274594Z",
     "iopub.status.busy": "2025-08-05T16:09:59.274122Z",
     "iopub.status.idle": "2025-08-05T16:09:59.290648Z",
     "shell.execute_reply": "2025-08-05T16:09:59.289599Z"
    },
    "papermill": {
     "duration": 0.043792,
     "end_time": "2025-08-05T16:09:59.292264",
     "exception": false,
     "start_time": "2025-08-05T16:09:59.248472",
     "status": "completed"
    },
    "tags": []
   },
   "outputs": [
    {
     "data": {
      "text/html": [
       "<div>\n",
       "<style scoped>\n",
       "    .dataframe tbody tr th:only-of-type {\n",
       "        vertical-align: middle;\n",
       "    }\n",
       "\n",
       "    .dataframe tbody tr th {\n",
       "        vertical-align: top;\n",
       "    }\n",
       "\n",
       "    .dataframe thead th {\n",
       "        text-align: right;\n",
       "    }\n",
       "</style>\n",
       "<table border=\"1\" class=\"dataframe\">\n",
       "  <thead>\n",
       "    <tr style=\"text-align: right;\">\n",
       "      <th></th>\n",
       "      <th>accuracy</th>\n",
       "      <th>balanced accuracy</th>\n",
       "      <th>f1</th>\n",
       "      <th>precision</th>\n",
       "      <th>false positive rate</th>\n",
       "      <th>false negative rate</th>\n",
       "      <th>selection rate</th>\n",
       "      <th>count</th>\n",
       "    </tr>\n",
       "    <tr>\n",
       "      <th>majmin</th>\n",
       "      <th></th>\n",
       "      <th></th>\n",
       "      <th></th>\n",
       "      <th></th>\n",
       "      <th></th>\n",
       "      <th></th>\n",
       "      <th></th>\n",
       "      <th></th>\n",
       "    </tr>\n",
       "  </thead>\n",
       "  <tbody>\n",
       "    <tr>\n",
       "      <th>majority</th>\n",
       "      <td>0.238326</td>\n",
       "      <td>0.540819</td>\n",
       "      <td>0.248291</td>\n",
       "      <td>0.142763</td>\n",
       "      <td>0.870332</td>\n",
       "      <td>0.048031</td>\n",
       "      <td>0.881119</td>\n",
       "      <td>69170.0</td>\n",
       "    </tr>\n",
       "    <tr>\n",
       "      <th>minority</th>\n",
       "      <td>0.147128</td>\n",
       "      <td>0.509364</td>\n",
       "      <td>0.209477</td>\n",
       "      <td>0.117270</td>\n",
       "      <td>0.961424</td>\n",
       "      <td>0.019848</td>\n",
       "      <td>0.963583</td>\n",
       "      <td>20540.0</td>\n",
       "    </tr>\n",
       "  </tbody>\n",
       "</table>\n",
       "</div>"
      ],
      "text/plain": [
       "          accuracy  balanced accuracy        f1  precision  \\\n",
       "majmin                                                       \n",
       "majority  0.238326           0.540819  0.248291   0.142763   \n",
       "minority  0.147128           0.509364  0.209477   0.117270   \n",
       "\n",
       "          false positive rate  false negative rate  selection rate    count  \n",
       "majmin                                                                       \n",
       "majority             0.870332             0.048031        0.881119  69170.0  \n",
       "minority             0.961424             0.019848        0.963583  20540.0  "
      ]
     },
     "execution_count": 62,
     "metadata": {},
     "output_type": "execute_result"
    }
   ],
   "source": [
    "metric_frame.by_group"
   ]
  },
  {
   "cell_type": "code",
   "execution_count": 63,
   "id": "a9ddbe63",
   "metadata": {
    "execution": {
     "iopub.execute_input": "2025-08-05T16:09:59.344139Z",
     "iopub.status.busy": "2025-08-05T16:09:59.343706Z",
     "iopub.status.idle": "2025-08-05T16:10:01.495033Z",
     "shell.execute_reply": "2025-08-05T16:10:01.494284Z"
    },
    "papermill": {
     "duration": 2.178411,
     "end_time": "2025-08-05T16:10:01.496318",
     "exception": false,
     "start_time": "2025-08-05T16:09:59.317907",
     "status": "completed"
    },
    "tags": []
   },
   "outputs": [
    {
     "data": {
      "text/plain": [
       "array([[<Axes: title={'center': 'accuracy'}, xlabel='majmin'>,\n",
       "        <Axes: title={'center': 'balanced accuracy'}, xlabel='majmin'>,\n",
       "        <Axes: title={'center': 'f1'}, xlabel='majmin'>],\n",
       "       [<Axes: title={'center': 'precision'}, xlabel='majmin'>,\n",
       "        <Axes: title={'center': 'false positive rate'}, xlabel='majmin'>,\n",
       "        <Axes: title={'center': 'false negative rate'}, xlabel='majmin'>],\n",
       "       [<Axes: title={'center': 'selection rate'}, xlabel='majmin'>,\n",
       "        <Axes: title={'center': 'count'}, xlabel='majmin'>,\n",
       "        <Axes: xlabel='majmin'>]], dtype=object)"
      ]
     },
     "execution_count": 63,
     "metadata": {},
     "output_type": "execute_result"
    },
    {
     "data": {
      "image/png": "[encoded data removed]",
      "text/plain": [
       "<Figure size 1200x800 with 9 Axes>"
      ]
     },
     "metadata": {},
     "output_type": "display_data"
    }
   ],
   "source": [
    "# In a graphic\n",
    "metric_frame.by_group.plot.bar(\n",
    "    subplots=True,\n",
    "    layout=[3, 3],\n",
    "    legend=False,\n",
    "    figsize=[12, 8],\n",
    "    title=\"Show all metrics\",\n",
    ")"
   ]
  },
  {
   "cell_type": "markdown",
   "id": "f57a0bac",
   "metadata": {
    "papermill": {
     "duration": 0.012234,
     "end_time": "2025-08-05T16:10:01.522390",
     "exception": false,
     "start_time": "2025-08-05T16:10:01.510156",
     "status": "completed"
    },
    "tags": []
   },
   "source": [
    "# Final Output"
   ]
  },
  {
   "cell_type": "code",
   "execution_count": 64,
   "id": "96d280a3",
   "metadata": {
    "execution": {
     "iopub.execute_input": "2025-08-05T16:10:01.548825Z",
     "iopub.status.busy": "2025-08-05T16:10:01.548129Z",
     "iopub.status.idle": "2025-08-05T16:10:01.555780Z",
     "shell.execute_reply": "2025-08-05T16:10:01.554899Z"
    },
    "papermill": {
     "duration": 0.022282,
     "end_time": "2025-08-05T16:10:01.557137",
     "exception": false,
     "start_time": "2025-08-05T16:10:01.534855",
     "status": "completed"
    },
    "tags": []
   },
   "outputs": [
    {
     "data": {
      "text/plain": [
       "4"
      ]
     },
     "execution_count": 64,
     "metadata": {},
     "output_type": "execute_result"
    }
   ],
   "source": [
    "sub_universes = universe_analysis.generate_sub_universes()\n",
    "len(sub_universes)"
   ]
  },
  {
   "cell_type": "code",
   "execution_count": 65,
   "id": "92adf7ba",
   "metadata": {
    "execution": {
     "iopub.execute_input": "2025-08-05T16:10:01.583202Z",
     "iopub.status.busy": "2025-08-05T16:10:01.582806Z",
     "iopub.status.idle": "2025-08-05T16:10:01.598195Z",
     "shell.execute_reply": "2025-08-05T16:10:01.597390Z"
    },
    "papermill": {
     "duration": 0.030052,
     "end_time": "2025-08-05T16:10:01.599625",
     "exception": false,
     "start_time": "2025-08-05T16:10:01.569573",
     "status": "completed"
    },
    "tags": []
   },
   "outputs": [],
   "source": [
    "def filter_sub_universe_data(sub_universe, org_test):\n",
    "    # Keep all rows — no filtering\n",
    "    keep_rows_mask = np.ones(org_test.shape[0], dtype=bool)\n",
    "\n",
    "    print(f\"[INFO] Keeping all rows: {keep_rows_mask.sum()} rows retained.\")\n",
    "    return keep_rows_mask"
   ]
  },
  {
   "cell_type": "code",
   "execution_count": 66,
   "id": "4a759155",
   "metadata": {
    "execution": {
     "iopub.execute_input": "2025-08-05T16:10:01.627404Z",
     "iopub.status.busy": "2025-08-05T16:10:01.626897Z",
     "iopub.status.idle": "2025-08-05T16:10:10.433482Z",
     "shell.execute_reply": "2025-08-05T16:10:10.432734Z"
    },
    "papermill": {
     "duration": 8.821629,
     "end_time": "2025-08-05T16:10:10.434832",
     "exception": false,
     "start_time": "2025-08-05T16:10:01.613203",
     "status": "completed"
    },
    "tags": []
   },
   "outputs": [
    {
     "name": "stdout",
     "output_type": "stream",
     "text": [
      "Stopping execution_time clock.\n",
      "[INFO] Keeping all rows: 89710 rows retained.\n"
     ]
    },
    {
     "name": "stdout",
     "output_type": "stream",
     "text": [
      "[INFO] Keeping all rows: 89710 rows retained.\n"
     ]
    },
    {
     "name": "stdout",
     "output_type": "stream",
     "text": [
      "[INFO] Keeping all rows: 89710 rows retained.\n"
     ]
    },
    {
     "name": "stdout",
     "output_type": "stream",
     "text": [
      "[INFO] Keeping all rows: 89710 rows retained.\n"
     ]
    },
    {
     "data": {
      "text/html": [
       "<div>\n",
       "<style scoped>\n",
       "    .dataframe tbody tr th:only-of-type {\n",
       "        vertical-align: middle;\n",
       "    }\n",
       "\n",
       "    .dataframe tbody tr th {\n",
       "        vertical-align: top;\n",
       "    }\n",
       "\n",
       "    .dataframe thead th {\n",
       "        text-align: right;\n",
       "    }\n",
       "</style>\n",
       "<table border=\"1\" class=\"dataframe\">\n",
       "  <thead>\n",
       "    <tr style=\"text-align: right;\">\n",
       "      <th></th>\n",
       "      <th>run_no</th>\n",
       "      <th>universe_id</th>\n",
       "      <th>universe_settings</th>\n",
       "      <th>execution_time</th>\n",
       "      <th>test_size_n</th>\n",
       "      <th>test_size_frac</th>\n",
       "      <th>fair_main_equalized_odds_difference</th>\n",
       "      <th>fair_main_equalized_odds_ratio</th>\n",
       "      <th>fair_main_demographic_parity_difference</th>\n",
       "      <th>fair_main_demographic_parity_ratio</th>\n",
       "      <th>...</th>\n",
       "      <th>perf_grp_precision_0</th>\n",
       "      <th>perf_grp_precision_1</th>\n",
       "      <th>perf_grp_false positive rate_0</th>\n",
       "      <th>perf_grp_false positive rate_1</th>\n",
       "      <th>perf_grp_false negative rate_0</th>\n",
       "      <th>perf_grp_false negative rate_1</th>\n",
       "      <th>perf_grp_selection rate_0</th>\n",
       "      <th>perf_grp_selection rate_1</th>\n",
       "      <th>perf_grp_count_0</th>\n",
       "      <th>perf_grp_count_1</th>\n",
       "    </tr>\n",
       "  </thead>\n",
       "  <tbody>\n",
       "    <tr>\n",
       "      <th>0</th>\n",
       "      <td>15</td>\n",
       "      <td>404b78312def499131702640f6b9b3a3</td>\n",
       "      <td>{\"cutoff\": \"quantile_0.1\", \"eval_fairness_grou...</td>\n",
       "      <td>23.841103</td>\n",
       "      <td>89710</td>\n",
       "      <td>1.0</td>\n",
       "      <td>0.091093</td>\n",
       "      <td>0.905252</td>\n",
       "      <td>0.082464</td>\n",
       "      <td>0.914419</td>\n",
       "      <td>...</td>\n",
       "      <td>NaN</td>\n",
       "      <td>NaN</td>\n",
       "      <td>NaN</td>\n",
       "      <td>NaN</td>\n",
       "      <td>NaN</td>\n",
       "      <td>NaN</td>\n",
       "      <td>NaN</td>\n",
       "      <td>NaN</td>\n",
       "      <td>NaN</td>\n",
       "      <td>NaN</td>\n",
       "    </tr>\n",
       "    <tr>\n",
       "      <th>0</th>\n",
       "      <td>15</td>\n",
       "      <td>404b78312def499131702640f6b9b3a3</td>\n",
       "      <td>{\"cutoff\": \"quantile_0.1\", \"eval_fairness_grou...</td>\n",
       "      <td>23.841103</td>\n",
       "      <td>89710</td>\n",
       "      <td>1.0</td>\n",
       "      <td>0.091093</td>\n",
       "      <td>0.905252</td>\n",
       "      <td>0.082464</td>\n",
       "      <td>0.914419</td>\n",
       "      <td>...</td>\n",
       "      <td>0.117270</td>\n",
       "      <td>0.142763</td>\n",
       "      <td>0.961424</td>\n",
       "      <td>0.870332</td>\n",
       "      <td>0.019848</td>\n",
       "      <td>0.048031</td>\n",
       "      <td>0.963583</td>\n",
       "      <td>0.881119</td>\n",
       "      <td>20540.0</td>\n",
       "      <td>69170.0</td>\n",
       "    </tr>\n",
       "    <tr>\n",
       "      <th>0</th>\n",
       "      <td>15</td>\n",
       "      <td>404b78312def499131702640f6b9b3a3</td>\n",
       "      <td>{\"cutoff\": \"quantile_0.25\", \"eval_fairness_gro...</td>\n",
       "      <td>23.841103</td>\n",
       "      <td>89710</td>\n",
       "      <td>1.0</td>\n",
       "      <td>0.209181</td>\n",
       "      <td>0.765761</td>\n",
       "      <td>0.191519</td>\n",
       "      <td>0.786647</td>\n",
       "      <td>...</td>\n",
       "      <td>NaN</td>\n",
       "      <td>NaN</td>\n",
       "      <td>NaN</td>\n",
       "      <td>NaN</td>\n",
       "      <td>NaN</td>\n",
       "      <td>NaN</td>\n",
       "      <td>NaN</td>\n",
       "      <td>NaN</td>\n",
       "      <td>NaN</td>\n",
       "      <td>NaN</td>\n",
       "    </tr>\n",
       "    <tr>\n",
       "      <th>0</th>\n",
       "      <td>15</td>\n",
       "      <td>404b78312def499131702640f6b9b3a3</td>\n",
       "      <td>{\"cutoff\": \"quantile_0.25\", \"eval_fairness_gro...</td>\n",
       "      <td>23.841103</td>\n",
       "      <td>89710</td>\n",
       "      <td>1.0</td>\n",
       "      <td>0.209181</td>\n",
       "      <td>0.765761</td>\n",
       "      <td>0.191519</td>\n",
       "      <td>0.786647</td>\n",
       "      <td>...</td>\n",
       "      <td>0.119861</td>\n",
       "      <td>0.159549</td>\n",
       "      <td>0.893022</td>\n",
       "      <td>0.683841</td>\n",
       "      <td>0.066723</td>\n",
       "      <td>0.147374</td>\n",
       "      <td>0.897663</td>\n",
       "      <td>0.706144</td>\n",
       "      <td>20540.0</td>\n",
       "      <td>69170.0</td>\n",
       "    </tr>\n",
       "  </tbody>\n",
       "</table>\n",
       "<p>4 rows × 50 columns</p>\n",
       "</div>"
      ],
      "text/plain": [
       "  run_no                       universe_id  \\\n",
       "0     15  404b78312def499131702640f6b9b3a3   \n",
       "0     15  404b78312def499131702640f6b9b3a3   \n",
       "0     15  404b78312def499131702640f6b9b3a3   \n",
       "0     15  404b78312def499131702640f6b9b3a3   \n",
       "\n",
       "                                   universe_settings  execution_time  \\\n",
       "0  {\"cutoff\": \"quantile_0.1\", \"eval_fairness_grou...       23.841103   \n",
       "0  {\"cutoff\": \"quantile_0.1\", \"eval_fairness_grou...       23.841103   \n",
       "0  {\"cutoff\": \"quantile_0.25\", \"eval_fairness_gro...       23.841103   \n",
       "0  {\"cutoff\": \"quantile_0.25\", \"eval_fairness_gro...       23.841103   \n",
       "\n",
       "   test_size_n  test_size_frac  fair_main_equalized_odds_difference  \\\n",
       "0        89710             1.0                             0.091093   \n",
       "0        89710             1.0                             0.091093   \n",
       "0        89710             1.0                             0.209181   \n",
       "0        89710             1.0                             0.209181   \n",
       "\n",
       "   fair_main_equalized_odds_ratio  fair_main_demographic_parity_difference  \\\n",
       "0                        0.905252                                 0.082464   \n",
       "0                        0.905252                                 0.082464   \n",
       "0                        0.765761                                 0.191519   \n",
       "0                        0.765761                                 0.191519   \n",
       "\n",
       "   fair_main_demographic_parity_ratio  ...  perf_grp_precision_0  \\\n",
       "0                            0.914419  ...                   NaN   \n",
       "0                            0.914419  ...              0.117270   \n",
       "0                            0.786647  ...                   NaN   \n",
       "0                            0.786647  ...              0.119861   \n",
       "\n",
       "   perf_grp_precision_1  perf_grp_false positive rate_0  \\\n",
       "0                   NaN                             NaN   \n",
       "0              0.142763                        0.961424   \n",
       "0                   NaN                             NaN   \n",
       "0              0.159549                        0.893022   \n",
       "\n",
       "   perf_grp_false positive rate_1  perf_grp_false negative rate_0  \\\n",
       "0                             NaN                             NaN   \n",
       "0                        0.870332                        0.019848   \n",
       "0                             NaN                             NaN   \n",
       "0                        0.683841                        0.066723   \n",
       "\n",
       "   perf_grp_false negative rate_1  perf_grp_selection rate_0  \\\n",
       "0                             NaN                        NaN   \n",
       "0                        0.048031                   0.963583   \n",
       "0                             NaN                        NaN   \n",
       "0                        0.147374                   0.897663   \n",
       "\n",
       "   perf_grp_selection rate_1  perf_grp_count_0  perf_grp_count_1  \n",
       "0                        NaN               NaN               NaN  \n",
       "0                   0.881119           20540.0           69170.0  \n",
       "0                        NaN               NaN               NaN  \n",
       "0                   0.706144           20540.0           69170.0  \n",
       "\n",
       "[4 rows x 50 columns]"
      ]
     },
     "execution_count": 66,
     "metadata": {},
     "output_type": "execute_result"
    }
   ],
   "source": [
    "final_output = universe_analysis.generate_final_output(\n",
    "    y_pred_prob=probs_test,\n",
    "    y_test=y_true,\n",
    "    org_test=org_test,\n",
    "    filter_data=filter_sub_universe_data,\n",
    "    cp_metrics_df=cp_metrics_df,\n",
    "    save=True,\n",
    ")\n",
    "final_output"
   ]
  }
 ],
 "metadata": {
  "celltoolbar": "Tags",
  "kernelspec": {
   "display_name": "Python (CMA Fairness)",
   "language": "python",
   "name": "cma_fair_env"
  },
  "language_info": {
   "codemirror_mode": {
    "name": "ipython",
    "version": 3
   },
   "file_extension": ".py",
   "mimetype": "text/x-python",
   "name": "python",
   "nbconvert_exporter": "python",
   "pygments_lexer": "ipython3",
   "version": "3.10.12"
  },
  "papermill": {
   "default_parameters": {},
   "duration": 36.650103,
   "end_time": "2025-08-05T16:10:11.067392",
   "environment_variables": {},
   "exception": null,
   "input_path": "universe_analysis.ipynb",
   "output_path": "output/runs/15/notebooks/m_15-404b78312def499131702640f6b9b3a3.ipynb",
   "parameters": {
    "output_dir": "output",
    "run_no": "15",
    "seed": "2023",
    "universe": "{\"cutoff\": [\"quantile_0.1\", \"quantile_0.25\"], \"eval_fairness_grouping\": [\"majority-minority\", \"nationality-all\"], \"exclude_features\": \"none\", \"exclude_subgroups\": \"keep-all\", \"model\": \"penalized_logreg\", \"scale\": \"do-not-scale\", \"training_size\": \"1k\", \"training_year\": \"2014\"}",
    "universe_id": "404b78312def499131702640f6b9b3a3"
   },
   "start_time": "2025-08-05T16:09:34.417289",
   "version": "2.6.0"
  }
 },
 "nbformat": 4,
 "nbformat_minor": 5
}