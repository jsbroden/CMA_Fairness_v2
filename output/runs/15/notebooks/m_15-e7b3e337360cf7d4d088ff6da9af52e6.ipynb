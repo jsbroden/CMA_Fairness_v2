{
 "cells": [
  {
   "cell_type": "code",
   "execution_count": 1,
   "id": "f159f837-637b-42ba-96b5-ec9a68c44524",
   "metadata": {
    "execution": {
     "iopub.execute_input": "2025-08-05T15:23:34.555846Z",
     "iopub.status.busy": "2025-08-05T15:23:34.555500Z",
     "iopub.status.idle": "2025-08-05T15:23:34.566142Z",
     "shell.execute_reply": "2025-08-05T15:23:34.565145Z"
    },
    "papermill": {
     "duration": 0.022084,
     "end_time": "2025-08-05T15:23:34.567793",
     "exception": false,
     "start_time": "2025-08-05T15:23:34.545709",
     "status": "completed"
    },
    "tags": []
   },
   "outputs": [
    {
     "name": "stdout",
     "output_type": "stream",
     "text": [
      "/dss/dsshome1/0C/ra93lal2/cma/CMA_Fairness_v2\n"
     ]
    },
    {
     "name": "stderr",
     "output_type": "stream",
     "text": [
      "/dss/dsshome1/0C/ra93lal2/.local/share/virtualenvs/CMA_Fairness_v2-3j10GkSs/lib/python3.10/site-packages/IPython/core/magics/osm.py:393: UserWarning: This is now an optional IPython functionality, using bookmarks requires you to install the `pickleshare` library.\n",
      "  bkms = self.shell.db.get('bookmarks', {})\n",
      "/dss/dsshome1/0C/ra93lal2/.local/share/virtualenvs/CMA_Fairness_v2-3j10GkSs/lib/python3.10/site-packages/IPython/core/magics/osm.py:417: UserWarning: This is now an optional IPython functionality, setting dhist requires you to install the `pickleshare` library.\n",
      "  self.shell.db['dhist'] = compress_dhist(dhist)[-100:]\n"
     ]
    }
   ],
   "source": [
    "%cd ~/cma/CMA_Fairness_v2"
   ]
  },
  {
   "cell_type": "markdown",
   "id": "de2603b9",
   "metadata": {
    "papermill": {
     "duration": 0.008648,
     "end_time": "2025-08-05T15:23:34.586414",
     "exception": false,
     "start_time": "2025-08-05T15:23:34.577766",
     "status": "completed"
    },
    "tags": []
   },
   "source": [
    "The following cell holds the definition of our parameters, these values can be overriden by rendering the with e.g. the following command:\n",
    "\n",
    "papermill -p alpha 0.2 -p ratio 0.3 universe_analysis.ipynb output/test_run.ipynb"
   ]
  },
  {
   "cell_type": "code",
   "execution_count": 2,
   "id": "a80968a0-40bb-4fa9-85ef-2d5eefb01975",
   "metadata": {
    "execution": {
     "iopub.execute_input": "2025-08-05T15:23:34.607451Z",
     "iopub.status.busy": "2025-08-05T15:23:34.606468Z",
     "iopub.status.idle": "2025-08-05T15:23:34.612607Z",
     "shell.execute_reply": "2025-08-05T15:23:34.611459Z"
    },
    "papermill": {
     "duration": 0.018773,
     "end_time": "2025-08-05T15:23:34.614468",
     "exception": false,
     "start_time": "2025-08-05T15:23:34.595695",
     "status": "completed"
    },
    "tags": []
   },
   "outputs": [
    {
     "name": "stdout",
     "output_type": "stream",
     "text": [
      "Current working directory: /dss/dsshome1/0C/ra93lal2/cma/CMA_Fairness_v2\n"
     ]
    }
   ],
   "source": [
    "import os\n",
    "print(\"Current working directory:\", os.getcwd())"
   ]
  },
  {
   "cell_type": "code",
   "execution_count": 3,
   "id": "2dce4c03",
   "metadata": {
    "execution": {
     "iopub.execute_input": "2025-08-05T15:23:34.647627Z",
     "iopub.status.busy": "2025-08-05T15:23:34.646735Z",
     "iopub.status.idle": "2025-08-05T15:23:34.653018Z",
     "shell.execute_reply": "2025-08-05T15:23:34.652074Z"
    },
    "papermill": {
     "duration": 0.024762,
     "end_time": "2025-08-05T15:23:34.654997",
     "exception": false,
     "start_time": "2025-08-05T15:23:34.630235",
     "status": "completed"
    },
    "tags": [
     "parameters"
    ]
   },
   "outputs": [],
   "source": [
    "run_no = 0\n",
    "universe_id = \"test\"\n",
    "universe = {\n",
    "    \"training_size\": \"25k\", # \"25k\", \"5k\", \"1k\"\n",
    "    \"training_year\": \"2014\", # \"2014\", \"2012_14\", \"2010_14\"\n",
    "    \"scale\": \"scale\", # \"scale\", \"do-not-scale\",\n",
    "    \"model\": \"elasticnet\", # \"logreg\", \"penalized_logreg\", \"rf\", \"gbm\", \"elasticnet\"\n",
    "    \"cutoff\": [\"quantile_0.15\", \"quantile_0.30\"],\n",
    "    \"exclude_features\": \"age\", # \"none\", \"nationality\", \"sex\", \"nationality-sex\", \"age\"\n",
    "    \"exclude_subgroups\": \"keep-all\", # \"keep-all\", \"drop-non-german\"\n",
    "    \"eval_fairness_grouping\": [\"majority-minority\", \"nationality-all\"]\n",
    "}\n",
    "\n",
    "output_dir=\"./output\"\n",
    "seed=0"
   ]
  },
  {
   "cell_type": "code",
   "execution_count": 4,
   "id": "59970fb9",
   "metadata": {
    "execution": {
     "iopub.execute_input": "2025-08-05T15:23:34.688507Z",
     "iopub.status.busy": "2025-08-05T15:23:34.687977Z",
     "iopub.status.idle": "2025-08-05T15:23:34.693690Z",
     "shell.execute_reply": "2025-08-05T15:23:34.692781Z"
    },
    "papermill": {
     "duration": 0.024062,
     "end_time": "2025-08-05T15:23:34.695820",
     "exception": false,
     "start_time": "2025-08-05T15:23:34.671758",
     "status": "completed"
    },
    "tags": [
     "injected-parameters"
    ]
   },
   "outputs": [],
   "source": [
    "# Parameters\n",
    "universe_id = \"e7b3e337360cf7d4d088ff6da9af52e6\"\n",
    "run_no = \"15\"\n",
    "universe = \"{\\\"cutoff\\\": [\\\"quantile_0.1\\\", \\\"quantile_0.25\\\"], \\\"eval_fairness_grouping\\\": [\\\"majority-minority\\\", \\\"nationality-all\\\"], \\\"exclude_features\\\": \\\"nationality-sex\\\", \\\"exclude_subgroups\\\": \\\"keep-all\\\", \\\"model\\\": \\\"rf\\\", \\\"scale\\\": \\\"scale\\\", \\\"training_size\\\": \\\"5k\\\", \\\"training_year\\\": \\\"2014\\\"}\"\n",
    "output_dir = \"output\"\n",
    "seed = \"2023\"\n"
   ]
  },
  {
   "cell_type": "code",
   "execution_count": 5,
   "id": "1650acaf",
   "metadata": {
    "execution": {
     "iopub.execute_input": "2025-08-05T15:23:34.787245Z",
     "iopub.status.busy": "2025-08-05T15:23:34.786785Z",
     "iopub.status.idle": "2025-08-05T15:23:34.792119Z",
     "shell.execute_reply": "2025-08-05T15:23:34.790869Z"
    },
    "papermill": {
     "duration": 0.026757,
     "end_time": "2025-08-05T15:23:34.794504",
     "exception": false,
     "start_time": "2025-08-05T15:23:34.767747",
     "status": "completed"
    },
    "tags": []
   },
   "outputs": [],
   "source": [
    "import json\n",
    "if isinstance(universe, str):\n",
    "    universe = json.loads(universe)"
   ]
  },
  {
   "cell_type": "code",
   "execution_count": 6,
   "id": "16620c48",
   "metadata": {
    "execution": {
     "iopub.execute_input": "2025-08-05T15:23:34.837130Z",
     "iopub.status.busy": "2025-08-05T15:23:34.836244Z",
     "iopub.status.idle": "2025-08-05T15:23:34.889023Z",
     "shell.execute_reply": "2025-08-05T15:23:34.888162Z"
    },
    "papermill": {
     "duration": 0.074175,
     "end_time": "2025-08-05T15:23:34.890766",
     "exception": false,
     "start_time": "2025-08-05T15:23:34.816591",
     "status": "completed"
    },
    "tags": []
   },
   "outputs": [],
   "source": [
    "# Auto-reload the custom package\n",
    "%load_ext autoreload\n",
    "%autoreload 1\n",
    "%aimport fairness_multiverse"
   ]
  },
  {
   "cell_type": "code",
   "execution_count": 7,
   "id": "01c5c9f3",
   "metadata": {
    "execution": {
     "iopub.execute_input": "2025-08-05T15:23:34.930951Z",
     "iopub.status.busy": "2025-08-05T15:23:34.930457Z",
     "iopub.status.idle": "2025-08-05T15:23:36.890293Z",
     "shell.execute_reply": "2025-08-05T15:23:36.889378Z"
    },
    "papermill": {
     "duration": 1.985288,
     "end_time": "2025-08-05T15:23:36.892034",
     "exception": false,
     "start_time": "2025-08-05T15:23:34.906746",
     "status": "completed"
    },
    "tags": []
   },
   "outputs": [],
   "source": [
    "from fairness_multiverse.universe import UniverseAnalysis\n",
    "\n",
    "universe_analysis = UniverseAnalysis(\n",
    "    run_no = run_no,\n",
    "    universe_id = universe_id,\n",
    "    universe = universe,\n",
    "    output_dir=output_dir,\n",
    ")"
   ]
  },
  {
   "cell_type": "code",
   "execution_count": 8,
   "id": "106241f5",
   "metadata": {
    "execution": {
     "iopub.execute_input": "2025-08-05T15:23:36.912349Z",
     "iopub.status.busy": "2025-08-05T15:23:36.912087Z",
     "iopub.status.idle": "2025-08-05T15:23:36.917796Z",
     "shell.execute_reply": "2025-08-05T15:23:36.916707Z"
    },
    "papermill": {
     "duration": 0.017569,
     "end_time": "2025-08-05T15:23:36.919433",
     "exception": false,
     "start_time": "2025-08-05T15:23:36.901864",
     "status": "completed"
    },
    "tags": []
   },
   "outputs": [
    {
     "name": "stdout",
     "output_type": "stream",
     "text": [
      "Using Seed: 2023\n"
     ]
    }
   ],
   "source": [
    "import numpy as np\n",
    "parsed_seed = int(seed)\n",
    "np.random.seed(parsed_seed)\n",
    "print(f\"Using Seed: {parsed_seed}\")"
   ]
  },
  {
   "cell_type": "markdown",
   "id": "e0ebdc57",
   "metadata": {
    "papermill": {
     "duration": 0.008948,
     "end_time": "2025-08-05T15:23:36.938561",
     "exception": false,
     "start_time": "2025-08-05T15:23:36.929613",
     "status": "completed"
    },
    "tags": []
   },
   "source": [
    "# Loading Data"
   ]
  },
  {
   "cell_type": "code",
   "execution_count": 9,
   "id": "f0496b8a",
   "metadata": {
    "execution": {
     "iopub.execute_input": "2025-08-05T15:23:36.957993Z",
     "iopub.status.busy": "2025-08-05T15:23:36.957254Z",
     "iopub.status.idle": "2025-08-05T15:23:46.283918Z",
     "shell.execute_reply": "2025-08-05T15:23:46.282686Z"
    },
    "papermill": {
     "duration": 9.33823,
     "end_time": "2025-08-05T15:23:46.285605",
     "exception": false,
     "start_time": "2025-08-05T15:23:36.947375",
     "status": "completed"
    },
    "tags": []
   },
   "outputs": [
    {
     "name": "stdout",
     "output_type": "stream",
     "text": [
      "Loading SIAB data from cache: data/siab_cached.csv.gz\n"
     ]
    },
    {
     "name": "stdout",
     "output_type": "stream",
     "text": [
      "(643690, 164)\n"
     ]
    }
   ],
   "source": [
    "from pathlib import Path\n",
    "import pandas as pd\n",
    "\n",
    "# File paths\n",
    "raw_file = Path(\"data/raw/siab.csv\")\n",
    "cache_file = Path(\"data/siab_cached.csv.gz\")\n",
    "\n",
    "# Ensure cache directory exists\n",
    "cache_file.parent.mkdir(parents=True, exist_ok=True)\n",
    "\n",
    "# Load with simple caching\n",
    "if cache_file.exists():\n",
    "    print(f\"Loading SIAB data from cache: {cache_file}\")\n",
    "    siab = pd.read_csv(cache_file, compression='gzip')\n",
    "else:\n",
    "    print(f\"Cache not found. Reading raw SIAB data: {raw_file}\")\n",
    "    siab = pd.read_csv(raw_file)\n",
    "    siab.to_csv(cache_file, index=False, compression='gzip')\n",
    "    print(f\"Cached SIAB data to: {cache_file}\")\n",
    "\n",
    "print(siab.shape)"
   ]
  },
  {
   "cell_type": "code",
   "execution_count": 10,
   "id": "db0ca512-5f53-4dba-abdb-a2888bca41ba",
   "metadata": {
    "execution": {
     "iopub.execute_input": "2025-08-05T15:23:46.324937Z",
     "iopub.status.busy": "2025-08-05T15:23:46.324244Z",
     "iopub.status.idle": "2025-08-05T15:23:46.329602Z",
     "shell.execute_reply": "2025-08-05T15:23:46.328607Z"
    },
    "papermill": {
     "duration": 0.025537,
     "end_time": "2025-08-05T15:23:46.331446",
     "exception": false,
     "start_time": "2025-08-05T15:23:46.305909",
     "status": "completed"
    },
    "tags": []
   },
   "outputs": [],
   "source": [
    "#siab"
   ]
  },
  {
   "cell_type": "markdown",
   "id": "997051c5-15bd-4b69-9786-c3001a3ce484",
   "metadata": {
    "papermill": {
     "duration": 0.017308,
     "end_time": "2025-08-05T15:23:46.367357",
     "exception": false,
     "start_time": "2025-08-05T15:23:46.350049",
     "status": "completed"
    },
    "tags": []
   },
   "source": [
    "# Splitting Data and Setting Training Data Size"
   ]
  },
  {
   "cell_type": "code",
   "execution_count": 11,
   "id": "aea9c6ef-6f46-42c8-85eb-5a62025c1508",
   "metadata": {
    "execution": {
     "iopub.execute_input": "2025-08-05T15:23:46.403152Z",
     "iopub.status.busy": "2025-08-05T15:23:46.402477Z",
     "iopub.status.idle": "2025-08-05T15:23:46.601048Z",
     "shell.execute_reply": "2025-08-05T15:23:46.599828Z"
    },
    "papermill": {
     "duration": 0.21848,
     "end_time": "2025-08-05T15:23:46.602999",
     "exception": false,
     "start_time": "2025-08-05T15:23:46.384519",
     "status": "completed"
    },
    "tags": []
   },
   "outputs": [],
   "source": [
    "from fairness_multiverse.universe import sample_by_year_size\n",
    "\n",
    "siab_train = sample_by_year_size(siab,\n",
    "                               training_year=universe[\"training_year\"],\n",
    "                               training_size=universe[\"training_size\"])"
   ]
  },
  {
   "cell_type": "code",
   "execution_count": 12,
   "id": "8d3afb32-789d-442c-8d5d-9f5aa8dd2eed",
   "metadata": {
    "execution": {
     "iopub.execute_input": "2025-08-05T15:23:46.642129Z",
     "iopub.status.busy": "2025-08-05T15:23:46.641145Z",
     "iopub.status.idle": "2025-08-05T15:23:46.646630Z",
     "shell.execute_reply": "2025-08-05T15:23:46.645505Z"
    },
    "papermill": {
     "duration": 0.027243,
     "end_time": "2025-08-05T15:23:46.648625",
     "exception": false,
     "start_time": "2025-08-05T15:23:46.621382",
     "status": "completed"
    },
    "tags": []
   },
   "outputs": [],
   "source": [
    "#siab_train.shape"
   ]
  },
  {
   "cell_type": "code",
   "execution_count": 13,
   "id": "d582db68-1a4c-47fb-84fc-08518dc1975a",
   "metadata": {
    "execution": {
     "iopub.execute_input": "2025-08-05T15:23:46.687870Z",
     "iopub.status.busy": "2025-08-05T15:23:46.686900Z",
     "iopub.status.idle": "2025-08-05T15:23:46.692582Z",
     "shell.execute_reply": "2025-08-05T15:23:46.691503Z"
    },
    "papermill": {
     "duration": 0.027852,
     "end_time": "2025-08-05T15:23:46.695082",
     "exception": false,
     "start_time": "2025-08-05T15:23:46.667230",
     "status": "completed"
    },
    "tags": []
   },
   "outputs": [],
   "source": [
    "#display(siab_train.groupby(\"year\").size())"
   ]
  },
  {
   "cell_type": "code",
   "execution_count": 14,
   "id": "a561edb4-d032-42cb-8256-22eac1111c64",
   "metadata": {
    "execution": {
     "iopub.execute_input": "2025-08-05T15:23:46.745994Z",
     "iopub.status.busy": "2025-08-05T15:23:46.745414Z",
     "iopub.status.idle": "2025-08-05T15:23:46.959110Z",
     "shell.execute_reply": "2025-08-05T15:23:46.957969Z"
    },
    "papermill": {
     "duration": 0.241843,
     "end_time": "2025-08-05T15:23:46.961561",
     "exception": false,
     "start_time": "2025-08-05T15:23:46.719718",
     "status": "completed"
    },
    "tags": []
   },
   "outputs": [],
   "source": [
    "#siab_train = siab_s[siab_s.year < 2015]\n",
    "siab_calib = siab[siab.year == 2015]\n",
    "siab_test = siab[siab.year == 2016]"
   ]
  },
  {
   "cell_type": "code",
   "execution_count": 15,
   "id": "472de16f-c3db-4916-846b-1f0de9cf1746",
   "metadata": {
    "execution": {
     "iopub.execute_input": "2025-08-05T15:23:47.013769Z",
     "iopub.status.busy": "2025-08-05T15:23:47.012970Z",
     "iopub.status.idle": "2025-08-05T15:23:47.022068Z",
     "shell.execute_reply": "2025-08-05T15:23:47.020905Z"
    },
    "papermill": {
     "duration": 0.037814,
     "end_time": "2025-08-05T15:23:47.024503",
     "exception": false,
     "start_time": "2025-08-05T15:23:46.986689",
     "status": "completed"
    },
    "tags": []
   },
   "outputs": [],
   "source": [
    "X_train = siab_train.iloc[:,4:164]\n",
    "y_train = siab_train.iloc[:, [3]]"
   ]
  },
  {
   "cell_type": "code",
   "execution_count": 16,
   "id": "828c96af-f43a-4ed6-ba47-8ac73a47d56c",
   "metadata": {
    "execution": {
     "iopub.execute_input": "2025-08-05T15:23:47.076823Z",
     "iopub.status.busy": "2025-08-05T15:23:47.076431Z",
     "iopub.status.idle": "2025-08-05T15:23:47.136593Z",
     "shell.execute_reply": "2025-08-05T15:23:47.135157Z"
    },
    "papermill": {
     "duration": 0.088117,
     "end_time": "2025-08-05T15:23:47.138655",
     "exception": false,
     "start_time": "2025-08-05T15:23:47.050538",
     "status": "completed"
    },
    "tags": []
   },
   "outputs": [],
   "source": [
    "X_calib = siab_calib.iloc[:,4:164]\n",
    "y_calib = siab_calib.iloc[:, [3]]"
   ]
  },
  {
   "cell_type": "code",
   "execution_count": 17,
   "id": "c34be9c3-6bd6-476e-acd3-845840e303be",
   "metadata": {
    "execution": {
     "iopub.execute_input": "2025-08-05T15:23:47.179134Z",
     "iopub.status.busy": "2025-08-05T15:23:47.178150Z",
     "iopub.status.idle": "2025-08-05T15:23:47.257644Z",
     "shell.execute_reply": "2025-08-05T15:23:47.256132Z"
    },
    "papermill": {
     "duration": 0.101686,
     "end_time": "2025-08-05T15:23:47.260316",
     "exception": false,
     "start_time": "2025-08-05T15:23:47.158630",
     "status": "completed"
    },
    "tags": []
   },
   "outputs": [],
   "source": [
    "X_test = siab_test.iloc[:,4:164]\n",
    "y_true = siab_test.iloc[:, [3]]"
   ]
  },
  {
   "cell_type": "code",
   "execution_count": 18,
   "id": "e6c733c5",
   "metadata": {
    "execution": {
     "iopub.execute_input": "2025-08-05T15:23:47.313755Z",
     "iopub.status.busy": "2025-08-05T15:23:47.312876Z",
     "iopub.status.idle": "2025-08-05T15:23:47.407641Z",
     "shell.execute_reply": "2025-08-05T15:23:47.406497Z"
    },
    "papermill": {
     "duration": 0.123985,
     "end_time": "2025-08-05T15:23:47.410269",
     "exception": false,
     "start_time": "2025-08-05T15:23:47.286284",
     "status": "completed"
    },
    "tags": []
   },
   "outputs": [],
   "source": [
    "# Auxiliary data needed downstream in the pipeline\n",
    "\n",
    "org_train = X_train.copy()\n",
    "org_test = X_test.copy()\n",
    "org_calib = X_calib.copy()"
   ]
  },
  {
   "cell_type": "markdown",
   "id": "0a4a1b33",
   "metadata": {
    "papermill": {
     "duration": 0.025163,
     "end_time": "2025-08-05T15:23:47.461344",
     "exception": false,
     "start_time": "2025-08-05T15:23:47.436181",
     "status": "completed"
    },
    "tags": []
   },
   "source": [
    "# Preprocessing Data"
   ]
  },
  {
   "cell_type": "code",
   "execution_count": 19,
   "id": "ca879031",
   "metadata": {
    "execution": {
     "iopub.execute_input": "2025-08-05T15:23:47.513386Z",
     "iopub.status.busy": "2025-08-05T15:23:47.512633Z",
     "iopub.status.idle": "2025-08-05T15:23:47.520345Z",
     "shell.execute_reply": "2025-08-05T15:23:47.519027Z"
    },
    "papermill": {
     "duration": 0.036164,
     "end_time": "2025-08-05T15:23:47.522570",
     "exception": false,
     "start_time": "2025-08-05T15:23:47.486406",
     "status": "completed"
    },
    "tags": []
   },
   "outputs": [],
   "source": [
    "# EXCLUDE PROTECTED FEATURES\n",
    "# ----------------------\n",
    "# \"exclude_features\": \"none\", # \"nationality\", \"sex\", \"nationality-sex\"\n",
    "\n",
    "excluded_features = universe[\"exclude_features\"].split(\"-\") # split, e.g.: \"nationality-sex\" -> [\"nationality\", \"sex\"]\n",
    "excluded_features_dictionary = {\n",
    "    \"nationality\": [\"maxdeutsch1\", \"maxdeutsch.Missing.\"],\n",
    "    \"sex\": [\"frau1\"],\n",
    "    \"age\": [\"age\"],\n",
    "}"
   ]
  },
  {
   "cell_type": "code",
   "execution_count": 20,
   "id": "b745ac60",
   "metadata": {
    "execution": {
     "iopub.execute_input": "2025-08-05T15:23:47.562998Z",
     "iopub.status.busy": "2025-08-05T15:23:47.562272Z",
     "iopub.status.idle": "2025-08-05T15:23:47.569610Z",
     "shell.execute_reply": "2025-08-05T15:23:47.568278Z"
    },
    "papermill": {
     "duration": 0.029472,
     "end_time": "2025-08-05T15:23:47.571632",
     "exception": false,
     "start_time": "2025-08-05T15:23:47.542160",
     "status": "completed"
    },
    "tags": []
   },
   "outputs": [],
   "source": [
    "# Code nice names to column names\n",
    "\n",
    "excluded_features_columns = [\n",
    "    excluded_features_dictionary[f] for f in excluded_features if len(f) > 0 and f != \"none\"\n",
    "]"
   ]
  },
  {
   "cell_type": "code",
   "execution_count": 21,
   "id": "f84f73a2",
   "metadata": {
    "execution": {
     "iopub.execute_input": "2025-08-05T15:23:47.614092Z",
     "iopub.status.busy": "2025-08-05T15:23:47.613041Z",
     "iopub.status.idle": "2025-08-05T15:23:47.621644Z",
     "shell.execute_reply": "2025-08-05T15:23:47.620341Z"
    },
    "papermill": {
     "duration": 0.031195,
     "end_time": "2025-08-05T15:23:47.623649",
     "exception": false,
     "start_time": "2025-08-05T15:23:47.592454",
     "status": "completed"
    },
    "tags": []
   },
   "outputs": [],
   "source": [
    "from utils import flatten_once\n",
    "\n",
    "excluded_features_columns = flatten_once(excluded_features_columns)"
   ]
  },
  {
   "cell_type": "code",
   "execution_count": 22,
   "id": "884dea22",
   "metadata": {
    "execution": {
     "iopub.execute_input": "2025-08-05T15:23:47.667487Z",
     "iopub.status.busy": "2025-08-05T15:23:47.666496Z",
     "iopub.status.idle": "2025-08-05T15:23:47.686704Z",
     "shell.execute_reply": "2025-08-05T15:23:47.679506Z"
    },
    "papermill": {
     "duration": 0.045737,
     "end_time": "2025-08-05T15:23:47.689173",
     "exception": false,
     "start_time": "2025-08-05T15:23:47.643436",
     "status": "completed"
    },
    "tags": []
   },
   "outputs": [
    {
     "name": "stdout",
     "output_type": "stream",
     "text": [
      "Dropping features: ['maxdeutsch1', 'maxdeutsch.Missing.', 'frau1']\n"
     ]
    }
   ],
   "source": [
    "if len(excluded_features_columns) > 0:\n",
    "    print(f\"Dropping features: {excluded_features_columns}\")\n",
    "    X_train.drop(excluded_features_columns, axis=1, inplace=True)"
   ]
  },
  {
   "cell_type": "code",
   "execution_count": 23,
   "id": "95ab8b16",
   "metadata": {
    "execution": {
     "iopub.execute_input": "2025-08-05T15:23:47.742962Z",
     "iopub.status.busy": "2025-08-05T15:23:47.742164Z",
     "iopub.status.idle": "2025-08-05T15:23:47.797744Z",
     "shell.execute_reply": "2025-08-05T15:23:47.797038Z"
    },
    "papermill": {
     "duration": 0.083838,
     "end_time": "2025-08-05T15:23:47.799280",
     "exception": false,
     "start_time": "2025-08-05T15:23:47.715442",
     "status": "completed"
    },
    "tags": []
   },
   "outputs": [
    {
     "name": "stdout",
     "output_type": "stream",
     "text": [
      "Dropping features: ['maxdeutsch1', 'maxdeutsch.Missing.', 'frau1']\n"
     ]
    }
   ],
   "source": [
    "if len(excluded_features_columns) > 0:\n",
    "    print(f\"Dropping features: {excluded_features_columns}\")\n",
    "    X_test.drop(excluded_features_columns, axis=1, inplace=True)"
   ]
  },
  {
   "cell_type": "code",
   "execution_count": 24,
   "id": "1853aaf5-fb9f-46cb-a2b5-8ea4ae2237e4",
   "metadata": {
    "execution": {
     "iopub.execute_input": "2025-08-05T15:23:47.821268Z",
     "iopub.status.busy": "2025-08-05T15:23:47.820852Z",
     "iopub.status.idle": "2025-08-05T15:23:47.869205Z",
     "shell.execute_reply": "2025-08-05T15:23:47.868312Z"
    },
    "papermill": {
     "duration": 0.061019,
     "end_time": "2025-08-05T15:23:47.871165",
     "exception": false,
     "start_time": "2025-08-05T15:23:47.810146",
     "status": "completed"
    },
    "tags": []
   },
   "outputs": [
    {
     "name": "stdout",
     "output_type": "stream",
     "text": [
      "Dropping features: ['maxdeutsch1', 'maxdeutsch.Missing.', 'frau1']\n"
     ]
    }
   ],
   "source": [
    "if len(excluded_features_columns) > 0:\n",
    "    print(f\"Dropping features: {excluded_features_columns}\")\n",
    "    X_calib.drop(excluded_features_columns, axis=1, inplace=True)"
   ]
  },
  {
   "cell_type": "code",
   "execution_count": 25,
   "id": "76c4dc6d",
   "metadata": {
    "execution": {
     "iopub.execute_input": "2025-08-05T15:23:47.916474Z",
     "iopub.status.busy": "2025-08-05T15:23:47.916058Z",
     "iopub.status.idle": "2025-08-05T15:23:47.921620Z",
     "shell.execute_reply": "2025-08-05T15:23:47.920479Z"
    },
    "papermill": {
     "duration": 0.030668,
     "end_time": "2025-08-05T15:23:47.923789",
     "exception": false,
     "start_time": "2025-08-05T15:23:47.893121",
     "status": "completed"
    },
    "tags": []
   },
   "outputs": [],
   "source": [
    "# EXCLUDE CERTAIN SUBGROUPS\n",
    "# ----------------------\n",
    "\n",
    "mode = universe.get(\"exclude_subgroups\", \"keep-all\") \n",
    "# Fetches the exclude_subgroups setting from the universe dict.\n",
    "# Defaults to \"keep-all\" if the key is missing."
   ]
  },
  {
   "cell_type": "code",
   "execution_count": 26,
   "id": "21994072",
   "metadata": {
    "execution": {
     "iopub.execute_input": "2025-08-05T15:23:47.955342Z",
     "iopub.status.busy": "2025-08-05T15:23:47.954647Z",
     "iopub.status.idle": "2025-08-05T15:23:47.962232Z",
     "shell.execute_reply": "2025-08-05T15:23:47.961317Z"
    },
    "papermill": {
     "duration": 0.023979,
     "end_time": "2025-08-05T15:23:47.964151",
     "exception": false,
     "start_time": "2025-08-05T15:23:47.940172",
     "status": "completed"
    },
    "tags": []
   },
   "outputs": [],
   "source": [
    "if mode == \"keep-all\":\n",
    "    keep_mask = pd.Series(True, index=org_train.index)\n",
    "\n",
    "# org_train contains the original feature columns from features_org (in Simson)\n",
    "# features_org contains unprocessed features, for me X_train at beginning ???\n",
    "# For keep-all, creates a boolean Series (keep_mask) of all True, so no rows are removed.\n",
    "\n",
    "elif mode == \"drop-non-german\":\n",
    "    keep_mask = org_train[\"maxdeutsch1\"] == 1 # ??? what about missing values?\n",
    "\n",
    "else:\n",
    "    raise ValueError(f\"Unsupported mode for exclude_subgroups: {mode}\")"
   ]
  },
  {
   "cell_type": "code",
   "execution_count": 27,
   "id": "71651440",
   "metadata": {
    "execution": {
     "iopub.execute_input": "2025-08-05T15:23:48.017874Z",
     "iopub.status.busy": "2025-08-05T15:23:48.017045Z",
     "iopub.status.idle": "2025-08-05T15:23:48.025570Z",
     "shell.execute_reply": "2025-08-05T15:23:48.024132Z"
    },
    "papermill": {
     "duration": 0.037254,
     "end_time": "2025-08-05T15:23:48.027871",
     "exception": false,
     "start_time": "2025-08-05T15:23:47.990617",
     "status": "completed"
    },
    "tags": []
   },
   "outputs": [],
   "source": [
    "n_drop = (~keep_mask).sum() # Calculates how many rows are set to be dropped\n",
    "if n_drop > 0:\n",
    "    pct = n_drop / len(keep_mask) * 100\n",
    "    print(f\"Dropping {n_drop} rows ({pct:.2f}%) where mode='{mode}'\")"
   ]
  },
  {
   "cell_type": "code",
   "execution_count": 28,
   "id": "5fb8eee5",
   "metadata": {
    "execution": {
     "iopub.execute_input": "2025-08-05T15:23:48.074465Z",
     "iopub.status.busy": "2025-08-05T15:23:48.073624Z",
     "iopub.status.idle": "2025-08-05T15:23:48.082275Z",
     "shell.execute_reply": "2025-08-05T15:23:48.081213Z"
    },
    "papermill": {
     "duration": 0.032842,
     "end_time": "2025-08-05T15:23:48.083862",
     "exception": false,
     "start_time": "2025-08-05T15:23:48.051020",
     "status": "completed"
    },
    "tags": []
   },
   "outputs": [],
   "source": [
    "X_train = X_train[keep_mask]"
   ]
  },
  {
   "cell_type": "code",
   "execution_count": 29,
   "id": "b202bb3a",
   "metadata": {
    "execution": {
     "iopub.execute_input": "2025-08-05T15:23:48.106735Z",
     "iopub.status.busy": "2025-08-05T15:23:48.106206Z",
     "iopub.status.idle": "2025-08-05T15:23:48.112172Z",
     "shell.execute_reply": "2025-08-05T15:23:48.111313Z"
    },
    "papermill": {
     "duration": 0.018768,
     "end_time": "2025-08-05T15:23:48.113897",
     "exception": false,
     "start_time": "2025-08-05T15:23:48.095129",
     "status": "completed"
    },
    "tags": []
   },
   "outputs": [],
   "source": [
    "y_train = y_train[keep_mask]"
   ]
  },
  {
   "cell_type": "markdown",
   "id": "493e2ac3",
   "metadata": {
    "papermill": {
     "duration": 0.009986,
     "end_time": "2025-08-05T15:23:48.135266",
     "exception": false,
     "start_time": "2025-08-05T15:23:48.125280",
     "status": "completed"
    },
    "tags": []
   },
   "source": [
    "# Model Training"
   ]
  },
  {
   "cell_type": "code",
   "execution_count": 30,
   "id": "679e1268",
   "metadata": {
    "execution": {
     "iopub.execute_input": "2025-08-05T15:23:48.157226Z",
     "iopub.status.busy": "2025-08-05T15:23:48.156561Z",
     "iopub.status.idle": "2025-08-05T15:23:48.264798Z",
     "shell.execute_reply": "2025-08-05T15:23:48.263644Z"
    },
    "papermill": {
     "duration": 0.121758,
     "end_time": "2025-08-05T15:23:48.267267",
     "exception": false,
     "start_time": "2025-08-05T15:23:48.145509",
     "status": "completed"
    },
    "tags": []
   },
   "outputs": [],
   "source": [
    "from sklearn.linear_model import LogisticRegression\n",
    "from sklearn.ensemble import GradientBoostingClassifier, RandomForestClassifier\n",
    "\n",
    "if (universe[\"model\"] == \"logreg\"):\n",
    "    model = LogisticRegression() #penalty=\"none\", solver=\"newton-cg\", max_iter=1) # include random_state=19 ?\n",
    "elif (universe[\"model\"] == \"penalized_logreg\"):\n",
    "    model = LogisticRegression(penalty=\"l2\", C=0.1) #, solver=\"newton-cg\", max_iter=1)\n",
    "elif (universe[\"model\"] == \"rf\"):\n",
    "    model = RandomForestClassifier() # n_estimators=100, n_jobs=-1\n",
    "elif (universe[\"model\"] == \"gbm\"):\n",
    "    model = GradientBoostingClassifier()\n",
    "elif (universe[\"model\"] == \"elasticnet\"):\n",
    "    model = LogisticRegression(penalty = 'elasticnet', solver = 'saga', l1_ratio = 0.5) # max_iter=5000\n",
    "else:\n",
    "    raise \"Unsupported universe.model\""
   ]
  },
  {
   "cell_type": "code",
   "execution_count": 31,
   "id": "0cc8f744",
   "metadata": {
    "execution": {
     "iopub.execute_input": "2025-08-05T15:23:48.325827Z",
     "iopub.status.busy": "2025-08-05T15:23:48.325005Z",
     "iopub.status.idle": "2025-08-05T15:23:48.333595Z",
     "shell.execute_reply": "2025-08-05T15:23:48.332330Z"
    },
    "papermill": {
     "duration": 0.040576,
     "end_time": "2025-08-05T15:23:48.336052",
     "exception": false,
     "start_time": "2025-08-05T15:23:48.295476",
     "status": "completed"
    },
    "tags": []
   },
   "outputs": [],
   "source": [
    "import numpy as np\n",
    "from sklearn.pipeline import Pipeline\n",
    "from sklearn.preprocessing import StandardScaler\n",
    "\n",
    "model = Pipeline([\n",
    "    #(\"continuous_processor\", continuous_processor),\n",
    "    #(\"categorical_preprocessor\", categorical_preprocessor),\n",
    "    (\"scale\", StandardScaler() if universe[\"scale\"] == \"scale\" else None), \n",
    "    (\"model\", model),\n",
    "])"
   ]
  },
  {
   "cell_type": "code",
   "execution_count": 32,
   "id": "9442c04d",
   "metadata": {
    "execution": {
     "iopub.execute_input": "2025-08-05T15:23:48.394919Z",
     "iopub.status.busy": "2025-08-05T15:23:48.393869Z",
     "iopub.status.idle": "2025-08-05T15:23:50.093558Z",
     "shell.execute_reply": "2025-08-05T15:23:50.092531Z"
    },
    "papermill": {
     "duration": 1.731141,
     "end_time": "2025-08-05T15:23:50.095356",
     "exception": false,
     "start_time": "2025-08-05T15:23:48.364215",
     "status": "completed"
    },
    "tags": []
   },
   "outputs": [
    {
     "data": {
      "text/html": [
       "<style>#sk-container-id-1 {color: black;background-color: white;}#sk-container-id-1 pre{padding: 0;}#sk-container-id-1 div.sk-toggleable {background-color: white;}#sk-container-id-1 label.sk-toggleable__label {cursor: pointer;display: block;width: 100%;margin-bottom: 0;padding: 0.3em;box-sizing: border-box;text-align: center;}#sk-container-id-1 label.sk-toggleable__label-arrow:before {content: \"▸\";float: left;margin-right: 0.25em;color: #696969;}#sk-container-id-1 label.sk-toggleable__label-arrow:hover:before {color: black;}#sk-container-id-1 div.sk-estimator:hover label.sk-toggleable__label-arrow:before {color: black;}#sk-container-id-1 div.sk-toggleable__content {max-height: 0;max-width: 0;overflow: hidden;text-align: left;background-color: #f0f8ff;}#sk-container-id-1 div.sk-toggleable__content pre {margin: 0.2em;color: black;border-radius: 0.25em;background-color: #f0f8ff;}#sk-container-id-1 input.sk-toggleable__control:checked~div.sk-toggleable__content {max-height: 200px;max-width: 100%;overflow: auto;}#sk-container-id-1 input.sk-toggleable__control:checked~label.sk-toggleable__label-arrow:before {content: \"▾\";}#sk-container-id-1 div.sk-estimator input.sk-toggleable__control:checked~label.sk-toggleable__label {background-color: #d4ebff;}#sk-container-id-1 div.sk-label input.sk-toggleable__control:checked~label.sk-toggleable__label {background-color: #d4ebff;}#sk-container-id-1 input.sk-hidden--visually {border: 0;clip: rect(1px 1px 1px 1px);clip: rect(1px, 1px, 1px, 1px);height: 1px;margin: -1px;overflow: hidden;padding: 0;position: absolute;width: 1px;}#sk-container-id-1 div.sk-estimator {font-family: monospace;background-color: #f0f8ff;border: 1px dotted black;border-radius: 0.25em;box-sizing: border-box;margin-bottom: 0.5em;}#sk-container-id-1 div.sk-estimator:hover {background-color: #d4ebff;}#sk-container-id-1 div.sk-parallel-item::after {content: \"\";width: 100%;border-bottom: 1px solid gray;flex-grow: 1;}#sk-container-id-1 div.sk-label:hover label.sk-toggleable__label {background-color: #d4ebff;}#sk-container-id-1 div.sk-serial::before {content: \"\";position: absolute;border-left: 1px solid gray;box-sizing: border-box;top: 0;bottom: 0;left: 50%;z-index: 0;}#sk-container-id-1 div.sk-serial {display: flex;flex-direction: column;align-items: center;background-color: white;padding-right: 0.2em;padding-left: 0.2em;position: relative;}#sk-container-id-1 div.sk-item {position: relative;z-index: 1;}#sk-container-id-1 div.sk-parallel {display: flex;align-items: stretch;justify-content: center;background-color: white;position: relative;}#sk-container-id-1 div.sk-item::before, #sk-container-id-1 div.sk-parallel-item::before {content: \"\";position: absolute;border-left: 1px solid gray;box-sizing: border-box;top: 0;bottom: 0;left: 50%;z-index: -1;}#sk-container-id-1 div.sk-parallel-item {display: flex;flex-direction: column;z-index: 1;position: relative;background-color: white;}#sk-container-id-1 div.sk-parallel-item:first-child::after {align-self: flex-end;width: 50%;}#sk-container-id-1 div.sk-parallel-item:last-child::after {align-self: flex-start;width: 50%;}#sk-container-id-1 div.sk-parallel-item:only-child::after {width: 0;}#sk-container-id-1 div.sk-dashed-wrapped {border: 1px dashed gray;margin: 0 0.4em 0.5em 0.4em;box-sizing: border-box;padding-bottom: 0.4em;background-color: white;}#sk-container-id-1 div.sk-label label {font-family: monospace;font-weight: bold;display: inline-block;line-height: 1.2em;}#sk-container-id-1 div.sk-label-container {text-align: center;}#sk-container-id-1 div.sk-container {/* jupyter's `normalize.less` sets `[hidden] { display: none; }` but bootstrap.min.css set `[hidden] { display: none !important; }` so we also need the `!important` here to be able to override the default hidden behavior on the sphinx rendered scikit-learn.org. See: https://github.com/scikit-learn/scikit-learn/issues/21755 */display: inline-block !important;position: relative;}#sk-container-id-1 div.sk-text-repr-fallback {display: none;}</style><div id=\"sk-container-id-1\" class=\"sk-top-container\"><div class=\"sk-text-repr-fallback\"><pre>Pipeline(steps=[(&#x27;scale&#x27;, StandardScaler()),\n",
       "                (&#x27;model&#x27;, RandomForestClassifier())])</pre><b>In a Jupyter environment, please rerun this cell to show the HTML representation or trust the notebook. <br />On GitHub, the HTML representation is unable to render, please try loading this page with nbviewer.org.</b></div><div class=\"sk-container\" hidden><div class=\"sk-item sk-dashed-wrapped\"><div class=\"sk-label-container\"><div class=\"sk-label sk-toggleable\"><input class=\"sk-toggleable__control sk-hidden--visually\" id=\"sk-estimator-id-1\" type=\"checkbox\" ><label for=\"sk-estimator-id-1\" class=\"sk-toggleable__label sk-toggleable__label-arrow\">Pipeline</label><div class=\"sk-toggleable__content\"><pre>Pipeline(steps=[(&#x27;scale&#x27;, StandardScaler()),\n",
       "                (&#x27;model&#x27;, RandomForestClassifier())])</pre></div></div></div><div class=\"sk-serial\"><div class=\"sk-item\"><div class=\"sk-estimator sk-toggleable\"><input class=\"sk-toggleable__control sk-hidden--visually\" id=\"sk-estimator-id-2\" type=\"checkbox\" ><label for=\"sk-estimator-id-2\" class=\"sk-toggleable__label sk-toggleable__label-arrow\">StandardScaler</label><div class=\"sk-toggleable__content\"><pre>StandardScaler()</pre></div></div></div><div class=\"sk-item\"><div class=\"sk-estimator sk-toggleable\"><input class=\"sk-toggleable__control sk-hidden--visually\" id=\"sk-estimator-id-3\" type=\"checkbox\" ><label for=\"sk-estimator-id-3\" class=\"sk-toggleable__label sk-toggleable__label-arrow\">RandomForestClassifier</label><div class=\"sk-toggleable__content\"><pre>RandomForestClassifier()</pre></div></div></div></div></div></div></div>"
      ],
      "text/plain": [
       "Pipeline(steps=[('scale', StandardScaler()),\n",
       "                ('model', RandomForestClassifier())])"
      ]
     },
     "execution_count": 32,
     "metadata": {},
     "output_type": "execute_result"
    }
   ],
   "source": [
    "model.fit(X_train, y_train.values.ravel())"
   ]
  },
  {
   "cell_type": "code",
   "execution_count": 33,
   "id": "af59f8c0",
   "metadata": {
    "execution": {
     "iopub.execute_input": "2025-08-05T15:23:50.143127Z",
     "iopub.status.busy": "2025-08-05T15:23:50.142491Z",
     "iopub.status.idle": "2025-08-05T15:23:50.148635Z",
     "shell.execute_reply": "2025-08-05T15:23:50.147491Z"
    },
    "papermill": {
     "duration": 0.032655,
     "end_time": "2025-08-05T15:23:50.150835",
     "exception": false,
     "start_time": "2025-08-05T15:23:50.118180",
     "status": "completed"
    },
    "tags": []
   },
   "outputs": [],
   "source": [
    "from fairness_multiverse.universe import predict_w_threshold"
   ]
  },
  {
   "cell_type": "code",
   "execution_count": 34,
   "id": "a7cf2e16",
   "metadata": {
    "execution": {
     "iopub.execute_input": "2025-08-05T15:23:50.198880Z",
     "iopub.status.busy": "2025-08-05T15:23:50.197945Z",
     "iopub.status.idle": "2025-08-05T15:23:52.632577Z",
     "shell.execute_reply": "2025-08-05T15:23:52.631419Z"
    },
    "papermill": {
     "duration": 2.460455,
     "end_time": "2025-08-05T15:23:52.634305",
     "exception": false,
     "start_time": "2025-08-05T15:23:50.173850",
     "status": "completed"
    },
    "tags": []
   },
   "outputs": [
    {
     "data": {
      "text/plain": [
       "0.8635826552223832"
      ]
     },
     "execution_count": 34,
     "metadata": {},
     "output_type": "execute_result"
    }
   ],
   "source": [
    "probs_test = model.predict_proba(X_test)\n",
    "\n",
    "'''\n",
    "Below code returns a boolean array (or binary 0/1 array depending on how it’s used) where each element \n",
    "is True if the probability of class 1 is greater than or equal to the threshold, and False otherwise.\n",
    "'''\n",
    "y_pred_default = predict_w_threshold(probs_test, 0.5)\n",
    "\n",
    "from sklearn.metrics import accuracy_score\n",
    "\n",
    "# Naive prediction\n",
    "accuracy_score(y_true = y_true, y_pred = y_pred_default)"
   ]
  },
  {
   "cell_type": "code",
   "execution_count": 35,
   "id": "081964c3",
   "metadata": {
    "execution": {
     "iopub.execute_input": "2025-08-05T15:23:52.685918Z",
     "iopub.status.busy": "2025-08-05T15:23:52.685269Z",
     "iopub.status.idle": "2025-08-05T15:23:55.254274Z",
     "shell.execute_reply": "2025-08-05T15:23:55.253177Z"
    },
    "papermill": {
     "duration": 2.600216,
     "end_time": "2025-08-05T15:23:55.255897",
     "exception": false,
     "start_time": "2025-08-05T15:23:52.655681",
     "status": "completed"
    },
    "tags": []
   },
   "outputs": [
    {
     "data": {
      "text/plain": [
       "array([0, 0, 0, ..., 0, 0, 0])"
      ]
     },
     "execution_count": 35,
     "metadata": {},
     "output_type": "execute_result"
    }
   ],
   "source": [
    "model.predict(X_test)"
   ]
  },
  {
   "cell_type": "markdown",
   "id": "56c9705b",
   "metadata": {
    "papermill": {
     "duration": 0.018595,
     "end_time": "2025-08-05T15:23:55.296562",
     "exception": false,
     "start_time": "2025-08-05T15:23:55.277967",
     "status": "completed"
    },
    "tags": []
   },
   "source": [
    "# Conformal Prediction"
   ]
  },
  {
   "cell_type": "code",
   "execution_count": 36,
   "id": "160ec6ff",
   "metadata": {
    "execution": {
     "iopub.execute_input": "2025-08-05T15:23:55.337600Z",
     "iopub.status.busy": "2025-08-05T15:23:55.336842Z",
     "iopub.status.idle": "2025-08-05T15:23:55.342574Z",
     "shell.execute_reply": "2025-08-05T15:23:55.341459Z"
    },
    "papermill": {
     "duration": 0.027953,
     "end_time": "2025-08-05T15:23:55.344525",
     "exception": false,
     "start_time": "2025-08-05T15:23:55.316572",
     "status": "completed"
    },
    "tags": []
   },
   "outputs": [],
   "source": [
    "# Miscoverage level for conformal prediction (10% allowed error rate => 90% target coverage)\n",
    "alpha = 0.1"
   ]
  },
  {
   "cell_type": "code",
   "execution_count": 37,
   "id": "eadf4555-3dd3-440e-8e35-f82a4ad9f855",
   "metadata": {
    "execution": {
     "iopub.execute_input": "2025-08-05T15:23:55.385363Z",
     "iopub.status.busy": "2025-08-05T15:23:55.384620Z",
     "iopub.status.idle": "2025-08-05T15:23:57.880623Z",
     "shell.execute_reply": "2025-08-05T15:23:57.879596Z"
    },
    "papermill": {
     "duration": 2.518797,
     "end_time": "2025-08-05T15:23:57.882996",
     "exception": false,
     "start_time": "2025-08-05T15:23:55.364199",
     "status": "completed"
    },
    "tags": []
   },
   "outputs": [],
   "source": [
    "probs_calib = model.predict_proba(X_calib)"
   ]
  },
  {
   "cell_type": "code",
   "execution_count": 38,
   "id": "2ed93547-6d5d-4983-9b36-1ecb300da49a",
   "metadata": {
    "execution": {
     "iopub.execute_input": "2025-08-05T15:23:57.956962Z",
     "iopub.status.busy": "2025-08-05T15:23:57.956400Z",
     "iopub.status.idle": "2025-08-05T15:23:57.963299Z",
     "shell.execute_reply": "2025-08-05T15:23:57.962341Z"
    },
    "papermill": {
     "duration": 0.038926,
     "end_time": "2025-08-05T15:23:57.965117",
     "exception": false,
     "start_time": "2025-08-05T15:23:57.926191",
     "status": "completed"
    },
    "tags": []
   },
   "outputs": [],
   "source": [
    "y_calib = y_calib.values.ravel().astype(int)"
   ]
  },
  {
   "cell_type": "code",
   "execution_count": 39,
   "id": "65d1320d-f588-4b38-9072-62af1ae97f7d",
   "metadata": {
    "execution": {
     "iopub.execute_input": "2025-08-05T15:23:58.006496Z",
     "iopub.status.busy": "2025-08-05T15:23:58.005992Z",
     "iopub.status.idle": "2025-08-05T15:23:58.014303Z",
     "shell.execute_reply": "2025-08-05T15:23:58.013242Z"
    },
    "papermill": {
     "duration": 0.031721,
     "end_time": "2025-08-05T15:23:58.016552",
     "exception": false,
     "start_time": "2025-08-05T15:23:57.984831",
     "status": "completed"
    },
    "tags": []
   },
   "outputs": [],
   "source": [
    "from fairness_multiverse.conformal import compute_nc_scores\n",
    "\n",
    "# Compute nonconformity scores on calibration set (1 - probability of true class)\n",
    "nc_scores = compute_nc_scores(probs_calib, y_calib)"
   ]
  },
  {
   "cell_type": "code",
   "execution_count": 40,
   "id": "df3b8ca3-53b7-43d5-9667-7c85da7aeda2",
   "metadata": {
    "execution": {
     "iopub.execute_input": "2025-08-05T15:23:58.055611Z",
     "iopub.status.busy": "2025-08-05T15:23:58.055114Z",
     "iopub.status.idle": "2025-08-05T15:23:58.062368Z",
     "shell.execute_reply": "2025-08-05T15:23:58.061144Z"
    },
    "papermill": {
     "duration": 0.025419,
     "end_time": "2025-08-05T15:23:58.064529",
     "exception": false,
     "start_time": "2025-08-05T15:23:58.039110",
     "status": "completed"
    },
    "tags": []
   },
   "outputs": [],
   "source": [
    "from fairness_multiverse.conformal import find_threshold\n",
    "\n",
    "# Find conformal threshold q_hat for the given alpha (split conformal method)\n",
    "q_hat = find_threshold(nc_scores, alpha)"
   ]
  },
  {
   "cell_type": "code",
   "execution_count": 41,
   "id": "4d29e6c1-0ef6-4aa4-b8fe-4fe79b0d033a",
   "metadata": {
    "execution": {
     "iopub.execute_input": "2025-08-05T15:23:58.112686Z",
     "iopub.status.busy": "2025-08-05T15:23:58.112213Z",
     "iopub.status.idle": "2025-08-05T15:23:58.119889Z",
     "shell.execute_reply": "2025-08-05T15:23:58.118822Z"
    },
    "papermill": {
     "duration": 0.033099,
     "end_time": "2025-08-05T15:23:58.121575",
     "exception": false,
     "start_time": "2025-08-05T15:23:58.088476",
     "status": "completed"
    },
    "tags": []
   },
   "outputs": [
    {
     "data": {
      "text/plain": [
       "0.6599999999999999"
      ]
     },
     "execution_count": 41,
     "metadata": {},
     "output_type": "execute_result"
    }
   ],
   "source": [
    "q_hat"
   ]
  },
  {
   "cell_type": "code",
   "execution_count": 42,
   "id": "92460794-cdac-4be2-ba28-f28c0515a6fb",
   "metadata": {
    "execution": {
     "iopub.execute_input": "2025-08-05T15:23:58.164526Z",
     "iopub.status.busy": "2025-08-05T15:23:58.163730Z",
     "iopub.status.idle": "2025-08-05T15:24:01.402766Z",
     "shell.execute_reply": "2025-08-05T15:24:01.401620Z"
    },
    "papermill": {
     "duration": 3.262995,
     "end_time": "2025-08-05T15:24:01.404909",
     "exception": false,
     "start_time": "2025-08-05T15:23:58.141914",
     "status": "completed"
    },
    "tags": []
   },
   "outputs": [],
   "source": [
    "from fairness_multiverse.conformal import predict_conformal_sets\n",
    "\n",
    "# Generate prediction sets for each test example\n",
    "pred_sets = predict_conformal_sets(model, X_test, q_hat)"
   ]
  },
  {
   "cell_type": "code",
   "execution_count": 43,
   "id": "d90c9a65-e6db-4f5d-80cd-e68fb7e46829",
   "metadata": {
    "execution": {
     "iopub.execute_input": "2025-08-05T15:24:01.454457Z",
     "iopub.status.busy": "2025-08-05T15:24:01.453973Z",
     "iopub.status.idle": "2025-08-05T15:24:01.460954Z",
     "shell.execute_reply": "2025-08-05T15:24:01.460021Z"
    },
    "papermill": {
     "duration": 0.034468,
     "end_time": "2025-08-05T15:24:01.463129",
     "exception": false,
     "start_time": "2025-08-05T15:24:01.428661",
     "status": "completed"
    },
    "tags": []
   },
   "outputs": [],
   "source": [
    "y_true = y_true.squeeze()"
   ]
  },
  {
   "cell_type": "code",
   "execution_count": 44,
   "id": "3a58a54a-1e68-46b9-927a-df01f18aebc8",
   "metadata": {
    "execution": {
     "iopub.execute_input": "2025-08-05T15:24:01.508226Z",
     "iopub.status.busy": "2025-08-05T15:24:01.507785Z",
     "iopub.status.idle": "2025-08-05T15:24:02.285710Z",
     "shell.execute_reply": "2025-08-05T15:24:02.284725Z"
    },
    "papermill": {
     "duration": 0.801817,
     "end_time": "2025-08-05T15:24:02.287554",
     "exception": false,
     "start_time": "2025-08-05T15:24:01.485737",
     "status": "completed"
    },
    "tags": []
   },
   "outputs": [],
   "source": [
    "from fairness_multiverse.conformal import evaluate_sets\n",
    "\n",
    "# Evaluate coverage and average set size on test data\n",
    "metrics = evaluate_sets(pred_sets, y_true)"
   ]
  },
  {
   "cell_type": "markdown",
   "id": "2b569c12-9aaa-4c88-98c9-bbcd0cf3ebb8",
   "metadata": {
    "papermill": {
     "duration": 0.020361,
     "end_time": "2025-08-05T15:24:02.332557",
     "exception": false,
     "start_time": "2025-08-05T15:24:02.312196",
     "status": "completed"
    },
    "tags": []
   },
   "source": [
    "# CP Metrics"
   ]
  },
  {
   "cell_type": "code",
   "execution_count": 45,
   "id": "5ce0a5cb-201f-45a0-ade5-94c7f0bd6095",
   "metadata": {
    "execution": {
     "iopub.execute_input": "2025-08-05T15:24:02.377379Z",
     "iopub.status.busy": "2025-08-05T15:24:02.376864Z",
     "iopub.status.idle": "2025-08-05T15:24:02.384429Z",
     "shell.execute_reply": "2025-08-05T15:24:02.383367Z"
    },
    "papermill": {
     "duration": 0.031041,
     "end_time": "2025-08-05T15:24:02.386267",
     "exception": false,
     "start_time": "2025-08-05T15:24:02.355226",
     "status": "completed"
    },
    "tags": []
   },
   "outputs": [
    {
     "data": {
      "text/plain": [
       "{'coverage': 0.9127299074796567, 'avg_size': 1.145067439527366}"
      ]
     },
     "execution_count": 45,
     "metadata": {},
     "output_type": "execute_result"
    }
   ],
   "source": [
    "metrics"
   ]
  },
  {
   "cell_type": "code",
   "execution_count": 46,
   "id": "9b9a838d-31c9-430b-ae14-12baee460d17",
   "metadata": {
    "execution": {
     "iopub.execute_input": "2025-08-05T15:24:02.429768Z",
     "iopub.status.busy": "2025-08-05T15:24:02.429323Z",
     "iopub.status.idle": "2025-08-05T15:24:02.435739Z",
     "shell.execute_reply": "2025-08-05T15:24:02.434639Z"
    },
    "papermill": {
     "duration": 0.031007,
     "end_time": "2025-08-05T15:24:02.437589",
     "exception": false,
     "start_time": "2025-08-05T15:24:02.406582",
     "status": "completed"
    },
    "tags": []
   },
   "outputs": [],
   "source": [
    "example_universe = universe.copy()\n",
    "universe_training_year = example_universe.get(\"training_year\")\n",
    "universe_training_size = example_universe.get(\"training_size\")\n",
    "universe_scale = example_universe.get(\"scale\")\n",
    "universe_model = example_universe.get(\"model\")\n",
    "universe_exclude_features = example_universe.get(\"exclude_features\")\n",
    "universe_exclude_subgroups = example_universe.get(\"exclude_subgroups\")"
   ]
  },
  {
   "cell_type": "code",
   "execution_count": 47,
   "id": "f4b6a8ac-9dc0-4245-8a91-5b3b5999c4f9",
   "metadata": {
    "execution": {
     "iopub.execute_input": "2025-08-05T15:24:02.483442Z",
     "iopub.status.busy": "2025-08-05T15:24:02.483119Z",
     "iopub.status.idle": "2025-08-05T15:24:02.489026Z",
     "shell.execute_reply": "2025-08-05T15:24:02.488015Z"
    },
    "papermill": {
     "duration": 0.03076,
     "end_time": "2025-08-05T15:24:02.491005",
     "exception": false,
     "start_time": "2025-08-05T15:24:02.460245",
     "status": "completed"
    },
    "tags": []
   },
   "outputs": [],
   "source": [
    "cp_metrics_dict = {\n",
    "    \"universe_id\": [universe_id],\n",
    "    \"universe_training_year\": [universe_training_year],\n",
    "    \"universe_training_size\": [universe_training_size],\n",
    "    \"universe_scale\": [universe_scale],\n",
    "    \"universe_model\": [universe_model],\n",
    "    \"universe_exclude_features\": [universe_exclude_features],\n",
    "    \"universe_exclude_subgroups\": [universe_exclude_subgroups],\n",
    "    \"q_hat\": [q_hat],\n",
    "    \"coverage\": [metrics[\"coverage\"]],\n",
    "    \"avg_size\": [metrics[\"avg_size\"]],\n",
    "}"
   ]
  },
  {
   "cell_type": "code",
   "execution_count": 48,
   "id": "908acbb1-0371-4915-85ca-3fa520d2efe2",
   "metadata": {
    "execution": {
     "iopub.execute_input": "2025-08-05T15:24:02.537494Z",
     "iopub.status.busy": "2025-08-05T15:24:02.536662Z",
     "iopub.status.idle": "2025-08-05T15:24:02.544029Z",
     "shell.execute_reply": "2025-08-05T15:24:02.542901Z"
    },
    "papermill": {
     "duration": 0.032065,
     "end_time": "2025-08-05T15:24:02.545958",
     "exception": false,
     "start_time": "2025-08-05T15:24:02.513893",
     "status": "completed"
    },
    "tags": []
   },
   "outputs": [
    {
     "data": {
      "text/plain": [
       "{'universe_id': ['e7b3e337360cf7d4d088ff6da9af52e6'],\n",
       " 'universe_training_year': ['2014'],\n",
       " 'universe_training_size': ['5k'],\n",
       " 'universe_scale': ['scale'],\n",
       " 'universe_model': ['rf'],\n",
       " 'universe_exclude_features': ['nationality-sex'],\n",
       " 'universe_exclude_subgroups': ['keep-all'],\n",
       " 'q_hat': [0.6599999999999999],\n",
       " 'coverage': [0.9127299074796567],\n",
       " 'avg_size': [1.145067439527366]}"
      ]
     },
     "execution_count": 48,
     "metadata": {},
     "output_type": "execute_result"
    }
   ],
   "source": [
    "cp_metrics_dict"
   ]
  },
  {
   "cell_type": "code",
   "execution_count": 49,
   "id": "33007efc-14e9-4ec6-97ac-56a455c82265",
   "metadata": {
    "execution": {
     "iopub.execute_input": "2025-08-05T15:24:02.592178Z",
     "iopub.status.busy": "2025-08-05T15:24:02.591731Z",
     "iopub.status.idle": "2025-08-05T15:24:02.598644Z",
     "shell.execute_reply": "2025-08-05T15:24:02.597564Z"
    },
    "papermill": {
     "duration": 0.031801,
     "end_time": "2025-08-05T15:24:02.600600",
     "exception": false,
     "start_time": "2025-08-05T15:24:02.568799",
     "status": "completed"
    },
    "tags": []
   },
   "outputs": [],
   "source": [
    "cp_metrics_df = pd.DataFrame(cp_metrics_dict)"
   ]
  },
  {
   "cell_type": "code",
   "execution_count": 50,
   "id": "db12611b-57b2-4910-b9d0-355adfd6e7bf",
   "metadata": {
    "execution": {
     "iopub.execute_input": "2025-08-05T15:24:02.646081Z",
     "iopub.status.busy": "2025-08-05T15:24:02.645365Z",
     "iopub.status.idle": "2025-08-05T15:24:02.665641Z",
     "shell.execute_reply": "2025-08-05T15:24:02.664601Z"
    },
    "papermill": {
     "duration": 0.044482,
     "end_time": "2025-08-05T15:24:02.667810",
     "exception": false,
     "start_time": "2025-08-05T15:24:02.623328",
     "status": "completed"
    },
    "tags": []
   },
   "outputs": [
    {
     "data": {
      "text/html": [
       "<div>\n",
       "<style scoped>\n",
       "    .dataframe tbody tr th:only-of-type {\n",
       "        vertical-align: middle;\n",
       "    }\n",
       "\n",
       "    .dataframe tbody tr th {\n",
       "        vertical-align: top;\n",
       "    }\n",
       "\n",
       "    .dataframe thead th {\n",
       "        text-align: right;\n",
       "    }\n",
       "</style>\n",
       "<table border=\"1\" class=\"dataframe\">\n",
       "  <thead>\n",
       "    <tr style=\"text-align: right;\">\n",
       "      <th></th>\n",
       "      <th>universe_id</th>\n",
       "      <th>universe_training_year</th>\n",
       "      <th>universe_training_size</th>\n",
       "      <th>universe_scale</th>\n",
       "      <th>universe_model</th>\n",
       "      <th>universe_exclude_features</th>\n",
       "      <th>universe_exclude_subgroups</th>\n",
       "      <th>q_hat</th>\n",
       "      <th>coverage</th>\n",
       "      <th>avg_size</th>\n",
       "    </tr>\n",
       "  </thead>\n",
       "  <tbody>\n",
       "    <tr>\n",
       "      <th>0</th>\n",
       "      <td>e7b3e337360cf7d4d088ff6da9af52e6</td>\n",
       "      <td>2014</td>\n",
       "      <td>5k</td>\n",
       "      <td>scale</td>\n",
       "      <td>rf</td>\n",
       "      <td>nationality-sex</td>\n",
       "      <td>keep-all</td>\n",
       "      <td>0.66</td>\n",
       "      <td>0.91273</td>\n",
       "      <td>1.145067</td>\n",
       "    </tr>\n",
       "  </tbody>\n",
       "</table>\n",
       "</div>"
      ],
      "text/plain": [
       "                        universe_id universe_training_year  \\\n",
       "0  e7b3e337360cf7d4d088ff6da9af52e6                   2014   \n",
       "\n",
       "  universe_training_size universe_scale universe_model  \\\n",
       "0                     5k          scale             rf   \n",
       "\n",
       "  universe_exclude_features universe_exclude_subgroups  q_hat  coverage  \\\n",
       "0           nationality-sex                   keep-all   0.66   0.91273   \n",
       "\n",
       "   avg_size  \n",
       "0  1.145067  "
      ]
     },
     "execution_count": 50,
     "metadata": {},
     "output_type": "execute_result"
    }
   ],
   "source": [
    "cp_metrics_df"
   ]
  },
  {
   "cell_type": "code",
   "execution_count": 51,
   "id": "b7fbde55-a0a1-47e4-9af6-fe4a17fa8c61",
   "metadata": {
    "execution": {
     "iopub.execute_input": "2025-08-05T15:24:02.714454Z",
     "iopub.status.busy": "2025-08-05T15:24:02.713947Z",
     "iopub.status.idle": "2025-08-05T15:24:02.719166Z",
     "shell.execute_reply": "2025-08-05T15:24:02.718258Z"
    },
    "papermill": {
     "duration": 0.031189,
     "end_time": "2025-08-05T15:24:02.720936",
     "exception": false,
     "start_time": "2025-08-05T15:24:02.689747",
     "status": "completed"
    },
    "tags": []
   },
   "outputs": [],
   "source": [
    "# Conditional Coverage & looking at subgroups"
   ]
  },
  {
   "cell_type": "code",
   "execution_count": 52,
   "id": "027ae886-68dd-4141-96c7-805a5450e1ef",
   "metadata": {
    "execution": {
     "iopub.execute_input": "2025-08-05T15:24:02.769183Z",
     "iopub.status.busy": "2025-08-05T15:24:02.768855Z",
     "iopub.status.idle": "2025-08-05T15:24:03.028757Z",
     "shell.execute_reply": "2025-08-05T15:24:03.027746Z"
    },
    "papermill": {
     "duration": 0.28555,
     "end_time": "2025-08-05T15:24:03.030770",
     "exception": false,
     "start_time": "2025-08-05T15:24:02.745220",
     "status": "completed"
    },
    "tags": []
   },
   "outputs": [],
   "source": [
    "from fairness_multiverse.conformal import build_cp_groups\n",
    "\n",
    "cp_groups_df = build_cp_groups(pred_sets, y_true, X_test.index, org_test)\n",
    "#needs universe_id and setting"
   ]
  },
  {
   "cell_type": "code",
   "execution_count": 53,
   "id": "6cbdab96-b2b2-45af-ad54-d0516db2e28d",
   "metadata": {
    "execution": {
     "iopub.execute_input": "2025-08-05T15:24:03.078356Z",
     "iopub.status.busy": "2025-08-05T15:24:03.077614Z",
     "iopub.status.idle": "2025-08-05T15:24:04.504520Z",
     "shell.execute_reply": "2025-08-05T15:24:04.503790Z"
    },
    "papermill": {
     "duration": 1.440435,
     "end_time": "2025-08-05T15:24:04.506307",
     "exception": false,
     "start_time": "2025-08-05T15:24:03.065872",
     "status": "completed"
    },
    "tags": []
   },
   "outputs": [],
   "source": [
    "# Define covered = 1 if true_label is in the predicted set\n",
    "cp_groups_df['covered'] = cp_groups_df.apply(\n",
    "    lambda r: int(r['true_label'] in r['pred_set']),\n",
    "    axis=1\n",
    ")"
   ]
  },
  {
   "cell_type": "code",
   "execution_count": 54,
   "id": "338ff529-1a6b-4b87-a931-8e4788d52aad",
   "metadata": {
    "execution": {
     "iopub.execute_input": "2025-08-05T15:24:04.555320Z",
     "iopub.status.busy": "2025-08-05T15:24:04.554523Z",
     "iopub.status.idle": "2025-08-05T15:24:04.559479Z",
     "shell.execute_reply": "2025-08-05T15:24:04.558588Z"
    },
    "papermill": {
     "duration": 0.030344,
     "end_time": "2025-08-05T15:24:04.561416",
     "exception": false,
     "start_time": "2025-08-05T15:24:04.531072",
     "status": "completed"
    },
    "tags": []
   },
   "outputs": [],
   "source": [
    "#cp_groups_df"
   ]
  },
  {
   "cell_type": "code",
   "execution_count": 55,
   "id": "90032e27-66df-4540-9169-4e89cfbaa758",
   "metadata": {
    "execution": {
     "iopub.execute_input": "2025-08-05T15:24:04.607438Z",
     "iopub.status.busy": "2025-08-05T15:24:04.607009Z",
     "iopub.status.idle": "2025-08-05T15:24:04.618186Z",
     "shell.execute_reply": "2025-08-05T15:24:04.617362Z"
    },
    "papermill": {
     "duration": 0.03603,
     "end_time": "2025-08-05T15:24:04.620026",
     "exception": false,
     "start_time": "2025-08-05T15:24:04.583996",
     "status": "completed"
    },
    "tags": []
   },
   "outputs": [],
   "source": [
    "subgroups = ['frau1','nongerman','nongerman_male','nongerman_female']\n",
    "\n",
    "# Conditional coverage for subgroup==1\n",
    "cond_coverage = {\n",
    "    g: cp_groups_df.loc[cp_groups_df[g]==1, 'covered'].mean()\n",
    "    for g in subgroups\n",
    "}"
   ]
  },
  {
   "cell_type": "code",
   "execution_count": 56,
   "id": "1e348fb1-b9c3-45bc-ba23-f016827a7e0d",
   "metadata": {
    "execution": {
     "iopub.execute_input": "2025-08-05T15:24:04.645162Z",
     "iopub.status.busy": "2025-08-05T15:24:04.644841Z",
     "iopub.status.idle": "2025-08-05T15:24:04.650503Z",
     "shell.execute_reply": "2025-08-05T15:24:04.649808Z"
    },
    "papermill": {
     "duration": 0.018743,
     "end_time": "2025-08-05T15:24:04.651690",
     "exception": false,
     "start_time": "2025-08-05T15:24:04.632947",
     "status": "completed"
    },
    "tags": []
   },
   "outputs": [
    {
     "data": {
      "text/plain": [
       "{'frau1': 0.9105000673945276,\n",
       " 'nongerman': 0.9019816987593331,\n",
       " 'nongerman_male': 0.9163289201116815,\n",
       " 'nongerman_female': 0.8782414307004471}"
      ]
     },
     "execution_count": 56,
     "metadata": {},
     "output_type": "execute_result"
    }
   ],
   "source": [
    "cond_coverage"
   ]
  },
  {
   "cell_type": "code",
   "execution_count": 57,
   "id": "f5093324-c3dd-4d63-bc4c-8d945e5c8bbb",
   "metadata": {
    "execution": {
     "iopub.execute_input": "2025-08-05T15:24:04.677776Z",
     "iopub.status.busy": "2025-08-05T15:24:04.677143Z",
     "iopub.status.idle": "2025-08-05T15:24:04.683216Z",
     "shell.execute_reply": "2025-08-05T15:24:04.682468Z"
    },
    "papermill": {
     "duration": 0.020901,
     "end_time": "2025-08-05T15:24:04.684603",
     "exception": false,
     "start_time": "2025-08-05T15:24:04.663702",
     "status": "completed"
    },
    "tags": []
   },
   "outputs": [],
   "source": [
    "for subgroup, cov in cond_coverage.items():\n",
    "    cp_metrics_df[f\"cov_{subgroup}\"] = cov"
   ]
  },
  {
   "cell_type": "code",
   "execution_count": 58,
   "id": "6e872e10-dbe5-49e8-b554-5030c98ff75d",
   "metadata": {
    "execution": {
     "iopub.execute_input": "2025-08-05T15:24:04.709918Z",
     "iopub.status.busy": "2025-08-05T15:24:04.709404Z",
     "iopub.status.idle": "2025-08-05T15:24:04.724267Z",
     "shell.execute_reply": "2025-08-05T15:24:04.723466Z"
    },
    "papermill": {
     "duration": 0.028443,
     "end_time": "2025-08-05T15:24:04.725823",
     "exception": false,
     "start_time": "2025-08-05T15:24:04.697380",
     "status": "completed"
    },
    "tags": []
   },
   "outputs": [
    {
     "data": {
      "text/html": [
       "<div>\n",
       "<style scoped>\n",
       "    .dataframe tbody tr th:only-of-type {\n",
       "        vertical-align: middle;\n",
       "    }\n",
       "\n",
       "    .dataframe tbody tr th {\n",
       "        vertical-align: top;\n",
       "    }\n",
       "\n",
       "    .dataframe thead th {\n",
       "        text-align: right;\n",
       "    }\n",
       "</style>\n",
       "<table border=\"1\" class=\"dataframe\">\n",
       "  <thead>\n",
       "    <tr style=\"text-align: right;\">\n",
       "      <th></th>\n",
       "      <th>universe_id</th>\n",
       "      <th>universe_training_year</th>\n",
       "      <th>universe_training_size</th>\n",
       "      <th>universe_scale</th>\n",
       "      <th>universe_model</th>\n",
       "      <th>universe_exclude_features</th>\n",
       "      <th>universe_exclude_subgroups</th>\n",
       "      <th>q_hat</th>\n",
       "      <th>coverage</th>\n",
       "      <th>avg_size</th>\n",
       "      <th>cov_frau1</th>\n",
       "      <th>cov_nongerman</th>\n",
       "      <th>cov_nongerman_male</th>\n",
       "      <th>cov_nongerman_female</th>\n",
       "    </tr>\n",
       "  </thead>\n",
       "  <tbody>\n",
       "    <tr>\n",
       "      <th>0</th>\n",
       "      <td>e7b3e337360cf7d4d088ff6da9af52e6</td>\n",
       "      <td>2014</td>\n",
       "      <td>5k</td>\n",
       "      <td>scale</td>\n",
       "      <td>rf</td>\n",
       "      <td>nationality-sex</td>\n",
       "      <td>keep-all</td>\n",
       "      <td>0.66</td>\n",
       "      <td>0.91273</td>\n",
       "      <td>1.145067</td>\n",
       "      <td>0.9105</td>\n",
       "      <td>0.901982</td>\n",
       "      <td>0.916329</td>\n",
       "      <td>0.878241</td>\n",
       "    </tr>\n",
       "  </tbody>\n",
       "</table>\n",
       "</div>"
      ],
      "text/plain": [
       "                        universe_id universe_training_year  \\\n",
       "0  e7b3e337360cf7d4d088ff6da9af52e6                   2014   \n",
       "\n",
       "  universe_training_size universe_scale universe_model  \\\n",
       "0                     5k          scale             rf   \n",
       "\n",
       "  universe_exclude_features universe_exclude_subgroups  q_hat  coverage  \\\n",
       "0           nationality-sex                   keep-all   0.66   0.91273   \n",
       "\n",
       "   avg_size  cov_frau1  cov_nongerman  cov_nongerman_male  \\\n",
       "0  1.145067     0.9105       0.901982            0.916329   \n",
       "\n",
       "   cov_nongerman_female  \n",
       "0              0.878241  "
      ]
     },
     "execution_count": 58,
     "metadata": {},
     "output_type": "execute_result"
    }
   ],
   "source": [
    "cp_metrics_df"
   ]
  },
  {
   "cell_type": "markdown",
   "id": "33774451",
   "metadata": {
    "papermill": {
     "duration": 0.011301,
     "end_time": "2025-08-05T15:24:04.749830",
     "exception": false,
     "start_time": "2025-08-05T15:24:04.738529",
     "status": "completed"
    },
    "tags": []
   },
   "source": [
    "# (Fairness) Metrics"
   ]
  },
  {
   "cell_type": "code",
   "execution_count": 59,
   "id": "debc5d62",
   "metadata": {
    "execution": {
     "iopub.execute_input": "2025-08-05T15:24:04.773985Z",
     "iopub.status.busy": "2025-08-05T15:24:04.773433Z",
     "iopub.status.idle": "2025-08-05T15:24:04.787062Z",
     "shell.execute_reply": "2025-08-05T15:24:04.786390Z"
    },
    "papermill": {
     "duration": 0.027367,
     "end_time": "2025-08-05T15:24:04.788303",
     "exception": false,
     "start_time": "2025-08-05T15:24:04.760936",
     "status": "completed"
    },
    "tags": []
   },
   "outputs": [],
   "source": [
    "# do I need to include maxdeutsch1.missing?\n",
    "\n",
    "import numpy as np\n",
    "\n",
    "colname_to_bin = \"maxdeutsch1\"\n",
    "majority_value = org_train[colname_to_bin].mode()[0]\n",
    "\n",
    "org_test[\"majmin\"] = np.where(org_test[colname_to_bin] == majority_value, \"majority\", \"minority\")"
   ]
  },
  {
   "cell_type": "code",
   "execution_count": 60,
   "id": "06a50de5",
   "metadata": {
    "execution": {
     "iopub.execute_input": "2025-08-05T15:24:04.814673Z",
     "iopub.status.busy": "2025-08-05T15:24:04.814024Z",
     "iopub.status.idle": "2025-08-05T15:24:06.241584Z",
     "shell.execute_reply": "2025-08-05T15:24:06.240815Z"
    },
    "papermill": {
     "duration": 1.441401,
     "end_time": "2025-08-05T15:24:06.243037",
     "exception": false,
     "start_time": "2025-08-05T15:24:04.801636",
     "status": "completed"
    },
    "tags": []
   },
   "outputs": [],
   "source": [
    "example_universe = universe.copy()\n",
    "example_universe[\"cutoff\"] = example_universe[\"cutoff\"][0]\n",
    "example_universe[\"eval_fairness_grouping\"] = example_universe[\"eval_fairness_grouping\"][0]\n",
    "fairness_dict, metric_frame = universe_analysis.compute_metrics(\n",
    "    example_universe,\n",
    "    y_pred_prob=probs_test,\n",
    "    y_test=y_true,\n",
    "    org_test=org_test,\n",
    ")"
   ]
  },
  {
   "cell_type": "markdown",
   "id": "f95d4e02",
   "metadata": {
    "papermill": {
     "duration": 0.011225,
     "end_time": "2025-08-05T15:24:06.266534",
     "exception": false,
     "start_time": "2025-08-05T15:24:06.255309",
     "status": "completed"
    },
    "tags": []
   },
   "source": [
    "# Overall"
   ]
  },
  {
   "cell_type": "markdown",
   "id": "bdee4871",
   "metadata": {
    "papermill": {
     "duration": 0.011328,
     "end_time": "2025-08-05T15:24:06.288837",
     "exception": false,
     "start_time": "2025-08-05T15:24:06.277509",
     "status": "completed"
    },
    "tags": []
   },
   "source": [
    "Fairness\n",
    "Main fairness target: Equalized Odds. Seems to be a better fit than equal opportunity, since we're not only interested in Y = 1. Seems to be a better fit than demographic parity, since we also care about accuracy, not just equal distribution of preds.\n",
    "\n",
    "Pick column for computation of fairness metrics\n",
    "\n",
    "Performance\n",
    "Overall performance measures, most interesting in relation to the measures split by group below"
   ]
  },
  {
   "cell_type": "code",
   "execution_count": 61,
   "id": "c4e067c6",
   "metadata": {
    "execution": {
     "iopub.execute_input": "2025-08-05T15:24:06.312224Z",
     "iopub.status.busy": "2025-08-05T15:24:06.311743Z",
     "iopub.status.idle": "2025-08-05T15:24:06.319177Z",
     "shell.execute_reply": "2025-08-05T15:24:06.318418Z"
    },
    "papermill": {
     "duration": 0.020878,
     "end_time": "2025-08-05T15:24:06.320679",
     "exception": false,
     "start_time": "2025-08-05T15:24:06.299801",
     "status": "completed"
    },
    "tags": []
   },
   "outputs": [
    {
     "data": {
      "text/plain": [
       "accuracy                   0.197704\n",
       "balanced accuracy          0.533224\n",
       "f1                         0.239449\n",
       "precision                  0.136299\n",
       "false positive rate        0.918084\n",
       "false negative rate        0.015468\n",
       "selection rate             0.926608\n",
       "count                  89710.000000\n",
       "dtype: float64"
      ]
     },
     "execution_count": 61,
     "metadata": {},
     "output_type": "execute_result"
    }
   ],
   "source": [
    "metric_frame.overall"
   ]
  },
  {
   "cell_type": "markdown",
   "id": "e968fe9d",
   "metadata": {
    "papermill": {
     "duration": 0.011104,
     "end_time": "2025-08-05T15:24:06.344203",
     "exception": false,
     "start_time": "2025-08-05T15:24:06.333099",
     "status": "completed"
    },
    "tags": []
   },
   "source": [
    "By Group"
   ]
  },
  {
   "cell_type": "code",
   "execution_count": 62,
   "id": "ec325bce",
   "metadata": {
    "execution": {
     "iopub.execute_input": "2025-08-05T15:24:06.367568Z",
     "iopub.status.busy": "2025-08-05T15:24:06.367120Z",
     "iopub.status.idle": "2025-08-05T15:24:06.379409Z",
     "shell.execute_reply": "2025-08-05T15:24:06.378601Z"
    },
    "papermill": {
     "duration": 0.025723,
     "end_time": "2025-08-05T15:24:06.380965",
     "exception": false,
     "start_time": "2025-08-05T15:24:06.355242",
     "status": "completed"
    },
    "tags": []
   },
   "outputs": [
    {
     "data": {
      "text/html": [
       "<div>\n",
       "<style scoped>\n",
       "    .dataframe tbody tr th:only-of-type {\n",
       "        vertical-align: middle;\n",
       "    }\n",
       "\n",
       "    .dataframe tbody tr th {\n",
       "        vertical-align: top;\n",
       "    }\n",
       "\n",
       "    .dataframe thead th {\n",
       "        text-align: right;\n",
       "    }\n",
       "</style>\n",
       "<table border=\"1\" class=\"dataframe\">\n",
       "  <thead>\n",
       "    <tr style=\"text-align: right;\">\n",
       "      <th></th>\n",
       "      <th>accuracy</th>\n",
       "      <th>balanced accuracy</th>\n",
       "      <th>f1</th>\n",
       "      <th>precision</th>\n",
       "      <th>false positive rate</th>\n",
       "      <th>false negative rate</th>\n",
       "      <th>selection rate</th>\n",
       "      <th>count</th>\n",
       "    </tr>\n",
       "    <tr>\n",
       "      <th>majmin</th>\n",
       "      <th></th>\n",
       "      <th></th>\n",
       "      <th></th>\n",
       "      <th></th>\n",
       "      <th></th>\n",
       "      <th></th>\n",
       "      <th></th>\n",
       "      <th></th>\n",
       "    </tr>\n",
       "  </thead>\n",
       "  <tbody>\n",
       "    <tr>\n",
       "      <th>majority</th>\n",
       "      <td>0.194579</td>\n",
       "      <td>0.532449</td>\n",
       "      <td>0.245507</td>\n",
       "      <td>0.140095</td>\n",
       "      <td>0.926787</td>\n",
       "      <td>0.008315</td>\n",
       "      <td>0.935362</td>\n",
       "      <td>69170.0</td>\n",
       "    </tr>\n",
       "    <tr>\n",
       "      <th>minority</th>\n",
       "      <td>0.208228</td>\n",
       "      <td>0.533795</td>\n",
       "      <td>0.217937</td>\n",
       "      <td>0.122972</td>\n",
       "      <td>0.889335</td>\n",
       "      <td>0.043074</td>\n",
       "      <td>0.897128</td>\n",
       "      <td>20540.0</td>\n",
       "    </tr>\n",
       "  </tbody>\n",
       "</table>\n",
       "</div>"
      ],
      "text/plain": [
       "          accuracy  balanced accuracy        f1  precision  \\\n",
       "majmin                                                       \n",
       "majority  0.194579           0.532449  0.245507   0.140095   \n",
       "minority  0.208228           0.533795  0.217937   0.122972   \n",
       "\n",
       "          false positive rate  false negative rate  selection rate    count  \n",
       "majmin                                                                       \n",
       "majority             0.926787             0.008315        0.935362  69170.0  \n",
       "minority             0.889335             0.043074        0.897128  20540.0  "
      ]
     },
     "execution_count": 62,
     "metadata": {},
     "output_type": "execute_result"
    }
   ],
   "source": [
    "metric_frame.by_group"
   ]
  },
  {
   "cell_type": "code",
   "execution_count": 63,
   "id": "a9ddbe63",
   "metadata": {
    "execution": {
     "iopub.execute_input": "2025-08-05T15:24:06.406023Z",
     "iopub.status.busy": "2025-08-05T15:24:06.405215Z",
     "iopub.status.idle": "2025-08-05T15:24:08.519318Z",
     "shell.execute_reply": "2025-08-05T15:24:08.518373Z"
    },
    "papermill": {
     "duration": 2.127728,
     "end_time": "2025-08-05T15:24:08.521025",
     "exception": false,
     "start_time": "2025-08-05T15:24:06.393297",
     "status": "completed"
    },
    "tags": []
   },
   "outputs": [
    {
     "data": {
      "text/plain": [
       "array([[<Axes: title={'center': 'accuracy'}, xlabel='majmin'>,\n",
       "        <Axes: title={'center': 'balanced accuracy'}, xlabel='majmin'>,\n",
       "        <Axes: title={'center': 'f1'}, xlabel='majmin'>],\n",
       "       [<Axes: title={'center': 'precision'}, xlabel='majmin'>,\n",
       "        <Axes: title={'center': 'false positive rate'}, xlabel='majmin'>,\n",
       "        <Axes: title={'center': 'false negative rate'}, xlabel='majmin'>],\n",
       "       [<Axes: title={'center': 'selection rate'}, xlabel='majmin'>,\n",
       "        <Axes: title={'center': 'count'}, xlabel='majmin'>,\n",
       "        <Axes: xlabel='majmin'>]], dtype=object)"
      ]
     },
     "execution_count": 63,
     "metadata": {},
     "output_type": "execute_result"
    },
    {
     "data": {
      "image/png": "[encoded data removed]",
      "text/plain": [
       "<Figure size 1200x800 with 9 Axes>"
      ]
     },
     "metadata": {},
     "output_type": "display_data"
    }
   ],
   "source": [
    "# In a graphic\n",
    "metric_frame.by_group.plot.bar(\n",
    "    subplots=True,\n",
    "    layout=[3, 3],\n",
    "    legend=False,\n",
    "    figsize=[12, 8],\n",
    "    title=\"Show all metrics\",\n",
    ")"
   ]
  },
  {
   "cell_type": "markdown",
   "id": "f57a0bac",
   "metadata": {
    "papermill": {
     "duration": 0.022435,
     "end_time": "2025-08-05T15:24:08.566689",
     "exception": false,
     "start_time": "2025-08-05T15:24:08.544254",
     "status": "completed"
    },
    "tags": []
   },
   "source": [
    "# Final Output"
   ]
  },
  {
   "cell_type": "code",
   "execution_count": 64,
   "id": "96d280a3",
   "metadata": {
    "execution": {
     "iopub.execute_input": "2025-08-05T15:24:08.613705Z",
     "iopub.status.busy": "2025-08-05T15:24:08.612687Z",
     "iopub.status.idle": "2025-08-05T15:24:08.621450Z",
     "shell.execute_reply": "2025-08-05T15:24:08.620549Z"
    },
    "papermill": {
     "duration": 0.03383,
     "end_time": "2025-08-05T15:24:08.622928",
     "exception": false,
     "start_time": "2025-08-05T15:24:08.589098",
     "status": "completed"
    },
    "tags": []
   },
   "outputs": [
    {
     "data": {
      "text/plain": [
       "4"
      ]
     },
     "execution_count": 64,
     "metadata": {},
     "output_type": "execute_result"
    }
   ],
   "source": [
    "sub_universes = universe_analysis.generate_sub_universes()\n",
    "len(sub_universes)"
   ]
  },
  {
   "cell_type": "code",
   "execution_count": 65,
   "id": "92adf7ba",
   "metadata": {
    "execution": {
     "iopub.execute_input": "2025-08-05T15:24:08.670606Z",
     "iopub.status.busy": "2025-08-05T15:24:08.669785Z",
     "iopub.status.idle": "2025-08-05T15:24:08.675772Z",
     "shell.execute_reply": "2025-08-05T15:24:08.674722Z"
    },
    "papermill": {
     "duration": 0.031988,
     "end_time": "2025-08-05T15:24:08.677421",
     "exception": false,
     "start_time": "2025-08-05T15:24:08.645433",
     "status": "completed"
    },
    "tags": []
   },
   "outputs": [],
   "source": [
    "def filter_sub_universe_data(sub_universe, org_test):\n",
    "    # Keep all rows — no filtering\n",
    "    keep_rows_mask = np.ones(org_test.shape[0], dtype=bool)\n",
    "\n",
    "    print(f\"[INFO] Keeping all rows: {keep_rows_mask.sum()} rows retained.\")\n",
    "    return keep_rows_mask"
   ]
  },
  {
   "cell_type": "code",
   "execution_count": 66,
   "id": "4a759155",
   "metadata": {
    "execution": {
     "iopub.execute_input": "2025-08-05T15:24:08.725923Z",
     "iopub.status.busy": "2025-08-05T15:24:08.725083Z",
     "iopub.status.idle": "2025-08-05T15:24:17.714819Z",
     "shell.execute_reply": "2025-08-05T15:24:17.713801Z"
    },
    "papermill": {
     "duration": 9.014579,
     "end_time": "2025-08-05T15:24:17.716388",
     "exception": false,
     "start_time": "2025-08-05T15:24:08.701809",
     "status": "completed"
    },
    "tags": []
   },
   "outputs": [
    {
     "name": "stdout",
     "output_type": "stream",
     "text": [
      "Stopping execution_time clock.\n",
      "[INFO] Keeping all rows: 89710 rows retained.\n"
     ]
    },
    {
     "name": "stdout",
     "output_type": "stream",
     "text": [
      "[INFO] Keeping all rows: 89710 rows retained.\n"
     ]
    },
    {
     "name": "stdout",
     "output_type": "stream",
     "text": [
      "[INFO] Keeping all rows: 89710 rows retained.\n"
     ]
    },
    {
     "name": "stdout",
     "output_type": "stream",
     "text": [
      "[INFO] Keeping all rows: 89710 rows retained.\n"
     ]
    },
    {
     "data": {
      "text/html": [
       "<div>\n",
       "<style scoped>\n",
       "    .dataframe tbody tr th:only-of-type {\n",
       "        vertical-align: middle;\n",
       "    }\n",
       "\n",
       "    .dataframe tbody tr th {\n",
       "        vertical-align: top;\n",
       "    }\n",
       "\n",
       "    .dataframe thead th {\n",
       "        text-align: right;\n",
       "    }\n",
       "</style>\n",
       "<table border=\"1\" class=\"dataframe\">\n",
       "  <thead>\n",
       "    <tr style=\"text-align: right;\">\n",
       "      <th></th>\n",
       "      <th>run_no</th>\n",
       "      <th>universe_id</th>\n",
       "      <th>universe_settings</th>\n",
       "      <th>execution_time</th>\n",
       "      <th>test_size_n</th>\n",
       "      <th>test_size_frac</th>\n",
       "      <th>fair_main_equalized_odds_difference</th>\n",
       "      <th>fair_main_equalized_odds_ratio</th>\n",
       "      <th>fair_main_demographic_parity_difference</th>\n",
       "      <th>fair_main_demographic_parity_ratio</th>\n",
       "      <th>...</th>\n",
       "      <th>perf_grp_precision_0</th>\n",
       "      <th>perf_grp_precision_1</th>\n",
       "      <th>perf_grp_false positive rate_0</th>\n",
       "      <th>perf_grp_false positive rate_1</th>\n",
       "      <th>perf_grp_false negative rate_0</th>\n",
       "      <th>perf_grp_false negative rate_1</th>\n",
       "      <th>perf_grp_selection rate_0</th>\n",
       "      <th>perf_grp_selection rate_1</th>\n",
       "      <th>perf_grp_count_0</th>\n",
       "      <th>perf_grp_count_1</th>\n",
       "    </tr>\n",
       "  </thead>\n",
       "  <tbody>\n",
       "    <tr>\n",
       "      <th>0</th>\n",
       "      <td>15</td>\n",
       "      <td>e7b3e337360cf7d4d088ff6da9af52e6</td>\n",
       "      <td>{\"cutoff\": \"quantile_0.1\", \"eval_fairness_grou...</td>\n",
       "      <td>31.883006</td>\n",
       "      <td>89710</td>\n",
       "      <td>1.0</td>\n",
       "      <td>0.037451</td>\n",
       "      <td>0.959590</td>\n",
       "      <td>0.038235</td>\n",
       "      <td>0.959123</td>\n",
       "      <td>...</td>\n",
       "      <td>NaN</td>\n",
       "      <td>NaN</td>\n",
       "      <td>NaN</td>\n",
       "      <td>NaN</td>\n",
       "      <td>NaN</td>\n",
       "      <td>NaN</td>\n",
       "      <td>NaN</td>\n",
       "      <td>NaN</td>\n",
       "      <td>NaN</td>\n",
       "      <td>NaN</td>\n",
       "    </tr>\n",
       "    <tr>\n",
       "      <th>0</th>\n",
       "      <td>15</td>\n",
       "      <td>e7b3e337360cf7d4d088ff6da9af52e6</td>\n",
       "      <td>{\"cutoff\": \"quantile_0.1\", \"eval_fairness_grou...</td>\n",
       "      <td>31.883006</td>\n",
       "      <td>89710</td>\n",
       "      <td>1.0</td>\n",
       "      <td>0.037451</td>\n",
       "      <td>0.959590</td>\n",
       "      <td>0.038235</td>\n",
       "      <td>0.959123</td>\n",
       "      <td>...</td>\n",
       "      <td>0.122972</td>\n",
       "      <td>0.140095</td>\n",
       "      <td>0.889335</td>\n",
       "      <td>0.926787</td>\n",
       "      <td>0.043074</td>\n",
       "      <td>0.008315</td>\n",
       "      <td>0.897128</td>\n",
       "      <td>0.935362</td>\n",
       "      <td>20540.0</td>\n",
       "      <td>69170.0</td>\n",
       "    </tr>\n",
       "    <tr>\n",
       "      <th>0</th>\n",
       "      <td>15</td>\n",
       "      <td>e7b3e337360cf7d4d088ff6da9af52e6</td>\n",
       "      <td>{\"cutoff\": \"quantile_0.25\", \"eval_fairness_gro...</td>\n",
       "      <td>31.883006</td>\n",
       "      <td>89710</td>\n",
       "      <td>1.0</td>\n",
       "      <td>0.095005</td>\n",
       "      <td>0.899833</td>\n",
       "      <td>0.070903</td>\n",
       "      <td>0.908304</td>\n",
       "      <td>...</td>\n",
       "      <td>NaN</td>\n",
       "      <td>NaN</td>\n",
       "      <td>NaN</td>\n",
       "      <td>NaN</td>\n",
       "      <td>NaN</td>\n",
       "      <td>NaN</td>\n",
       "      <td>NaN</td>\n",
       "      <td>NaN</td>\n",
       "      <td>NaN</td>\n",
       "      <td>NaN</td>\n",
       "    </tr>\n",
       "    <tr>\n",
       "      <th>0</th>\n",
       "      <td>15</td>\n",
       "      <td>e7b3e337360cf7d4d088ff6da9af52e6</td>\n",
       "      <td>{\"cutoff\": \"quantile_0.25\", \"eval_fairness_gro...</td>\n",
       "      <td>31.883006</td>\n",
       "      <td>89710</td>\n",
       "      <td>1.0</td>\n",
       "      <td>0.095005</td>\n",
       "      <td>0.899833</td>\n",
       "      <td>0.070903</td>\n",
       "      <td>0.908304</td>\n",
       "      <td>...</td>\n",
       "      <td>0.140094</td>\n",
       "      <td>0.162083</td>\n",
       "      <td>0.682644</td>\n",
       "      <td>0.746560</td>\n",
       "      <td>0.146537</td>\n",
       "      <td>0.051532</td>\n",
       "      <td>0.702337</td>\n",
       "      <td>0.773240</td>\n",
       "      <td>20540.0</td>\n",
       "      <td>69170.0</td>\n",
       "    </tr>\n",
       "  </tbody>\n",
       "</table>\n",
       "<p>4 rows × 50 columns</p>\n",
       "</div>"
      ],
      "text/plain": [
       "  run_no                       universe_id  \\\n",
       "0     15  e7b3e337360cf7d4d088ff6da9af52e6   \n",
       "0     15  e7b3e337360cf7d4d088ff6da9af52e6   \n",
       "0     15  e7b3e337360cf7d4d088ff6da9af52e6   \n",
       "0     15  e7b3e337360cf7d4d088ff6da9af52e6   \n",
       "\n",
       "                                   universe_settings  execution_time  \\\n",
       "0  {\"cutoff\": \"quantile_0.1\", \"eval_fairness_grou...       31.883006   \n",
       "0  {\"cutoff\": \"quantile_0.1\", \"eval_fairness_grou...       31.883006   \n",
       "0  {\"cutoff\": \"quantile_0.25\", \"eval_fairness_gro...       31.883006   \n",
       "0  {\"cutoff\": \"quantile_0.25\", \"eval_fairness_gro...       31.883006   \n",
       "\n",
       "   test_size_n  test_size_frac  fair_main_equalized_odds_difference  \\\n",
       "0        89710             1.0                             0.037451   \n",
       "0        89710             1.0                             0.037451   \n",
       "0        89710             1.0                             0.095005   \n",
       "0        89710             1.0                             0.095005   \n",
       "\n",
       "   fair_main_equalized_odds_ratio  fair_main_demographic_parity_difference  \\\n",
       "0                        0.959590                                 0.038235   \n",
       "0                        0.959590                                 0.038235   \n",
       "0                        0.899833                                 0.070903   \n",
       "0                        0.899833                                 0.070903   \n",
       "\n",
       "   fair_main_demographic_parity_ratio  ...  perf_grp_precision_0  \\\n",
       "0                            0.959123  ...                   NaN   \n",
       "0                            0.959123  ...              0.122972   \n",
       "0                            0.908304  ...                   NaN   \n",
       "0                            0.908304  ...              0.140094   \n",
       "\n",
       "   perf_grp_precision_1  perf_grp_false positive rate_0  \\\n",
       "0                   NaN                             NaN   \n",
       "0              0.140095                        0.889335   \n",
       "0                   NaN                             NaN   \n",
       "0              0.162083                        0.682644   \n",
       "\n",
       "   perf_grp_false positive rate_1  perf_grp_false negative rate_0  \\\n",
       "0                             NaN                             NaN   \n",
       "0                        0.926787                        0.043074   \n",
       "0                             NaN                             NaN   \n",
       "0                        0.746560                        0.146537   \n",
       "\n",
       "   perf_grp_false negative rate_1  perf_grp_selection rate_0  \\\n",
       "0                             NaN                        NaN   \n",
       "0                        0.008315                   0.897128   \n",
       "0                             NaN                        NaN   \n",
       "0                        0.051532                   0.702337   \n",
       "\n",
       "   perf_grp_selection rate_1  perf_grp_count_0  perf_grp_count_1  \n",
       "0                        NaN               NaN               NaN  \n",
       "0                   0.935362           20540.0           69170.0  \n",
       "0                        NaN               NaN               NaN  \n",
       "0                   0.773240           20540.0           69170.0  \n",
       "\n",
       "[4 rows x 50 columns]"
      ]
     },
     "execution_count": 66,
     "metadata": {},
     "output_type": "execute_result"
    }
   ],
   "source": [
    "final_output = universe_analysis.generate_final_output(\n",
    "    y_pred_prob=probs_test,\n",
    "    y_test=y_true,\n",
    "    org_test=org_test,\n",
    "    filter_data=filter_sub_universe_data,\n",
    "    cp_metrics_df=cp_metrics_df,\n",
    "    save=True,\n",
    ")\n",
    "final_output"
   ]
  }
 ],
 "metadata": {
  "celltoolbar": "Tags",
  "kernelspec": {
   "display_name": "Python (CMA Fairness)",
   "language": "python",
   "name": "cma_fair_env"
  },
  "language_info": {
   "codemirror_mode": {
    "name": "ipython",
    "version": 3
   },
   "file_extension": ".py",
   "mimetype": "text/x-python",
   "name": "python",
   "nbconvert_exporter": "python",
   "pygments_lexer": "ipython3",
   "version": "3.10.12"
  },
  "papermill": {
   "default_parameters": {},
   "duration": 45.147259,
   "end_time": "2025-08-05T15:24:18.564815",
   "environment_variables": {},
   "exception": null,
   "input_path": "universe_analysis.ipynb",
   "output_path": "output/runs/15/notebooks/m_15-e7b3e337360cf7d4d088ff6da9af52e6.ipynb",
   "parameters": {
    "output_dir": "output",
    "run_no": "15",
    "seed": "2023",
    "universe": "{\"cutoff\": [\"quantile_0.1\", \"quantile_0.25\"], \"eval_fairness_grouping\": [\"majority-minority\", \"nationality-all\"], \"exclude_features\": \"nationality-sex\", \"exclude_subgroups\": \"keep-all\", \"model\": \"rf\", \"scale\": \"scale\", \"training_size\": \"5k\", \"training_year\": \"2014\"}",
    "universe_id": "e7b3e337360cf7d4d088ff6da9af52e6"
   },
   "start_time": "2025-08-05T15:23:33.417556",
   "version": "2.6.0"
  }
 },
 "nbformat": 4,
 "nbformat_minor": 5
}