{
 "cells": [
  {
   "cell_type": "code",
   "execution_count": 1,
   "id": "f159f837-637b-42ba-96b5-ec9a68c44524",
   "metadata": {
    "execution": {
     "iopub.execute_input": "2025-08-05T16:33:44.293443Z",
     "iopub.status.busy": "2025-08-05T16:33:44.292970Z",
     "iopub.status.idle": "2025-08-05T16:33:44.308227Z",
     "shell.execute_reply": "2025-08-05T16:33:44.307054Z"
    },
    "papermill": {
     "duration": 0.044097,
     "end_time": "2025-08-05T16:33:44.310348",
     "exception": false,
     "start_time": "2025-08-05T16:33:44.266251",
     "status": "completed"
    },
    "tags": []
   },
   "outputs": [
    {
     "name": "stdout",
     "output_type": "stream",
     "text": [
      "/dss/dsshome1/0C/ra93lal2/cma/CMA_Fairness_v2\n"
     ]
    },
    {
     "name": "stderr",
     "output_type": "stream",
     "text": [
      "/dss/dsshome1/0C/ra93lal2/.local/share/virtualenvs/CMA_Fairness_v2-3j10GkSs/lib/python3.10/site-packages/IPython/core/magics/osm.py:393: UserWarning: This is now an optional IPython functionality, using bookmarks requires you to install the `pickleshare` library.\n",
      "  bkms = self.shell.db.get('bookmarks', {})\n",
      "/dss/dsshome1/0C/ra93lal2/.local/share/virtualenvs/CMA_Fairness_v2-3j10GkSs/lib/python3.10/site-packages/IPython/core/magics/osm.py:417: UserWarning: This is now an optional IPython functionality, setting dhist requires you to install the `pickleshare` library.\n",
      "  self.shell.db['dhist'] = compress_dhist(dhist)[-100:]\n"
     ]
    }
   ],
   "source": [
    "%cd ~/cma/CMA_Fairness_v2"
   ]
  },
  {
   "cell_type": "markdown",
   "id": "de2603b9",
   "metadata": {
    "papermill": {
     "duration": 0.022075,
     "end_time": "2025-08-05T16:33:44.355578",
     "exception": false,
     "start_time": "2025-08-05T16:33:44.333503",
     "status": "completed"
    },
    "tags": []
   },
   "source": [
    "The following cell holds the definition of our parameters, these values can be overriden by rendering the with e.g. the following command:\n",
    "\n",
    "papermill -p alpha 0.2 -p ratio 0.3 universe_analysis.ipynb output/test_run.ipynb"
   ]
  },
  {
   "cell_type": "code",
   "execution_count": 2,
   "id": "a80968a0-40bb-4fa9-85ef-2d5eefb01975",
   "metadata": {
    "execution": {
     "iopub.execute_input": "2025-08-05T16:33:44.401248Z",
     "iopub.status.busy": "2025-08-05T16:33:44.400383Z",
     "iopub.status.idle": "2025-08-05T16:33:44.407373Z",
     "shell.execute_reply": "2025-08-05T16:33:44.406199Z"
    },
    "papermill": {
     "duration": 0.032491,
     "end_time": "2025-08-05T16:33:44.409493",
     "exception": false,
     "start_time": "2025-08-05T16:33:44.377002",
     "status": "completed"
    },
    "tags": []
   },
   "outputs": [
    {
     "name": "stdout",
     "output_type": "stream",
     "text": [
      "Current working directory: /dss/dsshome1/0C/ra93lal2/cma/CMA_Fairness_v2\n"
     ]
    }
   ],
   "source": [
    "import os\n",
    "print(\"Current working directory:\", os.getcwd())"
   ]
  },
  {
   "cell_type": "code",
   "execution_count": 3,
   "id": "2dce4c03",
   "metadata": {
    "execution": {
     "iopub.execute_input": "2025-08-05T16:33:44.457149Z",
     "iopub.status.busy": "2025-08-05T16:33:44.456511Z",
     "iopub.status.idle": "2025-08-05T16:33:44.464524Z",
     "shell.execute_reply": "2025-08-05T16:33:44.463411Z"
    },
    "papermill": {
     "duration": 0.034228,
     "end_time": "2025-08-05T16:33:44.466669",
     "exception": false,
     "start_time": "2025-08-05T16:33:44.432441",
     "status": "completed"
    },
    "tags": [
     "parameters"
    ]
   },
   "outputs": [],
   "source": [
    "run_no = 0\n",
    "universe_id = \"test\"\n",
    "universe = {\n",
    "    \"training_size\": \"25k\", # \"25k\", \"5k\", \"1k\"\n",
    "    \"training_year\": \"2014\", # \"2014\", \"2012_14\", \"2010_14\"\n",
    "    \"scale\": \"scale\", # \"scale\", \"do-not-scale\",\n",
    "    \"model\": \"elasticnet\", # \"logreg\", \"penalized_logreg\", \"rf\", \"gbm\", \"elasticnet\"\n",
    "    \"cutoff\": [\"quantile_0.15\", \"quantile_0.30\"],\n",
    "    \"exclude_features\": \"age\", # \"none\", \"nationality\", \"sex\", \"nationality-sex\", \"age\"\n",
    "    \"exclude_subgroups\": \"keep-all\", # \"keep-all\", \"drop-non-german\"\n",
    "    \"eval_fairness_grouping\": [\"majority-minority\", \"nationality-all\"]\n",
    "}\n",
    "\n",
    "output_dir=\"./output\"\n",
    "seed=0"
   ]
  },
  {
   "cell_type": "code",
   "execution_count": 4,
   "id": "a26bcb73",
   "metadata": {
    "execution": {
     "iopub.execute_input": "2025-08-05T16:33:44.510450Z",
     "iopub.status.busy": "2025-08-05T16:33:44.509398Z",
     "iopub.status.idle": "2025-08-05T16:33:44.515869Z",
     "shell.execute_reply": "2025-08-05T16:33:44.514831Z"
    },
    "papermill": {
     "duration": 0.029427,
     "end_time": "2025-08-05T16:33:44.517844",
     "exception": false,
     "start_time": "2025-08-05T16:33:44.488417",
     "status": "completed"
    },
    "tags": [
     "injected-parameters"
    ]
   },
   "outputs": [],
   "source": [
    "# Parameters\n",
    "universe_id = \"a690f2fbfd593544182318486310c850\"\n",
    "run_no = \"15\"\n",
    "universe = \"{\\\"cutoff\\\": [\\\"quantile_0.1\\\", \\\"quantile_0.25\\\"], \\\"eval_fairness_grouping\\\": [\\\"majority-minority\\\", \\\"nationality-all\\\"], \\\"exclude_features\\\": \\\"age\\\", \\\"exclude_subgroups\\\": \\\"drop-non-german\\\", \\\"model\\\": \\\"penalized_logreg\\\", \\\"scale\\\": \\\"scale\\\", \\\"training_size\\\": \\\"1k\\\", \\\"training_year\\\": \\\"2010_14\\\"}\"\n",
    "output_dir = \"output\"\n",
    "seed = \"2023\"\n"
   ]
  },
  {
   "cell_type": "code",
   "execution_count": 5,
   "id": "1650acaf",
   "metadata": {
    "execution": {
     "iopub.execute_input": "2025-08-05T16:33:44.567933Z",
     "iopub.status.busy": "2025-08-05T16:33:44.566766Z",
     "iopub.status.idle": "2025-08-05T16:33:44.573492Z",
     "shell.execute_reply": "2025-08-05T16:33:44.572464Z"
    },
    "papermill": {
     "duration": 0.033589,
     "end_time": "2025-08-05T16:33:44.575351",
     "exception": false,
     "start_time": "2025-08-05T16:33:44.541762",
     "status": "completed"
    },
    "tags": []
   },
   "outputs": [],
   "source": [
    "import json\n",
    "if isinstance(universe, str):\n",
    "    universe = json.loads(universe)"
   ]
  },
  {
   "cell_type": "code",
   "execution_count": 6,
   "id": "16620c48",
   "metadata": {
    "execution": {
     "iopub.execute_input": "2025-08-05T16:33:44.621096Z",
     "iopub.status.busy": "2025-08-05T16:33:44.620436Z",
     "iopub.status.idle": "2025-08-05T16:33:44.676706Z",
     "shell.execute_reply": "2025-08-05T16:33:44.675526Z"
    },
    "papermill": {
     "duration": 0.081164,
     "end_time": "2025-08-05T16:33:44.679051",
     "exception": false,
     "start_time": "2025-08-05T16:33:44.597887",
     "status": "completed"
    },
    "tags": []
   },
   "outputs": [],
   "source": [
    "# Auto-reload the custom package\n",
    "%load_ext autoreload\n",
    "%autoreload 1\n",
    "%aimport fairness_multiverse"
   ]
  },
  {
   "cell_type": "code",
   "execution_count": 7,
   "id": "01c5c9f3",
   "metadata": {
    "execution": {
     "iopub.execute_input": "2025-08-05T16:33:44.724652Z",
     "iopub.status.busy": "2025-08-05T16:33:44.724022Z",
     "iopub.status.idle": "2025-08-05T16:33:47.132491Z",
     "shell.execute_reply": "2025-08-05T16:33:47.131297Z"
    },
    "papermill": {
     "duration": 2.4338,
     "end_time": "2025-08-05T16:33:47.135042",
     "exception": false,
     "start_time": "2025-08-05T16:33:44.701242",
     "status": "completed"
    },
    "tags": []
   },
   "outputs": [],
   "source": [
    "from fairness_multiverse.universe import UniverseAnalysis\n",
    "\n",
    "universe_analysis = UniverseAnalysis(\n",
    "    run_no = run_no,\n",
    "    universe_id = universe_id,\n",
    "    universe = universe,\n",
    "    output_dir=output_dir,\n",
    ")"
   ]
  },
  {
   "cell_type": "code",
   "execution_count": 8,
   "id": "106241f5",
   "metadata": {
    "execution": {
     "iopub.execute_input": "2025-08-05T16:33:47.182835Z",
     "iopub.status.busy": "2025-08-05T16:33:47.182030Z",
     "iopub.status.idle": "2025-08-05T16:33:47.190215Z",
     "shell.execute_reply": "2025-08-05T16:33:47.189078Z"
    },
    "papermill": {
     "duration": 0.033878,
     "end_time": "2025-08-05T16:33:47.192255",
     "exception": false,
     "start_time": "2025-08-05T16:33:47.158377",
     "status": "completed"
    },
    "tags": []
   },
   "outputs": [
    {
     "name": "stdout",
     "output_type": "stream",
     "text": [
      "Using Seed: 2023\n"
     ]
    }
   ],
   "source": [
    "import numpy as np\n",
    "parsed_seed = int(seed)\n",
    "np.random.seed(parsed_seed)\n",
    "print(f\"Using Seed: {parsed_seed}\")"
   ]
  },
  {
   "cell_type": "markdown",
   "id": "e0ebdc57",
   "metadata": {
    "papermill": {
     "duration": 0.022545,
     "end_time": "2025-08-05T16:33:47.238847",
     "exception": false,
     "start_time": "2025-08-05T16:33:47.216302",
     "status": "completed"
    },
    "tags": []
   },
   "source": [
    "# Loading Data"
   ]
  },
  {
   "cell_type": "code",
   "execution_count": 9,
   "id": "f0496b8a",
   "metadata": {
    "execution": {
     "iopub.execute_input": "2025-08-05T16:33:47.287744Z",
     "iopub.status.busy": "2025-08-05T16:33:47.286613Z",
     "iopub.status.idle": "2025-08-05T16:34:01.668843Z",
     "shell.execute_reply": "2025-08-05T16:34:01.667562Z"
    },
    "papermill": {
     "duration": 14.409064,
     "end_time": "2025-08-05T16:34:01.670539",
     "exception": false,
     "start_time": "2025-08-05T16:33:47.261475",
     "status": "completed"
    },
    "tags": []
   },
   "outputs": [
    {
     "name": "stdout",
     "output_type": "stream",
     "text": [
      "Loading SIAB data from cache: data/siab_cached.csv.gz\n"
     ]
    },
    {
     "name": "stdout",
     "output_type": "stream",
     "text": [
      "(643690, 164)\n"
     ]
    }
   ],
   "source": [
    "from pathlib import Path\n",
    "import pandas as pd\n",
    "\n",
    "# File paths\n",
    "raw_file = Path(\"data/raw/siab.csv\")\n",
    "cache_file = Path(\"data/siab_cached.csv.gz\")\n",
    "\n",
    "# Ensure cache directory exists\n",
    "cache_file.parent.mkdir(parents=True, exist_ok=True)\n",
    "\n",
    "# Load with simple caching\n",
    "if cache_file.exists():\n",
    "    print(f\"Loading SIAB data from cache: {cache_file}\")\n",
    "    siab = pd.read_csv(cache_file, compression='gzip')\n",
    "else:\n",
    "    print(f\"Cache not found. Reading raw SIAB data: {raw_file}\")\n",
    "    siab = pd.read_csv(raw_file)\n",
    "    siab.to_csv(cache_file, index=False, compression='gzip')\n",
    "    print(f\"Cached SIAB data to: {cache_file}\")\n",
    "\n",
    "print(siab.shape)"
   ]
  },
  {
   "cell_type": "code",
   "execution_count": 10,
   "id": "db0ca512-5f53-4dba-abdb-a2888bca41ba",
   "metadata": {
    "execution": {
     "iopub.execute_input": "2025-08-05T16:34:01.696455Z",
     "iopub.status.busy": "2025-08-05T16:34:01.696060Z",
     "iopub.status.idle": "2025-08-05T16:34:01.701439Z",
     "shell.execute_reply": "2025-08-05T16:34:01.700451Z"
    },
    "papermill": {
     "duration": 0.018904,
     "end_time": "2025-08-05T16:34:01.702977",
     "exception": false,
     "start_time": "2025-08-05T16:34:01.684073",
     "status": "completed"
    },
    "tags": []
   },
   "outputs": [],
   "source": [
    "#siab"
   ]
  },
  {
   "cell_type": "markdown",
   "id": "997051c5-15bd-4b69-9786-c3001a3ce484",
   "metadata": {
    "papermill": {
     "duration": 0.010783,
     "end_time": "2025-08-05T16:34:01.725016",
     "exception": false,
     "start_time": "2025-08-05T16:34:01.714233",
     "status": "completed"
    },
    "tags": []
   },
   "source": [
    "# Splitting Data and Setting Training Data Size"
   ]
  },
  {
   "cell_type": "code",
   "execution_count": 11,
   "id": "aea9c6ef-6f46-42c8-85eb-5a62025c1508",
   "metadata": {
    "execution": {
     "iopub.execute_input": "2025-08-05T16:34:01.748164Z",
     "iopub.status.busy": "2025-08-05T16:34:01.747531Z",
     "iopub.status.idle": "2025-08-05T16:34:02.764551Z",
     "shell.execute_reply": "2025-08-05T16:34:02.763158Z"
    },
    "papermill": {
     "duration": 1.031024,
     "end_time": "2025-08-05T16:34:02.766858",
     "exception": false,
     "start_time": "2025-08-05T16:34:01.735834",
     "status": "completed"
    },
    "tags": []
   },
   "outputs": [],
   "source": [
    "from fairness_multiverse.universe import sample_by_year_size\n",
    "\n",
    "siab_train = sample_by_year_size(siab,\n",
    "                               training_year=universe[\"training_year\"],\n",
    "                               training_size=universe[\"training_size\"])"
   ]
  },
  {
   "cell_type": "code",
   "execution_count": 12,
   "id": "8d3afb32-789d-442c-8d5d-9f5aa8dd2eed",
   "metadata": {
    "execution": {
     "iopub.execute_input": "2025-08-05T16:34:02.812964Z",
     "iopub.status.busy": "2025-08-05T16:34:02.812070Z",
     "iopub.status.idle": "2025-08-05T16:34:02.818674Z",
     "shell.execute_reply": "2025-08-05T16:34:02.817746Z"
    },
    "papermill": {
     "duration": 0.028887,
     "end_time": "2025-08-05T16:34:02.820355",
     "exception": false,
     "start_time": "2025-08-05T16:34:02.791468",
     "status": "completed"
    },
    "tags": []
   },
   "outputs": [],
   "source": [
    "#siab_train.shape"
   ]
  },
  {
   "cell_type": "code",
   "execution_count": 13,
   "id": "d582db68-1a4c-47fb-84fc-08518dc1975a",
   "metadata": {
    "execution": {
     "iopub.execute_input": "2025-08-05T16:34:02.869254Z",
     "iopub.status.busy": "2025-08-05T16:34:02.868396Z",
     "iopub.status.idle": "2025-08-05T16:34:02.875636Z",
     "shell.execute_reply": "2025-08-05T16:34:02.874587Z"
    },
    "papermill": {
     "duration": 0.034231,
     "end_time": "2025-08-05T16:34:02.877803",
     "exception": false,
     "start_time": "2025-08-05T16:34:02.843572",
     "status": "completed"
    },
    "tags": []
   },
   "outputs": [],
   "source": [
    "#display(siab_train.groupby(\"year\").size())"
   ]
  },
  {
   "cell_type": "code",
   "execution_count": 14,
   "id": "a561edb4-d032-42cb-8256-22eac1111c64",
   "metadata": {
    "execution": {
     "iopub.execute_input": "2025-08-05T16:34:02.927114Z",
     "iopub.status.busy": "2025-08-05T16:34:02.926696Z",
     "iopub.status.idle": "2025-08-05T16:34:03.182518Z",
     "shell.execute_reply": "2025-08-05T16:34:03.181212Z"
    },
    "papermill": {
     "duration": 0.286423,
     "end_time": "2025-08-05T16:34:03.184502",
     "exception": false,
     "start_time": "2025-08-05T16:34:02.898079",
     "status": "completed"
    },
    "tags": []
   },
   "outputs": [],
   "source": [
    "#siab_train = siab_s[siab_s.year < 2015]\n",
    "siab_calib = siab[siab.year == 2015]\n",
    "siab_test = siab[siab.year == 2016]"
   ]
  },
  {
   "cell_type": "code",
   "execution_count": 15,
   "id": "472de16f-c3db-4916-846b-1f0de9cf1746",
   "metadata": {
    "execution": {
     "iopub.execute_input": "2025-08-05T16:34:03.241492Z",
     "iopub.status.busy": "2025-08-05T16:34:03.240423Z",
     "iopub.status.idle": "2025-08-05T16:34:03.249938Z",
     "shell.execute_reply": "2025-08-05T16:34:03.248823Z"
    },
    "papermill": {
     "duration": 0.038056,
     "end_time": "2025-08-05T16:34:03.252308",
     "exception": false,
     "start_time": "2025-08-05T16:34:03.214252",
     "status": "completed"
    },
    "tags": []
   },
   "outputs": [],
   "source": [
    "X_train = siab_train.iloc[:,4:164]\n",
    "y_train = siab_train.iloc[:, [3]]"
   ]
  },
  {
   "cell_type": "code",
   "execution_count": 16,
   "id": "828c96af-f43a-4ed6-ba47-8ac73a47d56c",
   "metadata": {
    "execution": {
     "iopub.execute_input": "2025-08-05T16:34:03.305911Z",
     "iopub.status.busy": "2025-08-05T16:34:03.304719Z",
     "iopub.status.idle": "2025-08-05T16:34:03.364189Z",
     "shell.execute_reply": "2025-08-05T16:34:03.362980Z"
    },
    "papermill": {
     "duration": 0.089821,
     "end_time": "2025-08-05T16:34:03.367185",
     "exception": false,
     "start_time": "2025-08-05T16:34:03.277364",
     "status": "completed"
    },
    "tags": []
   },
   "outputs": [],
   "source": [
    "X_calib = siab_calib.iloc[:,4:164]\n",
    "y_calib = siab_calib.iloc[:, [3]]"
   ]
  },
  {
   "cell_type": "code",
   "execution_count": 17,
   "id": "c34be9c3-6bd6-476e-acd3-845840e303be",
   "metadata": {
    "execution": {
     "iopub.execute_input": "2025-08-05T16:34:03.420125Z",
     "iopub.status.busy": "2025-08-05T16:34:03.419312Z",
     "iopub.status.idle": "2025-08-05T16:34:03.476351Z",
     "shell.execute_reply": "2025-08-05T16:34:03.475162Z"
    },
    "papermill": {
     "duration": 0.085177,
     "end_time": "2025-08-05T16:34:03.478668",
     "exception": false,
     "start_time": "2025-08-05T16:34:03.393491",
     "status": "completed"
    },
    "tags": []
   },
   "outputs": [],
   "source": [
    "X_test = siab_test.iloc[:,4:164]\n",
    "y_true = siab_test.iloc[:, [3]]"
   ]
  },
  {
   "cell_type": "code",
   "execution_count": 18,
   "id": "e6c733c5",
   "metadata": {
    "execution": {
     "iopub.execute_input": "2025-08-05T16:34:03.531401Z",
     "iopub.status.busy": "2025-08-05T16:34:03.530440Z",
     "iopub.status.idle": "2025-08-05T16:34:03.640060Z",
     "shell.execute_reply": "2025-08-05T16:34:03.638956Z"
    },
    "papermill": {
     "duration": 0.137777,
     "end_time": "2025-08-05T16:34:03.642234",
     "exception": false,
     "start_time": "2025-08-05T16:34:03.504457",
     "status": "completed"
    },
    "tags": []
   },
   "outputs": [],
   "source": [
    "# Auxiliary data needed downstream in the pipeline\n",
    "\n",
    "org_train = X_train.copy()\n",
    "org_test = X_test.copy()\n",
    "org_calib = X_calib.copy()"
   ]
  },
  {
   "cell_type": "markdown",
   "id": "0a4a1b33",
   "metadata": {
    "papermill": {
     "duration": 0.0211,
     "end_time": "2025-08-05T16:34:03.684530",
     "exception": false,
     "start_time": "2025-08-05T16:34:03.663430",
     "status": "completed"
    },
    "tags": []
   },
   "source": [
    "# Preprocessing Data"
   ]
  },
  {
   "cell_type": "code",
   "execution_count": 19,
   "id": "ca879031",
   "metadata": {
    "execution": {
     "iopub.execute_input": "2025-08-05T16:34:03.727560Z",
     "iopub.status.busy": "2025-08-05T16:34:03.726574Z",
     "iopub.status.idle": "2025-08-05T16:34:03.733812Z",
     "shell.execute_reply": "2025-08-05T16:34:03.732635Z"
    },
    "papermill": {
     "duration": 0.031137,
     "end_time": "2025-08-05T16:34:03.735991",
     "exception": false,
     "start_time": "2025-08-05T16:34:03.704854",
     "status": "completed"
    },
    "tags": []
   },
   "outputs": [],
   "source": [
    "# EXCLUDE PROTECTED FEATURES\n",
    "# ----------------------\n",
    "# \"exclude_features\": \"none\", # \"nationality\", \"sex\", \"nationality-sex\"\n",
    "\n",
    "excluded_features = universe[\"exclude_features\"].split(\"-\") # split, e.g.: \"nationality-sex\" -> [\"nationality\", \"sex\"]\n",
    "excluded_features_dictionary = {\n",
    "    \"nationality\": [\"maxdeutsch1\", \"maxdeutsch.Missing.\"],\n",
    "    \"sex\": [\"frau1\"],\n",
    "    \"age\": [\"age\"],\n",
    "}"
   ]
  },
  {
   "cell_type": "code",
   "execution_count": 20,
   "id": "b745ac60",
   "metadata": {
    "execution": {
     "iopub.execute_input": "2025-08-05T16:34:03.788607Z",
     "iopub.status.busy": "2025-08-05T16:34:03.787564Z",
     "iopub.status.idle": "2025-08-05T16:34:03.794286Z",
     "shell.execute_reply": "2025-08-05T16:34:03.793139Z"
    },
    "papermill": {
     "duration": 0.034931,
     "end_time": "2025-08-05T16:34:03.796379",
     "exception": false,
     "start_time": "2025-08-05T16:34:03.761448",
     "status": "completed"
    },
    "tags": []
   },
   "outputs": [],
   "source": [
    "# Code nice names to column names\n",
    "\n",
    "excluded_features_columns = [\n",
    "    excluded_features_dictionary[f] for f in excluded_features if len(f) > 0 and f != \"none\"\n",
    "]"
   ]
  },
  {
   "cell_type": "code",
   "execution_count": 21,
   "id": "f84f73a2",
   "metadata": {
    "execution": {
     "iopub.execute_input": "2025-08-05T16:34:03.849201Z",
     "iopub.status.busy": "2025-08-05T16:34:03.848246Z",
     "iopub.status.idle": "2025-08-05T16:34:03.855797Z",
     "shell.execute_reply": "2025-08-05T16:34:03.854674Z"
    },
    "papermill": {
     "duration": 0.035932,
     "end_time": "2025-08-05T16:34:03.857791",
     "exception": false,
     "start_time": "2025-08-05T16:34:03.821859",
     "status": "completed"
    },
    "tags": []
   },
   "outputs": [],
   "source": [
    "from utils import flatten_once\n",
    "\n",
    "excluded_features_columns = flatten_once(excluded_features_columns)"
   ]
  },
  {
   "cell_type": "code",
   "execution_count": 22,
   "id": "884dea22",
   "metadata": {
    "execution": {
     "iopub.execute_input": "2025-08-05T16:34:03.910747Z",
     "iopub.status.busy": "2025-08-05T16:34:03.909728Z",
     "iopub.status.idle": "2025-08-05T16:34:03.919012Z",
     "shell.execute_reply": "2025-08-05T16:34:03.917874Z"
    },
    "papermill": {
     "duration": 0.037559,
     "end_time": "2025-08-05T16:34:03.921074",
     "exception": false,
     "start_time": "2025-08-05T16:34:03.883515",
     "status": "completed"
    },
    "tags": []
   },
   "outputs": [
    {
     "name": "stdout",
     "output_type": "stream",
     "text": [
      "Dropping features: ['age']\n"
     ]
    }
   ],
   "source": [
    "if len(excluded_features_columns) > 0:\n",
    "    print(f\"Dropping features: {excluded_features_columns}\")\n",
    "    X_train.drop(excluded_features_columns, axis=1, inplace=True)"
   ]
  },
  {
   "cell_type": "code",
   "execution_count": 23,
   "id": "95ab8b16",
   "metadata": {
    "execution": {
     "iopub.execute_input": "2025-08-05T16:34:03.974477Z",
     "iopub.status.busy": "2025-08-05T16:34:03.973448Z",
     "iopub.status.idle": "2025-08-05T16:34:04.031879Z",
     "shell.execute_reply": "2025-08-05T16:34:04.030766Z"
    },
    "papermill": {
     "duration": 0.087121,
     "end_time": "2025-08-05T16:34:04.034063",
     "exception": false,
     "start_time": "2025-08-05T16:34:03.946942",
     "status": "completed"
    },
    "tags": []
   },
   "outputs": [
    {
     "name": "stdout",
     "output_type": "stream",
     "text": [
      "Dropping features: ['age']\n"
     ]
    }
   ],
   "source": [
    "if len(excluded_features_columns) > 0:\n",
    "    print(f\"Dropping features: {excluded_features_columns}\")\n",
    "    X_test.drop(excluded_features_columns, axis=1, inplace=True)"
   ]
  },
  {
   "cell_type": "code",
   "execution_count": 24,
   "id": "1853aaf5-fb9f-46cb-a2b5-8ea4ae2237e4",
   "metadata": {
    "execution": {
     "iopub.execute_input": "2025-08-05T16:34:04.088744Z",
     "iopub.status.busy": "2025-08-05T16:34:04.087769Z",
     "iopub.status.idle": "2025-08-05T16:34:04.146182Z",
     "shell.execute_reply": "2025-08-05T16:34:04.144925Z"
    },
    "papermill": {
     "duration": 0.087758,
     "end_time": "2025-08-05T16:34:04.148365",
     "exception": false,
     "start_time": "2025-08-05T16:34:04.060607",
     "status": "completed"
    },
    "tags": []
   },
   "outputs": [
    {
     "name": "stdout",
     "output_type": "stream",
     "text": [
      "Dropping features: ['age']\n"
     ]
    }
   ],
   "source": [
    "if len(excluded_features_columns) > 0:\n",
    "    print(f\"Dropping features: {excluded_features_columns}\")\n",
    "    X_calib.drop(excluded_features_columns, axis=1, inplace=True)"
   ]
  },
  {
   "cell_type": "code",
   "execution_count": 25,
   "id": "76c4dc6d",
   "metadata": {
    "execution": {
     "iopub.execute_input": "2025-08-05T16:34:04.202952Z",
     "iopub.status.busy": "2025-08-05T16:34:04.202195Z",
     "iopub.status.idle": "2025-08-05T16:34:04.208475Z",
     "shell.execute_reply": "2025-08-05T16:34:04.207388Z"
    },
    "papermill": {
     "duration": 0.03532,
     "end_time": "2025-08-05T16:34:04.210551",
     "exception": false,
     "start_time": "2025-08-05T16:34:04.175231",
     "status": "completed"
    },
    "tags": []
   },
   "outputs": [],
   "source": [
    "# EXCLUDE CERTAIN SUBGROUPS\n",
    "# ----------------------\n",
    "\n",
    "mode = universe.get(\"exclude_subgroups\", \"keep-all\") \n",
    "# Fetches the exclude_subgroups setting from the universe dict.\n",
    "# Defaults to \"keep-all\" if the key is missing."
   ]
  },
  {
   "cell_type": "code",
   "execution_count": 26,
   "id": "21994072",
   "metadata": {
    "execution": {
     "iopub.execute_input": "2025-08-05T16:34:04.265134Z",
     "iopub.status.busy": "2025-08-05T16:34:04.264131Z",
     "iopub.status.idle": "2025-08-05T16:34:04.272252Z",
     "shell.execute_reply": "2025-08-05T16:34:04.271082Z"
    },
    "papermill": {
     "duration": 0.03757,
     "end_time": "2025-08-05T16:34:04.274400",
     "exception": false,
     "start_time": "2025-08-05T16:34:04.236830",
     "status": "completed"
    },
    "tags": []
   },
   "outputs": [],
   "source": [
    "if mode == \"keep-all\":\n",
    "    keep_mask = pd.Series(True, index=org_train.index)\n",
    "\n",
    "# org_train contains the original feature columns from features_org (in Simson)\n",
    "# features_org contains unprocessed features, for me X_train at beginning ???\n",
    "# For keep-all, creates a boolean Series (keep_mask) of all True, so no rows are removed.\n",
    "\n",
    "elif mode == \"drop-non-german\":\n",
    "    keep_mask = org_train[\"maxdeutsch1\"] == 1 # ??? what about missing values?\n",
    "\n",
    "else:\n",
    "    raise ValueError(f\"Unsupported mode for exclude_subgroups: {mode}\")"
   ]
  },
  {
   "cell_type": "code",
   "execution_count": 27,
   "id": "71651440",
   "metadata": {
    "execution": {
     "iopub.execute_input": "2025-08-05T16:34:04.329014Z",
     "iopub.status.busy": "2025-08-05T16:34:04.328429Z",
     "iopub.status.idle": "2025-08-05T16:34:04.336743Z",
     "shell.execute_reply": "2025-08-05T16:34:04.335687Z"
    },
    "papermill": {
     "duration": 0.037642,
     "end_time": "2025-08-05T16:34:04.338643",
     "exception": false,
     "start_time": "2025-08-05T16:34:04.301001",
     "status": "completed"
    },
    "tags": []
   },
   "outputs": [
    {
     "name": "stdout",
     "output_type": "stream",
     "text": [
      "Dropping 131 rows (13.10%) where mode='drop-non-german'\n"
     ]
    }
   ],
   "source": [
    "n_drop = (~keep_mask).sum() # Calculates how many rows are set to be dropped\n",
    "if n_drop > 0:\n",
    "    pct = n_drop / len(keep_mask) * 100\n",
    "    print(f\"Dropping {n_drop} rows ({pct:.2f}%) where mode='{mode}'\")"
   ]
  },
  {
   "cell_type": "code",
   "execution_count": 28,
   "id": "5fb8eee5",
   "metadata": {
    "execution": {
     "iopub.execute_input": "2025-08-05T16:34:04.393343Z",
     "iopub.status.busy": "2025-08-05T16:34:04.392943Z",
     "iopub.status.idle": "2025-08-05T16:34:04.400547Z",
     "shell.execute_reply": "2025-08-05T16:34:04.399368Z"
    },
    "papermill": {
     "duration": 0.03705,
     "end_time": "2025-08-05T16:34:04.402457",
     "exception": false,
     "start_time": "2025-08-05T16:34:04.365407",
     "status": "completed"
    },
    "tags": []
   },
   "outputs": [],
   "source": [
    "X_train = X_train[keep_mask]"
   ]
  },
  {
   "cell_type": "code",
   "execution_count": 29,
   "id": "b202bb3a",
   "metadata": {
    "execution": {
     "iopub.execute_input": "2025-08-05T16:34:04.448883Z",
     "iopub.status.busy": "2025-08-05T16:34:04.448013Z",
     "iopub.status.idle": "2025-08-05T16:34:04.455119Z",
     "shell.execute_reply": "2025-08-05T16:34:04.454089Z"
    },
    "papermill": {
     "duration": 0.03204,
     "end_time": "2025-08-05T16:34:04.456887",
     "exception": false,
     "start_time": "2025-08-05T16:34:04.424847",
     "status": "completed"
    },
    "tags": []
   },
   "outputs": [],
   "source": [
    "y_train = y_train[keep_mask]"
   ]
  },
  {
   "cell_type": "markdown",
   "id": "493e2ac3",
   "metadata": {
    "papermill": {
     "duration": 0.021437,
     "end_time": "2025-08-05T16:34:04.499942",
     "exception": false,
     "start_time": "2025-08-05T16:34:04.478505",
     "status": "completed"
    },
    "tags": []
   },
   "source": [
    "# Model Training"
   ]
  },
  {
   "cell_type": "code",
   "execution_count": 30,
   "id": "679e1268",
   "metadata": {
    "execution": {
     "iopub.execute_input": "2025-08-05T16:34:04.545616Z",
     "iopub.status.busy": "2025-08-05T16:34:04.544591Z",
     "iopub.status.idle": "2025-08-05T16:34:04.670778Z",
     "shell.execute_reply": "2025-08-05T16:34:04.669578Z"
    },
    "papermill": {
     "duration": 0.150907,
     "end_time": "2025-08-05T16:34:04.673018",
     "exception": false,
     "start_time": "2025-08-05T16:34:04.522111",
     "status": "completed"
    },
    "tags": []
   },
   "outputs": [],
   "source": [
    "from sklearn.linear_model import LogisticRegression\n",
    "from sklearn.ensemble import GradientBoostingClassifier, RandomForestClassifier\n",
    "\n",
    "if (universe[\"model\"] == \"logreg\"):\n",
    "    model = LogisticRegression() #penalty=\"none\", solver=\"newton-cg\", max_iter=1) # include random_state=19 ?\n",
    "elif (universe[\"model\"] == \"penalized_logreg\"):\n",
    "    model = LogisticRegression(penalty=\"l2\", C=0.1) #, solver=\"newton-cg\", max_iter=1)\n",
    "elif (universe[\"model\"] == \"rf\"):\n",
    "    model = RandomForestClassifier() # n_estimators=100, n_jobs=-1\n",
    "elif (universe[\"model\"] == \"gbm\"):\n",
    "    model = GradientBoostingClassifier()\n",
    "elif (universe[\"model\"] == \"elasticnet\"):\n",
    "    model = LogisticRegression(penalty = 'elasticnet', solver = 'saga', l1_ratio = 0.5) # max_iter=5000\n",
    "else:\n",
    "    raise \"Unsupported universe.model\""
   ]
  },
  {
   "cell_type": "code",
   "execution_count": 31,
   "id": "0cc8f744",
   "metadata": {
    "execution": {
     "iopub.execute_input": "2025-08-05T16:34:04.719256Z",
     "iopub.status.busy": "2025-08-05T16:34:04.718361Z",
     "iopub.status.idle": "2025-08-05T16:34:04.726362Z",
     "shell.execute_reply": "2025-08-05T16:34:04.725153Z"
    },
    "papermill": {
     "duration": 0.032411,
     "end_time": "2025-08-05T16:34:04.728216",
     "exception": false,
     "start_time": "2025-08-05T16:34:04.695805",
     "status": "completed"
    },
    "tags": []
   },
   "outputs": [],
   "source": [
    "import numpy as np\n",
    "from sklearn.pipeline import Pipeline\n",
    "from sklearn.preprocessing import StandardScaler\n",
    "\n",
    "model = Pipeline([\n",
    "    #(\"continuous_processor\", continuous_processor),\n",
    "    #(\"categorical_preprocessor\", categorical_preprocessor),\n",
    "    (\"scale\", StandardScaler() if universe[\"scale\"] == \"scale\" else None), \n",
    "    (\"model\", model),\n",
    "])"
   ]
  },
  {
   "cell_type": "code",
   "execution_count": 32,
   "id": "9442c04d",
   "metadata": {
    "execution": {
     "iopub.execute_input": "2025-08-05T16:34:04.774497Z",
     "iopub.status.busy": "2025-08-05T16:34:04.773614Z",
     "iopub.status.idle": "2025-08-05T16:34:04.832833Z",
     "shell.execute_reply": "2025-08-05T16:34:04.831689Z"
    },
    "papermill": {
     "duration": 0.084807,
     "end_time": "2025-08-05T16:34:04.835647",
     "exception": false,
     "start_time": "2025-08-05T16:34:04.750840",
     "status": "completed"
    },
    "tags": []
   },
   "outputs": [
    {
     "data": {
      "text/html": [
       "<style>#sk-container-id-1 {color: black;background-color: white;}#sk-container-id-1 pre{padding: 0;}#sk-container-id-1 div.sk-toggleable {background-color: white;}#sk-container-id-1 label.sk-toggleable__label {cursor: pointer;display: block;width: 100%;margin-bottom: 0;padding: 0.3em;box-sizing: border-box;text-align: center;}#sk-container-id-1 label.sk-toggleable__label-arrow:before {content: \"▸\";float: left;margin-right: 0.25em;color: #696969;}#sk-container-id-1 label.sk-toggleable__label-arrow:hover:before {color: black;}#sk-container-id-1 div.sk-estimator:hover label.sk-toggleable__label-arrow:before {color: black;}#sk-container-id-1 div.sk-toggleable__content {max-height: 0;max-width: 0;overflow: hidden;text-align: left;background-color: #f0f8ff;}#sk-container-id-1 div.sk-toggleable__content pre {margin: 0.2em;color: black;border-radius: 0.25em;background-color: #f0f8ff;}#sk-container-id-1 input.sk-toggleable__control:checked~div.sk-toggleable__content {max-height: 200px;max-width: 100%;overflow: auto;}#sk-container-id-1 input.sk-toggleable__control:checked~label.sk-toggleable__label-arrow:before {content: \"▾\";}#sk-container-id-1 div.sk-estimator input.sk-toggleable__control:checked~label.sk-toggleable__label {background-color: #d4ebff;}#sk-container-id-1 div.sk-label input.sk-toggleable__control:checked~label.sk-toggleable__label {background-color: #d4ebff;}#sk-container-id-1 input.sk-hidden--visually {border: 0;clip: rect(1px 1px 1px 1px);clip: rect(1px, 1px, 1px, 1px);height: 1px;margin: -1px;overflow: hidden;padding: 0;position: absolute;width: 1px;}#sk-container-id-1 div.sk-estimator {font-family: monospace;background-color: #f0f8ff;border: 1px dotted black;border-radius: 0.25em;box-sizing: border-box;margin-bottom: 0.5em;}#sk-container-id-1 div.sk-estimator:hover {background-color: #d4ebff;}#sk-container-id-1 div.sk-parallel-item::after {content: \"\";width: 100%;border-bottom: 1px solid gray;flex-grow: 1;}#sk-container-id-1 div.sk-label:hover label.sk-toggleable__label {background-color: #d4ebff;}#sk-container-id-1 div.sk-serial::before {content: \"\";position: absolute;border-left: 1px solid gray;box-sizing: border-box;top: 0;bottom: 0;left: 50%;z-index: 0;}#sk-container-id-1 div.sk-serial {display: flex;flex-direction: column;align-items: center;background-color: white;padding-right: 0.2em;padding-left: 0.2em;position: relative;}#sk-container-id-1 div.sk-item {position: relative;z-index: 1;}#sk-container-id-1 div.sk-parallel {display: flex;align-items: stretch;justify-content: center;background-color: white;position: relative;}#sk-container-id-1 div.sk-item::before, #sk-container-id-1 div.sk-parallel-item::before {content: \"\";position: absolute;border-left: 1px solid gray;box-sizing: border-box;top: 0;bottom: 0;left: 50%;z-index: -1;}#sk-container-id-1 div.sk-parallel-item {display: flex;flex-direction: column;z-index: 1;position: relative;background-color: white;}#sk-container-id-1 div.sk-parallel-item:first-child::after {align-self: flex-end;width: 50%;}#sk-container-id-1 div.sk-parallel-item:last-child::after {align-self: flex-start;width: 50%;}#sk-container-id-1 div.sk-parallel-item:only-child::after {width: 0;}#sk-container-id-1 div.sk-dashed-wrapped {border: 1px dashed gray;margin: 0 0.4em 0.5em 0.4em;box-sizing: border-box;padding-bottom: 0.4em;background-color: white;}#sk-container-id-1 div.sk-label label {font-family: monospace;font-weight: bold;display: inline-block;line-height: 1.2em;}#sk-container-id-1 div.sk-label-container {text-align: center;}#sk-container-id-1 div.sk-container {/* jupyter's `normalize.less` sets `[hidden] { display: none; }` but bootstrap.min.css set `[hidden] { display: none !important; }` so we also need the `!important` here to be able to override the default hidden behavior on the sphinx rendered scikit-learn.org. See: https://github.com/scikit-learn/scikit-learn/issues/21755 */display: inline-block !important;position: relative;}#sk-container-id-1 div.sk-text-repr-fallback {display: none;}</style><div id=\"sk-container-id-1\" class=\"sk-top-container\"><div class=\"sk-text-repr-fallback\"><pre>Pipeline(steps=[(&#x27;scale&#x27;, StandardScaler()),\n",
       "                (&#x27;model&#x27;, LogisticRegression(C=0.1))])</pre><b>In a Jupyter environment, please rerun this cell to show the HTML representation or trust the notebook. <br />On GitHub, the HTML representation is unable to render, please try loading this page with nbviewer.org.</b></div><div class=\"sk-container\" hidden><div class=\"sk-item sk-dashed-wrapped\"><div class=\"sk-label-container\"><div class=\"sk-label sk-toggleable\"><input class=\"sk-toggleable__control sk-hidden--visually\" id=\"sk-estimator-id-1\" type=\"checkbox\" ><label for=\"sk-estimator-id-1\" class=\"sk-toggleable__label sk-toggleable__label-arrow\">Pipeline</label><div class=\"sk-toggleable__content\"><pre>Pipeline(steps=[(&#x27;scale&#x27;, StandardScaler()),\n",
       "                (&#x27;model&#x27;, LogisticRegression(C=0.1))])</pre></div></div></div><div class=\"sk-serial\"><div class=\"sk-item\"><div class=\"sk-estimator sk-toggleable\"><input class=\"sk-toggleable__control sk-hidden--visually\" id=\"sk-estimator-id-2\" type=\"checkbox\" ><label for=\"sk-estimator-id-2\" class=\"sk-toggleable__label sk-toggleable__label-arrow\">StandardScaler</label><div class=\"sk-toggleable__content\"><pre>StandardScaler()</pre></div></div></div><div class=\"sk-item\"><div class=\"sk-estimator sk-toggleable\"><input class=\"sk-toggleable__control sk-hidden--visually\" id=\"sk-estimator-id-3\" type=\"checkbox\" ><label for=\"sk-estimator-id-3\" class=\"sk-toggleable__label sk-toggleable__label-arrow\">LogisticRegression</label><div class=\"sk-toggleable__content\"><pre>LogisticRegression(C=0.1)</pre></div></div></div></div></div></div></div>"
      ],
      "text/plain": [
       "Pipeline(steps=[('scale', StandardScaler()),\n",
       "                ('model', LogisticRegression(C=0.1))])"
      ]
     },
     "execution_count": 32,
     "metadata": {},
     "output_type": "execute_result"
    }
   ],
   "source": [
    "model.fit(X_train, y_train.values.ravel())"
   ]
  },
  {
   "cell_type": "code",
   "execution_count": 33,
   "id": "af59f8c0",
   "metadata": {
    "execution": {
     "iopub.execute_input": "2025-08-05T16:34:04.892882Z",
     "iopub.status.busy": "2025-08-05T16:34:04.891895Z",
     "iopub.status.idle": "2025-08-05T16:34:04.898306Z",
     "shell.execute_reply": "2025-08-05T16:34:04.897120Z"
    },
    "papermill": {
     "duration": 0.036498,
     "end_time": "2025-08-05T16:34:04.900258",
     "exception": false,
     "start_time": "2025-08-05T16:34:04.863760",
     "status": "completed"
    },
    "tags": []
   },
   "outputs": [],
   "source": [
    "from fairness_multiverse.universe import predict_w_threshold"
   ]
  },
  {
   "cell_type": "code",
   "execution_count": 34,
   "id": "a7cf2e16",
   "metadata": {
    "execution": {
     "iopub.execute_input": "2025-08-05T16:34:04.957137Z",
     "iopub.status.busy": "2025-08-05T16:34:04.956173Z",
     "iopub.status.idle": "2025-08-05T16:34:05.163105Z",
     "shell.execute_reply": "2025-08-05T16:34:05.161780Z"
    },
    "papermill": {
     "duration": 0.237585,
     "end_time": "2025-08-05T16:34:05.165233",
     "exception": false,
     "start_time": "2025-08-05T16:34:04.927648",
     "status": "completed"
    },
    "tags": []
   },
   "outputs": [
    {
     "data": {
      "text/plain": [
       "0.841611860439193"
      ]
     },
     "execution_count": 34,
     "metadata": {},
     "output_type": "execute_result"
    }
   ],
   "source": [
    "probs_test = model.predict_proba(X_test)\n",
    "\n",
    "'''\n",
    "Below code returns a boolean array (or binary 0/1 array depending on how it’s used) where each element \n",
    "is True if the probability of class 1 is greater than or equal to the threshold, and False otherwise.\n",
    "'''\n",
    "y_pred_default = predict_w_threshold(probs_test, 0.5)\n",
    "\n",
    "from sklearn.metrics import accuracy_score\n",
    "\n",
    "# Naive prediction\n",
    "accuracy_score(y_true = y_true, y_pred = y_pred_default)"
   ]
  },
  {
   "cell_type": "code",
   "execution_count": 35,
   "id": "081964c3",
   "metadata": {
    "execution": {
     "iopub.execute_input": "2025-08-05T16:34:05.219886Z",
     "iopub.status.busy": "2025-08-05T16:34:05.219265Z",
     "iopub.status.idle": "2025-08-05T16:34:05.427826Z",
     "shell.execute_reply": "2025-08-05T16:34:05.426434Z"
    },
    "papermill": {
     "duration": 0.236255,
     "end_time": "2025-08-05T16:34:05.429929",
     "exception": false,
     "start_time": "2025-08-05T16:34:05.193674",
     "status": "completed"
    },
    "tags": []
   },
   "outputs": [
    {
     "data": {
      "text/plain": [
       "array([0, 0, 0, ..., 0, 0, 0])"
      ]
     },
     "execution_count": 35,
     "metadata": {},
     "output_type": "execute_result"
    }
   ],
   "source": [
    "model.predict(X_test)"
   ]
  },
  {
   "cell_type": "markdown",
   "id": "56c9705b",
   "metadata": {
    "papermill": {
     "duration": 0.017611,
     "end_time": "2025-08-05T16:34:05.475532",
     "exception": false,
     "start_time": "2025-08-05T16:34:05.457921",
     "status": "completed"
    },
    "tags": []
   },
   "source": [
    "# Conformal Prediction"
   ]
  },
  {
   "cell_type": "code",
   "execution_count": 36,
   "id": "160ec6ff",
   "metadata": {
    "execution": {
     "iopub.execute_input": "2025-08-05T16:34:05.503252Z",
     "iopub.status.busy": "2025-08-05T16:34:05.502726Z",
     "iopub.status.idle": "2025-08-05T16:34:05.508823Z",
     "shell.execute_reply": "2025-08-05T16:34:05.507596Z"
    },
    "papermill": {
     "duration": 0.025699,
     "end_time": "2025-08-05T16:34:05.513889",
     "exception": false,
     "start_time": "2025-08-05T16:34:05.488190",
     "status": "completed"
    },
    "tags": []
   },
   "outputs": [],
   "source": [
    "# Miscoverage level for conformal prediction (10% allowed error rate => 90% target coverage)\n",
    "alpha = 0.1"
   ]
  },
  {
   "cell_type": "code",
   "execution_count": 37,
   "id": "eadf4555-3dd3-440e-8e35-f82a4ad9f855",
   "metadata": {
    "execution": {
     "iopub.execute_input": "2025-08-05T16:34:05.565697Z",
     "iopub.status.busy": "2025-08-05T16:34:05.565080Z",
     "iopub.status.idle": "2025-08-05T16:34:05.758274Z",
     "shell.execute_reply": "2025-08-05T16:34:05.757244Z"
    },
    "papermill": {
     "duration": 0.221397,
     "end_time": "2025-08-05T16:34:05.760400",
     "exception": false,
     "start_time": "2025-08-05T16:34:05.539003",
     "status": "completed"
    },
    "tags": []
   },
   "outputs": [],
   "source": [
    "probs_calib = model.predict_proba(X_calib)"
   ]
  },
  {
   "cell_type": "code",
   "execution_count": 38,
   "id": "2ed93547-6d5d-4983-9b36-1ecb300da49a",
   "metadata": {
    "execution": {
     "iopub.execute_input": "2025-08-05T16:34:05.815591Z",
     "iopub.status.busy": "2025-08-05T16:34:05.814764Z",
     "iopub.status.idle": "2025-08-05T16:34:05.820749Z",
     "shell.execute_reply": "2025-08-05T16:34:05.819901Z"
    },
    "papermill": {
     "duration": 0.02186,
     "end_time": "2025-08-05T16:34:05.822397",
     "exception": false,
     "start_time": "2025-08-05T16:34:05.800537",
     "status": "completed"
    },
    "tags": []
   },
   "outputs": [],
   "source": [
    "y_calib = y_calib.values.ravel().astype(int)"
   ]
  },
  {
   "cell_type": "code",
   "execution_count": 39,
   "id": "65d1320d-f588-4b38-9072-62af1ae97f7d",
   "metadata": {
    "execution": {
     "iopub.execute_input": "2025-08-05T16:34:05.849904Z",
     "iopub.status.busy": "2025-08-05T16:34:05.849123Z",
     "iopub.status.idle": "2025-08-05T16:34:05.856026Z",
     "shell.execute_reply": "2025-08-05T16:34:05.855150Z"
    },
    "papermill": {
     "duration": 0.021924,
     "end_time": "2025-08-05T16:34:05.857675",
     "exception": false,
     "start_time": "2025-08-05T16:34:05.835751",
     "status": "completed"
    },
    "tags": []
   },
   "outputs": [],
   "source": [
    "from fairness_multiverse.conformal import compute_nc_scores\n",
    "\n",
    "# Compute nonconformity scores on calibration set (1 - probability of true class)\n",
    "nc_scores = compute_nc_scores(probs_calib, y_calib)"
   ]
  },
  {
   "cell_type": "code",
   "execution_count": 40,
   "id": "df3b8ca3-53b7-43d5-9667-7c85da7aeda2",
   "metadata": {
    "execution": {
     "iopub.execute_input": "2025-08-05T16:34:05.885250Z",
     "iopub.status.busy": "2025-08-05T16:34:05.884452Z",
     "iopub.status.idle": "2025-08-05T16:34:05.890891Z",
     "shell.execute_reply": "2025-08-05T16:34:05.890041Z"
    },
    "papermill": {
     "duration": 0.021606,
     "end_time": "2025-08-05T16:34:05.892481",
     "exception": false,
     "start_time": "2025-08-05T16:34:05.870875",
     "status": "completed"
    },
    "tags": []
   },
   "outputs": [],
   "source": [
    "from fairness_multiverse.conformal import find_threshold\n",
    "\n",
    "# Find conformal threshold q_hat for the given alpha (split conformal method)\n",
    "q_hat = find_threshold(nc_scores, alpha)"
   ]
  },
  {
   "cell_type": "code",
   "execution_count": 41,
   "id": "4d29e6c1-0ef6-4aa4-b8fe-4fe79b0d033a",
   "metadata": {
    "execution": {
     "iopub.execute_input": "2025-08-05T16:34:05.919708Z",
     "iopub.status.busy": "2025-08-05T16:34:05.919038Z",
     "iopub.status.idle": "2025-08-05T16:34:05.926659Z",
     "shell.execute_reply": "2025-08-05T16:34:05.925817Z"
    },
    "papermill": {
     "duration": 0.022688,
     "end_time": "2025-08-05T16:34:05.928238",
     "exception": false,
     "start_time": "2025-08-05T16:34:05.905550",
     "status": "completed"
    },
    "tags": []
   },
   "outputs": [
    {
     "data": {
      "text/plain": [
       "0.7391654440691555"
      ]
     },
     "execution_count": 41,
     "metadata": {},
     "output_type": "execute_result"
    }
   ],
   "source": [
    "q_hat"
   ]
  },
  {
   "cell_type": "code",
   "execution_count": 42,
   "id": "92460794-cdac-4be2-ba28-f28c0515a6fb",
   "metadata": {
    "execution": {
     "iopub.execute_input": "2025-08-05T16:34:05.956078Z",
     "iopub.status.busy": "2025-08-05T16:34:05.955444Z",
     "iopub.status.idle": "2025-08-05T16:34:06.811035Z",
     "shell.execute_reply": "2025-08-05T16:34:06.810040Z"
    },
    "papermill": {
     "duration": 0.871058,
     "end_time": "2025-08-05T16:34:06.812777",
     "exception": false,
     "start_time": "2025-08-05T16:34:05.941719",
     "status": "completed"
    },
    "tags": []
   },
   "outputs": [],
   "source": [
    "from fairness_multiverse.conformal import predict_conformal_sets\n",
    "\n",
    "# Generate prediction sets for each test example\n",
    "pred_sets = predict_conformal_sets(model, X_test, q_hat)"
   ]
  },
  {
   "cell_type": "code",
   "execution_count": 43,
   "id": "d90c9a65-e6db-4f5d-80cd-e68fb7e46829",
   "metadata": {
    "execution": {
     "iopub.execute_input": "2025-08-05T16:34:06.840975Z",
     "iopub.status.busy": "2025-08-05T16:34:06.840610Z",
     "iopub.status.idle": "2025-08-05T16:34:06.846042Z",
     "shell.execute_reply": "2025-08-05T16:34:06.845007Z"
    },
    "papermill": {
     "duration": 0.020569,
     "end_time": "2025-08-05T16:34:06.847447",
     "exception": false,
     "start_time": "2025-08-05T16:34:06.826878",
     "status": "completed"
    },
    "tags": []
   },
   "outputs": [],
   "source": [
    "y_true = y_true.squeeze()"
   ]
  },
  {
   "cell_type": "code",
   "execution_count": 44,
   "id": "3a58a54a-1e68-46b9-927a-df01f18aebc8",
   "metadata": {
    "execution": {
     "iopub.execute_input": "2025-08-05T16:34:06.875484Z",
     "iopub.status.busy": "2025-08-05T16:34:06.874711Z",
     "iopub.status.idle": "2025-08-05T16:34:07.464906Z",
     "shell.execute_reply": "2025-08-05T16:34:07.463952Z"
    },
    "papermill": {
     "duration": 0.6058,
     "end_time": "2025-08-05T16:34:07.466755",
     "exception": false,
     "start_time": "2025-08-05T16:34:06.860955",
     "status": "completed"
    },
    "tags": []
   },
   "outputs": [],
   "source": [
    "from fairness_multiverse.conformal import evaluate_sets\n",
    "\n",
    "# Evaluate coverage and average set size on test data\n",
    "metrics = evaluate_sets(pred_sets, y_true)"
   ]
  },
  {
   "cell_type": "markdown",
   "id": "2b569c12-9aaa-4c88-98c9-bbcd0cf3ebb8",
   "metadata": {
    "papermill": {
     "duration": 0.012955,
     "end_time": "2025-08-05T16:34:07.493823",
     "exception": false,
     "start_time": "2025-08-05T16:34:07.480868",
     "status": "completed"
    },
    "tags": []
   },
   "source": [
    "# CP Metrics"
   ]
  },
  {
   "cell_type": "code",
   "execution_count": 45,
   "id": "5ce0a5cb-201f-45a0-ade5-94c7f0bd6095",
   "metadata": {
    "execution": {
     "iopub.execute_input": "2025-08-05T16:34:07.522004Z",
     "iopub.status.busy": "2025-08-05T16:34:07.521099Z",
     "iopub.status.idle": "2025-08-05T16:34:07.529077Z",
     "shell.execute_reply": "2025-08-05T16:34:07.528186Z"
    },
    "papermill": {
     "duration": 0.024046,
     "end_time": "2025-08-05T16:34:07.530813",
     "exception": false,
     "start_time": "2025-08-05T16:34:07.506767",
     "status": "completed"
    },
    "tags": []
   },
   "outputs": [
    {
     "data": {
      "text/plain": [
       "{'coverage': 0.9105227956749526, 'avg_size': 1.1838368074908037}"
      ]
     },
     "execution_count": 45,
     "metadata": {},
     "output_type": "execute_result"
    }
   ],
   "source": [
    "metrics"
   ]
  },
  {
   "cell_type": "code",
   "execution_count": 46,
   "id": "9b9a838d-31c9-430b-ae14-12baee460d17",
   "metadata": {
    "execution": {
     "iopub.execute_input": "2025-08-05T16:34:07.559005Z",
     "iopub.status.busy": "2025-08-05T16:34:07.558377Z",
     "iopub.status.idle": "2025-08-05T16:34:07.564328Z",
     "shell.execute_reply": "2025-08-05T16:34:07.563494Z"
    },
    "papermill": {
     "duration": 0.021503,
     "end_time": "2025-08-05T16:34:07.565949",
     "exception": false,
     "start_time": "2025-08-05T16:34:07.544446",
     "status": "completed"
    },
    "tags": []
   },
   "outputs": [],
   "source": [
    "example_universe = universe.copy()\n",
    "universe_training_year = example_universe.get(\"training_year\")\n",
    "universe_training_size = example_universe.get(\"training_size\")\n",
    "universe_scale = example_universe.get(\"scale\")\n",
    "universe_model = example_universe.get(\"model\")\n",
    "universe_exclude_features = example_universe.get(\"exclude_features\")\n",
    "universe_exclude_subgroups = example_universe.get(\"exclude_subgroups\")"
   ]
  },
  {
   "cell_type": "code",
   "execution_count": 47,
   "id": "f4b6a8ac-9dc0-4245-8a91-5b3b5999c4f9",
   "metadata": {
    "execution": {
     "iopub.execute_input": "2025-08-05T16:34:07.594415Z",
     "iopub.status.busy": "2025-08-05T16:34:07.593756Z",
     "iopub.status.idle": "2025-08-05T16:34:07.599729Z",
     "shell.execute_reply": "2025-08-05T16:34:07.598898Z"
    },
    "papermill": {
     "duration": 0.021691,
     "end_time": "2025-08-05T16:34:07.601454",
     "exception": false,
     "start_time": "2025-08-05T16:34:07.579763",
     "status": "completed"
    },
    "tags": []
   },
   "outputs": [],
   "source": [
    "cp_metrics_dict = {\n",
    "    \"universe_id\": [universe_id],\n",
    "    \"universe_training_year\": [universe_training_year],\n",
    "    \"universe_training_size\": [universe_training_size],\n",
    "    \"universe_scale\": [universe_scale],\n",
    "    \"universe_model\": [universe_model],\n",
    "    \"universe_exclude_features\": [universe_exclude_features],\n",
    "    \"universe_exclude_subgroups\": [universe_exclude_subgroups],\n",
    "    \"q_hat\": [q_hat],\n",
    "    \"coverage\": [metrics[\"coverage\"]],\n",
    "    \"avg_size\": [metrics[\"avg_size\"]],\n",
    "}"
   ]
  },
  {
   "cell_type": "code",
   "execution_count": 48,
   "id": "908acbb1-0371-4915-85ca-3fa520d2efe2",
   "metadata": {
    "execution": {
     "iopub.execute_input": "2025-08-05T16:34:07.629665Z",
     "iopub.status.busy": "2025-08-05T16:34:07.628986Z",
     "iopub.status.idle": "2025-08-05T16:34:07.637223Z",
     "shell.execute_reply": "2025-08-05T16:34:07.636345Z"
    },
    "papermill": {
     "duration": 0.023782,
     "end_time": "2025-08-05T16:34:07.638785",
     "exception": false,
     "start_time": "2025-08-05T16:34:07.615003",
     "status": "completed"
    },
    "tags": []
   },
   "outputs": [
    {
     "data": {
      "text/plain": [
       "{'universe_id': ['a690f2fbfd593544182318486310c850'],\n",
       " 'universe_training_year': ['2010_14'],\n",
       " 'universe_training_size': ['1k'],\n",
       " 'universe_scale': ['scale'],\n",
       " 'universe_model': ['penalized_logreg'],\n",
       " 'universe_exclude_features': ['age'],\n",
       " 'universe_exclude_subgroups': ['drop-non-german'],\n",
       " 'q_hat': [0.7391654440691555],\n",
       " 'coverage': [0.9105227956749526],\n",
       " 'avg_size': [1.1838368074908037]}"
      ]
     },
     "execution_count": 48,
     "metadata": {},
     "output_type": "execute_result"
    }
   ],
   "source": [
    "cp_metrics_dict"
   ]
  },
  {
   "cell_type": "code",
   "execution_count": 49,
   "id": "33007efc-14e9-4ec6-97ac-56a455c82265",
   "metadata": {
    "execution": {
     "iopub.execute_input": "2025-08-05T16:34:07.667405Z",
     "iopub.status.busy": "2025-08-05T16:34:07.666454Z",
     "iopub.status.idle": "2025-08-05T16:34:07.672853Z",
     "shell.execute_reply": "2025-08-05T16:34:07.671897Z"
    },
    "papermill": {
     "duration": 0.021963,
     "end_time": "2025-08-05T16:34:07.674343",
     "exception": false,
     "start_time": "2025-08-05T16:34:07.652380",
     "status": "completed"
    },
    "tags": []
   },
   "outputs": [],
   "source": [
    "cp_metrics_df = pd.DataFrame(cp_metrics_dict)"
   ]
  },
  {
   "cell_type": "code",
   "execution_count": 50,
   "id": "db12611b-57b2-4910-b9d0-355adfd6e7bf",
   "metadata": {
    "execution": {
     "iopub.execute_input": "2025-08-05T16:34:07.702960Z",
     "iopub.status.busy": "2025-08-05T16:34:07.702327Z",
     "iopub.status.idle": "2025-08-05T16:34:07.718776Z",
     "shell.execute_reply": "2025-08-05T16:34:07.717944Z"
    },
    "papermill": {
     "duration": 0.032269,
     "end_time": "2025-08-05T16:34:07.720394",
     "exception": false,
     "start_time": "2025-08-05T16:34:07.688125",
     "status": "completed"
    },
    "tags": []
   },
   "outputs": [
    {
     "data": {
      "text/html": [
       "<div>\n",
       "<style scoped>\n",
       "    .dataframe tbody tr th:only-of-type {\n",
       "        vertical-align: middle;\n",
       "    }\n",
       "\n",
       "    .dataframe tbody tr th {\n",
       "        vertical-align: top;\n",
       "    }\n",
       "\n",
       "    .dataframe thead th {\n",
       "        text-align: right;\n",
       "    }\n",
       "</style>\n",
       "<table border=\"1\" class=\"dataframe\">\n",
       "  <thead>\n",
       "    <tr style=\"text-align: right;\">\n",
       "      <th></th>\n",
       "      <th>universe_id</th>\n",
       "      <th>universe_training_year</th>\n",
       "      <th>universe_training_size</th>\n",
       "      <th>universe_scale</th>\n",
       "      <th>universe_model</th>\n",
       "      <th>universe_exclude_features</th>\n",
       "      <th>universe_exclude_subgroups</th>\n",
       "      <th>q_hat</th>\n",
       "      <th>coverage</th>\n",
       "      <th>avg_size</th>\n",
       "    </tr>\n",
       "  </thead>\n",
       "  <tbody>\n",
       "    <tr>\n",
       "      <th>0</th>\n",
       "      <td>a690f2fbfd593544182318486310c850</td>\n",
       "      <td>2010_14</td>\n",
       "      <td>1k</td>\n",
       "      <td>scale</td>\n",
       "      <td>penalized_logreg</td>\n",
       "      <td>age</td>\n",
       "      <td>drop-non-german</td>\n",
       "      <td>0.739165</td>\n",
       "      <td>0.910523</td>\n",
       "      <td>1.183837</td>\n",
       "    </tr>\n",
       "  </tbody>\n",
       "</table>\n",
       "</div>"
      ],
      "text/plain": [
       "                        universe_id universe_training_year  \\\n",
       "0  a690f2fbfd593544182318486310c850                2010_14   \n",
       "\n",
       "  universe_training_size universe_scale    universe_model  \\\n",
       "0                     1k          scale  penalized_logreg   \n",
       "\n",
       "  universe_exclude_features universe_exclude_subgroups     q_hat  coverage  \\\n",
       "0                       age            drop-non-german  0.739165  0.910523   \n",
       "\n",
       "   avg_size  \n",
       "0  1.183837  "
      ]
     },
     "execution_count": 50,
     "metadata": {},
     "output_type": "execute_result"
    }
   ],
   "source": [
    "cp_metrics_df"
   ]
  },
  {
   "cell_type": "code",
   "execution_count": 51,
   "id": "b7fbde55-a0a1-47e4-9af6-fe4a17fa8c61",
   "metadata": {
    "execution": {
     "iopub.execute_input": "2025-08-05T16:34:07.749977Z",
     "iopub.status.busy": "2025-08-05T16:34:07.749143Z",
     "iopub.status.idle": "2025-08-05T16:34:07.754514Z",
     "shell.execute_reply": "2025-08-05T16:34:07.753501Z"
    },
    "papermill": {
     "duration": 0.021591,
     "end_time": "2025-08-05T16:34:07.756106",
     "exception": false,
     "start_time": "2025-08-05T16:34:07.734515",
     "status": "completed"
    },
    "tags": []
   },
   "outputs": [],
   "source": [
    "# Conditional Coverage & looking at subgroups"
   ]
  },
  {
   "cell_type": "code",
   "execution_count": 52,
   "id": "027ae886-68dd-4141-96c7-805a5450e1ef",
   "metadata": {
    "execution": {
     "iopub.execute_input": "2025-08-05T16:34:07.785287Z",
     "iopub.status.busy": "2025-08-05T16:34:07.784506Z",
     "iopub.status.idle": "2025-08-05T16:34:07.984230Z",
     "shell.execute_reply": "2025-08-05T16:34:07.983305Z"
    },
    "papermill": {
     "duration": 0.215915,
     "end_time": "2025-08-05T16:34:07.986089",
     "exception": false,
     "start_time": "2025-08-05T16:34:07.770174",
     "status": "completed"
    },
    "tags": []
   },
   "outputs": [],
   "source": [
    "from fairness_multiverse.conformal import build_cp_groups\n",
    "\n",
    "cp_groups_df = build_cp_groups(pred_sets, y_true, X_test.index, org_test)\n",
    "#needs universe_id and setting"
   ]
  },
  {
   "cell_type": "code",
   "execution_count": 53,
   "id": "6cbdab96-b2b2-45af-ad54-d0516db2e28d",
   "metadata": {
    "execution": {
     "iopub.execute_input": "2025-08-05T16:34:08.015674Z",
     "iopub.status.busy": "2025-08-05T16:34:08.015291Z",
     "iopub.status.idle": "2025-08-05T16:34:09.453034Z",
     "shell.execute_reply": "2025-08-05T16:34:09.451729Z"
    },
    "papermill": {
     "duration": 1.455038,
     "end_time": "2025-08-05T16:34:09.455725",
     "exception": false,
     "start_time": "2025-08-05T16:34:08.000687",
     "status": "completed"
    },
    "tags": []
   },
   "outputs": [],
   "source": [
    "# Define covered = 1 if true_label is in the predicted set\n",
    "cp_groups_df['covered'] = cp_groups_df.apply(\n",
    "    lambda r: int(r['true_label'] in r['pred_set']),\n",
    "    axis=1\n",
    ")"
   ]
  },
  {
   "cell_type": "code",
   "execution_count": 54,
   "id": "338ff529-1a6b-4b87-a931-8e4788d52aad",
   "metadata": {
    "execution": {
     "iopub.execute_input": "2025-08-05T16:34:09.514831Z",
     "iopub.status.busy": "2025-08-05T16:34:09.513850Z",
     "iopub.status.idle": "2025-08-05T16:34:09.520270Z",
     "shell.execute_reply": "2025-08-05T16:34:09.519168Z"
    },
    "papermill": {
     "duration": 0.035032,
     "end_time": "2025-08-05T16:34:09.522304",
     "exception": false,
     "start_time": "2025-08-05T16:34:09.487272",
     "status": "completed"
    },
    "tags": []
   },
   "outputs": [],
   "source": [
    "#cp_groups_df"
   ]
  },
  {
   "cell_type": "code",
   "execution_count": 55,
   "id": "90032e27-66df-4540-9169-4e89cfbaa758",
   "metadata": {
    "execution": {
     "iopub.execute_input": "2025-08-05T16:34:09.558098Z",
     "iopub.status.busy": "2025-08-05T16:34:09.557475Z",
     "iopub.status.idle": "2025-08-05T16:34:09.571059Z",
     "shell.execute_reply": "2025-08-05T16:34:09.569899Z"
    },
    "papermill": {
     "duration": 0.031374,
     "end_time": "2025-08-05T16:34:09.573030",
     "exception": false,
     "start_time": "2025-08-05T16:34:09.541656",
     "status": "completed"
    },
    "tags": []
   },
   "outputs": [],
   "source": [
    "subgroups = ['frau1','nongerman','nongerman_male','nongerman_female']\n",
    "\n",
    "# Conditional coverage for subgroup==1\n",
    "cond_coverage = {\n",
    "    g: cp_groups_df.loc[cp_groups_df[g]==1, 'covered'].mean()\n",
    "    for g in subgroups\n",
    "}"
   ]
  },
  {
   "cell_type": "code",
   "execution_count": 56,
   "id": "1e348fb1-b9c3-45bc-ba23-f016827a7e0d",
   "metadata": {
    "execution": {
     "iopub.execute_input": "2025-08-05T16:34:09.638295Z",
     "iopub.status.busy": "2025-08-05T16:34:09.637557Z",
     "iopub.status.idle": "2025-08-05T16:34:09.646227Z",
     "shell.execute_reply": "2025-08-05T16:34:09.645087Z"
    },
    "papermill": {
     "duration": 0.043937,
     "end_time": "2025-08-05T16:34:09.648230",
     "exception": false,
     "start_time": "2025-08-05T16:34:09.604293",
     "status": "completed"
    },
    "tags": []
   },
   "outputs": [
    {
     "data": {
      "text/plain": [
       "{'frau1': 0.9112818439142741,\n",
       " 'nongerman': 0.9095042946162915,\n",
       " 'nongerman_male': 0.924614968927317,\n",
       " 'nongerman_female': 0.8845007451564829}"
      ]
     },
     "execution_count": 56,
     "metadata": {},
     "output_type": "execute_result"
    }
   ],
   "source": [
    "cond_coverage"
   ]
  },
  {
   "cell_type": "code",
   "execution_count": 57,
   "id": "f5093324-c3dd-4d63-bc4c-8d945e5c8bbb",
   "metadata": {
    "execution": {
     "iopub.execute_input": "2025-08-05T16:34:09.712598Z",
     "iopub.status.busy": "2025-08-05T16:34:09.711781Z",
     "iopub.status.idle": "2025-08-05T16:34:09.720841Z",
     "shell.execute_reply": "2025-08-05T16:34:09.719739Z"
    },
    "papermill": {
     "duration": 0.042942,
     "end_time": "2025-08-05T16:34:09.722859",
     "exception": false,
     "start_time": "2025-08-05T16:34:09.679917",
     "status": "completed"
    },
    "tags": []
   },
   "outputs": [],
   "source": [
    "for subgroup, cov in cond_coverage.items():\n",
    "    cp_metrics_df[f\"cov_{subgroup}\"] = cov"
   ]
  },
  {
   "cell_type": "code",
   "execution_count": 58,
   "id": "6e872e10-dbe5-49e8-b554-5030c98ff75d",
   "metadata": {
    "execution": {
     "iopub.execute_input": "2025-08-05T16:34:09.792042Z",
     "iopub.status.busy": "2025-08-05T16:34:09.791249Z",
     "iopub.status.idle": "2025-08-05T16:34:09.816478Z",
     "shell.execute_reply": "2025-08-05T16:34:09.815211Z"
    },
    "papermill": {
     "duration": 0.062618,
     "end_time": "2025-08-05T16:34:09.818481",
     "exception": false,
     "start_time": "2025-08-05T16:34:09.755863",
     "status": "completed"
    },
    "tags": []
   },
   "outputs": [
    {
     "data": {
      "text/html": [
       "<div>\n",
       "<style scoped>\n",
       "    .dataframe tbody tr th:only-of-type {\n",
       "        vertical-align: middle;\n",
       "    }\n",
       "\n",
       "    .dataframe tbody tr th {\n",
       "        vertical-align: top;\n",
       "    }\n",
       "\n",
       "    .dataframe thead th {\n",
       "        text-align: right;\n",
       "    }\n",
       "</style>\n",
       "<table border=\"1\" class=\"dataframe\">\n",
       "  <thead>\n",
       "    <tr style=\"text-align: right;\">\n",
       "      <th></th>\n",
       "      <th>universe_id</th>\n",
       "      <th>universe_training_year</th>\n",
       "      <th>universe_training_size</th>\n",
       "      <th>universe_scale</th>\n",
       "      <th>universe_model</th>\n",
       "      <th>universe_exclude_features</th>\n",
       "      <th>universe_exclude_subgroups</th>\n",
       "      <th>q_hat</th>\n",
       "      <th>coverage</th>\n",
       "      <th>avg_size</th>\n",
       "      <th>cov_frau1</th>\n",
       "      <th>cov_nongerman</th>\n",
       "      <th>cov_nongerman_male</th>\n",
       "      <th>cov_nongerman_female</th>\n",
       "    </tr>\n",
       "  </thead>\n",
       "  <tbody>\n",
       "    <tr>\n",
       "      <th>0</th>\n",
       "      <td>a690f2fbfd593544182318486310c850</td>\n",
       "      <td>2010_14</td>\n",
       "      <td>1k</td>\n",
       "      <td>scale</td>\n",
       "      <td>penalized_logreg</td>\n",
       "      <td>age</td>\n",
       "      <td>drop-non-german</td>\n",
       "      <td>0.739165</td>\n",
       "      <td>0.910523</td>\n",
       "      <td>1.183837</td>\n",
       "      <td>0.911282</td>\n",
       "      <td>0.909504</td>\n",
       "      <td>0.924615</td>\n",
       "      <td>0.884501</td>\n",
       "    </tr>\n",
       "  </tbody>\n",
       "</table>\n",
       "</div>"
      ],
      "text/plain": [
       "                        universe_id universe_training_year  \\\n",
       "0  a690f2fbfd593544182318486310c850                2010_14   \n",
       "\n",
       "  universe_training_size universe_scale    universe_model  \\\n",
       "0                     1k          scale  penalized_logreg   \n",
       "\n",
       "  universe_exclude_features universe_exclude_subgroups     q_hat  coverage  \\\n",
       "0                       age            drop-non-german  0.739165  0.910523   \n",
       "\n",
       "   avg_size  cov_frau1  cov_nongerman  cov_nongerman_male  \\\n",
       "0  1.183837   0.911282       0.909504            0.924615   \n",
       "\n",
       "   cov_nongerman_female  \n",
       "0              0.884501  "
      ]
     },
     "execution_count": 58,
     "metadata": {},
     "output_type": "execute_result"
    }
   ],
   "source": [
    "cp_metrics_df"
   ]
  },
  {
   "cell_type": "markdown",
   "id": "33774451",
   "metadata": {
    "papermill": {
     "duration": 0.034349,
     "end_time": "2025-08-05T16:34:09.883444",
     "exception": false,
     "start_time": "2025-08-05T16:34:09.849095",
     "status": "completed"
    },
    "tags": []
   },
   "source": [
    "# (Fairness) Metrics"
   ]
  },
  {
   "cell_type": "code",
   "execution_count": 59,
   "id": "debc5d62",
   "metadata": {
    "execution": {
     "iopub.execute_input": "2025-08-05T16:34:09.953720Z",
     "iopub.status.busy": "2025-08-05T16:34:09.952979Z",
     "iopub.status.idle": "2025-08-05T16:34:09.978558Z",
     "shell.execute_reply": "2025-08-05T16:34:09.977226Z"
    },
    "papermill": {
     "duration": 0.061583,
     "end_time": "2025-08-05T16:34:09.980626",
     "exception": false,
     "start_time": "2025-08-05T16:34:09.919043",
     "status": "completed"
    },
    "tags": []
   },
   "outputs": [],
   "source": [
    "# do I need to include maxdeutsch1.missing?\n",
    "\n",
    "import numpy as np\n",
    "\n",
    "colname_to_bin = \"maxdeutsch1\"\n",
    "majority_value = org_train[colname_to_bin].mode()[0]\n",
    "\n",
    "org_test[\"majmin\"] = np.where(org_test[colname_to_bin] == majority_value, \"majority\", \"minority\")"
   ]
  },
  {
   "cell_type": "code",
   "execution_count": 60,
   "id": "06a50de5",
   "metadata": {
    "execution": {
     "iopub.execute_input": "2025-08-05T16:34:10.035700Z",
     "iopub.status.busy": "2025-08-05T16:34:10.034650Z",
     "iopub.status.idle": "2025-08-05T16:34:13.610134Z",
     "shell.execute_reply": "2025-08-05T16:34:13.608716Z"
    },
    "papermill": {
     "duration": 3.605352,
     "end_time": "2025-08-05T16:34:13.612479",
     "exception": false,
     "start_time": "2025-08-05T16:34:10.007127",
     "status": "completed"
    },
    "tags": []
   },
   "outputs": [],
   "source": [
    "example_universe = universe.copy()\n",
    "example_universe[\"cutoff\"] = example_universe[\"cutoff\"][0]\n",
    "example_universe[\"eval_fairness_grouping\"] = example_universe[\"eval_fairness_grouping\"][0]\n",
    "fairness_dict, metric_frame = universe_analysis.compute_metrics(\n",
    "    example_universe,\n",
    "    y_pred_prob=probs_test,\n",
    "    y_test=y_true,\n",
    "    org_test=org_test,\n",
    ")"
   ]
  },
  {
   "cell_type": "markdown",
   "id": "f95d4e02",
   "metadata": {
    "papermill": {
     "duration": 0.030496,
     "end_time": "2025-08-05T16:34:13.672415",
     "exception": false,
     "start_time": "2025-08-05T16:34:13.641919",
     "status": "completed"
    },
    "tags": []
   },
   "source": [
    "# Overall"
   ]
  },
  {
   "cell_type": "markdown",
   "id": "bdee4871",
   "metadata": {
    "papermill": {
     "duration": 0.028672,
     "end_time": "2025-08-05T16:34:13.730583",
     "exception": false,
     "start_time": "2025-08-05T16:34:13.701911",
     "status": "completed"
    },
    "tags": []
   },
   "source": [
    "Fairness\n",
    "Main fairness target: Equalized Odds. Seems to be a better fit than equal opportunity, since we're not only interested in Y = 1. Seems to be a better fit than demographic parity, since we also care about accuracy, not just equal distribution of preds.\n",
    "\n",
    "Pick column for computation of fairness metrics\n",
    "\n",
    "Performance\n",
    "Overall performance measures, most interesting in relation to the measures split by group below"
   ]
  },
  {
   "cell_type": "code",
   "execution_count": 61,
   "id": "c4e067c6",
   "metadata": {
    "execution": {
     "iopub.execute_input": "2025-08-05T16:34:13.801384Z",
     "iopub.status.busy": "2025-08-05T16:34:13.800587Z",
     "iopub.status.idle": "2025-08-05T16:34:13.810649Z",
     "shell.execute_reply": "2025-08-05T16:34:13.809563Z"
    },
    "papermill": {
     "duration": 0.051839,
     "end_time": "2025-08-05T16:34:13.812929",
     "exception": false,
     "start_time": "2025-08-05T16:34:13.761090",
     "status": "completed"
    },
    "tags": []
   },
   "outputs": [
    {
     "data": {
      "text/plain": [
       "accuracy                   0.219608\n",
       "balanced accuracy          0.537969\n",
       "f1                         0.241070\n",
       "precision                  0.137715\n",
       "false positive rate        0.890259\n",
       "false negative rate        0.033803\n",
       "selection rate             0.900000\n",
       "count                  89710.000000\n",
       "dtype: float64"
      ]
     },
     "execution_count": 61,
     "metadata": {},
     "output_type": "execute_result"
    }
   ],
   "source": [
    "metric_frame.overall"
   ]
  },
  {
   "cell_type": "markdown",
   "id": "e968fe9d",
   "metadata": {
    "papermill": {
     "duration": 0.038642,
     "end_time": "2025-08-05T16:34:13.890120",
     "exception": false,
     "start_time": "2025-08-05T16:34:13.851478",
     "status": "completed"
    },
    "tags": []
   },
   "source": [
    "By Group"
   ]
  },
  {
   "cell_type": "code",
   "execution_count": 62,
   "id": "ec325bce",
   "metadata": {
    "execution": {
     "iopub.execute_input": "2025-08-05T16:34:13.969027Z",
     "iopub.status.busy": "2025-08-05T16:34:13.968572Z",
     "iopub.status.idle": "2025-08-05T16:34:13.988456Z",
     "shell.execute_reply": "2025-08-05T16:34:13.986960Z"
    },
    "papermill": {
     "duration": 0.062831,
     "end_time": "2025-08-05T16:34:13.991321",
     "exception": false,
     "start_time": "2025-08-05T16:34:13.928490",
     "status": "completed"
    },
    "tags": []
   },
   "outputs": [
    {
     "data": {
      "text/html": [
       "<div>\n",
       "<style scoped>\n",
       "    .dataframe tbody tr th:only-of-type {\n",
       "        vertical-align: middle;\n",
       "    }\n",
       "\n",
       "    .dataframe tbody tr th {\n",
       "        vertical-align: top;\n",
       "    }\n",
       "\n",
       "    .dataframe thead th {\n",
       "        text-align: right;\n",
       "    }\n",
       "</style>\n",
       "<table border=\"1\" class=\"dataframe\">\n",
       "  <thead>\n",
       "    <tr style=\"text-align: right;\">\n",
       "      <th></th>\n",
       "      <th>accuracy</th>\n",
       "      <th>balanced accuracy</th>\n",
       "      <th>f1</th>\n",
       "      <th>precision</th>\n",
       "      <th>false positive rate</th>\n",
       "      <th>false negative rate</th>\n",
       "      <th>selection rate</th>\n",
       "      <th>count</th>\n",
       "    </tr>\n",
       "    <tr>\n",
       "      <th>majmin</th>\n",
       "      <th></th>\n",
       "      <th></th>\n",
       "      <th></th>\n",
       "      <th></th>\n",
       "      <th></th>\n",
       "      <th></th>\n",
       "      <th></th>\n",
       "      <th></th>\n",
       "    </tr>\n",
       "  </thead>\n",
       "  <tbody>\n",
       "    <tr>\n",
       "      <th>majority</th>\n",
       "      <td>0.232326</td>\n",
       "      <td>0.542278</td>\n",
       "      <td>0.249088</td>\n",
       "      <td>0.143031</td>\n",
       "      <td>0.879010</td>\n",
       "      <td>0.036433</td>\n",
       "      <td>0.890184</td>\n",
       "      <td>69170.0</td>\n",
       "    </tr>\n",
       "    <tr>\n",
       "      <th>minority</th>\n",
       "      <td>0.176777</td>\n",
       "      <td>0.524468</td>\n",
       "      <td>0.214740</td>\n",
       "      <td>0.120637</td>\n",
       "      <td>0.927416</td>\n",
       "      <td>0.023649</td>\n",
       "      <td>0.933057</td>\n",
       "      <td>20540.0</td>\n",
       "    </tr>\n",
       "  </tbody>\n",
       "</table>\n",
       "</div>"
      ],
      "text/plain": [
       "          accuracy  balanced accuracy        f1  precision  \\\n",
       "majmin                                                       \n",
       "majority  0.232326           0.542278  0.249088   0.143031   \n",
       "minority  0.176777           0.524468  0.214740   0.120637   \n",
       "\n",
       "          false positive rate  false negative rate  selection rate    count  \n",
       "majmin                                                                       \n",
       "majority             0.879010             0.036433        0.890184  69170.0  \n",
       "minority             0.927416             0.023649        0.933057  20540.0  "
      ]
     },
     "execution_count": 62,
     "metadata": {},
     "output_type": "execute_result"
    }
   ],
   "source": [
    "metric_frame.by_group"
   ]
  },
  {
   "cell_type": "code",
   "execution_count": 63,
   "id": "a9ddbe63",
   "metadata": {
    "execution": {
     "iopub.execute_input": "2025-08-05T16:34:14.072322Z",
     "iopub.status.busy": "2025-08-05T16:34:14.071715Z",
     "iopub.status.idle": "2025-08-05T16:34:16.372675Z",
     "shell.execute_reply": "2025-08-05T16:34:16.371800Z"
    },
    "papermill": {
     "duration": 2.343064,
     "end_time": "2025-08-05T16:34:16.374245",
     "exception": false,
     "start_time": "2025-08-05T16:34:14.031181",
     "status": "completed"
    },
    "tags": []
   },
   "outputs": [
    {
     "data": {
      "text/plain": [
       "array([[<Axes: title={'center': 'accuracy'}, xlabel='majmin'>,\n",
       "        <Axes: title={'center': 'balanced accuracy'}, xlabel='majmin'>,\n",
       "        <Axes: title={'center': 'f1'}, xlabel='majmin'>],\n",
       "       [<Axes: title={'center': 'precision'}, xlabel='majmin'>,\n",
       "        <Axes: title={'center': 'false positive rate'}, xlabel='majmin'>,\n",
       "        <Axes: title={'center': 'false negative rate'}, xlabel='majmin'>],\n",
       "       [<Axes: title={'center': 'selection rate'}, xlabel='majmin'>,\n",
       "        <Axes: title={'center': 'count'}, xlabel='majmin'>,\n",
       "        <Axes: xlabel='majmin'>]], dtype=object)"
      ]
     },
     "execution_count": 63,
     "metadata": {},
     "output_type": "execute_result"
    },
    {
     "data": {
      "image/png": "[encoded data removed]",
      "text/plain": [
       "<Figure size 1200x800 with 9 Axes>"
      ]
     },
     "metadata": {},
     "output_type": "display_data"
    }
   ],
   "source": [
    "# In a graphic\n",
    "metric_frame.by_group.plot.bar(\n",
    "    subplots=True,\n",
    "    layout=[3, 3],\n",
    "    legend=False,\n",
    "    figsize=[12, 8],\n",
    "    title=\"Show all metrics\",\n",
    ")"
   ]
  },
  {
   "cell_type": "markdown",
   "id": "f57a0bac",
   "metadata": {
    "papermill": {
     "duration": 0.019796,
     "end_time": "2025-08-05T16:34:16.412618",
     "exception": false,
     "start_time": "2025-08-05T16:34:16.392822",
     "status": "completed"
    },
    "tags": []
   },
   "source": [
    "# Final Output"
   ]
  },
  {
   "cell_type": "code",
   "execution_count": 64,
   "id": "96d280a3",
   "metadata": {
    "execution": {
     "iopub.execute_input": "2025-08-05T16:34:16.445610Z",
     "iopub.status.busy": "2025-08-05T16:34:16.444761Z",
     "iopub.status.idle": "2025-08-05T16:34:16.453634Z",
     "shell.execute_reply": "2025-08-05T16:34:16.452752Z"
    },
    "papermill": {
     "duration": 0.027281,
     "end_time": "2025-08-05T16:34:16.455580",
     "exception": false,
     "start_time": "2025-08-05T16:34:16.428299",
     "status": "completed"
    },
    "tags": []
   },
   "outputs": [
    {
     "data": {
      "text/plain": [
       "4"
      ]
     },
     "execution_count": 64,
     "metadata": {},
     "output_type": "execute_result"
    }
   ],
   "source": [
    "sub_universes = universe_analysis.generate_sub_universes()\n",
    "len(sub_universes)"
   ]
  },
  {
   "cell_type": "code",
   "execution_count": 65,
   "id": "92adf7ba",
   "metadata": {
    "execution": {
     "iopub.execute_input": "2025-08-05T16:34:16.515765Z",
     "iopub.status.busy": "2025-08-05T16:34:16.514775Z",
     "iopub.status.idle": "2025-08-05T16:34:16.521879Z",
     "shell.execute_reply": "2025-08-05T16:34:16.520784Z"
    },
    "papermill": {
     "duration": 0.03847,
     "end_time": "2025-08-05T16:34:16.523957",
     "exception": false,
     "start_time": "2025-08-05T16:34:16.485487",
     "status": "completed"
    },
    "tags": []
   },
   "outputs": [],
   "source": [
    "def filter_sub_universe_data(sub_universe, org_test):\n",
    "    # Keep all rows — no filtering\n",
    "    keep_rows_mask = np.ones(org_test.shape[0], dtype=bool)\n",
    "\n",
    "    print(f\"[INFO] Keeping all rows: {keep_rows_mask.sum()} rows retained.\")\n",
    "    return keep_rows_mask"
   ]
  },
  {
   "cell_type": "code",
   "execution_count": 66,
   "id": "4a759155",
   "metadata": {
    "execution": {
     "iopub.execute_input": "2025-08-05T16:34:16.584726Z",
     "iopub.status.busy": "2025-08-05T16:34:16.583938Z",
     "iopub.status.idle": "2025-08-05T16:34:26.139571Z",
     "shell.execute_reply": "2025-08-05T16:34:26.138541Z"
    },
    "papermill": {
     "duration": 9.590562,
     "end_time": "2025-08-05T16:34:26.141151",
     "exception": false,
     "start_time": "2025-08-05T16:34:16.550589",
     "status": "completed"
    },
    "tags": []
   },
   "outputs": [
    {
     "name": "stdout",
     "output_type": "stream",
     "text": [
      "Stopping execution_time clock.\n",
      "[INFO] Keeping all rows: 89710 rows retained.\n"
     ]
    },
    {
     "name": "stdout",
     "output_type": "stream",
     "text": [
      "[INFO] Keeping all rows: 89710 rows retained.\n"
     ]
    },
    {
     "name": "stdout",
     "output_type": "stream",
     "text": [
      "[INFO] Keeping all rows: 89710 rows retained.\n"
     ]
    },
    {
     "name": "stdout",
     "output_type": "stream",
     "text": [
      "[INFO] Keeping all rows: 89710 rows retained.\n"
     ]
    },
    {
     "data": {
      "text/html": [
       "<div>\n",
       "<style scoped>\n",
       "    .dataframe tbody tr th:only-of-type {\n",
       "        vertical-align: middle;\n",
       "    }\n",
       "\n",
       "    .dataframe tbody tr th {\n",
       "        vertical-align: top;\n",
       "    }\n",
       "\n",
       "    .dataframe thead th {\n",
       "        text-align: right;\n",
       "    }\n",
       "</style>\n",
       "<table border=\"1\" class=\"dataframe\">\n",
       "  <thead>\n",
       "    <tr style=\"text-align: right;\">\n",
       "      <th></th>\n",
       "      <th>run_no</th>\n",
       "      <th>universe_id</th>\n",
       "      <th>universe_settings</th>\n",
       "      <th>execution_time</th>\n",
       "      <th>test_size_n</th>\n",
       "      <th>test_size_frac</th>\n",
       "      <th>fair_main_equalized_odds_difference</th>\n",
       "      <th>fair_main_equalized_odds_ratio</th>\n",
       "      <th>fair_main_demographic_parity_difference</th>\n",
       "      <th>fair_main_demographic_parity_ratio</th>\n",
       "      <th>...</th>\n",
       "      <th>perf_grp_precision_0</th>\n",
       "      <th>perf_grp_precision_1</th>\n",
       "      <th>perf_grp_false positive rate_0</th>\n",
       "      <th>perf_grp_false positive rate_1</th>\n",
       "      <th>perf_grp_false negative rate_0</th>\n",
       "      <th>perf_grp_false negative rate_1</th>\n",
       "      <th>perf_grp_selection rate_0</th>\n",
       "      <th>perf_grp_selection rate_1</th>\n",
       "      <th>perf_grp_count_0</th>\n",
       "      <th>perf_grp_count_1</th>\n",
       "    </tr>\n",
       "  </thead>\n",
       "  <tbody>\n",
       "    <tr>\n",
       "      <th>0</th>\n",
       "      <td>15</td>\n",
       "      <td>a690f2fbfd593544182318486310c850</td>\n",
       "      <td>{\"cutoff\": \"quantile_0.1\", \"eval_fairness_grou...</td>\n",
       "      <td>29.527582</td>\n",
       "      <td>89710</td>\n",
       "      <td>1.0</td>\n",
       "      <td>0.048405</td>\n",
       "      <td>0.947806</td>\n",
       "      <td>0.042874</td>\n",
       "      <td>0.954050</td>\n",
       "      <td>...</td>\n",
       "      <td>NaN</td>\n",
       "      <td>NaN</td>\n",
       "      <td>NaN</td>\n",
       "      <td>NaN</td>\n",
       "      <td>NaN</td>\n",
       "      <td>NaN</td>\n",
       "      <td>NaN</td>\n",
       "      <td>NaN</td>\n",
       "      <td>NaN</td>\n",
       "      <td>NaN</td>\n",
       "    </tr>\n",
       "    <tr>\n",
       "      <th>0</th>\n",
       "      <td>15</td>\n",
       "      <td>a690f2fbfd593544182318486310c850</td>\n",
       "      <td>{\"cutoff\": \"quantile_0.1\", \"eval_fairness_grou...</td>\n",
       "      <td>29.527582</td>\n",
       "      <td>89710</td>\n",
       "      <td>1.0</td>\n",
       "      <td>0.048405</td>\n",
       "      <td>0.947806</td>\n",
       "      <td>0.042874</td>\n",
       "      <td>0.954050</td>\n",
       "      <td>...</td>\n",
       "      <td>0.120637</td>\n",
       "      <td>0.143031</td>\n",
       "      <td>0.927416</td>\n",
       "      <td>0.879010</td>\n",
       "      <td>0.023649</td>\n",
       "      <td>0.036433</td>\n",
       "      <td>0.933057</td>\n",
       "      <td>0.890184</td>\n",
       "      <td>20540.0</td>\n",
       "      <td>69170.0</td>\n",
       "    </tr>\n",
       "    <tr>\n",
       "      <th>0</th>\n",
       "      <td>15</td>\n",
       "      <td>a690f2fbfd593544182318486310c850</td>\n",
       "      <td>{\"cutoff\": \"quantile_0.25\", \"eval_fairness_gro...</td>\n",
       "      <td>29.527582</td>\n",
       "      <td>89710</td>\n",
       "      <td>1.0</td>\n",
       "      <td>0.128051</td>\n",
       "      <td>0.845088</td>\n",
       "      <td>0.115116</td>\n",
       "      <td>0.862753</td>\n",
       "      <td>...</td>\n",
       "      <td>NaN</td>\n",
       "      <td>NaN</td>\n",
       "      <td>NaN</td>\n",
       "      <td>NaN</td>\n",
       "      <td>NaN</td>\n",
       "      <td>NaN</td>\n",
       "      <td>NaN</td>\n",
       "      <td>NaN</td>\n",
       "      <td>NaN</td>\n",
       "      <td>NaN</td>\n",
       "    </tr>\n",
       "    <tr>\n",
       "      <th>0</th>\n",
       "      <td>15</td>\n",
       "      <td>a690f2fbfd593544182318486310c850</td>\n",
       "      <td>{\"cutoff\": \"quantile_0.25\", \"eval_fairness_gro...</td>\n",
       "      <td>29.527582</td>\n",
       "      <td>89710</td>\n",
       "      <td>1.0</td>\n",
       "      <td>0.128051</td>\n",
       "      <td>0.845088</td>\n",
       "      <td>0.115116</td>\n",
       "      <td>0.862753</td>\n",
       "      <td>...</td>\n",
       "      <td>0.128105</td>\n",
       "      <td>0.162225</td>\n",
       "      <td>0.826601</td>\n",
       "      <td>0.698551</td>\n",
       "      <td>0.067990</td>\n",
       "      <td>0.111597</td>\n",
       "      <td>0.838754</td>\n",
       "      <td>0.723637</td>\n",
       "      <td>20540.0</td>\n",
       "      <td>69170.0</td>\n",
       "    </tr>\n",
       "  </tbody>\n",
       "</table>\n",
       "<p>4 rows × 50 columns</p>\n",
       "</div>"
      ],
      "text/plain": [
       "  run_no                       universe_id  \\\n",
       "0     15  a690f2fbfd593544182318486310c850   \n",
       "0     15  a690f2fbfd593544182318486310c850   \n",
       "0     15  a690f2fbfd593544182318486310c850   \n",
       "0     15  a690f2fbfd593544182318486310c850   \n",
       "\n",
       "                                   universe_settings  execution_time  \\\n",
       "0  {\"cutoff\": \"quantile_0.1\", \"eval_fairness_grou...       29.527582   \n",
       "0  {\"cutoff\": \"quantile_0.1\", \"eval_fairness_grou...       29.527582   \n",
       "0  {\"cutoff\": \"quantile_0.25\", \"eval_fairness_gro...       29.527582   \n",
       "0  {\"cutoff\": \"quantile_0.25\", \"eval_fairness_gro...       29.527582   \n",
       "\n",
       "   test_size_n  test_size_frac  fair_main_equalized_odds_difference  \\\n",
       "0        89710             1.0                             0.048405   \n",
       "0        89710             1.0                             0.048405   \n",
       "0        89710             1.0                             0.128051   \n",
       "0        89710             1.0                             0.128051   \n",
       "\n",
       "   fair_main_equalized_odds_ratio  fair_main_demographic_parity_difference  \\\n",
       "0                        0.947806                                 0.042874   \n",
       "0                        0.947806                                 0.042874   \n",
       "0                        0.845088                                 0.115116   \n",
       "0                        0.845088                                 0.115116   \n",
       "\n",
       "   fair_main_demographic_parity_ratio  ...  perf_grp_precision_0  \\\n",
       "0                            0.954050  ...                   NaN   \n",
       "0                            0.954050  ...              0.120637   \n",
       "0                            0.862753  ...                   NaN   \n",
       "0                            0.862753  ...              0.128105   \n",
       "\n",
       "   perf_grp_precision_1  perf_grp_false positive rate_0  \\\n",
       "0                   NaN                             NaN   \n",
       "0              0.143031                        0.927416   \n",
       "0                   NaN                             NaN   \n",
       "0              0.162225                        0.826601   \n",
       "\n",
       "   perf_grp_false positive rate_1  perf_grp_false negative rate_0  \\\n",
       "0                             NaN                             NaN   \n",
       "0                        0.879010                        0.023649   \n",
       "0                             NaN                             NaN   \n",
       "0                        0.698551                        0.067990   \n",
       "\n",
       "   perf_grp_false negative rate_1  perf_grp_selection rate_0  \\\n",
       "0                             NaN                        NaN   \n",
       "0                        0.036433                   0.933057   \n",
       "0                             NaN                        NaN   \n",
       "0                        0.111597                   0.838754   \n",
       "\n",
       "   perf_grp_selection rate_1  perf_grp_count_0  perf_grp_count_1  \n",
       "0                        NaN               NaN               NaN  \n",
       "0                   0.890184           20540.0           69170.0  \n",
       "0                        NaN               NaN               NaN  \n",
       "0                   0.723637           20540.0           69170.0  \n",
       "\n",
       "[4 rows x 50 columns]"
      ]
     },
     "execution_count": 66,
     "metadata": {},
     "output_type": "execute_result"
    }
   ],
   "source": [
    "final_output = universe_analysis.generate_final_output(\n",
    "    y_pred_prob=probs_test,\n",
    "    y_test=y_true,\n",
    "    org_test=org_test,\n",
    "    filter_data=filter_sub_universe_data,\n",
    "    cp_metrics_df=cp_metrics_df,\n",
    "    save=True,\n",
    ")\n",
    "final_output"
   ]
  }
 ],
 "metadata": {
  "celltoolbar": "Tags",
  "kernelspec": {
   "display_name": "Python (CMA Fairness)",
   "language": "python",
   "name": "cma_fair_env"
  },
  "language_info": {
   "codemirror_mode": {
    "name": "ipython",
    "version": 3
   },
   "file_extension": ".py",
   "mimetype": "text/x-python",
   "name": "python",
   "nbconvert_exporter": "python",
   "pygments_lexer": "ipython3",
   "version": "3.10.12"
  },
  "papermill": {
   "default_parameters": {},
   "duration": 43.851522,
   "end_time": "2025-08-05T16:34:26.776682",
   "environment_variables": {},
   "exception": null,
   "input_path": "universe_analysis.ipynb",
   "output_path": "output/runs/15/notebooks/m_15-a690f2fbfd593544182318486310c850.ipynb",
   "parameters": {
    "output_dir": "output",
    "run_no": "15",
    "seed": "2023",
    "universe": "{\"cutoff\": [\"quantile_0.1\", \"quantile_0.25\"], \"eval_fairness_grouping\": [\"majority-minority\", \"nationality-all\"], \"exclude_features\": \"age\", \"exclude_subgroups\": \"drop-non-german\", \"model\": \"penalized_logreg\", \"scale\": \"scale\", \"training_size\": \"1k\", \"training_year\": \"2010_14\"}",
    "universe_id": "a690f2fbfd593544182318486310c850"
   },
   "start_time": "2025-08-05T16:33:42.925160",
   "version": "2.6.0"
  }
 },
 "nbformat": 4,
 "nbformat_minor": 5
}