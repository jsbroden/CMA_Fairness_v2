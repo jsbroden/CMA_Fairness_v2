{
 "cells": [
  {
   "cell_type": "code",
   "execution_count": 1,
   "id": "f159f837-637b-42ba-96b5-ec9a68c44524",
   "metadata": {
    "execution": {
     "iopub.execute_input": "2025-08-05T14:58:27.512211Z",
     "iopub.status.busy": "2025-08-05T14:58:27.511694Z",
     "iopub.status.idle": "2025-08-05T14:58:27.522755Z",
     "shell.execute_reply": "2025-08-05T14:58:27.521900Z"
    },
    "papermill": {
     "duration": 0.02312,
     "end_time": "2025-08-05T14:58:27.524303",
     "exception": false,
     "start_time": "2025-08-05T14:58:27.501183",
     "status": "completed"
    },
    "tags": []
   },
   "outputs": [
    {
     "name": "stdout",
     "output_type": "stream",
     "text": [
      "/dss/dsshome1/0C/ra93lal2/cma/CMA_Fairness_v2\n"
     ]
    },
    {
     "name": "stderr",
     "output_type": "stream",
     "text": [
      "/dss/dsshome1/0C/ra93lal2/.local/share/virtualenvs/CMA_Fairness_v2-3j10GkSs/lib/python3.10/site-packages/IPython/core/magics/osm.py:393: UserWarning: This is now an optional IPython functionality, using bookmarks requires you to install the `pickleshare` library.\n",
      "  bkms = self.shell.db.get('bookmarks', {})\n",
      "/dss/dsshome1/0C/ra93lal2/.local/share/virtualenvs/CMA_Fairness_v2-3j10GkSs/lib/python3.10/site-packages/IPython/core/magics/osm.py:417: UserWarning: This is now an optional IPython functionality, setting dhist requires you to install the `pickleshare` library.\n",
      "  self.shell.db['dhist'] = compress_dhist(dhist)[-100:]\n"
     ]
    }
   ],
   "source": [
    "%cd ~/cma/CMA_Fairness_v2"
   ]
  },
  {
   "cell_type": "markdown",
   "id": "de2603b9",
   "metadata": {
    "papermill": {
     "duration": 0.008208,
     "end_time": "2025-08-05T14:58:27.542224",
     "exception": false,
     "start_time": "2025-08-05T14:58:27.534016",
     "status": "completed"
    },
    "tags": []
   },
   "source": [
    "The following cell holds the definition of our parameters, these values can be overriden by rendering the with e.g. the following command:\n",
    "\n",
    "papermill -p alpha 0.2 -p ratio 0.3 universe_analysis.ipynb output/test_run.ipynb"
   ]
  },
  {
   "cell_type": "code",
   "execution_count": 2,
   "id": "a80968a0-40bb-4fa9-85ef-2d5eefb01975",
   "metadata": {
    "execution": {
     "iopub.execute_input": "2025-08-05T14:58:27.559943Z",
     "iopub.status.busy": "2025-08-05T14:58:27.559416Z",
     "iopub.status.idle": "2025-08-05T14:58:27.564148Z",
     "shell.execute_reply": "2025-08-05T14:58:27.562992Z"
    },
    "papermill": {
     "duration": 0.01553,
     "end_time": "2025-08-05T14:58:27.565962",
     "exception": false,
     "start_time": "2025-08-05T14:58:27.550432",
     "status": "completed"
    },
    "tags": []
   },
   "outputs": [
    {
     "name": "stdout",
     "output_type": "stream",
     "text": [
      "Current working directory: /dss/dsshome1/0C/ra93lal2/cma/CMA_Fairness_v2\n"
     ]
    }
   ],
   "source": [
    "import os\n",
    "print(\"Current working directory:\", os.getcwd())"
   ]
  },
  {
   "cell_type": "code",
   "execution_count": 3,
   "id": "2dce4c03",
   "metadata": {
    "execution": {
     "iopub.execute_input": "2025-08-05T14:58:27.584866Z",
     "iopub.status.busy": "2025-08-05T14:58:27.584338Z",
     "iopub.status.idle": "2025-08-05T14:58:27.589369Z",
     "shell.execute_reply": "2025-08-05T14:58:27.588507Z"
    },
    "papermill": {
     "duration": 0.015689,
     "end_time": "2025-08-05T14:58:27.590913",
     "exception": false,
     "start_time": "2025-08-05T14:58:27.575224",
     "status": "completed"
    },
    "tags": [
     "parameters"
    ]
   },
   "outputs": [],
   "source": [
    "run_no = 0\n",
    "universe_id = \"test\"\n",
    "universe = {\n",
    "    \"training_size\": \"25k\", # \"25k\", \"5k\", \"1k\"\n",
    "    \"training_year\": \"2014\", # \"2014\", \"2012_14\", \"2010_14\"\n",
    "    \"scale\": \"scale\", # \"scale\", \"do-not-scale\",\n",
    "    \"model\": \"elasticnet\", # \"logreg\", \"penalized_logreg\", \"rf\", \"gbm\", \"elasticnet\"\n",
    "    \"cutoff\": [\"quantile_0.15\", \"quantile_0.30\"],\n",
    "    \"exclude_features\": \"age\", # \"none\", \"nationality\", \"sex\", \"nationality-sex\", \"age\"\n",
    "    \"exclude_subgroups\": \"keep-all\", # \"keep-all\", \"drop-non-german\"\n",
    "    \"eval_fairness_grouping\": [\"majority-minority\", \"nationality-all\"]\n",
    "}\n",
    "\n",
    "output_dir=\"./output\"\n",
    "seed=0"
   ]
  },
  {
   "cell_type": "code",
   "execution_count": 4,
   "id": "65039469",
   "metadata": {
    "execution": {
     "iopub.execute_input": "2025-08-05T14:58:27.609703Z",
     "iopub.status.busy": "2025-08-05T14:58:27.609054Z",
     "iopub.status.idle": "2025-08-05T14:58:27.613692Z",
     "shell.execute_reply": "2025-08-05T14:58:27.612870Z"
    },
    "papermill": {
     "duration": 0.015223,
     "end_time": "2025-08-05T14:58:27.615279",
     "exception": false,
     "start_time": "2025-08-05T14:58:27.600056",
     "status": "completed"
    },
    "tags": [
     "injected-parameters"
    ]
   },
   "outputs": [],
   "source": [
    "# Parameters\n",
    "universe_id = \"d5bd755f840af4a8dd001d7750391279\"\n",
    "run_no = \"15\"\n",
    "universe = \"{\\\"cutoff\\\": [\\\"quantile_0.1\\\", \\\"quantile_0.25\\\"], \\\"eval_fairness_grouping\\\": [\\\"majority-minority\\\", \\\"nationality-all\\\"], \\\"exclude_features\\\": \\\"none\\\", \\\"exclude_subgroups\\\": \\\"keep-all\\\", \\\"model\\\": \\\"rf\\\", \\\"scale\\\": \\\"do-not-scale\\\", \\\"training_size\\\": \\\"25k\\\", \\\"training_year\\\": \\\"2012_14\\\"}\"\n",
    "output_dir = \"output\"\n",
    "seed = \"2023\"\n"
   ]
  },
  {
   "cell_type": "code",
   "execution_count": 5,
   "id": "1650acaf",
   "metadata": {
    "execution": {
     "iopub.execute_input": "2025-08-05T14:58:27.634764Z",
     "iopub.status.busy": "2025-08-05T14:58:27.634143Z",
     "iopub.status.idle": "2025-08-05T14:58:27.638565Z",
     "shell.execute_reply": "2025-08-05T14:58:27.637776Z"
    },
    "papermill": {
     "duration": 0.015538,
     "end_time": "2025-08-05T14:58:27.640221",
     "exception": false,
     "start_time": "2025-08-05T14:58:27.624683",
     "status": "completed"
    },
    "tags": []
   },
   "outputs": [],
   "source": [
    "import json\n",
    "if isinstance(universe, str):\n",
    "    universe = json.loads(universe)"
   ]
  },
  {
   "cell_type": "code",
   "execution_count": 6,
   "id": "16620c48",
   "metadata": {
    "execution": {
     "iopub.execute_input": "2025-08-05T14:58:27.659404Z",
     "iopub.status.busy": "2025-08-05T14:58:27.658790Z",
     "iopub.status.idle": "2025-08-05T14:58:27.688317Z",
     "shell.execute_reply": "2025-08-05T14:58:27.687605Z"
    },
    "papermill": {
     "duration": 0.040133,
     "end_time": "2025-08-05T14:58:27.689680",
     "exception": false,
     "start_time": "2025-08-05T14:58:27.649547",
     "status": "completed"
    },
    "tags": []
   },
   "outputs": [],
   "source": [
    "# Auto-reload the custom package\n",
    "%load_ext autoreload\n",
    "%autoreload 1\n",
    "%aimport fairness_multiverse"
   ]
  },
  {
   "cell_type": "code",
   "execution_count": 7,
   "id": "01c5c9f3",
   "metadata": {
    "execution": {
     "iopub.execute_input": "2025-08-05T14:58:27.708410Z",
     "iopub.status.busy": "2025-08-05T14:58:27.708119Z",
     "iopub.status.idle": "2025-08-05T14:58:29.422127Z",
     "shell.execute_reply": "2025-08-05T14:58:29.420885Z"
    },
    "papermill": {
     "duration": 1.725372,
     "end_time": "2025-08-05T14:58:29.424123",
     "exception": false,
     "start_time": "2025-08-05T14:58:27.698751",
     "status": "completed"
    },
    "tags": []
   },
   "outputs": [],
   "source": [
    "from fairness_multiverse.universe import UniverseAnalysis\n",
    "\n",
    "universe_analysis = UniverseAnalysis(\n",
    "    run_no = run_no,\n",
    "    universe_id = universe_id,\n",
    "    universe = universe,\n",
    "    output_dir=output_dir,\n",
    ")"
   ]
  },
  {
   "cell_type": "code",
   "execution_count": 8,
   "id": "106241f5",
   "metadata": {
    "execution": {
     "iopub.execute_input": "2025-08-05T14:58:29.459391Z",
     "iopub.status.busy": "2025-08-05T14:58:29.458836Z",
     "iopub.status.idle": "2025-08-05T14:58:29.466781Z",
     "shell.execute_reply": "2025-08-05T14:58:29.465411Z"
    },
    "papermill": {
     "duration": 0.027512,
     "end_time": "2025-08-05T14:58:29.468665",
     "exception": false,
     "start_time": "2025-08-05T14:58:29.441153",
     "status": "completed"
    },
    "tags": []
   },
   "outputs": [
    {
     "name": "stdout",
     "output_type": "stream",
     "text": [
      "Using Seed: 2023\n"
     ]
    }
   ],
   "source": [
    "import numpy as np\n",
    "parsed_seed = int(seed)\n",
    "np.random.seed(parsed_seed)\n",
    "print(f\"Using Seed: {parsed_seed}\")"
   ]
  },
  {
   "cell_type": "markdown",
   "id": "e0ebdc57",
   "metadata": {
    "papermill": {
     "duration": 0.016879,
     "end_time": "2025-08-05T14:58:29.503548",
     "exception": false,
     "start_time": "2025-08-05T14:58:29.486669",
     "status": "completed"
    },
    "tags": []
   },
   "source": [
    "# Loading Data"
   ]
  },
  {
   "cell_type": "code",
   "execution_count": 9,
   "id": "f0496b8a",
   "metadata": {
    "execution": {
     "iopub.execute_input": "2025-08-05T14:58:29.538883Z",
     "iopub.status.busy": "2025-08-05T14:58:29.537992Z",
     "iopub.status.idle": "2025-08-05T14:58:41.983407Z",
     "shell.execute_reply": "2025-08-05T14:58:41.982098Z"
    },
    "papermill": {
     "duration": 12.46556,
     "end_time": "2025-08-05T14:58:41.985168",
     "exception": false,
     "start_time": "2025-08-05T14:58:29.519608",
     "status": "completed"
    },
    "tags": []
   },
   "outputs": [
    {
     "name": "stdout",
     "output_type": "stream",
     "text": [
      "Loading SIAB data from cache: data/siab_cached.csv.gz\n"
     ]
    },
    {
     "name": "stdout",
     "output_type": "stream",
     "text": [
      "(643690, 164)\n"
     ]
    }
   ],
   "source": [
    "from pathlib import Path\n",
    "import pandas as pd\n",
    "\n",
    "# File paths\n",
    "raw_file = Path(\"data/raw/siab.csv\")\n",
    "cache_file = Path(\"data/siab_cached.csv.gz\")\n",
    "\n",
    "# Ensure cache directory exists\n",
    "cache_file.parent.mkdir(parents=True, exist_ok=True)\n",
    "\n",
    "# Load with simple caching\n",
    "if cache_file.exists():\n",
    "    print(f\"Loading SIAB data from cache: {cache_file}\")\n",
    "    siab = pd.read_csv(cache_file, compression='gzip')\n",
    "else:\n",
    "    print(f\"Cache not found. Reading raw SIAB data: {raw_file}\")\n",
    "    siab = pd.read_csv(raw_file)\n",
    "    siab.to_csv(cache_file, index=False, compression='gzip')\n",
    "    print(f\"Cached SIAB data to: {cache_file}\")\n",
    "\n",
    "print(siab.shape)"
   ]
  },
  {
   "cell_type": "code",
   "execution_count": 10,
   "id": "db0ca512-5f53-4dba-abdb-a2888bca41ba",
   "metadata": {
    "execution": {
     "iopub.execute_input": "2025-08-05T14:58:42.025269Z",
     "iopub.status.busy": "2025-08-05T14:58:42.024809Z",
     "iopub.status.idle": "2025-08-05T14:58:42.030637Z",
     "shell.execute_reply": "2025-08-05T14:58:42.029555Z"
    },
    "papermill": {
     "duration": 0.026331,
     "end_time": "2025-08-05T14:58:42.032570",
     "exception": false,
     "start_time": "2025-08-05T14:58:42.006239",
     "status": "completed"
    },
    "tags": []
   },
   "outputs": [],
   "source": [
    "#siab"
   ]
  },
  {
   "cell_type": "markdown",
   "id": "997051c5-15bd-4b69-9786-c3001a3ce484",
   "metadata": {
    "papermill": {
     "duration": 0.01458,
     "end_time": "2025-08-05T14:58:42.065343",
     "exception": false,
     "start_time": "2025-08-05T14:58:42.050763",
     "status": "completed"
    },
    "tags": []
   },
   "source": [
    "# Splitting Data and Setting Training Data Size"
   ]
  },
  {
   "cell_type": "code",
   "execution_count": 11,
   "id": "aea9c6ef-6f46-42c8-85eb-5a62025c1508",
   "metadata": {
    "execution": {
     "iopub.execute_input": "2025-08-05T14:58:42.102780Z",
     "iopub.status.busy": "2025-08-05T14:58:42.101974Z",
     "iopub.status.idle": "2025-08-05T14:58:42.785198Z",
     "shell.execute_reply": "2025-08-05T14:58:42.784124Z"
    },
    "papermill": {
     "duration": 0.703717,
     "end_time": "2025-08-05T14:58:42.786893",
     "exception": false,
     "start_time": "2025-08-05T14:58:42.083176",
     "status": "completed"
    },
    "tags": []
   },
   "outputs": [],
   "source": [
    "from fairness_multiverse.universe import sample_by_year_size\n",
    "\n",
    "siab_train = sample_by_year_size(siab,\n",
    "                               training_year=universe[\"training_year\"],\n",
    "                               training_size=universe[\"training_size\"])"
   ]
  },
  {
   "cell_type": "code",
   "execution_count": 12,
   "id": "8d3afb32-789d-442c-8d5d-9f5aa8dd2eed",
   "metadata": {
    "execution": {
     "iopub.execute_input": "2025-08-05T14:58:42.822417Z",
     "iopub.status.busy": "2025-08-05T14:58:42.822015Z",
     "iopub.status.idle": "2025-08-05T14:58:42.827111Z",
     "shell.execute_reply": "2025-08-05T14:58:42.826075Z"
    },
    "papermill": {
     "duration": 0.025485,
     "end_time": "2025-08-05T14:58:42.828507",
     "exception": false,
     "start_time": "2025-08-05T14:58:42.803022",
     "status": "completed"
    },
    "tags": []
   },
   "outputs": [],
   "source": [
    "#siab_train.shape"
   ]
  },
  {
   "cell_type": "code",
   "execution_count": 13,
   "id": "d582db68-1a4c-47fb-84fc-08518dc1975a",
   "metadata": {
    "execution": {
     "iopub.execute_input": "2025-08-05T14:58:42.849458Z",
     "iopub.status.busy": "2025-08-05T14:58:42.848834Z",
     "iopub.status.idle": "2025-08-05T14:58:42.857799Z",
     "shell.execute_reply": "2025-08-05T14:58:42.857033Z"
    },
    "papermill": {
     "duration": 0.021243,
     "end_time": "2025-08-05T14:58:42.859392",
     "exception": false,
     "start_time": "2025-08-05T14:58:42.838149",
     "status": "completed"
    },
    "tags": []
   },
   "outputs": [],
   "source": [
    "#display(siab_train.groupby(\"year\").size())"
   ]
  },
  {
   "cell_type": "code",
   "execution_count": 14,
   "id": "a561edb4-d032-42cb-8256-22eac1111c64",
   "metadata": {
    "execution": {
     "iopub.execute_input": "2025-08-05T14:58:42.885594Z",
     "iopub.status.busy": "2025-08-05T14:58:42.884573Z",
     "iopub.status.idle": "2025-08-05T14:58:43.075808Z",
     "shell.execute_reply": "2025-08-05T14:58:43.075032Z"
    },
    "papermill": {
     "duration": 0.207923,
     "end_time": "2025-08-05T14:58:43.077225",
     "exception": false,
     "start_time": "2025-08-05T14:58:42.869302",
     "status": "completed"
    },
    "tags": []
   },
   "outputs": [],
   "source": [
    "#siab_train = siab_s[siab_s.year < 2015]\n",
    "siab_calib = siab[siab.year == 2015]\n",
    "siab_test = siab[siab.year == 2016]"
   ]
  },
  {
   "cell_type": "code",
   "execution_count": 15,
   "id": "472de16f-c3db-4916-846b-1f0de9cf1746",
   "metadata": {
    "execution": {
     "iopub.execute_input": "2025-08-05T14:58:43.097160Z",
     "iopub.status.busy": "2025-08-05T14:58:43.096804Z",
     "iopub.status.idle": "2025-08-05T14:58:43.110423Z",
     "shell.execute_reply": "2025-08-05T14:58:43.109457Z"
    },
    "papermill": {
     "duration": 0.02513,
     "end_time": "2025-08-05T14:58:43.112021",
     "exception": false,
     "start_time": "2025-08-05T14:58:43.086891",
     "status": "completed"
    },
    "tags": []
   },
   "outputs": [],
   "source": [
    "X_train = siab_train.iloc[:,4:164]\n",
    "y_train = siab_train.iloc[:, [3]]"
   ]
  },
  {
   "cell_type": "code",
   "execution_count": 16,
   "id": "828c96af-f43a-4ed6-ba47-8ac73a47d56c",
   "metadata": {
    "execution": {
     "iopub.execute_input": "2025-08-05T14:58:43.132688Z",
     "iopub.status.busy": "2025-08-05T14:58:43.132181Z",
     "iopub.status.idle": "2025-08-05T14:58:43.179281Z",
     "shell.execute_reply": "2025-08-05T14:58:43.178385Z"
    },
    "papermill": {
     "duration": 0.058433,
     "end_time": "2025-08-05T14:58:43.180803",
     "exception": false,
     "start_time": "2025-08-05T14:58:43.122370",
     "status": "completed"
    },
    "tags": []
   },
   "outputs": [],
   "source": [
    "X_calib = siab_calib.iloc[:,4:164]\n",
    "y_calib = siab_calib.iloc[:, [3]]"
   ]
  },
  {
   "cell_type": "code",
   "execution_count": 17,
   "id": "c34be9c3-6bd6-476e-acd3-845840e303be",
   "metadata": {
    "execution": {
     "iopub.execute_input": "2025-08-05T14:58:43.202134Z",
     "iopub.status.busy": "2025-08-05T14:58:43.201748Z",
     "iopub.status.idle": "2025-08-05T14:58:43.252485Z",
     "shell.execute_reply": "2025-08-05T14:58:43.251440Z"
    },
    "papermill": {
     "duration": 0.06236,
     "end_time": "2025-08-05T14:58:43.254218",
     "exception": false,
     "start_time": "2025-08-05T14:58:43.191858",
     "status": "completed"
    },
    "tags": []
   },
   "outputs": [],
   "source": [
    "X_test = siab_test.iloc[:,4:164]\n",
    "y_true = siab_test.iloc[:, [3]]"
   ]
  },
  {
   "cell_type": "code",
   "execution_count": 18,
   "id": "e6c733c5",
   "metadata": {
    "execution": {
     "iopub.execute_input": "2025-08-05T14:58:43.275552Z",
     "iopub.status.busy": "2025-08-05T14:58:43.275200Z",
     "iopub.status.idle": "2025-08-05T14:58:43.385577Z",
     "shell.execute_reply": "2025-08-05T14:58:43.384601Z"
    },
    "papermill": {
     "duration": 0.122714,
     "end_time": "2025-08-05T14:58:43.387676",
     "exception": false,
     "start_time": "2025-08-05T14:58:43.264962",
     "status": "completed"
    },
    "tags": []
   },
   "outputs": [],
   "source": [
    "# Auxiliary data needed downstream in the pipeline\n",
    "\n",
    "org_train = X_train.copy()\n",
    "org_test = X_test.copy()\n",
    "org_calib = X_calib.copy()"
   ]
  },
  {
   "cell_type": "markdown",
   "id": "0a4a1b33",
   "metadata": {
    "papermill": {
     "duration": 0.019237,
     "end_time": "2025-08-05T14:58:43.427092",
     "exception": false,
     "start_time": "2025-08-05T14:58:43.407855",
     "status": "completed"
    },
    "tags": []
   },
   "source": [
    "# Preprocessing Data"
   ]
  },
  {
   "cell_type": "code",
   "execution_count": 19,
   "id": "ca879031",
   "metadata": {
    "execution": {
     "iopub.execute_input": "2025-08-05T14:58:43.468418Z",
     "iopub.status.busy": "2025-08-05T14:58:43.467702Z",
     "iopub.status.idle": "2025-08-05T14:58:43.474009Z",
     "shell.execute_reply": "2025-08-05T14:58:43.472944Z"
    },
    "papermill": {
     "duration": 0.029286,
     "end_time": "2025-08-05T14:58:43.475978",
     "exception": false,
     "start_time": "2025-08-05T14:58:43.446692",
     "status": "completed"
    },
    "tags": []
   },
   "outputs": [],
   "source": [
    "# EXCLUDE PROTECTED FEATURES\n",
    "# ----------------------\n",
    "# \"exclude_features\": \"none\", # \"nationality\", \"sex\", \"nationality-sex\"\n",
    "\n",
    "excluded_features = universe[\"exclude_features\"].split(\"-\") # split, e.g.: \"nationality-sex\" -> [\"nationality\", \"sex\"]\n",
    "excluded_features_dictionary = {\n",
    "    \"nationality\": [\"maxdeutsch1\", \"maxdeutsch.Missing.\"],\n",
    "    \"sex\": [\"frau1\"],\n",
    "    \"age\": [\"age\"],\n",
    "}"
   ]
  },
  {
   "cell_type": "code",
   "execution_count": 20,
   "id": "b745ac60",
   "metadata": {
    "execution": {
     "iopub.execute_input": "2025-08-05T14:58:43.517237Z",
     "iopub.status.busy": "2025-08-05T14:58:43.516763Z",
     "iopub.status.idle": "2025-08-05T14:58:43.523111Z",
     "shell.execute_reply": "2025-08-05T14:58:43.522072Z"
    },
    "papermill": {
     "duration": 0.028881,
     "end_time": "2025-08-05T14:58:43.525066",
     "exception": false,
     "start_time": "2025-08-05T14:58:43.496185",
     "status": "completed"
    },
    "tags": []
   },
   "outputs": [],
   "source": [
    "# Code nice names to column names\n",
    "\n",
    "excluded_features_columns = [\n",
    "    excluded_features_dictionary[f] for f in excluded_features if len(f) > 0 and f != \"none\"\n",
    "]"
   ]
  },
  {
   "cell_type": "code",
   "execution_count": 21,
   "id": "f84f73a2",
   "metadata": {
    "execution": {
     "iopub.execute_input": "2025-08-05T14:58:43.567138Z",
     "iopub.status.busy": "2025-08-05T14:58:43.566451Z",
     "iopub.status.idle": "2025-08-05T14:58:43.573649Z",
     "shell.execute_reply": "2025-08-05T14:58:43.572453Z"
    },
    "papermill": {
     "duration": 0.029736,
     "end_time": "2025-08-05T14:58:43.575540",
     "exception": false,
     "start_time": "2025-08-05T14:58:43.545804",
     "status": "completed"
    },
    "tags": []
   },
   "outputs": [],
   "source": [
    "from utils import flatten_once\n",
    "\n",
    "excluded_features_columns = flatten_once(excluded_features_columns)"
   ]
  },
  {
   "cell_type": "code",
   "execution_count": 22,
   "id": "884dea22",
   "metadata": {
    "execution": {
     "iopub.execute_input": "2025-08-05T14:58:43.617280Z",
     "iopub.status.busy": "2025-08-05T14:58:43.616612Z",
     "iopub.status.idle": "2025-08-05T14:58:43.622556Z",
     "shell.execute_reply": "2025-08-05T14:58:43.621542Z"
    },
    "papermill": {
     "duration": 0.028512,
     "end_time": "2025-08-05T14:58:43.624434",
     "exception": false,
     "start_time": "2025-08-05T14:58:43.595922",
     "status": "completed"
    },
    "tags": []
   },
   "outputs": [],
   "source": [
    "if len(excluded_features_columns) > 0:\n",
    "    print(f\"Dropping features: {excluded_features_columns}\")\n",
    "    X_train.drop(excluded_features_columns, axis=1, inplace=True)"
   ]
  },
  {
   "cell_type": "code",
   "execution_count": 23,
   "id": "95ab8b16",
   "metadata": {
    "execution": {
     "iopub.execute_input": "2025-08-05T14:58:43.666577Z",
     "iopub.status.busy": "2025-08-05T14:58:43.665874Z",
     "iopub.status.idle": "2025-08-05T14:58:43.671933Z",
     "shell.execute_reply": "2025-08-05T14:58:43.670886Z"
    },
    "papermill": {
     "duration": 0.028767,
     "end_time": "2025-08-05T14:58:43.673927",
     "exception": false,
     "start_time": "2025-08-05T14:58:43.645160",
     "status": "completed"
    },
    "tags": []
   },
   "outputs": [],
   "source": [
    "if len(excluded_features_columns) > 0:\n",
    "    print(f\"Dropping features: {excluded_features_columns}\")\n",
    "    X_test.drop(excluded_features_columns, axis=1, inplace=True)"
   ]
  },
  {
   "cell_type": "code",
   "execution_count": 24,
   "id": "1853aaf5-fb9f-46cb-a2b5-8ea4ae2237e4",
   "metadata": {
    "execution": {
     "iopub.execute_input": "2025-08-05T14:58:43.716057Z",
     "iopub.status.busy": "2025-08-05T14:58:43.715418Z",
     "iopub.status.idle": "2025-08-05T14:58:43.721907Z",
     "shell.execute_reply": "2025-08-05T14:58:43.720797Z"
    },
    "papermill": {
     "duration": 0.029465,
     "end_time": "2025-08-05T14:58:43.723914",
     "exception": false,
     "start_time": "2025-08-05T14:58:43.694449",
     "status": "completed"
    },
    "tags": []
   },
   "outputs": [],
   "source": [
    "if len(excluded_features_columns) > 0:\n",
    "    print(f\"Dropping features: {excluded_features_columns}\")\n",
    "    X_calib.drop(excluded_features_columns, axis=1, inplace=True)"
   ]
  },
  {
   "cell_type": "code",
   "execution_count": 25,
   "id": "76c4dc6d",
   "metadata": {
    "execution": {
     "iopub.execute_input": "2025-08-05T14:58:43.769071Z",
     "iopub.status.busy": "2025-08-05T14:58:43.768156Z",
     "iopub.status.idle": "2025-08-05T14:58:43.774182Z",
     "shell.execute_reply": "2025-08-05T14:58:43.773119Z"
    },
    "papermill": {
     "duration": 0.031331,
     "end_time": "2025-08-05T14:58:43.776188",
     "exception": false,
     "start_time": "2025-08-05T14:58:43.744857",
     "status": "completed"
    },
    "tags": []
   },
   "outputs": [],
   "source": [
    "# EXCLUDE CERTAIN SUBGROUPS\n",
    "# ----------------------\n",
    "\n",
    "mode = universe.get(\"exclude_subgroups\", \"keep-all\") \n",
    "# Fetches the exclude_subgroups setting from the universe dict.\n",
    "# Defaults to \"keep-all\" if the key is missing."
   ]
  },
  {
   "cell_type": "code",
   "execution_count": 26,
   "id": "21994072",
   "metadata": {
    "execution": {
     "iopub.execute_input": "2025-08-05T14:58:43.819553Z",
     "iopub.status.busy": "2025-08-05T14:58:43.818593Z",
     "iopub.status.idle": "2025-08-05T14:58:43.825972Z",
     "shell.execute_reply": "2025-08-05T14:58:43.824800Z"
    },
    "papermill": {
     "duration": 0.030459,
     "end_time": "2025-08-05T14:58:43.828032",
     "exception": false,
     "start_time": "2025-08-05T14:58:43.797573",
     "status": "completed"
    },
    "tags": []
   },
   "outputs": [],
   "source": [
    "if mode == \"keep-all\":\n",
    "    keep_mask = pd.Series(True, index=org_train.index)\n",
    "\n",
    "# org_train contains the original feature columns from features_org (in Simson)\n",
    "# features_org contains unprocessed features, for me X_train at beginning ???\n",
    "# For keep-all, creates a boolean Series (keep_mask) of all True, so no rows are removed.\n",
    "\n",
    "elif mode == \"drop-non-german\":\n",
    "    keep_mask = org_train[\"maxdeutsch1\"] == 1 # ??? what about missing values?\n",
    "\n",
    "else:\n",
    "    raise ValueError(f\"Unsupported mode for exclude_subgroups: {mode}\")"
   ]
  },
  {
   "cell_type": "code",
   "execution_count": 27,
   "id": "71651440",
   "metadata": {
    "execution": {
     "iopub.execute_input": "2025-08-05T14:58:43.870826Z",
     "iopub.status.busy": "2025-08-05T14:58:43.869824Z",
     "iopub.status.idle": "2025-08-05T14:58:43.877390Z",
     "shell.execute_reply": "2025-08-05T14:58:43.876194Z"
    },
    "papermill": {
     "duration": 0.030529,
     "end_time": "2025-08-05T14:58:43.879363",
     "exception": false,
     "start_time": "2025-08-05T14:58:43.848834",
     "status": "completed"
    },
    "tags": []
   },
   "outputs": [],
   "source": [
    "n_drop = (~keep_mask).sum() # Calculates how many rows are set to be dropped\n",
    "if n_drop > 0:\n",
    "    pct = n_drop / len(keep_mask) * 100\n",
    "    print(f\"Dropping {n_drop} rows ({pct:.2f}%) where mode='{mode}'\")"
   ]
  },
  {
   "cell_type": "code",
   "execution_count": 28,
   "id": "5fb8eee5",
   "metadata": {
    "execution": {
     "iopub.execute_input": "2025-08-05T14:58:43.922199Z",
     "iopub.status.busy": "2025-08-05T14:58:43.921289Z",
     "iopub.status.idle": "2025-08-05T14:58:43.937195Z",
     "shell.execute_reply": "2025-08-05T14:58:43.936022Z"
    },
    "papermill": {
     "duration": 0.039229,
     "end_time": "2025-08-05T14:58:43.939312",
     "exception": false,
     "start_time": "2025-08-05T14:58:43.900083",
     "status": "completed"
    },
    "tags": []
   },
   "outputs": [],
   "source": [
    "X_train = X_train[keep_mask]"
   ]
  },
  {
   "cell_type": "code",
   "execution_count": 29,
   "id": "b202bb3a",
   "metadata": {
    "execution": {
     "iopub.execute_input": "2025-08-05T14:58:43.982164Z",
     "iopub.status.busy": "2025-08-05T14:58:43.981490Z",
     "iopub.status.idle": "2025-08-05T14:58:43.988927Z",
     "shell.execute_reply": "2025-08-05T14:58:43.987644Z"
    },
    "papermill": {
     "duration": 0.03052,
     "end_time": "2025-08-05T14:58:43.990913",
     "exception": false,
     "start_time": "2025-08-05T14:58:43.960393",
     "status": "completed"
    },
    "tags": []
   },
   "outputs": [],
   "source": [
    "y_train = y_train[keep_mask]"
   ]
  },
  {
   "cell_type": "markdown",
   "id": "493e2ac3",
   "metadata": {
    "papermill": {
     "duration": 0.019854,
     "end_time": "2025-08-05T14:58:44.031703",
     "exception": false,
     "start_time": "2025-08-05T14:58:44.011849",
     "status": "completed"
    },
    "tags": []
   },
   "source": [
    "# Model Training"
   ]
  },
  {
   "cell_type": "code",
   "execution_count": 30,
   "id": "679e1268",
   "metadata": {
    "execution": {
     "iopub.execute_input": "2025-08-05T14:58:44.074022Z",
     "iopub.status.busy": "2025-08-05T14:58:44.072997Z",
     "iopub.status.idle": "2025-08-05T14:58:44.176330Z",
     "shell.execute_reply": "2025-08-05T14:58:44.175314Z"
    },
    "papermill": {
     "duration": 0.126724,
     "end_time": "2025-08-05T14:58:44.178415",
     "exception": false,
     "start_time": "2025-08-05T14:58:44.051691",
     "status": "completed"
    },
    "tags": []
   },
   "outputs": [],
   "source": [
    "from sklearn.linear_model import LogisticRegression\n",
    "from sklearn.ensemble import GradientBoostingClassifier, RandomForestClassifier\n",
    "\n",
    "if (universe[\"model\"] == \"logreg\"):\n",
    "    model = LogisticRegression() #penalty=\"none\", solver=\"newton-cg\", max_iter=1) # include random_state=19 ?\n",
    "elif (universe[\"model\"] == \"penalized_logreg\"):\n",
    "    model = LogisticRegression(penalty=\"l2\", C=0.1) #, solver=\"newton-cg\", max_iter=1)\n",
    "elif (universe[\"model\"] == \"rf\"):\n",
    "    model = RandomForestClassifier() # n_estimators=100, n_jobs=-1\n",
    "elif (universe[\"model\"] == \"gbm\"):\n",
    "    model = GradientBoostingClassifier()\n",
    "elif (universe[\"model\"] == \"elasticnet\"):\n",
    "    model = LogisticRegression(penalty = 'elasticnet', solver = 'saga', l1_ratio = 0.5) # max_iter=5000\n",
    "else:\n",
    "    raise \"Unsupported universe.model\""
   ]
  },
  {
   "cell_type": "code",
   "execution_count": 31,
   "id": "0cc8f744",
   "metadata": {
    "execution": {
     "iopub.execute_input": "2025-08-05T14:58:44.221452Z",
     "iopub.status.busy": "2025-08-05T14:58:44.220484Z",
     "iopub.status.idle": "2025-08-05T14:58:44.227355Z",
     "shell.execute_reply": "2025-08-05T14:58:44.226273Z"
    },
    "papermill": {
     "duration": 0.030292,
     "end_time": "2025-08-05T14:58:44.229454",
     "exception": false,
     "start_time": "2025-08-05T14:58:44.199162",
     "status": "completed"
    },
    "tags": []
   },
   "outputs": [],
   "source": [
    "import numpy as np\n",
    "from sklearn.pipeline import Pipeline\n",
    "from sklearn.preprocessing import StandardScaler\n",
    "\n",
    "model = Pipeline([\n",
    "    #(\"continuous_processor\", continuous_processor),\n",
    "    #(\"categorical_preprocessor\", categorical_preprocessor),\n",
    "    (\"scale\", StandardScaler() if universe[\"scale\"] == \"scale\" else None), \n",
    "    (\"model\", model),\n",
    "])"
   ]
  },
  {
   "cell_type": "code",
   "execution_count": 32,
   "id": "9442c04d",
   "metadata": {
    "execution": {
     "iopub.execute_input": "2025-08-05T14:58:44.272956Z",
     "iopub.status.busy": "2025-08-05T14:58:44.272010Z",
     "iopub.status.idle": "2025-08-05T14:58:54.335148Z",
     "shell.execute_reply": "2025-08-05T14:58:54.334265Z"
    },
    "papermill": {
     "duration": 10.086068,
     "end_time": "2025-08-05T14:58:54.336803",
     "exception": false,
     "start_time": "2025-08-05T14:58:44.250735",
     "status": "completed"
    },
    "tags": []
   },
   "outputs": [
    {
     "data": {
      "text/html": [
       "<style>#sk-container-id-1 {color: black;background-color: white;}#sk-container-id-1 pre{padding: 0;}#sk-container-id-1 div.sk-toggleable {background-color: white;}#sk-container-id-1 label.sk-toggleable__label {cursor: pointer;display: block;width: 100%;margin-bottom: 0;padding: 0.3em;box-sizing: border-box;text-align: center;}#sk-container-id-1 label.sk-toggleable__label-arrow:before {content: \"▸\";float: left;margin-right: 0.25em;color: #696969;}#sk-container-id-1 label.sk-toggleable__label-arrow:hover:before {color: black;}#sk-container-id-1 div.sk-estimator:hover label.sk-toggleable__label-arrow:before {color: black;}#sk-container-id-1 div.sk-toggleable__content {max-height: 0;max-width: 0;overflow: hidden;text-align: left;background-color: #f0f8ff;}#sk-container-id-1 div.sk-toggleable__content pre {margin: 0.2em;color: black;border-radius: 0.25em;background-color: #f0f8ff;}#sk-container-id-1 input.sk-toggleable__control:checked~div.sk-toggleable__content {max-height: 200px;max-width: 100%;overflow: auto;}#sk-container-id-1 input.sk-toggleable__control:checked~label.sk-toggleable__label-arrow:before {content: \"▾\";}#sk-container-id-1 div.sk-estimator input.sk-toggleable__control:checked~label.sk-toggleable__label {background-color: #d4ebff;}#sk-container-id-1 div.sk-label input.sk-toggleable__control:checked~label.sk-toggleable__label {background-color: #d4ebff;}#sk-container-id-1 input.sk-hidden--visually {border: 0;clip: rect(1px 1px 1px 1px);clip: rect(1px, 1px, 1px, 1px);height: 1px;margin: -1px;overflow: hidden;padding: 0;position: absolute;width: 1px;}#sk-container-id-1 div.sk-estimator {font-family: monospace;background-color: #f0f8ff;border: 1px dotted black;border-radius: 0.25em;box-sizing: border-box;margin-bottom: 0.5em;}#sk-container-id-1 div.sk-estimator:hover {background-color: #d4ebff;}#sk-container-id-1 div.sk-parallel-item::after {content: \"\";width: 100%;border-bottom: 1px solid gray;flex-grow: 1;}#sk-container-id-1 div.sk-label:hover label.sk-toggleable__label {background-color: #d4ebff;}#sk-container-id-1 div.sk-serial::before {content: \"\";position: absolute;border-left: 1px solid gray;box-sizing: border-box;top: 0;bottom: 0;left: 50%;z-index: 0;}#sk-container-id-1 div.sk-serial {display: flex;flex-direction: column;align-items: center;background-color: white;padding-right: 0.2em;padding-left: 0.2em;position: relative;}#sk-container-id-1 div.sk-item {position: relative;z-index: 1;}#sk-container-id-1 div.sk-parallel {display: flex;align-items: stretch;justify-content: center;background-color: white;position: relative;}#sk-container-id-1 div.sk-item::before, #sk-container-id-1 div.sk-parallel-item::before {content: \"\";position: absolute;border-left: 1px solid gray;box-sizing: border-box;top: 0;bottom: 0;left: 50%;z-index: -1;}#sk-container-id-1 div.sk-parallel-item {display: flex;flex-direction: column;z-index: 1;position: relative;background-color: white;}#sk-container-id-1 div.sk-parallel-item:first-child::after {align-self: flex-end;width: 50%;}#sk-container-id-1 div.sk-parallel-item:last-child::after {align-self: flex-start;width: 50%;}#sk-container-id-1 div.sk-parallel-item:only-child::after {width: 0;}#sk-container-id-1 div.sk-dashed-wrapped {border: 1px dashed gray;margin: 0 0.4em 0.5em 0.4em;box-sizing: border-box;padding-bottom: 0.4em;background-color: white;}#sk-container-id-1 div.sk-label label {font-family: monospace;font-weight: bold;display: inline-block;line-height: 1.2em;}#sk-container-id-1 div.sk-label-container {text-align: center;}#sk-container-id-1 div.sk-container {/* jupyter's `normalize.less` sets `[hidden] { display: none; }` but bootstrap.min.css set `[hidden] { display: none !important; }` so we also need the `!important` here to be able to override the default hidden behavior on the sphinx rendered scikit-learn.org. See: https://github.com/scikit-learn/scikit-learn/issues/21755 */display: inline-block !important;position: relative;}#sk-container-id-1 div.sk-text-repr-fallback {display: none;}</style><div id=\"sk-container-id-1\" class=\"sk-top-container\"><div class=\"sk-text-repr-fallback\"><pre>Pipeline(steps=[(&#x27;scale&#x27;, None), (&#x27;model&#x27;, RandomForestClassifier())])</pre><b>In a Jupyter environment, please rerun this cell to show the HTML representation or trust the notebook. <br />On GitHub, the HTML representation is unable to render, please try loading this page with nbviewer.org.</b></div><div class=\"sk-container\" hidden><div class=\"sk-item sk-dashed-wrapped\"><div class=\"sk-label-container\"><div class=\"sk-label sk-toggleable\"><input class=\"sk-toggleable__control sk-hidden--visually\" id=\"sk-estimator-id-1\" type=\"checkbox\" ><label for=\"sk-estimator-id-1\" class=\"sk-toggleable__label sk-toggleable__label-arrow\">Pipeline</label><div class=\"sk-toggleable__content\"><pre>Pipeline(steps=[(&#x27;scale&#x27;, None), (&#x27;model&#x27;, RandomForestClassifier())])</pre></div></div></div><div class=\"sk-serial\"><div class=\"sk-item\"><div class=\"sk-estimator sk-toggleable\"><input class=\"sk-toggleable__control sk-hidden--visually\" id=\"sk-estimator-id-2\" type=\"checkbox\" ><label for=\"sk-estimator-id-2\" class=\"sk-toggleable__label sk-toggleable__label-arrow\">None</label><div class=\"sk-toggleable__content\"><pre>None</pre></div></div></div><div class=\"sk-item\"><div class=\"sk-estimator sk-toggleable\"><input class=\"sk-toggleable__control sk-hidden--visually\" id=\"sk-estimator-id-3\" type=\"checkbox\" ><label for=\"sk-estimator-id-3\" class=\"sk-toggleable__label sk-toggleable__label-arrow\">RandomForestClassifier</label><div class=\"sk-toggleable__content\"><pre>RandomForestClassifier()</pre></div></div></div></div></div></div></div>"
      ],
      "text/plain": [
       "Pipeline(steps=[('scale', None), ('model', RandomForestClassifier())])"
      ]
     },
     "execution_count": 32,
     "metadata": {},
     "output_type": "execute_result"
    }
   ],
   "source": [
    "model.fit(X_train, y_train.values.ravel())"
   ]
  },
  {
   "cell_type": "code",
   "execution_count": 33,
   "id": "af59f8c0",
   "metadata": {
    "execution": {
     "iopub.execute_input": "2025-08-05T14:58:54.379084Z",
     "iopub.status.busy": "2025-08-05T14:58:54.378419Z",
     "iopub.status.idle": "2025-08-05T14:58:54.383857Z",
     "shell.execute_reply": "2025-08-05T14:58:54.382924Z"
    },
    "papermill": {
     "duration": 0.026291,
     "end_time": "2025-08-05T14:58:54.385670",
     "exception": false,
     "start_time": "2025-08-05T14:58:54.359379",
     "status": "completed"
    },
    "tags": []
   },
   "outputs": [],
   "source": [
    "from fairness_multiverse.universe import predict_w_threshold"
   ]
  },
  {
   "cell_type": "code",
   "execution_count": 34,
   "id": "a7cf2e16",
   "metadata": {
    "execution": {
     "iopub.execute_input": "2025-08-05T14:58:54.422419Z",
     "iopub.status.busy": "2025-08-05T14:58:54.421590Z",
     "iopub.status.idle": "2025-08-05T14:58:57.829551Z",
     "shell.execute_reply": "2025-08-05T14:58:57.828501Z"
    },
    "papermill": {
     "duration": 3.428009,
     "end_time": "2025-08-05T14:58:57.831336",
     "exception": false,
     "start_time": "2025-08-05T14:58:54.403327",
     "status": "completed"
    },
    "tags": []
   },
   "outputs": [
    {
     "data": {
      "text/plain": [
       "0.8678408204213577"
      ]
     },
     "execution_count": 34,
     "metadata": {},
     "output_type": "execute_result"
    }
   ],
   "source": [
    "probs_test = model.predict_proba(X_test)\n",
    "\n",
    "'''\n",
    "Below code returns a boolean array (or binary 0/1 array depending on how it’s used) where each element \n",
    "is True if the probability of class 1 is greater than or equal to the threshold, and False otherwise.\n",
    "'''\n",
    "y_pred_default = predict_w_threshold(probs_test, 0.5)\n",
    "\n",
    "from sklearn.metrics import accuracy_score\n",
    "\n",
    "# Naive prediction\n",
    "accuracy_score(y_true = y_true, y_pred = y_pred_default)"
   ]
  },
  {
   "cell_type": "code",
   "execution_count": 35,
   "id": "081964c3",
   "metadata": {
    "execution": {
     "iopub.execute_input": "2025-08-05T14:58:57.874493Z",
     "iopub.status.busy": "2025-08-05T14:58:57.873978Z",
     "iopub.status.idle": "2025-08-05T14:59:00.951224Z",
     "shell.execute_reply": "2025-08-05T14:59:00.950465Z"
    },
    "papermill": {
     "duration": 3.098962,
     "end_time": "2025-08-05T14:59:00.952484",
     "exception": false,
     "start_time": "2025-08-05T14:58:57.853522",
     "status": "completed"
    },
    "tags": []
   },
   "outputs": [
    {
     "data": {
      "text/plain": [
       "array([0, 0, 0, ..., 0, 0, 0])"
      ]
     },
     "execution_count": 35,
     "metadata": {},
     "output_type": "execute_result"
    }
   ],
   "source": [
    "model.predict(X_test)"
   ]
  },
  {
   "cell_type": "markdown",
   "id": "56c9705b",
   "metadata": {
    "papermill": {
     "duration": 0.009919,
     "end_time": "2025-08-05T14:59:00.973309",
     "exception": false,
     "start_time": "2025-08-05T14:59:00.963390",
     "status": "completed"
    },
    "tags": []
   },
   "source": [
    "# Conformal Prediction"
   ]
  },
  {
   "cell_type": "code",
   "execution_count": 36,
   "id": "160ec6ff",
   "metadata": {
    "execution": {
     "iopub.execute_input": "2025-08-05T14:59:00.994613Z",
     "iopub.status.busy": "2025-08-05T14:59:00.994093Z",
     "iopub.status.idle": "2025-08-05T14:59:00.999286Z",
     "shell.execute_reply": "2025-08-05T14:59:00.998437Z"
    },
    "papermill": {
     "duration": 0.017793,
     "end_time": "2025-08-05T14:59:01.000991",
     "exception": false,
     "start_time": "2025-08-05T14:59:00.983198",
     "status": "completed"
    },
    "tags": []
   },
   "outputs": [],
   "source": [
    "# Miscoverage level for conformal prediction (10% allowed error rate => 90% target coverage)\n",
    "alpha = 0.1"
   ]
  },
  {
   "cell_type": "code",
   "execution_count": 37,
   "id": "eadf4555-3dd3-440e-8e35-f82a4ad9f855",
   "metadata": {
    "execution": {
     "iopub.execute_input": "2025-08-05T14:59:01.023508Z",
     "iopub.status.busy": "2025-08-05T14:59:01.023173Z",
     "iopub.status.idle": "2025-08-05T14:59:03.940051Z",
     "shell.execute_reply": "2025-08-05T14:59:03.938995Z"
    },
    "papermill": {
     "duration": 2.929424,
     "end_time": "2025-08-05T14:59:03.941864",
     "exception": false,
     "start_time": "2025-08-05T14:59:01.012440",
     "status": "completed"
    },
    "tags": []
   },
   "outputs": [],
   "source": [
    "probs_calib = model.predict_proba(X_calib)"
   ]
  },
  {
   "cell_type": "code",
   "execution_count": 38,
   "id": "2ed93547-6d5d-4983-9b36-1ecb300da49a",
   "metadata": {
    "execution": {
     "iopub.execute_input": "2025-08-05T14:59:03.983471Z",
     "iopub.status.busy": "2025-08-05T14:59:03.982952Z",
     "iopub.status.idle": "2025-08-05T14:59:03.988950Z",
     "shell.execute_reply": "2025-08-05T14:59:03.987887Z"
    },
    "papermill": {
     "duration": 0.02768,
     "end_time": "2025-08-05T14:59:03.990900",
     "exception": false,
     "start_time": "2025-08-05T14:59:03.963220",
     "status": "completed"
    },
    "tags": []
   },
   "outputs": [],
   "source": [
    "y_calib = y_calib.values.ravel().astype(int)"
   ]
  },
  {
   "cell_type": "code",
   "execution_count": 39,
   "id": "65d1320d-f588-4b38-9072-62af1ae97f7d",
   "metadata": {
    "execution": {
     "iopub.execute_input": "2025-08-05T14:59:04.030647Z",
     "iopub.status.busy": "2025-08-05T14:59:04.029944Z",
     "iopub.status.idle": "2025-08-05T14:59:04.037951Z",
     "shell.execute_reply": "2025-08-05T14:59:04.036787Z"
    },
    "papermill": {
     "duration": 0.029482,
     "end_time": "2025-08-05T14:59:04.039738",
     "exception": false,
     "start_time": "2025-08-05T14:59:04.010256",
     "status": "completed"
    },
    "tags": []
   },
   "outputs": [],
   "source": [
    "from fairness_multiverse.conformal import compute_nc_scores\n",
    "\n",
    "# Compute nonconformity scores on calibration set (1 - probability of true class)\n",
    "nc_scores = compute_nc_scores(probs_calib, y_calib)"
   ]
  },
  {
   "cell_type": "code",
   "execution_count": 40,
   "id": "df3b8ca3-53b7-43d5-9667-7c85da7aeda2",
   "metadata": {
    "execution": {
     "iopub.execute_input": "2025-08-05T14:59:04.080047Z",
     "iopub.status.busy": "2025-08-05T14:59:04.079354Z",
     "iopub.status.idle": "2025-08-05T14:59:04.086954Z",
     "shell.execute_reply": "2025-08-05T14:59:04.085943Z"
    },
    "papermill": {
     "duration": 0.028986,
     "end_time": "2025-08-05T14:59:04.088647",
     "exception": false,
     "start_time": "2025-08-05T14:59:04.059661",
     "status": "completed"
    },
    "tags": []
   },
   "outputs": [],
   "source": [
    "from fairness_multiverse.conformal import find_threshold\n",
    "\n",
    "# Find conformal threshold q_hat for the given alpha (split conformal method)\n",
    "q_hat = find_threshold(nc_scores, alpha)"
   ]
  },
  {
   "cell_type": "code",
   "execution_count": 41,
   "id": "4d29e6c1-0ef6-4aa4-b8fe-4fe79b0d033a",
   "metadata": {
    "execution": {
     "iopub.execute_input": "2025-08-05T14:59:04.134355Z",
     "iopub.status.busy": "2025-08-05T14:59:04.133364Z",
     "iopub.status.idle": "2025-08-05T14:59:04.141249Z",
     "shell.execute_reply": "2025-08-05T14:59:04.140051Z"
    },
    "papermill": {
     "duration": 0.032669,
     "end_time": "2025-08-05T14:59:04.143103",
     "exception": false,
     "start_time": "2025-08-05T14:59:04.110434",
     "status": "completed"
    },
    "tags": []
   },
   "outputs": [
    {
     "data": {
      "text/plain": [
       "0.6599999999999999"
      ]
     },
     "execution_count": 41,
     "metadata": {},
     "output_type": "execute_result"
    }
   ],
   "source": [
    "q_hat"
   ]
  },
  {
   "cell_type": "code",
   "execution_count": 42,
   "id": "92460794-cdac-4be2-ba28-f28c0515a6fb",
   "metadata": {
    "execution": {
     "iopub.execute_input": "2025-08-05T14:59:04.188819Z",
     "iopub.status.busy": "2025-08-05T14:59:04.188139Z",
     "iopub.status.idle": "2025-08-05T14:59:07.473510Z",
     "shell.execute_reply": "2025-08-05T14:59:07.472721Z"
    },
    "papermill": {
     "duration": 3.310248,
     "end_time": "2025-08-05T14:59:07.475050",
     "exception": false,
     "start_time": "2025-08-05T14:59:04.164802",
     "status": "completed"
    },
    "tags": []
   },
   "outputs": [],
   "source": [
    "from fairness_multiverse.conformal import predict_conformal_sets\n",
    "\n",
    "# Generate prediction sets for each test example\n",
    "pred_sets = predict_conformal_sets(model, X_test, q_hat)"
   ]
  },
  {
   "cell_type": "code",
   "execution_count": 43,
   "id": "d90c9a65-e6db-4f5d-80cd-e68fb7e46829",
   "metadata": {
    "execution": {
     "iopub.execute_input": "2025-08-05T14:59:07.499419Z",
     "iopub.status.busy": "2025-08-05T14:59:07.499075Z",
     "iopub.status.idle": "2025-08-05T14:59:07.503889Z",
     "shell.execute_reply": "2025-08-05T14:59:07.503104Z"
    },
    "papermill": {
     "duration": 0.017069,
     "end_time": "2025-08-05T14:59:07.505312",
     "exception": false,
     "start_time": "2025-08-05T14:59:07.488243",
     "status": "completed"
    },
    "tags": []
   },
   "outputs": [],
   "source": [
    "y_true = y_true.squeeze()"
   ]
  },
  {
   "cell_type": "code",
   "execution_count": 44,
   "id": "3a58a54a-1e68-46b9-927a-df01f18aebc8",
   "metadata": {
    "execution": {
     "iopub.execute_input": "2025-08-05T14:59:07.528658Z",
     "iopub.status.busy": "2025-08-05T14:59:07.527961Z",
     "iopub.status.idle": "2025-08-05T14:59:08.020029Z",
     "shell.execute_reply": "2025-08-05T14:59:08.019250Z"
    },
    "papermill": {
     "duration": 0.504342,
     "end_time": "2025-08-05T14:59:08.021457",
     "exception": false,
     "start_time": "2025-08-05T14:59:07.517115",
     "status": "completed"
    },
    "tags": []
   },
   "outputs": [],
   "source": [
    "from fairness_multiverse.conformal import evaluate_sets\n",
    "\n",
    "# Evaluate coverage and average set size on test data\n",
    "metrics = evaluate_sets(pred_sets, y_true)"
   ]
  },
  {
   "cell_type": "markdown",
   "id": "2b569c12-9aaa-4c88-98c9-bbcd0cf3ebb8",
   "metadata": {
    "papermill": {
     "duration": 0.010008,
     "end_time": "2025-08-05T14:59:08.042412",
     "exception": false,
     "start_time": "2025-08-05T14:59:08.032404",
     "status": "completed"
    },
    "tags": []
   },
   "source": [
    "# CP Metrics"
   ]
  },
  {
   "cell_type": "code",
   "execution_count": 45,
   "id": "5ce0a5cb-201f-45a0-ade5-94c7f0bd6095",
   "metadata": {
    "execution": {
     "iopub.execute_input": "2025-08-05T14:59:08.064107Z",
     "iopub.status.busy": "2025-08-05T14:59:08.063407Z",
     "iopub.status.idle": "2025-08-05T14:59:08.069867Z",
     "shell.execute_reply": "2025-08-05T14:59:08.069112Z"
    },
    "papermill": {
     "duration": 0.01908,
     "end_time": "2025-08-05T14:59:08.071392",
     "exception": false,
     "start_time": "2025-08-05T14:59:08.052312",
     "status": "completed"
    },
    "tags": []
   },
   "outputs": [
    {
     "data": {
      "text/plain": [
       "{'coverage': 0.9153829004570282, 'avg_size': 1.1433173559246461}"
      ]
     },
     "execution_count": 45,
     "metadata": {},
     "output_type": "execute_result"
    }
   ],
   "source": [
    "metrics"
   ]
  },
  {
   "cell_type": "code",
   "execution_count": 46,
   "id": "9b9a838d-31c9-430b-ae14-12baee460d17",
   "metadata": {
    "execution": {
     "iopub.execute_input": "2025-08-05T14:59:08.094356Z",
     "iopub.status.busy": "2025-08-05T14:59:08.093835Z",
     "iopub.status.idle": "2025-08-05T14:59:08.099009Z",
     "shell.execute_reply": "2025-08-05T14:59:08.098277Z"
    },
    "papermill": {
     "duration": 0.017501,
     "end_time": "2025-08-05T14:59:08.100424",
     "exception": false,
     "start_time": "2025-08-05T14:59:08.082923",
     "status": "completed"
    },
    "tags": []
   },
   "outputs": [],
   "source": [
    "example_universe = universe.copy()\n",
    "universe_training_year = example_universe.get(\"training_year\")\n",
    "universe_training_size = example_universe.get(\"training_size\")\n",
    "universe_scale = example_universe.get(\"scale\")\n",
    "universe_model = example_universe.get(\"model\")\n",
    "universe_exclude_features = example_universe.get(\"exclude_features\")\n",
    "universe_exclude_subgroups = example_universe.get(\"exclude_subgroups\")"
   ]
  },
  {
   "cell_type": "code",
   "execution_count": 47,
   "id": "f4b6a8ac-9dc0-4245-8a91-5b3b5999c4f9",
   "metadata": {
    "execution": {
     "iopub.execute_input": "2025-08-05T14:59:08.123553Z",
     "iopub.status.busy": "2025-08-05T14:59:08.123247Z",
     "iopub.status.idle": "2025-08-05T14:59:08.128113Z",
     "shell.execute_reply": "2025-08-05T14:59:08.127324Z"
    },
    "papermill": {
     "duration": 0.017254,
     "end_time": "2025-08-05T14:59:08.129597",
     "exception": false,
     "start_time": "2025-08-05T14:59:08.112343",
     "status": "completed"
    },
    "tags": []
   },
   "outputs": [],
   "source": [
    "cp_metrics_dict = {\n",
    "    \"universe_id\": [universe_id],\n",
    "    \"universe_training_year\": [universe_training_year],\n",
    "    \"universe_training_size\": [universe_training_size],\n",
    "    \"universe_scale\": [universe_scale],\n",
    "    \"universe_model\": [universe_model],\n",
    "    \"universe_exclude_features\": [universe_exclude_features],\n",
    "    \"universe_exclude_subgroups\": [universe_exclude_subgroups],\n",
    "    \"q_hat\": [q_hat],\n",
    "    \"coverage\": [metrics[\"coverage\"]],\n",
    "    \"avg_size\": [metrics[\"avg_size\"]],\n",
    "}"
   ]
  },
  {
   "cell_type": "code",
   "execution_count": 48,
   "id": "908acbb1-0371-4915-85ca-3fa520d2efe2",
   "metadata": {
    "execution": {
     "iopub.execute_input": "2025-08-05T14:59:08.152540Z",
     "iopub.status.busy": "2025-08-05T14:59:08.152024Z",
     "iopub.status.idle": "2025-08-05T14:59:08.158479Z",
     "shell.execute_reply": "2025-08-05T14:59:08.157634Z"
    },
    "papermill": {
     "duration": 0.018992,
     "end_time": "2025-08-05T14:59:08.160093",
     "exception": false,
     "start_time": "2025-08-05T14:59:08.141101",
     "status": "completed"
    },
    "tags": []
   },
   "outputs": [
    {
     "data": {
      "text/plain": [
       "{'universe_id': ['d5bd755f840af4a8dd001d7750391279'],\n",
       " 'universe_training_year': ['2012_14'],\n",
       " 'universe_training_size': ['25k'],\n",
       " 'universe_scale': ['do-not-scale'],\n",
       " 'universe_model': ['rf'],\n",
       " 'universe_exclude_features': ['none'],\n",
       " 'universe_exclude_subgroups': ['keep-all'],\n",
       " 'q_hat': [0.6599999999999999],\n",
       " 'coverage': [0.9153829004570282],\n",
       " 'avg_size': [1.1433173559246461]}"
      ]
     },
     "execution_count": 48,
     "metadata": {},
     "output_type": "execute_result"
    }
   ],
   "source": [
    "cp_metrics_dict"
   ]
  },
  {
   "cell_type": "code",
   "execution_count": 49,
   "id": "33007efc-14e9-4ec6-97ac-56a455c82265",
   "metadata": {
    "execution": {
     "iopub.execute_input": "2025-08-05T14:59:08.183148Z",
     "iopub.status.busy": "2025-08-05T14:59:08.182632Z",
     "iopub.status.idle": "2025-08-05T14:59:08.187713Z",
     "shell.execute_reply": "2025-08-05T14:59:08.186944Z"
    },
    "papermill": {
     "duration": 0.017528,
     "end_time": "2025-08-05T14:59:08.189155",
     "exception": false,
     "start_time": "2025-08-05T14:59:08.171627",
     "status": "completed"
    },
    "tags": []
   },
   "outputs": [],
   "source": [
    "cp_metrics_df = pd.DataFrame(cp_metrics_dict)"
   ]
  },
  {
   "cell_type": "code",
   "execution_count": 50,
   "id": "db12611b-57b2-4910-b9d0-355adfd6e7bf",
   "metadata": {
    "execution": {
     "iopub.execute_input": "2025-08-05T14:59:08.212582Z",
     "iopub.status.busy": "2025-08-05T14:59:08.212063Z",
     "iopub.status.idle": "2025-08-05T14:59:08.226701Z",
     "shell.execute_reply": "2025-08-05T14:59:08.225925Z"
    },
    "papermill": {
     "duration": 0.027082,
     "end_time": "2025-08-05T14:59:08.228001",
     "exception": false,
     "start_time": "2025-08-05T14:59:08.200919",
     "status": "completed"
    },
    "tags": []
   },
   "outputs": [
    {
     "data": {
      "text/html": [
       "<div>\n",
       "<style scoped>\n",
       "    .dataframe tbody tr th:only-of-type {\n",
       "        vertical-align: middle;\n",
       "    }\n",
       "\n",
       "    .dataframe tbody tr th {\n",
       "        vertical-align: top;\n",
       "    }\n",
       "\n",
       "    .dataframe thead th {\n",
       "        text-align: right;\n",
       "    }\n",
       "</style>\n",
       "<table border=\"1\" class=\"dataframe\">\n",
       "  <thead>\n",
       "    <tr style=\"text-align: right;\">\n",
       "      <th></th>\n",
       "      <th>universe_id</th>\n",
       "      <th>universe_training_year</th>\n",
       "      <th>universe_training_size</th>\n",
       "      <th>universe_scale</th>\n",
       "      <th>universe_model</th>\n",
       "      <th>universe_exclude_features</th>\n",
       "      <th>universe_exclude_subgroups</th>\n",
       "      <th>q_hat</th>\n",
       "      <th>coverage</th>\n",
       "      <th>avg_size</th>\n",
       "    </tr>\n",
       "  </thead>\n",
       "  <tbody>\n",
       "    <tr>\n",
       "      <th>0</th>\n",
       "      <td>d5bd755f840af4a8dd001d7750391279</td>\n",
       "      <td>2012_14</td>\n",
       "      <td>25k</td>\n",
       "      <td>do-not-scale</td>\n",
       "      <td>rf</td>\n",
       "      <td>none</td>\n",
       "      <td>keep-all</td>\n",
       "      <td>0.66</td>\n",
       "      <td>0.915383</td>\n",
       "      <td>1.143317</td>\n",
       "    </tr>\n",
       "  </tbody>\n",
       "</table>\n",
       "</div>"
      ],
      "text/plain": [
       "                        universe_id universe_training_year  \\\n",
       "0  d5bd755f840af4a8dd001d7750391279                2012_14   \n",
       "\n",
       "  universe_training_size universe_scale universe_model  \\\n",
       "0                    25k   do-not-scale             rf   \n",
       "\n",
       "  universe_exclude_features universe_exclude_subgroups  q_hat  coverage  \\\n",
       "0                      none                   keep-all   0.66  0.915383   \n",
       "\n",
       "   avg_size  \n",
       "0  1.143317  "
      ]
     },
     "execution_count": 50,
     "metadata": {},
     "output_type": "execute_result"
    }
   ],
   "source": [
    "cp_metrics_df"
   ]
  },
  {
   "cell_type": "code",
   "execution_count": 51,
   "id": "b7fbde55-a0a1-47e4-9af6-fe4a17fa8c61",
   "metadata": {
    "execution": {
     "iopub.execute_input": "2025-08-05T14:59:08.250956Z",
     "iopub.status.busy": "2025-08-05T14:59:08.250432Z",
     "iopub.status.idle": "2025-08-05T14:59:08.254809Z",
     "shell.execute_reply": "2025-08-05T14:59:08.254075Z"
    },
    "papermill": {
     "duration": 0.01691,
     "end_time": "2025-08-05T14:59:08.256179",
     "exception": false,
     "start_time": "2025-08-05T14:59:08.239269",
     "status": "completed"
    },
    "tags": []
   },
   "outputs": [],
   "source": [
    "# Conditional Coverage & looking at subgroups"
   ]
  },
  {
   "cell_type": "code",
   "execution_count": 52,
   "id": "027ae886-68dd-4141-96c7-805a5450e1ef",
   "metadata": {
    "execution": {
     "iopub.execute_input": "2025-08-05T14:59:08.280144Z",
     "iopub.status.busy": "2025-08-05T14:59:08.279517Z",
     "iopub.status.idle": "2025-08-05T14:59:08.467795Z",
     "shell.execute_reply": "2025-08-05T14:59:08.467023Z"
    },
    "papermill": {
     "duration": 0.201139,
     "end_time": "2025-08-05T14:59:08.469294",
     "exception": false,
     "start_time": "2025-08-05T14:59:08.268155",
     "status": "completed"
    },
    "tags": []
   },
   "outputs": [],
   "source": [
    "from fairness_multiverse.conformal import build_cp_groups\n",
    "\n",
    "cp_groups_df = build_cp_groups(pred_sets, y_true, X_test.index, org_test)\n",
    "#needs universe_id and setting"
   ]
  },
  {
   "cell_type": "code",
   "execution_count": 53,
   "id": "6cbdab96-b2b2-45af-ad54-d0516db2e28d",
   "metadata": {
    "execution": {
     "iopub.execute_input": "2025-08-05T14:59:08.503741Z",
     "iopub.status.busy": "2025-08-05T14:59:08.503283Z",
     "iopub.status.idle": "2025-08-05T14:59:09.385857Z",
     "shell.execute_reply": "2025-08-05T14:59:09.385096Z"
    },
    "papermill": {
     "duration": 0.906192,
     "end_time": "2025-08-05T14:59:09.387253",
     "exception": false,
     "start_time": "2025-08-05T14:59:08.481061",
     "status": "completed"
    },
    "tags": []
   },
   "outputs": [],
   "source": [
    "# Define covered = 1 if true_label is in the predicted set\n",
    "cp_groups_df['covered'] = cp_groups_df.apply(\n",
    "    lambda r: int(r['true_label'] in r['pred_set']),\n",
    "    axis=1\n",
    ")"
   ]
  },
  {
   "cell_type": "code",
   "execution_count": 54,
   "id": "338ff529-1a6b-4b87-a931-8e4788d52aad",
   "metadata": {
    "execution": {
     "iopub.execute_input": "2025-08-05T14:59:09.410903Z",
     "iopub.status.busy": "2025-08-05T14:59:09.410265Z",
     "iopub.status.idle": "2025-08-05T14:59:09.414343Z",
     "shell.execute_reply": "2025-08-05T14:59:09.413644Z"
    },
    "papermill": {
     "duration": 0.016963,
     "end_time": "2025-08-05T14:59:09.415697",
     "exception": false,
     "start_time": "2025-08-05T14:59:09.398734",
     "status": "completed"
    },
    "tags": []
   },
   "outputs": [],
   "source": [
    "#cp_groups_df"
   ]
  },
  {
   "cell_type": "code",
   "execution_count": 55,
   "id": "90032e27-66df-4540-9169-4e89cfbaa758",
   "metadata": {
    "execution": {
     "iopub.execute_input": "2025-08-05T14:59:09.443397Z",
     "iopub.status.busy": "2025-08-05T14:59:09.442981Z",
     "iopub.status.idle": "2025-08-05T14:59:09.452542Z",
     "shell.execute_reply": "2025-08-05T14:59:09.451797Z"
    },
    "papermill": {
     "duration": 0.025007,
     "end_time": "2025-08-05T14:59:09.454065",
     "exception": false,
     "start_time": "2025-08-05T14:59:09.429058",
     "status": "completed"
    },
    "tags": []
   },
   "outputs": [],
   "source": [
    "subgroups = ['frau1','nongerman','nongerman_male','nongerman_female']\n",
    "\n",
    "# Conditional coverage for subgroup==1\n",
    "cond_coverage = {\n",
    "    g: cp_groups_df.loc[cp_groups_df[g]==1, 'covered'].mean()\n",
    "    for g in subgroups\n",
    "}"
   ]
  },
  {
   "cell_type": "code",
   "execution_count": 56,
   "id": "1e348fb1-b9c3-45bc-ba23-f016827a7e0d",
   "metadata": {
    "execution": {
     "iopub.execute_input": "2025-08-05T14:59:09.477104Z",
     "iopub.status.busy": "2025-08-05T14:59:09.476713Z",
     "iopub.status.idle": "2025-08-05T14:59:09.484256Z",
     "shell.execute_reply": "2025-08-05T14:59:09.483347Z"
    },
    "papermill": {
     "duration": 0.020987,
     "end_time": "2025-08-05T14:59:09.486414",
     "exception": false,
     "start_time": "2025-08-05T14:59:09.465427",
     "status": "completed"
    },
    "tags": []
   },
   "outputs": [
    {
     "data": {
      "text/plain": [
       "{'frau1': 0.9154063890012131,\n",
       " 'nongerman': 0.9135462864200303,\n",
       " 'nongerman_male': 0.927136809871206,\n",
       " 'nongerman_female': 0.8910581222056632}"
      ]
     },
     "execution_count": 56,
     "metadata": {},
     "output_type": "execute_result"
    }
   ],
   "source": [
    "cond_coverage"
   ]
  },
  {
   "cell_type": "code",
   "execution_count": 57,
   "id": "f5093324-c3dd-4d63-bc4c-8d945e5c8bbb",
   "metadata": {
    "execution": {
     "iopub.execute_input": "2025-08-05T14:59:09.539232Z",
     "iopub.status.busy": "2025-08-05T14:59:09.538772Z",
     "iopub.status.idle": "2025-08-05T14:59:09.546469Z",
     "shell.execute_reply": "2025-08-05T14:59:09.545243Z"
    },
    "papermill": {
     "duration": 0.035949,
     "end_time": "2025-08-05T14:59:09.548468",
     "exception": false,
     "start_time": "2025-08-05T14:59:09.512519",
     "status": "completed"
    },
    "tags": []
   },
   "outputs": [],
   "source": [
    "for subgroup, cov in cond_coverage.items():\n",
    "    cp_metrics_df[f\"cov_{subgroup}\"] = cov"
   ]
  },
  {
   "cell_type": "code",
   "execution_count": 58,
   "id": "6e872e10-dbe5-49e8-b554-5030c98ff75d",
   "metadata": {
    "execution": {
     "iopub.execute_input": "2025-08-05T14:59:09.596256Z",
     "iopub.status.busy": "2025-08-05T14:59:09.595793Z",
     "iopub.status.idle": "2025-08-05T14:59:09.616278Z",
     "shell.execute_reply": "2025-08-05T14:59:09.614943Z"
    },
    "papermill": {
     "duration": 0.046913,
     "end_time": "2025-08-05T14:59:09.618975",
     "exception": false,
     "start_time": "2025-08-05T14:59:09.572062",
     "status": "completed"
    },
    "tags": []
   },
   "outputs": [
    {
     "data": {
      "text/html": [
       "<div>\n",
       "<style scoped>\n",
       "    .dataframe tbody tr th:only-of-type {\n",
       "        vertical-align: middle;\n",
       "    }\n",
       "\n",
       "    .dataframe tbody tr th {\n",
       "        vertical-align: top;\n",
       "    }\n",
       "\n",
       "    .dataframe thead th {\n",
       "        text-align: right;\n",
       "    }\n",
       "</style>\n",
       "<table border=\"1\" class=\"dataframe\">\n",
       "  <thead>\n",
       "    <tr style=\"text-align: right;\">\n",
       "      <th></th>\n",
       "      <th>universe_id</th>\n",
       "      <th>universe_training_year</th>\n",
       "      <th>universe_training_size</th>\n",
       "      <th>universe_scale</th>\n",
       "      <th>universe_model</th>\n",
       "      <th>universe_exclude_features</th>\n",
       "      <th>universe_exclude_subgroups</th>\n",
       "      <th>q_hat</th>\n",
       "      <th>coverage</th>\n",
       "      <th>avg_size</th>\n",
       "      <th>cov_frau1</th>\n",
       "      <th>cov_nongerman</th>\n",
       "      <th>cov_nongerman_male</th>\n",
       "      <th>cov_nongerman_female</th>\n",
       "    </tr>\n",
       "  </thead>\n",
       "  <tbody>\n",
       "    <tr>\n",
       "      <th>0</th>\n",
       "      <td>d5bd755f840af4a8dd001d7750391279</td>\n",
       "      <td>2012_14</td>\n",
       "      <td>25k</td>\n",
       "      <td>do-not-scale</td>\n",
       "      <td>rf</td>\n",
       "      <td>none</td>\n",
       "      <td>keep-all</td>\n",
       "      <td>0.66</td>\n",
       "      <td>0.915383</td>\n",
       "      <td>1.143317</td>\n",
       "      <td>0.915406</td>\n",
       "      <td>0.913546</td>\n",
       "      <td>0.927137</td>\n",
       "      <td>0.891058</td>\n",
       "    </tr>\n",
       "  </tbody>\n",
       "</table>\n",
       "</div>"
      ],
      "text/plain": [
       "                        universe_id universe_training_year  \\\n",
       "0  d5bd755f840af4a8dd001d7750391279                2012_14   \n",
       "\n",
       "  universe_training_size universe_scale universe_model  \\\n",
       "0                    25k   do-not-scale             rf   \n",
       "\n",
       "  universe_exclude_features universe_exclude_subgroups  q_hat  coverage  \\\n",
       "0                      none                   keep-all   0.66  0.915383   \n",
       "\n",
       "   avg_size  cov_frau1  cov_nongerman  cov_nongerman_male  \\\n",
       "0  1.143317   0.915406       0.913546            0.927137   \n",
       "\n",
       "   cov_nongerman_female  \n",
       "0              0.891058  "
      ]
     },
     "execution_count": 58,
     "metadata": {},
     "output_type": "execute_result"
    }
   ],
   "source": [
    "cp_metrics_df"
   ]
  },
  {
   "cell_type": "markdown",
   "id": "33774451",
   "metadata": {
    "papermill": {
     "duration": 0.025339,
     "end_time": "2025-08-05T14:59:09.671297",
     "exception": false,
     "start_time": "2025-08-05T14:59:09.645958",
     "status": "completed"
    },
    "tags": []
   },
   "source": [
    "# (Fairness) Metrics"
   ]
  },
  {
   "cell_type": "code",
   "execution_count": 59,
   "id": "debc5d62",
   "metadata": {
    "execution": {
     "iopub.execute_input": "2025-08-05T14:59:09.720933Z",
     "iopub.status.busy": "2025-08-05T14:59:09.720369Z",
     "iopub.status.idle": "2025-08-05T14:59:09.742558Z",
     "shell.execute_reply": "2025-08-05T14:59:09.741275Z"
    },
    "papermill": {
     "duration": 0.047598,
     "end_time": "2025-08-05T14:59:09.744696",
     "exception": false,
     "start_time": "2025-08-05T14:59:09.697098",
     "status": "completed"
    },
    "tags": []
   },
   "outputs": [],
   "source": [
    "# do I need to include maxdeutsch1.missing?\n",
    "\n",
    "import numpy as np\n",
    "\n",
    "colname_to_bin = \"maxdeutsch1\"\n",
    "majority_value = org_train[colname_to_bin].mode()[0]\n",
    "\n",
    "org_test[\"majmin\"] = np.where(org_test[colname_to_bin] == majority_value, \"majority\", \"minority\")"
   ]
  },
  {
   "cell_type": "code",
   "execution_count": 60,
   "id": "06a50de5",
   "metadata": {
    "execution": {
     "iopub.execute_input": "2025-08-05T14:59:09.799208Z",
     "iopub.status.busy": "2025-08-05T14:59:09.798243Z",
     "iopub.status.idle": "2025-08-05T14:59:12.377245Z",
     "shell.execute_reply": "2025-08-05T14:59:12.376112Z"
    },
    "papermill": {
     "duration": 2.607494,
     "end_time": "2025-08-05T14:59:12.379483",
     "exception": false,
     "start_time": "2025-08-05T14:59:09.771989",
     "status": "completed"
    },
    "tags": []
   },
   "outputs": [],
   "source": [
    "example_universe = universe.copy()\n",
    "example_universe[\"cutoff\"] = example_universe[\"cutoff\"][0]\n",
    "example_universe[\"eval_fairness_grouping\"] = example_universe[\"eval_fairness_grouping\"][0]\n",
    "fairness_dict, metric_frame = universe_analysis.compute_metrics(\n",
    "    example_universe,\n",
    "    y_pred_prob=probs_test,\n",
    "    y_test=y_true,\n",
    "    org_test=org_test,\n",
    ")"
   ]
  },
  {
   "cell_type": "markdown",
   "id": "f95d4e02",
   "metadata": {
    "papermill": {
     "duration": 0.028466,
     "end_time": "2025-08-05T14:59:12.438421",
     "exception": false,
     "start_time": "2025-08-05T14:59:12.409955",
     "status": "completed"
    },
    "tags": []
   },
   "source": [
    "# Overall"
   ]
  },
  {
   "cell_type": "markdown",
   "id": "bdee4871",
   "metadata": {
    "papermill": {
     "duration": 0.028104,
     "end_time": "2025-08-05T14:59:12.495007",
     "exception": false,
     "start_time": "2025-08-05T14:59:12.466903",
     "status": "completed"
    },
    "tags": []
   },
   "source": [
    "Fairness\n",
    "Main fairness target: Equalized Odds. Seems to be a better fit than equal opportunity, since we're not only interested in Y = 1. Seems to be a better fit than demographic parity, since we also care about accuracy, not just equal distribution of preds.\n",
    "\n",
    "Pick column for computation of fairness metrics\n",
    "\n",
    "Performance\n",
    "Overall performance measures, most interesting in relation to the measures split by group below"
   ]
  },
  {
   "cell_type": "code",
   "execution_count": 61,
   "id": "c4e067c6",
   "metadata": {
    "execution": {
     "iopub.execute_input": "2025-08-05T14:59:12.553636Z",
     "iopub.status.busy": "2025-08-05T14:59:12.552889Z",
     "iopub.status.idle": "2025-08-05T14:59:12.562340Z",
     "shell.execute_reply": "2025-08-05T14:59:12.560930Z"
    },
    "papermill": {
     "duration": 0.041371,
     "end_time": "2025-08-05T14:59:12.564625",
     "exception": false,
     "start_time": "2025-08-05T14:59:12.523254",
     "status": "completed"
    },
    "tags": []
   },
   "outputs": [
    {
     "data": {
      "text/plain": [
       "accuracy                   0.196745\n",
       "balanced accuracy          0.531229\n",
       "f1                         0.238604\n",
       "precision                  0.135817\n",
       "false positive rate        0.918685\n",
       "false negative rate        0.018856\n",
       "selection rate             0.926697\n",
       "count                  89710.000000\n",
       "dtype: float64"
      ]
     },
     "execution_count": 61,
     "metadata": {},
     "output_type": "execute_result"
    }
   ],
   "source": [
    "metric_frame.overall"
   ]
  },
  {
   "cell_type": "markdown",
   "id": "e968fe9d",
   "metadata": {
    "papermill": {
     "duration": 0.026721,
     "end_time": "2025-08-05T14:59:12.620474",
     "exception": false,
     "start_time": "2025-08-05T14:59:12.593753",
     "status": "completed"
    },
    "tags": []
   },
   "source": [
    "By Group"
   ]
  },
  {
   "cell_type": "code",
   "execution_count": 62,
   "id": "ec325bce",
   "metadata": {
    "execution": {
     "iopub.execute_input": "2025-08-05T14:59:12.672430Z",
     "iopub.status.busy": "2025-08-05T14:59:12.671880Z",
     "iopub.status.idle": "2025-08-05T14:59:12.690657Z",
     "shell.execute_reply": "2025-08-05T14:59:12.689082Z"
    },
    "papermill": {
     "duration": 0.047455,
     "end_time": "2025-08-05T14:59:12.692746",
     "exception": false,
     "start_time": "2025-08-05T14:59:12.645291",
     "status": "completed"
    },
    "tags": []
   },
   "outputs": [
    {
     "data": {
      "text/html": [
       "<div>\n",
       "<style scoped>\n",
       "    .dataframe tbody tr th:only-of-type {\n",
       "        vertical-align: middle;\n",
       "    }\n",
       "\n",
       "    .dataframe tbody tr th {\n",
       "        vertical-align: top;\n",
       "    }\n",
       "\n",
       "    .dataframe thead th {\n",
       "        text-align: right;\n",
       "    }\n",
       "</style>\n",
       "<table border=\"1\" class=\"dataframe\">\n",
       "  <thead>\n",
       "    <tr style=\"text-align: right;\">\n",
       "      <th></th>\n",
       "      <th>accuracy</th>\n",
       "      <th>balanced accuracy</th>\n",
       "      <th>f1</th>\n",
       "      <th>precision</th>\n",
       "      <th>false positive rate</th>\n",
       "      <th>false negative rate</th>\n",
       "      <th>selection rate</th>\n",
       "      <th>count</th>\n",
       "    </tr>\n",
       "    <tr>\n",
       "      <th>majmin</th>\n",
       "      <th></th>\n",
       "      <th></th>\n",
       "      <th></th>\n",
       "      <th></th>\n",
       "      <th></th>\n",
       "      <th></th>\n",
       "      <th></th>\n",
       "      <th></th>\n",
       "    </tr>\n",
       "  </thead>\n",
       "  <tbody>\n",
       "    <tr>\n",
       "      <th>majority</th>\n",
       "      <td>0.186266</td>\n",
       "      <td>0.527660</td>\n",
       "      <td>0.24361</td>\n",
       "      <td>0.138861</td>\n",
       "      <td>0.936365</td>\n",
       "      <td>0.008315</td>\n",
       "      <td>0.943675</td>\n",
       "      <td>69170.0</td>\n",
       "    </tr>\n",
       "    <tr>\n",
       "      <th>minority</th>\n",
       "      <td>0.232035</td>\n",
       "      <td>0.540088</td>\n",
       "      <td>0.22019</td>\n",
       "      <td>0.124692</td>\n",
       "      <td>0.860280</td>\n",
       "      <td>0.059544</td>\n",
       "      <td>0.869523</td>\n",
       "      <td>20540.0</td>\n",
       "    </tr>\n",
       "  </tbody>\n",
       "</table>\n",
       "</div>"
      ],
      "text/plain": [
       "          accuracy  balanced accuracy       f1  precision  \\\n",
       "majmin                                                      \n",
       "majority  0.186266           0.527660  0.24361   0.138861   \n",
       "minority  0.232035           0.540088  0.22019   0.124692   \n",
       "\n",
       "          false positive rate  false negative rate  selection rate    count  \n",
       "majmin                                                                       \n",
       "majority             0.936365             0.008315        0.943675  69170.0  \n",
       "minority             0.860280             0.059544        0.869523  20540.0  "
      ]
     },
     "execution_count": 62,
     "metadata": {},
     "output_type": "execute_result"
    }
   ],
   "source": [
    "metric_frame.by_group"
   ]
  },
  {
   "cell_type": "code",
   "execution_count": 63,
   "id": "a9ddbe63",
   "metadata": {
    "execution": {
     "iopub.execute_input": "2025-08-05T14:59:12.744459Z",
     "iopub.status.busy": "2025-08-05T14:59:12.743379Z",
     "iopub.status.idle": "2025-08-05T14:59:15.499918Z",
     "shell.execute_reply": "2025-08-05T14:59:15.498311Z"
    },
    "papermill": {
     "duration": 2.785193,
     "end_time": "2025-08-05T14:59:15.502022",
     "exception": false,
     "start_time": "2025-08-05T14:59:12.716829",
     "status": "completed"
    },
    "tags": []
   },
   "outputs": [
    {
     "data": {
      "text/plain": [
       "array([[<Axes: title={'center': 'accuracy'}, xlabel='majmin'>,\n",
       "        <Axes: title={'center': 'balanced accuracy'}, xlabel='majmin'>,\n",
       "        <Axes: title={'center': 'f1'}, xlabel='majmin'>],\n",
       "       [<Axes: title={'center': 'precision'}, xlabel='majmin'>,\n",
       "        <Axes: title={'center': 'false positive rate'}, xlabel='majmin'>,\n",
       "        <Axes: title={'center': 'false negative rate'}, xlabel='majmin'>],\n",
       "       [<Axes: title={'center': 'selection rate'}, xlabel='majmin'>,\n",
       "        <Axes: title={'center': 'count'}, xlabel='majmin'>,\n",
       "        <Axes: xlabel='majmin'>]], dtype=object)"
      ]
     },
     "execution_count": 63,
     "metadata": {},
     "output_type": "execute_result"
    },
    {
     "data": {
      "image/png": "[encoded data removed]",
      "text/plain": [
       "<Figure size 1200x800 with 9 Axes>"
      ]
     },
     "metadata": {},
     "output_type": "display_data"
    }
   ],
   "source": [
    "# In a graphic\n",
    "metric_frame.by_group.plot.bar(\n",
    "    subplots=True,\n",
    "    layout=[3, 3],\n",
    "    legend=False,\n",
    "    figsize=[12, 8],\n",
    "    title=\"Show all metrics\",\n",
    ")"
   ]
  },
  {
   "cell_type": "markdown",
   "id": "f57a0bac",
   "metadata": {
    "papermill": {
     "duration": 0.024637,
     "end_time": "2025-08-05T14:59:15.553238",
     "exception": false,
     "start_time": "2025-08-05T14:59:15.528601",
     "status": "completed"
    },
    "tags": []
   },
   "source": [
    "# Final Output"
   ]
  },
  {
   "cell_type": "code",
   "execution_count": 64,
   "id": "96d280a3",
   "metadata": {
    "execution": {
     "iopub.execute_input": "2025-08-05T14:59:15.604300Z",
     "iopub.status.busy": "2025-08-05T14:59:15.603599Z",
     "iopub.status.idle": "2025-08-05T14:59:15.613013Z",
     "shell.execute_reply": "2025-08-05T14:59:15.611983Z"
    },
    "papermill": {
     "duration": 0.037545,
     "end_time": "2025-08-05T14:59:15.615260",
     "exception": false,
     "start_time": "2025-08-05T14:59:15.577715",
     "status": "completed"
    },
    "tags": []
   },
   "outputs": [
    {
     "data": {
      "text/plain": [
       "4"
      ]
     },
     "execution_count": 64,
     "metadata": {},
     "output_type": "execute_result"
    }
   ],
   "source": [
    "sub_universes = universe_analysis.generate_sub_universes()\n",
    "len(sub_universes)"
   ]
  },
  {
   "cell_type": "code",
   "execution_count": 65,
   "id": "92adf7ba",
   "metadata": {
    "execution": {
     "iopub.execute_input": "2025-08-05T14:59:15.666359Z",
     "iopub.status.busy": "2025-08-05T14:59:15.665445Z",
     "iopub.status.idle": "2025-08-05T14:59:15.682754Z",
     "shell.execute_reply": "2025-08-05T14:59:15.681499Z"
    },
    "papermill": {
     "duration": 0.044562,
     "end_time": "2025-08-05T14:59:15.685316",
     "exception": false,
     "start_time": "2025-08-05T14:59:15.640754",
     "status": "completed"
    },
    "tags": []
   },
   "outputs": [],
   "source": [
    "def filter_sub_universe_data(sub_universe, org_test):\n",
    "    # Keep all rows — no filtering\n",
    "    keep_rows_mask = np.ones(org_test.shape[0], dtype=bool)\n",
    "\n",
    "    print(f\"[INFO] Keeping all rows: {keep_rows_mask.sum()} rows retained.\")\n",
    "    return keep_rows_mask"
   ]
  },
  {
   "cell_type": "code",
   "execution_count": 66,
   "id": "4a759155",
   "metadata": {
    "execution": {
     "iopub.execute_input": "2025-08-05T14:59:15.746174Z",
     "iopub.status.busy": "2025-08-05T14:59:15.745653Z",
     "iopub.status.idle": "2025-08-05T14:59:24.653481Z",
     "shell.execute_reply": "2025-08-05T14:59:24.652488Z"
    },
    "papermill": {
     "duration": 8.938448,
     "end_time": "2025-08-05T14:59:24.655195",
     "exception": false,
     "start_time": "2025-08-05T14:59:15.716747",
     "status": "completed"
    },
    "tags": []
   },
   "outputs": [
    {
     "name": "stdout",
     "output_type": "stream",
     "text": [
      "Stopping execution_time clock.\n",
      "[INFO] Keeping all rows: 89710 rows retained.\n"
     ]
    },
    {
     "name": "stdout",
     "output_type": "stream",
     "text": [
      "[INFO] Keeping all rows: 89710 rows retained.\n"
     ]
    },
    {
     "name": "stdout",
     "output_type": "stream",
     "text": [
      "[INFO] Keeping all rows: 89710 rows retained.\n"
     ]
    },
    {
     "name": "stdout",
     "output_type": "stream",
     "text": [
      "[INFO] Keeping all rows: 89710 rows retained.\n"
     ]
    },
    {
     "data": {
      "text/html": [
       "<div>\n",
       "<style scoped>\n",
       "    .dataframe tbody tr th:only-of-type {\n",
       "        vertical-align: middle;\n",
       "    }\n",
       "\n",
       "    .dataframe tbody tr th {\n",
       "        vertical-align: top;\n",
       "    }\n",
       "\n",
       "    .dataframe thead th {\n",
       "        text-align: right;\n",
       "    }\n",
       "</style>\n",
       "<table border=\"1\" class=\"dataframe\">\n",
       "  <thead>\n",
       "    <tr style=\"text-align: right;\">\n",
       "      <th></th>\n",
       "      <th>run_no</th>\n",
       "      <th>universe_id</th>\n",
       "      <th>universe_settings</th>\n",
       "      <th>execution_time</th>\n",
       "      <th>test_size_n</th>\n",
       "      <th>test_size_frac</th>\n",
       "      <th>fair_main_equalized_odds_difference</th>\n",
       "      <th>fair_main_equalized_odds_ratio</th>\n",
       "      <th>fair_main_demographic_parity_difference</th>\n",
       "      <th>fair_main_demographic_parity_ratio</th>\n",
       "      <th>...</th>\n",
       "      <th>perf_grp_precision_0</th>\n",
       "      <th>perf_grp_precision_1</th>\n",
       "      <th>perf_grp_false positive rate_0</th>\n",
       "      <th>perf_grp_false positive rate_1</th>\n",
       "      <th>perf_grp_false negative rate_0</th>\n",
       "      <th>perf_grp_false negative rate_1</th>\n",
       "      <th>perf_grp_selection rate_0</th>\n",
       "      <th>perf_grp_selection rate_1</th>\n",
       "      <th>perf_grp_count_0</th>\n",
       "      <th>perf_grp_count_1</th>\n",
       "    </tr>\n",
       "  </thead>\n",
       "  <tbody>\n",
       "    <tr>\n",
       "      <th>0</th>\n",
       "      <td>15</td>\n",
       "      <td>d5bd755f840af4a8dd001d7750391279</td>\n",
       "      <td>{\"cutoff\": \"quantile_0.1\", \"eval_fairness_grou...</td>\n",
       "      <td>46.390697</td>\n",
       "      <td>89710</td>\n",
       "      <td>1.0</td>\n",
       "      <td>0.076086</td>\n",
       "      <td>0.918744</td>\n",
       "      <td>0.074152</td>\n",
       "      <td>0.921422</td>\n",
       "      <td>...</td>\n",
       "      <td>NaN</td>\n",
       "      <td>NaN</td>\n",
       "      <td>NaN</td>\n",
       "      <td>NaN</td>\n",
       "      <td>NaN</td>\n",
       "      <td>NaN</td>\n",
       "      <td>NaN</td>\n",
       "      <td>NaN</td>\n",
       "      <td>NaN</td>\n",
       "      <td>NaN</td>\n",
       "    </tr>\n",
       "    <tr>\n",
       "      <th>0</th>\n",
       "      <td>15</td>\n",
       "      <td>d5bd755f840af4a8dd001d7750391279</td>\n",
       "      <td>{\"cutoff\": \"quantile_0.1\", \"eval_fairness_grou...</td>\n",
       "      <td>46.390697</td>\n",
       "      <td>89710</td>\n",
       "      <td>1.0</td>\n",
       "      <td>0.076086</td>\n",
       "      <td>0.918744</td>\n",
       "      <td>0.074152</td>\n",
       "      <td>0.921422</td>\n",
       "      <td>...</td>\n",
       "      <td>0.124692</td>\n",
       "      <td>0.138861</td>\n",
       "      <td>0.860280</td>\n",
       "      <td>0.936365</td>\n",
       "      <td>0.059544</td>\n",
       "      <td>0.008315</td>\n",
       "      <td>0.869523</td>\n",
       "      <td>0.943675</td>\n",
       "      <td>20540.0</td>\n",
       "      <td>69170.0</td>\n",
       "    </tr>\n",
       "    <tr>\n",
       "      <th>0</th>\n",
       "      <td>15</td>\n",
       "      <td>d5bd755f840af4a8dd001d7750391279</td>\n",
       "      <td>{\"cutoff\": \"quantile_0.25\", \"eval_fairness_gro...</td>\n",
       "      <td>46.390697</td>\n",
       "      <td>89710</td>\n",
       "      <td>1.0</td>\n",
       "      <td>0.094231</td>\n",
       "      <td>0.890386</td>\n",
       "      <td>0.088771</td>\n",
       "      <td>0.888407</td>\n",
       "      <td>...</td>\n",
       "      <td>NaN</td>\n",
       "      <td>NaN</td>\n",
       "      <td>NaN</td>\n",
       "      <td>NaN</td>\n",
       "      <td>NaN</td>\n",
       "      <td>NaN</td>\n",
       "      <td>NaN</td>\n",
       "      <td>NaN</td>\n",
       "      <td>NaN</td>\n",
       "      <td>NaN</td>\n",
       "    </tr>\n",
       "    <tr>\n",
       "      <th>0</th>\n",
       "      <td>15</td>\n",
       "      <td>d5bd755f840af4a8dd001d7750391279</td>\n",
       "      <td>{\"cutoff\": \"quantile_0.25\", \"eval_fairness_gro...</td>\n",
       "      <td>46.390697</td>\n",
       "      <td>89710</td>\n",
       "      <td>1.0</td>\n",
       "      <td>0.094231</td>\n",
       "      <td>0.890386</td>\n",
       "      <td>0.088771</td>\n",
       "      <td>0.888407</td>\n",
       "      <td>...</td>\n",
       "      <td>0.141155</td>\n",
       "      <td>0.159385</td>\n",
       "      <td>0.686055</td>\n",
       "      <td>0.770515</td>\n",
       "      <td>0.134713</td>\n",
       "      <td>0.040481</td>\n",
       "      <td>0.706719</td>\n",
       "      <td>0.795489</td>\n",
       "      <td>20540.0</td>\n",
       "      <td>69170.0</td>\n",
       "    </tr>\n",
       "  </tbody>\n",
       "</table>\n",
       "<p>4 rows × 50 columns</p>\n",
       "</div>"
      ],
      "text/plain": [
       "  run_no                       universe_id  \\\n",
       "0     15  d5bd755f840af4a8dd001d7750391279   \n",
       "0     15  d5bd755f840af4a8dd001d7750391279   \n",
       "0     15  d5bd755f840af4a8dd001d7750391279   \n",
       "0     15  d5bd755f840af4a8dd001d7750391279   \n",
       "\n",
       "                                   universe_settings  execution_time  \\\n",
       "0  {\"cutoff\": \"quantile_0.1\", \"eval_fairness_grou...       46.390697   \n",
       "0  {\"cutoff\": \"quantile_0.1\", \"eval_fairness_grou...       46.390697   \n",
       "0  {\"cutoff\": \"quantile_0.25\", \"eval_fairness_gro...       46.390697   \n",
       "0  {\"cutoff\": \"quantile_0.25\", \"eval_fairness_gro...       46.390697   \n",
       "\n",
       "   test_size_n  test_size_frac  fair_main_equalized_odds_difference  \\\n",
       "0        89710             1.0                             0.076086   \n",
       "0        89710             1.0                             0.076086   \n",
       "0        89710             1.0                             0.094231   \n",
       "0        89710             1.0                             0.094231   \n",
       "\n",
       "   fair_main_equalized_odds_ratio  fair_main_demographic_parity_difference  \\\n",
       "0                        0.918744                                 0.074152   \n",
       "0                        0.918744                                 0.074152   \n",
       "0                        0.890386                                 0.088771   \n",
       "0                        0.890386                                 0.088771   \n",
       "\n",
       "   fair_main_demographic_parity_ratio  ...  perf_grp_precision_0  \\\n",
       "0                            0.921422  ...                   NaN   \n",
       "0                            0.921422  ...              0.124692   \n",
       "0                            0.888407  ...                   NaN   \n",
       "0                            0.888407  ...              0.141155   \n",
       "\n",
       "   perf_grp_precision_1  perf_grp_false positive rate_0  \\\n",
       "0                   NaN                             NaN   \n",
       "0              0.138861                        0.860280   \n",
       "0                   NaN                             NaN   \n",
       "0              0.159385                        0.686055   \n",
       "\n",
       "   perf_grp_false positive rate_1  perf_grp_false negative rate_0  \\\n",
       "0                             NaN                             NaN   \n",
       "0                        0.936365                        0.059544   \n",
       "0                             NaN                             NaN   \n",
       "0                        0.770515                        0.134713   \n",
       "\n",
       "   perf_grp_false negative rate_1  perf_grp_selection rate_0  \\\n",
       "0                             NaN                        NaN   \n",
       "0                        0.008315                   0.869523   \n",
       "0                             NaN                        NaN   \n",
       "0                        0.040481                   0.706719   \n",
       "\n",
       "   perf_grp_selection rate_1  perf_grp_count_0  perf_grp_count_1  \n",
       "0                        NaN               NaN               NaN  \n",
       "0                   0.943675           20540.0           69170.0  \n",
       "0                        NaN               NaN               NaN  \n",
       "0                   0.795489           20540.0           69170.0  \n",
       "\n",
       "[4 rows x 50 columns]"
      ]
     },
     "execution_count": 66,
     "metadata": {},
     "output_type": "execute_result"
    }
   ],
   "source": [
    "final_output = universe_analysis.generate_final_output(\n",
    "    y_pred_prob=probs_test,\n",
    "    y_test=y_true,\n",
    "    org_test=org_test,\n",
    "    filter_data=filter_sub_universe_data,\n",
    "    cp_metrics_df=cp_metrics_df,\n",
    "    save=True,\n",
    ")\n",
    "final_output"
   ]
  }
 ],
 "metadata": {
  "celltoolbar": "Tags",
  "kernelspec": {
   "display_name": "Python (CMA Fairness)",
   "language": "python",
   "name": "cma_fair_env"
  },
  "language_info": {
   "codemirror_mode": {
    "name": "ipython",
    "version": 3
   },
   "file_extension": ".py",
   "mimetype": "text/x-python",
   "name": "python",
   "nbconvert_exporter": "python",
   "pygments_lexer": "ipython3",
   "version": "3.10.12"
  },
  "papermill": {
   "default_parameters": {},
   "duration": 58.728403,
   "end_time": "2025-08-05T14:59:25.404030",
   "environment_variables": {},
   "exception": null,
   "input_path": "universe_analysis.ipynb",
   "output_path": "output/runs/15/notebooks/m_15-d5bd755f840af4a8dd001d7750391279.ipynb",
   "parameters": {
    "output_dir": "output",
    "run_no": "15",
    "seed": "2023",
    "universe": "{\"cutoff\": [\"quantile_0.1\", \"quantile_0.25\"], \"eval_fairness_grouping\": [\"majority-minority\", \"nationality-all\"], \"exclude_features\": \"none\", \"exclude_subgroups\": \"keep-all\", \"model\": \"rf\", \"scale\": \"do-not-scale\", \"training_size\": \"25k\", \"training_year\": \"2012_14\"}",
    "universe_id": "d5bd755f840af4a8dd001d7750391279"
   },
   "start_time": "2025-08-05T14:58:26.675627",
   "version": "2.6.0"
  }
 },
 "nbformat": 4,
 "nbformat_minor": 5
}