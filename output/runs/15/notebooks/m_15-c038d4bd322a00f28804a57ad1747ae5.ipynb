{
 "cells": [
  {
   "cell_type": "code",
   "execution_count": 1,
   "id": "f159f837-637b-42ba-96b5-ec9a68c44524",
   "metadata": {
    "execution": {
     "iopub.execute_input": "2025-08-05T15:28:53.975449Z",
     "iopub.status.busy": "2025-08-05T15:28:53.974992Z",
     "iopub.status.idle": "2025-08-05T15:28:53.987424Z",
     "shell.execute_reply": "2025-08-05T15:28:53.986392Z"
    },
    "papermill": {
     "duration": 0.03477,
     "end_time": "2025-08-05T15:28:53.989200",
     "exception": false,
     "start_time": "2025-08-05T15:28:53.954430",
     "status": "completed"
    },
    "tags": []
   },
   "outputs": [
    {
     "name": "stdout",
     "output_type": "stream",
     "text": [
      "/dss/dsshome1/0C/ra93lal2/cma/CMA_Fairness_v2\n"
     ]
    },
    {
     "name": "stderr",
     "output_type": "stream",
     "text": [
      "/dss/dsshome1/0C/ra93lal2/.local/share/virtualenvs/CMA_Fairness_v2-3j10GkSs/lib/python3.10/site-packages/IPython/core/magics/osm.py:393: UserWarning: This is now an optional IPython functionality, using bookmarks requires you to install the `pickleshare` library.\n",
      "  bkms = self.shell.db.get('bookmarks', {})\n",
      "/dss/dsshome1/0C/ra93lal2/.local/share/virtualenvs/CMA_Fairness_v2-3j10GkSs/lib/python3.10/site-packages/IPython/core/magics/osm.py:417: UserWarning: This is now an optional IPython functionality, setting dhist requires you to install the `pickleshare` library.\n",
      "  self.shell.db['dhist'] = compress_dhist(dhist)[-100:]\n"
     ]
    }
   ],
   "source": [
    "%cd ~/cma/CMA_Fairness_v2"
   ]
  },
  {
   "cell_type": "markdown",
   "id": "de2603b9",
   "metadata": {
    "papermill": {
     "duration": 0.014598,
     "end_time": "2025-08-05T15:28:54.020048",
     "exception": false,
     "start_time": "2025-08-05T15:28:54.005450",
     "status": "completed"
    },
    "tags": []
   },
   "source": [
    "The following cell holds the definition of our parameters, these values can be overriden by rendering the with e.g. the following command:\n",
    "\n",
    "papermill -p alpha 0.2 -p ratio 0.3 universe_analysis.ipynb output/test_run.ipynb"
   ]
  },
  {
   "cell_type": "code",
   "execution_count": 2,
   "id": "a80968a0-40bb-4fa9-85ef-2d5eefb01975",
   "metadata": {
    "execution": {
     "iopub.execute_input": "2025-08-05T15:28:54.054239Z",
     "iopub.status.busy": "2025-08-05T15:28:54.053347Z",
     "iopub.status.idle": "2025-08-05T15:28:54.059041Z",
     "shell.execute_reply": "2025-08-05T15:28:54.057984Z"
    },
    "papermill": {
     "duration": 0.024289,
     "end_time": "2025-08-05T15:28:54.060786",
     "exception": false,
     "start_time": "2025-08-05T15:28:54.036497",
     "status": "completed"
    },
    "tags": []
   },
   "outputs": [
    {
     "name": "stdout",
     "output_type": "stream",
     "text": [
      "Current working directory: /dss/dsshome1/0C/ra93lal2/cma/CMA_Fairness_v2\n"
     ]
    }
   ],
   "source": [
    "import os\n",
    "print(\"Current working directory:\", os.getcwd())"
   ]
  },
  {
   "cell_type": "code",
   "execution_count": 3,
   "id": "2dce4c03",
   "metadata": {
    "execution": {
     "iopub.execute_input": "2025-08-05T15:28:54.093407Z",
     "iopub.status.busy": "2025-08-05T15:28:54.092716Z",
     "iopub.status.idle": "2025-08-05T15:28:54.098881Z",
     "shell.execute_reply": "2025-08-05T15:28:54.097796Z"
    },
    "papermill": {
     "duration": 0.023546,
     "end_time": "2025-08-05T15:28:54.100767",
     "exception": false,
     "start_time": "2025-08-05T15:28:54.077221",
     "status": "completed"
    },
    "tags": [
     "parameters"
    ]
   },
   "outputs": [],
   "source": [
    "run_no = 0\n",
    "universe_id = \"test\"\n",
    "universe = {\n",
    "    \"training_size\": \"25k\", # \"25k\", \"5k\", \"1k\"\n",
    "    \"training_year\": \"2014\", # \"2014\", \"2012_14\", \"2010_14\"\n",
    "    \"scale\": \"scale\", # \"scale\", \"do-not-scale\",\n",
    "    \"model\": \"elasticnet\", # \"logreg\", \"penalized_logreg\", \"rf\", \"gbm\", \"elasticnet\"\n",
    "    \"cutoff\": [\"quantile_0.15\", \"quantile_0.30\"],\n",
    "    \"exclude_features\": \"age\", # \"none\", \"nationality\", \"sex\", \"nationality-sex\", \"age\"\n",
    "    \"exclude_subgroups\": \"keep-all\", # \"keep-all\", \"drop-non-german\"\n",
    "    \"eval_fairness_grouping\": [\"majority-minority\", \"nationality-all\"]\n",
    "}\n",
    "\n",
    "output_dir=\"./output\"\n",
    "seed=0"
   ]
  },
  {
   "cell_type": "code",
   "execution_count": 4,
   "id": "657c0236",
   "metadata": {
    "execution": {
     "iopub.execute_input": "2025-08-05T15:28:54.134809Z",
     "iopub.status.busy": "2025-08-05T15:28:54.134059Z",
     "iopub.status.idle": "2025-08-05T15:28:54.139006Z",
     "shell.execute_reply": "2025-08-05T15:28:54.138277Z"
    },
    "papermill": {
     "duration": 0.022754,
     "end_time": "2025-08-05T15:28:54.140687",
     "exception": false,
     "start_time": "2025-08-05T15:28:54.117933",
     "status": "completed"
    },
    "tags": [
     "injected-parameters"
    ]
   },
   "outputs": [],
   "source": [
    "# Parameters\n",
    "universe_id = \"c038d4bd322a00f28804a57ad1747ae5\"\n",
    "run_no = \"15\"\n",
    "universe = \"{\\\"cutoff\\\": [\\\"quantile_0.1\\\", \\\"quantile_0.25\\\"], \\\"eval_fairness_grouping\\\": [\\\"majority-minority\\\", \\\"nationality-all\\\"], \\\"exclude_features\\\": \\\"sex\\\", \\\"exclude_subgroups\\\": \\\"drop-non-german\\\", \\\"model\\\": \\\"penalized_logreg\\\", \\\"scale\\\": \\\"do-not-scale\\\", \\\"training_size\\\": \\\"5k\\\", \\\"training_year\\\": \\\"2014\\\"}\"\n",
    "output_dir = \"output\"\n",
    "seed = \"2023\"\n"
   ]
  },
  {
   "cell_type": "code",
   "execution_count": 5,
   "id": "1650acaf",
   "metadata": {
    "execution": {
     "iopub.execute_input": "2025-08-05T15:28:54.171707Z",
     "iopub.status.busy": "2025-08-05T15:28:54.171242Z",
     "iopub.status.idle": "2025-08-05T15:28:54.174814Z",
     "shell.execute_reply": "2025-08-05T15:28:54.174058Z"
    },
    "papermill": {
     "duration": 0.020165,
     "end_time": "2025-08-05T15:28:54.176259",
     "exception": false,
     "start_time": "2025-08-05T15:28:54.156094",
     "status": "completed"
    },
    "tags": []
   },
   "outputs": [],
   "source": [
    "import json\n",
    "if isinstance(universe, str):\n",
    "    universe = json.loads(universe)"
   ]
  },
  {
   "cell_type": "code",
   "execution_count": 6,
   "id": "16620c48",
   "metadata": {
    "execution": {
     "iopub.execute_input": "2025-08-05T15:28:54.208049Z",
     "iopub.status.busy": "2025-08-05T15:28:54.207557Z",
     "iopub.status.idle": "2025-08-05T15:28:54.235731Z",
     "shell.execute_reply": "2025-08-05T15:28:54.235062Z"
    },
    "papermill": {
     "duration": 0.045044,
     "end_time": "2025-08-05T15:28:54.236948",
     "exception": false,
     "start_time": "2025-08-05T15:28:54.191904",
     "status": "completed"
    },
    "tags": []
   },
   "outputs": [],
   "source": [
    "# Auto-reload the custom package\n",
    "%load_ext autoreload\n",
    "%autoreload 1\n",
    "%aimport fairness_multiverse"
   ]
  },
  {
   "cell_type": "code",
   "execution_count": 7,
   "id": "01c5c9f3",
   "metadata": {
    "execution": {
     "iopub.execute_input": "2025-08-05T15:28:54.261273Z",
     "iopub.status.busy": "2025-08-05T15:28:54.260596Z",
     "iopub.status.idle": "2025-08-05T15:28:56.159981Z",
     "shell.execute_reply": "2025-08-05T15:28:56.159040Z"
    },
    "papermill": {
     "duration": 1.915959,
     "end_time": "2025-08-05T15:28:56.161838",
     "exception": false,
     "start_time": "2025-08-05T15:28:54.245879",
     "status": "completed"
    },
    "tags": []
   },
   "outputs": [],
   "source": [
    "from fairness_multiverse.universe import UniverseAnalysis\n",
    "\n",
    "universe_analysis = UniverseAnalysis(\n",
    "    run_no = run_no,\n",
    "    universe_id = universe_id,\n",
    "    universe = universe,\n",
    "    output_dir=output_dir,\n",
    ")"
   ]
  },
  {
   "cell_type": "code",
   "execution_count": 8,
   "id": "106241f5",
   "metadata": {
    "execution": {
     "iopub.execute_input": "2025-08-05T15:28:56.195403Z",
     "iopub.status.busy": "2025-08-05T15:28:56.194587Z",
     "iopub.status.idle": "2025-08-05T15:28:56.201707Z",
     "shell.execute_reply": "2025-08-05T15:28:56.200641Z"
    },
    "papermill": {
     "duration": 0.025449,
     "end_time": "2025-08-05T15:28:56.203688",
     "exception": false,
     "start_time": "2025-08-05T15:28:56.178239",
     "status": "completed"
    },
    "tags": []
   },
   "outputs": [
    {
     "name": "stdout",
     "output_type": "stream",
     "text": [
      "Using Seed: 2023\n"
     ]
    }
   ],
   "source": [
    "import numpy as np\n",
    "parsed_seed = int(seed)\n",
    "np.random.seed(parsed_seed)\n",
    "print(f\"Using Seed: {parsed_seed}\")"
   ]
  },
  {
   "cell_type": "markdown",
   "id": "e0ebdc57",
   "metadata": {
    "papermill": {
     "duration": 0.016011,
     "end_time": "2025-08-05T15:28:56.238345",
     "exception": false,
     "start_time": "2025-08-05T15:28:56.222334",
     "status": "completed"
    },
    "tags": []
   },
   "source": [
    "# Loading Data"
   ]
  },
  {
   "cell_type": "code",
   "execution_count": 9,
   "id": "f0496b8a",
   "metadata": {
    "execution": {
     "iopub.execute_input": "2025-08-05T15:28:56.276079Z",
     "iopub.status.busy": "2025-08-05T15:28:56.275400Z",
     "iopub.status.idle": "2025-08-05T15:29:07.366622Z",
     "shell.execute_reply": "2025-08-05T15:29:07.365343Z"
    },
    "papermill": {
     "duration": 11.112078,
     "end_time": "2025-08-05T15:29:07.368322",
     "exception": false,
     "start_time": "2025-08-05T15:28:56.256244",
     "status": "completed"
    },
    "tags": []
   },
   "outputs": [
    {
     "name": "stdout",
     "output_type": "stream",
     "text": [
      "Loading SIAB data from cache: data/siab_cached.csv.gz\n"
     ]
    },
    {
     "name": "stdout",
     "output_type": "stream",
     "text": [
      "(643690, 164)\n"
     ]
    }
   ],
   "source": [
    "from pathlib import Path\n",
    "import pandas as pd\n",
    "\n",
    "# File paths\n",
    "raw_file = Path(\"data/raw/siab.csv\")\n",
    "cache_file = Path(\"data/siab_cached.csv.gz\")\n",
    "\n",
    "# Ensure cache directory exists\n",
    "cache_file.parent.mkdir(parents=True, exist_ok=True)\n",
    "\n",
    "# Load with simple caching\n",
    "if cache_file.exists():\n",
    "    print(f\"Loading SIAB data from cache: {cache_file}\")\n",
    "    siab = pd.read_csv(cache_file, compression='gzip')\n",
    "else:\n",
    "    print(f\"Cache not found. Reading raw SIAB data: {raw_file}\")\n",
    "    siab = pd.read_csv(raw_file)\n",
    "    siab.to_csv(cache_file, index=False, compression='gzip')\n",
    "    print(f\"Cached SIAB data to: {cache_file}\")\n",
    "\n",
    "print(siab.shape)"
   ]
  },
  {
   "cell_type": "code",
   "execution_count": 10,
   "id": "db0ca512-5f53-4dba-abdb-a2888bca41ba",
   "metadata": {
    "execution": {
     "iopub.execute_input": "2025-08-05T15:29:07.412918Z",
     "iopub.status.busy": "2025-08-05T15:29:07.412135Z",
     "iopub.status.idle": "2025-08-05T15:29:07.418189Z",
     "shell.execute_reply": "2025-08-05T15:29:07.417098Z"
    },
    "papermill": {
     "duration": 0.029563,
     "end_time": "2025-08-05T15:29:07.420007",
     "exception": false,
     "start_time": "2025-08-05T15:29:07.390444",
     "status": "completed"
    },
    "tags": []
   },
   "outputs": [],
   "source": [
    "#siab"
   ]
  },
  {
   "cell_type": "markdown",
   "id": "997051c5-15bd-4b69-9786-c3001a3ce484",
   "metadata": {
    "papermill": {
     "duration": 0.019967,
     "end_time": "2025-08-05T15:29:07.460180",
     "exception": false,
     "start_time": "2025-08-05T15:29:07.440213",
     "status": "completed"
    },
    "tags": []
   },
   "source": [
    "# Splitting Data and Setting Training Data Size"
   ]
  },
  {
   "cell_type": "code",
   "execution_count": 11,
   "id": "aea9c6ef-6f46-42c8-85eb-5a62025c1508",
   "metadata": {
    "execution": {
     "iopub.execute_input": "2025-08-05T15:29:07.501750Z",
     "iopub.status.busy": "2025-08-05T15:29:07.500833Z",
     "iopub.status.idle": "2025-08-05T15:29:07.788883Z",
     "shell.execute_reply": "2025-08-05T15:29:07.787834Z"
    },
    "papermill": {
     "duration": 0.310857,
     "end_time": "2025-08-05T15:29:07.791049",
     "exception": false,
     "start_time": "2025-08-05T15:29:07.480192",
     "status": "completed"
    },
    "tags": []
   },
   "outputs": [],
   "source": [
    "from fairness_multiverse.universe import sample_by_year_size\n",
    "\n",
    "siab_train = sample_by_year_size(siab,\n",
    "                               training_year=universe[\"training_year\"],\n",
    "                               training_size=universe[\"training_size\"])"
   ]
  },
  {
   "cell_type": "code",
   "execution_count": 12,
   "id": "8d3afb32-789d-442c-8d5d-9f5aa8dd2eed",
   "metadata": {
    "execution": {
     "iopub.execute_input": "2025-08-05T15:29:07.832170Z",
     "iopub.status.busy": "2025-08-05T15:29:07.831652Z",
     "iopub.status.idle": "2025-08-05T15:29:07.837201Z",
     "shell.execute_reply": "2025-08-05T15:29:07.836108Z"
    },
    "papermill": {
     "duration": 0.028057,
     "end_time": "2025-08-05T15:29:07.839222",
     "exception": false,
     "start_time": "2025-08-05T15:29:07.811165",
     "status": "completed"
    },
    "tags": []
   },
   "outputs": [],
   "source": [
    "#siab_train.shape"
   ]
  },
  {
   "cell_type": "code",
   "execution_count": 13,
   "id": "d582db68-1a4c-47fb-84fc-08518dc1975a",
   "metadata": {
    "execution": {
     "iopub.execute_input": "2025-08-05T15:29:07.882429Z",
     "iopub.status.busy": "2025-08-05T15:29:07.881843Z",
     "iopub.status.idle": "2025-08-05T15:29:07.901583Z",
     "shell.execute_reply": "2025-08-05T15:29:07.900417Z"
    },
    "papermill": {
     "duration": 0.043578,
     "end_time": "2025-08-05T15:29:07.903764",
     "exception": false,
     "start_time": "2025-08-05T15:29:07.860186",
     "status": "completed"
    },
    "tags": []
   },
   "outputs": [],
   "source": [
    "#display(siab_train.groupby(\"year\").size())"
   ]
  },
  {
   "cell_type": "code",
   "execution_count": 14,
   "id": "a561edb4-d032-42cb-8256-22eac1111c64",
   "metadata": {
    "execution": {
     "iopub.execute_input": "2025-08-05T15:29:07.945927Z",
     "iopub.status.busy": "2025-08-05T15:29:07.945380Z",
     "iopub.status.idle": "2025-08-05T15:29:08.265499Z",
     "shell.execute_reply": "2025-08-05T15:29:08.264369Z"
    },
    "papermill": {
     "duration": 0.34371,
     "end_time": "2025-08-05T15:29:08.267552",
     "exception": false,
     "start_time": "2025-08-05T15:29:07.923842",
     "status": "completed"
    },
    "tags": []
   },
   "outputs": [],
   "source": [
    "#siab_train = siab_s[siab_s.year < 2015]\n",
    "siab_calib = siab[siab.year == 2015]\n",
    "siab_test = siab[siab.year == 2016]"
   ]
  },
  {
   "cell_type": "code",
   "execution_count": 15,
   "id": "472de16f-c3db-4916-846b-1f0de9cf1746",
   "metadata": {
    "execution": {
     "iopub.execute_input": "2025-08-05T15:29:08.302192Z",
     "iopub.status.busy": "2025-08-05T15:29:08.301608Z",
     "iopub.status.idle": "2025-08-05T15:29:08.311072Z",
     "shell.execute_reply": "2025-08-05T15:29:08.310328Z"
    },
    "papermill": {
     "duration": 0.026785,
     "end_time": "2025-08-05T15:29:08.312500",
     "exception": false,
     "start_time": "2025-08-05T15:29:08.285715",
     "status": "completed"
    },
    "tags": []
   },
   "outputs": [],
   "source": [
    "X_train = siab_train.iloc[:,4:164]\n",
    "y_train = siab_train.iloc[:, [3]]"
   ]
  },
  {
   "cell_type": "code",
   "execution_count": 16,
   "id": "828c96af-f43a-4ed6-ba47-8ac73a47d56c",
   "metadata": {
    "execution": {
     "iopub.execute_input": "2025-08-05T15:29:08.336865Z",
     "iopub.status.busy": "2025-08-05T15:29:08.336520Z",
     "iopub.status.idle": "2025-08-05T15:29:08.393984Z",
     "shell.execute_reply": "2025-08-05T15:29:08.392519Z"
    },
    "papermill": {
     "duration": 0.070239,
     "end_time": "2025-08-05T15:29:08.396111",
     "exception": false,
     "start_time": "2025-08-05T15:29:08.325872",
     "status": "completed"
    },
    "tags": []
   },
   "outputs": [],
   "source": [
    "X_calib = siab_calib.iloc[:,4:164]\n",
    "y_calib = siab_calib.iloc[:, [3]]"
   ]
  },
  {
   "cell_type": "code",
   "execution_count": 17,
   "id": "c34be9c3-6bd6-476e-acd3-845840e303be",
   "metadata": {
    "execution": {
     "iopub.execute_input": "2025-08-05T15:29:08.442251Z",
     "iopub.status.busy": "2025-08-05T15:29:08.441761Z",
     "iopub.status.idle": "2025-08-05T15:29:08.501584Z",
     "shell.execute_reply": "2025-08-05T15:29:08.500690Z"
    },
    "papermill": {
     "duration": 0.076901,
     "end_time": "2025-08-05T15:29:08.503914",
     "exception": false,
     "start_time": "2025-08-05T15:29:08.427013",
     "status": "completed"
    },
    "tags": []
   },
   "outputs": [],
   "source": [
    "X_test = siab_test.iloc[:,4:164]\n",
    "y_true = siab_test.iloc[:, [3]]"
   ]
  },
  {
   "cell_type": "code",
   "execution_count": 18,
   "id": "e6c733c5",
   "metadata": {
    "execution": {
     "iopub.execute_input": "2025-08-05T15:29:08.546124Z",
     "iopub.status.busy": "2025-08-05T15:29:08.545556Z",
     "iopub.status.idle": "2025-08-05T15:29:08.644094Z",
     "shell.execute_reply": "2025-08-05T15:29:08.642953Z"
    },
    "papermill": {
     "duration": 0.126039,
     "end_time": "2025-08-05T15:29:08.646669",
     "exception": false,
     "start_time": "2025-08-05T15:29:08.520630",
     "status": "completed"
    },
    "tags": []
   },
   "outputs": [],
   "source": [
    "# Auxiliary data needed downstream in the pipeline\n",
    "\n",
    "org_train = X_train.copy()\n",
    "org_test = X_test.copy()\n",
    "org_calib = X_calib.copy()"
   ]
  },
  {
   "cell_type": "markdown",
   "id": "0a4a1b33",
   "metadata": {
    "papermill": {
     "duration": 0.021066,
     "end_time": "2025-08-05T15:29:08.694055",
     "exception": false,
     "start_time": "2025-08-05T15:29:08.672989",
     "status": "completed"
    },
    "tags": []
   },
   "source": [
    "# Preprocessing Data"
   ]
  },
  {
   "cell_type": "code",
   "execution_count": 19,
   "id": "ca879031",
   "metadata": {
    "execution": {
     "iopub.execute_input": "2025-08-05T15:29:08.736271Z",
     "iopub.status.busy": "2025-08-05T15:29:08.735275Z",
     "iopub.status.idle": "2025-08-05T15:29:08.741956Z",
     "shell.execute_reply": "2025-08-05T15:29:08.740724Z"
    },
    "papermill": {
     "duration": 0.030058,
     "end_time": "2025-08-05T15:29:08.743890",
     "exception": false,
     "start_time": "2025-08-05T15:29:08.713832",
     "status": "completed"
    },
    "tags": []
   },
   "outputs": [],
   "source": [
    "# EXCLUDE PROTECTED FEATURES\n",
    "# ----------------------\n",
    "# \"exclude_features\": \"none\", # \"nationality\", \"sex\", \"nationality-sex\"\n",
    "\n",
    "excluded_features = universe[\"exclude_features\"].split(\"-\") # split, e.g.: \"nationality-sex\" -> [\"nationality\", \"sex\"]\n",
    "excluded_features_dictionary = {\n",
    "    \"nationality\": [\"maxdeutsch1\", \"maxdeutsch.Missing.\"],\n",
    "    \"sex\": [\"frau1\"],\n",
    "    \"age\": [\"age\"],\n",
    "}"
   ]
  },
  {
   "cell_type": "code",
   "execution_count": 20,
   "id": "b745ac60",
   "metadata": {
    "execution": {
     "iopub.execute_input": "2025-08-05T15:29:08.786381Z",
     "iopub.status.busy": "2025-08-05T15:29:08.785862Z",
     "iopub.status.idle": "2025-08-05T15:29:08.792327Z",
     "shell.execute_reply": "2025-08-05T15:29:08.791079Z"
    },
    "papermill": {
     "duration": 0.030867,
     "end_time": "2025-08-05T15:29:08.794080",
     "exception": false,
     "start_time": "2025-08-05T15:29:08.763213",
     "status": "completed"
    },
    "tags": []
   },
   "outputs": [],
   "source": [
    "# Code nice names to column names\n",
    "\n",
    "excluded_features_columns = [\n",
    "    excluded_features_dictionary[f] for f in excluded_features if len(f) > 0 and f != \"none\"\n",
    "]"
   ]
  },
  {
   "cell_type": "code",
   "execution_count": 21,
   "id": "f84f73a2",
   "metadata": {
    "execution": {
     "iopub.execute_input": "2025-08-05T15:29:08.837574Z",
     "iopub.status.busy": "2025-08-05T15:29:08.837059Z",
     "iopub.status.idle": "2025-08-05T15:29:08.843550Z",
     "shell.execute_reply": "2025-08-05T15:29:08.842550Z"
    },
    "papermill": {
     "duration": 0.02965,
     "end_time": "2025-08-05T15:29:08.845215",
     "exception": false,
     "start_time": "2025-08-05T15:29:08.815565",
     "status": "completed"
    },
    "tags": []
   },
   "outputs": [],
   "source": [
    "from utils import flatten_once\n",
    "\n",
    "excluded_features_columns = flatten_once(excluded_features_columns)"
   ]
  },
  {
   "cell_type": "code",
   "execution_count": 22,
   "id": "884dea22",
   "metadata": {
    "execution": {
     "iopub.execute_input": "2025-08-05T15:29:08.886768Z",
     "iopub.status.busy": "2025-08-05T15:29:08.886204Z",
     "iopub.status.idle": "2025-08-05T15:29:08.896042Z",
     "shell.execute_reply": "2025-08-05T15:29:08.894967Z"
    },
    "papermill": {
     "duration": 0.031303,
     "end_time": "2025-08-05T15:29:08.897979",
     "exception": false,
     "start_time": "2025-08-05T15:29:08.866676",
     "status": "completed"
    },
    "tags": []
   },
   "outputs": [
    {
     "name": "stdout",
     "output_type": "stream",
     "text": [
      "Dropping features: ['frau1']\n"
     ]
    }
   ],
   "source": [
    "if len(excluded_features_columns) > 0:\n",
    "    print(f\"Dropping features: {excluded_features_columns}\")\n",
    "    X_train.drop(excluded_features_columns, axis=1, inplace=True)"
   ]
  },
  {
   "cell_type": "code",
   "execution_count": 23,
   "id": "95ab8b16",
   "metadata": {
    "execution": {
     "iopub.execute_input": "2025-08-05T15:29:08.928979Z",
     "iopub.status.busy": "2025-08-05T15:29:08.928512Z",
     "iopub.status.idle": "2025-08-05T15:29:08.980214Z",
     "shell.execute_reply": "2025-08-05T15:29:08.979077Z"
    },
    "papermill": {
     "duration": 0.065086,
     "end_time": "2025-08-05T15:29:08.982064",
     "exception": false,
     "start_time": "2025-08-05T15:29:08.916978",
     "status": "completed"
    },
    "tags": []
   },
   "outputs": [
    {
     "name": "stdout",
     "output_type": "stream",
     "text": [
      "Dropping features: ['frau1']\n"
     ]
    }
   ],
   "source": [
    "if len(excluded_features_columns) > 0:\n",
    "    print(f\"Dropping features: {excluded_features_columns}\")\n",
    "    X_test.drop(excluded_features_columns, axis=1, inplace=True)"
   ]
  },
  {
   "cell_type": "code",
   "execution_count": 24,
   "id": "1853aaf5-fb9f-46cb-a2b5-8ea4ae2237e4",
   "metadata": {
    "execution": {
     "iopub.execute_input": "2025-08-05T15:29:09.022924Z",
     "iopub.status.busy": "2025-08-05T15:29:09.022051Z",
     "iopub.status.idle": "2025-08-05T15:29:09.080466Z",
     "shell.execute_reply": "2025-08-05T15:29:09.079139Z"
    },
    "papermill": {
     "duration": 0.080548,
     "end_time": "2025-08-05T15:29:09.082581",
     "exception": false,
     "start_time": "2025-08-05T15:29:09.002033",
     "status": "completed"
    },
    "tags": []
   },
   "outputs": [
    {
     "name": "stdout",
     "output_type": "stream",
     "text": [
      "Dropping features: ['frau1']\n"
     ]
    }
   ],
   "source": [
    "if len(excluded_features_columns) > 0:\n",
    "    print(f\"Dropping features: {excluded_features_columns}\")\n",
    "    X_calib.drop(excluded_features_columns, axis=1, inplace=True)"
   ]
  },
  {
   "cell_type": "code",
   "execution_count": 25,
   "id": "76c4dc6d",
   "metadata": {
    "execution": {
     "iopub.execute_input": "2025-08-05T15:29:09.126355Z",
     "iopub.status.busy": "2025-08-05T15:29:09.125424Z",
     "iopub.status.idle": "2025-08-05T15:29:09.131937Z",
     "shell.execute_reply": "2025-08-05T15:29:09.130879Z"
    },
    "papermill": {
     "duration": 0.029719,
     "end_time": "2025-08-05T15:29:09.133974",
     "exception": false,
     "start_time": "2025-08-05T15:29:09.104255",
     "status": "completed"
    },
    "tags": []
   },
   "outputs": [],
   "source": [
    "# EXCLUDE CERTAIN SUBGROUPS\n",
    "# ----------------------\n",
    "\n",
    "mode = universe.get(\"exclude_subgroups\", \"keep-all\") \n",
    "# Fetches the exclude_subgroups setting from the universe dict.\n",
    "# Defaults to \"keep-all\" if the key is missing."
   ]
  },
  {
   "cell_type": "code",
   "execution_count": 26,
   "id": "21994072",
   "metadata": {
    "execution": {
     "iopub.execute_input": "2025-08-05T15:29:09.181014Z",
     "iopub.status.busy": "2025-08-05T15:29:09.180020Z",
     "iopub.status.idle": "2025-08-05T15:29:09.187085Z",
     "shell.execute_reply": "2025-08-05T15:29:09.186033Z"
    },
    "papermill": {
     "duration": 0.033389,
     "end_time": "2025-08-05T15:29:09.188939",
     "exception": false,
     "start_time": "2025-08-05T15:29:09.155550",
     "status": "completed"
    },
    "tags": []
   },
   "outputs": [],
   "source": [
    "if mode == \"keep-all\":\n",
    "    keep_mask = pd.Series(True, index=org_train.index)\n",
    "\n",
    "# org_train contains the original feature columns from features_org (in Simson)\n",
    "# features_org contains unprocessed features, for me X_train at beginning ???\n",
    "# For keep-all, creates a boolean Series (keep_mask) of all True, so no rows are removed.\n",
    "\n",
    "elif mode == \"drop-non-german\":\n",
    "    keep_mask = org_train[\"maxdeutsch1\"] == 1 # ??? what about missing values?\n",
    "\n",
    "else:\n",
    "    raise ValueError(f\"Unsupported mode for exclude_subgroups: {mode}\")"
   ]
  },
  {
   "cell_type": "code",
   "execution_count": 27,
   "id": "71651440",
   "metadata": {
    "execution": {
     "iopub.execute_input": "2025-08-05T15:29:09.235815Z",
     "iopub.status.busy": "2025-08-05T15:29:09.235114Z",
     "iopub.status.idle": "2025-08-05T15:29:09.244030Z",
     "shell.execute_reply": "2025-08-05T15:29:09.242671Z"
    },
    "papermill": {
     "duration": 0.034354,
     "end_time": "2025-08-05T15:29:09.245897",
     "exception": false,
     "start_time": "2025-08-05T15:29:09.211543",
     "status": "completed"
    },
    "tags": []
   },
   "outputs": [
    {
     "name": "stdout",
     "output_type": "stream",
     "text": [
      "Dropping 741 rows (14.82%) where mode='drop-non-german'\n"
     ]
    }
   ],
   "source": [
    "n_drop = (~keep_mask).sum() # Calculates how many rows are set to be dropped\n",
    "if n_drop > 0:\n",
    "    pct = n_drop / len(keep_mask) * 100\n",
    "    print(f\"Dropping {n_drop} rows ({pct:.2f}%) where mode='{mode}'\")"
   ]
  },
  {
   "cell_type": "code",
   "execution_count": 28,
   "id": "5fb8eee5",
   "metadata": {
    "execution": {
     "iopub.execute_input": "2025-08-05T15:29:09.292974Z",
     "iopub.status.busy": "2025-08-05T15:29:09.292051Z",
     "iopub.status.idle": "2025-08-05T15:29:09.300398Z",
     "shell.execute_reply": "2025-08-05T15:29:09.299243Z"
    },
    "papermill": {
     "duration": 0.035282,
     "end_time": "2025-08-05T15:29:09.302267",
     "exception": false,
     "start_time": "2025-08-05T15:29:09.266985",
     "status": "completed"
    },
    "tags": []
   },
   "outputs": [],
   "source": [
    "X_train = X_train[keep_mask]"
   ]
  },
  {
   "cell_type": "code",
   "execution_count": 29,
   "id": "b202bb3a",
   "metadata": {
    "execution": {
     "iopub.execute_input": "2025-08-05T15:29:09.346948Z",
     "iopub.status.busy": "2025-08-05T15:29:09.346349Z",
     "iopub.status.idle": "2025-08-05T15:29:09.354005Z",
     "shell.execute_reply": "2025-08-05T15:29:09.352623Z"
    },
    "papermill": {
     "duration": 0.032636,
     "end_time": "2025-08-05T15:29:09.355967",
     "exception": false,
     "start_time": "2025-08-05T15:29:09.323331",
     "status": "completed"
    },
    "tags": []
   },
   "outputs": [],
   "source": [
    "y_train = y_train[keep_mask]"
   ]
  },
  {
   "cell_type": "markdown",
   "id": "493e2ac3",
   "metadata": {
    "papermill": {
     "duration": 0.02106,
     "end_time": "2025-08-05T15:29:09.399241",
     "exception": false,
     "start_time": "2025-08-05T15:29:09.378181",
     "status": "completed"
    },
    "tags": []
   },
   "source": [
    "# Model Training"
   ]
  },
  {
   "cell_type": "code",
   "execution_count": 30,
   "id": "679e1268",
   "metadata": {
    "execution": {
     "iopub.execute_input": "2025-08-05T15:29:09.443731Z",
     "iopub.status.busy": "2025-08-05T15:29:09.443204Z",
     "iopub.status.idle": "2025-08-05T15:29:09.537237Z",
     "shell.execute_reply": "2025-08-05T15:29:09.536487Z"
    },
    "papermill": {
     "duration": 0.118582,
     "end_time": "2025-08-05T15:29:09.539443",
     "exception": false,
     "start_time": "2025-08-05T15:29:09.420861",
     "status": "completed"
    },
    "tags": []
   },
   "outputs": [],
   "source": [
    "from sklearn.linear_model import LogisticRegression\n",
    "from sklearn.ensemble import GradientBoostingClassifier, RandomForestClassifier\n",
    "\n",
    "if (universe[\"model\"] == \"logreg\"):\n",
    "    model = LogisticRegression() #penalty=\"none\", solver=\"newton-cg\", max_iter=1) # include random_state=19 ?\n",
    "elif (universe[\"model\"] == \"penalized_logreg\"):\n",
    "    model = LogisticRegression(penalty=\"l2\", C=0.1) #, solver=\"newton-cg\", max_iter=1)\n",
    "elif (universe[\"model\"] == \"rf\"):\n",
    "    model = RandomForestClassifier() # n_estimators=100, n_jobs=-1\n",
    "elif (universe[\"model\"] == \"gbm\"):\n",
    "    model = GradientBoostingClassifier()\n",
    "elif (universe[\"model\"] == \"elasticnet\"):\n",
    "    model = LogisticRegression(penalty = 'elasticnet', solver = 'saga', l1_ratio = 0.5) # max_iter=5000\n",
    "else:\n",
    "    raise \"Unsupported universe.model\""
   ]
  },
  {
   "cell_type": "code",
   "execution_count": 31,
   "id": "0cc8f744",
   "metadata": {
    "execution": {
     "iopub.execute_input": "2025-08-05T15:29:09.588750Z",
     "iopub.status.busy": "2025-08-05T15:29:09.588237Z",
     "iopub.status.idle": "2025-08-05T15:29:09.593715Z",
     "shell.execute_reply": "2025-08-05T15:29:09.592936Z"
    },
    "papermill": {
     "duration": 0.018152,
     "end_time": "2025-08-05T15:29:09.595230",
     "exception": false,
     "start_time": "2025-08-05T15:29:09.577078",
     "status": "completed"
    },
    "tags": []
   },
   "outputs": [],
   "source": [
    "import numpy as np\n",
    "from sklearn.pipeline import Pipeline\n",
    "from sklearn.preprocessing import StandardScaler\n",
    "\n",
    "model = Pipeline([\n",
    "    #(\"continuous_processor\", continuous_processor),\n",
    "    #(\"categorical_preprocessor\", categorical_preprocessor),\n",
    "    (\"scale\", StandardScaler() if universe[\"scale\"] == \"scale\" else None), \n",
    "    (\"model\", model),\n",
    "])"
   ]
  },
  {
   "cell_type": "code",
   "execution_count": 32,
   "id": "9442c04d",
   "metadata": {
    "execution": {
     "iopub.execute_input": "2025-08-05T15:29:09.629891Z",
     "iopub.status.busy": "2025-08-05T15:29:09.629392Z",
     "iopub.status.idle": "2025-08-05T15:29:09.776683Z",
     "shell.execute_reply": "2025-08-05T15:29:09.775951Z"
    },
    "papermill": {
     "duration": 0.171646,
     "end_time": "2025-08-05T15:29:09.778117",
     "exception": false,
     "start_time": "2025-08-05T15:29:09.606471",
     "status": "completed"
    },
    "tags": []
   },
   "outputs": [
    {
     "name": "stderr",
     "output_type": "stream",
     "text": [
      "/dss/dsshome1/0C/ra93lal2/.local/share/virtualenvs/CMA_Fairness_v2-3j10GkSs/lib/python3.10/site-packages/sklearn/linear_model/_logistic.py:444: ConvergenceWarning: lbfgs failed to converge (status=1):\n",
      "STOP: TOTAL NO. of ITERATIONS REACHED LIMIT.\n",
      "\n",
      "Increase the number of iterations (max_iter) or scale the data as shown in:\n",
      "    https://scikit-learn.org/stable/modules/preprocessing.html\n",
      "Please also refer to the documentation for alternative solver options:\n",
      "    https://scikit-learn.org/stable/modules/linear_model.html#logistic-regression\n",
      "  n_iter_i = _check_optimize_result(\n"
     ]
    },
    {
     "data": {
      "text/html": [
       "<style>#sk-container-id-1 {color: black;background-color: white;}#sk-container-id-1 pre{padding: 0;}#sk-container-id-1 div.sk-toggleable {background-color: white;}#sk-container-id-1 label.sk-toggleable__label {cursor: pointer;display: block;width: 100%;margin-bottom: 0;padding: 0.3em;box-sizing: border-box;text-align: center;}#sk-container-id-1 label.sk-toggleable__label-arrow:before {content: \"▸\";float: left;margin-right: 0.25em;color: #696969;}#sk-container-id-1 label.sk-toggleable__label-arrow:hover:before {color: black;}#sk-container-id-1 div.sk-estimator:hover label.sk-toggleable__label-arrow:before {color: black;}#sk-container-id-1 div.sk-toggleable__content {max-height: 0;max-width: 0;overflow: hidden;text-align: left;background-color: #f0f8ff;}#sk-container-id-1 div.sk-toggleable__content pre {margin: 0.2em;color: black;border-radius: 0.25em;background-color: #f0f8ff;}#sk-container-id-1 input.sk-toggleable__control:checked~div.sk-toggleable__content {max-height: 200px;max-width: 100%;overflow: auto;}#sk-container-id-1 input.sk-toggleable__control:checked~label.sk-toggleable__label-arrow:before {content: \"▾\";}#sk-container-id-1 div.sk-estimator input.sk-toggleable__control:checked~label.sk-toggleable__label {background-color: #d4ebff;}#sk-container-id-1 div.sk-label input.sk-toggleable__control:checked~label.sk-toggleable__label {background-color: #d4ebff;}#sk-container-id-1 input.sk-hidden--visually {border: 0;clip: rect(1px 1px 1px 1px);clip: rect(1px, 1px, 1px, 1px);height: 1px;margin: -1px;overflow: hidden;padding: 0;position: absolute;width: 1px;}#sk-container-id-1 div.sk-estimator {font-family: monospace;background-color: #f0f8ff;border: 1px dotted black;border-radius: 0.25em;box-sizing: border-box;margin-bottom: 0.5em;}#sk-container-id-1 div.sk-estimator:hover {background-color: #d4ebff;}#sk-container-id-1 div.sk-parallel-item::after {content: \"\";width: 100%;border-bottom: 1px solid gray;flex-grow: 1;}#sk-container-id-1 div.sk-label:hover label.sk-toggleable__label {background-color: #d4ebff;}#sk-container-id-1 div.sk-serial::before {content: \"\";position: absolute;border-left: 1px solid gray;box-sizing: border-box;top: 0;bottom: 0;left: 50%;z-index: 0;}#sk-container-id-1 div.sk-serial {display: flex;flex-direction: column;align-items: center;background-color: white;padding-right: 0.2em;padding-left: 0.2em;position: relative;}#sk-container-id-1 div.sk-item {position: relative;z-index: 1;}#sk-container-id-1 div.sk-parallel {display: flex;align-items: stretch;justify-content: center;background-color: white;position: relative;}#sk-container-id-1 div.sk-item::before, #sk-container-id-1 div.sk-parallel-item::before {content: \"\";position: absolute;border-left: 1px solid gray;box-sizing: border-box;top: 0;bottom: 0;left: 50%;z-index: -1;}#sk-container-id-1 div.sk-parallel-item {display: flex;flex-direction: column;z-index: 1;position: relative;background-color: white;}#sk-container-id-1 div.sk-parallel-item:first-child::after {align-self: flex-end;width: 50%;}#sk-container-id-1 div.sk-parallel-item:last-child::after {align-self: flex-start;width: 50%;}#sk-container-id-1 div.sk-parallel-item:only-child::after {width: 0;}#sk-container-id-1 div.sk-dashed-wrapped {border: 1px dashed gray;margin: 0 0.4em 0.5em 0.4em;box-sizing: border-box;padding-bottom: 0.4em;background-color: white;}#sk-container-id-1 div.sk-label label {font-family: monospace;font-weight: bold;display: inline-block;line-height: 1.2em;}#sk-container-id-1 div.sk-label-container {text-align: center;}#sk-container-id-1 div.sk-container {/* jupyter's `normalize.less` sets `[hidden] { display: none; }` but bootstrap.min.css set `[hidden] { display: none !important; }` so we also need the `!important` here to be able to override the default hidden behavior on the sphinx rendered scikit-learn.org. See: https://github.com/scikit-learn/scikit-learn/issues/21755 */display: inline-block !important;position: relative;}#sk-container-id-1 div.sk-text-repr-fallback {display: none;}</style><div id=\"sk-container-id-1\" class=\"sk-top-container\"><div class=\"sk-text-repr-fallback\"><pre>Pipeline(steps=[(&#x27;scale&#x27;, None), (&#x27;model&#x27;, LogisticRegression(C=0.1))])</pre><b>In a Jupyter environment, please rerun this cell to show the HTML representation or trust the notebook. <br />On GitHub, the HTML representation is unable to render, please try loading this page with nbviewer.org.</b></div><div class=\"sk-container\" hidden><div class=\"sk-item sk-dashed-wrapped\"><div class=\"sk-label-container\"><div class=\"sk-label sk-toggleable\"><input class=\"sk-toggleable__control sk-hidden--visually\" id=\"sk-estimator-id-1\" type=\"checkbox\" ><label for=\"sk-estimator-id-1\" class=\"sk-toggleable__label sk-toggleable__label-arrow\">Pipeline</label><div class=\"sk-toggleable__content\"><pre>Pipeline(steps=[(&#x27;scale&#x27;, None), (&#x27;model&#x27;, LogisticRegression(C=0.1))])</pre></div></div></div><div class=\"sk-serial\"><div class=\"sk-item\"><div class=\"sk-estimator sk-toggleable\"><input class=\"sk-toggleable__control sk-hidden--visually\" id=\"sk-estimator-id-2\" type=\"checkbox\" ><label for=\"sk-estimator-id-2\" class=\"sk-toggleable__label sk-toggleable__label-arrow\">None</label><div class=\"sk-toggleable__content\"><pre>None</pre></div></div></div><div class=\"sk-item\"><div class=\"sk-estimator sk-toggleable\"><input class=\"sk-toggleable__control sk-hidden--visually\" id=\"sk-estimator-id-3\" type=\"checkbox\" ><label for=\"sk-estimator-id-3\" class=\"sk-toggleable__label sk-toggleable__label-arrow\">LogisticRegression</label><div class=\"sk-toggleable__content\"><pre>LogisticRegression(C=0.1)</pre></div></div></div></div></div></div></div>"
      ],
      "text/plain": [
       "Pipeline(steps=[('scale', None), ('model', LogisticRegression(C=0.1))])"
      ]
     },
     "execution_count": 32,
     "metadata": {},
     "output_type": "execute_result"
    }
   ],
   "source": [
    "model.fit(X_train, y_train.values.ravel())"
   ]
  },
  {
   "cell_type": "code",
   "execution_count": 33,
   "id": "af59f8c0",
   "metadata": {
    "execution": {
     "iopub.execute_input": "2025-08-05T15:29:09.802754Z",
     "iopub.status.busy": "2025-08-05T15:29:09.802400Z",
     "iopub.status.idle": "2025-08-05T15:29:09.806804Z",
     "shell.execute_reply": "2025-08-05T15:29:09.805895Z"
    },
    "papermill": {
     "duration": 0.017191,
     "end_time": "2025-08-05T15:29:09.808169",
     "exception": false,
     "start_time": "2025-08-05T15:29:09.790978",
     "status": "completed"
    },
    "tags": []
   },
   "outputs": [],
   "source": [
    "from fairness_multiverse.universe import predict_w_threshold"
   ]
  },
  {
   "cell_type": "code",
   "execution_count": 34,
   "id": "a7cf2e16",
   "metadata": {
    "execution": {
     "iopub.execute_input": "2025-08-05T15:29:09.831351Z",
     "iopub.status.busy": "2025-08-05T15:29:09.830842Z",
     "iopub.status.idle": "2025-08-05T15:29:09.967935Z",
     "shell.execute_reply": "2025-08-05T15:29:09.967054Z"
    },
    "papermill": {
     "duration": 0.150063,
     "end_time": "2025-08-05T15:29:09.969528",
     "exception": false,
     "start_time": "2025-08-05T15:29:09.819465",
     "status": "completed"
    },
    "tags": []
   },
   "outputs": [
    {
     "data": {
      "text/plain": [
       "0.86002675287036"
      ]
     },
     "execution_count": 34,
     "metadata": {},
     "output_type": "execute_result"
    }
   ],
   "source": [
    "probs_test = model.predict_proba(X_test)\n",
    "\n",
    "'''\n",
    "Below code returns a boolean array (or binary 0/1 array depending on how it’s used) where each element \n",
    "is True if the probability of class 1 is greater than or equal to the threshold, and False otherwise.\n",
    "'''\n",
    "y_pred_default = predict_w_threshold(probs_test, 0.5)\n",
    "\n",
    "from sklearn.metrics import accuracy_score\n",
    "\n",
    "# Naive prediction\n",
    "accuracy_score(y_true = y_true, y_pred = y_pred_default)"
   ]
  },
  {
   "cell_type": "code",
   "execution_count": 35,
   "id": "081964c3",
   "metadata": {
    "execution": {
     "iopub.execute_input": "2025-08-05T15:29:10.008957Z",
     "iopub.status.busy": "2025-08-05T15:29:10.008458Z",
     "iopub.status.idle": "2025-08-05T15:29:10.091564Z",
     "shell.execute_reply": "2025-08-05T15:29:10.090647Z"
    },
    "papermill": {
     "duration": 0.104054,
     "end_time": "2025-08-05T15:29:10.093446",
     "exception": false,
     "start_time": "2025-08-05T15:29:09.989392",
     "status": "completed"
    },
    "tags": []
   },
   "outputs": [
    {
     "data": {
      "text/plain": [
       "array([0, 0, 0, ..., 0, 0, 0])"
      ]
     },
     "execution_count": 35,
     "metadata": {},
     "output_type": "execute_result"
    }
   ],
   "source": [
    "model.predict(X_test)"
   ]
  },
  {
   "cell_type": "markdown",
   "id": "56c9705b",
   "metadata": {
    "papermill": {
     "duration": 0.024782,
     "end_time": "2025-08-05T15:29:10.140680",
     "exception": false,
     "start_time": "2025-08-05T15:29:10.115898",
     "status": "completed"
    },
    "tags": []
   },
   "source": [
    "# Conformal Prediction"
   ]
  },
  {
   "cell_type": "code",
   "execution_count": 36,
   "id": "160ec6ff",
   "metadata": {
    "execution": {
     "iopub.execute_input": "2025-08-05T15:29:10.187613Z",
     "iopub.status.busy": "2025-08-05T15:29:10.187104Z",
     "iopub.status.idle": "2025-08-05T15:29:10.193056Z",
     "shell.execute_reply": "2025-08-05T15:29:10.192009Z"
    },
    "papermill": {
     "duration": 0.03206,
     "end_time": "2025-08-05T15:29:10.195094",
     "exception": false,
     "start_time": "2025-08-05T15:29:10.163034",
     "status": "completed"
    },
    "tags": []
   },
   "outputs": [],
   "source": [
    "# Miscoverage level for conformal prediction (10% allowed error rate => 90% target coverage)\n",
    "alpha = 0.1"
   ]
  },
  {
   "cell_type": "code",
   "execution_count": 37,
   "id": "eadf4555-3dd3-440e-8e35-f82a4ad9f855",
   "metadata": {
    "execution": {
     "iopub.execute_input": "2025-08-05T15:29:10.243858Z",
     "iopub.status.busy": "2025-08-05T15:29:10.243102Z",
     "iopub.status.idle": "2025-08-05T15:29:10.328771Z",
     "shell.execute_reply": "2025-08-05T15:29:10.327719Z"
    },
    "papermill": {
     "duration": 0.111626,
     "end_time": "2025-08-05T15:29:10.330921",
     "exception": false,
     "start_time": "2025-08-05T15:29:10.219295",
     "status": "completed"
    },
    "tags": []
   },
   "outputs": [],
   "source": [
    "probs_calib = model.predict_proba(X_calib)"
   ]
  },
  {
   "cell_type": "code",
   "execution_count": 38,
   "id": "2ed93547-6d5d-4983-9b36-1ecb300da49a",
   "metadata": {
    "execution": {
     "iopub.execute_input": "2025-08-05T15:29:10.387931Z",
     "iopub.status.busy": "2025-08-05T15:29:10.387100Z",
     "iopub.status.idle": "2025-08-05T15:29:10.392982Z",
     "shell.execute_reply": "2025-08-05T15:29:10.392003Z"
    },
    "papermill": {
     "duration": 0.027953,
     "end_time": "2025-08-05T15:29:10.395684",
     "exception": false,
     "start_time": "2025-08-05T15:29:10.367731",
     "status": "completed"
    },
    "tags": []
   },
   "outputs": [],
   "source": [
    "y_calib = y_calib.values.ravel().astype(int)"
   ]
  },
  {
   "cell_type": "code",
   "execution_count": 39,
   "id": "65d1320d-f588-4b38-9072-62af1ae97f7d",
   "metadata": {
    "execution": {
     "iopub.execute_input": "2025-08-05T15:29:10.442422Z",
     "iopub.status.busy": "2025-08-05T15:29:10.442092Z",
     "iopub.status.idle": "2025-08-05T15:29:10.450020Z",
     "shell.execute_reply": "2025-08-05T15:29:10.448938Z"
    },
    "papermill": {
     "duration": 0.032981,
     "end_time": "2025-08-05T15:29:10.451690",
     "exception": false,
     "start_time": "2025-08-05T15:29:10.418709",
     "status": "completed"
    },
    "tags": []
   },
   "outputs": [],
   "source": [
    "from fairness_multiverse.conformal import compute_nc_scores\n",
    "\n",
    "# Compute nonconformity scores on calibration set (1 - probability of true class)\n",
    "nc_scores = compute_nc_scores(probs_calib, y_calib)"
   ]
  },
  {
   "cell_type": "code",
   "execution_count": 40,
   "id": "df3b8ca3-53b7-43d5-9667-7c85da7aeda2",
   "metadata": {
    "execution": {
     "iopub.execute_input": "2025-08-05T15:29:10.503131Z",
     "iopub.status.busy": "2025-08-05T15:29:10.502635Z",
     "iopub.status.idle": "2025-08-05T15:29:10.510068Z",
     "shell.execute_reply": "2025-08-05T15:29:10.509135Z"
    },
    "papermill": {
     "duration": 0.037187,
     "end_time": "2025-08-05T15:29:10.511792",
     "exception": false,
     "start_time": "2025-08-05T15:29:10.474605",
     "status": "completed"
    },
    "tags": []
   },
   "outputs": [],
   "source": [
    "from fairness_multiverse.conformal import find_threshold\n",
    "\n",
    "# Find conformal threshold q_hat for the given alpha (split conformal method)\n",
    "q_hat = find_threshold(nc_scores, alpha)"
   ]
  },
  {
   "cell_type": "code",
   "execution_count": 41,
   "id": "4d29e6c1-0ef6-4aa4-b8fe-4fe79b0d033a",
   "metadata": {
    "execution": {
     "iopub.execute_input": "2025-08-05T15:29:10.557807Z",
     "iopub.status.busy": "2025-08-05T15:29:10.557400Z",
     "iopub.status.idle": "2025-08-05T15:29:10.564527Z",
     "shell.execute_reply": "2025-08-05T15:29:10.563553Z"
    },
    "papermill": {
     "duration": 0.044447,
     "end_time": "2025-08-05T15:29:10.579144",
     "exception": false,
     "start_time": "2025-08-05T15:29:10.534697",
     "status": "completed"
    },
    "tags": []
   },
   "outputs": [
    {
     "data": {
      "text/plain": [
       "0.6652260325737751"
      ]
     },
     "execution_count": 41,
     "metadata": {},
     "output_type": "execute_result"
    }
   ],
   "source": [
    "q_hat"
   ]
  },
  {
   "cell_type": "code",
   "execution_count": 42,
   "id": "92460794-cdac-4be2-ba28-f28c0515a6fb",
   "metadata": {
    "execution": {
     "iopub.execute_input": "2025-08-05T15:29:10.639298Z",
     "iopub.status.busy": "2025-08-05T15:29:10.638778Z",
     "iopub.status.idle": "2025-08-05T15:29:11.364159Z",
     "shell.execute_reply": "2025-08-05T15:29:11.363424Z"
    },
    "papermill": {
     "duration": 0.750285,
     "end_time": "2025-08-05T15:29:11.366107",
     "exception": false,
     "start_time": "2025-08-05T15:29:10.615822",
     "status": "completed"
    },
    "tags": []
   },
   "outputs": [],
   "source": [
    "from fairness_multiverse.conformal import predict_conformal_sets\n",
    "\n",
    "# Generate prediction sets for each test example\n",
    "pred_sets = predict_conformal_sets(model, X_test, q_hat)"
   ]
  },
  {
   "cell_type": "code",
   "execution_count": 43,
   "id": "d90c9a65-e6db-4f5d-80cd-e68fb7e46829",
   "metadata": {
    "execution": {
     "iopub.execute_input": "2025-08-05T15:29:11.417262Z",
     "iopub.status.busy": "2025-08-05T15:29:11.416346Z",
     "iopub.status.idle": "2025-08-05T15:29:11.422138Z",
     "shell.execute_reply": "2025-08-05T15:29:11.421122Z"
    },
    "papermill": {
     "duration": 0.032021,
     "end_time": "2025-08-05T15:29:11.423739",
     "exception": false,
     "start_time": "2025-08-05T15:29:11.391718",
     "status": "completed"
    },
    "tags": []
   },
   "outputs": [],
   "source": [
    "y_true = y_true.squeeze()"
   ]
  },
  {
   "cell_type": "code",
   "execution_count": 44,
   "id": "3a58a54a-1e68-46b9-927a-df01f18aebc8",
   "metadata": {
    "execution": {
     "iopub.execute_input": "2025-08-05T15:29:11.473589Z",
     "iopub.status.busy": "2025-08-05T15:29:11.473015Z",
     "iopub.status.idle": "2025-08-05T15:29:12.089864Z",
     "shell.execute_reply": "2025-08-05T15:29:12.089077Z"
    },
    "papermill": {
     "duration": 0.64347,
     "end_time": "2025-08-05T15:29:12.091803",
     "exception": false,
     "start_time": "2025-08-05T15:29:11.448333",
     "status": "completed"
    },
    "tags": []
   },
   "outputs": [],
   "source": [
    "from fairness_multiverse.conformal import evaluate_sets\n",
    "\n",
    "# Evaluate coverage and average set size on test data\n",
    "metrics = evaluate_sets(pred_sets, y_true)"
   ]
  },
  {
   "cell_type": "markdown",
   "id": "2b569c12-9aaa-4c88-98c9-bbcd0cf3ebb8",
   "metadata": {
    "papermill": {
     "duration": 0.023801,
     "end_time": "2025-08-05T15:29:12.140649",
     "exception": false,
     "start_time": "2025-08-05T15:29:12.116848",
     "status": "completed"
    },
    "tags": []
   },
   "source": [
    "# CP Metrics"
   ]
  },
  {
   "cell_type": "code",
   "execution_count": 45,
   "id": "5ce0a5cb-201f-45a0-ade5-94c7f0bd6095",
   "metadata": {
    "execution": {
     "iopub.execute_input": "2025-08-05T15:29:12.186849Z",
     "iopub.status.busy": "2025-08-05T15:29:12.186317Z",
     "iopub.status.idle": "2025-08-05T15:29:12.194570Z",
     "shell.execute_reply": "2025-08-05T15:29:12.193301Z"
    },
    "papermill": {
     "duration": 0.033852,
     "end_time": "2025-08-05T15:29:12.196521",
     "exception": false,
     "start_time": "2025-08-05T15:29:12.162669",
     "status": "completed"
    },
    "tags": []
   },
   "outputs": [
    {
     "data": {
      "text/plain": [
       "{'coverage': 0.9113588228737042, 'avg_size': 1.2133652881507078}"
      ]
     },
     "execution_count": 45,
     "metadata": {},
     "output_type": "execute_result"
    }
   ],
   "source": [
    "metrics"
   ]
  },
  {
   "cell_type": "code",
   "execution_count": 46,
   "id": "9b9a838d-31c9-430b-ae14-12baee460d17",
   "metadata": {
    "execution": {
     "iopub.execute_input": "2025-08-05T15:29:12.244569Z",
     "iopub.status.busy": "2025-08-05T15:29:12.243717Z",
     "iopub.status.idle": "2025-08-05T15:29:12.250338Z",
     "shell.execute_reply": "2025-08-05T15:29:12.249268Z"
    },
    "papermill": {
     "duration": 0.032876,
     "end_time": "2025-08-05T15:29:12.252419",
     "exception": false,
     "start_time": "2025-08-05T15:29:12.219543",
     "status": "completed"
    },
    "tags": []
   },
   "outputs": [],
   "source": [
    "example_universe = universe.copy()\n",
    "universe_training_year = example_universe.get(\"training_year\")\n",
    "universe_training_size = example_universe.get(\"training_size\")\n",
    "universe_scale = example_universe.get(\"scale\")\n",
    "universe_model = example_universe.get(\"model\")\n",
    "universe_exclude_features = example_universe.get(\"exclude_features\")\n",
    "universe_exclude_subgroups = example_universe.get(\"exclude_subgroups\")"
   ]
  },
  {
   "cell_type": "code",
   "execution_count": 47,
   "id": "f4b6a8ac-9dc0-4245-8a91-5b3b5999c4f9",
   "metadata": {
    "execution": {
     "iopub.execute_input": "2025-08-05T15:29:12.302856Z",
     "iopub.status.busy": "2025-08-05T15:29:12.302116Z",
     "iopub.status.idle": "2025-08-05T15:29:12.309389Z",
     "shell.execute_reply": "2025-08-05T15:29:12.308346Z"
    },
    "papermill": {
     "duration": 0.035028,
     "end_time": "2025-08-05T15:29:12.311402",
     "exception": false,
     "start_time": "2025-08-05T15:29:12.276374",
     "status": "completed"
    },
    "tags": []
   },
   "outputs": [],
   "source": [
    "cp_metrics_dict = {\n",
    "    \"universe_id\": [universe_id],\n",
    "    \"universe_training_year\": [universe_training_year],\n",
    "    \"universe_training_size\": [universe_training_size],\n",
    "    \"universe_scale\": [universe_scale],\n",
    "    \"universe_model\": [universe_model],\n",
    "    \"universe_exclude_features\": [universe_exclude_features],\n",
    "    \"universe_exclude_subgroups\": [universe_exclude_subgroups],\n",
    "    \"q_hat\": [q_hat],\n",
    "    \"coverage\": [metrics[\"coverage\"]],\n",
    "    \"avg_size\": [metrics[\"avg_size\"]],\n",
    "}"
   ]
  },
  {
   "cell_type": "code",
   "execution_count": 48,
   "id": "908acbb1-0371-4915-85ca-3fa520d2efe2",
   "metadata": {
    "execution": {
     "iopub.execute_input": "2025-08-05T15:29:12.361353Z",
     "iopub.status.busy": "2025-08-05T15:29:12.360373Z",
     "iopub.status.idle": "2025-08-05T15:29:12.368638Z",
     "shell.execute_reply": "2025-08-05T15:29:12.367590Z"
    },
    "papermill": {
     "duration": 0.034879,
     "end_time": "2025-08-05T15:29:12.370391",
     "exception": false,
     "start_time": "2025-08-05T15:29:12.335512",
     "status": "completed"
    },
    "tags": []
   },
   "outputs": [
    {
     "data": {
      "text/plain": [
       "{'universe_id': ['c038d4bd322a00f28804a57ad1747ae5'],\n",
       " 'universe_training_year': ['2014'],\n",
       " 'universe_training_size': ['5k'],\n",
       " 'universe_scale': ['do-not-scale'],\n",
       " 'universe_model': ['penalized_logreg'],\n",
       " 'universe_exclude_features': ['sex'],\n",
       " 'universe_exclude_subgroups': ['drop-non-german'],\n",
       " 'q_hat': [0.6652260325737751],\n",
       " 'coverage': [0.9113588228737042],\n",
       " 'avg_size': [1.2133652881507078]}"
      ]
     },
     "execution_count": 48,
     "metadata": {},
     "output_type": "execute_result"
    }
   ],
   "source": [
    "cp_metrics_dict"
   ]
  },
  {
   "cell_type": "code",
   "execution_count": 49,
   "id": "33007efc-14e9-4ec6-97ac-56a455c82265",
   "metadata": {
    "execution": {
     "iopub.execute_input": "2025-08-05T15:29:12.417845Z",
     "iopub.status.busy": "2025-08-05T15:29:12.417229Z",
     "iopub.status.idle": "2025-08-05T15:29:12.423522Z",
     "shell.execute_reply": "2025-08-05T15:29:12.422487Z"
    },
    "papermill": {
     "duration": 0.032244,
     "end_time": "2025-08-05T15:29:12.425632",
     "exception": false,
     "start_time": "2025-08-05T15:29:12.393388",
     "status": "completed"
    },
    "tags": []
   },
   "outputs": [],
   "source": [
    "cp_metrics_df = pd.DataFrame(cp_metrics_dict)"
   ]
  },
  {
   "cell_type": "code",
   "execution_count": 50,
   "id": "db12611b-57b2-4910-b9d0-355adfd6e7bf",
   "metadata": {
    "execution": {
     "iopub.execute_input": "2025-08-05T15:29:12.473335Z",
     "iopub.status.busy": "2025-08-05T15:29:12.472555Z",
     "iopub.status.idle": "2025-08-05T15:29:12.491229Z",
     "shell.execute_reply": "2025-08-05T15:29:12.490186Z"
    },
    "papermill": {
     "duration": 0.044471,
     "end_time": "2025-08-05T15:29:12.492941",
     "exception": false,
     "start_time": "2025-08-05T15:29:12.448470",
     "status": "completed"
    },
    "tags": []
   },
   "outputs": [
    {
     "data": {
      "text/html": [
       "<div>\n",
       "<style scoped>\n",
       "    .dataframe tbody tr th:only-of-type {\n",
       "        vertical-align: middle;\n",
       "    }\n",
       "\n",
       "    .dataframe tbody tr th {\n",
       "        vertical-align: top;\n",
       "    }\n",
       "\n",
       "    .dataframe thead th {\n",
       "        text-align: right;\n",
       "    }\n",
       "</style>\n",
       "<table border=\"1\" class=\"dataframe\">\n",
       "  <thead>\n",
       "    <tr style=\"text-align: right;\">\n",
       "      <th></th>\n",
       "      <th>universe_id</th>\n",
       "      <th>universe_training_year</th>\n",
       "      <th>universe_training_size</th>\n",
       "      <th>universe_scale</th>\n",
       "      <th>universe_model</th>\n",
       "      <th>universe_exclude_features</th>\n",
       "      <th>universe_exclude_subgroups</th>\n",
       "      <th>q_hat</th>\n",
       "      <th>coverage</th>\n",
       "      <th>avg_size</th>\n",
       "    </tr>\n",
       "  </thead>\n",
       "  <tbody>\n",
       "    <tr>\n",
       "      <th>0</th>\n",
       "      <td>c038d4bd322a00f28804a57ad1747ae5</td>\n",
       "      <td>2014</td>\n",
       "      <td>5k</td>\n",
       "      <td>do-not-scale</td>\n",
       "      <td>penalized_logreg</td>\n",
       "      <td>sex</td>\n",
       "      <td>drop-non-german</td>\n",
       "      <td>0.665226</td>\n",
       "      <td>0.911359</td>\n",
       "      <td>1.213365</td>\n",
       "    </tr>\n",
       "  </tbody>\n",
       "</table>\n",
       "</div>"
      ],
      "text/plain": [
       "                        universe_id universe_training_year  \\\n",
       "0  c038d4bd322a00f28804a57ad1747ae5                   2014   \n",
       "\n",
       "  universe_training_size universe_scale    universe_model  \\\n",
       "0                     5k   do-not-scale  penalized_logreg   \n",
       "\n",
       "  universe_exclude_features universe_exclude_subgroups     q_hat  coverage  \\\n",
       "0                       sex            drop-non-german  0.665226  0.911359   \n",
       "\n",
       "   avg_size  \n",
       "0  1.213365  "
      ]
     },
     "execution_count": 50,
     "metadata": {},
     "output_type": "execute_result"
    }
   ],
   "source": [
    "cp_metrics_df"
   ]
  },
  {
   "cell_type": "code",
   "execution_count": 51,
   "id": "b7fbde55-a0a1-47e4-9af6-fe4a17fa8c61",
   "metadata": {
    "execution": {
     "iopub.execute_input": "2025-08-05T15:29:12.541009Z",
     "iopub.status.busy": "2025-08-05T15:29:12.540600Z",
     "iopub.status.idle": "2025-08-05T15:29:12.545648Z",
     "shell.execute_reply": "2025-08-05T15:29:12.544566Z"
    },
    "papermill": {
     "duration": 0.031186,
     "end_time": "2025-08-05T15:29:12.547584",
     "exception": false,
     "start_time": "2025-08-05T15:29:12.516398",
     "status": "completed"
    },
    "tags": []
   },
   "outputs": [],
   "source": [
    "# Conditional Coverage & looking at subgroups"
   ]
  },
  {
   "cell_type": "code",
   "execution_count": 52,
   "id": "027ae886-68dd-4141-96c7-805a5450e1ef",
   "metadata": {
    "execution": {
     "iopub.execute_input": "2025-08-05T15:29:12.598474Z",
     "iopub.status.busy": "2025-08-05T15:29:12.597921Z",
     "iopub.status.idle": "2025-08-05T15:29:12.846064Z",
     "shell.execute_reply": "2025-08-05T15:29:12.845034Z"
    },
    "papermill": {
     "duration": 0.274738,
     "end_time": "2025-08-05T15:29:12.848166",
     "exception": false,
     "start_time": "2025-08-05T15:29:12.573428",
     "status": "completed"
    },
    "tags": []
   },
   "outputs": [],
   "source": [
    "from fairness_multiverse.conformal import build_cp_groups\n",
    "\n",
    "cp_groups_df = build_cp_groups(pred_sets, y_true, X_test.index, org_test)\n",
    "#needs universe_id and setting"
   ]
  },
  {
   "cell_type": "code",
   "execution_count": 53,
   "id": "6cbdab96-b2b2-45af-ad54-d0516db2e28d",
   "metadata": {
    "execution": {
     "iopub.execute_input": "2025-08-05T15:29:12.898671Z",
     "iopub.status.busy": "2025-08-05T15:29:12.898151Z",
     "iopub.status.idle": "2025-08-05T15:29:14.433942Z",
     "shell.execute_reply": "2025-08-05T15:29:14.433159Z"
    },
    "papermill": {
     "duration": 1.56209,
     "end_time": "2025-08-05T15:29:14.435414",
     "exception": false,
     "start_time": "2025-08-05T15:29:12.873324",
     "status": "completed"
    },
    "tags": []
   },
   "outputs": [],
   "source": [
    "# Define covered = 1 if true_label is in the predicted set\n",
    "cp_groups_df['covered'] = cp_groups_df.apply(\n",
    "    lambda r: int(r['true_label'] in r['pred_set']),\n",
    "    axis=1\n",
    ")"
   ]
  },
  {
   "cell_type": "code",
   "execution_count": 54,
   "id": "338ff529-1a6b-4b87-a931-8e4788d52aad",
   "metadata": {
    "execution": {
     "iopub.execute_input": "2025-08-05T15:29:14.459256Z",
     "iopub.status.busy": "2025-08-05T15:29:14.458908Z",
     "iopub.status.idle": "2025-08-05T15:29:14.463134Z",
     "shell.execute_reply": "2025-08-05T15:29:14.462245Z"
    },
    "papermill": {
     "duration": 0.017637,
     "end_time": "2025-08-05T15:29:14.464584",
     "exception": false,
     "start_time": "2025-08-05T15:29:14.446947",
     "status": "completed"
    },
    "tags": []
   },
   "outputs": [],
   "source": [
    "#cp_groups_df"
   ]
  },
  {
   "cell_type": "code",
   "execution_count": 55,
   "id": "90032e27-66df-4540-9169-4e89cfbaa758",
   "metadata": {
    "execution": {
     "iopub.execute_input": "2025-08-05T15:29:14.488989Z",
     "iopub.status.busy": "2025-08-05T15:29:14.488601Z",
     "iopub.status.idle": "2025-08-05T15:29:14.497852Z",
     "shell.execute_reply": "2025-08-05T15:29:14.497108Z"
    },
    "papermill": {
     "duration": 0.022396,
     "end_time": "2025-08-05T15:29:14.499173",
     "exception": false,
     "start_time": "2025-08-05T15:29:14.476777",
     "status": "completed"
    },
    "tags": []
   },
   "outputs": [],
   "source": [
    "subgroups = ['frau1','nongerman','nongerman_male','nongerman_female']\n",
    "\n",
    "# Conditional coverage for subgroup==1\n",
    "cond_coverage = {\n",
    "    g: cp_groups_df.loc[cp_groups_df[g]==1, 'covered'].mean()\n",
    "    for g in subgroups\n",
    "}"
   ]
  },
  {
   "cell_type": "code",
   "execution_count": 56,
   "id": "1e348fb1-b9c3-45bc-ba23-f016827a7e0d",
   "metadata": {
    "execution": {
     "iopub.execute_input": "2025-08-05T15:29:14.523567Z",
     "iopub.status.busy": "2025-08-05T15:29:14.522912Z",
     "iopub.status.idle": "2025-08-05T15:29:14.529404Z",
     "shell.execute_reply": "2025-08-05T15:29:14.528620Z"
    },
    "papermill": {
     "duration": 0.020174,
     "end_time": "2025-08-05T15:29:14.530836",
     "exception": false,
     "start_time": "2025-08-05T15:29:14.510662",
     "status": "completed"
    },
    "tags": []
   },
   "outputs": [
    {
     "data": {
      "text/plain": [
       "{'frau1': 0.9097452486858068,\n",
       " 'nongerman': 0.9343176331892438,\n",
       " 'nongerman_male': 0.9478519319102945,\n",
       " 'nongerman_female': 0.9119225037257824}"
      ]
     },
     "execution_count": 56,
     "metadata": {},
     "output_type": "execute_result"
    }
   ],
   "source": [
    "cond_coverage"
   ]
  },
  {
   "cell_type": "code",
   "execution_count": 57,
   "id": "f5093324-c3dd-4d63-bc4c-8d945e5c8bbb",
   "metadata": {
    "execution": {
     "iopub.execute_input": "2025-08-05T15:29:14.555847Z",
     "iopub.status.busy": "2025-08-05T15:29:14.555194Z",
     "iopub.status.idle": "2025-08-05T15:29:14.561035Z",
     "shell.execute_reply": "2025-08-05T15:29:14.560325Z"
    },
    "papermill": {
     "duration": 0.019784,
     "end_time": "2025-08-05T15:29:14.562577",
     "exception": false,
     "start_time": "2025-08-05T15:29:14.542793",
     "status": "completed"
    },
    "tags": []
   },
   "outputs": [],
   "source": [
    "for subgroup, cov in cond_coverage.items():\n",
    "    cp_metrics_df[f\"cov_{subgroup}\"] = cov"
   ]
  },
  {
   "cell_type": "code",
   "execution_count": 58,
   "id": "6e872e10-dbe5-49e8-b554-5030c98ff75d",
   "metadata": {
    "execution": {
     "iopub.execute_input": "2025-08-05T15:29:14.587359Z",
     "iopub.status.busy": "2025-08-05T15:29:14.586709Z",
     "iopub.status.idle": "2025-08-05T15:29:14.601146Z",
     "shell.execute_reply": "2025-08-05T15:29:14.600384Z"
    },
    "papermill": {
     "duration": 0.02777,
     "end_time": "2025-08-05T15:29:14.602618",
     "exception": false,
     "start_time": "2025-08-05T15:29:14.574848",
     "status": "completed"
    },
    "tags": []
   },
   "outputs": [
    {
     "data": {
      "text/html": [
       "<div>\n",
       "<style scoped>\n",
       "    .dataframe tbody tr th:only-of-type {\n",
       "        vertical-align: middle;\n",
       "    }\n",
       "\n",
       "    .dataframe tbody tr th {\n",
       "        vertical-align: top;\n",
       "    }\n",
       "\n",
       "    .dataframe thead th {\n",
       "        text-align: right;\n",
       "    }\n",
       "</style>\n",
       "<table border=\"1\" class=\"dataframe\">\n",
       "  <thead>\n",
       "    <tr style=\"text-align: right;\">\n",
       "      <th></th>\n",
       "      <th>universe_id</th>\n",
       "      <th>universe_training_year</th>\n",
       "      <th>universe_training_size</th>\n",
       "      <th>universe_scale</th>\n",
       "      <th>universe_model</th>\n",
       "      <th>universe_exclude_features</th>\n",
       "      <th>universe_exclude_subgroups</th>\n",
       "      <th>q_hat</th>\n",
       "      <th>coverage</th>\n",
       "      <th>avg_size</th>\n",
       "      <th>cov_frau1</th>\n",
       "      <th>cov_nongerman</th>\n",
       "      <th>cov_nongerman_male</th>\n",
       "      <th>cov_nongerman_female</th>\n",
       "    </tr>\n",
       "  </thead>\n",
       "  <tbody>\n",
       "    <tr>\n",
       "      <th>0</th>\n",
       "      <td>c038d4bd322a00f28804a57ad1747ae5</td>\n",
       "      <td>2014</td>\n",
       "      <td>5k</td>\n",
       "      <td>do-not-scale</td>\n",
       "      <td>penalized_logreg</td>\n",
       "      <td>sex</td>\n",
       "      <td>drop-non-german</td>\n",
       "      <td>0.665226</td>\n",
       "      <td>0.911359</td>\n",
       "      <td>1.213365</td>\n",
       "      <td>0.909745</td>\n",
       "      <td>0.934318</td>\n",
       "      <td>0.947852</td>\n",
       "      <td>0.911923</td>\n",
       "    </tr>\n",
       "  </tbody>\n",
       "</table>\n",
       "</div>"
      ],
      "text/plain": [
       "                        universe_id universe_training_year  \\\n",
       "0  c038d4bd322a00f28804a57ad1747ae5                   2014   \n",
       "\n",
       "  universe_training_size universe_scale    universe_model  \\\n",
       "0                     5k   do-not-scale  penalized_logreg   \n",
       "\n",
       "  universe_exclude_features universe_exclude_subgroups     q_hat  coverage  \\\n",
       "0                       sex            drop-non-german  0.665226  0.911359   \n",
       "\n",
       "   avg_size  cov_frau1  cov_nongerman  cov_nongerman_male  \\\n",
       "0  1.213365   0.909745       0.934318            0.947852   \n",
       "\n",
       "   cov_nongerman_female  \n",
       "0              0.911923  "
      ]
     },
     "execution_count": 58,
     "metadata": {},
     "output_type": "execute_result"
    }
   ],
   "source": [
    "cp_metrics_df"
   ]
  },
  {
   "cell_type": "markdown",
   "id": "33774451",
   "metadata": {
    "papermill": {
     "duration": 0.011124,
     "end_time": "2025-08-05T15:29:14.625740",
     "exception": false,
     "start_time": "2025-08-05T15:29:14.614616",
     "status": "completed"
    },
    "tags": []
   },
   "source": [
    "# (Fairness) Metrics"
   ]
  },
  {
   "cell_type": "code",
   "execution_count": 59,
   "id": "debc5d62",
   "metadata": {
    "execution": {
     "iopub.execute_input": "2025-08-05T15:29:14.649788Z",
     "iopub.status.busy": "2025-08-05T15:29:14.649273Z",
     "iopub.status.idle": "2025-08-05T15:29:14.663113Z",
     "shell.execute_reply": "2025-08-05T15:29:14.662427Z"
    },
    "papermill": {
     "duration": 0.027468,
     "end_time": "2025-08-05T15:29:14.664364",
     "exception": false,
     "start_time": "2025-08-05T15:29:14.636896",
     "status": "completed"
    },
    "tags": []
   },
   "outputs": [],
   "source": [
    "# do I need to include maxdeutsch1.missing?\n",
    "\n",
    "import numpy as np\n",
    "\n",
    "colname_to_bin = \"maxdeutsch1\"\n",
    "majority_value = org_train[colname_to_bin].mode()[0]\n",
    "\n",
    "org_test[\"majmin\"] = np.where(org_test[colname_to_bin] == majority_value, \"majority\", \"minority\")"
   ]
  },
  {
   "cell_type": "code",
   "execution_count": 60,
   "id": "06a50de5",
   "metadata": {
    "execution": {
     "iopub.execute_input": "2025-08-05T15:29:14.689377Z",
     "iopub.status.busy": "2025-08-05T15:29:14.688876Z",
     "iopub.status.idle": "2025-08-05T15:29:17.164432Z",
     "shell.execute_reply": "2025-08-05T15:29:17.163703Z"
    },
    "papermill": {
     "duration": 2.489488,
     "end_time": "2025-08-05T15:29:17.165934",
     "exception": false,
     "start_time": "2025-08-05T15:29:14.676446",
     "status": "completed"
    },
    "tags": []
   },
   "outputs": [],
   "source": [
    "example_universe = universe.copy()\n",
    "example_universe[\"cutoff\"] = example_universe[\"cutoff\"][0]\n",
    "example_universe[\"eval_fairness_grouping\"] = example_universe[\"eval_fairness_grouping\"][0]\n",
    "fairness_dict, metric_frame = universe_analysis.compute_metrics(\n",
    "    example_universe,\n",
    "    y_pred_prob=probs_test,\n",
    "    y_test=y_true,\n",
    "    org_test=org_test,\n",
    ")"
   ]
  },
  {
   "cell_type": "markdown",
   "id": "f95d4e02",
   "metadata": {
    "papermill": {
     "duration": 0.0112,
     "end_time": "2025-08-05T15:29:17.189243",
     "exception": false,
     "start_time": "2025-08-05T15:29:17.178043",
     "status": "completed"
    },
    "tags": []
   },
   "source": [
    "# Overall"
   ]
  },
  {
   "cell_type": "markdown",
   "id": "bdee4871",
   "metadata": {
    "papermill": {
     "duration": 0.011139,
     "end_time": "2025-08-05T15:29:17.215567",
     "exception": false,
     "start_time": "2025-08-05T15:29:17.204428",
     "status": "completed"
    },
    "tags": []
   },
   "source": [
    "Fairness\n",
    "Main fairness target: Equalized Odds. Seems to be a better fit than equal opportunity, since we're not only interested in Y = 1. Seems to be a better fit than demographic parity, since we also care about accuracy, not just equal distribution of preds.\n",
    "\n",
    "Pick column for computation of fairness metrics\n",
    "\n",
    "Performance\n",
    "Overall performance measures, most interesting in relation to the measures split by group below"
   ]
  },
  {
   "cell_type": "code",
   "execution_count": 61,
   "id": "c4e067c6",
   "metadata": {
    "execution": {
     "iopub.execute_input": "2025-08-05T15:29:17.240419Z",
     "iopub.status.busy": "2025-08-05T15:29:17.240163Z",
     "iopub.status.idle": "2025-08-05T15:29:17.247771Z",
     "shell.execute_reply": "2025-08-05T15:29:17.246414Z"
    },
    "papermill": {
     "duration": 0.022466,
     "end_time": "2025-08-05T15:29:17.249800",
     "exception": false,
     "start_time": "2025-08-05T15:29:17.227334",
     "status": "completed"
    },
    "tags": []
   },
   "outputs": [
    {
     "data": {
      "text/plain": [
       "accuracy                   0.217244\n",
       "balanced accuracy          0.532686\n",
       "f1                         0.238772\n",
       "precision                  0.136402\n",
       "false positive rate        0.891614\n",
       "false negative rate        0.043014\n",
       "selection rate             0.900000\n",
       "count                  89710.000000\n",
       "dtype: float64"
      ]
     },
     "execution_count": 61,
     "metadata": {},
     "output_type": "execute_result"
    }
   ],
   "source": [
    "metric_frame.overall"
   ]
  },
  {
   "cell_type": "markdown",
   "id": "e968fe9d",
   "metadata": {
    "papermill": {
     "duration": 0.025574,
     "end_time": "2025-08-05T15:29:17.301461",
     "exception": false,
     "start_time": "2025-08-05T15:29:17.275887",
     "status": "completed"
    },
    "tags": []
   },
   "source": [
    "By Group"
   ]
  },
  {
   "cell_type": "code",
   "execution_count": 62,
   "id": "ec325bce",
   "metadata": {
    "execution": {
     "iopub.execute_input": "2025-08-05T15:29:17.352408Z",
     "iopub.status.busy": "2025-08-05T15:29:17.352045Z",
     "iopub.status.idle": "2025-08-05T15:29:17.369609Z",
     "shell.execute_reply": "2025-08-05T15:29:17.368454Z"
    },
    "papermill": {
     "duration": 0.04498,
     "end_time": "2025-08-05T15:29:17.371628",
     "exception": false,
     "start_time": "2025-08-05T15:29:17.326648",
     "status": "completed"
    },
    "tags": []
   },
   "outputs": [
    {
     "data": {
      "text/html": [
       "<div>\n",
       "<style scoped>\n",
       "    .dataframe tbody tr th:only-of-type {\n",
       "        vertical-align: middle;\n",
       "    }\n",
       "\n",
       "    .dataframe tbody tr th {\n",
       "        vertical-align: top;\n",
       "    }\n",
       "\n",
       "    .dataframe thead th {\n",
       "        text-align: right;\n",
       "    }\n",
       "</style>\n",
       "<table border=\"1\" class=\"dataframe\">\n",
       "  <thead>\n",
       "    <tr style=\"text-align: right;\">\n",
       "      <th></th>\n",
       "      <th>accuracy</th>\n",
       "      <th>balanced accuracy</th>\n",
       "      <th>f1</th>\n",
       "      <th>precision</th>\n",
       "      <th>false positive rate</th>\n",
       "      <th>false negative rate</th>\n",
       "      <th>selection rate</th>\n",
       "      <th>count</th>\n",
       "    </tr>\n",
       "    <tr>\n",
       "      <th>majmin</th>\n",
       "      <th></th>\n",
       "      <th></th>\n",
       "      <th></th>\n",
       "      <th></th>\n",
       "      <th></th>\n",
       "      <th></th>\n",
       "      <th></th>\n",
       "      <th></th>\n",
       "    </tr>\n",
       "  </thead>\n",
       "  <tbody>\n",
       "    <tr>\n",
       "      <th>majority</th>\n",
       "      <td>0.239294</td>\n",
       "      <td>0.540403</td>\n",
       "      <td>0.248078</td>\n",
       "      <td>0.142674</td>\n",
       "      <td>0.868866</td>\n",
       "      <td>0.050328</td>\n",
       "      <td>0.879543</td>\n",
       "      <td>69170.0</td>\n",
       "    </tr>\n",
       "    <tr>\n",
       "      <th>minority</th>\n",
       "      <td>0.142989</td>\n",
       "      <td>0.509229</td>\n",
       "      <td>0.209529</td>\n",
       "      <td>0.117230</td>\n",
       "      <td>0.966762</td>\n",
       "      <td>0.014780</td>\n",
       "      <td>0.968890</td>\n",
       "      <td>20540.0</td>\n",
       "    </tr>\n",
       "  </tbody>\n",
       "</table>\n",
       "</div>"
      ],
      "text/plain": [
       "          accuracy  balanced accuracy        f1  precision  \\\n",
       "majmin                                                       \n",
       "majority  0.239294           0.540403  0.248078   0.142674   \n",
       "minority  0.142989           0.509229  0.209529   0.117230   \n",
       "\n",
       "          false positive rate  false negative rate  selection rate    count  \n",
       "majmin                                                                       \n",
       "majority             0.868866             0.050328        0.879543  69170.0  \n",
       "minority             0.966762             0.014780        0.968890  20540.0  "
      ]
     },
     "execution_count": 62,
     "metadata": {},
     "output_type": "execute_result"
    }
   ],
   "source": [
    "metric_frame.by_group"
   ]
  },
  {
   "cell_type": "code",
   "execution_count": 63,
   "id": "a9ddbe63",
   "metadata": {
    "execution": {
     "iopub.execute_input": "2025-08-05T15:29:17.427932Z",
     "iopub.status.busy": "2025-08-05T15:29:17.427223Z",
     "iopub.status.idle": "2025-08-05T15:29:19.754472Z",
     "shell.execute_reply": "2025-08-05T15:29:19.753553Z"
    },
    "papermill": {
     "duration": 2.357497,
     "end_time": "2025-08-05T15:29:19.756109",
     "exception": false,
     "start_time": "2025-08-05T15:29:17.398612",
     "status": "completed"
    },
    "tags": []
   },
   "outputs": [
    {
     "data": {
      "text/plain": [
       "array([[<Axes: title={'center': 'accuracy'}, xlabel='majmin'>,\n",
       "        <Axes: title={'center': 'balanced accuracy'}, xlabel='majmin'>,\n",
       "        <Axes: title={'center': 'f1'}, xlabel='majmin'>],\n",
       "       [<Axes: title={'center': 'precision'}, xlabel='majmin'>,\n",
       "        <Axes: title={'center': 'false positive rate'}, xlabel='majmin'>,\n",
       "        <Axes: title={'center': 'false negative rate'}, xlabel='majmin'>],\n",
       "       [<Axes: title={'center': 'selection rate'}, xlabel='majmin'>,\n",
       "        <Axes: title={'center': 'count'}, xlabel='majmin'>,\n",
       "        <Axes: xlabel='majmin'>]], dtype=object)"
      ]
     },
     "execution_count": 63,
     "metadata": {},
     "output_type": "execute_result"
    },
    {
     "data": {
      "image/png": "[encoded data removed]",
      "text/plain": [
       "<Figure size 1200x800 with 9 Axes>"
      ]
     },
     "metadata": {},
     "output_type": "display_data"
    }
   ],
   "source": [
    "# In a graphic\n",
    "metric_frame.by_group.plot.bar(\n",
    "    subplots=True,\n",
    "    layout=[3, 3],\n",
    "    legend=False,\n",
    "    figsize=[12, 8],\n",
    "    title=\"Show all metrics\",\n",
    ")"
   ]
  },
  {
   "cell_type": "markdown",
   "id": "f57a0bac",
   "metadata": {
    "papermill": {
     "duration": 0.024918,
     "end_time": "2025-08-05T15:29:19.808512",
     "exception": false,
     "start_time": "2025-08-05T15:29:19.783594",
     "status": "completed"
    },
    "tags": []
   },
   "source": [
    "# Final Output"
   ]
  },
  {
   "cell_type": "code",
   "execution_count": 64,
   "id": "96d280a3",
   "metadata": {
    "execution": {
     "iopub.execute_input": "2025-08-05T15:29:19.860853Z",
     "iopub.status.busy": "2025-08-05T15:29:19.860000Z",
     "iopub.status.idle": "2025-08-05T15:29:19.868402Z",
     "shell.execute_reply": "2025-08-05T15:29:19.867472Z"
    },
    "papermill": {
     "duration": 0.036649,
     "end_time": "2025-08-05T15:29:19.869947",
     "exception": false,
     "start_time": "2025-08-05T15:29:19.833298",
     "status": "completed"
    },
    "tags": []
   },
   "outputs": [
    {
     "data": {
      "text/plain": [
       "4"
      ]
     },
     "execution_count": 64,
     "metadata": {},
     "output_type": "execute_result"
    }
   ],
   "source": [
    "sub_universes = universe_analysis.generate_sub_universes()\n",
    "len(sub_universes)"
   ]
  },
  {
   "cell_type": "code",
   "execution_count": 65,
   "id": "92adf7ba",
   "metadata": {
    "execution": {
     "iopub.execute_input": "2025-08-05T15:29:19.922442Z",
     "iopub.status.busy": "2025-08-05T15:29:19.921734Z",
     "iopub.status.idle": "2025-08-05T15:29:19.927730Z",
     "shell.execute_reply": "2025-08-05T15:29:19.926735Z"
    },
    "papermill": {
     "duration": 0.034702,
     "end_time": "2025-08-05T15:29:19.929649",
     "exception": false,
     "start_time": "2025-08-05T15:29:19.894947",
     "status": "completed"
    },
    "tags": []
   },
   "outputs": [],
   "source": [
    "def filter_sub_universe_data(sub_universe, org_test):\n",
    "    # Keep all rows — no filtering\n",
    "    keep_rows_mask = np.ones(org_test.shape[0], dtype=bool)\n",
    "\n",
    "    print(f\"[INFO] Keeping all rows: {keep_rows_mask.sum()} rows retained.\")\n",
    "    return keep_rows_mask"
   ]
  },
  {
   "cell_type": "code",
   "execution_count": 66,
   "id": "4a759155",
   "metadata": {
    "execution": {
     "iopub.execute_input": "2025-08-05T15:29:19.983262Z",
     "iopub.status.busy": "2025-08-05T15:29:19.982846Z",
     "iopub.status.idle": "2025-08-05T15:29:28.850551Z",
     "shell.execute_reply": "2025-08-05T15:29:28.849630Z"
    },
    "papermill": {
     "duration": 8.895652,
     "end_time": "2025-08-05T15:29:28.852242",
     "exception": false,
     "start_time": "2025-08-05T15:29:19.956590",
     "status": "completed"
    },
    "tags": []
   },
   "outputs": [
    {
     "name": "stdout",
     "output_type": "stream",
     "text": [
      "Stopping execution_time clock.\n",
      "[INFO] Keeping all rows: 89710 rows retained.\n"
     ]
    },
    {
     "name": "stdout",
     "output_type": "stream",
     "text": [
      "[INFO] Keeping all rows: 89710 rows retained.\n"
     ]
    },
    {
     "name": "stdout",
     "output_type": "stream",
     "text": [
      "[INFO] Keeping all rows: 89710 rows retained.\n"
     ]
    },
    {
     "name": "stdout",
     "output_type": "stream",
     "text": [
      "[INFO] Keeping all rows: 89710 rows retained.\n"
     ]
    },
    {
     "data": {
      "text/html": [
       "<div>\n",
       "<style scoped>\n",
       "    .dataframe tbody tr th:only-of-type {\n",
       "        vertical-align: middle;\n",
       "    }\n",
       "\n",
       "    .dataframe tbody tr th {\n",
       "        vertical-align: top;\n",
       "    }\n",
       "\n",
       "    .dataframe thead th {\n",
       "        text-align: right;\n",
       "    }\n",
       "</style>\n",
       "<table border=\"1\" class=\"dataframe\">\n",
       "  <thead>\n",
       "    <tr style=\"text-align: right;\">\n",
       "      <th></th>\n",
       "      <th>run_no</th>\n",
       "      <th>universe_id</th>\n",
       "      <th>universe_settings</th>\n",
       "      <th>execution_time</th>\n",
       "      <th>test_size_n</th>\n",
       "      <th>test_size_frac</th>\n",
       "      <th>fair_main_equalized_odds_difference</th>\n",
       "      <th>fair_main_equalized_odds_ratio</th>\n",
       "      <th>fair_main_demographic_parity_difference</th>\n",
       "      <th>fair_main_demographic_parity_ratio</th>\n",
       "      <th>...</th>\n",
       "      <th>perf_grp_precision_0</th>\n",
       "      <th>perf_grp_precision_1</th>\n",
       "      <th>perf_grp_false positive rate_0</th>\n",
       "      <th>perf_grp_false positive rate_1</th>\n",
       "      <th>perf_grp_false negative rate_0</th>\n",
       "      <th>perf_grp_false negative rate_1</th>\n",
       "      <th>perf_grp_selection rate_0</th>\n",
       "      <th>perf_grp_selection rate_1</th>\n",
       "      <th>perf_grp_count_0</th>\n",
       "      <th>perf_grp_count_1</th>\n",
       "    </tr>\n",
       "  </thead>\n",
       "  <tbody>\n",
       "    <tr>\n",
       "      <th>0</th>\n",
       "      <td>15</td>\n",
       "      <td>c038d4bd322a00f28804a57ad1747ae5</td>\n",
       "      <td>{\"cutoff\": \"quantile_0.1\", \"eval_fairness_grou...</td>\n",
       "      <td>23.884976</td>\n",
       "      <td>89710</td>\n",
       "      <td>1.0</td>\n",
       "      <td>0.097896</td>\n",
       "      <td>0.898738</td>\n",
       "      <td>0.089347</td>\n",
       "      <td>0.907784</td>\n",
       "      <td>...</td>\n",
       "      <td>NaN</td>\n",
       "      <td>NaN</td>\n",
       "      <td>NaN</td>\n",
       "      <td>NaN</td>\n",
       "      <td>NaN</td>\n",
       "      <td>NaN</td>\n",
       "      <td>NaN</td>\n",
       "      <td>NaN</td>\n",
       "      <td>NaN</td>\n",
       "      <td>NaN</td>\n",
       "    </tr>\n",
       "    <tr>\n",
       "      <th>0</th>\n",
       "      <td>15</td>\n",
       "      <td>c038d4bd322a00f28804a57ad1747ae5</td>\n",
       "      <td>{\"cutoff\": \"quantile_0.1\", \"eval_fairness_grou...</td>\n",
       "      <td>23.884976</td>\n",
       "      <td>89710</td>\n",
       "      <td>1.0</td>\n",
       "      <td>0.097896</td>\n",
       "      <td>0.898738</td>\n",
       "      <td>0.089347</td>\n",
       "      <td>0.907784</td>\n",
       "      <td>...</td>\n",
       "      <td>0.117230</td>\n",
       "      <td>0.142674</td>\n",
       "      <td>0.966762</td>\n",
       "      <td>0.868866</td>\n",
       "      <td>0.01478</td>\n",
       "      <td>0.050328</td>\n",
       "      <td>0.968890</td>\n",
       "      <td>0.879543</td>\n",
       "      <td>20540.0</td>\n",
       "      <td>69170.0</td>\n",
       "    </tr>\n",
       "    <tr>\n",
       "      <th>0</th>\n",
       "      <td>15</td>\n",
       "      <td>c038d4bd322a00f28804a57ad1747ae5</td>\n",
       "      <td>{\"cutoff\": \"quantile_0.25\", \"eval_fairness_gro...</td>\n",
       "      <td>23.884976</td>\n",
       "      <td>89710</td>\n",
       "      <td>1.0</td>\n",
       "      <td>0.221166</td>\n",
       "      <td>0.754309</td>\n",
       "      <td>0.202821</td>\n",
       "      <td>0.776229</td>\n",
       "      <td>...</td>\n",
       "      <td>NaN</td>\n",
       "      <td>NaN</td>\n",
       "      <td>NaN</td>\n",
       "      <td>NaN</td>\n",
       "      <td>NaN</td>\n",
       "      <td>NaN</td>\n",
       "      <td>NaN</td>\n",
       "      <td>NaN</td>\n",
       "      <td>NaN</td>\n",
       "      <td>NaN</td>\n",
       "    </tr>\n",
       "    <tr>\n",
       "      <th>0</th>\n",
       "      <td>15</td>\n",
       "      <td>c038d4bd322a00f28804a57ad1747ae5</td>\n",
       "      <td>{\"cutoff\": \"quantile_0.25\", \"eval_fairness_gro...</td>\n",
       "      <td>23.884976</td>\n",
       "      <td>89710</td>\n",
       "      <td>1.0</td>\n",
       "      <td>0.221166</td>\n",
       "      <td>0.754309</td>\n",
       "      <td>0.202821</td>\n",
       "      <td>0.776229</td>\n",
       "      <td>...</td>\n",
       "      <td>0.121341</td>\n",
       "      <td>0.162417</td>\n",
       "      <td>0.900176</td>\n",
       "      <td>0.679010</td>\n",
       "      <td>0.04603</td>\n",
       "      <td>0.135230</td>\n",
       "      <td>0.906378</td>\n",
       "      <td>0.703556</td>\n",
       "      <td>20540.0</td>\n",
       "      <td>69170.0</td>\n",
       "    </tr>\n",
       "  </tbody>\n",
       "</table>\n",
       "<p>4 rows × 50 columns</p>\n",
       "</div>"
      ],
      "text/plain": [
       "  run_no                       universe_id  \\\n",
       "0     15  c038d4bd322a00f28804a57ad1747ae5   \n",
       "0     15  c038d4bd322a00f28804a57ad1747ae5   \n",
       "0     15  c038d4bd322a00f28804a57ad1747ae5   \n",
       "0     15  c038d4bd322a00f28804a57ad1747ae5   \n",
       "\n",
       "                                   universe_settings  execution_time  \\\n",
       "0  {\"cutoff\": \"quantile_0.1\", \"eval_fairness_grou...       23.884976   \n",
       "0  {\"cutoff\": \"quantile_0.1\", \"eval_fairness_grou...       23.884976   \n",
       "0  {\"cutoff\": \"quantile_0.25\", \"eval_fairness_gro...       23.884976   \n",
       "0  {\"cutoff\": \"quantile_0.25\", \"eval_fairness_gro...       23.884976   \n",
       "\n",
       "   test_size_n  test_size_frac  fair_main_equalized_odds_difference  \\\n",
       "0        89710             1.0                             0.097896   \n",
       "0        89710             1.0                             0.097896   \n",
       "0        89710             1.0                             0.221166   \n",
       "0        89710             1.0                             0.221166   \n",
       "\n",
       "   fair_main_equalized_odds_ratio  fair_main_demographic_parity_difference  \\\n",
       "0                        0.898738                                 0.089347   \n",
       "0                        0.898738                                 0.089347   \n",
       "0                        0.754309                                 0.202821   \n",
       "0                        0.754309                                 0.202821   \n",
       "\n",
       "   fair_main_demographic_parity_ratio  ...  perf_grp_precision_0  \\\n",
       "0                            0.907784  ...                   NaN   \n",
       "0                            0.907784  ...              0.117230   \n",
       "0                            0.776229  ...                   NaN   \n",
       "0                            0.776229  ...              0.121341   \n",
       "\n",
       "   perf_grp_precision_1  perf_grp_false positive rate_0  \\\n",
       "0                   NaN                             NaN   \n",
       "0              0.142674                        0.966762   \n",
       "0                   NaN                             NaN   \n",
       "0              0.162417                        0.900176   \n",
       "\n",
       "   perf_grp_false positive rate_1  perf_grp_false negative rate_0  \\\n",
       "0                             NaN                             NaN   \n",
       "0                        0.868866                         0.01478   \n",
       "0                             NaN                             NaN   \n",
       "0                        0.679010                         0.04603   \n",
       "\n",
       "   perf_grp_false negative rate_1  perf_grp_selection rate_0  \\\n",
       "0                             NaN                        NaN   \n",
       "0                        0.050328                   0.968890   \n",
       "0                             NaN                        NaN   \n",
       "0                        0.135230                   0.906378   \n",
       "\n",
       "   perf_grp_selection rate_1  perf_grp_count_0  perf_grp_count_1  \n",
       "0                        NaN               NaN               NaN  \n",
       "0                   0.879543           20540.0           69170.0  \n",
       "0                        NaN               NaN               NaN  \n",
       "0                   0.703556           20540.0           69170.0  \n",
       "\n",
       "[4 rows x 50 columns]"
      ]
     },
     "execution_count": 66,
     "metadata": {},
     "output_type": "execute_result"
    }
   ],
   "source": [
    "final_output = universe_analysis.generate_final_output(\n",
    "    y_pred_prob=probs_test,\n",
    "    y_test=y_true,\n",
    "    org_test=org_test,\n",
    "    filter_data=filter_sub_universe_data,\n",
    "    cp_metrics_df=cp_metrics_df,\n",
    "    save=True,\n",
    ")\n",
    "final_output"
   ]
  }
 ],
 "metadata": {
  "celltoolbar": "Tags",
  "kernelspec": {
   "display_name": "Python (CMA Fairness)",
   "language": "python",
   "name": "cma_fair_env"
  },
  "language_info": {
   "codemirror_mode": {
    "name": "ipython",
    "version": 3
   },
   "file_extension": ".py",
   "mimetype": "text/x-python",
   "name": "python",
   "nbconvert_exporter": "python",
   "pygments_lexer": "ipython3",
   "version": "3.10.12"
  },
  "papermill": {
   "default_parameters": {},
   "duration": 36.680225,
   "end_time": "2025-08-05T15:29:29.487428",
   "environment_variables": {},
   "exception": null,
   "input_path": "universe_analysis.ipynb",
   "output_path": "output/runs/15/notebooks/m_15-c038d4bd322a00f28804a57ad1747ae5.ipynb",
   "parameters": {
    "output_dir": "output",
    "run_no": "15",
    "seed": "2023",
    "universe": "{\"cutoff\": [\"quantile_0.1\", \"quantile_0.25\"], \"eval_fairness_grouping\": [\"majority-minority\", \"nationality-all\"], \"exclude_features\": \"sex\", \"exclude_subgroups\": \"drop-non-german\", \"model\": \"penalized_logreg\", \"scale\": \"do-not-scale\", \"training_size\": \"5k\", \"training_year\": \"2014\"}",
    "universe_id": "c038d4bd322a00f28804a57ad1747ae5"
   },
   "start_time": "2025-08-05T15:28:52.807203",
   "version": "2.6.0"
  }
 },
 "nbformat": 4,
 "nbformat_minor": 5
}