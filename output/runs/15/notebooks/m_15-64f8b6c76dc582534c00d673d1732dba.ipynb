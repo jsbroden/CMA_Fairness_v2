{
 "cells": [
  {
   "cell_type": "code",
   "execution_count": 1,
   "id": "f159f837-637b-42ba-96b5-ec9a68c44524",
   "metadata": {
    "execution": {
     "iopub.execute_input": "2025-08-05T16:12:36.639412Z",
     "iopub.status.busy": "2025-08-05T16:12:36.638895Z",
     "iopub.status.idle": "2025-08-05T16:12:36.654979Z",
     "shell.execute_reply": "2025-08-05T16:12:36.653766Z"
    },
    "papermill": {
     "duration": 0.040692,
     "end_time": "2025-08-05T16:12:36.658059",
     "exception": false,
     "start_time": "2025-08-05T16:12:36.617367",
     "status": "completed"
    },
    "tags": []
   },
   "outputs": [
    {
     "name": "stdout",
     "output_type": "stream",
     "text": [
      "/dss/dsshome1/0C/ra93lal2/cma/CMA_Fairness_v2\n"
     ]
    },
    {
     "name": "stderr",
     "output_type": "stream",
     "text": [
      "/dss/dsshome1/0C/ra93lal2/.local/share/virtualenvs/CMA_Fairness_v2-3j10GkSs/lib/python3.10/site-packages/IPython/core/magics/osm.py:393: UserWarning: This is now an optional IPython functionality, using bookmarks requires you to install the `pickleshare` library.\n",
      "  bkms = self.shell.db.get('bookmarks', {})\n",
      "/dss/dsshome1/0C/ra93lal2/.local/share/virtualenvs/CMA_Fairness_v2-3j10GkSs/lib/python3.10/site-packages/IPython/core/magics/osm.py:417: UserWarning: This is now an optional IPython functionality, setting dhist requires you to install the `pickleshare` library.\n",
      "  self.shell.db['dhist'] = compress_dhist(dhist)[-100:]\n"
     ]
    }
   ],
   "source": [
    "%cd ~/cma/CMA_Fairness_v2"
   ]
  },
  {
   "cell_type": "markdown",
   "id": "de2603b9",
   "metadata": {
    "papermill": {
     "duration": 0.019578,
     "end_time": "2025-08-05T16:12:36.698673",
     "exception": false,
     "start_time": "2025-08-05T16:12:36.679095",
     "status": "completed"
    },
    "tags": []
   },
   "source": [
    "The following cell holds the definition of our parameters, these values can be overriden by rendering the with e.g. the following command:\n",
    "\n",
    "papermill -p alpha 0.2 -p ratio 0.3 universe_analysis.ipynb output/test_run.ipynb"
   ]
  },
  {
   "cell_type": "code",
   "execution_count": 2,
   "id": "a80968a0-40bb-4fa9-85ef-2d5eefb01975",
   "metadata": {
    "execution": {
     "iopub.execute_input": "2025-08-05T16:12:36.740353Z",
     "iopub.status.busy": "2025-08-05T16:12:36.739789Z",
     "iopub.status.idle": "2025-08-05T16:12:36.745910Z",
     "shell.execute_reply": "2025-08-05T16:12:36.744841Z"
    },
    "papermill": {
     "duration": 0.029885,
     "end_time": "2025-08-05T16:12:36.747905",
     "exception": false,
     "start_time": "2025-08-05T16:12:36.718020",
     "status": "completed"
    },
    "tags": []
   },
   "outputs": [
    {
     "name": "stdout",
     "output_type": "stream",
     "text": [
      "Current working directory: /dss/dsshome1/0C/ra93lal2/cma/CMA_Fairness_v2\n"
     ]
    }
   ],
   "source": [
    "import os\n",
    "print(\"Current working directory:\", os.getcwd())"
   ]
  },
  {
   "cell_type": "code",
   "execution_count": 3,
   "id": "2dce4c03",
   "metadata": {
    "execution": {
     "iopub.execute_input": "2025-08-05T16:12:36.792465Z",
     "iopub.status.busy": "2025-08-05T16:12:36.791874Z",
     "iopub.status.idle": "2025-08-05T16:12:36.799390Z",
     "shell.execute_reply": "2025-08-05T16:12:36.798045Z"
    },
    "papermill": {
     "duration": 0.034021,
     "end_time": "2025-08-05T16:12:36.801349",
     "exception": false,
     "start_time": "2025-08-05T16:12:36.767328",
     "status": "completed"
    },
    "tags": [
     "parameters"
    ]
   },
   "outputs": [],
   "source": [
    "run_no = 0\n",
    "universe_id = \"test\"\n",
    "universe = {\n",
    "    \"training_size\": \"25k\", # \"25k\", \"5k\", \"1k\"\n",
    "    \"training_year\": \"2014\", # \"2014\", \"2012_14\", \"2010_14\"\n",
    "    \"scale\": \"scale\", # \"scale\", \"do-not-scale\",\n",
    "    \"model\": \"elasticnet\", # \"logreg\", \"penalized_logreg\", \"rf\", \"gbm\", \"elasticnet\"\n",
    "    \"cutoff\": [\"quantile_0.15\", \"quantile_0.30\"],\n",
    "    \"exclude_features\": \"age\", # \"none\", \"nationality\", \"sex\", \"nationality-sex\", \"age\"\n",
    "    \"exclude_subgroups\": \"keep-all\", # \"keep-all\", \"drop-non-german\"\n",
    "    \"eval_fairness_grouping\": [\"majority-minority\", \"nationality-all\"]\n",
    "}\n",
    "\n",
    "output_dir=\"./output\"\n",
    "seed=0"
   ]
  },
  {
   "cell_type": "code",
   "execution_count": 4,
   "id": "e7cb8413",
   "metadata": {
    "execution": {
     "iopub.execute_input": "2025-08-05T16:12:36.848167Z",
     "iopub.status.busy": "2025-08-05T16:12:36.847204Z",
     "iopub.status.idle": "2025-08-05T16:12:36.854258Z",
     "shell.execute_reply": "2025-08-05T16:12:36.853090Z"
    },
    "papermill": {
     "duration": 0.031064,
     "end_time": "2025-08-05T16:12:36.856227",
     "exception": false,
     "start_time": "2025-08-05T16:12:36.825163",
     "status": "completed"
    },
    "tags": [
     "injected-parameters"
    ]
   },
   "outputs": [],
   "source": [
    "# Parameters\n",
    "universe_id = \"64f8b6c76dc582534c00d673d1732dba\"\n",
    "run_no = \"15\"\n",
    "universe = \"{\\\"cutoff\\\": [\\\"quantile_0.1\\\", \\\"quantile_0.25\\\"], \\\"eval_fairness_grouping\\\": [\\\"majority-minority\\\", \\\"nationality-all\\\"], \\\"exclude_features\\\": \\\"nationality\\\", \\\"exclude_subgroups\\\": \\\"drop-non-german\\\", \\\"model\\\": \\\"gbm\\\", \\\"scale\\\": \\\"do-not-scale\\\", \\\"training_size\\\": \\\"1k\\\", \\\"training_year\\\": \\\"2014\\\"}\"\n",
    "output_dir = \"output\"\n",
    "seed = \"2023\"\n"
   ]
  },
  {
   "cell_type": "code",
   "execution_count": 5,
   "id": "1650acaf",
   "metadata": {
    "execution": {
     "iopub.execute_input": "2025-08-05T16:12:36.901965Z",
     "iopub.status.busy": "2025-08-05T16:12:36.900734Z",
     "iopub.status.idle": "2025-08-05T16:12:36.906760Z",
     "shell.execute_reply": "2025-08-05T16:12:36.905592Z"
    },
    "papermill": {
     "duration": 0.031181,
     "end_time": "2025-08-05T16:12:36.908763",
     "exception": false,
     "start_time": "2025-08-05T16:12:36.877582",
     "status": "completed"
    },
    "tags": []
   },
   "outputs": [],
   "source": [
    "import json\n",
    "if isinstance(universe, str):\n",
    "    universe = json.loads(universe)"
   ]
  },
  {
   "cell_type": "code",
   "execution_count": 6,
   "id": "16620c48",
   "metadata": {
    "execution": {
     "iopub.execute_input": "2025-08-05T16:12:36.956996Z",
     "iopub.status.busy": "2025-08-05T16:12:36.956336Z",
     "iopub.status.idle": "2025-08-05T16:12:37.009889Z",
     "shell.execute_reply": "2025-08-05T16:12:37.008784Z"
    },
    "papermill": {
     "duration": 0.080062,
     "end_time": "2025-08-05T16:12:37.011612",
     "exception": false,
     "start_time": "2025-08-05T16:12:36.931550",
     "status": "completed"
    },
    "tags": []
   },
   "outputs": [],
   "source": [
    "# Auto-reload the custom package\n",
    "%load_ext autoreload\n",
    "%autoreload 1\n",
    "%aimport fairness_multiverse"
   ]
  },
  {
   "cell_type": "code",
   "execution_count": 7,
   "id": "01c5c9f3",
   "metadata": {
    "execution": {
     "iopub.execute_input": "2025-08-05T16:12:37.057000Z",
     "iopub.status.busy": "2025-08-05T16:12:37.056569Z",
     "iopub.status.idle": "2025-08-05T16:12:39.390314Z",
     "shell.execute_reply": "2025-08-05T16:12:39.389135Z"
    },
    "papermill": {
     "duration": 2.359967,
     "end_time": "2025-08-05T16:12:39.392703",
     "exception": false,
     "start_time": "2025-08-05T16:12:37.032736",
     "status": "completed"
    },
    "tags": []
   },
   "outputs": [],
   "source": [
    "from fairness_multiverse.universe import UniverseAnalysis\n",
    "\n",
    "universe_analysis = UniverseAnalysis(\n",
    "    run_no = run_no,\n",
    "    universe_id = universe_id,\n",
    "    universe = universe,\n",
    "    output_dir=output_dir,\n",
    ")"
   ]
  },
  {
   "cell_type": "code",
   "execution_count": 8,
   "id": "106241f5",
   "metadata": {
    "execution": {
     "iopub.execute_input": "2025-08-05T16:12:39.436880Z",
     "iopub.status.busy": "2025-08-05T16:12:39.436283Z",
     "iopub.status.idle": "2025-08-05T16:12:39.444328Z",
     "shell.execute_reply": "2025-08-05T16:12:39.443320Z"
    },
    "papermill": {
     "duration": 0.031719,
     "end_time": "2025-08-05T16:12:39.446145",
     "exception": false,
     "start_time": "2025-08-05T16:12:39.414426",
     "status": "completed"
    },
    "tags": []
   },
   "outputs": [
    {
     "name": "stdout",
     "output_type": "stream",
     "text": [
      "Using Seed: 2023\n"
     ]
    }
   ],
   "source": [
    "import numpy as np\n",
    "parsed_seed = int(seed)\n",
    "np.random.seed(parsed_seed)\n",
    "print(f\"Using Seed: {parsed_seed}\")"
   ]
  },
  {
   "cell_type": "markdown",
   "id": "e0ebdc57",
   "metadata": {
    "papermill": {
     "duration": 0.021048,
     "end_time": "2025-08-05T16:12:39.488728",
     "exception": false,
     "start_time": "2025-08-05T16:12:39.467680",
     "status": "completed"
    },
    "tags": []
   },
   "source": [
    "# Loading Data"
   ]
  },
  {
   "cell_type": "code",
   "execution_count": 9,
   "id": "f0496b8a",
   "metadata": {
    "execution": {
     "iopub.execute_input": "2025-08-05T16:12:39.532712Z",
     "iopub.status.busy": "2025-08-05T16:12:39.531669Z",
     "iopub.status.idle": "2025-08-05T16:12:54.135003Z",
     "shell.execute_reply": "2025-08-05T16:12:54.133570Z"
    },
    "papermill": {
     "duration": 14.627316,
     "end_time": "2025-08-05T16:12:54.136983",
     "exception": false,
     "start_time": "2025-08-05T16:12:39.509667",
     "status": "completed"
    },
    "tags": []
   },
   "outputs": [
    {
     "name": "stdout",
     "output_type": "stream",
     "text": [
      "Loading SIAB data from cache: data/siab_cached.csv.gz\n"
     ]
    },
    {
     "name": "stdout",
     "output_type": "stream",
     "text": [
      "(643690, 164)\n"
     ]
    }
   ],
   "source": [
    "from pathlib import Path\n",
    "import pandas as pd\n",
    "\n",
    "# File paths\n",
    "raw_file = Path(\"data/raw/siab.csv\")\n",
    "cache_file = Path(\"data/siab_cached.csv.gz\")\n",
    "\n",
    "# Ensure cache directory exists\n",
    "cache_file.parent.mkdir(parents=True, exist_ok=True)\n",
    "\n",
    "# Load with simple caching\n",
    "if cache_file.exists():\n",
    "    print(f\"Loading SIAB data from cache: {cache_file}\")\n",
    "    siab = pd.read_csv(cache_file, compression='gzip')\n",
    "else:\n",
    "    print(f\"Cache not found. Reading raw SIAB data: {raw_file}\")\n",
    "    siab = pd.read_csv(raw_file)\n",
    "    siab.to_csv(cache_file, index=False, compression='gzip')\n",
    "    print(f\"Cached SIAB data to: {cache_file}\")\n",
    "\n",
    "print(siab.shape)"
   ]
  },
  {
   "cell_type": "code",
   "execution_count": 10,
   "id": "db0ca512-5f53-4dba-abdb-a2888bca41ba",
   "metadata": {
    "execution": {
     "iopub.execute_input": "2025-08-05T16:12:54.186793Z",
     "iopub.status.busy": "2025-08-05T16:12:54.185752Z",
     "iopub.status.idle": "2025-08-05T16:12:54.193113Z",
     "shell.execute_reply": "2025-08-05T16:12:54.192026Z"
    },
    "papermill": {
     "duration": 0.034116,
     "end_time": "2025-08-05T16:12:54.195114",
     "exception": false,
     "start_time": "2025-08-05T16:12:54.160998",
     "status": "completed"
    },
    "tags": []
   },
   "outputs": [],
   "source": [
    "#siab"
   ]
  },
  {
   "cell_type": "markdown",
   "id": "997051c5-15bd-4b69-9786-c3001a3ce484",
   "metadata": {
    "papermill": {
     "duration": 0.021858,
     "end_time": "2025-08-05T16:12:54.239450",
     "exception": false,
     "start_time": "2025-08-05T16:12:54.217592",
     "status": "completed"
    },
    "tags": []
   },
   "source": [
    "# Splitting Data and Setting Training Data Size"
   ]
  },
  {
   "cell_type": "code",
   "execution_count": 11,
   "id": "aea9c6ef-6f46-42c8-85eb-5a62025c1508",
   "metadata": {
    "execution": {
     "iopub.execute_input": "2025-08-05T16:12:54.288156Z",
     "iopub.status.busy": "2025-08-05T16:12:54.287290Z",
     "iopub.status.idle": "2025-08-05T16:12:54.525623Z",
     "shell.execute_reply": "2025-08-05T16:12:54.524395Z"
    },
    "papermill": {
     "duration": 0.265688,
     "end_time": "2025-08-05T16:12:54.528055",
     "exception": false,
     "start_time": "2025-08-05T16:12:54.262367",
     "status": "completed"
    },
    "tags": []
   },
   "outputs": [],
   "source": [
    "from fairness_multiverse.universe import sample_by_year_size\n",
    "\n",
    "siab_train = sample_by_year_size(siab,\n",
    "                               training_year=universe[\"training_year\"],\n",
    "                               training_size=universe[\"training_size\"])"
   ]
  },
  {
   "cell_type": "code",
   "execution_count": 12,
   "id": "8d3afb32-789d-442c-8d5d-9f5aa8dd2eed",
   "metadata": {
    "execution": {
     "iopub.execute_input": "2025-08-05T16:12:54.575099Z",
     "iopub.status.busy": "2025-08-05T16:12:54.573992Z",
     "iopub.status.idle": "2025-08-05T16:12:54.580147Z",
     "shell.execute_reply": "2025-08-05T16:12:54.578783Z"
    },
    "papermill": {
     "duration": 0.036119,
     "end_time": "2025-08-05T16:12:54.586951",
     "exception": false,
     "start_time": "2025-08-05T16:12:54.550832",
     "status": "completed"
    },
    "tags": []
   },
   "outputs": [],
   "source": [
    "#siab_train.shape"
   ]
  },
  {
   "cell_type": "code",
   "execution_count": 13,
   "id": "d582db68-1a4c-47fb-84fc-08518dc1975a",
   "metadata": {
    "execution": {
     "iopub.execute_input": "2025-08-05T16:12:54.634535Z",
     "iopub.status.busy": "2025-08-05T16:12:54.634123Z",
     "iopub.status.idle": "2025-08-05T16:12:54.639160Z",
     "shell.execute_reply": "2025-08-05T16:12:54.638157Z"
    },
    "papermill": {
     "duration": 0.031056,
     "end_time": "2025-08-05T16:12:54.641172",
     "exception": false,
     "start_time": "2025-08-05T16:12:54.610116",
     "status": "completed"
    },
    "tags": []
   },
   "outputs": [],
   "source": [
    "#display(siab_train.groupby(\"year\").size())"
   ]
  },
  {
   "cell_type": "code",
   "execution_count": 14,
   "id": "a561edb4-d032-42cb-8256-22eac1111c64",
   "metadata": {
    "execution": {
     "iopub.execute_input": "2025-08-05T16:12:54.688687Z",
     "iopub.status.busy": "2025-08-05T16:12:54.687620Z",
     "iopub.status.idle": "2025-08-05T16:12:54.933457Z",
     "shell.execute_reply": "2025-08-05T16:12:54.932157Z"
    },
    "papermill": {
     "duration": 0.271715,
     "end_time": "2025-08-05T16:12:54.935834",
     "exception": false,
     "start_time": "2025-08-05T16:12:54.664119",
     "status": "completed"
    },
    "tags": []
   },
   "outputs": [],
   "source": [
    "#siab_train = siab_s[siab_s.year < 2015]\n",
    "siab_calib = siab[siab.year == 2015]\n",
    "siab_test = siab[siab.year == 2016]"
   ]
  },
  {
   "cell_type": "code",
   "execution_count": 15,
   "id": "472de16f-c3db-4916-846b-1f0de9cf1746",
   "metadata": {
    "execution": {
     "iopub.execute_input": "2025-08-05T16:12:54.984313Z",
     "iopub.status.busy": "2025-08-05T16:12:54.983693Z",
     "iopub.status.idle": "2025-08-05T16:12:54.991904Z",
     "shell.execute_reply": "2025-08-05T16:12:54.990727Z"
    },
    "papermill": {
     "duration": 0.034153,
     "end_time": "2025-08-05T16:12:54.993910",
     "exception": false,
     "start_time": "2025-08-05T16:12:54.959757",
     "status": "completed"
    },
    "tags": []
   },
   "outputs": [],
   "source": [
    "X_train = siab_train.iloc[:,4:164]\n",
    "y_train = siab_train.iloc[:, [3]]"
   ]
  },
  {
   "cell_type": "code",
   "execution_count": 16,
   "id": "828c96af-f43a-4ed6-ba47-8ac73a47d56c",
   "metadata": {
    "execution": {
     "iopub.execute_input": "2025-08-05T16:12:55.042265Z",
     "iopub.status.busy": "2025-08-05T16:12:55.041383Z",
     "iopub.status.idle": "2025-08-05T16:12:55.101569Z",
     "shell.execute_reply": "2025-08-05T16:12:55.100193Z"
    },
    "papermill": {
     "duration": 0.086412,
     "end_time": "2025-08-05T16:12:55.103860",
     "exception": false,
     "start_time": "2025-08-05T16:12:55.017448",
     "status": "completed"
    },
    "tags": []
   },
   "outputs": [],
   "source": [
    "X_calib = siab_calib.iloc[:,4:164]\n",
    "y_calib = siab_calib.iloc[:, [3]]"
   ]
  },
  {
   "cell_type": "code",
   "execution_count": 17,
   "id": "c34be9c3-6bd6-476e-acd3-845840e303be",
   "metadata": {
    "execution": {
     "iopub.execute_input": "2025-08-05T16:12:55.152147Z",
     "iopub.status.busy": "2025-08-05T16:12:55.151107Z",
     "iopub.status.idle": "2025-08-05T16:12:55.211151Z",
     "shell.execute_reply": "2025-08-05T16:12:55.210220Z"
    },
    "papermill": {
     "duration": 0.085266,
     "end_time": "2025-08-05T16:12:55.212836",
     "exception": false,
     "start_time": "2025-08-05T16:12:55.127570",
     "status": "completed"
    },
    "tags": []
   },
   "outputs": [],
   "source": [
    "X_test = siab_test.iloc[:,4:164]\n",
    "y_true = siab_test.iloc[:, [3]]"
   ]
  },
  {
   "cell_type": "code",
   "execution_count": 18,
   "id": "e6c733c5",
   "metadata": {
    "execution": {
     "iopub.execute_input": "2025-08-05T16:12:55.237780Z",
     "iopub.status.busy": "2025-08-05T16:12:55.237067Z",
     "iopub.status.idle": "2025-08-05T16:12:55.339819Z",
     "shell.execute_reply": "2025-08-05T16:12:55.338527Z"
    },
    "papermill": {
     "duration": 0.117074,
     "end_time": "2025-08-05T16:12:55.342077",
     "exception": false,
     "start_time": "2025-08-05T16:12:55.225003",
     "status": "completed"
    },
    "tags": []
   },
   "outputs": [],
   "source": [
    "# Auxiliary data needed downstream in the pipeline\n",
    "\n",
    "org_train = X_train.copy()\n",
    "org_test = X_test.copy()\n",
    "org_calib = X_calib.copy()"
   ]
  },
  {
   "cell_type": "markdown",
   "id": "0a4a1b33",
   "metadata": {
    "papermill": {
     "duration": 0.023788,
     "end_time": "2025-08-05T16:12:55.392363",
     "exception": false,
     "start_time": "2025-08-05T16:12:55.368575",
     "status": "completed"
    },
    "tags": []
   },
   "source": [
    "# Preprocessing Data"
   ]
  },
  {
   "cell_type": "code",
   "execution_count": 19,
   "id": "ca879031",
   "metadata": {
    "execution": {
     "iopub.execute_input": "2025-08-05T16:12:55.439852Z",
     "iopub.status.busy": "2025-08-05T16:12:55.439205Z",
     "iopub.status.idle": "2025-08-05T16:12:55.446875Z",
     "shell.execute_reply": "2025-08-05T16:12:55.445511Z"
    },
    "papermill": {
     "duration": 0.033841,
     "end_time": "2025-08-05T16:12:55.448942",
     "exception": false,
     "start_time": "2025-08-05T16:12:55.415101",
     "status": "completed"
    },
    "tags": []
   },
   "outputs": [],
   "source": [
    "# EXCLUDE PROTECTED FEATURES\n",
    "# ----------------------\n",
    "# \"exclude_features\": \"none\", # \"nationality\", \"sex\", \"nationality-sex\"\n",
    "\n",
    "excluded_features = universe[\"exclude_features\"].split(\"-\") # split, e.g.: \"nationality-sex\" -> [\"nationality\", \"sex\"]\n",
    "excluded_features_dictionary = {\n",
    "    \"nationality\": [\"maxdeutsch1\", \"maxdeutsch.Missing.\"],\n",
    "    \"sex\": [\"frau1\"],\n",
    "    \"age\": [\"age\"],\n",
    "}"
   ]
  },
  {
   "cell_type": "code",
   "execution_count": 20,
   "id": "b745ac60",
   "metadata": {
    "execution": {
     "iopub.execute_input": "2025-08-05T16:12:55.496458Z",
     "iopub.status.busy": "2025-08-05T16:12:55.495653Z",
     "iopub.status.idle": "2025-08-05T16:12:55.501884Z",
     "shell.execute_reply": "2025-08-05T16:12:55.500796Z"
    },
    "papermill": {
     "duration": 0.031901,
     "end_time": "2025-08-05T16:12:55.503765",
     "exception": false,
     "start_time": "2025-08-05T16:12:55.471864",
     "status": "completed"
    },
    "tags": []
   },
   "outputs": [],
   "source": [
    "# Code nice names to column names\n",
    "\n",
    "excluded_features_columns = [\n",
    "    excluded_features_dictionary[f] for f in excluded_features if len(f) > 0 and f != \"none\"\n",
    "]"
   ]
  },
  {
   "cell_type": "code",
   "execution_count": 21,
   "id": "f84f73a2",
   "metadata": {
    "execution": {
     "iopub.execute_input": "2025-08-05T16:12:55.550743Z",
     "iopub.status.busy": "2025-08-05T16:12:55.550282Z",
     "iopub.status.idle": "2025-08-05T16:12:55.558110Z",
     "shell.execute_reply": "2025-08-05T16:12:55.557077Z"
    },
    "papermill": {
     "duration": 0.033583,
     "end_time": "2025-08-05T16:12:55.560243",
     "exception": false,
     "start_time": "2025-08-05T16:12:55.526660",
     "status": "completed"
    },
    "tags": []
   },
   "outputs": [],
   "source": [
    "from utils import flatten_once\n",
    "\n",
    "excluded_features_columns = flatten_once(excluded_features_columns)"
   ]
  },
  {
   "cell_type": "code",
   "execution_count": 22,
   "id": "884dea22",
   "metadata": {
    "execution": {
     "iopub.execute_input": "2025-08-05T16:12:55.607167Z",
     "iopub.status.busy": "2025-08-05T16:12:55.606746Z",
     "iopub.status.idle": "2025-08-05T16:12:55.618259Z",
     "shell.execute_reply": "2025-08-05T16:12:55.616841Z"
    },
    "papermill": {
     "duration": 0.037153,
     "end_time": "2025-08-05T16:12:55.620209",
     "exception": false,
     "start_time": "2025-08-05T16:12:55.583056",
     "status": "completed"
    },
    "tags": []
   },
   "outputs": [
    {
     "name": "stdout",
     "output_type": "stream",
     "text": [
      "Dropping features: ['maxdeutsch1', 'maxdeutsch.Missing.']\n"
     ]
    }
   ],
   "source": [
    "if len(excluded_features_columns) > 0:\n",
    "    print(f\"Dropping features: {excluded_features_columns}\")\n",
    "    X_train.drop(excluded_features_columns, axis=1, inplace=True)"
   ]
  },
  {
   "cell_type": "code",
   "execution_count": 23,
   "id": "95ab8b16",
   "metadata": {
    "execution": {
     "iopub.execute_input": "2025-08-05T16:12:55.667689Z",
     "iopub.status.busy": "2025-08-05T16:12:55.667042Z",
     "iopub.status.idle": "2025-08-05T16:12:55.725372Z",
     "shell.execute_reply": "2025-08-05T16:12:55.724516Z"
    },
    "papermill": {
     "duration": 0.08411,
     "end_time": "2025-08-05T16:12:55.727367",
     "exception": false,
     "start_time": "2025-08-05T16:12:55.643257",
     "status": "completed"
    },
    "tags": []
   },
   "outputs": [
    {
     "name": "stdout",
     "output_type": "stream",
     "text": [
      "Dropping features: ['maxdeutsch1', 'maxdeutsch.Missing.']\n"
     ]
    }
   ],
   "source": [
    "if len(excluded_features_columns) > 0:\n",
    "    print(f\"Dropping features: {excluded_features_columns}\")\n",
    "    X_test.drop(excluded_features_columns, axis=1, inplace=True)"
   ]
  },
  {
   "cell_type": "code",
   "execution_count": 24,
   "id": "1853aaf5-fb9f-46cb-a2b5-8ea4ae2237e4",
   "metadata": {
    "execution": {
     "iopub.execute_input": "2025-08-05T16:12:55.776433Z",
     "iopub.status.busy": "2025-08-05T16:12:55.775913Z",
     "iopub.status.idle": "2025-08-05T16:12:55.830642Z",
     "shell.execute_reply": "2025-08-05T16:12:55.829491Z"
    },
    "papermill": {
     "duration": 0.081103,
     "end_time": "2025-08-05T16:12:55.832677",
     "exception": false,
     "start_time": "2025-08-05T16:12:55.751574",
     "status": "completed"
    },
    "tags": []
   },
   "outputs": [
    {
     "name": "stdout",
     "output_type": "stream",
     "text": [
      "Dropping features: ['maxdeutsch1', 'maxdeutsch.Missing.']\n"
     ]
    }
   ],
   "source": [
    "if len(excluded_features_columns) > 0:\n",
    "    print(f\"Dropping features: {excluded_features_columns}\")\n",
    "    X_calib.drop(excluded_features_columns, axis=1, inplace=True)"
   ]
  },
  {
   "cell_type": "code",
   "execution_count": 25,
   "id": "76c4dc6d",
   "metadata": {
    "execution": {
     "iopub.execute_input": "2025-08-05T16:12:55.882478Z",
     "iopub.status.busy": "2025-08-05T16:12:55.881973Z",
     "iopub.status.idle": "2025-08-05T16:12:55.886673Z",
     "shell.execute_reply": "2025-08-05T16:12:55.885786Z"
    },
    "papermill": {
     "duration": 0.030878,
     "end_time": "2025-08-05T16:12:55.888476",
     "exception": false,
     "start_time": "2025-08-05T16:12:55.857598",
     "status": "completed"
    },
    "tags": []
   },
   "outputs": [],
   "source": [
    "# EXCLUDE CERTAIN SUBGROUPS\n",
    "# ----------------------\n",
    "\n",
    "mode = universe.get(\"exclude_subgroups\", \"keep-all\") \n",
    "# Fetches the exclude_subgroups setting from the universe dict.\n",
    "# Defaults to \"keep-all\" if the key is missing."
   ]
  },
  {
   "cell_type": "code",
   "execution_count": 26,
   "id": "21994072",
   "metadata": {
    "execution": {
     "iopub.execute_input": "2025-08-05T16:12:55.937691Z",
     "iopub.status.busy": "2025-08-05T16:12:55.936995Z",
     "iopub.status.idle": "2025-08-05T16:12:55.944760Z",
     "shell.execute_reply": "2025-08-05T16:12:55.943672Z"
    },
    "papermill": {
     "duration": 0.034583,
     "end_time": "2025-08-05T16:12:55.946912",
     "exception": false,
     "start_time": "2025-08-05T16:12:55.912329",
     "status": "completed"
    },
    "tags": []
   },
   "outputs": [],
   "source": [
    "if mode == \"keep-all\":\n",
    "    keep_mask = pd.Series(True, index=org_train.index)\n",
    "\n",
    "# org_train contains the original feature columns from features_org (in Simson)\n",
    "# features_org contains unprocessed features, for me X_train at beginning ???\n",
    "# For keep-all, creates a boolean Series (keep_mask) of all True, so no rows are removed.\n",
    "\n",
    "elif mode == \"drop-non-german\":\n",
    "    keep_mask = org_train[\"maxdeutsch1\"] == 1 # ??? what about missing values?\n",
    "\n",
    "else:\n",
    "    raise ValueError(f\"Unsupported mode for exclude_subgroups: {mode}\")"
   ]
  },
  {
   "cell_type": "code",
   "execution_count": 27,
   "id": "71651440",
   "metadata": {
    "execution": {
     "iopub.execute_input": "2025-08-05T16:12:55.996015Z",
     "iopub.status.busy": "2025-08-05T16:12:55.995426Z",
     "iopub.status.idle": "2025-08-05T16:12:56.004323Z",
     "shell.execute_reply": "2025-08-05T16:12:56.002700Z"
    },
    "papermill": {
     "duration": 0.035369,
     "end_time": "2025-08-05T16:12:56.006186",
     "exception": false,
     "start_time": "2025-08-05T16:12:55.970817",
     "status": "completed"
    },
    "tags": []
   },
   "outputs": [
    {
     "name": "stdout",
     "output_type": "stream",
     "text": [
      "Dropping 147 rows (14.70%) where mode='drop-non-german'\n"
     ]
    }
   ],
   "source": [
    "n_drop = (~keep_mask).sum() # Calculates how many rows are set to be dropped\n",
    "if n_drop > 0:\n",
    "    pct = n_drop / len(keep_mask) * 100\n",
    "    print(f\"Dropping {n_drop} rows ({pct:.2f}%) where mode='{mode}'\")"
   ]
  },
  {
   "cell_type": "code",
   "execution_count": 28,
   "id": "5fb8eee5",
   "metadata": {
    "execution": {
     "iopub.execute_input": "2025-08-05T16:12:56.055134Z",
     "iopub.status.busy": "2025-08-05T16:12:56.054454Z",
     "iopub.status.idle": "2025-08-05T16:12:56.061693Z",
     "shell.execute_reply": "2025-08-05T16:12:56.060621Z"
    },
    "papermill": {
     "duration": 0.033613,
     "end_time": "2025-08-05T16:12:56.063549",
     "exception": false,
     "start_time": "2025-08-05T16:12:56.029936",
     "status": "completed"
    },
    "tags": []
   },
   "outputs": [],
   "source": [
    "X_train = X_train[keep_mask]"
   ]
  },
  {
   "cell_type": "code",
   "execution_count": 29,
   "id": "b202bb3a",
   "metadata": {
    "execution": {
     "iopub.execute_input": "2025-08-05T16:12:56.113052Z",
     "iopub.status.busy": "2025-08-05T16:12:56.112401Z",
     "iopub.status.idle": "2025-08-05T16:12:56.118915Z",
     "shell.execute_reply": "2025-08-05T16:12:56.117711Z"
    },
    "papermill": {
     "duration": 0.033329,
     "end_time": "2025-08-05T16:12:56.120969",
     "exception": false,
     "start_time": "2025-08-05T16:12:56.087640",
     "status": "completed"
    },
    "tags": []
   },
   "outputs": [],
   "source": [
    "y_train = y_train[keep_mask]"
   ]
  },
  {
   "cell_type": "markdown",
   "id": "493e2ac3",
   "metadata": {
    "papermill": {
     "duration": 0.024212,
     "end_time": "2025-08-05T16:12:56.171824",
     "exception": false,
     "start_time": "2025-08-05T16:12:56.147612",
     "status": "completed"
    },
    "tags": []
   },
   "source": [
    "# Model Training"
   ]
  },
  {
   "cell_type": "code",
   "execution_count": 30,
   "id": "679e1268",
   "metadata": {
    "execution": {
     "iopub.execute_input": "2025-08-05T16:12:56.222267Z",
     "iopub.status.busy": "2025-08-05T16:12:56.221750Z",
     "iopub.status.idle": "2025-08-05T16:12:56.344097Z",
     "shell.execute_reply": "2025-08-05T16:12:56.342885Z"
    },
    "papermill": {
     "duration": 0.150577,
     "end_time": "2025-08-05T16:12:56.346385",
     "exception": false,
     "start_time": "2025-08-05T16:12:56.195808",
     "status": "completed"
    },
    "tags": []
   },
   "outputs": [],
   "source": [
    "from sklearn.linear_model import LogisticRegression\n",
    "from sklearn.ensemble import GradientBoostingClassifier, RandomForestClassifier\n",
    "\n",
    "if (universe[\"model\"] == \"logreg\"):\n",
    "    model = LogisticRegression() #penalty=\"none\", solver=\"newton-cg\", max_iter=1) # include random_state=19 ?\n",
    "elif (universe[\"model\"] == \"penalized_logreg\"):\n",
    "    model = LogisticRegression(penalty=\"l2\", C=0.1) #, solver=\"newton-cg\", max_iter=1)\n",
    "elif (universe[\"model\"] == \"rf\"):\n",
    "    model = RandomForestClassifier() # n_estimators=100, n_jobs=-1\n",
    "elif (universe[\"model\"] == \"gbm\"):\n",
    "    model = GradientBoostingClassifier()\n",
    "elif (universe[\"model\"] == \"elasticnet\"):\n",
    "    model = LogisticRegression(penalty = 'elasticnet', solver = 'saga', l1_ratio = 0.5) # max_iter=5000\n",
    "else:\n",
    "    raise \"Unsupported universe.model\""
   ]
  },
  {
   "cell_type": "code",
   "execution_count": 31,
   "id": "0cc8f744",
   "metadata": {
    "execution": {
     "iopub.execute_input": "2025-08-05T16:12:56.398142Z",
     "iopub.status.busy": "2025-08-05T16:12:56.397332Z",
     "iopub.status.idle": "2025-08-05T16:12:56.405211Z",
     "shell.execute_reply": "2025-08-05T16:12:56.404093Z"
    },
    "papermill": {
     "duration": 0.035649,
     "end_time": "2025-08-05T16:12:56.407207",
     "exception": false,
     "start_time": "2025-08-05T16:12:56.371558",
     "status": "completed"
    },
    "tags": []
   },
   "outputs": [],
   "source": [
    "import numpy as np\n",
    "from sklearn.pipeline import Pipeline\n",
    "from sklearn.preprocessing import StandardScaler\n",
    "\n",
    "model = Pipeline([\n",
    "    #(\"continuous_processor\", continuous_processor),\n",
    "    #(\"categorical_preprocessor\", categorical_preprocessor),\n",
    "    (\"scale\", StandardScaler() if universe[\"scale\"] == \"scale\" else None), \n",
    "    (\"model\", model),\n",
    "])"
   ]
  },
  {
   "cell_type": "code",
   "execution_count": 32,
   "id": "9442c04d",
   "metadata": {
    "execution": {
     "iopub.execute_input": "2025-08-05T16:12:56.460891Z",
     "iopub.status.busy": "2025-08-05T16:12:56.459848Z",
     "iopub.status.idle": "2025-08-05T16:12:57.639096Z",
     "shell.execute_reply": "2025-08-05T16:12:57.638002Z"
    },
    "papermill": {
     "duration": 1.208919,
     "end_time": "2025-08-05T16:12:57.641326",
     "exception": false,
     "start_time": "2025-08-05T16:12:56.432407",
     "status": "completed"
    },
    "tags": []
   },
   "outputs": [
    {
     "data": {
      "text/html": [
       "<style>#sk-container-id-1 {color: black;background-color: white;}#sk-container-id-1 pre{padding: 0;}#sk-container-id-1 div.sk-toggleable {background-color: white;}#sk-container-id-1 label.sk-toggleable__label {cursor: pointer;display: block;width: 100%;margin-bottom: 0;padding: 0.3em;box-sizing: border-box;text-align: center;}#sk-container-id-1 label.sk-toggleable__label-arrow:before {content: \"▸\";float: left;margin-right: 0.25em;color: #696969;}#sk-container-id-1 label.sk-toggleable__label-arrow:hover:before {color: black;}#sk-container-id-1 div.sk-estimator:hover label.sk-toggleable__label-arrow:before {color: black;}#sk-container-id-1 div.sk-toggleable__content {max-height: 0;max-width: 0;overflow: hidden;text-align: left;background-color: #f0f8ff;}#sk-container-id-1 div.sk-toggleable__content pre {margin: 0.2em;color: black;border-radius: 0.25em;background-color: #f0f8ff;}#sk-container-id-1 input.sk-toggleable__control:checked~div.sk-toggleable__content {max-height: 200px;max-width: 100%;overflow: auto;}#sk-container-id-1 input.sk-toggleable__control:checked~label.sk-toggleable__label-arrow:before {content: \"▾\";}#sk-container-id-1 div.sk-estimator input.sk-toggleable__control:checked~label.sk-toggleable__label {background-color: #d4ebff;}#sk-container-id-1 div.sk-label input.sk-toggleable__control:checked~label.sk-toggleable__label {background-color: #d4ebff;}#sk-container-id-1 input.sk-hidden--visually {border: 0;clip: rect(1px 1px 1px 1px);clip: rect(1px, 1px, 1px, 1px);height: 1px;margin: -1px;overflow: hidden;padding: 0;position: absolute;width: 1px;}#sk-container-id-1 div.sk-estimator {font-family: monospace;background-color: #f0f8ff;border: 1px dotted black;border-radius: 0.25em;box-sizing: border-box;margin-bottom: 0.5em;}#sk-container-id-1 div.sk-estimator:hover {background-color: #d4ebff;}#sk-container-id-1 div.sk-parallel-item::after {content: \"\";width: 100%;border-bottom: 1px solid gray;flex-grow: 1;}#sk-container-id-1 div.sk-label:hover label.sk-toggleable__label {background-color: #d4ebff;}#sk-container-id-1 div.sk-serial::before {content: \"\";position: absolute;border-left: 1px solid gray;box-sizing: border-box;top: 0;bottom: 0;left: 50%;z-index: 0;}#sk-container-id-1 div.sk-serial {display: flex;flex-direction: column;align-items: center;background-color: white;padding-right: 0.2em;padding-left: 0.2em;position: relative;}#sk-container-id-1 div.sk-item {position: relative;z-index: 1;}#sk-container-id-1 div.sk-parallel {display: flex;align-items: stretch;justify-content: center;background-color: white;position: relative;}#sk-container-id-1 div.sk-item::before, #sk-container-id-1 div.sk-parallel-item::before {content: \"\";position: absolute;border-left: 1px solid gray;box-sizing: border-box;top: 0;bottom: 0;left: 50%;z-index: -1;}#sk-container-id-1 div.sk-parallel-item {display: flex;flex-direction: column;z-index: 1;position: relative;background-color: white;}#sk-container-id-1 div.sk-parallel-item:first-child::after {align-self: flex-end;width: 50%;}#sk-container-id-1 div.sk-parallel-item:last-child::after {align-self: flex-start;width: 50%;}#sk-container-id-1 div.sk-parallel-item:only-child::after {width: 0;}#sk-container-id-1 div.sk-dashed-wrapped {border: 1px dashed gray;margin: 0 0.4em 0.5em 0.4em;box-sizing: border-box;padding-bottom: 0.4em;background-color: white;}#sk-container-id-1 div.sk-label label {font-family: monospace;font-weight: bold;display: inline-block;line-height: 1.2em;}#sk-container-id-1 div.sk-label-container {text-align: center;}#sk-container-id-1 div.sk-container {/* jupyter's `normalize.less` sets `[hidden] { display: none; }` but bootstrap.min.css set `[hidden] { display: none !important; }` so we also need the `!important` here to be able to override the default hidden behavior on the sphinx rendered scikit-learn.org. See: https://github.com/scikit-learn/scikit-learn/issues/21755 */display: inline-block !important;position: relative;}#sk-container-id-1 div.sk-text-repr-fallback {display: none;}</style><div id=\"sk-container-id-1\" class=\"sk-top-container\"><div class=\"sk-text-repr-fallback\"><pre>Pipeline(steps=[(&#x27;scale&#x27;, None), (&#x27;model&#x27;, GradientBoostingClassifier())])</pre><b>In a Jupyter environment, please rerun this cell to show the HTML representation or trust the notebook. <br />On GitHub, the HTML representation is unable to render, please try loading this page with nbviewer.org.</b></div><div class=\"sk-container\" hidden><div class=\"sk-item sk-dashed-wrapped\"><div class=\"sk-label-container\"><div class=\"sk-label sk-toggleable\"><input class=\"sk-toggleable__control sk-hidden--visually\" id=\"sk-estimator-id-1\" type=\"checkbox\" ><label for=\"sk-estimator-id-1\" class=\"sk-toggleable__label sk-toggleable__label-arrow\">Pipeline</label><div class=\"sk-toggleable__content\"><pre>Pipeline(steps=[(&#x27;scale&#x27;, None), (&#x27;model&#x27;, GradientBoostingClassifier())])</pre></div></div></div><div class=\"sk-serial\"><div class=\"sk-item\"><div class=\"sk-estimator sk-toggleable\"><input class=\"sk-toggleable__control sk-hidden--visually\" id=\"sk-estimator-id-2\" type=\"checkbox\" ><label for=\"sk-estimator-id-2\" class=\"sk-toggleable__label sk-toggleable__label-arrow\">None</label><div class=\"sk-toggleable__content\"><pre>None</pre></div></div></div><div class=\"sk-item\"><div class=\"sk-estimator sk-toggleable\"><input class=\"sk-toggleable__control sk-hidden--visually\" id=\"sk-estimator-id-3\" type=\"checkbox\" ><label for=\"sk-estimator-id-3\" class=\"sk-toggleable__label sk-toggleable__label-arrow\">GradientBoostingClassifier</label><div class=\"sk-toggleable__content\"><pre>GradientBoostingClassifier()</pre></div></div></div></div></div></div></div>"
      ],
      "text/plain": [
       "Pipeline(steps=[('scale', None), ('model', GradientBoostingClassifier())])"
      ]
     },
     "execution_count": 32,
     "metadata": {},
     "output_type": "execute_result"
    }
   ],
   "source": [
    "model.fit(X_train, y_train.values.ravel())"
   ]
  },
  {
   "cell_type": "code",
   "execution_count": 33,
   "id": "af59f8c0",
   "metadata": {
    "execution": {
     "iopub.execute_input": "2025-08-05T16:12:57.692651Z",
     "iopub.status.busy": "2025-08-05T16:12:57.691755Z",
     "iopub.status.idle": "2025-08-05T16:12:57.698321Z",
     "shell.execute_reply": "2025-08-05T16:12:57.697018Z"
    },
    "papermill": {
     "duration": 0.033583,
     "end_time": "2025-08-05T16:12:57.700433",
     "exception": false,
     "start_time": "2025-08-05T16:12:57.666850",
     "status": "completed"
    },
    "tags": []
   },
   "outputs": [],
   "source": [
    "from fairness_multiverse.universe import predict_w_threshold"
   ]
  },
  {
   "cell_type": "code",
   "execution_count": 34,
   "id": "a7cf2e16",
   "metadata": {
    "execution": {
     "iopub.execute_input": "2025-08-05T16:12:57.755317Z",
     "iopub.status.busy": "2025-08-05T16:12:57.754180Z",
     "iopub.status.idle": "2025-08-05T16:12:58.242152Z",
     "shell.execute_reply": "2025-08-05T16:12:58.240954Z"
    },
    "papermill": {
     "duration": 0.517756,
     "end_time": "2025-08-05T16:12:58.244301",
     "exception": false,
     "start_time": "2025-08-05T16:12:57.726545",
     "status": "completed"
    },
    "tags": []
   },
   "outputs": [
    {
     "data": {
      "text/plain": [
       "0.8484449894103222"
      ]
     },
     "execution_count": 34,
     "metadata": {},
     "output_type": "execute_result"
    }
   ],
   "source": [
    "probs_test = model.predict_proba(X_test)\n",
    "\n",
    "'''\n",
    "Below code returns a boolean array (or binary 0/1 array depending on how it’s used) where each element \n",
    "is True if the probability of class 1 is greater than or equal to the threshold, and False otherwise.\n",
    "'''\n",
    "y_pred_default = predict_w_threshold(probs_test, 0.5)\n",
    "\n",
    "from sklearn.metrics import accuracy_score\n",
    "\n",
    "# Naive prediction\n",
    "accuracy_score(y_true = y_true, y_pred = y_pred_default)"
   ]
  },
  {
   "cell_type": "code",
   "execution_count": 35,
   "id": "081964c3",
   "metadata": {
    "execution": {
     "iopub.execute_input": "2025-08-05T16:12:58.306841Z",
     "iopub.status.busy": "2025-08-05T16:12:58.306285Z",
     "iopub.status.idle": "2025-08-05T16:12:58.967145Z",
     "shell.execute_reply": "2025-08-05T16:12:58.966078Z"
    },
    "papermill": {
     "duration": 0.693221,
     "end_time": "2025-08-05T16:12:58.969215",
     "exception": false,
     "start_time": "2025-08-05T16:12:58.275994",
     "status": "completed"
    },
    "tags": []
   },
   "outputs": [
    {
     "data": {
      "text/plain": [
       "array([0, 0, 0, ..., 0, 0, 0])"
      ]
     },
     "execution_count": 35,
     "metadata": {},
     "output_type": "execute_result"
    }
   ],
   "source": [
    "model.predict(X_test)"
   ]
  },
  {
   "cell_type": "markdown",
   "id": "56c9705b",
   "metadata": {
    "papermill": {
     "duration": 0.025263,
     "end_time": "2025-08-05T16:12:59.020671",
     "exception": false,
     "start_time": "2025-08-05T16:12:58.995408",
     "status": "completed"
    },
    "tags": []
   },
   "source": [
    "# Conformal Prediction"
   ]
  },
  {
   "cell_type": "code",
   "execution_count": 36,
   "id": "160ec6ff",
   "metadata": {
    "execution": {
     "iopub.execute_input": "2025-08-05T16:12:59.071447Z",
     "iopub.status.busy": "2025-08-05T16:12:59.070888Z",
     "iopub.status.idle": "2025-08-05T16:12:59.076863Z",
     "shell.execute_reply": "2025-08-05T16:12:59.075605Z"
    },
    "papermill": {
     "duration": 0.034441,
     "end_time": "2025-08-05T16:12:59.079358",
     "exception": false,
     "start_time": "2025-08-05T16:12:59.044917",
     "status": "completed"
    },
    "tags": []
   },
   "outputs": [],
   "source": [
    "# Miscoverage level for conformal prediction (10% allowed error rate => 90% target coverage)\n",
    "alpha = 0.1"
   ]
  },
  {
   "cell_type": "code",
   "execution_count": 37,
   "id": "eadf4555-3dd3-440e-8e35-f82a4ad9f855",
   "metadata": {
    "execution": {
     "iopub.execute_input": "2025-08-05T16:12:59.129684Z",
     "iopub.status.busy": "2025-08-05T16:12:59.128853Z",
     "iopub.status.idle": "2025-08-05T16:12:59.703396Z",
     "shell.execute_reply": "2025-08-05T16:12:59.702129Z"
    },
    "papermill": {
     "duration": 0.602588,
     "end_time": "2025-08-05T16:12:59.705819",
     "exception": false,
     "start_time": "2025-08-05T16:12:59.103231",
     "status": "completed"
    },
    "tags": []
   },
   "outputs": [],
   "source": [
    "probs_calib = model.predict_proba(X_calib)"
   ]
  },
  {
   "cell_type": "code",
   "execution_count": 38,
   "id": "2ed93547-6d5d-4983-9b36-1ecb300da49a",
   "metadata": {
    "execution": {
     "iopub.execute_input": "2025-08-05T16:12:59.759662Z",
     "iopub.status.busy": "2025-08-05T16:12:59.759113Z",
     "iopub.status.idle": "2025-08-05T16:12:59.766664Z",
     "shell.execute_reply": "2025-08-05T16:12:59.765468Z"
    },
    "papermill": {
     "duration": 0.036217,
     "end_time": "2025-08-05T16:12:59.768803",
     "exception": false,
     "start_time": "2025-08-05T16:12:59.732586",
     "status": "completed"
    },
    "tags": []
   },
   "outputs": [],
   "source": [
    "y_calib = y_calib.values.ravel().astype(int)"
   ]
  },
  {
   "cell_type": "code",
   "execution_count": 39,
   "id": "65d1320d-f588-4b38-9072-62af1ae97f7d",
   "metadata": {
    "execution": {
     "iopub.execute_input": "2025-08-05T16:12:59.824009Z",
     "iopub.status.busy": "2025-08-05T16:12:59.823275Z",
     "iopub.status.idle": "2025-08-05T16:12:59.831253Z",
     "shell.execute_reply": "2025-08-05T16:12:59.830176Z"
    },
    "papermill": {
     "duration": 0.038059,
     "end_time": "2025-08-05T16:12:59.833161",
     "exception": false,
     "start_time": "2025-08-05T16:12:59.795102",
     "status": "completed"
    },
    "tags": []
   },
   "outputs": [],
   "source": [
    "from fairness_multiverse.conformal import compute_nc_scores\n",
    "\n",
    "# Compute nonconformity scores on calibration set (1 - probability of true class)\n",
    "nc_scores = compute_nc_scores(probs_calib, y_calib)"
   ]
  },
  {
   "cell_type": "code",
   "execution_count": 40,
   "id": "df3b8ca3-53b7-43d5-9667-7c85da7aeda2",
   "metadata": {
    "execution": {
     "iopub.execute_input": "2025-08-05T16:12:59.888751Z",
     "iopub.status.busy": "2025-08-05T16:12:59.887658Z",
     "iopub.status.idle": "2025-08-05T16:12:59.896051Z",
     "shell.execute_reply": "2025-08-05T16:12:59.894298Z"
    },
    "papermill": {
     "duration": 0.039319,
     "end_time": "2025-08-05T16:12:59.898027",
     "exception": false,
     "start_time": "2025-08-05T16:12:59.858708",
     "status": "completed"
    },
    "tags": []
   },
   "outputs": [],
   "source": [
    "from fairness_multiverse.conformal import find_threshold\n",
    "\n",
    "# Find conformal threshold q_hat for the given alpha (split conformal method)\n",
    "q_hat = find_threshold(nc_scores, alpha)"
   ]
  },
  {
   "cell_type": "code",
   "execution_count": 41,
   "id": "4d29e6c1-0ef6-4aa4-b8fe-4fe79b0d033a",
   "metadata": {
    "execution": {
     "iopub.execute_input": "2025-08-05T16:12:59.955480Z",
     "iopub.status.busy": "2025-08-05T16:12:59.954677Z",
     "iopub.status.idle": "2025-08-05T16:12:59.963033Z",
     "shell.execute_reply": "2025-08-05T16:12:59.961957Z"
    },
    "papermill": {
     "duration": 0.040649,
     "end_time": "2025-08-05T16:12:59.964905",
     "exception": false,
     "start_time": "2025-08-05T16:12:59.924256",
     "status": "completed"
    },
    "tags": []
   },
   "outputs": [
    {
     "data": {
      "text/plain": [
       "0.7581364830612696"
      ]
     },
     "execution_count": 41,
     "metadata": {},
     "output_type": "execute_result"
    }
   ],
   "source": [
    "q_hat"
   ]
  },
  {
   "cell_type": "code",
   "execution_count": 42,
   "id": "92460794-cdac-4be2-ba28-f28c0515a6fb",
   "metadata": {
    "execution": {
     "iopub.execute_input": "2025-08-05T16:13:00.019140Z",
     "iopub.status.busy": "2025-08-05T16:13:00.018420Z",
     "iopub.status.idle": "2025-08-05T16:13:01.466772Z",
     "shell.execute_reply": "2025-08-05T16:13:01.465535Z"
    },
    "papermill": {
     "duration": 1.477409,
     "end_time": "2025-08-05T16:13:01.468499",
     "exception": false,
     "start_time": "2025-08-05T16:12:59.991090",
     "status": "completed"
    },
    "tags": []
   },
   "outputs": [],
   "source": [
    "from fairness_multiverse.conformal import predict_conformal_sets\n",
    "\n",
    "# Generate prediction sets for each test example\n",
    "pred_sets = predict_conformal_sets(model, X_test, q_hat)"
   ]
  },
  {
   "cell_type": "code",
   "execution_count": 43,
   "id": "d90c9a65-e6db-4f5d-80cd-e68fb7e46829",
   "metadata": {
    "execution": {
     "iopub.execute_input": "2025-08-05T16:13:01.499136Z",
     "iopub.status.busy": "2025-08-05T16:13:01.498649Z",
     "iopub.status.idle": "2025-08-05T16:13:01.504572Z",
     "shell.execute_reply": "2025-08-05T16:13:01.503352Z"
    },
    "papermill": {
     "duration": 0.022074,
     "end_time": "2025-08-05T16:13:01.506614",
     "exception": false,
     "start_time": "2025-08-05T16:13:01.484540",
     "status": "completed"
    },
    "tags": []
   },
   "outputs": [],
   "source": [
    "y_true = y_true.squeeze()"
   ]
  },
  {
   "cell_type": "code",
   "execution_count": 44,
   "id": "3a58a54a-1e68-46b9-927a-df01f18aebc8",
   "metadata": {
    "execution": {
     "iopub.execute_input": "2025-08-05T16:13:01.557367Z",
     "iopub.status.busy": "2025-08-05T16:13:01.556804Z",
     "iopub.status.idle": "2025-08-05T16:13:02.570403Z",
     "shell.execute_reply": "2025-08-05T16:13:02.569455Z"
    },
    "papermill": {
     "duration": 1.040439,
     "end_time": "2025-08-05T16:13:02.572098",
     "exception": false,
     "start_time": "2025-08-05T16:13:01.531659",
     "status": "completed"
    },
    "tags": []
   },
   "outputs": [],
   "source": [
    "from fairness_multiverse.conformal import evaluate_sets\n",
    "\n",
    "# Evaluate coverage and average set size on test data\n",
    "metrics = evaluate_sets(pred_sets, y_true)"
   ]
  },
  {
   "cell_type": "markdown",
   "id": "2b569c12-9aaa-4c88-98c9-bbcd0cf3ebb8",
   "metadata": {
    "papermill": {
     "duration": 0.013443,
     "end_time": "2025-08-05T16:13:02.599654",
     "exception": false,
     "start_time": "2025-08-05T16:13:02.586211",
     "status": "completed"
    },
    "tags": []
   },
   "source": [
    "# CP Metrics"
   ]
  },
  {
   "cell_type": "code",
   "execution_count": 45,
   "id": "5ce0a5cb-201f-45a0-ade5-94c7f0bd6095",
   "metadata": {
    "execution": {
     "iopub.execute_input": "2025-08-05T16:13:02.627763Z",
     "iopub.status.busy": "2025-08-05T16:13:02.626921Z",
     "iopub.status.idle": "2025-08-05T16:13:02.634387Z",
     "shell.execute_reply": "2025-08-05T16:13:02.633502Z"
    },
    "papermill": {
     "duration": 0.023295,
     "end_time": "2025-08-05T16:13:02.636064",
     "exception": false,
     "start_time": "2025-08-05T16:13:02.612769",
     "status": "completed"
    },
    "tags": []
   },
   "outputs": [
    {
     "data": {
      "text/plain": [
       "{'coverage': 0.9088507412774496, 'avg_size': 1.157786199977706}"
      ]
     },
     "execution_count": 45,
     "metadata": {},
     "output_type": "execute_result"
    }
   ],
   "source": [
    "metrics"
   ]
  },
  {
   "cell_type": "code",
   "execution_count": 46,
   "id": "9b9a838d-31c9-430b-ae14-12baee460d17",
   "metadata": {
    "execution": {
     "iopub.execute_input": "2025-08-05T16:13:02.666667Z",
     "iopub.status.busy": "2025-08-05T16:13:02.665835Z",
     "iopub.status.idle": "2025-08-05T16:13:02.672674Z",
     "shell.execute_reply": "2025-08-05T16:13:02.671552Z"
    },
    "papermill": {
     "duration": 0.024125,
     "end_time": "2025-08-05T16:13:02.674265",
     "exception": false,
     "start_time": "2025-08-05T16:13:02.650140",
     "status": "completed"
    },
    "tags": []
   },
   "outputs": [],
   "source": [
    "example_universe = universe.copy()\n",
    "universe_training_year = example_universe.get(\"training_year\")\n",
    "universe_training_size = example_universe.get(\"training_size\")\n",
    "universe_scale = example_universe.get(\"scale\")\n",
    "universe_model = example_universe.get(\"model\")\n",
    "universe_exclude_features = example_universe.get(\"exclude_features\")\n",
    "universe_exclude_subgroups = example_universe.get(\"exclude_subgroups\")"
   ]
  },
  {
   "cell_type": "code",
   "execution_count": 47,
   "id": "f4b6a8ac-9dc0-4245-8a91-5b3b5999c4f9",
   "metadata": {
    "execution": {
     "iopub.execute_input": "2025-08-05T16:13:02.702860Z",
     "iopub.status.busy": "2025-08-05T16:13:02.702110Z",
     "iopub.status.idle": "2025-08-05T16:13:02.708497Z",
     "shell.execute_reply": "2025-08-05T16:13:02.707633Z"
    },
    "papermill": {
     "duration": 0.022397,
     "end_time": "2025-08-05T16:13:02.710209",
     "exception": false,
     "start_time": "2025-08-05T16:13:02.687812",
     "status": "completed"
    },
    "tags": []
   },
   "outputs": [],
   "source": [
    "cp_metrics_dict = {\n",
    "    \"universe_id\": [universe_id],\n",
    "    \"universe_training_year\": [universe_training_year],\n",
    "    \"universe_training_size\": [universe_training_size],\n",
    "    \"universe_scale\": [universe_scale],\n",
    "    \"universe_model\": [universe_model],\n",
    "    \"universe_exclude_features\": [universe_exclude_features],\n",
    "    \"universe_exclude_subgroups\": [universe_exclude_subgroups],\n",
    "    \"q_hat\": [q_hat],\n",
    "    \"coverage\": [metrics[\"coverage\"]],\n",
    "    \"avg_size\": [metrics[\"avg_size\"]],\n",
    "}"
   ]
  },
  {
   "cell_type": "code",
   "execution_count": 48,
   "id": "908acbb1-0371-4915-85ca-3fa520d2efe2",
   "metadata": {
    "execution": {
     "iopub.execute_input": "2025-08-05T16:13:02.739525Z",
     "iopub.status.busy": "2025-08-05T16:13:02.738838Z",
     "iopub.status.idle": "2025-08-05T16:13:02.746633Z",
     "shell.execute_reply": "2025-08-05T16:13:02.745589Z"
    },
    "papermill": {
     "duration": 0.023988,
     "end_time": "2025-08-05T16:13:02.748326",
     "exception": false,
     "start_time": "2025-08-05T16:13:02.724338",
     "status": "completed"
    },
    "tags": []
   },
   "outputs": [
    {
     "data": {
      "text/plain": [
       "{'universe_id': ['64f8b6c76dc582534c00d673d1732dba'],\n",
       " 'universe_training_year': ['2014'],\n",
       " 'universe_training_size': ['1k'],\n",
       " 'universe_scale': ['do-not-scale'],\n",
       " 'universe_model': ['gbm'],\n",
       " 'universe_exclude_features': ['nationality'],\n",
       " 'universe_exclude_subgroups': ['drop-non-german'],\n",
       " 'q_hat': [0.7581364830612696],\n",
       " 'coverage': [0.9088507412774496],\n",
       " 'avg_size': [1.157786199977706]}"
      ]
     },
     "execution_count": 48,
     "metadata": {},
     "output_type": "execute_result"
    }
   ],
   "source": [
    "cp_metrics_dict"
   ]
  },
  {
   "cell_type": "code",
   "execution_count": 49,
   "id": "33007efc-14e9-4ec6-97ac-56a455c82265",
   "metadata": {
    "execution": {
     "iopub.execute_input": "2025-08-05T16:13:02.777471Z",
     "iopub.status.busy": "2025-08-05T16:13:02.776856Z",
     "iopub.status.idle": "2025-08-05T16:13:02.782778Z",
     "shell.execute_reply": "2025-08-05T16:13:02.781823Z"
    },
    "papermill": {
     "duration": 0.022172,
     "end_time": "2025-08-05T16:13:02.784450",
     "exception": false,
     "start_time": "2025-08-05T16:13:02.762278",
     "status": "completed"
    },
    "tags": []
   },
   "outputs": [],
   "source": [
    "cp_metrics_df = pd.DataFrame(cp_metrics_dict)"
   ]
  },
  {
   "cell_type": "code",
   "execution_count": 50,
   "id": "db12611b-57b2-4910-b9d0-355adfd6e7bf",
   "metadata": {
    "execution": {
     "iopub.execute_input": "2025-08-05T16:13:02.813917Z",
     "iopub.status.busy": "2025-08-05T16:13:02.813068Z",
     "iopub.status.idle": "2025-08-05T16:13:02.830427Z",
     "shell.execute_reply": "2025-08-05T16:13:02.829575Z"
    },
    "papermill": {
     "duration": 0.033497,
     "end_time": "2025-08-05T16:13:02.832008",
     "exception": false,
     "start_time": "2025-08-05T16:13:02.798511",
     "status": "completed"
    },
    "tags": []
   },
   "outputs": [
    {
     "data": {
      "text/html": [
       "<div>\n",
       "<style scoped>\n",
       "    .dataframe tbody tr th:only-of-type {\n",
       "        vertical-align: middle;\n",
       "    }\n",
       "\n",
       "    .dataframe tbody tr th {\n",
       "        vertical-align: top;\n",
       "    }\n",
       "\n",
       "    .dataframe thead th {\n",
       "        text-align: right;\n",
       "    }\n",
       "</style>\n",
       "<table border=\"1\" class=\"dataframe\">\n",
       "  <thead>\n",
       "    <tr style=\"text-align: right;\">\n",
       "      <th></th>\n",
       "      <th>universe_id</th>\n",
       "      <th>universe_training_year</th>\n",
       "      <th>universe_training_size</th>\n",
       "      <th>universe_scale</th>\n",
       "      <th>universe_model</th>\n",
       "      <th>universe_exclude_features</th>\n",
       "      <th>universe_exclude_subgroups</th>\n",
       "      <th>q_hat</th>\n",
       "      <th>coverage</th>\n",
       "      <th>avg_size</th>\n",
       "    </tr>\n",
       "  </thead>\n",
       "  <tbody>\n",
       "    <tr>\n",
       "      <th>0</th>\n",
       "      <td>64f8b6c76dc582534c00d673d1732dba</td>\n",
       "      <td>2014</td>\n",
       "      <td>1k</td>\n",
       "      <td>do-not-scale</td>\n",
       "      <td>gbm</td>\n",
       "      <td>nationality</td>\n",
       "      <td>drop-non-german</td>\n",
       "      <td>0.758136</td>\n",
       "      <td>0.908851</td>\n",
       "      <td>1.157786</td>\n",
       "    </tr>\n",
       "  </tbody>\n",
       "</table>\n",
       "</div>"
      ],
      "text/plain": [
       "                        universe_id universe_training_year  \\\n",
       "0  64f8b6c76dc582534c00d673d1732dba                   2014   \n",
       "\n",
       "  universe_training_size universe_scale universe_model  \\\n",
       "0                     1k   do-not-scale            gbm   \n",
       "\n",
       "  universe_exclude_features universe_exclude_subgroups     q_hat  coverage  \\\n",
       "0               nationality            drop-non-german  0.758136  0.908851   \n",
       "\n",
       "   avg_size  \n",
       "0  1.157786  "
      ]
     },
     "execution_count": 50,
     "metadata": {},
     "output_type": "execute_result"
    }
   ],
   "source": [
    "cp_metrics_df"
   ]
  },
  {
   "cell_type": "code",
   "execution_count": 51,
   "id": "b7fbde55-a0a1-47e4-9af6-fe4a17fa8c61",
   "metadata": {
    "execution": {
     "iopub.execute_input": "2025-08-05T16:13:02.861781Z",
     "iopub.status.busy": "2025-08-05T16:13:02.861145Z",
     "iopub.status.idle": "2025-08-05T16:13:02.866410Z",
     "shell.execute_reply": "2025-08-05T16:13:02.865523Z"
    },
    "papermill": {
     "duration": 0.021401,
     "end_time": "2025-08-05T16:13:02.867994",
     "exception": false,
     "start_time": "2025-08-05T16:13:02.846593",
     "status": "completed"
    },
    "tags": []
   },
   "outputs": [],
   "source": [
    "# Conditional Coverage & looking at subgroups"
   ]
  },
  {
   "cell_type": "code",
   "execution_count": 52,
   "id": "027ae886-68dd-4141-96c7-805a5450e1ef",
   "metadata": {
    "execution": {
     "iopub.execute_input": "2025-08-05T16:13:02.897506Z",
     "iopub.status.busy": "2025-08-05T16:13:02.896860Z",
     "iopub.status.idle": "2025-08-05T16:13:03.092560Z",
     "shell.execute_reply": "2025-08-05T16:13:03.091607Z"
    },
    "papermill": {
     "duration": 0.212284,
     "end_time": "2025-08-05T16:13:03.094420",
     "exception": false,
     "start_time": "2025-08-05T16:13:02.882136",
     "status": "completed"
    },
    "tags": []
   },
   "outputs": [],
   "source": [
    "from fairness_multiverse.conformal import build_cp_groups\n",
    "\n",
    "cp_groups_df = build_cp_groups(pred_sets, y_true, X_test.index, org_test)\n",
    "#needs universe_id and setting"
   ]
  },
  {
   "cell_type": "code",
   "execution_count": 53,
   "id": "6cbdab96-b2b2-45af-ad54-d0516db2e28d",
   "metadata": {
    "execution": {
     "iopub.execute_input": "2025-08-05T16:13:03.124210Z",
     "iopub.status.busy": "2025-08-05T16:13:03.123753Z",
     "iopub.status.idle": "2025-08-05T16:13:04.474935Z",
     "shell.execute_reply": "2025-08-05T16:13:04.473606Z"
    },
    "papermill": {
     "duration": 1.368142,
     "end_time": "2025-08-05T16:13:04.477188",
     "exception": false,
     "start_time": "2025-08-05T16:13:03.109046",
     "status": "completed"
    },
    "tags": []
   },
   "outputs": [],
   "source": [
    "# Define covered = 1 if true_label is in the predicted set\n",
    "cp_groups_df['covered'] = cp_groups_df.apply(\n",
    "    lambda r: int(r['true_label'] in r['pred_set']),\n",
    "    axis=1\n",
    ")"
   ]
  },
  {
   "cell_type": "code",
   "execution_count": 54,
   "id": "338ff529-1a6b-4b87-a931-8e4788d52aad",
   "metadata": {
    "execution": {
     "iopub.execute_input": "2025-08-05T16:13:04.556081Z",
     "iopub.status.busy": "2025-08-05T16:13:04.555236Z",
     "iopub.status.idle": "2025-08-05T16:13:04.561627Z",
     "shell.execute_reply": "2025-08-05T16:13:04.560410Z"
    },
    "papermill": {
     "duration": 0.04875,
     "end_time": "2025-08-05T16:13:04.563693",
     "exception": false,
     "start_time": "2025-08-05T16:13:04.514943",
     "status": "completed"
    },
    "tags": []
   },
   "outputs": [],
   "source": [
    "#cp_groups_df"
   ]
  },
  {
   "cell_type": "code",
   "execution_count": 55,
   "id": "90032e27-66df-4540-9169-4e89cfbaa758",
   "metadata": {
    "execution": {
     "iopub.execute_input": "2025-08-05T16:13:04.622739Z",
     "iopub.status.busy": "2025-08-05T16:13:04.621599Z",
     "iopub.status.idle": "2025-08-05T16:13:04.634516Z",
     "shell.execute_reply": "2025-08-05T16:13:04.633571Z"
    },
    "papermill": {
     "duration": 0.044013,
     "end_time": "2025-08-05T16:13:04.636302",
     "exception": false,
     "start_time": "2025-08-05T16:13:04.592289",
     "status": "completed"
    },
    "tags": []
   },
   "outputs": [],
   "source": [
    "subgroups = ['frau1','nongerman','nongerman_male','nongerman_female']\n",
    "\n",
    "# Conditional coverage for subgroup==1\n",
    "cond_coverage = {\n",
    "    g: cp_groups_df.loc[cp_groups_df[g]==1, 'covered'].mean()\n",
    "    for g in subgroups\n",
    "}"
   ]
  },
  {
   "cell_type": "code",
   "execution_count": 56,
   "id": "1e348fb1-b9c3-45bc-ba23-f016827a7e0d",
   "metadata": {
    "execution": {
     "iopub.execute_input": "2025-08-05T16:13:04.688698Z",
     "iopub.status.busy": "2025-08-05T16:13:04.687624Z",
     "iopub.status.idle": "2025-08-05T16:13:04.696043Z",
     "shell.execute_reply": "2025-08-05T16:13:04.694989Z"
    },
    "papermill": {
     "duration": 0.036009,
     "end_time": "2025-08-05T16:13:04.697850",
     "exception": false,
     "start_time": "2025-08-05T16:13:04.661841",
     "status": "completed"
    },
    "tags": []
   },
   "outputs": [
    {
     "data": {
      "text/plain": [
       "{'frau1': 0.9075347081816957,\n",
       " 'nongerman': 0.9075955762645259,\n",
       " 'nongerman_male': 0.9237143114473566,\n",
       " 'nongerman_female': 0.8809239940387481}"
      ]
     },
     "execution_count": 56,
     "metadata": {},
     "output_type": "execute_result"
    }
   ],
   "source": [
    "cond_coverage"
   ]
  },
  {
   "cell_type": "code",
   "execution_count": 57,
   "id": "f5093324-c3dd-4d63-bc4c-8d945e5c8bbb",
   "metadata": {
    "execution": {
     "iopub.execute_input": "2025-08-05T16:13:04.751145Z",
     "iopub.status.busy": "2025-08-05T16:13:04.750604Z",
     "iopub.status.idle": "2025-08-05T16:13:04.758857Z",
     "shell.execute_reply": "2025-08-05T16:13:04.757841Z"
    },
    "papermill": {
     "duration": 0.036284,
     "end_time": "2025-08-05T16:13:04.760643",
     "exception": false,
     "start_time": "2025-08-05T16:13:04.724359",
     "status": "completed"
    },
    "tags": []
   },
   "outputs": [],
   "source": [
    "for subgroup, cov in cond_coverage.items():\n",
    "    cp_metrics_df[f\"cov_{subgroup}\"] = cov"
   ]
  },
  {
   "cell_type": "code",
   "execution_count": 58,
   "id": "6e872e10-dbe5-49e8-b554-5030c98ff75d",
   "metadata": {
    "execution": {
     "iopub.execute_input": "2025-08-05T16:13:04.815899Z",
     "iopub.status.busy": "2025-08-05T16:13:04.814847Z",
     "iopub.status.idle": "2025-08-05T16:13:04.838323Z",
     "shell.execute_reply": "2025-08-05T16:13:04.837251Z"
    },
    "papermill": {
     "duration": 0.052262,
     "end_time": "2025-08-05T16:13:04.840106",
     "exception": false,
     "start_time": "2025-08-05T16:13:04.787844",
     "status": "completed"
    },
    "tags": []
   },
   "outputs": [
    {
     "data": {
      "text/html": [
       "<div>\n",
       "<style scoped>\n",
       "    .dataframe tbody tr th:only-of-type {\n",
       "        vertical-align: middle;\n",
       "    }\n",
       "\n",
       "    .dataframe tbody tr th {\n",
       "        vertical-align: top;\n",
       "    }\n",
       "\n",
       "    .dataframe thead th {\n",
       "        text-align: right;\n",
       "    }\n",
       "</style>\n",
       "<table border=\"1\" class=\"dataframe\">\n",
       "  <thead>\n",
       "    <tr style=\"text-align: right;\">\n",
       "      <th></th>\n",
       "      <th>universe_id</th>\n",
       "      <th>universe_training_year</th>\n",
       "      <th>universe_training_size</th>\n",
       "      <th>universe_scale</th>\n",
       "      <th>universe_model</th>\n",
       "      <th>universe_exclude_features</th>\n",
       "      <th>universe_exclude_subgroups</th>\n",
       "      <th>q_hat</th>\n",
       "      <th>coverage</th>\n",
       "      <th>avg_size</th>\n",
       "      <th>cov_frau1</th>\n",
       "      <th>cov_nongerman</th>\n",
       "      <th>cov_nongerman_male</th>\n",
       "      <th>cov_nongerman_female</th>\n",
       "    </tr>\n",
       "  </thead>\n",
       "  <tbody>\n",
       "    <tr>\n",
       "      <th>0</th>\n",
       "      <td>64f8b6c76dc582534c00d673d1732dba</td>\n",
       "      <td>2014</td>\n",
       "      <td>1k</td>\n",
       "      <td>do-not-scale</td>\n",
       "      <td>gbm</td>\n",
       "      <td>nationality</td>\n",
       "      <td>drop-non-german</td>\n",
       "      <td>0.758136</td>\n",
       "      <td>0.908851</td>\n",
       "      <td>1.157786</td>\n",
       "      <td>0.907535</td>\n",
       "      <td>0.907596</td>\n",
       "      <td>0.923714</td>\n",
       "      <td>0.880924</td>\n",
       "    </tr>\n",
       "  </tbody>\n",
       "</table>\n",
       "</div>"
      ],
      "text/plain": [
       "                        universe_id universe_training_year  \\\n",
       "0  64f8b6c76dc582534c00d673d1732dba                   2014   \n",
       "\n",
       "  universe_training_size universe_scale universe_model  \\\n",
       "0                     1k   do-not-scale            gbm   \n",
       "\n",
       "  universe_exclude_features universe_exclude_subgroups     q_hat  coverage  \\\n",
       "0               nationality            drop-non-german  0.758136  0.908851   \n",
       "\n",
       "   avg_size  cov_frau1  cov_nongerman  cov_nongerman_male  \\\n",
       "0  1.157786   0.907535       0.907596            0.923714   \n",
       "\n",
       "   cov_nongerman_female  \n",
       "0              0.880924  "
      ]
     },
     "execution_count": 58,
     "metadata": {},
     "output_type": "execute_result"
    }
   ],
   "source": [
    "cp_metrics_df"
   ]
  },
  {
   "cell_type": "markdown",
   "id": "33774451",
   "metadata": {
    "papermill": {
     "duration": 0.025217,
     "end_time": "2025-08-05T16:13:04.892966",
     "exception": false,
     "start_time": "2025-08-05T16:13:04.867749",
     "status": "completed"
    },
    "tags": []
   },
   "source": [
    "# (Fairness) Metrics"
   ]
  },
  {
   "cell_type": "code",
   "execution_count": 59,
   "id": "debc5d62",
   "metadata": {
    "execution": {
     "iopub.execute_input": "2025-08-05T16:13:04.951559Z",
     "iopub.status.busy": "2025-08-05T16:13:04.950512Z",
     "iopub.status.idle": "2025-08-05T16:13:04.974787Z",
     "shell.execute_reply": "2025-08-05T16:13:04.973696Z"
    },
    "papermill": {
     "duration": 0.05555,
     "end_time": "2025-08-05T16:13:04.976958",
     "exception": false,
     "start_time": "2025-08-05T16:13:04.921408",
     "status": "completed"
    },
    "tags": []
   },
   "outputs": [],
   "source": [
    "# do I need to include maxdeutsch1.missing?\n",
    "\n",
    "import numpy as np\n",
    "\n",
    "colname_to_bin = \"maxdeutsch1\"\n",
    "majority_value = org_train[colname_to_bin].mode()[0]\n",
    "\n",
    "org_test[\"majmin\"] = np.where(org_test[colname_to_bin] == majority_value, \"majority\", \"minority\")"
   ]
  },
  {
   "cell_type": "code",
   "execution_count": 60,
   "id": "06a50de5",
   "metadata": {
    "execution": {
     "iopub.execute_input": "2025-08-05T16:13:05.032088Z",
     "iopub.status.busy": "2025-08-05T16:13:05.031157Z",
     "iopub.status.idle": "2025-08-05T16:13:08.347587Z",
     "shell.execute_reply": "2025-08-05T16:13:08.346540Z"
    },
    "papermill": {
     "duration": 3.345746,
     "end_time": "2025-08-05T16:13:08.349930",
     "exception": false,
     "start_time": "2025-08-05T16:13:05.004184",
     "status": "completed"
    },
    "tags": []
   },
   "outputs": [],
   "source": [
    "example_universe = universe.copy()\n",
    "example_universe[\"cutoff\"] = example_universe[\"cutoff\"][0]\n",
    "example_universe[\"eval_fairness_grouping\"] = example_universe[\"eval_fairness_grouping\"][0]\n",
    "fairness_dict, metric_frame = universe_analysis.compute_metrics(\n",
    "    example_universe,\n",
    "    y_pred_prob=probs_test,\n",
    "    y_test=y_true,\n",
    "    org_test=org_test,\n",
    ")"
   ]
  },
  {
   "cell_type": "markdown",
   "id": "f95d4e02",
   "metadata": {
    "papermill": {
     "duration": 0.028001,
     "end_time": "2025-08-05T16:13:08.408552",
     "exception": false,
     "start_time": "2025-08-05T16:13:08.380551",
     "status": "completed"
    },
    "tags": []
   },
   "source": [
    "# Overall"
   ]
  },
  {
   "cell_type": "markdown",
   "id": "bdee4871",
   "metadata": {
    "papermill": {
     "duration": 0.026995,
     "end_time": "2025-08-05T16:13:08.462650",
     "exception": false,
     "start_time": "2025-08-05T16:13:08.435655",
     "status": "completed"
    },
    "tags": []
   },
   "source": [
    "Fairness\n",
    "Main fairness target: Equalized Odds. Seems to be a better fit than equal opportunity, since we're not only interested in Y = 1. Seems to be a better fit than demographic parity, since we also care about accuracy, not just equal distribution of preds.\n",
    "\n",
    "Pick column for computation of fairness metrics\n",
    "\n",
    "Performance\n",
    "Overall performance measures, most interesting in relation to the measures split by group below"
   ]
  },
  {
   "cell_type": "code",
   "execution_count": 61,
   "id": "c4e067c6",
   "metadata": {
    "execution": {
     "iopub.execute_input": "2025-08-05T16:13:08.520074Z",
     "iopub.status.busy": "2025-08-05T16:13:08.519265Z",
     "iopub.status.idle": "2025-08-05T16:13:08.529448Z",
     "shell.execute_reply": "2025-08-05T16:13:08.528391Z"
    },
    "papermill": {
     "duration": 0.040626,
     "end_time": "2025-08-05T16:13:08.531374",
     "exception": false,
     "start_time": "2025-08-05T16:13:08.490748",
     "status": "completed"
    },
    "tags": []
   },
   "outputs": [
    {
     "data": {
      "text/plain": [
       "accuracy                   0.219518\n",
       "balanced accuracy          0.540697\n",
       "f1                         0.242281\n",
       "precision                  0.138373\n",
       "false positive rate        0.891320\n",
       "false negative rate        0.027285\n",
       "selection rate             0.901761\n",
       "count                  89710.000000\n",
       "dtype: float64"
      ]
     },
     "execution_count": 61,
     "metadata": {},
     "output_type": "execute_result"
    }
   ],
   "source": [
    "metric_frame.overall"
   ]
  },
  {
   "cell_type": "markdown",
   "id": "e968fe9d",
   "metadata": {
    "papermill": {
     "duration": 0.027516,
     "end_time": "2025-08-05T16:13:08.587474",
     "exception": false,
     "start_time": "2025-08-05T16:13:08.559958",
     "status": "completed"
    },
    "tags": []
   },
   "source": [
    "By Group"
   ]
  },
  {
   "cell_type": "code",
   "execution_count": 62,
   "id": "ec325bce",
   "metadata": {
    "execution": {
     "iopub.execute_input": "2025-08-05T16:13:08.644783Z",
     "iopub.status.busy": "2025-08-05T16:13:08.643664Z",
     "iopub.status.idle": "2025-08-05T16:13:08.664411Z",
     "shell.execute_reply": "2025-08-05T16:13:08.663113Z"
    },
    "papermill": {
     "duration": 0.052411,
     "end_time": "2025-08-05T16:13:08.666272",
     "exception": false,
     "start_time": "2025-08-05T16:13:08.613861",
     "status": "completed"
    },
    "tags": []
   },
   "outputs": [
    {
     "data": {
      "text/html": [
       "<div>\n",
       "<style scoped>\n",
       "    .dataframe tbody tr th:only-of-type {\n",
       "        vertical-align: middle;\n",
       "    }\n",
       "\n",
       "    .dataframe tbody tr th {\n",
       "        vertical-align: top;\n",
       "    }\n",
       "\n",
       "    .dataframe thead th {\n",
       "        text-align: right;\n",
       "    }\n",
       "</style>\n",
       "<table border=\"1\" class=\"dataframe\">\n",
       "  <thead>\n",
       "    <tr style=\"text-align: right;\">\n",
       "      <th></th>\n",
       "      <th>accuracy</th>\n",
       "      <th>balanced accuracy</th>\n",
       "      <th>f1</th>\n",
       "      <th>precision</th>\n",
       "      <th>false positive rate</th>\n",
       "      <th>false negative rate</th>\n",
       "      <th>selection rate</th>\n",
       "      <th>count</th>\n",
       "    </tr>\n",
       "    <tr>\n",
       "      <th>majmin</th>\n",
       "      <th></th>\n",
       "      <th></th>\n",
       "      <th></th>\n",
       "      <th></th>\n",
       "      <th></th>\n",
       "      <th></th>\n",
       "      <th></th>\n",
       "      <th></th>\n",
       "    </tr>\n",
       "  </thead>\n",
       "  <tbody>\n",
       "    <tr>\n",
       "      <th>majority</th>\n",
       "      <td>0.238991</td>\n",
       "      <td>0.548576</td>\n",
       "      <td>0.251851</td>\n",
       "      <td>0.144726</td>\n",
       "      <td>0.872214</td>\n",
       "      <td>0.030635</td>\n",
       "      <td>0.885051</td>\n",
       "      <td>69170.0</td>\n",
       "    </tr>\n",
       "    <tr>\n",
       "      <th>minority</th>\n",
       "      <td>0.153944</td>\n",
       "      <td>0.515603</td>\n",
       "      <td>0.211739</td>\n",
       "      <td>0.118610</td>\n",
       "      <td>0.954435</td>\n",
       "      <td>0.014358</td>\n",
       "      <td>0.958033</td>\n",
       "      <td>20540.0</td>\n",
       "    </tr>\n",
       "  </tbody>\n",
       "</table>\n",
       "</div>"
      ],
      "text/plain": [
       "          accuracy  balanced accuracy        f1  precision  \\\n",
       "majmin                                                       \n",
       "majority  0.238991           0.548576  0.251851   0.144726   \n",
       "minority  0.153944           0.515603  0.211739   0.118610   \n",
       "\n",
       "          false positive rate  false negative rate  selection rate    count  \n",
       "majmin                                                                       \n",
       "majority             0.872214             0.030635        0.885051  69170.0  \n",
       "minority             0.954435             0.014358        0.958033  20540.0  "
      ]
     },
     "execution_count": 62,
     "metadata": {},
     "output_type": "execute_result"
    }
   ],
   "source": [
    "metric_frame.by_group"
   ]
  },
  {
   "cell_type": "code",
   "execution_count": 63,
   "id": "a9ddbe63",
   "metadata": {
    "execution": {
     "iopub.execute_input": "2025-08-05T16:13:08.725032Z",
     "iopub.status.busy": "2025-08-05T16:13:08.724078Z",
     "iopub.status.idle": "2025-08-05T16:13:11.758571Z",
     "shell.execute_reply": "2025-08-05T16:13:11.757158Z"
    },
    "papermill": {
     "duration": 3.066375,
     "end_time": "2025-08-05T16:13:11.760639",
     "exception": false,
     "start_time": "2025-08-05T16:13:08.694264",
     "status": "completed"
    },
    "tags": []
   },
   "outputs": [
    {
     "data": {
      "text/plain": [
       "array([[<Axes: title={'center': 'accuracy'}, xlabel='majmin'>,\n",
       "        <Axes: title={'center': 'balanced accuracy'}, xlabel='majmin'>,\n",
       "        <Axes: title={'center': 'f1'}, xlabel='majmin'>],\n",
       "       [<Axes: title={'center': 'precision'}, xlabel='majmin'>,\n",
       "        <Axes: title={'center': 'false positive rate'}, xlabel='majmin'>,\n",
       "        <Axes: title={'center': 'false negative rate'}, xlabel='majmin'>],\n",
       "       [<Axes: title={'center': 'selection rate'}, xlabel='majmin'>,\n",
       "        <Axes: title={'center': 'count'}, xlabel='majmin'>,\n",
       "        <Axes: xlabel='majmin'>]], dtype=object)"
      ]
     },
     "execution_count": 63,
     "metadata": {},
     "output_type": "execute_result"
    },
    {
     "data": {
      "image/png": "[encoded data removed]",
      "text/plain": [
       "<Figure size 1200x800 with 9 Axes>"
      ]
     },
     "metadata": {},
     "output_type": "display_data"
    }
   ],
   "source": [
    "# In a graphic\n",
    "metric_frame.by_group.plot.bar(\n",
    "    subplots=True,\n",
    "    layout=[3, 3],\n",
    "    legend=False,\n",
    "    figsize=[12, 8],\n",
    "    title=\"Show all metrics\",\n",
    ")"
   ]
  },
  {
   "cell_type": "markdown",
   "id": "f57a0bac",
   "metadata": {
    "papermill": {
     "duration": 0.033803,
     "end_time": "2025-08-05T16:13:11.829010",
     "exception": false,
     "start_time": "2025-08-05T16:13:11.795207",
     "status": "completed"
    },
    "tags": []
   },
   "source": [
    "# Final Output"
   ]
  },
  {
   "cell_type": "code",
   "execution_count": 64,
   "id": "96d280a3",
   "metadata": {
    "execution": {
     "iopub.execute_input": "2025-08-05T16:13:11.895651Z",
     "iopub.status.busy": "2025-08-05T16:13:11.894159Z",
     "iopub.status.idle": "2025-08-05T16:13:11.907148Z",
     "shell.execute_reply": "2025-08-05T16:13:11.906088Z"
    },
    "papermill": {
     "duration": 0.048411,
     "end_time": "2025-08-05T16:13:11.909173",
     "exception": false,
     "start_time": "2025-08-05T16:13:11.860762",
     "status": "completed"
    },
    "tags": []
   },
   "outputs": [
    {
     "data": {
      "text/plain": [
       "4"
      ]
     },
     "execution_count": 64,
     "metadata": {},
     "output_type": "execute_result"
    }
   ],
   "source": [
    "sub_universes = universe_analysis.generate_sub_universes()\n",
    "len(sub_universes)"
   ]
  },
  {
   "cell_type": "code",
   "execution_count": 65,
   "id": "92adf7ba",
   "metadata": {
    "execution": {
     "iopub.execute_input": "2025-08-05T16:13:11.971801Z",
     "iopub.status.busy": "2025-08-05T16:13:11.971283Z",
     "iopub.status.idle": "2025-08-05T16:13:11.978186Z",
     "shell.execute_reply": "2025-08-05T16:13:11.976982Z"
    },
    "papermill": {
     "duration": 0.039629,
     "end_time": "2025-08-05T16:13:11.980105",
     "exception": false,
     "start_time": "2025-08-05T16:13:11.940476",
     "status": "completed"
    },
    "tags": []
   },
   "outputs": [],
   "source": [
    "def filter_sub_universe_data(sub_universe, org_test):\n",
    "    # Keep all rows — no filtering\n",
    "    keep_rows_mask = np.ones(org_test.shape[0], dtype=bool)\n",
    "\n",
    "    print(f\"[INFO] Keeping all rows: {keep_rows_mask.sum()} rows retained.\")\n",
    "    return keep_rows_mask"
   ]
  },
  {
   "cell_type": "code",
   "execution_count": 66,
   "id": "4a759155",
   "metadata": {
    "execution": {
     "iopub.execute_input": "2025-08-05T16:13:12.043031Z",
     "iopub.status.busy": "2025-08-05T16:13:12.042492Z",
     "iopub.status.idle": "2025-08-05T16:13:23.957550Z",
     "shell.execute_reply": "2025-08-05T16:13:23.956320Z"
    },
    "papermill": {
     "duration": 11.94845,
     "end_time": "2025-08-05T16:13:23.959579",
     "exception": false,
     "start_time": "2025-08-05T16:13:12.011129",
     "status": "completed"
    },
    "tags": []
   },
   "outputs": [
    {
     "name": "stdout",
     "output_type": "stream",
     "text": [
      "Stopping execution_time clock.\n",
      "[INFO] Keeping all rows: 89710 rows retained.\n"
     ]
    },
    {
     "name": "stdout",
     "output_type": "stream",
     "text": [
      "[INFO] Keeping all rows: 89710 rows retained.\n"
     ]
    },
    {
     "name": "stdout",
     "output_type": "stream",
     "text": [
      "[INFO] Keeping all rows: 89710 rows retained.\n"
     ]
    },
    {
     "name": "stdout",
     "output_type": "stream",
     "text": [
      "[INFO] Keeping all rows: 89710 rows retained.\n"
     ]
    },
    {
     "data": {
      "text/html": [
       "<div>\n",
       "<style scoped>\n",
       "    .dataframe tbody tr th:only-of-type {\n",
       "        vertical-align: middle;\n",
       "    }\n",
       "\n",
       "    .dataframe tbody tr th {\n",
       "        vertical-align: top;\n",
       "    }\n",
       "\n",
       "    .dataframe thead th {\n",
       "        text-align: right;\n",
       "    }\n",
       "</style>\n",
       "<table border=\"1\" class=\"dataframe\">\n",
       "  <thead>\n",
       "    <tr style=\"text-align: right;\">\n",
       "      <th></th>\n",
       "      <th>run_no</th>\n",
       "      <th>universe_id</th>\n",
       "      <th>universe_settings</th>\n",
       "      <th>execution_time</th>\n",
       "      <th>test_size_n</th>\n",
       "      <th>test_size_frac</th>\n",
       "      <th>fair_main_equalized_odds_difference</th>\n",
       "      <th>fair_main_equalized_odds_ratio</th>\n",
       "      <th>fair_main_demographic_parity_difference</th>\n",
       "      <th>fair_main_demographic_parity_ratio</th>\n",
       "      <th>...</th>\n",
       "      <th>perf_grp_precision_0</th>\n",
       "      <th>perf_grp_precision_1</th>\n",
       "      <th>perf_grp_false positive rate_0</th>\n",
       "      <th>perf_grp_false positive rate_1</th>\n",
       "      <th>perf_grp_false negative rate_0</th>\n",
       "      <th>perf_grp_false negative rate_1</th>\n",
       "      <th>perf_grp_selection rate_0</th>\n",
       "      <th>perf_grp_selection rate_1</th>\n",
       "      <th>perf_grp_count_0</th>\n",
       "      <th>perf_grp_count_1</th>\n",
       "    </tr>\n",
       "  </thead>\n",
       "  <tbody>\n",
       "    <tr>\n",
       "      <th>0</th>\n",
       "      <td>15</td>\n",
       "      <td>64f8b6c76dc582534c00d673d1732dba</td>\n",
       "      <td>{\"cutoff\": \"quantile_0.1\", \"eval_fairness_grou...</td>\n",
       "      <td>32.724451</td>\n",
       "      <td>89710</td>\n",
       "      <td>1.0</td>\n",
       "      <td>0.082222</td>\n",
       "      <td>0.913853</td>\n",
       "      <td>0.072982</td>\n",
       "      <td>0.923821</td>\n",
       "      <td>...</td>\n",
       "      <td>NaN</td>\n",
       "      <td>NaN</td>\n",
       "      <td>NaN</td>\n",
       "      <td>NaN</td>\n",
       "      <td>NaN</td>\n",
       "      <td>NaN</td>\n",
       "      <td>NaN</td>\n",
       "      <td>NaN</td>\n",
       "      <td>NaN</td>\n",
       "      <td>NaN</td>\n",
       "    </tr>\n",
       "    <tr>\n",
       "      <th>0</th>\n",
       "      <td>15</td>\n",
       "      <td>64f8b6c76dc582534c00d673d1732dba</td>\n",
       "      <td>{\"cutoff\": \"quantile_0.1\", \"eval_fairness_grou...</td>\n",
       "      <td>32.724451</td>\n",
       "      <td>89710</td>\n",
       "      <td>1.0</td>\n",
       "      <td>0.082222</td>\n",
       "      <td>0.913853</td>\n",
       "      <td>0.072982</td>\n",
       "      <td>0.923821</td>\n",
       "      <td>...</td>\n",
       "      <td>0.11861</td>\n",
       "      <td>0.144726</td>\n",
       "      <td>0.954435</td>\n",
       "      <td>0.872214</td>\n",
       "      <td>0.014358</td>\n",
       "      <td>0.030635</td>\n",
       "      <td>0.958033</td>\n",
       "      <td>0.885051</td>\n",
       "      <td>20540.0</td>\n",
       "      <td>69170.0</td>\n",
       "    </tr>\n",
       "    <tr>\n",
       "      <th>0</th>\n",
       "      <td>15</td>\n",
       "      <td>64f8b6c76dc582534c00d673d1732dba</td>\n",
       "      <td>{\"cutoff\": \"quantile_0.25\", \"eval_fairness_gro...</td>\n",
       "      <td>32.724451</td>\n",
       "      <td>89710</td>\n",
       "      <td>1.0</td>\n",
       "      <td>0.178600</td>\n",
       "      <td>0.793081</td>\n",
       "      <td>0.159365</td>\n",
       "      <td>0.817427</td>\n",
       "      <td>...</td>\n",
       "      <td>NaN</td>\n",
       "      <td>NaN</td>\n",
       "      <td>NaN</td>\n",
       "      <td>NaN</td>\n",
       "      <td>NaN</td>\n",
       "      <td>NaN</td>\n",
       "      <td>NaN</td>\n",
       "      <td>NaN</td>\n",
       "      <td>NaN</td>\n",
       "      <td>NaN</td>\n",
       "    </tr>\n",
       "    <tr>\n",
       "      <th>0</th>\n",
       "      <td>15</td>\n",
       "      <td>64f8b6c76dc582534c00d673d1732dba</td>\n",
       "      <td>{\"cutoff\": \"quantile_0.25\", \"eval_fairness_gro...</td>\n",
       "      <td>32.724451</td>\n",
       "      <td>89710</td>\n",
       "      <td>1.0</td>\n",
       "      <td>0.178600</td>\n",
       "      <td>0.793081</td>\n",
       "      <td>0.159365</td>\n",
       "      <td>0.817427</td>\n",
       "      <td>...</td>\n",
       "      <td>0.12516</td>\n",
       "      <td>0.167383</td>\n",
       "      <td>0.863141</td>\n",
       "      <td>0.684541</td>\n",
       "      <td>0.052365</td>\n",
       "      <td>0.096171</td>\n",
       "      <td>0.872882</td>\n",
       "      <td>0.713517</td>\n",
       "      <td>20540.0</td>\n",
       "      <td>69170.0</td>\n",
       "    </tr>\n",
       "  </tbody>\n",
       "</table>\n",
       "<p>4 rows × 50 columns</p>\n",
       "</div>"
      ],
      "text/plain": [
       "  run_no                       universe_id  \\\n",
       "0     15  64f8b6c76dc582534c00d673d1732dba   \n",
       "0     15  64f8b6c76dc582534c00d673d1732dba   \n",
       "0     15  64f8b6c76dc582534c00d673d1732dba   \n",
       "0     15  64f8b6c76dc582534c00d673d1732dba   \n",
       "\n",
       "                                   universe_settings  execution_time  \\\n",
       "0  {\"cutoff\": \"quantile_0.1\", \"eval_fairness_grou...       32.724451   \n",
       "0  {\"cutoff\": \"quantile_0.1\", \"eval_fairness_grou...       32.724451   \n",
       "0  {\"cutoff\": \"quantile_0.25\", \"eval_fairness_gro...       32.724451   \n",
       "0  {\"cutoff\": \"quantile_0.25\", \"eval_fairness_gro...       32.724451   \n",
       "\n",
       "   test_size_n  test_size_frac  fair_main_equalized_odds_difference  \\\n",
       "0        89710             1.0                             0.082222   \n",
       "0        89710             1.0                             0.082222   \n",
       "0        89710             1.0                             0.178600   \n",
       "0        89710             1.0                             0.178600   \n",
       "\n",
       "   fair_main_equalized_odds_ratio  fair_main_demographic_parity_difference  \\\n",
       "0                        0.913853                                 0.072982   \n",
       "0                        0.913853                                 0.072982   \n",
       "0                        0.793081                                 0.159365   \n",
       "0                        0.793081                                 0.159365   \n",
       "\n",
       "   fair_main_demographic_parity_ratio  ...  perf_grp_precision_0  \\\n",
       "0                            0.923821  ...                   NaN   \n",
       "0                            0.923821  ...               0.11861   \n",
       "0                            0.817427  ...                   NaN   \n",
       "0                            0.817427  ...               0.12516   \n",
       "\n",
       "   perf_grp_precision_1  perf_grp_false positive rate_0  \\\n",
       "0                   NaN                             NaN   \n",
       "0              0.144726                        0.954435   \n",
       "0                   NaN                             NaN   \n",
       "0              0.167383                        0.863141   \n",
       "\n",
       "   perf_grp_false positive rate_1  perf_grp_false negative rate_0  \\\n",
       "0                             NaN                             NaN   \n",
       "0                        0.872214                        0.014358   \n",
       "0                             NaN                             NaN   \n",
       "0                        0.684541                        0.052365   \n",
       "\n",
       "   perf_grp_false negative rate_1  perf_grp_selection rate_0  \\\n",
       "0                             NaN                        NaN   \n",
       "0                        0.030635                   0.958033   \n",
       "0                             NaN                        NaN   \n",
       "0                        0.096171                   0.872882   \n",
       "\n",
       "   perf_grp_selection rate_1  perf_grp_count_0  perf_grp_count_1  \n",
       "0                        NaN               NaN               NaN  \n",
       "0                   0.885051           20540.0           69170.0  \n",
       "0                        NaN               NaN               NaN  \n",
       "0                   0.713517           20540.0           69170.0  \n",
       "\n",
       "[4 rows x 50 columns]"
      ]
     },
     "execution_count": 66,
     "metadata": {},
     "output_type": "execute_result"
    }
   ],
   "source": [
    "final_output = universe_analysis.generate_final_output(\n",
    "    y_pred_prob=probs_test,\n",
    "    y_test=y_true,\n",
    "    org_test=org_test,\n",
    "    filter_data=filter_sub_universe_data,\n",
    "    cp_metrics_df=cp_metrics_df,\n",
    "    save=True,\n",
    ")\n",
    "final_output"
   ]
  }
 ],
 "metadata": {
  "celltoolbar": "Tags",
  "kernelspec": {
   "display_name": "Python (CMA Fairness)",
   "language": "python",
   "name": "cma_fair_env"
  },
  "language_info": {
   "codemirror_mode": {
    "name": "ipython",
    "version": 3
   },
   "file_extension": ".py",
   "mimetype": "text/x-python",
   "name": "python",
   "nbconvert_exporter": "python",
   "pygments_lexer": "ipython3",
   "version": "3.10.12"
  },
  "papermill": {
   "default_parameters": {},
   "duration": 49.515314,
   "end_time": "2025-08-05T16:13:24.918430",
   "environment_variables": {},
   "exception": null,
   "input_path": "universe_analysis.ipynb",
   "output_path": "output/runs/15/notebooks/m_15-64f8b6c76dc582534c00d673d1732dba.ipynb",
   "parameters": {
    "output_dir": "output",
    "run_no": "15",
    "seed": "2023",
    "universe": "{\"cutoff\": [\"quantile_0.1\", \"quantile_0.25\"], \"eval_fairness_grouping\": [\"majority-minority\", \"nationality-all\"], \"exclude_features\": \"nationality\", \"exclude_subgroups\": \"drop-non-german\", \"model\": \"gbm\", \"scale\": \"do-not-scale\", \"training_size\": \"1k\", \"training_year\": \"2014\"}",
    "universe_id": "64f8b6c76dc582534c00d673d1732dba"
   },
   "start_time": "2025-08-05T16:12:35.403116",
   "version": "2.6.0"
  }
 },
 "nbformat": 4,
 "nbformat_minor": 5
}