{
 "cells": [
  {
   "cell_type": "code",
   "execution_count": 1,
   "id": "f159f837-637b-42ba-96b5-ec9a68c44524",
   "metadata": {
    "execution": {
     "iopub.execute_input": "2025-08-05T15:38:55.030941Z",
     "iopub.status.busy": "2025-08-05T15:38:55.030590Z",
     "iopub.status.idle": "2025-08-05T15:38:55.040988Z",
     "shell.execute_reply": "2025-08-05T15:38:55.039824Z"
    },
    "papermill": {
     "duration": 0.021911,
     "end_time": "2025-08-05T15:38:55.042366",
     "exception": false,
     "start_time": "2025-08-05T15:38:55.020455",
     "status": "completed"
    },
    "tags": []
   },
   "outputs": [
    {
     "name": "stdout",
     "output_type": "stream",
     "text": [
      "/dss/dsshome1/0C/ra93lal2/cma/CMA_Fairness_v2\n"
     ]
    },
    {
     "name": "stderr",
     "output_type": "stream",
     "text": [
      "/dss/dsshome1/0C/ra93lal2/.local/share/virtualenvs/CMA_Fairness_v2-3j10GkSs/lib/python3.10/site-packages/IPython/core/magics/osm.py:393: UserWarning: This is now an optional IPython functionality, using bookmarks requires you to install the `pickleshare` library.\n",
      "  bkms = self.shell.db.get('bookmarks', {})\n",
      "/dss/dsshome1/0C/ra93lal2/.local/share/virtualenvs/CMA_Fairness_v2-3j10GkSs/lib/python3.10/site-packages/IPython/core/magics/osm.py:417: UserWarning: This is now an optional IPython functionality, setting dhist requires you to install the `pickleshare` library.\n",
      "  self.shell.db['dhist'] = compress_dhist(dhist)[-100:]\n"
     ]
    }
   ],
   "source": [
    "%cd ~/cma/CMA_Fairness_v2"
   ]
  },
  {
   "cell_type": "markdown",
   "id": "de2603b9",
   "metadata": {
    "papermill": {
     "duration": 0.008272,
     "end_time": "2025-08-05T15:38:55.060124",
     "exception": false,
     "start_time": "2025-08-05T15:38:55.051852",
     "status": "completed"
    },
    "tags": []
   },
   "source": [
    "The following cell holds the definition of our parameters, these values can be overriden by rendering the with e.g. the following command:\n",
    "\n",
    "papermill -p alpha 0.2 -p ratio 0.3 universe_analysis.ipynb output/test_run.ipynb"
   ]
  },
  {
   "cell_type": "code",
   "execution_count": 2,
   "id": "a80968a0-40bb-4fa9-85ef-2d5eefb01975",
   "metadata": {
    "execution": {
     "iopub.execute_input": "2025-08-05T15:38:55.079014Z",
     "iopub.status.busy": "2025-08-05T15:38:55.078192Z",
     "iopub.status.idle": "2025-08-05T15:38:55.083569Z",
     "shell.execute_reply": "2025-08-05T15:38:55.082675Z"
    },
    "papermill": {
     "duration": 0.016856,
     "end_time": "2025-08-05T15:38:55.085636",
     "exception": false,
     "start_time": "2025-08-05T15:38:55.068780",
     "status": "completed"
    },
    "tags": []
   },
   "outputs": [
    {
     "name": "stdout",
     "output_type": "stream",
     "text": [
      "Current working directory: /dss/dsshome1/0C/ra93lal2/cma/CMA_Fairness_v2\n"
     ]
    }
   ],
   "source": [
    "import os\n",
    "print(\"Current working directory:\", os.getcwd())"
   ]
  },
  {
   "cell_type": "code",
   "execution_count": 3,
   "id": "2dce4c03",
   "metadata": {
    "execution": {
     "iopub.execute_input": "2025-08-05T15:38:55.110795Z",
     "iopub.status.busy": "2025-08-05T15:38:55.110277Z",
     "iopub.status.idle": "2025-08-05T15:38:55.121894Z",
     "shell.execute_reply": "2025-08-05T15:38:55.120674Z"
    },
    "papermill": {
     "duration": 0.027199,
     "end_time": "2025-08-05T15:38:55.123686",
     "exception": false,
     "start_time": "2025-08-05T15:38:55.096487",
     "status": "completed"
    },
    "tags": [
     "parameters"
    ]
   },
   "outputs": [],
   "source": [
    "run_no = 0\n",
    "universe_id = \"test\"\n",
    "universe = {\n",
    "    \"training_size\": \"25k\", # \"25k\", \"5k\", \"1k\"\n",
    "    \"training_year\": \"2014\", # \"2014\", \"2012_14\", \"2010_14\"\n",
    "    \"scale\": \"scale\", # \"scale\", \"do-not-scale\",\n",
    "    \"model\": \"elasticnet\", # \"logreg\", \"penalized_logreg\", \"rf\", \"gbm\", \"elasticnet\"\n",
    "    \"cutoff\": [\"quantile_0.15\", \"quantile_0.30\"],\n",
    "    \"exclude_features\": \"age\", # \"none\", \"nationality\", \"sex\", \"nationality-sex\", \"age\"\n",
    "    \"exclude_subgroups\": \"keep-all\", # \"keep-all\", \"drop-non-german\"\n",
    "    \"eval_fairness_grouping\": [\"majority-minority\", \"nationality-all\"]\n",
    "}\n",
    "\n",
    "output_dir=\"./output\"\n",
    "seed=0"
   ]
  },
  {
   "cell_type": "code",
   "execution_count": 4,
   "id": "714b6c85",
   "metadata": {
    "execution": {
     "iopub.execute_input": "2025-08-05T15:38:55.164487Z",
     "iopub.status.busy": "2025-08-05T15:38:55.163893Z",
     "iopub.status.idle": "2025-08-05T15:38:55.170791Z",
     "shell.execute_reply": "2025-08-05T15:38:55.169486Z"
    },
    "papermill": {
     "duration": 0.02904,
     "end_time": "2025-08-05T15:38:55.172676",
     "exception": false,
     "start_time": "2025-08-05T15:38:55.143636",
     "status": "completed"
    },
    "tags": [
     "injected-parameters"
    ]
   },
   "outputs": [],
   "source": [
    "# Parameters\n",
    "universe_id = \"3d58e587564eb346a04702fae52e4b3d\"\n",
    "run_no = \"15\"\n",
    "universe = \"{\\\"cutoff\\\": [\\\"quantile_0.1\\\", \\\"quantile_0.25\\\"], \\\"eval_fairness_grouping\\\": [\\\"majority-minority\\\", \\\"nationality-all\\\"], \\\"exclude_features\\\": \\\"age\\\", \\\"exclude_subgroups\\\": \\\"keep-all\\\", \\\"model\\\": \\\"gbm\\\", \\\"scale\\\": \\\"scale\\\", \\\"training_size\\\": \\\"5k\\\", \\\"training_year\\\": \\\"2012_14\\\"}\"\n",
    "output_dir = \"output\"\n",
    "seed = \"2023\"\n"
   ]
  },
  {
   "cell_type": "code",
   "execution_count": 5,
   "id": "1650acaf",
   "metadata": {
    "execution": {
     "iopub.execute_input": "2025-08-05T15:38:55.208192Z",
     "iopub.status.busy": "2025-08-05T15:38:55.207231Z",
     "iopub.status.idle": "2025-08-05T15:38:55.213630Z",
     "shell.execute_reply": "2025-08-05T15:38:55.212375Z"
    },
    "papermill": {
     "duration": 0.029622,
     "end_time": "2025-08-05T15:38:55.215670",
     "exception": false,
     "start_time": "2025-08-05T15:38:55.186048",
     "status": "completed"
    },
    "tags": []
   },
   "outputs": [],
   "source": [
    "import json\n",
    "if isinstance(universe, str):\n",
    "    universe = json.loads(universe)"
   ]
  },
  {
   "cell_type": "code",
   "execution_count": 6,
   "id": "16620c48",
   "metadata": {
    "execution": {
     "iopub.execute_input": "2025-08-05T15:38:55.251893Z",
     "iopub.status.busy": "2025-08-05T15:38:55.251298Z",
     "iopub.status.idle": "2025-08-05T15:38:55.297405Z",
     "shell.execute_reply": "2025-08-05T15:38:55.296334Z"
    },
    "papermill": {
     "duration": 0.068404,
     "end_time": "2025-08-05T15:38:55.299496",
     "exception": false,
     "start_time": "2025-08-05T15:38:55.231092",
     "status": "completed"
    },
    "tags": []
   },
   "outputs": [],
   "source": [
    "# Auto-reload the custom package\n",
    "%load_ext autoreload\n",
    "%autoreload 1\n",
    "%aimport fairness_multiverse"
   ]
  },
  {
   "cell_type": "code",
   "execution_count": 7,
   "id": "01c5c9f3",
   "metadata": {
    "execution": {
     "iopub.execute_input": "2025-08-05T15:38:55.345558Z",
     "iopub.status.busy": "2025-08-05T15:38:55.345134Z",
     "iopub.status.idle": "2025-08-05T15:38:56.856091Z",
     "shell.execute_reply": "2025-08-05T15:38:56.855228Z"
    },
    "papermill": {
     "duration": 1.538658,
     "end_time": "2025-08-05T15:38:56.857632",
     "exception": false,
     "start_time": "2025-08-05T15:38:55.318974",
     "status": "completed"
    },
    "tags": []
   },
   "outputs": [],
   "source": [
    "from fairness_multiverse.universe import UniverseAnalysis\n",
    "\n",
    "universe_analysis = UniverseAnalysis(\n",
    "    run_no = run_no,\n",
    "    universe_id = universe_id,\n",
    "    universe = universe,\n",
    "    output_dir=output_dir,\n",
    ")"
   ]
  },
  {
   "cell_type": "code",
   "execution_count": 8,
   "id": "106241f5",
   "metadata": {
    "execution": {
     "iopub.execute_input": "2025-08-05T15:38:56.876870Z",
     "iopub.status.busy": "2025-08-05T15:38:56.876177Z",
     "iopub.status.idle": "2025-08-05T15:38:56.883026Z",
     "shell.execute_reply": "2025-08-05T15:38:56.881781Z"
    },
    "papermill": {
     "duration": 0.018962,
     "end_time": "2025-08-05T15:38:56.885721",
     "exception": false,
     "start_time": "2025-08-05T15:38:56.866759",
     "status": "completed"
    },
    "tags": []
   },
   "outputs": [
    {
     "name": "stdout",
     "output_type": "stream",
     "text": [
      "Using Seed: 2023\n"
     ]
    }
   ],
   "source": [
    "import numpy as np\n",
    "parsed_seed = int(seed)\n",
    "np.random.seed(parsed_seed)\n",
    "print(f\"Using Seed: {parsed_seed}\")"
   ]
  },
  {
   "cell_type": "markdown",
   "id": "e0ebdc57",
   "metadata": {
    "papermill": {
     "duration": 0.023215,
     "end_time": "2025-08-05T15:38:56.937203",
     "exception": false,
     "start_time": "2025-08-05T15:38:56.913988",
     "status": "completed"
    },
    "tags": []
   },
   "source": [
    "# Loading Data"
   ]
  },
  {
   "cell_type": "code",
   "execution_count": 9,
   "id": "f0496b8a",
   "metadata": {
    "execution": {
     "iopub.execute_input": "2025-08-05T15:38:56.957636Z",
     "iopub.status.busy": "2025-08-05T15:38:56.956738Z",
     "iopub.status.idle": "2025-08-05T15:39:08.728332Z",
     "shell.execute_reply": "2025-08-05T15:39:08.727183Z"
    },
    "papermill": {
     "duration": 11.783263,
     "end_time": "2025-08-05T15:39:08.730148",
     "exception": false,
     "start_time": "2025-08-05T15:38:56.946885",
     "status": "completed"
    },
    "tags": []
   },
   "outputs": [
    {
     "name": "stdout",
     "output_type": "stream",
     "text": [
      "Loading SIAB data from cache: data/siab_cached.csv.gz\n"
     ]
    },
    {
     "name": "stdout",
     "output_type": "stream",
     "text": [
      "(643690, 164)\n"
     ]
    }
   ],
   "source": [
    "from pathlib import Path\n",
    "import pandas as pd\n",
    "\n",
    "# File paths\n",
    "raw_file = Path(\"data/raw/siab.csv\")\n",
    "cache_file = Path(\"data/siab_cached.csv.gz\")\n",
    "\n",
    "# Ensure cache directory exists\n",
    "cache_file.parent.mkdir(parents=True, exist_ok=True)\n",
    "\n",
    "# Load with simple caching\n",
    "if cache_file.exists():\n",
    "    print(f\"Loading SIAB data from cache: {cache_file}\")\n",
    "    siab = pd.read_csv(cache_file, compression='gzip')\n",
    "else:\n",
    "    print(f\"Cache not found. Reading raw SIAB data: {raw_file}\")\n",
    "    siab = pd.read_csv(raw_file)\n",
    "    siab.to_csv(cache_file, index=False, compression='gzip')\n",
    "    print(f\"Cached SIAB data to: {cache_file}\")\n",
    "\n",
    "print(siab.shape)"
   ]
  },
  {
   "cell_type": "code",
   "execution_count": 10,
   "id": "db0ca512-5f53-4dba-abdb-a2888bca41ba",
   "metadata": {
    "execution": {
     "iopub.execute_input": "2025-08-05T15:39:08.768937Z",
     "iopub.status.busy": "2025-08-05T15:39:08.768475Z",
     "iopub.status.idle": "2025-08-05T15:39:08.774284Z",
     "shell.execute_reply": "2025-08-05T15:39:08.773189Z"
    },
    "papermill": {
     "duration": 0.025948,
     "end_time": "2025-08-05T15:39:08.776077",
     "exception": false,
     "start_time": "2025-08-05T15:39:08.750129",
     "status": "completed"
    },
    "tags": []
   },
   "outputs": [],
   "source": [
    "#siab"
   ]
  },
  {
   "cell_type": "markdown",
   "id": "997051c5-15bd-4b69-9786-c3001a3ce484",
   "metadata": {
    "papermill": {
     "duration": 0.018713,
     "end_time": "2025-08-05T15:39:08.815407",
     "exception": false,
     "start_time": "2025-08-05T15:39:08.796694",
     "status": "completed"
    },
    "tags": []
   },
   "source": [
    "# Splitting Data and Setting Training Data Size"
   ]
  },
  {
   "cell_type": "code",
   "execution_count": 11,
   "id": "aea9c6ef-6f46-42c8-85eb-5a62025c1508",
   "metadata": {
    "execution": {
     "iopub.execute_input": "2025-08-05T15:39:08.853562Z",
     "iopub.status.busy": "2025-08-05T15:39:08.852782Z",
     "iopub.status.idle": "2025-08-05T15:39:09.457146Z",
     "shell.execute_reply": "2025-08-05T15:39:09.456098Z"
    },
    "papermill": {
     "duration": 0.625713,
     "end_time": "2025-08-05T15:39:09.459341",
     "exception": false,
     "start_time": "2025-08-05T15:39:08.833628",
     "status": "completed"
    },
    "tags": []
   },
   "outputs": [],
   "source": [
    "from fairness_multiverse.universe import sample_by_year_size\n",
    "\n",
    "siab_train = sample_by_year_size(siab,\n",
    "                               training_year=universe[\"training_year\"],\n",
    "                               training_size=universe[\"training_size\"])"
   ]
  },
  {
   "cell_type": "code",
   "execution_count": 12,
   "id": "8d3afb32-789d-442c-8d5d-9f5aa8dd2eed",
   "metadata": {
    "execution": {
     "iopub.execute_input": "2025-08-05T15:39:09.500816Z",
     "iopub.status.busy": "2025-08-05T15:39:09.500103Z",
     "iopub.status.idle": "2025-08-05T15:39:09.505599Z",
     "shell.execute_reply": "2025-08-05T15:39:09.504512Z"
    },
    "papermill": {
     "duration": 0.027941,
     "end_time": "2025-08-05T15:39:09.507721",
     "exception": false,
     "start_time": "2025-08-05T15:39:09.479780",
     "status": "completed"
    },
    "tags": []
   },
   "outputs": [],
   "source": [
    "#siab_train.shape"
   ]
  },
  {
   "cell_type": "code",
   "execution_count": 13,
   "id": "d582db68-1a4c-47fb-84fc-08518dc1975a",
   "metadata": {
    "execution": {
     "iopub.execute_input": "2025-08-05T15:39:09.552114Z",
     "iopub.status.busy": "2025-08-05T15:39:09.551597Z",
     "iopub.status.idle": "2025-08-05T15:39:09.557040Z",
     "shell.execute_reply": "2025-08-05T15:39:09.556058Z"
    },
    "papermill": {
     "duration": 0.0296,
     "end_time": "2025-08-05T15:39:09.559051",
     "exception": false,
     "start_time": "2025-08-05T15:39:09.529451",
     "status": "completed"
    },
    "tags": []
   },
   "outputs": [],
   "source": [
    "#display(siab_train.groupby(\"year\").size())"
   ]
  },
  {
   "cell_type": "code",
   "execution_count": 14,
   "id": "a561edb4-d032-42cb-8256-22eac1111c64",
   "metadata": {
    "execution": {
     "iopub.execute_input": "2025-08-05T15:39:09.602818Z",
     "iopub.status.busy": "2025-08-05T15:39:09.602064Z",
     "iopub.status.idle": "2025-08-05T15:39:09.847991Z",
     "shell.execute_reply": "2025-08-05T15:39:09.846965Z"
    },
    "papermill": {
     "duration": 0.270782,
     "end_time": "2025-08-05T15:39:09.850032",
     "exception": false,
     "start_time": "2025-08-05T15:39:09.579250",
     "status": "completed"
    },
    "tags": []
   },
   "outputs": [],
   "source": [
    "#siab_train = siab_s[siab_s.year < 2015]\n",
    "siab_calib = siab[siab.year == 2015]\n",
    "siab_test = siab[siab.year == 2016]"
   ]
  },
  {
   "cell_type": "code",
   "execution_count": 15,
   "id": "472de16f-c3db-4916-846b-1f0de9cf1746",
   "metadata": {
    "execution": {
     "iopub.execute_input": "2025-08-05T15:39:09.891715Z",
     "iopub.status.busy": "2025-08-05T15:39:09.891192Z",
     "iopub.status.idle": "2025-08-05T15:39:09.905781Z",
     "shell.execute_reply": "2025-08-05T15:39:09.904597Z"
    },
    "papermill": {
     "duration": 0.051618,
     "end_time": "2025-08-05T15:39:09.922135",
     "exception": false,
     "start_time": "2025-08-05T15:39:09.870517",
     "status": "completed"
    },
    "tags": []
   },
   "outputs": [],
   "source": [
    "X_train = siab_train.iloc[:,4:164]\n",
    "y_train = siab_train.iloc[:, [3]]"
   ]
  },
  {
   "cell_type": "code",
   "execution_count": 16,
   "id": "828c96af-f43a-4ed6-ba47-8ac73a47d56c",
   "metadata": {
    "execution": {
     "iopub.execute_input": "2025-08-05T15:39:09.941784Z",
     "iopub.status.busy": "2025-08-05T15:39:09.941457Z",
     "iopub.status.idle": "2025-08-05T15:39:10.000698Z",
     "shell.execute_reply": "2025-08-05T15:39:09.999524Z"
    },
    "papermill": {
     "duration": 0.070809,
     "end_time": "2025-08-05T15:39:10.002531",
     "exception": false,
     "start_time": "2025-08-05T15:39:09.931722",
     "status": "completed"
    },
    "tags": []
   },
   "outputs": [],
   "source": [
    "X_calib = siab_calib.iloc[:,4:164]\n",
    "y_calib = siab_calib.iloc[:, [3]]"
   ]
  },
  {
   "cell_type": "code",
   "execution_count": 17,
   "id": "c34be9c3-6bd6-476e-acd3-845840e303be",
   "metadata": {
    "execution": {
     "iopub.execute_input": "2025-08-05T15:39:10.039148Z",
     "iopub.status.busy": "2025-08-05T15:39:10.038658Z",
     "iopub.status.idle": "2025-08-05T15:39:10.095351Z",
     "shell.execute_reply": "2025-08-05T15:39:10.094216Z"
    },
    "papermill": {
     "duration": 0.076607,
     "end_time": "2025-08-05T15:39:10.097336",
     "exception": false,
     "start_time": "2025-08-05T15:39:10.020729",
     "status": "completed"
    },
    "tags": []
   },
   "outputs": [],
   "source": [
    "X_test = siab_test.iloc[:,4:164]\n",
    "y_true = siab_test.iloc[:, [3]]"
   ]
  },
  {
   "cell_type": "code",
   "execution_count": 18,
   "id": "e6c733c5",
   "metadata": {
    "execution": {
     "iopub.execute_input": "2025-08-05T15:39:10.140022Z",
     "iopub.status.busy": "2025-08-05T15:39:10.139169Z",
     "iopub.status.idle": "2025-08-05T15:39:10.236382Z",
     "shell.execute_reply": "2025-08-05T15:39:10.235298Z"
    },
    "papermill": {
     "duration": 0.119418,
     "end_time": "2025-08-05T15:39:10.238667",
     "exception": false,
     "start_time": "2025-08-05T15:39:10.119249",
     "status": "completed"
    },
    "tags": []
   },
   "outputs": [],
   "source": [
    "# Auxiliary data needed downstream in the pipeline\n",
    "\n",
    "org_train = X_train.copy()\n",
    "org_test = X_test.copy()\n",
    "org_calib = X_calib.copy()"
   ]
  },
  {
   "cell_type": "markdown",
   "id": "0a4a1b33",
   "metadata": {
    "papermill": {
     "duration": 0.01849,
     "end_time": "2025-08-05T15:39:10.279238",
     "exception": false,
     "start_time": "2025-08-05T15:39:10.260748",
     "status": "completed"
    },
    "tags": []
   },
   "source": [
    "# Preprocessing Data"
   ]
  },
  {
   "cell_type": "code",
   "execution_count": 19,
   "id": "ca879031",
   "metadata": {
    "execution": {
     "iopub.execute_input": "2025-08-05T15:39:10.317000Z",
     "iopub.status.busy": "2025-08-05T15:39:10.316165Z",
     "iopub.status.idle": "2025-08-05T15:39:10.322577Z",
     "shell.execute_reply": "2025-08-05T15:39:10.321378Z"
    },
    "papermill": {
     "duration": 0.027244,
     "end_time": "2025-08-05T15:39:10.324360",
     "exception": false,
     "start_time": "2025-08-05T15:39:10.297116",
     "status": "completed"
    },
    "tags": []
   },
   "outputs": [],
   "source": [
    "# EXCLUDE PROTECTED FEATURES\n",
    "# ----------------------\n",
    "# \"exclude_features\": \"none\", # \"nationality\", \"sex\", \"nationality-sex\"\n",
    "\n",
    "excluded_features = universe[\"exclude_features\"].split(\"-\") # split, e.g.: \"nationality-sex\" -> [\"nationality\", \"sex\"]\n",
    "excluded_features_dictionary = {\n",
    "    \"nationality\": [\"maxdeutsch1\", \"maxdeutsch.Missing.\"],\n",
    "    \"sex\": [\"frau1\"],\n",
    "    \"age\": [\"age\"],\n",
    "}"
   ]
  },
  {
   "cell_type": "code",
   "execution_count": 20,
   "id": "b745ac60",
   "metadata": {
    "execution": {
     "iopub.execute_input": "2025-08-05T15:39:10.360361Z",
     "iopub.status.busy": "2025-08-05T15:39:10.359700Z",
     "iopub.status.idle": "2025-08-05T15:39:10.366612Z",
     "shell.execute_reply": "2025-08-05T15:39:10.365638Z"
    },
    "papermill": {
     "duration": 0.026677,
     "end_time": "2025-08-05T15:39:10.368450",
     "exception": false,
     "start_time": "2025-08-05T15:39:10.341773",
     "status": "completed"
    },
    "tags": []
   },
   "outputs": [],
   "source": [
    "# Code nice names to column names\n",
    "\n",
    "excluded_features_columns = [\n",
    "    excluded_features_dictionary[f] for f in excluded_features if len(f) > 0 and f != \"none\"\n",
    "]"
   ]
  },
  {
   "cell_type": "code",
   "execution_count": 21,
   "id": "f84f73a2",
   "metadata": {
    "execution": {
     "iopub.execute_input": "2025-08-05T15:39:10.408426Z",
     "iopub.status.busy": "2025-08-05T15:39:10.407664Z",
     "iopub.status.idle": "2025-08-05T15:39:10.414768Z",
     "shell.execute_reply": "2025-08-05T15:39:10.413772Z"
    },
    "papermill": {
     "duration": 0.028039,
     "end_time": "2025-08-05T15:39:10.416396",
     "exception": false,
     "start_time": "2025-08-05T15:39:10.388357",
     "status": "completed"
    },
    "tags": []
   },
   "outputs": [],
   "source": [
    "from utils import flatten_once\n",
    "\n",
    "excluded_features_columns = flatten_once(excluded_features_columns)"
   ]
  },
  {
   "cell_type": "code",
   "execution_count": 22,
   "id": "884dea22",
   "metadata": {
    "execution": {
     "iopub.execute_input": "2025-08-05T15:39:10.455280Z",
     "iopub.status.busy": "2025-08-05T15:39:10.454691Z",
     "iopub.status.idle": "2025-08-05T15:39:10.464410Z",
     "shell.execute_reply": "2025-08-05T15:39:10.463178Z"
    },
    "papermill": {
     "duration": 0.03088,
     "end_time": "2025-08-05T15:39:10.466214",
     "exception": false,
     "start_time": "2025-08-05T15:39:10.435334",
     "status": "completed"
    },
    "tags": []
   },
   "outputs": [
    {
     "name": "stdout",
     "output_type": "stream",
     "text": [
      "Dropping features: ['age']\n"
     ]
    }
   ],
   "source": [
    "if len(excluded_features_columns) > 0:\n",
    "    print(f\"Dropping features: {excluded_features_columns}\")\n",
    "    X_train.drop(excluded_features_columns, axis=1, inplace=True)"
   ]
  },
  {
   "cell_type": "code",
   "execution_count": 23,
   "id": "95ab8b16",
   "metadata": {
    "execution": {
     "iopub.execute_input": "2025-08-05T15:39:10.506502Z",
     "iopub.status.busy": "2025-08-05T15:39:10.505968Z",
     "iopub.status.idle": "2025-08-05T15:39:10.561407Z",
     "shell.execute_reply": "2025-08-05T15:39:10.560254Z"
    },
    "papermill": {
     "duration": 0.076433,
     "end_time": "2025-08-05T15:39:10.563286",
     "exception": false,
     "start_time": "2025-08-05T15:39:10.486853",
     "status": "completed"
    },
    "tags": []
   },
   "outputs": [
    {
     "name": "stdout",
     "output_type": "stream",
     "text": [
      "Dropping features: ['age']\n"
     ]
    }
   ],
   "source": [
    "if len(excluded_features_columns) > 0:\n",
    "    print(f\"Dropping features: {excluded_features_columns}\")\n",
    "    X_test.drop(excluded_features_columns, axis=1, inplace=True)"
   ]
  },
  {
   "cell_type": "code",
   "execution_count": 24,
   "id": "1853aaf5-fb9f-46cb-a2b5-8ea4ae2237e4",
   "metadata": {
    "execution": {
     "iopub.execute_input": "2025-08-05T15:39:10.606275Z",
     "iopub.status.busy": "2025-08-05T15:39:10.605455Z",
     "iopub.status.idle": "2025-08-05T15:39:10.660878Z",
     "shell.execute_reply": "2025-08-05T15:39:10.659791Z"
    },
    "papermill": {
     "duration": 0.077674,
     "end_time": "2025-08-05T15:39:10.662737",
     "exception": false,
     "start_time": "2025-08-05T15:39:10.585063",
     "status": "completed"
    },
    "tags": []
   },
   "outputs": [
    {
     "name": "stdout",
     "output_type": "stream",
     "text": [
      "Dropping features: ['age']\n"
     ]
    }
   ],
   "source": [
    "if len(excluded_features_columns) > 0:\n",
    "    print(f\"Dropping features: {excluded_features_columns}\")\n",
    "    X_calib.drop(excluded_features_columns, axis=1, inplace=True)"
   ]
  },
  {
   "cell_type": "code",
   "execution_count": 25,
   "id": "76c4dc6d",
   "metadata": {
    "execution": {
     "iopub.execute_input": "2025-08-05T15:39:10.705998Z",
     "iopub.status.busy": "2025-08-05T15:39:10.705198Z",
     "iopub.status.idle": "2025-08-05T15:39:10.711567Z",
     "shell.execute_reply": "2025-08-05T15:39:10.710445Z"
    },
    "papermill": {
     "duration": 0.028696,
     "end_time": "2025-08-05T15:39:10.713392",
     "exception": false,
     "start_time": "2025-08-05T15:39:10.684696",
     "status": "completed"
    },
    "tags": []
   },
   "outputs": [],
   "source": [
    "# EXCLUDE CERTAIN SUBGROUPS\n",
    "# ----------------------\n",
    "\n",
    "mode = universe.get(\"exclude_subgroups\", \"keep-all\") \n",
    "# Fetches the exclude_subgroups setting from the universe dict.\n",
    "# Defaults to \"keep-all\" if the key is missing."
   ]
  },
  {
   "cell_type": "code",
   "execution_count": 26,
   "id": "21994072",
   "metadata": {
    "execution": {
     "iopub.execute_input": "2025-08-05T15:39:10.752256Z",
     "iopub.status.busy": "2025-08-05T15:39:10.751664Z",
     "iopub.status.idle": "2025-08-05T15:39:10.758517Z",
     "shell.execute_reply": "2025-08-05T15:39:10.757375Z"
    },
    "papermill": {
     "duration": 0.02722,
     "end_time": "2025-08-05T15:39:10.760232",
     "exception": false,
     "start_time": "2025-08-05T15:39:10.733012",
     "status": "completed"
    },
    "tags": []
   },
   "outputs": [],
   "source": [
    "if mode == \"keep-all\":\n",
    "    keep_mask = pd.Series(True, index=org_train.index)\n",
    "\n",
    "# org_train contains the original feature columns from features_org (in Simson)\n",
    "# features_org contains unprocessed features, for me X_train at beginning ???\n",
    "# For keep-all, creates a boolean Series (keep_mask) of all True, so no rows are removed.\n",
    "\n",
    "elif mode == \"drop-non-german\":\n",
    "    keep_mask = org_train[\"maxdeutsch1\"] == 1 # ??? what about missing values?\n",
    "\n",
    "else:\n",
    "    raise ValueError(f\"Unsupported mode for exclude_subgroups: {mode}\")"
   ]
  },
  {
   "cell_type": "code",
   "execution_count": 27,
   "id": "71651440",
   "metadata": {
    "execution": {
     "iopub.execute_input": "2025-08-05T15:39:10.799329Z",
     "iopub.status.busy": "2025-08-05T15:39:10.798755Z",
     "iopub.status.idle": "2025-08-05T15:39:10.805341Z",
     "shell.execute_reply": "2025-08-05T15:39:10.804352Z"
    },
    "papermill": {
     "duration": 0.028666,
     "end_time": "2025-08-05T15:39:10.807101",
     "exception": false,
     "start_time": "2025-08-05T15:39:10.778435",
     "status": "completed"
    },
    "tags": []
   },
   "outputs": [],
   "source": [
    "n_drop = (~keep_mask).sum() # Calculates how many rows are set to be dropped\n",
    "if n_drop > 0:\n",
    "    pct = n_drop / len(keep_mask) * 100\n",
    "    print(f\"Dropping {n_drop} rows ({pct:.2f}%) where mode='{mode}'\")"
   ]
  },
  {
   "cell_type": "code",
   "execution_count": 28,
   "id": "5fb8eee5",
   "metadata": {
    "execution": {
     "iopub.execute_input": "2025-08-05T15:39:10.846668Z",
     "iopub.status.busy": "2025-08-05T15:39:10.846120Z",
     "iopub.status.idle": "2025-08-05T15:39:10.853869Z",
     "shell.execute_reply": "2025-08-05T15:39:10.852746Z"
    },
    "papermill": {
     "duration": 0.029364,
     "end_time": "2025-08-05T15:39:10.855705",
     "exception": false,
     "start_time": "2025-08-05T15:39:10.826341",
     "status": "completed"
    },
    "tags": []
   },
   "outputs": [],
   "source": [
    "X_train = X_train[keep_mask]"
   ]
  },
  {
   "cell_type": "code",
   "execution_count": 29,
   "id": "b202bb3a",
   "metadata": {
    "execution": {
     "iopub.execute_input": "2025-08-05T15:39:10.897468Z",
     "iopub.status.busy": "2025-08-05T15:39:10.896889Z",
     "iopub.status.idle": "2025-08-05T15:39:10.903042Z",
     "shell.execute_reply": "2025-08-05T15:39:10.902074Z"
    },
    "papermill": {
     "duration": 0.029346,
     "end_time": "2025-08-05T15:39:10.904758",
     "exception": false,
     "start_time": "2025-08-05T15:39:10.875412",
     "status": "completed"
    },
    "tags": []
   },
   "outputs": [],
   "source": [
    "y_train = y_train[keep_mask]"
   ]
  },
  {
   "cell_type": "markdown",
   "id": "493e2ac3",
   "metadata": {
    "papermill": {
     "duration": 0.020624,
     "end_time": "2025-08-05T15:39:10.944595",
     "exception": false,
     "start_time": "2025-08-05T15:39:10.923971",
     "status": "completed"
    },
    "tags": []
   },
   "source": [
    "# Model Training"
   ]
  },
  {
   "cell_type": "code",
   "execution_count": 30,
   "id": "679e1268",
   "metadata": {
    "execution": {
     "iopub.execute_input": "2025-08-05T15:39:10.984589Z",
     "iopub.status.busy": "2025-08-05T15:39:10.983808Z",
     "iopub.status.idle": "2025-08-05T15:39:11.086046Z",
     "shell.execute_reply": "2025-08-05T15:39:11.085031Z"
    },
    "papermill": {
     "duration": 0.124534,
     "end_time": "2025-08-05T15:39:11.087954",
     "exception": false,
     "start_time": "2025-08-05T15:39:10.963420",
     "status": "completed"
    },
    "tags": []
   },
   "outputs": [],
   "source": [
    "from sklearn.linear_model import LogisticRegression\n",
    "from sklearn.ensemble import GradientBoostingClassifier, RandomForestClassifier\n",
    "\n",
    "if (universe[\"model\"] == \"logreg\"):\n",
    "    model = LogisticRegression() #penalty=\"none\", solver=\"newton-cg\", max_iter=1) # include random_state=19 ?\n",
    "elif (universe[\"model\"] == \"penalized_logreg\"):\n",
    "    model = LogisticRegression(penalty=\"l2\", C=0.1) #, solver=\"newton-cg\", max_iter=1)\n",
    "elif (universe[\"model\"] == \"rf\"):\n",
    "    model = RandomForestClassifier() # n_estimators=100, n_jobs=-1\n",
    "elif (universe[\"model\"] == \"gbm\"):\n",
    "    model = GradientBoostingClassifier()\n",
    "elif (universe[\"model\"] == \"elasticnet\"):\n",
    "    model = LogisticRegression(penalty = 'elasticnet', solver = 'saga', l1_ratio = 0.5) # max_iter=5000\n",
    "else:\n",
    "    raise \"Unsupported universe.model\""
   ]
  },
  {
   "cell_type": "code",
   "execution_count": 31,
   "id": "0cc8f744",
   "metadata": {
    "execution": {
     "iopub.execute_input": "2025-08-05T15:39:11.131981Z",
     "iopub.status.busy": "2025-08-05T15:39:11.131297Z",
     "iopub.status.idle": "2025-08-05T15:39:11.137961Z",
     "shell.execute_reply": "2025-08-05T15:39:11.136813Z"
    },
    "papermill": {
     "duration": 0.030527,
     "end_time": "2025-08-05T15:39:11.139788",
     "exception": false,
     "start_time": "2025-08-05T15:39:11.109261",
     "status": "completed"
    },
    "tags": []
   },
   "outputs": [],
   "source": [
    "import numpy as np\n",
    "from sklearn.pipeline import Pipeline\n",
    "from sklearn.preprocessing import StandardScaler\n",
    "\n",
    "model = Pipeline([\n",
    "    #(\"continuous_processor\", continuous_processor),\n",
    "    #(\"categorical_preprocessor\", categorical_preprocessor),\n",
    "    (\"scale\", StandardScaler() if universe[\"scale\"] == \"scale\" else None), \n",
    "    (\"model\", model),\n",
    "])"
   ]
  },
  {
   "cell_type": "code",
   "execution_count": 32,
   "id": "9442c04d",
   "metadata": {
    "execution": {
     "iopub.execute_input": "2025-08-05T15:39:11.184726Z",
     "iopub.status.busy": "2025-08-05T15:39:11.183773Z",
     "iopub.status.idle": "2025-08-05T15:39:15.882184Z",
     "shell.execute_reply": "2025-08-05T15:39:15.881368Z"
    },
    "papermill": {
     "duration": 4.722178,
     "end_time": "2025-08-05T15:39:15.883457",
     "exception": false,
     "start_time": "2025-08-05T15:39:11.161279",
     "status": "completed"
    },
    "tags": []
   },
   "outputs": [
    {
     "data": {
      "text/html": [
       "<style>#sk-container-id-1 {color: black;background-color: white;}#sk-container-id-1 pre{padding: 0;}#sk-container-id-1 div.sk-toggleable {background-color: white;}#sk-container-id-1 label.sk-toggleable__label {cursor: pointer;display: block;width: 100%;margin-bottom: 0;padding: 0.3em;box-sizing: border-box;text-align: center;}#sk-container-id-1 label.sk-toggleable__label-arrow:before {content: \"▸\";float: left;margin-right: 0.25em;color: #696969;}#sk-container-id-1 label.sk-toggleable__label-arrow:hover:before {color: black;}#sk-container-id-1 div.sk-estimator:hover label.sk-toggleable__label-arrow:before {color: black;}#sk-container-id-1 div.sk-toggleable__content {max-height: 0;max-width: 0;overflow: hidden;text-align: left;background-color: #f0f8ff;}#sk-container-id-1 div.sk-toggleable__content pre {margin: 0.2em;color: black;border-radius: 0.25em;background-color: #f0f8ff;}#sk-container-id-1 input.sk-toggleable__control:checked~div.sk-toggleable__content {max-height: 200px;max-width: 100%;overflow: auto;}#sk-container-id-1 input.sk-toggleable__control:checked~label.sk-toggleable__label-arrow:before {content: \"▾\";}#sk-container-id-1 div.sk-estimator input.sk-toggleable__control:checked~label.sk-toggleable__label {background-color: #d4ebff;}#sk-container-id-1 div.sk-label input.sk-toggleable__control:checked~label.sk-toggleable__label {background-color: #d4ebff;}#sk-container-id-1 input.sk-hidden--visually {border: 0;clip: rect(1px 1px 1px 1px);clip: rect(1px, 1px, 1px, 1px);height: 1px;margin: -1px;overflow: hidden;padding: 0;position: absolute;width: 1px;}#sk-container-id-1 div.sk-estimator {font-family: monospace;background-color: #f0f8ff;border: 1px dotted black;border-radius: 0.25em;box-sizing: border-box;margin-bottom: 0.5em;}#sk-container-id-1 div.sk-estimator:hover {background-color: #d4ebff;}#sk-container-id-1 div.sk-parallel-item::after {content: \"\";width: 100%;border-bottom: 1px solid gray;flex-grow: 1;}#sk-container-id-1 div.sk-label:hover label.sk-toggleable__label {background-color: #d4ebff;}#sk-container-id-1 div.sk-serial::before {content: \"\";position: absolute;border-left: 1px solid gray;box-sizing: border-box;top: 0;bottom: 0;left: 50%;z-index: 0;}#sk-container-id-1 div.sk-serial {display: flex;flex-direction: column;align-items: center;background-color: white;padding-right: 0.2em;padding-left: 0.2em;position: relative;}#sk-container-id-1 div.sk-item {position: relative;z-index: 1;}#sk-container-id-1 div.sk-parallel {display: flex;align-items: stretch;justify-content: center;background-color: white;position: relative;}#sk-container-id-1 div.sk-item::before, #sk-container-id-1 div.sk-parallel-item::before {content: \"\";position: absolute;border-left: 1px solid gray;box-sizing: border-box;top: 0;bottom: 0;left: 50%;z-index: -1;}#sk-container-id-1 div.sk-parallel-item {display: flex;flex-direction: column;z-index: 1;position: relative;background-color: white;}#sk-container-id-1 div.sk-parallel-item:first-child::after {align-self: flex-end;width: 50%;}#sk-container-id-1 div.sk-parallel-item:last-child::after {align-self: flex-start;width: 50%;}#sk-container-id-1 div.sk-parallel-item:only-child::after {width: 0;}#sk-container-id-1 div.sk-dashed-wrapped {border: 1px dashed gray;margin: 0 0.4em 0.5em 0.4em;box-sizing: border-box;padding-bottom: 0.4em;background-color: white;}#sk-container-id-1 div.sk-label label {font-family: monospace;font-weight: bold;display: inline-block;line-height: 1.2em;}#sk-container-id-1 div.sk-label-container {text-align: center;}#sk-container-id-1 div.sk-container {/* jupyter's `normalize.less` sets `[hidden] { display: none; }` but bootstrap.min.css set `[hidden] { display: none !important; }` so we also need the `!important` here to be able to override the default hidden behavior on the sphinx rendered scikit-learn.org. See: https://github.com/scikit-learn/scikit-learn/issues/21755 */display: inline-block !important;position: relative;}#sk-container-id-1 div.sk-text-repr-fallback {display: none;}</style><div id=\"sk-container-id-1\" class=\"sk-top-container\"><div class=\"sk-text-repr-fallback\"><pre>Pipeline(steps=[(&#x27;scale&#x27;, StandardScaler()),\n",
       "                (&#x27;model&#x27;, GradientBoostingClassifier())])</pre><b>In a Jupyter environment, please rerun this cell to show the HTML representation or trust the notebook. <br />On GitHub, the HTML representation is unable to render, please try loading this page with nbviewer.org.</b></div><div class=\"sk-container\" hidden><div class=\"sk-item sk-dashed-wrapped\"><div class=\"sk-label-container\"><div class=\"sk-label sk-toggleable\"><input class=\"sk-toggleable__control sk-hidden--visually\" id=\"sk-estimator-id-1\" type=\"checkbox\" ><label for=\"sk-estimator-id-1\" class=\"sk-toggleable__label sk-toggleable__label-arrow\">Pipeline</label><div class=\"sk-toggleable__content\"><pre>Pipeline(steps=[(&#x27;scale&#x27;, StandardScaler()),\n",
       "                (&#x27;model&#x27;, GradientBoostingClassifier())])</pre></div></div></div><div class=\"sk-serial\"><div class=\"sk-item\"><div class=\"sk-estimator sk-toggleable\"><input class=\"sk-toggleable__control sk-hidden--visually\" id=\"sk-estimator-id-2\" type=\"checkbox\" ><label for=\"sk-estimator-id-2\" class=\"sk-toggleable__label sk-toggleable__label-arrow\">StandardScaler</label><div class=\"sk-toggleable__content\"><pre>StandardScaler()</pre></div></div></div><div class=\"sk-item\"><div class=\"sk-estimator sk-toggleable\"><input class=\"sk-toggleable__control sk-hidden--visually\" id=\"sk-estimator-id-3\" type=\"checkbox\" ><label for=\"sk-estimator-id-3\" class=\"sk-toggleable__label sk-toggleable__label-arrow\">GradientBoostingClassifier</label><div class=\"sk-toggleable__content\"><pre>GradientBoostingClassifier()</pre></div></div></div></div></div></div></div>"
      ],
      "text/plain": [
       "Pipeline(steps=[('scale', StandardScaler()),\n",
       "                ('model', GradientBoostingClassifier())])"
      ]
     },
     "execution_count": 32,
     "metadata": {},
     "output_type": "execute_result"
    }
   ],
   "source": [
    "model.fit(X_train, y_train.values.ravel())"
   ]
  },
  {
   "cell_type": "code",
   "execution_count": 33,
   "id": "af59f8c0",
   "metadata": {
    "execution": {
     "iopub.execute_input": "2025-08-05T15:39:15.905413Z",
     "iopub.status.busy": "2025-08-05T15:39:15.904716Z",
     "iopub.status.idle": "2025-08-05T15:39:15.909584Z",
     "shell.execute_reply": "2025-08-05T15:39:15.908804Z"
    },
    "papermill": {
     "duration": 0.017118,
     "end_time": "2025-08-05T15:39:15.911136",
     "exception": false,
     "start_time": "2025-08-05T15:39:15.894018",
     "status": "completed"
    },
    "tags": []
   },
   "outputs": [],
   "source": [
    "from fairness_multiverse.universe import predict_w_threshold"
   ]
  },
  {
   "cell_type": "code",
   "execution_count": 34,
   "id": "a7cf2e16",
   "metadata": {
    "execution": {
     "iopub.execute_input": "2025-08-05T15:39:15.933678Z",
     "iopub.status.busy": "2025-08-05T15:39:15.933147Z",
     "iopub.status.idle": "2025-08-05T15:39:16.433094Z",
     "shell.execute_reply": "2025-08-05T15:39:16.432194Z"
    },
    "papermill": {
     "duration": 0.512209,
     "end_time": "2025-08-05T15:39:16.434554",
     "exception": false,
     "start_time": "2025-08-05T15:39:15.922345",
     "status": "completed"
    },
    "tags": []
   },
   "outputs": [
    {
     "data": {
      "text/plain": [
       "0.8618994537955634"
      ]
     },
     "execution_count": 34,
     "metadata": {},
     "output_type": "execute_result"
    }
   ],
   "source": [
    "probs_test = model.predict_proba(X_test)\n",
    "\n",
    "'''\n",
    "Below code returns a boolean array (or binary 0/1 array depending on how it’s used) where each element \n",
    "is True if the probability of class 1 is greater than or equal to the threshold, and False otherwise.\n",
    "'''\n",
    "y_pred_default = predict_w_threshold(probs_test, 0.5)\n",
    "\n",
    "from sklearn.metrics import accuracy_score\n",
    "\n",
    "# Naive prediction\n",
    "accuracy_score(y_true = y_true, y_pred = y_pred_default)"
   ]
  },
  {
   "cell_type": "code",
   "execution_count": 35,
   "id": "081964c3",
   "metadata": {
    "execution": {
     "iopub.execute_input": "2025-08-05T15:39:16.459860Z",
     "iopub.status.busy": "2025-08-05T15:39:16.459507Z",
     "iopub.status.idle": "2025-08-05T15:39:16.936127Z",
     "shell.execute_reply": "2025-08-05T15:39:16.935225Z"
    },
    "papermill": {
     "duration": 0.489233,
     "end_time": "2025-08-05T15:39:16.937512",
     "exception": false,
     "start_time": "2025-08-05T15:39:16.448279",
     "status": "completed"
    },
    "tags": []
   },
   "outputs": [
    {
     "data": {
      "text/plain": [
       "array([0, 0, 0, ..., 0, 0, 0])"
      ]
     },
     "execution_count": 35,
     "metadata": {},
     "output_type": "execute_result"
    }
   ],
   "source": [
    "model.predict(X_test)"
   ]
  },
  {
   "cell_type": "markdown",
   "id": "56c9705b",
   "metadata": {
    "papermill": {
     "duration": 0.010098,
     "end_time": "2025-08-05T15:39:16.958546",
     "exception": false,
     "start_time": "2025-08-05T15:39:16.948448",
     "status": "completed"
    },
    "tags": []
   },
   "source": [
    "# Conformal Prediction"
   ]
  },
  {
   "cell_type": "code",
   "execution_count": 36,
   "id": "160ec6ff",
   "metadata": {
    "execution": {
     "iopub.execute_input": "2025-08-05T15:39:16.980505Z",
     "iopub.status.busy": "2025-08-05T15:39:16.979963Z",
     "iopub.status.idle": "2025-08-05T15:39:16.984929Z",
     "shell.execute_reply": "2025-08-05T15:39:16.984188Z"
    },
    "papermill": {
     "duration": 0.018001,
     "end_time": "2025-08-05T15:39:16.986643",
     "exception": false,
     "start_time": "2025-08-05T15:39:16.968642",
     "status": "completed"
    },
    "tags": []
   },
   "outputs": [],
   "source": [
    "# Miscoverage level for conformal prediction (10% allowed error rate => 90% target coverage)\n",
    "alpha = 0.1"
   ]
  },
  {
   "cell_type": "code",
   "execution_count": 37,
   "id": "eadf4555-3dd3-440e-8e35-f82a4ad9f855",
   "metadata": {
    "execution": {
     "iopub.execute_input": "2025-08-05T15:39:17.010018Z",
     "iopub.status.busy": "2025-08-05T15:39:17.009251Z",
     "iopub.status.idle": "2025-08-05T15:39:17.467758Z",
     "shell.execute_reply": "2025-08-05T15:39:17.466972Z"
    },
    "papermill": {
     "duration": 0.471117,
     "end_time": "2025-08-05T15:39:17.469298",
     "exception": false,
     "start_time": "2025-08-05T15:39:16.998181",
     "status": "completed"
    },
    "tags": []
   },
   "outputs": [],
   "source": [
    "probs_calib = model.predict_proba(X_calib)"
   ]
  },
  {
   "cell_type": "code",
   "execution_count": 38,
   "id": "2ed93547-6d5d-4983-9b36-1ecb300da49a",
   "metadata": {
    "execution": {
     "iopub.execute_input": "2025-08-05T15:39:17.492459Z",
     "iopub.status.busy": "2025-08-05T15:39:17.492106Z",
     "iopub.status.idle": "2025-08-05T15:39:17.497107Z",
     "shell.execute_reply": "2025-08-05T15:39:17.496273Z"
    },
    "papermill": {
     "duration": 0.017986,
     "end_time": "2025-08-05T15:39:17.498781",
     "exception": false,
     "start_time": "2025-08-05T15:39:17.480795",
     "status": "completed"
    },
    "tags": []
   },
   "outputs": [],
   "source": [
    "y_calib = y_calib.values.ravel().astype(int)"
   ]
  },
  {
   "cell_type": "code",
   "execution_count": 39,
   "id": "65d1320d-f588-4b38-9072-62af1ae97f7d",
   "metadata": {
    "execution": {
     "iopub.execute_input": "2025-08-05T15:39:17.521758Z",
     "iopub.status.busy": "2025-08-05T15:39:17.521380Z",
     "iopub.status.idle": "2025-08-05T15:39:17.527664Z",
     "shell.execute_reply": "2025-08-05T15:39:17.526800Z"
    },
    "papermill": {
     "duration": 0.019072,
     "end_time": "2025-08-05T15:39:17.529569",
     "exception": false,
     "start_time": "2025-08-05T15:39:17.510497",
     "status": "completed"
    },
    "tags": []
   },
   "outputs": [],
   "source": [
    "from fairness_multiverse.conformal import compute_nc_scores\n",
    "\n",
    "# Compute nonconformity scores on calibration set (1 - probability of true class)\n",
    "nc_scores = compute_nc_scores(probs_calib, y_calib)"
   ]
  },
  {
   "cell_type": "code",
   "execution_count": 40,
   "id": "df3b8ca3-53b7-43d5-9667-7c85da7aeda2",
   "metadata": {
    "execution": {
     "iopub.execute_input": "2025-08-05T15:39:17.574321Z",
     "iopub.status.busy": "2025-08-05T15:39:17.573456Z",
     "iopub.status.idle": "2025-08-05T15:39:17.579882Z",
     "shell.execute_reply": "2025-08-05T15:39:17.578755Z"
    },
    "papermill": {
     "duration": 0.030042,
     "end_time": "2025-08-05T15:39:17.581697",
     "exception": false,
     "start_time": "2025-08-05T15:39:17.551655",
     "status": "completed"
    },
    "tags": []
   },
   "outputs": [],
   "source": [
    "from fairness_multiverse.conformal import find_threshold\n",
    "\n",
    "# Find conformal threshold q_hat for the given alpha (split conformal method)\n",
    "q_hat = find_threshold(nc_scores, alpha)"
   ]
  },
  {
   "cell_type": "code",
   "execution_count": 41,
   "id": "4d29e6c1-0ef6-4aa4-b8fe-4fe79b0d033a",
   "metadata": {
    "execution": {
     "iopub.execute_input": "2025-08-05T15:39:17.626241Z",
     "iopub.status.busy": "2025-08-05T15:39:17.625342Z",
     "iopub.status.idle": "2025-08-05T15:39:17.634477Z",
     "shell.execute_reply": "2025-08-05T15:39:17.633157Z"
    },
    "papermill": {
     "duration": 0.034212,
     "end_time": "2025-08-05T15:39:17.636393",
     "exception": false,
     "start_time": "2025-08-05T15:39:17.602181",
     "status": "completed"
    },
    "tags": []
   },
   "outputs": [
    {
     "data": {
      "text/plain": [
       "0.7088011543745274"
      ]
     },
     "execution_count": 41,
     "metadata": {},
     "output_type": "execute_result"
    }
   ],
   "source": [
    "q_hat"
   ]
  },
  {
   "cell_type": "code",
   "execution_count": 42,
   "id": "92460794-cdac-4be2-ba28-f28c0515a6fb",
   "metadata": {
    "execution": {
     "iopub.execute_input": "2025-08-05T15:39:17.682532Z",
     "iopub.status.busy": "2025-08-05T15:39:17.681344Z",
     "iopub.status.idle": "2025-08-05T15:39:19.037868Z",
     "shell.execute_reply": "2025-08-05T15:39:19.037104Z"
    },
    "papermill": {
     "duration": 1.381068,
     "end_time": "2025-08-05T15:39:19.039290",
     "exception": false,
     "start_time": "2025-08-05T15:39:17.658222",
     "status": "completed"
    },
    "tags": []
   },
   "outputs": [],
   "source": [
    "from fairness_multiverse.conformal import predict_conformal_sets\n",
    "\n",
    "# Generate prediction sets for each test example\n",
    "pred_sets = predict_conformal_sets(model, X_test, q_hat)"
   ]
  },
  {
   "cell_type": "code",
   "execution_count": 43,
   "id": "d90c9a65-e6db-4f5d-80cd-e68fb7e46829",
   "metadata": {
    "execution": {
     "iopub.execute_input": "2025-08-05T15:39:19.064966Z",
     "iopub.status.busy": "2025-08-05T15:39:19.064464Z",
     "iopub.status.idle": "2025-08-05T15:39:19.073570Z",
     "shell.execute_reply": "2025-08-05T15:39:19.068969Z"
    },
    "papermill": {
     "duration": 0.02579,
     "end_time": "2025-08-05T15:39:19.078714",
     "exception": false,
     "start_time": "2025-08-05T15:39:19.052924",
     "status": "completed"
    },
    "tags": []
   },
   "outputs": [],
   "source": [
    "y_true = y_true.squeeze()"
   ]
  },
  {
   "cell_type": "code",
   "execution_count": 44,
   "id": "3a58a54a-1e68-46b9-927a-df01f18aebc8",
   "metadata": {
    "execution": {
     "iopub.execute_input": "2025-08-05T15:39:19.122359Z",
     "iopub.status.busy": "2025-08-05T15:39:19.121779Z",
     "iopub.status.idle": "2025-08-05T15:39:20.063507Z",
     "shell.execute_reply": "2025-08-05T15:39:20.062746Z"
    },
    "papermill": {
     "duration": 0.964967,
     "end_time": "2025-08-05T15:39:20.064918",
     "exception": false,
     "start_time": "2025-08-05T15:39:19.099951",
     "status": "completed"
    },
    "tags": []
   },
   "outputs": [],
   "source": [
    "from fairness_multiverse.conformal import evaluate_sets\n",
    "\n",
    "# Evaluate coverage and average set size on test data\n",
    "metrics = evaluate_sets(pred_sets, y_true)"
   ]
  },
  {
   "cell_type": "markdown",
   "id": "2b569c12-9aaa-4c88-98c9-bbcd0cf3ebb8",
   "metadata": {
    "papermill": {
     "duration": 0.010402,
     "end_time": "2025-08-05T15:39:20.086691",
     "exception": false,
     "start_time": "2025-08-05T15:39:20.076289",
     "status": "completed"
    },
    "tags": []
   },
   "source": [
    "# CP Metrics"
   ]
  },
  {
   "cell_type": "code",
   "execution_count": 45,
   "id": "5ce0a5cb-201f-45a0-ade5-94c7f0bd6095",
   "metadata": {
    "execution": {
     "iopub.execute_input": "2025-08-05T15:39:20.108932Z",
     "iopub.status.busy": "2025-08-05T15:39:20.108281Z",
     "iopub.status.idle": "2025-08-05T15:39:20.114792Z",
     "shell.execute_reply": "2025-08-05T15:39:20.113785Z"
    },
    "papermill": {
     "duration": 0.019193,
     "end_time": "2025-08-05T15:39:20.116347",
     "exception": false,
     "start_time": "2025-08-05T15:39:20.097154",
     "status": "completed"
    },
    "tags": []
   },
   "outputs": [
    {
     "data": {
      "text/plain": [
       "{'coverage': 0.9101660907368186, 'avg_size': 1.1315015048489578}"
      ]
     },
     "execution_count": 45,
     "metadata": {},
     "output_type": "execute_result"
    }
   ],
   "source": [
    "metrics"
   ]
  },
  {
   "cell_type": "code",
   "execution_count": 46,
   "id": "9b9a838d-31c9-430b-ae14-12baee460d17",
   "metadata": {
    "execution": {
     "iopub.execute_input": "2025-08-05T15:39:20.144754Z",
     "iopub.status.busy": "2025-08-05T15:39:20.144213Z",
     "iopub.status.idle": "2025-08-05T15:39:20.149337Z",
     "shell.execute_reply": "2025-08-05T15:39:20.148524Z"
    },
    "papermill": {
     "duration": 0.01795,
     "end_time": "2025-08-05T15:39:20.150844",
     "exception": false,
     "start_time": "2025-08-05T15:39:20.132894",
     "status": "completed"
    },
    "tags": []
   },
   "outputs": [],
   "source": [
    "example_universe = universe.copy()\n",
    "universe_training_year = example_universe.get(\"training_year\")\n",
    "universe_training_size = example_universe.get(\"training_size\")\n",
    "universe_scale = example_universe.get(\"scale\")\n",
    "universe_model = example_universe.get(\"model\")\n",
    "universe_exclude_features = example_universe.get(\"exclude_features\")\n",
    "universe_exclude_subgroups = example_universe.get(\"exclude_subgroups\")"
   ]
  },
  {
   "cell_type": "code",
   "execution_count": 47,
   "id": "f4b6a8ac-9dc0-4245-8a91-5b3b5999c4f9",
   "metadata": {
    "execution": {
     "iopub.execute_input": "2025-08-05T15:39:20.173897Z",
     "iopub.status.busy": "2025-08-05T15:39:20.173454Z",
     "iopub.status.idle": "2025-08-05T15:39:20.178237Z",
     "shell.execute_reply": "2025-08-05T15:39:20.177378Z"
    },
    "papermill": {
     "duration": 0.017684,
     "end_time": "2025-08-05T15:39:20.179738",
     "exception": false,
     "start_time": "2025-08-05T15:39:20.162054",
     "status": "completed"
    },
    "tags": []
   },
   "outputs": [],
   "source": [
    "cp_metrics_dict = {\n",
    "    \"universe_id\": [universe_id],\n",
    "    \"universe_training_year\": [universe_training_year],\n",
    "    \"universe_training_size\": [universe_training_size],\n",
    "    \"universe_scale\": [universe_scale],\n",
    "    \"universe_model\": [universe_model],\n",
    "    \"universe_exclude_features\": [universe_exclude_features],\n",
    "    \"universe_exclude_subgroups\": [universe_exclude_subgroups],\n",
    "    \"q_hat\": [q_hat],\n",
    "    \"coverage\": [metrics[\"coverage\"]],\n",
    "    \"avg_size\": [metrics[\"avg_size\"]],\n",
    "}"
   ]
  },
  {
   "cell_type": "code",
   "execution_count": 48,
   "id": "908acbb1-0371-4915-85ca-3fa520d2efe2",
   "metadata": {
    "execution": {
     "iopub.execute_input": "2025-08-05T15:39:20.202634Z",
     "iopub.status.busy": "2025-08-05T15:39:20.202413Z",
     "iopub.status.idle": "2025-08-05T15:39:20.208368Z",
     "shell.execute_reply": "2025-08-05T15:39:20.207557Z"
    },
    "papermill": {
     "duration": 0.01875,
     "end_time": "2025-08-05T15:39:20.209899",
     "exception": false,
     "start_time": "2025-08-05T15:39:20.191149",
     "status": "completed"
    },
    "tags": []
   },
   "outputs": [
    {
     "data": {
      "text/plain": [
       "{'universe_id': ['3d58e587564eb346a04702fae52e4b3d'],\n",
       " 'universe_training_year': ['2012_14'],\n",
       " 'universe_training_size': ['5k'],\n",
       " 'universe_scale': ['scale'],\n",
       " 'universe_model': ['gbm'],\n",
       " 'universe_exclude_features': ['age'],\n",
       " 'universe_exclude_subgroups': ['keep-all'],\n",
       " 'q_hat': [0.7088011543745274],\n",
       " 'coverage': [0.9101660907368186],\n",
       " 'avg_size': [1.1315015048489578]}"
      ]
     },
     "execution_count": 48,
     "metadata": {},
     "output_type": "execute_result"
    }
   ],
   "source": [
    "cp_metrics_dict"
   ]
  },
  {
   "cell_type": "code",
   "execution_count": 49,
   "id": "33007efc-14e9-4ec6-97ac-56a455c82265",
   "metadata": {
    "execution": {
     "iopub.execute_input": "2025-08-05T15:39:20.233822Z",
     "iopub.status.busy": "2025-08-05T15:39:20.233295Z",
     "iopub.status.idle": "2025-08-05T15:39:20.239204Z",
     "shell.execute_reply": "2025-08-05T15:39:20.238096Z"
    },
    "papermill": {
     "duration": 0.019382,
     "end_time": "2025-08-05T15:39:20.241148",
     "exception": false,
     "start_time": "2025-08-05T15:39:20.221766",
     "status": "completed"
    },
    "tags": []
   },
   "outputs": [],
   "source": [
    "cp_metrics_df = pd.DataFrame(cp_metrics_dict)"
   ]
  },
  {
   "cell_type": "code",
   "execution_count": 50,
   "id": "db12611b-57b2-4910-b9d0-355adfd6e7bf",
   "metadata": {
    "execution": {
     "iopub.execute_input": "2025-08-05T15:39:20.291187Z",
     "iopub.status.busy": "2025-08-05T15:39:20.290893Z",
     "iopub.status.idle": "2025-08-05T15:39:20.309649Z",
     "shell.execute_reply": "2025-08-05T15:39:20.308732Z"
    },
    "papermill": {
     "duration": 0.045938,
     "end_time": "2025-08-05T15:39:20.311240",
     "exception": false,
     "start_time": "2025-08-05T15:39:20.265302",
     "status": "completed"
    },
    "tags": []
   },
   "outputs": [
    {
     "data": {
      "text/html": [
       "<div>\n",
       "<style scoped>\n",
       "    .dataframe tbody tr th:only-of-type {\n",
       "        vertical-align: middle;\n",
       "    }\n",
       "\n",
       "    .dataframe tbody tr th {\n",
       "        vertical-align: top;\n",
       "    }\n",
       "\n",
       "    .dataframe thead th {\n",
       "        text-align: right;\n",
       "    }\n",
       "</style>\n",
       "<table border=\"1\" class=\"dataframe\">\n",
       "  <thead>\n",
       "    <tr style=\"text-align: right;\">\n",
       "      <th></th>\n",
       "      <th>universe_id</th>\n",
       "      <th>universe_training_year</th>\n",
       "      <th>universe_training_size</th>\n",
       "      <th>universe_scale</th>\n",
       "      <th>universe_model</th>\n",
       "      <th>universe_exclude_features</th>\n",
       "      <th>universe_exclude_subgroups</th>\n",
       "      <th>q_hat</th>\n",
       "      <th>coverage</th>\n",
       "      <th>avg_size</th>\n",
       "    </tr>\n",
       "  </thead>\n",
       "  <tbody>\n",
       "    <tr>\n",
       "      <th>0</th>\n",
       "      <td>3d58e587564eb346a04702fae52e4b3d</td>\n",
       "      <td>2012_14</td>\n",
       "      <td>5k</td>\n",
       "      <td>scale</td>\n",
       "      <td>gbm</td>\n",
       "      <td>age</td>\n",
       "      <td>keep-all</td>\n",
       "      <td>0.708801</td>\n",
       "      <td>0.910166</td>\n",
       "      <td>1.131502</td>\n",
       "    </tr>\n",
       "  </tbody>\n",
       "</table>\n",
       "</div>"
      ],
      "text/plain": [
       "                        universe_id universe_training_year  \\\n",
       "0  3d58e587564eb346a04702fae52e4b3d                2012_14   \n",
       "\n",
       "  universe_training_size universe_scale universe_model  \\\n",
       "0                     5k          scale            gbm   \n",
       "\n",
       "  universe_exclude_features universe_exclude_subgroups     q_hat  coverage  \\\n",
       "0                       age                   keep-all  0.708801  0.910166   \n",
       "\n",
       "   avg_size  \n",
       "0  1.131502  "
      ]
     },
     "execution_count": 50,
     "metadata": {},
     "output_type": "execute_result"
    }
   ],
   "source": [
    "cp_metrics_df"
   ]
  },
  {
   "cell_type": "code",
   "execution_count": 51,
   "id": "b7fbde55-a0a1-47e4-9af6-fe4a17fa8c61",
   "metadata": {
    "execution": {
     "iopub.execute_input": "2025-08-05T15:39:20.352889Z",
     "iopub.status.busy": "2025-08-05T15:39:20.352441Z",
     "iopub.status.idle": "2025-08-05T15:39:20.357964Z",
     "shell.execute_reply": "2025-08-05T15:39:20.356741Z"
    },
    "papermill": {
     "duration": 0.027718,
     "end_time": "2025-08-05T15:39:20.359845",
     "exception": false,
     "start_time": "2025-08-05T15:39:20.332127",
     "status": "completed"
    },
    "tags": []
   },
   "outputs": [],
   "source": [
    "# Conditional Coverage & looking at subgroups"
   ]
  },
  {
   "cell_type": "code",
   "execution_count": 52,
   "id": "027ae886-68dd-4141-96c7-805a5450e1ef",
   "metadata": {
    "execution": {
     "iopub.execute_input": "2025-08-05T15:39:20.404087Z",
     "iopub.status.busy": "2025-08-05T15:39:20.403426Z",
     "iopub.status.idle": "2025-08-05T15:39:20.660728Z",
     "shell.execute_reply": "2025-08-05T15:39:20.659762Z"
    },
    "papermill": {
     "duration": 0.279713,
     "end_time": "2025-08-05T15:39:20.662583",
     "exception": false,
     "start_time": "2025-08-05T15:39:20.382870",
     "status": "completed"
    },
    "tags": []
   },
   "outputs": [],
   "source": [
    "from fairness_multiverse.conformal import build_cp_groups\n",
    "\n",
    "cp_groups_df = build_cp_groups(pred_sets, y_true, X_test.index, org_test)\n",
    "#needs universe_id and setting"
   ]
  },
  {
   "cell_type": "code",
   "execution_count": 53,
   "id": "6cbdab96-b2b2-45af-ad54-d0516db2e28d",
   "metadata": {
    "execution": {
     "iopub.execute_input": "2025-08-05T15:39:20.704146Z",
     "iopub.status.busy": "2025-08-05T15:39:20.703776Z",
     "iopub.status.idle": "2025-08-05T15:39:21.875826Z",
     "shell.execute_reply": "2025-08-05T15:39:21.875042Z"
    },
    "papermill": {
     "duration": 1.194267,
     "end_time": "2025-08-05T15:39:21.877284",
     "exception": false,
     "start_time": "2025-08-05T15:39:20.683017",
     "status": "completed"
    },
    "tags": []
   },
   "outputs": [],
   "source": [
    "# Define covered = 1 if true_label is in the predicted set\n",
    "cp_groups_df['covered'] = cp_groups_df.apply(\n",
    "    lambda r: int(r['true_label'] in r['pred_set']),\n",
    "    axis=1\n",
    ")"
   ]
  },
  {
   "cell_type": "code",
   "execution_count": 54,
   "id": "338ff529-1a6b-4b87-a931-8e4788d52aad",
   "metadata": {
    "execution": {
     "iopub.execute_input": "2025-08-05T15:39:21.901647Z",
     "iopub.status.busy": "2025-08-05T15:39:21.900977Z",
     "iopub.status.idle": "2025-08-05T15:39:21.905746Z",
     "shell.execute_reply": "2025-08-05T15:39:21.904903Z"
    },
    "papermill": {
     "duration": 0.018116,
     "end_time": "2025-08-05T15:39:21.907293",
     "exception": false,
     "start_time": "2025-08-05T15:39:21.889177",
     "status": "completed"
    },
    "tags": []
   },
   "outputs": [],
   "source": [
    "#cp_groups_df"
   ]
  },
  {
   "cell_type": "code",
   "execution_count": 55,
   "id": "90032e27-66df-4540-9169-4e89cfbaa758",
   "metadata": {
    "execution": {
     "iopub.execute_input": "2025-08-05T15:39:21.931799Z",
     "iopub.status.busy": "2025-08-05T15:39:21.931289Z",
     "iopub.status.idle": "2025-08-05T15:39:21.940317Z",
     "shell.execute_reply": "2025-08-05T15:39:21.939637Z"
    },
    "papermill": {
     "duration": 0.022159,
     "end_time": "2025-08-05T15:39:21.941665",
     "exception": false,
     "start_time": "2025-08-05T15:39:21.919506",
     "status": "completed"
    },
    "tags": []
   },
   "outputs": [],
   "source": [
    "subgroups = ['frau1','nongerman','nongerman_male','nongerman_female']\n",
    "\n",
    "# Conditional coverage for subgroup==1\n",
    "cond_coverage = {\n",
    "    g: cp_groups_df.loc[cp_groups_df[g]==1, 'covered'].mean()\n",
    "    for g in subgroups\n",
    "}"
   ]
  },
  {
   "cell_type": "code",
   "execution_count": 56,
   "id": "1e348fb1-b9c3-45bc-ba23-f016827a7e0d",
   "metadata": {
    "execution": {
     "iopub.execute_input": "2025-08-05T15:39:21.965251Z",
     "iopub.status.busy": "2025-08-05T15:39:21.964749Z",
     "iopub.status.idle": "2025-08-05T15:39:21.971131Z",
     "shell.execute_reply": "2025-08-05T15:39:21.970306Z"
    },
    "papermill": {
     "duration": 0.019426,
     "end_time": "2025-08-05T15:39:21.972607",
     "exception": false,
     "start_time": "2025-08-05T15:39:21.953181",
     "status": "completed"
    },
    "tags": []
   },
   "outputs": [
    {
     "data": {
      "text/plain": [
       "{'frau1': 0.9034640787168082,\n",
       " 'nongerman': 0.9058552742379161,\n",
       " 'nongerman_male': 0.9242547059353328,\n",
       " 'nongerman_female': 0.8754098360655738}"
      ]
     },
     "execution_count": 56,
     "metadata": {},
     "output_type": "execute_result"
    }
   ],
   "source": [
    "cond_coverage"
   ]
  },
  {
   "cell_type": "code",
   "execution_count": 57,
   "id": "f5093324-c3dd-4d63-bc4c-8d945e5c8bbb",
   "metadata": {
    "execution": {
     "iopub.execute_input": "2025-08-05T15:39:21.997278Z",
     "iopub.status.busy": "2025-08-05T15:39:21.996757Z",
     "iopub.status.idle": "2025-08-05T15:39:22.002670Z",
     "shell.execute_reply": "2025-08-05T15:39:22.001934Z"
    },
    "papermill": {
     "duration": 0.019655,
     "end_time": "2025-08-05T15:39:22.004143",
     "exception": false,
     "start_time": "2025-08-05T15:39:21.984488",
     "status": "completed"
    },
    "tags": []
   },
   "outputs": [],
   "source": [
    "for subgroup, cov in cond_coverage.items():\n",
    "    cp_metrics_df[f\"cov_{subgroup}\"] = cov"
   ]
  },
  {
   "cell_type": "code",
   "execution_count": 58,
   "id": "6e872e10-dbe5-49e8-b554-5030c98ff75d",
   "metadata": {
    "execution": {
     "iopub.execute_input": "2025-08-05T15:39:22.028774Z",
     "iopub.status.busy": "2025-08-05T15:39:22.028174Z",
     "iopub.status.idle": "2025-08-05T15:39:22.042197Z",
     "shell.execute_reply": "2025-08-05T15:39:22.041107Z"
    },
    "papermill": {
     "duration": 0.027309,
     "end_time": "2025-08-05T15:39:22.043570",
     "exception": false,
     "start_time": "2025-08-05T15:39:22.016261",
     "status": "completed"
    },
    "tags": []
   },
   "outputs": [
    {
     "data": {
      "text/html": [
       "<div>\n",
       "<style scoped>\n",
       "    .dataframe tbody tr th:only-of-type {\n",
       "        vertical-align: middle;\n",
       "    }\n",
       "\n",
       "    .dataframe tbody tr th {\n",
       "        vertical-align: top;\n",
       "    }\n",
       "\n",
       "    .dataframe thead th {\n",
       "        text-align: right;\n",
       "    }\n",
       "</style>\n",
       "<table border=\"1\" class=\"dataframe\">\n",
       "  <thead>\n",
       "    <tr style=\"text-align: right;\">\n",
       "      <th></th>\n",
       "      <th>universe_id</th>\n",
       "      <th>universe_training_year</th>\n",
       "      <th>universe_training_size</th>\n",
       "      <th>universe_scale</th>\n",
       "      <th>universe_model</th>\n",
       "      <th>universe_exclude_features</th>\n",
       "      <th>universe_exclude_subgroups</th>\n",
       "      <th>q_hat</th>\n",
       "      <th>coverage</th>\n",
       "      <th>avg_size</th>\n",
       "      <th>cov_frau1</th>\n",
       "      <th>cov_nongerman</th>\n",
       "      <th>cov_nongerman_male</th>\n",
       "      <th>cov_nongerman_female</th>\n",
       "    </tr>\n",
       "  </thead>\n",
       "  <tbody>\n",
       "    <tr>\n",
       "      <th>0</th>\n",
       "      <td>3d58e587564eb346a04702fae52e4b3d</td>\n",
       "      <td>2012_14</td>\n",
       "      <td>5k</td>\n",
       "      <td>scale</td>\n",
       "      <td>gbm</td>\n",
       "      <td>age</td>\n",
       "      <td>keep-all</td>\n",
       "      <td>0.708801</td>\n",
       "      <td>0.910166</td>\n",
       "      <td>1.131502</td>\n",
       "      <td>0.903464</td>\n",
       "      <td>0.905855</td>\n",
       "      <td>0.924255</td>\n",
       "      <td>0.87541</td>\n",
       "    </tr>\n",
       "  </tbody>\n",
       "</table>\n",
       "</div>"
      ],
      "text/plain": [
       "                        universe_id universe_training_year  \\\n",
       "0  3d58e587564eb346a04702fae52e4b3d                2012_14   \n",
       "\n",
       "  universe_training_size universe_scale universe_model  \\\n",
       "0                     5k          scale            gbm   \n",
       "\n",
       "  universe_exclude_features universe_exclude_subgroups     q_hat  coverage  \\\n",
       "0                       age                   keep-all  0.708801  0.910166   \n",
       "\n",
       "   avg_size  cov_frau1  cov_nongerman  cov_nongerman_male  \\\n",
       "0  1.131502   0.903464       0.905855            0.924255   \n",
       "\n",
       "   cov_nongerman_female  \n",
       "0               0.87541  "
      ]
     },
     "execution_count": 58,
     "metadata": {},
     "output_type": "execute_result"
    }
   ],
   "source": [
    "cp_metrics_df"
   ]
  },
  {
   "cell_type": "markdown",
   "id": "33774451",
   "metadata": {
    "papermill": {
     "duration": 0.02247,
     "end_time": "2025-08-05T15:39:22.078122",
     "exception": false,
     "start_time": "2025-08-05T15:39:22.055652",
     "status": "completed"
    },
    "tags": []
   },
   "source": [
    "# (Fairness) Metrics"
   ]
  },
  {
   "cell_type": "code",
   "execution_count": 59,
   "id": "debc5d62",
   "metadata": {
    "execution": {
     "iopub.execute_input": "2025-08-05T15:39:22.127285Z",
     "iopub.status.busy": "2025-08-05T15:39:22.126874Z",
     "iopub.status.idle": "2025-08-05T15:39:22.147334Z",
     "shell.execute_reply": "2025-08-05T15:39:22.146497Z"
    },
    "papermill": {
     "duration": 0.047315,
     "end_time": "2025-08-05T15:39:22.148995",
     "exception": false,
     "start_time": "2025-08-05T15:39:22.101680",
     "status": "completed"
    },
    "tags": []
   },
   "outputs": [],
   "source": [
    "# do I need to include maxdeutsch1.missing?\n",
    "\n",
    "import numpy as np\n",
    "\n",
    "colname_to_bin = \"maxdeutsch1\"\n",
    "majority_value = org_train[colname_to_bin].mode()[0]\n",
    "\n",
    "org_test[\"majmin\"] = np.where(org_test[colname_to_bin] == majority_value, \"majority\", \"minority\")"
   ]
  },
  {
   "cell_type": "code",
   "execution_count": 60,
   "id": "06a50de5",
   "metadata": {
    "execution": {
     "iopub.execute_input": "2025-08-05T15:39:22.199128Z",
     "iopub.status.busy": "2025-08-05T15:39:22.198567Z",
     "iopub.status.idle": "2025-08-05T15:39:24.262822Z",
     "shell.execute_reply": "2025-08-05T15:39:24.262085Z"
    },
    "papermill": {
     "duration": 2.090714,
     "end_time": "2025-08-05T15:39:24.264176",
     "exception": false,
     "start_time": "2025-08-05T15:39:22.173462",
     "status": "completed"
    },
    "tags": []
   },
   "outputs": [],
   "source": [
    "example_universe = universe.copy()\n",
    "example_universe[\"cutoff\"] = example_universe[\"cutoff\"][0]\n",
    "example_universe[\"eval_fairness_grouping\"] = example_universe[\"eval_fairness_grouping\"][0]\n",
    "fairness_dict, metric_frame = universe_analysis.compute_metrics(\n",
    "    example_universe,\n",
    "    y_pred_prob=probs_test,\n",
    "    y_test=y_true,\n",
    "    org_test=org_test,\n",
    ")"
   ]
  },
  {
   "cell_type": "markdown",
   "id": "f95d4e02",
   "metadata": {
    "papermill": {
     "duration": 0.011324,
     "end_time": "2025-08-05T15:39:24.287843",
     "exception": false,
     "start_time": "2025-08-05T15:39:24.276519",
     "status": "completed"
    },
    "tags": []
   },
   "source": [
    "# Overall"
   ]
  },
  {
   "cell_type": "markdown",
   "id": "bdee4871",
   "metadata": {
    "papermill": {
     "duration": 0.011375,
     "end_time": "2025-08-05T15:39:24.310636",
     "exception": false,
     "start_time": "2025-08-05T15:39:24.299261",
     "status": "completed"
    },
    "tags": []
   },
   "source": [
    "Fairness\n",
    "Main fairness target: Equalized Odds. Seems to be a better fit than equal opportunity, since we're not only interested in Y = 1. Seems to be a better fit than demographic parity, since we also care about accuracy, not just equal distribution of preds.\n",
    "\n",
    "Pick column for computation of fairness metrics\n",
    "\n",
    "Performance\n",
    "Overall performance measures, most interesting in relation to the measures split by group below"
   ]
  },
  {
   "cell_type": "code",
   "execution_count": 61,
   "id": "c4e067c6",
   "metadata": {
    "execution": {
     "iopub.execute_input": "2025-08-05T15:39:24.335051Z",
     "iopub.status.busy": "2025-08-05T15:39:24.334384Z",
     "iopub.status.idle": "2025-08-05T15:39:24.341104Z",
     "shell.execute_reply": "2025-08-05T15:39:24.340352Z"
    },
    "papermill": {
     "duration": 0.020571,
     "end_time": "2025-08-05T15:39:24.342596",
     "exception": false,
     "start_time": "2025-08-05T15:39:24.322025",
     "status": "completed"
    },
    "tags": []
   },
   "outputs": [
    {
     "data": {
      "text/plain": [
       "accuracy                   0.223754\n",
       "balanced accuracy          0.547240\n",
       "f1                         0.245103\n",
       "precision                  0.140019\n",
       "false positive rate        0.887880\n",
       "false negative rate        0.017640\n",
       "selection rate             0.900000\n",
       "count                  89710.000000\n",
       "dtype: float64"
      ]
     },
     "execution_count": 61,
     "metadata": {},
     "output_type": "execute_result"
    }
   ],
   "source": [
    "metric_frame.overall"
   ]
  },
  {
   "cell_type": "markdown",
   "id": "e968fe9d",
   "metadata": {
    "papermill": {
     "duration": 0.022784,
     "end_time": "2025-08-05T15:39:24.386155",
     "exception": false,
     "start_time": "2025-08-05T15:39:24.363371",
     "status": "completed"
    },
    "tags": []
   },
   "source": [
    "By Group"
   ]
  },
  {
   "cell_type": "code",
   "execution_count": 62,
   "id": "ec325bce",
   "metadata": {
    "execution": {
     "iopub.execute_input": "2025-08-05T15:39:24.419657Z",
     "iopub.status.busy": "2025-08-05T15:39:24.419222Z",
     "iopub.status.idle": "2025-08-05T15:39:24.431431Z",
     "shell.execute_reply": "2025-08-05T15:39:24.430593Z"
    },
    "papermill": {
     "duration": 0.02627,
     "end_time": "2025-08-05T15:39:24.432901",
     "exception": false,
     "start_time": "2025-08-05T15:39:24.406631",
     "status": "completed"
    },
    "tags": []
   },
   "outputs": [
    {
     "data": {
      "text/html": [
       "<div>\n",
       "<style scoped>\n",
       "    .dataframe tbody tr th:only-of-type {\n",
       "        vertical-align: middle;\n",
       "    }\n",
       "\n",
       "    .dataframe tbody tr th {\n",
       "        vertical-align: top;\n",
       "    }\n",
       "\n",
       "    .dataframe thead th {\n",
       "        text-align: right;\n",
       "    }\n",
       "</style>\n",
       "<table border=\"1\" class=\"dataframe\">\n",
       "  <thead>\n",
       "    <tr style=\"text-align: right;\">\n",
       "      <th></th>\n",
       "      <th>accuracy</th>\n",
       "      <th>balanced accuracy</th>\n",
       "      <th>f1</th>\n",
       "      <th>precision</th>\n",
       "      <th>false positive rate</th>\n",
       "      <th>false negative rate</th>\n",
       "      <th>selection rate</th>\n",
       "      <th>count</th>\n",
       "    </tr>\n",
       "    <tr>\n",
       "      <th>majmin</th>\n",
       "      <th></th>\n",
       "      <th></th>\n",
       "      <th></th>\n",
       "      <th></th>\n",
       "      <th></th>\n",
       "      <th></th>\n",
       "      <th></th>\n",
       "      <th></th>\n",
       "    </tr>\n",
       "  </thead>\n",
       "  <tbody>\n",
       "    <tr>\n",
       "      <th>majority</th>\n",
       "      <td>0.243198</td>\n",
       "      <td>0.555962</td>\n",
       "      <td>0.255172</td>\n",
       "      <td>0.146659</td>\n",
       "      <td>0.869149</td>\n",
       "      <td>0.018928</td>\n",
       "      <td>0.883938</td>\n",
       "      <td>69170.0</td>\n",
       "    </tr>\n",
       "    <tr>\n",
       "      <th>minority</th>\n",
       "      <td>0.158277</td>\n",
       "      <td>0.518787</td>\n",
       "      <td>0.212884</td>\n",
       "      <td>0.119304</td>\n",
       "      <td>0.949758</td>\n",
       "      <td>0.012669</td>\n",
       "      <td>0.954090</td>\n",
       "      <td>20540.0</td>\n",
       "    </tr>\n",
       "  </tbody>\n",
       "</table>\n",
       "</div>"
      ],
      "text/plain": [
       "          accuracy  balanced accuracy        f1  precision  \\\n",
       "majmin                                                       \n",
       "majority  0.243198           0.555962  0.255172   0.146659   \n",
       "minority  0.158277           0.518787  0.212884   0.119304   \n",
       "\n",
       "          false positive rate  false negative rate  selection rate    count  \n",
       "majmin                                                                       \n",
       "majority             0.869149             0.018928        0.883938  69170.0  \n",
       "minority             0.949758             0.012669        0.954090  20540.0  "
      ]
     },
     "execution_count": 62,
     "metadata": {},
     "output_type": "execute_result"
    }
   ],
   "source": [
    "metric_frame.by_group"
   ]
  },
  {
   "cell_type": "code",
   "execution_count": 63,
   "id": "a9ddbe63",
   "metadata": {
    "execution": {
     "iopub.execute_input": "2025-08-05T15:39:24.482774Z",
     "iopub.status.busy": "2025-08-05T15:39:24.482291Z",
     "iopub.status.idle": "2025-08-05T15:39:26.548485Z",
     "shell.execute_reply": "2025-08-05T15:39:26.547474Z"
    },
    "papermill": {
     "duration": 2.100917,
     "end_time": "2025-08-05T15:39:26.550222",
     "exception": false,
     "start_time": "2025-08-05T15:39:24.449305",
     "status": "completed"
    },
    "tags": []
   },
   "outputs": [
    {
     "data": {
      "text/plain": [
       "array([[<Axes: title={'center': 'accuracy'}, xlabel='majmin'>,\n",
       "        <Axes: title={'center': 'balanced accuracy'}, xlabel='majmin'>,\n",
       "        <Axes: title={'center': 'f1'}, xlabel='majmin'>],\n",
       "       [<Axes: title={'center': 'precision'}, xlabel='majmin'>,\n",
       "        <Axes: title={'center': 'false positive rate'}, xlabel='majmin'>,\n",
       "        <Axes: title={'center': 'false negative rate'}, xlabel='majmin'>],\n",
       "       [<Axes: title={'center': 'selection rate'}, xlabel='majmin'>,\n",
       "        <Axes: title={'center': 'count'}, xlabel='majmin'>,\n",
       "        <Axes: xlabel='majmin'>]], dtype=object)"
      ]
     },
     "execution_count": 63,
     "metadata": {},
     "output_type": "execute_result"
    },
    {
     "data": {
      "image/png": "[encoded data removed]",
      "text/plain": [
       "<Figure size 1200x800 with 9 Axes>"
      ]
     },
     "metadata": {},
     "output_type": "display_data"
    }
   ],
   "source": [
    "# In a graphic\n",
    "metric_frame.by_group.plot.bar(\n",
    "    subplots=True,\n",
    "    layout=[3, 3],\n",
    "    legend=False,\n",
    "    figsize=[12, 8],\n",
    "    title=\"Show all metrics\",\n",
    ")"
   ]
  },
  {
   "cell_type": "markdown",
   "id": "f57a0bac",
   "metadata": {
    "papermill": {
     "duration": 0.027635,
     "end_time": "2025-08-05T15:39:26.609220",
     "exception": false,
     "start_time": "2025-08-05T15:39:26.581585",
     "status": "completed"
    },
    "tags": []
   },
   "source": [
    "# Final Output"
   ]
  },
  {
   "cell_type": "code",
   "execution_count": 64,
   "id": "96d280a3",
   "metadata": {
    "execution": {
     "iopub.execute_input": "2025-08-05T15:39:26.667590Z",
     "iopub.status.busy": "2025-08-05T15:39:26.666873Z",
     "iopub.status.idle": "2025-08-05T15:39:26.675680Z",
     "shell.execute_reply": "2025-08-05T15:39:26.674628Z"
    },
    "papermill": {
     "duration": 0.039457,
     "end_time": "2025-08-05T15:39:26.677375",
     "exception": false,
     "start_time": "2025-08-05T15:39:26.637918",
     "status": "completed"
    },
    "tags": []
   },
   "outputs": [
    {
     "data": {
      "text/plain": [
       "4"
      ]
     },
     "execution_count": 64,
     "metadata": {},
     "output_type": "execute_result"
    }
   ],
   "source": [
    "sub_universes = universe_analysis.generate_sub_universes()\n",
    "len(sub_universes)"
   ]
  },
  {
   "cell_type": "code",
   "execution_count": 65,
   "id": "92adf7ba",
   "metadata": {
    "execution": {
     "iopub.execute_input": "2025-08-05T15:39:26.734193Z",
     "iopub.status.busy": "2025-08-05T15:39:26.733350Z",
     "iopub.status.idle": "2025-08-05T15:39:26.740007Z",
     "shell.execute_reply": "2025-08-05T15:39:26.738911Z"
    },
    "papermill": {
     "duration": 0.036516,
     "end_time": "2025-08-05T15:39:26.741883",
     "exception": false,
     "start_time": "2025-08-05T15:39:26.705367",
     "status": "completed"
    },
    "tags": []
   },
   "outputs": [],
   "source": [
    "def filter_sub_universe_data(sub_universe, org_test):\n",
    "    # Keep all rows — no filtering\n",
    "    keep_rows_mask = np.ones(org_test.shape[0], dtype=bool)\n",
    "\n",
    "    print(f\"[INFO] Keeping all rows: {keep_rows_mask.sum()} rows retained.\")\n",
    "    return keep_rows_mask"
   ]
  },
  {
   "cell_type": "code",
   "execution_count": 66,
   "id": "4a759155",
   "metadata": {
    "execution": {
     "iopub.execute_input": "2025-08-05T15:39:26.795981Z",
     "iopub.status.busy": "2025-08-05T15:39:26.795225Z",
     "iopub.status.idle": "2025-08-05T15:39:36.613674Z",
     "shell.execute_reply": "2025-08-05T15:39:36.612575Z"
    },
    "papermill": {
     "duration": 9.847489,
     "end_time": "2025-08-05T15:39:36.615380",
     "exception": false,
     "start_time": "2025-08-05T15:39:26.767891",
     "status": "completed"
    },
    "tags": []
   },
   "outputs": [
    {
     "name": "stdout",
     "output_type": "stream",
     "text": [
      "Stopping execution_time clock.\n",
      "[INFO] Keeping all rows: 89710 rows retained.\n"
     ]
    },
    {
     "name": "stdout",
     "output_type": "stream",
     "text": [
      "[INFO] Keeping all rows: 89710 rows retained.\n"
     ]
    },
    {
     "name": "stdout",
     "output_type": "stream",
     "text": [
      "[INFO] Keeping all rows: 89710 rows retained.\n"
     ]
    },
    {
     "name": "stdout",
     "output_type": "stream",
     "text": [
      "[INFO] Keeping all rows: 89710 rows retained.\n"
     ]
    },
    {
     "data": {
      "text/html": [
       "<div>\n",
       "<style scoped>\n",
       "    .dataframe tbody tr th:only-of-type {\n",
       "        vertical-align: middle;\n",
       "    }\n",
       "\n",
       "    .dataframe tbody tr th {\n",
       "        vertical-align: top;\n",
       "    }\n",
       "\n",
       "    .dataframe thead th {\n",
       "        text-align: right;\n",
       "    }\n",
       "</style>\n",
       "<table border=\"1\" class=\"dataframe\">\n",
       "  <thead>\n",
       "    <tr style=\"text-align: right;\">\n",
       "      <th></th>\n",
       "      <th>run_no</th>\n",
       "      <th>universe_id</th>\n",
       "      <th>universe_settings</th>\n",
       "      <th>execution_time</th>\n",
       "      <th>test_size_n</th>\n",
       "      <th>test_size_frac</th>\n",
       "      <th>fair_main_equalized_odds_difference</th>\n",
       "      <th>fair_main_equalized_odds_ratio</th>\n",
       "      <th>fair_main_demographic_parity_difference</th>\n",
       "      <th>fair_main_demographic_parity_ratio</th>\n",
       "      <th>...</th>\n",
       "      <th>perf_grp_precision_0</th>\n",
       "      <th>perf_grp_precision_1</th>\n",
       "      <th>perf_grp_false positive rate_0</th>\n",
       "      <th>perf_grp_false positive rate_1</th>\n",
       "      <th>perf_grp_false negative rate_0</th>\n",
       "      <th>perf_grp_false negative rate_1</th>\n",
       "      <th>perf_grp_selection rate_0</th>\n",
       "      <th>perf_grp_selection rate_1</th>\n",
       "      <th>perf_grp_count_0</th>\n",
       "      <th>perf_grp_count_1</th>\n",
       "    </tr>\n",
       "  </thead>\n",
       "  <tbody>\n",
       "    <tr>\n",
       "      <th>0</th>\n",
       "      <td>15</td>\n",
       "      <td>3d58e587564eb346a04702fae52e4b3d</td>\n",
       "      <td>{\"cutoff\": \"quantile_0.1\", \"eval_fairness_grou...</td>\n",
       "      <td>29.998311</td>\n",
       "      <td>89710</td>\n",
       "      <td>1.0</td>\n",
       "      <td>0.080609</td>\n",
       "      <td>0.915127</td>\n",
       "      <td>0.070151</td>\n",
       "      <td>0.926473</td>\n",
       "      <td>...</td>\n",
       "      <td>NaN</td>\n",
       "      <td>NaN</td>\n",
       "      <td>NaN</td>\n",
       "      <td>NaN</td>\n",
       "      <td>NaN</td>\n",
       "      <td>NaN</td>\n",
       "      <td>NaN</td>\n",
       "      <td>NaN</td>\n",
       "      <td>NaN</td>\n",
       "      <td>NaN</td>\n",
       "    </tr>\n",
       "    <tr>\n",
       "      <th>0</th>\n",
       "      <td>15</td>\n",
       "      <td>3d58e587564eb346a04702fae52e4b3d</td>\n",
       "      <td>{\"cutoff\": \"quantile_0.1\", \"eval_fairness_grou...</td>\n",
       "      <td>29.998311</td>\n",
       "      <td>89710</td>\n",
       "      <td>1.0</td>\n",
       "      <td>0.080609</td>\n",
       "      <td>0.915127</td>\n",
       "      <td>0.070151</td>\n",
       "      <td>0.926473</td>\n",
       "      <td>...</td>\n",
       "      <td>0.119304</td>\n",
       "      <td>0.146659</td>\n",
       "      <td>0.949758</td>\n",
       "      <td>0.869149</td>\n",
       "      <td>0.012669</td>\n",
       "      <td>0.018928</td>\n",
       "      <td>0.954090</td>\n",
       "      <td>0.883938</td>\n",
       "      <td>20540.0</td>\n",
       "      <td>69170.0</td>\n",
       "    </tr>\n",
       "    <tr>\n",
       "      <th>0</th>\n",
       "      <td>15</td>\n",
       "      <td>3d58e587564eb346a04702fae52e4b3d</td>\n",
       "      <td>{\"cutoff\": \"quantile_0.25\", \"eval_fairness_gro...</td>\n",
       "      <td>29.998311</td>\n",
       "      <td>89710</td>\n",
       "      <td>1.0</td>\n",
       "      <td>0.151825</td>\n",
       "      <td>0.818954</td>\n",
       "      <td>0.131596</td>\n",
       "      <td>0.845446</td>\n",
       "      <td>...</td>\n",
       "      <td>NaN</td>\n",
       "      <td>NaN</td>\n",
       "      <td>NaN</td>\n",
       "      <td>NaN</td>\n",
       "      <td>NaN</td>\n",
       "      <td>NaN</td>\n",
       "      <td>NaN</td>\n",
       "      <td>NaN</td>\n",
       "      <td>NaN</td>\n",
       "      <td>NaN</td>\n",
       "    </tr>\n",
       "    <tr>\n",
       "      <th>0</th>\n",
       "      <td>15</td>\n",
       "      <td>3d58e587564eb346a04702fae52e4b3d</td>\n",
       "      <td>{\"cutoff\": \"quantile_0.25\", \"eval_fairness_gro...</td>\n",
       "      <td>29.998311</td>\n",
       "      <td>89710</td>\n",
       "      <td>1.0</td>\n",
       "      <td>0.151825</td>\n",
       "      <td>0.818954</td>\n",
       "      <td>0.131596</td>\n",
       "      <td>0.845446</td>\n",
       "      <td>...</td>\n",
       "      <td>0.128652</td>\n",
       "      <td>0.172032</td>\n",
       "      <td>0.838598</td>\n",
       "      <td>0.686773</td>\n",
       "      <td>0.049831</td>\n",
       "      <td>0.062801</td>\n",
       "      <td>0.851461</td>\n",
       "      <td>0.719864</td>\n",
       "      <td>20540.0</td>\n",
       "      <td>69170.0</td>\n",
       "    </tr>\n",
       "  </tbody>\n",
       "</table>\n",
       "<p>4 rows × 50 columns</p>\n",
       "</div>"
      ],
      "text/plain": [
       "  run_no                       universe_id  \\\n",
       "0     15  3d58e587564eb346a04702fae52e4b3d   \n",
       "0     15  3d58e587564eb346a04702fae52e4b3d   \n",
       "0     15  3d58e587564eb346a04702fae52e4b3d   \n",
       "0     15  3d58e587564eb346a04702fae52e4b3d   \n",
       "\n",
       "                                   universe_settings  execution_time  \\\n",
       "0  {\"cutoff\": \"quantile_0.1\", \"eval_fairness_grou...       29.998311   \n",
       "0  {\"cutoff\": \"quantile_0.1\", \"eval_fairness_grou...       29.998311   \n",
       "0  {\"cutoff\": \"quantile_0.25\", \"eval_fairness_gro...       29.998311   \n",
       "0  {\"cutoff\": \"quantile_0.25\", \"eval_fairness_gro...       29.998311   \n",
       "\n",
       "   test_size_n  test_size_frac  fair_main_equalized_odds_difference  \\\n",
       "0        89710             1.0                             0.080609   \n",
       "0        89710             1.0                             0.080609   \n",
       "0        89710             1.0                             0.151825   \n",
       "0        89710             1.0                             0.151825   \n",
       "\n",
       "   fair_main_equalized_odds_ratio  fair_main_demographic_parity_difference  \\\n",
       "0                        0.915127                                 0.070151   \n",
       "0                        0.915127                                 0.070151   \n",
       "0                        0.818954                                 0.131596   \n",
       "0                        0.818954                                 0.131596   \n",
       "\n",
       "   fair_main_demographic_parity_ratio  ...  perf_grp_precision_0  \\\n",
       "0                            0.926473  ...                   NaN   \n",
       "0                            0.926473  ...              0.119304   \n",
       "0                            0.845446  ...                   NaN   \n",
       "0                            0.845446  ...              0.128652   \n",
       "\n",
       "   perf_grp_precision_1  perf_grp_false positive rate_0  \\\n",
       "0                   NaN                             NaN   \n",
       "0              0.146659                        0.949758   \n",
       "0                   NaN                             NaN   \n",
       "0              0.172032                        0.838598   \n",
       "\n",
       "   perf_grp_false positive rate_1  perf_grp_false negative rate_0  \\\n",
       "0                             NaN                             NaN   \n",
       "0                        0.869149                        0.012669   \n",
       "0                             NaN                             NaN   \n",
       "0                        0.686773                        0.049831   \n",
       "\n",
       "   perf_grp_false negative rate_1  perf_grp_selection rate_0  \\\n",
       "0                             NaN                        NaN   \n",
       "0                        0.018928                   0.954090   \n",
       "0                             NaN                        NaN   \n",
       "0                        0.062801                   0.851461   \n",
       "\n",
       "   perf_grp_selection rate_1  perf_grp_count_0  perf_grp_count_1  \n",
       "0                        NaN               NaN               NaN  \n",
       "0                   0.883938           20540.0           69170.0  \n",
       "0                        NaN               NaN               NaN  \n",
       "0                   0.719864           20540.0           69170.0  \n",
       "\n",
       "[4 rows x 50 columns]"
      ]
     },
     "execution_count": 66,
     "metadata": {},
     "output_type": "execute_result"
    }
   ],
   "source": [
    "final_output = universe_analysis.generate_final_output(\n",
    "    y_pred_prob=probs_test,\n",
    "    y_test=y_true,\n",
    "    org_test=org_test,\n",
    "    filter_data=filter_sub_universe_data,\n",
    "    cp_metrics_df=cp_metrics_df,\n",
    "    save=True,\n",
    ")\n",
    "final_output"
   ]
  }
 ],
 "metadata": {
  "celltoolbar": "Tags",
  "kernelspec": {
   "display_name": "Python (CMA Fairness)",
   "language": "python",
   "name": "cma_fair_env"
  },
  "language_info": {
   "codemirror_mode": {
    "name": "ipython",
    "version": 3
   },
   "file_extension": ".py",
   "mimetype": "text/x-python",
   "name": "python",
   "nbconvert_exporter": "python",
   "pygments_lexer": "ipython3",
   "version": "3.10.12"
  },
  "papermill": {
   "default_parameters": {},
   "duration": 43.436664,
   "end_time": "2025-08-05T15:39:37.363493",
   "environment_variables": {},
   "exception": null,
   "input_path": "universe_analysis.ipynb",
   "output_path": "output/runs/15/notebooks/m_15-3d58e587564eb346a04702fae52e4b3d.ipynb",
   "parameters": {
    "output_dir": "output",
    "run_no": "15",
    "seed": "2023",
    "universe": "{\"cutoff\": [\"quantile_0.1\", \"quantile_0.25\"], \"eval_fairness_grouping\": [\"majority-minority\", \"nationality-all\"], \"exclude_features\": \"age\", \"exclude_subgroups\": \"keep-all\", \"model\": \"gbm\", \"scale\": \"scale\", \"training_size\": \"5k\", \"training_year\": \"2012_14\"}",
    "universe_id": "3d58e587564eb346a04702fae52e4b3d"
   },
   "start_time": "2025-08-05T15:38:53.926829",
   "version": "2.6.0"
  }
 },
 "nbformat": 4,
 "nbformat_minor": 5
}