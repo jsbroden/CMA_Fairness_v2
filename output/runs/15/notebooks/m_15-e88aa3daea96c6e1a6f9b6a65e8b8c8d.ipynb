{
 "cells": [
  {
   "cell_type": "code",
   "execution_count": 1,
   "id": "f159f837-637b-42ba-96b5-ec9a68c44524",
   "metadata": {
    "execution": {
     "iopub.execute_input": "2025-08-05T16:26:49.229028Z",
     "iopub.status.busy": "2025-08-05T16:26:49.228587Z",
     "iopub.status.idle": "2025-08-05T16:26:49.243754Z",
     "shell.execute_reply": "2025-08-05T16:26:49.242775Z"
    },
    "papermill": {
     "duration": 0.030261,
     "end_time": "2025-08-05T16:26:49.246336",
     "exception": false,
     "start_time": "2025-08-05T16:26:49.216075",
     "status": "completed"
    },
    "tags": []
   },
   "outputs": [
    {
     "name": "stdout",
     "output_type": "stream",
     "text": [
      "/dss/dsshome1/0C/ra93lal2/cma/CMA_Fairness_v2\n"
     ]
    },
    {
     "name": "stderr",
     "output_type": "stream",
     "text": [
      "/dss/dsshome1/0C/ra93lal2/.local/share/virtualenvs/CMA_Fairness_v2-3j10GkSs/lib/python3.10/site-packages/IPython/core/magics/osm.py:393: UserWarning: This is now an optional IPython functionality, using bookmarks requires you to install the `pickleshare` library.\n",
      "  bkms = self.shell.db.get('bookmarks', {})\n",
      "/dss/dsshome1/0C/ra93lal2/.local/share/virtualenvs/CMA_Fairness_v2-3j10GkSs/lib/python3.10/site-packages/IPython/core/magics/osm.py:417: UserWarning: This is now an optional IPython functionality, setting dhist requires you to install the `pickleshare` library.\n",
      "  self.shell.db['dhist'] = compress_dhist(dhist)[-100:]\n"
     ]
    }
   ],
   "source": [
    "%cd ~/cma/CMA_Fairness_v2"
   ]
  },
  {
   "cell_type": "markdown",
   "id": "de2603b9",
   "metadata": {
    "papermill": {
     "duration": 0.022337,
     "end_time": "2025-08-05T16:26:49.303456",
     "exception": false,
     "start_time": "2025-08-05T16:26:49.281119",
     "status": "completed"
    },
    "tags": []
   },
   "source": [
    "The following cell holds the definition of our parameters, these values can be overriden by rendering the with e.g. the following command:\n",
    "\n",
    "papermill -p alpha 0.2 -p ratio 0.3 universe_analysis.ipynb output/test_run.ipynb"
   ]
  },
  {
   "cell_type": "code",
   "execution_count": 2,
   "id": "a80968a0-40bb-4fa9-85ef-2d5eefb01975",
   "metadata": {
    "execution": {
     "iopub.execute_input": "2025-08-05T16:26:49.350782Z",
     "iopub.status.busy": "2025-08-05T16:26:49.350022Z",
     "iopub.status.idle": "2025-08-05T16:26:49.356836Z",
     "shell.execute_reply": "2025-08-05T16:26:49.355588Z"
    },
    "papermill": {
     "duration": 0.033935,
     "end_time": "2025-08-05T16:26:49.359912",
     "exception": false,
     "start_time": "2025-08-05T16:26:49.325977",
     "status": "completed"
    },
    "tags": []
   },
   "outputs": [
    {
     "name": "stdout",
     "output_type": "stream",
     "text": [
      "Current working directory: /dss/dsshome1/0C/ra93lal2/cma/CMA_Fairness_v2\n"
     ]
    }
   ],
   "source": [
    "import os\n",
    "print(\"Current working directory:\", os.getcwd())"
   ]
  },
  {
   "cell_type": "code",
   "execution_count": 3,
   "id": "2dce4c03",
   "metadata": {
    "execution": {
     "iopub.execute_input": "2025-08-05T16:26:49.407722Z",
     "iopub.status.busy": "2025-08-05T16:26:49.406823Z",
     "iopub.status.idle": "2025-08-05T16:26:49.417116Z",
     "shell.execute_reply": "2025-08-05T16:26:49.414867Z"
    },
    "papermill": {
     "duration": 0.036486,
     "end_time": "2025-08-05T16:26:49.419375",
     "exception": false,
     "start_time": "2025-08-05T16:26:49.382889",
     "status": "completed"
    },
    "tags": [
     "parameters"
    ]
   },
   "outputs": [],
   "source": [
    "run_no = 0\n",
    "universe_id = \"test\"\n",
    "universe = {\n",
    "    \"training_size\": \"25k\", # \"25k\", \"5k\", \"1k\"\n",
    "    \"training_year\": \"2014\", # \"2014\", \"2012_14\", \"2010_14\"\n",
    "    \"scale\": \"scale\", # \"scale\", \"do-not-scale\",\n",
    "    \"model\": \"elasticnet\", # \"logreg\", \"penalized_logreg\", \"rf\", \"gbm\", \"elasticnet\"\n",
    "    \"cutoff\": [\"quantile_0.15\", \"quantile_0.30\"],\n",
    "    \"exclude_features\": \"age\", # \"none\", \"nationality\", \"sex\", \"nationality-sex\", \"age\"\n",
    "    \"exclude_subgroups\": \"keep-all\", # \"keep-all\", \"drop-non-german\"\n",
    "    \"eval_fairness_grouping\": [\"majority-minority\", \"nationality-all\"]\n",
    "}\n",
    "\n",
    "output_dir=\"./output\"\n",
    "seed=0"
   ]
  },
  {
   "cell_type": "code",
   "execution_count": 4,
   "id": "5075ab3b",
   "metadata": {
    "execution": {
     "iopub.execute_input": "2025-08-05T16:26:49.466147Z",
     "iopub.status.busy": "2025-08-05T16:26:49.465615Z",
     "iopub.status.idle": "2025-08-05T16:26:49.472114Z",
     "shell.execute_reply": "2025-08-05T16:26:49.470843Z"
    },
    "papermill": {
     "duration": 0.032781,
     "end_time": "2025-08-05T16:26:49.474116",
     "exception": false,
     "start_time": "2025-08-05T16:26:49.441335",
     "status": "completed"
    },
    "tags": [
     "injected-parameters"
    ]
   },
   "outputs": [],
   "source": [
    "# Parameters\n",
    "universe_id = \"e88aa3daea96c6e1a6f9b6a65e8b8c8d\"\n",
    "run_no = \"15\"\n",
    "universe = \"{\\\"cutoff\\\": [\\\"quantile_0.1\\\", \\\"quantile_0.25\\\"], \\\"eval_fairness_grouping\\\": [\\\"majority-minority\\\", \\\"nationality-all\\\"], \\\"exclude_features\\\": \\\"sex\\\", \\\"exclude_subgroups\\\": \\\"drop-non-german\\\", \\\"model\\\": \\\"rf\\\", \\\"scale\\\": \\\"do-not-scale\\\", \\\"training_size\\\": \\\"1k\\\", \\\"training_year\\\": \\\"2012_14\\\"}\"\n",
    "output_dir = \"output\"\n",
    "seed = \"2023\"\n"
   ]
  },
  {
   "cell_type": "code",
   "execution_count": 5,
   "id": "1650acaf",
   "metadata": {
    "execution": {
     "iopub.execute_input": "2025-08-05T16:26:49.512481Z",
     "iopub.status.busy": "2025-08-05T16:26:49.512004Z",
     "iopub.status.idle": "2025-08-05T16:26:49.517345Z",
     "shell.execute_reply": "2025-08-05T16:26:49.516249Z"
    },
    "papermill": {
     "duration": 0.026305,
     "end_time": "2025-08-05T16:26:49.519133",
     "exception": false,
     "start_time": "2025-08-05T16:26:49.492828",
     "status": "completed"
    },
    "tags": []
   },
   "outputs": [],
   "source": [
    "import json\n",
    "if isinstance(universe, str):\n",
    "    universe = json.loads(universe)"
   ]
  },
  {
   "cell_type": "code",
   "execution_count": 6,
   "id": "16620c48",
   "metadata": {
    "execution": {
     "iopub.execute_input": "2025-08-05T16:26:49.559070Z",
     "iopub.status.busy": "2025-08-05T16:26:49.557864Z",
     "iopub.status.idle": "2025-08-05T16:26:49.615677Z",
     "shell.execute_reply": "2025-08-05T16:26:49.614775Z"
    },
    "papermill": {
     "duration": 0.085325,
     "end_time": "2025-08-05T16:26:49.623019",
     "exception": false,
     "start_time": "2025-08-05T16:26:49.537694",
     "status": "completed"
    },
    "tags": []
   },
   "outputs": [],
   "source": [
    "# Auto-reload the custom package\n",
    "%load_ext autoreload\n",
    "%autoreload 1\n",
    "%aimport fairness_multiverse"
   ]
  },
  {
   "cell_type": "code",
   "execution_count": 7,
   "id": "01c5c9f3",
   "metadata": {
    "execution": {
     "iopub.execute_input": "2025-08-05T16:26:49.670626Z",
     "iopub.status.busy": "2025-08-05T16:26:49.669479Z",
     "iopub.status.idle": "2025-08-05T16:26:51.880177Z",
     "shell.execute_reply": "2025-08-05T16:26:51.878995Z"
    },
    "papermill": {
     "duration": 2.233493,
     "end_time": "2025-08-05T16:26:51.882651",
     "exception": false,
     "start_time": "2025-08-05T16:26:49.649158",
     "status": "completed"
    },
    "tags": []
   },
   "outputs": [],
   "source": [
    "from fairness_multiverse.universe import UniverseAnalysis\n",
    "\n",
    "universe_analysis = UniverseAnalysis(\n",
    "    run_no = run_no,\n",
    "    universe_id = universe_id,\n",
    "    universe = universe,\n",
    "    output_dir=output_dir,\n",
    ")"
   ]
  },
  {
   "cell_type": "code",
   "execution_count": 8,
   "id": "106241f5",
   "metadata": {
    "execution": {
     "iopub.execute_input": "2025-08-05T16:26:51.931786Z",
     "iopub.status.busy": "2025-08-05T16:26:51.931028Z",
     "iopub.status.idle": "2025-08-05T16:26:51.939089Z",
     "shell.execute_reply": "2025-08-05T16:26:51.937967Z"
    },
    "papermill": {
     "duration": 0.034637,
     "end_time": "2025-08-05T16:26:51.941129",
     "exception": false,
     "start_time": "2025-08-05T16:26:51.906492",
     "status": "completed"
    },
    "tags": []
   },
   "outputs": [
    {
     "name": "stdout",
     "output_type": "stream",
     "text": [
      "Using Seed: 2023\n"
     ]
    }
   ],
   "source": [
    "import numpy as np\n",
    "parsed_seed = int(seed)\n",
    "np.random.seed(parsed_seed)\n",
    "print(f\"Using Seed: {parsed_seed}\")"
   ]
  },
  {
   "cell_type": "markdown",
   "id": "e0ebdc57",
   "metadata": {
    "papermill": {
     "duration": 0.023124,
     "end_time": "2025-08-05T16:26:51.987865",
     "exception": false,
     "start_time": "2025-08-05T16:26:51.964741",
     "status": "completed"
    },
    "tags": []
   },
   "source": [
    "# Loading Data"
   ]
  },
  {
   "cell_type": "code",
   "execution_count": 9,
   "id": "f0496b8a",
   "metadata": {
    "execution": {
     "iopub.execute_input": "2025-08-05T16:26:52.036742Z",
     "iopub.status.busy": "2025-08-05T16:26:52.035950Z",
     "iopub.status.idle": "2025-08-05T16:27:05.495694Z",
     "shell.execute_reply": "2025-08-05T16:27:05.494165Z"
    },
    "papermill": {
     "duration": 13.486468,
     "end_time": "2025-08-05T16:27:05.498099",
     "exception": false,
     "start_time": "2025-08-05T16:26:52.011631",
     "status": "completed"
    },
    "tags": []
   },
   "outputs": [
    {
     "name": "stdout",
     "output_type": "stream",
     "text": [
      "Loading SIAB data from cache: data/siab_cached.csv.gz\n"
     ]
    },
    {
     "name": "stdout",
     "output_type": "stream",
     "text": [
      "(643690, 164)\n"
     ]
    }
   ],
   "source": [
    "from pathlib import Path\n",
    "import pandas as pd\n",
    "\n",
    "# File paths\n",
    "raw_file = Path(\"data/raw/siab.csv\")\n",
    "cache_file = Path(\"data/siab_cached.csv.gz\")\n",
    "\n",
    "# Ensure cache directory exists\n",
    "cache_file.parent.mkdir(parents=True, exist_ok=True)\n",
    "\n",
    "# Load with simple caching\n",
    "if cache_file.exists():\n",
    "    print(f\"Loading SIAB data from cache: {cache_file}\")\n",
    "    siab = pd.read_csv(cache_file, compression='gzip')\n",
    "else:\n",
    "    print(f\"Cache not found. Reading raw SIAB data: {raw_file}\")\n",
    "    siab = pd.read_csv(raw_file)\n",
    "    siab.to_csv(cache_file, index=False, compression='gzip')\n",
    "    print(f\"Cached SIAB data to: {cache_file}\")\n",
    "\n",
    "print(siab.shape)"
   ]
  },
  {
   "cell_type": "code",
   "execution_count": 10,
   "id": "db0ca512-5f53-4dba-abdb-a2888bca41ba",
   "metadata": {
    "execution": {
     "iopub.execute_input": "2025-08-05T16:27:05.555991Z",
     "iopub.status.busy": "2025-08-05T16:27:05.554954Z",
     "iopub.status.idle": "2025-08-05T16:27:05.561345Z",
     "shell.execute_reply": "2025-08-05T16:27:05.560244Z"
    },
    "papermill": {
     "duration": 0.03606,
     "end_time": "2025-08-05T16:27:05.563525",
     "exception": false,
     "start_time": "2025-08-05T16:27:05.527465",
     "status": "completed"
    },
    "tags": []
   },
   "outputs": [],
   "source": [
    "#siab"
   ]
  },
  {
   "cell_type": "markdown",
   "id": "997051c5-15bd-4b69-9786-c3001a3ce484",
   "metadata": {
    "papermill": {
     "duration": 0.026734,
     "end_time": "2025-08-05T16:27:05.616079",
     "exception": false,
     "start_time": "2025-08-05T16:27:05.589345",
     "status": "completed"
    },
    "tags": []
   },
   "source": [
    "# Splitting Data and Setting Training Data Size"
   ]
  },
  {
   "cell_type": "code",
   "execution_count": 11,
   "id": "aea9c6ef-6f46-42c8-85eb-5a62025c1508",
   "metadata": {
    "execution": {
     "iopub.execute_input": "2025-08-05T16:27:05.669904Z",
     "iopub.status.busy": "2025-08-05T16:27:05.668797Z",
     "iopub.status.idle": "2025-08-05T16:27:06.350472Z",
     "shell.execute_reply": "2025-08-05T16:27:06.349297Z"
    },
    "papermill": {
     "duration": 0.710446,
     "end_time": "2025-08-05T16:27:06.352385",
     "exception": false,
     "start_time": "2025-08-05T16:27:05.641939",
     "status": "completed"
    },
    "tags": []
   },
   "outputs": [],
   "source": [
    "from fairness_multiverse.universe import sample_by_year_size\n",
    "\n",
    "siab_train = sample_by_year_size(siab,\n",
    "                               training_year=universe[\"training_year\"],\n",
    "                               training_size=universe[\"training_size\"])"
   ]
  },
  {
   "cell_type": "code",
   "execution_count": 12,
   "id": "8d3afb32-789d-442c-8d5d-9f5aa8dd2eed",
   "metadata": {
    "execution": {
     "iopub.execute_input": "2025-08-05T16:27:06.399075Z",
     "iopub.status.busy": "2025-08-05T16:27:06.398280Z",
     "iopub.status.idle": "2025-08-05T16:27:06.404097Z",
     "shell.execute_reply": "2025-08-05T16:27:06.402920Z"
    },
    "papermill": {
     "duration": 0.030922,
     "end_time": "2025-08-05T16:27:06.406095",
     "exception": false,
     "start_time": "2025-08-05T16:27:06.375173",
     "status": "completed"
    },
    "tags": []
   },
   "outputs": [],
   "source": [
    "#siab_train.shape"
   ]
  },
  {
   "cell_type": "code",
   "execution_count": 13,
   "id": "d582db68-1a4c-47fb-84fc-08518dc1975a",
   "metadata": {
    "execution": {
     "iopub.execute_input": "2025-08-05T16:27:06.452852Z",
     "iopub.status.busy": "2025-08-05T16:27:06.452251Z",
     "iopub.status.idle": "2025-08-05T16:27:06.457932Z",
     "shell.execute_reply": "2025-08-05T16:27:06.456782Z"
    },
    "papermill": {
     "duration": 0.031294,
     "end_time": "2025-08-05T16:27:06.459811",
     "exception": false,
     "start_time": "2025-08-05T16:27:06.428517",
     "status": "completed"
    },
    "tags": []
   },
   "outputs": [],
   "source": [
    "#display(siab_train.groupby(\"year\").size())"
   ]
  },
  {
   "cell_type": "code",
   "execution_count": 14,
   "id": "a561edb4-d032-42cb-8256-22eac1111c64",
   "metadata": {
    "execution": {
     "iopub.execute_input": "2025-08-05T16:27:06.506649Z",
     "iopub.status.busy": "2025-08-05T16:27:06.506031Z",
     "iopub.status.idle": "2025-08-05T16:27:06.791027Z",
     "shell.execute_reply": "2025-08-05T16:27:06.789829Z"
    },
    "papermill": {
     "duration": 0.31013,
     "end_time": "2025-08-05T16:27:06.793357",
     "exception": false,
     "start_time": "2025-08-05T16:27:06.483227",
     "status": "completed"
    },
    "tags": []
   },
   "outputs": [],
   "source": [
    "#siab_train = siab_s[siab_s.year < 2015]\n",
    "siab_calib = siab[siab.year == 2015]\n",
    "siab_test = siab[siab.year == 2016]"
   ]
  },
  {
   "cell_type": "code",
   "execution_count": 15,
   "id": "472de16f-c3db-4916-846b-1f0de9cf1746",
   "metadata": {
    "execution": {
     "iopub.execute_input": "2025-08-05T16:27:06.843453Z",
     "iopub.status.busy": "2025-08-05T16:27:06.842498Z",
     "iopub.status.idle": "2025-08-05T16:27:06.851065Z",
     "shell.execute_reply": "2025-08-05T16:27:06.849825Z"
    },
    "papermill": {
     "duration": 0.035195,
     "end_time": "2025-08-05T16:27:06.853039",
     "exception": false,
     "start_time": "2025-08-05T16:27:06.817844",
     "status": "completed"
    },
    "tags": []
   },
   "outputs": [],
   "source": [
    "X_train = siab_train.iloc[:,4:164]\n",
    "y_train = siab_train.iloc[:, [3]]"
   ]
  },
  {
   "cell_type": "code",
   "execution_count": 16,
   "id": "828c96af-f43a-4ed6-ba47-8ac73a47d56c",
   "metadata": {
    "execution": {
     "iopub.execute_input": "2025-08-05T16:27:06.901476Z",
     "iopub.status.busy": "2025-08-05T16:27:06.900856Z",
     "iopub.status.idle": "2025-08-05T16:27:06.954687Z",
     "shell.execute_reply": "2025-08-05T16:27:06.953394Z"
    },
    "papermill": {
     "duration": 0.080673,
     "end_time": "2025-08-05T16:27:06.957124",
     "exception": false,
     "start_time": "2025-08-05T16:27:06.876451",
     "status": "completed"
    },
    "tags": []
   },
   "outputs": [],
   "source": [
    "X_calib = siab_calib.iloc[:,4:164]\n",
    "y_calib = siab_calib.iloc[:, [3]]"
   ]
  },
  {
   "cell_type": "code",
   "execution_count": 17,
   "id": "c34be9c3-6bd6-476e-acd3-845840e303be",
   "metadata": {
    "execution": {
     "iopub.execute_input": "2025-08-05T16:27:07.008097Z",
     "iopub.status.busy": "2025-08-05T16:27:07.007317Z",
     "iopub.status.idle": "2025-08-05T16:27:07.064658Z",
     "shell.execute_reply": "2025-08-05T16:27:07.063336Z"
    },
    "papermill": {
     "duration": 0.084532,
     "end_time": "2025-08-05T16:27:07.066997",
     "exception": false,
     "start_time": "2025-08-05T16:27:06.982465",
     "status": "completed"
    },
    "tags": []
   },
   "outputs": [],
   "source": [
    "X_test = siab_test.iloc[:,4:164]\n",
    "y_true = siab_test.iloc[:, [3]]"
   ]
  },
  {
   "cell_type": "code",
   "execution_count": 18,
   "id": "e6c733c5",
   "metadata": {
    "execution": {
     "iopub.execute_input": "2025-08-05T16:27:07.116034Z",
     "iopub.status.busy": "2025-08-05T16:27:07.115034Z",
     "iopub.status.idle": "2025-08-05T16:27:07.223943Z",
     "shell.execute_reply": "2025-08-05T16:27:07.222694Z"
    },
    "papermill": {
     "duration": 0.134758,
     "end_time": "2025-08-05T16:27:07.226410",
     "exception": false,
     "start_time": "2025-08-05T16:27:07.091652",
     "status": "completed"
    },
    "tags": []
   },
   "outputs": [],
   "source": [
    "# Auxiliary data needed downstream in the pipeline\n",
    "\n",
    "org_train = X_train.copy()\n",
    "org_test = X_test.copy()\n",
    "org_calib = X_calib.copy()"
   ]
  },
  {
   "cell_type": "markdown",
   "id": "0a4a1b33",
   "metadata": {
    "papermill": {
     "duration": 0.023707,
     "end_time": "2025-08-05T16:27:07.276045",
     "exception": false,
     "start_time": "2025-08-05T16:27:07.252338",
     "status": "completed"
    },
    "tags": []
   },
   "source": [
    "# Preprocessing Data"
   ]
  },
  {
   "cell_type": "code",
   "execution_count": 19,
   "id": "ca879031",
   "metadata": {
    "execution": {
     "iopub.execute_input": "2025-08-05T16:27:07.327515Z",
     "iopub.status.busy": "2025-08-05T16:27:07.325634Z",
     "iopub.status.idle": "2025-08-05T16:27:07.334210Z",
     "shell.execute_reply": "2025-08-05T16:27:07.332966Z"
    },
    "papermill": {
     "duration": 0.036037,
     "end_time": "2025-08-05T16:27:07.336339",
     "exception": false,
     "start_time": "2025-08-05T16:27:07.300302",
     "status": "completed"
    },
    "tags": []
   },
   "outputs": [],
   "source": [
    "# EXCLUDE PROTECTED FEATURES\n",
    "# ----------------------\n",
    "# \"exclude_features\": \"none\", # \"nationality\", \"sex\", \"nationality-sex\"\n",
    "\n",
    "excluded_features = universe[\"exclude_features\"].split(\"-\") # split, e.g.: \"nationality-sex\" -> [\"nationality\", \"sex\"]\n",
    "excluded_features_dictionary = {\n",
    "    \"nationality\": [\"maxdeutsch1\", \"maxdeutsch.Missing.\"],\n",
    "    \"sex\": [\"frau1\"],\n",
    "    \"age\": [\"age\"],\n",
    "}"
   ]
  },
  {
   "cell_type": "code",
   "execution_count": 20,
   "id": "b745ac60",
   "metadata": {
    "execution": {
     "iopub.execute_input": "2025-08-05T16:27:07.384862Z",
     "iopub.status.busy": "2025-08-05T16:27:07.384093Z",
     "iopub.status.idle": "2025-08-05T16:27:07.390730Z",
     "shell.execute_reply": "2025-08-05T16:27:07.389564Z"
    },
    "papermill": {
     "duration": 0.032124,
     "end_time": "2025-08-05T16:27:07.392689",
     "exception": false,
     "start_time": "2025-08-05T16:27:07.360565",
     "status": "completed"
    },
    "tags": []
   },
   "outputs": [],
   "source": [
    "# Code nice names to column names\n",
    "\n",
    "excluded_features_columns = [\n",
    "    excluded_features_dictionary[f] for f in excluded_features if len(f) > 0 and f != \"none\"\n",
    "]"
   ]
  },
  {
   "cell_type": "code",
   "execution_count": 21,
   "id": "f84f73a2",
   "metadata": {
    "execution": {
     "iopub.execute_input": "2025-08-05T16:27:07.439997Z",
     "iopub.status.busy": "2025-08-05T16:27:07.439236Z",
     "iopub.status.idle": "2025-08-05T16:27:07.446394Z",
     "shell.execute_reply": "2025-08-05T16:27:07.445317Z"
    },
    "papermill": {
     "duration": 0.032636,
     "end_time": "2025-08-05T16:27:07.448339",
     "exception": false,
     "start_time": "2025-08-05T16:27:07.415703",
     "status": "completed"
    },
    "tags": []
   },
   "outputs": [],
   "source": [
    "from utils import flatten_once\n",
    "\n",
    "excluded_features_columns = flatten_once(excluded_features_columns)"
   ]
  },
  {
   "cell_type": "code",
   "execution_count": 22,
   "id": "884dea22",
   "metadata": {
    "execution": {
     "iopub.execute_input": "2025-08-05T16:27:07.496496Z",
     "iopub.status.busy": "2025-08-05T16:27:07.495785Z",
     "iopub.status.idle": "2025-08-05T16:27:07.505356Z",
     "shell.execute_reply": "2025-08-05T16:27:07.504058Z"
    },
    "papermill": {
     "duration": 0.035645,
     "end_time": "2025-08-05T16:27:07.507236",
     "exception": false,
     "start_time": "2025-08-05T16:27:07.471591",
     "status": "completed"
    },
    "tags": []
   },
   "outputs": [
    {
     "name": "stdout",
     "output_type": "stream",
     "text": [
      "Dropping features: ['frau1']\n"
     ]
    }
   ],
   "source": [
    "if len(excluded_features_columns) > 0:\n",
    "    print(f\"Dropping features: {excluded_features_columns}\")\n",
    "    X_train.drop(excluded_features_columns, axis=1, inplace=True)"
   ]
  },
  {
   "cell_type": "code",
   "execution_count": 23,
   "id": "95ab8b16",
   "metadata": {
    "execution": {
     "iopub.execute_input": "2025-08-05T16:27:07.555509Z",
     "iopub.status.busy": "2025-08-05T16:27:07.554652Z",
     "iopub.status.idle": "2025-08-05T16:27:07.615769Z",
     "shell.execute_reply": "2025-08-05T16:27:07.614540Z"
    },
    "papermill": {
     "duration": 0.087839,
     "end_time": "2025-08-05T16:27:07.617895",
     "exception": false,
     "start_time": "2025-08-05T16:27:07.530056",
     "status": "completed"
    },
    "tags": []
   },
   "outputs": [
    {
     "name": "stdout",
     "output_type": "stream",
     "text": [
      "Dropping features: ['frau1']\n"
     ]
    }
   ],
   "source": [
    "if len(excluded_features_columns) > 0:\n",
    "    print(f\"Dropping features: {excluded_features_columns}\")\n",
    "    X_test.drop(excluded_features_columns, axis=1, inplace=True)"
   ]
  },
  {
   "cell_type": "code",
   "execution_count": 24,
   "id": "1853aaf5-fb9f-46cb-a2b5-8ea4ae2237e4",
   "metadata": {
    "execution": {
     "iopub.execute_input": "2025-08-05T16:27:07.668100Z",
     "iopub.status.busy": "2025-08-05T16:27:07.667000Z",
     "iopub.status.idle": "2025-08-05T16:27:07.729206Z",
     "shell.execute_reply": "2025-08-05T16:27:07.727958Z"
    },
    "papermill": {
     "duration": 0.088249,
     "end_time": "2025-08-05T16:27:07.731241",
     "exception": false,
     "start_time": "2025-08-05T16:27:07.642992",
     "status": "completed"
    },
    "tags": []
   },
   "outputs": [
    {
     "name": "stdout",
     "output_type": "stream",
     "text": [
      "Dropping features: ['frau1']\n"
     ]
    }
   ],
   "source": [
    "if len(excluded_features_columns) > 0:\n",
    "    print(f\"Dropping features: {excluded_features_columns}\")\n",
    "    X_calib.drop(excluded_features_columns, axis=1, inplace=True)"
   ]
  },
  {
   "cell_type": "code",
   "execution_count": 25,
   "id": "76c4dc6d",
   "metadata": {
    "execution": {
     "iopub.execute_input": "2025-08-05T16:27:07.780499Z",
     "iopub.status.busy": "2025-08-05T16:27:07.779621Z",
     "iopub.status.idle": "2025-08-05T16:27:07.786342Z",
     "shell.execute_reply": "2025-08-05T16:27:07.785130Z"
    },
    "papermill": {
     "duration": 0.032988,
     "end_time": "2025-08-05T16:27:07.788186",
     "exception": false,
     "start_time": "2025-08-05T16:27:07.755198",
     "status": "completed"
    },
    "tags": []
   },
   "outputs": [],
   "source": [
    "# EXCLUDE CERTAIN SUBGROUPS\n",
    "# ----------------------\n",
    "\n",
    "mode = universe.get(\"exclude_subgroups\", \"keep-all\") \n",
    "# Fetches the exclude_subgroups setting from the universe dict.\n",
    "# Defaults to \"keep-all\" if the key is missing."
   ]
  },
  {
   "cell_type": "code",
   "execution_count": 26,
   "id": "21994072",
   "metadata": {
    "execution": {
     "iopub.execute_input": "2025-08-05T16:27:07.837633Z",
     "iopub.status.busy": "2025-08-05T16:27:07.836692Z",
     "iopub.status.idle": "2025-08-05T16:27:07.844721Z",
     "shell.execute_reply": "2025-08-05T16:27:07.843568Z"
    },
    "papermill": {
     "duration": 0.035473,
     "end_time": "2025-08-05T16:27:07.846881",
     "exception": false,
     "start_time": "2025-08-05T16:27:07.811408",
     "status": "completed"
    },
    "tags": []
   },
   "outputs": [],
   "source": [
    "if mode == \"keep-all\":\n",
    "    keep_mask = pd.Series(True, index=org_train.index)\n",
    "\n",
    "# org_train contains the original feature columns from features_org (in Simson)\n",
    "# features_org contains unprocessed features, for me X_train at beginning ???\n",
    "# For keep-all, creates a boolean Series (keep_mask) of all True, so no rows are removed.\n",
    "\n",
    "elif mode == \"drop-non-german\":\n",
    "    keep_mask = org_train[\"maxdeutsch1\"] == 1 # ??? what about missing values?\n",
    "\n",
    "else:\n",
    "    raise ValueError(f\"Unsupported mode for exclude_subgroups: {mode}\")"
   ]
  },
  {
   "cell_type": "code",
   "execution_count": 27,
   "id": "71651440",
   "metadata": {
    "execution": {
     "iopub.execute_input": "2025-08-05T16:27:07.898006Z",
     "iopub.status.busy": "2025-08-05T16:27:07.897224Z",
     "iopub.status.idle": "2025-08-05T16:27:07.906493Z",
     "shell.execute_reply": "2025-08-05T16:27:07.905290Z"
    },
    "papermill": {
     "duration": 0.035934,
     "end_time": "2025-08-05T16:27:07.908460",
     "exception": false,
     "start_time": "2025-08-05T16:27:07.872526",
     "status": "completed"
    },
    "tags": []
   },
   "outputs": [
    {
     "name": "stdout",
     "output_type": "stream",
     "text": [
      "Dropping 147 rows (14.70%) where mode='drop-non-german'\n"
     ]
    }
   ],
   "source": [
    "n_drop = (~keep_mask).sum() # Calculates how many rows are set to be dropped\n",
    "if n_drop > 0:\n",
    "    pct = n_drop / len(keep_mask) * 100\n",
    "    print(f\"Dropping {n_drop} rows ({pct:.2f}%) where mode='{mode}'\")"
   ]
  },
  {
   "cell_type": "code",
   "execution_count": 28,
   "id": "5fb8eee5",
   "metadata": {
    "execution": {
     "iopub.execute_input": "2025-08-05T16:27:07.958065Z",
     "iopub.status.busy": "2025-08-05T16:27:07.957119Z",
     "iopub.status.idle": "2025-08-05T16:27:07.964753Z",
     "shell.execute_reply": "2025-08-05T16:27:07.963538Z"
    },
    "papermill": {
     "duration": 0.034364,
     "end_time": "2025-08-05T16:27:07.966739",
     "exception": false,
     "start_time": "2025-08-05T16:27:07.932375",
     "status": "completed"
    },
    "tags": []
   },
   "outputs": [],
   "source": [
    "X_train = X_train[keep_mask]"
   ]
  },
  {
   "cell_type": "code",
   "execution_count": 29,
   "id": "b202bb3a",
   "metadata": {
    "execution": {
     "iopub.execute_input": "2025-08-05T16:27:08.016444Z",
     "iopub.status.busy": "2025-08-05T16:27:08.015706Z",
     "iopub.status.idle": "2025-08-05T16:27:08.026317Z",
     "shell.execute_reply": "2025-08-05T16:27:08.025131Z"
    },
    "papermill": {
     "duration": 0.036934,
     "end_time": "2025-08-05T16:27:08.028097",
     "exception": false,
     "start_time": "2025-08-05T16:27:07.991163",
     "status": "completed"
    },
    "tags": []
   },
   "outputs": [],
   "source": [
    "y_train = y_train[keep_mask]"
   ]
  },
  {
   "cell_type": "markdown",
   "id": "493e2ac3",
   "metadata": {
    "papermill": {
     "duration": 0.023691,
     "end_time": "2025-08-05T16:27:08.076596",
     "exception": false,
     "start_time": "2025-08-05T16:27:08.052905",
     "status": "completed"
    },
    "tags": []
   },
   "source": [
    "# Model Training"
   ]
  },
  {
   "cell_type": "code",
   "execution_count": 30,
   "id": "679e1268",
   "metadata": {
    "execution": {
     "iopub.execute_input": "2025-08-05T16:27:08.126597Z",
     "iopub.status.busy": "2025-08-05T16:27:08.125767Z",
     "iopub.status.idle": "2025-08-05T16:27:08.245441Z",
     "shell.execute_reply": "2025-08-05T16:27:08.244592Z"
    },
    "papermill": {
     "duration": 0.146576,
     "end_time": "2025-08-05T16:27:08.247524",
     "exception": false,
     "start_time": "2025-08-05T16:27:08.100948",
     "status": "completed"
    },
    "tags": []
   },
   "outputs": [],
   "source": [
    "from sklearn.linear_model import LogisticRegression\n",
    "from sklearn.ensemble import GradientBoostingClassifier, RandomForestClassifier\n",
    "\n",
    "if (universe[\"model\"] == \"logreg\"):\n",
    "    model = LogisticRegression() #penalty=\"none\", solver=\"newton-cg\", max_iter=1) # include random_state=19 ?\n",
    "elif (universe[\"model\"] == \"penalized_logreg\"):\n",
    "    model = LogisticRegression(penalty=\"l2\", C=0.1) #, solver=\"newton-cg\", max_iter=1)\n",
    "elif (universe[\"model\"] == \"rf\"):\n",
    "    model = RandomForestClassifier() # n_estimators=100, n_jobs=-1\n",
    "elif (universe[\"model\"] == \"gbm\"):\n",
    "    model = GradientBoostingClassifier()\n",
    "elif (universe[\"model\"] == \"elasticnet\"):\n",
    "    model = LogisticRegression(penalty = 'elasticnet', solver = 'saga', l1_ratio = 0.5) # max_iter=5000\n",
    "else:\n",
    "    raise \"Unsupported universe.model\""
   ]
  },
  {
   "cell_type": "code",
   "execution_count": 31,
   "id": "0cc8f744",
   "metadata": {
    "execution": {
     "iopub.execute_input": "2025-08-05T16:27:08.298021Z",
     "iopub.status.busy": "2025-08-05T16:27:08.297503Z",
     "iopub.status.idle": "2025-08-05T16:27:08.304892Z",
     "shell.execute_reply": "2025-08-05T16:27:08.303833Z"
    },
    "papermill": {
     "duration": 0.022648,
     "end_time": "2025-08-05T16:27:08.307192",
     "exception": false,
     "start_time": "2025-08-05T16:27:08.284544",
     "status": "completed"
    },
    "tags": []
   },
   "outputs": [],
   "source": [
    "import numpy as np\n",
    "from sklearn.pipeline import Pipeline\n",
    "from sklearn.preprocessing import StandardScaler\n",
    "\n",
    "model = Pipeline([\n",
    "    #(\"continuous_processor\", continuous_processor),\n",
    "    #(\"categorical_preprocessor\", categorical_preprocessor),\n",
    "    (\"scale\", StandardScaler() if universe[\"scale\"] == \"scale\" else None), \n",
    "    (\"model\", model),\n",
    "])"
   ]
  },
  {
   "cell_type": "code",
   "execution_count": 32,
   "id": "9442c04d",
   "metadata": {
    "execution": {
     "iopub.execute_input": "2025-08-05T16:27:08.357493Z",
     "iopub.status.busy": "2025-08-05T16:27:08.357187Z",
     "iopub.status.idle": "2025-08-05T16:27:08.738887Z",
     "shell.execute_reply": "2025-08-05T16:27:08.736760Z"
    },
    "papermill": {
     "duration": 0.409292,
     "end_time": "2025-08-05T16:27:08.741009",
     "exception": false,
     "start_time": "2025-08-05T16:27:08.331717",
     "status": "completed"
    },
    "tags": []
   },
   "outputs": [
    {
     "data": {
      "text/html": [
       "<style>#sk-container-id-1 {color: black;background-color: white;}#sk-container-id-1 pre{padding: 0;}#sk-container-id-1 div.sk-toggleable {background-color: white;}#sk-container-id-1 label.sk-toggleable__label {cursor: pointer;display: block;width: 100%;margin-bottom: 0;padding: 0.3em;box-sizing: border-box;text-align: center;}#sk-container-id-1 label.sk-toggleable__label-arrow:before {content: \"▸\";float: left;margin-right: 0.25em;color: #696969;}#sk-container-id-1 label.sk-toggleable__label-arrow:hover:before {color: black;}#sk-container-id-1 div.sk-estimator:hover label.sk-toggleable__label-arrow:before {color: black;}#sk-container-id-1 div.sk-toggleable__content {max-height: 0;max-width: 0;overflow: hidden;text-align: left;background-color: #f0f8ff;}#sk-container-id-1 div.sk-toggleable__content pre {margin: 0.2em;color: black;border-radius: 0.25em;background-color: #f0f8ff;}#sk-container-id-1 input.sk-toggleable__control:checked~div.sk-toggleable__content {max-height: 200px;max-width: 100%;overflow: auto;}#sk-container-id-1 input.sk-toggleable__control:checked~label.sk-toggleable__label-arrow:before {content: \"▾\";}#sk-container-id-1 div.sk-estimator input.sk-toggleable__control:checked~label.sk-toggleable__label {background-color: #d4ebff;}#sk-container-id-1 div.sk-label input.sk-toggleable__control:checked~label.sk-toggleable__label {background-color: #d4ebff;}#sk-container-id-1 input.sk-hidden--visually {border: 0;clip: rect(1px 1px 1px 1px);clip: rect(1px, 1px, 1px, 1px);height: 1px;margin: -1px;overflow: hidden;padding: 0;position: absolute;width: 1px;}#sk-container-id-1 div.sk-estimator {font-family: monospace;background-color: #f0f8ff;border: 1px dotted black;border-radius: 0.25em;box-sizing: border-box;margin-bottom: 0.5em;}#sk-container-id-1 div.sk-estimator:hover {background-color: #d4ebff;}#sk-container-id-1 div.sk-parallel-item::after {content: \"\";width: 100%;border-bottom: 1px solid gray;flex-grow: 1;}#sk-container-id-1 div.sk-label:hover label.sk-toggleable__label {background-color: #d4ebff;}#sk-container-id-1 div.sk-serial::before {content: \"\";position: absolute;border-left: 1px solid gray;box-sizing: border-box;top: 0;bottom: 0;left: 50%;z-index: 0;}#sk-container-id-1 div.sk-serial {display: flex;flex-direction: column;align-items: center;background-color: white;padding-right: 0.2em;padding-left: 0.2em;position: relative;}#sk-container-id-1 div.sk-item {position: relative;z-index: 1;}#sk-container-id-1 div.sk-parallel {display: flex;align-items: stretch;justify-content: center;background-color: white;position: relative;}#sk-container-id-1 div.sk-item::before, #sk-container-id-1 div.sk-parallel-item::before {content: \"\";position: absolute;border-left: 1px solid gray;box-sizing: border-box;top: 0;bottom: 0;left: 50%;z-index: -1;}#sk-container-id-1 div.sk-parallel-item {display: flex;flex-direction: column;z-index: 1;position: relative;background-color: white;}#sk-container-id-1 div.sk-parallel-item:first-child::after {align-self: flex-end;width: 50%;}#sk-container-id-1 div.sk-parallel-item:last-child::after {align-self: flex-start;width: 50%;}#sk-container-id-1 div.sk-parallel-item:only-child::after {width: 0;}#sk-container-id-1 div.sk-dashed-wrapped {border: 1px dashed gray;margin: 0 0.4em 0.5em 0.4em;box-sizing: border-box;padding-bottom: 0.4em;background-color: white;}#sk-container-id-1 div.sk-label label {font-family: monospace;font-weight: bold;display: inline-block;line-height: 1.2em;}#sk-container-id-1 div.sk-label-container {text-align: center;}#sk-container-id-1 div.sk-container {/* jupyter's `normalize.less` sets `[hidden] { display: none; }` but bootstrap.min.css set `[hidden] { display: none !important; }` so we also need the `!important` here to be able to override the default hidden behavior on the sphinx rendered scikit-learn.org. See: https://github.com/scikit-learn/scikit-learn/issues/21755 */display: inline-block !important;position: relative;}#sk-container-id-1 div.sk-text-repr-fallback {display: none;}</style><div id=\"sk-container-id-1\" class=\"sk-top-container\"><div class=\"sk-text-repr-fallback\"><pre>Pipeline(steps=[(&#x27;scale&#x27;, None), (&#x27;model&#x27;, RandomForestClassifier())])</pre><b>In a Jupyter environment, please rerun this cell to show the HTML representation or trust the notebook. <br />On GitHub, the HTML representation is unable to render, please try loading this page with nbviewer.org.</b></div><div class=\"sk-container\" hidden><div class=\"sk-item sk-dashed-wrapped\"><div class=\"sk-label-container\"><div class=\"sk-label sk-toggleable\"><input class=\"sk-toggleable__control sk-hidden--visually\" id=\"sk-estimator-id-1\" type=\"checkbox\" ><label for=\"sk-estimator-id-1\" class=\"sk-toggleable__label sk-toggleable__label-arrow\">Pipeline</label><div class=\"sk-toggleable__content\"><pre>Pipeline(steps=[(&#x27;scale&#x27;, None), (&#x27;model&#x27;, RandomForestClassifier())])</pre></div></div></div><div class=\"sk-serial\"><div class=\"sk-item\"><div class=\"sk-estimator sk-toggleable\"><input class=\"sk-toggleable__control sk-hidden--visually\" id=\"sk-estimator-id-2\" type=\"checkbox\" ><label for=\"sk-estimator-id-2\" class=\"sk-toggleable__label sk-toggleable__label-arrow\">None</label><div class=\"sk-toggleable__content\"><pre>None</pre></div></div></div><div class=\"sk-item\"><div class=\"sk-estimator sk-toggleable\"><input class=\"sk-toggleable__control sk-hidden--visually\" id=\"sk-estimator-id-3\" type=\"checkbox\" ><label for=\"sk-estimator-id-3\" class=\"sk-toggleable__label sk-toggleable__label-arrow\">RandomForestClassifier</label><div class=\"sk-toggleable__content\"><pre>RandomForestClassifier()</pre></div></div></div></div></div></div></div>"
      ],
      "text/plain": [
       "Pipeline(steps=[('scale', None), ('model', RandomForestClassifier())])"
      ]
     },
     "execution_count": 32,
     "metadata": {},
     "output_type": "execute_result"
    }
   ],
   "source": [
    "model.fit(X_train, y_train.values.ravel())"
   ]
  },
  {
   "cell_type": "code",
   "execution_count": 33,
   "id": "af59f8c0",
   "metadata": {
    "execution": {
     "iopub.execute_input": "2025-08-05T16:27:08.799107Z",
     "iopub.status.busy": "2025-08-05T16:27:08.798112Z",
     "iopub.status.idle": "2025-08-05T16:27:08.804462Z",
     "shell.execute_reply": "2025-08-05T16:27:08.803414Z"
    },
    "papermill": {
     "duration": 0.03608,
     "end_time": "2025-08-05T16:27:08.806617",
     "exception": false,
     "start_time": "2025-08-05T16:27:08.770537",
     "status": "completed"
    },
    "tags": []
   },
   "outputs": [],
   "source": [
    "from fairness_multiverse.universe import predict_w_threshold"
   ]
  },
  {
   "cell_type": "code",
   "execution_count": 34,
   "id": "a7cf2e16",
   "metadata": {
    "execution": {
     "iopub.execute_input": "2025-08-05T16:27:08.857484Z",
     "iopub.status.busy": "2025-08-05T16:27:08.856986Z",
     "iopub.status.idle": "2025-08-05T16:27:10.654526Z",
     "shell.execute_reply": "2025-08-05T16:27:10.653414Z"
    },
    "papermill": {
     "duration": 1.825171,
     "end_time": "2025-08-05T16:27:10.656506",
     "exception": false,
     "start_time": "2025-08-05T16:27:08.831335",
     "status": "completed"
    },
    "tags": []
   },
   "outputs": [
    {
     "data": {
      "text/plain": [
       "0.8580091405640397"
      ]
     },
     "execution_count": 34,
     "metadata": {},
     "output_type": "execute_result"
    }
   ],
   "source": [
    "probs_test = model.predict_proba(X_test)\n",
    "\n",
    "'''\n",
    "Below code returns a boolean array (or binary 0/1 array depending on how it’s used) where each element \n",
    "is True if the probability of class 1 is greater than or equal to the threshold, and False otherwise.\n",
    "'''\n",
    "y_pred_default = predict_w_threshold(probs_test, 0.5)\n",
    "\n",
    "from sklearn.metrics import accuracy_score\n",
    "\n",
    "# Naive prediction\n",
    "accuracy_score(y_true = y_true, y_pred = y_pred_default)"
   ]
  },
  {
   "cell_type": "code",
   "execution_count": 35,
   "id": "081964c3",
   "metadata": {
    "execution": {
     "iopub.execute_input": "2025-08-05T16:27:10.709701Z",
     "iopub.status.busy": "2025-08-05T16:27:10.708786Z",
     "iopub.status.idle": "2025-08-05T16:27:12.414509Z",
     "shell.execute_reply": "2025-08-05T16:27:12.413318Z"
    },
    "papermill": {
     "duration": 1.734126,
     "end_time": "2025-08-05T16:27:12.417026",
     "exception": false,
     "start_time": "2025-08-05T16:27:10.682900",
     "status": "completed"
    },
    "tags": []
   },
   "outputs": [
    {
     "data": {
      "text/plain": [
       "array([0, 0, 0, ..., 0, 0, 0])"
      ]
     },
     "execution_count": 35,
     "metadata": {},
     "output_type": "execute_result"
    }
   ],
   "source": [
    "model.predict(X_test)"
   ]
  },
  {
   "cell_type": "markdown",
   "id": "56c9705b",
   "metadata": {
    "papermill": {
     "duration": 0.024964,
     "end_time": "2025-08-05T16:27:12.467791",
     "exception": false,
     "start_time": "2025-08-05T16:27:12.442827",
     "status": "completed"
    },
    "tags": []
   },
   "source": [
    "# Conformal Prediction"
   ]
  },
  {
   "cell_type": "code",
   "execution_count": 36,
   "id": "160ec6ff",
   "metadata": {
    "execution": {
     "iopub.execute_input": "2025-08-05T16:27:12.519908Z",
     "iopub.status.busy": "2025-08-05T16:27:12.519009Z",
     "iopub.status.idle": "2025-08-05T16:27:12.525969Z",
     "shell.execute_reply": "2025-08-05T16:27:12.524728Z"
    },
    "papermill": {
     "duration": 0.035119,
     "end_time": "2025-08-05T16:27:12.528081",
     "exception": false,
     "start_time": "2025-08-05T16:27:12.492962",
     "status": "completed"
    },
    "tags": []
   },
   "outputs": [],
   "source": [
    "# Miscoverage level for conformal prediction (10% allowed error rate => 90% target coverage)\n",
    "alpha = 0.1"
   ]
  },
  {
   "cell_type": "code",
   "execution_count": 37,
   "id": "eadf4555-3dd3-440e-8e35-f82a4ad9f855",
   "metadata": {
    "execution": {
     "iopub.execute_input": "2025-08-05T16:27:12.576609Z",
     "iopub.status.busy": "2025-08-05T16:27:12.576061Z",
     "iopub.status.idle": "2025-08-05T16:27:14.176598Z",
     "shell.execute_reply": "2025-08-05T16:27:14.175389Z"
    },
    "papermill": {
     "duration": 1.631406,
     "end_time": "2025-08-05T16:27:14.183246",
     "exception": false,
     "start_time": "2025-08-05T16:27:12.551840",
     "status": "completed"
    },
    "tags": []
   },
   "outputs": [],
   "source": [
    "probs_calib = model.predict_proba(X_calib)"
   ]
  },
  {
   "cell_type": "code",
   "execution_count": 38,
   "id": "2ed93547-6d5d-4983-9b36-1ecb300da49a",
   "metadata": {
    "execution": {
     "iopub.execute_input": "2025-08-05T16:27:14.238298Z",
     "iopub.status.busy": "2025-08-05T16:27:14.237163Z",
     "iopub.status.idle": "2025-08-05T16:27:14.243957Z",
     "shell.execute_reply": "2025-08-05T16:27:14.242874Z"
    },
    "papermill": {
     "duration": 0.035636,
     "end_time": "2025-08-05T16:27:14.246218",
     "exception": false,
     "start_time": "2025-08-05T16:27:14.210582",
     "status": "completed"
    },
    "tags": []
   },
   "outputs": [],
   "source": [
    "y_calib = y_calib.values.ravel().astype(int)"
   ]
  },
  {
   "cell_type": "code",
   "execution_count": 39,
   "id": "65d1320d-f588-4b38-9072-62af1ae97f7d",
   "metadata": {
    "execution": {
     "iopub.execute_input": "2025-08-05T16:27:14.301586Z",
     "iopub.status.busy": "2025-08-05T16:27:14.300620Z",
     "iopub.status.idle": "2025-08-05T16:27:14.309911Z",
     "shell.execute_reply": "2025-08-05T16:27:14.308798Z"
    },
    "papermill": {
     "duration": 0.03807,
     "end_time": "2025-08-05T16:27:14.311806",
     "exception": false,
     "start_time": "2025-08-05T16:27:14.273736",
     "status": "completed"
    },
    "tags": []
   },
   "outputs": [],
   "source": [
    "from fairness_multiverse.conformal import compute_nc_scores\n",
    "\n",
    "# Compute nonconformity scores on calibration set (1 - probability of true class)\n",
    "nc_scores = compute_nc_scores(probs_calib, y_calib)"
   ]
  },
  {
   "cell_type": "code",
   "execution_count": 40,
   "id": "df3b8ca3-53b7-43d5-9667-7c85da7aeda2",
   "metadata": {
    "execution": {
     "iopub.execute_input": "2025-08-05T16:27:14.366315Z",
     "iopub.status.busy": "2025-08-05T16:27:14.365355Z",
     "iopub.status.idle": "2025-08-05T16:27:14.373657Z",
     "shell.execute_reply": "2025-08-05T16:27:14.372831Z"
    },
    "papermill": {
     "duration": 0.037413,
     "end_time": "2025-08-05T16:27:14.375297",
     "exception": false,
     "start_time": "2025-08-05T16:27:14.337884",
     "status": "completed"
    },
    "tags": []
   },
   "outputs": [],
   "source": [
    "from fairness_multiverse.conformal import find_threshold\n",
    "\n",
    "# Find conformal threshold q_hat for the given alpha (split conformal method)\n",
    "q_hat = find_threshold(nc_scores, alpha)"
   ]
  },
  {
   "cell_type": "code",
   "execution_count": 41,
   "id": "4d29e6c1-0ef6-4aa4-b8fe-4fe79b0d033a",
   "metadata": {
    "execution": {
     "iopub.execute_input": "2025-08-05T16:27:14.404331Z",
     "iopub.status.busy": "2025-08-05T16:27:14.403576Z",
     "iopub.status.idle": "2025-08-05T16:27:14.410711Z",
     "shell.execute_reply": "2025-08-05T16:27:14.409876Z"
    },
    "papermill": {
     "duration": 0.023344,
     "end_time": "2025-08-05T16:27:14.412230",
     "exception": false,
     "start_time": "2025-08-05T16:27:14.388886",
     "status": "completed"
    },
    "tags": []
   },
   "outputs": [
    {
     "data": {
      "text/plain": [
       "0.6699999999999999"
      ]
     },
     "execution_count": 41,
     "metadata": {},
     "output_type": "execute_result"
    }
   ],
   "source": [
    "q_hat"
   ]
  },
  {
   "cell_type": "code",
   "execution_count": 42,
   "id": "92460794-cdac-4be2-ba28-f28c0515a6fb",
   "metadata": {
    "execution": {
     "iopub.execute_input": "2025-08-05T16:27:14.440151Z",
     "iopub.status.busy": "2025-08-05T16:27:14.439359Z",
     "iopub.status.idle": "2025-08-05T16:27:16.792024Z",
     "shell.execute_reply": "2025-08-05T16:27:16.791060Z"
    },
    "papermill": {
     "duration": 2.36832,
     "end_time": "2025-08-05T16:27:16.793685",
     "exception": false,
     "start_time": "2025-08-05T16:27:14.425365",
     "status": "completed"
    },
    "tags": []
   },
   "outputs": [],
   "source": [
    "from fairness_multiverse.conformal import predict_conformal_sets\n",
    "\n",
    "# Generate prediction sets for each test example\n",
    "pred_sets = predict_conformal_sets(model, X_test, q_hat)"
   ]
  },
  {
   "cell_type": "code",
   "execution_count": 43,
   "id": "d90c9a65-e6db-4f5d-80cd-e68fb7e46829",
   "metadata": {
    "execution": {
     "iopub.execute_input": "2025-08-05T16:27:16.821173Z",
     "iopub.status.busy": "2025-08-05T16:27:16.820698Z",
     "iopub.status.idle": "2025-08-05T16:27:16.825838Z",
     "shell.execute_reply": "2025-08-05T16:27:16.825010Z"
    },
    "papermill": {
     "duration": 0.020068,
     "end_time": "2025-08-05T16:27:16.827309",
     "exception": false,
     "start_time": "2025-08-05T16:27:16.807241",
     "status": "completed"
    },
    "tags": []
   },
   "outputs": [],
   "source": [
    "y_true = y_true.squeeze()"
   ]
  },
  {
   "cell_type": "code",
   "execution_count": 44,
   "id": "3a58a54a-1e68-46b9-927a-df01f18aebc8",
   "metadata": {
    "execution": {
     "iopub.execute_input": "2025-08-05T16:27:16.854187Z",
     "iopub.status.busy": "2025-08-05T16:27:16.853802Z",
     "iopub.status.idle": "2025-08-05T16:27:17.976537Z",
     "shell.execute_reply": "2025-08-05T16:27:17.975092Z"
    },
    "papermill": {
     "duration": 1.138682,
     "end_time": "2025-08-05T16:27:17.978876",
     "exception": false,
     "start_time": "2025-08-05T16:27:16.840194",
     "status": "completed"
    },
    "tags": []
   },
   "outputs": [],
   "source": [
    "from fairness_multiverse.conformal import evaluate_sets\n",
    "\n",
    "# Evaluate coverage and average set size on test data\n",
    "metrics = evaluate_sets(pred_sets, y_true)"
   ]
  },
  {
   "cell_type": "markdown",
   "id": "2b569c12-9aaa-4c88-98c9-bbcd0cf3ebb8",
   "metadata": {
    "papermill": {
     "duration": 0.028295,
     "end_time": "2025-08-05T16:27:18.036410",
     "exception": false,
     "start_time": "2025-08-05T16:27:18.008115",
     "status": "completed"
    },
    "tags": []
   },
   "source": [
    "# CP Metrics"
   ]
  },
  {
   "cell_type": "code",
   "execution_count": 45,
   "id": "5ce0a5cb-201f-45a0-ade5-94c7f0bd6095",
   "metadata": {
    "execution": {
     "iopub.execute_input": "2025-08-05T16:27:18.095199Z",
     "iopub.status.busy": "2025-08-05T16:27:18.094131Z",
     "iopub.status.idle": "2025-08-05T16:27:18.103501Z",
     "shell.execute_reply": "2025-08-05T16:27:18.102421Z"
    },
    "papermill": {
     "duration": 0.040545,
     "end_time": "2025-08-05T16:27:18.105092",
     "exception": false,
     "start_time": "2025-08-05T16:27:18.064547",
     "status": "completed"
    },
    "tags": []
   },
   "outputs": [
    {
     "data": {
      "text/plain": [
       "{'coverage': 0.9158622227176457, 'avg_size': 1.1783190279790436}"
      ]
     },
     "execution_count": 45,
     "metadata": {},
     "output_type": "execute_result"
    }
   ],
   "source": [
    "metrics"
   ]
  },
  {
   "cell_type": "code",
   "execution_count": 46,
   "id": "9b9a838d-31c9-430b-ae14-12baee460d17",
   "metadata": {
    "execution": {
     "iopub.execute_input": "2025-08-05T16:27:18.162530Z",
     "iopub.status.busy": "2025-08-05T16:27:18.162119Z",
     "iopub.status.idle": "2025-08-05T16:27:18.169102Z",
     "shell.execute_reply": "2025-08-05T16:27:18.168235Z"
    },
    "papermill": {
     "duration": 0.037933,
     "end_time": "2025-08-05T16:27:18.170600",
     "exception": false,
     "start_time": "2025-08-05T16:27:18.132667",
     "status": "completed"
    },
    "tags": []
   },
   "outputs": [],
   "source": [
    "example_universe = universe.copy()\n",
    "universe_training_year = example_universe.get(\"training_year\")\n",
    "universe_training_size = example_universe.get(\"training_size\")\n",
    "universe_scale = example_universe.get(\"scale\")\n",
    "universe_model = example_universe.get(\"model\")\n",
    "universe_exclude_features = example_universe.get(\"exclude_features\")\n",
    "universe_exclude_subgroups = example_universe.get(\"exclude_subgroups\")"
   ]
  },
  {
   "cell_type": "code",
   "execution_count": 47,
   "id": "f4b6a8ac-9dc0-4245-8a91-5b3b5999c4f9",
   "metadata": {
    "execution": {
     "iopub.execute_input": "2025-08-05T16:27:18.200426Z",
     "iopub.status.busy": "2025-08-05T16:27:18.199723Z",
     "iopub.status.idle": "2025-08-05T16:27:18.206142Z",
     "shell.execute_reply": "2025-08-05T16:27:18.205274Z"
    },
    "papermill": {
     "duration": 0.02238,
     "end_time": "2025-08-05T16:27:18.207768",
     "exception": false,
     "start_time": "2025-08-05T16:27:18.185388",
     "status": "completed"
    },
    "tags": []
   },
   "outputs": [],
   "source": [
    "cp_metrics_dict = {\n",
    "    \"universe_id\": [universe_id],\n",
    "    \"universe_training_year\": [universe_training_year],\n",
    "    \"universe_training_size\": [universe_training_size],\n",
    "    \"universe_scale\": [universe_scale],\n",
    "    \"universe_model\": [universe_model],\n",
    "    \"universe_exclude_features\": [universe_exclude_features],\n",
    "    \"universe_exclude_subgroups\": [universe_exclude_subgroups],\n",
    "    \"q_hat\": [q_hat],\n",
    "    \"coverage\": [metrics[\"coverage\"]],\n",
    "    \"avg_size\": [metrics[\"avg_size\"]],\n",
    "}"
   ]
  },
  {
   "cell_type": "code",
   "execution_count": 48,
   "id": "908acbb1-0371-4915-85ca-3fa520d2efe2",
   "metadata": {
    "execution": {
     "iopub.execute_input": "2025-08-05T16:27:18.236526Z",
     "iopub.status.busy": "2025-08-05T16:27:18.235629Z",
     "iopub.status.idle": "2025-08-05T16:27:18.243292Z",
     "shell.execute_reply": "2025-08-05T16:27:18.242408Z"
    },
    "papermill": {
     "duration": 0.023566,
     "end_time": "2025-08-05T16:27:18.244863",
     "exception": false,
     "start_time": "2025-08-05T16:27:18.221297",
     "status": "completed"
    },
    "tags": []
   },
   "outputs": [
    {
     "data": {
      "text/plain": [
       "{'universe_id': ['e88aa3daea96c6e1a6f9b6a65e8b8c8d'],\n",
       " 'universe_training_year': ['2012_14'],\n",
       " 'universe_training_size': ['1k'],\n",
       " 'universe_scale': ['do-not-scale'],\n",
       " 'universe_model': ['rf'],\n",
       " 'universe_exclude_features': ['sex'],\n",
       " 'universe_exclude_subgroups': ['drop-non-german'],\n",
       " 'q_hat': [0.6699999999999999],\n",
       " 'coverage': [0.9158622227176457],\n",
       " 'avg_size': [1.1783190279790436]}"
      ]
     },
     "execution_count": 48,
     "metadata": {},
     "output_type": "execute_result"
    }
   ],
   "source": [
    "cp_metrics_dict"
   ]
  },
  {
   "cell_type": "code",
   "execution_count": 49,
   "id": "33007efc-14e9-4ec6-97ac-56a455c82265",
   "metadata": {
    "execution": {
     "iopub.execute_input": "2025-08-05T16:27:18.273886Z",
     "iopub.status.busy": "2025-08-05T16:27:18.273217Z",
     "iopub.status.idle": "2025-08-05T16:27:18.279150Z",
     "shell.execute_reply": "2025-08-05T16:27:18.278199Z"
    },
    "papermill": {
     "duration": 0.021968,
     "end_time": "2025-08-05T16:27:18.280714",
     "exception": false,
     "start_time": "2025-08-05T16:27:18.258746",
     "status": "completed"
    },
    "tags": []
   },
   "outputs": [],
   "source": [
    "cp_metrics_df = pd.DataFrame(cp_metrics_dict)"
   ]
  },
  {
   "cell_type": "code",
   "execution_count": 50,
   "id": "db12611b-57b2-4910-b9d0-355adfd6e7bf",
   "metadata": {
    "execution": {
     "iopub.execute_input": "2025-08-05T16:27:18.309550Z",
     "iopub.status.busy": "2025-08-05T16:27:18.309035Z",
     "iopub.status.idle": "2025-08-05T16:27:18.325480Z",
     "shell.execute_reply": "2025-08-05T16:27:18.324333Z"
    },
    "papermill": {
     "duration": 0.032565,
     "end_time": "2025-08-05T16:27:18.327318",
     "exception": false,
     "start_time": "2025-08-05T16:27:18.294753",
     "status": "completed"
    },
    "tags": []
   },
   "outputs": [
    {
     "data": {
      "text/html": [
       "<div>\n",
       "<style scoped>\n",
       "    .dataframe tbody tr th:only-of-type {\n",
       "        vertical-align: middle;\n",
       "    }\n",
       "\n",
       "    .dataframe tbody tr th {\n",
       "        vertical-align: top;\n",
       "    }\n",
       "\n",
       "    .dataframe thead th {\n",
       "        text-align: right;\n",
       "    }\n",
       "</style>\n",
       "<table border=\"1\" class=\"dataframe\">\n",
       "  <thead>\n",
       "    <tr style=\"text-align: right;\">\n",
       "      <th></th>\n",
       "      <th>universe_id</th>\n",
       "      <th>universe_training_year</th>\n",
       "      <th>universe_training_size</th>\n",
       "      <th>universe_scale</th>\n",
       "      <th>universe_model</th>\n",
       "      <th>universe_exclude_features</th>\n",
       "      <th>universe_exclude_subgroups</th>\n",
       "      <th>q_hat</th>\n",
       "      <th>coverage</th>\n",
       "      <th>avg_size</th>\n",
       "    </tr>\n",
       "  </thead>\n",
       "  <tbody>\n",
       "    <tr>\n",
       "      <th>0</th>\n",
       "      <td>e88aa3daea96c6e1a6f9b6a65e8b8c8d</td>\n",
       "      <td>2012_14</td>\n",
       "      <td>1k</td>\n",
       "      <td>do-not-scale</td>\n",
       "      <td>rf</td>\n",
       "      <td>sex</td>\n",
       "      <td>drop-non-german</td>\n",
       "      <td>0.67</td>\n",
       "      <td>0.915862</td>\n",
       "      <td>1.178319</td>\n",
       "    </tr>\n",
       "  </tbody>\n",
       "</table>\n",
       "</div>"
      ],
      "text/plain": [
       "                        universe_id universe_training_year  \\\n",
       "0  e88aa3daea96c6e1a6f9b6a65e8b8c8d                2012_14   \n",
       "\n",
       "  universe_training_size universe_scale universe_model  \\\n",
       "0                     1k   do-not-scale             rf   \n",
       "\n",
       "  universe_exclude_features universe_exclude_subgroups  q_hat  coverage  \\\n",
       "0                       sex            drop-non-german   0.67  0.915862   \n",
       "\n",
       "   avg_size  \n",
       "0  1.178319  "
      ]
     },
     "execution_count": 50,
     "metadata": {},
     "output_type": "execute_result"
    }
   ],
   "source": [
    "cp_metrics_df"
   ]
  },
  {
   "cell_type": "code",
   "execution_count": 51,
   "id": "b7fbde55-a0a1-47e4-9af6-fe4a17fa8c61",
   "metadata": {
    "execution": {
     "iopub.execute_input": "2025-08-05T16:27:18.379357Z",
     "iopub.status.busy": "2025-08-05T16:27:18.378689Z",
     "iopub.status.idle": "2025-08-05T16:27:18.384118Z",
     "shell.execute_reply": "2025-08-05T16:27:18.383108Z"
    },
    "papermill": {
     "duration": 0.0332,
     "end_time": "2025-08-05T16:27:18.385846",
     "exception": false,
     "start_time": "2025-08-05T16:27:18.352646",
     "status": "completed"
    },
    "tags": []
   },
   "outputs": [],
   "source": [
    "# Conditional Coverage & looking at subgroups"
   ]
  },
  {
   "cell_type": "code",
   "execution_count": 52,
   "id": "027ae886-68dd-4141-96c7-805a5450e1ef",
   "metadata": {
    "execution": {
     "iopub.execute_input": "2025-08-05T16:27:18.436529Z",
     "iopub.status.busy": "2025-08-05T16:27:18.435897Z",
     "iopub.status.idle": "2025-08-05T16:27:18.741212Z",
     "shell.execute_reply": "2025-08-05T16:27:18.740092Z"
    },
    "papermill": {
     "duration": 0.333248,
     "end_time": "2025-08-05T16:27:18.743388",
     "exception": false,
     "start_time": "2025-08-05T16:27:18.410140",
     "status": "completed"
    },
    "tags": []
   },
   "outputs": [],
   "source": [
    "from fairness_multiverse.conformal import build_cp_groups\n",
    "\n",
    "cp_groups_df = build_cp_groups(pred_sets, y_true, X_test.index, org_test)\n",
    "#needs universe_id and setting"
   ]
  },
  {
   "cell_type": "code",
   "execution_count": 53,
   "id": "6cbdab96-b2b2-45af-ad54-d0516db2e28d",
   "metadata": {
    "execution": {
     "iopub.execute_input": "2025-08-05T16:27:18.797026Z",
     "iopub.status.busy": "2025-08-05T16:27:18.796450Z",
     "iopub.status.idle": "2025-08-05T16:27:20.685083Z",
     "shell.execute_reply": "2025-08-05T16:27:20.683923Z"
    },
    "papermill": {
     "duration": 1.918048,
     "end_time": "2025-08-05T16:27:20.687427",
     "exception": false,
     "start_time": "2025-08-05T16:27:18.769379",
     "status": "completed"
    },
    "tags": []
   },
   "outputs": [],
   "source": [
    "# Define covered = 1 if true_label is in the predicted set\n",
    "cp_groups_df['covered'] = cp_groups_df.apply(\n",
    "    lambda r: int(r['true_label'] in r['pred_set']),\n",
    "    axis=1\n",
    ")"
   ]
  },
  {
   "cell_type": "code",
   "execution_count": 54,
   "id": "338ff529-1a6b-4b87-a931-8e4788d52aad",
   "metadata": {
    "execution": {
     "iopub.execute_input": "2025-08-05T16:27:20.749451Z",
     "iopub.status.busy": "2025-08-05T16:27:20.748689Z",
     "iopub.status.idle": "2025-08-05T16:27:20.754714Z",
     "shell.execute_reply": "2025-08-05T16:27:20.753475Z"
    },
    "papermill": {
     "duration": 0.039105,
     "end_time": "2025-08-05T16:27:20.756783",
     "exception": false,
     "start_time": "2025-08-05T16:27:20.717678",
     "status": "completed"
    },
    "tags": []
   },
   "outputs": [],
   "source": [
    "#cp_groups_df"
   ]
  },
  {
   "cell_type": "code",
   "execution_count": 55,
   "id": "90032e27-66df-4540-9169-4e89cfbaa758",
   "metadata": {
    "execution": {
     "iopub.execute_input": "2025-08-05T16:27:20.818525Z",
     "iopub.status.busy": "2025-08-05T16:27:20.817459Z",
     "iopub.status.idle": "2025-08-05T16:27:20.831257Z",
     "shell.execute_reply": "2025-08-05T16:27:20.830051Z"
    },
    "papermill": {
     "duration": 0.046475,
     "end_time": "2025-08-05T16:27:20.833355",
     "exception": false,
     "start_time": "2025-08-05T16:27:20.786880",
     "status": "completed"
    },
    "tags": []
   },
   "outputs": [],
   "source": [
    "subgroups = ['frau1','nongerman','nongerman_male','nongerman_female']\n",
    "\n",
    "# Conditional coverage for subgroup==1\n",
    "cond_coverage = {\n",
    "    g: cp_groups_df.loc[cp_groups_df[g]==1, 'covered'].mean()\n",
    "    for g in subgroups\n",
    "}"
   ]
  },
  {
   "cell_type": "code",
   "execution_count": 56,
   "id": "1e348fb1-b9c3-45bc-ba23-f016827a7e0d",
   "metadata": {
    "execution": {
     "iopub.execute_input": "2025-08-05T16:27:20.869016Z",
     "iopub.status.busy": "2025-08-05T16:27:20.868568Z",
     "iopub.status.idle": "2025-08-05T16:27:20.875998Z",
     "shell.execute_reply": "2025-08-05T16:27:20.875168Z"
    },
    "papermill": {
     "duration": 0.023668,
     "end_time": "2025-08-05T16:27:20.877621",
     "exception": false,
     "start_time": "2025-08-05T16:27:20.853953",
     "status": "completed"
    },
    "tags": []
   },
   "outputs": [
    {
     "data": {
      "text/plain": [
       "{'frau1': 0.9170238576627577,\n",
       " 'nongerman': 0.9121428170437321,\n",
       " 'nongerman_male': 0.9238043771953526,\n",
       " 'nongerman_female': 0.8928464977645305}"
      ]
     },
     "execution_count": 56,
     "metadata": {},
     "output_type": "execute_result"
    }
   ],
   "source": [
    "cond_coverage"
   ]
  },
  {
   "cell_type": "code",
   "execution_count": 57,
   "id": "f5093324-c3dd-4d63-bc4c-8d945e5c8bbb",
   "metadata": {
    "execution": {
     "iopub.execute_input": "2025-08-05T16:27:20.924545Z",
     "iopub.status.busy": "2025-08-05T16:27:20.923996Z",
     "iopub.status.idle": "2025-08-05T16:27:20.932725Z",
     "shell.execute_reply": "2025-08-05T16:27:20.931378Z"
    },
    "papermill": {
     "duration": 0.04081,
     "end_time": "2025-08-05T16:27:20.934778",
     "exception": false,
     "start_time": "2025-08-05T16:27:20.893968",
     "status": "completed"
    },
    "tags": []
   },
   "outputs": [],
   "source": [
    "for subgroup, cov in cond_coverage.items():\n",
    "    cp_metrics_df[f\"cov_{subgroup}\"] = cov"
   ]
  },
  {
   "cell_type": "code",
   "execution_count": 58,
   "id": "6e872e10-dbe5-49e8-b554-5030c98ff75d",
   "metadata": {
    "execution": {
     "iopub.execute_input": "2025-08-05T16:27:20.967073Z",
     "iopub.status.busy": "2025-08-05T16:27:20.966687Z",
     "iopub.status.idle": "2025-08-05T16:27:20.984278Z",
     "shell.execute_reply": "2025-08-05T16:27:20.983451Z"
    },
    "papermill": {
     "duration": 0.034614,
     "end_time": "2025-08-05T16:27:20.985878",
     "exception": false,
     "start_time": "2025-08-05T16:27:20.951264",
     "status": "completed"
    },
    "tags": []
   },
   "outputs": [
    {
     "data": {
      "text/html": [
       "<div>\n",
       "<style scoped>\n",
       "    .dataframe tbody tr th:only-of-type {\n",
       "        vertical-align: middle;\n",
       "    }\n",
       "\n",
       "    .dataframe tbody tr th {\n",
       "        vertical-align: top;\n",
       "    }\n",
       "\n",
       "    .dataframe thead th {\n",
       "        text-align: right;\n",
       "    }\n",
       "</style>\n",
       "<table border=\"1\" class=\"dataframe\">\n",
       "  <thead>\n",
       "    <tr style=\"text-align: right;\">\n",
       "      <th></th>\n",
       "      <th>universe_id</th>\n",
       "      <th>universe_training_year</th>\n",
       "      <th>universe_training_size</th>\n",
       "      <th>universe_scale</th>\n",
       "      <th>universe_model</th>\n",
       "      <th>universe_exclude_features</th>\n",
       "      <th>universe_exclude_subgroups</th>\n",
       "      <th>q_hat</th>\n",
       "      <th>coverage</th>\n",
       "      <th>avg_size</th>\n",
       "      <th>cov_frau1</th>\n",
       "      <th>cov_nongerman</th>\n",
       "      <th>cov_nongerman_male</th>\n",
       "      <th>cov_nongerman_female</th>\n",
       "    </tr>\n",
       "  </thead>\n",
       "  <tbody>\n",
       "    <tr>\n",
       "      <th>0</th>\n",
       "      <td>e88aa3daea96c6e1a6f9b6a65e8b8c8d</td>\n",
       "      <td>2012_14</td>\n",
       "      <td>1k</td>\n",
       "      <td>do-not-scale</td>\n",
       "      <td>rf</td>\n",
       "      <td>sex</td>\n",
       "      <td>drop-non-german</td>\n",
       "      <td>0.67</td>\n",
       "      <td>0.915862</td>\n",
       "      <td>1.178319</td>\n",
       "      <td>0.917024</td>\n",
       "      <td>0.912143</td>\n",
       "      <td>0.923804</td>\n",
       "      <td>0.892846</td>\n",
       "    </tr>\n",
       "  </tbody>\n",
       "</table>\n",
       "</div>"
      ],
      "text/plain": [
       "                        universe_id universe_training_year  \\\n",
       "0  e88aa3daea96c6e1a6f9b6a65e8b8c8d                2012_14   \n",
       "\n",
       "  universe_training_size universe_scale universe_model  \\\n",
       "0                     1k   do-not-scale             rf   \n",
       "\n",
       "  universe_exclude_features universe_exclude_subgroups  q_hat  coverage  \\\n",
       "0                       sex            drop-non-german   0.67  0.915862   \n",
       "\n",
       "   avg_size  cov_frau1  cov_nongerman  cov_nongerman_male  \\\n",
       "0  1.178319   0.917024       0.912143            0.923804   \n",
       "\n",
       "   cov_nongerman_female  \n",
       "0              0.892846  "
      ]
     },
     "execution_count": 58,
     "metadata": {},
     "output_type": "execute_result"
    }
   ],
   "source": [
    "cp_metrics_df"
   ]
  },
  {
   "cell_type": "markdown",
   "id": "33774451",
   "metadata": {
    "papermill": {
     "duration": 0.014009,
     "end_time": "2025-08-05T16:27:21.015191",
     "exception": false,
     "start_time": "2025-08-05T16:27:21.001182",
     "status": "completed"
    },
    "tags": []
   },
   "source": [
    "# (Fairness) Metrics"
   ]
  },
  {
   "cell_type": "code",
   "execution_count": 59,
   "id": "debc5d62",
   "metadata": {
    "execution": {
     "iopub.execute_input": "2025-08-05T16:27:21.045746Z",
     "iopub.status.busy": "2025-08-05T16:27:21.045133Z",
     "iopub.status.idle": "2025-08-05T16:27:21.061345Z",
     "shell.execute_reply": "2025-08-05T16:27:21.060490Z"
    },
    "papermill": {
     "duration": 0.033617,
     "end_time": "2025-08-05T16:27:21.063309",
     "exception": false,
     "start_time": "2025-08-05T16:27:21.029692",
     "status": "completed"
    },
    "tags": []
   },
   "outputs": [],
   "source": [
    "# do I need to include maxdeutsch1.missing?\n",
    "\n",
    "import numpy as np\n",
    "\n",
    "colname_to_bin = \"maxdeutsch1\"\n",
    "majority_value = org_train[colname_to_bin].mode()[0]\n",
    "\n",
    "org_test[\"majmin\"] = np.where(org_test[colname_to_bin] == majority_value, \"majority\", \"minority\")"
   ]
  },
  {
   "cell_type": "code",
   "execution_count": 60,
   "id": "06a50de5",
   "metadata": {
    "execution": {
     "iopub.execute_input": "2025-08-05T16:27:21.095079Z",
     "iopub.status.busy": "2025-08-05T16:27:21.094068Z",
     "iopub.status.idle": "2025-08-05T16:27:23.319472Z",
     "shell.execute_reply": "2025-08-05T16:27:23.318579Z"
    },
    "papermill": {
     "duration": 2.242661,
     "end_time": "2025-08-05T16:27:23.321062",
     "exception": false,
     "start_time": "2025-08-05T16:27:21.078401",
     "status": "completed"
    },
    "tags": []
   },
   "outputs": [],
   "source": [
    "example_universe = universe.copy()\n",
    "example_universe[\"cutoff\"] = example_universe[\"cutoff\"][0]\n",
    "example_universe[\"eval_fairness_grouping\"] = example_universe[\"eval_fairness_grouping\"][0]\n",
    "fairness_dict, metric_frame = universe_analysis.compute_metrics(\n",
    "    example_universe,\n",
    "    y_pred_prob=probs_test,\n",
    "    y_test=y_true,\n",
    "    org_test=org_test,\n",
    ")"
   ]
  },
  {
   "cell_type": "markdown",
   "id": "f95d4e02",
   "metadata": {
    "papermill": {
     "duration": 0.013997,
     "end_time": "2025-08-05T16:27:23.350175",
     "exception": false,
     "start_time": "2025-08-05T16:27:23.336178",
     "status": "completed"
    },
    "tags": []
   },
   "source": [
    "# Overall"
   ]
  },
  {
   "cell_type": "markdown",
   "id": "bdee4871",
   "metadata": {
    "papermill": {
     "duration": 0.014491,
     "end_time": "2025-08-05T16:27:23.382834",
     "exception": false,
     "start_time": "2025-08-05T16:27:23.368343",
     "status": "completed"
    },
    "tags": []
   },
   "source": [
    "Fairness\n",
    "Main fairness target: Equalized Odds. Seems to be a better fit than equal opportunity, since we're not only interested in Y = 1. Seems to be a better fit than demographic parity, since we also care about accuracy, not just equal distribution of preds.\n",
    "\n",
    "Pick column for computation of fairness metrics\n",
    "\n",
    "Performance\n",
    "Overall performance measures, most interesting in relation to the measures split by group below"
   ]
  },
  {
   "cell_type": "code",
   "execution_count": 61,
   "id": "c4e067c6",
   "metadata": {
    "execution": {
     "iopub.execute_input": "2025-08-05T16:27:23.414306Z",
     "iopub.status.busy": "2025-08-05T16:27:23.413215Z",
     "iopub.status.idle": "2025-08-05T16:27:23.421879Z",
     "shell.execute_reply": "2025-08-05T16:27:23.420953Z"
    },
    "papermill": {
     "duration": 0.026495,
     "end_time": "2025-08-05T16:27:23.423359",
     "exception": false,
     "start_time": "2025-08-05T16:27:23.396864",
     "status": "completed"
    },
    "tags": []
   },
   "outputs": [
    {
     "data": {
      "text/plain": [
       "accuracy                   0.219117\n",
       "balanced accuracy          0.544136\n",
       "f1                         0.243807\n",
       "precision                  0.139195\n",
       "false positive rate        0.893046\n",
       "false negative rate        0.018683\n",
       "selection rate             0.904370\n",
       "count                  89710.000000\n",
       "dtype: float64"
      ]
     },
     "execution_count": 61,
     "metadata": {},
     "output_type": "execute_result"
    }
   ],
   "source": [
    "metric_frame.overall"
   ]
  },
  {
   "cell_type": "markdown",
   "id": "e968fe9d",
   "metadata": {
    "papermill": {
     "duration": 0.014583,
     "end_time": "2025-08-05T16:27:23.452821",
     "exception": false,
     "start_time": "2025-08-05T16:27:23.438238",
     "status": "completed"
    },
    "tags": []
   },
   "source": [
    "By Group"
   ]
  },
  {
   "cell_type": "code",
   "execution_count": 62,
   "id": "ec325bce",
   "metadata": {
    "execution": {
     "iopub.execute_input": "2025-08-05T16:27:23.496848Z",
     "iopub.status.busy": "2025-08-05T16:27:23.496351Z",
     "iopub.status.idle": "2025-08-05T16:27:23.523456Z",
     "shell.execute_reply": "2025-08-05T16:27:23.522643Z"
    },
    "papermill": {
     "duration": 0.057948,
     "end_time": "2025-08-05T16:27:23.524924",
     "exception": false,
     "start_time": "2025-08-05T16:27:23.466976",
     "status": "completed"
    },
    "tags": []
   },
   "outputs": [
    {
     "data": {
      "text/html": [
       "<div>\n",
       "<style scoped>\n",
       "    .dataframe tbody tr th:only-of-type {\n",
       "        vertical-align: middle;\n",
       "    }\n",
       "\n",
       "    .dataframe tbody tr th {\n",
       "        vertical-align: top;\n",
       "    }\n",
       "\n",
       "    .dataframe thead th {\n",
       "        text-align: right;\n",
       "    }\n",
       "</style>\n",
       "<table border=\"1\" class=\"dataframe\">\n",
       "  <thead>\n",
       "    <tr style=\"text-align: right;\">\n",
       "      <th></th>\n",
       "      <th>accuracy</th>\n",
       "      <th>balanced accuracy</th>\n",
       "      <th>f1</th>\n",
       "      <th>precision</th>\n",
       "      <th>false positive rate</th>\n",
       "      <th>false negative rate</th>\n",
       "      <th>selection rate</th>\n",
       "      <th>count</th>\n",
       "    </tr>\n",
       "    <tr>\n",
       "      <th>majmin</th>\n",
       "      <th></th>\n",
       "      <th></th>\n",
       "      <th></th>\n",
       "      <th></th>\n",
       "      <th></th>\n",
       "      <th></th>\n",
       "      <th></th>\n",
       "      <th></th>\n",
       "    </tr>\n",
       "  </thead>\n",
       "  <tbody>\n",
       "    <tr>\n",
       "      <th>majority</th>\n",
       "      <td>0.230678</td>\n",
       "      <td>0.548841</td>\n",
       "      <td>0.252108</td>\n",
       "      <td>0.144633</td>\n",
       "      <td>0.883608</td>\n",
       "      <td>0.018709</td>\n",
       "      <td>0.896516</td>\n",
       "      <td>69170.0</td>\n",
       "    </tr>\n",
       "    <tr>\n",
       "      <th>minority</th>\n",
       "      <td>0.180185</td>\n",
       "      <td>0.528597</td>\n",
       "      <td>0.216317</td>\n",
       "      <td>0.121554</td>\n",
       "      <td>0.924224</td>\n",
       "      <td>0.018581</td>\n",
       "      <td>0.930818</td>\n",
       "      <td>20540.0</td>\n",
       "    </tr>\n",
       "  </tbody>\n",
       "</table>\n",
       "</div>"
      ],
      "text/plain": [
       "          accuracy  balanced accuracy        f1  precision  \\\n",
       "majmin                                                       \n",
       "majority  0.230678           0.548841  0.252108   0.144633   \n",
       "minority  0.180185           0.528597  0.216317   0.121554   \n",
       "\n",
       "          false positive rate  false negative rate  selection rate    count  \n",
       "majmin                                                                       \n",
       "majority             0.883608             0.018709        0.896516  69170.0  \n",
       "minority             0.924224             0.018581        0.930818  20540.0  "
      ]
     },
     "execution_count": 62,
     "metadata": {},
     "output_type": "execute_result"
    }
   ],
   "source": [
    "metric_frame.by_group"
   ]
  },
  {
   "cell_type": "code",
   "execution_count": 63,
   "id": "a9ddbe63",
   "metadata": {
    "execution": {
     "iopub.execute_input": "2025-08-05T16:27:23.556923Z",
     "iopub.status.busy": "2025-08-05T16:27:23.556095Z",
     "iopub.status.idle": "2025-08-05T16:27:25.405885Z",
     "shell.execute_reply": "2025-08-05T16:27:25.405009Z"
    },
    "papermill": {
     "duration": 1.867119,
     "end_time": "2025-08-05T16:27:25.407456",
     "exception": false,
     "start_time": "2025-08-05T16:27:23.540337",
     "status": "completed"
    },
    "tags": []
   },
   "outputs": [
    {
     "data": {
      "text/plain": [
       "array([[<Axes: title={'center': 'accuracy'}, xlabel='majmin'>,\n",
       "        <Axes: title={'center': 'balanced accuracy'}, xlabel='majmin'>,\n",
       "        <Axes: title={'center': 'f1'}, xlabel='majmin'>],\n",
       "       [<Axes: title={'center': 'precision'}, xlabel='majmin'>,\n",
       "        <Axes: title={'center': 'false positive rate'}, xlabel='majmin'>,\n",
       "        <Axes: title={'center': 'false negative rate'}, xlabel='majmin'>],\n",
       "       [<Axes: title={'center': 'selection rate'}, xlabel='majmin'>,\n",
       "        <Axes: title={'center': 'count'}, xlabel='majmin'>,\n",
       "        <Axes: xlabel='majmin'>]], dtype=object)"
      ]
     },
     "execution_count": 63,
     "metadata": {},
     "output_type": "execute_result"
    },
    {
     "data": {
      "image/png": "[encoded data removed]",
      "text/plain": [
       "<Figure size 1200x800 with 9 Axes>"
      ]
     },
     "metadata": {},
     "output_type": "display_data"
    }
   ],
   "source": [
    "# In a graphic\n",
    "metric_frame.by_group.plot.bar(\n",
    "    subplots=True,\n",
    "    layout=[3, 3],\n",
    "    legend=False,\n",
    "    figsize=[12, 8],\n",
    "    title=\"Show all metrics\",\n",
    ")"
   ]
  },
  {
   "cell_type": "markdown",
   "id": "f57a0bac",
   "metadata": {
    "papermill": {
     "duration": 0.015253,
     "end_time": "2025-08-05T16:27:25.439166",
     "exception": false,
     "start_time": "2025-08-05T16:27:25.423913",
     "status": "completed"
    },
    "tags": []
   },
   "source": [
    "# Final Output"
   ]
  },
  {
   "cell_type": "code",
   "execution_count": 64,
   "id": "96d280a3",
   "metadata": {
    "execution": {
     "iopub.execute_input": "2025-08-05T16:27:25.471724Z",
     "iopub.status.busy": "2025-08-05T16:27:25.471198Z",
     "iopub.status.idle": "2025-08-05T16:27:25.478778Z",
     "shell.execute_reply": "2025-08-05T16:27:25.477976Z"
    },
    "papermill": {
     "duration": 0.025695,
     "end_time": "2025-08-05T16:27:25.480224",
     "exception": false,
     "start_time": "2025-08-05T16:27:25.454529",
     "status": "completed"
    },
    "tags": []
   },
   "outputs": [
    {
     "data": {
      "text/plain": [
       "4"
      ]
     },
     "execution_count": 64,
     "metadata": {},
     "output_type": "execute_result"
    }
   ],
   "source": [
    "sub_universes = universe_analysis.generate_sub_universes()\n",
    "len(sub_universes)"
   ]
  },
  {
   "cell_type": "code",
   "execution_count": 65,
   "id": "92adf7ba",
   "metadata": {
    "execution": {
     "iopub.execute_input": "2025-08-05T16:27:25.522856Z",
     "iopub.status.busy": "2025-08-05T16:27:25.522363Z",
     "iopub.status.idle": "2025-08-05T16:27:25.532214Z",
     "shell.execute_reply": "2025-08-05T16:27:25.531076Z"
    },
    "papermill": {
     "duration": 0.03824,
     "end_time": "2025-08-05T16:27:25.534013",
     "exception": false,
     "start_time": "2025-08-05T16:27:25.495773",
     "status": "completed"
    },
    "tags": []
   },
   "outputs": [],
   "source": [
    "def filter_sub_universe_data(sub_universe, org_test):\n",
    "    # Keep all rows — no filtering\n",
    "    keep_rows_mask = np.ones(org_test.shape[0], dtype=bool)\n",
    "\n",
    "    print(f\"[INFO] Keeping all rows: {keep_rows_mask.sum()} rows retained.\")\n",
    "    return keep_rows_mask"
   ]
  },
  {
   "cell_type": "code",
   "execution_count": 66,
   "id": "4a759155",
   "metadata": {
    "execution": {
     "iopub.execute_input": "2025-08-05T16:27:25.597929Z",
     "iopub.status.busy": "2025-08-05T16:27:25.597080Z",
     "iopub.status.idle": "2025-08-05T16:27:37.151649Z",
     "shell.execute_reply": "2025-08-05T16:27:37.150184Z"
    },
    "papermill": {
     "duration": 11.589877,
     "end_time": "2025-08-05T16:27:37.154209",
     "exception": false,
     "start_time": "2025-08-05T16:27:25.564332",
     "status": "completed"
    },
    "tags": []
   },
   "outputs": [
    {
     "name": "stdout",
     "output_type": "stream",
     "text": [
      "Stopping execution_time clock.\n",
      "[INFO] Keeping all rows: 89710 rows retained.\n"
     ]
    },
    {
     "name": "stdout",
     "output_type": "stream",
     "text": [
      "[INFO] Keeping all rows: 89710 rows retained.\n"
     ]
    },
    {
     "name": "stdout",
     "output_type": "stream",
     "text": [
      "[INFO] Keeping all rows: 89710 rows retained.\n"
     ]
    },
    {
     "name": "stdout",
     "output_type": "stream",
     "text": [
      "[INFO] Keeping all rows: 89710 rows retained.\n"
     ]
    },
    {
     "data": {
      "text/html": [
       "<div>\n",
       "<style scoped>\n",
       "    .dataframe tbody tr th:only-of-type {\n",
       "        vertical-align: middle;\n",
       "    }\n",
       "\n",
       "    .dataframe tbody tr th {\n",
       "        vertical-align: top;\n",
       "    }\n",
       "\n",
       "    .dataframe thead th {\n",
       "        text-align: right;\n",
       "    }\n",
       "</style>\n",
       "<table border=\"1\" class=\"dataframe\">\n",
       "  <thead>\n",
       "    <tr style=\"text-align: right;\">\n",
       "      <th></th>\n",
       "      <th>run_no</th>\n",
       "      <th>universe_id</th>\n",
       "      <th>universe_settings</th>\n",
       "      <th>execution_time</th>\n",
       "      <th>test_size_n</th>\n",
       "      <th>test_size_frac</th>\n",
       "      <th>fair_main_equalized_odds_difference</th>\n",
       "      <th>fair_main_equalized_odds_ratio</th>\n",
       "      <th>fair_main_demographic_parity_difference</th>\n",
       "      <th>fair_main_demographic_parity_ratio</th>\n",
       "      <th>...</th>\n",
       "      <th>perf_grp_precision_0</th>\n",
       "      <th>perf_grp_precision_1</th>\n",
       "      <th>perf_grp_false positive rate_0</th>\n",
       "      <th>perf_grp_false positive rate_1</th>\n",
       "      <th>perf_grp_false negative rate_0</th>\n",
       "      <th>perf_grp_false negative rate_1</th>\n",
       "      <th>perf_grp_selection rate_0</th>\n",
       "      <th>perf_grp_selection rate_1</th>\n",
       "      <th>perf_grp_count_0</th>\n",
       "      <th>perf_grp_count_1</th>\n",
       "    </tr>\n",
       "  </thead>\n",
       "  <tbody>\n",
       "    <tr>\n",
       "      <th>0</th>\n",
       "      <td>15</td>\n",
       "      <td>e88aa3daea96c6e1a6f9b6a65e8b8c8d</td>\n",
       "      <td>{\"cutoff\": \"quantile_0.1\", \"eval_fairness_grou...</td>\n",
       "      <td>33.78591</td>\n",
       "      <td>89710</td>\n",
       "      <td>1.0</td>\n",
       "      <td>0.040616</td>\n",
       "      <td>0.956054</td>\n",
       "      <td>0.034302</td>\n",
       "      <td>0.963148</td>\n",
       "      <td>...</td>\n",
       "      <td>NaN</td>\n",
       "      <td>NaN</td>\n",
       "      <td>NaN</td>\n",
       "      <td>NaN</td>\n",
       "      <td>NaN</td>\n",
       "      <td>NaN</td>\n",
       "      <td>NaN</td>\n",
       "      <td>NaN</td>\n",
       "      <td>NaN</td>\n",
       "      <td>NaN</td>\n",
       "    </tr>\n",
       "    <tr>\n",
       "      <th>0</th>\n",
       "      <td>15</td>\n",
       "      <td>e88aa3daea96c6e1a6f9b6a65e8b8c8d</td>\n",
       "      <td>{\"cutoff\": \"quantile_0.1\", \"eval_fairness_grou...</td>\n",
       "      <td>33.78591</td>\n",
       "      <td>89710</td>\n",
       "      <td>1.0</td>\n",
       "      <td>0.040616</td>\n",
       "      <td>0.956054</td>\n",
       "      <td>0.034302</td>\n",
       "      <td>0.963148</td>\n",
       "      <td>...</td>\n",
       "      <td>0.121554</td>\n",
       "      <td>0.144633</td>\n",
       "      <td>0.924224</td>\n",
       "      <td>0.883608</td>\n",
       "      <td>0.018581</td>\n",
       "      <td>0.018709</td>\n",
       "      <td>0.930818</td>\n",
       "      <td>0.896516</td>\n",
       "      <td>20540.0</td>\n",
       "      <td>69170.0</td>\n",
       "    </tr>\n",
       "    <tr>\n",
       "      <th>0</th>\n",
       "      <td>15</td>\n",
       "      <td>e88aa3daea96c6e1a6f9b6a65e8b8c8d</td>\n",
       "      <td>{\"cutoff\": \"quantile_0.25\", \"eval_fairness_gro...</td>\n",
       "      <td>33.78591</td>\n",
       "      <td>89710</td>\n",
       "      <td>1.0</td>\n",
       "      <td>0.091144</td>\n",
       "      <td>0.886665</td>\n",
       "      <td>0.074287</td>\n",
       "      <td>0.909045</td>\n",
       "      <td>...</td>\n",
       "      <td>NaN</td>\n",
       "      <td>NaN</td>\n",
       "      <td>NaN</td>\n",
       "      <td>NaN</td>\n",
       "      <td>NaN</td>\n",
       "      <td>NaN</td>\n",
       "      <td>NaN</td>\n",
       "      <td>NaN</td>\n",
       "      <td>NaN</td>\n",
       "      <td>NaN</td>\n",
       "    </tr>\n",
       "    <tr>\n",
       "      <th>0</th>\n",
       "      <td>15</td>\n",
       "      <td>e88aa3daea96c6e1a6f9b6a65e8b8c8d</td>\n",
       "      <td>{\"cutoff\": \"quantile_0.25\", \"eval_fairness_gro...</td>\n",
       "      <td>33.78591</td>\n",
       "      <td>89710</td>\n",
       "      <td>1.0</td>\n",
       "      <td>0.091144</td>\n",
       "      <td>0.886665</td>\n",
       "      <td>0.074287</td>\n",
       "      <td>0.909045</td>\n",
       "      <td>...</td>\n",
       "      <td>0.128875</td>\n",
       "      <td>0.166504</td>\n",
       "      <td>0.804204</td>\n",
       "      <td>0.713060</td>\n",
       "      <td>0.086993</td>\n",
       "      <td>0.064442</td>\n",
       "      <td>0.816748</td>\n",
       "      <td>0.742461</td>\n",
       "      <td>20540.0</td>\n",
       "      <td>69170.0</td>\n",
       "    </tr>\n",
       "  </tbody>\n",
       "</table>\n",
       "<p>4 rows × 50 columns</p>\n",
       "</div>"
      ],
      "text/plain": [
       "  run_no                       universe_id  \\\n",
       "0     15  e88aa3daea96c6e1a6f9b6a65e8b8c8d   \n",
       "0     15  e88aa3daea96c6e1a6f9b6a65e8b8c8d   \n",
       "0     15  e88aa3daea96c6e1a6f9b6a65e8b8c8d   \n",
       "0     15  e88aa3daea96c6e1a6f9b6a65e8b8c8d   \n",
       "\n",
       "                                   universe_settings  execution_time  \\\n",
       "0  {\"cutoff\": \"quantile_0.1\", \"eval_fairness_grou...        33.78591   \n",
       "0  {\"cutoff\": \"quantile_0.1\", \"eval_fairness_grou...        33.78591   \n",
       "0  {\"cutoff\": \"quantile_0.25\", \"eval_fairness_gro...        33.78591   \n",
       "0  {\"cutoff\": \"quantile_0.25\", \"eval_fairness_gro...        33.78591   \n",
       "\n",
       "   test_size_n  test_size_frac  fair_main_equalized_odds_difference  \\\n",
       "0        89710             1.0                             0.040616   \n",
       "0        89710             1.0                             0.040616   \n",
       "0        89710             1.0                             0.091144   \n",
       "0        89710             1.0                             0.091144   \n",
       "\n",
       "   fair_main_equalized_odds_ratio  fair_main_demographic_parity_difference  \\\n",
       "0                        0.956054                                 0.034302   \n",
       "0                        0.956054                                 0.034302   \n",
       "0                        0.886665                                 0.074287   \n",
       "0                        0.886665                                 0.074287   \n",
       "\n",
       "   fair_main_demographic_parity_ratio  ...  perf_grp_precision_0  \\\n",
       "0                            0.963148  ...                   NaN   \n",
       "0                            0.963148  ...              0.121554   \n",
       "0                            0.909045  ...                   NaN   \n",
       "0                            0.909045  ...              0.128875   \n",
       "\n",
       "   perf_grp_precision_1  perf_grp_false positive rate_0  \\\n",
       "0                   NaN                             NaN   \n",
       "0              0.144633                        0.924224   \n",
       "0                   NaN                             NaN   \n",
       "0              0.166504                        0.804204   \n",
       "\n",
       "   perf_grp_false positive rate_1  perf_grp_false negative rate_0  \\\n",
       "0                             NaN                             NaN   \n",
       "0                        0.883608                        0.018581   \n",
       "0                             NaN                             NaN   \n",
       "0                        0.713060                        0.086993   \n",
       "\n",
       "   perf_grp_false negative rate_1  perf_grp_selection rate_0  \\\n",
       "0                             NaN                        NaN   \n",
       "0                        0.018709                   0.930818   \n",
       "0                             NaN                        NaN   \n",
       "0                        0.064442                   0.816748   \n",
       "\n",
       "   perf_grp_selection rate_1  perf_grp_count_0  perf_grp_count_1  \n",
       "0                        NaN               NaN               NaN  \n",
       "0                   0.896516           20540.0           69170.0  \n",
       "0                        NaN               NaN               NaN  \n",
       "0                   0.742461           20540.0           69170.0  \n",
       "\n",
       "[4 rows x 50 columns]"
      ]
     },
     "execution_count": 66,
     "metadata": {},
     "output_type": "execute_result"
    }
   ],
   "source": [
    "final_output = universe_analysis.generate_final_output(\n",
    "    y_pred_prob=probs_test,\n",
    "    y_test=y_true,\n",
    "    org_test=org_test,\n",
    "    filter_data=filter_sub_universe_data,\n",
    "    cp_metrics_df=cp_metrics_df,\n",
    "    save=True,\n",
    ")\n",
    "final_output"
   ]
  }
 ],
 "metadata": {
  "celltoolbar": "Tags",
  "kernelspec": {
   "display_name": "Python (CMA Fairness)",
   "language": "python",
   "name": "cma_fair_env"
  },
  "language_info": {
   "codemirror_mode": {
    "name": "ipython",
    "version": 3
   },
   "file_extension": ".py",
   "mimetype": "text/x-python",
   "name": "python",
   "nbconvert_exporter": "python",
   "pygments_lexer": "ipython3",
   "version": "3.10.12"
  },
  "papermill": {
   "default_parameters": {},
   "duration": 49.941211,
   "end_time": "2025-08-05T16:27:38.021481",
   "environment_variables": {},
   "exception": null,
   "input_path": "universe_analysis.ipynb",
   "output_path": "output/runs/15/notebooks/m_15-e88aa3daea96c6e1a6f9b6a65e8b8c8d.ipynb",
   "parameters": {
    "output_dir": "output",
    "run_no": "15",
    "seed": "2023",
    "universe": "{\"cutoff\": [\"quantile_0.1\", \"quantile_0.25\"], \"eval_fairness_grouping\": [\"majority-minority\", \"nationality-all\"], \"exclude_features\": \"sex\", \"exclude_subgroups\": \"drop-non-german\", \"model\": \"rf\", \"scale\": \"do-not-scale\", \"training_size\": \"1k\", \"training_year\": \"2012_14\"}",
    "universe_id": "e88aa3daea96c6e1a6f9b6a65e8b8c8d"
   },
   "start_time": "2025-08-05T16:26:48.080270",
   "version": "2.6.0"
  }
 },
 "nbformat": 4,
 "nbformat_minor": 5
}